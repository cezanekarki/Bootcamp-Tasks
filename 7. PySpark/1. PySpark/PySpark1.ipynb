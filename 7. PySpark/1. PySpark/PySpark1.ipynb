{
 "cells": [
  {
   "cell_type": "markdown",
   "metadata": {
    "application/vnd.databricks.v1+cell": {
     "cellMetadata": {
      "byteLimit": 2048000,
      "rowLimit": 10000
     },
     "inputWidgets": {},
     "nuid": "9f077c9c-3888-4c0e-b24b-4d86570f7244",
     "showTitle": false,
     "title": ""
    }
   },
   "source": [
    "**Creating a Spark Session**"
   ]
  },
  {
   "cell_type": "code",
   "execution_count": 0,
   "metadata": {
    "application/vnd.databricks.v1+cell": {
     "cellMetadata": {
      "byteLimit": 2048000,
      "rowLimit": 10000
     },
     "inputWidgets": {},
     "nuid": "3cf90f45-adac-4762-9451-a50c19b53fc7",
     "showTitle": false,
     "title": ""
    }
   },
   "outputs": [
    {
     "output_type": "display_data",
     "data": {
      "text/html": [
       "\n",
       "            <div>\n",
       "                <p><b>SparkSession - hive</b></p>\n",
       "                \n",
       "        <div>\n",
       "            <p><b>SparkContext</b></p>\n",
       "\n",
       "            <p><a href=\"/?o=6332182203914549#setting/sparkui/0212-044520-br8s742y/driver-2624864755366790814\">Spark UI</a></p>\n",
       "\n",
       "            <dl>\n",
       "              <dt>Version</dt>\n",
       "                <dd><code>v3.3.2</code></dd>\n",
       "              <dt>Master</dt>\n",
       "                <dd><code>local[8]</code></dd>\n",
       "              <dt>AppName</dt>\n",
       "                <dd><code>Databricks Shell</code></dd>\n",
       "            </dl>\n",
       "        </div>\n",
       "        \n",
       "            </div>\n",
       "        "
      ]
     },
     "metadata": {
      "application/vnd.databricks.v1+output": {
       "addedWidgets": {},
       "arguments": {},
       "data": "\n            <div>\n                <p><b>SparkSession - hive</b></p>\n                \n        <div>\n            <p><b>SparkContext</b></p>\n\n            <p><a href=\"/?o=6332182203914549#setting/sparkui/0212-044520-br8s742y/driver-2624864755366790814\">Spark UI</a></p>\n\n            <dl>\n              <dt>Version</dt>\n                <dd><code>v3.3.2</code></dd>\n              <dt>Master</dt>\n                <dd><code>local[8]</code></dd>\n              <dt>AppName</dt>\n                <dd><code>Databricks Shell</code></dd>\n            </dl>\n        </div>\n        \n            </div>\n        ",
       "datasetInfos": [],
       "metadata": {},
       "removedWidgets": [],
       "textData": null,
       "type": "htmlSandbox"
      }
     },
     "output_type": "display_data"
    }
   ],
   "source": [
    "from pyspark.sql import SparkSession as ss\n",
    "spark = ss.builder.getOrCreate()\n",
    "spark"
   ]
  },
  {
   "cell_type": "markdown",
   "metadata": {
    "application/vnd.databricks.v1+cell": {
     "cellMetadata": {
      "byteLimit": 2048000,
      "rowLimit": 10000
     },
     "inputWidgets": {},
     "nuid": "67ece167-80c2-4bcb-bf1c-37cf4792de90",
     "showTitle": false,
     "title": ""
    }
   },
   "source": [
    "**Checking for Upload**"
   ]
  },
  {
   "cell_type": "code",
   "execution_count": 0,
   "metadata": {
    "application/vnd.databricks.v1+cell": {
     "cellMetadata": {
      "byteLimit": 2048000,
      "rowLimit": 10000
     },
     "inputWidgets": {},
     "nuid": "907c91d4-70cb-473d-a665-1913dc42e40c",
     "showTitle": false,
     "title": ""
    }
   },
   "outputs": [
    {
     "output_type": "display_data",
     "data": {
      "text/html": [
       "<style scoped>\n",
       "  .table-result-container {\n",
       "    max-height: 300px;\n",
       "    overflow: auto;\n",
       "  }\n",
       "  table, th, td {\n",
       "    border: 1px solid black;\n",
       "    border-collapse: collapse;\n",
       "  }\n",
       "  th, td {\n",
       "    padding: 5px;\n",
       "  }\n",
       "  th {\n",
       "    text-align: left;\n",
       "  }\n",
       "</style><div class='table-result-container'><table class='table-result'><thead style='background-color: white'><tr><th>path</th><th>name</th><th>size</th><th>modificationTime</th></tr></thead><tbody><tr><td>dbfs:/FileStore/tables/Address-1.xlsx</td><td>Address-1.xlsx</td><td>151315</td><td>1706076168000</td></tr><tr><td>dbfs:/FileStore/tables/Address-10.xlsx</td><td>Address-10.xlsx</td><td>151315</td><td>1706170593000</td></tr><tr><td>dbfs:/FileStore/tables/Address-11.xlsx</td><td>Address-11.xlsx</td><td>151315</td><td>1706174664000</td></tr><tr><td>dbfs:/FileStore/tables/Address-2.xlsx</td><td>Address-2.xlsx</td><td>151315</td><td>1706076328000</td></tr><tr><td>dbfs:/FileStore/tables/Address-3.xlsx</td><td>Address-3.xlsx</td><td>151315</td><td>1706076419000</td></tr><tr><td>dbfs:/FileStore/tables/Address-4.xlsx</td><td>Address-4.xlsx</td><td>151315</td><td>1706077911000</td></tr><tr><td>dbfs:/FileStore/tables/Address-5.xlsx</td><td>Address-5.xlsx</td><td>151315</td><td>1706079849000</td></tr><tr><td>dbfs:/FileStore/tables/Address-6.xlsx</td><td>Address-6.xlsx</td><td>151315</td><td>1706079981000</td></tr><tr><td>dbfs:/FileStore/tables/Address-7.xlsx</td><td>Address-7.xlsx</td><td>151315</td><td>1706159285000</td></tr><tr><td>dbfs:/FileStore/tables/Address-8.xlsx</td><td>Address-8.xlsx</td><td>151315</td><td>1706159471000</td></tr><tr><td>dbfs:/FileStore/tables/Address-9.xlsx</td><td>Address-9.xlsx</td><td>151315</td><td>1706170516000</td></tr><tr><td>dbfs:/FileStore/tables/Address.xlsx</td><td>Address.xlsx</td><td>151315</td><td>1706075733000</td></tr><tr><td>dbfs:/FileStore/tables/Detail-1.csv</td><td>Detail-1.csv</td><td>208476</td><td>1706073750000</td></tr><tr><td>dbfs:/FileStore/tables/Detail-2.csv</td><td>Detail-2.csv</td><td>208476</td><td>1706073853000</td></tr><tr><td>dbfs:/FileStore/tables/Detail-3.csv</td><td>Detail-3.csv</td><td>208476</td><td>1706074097000</td></tr><tr><td>dbfs:/FileStore/tables/Detail-4.csv</td><td>Detail-4.csv</td><td>208476</td><td>1706160363000</td></tr><tr><td>dbfs:/FileStore/tables/Detail-5.csv</td><td>Detail-5.csv</td><td>208476</td><td>1706171090000</td></tr><tr><td>dbfs:/FileStore/tables/Detail-6.csv</td><td>Detail-6.csv</td><td>208476</td><td>1706174664000</td></tr><tr><td>dbfs:/FileStore/tables/Detail.csv</td><td>Detail.csv</td><td>208476</td><td>1706073682000</td></tr><tr><td>dbfs:/FileStore/tables/Project_1-1.xlsx</td><td>Project_1-1.xlsx</td><td>422808</td><td>1706433220000</td></tr><tr><td>dbfs:/FileStore/tables/Project_1.xlsx</td><td>Project_1.xlsx</td><td>422808</td><td>1706176486000</td></tr><tr><td>dbfs:/FileStore/tables/contactinfo-1.txt</td><td>contactinfo-1.txt</td><td>49969</td><td>1706170878000</td></tr><tr><td>dbfs:/FileStore/tables/contactinfo-2.txt</td><td>contactinfo-2.txt</td><td>49969</td><td>1706171261000</td></tr><tr><td>dbfs:/FileStore/tables/contactinfo-3.txt</td><td>contactinfo-3.txt</td><td>49969</td><td>1706174664000</td></tr><tr><td>dbfs:/FileStore/tables/contactinfo.txt</td><td>contactinfo.txt</td><td>49969</td><td>1706159970000</td></tr><tr><td>dbfs:/FileStore/tables/csv/</td><td>csv/</td><td>0</td><td>0</td></tr><tr><td>dbfs:/FileStore/tables/header-1.json</td><td>header-1.json</td><td>115560</td><td>1706171340000</td></tr><tr><td>dbfs:/FileStore/tables/header-2.json</td><td>header-2.json</td><td>115560</td><td>1706174664000</td></tr><tr><td>dbfs:/FileStore/tables/header.json</td><td>header.json</td><td>115560</td><td>1706160640000</td></tr><tr><td>dbfs:/FileStore/tables/json/</td><td>json/</td><td>0</td><td>0</td></tr><tr><td>dbfs:/FileStore/tables/parquet/</td><td>parquet/</td><td>0</td><td>0</td></tr></tbody></table></div>"
      ]
     },
     "metadata": {
      "application/vnd.databricks.v1+output": {
       "addedWidgets": {},
       "aggData": [],
       "aggError": "",
       "aggOverflow": false,
       "aggSchema": [],
       "aggSeriesLimitReached": false,
       "aggType": "",
       "arguments": {},
       "columnCustomDisplayInfos": {},
       "data": [
        [
         "dbfs:/FileStore/tables/Address-1.xlsx",
         "Address-1.xlsx",
         151315,
         1706076168000
        ],
        [
         "dbfs:/FileStore/tables/Address-10.xlsx",
         "Address-10.xlsx",
         151315,
         1706170593000
        ],
        [
         "dbfs:/FileStore/tables/Address-11.xlsx",
         "Address-11.xlsx",
         151315,
         1706174664000
        ],
        [
         "dbfs:/FileStore/tables/Address-2.xlsx",
         "Address-2.xlsx",
         151315,
         1706076328000
        ],
        [
         "dbfs:/FileStore/tables/Address-3.xlsx",
         "Address-3.xlsx",
         151315,
         1706076419000
        ],
        [
         "dbfs:/FileStore/tables/Address-4.xlsx",
         "Address-4.xlsx",
         151315,
         1706077911000
        ],
        [
         "dbfs:/FileStore/tables/Address-5.xlsx",
         "Address-5.xlsx",
         151315,
         1706079849000
        ],
        [
         "dbfs:/FileStore/tables/Address-6.xlsx",
         "Address-6.xlsx",
         151315,
         1706079981000
        ],
        [
         "dbfs:/FileStore/tables/Address-7.xlsx",
         "Address-7.xlsx",
         151315,
         1706159285000
        ],
        [
         "dbfs:/FileStore/tables/Address-8.xlsx",
         "Address-8.xlsx",
         151315,
         1706159471000
        ],
        [
         "dbfs:/FileStore/tables/Address-9.xlsx",
         "Address-9.xlsx",
         151315,
         1706170516000
        ],
        [
         "dbfs:/FileStore/tables/Address.xlsx",
         "Address.xlsx",
         151315,
         1706075733000
        ],
        [
         "dbfs:/FileStore/tables/Detail-1.csv",
         "Detail-1.csv",
         208476,
         1706073750000
        ],
        [
         "dbfs:/FileStore/tables/Detail-2.csv",
         "Detail-2.csv",
         208476,
         1706073853000
        ],
        [
         "dbfs:/FileStore/tables/Detail-3.csv",
         "Detail-3.csv",
         208476,
         1706074097000
        ],
        [
         "dbfs:/FileStore/tables/Detail-4.csv",
         "Detail-4.csv",
         208476,
         1706160363000
        ],
        [
         "dbfs:/FileStore/tables/Detail-5.csv",
         "Detail-5.csv",
         208476,
         1706171090000
        ],
        [
         "dbfs:/FileStore/tables/Detail-6.csv",
         "Detail-6.csv",
         208476,
         1706174664000
        ],
        [
         "dbfs:/FileStore/tables/Detail.csv",
         "Detail.csv",
         208476,
         1706073682000
        ],
        [
         "dbfs:/FileStore/tables/Project_1-1.xlsx",
         "Project_1-1.xlsx",
         422808,
         1706433220000
        ],
        [
         "dbfs:/FileStore/tables/Project_1.xlsx",
         "Project_1.xlsx",
         422808,
         1706176486000
        ],
        [
         "dbfs:/FileStore/tables/contactinfo-1.txt",
         "contactinfo-1.txt",
         49969,
         1706170878000
        ],
        [
         "dbfs:/FileStore/tables/contactinfo-2.txt",
         "contactinfo-2.txt",
         49969,
         1706171261000
        ],
        [
         "dbfs:/FileStore/tables/contactinfo-3.txt",
         "contactinfo-3.txt",
         49969,
         1706174664000
        ],
        [
         "dbfs:/FileStore/tables/contactinfo.txt",
         "contactinfo.txt",
         49969,
         1706159970000
        ],
        [
         "dbfs:/FileStore/tables/csv/",
         "csv/",
         0,
         0
        ],
        [
         "dbfs:/FileStore/tables/header-1.json",
         "header-1.json",
         115560,
         1706171340000
        ],
        [
         "dbfs:/FileStore/tables/header-2.json",
         "header-2.json",
         115560,
         1706174664000
        ],
        [
         "dbfs:/FileStore/tables/header.json",
         "header.json",
         115560,
         1706160640000
        ],
        [
         "dbfs:/FileStore/tables/json/",
         "json/",
         0,
         0
        ],
        [
         "dbfs:/FileStore/tables/parquet/",
         "parquet/",
         0,
         0
        ]
       ],
       "datasetInfos": [],
       "dbfsResultPath": null,
       "isJsonSchema": true,
       "metadata": {
        "isDbfsCommandResult": false
       },
       "overflow": false,
       "plotOptions": {
        "customPlotOptions": {},
        "displayType": "table",
        "pivotAggregation": null,
        "pivotColumns": null,
        "xColumns": null,
        "yColumns": null
       },
       "removedWidgets": [],
       "schema": [
        {
         "metadata": "{}",
         "name": "path",
         "type": "\"string\""
        },
        {
         "metadata": "{}",
         "name": "name",
         "type": "\"string\""
        },
        {
         "metadata": "{}",
         "name": "size",
         "type": "\"long\""
        },
        {
         "metadata": "{}",
         "name": "modificationTime",
         "type": "\"long\""
        }
       ],
       "type": "table"
      }
     },
     "output_type": "display_data"
    }
   ],
   "source": [
    "%fs ls dbfs:////FileStore/tables"
   ]
  },
  {
   "cell_type": "code",
   "execution_count": 0,
   "metadata": {
    "application/vnd.databricks.v1+cell": {
     "cellMetadata": {
      "byteLimit": 2048000,
      "rowLimit": 10000
     },
     "inputWidgets": {},
     "nuid": "604ad7c0-a28f-4cb2-8041-eb107ee5f64a",
     "showTitle": false,
     "title": ""
    }
   },
   "outputs": [
    {
     "output_type": "stream",
     "name": "stdout",
     "output_type": "stream",
     "text": [
      "Out[172]: '\\ndbfs:/FileStore/tables/csv/batch.csv\\ndbfs:/FileStore/tables/json/1_20220101.json\\ndbfs:/FileStore/tables/json/10_20220101.json\\ndbfs:/FileStore/tables/json/2_20220101.json\\ndbfs:/FileStore/tables/json/4_20220101.json\\ndbfs:/FileStore/tables/json/8_20220101.json\\ndbfs:/FileStore/tables/json/9_20220101.json\\ndbfs:/FileStore/tables/json/batch.jsonl\\ndbfs:/FileStore/tables/parquet/reference.parquet\\n'"
     ]
    }
   ],
   "source": [
    "\"\"\"\n",
    "dbfs:/FileStore/tables/csv/batch.csv\n",
    "dbfs:/FileStore/tables/json/1_20220101.json\n",
    "dbfs:/FileStore/tables/json/10_20220101.json\n",
    "dbfs:/FileStore/tables/json/2_20220101.json\n",
    "dbfs:/FileStore/tables/json/4_20220101.json\n",
    "dbfs:/FileStore/tables/json/8_20220101.json\n",
    "dbfs:/FileStore/tables/json/9_20220101.json\n",
    "dbfs:/FileStore/tables/json/batch.jsonl\n",
    "dbfs:/FileStore/tables/parquet/reference.parquet\n",
    "\"\"\""
   ]
  },
  {
   "cell_type": "markdown",
   "metadata": {
    "application/vnd.databricks.v1+cell": {
     "cellMetadata": {
      "byteLimit": 2048000,
      "rowLimit": 10000
     },
     "inputWidgets": {},
     "nuid": "4778d28f-af85-40ca-bad8-18f88cf4afda",
     "showTitle": false,
     "title": ""
    }
   },
   "source": [
    "**Loading Files into SIngle DF**"
   ]
  },
  {
   "cell_type": "markdown",
   "metadata": {
    "application/vnd.databricks.v1+cell": {
     "cellMetadata": {
      "byteLimit": 2048000,
      "rowLimit": 10000
     },
     "inputWidgets": {},
     "nuid": "372b4145-5601-457f-9d77-769689e4a1dc",
     "showTitle": false,
     "title": ""
    }
   },
   "source": [
    "CSV"
   ]
  },
  {
   "cell_type": "code",
   "execution_count": 0,
   "metadata": {
    "application/vnd.databricks.v1+cell": {
     "cellMetadata": {
      "byteLimit": 2048000,
      "rowLimit": 10000
     },
     "inputWidgets": {},
     "nuid": "b8736d81-235b-45f0-b2bb-63ee7dc7e729",
     "showTitle": false,
     "title": ""
    }
   },
   "outputs": [],
   "source": [
    "#df_csv = spark.read.format(\"csv\").load(\"dbfs:/FileStore/tables/csv/batch.csv\")\n",
    "\n",
    "#For Headers\n",
    "df_csv = spark.read.format(\"csv\").option(\"Header\", True).load(\"dbfs:/FileStore/tables/csv/batch.csv\")"
   ]
  },
  {
   "cell_type": "code",
   "execution_count": 0,
   "metadata": {
    "application/vnd.databricks.v1+cell": {
     "cellMetadata": {
      "byteLimit": 2048000,
      "rowLimit": 10000
     },
     "inputWidgets": {},
     "nuid": "5e7b6511-31d8-442a-923d-c88b57ca85f7",
     "showTitle": false,
     "title": ""
    }
   },
   "outputs": [
    {
     "output_type": "stream",
     "name": "stdout",
     "output_type": "stream",
     "text": [
      "Out[174]: pyspark.sql.dataframe.DataFrame"
     ]
    }
   ],
   "source": [
    "type(df_csv)"
   ]
  },
  {
   "cell_type": "code",
   "execution_count": 0,
   "metadata": {
    "application/vnd.databricks.v1+cell": {
     "cellMetadata": {
      "byteLimit": 2048000,
      "rowLimit": 10000
     },
     "inputWidgets": {},
     "nuid": "a7858511-fd00-4ce6-9040-3002f180931d",
     "showTitle": false,
     "title": ""
    }
   },
   "outputs": [
    {
     "output_type": "stream",
     "name": "stdout",
     "output_type": "stream",
     "text": [
      "+---+-----+----------+----+------+----------+\n| id| name|       dob| age|salary|department|\n+---+-----+----------+----+------+----------+\n|  1| John|1992-05-12|  30| 70000|        IT|\n|  2|Alice|1997-02-28|  25| 60000|        HR|\n|  3|  Bob|      null|null| 80000|        IT|\n|  4|Emily|1994-11-22|  28| 65000|   Finance|\n+---+-----+----------+----+------+----------+\n\n"
     ]
    }
   ],
   "source": [
    "df_csv.show()"
   ]
  },
  {
   "cell_type": "code",
   "execution_count": 0,
   "metadata": {
    "application/vnd.databricks.v1+cell": {
     "cellMetadata": {
      "byteLimit": 2048000,
      "rowLimit": 10000
     },
     "inputWidgets": {},
     "nuid": "5d3ea64d-d4b4-4244-8d92-640e91ecf222",
     "showTitle": false,
     "title": ""
    }
   },
   "outputs": [
    {
     "output_type": "stream",
     "name": "stdout",
     "output_type": "stream",
     "text": [
      "root\n |-- id: string (nullable = true)\n |-- name: string (nullable = true)\n |-- dob: string (nullable = true)\n |-- age: string (nullable = true)\n |-- salary: string (nullable = true)\n |-- department: string (nullable = true)\n\n"
     ]
    }
   ],
   "source": [
    "df_csv.printSchema()"
   ]
  },
  {
   "cell_type": "markdown",
   "metadata": {
    "application/vnd.databricks.v1+cell": {
     "cellMetadata": {
      "byteLimit": 2048000,
      "rowLimit": 10000
     },
     "inputWidgets": {},
     "nuid": "bf3c87b1-0f2a-4660-97d4-4b05528051b2",
     "showTitle": false,
     "title": ""
    }
   },
   "source": [
    "Instead of loading all data string, loading them as desired data type"
   ]
  },
  {
   "cell_type": "code",
   "execution_count": 0,
   "metadata": {
    "application/vnd.databricks.v1+cell": {
     "cellMetadata": {
      "byteLimit": 2048000,
      "rowLimit": 10000
     },
     "inputWidgets": {},
     "nuid": "c2b53d06-f08a-4c05-80b3-65a366bf1a43",
     "showTitle": false,
     "title": ""
    }
   },
   "outputs": [],
   "source": [
    "from pyspark.sql.types import StructType, StructField, IntegerType, StringType, DateType"
   ]
  },
  {
   "cell_type": "code",
   "execution_count": 0,
   "metadata": {
    "application/vnd.databricks.v1+cell": {
     "cellMetadata": {
      "byteLimit": 2048000,
      "rowLimit": 10000
     },
     "inputWidgets": {},
     "nuid": "323b6901-df2d-46ef-9242-a11264cde3b9",
     "showTitle": false,
     "title": ""
    }
   },
   "outputs": [],
   "source": [
    "sch = StructType([\n",
    "    StructField(\"id\", IntegerType()),\n",
    "    StructField(\"name\", StringType()),\n",
    "    StructField(\"dob\", DateType()),\n",
    "    StructField(\"age\", IntegerType()),\n",
    "    StructField(\"salary\", IntegerType()),\n",
    "    StructField(\"department\", StringType()),\n",
    "])"
   ]
  },
  {
   "cell_type": "code",
   "execution_count": 0,
   "metadata": {
    "application/vnd.databricks.v1+cell": {
     "cellMetadata": {
      "byteLimit": 2048000,
      "rowLimit": 10000
     },
     "inputWidgets": {},
     "nuid": "c7b5eb4f-e471-4905-a3af-da475833c0f0",
     "showTitle": false,
     "title": ""
    }
   },
   "outputs": [],
   "source": [
    "df_csv = spark.read.format(\"csv\").schema(sch).option(\"Header\", True).load(\"dbfs:/FileStore/tables/csv/batch.csv\")"
   ]
  },
  {
   "cell_type": "code",
   "execution_count": 0,
   "metadata": {
    "application/vnd.databricks.v1+cell": {
     "cellMetadata": {
      "byteLimit": 2048000,
      "rowLimit": 10000
     },
     "inputWidgets": {},
     "nuid": "468f1a40-cdad-4f64-86bc-e017e88dd145",
     "showTitle": false,
     "title": ""
    }
   },
   "outputs": [
    {
     "output_type": "stream",
     "name": "stdout",
     "output_type": "stream",
     "text": [
      "+---+-----+----------+----+------+----------+\n| id| name|       dob| age|salary|department|\n+---+-----+----------+----+------+----------+\n|  1| John|1992-05-12|  30| 70000|        IT|\n|  2|Alice|1997-02-28|  25| 60000|        HR|\n|  3|  Bob|      null|null| 80000|        IT|\n|  4|Emily|1994-11-22|  28| 65000|   Finance|\n+---+-----+----------+----+------+----------+\n\n"
     ]
    }
   ],
   "source": [
    "df_csv.show()"
   ]
  },
  {
   "cell_type": "code",
   "execution_count": 0,
   "metadata": {
    "application/vnd.databricks.v1+cell": {
     "cellMetadata": {
      "byteLimit": 2048000,
      "rowLimit": 10000
     },
     "inputWidgets": {},
     "nuid": "0733e306-eb7f-4f9e-a48c-5ce832befafc",
     "showTitle": false,
     "title": ""
    }
   },
   "outputs": [
    {
     "output_type": "stream",
     "name": "stdout",
     "output_type": "stream",
     "text": [
      "root\n |-- id: integer (nullable = true)\n |-- name: string (nullable = true)\n |-- dob: date (nullable = true)\n |-- age: integer (nullable = true)\n |-- salary: integer (nullable = true)\n |-- department: string (nullable = true)\n\n"
     ]
    }
   ],
   "source": [
    "df_csv.printSchema()"
   ]
  },
  {
   "cell_type": "markdown",
   "metadata": {
    "application/vnd.databricks.v1+cell": {
     "cellMetadata": {
      "byteLimit": 2048000,
      "rowLimit": 10000
     },
     "inputWidgets": {},
     "nuid": "8398b8bf-2c52-4999-9ac3-382355b19ba1",
     "showTitle": false,
     "title": ""
    }
   },
   "source": [
    "JSON"
   ]
  },
  {
   "cell_type": "code",
   "execution_count": 0,
   "metadata": {
    "application/vnd.databricks.v1+cell": {
     "cellMetadata": {
      "byteLimit": 2048000,
      "rowLimit": 10000
     },
     "inputWidgets": {},
     "nuid": "278200b7-0917-470e-a576-d9cf78e4f6e9",
     "showTitle": false,
     "title": ""
    }
   },
   "outputs": [],
   "source": [
    "#df_json = spark.read.format(\"json\").schema(sch).option(\"Header\", True).load(\"dbfs:/FileStore/tables/json\")\n",
    "#no need for headers because uses key of json\n",
    "df_json = spark.read.format(\"json\").schema(sch).load(\"dbfs:/FileStore/tables/json\")"
   ]
  },
  {
   "cell_type": "code",
   "execution_count": 0,
   "metadata": {
    "application/vnd.databricks.v1+cell": {
     "cellMetadata": {
      "byteLimit": 2048000,
      "rowLimit": 10000
     },
     "inputWidgets": {},
     "nuid": "8de44e68-909f-4da5-ac18-556bffc70ba4",
     "showTitle": false,
     "title": ""
    }
   },
   "outputs": [
    {
     "output_type": "stream",
     "name": "stdout",
     "output_type": "stream",
     "text": [
      "+---+------+----------+----+------+----------+\n| id|  name|       dob| age|salary|department|\n+---+------+----------+----+------+----------+\n|  1|  John|1992-05-12|  30| 70000|        IT|\n|  2| Alice|1997-02-28|  25| 60000|        HR|\n|  3|   Bob|      null|null| 80000|        IT|\n|  4| Emily|1994-11-22|  28| 65000|   Finance|\n|  5| David|1981-12-18|  41| 90000|        HR|\n|  6| Susan|1989-07-05|  33| 75000|   Finance|\n|  7|  Mike|1976-03-15|  46| 95000|        IT|\n| 10|Sophie|1992-06-30|  30| 62000|   Finance|\n|  2| Alice|1997-02-28|  25| 90000|   Finance|\n|  4| Emily|1994-11-22|  28| 70000|   Finance|\n|  9| James|1983-10-14|  39| 87000|        IT|\n|  1|  John|1992-05-12|  30| 70000|        IT|\n|  8|  Lisa|1995-08-20|  27| 58000|        HR|\n+---+------+----------+----+------+----------+\n\n"
     ]
    }
   ],
   "source": [
    "df_json.show()"
   ]
  },
  {
   "cell_type": "code",
   "execution_count": 0,
   "metadata": {
    "application/vnd.databricks.v1+cell": {
     "cellMetadata": {
      "byteLimit": 2048000,
      "rowLimit": 10000
     },
     "inputWidgets": {},
     "nuid": "da488b59-8b47-436c-87d5-958b3d50e29d",
     "showTitle": false,
     "title": ""
    }
   },
   "outputs": [
    {
     "output_type": "stream",
     "name": "stdout",
     "output_type": "stream",
     "text": [
      "+---+------+----------+----+------+----------+\n| id|  name|       dob| age|salary|department|\n+---+------+----------+----+------+----------+\n|  1|  John|1992-05-12|  30| 70000|        IT|\n|  1|  John|1992-05-12|  30| 70000|        IT|\n|  2| Alice|1997-02-28|  25| 90000|   Finance|\n|  2| Alice|1997-02-28|  25| 60000|        HR|\n|  3|   Bob|      null|null| 80000|        IT|\n|  4| Emily|1994-11-22|  28| 70000|   Finance|\n|  4| Emily|1994-11-22|  28| 65000|   Finance|\n|  5| David|1981-12-18|  41| 90000|        HR|\n|  6| Susan|1989-07-05|  33| 75000|   Finance|\n|  7|  Mike|1976-03-15|  46| 95000|        IT|\n|  8|  Lisa|1995-08-20|  27| 58000|        HR|\n|  9| James|1983-10-14|  39| 87000|        IT|\n| 10|Sophie|1992-06-30|  30| 62000|   Finance|\n+---+------+----------+----+------+----------+\n\n"
     ]
    }
   ],
   "source": [
    "df_json_order = df_json.orderBy(\"id\")\n",
    "df_json_order.show()"
   ]
  },
  {
   "cell_type": "code",
   "execution_count": 0,
   "metadata": {
    "application/vnd.databricks.v1+cell": {
     "cellMetadata": {
      "byteLimit": 2048000,
      "rowLimit": 10000
     },
     "inputWidgets": {},
     "nuid": "9452c60f-8534-48ad-98a2-552be0008da3",
     "showTitle": false,
     "title": ""
    }
   },
   "outputs": [
    {
     "output_type": "stream",
     "name": "stdout",
     "output_type": "stream",
     "text": [
      "root\n |-- id: integer (nullable = true)\n |-- name: string (nullable = true)\n |-- dob: date (nullable = true)\n |-- age: integer (nullable = true)\n |-- salary: integer (nullable = true)\n |-- department: string (nullable = true)\n\n"
     ]
    }
   ],
   "source": [
    "df_json_order.printSchema()"
   ]
  },
  {
   "cell_type": "markdown",
   "metadata": {
    "application/vnd.databricks.v1+cell": {
     "cellMetadata": {
      "byteLimit": 2048000,
      "rowLimit": 10000
     },
     "inputWidgets": {},
     "nuid": "e9337ed6-1139-4d1b-b206-5652094cb633",
     "showTitle": false,
     "title": ""
    }
   },
   "source": [
    "**Union**"
   ]
  },
  {
   "cell_type": "code",
   "execution_count": 0,
   "metadata": {
    "application/vnd.databricks.v1+cell": {
     "cellMetadata": {
      "byteLimit": 2048000,
      "rowLimit": 10000
     },
     "inputWidgets": {},
     "nuid": "9932a977-8495-4afd-b1ba-b399924d3c21",
     "showTitle": false,
     "title": ""
    }
   },
   "outputs": [
    {
     "output_type": "stream",
     "name": "stdout",
     "output_type": "stream",
     "text": [
      "+---+------+----------+----+------+----------+\n| id|  name|       dob| age|salary|department|\n+---+------+----------+----+------+----------+\n|  1|  John|1992-05-12|  30| 70000|        IT|\n|  2| Alice|1997-02-28|  25| 60000|        HR|\n|  3|   Bob|      null|null| 80000|        IT|\n|  4| Emily|1994-11-22|  28| 65000|   Finance|\n|  1|  John|1992-05-12|  30| 70000|        IT|\n|  1|  John|1992-05-12|  30| 70000|        IT|\n|  2| Alice|1997-02-28|  25| 60000|        HR|\n|  2| Alice|1997-02-28|  25| 90000|   Finance|\n|  3|   Bob|      null|null| 80000|        IT|\n|  4| Emily|1994-11-22|  28| 65000|   Finance|\n|  4| Emily|1994-11-22|  28| 70000|   Finance|\n|  5| David|1981-12-18|  41| 90000|        HR|\n|  6| Susan|1989-07-05|  33| 75000|   Finance|\n|  7|  Mike|1976-03-15|  46| 95000|        IT|\n|  8|  Lisa|1995-08-20|  27| 58000|        HR|\n|  9| James|1983-10-14|  39| 87000|        IT|\n| 10|Sophie|1992-06-30|  30| 62000|   Finance|\n+---+------+----------+----+------+----------+\n\n17\n"
     ]
    }
   ],
   "source": [
    "df = df_csv.union(df_json_order)\n",
    "df.show()\n",
    "print(df.count())"
   ]
  },
  {
   "cell_type": "code",
   "execution_count": 0,
   "metadata": {
    "application/vnd.databricks.v1+cell": {
     "cellMetadata": {
      "byteLimit": 2048000,
      "rowLimit": 10000
     },
     "inputWidgets": {},
     "nuid": "30601d10-d408-4a97-9dfd-10a7bf895d7b",
     "showTitle": false,
     "title": ""
    }
   },
   "outputs": [
    {
     "output_type": "stream",
     "name": "stdout",
     "output_type": "stream",
     "text": [
      "['id', 'name', 'dob', 'age', 'salary', 'department'] ['id', 'name', 'dob', 'age', 'salary', 'department']\n"
     ]
    }
   ],
   "source": [
    "print(df_csv.columns, df_json_order.columns)"
   ]
  },
  {
   "cell_type": "markdown",
   "metadata": {
    "application/vnd.databricks.v1+cell": {
     "cellMetadata": {
      "byteLimit": 2048000,
      "rowLimit": 10000
     },
     "inputWidgets": {},
     "nuid": "80687491-0f8c-40bd-8e6a-ad92760fa225",
     "showTitle": false,
     "title": ""
    }
   },
   "source": [
    "Columns of both datasets are not in same order"
   ]
  },
  {
   "cell_type": "code",
   "execution_count": 0,
   "metadata": {
    "application/vnd.databricks.v1+cell": {
     "cellMetadata": {
      "byteLimit": 2048000,
      "rowLimit": 10000
     },
     "inputWidgets": {},
     "nuid": "dff0b1ec-6a0b-46a1-9f64-289d97ab930c",
     "showTitle": false,
     "title": ""
    }
   },
   "outputs": [],
   "source": [
    "#df_json_order = df_json_order.select(df_csv) "
   ]
  },
  {
   "cell_type": "code",
   "execution_count": 0,
   "metadata": {
    "application/vnd.databricks.v1+cell": {
     "cellMetadata": {
      "byteLimit": 2048000,
      "rowLimit": 10000
     },
     "inputWidgets": {},
     "nuid": "0b321ba8-1d36-4b0e-99bc-2521ebeb0b5e",
     "showTitle": false,
     "title": ""
    }
   },
   "outputs": [
    {
     "output_type": "stream",
     "name": "stdout",
     "output_type": "stream",
     "text": [
      "root\n |-- id: integer (nullable = true)\n |-- name: string (nullable = true)\n |-- dob: date (nullable = true)\n |-- age: integer (nullable = true)\n |-- salary: integer (nullable = true)\n |-- department: string (nullable = true)\n\n"
     ]
    }
   ],
   "source": [
    "df.printSchema()"
   ]
  },
  {
   "cell_type": "markdown",
   "metadata": {
    "application/vnd.databricks.v1+cell": {
     "cellMetadata": {
      "byteLimit": 2048000,
      "rowLimit": 10000
     },
     "inputWidgets": {},
     "nuid": "8ab6f217-65af-4210-91f7-e5b2ee9a6fbb",
     "showTitle": false,
     "title": ""
    }
   },
   "source": [
    "UnionAll is depricated in PySPark. Union() and UnionAll() both act as UnionAll(). Meaning the duplicates are not trucated."
   ]
  },
  {
   "cell_type": "code",
   "execution_count": 0,
   "metadata": {
    "application/vnd.databricks.v1+cell": {
     "cellMetadata": {
      "byteLimit": 2048000,
      "rowLimit": 10000
     },
     "inputWidgets": {},
     "nuid": "221075b7-6230-47da-92b6-150cba8b9075",
     "showTitle": false,
     "title": ""
    }
   },
   "outputs": [],
   "source": [
    "df = df.dropDuplicates()"
   ]
  },
  {
   "cell_type": "code",
   "execution_count": 0,
   "metadata": {
    "application/vnd.databricks.v1+cell": {
     "cellMetadata": {
      "byteLimit": 2048000,
      "rowLimit": 10000
     },
     "inputWidgets": {},
     "nuid": "8d5d2fdf-f7b8-44e4-9d21-2672bf7fce92",
     "showTitle": false,
     "title": ""
    }
   },
   "outputs": [
    {
     "output_type": "stream",
     "name": "stdout",
     "output_type": "stream",
     "text": [
      "12\n"
     ]
    }
   ],
   "source": [
    "print(df.count())"
   ]
  },
  {
   "cell_type": "markdown",
   "metadata": {
    "application/vnd.databricks.v1+cell": {
     "cellMetadata": {
      "byteLimit": 2048000,
      "rowLimit": 10000
     },
     "inputWidgets": {},
     "nuid": "5815bf5b-9c43-4f01-bc4f-8cc45d6d29a8",
     "showTitle": false,
     "title": ""
    }
   },
   "source": [
    "**TRANSFORMATION**"
   ]
  },
  {
   "cell_type": "code",
   "execution_count": 0,
   "metadata": {
    "application/vnd.databricks.v1+cell": {
     "cellMetadata": {
      "byteLimit": 2048000,
      "rowLimit": 10000
     },
     "inputWidgets": {},
     "nuid": "bb19c282-7357-4c41-8120-04864d99f264",
     "showTitle": false,
     "title": ""
    }
   },
   "outputs": [
    {
     "output_type": "stream",
     "name": "stdout",
     "output_type": "stream",
     "text": [
      "+---+------+----------+----+------+----------+\n| id|  name|       dob| age|salary|department|\n+---+------+----------+----+------+----------+\n|  1|  John|1992-05-12|  30| 70000|        IT|\n|  2| Alice|1997-02-28|  25| 60000|        HR|\n|  2| Alice|1997-02-28|  25| 90000|   Finance|\n|  3|   Bob|      null|null| 80000|        IT|\n|  4| Emily|1994-11-22|  28| 65000|   Finance|\n|  4| Emily|1994-11-22|  28| 70000|   Finance|\n|  5| David|1981-12-18|  41| 90000|        HR|\n|  6| Susan|1989-07-05|  33| 75000|   Finance|\n|  7|  Mike|1976-03-15|  46| 95000|        IT|\n|  8|  Lisa|1995-08-20|  27| 58000|        HR|\n|  9| James|1983-10-14|  39| 87000|        IT|\n| 10|Sophie|1992-06-30|  30| 62000|   Finance|\n+---+------+----------+----+------+----------+\n\n"
     ]
    }
   ],
   "source": [
    "df = df.orderBy(\"id\")\n",
    "df.show()"
   ]
  },
  {
   "cell_type": "code",
   "execution_count": 0,
   "metadata": {
    "application/vnd.databricks.v1+cell": {
     "cellMetadata": {
      "byteLimit": 2048000,
      "rowLimit": 10000
     },
     "inputWidgets": {},
     "nuid": "1e7117c6-8fb4-4ab0-afc0-8fc4f55b672d",
     "showTitle": false,
     "title": ""
    }
   },
   "outputs": [],
   "source": [
    "from pyspark.sql import functions as F\n",
    "#from pyspark.sql.functions import *\n",
    "#from pyspark.sql.functions import col,max,min"
   ]
  },
  {
   "cell_type": "markdown",
   "metadata": {
    "application/vnd.databricks.v1+cell": {
     "cellMetadata": {
      "byteLimit": 2048000,
      "rowLimit": 10000
     },
     "inputWidgets": {},
     "nuid": "5ab3868c-79b9-485d-8293-a3599796f3c0",
     "showTitle": false,
     "title": ""
    }
   },
   "source": [
    "Ways to select"
   ]
  },
  {
   "cell_type": "code",
   "execution_count": 0,
   "metadata": {
    "application/vnd.databricks.v1+cell": {
     "cellMetadata": {
      "byteLimit": 2048000,
      "rowLimit": 10000
     },
     "inputWidgets": {},
     "nuid": "ced280a9-525c-4c29-8982-a0e9326ad87f",
     "showTitle": false,
     "title": ""
    }
   },
   "outputs": [
    {
     "output_type": "stream",
     "name": "stdout",
     "output_type": "stream",
     "text": [
      "+------+----+\n|salary| age|\n+------+----+\n| 70000|  30|\n| 60000|  25|\n| 90000|  25|\n| 80000|null|\n| 65000|  28|\n| 70000|  28|\n| 90000|  41|\n| 75000|  33|\n| 95000|  46|\n| 58000|  27|\n| 87000|  39|\n| 62000|  30|\n+------+----+\n\n+------+----+\n|salary| age|\n+------+----+\n| 70000|  30|\n| 60000|  25|\n| 90000|  25|\n| 80000|null|\n| 65000|  28|\n| 70000|  28|\n| 90000|  41|\n| 75000|  33|\n| 95000|  46|\n| 58000|  27|\n| 87000|  39|\n| 62000|  30|\n+------+----+\n\n+------+----+\n|salary| age|\n+------+----+\n| 70000|  30|\n| 60000|  25|\n| 90000|  25|\n| 80000|null|\n| 65000|  28|\n| 70000|  28|\n| 90000|  41|\n| 75000|  33|\n| 95000|  46|\n| 58000|  27|\n| 87000|  39|\n| 62000|  30|\n+------+----+\n\n+------+----+\n|salary| age|\n+------+----+\n| 70000|  30|\n| 60000|  25|\n| 90000|  25|\n| 80000|null|\n| 65000|  28|\n| 70000|  28|\n| 90000|  41|\n| 75000|  33|\n| 95000|  46|\n| 58000|  27|\n| 87000|  39|\n| 62000|  30|\n+------+----+\n\n"
     ]
    }
   ],
   "source": [
    "df.select(\n",
    "    \"salary\",\n",
    "    \"age\"\n",
    ").show()\n",
    "\n",
    "df.select(\n",
    "    [\"salary\",\"age\"]\n",
    ").show()\n",
    "\n",
    "df.select(\n",
    "    df.salary,\n",
    "    df.age\n",
    ").show()\n",
    "\n",
    "df.select(\n",
    "    F.col(\"salary\"),\n",
    "    F.col(\"age\")\n",
    ").show()"
   ]
  },
  {
   "cell_type": "code",
   "execution_count": 0,
   "metadata": {
    "application/vnd.databricks.v1+cell": {
     "cellMetadata": {
      "byteLimit": 2048000,
      "rowLimit": 10000
     },
     "inputWidgets": {},
     "nuid": "f60e152c-7af9-4c13-87c2-fc94c729f07e",
     "showTitle": false,
     "title": ""
    }
   },
   "outputs": [
    {
     "output_type": "stream",
     "name": "stdout",
     "output_type": "stream",
     "text": [
      "+--------------------------+---------------------------------------+---------------------------------------+\n|(salary + (salary * 0.05))|(year(current_timestamp()) - year(dob))|(year(current_timestamp()) - year(dob))|\n+--------------------------+---------------------------------------+---------------------------------------+\n|                   73500.0|                                     32|                                     32|\n|                   63000.0|                                     27|                                     27|\n|                   94500.0|                                     27|                                     27|\n|                   84000.0|                                   null|                                   null|\n|                   68250.0|                                     30|                                     30|\n|                   73500.0|                                     30|                                     30|\n|                   94500.0|                                     43|                                     43|\n|                   78750.0|                                     35|                                     35|\n|                   99750.0|                                     48|                                     48|\n|                   60900.0|                                     29|                                     29|\n|                   91350.0|                                     41|                                     41|\n|                   65100.0|                                     32|                                     32|\n+--------------------------+---------------------------------------+---------------------------------------+\n\n"
     ]
    }
   ],
   "source": [
    "df.select(\n",
    "    df.salary + 0.05 *df.salary,\n",
    "    F.year(F.current_timestamp()) - F.year(\"dob\"),\n",
    "    F.year(F.current_timestamp()) - F.year(F.col(\"dob\"))\n",
    ").show()"
   ]
  },
  {
   "cell_type": "code",
   "execution_count": 0,
   "metadata": {
    "application/vnd.databricks.v1+cell": {
     "cellMetadata": {
      "byteLimit": 2048000,
      "rowLimit": 10000
     },
     "inputWidgets": {},
     "nuid": "5bca4802-3a0c-435c-8e4e-62de27bc2ece",
     "showTitle": false,
     "title": ""
    }
   },
   "outputs": [
    {
     "output_type": "stream",
     "name": "stdout",
     "output_type": "stream",
     "text": [
      "+---+------+----------+----+------+----------+\n| id|  name|       dob| age|salary|department|\n+---+------+----------+----+------+----------+\n|  1|  John|1992-05-12|  30| 70000|        IT|\n|  2| Alice|1997-02-28|  25| 60000|        HR|\n|  2| Alice|1997-02-28|  25| 90000|   Finance|\n|  3|   Bob|      null|null| 80000|        IT|\n|  4| Emily|1994-11-22|  28| 65000|   Finance|\n|  4| Emily|1994-11-22|  28| 70000|   Finance|\n|  5| David|1981-12-18|  41| 90000|        HR|\n|  6| Susan|1989-07-05|  33| 75000|   Finance|\n|  7|  Mike|1976-03-15|  46| 95000|        IT|\n|  8|  Lisa|1995-08-20|  27| 58000|        HR|\n|  9| James|1983-10-14|  39| 87000|        IT|\n| 10|Sophie|1992-06-30|  30| 62000|   Finance|\n+---+------+----------+----+------+----------+\n\n"
     ]
    }
   ],
   "source": [
    "df.select(\n",
    "    F.col(\"*\")\n",
    ").show()"
   ]
  },
  {
   "cell_type": "markdown",
   "metadata": {
    "application/vnd.databricks.v1+cell": {
     "cellMetadata": {
      "byteLimit": 2048000,
      "rowLimit": 10000
     },
     "inputWidgets": {},
     "nuid": "c7066749-5591-4dff-ab8d-48daa73eaa9e",
     "showTitle": false,
     "title": ""
    }
   },
   "source": [
    "**Alias, Select and Expr**"
   ]
  },
  {
   "cell_type": "code",
   "execution_count": 0,
   "metadata": {
    "application/vnd.databricks.v1+cell": {
     "cellMetadata": {
      "byteLimit": 2048000,
      "rowLimit": 10000
     },
     "inputWidgets": {},
     "nuid": "299c395b-6b35-421c-937f-085c50f29bfb",
     "showTitle": false,
     "title": ""
    }
   },
   "outputs": [
    {
     "output_type": "stream",
     "name": "stdout",
     "output_type": "stream",
     "text": [
      "+--------------------------+------------+---------------------------------------+----+\n|(salary + (salary * 0.05))|salary_raise|(year(current_timestamp()) - year(dob))| age|\n+--------------------------+------------+---------------------------------------+----+\n|                   73500.0|    73500.00|                                     32|  32|\n|                   63000.0|    63000.00|                                     27|  27|\n|                   94500.0|    94500.00|                                     27|  27|\n|                   84000.0|    84000.00|                                   null|null|\n|                   68250.0|    68250.00|                                     30|  30|\n|                   73500.0|    73500.00|                                     30|  30|\n|                   94500.0|    94500.00|                                     43|  43|\n|                   78750.0|    78750.00|                                     35|  35|\n|                   99750.0|    99750.00|                                     48|  48|\n|                   60900.0|    60900.00|                                     29|  29|\n|                   91350.0|    91350.00|                                     41|  41|\n|                   65100.0|    65100.00|                                     32|  32|\n+--------------------------+------------+---------------------------------------+----+\n\n"
     ]
    }
   ],
   "source": [
    "df.select(\n",
    "    df.salary + 0.05 *df.salary,\n",
    "    F.expr('salary + 0.05 * salary').alias(\"salary_raise\"),\n",
    "    F.year(F.current_timestamp()) - F.year(\"dob\"),\n",
    "    (F.year(F.current_timestamp()) - F.year(F.col(\"dob\"))).alias(\"age\")\n",
    ").show()"
   ]
  },
  {
   "cell_type": "markdown",
   "metadata": {
    "application/vnd.databricks.v1+cell": {
     "cellMetadata": {
      "byteLimit": 2048000,
      "rowLimit": 10000
     },
     "inputWidgets": {},
     "nuid": "666237c4-c862-475c-a9fa-c94383e79f43",
     "showTitle": false,
     "title": ""
    }
   },
   "source": [
    "**WithColumn**"
   ]
  },
  {
   "cell_type": "code",
   "execution_count": 0,
   "metadata": {
    "application/vnd.databricks.v1+cell": {
     "cellMetadata": {
      "byteLimit": 2048000,
      "rowLimit": 10000
     },
     "inputWidgets": {},
     "nuid": "52fd2149-77e0-4511-baa1-c6290ec754a6",
     "showTitle": false,
     "title": ""
    }
   },
   "outputs": [
    {
     "output_type": "stream",
     "name": "stdout",
     "output_type": "stream",
     "text": [
      "Out[198]: '\\ndf = df.withColumn(\\n  \"salary_raise\",\\n  (F.col(\"salary\") + 0.5 * F.col(\"salary\"))\\n)\\ndf = df.withColumn(\\n  \"salary_raise_10_perc\"\\n  (F.col(\"salary\") + 0.5 * F.col(\"salary\"))\\n)\\n'"
     ]
    }
   ],
   "source": [
    "\"\"\"\n",
    "df = df.withColumn(\n",
    "  \"salary_raise\",\n",
    "  (F.col(\"salary\") + 0.5 * F.col(\"salary\"))\n",
    ")\n",
    "df = df.withColumn(\n",
    "  \"salary_raise_10_perc\"\n",
    "  (F.col(\"salary\") + 0.5 * F.col(\"salary\"))\n",
    ")\n",
    "\"\"\""
   ]
  },
  {
   "cell_type": "code",
   "execution_count": 0,
   "metadata": {
    "application/vnd.databricks.v1+cell": {
     "cellMetadata": {
      "byteLimit": 2048000,
      "rowLimit": 10000
     },
     "inputWidgets": {},
     "nuid": "9c96345f-3efc-4764-b125-be72b27bbc90",
     "showTitle": false,
     "title": ""
    }
   },
   "outputs": [
    {
     "output_type": "stream",
     "name": "stdout",
     "output_type": "stream",
     "text": [
      "+---+------+----------+----+------+----------+------------+--------------------+\n| id|  name|       dob| age|salary|department|salary_raise|salary_raise_10_perc|\n+---+------+----------+----+------+----------+------------+--------------------+\n|  1|  John|1992-05-12|  30| 70000|        IT|    105000.0|            105000.0|\n|  2| Alice|1997-02-28|  25| 60000|        HR|     90000.0|             90000.0|\n|  2| Alice|1997-02-28|  25| 90000|   Finance|    135000.0|            135000.0|\n|  3|   Bob|      null|null| 80000|        IT|    120000.0|            120000.0|\n|  4| Emily|1994-11-22|  28| 65000|   Finance|     97500.0|             97500.0|\n|  4| Emily|1994-11-22|  28| 70000|   Finance|    105000.0|            105000.0|\n|  5| David|1981-12-18|  41| 90000|        HR|    135000.0|            135000.0|\n|  6| Susan|1989-07-05|  33| 75000|   Finance|    112500.0|            112500.0|\n|  7|  Mike|1976-03-15|  46| 95000|        IT|    142500.0|            142500.0|\n|  8|  Lisa|1995-08-20|  27| 58000|        HR|     87000.0|             87000.0|\n|  9| James|1983-10-14|  39| 87000|        IT|    130500.0|            130500.0|\n| 10|Sophie|1992-06-30|  30| 62000|   Finance|     93000.0|             93000.0|\n+---+------+----------+----+------+----------+------------+--------------------+\n\n"
     ]
    }
   ],
   "source": [
    "df = df.withColumn(\n",
    "  \"salary_raise\",\n",
    "  (F.col(\"salary\") + 0.5 * F.col(\"salary\"))\n",
    ").withColumn(\n",
    "  \"salary_raise_10_perc\",\n",
    "  (F.col(\"salary\") + 0.5 * F.col(\"salary\"))\n",
    ")\n",
    "df.show()"
   ]
  },
  {
   "cell_type": "code",
   "execution_count": 0,
   "metadata": {
    "application/vnd.databricks.v1+cell": {
     "cellMetadata": {
      "byteLimit": 2048000,
      "rowLimit": 10000
     },
     "inputWidgets": {},
     "nuid": "ecd44464-dc77-4778-8d8a-5dab9b360c09",
     "showTitle": false,
     "title": ""
    }
   },
   "outputs": [
    {
     "output_type": "stream",
     "name": "stdout",
     "output_type": "stream",
     "text": [
      "+---+------+----------+----+------+----------+------------+--------------------+\n| id|  name|       dob| age|salary|department|salary_raise|salary_raise_10_perc|\n+---+------+----------+----+------+----------+------------+--------------------+\n|  1|  John|1992-05-12|  32| 70000|        IT|     73500.0|            105000.0|\n|  2| Alice|1997-02-28|  27| 60000|        HR|     63000.0|             90000.0|\n|  2| Alice|1997-02-28|  27| 90000|   Finance|     94500.0|            135000.0|\n|  3|   Bob|      null|null| 80000|        IT|     84000.0|            120000.0|\n|  4| Emily|1994-11-22|  30| 65000|   Finance|     68250.0|             97500.0|\n|  4| Emily|1994-11-22|  30| 70000|   Finance|     73500.0|            105000.0|\n|  5| David|1981-12-18|  43| 90000|        HR|     94500.0|            135000.0|\n|  6| Susan|1989-07-05|  35| 75000|   Finance|     78750.0|            112500.0|\n|  7|  Mike|1976-03-15|  48| 95000|        IT|     99750.0|            142500.0|\n|  8|  Lisa|1995-08-20|  29| 58000|        HR|     60900.0|             87000.0|\n|  9| James|1983-10-14|  41| 87000|        IT|     91350.0|            130500.0|\n| 10|Sophie|1992-06-30|  32| 62000|   Finance|     65100.0|             93000.0|\n+---+------+----------+----+------+----------+------------+--------------------+\n\n"
     ]
    }
   ],
   "source": [
    "df = df.withColumns(\n",
    "    {\n",
    "        \"salary_raise\": F.col(\"salary\") + 0.05 * F.col(\"salary\"),\n",
    "        \"age\": F.year(F.current_timestamp()) - F.year(F.col(\"dob\"))\n",
    "    }\n",
    ")\n",
    "df.show()"
   ]
  },
  {
   "cell_type": "markdown",
   "metadata": {
    "application/vnd.databricks.v1+cell": {
     "cellMetadata": {
      "byteLimit": 2048000,
      "rowLimit": 10000
     },
     "inputWidgets": {},
     "nuid": "8c2ccf59-ba1b-46c7-85c8-db3f7050aa4a",
     "showTitle": false,
     "title": ""
    }
   },
   "source": [
    "Using Filter"
   ]
  },
  {
   "cell_type": "code",
   "execution_count": 0,
   "metadata": {
    "application/vnd.databricks.v1+cell": {
     "cellMetadata": {
      "byteLimit": 2048000,
      "rowLimit": 10000
     },
     "inputWidgets": {},
     "nuid": "797611d1-036a-4005-b88a-02e8c13afb20",
     "showTitle": false,
     "title": ""
    }
   },
   "outputs": [
    {
     "output_type": "stream",
     "name": "stdout",
     "output_type": "stream",
     "text": [
      "+---+-----+----------+----+------+----------+------------+--------------------+\n| id| name|       dob| age|salary|department|salary_raise|salary_raise_10_perc|\n+---+-----+----------+----+------+----------+------------+--------------------+\n|  2|Alice|1997-02-28|  27| 90000|   Finance|     94500.0|            135000.0|\n|  3|  Bob|      null|null| 80000|        IT|     84000.0|            120000.0|\n|  5|David|1981-12-18|  43| 90000|        HR|     94500.0|            135000.0|\n|  6|Susan|1989-07-05|  35| 75000|   Finance|     78750.0|            112500.0|\n|  7| Mike|1976-03-15|  48| 95000|        IT|     99750.0|            142500.0|\n|  9|James|1983-10-14|  41| 87000|        IT|     91350.0|            130500.0|\n+---+-----+----------+----+------+----------+------------+--------------------+\n\n"
     ]
    }
   ],
   "source": [
    "df.filter(\n",
    "    F.col(\"salary_raise\")>=75000\n",
    ").show()"
   ]
  },
  {
   "cell_type": "code",
   "execution_count": 0,
   "metadata": {
    "application/vnd.databricks.v1+cell": {
     "cellMetadata": {
      "byteLimit": 2048000,
      "rowLimit": 10000
     },
     "inputWidgets": {},
     "nuid": "ec6703c0-4a3b-438a-97da-d29900753d0c",
     "showTitle": false,
     "title": ""
    }
   },
   "outputs": [
    {
     "output_type": "stream",
     "name": "stdout",
     "output_type": "stream",
     "text": [
      "+---+-----+----------+----+------+----------+------------+--------------------+\n| id| name|       dob| age|salary|department|salary_raise|salary_raise_10_perc|\n+---+-----+----------+----+------+----------+------------+--------------------+\n|  2|Alice|1997-02-28|  27| 90000|   Finance|     94500.0|            135000.0|\n|  3|  Bob|      null|null| 80000|        IT|     84000.0|            120000.0|\n|  5|David|1981-12-18|  43| 90000|        HR|     94500.0|            135000.0|\n|  6|Susan|1989-07-05|  35| 75000|   Finance|     78750.0|            112500.0|\n|  7| Mike|1976-03-15|  48| 95000|        IT|     99750.0|            142500.0|\n|  9|James|1983-10-14|  41| 87000|        IT|     91350.0|            130500.0|\n+---+-----+----------+----+------+----------+------------+--------------------+\n\n"
     ]
    }
   ],
   "source": [
    "df.where(\n",
    "    F.col(\"salary_raise\")>=75000\n",
    ").show()"
   ]
  },
  {
   "cell_type": "code",
   "execution_count": 0,
   "metadata": {
    "application/vnd.databricks.v1+cell": {
     "cellMetadata": {
      "byteLimit": 2048000,
      "rowLimit": 10000
     },
     "inputWidgets": {},
     "nuid": "487f99fb-10e1-413c-9b53-9132306a5b76",
     "showTitle": false,
     "title": ""
    }
   },
   "outputs": [
    {
     "output_type": "stream",
     "name": "stdout",
     "output_type": "stream",
     "text": [
      "+---+------+----------+----+------+----------+------------+--------------------+------------+\n| id|  name|       dob| age|salary|department|salary_raise|salary_raise_10_perc|   age_group|\n+---+------+----------+----+------+----------+------------+--------------------+------------+\n|  1|  John|1992-05-12|  32| 70000|        IT|     73500.0|            105000.0|    31 to 40|\n|  2| Alice|1997-02-28|  27| 60000|        HR|     63000.0|             90000.0|    21 to 30|\n|  2| Alice|1997-02-28|  27| 90000|   Finance|     94500.0|            135000.0|    21 to 30|\n|  3|   Bob|      null|null| 80000|        IT|     84000.0|            120000.0|More than 40|\n|  4| Emily|1994-11-22|  30| 65000|   Finance|     68250.0|             97500.0|    21 to 30|\n|  4| Emily|1994-11-22|  30| 70000|   Finance|     73500.0|            105000.0|    21 to 30|\n|  5| David|1981-12-18|  43| 90000|        HR|     94500.0|            135000.0|More than 40|\n|  6| Susan|1989-07-05|  35| 75000|   Finance|     78750.0|            112500.0|    31 to 40|\n|  7|  Mike|1976-03-15|  48| 95000|        IT|     99750.0|            142500.0|More than 40|\n|  8|  Lisa|1995-08-20|  29| 58000|        HR|     60900.0|             87000.0|    21 to 30|\n|  9| James|1983-10-14|  41| 87000|        IT|     91350.0|            130500.0|More than 40|\n| 10|Sophie|1992-06-30|  32| 62000|   Finance|     65100.0|             93000.0|    31 to 40|\n+---+------+----------+----+------+----------+------------+--------------------+------------+\n\n"
     ]
    }
   ],
   "source": [
    "df = df.withColumn(\n",
    "    \"age_group\",\n",
    "    F.when(\n",
    "        F.col(\"age\") <=20,\n",
    "        \"Upto 20\"\n",
    "    ).when(\n",
    "        (\n",
    "            (F.col(\"age\") >20) &\n",
    "            (F.col(\"age\") <=30)\n",
    "        ),\n",
    "        \"21 to 30\"\n",
    "    ).when (\n",
    "        (\n",
    "            (F.col(\"age\") > 30) &\n",
    "            (F.col(\"age\") <= 40)\n",
    "        ),\n",
    "        \"31 to 40\"\n",
    "    ).otherwise(\n",
    "        \"More than 40\"\n",
    "    )\n",
    ")\n",
    "\n",
    "df.show()"
   ]
  },
  {
   "cell_type": "code",
   "execution_count": 0,
   "metadata": {
    "application/vnd.databricks.v1+cell": {
     "cellMetadata": {
      "byteLimit": 2048000,
      "rowLimit": 10000
     },
     "inputWidgets": {},
     "nuid": "4b84d74a-6a5c-4267-b53e-dcd0e8a31612",
     "showTitle": false,
     "title": ""
    }
   },
   "outputs": [
    {
     "output_type": "stream",
     "name": "stdout",
     "output_type": "stream",
     "text": [
      "+---+------+----------+----+------+----------+------------+--------------------+------------+\n| id|  name|       dob| age|salary|department|salary_raise|salary_raise_10_perc|   age_group|\n+---+------+----------+----+------+----------+------------+--------------------+------------+\n|  1|  John|1992-05-12|  32| 70000|        IT|     73500.0|            105000.0|        John|\n|  2| Alice|1997-02-28|  27| 60000|        HR|     63000.0|             90000.0|    21 to 30|\n|  2| Alice|1997-02-28|  27| 90000|   Finance|     94500.0|            135000.0|    21 to 30|\n|  3|   Bob|      null|null| 80000|        IT|     84000.0|            120000.0|More than 40|\n|  4| Emily|1994-11-22|  30| 65000|   Finance|     68250.0|             97500.0|    21 to 30|\n|  4| Emily|1994-11-22|  30| 70000|   Finance|     73500.0|            105000.0|    21 to 30|\n|  5| David|1981-12-18|  43| 90000|        HR|     94500.0|            135000.0|More than 40|\n|  6| Susan|1989-07-05|  35| 75000|   Finance|     78750.0|            112500.0|       Susan|\n|  7|  Mike|1976-03-15|  48| 95000|        IT|     99750.0|            142500.0|More than 40|\n|  8|  Lisa|1995-08-20|  29| 58000|        HR|     60900.0|             87000.0|    21 to 30|\n|  9| James|1983-10-14|  41| 87000|        IT|     91350.0|            130500.0|More than 40|\n| 10|Sophie|1992-06-30|  32| 62000|   Finance|     65100.0|             93000.0|      Sophie|\n+---+------+----------+----+------+----------+------------+--------------------+------------+\n\n"
     ]
    }
   ],
   "source": [
    "df = df.withColumn(\n",
    "    \"age_group\",\n",
    "    F.when(\n",
    "        F.col(\"age\") <=20,\n",
    "        \"Upto 20\"\n",
    "    ).when(\n",
    "        (\n",
    "            (F.col(\"age\") >20) &\n",
    "            (F.col(\"age\") <=30)\n",
    "        ),\n",
    "        \"21 to 30\"\n",
    "    ).when (\n",
    "        (\n",
    "            (F.col(\"age\") > 30) &\n",
    "            (F.col(\"age\") <= 40)\n",
    "        ),\n",
    "        F.col(\"name\") #col value can be assign instead of contant value\n",
    "    ).otherwise(\n",
    "        \"More than 40\"\n",
    "    )\n",
    ")\n",
    "df.show()"
   ]
  },
  {
   "cell_type": "code",
   "execution_count": 0,
   "metadata": {
    "application/vnd.databricks.v1+cell": {
     "cellMetadata": {
      "byteLimit": 2048000,
      "rowLimit": 10000
     },
     "inputWidgets": {},
     "nuid": "8da482a7-97da-40cc-8278-e5872ca7192f",
     "showTitle": false,
     "title": ""
    }
   },
   "outputs": [
    {
     "output_type": "stream",
     "name": "stdout",
     "output_type": "stream",
     "text": [
      "+---+------+----------+----+------+----------+------------+--------------------+------------+----------------+\n| id|  name|       dob| age|salary|department|salary_raise|salary_raise_10_perc|   age_group|         company|\n+---+------+----------+----+------+----------+------------+--------------------+------------+----------------+\n|  1|  John|1992-05-12|  32| 70000|        IT|     73500.0|            105000.0|        John|Abascus Insights|\n|  2| Alice|1997-02-28|  27| 60000|        HR|     63000.0|             90000.0|    21 to 30|Abascus Insights|\n|  2| Alice|1997-02-28|  27| 90000|   Finance|     94500.0|            135000.0|    21 to 30|Abascus Insights|\n|  3|   Bob|      null|null| 80000|        IT|     84000.0|            120000.0|More than 40|Abascus Insights|\n|  4| Emily|1994-11-22|  30| 65000|   Finance|     68250.0|             97500.0|    21 to 30|Abascus Insights|\n|  4| Emily|1994-11-22|  30| 70000|   Finance|     73500.0|            105000.0|    21 to 30|Abascus Insights|\n|  5| David|1981-12-18|  43| 90000|        HR|     94500.0|            135000.0|More than 40|Abascus Insights|\n|  6| Susan|1989-07-05|  35| 75000|   Finance|     78750.0|            112500.0|       Susan|Abascus Insights|\n|  7|  Mike|1976-03-15|  48| 95000|        IT|     99750.0|            142500.0|More than 40|Abascus Insights|\n|  8|  Lisa|1995-08-20|  29| 58000|        HR|     60900.0|             87000.0|    21 to 30|Abascus Insights|\n|  9| James|1983-10-14|  41| 87000|        IT|     91350.0|            130500.0|More than 40|Abascus Insights|\n| 10|Sophie|1992-06-30|  32| 62000|   Finance|     65100.0|             93000.0|      Sophie|Abascus Insights|\n+---+------+----------+----+------+----------+------------+--------------------+------------+----------------+\n\n"
     ]
    }
   ],
   "source": [
    "df =df.withColumns(\n",
    "    {\n",
    "        \"company\": F.lit(\"Abascus Insights\")\n",
    "    }\n",
    ")\n",
    "\n",
    "df.show()"
   ]
  },
  {
   "cell_type": "markdown",
   "metadata": {
    "application/vnd.databricks.v1+cell": {
     "cellMetadata": {
      "byteLimit": 2048000,
      "rowLimit": 10000
     },
     "inputWidgets": {},
     "nuid": "0374bff4-bf07-4ebd-99b7-85e729e02c6a",
     "showTitle": false,
     "title": ""
    }
   },
   "source": [
    "*Nulls*"
   ]
  },
  {
   "cell_type": "code",
   "execution_count": 0,
   "metadata": {
    "application/vnd.databricks.v1+cell": {
     "cellMetadata": {
      "byteLimit": 2048000,
      "rowLimit": 10000
     },
     "inputWidgets": {},
     "nuid": "a71cc94d-d46b-47ba-ad5a-ec9c75053194",
     "showTitle": false,
     "title": ""
    }
   },
   "outputs": [
    {
     "output_type": "stream",
     "name": "stdout",
     "output_type": "stream",
     "text": [
      "+---+------+----------+---+------+----------+------------+--------------------+------------+----------------+---------+---------+\n| id|  name|       dob|age|salary|department|salary_raise|salary_raise_10_perc|   age_group|         company|has_dob_1|has_dob_2|\n+---+------+----------+---+------+----------+------------+--------------------+------------+----------------+---------+---------+\n|  1|  John|1992-05-12| 32| 70000|        IT|     73500.0|            105000.0|        John|Abascus Insights|     true|     true|\n|  2| Alice|1997-02-28| 27| 60000|        HR|     63000.0|             90000.0|    21 to 30|Abascus Insights|     true|     true|\n|  2| Alice|1997-02-28| 27| 90000|   Finance|     94500.0|            135000.0|    21 to 30|Abascus Insights|     true|     true|\n|  3|   Bob|      null| -1| 80000|        IT|     84000.0|            120000.0|More than 40|Abascus Insights|    false|    false|\n|  4| Emily|1994-11-22| 30| 65000|   Finance|     68250.0|             97500.0|    21 to 30|Abascus Insights|     true|     true|\n|  4| Emily|1994-11-22| 30| 70000|   Finance|     73500.0|            105000.0|    21 to 30|Abascus Insights|     true|     true|\n|  5| David|1981-12-18| 43| 90000|        HR|     94500.0|            135000.0|More than 40|Abascus Insights|     true|     true|\n|  6| Susan|1989-07-05| 35| 75000|   Finance|     78750.0|            112500.0|       Susan|Abascus Insights|     true|     true|\n|  7|  Mike|1976-03-15| 48| 95000|        IT|     99750.0|            142500.0|More than 40|Abascus Insights|     true|     true|\n|  8|  Lisa|1995-08-20| 29| 58000|        HR|     60900.0|             87000.0|    21 to 30|Abascus Insights|     true|     true|\n|  9| James|1983-10-14| 41| 87000|        IT|     91350.0|            130500.0|More than 40|Abascus Insights|     true|     true|\n| 10|Sophie|1992-06-30| 32| 62000|   Finance|     65100.0|             93000.0|      Sophie|Abascus Insights|     true|     true|\n+---+------+----------+---+------+----------+------------+--------------------+------------+----------------+---------+---------+\n\n"
     ]
    }
   ],
   "source": [
    "df = df.withColumns(\n",
    "  {\n",
    "    \"age\" : F.coalesce(\n",
    "      F.year(F.current_timestamp()) - F.year(F.col(\"dob\")),\n",
    "      F.lit(-1),\n",
    "    ),\n",
    "    \"has_dob_1\": ~(F.isnull(\"dob\")),\n",
    "    \"has_dob_2\": F.col(\"dob\").isNotNull()\n",
    "  }\n",
    ")\n",
    "df.show()"
   ]
  },
  {
   "cell_type": "markdown",
   "metadata": {
    "application/vnd.databricks.v1+cell": {
     "cellMetadata": {},
     "inputWidgets": {},
     "nuid": "8231a287-3630-45b0-ab51-34cdda05fd8e",
     "showTitle": false,
     "title": ""
    }
   },
   "source": [
    "**Dropping Columns**"
   ]
  },
  {
   "cell_type": "code",
   "execution_count": 0,
   "metadata": {
    "application/vnd.databricks.v1+cell": {
     "cellMetadata": {
      "byteLimit": 2048000,
      "rowLimit": 10000
     },
     "inputWidgets": {},
     "nuid": "af70bf8a-bb88-4256-a483-e55726005f68",
     "showTitle": false,
     "title": ""
    }
   },
   "outputs": [
    {
     "output_type": "stream",
     "name": "stdout",
     "output_type": "stream",
     "text": [
      "+---+------+----------+---+------+----------+------------+------------+\n| id|  name|       dob|age|salary|department|salary_raise|   age_group|\n+---+------+----------+---+------+----------+------------+------------+\n|  1|  John|1992-05-12| 32| 70000|        IT|     73500.0|        John|\n|  2| Alice|1997-02-28| 27| 60000|        HR|     63000.0|    21 to 30|\n|  2| Alice|1997-02-28| 27| 90000|   Finance|     94500.0|    21 to 30|\n|  3|   Bob|      null| -1| 80000|        IT|     84000.0|More than 40|\n|  4| Emily|1994-11-22| 30| 65000|   Finance|     68250.0|    21 to 30|\n|  4| Emily|1994-11-22| 30| 70000|   Finance|     73500.0|    21 to 30|\n|  5| David|1981-12-18| 43| 90000|        HR|     94500.0|More than 40|\n|  6| Susan|1989-07-05| 35| 75000|   Finance|     78750.0|       Susan|\n|  7|  Mike|1976-03-15| 48| 95000|        IT|     99750.0|More than 40|\n|  8|  Lisa|1995-08-20| 29| 58000|        HR|     60900.0|    21 to 30|\n|  9| James|1983-10-14| 41| 87000|        IT|     91350.0|More than 40|\n| 10|Sophie|1992-06-30| 32| 62000|   Finance|     65100.0|      Sophie|\n+---+------+----------+---+------+----------+------------+------------+\n\n"
     ]
    }
   ],
   "source": [
    "df = df.drop(\"company\", \"has_dob_1\", \"has_dob_2\", \"salary_raise_10_perc\")\n",
    "df.show()"
   ]
  },
  {
   "cell_type": "markdown",
   "metadata": {
    "application/vnd.databricks.v1+cell": {
     "cellMetadata": {},
     "inputWidgets": {},
     "nuid": "756cbab7-6318-4615-9f0f-97619329d5fb",
     "showTitle": false,
     "title": ""
    }
   },
   "source": [
    "withColumnRenamed"
   ]
  },
  {
   "cell_type": "code",
   "execution_count": 0,
   "metadata": {
    "application/vnd.databricks.v1+cell": {
     "cellMetadata": {
      "byteLimit": 2048000,
      "rowLimit": 10000
     },
     "inputWidgets": {},
     "nuid": "eb9ac570-20ca-4e26-8e46-06c9ff5cbaad",
     "showTitle": false,
     "title": ""
    }
   },
   "outputs": [
    {
     "output_type": "stream",
     "name": "stdout",
     "output_type": "stream",
     "text": [
      "+---+----------+----------+---+------+----------+------------+------------+\n| id|first_name|       dob|age|salary|department|salary_raise|   age_group|\n+---+----------+----------+---+------+----------+------------+------------+\n|  1|      John|1992-05-12| 32| 70000|        IT|     73500.0|        John|\n|  2|     Alice|1997-02-28| 27| 60000|        HR|     63000.0|    21 to 30|\n|  2|     Alice|1997-02-28| 27| 90000|   Finance|     94500.0|    21 to 30|\n|  3|       Bob|      null| -1| 80000|        IT|     84000.0|More than 40|\n|  4|     Emily|1994-11-22| 30| 65000|   Finance|     68250.0|    21 to 30|\n|  4|     Emily|1994-11-22| 30| 70000|   Finance|     73500.0|    21 to 30|\n|  5|     David|1981-12-18| 43| 90000|        HR|     94500.0|More than 40|\n|  6|     Susan|1989-07-05| 35| 75000|   Finance|     78750.0|       Susan|\n|  7|      Mike|1976-03-15| 48| 95000|        IT|     99750.0|More than 40|\n|  8|      Lisa|1995-08-20| 29| 58000|        HR|     60900.0|    21 to 30|\n|  9|     James|1983-10-14| 41| 87000|        IT|     91350.0|More than 40|\n| 10|    Sophie|1992-06-30| 32| 62000|   Finance|     65100.0|      Sophie|\n+---+----------+----------+---+------+----------+------------+------------+\n\n"
     ]
    }
   ],
   "source": [
    "df = df.withColumnRenamed(\"name\", \"first_name\")\n",
    "df.show()"
   ]
  },
  {
   "cell_type": "markdown",
   "metadata": {
    "application/vnd.databricks.v1+cell": {
     "cellMetadata": {},
     "inputWidgets": {},
     "nuid": "f308d088-a2e2-4dde-bc90-e1afdfaaed51",
     "showTitle": false,
     "title": ""
    }
   },
   "source": [
    "**Partition By**"
   ]
  },
  {
   "cell_type": "code",
   "execution_count": 0,
   "metadata": {
    "application/vnd.databricks.v1+cell": {
     "cellMetadata": {
      "byteLimit": 2048000,
      "rowLimit": 10000
     },
     "inputWidgets": {},
     "nuid": "fc7394cc-8f6a-49b8-b5c2-acd6c468fb8b",
     "showTitle": false,
     "title": ""
    }
   },
   "outputs": [],
   "source": [
    "from pyspark.sql import window"
   ]
  },
  {
   "cell_type": "code",
   "execution_count": 0,
   "metadata": {
    "application/vnd.databricks.v1+cell": {
     "cellMetadata": {},
     "inputWidgets": {},
     "nuid": "c2359419-71e7-4f8d-9cb4-12a60f9c11e4",
     "showTitle": false,
     "title": ""
    }
   },
   "outputs": [],
   "source": [
    "window = window.partitionBy(\"age_group\")\n",
    "\n",
    "df.withColumn(\n",
    "    \"min_age_in_group\"\n",
    ")"
   ]
  }
 ],
 "metadata": {
  "application/vnd.databricks.v1+notebook": {
   "dashboards": [],
   "language": "python",
   "notebookMetadata": {
    "mostRecentlyExecutedCommandWithImplicitDF": {
     "commandId": 1310613223611999,
     "dataframes": [
      "_sqldf"
     ]
    },
    "pythonIndentUnit": 4
   },
   "notebookName": "PySpark1",
   "widgets": {}
  }
 },
 "nbformat": 4,
 "nbformat_minor": 0
}
