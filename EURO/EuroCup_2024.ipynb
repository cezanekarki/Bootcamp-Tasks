{
 "cells": [
  {
   "cell_type": "code",
   "execution_count": 0,
   "metadata": {
    "application/vnd.databricks.v1+cell": {
     "cellMetadata": {},
     "inputWidgets": {},
     "nuid": "7583141c-e379-461d-b82f-ab4b5c353bed",
     "showTitle": false,
     "title": ""
    }
   },
   "outputs": [],
   "source": [
    "from pyspark.sql import SparkSession\n",
    "from pyspark.sql.functions import col, rand, row_number\n",
    "from pyspark.sql import functions as F \n",
    "from pyspark.sql.window import Window\n",
    "import random\n",
    "\n",
    "# Initialize SparkSession\n",
    "spark = SparkSession.builder \\\n",
    "    .appName(\"EuroCup2024\") \\\n",
    "    .getOrCreate()\n",
    "\n",
    "# European team names\n",
    "european_teams = [\n",
    "    (\"Germany\", \"A\"), (\"Scotland\", \"A\"), (\"Hungary\", \"A\"), (\"Switzerland\", \"A\"),\n",
    "    (\"Spain\", \"B\"), (\"Croatia\", \"B\"), (\"Italy\", \"B\"), (\"Albania\", \"B\"),\n",
    "    (\"Slovenia\", \"C\"), (\"Denmark\", \"C\"), (\"Serbia\", \"C\"), (\"England\", \"C\"), \n",
    "    (\"Finland\", \"D\"), (\"Nether lands\", \"D\"), (\"Austria\", \"D\"),(\"France\", \"D\"),\n",
    "    (\"Belgium\", \"E\"),(\"Slovakia\", \"E\"), (\"Romania\", \"E\"),(\"Iceland\", \"E\"),\n",
    "    (\"Türkiye\", \"F\"), (\"Greece\", \"F\"), (\"Portugal\", \"F\"), (\"Czech\", \"F\")\n",
    "]\n",
    "# Create DataFrame for Group Stage\n",
    "group_stage_df = spark.createDataFrame(european_teams, [\"teamname\", \"group\"])\n",
    "\n",
    "# Show the Group Stage table\n",
    "print(\"Table 1: Group Stage\")\n",
    "group_stage_df.show()\n"
   ]
  },
  {
   "cell_type": "code",
   "execution_count": 0,
   "metadata": {
    "application/vnd.databricks.v1+cell": {
     "cellMetadata": {},
     "inputWidgets": {},
     "nuid": "98ca2ee4-4b1a-4cce-bcee-19045502bb5c",
     "showTitle": false,
     "title": ""
    }
   },
   "outputs": [],
   "source": [
    "# This table is made according to official 'knockout phase' rules of the tournament(SOURCE wiKIpedia).\n",
    "values = [\n",
    "    ('ABCD', 'A', 'D', 'B', 'C'),\n",
    "    ( 'ABCE', 'A', 'E', 'B', 'C'),\n",
    "    ( 'ABCF', 'A', 'F', 'B', 'C'),\n",
    "    ( 'ABDE', 'D', 'E', 'A', 'B'),\n",
    "    ( 'ABDF', 'D', 'F', 'A', 'B'),\n",
    "    ( 'ABEF', 'E', 'F', 'B', 'A'),\n",
    "    ( 'ACDE', 'E', 'D', 'C', 'A'),\n",
    "    ( 'ACDF', 'F', 'D', 'C', 'A'),\n",
    "    ( 'ACEF', 'E', 'F', 'C', 'A'),\n",
    "    ( 'ADEF', 'E', 'F', 'D', 'A'),\n",
    "    ( 'BCDE', 'E', 'D', 'B', 'C'),\n",
    "    ( 'BCDF', 'F', 'D', 'C', 'B'),\n",
    "    ( 'BCEF', 'F', 'E', 'C', 'B'),\n",
    "    ( 'BDEF', 'F', 'E', 'D', 'B'),\n",
    "    ( 'CDEF', 'F', 'E', 'D', 'C')\n",
    "]\n",
    "\n",
    "df_knockout_phase = spark.createDataFrame(values, [\"Third_placed_qualified_teams\", \"B\", \"C\", \"E\", \"F\"])\n",
    "df_knockout_phase.show()\n"
   ]
  },
  {
   "cell_type": "code",
   "execution_count": 0,
   "metadata": {
    "application/vnd.databricks.v1+cell": {
     "cellMetadata": {},
     "inputWidgets": {},
     "nuid": "e32f77c9-d1f7-42e9-85ba-e1de14edb74e",
     "showTitle": false,
     "title": ""
    }
   },
   "outputs": [],
   "source": [
    "# Registering DataFrame as temporary view\n",
    "group_stage_df.createOrReplaceTempView(\"group_of_24\")\n",
    "\n",
    "# Executing SQL query\n",
    "group_of_16 = spark.sql(\"\"\"\n",
    "WITH cte4 AS (\n",
    "WITH cte3 AS (\n",
    "WITH cte2 AS (\n",
    "WITH cte1 AS (\n",
    "WITH cte AS (\n",
    "SELECT\n",
    "  a.teamname AS team1,\n",
    "  a.group AS group1,\n",
    "  1 AS mp ,\n",
    "  b.teamname AS team2,\n",
    "  b.group AS group2,\n",
    "  FLOOR(RAND() * 5) AS goals1,\n",
    "  FLOOR(RAND() * 5) AS goals2,\n",
    "  CASE \n",
    "    WHEN goals1 > goals2 THEN 3\n",
    "    WHEN goals1 == goals2 THEN 1\n",
    "    ELSE 0\n",
    "    END as point1,\n",
    "  CASE\n",
    "    WHEN goals2 > goals1 THEN 3\n",
    "    WHEN goals2 == goals1 THEN 1\n",
    "    ELSE 0\n",
    "    END as point2 ,\n",
    "  CASE\n",
    "    WHEN point1 == 3 THEN 1\n",
    "    ELSE 0\n",
    "    END as w1,\n",
    "  CASE\n",
    "    WHEN point2 == 3 THEN 1\n",
    "    ELSE 0\n",
    "    END as w2, \n",
    " CASE\n",
    "    WHEN point1 == 1 THEN 1\n",
    "    ELSE 0\n",
    "    END as d1,\n",
    "  CASE\n",
    "    WHEN point2 == 1 THEN 1\n",
    "    ELSE 0\n",
    "    END as d2,  \n",
    "  CASE\n",
    "    WHEN point1 == 0 THEN 1\n",
    "    ELSE 0\n",
    "    END as l1,\n",
    "  CASE\n",
    "    WHEN point2 == 0 THEN 1\n",
    "    ELSE 0\n",
    "    END as l2\n",
    "FROM\n",
    "  group_of_24 a\n",
    "CROSS JOIN\n",
    "  group_of_24 b\n",
    "ON\n",
    "  a.group = b.group AND a.teamname < b.teamname\n",
    ")\n",
    "select team1 as team,group1 as groups ,mp,goals1 as gf, goals2 as ga,point1 as pts ,w1 as w,d1 as d,l1 as l from cte \n",
    "union all\n",
    "select team2 as team,group2 as groups,mp,goals2 as gf, goals1 as ga,point2 as pts ,w2 as w,d2 as d,l2 as l from cte \n",
    ")\n",
    "select team, groups , sum(w) as w, sum(d) as d, sum(l) as l, sum(mp) as mp,sum(gf) as gf,sum(ga) as ga,sum(gf -ga) as gd,sum(pts) as pts \n",
    "from cte1 \n",
    "group by team,groups\n",
    "order by groups, pts desc, gd desc, gf desc\n",
    ")\n",
    "select *,\n",
    "row_number() over(partition by groups order by pts desc, gd desc, gf desc) as rank\n",
    "from cte2\n",
    ")\n",
    "\n",
    "select * \n",
    "from cte3\n",
    "where rank <= 3\n",
    "order by rank,pts desc,gd desc, gf desc\n",
    "limit 16\n",
    ")\n",
    "select * from cte4\"\"\")\n",
    "\n",
    "# Assume df is your DataFrame\n",
    "group_of_16 = group_of_16.withColumnRenamed(\"team\", \"Team\") \\\n",
    "       .withColumnRenamed(\"groups\", \"Groups\") \\\n",
    "       .withColumnRenamed(\"w\", \"Wins\") \\\n",
    "       .withColumnRenamed(\"d\", \"Draws\") \\\n",
    "       .withColumnRenamed(\"l\", \"Losses\") \\\n",
    "       .withColumnRenamed(\"mp\", \"MatchesPlayed\") \\\n",
    "       .withColumnRenamed(\"gf\", \"GoalsFor\") \\\n",
    "       .withColumnRenamed(\"ga\", \"GoalsAgainst\") \\\n",
    "       .withColumnRenamed(\"gd\", \"GoalDifference\") \\\n",
    "       .withColumnRenamed(\"pts\", \"Points\")\n",
    "\n",
    "group_of_16.display()"
   ]
  },
  {
   "cell_type": "code",
   "execution_count": 0,
   "metadata": {
    "application/vnd.databricks.v1+cell": {
     "cellMetadata": {},
     "inputWidgets": {},
     "nuid": "4a803c1b-df5a-4562-a606-abb7e43eb406",
     "showTitle": false,
     "title": ""
    }
   },
   "outputs": [],
   "source": [
    "group_of_16.createOrReplaceTempView(\"group_of_16\")\n",
    "df_knockout_phase.createOrReplaceTempView(\"df_knockout_phase\")"
   ]
  },
  {
   "cell_type": "code",
   "execution_count": 0,
   "metadata": {
    "application/vnd.databricks.v1+cell": {
     "cellMetadata": {},
     "inputWidgets": {},
     "nuid": "94ad3f94-5c61-4ce6-b637-fdb0c6ecdb04",
     "showTitle": false,
     "title": ""
    }
   },
   "outputs": [],
   "source": [
    "%sql\n",
    "WITH combo AS (\n",
    "WITH group_of_16_ordered AS (\n",
    "  SELECT * FROM group_of_16\n",
    "  WHERE rank = 3\n",
    "  ORDER BY groups\n",
    "  limit 4\n",
    ")\n",
    "SELECT  concat_ws('',array_agg(groups) )AS pattern\n",
    "FROM group_of_16_ordered\n",
    ")\n",
    "select * from\n",
    "combo\n",
    "left join df_knockout_phase\n",
    "on pattern = Third_placed_qualified_teams"
   ]
  },
  {
   "cell_type": "code",
   "execution_count": 0,
   "metadata": {
    "application/vnd.databricks.v1+cell": {
     "cellMetadata": {},
     "inputWidgets": {},
     "nuid": "9b769583-59d0-4ff3-8426-5174d7cc7a11",
     "showTitle": false,
     "title": ""
    }
   },
   "outputs": [],
   "source": [
    "%sql\n",
    "CREATE or replace table group_of_16_brackets as(\n",
    "WITH combination AS (\n",
    "WITH pattern AS (\n",
    "WITH group_of_16_ordered AS (\n",
    "  SELECT * FROM group_of_16\n",
    "  WHERE rank = 3\n",
    "  ORDER BY groups\n",
    "  limit 4\n",
    ")\n",
    "SELECT  concat_ws('',array_agg( groups) )AS pattern\n",
    "FROM group_of_16_ordered \n",
    ")\n",
    "select * from\n",
    "pattern\n",
    "left join df_knockout_phase\n",
    "on pattern = Third_placed_qualified_teams\n",
    ")\n",
    "select team, groups,rank, 1 as row_num from group_of_16 where rank = 1 and groups ='B'\n",
    "union all\n",
    "select team, groups,rank , 2 as row_num from group_of_16 where rank = 3 and groups =  (select B from combination)\n",
    "union all\n",
    "select team,groups,rank, 3 as row_num from group_of_16 where rank = 1 and groups ='A'\n",
    "union all\n",
    "select team,groups,rank, 4 as row_num from group_of_16 where rank = 2 and groups ='C'\n",
    "union all\n",
    "select team,groups,rank, 5 as row_num from group_of_16 where rank = 1 and groups ='F'\n",
    "union all\n",
    "select team,groups,rank, 6 as row_num from group_of_16 where rank = 3 and groups =(select E from combination)\n",
    "union all\n",
    "select team,groups,rank, 7 as row_num from group_of_16 where rank = 2 and groups ='D'\n",
    "union all\n",
    "select team,groups,rank, 8 as row_num from group_of_16 where rank = 2 and groups ='E'\n",
    "union all\n",
    "select team,groups,rank, 9 as row_num from group_of_16 where rank = 1 and groups ='E'\n",
    "union all\n",
    "select team,groups,rank, 10 as row_num from group_of_16 where rank = 3 and groups =(select F from combination)\n",
    "union all\n",
    "select team,groups,rank, 11 as row_num from group_of_16 where rank = 1 and groups ='D'\n",
    "union all\n",
    "select team,groups,rank, 12 as row_num from group_of_16 where rank = 2 and groups ='F'\n",
    "union all\n",
    "select team,groups,rank, 13 as row_num from group_of_16 where rank = 1 and groups ='C'\n",
    "union  all\n",
    "select team,groups,rank, 14 as row_num from group_of_16 where rank = 3 and groups =(select C from combination)\n",
    "union all\n",
    "select team,groups,rank, 15 as row_num from group_of_16 where rank = 2 and groups ='A'\n",
    "union all\n",
    "select team,groups,rank, 16 as row_num from group_of_16 where rank = 2 and groups ='B'\n",
    ")"
   ]
  },
  {
   "cell_type": "code",
   "execution_count": 0,
   "metadata": {
    "application/vnd.databricks.v1+cell": {
     "cellMetadata": {},
     "inputWidgets": {},
     "nuid": "35401733-592b-462e-9e39-fb9b59f22b84",
     "showTitle": false,
     "title": ""
    }
   },
   "outputs": [],
   "source": [
    "%sql\n",
    "select * from group_of_16_brackets\n",
    "order by row_num"
   ]
  },
  {
   "cell_type": "code",
   "execution_count": 0,
   "metadata": {
    "application/vnd.databricks.v1+cell": {
     "cellMetadata": {},
     "inputWidgets": {},
     "nuid": "91322a11-61f9-40cc-8fbb-c787a4a3b247",
     "showTitle": false,
     "title": ""
    }
   },
   "outputs": [],
   "source": [
    "%sql\n",
    "WITH group_of_16_ordered AS (\n",
    "  SELECT * FROM group_of_16\n",
    "  WHERE rank = 3\n",
    "  ORDER BY groups\n",
    "  limit 4\n",
    ") \n",
    "select * FROM group_of_16_ordered"
   ]
  },
  {
   "cell_type": "code",
   "execution_count": 0,
   "metadata": {
    "application/vnd.databricks.v1+cell": {
     "cellMetadata": {},
     "inputWidgets": {},
     "nuid": "c39a4c47-42f1-4b10-ad1f-70f165977298",
     "showTitle": false,
     "title": ""
    }
   },
   "outputs": [],
   "source": [
    "%sql\n",
    "WITH combination AS (\n",
    "WITH pattern AS (\n",
    "WITH group_of_16_ordered AS (\n",
    "  SELECT * FROM group_of_16\n",
    "  WHERE rank = 3\n",
    "  ORDER BY groups\n",
    "  limit 4\n",
    ")\n",
    "SELECT  concat_ws('',array_agg( groups) )AS pattern\n",
    "FROM group_of_16_ordered \n",
    ")\n",
    "select * from\n",
    "pattern\n",
    "left join df_knockout_phase\n",
    "on pattern = Third_placed_qualified_teams)\n",
    "select * from combination"
   ]
  },
  {
   "cell_type": "code",
   "execution_count": 0,
   "metadata": {
    "application/vnd.databricks.v1+cell": {
     "cellMetadata": {},
     "inputWidgets": {},
     "nuid": "6f0e6582-3246-4f7c-a7aa-b23abeba843b",
     "showTitle": true,
     "title": "Group 16 Matches"
    }
   },
   "outputs": [],
   "source": [
    "group16 = spark.sql(\"\"\"SELECT\n",
    "    t1.team AS team1,\n",
    "    t1.groups AS group1,\n",
    "    t1.rank AS rank1,\n",
    "    t1.row_num AS row1,\n",
    "    t2.team AS team2,\n",
    "    t2.groups AS group2,\n",
    "    t2.rank AS rank2,\n",
    "    t2.row_num AS row2,\n",
    "    CASE WHEN FLOOR(RAND() * 10) > 5 then team1 else team2 end as won\n",
    "FROM\n",
    "    group_of_16_brackets t1\n",
    "JOIN\n",
    "    group_of_16_brackets t2\n",
    "ON\n",
    "    t1.row_num % 2 = 1 AND t2.row_num % 2 = 0 AND t1.row_num + 1 = t2.row_num\n",
    "\"\"\")\n",
    "\n",
    "group16.show()"
   ]
  },
  {
   "cell_type": "code",
   "execution_count": 0,
   "metadata": {
    "application/vnd.databricks.v1+cell": {
     "cellMetadata": {},
     "inputWidgets": {},
     "nuid": "806fa30f-6d83-4048-b571-4cb8b68b61f9",
     "showTitle": false,
     "title": ""
    }
   },
   "outputs": [],
   "source": [
    "group16_winner = group16.select(\"won\")\n",
    "group16_winner.show()\n",
    "\n",
    "window_spec = Window.orderBy(F.monotonically_increasing_id())\n",
    "group16_winner = group16_winner.withColumn(\"teamId\", F.row_number().over(window_spec))\n",
    "\n",
    "# Create a DataFrame with odd teamId teams as team1 and even teamId teams as team2\n",
    "team1_df = group16_winner.filter((F.col(\"teamId\") % 2) != 0).withColumnRenamed(\"teamId\", \"team1_id\").withColumnRenamed(\"won\", \"team1\")\n",
    "team1_df = team1_df.withColumn(\"teamId\", F.row_number().over(window_spec)).drop('team1_id')\n",
    "team2_df = group16_winner.filter((F.col(\"teamId\") % 2) == 0).withColumnRenamed(\"teamId\", \"team2_id\").withColumnRenamed(\"won\", \"team2\")\n",
    "team2_df = team2_df.withColumn(\"teamId\", F.row_number().over(window_spec)).drop('team2_id')\n",
    "team1_df.show()\n",
    "team2_df.show()\n",
    "\n",
    "# Join team1 and team2 DataFrames to get the final DataFrame\n",
    "quarterfinals_df = team1_df.join(team2_df, [\"teamId\"], \"inner\")\n",
    "# Add a column for winner (randomly chosen between team1 and team2)\n",
    "quarterfinals_df = quarterfinals_df.withColumn(\"winner\", F.when(F.rand() > 0.5, quarterfinals_df[\"team1\"]).otherwise(quarterfinals_df[\"team2\"]))\n",
    "\n",
    "# Select necessary columns\n",
    "quarterfinals_df = quarterfinals_df.select(\"team1\", \"team2\", \"winner\")\n",
    "\n",
    "quarterfinals_df.show()"
   ]
  },
  {
   "cell_type": "code",
   "execution_count": 0,
   "metadata": {
    "application/vnd.databricks.v1+cell": {
     "cellMetadata": {},
     "inputWidgets": {},
     "nuid": "6b810812-2509-49f5-b1ab-a94d59a4e02f",
     "showTitle": true,
     "title": "Semifinal"
    }
   },
   "outputs": [],
   "source": [
    "quarterfinals_df = quarterfinals_df.select(\"winner\")\n",
    "quarterfinals_df.show()\n",
    "\n",
    "window_spec = Window.orderBy(F.monotonically_increasing_id())\n",
    "quarterfinals_df = quarterfinals_df.withColumn(\"teamId\", F.row_number().over(window_spec))\n",
    "\n",
    "# Create a DataFrame with odd teamId teams as team1 and even teamId teams as team2\n",
    "team1_df = quarterfinals_df.filter((F.col(\"teamId\") % 2) != 0).withColumnRenamed(\"teamId\", \"team1_id\").withColumnRenamed(\"winner\", \"team1\")\n",
    "team1_df = team1_df.withColumn(\"teamId\", F.row_number().over(window_spec)).drop('team1_id')\n",
    "team2_df = quarterfinals_df.filter((F.col(\"teamId\") % 2) == 0).withColumnRenamed(\"teamId\", \"team2_id\").withColumnRenamed(\"winner\", \"team2\")\n",
    "team2_df = team2_df.withColumn(\"teamId\", F.row_number().over(window_spec)).drop('team2_id')\n",
    "team1_df.show()\n",
    "team2_df.show()\n",
    "\n",
    "# Join team1 and team2 DataFrames to get the final DataFrame\n",
    "semifinals_df = team1_df.join(team2_df, [\"teamId\"], \"inner\")\n",
    "# Add a column for winner (randomly chosen between team1 and team2)\n",
    "semifinals_df = semifinals_df.withColumn(\"winner\", F.when(F.rand() > 0.5, semifinals_df[\"team1\"]).otherwise(semifinals_df[\"team2\"]))\n",
    "\n",
    "# Select necessary columns\n",
    "semifinals_df = semifinals_df.select(\"team1\", \"team2\", \"winner\")\n",
    "\n",
    "semifinals_df.show()"
   ]
  },
  {
   "cell_type": "code",
   "execution_count": 0,
   "metadata": {
    "application/vnd.databricks.v1+cell": {
     "cellMetadata": {},
     "inputWidgets": {},
     "nuid": "0a8137ca-9e2e-47ae-90d4-98a06c766a35",
     "showTitle": true,
     "title": "Final"
    }
   },
   "outputs": [],
   "source": [
    "semifinals_df = semifinals_df.withColumn(\"random_number\", F.rand())\n",
    "random_winner = semifinals_df.select(F.when(F.col(\"random_number\") > 0.5, semifinals_df[\"winner\"]).otherwise(semifinals_df[\"winner\"])).first()[0]\n",
    "\n",
    "print(\"Winner of the Tournament:\", random_winner)"
   ]
  }
 ],
 "metadata": {
  "application/vnd.databricks.v1+notebook": {
   "dashboards": [],
   "language": "python",
   "notebookMetadata": {
    "pythonIndentUnit": 4
   },
   "notebookName": "EuroCup_2024",
   "widgets": {}
  }
 },
 "nbformat": 4,
 "nbformat_minor": 0
}
