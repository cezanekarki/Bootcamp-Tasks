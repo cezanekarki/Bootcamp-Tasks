{
 "cells": [
  {
   "cell_type": "code",
   "execution_count": 0,
   "metadata": {
    "application/vnd.databricks.v1+cell": {
     "cellMetadata": {
      "byteLimit": 2048000,
      "rowLimit": 10000
     },
     "inputWidgets": {},
     "nuid": "3ffc04c2-b594-4541-9150-1044ddcd90bc",
     "showTitle": false,
     "title": ""
    }
   },
   "outputs": [],
   "source": [
    "from pyspark.sql import SparkSession, functions as F\n",
    "from pyspark.sql.types import StructType,StructField,IntegerType,StringType,DateType\n",
    "spark=SparkSession.builder.getOrCreate()"
   ]
  },
  {
   "cell_type": "code",
   "execution_count": 0,
   "metadata": {
    "application/vnd.databricks.v1+cell": {
     "cellMetadata": {
      "byteLimit": 2048000,
      "rowLimit": 10000
     },
     "inputWidgets": {},
     "nuid": "13391599-10c8-4a4c-9a05-d3597d017776",
     "showTitle": false,
     "title": ""
    }
   },
   "outputs": [],
   "source": [
    "df_csv_drugs_package=spark.read.format(\"csv\").option(\"header\",True).load(\"dbfs:///FileStore/tables/Drugs_package.csv\")\n",
    "df_csv_drugs_product=spark.read.format(\"csv\").option(\"header\",True).load(\"dbfs:///FileStore/tables/Drugs_product.csv\")"
   ]
  },
  {
   "cell_type": "code",
   "execution_count": 0,
   "metadata": {
    "application/vnd.databricks.v1+cell": {
     "cellMetadata": {
      "byteLimit": 2048000,
      "rowLimit": 10000
     },
     "inputWidgets": {},
     "nuid": "248a5c13-362e-47ad-9d91-53841370cf54",
     "showTitle": false,
     "title": ""
    }
   },
   "outputs": [
    {
     "output_type": "stream",
     "name": "stdout",
     "output_type": "stream",
     "text": [
      "root\n |-- PRODUCTID: string (nullable = true)\n |-- PRODUCTNDC: string (nullable = true)\n |-- NDCPACKAGECODE: string (nullable = true)\n |-- PACKAGEDESCRIPTION: string (nullable = true)\n\n\n---------------------------------------------\n\nroot\n |-- PRODUCTID: string (nullable = true)\n |-- PRODUCTNDC: string (nullable = true)\n |-- PRODUCTTYPENAME: string (nullable = true)\n |-- PROPRIETARYNAME: string (nullable = true)\n |-- PROPRIETARYNAMESUFFIX: string (nullable = true)\n |-- NONPROPRIETARYNAME: string (nullable = true)\n |-- DOSAGEFORMNAME: string (nullable = true)\n |-- ROUTENAME: string (nullable = true)\n |-- STARTMARKETINGDATE: string (nullable = true)\n |-- ENDMARKETINGDATE: string (nullable = true)\n |-- MARKETINGCATEGORYNAME: string (nullable = true)\n |-- APPLICATIONNUMBER: string (nullable = true)\n |-- LABELERNAME: string (nullable = true)\n |-- SUBSTANCENAME: string (nullable = true)\n |-- ACTIVE_NUMERATOR_STRENGTH: string (nullable = true)\n |-- ACTIVE_INGRED_UNIT: string (nullable = true)\n |-- PHARM_CLASSES: string (nullable = true)\n |-- DEASCHEDULE: string (nullable = true)\n\n"
     ]
    }
   ],
   "source": [
    "df_csv_drugs_package.printSchema()\n",
    "print(\"\\n---------------------------------------------\\n\")\n",
    "df_csv_drugs_product.printSchema()\n"
   ]
  },
  {
   "cell_type": "code",
   "execution_count": 0,
   "metadata": {
    "application/vnd.databricks.v1+cell": {
     "cellMetadata": {
      "byteLimit": 2048000,
      "rowLimit": 10000
     },
     "inputWidgets": {},
     "nuid": "aaf7bcf7-aa9d-48a3-a50e-b1b5e33c7310",
     "showTitle": false,
     "title": ""
    }
   },
   "outputs": [],
   "source": [
    "# df_csv_drugs_package = df_csv_drugs_package.withColumnRenamed(\"PRODUCTID\", \"product-id\") \\\n",
    "#        .withColumnRenamed(\"PRODUCTNDC\", \"product-ndc\") \\\n",
    "#        .withColumnRenamed(\"NDCPACKAGECODE\", \"ndc-package-code\") \\\n",
    "#        .withColumnRenamed(\"PACKAGEDESCRIPTION\", \"package-description\")\n",
    "\n",
    "new_columns_drugs_package = [\"product_id\", \"product_ndc\", \"ndc_package_code\", \"package_description\"]\n",
    "df_csv_drugs_package = df_csv_drugs_package.toDF(*new_columns_drugs_package)"
   ]
  },
  {
   "cell_type": "code",
   "execution_count": 0,
   "metadata": {
    "application/vnd.databricks.v1+cell": {
     "cellMetadata": {
      "byteLimit": 2048000,
      "rowLimit": 10000
     },
     "inputWidgets": {},
     "nuid": "d8b11019-f2d8-48ad-be97-791da6371ff9",
     "showTitle": false,
     "title": ""
    }
   },
   "outputs": [
    {
     "output_type": "stream",
     "name": "stdout",
     "output_type": "stream",
     "text": [
      "+--------------------+-----------+----------------+--------------------+\n|          product_id|product_ndc|ndc_package_code| package_description|\n+--------------------+-----------+----------------+--------------------+\n|0002-1200_4bd46cb...|  0002-1200|    0002-1200-30|1 VIAL, MULTI-DOS...|\n|0002-1200_4bd46cb...|  0002-1200|    0002-1200-50|1 VIAL, MULTI-DOS...|\n|0002-1407_14757f9...|  0002-1407|    0002-1407-01|10 mL in 1 VIAL (...|\n|0002-1433_aaae85a...|  0002-1433|    0002-1433-80|4 SYRINGE in 1 CA...|\n|0002-1434_aaae85a...|  0002-1434|    0002-1434-80|4 SYRINGE in 1 CA...|\n|0002-1445_2ecde4c...|  0002-1445|    0002-1445-09|3 SYRINGE in 1 CA...|\n|0002-1445_2ecde4c...|  0002-1445|    0002-1445-11|1 SYRINGE in 1 CA...|\n|0002-1445_2ecde4c...|  0002-1445|    0002-1445-27|2 SYRINGE in 1 CA...|\n|0002-1445_2ecde4c...|  0002-1445|    0002-1445-61|1 SYRINGE in 1 CA...|\n|0002-1975_2329598...|  0002-1975|    0002-1975-61|1 BOTTLE, WITH AP...|\n|0002-1975_2329598...|  0002-1975|    0002-1975-90|1 BOTTLE, WITH AP...|\n|0002-3004_7bf36d9...|  0002-3004|    0002-3004-75|2 BLISTER PACK in...|\n|0002-3227_324a23e...|  0002-3227|    0002-3227-30|30 CAPSULE in 1 B...|\n|0002-3228_324a23e...|  0002-3228|    0002-3228-30|30 CAPSULE in 1 B...|\n|0002-3229_324a23e...|  0002-3229|    0002-3229-30|30 CAPSULE in 1 B...|\n|0002-3230_7de92fb...|  0002-3230|    0002-3230-30|30 CAPSULE in 1 B...|\n|0002-3231_7de92fb...|  0002-3231|    0002-3231-30|30 CAPSULE in 1 B...|\n|0002-3232_7de92fb...|  0002-3232|    0002-3232-30|30 CAPSULE in 1 B...|\n|0002-3233_7de92fb...|  0002-3233|    0002-3233-30|30 CAPSULE in 1 B...|\n|0002-3234_7de92fb...|  0002-3234|    0002-3234-30|30 CAPSULE in 1 B...|\n+--------------------+-----------+----------------+--------------------+\nonly showing top 20 rows\n\n"
     ]
    }
   ],
   "source": [
    "df_csv_drugs_package.show()"
   ]
  },
  {
   "cell_type": "code",
   "execution_count": 0,
   "metadata": {
    "application/vnd.databricks.v1+cell": {
     "cellMetadata": {
      "byteLimit": 2048000,
      "rowLimit": 10000
     },
     "inputWidgets": {},
     "nuid": "0e32dd39-aee5-4da1-907f-caa0a6aab124",
     "showTitle": false,
     "title": ""
    }
   },
   "outputs": [],
   "source": [
    "new_columns_drugs_product = [\"product_id\",\"product_ndc\",\"product_type_name\",\"proprietary_name\",\"proprietary_name_suffix\",\"non_proprietary_name\",\"dosage_form_name\",\"route_name\",\"start_marketing_date\",\"end_marketing_date\",\"marketing_category_name\",\"application_number\",\"labeler_name\",\"substance_name\",\"active_numerator_strength\",\"active_ingred_unit\",\"pharm_classes\",\"dea_schedule\"]\n",
    "\n",
    "df_csv_drugs_product = df_csv_drugs_product.toDF(*new_columns_drugs_product)    "
   ]
  },
  {
   "cell_type": "code",
   "execution_count": 0,
   "metadata": {
    "application/vnd.databricks.v1+cell": {
     "cellMetadata": {
      "byteLimit": 2048000,
      "rowLimit": 10000
     },
     "inputWidgets": {},
     "nuid": "95f62a99-154a-4731-aed8-0d0af2fcce6c",
     "showTitle": false,
     "title": ""
    }
   },
   "outputs": [
    {
     "output_type": "stream",
     "name": "stdout",
     "output_type": "stream",
     "text": [
      "+--------------------+-----------+--------------------+-------------------+-----------------------+--------------------+--------------------+------------+--------------------+------------------+-----------------------+------------------+--------------------+--------------------+-------------------------+------------------+--------------------+------------+\n|          product_id|product_ndc|   product_type_name|   proprietary_name|proprietary_name_suffix|non_proprietary_name|    dosage_form_name|  route_name|start_marketing_date|end_marketing_date|marketing_category_name|application_number|        labeler_name|      substance_name|active_numerator_strength|active_ingred_unit|       pharm_classes|dea_schedule|\n+--------------------+-----------+--------------------+-------------------+-----------------------+--------------------+--------------------+------------+--------------------+------------------+-----------------------+------------------+--------------------+--------------------+-------------------------+------------------+--------------------+------------+\n|0002-1200_4bd46cb...|  0002-1200|HUMAN PRESCRIPTIO...|             Amyvid|                   null|    Florbetapir F 18| INJECTION, SOLUTION| INTRAVENOUS|            20120601|              null|                    NDA|         NDA202008|Eli Lilly and Com...|    FLORBETAPIR F-18|                       51|            mCi/mL|Radioactive Diagn...|        null|\n|0002-1407_14757f9...|  0002-1407|HUMAN PRESCRIPTIO...|Quinidine Gluconate|                   null| Quinidine Gluconate|            SOLUTION| INTRAVENOUS|            19500712|              null|                    NDA|         NDA007529|Eli Lilly and Com...| QUINIDINE GLUCONATE|                       80|             mg/mL|Antiarrhythmic [E...|        null|\n|0002-1433_aaae85a...|  0002-1433|HUMAN PRESCRIPTIO...|          Trulicity|                   null|         Dulaglutide| INJECTION, SOLUTION|SUBCUTANEOUS|            20141107|              null|                    BLA|         BLA125469|Eli Lilly and Com...|         DULAGLUTIDE|                     0.75|           mg/.5mL|GLP-1 Receptor Ag...|        null|\n|0002-1434_aaae85a...|  0002-1434|HUMAN PRESCRIPTIO...|          Trulicity|                   null|         Dulaglutide| INJECTION, SOLUTION|SUBCUTANEOUS|            20141107|              null|                    BLA|         BLA125469|Eli Lilly and Com...|         DULAGLUTIDE|                      1.5|           mg/.5mL|GLP-1 Receptor Ag...|        null|\n|0002-1445_2ecde4c...|  0002-1445|HUMAN PRESCRIPTIO...|              TALTZ|                   null|          ixekizumab| INJECTION, SOLUTION|SUBCUTANEOUS|            20160322|              null|                    BLA|         BLA125521|Eli Lilly and Com...|          IXEKIZUMAB|                       80|             mg/mL|Interleukin-17A A...|        null|\n|0002-1975_2329598...|  0002-1975|HUMAN PRESCRIPTIO...|             AXIRON|                   null|        testosterone|            SOLUTION|     TOPICAL|            20101123|              null|                    NDA|         NDA022504|Eli Lilly and Com...|        TESTOSTERONE|                       30|          mg/1.5mL|Androgen [EPC],An...|        CIII|\n|0002-1977_2329598...|  0002-1977|HUMAN PRESCRIPTIO...|             AXIRON|                   null|        testosterone|            SOLUTION|     TOPICAL|            20101123|              null|                    NDA|         NDA022504|Eli Lilly and Com...|        TESTOSTERONE|                       30|          mg/1.5mL|Androgen [EPC],An...|        CIII|\n|0002-3004_7bf36d9...|  0002-3004|HUMAN PRESCRIPTIO...|             Prozac|                 Weekly|Fluoxetine hydroc...|CAPSULE, DELAYED ...|        ORAL|            20010316|              null|                    NDA|         NDA021235|Eli Lilly and Com...|FLUOXETINE HYDROC...|                       90|              mg/1|Serotonin Reuptak...|        null|\n|0002-3227_324a23e...|  0002-3227|HUMAN PRESCRIPTIO...|          Strattera|                   null|Atomoxetine hydro...|             CAPSULE|        ORAL|            20021126|              null|                    NDA|         NDA021411|Eli Lilly and Com...|ATOMOXETINE HYDRO...|                       10|              mg/1|Norepinephrine Re...|        null|\n|0002-3228_324a23e...|  0002-3228|HUMAN PRESCRIPTIO...|          Strattera|                   null|Atomoxetine hydro...|             CAPSULE|        ORAL|            20021126|              null|                    NDA|         NDA021411|Eli Lilly and Com...|ATOMOXETINE HYDRO...|                       25|              mg/1|Norepinephrine Re...|        null|\n|0002-3229_324a23e...|  0002-3229|HUMAN PRESCRIPTIO...|          Strattera|                   null|Atomoxetine hydro...|             CAPSULE|        ORAL|            20021126|              null|                    NDA|         NDA021411|Eli Lilly and Com...|ATOMOXETINE HYDRO...|                       40|              mg/1|Norepinephrine Re...|        null|\n|0002-3230_7de92fb...|  0002-3230|HUMAN PRESCRIPTIO...|            Symbyax|                   null|Olanzapine and Fl...|             CAPSULE|        ORAL|            20070409|              null|                    NDA|         NDA021520|Eli Lilly and Com...|OLANZAPINE; FLUOX...|                    3; 25|        mg/1; mg/1|Atypical Antipsyc...|        null|\n|0002-3231_7de92fb...|  0002-3231|HUMAN PRESCRIPTIO...|            Symbyax|                   null|Olanzapine and Fl...|             CAPSULE|        ORAL|            20031224|              null|                    NDA|         NDA021520|Eli Lilly and Com...|OLANZAPINE; FLUOX...|                    6; 25|        mg/1; mg/1|Atypical Antipsyc...|        null|\n|0002-3232_7de92fb...|  0002-3232|HUMAN PRESCRIPTIO...|            Symbyax|                   null|Olanzapine and Fl...|             CAPSULE|        ORAL|            20031224|              null|                    NDA|         NDA021520|Eli Lilly and Com...|OLANZAPINE; FLUOX...|                   12; 25|        mg/1; mg/1|Atypical Antipsyc...|        null|\n|0002-3233_7de92fb...|  0002-3233|HUMAN PRESCRIPTIO...|            Symbyax|                   null|Olanzapine and Fl...|             CAPSULE|        ORAL|            20031224|              null|                    NDA|         NDA021520|Eli Lilly and Com...|OLANZAPINE; FLUOX...|                    6; 50|        mg/1; mg/1|Atypical Antipsyc...|        null|\n|0002-3234_7de92fb...|  0002-3234|HUMAN PRESCRIPTIO...|            Symbyax|                   null|Olanzapine and Fl...|             CAPSULE|        ORAL|            20031224|              null|                    NDA|         NDA021520|Eli Lilly and Com...|OLANZAPINE; FLUOX...|                   12; 50|        mg/1; mg/1|Atypical Antipsyc...|        null|\n|0002-3235_1685798...|  0002-3235|HUMAN PRESCRIPTIO...|           Cymbalta|                   null|Duloxetine hydroc...|CAPSULE, DELAYED ...|        ORAL|            20040824|              null|                    NDA|         NDA021427|Eli Lilly and Com...|DULOXETINE HYDROC...|                       20|              mg/1|Norepinephrine Up...|        null|\n|0002-3238_324a23e...|  0002-3238|HUMAN PRESCRIPTIO...|          Strattera|                   null|Atomoxetine hydro...|             CAPSULE|        ORAL|            20021126|              null|                    NDA|         NDA021411|Eli Lilly and Com...|ATOMOXETINE HYDRO...|                       18|              mg/1|Norepinephrine Re...|        null|\n|0002-3239_324a23e...|  0002-3239|HUMAN PRESCRIPTIO...|          Strattera|                   null|Atomoxetine hydro...|             CAPSULE|        ORAL|            20021126|              null|                    NDA|         NDA021411|Eli Lilly and Com...|ATOMOXETINE HYDRO...|                       60|              mg/1|Norepinephrine Re...|        null|\n|0002-3240_1685798...|  0002-3240|HUMAN PRESCRIPTIO...|           Cymbalta|                   null|Duloxetine hydroc...|CAPSULE, DELAYED ...|        ORAL|            20040824|              null|                    NDA|         NDA021427|Eli Lilly and Com...|DULOXETINE HYDROC...|                       30|              mg/1|Norepinephrine Up...|        null|\n+--------------------+-----------+--------------------+-------------------+-----------------------+--------------------+--------------------+------------+--------------------+------------------+-----------------------+------------------+--------------------+--------------------+-------------------------+------------------+--------------------+------------+\nonly showing top 20 rows\n\n"
     ]
    }
   ],
   "source": [
    "df_csv_drugs_product.show()"
   ]
  },
  {
   "cell_type": "code",
   "execution_count": 0,
   "metadata": {
    "application/vnd.databricks.v1+cell": {
     "cellMetadata": {
      "byteLimit": 2048000,
      "rowLimit": 10000
     },
     "inputWidgets": {},
     "nuid": "5f9f6c4d-7c40-4a92-8d57-c3e853d393bd",
     "showTitle": false,
     "title": ""
    }
   },
   "outputs": [],
   "source": [
    "# formattedData = df_csv_drugs_product.withColumn(\n",
    "#     \"start_marketing_date\",\n",
    "#     F.date_format(F.to_date(F.col(\"start_marketing_date\"), 'yyyyMMdd'), 'MM/dd/yyyy')\n",
    "# ).display()\n",
    "\n",
    "\n",
    "df_csv_drugs_product = df_csv_drugs_product.withColumns(\n",
    "  {\n",
    "        \"start_marketing_date\":\n",
    "    F.date_format(F.to_date(F.col(\"start_marketing_date\"), 'yyyyMMdd'), 'MM/dd/yyyy'),\n",
    "         \"end_marketing_date\":\n",
    "    F.date_format(F.to_date(F.col(\"end_marketing_date\"), 'yyyyMMdd'), 'MM/dd/yyyy')\n",
    "    }\n",
    ")\n"
   ]
  },
  {
   "cell_type": "code",
   "execution_count": 0,
   "metadata": {
    "application/vnd.databricks.v1+cell": {
     "cellMetadata": {
      "byteLimit": 2048000,
      "rowLimit": 10000
     },
     "inputWidgets": {},
     "nuid": "9df1185f-7abc-450e-a677-0183b6bb6db7",
     "showTitle": false,
     "title": ""
    }
   },
   "outputs": [
    {
     "output_type": "stream",
     "name": "stdout",
     "output_type": "stream",
     "text": [
      "root\n |-- product_id: string (nullable = true)\n |-- product_ndc: string (nullable = true)\n |-- product_type_name: string (nullable = true)\n |-- proprietary_name: string (nullable = true)\n |-- proprietary_name_suffix: string (nullable = true)\n |-- non_proprietary_name: string (nullable = true)\n |-- dosage_form_name: string (nullable = true)\n |-- route_name: string (nullable = true)\n |-- start_marketing_date: string (nullable = true)\n |-- end_marketing_date: string (nullable = true)\n |-- marketing_category_name: string (nullable = true)\n |-- application_number: string (nullable = true)\n |-- labeler_name: string (nullable = true)\n |-- substance_name: string (nullable = true)\n |-- active_numerator_strength: string (nullable = true)\n |-- active_ingred_unit: string (nullable = true)\n |-- pharm_classes: string (nullable = true)\n |-- dea_schedule: string (nullable = true)\n\n"
     ]
    }
   ],
   "source": [
    "df_csv_drugs_product.printSchema()"
   ]
  },
  {
   "cell_type": "code",
   "execution_count": 0,
   "metadata": {
    "application/vnd.databricks.v1+cell": {
     "cellMetadata": {
      "byteLimit": 2048000,
      "rowLimit": 10000
     },
     "inputWidgets": {},
     "nuid": "dfa51056-a1c0-468b-918b-1dfcb443eb90",
     "showTitle": false,
     "title": ""
    }
   },
   "outputs": [
    {
     "output_type": "stream",
     "name": "stdout",
     "output_type": "stream",
     "text": [
      "+--------------------+-----------+--------------------+-------------------+-----------------------+--------------------+--------------------+------------+--------------------+------------------+-----------------------+------------------+--------------------+--------------------+-------------------------+------------------+--------------------+------------+\n|          product_id|product_ndc|   product_type_name|   proprietary_name|proprietary_name_suffix|non_proprietary_name|    dosage_form_name|  route_name|start_marketing_date|end_marketing_date|marketing_category_name|application_number|        labeler_name|      substance_name|active_numerator_strength|active_ingred_unit|       pharm_classes|dea_schedule|\n+--------------------+-----------+--------------------+-------------------+-----------------------+--------------------+--------------------+------------+--------------------+------------------+-----------------------+------------------+--------------------+--------------------+-------------------------+------------------+--------------------+------------+\n|0002-1200_4bd46cb...|  0002-1200|HUMAN PRESCRIPTIO...|             Amyvid|                   null|    Florbetapir F 18| INJECTION, SOLUTION| INTRAVENOUS|          06/01/2012|              null|                    NDA|         NDA202008|Eli Lilly and Com...|    FLORBETAPIR F-18|                       51|            mCi/mL|Radioactive Diagn...|        null|\n|0002-1407_14757f9...|  0002-1407|HUMAN PRESCRIPTIO...|Quinidine Gluconate|                   null| Quinidine Gluconate|            SOLUTION| INTRAVENOUS|          07/12/1950|              null|                    NDA|         NDA007529|Eli Lilly and Com...| QUINIDINE GLUCONATE|                       80|             mg/mL|Antiarrhythmic [E...|        null|\n|0002-1433_aaae85a...|  0002-1433|HUMAN PRESCRIPTIO...|          Trulicity|                   null|         Dulaglutide| INJECTION, SOLUTION|SUBCUTANEOUS|          11/07/2014|              null|                    BLA|         BLA125469|Eli Lilly and Com...|         DULAGLUTIDE|                     0.75|           mg/.5mL|GLP-1 Receptor Ag...|        null|\n|0002-1434_aaae85a...|  0002-1434|HUMAN PRESCRIPTIO...|          Trulicity|                   null|         Dulaglutide| INJECTION, SOLUTION|SUBCUTANEOUS|          11/07/2014|              null|                    BLA|         BLA125469|Eli Lilly and Com...|         DULAGLUTIDE|                      1.5|           mg/.5mL|GLP-1 Receptor Ag...|        null|\n|0002-1445_2ecde4c...|  0002-1445|HUMAN PRESCRIPTIO...|              TALTZ|                   null|          ixekizumab| INJECTION, SOLUTION|SUBCUTANEOUS|          03/22/2016|              null|                    BLA|         BLA125521|Eli Lilly and Com...|          IXEKIZUMAB|                       80|             mg/mL|Interleukin-17A A...|        null|\n|0002-1975_2329598...|  0002-1975|HUMAN PRESCRIPTIO...|             AXIRON|                   null|        testosterone|            SOLUTION|     TOPICAL|          11/23/2010|              null|                    NDA|         NDA022504|Eli Lilly and Com...|        TESTOSTERONE|                       30|          mg/1.5mL|Androgen [EPC],An...|        CIII|\n|0002-1977_2329598...|  0002-1977|HUMAN PRESCRIPTIO...|             AXIRON|                   null|        testosterone|            SOLUTION|     TOPICAL|          11/23/2010|              null|                    NDA|         NDA022504|Eli Lilly and Com...|        TESTOSTERONE|                       30|          mg/1.5mL|Androgen [EPC],An...|        CIII|\n|0002-3004_7bf36d9...|  0002-3004|HUMAN PRESCRIPTIO...|             Prozac|                 Weekly|Fluoxetine hydroc...|CAPSULE, DELAYED ...|        ORAL|          03/16/2001|              null|                    NDA|         NDA021235|Eli Lilly and Com...|FLUOXETINE HYDROC...|                       90|              mg/1|Serotonin Reuptak...|        null|\n|0002-3227_324a23e...|  0002-3227|HUMAN PRESCRIPTIO...|          Strattera|                   null|Atomoxetine hydro...|             CAPSULE|        ORAL|          11/26/2002|              null|                    NDA|         NDA021411|Eli Lilly and Com...|ATOMOXETINE HYDRO...|                       10|              mg/1|Norepinephrine Re...|        null|\n|0002-3228_324a23e...|  0002-3228|HUMAN PRESCRIPTIO...|          Strattera|                   null|Atomoxetine hydro...|             CAPSULE|        ORAL|          11/26/2002|              null|                    NDA|         NDA021411|Eli Lilly and Com...|ATOMOXETINE HYDRO...|                       25|              mg/1|Norepinephrine Re...|        null|\n|0002-3229_324a23e...|  0002-3229|HUMAN PRESCRIPTIO...|          Strattera|                   null|Atomoxetine hydro...|             CAPSULE|        ORAL|          11/26/2002|              null|                    NDA|         NDA021411|Eli Lilly and Com...|ATOMOXETINE HYDRO...|                       40|              mg/1|Norepinephrine Re...|        null|\n|0002-3230_7de92fb...|  0002-3230|HUMAN PRESCRIPTIO...|            Symbyax|                   null|Olanzapine and Fl...|             CAPSULE|        ORAL|          04/09/2007|              null|                    NDA|         NDA021520|Eli Lilly and Com...|OLANZAPINE; FLUOX...|                    3; 25|        mg/1; mg/1|Atypical Antipsyc...|        null|\n|0002-3231_7de92fb...|  0002-3231|HUMAN PRESCRIPTIO...|            Symbyax|                   null|Olanzapine and Fl...|             CAPSULE|        ORAL|          12/24/2003|              null|                    NDA|         NDA021520|Eli Lilly and Com...|OLANZAPINE; FLUOX...|                    6; 25|        mg/1; mg/1|Atypical Antipsyc...|        null|\n|0002-3232_7de92fb...|  0002-3232|HUMAN PRESCRIPTIO...|            Symbyax|                   null|Olanzapine and Fl...|             CAPSULE|        ORAL|          12/24/2003|              null|                    NDA|         NDA021520|Eli Lilly and Com...|OLANZAPINE; FLUOX...|                   12; 25|        mg/1; mg/1|Atypical Antipsyc...|        null|\n|0002-3233_7de92fb...|  0002-3233|HUMAN PRESCRIPTIO...|            Symbyax|                   null|Olanzapine and Fl...|             CAPSULE|        ORAL|          12/24/2003|              null|                    NDA|         NDA021520|Eli Lilly and Com...|OLANZAPINE; FLUOX...|                    6; 50|        mg/1; mg/1|Atypical Antipsyc...|        null|\n|0002-3234_7de92fb...|  0002-3234|HUMAN PRESCRIPTIO...|            Symbyax|                   null|Olanzapine and Fl...|             CAPSULE|        ORAL|          12/24/2003|              null|                    NDA|         NDA021520|Eli Lilly and Com...|OLANZAPINE; FLUOX...|                   12; 50|        mg/1; mg/1|Atypical Antipsyc...|        null|\n|0002-3235_1685798...|  0002-3235|HUMAN PRESCRIPTIO...|           Cymbalta|                   null|Duloxetine hydroc...|CAPSULE, DELAYED ...|        ORAL|          08/24/2004|              null|                    NDA|         NDA021427|Eli Lilly and Com...|DULOXETINE HYDROC...|                       20|              mg/1|Norepinephrine Up...|        null|\n|0002-3238_324a23e...|  0002-3238|HUMAN PRESCRIPTIO...|          Strattera|                   null|Atomoxetine hydro...|             CAPSULE|        ORAL|          11/26/2002|              null|                    NDA|         NDA021411|Eli Lilly and Com...|ATOMOXETINE HYDRO...|                       18|              mg/1|Norepinephrine Re...|        null|\n|0002-3239_324a23e...|  0002-3239|HUMAN PRESCRIPTIO...|          Strattera|                   null|Atomoxetine hydro...|             CAPSULE|        ORAL|          11/26/2002|              null|                    NDA|         NDA021411|Eli Lilly and Com...|ATOMOXETINE HYDRO...|                       60|              mg/1|Norepinephrine Re...|        null|\n|0002-3240_1685798...|  0002-3240|HUMAN PRESCRIPTIO...|           Cymbalta|                   null|Duloxetine hydroc...|CAPSULE, DELAYED ...|        ORAL|          08/24/2004|              null|                    NDA|         NDA021427|Eli Lilly and Com...|DULOXETINE HYDROC...|                       30|              mg/1|Norepinephrine Up...|        null|\n+--------------------+-----------+--------------------+-------------------+-----------------------+--------------------+--------------------+------------+--------------------+------------------+-----------------------+------------------+--------------------+--------------------+-------------------------+------------------+--------------------+------------+\nonly showing top 20 rows\n\n"
     ]
    }
   ],
   "source": [
    "df_csv_drugs_product.show()"
   ]
  },
  {
   "cell_type": "code",
   "execution_count": 0,
   "metadata": {
    "application/vnd.databricks.v1+cell": {
     "cellMetadata": {
      "byteLimit": 2048000,
      "rowLimit": 10000
     },
     "inputWidgets": {},
     "nuid": "90310fd0-236d-4eff-b5f7-e4d7fb4bc989",
     "showTitle": false,
     "title": ""
    }
   },
   "outputs": [
    {
     "output_type": "stream",
     "name": "stdout",
     "output_type": "stream",
     "text": [
      "Out[40]: 221361"
     ]
    }
   ],
   "source": [
    "df_csv_drugs_package.count()"
   ]
  },
  {
   "cell_type": "code",
   "execution_count": 0,
   "metadata": {
    "application/vnd.databricks.v1+cell": {
     "cellMetadata": {
      "byteLimit": 2048000,
      "rowLimit": 10000
     },
     "inputWidgets": {},
     "nuid": "0a7778f6-5fbd-45ae-afc0-d2fce954d3a9",
     "showTitle": false,
     "title": ""
    }
   },
   "outputs": [
    {
     "output_type": "stream",
     "name": "stdout",
     "output_type": "stream",
     "text": [
      "Out[41]: DataFrame[product_id: string, product_ndc: string, product_type_name: string, proprietary_name: string, proprietary_name_suffix: string, non_proprietary_name: string, dosage_form_name: string, route_name: string, start_marketing_date: string, end_marketing_date: string, marketing_category_name: string, application_number: string, labeler_name: string, substance_name: string, active_numerator_strength: string, active_ingred_unit: string, pharm_classes: string, dea_schedule: string]"
     ]
    }
   ],
   "source": [
    "df_csv_drugs_package.alias(\"package\")\n",
    "df_csv_drugs_product.alias(\"product\")"
   ]
  },
  {
   "cell_type": "code",
   "execution_count": 0,
   "metadata": {
    "application/vnd.databricks.v1+cell": {
     "cellMetadata": {
      "byteLimit": 2048000,
      "rowLimit": 10000
     },
     "inputWidgets": {},
     "nuid": "60ddad9d-2905-4967-b605-851fe8dcdaec",
     "showTitle": false,
     "title": ""
    }
   },
   "outputs": [
    {
     "output_type": "stream",
     "name": "stdout",
     "output_type": "stream",
     "text": [
      "Out[42]: DataFrame[product_id: string, product_ndc: string, product_type_name: string, proprietary_name: string, proprietary_name_suffix: string, non_proprietary_name: string, dosage_form_name: string, route_name: string, start_marketing_date: string, end_marketing_date: string, marketing_category_name: string, application_number: string, labeler_name: string, substance_name: string, active_numerator_strength: string, active_ingred_unit: string, pharm_classes: string, dea_schedule: string]"
     ]
    }
   ],
   "source": [
    "df_csv_drugs_package.dropDuplicates(['product_id'])\n",
    "\n",
    "df_csv_drugs_product.dropDuplicates(['product_id'])\n"
   ]
  },
  {
   "cell_type": "code",
   "execution_count": 0,
   "metadata": {
    "application/vnd.databricks.v1+cell": {
     "cellMetadata": {
      "byteLimit": 2048000,
      "rowLimit": 10000
     },
     "inputWidgets": {},
     "nuid": "956315e0-d119-47e7-9d9a-dc874813d306",
     "showTitle": false,
     "title": ""
    }
   },
   "outputs": [
    {
     "output_type": "stream",
     "name": "stdout",
     "output_type": "stream",
     "text": [
      "+--------------------+-----------+--------------------+-------------------+-----------------------+--------------------+--------------------+------------+--------------------+------------------+-----------------------+------------------+--------------------+--------------------+-------------------------+------------------+--------------------+------------+\n|          product_id|product_ndc|   product_type_name|   proprietary_name|proprietary_name_suffix|non_proprietary_name|    dosage_form_name|  route_name|start_marketing_date|end_marketing_date|marketing_category_name|application_number|        labeler_name|      substance_name|active_numerator_strength|active_ingred_unit|       pharm_classes|dea_schedule|\n+--------------------+-----------+--------------------+-------------------+-----------------------+--------------------+--------------------+------------+--------------------+------------------+-----------------------+------------------+--------------------+--------------------+-------------------------+------------------+--------------------+------------+\n|0002-1200_4bd46cb...|  0002-1200|HUMAN PRESCRIPTIO...|             Amyvid|                   null|    Florbetapir F 18| INJECTION, SOLUTION| INTRAVENOUS|          06/01/2012|              null|                    NDA|         NDA202008|Eli Lilly and Com...|    FLORBETAPIR F-18|                       51|            mCi/mL|Radioactive Diagn...|        null|\n|0002-1407_14757f9...|  0002-1407|HUMAN PRESCRIPTIO...|Quinidine Gluconate|                   null| Quinidine Gluconate|            SOLUTION| INTRAVENOUS|          07/12/1950|              null|                    NDA|         NDA007529|Eli Lilly and Com...| QUINIDINE GLUCONATE|                       80|             mg/mL|Antiarrhythmic [E...|        null|\n|0002-1433_aaae85a...|  0002-1433|HUMAN PRESCRIPTIO...|          Trulicity|                   null|         Dulaglutide| INJECTION, SOLUTION|SUBCUTANEOUS|          11/07/2014|              null|                    BLA|         BLA125469|Eli Lilly and Com...|         DULAGLUTIDE|                     0.75|           mg/.5mL|GLP-1 Receptor Ag...|        null|\n|0002-1434_aaae85a...|  0002-1434|HUMAN PRESCRIPTIO...|          Trulicity|                   null|         Dulaglutide| INJECTION, SOLUTION|SUBCUTANEOUS|          11/07/2014|              null|                    BLA|         BLA125469|Eli Lilly and Com...|         DULAGLUTIDE|                      1.5|           mg/.5mL|GLP-1 Receptor Ag...|        null|\n|0002-1445_2ecde4c...|  0002-1445|HUMAN PRESCRIPTIO...|              TALTZ|                   null|          ixekizumab| INJECTION, SOLUTION|SUBCUTANEOUS|          03/22/2016|              null|                    BLA|         BLA125521|Eli Lilly and Com...|          IXEKIZUMAB|                       80|             mg/mL|Interleukin-17A A...|        null|\n|0002-1975_2329598...|  0002-1975|HUMAN PRESCRIPTIO...|             AXIRON|                   null|        testosterone|            SOLUTION|     TOPICAL|          11/23/2010|              null|                    NDA|         NDA022504|Eli Lilly and Com...|        TESTOSTERONE|                       30|          mg/1.5mL|Androgen [EPC],An...|        CIII|\n|0002-1977_2329598...|  0002-1977|HUMAN PRESCRIPTIO...|             AXIRON|                   null|        testosterone|            SOLUTION|     TOPICAL|          11/23/2010|              null|                    NDA|         NDA022504|Eli Lilly and Com...|        TESTOSTERONE|                       30|          mg/1.5mL|Androgen [EPC],An...|        CIII|\n|0002-3004_7bf36d9...|  0002-3004|HUMAN PRESCRIPTIO...|             Prozac|                 Weekly|Fluoxetine hydroc...|CAPSULE, DELAYED ...|        ORAL|          03/16/2001|              null|                    NDA|         NDA021235|Eli Lilly and Com...|FLUOXETINE HYDROC...|                       90|              mg/1|Serotonin Reuptak...|        null|\n|0002-3227_324a23e...|  0002-3227|HUMAN PRESCRIPTIO...|          Strattera|                   null|Atomoxetine hydro...|             CAPSULE|        ORAL|          11/26/2002|              null|                    NDA|         NDA021411|Eli Lilly and Com...|ATOMOXETINE HYDRO...|                       10|              mg/1|Norepinephrine Re...|        null|\n|0002-3228_324a23e...|  0002-3228|HUMAN PRESCRIPTIO...|          Strattera|                   null|Atomoxetine hydro...|             CAPSULE|        ORAL|          11/26/2002|              null|                    NDA|         NDA021411|Eli Lilly and Com...|ATOMOXETINE HYDRO...|                       25|              mg/1|Norepinephrine Re...|        null|\n|0002-3229_324a23e...|  0002-3229|HUMAN PRESCRIPTIO...|          Strattera|                   null|Atomoxetine hydro...|             CAPSULE|        ORAL|          11/26/2002|              null|                    NDA|         NDA021411|Eli Lilly and Com...|ATOMOXETINE HYDRO...|                       40|              mg/1|Norepinephrine Re...|        null|\n|0002-3230_7de92fb...|  0002-3230|HUMAN PRESCRIPTIO...|            Symbyax|                   null|Olanzapine and Fl...|             CAPSULE|        ORAL|          04/09/2007|              null|                    NDA|         NDA021520|Eli Lilly and Com...|OLANZAPINE; FLUOX...|                    3; 25|        mg/1; mg/1|Atypical Antipsyc...|        null|\n|0002-3231_7de92fb...|  0002-3231|HUMAN PRESCRIPTIO...|            Symbyax|                   null|Olanzapine and Fl...|             CAPSULE|        ORAL|          12/24/2003|              null|                    NDA|         NDA021520|Eli Lilly and Com...|OLANZAPINE; FLUOX...|                    6; 25|        mg/1; mg/1|Atypical Antipsyc...|        null|\n|0002-3232_7de92fb...|  0002-3232|HUMAN PRESCRIPTIO...|            Symbyax|                   null|Olanzapine and Fl...|             CAPSULE|        ORAL|          12/24/2003|              null|                    NDA|         NDA021520|Eli Lilly and Com...|OLANZAPINE; FLUOX...|                   12; 25|        mg/1; mg/1|Atypical Antipsyc...|        null|\n|0002-3233_7de92fb...|  0002-3233|HUMAN PRESCRIPTIO...|            Symbyax|                   null|Olanzapine and Fl...|             CAPSULE|        ORAL|          12/24/2003|              null|                    NDA|         NDA021520|Eli Lilly and Com...|OLANZAPINE; FLUOX...|                    6; 50|        mg/1; mg/1|Atypical Antipsyc...|        null|\n|0002-3234_7de92fb...|  0002-3234|HUMAN PRESCRIPTIO...|            Symbyax|                   null|Olanzapine and Fl...|             CAPSULE|        ORAL|          12/24/2003|              null|                    NDA|         NDA021520|Eli Lilly and Com...|OLANZAPINE; FLUOX...|                   12; 50|        mg/1; mg/1|Atypical Antipsyc...|        null|\n|0002-3235_1685798...|  0002-3235|HUMAN PRESCRIPTIO...|           Cymbalta|                   null|Duloxetine hydroc...|CAPSULE, DELAYED ...|        ORAL|          08/24/2004|              null|                    NDA|         NDA021427|Eli Lilly and Com...|DULOXETINE HYDROC...|                       20|              mg/1|Norepinephrine Up...|        null|\n|0002-3238_324a23e...|  0002-3238|HUMAN PRESCRIPTIO...|          Strattera|                   null|Atomoxetine hydro...|             CAPSULE|        ORAL|          11/26/2002|              null|                    NDA|         NDA021411|Eli Lilly and Com...|ATOMOXETINE HYDRO...|                       18|              mg/1|Norepinephrine Re...|        null|\n|0002-3239_324a23e...|  0002-3239|HUMAN PRESCRIPTIO...|          Strattera|                   null|Atomoxetine hydro...|             CAPSULE|        ORAL|          11/26/2002|              null|                    NDA|         NDA021411|Eli Lilly and Com...|ATOMOXETINE HYDRO...|                       60|              mg/1|Norepinephrine Re...|        null|\n|0002-3240_1685798...|  0002-3240|HUMAN PRESCRIPTIO...|           Cymbalta|                   null|Duloxetine hydroc...|CAPSULE, DELAYED ...|        ORAL|          08/24/2004|              null|                    NDA|         NDA021427|Eli Lilly and Com...|DULOXETINE HYDROC...|                       30|              mg/1|Norepinephrine Up...|        null|\n+--------------------+-----------+--------------------+-------------------+-----------------------+--------------------+--------------------+------------+--------------------+------------------+-----------------------+------------------+--------------------+--------------------+-------------------------+------------------+--------------------+------------+\nonly showing top 20 rows\n\n"
     ]
    }
   ],
   "source": [
    "df_csv_drugs_product.show()\n",
    "df_csv_drugs_product.count()\n",
    "\n",
    "df=df_csv_drugs_product"
   ]
  },
  {
   "cell_type": "code",
   "execution_count": 0,
   "metadata": {
    "application/vnd.databricks.v1+cell": {
     "cellMetadata": {
      "byteLimit": 2048000,
      "rowLimit": 10000
     },
     "inputWidgets": {},
     "nuid": "848eb7ad-0e89-4b84-8a25-3cefebc99a4d",
     "showTitle": false,
     "title": ""
    }
   },
   "outputs": [],
   "source": []
  },
  {
   "cell_type": "code",
   "execution_count": 0,
   "metadata": {
    "application/vnd.databricks.v1+cell": {
     "cellMetadata": {
      "byteLimit": 2048000,
      "rowLimit": 10000
     },
     "inputWidgets": {},
     "nuid": "3d33476f-d27d-4145-b514-ded179be6a9e",
     "showTitle": false,
     "title": ""
    }
   },
   "outputs": [],
   "source": [
    "df_csv_drugs_product=df_csv_drugs_product.withColumns(\n",
    "    {\n",
    "        # \"dosage_form_name\": F.split(df_csv_drugs_product[\"dosage_form_name\"], \",\"),\n",
    "        \"substance_name\": F.split(df_csv_drugs_product[\"substance_name\"], \";\"),\n",
    "        \"active_numerator_strength\": F.split(df_csv_drugs_product[\"active_numerator_strength\"], \";\"),\n",
    "        \"active_ingred_unit\": F.split(df_csv_drugs_product[\"active_ingred_unit\"], \";\")\n",
    "        # \"pharm_classes\": F.split(df_csv_drugs_product[\"pharm_classes\"], \",\") \n",
    "     })\n"
   ]
  },
  {
   "cell_type": "code",
   "execution_count": 0,
   "metadata": {
    "application/vnd.databricks.v1+cell": {
     "cellMetadata": {
      "byteLimit": 2048000,
      "rowLimit": 10000
     },
     "inputWidgets": {},
     "nuid": "c490ad3c-ea38-4e16-a040-b85694948cf8",
     "showTitle": false,
     "title": ""
    }
   },
   "outputs": [
    {
     "output_type": "stream",
     "name": "stdout",
     "output_type": "stream",
     "text": [
      "+--------------------+-----------+--------------------+-------------------+-----------------------+--------------------+--------------------+------------+--------------------+------------------+-----------------------+------------------+--------------------+--------------------+-------------------------+------------------+--------------------+------------+\n|          product_id|product_ndc|   product_type_name|   proprietary_name|proprietary_name_suffix|non_proprietary_name|    dosage_form_name|  route_name|start_marketing_date|end_marketing_date|marketing_category_name|application_number|        labeler_name|      substance_name|active_numerator_strength|active_ingred_unit|       pharm_classes|dea_schedule|\n+--------------------+-----------+--------------------+-------------------+-----------------------+--------------------+--------------------+------------+--------------------+------------------+-----------------------+------------------+--------------------+--------------------+-------------------------+------------------+--------------------+------------+\n|0002-1200_4bd46cb...|  0002-1200|HUMAN PRESCRIPTIO...|             Amyvid|                   null|    Florbetapir F 18| INJECTION, SOLUTION| INTRAVENOUS|          06/01/2012|              null|                    NDA|         NDA202008|Eli Lilly and Com...|  [FLORBETAPIR F-18]|                     [51]|          [mCi/mL]|Radioactive Diagn...|        null|\n|0002-1407_14757f9...|  0002-1407|HUMAN PRESCRIPTIO...|Quinidine Gluconate|                   null| Quinidine Gluconate|            SOLUTION| INTRAVENOUS|          07/12/1950|              null|                    NDA|         NDA007529|Eli Lilly and Com...|[QUINIDINE GLUCON...|                     [80]|           [mg/mL]|Antiarrhythmic [E...|        null|\n|0002-1433_aaae85a...|  0002-1433|HUMAN PRESCRIPTIO...|          Trulicity|                   null|         Dulaglutide| INJECTION, SOLUTION|SUBCUTANEOUS|          11/07/2014|              null|                    BLA|         BLA125469|Eli Lilly and Com...|       [DULAGLUTIDE]|                   [0.75]|         [mg/.5mL]|GLP-1 Receptor Ag...|        null|\n|0002-1434_aaae85a...|  0002-1434|HUMAN PRESCRIPTIO...|          Trulicity|                   null|         Dulaglutide| INJECTION, SOLUTION|SUBCUTANEOUS|          11/07/2014|              null|                    BLA|         BLA125469|Eli Lilly and Com...|       [DULAGLUTIDE]|                    [1.5]|         [mg/.5mL]|GLP-1 Receptor Ag...|        null|\n|0002-1445_2ecde4c...|  0002-1445|HUMAN PRESCRIPTIO...|              TALTZ|                   null|          ixekizumab| INJECTION, SOLUTION|SUBCUTANEOUS|          03/22/2016|              null|                    BLA|         BLA125521|Eli Lilly and Com...|        [IXEKIZUMAB]|                     [80]|           [mg/mL]|Interleukin-17A A...|        null|\n|0002-1975_2329598...|  0002-1975|HUMAN PRESCRIPTIO...|             AXIRON|                   null|        testosterone|            SOLUTION|     TOPICAL|          11/23/2010|              null|                    NDA|         NDA022504|Eli Lilly and Com...|      [TESTOSTERONE]|                     [30]|        [mg/1.5mL]|Androgen [EPC],An...|        CIII|\n|0002-1977_2329598...|  0002-1977|HUMAN PRESCRIPTIO...|             AXIRON|                   null|        testosterone|            SOLUTION|     TOPICAL|          11/23/2010|              null|                    NDA|         NDA022504|Eli Lilly and Com...|      [TESTOSTERONE]|                     [30]|        [mg/1.5mL]|Androgen [EPC],An...|        CIII|\n|0002-3004_7bf36d9...|  0002-3004|HUMAN PRESCRIPTIO...|             Prozac|                 Weekly|Fluoxetine hydroc...|CAPSULE, DELAYED ...|        ORAL|          03/16/2001|              null|                    NDA|         NDA021235|Eli Lilly and Com...|[FLUOXETINE HYDRO...|                     [90]|            [mg/1]|Serotonin Reuptak...|        null|\n|0002-3227_324a23e...|  0002-3227|HUMAN PRESCRIPTIO...|          Strattera|                   null|Atomoxetine hydro...|             CAPSULE|        ORAL|          11/26/2002|              null|                    NDA|         NDA021411|Eli Lilly and Com...|[ATOMOXETINE HYDR...|                     [10]|            [mg/1]|Norepinephrine Re...|        null|\n|0002-3228_324a23e...|  0002-3228|HUMAN PRESCRIPTIO...|          Strattera|                   null|Atomoxetine hydro...|             CAPSULE|        ORAL|          11/26/2002|              null|                    NDA|         NDA021411|Eli Lilly and Com...|[ATOMOXETINE HYDR...|                     [25]|            [mg/1]|Norepinephrine Re...|        null|\n|0002-3229_324a23e...|  0002-3229|HUMAN PRESCRIPTIO...|          Strattera|                   null|Atomoxetine hydro...|             CAPSULE|        ORAL|          11/26/2002|              null|                    NDA|         NDA021411|Eli Lilly and Com...|[ATOMOXETINE HYDR...|                     [40]|            [mg/1]|Norepinephrine Re...|        null|\n|0002-3230_7de92fb...|  0002-3230|HUMAN PRESCRIPTIO...|            Symbyax|                   null|Olanzapine and Fl...|             CAPSULE|        ORAL|          04/09/2007|              null|                    NDA|         NDA021520|Eli Lilly and Com...|[OLANZAPINE,  FLU...|                 [3,  25]|     [mg/1,  mg/1]|Atypical Antipsyc...|        null|\n|0002-3231_7de92fb...|  0002-3231|HUMAN PRESCRIPTIO...|            Symbyax|                   null|Olanzapine and Fl...|             CAPSULE|        ORAL|          12/24/2003|              null|                    NDA|         NDA021520|Eli Lilly and Com...|[OLANZAPINE,  FLU...|                 [6,  25]|     [mg/1,  mg/1]|Atypical Antipsyc...|        null|\n|0002-3232_7de92fb...|  0002-3232|HUMAN PRESCRIPTIO...|            Symbyax|                   null|Olanzapine and Fl...|             CAPSULE|        ORAL|          12/24/2003|              null|                    NDA|         NDA021520|Eli Lilly and Com...|[OLANZAPINE,  FLU...|                [12,  25]|     [mg/1,  mg/1]|Atypical Antipsyc...|        null|\n|0002-3233_7de92fb...|  0002-3233|HUMAN PRESCRIPTIO...|            Symbyax|                   null|Olanzapine and Fl...|             CAPSULE|        ORAL|          12/24/2003|              null|                    NDA|         NDA021520|Eli Lilly and Com...|[OLANZAPINE,  FLU...|                 [6,  50]|     [mg/1,  mg/1]|Atypical Antipsyc...|        null|\n|0002-3234_7de92fb...|  0002-3234|HUMAN PRESCRIPTIO...|            Symbyax|                   null|Olanzapine and Fl...|             CAPSULE|        ORAL|          12/24/2003|              null|                    NDA|         NDA021520|Eli Lilly and Com...|[OLANZAPINE,  FLU...|                [12,  50]|     [mg/1,  mg/1]|Atypical Antipsyc...|        null|\n|0002-3235_1685798...|  0002-3235|HUMAN PRESCRIPTIO...|           Cymbalta|                   null|Duloxetine hydroc...|CAPSULE, DELAYED ...|        ORAL|          08/24/2004|              null|                    NDA|         NDA021427|Eli Lilly and Com...|[DULOXETINE HYDRO...|                     [20]|            [mg/1]|Norepinephrine Up...|        null|\n|0002-3238_324a23e...|  0002-3238|HUMAN PRESCRIPTIO...|          Strattera|                   null|Atomoxetine hydro...|             CAPSULE|        ORAL|          11/26/2002|              null|                    NDA|         NDA021411|Eli Lilly and Com...|[ATOMOXETINE HYDR...|                     [18]|            [mg/1]|Norepinephrine Re...|        null|\n|0002-3239_324a23e...|  0002-3239|HUMAN PRESCRIPTIO...|          Strattera|                   null|Atomoxetine hydro...|             CAPSULE|        ORAL|          11/26/2002|              null|                    NDA|         NDA021411|Eli Lilly and Com...|[ATOMOXETINE HYDR...|                     [60]|            [mg/1]|Norepinephrine Re...|        null|\n|0002-3240_1685798...|  0002-3240|HUMAN PRESCRIPTIO...|           Cymbalta|                   null|Duloxetine hydroc...|CAPSULE, DELAYED ...|        ORAL|          08/24/2004|              null|                    NDA|         NDA021427|Eli Lilly and Com...|[DULOXETINE HYDRO...|                     [30]|            [mg/1]|Norepinephrine Up...|        null|\n+--------------------+-----------+--------------------+-------------------+-----------------------+--------------------+--------------------+------------+--------------------+------------------+-----------------------+------------------+--------------------+--------------------+-------------------------+------------------+--------------------+------------+\nonly showing top 20 rows\n\nOut[45]: 117365"
     ]
    }
   ],
   "source": [
    "df_csv_drugs_product.show()\n",
    "df_csv_drugs_product.count()"
   ]
  },
  {
   "cell_type": "code",
   "execution_count": 0,
   "metadata": {
    "application/vnd.databricks.v1+cell": {
     "cellMetadata": {
      "byteLimit": 2048000,
      "rowLimit": 10000
     },
     "inputWidgets": {},
     "nuid": "8d200bd2-f860-4cb5-be82-9b937e8c4ce1",
     "showTitle": false,
     "title": ""
    }
   },
   "outputs": [
    {
     "output_type": "stream",
     "name": "stdout",
     "output_type": "stream",
     "text": [
      "+--------------------+-----------+--------------------+-------------------+-----------------------+--------------------+--------------------+------------+--------------------+------------------+-----------------------+------------------+--------------------+--------------------+-------------------------+------------------+--------------------+------------+--------------------+\n|          product_id|product_ndc|   product_type_name|   proprietary_name|proprietary_name_suffix|non_proprietary_name|    dosage_form_name|  route_name|start_marketing_date|end_marketing_date|marketing_category_name|application_number|        labeler_name|      substance_name|active_numerator_strength|active_ingred_unit|       pharm_classes|dea_schedule|   substance_details|\n+--------------------+-----------+--------------------+-------------------+-----------------------+--------------------+--------------------+------------+--------------------+------------------+-----------------------+------------------+--------------------+--------------------+-------------------------+------------------+--------------------+------------+--------------------+\n|0002-1200_4bd46cb...|  0002-1200|HUMAN PRESCRIPTIO...|             Amyvid|                   null|    Florbetapir F 18| INJECTION, SOLUTION| INTRAVENOUS|          06/01/2012|              null|                    NDA|         NDA202008|Eli Lilly and Com...|  [FLORBETAPIR F-18]|                     [51]|          [mCi/mL]|Radioactive Diagn...|        null|[{FLORBETAPIR F-1...|\n|0002-1407_14757f9...|  0002-1407|HUMAN PRESCRIPTIO...|Quinidine Gluconate|                   null| Quinidine Gluconate|            SOLUTION| INTRAVENOUS|          07/12/1950|              null|                    NDA|         NDA007529|Eli Lilly and Com...|[QUINIDINE GLUCON...|                     [80]|           [mg/mL]|Antiarrhythmic [E...|        null|[{QUINIDINE GLUCO...|\n|0002-1433_aaae85a...|  0002-1433|HUMAN PRESCRIPTIO...|          Trulicity|                   null|         Dulaglutide| INJECTION, SOLUTION|SUBCUTANEOUS|          11/07/2014|              null|                    BLA|         BLA125469|Eli Lilly and Com...|       [DULAGLUTIDE]|                   [0.75]|         [mg/.5mL]|GLP-1 Receptor Ag...|        null|[{DULAGLUTIDE, 0....|\n|0002-1434_aaae85a...|  0002-1434|HUMAN PRESCRIPTIO...|          Trulicity|                   null|         Dulaglutide| INJECTION, SOLUTION|SUBCUTANEOUS|          11/07/2014|              null|                    BLA|         BLA125469|Eli Lilly and Com...|       [DULAGLUTIDE]|                    [1.5]|         [mg/.5mL]|GLP-1 Receptor Ag...|        null|[{DULAGLUTIDE, 1....|\n|0002-1445_2ecde4c...|  0002-1445|HUMAN PRESCRIPTIO...|              TALTZ|                   null|          ixekizumab| INJECTION, SOLUTION|SUBCUTANEOUS|          03/22/2016|              null|                    BLA|         BLA125521|Eli Lilly and Com...|        [IXEKIZUMAB]|                     [80]|           [mg/mL]|Interleukin-17A A...|        null|[{IXEKIZUMAB, 80,...|\n|0002-1975_2329598...|  0002-1975|HUMAN PRESCRIPTIO...|             AXIRON|                   null|        testosterone|            SOLUTION|     TOPICAL|          11/23/2010|              null|                    NDA|         NDA022504|Eli Lilly and Com...|      [TESTOSTERONE]|                     [30]|        [mg/1.5mL]|Androgen [EPC],An...|        CIII|[{TESTOSTERONE, 3...|\n|0002-1977_2329598...|  0002-1977|HUMAN PRESCRIPTIO...|             AXIRON|                   null|        testosterone|            SOLUTION|     TOPICAL|          11/23/2010|              null|                    NDA|         NDA022504|Eli Lilly and Com...|      [TESTOSTERONE]|                     [30]|        [mg/1.5mL]|Androgen [EPC],An...|        CIII|[{TESTOSTERONE, 3...|\n|0002-3004_7bf36d9...|  0002-3004|HUMAN PRESCRIPTIO...|             Prozac|                 Weekly|Fluoxetine hydroc...|CAPSULE, DELAYED ...|        ORAL|          03/16/2001|              null|                    NDA|         NDA021235|Eli Lilly and Com...|[FLUOXETINE HYDRO...|                     [90]|            [mg/1]|Serotonin Reuptak...|        null|[{FLUOXETINE HYDR...|\n|0002-3227_324a23e...|  0002-3227|HUMAN PRESCRIPTIO...|          Strattera|                   null|Atomoxetine hydro...|             CAPSULE|        ORAL|          11/26/2002|              null|                    NDA|         NDA021411|Eli Lilly and Com...|[ATOMOXETINE HYDR...|                     [10]|            [mg/1]|Norepinephrine Re...|        null|[{ATOMOXETINE HYD...|\n|0002-3228_324a23e...|  0002-3228|HUMAN PRESCRIPTIO...|          Strattera|                   null|Atomoxetine hydro...|             CAPSULE|        ORAL|          11/26/2002|              null|                    NDA|         NDA021411|Eli Lilly and Com...|[ATOMOXETINE HYDR...|                     [25]|            [mg/1]|Norepinephrine Re...|        null|[{ATOMOXETINE HYD...|\n|0002-3229_324a23e...|  0002-3229|HUMAN PRESCRIPTIO...|          Strattera|                   null|Atomoxetine hydro...|             CAPSULE|        ORAL|          11/26/2002|              null|                    NDA|         NDA021411|Eli Lilly and Com...|[ATOMOXETINE HYDR...|                     [40]|            [mg/1]|Norepinephrine Re...|        null|[{ATOMOXETINE HYD...|\n|0002-3230_7de92fb...|  0002-3230|HUMAN PRESCRIPTIO...|            Symbyax|                   null|Olanzapine and Fl...|             CAPSULE|        ORAL|          04/09/2007|              null|                    NDA|         NDA021520|Eli Lilly and Com...|[OLANZAPINE,  FLU...|                 [3,  25]|     [mg/1,  mg/1]|Atypical Antipsyc...|        null|[{OLANZAPINE, 3, ...|\n|0002-3231_7de92fb...|  0002-3231|HUMAN PRESCRIPTIO...|            Symbyax|                   null|Olanzapine and Fl...|             CAPSULE|        ORAL|          12/24/2003|              null|                    NDA|         NDA021520|Eli Lilly and Com...|[OLANZAPINE,  FLU...|                 [6,  25]|     [mg/1,  mg/1]|Atypical Antipsyc...|        null|[{OLANZAPINE, 6, ...|\n|0002-3232_7de92fb...|  0002-3232|HUMAN PRESCRIPTIO...|            Symbyax|                   null|Olanzapine and Fl...|             CAPSULE|        ORAL|          12/24/2003|              null|                    NDA|         NDA021520|Eli Lilly and Com...|[OLANZAPINE,  FLU...|                [12,  25]|     [mg/1,  mg/1]|Atypical Antipsyc...|        null|[{OLANZAPINE, 12,...|\n|0002-3233_7de92fb...|  0002-3233|HUMAN PRESCRIPTIO...|            Symbyax|                   null|Olanzapine and Fl...|             CAPSULE|        ORAL|          12/24/2003|              null|                    NDA|         NDA021520|Eli Lilly and Com...|[OLANZAPINE,  FLU...|                 [6,  50]|     [mg/1,  mg/1]|Atypical Antipsyc...|        null|[{OLANZAPINE, 6, ...|\n|0002-3234_7de92fb...|  0002-3234|HUMAN PRESCRIPTIO...|            Symbyax|                   null|Olanzapine and Fl...|             CAPSULE|        ORAL|          12/24/2003|              null|                    NDA|         NDA021520|Eli Lilly and Com...|[OLANZAPINE,  FLU...|                [12,  50]|     [mg/1,  mg/1]|Atypical Antipsyc...|        null|[{OLANZAPINE, 12,...|\n|0002-3235_1685798...|  0002-3235|HUMAN PRESCRIPTIO...|           Cymbalta|                   null|Duloxetine hydroc...|CAPSULE, DELAYED ...|        ORAL|          08/24/2004|              null|                    NDA|         NDA021427|Eli Lilly and Com...|[DULOXETINE HYDRO...|                     [20]|            [mg/1]|Norepinephrine Up...|        null|[{DULOXETINE HYDR...|\n|0002-3238_324a23e...|  0002-3238|HUMAN PRESCRIPTIO...|          Strattera|                   null|Atomoxetine hydro...|             CAPSULE|        ORAL|          11/26/2002|              null|                    NDA|         NDA021411|Eli Lilly and Com...|[ATOMOXETINE HYDR...|                     [18]|            [mg/1]|Norepinephrine Re...|        null|[{ATOMOXETINE HYD...|\n|0002-3239_324a23e...|  0002-3239|HUMAN PRESCRIPTIO...|          Strattera|                   null|Atomoxetine hydro...|             CAPSULE|        ORAL|          11/26/2002|              null|                    NDA|         NDA021411|Eli Lilly and Com...|[ATOMOXETINE HYDR...|                     [60]|            [mg/1]|Norepinephrine Re...|        null|[{ATOMOXETINE HYD...|\n|0002-3240_1685798...|  0002-3240|HUMAN PRESCRIPTIO...|           Cymbalta|                   null|Duloxetine hydroc...|CAPSULE, DELAYED ...|        ORAL|          08/24/2004|              null|                    NDA|         NDA021427|Eli Lilly and Com...|[DULOXETINE HYDRO...|                     [30]|            [mg/1]|Norepinephrine Up...|        null|[{DULOXETINE HYDR...|\n+--------------------+-----------+--------------------+-------------------+-----------------------+--------------------+--------------------+------------+--------------------+------------------+-----------------------+------------------+--------------------+--------------------+-------------------------+------------------+--------------------+------------+--------------------+\nonly showing top 20 rows\n\n"
     ]
    }
   ],
   "source": [
    "df_csv_drugs_product = df_csv_drugs_product.withColumn(\n",
    "    \"substance_details\",\n",
    "    F.arrays_zip(\"substance_name\", \"active_numerator_strength\", \"active_ingred_unit\")\n",
    ")\n",
    "df_csv_drugs_product.show()"
   ]
  },
  {
   "cell_type": "code",
   "execution_count": 0,
   "metadata": {
    "application/vnd.databricks.v1+cell": {
     "cellMetadata": {
      "byteLimit": 2048000,
      "rowLimit": 10000
     },
     "inputWidgets": {},
     "nuid": "5144ec9e-d009-412e-9f65-7fe2e0c5d222",
     "showTitle": false,
     "title": ""
    }
   },
   "outputs": [],
   "source": [
    "df_csv_drugs_product = df_csv_drugs_product.withColumn(\"substance_info\", F.explode(\"substance_details\"))"
   ]
  },
  {
   "cell_type": "code",
   "execution_count": 0,
   "metadata": {
    "application/vnd.databricks.v1+cell": {
     "cellMetadata": {
      "byteLimit": 2048000,
      "rowLimit": 10000
     },
     "inputWidgets": {},
     "nuid": "99f58f04-b4ab-4c18-b8b5-63b257e2d6cd",
     "showTitle": false,
     "title": ""
    }
   },
   "outputs": [],
   "source": [
    "df_csv_drugs_product = df_csv_drugs_product.select(\n",
    "    \"*\",\n",
    "    \"substance_info.*\"\n",
    ")\n"
   ]
  },
  {
   "cell_type": "code",
   "execution_count": 0,
   "metadata": {
    "application/vnd.databricks.v1+cell": {
     "cellMetadata": {
      "byteLimit": 2048000,
      "rowLimit": 10000
     },
     "inputWidgets": {},
     "nuid": "2ecbb695-b46c-48b3-ab68-4c5b230fe665",
     "showTitle": false,
     "title": ""
    }
   },
   "outputs": [
    {
     "output_type": "stream",
     "name": "stdout",
     "output_type": "stream",
     "text": [
      "+--------------------+-----------+--------------------+-------------------+-----------------------+--------------------+--------------------+------------+--------------------+------------------+-----------------------+------------------+--------------------+--------------------+-------------------------+------------------+--------------------+------------+--------------------+--------------------+--------------------+-------------------------+------------------+\n|          product_id|product_ndc|   product_type_name|   proprietary_name|proprietary_name_suffix|non_proprietary_name|    dosage_form_name|  route_name|start_marketing_date|end_marketing_date|marketing_category_name|application_number|        labeler_name|      substance_name|active_numerator_strength|active_ingred_unit|       pharm_classes|dea_schedule|   substance_details|      substance_info|      substance_name|active_numerator_strength|active_ingred_unit|\n+--------------------+-----------+--------------------+-------------------+-----------------------+--------------------+--------------------+------------+--------------------+------------------+-----------------------+------------------+--------------------+--------------------+-------------------------+------------------+--------------------+------------+--------------------+--------------------+--------------------+-------------------------+------------------+\n|0002-1200_4bd46cb...|  0002-1200|HUMAN PRESCRIPTIO...|             Amyvid|                   null|    Florbetapir F 18| INJECTION, SOLUTION| INTRAVENOUS|          06/01/2012|              null|                    NDA|         NDA202008|Eli Lilly and Com...|  [FLORBETAPIR F-18]|                     [51]|          [mCi/mL]|Radioactive Diagn...|        null|[{FLORBETAPIR F-1...|{FLORBETAPIR F-18...|    FLORBETAPIR F-18|                       51|            mCi/mL|\n|0002-1407_14757f9...|  0002-1407|HUMAN PRESCRIPTIO...|Quinidine Gluconate|                   null| Quinidine Gluconate|            SOLUTION| INTRAVENOUS|          07/12/1950|              null|                    NDA|         NDA007529|Eli Lilly and Com...|[QUINIDINE GLUCON...|                     [80]|           [mg/mL]|Antiarrhythmic [E...|        null|[{QUINIDINE GLUCO...|{QUINIDINE GLUCON...| QUINIDINE GLUCONATE|                       80|             mg/mL|\n|0002-1433_aaae85a...|  0002-1433|HUMAN PRESCRIPTIO...|          Trulicity|                   null|         Dulaglutide| INJECTION, SOLUTION|SUBCUTANEOUS|          11/07/2014|              null|                    BLA|         BLA125469|Eli Lilly and Com...|       [DULAGLUTIDE]|                   [0.75]|         [mg/.5mL]|GLP-1 Receptor Ag...|        null|[{DULAGLUTIDE, 0....|{DULAGLUTIDE, 0.7...|         DULAGLUTIDE|                     0.75|           mg/.5mL|\n|0002-1434_aaae85a...|  0002-1434|HUMAN PRESCRIPTIO...|          Trulicity|                   null|         Dulaglutide| INJECTION, SOLUTION|SUBCUTANEOUS|          11/07/2014|              null|                    BLA|         BLA125469|Eli Lilly and Com...|       [DULAGLUTIDE]|                    [1.5]|         [mg/.5mL]|GLP-1 Receptor Ag...|        null|[{DULAGLUTIDE, 1....|{DULAGLUTIDE, 1.5...|         DULAGLUTIDE|                      1.5|           mg/.5mL|\n|0002-1445_2ecde4c...|  0002-1445|HUMAN PRESCRIPTIO...|              TALTZ|                   null|          ixekizumab| INJECTION, SOLUTION|SUBCUTANEOUS|          03/22/2016|              null|                    BLA|         BLA125521|Eli Lilly and Com...|        [IXEKIZUMAB]|                     [80]|           [mg/mL]|Interleukin-17A A...|        null|[{IXEKIZUMAB, 80,...|{IXEKIZUMAB, 80, ...|          IXEKIZUMAB|                       80|             mg/mL|\n|0002-1975_2329598...|  0002-1975|HUMAN PRESCRIPTIO...|             AXIRON|                   null|        testosterone|            SOLUTION|     TOPICAL|          11/23/2010|              null|                    NDA|         NDA022504|Eli Lilly and Com...|      [TESTOSTERONE]|                     [30]|        [mg/1.5mL]|Androgen [EPC],An...|        CIII|[{TESTOSTERONE, 3...|{TESTOSTERONE, 30...|        TESTOSTERONE|                       30|          mg/1.5mL|\n|0002-1977_2329598...|  0002-1977|HUMAN PRESCRIPTIO...|             AXIRON|                   null|        testosterone|            SOLUTION|     TOPICAL|          11/23/2010|              null|                    NDA|         NDA022504|Eli Lilly and Com...|      [TESTOSTERONE]|                     [30]|        [mg/1.5mL]|Androgen [EPC],An...|        CIII|[{TESTOSTERONE, 3...|{TESTOSTERONE, 30...|        TESTOSTERONE|                       30|          mg/1.5mL|\n|0002-3004_7bf36d9...|  0002-3004|HUMAN PRESCRIPTIO...|             Prozac|                 Weekly|Fluoxetine hydroc...|CAPSULE, DELAYED ...|        ORAL|          03/16/2001|              null|                    NDA|         NDA021235|Eli Lilly and Com...|[FLUOXETINE HYDRO...|                     [90]|            [mg/1]|Serotonin Reuptak...|        null|[{FLUOXETINE HYDR...|{FLUOXETINE HYDRO...|FLUOXETINE HYDROC...|                       90|              mg/1|\n|0002-3227_324a23e...|  0002-3227|HUMAN PRESCRIPTIO...|          Strattera|                   null|Atomoxetine hydro...|             CAPSULE|        ORAL|          11/26/2002|              null|                    NDA|         NDA021411|Eli Lilly and Com...|[ATOMOXETINE HYDR...|                     [10]|            [mg/1]|Norepinephrine Re...|        null|[{ATOMOXETINE HYD...|{ATOMOXETINE HYDR...|ATOMOXETINE HYDRO...|                       10|              mg/1|\n|0002-3228_324a23e...|  0002-3228|HUMAN PRESCRIPTIO...|          Strattera|                   null|Atomoxetine hydro...|             CAPSULE|        ORAL|          11/26/2002|              null|                    NDA|         NDA021411|Eli Lilly and Com...|[ATOMOXETINE HYDR...|                     [25]|            [mg/1]|Norepinephrine Re...|        null|[{ATOMOXETINE HYD...|{ATOMOXETINE HYDR...|ATOMOXETINE HYDRO...|                       25|              mg/1|\n|0002-3229_324a23e...|  0002-3229|HUMAN PRESCRIPTIO...|          Strattera|                   null|Atomoxetine hydro...|             CAPSULE|        ORAL|          11/26/2002|              null|                    NDA|         NDA021411|Eli Lilly and Com...|[ATOMOXETINE HYDR...|                     [40]|            [mg/1]|Norepinephrine Re...|        null|[{ATOMOXETINE HYD...|{ATOMOXETINE HYDR...|ATOMOXETINE HYDRO...|                       40|              mg/1|\n|0002-3230_7de92fb...|  0002-3230|HUMAN PRESCRIPTIO...|            Symbyax|                   null|Olanzapine and Fl...|             CAPSULE|        ORAL|          04/09/2007|              null|                    NDA|         NDA021520|Eli Lilly and Com...|[OLANZAPINE,  FLU...|                 [3,  25]|     [mg/1,  mg/1]|Atypical Antipsyc...|        null|[{OLANZAPINE, 3, ...|{OLANZAPINE, 3, m...|          OLANZAPINE|                        3|              mg/1|\n|0002-3230_7de92fb...|  0002-3230|HUMAN PRESCRIPTIO...|            Symbyax|                   null|Olanzapine and Fl...|             CAPSULE|        ORAL|          04/09/2007|              null|                    NDA|         NDA021520|Eli Lilly and Com...|[OLANZAPINE,  FLU...|                 [3,  25]|     [mg/1,  mg/1]|Atypical Antipsyc...|        null|[{OLANZAPINE, 3, ...|{ FLUOXETINE HYDR...| FLUOXETINE HYDRO...|                       25|              mg/1|\n|0002-3231_7de92fb...|  0002-3231|HUMAN PRESCRIPTIO...|            Symbyax|                   null|Olanzapine and Fl...|             CAPSULE|        ORAL|          12/24/2003|              null|                    NDA|         NDA021520|Eli Lilly and Com...|[OLANZAPINE,  FLU...|                 [6,  25]|     [mg/1,  mg/1]|Atypical Antipsyc...|        null|[{OLANZAPINE, 6, ...|{OLANZAPINE, 6, m...|          OLANZAPINE|                        6|              mg/1|\n|0002-3231_7de92fb...|  0002-3231|HUMAN PRESCRIPTIO...|            Symbyax|                   null|Olanzapine and Fl...|             CAPSULE|        ORAL|          12/24/2003|              null|                    NDA|         NDA021520|Eli Lilly and Com...|[OLANZAPINE,  FLU...|                 [6,  25]|     [mg/1,  mg/1]|Atypical Antipsyc...|        null|[{OLANZAPINE, 6, ...|{ FLUOXETINE HYDR...| FLUOXETINE HYDRO...|                       25|              mg/1|\n|0002-3232_7de92fb...|  0002-3232|HUMAN PRESCRIPTIO...|            Symbyax|                   null|Olanzapine and Fl...|             CAPSULE|        ORAL|          12/24/2003|              null|                    NDA|         NDA021520|Eli Lilly and Com...|[OLANZAPINE,  FLU...|                [12,  25]|     [mg/1,  mg/1]|Atypical Antipsyc...|        null|[{OLANZAPINE, 12,...|{OLANZAPINE, 12, ...|          OLANZAPINE|                       12|              mg/1|\n|0002-3232_7de92fb...|  0002-3232|HUMAN PRESCRIPTIO...|            Symbyax|                   null|Olanzapine and Fl...|             CAPSULE|        ORAL|          12/24/2003|              null|                    NDA|         NDA021520|Eli Lilly and Com...|[OLANZAPINE,  FLU...|                [12,  25]|     [mg/1,  mg/1]|Atypical Antipsyc...|        null|[{OLANZAPINE, 12,...|{ FLUOXETINE HYDR...| FLUOXETINE HYDRO...|                       25|              mg/1|\n|0002-3233_7de92fb...|  0002-3233|HUMAN PRESCRIPTIO...|            Symbyax|                   null|Olanzapine and Fl...|             CAPSULE|        ORAL|          12/24/2003|              null|                    NDA|         NDA021520|Eli Lilly and Com...|[OLANZAPINE,  FLU...|                 [6,  50]|     [mg/1,  mg/1]|Atypical Antipsyc...|        null|[{OLANZAPINE, 6, ...|{OLANZAPINE, 6, m...|          OLANZAPINE|                        6|              mg/1|\n|0002-3233_7de92fb...|  0002-3233|HUMAN PRESCRIPTIO...|            Symbyax|                   null|Olanzapine and Fl...|             CAPSULE|        ORAL|          12/24/2003|              null|                    NDA|         NDA021520|Eli Lilly and Com...|[OLANZAPINE,  FLU...|                 [6,  50]|     [mg/1,  mg/1]|Atypical Antipsyc...|        null|[{OLANZAPINE, 6, ...|{ FLUOXETINE HYDR...| FLUOXETINE HYDRO...|                       50|              mg/1|\n|0002-3234_7de92fb...|  0002-3234|HUMAN PRESCRIPTIO...|            Symbyax|                   null|Olanzapine and Fl...|             CAPSULE|        ORAL|          12/24/2003|              null|                    NDA|         NDA021520|Eli Lilly and Com...|[OLANZAPINE,  FLU...|                [12,  50]|     [mg/1,  mg/1]|Atypical Antipsyc...|        null|[{OLANZAPINE, 12,...|{OLANZAPINE, 12, ...|          OLANZAPINE|                       12|              mg/1|\n+--------------------+-----------+--------------------+-------------------+-----------------------+--------------------+--------------------+------------+--------------------+------------------+-----------------------+------------------+--------------------+--------------------+-------------------------+------------------+--------------------+------------+--------------------+--------------------+--------------------+-------------------------+------------------+\nonly showing top 20 rows\n\n"
     ]
    }
   ],
   "source": [
    "# df_csv_drugs_product.display()\n",
    "df_csv_drugs_product.show()"
   ]
  },
  {
   "cell_type": "code",
   "execution_count": 0,
   "metadata": {
    "application/vnd.databricks.v1+cell": {
     "cellMetadata": {
      "byteLimit": 2048000,
      "rowLimit": 10000
     },
     "inputWidgets": {},
     "nuid": "411984a0-f4c1-4ff6-acf1-a6e8a6d13e31",
     "showTitle": false,
     "title": ""
    }
   },
   "outputs": [
    {
     "output_type": "stream",
     "name": "stdout",
     "output_type": "stream",
     "text": [
      "+--------------------+-----------+--------------------+----------------+-----------------------+--------------------+--------------------+-------------+--------------------+------------------+-----------------------+------------------+--------------------+--------------------+-------------------------+------------------+--------------------+------------+--------------------+--------------------+--------------------+-------------------------+------------------+--------------------+-----------+----------------+--------------------+\n|          product_id|product_ndc|   product_type_name|proprietary_name|proprietary_name_suffix|non_proprietary_name|    dosage_form_name|   route_name|start_marketing_date|end_marketing_date|marketing_category_name|application_number|        labeler_name|      substance_name|active_numerator_strength|active_ingred_unit|       pharm_classes|dea_schedule|   substance_details|      substance_info|      substance_name|active_numerator_strength|active_ingred_unit|          product_id|product_ndc|ndc_package_code| package_description|\n+--------------------+-----------+--------------------+----------------+-----------------------+--------------------+--------------------+-------------+--------------------+------------------+-----------------------+------------------+--------------------+--------------------+-------------------------+------------------+--------------------+------------+--------------------+--------------------+--------------------+-------------------------+------------------+--------------------+-----------+----------------+--------------------+\n|0002-1200_4bd46cb...|  0002-1200|HUMAN PRESCRIPTIO...|          Amyvid|                   null|    Florbetapir F 18| INJECTION, SOLUTION|  INTRAVENOUS|          06/01/2012|              null|                    NDA|         NDA202008|Eli Lilly and Com...|  [FLORBETAPIR F-18]|                     [51]|          [mCi/mL]|Radioactive Diagn...|        null|[{FLORBETAPIR F-1...|{FLORBETAPIR F-18...|    FLORBETAPIR F-18|                       51|            mCi/mL|0002-1200_4bd46cb...|  0002-1200|    0002-1200-30|1 VIAL, MULTI-DOS...|\n|0002-1200_4bd46cb...|  0002-1200|HUMAN PRESCRIPTIO...|          Amyvid|                   null|    Florbetapir F 18| INJECTION, SOLUTION|  INTRAVENOUS|          06/01/2012|              null|                    NDA|         NDA202008|Eli Lilly and Com...|  [FLORBETAPIR F-18]|                     [51]|          [mCi/mL]|Radioactive Diagn...|        null|[{FLORBETAPIR F-1...|{FLORBETAPIR F-18...|    FLORBETAPIR F-18|                       51|            mCi/mL|0002-1200_4bd46cb...|  0002-1200|    0002-1200-50|1 VIAL, MULTI-DOS...|\n|0002-3232_7de92fb...|  0002-3232|HUMAN PRESCRIPTIO...|         Symbyax|                   null|Olanzapine and Fl...|             CAPSULE|         ORAL|          12/24/2003|              null|                    NDA|         NDA021520|Eli Lilly and Com...|[OLANZAPINE,  FLU...|                [12,  25]|     [mg/1,  mg/1]|Atypical Antipsyc...|        null|[{OLANZAPINE, 12,...|{OLANZAPINE, 12, ...|          OLANZAPINE|                       12|              mg/1|0002-3232_7de92fb...|  0002-3232|    0002-3232-30|30 CAPSULE in 1 B...|\n|0002-3232_7de92fb...|  0002-3232|HUMAN PRESCRIPTIO...|         Symbyax|                   null|Olanzapine and Fl...|             CAPSULE|         ORAL|          12/24/2003|              null|                    NDA|         NDA021520|Eli Lilly and Com...|[OLANZAPINE,  FLU...|                [12,  25]|     [mg/1,  mg/1]|Atypical Antipsyc...|        null|[{OLANZAPINE, 12,...|{ FLUOXETINE HYDR...| FLUOXETINE HYDRO...|                       25|              mg/1|0002-3232_7de92fb...|  0002-3232|    0002-3232-30|30 CAPSULE in 1 B...|\n|0002-3233_7de92fb...|  0002-3233|HUMAN PRESCRIPTIO...|         Symbyax|                   null|Olanzapine and Fl...|             CAPSULE|         ORAL|          12/24/2003|              null|                    NDA|         NDA021520|Eli Lilly and Com...|[OLANZAPINE,  FLU...|                 [6,  50]|     [mg/1,  mg/1]|Atypical Antipsyc...|        null|[{OLANZAPINE, 6, ...|{OLANZAPINE, 6, m...|          OLANZAPINE|                        6|              mg/1|0002-3233_7de92fb...|  0002-3233|    0002-3233-30|30 CAPSULE in 1 B...|\n|0002-3233_7de92fb...|  0002-3233|HUMAN PRESCRIPTIO...|         Symbyax|                   null|Olanzapine and Fl...|             CAPSULE|         ORAL|          12/24/2003|              null|                    NDA|         NDA021520|Eli Lilly and Com...|[OLANZAPINE,  FLU...|                 [6,  50]|     [mg/1,  mg/1]|Atypical Antipsyc...|        null|[{OLANZAPINE, 6, ...|{ FLUOXETINE HYDR...| FLUOXETINE HYDRO...|                       50|              mg/1|0002-3233_7de92fb...|  0002-3233|    0002-3233-30|30 CAPSULE in 1 B...|\n|0002-4184_b2ed517...|  0002-4184|HUMAN PRESCRIPTIO...|          Evista|                   null|Raloxifene hydroc...|              TABLET|         ORAL|          01/06/1998|              null|                    NDA|         NDA020815|Eli Lilly and Com...|[RALOXIFENE HYDRO...|                     [60]|            [mg/1]|Estrogen Agonist/...|        null|[{RALOXIFENE HYDR...|{RALOXIFENE HYDRO...|RALOXIFENE HYDROC...|                       60|              mg/1|0002-4184_b2ed517...|  0002-4184|    0002-4184-02|100 TABLET in 1 B...|\n|0002-4184_b2ed517...|  0002-4184|HUMAN PRESCRIPTIO...|          Evista|                   null|Raloxifene hydroc...|              TABLET|         ORAL|          01/06/1998|              null|                    NDA|         NDA020815|Eli Lilly and Com...|[RALOXIFENE HYDRO...|                     [60]|            [mg/1]|Estrogen Agonist/...|        null|[{RALOXIFENE HYDR...|{RALOXIFENE HYDRO...|RALOXIFENE HYDROC...|                       60|              mg/1|0002-4184_b2ed517...|  0002-4184|    0002-4184-07|1 BOTTLE in 1 CAR...|\n|0002-4184_b2ed517...|  0002-4184|HUMAN PRESCRIPTIO...|          Evista|                   null|Raloxifene hydroc...|              TABLET|         ORAL|          01/06/1998|              null|                    NDA|         NDA020815|Eli Lilly and Com...|[RALOXIFENE HYDRO...|                     [60]|            [mg/1]|Estrogen Agonist/...|        null|[{RALOXIFENE HYDR...|{RALOXIFENE HYDRO...|RALOXIFENE HYDROC...|                       60|              mg/1|0002-4184_b2ed517...|  0002-4184|    0002-4184-30|30 TABLET in 1 BO...|\n|0002-4462_a300bb9...|  0002-4462|HUMAN PRESCRIPTIO...|          Cialis|                   null|           Tadalafil| TABLET, FILM COATED|         ORAL|          11/26/2003|              null|                    NDA|         NDA021368|Eli Lilly and Com...|         [TADALAFIL]|                      [5]|            [mg/1]|Phosphodiesterase...|        null|[{TADALAFIL, 5, m...|{TADALAFIL, 5, mg/1}|           TADALAFIL|                        5|              mg/1|0002-4462_a300bb9...|  0002-4462|    0002-4462-30|30 TABLET, FILM C...|\n|0002-4462_a300bb9...|  0002-4462|HUMAN PRESCRIPTIO...|          Cialis|                   null|           Tadalafil| TABLET, FILM COATED|         ORAL|          11/26/2003|              null|                    NDA|         NDA021368|Eli Lilly and Com...|         [TADALAFIL]|                      [5]|            [mg/1]|Phosphodiesterase...|        null|[{TADALAFIL, 5, m...|{TADALAFIL, 5, mg/1}|           TADALAFIL|                        5|              mg/1|0002-4462_a300bb9...|  0002-4462|    0002-4462-34|2 BLISTER PACK in...|\n|0002-4462_a300bb9...|  0002-4462|HUMAN PRESCRIPTIO...|          Cialis|                   null|           Tadalafil| TABLET, FILM COATED|         ORAL|          11/26/2003|              null|                    NDA|         NDA021368|Eli Lilly and Com...|         [TADALAFIL]|                      [5]|            [mg/1]|Phosphodiesterase...|        null|[{TADALAFIL, 5, m...|{TADALAFIL, 5, mg/1}|           TADALAFIL|                        5|              mg/1|0002-4462_a300bb9...|  0002-4462|    0002-4462-61|2 BLISTER PACK in...|\n|0002-7597_fc83417...|  0002-7597|HUMAN PRESCRIPTIO...|         ZYPREXA|         Intramuscular |          Olanzapine|INJECTION, POWDER...|INTRAMUSCULAR|          04/01/2004|              null|                    NDA|         NDA021253|Eli Lilly and Com...|        [OLANZAPINE]|                     [10]|          [mg/2mL]|Atypical Antipsyc...|        null|[{OLANZAPINE, 10,...|{OLANZAPINE, 10, ...|          OLANZAPINE|                       10|            mg/2mL|0002-7597_fc83417...|  0002-7597|    0002-7597-01|1 VIAL in 1 CARTO...|\n|0002-7640_79c8818...|  0002-7640|HUMAN PRESCRIPTIO...|          Alimta|                   null| Pemetrexed disodium|INJECTION, POWDER...|  INTRAVENOUS|          09/07/2007|              null|                    NDA|         NDA021462|Eli Lilly and Com...|[PEMETREXED DISOD...|                    [100]|          [mg/4mL]|Folate Analog Met...|        null|[{PEMETREXED DISO...|{PEMETREXED DISOD...|PEMETREXED DISODI...|                      100|            mg/4mL|0002-7640_79c8818...|  0002-7640|    0002-7640-01|1 VIAL in 1 CARTO...|\n|0002-7712_5b04082...|  0002-7712|HUMAN PRESCRIPTIO...|         Humalog|               KwikPen |      Insulin lispro| INJECTION, SOLUTION| SUBCUTANEOUS|          05/26/2015|              null|                    NDA|         NDA205747|Eli Lilly and Com...|    [INSULIN LISPRO]|                    [200]|         [[iU]/mL]|Insulin [Chemical...|        null|[{INSULIN LISPRO,...|{INSULIN LISPRO, ...|      INSULIN LISPRO|                      200|           [iU]/mL|0002-7712_5b04082...|  0002-7712|    0002-7712-27|2 SYRINGE in 1 CA...|\n|0002-7715_f28edb9...|  0002-7715|HUMAN PRESCRIPTIO...|        BASAGLAR|                   null|    Insulin glargine| INJECTION, SOLUTION| SUBCUTANEOUS|          12/16/2015|              null|                    NDA|         NDA205692|Eli Lilly and Com...|  [INSULIN GLARGINE]|                    [100]|         [[iU]/mL]|Insulin [Chemical...|        null|[{INSULIN GLARGIN...|{INSULIN GLARGINE...|    INSULIN GLARGINE|                      100|           [iU]/mL|0002-7715_f28edb9...|  0002-7715|    0002-7715-59|5 SYRINGE in 1 CA...|\n|0003-0249_7d35598...|  0003-0249|HUMAN PRESCRIPTIO...|           HALOG|                   null|         Halcinonide|            SOLUTION|      TOPICAL|          01/01/2009|              null|                    NDA|         NDA017823|E.R. Squibb & Son...|       [HALCINONIDE]|                      [1]|           [mg/mL]|Corticosteroid [E...|        null|[{HALCINONIDE, 1,...|{HALCINONIDE, 1, ...|         HALCINONIDE|                        1|             mg/mL|0003-0249_7d35598...|  0003-0249|    0003-0249-15|20 mL in 1 BOTTLE...|\n|0003-0249_7d35598...|  0003-0249|HUMAN PRESCRIPTIO...|           HALOG|                   null|         Halcinonide|            SOLUTION|      TOPICAL|          01/01/2009|              null|                    NDA|         NDA017823|E.R. Squibb & Son...|       [HALCINONIDE]|                      [1]|           [mg/mL]|Corticosteroid [E...|        null|[{HALCINONIDE, 1,...|{HALCINONIDE, 1, ...|         HALCINONIDE|                        1|             mg/mL|0003-0249_7d35598...|  0003-0249|    0003-0249-20|60 mL in 1 BOTTLE...|\n|0003-0524_f0719d0...|  0003-0524|HUMAN PRESCRIPTIO...|         SPRYCEL|                   null|           dasatinib|              TABLET|         ORAL|          06/27/2006|              null|                    NDA|         NDA021986|E.R. Squibb & Son...|         [DASATINIB]|                     [70]|            [mg/1]|Kinase Inhibitor ...|        null|[{DASATINIB, 70, ...|{DASATINIB, 70, m...|           DASATINIB|                       70|              mg/1|0003-0524_f0719d0...|  0003-0524|    0003-0524-11|1 BOTTLE in 1 CAR...|\n|0003-0852_f0719d0...|  0003-0852|HUMAN PRESCRIPTIO...|         SPRYCEL|                   null|           dasatinib|              TABLET|         ORAL|          05/30/2008|              null|                    NDA|         NDA021986|E.R. Squibb & Son...|         [DASATINIB]|                    [100]|            [mg/1]|Kinase Inhibitor ...|        null|[{DASATINIB, 100,...|{DASATINIB, 100, ...|           DASATINIB|                      100|              mg/1|0003-0852_f0719d0...|  0003-0852|    0003-0852-22|1 BOTTLE in 1 CAR...|\n+--------------------+-----------+--------------------+----------------+-----------------------+--------------------+--------------------+-------------+--------------------+------------------+-----------------------+------------------+--------------------+--------------------+-------------------------+------------------+--------------------+------------+--------------------+--------------------+--------------------+-------------------------+------------------+--------------------+-----------+----------------+--------------------+\nonly showing top 20 rows\n\n"
     ]
    }
   ],
   "source": [
    "joined_data= df_csv_drugs_product.join(\n",
    "    df_csv_drugs_package,\n",
    "    df_csv_drugs_product.product_id==df_csv_drugs_package.product_id,\n",
    "    \"inner\"\n",
    ")\n",
    "# .select(\n",
    "#     df_csv_drugs_package.product_id,\n",
    "#         df_csv_drugs_package.product_ndc,\n",
    "#     \"ndc_package_code\",\n",
    "#     \"package_description\",\n",
    "#     \"proprietary_name_suffix\",\n",
    "#     \"product_type_name\",\"proprietary_name\",\"proprietary_name_suffix\",\"non_proprietary_name\",\"dosage_form_name\",\"route_name\",\"start_marketing_date\",\"end_marketing_date\",\"marketing_category_name\",\"application_number\",\"labeler_name\",\"substance_name\",\"active_numerator_strength\",\"active_ingred_unit\",\"pharm_classes\",\"dea_schedule\"\n",
    "# )\n",
    "joined_data.show()"
   ]
  },
  {
   "cell_type": "code",
   "execution_count": 0,
   "metadata": {
    "application/vnd.databricks.v1+cell": {
     "cellMetadata": {
      "byteLimit": 2048000,
      "rowLimit": 10000
     },
     "inputWidgets": {},
     "nuid": "9218d40b-1015-4fcc-ac25-62f0188ac901",
     "showTitle": false,
     "title": ""
    }
   },
   "outputs": [],
   "source": []
  }
 ],
 "metadata": {
  "application/vnd.databricks.v1+notebook": {
   "dashboards": [],
   "language": "python",
   "notebookMetadata": {
    "pythonIndentUnit": 4
   },
   "notebookName": "load large data",
   "widgets": {}
  }
 },
 "nbformat": 4,
 "nbformat_minor": 0
}
