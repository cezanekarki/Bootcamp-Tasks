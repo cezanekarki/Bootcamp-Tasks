{
 "cells": [
  {
   "cell_type": "code",
   "execution_count": 0,
   "metadata": {
    "application/vnd.databricks.v1+cell": {
     "cellMetadata": {
      "byteLimit": 2048000,
      "rowLimit": 10000
     },
     "inputWidgets": {},
     "nuid": "6638d700-2fdc-4ce7-9b19-1e85f50ff0b2",
     "showTitle": false,
     "title": ""
    }
   },
   "outputs": [],
   "source": [
    "from pyspark.sql import SparkSession, functions as F\n",
    "from pyspark.sql import Window\n",
    "from pyspark.sql.types import StructType,StructField,IntegerType,StringType,DateType\n",
    "spark=SparkSession.builder.getOrCreate()\n"
   ]
  },
  {
   "cell_type": "code",
   "execution_count": 0,
   "metadata": {
    "application/vnd.databricks.v1+cell": {
     "cellMetadata": {
      "byteLimit": 2048000,
      "rowLimit": 10000
     },
     "inputWidgets": {},
     "nuid": "82c857e1-9c5a-47cb-96f6-e8e81b14954b",
     "showTitle": false,
     "title": ""
    }
   },
   "outputs": [],
   "source": [
    "schema=StructType([\n",
    "    StructField(\"id\",IntegerType()),\n",
    "    StructField(\"name\",StringType()),\n",
    "    StructField(\"dob\",DateType()),\n",
    "    StructField(\"age\",IntegerType()),\n",
    "    StructField(\"salary\",IntegerType()),\n",
    "    StructField(\"department\",StringType()),\n",
    "\n",
    "])"
   ]
  },
  {
   "cell_type": "code",
   "execution_count": 0,
   "metadata": {
    "application/vnd.databricks.v1+cell": {
     "cellMetadata": {
      "byteLimit": 2048000,
      "rowLimit": 10000
     },
     "inputWidgets": {},
     "nuid": "2fa25b5c-bb76-4578-aea6-2ceab0fcc85f",
     "showTitle": false,
     "title": ""
    }
   },
   "outputs": [],
   "source": [
    "df_csv=spark.read.format(\"csv\").schema(schema).option(\"header\",True).load(\"dbfs:///FileStore/tables/data/csv/batch.csv\")"
   ]
  },
  {
   "cell_type": "code",
   "execution_count": 0,
   "metadata": {
    "application/vnd.databricks.v1+cell": {
     "cellMetadata": {
      "byteLimit": 2048000,
      "rowLimit": 10000
     },
     "inputWidgets": {},
     "nuid": "405e99cf-2bca-4230-a12d-53f50f09f2eb",
     "showTitle": false,
     "title": ""
    }
   },
   "outputs": [],
   "source": [
    "df_json = spark.read.format(\"json\").load(\"dbfs:///FileStore/tables/data/json\"\n",
    ")"
   ]
  },
  {
   "cell_type": "code",
   "execution_count": 0,
   "metadata": {
    "application/vnd.databricks.v1+cell": {
     "cellMetadata": {
      "byteLimit": 2048000,
      "rowLimit": 10000
     },
     "inputWidgets": {},
     "nuid": "cceee531-6da4-46a8-8264-73d640a8fa08",
     "showTitle": false,
     "title": ""
    }
   },
   "outputs": [],
   "source": [
    "df_json=df_json.select(df_csv.columns)"
   ]
  },
  {
   "cell_type": "code",
   "execution_count": 0,
   "metadata": {
    "application/vnd.databricks.v1+cell": {
     "cellMetadata": {
      "byteLimit": 2048000,
      "rowLimit": 10000
     },
     "inputWidgets": {},
     "nuid": "06600c02-902a-4b94-8172-4ce813a615e6",
     "showTitle": false,
     "title": ""
    }
   },
   "outputs": [],
   "source": [
    "df=df_json.union(df_csv)\n",
    "# print(df.disp())\n",
    "# df.drop()"
   ]
  },
  {
   "cell_type": "code",
   "execution_count": 0,
   "metadata": {
    "application/vnd.databricks.v1+cell": {
     "cellMetadata": {
      "byteLimit": 2048000,
      "rowLimit": 10000
     },
     "inputWidgets": {},
     "nuid": "b4e68675-3773-44a6-813c-677d2e0ed994",
     "showTitle": false,
     "title": ""
    }
   },
   "outputs": [
    {
     "output_type": "display_data",
     "data": {
      "text/html": [
       "<style scoped>\n",
       "  .table-result-container {\n",
       "    max-height: 300px;\n",
       "    overflow: auto;\n",
       "  }\n",
       "  table, th, td {\n",
       "    border: 1px solid black;\n",
       "    border-collapse: collapse;\n",
       "  }\n",
       "  th, td {\n",
       "    padding: 5px;\n",
       "  }\n",
       "  th {\n",
       "    text-align: left;\n",
       "  }\n",
       "</style><div class='table-result-container'><table class='table-result'><thead style='background-color: white'><tr><th>id</th><th>name</th><th>dob</th><th>age</th><th>salary</th><th>department</th><th>is_duplicate</th></tr></thead><tbody><tr><td>1</td><td>John</td><td>1992-05-12</td><td>30</td><td>70000</td><td>IT</td><td>false</td></tr><tr><td>1</td><td>John</td><td>1992-05-12</td><td>30</td><td>70000</td><td>IT</td><td>true</td></tr><tr><td>1</td><td>John</td><td>1992-05-12</td><td>30</td><td>70000</td><td>IT</td><td>true</td></tr><tr><td>1</td><td>John</td><td>1992-05-12</td><td>30</td><td>70000</td><td>IT</td><td>true</td></tr><tr><td>1</td><td>John</td><td>1992-05-12</td><td>30</td><td>70000</td><td>IT</td><td>true</td></tr><tr><td>2</td><td>Alice</td><td>1997-02-28</td><td>25</td><td>60000</td><td>HR</td><td>false</td></tr><tr><td>2</td><td>Alice</td><td>1997-02-28</td><td>25</td><td>60000</td><td>HR</td><td>true</td></tr><tr><td>2</td><td>Alice</td><td>1997-02-28</td><td>25</td><td>90000</td><td>Finance</td><td>true</td></tr><tr><td>2</td><td>Alice</td><td>1997-02-28</td><td>25</td><td>90000</td><td>Finance</td><td>true</td></tr><tr><td>2</td><td>Alice</td><td>1997-02-28</td><td>25</td><td>60000</td><td>HR</td><td>true</td></tr><tr><td>3</td><td>Bob</td><td>null</td><td>null</td><td>80000</td><td>IT</td><td>false</td></tr><tr><td>3</td><td>Bob</td><td>null</td><td>null</td><td>80000</td><td>IT</td><td>true</td></tr><tr><td>3</td><td>Bob</td><td>null</td><td>null</td><td>80000</td><td>IT</td><td>true</td></tr><tr><td>4</td><td>Emily</td><td>1994-11-22</td><td>28</td><td>65000</td><td>Finance</td><td>false</td></tr><tr><td>4</td><td>Emily</td><td>1994-11-22</td><td>28</td><td>65000</td><td>Finance</td><td>true</td></tr><tr><td>4</td><td>Emily</td><td>1994-11-22</td><td>28</td><td>70000</td><td>Finance</td><td>true</td></tr><tr><td>4</td><td>Emily</td><td>1994-11-22</td><td>28</td><td>70000</td><td>Finance</td><td>true</td></tr><tr><td>4</td><td>Emily</td><td>1994-11-22</td><td>28</td><td>65000</td><td>Finance</td><td>true</td></tr><tr><td>5</td><td>David</td><td>1981-12-18</td><td>41</td><td>90000</td><td>HR</td><td>false</td></tr><tr><td>5</td><td>David</td><td>1981-12-18</td><td>41</td><td>90000</td><td>HR</td><td>true</td></tr><tr><td>6</td><td>Susan</td><td>1989-07-05</td><td>33</td><td>75000</td><td>Finance</td><td>false</td></tr><tr><td>6</td><td>Susan</td><td>1989-07-05</td><td>33</td><td>75000</td><td>Finance</td><td>true</td></tr><tr><td>7</td><td>Mike</td><td>1976-03-15</td><td>46</td><td>95000</td><td>IT</td><td>false</td></tr><tr><td>7</td><td>Mike</td><td>1976-03-15</td><td>46</td><td>95000</td><td>IT</td><td>true</td></tr><tr><td>8</td><td>Lisa</td><td>1995-08-20</td><td>27</td><td>58000</td><td>HR</td><td>false</td></tr><tr><td>8</td><td>Lisa</td><td>1995-08-20</td><td>27</td><td>58000</td><td>HR</td><td>true</td></tr><tr><td>9</td><td>James</td><td>1983-10-14</td><td>39</td><td>87000</td><td>IT</td><td>false</td></tr><tr><td>9</td><td>James</td><td>1983-10-14</td><td>39</td><td>87000</td><td>IT</td><td>true</td></tr><tr><td>10</td><td>Sophie</td><td>1992-06-30</td><td>30</td><td>62000</td><td>Finance</td><td>false</td></tr><tr><td>10</td><td>Sophie</td><td>1992-06-30</td><td>30</td><td>62000</td><td>Finance</td><td>true</td></tr></tbody></table></div>"
      ]
     },
     "metadata": {
      "application/vnd.databricks.v1+output": {
       "addedWidgets": {},
       "aggData": [],
       "aggError": "",
       "aggOverflow": false,
       "aggSchema": [],
       "aggSeriesLimitReached": false,
       "aggType": "",
       "arguments": {},
       "columnCustomDisplayInfos": {},
       "data": [
        [
         1,
         "John",
         "1992-05-12",
         30,
         70000,
         "IT",
         false
        ],
        [
         1,
         "John",
         "1992-05-12",
         30,
         70000,
         "IT",
         true
        ],
        [
         1,
         "John",
         "1992-05-12",
         30,
         70000,
         "IT",
         true
        ],
        [
         1,
         "John",
         "1992-05-12",
         30,
         70000,
         "IT",
         true
        ],
        [
         1,
         "John",
         "1992-05-12",
         30,
         70000,
         "IT",
         true
        ],
        [
         2,
         "Alice",
         "1997-02-28",
         25,
         60000,
         "HR",
         false
        ],
        [
         2,
         "Alice",
         "1997-02-28",
         25,
         60000,
         "HR",
         true
        ],
        [
         2,
         "Alice",
         "1997-02-28",
         25,
         90000,
         "Finance",
         true
        ],
        [
         2,
         "Alice",
         "1997-02-28",
         25,
         90000,
         "Finance",
         true
        ],
        [
         2,
         "Alice",
         "1997-02-28",
         25,
         60000,
         "HR",
         true
        ],
        [
         3,
         "Bob",
         null,
         null,
         80000,
         "IT",
         false
        ],
        [
         3,
         "Bob",
         null,
         null,
         80000,
         "IT",
         true
        ],
        [
         3,
         "Bob",
         null,
         null,
         80000,
         "IT",
         true
        ],
        [
         4,
         "Emily",
         "1994-11-22",
         28,
         65000,
         "Finance",
         false
        ],
        [
         4,
         "Emily",
         "1994-11-22",
         28,
         65000,
         "Finance",
         true
        ],
        [
         4,
         "Emily",
         "1994-11-22",
         28,
         70000,
         "Finance",
         true
        ],
        [
         4,
         "Emily",
         "1994-11-22",
         28,
         70000,
         "Finance",
         true
        ],
        [
         4,
         "Emily",
         "1994-11-22",
         28,
         65000,
         "Finance",
         true
        ],
        [
         5,
         "David",
         "1981-12-18",
         41,
         90000,
         "HR",
         false
        ],
        [
         5,
         "David",
         "1981-12-18",
         41,
         90000,
         "HR",
         true
        ],
        [
         6,
         "Susan",
         "1989-07-05",
         33,
         75000,
         "Finance",
         false
        ],
        [
         6,
         "Susan",
         "1989-07-05",
         33,
         75000,
         "Finance",
         true
        ],
        [
         7,
         "Mike",
         "1976-03-15",
         46,
         95000,
         "IT",
         false
        ],
        [
         7,
         "Mike",
         "1976-03-15",
         46,
         95000,
         "IT",
         true
        ],
        [
         8,
         "Lisa",
         "1995-08-20",
         27,
         58000,
         "HR",
         false
        ],
        [
         8,
         "Lisa",
         "1995-08-20",
         27,
         58000,
         "HR",
         true
        ],
        [
         9,
         "James",
         "1983-10-14",
         39,
         87000,
         "IT",
         false
        ],
        [
         9,
         "James",
         "1983-10-14",
         39,
         87000,
         "IT",
         true
        ],
        [
         10,
         "Sophie",
         "1992-06-30",
         30,
         62000,
         "Finance",
         false
        ],
        [
         10,
         "Sophie",
         "1992-06-30",
         30,
         62000,
         "Finance",
         true
        ]
       ],
       "datasetInfos": [],
       "dbfsResultPath": null,
       "isJsonSchema": true,
       "metadata": {},
       "overflow": false,
       "plotOptions": {
        "customPlotOptions": {},
        "displayType": "table",
        "pivotAggregation": null,
        "pivotColumns": null,
        "xColumns": null,
        "yColumns": null
       },
       "removedWidgets": [],
       "schema": [
        {
         "metadata": "{}",
         "name": "id",
         "type": "\"long\""
        },
        {
         "metadata": "{}",
         "name": "name",
         "type": "\"string\""
        },
        {
         "metadata": "{}",
         "name": "dob",
         "type": "\"string\""
        },
        {
         "metadata": "{}",
         "name": "age",
         "type": "\"long\""
        },
        {
         "metadata": "{}",
         "name": "salary",
         "type": "\"long\""
        },
        {
         "metadata": "{}",
         "name": "department",
         "type": "\"string\""
        },
        {
         "metadata": "{}",
         "name": "is_duplicate",
         "type": "\"boolean\""
        }
       ],
       "type": "table"
      }
     },
     "output_type": "display_data"
    }
   ],
   "source": [
    "# # repeated 2 times then first value  should be true and remaining rows should be false\n",
    "window_spec = Window.partitionBy(\"id\").orderBy(\"dob\")\n",
    "\n",
    "df = df.withColumn(\n",
    "    \"is_duplicate\",\n",
    "    F.row_number().over(window_spec) > 1\n",
    ")\n",
    "df.display()"
   ]
  },
  {
   "cell_type": "code",
   "execution_count": 0,
   "metadata": {
    "application/vnd.databricks.v1+cell": {
     "cellMetadata": {
      "byteLimit": 2048000,
      "rowLimit": 10000
     },
     "inputWidgets": {},
     "nuid": "29ae9866-b05c-4bb9-9746-eabeff80472f",
     "showTitle": false,
     "title": ""
    }
   },
   "outputs": [],
   "source": [
    "df=df.dropDuplicates([\"id\"])\n"
   ]
  },
  {
   "cell_type": "code",
   "execution_count": 0,
   "metadata": {
    "application/vnd.databricks.v1+cell": {
     "cellMetadata": {
      "byteLimit": 2048000,
      "rowLimit": 10000
     },
     "inputWidgets": {},
     "nuid": "3fe246fc-2f9f-4eea-9de9-79b27c886aff",
     "showTitle": false,
     "title": ""
    }
   },
   "outputs": [
    {
     "output_type": "display_data",
     "data": {
      "text/html": [
       "<style scoped>\n",
       "  .table-result-container {\n",
       "    max-height: 300px;\n",
       "    overflow: auto;\n",
       "  }\n",
       "  table, th, td {\n",
       "    border: 1px solid black;\n",
       "    border-collapse: collapse;\n",
       "  }\n",
       "  th, td {\n",
       "    padding: 5px;\n",
       "  }\n",
       "  th {\n",
       "    text-align: left;\n",
       "  }\n",
       "</style><div class='table-result-container'><table class='table-result'><thead style='background-color: white'><tr><th>id</th><th>name</th><th>dob</th><th>age</th><th>salary</th><th>department</th><th>is_duplicate</th><th>mean_salary_department</th><th>is_above_mean_department</th></tr></thead><tbody><tr><td>4</td><td>Emily</td><td>1994-11-22</td><td>28</td><td>65000</td><td>Finance</td><td>true</td><td>67333.33333333333</td><td>false</td></tr><tr><td>6</td><td>Susan</td><td>1989-07-05</td><td>33</td><td>75000</td><td>Finance</td><td>true</td><td>67333.33333333333</td><td>true</td></tr><tr><td>10</td><td>Sophie</td><td>1992-06-30</td><td>30</td><td>62000</td><td>Finance</td><td>true</td><td>67333.33333333333</td><td>false</td></tr><tr><td>2</td><td>Alice</td><td>1997-02-28</td><td>25</td><td>60000</td><td>HR</td><td>true</td><td>69333.33333333333</td><td>false</td></tr><tr><td>5</td><td>David</td><td>1981-12-18</td><td>41</td><td>90000</td><td>HR</td><td>true</td><td>69333.33333333333</td><td>true</td></tr><tr><td>8</td><td>Lisa</td><td>1995-08-20</td><td>27</td><td>58000</td><td>HR</td><td>true</td><td>69333.33333333333</td><td>false</td></tr><tr><td>1</td><td>John</td><td>1992-05-12</td><td>30</td><td>70000</td><td>IT</td><td>true</td><td>83000.0</td><td>false</td></tr><tr><td>3</td><td>Bob</td><td>null</td><td>null</td><td>80000</td><td>IT</td><td>true</td><td>83000.0</td><td>false</td></tr><tr><td>7</td><td>Mike</td><td>1976-03-15</td><td>46</td><td>95000</td><td>IT</td><td>true</td><td>83000.0</td><td>true</td></tr><tr><td>9</td><td>James</td><td>1983-10-14</td><td>39</td><td>87000</td><td>IT</td><td>true</td><td>83000.0</td><td>true</td></tr></tbody></table></div>"
      ]
     },
     "metadata": {
      "application/vnd.databricks.v1+output": {
       "addedWidgets": {},
       "aggData": [],
       "aggError": "",
       "aggOverflow": false,
       "aggSchema": [],
       "aggSeriesLimitReached": false,
       "aggType": "",
       "arguments": {},
       "columnCustomDisplayInfos": {},
       "data": [
        [
         4,
         "Emily",
         "1994-11-22",
         28,
         65000,
         "Finance",
         true,
         67333.33333333333,
         false
        ],
        [
         6,
         "Susan",
         "1989-07-05",
         33,
         75000,
         "Finance",
         true,
         67333.33333333333,
         true
        ],
        [
         10,
         "Sophie",
         "1992-06-30",
         30,
         62000,
         "Finance",
         true,
         67333.33333333333,
         false
        ],
        [
         2,
         "Alice",
         "1997-02-28",
         25,
         60000,
         "HR",
         true,
         69333.33333333333,
         false
        ],
        [
         5,
         "David",
         "1981-12-18",
         41,
         90000,
         "HR",
         true,
         69333.33333333333,
         true
        ],
        [
         8,
         "Lisa",
         "1995-08-20",
         27,
         58000,
         "HR",
         true,
         69333.33333333333,
         false
        ],
        [
         1,
         "John",
         "1992-05-12",
         30,
         70000,
         "IT",
         true,
         83000.0,
         false
        ],
        [
         3,
         "Bob",
         null,
         null,
         80000,
         "IT",
         true,
         83000.0,
         false
        ],
        [
         7,
         "Mike",
         "1976-03-15",
         46,
         95000,
         "IT",
         true,
         83000.0,
         true
        ],
        [
         9,
         "James",
         "1983-10-14",
         39,
         87000,
         "IT",
         true,
         83000.0,
         true
        ]
       ],
       "datasetInfos": [],
       "dbfsResultPath": null,
       "isJsonSchema": true,
       "metadata": {},
       "overflow": false,
       "plotOptions": {
        "customPlotOptions": {},
        "displayType": "table",
        "pivotAggregation": null,
        "pivotColumns": null,
        "xColumns": null,
        "yColumns": null
       },
       "removedWidgets": [],
       "schema": [
        {
         "metadata": "{}",
         "name": "id",
         "type": "\"long\""
        },
        {
         "metadata": "{}",
         "name": "name",
         "type": "\"string\""
        },
        {
         "metadata": "{}",
         "name": "dob",
         "type": "\"string\""
        },
        {
         "metadata": "{}",
         "name": "age",
         "type": "\"long\""
        },
        {
         "metadata": "{}",
         "name": "salary",
         "type": "\"long\""
        },
        {
         "metadata": "{}",
         "name": "department",
         "type": "\"string\""
        },
        {
         "metadata": "{}",
         "name": "is_duplicate",
         "type": "\"boolean\""
        },
        {
         "metadata": "{}",
         "name": "mean_salary_department",
         "type": "\"double\""
        },
        {
         "metadata": "{}",
         "name": "is_above_mean_department",
         "type": "\"boolean\""
        }
       ],
       "type": "table"
      }
     },
     "output_type": "display_data"
    }
   ],
   "source": [
    "# Calculate mean salary and check if it is greater or equal to the salary of employees in each department.\n",
    "window_spec = Window.partitionBy(\"department\")\n",
    "df=df.withColumns({\n",
    "    \"mean_salary_department\":F.avg(\"salary\").over(window_spec),\n",
    "    \"is_above_mean_department\":    F.col(\"salary\") >= F.col(\"mean_salary_department\")\n",
    "})\n",
    "\n",
    "df.display()"
   ]
  },
  {
   "cell_type": "code",
   "execution_count": 0,
   "metadata": {
    "application/vnd.databricks.v1+cell": {
     "cellMetadata": {
      "byteLimit": 2048000,
      "rowLimit": 10000
     },
     "inputWidgets": {},
     "nuid": "32ea60c6-6484-4ae8-af28-2db2496546c0",
     "showTitle": false,
     "title": ""
    }
   },
   "outputs": [
    {
     "output_type": "stream",
     "name": "stdout",
     "output_type": "stream",
     "text": [
      "+---+------+----------+----+------+----------+------------+----------------------+------------------------+----------+------------+\n| id|  name|       dob| age|salary|department|is_duplicate|mean_salary_department|is_above_mean_department|avg_salary|is_above_avg|\n+---+------+----------+----+------+----------+------------+----------------------+------------------------+----------+------------+\n|  1|  John|1992-05-12|  30| 70000|        IT|        true|               83000.0|                   false|   74200.0|       false|\n|  2| Alice|1997-02-28|  25| 60000|        HR|        true|     69333.33333333333|                   false|   74200.0|       false|\n|  3|   Bob|      null|null| 80000|        IT|        true|               83000.0|                   false|   74200.0|        true|\n|  4| Emily|1994-11-22|  28| 65000|   Finance|        true|     67333.33333333333|                   false|   74200.0|       false|\n|  5| David|1981-12-18|  41| 90000|        HR|        true|     69333.33333333333|                    true|   74200.0|        true|\n|  6| Susan|1989-07-05|  33| 75000|   Finance|        true|     67333.33333333333|                    true|   74200.0|        true|\n|  7|  Mike|1976-03-15|  46| 95000|        IT|        true|               83000.0|                    true|   74200.0|        true|\n|  8|  Lisa|1995-08-20|  27| 58000|        HR|        true|     69333.33333333333|                   false|   74200.0|       false|\n|  9| James|1983-10-14|  39| 87000|        IT|        true|               83000.0|                    true|   74200.0|        true|\n| 10|Sophie|1992-06-30|  30| 62000|   Finance|        true|     67333.33333333333|                   false|   74200.0|       false|\n+---+------+----------+----+------+----------+------------+----------------------+------------------------+----------+------------+\n\n"
     ]
    }
   ],
   "source": [
    "# Calculate mean salary and check if it is greater or equal to the salary of all employees.\n",
    "\n",
    "mean_salary = df.select(F.avg('salary')).first()[0]\n",
    "\n",
    "df.withColumns(\n",
    "    {\n",
    "        'avg_salary':F.lit(mean_salary),\n",
    "        'is_above_avg':F.col(\"salary\")>=mean_salary\n",
    "    }\n",
    ").show()"
   ]
  },
  {
   "cell_type": "code",
   "execution_count": 0,
   "metadata": {
    "application/vnd.databricks.v1+cell": {
     "cellMetadata": {
      "byteLimit": 2048000,
      "rowLimit": 10000
     },
     "inputWidgets": {},
     "nuid": "1030b525-77ce-43b0-b11b-df9dfef7c7d9",
     "showTitle": false,
     "title": ""
    }
   },
   "outputs": [
    {
     "output_type": "display_data",
     "data": {
      "text/plain": [
       ""
      ]
     },
     "metadata": {
      "application/vnd.databricks.v1+output": {
       "arguments": {},
       "data": "",
       "errorSummary": "Command skipped",
       "errorTraceType": "ansi",
       "metadata": {},
       "type": "ipynbError"
      }
     },
     "output_type": "display_data"
    }
   ],
   "source": [
    "df.show()"
   ]
  },
  {
   "cell_type": "code",
   "execution_count": 0,
   "metadata": {
    "application/vnd.databricks.v1+cell": {
     "cellMetadata": {
      "byteLimit": 2048000,
      "rowLimit": 10000
     },
     "inputWidgets": {},
     "nuid": "377669aa-c9b7-49fe-bea3-61ac06119109",
     "showTitle": false,
     "title": ""
    }
   },
   "outputs": [
    {
     "output_type": "display_data",
     "data": {
      "text/plain": [
       ""
      ]
     },
     "metadata": {
      "application/vnd.databricks.v1+output": {
       "arguments": {},
       "data": "",
       "errorSummary": "Command skipped",
       "errorTraceType": "ansi",
       "metadata": {},
       "type": "ipynbError"
      }
     },
     "output_type": "display_data"
    }
   ],
   "source": [
    "df=df.withColumns({\n",
    "    \"age\":F.coalesce(\n",
    "        F.year(F.current_timestamp())-F.year(F.col(\"dob\")),\n",
    "        F.lit(-1)\n",
    "    ),\n",
    "    \"has_dob_1\":~(F.isnull(\"dob\")),\n",
    "    \"has_dob_2\":F.col(\"dob\").isNotNull(),\n",
    "})"
   ]
  },
  {
   "cell_type": "code",
   "execution_count": 0,
   "metadata": {
    "application/vnd.databricks.v1+cell": {
     "cellMetadata": {
      "byteLimit": 2048000,
      "rowLimit": 10000
     },
     "collapsed": true,
     "inputWidgets": {},
     "nuid": "77197365-7d70-465b-abe5-f8560ad2fbb5",
     "showTitle": false,
     "title": ""
    }
   },
   "outputs": [
    {
     "output_type": "display_data",
     "data": {
      "text/plain": [
       ""
      ]
     },
     "metadata": {
      "application/vnd.databricks.v1+output": {
       "arguments": {},
       "data": "",
       "errorSummary": "Command skipped",
       "errorTraceType": "ansi",
       "metadata": {},
       "type": "ipynbError"
      }
     },
     "output_type": "display_data"
    }
   ],
   "source": [
    "df.show()"
   ]
  },
  {
   "cell_type": "code",
   "execution_count": 0,
   "metadata": {
    "application/vnd.databricks.v1+cell": {
     "cellMetadata": {
      "byteLimit": 2048000,
      "rowLimit": 10000
     },
     "collapsed": true,
     "inputWidgets": {},
     "nuid": "7b615ddd-1b80-4e7e-bf7c-35580c1dd9b4",
     "showTitle": false,
     "title": ""
    }
   },
   "outputs": [
    {
     "output_type": "display_data",
     "data": {
      "text/plain": [
       ""
      ]
     },
     "metadata": {
      "application/vnd.databricks.v1+output": {
       "arguments": {},
       "data": "",
       "errorSummary": "Command skipped",
       "errorTraceType": "ansi",
       "metadata": {},
       "type": "ipynbError"
      }
     },
     "output_type": "display_data"
    }
   ],
   "source": [
    "df.withColumnRenamed(\"name\",\"first_name\").show()"
   ]
  },
  {
   "cell_type": "code",
   "execution_count": 0,
   "metadata": {
    "application/vnd.databricks.v1+cell": {
     "cellMetadata": {
      "byteLimit": 2048000,
      "rowLimit": 10000
     },
     "inputWidgets": {},
     "nuid": "892a2b5c-6030-49a2-b402-e61ab23d9fcf",
     "showTitle": false,
     "title": ""
    }
   },
   "outputs": [
    {
     "output_type": "display_data",
     "data": {
      "text/plain": [
       ""
      ]
     },
     "metadata": {
      "application/vnd.databricks.v1+output": {
       "arguments": {},
       "data": "",
       "errorSummary": "Command skipped",
       "errorTraceType": "ansi",
       "metadata": {},
       "type": "ipynbError"
      }
     },
     "output_type": "display_data"
    }
   ],
   "source": [
    "df = df.withColumn(\n",
    "    \"age_group\",\n",
    "    F.when(F.col(\"age\") <= 20, \"Upto 20\")\n",
    "    .when((F.col(\"age\") > 20) & (F.col(\"age\") <= 30), \"21 to 30\")\n",
    "    .when((F.col(\"age\") > 30) & (F.col(\"age\") <= 40), \"31 to 40\")\n",
    "    .otherwise(\"More than 40\")\n",
    "    )"
   ]
  },
  {
   "cell_type": "code",
   "execution_count": 0,
   "metadata": {
    "application/vnd.databricks.v1+cell": {
     "cellMetadata": {
      "byteLimit": 2048000,
      "rowLimit": 10000
     },
     "inputWidgets": {},
     "nuid": "73c78848-7915-4f2f-9d66-04b0bac7fc0d",
     "showTitle": false,
     "title": ""
    }
   },
   "outputs": [
    {
     "output_type": "display_data",
     "data": {
      "text/plain": [
       ""
      ]
     },
     "metadata": {
      "application/vnd.databricks.v1+output": {
       "arguments": {},
       "data": "",
       "errorSummary": "Command skipped",
       "errorTraceType": "ansi",
       "metadata": {},
       "type": "ipynbError"
      }
     },
     "output_type": "display_data"
    }
   ],
   "source": [
    "from pyspark.sql import Window\n",
    "\n",
    "window=Window.partitionBy(\"age_group\")\n",
    "\n",
    "df.withColumn(\n",
    "    \"min_age_by_group\",\n",
    "    F.min(\"age\").over(window)\n",
    "\n",
    ").show()"
   ]
  },
  {
   "cell_type": "code",
   "execution_count": 0,
   "metadata": {
    "application/vnd.databricks.v1+cell": {
     "cellMetadata": {
      "byteLimit": 2048000,
      "rowLimit": 10000
     },
     "inputWidgets": {},
     "nuid": "011bce90-94c2-4921-8208-b7633a2be2bf",
     "showTitle": false,
     "title": ""
    }
   },
   "outputs": [
    {
     "output_type": "display_data",
     "data": {
      "text/plain": [
       ""
      ]
     },
     "metadata": {
      "application/vnd.databricks.v1+output": {
       "arguments": {},
       "data": "",
       "errorSummary": "Command skipped",
       "errorTraceType": "ansi",
       "metadata": {},
       "type": "ipynbError"
      }
     },
     "output_type": "display_data"
    }
   ],
   "source": [
    "# Define a window specification\n",
    "window_spec = Window.partitionBy(\"id\")\n",
    "\n",
    "# Add a new column is_duplicate\n",
    "df = df.withColumn(\"is_duplicate\", F.count(\"id\").over(window_spec) > 1)\n",
    "\n",
    "# Show the result\n",
    "df.show()"
   ]
  }
 ],
 "metadata": {
  "application/vnd.databricks.v1+notebook": {
   "dashboards": [],
   "language": "python",
   "notebookMetadata": {
    "pythonIndentUnit": 4
   },
   "notebookName": "pyspark task 1",
   "widgets": {}
  }
 },
 "nbformat": 4,
 "nbformat_minor": 0
}
