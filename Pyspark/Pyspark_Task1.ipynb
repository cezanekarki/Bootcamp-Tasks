{
 "cells": [
  {
   "cell_type": "code",
   "execution_count": 0,
   "metadata": {
    "application/vnd.databricks.v1+cell": {
     "cellMetadata": {
      "byteLimit": 2048000,
      "rowLimit": 10000
     },
     "inputWidgets": {},
     "nuid": "df3fb4dc-b438-4e0d-bca9-c6ddf1e168ce",
     "showTitle": false,
     "title": ""
    }
   },
   "outputs": [
    {
     "output_type": "display_data",
     "data": {
      "text/html": [
       "\n",
       "            <div>\n",
       "                <p><b>SparkSession - hive</b></p>\n",
       "                \n",
       "        <div>\n",
       "            <p><b>SparkContext</b></p>\n",
       "\n",
       "            <p><a href=\"/?o=8695175766985272#setting/sparkui/0212-105751-9dfgatgr/driver-1815371860402469808\">Spark UI</a></p>\n",
       "\n",
       "            <dl>\n",
       "              <dt>Version</dt>\n",
       "                <dd><code>v3.3.2</code></dd>\n",
       "              <dt>Master</dt>\n",
       "                <dd><code>local[8]</code></dd>\n",
       "              <dt>AppName</dt>\n",
       "                <dd><code>Databricks Shell</code></dd>\n",
       "            </dl>\n",
       "        </div>\n",
       "        \n",
       "            </div>\n",
       "        "
      ]
     },
     "metadata": {
      "application/vnd.databricks.v1+output": {
       "addedWidgets": {},
       "arguments": {},
       "data": "\n            <div>\n                <p><b>SparkSession - hive</b></p>\n                \n        <div>\n            <p><b>SparkContext</b></p>\n\n            <p><a href=\"/?o=8695175766985272#setting/sparkui/0212-105751-9dfgatgr/driver-1815371860402469808\">Spark UI</a></p>\n\n            <dl>\n              <dt>Version</dt>\n                <dd><code>v3.3.2</code></dd>\n              <dt>Master</dt>\n                <dd><code>local[8]</code></dd>\n              <dt>AppName</dt>\n                <dd><code>Databricks Shell</code></dd>\n            </dl>\n        </div>\n        \n            </div>\n        ",
       "datasetInfos": [],
       "metadata": {},
       "removedWidgets": [],
       "textData": null,
       "type": "htmlSandbox"
      }
     },
     "output_type": "display_data"
    }
   ],
   "source": [
    "from pyspark.sql import SparkSession\n",
    "spark = SparkSession.builder.getOrCreate()\n",
    "spark"
   ]
  },
  {
   "cell_type": "code",
   "execution_count": 0,
   "metadata": {
    "application/vnd.databricks.v1+cell": {
     "cellMetadata": {
      "byteLimit": 2048000,
      "rowLimit": 10000
     },
     "inputWidgets": {},
     "nuid": "0f64715c-0d6b-4e1d-9882-9440e3bf3ca3",
     "showTitle": false,
     "title": ""
    }
   },
   "outputs": [],
   "source": [
    "df_csv =spark.read.format(\"csv\").load(\"dbfs:/FileStore/tables/csv/batch.csv\",header=True)"
   ]
  },
  {
   "cell_type": "code",
   "execution_count": 0,
   "metadata": {
    "application/vnd.databricks.v1+cell": {
     "cellMetadata": {
      "byteLimit": 2048000,
      "rowLimit": 10000
     },
     "inputWidgets": {},
     "nuid": "850ae378-51c2-455a-8947-0bddebda0a5f",
     "showTitle": false,
     "title": ""
    }
   },
   "outputs": [],
   "source": [
    "from pyspark.sql.types import StructType,StructField,IntegerType,StringType,DateType"
   ]
  },
  {
   "cell_type": "code",
   "execution_count": 0,
   "metadata": {
    "application/vnd.databricks.v1+cell": {
     "cellMetadata": {
      "byteLimit": 2048000,
      "rowLimit": 10000
     },
     "inputWidgets": {},
     "nuid": "169960b4-22a6-4196-890c-b3c61c8fe913",
     "showTitle": false,
     "title": ""
    }
   },
   "outputs": [],
   "source": [
    "sch = StructType([\n",
    "    StructField(\"id\", IntegerType()),\n",
    "    StructField(\"name\", StringType()),\n",
    "    StructField(\"dob\", DateType()),\n",
    "    StructField(\"age\", IntegerType()),\n",
    "    StructField(\"Salary\", IntegerType()),\n",
    "    StructField(\"department\", StringType()),\n",
    "\n",
    "])"
   ]
  },
  {
   "cell_type": "code",
   "execution_count": 0,
   "metadata": {
    "application/vnd.databricks.v1+cell": {
     "cellMetadata": {
      "byteLimit": 2048000,
      "rowLimit": 10000
     },
     "inputWidgets": {},
     "nuid": "3121c0e4-7a46-4c06-bc45-9df132739d3b",
     "showTitle": false,
     "title": ""
    }
   },
   "outputs": [],
   "source": [
    "df_csv =spark.read.format(\"csv\").schema(sch).load(\"dbfs:/FileStore/tables/csv/batch.csv\",header=True)"
   ]
  },
  {
   "cell_type": "code",
   "execution_count": 0,
   "metadata": {
    "application/vnd.databricks.v1+cell": {
     "cellMetadata": {
      "byteLimit": 2048000,
      "rowLimit": 10000
     },
     "inputWidgets": {},
     "nuid": "b4bfee74-625b-4dba-87a0-b8b69b8ba39d",
     "showTitle": false,
     "title": ""
    }
   },
   "outputs": [
    {
     "output_type": "stream",
     "name": "stdout",
     "output_type": "stream",
     "text": [
      "root\n |-- id: integer (nullable = true)\n |-- name: string (nullable = true)\n |-- dob: date (nullable = true)\n |-- age: integer (nullable = true)\n |-- Salary: integer (nullable = true)\n |-- department: string (nullable = true)\n\n"
     ]
    }
   ],
   "source": [
    "df_csv.printSchema()"
   ]
  },
  {
   "cell_type": "code",
   "execution_count": 0,
   "metadata": {
    "application/vnd.databricks.v1+cell": {
     "cellMetadata": {
      "byteLimit": 2048000,
      "rowLimit": 10000
     },
     "inputWidgets": {},
     "nuid": "a1e8bf34-14e2-43eb-8cd4-a37494cb33c2",
     "showTitle": false,
     "title": ""
    }
   },
   "outputs": [],
   "source": [
    "df_json = spark.read.format(\"json\").load(\"dbfs:/FileStore/tables/json\")"
   ]
  },
  {
   "cell_type": "code",
   "execution_count": 0,
   "metadata": {
    "application/vnd.databricks.v1+cell": {
     "cellMetadata": {
      "byteLimit": 2048000,
      "rowLimit": 10000
     },
     "inputWidgets": {},
     "nuid": "b5491833-bc79-4a75-8f62-f38a3d4f9f75",
     "showTitle": false,
     "title": ""
    }
   },
   "outputs": [
    {
     "output_type": "stream",
     "name": "stdout",
     "output_type": "stream",
     "text": [
      "root\n |-- age: long (nullable = true)\n |-- department: string (nullable = true)\n |-- dob: string (nullable = true)\n |-- id: long (nullable = true)\n |-- name: string (nullable = true)\n |-- salary: long (nullable = true)\n\n"
     ]
    }
   ],
   "source": [
    "df_json.printSchema()"
   ]
  },
  {
   "cell_type": "code",
   "execution_count": 0,
   "metadata": {
    "application/vnd.databricks.v1+cell": {
     "cellMetadata": {
      "byteLimit": 2048000,
      "rowLimit": 10000
     },
     "inputWidgets": {},
     "nuid": "4700ac67-1ad3-4780-80db-32934c6e8273",
     "showTitle": false,
     "title": ""
    }
   },
   "outputs": [],
   "source": [
    "df_json = df_json.select(df_csv.columns)"
   ]
  },
  {
   "cell_type": "code",
   "execution_count": 0,
   "metadata": {
    "application/vnd.databricks.v1+cell": {
     "cellMetadata": {
      "byteLimit": 2048000,
      "rowLimit": 10000
     },
     "inputWidgets": {},
     "nuid": "b4861851-a687-4aa3-8f64-87519a84f163",
     "showTitle": false,
     "title": ""
    }
   },
   "outputs": [
    {
     "output_type": "stream",
     "name": "stdout",
     "output_type": "stream",
     "text": [
      "['id', 'name', 'dob', 'age', 'Salary', 'department'] ['id', 'name', 'dob', 'age', 'Salary', 'department']\n"
     ]
    }
   ],
   "source": [
    "print(df_csv.columns,df_json.columns)"
   ]
  },
  {
   "cell_type": "code",
   "execution_count": 0,
   "metadata": {
    "application/vnd.databricks.v1+cell": {
     "cellMetadata": {
      "byteLimit": 2048000,
      "rowLimit": 10000
     },
     "inputWidgets": {},
     "nuid": "be48c563-4a91-47ec-a618-f5b790690cc5",
     "showTitle": false,
     "title": ""
    }
   },
   "outputs": [],
   "source": [
    "df= df_csv.union(df_json)"
   ]
  },
  {
   "cell_type": "code",
   "execution_count": 0,
   "metadata": {
    "application/vnd.databricks.v1+cell": {
     "cellMetadata": {
      "byteLimit": 2048000,
      "rowLimit": 10000
     },
     "inputWidgets": {},
     "nuid": "5547fe46-c492-47fe-97b7-9ad6603a195f",
     "showTitle": false,
     "title": ""
    }
   },
   "outputs": [
    {
     "output_type": "stream",
     "name": "stdout",
     "output_type": "stream",
     "text": [
      "+---+------+----------+----+------+----------+\n| id|  name|       dob| age|Salary|department|\n+---+------+----------+----+------+----------+\n|  1|  John|1992-05-12|  30| 70000|        IT|\n|  2| Alice|1997-02-28|  25| 60000|        HR|\n|  3|   Bob|      null|null| 80000|        IT|\n|  4| Emily|1994-11-22|  28| 65000|   Finance|\n|  1|  John|1992-05-12|  30| 70000|        IT|\n|  2| Alice|1997-02-28|  25| 60000|        HR|\n|  3|   Bob|      null|null| 80000|        IT|\n|  4| Emily|1994-11-22|  28| 65000|   Finance|\n|  5| David|1981-12-18|  41| 90000|        HR|\n|  6| Susan|1989-07-05|  33| 75000|   Finance|\n|  7|  Mike|1976-03-15|  46| 95000|        IT|\n| 10|Sophie|1992-06-30|  30| 62000|   Finance|\n|  2| Alice|1997-02-28|  25| 90000|   Finance|\n|  4| Emily|1994-11-22|  28| 70000|   Finance|\n|  9| James|1983-10-14|  39| 87000|        IT|\n|  1|  John|1992-05-12|  30| 70000|        IT|\n|  8|  Lisa|1995-08-20|  27| 58000|        HR|\n+---+------+----------+----+------+----------+\n\n"
     ]
    }
   ],
   "source": [
    "df.show()"
   ]
  },
  {
   "cell_type": "code",
   "execution_count": 0,
   "metadata": {
    "application/vnd.databricks.v1+cell": {
     "cellMetadata": {
      "byteLimit": 2048000,
      "rowLimit": 10000
     },
     "inputWidgets": {},
     "nuid": "53e65d04-44e5-4c82-8637-c4bdcbfb5d94",
     "showTitle": false,
     "title": ""
    }
   },
   "outputs": [],
   "source": [
    "from pyspark.sql import functions as F\n",
    "from pyspark.sql.window import Window"
   ]
  },
  {
   "cell_type": "code",
   "execution_count": 0,
   "metadata": {
    "application/vnd.databricks.v1+cell": {
     "cellMetadata": {
      "byteLimit": 2048000,
      "rowLimit": 10000
     },
     "inputWidgets": {},
     "nuid": "1cccec54-85f0-4b4f-9b31-71e3abfe26f9",
     "showTitle": false,
     "title": ""
    }
   },
   "outputs": [],
   "source": [
    "part_by = Window.partitionBy('name','department').orderBy('id')"
   ]
  },
  {
   "cell_type": "code",
   "execution_count": 0,
   "metadata": {
    "application/vnd.databricks.v1+cell": {
     "cellMetadata": {
      "byteLimit": 2048000,
      "rowLimit": 10000
     },
     "inputWidgets": {},
     "nuid": "8910773f-c45d-4c50-a183-5f224d056778",
     "showTitle": false,
     "title": ""
    }
   },
   "outputs": [],
   "source": [
    "df = df.withColumn(\"row_number\" ,F.row_number().over(part_by))"
   ]
  },
  {
   "cell_type": "code",
   "execution_count": 0,
   "metadata": {
    "application/vnd.databricks.v1+cell": {
     "cellMetadata": {
      "byteLimit": 2048000,
      "rowLimit": 10000
     },
     "inputWidgets": {},
     "nuid": "40c8ca09-c081-44ad-a7f8-dafa3ed0e183",
     "showTitle": false,
     "title": ""
    }
   },
   "outputs": [],
   "source": [
    "df = df.withColumn(\"is_duplicate\",F.when(\n",
    "    df[\"row_number\"]==1,\n",
    "    \"false\"\n",
    ").otherwise(\n",
    "    \"true\"\n",
    "))"
   ]
  },
  {
   "cell_type": "code",
   "execution_count": 0,
   "metadata": {
    "application/vnd.databricks.v1+cell": {
     "cellMetadata": {
      "byteLimit": 2048000,
      "rowLimit": 10000
     },
     "inputWidgets": {},
     "nuid": "234f8f11-3bcc-4458-880c-a7229cd87cc0",
     "showTitle": false,
     "title": ""
    }
   },
   "outputs": [],
   "source": [
    "df= df.drop(df.row_number)"
   ]
  },
  {
   "cell_type": "code",
   "execution_count": 0,
   "metadata": {
    "application/vnd.databricks.v1+cell": {
     "cellMetadata": {
      "byteLimit": 2048000,
      "rowLimit": 10000
     },
     "inputWidgets": {},
     "nuid": "88d9c993-94b2-4fe2-b334-e494083f2834",
     "showTitle": false,
     "title": ""
    }
   },
   "outputs": [
    {
     "output_type": "stream",
     "name": "stdout",
     "output_type": "stream",
     "text": [
      "+---+------+----------+----+------+----------+------------+\n| id|  name|       dob| age|Salary|department|is_duplicate|\n+---+------+----------+----+------+----------+------------+\n|  2| Alice|1997-02-28|  25| 90000|   Finance|       false|\n|  2| Alice|1997-02-28|  25| 60000|        HR|       false|\n|  2| Alice|1997-02-28|  25| 60000|        HR|        true|\n|  3|   Bob|      null|null| 80000|        IT|       false|\n|  3|   Bob|      null|null| 80000|        IT|        true|\n|  5| David|1981-12-18|  41| 90000|        HR|       false|\n|  4| Emily|1994-11-22|  28| 65000|   Finance|       false|\n|  4| Emily|1994-11-22|  28| 65000|   Finance|        true|\n|  4| Emily|1994-11-22|  28| 70000|   Finance|        true|\n|  9| James|1983-10-14|  39| 87000|        IT|       false|\n|  1|  John|1992-05-12|  30| 70000|        IT|       false|\n|  1|  John|1992-05-12|  30| 70000|        IT|        true|\n|  1|  John|1992-05-12|  30| 70000|        IT|        true|\n|  8|  Lisa|1995-08-20|  27| 58000|        HR|       false|\n|  7|  Mike|1976-03-15|  46| 95000|        IT|       false|\n| 10|Sophie|1992-06-30|  30| 62000|   Finance|       false|\n|  6| Susan|1989-07-05|  33| 75000|   Finance|       false|\n+---+------+----------+----+------+----------+------------+\n\n"
     ]
    }
   ],
   "source": [
    "df.show()     # 1st task output"
   ]
  },
  {
   "cell_type": "code",
   "execution_count": 0,
   "metadata": {
    "application/vnd.databricks.v1+cell": {
     "cellMetadata": {
      "byteLimit": 2048000,
      "rowLimit": 10000
     },
     "inputWidgets": {},
     "nuid": "859c94aa-1374-4466-867a-2089c494c2df",
     "showTitle": false,
     "title": ""
    }
   },
   "outputs": [],
   "source": [
    "part_b = Window.partitionBy('department')"
   ]
  },
  {
   "cell_type": "code",
   "execution_count": 0,
   "metadata": {
    "application/vnd.databricks.v1+cell": {
     "cellMetadata": {
      "byteLimit": 2048000,
      "rowLimit": 10000
     },
     "inputWidgets": {},
     "nuid": "b90a84c7-5283-4c15-90ca-0358b5829b07",
     "showTitle": false,
     "title": ""
    }
   },
   "outputs": [],
   "source": [
    "df = df.withColumns(\n",
    "    {\n",
    "    \"mean_salary_department\" : F.mean('salary').over(part_b),\n",
    "\n",
    "    \"mean_sal_is_greater\" : F.when(\n",
    "        F.col('mean_salary_department') >= F.col('salary'),\n",
    "        \"Yes\"\n",
    "    ).otherwise(\n",
    "        \"No\"\n",
    "    )\n",
    "    }\n",
    "    \n",
    ")"
   ]
  },
  {
   "cell_type": "code",
   "execution_count": 0,
   "metadata": {
    "application/vnd.databricks.v1+cell": {
     "cellMetadata": {
      "byteLimit": 2048000,
      "rowLimit": 10000
     },
     "inputWidgets": {},
     "nuid": "ce958335-06ab-474d-aa21-ac26e14d1006",
     "showTitle": false,
     "title": ""
    }
   },
   "outputs": [
    {
     "output_type": "stream",
     "name": "stdout",
     "output_type": "stream",
     "text": [
      "+---+------+----------+----+------+----------+------------+----------------------+-------------------+\n| id|  name|       dob| age|Salary|department|is_duplicate|mean_salary_department|mean_sal_is_greater|\n+---+------+----------+----+------+----------+------------+----------------------+-------------------+\n|  2| Alice|1997-02-28|  25| 90000|   Finance|       false|     71166.66666666667|                 No|\n|  4| Emily|1994-11-22|  28| 65000|   Finance|       false|     71166.66666666667|                Yes|\n|  4| Emily|1994-11-22|  28| 65000|   Finance|        true|     71166.66666666667|                Yes|\n|  4| Emily|1994-11-22|  28| 70000|   Finance|        true|     71166.66666666667|                Yes|\n| 10|Sophie|1992-06-30|  30| 62000|   Finance|       false|     71166.66666666667|                Yes|\n|  6| Susan|1989-07-05|  33| 75000|   Finance|       false|     71166.66666666667|                 No|\n|  2| Alice|1997-02-28|  25| 60000|        HR|       false|               67000.0|                Yes|\n|  2| Alice|1997-02-28|  25| 60000|        HR|        true|               67000.0|                Yes|\n|  5| David|1981-12-18|  41| 90000|        HR|       false|               67000.0|                 No|\n|  8|  Lisa|1995-08-20|  27| 58000|        HR|       false|               67000.0|                Yes|\n|  3|   Bob|      null|null| 80000|        IT|       false|     78857.14285714286|                 No|\n|  3|   Bob|      null|null| 80000|        IT|        true|     78857.14285714286|                 No|\n|  9| James|1983-10-14|  39| 87000|        IT|       false|     78857.14285714286|                 No|\n|  1|  John|1992-05-12|  30| 70000|        IT|       false|     78857.14285714286|                Yes|\n|  1|  John|1992-05-12|  30| 70000|        IT|        true|     78857.14285714286|                Yes|\n|  1|  John|1992-05-12|  30| 70000|        IT|        true|     78857.14285714286|                Yes|\n|  7|  Mike|1976-03-15|  46| 95000|        IT|       false|     78857.14285714286|                 No|\n+---+------+----------+----+------+----------+------------+----------------------+-------------------+\n\n"
     ]
    }
   ],
   "source": [
    "df.show()   # Task 2"
   ]
  },
  {
   "cell_type": "code",
   "execution_count": 0,
   "metadata": {
    "application/vnd.databricks.v1+cell": {
     "cellMetadata": {
      "byteLimit": 2048000,
      "rowLimit": 10000
     },
     "inputWidgets": {},
     "nuid": "d0a25993-ea07-4754-a225-c9cbc3182ce4",
     "showTitle": false,
     "title": ""
    }
   },
   "outputs": [],
   "source": [
    "part_c = Window.orderBy()"
   ]
  },
  {
   "cell_type": "code",
   "execution_count": 0,
   "metadata": {
    "application/vnd.databricks.v1+cell": {
     "cellMetadata": {
      "byteLimit": 2048000,
      "rowLimit": 10000
     },
     "inputWidgets": {},
     "nuid": "2a1a28af-3af8-4a2e-a6a6-f1a3c5e86f77",
     "showTitle": false,
     "title": ""
    }
   },
   "outputs": [],
   "source": [
    "df = df.withColumns(\n",
    "    {\n",
    "    \"mean_salary_employee\" : F.mean('salary').over(part_c),\n",
    "\n",
    "    \"mean_sal_employee_greater\" : F.when(\n",
    "        F.col('mean_salary_employee') >= F.col('salary'),\n",
    "        \"Yes\"\n",
    "    ).otherwise(\n",
    "        \"No\"\n",
    "    )\n",
    "    }\n",
    "    \n",
    ")"
   ]
  },
  {
   "cell_type": "code",
   "execution_count": 0,
   "metadata": {
    "application/vnd.databricks.v1+cell": {
     "cellMetadata": {
      "byteLimit": 2048000,
      "rowLimit": 10000
     },
     "inputWidgets": {},
     "nuid": "a71a4f43-182f-4507-b93f-851480f0c7f0",
     "showTitle": false,
     "title": ""
    }
   },
   "outputs": [
    {
     "output_type": "stream",
     "name": "stdout",
     "output_type": "stream",
     "text": [
      "+---+------+----------+----+------+----------+------------+----------------------+-------------------+--------------------+-------------------------+\n| id|  name|       dob| age|Salary|department|is_duplicate|mean_salary_department|mean_sal_is_greater|mean_salary_employee|mean_sal_employee_greater|\n+---+------+----------+----+------+----------+------------+----------------------+-------------------+--------------------+-------------------------+\n|  2| Alice|1997-02-28|  25| 90000|   Finance|       false|     71166.66666666667|                 No|   73352.94117647059|                       No|\n|  2| Alice|1997-02-28|  25| 60000|        HR|       false|               67000.0|                Yes|   73352.94117647059|                      Yes|\n|  2| Alice|1997-02-28|  25| 60000|        HR|        true|               67000.0|                Yes|   73352.94117647059|                      Yes|\n|  3|   Bob|      null|null| 80000|        IT|       false|     78857.14285714286|                 No|   73352.94117647059|                       No|\n|  3|   Bob|      null|null| 80000|        IT|        true|     78857.14285714286|                 No|   73352.94117647059|                       No|\n|  5| David|1981-12-18|  41| 90000|        HR|       false|               67000.0|                 No|   73352.94117647059|                       No|\n|  4| Emily|1994-11-22|  28| 65000|   Finance|       false|     71166.66666666667|                Yes|   73352.94117647059|                      Yes|\n|  4| Emily|1994-11-22|  28| 65000|   Finance|        true|     71166.66666666667|                Yes|   73352.94117647059|                      Yes|\n|  4| Emily|1994-11-22|  28| 70000|   Finance|        true|     71166.66666666667|                Yes|   73352.94117647059|                      Yes|\n|  9| James|1983-10-14|  39| 87000|        IT|       false|     78857.14285714286|                 No|   73352.94117647059|                       No|\n|  1|  John|1992-05-12|  30| 70000|        IT|       false|     78857.14285714286|                Yes|   73352.94117647059|                      Yes|\n|  1|  John|1992-05-12|  30| 70000|        IT|        true|     78857.14285714286|                Yes|   73352.94117647059|                      Yes|\n|  1|  John|1992-05-12|  30| 70000|        IT|        true|     78857.14285714286|                Yes|   73352.94117647059|                      Yes|\n|  8|  Lisa|1995-08-20|  27| 58000|        HR|       false|               67000.0|                Yes|   73352.94117647059|                      Yes|\n|  7|  Mike|1976-03-15|  46| 95000|        IT|       false|     78857.14285714286|                 No|   73352.94117647059|                       No|\n| 10|Sophie|1992-06-30|  30| 62000|   Finance|       false|     71166.66666666667|                Yes|   73352.94117647059|                      Yes|\n|  6| Susan|1989-07-05|  33| 75000|   Finance|       false|     71166.66666666667|                 No|   73352.94117647059|                       No|\n+---+------+----------+----+------+----------+------------+----------------------+-------------------+--------------------+-------------------------+\n\n"
     ]
    }
   ],
   "source": [
    "df.show()     #task 3"
   ]
  },
  {
   "cell_type": "code",
   "execution_count": 0,
   "metadata": {
    "application/vnd.databricks.v1+cell": {
     "cellMetadata": {},
     "inputWidgets": {},
     "nuid": "151efcf6-3a8a-4fc2-bc5b-0351b93636af",
     "showTitle": false,
     "title": ""
    }
   },
   "outputs": [],
   "source": []
  }
 ],
 "metadata": {
  "application/vnd.databricks.v1+notebook": {
   "dashboards": [],
   "language": "python",
   "notebookMetadata": {
    "pythonIndentUnit": 4
   },
   "notebookName": "Pyspark_Task1",
   "widgets": {}
  }
 },
 "nbformat": 4,
 "nbformat_minor": 0
}
