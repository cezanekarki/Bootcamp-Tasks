{
 "cells": [
  {
   "cell_type": "code",
   "execution_count": 0,
   "metadata": {
    "application/vnd.databricks.v1+cell": {
     "cellMetadata": {
      "byteLimit": 2048000,
      "rowLimit": 10000
     },
     "inputWidgets": {},
     "nuid": "8a895062-cc10-4091-9874-398edd5e6b44",
     "showTitle": true,
     "title": "Task - 1 "
    }
   },
   "outputs": [],
   "source": [
    "# Load both csv and json union them properly.\n",
    "#  Instead of dropping duplicates, create a boolean column is_duplicate and set False to only one row and True to rest of them\n",
    "\n",
    "from pyspark.sql import SparkSession\n",
    "spark = SparkSession.builder.getOrCreate()\n"
   ]
  },
  {
   "cell_type": "code",
   "execution_count": 0,
   "metadata": {
    "application/vnd.databricks.v1+cell": {
     "cellMetadata": {
      "byteLimit": 2048000,
      "rowLimit": 10000
     },
     "inputWidgets": {},
     "nuid": "e1cd8bd6-a062-4894-a559-1348cef14979",
     "showTitle": false,
     "title": ""
    }
   },
   "outputs": [],
   "source": [
    "df_csv=spark.read.format(\"csv\").load(\"dbfs:////FileStore/tables/csv/batch.csv\")\n",
    "df_json=spark.read.format(\"json\").load(\"dbfs:/FileStore/tables/json\")\n",
    "\n"
   ]
  },
  {
   "cell_type": "code",
   "execution_count": 0,
   "metadata": {
    "application/vnd.databricks.v1+cell": {
     "cellMetadata": {
      "byteLimit": 2048000,
      "rowLimit": 10000
     },
     "inputWidgets": {},
     "nuid": "919618a7-4b51-44cf-8827-8bb430826cf8",
     "showTitle": false,
     "title": ""
    }
   },
   "outputs": [
    {
     "output_type": "stream",
     "name": "stdout",
     "output_type": "stream",
     "text": [
      "+----+----------+----------+---+------+------+\n| age|department|       dob| id|  name|salary|\n+----+----------+----------+---+------+------+\n|  30|        IT|1992-05-12|  1|  John| 70000|\n|  25|        HR|1997-02-28|  2| Alice| 60000|\n|null|        IT|      null|  3|   Bob| 80000|\n|  28|   Finance|1994-11-22|  4| Emily| 65000|\n|  41|        HR|1981-12-18|  5| David| 90000|\n|  33|   Finance|1989-07-05|  6| Susan| 75000|\n|  46|        IT|1976-03-15|  7|  Mike| 95000|\n|  30|   Finance|1992-06-30| 10|Sophie| 62000|\n|  25|   Finance|1997-02-28|  2| Alice| 90000|\n|  28|   Finance|1994-11-22|  4| Emily| 70000|\n|  39|        IT|1983-10-14|  9| James| 87000|\n|  30|        IT|1992-05-12|  1|  John| 70000|\n|  27|        HR|1995-08-20|  8|  Lisa| 58000|\n+----+----------+----------+---+------+------+\n\n+---+-----+----------+----+------+----------+\n|_c0|  _c1|       _c2| _c3|   _c4|       _c5|\n+---+-----+----------+----+------+----------+\n| id| name|       dob| age|salary|department|\n|  1| John|1992-05-12|  30| 70000|        IT|\n|  2|Alice|1997-02-28|  25| 60000|        HR|\n|  3|  Bob|      null|null| 80000|        IT|\n|  4|Emily|1994-11-22|  28| 65000|   Finance|\n+---+-----+----------+----+------+----------+\n\n"
     ]
    }
   ],
   "source": [
    "df_json.show()\n",
    "df_csv.show()"
   ]
  },
  {
   "cell_type": "code",
   "execution_count": 0,
   "metadata": {
    "application/vnd.databricks.v1+cell": {
     "cellMetadata": {
      "byteLimit": 2048000,
      "rowLimit": 10000
     },
     "inputWidgets": {},
     "nuid": "801fca0d-10df-47b3-8d4c-1bad358d0d95",
     "showTitle": false,
     "title": ""
    }
   },
   "outputs": [
    {
     "output_type": "stream",
     "name": "stdout",
     "output_type": "stream",
     "text": [
      "root\n |-- _c0: string (nullable = true)\n |-- _c1: string (nullable = true)\n |-- _c2: string (nullable = true)\n |-- _c3: string (nullable = true)\n |-- _c4: string (nullable = true)\n |-- _c5: string (nullable = true)\n\n"
     ]
    }
   ],
   "source": [
    "df_csv.printSchema()"
   ]
  },
  {
   "cell_type": "code",
   "execution_count": 0,
   "metadata": {
    "application/vnd.databricks.v1+cell": {
     "cellMetadata": {
      "byteLimit": 2048000,
      "rowLimit": 10000
     },
     "inputWidgets": {},
     "nuid": "39706390-5760-49bd-b3ca-ac6482d72199",
     "showTitle": false,
     "title": ""
    }
   },
   "outputs": [],
   "source": [
    "from pyspark.sql.types import StructType,StructField,IntegerType,StringType,DateType"
   ]
  },
  {
   "cell_type": "code",
   "execution_count": 0,
   "metadata": {
    "application/vnd.databricks.v1+cell": {
     "cellMetadata": {
      "byteLimit": 2048000,
      "rowLimit": 10000
     },
     "inputWidgets": {},
     "nuid": "bb5b6352-5528-46a9-a35f-89fbdc774cf7",
     "showTitle": false,
     "title": ""
    }
   },
   "outputs": [],
   "source": [
    "schema =StructType([\n",
    "    StructField(\"id\",IntegerType()),\n",
    "    StructField(\"name\",StringType()),\n",
    "    StructField(\"dob\",DateType()),\n",
    "    StructField(\"age\",IntegerType()),\n",
    "    StructField(\"salary\",IntegerType()),\n",
    "    StructField(\"department\",StringType()),\n",
    "\n",
    "])\n",
    "\n",
    "\n"
   ]
  },
  {
   "cell_type": "code",
   "execution_count": 0,
   "metadata": {
    "application/vnd.databricks.v1+cell": {
     "cellMetadata": {
      "byteLimit": 2048000,
      "rowLimit": 10000
     },
     "inputWidgets": {},
     "nuid": "5ebcaff4-2ac2-4c0f-b70c-4a925a6e1b03",
     "showTitle": false,
     "title": ""
    }
   },
   "outputs": [],
   "source": [
    "df_csv=spark.read.format(\"csv\").schema(schema).option(\"header\",True).load(\"dbfs:////FileStore/tables/csv/batch.csv\")\n",
    "df_json = spark.read.format(\"json\").schema(schema).option(\"header\",True).load(\"dbfs:///FileStore/tables/json\")\n"
   ]
  },
  {
   "cell_type": "code",
   "execution_count": 0,
   "metadata": {
    "application/vnd.databricks.v1+cell": {
     "cellMetadata": {
      "byteLimit": 2048000,
      "rowLimit": 10000
     },
     "inputWidgets": {},
     "nuid": "bdc62232-52a7-430f-8cd9-a5b7af15afe5",
     "showTitle": false,
     "title": ""
    }
   },
   "outputs": [
    {
     "output_type": "stream",
     "name": "stdout",
     "output_type": "stream",
     "text": [
      "root\n |-- id: integer (nullable = true)\n |-- name: string (nullable = true)\n |-- dob: date (nullable = true)\n |-- age: integer (nullable = true)\n |-- salary: integer (nullable = true)\n |-- department: string (nullable = true)\n\nroot\n |-- id: integer (nullable = true)\n |-- name: string (nullable = true)\n |-- dob: date (nullable = true)\n |-- age: integer (nullable = true)\n |-- salary: integer (nullable = true)\n |-- department: string (nullable = true)\n\n"
     ]
    }
   ],
   "source": [
    "df_csv.printSchema()\n",
    "df_json.printSchema()"
   ]
  },
  {
   "cell_type": "code",
   "execution_count": 0,
   "metadata": {
    "application/vnd.databricks.v1+cell": {
     "cellMetadata": {
      "byteLimit": 2048000,
      "rowLimit": 10000
     },
     "inputWidgets": {},
     "nuid": "09f021f0-9111-491d-9ddc-2de63249e2e6",
     "showTitle": false,
     "title": ""
    }
   },
   "outputs": [
    {
     "output_type": "stream",
     "name": "stdout",
     "output_type": "stream",
     "text": [
      "+---+-----+----------+----+------+----------+\n| id| name|       dob| age|salary|department|\n+---+-----+----------+----+------+----------+\n|  1| John|1992-05-12|  30| 70000|        IT|\n|  2|Alice|1997-02-28|  25| 60000|        HR|\n|  3|  Bob|      null|null| 80000|        IT|\n|  4|Emily|1994-11-22|  28| 65000|   Finance|\n+---+-----+----------+----+------+----------+\n\n+---+------+----------+----+------+----------+\n| id|  name|       dob| age|salary|department|\n+---+------+----------+----+------+----------+\n|  1|  John|1992-05-12|  30| 70000|        IT|\n|  2| Alice|1997-02-28|  25| 60000|        HR|\n|  3|   Bob|      null|null| 80000|        IT|\n|  4| Emily|1994-11-22|  28| 65000|   Finance|\n|  5| David|1981-12-18|  41| 90000|        HR|\n|  6| Susan|1989-07-05|  33| 75000|   Finance|\n|  7|  Mike|1976-03-15|  46| 95000|        IT|\n| 10|Sophie|1992-06-30|  30| 62000|   Finance|\n|  2| Alice|1997-02-28|  25| 90000|   Finance|\n|  4| Emily|1994-11-22|  28| 70000|   Finance|\n|  9| James|1983-10-14|  39| 87000|        IT|\n|  1|  John|1992-05-12|  30| 70000|        IT|\n|  8|  Lisa|1995-08-20|  27| 58000|        HR|\n+---+------+----------+----+------+----------+\n\n"
     ]
    }
   ],
   "source": [
    "df_csv.show()\n",
    "df_json.show()"
   ]
  },
  {
   "cell_type": "code",
   "execution_count": 0,
   "metadata": {
    "application/vnd.databricks.v1+cell": {
     "cellMetadata": {
      "byteLimit": 2048000,
      "rowLimit": 10000
     },
     "inputWidgets": {},
     "nuid": "e70188ac-b623-4491-b468-d560d0c291ea",
     "showTitle": true,
     "title": ""
    }
   },
   "outputs": [
    {
     "output_type": "display_data",
     "data": {
      "text/html": [
       "<style scoped>\n",
       "  .table-result-container {\n",
       "    max-height: 300px;\n",
       "    overflow: auto;\n",
       "  }\n",
       "  table, th, td {\n",
       "    border: 1px solid black;\n",
       "    border-collapse: collapse;\n",
       "  }\n",
       "  th, td {\n",
       "    padding: 5px;\n",
       "  }\n",
       "  th {\n",
       "    text-align: left;\n",
       "  }\n",
       "</style><div class='table-result-container'><table class='table-result'><thead style='background-color: white'><tr><th>id</th><th>name</th><th>dob</th><th>age</th><th>salary</th><th>department</th></tr></thead><tbody><tr><td>1</td><td>John</td><td>1992-05-12</td><td>30</td><td>70000</td><td>IT</td></tr><tr><td>2</td><td>Alice</td><td>1997-02-28</td><td>25</td><td>60000</td><td>HR</td></tr><tr><td>3</td><td>Bob</td><td>null</td><td>null</td><td>80000</td><td>IT</td></tr><tr><td>4</td><td>Emily</td><td>1994-11-22</td><td>28</td><td>65000</td><td>Finance</td></tr><tr><td>1</td><td>John</td><td>1992-05-12</td><td>30</td><td>70000</td><td>IT</td></tr><tr><td>2</td><td>Alice</td><td>1997-02-28</td><td>25</td><td>60000</td><td>HR</td></tr><tr><td>3</td><td>Bob</td><td>null</td><td>null</td><td>80000</td><td>IT</td></tr><tr><td>4</td><td>Emily</td><td>1994-11-22</td><td>28</td><td>65000</td><td>Finance</td></tr><tr><td>5</td><td>David</td><td>1981-12-18</td><td>41</td><td>90000</td><td>HR</td></tr><tr><td>6</td><td>Susan</td><td>1989-07-05</td><td>33</td><td>75000</td><td>Finance</td></tr><tr><td>7</td><td>Mike</td><td>1976-03-15</td><td>46</td><td>95000</td><td>IT</td></tr><tr><td>10</td><td>Sophie</td><td>1992-06-30</td><td>30</td><td>62000</td><td>Finance</td></tr><tr><td>2</td><td>Alice</td><td>1997-02-28</td><td>25</td><td>90000</td><td>Finance</td></tr><tr><td>4</td><td>Emily</td><td>1994-11-22</td><td>28</td><td>70000</td><td>Finance</td></tr><tr><td>9</td><td>James</td><td>1983-10-14</td><td>39</td><td>87000</td><td>IT</td></tr><tr><td>1</td><td>John</td><td>1992-05-12</td><td>30</td><td>70000</td><td>IT</td></tr><tr><td>8</td><td>Lisa</td><td>1995-08-20</td><td>27</td><td>58000</td><td>HR</td></tr></tbody></table></div>"
      ]
     },
     "metadata": {
      "application/vnd.databricks.v1+output": {
       "addedWidgets": {},
       "aggData": [],
       "aggError": "",
       "aggOverflow": false,
       "aggSchema": [],
       "aggSeriesLimitReached": false,
       "aggType": "",
       "arguments": {},
       "columnCustomDisplayInfos": {},
       "data": [
        [
         1,
         "John",
         "1992-05-12",
         30,
         70000,
         "IT"
        ],
        [
         2,
         "Alice",
         "1997-02-28",
         25,
         60000,
         "HR"
        ],
        [
         3,
         "Bob",
         null,
         null,
         80000,
         "IT"
        ],
        [
         4,
         "Emily",
         "1994-11-22",
         28,
         65000,
         "Finance"
        ],
        [
         1,
         "John",
         "1992-05-12",
         30,
         70000,
         "IT"
        ],
        [
         2,
         "Alice",
         "1997-02-28",
         25,
         60000,
         "HR"
        ],
        [
         3,
         "Bob",
         null,
         null,
         80000,
         "IT"
        ],
        [
         4,
         "Emily",
         "1994-11-22",
         28,
         65000,
         "Finance"
        ],
        [
         5,
         "David",
         "1981-12-18",
         41,
         90000,
         "HR"
        ],
        [
         6,
         "Susan",
         "1989-07-05",
         33,
         75000,
         "Finance"
        ],
        [
         7,
         "Mike",
         "1976-03-15",
         46,
         95000,
         "IT"
        ],
        [
         10,
         "Sophie",
         "1992-06-30",
         30,
         62000,
         "Finance"
        ],
        [
         2,
         "Alice",
         "1997-02-28",
         25,
         90000,
         "Finance"
        ],
        [
         4,
         "Emily",
         "1994-11-22",
         28,
         70000,
         "Finance"
        ],
        [
         9,
         "James",
         "1983-10-14",
         39,
         87000,
         "IT"
        ],
        [
         1,
         "John",
         "1992-05-12",
         30,
         70000,
         "IT"
        ],
        [
         8,
         "Lisa",
         "1995-08-20",
         27,
         58000,
         "HR"
        ]
       ],
       "datasetInfos": [],
       "dbfsResultPath": null,
       "isJsonSchema": true,
       "metadata": {},
       "overflow": false,
       "plotOptions": {
        "customPlotOptions": {},
        "displayType": "table",
        "pivotAggregation": null,
        "pivotColumns": null,
        "xColumns": null,
        "yColumns": null
       },
       "removedWidgets": [],
       "schema": [
        {
         "metadata": "{}",
         "name": "id",
         "type": "\"integer\""
        },
        {
         "metadata": "{}",
         "name": "name",
         "type": "\"string\""
        },
        {
         "metadata": "{}",
         "name": "dob",
         "type": "\"date\""
        },
        {
         "metadata": "{}",
         "name": "age",
         "type": "\"integer\""
        },
        {
         "metadata": "{}",
         "name": "salary",
         "type": "\"integer\""
        },
        {
         "metadata": "{}",
         "name": "department",
         "type": "\"string\""
        }
       ],
       "type": "table"
      }
     },
     "output_type": "display_data"
    }
   ],
   "source": [
    "# Task : Load both csv and json union them\n",
    "from pyspark.sql import functions as F\n",
    "from pyspark.sql.window import Window\n",
    "df=df_csv.union(df_json)\n",
    "display(df)\n"
   ]
  },
  {
   "cell_type": "code",
   "execution_count": 0,
   "metadata": {
    "application/vnd.databricks.v1+cell": {
     "cellMetadata": {
      "byteLimit": 2048000,
      "rowLimit": 10000
     },
     "inputWidgets": {},
     "nuid": "70120c97-443f-4148-b07a-2326b0721454",
     "showTitle": false,
     "title": ""
    }
   },
   "outputs": [
    {
     "output_type": "stream",
     "name": "stdout",
     "output_type": "stream",
     "text": [
      "+---+------+----------+----+------+----------+------------+\n| id|  name|       dob| age|salary|department|is_duplicate|\n+---+------+----------+----+------+----------+------------+\n|  1|  John|1992-05-12|  30| 70000|        IT|       false|\n|  1|  John|1992-05-12|  30| 70000|        IT|        true|\n|  1|  John|1992-05-12|  30| 70000|        IT|        true|\n|  2| Alice|1997-02-28|  25| 60000|        HR|       false|\n|  2| Alice|1997-02-28|  25| 60000|        HR|        true|\n|  2| Alice|1997-02-28|  25| 90000|   Finance|       false|\n|  3|   Bob|      null|null| 80000|        IT|       false|\n|  3|   Bob|      null|null| 80000|        IT|        true|\n|  4| Emily|1994-11-22|  28| 65000|   Finance|       false|\n|  4| Emily|1994-11-22|  28| 65000|   Finance|        true|\n|  4| Emily|1994-11-22|  28| 70000|   Finance|       false|\n|  5| David|1981-12-18|  41| 90000|        HR|       false|\n|  6| Susan|1989-07-05|  33| 75000|   Finance|       false|\n|  7|  Mike|1976-03-15|  46| 95000|        IT|       false|\n|  8|  Lisa|1995-08-20|  27| 58000|        HR|       false|\n|  9| James|1983-10-14|  39| 87000|        IT|       false|\n| 10|Sophie|1992-06-30|  30| 62000|   Finance|       false|\n+---+------+----------+----+------+----------+------------+\n\n"
     ]
    }
   ],
   "source": [
    "df.withColumn( \"is_duplicate\", (F.row_number().over(Window.partitionBy(df.columns).orderBy(\"id\"))) > 1 ).show()"
   ]
  },
  {
   "cell_type": "code",
   "execution_count": 0,
   "metadata": {
    "application/vnd.databricks.v1+cell": {
     "cellMetadata": {
      "byteLimit": 2048000,
      "rowLimit": 10000
     },
     "inputWidgets": {},
     "nuid": "cc786c86-72e3-440b-b168-30b4280d6ecf",
     "showTitle": true,
     "title": "Task - 2"
    }
   },
   "outputs": [
    {
     "output_type": "display_data",
     "data": {
      "text/html": [
       "<style scoped>\n",
       "  .table-result-container {\n",
       "    max-height: 300px;\n",
       "    overflow: auto;\n",
       "  }\n",
       "  table, th, td {\n",
       "    border: 1px solid black;\n",
       "    border-collapse: collapse;\n",
       "  }\n",
       "  th, td {\n",
       "    padding: 5px;\n",
       "  }\n",
       "  th {\n",
       "    text-align: left;\n",
       "  }\n",
       "</style><div class='table-result-container'><table class='table-result'><thead style='background-color: white'><tr><th>id</th><th>name</th><th>dob</th><th>age</th><th>salary</th><th>department</th><th>mean_salary</th></tr></thead><tbody><tr><td>4</td><td>Emily</td><td>1994-11-22</td><td>28</td><td>65000</td><td>Finance</td><td>true</td></tr><tr><td>4</td><td>Emily</td><td>1994-11-22</td><td>28</td><td>65000</td><td>Finance</td><td>true</td></tr><tr><td>6</td><td>Susan</td><td>1989-07-05</td><td>33</td><td>75000</td><td>Finance</td><td>false</td></tr><tr><td>10</td><td>Sophie</td><td>1992-06-30</td><td>30</td><td>62000</td><td>Finance</td><td>true</td></tr><tr><td>2</td><td>Alice</td><td>1997-02-28</td><td>25</td><td>90000</td><td>Finance</td><td>false</td></tr><tr><td>4</td><td>Emily</td><td>1994-11-22</td><td>28</td><td>70000</td><td>Finance</td><td>true</td></tr><tr><td>2</td><td>Alice</td><td>1997-02-28</td><td>25</td><td>60000</td><td>HR</td><td>true</td></tr><tr><td>2</td><td>Alice</td><td>1997-02-28</td><td>25</td><td>60000</td><td>HR</td><td>true</td></tr><tr><td>5</td><td>David</td><td>1981-12-18</td><td>41</td><td>90000</td><td>HR</td><td>false</td></tr><tr><td>8</td><td>Lisa</td><td>1995-08-20</td><td>27</td><td>58000</td><td>HR</td><td>true</td></tr><tr><td>1</td><td>John</td><td>1992-05-12</td><td>30</td><td>70000</td><td>IT</td><td>true</td></tr><tr><td>3</td><td>Bob</td><td>null</td><td>null</td><td>80000</td><td>IT</td><td>false</td></tr><tr><td>1</td><td>John</td><td>1992-05-12</td><td>30</td><td>70000</td><td>IT</td><td>true</td></tr><tr><td>3</td><td>Bob</td><td>null</td><td>null</td><td>80000</td><td>IT</td><td>false</td></tr><tr><td>7</td><td>Mike</td><td>1976-03-15</td><td>46</td><td>95000</td><td>IT</td><td>false</td></tr><tr><td>9</td><td>James</td><td>1983-10-14</td><td>39</td><td>87000</td><td>IT</td><td>false</td></tr><tr><td>1</td><td>John</td><td>1992-05-12</td><td>30</td><td>70000</td><td>IT</td><td>true</td></tr></tbody></table></div>"
      ]
     },
     "metadata": {
      "application/vnd.databricks.v1+output": {
       "addedWidgets": {},
       "aggData": [],
       "aggError": "",
       "aggOverflow": false,
       "aggSchema": [],
       "aggSeriesLimitReached": false,
       "aggType": "",
       "arguments": {},
       "columnCustomDisplayInfos": {},
       "data": [
        [
         4,
         "Emily",
         "1994-11-22",
         28,
         65000,
         "Finance",
         true
        ],
        [
         4,
         "Emily",
         "1994-11-22",
         28,
         65000,
         "Finance",
         true
        ],
        [
         6,
         "Susan",
         "1989-07-05",
         33,
         75000,
         "Finance",
         false
        ],
        [
         10,
         "Sophie",
         "1992-06-30",
         30,
         62000,
         "Finance",
         true
        ],
        [
         2,
         "Alice",
         "1997-02-28",
         25,
         90000,
         "Finance",
         false
        ],
        [
         4,
         "Emily",
         "1994-11-22",
         28,
         70000,
         "Finance",
         true
        ],
        [
         2,
         "Alice",
         "1997-02-28",
         25,
         60000,
         "HR",
         true
        ],
        [
         2,
         "Alice",
         "1997-02-28",
         25,
         60000,
         "HR",
         true
        ],
        [
         5,
         "David",
         "1981-12-18",
         41,
         90000,
         "HR",
         false
        ],
        [
         8,
         "Lisa",
         "1995-08-20",
         27,
         58000,
         "HR",
         true
        ],
        [
         1,
         "John",
         "1992-05-12",
         30,
         70000,
         "IT",
         true
        ],
        [
         3,
         "Bob",
         null,
         null,
         80000,
         "IT",
         false
        ],
        [
         1,
         "John",
         "1992-05-12",
         30,
         70000,
         "IT",
         true
        ],
        [
         3,
         "Bob",
         null,
         null,
         80000,
         "IT",
         false
        ],
        [
         7,
         "Mike",
         "1976-03-15",
         46,
         95000,
         "IT",
         false
        ],
        [
         9,
         "James",
         "1983-10-14",
         39,
         87000,
         "IT",
         false
        ],
        [
         1,
         "John",
         "1992-05-12",
         30,
         70000,
         "IT",
         true
        ]
       ],
       "datasetInfos": [],
       "dbfsResultPath": null,
       "isJsonSchema": true,
       "metadata": {},
       "overflow": false,
       "plotOptions": {
        "customPlotOptions": {},
        "displayType": "table",
        "pivotAggregation": null,
        "pivotColumns": null,
        "xColumns": null,
        "yColumns": null
       },
       "removedWidgets": [],
       "schema": [
        {
         "metadata": "{}",
         "name": "id",
         "type": "\"integer\""
        },
        {
         "metadata": "{}",
         "name": "name",
         "type": "\"string\""
        },
        {
         "metadata": "{}",
         "name": "dob",
         "type": "\"date\""
        },
        {
         "metadata": "{}",
         "name": "age",
         "type": "\"integer\""
        },
        {
         "metadata": "{}",
         "name": "salary",
         "type": "\"integer\""
        },
        {
         "metadata": "{}",
         "name": "department",
         "type": "\"string\""
        },
        {
         "metadata": "{}",
         "name": "mean_salary",
         "type": "\"boolean\""
        }
       ],
       "type": "table"
      }
     },
     "output_type": "display_data"
    }
   ],
   "source": [
    "# Calculate mean salary and check if it is greater or equal to the salary of employees in each department.\n",
    "mean_salary = (F.avg(\"salary\"))\n",
    "\n",
    "df=df.withColumn( \"mean_salary\", ((mean_salary).over(Window.partitionBy(\"department\")) > df.salary ))\n",
    "display(df)\n",
    "\n"
   ]
  },
  {
   "cell_type": "code",
   "execution_count": 0,
   "metadata": {
    "application/vnd.databricks.v1+cell": {
     "cellMetadata": {
      "byteLimit": 2048000,
      "rowLimit": 10000
     },
     "inputWidgets": {},
     "nuid": "b153f943-84c6-4b7e-84d1-289788e98bca",
     "showTitle": false,
     "title": ""
    }
   },
   "outputs": [
    {
     "output_type": "stream",
     "name": "stdout",
     "output_type": "stream",
     "text": [
      "+---+------+----------+----+------+----------+-----------+\n| id|  name|       dob| age|salary|department|mean_salary|\n+---+------+----------+----+------+----------+-----------+\n|  1|  John|1992-05-12|  30| 70000|        IT|      false|\n|  2| Alice|1997-02-28|  25| 60000|        HR|      false|\n|  3|   Bob|      null|null| 80000|        IT|       true|\n|  4| Emily|1994-11-22|  28| 65000|   Finance|      false|\n|  1|  John|1992-05-12|  30| 70000|        IT|      false|\n|  2| Alice|1997-02-28|  25| 60000|        HR|      false|\n|  3|   Bob|      null|null| 80000|        IT|       true|\n|  4| Emily|1994-11-22|  28| 65000|   Finance|      false|\n|  5| David|1981-12-18|  41| 90000|        HR|       true|\n|  6| Susan|1989-07-05|  33| 75000|   Finance|       true|\n|  7|  Mike|1976-03-15|  46| 95000|        IT|       true|\n| 10|Sophie|1992-06-30|  30| 62000|   Finance|      false|\n|  2| Alice|1997-02-28|  25| 90000|   Finance|       true|\n|  4| Emily|1994-11-22|  28| 70000|   Finance|      false|\n|  9| James|1983-10-14|  39| 87000|        IT|       true|\n|  1|  John|1992-05-12|  30| 70000|        IT|      false|\n|  8|  Lisa|1995-08-20|  27| 58000|        HR|      false|\n+---+------+----------+----+------+----------+-----------+\n\n"
     ]
    }
   ],
   "source": [
    "# Calculate mean salary and check if it is greater or equal to the salary of all employees\n",
    "\n",
    "df.withColumn( \"mean_salary\", (df.select(F.avg(\"salary\")).first()[0]) <= df.salary ).show()"
   ]
  },
  {
   "cell_type": "code",
   "execution_count": 0,
   "metadata": {
    "application/vnd.databricks.v1+cell": {
     "cellMetadata": {},
     "inputWidgets": {},
     "nuid": "ad5ac2fb-1b15-41fa-9a67-42acba817a62",
     "showTitle": false,
     "title": ""
    }
   },
   "outputs": [],
   "source": []
  }
 ],
 "metadata": {
  "application/vnd.databricks.v1+notebook": {
   "dashboards": [],
   "language": "python",
   "notebookMetadata": {
    "pythonIndentUnit": 4
   },
   "notebookName": "TASK - PYSPARK Union",
   "widgets": {}
  }
 },
 "nbformat": 4,
 "nbformat_minor": 0
}
