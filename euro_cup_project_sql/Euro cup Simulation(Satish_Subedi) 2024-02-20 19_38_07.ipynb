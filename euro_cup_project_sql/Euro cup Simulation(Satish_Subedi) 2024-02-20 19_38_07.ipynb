{
 "cells": [
  {
   "cell_type": "markdown",
   "metadata": {
    "application/vnd.databricks.v1+cell": {
     "cellMetadata": {
      "byteLimit": 2048000,
      "rowLimit": 10000
     },
     "inputWidgets": {},
     "nuid": "1302983a-9dbe-4fc9-874a-8a6e43201827",
     "showTitle": false,
     "title": ""
    }
   },
   "source": [
    "# EURO CUP2024 - GERMANY\n",
    "## Predicting The European Champions"
   ]
  },
  {
   "cell_type": "code",
   "execution_count": 0,
   "metadata": {
    "application/vnd.databricks.v1+cell": {
     "cellMetadata": {
      "byteLimit": 2048000,
      "rowLimit": 10000
     },
     "inputWidgets": {},
     "nuid": "9a4cc4e7-ce10-4223-9e1d-7ea96293afe3",
     "showTitle": false,
     "title": ""
    }
   },
   "outputs": [
    {
     "output_type": "stream",
     "name": "stdout",
     "output_type": "stream",
     "text": [
      "Out[1]: True"
     ]
    }
   ],
   "source": [
    "dbutils.fs.rm(\"dbfs:/user/hive/warehouse/matches\",True)\n",
    "dbutils.fs.rm(\"dbfs:/user/hive/warehouse/thirdplacecombination\",True)\n",
    "dbutils.fs.rm(\"dbfs:/user/hive/warehouse/teamsgroups\",True)\n",
    "dbutils.fs.rm(\"dbfs:/user/hive/warehouse/matchstats\",True)\n",
    "dbutils.fs.rm(\"dbfs:/user/hive/warehouse/round_of_16\",True)\n"
   ]
  },
  {
   "cell_type": "markdown",
   "metadata": {
    "application/vnd.databricks.v1+cell": {
     "cellMetadata": {
      "byteLimit": 2048000,
      "rowLimit": 10000
     },
     "inputWidgets": {},
     "nuid": "969737e6-1753-4044-8791-287e74046b2b",
     "showTitle": false,
     "title": ""
    }
   },
   "source": [
    "## Table for Different Permutation and Combination\n",
    "- There will be 15 different combination which will determine the knock out scenarios"
   ]
  },
  {
   "cell_type": "code",
   "execution_count": 0,
   "metadata": {
    "application/vnd.databricks.v1+cell": {
     "cellMetadata": {
      "byteLimit": 2048000,
      "implicitDf": true,
      "rowLimit": 10000
     },
     "inputWidgets": {},
     "nuid": "5e667da9-c864-48f6-836c-7b6b1410ea22",
     "showTitle": false,
     "title": ""
    }
   },
   "outputs": [
    {
     "output_type": "display_data",
     "data": {
      "text/html": [
       "<style scoped>\n",
       "  .table-result-container {\n",
       "    max-height: 300px;\n",
       "    overflow: auto;\n",
       "  }\n",
       "  table, th, td {\n",
       "    border: 1px solid black;\n",
       "    border-collapse: collapse;\n",
       "  }\n",
       "  th, td {\n",
       "    padding: 5px;\n",
       "  }\n",
       "  th {\n",
       "    text-align: left;\n",
       "  }\n",
       "</style><div class='table-result-container'><table class='table-result'><thead style='background-color: white'><tr><th>ID</th><th>SELECTEDGROUPS</th><th>Team1B</th><th>Team1C</th><th>Team1E</th><th>Team1F</th></tr></thead><tbody><tr><td>1</td><td>ABCD</td><td>A</td><td>D</td><td>B</td><td>C</td></tr><tr><td>2</td><td>ABCE</td><td>A</td><td>E</td><td>B</td><td>C</td></tr><tr><td>3</td><td>ABCF</td><td>A</td><td>F</td><td>B</td><td>C</td></tr><tr><td>4</td><td>ABDE</td><td>D</td><td>E</td><td>A</td><td>B</td></tr><tr><td>5</td><td>ABDF</td><td>D</td><td>F</td><td>A</td><td>B</td></tr><tr><td>6</td><td>ABEF</td><td>E</td><td>F</td><td>B</td><td>A</td></tr><tr><td>7</td><td>ACDE</td><td>E</td><td>D</td><td>C</td><td>A</td></tr><tr><td>8</td><td>ACDF</td><td>F</td><td>D</td><td>C</td><td>A</td></tr><tr><td>9</td><td>ACEF</td><td>E</td><td>F</td><td>C</td><td>A</td></tr><tr><td>10</td><td>ADEF</td><td>E</td><td>F</td><td>D</td><td>A</td></tr><tr><td>11</td><td>BCDE</td><td>E</td><td>D</td><td>B</td><td>C</td></tr><tr><td>12</td><td>BCDF</td><td>F</td><td>D</td><td>C</td><td>B</td></tr><tr><td>13</td><td>BCEF</td><td>F</td><td>E</td><td>C</td><td>B</td></tr><tr><td>14</td><td>BDEF</td><td>F</td><td>E</td><td>D</td><td>B</td></tr><tr><td>15</td><td>CDEF</td><td>F</td><td>E</td><td>D</td><td>C</td></tr></tbody></table></div>"
      ]
     },
     "metadata": {
      "application/vnd.databricks.v1+output": {
       "addedWidgets": {},
       "aggData": [],
       "aggError": "",
       "aggOverflow": false,
       "aggSchema": [],
       "aggSeriesLimitReached": false,
       "aggType": "",
       "arguments": {},
       "columnCustomDisplayInfos": {},
       "data": [
        [
         1,
         "ABCD",
         "A",
         "D",
         "B",
         "C"
        ],
        [
         2,
         "ABCE",
         "A",
         "E",
         "B",
         "C"
        ],
        [
         3,
         "ABCF",
         "A",
         "F",
         "B",
         "C"
        ],
        [
         4,
         "ABDE",
         "D",
         "E",
         "A",
         "B"
        ],
        [
         5,
         "ABDF",
         "D",
         "F",
         "A",
         "B"
        ],
        [
         6,
         "ABEF",
         "E",
         "F",
         "B",
         "A"
        ],
        [
         7,
         "ACDE",
         "E",
         "D",
         "C",
         "A"
        ],
        [
         8,
         "ACDF",
         "F",
         "D",
         "C",
         "A"
        ],
        [
         9,
         "ACEF",
         "E",
         "F",
         "C",
         "A"
        ],
        [
         10,
         "ADEF",
         "E",
         "F",
         "D",
         "A"
        ],
        [
         11,
         "BCDE",
         "E",
         "D",
         "B",
         "C"
        ],
        [
         12,
         "BCDF",
         "F",
         "D",
         "C",
         "B"
        ],
        [
         13,
         "BCEF",
         "F",
         "E",
         "C",
         "B"
        ],
        [
         14,
         "BDEF",
         "F",
         "E",
         "D",
         "B"
        ],
        [
         15,
         "CDEF",
         "F",
         "E",
         "D",
         "C"
        ]
       ],
       "datasetInfos": [],
       "dbfsResultPath": null,
       "isJsonSchema": true,
       "metadata": {},
       "overflow": false,
       "plotOptions": {
        "customPlotOptions": {},
        "displayType": "table",
        "pivotAggregation": null,
        "pivotColumns": null,
        "xColumns": null,
        "yColumns": null
       },
       "removedWidgets": [],
       "schema": [
        {
         "metadata": "{}",
         "name": "ID",
         "type": "\"integer\""
        },
        {
         "metadata": "{\"__CHAR_VARCHAR_TYPE_STRING\":\"varchar(4)\"}",
         "name": "SELECTEDGROUPS",
         "type": "\"string\""
        },
        {
         "metadata": "{\"__CHAR_VARCHAR_TYPE_STRING\":\"varchar(1)\"}",
         "name": "Team1B",
         "type": "\"string\""
        },
        {
         "metadata": "{\"__CHAR_VARCHAR_TYPE_STRING\":\"varchar(1)\"}",
         "name": "Team1C",
         "type": "\"string\""
        },
        {
         "metadata": "{\"__CHAR_VARCHAR_TYPE_STRING\":\"varchar(1)\"}",
         "name": "Team1E",
         "type": "\"string\""
        },
        {
         "metadata": "{\"__CHAR_VARCHAR_TYPE_STRING\":\"varchar(1)\"}",
         "name": "Team1F",
         "type": "\"string\""
        }
       ],
       "type": "table"
      }
     },
     "output_type": "display_data"
    }
   ],
   "source": [
    "%sql\n",
    "CREATE or replace  TABLE ThirdPlaceCombination(\n",
    "  ID INTEGER,\n",
    "  SELECTEDGROUPS VARCHAR(4),\n",
    "  Team1B VARCHAR(1),\n",
    "  Team1C VARCHAR(1),\n",
    "  Team1E VARCHAR(1),\n",
    "  Team1F VARCHAR(1)\n",
    ");\n",
    "\n",
    "-- Step 2: Insert the provided values into the \"THIRDMATCHUP\" table\n",
    "INSERT INTO  ThirdPlaceCombination (ID, SELECTEDGROUPS, Team1B, Team1C, Team1E, Team1F) VALUES\n",
    "(1, 'ABCD', 'A', 'D', 'B', 'C'),\n",
    "(2, 'ABCE', 'A', 'E', 'B', 'C'),\n",
    "(3, 'ABCF', 'A', 'F', 'B', 'C'),\n",
    "(4, 'ABDE', 'D', 'E', 'A', 'B'),\n",
    "(5, 'ABDF', 'D', 'F', 'A', 'B'),\n",
    "(6, 'ABEF', 'E', 'F', 'B', 'A'),\n",
    "(7, 'ACDE', 'E', 'D', 'C', 'A'),\n",
    "(8, 'ACDF', 'F', 'D', 'C', 'A'),\n",
    "(9, 'ACEF', 'E', 'F', 'C', 'A'),\n",
    "(10, 'ADEF', 'E', 'F', 'D', 'A'),\n",
    "(11, 'BCDE', 'E', 'D', 'B', 'C'),\n",
    "(12, 'BCDF', 'F', 'D', 'C', 'B'),\n",
    "(13, 'BCEF', 'F', 'E', 'C', 'B'),\n",
    "(14, 'BDEF', 'F', 'E', 'D', 'B'),\n",
    "(15, 'CDEF', 'F', 'E', 'D', 'C');\n",
    "\n",
    "SELECT * FROM ThirdPlaceCombination;"
   ]
  },
  {
   "cell_type": "markdown",
   "metadata": {
    "application/vnd.databricks.v1+cell": {
     "cellMetadata": {
      "byteLimit": 2048000,
      "rowLimit": 10000
     },
     "inputWidgets": {},
     "nuid": "73c6b0c9-f3f9-4ef0-8baf-8c3187a1ac98",
     "showTitle": false,
     "title": ""
    }
   },
   "source": [
    "## Table for the Groups of Teams\n",
    "- There will be 24 participating countries,which will be divided into 6 different groups.\n",
    "- Each group will contain 4 different countries"
   ]
  },
  {
   "cell_type": "code",
   "execution_count": 0,
   "metadata": {
    "application/vnd.databricks.v1+cell": {
     "cellMetadata": {
      "byteLimit": 2048000,
      "implicitDf": true,
      "rowLimit": 10000
     },
     "inputWidgets": {},
     "nuid": "52b0101b-ceb0-42fc-9fa4-4ee10e0fe994",
     "showTitle": false,
     "title": ""
    }
   },
   "outputs": [
    {
     "output_type": "display_data",
     "data": {
      "text/html": [
       "<style scoped>\n",
       "  .table-result-container {\n",
       "    max-height: 300px;\n",
       "    overflow: auto;\n",
       "  }\n",
       "  table, th, td {\n",
       "    border: 1px solid black;\n",
       "    border-collapse: collapse;\n",
       "  }\n",
       "  th, td {\n",
       "    padding: 5px;\n",
       "  }\n",
       "  th {\n",
       "    text-align: left;\n",
       "  }\n",
       "</style><div class='table-result-container'><table class='table-result'><thead style='background-color: white'><tr><th>TeamID</th><th>TeamName</th><th>GroupName</th></tr></thead><tbody><tr><td>1</td><td>Germany</td><td>A</td></tr><tr><td>2</td><td>Scotland</td><td>A</td></tr><tr><td>3</td><td>Hungary</td><td>A</td></tr><tr><td>4</td><td>Switzerland</td><td>A</td></tr><tr><td>5</td><td>Spain</td><td>B</td></tr><tr><td>6</td><td>Croatia</td><td>B</td></tr><tr><td>7</td><td>Italy</td><td>B</td></tr><tr><td>8</td><td>Albania</td><td>B</td></tr><tr><td>9</td><td>Slovenia</td><td>C</td></tr><tr><td>10</td><td>Denmark</td><td>C</td></tr><tr><td>11</td><td>Serbia</td><td>C</td></tr><tr><td>12</td><td>England</td><td>C</td></tr><tr><td>13</td><td>Netherlands</td><td>D</td></tr><tr><td>14</td><td>Austria</td><td>D</td></tr><tr><td>15</td><td>France</td><td>D</td></tr><tr><td>16</td><td>Play-off Winner A</td><td>D</td></tr><tr><td>17</td><td>Belgium</td><td>E</td></tr><tr><td>18</td><td>Slovakia</td><td>E</td></tr><tr><td>19</td><td>Romania</td><td>E</td></tr><tr><td>20</td><td>Play-off Winner B</td><td>E</td></tr><tr><td>21</td><td>Turkey</td><td>F</td></tr><tr><td>22</td><td>Play-off Winner C</td><td>F</td></tr><tr><td>23</td><td>Portugal</td><td>F</td></tr><tr><td>24</td><td>Czech Republic</td><td>F</td></tr></tbody></table></div>"
      ]
     },
     "metadata": {
      "application/vnd.databricks.v1+output": {
       "addedWidgets": {},
       "aggData": [],
       "aggError": "",
       "aggOverflow": false,
       "aggSchema": [],
       "aggSeriesLimitReached": false,
       "aggType": "",
       "arguments": {},
       "columnCustomDisplayInfos": {},
       "data": [
        [
         1,
         "Germany",
         "A"
        ],
        [
         2,
         "Scotland",
         "A"
        ],
        [
         3,
         "Hungary",
         "A"
        ],
        [
         4,
         "Switzerland",
         "A"
        ],
        [
         5,
         "Spain",
         "B"
        ],
        [
         6,
         "Croatia",
         "B"
        ],
        [
         7,
         "Italy",
         "B"
        ],
        [
         8,
         "Albania",
         "B"
        ],
        [
         9,
         "Slovenia",
         "C"
        ],
        [
         10,
         "Denmark",
         "C"
        ],
        [
         11,
         "Serbia",
         "C"
        ],
        [
         12,
         "England",
         "C"
        ],
        [
         13,
         "Netherlands",
         "D"
        ],
        [
         14,
         "Austria",
         "D"
        ],
        [
         15,
         "France",
         "D"
        ],
        [
         16,
         "Play-off Winner A",
         "D"
        ],
        [
         17,
         "Belgium",
         "E"
        ],
        [
         18,
         "Slovakia",
         "E"
        ],
        [
         19,
         "Romania",
         "E"
        ],
        [
         20,
         "Play-off Winner B",
         "E"
        ],
        [
         21,
         "Turkey",
         "F"
        ],
        [
         22,
         "Play-off Winner C",
         "F"
        ],
        [
         23,
         "Portugal",
         "F"
        ],
        [
         24,
         "Czech Republic",
         "F"
        ]
       ],
       "datasetInfos": [],
       "dbfsResultPath": null,
       "isJsonSchema": true,
       "metadata": {},
       "overflow": false,
       "plotOptions": {
        "customPlotOptions": {},
        "displayType": "table",
        "pivotAggregation": null,
        "pivotColumns": null,
        "xColumns": null,
        "yColumns": null
       },
       "removedWidgets": [],
       "schema": [
        {
         "metadata": "{}",
         "name": "TeamID",
         "type": "\"integer\""
        },
        {
         "metadata": "{\"__CHAR_VARCHAR_TYPE_STRING\":\"varchar(100)\"}",
         "name": "TeamName",
         "type": "\"string\""
        },
        {
         "metadata": "{\"__CHAR_VARCHAR_TYPE_STRING\":\"varchar(1)\"}",
         "name": "GroupName",
         "type": "\"string\""
        }
       ],
       "type": "table"
      }
     },
     "output_type": "display_data"
    }
   ],
   "source": [
    "%sql\n",
    "CREATE or replace TABLE TeamsGroups (\n",
    "    TeamID INT,\n",
    "    TeamName VARCHAR(100),\n",
    "    GroupName VARCHAR(1) \n",
    ");\n",
    "\n",
    "INSERT INTO TeamsGroups (TeamID,TeamName,GroupName) VALUES\n",
    "-- Group A\n",
    "    (1, 'Germany','A'),\n",
    "    (2, 'Scotland','A'),\n",
    "    (3, 'Hungary','A'),\n",
    "    (4, 'Switzerland','A'),\n",
    "\n",
    "-- Group B\n",
    "    (5, 'Spain','B'),\n",
    "    (6, 'Croatia','B'),\n",
    "    (7, 'Italy','B'),\n",
    "    (8, 'Albania','B'),\n",
    "\n",
    "-- Group C\n",
    "    (9, 'Slovenia','C'),\n",
    "    (10, 'Denmark','C'),\n",
    "    (11, 'Serbia','C'),\n",
    "    (12, 'England','C'),\n",
    "\n",
    "-- Group D\n",
    "    (13, 'Netherlands','D'),\n",
    "    (14, 'Austria','D'),\n",
    "    (15, 'France','D'),\n",
    "    (16, 'Play-off Winner A','D'),\n",
    "\n",
    "-- Group E\n",
    "    (17, 'Belgium','E'),\n",
    "    (18, 'Slovakia','E'),\n",
    "    (19, 'Romania','E'),\n",
    "    (20, 'Play-off Winner B','E'),\n",
    "\n",
    "-- Group F\n",
    "    (21, 'Turkey','F'),\n",
    "    (22, 'Play-off Winner C','F'),\n",
    "    (23, 'Portugal','F'),\n",
    "    (24, 'Czech Republic','F');\n",
    "\n",
    "SELECT * FROM TeamsGroups;"
   ]
  },
  {
   "cell_type": "markdown",
   "metadata": {
    "application/vnd.databricks.v1+cell": {
     "cellMetadata": {
      "byteLimit": 2048000,
      "rowLimit": 10000
     },
     "inputWidgets": {},
     "nuid": "cd08aac8-f7ea-4b06-9fe4-8b20f7af9a7f",
     "showTitle": false,
     "title": ""
    }
   },
   "source": [
    "## Table for all the matches during euro cup\n",
    "- This table will store all the matches of the euro cup.\n",
    "- There will be total of 52 matches in the tournament across 10 different venues.\n",
    "- **The Olympiastadion** in Berlin will host the tournament decider. "
   ]
  },
  {
   "cell_type": "code",
   "execution_count": 0,
   "metadata": {
    "application/vnd.databricks.v1+cell": {
     "cellMetadata": {
      "byteLimit": 2048000,
      "implicitDf": true,
      "rowLimit": 10000
     },
     "inputWidgets": {},
     "nuid": "b663c3cf-49f3-41b3-b246-2f830c8de014",
     "showTitle": false,
     "title": ""
    }
   },
   "outputs": [
    {
     "output_type": "display_data",
     "data": {
      "text/html": [
       "<style scoped>\n",
       "  .table-result-container {\n",
       "    max-height: 300px;\n",
       "    overflow: auto;\n",
       "  }\n",
       "  table, th, td {\n",
       "    border: 1px solid black;\n",
       "    border-collapse: collapse;\n",
       "  }\n",
       "  th, td {\n",
       "    padding: 5px;\n",
       "  }\n",
       "  th {\n",
       "    text-align: left;\n",
       "  }\n",
       "</style><div class='table-result-container'><table class='table-result'><thead style='background-color: white'><tr></tr></thead><tbody></tbody></table></div>"
      ]
     },
     "metadata": {
      "application/vnd.databricks.v1+output": {
       "addedWidgets": {},
       "aggData": [],
       "aggError": "",
       "aggOverflow": false,
       "aggSchema": [],
       "aggSeriesLimitReached": false,
       "aggType": "",
       "arguments": {},
       "columnCustomDisplayInfos": {},
       "data": [],
       "datasetInfos": [],
       "dbfsResultPath": null,
       "isJsonSchema": true,
       "metadata": {},
       "overflow": false,
       "plotOptions": {
        "customPlotOptions": {},
        "displayType": "table",
        "pivotAggregation": null,
        "pivotColumns": null,
        "xColumns": null,
        "yColumns": null
       },
       "removedWidgets": [],
       "schema": [],
       "type": "table"
      }
     },
     "output_type": "display_data"
    }
   ],
   "source": [
    "%sql\n",
    "CREATE or replace TABLE Matches (\n",
    "    MatchID INT,\n",
    "    Fixture varchar(50),\n",
    "    GroupName varchar(1),\n",
    "    HomeTeam varchar(20),\n",
    "    AwayTeam varchar(20),\n",
    "    HomeTeamGoals INT,\n",
    "    AwayTeamGoals INT,\n",
    "    MatchResult varchar(20),\n",
    "    MatchStage varchar(20)\n",
    ");"
   ]
  },
  {
   "cell_type": "code",
   "execution_count": 0,
   "metadata": {
    "application/vnd.databricks.v1+cell": {
     "cellMetadata": {
      "byteLimit": 2048000,
      "implicitDf": true,
      "rowLimit": 10000
     },
     "inputWidgets": {},
     "nuid": "3f167919-4ef7-4cc6-98f9-ae994b1231c9",
     "showTitle": false,
     "title": ""
    }
   },
   "outputs": [
    {
     "output_type": "display_data",
     "data": {
      "text/html": [
       "<style scoped>\n",
       "  .table-result-container {\n",
       "    max-height: 300px;\n",
       "    overflow: auto;\n",
       "  }\n",
       "  table, th, td {\n",
       "    border: 1px solid black;\n",
       "    border-collapse: collapse;\n",
       "  }\n",
       "  th, td {\n",
       "    padding: 5px;\n",
       "  }\n",
       "  th {\n",
       "    text-align: left;\n",
       "  }\n",
       "</style><div class='table-result-container'><table class='table-result'><thead style='background-color: white'><tr><th>MatchID</th><th>Fixture</th><th>GroupName</th><th>HomeTeam</th><th>AwayTeam</th><th>HomeTeamGoals</th><th>AwayTeamGoals</th><th>MatchResult</th><th>MatchStage</th></tr></thead><tbody><tr><td>1</td><td>Germany vs Switzerland</td><td>A</td><td>Germany</td><td>Switzerland</td><td>5</td><td>1</td><td>Germany</td><td>Group Stage</td></tr><tr><td>2</td><td>Germany vs Hungary</td><td>A</td><td>Germany</td><td>Hungary</td><td>5</td><td>4</td><td>Germany</td><td>Group Stage</td></tr><tr><td>3</td><td>Germany vs Scotland</td><td>A</td><td>Germany</td><td>Scotland</td><td>0</td><td>5</td><td>Scotland</td><td>Group Stage</td></tr><tr><td>4</td><td>Scotland vs Switzerland</td><td>A</td><td>Scotland</td><td>Switzerland</td><td>0</td><td>1</td><td>Switzerland</td><td>Group Stage</td></tr><tr><td>5</td><td>Scotland vs Hungary</td><td>A</td><td>Scotland</td><td>Hungary</td><td>2</td><td>3</td><td>Hungary</td><td>Group Stage</td></tr><tr><td>6</td><td>Hungary vs Switzerland</td><td>A</td><td>Hungary</td><td>Switzerland</td><td>3</td><td>0</td><td>Hungary</td><td>Group Stage</td></tr><tr><td>7</td><td>Spain vs Albania</td><td>B</td><td>Spain</td><td>Albania</td><td>4</td><td>3</td><td>Spain</td><td>Group Stage</td></tr><tr><td>8</td><td>Spain vs Italy</td><td>B</td><td>Spain</td><td>Italy</td><td>3</td><td>0</td><td>Spain</td><td>Group Stage</td></tr><tr><td>9</td><td>Spain vs Croatia</td><td>B</td><td>Spain</td><td>Croatia</td><td>0</td><td>3</td><td>Croatia</td><td>Group Stage</td></tr><tr><td>10</td><td>Croatia vs Albania</td><td>B</td><td>Croatia</td><td>Albania</td><td>1</td><td>2</td><td>Albania</td><td>Group Stage</td></tr><tr><td>11</td><td>Croatia vs Italy</td><td>B</td><td>Croatia</td><td>Italy</td><td>4</td><td>5</td><td>Italy</td><td>Group Stage</td></tr><tr><td>12</td><td>Italy vs Albania</td><td>B</td><td>Italy</td><td>Albania</td><td>5</td><td>4</td><td>Italy</td><td>Group Stage</td></tr><tr><td>13</td><td>Slovenia vs England</td><td>C</td><td>Slovenia</td><td>England</td><td>3</td><td>3</td><td>Draw</td><td>Group Stage</td></tr><tr><td>14</td><td>Slovenia vs Serbia</td><td>C</td><td>Slovenia</td><td>Serbia</td><td>0</td><td>5</td><td>Serbia</td><td>Group Stage</td></tr><tr><td>15</td><td>Slovenia vs Denmark</td><td>C</td><td>Slovenia</td><td>Denmark</td><td>5</td><td>3</td><td>Slovenia</td><td>Group Stage</td></tr><tr><td>16</td><td>Denmark vs England</td><td>C</td><td>Denmark</td><td>England</td><td>4</td><td>2</td><td>Denmark</td><td>Group Stage</td></tr><tr><td>17</td><td>Denmark vs Serbia</td><td>C</td><td>Denmark</td><td>Serbia</td><td>2</td><td>2</td><td>Draw</td><td>Group Stage</td></tr><tr><td>18</td><td>Serbia vs England</td><td>C</td><td>Serbia</td><td>England</td><td>1</td><td>3</td><td>England</td><td>Group Stage</td></tr><tr><td>19</td><td>Netherlands vs Play-off Winner A</td><td>D</td><td>Netherlands</td><td>Play-off Winner A</td><td>0</td><td>1</td><td>Play-off Winner A</td><td>Group Stage</td></tr><tr><td>20</td><td>Netherlands vs France</td><td>D</td><td>Netherlands</td><td>France</td><td>0</td><td>3</td><td>France</td><td>Group Stage</td></tr><tr><td>21</td><td>Netherlands vs Austria</td><td>D</td><td>Netherlands</td><td>Austria</td><td>0</td><td>2</td><td>Austria</td><td>Group Stage</td></tr><tr><td>22</td><td>Austria vs Play-off Winner A</td><td>D</td><td>Austria</td><td>Play-off Winner A</td><td>3</td><td>5</td><td>Play-off Winner A</td><td>Group Stage</td></tr><tr><td>23</td><td>Austria vs France</td><td>D</td><td>Austria</td><td>France</td><td>3</td><td>5</td><td>France</td><td>Group Stage</td></tr><tr><td>24</td><td>France vs Play-off Winner A</td><td>D</td><td>France</td><td>Play-off Winner A</td><td>0</td><td>1</td><td>Play-off Winner A</td><td>Group Stage</td></tr><tr><td>25</td><td>Belgium vs Play-off Winner B</td><td>E</td><td>Belgium</td><td>Play-off Winner B</td><td>5</td><td>3</td><td>Belgium</td><td>Group Stage</td></tr><tr><td>26</td><td>Belgium vs Romania</td><td>E</td><td>Belgium</td><td>Romania</td><td>3</td><td>2</td><td>Belgium</td><td>Group Stage</td></tr><tr><td>27</td><td>Belgium vs Slovakia</td><td>E</td><td>Belgium</td><td>Slovakia</td><td>0</td><td>5</td><td>Slovakia</td><td>Group Stage</td></tr><tr><td>28</td><td>Slovakia vs Play-off Winner B</td><td>E</td><td>Slovakia</td><td>Play-off Winner B</td><td>4</td><td>3</td><td>Slovakia</td><td>Group Stage</td></tr><tr><td>29</td><td>Slovakia vs Romania</td><td>E</td><td>Slovakia</td><td>Romania</td><td>1</td><td>1</td><td>Draw</td><td>Group Stage</td></tr><tr><td>30</td><td>Romania vs Play-off Winner B</td><td>E</td><td>Romania</td><td>Play-off Winner B</td><td>1</td><td>0</td><td>Romania</td><td>Group Stage</td></tr><tr><td>31</td><td>Turkey vs Czech Republic</td><td>F</td><td>Turkey</td><td>Czech Republic</td><td>0</td><td>2</td><td>Czech Republic</td><td>Group Stage</td></tr><tr><td>32</td><td>Turkey vs Portugal</td><td>F</td><td>Turkey</td><td>Portugal</td><td>3</td><td>0</td><td>Turkey</td><td>Group Stage</td></tr><tr><td>33</td><td>Turkey vs Play-off Winner C</td><td>F</td><td>Turkey</td><td>Play-off Winner C</td><td>2</td><td>1</td><td>Turkey</td><td>Group Stage</td></tr><tr><td>34</td><td>Play-off Winner C vs Czech Republic</td><td>F</td><td>Play-off Winner C</td><td>Czech Republic</td><td>5</td><td>0</td><td>Play-off Winner C</td><td>Group Stage</td></tr><tr><td>35</td><td>Play-off Winner C vs Portugal</td><td>F</td><td>Play-off Winner C</td><td>Portugal</td><td>2</td><td>3</td><td>Portugal</td><td>Group Stage</td></tr><tr><td>36</td><td>Portugal vs Czech Republic</td><td>F</td><td>Portugal</td><td>Czech Republic</td><td>5</td><td>3</td><td>Portugal</td><td>Group Stage</td></tr></tbody></table></div>"
      ]
     },
     "metadata": {
      "application/vnd.databricks.v1+output": {
       "addedWidgets": {},
       "aggData": [],
       "aggError": "",
       "aggOverflow": false,
       "aggSchema": [],
       "aggSeriesLimitReached": false,
       "aggType": "",
       "arguments": {},
       "columnCustomDisplayInfos": {},
       "data": [
        [
         1,
         "Germany vs Switzerland",
         "A",
         "Germany",
         "Switzerland",
         5,
         1,
         "Germany",
         "Group Stage"
        ],
        [
         2,
         "Germany vs Hungary",
         "A",
         "Germany",
         "Hungary",
         5,
         4,
         "Germany",
         "Group Stage"
        ],
        [
         3,
         "Germany vs Scotland",
         "A",
         "Germany",
         "Scotland",
         0,
         5,
         "Scotland",
         "Group Stage"
        ],
        [
         4,
         "Scotland vs Switzerland",
         "A",
         "Scotland",
         "Switzerland",
         0,
         1,
         "Switzerland",
         "Group Stage"
        ],
        [
         5,
         "Scotland vs Hungary",
         "A",
         "Scotland",
         "Hungary",
         2,
         3,
         "Hungary",
         "Group Stage"
        ],
        [
         6,
         "Hungary vs Switzerland",
         "A",
         "Hungary",
         "Switzerland",
         3,
         0,
         "Hungary",
         "Group Stage"
        ],
        [
         7,
         "Spain vs Albania",
         "B",
         "Spain",
         "Albania",
         4,
         3,
         "Spain",
         "Group Stage"
        ],
        [
         8,
         "Spain vs Italy",
         "B",
         "Spain",
         "Italy",
         3,
         0,
         "Spain",
         "Group Stage"
        ],
        [
         9,
         "Spain vs Croatia",
         "B",
         "Spain",
         "Croatia",
         0,
         3,
         "Croatia",
         "Group Stage"
        ],
        [
         10,
         "Croatia vs Albania",
         "B",
         "Croatia",
         "Albania",
         1,
         2,
         "Albania",
         "Group Stage"
        ],
        [
         11,
         "Croatia vs Italy",
         "B",
         "Croatia",
         "Italy",
         4,
         5,
         "Italy",
         "Group Stage"
        ],
        [
         12,
         "Italy vs Albania",
         "B",
         "Italy",
         "Albania",
         5,
         4,
         "Italy",
         "Group Stage"
        ],
        [
         13,
         "Slovenia vs England",
         "C",
         "Slovenia",
         "England",
         3,
         3,
         "Draw",
         "Group Stage"
        ],
        [
         14,
         "Slovenia vs Serbia",
         "C",
         "Slovenia",
         "Serbia",
         0,
         5,
         "Serbia",
         "Group Stage"
        ],
        [
         15,
         "Slovenia vs Denmark",
         "C",
         "Slovenia",
         "Denmark",
         5,
         3,
         "Slovenia",
         "Group Stage"
        ],
        [
         16,
         "Denmark vs England",
         "C",
         "Denmark",
         "England",
         4,
         2,
         "Denmark",
         "Group Stage"
        ],
        [
         17,
         "Denmark vs Serbia",
         "C",
         "Denmark",
         "Serbia",
         2,
         2,
         "Draw",
         "Group Stage"
        ],
        [
         18,
         "Serbia vs England",
         "C",
         "Serbia",
         "England",
         1,
         3,
         "England",
         "Group Stage"
        ],
        [
         19,
         "Netherlands vs Play-off Winner A",
         "D",
         "Netherlands",
         "Play-off Winner A",
         0,
         1,
         "Play-off Winner A",
         "Group Stage"
        ],
        [
         20,
         "Netherlands vs France",
         "D",
         "Netherlands",
         "France",
         0,
         3,
         "France",
         "Group Stage"
        ],
        [
         21,
         "Netherlands vs Austria",
         "D",
         "Netherlands",
         "Austria",
         0,
         2,
         "Austria",
         "Group Stage"
        ],
        [
         22,
         "Austria vs Play-off Winner A",
         "D",
         "Austria",
         "Play-off Winner A",
         3,
         5,
         "Play-off Winner A",
         "Group Stage"
        ],
        [
         23,
         "Austria vs France",
         "D",
         "Austria",
         "France",
         3,
         5,
         "France",
         "Group Stage"
        ],
        [
         24,
         "France vs Play-off Winner A",
         "D",
         "France",
         "Play-off Winner A",
         0,
         1,
         "Play-off Winner A",
         "Group Stage"
        ],
        [
         25,
         "Belgium vs Play-off Winner B",
         "E",
         "Belgium",
         "Play-off Winner B",
         5,
         3,
         "Belgium",
         "Group Stage"
        ],
        [
         26,
         "Belgium vs Romania",
         "E",
         "Belgium",
         "Romania",
         3,
         2,
         "Belgium",
         "Group Stage"
        ],
        [
         27,
         "Belgium vs Slovakia",
         "E",
         "Belgium",
         "Slovakia",
         0,
         5,
         "Slovakia",
         "Group Stage"
        ],
        [
         28,
         "Slovakia vs Play-off Winner B",
         "E",
         "Slovakia",
         "Play-off Winner B",
         4,
         3,
         "Slovakia",
         "Group Stage"
        ],
        [
         29,
         "Slovakia vs Romania",
         "E",
         "Slovakia",
         "Romania",
         1,
         1,
         "Draw",
         "Group Stage"
        ],
        [
         30,
         "Romania vs Play-off Winner B",
         "E",
         "Romania",
         "Play-off Winner B",
         1,
         0,
         "Romania",
         "Group Stage"
        ],
        [
         31,
         "Turkey vs Czech Republic",
         "F",
         "Turkey",
         "Czech Republic",
         0,
         2,
         "Czech Republic",
         "Group Stage"
        ],
        [
         32,
         "Turkey vs Portugal",
         "F",
         "Turkey",
         "Portugal",
         3,
         0,
         "Turkey",
         "Group Stage"
        ],
        [
         33,
         "Turkey vs Play-off Winner C",
         "F",
         "Turkey",
         "Play-off Winner C",
         2,
         1,
         "Turkey",
         "Group Stage"
        ],
        [
         34,
         "Play-off Winner C vs Czech Republic",
         "F",
         "Play-off Winner C",
         "Czech Republic",
         5,
         0,
         "Play-off Winner C",
         "Group Stage"
        ],
        [
         35,
         "Play-off Winner C vs Portugal",
         "F",
         "Play-off Winner C",
         "Portugal",
         2,
         3,
         "Portugal",
         "Group Stage"
        ],
        [
         36,
         "Portugal vs Czech Republic",
         "F",
         "Portugal",
         "Czech Republic",
         5,
         3,
         "Portugal",
         "Group Stage"
        ]
       ],
       "datasetInfos": [],
       "dbfsResultPath": null,
       "isJsonSchema": true,
       "metadata": {},
       "overflow": false,
       "plotOptions": {
        "customPlotOptions": {},
        "displayType": "table",
        "pivotAggregation": null,
        "pivotColumns": null,
        "xColumns": null,
        "yColumns": null
       },
       "removedWidgets": [],
       "schema": [
        {
         "metadata": "{}",
         "name": "MatchID",
         "type": "\"integer\""
        },
        {
         "metadata": "{\"__CHAR_VARCHAR_TYPE_STRING\":\"varchar(50)\"}",
         "name": "Fixture",
         "type": "\"string\""
        },
        {
         "metadata": "{\"__CHAR_VARCHAR_TYPE_STRING\":\"varchar(1)\"}",
         "name": "GroupName",
         "type": "\"string\""
        },
        {
         "metadata": "{\"__CHAR_VARCHAR_TYPE_STRING\":\"varchar(20)\"}",
         "name": "HomeTeam",
         "type": "\"string\""
        },
        {
         "metadata": "{\"__CHAR_VARCHAR_TYPE_STRING\":\"varchar(20)\"}",
         "name": "AwayTeam",
         "type": "\"string\""
        },
        {
         "metadata": "{}",
         "name": "HomeTeamGoals",
         "type": "\"integer\""
        },
        {
         "metadata": "{}",
         "name": "AwayTeamGoals",
         "type": "\"integer\""
        },
        {
         "metadata": "{\"__CHAR_VARCHAR_TYPE_STRING\":\"varchar(20)\"}",
         "name": "MatchResult",
         "type": "\"string\""
        },
        {
         "metadata": "{\"__CHAR_VARCHAR_TYPE_STRING\":\"varchar(20)\"}",
         "name": "MatchStage",
         "type": "\"string\""
        }
       ],
       "type": "table"
      }
     },
     "output_type": "display_data"
    }
   ],
   "source": [
    "%sql\n",
    "--Fixture of all the teams in group stage\n",
    "INSERT INTO MATCHES\n",
    "    SELECT\n",
    "        ROW_NUMBER() over(order by 1) as MatchId,\n",
    "        CONCAT(T1.TeamName, ' vs ', T2.TeamName) AS Fixture,\n",
    "        T1.GroupName AS GroupName,\n",
    "        T1.TeamName as HomeTeam,\n",
    "        T2.TeamName as AwayTeam,\n",
    "        CAST(rand() * 6 AS INT) AS GoalsScored, \n",
    "        CAST(rand() * 6 AS INT) AS GoalsAllowed,\n",
    "        'None' as MatchResult,\n",
    "        'Group Stage' as MatchStage\n",
    "    FROM \n",
    "        TeamsGroups AS T1\n",
    "    CROSS JOIN \n",
    "        TeamsGroups AS T2 where T1.GroupName = T2.GroupName AND T1.TeamID < T2.TeamID;\n",
    "\n",
    "\n",
    "--Match result for the group stage\n",
    "UPDATE Matches\n",
    "SET MatchResult = \n",
    "    CASE\n",
    "        WHEN HOMETEAMGOALS > AWAYTEAMGOALS THEN HomeTeam\n",
    "        WHEN HOMETEAMGOALS < AWAYTEAMGOALS THEN AwayTeam\n",
    "        ELSE 'Draw'\n",
    "    END;\n",
    "\n",
    "--All the matches from group stage\n",
    "SELECT * FROM Matches;"
   ]
  },
  {
   "cell_type": "markdown",
   "metadata": {
    "application/vnd.databricks.v1+cell": {
     "cellMetadata": {
      "byteLimit": 2048000,
      "rowLimit": 10000
     },
     "inputWidgets": {},
     "nuid": "99cddc39-02cb-4dbb-aca6-5029655f9a25",
     "showTitle": false,
     "title": ""
    }
   },
   "source": [
    "## Table to store Match Statistic during group stages\n",
    "- This will store the satistic like W,L,D,GF,GA,GD,Points.\n",
    "- All the Statistic wil be calculated using Aggregation Function."
   ]
  },
  {
   "cell_type": "code",
   "execution_count": 0,
   "metadata": {
    "application/vnd.databricks.v1+cell": {
     "cellMetadata": {
      "byteLimit": 2048000,
      "implicitDf": true,
      "rowLimit": 10000
     },
     "inputWidgets": {},
     "nuid": "7d0f5e31-b4c4-416e-8bdd-80b6527b8427",
     "showTitle": false,
     "title": ""
    }
   },
   "outputs": [
    {
     "output_type": "display_data",
     "data": {
      "text/html": [
       "<style scoped>\n",
       "  .table-result-container {\n",
       "    max-height: 300px;\n",
       "    overflow: auto;\n",
       "  }\n",
       "  table, th, td {\n",
       "    border: 1px solid black;\n",
       "    border-collapse: collapse;\n",
       "  }\n",
       "  th, td {\n",
       "    padding: 5px;\n",
       "  }\n",
       "  th {\n",
       "    text-align: left;\n",
       "  }\n",
       "</style><div class='table-result-container'><table class='table-result'><thead style='background-color: white'><tr><th>TeamID</th><th>GroupName</th><th>MatchesPlayed</th><th>Wins</th><th>Draws</th><th>Losses</th><th>GoalsScored</th><th>GoalsAllowed</th><th>GoalDifference</th><th>Points</th></tr></thead><tbody><tr><td>Germany</td><td>A</td><td>3</td><td>2</td><td>0</td><td>1</td><td>10</td><td>10</td><td>0</td><td>6</td></tr><tr><td>Scotland</td><td>A</td><td>3</td><td>1</td><td>0</td><td>2</td><td>7</td><td>4</td><td>3</td><td>3</td></tr><tr><td>Hungary</td><td>A</td><td>3</td><td>2</td><td>0</td><td>1</td><td>10</td><td>7</td><td>3</td><td>6</td></tr><tr><td>Switzerland</td><td>A</td><td>3</td><td>1</td><td>0</td><td>2</td><td>2</td><td>8</td><td>-6</td><td>3</td></tr><tr><td>Italy</td><td>B</td><td>3</td><td>2</td><td>0</td><td>1</td><td>10</td><td>11</td><td>-1</td><td>6</td></tr><tr><td>Croatia</td><td>B</td><td>3</td><td>1</td><td>0</td><td>2</td><td>8</td><td>7</td><td>1</td><td>3</td></tr><tr><td>Spain</td><td>B</td><td>3</td><td>2</td><td>0</td><td>1</td><td>7</td><td>6</td><td>1</td><td>6</td></tr><tr><td>Albania</td><td>B</td><td>3</td><td>1</td><td>0</td><td>2</td><td>9</td><td>10</td><td>-1</td><td>3</td></tr><tr><td>Serbia</td><td>C</td><td>3</td><td>1</td><td>1</td><td>1</td><td>8</td><td>5</td><td>3</td><td>4</td></tr><tr><td>Denmark</td><td>C</td><td>3</td><td>1</td><td>1</td><td>1</td><td>9</td><td>9</td><td>0</td><td>4</td></tr><tr><td>Slovenia</td><td>C</td><td>3</td><td>1</td><td>1</td><td>1</td><td>8</td><td>11</td><td>-3</td><td>4</td></tr><tr><td>England</td><td>C</td><td>3</td><td>1</td><td>1</td><td>1</td><td>8</td><td>8</td><td>0</td><td>4</td></tr><tr><td>France</td><td>D</td><td>3</td><td>2</td><td>0</td><td>1</td><td>8</td><td>4</td><td>4</td><td>6</td></tr><tr><td>Austria</td><td>D</td><td>3</td><td>1</td><td>0</td><td>2</td><td>8</td><td>10</td><td>-2</td><td>3</td></tr><tr><td>Netherlands</td><td>D</td><td>3</td><td>0</td><td>0</td><td>3</td><td>0</td><td>6</td><td>-6</td><td>0</td></tr><tr><td>Play-off Winner A</td><td>D</td><td>3</td><td>3</td><td>0</td><td>0</td><td>7</td><td>3</td><td>4</td><td>9</td></tr><tr><td>Slovakia</td><td>E</td><td>3</td><td>2</td><td>1</td><td>0</td><td>10</td><td>4</td><td>6</td><td>7</td></tr><tr><td>Belgium</td><td>E</td><td>3</td><td>2</td><td>0</td><td>1</td><td>8</td><td>10</td><td>-2</td><td>6</td></tr><tr><td>Romania</td><td>E</td><td>3</td><td>1</td><td>1</td><td>1</td><td>4</td><td>4</td><td>0</td><td>4</td></tr><tr><td>Play-off Winner B</td><td>E</td><td>3</td><td>0</td><td>0</td><td>3</td><td>6</td><td>10</td><td>-4</td><td>0</td></tr><tr><td>Play-off Winner C</td><td>F</td><td>3</td><td>1</td><td>0</td><td>2</td><td>8</td><td>5</td><td>3</td><td>3</td></tr><tr><td>Portugal</td><td>F</td><td>3</td><td>2</td><td>0</td><td>1</td><td>8</td><td>8</td><td>0</td><td>6</td></tr><tr><td>Turkey</td><td>F</td><td>3</td><td>2</td><td>0</td><td>1</td><td>5</td><td>3</td><td>2</td><td>6</td></tr><tr><td>Czech Republic</td><td>F</td><td>3</td><td>1</td><td>0</td><td>2</td><td>5</td><td>10</td><td>-5</td><td>3</td></tr></tbody></table></div>"
      ]
     },
     "metadata": {
      "application/vnd.databricks.v1+output": {
       "addedWidgets": {},
       "aggData": [],
       "aggError": "",
       "aggOverflow": false,
       "aggSchema": [],
       "aggSeriesLimitReached": false,
       "aggType": "",
       "arguments": {},
       "columnCustomDisplayInfos": {},
       "data": [
        [
         "Germany",
         "A",
         3,
         2,
         0,
         1,
         10,
         10,
         0,
         6
        ],
        [
         "Scotland",
         "A",
         3,
         1,
         0,
         2,
         7,
         4,
         3,
         3
        ],
        [
         "Hungary",
         "A",
         3,
         2,
         0,
         1,
         10,
         7,
         3,
         6
        ],
        [
         "Switzerland",
         "A",
         3,
         1,
         0,
         2,
         2,
         8,
         -6,
         3
        ],
        [
         "Italy",
         "B",
         3,
         2,
         0,
         1,
         10,
         11,
         -1,
         6
        ],
        [
         "Croatia",
         "B",
         3,
         1,
         0,
         2,
         8,
         7,
         1,
         3
        ],
        [
         "Spain",
         "B",
         3,
         2,
         0,
         1,
         7,
         6,
         1,
         6
        ],
        [
         "Albania",
         "B",
         3,
         1,
         0,
         2,
         9,
         10,
         -1,
         3
        ],
        [
         "Serbia",
         "C",
         3,
         1,
         1,
         1,
         8,
         5,
         3,
         4
        ],
        [
         "Denmark",
         "C",
         3,
         1,
         1,
         1,
         9,
         9,
         0,
         4
        ],
        [
         "Slovenia",
         "C",
         3,
         1,
         1,
         1,
         8,
         11,
         -3,
         4
        ],
        [
         "England",
         "C",
         3,
         1,
         1,
         1,
         8,
         8,
         0,
         4
        ],
        [
         "France",
         "D",
         3,
         2,
         0,
         1,
         8,
         4,
         4,
         6
        ],
        [
         "Austria",
         "D",
         3,
         1,
         0,
         2,
         8,
         10,
         -2,
         3
        ],
        [
         "Netherlands",
         "D",
         3,
         0,
         0,
         3,
         0,
         6,
         -6,
         0
        ],
        [
         "Play-off Winner A",
         "D",
         3,
         3,
         0,
         0,
         7,
         3,
         4,
         9
        ],
        [
         "Slovakia",
         "E",
         3,
         2,
         1,
         0,
         10,
         4,
         6,
         7
        ],
        [
         "Belgium",
         "E",
         3,
         2,
         0,
         1,
         8,
         10,
         -2,
         6
        ],
        [
         "Romania",
         "E",
         3,
         1,
         1,
         1,
         4,
         4,
         0,
         4
        ],
        [
         "Play-off Winner B",
         "E",
         3,
         0,
         0,
         3,
         6,
         10,
         -4,
         0
        ],
        [
         "Play-off Winner C",
         "F",
         3,
         1,
         0,
         2,
         8,
         5,
         3,
         3
        ],
        [
         "Portugal",
         "F",
         3,
         2,
         0,
         1,
         8,
         8,
         0,
         6
        ],
        [
         "Turkey",
         "F",
         3,
         2,
         0,
         1,
         5,
         3,
         2,
         6
        ],
        [
         "Czech Republic",
         "F",
         3,
         1,
         0,
         2,
         5,
         10,
         -5,
         3
        ]
       ],
       "datasetInfos": [],
       "dbfsResultPath": null,
       "isJsonSchema": true,
       "metadata": {},
       "overflow": false,
       "plotOptions": {
        "customPlotOptions": {},
        "displayType": "table",
        "pivotAggregation": null,
        "pivotColumns": null,
        "xColumns": null,
        "yColumns": null
       },
       "removedWidgets": [],
       "schema": [
        {
         "metadata": "{\"__CHAR_VARCHAR_TYPE_STRING\":\"varchar(20)\"}",
         "name": "TeamID",
         "type": "\"string\""
        },
        {
         "metadata": "{\"__CHAR_VARCHAR_TYPE_STRING\":\"varchar(1)\"}",
         "name": "GroupName",
         "type": "\"string\""
        },
        {
         "metadata": "{}",
         "name": "MatchesPlayed",
         "type": "\"long\""
        },
        {
         "metadata": "{}",
         "name": "Wins",
         "type": "\"long\""
        },
        {
         "metadata": "{}",
         "name": "Draws",
         "type": "\"long\""
        },
        {
         "metadata": "{}",
         "name": "Losses",
         "type": "\"long\""
        },
        {
         "metadata": "{}",
         "name": "GoalsScored",
         "type": "\"long\""
        },
        {
         "metadata": "{}",
         "name": "GoalsAllowed",
         "type": "\"long\""
        },
        {
         "metadata": "{}",
         "name": "GoalDifference",
         "type": "\"long\""
        },
        {
         "metadata": "{}",
         "name": "Points",
         "type": "\"long\""
        }
       ],
       "type": "table"
      }
     },
     "output_type": "display_data"
    }
   ],
   "source": [
    "%sql\n",
    "--Match Statistics like win,loss,draw etc from the group stage matches\n",
    "create or replace table MatchStats as \n",
    "    SELECT\n",
    "        TeamID,\n",
    "        GroupName,\n",
    "         COUNT(*) AS MatchesPlayed,\n",
    "        SUM(CASE \n",
    "            WHEN GoalsScored > GoalsAllowed THEN 1 \n",
    "            ELSE 0 \n",
    "        END) AS Wins,\n",
    "        SUM(CASE \n",
    "            WHEN GoalsScored = GoalsAllowed THEN 1 \n",
    "            ELSE 0 \n",
    "        END) AS Draws,\n",
    "        SUM(CASE \n",
    "            WHEN GoalsScored < GoalsAllowed THEN 1 \n",
    "            ELSE 0 \n",
    "        END) AS Losses,\n",
    "        SUM(GoalsScored) AS GoalsScored,\n",
    "        SUM(GoalsAllowed) AS GoalsAllowed,\n",
    "        SUM(GoalsScored) - SUM(GoalsAllowed) AS GoalDifference,\n",
    "        SUM(CASE\n",
    "                WHEN GoalsScored > GoalsAllowed THEN 3  \n",
    "                WHEN GoalsScored = GoalsAllowed THEN 1 \n",
    "                ELSE 0                                \n",
    "            END) AS Points\n",
    "    FROM\n",
    "        (SELECT\n",
    "            GroupName,\n",
    "            HomeTeam AS TeamID,\n",
    "            HOMETEAMGOALS AS GoalsScored,\n",
    "            AWAYTEAMGOALS AS GoalsAllowed\n",
    "        FROM\n",
    "            MATCHES\n",
    "    \n",
    "        UNION ALL\n",
    "    \n",
    "        SELECT\n",
    "            GroupName,\n",
    "            AwayTeam AS TeamID,\n",
    "            AWAYTEAMGOALS AS GoalsScored,\n",
    "            HOMETEAMGOALS AS GoalsAllowed\n",
    "        FROM\n",
    "            Matches) AS GroupMatches\n",
    "    GROUP BY\n",
    "        TeamID,groupname\n",
    "        Order by groupname;\n",
    "\n",
    "SELECT * FROM MatchStats;"
   ]
  },
  {
   "cell_type": "markdown",
   "metadata": {
    "application/vnd.databricks.v1+cell": {
     "cellMetadata": {
      "byteLimit": 2048000,
      "rowLimit": 10000
     },
     "inputWidgets": {},
     "nuid": "dfce16c8-2b9e-4fc1-942b-41f4ee44b997",
     "showTitle": false,
     "title": ""
    }
   },
   "source": [
    "## Table to store all the qualifiying teams from each group\n",
    "- This table will store the top 2 teams from each table.\n",
    "- Next 4 teams wil be selected from third rank team from each group based on peformance.\n",
    "- Points,GD,GA,W will be the peformance criteria."
   ]
  },
  {
   "cell_type": "code",
   "execution_count": 0,
   "metadata": {
    "application/vnd.databricks.v1+cell": {
     "cellMetadata": {
      "byteLimit": 2048000,
      "implicitDf": true,
      "rowLimit": 10000
     },
     "inputWidgets": {},
     "nuid": "4b1823e8-a9bf-4cb2-8f65-53f93e024fff",
     "showTitle": false,
     "title": ""
    }
   },
   "outputs": [
    {
     "output_type": "display_data",
     "data": {
      "text/html": [
       "<style scoped>\n",
       "  .table-result-container {\n",
       "    max-height: 300px;\n",
       "    overflow: auto;\n",
       "  }\n",
       "  table, th, td {\n",
       "    border: 1px solid black;\n",
       "    border-collapse: collapse;\n",
       "  }\n",
       "  th, td {\n",
       "    padding: 5px;\n",
       "  }\n",
       "  th {\n",
       "    text-align: left;\n",
       "  }\n",
       "</style><div class='table-result-container'><table class='table-result'><thead style='background-color: white'><tr><th>num_affected_rows</th><th>num_inserted_rows</th></tr></thead><tbody></tbody></table></div>"
      ]
     },
     "metadata": {
      "application/vnd.databricks.v1+output": {
       "addedWidgets": {},
       "aggData": [],
       "aggError": "",
       "aggOverflow": false,
       "aggSchema": [],
       "aggSeriesLimitReached": false,
       "aggType": "",
       "arguments": {},
       "columnCustomDisplayInfos": {},
       "data": [],
       "datasetInfos": [],
       "dbfsResultPath": null,
       "isJsonSchema": true,
       "metadata": {},
       "overflow": false,
       "plotOptions": {
        "customPlotOptions": {},
        "displayType": "table",
        "pivotAggregation": null,
        "pivotColumns": null,
        "xColumns": null,
        "yColumns": null
       },
       "removedWidgets": [],
       "schema": [
        {
         "metadata": "{}",
         "name": "num_affected_rows",
         "type": "\"long\""
        },
        {
         "metadata": "{}",
         "name": "num_inserted_rows",
         "type": "\"long\""
        }
       ],
       "type": "table"
      }
     },
     "output_type": "display_data"
    }
   ],
   "source": [
    "%sql\n",
    "-- Retrive top 2 teams from each groups\n",
    "create or replace table round_of_16 as \n",
    "SELECT *\n",
    "FROM (\n",
    "    SELECT \n",
    "        TeamId,\n",
    "        GroupName,\n",
    "        points,\n",
    "        goaldifference,\n",
    "        ROW_NUMBER() OVER (PARTITION BY GroupName ORDER BY points DESC, goaldifference DESC,goalsScored desc,wins desc) AS rnk \n",
    "    FROM \n",
    "        matchStats \n",
    ") AS Top2Teams\n",
    "WHERE \n",
    "    rnk <= 2;"
   ]
  },
  {
   "cell_type": "code",
   "execution_count": 0,
   "metadata": {
    "application/vnd.databricks.v1+cell": {
     "cellMetadata": {
      "byteLimit": 2048000,
      "implicitDf": true,
      "rowLimit": 10000
     },
     "inputWidgets": {},
     "nuid": "b1bad3be-e3a7-4a80-a4c9-a01596ef4020",
     "showTitle": false,
     "title": ""
    }
   },
   "outputs": [
    {
     "output_type": "display_data",
     "data": {
      "text/html": [
       "<style scoped>\n",
       "  .table-result-container {\n",
       "    max-height: 300px;\n",
       "    overflow: auto;\n",
       "  }\n",
       "  table, th, td {\n",
       "    border: 1px solid black;\n",
       "    border-collapse: collapse;\n",
       "  }\n",
       "  th, td {\n",
       "    padding: 5px;\n",
       "  }\n",
       "  th {\n",
       "    text-align: left;\n",
       "  }\n",
       "</style><div class='table-result-container'><table class='table-result'><thead style='background-color: white'><tr><th>TeamId</th><th>GroupName</th><th>points</th><th>goaldifference</th><th>rnk</th></tr></thead><tbody><tr><td>Hungary</td><td>A</td><td>6</td><td>3</td><td>1</td></tr><tr><td>Scotland</td><td>A</td><td>3</td><td>3</td><td>3</td></tr><tr><td>Germany</td><td>A</td><td>6</td><td>0</td><td>2</td></tr><tr><td>Croatia</td><td>B</td><td>3</td><td>1</td><td>3</td></tr><tr><td>Spain</td><td>B</td><td>6</td><td>1</td><td>1</td></tr><tr><td>Italy</td><td>B</td><td>6</td><td>-1</td><td>2</td></tr><tr><td>England</td><td>C</td><td>4</td><td>0</td><td>3</td></tr><tr><td>Serbia</td><td>C</td><td>4</td><td>3</td><td>1</td></tr><tr><td>Denmark</td><td>C</td><td>4</td><td>0</td><td>2</td></tr><tr><td>Austria</td><td>D</td><td>3</td><td>-2</td><td>3</td></tr><tr><td>Play-off Winner A</td><td>D</td><td>9</td><td>4</td><td>1</td></tr><tr><td>France</td><td>D</td><td>6</td><td>4</td><td>2</td></tr><tr><td>Slovakia</td><td>E</td><td>7</td><td>6</td><td>1</td></tr><tr><td>Belgium</td><td>E</td><td>6</td><td>-2</td><td>2</td></tr><tr><td>Turkey</td><td>F</td><td>6</td><td>2</td><td>1</td></tr><tr><td>Portugal</td><td>F</td><td>6</td><td>0</td><td>2</td></tr></tbody></table></div>"
      ]
     },
     "metadata": {
      "application/vnd.databricks.v1+output": {
       "addedWidgets": {},
       "aggData": [],
       "aggError": "",
       "aggOverflow": false,
       "aggSchema": [],
       "aggSeriesLimitReached": false,
       "aggType": "",
       "arguments": {},
       "columnCustomDisplayInfos": {},
       "data": [
        [
         "Hungary",
         "A",
         6,
         3,
         1
        ],
        [
         "Scotland",
         "A",
         3,
         3,
         3
        ],
        [
         "Germany",
         "A",
         6,
         0,
         2
        ],
        [
         "Croatia",
         "B",
         3,
         1,
         3
        ],
        [
         "Spain",
         "B",
         6,
         1,
         1
        ],
        [
         "Italy",
         "B",
         6,
         -1,
         2
        ],
        [
         "England",
         "C",
         4,
         0,
         3
        ],
        [
         "Serbia",
         "C",
         4,
         3,
         1
        ],
        [
         "Denmark",
         "C",
         4,
         0,
         2
        ],
        [
         "Austria",
         "D",
         3,
         -2,
         3
        ],
        [
         "Play-off Winner A",
         "D",
         9,
         4,
         1
        ],
        [
         "France",
         "D",
         6,
         4,
         2
        ],
        [
         "Slovakia",
         "E",
         7,
         6,
         1
        ],
        [
         "Belgium",
         "E",
         6,
         -2,
         2
        ],
        [
         "Turkey",
         "F",
         6,
         2,
         1
        ],
        [
         "Portugal",
         "F",
         6,
         0,
         2
        ]
       ],
       "datasetInfos": [],
       "dbfsResultPath": null,
       "isJsonSchema": true,
       "metadata": {},
       "overflow": false,
       "plotOptions": {
        "customPlotOptions": {},
        "displayType": "table",
        "pivotAggregation": null,
        "pivotColumns": null,
        "xColumns": null,
        "yColumns": null
       },
       "removedWidgets": [],
       "schema": [
        {
         "metadata": "{\"__CHAR_VARCHAR_TYPE_STRING\":\"varchar(20)\"}",
         "name": "TeamId",
         "type": "\"string\""
        },
        {
         "metadata": "{\"__CHAR_VARCHAR_TYPE_STRING\":\"varchar(1)\"}",
         "name": "GroupName",
         "type": "\"string\""
        },
        {
         "metadata": "{}",
         "name": "points",
         "type": "\"long\""
        },
        {
         "metadata": "{}",
         "name": "goaldifference",
         "type": "\"long\""
        },
        {
         "metadata": "{}",
         "name": "rnk",
         "type": "\"integer\""
        }
       ],
       "type": "table"
      }
     },
     "output_type": "display_data"
    }
   ],
   "source": [
    "%sql\n",
    "--Best four teams from each group which are ranked third\n",
    "insert into round_of_16\n",
    "SELECT *\n",
    "FROM (\n",
    "    SELECT \n",
    "        TeamId,\n",
    "        GroupName,\n",
    "        points,\n",
    "        goaldifference,\n",
    "        ROW_NUMBER() OVER (PARTITION BY GroupName ORDER BY points DESC, goaldifference desc,goalsScored desc,wins desc) AS rnk \n",
    "    FROM \n",
    "        matchStats \n",
    ") AS Top2Teams\n",
    "WHERE \n",
    "    rnk = 3 LIMIT 4;\n",
    "\n",
    "-- 16 teams for the knockout stages\n",
    "SELECT * from round_of_16 order by GroupName;"
   ]
  },
  {
   "cell_type": "markdown",
   "metadata": {
    "application/vnd.databricks.v1+cell": {
     "cellMetadata": {
      "byteLimit": 2048000,
      "rowLimit": 10000
     },
     "inputWidgets": {},
     "nuid": "9b326df1-0051-4216-b689-d02efa9016e6",
     "showTitle": false,
     "title": ""
    }
   },
   "source": [
    "## Round of 16 matches \n",
    "- These matches will be played on the basis of the 15 different combination.\n",
    "- We will be looking at the combination table to match our group combination.\n",
    "\n",
    "- **Match 37:** Winner of Group A Vs. Runner-up Group C\n",
    "- **Match 38:** Runner-up Group A Vs. Runner-up Group B\n",
    "- **Match 39:** Winner of Group B Vs. 3rd Group A/D/E/F  \t\n",
    "- **Match 40:** Winner of Group C Vs. 3rd Group D/E/F \n",
    "- **Match 41:** Winner of Group F vs. 3rd Group A/B/C\n",
    "- **Match 42:** Runner-up Group D vs. Runner-up Group E\n",
    "- **Match 43:** Winner of Group E vs. 3rd Group A/B/C/D\n",
    "- **Match 44:** Winner of Group D vs. Runner-up Group F\n"
   ]
  },
  {
   "cell_type": "code",
   "execution_count": 0,
   "metadata": {
    "application/vnd.databricks.v1+cell": {
     "cellMetadata": {
      "byteLimit": 2048000,
      "implicitDf": true,
      "rowLimit": 10000
     },
     "inputWidgets": {},
     "nuid": "9db3bc66-8751-4c8b-b7ea-5aef578727fa",
     "showTitle": false,
     "title": ""
    }
   },
   "outputs": [
    {
     "output_type": "display_data",
     "data": {
      "text/html": [
       "<style scoped>\n",
       "  .table-result-container {\n",
       "    max-height: 300px;\n",
       "    overflow: auto;\n",
       "  }\n",
       "  table, th, td {\n",
       "    border: 1px solid black;\n",
       "    border-collapse: collapse;\n",
       "  }\n",
       "  th, td {\n",
       "    padding: 5px;\n",
       "  }\n",
       "  th {\n",
       "    text-align: left;\n",
       "  }\n",
       "</style><div class='table-result-container'><table class='table-result'><thead style='background-color: white'><tr><th>num_affected_rows</th><th>num_inserted_rows</th></tr></thead><tbody><tr><td>8</td><td>8</td></tr></tbody></table></div>"
      ]
     },
     "metadata": {
      "application/vnd.databricks.v1+output": {
       "addedWidgets": {},
       "aggData": [],
       "aggError": "",
       "aggOverflow": false,
       "aggSchema": [],
       "aggSeriesLimitReached": false,
       "aggType": "",
       "arguments": {},
       "columnCustomDisplayInfos": {},
       "data": [
        [
         8,
         8
        ]
       ],
       "datasetInfos": [],
       "dbfsResultPath": null,
       "isJsonSchema": true,
       "metadata": {},
       "overflow": false,
       "plotOptions": {
        "customPlotOptions": {},
        "displayType": "table",
        "pivotAggregation": null,
        "pivotColumns": null,
        "xColumns": null,
        "yColumns": null
       },
       "removedWidgets": [],
       "schema": [
        {
         "metadata": "{}",
         "name": "num_affected_rows",
         "type": "\"long\""
        },
        {
         "metadata": "{}",
         "name": "num_inserted_rows",
         "type": "\"long\""
        }
       ],
       "type": "table"
      }
     },
     "output_type": "display_data"
    }
   ],
   "source": [
    "%sql\n",
    "INSERT INTO matches (MatchId, fixture, GroupName,HomeTeam,AwayTeam, HomeTeamGoals, AwayTeamGoals, MatchResult, MatchStage)\n",
    "WITH Combination AS (\n",
    "    SELECT CONCAT_WS('', sort_array(Collect_list(GroupName))) AS GroupCombination\n",
    "    FROM round_of_16\n",
    "    WHERE rnk = 3 \n",
    "),\n",
    "keys AS (\n",
    "    SELECT * FROM thirdplacecombination\n",
    "    WHERE selectedgroups = (SELECT GroupCombination FROM Combination)\n",
    ")\n",
    "SELECT \n",
    "    37 AS MatchId,\n",
    "    CONCAT(r1.teamid, ' Vs. ', r2.teamid) AS fixture,\n",
    "    'N' AS GroupName,\n",
    "    r1.TEAMID AS HomeTeam,\n",
    "    r2.TEAMID AS AwayTeam,\n",
    "    CAST(rand() * 6 AS INT) AS GoalsScored, \n",
    "    CAST(rand() * 6 AS INT) AS GoalsAllowed,\n",
    "    'None' AS MatchResult,\n",
    "    'R16' AS MatchStage\n",
    "FROM \n",
    "    round_of_16 r1\n",
    "JOIN \n",
    "  round_of_16 r2 ON r1.groupname = 'A' AND r1.rnk = 1 AND r2.groupname = 'C' AND r2.rnk = 2\n",
    "    \n",
    "\n",
    "UNION ALL\n",
    "\n",
    "SELECT \n",
    "    38 AS MatchId,\n",
    "    CONCAT(r1.teamid, ' Vs. ', r2.teamid) AS fixture,\n",
    "    'N' AS GroupName,\n",
    "    r1.TEAMID AS HomeTeam,\n",
    "    r2.TEAMID AS AwayTeam,\n",
    "    CAST(rand() * 6 AS INT) AS GoalsScored, \n",
    "    CAST(rand() * 6 AS INT) AS GoalsAllowed,\n",
    "    'None' AS MatchResult,\n",
    "    'R16' AS MatchStage\n",
    "FROM \n",
    "    round_of_16 r1\n",
    "JOIN \n",
    "  round_of_16 r2 ON r1.groupname = 'A' AND r1.rnk = 2 AND r2.groupname = 'B' AND r2.rnk = 2\n",
    "\n",
    "\n",
    "UNION ALL\n",
    "\n",
    "SELECT \n",
    "    39 AS MatchId,\n",
    "    CONCAT(r1.teamid, ' Vs. ', r2.teamid) AS fixture,\n",
    "    'N' AS GroupName,\n",
    "    r1.TEAMID AS HomeTeam,\n",
    "    r2.TEAMID AS AwayTeam,\n",
    "    CAST(rand() * 6 AS INT) AS GoalsScored, \n",
    "    CAST(rand() * 6 AS INT) AS GoalsAllowed,\n",
    "    'None' AS MatchResult,\n",
    "    'R16' AS MatchStage\n",
    "FROM \n",
    "    round_of_16 r1\n",
    "JOIN \n",
    "  round_of_16 r2 ON r1.groupname = 'B' AND r1.rnk = 1 AND r2.groupname = (SELECT Team1B FROM keys) AND r2.rnk = 3\n",
    "  \n",
    "\n",
    "UNION ALL\n",
    "\n",
    "SELECT \n",
    "    40 AS MatchId,\n",
    "    CONCAT(r1.teamid, ' Vs. ', r2.teamid) AS fixture,\n",
    "    'N' AS GroupName,\n",
    "    r1.TEAMID AS HomeTeam,\n",
    "    r2.TEAMID AS AwayTeam,\n",
    "    CAST(rand() * 6 AS INT) AS GoalsScored, \n",
    "    CAST(rand() * 6 AS INT) AS GoalsAllowed,\n",
    "    'None' AS MatchResult,\n",
    "    'R16' AS MatchStage\n",
    "FROM \n",
    "    round_of_16 r1\n",
    "JOIN \n",
    "   round_of_16 r2 ON r1.groupname = 'C' AND r1.rnk = 1 AND r2.groupname = (select Team1C from keys) AND r2.rnk = 3\n",
    "    \n",
    "\n",
    "UNION ALL\n",
    "\n",
    "SELECT \n",
    "    41 AS MatchId,\n",
    "    CONCAT(r1.teamid, ' Vs. ', r2.teamid) AS fixture,\n",
    "    'N' AS GroupName,\n",
    "    r1.TEAMID AS HomeTeam,\n",
    "    r2.TEAMID AS AwayTeam,\n",
    "    CAST(rand() * 6 AS INT) AS GoalsScored, \n",
    "    CAST(rand() * 6 AS INT) AS GoalsAllowed,\n",
    "    'None' AS MatchResult,\n",
    "    'R16' AS MatchStage\n",
    "FROM \n",
    "    round_of_16 r1\n",
    "JOIN \n",
    "  round_of_16 r2 ON r1.groupname = 'F' AND r1.rnk = 1 AND r2.groupname = (select Team1F from keys) AND r2.rnk = 3\n",
    "    \n",
    "\n",
    "UNION ALL\n",
    "\n",
    "SELECT \n",
    "    42 AS MatchId,\n",
    "    CONCAT(r1.teamid, ' Vs. ', r2.teamid) AS fixture,\n",
    "    'N' AS GroupName,\n",
    "    r1.TEAMID AS HomeTeam,\n",
    "    r2.TEAMID AS AwayTeam,\n",
    "    CAST(rand() * 6 AS INT) AS GoalsScored, \n",
    "    CAST(rand() * 6 AS INT) AS GoalsAllowed,\n",
    "    'None' AS MatchResult,\n",
    "    'R16' AS MatchStage\n",
    "FROM \n",
    "    round_of_16 r1\n",
    "JOIN \n",
    "  round_of_16 r2 ON r1.groupname = 'D' AND r1.rnk = 2 AND r2.groupname = 'E' AND r2.rnk = 2\n",
    "\n",
    "UNION ALL\n",
    "\n",
    "SELECT \n",
    "    43 AS MatchId,\n",
    "    CONCAT(r1.teamid, ' Vs. ', r2.teamid) AS fixture,\n",
    "    'N' AS GroupName,\n",
    "    r1.TEAMID AS HomeTeam,\n",
    "    r2.TEAMID AS AwayTeam,\n",
    "    CAST(rand() * 6 AS INT) AS GoalsScored, \n",
    "    CAST(rand() * 6 AS INT) AS GoalsAllowed,\n",
    "    'None' AS MatchResult,\n",
    "    'R16' AS MatchStage\n",
    "FROM \n",
    "    round_of_16 r1\n",
    "JOIN \n",
    "  round_of_16 r2 ON r1.groupname = 'E' AND r1.rnk = 1 AND r2.groupname = (select Team1E from keys) AND r2.rnk = 3\n",
    "\n",
    "UNION ALL\n",
    "\n",
    "SELECT \n",
    "    44 AS MatchId,\n",
    "    CONCAT(r1.teamid, ' Vs. ', r2.teamid) AS fixture,\n",
    "    'N' AS GroupName,\n",
    "    r1.TEAMID AS HomeTeam,\n",
    "    r2.TEAMID AS AwayTeam,\n",
    "    CAST(rand() * 6 AS INT) AS GoalsScored, \n",
    "    CAST(rand() * 6 AS INT) AS GoalsAllowed,\n",
    "    'None' AS MatchResult,\n",
    "    'R16' AS MatchStage\n",
    "FROM \n",
    "    round_of_16 r1\n",
    "JOIN \n",
    "    round_of_16 r2 ON r1.groupname = 'D' AND r1.rnk = 2 AND r2.groupname = 'F' AND r2.rnk = 2\n"
   ]
  },
  {
   "cell_type": "code",
   "execution_count": 0,
   "metadata": {
    "application/vnd.databricks.v1+cell": {
     "cellMetadata": {
      "byteLimit": 2048000,
      "implicitDf": true,
      "rowLimit": 10000
     },
     "inputWidgets": {},
     "nuid": "f259f1de-2bf4-43f5-88e6-4e85953bec2b",
     "showTitle": false,
     "title": ""
    }
   },
   "outputs": [
    {
     "output_type": "display_data",
     "data": {
      "text/html": [
       "<style scoped>\n",
       "  .table-result-container {\n",
       "    max-height: 300px;\n",
       "    overflow: auto;\n",
       "  }\n",
       "  table, th, td {\n",
       "    border: 1px solid black;\n",
       "    border-collapse: collapse;\n",
       "  }\n",
       "  th, td {\n",
       "    padding: 5px;\n",
       "  }\n",
       "  th {\n",
       "    text-align: left;\n",
       "  }\n",
       "</style><div class='table-result-container'><table class='table-result'><thead style='background-color: white'><tr><th>num_affected_rows</th></tr></thead><tbody><tr><td>8</td></tr></tbody></table></div>"
      ]
     },
     "metadata": {
      "application/vnd.databricks.v1+output": {
       "addedWidgets": {},
       "aggData": [],
       "aggError": "",
       "aggOverflow": false,
       "aggSchema": [],
       "aggSeriesLimitReached": false,
       "aggType": "",
       "arguments": {},
       "columnCustomDisplayInfos": {},
       "data": [
        [
         8
        ]
       ],
       "datasetInfos": [],
       "dbfsResultPath": null,
       "isJsonSchema": true,
       "metadata": {},
       "overflow": false,
       "plotOptions": {
        "customPlotOptions": {},
        "displayType": "table",
        "pivotAggregation": null,
        "pivotColumns": null,
        "xColumns": null,
        "yColumns": null
       },
       "removedWidgets": [],
       "schema": [
        {
         "metadata": "{}",
         "name": "num_affected_rows",
         "type": "\"long\""
        }
       ],
       "type": "table"
      }
     },
     "output_type": "display_data"
    }
   ],
   "source": [
    "%sql\n",
    "-- UPDATE THE MATCH RESULT FOR THE R16\n",
    "UPDATE Matches\n",
    "SET MatchResult = \n",
    "    CASE\n",
    "        WHEN HOMETEAMGOALS > AWAYTEAMGOALS THEN HomeTeam\n",
    "        WHEN HOMETEAMGOALS < AWAYTEAMGOALS THEN AwayTeam\n",
    "         ELSE \n",
    "            CASE \n",
    "                WHEN (HomeTeamGoals + 1) % 2 = 1 THEN HomeTeam\n",
    "                ELSE AwayTeam\n",
    "            END\n",
    "    END\n",
    "  WHERE MatchStage = \"R16\";\n"
   ]
  },
  {
   "cell_type": "markdown",
   "metadata": {
    "application/vnd.databricks.v1+cell": {
     "cellMetadata": {
      "byteLimit": 2048000,
      "rowLimit": 10000
     },
     "inputWidgets": {},
     "nuid": "e03a9f97-8229-436e-b6a2-b8b52c6a02a2",
     "showTitle": false,
     "title": ""
    }
   },
   "source": [
    "## Matches for the Quater-Final Round \n",
    "- **Match 45:** Winner Match 39 vs. Winner Match 37\n",
    "- **Match 46:** Winner Match 41 vs. Winner Match 42\n",
    "- **Match 47:** Winner Match 43 vs. Winner match 44\n",
    "- **Match 48:** Winner Match 40 vs. Winner Match 38"
   ]
  },
  {
   "cell_type": "code",
   "execution_count": 0,
   "metadata": {
    "application/vnd.databricks.v1+cell": {
     "cellMetadata": {
      "byteLimit": 2048000,
      "implicitDf": true,
      "rowLimit": 10000
     },
     "inputWidgets": {},
     "nuid": "709e30e2-6152-4427-93bc-92e89e924134",
     "showTitle": false,
     "title": ""
    }
   },
   "outputs": [
    {
     "output_type": "display_data",
     "data": {
      "text/html": [
       "<style scoped>\n",
       "  .table-result-container {\n",
       "    max-height: 300px;\n",
       "    overflow: auto;\n",
       "  }\n",
       "  table, th, td {\n",
       "    border: 1px solid black;\n",
       "    border-collapse: collapse;\n",
       "  }\n",
       "  th, td {\n",
       "    padding: 5px;\n",
       "  }\n",
       "  th {\n",
       "    text-align: left;\n",
       "  }\n",
       "</style><div class='table-result-container'><table class='table-result'><thead style='background-color: white'><tr><th>num_affected_rows</th></tr></thead><tbody><tr><td>4</td></tr></tbody></table></div>"
      ]
     },
     "metadata": {
      "application/vnd.databricks.v1+output": {
       "addedWidgets": {},
       "aggData": [],
       "aggError": "",
       "aggOverflow": false,
       "aggSchema": [],
       "aggSeriesLimitReached": false,
       "aggType": "",
       "arguments": {},
       "columnCustomDisplayInfos": {},
       "data": [
        [
         4
        ]
       ],
       "datasetInfos": [],
       "dbfsResultPath": null,
       "isJsonSchema": true,
       "metadata": {},
       "overflow": false,
       "plotOptions": {
        "customPlotOptions": {},
        "displayType": "table",
        "pivotAggregation": null,
        "pivotColumns": null,
        "xColumns": null,
        "yColumns": null
       },
       "removedWidgets": [],
       "schema": [
        {
         "metadata": "{}",
         "name": "num_affected_rows",
         "type": "\"long\""
        }
       ],
       "type": "table"
      }
     },
     "output_type": "display_data"
    }
   ],
   "source": [
    "%sql\n",
    "INSERT INTO matches (MatchId, fixture,GroupName, HomeTeam, AwayTeam, HomeTeamGoals, AwayTeamGoals, MatchResult, MatchStage)\n",
    "SELECT \n",
    "    45 AS MatchId,\n",
    "    CONCAT(QF1.MATCHRESULT, ' Vs. ', QF2.MATCHRESULT) AS fixture,\n",
    "    'N' as GroupName,\n",
    "    QF1.MATCHRESULT AS HomeTeam,\n",
    "    QF2.MATCHRESULT AS AwayTeam,\n",
    "    CAST(rand() * 6 AS INT) AS GoalsScored, \n",
    "    CAST(rand() * 6 AS INT) AS GoalsAllowed,\n",
    "    'None' AS MatchResult,\n",
    "    'Quarter-Final' AS MatchStage\n",
    "FROM \n",
    "    matches QF1\n",
    "JOIN \n",
    "    matches QF2 ON \n",
    "        QF1.MATCHID = 39 AND QF2.MatchId = 37\n",
    "\n",
    "UNION ALL\n",
    "\n",
    "SELECT \n",
    "    46 AS MatchId,\n",
    "    CONCAT(QF1.MATCHRESULT, ' Vs. ', QF2.MATCHRESULT) AS fixture,\n",
    "    'N' as GroupName,\n",
    "    QF1.MATCHRESULT AS HomeTeam,\n",
    "    QF2.MATCHRESULT AS AwayTeam,\n",
    "    CAST(rand() * 6 AS INT) AS GoalsScored, \n",
    "    CAST(rand() * 6 AS INT) AS GoalsAllowed,\n",
    "    'None' AS MatchResult,\n",
    "    'Quarter-Final' AS MatchStage\n",
    "FROM \n",
    "    matches QF1\n",
    "JOIN \n",
    "    matches QF2 ON \n",
    "        QF1.MATCHID = 41 AND QF2.MatchId = 42\n",
    "\n",
    "UNION ALL\n",
    "\n",
    "SELECT \n",
    "    47 AS MatchId,\n",
    "    CONCAT(QF1.MATCHRESULT, ' Vs. ', QF2.MATCHRESULT) AS fixture,\n",
    "    'N' as GroupName,\n",
    "    QF1.MATCHRESULT AS HomeTeam,\n",
    "    QF2.MATCHRESULT AS AwayTeam,\n",
    "    CAST(rand() * 6 AS INT) AS GoalsScored, \n",
    "    CAST(rand() * 6 AS INT) AS GoalsAllowed,\n",
    "    'None' AS MatchResult,\n",
    "    'Quarter-Final' AS MatchStage\n",
    "FROM \n",
    "    matches QF1\n",
    "JOIN \n",
    "    matches QF2 ON \n",
    "        QF1.MATCHID = 43 AND QF2.MatchId = 44\n",
    "\n",
    "UNION ALL\n",
    "\n",
    "SELECT \n",
    "    48 AS MatchId,\n",
    "    CONCAT(QF1.MATCHRESULT, ' Vs. ', QF2.MATCHRESULT) AS fixture,\n",
    "    'N' as GroupName,\n",
    "    QF1.MATCHRESULT AS HomeTeam,\n",
    "    QF2.MATCHRESULT AS AwayTeam,\n",
    "    CAST(rand() * 6 AS INT) AS GoalsScored, \n",
    "    CAST(rand() * 6 AS INT) AS GoalsAllowed,\n",
    "    'None' AS MatchResult,\n",
    "    'Quarter-Final' AS MatchStage\n",
    "FROM \n",
    "    matches QF1\n",
    "JOIN \n",
    "    matches QF2 ON \n",
    "        QF1.MATCHID = 40 AND QF2.MatchId = 38;\n",
    "\n",
    "UPDATE Matches\n",
    "SET MatchResult = \n",
    "    CASE\n",
    "        WHEN HOMETEAMGOALS > AWAYTEAMGOALS THEN HomeTeam\n",
    "        WHEN HOMETEAMGOALS < AWAYTEAMGOALS THEN AwayTeam\n",
    "        ELSE \n",
    "        CASE \n",
    "                WHEN (HomeTeamGoals + 1) % 2 = 1 THEN HomeTeam\n",
    "                ELSE AwayTeam\n",
    "            END\n",
    "    END\n",
    "WHERE MatchStage = 'Quarter-Final';"
   ]
  },
  {
   "cell_type": "code",
   "execution_count": 0,
   "metadata": {
    "application/vnd.databricks.v1+cell": {
     "cellMetadata": {
      "byteLimit": 2048000,
      "implicitDf": true,
      "rowLimit": 10000
     },
     "inputWidgets": {},
     "nuid": "797623d0-14bc-4d28-8f0e-3b08872ffef2",
     "showTitle": false,
     "title": ""
    }
   },
   "outputs": [
    {
     "output_type": "display_data",
     "data": {
      "text/html": [
       "<style scoped>\n",
       "  .table-result-container {\n",
       "    max-height: 300px;\n",
       "    overflow: auto;\n",
       "  }\n",
       "  table, th, td {\n",
       "    border: 1px solid black;\n",
       "    border-collapse: collapse;\n",
       "  }\n",
       "  th, td {\n",
       "    padding: 5px;\n",
       "  }\n",
       "  th {\n",
       "    text-align: left;\n",
       "  }\n",
       "</style><div class='table-result-container'><table class='table-result'><thead style='background-color: white'><tr><th>MatchID</th><th>Fixture</th><th>GroupName</th><th>HomeTeam</th><th>AwayTeam</th><th>HomeTeamGoals</th><th>AwayTeamGoals</th><th>MatchResult</th><th>MatchStage</th></tr></thead><tbody><tr><td>1</td><td>Germany vs Switzerland</td><td>A</td><td>Germany</td><td>Switzerland</td><td>5</td><td>1</td><td>Germany</td><td>Group Stage</td></tr><tr><td>2</td><td>Germany vs Hungary</td><td>A</td><td>Germany</td><td>Hungary</td><td>5</td><td>4</td><td>Germany</td><td>Group Stage</td></tr><tr><td>3</td><td>Germany vs Scotland</td><td>A</td><td>Germany</td><td>Scotland</td><td>0</td><td>5</td><td>Scotland</td><td>Group Stage</td></tr><tr><td>4</td><td>Scotland vs Switzerland</td><td>A</td><td>Scotland</td><td>Switzerland</td><td>0</td><td>1</td><td>Switzerland</td><td>Group Stage</td></tr><tr><td>5</td><td>Scotland vs Hungary</td><td>A</td><td>Scotland</td><td>Hungary</td><td>2</td><td>3</td><td>Hungary</td><td>Group Stage</td></tr><tr><td>6</td><td>Hungary vs Switzerland</td><td>A</td><td>Hungary</td><td>Switzerland</td><td>3</td><td>0</td><td>Hungary</td><td>Group Stage</td></tr><tr><td>7</td><td>Spain vs Albania</td><td>B</td><td>Spain</td><td>Albania</td><td>4</td><td>3</td><td>Spain</td><td>Group Stage</td></tr><tr><td>8</td><td>Spain vs Italy</td><td>B</td><td>Spain</td><td>Italy</td><td>3</td><td>0</td><td>Spain</td><td>Group Stage</td></tr><tr><td>9</td><td>Spain vs Croatia</td><td>B</td><td>Spain</td><td>Croatia</td><td>0</td><td>3</td><td>Croatia</td><td>Group Stage</td></tr><tr><td>10</td><td>Croatia vs Albania</td><td>B</td><td>Croatia</td><td>Albania</td><td>1</td><td>2</td><td>Albania</td><td>Group Stage</td></tr><tr><td>11</td><td>Croatia vs Italy</td><td>B</td><td>Croatia</td><td>Italy</td><td>4</td><td>5</td><td>Italy</td><td>Group Stage</td></tr><tr><td>12</td><td>Italy vs Albania</td><td>B</td><td>Italy</td><td>Albania</td><td>5</td><td>4</td><td>Italy</td><td>Group Stage</td></tr><tr><td>13</td><td>Slovenia vs England</td><td>C</td><td>Slovenia</td><td>England</td><td>3</td><td>3</td><td>Draw</td><td>Group Stage</td></tr><tr><td>14</td><td>Slovenia vs Serbia</td><td>C</td><td>Slovenia</td><td>Serbia</td><td>0</td><td>5</td><td>Serbia</td><td>Group Stage</td></tr><tr><td>15</td><td>Slovenia vs Denmark</td><td>C</td><td>Slovenia</td><td>Denmark</td><td>5</td><td>3</td><td>Slovenia</td><td>Group Stage</td></tr><tr><td>16</td><td>Denmark vs England</td><td>C</td><td>Denmark</td><td>England</td><td>4</td><td>2</td><td>Denmark</td><td>Group Stage</td></tr><tr><td>17</td><td>Denmark vs Serbia</td><td>C</td><td>Denmark</td><td>Serbia</td><td>2</td><td>2</td><td>Draw</td><td>Group Stage</td></tr><tr><td>18</td><td>Serbia vs England</td><td>C</td><td>Serbia</td><td>England</td><td>1</td><td>3</td><td>England</td><td>Group Stage</td></tr><tr><td>19</td><td>Netherlands vs Play-off Winner A</td><td>D</td><td>Netherlands</td><td>Play-off Winner A</td><td>0</td><td>1</td><td>Play-off Winner A</td><td>Group Stage</td></tr><tr><td>20</td><td>Netherlands vs France</td><td>D</td><td>Netherlands</td><td>France</td><td>0</td><td>3</td><td>France</td><td>Group Stage</td></tr><tr><td>21</td><td>Netherlands vs Austria</td><td>D</td><td>Netherlands</td><td>Austria</td><td>0</td><td>2</td><td>Austria</td><td>Group Stage</td></tr><tr><td>22</td><td>Austria vs Play-off Winner A</td><td>D</td><td>Austria</td><td>Play-off Winner A</td><td>3</td><td>5</td><td>Play-off Winner A</td><td>Group Stage</td></tr><tr><td>23</td><td>Austria vs France</td><td>D</td><td>Austria</td><td>France</td><td>3</td><td>5</td><td>France</td><td>Group Stage</td></tr><tr><td>24</td><td>France vs Play-off Winner A</td><td>D</td><td>France</td><td>Play-off Winner A</td><td>0</td><td>1</td><td>Play-off Winner A</td><td>Group Stage</td></tr><tr><td>25</td><td>Belgium vs Play-off Winner B</td><td>E</td><td>Belgium</td><td>Play-off Winner B</td><td>5</td><td>3</td><td>Belgium</td><td>Group Stage</td></tr><tr><td>26</td><td>Belgium vs Romania</td><td>E</td><td>Belgium</td><td>Romania</td><td>3</td><td>2</td><td>Belgium</td><td>Group Stage</td></tr><tr><td>27</td><td>Belgium vs Slovakia</td><td>E</td><td>Belgium</td><td>Slovakia</td><td>0</td><td>5</td><td>Slovakia</td><td>Group Stage</td></tr><tr><td>28</td><td>Slovakia vs Play-off Winner B</td><td>E</td><td>Slovakia</td><td>Play-off Winner B</td><td>4</td><td>3</td><td>Slovakia</td><td>Group Stage</td></tr><tr><td>29</td><td>Slovakia vs Romania</td><td>E</td><td>Slovakia</td><td>Romania</td><td>1</td><td>1</td><td>Draw</td><td>Group Stage</td></tr><tr><td>30</td><td>Romania vs Play-off Winner B</td><td>E</td><td>Romania</td><td>Play-off Winner B</td><td>1</td><td>0</td><td>Romania</td><td>Group Stage</td></tr><tr><td>31</td><td>Turkey vs Czech Republic</td><td>F</td><td>Turkey</td><td>Czech Republic</td><td>0</td><td>2</td><td>Czech Republic</td><td>Group Stage</td></tr><tr><td>32</td><td>Turkey vs Portugal</td><td>F</td><td>Turkey</td><td>Portugal</td><td>3</td><td>0</td><td>Turkey</td><td>Group Stage</td></tr><tr><td>33</td><td>Turkey vs Play-off Winner C</td><td>F</td><td>Turkey</td><td>Play-off Winner C</td><td>2</td><td>1</td><td>Turkey</td><td>Group Stage</td></tr><tr><td>34</td><td>Play-off Winner C vs Czech Republic</td><td>F</td><td>Play-off Winner C</td><td>Czech Republic</td><td>5</td><td>0</td><td>Play-off Winner C</td><td>Group Stage</td></tr><tr><td>35</td><td>Play-off Winner C vs Portugal</td><td>F</td><td>Play-off Winner C</td><td>Portugal</td><td>2</td><td>3</td><td>Portugal</td><td>Group Stage</td></tr><tr><td>36</td><td>Portugal vs Czech Republic</td><td>F</td><td>Portugal</td><td>Czech Republic</td><td>5</td><td>3</td><td>Portugal</td><td>Group Stage</td></tr><tr><td>37</td><td>Hungary Vs. Denmark</td><td>N</td><td>Hungary</td><td>Denmark</td><td>3</td><td>3</td><td>Denmark</td><td>R16</td></tr><tr><td>38</td><td>Germany Vs. Italy</td><td>N</td><td>Germany</td><td>Italy</td><td>4</td><td>2</td><td>Germany</td><td>R16</td></tr><tr><td>39</td><td>Spain Vs. Scotland</td><td>N</td><td>Spain</td><td>Scotland</td><td>0</td><td>4</td><td>Scotland</td><td>R16</td></tr><tr><td>40</td><td>Serbia Vs. Austria</td><td>N</td><td>Serbia</td><td>Austria</td><td>5</td><td>3</td><td>Serbia</td><td>R16</td></tr><tr><td>41</td><td>Turkey Vs. England</td><td>N</td><td>Turkey</td><td>England</td><td>3</td><td>0</td><td>Turkey</td><td>R16</td></tr><tr><td>42</td><td>France Vs. Belgium</td><td>N</td><td>France</td><td>Belgium</td><td>1</td><td>5</td><td>Belgium</td><td>R16</td></tr><tr><td>43</td><td>Slovakia Vs. Croatia</td><td>N</td><td>Slovakia</td><td>Croatia</td><td>5</td><td>4</td><td>Slovakia</td><td>R16</td></tr><tr><td>44</td><td>France Vs. Portugal</td><td>N</td><td>France</td><td>Portugal</td><td>2</td><td>3</td><td>Portugal</td><td>R16</td></tr><tr><td>45</td><td>Scotland Vs. Denmark</td><td>N</td><td>Scotland</td><td>Denmark</td><td>5</td><td>3</td><td>Scotland</td><td>Quarter-Final</td></tr><tr><td>46</td><td>Turkey Vs. Belgium</td><td>N</td><td>Turkey</td><td>Belgium</td><td>5</td><td>1</td><td>Turkey</td><td>Quarter-Final</td></tr><tr><td>47</td><td>Slovakia Vs. Portugal</td><td>N</td><td>Slovakia</td><td>Portugal</td><td>2</td><td>0</td><td>Slovakia</td><td>Quarter-Final</td></tr><tr><td>48</td><td>Serbia Vs. Germany</td><td>N</td><td>Serbia</td><td>Germany</td><td>4</td><td>3</td><td>Serbia</td><td>Quarter-Final</td></tr></tbody></table></div>"
      ]
     },
     "metadata": {
      "application/vnd.databricks.v1+output": {
       "addedWidgets": {},
       "aggData": [],
       "aggError": "",
       "aggOverflow": false,
       "aggSchema": [],
       "aggSeriesLimitReached": false,
       "aggType": "",
       "arguments": {},
       "columnCustomDisplayInfos": {},
       "data": [
        [
         1,
         "Germany vs Switzerland",
         "A",
         "Germany",
         "Switzerland",
         5,
         1,
         "Germany",
         "Group Stage"
        ],
        [
         2,
         "Germany vs Hungary",
         "A",
         "Germany",
         "Hungary",
         5,
         4,
         "Germany",
         "Group Stage"
        ],
        [
         3,
         "Germany vs Scotland",
         "A",
         "Germany",
         "Scotland",
         0,
         5,
         "Scotland",
         "Group Stage"
        ],
        [
         4,
         "Scotland vs Switzerland",
         "A",
         "Scotland",
         "Switzerland",
         0,
         1,
         "Switzerland",
         "Group Stage"
        ],
        [
         5,
         "Scotland vs Hungary",
         "A",
         "Scotland",
         "Hungary",
         2,
         3,
         "Hungary",
         "Group Stage"
        ],
        [
         6,
         "Hungary vs Switzerland",
         "A",
         "Hungary",
         "Switzerland",
         3,
         0,
         "Hungary",
         "Group Stage"
        ],
        [
         7,
         "Spain vs Albania",
         "B",
         "Spain",
         "Albania",
         4,
         3,
         "Spain",
         "Group Stage"
        ],
        [
         8,
         "Spain vs Italy",
         "B",
         "Spain",
         "Italy",
         3,
         0,
         "Spain",
         "Group Stage"
        ],
        [
         9,
         "Spain vs Croatia",
         "B",
         "Spain",
         "Croatia",
         0,
         3,
         "Croatia",
         "Group Stage"
        ],
        [
         10,
         "Croatia vs Albania",
         "B",
         "Croatia",
         "Albania",
         1,
         2,
         "Albania",
         "Group Stage"
        ],
        [
         11,
         "Croatia vs Italy",
         "B",
         "Croatia",
         "Italy",
         4,
         5,
         "Italy",
         "Group Stage"
        ],
        [
         12,
         "Italy vs Albania",
         "B",
         "Italy",
         "Albania",
         5,
         4,
         "Italy",
         "Group Stage"
        ],
        [
         13,
         "Slovenia vs England",
         "C",
         "Slovenia",
         "England",
         3,
         3,
         "Draw",
         "Group Stage"
        ],
        [
         14,
         "Slovenia vs Serbia",
         "C",
         "Slovenia",
         "Serbia",
         0,
         5,
         "Serbia",
         "Group Stage"
        ],
        [
         15,
         "Slovenia vs Denmark",
         "C",
         "Slovenia",
         "Denmark",
         5,
         3,
         "Slovenia",
         "Group Stage"
        ],
        [
         16,
         "Denmark vs England",
         "C",
         "Denmark",
         "England",
         4,
         2,
         "Denmark",
         "Group Stage"
        ],
        [
         17,
         "Denmark vs Serbia",
         "C",
         "Denmark",
         "Serbia",
         2,
         2,
         "Draw",
         "Group Stage"
        ],
        [
         18,
         "Serbia vs England",
         "C",
         "Serbia",
         "England",
         1,
         3,
         "England",
         "Group Stage"
        ],
        [
         19,
         "Netherlands vs Play-off Winner A",
         "D",
         "Netherlands",
         "Play-off Winner A",
         0,
         1,
         "Play-off Winner A",
         "Group Stage"
        ],
        [
         20,
         "Netherlands vs France",
         "D",
         "Netherlands",
         "France",
         0,
         3,
         "France",
         "Group Stage"
        ],
        [
         21,
         "Netherlands vs Austria",
         "D",
         "Netherlands",
         "Austria",
         0,
         2,
         "Austria",
         "Group Stage"
        ],
        [
         22,
         "Austria vs Play-off Winner A",
         "D",
         "Austria",
         "Play-off Winner A",
         3,
         5,
         "Play-off Winner A",
         "Group Stage"
        ],
        [
         23,
         "Austria vs France",
         "D",
         "Austria",
         "France",
         3,
         5,
         "France",
         "Group Stage"
        ],
        [
         24,
         "France vs Play-off Winner A",
         "D",
         "France",
         "Play-off Winner A",
         0,
         1,
         "Play-off Winner A",
         "Group Stage"
        ],
        [
         25,
         "Belgium vs Play-off Winner B",
         "E",
         "Belgium",
         "Play-off Winner B",
         5,
         3,
         "Belgium",
         "Group Stage"
        ],
        [
         26,
         "Belgium vs Romania",
         "E",
         "Belgium",
         "Romania",
         3,
         2,
         "Belgium",
         "Group Stage"
        ],
        [
         27,
         "Belgium vs Slovakia",
         "E",
         "Belgium",
         "Slovakia",
         0,
         5,
         "Slovakia",
         "Group Stage"
        ],
        [
         28,
         "Slovakia vs Play-off Winner B",
         "E",
         "Slovakia",
         "Play-off Winner B",
         4,
         3,
         "Slovakia",
         "Group Stage"
        ],
        [
         29,
         "Slovakia vs Romania",
         "E",
         "Slovakia",
         "Romania",
         1,
         1,
         "Draw",
         "Group Stage"
        ],
        [
         30,
         "Romania vs Play-off Winner B",
         "E",
         "Romania",
         "Play-off Winner B",
         1,
         0,
         "Romania",
         "Group Stage"
        ],
        [
         31,
         "Turkey vs Czech Republic",
         "F",
         "Turkey",
         "Czech Republic",
         0,
         2,
         "Czech Republic",
         "Group Stage"
        ],
        [
         32,
         "Turkey vs Portugal",
         "F",
         "Turkey",
         "Portugal",
         3,
         0,
         "Turkey",
         "Group Stage"
        ],
        [
         33,
         "Turkey vs Play-off Winner C",
         "F",
         "Turkey",
         "Play-off Winner C",
         2,
         1,
         "Turkey",
         "Group Stage"
        ],
        [
         34,
         "Play-off Winner C vs Czech Republic",
         "F",
         "Play-off Winner C",
         "Czech Republic",
         5,
         0,
         "Play-off Winner C",
         "Group Stage"
        ],
        [
         35,
         "Play-off Winner C vs Portugal",
         "F",
         "Play-off Winner C",
         "Portugal",
         2,
         3,
         "Portugal",
         "Group Stage"
        ],
        [
         36,
         "Portugal vs Czech Republic",
         "F",
         "Portugal",
         "Czech Republic",
         5,
         3,
         "Portugal",
         "Group Stage"
        ],
        [
         37,
         "Hungary Vs. Denmark",
         "N",
         "Hungary",
         "Denmark",
         3,
         3,
         "Denmark",
         "R16"
        ],
        [
         38,
         "Germany Vs. Italy",
         "N",
         "Germany",
         "Italy",
         4,
         2,
         "Germany",
         "R16"
        ],
        [
         39,
         "Spain Vs. Scotland",
         "N",
         "Spain",
         "Scotland",
         0,
         4,
         "Scotland",
         "R16"
        ],
        [
         40,
         "Serbia Vs. Austria",
         "N",
         "Serbia",
         "Austria",
         5,
         3,
         "Serbia",
         "R16"
        ],
        [
         41,
         "Turkey Vs. England",
         "N",
         "Turkey",
         "England",
         3,
         0,
         "Turkey",
         "R16"
        ],
        [
         42,
         "France Vs. Belgium",
         "N",
         "France",
         "Belgium",
         1,
         5,
         "Belgium",
         "R16"
        ],
        [
         43,
         "Slovakia Vs. Croatia",
         "N",
         "Slovakia",
         "Croatia",
         5,
         4,
         "Slovakia",
         "R16"
        ],
        [
         44,
         "France Vs. Portugal",
         "N",
         "France",
         "Portugal",
         2,
         3,
         "Portugal",
         "R16"
        ],
        [
         45,
         "Scotland Vs. Denmark",
         "N",
         "Scotland",
         "Denmark",
         5,
         3,
         "Scotland",
         "Quarter-Final"
        ],
        [
         46,
         "Turkey Vs. Belgium",
         "N",
         "Turkey",
         "Belgium",
         5,
         1,
         "Turkey",
         "Quarter-Final"
        ],
        [
         47,
         "Slovakia Vs. Portugal",
         "N",
         "Slovakia",
         "Portugal",
         2,
         0,
         "Slovakia",
         "Quarter-Final"
        ],
        [
         48,
         "Serbia Vs. Germany",
         "N",
         "Serbia",
         "Germany",
         4,
         3,
         "Serbia",
         "Quarter-Final"
        ]
       ],
       "datasetInfos": [],
       "dbfsResultPath": null,
       "isJsonSchema": true,
       "metadata": {},
       "overflow": false,
       "plotOptions": {
        "customPlotOptions": {},
        "displayType": "table",
        "pivotAggregation": null,
        "pivotColumns": null,
        "xColumns": null,
        "yColumns": null
       },
       "removedWidgets": [],
       "schema": [
        {
         "metadata": "{}",
         "name": "MatchID",
         "type": "\"integer\""
        },
        {
         "metadata": "{\"__CHAR_VARCHAR_TYPE_STRING\":\"varchar(50)\"}",
         "name": "Fixture",
         "type": "\"string\""
        },
        {
         "metadata": "{\"__CHAR_VARCHAR_TYPE_STRING\":\"varchar(1)\"}",
         "name": "GroupName",
         "type": "\"string\""
        },
        {
         "metadata": "{\"__CHAR_VARCHAR_TYPE_STRING\":\"varchar(20)\"}",
         "name": "HomeTeam",
         "type": "\"string\""
        },
        {
         "metadata": "{\"__CHAR_VARCHAR_TYPE_STRING\":\"varchar(20)\"}",
         "name": "AwayTeam",
         "type": "\"string\""
        },
        {
         "metadata": "{}",
         "name": "HomeTeamGoals",
         "type": "\"integer\""
        },
        {
         "metadata": "{}",
         "name": "AwayTeamGoals",
         "type": "\"integer\""
        },
        {
         "metadata": "{\"__CHAR_VARCHAR_TYPE_STRING\":\"varchar(20)\"}",
         "name": "MatchResult",
         "type": "\"string\""
        },
        {
         "metadata": "{\"__CHAR_VARCHAR_TYPE_STRING\":\"varchar(20)\"}",
         "name": "MatchStage",
         "type": "\"string\""
        }
       ],
       "type": "table"
      }
     },
     "output_type": "display_data"
    }
   ],
   "source": [
    "%sql \n",
    "select * from matches order by MatchID;\n",
    "-- DELETE FROM matches\n",
    "-- WHERE matchstage IN ('R16', 'Quarter-Final');"
   ]
  },
  {
   "cell_type": "markdown",
   "metadata": {
    "application/vnd.databricks.v1+cell": {
     "cellMetadata": {
      "byteLimit": 2048000,
      "rowLimit": 10000
     },
     "inputWidgets": {},
     "nuid": "4156d089-d261-42e3-b514-37e616ca56d6",
     "showTitle": false,
     "title": ""
    }
   },
   "source": [
    "## Matches For the Semi-Final Round\n",
    "\n",
    "- **Match 49:** Winner Match 45 vs. Winner match 46\n",
    "- **Match 50:** Winner Match 47 vs. Winner Match 48"
   ]
  },
  {
   "cell_type": "code",
   "execution_count": 0,
   "metadata": {
    "application/vnd.databricks.v1+cell": {
     "cellMetadata": {
      "byteLimit": 2048000,
      "implicitDf": true,
      "rowLimit": 10000
     },
     "inputWidgets": {},
     "nuid": "bcbbb77f-aae0-4a8c-989e-71070f927a79",
     "showTitle": false,
     "title": ""
    }
   },
   "outputs": [
    {
     "output_type": "display_data",
     "data": {
      "text/html": [
       "<style scoped>\n",
       "  .table-result-container {\n",
       "    max-height: 300px;\n",
       "    overflow: auto;\n",
       "  }\n",
       "  table, th, td {\n",
       "    border: 1px solid black;\n",
       "    border-collapse: collapse;\n",
       "  }\n",
       "  th, td {\n",
       "    padding: 5px;\n",
       "  }\n",
       "  th {\n",
       "    text-align: left;\n",
       "  }\n",
       "</style><div class='table-result-container'><table class='table-result'><thead style='background-color: white'><tr><th>num_affected_rows</th></tr></thead><tbody><tr><td>2</td></tr></tbody></table></div>"
      ]
     },
     "metadata": {
      "application/vnd.databricks.v1+output": {
       "addedWidgets": {},
       "aggData": [],
       "aggError": "",
       "aggOverflow": false,
       "aggSchema": [],
       "aggSeriesLimitReached": false,
       "aggType": "",
       "arguments": {},
       "columnCustomDisplayInfos": {},
       "data": [
        [
         2
        ]
       ],
       "datasetInfos": [],
       "dbfsResultPath": null,
       "isJsonSchema": true,
       "metadata": {},
       "overflow": false,
       "plotOptions": {
        "customPlotOptions": {},
        "displayType": "table",
        "pivotAggregation": null,
        "pivotColumns": null,
        "xColumns": null,
        "yColumns": null
       },
       "removedWidgets": [],
       "schema": [
        {
         "metadata": "{}",
         "name": "num_affected_rows",
         "type": "\"long\""
        }
       ],
       "type": "table"
      }
     },
     "output_type": "display_data"
    }
   ],
   "source": [
    "%sql\n",
    "INSERT INTO matches (MatchId, fixture,GroupName, HomeTeam, AwayTeam, HomeTeamGoals, AwayTeamGoals, MatchResult, MatchStage)\n",
    "SELECT \n",
    "    Row_Number() OVER(ORDER BY 1) + 48 AS MatchId,\n",
    "    CONCAT(SF1.MATCHRESULT, ' Vs. ', SF2.MATCHRESULT) AS fixture,\n",
    "    'N' as GroupName,\n",
    "    SF1.MATCHRESULT AS HomeTeam,\n",
    "    SF2.MATCHRESULT AS AwayTeam,\n",
    "    CAST(rand() * 6 AS INT) AS GoalsScored, \n",
    "    CAST(rand() * 6 AS INT) AS GoalsAllowed,\n",
    "    'None' AS MatchResult,\n",
    "    'Semi-Final' AS MatchStage\n",
    "FROM \n",
    "    matches SF1\n",
    "JOIN \n",
    "    matches SF2 ON (\n",
    "        (SF1.MATCHID = 45 AND SF2.MatchId = 46) OR\n",
    "        (SF1.MATCHID = 47 AND SF2.MatchId = 48)\n",
    "    );\n",
    "\n",
    "UPDATE Matches\n",
    "SET MatchResult = \n",
    "    CASE\n",
    "        WHEN HOMETEAMGOALS > AWAYTEAMGOALS THEN HomeTeam\n",
    "        WHEN HOMETEAMGOALS < AWAYTEAMGOALS THEN AwayTeam\n",
    "        ELSE \n",
    "          CASE \n",
    "                  WHEN (HomeTeamGoals + 1) % 2 = 1 THEN HomeTeam\n",
    "                  ELSE AwayTeam\n",
    "              END\n",
    "    END\n",
    "WHERE MatchStage = 'Semi-Final';"
   ]
  },
  {
   "cell_type": "markdown",
   "metadata": {
    "application/vnd.databricks.v1+cell": {
     "cellMetadata": {
      "byteLimit": 2048000,
      "rowLimit": 10000
     },
     "inputWidgets": {},
     "nuid": "4d203d6e-4696-4486-a712-df7ec1969312",
     "showTitle": false,
     "title": ""
    }
   },
   "source": [
    "## Match For Third Place"
   ]
  },
  {
   "cell_type": "code",
   "execution_count": 0,
   "metadata": {
    "application/vnd.databricks.v1+cell": {
     "cellMetadata": {
      "byteLimit": 2048000,
      "implicitDf": true,
      "rowLimit": 10000
     },
     "inputWidgets": {},
     "nuid": "c1d4b9b9-2c06-4ee3-9397-363d6dd6010e",
     "showTitle": false,
     "title": ""
    }
   },
   "outputs": [
    {
     "output_type": "display_data",
     "data": {
      "text/html": [
       "<style scoped>\n",
       "  .table-result-container {\n",
       "    max-height: 300px;\n",
       "    overflow: auto;\n",
       "  }\n",
       "  table, th, td {\n",
       "    border: 1px solid black;\n",
       "    border-collapse: collapse;\n",
       "  }\n",
       "  th, td {\n",
       "    padding: 5px;\n",
       "  }\n",
       "  th {\n",
       "    text-align: left;\n",
       "  }\n",
       "</style><div class='table-result-container'><table class='table-result'><thead style='background-color: white'><tr><th>num_affected_rows</th></tr></thead><tbody><tr><td>1</td></tr></tbody></table></div>"
      ]
     },
     "metadata": {
      "application/vnd.databricks.v1+output": {
       "addedWidgets": {},
       "aggData": [],
       "aggError": "",
       "aggOverflow": false,
       "aggSchema": [],
       "aggSeriesLimitReached": false,
       "aggType": "",
       "arguments": {},
       "columnCustomDisplayInfos": {},
       "data": [
        [
         1
        ]
       ],
       "datasetInfos": [],
       "dbfsResultPath": null,
       "isJsonSchema": true,
       "metadata": {},
       "overflow": false,
       "plotOptions": {
        "customPlotOptions": {},
        "displayType": "table",
        "pivotAggregation": null,
        "pivotColumns": null,
        "xColumns": null,
        "yColumns": null
       },
       "removedWidgets": [],
       "schema": [
        {
         "metadata": "{}",
         "name": "num_affected_rows",
         "type": "\"long\""
        }
       ],
       "type": "table"
      }
     },
     "output_type": "display_data"
    }
   ],
   "source": [
    "%sql\n",
    "INSERT INTO matches (MatchId, fixture,GroupName, HomeTeam, AwayTeam, HomeTeamGoals, AwayTeamGoals, MatchResult, MatchStage)\n",
    "WITH LosingTeams AS (\n",
    "    SELECT\n",
    "        CASE\n",
    "            WHEN MATCHRESULT != HOMETEAM THEN HOMETEAM\n",
    "            ELSE AWAYTEAM\n",
    "        END AS LosingTeam\n",
    "    FROM\n",
    "        matches\n",
    "    WHERE \n",
    "        MATCHSTAGE = 'Semi-Final'\n",
    ")\n",
    "\n",
    "SELECT \n",
    "    Row_Number() OVER(ORDER BY 1) + 50 AS MatchId,\n",
    "    CONCAT(T1.LosingTeam, ' Vs. ', T2.LosingTeam) AS fixture,\n",
    "    'N' as GroupName,\n",
    "    T1.LosingTeam AS HomeTeam,\n",
    "    T2.LosingTeam AS AwayTeam,\n",
    "    CAST(rand() * 6 AS INT) AS GoalsScored, \n",
    "    CAST(rand() * 6 AS INT) AS GoalsAllowed,\n",
    "    'None' AS MatchResult,\n",
    "    'Third-Place' AS MatchStage\n",
    "FROM \n",
    "    LosingTeams T1\n",
    "JOIN \n",
    "    LosingTeams T2 ON T1.LosingTeam < T2.LosingTeam;\n",
    "\n",
    "UPDATE Matches\n",
    "SET MatchResult = \n",
    "    CASE\n",
    "        WHEN HOMETEAMGOALS > AWAYTEAMGOALS THEN HomeTeam\n",
    "        WHEN HOMETEAMGOALS < AWAYTEAMGOALS THEN AwayTeam\n",
    "        ELSE \n",
    "          CASE \n",
    "                  WHEN (HomeTeamGoals + 1) % 2 = 1 THEN HomeTeam\n",
    "                  ELSE AwayTeam\n",
    "              END\n",
    "    END\n",
    "WHERE MatchStage = 'Third-Place';\n"
   ]
  },
  {
   "cell_type": "markdown",
   "metadata": {
    "application/vnd.databricks.v1+cell": {
     "cellMetadata": {
      "byteLimit": 2048000,
      "rowLimit": 10000
     },
     "inputWidgets": {},
     "nuid": "1cbabc81-25b0-4561-b48a-1aeb68ba2b95",
     "showTitle": false,
     "title": ""
    }
   },
   "source": [
    "## Match For the Final\n",
    "\n",
    "- **Match 52** Winner Match 49 vs. Winner Match 50"
   ]
  },
  {
   "cell_type": "code",
   "execution_count": 0,
   "metadata": {
    "application/vnd.databricks.v1+cell": {
     "cellMetadata": {
      "byteLimit": 2048000,
      "implicitDf": true,
      "rowLimit": 10000
     },
     "inputWidgets": {},
     "nuid": "1e8761d2-cd4a-4e0e-b887-d6bd14f4f237",
     "showTitle": false,
     "title": ""
    }
   },
   "outputs": [
    {
     "output_type": "display_data",
     "data": {
      "text/html": [
       "<style scoped>\n",
       "  .table-result-container {\n",
       "    max-height: 300px;\n",
       "    overflow: auto;\n",
       "  }\n",
       "  table, th, td {\n",
       "    border: 1px solid black;\n",
       "    border-collapse: collapse;\n",
       "  }\n",
       "  th, td {\n",
       "    padding: 5px;\n",
       "  }\n",
       "  th {\n",
       "    text-align: left;\n",
       "  }\n",
       "</style><div class='table-result-container'><table class='table-result'><thead style='background-color: white'><tr><th>num_affected_rows</th></tr></thead><tbody><tr><td>1</td></tr></tbody></table></div>"
      ]
     },
     "metadata": {
      "application/vnd.databricks.v1+output": {
       "addedWidgets": {},
       "aggData": [],
       "aggError": "",
       "aggOverflow": false,
       "aggSchema": [],
       "aggSeriesLimitReached": false,
       "aggType": "",
       "arguments": {},
       "columnCustomDisplayInfos": {},
       "data": [
        [
         1
        ]
       ],
       "datasetInfos": [],
       "dbfsResultPath": null,
       "isJsonSchema": true,
       "metadata": {},
       "overflow": false,
       "plotOptions": {
        "customPlotOptions": {},
        "displayType": "table",
        "pivotAggregation": null,
        "pivotColumns": null,
        "xColumns": null,
        "yColumns": null
       },
       "removedWidgets": [],
       "schema": [
        {
         "metadata": "{}",
         "name": "num_affected_rows",
         "type": "\"long\""
        }
       ],
       "type": "table"
      }
     },
     "output_type": "display_data"
    }
   ],
   "source": [
    "%sql\n",
    "INSERT INTO matches (MatchId, fixture,GroupName, HomeTeam, AwayTeam, HomeTeamGoals, AwayTeamGoals, MatchResult, MatchStage)\n",
    "SELECT \n",
    "    Row_Number() OVER(ORDER BY 1) + 51 AS MatchId,\n",
    "    CONCAT(F1.MATCHRESULT, ' Vs. ', F2.MATCHRESULT) AS fixture,\n",
    "    'N' as GroupName,\n",
    "    F1.MATCHRESULT AS HomeTeam,\n",
    "    F2.MATCHRESULT AS AwayTeam,\n",
    "    CAST(rand() * 6 AS INT) AS GoalsScored, \n",
    "    CAST(rand() * 6 AS INT) AS GoalsAllowed,\n",
    "    'None' AS MatchResult,\n",
    "    'Final' AS MatchStage\n",
    "FROM \n",
    "    matches F1\n",
    "JOIN \n",
    "    matches F2 ON \n",
    "        F1.MATCHID = 49 AND F2.MatchId = 50;\n",
    "\n",
    "UPDATE Matches\n",
    "SET MatchResult = \n",
    "    CASE\n",
    "        WHEN HOMETEAMGOALS > AWAYTEAMGOALS THEN HomeTeam\n",
    "        WHEN HOMETEAMGOALS < AWAYTEAMGOALS THEN AwayTeam\n",
    "        ELSE \n",
    "          CASE \n",
    "                WHEN (HomeTeamGoals + 1) % 2 = 1 THEN HomeTeam\n",
    "                ELSE AwayTeam\n",
    "            END\n",
    "    END\n",
    "WHERE MatchStage = 'Final';"
   ]
  },
  {
   "cell_type": "code",
   "execution_count": 0,
   "metadata": {
    "application/vnd.databricks.v1+cell": {
     "cellMetadata": {
      "byteLimit": 2048000,
      "implicitDf": true,
      "rowLimit": 10000
     },
     "inputWidgets": {},
     "nuid": "f845f378-4144-4b8f-9c1a-9be0f6be973c",
     "showTitle": false,
     "title": ""
    }
   },
   "outputs": [
    {
     "output_type": "display_data",
     "data": {
      "text/html": [
       "<style scoped>\n",
       "  .table-result-container {\n",
       "    max-height: 300px;\n",
       "    overflow: auto;\n",
       "  }\n",
       "  table, th, td {\n",
       "    border: 1px solid black;\n",
       "    border-collapse: collapse;\n",
       "  }\n",
       "  th, td {\n",
       "    padding: 5px;\n",
       "  }\n",
       "  th {\n",
       "    text-align: left;\n",
       "  }\n",
       "</style><div class='table-result-container'><table class='table-result'><thead style='background-color: white'><tr><th>MatchID</th><th>Fixture</th><th>GroupName</th><th>HomeTeam</th><th>AwayTeam</th><th>HomeTeamGoals</th><th>AwayTeamGoals</th><th>MatchResult</th><th>MatchStage</th></tr></thead><tbody><tr><td>1</td><td>Germany vs Switzerland</td><td>A</td><td>Germany</td><td>Switzerland</td><td>5</td><td>1</td><td>Germany</td><td>Group Stage</td></tr><tr><td>2</td><td>Germany vs Hungary</td><td>A</td><td>Germany</td><td>Hungary</td><td>5</td><td>4</td><td>Germany</td><td>Group Stage</td></tr><tr><td>3</td><td>Germany vs Scotland</td><td>A</td><td>Germany</td><td>Scotland</td><td>0</td><td>5</td><td>Scotland</td><td>Group Stage</td></tr><tr><td>4</td><td>Scotland vs Switzerland</td><td>A</td><td>Scotland</td><td>Switzerland</td><td>0</td><td>1</td><td>Switzerland</td><td>Group Stage</td></tr><tr><td>5</td><td>Scotland vs Hungary</td><td>A</td><td>Scotland</td><td>Hungary</td><td>2</td><td>3</td><td>Hungary</td><td>Group Stage</td></tr><tr><td>6</td><td>Hungary vs Switzerland</td><td>A</td><td>Hungary</td><td>Switzerland</td><td>3</td><td>0</td><td>Hungary</td><td>Group Stage</td></tr><tr><td>7</td><td>Spain vs Albania</td><td>B</td><td>Spain</td><td>Albania</td><td>4</td><td>3</td><td>Spain</td><td>Group Stage</td></tr><tr><td>8</td><td>Spain vs Italy</td><td>B</td><td>Spain</td><td>Italy</td><td>3</td><td>0</td><td>Spain</td><td>Group Stage</td></tr><tr><td>9</td><td>Spain vs Croatia</td><td>B</td><td>Spain</td><td>Croatia</td><td>0</td><td>3</td><td>Croatia</td><td>Group Stage</td></tr><tr><td>10</td><td>Croatia vs Albania</td><td>B</td><td>Croatia</td><td>Albania</td><td>1</td><td>2</td><td>Albania</td><td>Group Stage</td></tr><tr><td>11</td><td>Croatia vs Italy</td><td>B</td><td>Croatia</td><td>Italy</td><td>4</td><td>5</td><td>Italy</td><td>Group Stage</td></tr><tr><td>12</td><td>Italy vs Albania</td><td>B</td><td>Italy</td><td>Albania</td><td>5</td><td>4</td><td>Italy</td><td>Group Stage</td></tr><tr><td>13</td><td>Slovenia vs England</td><td>C</td><td>Slovenia</td><td>England</td><td>3</td><td>3</td><td>Draw</td><td>Group Stage</td></tr><tr><td>14</td><td>Slovenia vs Serbia</td><td>C</td><td>Slovenia</td><td>Serbia</td><td>0</td><td>5</td><td>Serbia</td><td>Group Stage</td></tr><tr><td>15</td><td>Slovenia vs Denmark</td><td>C</td><td>Slovenia</td><td>Denmark</td><td>5</td><td>3</td><td>Slovenia</td><td>Group Stage</td></tr><tr><td>16</td><td>Denmark vs England</td><td>C</td><td>Denmark</td><td>England</td><td>4</td><td>2</td><td>Denmark</td><td>Group Stage</td></tr><tr><td>17</td><td>Denmark vs Serbia</td><td>C</td><td>Denmark</td><td>Serbia</td><td>2</td><td>2</td><td>Draw</td><td>Group Stage</td></tr><tr><td>18</td><td>Serbia vs England</td><td>C</td><td>Serbia</td><td>England</td><td>1</td><td>3</td><td>England</td><td>Group Stage</td></tr><tr><td>19</td><td>Netherlands vs Play-off Winner A</td><td>D</td><td>Netherlands</td><td>Play-off Winner A</td><td>0</td><td>1</td><td>Play-off Winner A</td><td>Group Stage</td></tr><tr><td>20</td><td>Netherlands vs France</td><td>D</td><td>Netherlands</td><td>France</td><td>0</td><td>3</td><td>France</td><td>Group Stage</td></tr><tr><td>21</td><td>Netherlands vs Austria</td><td>D</td><td>Netherlands</td><td>Austria</td><td>0</td><td>2</td><td>Austria</td><td>Group Stage</td></tr><tr><td>22</td><td>Austria vs Play-off Winner A</td><td>D</td><td>Austria</td><td>Play-off Winner A</td><td>3</td><td>5</td><td>Play-off Winner A</td><td>Group Stage</td></tr><tr><td>23</td><td>Austria vs France</td><td>D</td><td>Austria</td><td>France</td><td>3</td><td>5</td><td>France</td><td>Group Stage</td></tr><tr><td>24</td><td>France vs Play-off Winner A</td><td>D</td><td>France</td><td>Play-off Winner A</td><td>0</td><td>1</td><td>Play-off Winner A</td><td>Group Stage</td></tr><tr><td>25</td><td>Belgium vs Play-off Winner B</td><td>E</td><td>Belgium</td><td>Play-off Winner B</td><td>5</td><td>3</td><td>Belgium</td><td>Group Stage</td></tr><tr><td>26</td><td>Belgium vs Romania</td><td>E</td><td>Belgium</td><td>Romania</td><td>3</td><td>2</td><td>Belgium</td><td>Group Stage</td></tr><tr><td>27</td><td>Belgium vs Slovakia</td><td>E</td><td>Belgium</td><td>Slovakia</td><td>0</td><td>5</td><td>Slovakia</td><td>Group Stage</td></tr><tr><td>28</td><td>Slovakia vs Play-off Winner B</td><td>E</td><td>Slovakia</td><td>Play-off Winner B</td><td>4</td><td>3</td><td>Slovakia</td><td>Group Stage</td></tr><tr><td>29</td><td>Slovakia vs Romania</td><td>E</td><td>Slovakia</td><td>Romania</td><td>1</td><td>1</td><td>Draw</td><td>Group Stage</td></tr><tr><td>30</td><td>Romania vs Play-off Winner B</td><td>E</td><td>Romania</td><td>Play-off Winner B</td><td>1</td><td>0</td><td>Romania</td><td>Group Stage</td></tr><tr><td>31</td><td>Turkey vs Czech Republic</td><td>F</td><td>Turkey</td><td>Czech Republic</td><td>0</td><td>2</td><td>Czech Republic</td><td>Group Stage</td></tr><tr><td>32</td><td>Turkey vs Portugal</td><td>F</td><td>Turkey</td><td>Portugal</td><td>3</td><td>0</td><td>Turkey</td><td>Group Stage</td></tr><tr><td>33</td><td>Turkey vs Play-off Winner C</td><td>F</td><td>Turkey</td><td>Play-off Winner C</td><td>2</td><td>1</td><td>Turkey</td><td>Group Stage</td></tr><tr><td>34</td><td>Play-off Winner C vs Czech Republic</td><td>F</td><td>Play-off Winner C</td><td>Czech Republic</td><td>5</td><td>0</td><td>Play-off Winner C</td><td>Group Stage</td></tr><tr><td>35</td><td>Play-off Winner C vs Portugal</td><td>F</td><td>Play-off Winner C</td><td>Portugal</td><td>2</td><td>3</td><td>Portugal</td><td>Group Stage</td></tr><tr><td>36</td><td>Portugal vs Czech Republic</td><td>F</td><td>Portugal</td><td>Czech Republic</td><td>5</td><td>3</td><td>Portugal</td><td>Group Stage</td></tr><tr><td>37</td><td>Hungary Vs. Denmark</td><td>N</td><td>Hungary</td><td>Denmark</td><td>3</td><td>3</td><td>Denmark</td><td>R16</td></tr><tr><td>38</td><td>Germany Vs. Italy</td><td>N</td><td>Germany</td><td>Italy</td><td>4</td><td>2</td><td>Germany</td><td>R16</td></tr><tr><td>39</td><td>Spain Vs. Scotland</td><td>N</td><td>Spain</td><td>Scotland</td><td>0</td><td>4</td><td>Scotland</td><td>R16</td></tr><tr><td>40</td><td>Serbia Vs. Austria</td><td>N</td><td>Serbia</td><td>Austria</td><td>5</td><td>3</td><td>Serbia</td><td>R16</td></tr><tr><td>41</td><td>Turkey Vs. England</td><td>N</td><td>Turkey</td><td>England</td><td>3</td><td>0</td><td>Turkey</td><td>R16</td></tr><tr><td>42</td><td>France Vs. Belgium</td><td>N</td><td>France</td><td>Belgium</td><td>1</td><td>5</td><td>Belgium</td><td>R16</td></tr><tr><td>43</td><td>Slovakia Vs. Croatia</td><td>N</td><td>Slovakia</td><td>Croatia</td><td>5</td><td>4</td><td>Slovakia</td><td>R16</td></tr><tr><td>44</td><td>France Vs. Portugal</td><td>N</td><td>France</td><td>Portugal</td><td>2</td><td>3</td><td>Portugal</td><td>R16</td></tr><tr><td>45</td><td>Scotland Vs. Denmark</td><td>N</td><td>Scotland</td><td>Denmark</td><td>5</td><td>3</td><td>Scotland</td><td>Quarter-Final</td></tr><tr><td>46</td><td>Turkey Vs. Belgium</td><td>N</td><td>Turkey</td><td>Belgium</td><td>5</td><td>1</td><td>Turkey</td><td>Quarter-Final</td></tr><tr><td>47</td><td>Slovakia Vs. Portugal</td><td>N</td><td>Slovakia</td><td>Portugal</td><td>2</td><td>0</td><td>Slovakia</td><td>Quarter-Final</td></tr><tr><td>48</td><td>Serbia Vs. Germany</td><td>N</td><td>Serbia</td><td>Germany</td><td>4</td><td>3</td><td>Serbia</td><td>Quarter-Final</td></tr><tr><td>49</td><td>Slovakia Vs. Serbia</td><td>N</td><td>Slovakia</td><td>Serbia</td><td>2</td><td>0</td><td>Slovakia</td><td>Semi-Final</td></tr><tr><td>50</td><td>Scotland Vs. Turkey</td><td>N</td><td>Scotland</td><td>Turkey</td><td>4</td><td>2</td><td>Scotland</td><td>Semi-Final</td></tr><tr><td>51</td><td>Serbia Vs. Turkey</td><td>N</td><td>Serbia</td><td>Turkey</td><td>1</td><td>4</td><td>Turkey</td><td>Third-Place</td></tr><tr><td>52</td><td>Slovakia Vs. Scotland</td><td>N</td><td>Slovakia</td><td>Scotland</td><td>1</td><td>2</td><td>Scotland</td><td>Final</td></tr></tbody></table></div>"
      ]
     },
     "metadata": {
      "application/vnd.databricks.v1+output": {
       "addedWidgets": {},
       "aggData": [],
       "aggError": "",
       "aggOverflow": false,
       "aggSchema": [],
       "aggSeriesLimitReached": false,
       "aggType": "",
       "arguments": {},
       "columnCustomDisplayInfos": {},
       "data": [
        [
         1,
         "Germany vs Switzerland",
         "A",
         "Germany",
         "Switzerland",
         5,
         1,
         "Germany",
         "Group Stage"
        ],
        [
         2,
         "Germany vs Hungary",
         "A",
         "Germany",
         "Hungary",
         5,
         4,
         "Germany",
         "Group Stage"
        ],
        [
         3,
         "Germany vs Scotland",
         "A",
         "Germany",
         "Scotland",
         0,
         5,
         "Scotland",
         "Group Stage"
        ],
        [
         4,
         "Scotland vs Switzerland",
         "A",
         "Scotland",
         "Switzerland",
         0,
         1,
         "Switzerland",
         "Group Stage"
        ],
        [
         5,
         "Scotland vs Hungary",
         "A",
         "Scotland",
         "Hungary",
         2,
         3,
         "Hungary",
         "Group Stage"
        ],
        [
         6,
         "Hungary vs Switzerland",
         "A",
         "Hungary",
         "Switzerland",
         3,
         0,
         "Hungary",
         "Group Stage"
        ],
        [
         7,
         "Spain vs Albania",
         "B",
         "Spain",
         "Albania",
         4,
         3,
         "Spain",
         "Group Stage"
        ],
        [
         8,
         "Spain vs Italy",
         "B",
         "Spain",
         "Italy",
         3,
         0,
         "Spain",
         "Group Stage"
        ],
        [
         9,
         "Spain vs Croatia",
         "B",
         "Spain",
         "Croatia",
         0,
         3,
         "Croatia",
         "Group Stage"
        ],
        [
         10,
         "Croatia vs Albania",
         "B",
         "Croatia",
         "Albania",
         1,
         2,
         "Albania",
         "Group Stage"
        ],
        [
         11,
         "Croatia vs Italy",
         "B",
         "Croatia",
         "Italy",
         4,
         5,
         "Italy",
         "Group Stage"
        ],
        [
         12,
         "Italy vs Albania",
         "B",
         "Italy",
         "Albania",
         5,
         4,
         "Italy",
         "Group Stage"
        ],
        [
         13,
         "Slovenia vs England",
         "C",
         "Slovenia",
         "England",
         3,
         3,
         "Draw",
         "Group Stage"
        ],
        [
         14,
         "Slovenia vs Serbia",
         "C",
         "Slovenia",
         "Serbia",
         0,
         5,
         "Serbia",
         "Group Stage"
        ],
        [
         15,
         "Slovenia vs Denmark",
         "C",
         "Slovenia",
         "Denmark",
         5,
         3,
         "Slovenia",
         "Group Stage"
        ],
        [
         16,
         "Denmark vs England",
         "C",
         "Denmark",
         "England",
         4,
         2,
         "Denmark",
         "Group Stage"
        ],
        [
         17,
         "Denmark vs Serbia",
         "C",
         "Denmark",
         "Serbia",
         2,
         2,
         "Draw",
         "Group Stage"
        ],
        [
         18,
         "Serbia vs England",
         "C",
         "Serbia",
         "England",
         1,
         3,
         "England",
         "Group Stage"
        ],
        [
         19,
         "Netherlands vs Play-off Winner A",
         "D",
         "Netherlands",
         "Play-off Winner A",
         0,
         1,
         "Play-off Winner A",
         "Group Stage"
        ],
        [
         20,
         "Netherlands vs France",
         "D",
         "Netherlands",
         "France",
         0,
         3,
         "France",
         "Group Stage"
        ],
        [
         21,
         "Netherlands vs Austria",
         "D",
         "Netherlands",
         "Austria",
         0,
         2,
         "Austria",
         "Group Stage"
        ],
        [
         22,
         "Austria vs Play-off Winner A",
         "D",
         "Austria",
         "Play-off Winner A",
         3,
         5,
         "Play-off Winner A",
         "Group Stage"
        ],
        [
         23,
         "Austria vs France",
         "D",
         "Austria",
         "France",
         3,
         5,
         "France",
         "Group Stage"
        ],
        [
         24,
         "France vs Play-off Winner A",
         "D",
         "France",
         "Play-off Winner A",
         0,
         1,
         "Play-off Winner A",
         "Group Stage"
        ],
        [
         25,
         "Belgium vs Play-off Winner B",
         "E",
         "Belgium",
         "Play-off Winner B",
         5,
         3,
         "Belgium",
         "Group Stage"
        ],
        [
         26,
         "Belgium vs Romania",
         "E",
         "Belgium",
         "Romania",
         3,
         2,
         "Belgium",
         "Group Stage"
        ],
        [
         27,
         "Belgium vs Slovakia",
         "E",
         "Belgium",
         "Slovakia",
         0,
         5,
         "Slovakia",
         "Group Stage"
        ],
        [
         28,
         "Slovakia vs Play-off Winner B",
         "E",
         "Slovakia",
         "Play-off Winner B",
         4,
         3,
         "Slovakia",
         "Group Stage"
        ],
        [
         29,
         "Slovakia vs Romania",
         "E",
         "Slovakia",
         "Romania",
         1,
         1,
         "Draw",
         "Group Stage"
        ],
        [
         30,
         "Romania vs Play-off Winner B",
         "E",
         "Romania",
         "Play-off Winner B",
         1,
         0,
         "Romania",
         "Group Stage"
        ],
        [
         31,
         "Turkey vs Czech Republic",
         "F",
         "Turkey",
         "Czech Republic",
         0,
         2,
         "Czech Republic",
         "Group Stage"
        ],
        [
         32,
         "Turkey vs Portugal",
         "F",
         "Turkey",
         "Portugal",
         3,
         0,
         "Turkey",
         "Group Stage"
        ],
        [
         33,
         "Turkey vs Play-off Winner C",
         "F",
         "Turkey",
         "Play-off Winner C",
         2,
         1,
         "Turkey",
         "Group Stage"
        ],
        [
         34,
         "Play-off Winner C vs Czech Republic",
         "F",
         "Play-off Winner C",
         "Czech Republic",
         5,
         0,
         "Play-off Winner C",
         "Group Stage"
        ],
        [
         35,
         "Play-off Winner C vs Portugal",
         "F",
         "Play-off Winner C",
         "Portugal",
         2,
         3,
         "Portugal",
         "Group Stage"
        ],
        [
         36,
         "Portugal vs Czech Republic",
         "F",
         "Portugal",
         "Czech Republic",
         5,
         3,
         "Portugal",
         "Group Stage"
        ],
        [
         37,
         "Hungary Vs. Denmark",
         "N",
         "Hungary",
         "Denmark",
         3,
         3,
         "Denmark",
         "R16"
        ],
        [
         38,
         "Germany Vs. Italy",
         "N",
         "Germany",
         "Italy",
         4,
         2,
         "Germany",
         "R16"
        ],
        [
         39,
         "Spain Vs. Scotland",
         "N",
         "Spain",
         "Scotland",
         0,
         4,
         "Scotland",
         "R16"
        ],
        [
         40,
         "Serbia Vs. Austria",
         "N",
         "Serbia",
         "Austria",
         5,
         3,
         "Serbia",
         "R16"
        ],
        [
         41,
         "Turkey Vs. England",
         "N",
         "Turkey",
         "England",
         3,
         0,
         "Turkey",
         "R16"
        ],
        [
         42,
         "France Vs. Belgium",
         "N",
         "France",
         "Belgium",
         1,
         5,
         "Belgium",
         "R16"
        ],
        [
         43,
         "Slovakia Vs. Croatia",
         "N",
         "Slovakia",
         "Croatia",
         5,
         4,
         "Slovakia",
         "R16"
        ],
        [
         44,
         "France Vs. Portugal",
         "N",
         "France",
         "Portugal",
         2,
         3,
         "Portugal",
         "R16"
        ],
        [
         45,
         "Scotland Vs. Denmark",
         "N",
         "Scotland",
         "Denmark",
         5,
         3,
         "Scotland",
         "Quarter-Final"
        ],
        [
         46,
         "Turkey Vs. Belgium",
         "N",
         "Turkey",
         "Belgium",
         5,
         1,
         "Turkey",
         "Quarter-Final"
        ],
        [
         47,
         "Slovakia Vs. Portugal",
         "N",
         "Slovakia",
         "Portugal",
         2,
         0,
         "Slovakia",
         "Quarter-Final"
        ],
        [
         48,
         "Serbia Vs. Germany",
         "N",
         "Serbia",
         "Germany",
         4,
         3,
         "Serbia",
         "Quarter-Final"
        ],
        [
         49,
         "Slovakia Vs. Serbia",
         "N",
         "Slovakia",
         "Serbia",
         2,
         0,
         "Slovakia",
         "Semi-Final"
        ],
        [
         50,
         "Scotland Vs. Turkey",
         "N",
         "Scotland",
         "Turkey",
         4,
         2,
         "Scotland",
         "Semi-Final"
        ],
        [
         51,
         "Serbia Vs. Turkey",
         "N",
         "Serbia",
         "Turkey",
         1,
         4,
         "Turkey",
         "Third-Place"
        ],
        [
         52,
         "Slovakia Vs. Scotland",
         "N",
         "Slovakia",
         "Scotland",
         1,
         2,
         "Scotland",
         "Final"
        ]
       ],
       "datasetInfos": [],
       "dbfsResultPath": null,
       "isJsonSchema": true,
       "metadata": {},
       "overflow": false,
       "plotOptions": {
        "customPlotOptions": {},
        "displayType": "table",
        "pivotAggregation": null,
        "pivotColumns": null,
        "xColumns": null,
        "yColumns": null
       },
       "removedWidgets": [],
       "schema": [
        {
         "metadata": "{}",
         "name": "MatchID",
         "type": "\"integer\""
        },
        {
         "metadata": "{\"__CHAR_VARCHAR_TYPE_STRING\":\"varchar(50)\"}",
         "name": "Fixture",
         "type": "\"string\""
        },
        {
         "metadata": "{\"__CHAR_VARCHAR_TYPE_STRING\":\"varchar(1)\"}",
         "name": "GroupName",
         "type": "\"string\""
        },
        {
         "metadata": "{\"__CHAR_VARCHAR_TYPE_STRING\":\"varchar(20)\"}",
         "name": "HomeTeam",
         "type": "\"string\""
        },
        {
         "metadata": "{\"__CHAR_VARCHAR_TYPE_STRING\":\"varchar(20)\"}",
         "name": "AwayTeam",
         "type": "\"string\""
        },
        {
         "metadata": "{}",
         "name": "HomeTeamGoals",
         "type": "\"integer\""
        },
        {
         "metadata": "{}",
         "name": "AwayTeamGoals",
         "type": "\"integer\""
        },
        {
         "metadata": "{\"__CHAR_VARCHAR_TYPE_STRING\":\"varchar(20)\"}",
         "name": "MatchResult",
         "type": "\"string\""
        },
        {
         "metadata": "{\"__CHAR_VARCHAR_TYPE_STRING\":\"varchar(20)\"}",
         "name": "MatchStage",
         "type": "\"string\""
        }
       ],
       "type": "table"
      }
     },
     "output_type": "display_data"
    }
   ],
   "source": [
    "%sql SELECT * FROM matches ORDER BY MatchID;"
   ]
  },
  {
   "cell_type": "code",
   "execution_count": 0,
   "metadata": {
    "application/vnd.databricks.v1+cell": {
     "cellMetadata": {
      "byteLimit": 2048000,
      "implicitDf": true,
      "rowLimit": 10000
     },
     "inputWidgets": {},
     "nuid": "c605fcc5-7909-4b0c-a306-ef876b4a4356",
     "showTitle": false,
     "title": ""
    }
   },
   "outputs": [
    {
     "output_type": "display_data",
     "data": {
      "text/html": [
       "<style scoped>\n",
       "  .table-result-container {\n",
       "    max-height: 300px;\n",
       "    overflow: auto;\n",
       "  }\n",
       "  table, th, td {\n",
       "    border: 1px solid black;\n",
       "    border-collapse: collapse;\n",
       "  }\n",
       "  th, td {\n",
       "    padding: 5px;\n",
       "  }\n",
       "  th {\n",
       "    text-align: left;\n",
       "  }\n",
       "</style><div class='table-result-container'><table class='table-result'><thead style='background-color: white'><tr><th>MatchID</th><th>Fixture</th><th>GroupName</th><th>HomeTeam</th><th>AwayTeam</th><th>HomeTeamGoals</th><th>AwayTeamGoals</th><th>MatchResult</th><th>MatchStage</th></tr></thead><tbody><tr><td>37</td><td>Hungary Vs. Denmark</td><td>N</td><td>Hungary</td><td>Denmark</td><td>3</td><td>3</td><td>Denmark</td><td>R16</td></tr><tr><td>38</td><td>Germany Vs. Italy</td><td>N</td><td>Germany</td><td>Italy</td><td>4</td><td>2</td><td>Germany</td><td>R16</td></tr><tr><td>39</td><td>Spain Vs. Scotland</td><td>N</td><td>Spain</td><td>Scotland</td><td>0</td><td>4</td><td>Scotland</td><td>R16</td></tr><tr><td>40</td><td>Serbia Vs. Austria</td><td>N</td><td>Serbia</td><td>Austria</td><td>5</td><td>3</td><td>Serbia</td><td>R16</td></tr><tr><td>41</td><td>Turkey Vs. England</td><td>N</td><td>Turkey</td><td>England</td><td>3</td><td>0</td><td>Turkey</td><td>R16</td></tr><tr><td>42</td><td>France Vs. Belgium</td><td>N</td><td>France</td><td>Belgium</td><td>1</td><td>5</td><td>Belgium</td><td>R16</td></tr><tr><td>43</td><td>Slovakia Vs. Croatia</td><td>N</td><td>Slovakia</td><td>Croatia</td><td>5</td><td>4</td><td>Slovakia</td><td>R16</td></tr><tr><td>44</td><td>France Vs. Portugal</td><td>N</td><td>France</td><td>Portugal</td><td>2</td><td>3</td><td>Portugal</td><td>R16</td></tr></tbody></table></div>"
      ]
     },
     "metadata": {
      "application/vnd.databricks.v1+output": {
       "addedWidgets": {},
       "aggData": [],
       "aggError": "",
       "aggOverflow": false,
       "aggSchema": [],
       "aggSeriesLimitReached": false,
       "aggType": "",
       "arguments": {},
       "columnCustomDisplayInfos": {},
       "data": [
        [
         37,
         "Hungary Vs. Denmark",
         "N",
         "Hungary",
         "Denmark",
         3,
         3,
         "Denmark",
         "R16"
        ],
        [
         38,
         "Germany Vs. Italy",
         "N",
         "Germany",
         "Italy",
         4,
         2,
         "Germany",
         "R16"
        ],
        [
         39,
         "Spain Vs. Scotland",
         "N",
         "Spain",
         "Scotland",
         0,
         4,
         "Scotland",
         "R16"
        ],
        [
         40,
         "Serbia Vs. Austria",
         "N",
         "Serbia",
         "Austria",
         5,
         3,
         "Serbia",
         "R16"
        ],
        [
         41,
         "Turkey Vs. England",
         "N",
         "Turkey",
         "England",
         3,
         0,
         "Turkey",
         "R16"
        ],
        [
         42,
         "France Vs. Belgium",
         "N",
         "France",
         "Belgium",
         1,
         5,
         "Belgium",
         "R16"
        ],
        [
         43,
         "Slovakia Vs. Croatia",
         "N",
         "Slovakia",
         "Croatia",
         5,
         4,
         "Slovakia",
         "R16"
        ],
        [
         44,
         "France Vs. Portugal",
         "N",
         "France",
         "Portugal",
         2,
         3,
         "Portugal",
         "R16"
        ]
       ],
       "datasetInfos": [],
       "dbfsResultPath": null,
       "isJsonSchema": true,
       "metadata": {},
       "overflow": false,
       "plotOptions": {
        "customPlotOptions": {},
        "displayType": "table",
        "pivotAggregation": null,
        "pivotColumns": null,
        "xColumns": null,
        "yColumns": null
       },
       "removedWidgets": [],
       "schema": [
        {
         "metadata": "{}",
         "name": "MatchID",
         "type": "\"integer\""
        },
        {
         "metadata": "{\"__CHAR_VARCHAR_TYPE_STRING\":\"varchar(50)\"}",
         "name": "Fixture",
         "type": "\"string\""
        },
        {
         "metadata": "{\"__CHAR_VARCHAR_TYPE_STRING\":\"varchar(1)\"}",
         "name": "GroupName",
         "type": "\"string\""
        },
        {
         "metadata": "{\"__CHAR_VARCHAR_TYPE_STRING\":\"varchar(20)\"}",
         "name": "HomeTeam",
         "type": "\"string\""
        },
        {
         "metadata": "{\"__CHAR_VARCHAR_TYPE_STRING\":\"varchar(20)\"}",
         "name": "AwayTeam",
         "type": "\"string\""
        },
        {
         "metadata": "{}",
         "name": "HomeTeamGoals",
         "type": "\"integer\""
        },
        {
         "metadata": "{}",
         "name": "AwayTeamGoals",
         "type": "\"integer\""
        },
        {
         "metadata": "{\"__CHAR_VARCHAR_TYPE_STRING\":\"varchar(20)\"}",
         "name": "MatchResult",
         "type": "\"string\""
        },
        {
         "metadata": "{\"__CHAR_VARCHAR_TYPE_STRING\":\"varchar(20)\"}",
         "name": "MatchStage",
         "type": "\"string\""
        }
       ],
       "type": "table"
      }
     },
     "output_type": "display_data"
    }
   ],
   "source": [
    "%sql\n",
    "select * from matches where MatchStage = 'R16' order by MatchId;"
   ]
  },
  {
   "cell_type": "code",
   "execution_count": 0,
   "metadata": {
    "application/vnd.databricks.v1+cell": {
     "cellMetadata": {
      "byteLimit": 2048000,
      "implicitDf": true,
      "rowLimit": 10000
     },
     "inputWidgets": {},
     "nuid": "e90eedad-5449-4996-be3e-af22a2107a15",
     "showTitle": false,
     "title": ""
    }
   },
   "outputs": [
    {
     "output_type": "display_data",
     "data": {
      "text/html": [
       "<style scoped>\n",
       "  .table-result-container {\n",
       "    max-height: 300px;\n",
       "    overflow: auto;\n",
       "  }\n",
       "  table, th, td {\n",
       "    border: 1px solid black;\n",
       "    border-collapse: collapse;\n",
       "  }\n",
       "  th, td {\n",
       "    padding: 5px;\n",
       "  }\n",
       "  th {\n",
       "    text-align: left;\n",
       "  }\n",
       "</style><div class='table-result-container'><table class='table-result'><thead style='background-color: white'><tr><th>MatchID</th><th>Fixture</th><th>GroupName</th><th>HomeTeam</th><th>AwayTeam</th><th>HomeTeamGoals</th><th>AwayTeamGoals</th><th>MatchResult</th><th>MatchStage</th></tr></thead><tbody><tr><td>45</td><td>Scotland Vs. Denmark</td><td>N</td><td>Scotland</td><td>Denmark</td><td>5</td><td>3</td><td>Scotland</td><td>Quarter-Final</td></tr><tr><td>46</td><td>Turkey Vs. Belgium</td><td>N</td><td>Turkey</td><td>Belgium</td><td>5</td><td>1</td><td>Turkey</td><td>Quarter-Final</td></tr><tr><td>47</td><td>Slovakia Vs. Portugal</td><td>N</td><td>Slovakia</td><td>Portugal</td><td>2</td><td>0</td><td>Slovakia</td><td>Quarter-Final</td></tr><tr><td>48</td><td>Serbia Vs. Germany</td><td>N</td><td>Serbia</td><td>Germany</td><td>4</td><td>3</td><td>Serbia</td><td>Quarter-Final</td></tr></tbody></table></div>"
      ]
     },
     "metadata": {
      "application/vnd.databricks.v1+output": {
       "addedWidgets": {},
       "aggData": [],
       "aggError": "",
       "aggOverflow": false,
       "aggSchema": [],
       "aggSeriesLimitReached": false,
       "aggType": "",
       "arguments": {},
       "columnCustomDisplayInfos": {},
       "data": [
        [
         45,
         "Scotland Vs. Denmark",
         "N",
         "Scotland",
         "Denmark",
         5,
         3,
         "Scotland",
         "Quarter-Final"
        ],
        [
         46,
         "Turkey Vs. Belgium",
         "N",
         "Turkey",
         "Belgium",
         5,
         1,
         "Turkey",
         "Quarter-Final"
        ],
        [
         47,
         "Slovakia Vs. Portugal",
         "N",
         "Slovakia",
         "Portugal",
         2,
         0,
         "Slovakia",
         "Quarter-Final"
        ],
        [
         48,
         "Serbia Vs. Germany",
         "N",
         "Serbia",
         "Germany",
         4,
         3,
         "Serbia",
         "Quarter-Final"
        ]
       ],
       "datasetInfos": [],
       "dbfsResultPath": null,
       "isJsonSchema": true,
       "metadata": {},
       "overflow": false,
       "plotOptions": {
        "customPlotOptions": {},
        "displayType": "table",
        "pivotAggregation": null,
        "pivotColumns": null,
        "xColumns": null,
        "yColumns": null
       },
       "removedWidgets": [],
       "schema": [
        {
         "metadata": "{}",
         "name": "MatchID",
         "type": "\"integer\""
        },
        {
         "metadata": "{\"__CHAR_VARCHAR_TYPE_STRING\":\"varchar(50)\"}",
         "name": "Fixture",
         "type": "\"string\""
        },
        {
         "metadata": "{\"__CHAR_VARCHAR_TYPE_STRING\":\"varchar(1)\"}",
         "name": "GroupName",
         "type": "\"string\""
        },
        {
         "metadata": "{\"__CHAR_VARCHAR_TYPE_STRING\":\"varchar(20)\"}",
         "name": "HomeTeam",
         "type": "\"string\""
        },
        {
         "metadata": "{\"__CHAR_VARCHAR_TYPE_STRING\":\"varchar(20)\"}",
         "name": "AwayTeam",
         "type": "\"string\""
        },
        {
         "metadata": "{}",
         "name": "HomeTeamGoals",
         "type": "\"integer\""
        },
        {
         "metadata": "{}",
         "name": "AwayTeamGoals",
         "type": "\"integer\""
        },
        {
         "metadata": "{\"__CHAR_VARCHAR_TYPE_STRING\":\"varchar(20)\"}",
         "name": "MatchResult",
         "type": "\"string\""
        },
        {
         "metadata": "{\"__CHAR_VARCHAR_TYPE_STRING\":\"varchar(20)\"}",
         "name": "MatchStage",
         "type": "\"string\""
        }
       ],
       "type": "table"
      }
     },
     "output_type": "display_data"
    }
   ],
   "source": [
    "%sql\n",
    "SELECT * FROM Matches where MatchStage = 'Quarter-Final' order by MatchId;"
   ]
  },
  {
   "cell_type": "code",
   "execution_count": 0,
   "metadata": {
    "application/vnd.databricks.v1+cell": {
     "cellMetadata": {
      "byteLimit": 2048000,
      "implicitDf": true,
      "rowLimit": 10000
     },
     "inputWidgets": {},
     "nuid": "2eec5fbc-1d03-4f4b-b6ba-c09947b146ac",
     "showTitle": false,
     "title": ""
    }
   },
   "outputs": [
    {
     "output_type": "display_data",
     "data": {
      "text/html": [
       "<style scoped>\n",
       "  .table-result-container {\n",
       "    max-height: 300px;\n",
       "    overflow: auto;\n",
       "  }\n",
       "  table, th, td {\n",
       "    border: 1px solid black;\n",
       "    border-collapse: collapse;\n",
       "  }\n",
       "  th, td {\n",
       "    padding: 5px;\n",
       "  }\n",
       "  th {\n",
       "    text-align: left;\n",
       "  }\n",
       "</style><div class='table-result-container'><table class='table-result'><thead style='background-color: white'><tr><th>MatchID</th><th>Fixture</th><th>GroupName</th><th>HomeTeam</th><th>AwayTeam</th><th>HomeTeamGoals</th><th>AwayTeamGoals</th><th>MatchResult</th><th>MatchStage</th></tr></thead><tbody><tr><td>49</td><td>Slovakia Vs. Serbia</td><td>N</td><td>Slovakia</td><td>Serbia</td><td>2</td><td>0</td><td>Slovakia</td><td>Semi-Final</td></tr><tr><td>50</td><td>Scotland Vs. Turkey</td><td>N</td><td>Scotland</td><td>Turkey</td><td>4</td><td>2</td><td>Scotland</td><td>Semi-Final</td></tr></tbody></table></div>"
      ]
     },
     "metadata": {
      "application/vnd.databricks.v1+output": {
       "addedWidgets": {},
       "aggData": [],
       "aggError": "",
       "aggOverflow": false,
       "aggSchema": [],
       "aggSeriesLimitReached": false,
       "aggType": "",
       "arguments": {},
       "columnCustomDisplayInfos": {},
       "data": [
        [
         49,
         "Slovakia Vs. Serbia",
         "N",
         "Slovakia",
         "Serbia",
         2,
         0,
         "Slovakia",
         "Semi-Final"
        ],
        [
         50,
         "Scotland Vs. Turkey",
         "N",
         "Scotland",
         "Turkey",
         4,
         2,
         "Scotland",
         "Semi-Final"
        ]
       ],
       "datasetInfos": [],
       "dbfsResultPath": null,
       "isJsonSchema": true,
       "metadata": {},
       "overflow": false,
       "plotOptions": {
        "customPlotOptions": {},
        "displayType": "table",
        "pivotAggregation": null,
        "pivotColumns": null,
        "xColumns": null,
        "yColumns": null
       },
       "removedWidgets": [],
       "schema": [
        {
         "metadata": "{}",
         "name": "MatchID",
         "type": "\"integer\""
        },
        {
         "metadata": "{\"__CHAR_VARCHAR_TYPE_STRING\":\"varchar(50)\"}",
         "name": "Fixture",
         "type": "\"string\""
        },
        {
         "metadata": "{\"__CHAR_VARCHAR_TYPE_STRING\":\"varchar(1)\"}",
         "name": "GroupName",
         "type": "\"string\""
        },
        {
         "metadata": "{\"__CHAR_VARCHAR_TYPE_STRING\":\"varchar(20)\"}",
         "name": "HomeTeam",
         "type": "\"string\""
        },
        {
         "metadata": "{\"__CHAR_VARCHAR_TYPE_STRING\":\"varchar(20)\"}",
         "name": "AwayTeam",
         "type": "\"string\""
        },
        {
         "metadata": "{}",
         "name": "HomeTeamGoals",
         "type": "\"integer\""
        },
        {
         "metadata": "{}",
         "name": "AwayTeamGoals",
         "type": "\"integer\""
        },
        {
         "metadata": "{\"__CHAR_VARCHAR_TYPE_STRING\":\"varchar(20)\"}",
         "name": "MatchResult",
         "type": "\"string\""
        },
        {
         "metadata": "{\"__CHAR_VARCHAR_TYPE_STRING\":\"varchar(20)\"}",
         "name": "MatchStage",
         "type": "\"string\""
        }
       ],
       "type": "table"
      }
     },
     "output_type": "display_data"
    }
   ],
   "source": [
    "%sql\n",
    "SELECT * FROM Matches where MatchStage = 'Semi-Final' order by MatchId;"
   ]
  },
  {
   "cell_type": "code",
   "execution_count": 0,
   "metadata": {
    "application/vnd.databricks.v1+cell": {
     "cellMetadata": {
      "byteLimit": 2048000,
      "implicitDf": true,
      "rowLimit": 10000
     },
     "inputWidgets": {},
     "nuid": "1ae08f08-e40f-40f2-a4ee-49e5aedd2685",
     "showTitle": false,
     "title": ""
    }
   },
   "outputs": [
    {
     "output_type": "display_data",
     "data": {
      "text/html": [
       "<style scoped>\n",
       "  .table-result-container {\n",
       "    max-height: 300px;\n",
       "    overflow: auto;\n",
       "  }\n",
       "  table, th, td {\n",
       "    border: 1px solid black;\n",
       "    border-collapse: collapse;\n",
       "  }\n",
       "  th, td {\n",
       "    padding: 5px;\n",
       "  }\n",
       "  th {\n",
       "    text-align: left;\n",
       "  }\n",
       "</style><div class='table-result-container'><table class='table-result'><thead style='background-color: white'><tr><th>MatchID</th><th>Fixture</th><th>GroupName</th><th>HomeTeam</th><th>AwayTeam</th><th>HomeTeamGoals</th><th>AwayTeamGoals</th><th>MatchResult</th><th>MatchStage</th></tr></thead><tbody><tr><td>51</td><td>Serbia Vs. Turkey</td><td>N</td><td>Serbia</td><td>Turkey</td><td>1</td><td>4</td><td>Turkey</td><td>Third-Place</td></tr></tbody></table></div>"
      ]
     },
     "metadata": {
      "application/vnd.databricks.v1+output": {
       "addedWidgets": {},
       "aggData": [],
       "aggError": "",
       "aggOverflow": false,
       "aggSchema": [],
       "aggSeriesLimitReached": false,
       "aggType": "",
       "arguments": {},
       "columnCustomDisplayInfos": {},
       "data": [
        [
         51,
         "Serbia Vs. Turkey",
         "N",
         "Serbia",
         "Turkey",
         1,
         4,
         "Turkey",
         "Third-Place"
        ]
       ],
       "datasetInfos": [],
       "dbfsResultPath": null,
       "isJsonSchema": true,
       "metadata": {},
       "overflow": false,
       "plotOptions": {
        "customPlotOptions": {},
        "displayType": "table",
        "pivotAggregation": null,
        "pivotColumns": null,
        "xColumns": null,
        "yColumns": null
       },
       "removedWidgets": [],
       "schema": [
        {
         "metadata": "{}",
         "name": "MatchID",
         "type": "\"integer\""
        },
        {
         "metadata": "{\"__CHAR_VARCHAR_TYPE_STRING\":\"varchar(50)\"}",
         "name": "Fixture",
         "type": "\"string\""
        },
        {
         "metadata": "{\"__CHAR_VARCHAR_TYPE_STRING\":\"varchar(1)\"}",
         "name": "GroupName",
         "type": "\"string\""
        },
        {
         "metadata": "{\"__CHAR_VARCHAR_TYPE_STRING\":\"varchar(20)\"}",
         "name": "HomeTeam",
         "type": "\"string\""
        },
        {
         "metadata": "{\"__CHAR_VARCHAR_TYPE_STRING\":\"varchar(20)\"}",
         "name": "AwayTeam",
         "type": "\"string\""
        },
        {
         "metadata": "{}",
         "name": "HomeTeamGoals",
         "type": "\"integer\""
        },
        {
         "metadata": "{}",
         "name": "AwayTeamGoals",
         "type": "\"integer\""
        },
        {
         "metadata": "{\"__CHAR_VARCHAR_TYPE_STRING\":\"varchar(20)\"}",
         "name": "MatchResult",
         "type": "\"string\""
        },
        {
         "metadata": "{\"__CHAR_VARCHAR_TYPE_STRING\":\"varchar(20)\"}",
         "name": "MatchStage",
         "type": "\"string\""
        }
       ],
       "type": "table"
      }
     },
     "output_type": "display_data"
    }
   ],
   "source": [
    "%sql\n",
    "SELECT * FROM Matches where MatchStage = 'Third-Place' order by MatchId;"
   ]
  },
  {
   "cell_type": "code",
   "execution_count": 0,
   "metadata": {
    "application/vnd.databricks.v1+cell": {
     "cellMetadata": {
      "byteLimit": 2048000,
      "implicitDf": true,
      "rowLimit": 10000
     },
     "inputWidgets": {},
     "nuid": "1fd5db1f-d759-4b36-b936-a7c4c66cb991",
     "showTitle": false,
     "title": ""
    }
   },
   "outputs": [
    {
     "output_type": "display_data",
     "data": {
      "text/html": [
       "<style scoped>\n",
       "  .table-result-container {\n",
       "    max-height: 300px;\n",
       "    overflow: auto;\n",
       "  }\n",
       "  table, th, td {\n",
       "    border: 1px solid black;\n",
       "    border-collapse: collapse;\n",
       "  }\n",
       "  th, td {\n",
       "    padding: 5px;\n",
       "  }\n",
       "  th {\n",
       "    text-align: left;\n",
       "  }\n",
       "</style><div class='table-result-container'><table class='table-result'><thead style='background-color: white'><tr><th>MatchID</th><th>Fixture</th><th>GroupName</th><th>HomeTeam</th><th>AwayTeam</th><th>HomeTeamGoals</th><th>AwayTeamGoals</th><th>MatchResult</th><th>MatchStage</th></tr></thead><tbody><tr><td>52</td><td>Slovakia Vs. Scotland</td><td>N</td><td>Slovakia</td><td>Scotland</td><td>1</td><td>2</td><td>Scotland</td><td>Final</td></tr></tbody></table></div>"
      ]
     },
     "metadata": {
      "application/vnd.databricks.v1+output": {
       "addedWidgets": {},
       "aggData": [],
       "aggError": "",
       "aggOverflow": false,
       "aggSchema": [],
       "aggSeriesLimitReached": false,
       "aggType": "",
       "arguments": {},
       "columnCustomDisplayInfos": {},
       "data": [
        [
         52,
         "Slovakia Vs. Scotland",
         "N",
         "Slovakia",
         "Scotland",
         1,
         2,
         "Scotland",
         "Final"
        ]
       ],
       "datasetInfos": [],
       "dbfsResultPath": null,
       "isJsonSchema": true,
       "metadata": {},
       "overflow": false,
       "plotOptions": {
        "customPlotOptions": {},
        "displayType": "table",
        "pivotAggregation": null,
        "pivotColumns": null,
        "xColumns": null,
        "yColumns": null
       },
       "removedWidgets": [],
       "schema": [
        {
         "metadata": "{}",
         "name": "MatchID",
         "type": "\"integer\""
        },
        {
         "metadata": "{\"__CHAR_VARCHAR_TYPE_STRING\":\"varchar(50)\"}",
         "name": "Fixture",
         "type": "\"string\""
        },
        {
         "metadata": "{\"__CHAR_VARCHAR_TYPE_STRING\":\"varchar(1)\"}",
         "name": "GroupName",
         "type": "\"string\""
        },
        {
         "metadata": "{\"__CHAR_VARCHAR_TYPE_STRING\":\"varchar(20)\"}",
         "name": "HomeTeam",
         "type": "\"string\""
        },
        {
         "metadata": "{\"__CHAR_VARCHAR_TYPE_STRING\":\"varchar(20)\"}",
         "name": "AwayTeam",
         "type": "\"string\""
        },
        {
         "metadata": "{}",
         "name": "HomeTeamGoals",
         "type": "\"integer\""
        },
        {
         "metadata": "{}",
         "name": "AwayTeamGoals",
         "type": "\"integer\""
        },
        {
         "metadata": "{\"__CHAR_VARCHAR_TYPE_STRING\":\"varchar(20)\"}",
         "name": "MatchResult",
         "type": "\"string\""
        },
        {
         "metadata": "{\"__CHAR_VARCHAR_TYPE_STRING\":\"varchar(20)\"}",
         "name": "MatchStage",
         "type": "\"string\""
        }
       ],
       "type": "table"
      }
     },
     "output_type": "display_data"
    }
   ],
   "source": [
    "%sql\n",
    "SELECT * FROM Matches where MatchStage = 'Final' order by MatchId;"
   ]
  },
  {
   "cell_type": "markdown",
   "metadata": {
    "application/vnd.databricks.v1+cell": {
     "cellMetadata": {
      "byteLimit": 2048000,
      "rowLimit": 10000
     },
     "inputWidgets": {},
     "nuid": "99a49367-d758-4bd3-acfc-c5faee1b2685",
     "showTitle": false,
     "title": ""
    }
   },
   "source": [
    "# Euro Cup 2024 Visualization"
   ]
  },
  {
   "cell_type": "code",
   "execution_count": 0,
   "metadata": {
    "application/vnd.databricks.v1+cell": {
     "cellMetadata": {
      "byteLimit": 2048000,
      "rowLimit": 10000
     },
     "inputWidgets": {},
     "nuid": "9050101e-0b23-4db5-a788-93ce062ef4ca",
     "showTitle": false,
     "title": ""
    }
   },
   "outputs": [
    {
     "output_type": "display_data",
     "data": {
      "application/vnd.databricks.v1+bamboolib_hint": "{\"pd.DataFrames\": [], \"version\": \"0.0.1\"}",
      "text/plain": []
     },
     "metadata": {},
     "output_type": "display_data"
    }
   ],
   "source": [
    "#import libraries\n",
    "import pandas as pd\n",
    "from pyspark.sql import SparkSession\n"
   ]
  },
  {
   "cell_type": "code",
   "execution_count": 0,
   "metadata": {
    "application/vnd.databricks.v1+cell": {
     "cellMetadata": {
      "byteLimit": 2048000,
      "rowLimit": 10000
     },
     "inputWidgets": {},
     "nuid": "83416a53-999c-4192-a304-d36419e50147",
     "showTitle": false,
     "title": ""
    }
   },
   "outputs": [],
   "source": [
    "#Spark Session\n",
    "spark = SparkSession.builder \\\n",
    "    .appName(\"euro_cup_visulization\") \\\n",
    "    .getOrCreate()"
   ]
  },
  {
   "cell_type": "markdown",
   "metadata": {
    "application/vnd.databricks.v1+cell": {
     "cellMetadata": {
      "byteLimit": 2048000,
      "rowLimit": 10000
     },
     "inputWidgets": {},
     "nuid": "20f3abed-ab0e-4698-bc8b-0ee4b2330f37",
     "showTitle": false,
     "title": ""
    }
   },
   "source": [
    "## Group Stage Table Visualization"
   ]
  },
  {
   "cell_type": "code",
   "execution_count": 0,
   "metadata": {
    "application/vnd.databricks.v1+cell": {
     "cellMetadata": {
      "byteLimit": 2048000,
      "rowLimit": 10000
     },
     "inputWidgets": {},
     "nuid": "b483f173-a169-4c18-a1f2-f4632d3af8f5",
     "showTitle": true,
     "title": "Loading the data from tables using spark"
    }
   },
   "outputs": [],
   "source": [
    "#Query from spark sql for different stages\n",
    "all_teams_stats = spark.sql(\"\"\" SELECT *\n",
    "FROM (\n",
    "    SELECT \n",
    "        *,\n",
    "        ROW_NUMBER() OVER (PARTITION BY GroupName ORDER BY points DESC, goaldifference desc,goalsScored desc,wins desc) AS rnk \n",
    "    FROM \n",
    "        matchStats \n",
    ") AS Top2Teams\"\"\")\n",
    "# round_of_16 = spark.sql(\"SELECT HomeTeam,AwayTeam,HomeTeamGoals,AwayTeamGoals FROM Matches WHERE MatchStage = 'R16' ORDER BY MatchId\")\n",
    "quater_final = spark.sql(\"SELECT HomeTeam,AwayTeam,HomeTeamGoals,AwayTeamGoals FROM Matches WHERE MatchStage = 'Quarter-Final' ORDER BY MatchId\")\n",
    "semi_final = spark.sql(\"SELECT HomeTeam,AwayTeam,HomeTeamGoals,AwayTeamGoals  FROM Matches WHERE MatchStage = 'Semi-Final' ORDER BY MatchId desc\")\n",
    "final = spark.sql(\"SELECT HomeTeam,AwayTeam,HomeTeamGoals,AwayTeamGoals  FROM Matches WHERE MatchStage = 'Final' ORDER BY MatchId\")\n",
    "third_place = spark.sql(\"SELECT MatchId  FROM Matches WHERE MatchStage = 'Third-Place' ORDER BY MatchId\")\n"
   ]
  },
  {
   "cell_type": "code",
   "execution_count": 0,
   "metadata": {
    "application/vnd.databricks.v1+cell": {
     "cellMetadata": {
      "byteLimit": 2048000,
      "rowLimit": 10000
     },
     "inputWidgets": {},
     "nuid": "004c8da9-e605-486e-bc27-b124c8d535c1",
     "showTitle": false,
     "title": ""
    }
   },
   "outputs": [
    {
     "output_type": "display_data",
     "data": {
      "text/html": [
       "<style scoped>\n",
       "  .table-result-container {\n",
       "    max-height: 300px;\n",
       "    overflow: auto;\n",
       "  }\n",
       "  table, th, td {\n",
       "    border: 1px solid black;\n",
       "    border-collapse: collapse;\n",
       "  }\n",
       "  th, td {\n",
       "    padding: 5px;\n",
       "  }\n",
       "  th {\n",
       "    text-align: left;\n",
       "  }\n",
       "</style><div class='table-result-container'><table class='table-result'><thead style='background-color: white'><tr><th>Side</th><th>MatchID</th><th>HomeTeam</th><th>AwayTeam</th><th>HomeTeamGoals</th><th>AwayTeamGoals</th></tr></thead><tbody><tr><td>Left</td><td>39</td><td>Spain</td><td>Scotland</td><td>0</td><td>4</td></tr><tr><td>Left</td><td>37</td><td>Hungary</td><td>Denmark</td><td>3</td><td>3</td></tr><tr><td>Left</td><td>41</td><td>Turkey</td><td>England</td><td>3</td><td>0</td></tr><tr><td>Left</td><td>42</td><td>France</td><td>Belgium</td><td>1</td><td>5</td></tr><tr><td>Right</td><td>43</td><td>Slovakia</td><td>Croatia</td><td>5</td><td>4</td></tr><tr><td>Right</td><td>44</td><td>France</td><td>Portugal</td><td>2</td><td>3</td></tr><tr><td>Right</td><td>40</td><td>Serbia</td><td>Austria</td><td>5</td><td>3</td></tr><tr><td>Right</td><td>38</td><td>Germany</td><td>Italy</td><td>4</td><td>2</td></tr></tbody></table></div>"
      ]
     },
     "metadata": {
      "application/vnd.databricks.v1+output": {
       "addedWidgets": {},
       "aggData": [],
       "aggError": "",
       "aggOverflow": false,
       "aggSchema": [],
       "aggSeriesLimitReached": false,
       "aggType": "",
       "arguments": {},
       "columnCustomDisplayInfos": {},
       "data": [
        [
         "Left",
         39,
         "Spain",
         "Scotland",
         0,
         4
        ],
        [
         "Left",
         37,
         "Hungary",
         "Denmark",
         3,
         3
        ],
        [
         "Left",
         41,
         "Turkey",
         "England",
         3,
         0
        ],
        [
         "Left",
         42,
         "France",
         "Belgium",
         1,
         5
        ],
        [
         "Right",
         43,
         "Slovakia",
         "Croatia",
         5,
         4
        ],
        [
         "Right",
         44,
         "France",
         "Portugal",
         2,
         3
        ],
        [
         "Right",
         40,
         "Serbia",
         "Austria",
         5,
         3
        ],
        [
         "Right",
         38,
         "Germany",
         "Italy",
         4,
         2
        ]
       ],
       "datasetInfos": [],
       "dbfsResultPath": null,
       "isJsonSchema": true,
       "metadata": {},
       "overflow": false,
       "plotOptions": {
        "customPlotOptions": {},
        "displayType": "table",
        "pivotAggregation": null,
        "pivotColumns": null,
        "xColumns": null,
        "yColumns": null
       },
       "removedWidgets": [],
       "schema": [
        {
         "metadata": "{}",
         "name": "Side",
         "type": "\"string\""
        },
        {
         "metadata": "{}",
         "name": "MatchID",
         "type": "\"integer\""
        },
        {
         "metadata": "{\"__CHAR_VARCHAR_TYPE_STRING\":\"varchar(20)\"}",
         "name": "HomeTeam",
         "type": "\"string\""
        },
        {
         "metadata": "{\"__CHAR_VARCHAR_TYPE_STRING\":\"varchar(20)\"}",
         "name": "AwayTeam",
         "type": "\"string\""
        },
        {
         "metadata": "{}",
         "name": "HomeTeamGoals",
         "type": "\"integer\""
        },
        {
         "metadata": "{}",
         "name": "AwayTeamGoals",
         "type": "\"integer\""
        }
       ],
       "type": "table"
      }
     },
     "output_type": "display_data"
    }
   ],
   "source": [
    "round_of_16 = spark.sql(\"\"\"\n",
    "    SELECT\n",
    "        CASE WHEN matchid IN (39, 37, 41, 42) THEN 'Left' ELSE 'Right' END AS Side,\n",
    "        MatchID,\n",
    "        HomeTeam,\n",
    "        AwayTeam,\n",
    "        HomeTeamGoals,\n",
    "        AwayTeamGoals\n",
    "    FROM\n",
    "        matches m\n",
    "    WHERE\n",
    "        m.matchid IN (39, 37, 41, 42, 43, 44, 40, 38) \n",
    "        AND MatchStage = 'R16'\n",
    "    ORDER BY\n",
    "        CASE \n",
    "            WHEN matchid = 39 THEN 1\n",
    "            WHEN matchid = 37 THEN 2\n",
    "            WHEN matchid = 41 THEN 3\n",
    "            WHEN matchid = 42 THEN 4\n",
    "            WHEN matchid = 43 THEN 5\n",
    "            WHEN matchid = 44 THEN 6\n",
    "            WHEN matchid = 40 THEN 7\n",
    "            WHEN matchid = 38 THEN 8\n",
    "        END\n",
    "\"\"\")\n",
    "round_of_16_df = round_of_16.toPandas()\n",
    "display(round_of_16)\n",
    "\n",
    "# new_r16_df = new_r16.toPandas()\n",
    "# display(new_r16_df)\n"
   ]
  },
  {
   "cell_type": "code",
   "execution_count": 0,
   "metadata": {
    "application/vnd.databricks.v1+cell": {
     "cellMetadata": {
      "byteLimit": 2048000,
      "rowLimit": 10000
     },
     "inputWidgets": {},
     "nuid": "66a7ae8b-6d65-471a-bb85-32e873d205db",
     "showTitle": true,
     "title": "Converting spark data-frame into pandas data-frame"
    }
   },
   "outputs": [
    {
     "output_type": "display_data",
     "data": {
      "text/html": [
       "<style scoped>\n",
       "  .table-result-container {\n",
       "    max-height: 300px;\n",
       "    overflow: auto;\n",
       "  }\n",
       "  table, th, td {\n",
       "    border: 1px solid black;\n",
       "    border-collapse: collapse;\n",
       "  }\n",
       "  th, td {\n",
       "    padding: 5px;\n",
       "  }\n",
       "  th {\n",
       "    text-align: left;\n",
       "  }\n",
       "</style><div class='table-result-container'><table class='table-result'><thead style='background-color: white'><tr><th>TeamID</th><th>GroupName</th><th>MatchesPlayed</th><th>Wins</th><th>Draws</th><th>Losses</th><th>GoalsScored</th><th>GoalsAllowed</th><th>GoalDifference</th><th>Points</th><th>rnk</th></tr></thead><tbody><tr><td>Hungary</td><td>A</td><td>3</td><td>2</td><td>0</td><td>1</td><td>10</td><td>7</td><td>3</td><td>6</td><td>1</td></tr><tr><td>Germany</td><td>A</td><td>3</td><td>2</td><td>0</td><td>1</td><td>10</td><td>10</td><td>0</td><td>6</td><td>2</td></tr><tr><td>Scotland</td><td>A</td><td>3</td><td>1</td><td>0</td><td>2</td><td>7</td><td>4</td><td>3</td><td>3</td><td>3</td></tr><tr><td>Switzerland</td><td>A</td><td>3</td><td>1</td><td>0</td><td>2</td><td>2</td><td>8</td><td>-6</td><td>3</td><td>4</td></tr><tr><td>Spain</td><td>B</td><td>3</td><td>2</td><td>0</td><td>1</td><td>7</td><td>6</td><td>1</td><td>6</td><td>1</td></tr><tr><td>Italy</td><td>B</td><td>3</td><td>2</td><td>0</td><td>1</td><td>10</td><td>11</td><td>-1</td><td>6</td><td>2</td></tr><tr><td>Croatia</td><td>B</td><td>3</td><td>1</td><td>0</td><td>2</td><td>8</td><td>7</td><td>1</td><td>3</td><td>3</td></tr><tr><td>Albania</td><td>B</td><td>3</td><td>1</td><td>0</td><td>2</td><td>9</td><td>10</td><td>-1</td><td>3</td><td>4</td></tr><tr><td>Serbia</td><td>C</td><td>3</td><td>1</td><td>1</td><td>1</td><td>8</td><td>5</td><td>3</td><td>4</td><td>1</td></tr><tr><td>Denmark</td><td>C</td><td>3</td><td>1</td><td>1</td><td>1</td><td>9</td><td>9</td><td>0</td><td>4</td><td>2</td></tr><tr><td>England</td><td>C</td><td>3</td><td>1</td><td>1</td><td>1</td><td>8</td><td>8</td><td>0</td><td>4</td><td>3</td></tr><tr><td>Slovenia</td><td>C</td><td>3</td><td>1</td><td>1</td><td>1</td><td>8</td><td>11</td><td>-3</td><td>4</td><td>4</td></tr><tr><td>Play-off Winner A</td><td>D</td><td>3</td><td>3</td><td>0</td><td>0</td><td>7</td><td>3</td><td>4</td><td>9</td><td>1</td></tr><tr><td>France</td><td>D</td><td>3</td><td>2</td><td>0</td><td>1</td><td>8</td><td>4</td><td>4</td><td>6</td><td>2</td></tr><tr><td>Austria</td><td>D</td><td>3</td><td>1</td><td>0</td><td>2</td><td>8</td><td>10</td><td>-2</td><td>3</td><td>3</td></tr><tr><td>Netherlands</td><td>D</td><td>3</td><td>0</td><td>0</td><td>3</td><td>0</td><td>6</td><td>-6</td><td>0</td><td>4</td></tr><tr><td>Slovakia</td><td>E</td><td>3</td><td>2</td><td>1</td><td>0</td><td>10</td><td>4</td><td>6</td><td>7</td><td>1</td></tr><tr><td>Belgium</td><td>E</td><td>3</td><td>2</td><td>0</td><td>1</td><td>8</td><td>10</td><td>-2</td><td>6</td><td>2</td></tr><tr><td>Romania</td><td>E</td><td>3</td><td>1</td><td>1</td><td>1</td><td>4</td><td>4</td><td>0</td><td>4</td><td>3</td></tr><tr><td>Play-off Winner B</td><td>E</td><td>3</td><td>0</td><td>0</td><td>3</td><td>6</td><td>10</td><td>-4</td><td>0</td><td>4</td></tr><tr><td>Turkey</td><td>F</td><td>3</td><td>2</td><td>0</td><td>1</td><td>5</td><td>3</td><td>2</td><td>6</td><td>1</td></tr><tr><td>Portugal</td><td>F</td><td>3</td><td>2</td><td>0</td><td>1</td><td>8</td><td>8</td><td>0</td><td>6</td><td>2</td></tr><tr><td>Play-off Winner C</td><td>F</td><td>3</td><td>1</td><td>0</td><td>2</td><td>8</td><td>5</td><td>3</td><td>3</td><td>3</td></tr><tr><td>Czech Republic</td><td>F</td><td>3</td><td>1</td><td>0</td><td>2</td><td>5</td><td>10</td><td>-5</td><td>3</td><td>4</td></tr></tbody></table></div>"
      ]
     },
     "metadata": {
      "application/vnd.databricks.v1+output": {
       "addedWidgets": {},
       "aggData": [],
       "aggError": "",
       "aggOverflow": false,
       "aggSchema": [],
       "aggSeriesLimitReached": false,
       "aggType": "",
       "arguments": {},
       "columnCustomDisplayInfos": {},
       "data": [
        [
         "Hungary",
         "A",
         3,
         2,
         0,
         1,
         10,
         7,
         3,
         6,
         1
        ],
        [
         "Germany",
         "A",
         3,
         2,
         0,
         1,
         10,
         10,
         0,
         6,
         2
        ],
        [
         "Scotland",
         "A",
         3,
         1,
         0,
         2,
         7,
         4,
         3,
         3,
         3
        ],
        [
         "Switzerland",
         "A",
         3,
         1,
         0,
         2,
         2,
         8,
         -6,
         3,
         4
        ],
        [
         "Spain",
         "B",
         3,
         2,
         0,
         1,
         7,
         6,
         1,
         6,
         1
        ],
        [
         "Italy",
         "B",
         3,
         2,
         0,
         1,
         10,
         11,
         -1,
         6,
         2
        ],
        [
         "Croatia",
         "B",
         3,
         1,
         0,
         2,
         8,
         7,
         1,
         3,
         3
        ],
        [
         "Albania",
         "B",
         3,
         1,
         0,
         2,
         9,
         10,
         -1,
         3,
         4
        ],
        [
         "Serbia",
         "C",
         3,
         1,
         1,
         1,
         8,
         5,
         3,
         4,
         1
        ],
        [
         "Denmark",
         "C",
         3,
         1,
         1,
         1,
         9,
         9,
         0,
         4,
         2
        ],
        [
         "England",
         "C",
         3,
         1,
         1,
         1,
         8,
         8,
         0,
         4,
         3
        ],
        [
         "Slovenia",
         "C",
         3,
         1,
         1,
         1,
         8,
         11,
         -3,
         4,
         4
        ],
        [
         "Play-off Winner A",
         "D",
         3,
         3,
         0,
         0,
         7,
         3,
         4,
         9,
         1
        ],
        [
         "France",
         "D",
         3,
         2,
         0,
         1,
         8,
         4,
         4,
         6,
         2
        ],
        [
         "Austria",
         "D",
         3,
         1,
         0,
         2,
         8,
         10,
         -2,
         3,
         3
        ],
        [
         "Netherlands",
         "D",
         3,
         0,
         0,
         3,
         0,
         6,
         -6,
         0,
         4
        ],
        [
         "Slovakia",
         "E",
         3,
         2,
         1,
         0,
         10,
         4,
         6,
         7,
         1
        ],
        [
         "Belgium",
         "E",
         3,
         2,
         0,
         1,
         8,
         10,
         -2,
         6,
         2
        ],
        [
         "Romania",
         "E",
         3,
         1,
         1,
         1,
         4,
         4,
         0,
         4,
         3
        ],
        [
         "Play-off Winner B",
         "E",
         3,
         0,
         0,
         3,
         6,
         10,
         -4,
         0,
         4
        ],
        [
         "Turkey",
         "F",
         3,
         2,
         0,
         1,
         5,
         3,
         2,
         6,
         1
        ],
        [
         "Portugal",
         "F",
         3,
         2,
         0,
         1,
         8,
         8,
         0,
         6,
         2
        ],
        [
         "Play-off Winner C",
         "F",
         3,
         1,
         0,
         2,
         8,
         5,
         3,
         3,
         3
        ],
        [
         "Czech Republic",
         "F",
         3,
         1,
         0,
         2,
         5,
         10,
         -5,
         3,
         4
        ]
       ],
       "datasetInfos": [],
       "dbfsResultPath": null,
       "isJsonSchema": true,
       "metadata": {},
       "overflow": false,
       "plotOptions": {
        "customPlotOptions": {},
        "displayType": "table",
        "pivotAggregation": null,
        "pivotColumns": null,
        "xColumns": null,
        "yColumns": null
       },
       "removedWidgets": [],
       "schema": [
        {
         "metadata": "{}",
         "name": "TeamID",
         "type": "\"string\""
        },
        {
         "metadata": "{}",
         "name": "GroupName",
         "type": "\"string\""
        },
        {
         "metadata": "{}",
         "name": "MatchesPlayed",
         "type": "\"long\""
        },
        {
         "metadata": "{}",
         "name": "Wins",
         "type": "\"long\""
        },
        {
         "metadata": "{}",
         "name": "Draws",
         "type": "\"long\""
        },
        {
         "metadata": "{}",
         "name": "Losses",
         "type": "\"long\""
        },
        {
         "metadata": "{}",
         "name": "GoalsScored",
         "type": "\"long\""
        },
        {
         "metadata": "{}",
         "name": "GoalsAllowed",
         "type": "\"long\""
        },
        {
         "metadata": "{}",
         "name": "GoalDifference",
         "type": "\"long\""
        },
        {
         "metadata": "{}",
         "name": "Points",
         "type": "\"long\""
        },
        {
         "metadata": "{}",
         "name": "rnk",
         "type": "\"long\""
        }
       ],
       "type": "table"
      }
     },
     "output_type": "display_data"
    }
   ],
   "source": [
    "#Convert Spark DataFrame to Pandas Dataframe\n",
    "all_teams_stats_df = all_teams_stats.toPandas()\n",
    "# round_of_16_df = round_of_16.toPandas()\n",
    "quater_final_df = quater_final.toPandas()\n",
    "semi_final_df = semi_final.toPandas()\n",
    "final_df = final.toPandas()\n",
    "third_place_df = third_place.toPandas()\n",
    "\n",
    "display(all_teams_stats_df)"
   ]
  },
  {
   "cell_type": "code",
   "execution_count": 0,
   "metadata": {
    "application/vnd.databricks.v1+cell": {
     "cellMetadata": {
      "byteLimit": 2048000,
      "rowLimit": 10000
     },
     "inputWidgets": {},
     "nuid": "a5166354-a5f3-48c1-9bad-f3885bffd7d6",
     "showTitle": false,
     "title": ""
    }
   },
   "outputs": [
    {
     "output_type": "display_data",
     "data": {
      "text/html": [
       "<style scoped>\n",
       "  .table-result-container {\n",
       "    max-height: 300px;\n",
       "    overflow: auto;\n",
       "  }\n",
       "  table, th, td {\n",
       "    border: 1px solid black;\n",
       "    border-collapse: collapse;\n",
       "  }\n",
       "  th, td {\n",
       "    padding: 5px;\n",
       "  }\n",
       "  th {\n",
       "    text-align: left;\n",
       "  }\n",
       "</style><div class='table-result-container'><table class='table-result'><thead style='background-color: white'><tr><th>Pos</th><th>Teams</th><th>Group</th><th>Pld</th><th>W</th><th>D</th><th>L</th><th>GF</th><th>GA</th><th>GD</th><th>Pts</th></tr></thead><tbody><tr><td>1</td><td>Hungary</td><td>A</td><td>3</td><td>2</td><td>0</td><td>1</td><td>10</td><td>7</td><td>3</td><td>6</td></tr><tr><td>2</td><td>Germany</td><td>A</td><td>3</td><td>2</td><td>0</td><td>1</td><td>10</td><td>10</td><td>0</td><td>6</td></tr><tr><td>3</td><td>Scotland</td><td>A</td><td>3</td><td>1</td><td>0</td><td>2</td><td>7</td><td>4</td><td>3</td><td>3</td></tr><tr><td>4</td><td>Switzerland</td><td>A</td><td>3</td><td>1</td><td>0</td><td>2</td><td>2</td><td>8</td><td>-6</td><td>3</td></tr><tr><td></td><td></td><td></td><td></td><td></td><td></td><td></td><td></td><td></td><td></td><td></td></tr><tr><td>1</td><td>Spain</td><td>B</td><td>3</td><td>2</td><td>0</td><td>1</td><td>7</td><td>6</td><td>1</td><td>6</td></tr><tr><td>2</td><td>Italy</td><td>B</td><td>3</td><td>2</td><td>0</td><td>1</td><td>10</td><td>11</td><td>-1</td><td>6</td></tr><tr><td>3</td><td>Croatia</td><td>B</td><td>3</td><td>1</td><td>0</td><td>2</td><td>8</td><td>7</td><td>1</td><td>3</td></tr><tr><td>4</td><td>Albania</td><td>B</td><td>3</td><td>1</td><td>0</td><td>2</td><td>9</td><td>10</td><td>-1</td><td>3</td></tr><tr><td></td><td></td><td></td><td></td><td></td><td></td><td></td><td></td><td></td><td></td><td></td></tr><tr><td>1</td><td>Serbia</td><td>C</td><td>3</td><td>1</td><td>1</td><td>1</td><td>8</td><td>5</td><td>3</td><td>4</td></tr><tr><td>2</td><td>Denmark</td><td>C</td><td>3</td><td>1</td><td>1</td><td>1</td><td>9</td><td>9</td><td>0</td><td>4</td></tr><tr><td>3</td><td>England</td><td>C</td><td>3</td><td>1</td><td>1</td><td>1</td><td>8</td><td>8</td><td>0</td><td>4</td></tr><tr><td>4</td><td>Slovenia</td><td>C</td><td>3</td><td>1</td><td>1</td><td>1</td><td>8</td><td>11</td><td>-3</td><td>4</td></tr><tr><td></td><td></td><td></td><td></td><td></td><td></td><td></td><td></td><td></td><td></td><td></td></tr><tr><td>1</td><td>Play-off Winner A</td><td>D</td><td>3</td><td>3</td><td>0</td><td>0</td><td>7</td><td>3</td><td>4</td><td>9</td></tr><tr><td>2</td><td>France</td><td>D</td><td>3</td><td>2</td><td>0</td><td>1</td><td>8</td><td>4</td><td>4</td><td>6</td></tr><tr><td>3</td><td>Austria</td><td>D</td><td>3</td><td>1</td><td>0</td><td>2</td><td>8</td><td>10</td><td>-2</td><td>3</td></tr><tr><td>4</td><td>Netherlands</td><td>D</td><td>3</td><td>0</td><td>0</td><td>3</td><td>0</td><td>6</td><td>-6</td><td>0</td></tr><tr><td></td><td></td><td></td><td></td><td></td><td></td><td></td><td></td><td></td><td></td><td></td></tr><tr><td>1</td><td>Slovakia</td><td>E</td><td>3</td><td>2</td><td>1</td><td>0</td><td>10</td><td>4</td><td>6</td><td>7</td></tr><tr><td>2</td><td>Belgium</td><td>E</td><td>3</td><td>2</td><td>0</td><td>1</td><td>8</td><td>10</td><td>-2</td><td>6</td></tr><tr><td>3</td><td>Romania</td><td>E</td><td>3</td><td>1</td><td>1</td><td>1</td><td>4</td><td>4</td><td>0</td><td>4</td></tr><tr><td>4</td><td>Play-off Winner B</td><td>E</td><td>3</td><td>0</td><td>0</td><td>3</td><td>6</td><td>10</td><td>-4</td><td>0</td></tr><tr><td></td><td></td><td></td><td></td><td></td><td></td><td></td><td></td><td></td><td></td><td></td></tr><tr><td>1</td><td>Turkey</td><td>F</td><td>3</td><td>2</td><td>0</td><td>1</td><td>5</td><td>3</td><td>2</td><td>6</td></tr><tr><td>2</td><td>Portugal</td><td>F</td><td>3</td><td>2</td><td>0</td><td>1</td><td>8</td><td>8</td><td>0</td><td>6</td></tr><tr><td>3</td><td>Play-off Winner C</td><td>F</td><td>3</td><td>1</td><td>0</td><td>2</td><td>8</td><td>5</td><td>3</td><td>3</td></tr><tr><td>4</td><td>Czech Republic</td><td>F</td><td>3</td><td>1</td><td>0</td><td>2</td><td>5</td><td>10</td><td>-5</td><td>3</td></tr></tbody></table></div>"
      ]
     },
     "metadata": {
      "application/vnd.databricks.v1+output": {
       "addedWidgets": {},
       "aggData": [],
       "aggError": "",
       "aggOverflow": false,
       "aggSchema": [],
       "aggSeriesLimitReached": false,
       "aggType": "",
       "arguments": {},
       "columnCustomDisplayInfos": {},
       "data": [
        [
         "1",
         "Hungary",
         "A",
         "3",
         "2",
         "0",
         "1",
         "10",
         "7",
         "3",
         "6"
        ],
        [
         "2",
         "Germany",
         "A",
         "3",
         "2",
         "0",
         "1",
         "10",
         "10",
         "0",
         "6"
        ],
        [
         "3",
         "Scotland",
         "A",
         "3",
         "1",
         "0",
         "2",
         "7",
         "4",
         "3",
         "3"
        ],
        [
         "4",
         "Switzerland",
         "A",
         "3",
         "1",
         "0",
         "2",
         "2",
         "8",
         "-6",
         "3"
        ],
        [
         "",
         "",
         "",
         "",
         "",
         "",
         "",
         "",
         "",
         "",
         ""
        ],
        [
         "1",
         "Spain",
         "B",
         "3",
         "2",
         "0",
         "1",
         "7",
         "6",
         "1",
         "6"
        ],
        [
         "2",
         "Italy",
         "B",
         "3",
         "2",
         "0",
         "1",
         "10",
         "11",
         "-1",
         "6"
        ],
        [
         "3",
         "Croatia",
         "B",
         "3",
         "1",
         "0",
         "2",
         "8",
         "7",
         "1",
         "3"
        ],
        [
         "4",
         "Albania",
         "B",
         "3",
         "1",
         "0",
         "2",
         "9",
         "10",
         "-1",
         "3"
        ],
        [
         "",
         "",
         "",
         "",
         "",
         "",
         "",
         "",
         "",
         "",
         ""
        ],
        [
         "1",
         "Serbia",
         "C",
         "3",
         "1",
         "1",
         "1",
         "8",
         "5",
         "3",
         "4"
        ],
        [
         "2",
         "Denmark",
         "C",
         "3",
         "1",
         "1",
         "1",
         "9",
         "9",
         "0",
         "4"
        ],
        [
         "3",
         "England",
         "C",
         "3",
         "1",
         "1",
         "1",
         "8",
         "8",
         "0",
         "4"
        ],
        [
         "4",
         "Slovenia",
         "C",
         "3",
         "1",
         "1",
         "1",
         "8",
         "11",
         "-3",
         "4"
        ],
        [
         "",
         "",
         "",
         "",
         "",
         "",
         "",
         "",
         "",
         "",
         ""
        ],
        [
         "1",
         "Play-off Winner A",
         "D",
         "3",
         "3",
         "0",
         "0",
         "7",
         "3",
         "4",
         "9"
        ],
        [
         "2",
         "France",
         "D",
         "3",
         "2",
         "0",
         "1",
         "8",
         "4",
         "4",
         "6"
        ],
        [
         "3",
         "Austria",
         "D",
         "3",
         "1",
         "0",
         "2",
         "8",
         "10",
         "-2",
         "3"
        ],
        [
         "4",
         "Netherlands",
         "D",
         "3",
         "0",
         "0",
         "3",
         "0",
         "6",
         "-6",
         "0"
        ],
        [
         "",
         "",
         "",
         "",
         "",
         "",
         "",
         "",
         "",
         "",
         ""
        ],
        [
         "1",
         "Slovakia",
         "E",
         "3",
         "2",
         "1",
         "0",
         "10",
         "4",
         "6",
         "7"
        ],
        [
         "2",
         "Belgium",
         "E",
         "3",
         "2",
         "0",
         "1",
         "8",
         "10",
         "-2",
         "6"
        ],
        [
         "3",
         "Romania",
         "E",
         "3",
         "1",
         "1",
         "1",
         "4",
         "4",
         "0",
         "4"
        ],
        [
         "4",
         "Play-off Winner B",
         "E",
         "3",
         "0",
         "0",
         "3",
         "6",
         "10",
         "-4",
         "0"
        ],
        [
         "",
         "",
         "",
         "",
         "",
         "",
         "",
         "",
         "",
         "",
         ""
        ],
        [
         "1",
         "Turkey",
         "F",
         "3",
         "2",
         "0",
         "1",
         "5",
         "3",
         "2",
         "6"
        ],
        [
         "2",
         "Portugal",
         "F",
         "3",
         "2",
         "0",
         "1",
         "8",
         "8",
         "0",
         "6"
        ],
        [
         "3",
         "Play-off Winner C",
         "F",
         "3",
         "1",
         "0",
         "2",
         "8",
         "5",
         "3",
         "3"
        ],
        [
         "4",
         "Czech Republic",
         "F",
         "3",
         "1",
         "0",
         "2",
         "5",
         "10",
         "-5",
         "3"
        ]
       ],
       "datasetInfos": [],
       "dbfsResultPath": null,
       "isJsonSchema": true,
       "metadata": {},
       "overflow": false,
       "plotOptions": {
        "customPlotOptions": {},
        "displayType": "table",
        "pivotAggregation": null,
        "pivotColumns": null,
        "xColumns": null,
        "yColumns": null
       },
       "removedWidgets": [],
       "schema": [
        {
         "metadata": "{}",
         "name": "Pos",
         "type": "\"string\""
        },
        {
         "metadata": "{}",
         "name": "Teams",
         "type": "\"string\""
        },
        {
         "metadata": "{}",
         "name": "Group",
         "type": "\"string\""
        },
        {
         "metadata": "{}",
         "name": "Pld",
         "type": "\"string\""
        },
        {
         "metadata": "{}",
         "name": "W",
         "type": "\"string\""
        },
        {
         "metadata": "{}",
         "name": "D",
         "type": "\"string\""
        },
        {
         "metadata": "{}",
         "name": "L",
         "type": "\"string\""
        },
        {
         "metadata": "{}",
         "name": "GF",
         "type": "\"string\""
        },
        {
         "metadata": "{}",
         "name": "GA",
         "type": "\"string\""
        },
        {
         "metadata": "{}",
         "name": "GD",
         "type": "\"string\""
        },
        {
         "metadata": "{}",
         "name": "Pts",
         "type": "\"string\""
        }
       ],
       "type": "table"
      }
     },
     "output_type": "display_data"
    },
    {
     "output_type": "stream",
     "name": "stdout",
     "output_type": "stream",
     "text": [
      "14\n"
     ]
    }
   ],
   "source": [
    "# Create table visualization DataFrame\n",
    "table_visualization = pd.DataFrame({\n",
    "    'Pos': all_teams_stats_df['rnk'],\n",
    "    'Teams': all_teams_stats_df['TeamID'],\n",
    "    'Group': all_teams_stats_df['GroupName'],\n",
    "    'Pld': all_teams_stats_df['MatchesPlayed'],\n",
    "    'W': all_teams_stats_df['Wins'],\n",
    "    'D': all_teams_stats_df['Draws'],\n",
    "    'L': all_teams_stats_df['Losses'],\n",
    "    'GF': all_teams_stats_df['GoalsScored'],\n",
    "    'GA': all_teams_stats_df['GoalsAllowed'],\n",
    "    'GD': all_teams_stats_df['GoalDifference'],\n",
    "    'Pts': all_teams_stats_df['Points']\n",
    "})\n",
    "\n",
    "blank_row = {col: '' for col in table_visualization.columns}\n",
    "\n",
    "\n",
    "blank_row_df = pd.DataFrame([blank_row])\n",
    "\n",
    "# Divide the each teams into group of four\n",
    "groups = [table_visualization.iloc[i:i+4] for i in range(0, len(table_visualization), 4)]\n",
    "\n",
    "for i in range(len(groups)):\n",
    "    if i < len(groups) - 1:\n",
    "        groups[i] = pd.concat([groups[i], blank_row_df], ignore_index=True)\n",
    "\n",
    "visualization_with_space = pd.concat(groups).reset_index(drop=True)\n",
    "\n",
    "# Calculate the middle part of the full table\n",
    "half_table_index = len(visualization_with_space) // 2\n",
    "spark.conf.set(\"spark.sql.execution.arrow.pyspark.enabled\", \"false\")\n",
    "\n",
    "display(visualization_with_space)\n",
    "print(half_table_index)\n"
   ]
  },
  {
   "cell_type": "code",
   "execution_count": 0,
   "metadata": {
    "application/vnd.databricks.v1+cell": {
     "cellMetadata": {
      "byteLimit": 2048000,
      "rowLimit": 10000
     },
     "inputWidgets": {},
     "nuid": "b44a00b1-b22b-4131-82fc-24fc52a6471e",
     "showTitle": false,
     "title": ""
    }
   },
   "outputs": [
    {
     "output_type": "display_data",
     "data": {
      "text/html": [
       "<style scoped>\n",
       "  .table-result-container {\n",
       "    max-height: 300px;\n",
       "    overflow: auto;\n",
       "  }\n",
       "  table, th, td {\n",
       "    border: 1px solid black;\n",
       "    border-collapse: collapse;\n",
       "  }\n",
       "  th, td {\n",
       "    padding: 5px;\n",
       "  }\n",
       "  th {\n",
       "    text-align: left;\n",
       "  }\n",
       "</style><div class='table-result-container'><table class='table-result'><thead style='background-color: white'><tr><th>Pos</th><th>Teams</th><th>Group</th><th>Pld</th><th>W</th><th>D</th><th>L</th><th>GF</th><th>GA</th><th>GD</th><th>Pts</th></tr></thead><tbody><tr><td></td><td></td><td></td><td></td><td></td><td></td><td></td><td></td><td></td><td></td><td></td></tr><tr><td>1</td><td>Hungary</td><td>A</td><td>3</td><td>2</td><td>0</td><td>1</td><td>10</td><td>7</td><td>3</td><td>6</td></tr><tr><td>2</td><td>Germany</td><td>A</td><td>3</td><td>2</td><td>0</td><td>1</td><td>10</td><td>10</td><td>0</td><td>6</td></tr><tr><td>3</td><td>Scotland</td><td>A</td><td>3</td><td>1</td><td>0</td><td>2</td><td>7</td><td>4</td><td>3</td><td>3</td></tr><tr><td>4</td><td>Switzerland</td><td>A</td><td>3</td><td>1</td><td>0</td><td>2</td><td>2</td><td>8</td><td>-6</td><td>3</td></tr><tr><td></td><td></td><td></td><td></td><td></td><td></td><td></td><td></td><td></td><td></td><td></td></tr><tr><td>1</td><td>Spain</td><td>B</td><td>3</td><td>2</td><td>0</td><td>1</td><td>7</td><td>6</td><td>1</td><td>6</td></tr><tr><td>2</td><td>Italy</td><td>B</td><td>3</td><td>2</td><td>0</td><td>1</td><td>10</td><td>11</td><td>-1</td><td>6</td></tr><tr><td>3</td><td>Croatia</td><td>B</td><td>3</td><td>1</td><td>0</td><td>2</td><td>8</td><td>7</td><td>1</td><td>3</td></tr><tr><td>4</td><td>Albania</td><td>B</td><td>3</td><td>1</td><td>0</td><td>2</td><td>9</td><td>10</td><td>-1</td><td>3</td></tr><tr><td></td><td></td><td></td><td></td><td></td><td></td><td></td><td></td><td></td><td></td><td></td></tr><tr><td>1</td><td>Serbia</td><td>C</td><td>3</td><td>1</td><td>1</td><td>1</td><td>8</td><td>5</td><td>3</td><td>4</td></tr><tr><td>2</td><td>Denmark</td><td>C</td><td>3</td><td>1</td><td>1</td><td>1</td><td>9</td><td>9</td><td>0</td><td>4</td></tr><tr><td>3</td><td>England</td><td>C</td><td>3</td><td>1</td><td>1</td><td>1</td><td>8</td><td>8</td><td>0</td><td>4</td></tr><tr><td>4</td><td>Slovenia</td><td>C</td><td>3</td><td>1</td><td>1</td><td>1</td><td>8</td><td>11</td><td>-3</td><td>4</td></tr></tbody></table></div>"
      ]
     },
     "metadata": {
      "application/vnd.databricks.v1+output": {
       "addedWidgets": {},
       "aggData": [],
       "aggError": "",
       "aggOverflow": false,
       "aggSchema": [],
       "aggSeriesLimitReached": false,
       "aggType": "",
       "arguments": {},
       "columnCustomDisplayInfos": {},
       "data": [
        [
         "",
         "",
         "",
         "",
         "",
         "",
         "",
         "",
         "",
         "",
         ""
        ],
        [
         "1",
         "Hungary",
         "A",
         "3",
         "2",
         "0",
         "1",
         "10",
         "7",
         "3",
         "6"
        ],
        [
         "2",
         "Germany",
         "A",
         "3",
         "2",
         "0",
         "1",
         "10",
         "10",
         "0",
         "6"
        ],
        [
         "3",
         "Scotland",
         "A",
         "3",
         "1",
         "0",
         "2",
         "7",
         "4",
         "3",
         "3"
        ],
        [
         "4",
         "Switzerland",
         "A",
         "3",
         "1",
         "0",
         "2",
         "2",
         "8",
         "-6",
         "3"
        ],
        [
         "",
         "",
         "",
         "",
         "",
         "",
         "",
         "",
         "",
         "",
         ""
        ],
        [
         "1",
         "Spain",
         "B",
         "3",
         "2",
         "0",
         "1",
         "7",
         "6",
         "1",
         "6"
        ],
        [
         "2",
         "Italy",
         "B",
         "3",
         "2",
         "0",
         "1",
         "10",
         "11",
         "-1",
         "6"
        ],
        [
         "3",
         "Croatia",
         "B",
         "3",
         "1",
         "0",
         "2",
         "8",
         "7",
         "1",
         "3"
        ],
        [
         "4",
         "Albania",
         "B",
         "3",
         "1",
         "0",
         "2",
         "9",
         "10",
         "-1",
         "3"
        ],
        [
         "",
         "",
         "",
         "",
         "",
         "",
         "",
         "",
         "",
         "",
         ""
        ],
        [
         "1",
         "Serbia",
         "C",
         "3",
         "1",
         "1",
         "1",
         "8",
         "5",
         "3",
         "4"
        ],
        [
         "2",
         "Denmark",
         "C",
         "3",
         "1",
         "1",
         "1",
         "9",
         "9",
         "0",
         "4"
        ],
        [
         "3",
         "England",
         "C",
         "3",
         "1",
         "1",
         "1",
         "8",
         "8",
         "0",
         "4"
        ],
        [
         "4",
         "Slovenia",
         "C",
         "3",
         "1",
         "1",
         "1",
         "8",
         "11",
         "-3",
         "4"
        ]
       ],
       "datasetInfos": [],
       "dbfsResultPath": null,
       "isJsonSchema": true,
       "metadata": {},
       "overflow": false,
       "plotOptions": {
        "customPlotOptions": {},
        "displayType": "table",
        "pivotAggregation": null,
        "pivotColumns": null,
        "xColumns": null,
        "yColumns": null
       },
       "removedWidgets": [],
       "schema": [
        {
         "metadata": "{}",
         "name": "Pos",
         "type": "\"string\""
        },
        {
         "metadata": "{}",
         "name": "Teams",
         "type": "\"string\""
        },
        {
         "metadata": "{}",
         "name": "Group",
         "type": "\"string\""
        },
        {
         "metadata": "{}",
         "name": "Pld",
         "type": "\"string\""
        },
        {
         "metadata": "{}",
         "name": "W",
         "type": "\"string\""
        },
        {
         "metadata": "{}",
         "name": "D",
         "type": "\"string\""
        },
        {
         "metadata": "{}",
         "name": "L",
         "type": "\"string\""
        },
        {
         "metadata": "{}",
         "name": "GF",
         "type": "\"string\""
        },
        {
         "metadata": "{}",
         "name": "GA",
         "type": "\"string\""
        },
        {
         "metadata": "{}",
         "name": "GD",
         "type": "\"string\""
        },
        {
         "metadata": "{}",
         "name": "Pts",
         "type": "\"string\""
        }
       ],
       "type": "table"
      }
     },
     "output_type": "display_data"
    },
    {
     "output_type": "display_data",
     "data": {
      "text/html": [
       "<style scoped>\n",
       "  .table-result-container {\n",
       "    max-height: 300px;\n",
       "    overflow: auto;\n",
       "  }\n",
       "  table, th, td {\n",
       "    border: 1px solid black;\n",
       "    border-collapse: collapse;\n",
       "  }\n",
       "  th, td {\n",
       "    padding: 5px;\n",
       "  }\n",
       "  th {\n",
       "    text-align: left;\n",
       "  }\n",
       "</style><div class='table-result-container'><table class='table-result'><thead style='background-color: white'><tr><th>Pos</th><th>Teams</th><th>Group</th><th>Pld</th><th>W</th><th>D</th><th>L</th><th>GF</th><th>GA</th><th>GD</th><th>Pts</th></tr></thead><tbody><tr><td></td><td></td><td></td><td></td><td></td><td></td><td></td><td></td><td></td><td></td><td></td></tr><tr><td>1</td><td>Play-off Winner A</td><td>D</td><td>3</td><td>3</td><td>0</td><td>0</td><td>7</td><td>3</td><td>4</td><td>9</td></tr><tr><td>2</td><td>France</td><td>D</td><td>3</td><td>2</td><td>0</td><td>1</td><td>8</td><td>4</td><td>4</td><td>6</td></tr><tr><td>3</td><td>Austria</td><td>D</td><td>3</td><td>1</td><td>0</td><td>2</td><td>8</td><td>10</td><td>-2</td><td>3</td></tr><tr><td>4</td><td>Netherlands</td><td>D</td><td>3</td><td>0</td><td>0</td><td>3</td><td>0</td><td>6</td><td>-6</td><td>0</td></tr><tr><td></td><td></td><td></td><td></td><td></td><td></td><td></td><td></td><td></td><td></td><td></td></tr><tr><td>1</td><td>Slovakia</td><td>E</td><td>3</td><td>2</td><td>1</td><td>0</td><td>10</td><td>4</td><td>6</td><td>7</td></tr><tr><td>2</td><td>Belgium</td><td>E</td><td>3</td><td>2</td><td>0</td><td>1</td><td>8</td><td>10</td><td>-2</td><td>6</td></tr><tr><td>3</td><td>Romania</td><td>E</td><td>3</td><td>1</td><td>1</td><td>1</td><td>4</td><td>4</td><td>0</td><td>4</td></tr><tr><td>4</td><td>Play-off Winner B</td><td>E</td><td>3</td><td>0</td><td>0</td><td>3</td><td>6</td><td>10</td><td>-4</td><td>0</td></tr><tr><td></td><td></td><td></td><td></td><td></td><td></td><td></td><td></td><td></td><td></td><td></td></tr><tr><td>1</td><td>Turkey</td><td>F</td><td>3</td><td>2</td><td>0</td><td>1</td><td>5</td><td>3</td><td>2</td><td>6</td></tr><tr><td>2</td><td>Portugal</td><td>F</td><td>3</td><td>2</td><td>0</td><td>1</td><td>8</td><td>8</td><td>0</td><td>6</td></tr><tr><td>3</td><td>Play-off Winner C</td><td>F</td><td>3</td><td>1</td><td>0</td><td>2</td><td>8</td><td>5</td><td>3</td><td>3</td></tr><tr><td>4</td><td>Czech Republic</td><td>F</td><td>3</td><td>1</td><td>0</td><td>2</td><td>5</td><td>10</td><td>-5</td><td>3</td></tr></tbody></table></div>"
      ]
     },
     "metadata": {
      "application/vnd.databricks.v1+output": {
       "addedWidgets": {},
       "aggData": [],
       "aggError": "",
       "aggOverflow": false,
       "aggSchema": [],
       "aggSeriesLimitReached": false,
       "aggType": "",
       "arguments": {},
       "columnCustomDisplayInfos": {},
       "data": [
        [
         "",
         "",
         "",
         "",
         "",
         "",
         "",
         "",
         "",
         "",
         ""
        ],
        [
         "1",
         "Play-off Winner A",
         "D",
         "3",
         "3",
         "0",
         "0",
         "7",
         "3",
         "4",
         "9"
        ],
        [
         "2",
         "France",
         "D",
         "3",
         "2",
         "0",
         "1",
         "8",
         "4",
         "4",
         "6"
        ],
        [
         "3",
         "Austria",
         "D",
         "3",
         "1",
         "0",
         "2",
         "8",
         "10",
         "-2",
         "3"
        ],
        [
         "4",
         "Netherlands",
         "D",
         "3",
         "0",
         "0",
         "3",
         "0",
         "6",
         "-6",
         "0"
        ],
        [
         "",
         "",
         "",
         "",
         "",
         "",
         "",
         "",
         "",
         "",
         ""
        ],
        [
         "1",
         "Slovakia",
         "E",
         "3",
         "2",
         "1",
         "0",
         "10",
         "4",
         "6",
         "7"
        ],
        [
         "2",
         "Belgium",
         "E",
         "3",
         "2",
         "0",
         "1",
         "8",
         "10",
         "-2",
         "6"
        ],
        [
         "3",
         "Romania",
         "E",
         "3",
         "1",
         "1",
         "1",
         "4",
         "4",
         "0",
         "4"
        ],
        [
         "4",
         "Play-off Winner B",
         "E",
         "3",
         "0",
         "0",
         "3",
         "6",
         "10",
         "-4",
         "0"
        ],
        [
         "",
         "",
         "",
         "",
         "",
         "",
         "",
         "",
         "",
         "",
         ""
        ],
        [
         "1",
         "Turkey",
         "F",
         "3",
         "2",
         "0",
         "1",
         "5",
         "3",
         "2",
         "6"
        ],
        [
         "2",
         "Portugal",
         "F",
         "3",
         "2",
         "0",
         "1",
         "8",
         "8",
         "0",
         "6"
        ],
        [
         "3",
         "Play-off Winner C",
         "F",
         "3",
         "1",
         "0",
         "2",
         "8",
         "5",
         "3",
         "3"
        ],
        [
         "4",
         "Czech Republic",
         "F",
         "3",
         "1",
         "0",
         "2",
         "5",
         "10",
         "-5",
         "3"
        ]
       ],
       "datasetInfos": [],
       "dbfsResultPath": null,
       "isJsonSchema": true,
       "metadata": {},
       "overflow": false,
       "plotOptions": {
        "customPlotOptions": {},
        "displayType": "table",
        "pivotAggregation": null,
        "pivotColumns": null,
        "xColumns": null,
        "yColumns": null
       },
       "removedWidgets": [],
       "schema": [
        {
         "metadata": "{}",
         "name": "Pos",
         "type": "\"string\""
        },
        {
         "metadata": "{}",
         "name": "Teams",
         "type": "\"string\""
        },
        {
         "metadata": "{}",
         "name": "Group",
         "type": "\"string\""
        },
        {
         "metadata": "{}",
         "name": "Pld",
         "type": "\"string\""
        },
        {
         "metadata": "{}",
         "name": "W",
         "type": "\"string\""
        },
        {
         "metadata": "{}",
         "name": "D",
         "type": "\"string\""
        },
        {
         "metadata": "{}",
         "name": "L",
         "type": "\"string\""
        },
        {
         "metadata": "{}",
         "name": "GF",
         "type": "\"string\""
        },
        {
         "metadata": "{}",
         "name": "GA",
         "type": "\"string\""
        },
        {
         "metadata": "{}",
         "name": "GD",
         "type": "\"string\""
        },
        {
         "metadata": "{}",
         "name": "Pts",
         "type": "\"string\""
        }
       ],
       "type": "table"
      }
     },
     "output_type": "display_data"
    }
   ],
   "source": [
    "#Table information for the Group A,B,C\n",
    "left_table = pd.DataFrame(columns=['Pos','Teams','Group','Pld','W','D','L','GF','GA','GD','Pts'])\n",
    "left_table = pd.concat([left_table, pd.DataFrame([blank_row])], ignore_index=True)\n",
    "left_table = pd.concat([left_table, visualization_with_space.iloc[:half_table_index]]).reset_index(drop=True)\n",
    "\n",
    "#Table information for the group C,D,E\n",
    "right_table = pd.DataFrame(columns=['Pos','Teams','Group','Pld','W','D','L','GF','GA','GD','Pts'])\n",
    "right_table = pd.concat([right_table, visualization_with_space.iloc[half_table_index +1:]]).reset_index(drop=True)\n",
    "right_table = pd.concat([pd.DataFrame([blank_row]), right_table], ignore_index=True)\n",
    "\n",
    "display(left_table)\n",
    "display(right_table)"
   ]
  },
  {
   "cell_type": "markdown",
   "metadata": {
    "application/vnd.databricks.v1+cell": {
     "cellMetadata": {
      "byteLimit": 2048000,
      "rowLimit": 10000
     },
     "inputWidgets": {},
     "nuid": "6093f896-e289-440c-8462-0b2756770a79",
     "showTitle": false,
     "title": ""
    }
   },
   "source": [
    "## Visulizing the Round of 16 Qualification By Splitting into two Pools Left and Right"
   ]
  },
  {
   "cell_type": "code",
   "execution_count": 0,
   "metadata": {
    "application/vnd.databricks.v1+cell": {
     "cellMetadata": {
      "byteLimit": 2048000,
      "rowLimit": 10000
     },
     "inputWidgets": {},
     "nuid": "104fac0e-07e2-4fef-b05f-23ce39b83c94",
     "showTitle": false,
     "title": ""
    }
   },
   "outputs": [
    {
     "output_type": "stream",
     "name": "stdout",
     "output_type": "stream",
     "text": [
      "17\n"
     ]
    },
    {
     "output_type": "display_data",
     "data": {
      "text/html": [
       "<style scoped>\n",
       "  .table-result-container {\n",
       "    max-height: 300px;\n",
       "    overflow: auto;\n",
       "  }\n",
       "  table, th, td {\n",
       "    border: 1px solid black;\n",
       "    border-collapse: collapse;\n",
       "  }\n",
       "  th, td {\n",
       "    padding: 5px;\n",
       "  }\n",
       "  th {\n",
       "    text-align: left;\n",
       "  }\n",
       "</style><div class='table-result-container'><table class='table-result'><thead style='background-color: white'><tr><th>Round_of_16</th><th>rest</th></tr></thead><tbody><tr><td></td><td></td></tr><tr><td></td><td></td></tr><tr><td>Spain (0)</td><td></td></tr><tr><td>Scotland (4)</td><td></td></tr><tr><td></td><td></td></tr><tr><td></td><td></td></tr><tr><td>Hungary (3)</td><td></td></tr><tr><td>Denmark (3)</td><td></td></tr><tr><td></td><td></td></tr><tr><td></td><td></td></tr><tr><td>Turkey (3)</td><td></td></tr><tr><td>England (0)</td><td></td></tr><tr><td></td><td></td></tr><tr><td></td><td></td></tr><tr><td>France (1)</td><td></td></tr><tr><td>Belgium (5)</td><td></td></tr><tr><td></td><td></td></tr><tr><td></td><td></td></tr><tr><td>Slovakia (5)</td><td></td></tr><tr><td>Croatia (4)</td><td></td></tr><tr><td></td><td></td></tr><tr><td></td><td></td></tr><tr><td>France (2)</td><td></td></tr><tr><td>Portugal (3)</td><td></td></tr><tr><td></td><td></td></tr><tr><td></td><td></td></tr><tr><td>Serbia (5)</td><td></td></tr><tr><td>Austria (3)</td><td></td></tr><tr><td></td><td></td></tr><tr><td></td><td></td></tr><tr><td>Germany (4)</td><td></td></tr><tr><td>Italy (2)</td><td></td></tr><tr><td></td><td></td></tr><tr><td></td><td></td></tr></tbody></table></div>"
      ]
     },
     "metadata": {
      "application/vnd.databricks.v1+output": {
       "addedWidgets": {},
       "aggData": [],
       "aggError": "",
       "aggOverflow": false,
       "aggSchema": [],
       "aggSeriesLimitReached": false,
       "aggType": "",
       "arguments": {},
       "columnCustomDisplayInfos": {},
       "data": [
        [
         "",
         ""
        ],
        [
         "",
         ""
        ],
        [
         "Spain (0)",
         ""
        ],
        [
         "Scotland (4)",
         ""
        ],
        [
         "",
         ""
        ],
        [
         "",
         ""
        ],
        [
         "Hungary (3)",
         ""
        ],
        [
         "Denmark (3)",
         ""
        ],
        [
         "",
         ""
        ],
        [
         "",
         ""
        ],
        [
         "Turkey (3)",
         ""
        ],
        [
         "England (0)",
         ""
        ],
        [
         "",
         ""
        ],
        [
         "",
         ""
        ],
        [
         "France (1)",
         ""
        ],
        [
         "Belgium (5)",
         ""
        ],
        [
         "",
         ""
        ],
        [
         "",
         ""
        ],
        [
         "Slovakia (5)",
         ""
        ],
        [
         "Croatia (4)",
         ""
        ],
        [
         "",
         ""
        ],
        [
         "",
         ""
        ],
        [
         "France (2)",
         ""
        ],
        [
         "Portugal (3)",
         ""
        ],
        [
         "",
         ""
        ],
        [
         "",
         ""
        ],
        [
         "Serbia (5)",
         ""
        ],
        [
         "Austria (3)",
         ""
        ],
        [
         "",
         ""
        ],
        [
         "",
         ""
        ],
        [
         "Germany (4)",
         ""
        ],
        [
         "Italy (2)",
         ""
        ],
        [
         "",
         ""
        ],
        [
         "",
         ""
        ]
       ],
       "datasetInfos": [],
       "dbfsResultPath": null,
       "isJsonSchema": true,
       "metadata": {},
       "overflow": false,
       "plotOptions": {
        "customPlotOptions": {},
        "displayType": "table",
        "pivotAggregation": null,
        "pivotColumns": null,
        "xColumns": null,
        "yColumns": null
       },
       "removedWidgets": [],
       "schema": [
        {
         "metadata": "{}",
         "name": "Round_of_16",
         "type": "\"string\""
        },
        {
         "metadata": "{}",
         "name": "rest",
         "type": "\"string\""
        }
       ],
       "type": "table"
      }
     },
     "output_type": "display_data"
    }
   ],
   "source": [
    "# Create an empty DataFrame for round of sixteen\n",
    "visualize_r16 = pd.DataFrame(columns=['Round_of_16', 'rest'])\n",
    "\n",
    "for _ in range(2):\n",
    "    visualize_r16 = pd.concat([visualize_r16, pd.DataFrame({'Round_of_16': ['']})], ignore_index=True)\n",
    "\n",
    "for index, row in round_of_16_df.iterrows():\n",
    "    visualize_r16 = pd.concat([visualize_r16, pd.DataFrame({'Round_of_16': [f\"{row['HomeTeam']} ({row['HomeTeamGoals']})\"]})], ignore_index=True)\n",
    "    visualize_r16 = pd.concat([visualize_r16, pd.DataFrame({'Round_of_16': [f\"{row['AwayTeam']} ({row['AwayTeamGoals']})\"]})], ignore_index=True)\n",
    "\n",
    "    for _ in range(2):\n",
    "        visualize_r16 = pd.concat([visualize_r16, pd.DataFrame({'Round_of_16': ['']})], ignore_index=True)\n",
    "\n",
    "visualize_r16['rest'] = ''\n",
    "\n",
    "splited_r16_index = len(visualize_r16) // 2\n",
    "print(splited_r16_index)\n",
    "display(visualize_r16)\n"
   ]
  },
  {
   "cell_type": "code",
   "execution_count": 0,
   "metadata": {
    "application/vnd.databricks.v1+cell": {
     "cellMetadata": {
      "byteLimit": 2048000,
      "rowLimit": 10000
     },
     "inputWidgets": {},
     "nuid": "a6a44471-84ab-4391-a5f0-564d62de2cd9",
     "showTitle": false,
     "title": ""
    }
   },
   "outputs": [
    {
     "output_type": "display_data",
     "data": {
      "text/html": [
       "<style scoped>\n",
       "  .table-result-container {\n",
       "    max-height: 300px;\n",
       "    overflow: auto;\n",
       "  }\n",
       "  table, th, td {\n",
       "    border: 1px solid black;\n",
       "    border-collapse: collapse;\n",
       "  }\n",
       "  th, td {\n",
       "    padding: 5px;\n",
       "  }\n",
       "  th {\n",
       "    text-align: left;\n",
       "  }\n",
       "</style><div class='table-result-container'><table class='table-result'><thead style='background-color: white'><tr><th>Round_of_16</th><th>rest</th></tr></thead><tbody><tr><td></td><td></td></tr><tr><td></td><td></td></tr><tr><td>Spain (0)</td><td></td></tr><tr><td>Scotland (4)</td><td></td></tr><tr><td></td><td></td></tr><tr><td></td><td></td></tr><tr><td>Hungary (3)</td><td></td></tr><tr><td>Denmark (3)</td><td></td></tr><tr><td></td><td></td></tr><tr><td></td><td></td></tr><tr><td>Turkey (3)</td><td></td></tr><tr><td>England (0)</td><td></td></tr><tr><td></td><td></td></tr><tr><td></td><td></td></tr><tr><td>France (1)</td><td></td></tr><tr><td>Belgium (5)</td><td></td></tr><tr><td></td><td></td></tr><tr><td></td><td></td></tr></tbody></table></div>"
      ]
     },
     "metadata": {
      "application/vnd.databricks.v1+output": {
       "addedWidgets": {},
       "aggData": [],
       "aggError": "",
       "aggOverflow": false,
       "aggSchema": [],
       "aggSeriesLimitReached": false,
       "aggType": "",
       "arguments": {},
       "columnCustomDisplayInfos": {},
       "data": [
        [
         "",
         ""
        ],
        [
         "",
         ""
        ],
        [
         "Spain (0)",
         ""
        ],
        [
         "Scotland (4)",
         ""
        ],
        [
         "",
         ""
        ],
        [
         "",
         ""
        ],
        [
         "Hungary (3)",
         ""
        ],
        [
         "Denmark (3)",
         ""
        ],
        [
         "",
         ""
        ],
        [
         "",
         ""
        ],
        [
         "Turkey (3)",
         ""
        ],
        [
         "England (0)",
         ""
        ],
        [
         "",
         ""
        ],
        [
         "",
         ""
        ],
        [
         "France (1)",
         ""
        ],
        [
         "Belgium (5)",
         ""
        ],
        [
         "",
         ""
        ],
        [
         "",
         ""
        ]
       ],
       "datasetInfos": [],
       "dbfsResultPath": null,
       "isJsonSchema": true,
       "metadata": {},
       "overflow": false,
       "plotOptions": {
        "customPlotOptions": {},
        "displayType": "table",
        "pivotAggregation": null,
        "pivotColumns": null,
        "xColumns": null,
        "yColumns": null
       },
       "removedWidgets": [],
       "schema": [
        {
         "metadata": "{}",
         "name": "Round_of_16",
         "type": "\"string\""
        },
        {
         "metadata": "{}",
         "name": "rest",
         "type": "\"string\""
        }
       ],
       "type": "table"
      }
     },
     "output_type": "display_data"
    },
    {
     "output_type": "display_data",
     "data": {
      "text/html": [
       "<style scoped>\n",
       "  .table-result-container {\n",
       "    max-height: 300px;\n",
       "    overflow: auto;\n",
       "  }\n",
       "  table, th, td {\n",
       "    border: 1px solid black;\n",
       "    border-collapse: collapse;\n",
       "  }\n",
       "  th, td {\n",
       "    padding: 5px;\n",
       "  }\n",
       "  th {\n",
       "    text-align: left;\n",
       "  }\n",
       "</style><div class='table-result-container'><table class='table-result'><thead style='background-color: white'><tr><th>Round_of_16</th><th>rest</th></tr></thead><tbody><tr><td></td><td></td></tr><tr><td></td><td></td></tr><tr><td>Slovakia (5)</td><td></td></tr><tr><td>Croatia (4)</td><td></td></tr><tr><td></td><td></td></tr><tr><td></td><td></td></tr><tr><td>France (2)</td><td></td></tr><tr><td>Portugal (3)</td><td></td></tr><tr><td></td><td></td></tr><tr><td></td><td></td></tr><tr><td>Serbia (5)</td><td></td></tr><tr><td>Austria (3)</td><td></td></tr><tr><td></td><td></td></tr><tr><td></td><td></td></tr><tr><td>Germany (4)</td><td></td></tr><tr><td>Italy (2)</td><td></td></tr><tr><td></td><td></td></tr><tr><td></td><td></td></tr></tbody></table></div>"
      ]
     },
     "metadata": {
      "application/vnd.databricks.v1+output": {
       "addedWidgets": {},
       "aggData": [],
       "aggError": "",
       "aggOverflow": false,
       "aggSchema": [],
       "aggSeriesLimitReached": false,
       "aggType": "",
       "arguments": {},
       "columnCustomDisplayInfos": {},
       "data": [
        [
         "",
         ""
        ],
        [
         "",
         ""
        ],
        [
         "Slovakia (5)",
         ""
        ],
        [
         "Croatia (4)",
         ""
        ],
        [
         "",
         ""
        ],
        [
         "",
         ""
        ],
        [
         "France (2)",
         ""
        ],
        [
         "Portugal (3)",
         ""
        ],
        [
         "",
         ""
        ],
        [
         "",
         ""
        ],
        [
         "Serbia (5)",
         ""
        ],
        [
         "Austria (3)",
         ""
        ],
        [
         "",
         ""
        ],
        [
         "",
         ""
        ],
        [
         "Germany (4)",
         ""
        ],
        [
         "Italy (2)",
         ""
        ],
        [
         "",
         ""
        ],
        [
         "",
         ""
        ]
       ],
       "datasetInfos": [],
       "dbfsResultPath": null,
       "isJsonSchema": true,
       "metadata": {},
       "overflow": false,
       "plotOptions": {
        "customPlotOptions": {},
        "displayType": "table",
        "pivotAggregation": null,
        "pivotColumns": null,
        "xColumns": null,
        "yColumns": null
       },
       "removedWidgets": [],
       "schema": [
        {
         "metadata": "{}",
         "name": "Round_of_16",
         "type": "\"string\""
        },
        {
         "metadata": "{}",
         "name": "rest",
         "type": "\"string\""
        }
       ],
       "type": "table"
      }
     },
     "output_type": "display_data"
    }
   ],
   "source": [
    "left_side_r16 = visualize_r16.iloc[:splited_r16_index + 1].reset_index(drop = True)\n",
    "right_side_r16 = visualize_r16.iloc[splited_r16_index - 1:].reset_index(drop = True)\n",
    "display(left_side_r16)\n",
    "display(right_side_r16)"
   ]
  },
  {
   "cell_type": "markdown",
   "metadata": {
    "application/vnd.databricks.v1+cell": {
     "cellMetadata": {
      "byteLimit": 2048000,
      "rowLimit": 10000
     },
     "inputWidgets": {},
     "nuid": "fc8355e2-ac93-4f4d-9347-2961345080e0",
     "showTitle": false,
     "title": ""
    }
   },
   "source": [
    "## Visulizing the Quater-Final Qualification"
   ]
  },
  {
   "cell_type": "code",
   "execution_count": 0,
   "metadata": {
    "application/vnd.databricks.v1+cell": {
     "cellMetadata": {
      "byteLimit": 2048000,
      "rowLimit": 10000
     },
     "inputWidgets": {},
     "nuid": "2fac5530-568f-4c53-af37-0a6dc30fbafc",
     "showTitle": false,
     "title": ""
    }
   },
   "outputs": [
    {
     "output_type": "display_data",
     "data": {
      "text/html": [
       "<style scoped>\n",
       "  .table-result-container {\n",
       "    max-height: 300px;\n",
       "    overflow: auto;\n",
       "  }\n",
       "  table, th, td {\n",
       "    border: 1px solid black;\n",
       "    border-collapse: collapse;\n",
       "  }\n",
       "  th, td {\n",
       "    padding: 5px;\n",
       "  }\n",
       "  th {\n",
       "    text-align: left;\n",
       "  }\n",
       "</style><div class='table-result-container'><table class='table-result'><thead style='background-color: white'><tr><th>Quater_Final</th><th>rest</th></tr></thead><tbody><tr><td></td><td></td></tr><tr><td></td><td></td></tr><tr><td></td><td></td></tr><tr><td></td><td></td></tr><tr><td>Scotland (5)</td><td></td></tr><tr><td>Denmark (3)</td><td></td></tr><tr><td></td><td></td></tr><tr><td></td><td></td></tr><tr><td></td><td></td></tr><tr><td></td><td></td></tr><tr><td></td><td></td></tr><tr><td></td><td></td></tr><tr><td>Turkey (5)</td><td></td></tr><tr><td>Belgium (1)</td><td></td></tr><tr><td></td><td></td></tr><tr><td></td><td></td></tr><tr><td></td><td></td></tr><tr><td></td><td></td></tr><tr><td></td><td></td></tr><tr><td></td><td></td></tr><tr><td>Slovakia (2)</td><td></td></tr><tr><td>Portugal (0)</td><td></td></tr><tr><td></td><td></td></tr><tr><td></td><td></td></tr><tr><td></td><td></td></tr><tr><td></td><td></td></tr><tr><td></td><td></td></tr><tr><td></td><td></td></tr><tr><td>Serbia (4)</td><td></td></tr><tr><td>Germany (3)</td><td></td></tr><tr><td></td><td></td></tr><tr><td></td><td></td></tr><tr><td></td><td></td></tr><tr><td></td><td></td></tr><tr><td></td><td></td></tr><tr><td></td><td></td></tr></tbody></table></div>"
      ]
     },
     "metadata": {
      "application/vnd.databricks.v1+output": {
       "addedWidgets": {},
       "aggData": [],
       "aggError": "",
       "aggOverflow": false,
       "aggSchema": [],
       "aggSeriesLimitReached": false,
       "aggType": "",
       "arguments": {},
       "columnCustomDisplayInfos": {},
       "data": [
        [
         "",
         ""
        ],
        [
         "",
         ""
        ],
        [
         "",
         ""
        ],
        [
         "",
         ""
        ],
        [
         "Scotland (5)",
         ""
        ],
        [
         "Denmark (3)",
         ""
        ],
        [
         "",
         ""
        ],
        [
         "",
         ""
        ],
        [
         "",
         ""
        ],
        [
         "",
         ""
        ],
        [
         "",
         ""
        ],
        [
         "",
         ""
        ],
        [
         "Turkey (5)",
         ""
        ],
        [
         "Belgium (1)",
         ""
        ],
        [
         "",
         ""
        ],
        [
         "",
         ""
        ],
        [
         "",
         ""
        ],
        [
         "",
         ""
        ],
        [
         "",
         ""
        ],
        [
         "",
         ""
        ],
        [
         "Slovakia (2)",
         ""
        ],
        [
         "Portugal (0)",
         ""
        ],
        [
         "",
         ""
        ],
        [
         "",
         ""
        ],
        [
         "",
         ""
        ],
        [
         "",
         ""
        ],
        [
         "",
         ""
        ],
        [
         "",
         ""
        ],
        [
         "Serbia (4)",
         ""
        ],
        [
         "Germany (3)",
         ""
        ],
        [
         "",
         ""
        ],
        [
         "",
         ""
        ],
        [
         "",
         ""
        ],
        [
         "",
         ""
        ],
        [
         "",
         ""
        ],
        [
         "",
         ""
        ]
       ],
       "datasetInfos": [],
       "dbfsResultPath": null,
       "isJsonSchema": true,
       "metadata": {},
       "overflow": false,
       "plotOptions": {
        "customPlotOptions": {},
        "displayType": "table",
        "pivotAggregation": null,
        "pivotColumns": null,
        "xColumns": null,
        "yColumns": null
       },
       "removedWidgets": [],
       "schema": [
        {
         "metadata": "{}",
         "name": "Quater_Final",
         "type": "\"string\""
        },
        {
         "metadata": "{}",
         "name": "rest",
         "type": "\"string\""
        }
       ],
       "type": "table"
      }
     },
     "output_type": "display_data"
    }
   ],
   "source": [
    "# Dataframe for quater final\n",
    "visualize_qf = pd.DataFrame(columns=['Quater_Final'])\n",
    "\n",
    "for _ in range(4):\n",
    "    visualize_qf = pd.concat([visualize_qf, pd.DataFrame({'Quater_Final': ['']})], ignore_index=True)\n",
    "\n",
    "for index, row in quater_final_df.iterrows():\n",
    "    visualize_qf = pd.concat([visualize_qf, pd.DataFrame({'Quater_Final': [f\"{row['HomeTeam']} ({row['HomeTeamGoals']})\"]})], ignore_index=True)\n",
    "    visualize_qf = pd.concat([visualize_qf, pd.DataFrame({'Quater_Final': [f\"{row['AwayTeam']} ({row['AwayTeamGoals']})\"]})], ignore_index=True)\n",
    "\n",
    "    for _ in range(6):\n",
    "        visualize_qf = pd.concat([visualize_qf, pd.DataFrame({'Quater_Final': ['']})], ignore_index=True)\n",
    "visualize_qf['rest'] = ''\n",
    "splited_qf_index = len(visualize_qf) // 2\n",
    "display(visualize_qf)\n"
   ]
  },
  {
   "cell_type": "code",
   "execution_count": 0,
   "metadata": {
    "application/vnd.databricks.v1+cell": {
     "cellMetadata": {
      "byteLimit": 2048000,
      "rowLimit": 10000
     },
     "inputWidgets": {},
     "nuid": "b8c155a3-a865-42af-9e8c-0b15ad35cbe8",
     "showTitle": false,
     "title": ""
    }
   },
   "outputs": [
    {
     "output_type": "display_data",
     "data": {
      "text/html": [
       "<style scoped>\n",
       "  .table-result-container {\n",
       "    max-height: 300px;\n",
       "    overflow: auto;\n",
       "  }\n",
       "  table, th, td {\n",
       "    border: 1px solid black;\n",
       "    border-collapse: collapse;\n",
       "  }\n",
       "  th, td {\n",
       "    padding: 5px;\n",
       "  }\n",
       "  th {\n",
       "    text-align: left;\n",
       "  }\n",
       "</style><div class='table-result-container'><table class='table-result'><thead style='background-color: white'><tr><th>Quater_Final</th><th>rest</th></tr></thead><tbody><tr><td></td><td></td></tr><tr><td></td><td></td></tr><tr><td></td><td></td></tr><tr><td></td><td></td></tr><tr><td>Scotland (5)</td><td></td></tr><tr><td>Denmark (3)</td><td></td></tr><tr><td></td><td></td></tr><tr><td></td><td></td></tr><tr><td></td><td></td></tr><tr><td></td><td></td></tr><tr><td></td><td></td></tr><tr><td></td><td></td></tr><tr><td>Turkey (5)</td><td></td></tr><tr><td>Belgium (1)</td><td></td></tr><tr><td></td><td></td></tr><tr><td></td><td></td></tr><tr><td></td><td></td></tr><tr><td></td><td></td></tr></tbody></table></div>"
      ]
     },
     "metadata": {
      "application/vnd.databricks.v1+output": {
       "addedWidgets": {},
       "aggData": [],
       "aggError": "",
       "aggOverflow": false,
       "aggSchema": [],
       "aggSeriesLimitReached": false,
       "aggType": "",
       "arguments": {},
       "columnCustomDisplayInfos": {},
       "data": [
        [
         "",
         ""
        ],
        [
         "",
         ""
        ],
        [
         "",
         ""
        ],
        [
         "",
         ""
        ],
        [
         "Scotland (5)",
         ""
        ],
        [
         "Denmark (3)",
         ""
        ],
        [
         "",
         ""
        ],
        [
         "",
         ""
        ],
        [
         "",
         ""
        ],
        [
         "",
         ""
        ],
        [
         "",
         ""
        ],
        [
         "",
         ""
        ],
        [
         "Turkey (5)",
         ""
        ],
        [
         "Belgium (1)",
         ""
        ],
        [
         "",
         ""
        ],
        [
         "",
         ""
        ],
        [
         "",
         ""
        ],
        [
         "",
         ""
        ]
       ],
       "datasetInfos": [],
       "dbfsResultPath": null,
       "isJsonSchema": true,
       "metadata": {},
       "overflow": false,
       "plotOptions": {
        "customPlotOptions": {},
        "displayType": "table",
        "pivotAggregation": null,
        "pivotColumns": null,
        "xColumns": null,
        "yColumns": null
       },
       "removedWidgets": [],
       "schema": [
        {
         "metadata": "{}",
         "name": "Quater_Final",
         "type": "\"string\""
        },
        {
         "metadata": "{}",
         "name": "rest",
         "type": "\"string\""
        }
       ],
       "type": "table"
      }
     },
     "output_type": "display_data"
    },
    {
     "output_type": "display_data",
     "data": {
      "text/html": [
       "<style scoped>\n",
       "  .table-result-container {\n",
       "    max-height: 300px;\n",
       "    overflow: auto;\n",
       "  }\n",
       "  table, th, td {\n",
       "    border: 1px solid black;\n",
       "    border-collapse: collapse;\n",
       "  }\n",
       "  th, td {\n",
       "    padding: 5px;\n",
       "  }\n",
       "  th {\n",
       "    text-align: left;\n",
       "  }\n",
       "</style><div class='table-result-container'><table class='table-result'><thead style='background-color: white'><tr><th>Quater_Final</th><th>rest</th></tr></thead><tbody><tr><td></td><td></td></tr><tr><td></td><td></td></tr><tr><td></td><td></td></tr><tr><td></td><td></td></tr><tr><td>Slovakia (2)</td><td></td></tr><tr><td>Portugal (0)</td><td></td></tr><tr><td></td><td></td></tr><tr><td></td><td></td></tr><tr><td></td><td></td></tr><tr><td></td><td></td></tr><tr><td></td><td></td></tr><tr><td></td><td></td></tr><tr><td>Serbia (4)</td><td></td></tr><tr><td>Germany (3)</td><td></td></tr><tr><td></td><td></td></tr><tr><td></td><td></td></tr><tr><td></td><td></td></tr><tr><td></td><td></td></tr><tr><td></td><td></td></tr><tr><td></td><td></td></tr></tbody></table></div>"
      ]
     },
     "metadata": {
      "application/vnd.databricks.v1+output": {
       "addedWidgets": {},
       "aggData": [],
       "aggError": "",
       "aggOverflow": false,
       "aggSchema": [],
       "aggSeriesLimitReached": false,
       "aggType": "",
       "arguments": {},
       "columnCustomDisplayInfos": {},
       "data": [
        [
         "",
         ""
        ],
        [
         "",
         ""
        ],
        [
         "",
         ""
        ],
        [
         "",
         ""
        ],
        [
         "Slovakia (2)",
         ""
        ],
        [
         "Portugal (0)",
         ""
        ],
        [
         "",
         ""
        ],
        [
         "",
         ""
        ],
        [
         "",
         ""
        ],
        [
         "",
         ""
        ],
        [
         "",
         ""
        ],
        [
         "",
         ""
        ],
        [
         "Serbia (4)",
         ""
        ],
        [
         "Germany (3)",
         ""
        ],
        [
         "",
         ""
        ],
        [
         "",
         ""
        ],
        [
         "",
         ""
        ],
        [
         "",
         ""
        ],
        [
         "",
         ""
        ],
        [
         "",
         ""
        ]
       ],
       "datasetInfos": [],
       "dbfsResultPath": null,
       "isJsonSchema": true,
       "metadata": {},
       "overflow": false,
       "plotOptions": {
        "customPlotOptions": {},
        "displayType": "table",
        "pivotAggregation": null,
        "pivotColumns": null,
        "xColumns": null,
        "yColumns": null
       },
       "removedWidgets": [],
       "schema": [
        {
         "metadata": "{}",
         "name": "Quater_Final",
         "type": "\"string\""
        },
        {
         "metadata": "{}",
         "name": "rest",
         "type": "\"string\""
        }
       ],
       "type": "table"
      }
     },
     "output_type": "display_data"
    }
   ],
   "source": [
    "left_side_qf = pd.DataFrame(columns=['Quater_Final'])\n",
    "left_side_qf = pd.concat([left_side_qf,visualize_qf.iloc[:splited_qf_index]]).reset_index(drop=True)\n",
    "right_side_qf = pd.DataFrame(columns=['Quater_Final'])\n",
    "right_side_qf = pd.concat([right_side_qf,visualize_qf.iloc[splited_qf_index-2:]]).reset_index(drop=True)\n",
    "\n",
    "\n",
    "display(left_side_qf)\n",
    "display(right_side_qf)"
   ]
  },
  {
   "cell_type": "markdown",
   "metadata": {
    "application/vnd.databricks.v1+cell": {
     "cellMetadata": {
      "byteLimit": 2048000,
      "rowLimit": 10000
     },
     "inputWidgets": {},
     "nuid": "5d851775-851d-4ac9-99ad-a61a3e3a31d8",
     "showTitle": false,
     "title": ""
    }
   },
   "source": [
    "## Visulizing the Semi-Final Qualification"
   ]
  },
  {
   "cell_type": "code",
   "execution_count": 0,
   "metadata": {
    "application/vnd.databricks.v1+cell": {
     "cellMetadata": {
      "byteLimit": 2048000,
      "rowLimit": 10000
     },
     "inputWidgets": {},
     "nuid": "b3c9ec7d-f1c9-4ab7-9b26-522870f720e3",
     "showTitle": false,
     "title": ""
    }
   },
   "outputs": [
    {
     "output_type": "stream",
     "name": "stdout",
     "output_type": "stream",
     "text": [
      "12\n"
     ]
    },
    {
     "output_type": "display_data",
     "data": {
      "text/html": [
       "<style scoped>\n",
       "  .table-result-container {\n",
       "    max-height: 300px;\n",
       "    overflow: auto;\n",
       "  }\n",
       "  table, th, td {\n",
       "    border: 1px solid black;\n",
       "    border-collapse: collapse;\n",
       "  }\n",
       "  th, td {\n",
       "    padding: 5px;\n",
       "  }\n",
       "  th {\n",
       "    text-align: left;\n",
       "  }\n",
       "</style><div class='table-result-container'><table class='table-result'><thead style='background-color: white'><tr><th>Semi_Final</th><th>rest</th></tr></thead><tbody><tr><td></td><td></td></tr><tr><td></td><td></td></tr><tr><td></td><td></td></tr><tr><td></td><td></td></tr><tr><td></td><td></td></tr><tr><td></td><td></td></tr><tr><td></td><td></td></tr><tr><td></td><td></td></tr><tr><td>Scotland (4)</td><td></td></tr><tr><td>Turkey (2)</td><td></td></tr><tr><td></td><td></td></tr><tr><td></td><td></td></tr><tr><td></td><td></td></tr><tr><td></td><td></td></tr><tr><td></td><td></td></tr><tr><td></td><td></td></tr><tr><td>Slovakia (2)</td><td></td></tr><tr><td>Serbia (0)</td><td></td></tr><tr><td></td><td></td></tr><tr><td></td><td></td></tr><tr><td></td><td></td></tr><tr><td></td><td></td></tr><tr><td></td><td></td></tr><tr><td></td><td></td></tr></tbody></table></div>"
      ]
     },
     "metadata": {
      "application/vnd.databricks.v1+output": {
       "addedWidgets": {},
       "aggData": [],
       "aggError": "",
       "aggOverflow": false,
       "aggSchema": [],
       "aggSeriesLimitReached": false,
       "aggType": "",
       "arguments": {},
       "columnCustomDisplayInfos": {},
       "data": [
        [
         "",
         ""
        ],
        [
         "",
         ""
        ],
        [
         "",
         ""
        ],
        [
         "",
         ""
        ],
        [
         "",
         ""
        ],
        [
         "",
         ""
        ],
        [
         "",
         ""
        ],
        [
         "",
         ""
        ],
        [
         "Scotland (4)",
         ""
        ],
        [
         "Turkey (2)",
         ""
        ],
        [
         "",
         ""
        ],
        [
         "",
         ""
        ],
        [
         "",
         ""
        ],
        [
         "",
         ""
        ],
        [
         "",
         ""
        ],
        [
         "",
         ""
        ],
        [
         "Slovakia (2)",
         ""
        ],
        [
         "Serbia (0)",
         ""
        ],
        [
         "",
         ""
        ],
        [
         "",
         ""
        ],
        [
         "",
         ""
        ],
        [
         "",
         ""
        ],
        [
         "",
         ""
        ],
        [
         "",
         ""
        ]
       ],
       "datasetInfos": [],
       "dbfsResultPath": null,
       "isJsonSchema": true,
       "metadata": {},
       "overflow": false,
       "plotOptions": {
        "customPlotOptions": {},
        "displayType": "table",
        "pivotAggregation": null,
        "pivotColumns": null,
        "xColumns": null,
        "yColumns": null
       },
       "removedWidgets": [],
       "schema": [
        {
         "metadata": "{}",
         "name": "Semi_Final",
         "type": "\"string\""
        },
        {
         "metadata": "{}",
         "name": "rest",
         "type": "\"string\""
        }
       ],
       "type": "table"
      }
     },
     "output_type": "display_data"
    }
   ],
   "source": [
    "\n",
    "visualize_sf = pd.DataFrame(columns=['Semi_Final'])\n",
    "\n",
    "for _ in range(8):\n",
    "    visualize_sf = pd.concat([visualize_sf, pd.DataFrame({'Semi_Final': ['']})], ignore_index=True)\n",
    "    \n",
    "for index, row in semi_final_df.iterrows():\n",
    "    visualize_sf = pd.concat([visualize_sf, pd.DataFrame({'Semi_Final': [f\"{row['HomeTeam']} ({row['HomeTeamGoals']})\"]})], ignore_index=True)\n",
    "    visualize_sf = pd.concat([visualize_sf, pd.DataFrame({'Semi_Final': [f\"{row['AwayTeam']} ({row['AwayTeamGoals']})\"]})], ignore_index=True)\n",
    "    for _ in range(6):\n",
    "        visualize_sf = pd.concat([visualize_sf, pd.DataFrame({'Semi_Final': ['']})], ignore_index=True)\n",
    "visualize_sf['rest'] = ''\n",
    "splited_sf_index = len(visualize_sf) // 2\n",
    "print(splited_sf_index)\n",
    "display(visualize_sf)\n"
   ]
  },
  {
   "cell_type": "code",
   "execution_count": 0,
   "metadata": {
    "application/vnd.databricks.v1+cell": {
     "cellMetadata": {
      "byteLimit": 2048000,
      "rowLimit": 10000
     },
     "inputWidgets": {},
     "nuid": "b932567a-a8ec-4035-9e8d-b09555476991",
     "showTitle": false,
     "title": ""
    }
   },
   "outputs": [
    {
     "output_type": "display_data",
     "data": {
      "text/html": [
       "<style scoped>\n",
       "  .table-result-container {\n",
       "    max-height: 300px;\n",
       "    overflow: auto;\n",
       "  }\n",
       "  table, th, td {\n",
       "    border: 1px solid black;\n",
       "    border-collapse: collapse;\n",
       "  }\n",
       "  th, td {\n",
       "    padding: 5px;\n",
       "  }\n",
       "  th {\n",
       "    text-align: left;\n",
       "  }\n",
       "</style><div class='table-result-container'><table class='table-result'><thead style='background-color: white'><tr><th>Semi_Final</th><th>rest</th></tr></thead><tbody><tr><td></td><td></td></tr><tr><td></td><td></td></tr><tr><td></td><td></td></tr><tr><td></td><td></td></tr><tr><td></td><td></td></tr><tr><td></td><td></td></tr><tr><td></td><td></td></tr><tr><td></td><td></td></tr><tr><td>Scotland (4)</td><td></td></tr><tr><td>Turkey (2)</td><td></td></tr><tr><td></td><td></td></tr><tr><td></td><td></td></tr><tr><td></td><td></td></tr><tr><td></td><td></td></tr><tr><td></td><td></td></tr><tr><td></td><td></td></tr><tr><td></td><td></td></tr></tbody></table></div>"
      ]
     },
     "metadata": {
      "application/vnd.databricks.v1+output": {
       "addedWidgets": {},
       "aggData": [],
       "aggError": "",
       "aggOverflow": false,
       "aggSchema": [],
       "aggSeriesLimitReached": false,
       "aggType": "",
       "arguments": {},
       "columnCustomDisplayInfos": {},
       "data": [
        [
         "",
         ""
        ],
        [
         "",
         ""
        ],
        [
         "",
         ""
        ],
        [
         "",
         ""
        ],
        [
         "",
         ""
        ],
        [
         "",
         ""
        ],
        [
         "",
         ""
        ],
        [
         "",
         ""
        ],
        [
         "Scotland (4)",
         ""
        ],
        [
         "Turkey (2)",
         ""
        ],
        [
         "",
         ""
        ],
        [
         "",
         ""
        ],
        [
         "",
         ""
        ],
        [
         "",
         ""
        ],
        [
         "",
         ""
        ],
        [
         "",
         ""
        ],
        [
         "",
         ""
        ]
       ],
       "datasetInfos": [],
       "dbfsResultPath": null,
       "isJsonSchema": true,
       "metadata": {},
       "overflow": false,
       "plotOptions": {
        "customPlotOptions": {},
        "displayType": "table",
        "pivotAggregation": null,
        "pivotColumns": null,
        "xColumns": null,
        "yColumns": null
       },
       "removedWidgets": [],
       "schema": [
        {
         "metadata": "{}",
         "name": "Semi_Final",
         "type": "\"string\""
        },
        {
         "metadata": "{}",
         "name": "rest",
         "type": "\"string\""
        }
       ],
       "type": "table"
      }
     },
     "output_type": "display_data"
    },
    {
     "output_type": "display_data",
     "data": {
      "text/html": [
       "<style scoped>\n",
       "  .table-result-container {\n",
       "    max-height: 300px;\n",
       "    overflow: auto;\n",
       "  }\n",
       "  table, th, td {\n",
       "    border: 1px solid black;\n",
       "    border-collapse: collapse;\n",
       "  }\n",
       "  th, td {\n",
       "    padding: 5px;\n",
       "  }\n",
       "  th {\n",
       "    text-align: left;\n",
       "  }\n",
       "</style><div class='table-result-container'><table class='table-result'><thead style='background-color: white'><tr><th>Semi_Final</th><th>rest</th></tr></thead><tbody><tr><td></td><td></td></tr><tr><td></td><td></td></tr><tr><td></td><td></td></tr><tr><td></td><td></td></tr><tr><td></td><td></td></tr><tr><td></td><td></td></tr><tr><td></td><td></td></tr><tr><td></td><td></td></tr><tr><td>Slovakia (2)</td><td></td></tr><tr><td>Serbia (0)</td><td></td></tr><tr><td></td><td></td></tr><tr><td></td><td></td></tr><tr><td></td><td></td></tr><tr><td></td><td></td></tr><tr><td></td><td></td></tr><tr><td></td><td></td></tr></tbody></table></div>"
      ]
     },
     "metadata": {
      "application/vnd.databricks.v1+output": {
       "addedWidgets": {},
       "aggData": [],
       "aggError": "",
       "aggOverflow": false,
       "aggSchema": [],
       "aggSeriesLimitReached": false,
       "aggType": "",
       "arguments": {},
       "columnCustomDisplayInfos": {},
       "data": [
        [
         "",
         ""
        ],
        [
         "",
         ""
        ],
        [
         "",
         ""
        ],
        [
         "",
         ""
        ],
        [
         "",
         ""
        ],
        [
         "",
         ""
        ],
        [
         "",
         ""
        ],
        [
         "",
         ""
        ],
        [
         "Slovakia (2)",
         ""
        ],
        [
         "Serbia (0)",
         ""
        ],
        [
         "",
         ""
        ],
        [
         "",
         ""
        ],
        [
         "",
         ""
        ],
        [
         "",
         ""
        ],
        [
         "",
         ""
        ],
        [
         "",
         ""
        ]
       ],
       "datasetInfos": [],
       "dbfsResultPath": null,
       "isJsonSchema": true,
       "metadata": {},
       "overflow": false,
       "plotOptions": {
        "customPlotOptions": {},
        "displayType": "table",
        "pivotAggregation": null,
        "pivotColumns": null,
        "xColumns": null,
        "yColumns": null
       },
       "removedWidgets": [],
       "schema": [
        {
         "metadata": "{}",
         "name": "Semi_Final",
         "type": "\"string\""
        },
        {
         "metadata": "{}",
         "name": "rest",
         "type": "\"string\""
        }
       ],
       "type": "table"
      }
     },
     "output_type": "display_data"
    }
   ],
   "source": [
    "left_side_sf = pd.DataFrame(columns=['Semi_Final'])\n",
    "left_side_sf = pd.concat([left_side_sf, visualize_sf.iloc[:splited_sf_index]]).reset_index(drop=True)\n",
    "\n",
    "for _ in range(5):\n",
    "    left_side_sf = pd.concat([left_side_sf, pd.DataFrame({'Semi_Final': [''], 'rest': ['']})], ignore_index=True)\n",
    "\n",
    "right_side_sf = pd.DataFrame({'Semi_Final': [''] * 7, 'rest': [''] * 7})\n",
    "right_side_sf = pd.concat([right_side_sf, visualize_sf.iloc[splited_sf_index+3:]]).reset_index(drop=True)\n",
    "display(left_side_sf)\n",
    "display(right_side_sf)"
   ]
  },
  {
   "cell_type": "markdown",
   "metadata": {
    "application/vnd.databricks.v1+cell": {
     "cellMetadata": {
      "byteLimit": 2048000,
      "rowLimit": 10000
     },
     "inputWidgets": {},
     "nuid": "21f0aeff-7ef3-4085-a8de-9eeff2b653a6",
     "showTitle": false,
     "title": ""
    }
   },
   "source": [
    "## Visulizing the Final Qualification"
   ]
  },
  {
   "cell_type": "code",
   "execution_count": 0,
   "metadata": {
    "application/vnd.databricks.v1+cell": {
     "cellMetadata": {
      "byteLimit": 2048000,
      "rowLimit": 10000
     },
     "inputWidgets": {},
     "nuid": "c8ee1a88-1858-4c9f-bcc2-69ff41bf4033",
     "showTitle": false,
     "title": ""
    }
   },
   "outputs": [
    {
     "output_type": "display_data",
     "data": {
      "text/html": [
       "<style scoped>\n",
       "  .table-result-container {\n",
       "    max-height: 300px;\n",
       "    overflow: auto;\n",
       "  }\n",
       "  table, th, td {\n",
       "    border: 1px solid black;\n",
       "    border-collapse: collapse;\n",
       "  }\n",
       "  th, td {\n",
       "    padding: 5px;\n",
       "  }\n",
       "  th {\n",
       "    text-align: left;\n",
       "  }\n",
       "</style><div class='table-result-container'><table class='table-result'><thead style='background-color: white'><tr><th>Final</th><th>rest</th></tr></thead><tbody><tr><td></td><td></td></tr><tr><td></td><td></td></tr><tr><td></td><td></td></tr><tr><td></td><td></td></tr><tr><td></td><td></td></tr><tr><td></td><td></td></tr><tr><td></td><td></td></tr><tr><td></td><td></td></tr><tr><td>Slovakia (1)</td><td></td></tr><tr><td>Scotland (2)</td><td></td></tr><tr><td></td><td></td></tr><tr><td>EUROPEAN CHAMPION</td><td></td></tr></tbody></table></div>"
      ]
     },
     "metadata": {
      "application/vnd.databricks.v1+output": {
       "addedWidgets": {},
       "aggData": [],
       "aggError": "",
       "aggOverflow": false,
       "aggSchema": [],
       "aggSeriesLimitReached": false,
       "aggType": "",
       "arguments": {},
       "columnCustomDisplayInfos": {},
       "data": [
        [
         "",
         ""
        ],
        [
         "",
         ""
        ],
        [
         "",
         ""
        ],
        [
         "",
         ""
        ],
        [
         "",
         ""
        ],
        [
         "",
         ""
        ],
        [
         "",
         ""
        ],
        [
         "",
         ""
        ],
        [
         "Slovakia (1)",
         ""
        ],
        [
         "Scotland (2)",
         ""
        ],
        [
         "",
         ""
        ],
        [
         "EUROPEAN CHAMPION",
         ""
        ]
       ],
       "datasetInfos": [],
       "dbfsResultPath": null,
       "isJsonSchema": true,
       "metadata": {},
       "overflow": false,
       "plotOptions": {
        "customPlotOptions": {},
        "displayType": "table",
        "pivotAggregation": null,
        "pivotColumns": null,
        "xColumns": null,
        "yColumns": null
       },
       "removedWidgets": [],
       "schema": [
        {
         "metadata": "{}",
         "name": "Final",
         "type": "\"string\""
        },
        {
         "metadata": "{}",
         "name": "rest",
         "type": "\"string\""
        }
       ],
       "type": "table"
      }
     },
     "output_type": "display_data"
    }
   ],
   "source": [
    "visualize_final = pd.DataFrame(columns=['Final'])\n",
    "\n",
    "\n",
    "for _ in range(8):\n",
    "    visualize_final = pd.concat([visualize_final, pd.DataFrame({'Final': ['']})], ignore_index=True)\n",
    "\n",
    "\n",
    "for index, row in final_df.iterrows():\n",
    "    visualize_final = pd.concat([visualize_final, pd.DataFrame({'Final': [f\"{row['HomeTeam']} ({row['HomeTeamGoals']})\"]})], ignore_index=True)\n",
    "    visualize_final = pd.concat([visualize_final, pd.DataFrame({'Final': [f\"{row['AwayTeam']} ({row['AwayTeamGoals']})\"]})], ignore_index=True)\n",
    "    visualize_final = pd.concat([visualize_final, pd.DataFrame({'Final': ['']})], ignore_index=True)\n",
    "    visualize_final = pd.concat([visualize_final, pd.DataFrame({'Final': ['EUROPEAN CHAMPION']})], ignore_index=True)\n",
    "\n",
    "visualize_final['rest'] = ''\n",
    "display(visualize_final)\n"
   ]
  },
  {
   "cell_type": "code",
   "execution_count": 0,
   "metadata": {
    "application/vnd.databricks.v1+cell": {
     "cellMetadata": {
      "byteLimit": 2048000,
      "rowLimit": 10000
     },
     "inputWidgets": {},
     "nuid": "491c4019-7ac2-4346-beb5-c7175d3d9187",
     "showTitle": false,
     "title": ""
    }
   },
   "outputs": [
    {
     "output_type": "display_data",
     "data": {
      "text/html": [
       "<style scoped>\n",
       "  .table-result-container {\n",
       "    max-height: 300px;\n",
       "    overflow: auto;\n",
       "  }\n",
       "  table, th, td {\n",
       "    border: 1px solid black;\n",
       "    border-collapse: collapse;\n",
       "  }\n",
       "  th, td {\n",
       "    padding: 5px;\n",
       "  }\n",
       "  th {\n",
       "    text-align: left;\n",
       "  }\n",
       "</style><div class='table-result-container'><table class='table-result'><thead style='background-color: white'><tr><th>Posg1</th><th>Teamsg1</th><th>Groupg1</th><th>Pldg1</th><th>Wg1</th><th>Dg1</th><th>Lg1</th><th>GFg1</th><th>GAg1</th><th>GDg1</th><th>Ptsg1</th><th>Round_of_16</th><th>rest</th><th>Quater_Finalq2</th><th>restq2</th><th>Semi_Finals1</th><th>rests1</th><th>Finalf</th><th>restf</th><th>Semi_Finals2</th><th>rests2</th><th>Quater_Finalq1</th><th>restq1</th><th>Round_of_16r2</th><th>restr2</th><th>Posg2</th><th>Teamsg2</th><th>Groupg2</th><th>Pldg2</th><th>Wg2</th><th>Dg2</th><th>Lg2</th><th>GFg2</th><th>GAg2</th><th>GDg2</th><th>Ptsg2</th></tr></thead><tbody><tr><td></td><td></td><td></td><td></td><td></td><td></td><td></td><td></td><td></td><td></td><td></td><td></td><td></td><td></td><td></td><td></td><td></td><td></td><td></td><td></td><td></td><td></td><td></td><td></td><td></td><td></td><td></td><td></td><td></td><td></td><td></td><td></td><td></td><td></td><td></td><td></td></tr><tr><td>1</td><td>Hungary</td><td>A</td><td>3</td><td>2</td><td>0</td><td>1</td><td>10</td><td>7</td><td>3</td><td>6</td><td></td><td></td><td></td><td></td><td></td><td></td><td></td><td></td><td></td><td></td><td></td><td></td><td></td><td></td><td>1</td><td>Play-off Winner A</td><td>D</td><td>3</td><td>3</td><td>0</td><td>0</td><td>7</td><td>3</td><td>4</td><td>9</td></tr><tr><td>2</td><td>Germany</td><td>A</td><td>3</td><td>2</td><td>0</td><td>1</td><td>10</td><td>10</td><td>0</td><td>6</td><td>Spain (0)</td><td></td><td></td><td></td><td></td><td></td><td></td><td></td><td></td><td></td><td></td><td></td><td>Slovakia (5)</td><td></td><td>2</td><td>France</td><td>D</td><td>3</td><td>2</td><td>0</td><td>1</td><td>8</td><td>4</td><td>4</td><td>6</td></tr><tr><td>3</td><td>Scotland</td><td>A</td><td>3</td><td>1</td><td>0</td><td>2</td><td>7</td><td>4</td><td>3</td><td>3</td><td>Scotland (4)</td><td></td><td></td><td></td><td></td><td></td><td></td><td></td><td></td><td></td><td></td><td></td><td>Croatia (4)</td><td></td><td>3</td><td>Austria</td><td>D</td><td>3</td><td>1</td><td>0</td><td>2</td><td>8</td><td>10</td><td>-2</td><td>3</td></tr><tr><td>4</td><td>Switzerland</td><td>A</td><td>3</td><td>1</td><td>0</td><td>2</td><td>2</td><td>8</td><td>-6</td><td>3</td><td></td><td></td><td>Scotland (5)</td><td></td><td></td><td></td><td></td><td></td><td></td><td></td><td>Slovakia (2)</td><td></td><td></td><td></td><td>4</td><td>Netherlands</td><td>D</td><td>3</td><td>0</td><td>0</td><td>3</td><td>0</td><td>6</td><td>-6</td><td>0</td></tr><tr><td></td><td></td><td></td><td></td><td></td><td></td><td></td><td></td><td></td><td></td><td></td><td></td><td></td><td>Denmark (3)</td><td></td><td></td><td></td><td></td><td></td><td></td><td></td><td>Portugal (0)</td><td></td><td></td><td></td><td></td><td></td><td></td><td></td><td></td><td></td><td></td><td></td><td></td><td></td><td></td></tr><tr><td>1</td><td>Spain</td><td>B</td><td>3</td><td>2</td><td>0</td><td>1</td><td>7</td><td>6</td><td>1</td><td>6</td><td>Hungary (3)</td><td></td><td></td><td></td><td></td><td></td><td></td><td></td><td></td><td></td><td></td><td></td><td>France (2)</td><td></td><td>1</td><td>Slovakia</td><td>E</td><td>3</td><td>2</td><td>1</td><td>0</td><td>10</td><td>4</td><td>6</td><td>7</td></tr><tr><td>2</td><td>Italy</td><td>B</td><td>3</td><td>2</td><td>0</td><td>1</td><td>10</td><td>11</td><td>-1</td><td>6</td><td>Denmark (3)</td><td></td><td></td><td></td><td></td><td></td><td></td><td></td><td></td><td></td><td></td><td></td><td>Portugal (3)</td><td></td><td>2</td><td>Belgium</td><td>E</td><td>3</td><td>2</td><td>0</td><td>1</td><td>8</td><td>10</td><td>-2</td><td>6</td></tr><tr><td>3</td><td>Croatia</td><td>B</td><td>3</td><td>1</td><td>0</td><td>2</td><td>8</td><td>7</td><td>1</td><td>3</td><td></td><td></td><td></td><td></td><td>Scotland (4)</td><td></td><td>Slovakia (1)</td><td></td><td>Slovakia (2)</td><td></td><td></td><td></td><td></td><td></td><td>3</td><td>Romania</td><td>E</td><td>3</td><td>1</td><td>1</td><td>1</td><td>4</td><td>4</td><td>0</td><td>4</td></tr><tr><td>4</td><td>Albania</td><td>B</td><td>3</td><td>1</td><td>0</td><td>2</td><td>9</td><td>10</td><td>-1</td><td>3</td><td></td><td></td><td></td><td></td><td>Turkey (2)</td><td></td><td>Scotland (2)</td><td></td><td>Serbia (0)</td><td></td><td></td><td></td><td></td><td></td><td>4</td><td>Play-off Winner B</td><td>E</td><td>3</td><td>0</td><td>0</td><td>3</td><td>6</td><td>10</td><td>-4</td><td>0</td></tr><tr><td></td><td></td><td></td><td></td><td></td><td></td><td></td><td></td><td></td><td></td><td></td><td>Turkey (3)</td><td></td><td></td><td></td><td></td><td></td><td></td><td></td><td></td><td></td><td></td><td></td><td>Serbia (5)</td><td></td><td></td><td></td><td></td><td></td><td></td><td></td><td></td><td></td><td></td><td></td><td></td></tr><tr><td>1</td><td>Serbia</td><td>C</td><td>3</td><td>1</td><td>1</td><td>1</td><td>8</td><td>5</td><td>3</td><td>4</td><td>England (0)</td><td></td><td></td><td></td><td></td><td></td><td>EUROPEAN CHAMPION</td><td></td><td></td><td></td><td></td><td></td><td>Austria (3)</td><td></td><td>1</td><td>Turkey</td><td>F</td><td>3</td><td>2</td><td>0</td><td>1</td><td>5</td><td>3</td><td>2</td><td>6</td></tr><tr><td>2</td><td>Denmark</td><td>C</td><td>3</td><td>1</td><td>1</td><td>1</td><td>9</td><td>9</td><td>0</td><td>4</td><td></td><td></td><td>Turkey (5)</td><td></td><td></td><td></td><td></td><td></td><td></td><td></td><td>Serbia (4)</td><td></td><td></td><td></td><td>2</td><td>Portugal</td><td>F</td><td>3</td><td>2</td><td>0</td><td>1</td><td>8</td><td>8</td><td>0</td><td>6</td></tr><tr><td>3</td><td>England</td><td>C</td><td>3</td><td>1</td><td>1</td><td>1</td><td>8</td><td>8</td><td>0</td><td>4</td><td></td><td></td><td>Belgium (1)</td><td></td><td></td><td></td><td></td><td></td><td></td><td></td><td>Germany (3)</td><td></td><td></td><td></td><td>3</td><td>Play-off Winner C</td><td>F</td><td>3</td><td>1</td><td>0</td><td>2</td><td>8</td><td>5</td><td>3</td><td>3</td></tr><tr><td>4</td><td>Slovenia</td><td>C</td><td>3</td><td>1</td><td>1</td><td>1</td><td>8</td><td>11</td><td>-3</td><td>4</td><td>France (1)</td><td></td><td></td><td></td><td></td><td></td><td></td><td></td><td></td><td></td><td></td><td></td><td>Germany (4)</td><td></td><td>4</td><td>Czech Republic</td><td>F</td><td>3</td><td>1</td><td>0</td><td>2</td><td>5</td><td>10</td><td>-5</td><td>3</td></tr><tr><td></td><td></td><td></td><td></td><td></td><td></td><td></td><td></td><td></td><td></td><td></td><td>Belgium (5)</td><td></td><td></td><td></td><td></td><td></td><td></td><td></td><td></td><td></td><td></td><td></td><td>Italy (2)</td><td></td><td></td><td></td><td></td><td></td><td></td><td></td><td></td><td></td><td></td><td></td><td></td></tr><tr><td></td><td></td><td></td><td></td><td></td><td></td><td></td><td></td><td></td><td></td><td></td><td></td><td></td><td></td><td></td><td></td><td></td><td></td><td></td><td></td><td></td><td></td><td></td><td></td><td></td><td></td><td></td><td></td><td></td><td></td><td></td><td></td><td></td><td></td><td></td><td></td></tr><tr><td></td><td></td><td></td><td></td><td></td><td></td><td></td><td></td><td></td><td></td><td></td><td></td><td></td><td></td><td></td><td></td><td></td><td></td><td></td><td></td><td></td><td></td><td></td><td></td><td></td><td></td><td></td><td></td><td></td><td></td><td></td><td></td><td></td><td></td><td></td><td></td></tr><tr><td></td><td></td><td></td><td></td><td></td><td></td><td></td><td></td><td></td><td></td><td></td><td></td><td></td><td></td><td></td><td></td><td></td><td></td><td></td><td></td><td></td><td></td><td></td><td></td><td></td><td></td><td></td><td></td><td></td><td></td><td></td><td></td><td></td><td></td><td></td><td></td></tr><tr><td></td><td></td><td></td><td></td><td></td><td></td><td></td><td></td><td></td><td></td><td></td><td></td><td></td><td></td><td></td><td></td><td></td><td></td><td></td><td></td><td></td><td></td><td></td><td></td><td></td><td></td><td></td><td></td><td></td><td></td><td></td><td></td><td></td><td></td><td></td><td></td></tr></tbody></table></div>"
      ]
     },
     "metadata": {
      "application/vnd.databricks.v1+output": {
       "addedWidgets": {},
       "aggData": [],
       "aggError": "",
       "aggOverflow": false,
       "aggSchema": [],
       "aggSeriesLimitReached": false,
       "aggType": "",
       "arguments": {},
       "columnCustomDisplayInfos": {},
       "data": [
        [
         "",
         "",
         "",
         "",
         "",
         "",
         "",
         "",
         "",
         "",
         "",
         "",
         "",
         "",
         "",
         "",
         "",
         "",
         "",
         "",
         "",
         "",
         "",
         "",
         "",
         "",
         "",
         "",
         "",
         "",
         "",
         "",
         "",
         "",
         "",
         ""
        ],
        [
         "1",
         "Hungary",
         "A",
         "3",
         "2",
         "0",
         "1",
         "10",
         "7",
         "3",
         "6",
         "",
         "",
         "",
         "",
         "",
         "",
         "",
         "",
         "",
         "",
         "",
         "",
         "",
         "",
         "1",
         "Play-off Winner A",
         "D",
         "3",
         "3",
         "0",
         "0",
         "7",
         "3",
         "4",
         "9"
        ],
        [
         "2",
         "Germany",
         "A",
         "3",
         "2",
         "0",
         "1",
         "10",
         "10",
         "0",
         "6",
         "Spain (0)",
         "",
         "",
         "",
         "",
         "",
         "",
         "",
         "",
         "",
         "",
         "",
         "Slovakia (5)",
         "",
         "2",
         "France",
         "D",
         "3",
         "2",
         "0",
         "1",
         "8",
         "4",
         "4",
         "6"
        ],
        [
         "3",
         "Scotland",
         "A",
         "3",
         "1",
         "0",
         "2",
         "7",
         "4",
         "3",
         "3",
         "Scotland (4)",
         "",
         "",
         "",
         "",
         "",
         "",
         "",
         "",
         "",
         "",
         "",
         "Croatia (4)",
         "",
         "3",
         "Austria",
         "D",
         "3",
         "1",
         "0",
         "2",
         "8",
         "10",
         "-2",
         "3"
        ],
        [
         "4",
         "Switzerland",
         "A",
         "3",
         "1",
         "0",
         "2",
         "2",
         "8",
         "-6",
         "3",
         "",
         "",
         "Scotland (5)",
         "",
         "",
         "",
         "",
         "",
         "",
         "",
         "Slovakia (2)",
         "",
         "",
         "",
         "4",
         "Netherlands",
         "D",
         "3",
         "0",
         "0",
         "3",
         "0",
         "6",
         "-6",
         "0"
        ],
        [
         "",
         "",
         "",
         "",
         "",
         "",
         "",
         "",
         "",
         "",
         "",
         "",
         "",
         "Denmark (3)",
         "",
         "",
         "",
         "",
         "",
         "",
         "",
         "Portugal (0)",
         "",
         "",
         "",
         "",
         "",
         "",
         "",
         "",
         "",
         "",
         "",
         "",
         "",
         ""
        ],
        [
         "1",
         "Spain",
         "B",
         "3",
         "2",
         "0",
         "1",
         "7",
         "6",
         "1",
         "6",
         "Hungary (3)",
         "",
         "",
         "",
         "",
         "",
         "",
         "",
         "",
         "",
         "",
         "",
         "France (2)",
         "",
         "1",
         "Slovakia",
         "E",
         "3",
         "2",
         "1",
         "0",
         "10",
         "4",
         "6",
         "7"
        ],
        [
         "2",
         "Italy",
         "B",
         "3",
         "2",
         "0",
         "1",
         "10",
         "11",
         "-1",
         "6",
         "Denmark (3)",
         "",
         "",
         "",
         "",
         "",
         "",
         "",
         "",
         "",
         "",
         "",
         "Portugal (3)",
         "",
         "2",
         "Belgium",
         "E",
         "3",
         "2",
         "0",
         "1",
         "8",
         "10",
         "-2",
         "6"
        ],
        [
         "3",
         "Croatia",
         "B",
         "3",
         "1",
         "0",
         "2",
         "8",
         "7",
         "1",
         "3",
         "",
         "",
         "",
         "",
         "Scotland (4)",
         "",
         "Slovakia (1)",
         "",
         "Slovakia (2)",
         "",
         "",
         "",
         "",
         "",
         "3",
         "Romania",
         "E",
         "3",
         "1",
         "1",
         "1",
         "4",
         "4",
         "0",
         "4"
        ],
        [
         "4",
         "Albania",
         "B",
         "3",
         "1",
         "0",
         "2",
         "9",
         "10",
         "-1",
         "3",
         "",
         "",
         "",
         "",
         "Turkey (2)",
         "",
         "Scotland (2)",
         "",
         "Serbia (0)",
         "",
         "",
         "",
         "",
         "",
         "4",
         "Play-off Winner B",
         "E",
         "3",
         "0",
         "0",
         "3",
         "6",
         "10",
         "-4",
         "0"
        ],
        [
         "",
         "",
         "",
         "",
         "",
         "",
         "",
         "",
         "",
         "",
         "",
         "Turkey (3)",
         "",
         "",
         "",
         "",
         "",
         "",
         "",
         "",
         "",
         "",
         "",
         "Serbia (5)",
         "",
         "",
         "",
         "",
         "",
         "",
         "",
         "",
         "",
         "",
         "",
         ""
        ],
        [
         "1",
         "Serbia",
         "C",
         "3",
         "1",
         "1",
         "1",
         "8",
         "5",
         "3",
         "4",
         "England (0)",
         "",
         "",
         "",
         "",
         "",
         "EUROPEAN CHAMPION",
         "",
         "",
         "",
         "",
         "",
         "Austria (3)",
         "",
         "1",
         "Turkey",
         "F",
         "3",
         "2",
         "0",
         "1",
         "5",
         "3",
         "2",
         "6"
        ],
        [
         "2",
         "Denmark",
         "C",
         "3",
         "1",
         "1",
         "1",
         "9",
         "9",
         "0",
         "4",
         "",
         "",
         "Turkey (5)",
         "",
         "",
         "",
         "",
         "",
         "",
         "",
         "Serbia (4)",
         "",
         "",
         "",
         "2",
         "Portugal",
         "F",
         "3",
         "2",
         "0",
         "1",
         "8",
         "8",
         "0",
         "6"
        ],
        [
         "3",
         "England",
         "C",
         "3",
         "1",
         "1",
         "1",
         "8",
         "8",
         "0",
         "4",
         "",
         "",
         "Belgium (1)",
         "",
         "",
         "",
         "",
         "",
         "",
         "",
         "Germany (3)",
         "",
         "",
         "",
         "3",
         "Play-off Winner C",
         "F",
         "3",
         "1",
         "0",
         "2",
         "8",
         "5",
         "3",
         "3"
        ],
        [
         "4",
         "Slovenia",
         "C",
         "3",
         "1",
         "1",
         "1",
         "8",
         "11",
         "-3",
         "4",
         "France (1)",
         "",
         "",
         "",
         "",
         "",
         "",
         "",
         "",
         "",
         "",
         "",
         "Germany (4)",
         "",
         "4",
         "Czech Republic",
         "F",
         "3",
         "1",
         "0",
         "2",
         "5",
         "10",
         "-5",
         "3"
        ],
        [
         "",
         "",
         "",
         "",
         "",
         "",
         "",
         "",
         "",
         "",
         "",
         "Belgium (5)",
         "",
         "",
         "",
         "",
         "",
         "",
         "",
         "",
         "",
         "",
         "",
         "Italy (2)",
         "",
         "",
         "",
         "",
         "",
         "",
         "",
         "",
         "",
         "",
         "",
         ""
        ],
        [
         "",
         "",
         "",
         "",
         "",
         "",
         "",
         "",
         "",
         "",
         "",
         "",
         "",
         "",
         "",
         "",
         "",
         "",
         "",
         "",
         "",
         "",
         "",
         "",
         "",
         "",
         "",
         "",
         "",
         "",
         "",
         "",
         "",
         "",
         "",
         ""
        ],
        [
         "",
         "",
         "",
         "",
         "",
         "",
         "",
         "",
         "",
         "",
         "",
         "",
         "",
         "",
         "",
         "",
         "",
         "",
         "",
         "",
         "",
         "",
         "",
         "",
         "",
         "",
         "",
         "",
         "",
         "",
         "",
         "",
         "",
         "",
         "",
         ""
        ],
        [
         "",
         "",
         "",
         "",
         "",
         "",
         "",
         "",
         "",
         "",
         "",
         "",
         "",
         "",
         "",
         "",
         "",
         "",
         "",
         "",
         "",
         "",
         "",
         "",
         "",
         "",
         "",
         "",
         "",
         "",
         "",
         "",
         "",
         "",
         "",
         ""
        ],
        [
         "",
         "",
         "",
         "",
         "",
         "",
         "",
         "",
         "",
         "",
         "",
         "",
         "",
         "",
         "",
         "",
         "",
         "",
         "",
         "",
         "",
         "",
         "",
         "",
         "",
         "",
         "",
         "",
         "",
         "",
         "",
         "",
         "",
         "",
         "",
         ""
        ]
       ],
       "datasetInfos": [],
       "dbfsResultPath": null,
       "isJsonSchema": true,
       "metadata": {},
       "overflow": false,
       "plotOptions": {
        "customPlotOptions": {},
        "displayType": "table",
        "pivotAggregation": null,
        "pivotColumns": null,
        "xColumns": null,
        "yColumns": null
       },
       "removedWidgets": [],
       "schema": [
        {
         "metadata": "{}",
         "name": "Posg1",
         "type": "\"string\""
        },
        {
         "metadata": "{}",
         "name": "Teamsg1",
         "type": "\"string\""
        },
        {
         "metadata": "{}",
         "name": "Groupg1",
         "type": "\"string\""
        },
        {
         "metadata": "{}",
         "name": "Pldg1",
         "type": "\"string\""
        },
        {
         "metadata": "{}",
         "name": "Wg1",
         "type": "\"string\""
        },
        {
         "metadata": "{}",
         "name": "Dg1",
         "type": "\"string\""
        },
        {
         "metadata": "{}",
         "name": "Lg1",
         "type": "\"string\""
        },
        {
         "metadata": "{}",
         "name": "GFg1",
         "type": "\"string\""
        },
        {
         "metadata": "{}",
         "name": "GAg1",
         "type": "\"string\""
        },
        {
         "metadata": "{}",
         "name": "GDg1",
         "type": "\"string\""
        },
        {
         "metadata": "{}",
         "name": "Ptsg1",
         "type": "\"string\""
        },
        {
         "metadata": "{}",
         "name": "Round_of_16",
         "type": "\"string\""
        },
        {
         "metadata": "{}",
         "name": "rest",
         "type": "\"string\""
        },
        {
         "metadata": "{}",
         "name": "Quater_Finalq2",
         "type": "\"string\""
        },
        {
         "metadata": "{}",
         "name": "restq2",
         "type": "\"string\""
        },
        {
         "metadata": "{}",
         "name": "Semi_Finals1",
         "type": "\"string\""
        },
        {
         "metadata": "{}",
         "name": "rests1",
         "type": "\"string\""
        },
        {
         "metadata": "{}",
         "name": "Finalf",
         "type": "\"string\""
        },
        {
         "metadata": "{}",
         "name": "restf",
         "type": "\"string\""
        },
        {
         "metadata": "{}",
         "name": "Semi_Finals2",
         "type": "\"string\""
        },
        {
         "metadata": "{}",
         "name": "rests2",
         "type": "\"string\""
        },
        {
         "metadata": "{}",
         "name": "Quater_Finalq1",
         "type": "\"string\""
        },
        {
         "metadata": "{}",
         "name": "restq1",
         "type": "\"string\""
        },
        {
         "metadata": "{}",
         "name": "Round_of_16r2",
         "type": "\"string\""
        },
        {
         "metadata": "{}",
         "name": "restr2",
         "type": "\"string\""
        },
        {
         "metadata": "{}",
         "name": "Posg2",
         "type": "\"string\""
        },
        {
         "metadata": "{}",
         "name": "Teamsg2",
         "type": "\"string\""
        },
        {
         "metadata": "{}",
         "name": "Groupg2",
         "type": "\"string\""
        },
        {
         "metadata": "{}",
         "name": "Pldg2",
         "type": "\"string\""
        },
        {
         "metadata": "{}",
         "name": "Wg2",
         "type": "\"string\""
        },
        {
         "metadata": "{}",
         "name": "Dg2",
         "type": "\"string\""
        },
        {
         "metadata": "{}",
         "name": "Lg2",
         "type": "\"string\""
        },
        {
         "metadata": "{}",
         "name": "GFg2",
         "type": "\"string\""
        },
        {
         "metadata": "{}",
         "name": "GAg2",
         "type": "\"string\""
        },
        {
         "metadata": "{}",
         "name": "GDg2",
         "type": "\"string\""
        },
        {
         "metadata": "{}",
         "name": "Ptsg2",
         "type": "\"string\""
        }
       ],
       "type": "table"
      }
     },
     "output_type": "display_data"
    }
   ],
   "source": [
    "left_side_qf.columns = [f\"{col}q2\" for col in left_side_qf.columns]\n",
    "\n",
    "merged_df = pd.concat([left_side_r16, left_side_qf], axis=1)\n",
    "\n",
    "left_side_sf.columns = [f\"{col}s1\" for col in left_side_sf.columns]\n",
    "merged_df = pd.concat([merged_df, left_side_sf], axis=1)\n",
    "\n",
    "visualize_final.columns = [f\"{col}f\" for col in visualize_final.columns]\n",
    "merged_df = pd.concat([merged_df, visualize_final], axis=1)\n",
    "\n",
    "right_side_sf.columns = [f\"{col}s2\" for col in right_side_sf.columns]\n",
    "\n",
    "merged_df = pd.concat([merged_df, right_side_sf], axis=1)\n",
    "\n",
    "right_side_qf.columns = [f\"{col}q1\" for col in right_side_qf.columns]\n",
    "# Concatenate the DataFrames\n",
    "merged_df = pd.concat([merged_df, right_side_qf], axis=1)\n",
    "\n",
    "right_side_r16.columns = [f\"{col}r2\" for col in right_side_r16.columns]\n",
    "\n",
    "# Concatenate the DataFrames\n",
    "merged_df = pd.concat([merged_df,right_side_r16], axis=1)\n",
    "\n",
    "left_table.columns = [f\"{col}g1\" for col in left_table.columns]\n",
    "right_table.columns = [f\"{col}g2\" for col in right_table.columns]\n",
    "\n",
    "# Concatenate the DataFrames\n",
    "merged_df = pd.concat([left_table,merged_df, right_table], axis=1)\n",
    "\n",
    "merged_df.fillna('', inplace=True)\n",
    "\n",
    "\n",
    "display(merged_df)"
   ]
  },
  {
   "cell_type": "code",
   "execution_count": 0,
   "metadata": {
    "application/vnd.databricks.v1+cell": {
     "cellMetadata": {
      "byteLimit": 2048000,
      "rowLimit": 10000
     },
     "inputWidgets": {},
     "nuid": "627d745e-c85e-4d99-9423-9555663cc0ea",
     "showTitle": false,
     "title": ""
    }
   },
   "outputs": [],
   "source": [
    "\n",
    "# # Concatenate the DataFrames\n",
    "# merged_df = pd.concat([left_table, left_side_r16, left_side_qf, left_side_sf, visualize_final, right_side_sf, right_side_qf, right_side_r16, right_table], axis=1)\n",
    "# merged_df.fillna('', inplace=True)\n",
    "# # Display the DataFrame\n",
    "# display(merged_df)\n"
   ]
  }
 ],
 "metadata": {
  "application/vnd.databricks.v1+notebook": {
   "dashboards": [],
   "language": "python",
   "notebookMetadata": {
    "mostRecentlyExecutedCommandWithImplicitDF": {
     "commandId": 3977131343718553,
     "dataframes": [
      "_sqldf"
     ]
    },
    "pythonIndentUnit": 4
   },
   "notebookName": "Euro cup Simulation(Satish_Subedi) 2024-02-20 19:38:07",
   "widgets": {}
  }
 },
 "nbformat": 4,
 "nbformat_minor": 0
}
