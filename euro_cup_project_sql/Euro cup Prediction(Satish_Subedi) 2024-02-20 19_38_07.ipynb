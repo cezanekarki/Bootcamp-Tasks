{
 "cells": [
  {
   "cell_type": "markdown",
   "metadata": {
    "application/vnd.databricks.v1+cell": {
     "cellMetadata": {
      "byteLimit": 2048000,
      "rowLimit": 10000
     },
     "inputWidgets": {},
     "nuid": "1302983a-9dbe-4fc9-874a-8a6e43201827",
     "showTitle": false,
     "title": ""
    }
   },
   "source": [
    "# EURO CUP2024 - GERMANY"
   ]
  },
  {
   "cell_type": "markdown",
   "metadata": {
    "application/vnd.databricks.v1+cell": {
     "cellMetadata": {
      "byteLimit": 2048000,
      "rowLimit": 10000
     },
     "inputWidgets": {},
     "nuid": "f6f16639-9783-459a-a9b9-5e9a64e3a4d0",
     "showTitle": false,
     "title": ""
    }
   },
   "source": [
    "## Table for the Combination"
   ]
  },
  {
   "cell_type": "code",
   "execution_count": 0,
   "metadata": {
    "application/vnd.databricks.v1+cell": {
     "cellMetadata": {
      "byteLimit": 2048000,
      "rowLimit": 10000
     },
     "inputWidgets": {},
     "nuid": "9a4cc4e7-ce10-4223-9e1d-7ea96293afe3",
     "showTitle": false,
     "title": ""
    }
   },
   "outputs": [
    {
     "output_type": "stream",
     "name": "stdout",
     "output_type": "stream",
     "text": [
      "Out[2]: True"
     ]
    }
   ],
   "source": [
    "dbutils.fs.rm(\"dbfs:/user/hive/warehouse/matches\",True)"
   ]
  },
  {
   "cell_type": "code",
   "execution_count": 0,
   "metadata": {
    "application/vnd.databricks.v1+cell": {
     "cellMetadata": {
      "byteLimit": 2048000,
      "rowLimit": 10000
     },
     "inputWidgets": {},
     "nuid": "617e50b1-70ea-47a9-9ede-4398eeef312d",
     "showTitle": false,
     "title": ""
    }
   },
   "outputs": [
    {
     "output_type": "stream",
     "name": "stdout",
     "output_type": "stream",
     "text": [
      "Out[3]: True"
     ]
    }
   ],
   "source": [
    "dbutils.fs.rm(\"dbfs:/user/hive/warehouse/thirdplacecombination\",True)"
   ]
  },
  {
   "cell_type": "code",
   "execution_count": 0,
   "metadata": {
    "application/vnd.databricks.v1+cell": {
     "cellMetadata": {
      "byteLimit": 2048000,
      "rowLimit": 10000
     },
     "inputWidgets": {},
     "nuid": "297e04ae-5a3d-4ee7-91bc-0178fc715e68",
     "showTitle": false,
     "title": ""
    }
   },
   "outputs": [
    {
     "output_type": "stream",
     "name": "stdout",
     "output_type": "stream",
     "text": [
      "Out[13]: True"
     ]
    }
   ],
   "source": [
    "dbutils.fs.rm(\"dbfs:/user/hive/warehouse/teamsgroups\",True)"
   ]
  },
  {
   "cell_type": "code",
   "execution_count": 0,
   "metadata": {
    "application/vnd.databricks.v1+cell": {
     "cellMetadata": {
      "byteLimit": 2048000,
      "rowLimit": 10000
     },
     "inputWidgets": {},
     "nuid": "c3eabb26-b527-4e6d-991b-fbe898efb348",
     "showTitle": false,
     "title": ""
    }
   },
   "outputs": [
    {
     "output_type": "stream",
     "name": "stdout",
     "output_type": "stream",
     "text": [
      "Out[14]: False"
     ]
    }
   ],
   "source": [
    "dbutils.fs.rm(\"dbfs:/user/hive/warehouse/matchstats\",True)"
   ]
  },
  {
   "cell_type": "code",
   "execution_count": 0,
   "metadata": {
    "application/vnd.databricks.v1+cell": {
     "cellMetadata": {
      "byteLimit": 2048000,
      "rowLimit": 10000
     },
     "inputWidgets": {},
     "nuid": "c0641912-7ae3-4423-8eb4-555042beaabd",
     "showTitle": false,
     "title": ""
    }
   },
   "outputs": [
    {
     "output_type": "stream",
     "name": "stdout",
     "output_type": "stream",
     "text": [
      "Out[32]: True"
     ]
    }
   ],
   "source": [
    "dbutils.fs.rm(\"dbfs:/user/hive/warehouse/round_of_16\",True)"
   ]
  },
  {
   "cell_type": "markdown",
   "metadata": {
    "application/vnd.databricks.v1+cell": {
     "cellMetadata": {},
     "inputWidgets": {},
     "nuid": "969737e6-1753-4044-8791-287e74046b2b",
     "showTitle": false,
     "title": ""
    }
   },
   "source": [
    "## Table for Different Permutation and Combination For the match in the Round of 16 stages"
   ]
  },
  {
   "cell_type": "code",
   "execution_count": 0,
   "metadata": {
    "application/vnd.databricks.v1+cell": {
     "cellMetadata": {
      "byteLimit": 2048000,
      "implicitDf": true,
      "rowLimit": 10000
     },
     "inputWidgets": {},
     "nuid": "5e667da9-c864-48f6-836c-7b6b1410ea22",
     "showTitle": false,
     "title": ""
    }
   },
   "outputs": [
    {
     "output_type": "display_data",
     "data": {
      "text/html": [
       "<style scoped>\n",
       "  .table-result-container {\n",
       "    max-height: 300px;\n",
       "    overflow: auto;\n",
       "  }\n",
       "  table, th, td {\n",
       "    border: 1px solid black;\n",
       "    border-collapse: collapse;\n",
       "  }\n",
       "  th, td {\n",
       "    padding: 5px;\n",
       "  }\n",
       "  th {\n",
       "    text-align: left;\n",
       "  }\n",
       "</style><div class='table-result-container'><table class='table-result'><thead style='background-color: white'><tr><th>num_affected_rows</th><th>num_inserted_rows</th></tr></thead><tbody><tr><td>15</td><td>15</td></tr></tbody></table></div>"
      ]
     },
     "metadata": {
      "application/vnd.databricks.v1+output": {
       "addedWidgets": {},
       "aggData": [],
       "aggError": "",
       "aggOverflow": false,
       "aggSchema": [],
       "aggSeriesLimitReached": false,
       "aggType": "",
       "arguments": {},
       "columnCustomDisplayInfos": {},
       "data": [
        [
         15,
         15
        ]
       ],
       "datasetInfos": [],
       "dbfsResultPath": null,
       "isJsonSchema": true,
       "metadata": {},
       "overflow": false,
       "plotOptions": {
        "customPlotOptions": {},
        "displayType": "table",
        "pivotAggregation": null,
        "pivotColumns": null,
        "xColumns": null,
        "yColumns": null
       },
       "removedWidgets": [],
       "schema": [
        {
         "metadata": "{}",
         "name": "num_affected_rows",
         "type": "\"long\""
        },
        {
         "metadata": "{}",
         "name": "num_inserted_rows",
         "type": "\"long\""
        }
       ],
       "type": "table"
      }
     },
     "output_type": "display_data"
    }
   ],
   "source": [
    "%sql\n",
    "CREATE or replace  TABLE ThirdPlaceCombination(\n",
    "  ID INTEGER,\n",
    "  SELECTEDGROUPS VARCHAR(4),\n",
    "  Team1B CHAR(1),\n",
    "  Team1C CHAR(1),\n",
    "  Team1E CHAR(1),\n",
    "  Team1F CHAR(1)\n",
    ");\n",
    "\n",
    "-- Step 2: Insert the provided values into the \"THIRDMATCHUP\" table\n",
    "INSERT INTO  ThirdPlaceCombination (ID, SELECTEDGROUPS, Team1B, Team1C, Team1E, Team1F) VALUES\n",
    "(1, 'ABCD', 'A', 'D', 'B', 'C'),\n",
    "(2, 'ABCE', 'A', 'E', 'B', 'C'),\n",
    "(3, 'ABCF', 'A', 'F', 'B', 'C'),\n",
    "(4, 'ABDE', 'D', 'E', 'A', 'B'),\n",
    "(5, 'ABDF', 'D', 'F', 'A', 'B'),\n",
    "(6, 'ABEF', 'E', 'F', 'B', 'A'),\n",
    "(7, 'ACDE', 'E', 'D', 'C', 'A'),\n",
    "(8, 'ACDF', 'F', 'D', 'C', 'A'),\n",
    "(9, 'ACEF', 'E', 'F', 'C', 'A'),\n",
    "(10, 'ADEF', 'E', 'F', 'D', 'A'),\n",
    "(11, 'BCDE', 'E', 'D', 'B', 'C'),\n",
    "(12, 'BCDF', 'F', 'D', 'C', 'B'),\n",
    "(13, 'BCEF', 'F', 'E', 'C', 'B'),\n",
    "(14, 'BDEF', 'F', 'E', 'D', 'B'),\n",
    "(15, 'CDEF', 'F', 'E', 'D', 'C');"
   ]
  },
  {
   "cell_type": "markdown",
   "metadata": {
    "application/vnd.databricks.v1+cell": {
     "cellMetadata": {
      "byteLimit": 2048000,
      "rowLimit": 10000
     },
     "inputWidgets": {},
     "nuid": "73c6b0c9-f3f9-4ef0-8baf-8c3187a1ac98",
     "showTitle": false,
     "title": ""
    }
   },
   "source": [
    "## Table for the Groups of Teams"
   ]
  },
  {
   "cell_type": "code",
   "execution_count": 0,
   "metadata": {
    "application/vnd.databricks.v1+cell": {
     "cellMetadata": {
      "byteLimit": 2048000,
      "implicitDf": true,
      "rowLimit": 10000
     },
     "inputWidgets": {},
     "nuid": "52b0101b-ceb0-42fc-9fa4-4ee10e0fe994",
     "showTitle": false,
     "title": ""
    }
   },
   "outputs": [
    {
     "output_type": "display_data",
     "data": {
      "text/html": [
       "<style scoped>\n",
       "  .table-result-container {\n",
       "    max-height: 300px;\n",
       "    overflow: auto;\n",
       "  }\n",
       "  table, th, td {\n",
       "    border: 1px solid black;\n",
       "    border-collapse: collapse;\n",
       "  }\n",
       "  th, td {\n",
       "    padding: 5px;\n",
       "  }\n",
       "  th {\n",
       "    text-align: left;\n",
       "  }\n",
       "</style><div class='table-result-container'><table class='table-result'><thead style='background-color: white'><tr><th>num_affected_rows</th><th>num_inserted_rows</th></tr></thead><tbody><tr><td>24</td><td>24</td></tr></tbody></table></div>"
      ]
     },
     "metadata": {
      "application/vnd.databricks.v1+output": {
       "addedWidgets": {},
       "aggData": [],
       "aggError": "",
       "aggOverflow": false,
       "aggSchema": [],
       "aggSeriesLimitReached": false,
       "aggType": "",
       "arguments": {},
       "columnCustomDisplayInfos": {},
       "data": [
        [
         24,
         24
        ]
       ],
       "datasetInfos": [],
       "dbfsResultPath": null,
       "isJsonSchema": true,
       "metadata": {},
       "overflow": false,
       "plotOptions": {
        "customPlotOptions": {},
        "displayType": "table",
        "pivotAggregation": null,
        "pivotColumns": null,
        "xColumns": null,
        "yColumns": null
       },
       "removedWidgets": [],
       "schema": [
        {
         "metadata": "{}",
         "name": "num_affected_rows",
         "type": "\"long\""
        },
        {
         "metadata": "{}",
         "name": "num_inserted_rows",
         "type": "\"long\""
        }
       ],
       "type": "table"
      }
     },
     "output_type": "display_data"
    }
   ],
   "source": [
    "%sql\n",
    "CREATE or replace TABLE TeamsGroups (\n",
    "    TeamID INT,\n",
    "    TeamName VARCHAR(100),\n",
    "    GroupName VARCHAR(1) \n",
    ");\n",
    "\n",
    "INSERT INTO TeamsGroups (TeamID,TeamName,GroupName) VALUES\n",
    "-- Group A\n",
    "    (1, 'Germany','A'),\n",
    "    (2, 'Scotland','A'),\n",
    "    (3, 'Hungary','A'),\n",
    "    (4, 'Switzerland','A'),\n",
    "\n",
    "-- Group B\n",
    "    (5, 'Spain','B'),\n",
    "    (6, 'Croatia','B'),\n",
    "    (7, 'Italy','B'),\n",
    "    (8, 'Albania','B'),\n",
    "\n",
    "-- Group C\n",
    "    (9, 'Slovenia','C'),\n",
    "    (10, 'Denmark','C'),\n",
    "    (11, 'Serbia','C'),\n",
    "    (12, 'England','C'),\n",
    "\n",
    "-- Group D\n",
    "    (13, 'Netherlands','D'),\n",
    "    (14, 'Austria','D'),\n",
    "    (15, 'France','D'),\n",
    "    (16, 'Play-off Winner A','D'),\n",
    "\n",
    "-- Group E\n",
    "    (17, 'Belgium','E'),\n",
    "    (18, 'Slovakia','E'),\n",
    "    (19, 'Romania','E'),\n",
    "    (20, 'Play-off Winner B','E'),\n",
    "\n",
    "-- Group F\n",
    "    (21, 'Turkey','F'),\n",
    "    (22, 'Play-off Winner C','F'),\n",
    "    (23, 'Portugal','F'),\n",
    "    (24, 'Czech Republic','F');\n"
   ]
  },
  {
   "cell_type": "markdown",
   "metadata": {
    "application/vnd.databricks.v1+cell": {
     "cellMetadata": {
      "byteLimit": 2048000,
      "rowLimit": 10000
     },
     "inputWidgets": {},
     "nuid": "cd08aac8-f7ea-4b06-9fe4-8b20f7af9a7f",
     "showTitle": false,
     "title": ""
    }
   },
   "source": [
    "## Table for the ALL The matches which will be in the eurocup"
   ]
  },
  {
   "cell_type": "code",
   "execution_count": 0,
   "metadata": {
    "application/vnd.databricks.v1+cell": {
     "cellMetadata": {
      "byteLimit": 2048000,
      "implicitDf": true,
      "rowLimit": 10000
     },
     "inputWidgets": {},
     "nuid": "b663c3cf-49f3-41b3-b246-2f830c8de014",
     "showTitle": false,
     "title": ""
    }
   },
   "outputs": [
    {
     "output_type": "display_data",
     "data": {
      "text/html": [
       "<style scoped>\n",
       "  .table-result-container {\n",
       "    max-height: 300px;\n",
       "    overflow: auto;\n",
       "  }\n",
       "  table, th, td {\n",
       "    border: 1px solid black;\n",
       "    border-collapse: collapse;\n",
       "  }\n",
       "  th, td {\n",
       "    padding: 5px;\n",
       "  }\n",
       "  th {\n",
       "    text-align: left;\n",
       "  }\n",
       "</style><div class='table-result-container'><table class='table-result'><thead style='background-color: white'><tr></tr></thead><tbody></tbody></table></div>"
      ]
     },
     "metadata": {
      "application/vnd.databricks.v1+output": {
       "addedWidgets": {},
       "aggData": [],
       "aggError": "",
       "aggOverflow": false,
       "aggSchema": [],
       "aggSeriesLimitReached": false,
       "aggType": "",
       "arguments": {},
       "columnCustomDisplayInfos": {},
       "data": [],
       "datasetInfos": [],
       "dbfsResultPath": null,
       "isJsonSchema": true,
       "metadata": {},
       "overflow": false,
       "plotOptions": {
        "customPlotOptions": {},
        "displayType": "table",
        "pivotAggregation": null,
        "pivotColumns": null,
        "xColumns": null,
        "yColumns": null
       },
       "removedWidgets": [],
       "schema": [],
       "type": "table"
      }
     },
     "output_type": "display_data"
    }
   ],
   "source": [
    "%sql\n",
    "CREATE or replace TABLE Matches (\n",
    "    MatchID INT,\n",
    "    Fixture varchar(50),\n",
    "    GroupName varchar(1),\n",
    "    HomeTeam varchar(20),\n",
    "    AwayTeam varchar(20),\n",
    "    HomeTeamGoals INT,\n",
    "    AwayTeamGoals INT,\n",
    "    MatchResult varchar(20),\n",
    "    MatchStage varchar(20)\n",
    ");"
   ]
  },
  {
   "cell_type": "code",
   "execution_count": 0,
   "metadata": {
    "application/vnd.databricks.v1+cell": {
     "cellMetadata": {
      "byteLimit": 2048000,
      "implicitDf": true,
      "rowLimit": 10000
     },
     "inputWidgets": {},
     "nuid": "3f167919-4ef7-4cc6-98f9-ae994b1231c9",
     "showTitle": false,
     "title": ""
    }
   },
   "outputs": [
    {
     "output_type": "display_data",
     "data": {
      "text/html": [
       "<style scoped>\n",
       "  .table-result-container {\n",
       "    max-height: 300px;\n",
       "    overflow: auto;\n",
       "  }\n",
       "  table, th, td {\n",
       "    border: 1px solid black;\n",
       "    border-collapse: collapse;\n",
       "  }\n",
       "  th, td {\n",
       "    padding: 5px;\n",
       "  }\n",
       "  th {\n",
       "    text-align: left;\n",
       "  }\n",
       "</style><div class='table-result-container'><table class='table-result'><thead style='background-color: white'><tr><th>num_affected_rows</th><th>num_inserted_rows</th></tr></thead><tbody><tr><td>36</td><td>36</td></tr></tbody></table></div>"
      ]
     },
     "metadata": {
      "application/vnd.databricks.v1+output": {
       "addedWidgets": {},
       "aggData": [],
       "aggError": "",
       "aggOverflow": false,
       "aggSchema": [],
       "aggSeriesLimitReached": false,
       "aggType": "",
       "arguments": {},
       "columnCustomDisplayInfos": {},
       "data": [
        [
         36,
         36
        ]
       ],
       "datasetInfos": [],
       "dbfsResultPath": null,
       "isJsonSchema": true,
       "metadata": {},
       "overflow": false,
       "plotOptions": {
        "customPlotOptions": {},
        "displayType": "table",
        "pivotAggregation": null,
        "pivotColumns": null,
        "xColumns": null,
        "yColumns": null
       },
       "removedWidgets": [],
       "schema": [
        {
         "metadata": "{}",
         "name": "num_affected_rows",
         "type": "\"long\""
        },
        {
         "metadata": "{}",
         "name": "num_inserted_rows",
         "type": "\"long\""
        }
       ],
       "type": "table"
      }
     },
     "output_type": "display_data"
    }
   ],
   "source": [
    "%sql\n",
    "--Fixture of all teams from all the group and inserting into matches table\n",
    "INSERT INTO MATCHES\n",
    "    SELECT\n",
    "        ROW_NUMBER() over(order by 1) as MatchId,\n",
    "        CONCAT(T1.TeamName, ' vs ', T2.TeamName) AS Fixture,\n",
    "        T1.GroupName AS GroupName,\n",
    "        T1.TeamName as HomeTeam,\n",
    "        T2.TeamName as AwayTeam,\n",
    "        CAST(rand() * 6 AS INT) AS GoalsScored, \n",
    "        CAST(rand() * 6 AS INT) AS GoalsAllowed,\n",
    "        'None' as MatchResult,\n",
    "        'Group Stage' as MatchStage\n",
    "    FROM \n",
    "        TeamsGroups AS T1\n",
    "    CROSS JOIN \n",
    "        TeamsGroups AS T2 where T1.GroupName = T2.GroupName AND T1.TeamID < T2.TeamID;"
   ]
  },
  {
   "cell_type": "code",
   "execution_count": 0,
   "metadata": {
    "application/vnd.databricks.v1+cell": {
     "cellMetadata": {
      "byteLimit": 2048000,
      "implicitDf": true,
      "rowLimit": 10000
     },
     "inputWidgets": {},
     "nuid": "1fb7ac86-d2eb-49b1-acc9-1fe2b7d41d29",
     "showTitle": false,
     "title": ""
    }
   },
   "outputs": [
    {
     "output_type": "display_data",
     "data": {
      "text/html": [
       "<style scoped>\n",
       "  .table-result-container {\n",
       "    max-height: 300px;\n",
       "    overflow: auto;\n",
       "  }\n",
       "  table, th, td {\n",
       "    border: 1px solid black;\n",
       "    border-collapse: collapse;\n",
       "  }\n",
       "  th, td {\n",
       "    padding: 5px;\n",
       "  }\n",
       "  th {\n",
       "    text-align: left;\n",
       "  }\n",
       "</style><div class='table-result-container'><table class='table-result'><thead style='background-color: white'><tr><th>MatchID</th><th>Fixture</th><th>GroupName</th><th>HomeTeam</th><th>AwayTeam</th><th>HomeTeamGoals</th><th>AwayTeamGoals</th><th>MatchResult</th><th>MatchStage</th></tr></thead><tbody><tr><td>1</td><td>Germany vs Switzerland</td><td>A</td><td>Germany</td><td>Switzerland</td><td>5</td><td>4</td><td>None</td><td>Group Stage</td></tr><tr><td>2</td><td>Germany vs Hungary</td><td>A</td><td>Germany</td><td>Hungary</td><td>2</td><td>1</td><td>None</td><td>Group Stage</td></tr><tr><td>3</td><td>Germany vs Scotland</td><td>A</td><td>Germany</td><td>Scotland</td><td>0</td><td>2</td><td>None</td><td>Group Stage</td></tr><tr><td>4</td><td>Scotland vs Switzerland</td><td>A</td><td>Scotland</td><td>Switzerland</td><td>4</td><td>5</td><td>None</td><td>Group Stage</td></tr><tr><td>5</td><td>Scotland vs Hungary</td><td>A</td><td>Scotland</td><td>Hungary</td><td>4</td><td>3</td><td>None</td><td>Group Stage</td></tr><tr><td>6</td><td>Hungary vs Switzerland</td><td>A</td><td>Hungary</td><td>Switzerland</td><td>2</td><td>1</td><td>None</td><td>Group Stage</td></tr><tr><td>7</td><td>Spain vs Albania</td><td>B</td><td>Spain</td><td>Albania</td><td>1</td><td>2</td><td>None</td><td>Group Stage</td></tr><tr><td>8</td><td>Spain vs Italy</td><td>B</td><td>Spain</td><td>Italy</td><td>2</td><td>4</td><td>None</td><td>Group Stage</td></tr><tr><td>9</td><td>Spain vs Croatia</td><td>B</td><td>Spain</td><td>Croatia</td><td>0</td><td>1</td><td>None</td><td>Group Stage</td></tr><tr><td>10</td><td>Croatia vs Albania</td><td>B</td><td>Croatia</td><td>Albania</td><td>1</td><td>5</td><td>None</td><td>Group Stage</td></tr><tr><td>11</td><td>Croatia vs Italy</td><td>B</td><td>Croatia</td><td>Italy</td><td>5</td><td>0</td><td>None</td><td>Group Stage</td></tr><tr><td>12</td><td>Italy vs Albania</td><td>B</td><td>Italy</td><td>Albania</td><td>5</td><td>4</td><td>None</td><td>Group Stage</td></tr><tr><td>13</td><td>Slovenia vs England</td><td>C</td><td>Slovenia</td><td>England</td><td>5</td><td>5</td><td>None</td><td>Group Stage</td></tr><tr><td>14</td><td>Slovenia vs Serbia</td><td>C</td><td>Slovenia</td><td>Serbia</td><td>3</td><td>0</td><td>None</td><td>Group Stage</td></tr><tr><td>15</td><td>Slovenia vs Denmark</td><td>C</td><td>Slovenia</td><td>Denmark</td><td>4</td><td>3</td><td>None</td><td>Group Stage</td></tr><tr><td>16</td><td>Denmark vs England</td><td>C</td><td>Denmark</td><td>England</td><td>4</td><td>0</td><td>None</td><td>Group Stage</td></tr><tr><td>17</td><td>Denmark vs Serbia</td><td>C</td><td>Denmark</td><td>Serbia</td><td>3</td><td>0</td><td>None</td><td>Group Stage</td></tr><tr><td>18</td><td>Serbia vs England</td><td>C</td><td>Serbia</td><td>England</td><td>5</td><td>4</td><td>None</td><td>Group Stage</td></tr><tr><td>19</td><td>Netherlands vs Play-off Winner A</td><td>D</td><td>Netherlands</td><td>Play-off Winner A</td><td>4</td><td>1</td><td>None</td><td>Group Stage</td></tr><tr><td>20</td><td>Netherlands vs France</td><td>D</td><td>Netherlands</td><td>France</td><td>5</td><td>5</td><td>None</td><td>Group Stage</td></tr><tr><td>21</td><td>Netherlands vs Austria</td><td>D</td><td>Netherlands</td><td>Austria</td><td>2</td><td>3</td><td>None</td><td>Group Stage</td></tr><tr><td>22</td><td>Austria vs Play-off Winner A</td><td>D</td><td>Austria</td><td>Play-off Winner A</td><td>2</td><td>1</td><td>None</td><td>Group Stage</td></tr><tr><td>23</td><td>Austria vs France</td><td>D</td><td>Austria</td><td>France</td><td>2</td><td>1</td><td>None</td><td>Group Stage</td></tr><tr><td>24</td><td>France vs Play-off Winner A</td><td>D</td><td>France</td><td>Play-off Winner A</td><td>1</td><td>2</td><td>None</td><td>Group Stage</td></tr><tr><td>25</td><td>Belgium vs Play-off Winner B</td><td>E</td><td>Belgium</td><td>Play-off Winner B</td><td>3</td><td>2</td><td>None</td><td>Group Stage</td></tr><tr><td>26</td><td>Belgium vs Romania</td><td>E</td><td>Belgium</td><td>Romania</td><td>0</td><td>0</td><td>None</td><td>Group Stage</td></tr><tr><td>27</td><td>Belgium vs Slovakia</td><td>E</td><td>Belgium</td><td>Slovakia</td><td>2</td><td>0</td><td>None</td><td>Group Stage</td></tr><tr><td>28</td><td>Slovakia vs Play-off Winner B</td><td>E</td><td>Slovakia</td><td>Play-off Winner B</td><td>1</td><td>3</td><td>None</td><td>Group Stage</td></tr><tr><td>29</td><td>Slovakia vs Romania</td><td>E</td><td>Slovakia</td><td>Romania</td><td>3</td><td>4</td><td>None</td><td>Group Stage</td></tr><tr><td>30</td><td>Romania vs Play-off Winner B</td><td>E</td><td>Romania</td><td>Play-off Winner B</td><td>4</td><td>3</td><td>None</td><td>Group Stage</td></tr><tr><td>31</td><td>Turkey vs Czech Republic</td><td>F</td><td>Turkey</td><td>Czech Republic</td><td>4</td><td>5</td><td>None</td><td>Group Stage</td></tr><tr><td>32</td><td>Turkey vs Portugal</td><td>F</td><td>Turkey</td><td>Portugal</td><td>3</td><td>0</td><td>None</td><td>Group Stage</td></tr><tr><td>33</td><td>Turkey vs Play-off Winner C</td><td>F</td><td>Turkey</td><td>Play-off Winner C</td><td>3</td><td>4</td><td>None</td><td>Group Stage</td></tr><tr><td>34</td><td>Play-off Winner C vs Czech Republic</td><td>F</td><td>Play-off Winner C</td><td>Czech Republic</td><td>2</td><td>5</td><td>None</td><td>Group Stage</td></tr><tr><td>35</td><td>Play-off Winner C vs Portugal</td><td>F</td><td>Play-off Winner C</td><td>Portugal</td><td>3</td><td>1</td><td>None</td><td>Group Stage</td></tr><tr><td>36</td><td>Portugal vs Czech Republic</td><td>F</td><td>Portugal</td><td>Czech Republic</td><td>0</td><td>2</td><td>None</td><td>Group Stage</td></tr></tbody></table></div>"
      ]
     },
     "metadata": {
      "application/vnd.databricks.v1+output": {
       "addedWidgets": {},
       "aggData": [],
       "aggError": "",
       "aggOverflow": false,
       "aggSchema": [],
       "aggSeriesLimitReached": false,
       "aggType": "",
       "arguments": {},
       "columnCustomDisplayInfos": {},
       "data": [
        [
         1,
         "Germany vs Switzerland",
         "A",
         "Germany",
         "Switzerland",
         5,
         4,
         "None",
         "Group Stage"
        ],
        [
         2,
         "Germany vs Hungary",
         "A",
         "Germany",
         "Hungary",
         2,
         1,
         "None",
         "Group Stage"
        ],
        [
         3,
         "Germany vs Scotland",
         "A",
         "Germany",
         "Scotland",
         0,
         2,
         "None",
         "Group Stage"
        ],
        [
         4,
         "Scotland vs Switzerland",
         "A",
         "Scotland",
         "Switzerland",
         4,
         5,
         "None",
         "Group Stage"
        ],
        [
         5,
         "Scotland vs Hungary",
         "A",
         "Scotland",
         "Hungary",
         4,
         3,
         "None",
         "Group Stage"
        ],
        [
         6,
         "Hungary vs Switzerland",
         "A",
         "Hungary",
         "Switzerland",
         2,
         1,
         "None",
         "Group Stage"
        ],
        [
         7,
         "Spain vs Albania",
         "B",
         "Spain",
         "Albania",
         1,
         2,
         "None",
         "Group Stage"
        ],
        [
         8,
         "Spain vs Italy",
         "B",
         "Spain",
         "Italy",
         2,
         4,
         "None",
         "Group Stage"
        ],
        [
         9,
         "Spain vs Croatia",
         "B",
         "Spain",
         "Croatia",
         0,
         1,
         "None",
         "Group Stage"
        ],
        [
         10,
         "Croatia vs Albania",
         "B",
         "Croatia",
         "Albania",
         1,
         5,
         "None",
         "Group Stage"
        ],
        [
         11,
         "Croatia vs Italy",
         "B",
         "Croatia",
         "Italy",
         5,
         0,
         "None",
         "Group Stage"
        ],
        [
         12,
         "Italy vs Albania",
         "B",
         "Italy",
         "Albania",
         5,
         4,
         "None",
         "Group Stage"
        ],
        [
         13,
         "Slovenia vs England",
         "C",
         "Slovenia",
         "England",
         5,
         5,
         "None",
         "Group Stage"
        ],
        [
         14,
         "Slovenia vs Serbia",
         "C",
         "Slovenia",
         "Serbia",
         3,
         0,
         "None",
         "Group Stage"
        ],
        [
         15,
         "Slovenia vs Denmark",
         "C",
         "Slovenia",
         "Denmark",
         4,
         3,
         "None",
         "Group Stage"
        ],
        [
         16,
         "Denmark vs England",
         "C",
         "Denmark",
         "England",
         4,
         0,
         "None",
         "Group Stage"
        ],
        [
         17,
         "Denmark vs Serbia",
         "C",
         "Denmark",
         "Serbia",
         3,
         0,
         "None",
         "Group Stage"
        ],
        [
         18,
         "Serbia vs England",
         "C",
         "Serbia",
         "England",
         5,
         4,
         "None",
         "Group Stage"
        ],
        [
         19,
         "Netherlands vs Play-off Winner A",
         "D",
         "Netherlands",
         "Play-off Winner A",
         4,
         1,
         "None",
         "Group Stage"
        ],
        [
         20,
         "Netherlands vs France",
         "D",
         "Netherlands",
         "France",
         5,
         5,
         "None",
         "Group Stage"
        ],
        [
         21,
         "Netherlands vs Austria",
         "D",
         "Netherlands",
         "Austria",
         2,
         3,
         "None",
         "Group Stage"
        ],
        [
         22,
         "Austria vs Play-off Winner A",
         "D",
         "Austria",
         "Play-off Winner A",
         2,
         1,
         "None",
         "Group Stage"
        ],
        [
         23,
         "Austria vs France",
         "D",
         "Austria",
         "France",
         2,
         1,
         "None",
         "Group Stage"
        ],
        [
         24,
         "France vs Play-off Winner A",
         "D",
         "France",
         "Play-off Winner A",
         1,
         2,
         "None",
         "Group Stage"
        ],
        [
         25,
         "Belgium vs Play-off Winner B",
         "E",
         "Belgium",
         "Play-off Winner B",
         3,
         2,
         "None",
         "Group Stage"
        ],
        [
         26,
         "Belgium vs Romania",
         "E",
         "Belgium",
         "Romania",
         0,
         0,
         "None",
         "Group Stage"
        ],
        [
         27,
         "Belgium vs Slovakia",
         "E",
         "Belgium",
         "Slovakia",
         2,
         0,
         "None",
         "Group Stage"
        ],
        [
         28,
         "Slovakia vs Play-off Winner B",
         "E",
         "Slovakia",
         "Play-off Winner B",
         1,
         3,
         "None",
         "Group Stage"
        ],
        [
         29,
         "Slovakia vs Romania",
         "E",
         "Slovakia",
         "Romania",
         3,
         4,
         "None",
         "Group Stage"
        ],
        [
         30,
         "Romania vs Play-off Winner B",
         "E",
         "Romania",
         "Play-off Winner B",
         4,
         3,
         "None",
         "Group Stage"
        ],
        [
         31,
         "Turkey vs Czech Republic",
         "F",
         "Turkey",
         "Czech Republic",
         4,
         5,
         "None",
         "Group Stage"
        ],
        [
         32,
         "Turkey vs Portugal",
         "F",
         "Turkey",
         "Portugal",
         3,
         0,
         "None",
         "Group Stage"
        ],
        [
         33,
         "Turkey vs Play-off Winner C",
         "F",
         "Turkey",
         "Play-off Winner C",
         3,
         4,
         "None",
         "Group Stage"
        ],
        [
         34,
         "Play-off Winner C vs Czech Republic",
         "F",
         "Play-off Winner C",
         "Czech Republic",
         2,
         5,
         "None",
         "Group Stage"
        ],
        [
         35,
         "Play-off Winner C vs Portugal",
         "F",
         "Play-off Winner C",
         "Portugal",
         3,
         1,
         "None",
         "Group Stage"
        ],
        [
         36,
         "Portugal vs Czech Republic",
         "F",
         "Portugal",
         "Czech Republic",
         0,
         2,
         "None",
         "Group Stage"
        ]
       ],
       "datasetInfos": [],
       "dbfsResultPath": null,
       "isJsonSchema": true,
       "metadata": {},
       "overflow": false,
       "plotOptions": {
        "customPlotOptions": {},
        "displayType": "table",
        "pivotAggregation": null,
        "pivotColumns": null,
        "xColumns": null,
        "yColumns": null
       },
       "removedWidgets": [],
       "schema": [
        {
         "metadata": "{}",
         "name": "MatchID",
         "type": "\"integer\""
        },
        {
         "metadata": "{\"__CHAR_VARCHAR_TYPE_STRING\":\"varchar(50)\"}",
         "name": "Fixture",
         "type": "\"string\""
        },
        {
         "metadata": "{\"__CHAR_VARCHAR_TYPE_STRING\":\"varchar(1)\"}",
         "name": "GroupName",
         "type": "\"string\""
        },
        {
         "metadata": "{\"__CHAR_VARCHAR_TYPE_STRING\":\"varchar(20)\"}",
         "name": "HomeTeam",
         "type": "\"string\""
        },
        {
         "metadata": "{\"__CHAR_VARCHAR_TYPE_STRING\":\"varchar(20)\"}",
         "name": "AwayTeam",
         "type": "\"string\""
        },
        {
         "metadata": "{}",
         "name": "HomeTeamGoals",
         "type": "\"integer\""
        },
        {
         "metadata": "{}",
         "name": "AwayTeamGoals",
         "type": "\"integer\""
        },
        {
         "metadata": "{\"__CHAR_VARCHAR_TYPE_STRING\":\"varchar(20)\"}",
         "name": "MatchResult",
         "type": "\"string\""
        },
        {
         "metadata": "{\"__CHAR_VARCHAR_TYPE_STRING\":\"varchar(20)\"}",
         "name": "MatchStage",
         "type": "\"string\""
        }
       ],
       "type": "table"
      }
     },
     "output_type": "display_data"
    }
   ],
   "source": [
    "%sql\n",
    "select * from matches order by MatchID;"
   ]
  },
  {
   "cell_type": "code",
   "execution_count": 0,
   "metadata": {
    "application/vnd.databricks.v1+cell": {
     "cellMetadata": {
      "byteLimit": 2048000,
      "implicitDf": true,
      "rowLimit": 10000
     },
     "inputWidgets": {},
     "nuid": "dadd5f2f-8f88-478e-8972-c13766ec76ef",
     "showTitle": false,
     "title": ""
    }
   },
   "outputs": [
    {
     "output_type": "display_data",
     "data": {
      "text/html": [
       "<style scoped>\n",
       "  .table-result-container {\n",
       "    max-height: 300px;\n",
       "    overflow: auto;\n",
       "  }\n",
       "  table, th, td {\n",
       "    border: 1px solid black;\n",
       "    border-collapse: collapse;\n",
       "  }\n",
       "  th, td {\n",
       "    padding: 5px;\n",
       "  }\n",
       "  th {\n",
       "    text-align: left;\n",
       "  }\n",
       "</style><div class='table-result-container'><table class='table-result'><thead style='background-color: white'><tr><th>num_affected_rows</th></tr></thead><tbody><tr><td>36</td></tr></tbody></table></div>"
      ]
     },
     "metadata": {
      "application/vnd.databricks.v1+output": {
       "addedWidgets": {},
       "aggData": [],
       "aggError": "",
       "aggOverflow": false,
       "aggSchema": [],
       "aggSeriesLimitReached": false,
       "aggType": "",
       "arguments": {},
       "columnCustomDisplayInfos": {},
       "data": [
        [
         36
        ]
       ],
       "datasetInfos": [],
       "dbfsResultPath": null,
       "isJsonSchema": true,
       "metadata": {},
       "overflow": false,
       "plotOptions": {
        "customPlotOptions": {},
        "displayType": "table",
        "pivotAggregation": null,
        "pivotColumns": null,
        "xColumns": null,
        "yColumns": null
       },
       "removedWidgets": [],
       "schema": [
        {
         "metadata": "{}",
         "name": "num_affected_rows",
         "type": "\"long\""
        }
       ],
       "type": "table"
      }
     },
     "output_type": "display_data"
    }
   ],
   "source": [
    "%sql\n",
    "--Match result from the GroupMatchFixture\n",
    "UPDATE Matches\n",
    "SET MatchResult = \n",
    "    CASE\n",
    "        WHEN HOMETEAMGOALS > AWAYTEAMGOALS THEN HomeTeam\n",
    "        WHEN HOMETEAMGOALS < AWAYTEAMGOALS THEN AwayTeam\n",
    "        ELSE 'Draw'\n",
    "    END;"
   ]
  },
  {
   "cell_type": "markdown",
   "metadata": {
    "application/vnd.databricks.v1+cell": {
     "cellMetadata": {
      "byteLimit": 2048000,
      "rowLimit": 10000
     },
     "inputWidgets": {},
     "nuid": "99cddc39-02cb-4dbb-aca6-5029655f9a25",
     "showTitle": false,
     "title": ""
    }
   },
   "source": [
    "## Create a new table to store the group stage match statistic"
   ]
  },
  {
   "cell_type": "code",
   "execution_count": 0,
   "metadata": {
    "application/vnd.databricks.v1+cell": {
     "cellMetadata": {
      "byteLimit": 2048000,
      "implicitDf": true,
      "rowLimit": 10000
     },
     "inputWidgets": {},
     "nuid": "7d0f5e31-b4c4-416e-8bdd-80b6527b8427",
     "showTitle": false,
     "title": ""
    }
   },
   "outputs": [
    {
     "output_type": "display_data",
     "data": {
      "text/html": [
       "<style scoped>\n",
       "  .table-result-container {\n",
       "    max-height: 300px;\n",
       "    overflow: auto;\n",
       "  }\n",
       "  table, th, td {\n",
       "    border: 1px solid black;\n",
       "    border-collapse: collapse;\n",
       "  }\n",
       "  th, td {\n",
       "    padding: 5px;\n",
       "  }\n",
       "  th {\n",
       "    text-align: left;\n",
       "  }\n",
       "</style><div class='table-result-container'><table class='table-result'><thead style='background-color: white'><tr><th>num_affected_rows</th><th>num_inserted_rows</th></tr></thead><tbody></tbody></table></div>"
      ]
     },
     "metadata": {
      "application/vnd.databricks.v1+output": {
       "addedWidgets": {},
       "aggData": [],
       "aggError": "",
       "aggOverflow": false,
       "aggSchema": [],
       "aggSeriesLimitReached": false,
       "aggType": "",
       "arguments": {},
       "columnCustomDisplayInfos": {},
       "data": [],
       "datasetInfos": [],
       "dbfsResultPath": null,
       "isJsonSchema": true,
       "metadata": {},
       "overflow": false,
       "plotOptions": {
        "customPlotOptions": {},
        "displayType": "table",
        "pivotAggregation": null,
        "pivotColumns": null,
        "xColumns": null,
        "yColumns": null
       },
       "removedWidgets": [],
       "schema": [
        {
         "metadata": "{}",
         "name": "num_affected_rows",
         "type": "\"long\""
        },
        {
         "metadata": "{}",
         "name": "num_inserted_rows",
         "type": "\"long\""
        }
       ],
       "type": "table"
      }
     },
     "output_type": "display_data"
    }
   ],
   "source": [
    "%sql\n",
    "--Match Statistics like win,loss,draw etc from the group stage matches\n",
    "create or replace table MatchStats as \n",
    "    SELECT\n",
    "        TeamID,\n",
    "        GroupName,\n",
    "         COUNT(*) AS MatchesPlayed,\n",
    "        SUM(CASE \n",
    "            WHEN GoalsScored > GoalsAllowed THEN 1 \n",
    "            ELSE 0 \n",
    "        END) AS Wins,\n",
    "        SUM(CASE \n",
    "            WHEN GoalsScored = GoalsAllowed THEN 1 \n",
    "            ELSE 0 \n",
    "        END) AS Draws,\n",
    "        SUM(CASE \n",
    "            WHEN GoalsScored < GoalsAllowed THEN 1 \n",
    "            ELSE 0 \n",
    "        END) AS Losses,\n",
    "        SUM(GoalsScored) AS GoalsScored,\n",
    "        SUM(GoalsAllowed) AS GoalsAllowed,\n",
    "        SUM(GoalsScored) - SUM(GoalsAllowed) AS GoalDifference,\n",
    "        SUM(CASE\n",
    "                WHEN GoalsScored > GoalsAllowed THEN 3  \n",
    "                WHEN GoalsScored = GoalsAllowed THEN 1 \n",
    "                ELSE 0                                \n",
    "            END) AS Points\n",
    "    FROM\n",
    "        (SELECT\n",
    "            GroupName,\n",
    "            HomeTeam AS TeamID,\n",
    "            HOMETEAMGOALS AS GoalsScored,\n",
    "            AWAYTEAMGOALS AS GoalsAllowed\n",
    "        FROM\n",
    "            MATCHES\n",
    "    \n",
    "        UNION ALL\n",
    "    \n",
    "        SELECT\n",
    "            GroupName,\n",
    "            AwayTeam AS TeamID,\n",
    "            AWAYTEAMGOALS AS GoalsScored,\n",
    "            HOMETEAMGOALS AS GoalsAllowed\n",
    "        FROM\n",
    "            Matches) AS GroupMatches\n",
    "    GROUP BY\n",
    "        TeamID,groupname\n",
    "        Order by groupname;"
   ]
  },
  {
   "cell_type": "code",
   "execution_count": 0,
   "metadata": {
    "application/vnd.databricks.v1+cell": {
     "cellMetadata": {
      "byteLimit": 2048000,
      "implicitDf": true,
      "rowLimit": 10000
     },
     "inputWidgets": {},
     "nuid": "72c09654-3f32-445a-b0f0-b18257ed1bfd",
     "showTitle": false,
     "title": ""
    }
   },
   "outputs": [
    {
     "output_type": "display_data",
     "data": {
      "text/html": [
       "<style scoped>\n",
       "  .table-result-container {\n",
       "    max-height: 300px;\n",
       "    overflow: auto;\n",
       "  }\n",
       "  table, th, td {\n",
       "    border: 1px solid black;\n",
       "    border-collapse: collapse;\n",
       "  }\n",
       "  th, td {\n",
       "    padding: 5px;\n",
       "  }\n",
       "  th {\n",
       "    text-align: left;\n",
       "  }\n",
       "</style><div class='table-result-container'><table class='table-result'><thead style='background-color: white'><tr></tr></thead><tbody></tbody></table></div>"
      ]
     },
     "metadata": {
      "application/vnd.databricks.v1+output": {
       "addedWidgets": {},
       "aggData": [],
       "aggError": "",
       "aggOverflow": false,
       "aggSchema": [],
       "aggSeriesLimitReached": false,
       "aggType": "",
       "arguments": {},
       "columnCustomDisplayInfos": {},
       "data": [],
       "datasetInfos": [],
       "dbfsResultPath": null,
       "isJsonSchema": true,
       "metadata": {},
       "overflow": false,
       "plotOptions": {
        "customPlotOptions": {},
        "displayType": "table",
        "pivotAggregation": null,
        "pivotColumns": null,
        "xColumns": null,
        "yColumns": null
       },
       "removedWidgets": [],
       "schema": [],
       "type": "table"
      }
     },
     "output_type": "display_data"
    }
   ],
   "source": [
    "%sql\n",
    "drop table matchstats;"
   ]
  },
  {
   "cell_type": "markdown",
   "metadata": {
    "application/vnd.databricks.v1+cell": {
     "cellMetadata": {
      "byteLimit": 2048000,
      "rowLimit": 10000
     },
     "inputWidgets": {},
     "nuid": "dfce16c8-2b9e-4fc1-942b-41f4ee44b997",
     "showTitle": false,
     "title": ""
    }
   },
   "source": [
    "## Create new table to store all the qualifiying teams from each group"
   ]
  },
  {
   "cell_type": "code",
   "execution_count": 0,
   "metadata": {
    "application/vnd.databricks.v1+cell": {
     "cellMetadata": {
      "byteLimit": 2048000,
      "implicitDf": true,
      "rowLimit": 10000
     },
     "inputWidgets": {},
     "nuid": "4b1823e8-a9bf-4cb2-8f65-53f93e024fff",
     "showTitle": false,
     "title": ""
    }
   },
   "outputs": [
    {
     "output_type": "display_data",
     "data": {
      "text/html": [
       "<style scoped>\n",
       "  .table-result-container {\n",
       "    max-height: 300px;\n",
       "    overflow: auto;\n",
       "  }\n",
       "  table, th, td {\n",
       "    border: 1px solid black;\n",
       "    border-collapse: collapse;\n",
       "  }\n",
       "  th, td {\n",
       "    padding: 5px;\n",
       "  }\n",
       "  th {\n",
       "    text-align: left;\n",
       "  }\n",
       "</style><div class='table-result-container'><table class='table-result'><thead style='background-color: white'><tr><th>num_affected_rows</th><th>num_inserted_rows</th></tr></thead><tbody></tbody></table></div>"
      ]
     },
     "metadata": {
      "application/vnd.databricks.v1+output": {
       "addedWidgets": {},
       "aggData": [],
       "aggError": "",
       "aggOverflow": false,
       "aggSchema": [],
       "aggSeriesLimitReached": false,
       "aggType": "",
       "arguments": {},
       "columnCustomDisplayInfos": {},
       "data": [],
       "datasetInfos": [],
       "dbfsResultPath": null,
       "isJsonSchema": true,
       "metadata": {},
       "overflow": false,
       "plotOptions": {
        "customPlotOptions": {},
        "displayType": "table",
        "pivotAggregation": null,
        "pivotColumns": null,
        "xColumns": null,
        "yColumns": null
       },
       "removedWidgets": [],
       "schema": [
        {
         "metadata": "{}",
         "name": "num_affected_rows",
         "type": "\"long\""
        },
        {
         "metadata": "{}",
         "name": "num_inserted_rows",
         "type": "\"long\""
        }
       ],
       "type": "table"
      }
     },
     "output_type": "display_data"
    }
   ],
   "source": [
    "%sql\n",
    "--All the Teams who have quallified into round of 16\n",
    "--Top 2 teams from each tables which are qualified for R16\n",
    "create or replace table round_of_16 as \n",
    "SELECT *\n",
    "FROM (\n",
    "    SELECT \n",
    "        TeamId,\n",
    "        GroupName,\n",
    "        points,\n",
    "        goaldifference,\n",
    "        ROW_NUMBER() OVER (PARTITION BY GroupName ORDER BY points DESC, goaldifference DESC,goalsScored desc,wins desc) AS rnk \n",
    "    FROM \n",
    "        matchStats \n",
    ") AS Top2Teams\n",
    "WHERE \n",
    "    rnk <= 2;"
   ]
  },
  {
   "cell_type": "code",
   "execution_count": 0,
   "metadata": {
    "application/vnd.databricks.v1+cell": {
     "cellMetadata": {
      "byteLimit": 2048000,
      "implicitDf": true,
      "rowLimit": 10000
     },
     "inputWidgets": {},
     "nuid": "b1bad3be-e3a7-4a80-a4c9-a01596ef4020",
     "showTitle": false,
     "title": ""
    }
   },
   "outputs": [
    {
     "output_type": "display_data",
     "data": {
      "text/html": [
       "<style scoped>\n",
       "  .table-result-container {\n",
       "    max-height: 300px;\n",
       "    overflow: auto;\n",
       "  }\n",
       "  table, th, td {\n",
       "    border: 1px solid black;\n",
       "    border-collapse: collapse;\n",
       "  }\n",
       "  th, td {\n",
       "    padding: 5px;\n",
       "  }\n",
       "  th {\n",
       "    text-align: left;\n",
       "  }\n",
       "</style><div class='table-result-container'><table class='table-result'><thead style='background-color: white'><tr><th>num_affected_rows</th><th>num_inserted_rows</th></tr></thead><tbody><tr><td>4</td><td>4</td></tr></tbody></table></div>"
      ]
     },
     "metadata": {
      "application/vnd.databricks.v1+output": {
       "addedWidgets": {},
       "aggData": [],
       "aggError": "",
       "aggOverflow": false,
       "aggSchema": [],
       "aggSeriesLimitReached": false,
       "aggType": "",
       "arguments": {},
       "columnCustomDisplayInfos": {},
       "data": [
        [
         4,
         4
        ]
       ],
       "datasetInfos": [],
       "dbfsResultPath": null,
       "isJsonSchema": true,
       "metadata": {},
       "overflow": false,
       "plotOptions": {
        "customPlotOptions": {},
        "displayType": "table",
        "pivotAggregation": null,
        "pivotColumns": null,
        "xColumns": null,
        "yColumns": null
       },
       "removedWidgets": [],
       "schema": [
        {
         "metadata": "{}",
         "name": "num_affected_rows",
         "type": "\"long\""
        },
        {
         "metadata": "{}",
         "name": "num_inserted_rows",
         "type": "\"long\""
        }
       ],
       "type": "table"
      }
     },
     "output_type": "display_data"
    }
   ],
   "source": [
    "%sql\n",
    "--Best four teams from each group which are third best team\n",
    "insert into round_of_16\n",
    "SELECT *\n",
    "FROM (\n",
    "    SELECT \n",
    "        TeamId,\n",
    "        GroupName,\n",
    "        points,\n",
    "        goaldifference,\n",
    "        ROW_NUMBER() OVER (PARTITION BY GroupName ORDER BY points DESC, goaldifference desc,goalsScored desc,wins desc) AS rnk \n",
    "    FROM \n",
    "        matchStats \n",
    ") AS Top2Teams\n",
    "WHERE \n",
    "    rnk = 3 LIMIT 4;"
   ]
  },
  {
   "cell_type": "code",
   "execution_count": 0,
   "metadata": {
    "application/vnd.databricks.v1+cell": {
     "cellMetadata": {
      "byteLimit": 2048000,
      "implicitDf": true,
      "rowLimit": 10000
     },
     "inputWidgets": {},
     "nuid": "19148537-38ec-4f12-8330-5a30de76ba79",
     "showTitle": false,
     "title": ""
    }
   },
   "outputs": [
    {
     "output_type": "display_data",
     "data": {
      "text/html": [
       "<style scoped>\n",
       "  .table-result-container {\n",
       "    max-height: 300px;\n",
       "    overflow: auto;\n",
       "  }\n",
       "  table, th, td {\n",
       "    border: 1px solid black;\n",
       "    border-collapse: collapse;\n",
       "  }\n",
       "  th, td {\n",
       "    padding: 5px;\n",
       "  }\n",
       "  th {\n",
       "    text-align: left;\n",
       "  }\n",
       "</style><div class='table-result-container'><table class='table-result'><thead style='background-color: white'><tr><th>TeamId</th><th>GroupName</th><th>points</th><th>goaldifference</th><th>rnk</th></tr></thead><tbody><tr><td>Scotland</td><td>A</td><td>6</td><td>2</td><td>1</td></tr><tr><td>Switzerland</td><td>A</td><td>3</td><td>-1</td><td>3</td></tr><tr><td>Germany</td><td>A</td><td>6</td><td>0</td><td>2</td></tr><tr><td>Italy</td><td>B</td><td>6</td><td>-2</td><td>3</td></tr><tr><td>Albania</td><td>B</td><td>6</td><td>4</td><td>1</td></tr><tr><td>Croatia</td><td>B</td><td>6</td><td>2</td><td>2</td></tr><tr><td>Serbia</td><td>C</td><td>3</td><td>-5</td><td>3</td></tr><tr><td>Slovenia</td><td>C</td><td>7</td><td>4</td><td>1</td></tr><tr><td>Denmark</td><td>C</td><td>6</td><td>6</td><td>2</td></tr><tr><td>Play-off Winner A</td><td>D</td><td>3</td><td>-3</td><td>3</td></tr><tr><td>Austria</td><td>D</td><td>9</td><td>3</td><td>1</td></tr><tr><td>Netherlands</td><td>D</td><td>4</td><td>2</td><td>2</td></tr><tr><td>Belgium</td><td>E</td><td>7</td><td>3</td><td>1</td></tr><tr><td>Romania</td><td>E</td><td>7</td><td>2</td><td>2</td></tr><tr><td>Czech Republic</td><td>F</td><td>9</td><td>6</td><td>1</td></tr><tr><td>Play-off Winner C</td><td>F</td><td>6</td><td>0</td><td>2</td></tr></tbody></table></div>"
      ]
     },
     "metadata": {
      "application/vnd.databricks.v1+output": {
       "addedWidgets": {},
       "aggData": [],
       "aggError": "",
       "aggOverflow": false,
       "aggSchema": [],
       "aggSeriesLimitReached": false,
       "aggType": "",
       "arguments": {},
       "columnCustomDisplayInfos": {},
       "data": [
        [
         "Scotland",
         "A",
         6,
         2,
         1
        ],
        [
         "Switzerland",
         "A",
         3,
         -1,
         3
        ],
        [
         "Germany",
         "A",
         6,
         0,
         2
        ],
        [
         "Italy",
         "B",
         6,
         -2,
         3
        ],
        [
         "Albania",
         "B",
         6,
         4,
         1
        ],
        [
         "Croatia",
         "B",
         6,
         2,
         2
        ],
        [
         "Serbia",
         "C",
         3,
         -5,
         3
        ],
        [
         "Slovenia",
         "C",
         7,
         4,
         1
        ],
        [
         "Denmark",
         "C",
         6,
         6,
         2
        ],
        [
         "Play-off Winner A",
         "D",
         3,
         -3,
         3
        ],
        [
         "Austria",
         "D",
         9,
         3,
         1
        ],
        [
         "Netherlands",
         "D",
         4,
         2,
         2
        ],
        [
         "Belgium",
         "E",
         7,
         3,
         1
        ],
        [
         "Romania",
         "E",
         7,
         2,
         2
        ],
        [
         "Czech Republic",
         "F",
         9,
         6,
         1
        ],
        [
         "Play-off Winner C",
         "F",
         6,
         0,
         2
        ]
       ],
       "datasetInfos": [],
       "dbfsResultPath": null,
       "isJsonSchema": true,
       "metadata": {},
       "overflow": false,
       "plotOptions": {
        "customPlotOptions": {},
        "displayType": "table",
        "pivotAggregation": null,
        "pivotColumns": null,
        "xColumns": null,
        "yColumns": null
       },
       "removedWidgets": [],
       "schema": [
        {
         "metadata": "{\"__CHAR_VARCHAR_TYPE_STRING\":\"varchar(20)\"}",
         "name": "TeamId",
         "type": "\"string\""
        },
        {
         "metadata": "{\"__CHAR_VARCHAR_TYPE_STRING\":\"varchar(1)\"}",
         "name": "GroupName",
         "type": "\"string\""
        },
        {
         "metadata": "{}",
         "name": "points",
         "type": "\"long\""
        },
        {
         "metadata": "{}",
         "name": "goaldifference",
         "type": "\"long\""
        },
        {
         "metadata": "{}",
         "name": "rnk",
         "type": "\"integer\""
        }
       ],
       "type": "table"
      }
     },
     "output_type": "display_data"
    }
   ],
   "source": [
    "%sql\n",
    "SELECT * FROM round_of_16 ORDER BY GroupName;"
   ]
  },
  {
   "cell_type": "markdown",
   "metadata": {
    "application/vnd.databricks.v1+cell": {
     "cellMetadata": {
      "byteLimit": 2048000,
      "rowLimit": 10000
     },
     "inputWidgets": {},
     "nuid": "9b326df1-0051-4216-b689-d02efa9016e6",
     "showTitle": false,
     "title": ""
    }
   },
   "source": [
    "## Inserting the Round of 16 matches into the matches table"
   ]
  },
  {
   "cell_type": "code",
   "execution_count": 0,
   "metadata": {
    "application/vnd.databricks.v1+cell": {
     "cellMetadata": {
      "byteLimit": 2048000,
      "implicitDf": true,
      "rowLimit": 10000
     },
     "inputWidgets": {},
     "nuid": "163c66c6-6d43-4b4c-9b3b-19710d3d6b20",
     "showTitle": false,
     "title": ""
    }
   },
   "outputs": [
    {
     "output_type": "display_data",
     "data": {
      "text/html": [
       "<style scoped>\n",
       "  .table-result-container {\n",
       "    max-height: 300px;\n",
       "    overflow: auto;\n",
       "  }\n",
       "  table, th, td {\n",
       "    border: 1px solid black;\n",
       "    border-collapse: collapse;\n",
       "  }\n",
       "  th, td {\n",
       "    padding: 5px;\n",
       "  }\n",
       "  th {\n",
       "    text-align: left;\n",
       "  }\n",
       "</style><div class='table-result-container'><table class='table-result'><thead style='background-color: white'><tr><th>num_affected_rows</th><th>num_inserted_rows</th></tr></thead><tbody><tr><td>8</td><td>8</td></tr></tbody></table></div>"
      ]
     },
     "metadata": {
      "application/vnd.databricks.v1+output": {
       "addedWidgets": {},
       "aggData": [],
       "aggError": "",
       "aggOverflow": false,
       "aggSchema": [],
       "aggSeriesLimitReached": false,
       "aggType": "",
       "arguments": {},
       "columnCustomDisplayInfos": {},
       "data": [
        [
         8,
         8
        ]
       ],
       "datasetInfos": [],
       "dbfsResultPath": null,
       "isJsonSchema": true,
       "metadata": {},
       "overflow": false,
       "plotOptions": {
        "customPlotOptions": {},
        "displayType": "table",
        "pivotAggregation": null,
        "pivotColumns": null,
        "xColumns": null,
        "yColumns": null
       },
       "removedWidgets": [],
       "schema": [
        {
         "metadata": "{}",
         "name": "num_affected_rows",
         "type": "\"long\""
        },
        {
         "metadata": "{}",
         "name": "num_inserted_rows",
         "type": "\"long\""
        }
       ],
       "type": "table"
      }
     },
     "output_type": "display_data"
    }
   ],
   "source": [
    "%sql\n",
    "INSERT INTO matches (MatchId, fixture, GroupName,HomeTeam,AwayTeam, HomeTeamGoals, AwayTeamGoals, MatchResult, MatchStage)\n",
    "WITH Combination AS (\n",
    "    SELECT CONCAT_WS('', sort_array(Collect_list(GroupName))) AS GroupCombination\n",
    "    FROM round_of_16\n",
    "    WHERE rnk = 3 \n",
    "),\n",
    "keys AS (\n",
    "    SELECT * FROM thirdplacecombination\n",
    "    WHERE selectedgroups = (SELECT GroupCombination FROM Combination)\n",
    ")\n",
    "SELECT \n",
    "    Row_Number() OVER (ORDER BY 1) + 36 AS MatchId,\n",
    "    CONCAT(r1.teamid, ' Vs. ', r2.teamid) AS fixture,\n",
    "    'N' AS GroupName,\n",
    "    r1.TEAMID AS HomeTeam,\n",
    "    r2.TEAMID AS AwayTeam,\n",
    "    CAST(rand() * 6 AS INT) AS GoalsScored, \n",
    "    CAST(rand() * 6 AS INT) AS GoalsAllowed,\n",
    "    'None' AS MatchResult,\n",
    "    'R16' AS MatchStage\n",
    "FROM \n",
    "    round_of_16 r1\n",
    "JOIN \n",
    "    round_of_16 r2 ON r1.groupname = 'B' AND r1.rnk = 1 AND r2.groupname = (SELECT Team1B FROM keys) AND r2.rnk = 3\n",
    "\n",
    "UNION ALL\n",
    "\n",
    "SELECT \n",
    "    Row_Number() OVER (ORDER BY 1) + 37 AS MatchId,\n",
    "    CONCAT(r1.teamid, ' Vs. ', r2.teamid) AS fixture,\n",
    "    'N' AS GroupName,\n",
    "    r1.TEAMID AS HomeTeam,\n",
    "    r2.TEAMID AS AwayTeam,\n",
    "    CAST(rand() * 6 AS INT) AS GoalsScored, \n",
    "    CAST(rand() * 6 AS INT) AS GoalsAllowed,\n",
    "    'None' AS MatchResult,\n",
    "    'R16' AS MatchStage\n",
    "FROM \n",
    "    round_of_16 r1\n",
    "JOIN \n",
    "    round_of_16 r2 ON r1.groupname = 'A' AND r1.rnk = 1 AND r2.groupname = 'C' AND r2.rnk = 2\n",
    "\n",
    "UNION ALL\n",
    "\n",
    "SELECT \n",
    "    Row_Number() OVER (ORDER BY 1) + 38 AS MatchId,\n",
    "    CONCAT(r1.teamid, ' Vs. ', r2.teamid) AS fixture,\n",
    "    'N' AS GroupName,\n",
    "    r1.TEAMID AS HomeTeam,\n",
    "    r2.TEAMID AS AwayTeam,\n",
    "    CAST(rand() * 6 AS INT) AS GoalsScored, \n",
    "    CAST(rand() * 6 AS INT) AS GoalsAllowed,\n",
    "    'None' AS MatchResult,\n",
    "    'R16' AS MatchStage\n",
    "FROM \n",
    "    round_of_16 r1\n",
    "JOIN \n",
    "    round_of_16 r2 ON r1.groupname = 'F' AND r1.rnk = 1 AND r2.groupname = (select Team1F from keys) AND r2.rnk = 3\n",
    "\n",
    "UNION ALL\n",
    "\n",
    "SELECT \n",
    "    Row_Number() OVER (ORDER BY 1) + 39 AS MatchId,\n",
    "    CONCAT(r1.teamid, ' Vs. ', r2.teamid) AS fixture,\n",
    "    'N' AS GroupName,\n",
    "    r1.TEAMID AS HomeTeam,\n",
    "    r2.TEAMID AS AwayTeam,\n",
    "    CAST(rand() * 6 AS INT) AS GoalsScored, \n",
    "    CAST(rand() * 6 AS INT) AS GoalsAllowed,\n",
    "    'None' AS MatchResult,\n",
    "    'R16' AS MatchStage\n",
    "FROM \n",
    "    round_of_16 r1\n",
    "JOIN \n",
    "    round_of_16 r2 ON r1.groupname = 'D' AND r1.rnk = 2 AND r2.groupname = 'E' AND r2.rnk = 2\n",
    "\n",
    "UNION ALL\n",
    "\n",
    "SELECT \n",
    "    Row_Number() OVER (ORDER BY 1) + 40 AS MatchId,\n",
    "    CONCAT(r1.teamid, ' Vs. ', r2.teamid) AS fixture,\n",
    "    'N' AS GroupName,\n",
    "    r1.TEAMID AS HomeTeam,\n",
    "    r2.TEAMID AS AwayTeam,\n",
    "    CAST(rand() * 6 AS INT) AS GoalsScored, \n",
    "    CAST(rand() * 6 AS INT) AS GoalsAllowed,\n",
    "    'None' AS MatchResult,\n",
    "    'R16' AS MatchStage\n",
    "FROM \n",
    "    round_of_16 r1\n",
    "JOIN \n",
    "    round_of_16 r2 ON r1.groupname = 'E' AND r1.rnk = 1 AND r2.groupname = (select Team1E from keys) AND r2.rnk = 3\n",
    "\n",
    "UNION ALL\n",
    "\n",
    "SELECT \n",
    "    Row_Number() OVER (ORDER BY 1) + 41 AS MatchId,\n",
    "    CONCAT(r1.teamid, ' Vs. ', r2.teamid) AS fixture,\n",
    "    'N' AS GroupName,\n",
    "    r1.TEAMID AS HomeTeam,\n",
    "    r2.TEAMID AS AwayTeam,\n",
    "    CAST(rand() * 6 AS INT) AS GoalsScored, \n",
    "    CAST(rand() * 6 AS INT) AS GoalsAllowed,\n",
    "    'None' AS MatchResult,\n",
    "    'R16' AS MatchStage\n",
    "FROM \n",
    "    round_of_16 r1\n",
    "JOIN \n",
    "    round_of_16 r2 ON r1.groupname = 'D' AND r1.rnk = 1 AND r2.groupname = 'F' AND r2.rnk = 2\n",
    "\n",
    "UNION ALL\n",
    "\n",
    "SELECT \n",
    "    Row_Number() OVER (ORDER BY 1) + 42 AS MatchId,\n",
    "    CONCAT(r1.teamid, ' Vs. ', r2.teamid) AS fixture,\n",
    "    'N' AS GroupName,\n",
    "    r1.TEAMID AS HomeTeam,\n",
    "    r2.TEAMID AS AwayTeam,\n",
    "    CAST(rand() * 6 AS INT) AS GoalsScored, \n",
    "    CAST(rand() * 6 AS INT) AS GoalsAllowed,\n",
    "    'None' AS MatchResult,\n",
    "    'R16' AS MatchStage\n",
    "FROM \n",
    "    round_of_16 r1\n",
    "JOIN \n",
    "    round_of_16 r2 ON r1.groupname = 'C' AND r1.rnk = 1 AND r2.groupname = (select Team1C from keys) AND r2.rnk = 3\n",
    "\n",
    "UNION ALL\n",
    "\n",
    "SELECT \n",
    "    Row_Number() OVER (ORDER BY 1) + 43 AS MatchId,\n",
    "    CONCAT(r1.teamid, ' Vs. ', r2.teamid) AS fixture,\n",
    "    'N' AS GroupName,\n",
    "    r1.TEAMID AS HomeTeam,\n",
    "    r2.TEAMID AS AwayTeam,\n",
    "    CAST(rand() * 6 AS INT) AS GoalsScored, \n",
    "    CAST(rand() * 6 AS INT) AS GoalsAllowed,\n",
    "    'None' AS MatchResult,\n",
    "    'R16' AS MatchStage\n",
    "FROM \n",
    "    round_of_16 r1\n",
    "JOIN \n",
    "    round_of_16 r2 ON r1.groupname = 'A' AND r1.rnk = 2 AND r2.groupname = 'B' AND r2.rnk = 2;"
   ]
  },
  {
   "cell_type": "code",
   "execution_count": 0,
   "metadata": {
    "application/vnd.databricks.v1+cell": {
     "cellMetadata": {
      "byteLimit": 2048000,
      "implicitDf": true,
      "rowLimit": 10000
     },
     "inputWidgets": {},
     "nuid": "129615e5-650e-4150-944c-e780c1a87ad6",
     "showTitle": false,
     "title": ""
    }
   },
   "outputs": [
    {
     "output_type": "display_data",
     "data": {
      "text/html": [
       "<style scoped>\n",
       "  .table-result-container {\n",
       "    max-height: 300px;\n",
       "    overflow: auto;\n",
       "  }\n",
       "  table, th, td {\n",
       "    border: 1px solid black;\n",
       "    border-collapse: collapse;\n",
       "  }\n",
       "  th, td {\n",
       "    padding: 5px;\n",
       "  }\n",
       "  th {\n",
       "    text-align: left;\n",
       "  }\n",
       "</style><div class='table-result-container'><table class='table-result'><thead style='background-color: white'><tr><th>MatchID</th><th>Fixture</th><th>GroupName</th><th>HomeTeam</th><th>AwayTeam</th><th>HomeTeamGoals</th><th>AwayTeamGoals</th><th>MatchResult</th><th>MatchStage</th></tr></thead><tbody><tr><td>1</td><td>Germany vs Switzerland</td><td>A</td><td>Germany</td><td>Switzerland</td><td>5</td><td>4</td><td>Germany</td><td>Group Stage</td></tr><tr><td>2</td><td>Germany vs Hungary</td><td>A</td><td>Germany</td><td>Hungary</td><td>2</td><td>1</td><td>Germany</td><td>Group Stage</td></tr><tr><td>3</td><td>Germany vs Scotland</td><td>A</td><td>Germany</td><td>Scotland</td><td>0</td><td>2</td><td>Scotland</td><td>Group Stage</td></tr><tr><td>4</td><td>Scotland vs Switzerland</td><td>A</td><td>Scotland</td><td>Switzerland</td><td>4</td><td>5</td><td>Switzerland</td><td>Group Stage</td></tr><tr><td>5</td><td>Scotland vs Hungary</td><td>A</td><td>Scotland</td><td>Hungary</td><td>4</td><td>3</td><td>Scotland</td><td>Group Stage</td></tr><tr><td>6</td><td>Hungary vs Switzerland</td><td>A</td><td>Hungary</td><td>Switzerland</td><td>2</td><td>1</td><td>Hungary</td><td>Group Stage</td></tr><tr><td>7</td><td>Spain vs Albania</td><td>B</td><td>Spain</td><td>Albania</td><td>1</td><td>2</td><td>Albania</td><td>Group Stage</td></tr><tr><td>8</td><td>Spain vs Italy</td><td>B</td><td>Spain</td><td>Italy</td><td>2</td><td>4</td><td>Italy</td><td>Group Stage</td></tr><tr><td>9</td><td>Spain vs Croatia</td><td>B</td><td>Spain</td><td>Croatia</td><td>0</td><td>1</td><td>Croatia</td><td>Group Stage</td></tr><tr><td>10</td><td>Croatia vs Albania</td><td>B</td><td>Croatia</td><td>Albania</td><td>1</td><td>5</td><td>Albania</td><td>Group Stage</td></tr><tr><td>11</td><td>Croatia vs Italy</td><td>B</td><td>Croatia</td><td>Italy</td><td>5</td><td>0</td><td>Croatia</td><td>Group Stage</td></tr><tr><td>12</td><td>Italy vs Albania</td><td>B</td><td>Italy</td><td>Albania</td><td>5</td><td>4</td><td>Italy</td><td>Group Stage</td></tr><tr><td>13</td><td>Slovenia vs England</td><td>C</td><td>Slovenia</td><td>England</td><td>5</td><td>5</td><td>Draw</td><td>Group Stage</td></tr><tr><td>14</td><td>Slovenia vs Serbia</td><td>C</td><td>Slovenia</td><td>Serbia</td><td>3</td><td>0</td><td>Slovenia</td><td>Group Stage</td></tr><tr><td>15</td><td>Slovenia vs Denmark</td><td>C</td><td>Slovenia</td><td>Denmark</td><td>4</td><td>3</td><td>Slovenia</td><td>Group Stage</td></tr><tr><td>16</td><td>Denmark vs England</td><td>C</td><td>Denmark</td><td>England</td><td>4</td><td>0</td><td>Denmark</td><td>Group Stage</td></tr><tr><td>17</td><td>Denmark vs Serbia</td><td>C</td><td>Denmark</td><td>Serbia</td><td>3</td><td>0</td><td>Denmark</td><td>Group Stage</td></tr><tr><td>18</td><td>Serbia vs England</td><td>C</td><td>Serbia</td><td>England</td><td>5</td><td>4</td><td>Serbia</td><td>Group Stage</td></tr><tr><td>19</td><td>Netherlands vs Play-off Winner A</td><td>D</td><td>Netherlands</td><td>Play-off Winner A</td><td>4</td><td>1</td><td>Netherlands</td><td>Group Stage</td></tr><tr><td>20</td><td>Netherlands vs France</td><td>D</td><td>Netherlands</td><td>France</td><td>5</td><td>5</td><td>Draw</td><td>Group Stage</td></tr><tr><td>21</td><td>Netherlands vs Austria</td><td>D</td><td>Netherlands</td><td>Austria</td><td>2</td><td>3</td><td>Austria</td><td>Group Stage</td></tr><tr><td>22</td><td>Austria vs Play-off Winner A</td><td>D</td><td>Austria</td><td>Play-off Winner A</td><td>2</td><td>1</td><td>Austria</td><td>Group Stage</td></tr><tr><td>23</td><td>Austria vs France</td><td>D</td><td>Austria</td><td>France</td><td>2</td><td>1</td><td>Austria</td><td>Group Stage</td></tr><tr><td>24</td><td>France vs Play-off Winner A</td><td>D</td><td>France</td><td>Play-off Winner A</td><td>1</td><td>2</td><td>Play-off Winner A</td><td>Group Stage</td></tr><tr><td>25</td><td>Belgium vs Play-off Winner B</td><td>E</td><td>Belgium</td><td>Play-off Winner B</td><td>3</td><td>2</td><td>Belgium</td><td>Group Stage</td></tr><tr><td>26</td><td>Belgium vs Romania</td><td>E</td><td>Belgium</td><td>Romania</td><td>0</td><td>0</td><td>Draw</td><td>Group Stage</td></tr><tr><td>27</td><td>Belgium vs Slovakia</td><td>E</td><td>Belgium</td><td>Slovakia</td><td>2</td><td>0</td><td>Belgium</td><td>Group Stage</td></tr><tr><td>28</td><td>Slovakia vs Play-off Winner B</td><td>E</td><td>Slovakia</td><td>Play-off Winner B</td><td>1</td><td>3</td><td>Play-off Winner B</td><td>Group Stage</td></tr><tr><td>29</td><td>Slovakia vs Romania</td><td>E</td><td>Slovakia</td><td>Romania</td><td>3</td><td>4</td><td>Romania</td><td>Group Stage</td></tr><tr><td>30</td><td>Romania vs Play-off Winner B</td><td>E</td><td>Romania</td><td>Play-off Winner B</td><td>4</td><td>3</td><td>Romania</td><td>Group Stage</td></tr><tr><td>31</td><td>Turkey vs Czech Republic</td><td>F</td><td>Turkey</td><td>Czech Republic</td><td>4</td><td>5</td><td>Czech Republic</td><td>Group Stage</td></tr><tr><td>32</td><td>Turkey vs Portugal</td><td>F</td><td>Turkey</td><td>Portugal</td><td>3</td><td>0</td><td>Turkey</td><td>Group Stage</td></tr><tr><td>33</td><td>Turkey vs Play-off Winner C</td><td>F</td><td>Turkey</td><td>Play-off Winner C</td><td>3</td><td>4</td><td>Play-off Winner C</td><td>Group Stage</td></tr><tr><td>34</td><td>Play-off Winner C vs Czech Republic</td><td>F</td><td>Play-off Winner C</td><td>Czech Republic</td><td>2</td><td>5</td><td>Czech Republic</td><td>Group Stage</td></tr><tr><td>35</td><td>Play-off Winner C vs Portugal</td><td>F</td><td>Play-off Winner C</td><td>Portugal</td><td>3</td><td>1</td><td>Play-off Winner C</td><td>Group Stage</td></tr><tr><td>36</td><td>Portugal vs Czech Republic</td><td>F</td><td>Portugal</td><td>Czech Republic</td><td>0</td><td>2</td><td>Czech Republic</td><td>Group Stage</td></tr><tr><td>37</td><td>Albania Vs. Switzerland</td><td>N</td><td>Albania</td><td>Switzerland</td><td>4</td><td>0</td><td>Albania</td><td>R16</td></tr><tr><td>38</td><td>Scotland Vs. Denmark</td><td>N</td><td>Scotland</td><td>Denmark</td><td>1</td><td>2</td><td>Denmark</td><td>R16</td></tr><tr><td>39</td><td>Czech Republic Vs. Serbia</td><td>N</td><td>Czech Republic</td><td>Serbia</td><td>2</td><td>0</td><td>Czech Republic</td><td>R16</td></tr><tr><td>40</td><td>Netherlands Vs. Romania</td><td>N</td><td>Netherlands</td><td>Romania</td><td>5</td><td>2</td><td>Netherlands</td><td>R16</td></tr><tr><td>41</td><td>Belgium Vs. Italy</td><td>N</td><td>Belgium</td><td>Italy</td><td>1</td><td>2</td><td>Italy</td><td>R16</td></tr><tr><td>42</td><td>Austria Vs. Play-off Winner C</td><td>N</td><td>Austria</td><td>Play-off Winner C</td><td>3</td><td>0</td><td>Austria</td><td>R16</td></tr><tr><td>43</td><td>Slovenia Vs. Play-off Winner A</td><td>N</td><td>Slovenia</td><td>Play-off Winner A</td><td>1</td><td>0</td><td>Slovenia</td><td>R16</td></tr><tr><td>44</td><td>Germany Vs. Croatia</td><td>N</td><td>Germany</td><td>Croatia</td><td>1</td><td>2</td><td>Croatia</td><td>R16</td></tr><tr><td>45</td><td>Czech Republic Vs. Albania</td><td>N</td><td>Czech Republic</td><td>Albania</td><td>1</td><td>2</td><td>Albania</td><td>Quarter-Final</td></tr><tr><td>46</td><td>Italy Vs. Austria</td><td>N</td><td>Italy</td><td>Austria</td><td>5</td><td>2</td><td>Italy</td><td>Quarter-Final</td></tr><tr><td>47</td><td>Slovenia Vs. Croatia</td><td>N</td><td>Slovenia</td><td>Croatia</td><td>1</td><td>2</td><td>Croatia</td><td>Quarter-Final</td></tr><tr><td>48</td><td>Netherlands Vs. Denmark</td><td>N</td><td>Netherlands</td><td>Denmark</td><td>5</td><td>2</td><td>Netherlands</td><td>Quarter-Final</td></tr></tbody></table></div>"
      ]
     },
     "metadata": {
      "application/vnd.databricks.v1+output": {
       "addedWidgets": {},
       "aggData": [],
       "aggError": "",
       "aggOverflow": false,
       "aggSchema": [],
       "aggSeriesLimitReached": false,
       "aggType": "",
       "arguments": {},
       "columnCustomDisplayInfos": {},
       "data": [
        [
         1,
         "Germany vs Switzerland",
         "A",
         "Germany",
         "Switzerland",
         5,
         4,
         "Germany",
         "Group Stage"
        ],
        [
         2,
         "Germany vs Hungary",
         "A",
         "Germany",
         "Hungary",
         2,
         1,
         "Germany",
         "Group Stage"
        ],
        [
         3,
         "Germany vs Scotland",
         "A",
         "Germany",
         "Scotland",
         0,
         2,
         "Scotland",
         "Group Stage"
        ],
        [
         4,
         "Scotland vs Switzerland",
         "A",
         "Scotland",
         "Switzerland",
         4,
         5,
         "Switzerland",
         "Group Stage"
        ],
        [
         5,
         "Scotland vs Hungary",
         "A",
         "Scotland",
         "Hungary",
         4,
         3,
         "Scotland",
         "Group Stage"
        ],
        [
         6,
         "Hungary vs Switzerland",
         "A",
         "Hungary",
         "Switzerland",
         2,
         1,
         "Hungary",
         "Group Stage"
        ],
        [
         7,
         "Spain vs Albania",
         "B",
         "Spain",
         "Albania",
         1,
         2,
         "Albania",
         "Group Stage"
        ],
        [
         8,
         "Spain vs Italy",
         "B",
         "Spain",
         "Italy",
         2,
         4,
         "Italy",
         "Group Stage"
        ],
        [
         9,
         "Spain vs Croatia",
         "B",
         "Spain",
         "Croatia",
         0,
         1,
         "Croatia",
         "Group Stage"
        ],
        [
         10,
         "Croatia vs Albania",
         "B",
         "Croatia",
         "Albania",
         1,
         5,
         "Albania",
         "Group Stage"
        ],
        [
         11,
         "Croatia vs Italy",
         "B",
         "Croatia",
         "Italy",
         5,
         0,
         "Croatia",
         "Group Stage"
        ],
        [
         12,
         "Italy vs Albania",
         "B",
         "Italy",
         "Albania",
         5,
         4,
         "Italy",
         "Group Stage"
        ],
        [
         13,
         "Slovenia vs England",
         "C",
         "Slovenia",
         "England",
         5,
         5,
         "Draw",
         "Group Stage"
        ],
        [
         14,
         "Slovenia vs Serbia",
         "C",
         "Slovenia",
         "Serbia",
         3,
         0,
         "Slovenia",
         "Group Stage"
        ],
        [
         15,
         "Slovenia vs Denmark",
         "C",
         "Slovenia",
         "Denmark",
         4,
         3,
         "Slovenia",
         "Group Stage"
        ],
        [
         16,
         "Denmark vs England",
         "C",
         "Denmark",
         "England",
         4,
         0,
         "Denmark",
         "Group Stage"
        ],
        [
         17,
         "Denmark vs Serbia",
         "C",
         "Denmark",
         "Serbia",
         3,
         0,
         "Denmark",
         "Group Stage"
        ],
        [
         18,
         "Serbia vs England",
         "C",
         "Serbia",
         "England",
         5,
         4,
         "Serbia",
         "Group Stage"
        ],
        [
         19,
         "Netherlands vs Play-off Winner A",
         "D",
         "Netherlands",
         "Play-off Winner A",
         4,
         1,
         "Netherlands",
         "Group Stage"
        ],
        [
         20,
         "Netherlands vs France",
         "D",
         "Netherlands",
         "France",
         5,
         5,
         "Draw",
         "Group Stage"
        ],
        [
         21,
         "Netherlands vs Austria",
         "D",
         "Netherlands",
         "Austria",
         2,
         3,
         "Austria",
         "Group Stage"
        ],
        [
         22,
         "Austria vs Play-off Winner A",
         "D",
         "Austria",
         "Play-off Winner A",
         2,
         1,
         "Austria",
         "Group Stage"
        ],
        [
         23,
         "Austria vs France",
         "D",
         "Austria",
         "France",
         2,
         1,
         "Austria",
         "Group Stage"
        ],
        [
         24,
         "France vs Play-off Winner A",
         "D",
         "France",
         "Play-off Winner A",
         1,
         2,
         "Play-off Winner A",
         "Group Stage"
        ],
        [
         25,
         "Belgium vs Play-off Winner B",
         "E",
         "Belgium",
         "Play-off Winner B",
         3,
         2,
         "Belgium",
         "Group Stage"
        ],
        [
         26,
         "Belgium vs Romania",
         "E",
         "Belgium",
         "Romania",
         0,
         0,
         "Draw",
         "Group Stage"
        ],
        [
         27,
         "Belgium vs Slovakia",
         "E",
         "Belgium",
         "Slovakia",
         2,
         0,
         "Belgium",
         "Group Stage"
        ],
        [
         28,
         "Slovakia vs Play-off Winner B",
         "E",
         "Slovakia",
         "Play-off Winner B",
         1,
         3,
         "Play-off Winner B",
         "Group Stage"
        ],
        [
         29,
         "Slovakia vs Romania",
         "E",
         "Slovakia",
         "Romania",
         3,
         4,
         "Romania",
         "Group Stage"
        ],
        [
         30,
         "Romania vs Play-off Winner B",
         "E",
         "Romania",
         "Play-off Winner B",
         4,
         3,
         "Romania",
         "Group Stage"
        ],
        [
         31,
         "Turkey vs Czech Republic",
         "F",
         "Turkey",
         "Czech Republic",
         4,
         5,
         "Czech Republic",
         "Group Stage"
        ],
        [
         32,
         "Turkey vs Portugal",
         "F",
         "Turkey",
         "Portugal",
         3,
         0,
         "Turkey",
         "Group Stage"
        ],
        [
         33,
         "Turkey vs Play-off Winner C",
         "F",
         "Turkey",
         "Play-off Winner C",
         3,
         4,
         "Play-off Winner C",
         "Group Stage"
        ],
        [
         34,
         "Play-off Winner C vs Czech Republic",
         "F",
         "Play-off Winner C",
         "Czech Republic",
         2,
         5,
         "Czech Republic",
         "Group Stage"
        ],
        [
         35,
         "Play-off Winner C vs Portugal",
         "F",
         "Play-off Winner C",
         "Portugal",
         3,
         1,
         "Play-off Winner C",
         "Group Stage"
        ],
        [
         36,
         "Portugal vs Czech Republic",
         "F",
         "Portugal",
         "Czech Republic",
         0,
         2,
         "Czech Republic",
         "Group Stage"
        ],
        [
         37,
         "Albania Vs. Switzerland",
         "N",
         "Albania",
         "Switzerland",
         4,
         0,
         "Albania",
         "R16"
        ],
        [
         38,
         "Scotland Vs. Denmark",
         "N",
         "Scotland",
         "Denmark",
         1,
         2,
         "Denmark",
         "R16"
        ],
        [
         39,
         "Czech Republic Vs. Serbia",
         "N",
         "Czech Republic",
         "Serbia",
         2,
         0,
         "Czech Republic",
         "R16"
        ],
        [
         40,
         "Netherlands Vs. Romania",
         "N",
         "Netherlands",
         "Romania",
         5,
         2,
         "Netherlands",
         "R16"
        ],
        [
         41,
         "Belgium Vs. Italy",
         "N",
         "Belgium",
         "Italy",
         1,
         2,
         "Italy",
         "R16"
        ],
        [
         42,
         "Austria Vs. Play-off Winner C",
         "N",
         "Austria",
         "Play-off Winner C",
         3,
         0,
         "Austria",
         "R16"
        ],
        [
         43,
         "Slovenia Vs. Play-off Winner A",
         "N",
         "Slovenia",
         "Play-off Winner A",
         1,
         0,
         "Slovenia",
         "R16"
        ],
        [
         44,
         "Germany Vs. Croatia",
         "N",
         "Germany",
         "Croatia",
         1,
         2,
         "Croatia",
         "R16"
        ],
        [
         45,
         "Czech Republic Vs. Albania",
         "N",
         "Czech Republic",
         "Albania",
         1,
         2,
         "Albania",
         "Quarter-Final"
        ],
        [
         46,
         "Italy Vs. Austria",
         "N",
         "Italy",
         "Austria",
         5,
         2,
         "Italy",
         "Quarter-Final"
        ],
        [
         47,
         "Slovenia Vs. Croatia",
         "N",
         "Slovenia",
         "Croatia",
         1,
         2,
         "Croatia",
         "Quarter-Final"
        ],
        [
         48,
         "Netherlands Vs. Denmark",
         "N",
         "Netherlands",
         "Denmark",
         5,
         2,
         "Netherlands",
         "Quarter-Final"
        ]
       ],
       "datasetInfos": [],
       "dbfsResultPath": null,
       "isJsonSchema": true,
       "metadata": {},
       "overflow": false,
       "plotOptions": {
        "customPlotOptions": {},
        "displayType": "table",
        "pivotAggregation": null,
        "pivotColumns": null,
        "xColumns": null,
        "yColumns": null
       },
       "removedWidgets": [],
       "schema": [
        {
         "metadata": "{}",
         "name": "MatchID",
         "type": "\"integer\""
        },
        {
         "metadata": "{\"__CHAR_VARCHAR_TYPE_STRING\":\"varchar(50)\"}",
         "name": "Fixture",
         "type": "\"string\""
        },
        {
         "metadata": "{\"__CHAR_VARCHAR_TYPE_STRING\":\"varchar(1)\"}",
         "name": "GroupName",
         "type": "\"string\""
        },
        {
         "metadata": "{\"__CHAR_VARCHAR_TYPE_STRING\":\"varchar(20)\"}",
         "name": "HomeTeam",
         "type": "\"string\""
        },
        {
         "metadata": "{\"__CHAR_VARCHAR_TYPE_STRING\":\"varchar(20)\"}",
         "name": "AwayTeam",
         "type": "\"string\""
        },
        {
         "metadata": "{}",
         "name": "HomeTeamGoals",
         "type": "\"integer\""
        },
        {
         "metadata": "{}",
         "name": "AwayTeamGoals",
         "type": "\"integer\""
        },
        {
         "metadata": "{\"__CHAR_VARCHAR_TYPE_STRING\":\"varchar(20)\"}",
         "name": "MatchResult",
         "type": "\"string\""
        },
        {
         "metadata": "{\"__CHAR_VARCHAR_TYPE_STRING\":\"varchar(20)\"}",
         "name": "MatchStage",
         "type": "\"string\""
        }
       ],
       "type": "table"
      }
     },
     "output_type": "display_data"
    }
   ],
   "source": [
    "%sql\n",
    "select * from matches order by MatchID;"
   ]
  },
  {
   "cell_type": "code",
   "execution_count": 0,
   "metadata": {
    "application/vnd.databricks.v1+cell": {
     "cellMetadata": {
      "byteLimit": 2048000,
      "implicitDf": true,
      "rowLimit": 10000
     },
     "inputWidgets": {},
     "nuid": "6bf35f7e-6ec7-4f3f-900f-606daa74a4d4",
     "showTitle": false,
     "title": ""
    }
   },
   "outputs": [
    {
     "output_type": "display_data",
     "data": {
      "text/html": [
       "<style scoped>\n",
       "  .table-result-container {\n",
       "    max-height: 300px;\n",
       "    overflow: auto;\n",
       "  }\n",
       "  table, th, td {\n",
       "    border: 1px solid black;\n",
       "    border-collapse: collapse;\n",
       "  }\n",
       "  th, td {\n",
       "    padding: 5px;\n",
       "  }\n",
       "  th {\n",
       "    text-align: left;\n",
       "  }\n",
       "</style><div class='table-result-container'><table class='table-result'><thead style='background-color: white'><tr><th>num_affected_rows</th></tr></thead><tbody><tr><td>8</td></tr></tbody></table></div>"
      ]
     },
     "metadata": {
      "application/vnd.databricks.v1+output": {
       "addedWidgets": {},
       "aggData": [],
       "aggError": "",
       "aggOverflow": false,
       "aggSchema": [],
       "aggSeriesLimitReached": false,
       "aggType": "",
       "arguments": {},
       "columnCustomDisplayInfos": {},
       "data": [
        [
         8
        ]
       ],
       "datasetInfos": [],
       "dbfsResultPath": null,
       "isJsonSchema": true,
       "metadata": {},
       "overflow": false,
       "plotOptions": {
        "customPlotOptions": {},
        "displayType": "table",
        "pivotAggregation": null,
        "pivotColumns": null,
        "xColumns": null,
        "yColumns": null
       },
       "removedWidgets": [],
       "schema": [
        {
         "metadata": "{}",
         "name": "num_affected_rows",
         "type": "\"long\""
        }
       ],
       "type": "table"
      }
     },
     "output_type": "display_data"
    }
   ],
   "source": [
    "%sql\n",
    "UPDATE Matches\n",
    "SET MatchResult = \n",
    "    CASE\n",
    "        WHEN HOMETEAMGOALS > AWAYTEAMGOALS THEN HomeTeam\n",
    "        WHEN HOMETEAMGOALS < AWAYTEAMGOALS THEN AwayTeam\n",
    "         ELSE \n",
    "            CASE \n",
    "                WHEN (HomeTeamGoals + 1) % 2 = 1 THEN HomeTeam\n",
    "                ELSE AwayTeam\n",
    "            END\n",
    "    END\n",
    "  WHERE MatchStage = \"R16\";"
   ]
  },
  {
   "cell_type": "markdown",
   "metadata": {
    "application/vnd.databricks.v1+cell": {
     "cellMetadata": {
      "byteLimit": 2048000,
      "rowLimit": 10000
     },
     "inputWidgets": {},
     "nuid": "e03a9f97-8229-436e-b6a2-b8b52c6a02a2",
     "showTitle": false,
     "title": ""
    }
   },
   "source": [
    "## Matches for the Quater-Final Round "
   ]
  },
  {
   "cell_type": "code",
   "execution_count": 0,
   "metadata": {
    "application/vnd.databricks.v1+cell": {
     "cellMetadata": {
      "byteLimit": 2048000,
      "implicitDf": true,
      "rowLimit": 10000
     },
     "inputWidgets": {},
     "nuid": "709e30e2-6152-4427-93bc-92e89e924134",
     "showTitle": false,
     "title": ""
    }
   },
   "outputs": [
    {
     "output_type": "display_data",
     "data": {
      "text/html": [
       "<style scoped>\n",
       "  .table-result-container {\n",
       "    max-height: 300px;\n",
       "    overflow: auto;\n",
       "  }\n",
       "  table, th, td {\n",
       "    border: 1px solid black;\n",
       "    border-collapse: collapse;\n",
       "  }\n",
       "  th, td {\n",
       "    padding: 5px;\n",
       "  }\n",
       "  th {\n",
       "    text-align: left;\n",
       "  }\n",
       "</style><div class='table-result-container'><table class='table-result'><thead style='background-color: white'><tr><th>num_affected_rows</th><th>num_inserted_rows</th></tr></thead><tbody><tr><td>4</td><td>4</td></tr></tbody></table></div>"
      ]
     },
     "metadata": {
      "application/vnd.databricks.v1+output": {
       "addedWidgets": {},
       "aggData": [],
       "aggError": "",
       "aggOverflow": false,
       "aggSchema": [],
       "aggSeriesLimitReached": false,
       "aggType": "",
       "arguments": {},
       "columnCustomDisplayInfos": {},
       "data": [
        [
         4,
         4
        ]
       ],
       "datasetInfos": [],
       "dbfsResultPath": null,
       "isJsonSchema": true,
       "metadata": {},
       "overflow": false,
       "plotOptions": {
        "customPlotOptions": {},
        "displayType": "table",
        "pivotAggregation": null,
        "pivotColumns": null,
        "xColumns": null,
        "yColumns": null
       },
       "removedWidgets": [],
       "schema": [
        {
         "metadata": "{}",
         "name": "num_affected_rows",
         "type": "\"long\""
        },
        {
         "metadata": "{}",
         "name": "num_inserted_rows",
         "type": "\"long\""
        }
       ],
       "type": "table"
      }
     },
     "output_type": "display_data"
    }
   ],
   "source": [
    "%sql\n",
    "INSERT INTO matches (MatchId, fixture,GroupName, HomeTeam, AwayTeam, HomeTeamGoals, AwayTeamGoals, MatchResult, MatchStage)\n",
    "SELECT \n",
    "    Row_Number() OVER(ORDER BY 1) + 44 AS MatchId,\n",
    "    CONCAT(QF1.MATCHRESULT, ' Vs. ', QF2.MATCHRESULT) AS fixture,\n",
    "    'N' as GroupName,\n",
    "    QF1.MATCHRESULT AS HomeTeam,\n",
    "    QF2.MATCHRESULT AS AwayTeam,\n",
    "    CAST(rand() * 6 AS INT) AS GoalsScored, \n",
    "    CAST(rand() * 6 AS INT) AS GoalsAllowed,\n",
    "    'None' AS MatchResult,\n",
    "    'Quarter-Final' AS MatchStage\n",
    "FROM \n",
    "    matches QF1\n",
    "JOIN \n",
    "    matches QF2 ON \n",
    "        QF1.MATCHID = 39 AND QF2.MatchId = 37\n",
    "\n",
    "UNION ALL\n",
    "\n",
    "SELECT \n",
    "    Row_Number() OVER(ORDER BY 1) + 45 AS MatchId,\n",
    "    CONCAT(QF1.MATCHRESULT, ' Vs. ', QF2.MATCHRESULT) AS fixture,\n",
    "    'N' as GroupName,\n",
    "    QF1.MATCHRESULT AS HomeTeam,\n",
    "    QF2.MATCHRESULT AS AwayTeam,\n",
    "    CAST(rand() * 6 AS INT) AS GoalsScored, \n",
    "    CAST(rand() * 6 AS INT) AS GoalsAllowed,\n",
    "    'None' AS MatchResult,\n",
    "    'Quarter-Final' AS MatchStage\n",
    "FROM \n",
    "    matches QF1\n",
    "JOIN \n",
    "    matches QF2 ON \n",
    "        QF1.MATCHID = 41 AND QF2.MatchId = 42\n",
    "\n",
    "UNION ALL\n",
    "\n",
    "SELECT \n",
    "    Row_Number() OVER(ORDER BY 1) + 46 AS MatchId,\n",
    "    CONCAT(QF1.MATCHRESULT, ' Vs. ', QF2.MATCHRESULT) AS fixture,\n",
    "    'N' as GroupName,\n",
    "    QF1.MATCHRESULT AS HomeTeam,\n",
    "    QF2.MATCHRESULT AS AwayTeam,\n",
    "    CAST(rand() * 6 AS INT) AS GoalsScored, \n",
    "    CAST(rand() * 6 AS INT) AS GoalsAllowed,\n",
    "    'None' AS MatchResult,\n",
    "    'Quarter-Final' AS MatchStage\n",
    "FROM \n",
    "    matches QF1\n",
    "JOIN \n",
    "    matches QF2 ON \n",
    "        QF1.MATCHID = 43 AND QF2.MatchId = 44\n",
    "\n",
    "UNION ALL\n",
    "\n",
    "SELECT \n",
    "    Row_Number() OVER(ORDER BY 1) + 47 AS MatchId,\n",
    "    CONCAT(QF1.MATCHRESULT, ' Vs. ', QF2.MATCHRESULT) AS fixture,\n",
    "    'N' as GroupName,\n",
    "    QF1.MATCHRESULT AS HomeTeam,\n",
    "    QF2.MATCHRESULT AS AwayTeam,\n",
    "    CAST(rand() * 6 AS INT) AS GoalsScored, \n",
    "    CAST(rand() * 6 AS INT) AS GoalsAllowed,\n",
    "    'None' AS MatchResult,\n",
    "    'Quarter-Final' AS MatchStage\n",
    "FROM \n",
    "    matches QF1\n",
    "JOIN \n",
    "    matches QF2 ON \n",
    "        QF1.MATCHID = 40 AND QF2.MatchId = 38;"
   ]
  },
  {
   "cell_type": "code",
   "execution_count": 0,
   "metadata": {
    "application/vnd.databricks.v1+cell": {
     "cellMetadata": {
      "byteLimit": 2048000,
      "implicitDf": true,
      "rowLimit": 10000
     },
     "inputWidgets": {},
     "nuid": "60dedcd6-82be-49b9-95f1-549b9d68bcdb",
     "showTitle": false,
     "title": ""
    }
   },
   "outputs": [
    {
     "output_type": "display_data",
     "data": {
      "text/html": [
       "<style scoped>\n",
       "  .table-result-container {\n",
       "    max-height: 300px;\n",
       "    overflow: auto;\n",
       "  }\n",
       "  table, th, td {\n",
       "    border: 1px solid black;\n",
       "    border-collapse: collapse;\n",
       "  }\n",
       "  th, td {\n",
       "    padding: 5px;\n",
       "  }\n",
       "  th {\n",
       "    text-align: left;\n",
       "  }\n",
       "</style><div class='table-result-container'><table class='table-result'><thead style='background-color: white'><tr><th>num_affected_rows</th></tr></thead><tbody><tr><td>4</td></tr></tbody></table></div>"
      ]
     },
     "metadata": {
      "application/vnd.databricks.v1+output": {
       "addedWidgets": {},
       "aggData": [],
       "aggError": "",
       "aggOverflow": false,
       "aggSchema": [],
       "aggSeriesLimitReached": false,
       "aggType": "",
       "arguments": {},
       "columnCustomDisplayInfos": {},
       "data": [
        [
         4
        ]
       ],
       "datasetInfos": [],
       "dbfsResultPath": null,
       "isJsonSchema": true,
       "metadata": {},
       "overflow": false,
       "plotOptions": {
        "customPlotOptions": {},
        "displayType": "table",
        "pivotAggregation": null,
        "pivotColumns": null,
        "xColumns": null,
        "yColumns": null
       },
       "removedWidgets": [],
       "schema": [
        {
         "metadata": "{}",
         "name": "num_affected_rows",
         "type": "\"long\""
        }
       ],
       "type": "table"
      }
     },
     "output_type": "display_data"
    }
   ],
   "source": [
    "%sql\n",
    "UPDATE Matches\n",
    "SET MatchResult = \n",
    "    CASE\n",
    "        WHEN HOMETEAMGOALS > AWAYTEAMGOALS THEN HomeTeam\n",
    "        WHEN HOMETEAMGOALS < AWAYTEAMGOALS THEN AwayTeam\n",
    "        ELSE \n",
    "        CASE \n",
    "                WHEN (HomeTeamGoals + 1) % 2 = 1 THEN HomeTeam\n",
    "                ELSE AwayTeam\n",
    "            END\n",
    "    END\n",
    "WHERE MatchStage = 'Quarter-Final';"
   ]
  },
  {
   "cell_type": "markdown",
   "metadata": {
    "application/vnd.databricks.v1+cell": {
     "cellMetadata": {
      "byteLimit": 2048000,
      "rowLimit": 10000
     },
     "inputWidgets": {},
     "nuid": "4156d089-d261-42e3-b514-37e616ca56d6",
     "showTitle": false,
     "title": ""
    }
   },
   "source": [
    "## Matches For the Semi-Final Round"
   ]
  },
  {
   "cell_type": "code",
   "execution_count": 0,
   "metadata": {
    "application/vnd.databricks.v1+cell": {
     "cellMetadata": {
      "byteLimit": 2048000,
      "implicitDf": true,
      "rowLimit": 10000
     },
     "inputWidgets": {},
     "nuid": "bcbbb77f-aae0-4a8c-989e-71070f927a79",
     "showTitle": false,
     "title": ""
    }
   },
   "outputs": [
    {
     "output_type": "display_data",
     "data": {
      "text/html": [
       "<style scoped>\n",
       "  .table-result-container {\n",
       "    max-height: 300px;\n",
       "    overflow: auto;\n",
       "  }\n",
       "  table, th, td {\n",
       "    border: 1px solid black;\n",
       "    border-collapse: collapse;\n",
       "  }\n",
       "  th, td {\n",
       "    padding: 5px;\n",
       "  }\n",
       "  th {\n",
       "    text-align: left;\n",
       "  }\n",
       "</style><div class='table-result-container'><table class='table-result'><thead style='background-color: white'><tr><th>num_affected_rows</th><th>num_inserted_rows</th></tr></thead><tbody><tr><td>2</td><td>2</td></tr></tbody></table></div>"
      ]
     },
     "metadata": {
      "application/vnd.databricks.v1+output": {
       "addedWidgets": {},
       "aggData": [],
       "aggError": "",
       "aggOverflow": false,
       "aggSchema": [],
       "aggSeriesLimitReached": false,
       "aggType": "",
       "arguments": {},
       "columnCustomDisplayInfos": {},
       "data": [
        [
         2,
         2
        ]
       ],
       "datasetInfos": [],
       "dbfsResultPath": null,
       "isJsonSchema": true,
       "metadata": {},
       "overflow": false,
       "plotOptions": {
        "customPlotOptions": {},
        "displayType": "table",
        "pivotAggregation": null,
        "pivotColumns": null,
        "xColumns": null,
        "yColumns": null
       },
       "removedWidgets": [],
       "schema": [
        {
         "metadata": "{}",
         "name": "num_affected_rows",
         "type": "\"long\""
        },
        {
         "metadata": "{}",
         "name": "num_inserted_rows",
         "type": "\"long\""
        }
       ],
       "type": "table"
      }
     },
     "output_type": "display_data"
    }
   ],
   "source": [
    "%sql\n",
    "INSERT INTO matches (MatchId, fixture,GroupName, HomeTeam, AwayTeam, HomeTeamGoals, AwayTeamGoals, MatchResult, MatchStage)\n",
    "SELECT \n",
    "    Row_Number() OVER(ORDER BY 1) + 48 AS MatchId,\n",
    "    CONCAT(SF1.MATCHRESULT, ' Vs. ', SF2.MATCHRESULT) AS fixture,\n",
    "    'N' as GroupName,\n",
    "    SF1.MATCHRESULT AS HomeTeam,\n",
    "    SF2.MATCHRESULT AS AwayTeam,\n",
    "    CAST(rand() * 6 AS INT) AS GoalsScored, \n",
    "    CAST(rand() * 6 AS INT) AS GoalsAllowed,\n",
    "    'None' AS MatchResult,\n",
    "    'Semi-Final' AS MatchStage\n",
    "FROM \n",
    "    matches SF1\n",
    "JOIN \n",
    "    matches SF2 ON (\n",
    "        (SF1.MATCHID = 45 AND SF2.MatchId = 46) OR\n",
    "        (SF1.MATCHID = 47 AND SF2.MatchId = 48)\n",
    "    );"
   ]
  },
  {
   "cell_type": "code",
   "execution_count": 0,
   "metadata": {
    "application/vnd.databricks.v1+cell": {
     "cellMetadata": {
      "byteLimit": 2048000,
      "implicitDf": true,
      "rowLimit": 10000
     },
     "inputWidgets": {},
     "nuid": "849f0938-34ca-4180-a5c2-dc9adf4c2bf3",
     "showTitle": false,
     "title": ""
    }
   },
   "outputs": [
    {
     "output_type": "display_data",
     "data": {
      "text/html": [
       "<style scoped>\n",
       "  .table-result-container {\n",
       "    max-height: 300px;\n",
       "    overflow: auto;\n",
       "  }\n",
       "  table, th, td {\n",
       "    border: 1px solid black;\n",
       "    border-collapse: collapse;\n",
       "  }\n",
       "  th, td {\n",
       "    padding: 5px;\n",
       "  }\n",
       "  th {\n",
       "    text-align: left;\n",
       "  }\n",
       "</style><div class='table-result-container'><table class='table-result'><thead style='background-color: white'><tr><th>num_affected_rows</th></tr></thead><tbody><tr><td>2</td></tr></tbody></table></div>"
      ]
     },
     "metadata": {
      "application/vnd.databricks.v1+output": {
       "addedWidgets": {},
       "aggData": [],
       "aggError": "",
       "aggOverflow": false,
       "aggSchema": [],
       "aggSeriesLimitReached": false,
       "aggType": "",
       "arguments": {},
       "columnCustomDisplayInfos": {},
       "data": [
        [
         2
        ]
       ],
       "datasetInfos": [],
       "dbfsResultPath": null,
       "isJsonSchema": true,
       "metadata": {},
       "overflow": false,
       "plotOptions": {
        "customPlotOptions": {},
        "displayType": "table",
        "pivotAggregation": null,
        "pivotColumns": null,
        "xColumns": null,
        "yColumns": null
       },
       "removedWidgets": [],
       "schema": [
        {
         "metadata": "{}",
         "name": "num_affected_rows",
         "type": "\"long\""
        }
       ],
       "type": "table"
      }
     },
     "output_type": "display_data"
    }
   ],
   "source": [
    "%sql\n",
    "UPDATE Matches\n",
    "SET MatchResult = \n",
    "    CASE\n",
    "        WHEN HOMETEAMGOALS > AWAYTEAMGOALS THEN HomeTeam\n",
    "        WHEN HOMETEAMGOALS < AWAYTEAMGOALS THEN AwayTeam\n",
    "        ELSE \n",
    "          CASE \n",
    "                  WHEN (HomeTeamGoals + 1) % 2 = 1 THEN HomeTeam\n",
    "                  ELSE AwayTeam\n",
    "              END\n",
    "    END\n",
    "WHERE MatchStage = 'Semi-Final';"
   ]
  },
  {
   "cell_type": "markdown",
   "metadata": {
    "application/vnd.databricks.v1+cell": {
     "cellMetadata": {
      "byteLimit": 2048000,
      "rowLimit": 10000
     },
     "inputWidgets": {},
     "nuid": "4d203d6e-4696-4486-a712-df7ec1969312",
     "showTitle": false,
     "title": ""
    }
   },
   "source": [
    "## Match For Third Place"
   ]
  },
  {
   "cell_type": "code",
   "execution_count": 0,
   "metadata": {
    "application/vnd.databricks.v1+cell": {
     "cellMetadata": {
      "byteLimit": 2048000,
      "implicitDf": true,
      "rowLimit": 10000
     },
     "inputWidgets": {},
     "nuid": "c1d4b9b9-2c06-4ee3-9397-363d6dd6010e",
     "showTitle": false,
     "title": ""
    }
   },
   "outputs": [
    {
     "output_type": "display_data",
     "data": {
      "text/html": [
       "<style scoped>\n",
       "  .table-result-container {\n",
       "    max-height: 300px;\n",
       "    overflow: auto;\n",
       "  }\n",
       "  table, th, td {\n",
       "    border: 1px solid black;\n",
       "    border-collapse: collapse;\n",
       "  }\n",
       "  th, td {\n",
       "    padding: 5px;\n",
       "  }\n",
       "  th {\n",
       "    text-align: left;\n",
       "  }\n",
       "</style><div class='table-result-container'><table class='table-result'><thead style='background-color: white'><tr><th>num_affected_rows</th><th>num_inserted_rows</th></tr></thead><tbody><tr><td>1</td><td>1</td></tr></tbody></table></div>"
      ]
     },
     "metadata": {
      "application/vnd.databricks.v1+output": {
       "addedWidgets": {},
       "aggData": [],
       "aggError": "",
       "aggOverflow": false,
       "aggSchema": [],
       "aggSeriesLimitReached": false,
       "aggType": "",
       "arguments": {},
       "columnCustomDisplayInfos": {},
       "data": [
        [
         1,
         1
        ]
       ],
       "datasetInfos": [],
       "dbfsResultPath": null,
       "isJsonSchema": true,
       "metadata": {},
       "overflow": false,
       "plotOptions": {
        "customPlotOptions": {},
        "displayType": "table",
        "pivotAggregation": null,
        "pivotColumns": null,
        "xColumns": null,
        "yColumns": null
       },
       "removedWidgets": [],
       "schema": [
        {
         "metadata": "{}",
         "name": "num_affected_rows",
         "type": "\"long\""
        },
        {
         "metadata": "{}",
         "name": "num_inserted_rows",
         "type": "\"long\""
        }
       ],
       "type": "table"
      }
     },
     "output_type": "display_data"
    }
   ],
   "source": [
    "%sql\n",
    "INSERT INTO matches (MatchId, fixture,GroupName, HomeTeam, AwayTeam, HomeTeamGoals, AwayTeamGoals, MatchResult, MatchStage)\n",
    "WITH LosingTeams AS (\n",
    "    SELECT\n",
    "        CASE\n",
    "            WHEN MATCHRESULT != HOMETEAM THEN HOMETEAM\n",
    "            ELSE AWAYTEAM\n",
    "        END AS LosingTeam\n",
    "    FROM\n",
    "        matches\n",
    "    WHERE \n",
    "        MATCHSTAGE = 'Semi-Final'\n",
    ")\n",
    "\n",
    "SELECT \n",
    "    Row_Number() OVER(ORDER BY 1) + 50 AS MatchId,\n",
    "    CONCAT(T1.LosingTeam, ' Vs. ', T2.LosingTeam) AS fixture,\n",
    "    'N' as GroupName,\n",
    "    T1.LosingTeam AS HomeTeam,\n",
    "    T2.LosingTeam AS AwayTeam,\n",
    "    CAST(rand() * 6 AS INT) AS GoalsScored, \n",
    "    CAST(rand() * 6 AS INT) AS GoalsAllowed,\n",
    "    'None' AS MatchResult,\n",
    "    'Third-Place' AS MatchStage\n",
    "FROM \n",
    "    LosingTeams T1\n",
    "JOIN \n",
    "    LosingTeams T2 ON T1.LosingTeam < T2.LosingTeam;\n"
   ]
  },
  {
   "cell_type": "code",
   "execution_count": 0,
   "metadata": {
    "application/vnd.databricks.v1+cell": {
     "cellMetadata": {
      "byteLimit": 2048000,
      "implicitDf": true,
      "rowLimit": 10000
     },
     "inputWidgets": {},
     "nuid": "4a6eb8dc-0998-4b97-a03e-5bb659ae2227",
     "showTitle": false,
     "title": ""
    }
   },
   "outputs": [
    {
     "output_type": "display_data",
     "data": {
      "text/html": [
       "<style scoped>\n",
       "  .table-result-container {\n",
       "    max-height: 300px;\n",
       "    overflow: auto;\n",
       "  }\n",
       "  table, th, td {\n",
       "    border: 1px solid black;\n",
       "    border-collapse: collapse;\n",
       "  }\n",
       "  th, td {\n",
       "    padding: 5px;\n",
       "  }\n",
       "  th {\n",
       "    text-align: left;\n",
       "  }\n",
       "</style><div class='table-result-container'><table class='table-result'><thead style='background-color: white'><tr><th>num_affected_rows</th></tr></thead><tbody><tr><td>1</td></tr></tbody></table></div>"
      ]
     },
     "metadata": {
      "application/vnd.databricks.v1+output": {
       "addedWidgets": {},
       "aggData": [],
       "aggError": "",
       "aggOverflow": false,
       "aggSchema": [],
       "aggSeriesLimitReached": false,
       "aggType": "",
       "arguments": {},
       "columnCustomDisplayInfos": {},
       "data": [
        [
         1
        ]
       ],
       "datasetInfos": [],
       "dbfsResultPath": null,
       "isJsonSchema": true,
       "metadata": {},
       "overflow": false,
       "plotOptions": {
        "customPlotOptions": {},
        "displayType": "table",
        "pivotAggregation": null,
        "pivotColumns": null,
        "xColumns": null,
        "yColumns": null
       },
       "removedWidgets": [],
       "schema": [
        {
         "metadata": "{}",
         "name": "num_affected_rows",
         "type": "\"long\""
        }
       ],
       "type": "table"
      }
     },
     "output_type": "display_data"
    }
   ],
   "source": [
    "%sql\n",
    "UPDATE Matches\n",
    "SET MatchResult = \n",
    "    CASE\n",
    "        WHEN HOMETEAMGOALS > AWAYTEAMGOALS THEN HomeTeam\n",
    "        WHEN HOMETEAMGOALS < AWAYTEAMGOALS THEN AwayTeam\n",
    "        ELSE \n",
    "          CASE \n",
    "                  WHEN (HomeTeamGoals + 1) % 2 = 1 THEN HomeTeam\n",
    "                  ELSE AwayTeam\n",
    "              END\n",
    "    END\n",
    "WHERE MatchStage = 'Third-Place';"
   ]
  },
  {
   "cell_type": "markdown",
   "metadata": {
    "application/vnd.databricks.v1+cell": {
     "cellMetadata": {
      "byteLimit": 2048000,
      "rowLimit": 10000
     },
     "inputWidgets": {},
     "nuid": "1cbabc81-25b0-4561-b48a-1aeb68ba2b95",
     "showTitle": false,
     "title": ""
    }
   },
   "source": [
    "## Match For the Final"
   ]
  },
  {
   "cell_type": "code",
   "execution_count": 0,
   "metadata": {
    "application/vnd.databricks.v1+cell": {
     "cellMetadata": {
      "byteLimit": 2048000,
      "implicitDf": true,
      "rowLimit": 10000
     },
     "inputWidgets": {},
     "nuid": "1e8761d2-cd4a-4e0e-b887-d6bd14f4f237",
     "showTitle": false,
     "title": ""
    }
   },
   "outputs": [
    {
     "output_type": "display_data",
     "data": {
      "text/html": [
       "<style scoped>\n",
       "  .table-result-container {\n",
       "    max-height: 300px;\n",
       "    overflow: auto;\n",
       "  }\n",
       "  table, th, td {\n",
       "    border: 1px solid black;\n",
       "    border-collapse: collapse;\n",
       "  }\n",
       "  th, td {\n",
       "    padding: 5px;\n",
       "  }\n",
       "  th {\n",
       "    text-align: left;\n",
       "  }\n",
       "</style><div class='table-result-container'><table class='table-result'><thead style='background-color: white'><tr><th>num_affected_rows</th><th>num_inserted_rows</th></tr></thead><tbody><tr><td>1</td><td>1</td></tr></tbody></table></div>"
      ]
     },
     "metadata": {
      "application/vnd.databricks.v1+output": {
       "addedWidgets": {},
       "aggData": [],
       "aggError": "",
       "aggOverflow": false,
       "aggSchema": [],
       "aggSeriesLimitReached": false,
       "aggType": "",
       "arguments": {},
       "columnCustomDisplayInfos": {},
       "data": [
        [
         1,
         1
        ]
       ],
       "datasetInfos": [],
       "dbfsResultPath": null,
       "isJsonSchema": true,
       "metadata": {},
       "overflow": false,
       "plotOptions": {
        "customPlotOptions": {},
        "displayType": "table",
        "pivotAggregation": null,
        "pivotColumns": null,
        "xColumns": null,
        "yColumns": null
       },
       "removedWidgets": [],
       "schema": [
        {
         "metadata": "{}",
         "name": "num_affected_rows",
         "type": "\"long\""
        },
        {
         "metadata": "{}",
         "name": "num_inserted_rows",
         "type": "\"long\""
        }
       ],
       "type": "table"
      }
     },
     "output_type": "display_data"
    }
   ],
   "source": [
    "%sql\n",
    "INSERT INTO matches (MatchId, fixture,GroupName, HomeTeam, AwayTeam, HomeTeamGoals, AwayTeamGoals, MatchResult, MatchStage)\n",
    "SELECT \n",
    "    Row_Number() OVER(ORDER BY 1) + 52 AS MatchId,\n",
    "    CONCAT(F1.MATCHRESULT, ' Vs. ', F2.MATCHRESULT) AS fixture,\n",
    "    'N' as GroupName,\n",
    "    F1.MATCHRESULT AS HomeTeam,\n",
    "    F2.MATCHRESULT AS AwayTeam,\n",
    "    CAST(rand() * 6 AS INT) AS GoalsScored, \n",
    "    CAST(rand() * 6 AS INT) AS GoalsAllowed,\n",
    "    'None' AS MatchResult,\n",
    "    'Final' AS MatchStage\n",
    "FROM \n",
    "    matches F1\n",
    "JOIN \n",
    "    matches F2 ON \n",
    "        F1.MATCHID = 49 AND F2.MatchId = 50;"
   ]
  },
  {
   "cell_type": "code",
   "execution_count": 0,
   "metadata": {
    "application/vnd.databricks.v1+cell": {
     "cellMetadata": {
      "byteLimit": 2048000,
      "implicitDf": true,
      "rowLimit": 10000
     },
     "inputWidgets": {},
     "nuid": "2def8fab-8c8c-4505-b006-804c5fe104bd",
     "showTitle": false,
     "title": ""
    }
   },
   "outputs": [
    {
     "output_type": "display_data",
     "data": {
      "text/html": [
       "<style scoped>\n",
       "  .table-result-container {\n",
       "    max-height: 300px;\n",
       "    overflow: auto;\n",
       "  }\n",
       "  table, th, td {\n",
       "    border: 1px solid black;\n",
       "    border-collapse: collapse;\n",
       "  }\n",
       "  th, td {\n",
       "    padding: 5px;\n",
       "  }\n",
       "  th {\n",
       "    text-align: left;\n",
       "  }\n",
       "</style><div class='table-result-container'><table class='table-result'><thead style='background-color: white'><tr><th>num_affected_rows</th></tr></thead><tbody><tr><td>1</td></tr></tbody></table></div>"
      ]
     },
     "metadata": {
      "application/vnd.databricks.v1+output": {
       "addedWidgets": {},
       "aggData": [],
       "aggError": "",
       "aggOverflow": false,
       "aggSchema": [],
       "aggSeriesLimitReached": false,
       "aggType": "",
       "arguments": {},
       "columnCustomDisplayInfos": {},
       "data": [
        [
         1
        ]
       ],
       "datasetInfos": [],
       "dbfsResultPath": null,
       "isJsonSchema": true,
       "metadata": {},
       "overflow": false,
       "plotOptions": {
        "customPlotOptions": {},
        "displayType": "table",
        "pivotAggregation": null,
        "pivotColumns": null,
        "xColumns": null,
        "yColumns": null
       },
       "removedWidgets": [],
       "schema": [
        {
         "metadata": "{}",
         "name": "num_affected_rows",
         "type": "\"long\""
        }
       ],
       "type": "table"
      }
     },
     "output_type": "display_data"
    }
   ],
   "source": [
    "%sql\n",
    "UPDATE Matches\n",
    "SET MatchResult = \n",
    "    CASE\n",
    "        WHEN HOMETEAMGOALS > AWAYTEAMGOALS THEN HomeTeam\n",
    "        WHEN HOMETEAMGOALS < AWAYTEAMGOALS THEN AwayTeam\n",
    "        ELSE \n",
    "          CASE \n",
    "                WHEN (HomeTeamGoals + 1) % 2 = 1 THEN HomeTeam\n",
    "                ELSE AwayTeam\n",
    "            END\n",
    "    END\n",
    "WHERE MatchStage = 'Final';"
   ]
  },
  {
   "cell_type": "code",
   "execution_count": 0,
   "metadata": {
    "application/vnd.databricks.v1+cell": {
     "cellMetadata": {
      "byteLimit": 2048000,
      "implicitDf": true,
      "rowLimit": 10000
     },
     "inputWidgets": {},
     "nuid": "c605fcc5-7909-4b0c-a306-ef876b4a4356",
     "showTitle": false,
     "title": ""
    }
   },
   "outputs": [
    {
     "output_type": "display_data",
     "data": {
      "text/html": [
       "<style scoped>\n",
       "  .table-result-container {\n",
       "    max-height: 300px;\n",
       "    overflow: auto;\n",
       "  }\n",
       "  table, th, td {\n",
       "    border: 1px solid black;\n",
       "    border-collapse: collapse;\n",
       "  }\n",
       "  th, td {\n",
       "    padding: 5px;\n",
       "  }\n",
       "  th {\n",
       "    text-align: left;\n",
       "  }\n",
       "</style><div class='table-result-container'><table class='table-result'><thead style='background-color: white'><tr><th>MatchID</th><th>Fixture</th><th>GroupName</th><th>HomeTeam</th><th>AwayTeam</th><th>HomeTeamGoals</th><th>AwayTeamGoals</th><th>MatchResult</th><th>MatchStage</th></tr></thead><tbody><tr><td>37</td><td>Albania Vs. Switzerland</td><td>N</td><td>Albania</td><td>Switzerland</td><td>4</td><td>0</td><td>Albania</td><td>R16</td></tr><tr><td>38</td><td>Scotland Vs. Denmark</td><td>N</td><td>Scotland</td><td>Denmark</td><td>1</td><td>2</td><td>Denmark</td><td>R16</td></tr><tr><td>39</td><td>Czech Republic Vs. Serbia</td><td>N</td><td>Czech Republic</td><td>Serbia</td><td>2</td><td>0</td><td>Czech Republic</td><td>R16</td></tr><tr><td>40</td><td>Netherlands Vs. Romania</td><td>N</td><td>Netherlands</td><td>Romania</td><td>5</td><td>2</td><td>Netherlands</td><td>R16</td></tr><tr><td>41</td><td>Belgium Vs. Italy</td><td>N</td><td>Belgium</td><td>Italy</td><td>1</td><td>2</td><td>Italy</td><td>R16</td></tr><tr><td>42</td><td>Austria Vs. Play-off Winner C</td><td>N</td><td>Austria</td><td>Play-off Winner C</td><td>3</td><td>0</td><td>Austria</td><td>R16</td></tr><tr><td>43</td><td>Slovenia Vs. Play-off Winner A</td><td>N</td><td>Slovenia</td><td>Play-off Winner A</td><td>1</td><td>0</td><td>Slovenia</td><td>R16</td></tr><tr><td>44</td><td>Germany Vs. Croatia</td><td>N</td><td>Germany</td><td>Croatia</td><td>1</td><td>2</td><td>Croatia</td><td>R16</td></tr></tbody></table></div>"
      ]
     },
     "metadata": {
      "application/vnd.databricks.v1+output": {
       "addedWidgets": {},
       "aggData": [],
       "aggError": "",
       "aggOverflow": false,
       "aggSchema": [],
       "aggSeriesLimitReached": false,
       "aggType": "",
       "arguments": {},
       "columnCustomDisplayInfos": {},
       "data": [
        [
         37,
         "Albania Vs. Switzerland",
         "N",
         "Albania",
         "Switzerland",
         4,
         0,
         "Albania",
         "R16"
        ],
        [
         38,
         "Scotland Vs. Denmark",
         "N",
         "Scotland",
         "Denmark",
         1,
         2,
         "Denmark",
         "R16"
        ],
        [
         39,
         "Czech Republic Vs. Serbia",
         "N",
         "Czech Republic",
         "Serbia",
         2,
         0,
         "Czech Republic",
         "R16"
        ],
        [
         40,
         "Netherlands Vs. Romania",
         "N",
         "Netherlands",
         "Romania",
         5,
         2,
         "Netherlands",
         "R16"
        ],
        [
         41,
         "Belgium Vs. Italy",
         "N",
         "Belgium",
         "Italy",
         1,
         2,
         "Italy",
         "R16"
        ],
        [
         42,
         "Austria Vs. Play-off Winner C",
         "N",
         "Austria",
         "Play-off Winner C",
         3,
         0,
         "Austria",
         "R16"
        ],
        [
         43,
         "Slovenia Vs. Play-off Winner A",
         "N",
         "Slovenia",
         "Play-off Winner A",
         1,
         0,
         "Slovenia",
         "R16"
        ],
        [
         44,
         "Germany Vs. Croatia",
         "N",
         "Germany",
         "Croatia",
         1,
         2,
         "Croatia",
         "R16"
        ]
       ],
       "datasetInfos": [],
       "dbfsResultPath": null,
       "isJsonSchema": true,
       "metadata": {},
       "overflow": false,
       "plotOptions": {
        "customPlotOptions": {},
        "displayType": "table",
        "pivotAggregation": null,
        "pivotColumns": null,
        "xColumns": null,
        "yColumns": null
       },
       "removedWidgets": [],
       "schema": [
        {
         "metadata": "{}",
         "name": "MatchID",
         "type": "\"integer\""
        },
        {
         "metadata": "{\"__CHAR_VARCHAR_TYPE_STRING\":\"varchar(50)\"}",
         "name": "Fixture",
         "type": "\"string\""
        },
        {
         "metadata": "{\"__CHAR_VARCHAR_TYPE_STRING\":\"varchar(1)\"}",
         "name": "GroupName",
         "type": "\"string\""
        },
        {
         "metadata": "{\"__CHAR_VARCHAR_TYPE_STRING\":\"varchar(20)\"}",
         "name": "HomeTeam",
         "type": "\"string\""
        },
        {
         "metadata": "{\"__CHAR_VARCHAR_TYPE_STRING\":\"varchar(20)\"}",
         "name": "AwayTeam",
         "type": "\"string\""
        },
        {
         "metadata": "{}",
         "name": "HomeTeamGoals",
         "type": "\"integer\""
        },
        {
         "metadata": "{}",
         "name": "AwayTeamGoals",
         "type": "\"integer\""
        },
        {
         "metadata": "{\"__CHAR_VARCHAR_TYPE_STRING\":\"varchar(20)\"}",
         "name": "MatchResult",
         "type": "\"string\""
        },
        {
         "metadata": "{\"__CHAR_VARCHAR_TYPE_STRING\":\"varchar(20)\"}",
         "name": "MatchStage",
         "type": "\"string\""
        }
       ],
       "type": "table"
      }
     },
     "output_type": "display_data"
    }
   ],
   "source": [
    "%sql\n",
    "select * from matches where MatchStage = 'R16' order by MatchId;"
   ]
  },
  {
   "cell_type": "code",
   "execution_count": 0,
   "metadata": {
    "application/vnd.databricks.v1+cell": {
     "cellMetadata": {
      "byteLimit": 2048000,
      "implicitDf": true,
      "rowLimit": 10000
     },
     "inputWidgets": {},
     "nuid": "e90eedad-5449-4996-be3e-af22a2107a15",
     "showTitle": false,
     "title": ""
    }
   },
   "outputs": [
    {
     "output_type": "display_data",
     "data": {
      "text/html": [
       "<style scoped>\n",
       "  .table-result-container {\n",
       "    max-height: 300px;\n",
       "    overflow: auto;\n",
       "  }\n",
       "  table, th, td {\n",
       "    border: 1px solid black;\n",
       "    border-collapse: collapse;\n",
       "  }\n",
       "  th, td {\n",
       "    padding: 5px;\n",
       "  }\n",
       "  th {\n",
       "    text-align: left;\n",
       "  }\n",
       "</style><div class='table-result-container'><table class='table-result'><thead style='background-color: white'><tr><th>MatchID</th><th>Fixture</th><th>GroupName</th><th>HomeTeam</th><th>AwayTeam</th><th>HomeTeamGoals</th><th>AwayTeamGoals</th><th>MatchResult</th><th>MatchStage</th></tr></thead><tbody><tr><td>45</td><td>Czech Republic Vs. Albania</td><td>N</td><td>Czech Republic</td><td>Albania</td><td>1</td><td>2</td><td>Albania</td><td>Quarter-Final</td></tr><tr><td>46</td><td>Italy Vs. Austria</td><td>N</td><td>Italy</td><td>Austria</td><td>5</td><td>2</td><td>Italy</td><td>Quarter-Final</td></tr><tr><td>47</td><td>Slovenia Vs. Croatia</td><td>N</td><td>Slovenia</td><td>Croatia</td><td>1</td><td>2</td><td>Croatia</td><td>Quarter-Final</td></tr><tr><td>48</td><td>Netherlands Vs. Denmark</td><td>N</td><td>Netherlands</td><td>Denmark</td><td>5</td><td>2</td><td>Netherlands</td><td>Quarter-Final</td></tr></tbody></table></div>"
      ]
     },
     "metadata": {
      "application/vnd.databricks.v1+output": {
       "addedWidgets": {},
       "aggData": [],
       "aggError": "",
       "aggOverflow": false,
       "aggSchema": [],
       "aggSeriesLimitReached": false,
       "aggType": "",
       "arguments": {},
       "columnCustomDisplayInfos": {},
       "data": [
        [
         45,
         "Czech Republic Vs. Albania",
         "N",
         "Czech Republic",
         "Albania",
         1,
         2,
         "Albania",
         "Quarter-Final"
        ],
        [
         46,
         "Italy Vs. Austria",
         "N",
         "Italy",
         "Austria",
         5,
         2,
         "Italy",
         "Quarter-Final"
        ],
        [
         47,
         "Slovenia Vs. Croatia",
         "N",
         "Slovenia",
         "Croatia",
         1,
         2,
         "Croatia",
         "Quarter-Final"
        ],
        [
         48,
         "Netherlands Vs. Denmark",
         "N",
         "Netherlands",
         "Denmark",
         5,
         2,
         "Netherlands",
         "Quarter-Final"
        ]
       ],
       "datasetInfos": [],
       "dbfsResultPath": null,
       "isJsonSchema": true,
       "metadata": {},
       "overflow": false,
       "plotOptions": {
        "customPlotOptions": {},
        "displayType": "table",
        "pivotAggregation": null,
        "pivotColumns": null,
        "xColumns": null,
        "yColumns": null
       },
       "removedWidgets": [],
       "schema": [
        {
         "metadata": "{}",
         "name": "MatchID",
         "type": "\"integer\""
        },
        {
         "metadata": "{\"__CHAR_VARCHAR_TYPE_STRING\":\"varchar(50)\"}",
         "name": "Fixture",
         "type": "\"string\""
        },
        {
         "metadata": "{\"__CHAR_VARCHAR_TYPE_STRING\":\"varchar(1)\"}",
         "name": "GroupName",
         "type": "\"string\""
        },
        {
         "metadata": "{\"__CHAR_VARCHAR_TYPE_STRING\":\"varchar(20)\"}",
         "name": "HomeTeam",
         "type": "\"string\""
        },
        {
         "metadata": "{\"__CHAR_VARCHAR_TYPE_STRING\":\"varchar(20)\"}",
         "name": "AwayTeam",
         "type": "\"string\""
        },
        {
         "metadata": "{}",
         "name": "HomeTeamGoals",
         "type": "\"integer\""
        },
        {
         "metadata": "{}",
         "name": "AwayTeamGoals",
         "type": "\"integer\""
        },
        {
         "metadata": "{\"__CHAR_VARCHAR_TYPE_STRING\":\"varchar(20)\"}",
         "name": "MatchResult",
         "type": "\"string\""
        },
        {
         "metadata": "{\"__CHAR_VARCHAR_TYPE_STRING\":\"varchar(20)\"}",
         "name": "MatchStage",
         "type": "\"string\""
        }
       ],
       "type": "table"
      }
     },
     "output_type": "display_data"
    }
   ],
   "source": [
    "%sql\n",
    "SELECT * FROM Matches where MatchStage = 'Quarter-Final' order by MatchId;"
   ]
  },
  {
   "cell_type": "code",
   "execution_count": 0,
   "metadata": {
    "application/vnd.databricks.v1+cell": {
     "cellMetadata": {
      "byteLimit": 2048000,
      "implicitDf": true,
      "rowLimit": 10000
     },
     "inputWidgets": {},
     "nuid": "2eec5fbc-1d03-4f4b-b6ba-c09947b146ac",
     "showTitle": false,
     "title": ""
    }
   },
   "outputs": [
    {
     "output_type": "display_data",
     "data": {
      "text/html": [
       "<style scoped>\n",
       "  .table-result-container {\n",
       "    max-height: 300px;\n",
       "    overflow: auto;\n",
       "  }\n",
       "  table, th, td {\n",
       "    border: 1px solid black;\n",
       "    border-collapse: collapse;\n",
       "  }\n",
       "  th, td {\n",
       "    padding: 5px;\n",
       "  }\n",
       "  th {\n",
       "    text-align: left;\n",
       "  }\n",
       "</style><div class='table-result-container'><table class='table-result'><thead style='background-color: white'><tr><th>MatchID</th><th>Fixture</th><th>GroupName</th><th>HomeTeam</th><th>AwayTeam</th><th>HomeTeamGoals</th><th>AwayTeamGoals</th><th>MatchResult</th><th>MatchStage</th></tr></thead><tbody><tr><td>49</td><td>Albania Vs. Italy</td><td>N</td><td>Albania</td><td>Italy</td><td>1</td><td>5</td><td>Italy</td><td>Semi-Final</td></tr><tr><td>50</td><td>Croatia Vs. Netherlands</td><td>N</td><td>Croatia</td><td>Netherlands</td><td>1</td><td>4</td><td>Netherlands</td><td>Semi-Final</td></tr></tbody></table></div>"
      ]
     },
     "metadata": {
      "application/vnd.databricks.v1+output": {
       "addedWidgets": {},
       "aggData": [],
       "aggError": "",
       "aggOverflow": false,
       "aggSchema": [],
       "aggSeriesLimitReached": false,
       "aggType": "",
       "arguments": {},
       "columnCustomDisplayInfos": {},
       "data": [
        [
         49,
         "Albania Vs. Italy",
         "N",
         "Albania",
         "Italy",
         1,
         5,
         "Italy",
         "Semi-Final"
        ],
        [
         50,
         "Croatia Vs. Netherlands",
         "N",
         "Croatia",
         "Netherlands",
         1,
         4,
         "Netherlands",
         "Semi-Final"
        ]
       ],
       "datasetInfos": [],
       "dbfsResultPath": null,
       "isJsonSchema": true,
       "metadata": {},
       "overflow": false,
       "plotOptions": {
        "customPlotOptions": {},
        "displayType": "table",
        "pivotAggregation": null,
        "pivotColumns": null,
        "xColumns": null,
        "yColumns": null
       },
       "removedWidgets": [],
       "schema": [
        {
         "metadata": "{}",
         "name": "MatchID",
         "type": "\"integer\""
        },
        {
         "metadata": "{\"__CHAR_VARCHAR_TYPE_STRING\":\"varchar(50)\"}",
         "name": "Fixture",
         "type": "\"string\""
        },
        {
         "metadata": "{\"__CHAR_VARCHAR_TYPE_STRING\":\"varchar(1)\"}",
         "name": "GroupName",
         "type": "\"string\""
        },
        {
         "metadata": "{\"__CHAR_VARCHAR_TYPE_STRING\":\"varchar(20)\"}",
         "name": "HomeTeam",
         "type": "\"string\""
        },
        {
         "metadata": "{\"__CHAR_VARCHAR_TYPE_STRING\":\"varchar(20)\"}",
         "name": "AwayTeam",
         "type": "\"string\""
        },
        {
         "metadata": "{}",
         "name": "HomeTeamGoals",
         "type": "\"integer\""
        },
        {
         "metadata": "{}",
         "name": "AwayTeamGoals",
         "type": "\"integer\""
        },
        {
         "metadata": "{\"__CHAR_VARCHAR_TYPE_STRING\":\"varchar(20)\"}",
         "name": "MatchResult",
         "type": "\"string\""
        },
        {
         "metadata": "{\"__CHAR_VARCHAR_TYPE_STRING\":\"varchar(20)\"}",
         "name": "MatchStage",
         "type": "\"string\""
        }
       ],
       "type": "table"
      }
     },
     "output_type": "display_data"
    }
   ],
   "source": [
    "%sql\n",
    "SELECT * FROM Matches where MatchStage = 'Semi-Final' order by MatchId;"
   ]
  },
  {
   "cell_type": "code",
   "execution_count": 0,
   "metadata": {
    "application/vnd.databricks.v1+cell": {
     "cellMetadata": {
      "byteLimit": 2048000,
      "implicitDf": true,
      "rowLimit": 10000
     },
     "inputWidgets": {},
     "nuid": "1ae08f08-e40f-40f2-a4ee-49e5aedd2685",
     "showTitle": false,
     "title": ""
    }
   },
   "outputs": [
    {
     "output_type": "display_data",
     "data": {
      "text/html": [
       "<style scoped>\n",
       "  .table-result-container {\n",
       "    max-height: 300px;\n",
       "    overflow: auto;\n",
       "  }\n",
       "  table, th, td {\n",
       "    border: 1px solid black;\n",
       "    border-collapse: collapse;\n",
       "  }\n",
       "  th, td {\n",
       "    padding: 5px;\n",
       "  }\n",
       "  th {\n",
       "    text-align: left;\n",
       "  }\n",
       "</style><div class='table-result-container'><table class='table-result'><thead style='background-color: white'><tr><th>MatchID</th><th>Fixture</th><th>GroupName</th><th>HomeTeam</th><th>AwayTeam</th><th>HomeTeamGoals</th><th>AwayTeamGoals</th><th>MatchResult</th><th>MatchStage</th></tr></thead><tbody><tr><td>51</td><td>Albania Vs. Croatia</td><td>N</td><td>Albania</td><td>Croatia</td><td>2</td><td>3</td><td>Croatia</td><td>Third-Place</td></tr></tbody></table></div>"
      ]
     },
     "metadata": {
      "application/vnd.databricks.v1+output": {
       "addedWidgets": {},
       "aggData": [],
       "aggError": "",
       "aggOverflow": false,
       "aggSchema": [],
       "aggSeriesLimitReached": false,
       "aggType": "",
       "arguments": {},
       "columnCustomDisplayInfos": {},
       "data": [
        [
         51,
         "Albania Vs. Croatia",
         "N",
         "Albania",
         "Croatia",
         2,
         3,
         "Croatia",
         "Third-Place"
        ]
       ],
       "datasetInfos": [],
       "dbfsResultPath": null,
       "isJsonSchema": true,
       "metadata": {},
       "overflow": false,
       "plotOptions": {
        "customPlotOptions": {},
        "displayType": "table",
        "pivotAggregation": null,
        "pivotColumns": null,
        "xColumns": null,
        "yColumns": null
       },
       "removedWidgets": [],
       "schema": [
        {
         "metadata": "{}",
         "name": "MatchID",
         "type": "\"integer\""
        },
        {
         "metadata": "{\"__CHAR_VARCHAR_TYPE_STRING\":\"varchar(50)\"}",
         "name": "Fixture",
         "type": "\"string\""
        },
        {
         "metadata": "{\"__CHAR_VARCHAR_TYPE_STRING\":\"varchar(1)\"}",
         "name": "GroupName",
         "type": "\"string\""
        },
        {
         "metadata": "{\"__CHAR_VARCHAR_TYPE_STRING\":\"varchar(20)\"}",
         "name": "HomeTeam",
         "type": "\"string\""
        },
        {
         "metadata": "{\"__CHAR_VARCHAR_TYPE_STRING\":\"varchar(20)\"}",
         "name": "AwayTeam",
         "type": "\"string\""
        },
        {
         "metadata": "{}",
         "name": "HomeTeamGoals",
         "type": "\"integer\""
        },
        {
         "metadata": "{}",
         "name": "AwayTeamGoals",
         "type": "\"integer\""
        },
        {
         "metadata": "{\"__CHAR_VARCHAR_TYPE_STRING\":\"varchar(20)\"}",
         "name": "MatchResult",
         "type": "\"string\""
        },
        {
         "metadata": "{\"__CHAR_VARCHAR_TYPE_STRING\":\"varchar(20)\"}",
         "name": "MatchStage",
         "type": "\"string\""
        }
       ],
       "type": "table"
      }
     },
     "output_type": "display_data"
    }
   ],
   "source": [
    "%sql\n",
    "SELECT * FROM Matches where MatchStage = 'Third-Place' order by MatchId;"
   ]
  },
  {
   "cell_type": "code",
   "execution_count": 0,
   "metadata": {
    "application/vnd.databricks.v1+cell": {
     "cellMetadata": {
      "byteLimit": 2048000,
      "implicitDf": true,
      "rowLimit": 10000
     },
     "inputWidgets": {},
     "nuid": "1fd5db1f-d759-4b36-b936-a7c4c66cb991",
     "showTitle": false,
     "title": ""
    }
   },
   "outputs": [
    {
     "output_type": "display_data",
     "data": {
      "text/html": [
       "<style scoped>\n",
       "  .table-result-container {\n",
       "    max-height: 300px;\n",
       "    overflow: auto;\n",
       "  }\n",
       "  table, th, td {\n",
       "    border: 1px solid black;\n",
       "    border-collapse: collapse;\n",
       "  }\n",
       "  th, td {\n",
       "    padding: 5px;\n",
       "  }\n",
       "  th {\n",
       "    text-align: left;\n",
       "  }\n",
       "</style><div class='table-result-container'><table class='table-result'><thead style='background-color: white'><tr><th>MatchID</th><th>Fixture</th><th>GroupName</th><th>HomeTeam</th><th>AwayTeam</th><th>HomeTeamGoals</th><th>AwayTeamGoals</th><th>MatchResult</th><th>MatchStage</th></tr></thead><tbody><tr><td>53</td><td>Italy Vs. Netherlands</td><td>N</td><td>Italy</td><td>Netherlands</td><td>4</td><td>1</td><td>Italy</td><td>Final</td></tr></tbody></table></div>"
      ]
     },
     "metadata": {
      "application/vnd.databricks.v1+output": {
       "addedWidgets": {},
       "aggData": [],
       "aggError": "",
       "aggOverflow": false,
       "aggSchema": [],
       "aggSeriesLimitReached": false,
       "aggType": "",
       "arguments": {},
       "columnCustomDisplayInfos": {},
       "data": [
        [
         53,
         "Italy Vs. Netherlands",
         "N",
         "Italy",
         "Netherlands",
         4,
         1,
         "Italy",
         "Final"
        ]
       ],
       "datasetInfos": [],
       "dbfsResultPath": null,
       "isJsonSchema": true,
       "metadata": {},
       "overflow": false,
       "plotOptions": {
        "customPlotOptions": {},
        "displayType": "table",
        "pivotAggregation": null,
        "pivotColumns": null,
        "xColumns": null,
        "yColumns": null
       },
       "removedWidgets": [],
       "schema": [
        {
         "metadata": "{}",
         "name": "MatchID",
         "type": "\"integer\""
        },
        {
         "metadata": "{\"__CHAR_VARCHAR_TYPE_STRING\":\"varchar(50)\"}",
         "name": "Fixture",
         "type": "\"string\""
        },
        {
         "metadata": "{\"__CHAR_VARCHAR_TYPE_STRING\":\"varchar(1)\"}",
         "name": "GroupName",
         "type": "\"string\""
        },
        {
         "metadata": "{\"__CHAR_VARCHAR_TYPE_STRING\":\"varchar(20)\"}",
         "name": "HomeTeam",
         "type": "\"string\""
        },
        {
         "metadata": "{\"__CHAR_VARCHAR_TYPE_STRING\":\"varchar(20)\"}",
         "name": "AwayTeam",
         "type": "\"string\""
        },
        {
         "metadata": "{}",
         "name": "HomeTeamGoals",
         "type": "\"integer\""
        },
        {
         "metadata": "{}",
         "name": "AwayTeamGoals",
         "type": "\"integer\""
        },
        {
         "metadata": "{\"__CHAR_VARCHAR_TYPE_STRING\":\"varchar(20)\"}",
         "name": "MatchResult",
         "type": "\"string\""
        },
        {
         "metadata": "{\"__CHAR_VARCHAR_TYPE_STRING\":\"varchar(20)\"}",
         "name": "MatchStage",
         "type": "\"string\""
        }
       ],
       "type": "table"
      }
     },
     "output_type": "display_data"
    }
   ],
   "source": [
    "%sql\n",
    "SELECT * FROM Matches where MatchStage = 'Final' order by MatchId;"
   ]
  },
  {
   "cell_type": "markdown",
   "metadata": {
    "application/vnd.databricks.v1+cell": {
     "cellMetadata": {
      "byteLimit": 2048000,
      "rowLimit": 10000
     },
     "inputWidgets": {},
     "nuid": "99a49367-d758-4bd3-acfc-c5faee1b2685",
     "showTitle": false,
     "title": ""
    }
   },
   "source": [
    "# Euro Cup 2024 Visualization"
   ]
  },
  {
   "cell_type": "code",
   "execution_count": 0,
   "metadata": {
    "application/vnd.databricks.v1+cell": {
     "cellMetadata": {
      "byteLimit": 2048000,
      "rowLimit": 10000
     },
     "inputWidgets": {},
     "nuid": "9050101e-0b23-4db5-a788-93ce062ef4ca",
     "showTitle": false,
     "title": ""
    }
   },
   "outputs": [
    {
     "output_type": "display_data",
     "data": {
      "application/vnd.databricks.v1+bamboolib_hint": "{\"pd.DataFrames\": [], \"version\": \"0.0.1\"}",
      "text/plain": []
     },
     "metadata": {},
     "output_type": "display_data"
    }
   ],
   "source": [
    "#import libraries\n",
    "import pandas as pd\n",
    "from pyspark.sql import SparkSession\n"
   ]
  },
  {
   "cell_type": "code",
   "execution_count": 0,
   "metadata": {
    "application/vnd.databricks.v1+cell": {
     "cellMetadata": {
      "byteLimit": 2048000,
      "rowLimit": 10000
     },
     "inputWidgets": {},
     "nuid": "83416a53-999c-4192-a304-d36419e50147",
     "showTitle": false,
     "title": ""
    }
   },
   "outputs": [],
   "source": [
    "#Spark Session\n",
    "spark = SparkSession.builder \\\n",
    "    .appName(\"euro_cup_visulization\") \\\n",
    "    .getOrCreate()"
   ]
  },
  {
   "cell_type": "markdown",
   "metadata": {
    "application/vnd.databricks.v1+cell": {
     "cellMetadata": {},
     "inputWidgets": {},
     "nuid": "20f3abed-ab0e-4698-bc8b-0ee4b2330f37",
     "showTitle": false,
     "title": ""
    }
   },
   "source": [
    "## Group Stage Table Visualization"
   ]
  },
  {
   "cell_type": "code",
   "execution_count": 0,
   "metadata": {
    "application/vnd.databricks.v1+cell": {
     "cellMetadata": {
      "byteLimit": 2048000,
      "rowLimit": 10000
     },
     "inputWidgets": {},
     "nuid": "b483f173-a169-4c18-a1f2-f4632d3af8f5",
     "showTitle": true,
     "title": "Loading the data from tables using spark"
    }
   },
   "outputs": [],
   "source": [
    "#Query from spark sql for different stages\n",
    "all_teams_stats = spark.sql(\"SELECT * from MatchStats\")\n",
    "round_of_16 = spark.sql(\"SELECT HomeTeam,AwayTeam,HomeTeamGoals,AwayTeamGoals FROM Matches WHERE MatchStage = 'R16' ORDER BY MatchId\")\n",
    "quater_final = spark.sql(\"SELECT HomeTeam,AwayTeam,HomeTeamGoals,AwayTeamGoals FROM Matches WHERE MatchStage = 'Quarter-Final' ORDER BY MatchId\")\n",
    "semi_final = spark.sql(\"SELECT HomeTeam,AwayTeam,HomeTeamGoals,AwayTeamGoals  FROM Matches WHERE MatchStage = 'Semi-Final' ORDER BY MatchId\")\n",
    "final = spark.sql(\"SELECT HomeTeam,AwayTeam,HomeTeamGoals,AwayTeamGoals  FROM Matches WHERE MatchStage = 'Final' ORDER BY MatchId\")\n",
    "third_place = spark.sql(\"SELECT MatchId  FROM Matches WHERE MatchStage = 'Third-Place' ORDER BY MatchId\")\n"
   ]
  },
  {
   "cell_type": "code",
   "execution_count": 0,
   "metadata": {
    "application/vnd.databricks.v1+cell": {
     "cellMetadata": {
      "byteLimit": 2048000,
      "rowLimit": 10000
     },
     "inputWidgets": {},
     "nuid": "66a7ae8b-6d65-471a-bb85-32e873d205db",
     "showTitle": true,
     "title": "Converting spark data-frame into pandas data-frame"
    }
   },
   "outputs": [],
   "source": [
    "#Convert Spark DataFrame to Pandas Dataframe\n",
    "all_teams_stats_df = all_teams_stats.toPandas()\n",
    "round_of_16_df = round_of_16.toPandas()\n",
    "quater_final_df = quater_final.toPandas()\n",
    "semi_final_df = semi_final.toPandas()\n",
    "final_df = final.toPandas()\n",
    "third_place_df = third_place.toPandas()"
   ]
  },
  {
   "cell_type": "code",
   "execution_count": 0,
   "metadata": {
    "application/vnd.databricks.v1+cell": {
     "cellMetadata": {
      "byteLimit": 2048000,
      "rowLimit": 10000
     },
     "inputWidgets": {},
     "nuid": "a5166354-a5f3-48c1-9bad-f3885bffd7d6",
     "showTitle": false,
     "title": ""
    }
   },
   "outputs": [
    {
     "output_type": "display_data",
     "data": {
      "text/html": [
       "<style scoped>\n",
       "  .table-result-container {\n",
       "    max-height: 300px;\n",
       "    overflow: auto;\n",
       "  }\n",
       "  table, th, td {\n",
       "    border: 1px solid black;\n",
       "    border-collapse: collapse;\n",
       "  }\n",
       "  th, td {\n",
       "    padding: 5px;\n",
       "  }\n",
       "  th {\n",
       "    text-align: left;\n",
       "  }\n",
       "</style><div class='table-result-container'><table class='table-result'><thead style='background-color: white'><tr><th>Teams</th><th>Group</th><th>Pld</th><th>W</th><th>D</th><th>L</th><th>GF</th><th>GA</th><th>GD</th><th>Pts</th></tr></thead><tbody><tr><td>Germany</td><td>A</td><td>3</td><td>2</td><td>0</td><td>1</td><td>7</td><td>7</td><td>0</td><td>6</td></tr><tr><td>Scotland</td><td>A</td><td>3</td><td>2</td><td>0</td><td>1</td><td>10</td><td>8</td><td>2</td><td>6</td></tr><tr><td>Hungary</td><td>A</td><td>3</td><td>1</td><td>0</td><td>2</td><td>6</td><td>7</td><td>-1</td><td>3</td></tr><tr><td>Switzerland</td><td>A</td><td>3</td><td>1</td><td>0</td><td>2</td><td>10</td><td>11</td><td>-1</td><td>3</td></tr><tr><td></td><td></td><td></td><td></td><td></td><td></td><td></td><td></td><td></td><td></td></tr><tr><td>Italy</td><td>B</td><td>3</td><td>2</td><td>0</td><td>1</td><td>9</td><td>11</td><td>-2</td><td>6</td></tr><tr><td>Croatia</td><td>B</td><td>3</td><td>2</td><td>0</td><td>1</td><td>7</td><td>5</td><td>2</td><td>6</td></tr><tr><td>Spain</td><td>B</td><td>3</td><td>0</td><td>0</td><td>3</td><td>3</td><td>7</td><td>-4</td><td>0</td></tr><tr><td>Albania</td><td>B</td><td>3</td><td>2</td><td>0</td><td>1</td><td>11</td><td>7</td><td>4</td><td>6</td></tr><tr><td></td><td></td><td></td><td></td><td></td><td></td><td></td><td></td><td></td><td></td></tr><tr><td>Serbia</td><td>C</td><td>3</td><td>1</td><td>0</td><td>2</td><td>5</td><td>10</td><td>-5</td><td>3</td></tr><tr><td>Denmark</td><td>C</td><td>3</td><td>2</td><td>0</td><td>1</td><td>10</td><td>4</td><td>6</td><td>6</td></tr><tr><td>Slovenia</td><td>C</td><td>3</td><td>2</td><td>1</td><td>0</td><td>12</td><td>8</td><td>4</td><td>7</td></tr><tr><td>England</td><td>C</td><td>3</td><td>0</td><td>1</td><td>2</td><td>9</td><td>14</td><td>-5</td><td>1</td></tr><tr><td></td><td></td><td></td><td></td><td></td><td></td><td></td><td></td><td></td><td></td></tr><tr><td>France</td><td>D</td><td>3</td><td>0</td><td>1</td><td>2</td><td>7</td><td>9</td><td>-2</td><td>1</td></tr><tr><td>Austria</td><td>D</td><td>3</td><td>3</td><td>0</td><td>0</td><td>7</td><td>4</td><td>3</td><td>9</td></tr><tr><td>Netherlands</td><td>D</td><td>3</td><td>1</td><td>1</td><td>1</td><td>11</td><td>9</td><td>2</td><td>4</td></tr><tr><td>Play-off Winner A</td><td>D</td><td>3</td><td>1</td><td>0</td><td>2</td><td>4</td><td>7</td><td>-3</td><td>3</td></tr><tr><td></td><td></td><td></td><td></td><td></td><td></td><td></td><td></td><td></td><td></td></tr><tr><td>Slovakia</td><td>E</td><td>3</td><td>0</td><td>0</td><td>3</td><td>4</td><td>9</td><td>-5</td><td>0</td></tr><tr><td>Belgium</td><td>E</td><td>3</td><td>2</td><td>1</td><td>0</td><td>5</td><td>2</td><td>3</td><td>7</td></tr><tr><td>Romania</td><td>E</td><td>3</td><td>2</td><td>1</td><td>0</td><td>8</td><td>6</td><td>2</td><td>7</td></tr><tr><td>Play-off Winner B</td><td>E</td><td>3</td><td>1</td><td>0</td><td>2</td><td>8</td><td>8</td><td>0</td><td>3</td></tr><tr><td></td><td></td><td></td><td></td><td></td><td></td><td></td><td></td><td></td><td></td></tr><tr><td>Play-off Winner C</td><td>F</td><td>3</td><td>2</td><td>0</td><td>1</td><td>9</td><td>9</td><td>0</td><td>6</td></tr><tr><td>Portugal</td><td>F</td><td>3</td><td>0</td><td>0</td><td>3</td><td>1</td><td>8</td><td>-7</td><td>0</td></tr><tr><td>Turkey</td><td>F</td><td>3</td><td>1</td><td>0</td><td>2</td><td>10</td><td>9</td><td>1</td><td>3</td></tr><tr><td>Czech Republic</td><td>F</td><td>3</td><td>3</td><td>0</td><td>0</td><td>12</td><td>6</td><td>6</td><td>9</td></tr></tbody></table></div>"
      ]
     },
     "metadata": {
      "application/vnd.databricks.v1+output": {
       "addedWidgets": {},
       "aggData": [],
       "aggError": "",
       "aggOverflow": false,
       "aggSchema": [],
       "aggSeriesLimitReached": false,
       "aggType": "",
       "arguments": {},
       "columnCustomDisplayInfos": {},
       "data": [
        [
         "Germany",
         "A",
         "3",
         "2",
         "0",
         "1",
         "7",
         "7",
         "0",
         "6"
        ],
        [
         "Scotland",
         "A",
         "3",
         "2",
         "0",
         "1",
         "10",
         "8",
         "2",
         "6"
        ],
        [
         "Hungary",
         "A",
         "3",
         "1",
         "0",
         "2",
         "6",
         "7",
         "-1",
         "3"
        ],
        [
         "Switzerland",
         "A",
         "3",
         "1",
         "0",
         "2",
         "10",
         "11",
         "-1",
         "3"
        ],
        [
         "",
         "",
         "",
         "",
         "",
         "",
         "",
         "",
         "",
         ""
        ],
        [
         "Italy",
         "B",
         "3",
         "2",
         "0",
         "1",
         "9",
         "11",
         "-2",
         "6"
        ],
        [
         "Croatia",
         "B",
         "3",
         "2",
         "0",
         "1",
         "7",
         "5",
         "2",
         "6"
        ],
        [
         "Spain",
         "B",
         "3",
         "0",
         "0",
         "3",
         "3",
         "7",
         "-4",
         "0"
        ],
        [
         "Albania",
         "B",
         "3",
         "2",
         "0",
         "1",
         "11",
         "7",
         "4",
         "6"
        ],
        [
         "",
         "",
         "",
         "",
         "",
         "",
         "",
         "",
         "",
         ""
        ],
        [
         "Serbia",
         "C",
         "3",
         "1",
         "0",
         "2",
         "5",
         "10",
         "-5",
         "3"
        ],
        [
         "Denmark",
         "C",
         "3",
         "2",
         "0",
         "1",
         "10",
         "4",
         "6",
         "6"
        ],
        [
         "Slovenia",
         "C",
         "3",
         "2",
         "1",
         "0",
         "12",
         "8",
         "4",
         "7"
        ],
        [
         "England",
         "C",
         "3",
         "0",
         "1",
         "2",
         "9",
         "14",
         "-5",
         "1"
        ],
        [
         "",
         "",
         "",
         "",
         "",
         "",
         "",
         "",
         "",
         ""
        ],
        [
         "France",
         "D",
         "3",
         "0",
         "1",
         "2",
         "7",
         "9",
         "-2",
         "1"
        ],
        [
         "Austria",
         "D",
         "3",
         "3",
         "0",
         "0",
         "7",
         "4",
         "3",
         "9"
        ],
        [
         "Netherlands",
         "D",
         "3",
         "1",
         "1",
         "1",
         "11",
         "9",
         "2",
         "4"
        ],
        [
         "Play-off Winner A",
         "D",
         "3",
         "1",
         "0",
         "2",
         "4",
         "7",
         "-3",
         "3"
        ],
        [
         "",
         "",
         "",
         "",
         "",
         "",
         "",
         "",
         "",
         ""
        ],
        [
         "Slovakia",
         "E",
         "3",
         "0",
         "0",
         "3",
         "4",
         "9",
         "-5",
         "0"
        ],
        [
         "Belgium",
         "E",
         "3",
         "2",
         "1",
         "0",
         "5",
         "2",
         "3",
         "7"
        ],
        [
         "Romania",
         "E",
         "3",
         "2",
         "1",
         "0",
         "8",
         "6",
         "2",
         "7"
        ],
        [
         "Play-off Winner B",
         "E",
         "3",
         "1",
         "0",
         "2",
         "8",
         "8",
         "0",
         "3"
        ],
        [
         "",
         "",
         "",
         "",
         "",
         "",
         "",
         "",
         "",
         ""
        ],
        [
         "Play-off Winner C",
         "F",
         "3",
         "2",
         "0",
         "1",
         "9",
         "9",
         "0",
         "6"
        ],
        [
         "Portugal",
         "F",
         "3",
         "0",
         "0",
         "3",
         "1",
         "8",
         "-7",
         "0"
        ],
        [
         "Turkey",
         "F",
         "3",
         "1",
         "0",
         "2",
         "10",
         "9",
         "1",
         "3"
        ],
        [
         "Czech Republic",
         "F",
         "3",
         "3",
         "0",
         "0",
         "12",
         "6",
         "6",
         "9"
        ]
       ],
       "datasetInfos": [],
       "dbfsResultPath": null,
       "isJsonSchema": true,
       "metadata": {},
       "overflow": false,
       "plotOptions": {
        "customPlotOptions": {},
        "displayType": "table",
        "pivotAggregation": null,
        "pivotColumns": null,
        "xColumns": null,
        "yColumns": null
       },
       "removedWidgets": [],
       "schema": [
        {
         "metadata": "{}",
         "name": "Teams",
         "type": "\"string\""
        },
        {
         "metadata": "{}",
         "name": "Group",
         "type": "\"string\""
        },
        {
         "metadata": "{}",
         "name": "Pld",
         "type": "\"string\""
        },
        {
         "metadata": "{}",
         "name": "W",
         "type": "\"string\""
        },
        {
         "metadata": "{}",
         "name": "D",
         "type": "\"string\""
        },
        {
         "metadata": "{}",
         "name": "L",
         "type": "\"string\""
        },
        {
         "metadata": "{}",
         "name": "GF",
         "type": "\"string\""
        },
        {
         "metadata": "{}",
         "name": "GA",
         "type": "\"string\""
        },
        {
         "metadata": "{}",
         "name": "GD",
         "type": "\"string\""
        },
        {
         "metadata": "{}",
         "name": "Pts",
         "type": "\"string\""
        }
       ],
       "type": "table"
      }
     },
     "output_type": "display_data"
    },
    {
     "output_type": "stream",
     "name": "stdout",
     "output_type": "stream",
     "text": [
      "14\n"
     ]
    }
   ],
   "source": [
    "# Create table visualization DataFrame\n",
    "table_visualization = pd.DataFrame({\n",
    "    'Teams': all_teams_stats_df['TeamID'],\n",
    "    'Group': all_teams_stats_df['GroupName'],\n",
    "    'Pld': all_teams_stats_df['MatchesPlayed'],\n",
    "    'W': all_teams_stats_df['Wins'],\n",
    "    'D': all_teams_stats_df['Draws'],\n",
    "    'L': all_teams_stats_df['Losses'],\n",
    "    'GF': all_teams_stats_df['GoalsScored'],\n",
    "    'GA': all_teams_stats_df['GoalsAllowed'],\n",
    "    'GD': all_teams_stats_df['GoalDifference'],\n",
    "    'Pts': all_teams_stats_df['Points']\n",
    "})\n",
    "\n",
    "# Create blank row as a dictionary to add one blank row for each group\n",
    "blank_row = {\n",
    "    'Teams': '', \n",
    "    'Group': '', \n",
    "    'Pld': '', \n",
    "    'W': '',\n",
    "    'D': '',\n",
    "    'L': '',\n",
    "    'GF': '',\n",
    "    'GA': '',\n",
    "    'GD': '',\n",
    "    'Pts': ''\n",
    "}\n",
    "\n",
    "groups = []\n",
    "for i in range(0, len(table_visualization), 4):\n",
    "    group = table_visualization.iloc[i:i+4]  \n",
    "    groups.append(group) \n",
    "    if i < len(table_visualization) - 4:\n",
    "        groups.append(pd.DataFrame([blank_row])) \n",
    "\n",
    "visualization_with_space = pd.concat(groups).reset_index(drop=True)\n",
    "half_table_index = len(visualization_with_space) // 2\n",
    "spark.conf.set(\"spark.sql.execution.arrow.pyspark.enabled\", \"false\")\n",
    "display(visualization_with_space)\n",
    "print(half_table_index)\n",
    "\n"
   ]
  },
  {
   "cell_type": "code",
   "execution_count": 0,
   "metadata": {
    "application/vnd.databricks.v1+cell": {
     "cellMetadata": {
      "byteLimit": 2048000,
      "rowLimit": 10000
     },
     "inputWidgets": {},
     "nuid": "b44a00b1-b22b-4131-82fc-24fc52a6471e",
     "showTitle": false,
     "title": ""
    }
   },
   "outputs": [
    {
     "output_type": "display_data",
     "data": {
      "text/html": [
       "<style scoped>\n",
       "  .table-result-container {\n",
       "    max-height: 300px;\n",
       "    overflow: auto;\n",
       "  }\n",
       "  table, th, td {\n",
       "    border: 1px solid black;\n",
       "    border-collapse: collapse;\n",
       "  }\n",
       "  th, td {\n",
       "    padding: 5px;\n",
       "  }\n",
       "  th {\n",
       "    text-align: left;\n",
       "  }\n",
       "</style><div class='table-result-container'><table class='table-result'><thead style='background-color: white'><tr><th>Teams</th><th>Group</th><th>Pld</th><th>W</th><th>D</th><th>L</th><th>GF</th><th>GA</th><th>GD</th><th>Pts</th></tr></thead><tbody><tr><td></td><td></td><td></td><td></td><td></td><td></td><td></td><td></td><td></td><td></td></tr><tr><td>Germany</td><td>A</td><td>3</td><td>2</td><td>0</td><td>1</td><td>7</td><td>7</td><td>0</td><td>6</td></tr><tr><td>Scotland</td><td>A</td><td>3</td><td>2</td><td>0</td><td>1</td><td>10</td><td>8</td><td>2</td><td>6</td></tr><tr><td>Hungary</td><td>A</td><td>3</td><td>1</td><td>0</td><td>2</td><td>6</td><td>7</td><td>-1</td><td>3</td></tr><tr><td>Switzerland</td><td>A</td><td>3</td><td>1</td><td>0</td><td>2</td><td>10</td><td>11</td><td>-1</td><td>3</td></tr><tr><td></td><td></td><td></td><td></td><td></td><td></td><td></td><td></td><td></td><td></td></tr><tr><td>Italy</td><td>B</td><td>3</td><td>2</td><td>0</td><td>1</td><td>9</td><td>11</td><td>-2</td><td>6</td></tr><tr><td>Croatia</td><td>B</td><td>3</td><td>2</td><td>0</td><td>1</td><td>7</td><td>5</td><td>2</td><td>6</td></tr><tr><td>Spain</td><td>B</td><td>3</td><td>0</td><td>0</td><td>3</td><td>3</td><td>7</td><td>-4</td><td>0</td></tr><tr><td>Albania</td><td>B</td><td>3</td><td>2</td><td>0</td><td>1</td><td>11</td><td>7</td><td>4</td><td>6</td></tr><tr><td></td><td></td><td></td><td></td><td></td><td></td><td></td><td></td><td></td><td></td></tr><tr><td>Serbia</td><td>C</td><td>3</td><td>1</td><td>0</td><td>2</td><td>5</td><td>10</td><td>-5</td><td>3</td></tr><tr><td>Denmark</td><td>C</td><td>3</td><td>2</td><td>0</td><td>1</td><td>10</td><td>4</td><td>6</td><td>6</td></tr><tr><td>Slovenia</td><td>C</td><td>3</td><td>2</td><td>1</td><td>0</td><td>12</td><td>8</td><td>4</td><td>7</td></tr><tr><td>England</td><td>C</td><td>3</td><td>0</td><td>1</td><td>2</td><td>9</td><td>14</td><td>-5</td><td>1</td></tr></tbody></table></div>"
      ]
     },
     "metadata": {
      "application/vnd.databricks.v1+output": {
       "addedWidgets": {},
       "aggData": [],
       "aggError": "",
       "aggOverflow": false,
       "aggSchema": [],
       "aggSeriesLimitReached": false,
       "aggType": "",
       "arguments": {},
       "columnCustomDisplayInfos": {},
       "data": [
        [
         "",
         "",
         "",
         "",
         "",
         "",
         "",
         "",
         "",
         ""
        ],
        [
         "Germany",
         "A",
         "3",
         "2",
         "0",
         "1",
         "7",
         "7",
         "0",
         "6"
        ],
        [
         "Scotland",
         "A",
         "3",
         "2",
         "0",
         "1",
         "10",
         "8",
         "2",
         "6"
        ],
        [
         "Hungary",
         "A",
         "3",
         "1",
         "0",
         "2",
         "6",
         "7",
         "-1",
         "3"
        ],
        [
         "Switzerland",
         "A",
         "3",
         "1",
         "0",
         "2",
         "10",
         "11",
         "-1",
         "3"
        ],
        [
         "",
         "",
         "",
         "",
         "",
         "",
         "",
         "",
         "",
         ""
        ],
        [
         "Italy",
         "B",
         "3",
         "2",
         "0",
         "1",
         "9",
         "11",
         "-2",
         "6"
        ],
        [
         "Croatia",
         "B",
         "3",
         "2",
         "0",
         "1",
         "7",
         "5",
         "2",
         "6"
        ],
        [
         "Spain",
         "B",
         "3",
         "0",
         "0",
         "3",
         "3",
         "7",
         "-4",
         "0"
        ],
        [
         "Albania",
         "B",
         "3",
         "2",
         "0",
         "1",
         "11",
         "7",
         "4",
         "6"
        ],
        [
         "",
         "",
         "",
         "",
         "",
         "",
         "",
         "",
         "",
         ""
        ],
        [
         "Serbia",
         "C",
         "3",
         "1",
         "0",
         "2",
         "5",
         "10",
         "-5",
         "3"
        ],
        [
         "Denmark",
         "C",
         "3",
         "2",
         "0",
         "1",
         "10",
         "4",
         "6",
         "6"
        ],
        [
         "Slovenia",
         "C",
         "3",
         "2",
         "1",
         "0",
         "12",
         "8",
         "4",
         "7"
        ],
        [
         "England",
         "C",
         "3",
         "0",
         "1",
         "2",
         "9",
         "14",
         "-5",
         "1"
        ]
       ],
       "datasetInfos": [],
       "dbfsResultPath": null,
       "isJsonSchema": true,
       "metadata": {},
       "overflow": false,
       "plotOptions": {
        "customPlotOptions": {},
        "displayType": "table",
        "pivotAggregation": null,
        "pivotColumns": null,
        "xColumns": null,
        "yColumns": null
       },
       "removedWidgets": [],
       "schema": [
        {
         "metadata": "{}",
         "name": "Teams",
         "type": "\"string\""
        },
        {
         "metadata": "{}",
         "name": "Group",
         "type": "\"string\""
        },
        {
         "metadata": "{}",
         "name": "Pld",
         "type": "\"string\""
        },
        {
         "metadata": "{}",
         "name": "W",
         "type": "\"string\""
        },
        {
         "metadata": "{}",
         "name": "D",
         "type": "\"string\""
        },
        {
         "metadata": "{}",
         "name": "L",
         "type": "\"string\""
        },
        {
         "metadata": "{}",
         "name": "GF",
         "type": "\"string\""
        },
        {
         "metadata": "{}",
         "name": "GA",
         "type": "\"string\""
        },
        {
         "metadata": "{}",
         "name": "GD",
         "type": "\"string\""
        },
        {
         "metadata": "{}",
         "name": "Pts",
         "type": "\"string\""
        }
       ],
       "type": "table"
      }
     },
     "output_type": "display_data"
    },
    {
     "output_type": "display_data",
     "data": {
      "text/html": [
       "<style scoped>\n",
       "  .table-result-container {\n",
       "    max-height: 300px;\n",
       "    overflow: auto;\n",
       "  }\n",
       "  table, th, td {\n",
       "    border: 1px solid black;\n",
       "    border-collapse: collapse;\n",
       "  }\n",
       "  th, td {\n",
       "    padding: 5px;\n",
       "  }\n",
       "  th {\n",
       "    text-align: left;\n",
       "  }\n",
       "</style><div class='table-result-container'><table class='table-result'><thead style='background-color: white'><tr><th>Teams</th><th>Group</th><th>Pld</th><th>W</th><th>D</th><th>L</th><th>GF</th><th>GA</th><th>GD</th><th>Pts</th></tr></thead><tbody><tr><td></td><td></td><td></td><td></td><td></td><td></td><td></td><td></td><td></td><td></td></tr><tr><td>France</td><td>D</td><td>3</td><td>0</td><td>1</td><td>2</td><td>7</td><td>9</td><td>-2</td><td>1</td></tr><tr><td>Austria</td><td>D</td><td>3</td><td>3</td><td>0</td><td>0</td><td>7</td><td>4</td><td>3</td><td>9</td></tr><tr><td>Netherlands</td><td>D</td><td>3</td><td>1</td><td>1</td><td>1</td><td>11</td><td>9</td><td>2</td><td>4</td></tr><tr><td>Play-off Winner A</td><td>D</td><td>3</td><td>1</td><td>0</td><td>2</td><td>4</td><td>7</td><td>-3</td><td>3</td></tr><tr><td></td><td></td><td></td><td></td><td></td><td></td><td></td><td></td><td></td><td></td></tr><tr><td>Slovakia</td><td>E</td><td>3</td><td>0</td><td>0</td><td>3</td><td>4</td><td>9</td><td>-5</td><td>0</td></tr><tr><td>Belgium</td><td>E</td><td>3</td><td>2</td><td>1</td><td>0</td><td>5</td><td>2</td><td>3</td><td>7</td></tr><tr><td>Romania</td><td>E</td><td>3</td><td>2</td><td>1</td><td>0</td><td>8</td><td>6</td><td>2</td><td>7</td></tr><tr><td>Play-off Winner B</td><td>E</td><td>3</td><td>1</td><td>0</td><td>2</td><td>8</td><td>8</td><td>0</td><td>3</td></tr><tr><td></td><td></td><td></td><td></td><td></td><td></td><td></td><td></td><td></td><td></td></tr><tr><td>Play-off Winner C</td><td>F</td><td>3</td><td>2</td><td>0</td><td>1</td><td>9</td><td>9</td><td>0</td><td>6</td></tr><tr><td>Portugal</td><td>F</td><td>3</td><td>0</td><td>0</td><td>3</td><td>1</td><td>8</td><td>-7</td><td>0</td></tr><tr><td>Turkey</td><td>F</td><td>3</td><td>1</td><td>0</td><td>2</td><td>10</td><td>9</td><td>1</td><td>3</td></tr><tr><td>Czech Republic</td><td>F</td><td>3</td><td>3</td><td>0</td><td>0</td><td>12</td><td>6</td><td>6</td><td>9</td></tr></tbody></table></div>"
      ]
     },
     "metadata": {
      "application/vnd.databricks.v1+output": {
       "addedWidgets": {},
       "aggData": [],
       "aggError": "",
       "aggOverflow": false,
       "aggSchema": [],
       "aggSeriesLimitReached": false,
       "aggType": "",
       "arguments": {},
       "columnCustomDisplayInfos": {},
       "data": [
        [
         "",
         "",
         "",
         "",
         "",
         "",
         "",
         "",
         "",
         ""
        ],
        [
         "France",
         "D",
         "3",
         "0",
         "1",
         "2",
         "7",
         "9",
         "-2",
         "1"
        ],
        [
         "Austria",
         "D",
         "3",
         "3",
         "0",
         "0",
         "7",
         "4",
         "3",
         "9"
        ],
        [
         "Netherlands",
         "D",
         "3",
         "1",
         "1",
         "1",
         "11",
         "9",
         "2",
         "4"
        ],
        [
         "Play-off Winner A",
         "D",
         "3",
         "1",
         "0",
         "2",
         "4",
         "7",
         "-3",
         "3"
        ],
        [
         "",
         "",
         "",
         "",
         "",
         "",
         "",
         "",
         "",
         ""
        ],
        [
         "Slovakia",
         "E",
         "3",
         "0",
         "0",
         "3",
         "4",
         "9",
         "-5",
         "0"
        ],
        [
         "Belgium",
         "E",
         "3",
         "2",
         "1",
         "0",
         "5",
         "2",
         "3",
         "7"
        ],
        [
         "Romania",
         "E",
         "3",
         "2",
         "1",
         "0",
         "8",
         "6",
         "2",
         "7"
        ],
        [
         "Play-off Winner B",
         "E",
         "3",
         "1",
         "0",
         "2",
         "8",
         "8",
         "0",
         "3"
        ],
        [
         "",
         "",
         "",
         "",
         "",
         "",
         "",
         "",
         "",
         ""
        ],
        [
         "Play-off Winner C",
         "F",
         "3",
         "2",
         "0",
         "1",
         "9",
         "9",
         "0",
         "6"
        ],
        [
         "Portugal",
         "F",
         "3",
         "0",
         "0",
         "3",
         "1",
         "8",
         "-7",
         "0"
        ],
        [
         "Turkey",
         "F",
         "3",
         "1",
         "0",
         "2",
         "10",
         "9",
         "1",
         "3"
        ],
        [
         "Czech Republic",
         "F",
         "3",
         "3",
         "0",
         "0",
         "12",
         "6",
         "6",
         "9"
        ]
       ],
       "datasetInfos": [],
       "dbfsResultPath": null,
       "isJsonSchema": true,
       "metadata": {},
       "overflow": false,
       "plotOptions": {
        "customPlotOptions": {},
        "displayType": "table",
        "pivotAggregation": null,
        "pivotColumns": null,
        "xColumns": null,
        "yColumns": null
       },
       "removedWidgets": [],
       "schema": [
        {
         "metadata": "{}",
         "name": "Teams",
         "type": "\"string\""
        },
        {
         "metadata": "{}",
         "name": "Group",
         "type": "\"string\""
        },
        {
         "metadata": "{}",
         "name": "Pld",
         "type": "\"string\""
        },
        {
         "metadata": "{}",
         "name": "W",
         "type": "\"string\""
        },
        {
         "metadata": "{}",
         "name": "D",
         "type": "\"string\""
        },
        {
         "metadata": "{}",
         "name": "L",
         "type": "\"string\""
        },
        {
         "metadata": "{}",
         "name": "GF",
         "type": "\"string\""
        },
        {
         "metadata": "{}",
         "name": "GA",
         "type": "\"string\""
        },
        {
         "metadata": "{}",
         "name": "GD",
         "type": "\"string\""
        },
        {
         "metadata": "{}",
         "name": "Pts",
         "type": "\"string\""
        }
       ],
       "type": "table"
      }
     },
     "output_type": "display_data"
    }
   ],
   "source": [
    "#Table information for the Group A,B,C\n",
    "left_table = pd.DataFrame(columns=['Teams','Group','Pld','W','D','L','GF','GA','GD','Pts'])\n",
    "left_table = pd.concat([left_table, pd.DataFrame([blank_row])], ignore_index=True)\n",
    "left_table = pd.concat([left_table, visualization_with_space.iloc[:half_table_index]]).reset_index(drop=True)\n",
    "\n",
    "#Table information for the group C,D,E\n",
    "right_table = pd.DataFrame(columns=['Teams','Group','Pld','W','D','L','GF','GA','GD','Pts'])\n",
    "right_table = pd.concat([right_table, visualization_with_space.iloc[half_table_index +1:]]).reset_index(drop=True)\n",
    "right_table = pd.concat([pd.DataFrame([blank_row]), right_table], ignore_index=True)\n",
    "\n",
    "display(left_table)\n",
    "display(right_table)"
   ]
  },
  {
   "cell_type": "markdown",
   "metadata": {
    "application/vnd.databricks.v1+cell": {
     "cellMetadata": {},
     "inputWidgets": {},
     "nuid": "6093f896-e289-440c-8462-0b2756770a79",
     "showTitle": false,
     "title": ""
    }
   },
   "source": [
    "## Visulizing the Round of 16 Qualification By Splitting into two Pools Left and Right"
   ]
  },
  {
   "cell_type": "code",
   "execution_count": 0,
   "metadata": {
    "application/vnd.databricks.v1+cell": {
     "cellMetadata": {
      "byteLimit": 2048000,
      "rowLimit": 10000
     },
     "inputWidgets": {},
     "nuid": "104fac0e-07e2-4fef-b05f-23ce39b83c94",
     "showTitle": false,
     "title": ""
    }
   },
   "outputs": [
    {
     "output_type": "stream",
     "name": "stdout",
     "output_type": "stream",
     "text": [
      "17\n"
     ]
    },
    {
     "output_type": "display_data",
     "data": {
      "text/html": [
       "<style scoped>\n",
       "  .table-result-container {\n",
       "    max-height: 300px;\n",
       "    overflow: auto;\n",
       "  }\n",
       "  table, th, td {\n",
       "    border: 1px solid black;\n",
       "    border-collapse: collapse;\n",
       "  }\n",
       "  th, td {\n",
       "    padding: 5px;\n",
       "  }\n",
       "  th {\n",
       "    text-align: left;\n",
       "  }\n",
       "</style><div class='table-result-container'><table class='table-result'><thead style='background-color: white'><tr><th>Round_of_16</th><th>rest</th></tr></thead><tbody><tr><td></td><td></td></tr><tr><td></td><td></td></tr><tr><td>Albania (4)</td><td></td></tr><tr><td>Switzerland (0)</td><td></td></tr><tr><td></td><td></td></tr><tr><td></td><td></td></tr><tr><td>Scotland (1)</td><td></td></tr><tr><td>Denmark (2)</td><td></td></tr><tr><td></td><td></td></tr><tr><td></td><td></td></tr><tr><td>Czech Republic (2)</td><td></td></tr><tr><td>Serbia (0)</td><td></td></tr><tr><td></td><td></td></tr><tr><td></td><td></td></tr><tr><td>Netherlands (5)</td><td></td></tr><tr><td>Romania (2)</td><td></td></tr><tr><td></td><td></td></tr><tr><td></td><td></td></tr><tr><td>Belgium (1)</td><td></td></tr><tr><td>Italy (2)</td><td></td></tr><tr><td></td><td></td></tr><tr><td></td><td></td></tr><tr><td>Austria (3)</td><td></td></tr><tr><td>Play-off Winner C (0)</td><td></td></tr><tr><td></td><td></td></tr><tr><td></td><td></td></tr><tr><td>Slovenia (1)</td><td></td></tr><tr><td>Play-off Winner A (0)</td><td></td></tr><tr><td></td><td></td></tr><tr><td></td><td></td></tr><tr><td>Germany (1)</td><td></td></tr><tr><td>Croatia (2)</td><td></td></tr><tr><td></td><td></td></tr><tr><td></td><td></td></tr></tbody></table></div>"
      ]
     },
     "metadata": {
      "application/vnd.databricks.v1+output": {
       "addedWidgets": {},
       "aggData": [],
       "aggError": "",
       "aggOverflow": false,
       "aggSchema": [],
       "aggSeriesLimitReached": false,
       "aggType": "",
       "arguments": {},
       "columnCustomDisplayInfos": {},
       "data": [
        [
         "",
         ""
        ],
        [
         "",
         ""
        ],
        [
         "Albania (4)",
         ""
        ],
        [
         "Switzerland (0)",
         ""
        ],
        [
         "",
         ""
        ],
        [
         "",
         ""
        ],
        [
         "Scotland (1)",
         ""
        ],
        [
         "Denmark (2)",
         ""
        ],
        [
         "",
         ""
        ],
        [
         "",
         ""
        ],
        [
         "Czech Republic (2)",
         ""
        ],
        [
         "Serbia (0)",
         ""
        ],
        [
         "",
         ""
        ],
        [
         "",
         ""
        ],
        [
         "Netherlands (5)",
         ""
        ],
        [
         "Romania (2)",
         ""
        ],
        [
         "",
         ""
        ],
        [
         "",
         ""
        ],
        [
         "Belgium (1)",
         ""
        ],
        [
         "Italy (2)",
         ""
        ],
        [
         "",
         ""
        ],
        [
         "",
         ""
        ],
        [
         "Austria (3)",
         ""
        ],
        [
         "Play-off Winner C (0)",
         ""
        ],
        [
         "",
         ""
        ],
        [
         "",
         ""
        ],
        [
         "Slovenia (1)",
         ""
        ],
        [
         "Play-off Winner A (0)",
         ""
        ],
        [
         "",
         ""
        ],
        [
         "",
         ""
        ],
        [
         "Germany (1)",
         ""
        ],
        [
         "Croatia (2)",
         ""
        ],
        [
         "",
         ""
        ],
        [
         "",
         ""
        ]
       ],
       "datasetInfos": [],
       "dbfsResultPath": null,
       "isJsonSchema": true,
       "metadata": {},
       "overflow": false,
       "plotOptions": {
        "customPlotOptions": {},
        "displayType": "table",
        "pivotAggregation": null,
        "pivotColumns": null,
        "xColumns": null,
        "yColumns": null
       },
       "removedWidgets": [],
       "schema": [
        {
         "metadata": "{}",
         "name": "Round_of_16",
         "type": "\"string\""
        },
        {
         "metadata": "{}",
         "name": "rest",
         "type": "\"string\""
        }
       ],
       "type": "table"
      }
     },
     "output_type": "display_data"
    }
   ],
   "source": [
    "# Create an empty DataFrame for round of sixteen\n",
    "visualize_r16 = pd.DataFrame(columns=['Round_of_16', 'rest'])\n",
    "\n",
    "for _ in range(2):\n",
    "    visualize_r16 = pd.concat([visualize_r16, pd.DataFrame({'Round_of_16': ['']})], ignore_index=True)\n",
    "\n",
    "for index, row in round_of_16_df.iterrows():\n",
    "    visualize_r16 = pd.concat([visualize_r16, pd.DataFrame({'Round_of_16': [f\"{row['HomeTeam']} ({row['HomeTeamGoals']})\"]})], ignore_index=True)\n",
    "    visualize_r16 = pd.concat([visualize_r16, pd.DataFrame({'Round_of_16': [f\"{row['AwayTeam']} ({row['AwayTeamGoals']})\"]})], ignore_index=True)\n",
    "\n",
    "    for _ in range(2):\n",
    "        visualize_r16 = pd.concat([visualize_r16, pd.DataFrame({'Round_of_16': ['']})], ignore_index=True)\n",
    "\n",
    "visualize_r16['rest'] = ''\n",
    "\n",
    "splited_r16_index = len(visualize_r16) // 2\n",
    "print(splited_r16_index)\n",
    "display(visualize_r16)\n"
   ]
  },
  {
   "cell_type": "code",
   "execution_count": 0,
   "metadata": {
    "application/vnd.databricks.v1+cell": {
     "cellMetadata": {
      "byteLimit": 2048000,
      "rowLimit": 10000
     },
     "inputWidgets": {},
     "nuid": "a6a44471-84ab-4391-a5f0-564d62de2cd9",
     "showTitle": false,
     "title": ""
    }
   },
   "outputs": [
    {
     "output_type": "display_data",
     "data": {
      "text/html": [
       "<style scoped>\n",
       "  .table-result-container {\n",
       "    max-height: 300px;\n",
       "    overflow: auto;\n",
       "  }\n",
       "  table, th, td {\n",
       "    border: 1px solid black;\n",
       "    border-collapse: collapse;\n",
       "  }\n",
       "  th, td {\n",
       "    padding: 5px;\n",
       "  }\n",
       "  th {\n",
       "    text-align: left;\n",
       "  }\n",
       "</style><div class='table-result-container'><table class='table-result'><thead style='background-color: white'><tr><th>Round_of_16</th><th>rest</th></tr></thead><tbody><tr><td></td><td></td></tr><tr><td></td><td></td></tr><tr><td>Albania (4)</td><td></td></tr><tr><td>Switzerland (0)</td><td></td></tr><tr><td></td><td></td></tr><tr><td></td><td></td></tr><tr><td>Scotland (1)</td><td></td></tr><tr><td>Denmark (2)</td><td></td></tr><tr><td></td><td></td></tr><tr><td></td><td></td></tr><tr><td>Czech Republic (2)</td><td></td></tr><tr><td>Serbia (0)</td><td></td></tr><tr><td></td><td></td></tr><tr><td></td><td></td></tr><tr><td>Netherlands (5)</td><td></td></tr><tr><td>Romania (2)</td><td></td></tr><tr><td></td><td></td></tr><tr><td></td><td></td></tr></tbody></table></div>"
      ]
     },
     "metadata": {
      "application/vnd.databricks.v1+output": {
       "addedWidgets": {},
       "aggData": [],
       "aggError": "",
       "aggOverflow": false,
       "aggSchema": [],
       "aggSeriesLimitReached": false,
       "aggType": "",
       "arguments": {},
       "columnCustomDisplayInfos": {},
       "data": [
        [
         "",
         ""
        ],
        [
         "",
         ""
        ],
        [
         "Albania (4)",
         ""
        ],
        [
         "Switzerland (0)",
         ""
        ],
        [
         "",
         ""
        ],
        [
         "",
         ""
        ],
        [
         "Scotland (1)",
         ""
        ],
        [
         "Denmark (2)",
         ""
        ],
        [
         "",
         ""
        ],
        [
         "",
         ""
        ],
        [
         "Czech Republic (2)",
         ""
        ],
        [
         "Serbia (0)",
         ""
        ],
        [
         "",
         ""
        ],
        [
         "",
         ""
        ],
        [
         "Netherlands (5)",
         ""
        ],
        [
         "Romania (2)",
         ""
        ],
        [
         "",
         ""
        ],
        [
         "",
         ""
        ]
       ],
       "datasetInfos": [],
       "dbfsResultPath": null,
       "isJsonSchema": true,
       "metadata": {},
       "overflow": false,
       "plotOptions": {
        "customPlotOptions": {},
        "displayType": "table",
        "pivotAggregation": null,
        "pivotColumns": null,
        "xColumns": null,
        "yColumns": null
       },
       "removedWidgets": [],
       "schema": [
        {
         "metadata": "{}",
         "name": "Round_of_16",
         "type": "\"string\""
        },
        {
         "metadata": "{}",
         "name": "rest",
         "type": "\"string\""
        }
       ],
       "type": "table"
      }
     },
     "output_type": "display_data"
    },
    {
     "output_type": "display_data",
     "data": {
      "text/html": [
       "<style scoped>\n",
       "  .table-result-container {\n",
       "    max-height: 300px;\n",
       "    overflow: auto;\n",
       "  }\n",
       "  table, th, td {\n",
       "    border: 1px solid black;\n",
       "    border-collapse: collapse;\n",
       "  }\n",
       "  th, td {\n",
       "    padding: 5px;\n",
       "  }\n",
       "  th {\n",
       "    text-align: left;\n",
       "  }\n",
       "</style><div class='table-result-container'><table class='table-result'><thead style='background-color: white'><tr><th>Round_of_16</th><th>rest</th></tr></thead><tbody><tr><td></td><td></td></tr><tr><td></td><td></td></tr><tr><td>Belgium (1)</td><td></td></tr><tr><td>Italy (2)</td><td></td></tr><tr><td></td><td></td></tr><tr><td></td><td></td></tr><tr><td>Austria (3)</td><td></td></tr><tr><td>Play-off Winner C (0)</td><td></td></tr><tr><td></td><td></td></tr><tr><td></td><td></td></tr><tr><td>Slovenia (1)</td><td></td></tr><tr><td>Play-off Winner A (0)</td><td></td></tr><tr><td></td><td></td></tr><tr><td></td><td></td></tr><tr><td>Germany (1)</td><td></td></tr><tr><td>Croatia (2)</td><td></td></tr><tr><td></td><td></td></tr><tr><td></td><td></td></tr></tbody></table></div>"
      ]
     },
     "metadata": {
      "application/vnd.databricks.v1+output": {
       "addedWidgets": {},
       "aggData": [],
       "aggError": "",
       "aggOverflow": false,
       "aggSchema": [],
       "aggSeriesLimitReached": false,
       "aggType": "",
       "arguments": {},
       "columnCustomDisplayInfos": {},
       "data": [
        [
         "",
         ""
        ],
        [
         "",
         ""
        ],
        [
         "Belgium (1)",
         ""
        ],
        [
         "Italy (2)",
         ""
        ],
        [
         "",
         ""
        ],
        [
         "",
         ""
        ],
        [
         "Austria (3)",
         ""
        ],
        [
         "Play-off Winner C (0)",
         ""
        ],
        [
         "",
         ""
        ],
        [
         "",
         ""
        ],
        [
         "Slovenia (1)",
         ""
        ],
        [
         "Play-off Winner A (0)",
         ""
        ],
        [
         "",
         ""
        ],
        [
         "",
         ""
        ],
        [
         "Germany (1)",
         ""
        ],
        [
         "Croatia (2)",
         ""
        ],
        [
         "",
         ""
        ],
        [
         "",
         ""
        ]
       ],
       "datasetInfos": [],
       "dbfsResultPath": null,
       "isJsonSchema": true,
       "metadata": {},
       "overflow": false,
       "plotOptions": {
        "customPlotOptions": {},
        "displayType": "table",
        "pivotAggregation": null,
        "pivotColumns": null,
        "xColumns": null,
        "yColumns": null
       },
       "removedWidgets": [],
       "schema": [
        {
         "metadata": "{}",
         "name": "Round_of_16",
         "type": "\"string\""
        },
        {
         "metadata": "{}",
         "name": "rest",
         "type": "\"string\""
        }
       ],
       "type": "table"
      }
     },
     "output_type": "display_data"
    }
   ],
   "source": [
    "left_side_r16 = visualize_r16.iloc[:splited_r16_index + 1].reset_index(drop = True)\n",
    "right_side_r16 = visualize_r16.iloc[splited_r16_index - 1:].reset_index(drop = True)\n",
    "display(left_side_r16)\n",
    "display(right_side_r16)"
   ]
  },
  {
   "cell_type": "markdown",
   "metadata": {
    "application/vnd.databricks.v1+cell": {
     "cellMetadata": {},
     "inputWidgets": {},
     "nuid": "fc8355e2-ac93-4f4d-9347-2961345080e0",
     "showTitle": false,
     "title": ""
    }
   },
   "source": [
    "## Visulizing the Quater-Final Qualification"
   ]
  },
  {
   "cell_type": "code",
   "execution_count": 0,
   "metadata": {
    "application/vnd.databricks.v1+cell": {
     "cellMetadata": {
      "byteLimit": 2048000,
      "rowLimit": 10000
     },
     "inputWidgets": {},
     "nuid": "2fac5530-568f-4c53-af37-0a6dc30fbafc",
     "showTitle": false,
     "title": ""
    }
   },
   "outputs": [
    {
     "output_type": "display_data",
     "data": {
      "text/html": [
       "<style scoped>\n",
       "  .table-result-container {\n",
       "    max-height: 300px;\n",
       "    overflow: auto;\n",
       "  }\n",
       "  table, th, td {\n",
       "    border: 1px solid black;\n",
       "    border-collapse: collapse;\n",
       "  }\n",
       "  th, td {\n",
       "    padding: 5px;\n",
       "  }\n",
       "  th {\n",
       "    text-align: left;\n",
       "  }\n",
       "</style><div class='table-result-container'><table class='table-result'><thead style='background-color: white'><tr><th>Quater_Final</th><th>rest</th></tr></thead><tbody><tr><td></td><td></td></tr><tr><td></td><td></td></tr><tr><td></td><td></td></tr><tr><td></td><td></td></tr><tr><td>Czech Republic (1)</td><td></td></tr><tr><td>Albania (2)</td><td></td></tr><tr><td></td><td></td></tr><tr><td></td><td></td></tr><tr><td></td><td></td></tr><tr><td></td><td></td></tr><tr><td></td><td></td></tr><tr><td></td><td></td></tr><tr><td>Italy (5)</td><td></td></tr><tr><td>Austria (2)</td><td></td></tr><tr><td></td><td></td></tr><tr><td></td><td></td></tr><tr><td></td><td></td></tr><tr><td></td><td></td></tr><tr><td></td><td></td></tr><tr><td></td><td></td></tr><tr><td>Slovenia (1)</td><td></td></tr><tr><td>Croatia (2)</td><td></td></tr><tr><td></td><td></td></tr><tr><td></td><td></td></tr><tr><td></td><td></td></tr><tr><td></td><td></td></tr><tr><td></td><td></td></tr><tr><td></td><td></td></tr><tr><td>Netherlands (5)</td><td></td></tr><tr><td>Denmark (2)</td><td></td></tr><tr><td></td><td></td></tr><tr><td></td><td></td></tr><tr><td></td><td></td></tr><tr><td></td><td></td></tr><tr><td></td><td></td></tr><tr><td></td><td></td></tr></tbody></table></div>"
      ]
     },
     "metadata": {
      "application/vnd.databricks.v1+output": {
       "addedWidgets": {},
       "aggData": [],
       "aggError": "",
       "aggOverflow": false,
       "aggSchema": [],
       "aggSeriesLimitReached": false,
       "aggType": "",
       "arguments": {},
       "columnCustomDisplayInfos": {},
       "data": [
        [
         "",
         ""
        ],
        [
         "",
         ""
        ],
        [
         "",
         ""
        ],
        [
         "",
         ""
        ],
        [
         "Czech Republic (1)",
         ""
        ],
        [
         "Albania (2)",
         ""
        ],
        [
         "",
         ""
        ],
        [
         "",
         ""
        ],
        [
         "",
         ""
        ],
        [
         "",
         ""
        ],
        [
         "",
         ""
        ],
        [
         "",
         ""
        ],
        [
         "Italy (5)",
         ""
        ],
        [
         "Austria (2)",
         ""
        ],
        [
         "",
         ""
        ],
        [
         "",
         ""
        ],
        [
         "",
         ""
        ],
        [
         "",
         ""
        ],
        [
         "",
         ""
        ],
        [
         "",
         ""
        ],
        [
         "Slovenia (1)",
         ""
        ],
        [
         "Croatia (2)",
         ""
        ],
        [
         "",
         ""
        ],
        [
         "",
         ""
        ],
        [
         "",
         ""
        ],
        [
         "",
         ""
        ],
        [
         "",
         ""
        ],
        [
         "",
         ""
        ],
        [
         "Netherlands (5)",
         ""
        ],
        [
         "Denmark (2)",
         ""
        ],
        [
         "",
         ""
        ],
        [
         "",
         ""
        ],
        [
         "",
         ""
        ],
        [
         "",
         ""
        ],
        [
         "",
         ""
        ],
        [
         "",
         ""
        ]
       ],
       "datasetInfos": [],
       "dbfsResultPath": null,
       "isJsonSchema": true,
       "metadata": {},
       "overflow": false,
       "plotOptions": {
        "customPlotOptions": {},
        "displayType": "table",
        "pivotAggregation": null,
        "pivotColumns": null,
        "xColumns": null,
        "yColumns": null
       },
       "removedWidgets": [],
       "schema": [
        {
         "metadata": "{}",
         "name": "Quater_Final",
         "type": "\"string\""
        },
        {
         "metadata": "{}",
         "name": "rest",
         "type": "\"string\""
        }
       ],
       "type": "table"
      }
     },
     "output_type": "display_data"
    }
   ],
   "source": [
    "# Dataframe for quater final\n",
    "visualize_qf = pd.DataFrame(columns=['Quater_Final'])\n",
    "\n",
    "for _ in range(4):\n",
    "    visualize_qf = pd.concat([visualize_qf, pd.DataFrame({'Quater_Final': ['']})], ignore_index=True)\n",
    "\n",
    "for index, row in quater_final_df.iterrows():\n",
    "    visualize_qf = pd.concat([visualize_qf, pd.DataFrame({'Quater_Final': [f\"{row['HomeTeam']} ({row['HomeTeamGoals']})\"]})], ignore_index=True)\n",
    "    visualize_qf = pd.concat([visualize_qf, pd.DataFrame({'Quater_Final': [f\"{row['AwayTeam']} ({row['AwayTeamGoals']})\"]})], ignore_index=True)\n",
    "\n",
    "    for _ in range(6):\n",
    "        visualize_qf = pd.concat([visualize_qf, pd.DataFrame({'Quater_Final': ['']})], ignore_index=True)\n",
    "visualize_qf['rest'] = ''\n",
    "splited_qf_index = len(visualize_qf) // 2\n",
    "display(visualize_qf)\n"
   ]
  },
  {
   "cell_type": "code",
   "execution_count": 0,
   "metadata": {
    "application/vnd.databricks.v1+cell": {
     "cellMetadata": {
      "byteLimit": 2048000,
      "rowLimit": 10000
     },
     "inputWidgets": {},
     "nuid": "b8c155a3-a865-42af-9e8c-0b15ad35cbe8",
     "showTitle": false,
     "title": ""
    }
   },
   "outputs": [
    {
     "output_type": "display_data",
     "data": {
      "text/html": [
       "<style scoped>\n",
       "  .table-result-container {\n",
       "    max-height: 300px;\n",
       "    overflow: auto;\n",
       "  }\n",
       "  table, th, td {\n",
       "    border: 1px solid black;\n",
       "    border-collapse: collapse;\n",
       "  }\n",
       "  th, td {\n",
       "    padding: 5px;\n",
       "  }\n",
       "  th {\n",
       "    text-align: left;\n",
       "  }\n",
       "</style><div class='table-result-container'><table class='table-result'><thead style='background-color: white'><tr><th>Quater_Final</th><th>rest</th></tr></thead><tbody><tr><td></td><td></td></tr><tr><td></td><td></td></tr><tr><td></td><td></td></tr><tr><td></td><td></td></tr><tr><td>Czech Republic (1)</td><td></td></tr><tr><td>Albania (2)</td><td></td></tr><tr><td></td><td></td></tr><tr><td></td><td></td></tr><tr><td></td><td></td></tr><tr><td></td><td></td></tr><tr><td></td><td></td></tr><tr><td></td><td></td></tr><tr><td>Italy (5)</td><td></td></tr><tr><td>Austria (2)</td><td></td></tr><tr><td></td><td></td></tr><tr><td></td><td></td></tr><tr><td></td><td></td></tr><tr><td></td><td></td></tr></tbody></table></div>"
      ]
     },
     "metadata": {
      "application/vnd.databricks.v1+output": {
       "addedWidgets": {},
       "aggData": [],
       "aggError": "",
       "aggOverflow": false,
       "aggSchema": [],
       "aggSeriesLimitReached": false,
       "aggType": "",
       "arguments": {},
       "columnCustomDisplayInfos": {},
       "data": [
        [
         "",
         ""
        ],
        [
         "",
         ""
        ],
        [
         "",
         ""
        ],
        [
         "",
         ""
        ],
        [
         "Czech Republic (1)",
         ""
        ],
        [
         "Albania (2)",
         ""
        ],
        [
         "",
         ""
        ],
        [
         "",
         ""
        ],
        [
         "",
         ""
        ],
        [
         "",
         ""
        ],
        [
         "",
         ""
        ],
        [
         "",
         ""
        ],
        [
         "Italy (5)",
         ""
        ],
        [
         "Austria (2)",
         ""
        ],
        [
         "",
         ""
        ],
        [
         "",
         ""
        ],
        [
         "",
         ""
        ],
        [
         "",
         ""
        ]
       ],
       "datasetInfos": [],
       "dbfsResultPath": null,
       "isJsonSchema": true,
       "metadata": {},
       "overflow": false,
       "plotOptions": {
        "customPlotOptions": {},
        "displayType": "table",
        "pivotAggregation": null,
        "pivotColumns": null,
        "xColumns": null,
        "yColumns": null
       },
       "removedWidgets": [],
       "schema": [
        {
         "metadata": "{}",
         "name": "Quater_Final",
         "type": "\"string\""
        },
        {
         "metadata": "{}",
         "name": "rest",
         "type": "\"string\""
        }
       ],
       "type": "table"
      }
     },
     "output_type": "display_data"
    },
    {
     "output_type": "display_data",
     "data": {
      "text/html": [
       "<style scoped>\n",
       "  .table-result-container {\n",
       "    max-height: 300px;\n",
       "    overflow: auto;\n",
       "  }\n",
       "  table, th, td {\n",
       "    border: 1px solid black;\n",
       "    border-collapse: collapse;\n",
       "  }\n",
       "  th, td {\n",
       "    padding: 5px;\n",
       "  }\n",
       "  th {\n",
       "    text-align: left;\n",
       "  }\n",
       "</style><div class='table-result-container'><table class='table-result'><thead style='background-color: white'><tr><th>Quater_Final</th><th>rest</th></tr></thead><tbody><tr><td></td><td></td></tr><tr><td></td><td></td></tr><tr><td></td><td></td></tr><tr><td></td><td></td></tr><tr><td>Slovenia (1)</td><td></td></tr><tr><td>Croatia (2)</td><td></td></tr><tr><td></td><td></td></tr><tr><td></td><td></td></tr><tr><td></td><td></td></tr><tr><td></td><td></td></tr><tr><td></td><td></td></tr><tr><td></td><td></td></tr><tr><td>Netherlands (5)</td><td></td></tr><tr><td>Denmark (2)</td><td></td></tr><tr><td></td><td></td></tr><tr><td></td><td></td></tr><tr><td></td><td></td></tr><tr><td></td><td></td></tr><tr><td></td><td></td></tr><tr><td></td><td></td></tr></tbody></table></div>"
      ]
     },
     "metadata": {
      "application/vnd.databricks.v1+output": {
       "addedWidgets": {},
       "aggData": [],
       "aggError": "",
       "aggOverflow": false,
       "aggSchema": [],
       "aggSeriesLimitReached": false,
       "aggType": "",
       "arguments": {},
       "columnCustomDisplayInfos": {},
       "data": [
        [
         "",
         ""
        ],
        [
         "",
         ""
        ],
        [
         "",
         ""
        ],
        [
         "",
         ""
        ],
        [
         "Slovenia (1)",
         ""
        ],
        [
         "Croatia (2)",
         ""
        ],
        [
         "",
         ""
        ],
        [
         "",
         ""
        ],
        [
         "",
         ""
        ],
        [
         "",
         ""
        ],
        [
         "",
         ""
        ],
        [
         "",
         ""
        ],
        [
         "Netherlands (5)",
         ""
        ],
        [
         "Denmark (2)",
         ""
        ],
        [
         "",
         ""
        ],
        [
         "",
         ""
        ],
        [
         "",
         ""
        ],
        [
         "",
         ""
        ],
        [
         "",
         ""
        ],
        [
         "",
         ""
        ]
       ],
       "datasetInfos": [],
       "dbfsResultPath": null,
       "isJsonSchema": true,
       "metadata": {},
       "overflow": false,
       "plotOptions": {
        "customPlotOptions": {},
        "displayType": "table",
        "pivotAggregation": null,
        "pivotColumns": null,
        "xColumns": null,
        "yColumns": null
       },
       "removedWidgets": [],
       "schema": [
        {
         "metadata": "{}",
         "name": "Quater_Final",
         "type": "\"string\""
        },
        {
         "metadata": "{}",
         "name": "rest",
         "type": "\"string\""
        }
       ],
       "type": "table"
      }
     },
     "output_type": "display_data"
    }
   ],
   "source": [
    "left_side_qf = pd.DataFrame(columns=['Quater_Final'])\n",
    "left_side_qf = pd.concat([left_side_qf,visualize_qf.iloc[:splited_qf_index]]).reset_index(drop=True)\n",
    "right_side_qf = pd.DataFrame(columns=['Quater_Final'])\n",
    "right_side_qf = pd.concat([right_side_qf,visualize_qf.iloc[splited_qf_index-2:]]).reset_index(drop=True)\n",
    "\n",
    "\n",
    "display(left_side_qf)\n",
    "display(right_side_qf)"
   ]
  },
  {
   "cell_type": "markdown",
   "metadata": {
    "application/vnd.databricks.v1+cell": {
     "cellMetadata": {},
     "inputWidgets": {},
     "nuid": "5d851775-851d-4ac9-99ad-a61a3e3a31d8",
     "showTitle": false,
     "title": ""
    }
   },
   "source": [
    "## Visulizing the Semi-Final Qualification"
   ]
  },
  {
   "cell_type": "code",
   "execution_count": 0,
   "metadata": {
    "application/vnd.databricks.v1+cell": {
     "cellMetadata": {
      "byteLimit": 2048000,
      "rowLimit": 10000
     },
     "inputWidgets": {},
     "nuid": "b3c9ec7d-f1c9-4ab7-9b26-522870f720e3",
     "showTitle": false,
     "title": ""
    }
   },
   "outputs": [
    {
     "output_type": "stream",
     "name": "stdout",
     "output_type": "stream",
     "text": [
      "12\n"
     ]
    },
    {
     "output_type": "display_data",
     "data": {
      "text/html": [
       "<style scoped>\n",
       "  .table-result-container {\n",
       "    max-height: 300px;\n",
       "    overflow: auto;\n",
       "  }\n",
       "  table, th, td {\n",
       "    border: 1px solid black;\n",
       "    border-collapse: collapse;\n",
       "  }\n",
       "  th, td {\n",
       "    padding: 5px;\n",
       "  }\n",
       "  th {\n",
       "    text-align: left;\n",
       "  }\n",
       "</style><div class='table-result-container'><table class='table-result'><thead style='background-color: white'><tr><th>Semi_Final</th><th>rest</th></tr></thead><tbody><tr><td></td><td></td></tr><tr><td></td><td></td></tr><tr><td></td><td></td></tr><tr><td></td><td></td></tr><tr><td></td><td></td></tr><tr><td></td><td></td></tr><tr><td></td><td></td></tr><tr><td></td><td></td></tr><tr><td>Albania (1)</td><td></td></tr><tr><td>Italy (5)</td><td></td></tr><tr><td></td><td></td></tr><tr><td></td><td></td></tr><tr><td></td><td></td></tr><tr><td></td><td></td></tr><tr><td></td><td></td></tr><tr><td></td><td></td></tr><tr><td>Croatia (1)</td><td></td></tr><tr><td>Netherlands (4)</td><td></td></tr><tr><td></td><td></td></tr><tr><td></td><td></td></tr><tr><td></td><td></td></tr><tr><td></td><td></td></tr><tr><td></td><td></td></tr><tr><td></td><td></td></tr></tbody></table></div>"
      ]
     },
     "metadata": {
      "application/vnd.databricks.v1+output": {
       "addedWidgets": {},
       "aggData": [],
       "aggError": "",
       "aggOverflow": false,
       "aggSchema": [],
       "aggSeriesLimitReached": false,
       "aggType": "",
       "arguments": {},
       "columnCustomDisplayInfos": {},
       "data": [
        [
         "",
         ""
        ],
        [
         "",
         ""
        ],
        [
         "",
         ""
        ],
        [
         "",
         ""
        ],
        [
         "",
         ""
        ],
        [
         "",
         ""
        ],
        [
         "",
         ""
        ],
        [
         "",
         ""
        ],
        [
         "Albania (1)",
         ""
        ],
        [
         "Italy (5)",
         ""
        ],
        [
         "",
         ""
        ],
        [
         "",
         ""
        ],
        [
         "",
         ""
        ],
        [
         "",
         ""
        ],
        [
         "",
         ""
        ],
        [
         "",
         ""
        ],
        [
         "Croatia (1)",
         ""
        ],
        [
         "Netherlands (4)",
         ""
        ],
        [
         "",
         ""
        ],
        [
         "",
         ""
        ],
        [
         "",
         ""
        ],
        [
         "",
         ""
        ],
        [
         "",
         ""
        ],
        [
         "",
         ""
        ]
       ],
       "datasetInfos": [],
       "dbfsResultPath": null,
       "isJsonSchema": true,
       "metadata": {},
       "overflow": false,
       "plotOptions": {
        "customPlotOptions": {},
        "displayType": "table",
        "pivotAggregation": null,
        "pivotColumns": null,
        "xColumns": null,
        "yColumns": null
       },
       "removedWidgets": [],
       "schema": [
        {
         "metadata": "{}",
         "name": "Semi_Final",
         "type": "\"string\""
        },
        {
         "metadata": "{}",
         "name": "rest",
         "type": "\"string\""
        }
       ],
       "type": "table"
      }
     },
     "output_type": "display_data"
    }
   ],
   "source": [
    "\n",
    "visualize_sf = pd.DataFrame(columns=['Semi_Final'])\n",
    "\n",
    "for _ in range(8):\n",
    "    visualize_sf = pd.concat([visualize_sf, pd.DataFrame({'Semi_Final': ['']})], ignore_index=True)\n",
    "\n",
    "for index, row in semi_final_df.iterrows():\n",
    "    visualize_sf = pd.concat([visualize_sf, pd.DataFrame({'Semi_Final': [f\"{row['HomeTeam']} ({row['HomeTeamGoals']})\"]})], ignore_index=True)\n",
    "    visualize_sf = pd.concat([visualize_sf, pd.DataFrame({'Semi_Final': [f\"{row['AwayTeam']} ({row['AwayTeamGoals']})\"]})], ignore_index=True)\n",
    "    for _ in range(6):\n",
    "        visualize_sf = pd.concat([visualize_sf, pd.DataFrame({'Semi_Final': ['']})], ignore_index=True)\n",
    "visualize_sf['rest'] = ''\n",
    "splited_sf_index = len(visualize_sf) // 2\n",
    "print(splited_sf_index)\n",
    "display(visualize_sf)\n"
   ]
  },
  {
   "cell_type": "code",
   "execution_count": 0,
   "metadata": {
    "application/vnd.databricks.v1+cell": {
     "cellMetadata": {
      "byteLimit": 2048000,
      "rowLimit": 10000
     },
     "inputWidgets": {},
     "nuid": "b932567a-a8ec-4035-9e8d-b09555476991",
     "showTitle": false,
     "title": ""
    }
   },
   "outputs": [
    {
     "output_type": "display_data",
     "data": {
      "text/html": [
       "<style scoped>\n",
       "  .table-result-container {\n",
       "    max-height: 300px;\n",
       "    overflow: auto;\n",
       "  }\n",
       "  table, th, td {\n",
       "    border: 1px solid black;\n",
       "    border-collapse: collapse;\n",
       "  }\n",
       "  th, td {\n",
       "    padding: 5px;\n",
       "  }\n",
       "  th {\n",
       "    text-align: left;\n",
       "  }\n",
       "</style><div class='table-result-container'><table class='table-result'><thead style='background-color: white'><tr><th>Semi_Final</th><th>rest</th></tr></thead><tbody><tr><td></td><td></td></tr><tr><td></td><td></td></tr><tr><td></td><td></td></tr><tr><td></td><td></td></tr><tr><td></td><td></td></tr><tr><td></td><td></td></tr><tr><td></td><td></td></tr><tr><td></td><td></td></tr><tr><td>Albania (1)</td><td></td></tr><tr><td>Italy (5)</td><td></td></tr><tr><td></td><td></td></tr><tr><td></td><td></td></tr><tr><td></td><td></td></tr><tr><td></td><td></td></tr><tr><td></td><td></td></tr><tr><td></td><td></td></tr><tr><td></td><td></td></tr></tbody></table></div>"
      ]
     },
     "metadata": {
      "application/vnd.databricks.v1+output": {
       "addedWidgets": {},
       "aggData": [],
       "aggError": "",
       "aggOverflow": false,
       "aggSchema": [],
       "aggSeriesLimitReached": false,
       "aggType": "",
       "arguments": {},
       "columnCustomDisplayInfos": {},
       "data": [
        [
         "",
         ""
        ],
        [
         "",
         ""
        ],
        [
         "",
         ""
        ],
        [
         "",
         ""
        ],
        [
         "",
         ""
        ],
        [
         "",
         ""
        ],
        [
         "",
         ""
        ],
        [
         "",
         ""
        ],
        [
         "Albania (1)",
         ""
        ],
        [
         "Italy (5)",
         ""
        ],
        [
         "",
         ""
        ],
        [
         "",
         ""
        ],
        [
         "",
         ""
        ],
        [
         "",
         ""
        ],
        [
         "",
         ""
        ],
        [
         "",
         ""
        ],
        [
         "",
         ""
        ]
       ],
       "datasetInfos": [],
       "dbfsResultPath": null,
       "isJsonSchema": true,
       "metadata": {},
       "overflow": false,
       "plotOptions": {
        "customPlotOptions": {},
        "displayType": "table",
        "pivotAggregation": null,
        "pivotColumns": null,
        "xColumns": null,
        "yColumns": null
       },
       "removedWidgets": [],
       "schema": [
        {
         "metadata": "{}",
         "name": "Semi_Final",
         "type": "\"string\""
        },
        {
         "metadata": "{}",
         "name": "rest",
         "type": "\"string\""
        }
       ],
       "type": "table"
      }
     },
     "output_type": "display_data"
    },
    {
     "output_type": "display_data",
     "data": {
      "text/html": [
       "<style scoped>\n",
       "  .table-result-container {\n",
       "    max-height: 300px;\n",
       "    overflow: auto;\n",
       "  }\n",
       "  table, th, td {\n",
       "    border: 1px solid black;\n",
       "    border-collapse: collapse;\n",
       "  }\n",
       "  th, td {\n",
       "    padding: 5px;\n",
       "  }\n",
       "  th {\n",
       "    text-align: left;\n",
       "  }\n",
       "</style><div class='table-result-container'><table class='table-result'><thead style='background-color: white'><tr><th>Semi_Final</th><th>rest</th></tr></thead><tbody><tr><td></td><td></td></tr><tr><td></td><td></td></tr><tr><td></td><td></td></tr><tr><td></td><td></td></tr><tr><td></td><td></td></tr><tr><td></td><td></td></tr><tr><td></td><td></td></tr><tr><td></td><td></td></tr><tr><td></td><td></td></tr><tr><td></td><td></td></tr><tr><td></td><td></td></tr><tr><td>Croatia (1)</td><td></td></tr><tr><td>Netherlands (4)</td><td></td></tr><tr><td></td><td></td></tr><tr><td></td><td></td></tr><tr><td></td><td></td></tr><tr><td></td><td></td></tr><tr><td></td><td></td></tr><tr><td></td><td></td></tr></tbody></table></div>"
      ]
     },
     "metadata": {
      "application/vnd.databricks.v1+output": {
       "addedWidgets": {},
       "aggData": [],
       "aggError": "",
       "aggOverflow": false,
       "aggSchema": [],
       "aggSeriesLimitReached": false,
       "aggType": "",
       "arguments": {},
       "columnCustomDisplayInfos": {},
       "data": [
        [
         "",
         ""
        ],
        [
         "",
         ""
        ],
        [
         "",
         ""
        ],
        [
         "",
         ""
        ],
        [
         "",
         ""
        ],
        [
         "",
         ""
        ],
        [
         "",
         ""
        ],
        [
         "",
         ""
        ],
        [
         "",
         ""
        ],
        [
         "",
         ""
        ],
        [
         "",
         ""
        ],
        [
         "Croatia (1)",
         ""
        ],
        [
         "Netherlands (4)",
         ""
        ],
        [
         "",
         ""
        ],
        [
         "",
         ""
        ],
        [
         "",
         ""
        ],
        [
         "",
         ""
        ],
        [
         "",
         ""
        ],
        [
         "",
         ""
        ]
       ],
       "datasetInfos": [],
       "dbfsResultPath": null,
       "isJsonSchema": true,
       "metadata": {},
       "overflow": false,
       "plotOptions": {
        "customPlotOptions": {},
        "displayType": "table",
        "pivotAggregation": null,
        "pivotColumns": null,
        "xColumns": null,
        "yColumns": null
       },
       "removedWidgets": [],
       "schema": [
        {
         "metadata": "{}",
         "name": "Semi_Final",
         "type": "\"string\""
        },
        {
         "metadata": "{}",
         "name": "rest",
         "type": "\"string\""
        }
       ],
       "type": "table"
      }
     },
     "output_type": "display_data"
    }
   ],
   "source": [
    "left_side_sf = pd.DataFrame(columns=['Semi_Final'])\n",
    "left_side_sf = pd.concat([left_side_sf, visualize_sf.iloc[:splited_sf_index]]).reset_index(drop=True)\n",
    "\n",
    "for _ in range(5):\n",
    "    left_side_sf = pd.concat([left_side_sf, pd.DataFrame({'Semi_Final': [''], 'rest': ['']})], ignore_index=True)\n",
    "\n",
    "right_side_sf = pd.DataFrame({'Semi_Final': [''] * 7, 'rest': [''] * 7})\n",
    "right_side_sf = pd.concat([right_side_sf, visualize_sf.iloc[splited_sf_index:]]).reset_index(drop=True)\n",
    "\n",
    "display(left_side_sf)\n",
    "display(right_side_sf)"
   ]
  },
  {
   "cell_type": "markdown",
   "metadata": {
    "application/vnd.databricks.v1+cell": {
     "cellMetadata": {},
     "inputWidgets": {},
     "nuid": "21f0aeff-7ef3-4085-a8de-9eeff2b653a6",
     "showTitle": false,
     "title": ""
    }
   },
   "source": [
    "## Visulizing the Final Qualification"
   ]
  },
  {
   "cell_type": "code",
   "execution_count": 0,
   "metadata": {
    "application/vnd.databricks.v1+cell": {
     "cellMetadata": {
      "byteLimit": 2048000,
      "rowLimit": 10000
     },
     "inputWidgets": {},
     "nuid": "c8ee1a88-1858-4c9f-bcc2-69ff41bf4033",
     "showTitle": false,
     "title": ""
    }
   },
   "outputs": [
    {
     "output_type": "display_data",
     "data": {
      "text/html": [
       "<style scoped>\n",
       "  .table-result-container {\n",
       "    max-height: 300px;\n",
       "    overflow: auto;\n",
       "  }\n",
       "  table, th, td {\n",
       "    border: 1px solid black;\n",
       "    border-collapse: collapse;\n",
       "  }\n",
       "  th, td {\n",
       "    padding: 5px;\n",
       "  }\n",
       "  th {\n",
       "    text-align: left;\n",
       "  }\n",
       "</style><div class='table-result-container'><table class='table-result'><thead style='background-color: white'><tr><th>Final</th><th>space</th></tr></thead><tbody><tr><td></td><td></td></tr><tr><td></td><td></td></tr><tr><td></td><td></td></tr><tr><td></td><td></td></tr><tr><td></td><td></td></tr><tr><td></td><td></td></tr><tr><td>Italy (4)</td><td></td></tr><tr><td>Netherlands (1)</td><td></td></tr><tr><td></td><td></td></tr><tr><td></td><td></td></tr></tbody></table></div>"
      ]
     },
     "metadata": {
      "application/vnd.databricks.v1+output": {
       "addedWidgets": {},
       "aggData": [],
       "aggError": "",
       "aggOverflow": false,
       "aggSchema": [],
       "aggSeriesLimitReached": false,
       "aggType": "",
       "arguments": {},
       "columnCustomDisplayInfos": {},
       "data": [
        [
         "",
         ""
        ],
        [
         "",
         ""
        ],
        [
         "",
         ""
        ],
        [
         "",
         ""
        ],
        [
         "",
         ""
        ],
        [
         "",
         ""
        ],
        [
         "Italy (4)",
         ""
        ],
        [
         "Netherlands (1)",
         ""
        ],
        [
         "",
         ""
        ],
        [
         "",
         ""
        ]
       ],
       "datasetInfos": [],
       "dbfsResultPath": null,
       "isJsonSchema": true,
       "metadata": {},
       "overflow": false,
       "plotOptions": {
        "customPlotOptions": {},
        "displayType": "table",
        "pivotAggregation": null,
        "pivotColumns": null,
        "xColumns": null,
        "yColumns": null
       },
       "removedWidgets": [],
       "schema": [
        {
         "metadata": "{}",
         "name": "Final",
         "type": "\"string\""
        },
        {
         "metadata": "{}",
         "name": "space",
         "type": "\"string\""
        }
       ],
       "type": "table"
      }
     },
     "output_type": "display_data"
    }
   ],
   "source": [
    "visualize_final = pd.DataFrame(columns=['Final'])\n",
    "for _ in range(6):\n",
    "    visualize_final = pd.concat([visualize_final, pd.DataFrame({'Final': ['']})], ignore_index=True)\n",
    "\n",
    "for index,row in final_df.iterrows():\n",
    "    visualize_final = pd.concat([visualize_final, pd.DataFrame({'Final': [f\"{row['HomeTeam']} ({row['HomeTeamGoals']})\"]})], ignore_index=True)\n",
    "    visualize_final = pd.concat([visualize_final, pd.DataFrame({'Final': [f\"{row['AwayTeam']} ({row['AwayTeamGoals']})\"]})], ignore_index=True)\n",
    "\n",
    "    if (index + 1) %2 == 0:\n",
    "        visualize_final = pd.concat([visualize_final, pd.DataFrame({'Final': ['']})], ignore_index=True)\n",
    "        visualize_final = pd.concat([visualize_final, pd.DataFrame({'Final': ['']})], ignore_index=True)\n",
    "    for _ in range(2):\n",
    "        visualize_final = pd.concat([visualize_final, pd.DataFrame({'Final': ['']})], ignore_index=True)\n",
    "visualize_final['space'] = ''\n",
    "display(visualize_final)\n"
   ]
  },
  {
   "cell_type": "code",
   "execution_count": 0,
   "metadata": {
    "application/vnd.databricks.v1+cell": {
     "cellMetadata": {
      "byteLimit": 2048000,
      "rowLimit": 10000
     },
     "inputWidgets": {},
     "nuid": "491c4019-7ac2-4346-beb5-c7175d3d9187",
     "showTitle": false,
     "title": ""
    }
   },
   "outputs": [
    {
     "output_type": "display_data",
     "data": {
      "text/html": [
       "<style scoped>\n",
       "  .table-result-container {\n",
       "    max-height: 300px;\n",
       "    overflow: auto;\n",
       "  }\n",
       "  table, th, td {\n",
       "    border: 1px solid black;\n",
       "    border-collapse: collapse;\n",
       "  }\n",
       "  th, td {\n",
       "    padding: 5px;\n",
       "  }\n",
       "  th {\n",
       "    text-align: left;\n",
       "  }\n",
       "</style><div class='table-result-container'><table class='table-result'><thead style='background-color: white'><tr><th>Teamsg1</th><th>Groupg1</th><th>Pldg1</th><th>Wg1</th><th>Dg1</th><th>Lg1</th><th>GFg1</th><th>GAg1</th><th>GDg1</th><th>Ptsg1</th><th>Round_of_16</th><th>rest</th><th>Quater_Finalq2</th><th>restq2</th><th>Semi_Finals1</th><th>rests1</th><th>Finalf</th><th>spacef</th><th>Semi_Finals2</th><th>rests2</th><th>Quater_Finalq1</th><th>restq1</th><th>Round_of_16r2</th><th>restr2</th><th>Teamsg2</th><th>Groupg2</th><th>Pldg2</th><th>Wg2</th><th>Dg2</th><th>Lg2</th><th>GFg2</th><th>GAg2</th><th>GDg2</th><th>Ptsg2</th></tr></thead><tbody><tr><td></td><td></td><td></td><td></td><td></td><td></td><td></td><td></td><td></td><td></td><td></td><td></td><td></td><td></td><td></td><td></td><td></td><td></td><td></td><td></td><td></td><td></td><td></td><td></td><td></td><td></td><td></td><td></td><td></td><td></td><td></td><td></td><td></td><td></td></tr><tr><td>Germany</td><td>A</td><td>3</td><td>2</td><td>0</td><td>1</td><td>7</td><td>7</td><td>0</td><td>6</td><td></td><td></td><td></td><td></td><td></td><td></td><td></td><td></td><td></td><td></td><td></td><td></td><td></td><td></td><td>France</td><td>D</td><td>3</td><td>0</td><td>1</td><td>2</td><td>7</td><td>9</td><td>-2</td><td>1</td></tr><tr><td>Scotland</td><td>A</td><td>3</td><td>2</td><td>0</td><td>1</td><td>10</td><td>8</td><td>2</td><td>6</td><td>Albania (4)</td><td></td><td></td><td></td><td></td><td></td><td></td><td></td><td></td><td></td><td></td><td></td><td>Belgium (1)</td><td></td><td>Austria</td><td>D</td><td>3</td><td>3</td><td>0</td><td>0</td><td>7</td><td>4</td><td>3</td><td>9</td></tr><tr><td>Hungary</td><td>A</td><td>3</td><td>1</td><td>0</td><td>2</td><td>6</td><td>7</td><td>-1</td><td>3</td><td>Switzerland (0)</td><td></td><td></td><td></td><td></td><td></td><td></td><td></td><td></td><td></td><td></td><td></td><td>Italy (2)</td><td></td><td>Netherlands</td><td>D</td><td>3</td><td>1</td><td>1</td><td>1</td><td>11</td><td>9</td><td>2</td><td>4</td></tr><tr><td>Switzerland</td><td>A</td><td>3</td><td>1</td><td>0</td><td>2</td><td>10</td><td>11</td><td>-1</td><td>3</td><td></td><td></td><td>Czech Republic (1)</td><td></td><td></td><td></td><td></td><td></td><td></td><td></td><td>Slovenia (1)</td><td></td><td></td><td></td><td>Play-off Winner A</td><td>D</td><td>3</td><td>1</td><td>0</td><td>2</td><td>4</td><td>7</td><td>-3</td><td>3</td></tr><tr><td></td><td></td><td></td><td></td><td></td><td></td><td></td><td></td><td></td><td></td><td></td><td></td><td>Albania (2)</td><td></td><td></td><td></td><td></td><td></td><td></td><td></td><td>Croatia (2)</td><td></td><td></td><td></td><td></td><td></td><td></td><td></td><td></td><td></td><td></td><td></td><td></td><td></td></tr><tr><td>Italy</td><td>B</td><td>3</td><td>2</td><td>0</td><td>1</td><td>9</td><td>11</td><td>-2</td><td>6</td><td>Scotland (1)</td><td></td><td></td><td></td><td></td><td></td><td>Italy (4)</td><td></td><td></td><td></td><td></td><td></td><td>Austria (3)</td><td></td><td>Slovakia</td><td>E</td><td>3</td><td>0</td><td>0</td><td>3</td><td>4</td><td>9</td><td>-5</td><td>0</td></tr><tr><td>Croatia</td><td>B</td><td>3</td><td>2</td><td>0</td><td>1</td><td>7</td><td>5</td><td>2</td><td>6</td><td>Denmark (2)</td><td></td><td></td><td></td><td></td><td></td><td>Netherlands (1)</td><td></td><td></td><td></td><td></td><td></td><td>Play-off Winner C (0)</td><td></td><td>Belgium</td><td>E</td><td>3</td><td>2</td><td>1</td><td>0</td><td>5</td><td>2</td><td>3</td><td>7</td></tr><tr><td>Spain</td><td>B</td><td>3</td><td>0</td><td>0</td><td>3</td><td>3</td><td>7</td><td>-4</td><td>0</td><td></td><td></td><td></td><td></td><td>Albania (1)</td><td></td><td></td><td></td><td></td><td></td><td></td><td></td><td></td><td></td><td>Romania</td><td>E</td><td>3</td><td>2</td><td>1</td><td>0</td><td>8</td><td>6</td><td>2</td><td>7</td></tr><tr><td>Albania</td><td>B</td><td>3</td><td>2</td><td>0</td><td>1</td><td>11</td><td>7</td><td>4</td><td>6</td><td></td><td></td><td></td><td></td><td>Italy (5)</td><td></td><td></td><td></td><td></td><td></td><td></td><td></td><td></td><td></td><td>Play-off Winner B</td><td>E</td><td>3</td><td>1</td><td>0</td><td>2</td><td>8</td><td>8</td><td>0</td><td>3</td></tr><tr><td></td><td></td><td></td><td></td><td></td><td></td><td></td><td></td><td></td><td></td><td>Czech Republic (2)</td><td></td><td></td><td></td><td></td><td></td><td></td><td></td><td></td><td></td><td></td><td></td><td>Slovenia (1)</td><td></td><td></td><td></td><td></td><td></td><td></td><td></td><td></td><td></td><td></td><td></td></tr><tr><td>Serbia</td><td>C</td><td>3</td><td>1</td><td>0</td><td>2</td><td>5</td><td>10</td><td>-5</td><td>3</td><td>Serbia (0)</td><td></td><td></td><td></td><td></td><td></td><td></td><td></td><td>Croatia (1)</td><td></td><td></td><td></td><td>Play-off Winner A (0)</td><td></td><td>Play-off Winner C</td><td>F</td><td>3</td><td>2</td><td>0</td><td>1</td><td>9</td><td>9</td><td>0</td><td>6</td></tr><tr><td>Denmark</td><td>C</td><td>3</td><td>2</td><td>0</td><td>1</td><td>10</td><td>4</td><td>6</td><td>6</td><td></td><td></td><td>Italy (5)</td><td></td><td></td><td></td><td></td><td></td><td>Netherlands (4)</td><td></td><td>Netherlands (5)</td><td></td><td></td><td></td><td>Portugal</td><td>F</td><td>3</td><td>0</td><td>0</td><td>3</td><td>1</td><td>8</td><td>-7</td><td>0</td></tr><tr><td>Slovenia</td><td>C</td><td>3</td><td>2</td><td>1</td><td>0</td><td>12</td><td>8</td><td>4</td><td>7</td><td></td><td></td><td>Austria (2)</td><td></td><td></td><td></td><td></td><td></td><td></td><td></td><td>Denmark (2)</td><td></td><td></td><td></td><td>Turkey</td><td>F</td><td>3</td><td>1</td><td>0</td><td>2</td><td>10</td><td>9</td><td>1</td><td>3</td></tr><tr><td>England</td><td>C</td><td>3</td><td>0</td><td>1</td><td>2</td><td>9</td><td>14</td><td>-5</td><td>1</td><td>Netherlands (5)</td><td></td><td></td><td></td><td></td><td></td><td></td><td></td><td></td><td></td><td></td><td></td><td>Germany (1)</td><td></td><td>Czech Republic</td><td>F</td><td>3</td><td>3</td><td>0</td><td>0</td><td>12</td><td>6</td><td>6</td><td>9</td></tr><tr><td></td><td></td><td></td><td></td><td></td><td></td><td></td><td></td><td></td><td></td><td>Romania (2)</td><td></td><td></td><td></td><td></td><td></td><td></td><td></td><td></td><td></td><td></td><td></td><td>Croatia (2)</td><td></td><td></td><td></td><td></td><td></td><td></td><td></td><td></td><td></td><td></td><td></td></tr><tr><td></td><td></td><td></td><td></td><td></td><td></td><td></td><td></td><td></td><td></td><td></td><td></td><td></td><td></td><td></td><td></td><td></td><td></td><td></td><td></td><td></td><td></td><td></td><td></td><td></td><td></td><td></td><td></td><td></td><td></td><td></td><td></td><td></td><td></td></tr><tr><td></td><td></td><td></td><td></td><td></td><td></td><td></td><td></td><td></td><td></td><td></td><td></td><td></td><td></td><td></td><td></td><td></td><td></td><td></td><td></td><td></td><td></td><td></td><td></td><td></td><td></td><td></td><td></td><td></td><td></td><td></td><td></td><td></td><td></td></tr><tr><td></td><td></td><td></td><td></td><td></td><td></td><td></td><td></td><td></td><td></td><td></td><td></td><td></td><td></td><td></td><td></td><td></td><td></td><td></td><td></td><td></td><td></td><td></td><td></td><td></td><td></td><td></td><td></td><td></td><td></td><td></td><td></td><td></td><td></td></tr><tr><td></td><td></td><td></td><td></td><td></td><td></td><td></td><td></td><td></td><td></td><td></td><td></td><td></td><td></td><td></td><td></td><td></td><td></td><td></td><td></td><td></td><td></td><td></td><td></td><td></td><td></td><td></td><td></td><td></td><td></td><td></td><td></td><td></td><td></td></tr></tbody></table></div>"
      ]
     },
     "metadata": {
      "application/vnd.databricks.v1+output": {
       "addedWidgets": {},
       "aggData": [],
       "aggError": "",
       "aggOverflow": false,
       "aggSchema": [],
       "aggSeriesLimitReached": false,
       "aggType": "",
       "arguments": {},
       "columnCustomDisplayInfos": {},
       "data": [
        [
         "",
         "",
         "",
         "",
         "",
         "",
         "",
         "",
         "",
         "",
         "",
         "",
         "",
         "",
         "",
         "",
         "",
         "",
         "",
         "",
         "",
         "",
         "",
         "",
         "",
         "",
         "",
         "",
         "",
         "",
         "",
         "",
         "",
         ""
        ],
        [
         "Germany",
         "A",
         "3",
         "2",
         "0",
         "1",
         "7",
         "7",
         "0",
         "6",
         "",
         "",
         "",
         "",
         "",
         "",
         "",
         "",
         "",
         "",
         "",
         "",
         "",
         "",
         "France",
         "D",
         "3",
         "0",
         "1",
         "2",
         "7",
         "9",
         "-2",
         "1"
        ],
        [
         "Scotland",
         "A",
         "3",
         "2",
         "0",
         "1",
         "10",
         "8",
         "2",
         "6",
         "Albania (4)",
         "",
         "",
         "",
         "",
         "",
         "",
         "",
         "",
         "",
         "",
         "",
         "Belgium (1)",
         "",
         "Austria",
         "D",
         "3",
         "3",
         "0",
         "0",
         "7",
         "4",
         "3",
         "9"
        ],
        [
         "Hungary",
         "A",
         "3",
         "1",
         "0",
         "2",
         "6",
         "7",
         "-1",
         "3",
         "Switzerland (0)",
         "",
         "",
         "",
         "",
         "",
         "",
         "",
         "",
         "",
         "",
         "",
         "Italy (2)",
         "",
         "Netherlands",
         "D",
         "3",
         "1",
         "1",
         "1",
         "11",
         "9",
         "2",
         "4"
        ],
        [
         "Switzerland",
         "A",
         "3",
         "1",
         "0",
         "2",
         "10",
         "11",
         "-1",
         "3",
         "",
         "",
         "Czech Republic (1)",
         "",
         "",
         "",
         "",
         "",
         "",
         "",
         "Slovenia (1)",
         "",
         "",
         "",
         "Play-off Winner A",
         "D",
         "3",
         "1",
         "0",
         "2",
         "4",
         "7",
         "-3",
         "3"
        ],
        [
         "",
         "",
         "",
         "",
         "",
         "",
         "",
         "",
         "",
         "",
         "",
         "",
         "Albania (2)",
         "",
         "",
         "",
         "",
         "",
         "",
         "",
         "Croatia (2)",
         "",
         "",
         "",
         "",
         "",
         "",
         "",
         "",
         "",
         "",
         "",
         "",
         ""
        ],
        [
         "Italy",
         "B",
         "3",
         "2",
         "0",
         "1",
         "9",
         "11",
         "-2",
         "6",
         "Scotland (1)",
         "",
         "",
         "",
         "",
         "",
         "Italy (4)",
         "",
         "",
         "",
         "",
         "",
         "Austria (3)",
         "",
         "Slovakia",
         "E",
         "3",
         "0",
         "0",
         "3",
         "4",
         "9",
         "-5",
         "0"
        ],
        [
         "Croatia",
         "B",
         "3",
         "2",
         "0",
         "1",
         "7",
         "5",
         "2",
         "6",
         "Denmark (2)",
         "",
         "",
         "",
         "",
         "",
         "Netherlands (1)",
         "",
         "",
         "",
         "",
         "",
         "Play-off Winner C (0)",
         "",
         "Belgium",
         "E",
         "3",
         "2",
         "1",
         "0",
         "5",
         "2",
         "3",
         "7"
        ],
        [
         "Spain",
         "B",
         "3",
         "0",
         "0",
         "3",
         "3",
         "7",
         "-4",
         "0",
         "",
         "",
         "",
         "",
         "Albania (1)",
         "",
         "",
         "",
         "",
         "",
         "",
         "",
         "",
         "",
         "Romania",
         "E",
         "3",
         "2",
         "1",
         "0",
         "8",
         "6",
         "2",
         "7"
        ],
        [
         "Albania",
         "B",
         "3",
         "2",
         "0",
         "1",
         "11",
         "7",
         "4",
         "6",
         "",
         "",
         "",
         "",
         "Italy (5)",
         "",
         "",
         "",
         "",
         "",
         "",
         "",
         "",
         "",
         "Play-off Winner B",
         "E",
         "3",
         "1",
         "0",
         "2",
         "8",
         "8",
         "0",
         "3"
        ],
        [
         "",
         "",
         "",
         "",
         "",
         "",
         "",
         "",
         "",
         "",
         "Czech Republic (2)",
         "",
         "",
         "",
         "",
         "",
         "",
         "",
         "",
         "",
         "",
         "",
         "Slovenia (1)",
         "",
         "",
         "",
         "",
         "",
         "",
         "",
         "",
         "",
         "",
         ""
        ],
        [
         "Serbia",
         "C",
         "3",
         "1",
         "0",
         "2",
         "5",
         "10",
         "-5",
         "3",
         "Serbia (0)",
         "",
         "",
         "",
         "",
         "",
         "",
         "",
         "Croatia (1)",
         "",
         "",
         "",
         "Play-off Winner A (0)",
         "",
         "Play-off Winner C",
         "F",
         "3",
         "2",
         "0",
         "1",
         "9",
         "9",
         "0",
         "6"
        ],
        [
         "Denmark",
         "C",
         "3",
         "2",
         "0",
         "1",
         "10",
         "4",
         "6",
         "6",
         "",
         "",
         "Italy (5)",
         "",
         "",
         "",
         "",
         "",
         "Netherlands (4)",
         "",
         "Netherlands (5)",
         "",
         "",
         "",
         "Portugal",
         "F",
         "3",
         "0",
         "0",
         "3",
         "1",
         "8",
         "-7",
         "0"
        ],
        [
         "Slovenia",
         "C",
         "3",
         "2",
         "1",
         "0",
         "12",
         "8",
         "4",
         "7",
         "",
         "",
         "Austria (2)",
         "",
         "",
         "",
         "",
         "",
         "",
         "",
         "Denmark (2)",
         "",
         "",
         "",
         "Turkey",
         "F",
         "3",
         "1",
         "0",
         "2",
         "10",
         "9",
         "1",
         "3"
        ],
        [
         "England",
         "C",
         "3",
         "0",
         "1",
         "2",
         "9",
         "14",
         "-5",
         "1",
         "Netherlands (5)",
         "",
         "",
         "",
         "",
         "",
         "",
         "",
         "",
         "",
         "",
         "",
         "Germany (1)",
         "",
         "Czech Republic",
         "F",
         "3",
         "3",
         "0",
         "0",
         "12",
         "6",
         "6",
         "9"
        ],
        [
         "",
         "",
         "",
         "",
         "",
         "",
         "",
         "",
         "",
         "",
         "Romania (2)",
         "",
         "",
         "",
         "",
         "",
         "",
         "",
         "",
         "",
         "",
         "",
         "Croatia (2)",
         "",
         "",
         "",
         "",
         "",
         "",
         "",
         "",
         "",
         "",
         ""
        ],
        [
         "",
         "",
         "",
         "",
         "",
         "",
         "",
         "",
         "",
         "",
         "",
         "",
         "",
         "",
         "",
         "",
         "",
         "",
         "",
         "",
         "",
         "",
         "",
         "",
         "",
         "",
         "",
         "",
         "",
         "",
         "",
         "",
         "",
         ""
        ],
        [
         "",
         "",
         "",
         "",
         "",
         "",
         "",
         "",
         "",
         "",
         "",
         "",
         "",
         "",
         "",
         "",
         "",
         "",
         "",
         "",
         "",
         "",
         "",
         "",
         "",
         "",
         "",
         "",
         "",
         "",
         "",
         "",
         "",
         ""
        ],
        [
         "",
         "",
         "",
         "",
         "",
         "",
         "",
         "",
         "",
         "",
         "",
         "",
         "",
         "",
         "",
         "",
         "",
         "",
         "",
         "",
         "",
         "",
         "",
         "",
         "",
         "",
         "",
         "",
         "",
         "",
         "",
         "",
         "",
         ""
        ],
        [
         "",
         "",
         "",
         "",
         "",
         "",
         "",
         "",
         "",
         "",
         "",
         "",
         "",
         "",
         "",
         "",
         "",
         "",
         "",
         "",
         "",
         "",
         "",
         "",
         "",
         "",
         "",
         "",
         "",
         "",
         "",
         "",
         "",
         ""
        ]
       ],
       "datasetInfos": [],
       "dbfsResultPath": null,
       "isJsonSchema": true,
       "metadata": {},
       "overflow": false,
       "plotOptions": {
        "customPlotOptions": {},
        "displayType": "table",
        "pivotAggregation": null,
        "pivotColumns": null,
        "xColumns": null,
        "yColumns": null
       },
       "removedWidgets": [],
       "schema": [
        {
         "metadata": "{}",
         "name": "Teamsg1",
         "type": "\"string\""
        },
        {
         "metadata": "{}",
         "name": "Groupg1",
         "type": "\"string\""
        },
        {
         "metadata": "{}",
         "name": "Pldg1",
         "type": "\"string\""
        },
        {
         "metadata": "{}",
         "name": "Wg1",
         "type": "\"string\""
        },
        {
         "metadata": "{}",
         "name": "Dg1",
         "type": "\"string\""
        },
        {
         "metadata": "{}",
         "name": "Lg1",
         "type": "\"string\""
        },
        {
         "metadata": "{}",
         "name": "GFg1",
         "type": "\"string\""
        },
        {
         "metadata": "{}",
         "name": "GAg1",
         "type": "\"string\""
        },
        {
         "metadata": "{}",
         "name": "GDg1",
         "type": "\"string\""
        },
        {
         "metadata": "{}",
         "name": "Ptsg1",
         "type": "\"string\""
        },
        {
         "metadata": "{}",
         "name": "Round_of_16",
         "type": "\"string\""
        },
        {
         "metadata": "{}",
         "name": "rest",
         "type": "\"string\""
        },
        {
         "metadata": "{}",
         "name": "Quater_Finalq2",
         "type": "\"string\""
        },
        {
         "metadata": "{}",
         "name": "restq2",
         "type": "\"string\""
        },
        {
         "metadata": "{}",
         "name": "Semi_Finals1",
         "type": "\"string\""
        },
        {
         "metadata": "{}",
         "name": "rests1",
         "type": "\"string\""
        },
        {
         "metadata": "{}",
         "name": "Finalf",
         "type": "\"string\""
        },
        {
         "metadata": "{}",
         "name": "spacef",
         "type": "\"string\""
        },
        {
         "metadata": "{}",
         "name": "Semi_Finals2",
         "type": "\"string\""
        },
        {
         "metadata": "{}",
         "name": "rests2",
         "type": "\"string\""
        },
        {
         "metadata": "{}",
         "name": "Quater_Finalq1",
         "type": "\"string\""
        },
        {
         "metadata": "{}",
         "name": "restq1",
         "type": "\"string\""
        },
        {
         "metadata": "{}",
         "name": "Round_of_16r2",
         "type": "\"string\""
        },
        {
         "metadata": "{}",
         "name": "restr2",
         "type": "\"string\""
        },
        {
         "metadata": "{}",
         "name": "Teamsg2",
         "type": "\"string\""
        },
        {
         "metadata": "{}",
         "name": "Groupg2",
         "type": "\"string\""
        },
        {
         "metadata": "{}",
         "name": "Pldg2",
         "type": "\"string\""
        },
        {
         "metadata": "{}",
         "name": "Wg2",
         "type": "\"string\""
        },
        {
         "metadata": "{}",
         "name": "Dg2",
         "type": "\"string\""
        },
        {
         "metadata": "{}",
         "name": "Lg2",
         "type": "\"string\""
        },
        {
         "metadata": "{}",
         "name": "GFg2",
         "type": "\"string\""
        },
        {
         "metadata": "{}",
         "name": "GAg2",
         "type": "\"string\""
        },
        {
         "metadata": "{}",
         "name": "GDg2",
         "type": "\"string\""
        },
        {
         "metadata": "{}",
         "name": "Ptsg2",
         "type": "\"string\""
        }
       ],
       "type": "table"
      }
     },
     "output_type": "display_data"
    }
   ],
   "source": [
    "left_side_qf.columns = [f\"{col}q2\" for col in left_side_qf.columns]\n",
    "\n",
    "merged_df = pd.concat([left_side_r16, left_side_qf], axis=1)\n",
    "\n",
    "left_side_sf.columns = [f\"{col}s1\" for col in left_side_sf.columns]\n",
    "merged_df = pd.concat([merged_df, left_side_sf], axis=1)\n",
    "\n",
    "visualize_final.columns = [f\"{col}f\" for col in visualize_final.columns]\n",
    "merged_df = pd.concat([merged_df, visualize_final], axis=1)\n",
    "\n",
    "right_side_sf.columns = [f\"{col}s2\" for col in right_side_sf.columns]\n",
    "\n",
    "merged_df = pd.concat([merged_df, right_side_sf], axis=1)\n",
    "\n",
    "\n",
    "\n",
    "right_side_qf.columns = [f\"{col}q1\" for col in right_side_qf.columns]\n",
    "# Concatenate the DataFrames\n",
    "merged_df = pd.concat([merged_df, right_side_qf], axis=1)\n",
    "\n",
    "right_side_r16.columns = [f\"{col}r2\" for col in right_side_r16.columns]\n",
    "\n",
    "# Concatenate the DataFrames\n",
    "merged_df = pd.concat([merged_df,right_side_r16], axis=1)\n",
    "\n",
    "left_table.columns = [f\"{col}g1\" for col in left_table.columns]\n",
    "right_table.columns = [f\"{col}g2\" for col in right_table.columns]\n",
    "\n",
    "# Concatenate the DataFrames\n",
    "merged_df = pd.concat([left_table,merged_df, right_table], axis=1)\n",
    "\n",
    "merged_df.fillna('', inplace=True)\n",
    "\n",
    "display(merged_df)"
   ]
  },
  {
   "cell_type": "code",
   "execution_count": 0,
   "metadata": {
    "application/vnd.databricks.v1+cell": {
     "cellMetadata": {
      "byteLimit": 2048000,
      "rowLimit": 10000
     },
     "inputWidgets": {},
     "nuid": "627d745e-c85e-4d99-9423-9555663cc0ea",
     "showTitle": false,
     "title": ""
    }
   },
   "outputs": [
    {
     "output_type": "display_data",
     "data": {
      "text/plain": [
       "\u001B[0;31m---------------------------------------------------------------------------\u001B[0m\n",
       "\u001B[0;31mValueError\u001B[0m                                Traceback (most recent call last)\n",
       "File \u001B[0;32m<command-1016821959659674>:5\u001B[0m\n",
       "\u001B[1;32m      3\u001B[0m merged_df\u001B[38;5;241m.\u001B[39mfillna(\u001B[38;5;124m'\u001B[39m\u001B[38;5;124m'\u001B[39m, inplace\u001B[38;5;241m=\u001B[39m\u001B[38;5;28;01mTrue\u001B[39;00m)\n",
       "\u001B[1;32m      4\u001B[0m \u001B[38;5;66;03m# Display the DataFrame\u001B[39;00m\n",
       "\u001B[0;32m----> 5\u001B[0m display(merged_df)\n",
       "\n",
       "File \u001B[0;32m/databricks/python_shell/dbruntime/display.py:88\u001B[0m, in \u001B[0;36mDisplay.display\u001B[0;34m(self, input, *args, **kwargs)\u001B[0m\n",
       "\u001B[1;32m     86\u001B[0m     \u001B[38;5;28mself\u001B[39m\u001B[38;5;241m.\u001B[39mdisplay(\u001B[38;5;28mself\u001B[39m\u001B[38;5;241m.\u001B[39msparkSession\u001B[38;5;241m.\u001B[39mcreateDataFrame(\u001B[38;5;28minput\u001B[39m))\n",
       "\u001B[1;32m     87\u001B[0m \u001B[38;5;28;01melif\u001B[39;00m \u001B[38;5;28mtype\u001B[39m(\u001B[38;5;28minput\u001B[39m)\u001B[38;5;241m.\u001B[39m\u001B[38;5;18m__module__\u001B[39m \u001B[38;5;241m==\u001B[39m \u001B[38;5;124m'\u001B[39m\u001B[38;5;124mpandas.core.frame\u001B[39m\u001B[38;5;124m'\u001B[39m \u001B[38;5;129;01mand\u001B[39;00m \u001B[38;5;28mtype\u001B[39m(\u001B[38;5;28minput\u001B[39m)\u001B[38;5;241m.\u001B[39m\u001B[38;5;18m__name__\u001B[39m \u001B[38;5;241m==\u001B[39m \u001B[38;5;124m'\u001B[39m\u001B[38;5;124mDataFrame\u001B[39m\u001B[38;5;124m'\u001B[39m:\n",
       "\u001B[0;32m---> 88\u001B[0m     \u001B[38;5;28mself\u001B[39m\u001B[38;5;241m.\u001B[39mdisplay(\u001B[38;5;28;43mself\u001B[39;49m\u001B[38;5;241;43m.\u001B[39;49m\u001B[43msparkSession\u001B[49m\u001B[38;5;241;43m.\u001B[39;49m\u001B[43mcreateDataFrame\u001B[49m\u001B[43m(\u001B[49m\u001B[38;5;28;43minput\u001B[39;49m\u001B[43m)\u001B[49m)\n",
       "\u001B[1;32m     89\u001B[0m \u001B[38;5;28;01melif\u001B[39;00m \u001B[38;5;28mtype\u001B[39m(\u001B[38;5;28minput\u001B[39m)\u001B[38;5;241m.\u001B[39m\u001B[38;5;18m__module__\u001B[39m \u001B[38;5;129;01min\u001B[39;00m (\u001B[38;5;124m'\u001B[39m\u001B[38;5;124mdatabricks.koalas.frame\u001B[39m\u001B[38;5;124m'\u001B[39m, \u001B[38;5;124m'\u001B[39m\u001B[38;5;124mpyspark.pandas.frame\u001B[39m\u001B[38;5;124m'\u001B[39m) \u001B[38;5;129;01mand\u001B[39;00m \\\n",
       "\u001B[1;32m     90\u001B[0m         \u001B[38;5;28mtype\u001B[39m(\u001B[38;5;28minput\u001B[39m)\u001B[38;5;241m.\u001B[39m\u001B[38;5;18m__name__\u001B[39m \u001B[38;5;241m==\u001B[39m \u001B[38;5;124m'\u001B[39m\u001B[38;5;124mDataFrame\u001B[39m\u001B[38;5;124m'\u001B[39m:\n",
       "\u001B[1;32m     91\u001B[0m     index_col \u001B[38;5;241m=\u001B[39m kwargs\u001B[38;5;241m.\u001B[39mget(\u001B[38;5;124m'\u001B[39m\u001B[38;5;124mindex_col\u001B[39m\u001B[38;5;124m'\u001B[39m)\n",
       "\n",
       "File \u001B[0;32m/databricks/spark/python/pyspark/instrumentation_utils.py:48\u001B[0m, in \u001B[0;36m_wrap_function.<locals>.wrapper\u001B[0;34m(*args, **kwargs)\u001B[0m\n",
       "\u001B[1;32m     46\u001B[0m start \u001B[38;5;241m=\u001B[39m time\u001B[38;5;241m.\u001B[39mperf_counter()\n",
       "\u001B[1;32m     47\u001B[0m \u001B[38;5;28;01mtry\u001B[39;00m:\n",
       "\u001B[0;32m---> 48\u001B[0m     res \u001B[38;5;241m=\u001B[39m \u001B[43mfunc\u001B[49m\u001B[43m(\u001B[49m\u001B[38;5;241;43m*\u001B[39;49m\u001B[43margs\u001B[49m\u001B[43m,\u001B[49m\u001B[43m \u001B[49m\u001B[38;5;241;43m*\u001B[39;49m\u001B[38;5;241;43m*\u001B[39;49m\u001B[43mkwargs\u001B[49m\u001B[43m)\u001B[49m\n",
       "\u001B[1;32m     49\u001B[0m     logger\u001B[38;5;241m.\u001B[39mlog_success(\n",
       "\u001B[1;32m     50\u001B[0m         module_name, class_name, function_name, time\u001B[38;5;241m.\u001B[39mperf_counter() \u001B[38;5;241m-\u001B[39m start, signature\n",
       "\u001B[1;32m     51\u001B[0m     )\n",
       "\u001B[1;32m     52\u001B[0m     \u001B[38;5;28;01mreturn\u001B[39;00m res\n",
       "\n",
       "File \u001B[0;32m/databricks/spark/python/pyspark/sql/session.py:1213\u001B[0m, in \u001B[0;36mSparkSession.createDataFrame\u001B[0;34m(self, data, schema, samplingRatio, verifySchema)\u001B[0m\n",
       "\u001B[1;32m   1209\u001B[0m     data \u001B[38;5;241m=\u001B[39m pd\u001B[38;5;241m.\u001B[39mDataFrame(data, columns\u001B[38;5;241m=\u001B[39mcolumn_names)\n",
       "\u001B[1;32m   1211\u001B[0m \u001B[38;5;28;01mif\u001B[39;00m has_pandas \u001B[38;5;129;01mand\u001B[39;00m \u001B[38;5;28misinstance\u001B[39m(data, pd\u001B[38;5;241m.\u001B[39mDataFrame):\n",
       "\u001B[1;32m   1212\u001B[0m     \u001B[38;5;66;03m# Create a DataFrame from pandas DataFrame.\u001B[39;00m\n",
       "\u001B[0;32m-> 1213\u001B[0m     \u001B[38;5;28;01mreturn\u001B[39;00m \u001B[38;5;28;43msuper\u001B[39;49m\u001B[43m(\u001B[49m\u001B[43mSparkSession\u001B[49m\u001B[43m,\u001B[49m\u001B[43m \u001B[49m\u001B[38;5;28;43mself\u001B[39;49m\u001B[43m)\u001B[49m\u001B[38;5;241;43m.\u001B[39;49m\u001B[43mcreateDataFrame\u001B[49m\u001B[43m(\u001B[49m\u001B[43m  \u001B[49m\u001B[38;5;66;43;03m# type: ignore[call-overload]\u001B[39;49;00m\n",
       "\u001B[1;32m   1214\u001B[0m \u001B[43m        \u001B[49m\u001B[43mdata\u001B[49m\u001B[43m,\u001B[49m\u001B[43m \u001B[49m\u001B[43mschema\u001B[49m\u001B[43m,\u001B[49m\u001B[43m \u001B[49m\u001B[43msamplingRatio\u001B[49m\u001B[43m,\u001B[49m\u001B[43m \u001B[49m\u001B[43mverifySchema\u001B[49m\n",
       "\u001B[1;32m   1215\u001B[0m \u001B[43m    \u001B[49m\u001B[43m)\u001B[49m\n",
       "\u001B[1;32m   1216\u001B[0m \u001B[38;5;28;01mreturn\u001B[39;00m \u001B[38;5;28mself\u001B[39m\u001B[38;5;241m.\u001B[39m_create_dataframe(\n",
       "\u001B[1;32m   1217\u001B[0m     data, schema, samplingRatio, verifySchema  \u001B[38;5;66;03m# type: ignore[arg-type]\u001B[39;00m\n",
       "\u001B[1;32m   1218\u001B[0m )\n",
       "\n",
       "File \u001B[0;32m/databricks/spark/python/pyspark/sql/pandas/conversion.py:478\u001B[0m, in \u001B[0;36mSparkConversionMixin.createDataFrame\u001B[0;34m(self, data, schema, samplingRatio, verifySchema)\u001B[0m\n",
       "\u001B[1;32m    476\u001B[0m             warn(msg)\n",
       "\u001B[1;32m    477\u001B[0m             \u001B[38;5;28;01mraise\u001B[39;00m\n",
       "\u001B[0;32m--> 478\u001B[0m converted_data \u001B[38;5;241m=\u001B[39m \u001B[38;5;28;43mself\u001B[39;49m\u001B[38;5;241;43m.\u001B[39;49m\u001B[43m_convert_from_pandas\u001B[49m\u001B[43m(\u001B[49m\u001B[43mdata\u001B[49m\u001B[43m,\u001B[49m\u001B[43m \u001B[49m\u001B[43mschema\u001B[49m\u001B[43m,\u001B[49m\u001B[43m \u001B[49m\u001B[43mtimezone\u001B[49m\u001B[43m)\u001B[49m\n",
       "\u001B[1;32m    479\u001B[0m \u001B[38;5;28;01mreturn\u001B[39;00m \u001B[38;5;28mself\u001B[39m\u001B[38;5;241m.\u001B[39m_create_dataframe(converted_data, schema, samplingRatio, verifySchema)\n",
       "\n",
       "File \u001B[0;32m/databricks/spark/python/pyspark/sql/pandas/conversion.py:542\u001B[0m, in \u001B[0;36mSparkConversionMixin._convert_from_pandas\u001B[0;34m(self, pdf, schema, timezone)\u001B[0m\n",
       "\u001B[1;32m    537\u001B[0m             pdf[column] \u001B[38;5;241m=\u001B[39m pd\u001B[38;5;241m.\u001B[39mSeries(\n",
       "\u001B[1;32m    538\u001B[0m                 ser\u001B[38;5;241m.\u001B[39mdt\u001B[38;5;241m.\u001B[39mto_pytimedelta(), index\u001B[38;5;241m=\u001B[39mser\u001B[38;5;241m.\u001B[39mindex, dtype\u001B[38;5;241m=\u001B[39m\u001B[38;5;124m\"\u001B[39m\u001B[38;5;124mobject\u001B[39m\u001B[38;5;124m\"\u001B[39m, name\u001B[38;5;241m=\u001B[39mser\u001B[38;5;241m.\u001B[39mname\n",
       "\u001B[1;32m    539\u001B[0m             )\n",
       "\u001B[1;32m    541\u001B[0m \u001B[38;5;66;03m# Convert pandas.DataFrame to list of numpy records\u001B[39;00m\n",
       "\u001B[0;32m--> 542\u001B[0m np_records \u001B[38;5;241m=\u001B[39m \u001B[43mpdf\u001B[49m\u001B[38;5;241;43m.\u001B[39;49m\u001B[43mto_records\u001B[49m\u001B[43m(\u001B[49m\u001B[43mindex\u001B[49m\u001B[38;5;241;43m=\u001B[39;49m\u001B[38;5;28;43;01mFalse\u001B[39;49;00m\u001B[43m)\u001B[49m\n",
       "\u001B[1;32m    544\u001B[0m \u001B[38;5;66;03m# Check if any columns need to be fixed for Spark to infer properly\u001B[39;00m\n",
       "\u001B[1;32m    545\u001B[0m \u001B[38;5;28;01mif\u001B[39;00m \u001B[38;5;28mlen\u001B[39m(np_records) \u001B[38;5;241m>\u001B[39m \u001B[38;5;241m0\u001B[39m:\n",
       "\n",
       "File \u001B[0;32m/databricks/python/lib/python3.9/site-packages/pandas/core/frame.py:2438\u001B[0m, in \u001B[0;36mDataFrame.to_records\u001B[0;34m(self, index, column_dtypes, index_dtypes)\u001B[0m\n",
       "\u001B[1;32m   2435\u001B[0m         msg \u001B[38;5;241m=\u001B[39m \u001B[38;5;124mf\u001B[39m\u001B[38;5;124m\"\u001B[39m\u001B[38;5;124mInvalid dtype \u001B[39m\u001B[38;5;132;01m{\u001B[39;00mdtype_mapping\u001B[38;5;132;01m}\u001B[39;00m\u001B[38;5;124m specified for \u001B[39m\u001B[38;5;132;01m{\u001B[39;00melement\u001B[38;5;132;01m}\u001B[39;00m\u001B[38;5;124m \u001B[39m\u001B[38;5;132;01m{\u001B[39;00mname\u001B[38;5;132;01m}\u001B[39;00m\u001B[38;5;124m\"\u001B[39m\n",
       "\u001B[1;32m   2436\u001B[0m         \u001B[38;5;28;01mraise\u001B[39;00m \u001B[38;5;167;01mValueError\u001B[39;00m(msg)\n",
       "\u001B[0;32m-> 2438\u001B[0m \u001B[38;5;28;01mreturn\u001B[39;00m \u001B[43mnp\u001B[49m\u001B[38;5;241;43m.\u001B[39;49m\u001B[43mrec\u001B[49m\u001B[38;5;241;43m.\u001B[39;49m\u001B[43mfromarrays\u001B[49m\u001B[43m(\u001B[49m\u001B[43marrays\u001B[49m\u001B[43m,\u001B[49m\u001B[43m \u001B[49m\u001B[43mdtype\u001B[49m\u001B[38;5;241;43m=\u001B[39;49m\u001B[43m{\u001B[49m\u001B[38;5;124;43m\"\u001B[39;49m\u001B[38;5;124;43mnames\u001B[39;49m\u001B[38;5;124;43m\"\u001B[39;49m\u001B[43m:\u001B[49m\u001B[43m \u001B[49m\u001B[43mnames\u001B[49m\u001B[43m,\u001B[49m\u001B[43m \u001B[49m\u001B[38;5;124;43m\"\u001B[39;49m\u001B[38;5;124;43mformats\u001B[39;49m\u001B[38;5;124;43m\"\u001B[39;49m\u001B[43m:\u001B[49m\u001B[43m \u001B[49m\u001B[43mformats\u001B[49m\u001B[43m}\u001B[49m\u001B[43m)\u001B[49m\n",
       "\n",
       "File \u001B[0;32m/databricks/python/lib/python3.9/site-packages/numpy/core/records.py:653\u001B[0m, in \u001B[0;36mfromarrays\u001B[0;34m(arrayList, dtype, shape, formats, names, titles, aligned, byteorder)\u001B[0m\n",
       "\u001B[1;32m    650\u001B[0m     formats \u001B[38;5;241m=\u001B[39m [obj\u001B[38;5;241m.\u001B[39mdtype \u001B[38;5;28;01mfor\u001B[39;00m obj \u001B[38;5;129;01min\u001B[39;00m arrayList]\n",
       "\u001B[1;32m    652\u001B[0m \u001B[38;5;28;01mif\u001B[39;00m dtype \u001B[38;5;129;01mis\u001B[39;00m \u001B[38;5;129;01mnot\u001B[39;00m \u001B[38;5;28;01mNone\u001B[39;00m:\n",
       "\u001B[0;32m--> 653\u001B[0m     descr \u001B[38;5;241m=\u001B[39m \u001B[43msb\u001B[49m\u001B[38;5;241;43m.\u001B[39;49m\u001B[43mdtype\u001B[49m\u001B[43m(\u001B[49m\u001B[43mdtype\u001B[49m\u001B[43m)\u001B[49m\n",
       "\u001B[1;32m    654\u001B[0m \u001B[38;5;28;01melse\u001B[39;00m:\n",
       "\u001B[1;32m    655\u001B[0m     descr \u001B[38;5;241m=\u001B[39m format_parser(formats, names, titles, aligned, byteorder)\u001B[38;5;241m.\u001B[39mdtype\n",
       "\n",
       "\u001B[0;31mValueError\u001B[0m: name already used as a name or title"
      ]
     },
     "metadata": {
      "application/vnd.databricks.v1+output": {
       "arguments": {},
       "data": "\u001B[0;31m---------------------------------------------------------------------------\u001B[0m\n\u001B[0;31mValueError\u001B[0m                                Traceback (most recent call last)\nFile \u001B[0;32m<command-1016821959659674>:5\u001B[0m\n\u001B[1;32m      3\u001B[0m merged_df\u001B[38;5;241m.\u001B[39mfillna(\u001B[38;5;124m'\u001B[39m\u001B[38;5;124m'\u001B[39m, inplace\u001B[38;5;241m=\u001B[39m\u001B[38;5;28;01mTrue\u001B[39;00m)\n\u001B[1;32m      4\u001B[0m \u001B[38;5;66;03m# Display the DataFrame\u001B[39;00m\n\u001B[0;32m----> 5\u001B[0m display(merged_df)\n\nFile \u001B[0;32m/databricks/python_shell/dbruntime/display.py:88\u001B[0m, in \u001B[0;36mDisplay.display\u001B[0;34m(self, input, *args, **kwargs)\u001B[0m\n\u001B[1;32m     86\u001B[0m     \u001B[38;5;28mself\u001B[39m\u001B[38;5;241m.\u001B[39mdisplay(\u001B[38;5;28mself\u001B[39m\u001B[38;5;241m.\u001B[39msparkSession\u001B[38;5;241m.\u001B[39mcreateDataFrame(\u001B[38;5;28minput\u001B[39m))\n\u001B[1;32m     87\u001B[0m \u001B[38;5;28;01melif\u001B[39;00m \u001B[38;5;28mtype\u001B[39m(\u001B[38;5;28minput\u001B[39m)\u001B[38;5;241m.\u001B[39m\u001B[38;5;18m__module__\u001B[39m \u001B[38;5;241m==\u001B[39m \u001B[38;5;124m'\u001B[39m\u001B[38;5;124mpandas.core.frame\u001B[39m\u001B[38;5;124m'\u001B[39m \u001B[38;5;129;01mand\u001B[39;00m \u001B[38;5;28mtype\u001B[39m(\u001B[38;5;28minput\u001B[39m)\u001B[38;5;241m.\u001B[39m\u001B[38;5;18m__name__\u001B[39m \u001B[38;5;241m==\u001B[39m \u001B[38;5;124m'\u001B[39m\u001B[38;5;124mDataFrame\u001B[39m\u001B[38;5;124m'\u001B[39m:\n\u001B[0;32m---> 88\u001B[0m     \u001B[38;5;28mself\u001B[39m\u001B[38;5;241m.\u001B[39mdisplay(\u001B[38;5;28;43mself\u001B[39;49m\u001B[38;5;241;43m.\u001B[39;49m\u001B[43msparkSession\u001B[49m\u001B[38;5;241;43m.\u001B[39;49m\u001B[43mcreateDataFrame\u001B[49m\u001B[43m(\u001B[49m\u001B[38;5;28;43minput\u001B[39;49m\u001B[43m)\u001B[49m)\n\u001B[1;32m     89\u001B[0m \u001B[38;5;28;01melif\u001B[39;00m \u001B[38;5;28mtype\u001B[39m(\u001B[38;5;28minput\u001B[39m)\u001B[38;5;241m.\u001B[39m\u001B[38;5;18m__module__\u001B[39m \u001B[38;5;129;01min\u001B[39;00m (\u001B[38;5;124m'\u001B[39m\u001B[38;5;124mdatabricks.koalas.frame\u001B[39m\u001B[38;5;124m'\u001B[39m, \u001B[38;5;124m'\u001B[39m\u001B[38;5;124mpyspark.pandas.frame\u001B[39m\u001B[38;5;124m'\u001B[39m) \u001B[38;5;129;01mand\u001B[39;00m \\\n\u001B[1;32m     90\u001B[0m         \u001B[38;5;28mtype\u001B[39m(\u001B[38;5;28minput\u001B[39m)\u001B[38;5;241m.\u001B[39m\u001B[38;5;18m__name__\u001B[39m \u001B[38;5;241m==\u001B[39m \u001B[38;5;124m'\u001B[39m\u001B[38;5;124mDataFrame\u001B[39m\u001B[38;5;124m'\u001B[39m:\n\u001B[1;32m     91\u001B[0m     index_col \u001B[38;5;241m=\u001B[39m kwargs\u001B[38;5;241m.\u001B[39mget(\u001B[38;5;124m'\u001B[39m\u001B[38;5;124mindex_col\u001B[39m\u001B[38;5;124m'\u001B[39m)\n\nFile \u001B[0;32m/databricks/spark/python/pyspark/instrumentation_utils.py:48\u001B[0m, in \u001B[0;36m_wrap_function.<locals>.wrapper\u001B[0;34m(*args, **kwargs)\u001B[0m\n\u001B[1;32m     46\u001B[0m start \u001B[38;5;241m=\u001B[39m time\u001B[38;5;241m.\u001B[39mperf_counter()\n\u001B[1;32m     47\u001B[0m \u001B[38;5;28;01mtry\u001B[39;00m:\n\u001B[0;32m---> 48\u001B[0m     res \u001B[38;5;241m=\u001B[39m \u001B[43mfunc\u001B[49m\u001B[43m(\u001B[49m\u001B[38;5;241;43m*\u001B[39;49m\u001B[43margs\u001B[49m\u001B[43m,\u001B[49m\u001B[43m \u001B[49m\u001B[38;5;241;43m*\u001B[39;49m\u001B[38;5;241;43m*\u001B[39;49m\u001B[43mkwargs\u001B[49m\u001B[43m)\u001B[49m\n\u001B[1;32m     49\u001B[0m     logger\u001B[38;5;241m.\u001B[39mlog_success(\n\u001B[1;32m     50\u001B[0m         module_name, class_name, function_name, time\u001B[38;5;241m.\u001B[39mperf_counter() \u001B[38;5;241m-\u001B[39m start, signature\n\u001B[1;32m     51\u001B[0m     )\n\u001B[1;32m     52\u001B[0m     \u001B[38;5;28;01mreturn\u001B[39;00m res\n\nFile \u001B[0;32m/databricks/spark/python/pyspark/sql/session.py:1213\u001B[0m, in \u001B[0;36mSparkSession.createDataFrame\u001B[0;34m(self, data, schema, samplingRatio, verifySchema)\u001B[0m\n\u001B[1;32m   1209\u001B[0m     data \u001B[38;5;241m=\u001B[39m pd\u001B[38;5;241m.\u001B[39mDataFrame(data, columns\u001B[38;5;241m=\u001B[39mcolumn_names)\n\u001B[1;32m   1211\u001B[0m \u001B[38;5;28;01mif\u001B[39;00m has_pandas \u001B[38;5;129;01mand\u001B[39;00m \u001B[38;5;28misinstance\u001B[39m(data, pd\u001B[38;5;241m.\u001B[39mDataFrame):\n\u001B[1;32m   1212\u001B[0m     \u001B[38;5;66;03m# Create a DataFrame from pandas DataFrame.\u001B[39;00m\n\u001B[0;32m-> 1213\u001B[0m     \u001B[38;5;28;01mreturn\u001B[39;00m \u001B[38;5;28;43msuper\u001B[39;49m\u001B[43m(\u001B[49m\u001B[43mSparkSession\u001B[49m\u001B[43m,\u001B[49m\u001B[43m \u001B[49m\u001B[38;5;28;43mself\u001B[39;49m\u001B[43m)\u001B[49m\u001B[38;5;241;43m.\u001B[39;49m\u001B[43mcreateDataFrame\u001B[49m\u001B[43m(\u001B[49m\u001B[43m  \u001B[49m\u001B[38;5;66;43;03m# type: ignore[call-overload]\u001B[39;49;00m\n\u001B[1;32m   1214\u001B[0m \u001B[43m        \u001B[49m\u001B[43mdata\u001B[49m\u001B[43m,\u001B[49m\u001B[43m \u001B[49m\u001B[43mschema\u001B[49m\u001B[43m,\u001B[49m\u001B[43m \u001B[49m\u001B[43msamplingRatio\u001B[49m\u001B[43m,\u001B[49m\u001B[43m \u001B[49m\u001B[43mverifySchema\u001B[49m\n\u001B[1;32m   1215\u001B[0m \u001B[43m    \u001B[49m\u001B[43m)\u001B[49m\n\u001B[1;32m   1216\u001B[0m \u001B[38;5;28;01mreturn\u001B[39;00m \u001B[38;5;28mself\u001B[39m\u001B[38;5;241m.\u001B[39m_create_dataframe(\n\u001B[1;32m   1217\u001B[0m     data, schema, samplingRatio, verifySchema  \u001B[38;5;66;03m# type: ignore[arg-type]\u001B[39;00m\n\u001B[1;32m   1218\u001B[0m )\n\nFile \u001B[0;32m/databricks/spark/python/pyspark/sql/pandas/conversion.py:478\u001B[0m, in \u001B[0;36mSparkConversionMixin.createDataFrame\u001B[0;34m(self, data, schema, samplingRatio, verifySchema)\u001B[0m\n\u001B[1;32m    476\u001B[0m             warn(msg)\n\u001B[1;32m    477\u001B[0m             \u001B[38;5;28;01mraise\u001B[39;00m\n\u001B[0;32m--> 478\u001B[0m converted_data \u001B[38;5;241m=\u001B[39m \u001B[38;5;28;43mself\u001B[39;49m\u001B[38;5;241;43m.\u001B[39;49m\u001B[43m_convert_from_pandas\u001B[49m\u001B[43m(\u001B[49m\u001B[43mdata\u001B[49m\u001B[43m,\u001B[49m\u001B[43m \u001B[49m\u001B[43mschema\u001B[49m\u001B[43m,\u001B[49m\u001B[43m \u001B[49m\u001B[43mtimezone\u001B[49m\u001B[43m)\u001B[49m\n\u001B[1;32m    479\u001B[0m \u001B[38;5;28;01mreturn\u001B[39;00m \u001B[38;5;28mself\u001B[39m\u001B[38;5;241m.\u001B[39m_create_dataframe(converted_data, schema, samplingRatio, verifySchema)\n\nFile \u001B[0;32m/databricks/spark/python/pyspark/sql/pandas/conversion.py:542\u001B[0m, in \u001B[0;36mSparkConversionMixin._convert_from_pandas\u001B[0;34m(self, pdf, schema, timezone)\u001B[0m\n\u001B[1;32m    537\u001B[0m             pdf[column] \u001B[38;5;241m=\u001B[39m pd\u001B[38;5;241m.\u001B[39mSeries(\n\u001B[1;32m    538\u001B[0m                 ser\u001B[38;5;241m.\u001B[39mdt\u001B[38;5;241m.\u001B[39mto_pytimedelta(), index\u001B[38;5;241m=\u001B[39mser\u001B[38;5;241m.\u001B[39mindex, dtype\u001B[38;5;241m=\u001B[39m\u001B[38;5;124m\"\u001B[39m\u001B[38;5;124mobject\u001B[39m\u001B[38;5;124m\"\u001B[39m, name\u001B[38;5;241m=\u001B[39mser\u001B[38;5;241m.\u001B[39mname\n\u001B[1;32m    539\u001B[0m             )\n\u001B[1;32m    541\u001B[0m \u001B[38;5;66;03m# Convert pandas.DataFrame to list of numpy records\u001B[39;00m\n\u001B[0;32m--> 542\u001B[0m np_records \u001B[38;5;241m=\u001B[39m \u001B[43mpdf\u001B[49m\u001B[38;5;241;43m.\u001B[39;49m\u001B[43mto_records\u001B[49m\u001B[43m(\u001B[49m\u001B[43mindex\u001B[49m\u001B[38;5;241;43m=\u001B[39;49m\u001B[38;5;28;43;01mFalse\u001B[39;49;00m\u001B[43m)\u001B[49m\n\u001B[1;32m    544\u001B[0m \u001B[38;5;66;03m# Check if any columns need to be fixed for Spark to infer properly\u001B[39;00m\n\u001B[1;32m    545\u001B[0m \u001B[38;5;28;01mif\u001B[39;00m \u001B[38;5;28mlen\u001B[39m(np_records) \u001B[38;5;241m>\u001B[39m \u001B[38;5;241m0\u001B[39m:\n\nFile \u001B[0;32m/databricks/python/lib/python3.9/site-packages/pandas/core/frame.py:2438\u001B[0m, in \u001B[0;36mDataFrame.to_records\u001B[0;34m(self, index, column_dtypes, index_dtypes)\u001B[0m\n\u001B[1;32m   2435\u001B[0m         msg \u001B[38;5;241m=\u001B[39m \u001B[38;5;124mf\u001B[39m\u001B[38;5;124m\"\u001B[39m\u001B[38;5;124mInvalid dtype \u001B[39m\u001B[38;5;132;01m{\u001B[39;00mdtype_mapping\u001B[38;5;132;01m}\u001B[39;00m\u001B[38;5;124m specified for \u001B[39m\u001B[38;5;132;01m{\u001B[39;00melement\u001B[38;5;132;01m}\u001B[39;00m\u001B[38;5;124m \u001B[39m\u001B[38;5;132;01m{\u001B[39;00mname\u001B[38;5;132;01m}\u001B[39;00m\u001B[38;5;124m\"\u001B[39m\n\u001B[1;32m   2436\u001B[0m         \u001B[38;5;28;01mraise\u001B[39;00m \u001B[38;5;167;01mValueError\u001B[39;00m(msg)\n\u001B[0;32m-> 2438\u001B[0m \u001B[38;5;28;01mreturn\u001B[39;00m \u001B[43mnp\u001B[49m\u001B[38;5;241;43m.\u001B[39;49m\u001B[43mrec\u001B[49m\u001B[38;5;241;43m.\u001B[39;49m\u001B[43mfromarrays\u001B[49m\u001B[43m(\u001B[49m\u001B[43marrays\u001B[49m\u001B[43m,\u001B[49m\u001B[43m \u001B[49m\u001B[43mdtype\u001B[49m\u001B[38;5;241;43m=\u001B[39;49m\u001B[43m{\u001B[49m\u001B[38;5;124;43m\"\u001B[39;49m\u001B[38;5;124;43mnames\u001B[39;49m\u001B[38;5;124;43m\"\u001B[39;49m\u001B[43m:\u001B[49m\u001B[43m \u001B[49m\u001B[43mnames\u001B[49m\u001B[43m,\u001B[49m\u001B[43m \u001B[49m\u001B[38;5;124;43m\"\u001B[39;49m\u001B[38;5;124;43mformats\u001B[39;49m\u001B[38;5;124;43m\"\u001B[39;49m\u001B[43m:\u001B[49m\u001B[43m \u001B[49m\u001B[43mformats\u001B[49m\u001B[43m}\u001B[49m\u001B[43m)\u001B[49m\n\nFile \u001B[0;32m/databricks/python/lib/python3.9/site-packages/numpy/core/records.py:653\u001B[0m, in \u001B[0;36mfromarrays\u001B[0;34m(arrayList, dtype, shape, formats, names, titles, aligned, byteorder)\u001B[0m\n\u001B[1;32m    650\u001B[0m     formats \u001B[38;5;241m=\u001B[39m [obj\u001B[38;5;241m.\u001B[39mdtype \u001B[38;5;28;01mfor\u001B[39;00m obj \u001B[38;5;129;01min\u001B[39;00m arrayList]\n\u001B[1;32m    652\u001B[0m \u001B[38;5;28;01mif\u001B[39;00m dtype \u001B[38;5;129;01mis\u001B[39;00m \u001B[38;5;129;01mnot\u001B[39;00m \u001B[38;5;28;01mNone\u001B[39;00m:\n\u001B[0;32m--> 653\u001B[0m     descr \u001B[38;5;241m=\u001B[39m \u001B[43msb\u001B[49m\u001B[38;5;241;43m.\u001B[39;49m\u001B[43mdtype\u001B[49m\u001B[43m(\u001B[49m\u001B[43mdtype\u001B[49m\u001B[43m)\u001B[49m\n\u001B[1;32m    654\u001B[0m \u001B[38;5;28;01melse\u001B[39;00m:\n\u001B[1;32m    655\u001B[0m     descr \u001B[38;5;241m=\u001B[39m format_parser(formats, names, titles, aligned, byteorder)\u001B[38;5;241m.\u001B[39mdtype\n\n\u001B[0;31mValueError\u001B[0m: name already used as a name or title",
       "errorSummary": "<span class='ansi-red-fg'>ValueError</span>: name already used as a name or title",
       "errorTraceType": "ansi",
       "metadata": {},
       "type": "ipynbError"
      }
     },
     "output_type": "display_data"
    }
   ],
   "source": [
    "\n",
    "# Concatenate the DataFrames\n",
    "merged_df = pd.concat([left_table, left_side_r16, left_side_qf, left_side_sf, visualize_final, right_side_sf, right_side_qf, right_side_r16, right_table], axis=1)\n",
    "merged_df.fillna('', inplace=True)\n",
    "# Display the DataFrame\n",
    "display(merged_df)\n"
   ]
  }
 ],
 "metadata": {
  "application/vnd.databricks.v1+notebook": {
   "dashboards": [],
   "language": "python",
   "notebookMetadata": {
    "mostRecentlyExecutedCommandWithImplicitDF": {
     "commandId": 3977131343718553,
     "dataframes": [
      "_sqldf"
     ]
    },
    "pythonIndentUnit": 4
   },
   "notebookName": "Euro cup Prediction(Satish_Subedi) 2024-02-20 19:38:07",
   "widgets": {}
  }
 },
 "nbformat": 4,
 "nbformat_minor": 0
}
