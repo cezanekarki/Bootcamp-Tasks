{
 "cells": [
  {
   "cell_type": "markdown",
   "metadata": {
    "application/vnd.databricks.v1+cell": {
     "cellMetadata": {
      "byteLimit": 2048000,
      "rowLimit": 10000
     },
     "inputWidgets": {},
     "nuid": "1302983a-9dbe-4fc9-874a-8a6e43201827",
     "showTitle": false,
     "title": ""
    }
   },
   "source": [
    "# EURO CUP2024 - GERMANY"
   ]
  },
  {
   "cell_type": "markdown",
   "metadata": {
    "application/vnd.databricks.v1+cell": {
     "cellMetadata": {},
     "inputWidgets": {},
     "nuid": "f6f16639-9783-459a-a9b9-5e9a64e3a4d0",
     "showTitle": false,
     "title": ""
    }
   },
   "source": [
    "## Table for the Combination"
   ]
  },
  {
   "cell_type": "code",
   "execution_count": 0,
   "metadata": {
    "application/vnd.databricks.v1+cell": {
     "cellMetadata": {
      "byteLimit": 2048000,
      "rowLimit": 10000
     },
     "inputWidgets": {},
     "nuid": "9a4cc4e7-ce10-4223-9e1d-7ea96293afe3",
     "showTitle": false,
     "title": ""
    }
   },
   "outputs": [
    {
     "output_type": "display_data",
     "data": {
      "text/html": [
       "<style scoped>\n",
       "  .ansiout {\n",
       "    display: block;\n",
       "    unicode-bidi: embed;\n",
       "    white-space: pre-wrap;\n",
       "    word-wrap: break-word;\n",
       "    word-break: break-all;\n",
       "    font-family: \"Menlo\", \"Monaco\", \"Consolas\", \"Ubuntu Mono\", \"Source Code Pro\", monospace;\n",
       "    font-size: 13px;\n",
       "    color: #555;\n",
       "    margin-left: 4px;\n",
       "    line-height: 19px;\n",
       "  }\n",
       "</style>\n",
       "<div class=\"ansiout\">res4: Boolean = true\n",
       "</div>"
      ]
     },
     "metadata": {
      "application/vnd.databricks.v1+output": {
       "addedWidgets": {},
       "arguments": {},
       "data": "<div class=\"ansiout\">res4: Boolean = true\n</div>",
       "datasetInfos": [],
       "metadata": {
        "isDbfsCommandResult": false
       },
       "removedWidgets": [],
       "type": "html"
      }
     },
     "output_type": "display_data"
    }
   ],
   "source": [
    "%fs \n",
    "rm -r dbfs:/user/hive/warehouse/matches\n"
   ]
  },
  {
   "cell_type": "code",
   "execution_count": 0,
   "metadata": {
    "application/vnd.databricks.v1+cell": {
     "cellMetadata": {
      "byteLimit": 2048000,
      "rowLimit": 10000
     },
     "inputWidgets": {},
     "nuid": "617e50b1-70ea-47a9-9ede-4398eeef312d",
     "showTitle": false,
     "title": ""
    }
   },
   "outputs": [
    {
     "output_type": "display_data",
     "data": {
      "text/html": [
       "<style scoped>\n",
       "  .ansiout {\n",
       "    display: block;\n",
       "    unicode-bidi: embed;\n",
       "    white-space: pre-wrap;\n",
       "    word-wrap: break-word;\n",
       "    word-break: break-all;\n",
       "    font-family: \"Menlo\", \"Monaco\", \"Consolas\", \"Ubuntu Mono\", \"Source Code Pro\", monospace;\n",
       "    font-size: 13px;\n",
       "    color: #555;\n",
       "    margin-left: 4px;\n",
       "    line-height: 19px;\n",
       "  }\n",
       "</style>\n",
       "<div class=\"ansiout\">res5: Boolean = true\n",
       "</div>"
      ]
     },
     "metadata": {
      "application/vnd.databricks.v1+output": {
       "addedWidgets": {},
       "arguments": {},
       "data": "<div class=\"ansiout\">res5: Boolean = true\n</div>",
       "datasetInfos": [],
       "metadata": {
        "isDbfsCommandResult": false
       },
       "removedWidgets": [],
       "type": "html"
      }
     },
     "output_type": "display_data"
    }
   ],
   "source": [
    "%fs\n",
    "rm -r dbfs:/user/hive/warehouse/thirdplacecombination"
   ]
  },
  {
   "cell_type": "code",
   "execution_count": 0,
   "metadata": {
    "application/vnd.databricks.v1+cell": {
     "cellMetadata": {
      "byteLimit": 2048000,
      "rowLimit": 10000
     },
     "inputWidgets": {},
     "nuid": "297e04ae-5a3d-4ee7-91bc-0178fc715e68",
     "showTitle": false,
     "title": ""
    }
   },
   "outputs": [
    {
     "output_type": "display_data",
     "data": {
      "text/html": [
       "<style scoped>\n",
       "  .ansiout {\n",
       "    display: block;\n",
       "    unicode-bidi: embed;\n",
       "    white-space: pre-wrap;\n",
       "    word-wrap: break-word;\n",
       "    word-break: break-all;\n",
       "    font-family: \"Menlo\", \"Monaco\", \"Consolas\", \"Ubuntu Mono\", \"Source Code Pro\", monospace;\n",
       "    font-size: 13px;\n",
       "    color: #555;\n",
       "    margin-left: 4px;\n",
       "    line-height: 19px;\n",
       "  }\n",
       "</style>\n",
       "<div class=\"ansiout\">res6: Boolean = true\n",
       "</div>"
      ]
     },
     "metadata": {
      "application/vnd.databricks.v1+output": {
       "addedWidgets": {},
       "arguments": {},
       "data": "<div class=\"ansiout\">res6: Boolean = true\n</div>",
       "datasetInfos": [],
       "metadata": {
        "isDbfsCommandResult": false
       },
       "removedWidgets": [],
       "type": "html"
      }
     },
     "output_type": "display_data"
    }
   ],
   "source": [
    "%fs\n",
    "rm -r dbfs:/user/hive/warehouse/teamsgroups "
   ]
  },
  {
   "cell_type": "code",
   "execution_count": 0,
   "metadata": {
    "application/vnd.databricks.v1+cell": {
     "cellMetadata": {
      "byteLimit": 2048000,
      "rowLimit": 10000
     },
     "inputWidgets": {},
     "nuid": "c3eabb26-b527-4e6d-991b-fbe898efb348",
     "showTitle": false,
     "title": ""
    }
   },
   "outputs": [
    {
     "output_type": "display_data",
     "data": {
      "text/html": [
       "<style scoped>\n",
       "  .ansiout {\n",
       "    display: block;\n",
       "    unicode-bidi: embed;\n",
       "    white-space: pre-wrap;\n",
       "    word-wrap: break-word;\n",
       "    word-break: break-all;\n",
       "    font-family: \"Menlo\", \"Monaco\", \"Consolas\", \"Ubuntu Mono\", \"Source Code Pro\", monospace;\n",
       "    font-size: 13px;\n",
       "    color: #555;\n",
       "    margin-left: 4px;\n",
       "    line-height: 19px;\n",
       "  }\n",
       "</style>\n",
       "<div class=\"ansiout\">res7: Boolean = true\n",
       "</div>"
      ]
     },
     "metadata": {
      "application/vnd.databricks.v1+output": {
       "addedWidgets": {},
       "arguments": {},
       "data": "<div class=\"ansiout\">res7: Boolean = true\n</div>",
       "datasetInfos": [],
       "metadata": {
        "isDbfsCommandResult": false
       },
       "removedWidgets": [],
       "type": "html"
      }
     },
     "output_type": "display_data"
    }
   ],
   "source": [
    "%fs\n",
    "rm -r dbfs:/user/hive/warehouse/matchstats"
   ]
  },
  {
   "cell_type": "code",
   "execution_count": 0,
   "metadata": {
    "application/vnd.databricks.v1+cell": {
     "cellMetadata": {
      "byteLimit": 2048000,
      "implicitDf": true,
      "rowLimit": 10000
     },
     "inputWidgets": {},
     "nuid": "5e667da9-c864-48f6-836c-7b6b1410ea22",
     "showTitle": false,
     "title": ""
    }
   },
   "outputs": [
    {
     "output_type": "display_data",
     "data": {
      "text/html": [
       "<style scoped>\n",
       "  .table-result-container {\n",
       "    max-height: 300px;\n",
       "    overflow: auto;\n",
       "  }\n",
       "  table, th, td {\n",
       "    border: 1px solid black;\n",
       "    border-collapse: collapse;\n",
       "  }\n",
       "  th, td {\n",
       "    padding: 5px;\n",
       "  }\n",
       "  th {\n",
       "    text-align: left;\n",
       "  }\n",
       "</style><div class='table-result-container'><table class='table-result'><thead style='background-color: white'><tr><th>num_affected_rows</th><th>num_inserted_rows</th></tr></thead><tbody><tr><td>15</td><td>15</td></tr></tbody></table></div>"
      ]
     },
     "metadata": {
      "application/vnd.databricks.v1+output": {
       "addedWidgets": {},
       "aggData": [],
       "aggError": "",
       "aggOverflow": false,
       "aggSchema": [],
       "aggSeriesLimitReached": false,
       "aggType": "",
       "arguments": {},
       "columnCustomDisplayInfos": {},
       "data": [
        [
         15,
         15
        ]
       ],
       "datasetInfos": [],
       "dbfsResultPath": null,
       "isJsonSchema": true,
       "metadata": {},
       "overflow": false,
       "plotOptions": {
        "customPlotOptions": {},
        "displayType": "table",
        "pivotAggregation": null,
        "pivotColumns": null,
        "xColumns": null,
        "yColumns": null
       },
       "removedWidgets": [],
       "schema": [
        {
         "metadata": "{}",
         "name": "num_affected_rows",
         "type": "\"long\""
        },
        {
         "metadata": "{}",
         "name": "num_inserted_rows",
         "type": "\"long\""
        }
       ],
       "type": "table"
      }
     },
     "output_type": "display_data"
    }
   ],
   "source": [
    "%sql\n",
    "CREATE or replace  TABLE ThirdPlaceCombination(\n",
    "  ID INTEGER,\n",
    "  SELECTEDGROUPS VARCHAR(4),\n",
    "  Team1B CHAR(1),\n",
    "  Team1C CHAR(1),\n",
    "  Team1E CHAR(1),\n",
    "  Team1F CHAR(1)\n",
    ");\n",
    "\n",
    "-- Step 2: Insert the provided values into the \"THIRDMATCHUP\" table\n",
    "INSERT INTO  ThirdPlaceCombination (ID, SELECTEDGROUPS, Team1B, Team1C, Team1E, Team1F) VALUES\n",
    "(1, 'ABCD', 'A', 'D', 'B', 'C'),\n",
    "(2, 'ABCE', 'A', 'E', 'B', 'C'),\n",
    "(3, 'ABCF', 'A', 'F', 'B', 'C'),\n",
    "(4, 'ABDE', 'D', 'E', 'A', 'B'),\n",
    "(5, 'ABDF', 'D', 'F', 'A', 'B'),\n",
    "(6, 'ABEF', 'E', 'F', 'B', 'A'),\n",
    "(7, 'ACDE', 'E', 'D', 'C', 'A'),\n",
    "(8, 'ACDF', 'F', 'D', 'C', 'A'),\n",
    "(9, 'ACEF', 'E', 'F', 'C', 'A'),\n",
    "(10, 'ADEF', 'E', 'F', 'D', 'A'),\n",
    "(11, 'BCDE', 'E', 'D', 'B', 'C'),\n",
    "(12, 'BCDF', 'F', 'D', 'C', 'B'),\n",
    "(13, 'BCEF', 'F', 'E', 'C', 'B'),\n",
    "(14, 'BDEF', 'F', 'E', 'D', 'B'),\n",
    "(15, 'CDEF', 'F', 'E', 'D', 'C');"
   ]
  },
  {
   "cell_type": "markdown",
   "metadata": {
    "application/vnd.databricks.v1+cell": {
     "cellMetadata": {
      "byteLimit": 2048000,
      "rowLimit": 10000
     },
     "inputWidgets": {},
     "nuid": "73c6b0c9-f3f9-4ef0-8baf-8c3187a1ac98",
     "showTitle": false,
     "title": ""
    }
   },
   "source": [
    "## Table for the Groups of Teams"
   ]
  },
  {
   "cell_type": "code",
   "execution_count": 0,
   "metadata": {
    "application/vnd.databricks.v1+cell": {
     "cellMetadata": {
      "byteLimit": 2048000,
      "implicitDf": true,
      "rowLimit": 10000
     },
     "inputWidgets": {},
     "nuid": "52b0101b-ceb0-42fc-9fa4-4ee10e0fe994",
     "showTitle": false,
     "title": ""
    }
   },
   "outputs": [
    {
     "output_type": "display_data",
     "data": {
      "text/html": [
       "<style scoped>\n",
       "  .table-result-container {\n",
       "    max-height: 300px;\n",
       "    overflow: auto;\n",
       "  }\n",
       "  table, th, td {\n",
       "    border: 1px solid black;\n",
       "    border-collapse: collapse;\n",
       "  }\n",
       "  th, td {\n",
       "    padding: 5px;\n",
       "  }\n",
       "  th {\n",
       "    text-align: left;\n",
       "  }\n",
       "</style><div class='table-result-container'><table class='table-result'><thead style='background-color: white'><tr><th>num_affected_rows</th><th>num_inserted_rows</th></tr></thead><tbody><tr><td>24</td><td>24</td></tr></tbody></table></div>"
      ]
     },
     "metadata": {
      "application/vnd.databricks.v1+output": {
       "addedWidgets": {},
       "aggData": [],
       "aggError": "",
       "aggOverflow": false,
       "aggSchema": [],
       "aggSeriesLimitReached": false,
       "aggType": "",
       "arguments": {},
       "columnCustomDisplayInfos": {},
       "data": [
        [
         24,
         24
        ]
       ],
       "datasetInfos": [],
       "dbfsResultPath": null,
       "isJsonSchema": true,
       "metadata": {},
       "overflow": false,
       "plotOptions": {
        "customPlotOptions": {},
        "displayType": "table",
        "pivotAggregation": null,
        "pivotColumns": null,
        "xColumns": null,
        "yColumns": null
       },
       "removedWidgets": [],
       "schema": [
        {
         "metadata": "{}",
         "name": "num_affected_rows",
         "type": "\"long\""
        },
        {
         "metadata": "{}",
         "name": "num_inserted_rows",
         "type": "\"long\""
        }
       ],
       "type": "table"
      }
     },
     "output_type": "display_data"
    }
   ],
   "source": [
    "%sql\n",
    "CREATE or replace TABLE TeamsGroups (\n",
    "    TeamID INT,\n",
    "    TeamName VARCHAR(100),\n",
    "    GroupName VARCHAR(1) \n",
    ");\n",
    "\n",
    "INSERT INTO TeamsGroups (TeamID,TeamName,GroupName) VALUES\n",
    "-- Group A\n",
    "    (1, 'Germany','A'),\n",
    "    (2, 'Scotland','A'),\n",
    "    (3, 'Hungary','A'),\n",
    "    (4, 'Switzerland','A'),\n",
    "\n",
    "-- Group B\n",
    "    (5, 'Spain','B'),\n",
    "    (6, 'Croatia','B'),\n",
    "    (7, 'Italy','B'),\n",
    "    (8, 'Albania','B'),\n",
    "\n",
    "-- Group C\n",
    "    (9, 'Slovenia','C'),\n",
    "    (10, 'Denmark','C'),\n",
    "    (11, 'Serbia','C'),\n",
    "    (12, 'England','C'),\n",
    "\n",
    "-- Group D\n",
    "    (13, 'Netherlands','D'),\n",
    "    (14, 'Austria','D'),\n",
    "    (15, 'France','D'),\n",
    "    (16, 'Play-off Winner A','D'),\n",
    "\n",
    "-- Group E\n",
    "    (17, 'Belgium','E'),\n",
    "    (18, 'Slovakia','E'),\n",
    "    (19, 'Romania','E'),\n",
    "    (20, 'Play-off Winner B','E'),\n",
    "\n",
    "-- Group F\n",
    "    (21, 'Turkey','F'),\n",
    "    (22, 'Play-off Winner C','F'),\n",
    "    (23, 'Portugal','F'),\n",
    "    (24, 'Czech Republic','F');\n"
   ]
  },
  {
   "cell_type": "markdown",
   "metadata": {
    "application/vnd.databricks.v1+cell": {
     "cellMetadata": {
      "byteLimit": 2048000,
      "rowLimit": 10000
     },
     "inputWidgets": {},
     "nuid": "cd08aac8-f7ea-4b06-9fe4-8b20f7af9a7f",
     "showTitle": false,
     "title": ""
    }
   },
   "source": [
    "## Table for the ALL The matches which will be in the eurocup"
   ]
  },
  {
   "cell_type": "code",
   "execution_count": 0,
   "metadata": {
    "application/vnd.databricks.v1+cell": {
     "cellMetadata": {
      "byteLimit": 2048000,
      "implicitDf": true,
      "rowLimit": 10000
     },
     "inputWidgets": {},
     "nuid": "b663c3cf-49f3-41b3-b246-2f830c8de014",
     "showTitle": false,
     "title": ""
    }
   },
   "outputs": [
    {
     "output_type": "display_data",
     "data": {
      "text/html": [
       "<style scoped>\n",
       "  .table-result-container {\n",
       "    max-height: 300px;\n",
       "    overflow: auto;\n",
       "  }\n",
       "  table, th, td {\n",
       "    border: 1px solid black;\n",
       "    border-collapse: collapse;\n",
       "  }\n",
       "  th, td {\n",
       "    padding: 5px;\n",
       "  }\n",
       "  th {\n",
       "    text-align: left;\n",
       "  }\n",
       "</style><div class='table-result-container'><table class='table-result'><thead style='background-color: white'><tr></tr></thead><tbody></tbody></table></div>"
      ]
     },
     "metadata": {
      "application/vnd.databricks.v1+output": {
       "addedWidgets": {},
       "aggData": [],
       "aggError": "",
       "aggOverflow": false,
       "aggSchema": [],
       "aggSeriesLimitReached": false,
       "aggType": "",
       "arguments": {},
       "columnCustomDisplayInfos": {},
       "data": [],
       "datasetInfos": [],
       "dbfsResultPath": null,
       "isJsonSchema": true,
       "metadata": {},
       "overflow": false,
       "plotOptions": {
        "customPlotOptions": {},
        "displayType": "table",
        "pivotAggregation": null,
        "pivotColumns": null,
        "xColumns": null,
        "yColumns": null
       },
       "removedWidgets": [],
       "schema": [],
       "type": "table"
      }
     },
     "output_type": "display_data"
    }
   ],
   "source": [
    "%sql\n",
    "CREATE or replace TABLE Matches (\n",
    "    MatchID INT,\n",
    "    Fixture varchar(50),\n",
    "    GroupName varchar(1),\n",
    "    HomeTeam varchar(20),\n",
    "    AwayTeam varchar(20),\n",
    "    HomeTeamGoals INT,\n",
    "    AwayTeamGoals INT,\n",
    "    MatchResult varchar(20),\n",
    "    MatchStage varchar(20)\n",
    ");"
   ]
  },
  {
   "cell_type": "code",
   "execution_count": 0,
   "metadata": {
    "application/vnd.databricks.v1+cell": {
     "cellMetadata": {
      "byteLimit": 2048000,
      "implicitDf": true,
      "rowLimit": 10000
     },
     "inputWidgets": {},
     "nuid": "3f167919-4ef7-4cc6-98f9-ae994b1231c9",
     "showTitle": false,
     "title": ""
    }
   },
   "outputs": [
    {
     "output_type": "display_data",
     "data": {
      "text/html": [
       "<style scoped>\n",
       "  .table-result-container {\n",
       "    max-height: 300px;\n",
       "    overflow: auto;\n",
       "  }\n",
       "  table, th, td {\n",
       "    border: 1px solid black;\n",
       "    border-collapse: collapse;\n",
       "  }\n",
       "  th, td {\n",
       "    padding: 5px;\n",
       "  }\n",
       "  th {\n",
       "    text-align: left;\n",
       "  }\n",
       "</style><div class='table-result-container'><table class='table-result'><thead style='background-color: white'><tr><th>num_affected_rows</th><th>num_inserted_rows</th></tr></thead><tbody><tr><td>36</td><td>36</td></tr></tbody></table></div>"
      ]
     },
     "metadata": {
      "application/vnd.databricks.v1+output": {
       "addedWidgets": {},
       "aggData": [],
       "aggError": "",
       "aggOverflow": false,
       "aggSchema": [],
       "aggSeriesLimitReached": false,
       "aggType": "",
       "arguments": {},
       "columnCustomDisplayInfos": {},
       "data": [
        [
         36,
         36
        ]
       ],
       "datasetInfos": [],
       "dbfsResultPath": null,
       "isJsonSchema": true,
       "metadata": {},
       "overflow": false,
       "plotOptions": {
        "customPlotOptions": {},
        "displayType": "table",
        "pivotAggregation": null,
        "pivotColumns": null,
        "xColumns": null,
        "yColumns": null
       },
       "removedWidgets": [],
       "schema": [
        {
         "metadata": "{}",
         "name": "num_affected_rows",
         "type": "\"long\""
        },
        {
         "metadata": "{}",
         "name": "num_inserted_rows",
         "type": "\"long\""
        }
       ],
       "type": "table"
      }
     },
     "output_type": "display_data"
    }
   ],
   "source": [
    "%sql\n",
    "--Fixture of all teams from all the group and inserting into matches table\n",
    "INSERT INTO MATCHES\n",
    "    SELECT\n",
    "        ROW_NUMBER() over(order by 1) as MatchId,\n",
    "        CONCAT(T1.TeamName, ' vs ', T2.TeamName) AS Fixture,\n",
    "        T1.GroupName AS GroupName,\n",
    "        T1.TeamName as HomeTeam,\n",
    "        T2.TeamName as AwayTeam,\n",
    "        CAST(rand() * 6 AS INT) AS GoalsScored, \n",
    "        CAST(rand() * 6 AS INT) AS GoalsAllowed,\n",
    "        'None' as MatchResult,\n",
    "        'Group Stage' as MatchStage\n",
    "    FROM \n",
    "        TeamsGroups AS T1\n",
    "    CROSS JOIN \n",
    "        TeamsGroups AS T2 where T1.GroupName = T2.GroupName AND T1.TeamID < T2.TeamID;"
   ]
  },
  {
   "cell_type": "code",
   "execution_count": 0,
   "metadata": {
    "application/vnd.databricks.v1+cell": {
     "cellMetadata": {
      "byteLimit": 2048000,
      "implicitDf": true,
      "rowLimit": 10000
     },
     "inputWidgets": {},
     "nuid": "dadd5f2f-8f88-478e-8972-c13766ec76ef",
     "showTitle": false,
     "title": ""
    }
   },
   "outputs": [
    {
     "output_type": "display_data",
     "data": {
      "text/html": [
       "<style scoped>\n",
       "  .table-result-container {\n",
       "    max-height: 300px;\n",
       "    overflow: auto;\n",
       "  }\n",
       "  table, th, td {\n",
       "    border: 1px solid black;\n",
       "    border-collapse: collapse;\n",
       "  }\n",
       "  th, td {\n",
       "    padding: 5px;\n",
       "  }\n",
       "  th {\n",
       "    text-align: left;\n",
       "  }\n",
       "</style><div class='table-result-container'><table class='table-result'><thead style='background-color: white'><tr><th>num_affected_rows</th></tr></thead><tbody><tr><td>36</td></tr></tbody></table></div>"
      ]
     },
     "metadata": {
      "application/vnd.databricks.v1+output": {
       "addedWidgets": {},
       "aggData": [],
       "aggError": "",
       "aggOverflow": false,
       "aggSchema": [],
       "aggSeriesLimitReached": false,
       "aggType": "",
       "arguments": {},
       "columnCustomDisplayInfos": {},
       "data": [
        [
         36
        ]
       ],
       "datasetInfos": [],
       "dbfsResultPath": null,
       "isJsonSchema": true,
       "metadata": {},
       "overflow": false,
       "plotOptions": {
        "customPlotOptions": {},
        "displayType": "table",
        "pivotAggregation": null,
        "pivotColumns": null,
        "xColumns": null,
        "yColumns": null
       },
       "removedWidgets": [],
       "schema": [
        {
         "metadata": "{}",
         "name": "num_affected_rows",
         "type": "\"long\""
        }
       ],
       "type": "table"
      }
     },
     "output_type": "display_data"
    }
   ],
   "source": [
    "%sql\n",
    "--Match result from the GroupMatchFixture\n",
    "UPDATE Matches\n",
    "SET MatchResult = \n",
    "    CASE\n",
    "        WHEN HOMETEAMGOALS > AWAYTEAMGOALS THEN HomeTeam\n",
    "        WHEN HOMETEAMGOALS < AWAYTEAMGOALS THEN AwayTeam\n",
    "        ELSE 'Draw'\n",
    "    END;"
   ]
  },
  {
   "cell_type": "markdown",
   "metadata": {
    "application/vnd.databricks.v1+cell": {
     "cellMetadata": {},
     "inputWidgets": {},
     "nuid": "99cddc39-02cb-4dbb-aca6-5029655f9a25",
     "showTitle": false,
     "title": ""
    }
   },
   "source": [
    "## Create a new table to store the group stage match statistic"
   ]
  },
  {
   "cell_type": "code",
   "execution_count": 0,
   "metadata": {
    "application/vnd.databricks.v1+cell": {
     "cellMetadata": {
      "byteLimit": 2048000,
      "implicitDf": true,
      "rowLimit": 10000
     },
     "inputWidgets": {},
     "nuid": "7d0f5e31-b4c4-416e-8bdd-80b6527b8427",
     "showTitle": false,
     "title": ""
    }
   },
   "outputs": [
    {
     "output_type": "display_data",
     "data": {
      "text/html": [
       "<style scoped>\n",
       "  .table-result-container {\n",
       "    max-height: 300px;\n",
       "    overflow: auto;\n",
       "  }\n",
       "  table, th, td {\n",
       "    border: 1px solid black;\n",
       "    border-collapse: collapse;\n",
       "  }\n",
       "  th, td {\n",
       "    padding: 5px;\n",
       "  }\n",
       "  th {\n",
       "    text-align: left;\n",
       "  }\n",
       "</style><div class='table-result-container'><table class='table-result'><thead style='background-color: white'><tr><th>num_affected_rows</th><th>num_inserted_rows</th></tr></thead><tbody></tbody></table></div>"
      ]
     },
     "metadata": {
      "application/vnd.databricks.v1+output": {
       "addedWidgets": {},
       "aggData": [],
       "aggError": "",
       "aggOverflow": false,
       "aggSchema": [],
       "aggSeriesLimitReached": false,
       "aggType": "",
       "arguments": {},
       "columnCustomDisplayInfos": {},
       "data": [],
       "datasetInfos": [],
       "dbfsResultPath": null,
       "isJsonSchema": true,
       "metadata": {},
       "overflow": false,
       "plotOptions": {
        "customPlotOptions": {},
        "displayType": "table",
        "pivotAggregation": null,
        "pivotColumns": null,
        "xColumns": null,
        "yColumns": null
       },
       "removedWidgets": [],
       "schema": [
        {
         "metadata": "{}",
         "name": "num_affected_rows",
         "type": "\"long\""
        },
        {
         "metadata": "{}",
         "name": "num_inserted_rows",
         "type": "\"long\""
        }
       ],
       "type": "table"
      }
     },
     "output_type": "display_data"
    }
   ],
   "source": [
    "%sql\n",
    "--Match Statistics like win,loss,draw etc from the group stage matches\n",
    "create or replace table MatchStats as \n",
    "    SELECT\n",
    "        TeamID,\n",
    "        GroupName,\n",
    "         COUNT(*) AS MatchesPlayed,\n",
    "        SUM(CASE \n",
    "            WHEN GoalsScored > GoalsAllowed THEN 1 \n",
    "            ELSE 0 \n",
    "        END) AS Wins,\n",
    "        SUM(CASE \n",
    "            WHEN GoalsScored = GoalsAllowed THEN 1 \n",
    "            ELSE 0 \n",
    "        END) AS Draws,\n",
    "        SUM(CASE \n",
    "            WHEN GoalsScored < GoalsAllowed THEN 1 \n",
    "            ELSE 0 \n",
    "        END) AS Losses,\n",
    "        SUM(GoalsScored) AS GoalsScored,\n",
    "        SUM(GoalsAllowed) AS GoalsAllowed,\n",
    "        SUM(GoalsScored) - SUM(GoalsAllowed) AS GoalDifference,\n",
    "        SUM(CASE\n",
    "                WHEN GoalsScored > GoalsAllowed THEN 3  \n",
    "                WHEN GoalsScored = GoalsAllowed THEN 1 \n",
    "                ELSE 0                                \n",
    "            END) AS Points\n",
    "    FROM\n",
    "        (SELECT\n",
    "            GroupName,\n",
    "            HomeTeam AS TeamID,\n",
    "            HOMETEAMGOALS AS GoalsScored,\n",
    "            AWAYTEAMGOALS AS GoalsAllowed\n",
    "        FROM\n",
    "            MATCHES\n",
    "    \n",
    "        UNION ALL\n",
    "    \n",
    "        SELECT\n",
    "            GroupName,\n",
    "            AwayTeam AS TeamID,\n",
    "            AWAYTEAMGOALS AS GoalsScored,\n",
    "            HOMETEAMGOALS AS GoalsAllowed\n",
    "        FROM\n",
    "            Matches) AS GroupMatches\n",
    "    GROUP BY\n",
    "        TeamID,groupname\n",
    "        Order by groupname;"
   ]
  },
  {
   "cell_type": "markdown",
   "metadata": {
    "application/vnd.databricks.v1+cell": {
     "cellMetadata": {
      "byteLimit": 2048000,
      "rowLimit": 10000
     },
     "inputWidgets": {},
     "nuid": "dfce16c8-2b9e-4fc1-942b-41f4ee44b997",
     "showTitle": false,
     "title": ""
    }
   },
   "source": [
    "## Create new table to store all the qualifiying teams from each group"
   ]
  },
  {
   "cell_type": "code",
   "execution_count": 0,
   "metadata": {
    "application/vnd.databricks.v1+cell": {
     "cellMetadata": {
      "byteLimit": 2048000,
      "implicitDf": true,
      "rowLimit": 10000
     },
     "inputWidgets": {},
     "nuid": "4b1823e8-a9bf-4cb2-8f65-53f93e024fff",
     "showTitle": false,
     "title": ""
    }
   },
   "outputs": [
    {
     "output_type": "display_data",
     "data": {
      "text/html": [
       "<style scoped>\n",
       "  .table-result-container {\n",
       "    max-height: 300px;\n",
       "    overflow: auto;\n",
       "  }\n",
       "  table, th, td {\n",
       "    border: 1px solid black;\n",
       "    border-collapse: collapse;\n",
       "  }\n",
       "  th, td {\n",
       "    padding: 5px;\n",
       "  }\n",
       "  th {\n",
       "    text-align: left;\n",
       "  }\n",
       "</style><div class='table-result-container'><table class='table-result'><thead style='background-color: white'><tr><th>num_affected_rows</th><th>num_inserted_rows</th></tr></thead><tbody></tbody></table></div>"
      ]
     },
     "metadata": {
      "application/vnd.databricks.v1+output": {
       "addedWidgets": {},
       "aggData": [],
       "aggError": "",
       "aggOverflow": false,
       "aggSchema": [],
       "aggSeriesLimitReached": false,
       "aggType": "",
       "arguments": {},
       "columnCustomDisplayInfos": {},
       "data": [],
       "datasetInfos": [],
       "dbfsResultPath": null,
       "isJsonSchema": true,
       "metadata": {},
       "overflow": false,
       "plotOptions": {
        "customPlotOptions": {},
        "displayType": "table",
        "pivotAggregation": null,
        "pivotColumns": null,
        "xColumns": null,
        "yColumns": null
       },
       "removedWidgets": [],
       "schema": [
        {
         "metadata": "{}",
         "name": "num_affected_rows",
         "type": "\"long\""
        },
        {
         "metadata": "{}",
         "name": "num_inserted_rows",
         "type": "\"long\""
        }
       ],
       "type": "table"
      }
     },
     "output_type": "display_data"
    }
   ],
   "source": [
    "%sql\n",
    "--All the Teams who have quallified into round of 16\n",
    "\n",
    "--Top 2 teams from each tables which are qualified for R16\n",
    "create or replace table round_of_16 as \n",
    "SELECT *\n",
    "FROM (\n",
    "    SELECT \n",
    "        TeamId,\n",
    "        GroupName,\n",
    "        points,\n",
    "        goaldifference,\n",
    "        ROW_NUMBER() OVER (PARTITION BY GroupName ORDER BY points DESC, goaldifference DESC,goalsScored desc,wins desc) AS rnk \n",
    "    FROM \n",
    "        matchStats \n",
    ") AS Top2Teams\n",
    "WHERE \n",
    "    rnk <= 2;"
   ]
  },
  {
   "cell_type": "code",
   "execution_count": 0,
   "metadata": {
    "application/vnd.databricks.v1+cell": {
     "cellMetadata": {
      "byteLimit": 2048000,
      "implicitDf": true,
      "rowLimit": 10000
     },
     "inputWidgets": {},
     "nuid": "b1bad3be-e3a7-4a80-a4c9-a01596ef4020",
     "showTitle": false,
     "title": ""
    }
   },
   "outputs": [
    {
     "output_type": "display_data",
     "data": {
      "text/html": [
       "<style scoped>\n",
       "  .table-result-container {\n",
       "    max-height: 300px;\n",
       "    overflow: auto;\n",
       "  }\n",
       "  table, th, td {\n",
       "    border: 1px solid black;\n",
       "    border-collapse: collapse;\n",
       "  }\n",
       "  th, td {\n",
       "    padding: 5px;\n",
       "  }\n",
       "  th {\n",
       "    text-align: left;\n",
       "  }\n",
       "</style><div class='table-result-container'><table class='table-result'><thead style='background-color: white'><tr><th>num_affected_rows</th><th>num_inserted_rows</th></tr></thead><tbody><tr><td>4</td><td>4</td></tr></tbody></table></div>"
      ]
     },
     "metadata": {
      "application/vnd.databricks.v1+output": {
       "addedWidgets": {},
       "aggData": [],
       "aggError": "",
       "aggOverflow": false,
       "aggSchema": [],
       "aggSeriesLimitReached": false,
       "aggType": "",
       "arguments": {},
       "columnCustomDisplayInfos": {},
       "data": [
        [
         4,
         4
        ]
       ],
       "datasetInfos": [],
       "dbfsResultPath": null,
       "isJsonSchema": true,
       "metadata": {},
       "overflow": false,
       "plotOptions": {
        "customPlotOptions": {},
        "displayType": "table",
        "pivotAggregation": null,
        "pivotColumns": null,
        "xColumns": null,
        "yColumns": null
       },
       "removedWidgets": [],
       "schema": [
        {
         "metadata": "{}",
         "name": "num_affected_rows",
         "type": "\"long\""
        },
        {
         "metadata": "{}",
         "name": "num_inserted_rows",
         "type": "\"long\""
        }
       ],
       "type": "table"
      }
     },
     "output_type": "display_data"
    }
   ],
   "source": [
    "%sql\n",
    "--Best four teams from each group which are third best team\n",
    "insert into round_of_16\n",
    "SELECT *\n",
    "FROM (\n",
    "    SELECT \n",
    "        TeamId,\n",
    "        GroupName,\n",
    "        points,\n",
    "        goaldifference,\n",
    "        ROW_NUMBER() OVER (PARTITION BY GroupName ORDER BY points DESC, goaldifference desc,goalsScored desc) AS rnk \n",
    "    FROM \n",
    "        matchStats \n",
    ") AS Top2Teams\n",
    "WHERE \n",
    "    rnk = 3 LIMIT 4;"
   ]
  },
  {
   "cell_type": "markdown",
   "metadata": {
    "application/vnd.databricks.v1+cell": {
     "cellMetadata": {},
     "inputWidgets": {},
     "nuid": "9b326df1-0051-4216-b689-d02efa9016e6",
     "showTitle": false,
     "title": ""
    }
   },
   "source": [
    "## Inserting the Round of 16 matches into the matches table"
   ]
  },
  {
   "cell_type": "code",
   "execution_count": 0,
   "metadata": {
    "application/vnd.databricks.v1+cell": {
     "cellMetadata": {
      "byteLimit": 2048000,
      "implicitDf": true,
      "rowLimit": 10000
     },
     "inputWidgets": {},
     "nuid": "2d634cfa-4161-4de8-bbc5-daecef434b04",
     "showTitle": false,
     "title": ""
    }
   },
   "outputs": [
    {
     "output_type": "display_data",
     "data": {
      "text/html": [
       "<style scoped>\n",
       "  .table-result-container {\n",
       "    max-height: 300px;\n",
       "    overflow: auto;\n",
       "  }\n",
       "  table, th, td {\n",
       "    border: 1px solid black;\n",
       "    border-collapse: collapse;\n",
       "  }\n",
       "  th, td {\n",
       "    padding: 5px;\n",
       "  }\n",
       "  th {\n",
       "    text-align: left;\n",
       "  }\n",
       "</style><div class='table-result-container'><table class='table-result'><thead style='background-color: white'><tr><th>num_affected_rows</th><th>num_inserted_rows</th></tr></thead><tbody><tr><td>8</td><td>8</td></tr></tbody></table></div>"
      ]
     },
     "metadata": {
      "application/vnd.databricks.v1+output": {
       "addedWidgets": {},
       "aggData": [],
       "aggError": "",
       "aggOverflow": false,
       "aggSchema": [],
       "aggSeriesLimitReached": false,
       "aggType": "",
       "arguments": {},
       "columnCustomDisplayInfos": {},
       "data": [
        [
         8,
         8
        ]
       ],
       "datasetInfos": [],
       "dbfsResultPath": null,
       "isJsonSchema": true,
       "metadata": {},
       "overflow": false,
       "plotOptions": {
        "customPlotOptions": {},
        "displayType": "table",
        "pivotAggregation": null,
        "pivotColumns": null,
        "xColumns": null,
        "yColumns": null
       },
       "removedWidgets": [],
       "schema": [
        {
         "metadata": "{}",
         "name": "num_affected_rows",
         "type": "\"long\""
        },
        {
         "metadata": "{}",
         "name": "num_inserted_rows",
         "type": "\"long\""
        }
       ],
       "type": "table"
      }
     },
     "output_type": "display_data"
    }
   ],
   "source": [
    "%sql\n",
    "--Top Four Team Combinations\n",
    "INSERT INTO matches (MatchId, fixture, GroupName,HomeTeam,AwayTeam, HomeTeamGoals, AwayTeamGoals, MatchResult, MatchStage)\n",
    "WITH Combination AS (\n",
    "  SELECT \n",
    "        CONCAT_WS('', sort_array( Collect_list(GroupName))) AS GroupCombination\n",
    "  FROM round_of_16\n",
    "  WHERE rnk = 3 \n",
    "),\n",
    "\n",
    "keys as(\n",
    "    select * from thirdplacecombination \n",
    "        where selectedgroups = (select GroupCombination from Combination))\n",
    "                        \n",
    "SELECT \n",
    "    Row_Number() over(order by 1) + 36 as MatchId,\n",
    "    CONCAT(r1.teamid, ' Vs. ', r2.teamid) AS fixture,\n",
    "    'N' as GroupName,\n",
    "    r1.TEAMID as HomeTeam,\n",
    "    r2.TEAMID as AwayTeam,\n",
    "      CAST(rand() * 6 AS INT) AS GoalsScored, \n",
    "      CAST(rand() * 6 AS INT) AS GoalsAllowed,\n",
    "    'None' as MatchResult,\n",
    "    'R16' as MatchStage\n",
    "    \n",
    "FROM \n",
    "    round_of_16 r1\n",
    "JOIN \n",
    "    round_of_16 r2 ON(\n",
    "     (r1.groupname = 'B' AND r1.rnk = 1 AND r2.groupname = (select Team1B from keys) AND r2.rnk = 3) OR\n",
    "      (r1.groupname = 'A' AND r1.rnk = 1 AND r2.groupname = 'C' AND r2.rnk = 2) OR\n",
    "      (r1.groupname = 'F' AND r1.rnk = 1 AND r2.groupname = (select Team1F from keys) AND r2.rnk = 3) OR\n",
    "      (r1.groupname = 'D' AND r1.rnk = 2 AND r2.groupname = 'E' AND r2.rnk = 2) OR\n",
    "      (r1.groupname = 'E' AND r1.rnk = 1 AND r2.groupname = (select Team1E from keys) AND r2.rnk = 3) OR\n",
    "      (r1.groupname = 'D' AND r1.rnk = 1 AND r2.groupname = 'F' AND r2.rnk = 2) OR\n",
    "      (r1.groupname = 'C' AND r1.rnk = 1 AND r2.groupname = (select Team1C from keys) AND r2.rnk = 3) OR\n",
    "      (r1.groupname = 'A' AND r1.rnk = 2 AND r2.groupname = 'B' AND r2.rnk = 2)\n",
    "      );\n"
   ]
  },
  {
   "cell_type": "code",
   "execution_count": 0,
   "metadata": {
    "application/vnd.databricks.v1+cell": {
     "cellMetadata": {
      "byteLimit": 2048000,
      "implicitDf": true,
      "rowLimit": 10000
     },
     "inputWidgets": {},
     "nuid": "6bf35f7e-6ec7-4f3f-900f-606daa74a4d4",
     "showTitle": false,
     "title": ""
    }
   },
   "outputs": [
    {
     "output_type": "display_data",
     "data": {
      "text/html": [
       "<style scoped>\n",
       "  .table-result-container {\n",
       "    max-height: 300px;\n",
       "    overflow: auto;\n",
       "  }\n",
       "  table, th, td {\n",
       "    border: 1px solid black;\n",
       "    border-collapse: collapse;\n",
       "  }\n",
       "  th, td {\n",
       "    padding: 5px;\n",
       "  }\n",
       "  th {\n",
       "    text-align: left;\n",
       "  }\n",
       "</style><div class='table-result-container'><table class='table-result'><thead style='background-color: white'><tr><th>num_affected_rows</th></tr></thead><tbody><tr><td>8</td></tr></tbody></table></div>"
      ]
     },
     "metadata": {
      "application/vnd.databricks.v1+output": {
       "addedWidgets": {},
       "aggData": [],
       "aggError": "",
       "aggOverflow": false,
       "aggSchema": [],
       "aggSeriesLimitReached": false,
       "aggType": "",
       "arguments": {},
       "columnCustomDisplayInfos": {},
       "data": [
        [
         8
        ]
       ],
       "datasetInfos": [],
       "dbfsResultPath": null,
       "isJsonSchema": true,
       "metadata": {},
       "overflow": false,
       "plotOptions": {
        "customPlotOptions": {},
        "displayType": "table",
        "pivotAggregation": null,
        "pivotColumns": null,
        "xColumns": null,
        "yColumns": null
       },
       "removedWidgets": [],
       "schema": [
        {
         "metadata": "{}",
         "name": "num_affected_rows",
         "type": "\"long\""
        }
       ],
       "type": "table"
      }
     },
     "output_type": "display_data"
    }
   ],
   "source": [
    "%sql\n",
    "UPDATE Matches\n",
    "SET MatchResult = \n",
    "    CASE\n",
    "        WHEN HOMETEAMGOALS > AWAYTEAMGOALS THEN HomeTeam\n",
    "        WHEN HOMETEAMGOALS < AWAYTEAMGOALS THEN AwayTeam\n",
    "         ELSE \n",
    "            CASE \n",
    "                WHEN (HomeTeamGoals + 1) % 2 = 1 THEN HomeTeam\n",
    "                ELSE AwayTeam\n",
    "            END\n",
    "    END\n",
    "  WHERE MatchStage = \"R16\";"
   ]
  },
  {
   "cell_type": "markdown",
   "metadata": {
    "application/vnd.databricks.v1+cell": {
     "cellMetadata": {},
     "inputWidgets": {},
     "nuid": "e03a9f97-8229-436e-b6a2-b8b52c6a02a2",
     "showTitle": false,
     "title": ""
    }
   },
   "source": [
    "## Matches for the Quater-Final Round "
   ]
  },
  {
   "cell_type": "code",
   "execution_count": 0,
   "metadata": {
    "application/vnd.databricks.v1+cell": {
     "cellMetadata": {
      "byteLimit": 2048000,
      "implicitDf": true,
      "rowLimit": 10000
     },
     "inputWidgets": {},
     "nuid": "709e30e2-6152-4427-93bc-92e89e924134",
     "showTitle": false,
     "title": ""
    }
   },
   "outputs": [
    {
     "output_type": "display_data",
     "data": {
      "text/html": [
       "<style scoped>\n",
       "  .table-result-container {\n",
       "    max-height: 300px;\n",
       "    overflow: auto;\n",
       "  }\n",
       "  table, th, td {\n",
       "    border: 1px solid black;\n",
       "    border-collapse: collapse;\n",
       "  }\n",
       "  th, td {\n",
       "    padding: 5px;\n",
       "  }\n",
       "  th {\n",
       "    text-align: left;\n",
       "  }\n",
       "</style><div class='table-result-container'><table class='table-result'><thead style='background-color: white'><tr><th>num_affected_rows</th><th>num_inserted_rows</th></tr></thead><tbody><tr><td>4</td><td>4</td></tr></tbody></table></div>"
      ]
     },
     "metadata": {
      "application/vnd.databricks.v1+output": {
       "addedWidgets": {},
       "aggData": [],
       "aggError": "",
       "aggOverflow": false,
       "aggSchema": [],
       "aggSeriesLimitReached": false,
       "aggType": "",
       "arguments": {},
       "columnCustomDisplayInfos": {},
       "data": [
        [
         4,
         4
        ]
       ],
       "datasetInfos": [],
       "dbfsResultPath": null,
       "isJsonSchema": true,
       "metadata": {},
       "overflow": false,
       "plotOptions": {
        "customPlotOptions": {},
        "displayType": "table",
        "pivotAggregation": null,
        "pivotColumns": null,
        "xColumns": null,
        "yColumns": null
       },
       "removedWidgets": [],
       "schema": [
        {
         "metadata": "{}",
         "name": "num_affected_rows",
         "type": "\"long\""
        },
        {
         "metadata": "{}",
         "name": "num_inserted_rows",
         "type": "\"long\""
        }
       ],
       "type": "table"
      }
     },
     "output_type": "display_data"
    }
   ],
   "source": [
    "%sql\n",
    "\n",
    "INSERT INTO matches (MatchId, fixture,GroupName, HomeTeam, AwayTeam, HomeTeamGoals, AwayTeamGoals, MatchResult, MatchStage)\n",
    "SELECT \n",
    "    Row_Number() OVER(ORDER BY 1) + 44 AS MatchId,\n",
    "    CONCAT(QF1.MATCHRESULT, ' Vs. ', QF2.MATCHRESULT) AS fixture,\n",
    "    'N' as GroupName,\n",
    "    QF1.MATCHRESULT AS HomeTeam,\n",
    "    QF2.MATCHRESULT AS AwayTeam,\n",
    "    CAST(rand() * 6 AS INT) AS GoalsScored, \n",
    "    CAST(rand() * 6 AS INT) AS GoalsAllowed,\n",
    "    'None' AS MatchResult,\n",
    "    'Quarter-Final' AS MatchStage\n",
    "FROM \n",
    "    matches QF1\n",
    "JOIN \n",
    "    matches QF2 ON (\n",
    "        (QF1.MATCHID = 39 AND QF2.MatchId = 37) OR\n",
    "        (QF1.MATCHID = 41 AND QF2.MatchId = 42) OR\n",
    "        (QF1.MATCHID = 43 AND QF2.MatchId = 44) OR\n",
    "        (QF1.MATCHID = 40 AND QF2.MatchId = 38)\n",
    "    );"
   ]
  },
  {
   "cell_type": "code",
   "execution_count": 0,
   "metadata": {
    "application/vnd.databricks.v1+cell": {
     "cellMetadata": {
      "byteLimit": 2048000,
      "implicitDf": true,
      "rowLimit": 10000
     },
     "inputWidgets": {},
     "nuid": "60dedcd6-82be-49b9-95f1-549b9d68bcdb",
     "showTitle": false,
     "title": ""
    }
   },
   "outputs": [
    {
     "output_type": "display_data",
     "data": {
      "text/html": [
       "<style scoped>\n",
       "  .table-result-container {\n",
       "    max-height: 300px;\n",
       "    overflow: auto;\n",
       "  }\n",
       "  table, th, td {\n",
       "    border: 1px solid black;\n",
       "    border-collapse: collapse;\n",
       "  }\n",
       "  th, td {\n",
       "    padding: 5px;\n",
       "  }\n",
       "  th {\n",
       "    text-align: left;\n",
       "  }\n",
       "</style><div class='table-result-container'><table class='table-result'><thead style='background-color: white'><tr><th>num_affected_rows</th></tr></thead><tbody><tr><td>4</td></tr></tbody></table></div>"
      ]
     },
     "metadata": {
      "application/vnd.databricks.v1+output": {
       "addedWidgets": {},
       "aggData": [],
       "aggError": "",
       "aggOverflow": false,
       "aggSchema": [],
       "aggSeriesLimitReached": false,
       "aggType": "",
       "arguments": {},
       "columnCustomDisplayInfos": {},
       "data": [
        [
         4
        ]
       ],
       "datasetInfos": [],
       "dbfsResultPath": null,
       "isJsonSchema": true,
       "metadata": {},
       "overflow": false,
       "plotOptions": {
        "customPlotOptions": {},
        "displayType": "table",
        "pivotAggregation": null,
        "pivotColumns": null,
        "xColumns": null,
        "yColumns": null
       },
       "removedWidgets": [],
       "schema": [
        {
         "metadata": "{}",
         "name": "num_affected_rows",
         "type": "\"long\""
        }
       ],
       "type": "table"
      }
     },
     "output_type": "display_data"
    }
   ],
   "source": [
    "%sql\n",
    "UPDATE Matches\n",
    "SET MatchResult = \n",
    "    CASE\n",
    "        WHEN HOMETEAMGOALS > AWAYTEAMGOALS THEN HomeTeam\n",
    "        WHEN HOMETEAMGOALS < AWAYTEAMGOALS THEN AwayTeam\n",
    "        ELSE \n",
    "        CASE \n",
    "                WHEN (HomeTeamGoals + 1) % 2 = 1 THEN HomeTeam\n",
    "                ELSE AwayTeam\n",
    "            END\n",
    "    END\n",
    "WHERE MatchStage = 'Quarter-Final';"
   ]
  },
  {
   "cell_type": "markdown",
   "metadata": {
    "application/vnd.databricks.v1+cell": {
     "cellMetadata": {},
     "inputWidgets": {},
     "nuid": "4156d089-d261-42e3-b514-37e616ca56d6",
     "showTitle": false,
     "title": ""
    }
   },
   "source": [
    "## Matches For the Semi-Final Round"
   ]
  },
  {
   "cell_type": "code",
   "execution_count": 0,
   "metadata": {
    "application/vnd.databricks.v1+cell": {
     "cellMetadata": {
      "byteLimit": 2048000,
      "implicitDf": true,
      "rowLimit": 10000
     },
     "inputWidgets": {},
     "nuid": "bcbbb77f-aae0-4a8c-989e-71070f927a79",
     "showTitle": false,
     "title": ""
    }
   },
   "outputs": [
    {
     "output_type": "display_data",
     "data": {
      "text/html": [
       "<style scoped>\n",
       "  .table-result-container {\n",
       "    max-height: 300px;\n",
       "    overflow: auto;\n",
       "  }\n",
       "  table, th, td {\n",
       "    border: 1px solid black;\n",
       "    border-collapse: collapse;\n",
       "  }\n",
       "  th, td {\n",
       "    padding: 5px;\n",
       "  }\n",
       "  th {\n",
       "    text-align: left;\n",
       "  }\n",
       "</style><div class='table-result-container'><table class='table-result'><thead style='background-color: white'><tr><th>num_affected_rows</th><th>num_inserted_rows</th></tr></thead><tbody><tr><td>2</td><td>2</td></tr></tbody></table></div>"
      ]
     },
     "metadata": {
      "application/vnd.databricks.v1+output": {
       "addedWidgets": {},
       "aggData": [],
       "aggError": "",
       "aggOverflow": false,
       "aggSchema": [],
       "aggSeriesLimitReached": false,
       "aggType": "",
       "arguments": {},
       "columnCustomDisplayInfos": {},
       "data": [
        [
         2,
         2
        ]
       ],
       "datasetInfos": [],
       "dbfsResultPath": null,
       "isJsonSchema": true,
       "metadata": {},
       "overflow": false,
       "plotOptions": {
        "customPlotOptions": {},
        "displayType": "table",
        "pivotAggregation": null,
        "pivotColumns": null,
        "xColumns": null,
        "yColumns": null
       },
       "removedWidgets": [],
       "schema": [
        {
         "metadata": "{}",
         "name": "num_affected_rows",
         "type": "\"long\""
        },
        {
         "metadata": "{}",
         "name": "num_inserted_rows",
         "type": "\"long\""
        }
       ],
       "type": "table"
      }
     },
     "output_type": "display_data"
    }
   ],
   "source": [
    "%sql\n",
    "\n",
    "INSERT INTO matches (MatchId, fixture,GroupName, HomeTeam, AwayTeam, HomeTeamGoals, AwayTeamGoals, MatchResult, MatchStage)\n",
    "SELECT \n",
    "    Row_Number() OVER(ORDER BY 1) + 48 AS MatchId,\n",
    "    CONCAT(SF1.MATCHRESULT, ' Vs. ', SF2.MATCHRESULT) AS fixture,\n",
    "    'N' as GroupName,\n",
    "    SF1.MATCHRESULT AS HomeTeam,\n",
    "    SF2.MATCHRESULT AS AwayTeam,\n",
    "    CAST(rand() * 6 AS INT) AS GoalsScored, \n",
    "    CAST(rand() * 6 AS INT) AS GoalsAllowed,\n",
    "    'None' AS MatchResult,\n",
    "    'Semi-Final' AS MatchStage\n",
    "FROM \n",
    "    matches SF1\n",
    "JOIN \n",
    "    matches SF2 ON (\n",
    "        (SF1.MATCHID = 45 AND SF2.MatchId = 46) OR\n",
    "        (SF1.MATCHID = 47 AND SF2.MatchId = 48)\n",
    "    );"
   ]
  },
  {
   "cell_type": "code",
   "execution_count": 0,
   "metadata": {
    "application/vnd.databricks.v1+cell": {
     "cellMetadata": {
      "byteLimit": 2048000,
      "implicitDf": true,
      "rowLimit": 10000
     },
     "inputWidgets": {},
     "nuid": "849f0938-34ca-4180-a5c2-dc9adf4c2bf3",
     "showTitle": false,
     "title": ""
    }
   },
   "outputs": [
    {
     "output_type": "display_data",
     "data": {
      "text/html": [
       "<style scoped>\n",
       "  .table-result-container {\n",
       "    max-height: 300px;\n",
       "    overflow: auto;\n",
       "  }\n",
       "  table, th, td {\n",
       "    border: 1px solid black;\n",
       "    border-collapse: collapse;\n",
       "  }\n",
       "  th, td {\n",
       "    padding: 5px;\n",
       "  }\n",
       "  th {\n",
       "    text-align: left;\n",
       "  }\n",
       "</style><div class='table-result-container'><table class='table-result'><thead style='background-color: white'><tr><th>num_affected_rows</th></tr></thead><tbody><tr><td>2</td></tr></tbody></table></div>"
      ]
     },
     "metadata": {
      "application/vnd.databricks.v1+output": {
       "addedWidgets": {},
       "aggData": [],
       "aggError": "",
       "aggOverflow": false,
       "aggSchema": [],
       "aggSeriesLimitReached": false,
       "aggType": "",
       "arguments": {},
       "columnCustomDisplayInfos": {},
       "data": [
        [
         2
        ]
       ],
       "datasetInfos": [],
       "dbfsResultPath": null,
       "isJsonSchema": true,
       "metadata": {},
       "overflow": false,
       "plotOptions": {
        "customPlotOptions": {},
        "displayType": "table",
        "pivotAggregation": null,
        "pivotColumns": null,
        "xColumns": null,
        "yColumns": null
       },
       "removedWidgets": [],
       "schema": [
        {
         "metadata": "{}",
         "name": "num_affected_rows",
         "type": "\"long\""
        }
       ],
       "type": "table"
      }
     },
     "output_type": "display_data"
    }
   ],
   "source": [
    "%sql\n",
    "UPDATE Matches\n",
    "SET MatchResult = \n",
    "    CASE\n",
    "        WHEN HOMETEAMGOALS > AWAYTEAMGOALS THEN HomeTeam\n",
    "        WHEN HOMETEAMGOALS < AWAYTEAMGOALS THEN AwayTeam\n",
    "        ELSE \n",
    "          CASE \n",
    "                  WHEN (HomeTeamGoals + 1) % 2 = 1 THEN HomeTeam\n",
    "                  ELSE AwayTeam\n",
    "              END\n",
    "    END\n",
    "WHERE MatchStage = 'Semi-Final';"
   ]
  },
  {
   "cell_type": "markdown",
   "metadata": {
    "application/vnd.databricks.v1+cell": {
     "cellMetadata": {},
     "inputWidgets": {},
     "nuid": "4d203d6e-4696-4486-a712-df7ec1969312",
     "showTitle": false,
     "title": ""
    }
   },
   "source": [
    "## Match For Third Place"
   ]
  },
  {
   "cell_type": "code",
   "execution_count": 0,
   "metadata": {
    "application/vnd.databricks.v1+cell": {
     "cellMetadata": {
      "byteLimit": 2048000,
      "implicitDf": true,
      "rowLimit": 10000
     },
     "inputWidgets": {},
     "nuid": "c1d4b9b9-2c06-4ee3-9397-363d6dd6010e",
     "showTitle": false,
     "title": ""
    }
   },
   "outputs": [
    {
     "output_type": "display_data",
     "data": {
      "text/html": [
       "<style scoped>\n",
       "  .table-result-container {\n",
       "    max-height: 300px;\n",
       "    overflow: auto;\n",
       "  }\n",
       "  table, th, td {\n",
       "    border: 1px solid black;\n",
       "    border-collapse: collapse;\n",
       "  }\n",
       "  th, td {\n",
       "    padding: 5px;\n",
       "  }\n",
       "  th {\n",
       "    text-align: left;\n",
       "  }\n",
       "</style><div class='table-result-container'><table class='table-result'><thead style='background-color: white'><tr><th>num_affected_rows</th><th>num_inserted_rows</th></tr></thead><tbody><tr><td>1</td><td>1</td></tr></tbody></table></div>"
      ]
     },
     "metadata": {
      "application/vnd.databricks.v1+output": {
       "addedWidgets": {},
       "aggData": [],
       "aggError": "",
       "aggOverflow": false,
       "aggSchema": [],
       "aggSeriesLimitReached": false,
       "aggType": "",
       "arguments": {},
       "columnCustomDisplayInfos": {},
       "data": [
        [
         1,
         1
        ]
       ],
       "datasetInfos": [],
       "dbfsResultPath": null,
       "isJsonSchema": true,
       "metadata": {},
       "overflow": false,
       "plotOptions": {
        "customPlotOptions": {},
        "displayType": "table",
        "pivotAggregation": null,
        "pivotColumns": null,
        "xColumns": null,
        "yColumns": null
       },
       "removedWidgets": [],
       "schema": [
        {
         "metadata": "{}",
         "name": "num_affected_rows",
         "type": "\"long\""
        },
        {
         "metadata": "{}",
         "name": "num_inserted_rows",
         "type": "\"long\""
        }
       ],
       "type": "table"
      }
     },
     "output_type": "display_data"
    }
   ],
   "source": [
    "%sql\n",
    "INSERT INTO matches (MatchId, fixture,GroupName, HomeTeam, AwayTeam, HomeTeamGoals, AwayTeamGoals, MatchResult, MatchStage)\n",
    "WITH LosingTeams AS (\n",
    "    SELECT\n",
    "        CASE\n",
    "            WHEN MATCHRESULT != HOMETEAM THEN HOMETEAM\n",
    "            ELSE AWAYTEAM\n",
    "        END AS LosingTeam\n",
    "    FROM\n",
    "        matches\n",
    "    WHERE \n",
    "        MATCHSTAGE = 'Semi-Final'\n",
    ")\n",
    "\n",
    "SELECT \n",
    "    Row_Number() OVER(ORDER BY 1) + 50 AS MatchId,\n",
    "    CONCAT(T1.LosingTeam, ' Vs. ', T2.LosingTeam) AS fixture,\n",
    "    'N' as GroupName,\n",
    "    T1.LosingTeam AS HomeTeam,\n",
    "    T2.LosingTeam AS AwayTeam,\n",
    "    CAST(rand() * 6 AS INT) AS GoalsScored, \n",
    "    CAST(rand() * 6 AS INT) AS GoalsAllowed,\n",
    "    'None' AS MatchResult,\n",
    "    'Third-Place' AS MatchStage\n",
    "FROM \n",
    "    LosingTeams T1\n",
    "JOIN \n",
    "    LosingTeams T2 ON T1.LosingTeam < T2.LosingTeam;\n"
   ]
  },
  {
   "cell_type": "code",
   "execution_count": 0,
   "metadata": {
    "application/vnd.databricks.v1+cell": {
     "cellMetadata": {
      "byteLimit": 2048000,
      "implicitDf": true,
      "rowLimit": 10000
     },
     "inputWidgets": {},
     "nuid": "4a6eb8dc-0998-4b97-a03e-5bb659ae2227",
     "showTitle": false,
     "title": ""
    }
   },
   "outputs": [
    {
     "output_type": "display_data",
     "data": {
      "text/html": [
       "<style scoped>\n",
       "  .table-result-container {\n",
       "    max-height: 300px;\n",
       "    overflow: auto;\n",
       "  }\n",
       "  table, th, td {\n",
       "    border: 1px solid black;\n",
       "    border-collapse: collapse;\n",
       "  }\n",
       "  th, td {\n",
       "    padding: 5px;\n",
       "  }\n",
       "  th {\n",
       "    text-align: left;\n",
       "  }\n",
       "</style><div class='table-result-container'><table class='table-result'><thead style='background-color: white'><tr><th>num_affected_rows</th></tr></thead><tbody><tr><td>1</td></tr></tbody></table></div>"
      ]
     },
     "metadata": {
      "application/vnd.databricks.v1+output": {
       "addedWidgets": {},
       "aggData": [],
       "aggError": "",
       "aggOverflow": false,
       "aggSchema": [],
       "aggSeriesLimitReached": false,
       "aggType": "",
       "arguments": {},
       "columnCustomDisplayInfos": {},
       "data": [
        [
         1
        ]
       ],
       "datasetInfos": [],
       "dbfsResultPath": null,
       "isJsonSchema": true,
       "metadata": {},
       "overflow": false,
       "plotOptions": {
        "customPlotOptions": {},
        "displayType": "table",
        "pivotAggregation": null,
        "pivotColumns": null,
        "xColumns": null,
        "yColumns": null
       },
       "removedWidgets": [],
       "schema": [
        {
         "metadata": "{}",
         "name": "num_affected_rows",
         "type": "\"long\""
        }
       ],
       "type": "table"
      }
     },
     "output_type": "display_data"
    }
   ],
   "source": [
    "%sql\n",
    "UPDATE Matches\n",
    "SET MatchResult = \n",
    "    CASE\n",
    "        WHEN HOMETEAMGOALS > AWAYTEAMGOALS THEN HomeTeam\n",
    "        WHEN HOMETEAMGOALS < AWAYTEAMGOALS THEN AwayTeam\n",
    "        ELSE \n",
    "          CASE \n",
    "                  WHEN (HomeTeamGoals + 1) % 2 = 1 THEN HomeTeam\n",
    "                  ELSE AwayTeam\n",
    "              END\n",
    "    END\n",
    "WHERE MatchStage = 'Third-Place';"
   ]
  },
  {
   "cell_type": "markdown",
   "metadata": {
    "application/vnd.databricks.v1+cell": {
     "cellMetadata": {},
     "inputWidgets": {},
     "nuid": "1cbabc81-25b0-4561-b48a-1aeb68ba2b95",
     "showTitle": false,
     "title": ""
    }
   },
   "source": [
    "## Match For the Final"
   ]
  },
  {
   "cell_type": "code",
   "execution_count": 0,
   "metadata": {
    "application/vnd.databricks.v1+cell": {
     "cellMetadata": {
      "byteLimit": 2048000,
      "implicitDf": true,
      "rowLimit": 10000
     },
     "inputWidgets": {},
     "nuid": "1e8761d2-cd4a-4e0e-b887-d6bd14f4f237",
     "showTitle": false,
     "title": ""
    }
   },
   "outputs": [
    {
     "output_type": "display_data",
     "data": {
      "text/html": [
       "<style scoped>\n",
       "  .table-result-container {\n",
       "    max-height: 300px;\n",
       "    overflow: auto;\n",
       "  }\n",
       "  table, th, td {\n",
       "    border: 1px solid black;\n",
       "    border-collapse: collapse;\n",
       "  }\n",
       "  th, td {\n",
       "    padding: 5px;\n",
       "  }\n",
       "  th {\n",
       "    text-align: left;\n",
       "  }\n",
       "</style><div class='table-result-container'><table class='table-result'><thead style='background-color: white'><tr><th>num_affected_rows</th><th>num_inserted_rows</th></tr></thead><tbody><tr><td>1</td><td>1</td></tr></tbody></table></div>"
      ]
     },
     "metadata": {
      "application/vnd.databricks.v1+output": {
       "addedWidgets": {},
       "aggData": [],
       "aggError": "",
       "aggOverflow": false,
       "aggSchema": [],
       "aggSeriesLimitReached": false,
       "aggType": "",
       "arguments": {},
       "columnCustomDisplayInfos": {},
       "data": [
        [
         1,
         1
        ]
       ],
       "datasetInfos": [],
       "dbfsResultPath": null,
       "isJsonSchema": true,
       "metadata": {},
       "overflow": false,
       "plotOptions": {
        "customPlotOptions": {},
        "displayType": "table",
        "pivotAggregation": null,
        "pivotColumns": null,
        "xColumns": null,
        "yColumns": null
       },
       "removedWidgets": [],
       "schema": [
        {
         "metadata": "{}",
         "name": "num_affected_rows",
         "type": "\"long\""
        },
        {
         "metadata": "{}",
         "name": "num_inserted_rows",
         "type": "\"long\""
        }
       ],
       "type": "table"
      }
     },
     "output_type": "display_data"
    }
   ],
   "source": [
    "%sql\n",
    "INSERT INTO matches (MatchId, fixture,GroupName, HomeTeam, AwayTeam, HomeTeamGoals, AwayTeamGoals, MatchResult, MatchStage)\n",
    "SELECT \n",
    "    Row_Number() OVER(ORDER BY 1) + 52 AS MatchId,\n",
    "    CONCAT(F1.MATCHRESULT, ' Vs. ', F2.MATCHRESULT) AS fixture,\n",
    "    'N' as GroupName,\n",
    "    F1.MATCHRESULT AS HomeTeam,\n",
    "    F2.MATCHRESULT AS AwayTeam,\n",
    "    CAST(rand() * 6 AS INT) AS GoalsScored, \n",
    "    CAST(rand() * 6 AS INT) AS GoalsAllowed,\n",
    "    'None' AS MatchResult,\n",
    "    'Final' AS MatchStage\n",
    "FROM \n",
    "    matches F1\n",
    "JOIN \n",
    "    matches F2 ON \n",
    "        F1.MATCHID = 49 AND F2.MatchId = 50;"
   ]
  },
  {
   "cell_type": "code",
   "execution_count": 0,
   "metadata": {
    "application/vnd.databricks.v1+cell": {
     "cellMetadata": {
      "byteLimit": 2048000,
      "implicitDf": true,
      "rowLimit": 10000
     },
     "inputWidgets": {},
     "nuid": "2def8fab-8c8c-4505-b006-804c5fe104bd",
     "showTitle": false,
     "title": ""
    }
   },
   "outputs": [
    {
     "output_type": "display_data",
     "data": {
      "text/html": [
       "<style scoped>\n",
       "  .table-result-container {\n",
       "    max-height: 300px;\n",
       "    overflow: auto;\n",
       "  }\n",
       "  table, th, td {\n",
       "    border: 1px solid black;\n",
       "    border-collapse: collapse;\n",
       "  }\n",
       "  th, td {\n",
       "    padding: 5px;\n",
       "  }\n",
       "  th {\n",
       "    text-align: left;\n",
       "  }\n",
       "</style><div class='table-result-container'><table class='table-result'><thead style='background-color: white'><tr><th>num_affected_rows</th></tr></thead><tbody><tr><td>1</td></tr></tbody></table></div>"
      ]
     },
     "metadata": {
      "application/vnd.databricks.v1+output": {
       "addedWidgets": {},
       "aggData": [],
       "aggError": "",
       "aggOverflow": false,
       "aggSchema": [],
       "aggSeriesLimitReached": false,
       "aggType": "",
       "arguments": {},
       "columnCustomDisplayInfos": {},
       "data": [
        [
         1
        ]
       ],
       "datasetInfos": [],
       "dbfsResultPath": null,
       "isJsonSchema": true,
       "metadata": {},
       "overflow": false,
       "plotOptions": {
        "customPlotOptions": {},
        "displayType": "table",
        "pivotAggregation": null,
        "pivotColumns": null,
        "xColumns": null,
        "yColumns": null
       },
       "removedWidgets": [],
       "schema": [
        {
         "metadata": "{}",
         "name": "num_affected_rows",
         "type": "\"long\""
        }
       ],
       "type": "table"
      }
     },
     "output_type": "display_data"
    }
   ],
   "source": [
    "%sql\n",
    "UPDATE Matches\n",
    "SET MatchResult = \n",
    "    CASE\n",
    "        WHEN HOMETEAMGOALS > AWAYTEAMGOALS THEN HomeTeam\n",
    "        WHEN HOMETEAMGOALS < AWAYTEAMGOALS THEN AwayTeam\n",
    "        ELSE \n",
    "          CASE \n",
    "                WHEN (HomeTeamGoals + 1) % 2 = 1 THEN HomeTeam\n",
    "                ELSE AwayTeam\n",
    "            END\n",
    "    END\n",
    "WHERE MatchStage = 'Final';"
   ]
  },
  {
   "cell_type": "code",
   "execution_count": 0,
   "metadata": {
    "application/vnd.databricks.v1+cell": {
     "cellMetadata": {
      "byteLimit": 2048000,
      "implicitDf": true,
      "rowLimit": 10000
     },
     "inputWidgets": {},
     "nuid": "c605fcc5-7909-4b0c-a306-ef876b4a4356",
     "showTitle": false,
     "title": ""
    }
   },
   "outputs": [
    {
     "output_type": "display_data",
     "data": {
      "text/html": [
       "<style scoped>\n",
       "  .table-result-container {\n",
       "    max-height: 300px;\n",
       "    overflow: auto;\n",
       "  }\n",
       "  table, th, td {\n",
       "    border: 1px solid black;\n",
       "    border-collapse: collapse;\n",
       "  }\n",
       "  th, td {\n",
       "    padding: 5px;\n",
       "  }\n",
       "  th {\n",
       "    text-align: left;\n",
       "  }\n",
       "</style><div class='table-result-container'><table class='table-result'><thead style='background-color: white'><tr><th>MatchID</th><th>Fixture</th><th>GroupName</th><th>HomeTeam</th><th>AwayTeam</th><th>HomeTeamGoals</th><th>AwayTeamGoals</th><th>MatchResult</th><th>MatchStage</th></tr></thead><tbody><tr><td>37</td><td>Switzerland Vs. Serbia</td><td>N</td><td>Switzerland</td><td>Serbia</td><td>1</td><td>1</td><td>Serbia</td><td>R16</td></tr><tr><td>38</td><td>Hungary Vs. Spain</td><td>N</td><td>Hungary</td><td>Spain</td><td>0</td><td>2</td><td>Spain</td><td>R16</td></tr><tr><td>39</td><td>Albania Vs. Germany</td><td>N</td><td>Albania</td><td>Germany</td><td>0</td><td>0</td><td>Albania</td><td>R16</td></tr><tr><td>40</td><td>Slovenia Vs. Austria</td><td>N</td><td>Slovenia</td><td>Austria</td><td>4</td><td>5</td><td>Austria</td><td>R16</td></tr><tr><td>41</td><td>France Vs. Czech Republic</td><td>N</td><td>France</td><td>Czech Republic</td><td>5</td><td>2</td><td>France</td><td>R16</td></tr><tr><td>42</td><td>Netherlands Vs. Play-off Winner B</td><td>N</td><td>Netherlands</td><td>Play-off Winner B</td><td>4</td><td>1</td><td>Netherlands</td><td>R16</td></tr><tr><td>43</td><td>Slovakia Vs. Italy</td><td>N</td><td>Slovakia</td><td>Italy</td><td>2</td><td>4</td><td>Italy</td><td>R16</td></tr><tr><td>44</td><td>Play-off Winner C Vs. Denmark</td><td>N</td><td>Play-off Winner C</td><td>Denmark</td><td>0</td><td>1</td><td>Denmark</td><td>R16</td></tr></tbody></table></div>"
      ]
     },
     "metadata": {
      "application/vnd.databricks.v1+output": {
       "addedWidgets": {},
       "aggData": [],
       "aggError": "",
       "aggOverflow": false,
       "aggSchema": [],
       "aggSeriesLimitReached": false,
       "aggType": "",
       "arguments": {},
       "columnCustomDisplayInfos": {},
       "data": [
        [
         37,
         "Switzerland Vs. Serbia",
         "N",
         "Switzerland",
         "Serbia",
         1,
         1,
         "Serbia",
         "R16"
        ],
        [
         38,
         "Hungary Vs. Spain",
         "N",
         "Hungary",
         "Spain",
         0,
         2,
         "Spain",
         "R16"
        ],
        [
         39,
         "Albania Vs. Germany",
         "N",
         "Albania",
         "Germany",
         0,
         0,
         "Albania",
         "R16"
        ],
        [
         40,
         "Slovenia Vs. Austria",
         "N",
         "Slovenia",
         "Austria",
         4,
         5,
         "Austria",
         "R16"
        ],
        [
         41,
         "France Vs. Czech Republic",
         "N",
         "France",
         "Czech Republic",
         5,
         2,
         "France",
         "R16"
        ],
        [
         42,
         "Netherlands Vs. Play-off Winner B",
         "N",
         "Netherlands",
         "Play-off Winner B",
         4,
         1,
         "Netherlands",
         "R16"
        ],
        [
         43,
         "Slovakia Vs. Italy",
         "N",
         "Slovakia",
         "Italy",
         2,
         4,
         "Italy",
         "R16"
        ],
        [
         44,
         "Play-off Winner C Vs. Denmark",
         "N",
         "Play-off Winner C",
         "Denmark",
         0,
         1,
         "Denmark",
         "R16"
        ]
       ],
       "datasetInfos": [],
       "dbfsResultPath": null,
       "isJsonSchema": true,
       "metadata": {},
       "overflow": false,
       "plotOptions": {
        "customPlotOptions": {},
        "displayType": "table",
        "pivotAggregation": null,
        "pivotColumns": null,
        "xColumns": null,
        "yColumns": null
       },
       "removedWidgets": [],
       "schema": [
        {
         "metadata": "{}",
         "name": "MatchID",
         "type": "\"integer\""
        },
        {
         "metadata": "{\"__CHAR_VARCHAR_TYPE_STRING\":\"varchar(50)\"}",
         "name": "Fixture",
         "type": "\"string\""
        },
        {
         "metadata": "{\"__CHAR_VARCHAR_TYPE_STRING\":\"varchar(1)\"}",
         "name": "GroupName",
         "type": "\"string\""
        },
        {
         "metadata": "{\"__CHAR_VARCHAR_TYPE_STRING\":\"varchar(20)\"}",
         "name": "HomeTeam",
         "type": "\"string\""
        },
        {
         "metadata": "{\"__CHAR_VARCHAR_TYPE_STRING\":\"varchar(20)\"}",
         "name": "AwayTeam",
         "type": "\"string\""
        },
        {
         "metadata": "{}",
         "name": "HomeTeamGoals",
         "type": "\"integer\""
        },
        {
         "metadata": "{}",
         "name": "AwayTeamGoals",
         "type": "\"integer\""
        },
        {
         "metadata": "{\"__CHAR_VARCHAR_TYPE_STRING\":\"varchar(20)\"}",
         "name": "MatchResult",
         "type": "\"string\""
        },
        {
         "metadata": "{\"__CHAR_VARCHAR_TYPE_STRING\":\"varchar(20)\"}",
         "name": "MatchStage",
         "type": "\"string\""
        }
       ],
       "type": "table"
      }
     },
     "output_type": "display_data"
    }
   ],
   "source": [
    "%sql\n",
    "select * from matches where MatchStage = 'R16' order by MatchId;"
   ]
  },
  {
   "cell_type": "code",
   "execution_count": 0,
   "metadata": {
    "application/vnd.databricks.v1+cell": {
     "cellMetadata": {
      "byteLimit": 2048000,
      "implicitDf": true,
      "rowLimit": 10000
     },
     "inputWidgets": {},
     "nuid": "e90eedad-5449-4996-be3e-af22a2107a15",
     "showTitle": false,
     "title": ""
    }
   },
   "outputs": [
    {
     "output_type": "display_data",
     "data": {
      "text/html": [
       "<style scoped>\n",
       "  .table-result-container {\n",
       "    max-height: 300px;\n",
       "    overflow: auto;\n",
       "  }\n",
       "  table, th, td {\n",
       "    border: 1px solid black;\n",
       "    border-collapse: collapse;\n",
       "  }\n",
       "  th, td {\n",
       "    padding: 5px;\n",
       "  }\n",
       "  th {\n",
       "    text-align: left;\n",
       "  }\n",
       "</style><div class='table-result-container'><table class='table-result'><thead style='background-color: white'><tr><th>MatchID</th><th>Fixture</th><th>GroupName</th><th>HomeTeam</th><th>AwayTeam</th><th>HomeTeamGoals</th><th>AwayTeamGoals</th><th>MatchResult</th><th>MatchStage</th></tr></thead><tbody><tr><td>45</td><td>Albania Vs. Serbia</td><td>N</td><td>Albania</td><td>Serbia</td><td>1</td><td>5</td><td>Serbia</td><td>Quarter-Final</td></tr><tr><td>46</td><td>Austria Vs. Spain</td><td>N</td><td>Austria</td><td>Spain</td><td>1</td><td>4</td><td>Spain</td><td>Quarter-Final</td></tr><tr><td>47</td><td>France Vs. Netherlands</td><td>N</td><td>France</td><td>Netherlands</td><td>3</td><td>2</td><td>France</td><td>Quarter-Final</td></tr><tr><td>48</td><td>Italy Vs. Denmark</td><td>N</td><td>Italy</td><td>Denmark</td><td>3</td><td>5</td><td>Denmark</td><td>Quarter-Final</td></tr></tbody></table></div>"
      ]
     },
     "metadata": {
      "application/vnd.databricks.v1+output": {
       "addedWidgets": {},
       "aggData": [],
       "aggError": "",
       "aggOverflow": false,
       "aggSchema": [],
       "aggSeriesLimitReached": false,
       "aggType": "",
       "arguments": {},
       "columnCustomDisplayInfos": {},
       "data": [
        [
         45,
         "Albania Vs. Serbia",
         "N",
         "Albania",
         "Serbia",
         1,
         5,
         "Serbia",
         "Quarter-Final"
        ],
        [
         46,
         "Austria Vs. Spain",
         "N",
         "Austria",
         "Spain",
         1,
         4,
         "Spain",
         "Quarter-Final"
        ],
        [
         47,
         "France Vs. Netherlands",
         "N",
         "France",
         "Netherlands",
         3,
         2,
         "France",
         "Quarter-Final"
        ],
        [
         48,
         "Italy Vs. Denmark",
         "N",
         "Italy",
         "Denmark",
         3,
         5,
         "Denmark",
         "Quarter-Final"
        ]
       ],
       "datasetInfos": [],
       "dbfsResultPath": null,
       "isJsonSchema": true,
       "metadata": {},
       "overflow": false,
       "plotOptions": {
        "customPlotOptions": {},
        "displayType": "table",
        "pivotAggregation": null,
        "pivotColumns": null,
        "xColumns": null,
        "yColumns": null
       },
       "removedWidgets": [],
       "schema": [
        {
         "metadata": "{}",
         "name": "MatchID",
         "type": "\"integer\""
        },
        {
         "metadata": "{\"__CHAR_VARCHAR_TYPE_STRING\":\"varchar(50)\"}",
         "name": "Fixture",
         "type": "\"string\""
        },
        {
         "metadata": "{\"__CHAR_VARCHAR_TYPE_STRING\":\"varchar(1)\"}",
         "name": "GroupName",
         "type": "\"string\""
        },
        {
         "metadata": "{\"__CHAR_VARCHAR_TYPE_STRING\":\"varchar(20)\"}",
         "name": "HomeTeam",
         "type": "\"string\""
        },
        {
         "metadata": "{\"__CHAR_VARCHAR_TYPE_STRING\":\"varchar(20)\"}",
         "name": "AwayTeam",
         "type": "\"string\""
        },
        {
         "metadata": "{}",
         "name": "HomeTeamGoals",
         "type": "\"integer\""
        },
        {
         "metadata": "{}",
         "name": "AwayTeamGoals",
         "type": "\"integer\""
        },
        {
         "metadata": "{\"__CHAR_VARCHAR_TYPE_STRING\":\"varchar(20)\"}",
         "name": "MatchResult",
         "type": "\"string\""
        },
        {
         "metadata": "{\"__CHAR_VARCHAR_TYPE_STRING\":\"varchar(20)\"}",
         "name": "MatchStage",
         "type": "\"string\""
        }
       ],
       "type": "table"
      }
     },
     "output_type": "display_data"
    }
   ],
   "source": [
    "%sql\n",
    "SELECT * FROM Matches where MatchStage = 'Quarter-Final' order by MatchId;"
   ]
  },
  {
   "cell_type": "code",
   "execution_count": 0,
   "metadata": {
    "application/vnd.databricks.v1+cell": {
     "cellMetadata": {
      "byteLimit": 2048000,
      "implicitDf": true,
      "rowLimit": 10000
     },
     "inputWidgets": {},
     "nuid": "2eec5fbc-1d03-4f4b-b6ba-c09947b146ac",
     "showTitle": false,
     "title": ""
    }
   },
   "outputs": [
    {
     "output_type": "display_data",
     "data": {
      "text/html": [
       "<style scoped>\n",
       "  .table-result-container {\n",
       "    max-height: 300px;\n",
       "    overflow: auto;\n",
       "  }\n",
       "  table, th, td {\n",
       "    border: 1px solid black;\n",
       "    border-collapse: collapse;\n",
       "  }\n",
       "  th, td {\n",
       "    padding: 5px;\n",
       "  }\n",
       "  th {\n",
       "    text-align: left;\n",
       "  }\n",
       "</style><div class='table-result-container'><table class='table-result'><thead style='background-color: white'><tr><th>MatchID</th><th>Fixture</th><th>GroupName</th><th>HomeTeam</th><th>AwayTeam</th><th>HomeTeamGoals</th><th>AwayTeamGoals</th><th>MatchResult</th><th>MatchStage</th></tr></thead><tbody><tr><td>49</td><td>Serbia Vs. Spain</td><td>N</td><td>Serbia</td><td>Spain</td><td>2</td><td>5</td><td>Spain</td><td>Semi-Final</td></tr><tr><td>50</td><td>France Vs. Denmark</td><td>N</td><td>France</td><td>Denmark</td><td>1</td><td>2</td><td>Denmark</td><td>Semi-Final</td></tr></tbody></table></div>"
      ]
     },
     "metadata": {
      "application/vnd.databricks.v1+output": {
       "addedWidgets": {},
       "aggData": [],
       "aggError": "",
       "aggOverflow": false,
       "aggSchema": [],
       "aggSeriesLimitReached": false,
       "aggType": "",
       "arguments": {},
       "columnCustomDisplayInfos": {},
       "data": [
        [
         49,
         "Serbia Vs. Spain",
         "N",
         "Serbia",
         "Spain",
         2,
         5,
         "Spain",
         "Semi-Final"
        ],
        [
         50,
         "France Vs. Denmark",
         "N",
         "France",
         "Denmark",
         1,
         2,
         "Denmark",
         "Semi-Final"
        ]
       ],
       "datasetInfos": [],
       "dbfsResultPath": null,
       "isJsonSchema": true,
       "metadata": {},
       "overflow": false,
       "plotOptions": {
        "customPlotOptions": {},
        "displayType": "table",
        "pivotAggregation": null,
        "pivotColumns": null,
        "xColumns": null,
        "yColumns": null
       },
       "removedWidgets": [],
       "schema": [
        {
         "metadata": "{}",
         "name": "MatchID",
         "type": "\"integer\""
        },
        {
         "metadata": "{\"__CHAR_VARCHAR_TYPE_STRING\":\"varchar(50)\"}",
         "name": "Fixture",
         "type": "\"string\""
        },
        {
         "metadata": "{\"__CHAR_VARCHAR_TYPE_STRING\":\"varchar(1)\"}",
         "name": "GroupName",
         "type": "\"string\""
        },
        {
         "metadata": "{\"__CHAR_VARCHAR_TYPE_STRING\":\"varchar(20)\"}",
         "name": "HomeTeam",
         "type": "\"string\""
        },
        {
         "metadata": "{\"__CHAR_VARCHAR_TYPE_STRING\":\"varchar(20)\"}",
         "name": "AwayTeam",
         "type": "\"string\""
        },
        {
         "metadata": "{}",
         "name": "HomeTeamGoals",
         "type": "\"integer\""
        },
        {
         "metadata": "{}",
         "name": "AwayTeamGoals",
         "type": "\"integer\""
        },
        {
         "metadata": "{\"__CHAR_VARCHAR_TYPE_STRING\":\"varchar(20)\"}",
         "name": "MatchResult",
         "type": "\"string\""
        },
        {
         "metadata": "{\"__CHAR_VARCHAR_TYPE_STRING\":\"varchar(20)\"}",
         "name": "MatchStage",
         "type": "\"string\""
        }
       ],
       "type": "table"
      }
     },
     "output_type": "display_data"
    }
   ],
   "source": [
    "%sql\n",
    "SELECT * FROM Matches where MatchStage = 'Semi-Final' order by MatchId;"
   ]
  },
  {
   "cell_type": "code",
   "execution_count": 0,
   "metadata": {
    "application/vnd.databricks.v1+cell": {
     "cellMetadata": {
      "byteLimit": 2048000,
      "implicitDf": true,
      "rowLimit": 10000
     },
     "inputWidgets": {},
     "nuid": "1ae08f08-e40f-40f2-a4ee-49e5aedd2685",
     "showTitle": false,
     "title": ""
    }
   },
   "outputs": [
    {
     "output_type": "display_data",
     "data": {
      "text/html": [
       "<style scoped>\n",
       "  .table-result-container {\n",
       "    max-height: 300px;\n",
       "    overflow: auto;\n",
       "  }\n",
       "  table, th, td {\n",
       "    border: 1px solid black;\n",
       "    border-collapse: collapse;\n",
       "  }\n",
       "  th, td {\n",
       "    padding: 5px;\n",
       "  }\n",
       "  th {\n",
       "    text-align: left;\n",
       "  }\n",
       "</style><div class='table-result-container'><table class='table-result'><thead style='background-color: white'><tr><th>MatchID</th><th>Fixture</th><th>GroupName</th><th>HomeTeam</th><th>AwayTeam</th><th>HomeTeamGoals</th><th>AwayTeamGoals</th><th>MatchResult</th><th>MatchStage</th></tr></thead><tbody><tr><td>51</td><td>France Vs. Serbia</td><td>N</td><td>France</td><td>Serbia</td><td>1</td><td>5</td><td>Serbia</td><td>Third-Place</td></tr></tbody></table></div>"
      ]
     },
     "metadata": {
      "application/vnd.databricks.v1+output": {
       "addedWidgets": {},
       "aggData": [],
       "aggError": "",
       "aggOverflow": false,
       "aggSchema": [],
       "aggSeriesLimitReached": false,
       "aggType": "",
       "arguments": {},
       "columnCustomDisplayInfos": {},
       "data": [
        [
         51,
         "France Vs. Serbia",
         "N",
         "France",
         "Serbia",
         1,
         5,
         "Serbia",
         "Third-Place"
        ]
       ],
       "datasetInfos": [],
       "dbfsResultPath": null,
       "isJsonSchema": true,
       "metadata": {},
       "overflow": false,
       "plotOptions": {
        "customPlotOptions": {},
        "displayType": "table",
        "pivotAggregation": null,
        "pivotColumns": null,
        "xColumns": null,
        "yColumns": null
       },
       "removedWidgets": [],
       "schema": [
        {
         "metadata": "{}",
         "name": "MatchID",
         "type": "\"integer\""
        },
        {
         "metadata": "{\"__CHAR_VARCHAR_TYPE_STRING\":\"varchar(50)\"}",
         "name": "Fixture",
         "type": "\"string\""
        },
        {
         "metadata": "{\"__CHAR_VARCHAR_TYPE_STRING\":\"varchar(1)\"}",
         "name": "GroupName",
         "type": "\"string\""
        },
        {
         "metadata": "{\"__CHAR_VARCHAR_TYPE_STRING\":\"varchar(20)\"}",
         "name": "HomeTeam",
         "type": "\"string\""
        },
        {
         "metadata": "{\"__CHAR_VARCHAR_TYPE_STRING\":\"varchar(20)\"}",
         "name": "AwayTeam",
         "type": "\"string\""
        },
        {
         "metadata": "{}",
         "name": "HomeTeamGoals",
         "type": "\"integer\""
        },
        {
         "metadata": "{}",
         "name": "AwayTeamGoals",
         "type": "\"integer\""
        },
        {
         "metadata": "{\"__CHAR_VARCHAR_TYPE_STRING\":\"varchar(20)\"}",
         "name": "MatchResult",
         "type": "\"string\""
        },
        {
         "metadata": "{\"__CHAR_VARCHAR_TYPE_STRING\":\"varchar(20)\"}",
         "name": "MatchStage",
         "type": "\"string\""
        }
       ],
       "type": "table"
      }
     },
     "output_type": "display_data"
    }
   ],
   "source": [
    "%sql\n",
    "SELECT * FROM Matches where MatchStage = 'Third-Place' order by MatchId;"
   ]
  },
  {
   "cell_type": "code",
   "execution_count": 0,
   "metadata": {
    "application/vnd.databricks.v1+cell": {
     "cellMetadata": {
      "byteLimit": 2048000,
      "implicitDf": true,
      "rowLimit": 10000
     },
     "inputWidgets": {},
     "nuid": "1fd5db1f-d759-4b36-b936-a7c4c66cb991",
     "showTitle": false,
     "title": ""
    }
   },
   "outputs": [
    {
     "output_type": "display_data",
     "data": {
      "text/html": [
       "<style scoped>\n",
       "  .table-result-container {\n",
       "    max-height: 300px;\n",
       "    overflow: auto;\n",
       "  }\n",
       "  table, th, td {\n",
       "    border: 1px solid black;\n",
       "    border-collapse: collapse;\n",
       "  }\n",
       "  th, td {\n",
       "    padding: 5px;\n",
       "  }\n",
       "  th {\n",
       "    text-align: left;\n",
       "  }\n",
       "</style><div class='table-result-container'><table class='table-result'><thead style='background-color: white'><tr><th>MatchID</th><th>Fixture</th><th>GroupName</th><th>HomeTeam</th><th>AwayTeam</th><th>HomeTeamGoals</th><th>AwayTeamGoals</th><th>MatchResult</th><th>MatchStage</th></tr></thead><tbody><tr><td>53</td><td>Spain Vs. Denmark</td><td>N</td><td>Spain</td><td>Denmark</td><td>3</td><td>5</td><td>Denmark</td><td>Final</td></tr></tbody></table></div>"
      ]
     },
     "metadata": {
      "application/vnd.databricks.v1+output": {
       "addedWidgets": {},
       "aggData": [],
       "aggError": "",
       "aggOverflow": false,
       "aggSchema": [],
       "aggSeriesLimitReached": false,
       "aggType": "",
       "arguments": {},
       "columnCustomDisplayInfos": {},
       "data": [
        [
         53,
         "Spain Vs. Denmark",
         "N",
         "Spain",
         "Denmark",
         3,
         5,
         "Denmark",
         "Final"
        ]
       ],
       "datasetInfos": [],
       "dbfsResultPath": null,
       "isJsonSchema": true,
       "metadata": {},
       "overflow": false,
       "plotOptions": {
        "customPlotOptions": {},
        "displayType": "table",
        "pivotAggregation": null,
        "pivotColumns": null,
        "xColumns": null,
        "yColumns": null
       },
       "removedWidgets": [],
       "schema": [
        {
         "metadata": "{}",
         "name": "MatchID",
         "type": "\"integer\""
        },
        {
         "metadata": "{\"__CHAR_VARCHAR_TYPE_STRING\":\"varchar(50)\"}",
         "name": "Fixture",
         "type": "\"string\""
        },
        {
         "metadata": "{\"__CHAR_VARCHAR_TYPE_STRING\":\"varchar(1)\"}",
         "name": "GroupName",
         "type": "\"string\""
        },
        {
         "metadata": "{\"__CHAR_VARCHAR_TYPE_STRING\":\"varchar(20)\"}",
         "name": "HomeTeam",
         "type": "\"string\""
        },
        {
         "metadata": "{\"__CHAR_VARCHAR_TYPE_STRING\":\"varchar(20)\"}",
         "name": "AwayTeam",
         "type": "\"string\""
        },
        {
         "metadata": "{}",
         "name": "HomeTeamGoals",
         "type": "\"integer\""
        },
        {
         "metadata": "{}",
         "name": "AwayTeamGoals",
         "type": "\"integer\""
        },
        {
         "metadata": "{\"__CHAR_VARCHAR_TYPE_STRING\":\"varchar(20)\"}",
         "name": "MatchResult",
         "type": "\"string\""
        },
        {
         "metadata": "{\"__CHAR_VARCHAR_TYPE_STRING\":\"varchar(20)\"}",
         "name": "MatchStage",
         "type": "\"string\""
        }
       ],
       "type": "table"
      }
     },
     "output_type": "display_data"
    }
   ],
   "source": [
    "%sql\n",
    "SELECT * FROM Matches where MatchStage = 'Final' order by MatchId;"
   ]
  },
  {
   "cell_type": "markdown",
   "metadata": {
    "application/vnd.databricks.v1+cell": {
     "cellMetadata": {},
     "inputWidgets": {},
     "nuid": "99a49367-d758-4bd3-acfc-c5faee1b2685",
     "showTitle": false,
     "title": ""
    }
   },
   "source": [
    "# Matches Visualization For Each Stage"
   ]
  },
  {
   "cell_type": "code",
   "execution_count": 0,
   "metadata": {
    "application/vnd.databricks.v1+cell": {
     "cellMetadata": {
      "byteLimit": 2048000,
      "rowLimit": 10000
     },
     "inputWidgets": {},
     "nuid": "9050101e-0b23-4db5-a788-93ce062ef4ca",
     "showTitle": false,
     "title": ""
    }
   },
   "outputs": [
    {
     "output_type": "display_data",
     "data": {
      "application/vnd.databricks.v1+bamboolib_hint": "{\"pd.DataFrames\": [], \"version\": \"0.0.1\"}",
      "text/plain": []
     },
     "metadata": {},
     "output_type": "display_data"
    }
   ],
   "source": [
    "%python\n",
    "import pandas as pd\n",
    "from pyspark.sql import SparkSession\n"
   ]
  },
  {
   "cell_type": "code",
   "execution_count": 0,
   "metadata": {
    "application/vnd.databricks.v1+cell": {
     "cellMetadata": {
      "byteLimit": 2048000,
      "rowLimit": 10000
     },
     "inputWidgets": {},
     "nuid": "83416a53-999c-4192-a304-d36419e50147",
     "showTitle": false,
     "title": ""
    }
   },
   "outputs": [],
   "source": [
    "%python\n",
    "#Spark Session\n",
    "spark = SparkSession.builder \\\n",
    "    .appName(\"euro_cup_visulization\") \\\n",
    "    .getOrCreate()"
   ]
  },
  {
   "cell_type": "code",
   "execution_count": 0,
   "metadata": {
    "application/vnd.databricks.v1+cell": {
     "cellMetadata": {
      "byteLimit": 2048000,
      "rowLimit": 10000
     },
     "inputWidgets": {},
     "nuid": "286bfb30-1c7d-4800-9c3b-fefb36b9f496",
     "showTitle": false,
     "title": ""
    }
   },
   "outputs": [
    {
     "output_type": "stream",
     "name": "stderr",
     "output_type": "stream",
     "text": [
      "<command-4294186947500829>:4: FutureWarning: The frame.append method is deprecated and will be removed from pandas in a future version. Use pandas.concat instead.\n  visualize_table16 = visualize_table16.append({'Roundof16': ''}, ignore_index=True)\n<command-4294186947500829>:5: FutureWarning: The frame.append method is deprecated and will be removed from pandas in a future version. Use pandas.concat instead.\n  visualize_table16 = visualize_table16.append({'Roundof16': ''}, ignore_index=True)\n<command-4294186947500829>:7: FutureWarning: The frame.append method is deprecated and will be removed from pandas in a future version. Use pandas.concat instead.\n  visualize_table16 = visualize_table16.append({'Roundof16': f\"{row['Team1']} ({row['Team1Score']})\"}, ignore_index=True)\n<command-4294186947500829>:8: FutureWarning: The frame.append method is deprecated and will be removed from pandas in a future version. Use pandas.concat instead.\n  visualize_table16 = visualize_table16.append({'Roundof16': f\"{row['Team2']} ({row['Team2Score']})\"}, ignore_index=True)\n<command-4294186947500829>:11: FutureWarning: The frame.append method is deprecated and will be removed from pandas in a future version. Use pandas.concat instead.\n  visualize_table16 = visualize_table16.append({'Roundof16': ''}, ignore_index=True)\n<command-4294186947500829>:12: FutureWarning: The frame.append method is deprecated and will be removed from pandas in a future version. Use pandas.concat instead.\n  visualize_table16 = visualize_table16.append({'Roundof16': ''}, ignore_index=True)\n<command-4294186947500829>:7: FutureWarning: The frame.append method is deprecated and will be removed from pandas in a future version. Use pandas.concat instead.\n  visualize_table16 = visualize_table16.append({'Roundof16': f\"{row['Team1']} ({row['Team1Score']})\"}, ignore_index=True)\n<command-4294186947500829>:8: FutureWarning: The frame.append method is deprecated and will be removed from pandas in a future version. Use pandas.concat instead.\n  visualize_table16 = visualize_table16.append({'Roundof16': f\"{row['Team2']} ({row['Team2Score']})\"}, ignore_index=True)\n<command-4294186947500829>:11: FutureWarning: The frame.append method is deprecated and will be removed from pandas in a future version. Use pandas.concat instead.\n  visualize_table16 = visualize_table16.append({'Roundof16': ''}, ignore_index=True)\n<command-4294186947500829>:12: FutureWarning: The frame.append method is deprecated and will be removed from pandas in a future version. Use pandas.concat instead.\n  visualize_table16 = visualize_table16.append({'Roundof16': ''}, ignore_index=True)\n<command-4294186947500829>:7: FutureWarning: The frame.append method is deprecated and will be removed from pandas in a future version. Use pandas.concat instead.\n  visualize_table16 = visualize_table16.append({'Roundof16': f\"{row['Team1']} ({row['Team1Score']})\"}, ignore_index=True)\n<command-4294186947500829>:8: FutureWarning: The frame.append method is deprecated and will be removed from pandas in a future version. Use pandas.concat instead.\n  visualize_table16 = visualize_table16.append({'Roundof16': f\"{row['Team2']} ({row['Team2Score']})\"}, ignore_index=True)\n<command-4294186947500829>:11: FutureWarning: The frame.append method is deprecated and will be removed from pandas in a future version. Use pandas.concat instead.\n  visualize_table16 = visualize_table16.append({'Roundof16': ''}, ignore_index=True)\n<command-4294186947500829>:12: FutureWarning: The frame.append method is deprecated and will be removed from pandas in a future version. Use pandas.concat instead.\n  visualize_table16 = visualize_table16.append({'Roundof16': ''}, ignore_index=True)\n<command-4294186947500829>:7: FutureWarning: The frame.append method is deprecated and will be removed from pandas in a future version. Use pandas.concat instead.\n  visualize_table16 = visualize_table16.append({'Roundof16': f\"{row['Team1']} ({row['Team1Score']})\"}, ignore_index=True)\n<command-4294186947500829>:8: FutureWarning: The frame.append method is deprecated and will be removed from pandas in a future version. Use pandas.concat instead.\n  visualize_table16 = visualize_table16.append({'Roundof16': f\"{row['Team2']} ({row['Team2Score']})\"}, ignore_index=True)\n<command-4294186947500829>:11: FutureWarning: The frame.append method is deprecated and will be removed from pandas in a future version. Use pandas.concat instead.\n  visualize_table16 = visualize_table16.append({'Roundof16': ''}, ignore_index=True)\n<command-4294186947500829>:12: FutureWarning: The frame.append method is deprecated and will be removed from pandas in a future version. Use pandas.concat instead.\n  visualize_table16 = visualize_table16.append({'Roundof16': ''}, ignore_index=True)\n<command-4294186947500829>:7: FutureWarning: The frame.append method is deprecated and will be removed from pandas in a future version. Use pandas.concat instead.\n  visualize_table16 = visualize_table16.append({'Roundof16': f\"{row['Team1']} ({row['Team1Score']})\"}, ignore_index=True)\n<command-4294186947500829>:8: FutureWarning: The frame.append method is deprecated and will be removed from pandas in a future version. Use pandas.concat instead.\n  visualize_table16 = visualize_table16.append({'Roundof16': f\"{row['Team2']} ({row['Team2Score']})\"}, ignore_index=True)\n<command-4294186947500829>:11: FutureWarning: The frame.append method is deprecated and will be removed from pandas in a future version. Use pandas.concat instead.\n  visualize_table16 = visualize_table16.append({'Roundof16': ''}, ignore_index=True)\n<command-4294186947500829>:12: FutureWarning: The frame.append method is deprecated and will be removed from pandas in a future version. Use pandas.concat instead.\n  visualize_table16 = visualize_table16.append({'Roundof16': ''}, ignore_index=True)\n<command-4294186947500829>:7: FutureWarning: The frame.append method is deprecated and will be removed from pandas in a future version. Use pandas.concat instead.\n  visualize_table16 = visualize_table16.append({'Roundof16': f\"{row['Team1']} ({row['Team1Score']})\"}, ignore_index=True)\n<command-4294186947500829>:8: FutureWarning: The frame.append method is deprecated and will be removed from pandas in a future version. Use pandas.concat instead.\n  visualize_table16 = visualize_table16.append({'Roundof16': f\"{row['Team2']} ({row['Team2Score']})\"}, ignore_index=True)\n<command-4294186947500829>:11: FutureWarning: The frame.append method is deprecated and will be removed from pandas in a future version. Use pandas.concat instead.\n  visualize_table16 = visualize_table16.append({'Roundof16': ''}, ignore_index=True)\n<command-4294186947500829>:12: FutureWarning: The frame.append method is deprecated and will be removed from pandas in a future version. Use pandas.concat instead.\n  visualize_table16 = visualize_table16.append({'Roundof16': ''}, ignore_index=True)\n<command-4294186947500829>:7: FutureWarning: The frame.append method is deprecated and will be removed from pandas in a future version. Use pandas.concat instead.\n  visualize_table16 = visualize_table16.append({'Roundof16': f\"{row['Team1']} ({row['Team1Score']})\"}, ignore_index=True)\n<command-4294186947500829>:8: FutureWarning: The frame.append method is deprecated and will be removed from pandas in a future version. Use pandas.concat instead.\n  visualize_table16 = visualize_table16.append({'Roundof16': f\"{row['Team2']} ({row['Team2Score']})\"}, ignore_index=True)\n<command-4294186947500829>:11: FutureWarning: The frame.append method is deprecated and will be removed from pandas in a future version. Use pandas.concat instead.\n  visualize_table16 = visualize_table16.append({'Roundof16': ''}, ignore_index=True)\n<command-4294186947500829>:12: FutureWarning: The frame.append method is deprecated and will be removed from pandas in a future version. Use pandas.concat instead.\n  visualize_table16 = visualize_table16.append({'Roundof16': ''}, ignore_index=True)\n<command-4294186947500829>:7: FutureWarning: The frame.append method is deprecated and will be removed from pandas in a future version. Use pandas.concat instead.\n  visualize_table16 = visualize_table16.append({'Roundof16': f\"{row['Team1']} ({row['Team1Score']})\"}, ignore_index=True)\n<command-4294186947500829>:8: FutureWarning: The frame.append method is deprecated and will be removed from pandas in a future version. Use pandas.concat instead.\n  visualize_table16 = visualize_table16.append({'Roundof16': f\"{row['Team2']} ({row['Team2Score']})\"}, ignore_index=True)\n<command-4294186947500829>:11: FutureWarning: The frame.append method is deprecated and will be removed from pandas in a future version. Use pandas.concat instead.\n  visualize_table16 = visualize_table16.append({'Roundof16': ''}, ignore_index=True)\n<command-4294186947500829>:12: FutureWarning: The frame.append method is deprecated and will be removed from pandas in a future version. Use pandas.concat instead.\n  visualize_table16 = visualize_table16.append({'Roundof16': ''}, ignore_index=True)\n"
     ]
    }
   ],
   "source": [
    "#Query from spark sql\n",
    "round_of_16 = spark.sql(\"SELECT TeamId FROM Matches WHERE MatchStage = 'R16' ORDER BY MatchId\")\n",
    "quater_final = spark.sql(\"SELECT TeamId  FROM Matches WHERE stage = 'Quarter Final' ORDER BY MatchId\")\n",
    "semi_final = spark.sql(\"SELECT TeamId  FROM Matches WHERE stage = 'Semi-Final' ORDER BY MatchId\")\n",
    "final = spark.sql(\"SELECT TeamId  FROM Matches WHERE stage = 'Final' ORDER BY MatchId\")\n",
    "third_place = spark.sql(\"SELECT TeamId  FROM Matches WHERE stage = 'Third_Place' ORDER BY MatchId\")\n"
   ]
  },
  {
   "cell_type": "code",
   "execution_count": 0,
   "metadata": {
    "application/vnd.databricks.v1+cell": {
     "cellMetadata": {
      "byteLimit": 2048000,
      "rowLimit": 10000
     },
     "inputWidgets": {},
     "nuid": "e7c00af0-ee98-4451-a44a-ecf0deae13be",
     "showTitle": false,
     "title": ""
    }
   },
   "outputs": [
    {
     "output_type": "display_data",
     "data": {
      "text/html": [
       "<div>\n",
       "<style scoped>\n",
       "    .dataframe tbody tr th:only-of-type {\n",
       "        vertical-align: middle;\n",
       "    }\n",
       "\n",
       "    .dataframe tbody tr th {\n",
       "        vertical-align: top;\n",
       "    }\n",
       "\n",
       "    .dataframe thead th {\n",
       "        text-align: right;\n",
       "    }\n",
       "</style>\n",
       "<table border=\"1\" class=\"dataframe\">\n",
       "  <thead>\n",
       "    <tr style=\"text-align: right;\">\n",
       "      <th></th>\n",
       "      <th>Roundof16</th>\n",
       "      <th>space</th>\n",
       "    </tr>\n",
       "  </thead>\n",
       "  <tbody>\n",
       "    <tr>\n",
       "      <th>0</th>\n",
       "      <td></td>\n",
       "      <td></td>\n",
       "    </tr>\n",
       "    <tr>\n",
       "      <th>1</th>\n",
       "      <td></td>\n",
       "      <td></td>\n",
       "    </tr>\n",
       "    <tr>\n",
       "      <th>2</th>\n",
       "      <td>Ukraine (3)</td>\n",
       "      <td></td>\n",
       "    </tr>\n",
       "    <tr>\n",
       "      <th>3</th>\n",
       "      <td>Austria (4)</td>\n",
       "      <td></td>\n",
       "    </tr>\n",
       "    <tr>\n",
       "      <th>4</th>\n",
       "      <td></td>\n",
       "      <td></td>\n",
       "    </tr>\n",
       "    <tr>\n",
       "      <th>5</th>\n",
       "      <td></td>\n",
       "      <td></td>\n",
       "    </tr>\n",
       "    <tr>\n",
       "      <th>6</th>\n",
       "      <td>Netherlands (2)</td>\n",
       "      <td></td>\n",
       "    </tr>\n",
       "    <tr>\n",
       "      <th>7</th>\n",
       "      <td>Türkiye (5)</td>\n",
       "      <td></td>\n",
       "    </tr>\n",
       "    <tr>\n",
       "      <th>8</th>\n",
       "      <td></td>\n",
       "      <td></td>\n",
       "    </tr>\n",
       "    <tr>\n",
       "      <th>9</th>\n",
       "      <td></td>\n",
       "      <td></td>\n",
       "    </tr>\n",
       "    <tr>\n",
       "      <th>10</th>\n",
       "      <td>England (5)</td>\n",
       "      <td></td>\n",
       "    </tr>\n",
       "    <tr>\n",
       "      <th>11</th>\n",
       "      <td>Belgium (6)</td>\n",
       "      <td></td>\n",
       "    </tr>\n",
       "    <tr>\n",
       "      <th>12</th>\n",
       "      <td></td>\n",
       "      <td></td>\n",
       "    </tr>\n",
       "    <tr>\n",
       "      <th>13</th>\n",
       "      <td></td>\n",
       "      <td></td>\n",
       "    </tr>\n",
       "    <tr>\n",
       "      <th>14</th>\n",
       "      <td>Germany (1)</td>\n",
       "      <td></td>\n",
       "    </tr>\n",
       "    <tr>\n",
       "      <th>15</th>\n",
       "      <td>Albania (2)</td>\n",
       "      <td></td>\n",
       "    </tr>\n",
       "  </tbody>\n",
       "</table>\n",
       "</div>"
      ]
     },
     "metadata": {
      "application/vnd.databricks.v1+output": {
       "addedWidgets": {},
       "arguments": {},
       "data": "<div>\n<style scoped>\n    .dataframe tbody tr th:only-of-type {\n        vertical-align: middle;\n    }\n\n    .dataframe tbody tr th {\n        vertical-align: top;\n    }\n\n    .dataframe thead th {\n        text-align: right;\n    }\n</style>\n<table border=\"1\" class=\"dataframe\">\n  <thead>\n    <tr style=\"text-align: right;\">\n      <th></th>\n      <th>Roundof16</th>\n      <th>space</th>\n    </tr>\n  </thead>\n  <tbody>\n    <tr>\n      <th>0</th>\n      <td></td>\n      <td></td>\n    </tr>\n    <tr>\n      <th>1</th>\n      <td></td>\n      <td></td>\n    </tr>\n    <tr>\n      <th>2</th>\n      <td>Ukraine (3)</td>\n      <td></td>\n    </tr>\n    <tr>\n      <th>3</th>\n      <td>Austria (4)</td>\n      <td></td>\n    </tr>\n    <tr>\n      <th>4</th>\n      <td></td>\n      <td></td>\n    </tr>\n    <tr>\n      <th>5</th>\n      <td></td>\n      <td></td>\n    </tr>\n    <tr>\n      <th>6</th>\n      <td>Netherlands (2)</td>\n      <td></td>\n    </tr>\n    <tr>\n      <th>7</th>\n      <td>Türkiye (5)</td>\n      <td></td>\n    </tr>\n    <tr>\n      <th>8</th>\n      <td></td>\n      <td></td>\n    </tr>\n    <tr>\n      <th>9</th>\n      <td></td>\n      <td></td>\n    </tr>\n    <tr>\n      <th>10</th>\n      <td>England (5)</td>\n      <td></td>\n    </tr>\n    <tr>\n      <th>11</th>\n      <td>Belgium (6)</td>\n      <td></td>\n    </tr>\n    <tr>\n      <th>12</th>\n      <td></td>\n      <td></td>\n    </tr>\n    <tr>\n      <th>13</th>\n      <td></td>\n      <td></td>\n    </tr>\n    <tr>\n      <th>14</th>\n      <td>Germany (1)</td>\n      <td></td>\n    </tr>\n    <tr>\n      <th>15</th>\n      <td>Albania (2)</td>\n      <td></td>\n    </tr>\n  </tbody>\n</table>\n</div>",
       "datasetInfos": [],
       "metadata": {},
       "removedWidgets": [],
       "textData": null,
       "type": "htmlSandbox"
      }
     },
     "output_type": "display_data"
    }
   ],
   "source": [
    "#Convert Spark DataFrame to Pandas Dataframe\n",
    "round_of_16_df = round_of_16.toPandas()\n",
    "quarter_final_df = quarter_final.toPandas()\n",
    "semi_final_df = semi_final.toPandas()\n",
    "final_df = final.toPandas()\n",
    "third_place_df = third_place.toPandas()"
   ]
  },
  {
   "cell_type": "code",
   "execution_count": 0,
   "metadata": {
    "application/vnd.databricks.v1+cell": {
     "cellMetadata": {},
     "inputWidgets": {},
     "nuid": "91600ddb-922f-4693-9957-8c9fca6f1eb0",
     "showTitle": false,
     "title": ""
    }
   },
   "outputs": [],
   "source": [
    "def create_empty_rows(num_rows):\n",
    "    return pd.DataFrame(['']* num_rows)"
   ]
  },
  {
   "cell_type": "code",
   "execution_count": 0,
   "metadata": {
    "application/vnd.databricks.v1+cell": {
     "cellMetadata": {},
     "inputWidgets": {},
     "nuid": "394721fa-adda-41c3-9888-372c62b7b0c3",
     "showTitle": false,
     "title": ""
    }
   },
   "outputs": [],
   "source": [
    "visualize_r16 = pd.DataFrame({\n",
    "    'Round_of_16': round_of_16_df['TeamId']\n",
    "})\n",
    "visualize_r16 = visualize_16.append(create_empty_rows(len(visualize_r16)*2), ignore_index =True)"
   ]
  },
  {
   "cell_type": "code",
   "execution_count": 0,
   "metadata": {
    "application/vnd.databricks.v1+cell": {
     "cellMetadata": {},
     "inputWidgets": {},
     "nuid": "d8893d60-3497-48fc-b02a-326f8834142e",
     "showTitle": false,
     "title": ""
    }
   },
   "outputs": [],
   "source": [
    "euro_cup_df = pd.concat([visualize_r16],axix = 1)"
   ]
  },
  {
   "cell_type": "code",
   "execution_count": 0,
   "metadata": {
    "application/vnd.databricks.v1+cell": {
     "cellMetadata": {},
     "inputWidgets": {},
     "nuid": "4e2411e2-48b9-4ba8-9a37-8edbe98dd30c",
     "showTitle": false,
     "title": ""
    }
   },
   "outputs": [],
   "source": [
    "display(euro_cup_df)"
   ]
  }
 ],
 "metadata": {
  "application/vnd.databricks.v1+notebook": {
   "dashboards": [],
   "language": "python",
   "notebookMetadata": {
    "mostRecentlyExecutedCommandWithImplicitDF": {
     "commandId": 3977131343718553,
     "dataframes": [
      "_sqldf"
     ]
    },
    "pythonIndentUnit": 4
   },
   "notebookName": "Euro cup simulation(Satish_Subedi) 2024-02-20 19:38:07",
   "widgets": {}
  }
 },
 "nbformat": 4,
 "nbformat_minor": 0
}
