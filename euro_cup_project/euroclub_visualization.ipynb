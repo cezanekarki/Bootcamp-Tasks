{
 "cells": [
  {
   "cell_type": "code",
   "execution_count": 0,
   "metadata": {
    "application/vnd.databricks.v1+cell": {
     "cellMetadata": {
      "byteLimit": 2048000,
      "rowLimit": 10000
     },
     "inputWidgets": {},
     "nuid": "ebc7d2c0-bc60-4c08-ac2c-22306dc83b9e",
     "showTitle": false,
     "title": ""
    }
   },
   "outputs": [],
   "source": [
    "from pyspark.sql import SparkSession\n",
    "from pyspark.sql.types import StructType, StructField, StringType, IntegerType, ArrayType\n",
    "from pyspark.sql.functions import monotonically_increasing_id, coalesce, lit, concat, split\n",
    "import random\n"
   ]
  },
  {
   "cell_type": "code",
   "execution_count": 0,
   "metadata": {
    "application/vnd.databricks.v1+cell": {
     "cellMetadata": {
      "byteLimit": 2048000,
      "rowLimit": 10000
     },
     "inputWidgets": {},
     "nuid": "f1f0faea-45d9-42a3-9d1b-035c744a4d5f",
     "showTitle": false,
     "title": ""
    }
   },
   "outputs": [],
   "source": [
    "spark = SparkSession.builder \\\n",
    "    .appName(\"Utsha\") \\\n",
    "    .getOrCreate()"
   ]
  },
  {
   "cell_type": "code",
   "execution_count": 0,
   "metadata": {
    "application/vnd.databricks.v1+cell": {
     "cellMetadata": {
      "byteLimit": 2048000,
      "rowLimit": 10000
     },
     "inputWidgets": {},
     "nuid": "8b505e9a-a6a5-4ba3-87a8-0b6fe821f28f",
     "showTitle": false,
     "title": ""
    }
   },
   "outputs": [],
   "source": [
    "team_schema = StructType([\n",
    "    StructField(\"team_id\", StringType()),\n",
    "    StructField(\"group_name\", StringType()),\n",
    "    StructField(\"team_name\", StringType()),\n",
    "])\n",
    "\n",
    "group_stage_schema = StructType([\n",
    "    StructField(\"pos\", IntegerType()),\n",
    "    StructField(\"team_name\", StringType()),\n",
    "    StructField(\"group_name\", StringType()),\n",
    "    StructField(\"matches_played\", IntegerType()),\n",
    "    StructField(\"points\", IntegerType()),\n",
    "    StructField(\"match_won\", IntegerType()),\n",
    "    StructField(\"match_drawn\", IntegerType()),\n",
    "    StructField(\"match_loss\", IntegerType()),\n",
    "    StructField(\"goal_scored\", IntegerType()),\n",
    "    StructField(\"goal_conceded\", IntegerType()),\n",
    "    StructField(\"goal_difference\", IntegerType()),\n",
    "])\n",
    "\n",
    "match_fixture_schema = StructType(\n",
    "    [\n",
    "        StructField(\"match_id\", IntegerType()),\n",
    "        StructField(\"match\", StringType()),\n",
    "    ]\n",
    ")\n",
    "\n",
    "\n",
    "match_fixture_goal_schema = StructType([\n",
    "    StructField(\"match_fixture_id\", IntegerType(), nullable=True),\n",
    "    StructField(\"match_fixture\", StringType(), nullable=True),\n",
    "    StructField(\"group_name\", StringType(), nullable=True),\n",
    "    StructField(\"team_1_name\", StringType(), nullable=True),\n",
    "    StructField(\"team_2_name\", StringType(), nullable=True),\n",
    "    StructField(\"team_1_goal\", IntegerType(), nullable=True),\n",
    "    StructField(\"team_2_goal\", IntegerType(), nullable=True),\n",
    "    StructField(\"winner\", StringType(), nullable=True)   \n",
    "])\n"
   ]
  },
  {
   "cell_type": "code",
   "execution_count": 0,
   "metadata": {
    "application/vnd.databricks.v1+cell": {
     "cellMetadata": {
      "byteLimit": 2048000,
      "rowLimit": 10000
     },
     "inputWidgets": {},
     "nuid": "0d4797f4-9202-474d-b35c-73ebde4ae5af",
     "showTitle": false,
     "title": ""
    }
   },
   "outputs": [
    {
     "output_type": "stream",
     "name": "stdout",
     "output_type": "stream",
     "text": [
      "team_df\n"
     ]
    },
    {
     "output_type": "display_data",
     "data": {
      "text/html": [
       "<style scoped>\n",
       "  .table-result-container {\n",
       "    max-height: 300px;\n",
       "    overflow: auto;\n",
       "  }\n",
       "  table, th, td {\n",
       "    border: 1px solid black;\n",
       "    border-collapse: collapse;\n",
       "  }\n",
       "  th, td {\n",
       "    padding: 5px;\n",
       "  }\n",
       "  th {\n",
       "    text-align: left;\n",
       "  }\n",
       "</style><div class='table-result-container'><table class='table-result'><thead style='background-color: white'><tr><th>team_id</th><th>group_name</th><th>team_name</th></tr></thead><tbody><tr><td>7</td><td>Group A</td><td>Cyprus</td></tr><tr><td>19</td><td>Group A</td><td>Latvia</td></tr><tr><td>13</td><td>Group A</td><td>Germany</td></tr><tr><td>1</td><td>Group A</td><td>Albania</td></tr><tr><td>20</td><td>Group B</td><td>Lithuania</td></tr><tr><td>14</td><td>Group B</td><td>Greece</td></tr><tr><td>8</td><td>Group B</td><td>Czech Republic</td></tr><tr><td>2</td><td>Group B</td><td>Austria</td></tr><tr><td>21</td><td>Group C</td><td>Luxembourg</td></tr><tr><td>15</td><td>Group C</td><td>Hungary</td></tr><tr><td>9</td><td>Group C</td><td>Denmark</td></tr><tr><td>3</td><td>Group C</td><td>Belgium</td></tr><tr><td>16</td><td>Group D</td><td>Iceland</td></tr><tr><td>4</td><td>Group D</td><td>Bosnia</td></tr><tr><td>10</td><td>Group D</td><td>Estonia</td></tr><tr><td>22</td><td>Group D</td><td>Malta</td></tr><tr><td>17</td><td>Group E</td><td>Ireland</td></tr><tr><td>5</td><td>Group E</td><td>Bulgaria</td></tr><tr><td>11</td><td>Group E</td><td>Finland</td></tr><tr><td>23</td><td>Group E</td><td>Netherlands</td></tr><tr><td>18</td><td>Group F</td><td>Italy</td></tr><tr><td>6</td><td>Group F</td><td>Croatia</td></tr><tr><td>12</td><td>Group F</td><td>France</td></tr><tr><td>24</td><td>Group F</td><td>Norway</td></tr></tbody></table></div>"
      ]
     },
     "metadata": {
      "application/vnd.databricks.v1+output": {
       "addedWidgets": {},
       "aggData": [],
       "aggError": "",
       "aggOverflow": false,
       "aggSchema": [],
       "aggSeriesLimitReached": false,
       "aggType": "",
       "arguments": {},
       "columnCustomDisplayInfos": {},
       "data": [
        [
         "7",
         "Group A",
         "Cyprus"
        ],
        [
         "19",
         "Group A",
         "Latvia"
        ],
        [
         "13",
         "Group A",
         "Germany"
        ],
        [
         "1",
         "Group A",
         "Albania"
        ],
        [
         "20",
         "Group B",
         "Lithuania"
        ],
        [
         "14",
         "Group B",
         "Greece"
        ],
        [
         "8",
         "Group B",
         "Czech Republic"
        ],
        [
         "2",
         "Group B",
         "Austria"
        ],
        [
         "21",
         "Group C",
         "Luxembourg"
        ],
        [
         "15",
         "Group C",
         "Hungary"
        ],
        [
         "9",
         "Group C",
         "Denmark"
        ],
        [
         "3",
         "Group C",
         "Belgium"
        ],
        [
         "16",
         "Group D",
         "Iceland"
        ],
        [
         "4",
         "Group D",
         "Bosnia"
        ],
        [
         "10",
         "Group D",
         "Estonia"
        ],
        [
         "22",
         "Group D",
         "Malta"
        ],
        [
         "17",
         "Group E",
         "Ireland"
        ],
        [
         "5",
         "Group E",
         "Bulgaria"
        ],
        [
         "11",
         "Group E",
         "Finland"
        ],
        [
         "23",
         "Group E",
         "Netherlands"
        ],
        [
         "18",
         "Group F",
         "Italy"
        ],
        [
         "6",
         "Group F",
         "Croatia"
        ],
        [
         "12",
         "Group F",
         "France"
        ],
        [
         "24",
         "Group F",
         "Norway"
        ]
       ],
       "datasetInfos": [],
       "dbfsResultPath": null,
       "isJsonSchema": true,
       "metadata": {},
       "overflow": false,
       "plotOptions": {
        "customPlotOptions": {},
        "displayType": "table",
        "pivotAggregation": null,
        "pivotColumns": null,
        "xColumns": null,
        "yColumns": null
       },
       "removedWidgets": [],
       "schema": [
        {
         "metadata": "{}",
         "name": "team_id",
         "type": "\"string\""
        },
        {
         "metadata": "{}",
         "name": "group_name",
         "type": "\"string\""
        },
        {
         "metadata": "{}",
         "name": "team_name",
         "type": "\"string\""
        }
       ],
       "type": "table"
      }
     },
     "output_type": "display_data"
    }
   ],
   "source": [
    "groups = ['Group A', 'Group B', 'Group C', 'Group D', 'Group E', 'Group F']\n",
    "team_names = [\n",
    "    \"Albania\", \"Austria\", \"Belgium\", \"Bosnia\", \"Bulgaria\", \"Croatia\",\n",
    "    \"Cyprus\", \"Czech Republic\", \"Denmark\", \"Estonia\", \"Finland\", \"France\", \"Germany\",\n",
    "    \"Greece\", \"Hungary\", \"Iceland\", \"Ireland\", \"Italy\", \"Latvia\", \"Lithuania\", \n",
    "    \"Luxembourg\", \"Malta\", \"Netherlands\", \"Norway\"\n",
    "]\n",
    "def assign_team_id():\n",
    "    return [f\"{i+1}\" for i in range(24)]\n",
    "\n",
    "def assign_group():\n",
    "    group_index = 0\n",
    "    group_assignments = []\n",
    "    for _ in range(24):\n",
    "        group_assignments.append(groups[group_index])\n",
    "        group_index = (group_index + 1) % len(groups)\n",
    "    return group_assignments\n",
    "\n",
    "group_assignments = assign_group()\n",
    "team_ids = assign_team_id()\n",
    "data = [(team_id, group, team) for team_id, group, team in zip(team_ids, group_assignments, team_names)]\n",
    "team_df = spark.createDataFrame(data, schema=team_schema)\n",
    "print('team_df')\n",
    "display(team_df.orderBy(\"group_name\"))"
   ]
  },
  {
   "cell_type": "code",
   "execution_count": 0,
   "metadata": {
    "application/vnd.databricks.v1+cell": {
     "cellMetadata": {
      "byteLimit": 2048000,
      "rowLimit": 10000
     },
     "inputWidgets": {},
     "nuid": "4769569d-5de2-4cd8-9d02-174752f75eb8",
     "showTitle": false,
     "title": ""
    }
   },
   "outputs": [],
   "source": [
    "def generate_ids(num_items):\n",
    "    return list(range(1, num_items + 1))"
   ]
  },
  {
   "cell_type": "code",
   "execution_count": 0,
   "metadata": {
    "application/vnd.databricks.v1+cell": {
     "cellMetadata": {
      "byteLimit": 2048000,
      "rowLimit": 10000
     },
     "inputWidgets": {},
     "nuid": "b778ece9-b85f-4798-a471-0cba87a6b435",
     "showTitle": false,
     "title": ""
    }
   },
   "outputs": [
    {
     "output_type": "display_data",
     "data": {
      "text/html": [
       "<style scoped>\n",
       "  .table-result-container {\n",
       "    max-height: 300px;\n",
       "    overflow: auto;\n",
       "  }\n",
       "  table, th, td {\n",
       "    border: 1px solid black;\n",
       "    border-collapse: collapse;\n",
       "  }\n",
       "  th, td {\n",
       "    padding: 5px;\n",
       "  }\n",
       "  th {\n",
       "    text-align: left;\n",
       "  }\n",
       "</style><div class='table-result-container'><table class='table-result'><thead style='background-color: white'><tr><th>match_id</th><th>match</th></tr></thead><tbody><tr><td>1</td><td>Albania, Group A vs Cyprus, Group A</td></tr><tr><td>2</td><td>Albania, Group A vs Germany, Group A</td></tr><tr><td>3</td><td>Albania, Group A vs Latvia, Group A</td></tr><tr><td>4</td><td>Cyprus, Group A vs Germany, Group A</td></tr><tr><td>5</td><td>Cyprus, Group A vs Latvia, Group A</td></tr><tr><td>6</td><td>Germany, Group A vs Latvia, Group A</td></tr><tr><td>7</td><td>Austria, Group B vs Czech Republic, Group B</td></tr><tr><td>8</td><td>Austria, Group B vs Greece, Group B</td></tr><tr><td>9</td><td>Austria, Group B vs Lithuania, Group B</td></tr><tr><td>10</td><td>Czech Republic, Group B vs Greece, Group B</td></tr><tr><td>11</td><td>Czech Republic, Group B vs Lithuania, Group B</td></tr><tr><td>12</td><td>Greece, Group B vs Lithuania, Group B</td></tr><tr><td>13</td><td>Belgium, Group C vs Denmark, Group C</td></tr><tr><td>14</td><td>Belgium, Group C vs Hungary, Group C</td></tr><tr><td>15</td><td>Belgium, Group C vs Luxembourg, Group C</td></tr><tr><td>16</td><td>Denmark, Group C vs Hungary, Group C</td></tr><tr><td>17</td><td>Denmark, Group C vs Luxembourg, Group C</td></tr><tr><td>18</td><td>Hungary, Group C vs Luxembourg, Group C</td></tr><tr><td>19</td><td>Bosnia, Group D vs Estonia, Group D</td></tr><tr><td>20</td><td>Bosnia, Group D vs Iceland, Group D</td></tr><tr><td>21</td><td>Bosnia, Group D vs Malta, Group D</td></tr><tr><td>22</td><td>Estonia, Group D vs Iceland, Group D</td></tr><tr><td>23</td><td>Estonia, Group D vs Malta, Group D</td></tr><tr><td>24</td><td>Iceland, Group D vs Malta, Group D</td></tr><tr><td>25</td><td>Bulgaria, Group E vs Finland, Group E</td></tr><tr><td>26</td><td>Bulgaria, Group E vs Ireland, Group E</td></tr><tr><td>27</td><td>Bulgaria, Group E vs Netherlands, Group E</td></tr><tr><td>28</td><td>Finland, Group E vs Ireland, Group E</td></tr><tr><td>29</td><td>Finland, Group E vs Netherlands, Group E</td></tr><tr><td>30</td><td>Ireland, Group E vs Netherlands, Group E</td></tr><tr><td>31</td><td>Croatia, Group F vs France, Group F</td></tr><tr><td>32</td><td>Croatia, Group F vs Italy, Group F</td></tr><tr><td>33</td><td>Croatia, Group F vs Norway, Group F</td></tr><tr><td>34</td><td>France, Group F vs Italy, Group F</td></tr><tr><td>35</td><td>France, Group F vs Norway, Group F</td></tr><tr><td>36</td><td>Italy, Group F vs Norway, Group F</td></tr></tbody></table></div>"
      ]
     },
     "metadata": {
      "application/vnd.databricks.v1+output": {
       "addedWidgets": {},
       "aggData": [],
       "aggError": "",
       "aggOverflow": false,
       "aggSchema": [],
       "aggSeriesLimitReached": false,
       "aggType": "",
       "arguments": {},
       "columnCustomDisplayInfos": {},
       "data": [
        [
         1,
         "Albania, Group A vs Cyprus, Group A"
        ],
        [
         2,
         "Albania, Group A vs Germany, Group A"
        ],
        [
         3,
         "Albania, Group A vs Latvia, Group A"
        ],
        [
         4,
         "Cyprus, Group A vs Germany, Group A"
        ],
        [
         5,
         "Cyprus, Group A vs Latvia, Group A"
        ],
        [
         6,
         "Germany, Group A vs Latvia, Group A"
        ],
        [
         7,
         "Austria, Group B vs Czech Republic, Group B"
        ],
        [
         8,
         "Austria, Group B vs Greece, Group B"
        ],
        [
         9,
         "Austria, Group B vs Lithuania, Group B"
        ],
        [
         10,
         "Czech Republic, Group B vs Greece, Group B"
        ],
        [
         11,
         "Czech Republic, Group B vs Lithuania, Group B"
        ],
        [
         12,
         "Greece, Group B vs Lithuania, Group B"
        ],
        [
         13,
         "Belgium, Group C vs Denmark, Group C"
        ],
        [
         14,
         "Belgium, Group C vs Hungary, Group C"
        ],
        [
         15,
         "Belgium, Group C vs Luxembourg, Group C"
        ],
        [
         16,
         "Denmark, Group C vs Hungary, Group C"
        ],
        [
         17,
         "Denmark, Group C vs Luxembourg, Group C"
        ],
        [
         18,
         "Hungary, Group C vs Luxembourg, Group C"
        ],
        [
         19,
         "Bosnia, Group D vs Estonia, Group D"
        ],
        [
         20,
         "Bosnia, Group D vs Iceland, Group D"
        ],
        [
         21,
         "Bosnia, Group D vs Malta, Group D"
        ],
        [
         22,
         "Estonia, Group D vs Iceland, Group D"
        ],
        [
         23,
         "Estonia, Group D vs Malta, Group D"
        ],
        [
         24,
         "Iceland, Group D vs Malta, Group D"
        ],
        [
         25,
         "Bulgaria, Group E vs Finland, Group E"
        ],
        [
         26,
         "Bulgaria, Group E vs Ireland, Group E"
        ],
        [
         27,
         "Bulgaria, Group E vs Netherlands, Group E"
        ],
        [
         28,
         "Finland, Group E vs Ireland, Group E"
        ],
        [
         29,
         "Finland, Group E vs Netherlands, Group E"
        ],
        [
         30,
         "Ireland, Group E vs Netherlands, Group E"
        ],
        [
         31,
         "Croatia, Group F vs France, Group F"
        ],
        [
         32,
         "Croatia, Group F vs Italy, Group F"
        ],
        [
         33,
         "Croatia, Group F vs Norway, Group F"
        ],
        [
         34,
         "France, Group F vs Italy, Group F"
        ],
        [
         35,
         "France, Group F vs Norway, Group F"
        ],
        [
         36,
         "Italy, Group F vs Norway, Group F"
        ]
       ],
       "datasetInfos": [],
       "dbfsResultPath": null,
       "isJsonSchema": true,
       "metadata": {},
       "overflow": false,
       "plotOptions": {
        "customPlotOptions": {},
        "displayType": "table",
        "pivotAggregation": null,
        "pivotColumns": null,
        "xColumns": null,
        "yColumns": null
       },
       "removedWidgets": [],
       "schema": [
        {
         "metadata": "{}",
         "name": "match_id",
         "type": "\"integer\""
        },
        {
         "metadata": "{}",
         "name": "match",
         "type": "\"string\""
        }
       ],
       "type": "table"
      }
     },
     "output_type": "display_data"
    }
   ],
   "source": [
    "#match fixture\n",
    "\n",
    "match_fixtures=[]\n",
    "for group_name in groups:\n",
    "    teams_in_group = team_df.filter(team_df.group_name == group_name).select(\"team_name\",\"group_name\").collect()\n",
    "    # print('teams_in_group',teams_in_group)\n",
    "    matches = [(teams_in_group[i].team_name+\", \"+teams_in_group[i].group_name, teams_in_group[j].team_name+\", \"+teams_in_group[j].group_name) for i in range(len(teams_in_group)) for j in range(i+1, len(teams_in_group))]\n",
    "    \n",
    "    # print(len(matches))\n",
    "    for match in matches:\n",
    "        match_data=match[0] + ' vs ' + match[1]\n",
    "        # print(match_data)\n",
    "        match_fixtures.append(match_data)\n",
    "    # print(\"len(match_fixtures)\",len(match_fixtures))\n",
    "    data=[(id, match) for id, match in zip(generate_ids(len(match_fixtures)), match_fixtures)]\n",
    "# print(\"len(data)\",len(data))\n",
    "\n",
    "df_match_fixture = spark.createDataFrame(data, schema=match_fixture_schema)\n",
    "display(df_match_fixture)\n"
   ]
  },
  {
   "cell_type": "code",
   "execution_count": 0,
   "metadata": {
    "application/vnd.databricks.v1+cell": {
     "cellMetadata": {
      "byteLimit": 2048000,
      "rowLimit": 10000
     },
     "inputWidgets": {},
     "nuid": "d0ff8ed4-59b4-485f-a66b-acdd747df4f1",
     "showTitle": false,
     "title": ""
    }
   },
   "outputs": [
    {
     "output_type": "display_data",
     "data": {
      "text/html": [
       "<style scoped>\n",
       "  .table-result-container {\n",
       "    max-height: 300px;\n",
       "    overflow: auto;\n",
       "  }\n",
       "  table, th, td {\n",
       "    border: 1px solid black;\n",
       "    border-collapse: collapse;\n",
       "  }\n",
       "  th, td {\n",
       "    padding: 5px;\n",
       "  }\n",
       "  th {\n",
       "    text-align: left;\n",
       "  }\n",
       "</style><div class='table-result-container'><table class='table-result'><thead style='background-color: white'><tr><th>match_fixture_id</th><th>match_fixture</th><th>team_1_name</th><th>team_2_name</th><th>team_1_goal</th><th>team_2_goal</th><th>winner</th></tr></thead><tbody><tr><td>1</td><td>Albania, Group A vs Cyprus, Group A</td><td>Albania, Group A</td><td>Cyprus, Group A</td><td>5</td><td>2</td><td>Albania, Group A</td></tr><tr><td>2</td><td>Albania, Group A vs Germany, Group A</td><td>Albania, Group A</td><td>Germany, Group A</td><td>0</td><td>4</td><td>Germany, Group A</td></tr><tr><td>3</td><td>Albania, Group A vs Latvia, Group A</td><td>Albania, Group A</td><td>Latvia, Group A</td><td>3</td><td>4</td><td>Latvia, Group A</td></tr><tr><td>4</td><td>Cyprus, Group A vs Germany, Group A</td><td>Cyprus, Group A</td><td>Germany, Group A</td><td>2</td><td>5</td><td>Germany, Group A</td></tr><tr><td>5</td><td>Cyprus, Group A vs Latvia, Group A</td><td>Cyprus, Group A</td><td>Latvia, Group A</td><td>0</td><td>0</td><td>Draw</td></tr><tr><td>6</td><td>Germany, Group A vs Latvia, Group A</td><td>Germany, Group A</td><td>Latvia, Group A</td><td>5</td><td>2</td><td>Germany, Group A</td></tr><tr><td>7</td><td>Austria, Group B vs Czech Republic, Group B</td><td>Austria, Group B</td><td>Czech Republic, Group B</td><td>0</td><td>0</td><td>Draw</td></tr><tr><td>8</td><td>Austria, Group B vs Greece, Group B</td><td>Austria, Group B</td><td>Greece, Group B</td><td>0</td><td>5</td><td>Greece, Group B</td></tr><tr><td>9</td><td>Austria, Group B vs Lithuania, Group B</td><td>Austria, Group B</td><td>Lithuania, Group B</td><td>1</td><td>0</td><td>Austria, Group B</td></tr><tr><td>10</td><td>Czech Republic, Group B vs Greece, Group B</td><td>Czech Republic, Group B</td><td>Greece, Group B</td><td>3</td><td>3</td><td>Draw</td></tr><tr><td>11</td><td>Czech Republic, Group B vs Lithuania, Group B</td><td>Czech Republic, Group B</td><td>Lithuania, Group B</td><td>4</td><td>3</td><td>Czech Republic, Group B</td></tr><tr><td>12</td><td>Greece, Group B vs Lithuania, Group B</td><td>Greece, Group B</td><td>Lithuania, Group B</td><td>2</td><td>2</td><td>Draw</td></tr><tr><td>13</td><td>Belgium, Group C vs Denmark, Group C</td><td>Belgium, Group C</td><td>Denmark, Group C</td><td>4</td><td>3</td><td>Belgium, Group C</td></tr><tr><td>14</td><td>Belgium, Group C vs Hungary, Group C</td><td>Belgium, Group C</td><td>Hungary, Group C</td><td>3</td><td>2</td><td>Belgium, Group C</td></tr><tr><td>15</td><td>Belgium, Group C vs Luxembourg, Group C</td><td>Belgium, Group C</td><td>Luxembourg, Group C</td><td>3</td><td>0</td><td>Belgium, Group C</td></tr><tr><td>16</td><td>Denmark, Group C vs Hungary, Group C</td><td>Denmark, Group C</td><td>Hungary, Group C</td><td>3</td><td>0</td><td>Denmark, Group C</td></tr><tr><td>17</td><td>Denmark, Group C vs Luxembourg, Group C</td><td>Denmark, Group C</td><td>Luxembourg, Group C</td><td>4</td><td>1</td><td>Denmark, Group C</td></tr><tr><td>18</td><td>Hungary, Group C vs Luxembourg, Group C</td><td>Hungary, Group C</td><td>Luxembourg, Group C</td><td>5</td><td>1</td><td>Hungary, Group C</td></tr><tr><td>19</td><td>Bosnia, Group D vs Estonia, Group D</td><td>Bosnia, Group D</td><td>Estonia, Group D</td><td>0</td><td>4</td><td>Estonia, Group D</td></tr><tr><td>20</td><td>Bosnia, Group D vs Iceland, Group D</td><td>Bosnia, Group D</td><td>Iceland, Group D</td><td>3</td><td>3</td><td>Draw</td></tr><tr><td>21</td><td>Bosnia, Group D vs Malta, Group D</td><td>Bosnia, Group D</td><td>Malta, Group D</td><td>4</td><td>4</td><td>Draw</td></tr><tr><td>22</td><td>Estonia, Group D vs Iceland, Group D</td><td>Estonia, Group D</td><td>Iceland, Group D</td><td>0</td><td>2</td><td>Iceland, Group D</td></tr><tr><td>23</td><td>Estonia, Group D vs Malta, Group D</td><td>Estonia, Group D</td><td>Malta, Group D</td><td>4</td><td>2</td><td>Estonia, Group D</td></tr><tr><td>24</td><td>Iceland, Group D vs Malta, Group D</td><td>Iceland, Group D</td><td>Malta, Group D</td><td>1</td><td>1</td><td>Draw</td></tr><tr><td>25</td><td>Bulgaria, Group E vs Finland, Group E</td><td>Bulgaria, Group E</td><td>Finland, Group E</td><td>5</td><td>2</td><td>Bulgaria, Group E</td></tr><tr><td>26</td><td>Bulgaria, Group E vs Ireland, Group E</td><td>Bulgaria, Group E</td><td>Ireland, Group E</td><td>4</td><td>3</td><td>Bulgaria, Group E</td></tr><tr><td>27</td><td>Bulgaria, Group E vs Netherlands, Group E</td><td>Bulgaria, Group E</td><td>Netherlands, Group E</td><td>0</td><td>3</td><td>Netherlands, Group E</td></tr><tr><td>28</td><td>Finland, Group E vs Ireland, Group E</td><td>Finland, Group E</td><td>Ireland, Group E</td><td>1</td><td>1</td><td>Draw</td></tr><tr><td>29</td><td>Finland, Group E vs Netherlands, Group E</td><td>Finland, Group E</td><td>Netherlands, Group E</td><td>5</td><td>3</td><td>Finland, Group E</td></tr><tr><td>30</td><td>Ireland, Group E vs Netherlands, Group E</td><td>Ireland, Group E</td><td>Netherlands, Group E</td><td>3</td><td>3</td><td>Draw</td></tr><tr><td>31</td><td>Croatia, Group F vs France, Group F</td><td>Croatia, Group F</td><td>France, Group F</td><td>3</td><td>1</td><td>Croatia, Group F</td></tr><tr><td>32</td><td>Croatia, Group F vs Italy, Group F</td><td>Croatia, Group F</td><td>Italy, Group F</td><td>3</td><td>5</td><td>Italy, Group F</td></tr><tr><td>33</td><td>Croatia, Group F vs Norway, Group F</td><td>Croatia, Group F</td><td>Norway, Group F</td><td>2</td><td>3</td><td>Norway, Group F</td></tr><tr><td>34</td><td>France, Group F vs Italy, Group F</td><td>France, Group F</td><td>Italy, Group F</td><td>4</td><td>4</td><td>Draw</td></tr><tr><td>35</td><td>France, Group F vs Norway, Group F</td><td>France, Group F</td><td>Norway, Group F</td><td>3</td><td>2</td><td>France, Group F</td></tr><tr><td>36</td><td>Italy, Group F vs Norway, Group F</td><td>Italy, Group F</td><td>Norway, Group F</td><td>3</td><td>1</td><td>Italy, Group F</td></tr></tbody></table></div>"
      ]
     },
     "metadata": {
      "application/vnd.databricks.v1+output": {
       "addedWidgets": {},
       "aggData": [],
       "aggError": "",
       "aggOverflow": false,
       "aggSchema": [],
       "aggSeriesLimitReached": false,
       "aggType": "",
       "arguments": {},
       "columnCustomDisplayInfos": {},
       "data": [
        [
         1,
         "Albania, Group A vs Cyprus, Group A",
         "Albania, Group A",
         "Cyprus, Group A",
         5,
         2,
         "Albania, Group A"
        ],
        [
         2,
         "Albania, Group A vs Germany, Group A",
         "Albania, Group A",
         "Germany, Group A",
         0,
         4,
         "Germany, Group A"
        ],
        [
         3,
         "Albania, Group A vs Latvia, Group A",
         "Albania, Group A",
         "Latvia, Group A",
         3,
         4,
         "Latvia, Group A"
        ],
        [
         4,
         "Cyprus, Group A vs Germany, Group A",
         "Cyprus, Group A",
         "Germany, Group A",
         2,
         5,
         "Germany, Group A"
        ],
        [
         5,
         "Cyprus, Group A vs Latvia, Group A",
         "Cyprus, Group A",
         "Latvia, Group A",
         0,
         0,
         "Draw"
        ],
        [
         6,
         "Germany, Group A vs Latvia, Group A",
         "Germany, Group A",
         "Latvia, Group A",
         5,
         2,
         "Germany, Group A"
        ],
        [
         7,
         "Austria, Group B vs Czech Republic, Group B",
         "Austria, Group B",
         "Czech Republic, Group B",
         0,
         0,
         "Draw"
        ],
        [
         8,
         "Austria, Group B vs Greece, Group B",
         "Austria, Group B",
         "Greece, Group B",
         0,
         5,
         "Greece, Group B"
        ],
        [
         9,
         "Austria, Group B vs Lithuania, Group B",
         "Austria, Group B",
         "Lithuania, Group B",
         1,
         0,
         "Austria, Group B"
        ],
        [
         10,
         "Czech Republic, Group B vs Greece, Group B",
         "Czech Republic, Group B",
         "Greece, Group B",
         3,
         3,
         "Draw"
        ],
        [
         11,
         "Czech Republic, Group B vs Lithuania, Group B",
         "Czech Republic, Group B",
         "Lithuania, Group B",
         4,
         3,
         "Czech Republic, Group B"
        ],
        [
         12,
         "Greece, Group B vs Lithuania, Group B",
         "Greece, Group B",
         "Lithuania, Group B",
         2,
         2,
         "Draw"
        ],
        [
         13,
         "Belgium, Group C vs Denmark, Group C",
         "Belgium, Group C",
         "Denmark, Group C",
         4,
         3,
         "Belgium, Group C"
        ],
        [
         14,
         "Belgium, Group C vs Hungary, Group C",
         "Belgium, Group C",
         "Hungary, Group C",
         3,
         2,
         "Belgium, Group C"
        ],
        [
         15,
         "Belgium, Group C vs Luxembourg, Group C",
         "Belgium, Group C",
         "Luxembourg, Group C",
         3,
         0,
         "Belgium, Group C"
        ],
        [
         16,
         "Denmark, Group C vs Hungary, Group C",
         "Denmark, Group C",
         "Hungary, Group C",
         3,
         0,
         "Denmark, Group C"
        ],
        [
         17,
         "Denmark, Group C vs Luxembourg, Group C",
         "Denmark, Group C",
         "Luxembourg, Group C",
         4,
         1,
         "Denmark, Group C"
        ],
        [
         18,
         "Hungary, Group C vs Luxembourg, Group C",
         "Hungary, Group C",
         "Luxembourg, Group C",
         5,
         1,
         "Hungary, Group C"
        ],
        [
         19,
         "Bosnia, Group D vs Estonia, Group D",
         "Bosnia, Group D",
         "Estonia, Group D",
         0,
         4,
         "Estonia, Group D"
        ],
        [
         20,
         "Bosnia, Group D vs Iceland, Group D",
         "Bosnia, Group D",
         "Iceland, Group D",
         3,
         3,
         "Draw"
        ],
        [
         21,
         "Bosnia, Group D vs Malta, Group D",
         "Bosnia, Group D",
         "Malta, Group D",
         4,
         4,
         "Draw"
        ],
        [
         22,
         "Estonia, Group D vs Iceland, Group D",
         "Estonia, Group D",
         "Iceland, Group D",
         0,
         2,
         "Iceland, Group D"
        ],
        [
         23,
         "Estonia, Group D vs Malta, Group D",
         "Estonia, Group D",
         "Malta, Group D",
         4,
         2,
         "Estonia, Group D"
        ],
        [
         24,
         "Iceland, Group D vs Malta, Group D",
         "Iceland, Group D",
         "Malta, Group D",
         1,
         1,
         "Draw"
        ],
        [
         25,
         "Bulgaria, Group E vs Finland, Group E",
         "Bulgaria, Group E",
         "Finland, Group E",
         5,
         2,
         "Bulgaria, Group E"
        ],
        [
         26,
         "Bulgaria, Group E vs Ireland, Group E",
         "Bulgaria, Group E",
         "Ireland, Group E",
         4,
         3,
         "Bulgaria, Group E"
        ],
        [
         27,
         "Bulgaria, Group E vs Netherlands, Group E",
         "Bulgaria, Group E",
         "Netherlands, Group E",
         0,
         3,
         "Netherlands, Group E"
        ],
        [
         28,
         "Finland, Group E vs Ireland, Group E",
         "Finland, Group E",
         "Ireland, Group E",
         1,
         1,
         "Draw"
        ],
        [
         29,
         "Finland, Group E vs Netherlands, Group E",
         "Finland, Group E",
         "Netherlands, Group E",
         5,
         3,
         "Finland, Group E"
        ],
        [
         30,
         "Ireland, Group E vs Netherlands, Group E",
         "Ireland, Group E",
         "Netherlands, Group E",
         3,
         3,
         "Draw"
        ],
        [
         31,
         "Croatia, Group F vs France, Group F",
         "Croatia, Group F",
         "France, Group F",
         3,
         1,
         "Croatia, Group F"
        ],
        [
         32,
         "Croatia, Group F vs Italy, Group F",
         "Croatia, Group F",
         "Italy, Group F",
         3,
         5,
         "Italy, Group F"
        ],
        [
         33,
         "Croatia, Group F vs Norway, Group F",
         "Croatia, Group F",
         "Norway, Group F",
         2,
         3,
         "Norway, Group F"
        ],
        [
         34,
         "France, Group F vs Italy, Group F",
         "France, Group F",
         "Italy, Group F",
         4,
         4,
         "Draw"
        ],
        [
         35,
         "France, Group F vs Norway, Group F",
         "France, Group F",
         "Norway, Group F",
         3,
         2,
         "France, Group F"
        ],
        [
         36,
         "Italy, Group F vs Norway, Group F",
         "Italy, Group F",
         "Norway, Group F",
         3,
         1,
         "Italy, Group F"
        ]
       ],
       "datasetInfos": [],
       "dbfsResultPath": null,
       "isJsonSchema": true,
       "metadata": {},
       "overflow": false,
       "plotOptions": {
        "customPlotOptions": {},
        "displayType": "table",
        "pivotAggregation": null,
        "pivotColumns": null,
        "xColumns": null,
        "yColumns": null
       },
       "removedWidgets": [],
       "schema": [
        {
         "metadata": "{}",
         "name": "match_fixture_id",
         "type": "\"integer\""
        },
        {
         "metadata": "{}",
         "name": "match_fixture",
         "type": "\"string\""
        },
        {
         "metadata": "{}",
         "name": "team_1_name",
         "type": "\"string\""
        },
        {
         "metadata": "{}",
         "name": "team_2_name",
         "type": "\"string\""
        },
        {
         "metadata": "{}",
         "name": "team_1_goal",
         "type": "\"integer\""
        },
        {
         "metadata": "{}",
         "name": "team_2_goal",
         "type": "\"integer\""
        },
        {
         "metadata": "{}",
         "name": "winner",
         "type": "\"string\""
        }
       ],
       "type": "table"
      }
     },
     "output_type": "display_data"
    }
   ],
   "source": [
    "import random\n",
    "from pyspark.sql import Row\n",
    "\n",
    "# Define the schema for df_match_fixture_goal\n",
    "match_fixture_goal_schema = StructType([\n",
    "    StructField(\"match_fixture_id\", IntegerType(), nullable=True),\n",
    "    StructField(\"match_fixture\", StringType(), nullable=True),\n",
    "    # StructField(\"group_name\", StringType(), nullable=True),\n",
    "    StructField(\"team_1_name\", StringType(), nullable=True),\n",
    "    StructField(\"team_2_name\", StringType(), nullable=True),\n",
    "    StructField(\"team_1_goal\", IntegerType(), nullable=True),\n",
    "    StructField(\"team_2_goal\", IntegerType(), nullable=True),\n",
    "    StructField(\"winner\", StringType(), nullable=True)   \n",
    "])\n",
    "\n",
    "# Create an empty list to hold the rows for df_match_fixture_goal\n",
    "match_fixture_goal_data = []\n",
    "\n",
    "# Iterate through df_match_fixture DataFrame\n",
    "for row in df_match_fixture.collect():\n",
    "    match_id = row['match_id']\n",
    "    match_fixture = row['match']\n",
    "    teams = match_fixture.split(' vs ')\n",
    "    team_1_name = teams[0]\n",
    "    team_2_name = teams[1]\n",
    "    # Generate random goals for each team\n",
    "    team_1_goal = random.randint(0, 5)\n",
    "    team_2_goal = random.randint(0, 5)\n",
    "    \n",
    "    # Determine the winner\n",
    "    winner = team_1_name if team_1_goal > team_2_goal else team_2_name if team_2_goal > team_1_goal else \"Draw\"\n",
    "    \n",
    "    # Construct a row for df_match_fixture_goal\n",
    "    match_fixture_goal_row = Row(\n",
    "        match_fixture_id=match_id,\n",
    "        match_fixture=match_fixture,\n",
    "        # group_name=group_name,  # Assuming you have 'group_name' available\n",
    "        team_1_name=team_1_name,\n",
    "        team_2_name=team_2_name,\n",
    "        team_1_goal=team_1_goal,\n",
    "        team_2_goal=team_2_goal,\n",
    "        winner=winner\n",
    "    )\n",
    "    \n",
    "    # Append the row to the list\n",
    "    match_fixture_goal_data.append(match_fixture_goal_row)\n",
    "\n",
    "# Create DataFrame df_match_fixture_goal\n",
    "df_match_fixture_goal = spark.createDataFrame(match_fixture_goal_data, schema=match_fixture_goal_schema)\n",
    "\n",
    "display(df_match_fixture_goal)\n"
   ]
  },
  {
   "cell_type": "code",
   "execution_count": 0,
   "metadata": {
    "application/vnd.databricks.v1+cell": {
     "cellMetadata": {
      "byteLimit": 2048000,
      "rowLimit": 10000
     },
     "inputWidgets": {},
     "nuid": "4b09bbc2-b487-4851-8740-3f73494074ea",
     "showTitle": false,
     "title": ""
    }
   },
   "outputs": [
    {
     "output_type": "display_data",
     "data": {
      "text/html": [
       "<style scoped>\n",
       "  .table-result-container {\n",
       "    max-height: 300px;\n",
       "    overflow: auto;\n",
       "  }\n",
       "  table, th, td {\n",
       "    border: 1px solid black;\n",
       "    border-collapse: collapse;\n",
       "  }\n",
       "  th, td {\n",
       "    padding: 5px;\n",
       "  }\n",
       "  th {\n",
       "    text-align: left;\n",
       "  }\n",
       "</style><div class='table-result-container'><table class='table-result'><thead style='background-color: white'><tr><th>team_name</th><th>group_name</th><th>winner</th><th>gs</th><th>gc</th></tr></thead><tbody><tr><td>Albania, Group A</td><td>Group A</td><td>Albania, Group A</td><td>5</td><td>2</td></tr><tr><td>Albania, Group A</td><td>Group A</td><td>Germany, Group A</td><td>0</td><td>4</td></tr><tr><td>Albania, Group A</td><td>Group A</td><td>Latvia, Group A</td><td>3</td><td>4</td></tr><tr><td>Cyprus, Group A</td><td>Group A</td><td>Germany, Group A</td><td>2</td><td>5</td></tr><tr><td>Cyprus, Group A</td><td>Group A</td><td>Draw</td><td>0</td><td>0</td></tr><tr><td>Germany, Group A</td><td>Group A</td><td>Germany, Group A</td><td>5</td><td>2</td></tr><tr><td>Austria, Group B</td><td>Group B</td><td>Draw</td><td>0</td><td>0</td></tr><tr><td>Austria, Group B</td><td>Group B</td><td>Greece, Group B</td><td>0</td><td>5</td></tr><tr><td>Austria, Group B</td><td>Group B</td><td>Austria, Group B</td><td>1</td><td>0</td></tr><tr><td>Czech Republic, Group B</td><td>Group B</td><td>Draw</td><td>3</td><td>3</td></tr><tr><td>Czech Republic, Group B</td><td>Group B</td><td>Czech Republic, Group B</td><td>4</td><td>3</td></tr><tr><td>Greece, Group B</td><td>Group B</td><td>Draw</td><td>2</td><td>2</td></tr><tr><td>Belgium, Group C</td><td>Group C</td><td>Belgium, Group C</td><td>4</td><td>3</td></tr><tr><td>Belgium, Group C</td><td>Group C</td><td>Belgium, Group C</td><td>3</td><td>2</td></tr><tr><td>Belgium, Group C</td><td>Group C</td><td>Belgium, Group C</td><td>3</td><td>0</td></tr><tr><td>Denmark, Group C</td><td>Group C</td><td>Denmark, Group C</td><td>3</td><td>0</td></tr><tr><td>Denmark, Group C</td><td>Group C</td><td>Denmark, Group C</td><td>4</td><td>1</td></tr><tr><td>Hungary, Group C</td><td>Group C</td><td>Hungary, Group C</td><td>5</td><td>1</td></tr><tr><td>Bosnia, Group D</td><td>Group D</td><td>Estonia, Group D</td><td>0</td><td>4</td></tr><tr><td>Bosnia, Group D</td><td>Group D</td><td>Draw</td><td>3</td><td>3</td></tr><tr><td>Bosnia, Group D</td><td>Group D</td><td>Draw</td><td>4</td><td>4</td></tr><tr><td>Estonia, Group D</td><td>Group D</td><td>Iceland, Group D</td><td>0</td><td>2</td></tr><tr><td>Estonia, Group D</td><td>Group D</td><td>Estonia, Group D</td><td>4</td><td>2</td></tr><tr><td>Iceland, Group D</td><td>Group D</td><td>Draw</td><td>1</td><td>1</td></tr><tr><td>Bulgaria, Group E</td><td>Group E</td><td>Bulgaria, Group E</td><td>5</td><td>2</td></tr><tr><td>Bulgaria, Group E</td><td>Group E</td><td>Bulgaria, Group E</td><td>4</td><td>3</td></tr><tr><td>Bulgaria, Group E</td><td>Group E</td><td>Netherlands, Group E</td><td>0</td><td>3</td></tr><tr><td>Finland, Group E</td><td>Group E</td><td>Draw</td><td>1</td><td>1</td></tr><tr><td>Finland, Group E</td><td>Group E</td><td>Finland, Group E</td><td>5</td><td>3</td></tr><tr><td>Ireland, Group E</td><td>Group E</td><td>Draw</td><td>3</td><td>3</td></tr><tr><td>Croatia, Group F</td><td>Group F</td><td>Croatia, Group F</td><td>3</td><td>1</td></tr><tr><td>Croatia, Group F</td><td>Group F</td><td>Italy, Group F</td><td>3</td><td>5</td></tr><tr><td>Croatia, Group F</td><td>Group F</td><td>Norway, Group F</td><td>2</td><td>3</td></tr><tr><td>France, Group F</td><td>Group F</td><td>Draw</td><td>4</td><td>4</td></tr><tr><td>France, Group F</td><td>Group F</td><td>France, Group F</td><td>3</td><td>2</td></tr><tr><td>Italy, Group F</td><td>Group F</td><td>Italy, Group F</td><td>3</td><td>1</td></tr><tr><td>Cyprus, Group A</td><td>Group A</td><td>Albania, Group A</td><td>2</td><td>5</td></tr><tr><td>Germany, Group A</td><td>Group A</td><td>Germany, Group A</td><td>4</td><td>0</td></tr><tr><td>Latvia, Group A</td><td>Group A</td><td>Latvia, Group A</td><td>4</td><td>3</td></tr><tr><td>Germany, Group A</td><td>Group A</td><td>Germany, Group A</td><td>5</td><td>2</td></tr><tr><td>Latvia, Group A</td><td>Group A</td><td>Draw</td><td>0</td><td>0</td></tr><tr><td>Latvia, Group A</td><td>Group A</td><td>Germany, Group A</td><td>2</td><td>5</td></tr><tr><td>Czech Republic, Group B</td><td>Group B</td><td>Draw</td><td>0</td><td>0</td></tr><tr><td>Greece, Group B</td><td>Group B</td><td>Greece, Group B</td><td>5</td><td>0</td></tr><tr><td>Lithuania, Group B</td><td>Group B</td><td>Austria, Group B</td><td>0</td><td>1</td></tr><tr><td>Greece, Group B</td><td>Group B</td><td>Draw</td><td>3</td><td>3</td></tr><tr><td>Lithuania, Group B</td><td>Group B</td><td>Czech Republic, Group B</td><td>3</td><td>4</td></tr><tr><td>Lithuania, Group B</td><td>Group B</td><td>Draw</td><td>2</td><td>2</td></tr><tr><td>Denmark, Group C</td><td>Group C</td><td>Belgium, Group C</td><td>3</td><td>4</td></tr><tr><td>Hungary, Group C</td><td>Group C</td><td>Belgium, Group C</td><td>2</td><td>3</td></tr><tr><td>Luxembourg, Group C</td><td>Group C</td><td>Belgium, Group C</td><td>0</td><td>3</td></tr><tr><td>Hungary, Group C</td><td>Group C</td><td>Denmark, Group C</td><td>0</td><td>3</td></tr><tr><td>Luxembourg, Group C</td><td>Group C</td><td>Denmark, Group C</td><td>1</td><td>4</td></tr><tr><td>Luxembourg, Group C</td><td>Group C</td><td>Hungary, Group C</td><td>1</td><td>5</td></tr><tr><td>Estonia, Group D</td><td>Group D</td><td>Estonia, Group D</td><td>4</td><td>0</td></tr><tr><td>Iceland, Group D</td><td>Group D</td><td>Draw</td><td>3</td><td>3</td></tr><tr><td>Malta, Group D</td><td>Group D</td><td>Draw</td><td>4</td><td>4</td></tr><tr><td>Iceland, Group D</td><td>Group D</td><td>Iceland, Group D</td><td>2</td><td>0</td></tr><tr><td>Malta, Group D</td><td>Group D</td><td>Estonia, Group D</td><td>2</td><td>4</td></tr><tr><td>Malta, Group D</td><td>Group D</td><td>Draw</td><td>1</td><td>1</td></tr><tr><td>Finland, Group E</td><td>Group E</td><td>Bulgaria, Group E</td><td>2</td><td>5</td></tr><tr><td>Ireland, Group E</td><td>Group E</td><td>Bulgaria, Group E</td><td>3</td><td>4</td></tr><tr><td>Netherlands, Group E</td><td>Group E</td><td>Netherlands, Group E</td><td>3</td><td>0</td></tr><tr><td>Ireland, Group E</td><td>Group E</td><td>Draw</td><td>1</td><td>1</td></tr><tr><td>Netherlands, Group E</td><td>Group E</td><td>Finland, Group E</td><td>3</td><td>5</td></tr><tr><td>Netherlands, Group E</td><td>Group E</td><td>Draw</td><td>3</td><td>3</td></tr><tr><td>France, Group F</td><td>Group F</td><td>Croatia, Group F</td><td>1</td><td>3</td></tr><tr><td>Italy, Group F</td><td>Group F</td><td>Italy, Group F</td><td>5</td><td>3</td></tr><tr><td>Norway, Group F</td><td>Group F</td><td>Norway, Group F</td><td>3</td><td>2</td></tr><tr><td>Italy, Group F</td><td>Group F</td><td>Draw</td><td>4</td><td>4</td></tr><tr><td>Norway, Group F</td><td>Group F</td><td>France, Group F</td><td>2</td><td>3</td></tr><tr><td>Norway, Group F</td><td>Group F</td><td>Italy, Group F</td><td>1</td><td>3</td></tr></tbody></table></div>"
      ]
     },
     "metadata": {
      "application/vnd.databricks.v1+output": {
       "addedWidgets": {},
       "aggData": [],
       "aggError": "",
       "aggOverflow": false,
       "aggSchema": [],
       "aggSeriesLimitReached": false,
       "aggType": "",
       "arguments": {},
       "columnCustomDisplayInfos": {},
       "data": [
        [
         "Albania, Group A",
         "Group A",
         "Albania, Group A",
         5,
         2
        ],
        [
         "Albania, Group A",
         "Group A",
         "Germany, Group A",
         0,
         4
        ],
        [
         "Albania, Group A",
         "Group A",
         "Latvia, Group A",
         3,
         4
        ],
        [
         "Cyprus, Group A",
         "Group A",
         "Germany, Group A",
         2,
         5
        ],
        [
         "Cyprus, Group A",
         "Group A",
         "Draw",
         0,
         0
        ],
        [
         "Germany, Group A",
         "Group A",
         "Germany, Group A",
         5,
         2
        ],
        [
         "Austria, Group B",
         "Group B",
         "Draw",
         0,
         0
        ],
        [
         "Austria, Group B",
         "Group B",
         "Greece, Group B",
         0,
         5
        ],
        [
         "Austria, Group B",
         "Group B",
         "Austria, Group B",
         1,
         0
        ],
        [
         "Czech Republic, Group B",
         "Group B",
         "Draw",
         3,
         3
        ],
        [
         "Czech Republic, Group B",
         "Group B",
         "Czech Republic, Group B",
         4,
         3
        ],
        [
         "Greece, Group B",
         "Group B",
         "Draw",
         2,
         2
        ],
        [
         "Belgium, Group C",
         "Group C",
         "Belgium, Group C",
         4,
         3
        ],
        [
         "Belgium, Group C",
         "Group C",
         "Belgium, Group C",
         3,
         2
        ],
        [
         "Belgium, Group C",
         "Group C",
         "Belgium, Group C",
         3,
         0
        ],
        [
         "Denmark, Group C",
         "Group C",
         "Denmark, Group C",
         3,
         0
        ],
        [
         "Denmark, Group C",
         "Group C",
         "Denmark, Group C",
         4,
         1
        ],
        [
         "Hungary, Group C",
         "Group C",
         "Hungary, Group C",
         5,
         1
        ],
        [
         "Bosnia, Group D",
         "Group D",
         "Estonia, Group D",
         0,
         4
        ],
        [
         "Bosnia, Group D",
         "Group D",
         "Draw",
         3,
         3
        ],
        [
         "Bosnia, Group D",
         "Group D",
         "Draw",
         4,
         4
        ],
        [
         "Estonia, Group D",
         "Group D",
         "Iceland, Group D",
         0,
         2
        ],
        [
         "Estonia, Group D",
         "Group D",
         "Estonia, Group D",
         4,
         2
        ],
        [
         "Iceland, Group D",
         "Group D",
         "Draw",
         1,
         1
        ],
        [
         "Bulgaria, Group E",
         "Group E",
         "Bulgaria, Group E",
         5,
         2
        ],
        [
         "Bulgaria, Group E",
         "Group E",
         "Bulgaria, Group E",
         4,
         3
        ],
        [
         "Bulgaria, Group E",
         "Group E",
         "Netherlands, Group E",
         0,
         3
        ],
        [
         "Finland, Group E",
         "Group E",
         "Draw",
         1,
         1
        ],
        [
         "Finland, Group E",
         "Group E",
         "Finland, Group E",
         5,
         3
        ],
        [
         "Ireland, Group E",
         "Group E",
         "Draw",
         3,
         3
        ],
        [
         "Croatia, Group F",
         "Group F",
         "Croatia, Group F",
         3,
         1
        ],
        [
         "Croatia, Group F",
         "Group F",
         "Italy, Group F",
         3,
         5
        ],
        [
         "Croatia, Group F",
         "Group F",
         "Norway, Group F",
         2,
         3
        ],
        [
         "France, Group F",
         "Group F",
         "Draw",
         4,
         4
        ],
        [
         "France, Group F",
         "Group F",
         "France, Group F",
         3,
         2
        ],
        [
         "Italy, Group F",
         "Group F",
         "Italy, Group F",
         3,
         1
        ],
        [
         "Cyprus, Group A",
         "Group A",
         "Albania, Group A",
         2,
         5
        ],
        [
         "Germany, Group A",
         "Group A",
         "Germany, Group A",
         4,
         0
        ],
        [
         "Latvia, Group A",
         "Group A",
         "Latvia, Group A",
         4,
         3
        ],
        [
         "Germany, Group A",
         "Group A",
         "Germany, Group A",
         5,
         2
        ],
        [
         "Latvia, Group A",
         "Group A",
         "Draw",
         0,
         0
        ],
        [
         "Latvia, Group A",
         "Group A",
         "Germany, Group A",
         2,
         5
        ],
        [
         "Czech Republic, Group B",
         "Group B",
         "Draw",
         0,
         0
        ],
        [
         "Greece, Group B",
         "Group B",
         "Greece, Group B",
         5,
         0
        ],
        [
         "Lithuania, Group B",
         "Group B",
         "Austria, Group B",
         0,
         1
        ],
        [
         "Greece, Group B",
         "Group B",
         "Draw",
         3,
         3
        ],
        [
         "Lithuania, Group B",
         "Group B",
         "Czech Republic, Group B",
         3,
         4
        ],
        [
         "Lithuania, Group B",
         "Group B",
         "Draw",
         2,
         2
        ],
        [
         "Denmark, Group C",
         "Group C",
         "Belgium, Group C",
         3,
         4
        ],
        [
         "Hungary, Group C",
         "Group C",
         "Belgium, Group C",
         2,
         3
        ],
        [
         "Luxembourg, Group C",
         "Group C",
         "Belgium, Group C",
         0,
         3
        ],
        [
         "Hungary, Group C",
         "Group C",
         "Denmark, Group C",
         0,
         3
        ],
        [
         "Luxembourg, Group C",
         "Group C",
         "Denmark, Group C",
         1,
         4
        ],
        [
         "Luxembourg, Group C",
         "Group C",
         "Hungary, Group C",
         1,
         5
        ],
        [
         "Estonia, Group D",
         "Group D",
         "Estonia, Group D",
         4,
         0
        ],
        [
         "Iceland, Group D",
         "Group D",
         "Draw",
         3,
         3
        ],
        [
         "Malta, Group D",
         "Group D",
         "Draw",
         4,
         4
        ],
        [
         "Iceland, Group D",
         "Group D",
         "Iceland, Group D",
         2,
         0
        ],
        [
         "Malta, Group D",
         "Group D",
         "Estonia, Group D",
         2,
         4
        ],
        [
         "Malta, Group D",
         "Group D",
         "Draw",
         1,
         1
        ],
        [
         "Finland, Group E",
         "Group E",
         "Bulgaria, Group E",
         2,
         5
        ],
        [
         "Ireland, Group E",
         "Group E",
         "Bulgaria, Group E",
         3,
         4
        ],
        [
         "Netherlands, Group E",
         "Group E",
         "Netherlands, Group E",
         3,
         0
        ],
        [
         "Ireland, Group E",
         "Group E",
         "Draw",
         1,
         1
        ],
        [
         "Netherlands, Group E",
         "Group E",
         "Finland, Group E",
         3,
         5
        ],
        [
         "Netherlands, Group E",
         "Group E",
         "Draw",
         3,
         3
        ],
        [
         "France, Group F",
         "Group F",
         "Croatia, Group F",
         1,
         3
        ],
        [
         "Italy, Group F",
         "Group F",
         "Italy, Group F",
         5,
         3
        ],
        [
         "Norway, Group F",
         "Group F",
         "Norway, Group F",
         3,
         2
        ],
        [
         "Italy, Group F",
         "Group F",
         "Draw",
         4,
         4
        ],
        [
         "Norway, Group F",
         "Group F",
         "France, Group F",
         2,
         3
        ],
        [
         "Norway, Group F",
         "Group F",
         "Italy, Group F",
         1,
         3
        ]
       ],
       "datasetInfos": [],
       "dbfsResultPath": null,
       "isJsonSchema": true,
       "metadata": {},
       "overflow": false,
       "plotOptions": {
        "customPlotOptions": {},
        "displayType": "table",
        "pivotAggregation": null,
        "pivotColumns": null,
        "xColumns": null,
        "yColumns": null
       },
       "removedWidgets": [],
       "schema": [
        {
         "metadata": "{}",
         "name": "team_name",
         "type": "\"string\""
        },
        {
         "metadata": "{}",
         "name": "group_name",
         "type": "\"string\""
        },
        {
         "metadata": "{}",
         "name": "winner",
         "type": "\"string\""
        },
        {
         "metadata": "{}",
         "name": "gs",
         "type": "\"integer\""
        },
        {
         "metadata": "{}",
         "name": "gc",
         "type": "\"integer\""
        }
       ],
       "type": "table"
      }
     },
     "output_type": "display_data"
    },
    {
     "output_type": "display_data",
     "data": {
      "text/html": [
       "<style scoped>\n",
       "  .table-result-container {\n",
       "    max-height: 300px;\n",
       "    overflow: auto;\n",
       "  }\n",
       "  table, th, td {\n",
       "    border: 1px solid black;\n",
       "    border-collapse: collapse;\n",
       "  }\n",
       "  th, td {\n",
       "    padding: 5px;\n",
       "  }\n",
       "  th {\n",
       "    text-align: left;\n",
       "  }\n",
       "</style><div class='table-result-container'><table class='table-result'><thead style='background-color: white'><tr><th>team_name</th><th>group_name</th><th>matches_played</th><th>match_won</th><th>match_loss</th><th>match_drawn</th><th>goal_scored</th><th>goal_conceded</th><th>goal_difference</th><th>points</th></tr></thead><tbody><tr><td>Germany, Group A</td><td>Group A</td><td>3</td><td>3</td><td>0</td><td>0</td><td>14</td><td>4</td><td>10</td><td>9</td></tr><tr><td>Latvia, Group A</td><td>Group A</td><td>3</td><td>1</td><td>1</td><td>1</td><td>6</td><td>8</td><td>-2</td><td>4</td></tr><tr><td>Albania, Group A</td><td>Group A</td><td>3</td><td>1</td><td>2</td><td>0</td><td>8</td><td>10</td><td>-2</td><td>3</td></tr><tr><td>Cyprus, Group A</td><td>Group A</td><td>3</td><td>0</td><td>2</td><td>1</td><td>4</td><td>10</td><td>-6</td><td>1</td></tr><tr><td>Greece, Group B</td><td>Group B</td><td>3</td><td>1</td><td>0</td><td>2</td><td>10</td><td>5</td><td>5</td><td>5</td></tr><tr><td>Czech Republic, Group B</td><td>Group B</td><td>3</td><td>1</td><td>0</td><td>2</td><td>7</td><td>6</td><td>1</td><td>5</td></tr><tr><td>Austria, Group B</td><td>Group B</td><td>3</td><td>1</td><td>1</td><td>1</td><td>1</td><td>5</td><td>-4</td><td>4</td></tr><tr><td>Lithuania, Group B</td><td>Group B</td><td>3</td><td>0</td><td>2</td><td>1</td><td>5</td><td>7</td><td>-2</td><td>1</td></tr><tr><td>Belgium, Group C</td><td>Group C</td><td>3</td><td>3</td><td>0</td><td>0</td><td>10</td><td>5</td><td>5</td><td>9</td></tr><tr><td>Denmark, Group C</td><td>Group C</td><td>3</td><td>2</td><td>1</td><td>0</td><td>10</td><td>5</td><td>5</td><td>6</td></tr><tr><td>Hungary, Group C</td><td>Group C</td><td>3</td><td>1</td><td>2</td><td>0</td><td>7</td><td>7</td><td>0</td><td>3</td></tr><tr><td>Luxembourg, Group C</td><td>Group C</td><td>3</td><td>0</td><td>3</td><td>0</td><td>2</td><td>12</td><td>-10</td><td>0</td></tr><tr><td>Estonia, Group D</td><td>Group D</td><td>3</td><td>2</td><td>1</td><td>0</td><td>8</td><td>4</td><td>4</td><td>6</td></tr><tr><td>Iceland, Group D</td><td>Group D</td><td>3</td><td>1</td><td>0</td><td>2</td><td>6</td><td>4</td><td>2</td><td>5</td></tr><tr><td>Malta, Group D</td><td>Group D</td><td>3</td><td>0</td><td>1</td><td>2</td><td>7</td><td>9</td><td>-2</td><td>2</td></tr><tr><td>Bosnia, Group D</td><td>Group D</td><td>3</td><td>0</td><td>1</td><td>2</td><td>7</td><td>11</td><td>-4</td><td>2</td></tr><tr><td>Bulgaria, Group E</td><td>Group E</td><td>3</td><td>2</td><td>1</td><td>0</td><td>9</td><td>8</td><td>1</td><td>6</td></tr><tr><td>Netherlands, Group E</td><td>Group E</td><td>3</td><td>1</td><td>1</td><td>1</td><td>9</td><td>8</td><td>1</td><td>4</td></tr><tr><td>Finland, Group E</td><td>Group E</td><td>3</td><td>1</td><td>1</td><td>1</td><td>8</td><td>9</td><td>-1</td><td>4</td></tr><tr><td>Ireland, Group E</td><td>Group E</td><td>3</td><td>0</td><td>1</td><td>2</td><td>7</td><td>8</td><td>-1</td><td>2</td></tr><tr><td>Italy, Group F</td><td>Group F</td><td>3</td><td>2</td><td>0</td><td>1</td><td>12</td><td>8</td><td>4</td><td>7</td></tr><tr><td>France, Group F</td><td>Group F</td><td>3</td><td>1</td><td>1</td><td>1</td><td>8</td><td>9</td><td>-1</td><td>4</td></tr><tr><td>Croatia, Group F</td><td>Group F</td><td>3</td><td>1</td><td>2</td><td>0</td><td>8</td><td>9</td><td>-1</td><td>3</td></tr><tr><td>Norway, Group F</td><td>Group F</td><td>3</td><td>1</td><td>2</td><td>0</td><td>6</td><td>8</td><td>-2</td><td>3</td></tr></tbody></table></div>"
      ]
     },
     "metadata": {
      "application/vnd.databricks.v1+output": {
       "addedWidgets": {},
       "aggData": [],
       "aggError": "",
       "aggOverflow": false,
       "aggSchema": [],
       "aggSeriesLimitReached": false,
       "aggType": "",
       "arguments": {},
       "columnCustomDisplayInfos": {},
       "data": [
        [
         "Germany, Group A",
         "Group A",
         3,
         3,
         0,
         0,
         14,
         4,
         10,
         9
        ],
        [
         "Latvia, Group A",
         "Group A",
         3,
         1,
         1,
         1,
         6,
         8,
         -2,
         4
        ],
        [
         "Albania, Group A",
         "Group A",
         3,
         1,
         2,
         0,
         8,
         10,
         -2,
         3
        ],
        [
         "Cyprus, Group A",
         "Group A",
         3,
         0,
         2,
         1,
         4,
         10,
         -6,
         1
        ],
        [
         "Greece, Group B",
         "Group B",
         3,
         1,
         0,
         2,
         10,
         5,
         5,
         5
        ],
        [
         "Czech Republic, Group B",
         "Group B",
         3,
         1,
         0,
         2,
         7,
         6,
         1,
         5
        ],
        [
         "Austria, Group B",
         "Group B",
         3,
         1,
         1,
         1,
         1,
         5,
         -4,
         4
        ],
        [
         "Lithuania, Group B",
         "Group B",
         3,
         0,
         2,
         1,
         5,
         7,
         -2,
         1
        ],
        [
         "Belgium, Group C",
         "Group C",
         3,
         3,
         0,
         0,
         10,
         5,
         5,
         9
        ],
        [
         "Denmark, Group C",
         "Group C",
         3,
         2,
         1,
         0,
         10,
         5,
         5,
         6
        ],
        [
         "Hungary, Group C",
         "Group C",
         3,
         1,
         2,
         0,
         7,
         7,
         0,
         3
        ],
        [
         "Luxembourg, Group C",
         "Group C",
         3,
         0,
         3,
         0,
         2,
         12,
         -10,
         0
        ],
        [
         "Estonia, Group D",
         "Group D",
         3,
         2,
         1,
         0,
         8,
         4,
         4,
         6
        ],
        [
         "Iceland, Group D",
         "Group D",
         3,
         1,
         0,
         2,
         6,
         4,
         2,
         5
        ],
        [
         "Malta, Group D",
         "Group D",
         3,
         0,
         1,
         2,
         7,
         9,
         -2,
         2
        ],
        [
         "Bosnia, Group D",
         "Group D",
         3,
         0,
         1,
         2,
         7,
         11,
         -4,
         2
        ],
        [
         "Bulgaria, Group E",
         "Group E",
         3,
         2,
         1,
         0,
         9,
         8,
         1,
         6
        ],
        [
         "Netherlands, Group E",
         "Group E",
         3,
         1,
         1,
         1,
         9,
         8,
         1,
         4
        ],
        [
         "Finland, Group E",
         "Group E",
         3,
         1,
         1,
         1,
         8,
         9,
         -1,
         4
        ],
        [
         "Ireland, Group E",
         "Group E",
         3,
         0,
         1,
         2,
         7,
         8,
         -1,
         2
        ],
        [
         "Italy, Group F",
         "Group F",
         3,
         2,
         0,
         1,
         12,
         8,
         4,
         7
        ],
        [
         "France, Group F",
         "Group F",
         3,
         1,
         1,
         1,
         8,
         9,
         -1,
         4
        ],
        [
         "Croatia, Group F",
         "Group F",
         3,
         1,
         2,
         0,
         8,
         9,
         -1,
         3
        ],
        [
         "Norway, Group F",
         "Group F",
         3,
         1,
         2,
         0,
         6,
         8,
         -2,
         3
        ]
       ],
       "datasetInfos": [],
       "dbfsResultPath": null,
       "isJsonSchema": true,
       "metadata": {},
       "overflow": false,
       "plotOptions": {
        "customPlotOptions": {},
        "displayType": "table",
        "pivotAggregation": null,
        "pivotColumns": null,
        "xColumns": null,
        "yColumns": null
       },
       "removedWidgets": [],
       "schema": [
        {
         "metadata": "{}",
         "name": "team_name",
         "type": "\"string\""
        },
        {
         "metadata": "{}",
         "name": "group_name",
         "type": "\"string\""
        },
        {
         "metadata": "{}",
         "name": "matches_played",
         "type": "\"long\""
        },
        {
         "metadata": "{}",
         "name": "match_won",
         "type": "\"long\""
        },
        {
         "metadata": "{}",
         "name": "match_loss",
         "type": "\"long\""
        },
        {
         "metadata": "{}",
         "name": "match_drawn",
         "type": "\"long\""
        },
        {
         "metadata": "{}",
         "name": "goal_scored",
         "type": "\"long\""
        },
        {
         "metadata": "{}",
         "name": "goal_conceded",
         "type": "\"long\""
        },
        {
         "metadata": "{}",
         "name": "goal_difference",
         "type": "\"long\""
        },
        {
         "metadata": "{}",
         "name": "points",
         "type": "\"long\""
        }
       ],
       "type": "table"
      }
     },
     "output_type": "display_data"
    }
   ],
   "source": [
    "from pyspark.sql.functions import col, when, count, sum\n",
    "\n",
    "group_standing_schema = StructType([\n",
    "    StructField(\"pos\", IntegerType()),\n",
    "    StructField(\"team_name\", StringType()),\n",
    "    StructField(\"group_name\", StringType()),\n",
    "    StructField(\"matches_played\", IntegerType()),\n",
    "    StructField(\"points\", IntegerType()),\n",
    "    StructField(\"match_won\", IntegerType()),\n",
    "    StructField(\"match_drawn\", IntegerType()),\n",
    "    StructField(\"match_loss\", IntegerType()),\n",
    "    StructField(\"goal_scored\", IntegerType()),\n",
    "    StructField(\"goal_conceded\", IntegerType()),\n",
    "    StructField(\"goal_difference\", IntegerType()),\n",
    "])\n",
    "\n",
    "all_teams = df_match_fixture_goal.select(\n",
    "    col(\"team_1_name\").alias(\"team_name\"),\n",
    "    split(col(\"team_1_name\"), \", \")[1].alias(\"group_name\"),\n",
    "    col(\"winner\"),\n",
    "    col(\"team_1_goal\").alias(\"gs\"),\n",
    "    col(\"team_2_goal\").alias(\"gc\")\n",
    ").union(\n",
    "    df_match_fixture_goal.select(\n",
    "        col(\"team_2_name\").alias(\"team_name\"),\n",
    "        split(col(\"team_2_name\"), \", \")[1].alias(\"group_name\"),\n",
    "        col(\"winner\"),\n",
    "        col(\"team_2_goal\").alias(\"gs\"),\n",
    "        col(\"team_1_goal\").alias(\"gc\")\n",
    "    )\n",
    ")\n",
    "display(all_teams)\n",
    "group_stage_summary = all_teams.groupBy(\n",
    "    \"team_name\", \"group_name\"\n",
    ").agg(\n",
    "    count(\"*\").alias(\"matches_played\"),\n",
    "    sum(when(col(\"winner\") == col(\"team_name\"), 1).otherwise(0)).alias(\"match_won\"),\n",
    "    sum(when((col(\"winner\") != col(\"team_name\")) & (col(\"winner\") != \"Draw\"), 1).otherwise(0)).alias(\"match_loss\"),\n",
    "    sum(when(col(\"winner\") == \"Draw\", 1).otherwise(0)).alias(\"match_drawn\"),\n",
    "    sum(col(\"gs\")).alias(\"goal_scored\"),\n",
    "    sum(col(\"gc\")).alias(\"goal_conceded\"),\n",
    "    (sum(col(\"gs\")) - sum(col(\"gc\"))).alias(\"goal_difference\"),\n",
    "    sum(when(col(\"winner\") == col(\"team_name\"), 3).when(col(\"winner\") == \"Draw\", 1).otherwise(0)).alias(\"points\")\n",
    ").orderBy(\n",
    "    \"group_name\", col(\"points\").desc(), col(\"goal_difference\").desc(), col(\"goal_scored\").desc(), col(\"goal_conceded\").asc(), \"team_name\"\n",
    ")\n",
    "\n",
    "display(group_stage_summary)\n",
    "\n",
    "\n",
    "\n"
   ]
  },
  {
   "cell_type": "code",
   "execution_count": 0,
   "metadata": {
    "application/vnd.databricks.v1+cell": {
     "cellMetadata": {
      "byteLimit": 2048000,
      "rowLimit": 10000
     },
     "inputWidgets": {},
     "nuid": "8c0e5733-4c6b-4d3b-8c35-025b178eb606",
     "showTitle": false,
     "title": ""
    }
   },
   "outputs": [
    {
     "output_type": "display_data",
     "data": {
      "text/html": [
       "<style scoped>\n",
       "  .table-result-container {\n",
       "    max-height: 300px;\n",
       "    overflow: auto;\n",
       "  }\n",
       "  table, th, td {\n",
       "    border: 1px solid black;\n",
       "    border-collapse: collapse;\n",
       "  }\n",
       "  th, td {\n",
       "    padding: 5px;\n",
       "  }\n",
       "  th {\n",
       "    text-align: left;\n",
       "  }\n",
       "</style><div class='table-result-container'><table class='table-result'><thead style='background-color: white'><tr><th>team_name</th><th>group_name</th><th>matches_played</th><th>match_won</th><th>match_loss</th><th>match_drawn</th><th>goal_scored</th><th>goal_conceded</th><th>goal_difference</th><th>points</th><th>rank</th><th>position</th></tr></thead><tbody><tr><td>Germany, Group A</td><td>Group A</td><td>3</td><td>3</td><td>0</td><td>0</td><td>14</td><td>4</td><td>10</td><td>9</td><td>1</td><td>1-Group A</td></tr><tr><td>Latvia, Group A</td><td>Group A</td><td>3</td><td>1</td><td>1</td><td>1</td><td>6</td><td>8</td><td>-2</td><td>4</td><td>2</td><td>2-Group A</td></tr><tr><td>Albania, Group A</td><td>Group A</td><td>3</td><td>1</td><td>2</td><td>0</td><td>8</td><td>10</td><td>-2</td><td>3</td><td>3</td><td>3-Group A</td></tr><tr><td>Cyprus, Group A</td><td>Group A</td><td>3</td><td>0</td><td>2</td><td>1</td><td>4</td><td>10</td><td>-6</td><td>1</td><td>4</td><td>4-Group A</td></tr><tr><td>Greece, Group B</td><td>Group B</td><td>3</td><td>1</td><td>0</td><td>2</td><td>10</td><td>5</td><td>5</td><td>5</td><td>1</td><td>1-Group B</td></tr><tr><td>Czech Republic, Group B</td><td>Group B</td><td>3</td><td>1</td><td>0</td><td>2</td><td>7</td><td>6</td><td>1</td><td>5</td><td>2</td><td>2-Group B</td></tr><tr><td>Austria, Group B</td><td>Group B</td><td>3</td><td>1</td><td>1</td><td>1</td><td>1</td><td>5</td><td>-4</td><td>4</td><td>3</td><td>3-Group B</td></tr><tr><td>Lithuania, Group B</td><td>Group B</td><td>3</td><td>0</td><td>2</td><td>1</td><td>5</td><td>7</td><td>-2</td><td>1</td><td>4</td><td>4-Group B</td></tr><tr><td>Belgium, Group C</td><td>Group C</td><td>3</td><td>3</td><td>0</td><td>0</td><td>10</td><td>5</td><td>5</td><td>9</td><td>1</td><td>1-Group C</td></tr><tr><td>Denmark, Group C</td><td>Group C</td><td>3</td><td>2</td><td>1</td><td>0</td><td>10</td><td>5</td><td>5</td><td>6</td><td>2</td><td>2-Group C</td></tr><tr><td>Hungary, Group C</td><td>Group C</td><td>3</td><td>1</td><td>2</td><td>0</td><td>7</td><td>7</td><td>0</td><td>3</td><td>3</td><td>3-Group C</td></tr><tr><td>Luxembourg, Group C</td><td>Group C</td><td>3</td><td>0</td><td>3</td><td>0</td><td>2</td><td>12</td><td>-10</td><td>0</td><td>4</td><td>4-Group C</td></tr><tr><td>Estonia, Group D</td><td>Group D</td><td>3</td><td>2</td><td>1</td><td>0</td><td>8</td><td>4</td><td>4</td><td>6</td><td>1</td><td>1-Group D</td></tr><tr><td>Iceland, Group D</td><td>Group D</td><td>3</td><td>1</td><td>0</td><td>2</td><td>6</td><td>4</td><td>2</td><td>5</td><td>2</td><td>2-Group D</td></tr><tr><td>Malta, Group D</td><td>Group D</td><td>3</td><td>0</td><td>1</td><td>2</td><td>7</td><td>9</td><td>-2</td><td>2</td><td>3</td><td>3-Group D</td></tr><tr><td>Bosnia, Group D</td><td>Group D</td><td>3</td><td>0</td><td>1</td><td>2</td><td>7</td><td>11</td><td>-4</td><td>2</td><td>4</td><td>4-Group D</td></tr><tr><td>Bulgaria, Group E</td><td>Group E</td><td>3</td><td>2</td><td>1</td><td>0</td><td>9</td><td>8</td><td>1</td><td>6</td><td>1</td><td>1-Group E</td></tr><tr><td>Netherlands, Group E</td><td>Group E</td><td>3</td><td>1</td><td>1</td><td>1</td><td>9</td><td>8</td><td>1</td><td>4</td><td>2</td><td>2-Group E</td></tr><tr><td>Finland, Group E</td><td>Group E</td><td>3</td><td>1</td><td>1</td><td>1</td><td>8</td><td>9</td><td>-1</td><td>4</td><td>3</td><td>3-Group E</td></tr><tr><td>Ireland, Group E</td><td>Group E</td><td>3</td><td>0</td><td>1</td><td>2</td><td>7</td><td>8</td><td>-1</td><td>2</td><td>4</td><td>4-Group E</td></tr><tr><td>Italy, Group F</td><td>Group F</td><td>3</td><td>2</td><td>0</td><td>1</td><td>12</td><td>8</td><td>4</td><td>7</td><td>1</td><td>1-Group F</td></tr><tr><td>France, Group F</td><td>Group F</td><td>3</td><td>1</td><td>1</td><td>1</td><td>8</td><td>9</td><td>-1</td><td>4</td><td>2</td><td>2-Group F</td></tr><tr><td>Croatia, Group F</td><td>Group F</td><td>3</td><td>1</td><td>2</td><td>0</td><td>8</td><td>9</td><td>-1</td><td>3</td><td>3</td><td>3-Group F</td></tr><tr><td>Norway, Group F</td><td>Group F</td><td>3</td><td>1</td><td>2</td><td>0</td><td>6</td><td>8</td><td>-2</td><td>3</td><td>4</td><td>4-Group F</td></tr></tbody></table></div>"
      ]
     },
     "metadata": {
      "application/vnd.databricks.v1+output": {
       "addedWidgets": {},
       "aggData": [],
       "aggError": "",
       "aggOverflow": false,
       "aggSchema": [],
       "aggSeriesLimitReached": false,
       "aggType": "",
       "arguments": {},
       "columnCustomDisplayInfos": {},
       "data": [
        [
         "Germany, Group A",
         "Group A",
         3,
         3,
         0,
         0,
         14,
         4,
         10,
         9,
         1,
         "1-Group A"
        ],
        [
         "Latvia, Group A",
         "Group A",
         3,
         1,
         1,
         1,
         6,
         8,
         -2,
         4,
         2,
         "2-Group A"
        ],
        [
         "Albania, Group A",
         "Group A",
         3,
         1,
         2,
         0,
         8,
         10,
         -2,
         3,
         3,
         "3-Group A"
        ],
        [
         "Cyprus, Group A",
         "Group A",
         3,
         0,
         2,
         1,
         4,
         10,
         -6,
         1,
         4,
         "4-Group A"
        ],
        [
         "Greece, Group B",
         "Group B",
         3,
         1,
         0,
         2,
         10,
         5,
         5,
         5,
         1,
         "1-Group B"
        ],
        [
         "Czech Republic, Group B",
         "Group B",
         3,
         1,
         0,
         2,
         7,
         6,
         1,
         5,
         2,
         "2-Group B"
        ],
        [
         "Austria, Group B",
         "Group B",
         3,
         1,
         1,
         1,
         1,
         5,
         -4,
         4,
         3,
         "3-Group B"
        ],
        [
         "Lithuania, Group B",
         "Group B",
         3,
         0,
         2,
         1,
         5,
         7,
         -2,
         1,
         4,
         "4-Group B"
        ],
        [
         "Belgium, Group C",
         "Group C",
         3,
         3,
         0,
         0,
         10,
         5,
         5,
         9,
         1,
         "1-Group C"
        ],
        [
         "Denmark, Group C",
         "Group C",
         3,
         2,
         1,
         0,
         10,
         5,
         5,
         6,
         2,
         "2-Group C"
        ],
        [
         "Hungary, Group C",
         "Group C",
         3,
         1,
         2,
         0,
         7,
         7,
         0,
         3,
         3,
         "3-Group C"
        ],
        [
         "Luxembourg, Group C",
         "Group C",
         3,
         0,
         3,
         0,
         2,
         12,
         -10,
         0,
         4,
         "4-Group C"
        ],
        [
         "Estonia, Group D",
         "Group D",
         3,
         2,
         1,
         0,
         8,
         4,
         4,
         6,
         1,
         "1-Group D"
        ],
        [
         "Iceland, Group D",
         "Group D",
         3,
         1,
         0,
         2,
         6,
         4,
         2,
         5,
         2,
         "2-Group D"
        ],
        [
         "Malta, Group D",
         "Group D",
         3,
         0,
         1,
         2,
         7,
         9,
         -2,
         2,
         3,
         "3-Group D"
        ],
        [
         "Bosnia, Group D",
         "Group D",
         3,
         0,
         1,
         2,
         7,
         11,
         -4,
         2,
         4,
         "4-Group D"
        ],
        [
         "Bulgaria, Group E",
         "Group E",
         3,
         2,
         1,
         0,
         9,
         8,
         1,
         6,
         1,
         "1-Group E"
        ],
        [
         "Netherlands, Group E",
         "Group E",
         3,
         1,
         1,
         1,
         9,
         8,
         1,
         4,
         2,
         "2-Group E"
        ],
        [
         "Finland, Group E",
         "Group E",
         3,
         1,
         1,
         1,
         8,
         9,
         -1,
         4,
         3,
         "3-Group E"
        ],
        [
         "Ireland, Group E",
         "Group E",
         3,
         0,
         1,
         2,
         7,
         8,
         -1,
         2,
         4,
         "4-Group E"
        ],
        [
         "Italy, Group F",
         "Group F",
         3,
         2,
         0,
         1,
         12,
         8,
         4,
         7,
         1,
         "1-Group F"
        ],
        [
         "France, Group F",
         "Group F",
         3,
         1,
         1,
         1,
         8,
         9,
         -1,
         4,
         2,
         "2-Group F"
        ],
        [
         "Croatia, Group F",
         "Group F",
         3,
         1,
         2,
         0,
         8,
         9,
         -1,
         3,
         3,
         "3-Group F"
        ],
        [
         "Norway, Group F",
         "Group F",
         3,
         1,
         2,
         0,
         6,
         8,
         -2,
         3,
         4,
         "4-Group F"
        ]
       ],
       "datasetInfos": [],
       "dbfsResultPath": null,
       "isJsonSchema": true,
       "metadata": {},
       "overflow": false,
       "plotOptions": {
        "customPlotOptions": {},
        "displayType": "table",
        "pivotAggregation": null,
        "pivotColumns": null,
        "xColumns": null,
        "yColumns": null
       },
       "removedWidgets": [],
       "schema": [
        {
         "metadata": "{}",
         "name": "team_name",
         "type": "\"string\""
        },
        {
         "metadata": "{}",
         "name": "group_name",
         "type": "\"string\""
        },
        {
         "metadata": "{}",
         "name": "matches_played",
         "type": "\"long\""
        },
        {
         "metadata": "{}",
         "name": "match_won",
         "type": "\"long\""
        },
        {
         "metadata": "{}",
         "name": "match_loss",
         "type": "\"long\""
        },
        {
         "metadata": "{}",
         "name": "match_drawn",
         "type": "\"long\""
        },
        {
         "metadata": "{}",
         "name": "goal_scored",
         "type": "\"long\""
        },
        {
         "metadata": "{}",
         "name": "goal_conceded",
         "type": "\"long\""
        },
        {
         "metadata": "{}",
         "name": "goal_difference",
         "type": "\"long\""
        },
        {
         "metadata": "{}",
         "name": "points",
         "type": "\"long\""
        },
        {
         "metadata": "{}",
         "name": "rank",
         "type": "\"integer\""
        },
        {
         "metadata": "{}",
         "name": "position",
         "type": "\"string\""
        }
       ],
       "type": "table"
      }
     },
     "output_type": "display_data"
    }
   ],
   "source": [
    "from pyspark.sql.window import Window\n",
    "from pyspark.sql.functions import rank\n",
    "\n",
    "# Define a window specification for ranking\n",
    "window_spec = Window.partitionBy(\"group_name\").orderBy(\n",
    "    col(\"points\").desc(), col(\"goal_difference\").desc(),\n",
    "    col(\"goal_scored\").desc(), col(\"goal_conceded\").asc(), \"team_name\"\n",
    ")\n",
    "\n",
    "# Add rank column using rank function\n",
    "group_stage_summary_with_rank = group_stage_summary.withColumns(\n",
    "  {  \"rank\":rank().over(window_spec),\n",
    "    \"position\":concat(rank().over(window_spec).cast(\"string\"), lit(\"-\"), col(\"group_name\"))\n",
    "  }\n",
    ")\n",
    "\n",
    "display(group_stage_summary_with_rank)\n"
   ]
  },
  {
   "cell_type": "code",
   "execution_count": 0,
   "metadata": {
    "application/vnd.databricks.v1+cell": {
     "cellMetadata": {
      "byteLimit": 2048000,
      "rowLimit": 10000
     },
     "inputWidgets": {},
     "nuid": "20159de7-ab1e-444a-9555-ffb177667cb2",
     "showTitle": false,
     "title": ""
    }
   },
   "outputs": [
    {
     "output_type": "display_data",
     "data": {
      "text/html": [
       "<style scoped>\n",
       "  .table-result-container {\n",
       "    max-height: 300px;\n",
       "    overflow: auto;\n",
       "  }\n",
       "  table, th, td {\n",
       "    border: 1px solid black;\n",
       "    border-collapse: collapse;\n",
       "  }\n",
       "  th, td {\n",
       "    padding: 5px;\n",
       "  }\n",
       "  th {\n",
       "    text-align: left;\n",
       "  }\n",
       "</style><div class='table-result-container'><table class='table-result'><thead style='background-color: white'><tr><th>team_name</th><th>group_name</th><th>matches_played</th><th>match_won</th><th>match_loss</th><th>match_drawn</th><th>goal_scored</th><th>goal_conceded</th><th>goal_difference</th><th>points</th><th>rank</th><th>position</th></tr></thead><tbody><tr><td>Germany, Group A</td><td>Group A</td><td>3</td><td>3</td><td>0</td><td>0</td><td>14</td><td>4</td><td>10</td><td>9</td><td>1</td><td>1-Group A</td></tr><tr><td>Latvia, Group A</td><td>Group A</td><td>3</td><td>1</td><td>1</td><td>1</td><td>6</td><td>8</td><td>-2</td><td>4</td><td>2</td><td>2-Group A</td></tr><tr><td>Greece, Group B</td><td>Group B</td><td>3</td><td>1</td><td>0</td><td>2</td><td>10</td><td>5</td><td>5</td><td>5</td><td>1</td><td>1-Group B</td></tr><tr><td>Czech Republic, Group B</td><td>Group B</td><td>3</td><td>1</td><td>0</td><td>2</td><td>7</td><td>6</td><td>1</td><td>5</td><td>2</td><td>2-Group B</td></tr><tr><td>Belgium, Group C</td><td>Group C</td><td>3</td><td>3</td><td>0</td><td>0</td><td>10</td><td>5</td><td>5</td><td>9</td><td>1</td><td>1-Group C</td></tr><tr><td>Denmark, Group C</td><td>Group C</td><td>3</td><td>2</td><td>1</td><td>0</td><td>10</td><td>5</td><td>5</td><td>6</td><td>2</td><td>2-Group C</td></tr><tr><td>Estonia, Group D</td><td>Group D</td><td>3</td><td>2</td><td>1</td><td>0</td><td>8</td><td>4</td><td>4</td><td>6</td><td>1</td><td>1-Group D</td></tr><tr><td>Iceland, Group D</td><td>Group D</td><td>3</td><td>1</td><td>0</td><td>2</td><td>6</td><td>4</td><td>2</td><td>5</td><td>2</td><td>2-Group D</td></tr><tr><td>Bulgaria, Group E</td><td>Group E</td><td>3</td><td>2</td><td>1</td><td>0</td><td>9</td><td>8</td><td>1</td><td>6</td><td>1</td><td>1-Group E</td></tr><tr><td>Netherlands, Group E</td><td>Group E</td><td>3</td><td>1</td><td>1</td><td>1</td><td>9</td><td>8</td><td>1</td><td>4</td><td>2</td><td>2-Group E</td></tr><tr><td>Italy, Group F</td><td>Group F</td><td>3</td><td>2</td><td>0</td><td>1</td><td>12</td><td>8</td><td>4</td><td>7</td><td>1</td><td>1-Group F</td></tr><tr><td>France, Group F</td><td>Group F</td><td>3</td><td>1</td><td>1</td><td>1</td><td>8</td><td>9</td><td>-1</td><td>4</td><td>2</td><td>2-Group F</td></tr></tbody></table></div>"
      ]
     },
     "metadata": {
      "application/vnd.databricks.v1+output": {
       "addedWidgets": {},
       "aggData": [],
       "aggError": "",
       "aggOverflow": false,
       "aggSchema": [],
       "aggSeriesLimitReached": false,
       "aggType": "",
       "arguments": {},
       "columnCustomDisplayInfos": {},
       "data": [
        [
         "Germany, Group A",
         "Group A",
         3,
         3,
         0,
         0,
         14,
         4,
         10,
         9,
         1,
         "1-Group A"
        ],
        [
         "Latvia, Group A",
         "Group A",
         3,
         1,
         1,
         1,
         6,
         8,
         -2,
         4,
         2,
         "2-Group A"
        ],
        [
         "Greece, Group B",
         "Group B",
         3,
         1,
         0,
         2,
         10,
         5,
         5,
         5,
         1,
         "1-Group B"
        ],
        [
         "Czech Republic, Group B",
         "Group B",
         3,
         1,
         0,
         2,
         7,
         6,
         1,
         5,
         2,
         "2-Group B"
        ],
        [
         "Belgium, Group C",
         "Group C",
         3,
         3,
         0,
         0,
         10,
         5,
         5,
         9,
         1,
         "1-Group C"
        ],
        [
         "Denmark, Group C",
         "Group C",
         3,
         2,
         1,
         0,
         10,
         5,
         5,
         6,
         2,
         "2-Group C"
        ],
        [
         "Estonia, Group D",
         "Group D",
         3,
         2,
         1,
         0,
         8,
         4,
         4,
         6,
         1,
         "1-Group D"
        ],
        [
         "Iceland, Group D",
         "Group D",
         3,
         1,
         0,
         2,
         6,
         4,
         2,
         5,
         2,
         "2-Group D"
        ],
        [
         "Bulgaria, Group E",
         "Group E",
         3,
         2,
         1,
         0,
         9,
         8,
         1,
         6,
         1,
         "1-Group E"
        ],
        [
         "Netherlands, Group E",
         "Group E",
         3,
         1,
         1,
         1,
         9,
         8,
         1,
         4,
         2,
         "2-Group E"
        ],
        [
         "Italy, Group F",
         "Group F",
         3,
         2,
         0,
         1,
         12,
         8,
         4,
         7,
         1,
         "1-Group F"
        ],
        [
         "France, Group F",
         "Group F",
         3,
         1,
         1,
         1,
         8,
         9,
         -1,
         4,
         2,
         "2-Group F"
        ]
       ],
       "datasetInfos": [],
       "dbfsResultPath": null,
       "isJsonSchema": true,
       "metadata": {},
       "overflow": false,
       "plotOptions": {
        "customPlotOptions": {},
        "displayType": "table",
        "pivotAggregation": null,
        "pivotColumns": null,
        "xColumns": null,
        "yColumns": null
       },
       "removedWidgets": [],
       "schema": [
        {
         "metadata": "{}",
         "name": "team_name",
         "type": "\"string\""
        },
        {
         "metadata": "{}",
         "name": "group_name",
         "type": "\"string\""
        },
        {
         "metadata": "{}",
         "name": "matches_played",
         "type": "\"long\""
        },
        {
         "metadata": "{}",
         "name": "match_won",
         "type": "\"long\""
        },
        {
         "metadata": "{}",
         "name": "match_loss",
         "type": "\"long\""
        },
        {
         "metadata": "{}",
         "name": "match_drawn",
         "type": "\"long\""
        },
        {
         "metadata": "{}",
         "name": "goal_scored",
         "type": "\"long\""
        },
        {
         "metadata": "{}",
         "name": "goal_conceded",
         "type": "\"long\""
        },
        {
         "metadata": "{}",
         "name": "goal_difference",
         "type": "\"long\""
        },
        {
         "metadata": "{}",
         "name": "points",
         "type": "\"long\""
        },
        {
         "metadata": "{}",
         "name": "rank",
         "type": "\"integer\""
        },
        {
         "metadata": "{}",
         "name": "position",
         "type": "\"string\""
        }
       ],
       "type": "table"
      }
     },
     "output_type": "display_data"
    }
   ],
   "source": [
    "filtered_summary = group_stage_summary_with_rank.filter((col(\"rank\") == 1) | (col(\"rank\") == 2))\n",
    "\n",
    "display(filtered_summary)\n"
   ]
  },
  {
   "cell_type": "code",
   "execution_count": 0,
   "metadata": {
    "application/vnd.databricks.v1+cell": {
     "cellMetadata": {
      "byteLimit": 2048000,
      "rowLimit": 10000
     },
     "inputWidgets": {},
     "nuid": "c607cf4c-8a49-42e5-a4d8-297895f84090",
     "showTitle": false,
     "title": ""
    }
   },
   "outputs": [
    {
     "output_type": "display_data",
     "data": {
      "text/html": [
       "<style scoped>\n",
       "  .table-result-container {\n",
       "    max-height: 300px;\n",
       "    overflow: auto;\n",
       "  }\n",
       "  table, th, td {\n",
       "    border: 1px solid black;\n",
       "    border-collapse: collapse;\n",
       "  }\n",
       "  th, td {\n",
       "    padding: 5px;\n",
       "  }\n",
       "  th {\n",
       "    text-align: left;\n",
       "  }\n",
       "</style><div class='table-result-container'><table class='table-result'><thead style='background-color: white'><tr><th>team_name</th><th>group_name</th><th>matches_played</th><th>match_won</th><th>match_loss</th><th>match_drawn</th><th>goal_scored</th><th>goal_conceded</th><th>goal_difference</th><th>points</th><th>rank</th><th>position</th></tr></thead><tbody><tr><td>Finland, Group E</td><td>Group E</td><td>3</td><td>1</td><td>1</td><td>1</td><td>8</td><td>9</td><td>-1</td><td>4</td><td>3</td><td>3-Group E</td></tr><tr><td>Austria, Group B</td><td>Group B</td><td>3</td><td>1</td><td>1</td><td>1</td><td>1</td><td>5</td><td>-4</td><td>4</td><td>3</td><td>3-Group B</td></tr><tr><td>Hungary, Group C</td><td>Group C</td><td>3</td><td>1</td><td>2</td><td>0</td><td>7</td><td>7</td><td>0</td><td>3</td><td>3</td><td>3-Group C</td></tr><tr><td>Croatia, Group F</td><td>Group F</td><td>3</td><td>1</td><td>2</td><td>0</td><td>8</td><td>9</td><td>-1</td><td>3</td><td>3</td><td>3-Group F</td></tr></tbody></table></div>"
      ]
     },
     "metadata": {
      "application/vnd.databricks.v1+output": {
       "addedWidgets": {},
       "aggData": [],
       "aggError": "",
       "aggOverflow": false,
       "aggSchema": [],
       "aggSeriesLimitReached": false,
       "aggType": "",
       "arguments": {},
       "columnCustomDisplayInfos": {},
       "data": [
        [
         "Finland, Group E",
         "Group E",
         3,
         1,
         1,
         1,
         8,
         9,
         -1,
         4,
         3,
         "3-Group E"
        ],
        [
         "Austria, Group B",
         "Group B",
         3,
         1,
         1,
         1,
         1,
         5,
         -4,
         4,
         3,
         "3-Group B"
        ],
        [
         "Hungary, Group C",
         "Group C",
         3,
         1,
         2,
         0,
         7,
         7,
         0,
         3,
         3,
         "3-Group C"
        ],
        [
         "Croatia, Group F",
         "Group F",
         3,
         1,
         2,
         0,
         8,
         9,
         -1,
         3,
         3,
         "3-Group F"
        ]
       ],
       "datasetInfos": [],
       "dbfsResultPath": null,
       "isJsonSchema": true,
       "metadata": {},
       "overflow": false,
       "plotOptions": {
        "customPlotOptions": {},
        "displayType": "table",
        "pivotAggregation": null,
        "pivotColumns": null,
        "xColumns": null,
        "yColumns": null
       },
       "removedWidgets": [],
       "schema": [
        {
         "metadata": "{}",
         "name": "team_name",
         "type": "\"string\""
        },
        {
         "metadata": "{}",
         "name": "group_name",
         "type": "\"string\""
        },
        {
         "metadata": "{}",
         "name": "matches_played",
         "type": "\"long\""
        },
        {
         "metadata": "{}",
         "name": "match_won",
         "type": "\"long\""
        },
        {
         "metadata": "{}",
         "name": "match_loss",
         "type": "\"long\""
        },
        {
         "metadata": "{}",
         "name": "match_drawn",
         "type": "\"long\""
        },
        {
         "metadata": "{}",
         "name": "goal_scored",
         "type": "\"long\""
        },
        {
         "metadata": "{}",
         "name": "goal_conceded",
         "type": "\"long\""
        },
        {
         "metadata": "{}",
         "name": "goal_difference",
         "type": "\"long\""
        },
        {
         "metadata": "{}",
         "name": "points",
         "type": "\"long\""
        },
        {
         "metadata": "{}",
         "name": "rank",
         "type": "\"integer\""
        },
        {
         "metadata": "{}",
         "name": "position",
         "type": "\"string\""
        }
       ],
       "type": "table"
      }
     },
     "output_type": "display_data"
    }
   ],
   "source": [
    "filtered_summary_3rd_all_team = group_stage_summary_with_rank.filter((col(\"rank\") == 3)).orderBy(\n",
    "   col(\"points\").desc(), col(\"goal_difference\").desc(), col(\"goal_scored\").desc(), col(\"goal_conceded\").asc(), \"team_name\")\n",
    "\n",
    "top_4_3rd_place = filtered_summary_3rd_all_team.limit(4)\n",
    "display(top_4_3rd_place)\n"
   ]
  },
  {
   "cell_type": "code",
   "execution_count": 0,
   "metadata": {
    "application/vnd.databricks.v1+cell": {
     "cellMetadata": {
      "byteLimit": 2048000,
      "rowLimit": 10000
     },
     "inputWidgets": {},
     "nuid": "da58fb77-2ce0-4e50-829d-f446fc6229b5",
     "showTitle": false,
     "title": ""
    }
   },
   "outputs": [
    {
     "output_type": "display_data",
     "data": {
      "text/html": [
       "<style scoped>\n",
       "  .table-result-container {\n",
       "    max-height: 300px;\n",
       "    overflow: auto;\n",
       "  }\n",
       "  table, th, td {\n",
       "    border: 1px solid black;\n",
       "    border-collapse: collapse;\n",
       "  }\n",
       "  th, td {\n",
       "    padding: 5px;\n",
       "  }\n",
       "  th {\n",
       "    text-align: left;\n",
       "  }\n",
       "</style><div class='table-result-container'><table class='table-result'><thead style='background-color: white'><tr><th>team_name</th><th>group_name</th><th>matches_played</th><th>match_won</th><th>match_loss</th><th>match_drawn</th><th>goal_scored</th><th>goal_conceded</th><th>goal_difference</th><th>points</th><th>rank</th><th>position</th></tr></thead><tbody><tr><td>Germany, Group A</td><td>Group A</td><td>3</td><td>3</td><td>0</td><td>0</td><td>14</td><td>4</td><td>10</td><td>9</td><td>1</td><td>1-Group A</td></tr><tr><td>Latvia, Group A</td><td>Group A</td><td>3</td><td>1</td><td>1</td><td>1</td><td>6</td><td>8</td><td>-2</td><td>4</td><td>2</td><td>2-Group A</td></tr><tr><td>Greece, Group B</td><td>Group B</td><td>3</td><td>1</td><td>0</td><td>2</td><td>10</td><td>5</td><td>5</td><td>5</td><td>1</td><td>1-Group B</td></tr><tr><td>Czech Republic, Group B</td><td>Group B</td><td>3</td><td>1</td><td>0</td><td>2</td><td>7</td><td>6</td><td>1</td><td>5</td><td>2</td><td>2-Group B</td></tr><tr><td>Belgium, Group C</td><td>Group C</td><td>3</td><td>3</td><td>0</td><td>0</td><td>10</td><td>5</td><td>5</td><td>9</td><td>1</td><td>1-Group C</td></tr><tr><td>Denmark, Group C</td><td>Group C</td><td>3</td><td>2</td><td>1</td><td>0</td><td>10</td><td>5</td><td>5</td><td>6</td><td>2</td><td>2-Group C</td></tr><tr><td>Estonia, Group D</td><td>Group D</td><td>3</td><td>2</td><td>1</td><td>0</td><td>8</td><td>4</td><td>4</td><td>6</td><td>1</td><td>1-Group D</td></tr><tr><td>Iceland, Group D</td><td>Group D</td><td>3</td><td>1</td><td>0</td><td>2</td><td>6</td><td>4</td><td>2</td><td>5</td><td>2</td><td>2-Group D</td></tr><tr><td>Bulgaria, Group E</td><td>Group E</td><td>3</td><td>2</td><td>1</td><td>0</td><td>9</td><td>8</td><td>1</td><td>6</td><td>1</td><td>1-Group E</td></tr><tr><td>Netherlands, Group E</td><td>Group E</td><td>3</td><td>1</td><td>1</td><td>1</td><td>9</td><td>8</td><td>1</td><td>4</td><td>2</td><td>2-Group E</td></tr><tr><td>Italy, Group F</td><td>Group F</td><td>3</td><td>2</td><td>0</td><td>1</td><td>12</td><td>8</td><td>4</td><td>7</td><td>1</td><td>1-Group F</td></tr><tr><td>France, Group F</td><td>Group F</td><td>3</td><td>1</td><td>1</td><td>1</td><td>8</td><td>9</td><td>-1</td><td>4</td><td>2</td><td>2-Group F</td></tr><tr><td>Finland, Group E</td><td>Group E</td><td>3</td><td>1</td><td>1</td><td>1</td><td>8</td><td>9</td><td>-1</td><td>4</td><td>3</td><td>3-Group E</td></tr><tr><td>Austria, Group B</td><td>Group B</td><td>3</td><td>1</td><td>1</td><td>1</td><td>1</td><td>5</td><td>-4</td><td>4</td><td>3</td><td>3-Group B</td></tr><tr><td>Hungary, Group C</td><td>Group C</td><td>3</td><td>1</td><td>2</td><td>0</td><td>7</td><td>7</td><td>0</td><td>3</td><td>3</td><td>3-Group C</td></tr><tr><td>Croatia, Group F</td><td>Group F</td><td>3</td><td>1</td><td>2</td><td>0</td><td>8</td><td>9</td><td>-1</td><td>3</td><td>3</td><td>3-Group F</td></tr></tbody></table></div>"
      ]
     },
     "metadata": {
      "application/vnd.databricks.v1+output": {
       "addedWidgets": {},
       "aggData": [],
       "aggError": "",
       "aggOverflow": false,
       "aggSchema": [],
       "aggSeriesLimitReached": false,
       "aggType": "",
       "arguments": {},
       "columnCustomDisplayInfos": {},
       "data": [
        [
         "Germany, Group A",
         "Group A",
         3,
         3,
         0,
         0,
         14,
         4,
         10,
         9,
         1,
         "1-Group A"
        ],
        [
         "Latvia, Group A",
         "Group A",
         3,
         1,
         1,
         1,
         6,
         8,
         -2,
         4,
         2,
         "2-Group A"
        ],
        [
         "Greece, Group B",
         "Group B",
         3,
         1,
         0,
         2,
         10,
         5,
         5,
         5,
         1,
         "1-Group B"
        ],
        [
         "Czech Republic, Group B",
         "Group B",
         3,
         1,
         0,
         2,
         7,
         6,
         1,
         5,
         2,
         "2-Group B"
        ],
        [
         "Belgium, Group C",
         "Group C",
         3,
         3,
         0,
         0,
         10,
         5,
         5,
         9,
         1,
         "1-Group C"
        ],
        [
         "Denmark, Group C",
         "Group C",
         3,
         2,
         1,
         0,
         10,
         5,
         5,
         6,
         2,
         "2-Group C"
        ],
        [
         "Estonia, Group D",
         "Group D",
         3,
         2,
         1,
         0,
         8,
         4,
         4,
         6,
         1,
         "1-Group D"
        ],
        [
         "Iceland, Group D",
         "Group D",
         3,
         1,
         0,
         2,
         6,
         4,
         2,
         5,
         2,
         "2-Group D"
        ],
        [
         "Bulgaria, Group E",
         "Group E",
         3,
         2,
         1,
         0,
         9,
         8,
         1,
         6,
         1,
         "1-Group E"
        ],
        [
         "Netherlands, Group E",
         "Group E",
         3,
         1,
         1,
         1,
         9,
         8,
         1,
         4,
         2,
         "2-Group E"
        ],
        [
         "Italy, Group F",
         "Group F",
         3,
         2,
         0,
         1,
         12,
         8,
         4,
         7,
         1,
         "1-Group F"
        ],
        [
         "France, Group F",
         "Group F",
         3,
         1,
         1,
         1,
         8,
         9,
         -1,
         4,
         2,
         "2-Group F"
        ],
        [
         "Finland, Group E",
         "Group E",
         3,
         1,
         1,
         1,
         8,
         9,
         -1,
         4,
         3,
         "3-Group E"
        ],
        [
         "Austria, Group B",
         "Group B",
         3,
         1,
         1,
         1,
         1,
         5,
         -4,
         4,
         3,
         "3-Group B"
        ],
        [
         "Hungary, Group C",
         "Group C",
         3,
         1,
         2,
         0,
         7,
         7,
         0,
         3,
         3,
         "3-Group C"
        ],
        [
         "Croatia, Group F",
         "Group F",
         3,
         1,
         2,
         0,
         8,
         9,
         -1,
         3,
         3,
         "3-Group F"
        ]
       ],
       "datasetInfos": [],
       "dbfsResultPath": null,
       "isJsonSchema": true,
       "metadata": {},
       "overflow": false,
       "plotOptions": {
        "customPlotOptions": {},
        "displayType": "table",
        "pivotAggregation": null,
        "pivotColumns": null,
        "xColumns": null,
        "yColumns": null
       },
       "removedWidgets": [],
       "schema": [
        {
         "metadata": "{}",
         "name": "team_name",
         "type": "\"string\""
        },
        {
         "metadata": "{}",
         "name": "group_name",
         "type": "\"string\""
        },
        {
         "metadata": "{}",
         "name": "matches_played",
         "type": "\"long\""
        },
        {
         "metadata": "{}",
         "name": "match_won",
         "type": "\"long\""
        },
        {
         "metadata": "{}",
         "name": "match_loss",
         "type": "\"long\""
        },
        {
         "metadata": "{}",
         "name": "match_drawn",
         "type": "\"long\""
        },
        {
         "metadata": "{}",
         "name": "goal_scored",
         "type": "\"long\""
        },
        {
         "metadata": "{}",
         "name": "goal_conceded",
         "type": "\"long\""
        },
        {
         "metadata": "{}",
         "name": "goal_difference",
         "type": "\"long\""
        },
        {
         "metadata": "{}",
         "name": "points",
         "type": "\"long\""
        },
        {
         "metadata": "{}",
         "name": "rank",
         "type": "\"integer\""
        },
        {
         "metadata": "{}",
         "name": "position",
         "type": "\"string\""
        }
       ],
       "type": "table"
      }
     },
     "output_type": "display_data"
    }
   ],
   "source": [
    "df_goup_stage_teams = filtered_summary.union(top_4_3rd_place)\n",
    "display(df_goup_stage_teams)"
   ]
  },
  {
   "cell_type": "code",
   "execution_count": 0,
   "metadata": {
    "application/vnd.databricks.v1+cell": {
     "cellMetadata": {
      "byteLimit": 2048000,
      "rowLimit": 10000
     },
     "inputWidgets": {},
     "nuid": "c69256e4-01b4-48f0-bdbd-7b5223d68879",
     "showTitle": false,
     "title": ""
    }
   },
   "outputs": [
    {
     "output_type": "stream",
     "name": "stdout",
     "output_type": "stream",
     "text": [
      "+--------------------+---------+\n|           team_name| position|\n+--------------------+---------+\n|    Germany, Group A|1-Group A|\n|     Latvia, Group A|2-Group A|\n|     Greece, Group B|1-Group B|\n|Czech Republic, G...|2-Group B|\n|    Belgium, Group C|1-Group C|\n|    Denmark, Group C|2-Group C|\n|    Estonia, Group D|1-Group D|\n|    Iceland, Group D|2-Group D|\n|   Bulgaria, Group E|1-Group E|\n|Netherlands, Group E|2-Group E|\n|      Italy, Group F|1-Group F|\n|     France, Group F|2-Group F|\n|    Finland, Group E|3-Group E|\n|    Austria, Group B|3-Group B|\n|    Hungary, Group C|3-Group C|\n|    Croatia, Group F|3-Group F|\n+--------------------+---------+\n\n"
     ]
    }
   ],
   "source": [
    "df_goup_stage_teams.select(\"team_name\", \"position\").show()"
   ]
  },
  {
   "cell_type": "code",
   "execution_count": 0,
   "metadata": {
    "application/vnd.databricks.v1+cell": {
     "cellMetadata": {
      "byteLimit": 2048000,
      "rowLimit": 10000
     },
     "inputWidgets": {},
     "nuid": "58a3f92e-00c7-4a69-8361-77b1bf214547",
     "showTitle": false,
     "title": ""
    }
   },
   "outputs": [
    {
     "output_type": "stream",
     "name": "stdout",
     "output_type": "stream",
     "text": [
      "+--------------------+\n|           team_name|\n+--------------------+\n|    Germany, Group A|\n|     Latvia, Group A|\n|     Greece, Group B|\n|Czech Republic, G...|\n|    Belgium, Group C|\n|    Denmark, Group C|\n|    Estonia, Group D|\n|    Iceland, Group D|\n|   Bulgaria, Group E|\n|Netherlands, Group E|\n|      Italy, Group F|\n|     France, Group F|\n|    Finland, Group E|\n|    Austria, Group B|\n|    Hungary, Group C|\n|    Croatia, Group F|\n+--------------------+\n\n"
     ]
    }
   ],
   "source": [
    "df_goup_stage_teams.select(\"team_name\",).show()"
   ]
  },
  {
   "cell_type": "code",
   "execution_count": 0,
   "metadata": {
    "application/vnd.databricks.v1+cell": {
     "cellMetadata": {
      "byteLimit": 2048000,
      "rowLimit": 10000
     },
     "inputWidgets": {},
     "nuid": "7059e751-04f8-4317-88fa-50c0beba0b28",
     "showTitle": false,
     "title": ""
    }
   },
   "outputs": [
    {
     "output_type": "display_data",
     "data": {
      "text/html": [
       "<style scoped>\n",
       "  .table-result-container {\n",
       "    max-height: 300px;\n",
       "    overflow: auto;\n",
       "  }\n",
       "  table, th, td {\n",
       "    border: 1px solid black;\n",
       "    border-collapse: collapse;\n",
       "  }\n",
       "  th, td {\n",
       "    padding: 5px;\n",
       "  }\n",
       "  th {\n",
       "    text-align: left;\n",
       "  }\n",
       "</style><div class='table-result-container'><table class='table-result'><thead style='background-color: white'><tr><th>combination_id</th><th>combination</th><th>team1</th><th>team2</th></tr></thead><tbody><tr><td>C-1</td><td>List(Group A, Group B, Group C, Group D)</td><td>1-Group B</td><td>3-Group A</td></tr><tr><td>C-1</td><td>List(Group A, Group B, Group C, Group D)</td><td>1-Group C</td><td>3-Group D</td></tr><tr><td>C-1</td><td>List(Group A, Group B, Group C, Group D)</td><td>1-Group E</td><td>3-Group B</td></tr><tr><td>C-1</td><td>List(Group A, Group B, Group C, Group D)</td><td>1-Group F</td><td>3-Group C</td></tr><tr><td>C-2</td><td>List(Group A, Group B, Group C, Group E)</td><td>1-Group B</td><td>3-Group A</td></tr><tr><td>C-2</td><td>List(Group A, Group B, Group C, Group E)</td><td>1-Group C</td><td>3-Group E</td></tr><tr><td>C-2</td><td>List(Group A, Group B, Group C, Group E)</td><td>1-Group E</td><td>3-Group B</td></tr><tr><td>C-2</td><td>List(Group A, Group B, Group C, Group E)</td><td>1-Group F</td><td>3-Group C</td></tr><tr><td>C-3</td><td>List(Group A, Group B, Group C, Group F)</td><td>1-Group B</td><td>3-Group A</td></tr><tr><td>C-3</td><td>List(Group A, Group B, Group C, Group F)</td><td>1-Group C</td><td>3-Group F</td></tr><tr><td>C-3</td><td>List(Group A, Group B, Group C, Group F)</td><td>1-Group E</td><td>3-Group B</td></tr><tr><td>C-3</td><td>List(Group A, Group B, Group C, Group F)</td><td>1-Group F</td><td>3-Group C</td></tr><tr><td>C-4</td><td>List(Group A, Group B, Group D, Group E)</td><td>1-Group B</td><td>3-Group D</td></tr><tr><td>C-4</td><td>List(Group A, Group B, Group D, Group E)</td><td>1-Group C</td><td>3-Group E</td></tr><tr><td>C-4</td><td>List(Group A, Group B, Group D, Group E)</td><td>1-Group E</td><td>3-Group A</td></tr><tr><td>C-4</td><td>List(Group A, Group B, Group D, Group E)</td><td>1-Group F</td><td>3-Group B</td></tr><tr><td>C-5</td><td>List(Group A, Group B, Group D, Group F)</td><td>1-Group B</td><td>3-Group D</td></tr><tr><td>C-5</td><td>List(Group A, Group B, Group D, Group F)</td><td>1-Group C</td><td>3-Group F</td></tr><tr><td>C-5</td><td>List(Group A, Group B, Group D, Group F)</td><td>1-Group E</td><td>3-Group A</td></tr><tr><td>C-5</td><td>List(Group A, Group B, Group D, Group F)</td><td>1-Group F</td><td>3-Group B</td></tr><tr><td>C-6</td><td>List(Group A, Group B, Group E, Group F)</td><td>1-Group B</td><td>3-Group E</td></tr><tr><td>C-6</td><td>List(Group A, Group B, Group E, Group F)</td><td>1-Group C</td><td>3-Group F</td></tr><tr><td>C-6</td><td>List(Group A, Group B, Group E, Group F)</td><td>1-Group E</td><td>3-Group B</td></tr><tr><td>C-6</td><td>List(Group A, Group B, Group E, Group F)</td><td>1-Group F</td><td>3-Group A</td></tr><tr><td>C-7</td><td>List(Group A, Group C, Group D, Group E)</td><td>1-Group B</td><td>3-Group E</td></tr><tr><td>C-7</td><td>List(Group A, Group C, Group D, Group E)</td><td>1-Group C</td><td>3-Group D</td></tr><tr><td>C-7</td><td>List(Group A, Group C, Group D, Group E)</td><td>1-Group E</td><td>3-Group C</td></tr><tr><td>C-7</td><td>List(Group A, Group C, Group D, Group E)</td><td>1-Group F</td><td>3-Group A</td></tr><tr><td>C-8</td><td>List(Group A, Group C, Group D, Group F)</td><td>1-Group B</td><td>3-Group F</td></tr><tr><td>C-8</td><td>List(Group A, Group C, Group D, Group F)</td><td>1-Group C</td><td>3-Group D</td></tr><tr><td>C-8</td><td>List(Group A, Group C, Group D, Group F)</td><td>1-Group E</td><td>3-Group C</td></tr><tr><td>C-8</td><td>List(Group A, Group C, Group D, Group F)</td><td>1-Group F</td><td>3-Group A</td></tr><tr><td>C-9</td><td>List(Group A, Group C, Group E, Group F)</td><td>1-Group B</td><td>3-Group E</td></tr><tr><td>C-9</td><td>List(Group A, Group C, Group E, Group F)</td><td>1-Group C</td><td>3-Group F</td></tr><tr><td>C-9</td><td>List(Group A, Group C, Group E, Group F)</td><td>1-Group E</td><td>3-Group C</td></tr><tr><td>C-9</td><td>List(Group A, Group C, Group E, Group F)</td><td>1-Group F</td><td>3-Group A</td></tr><tr><td>C-10</td><td>List(Group A, Group D, Group E, Group F)</td><td>1-Group B</td><td>3-Group E</td></tr><tr><td>C-10</td><td>List(Group A, Group D, Group E, Group F)</td><td>1-Group C</td><td>3-Group F</td></tr><tr><td>C-10</td><td>List(Group A, Group D, Group E, Group F)</td><td>1-Group E</td><td>3-Group D</td></tr><tr><td>C-10</td><td>List(Group A, Group D, Group E, Group F)</td><td>1-Group F</td><td>3-Group A</td></tr><tr><td>C-11</td><td>List(Group B, Group C, Group D, Group E)</td><td>1-Group B</td><td>3-Group E</td></tr><tr><td>C-11</td><td>List(Group B, Group C, Group D, Group E)</td><td>1-Group C</td><td>3-Group D</td></tr><tr><td>C-11</td><td>List(Group B, Group C, Group D, Group E)</td><td>1-Group E</td><td>3-Group B</td></tr><tr><td>C-11</td><td>List(Group B, Group C, Group D, Group E)</td><td>1-Group F</td><td>3-Group C</td></tr><tr><td>C-12</td><td>List(Group B, Group C, Group D, Group F)</td><td>1-Group B</td><td>3-Group F</td></tr><tr><td>C-12</td><td>List(Group B, Group C, Group D, Group F)</td><td>1-Group C</td><td>3-Group D</td></tr><tr><td>C-12</td><td>List(Group B, Group C, Group D, Group F)</td><td>1-Group E</td><td>3-Group C</td></tr><tr><td>C-12</td><td>List(Group B, Group C, Group D, Group F)</td><td>1-Group F</td><td>3-Group B</td></tr><tr><td>C-13</td><td>List(Group B, Group C, Group E, Group F)</td><td>1-Group B</td><td>3-Group F</td></tr><tr><td>C-13</td><td>List(Group B, Group C, Group E, Group F)</td><td>1-Group C</td><td>3-Group E</td></tr><tr><td>C-13</td><td>List(Group B, Group C, Group E, Group F)</td><td>1-Group E</td><td>3-Group C</td></tr><tr><td>C-13</td><td>List(Group B, Group C, Group E, Group F)</td><td>1-Group F</td><td>3-Group B</td></tr><tr><td>C-14</td><td>List(Group B, Group D, Group E, Group F)</td><td>1-Group B</td><td>3-Group F</td></tr><tr><td>C-14</td><td>List(Group B, Group D, Group E, Group F)</td><td>1-Group C</td><td>3-Group E</td></tr><tr><td>C-14</td><td>List(Group B, Group D, Group E, Group F)</td><td>1-Group E</td><td>3-Group D</td></tr><tr><td>C-14</td><td>List(Group B, Group D, Group E, Group F)</td><td>1-Group F</td><td>3-Group B</td></tr><tr><td>C-15</td><td>List(Group C, Group D, Group E, Group F)</td><td>1-Group B</td><td>3-Group F</td></tr><tr><td>C-15</td><td>List(Group C, Group D, Group E, Group F)</td><td>1-Group C</td><td>3-Group E</td></tr><tr><td>C-15</td><td>List(Group C, Group D, Group E, Group F)</td><td>1-Group E</td><td>3-Group D</td></tr><tr><td>C-15</td><td>List(Group C, Group D, Group E, Group F)</td><td>1-Group F</td><td>3-Group C</td></tr></tbody></table></div>"
      ]
     },
     "metadata": {
      "application/vnd.databricks.v1+output": {
       "addedWidgets": {},
       "aggData": [],
       "aggError": "",
       "aggOverflow": false,
       "aggSchema": [],
       "aggSeriesLimitReached": false,
       "aggType": "",
       "arguments": {},
       "columnCustomDisplayInfos": {},
       "data": [
        [
         "C-1",
         [
          "Group A",
          "Group B",
          "Group C",
          "Group D"
         ],
         "1-Group B",
         "3-Group A"
        ],
        [
         "C-1",
         [
          "Group A",
          "Group B",
          "Group C",
          "Group D"
         ],
         "1-Group C",
         "3-Group D"
        ],
        [
         "C-1",
         [
          "Group A",
          "Group B",
          "Group C",
          "Group D"
         ],
         "1-Group E",
         "3-Group B"
        ],
        [
         "C-1",
         [
          "Group A",
          "Group B",
          "Group C",
          "Group D"
         ],
         "1-Group F",
         "3-Group C"
        ],
        [
         "C-2",
         [
          "Group A",
          "Group B",
          "Group C",
          "Group E"
         ],
         "1-Group B",
         "3-Group A"
        ],
        [
         "C-2",
         [
          "Group A",
          "Group B",
          "Group C",
          "Group E"
         ],
         "1-Group C",
         "3-Group E"
        ],
        [
         "C-2",
         [
          "Group A",
          "Group B",
          "Group C",
          "Group E"
         ],
         "1-Group E",
         "3-Group B"
        ],
        [
         "C-2",
         [
          "Group A",
          "Group B",
          "Group C",
          "Group E"
         ],
         "1-Group F",
         "3-Group C"
        ],
        [
         "C-3",
         [
          "Group A",
          "Group B",
          "Group C",
          "Group F"
         ],
         "1-Group B",
         "3-Group A"
        ],
        [
         "C-3",
         [
          "Group A",
          "Group B",
          "Group C",
          "Group F"
         ],
         "1-Group C",
         "3-Group F"
        ],
        [
         "C-3",
         [
          "Group A",
          "Group B",
          "Group C",
          "Group F"
         ],
         "1-Group E",
         "3-Group B"
        ],
        [
         "C-3",
         [
          "Group A",
          "Group B",
          "Group C",
          "Group F"
         ],
         "1-Group F",
         "3-Group C"
        ],
        [
         "C-4",
         [
          "Group A",
          "Group B",
          "Group D",
          "Group E"
         ],
         "1-Group B",
         "3-Group D"
        ],
        [
         "C-4",
         [
          "Group A",
          "Group B",
          "Group D",
          "Group E"
         ],
         "1-Group C",
         "3-Group E"
        ],
        [
         "C-4",
         [
          "Group A",
          "Group B",
          "Group D",
          "Group E"
         ],
         "1-Group E",
         "3-Group A"
        ],
        [
         "C-4",
         [
          "Group A",
          "Group B",
          "Group D",
          "Group E"
         ],
         "1-Group F",
         "3-Group B"
        ],
        [
         "C-5",
         [
          "Group A",
          "Group B",
          "Group D",
          "Group F"
         ],
         "1-Group B",
         "3-Group D"
        ],
        [
         "C-5",
         [
          "Group A",
          "Group B",
          "Group D",
          "Group F"
         ],
         "1-Group C",
         "3-Group F"
        ],
        [
         "C-5",
         [
          "Group A",
          "Group B",
          "Group D",
          "Group F"
         ],
         "1-Group E",
         "3-Group A"
        ],
        [
         "C-5",
         [
          "Group A",
          "Group B",
          "Group D",
          "Group F"
         ],
         "1-Group F",
         "3-Group B"
        ],
        [
         "C-6",
         [
          "Group A",
          "Group B",
          "Group E",
          "Group F"
         ],
         "1-Group B",
         "3-Group E"
        ],
        [
         "C-6",
         [
          "Group A",
          "Group B",
          "Group E",
          "Group F"
         ],
         "1-Group C",
         "3-Group F"
        ],
        [
         "C-6",
         [
          "Group A",
          "Group B",
          "Group E",
          "Group F"
         ],
         "1-Group E",
         "3-Group B"
        ],
        [
         "C-6",
         [
          "Group A",
          "Group B",
          "Group E",
          "Group F"
         ],
         "1-Group F",
         "3-Group A"
        ],
        [
         "C-7",
         [
          "Group A",
          "Group C",
          "Group D",
          "Group E"
         ],
         "1-Group B",
         "3-Group E"
        ],
        [
         "C-7",
         [
          "Group A",
          "Group C",
          "Group D",
          "Group E"
         ],
         "1-Group C",
         "3-Group D"
        ],
        [
         "C-7",
         [
          "Group A",
          "Group C",
          "Group D",
          "Group E"
         ],
         "1-Group E",
         "3-Group C"
        ],
        [
         "C-7",
         [
          "Group A",
          "Group C",
          "Group D",
          "Group E"
         ],
         "1-Group F",
         "3-Group A"
        ],
        [
         "C-8",
         [
          "Group A",
          "Group C",
          "Group D",
          "Group F"
         ],
         "1-Group B",
         "3-Group F"
        ],
        [
         "C-8",
         [
          "Group A",
          "Group C",
          "Group D",
          "Group F"
         ],
         "1-Group C",
         "3-Group D"
        ],
        [
         "C-8",
         [
          "Group A",
          "Group C",
          "Group D",
          "Group F"
         ],
         "1-Group E",
         "3-Group C"
        ],
        [
         "C-8",
         [
          "Group A",
          "Group C",
          "Group D",
          "Group F"
         ],
         "1-Group F",
         "3-Group A"
        ],
        [
         "C-9",
         [
          "Group A",
          "Group C",
          "Group E",
          "Group F"
         ],
         "1-Group B",
         "3-Group E"
        ],
        [
         "C-9",
         [
          "Group A",
          "Group C",
          "Group E",
          "Group F"
         ],
         "1-Group C",
         "3-Group F"
        ],
        [
         "C-9",
         [
          "Group A",
          "Group C",
          "Group E",
          "Group F"
         ],
         "1-Group E",
         "3-Group C"
        ],
        [
         "C-9",
         [
          "Group A",
          "Group C",
          "Group E",
          "Group F"
         ],
         "1-Group F",
         "3-Group A"
        ],
        [
         "C-10",
         [
          "Group A",
          "Group D",
          "Group E",
          "Group F"
         ],
         "1-Group B",
         "3-Group E"
        ],
        [
         "C-10",
         [
          "Group A",
          "Group D",
          "Group E",
          "Group F"
         ],
         "1-Group C",
         "3-Group F"
        ],
        [
         "C-10",
         [
          "Group A",
          "Group D",
          "Group E",
          "Group F"
         ],
         "1-Group E",
         "3-Group D"
        ],
        [
         "C-10",
         [
          "Group A",
          "Group D",
          "Group E",
          "Group F"
         ],
         "1-Group F",
         "3-Group A"
        ],
        [
         "C-11",
         [
          "Group B",
          "Group C",
          "Group D",
          "Group E"
         ],
         "1-Group B",
         "3-Group E"
        ],
        [
         "C-11",
         [
          "Group B",
          "Group C",
          "Group D",
          "Group E"
         ],
         "1-Group C",
         "3-Group D"
        ],
        [
         "C-11",
         [
          "Group B",
          "Group C",
          "Group D",
          "Group E"
         ],
         "1-Group E",
         "3-Group B"
        ],
        [
         "C-11",
         [
          "Group B",
          "Group C",
          "Group D",
          "Group E"
         ],
         "1-Group F",
         "3-Group C"
        ],
        [
         "C-12",
         [
          "Group B",
          "Group C",
          "Group D",
          "Group F"
         ],
         "1-Group B",
         "3-Group F"
        ],
        [
         "C-12",
         [
          "Group B",
          "Group C",
          "Group D",
          "Group F"
         ],
         "1-Group C",
         "3-Group D"
        ],
        [
         "C-12",
         [
          "Group B",
          "Group C",
          "Group D",
          "Group F"
         ],
         "1-Group E",
         "3-Group C"
        ],
        [
         "C-12",
         [
          "Group B",
          "Group C",
          "Group D",
          "Group F"
         ],
         "1-Group F",
         "3-Group B"
        ],
        [
         "C-13",
         [
          "Group B",
          "Group C",
          "Group E",
          "Group F"
         ],
         "1-Group B",
         "3-Group F"
        ],
        [
         "C-13",
         [
          "Group B",
          "Group C",
          "Group E",
          "Group F"
         ],
         "1-Group C",
         "3-Group E"
        ],
        [
         "C-13",
         [
          "Group B",
          "Group C",
          "Group E",
          "Group F"
         ],
         "1-Group E",
         "3-Group C"
        ],
        [
         "C-13",
         [
          "Group B",
          "Group C",
          "Group E",
          "Group F"
         ],
         "1-Group F",
         "3-Group B"
        ],
        [
         "C-14",
         [
          "Group B",
          "Group D",
          "Group E",
          "Group F"
         ],
         "1-Group B",
         "3-Group F"
        ],
        [
         "C-14",
         [
          "Group B",
          "Group D",
          "Group E",
          "Group F"
         ],
         "1-Group C",
         "3-Group E"
        ],
        [
         "C-14",
         [
          "Group B",
          "Group D",
          "Group E",
          "Group F"
         ],
         "1-Group E",
         "3-Group D"
        ],
        [
         "C-14",
         [
          "Group B",
          "Group D",
          "Group E",
          "Group F"
         ],
         "1-Group F",
         "3-Group B"
        ],
        [
         "C-15",
         [
          "Group C",
          "Group D",
          "Group E",
          "Group F"
         ],
         "1-Group B",
         "3-Group F"
        ],
        [
         "C-15",
         [
          "Group C",
          "Group D",
          "Group E",
          "Group F"
         ],
         "1-Group C",
         "3-Group E"
        ],
        [
         "C-15",
         [
          "Group C",
          "Group D",
          "Group E",
          "Group F"
         ],
         "1-Group E",
         "3-Group D"
        ],
        [
         "C-15",
         [
          "Group C",
          "Group D",
          "Group E",
          "Group F"
         ],
         "1-Group F",
         "3-Group C"
        ]
       ],
       "datasetInfos": [],
       "dbfsResultPath": null,
       "isJsonSchema": true,
       "metadata": {},
       "overflow": false,
       "plotOptions": {
        "customPlotOptions": {},
        "displayType": "table",
        "pivotAggregation": null,
        "pivotColumns": null,
        "xColumns": null,
        "yColumns": null
       },
       "removedWidgets": [],
       "schema": [
        {
         "metadata": "{}",
         "name": "combination_id",
         "type": "\"string\""
        },
        {
         "metadata": "{}",
         "name": "combination",
         "type": "{\"type\":\"array\",\"elementType\":\"string\",\"containsNull\":true}"
        },
        {
         "metadata": "{}",
         "name": "team1",
         "type": "\"string\""
        },
        {
         "metadata": "{}",
         "name": "team2",
         "type": "\"string\""
        }
       ],
       "type": "table"
      }
     },
     "output_type": "display_data"
    }
   ],
   "source": [
    "combination_data = [\n",
    "('C-1', ['Group A', 'Group B', 'Group C', 'Group D'], '1-Group B', '3-Group A'),\n",
    "('C-1', ['Group A', 'Group B', 'Group C', 'Group D'], '1-Group C', '3-Group D'),\n",
    "('C-1', ['Group A', 'Group B', 'Group C', 'Group D'], '1-Group E', '3-Group B'),\n",
    "('C-1', ['Group A', 'Group B', 'Group C', 'Group D'], '1-Group F', '3-Group C'),\n",
    "\n",
    "('C-2', ['Group A', 'Group B', 'Group C', 'Group E'], '1-Group B', '3-Group A'),\n",
    "('C-2', ['Group A', 'Group B', 'Group C', 'Group E'], '1-Group C', '3-Group E'),\n",
    "('C-2', ['Group A', 'Group B', 'Group C', 'Group E'], '1-Group E', '3-Group B'),\n",
    "('C-2', ['Group A', 'Group B', 'Group C', 'Group E'], '1-Group F', '3-Group C'),\n",
    "\n",
    "('C-3', ['Group A', 'Group B', 'Group C', 'Group F'], '1-Group B', '3-Group A'),\n",
    "('C-3', ['Group A', 'Group B', 'Group C', 'Group F'], '1-Group C', '3-Group F'),\n",
    "('C-3', ['Group A', 'Group B', 'Group C', 'Group F'], '1-Group E', '3-Group B'),\n",
    "('C-3', ['Group A', 'Group B', 'Group C', 'Group F'], '1-Group F', '3-Group C'),\n",
    "\n",
    "('C-4', ['Group A', 'Group B', 'Group D', 'Group E'], '1-Group B', '3-Group D'),\n",
    "('C-4', ['Group A', 'Group B', 'Group D', 'Group E'], '1-Group C', '3-Group E'),\n",
    "('C-4', ['Group A', 'Group B', 'Group D', 'Group E'], '1-Group E', '3-Group A'),\n",
    "('C-4', ['Group A', 'Group B', 'Group D', 'Group E'], '1-Group F', '3-Group B'),\n",
    "\n",
    "('C-5', ['Group A', 'Group B', 'Group D', 'Group F'], '1-Group B', '3-Group D'),\n",
    "('C-5', ['Group A', 'Group B', 'Group D', 'Group F'], '1-Group C', '3-Group F'),\n",
    "('C-5', ['Group A', 'Group B', 'Group D', 'Group F'], '1-Group E', '3-Group A'),\n",
    "('C-5', ['Group A', 'Group B', 'Group D', 'Group F'], '1-Group F', '3-Group B'),\n",
    "\n",
    "('C-6', ['Group A', 'Group B', 'Group E', 'Group F'], '1-Group B', '3-Group E'),\n",
    "('C-6', ['Group A', 'Group B', 'Group E', 'Group F'], '1-Group C', '3-Group F'),\n",
    "('C-6', ['Group A', 'Group B', 'Group E', 'Group F'], '1-Group E', '3-Group B'),\n",
    "('C-6', ['Group A', 'Group B', 'Group E', 'Group F'], '1-Group F', '3-Group A'),\n",
    "\n",
    "('C-7', ['Group A', 'Group C', 'Group D', 'Group E'], '1-Group B', '3-Group E'),\n",
    "('C-7', ['Group A', 'Group C', 'Group D', 'Group E'], '1-Group C', '3-Group D'),\n",
    "('C-7', ['Group A', 'Group C', 'Group D', 'Group E'], '1-Group E', '3-Group C'),\n",
    "('C-7', ['Group A', 'Group C', 'Group D', 'Group E'], '1-Group F', '3-Group A'),\n",
    "\n",
    "('C-8', ['Group A', 'Group C', 'Group D', 'Group F'], '1-Group B', '3-Group F'),\n",
    "('C-8', ['Group A', 'Group C', 'Group D', 'Group F'], '1-Group C', '3-Group D'),\n",
    "('C-8', ['Group A', 'Group C', 'Group D', 'Group F'], '1-Group E', '3-Group C'),\n",
    "('C-8', ['Group A', 'Group C', 'Group D', 'Group F'], '1-Group F', '3-Group A'),\n",
    "\n",
    "('C-9', ['Group A', 'Group C', 'Group E', 'Group F'], '1-Group B', '3-Group E'),\n",
    "('C-9', ['Group A', 'Group C', 'Group E', 'Group F'], '1-Group C', '3-Group F'),\n",
    "('C-9', ['Group A', 'Group C', 'Group E', 'Group F'], '1-Group E', '3-Group C'),\n",
    "('C-9', ['Group A', 'Group C', 'Group E', 'Group F'], '1-Group F', '3-Group A'),\n",
    "\n",
    "('C-10', ['Group A', 'Group D', 'Group E', 'Group F'], '1-Group B', '3-Group E'),\n",
    "('C-10', ['Group A', 'Group D', 'Group E', 'Group F'], '1-Group C', '3-Group F'),\n",
    "('C-10', ['Group A', 'Group D', 'Group E', 'Group F'], '1-Group E', '3-Group D'),\n",
    "('C-10', ['Group A', 'Group D', 'Group E', 'Group F'], '1-Group F', '3-Group A'),\n",
    "\n",
    "('C-11', ['Group B', 'Group C', 'Group D', 'Group E'], '1-Group B', '3-Group E'),\n",
    "('C-11', ['Group B', 'Group C', 'Group D', 'Group E'], '1-Group C', '3-Group D'),\n",
    "('C-11', ['Group B', 'Group C', 'Group D', 'Group E'], '1-Group E', '3-Group B'),\n",
    "('C-11', ['Group B', 'Group C', 'Group D', 'Group E'], '1-Group F', '3-Group C'),\n",
    "\n",
    "('C-12', ['Group B', 'Group C', 'Group D', 'Group F'], '1-Group B', '3-Group F'),\n",
    "('C-12', ['Group B', 'Group C', 'Group D', 'Group F'], '1-Group C', '3-Group D'),\n",
    "('C-12', ['Group B', 'Group C', 'Group D', 'Group F'], '1-Group E', '3-Group C'),\n",
    "('C-12', ['Group B', 'Group C', 'Group D', 'Group F'], '1-Group F', '3-Group B'),\n",
    "\n",
    "('C-13', ['Group B', 'Group C', 'Group E', 'Group F'], '1-Group B', '3-Group F'),\n",
    "('C-13', ['Group B', 'Group C', 'Group E', 'Group F'], '1-Group C', '3-Group E'),\n",
    "('C-13', ['Group B', 'Group C', 'Group E', 'Group F'], '1-Group E', '3-Group C'),\n",
    "('C-13', ['Group B', 'Group C', 'Group E', 'Group F'], '1-Group F', '3-Group B'),\n",
    "\n",
    "('C-14', ['Group B', 'Group D', 'Group E', 'Group F'], '1-Group B', '3-Group F'),\n",
    "('C-14', ['Group B', 'Group D', 'Group E', 'Group F'], '1-Group C', '3-Group E'),\n",
    "('C-14', ['Group B', 'Group D', 'Group E', 'Group F'], '1-Group E', '3-Group D'),\n",
    "('C-14', ['Group B', 'Group D', 'Group E', 'Group F'], '1-Group F', '3-Group B'),\n",
    "\n",
    "('C-15', ['Group C', 'Group D', 'Group E', 'Group F'], '1-Group B', '3-Group F'),\n",
    "('C-15', ['Group C', 'Group D', 'Group E', 'Group F'], '1-Group C', '3-Group E'),\n",
    "('C-15', ['Group C', 'Group D', 'Group E', 'Group F'], '1-Group E', '3-Group D'),\n",
    "('C-15', ['Group C', 'Group D', 'Group E', 'Group F'], '1-Group F', '3-Group C'),\n",
    "]\n",
    "\n",
    "match_combination_schema = StructType(\n",
    "    [\n",
    "    StructField(\"combination_id\", StringType()),\n",
    "    StructField(\"combination\", ArrayType(elementType=StringType())),\n",
    "    StructField(\"team1\", StringType()),\n",
    "    StructField(\"team2\", StringType()),\n",
    "    ]\n",
    ")\n",
    "\n",
    "combination_df = spark.createDataFrame(combination_data, schema=match_combination_schema)\n",
    "display(combination_df)"
   ]
  },
  {
   "cell_type": "code",
   "execution_count": 0,
   "metadata": {
    "application/vnd.databricks.v1+cell": {
     "cellMetadata": {
      "byteLimit": 2048000,
      "rowLimit": 10000
     },
     "inputWidgets": {},
     "nuid": "3ee17eb4-eb91-4ef6-abb9-869b4a3b4855",
     "showTitle": false,
     "title": ""
    }
   },
   "outputs": [
    {
     "output_type": "stream",
     "name": "stdout",
     "output_type": "stream",
     "text": [
      "['Group B', 'Group C', 'Group E', 'Group F']\n"
     ]
    }
   ],
   "source": [
    "third_palce_group_combination = df_goup_stage_teams.filter(col(\"rank\") == 3).select('group_name').orderBy(\"group_name\").rdd.map(lambda row: row[0]).collect()\n",
    "print(third_palce_group_combination)"
   ]
  },
  {
   "cell_type": "code",
   "execution_count": 0,
   "metadata": {
    "application/vnd.databricks.v1+cell": {
     "cellMetadata": {
      "byteLimit": 2048000,
      "rowLimit": 10000
     },
     "inputWidgets": {},
     "nuid": "d4af40f7-7b06-4596-8b4f-9eb5490dfe2a",
     "showTitle": false,
     "title": ""
    }
   },
   "outputs": [
    {
     "output_type": "display_data",
     "data": {
      "text/html": [
       "<style scoped>\n",
       "  .table-result-container {\n",
       "    max-height: 300px;\n",
       "    overflow: auto;\n",
       "  }\n",
       "  table, th, td {\n",
       "    border: 1px solid black;\n",
       "    border-collapse: collapse;\n",
       "  }\n",
       "  th, td {\n",
       "    padding: 5px;\n",
       "  }\n",
       "  th {\n",
       "    text-align: left;\n",
       "  }\n",
       "</style><div class='table-result-container'><table class='table-result'><thead style='background-color: white'><tr><th>combination_id</th><th>combination</th><th>team1</th><th>team2</th></tr></thead><tbody><tr><td>C-13</td><td>List(Group B, Group C, Group E, Group F)</td><td>1-Group B</td><td>3-Group F</td></tr><tr><td>C-13</td><td>List(Group B, Group C, Group E, Group F)</td><td>1-Group C</td><td>3-Group E</td></tr><tr><td>C-13</td><td>List(Group B, Group C, Group E, Group F)</td><td>1-Group E</td><td>3-Group C</td></tr><tr><td>C-13</td><td>List(Group B, Group C, Group E, Group F)</td><td>1-Group F</td><td>3-Group B</td></tr></tbody></table></div>"
      ]
     },
     "metadata": {
      "application/vnd.databricks.v1+output": {
       "addedWidgets": {},
       "aggData": [],
       "aggError": "",
       "aggOverflow": false,
       "aggSchema": [],
       "aggSeriesLimitReached": false,
       "aggType": "",
       "arguments": {},
       "columnCustomDisplayInfos": {},
       "data": [
        [
         "C-13",
         [
          "Group B",
          "Group C",
          "Group E",
          "Group F"
         ],
         "1-Group B",
         "3-Group F"
        ],
        [
         "C-13",
         [
          "Group B",
          "Group C",
          "Group E",
          "Group F"
         ],
         "1-Group C",
         "3-Group E"
        ],
        [
         "C-13",
         [
          "Group B",
          "Group C",
          "Group E",
          "Group F"
         ],
         "1-Group E",
         "3-Group C"
        ],
        [
         "C-13",
         [
          "Group B",
          "Group C",
          "Group E",
          "Group F"
         ],
         "1-Group F",
         "3-Group B"
        ]
       ],
       "datasetInfos": [],
       "dbfsResultPath": null,
       "isJsonSchema": true,
       "metadata": {},
       "overflow": false,
       "plotOptions": {
        "customPlotOptions": {},
        "displayType": "table",
        "pivotAggregation": null,
        "pivotColumns": null,
        "xColumns": null,
        "yColumns": null
       },
       "removedWidgets": [],
       "schema": [
        {
         "metadata": "{}",
         "name": "combination_id",
         "type": "\"string\""
        },
        {
         "metadata": "{}",
         "name": "combination",
         "type": "{\"type\":\"array\",\"elementType\":\"string\",\"containsNull\":true}"
        },
        {
         "metadata": "{}",
         "name": "team1",
         "type": "\"string\""
        },
        {
         "metadata": "{}",
         "name": "team2",
         "type": "\"string\""
        }
       ],
       "type": "table"
      }
     },
     "output_type": "display_data"
    }
   ],
   "source": [
    "from pyspark.sql.functions import array_contains\n",
    "\n",
    "third_place_groups = third_palce_group_combination\n",
    "\n",
    "# Filter combination_df based on the third-place group combinations\n",
    "filtered_combination_df = combination_df.filter(\n",
    "    array_contains(col(\"combination\"), third_place_groups[0]) &\n",
    "    array_contains(col(\"combination\"), third_place_groups[1]) &\n",
    "    array_contains(col(\"combination\"), third_place_groups[2]) &\n",
    "    array_contains(col(\"combination\"), third_place_groups[3])\n",
    ")\n",
    "\n",
    "# Display the filtered DataFrame\n",
    "display(filtered_combination_df)\n"
   ]
  },
  {
   "cell_type": "code",
   "execution_count": 0,
   "metadata": {
    "application/vnd.databricks.v1+cell": {
     "cellMetadata": {
      "byteLimit": 2048000,
      "rowLimit": 10000
     },
     "inputWidgets": {},
     "nuid": "6362538f-e9b5-407c-82fe-8d7c446d3b92",
     "showTitle": false,
     "title": ""
    }
   },
   "outputs": [],
   "source": [
    "reamining_combination_data = [\n",
    "    ('U', [],'1-Group A', '2-Group C' ),\n",
    "    ('U', [],'2-Group D', '2-Group E' ),\n",
    "    ('U', [],'1-Group D', '2-Group F' ),\n",
    "    ('U', [],'2-Group A', '2-Group B' )\n",
    "]\n",
    "reamining_combination_df= spark.createDataFrame(reamining_combination_data, schema=match_combination_schema)\n"
   ]
  },
  {
   "cell_type": "code",
   "execution_count": 0,
   "metadata": {
    "application/vnd.databricks.v1+cell": {
     "cellMetadata": {
      "byteLimit": 2048000,
      "rowLimit": 10000
     },
     "inputWidgets": {},
     "nuid": "325857d3-3783-4218-b1dc-6fc1ab4e045b",
     "showTitle": false,
     "title": ""
    }
   },
   "outputs": [
    {
     "output_type": "display_data",
     "data": {
      "text/html": [
       "<style scoped>\n",
       "  .table-result-container {\n",
       "    max-height: 300px;\n",
       "    overflow: auto;\n",
       "  }\n",
       "  table, th, td {\n",
       "    border: 1px solid black;\n",
       "    border-collapse: collapse;\n",
       "  }\n",
       "  th, td {\n",
       "    padding: 5px;\n",
       "  }\n",
       "  th {\n",
       "    text-align: left;\n",
       "  }\n",
       "</style><div class='table-result-container'><table class='table-result'><thead style='background-color: white'><tr><th>combination_id</th><th>combination</th><th>team1</th><th>team2</th></tr></thead><tbody><tr><td>C-13</td><td>List(Group B, Group C, Group E, Group F)</td><td>1-Group B</td><td>3-Group F</td></tr><tr><td>C-13</td><td>List(Group B, Group C, Group E, Group F)</td><td>1-Group C</td><td>3-Group E</td></tr><tr><td>C-13</td><td>List(Group B, Group C, Group E, Group F)</td><td>1-Group E</td><td>3-Group C</td></tr><tr><td>C-13</td><td>List(Group B, Group C, Group E, Group F)</td><td>1-Group F</td><td>3-Group B</td></tr><tr><td>U</td><td>List()</td><td>1-Group A</td><td>2-Group C</td></tr><tr><td>U</td><td>List()</td><td>2-Group D</td><td>2-Group E</td></tr><tr><td>U</td><td>List()</td><td>1-Group D</td><td>2-Group F</td></tr><tr><td>U</td><td>List()</td><td>2-Group A</td><td>2-Group B</td></tr></tbody></table></div>"
      ]
     },
     "metadata": {
      "application/vnd.databricks.v1+output": {
       "addedWidgets": {},
       "aggData": [],
       "aggError": "",
       "aggOverflow": false,
       "aggSchema": [],
       "aggSeriesLimitReached": false,
       "aggType": "",
       "arguments": {},
       "columnCustomDisplayInfos": {},
       "data": [
        [
         "C-13",
         [
          "Group B",
          "Group C",
          "Group E",
          "Group F"
         ],
         "1-Group B",
         "3-Group F"
        ],
        [
         "C-13",
         [
          "Group B",
          "Group C",
          "Group E",
          "Group F"
         ],
         "1-Group C",
         "3-Group E"
        ],
        [
         "C-13",
         [
          "Group B",
          "Group C",
          "Group E",
          "Group F"
         ],
         "1-Group E",
         "3-Group C"
        ],
        [
         "C-13",
         [
          "Group B",
          "Group C",
          "Group E",
          "Group F"
         ],
         "1-Group F",
         "3-Group B"
        ],
        [
         "U",
         [],
         "1-Group A",
         "2-Group C"
        ],
        [
         "U",
         [],
         "2-Group D",
         "2-Group E"
        ],
        [
         "U",
         [],
         "1-Group D",
         "2-Group F"
        ],
        [
         "U",
         [],
         "2-Group A",
         "2-Group B"
        ]
       ],
       "datasetInfos": [],
       "dbfsResultPath": null,
       "isJsonSchema": true,
       "metadata": {},
       "overflow": false,
       "plotOptions": {
        "customPlotOptions": {},
        "displayType": "table",
        "pivotAggregation": null,
        "pivotColumns": null,
        "xColumns": null,
        "yColumns": null
       },
       "removedWidgets": [],
       "schema": [
        {
         "metadata": "{}",
         "name": "combination_id",
         "type": "\"string\""
        },
        {
         "metadata": "{}",
         "name": "combination",
         "type": "{\"type\":\"array\",\"elementType\":\"string\",\"containsNull\":true}"
        },
        {
         "metadata": "{}",
         "name": "team1",
         "type": "\"string\""
        },
        {
         "metadata": "{}",
         "name": "team2",
         "type": "\"string\""
        }
       ],
       "type": "table"
      }
     },
     "output_type": "display_data"
    }
   ],
   "source": [
    "df_knouckout_match_final_combination=filtered_combination_df.union(reamining_combination_df)\n",
    "display(df_knouckout_match_final_combination)"
   ]
  },
  {
   "cell_type": "code",
   "execution_count": 0,
   "metadata": {
    "application/vnd.databricks.v1+cell": {
     "cellMetadata": {
      "byteLimit": 2048000,
      "rowLimit": 10000
     },
     "inputWidgets": {},
     "nuid": "318b1f2c-9f0a-44b3-b3ac-1e6d2effbab2",
     "showTitle": false,
     "title": ""
    }
   },
   "outputs": [
    {
     "output_type": "stream",
     "name": "stdout",
     "output_type": "stream",
     "text": [
      "+--------------+--------------------+---------+---------+\n|combination_id|         combination|    team1|    team2|\n+--------------+--------------------+---------+---------+\n|          C-13|[Group B, Group C...|1-Group B|3-Group F|\n|          C-13|[Group B, Group C...|1-Group C|3-Group E|\n|          C-13|[Group B, Group C...|1-Group E|3-Group C|\n|          C-13|[Group B, Group C...|1-Group F|3-Group B|\n|             U|                  []|1-Group A|2-Group C|\n|             U|                  []|2-Group D|2-Group E|\n|             U|                  []|1-Group D|2-Group F|\n|             U|                  []|2-Group A|2-Group B|\n+--------------+--------------------+---------+---------+\n\n"
     ]
    },
    {
     "output_type": "display_data",
     "data": {
      "text/html": [
       "<style scoped>\n",
       "  .table-result-container {\n",
       "    max-height: 300px;\n",
       "    overflow: auto;\n",
       "  }\n",
       "  table, th, td {\n",
       "    border: 1px solid black;\n",
       "    border-collapse: collapse;\n",
       "  }\n",
       "  th, td {\n",
       "    padding: 5px;\n",
       "  }\n",
       "  th {\n",
       "    text-align: left;\n",
       "  }\n",
       "</style><div class='table-result-container'><table class='table-result'><thead style='background-color: white'><tr><th>match_id</th><th>match</th></tr></thead><tbody><tr><td>37</td><td>1-Group B vs 3-Group F</td></tr><tr><td>38</td><td>1-Group C vs 3-Group E</td></tr><tr><td>39</td><td>1-Group E vs 3-Group C</td></tr><tr><td>40</td><td>1-Group F vs 3-Group B</td></tr><tr><td>41</td><td>1-Group A vs 2-Group C</td></tr><tr><td>42</td><td>2-Group D vs 2-Group E</td></tr><tr><td>43</td><td>1-Group D vs 2-Group F</td></tr><tr><td>44</td><td>2-Group A vs 2-Group B</td></tr></tbody></table></div>"
      ]
     },
     "metadata": {
      "application/vnd.databricks.v1+output": {
       "addedWidgets": {},
       "aggData": [],
       "aggError": "",
       "aggOverflow": false,
       "aggSchema": [],
       "aggSeriesLimitReached": false,
       "aggType": "",
       "arguments": {},
       "columnCustomDisplayInfos": {},
       "data": [
        [
         37,
         "1-Group B vs 3-Group F"
        ],
        [
         38,
         "1-Group C vs 3-Group E"
        ],
        [
         39,
         "1-Group E vs 3-Group C"
        ],
        [
         40,
         "1-Group F vs 3-Group B"
        ],
        [
         41,
         "1-Group A vs 2-Group C"
        ],
        [
         42,
         "2-Group D vs 2-Group E"
        ],
        [
         43,
         "1-Group D vs 2-Group F"
        ],
        [
         44,
         "2-Group A vs 2-Group B"
        ]
       ],
       "datasetInfos": [],
       "dbfsResultPath": null,
       "isJsonSchema": true,
       "metadata": {},
       "overflow": false,
       "plotOptions": {
        "customPlotOptions": {},
        "displayType": "table",
        "pivotAggregation": null,
        "pivotColumns": null,
        "xColumns": null,
        "yColumns": null
       },
       "removedWidgets": [],
       "schema": [
        {
         "metadata": "{}",
         "name": "match_id",
         "type": "\"integer\""
        },
        {
         "metadata": "{}",
         "name": "match",
         "type": "\"string\""
        }
       ],
       "type": "table"
      }
     },
     "output_type": "display_data"
    }
   ],
   "source": [
    "df_knouckout_match_final_combination.show()\n",
    "team_pairs = [(row[2], row[3]) for row in df_knouckout_match_final_combination.collect()]\n",
    "# print(team_pairs)\n",
    "def generate_match_fixture_id():\n",
    "    i=df_match_fixture.count()\n",
    "    j=df_knouckout_match_final_combination.count()\n",
    "    # print('i',i)\n",
    "    # print('j',j)\n",
    "    return [i for i in range(i+1, 45)]\n",
    "match_id=generate_match_fixture_id()  \n",
    "# print(match_id) \n",
    "knockout_match=[]\n",
    "for row in df_knouckout_match_final_combination.collect():\n",
    "    team_1=row['team1']\n",
    "    team_2=row['team2']\n",
    "    data= team_1 + ' vs ' + team_2\n",
    "    knockout_match.append(data)\n",
    "\n",
    "data=[(id, match) for id, match in zip(match_id, knockout_match)]\n",
    "# print(data)\n",
    "df_knockout_match = spark.createDataFrame(data, schema=match_fixture_schema)\n",
    "display(df_knockout_match)"
   ]
  },
  {
   "cell_type": "code",
   "execution_count": 0,
   "metadata": {
    "application/vnd.databricks.v1+cell": {
     "cellMetadata": {
      "byteLimit": 2048000,
      "rowLimit": 10000
     },
     "inputWidgets": {},
     "nuid": "876d313e-e081-4c88-b760-d6f6b1d0b3cd",
     "showTitle": false,
     "title": ""
    }
   },
   "outputs": [
    {
     "output_type": "display_data",
     "data": {
      "text/html": [
       "<style scoped>\n",
       "  .table-result-container {\n",
       "    max-height: 300px;\n",
       "    overflow: auto;\n",
       "  }\n",
       "  table, th, td {\n",
       "    border: 1px solid black;\n",
       "    border-collapse: collapse;\n",
       "  }\n",
       "  th, td {\n",
       "    padding: 5px;\n",
       "  }\n",
       "  th {\n",
       "    text-align: left;\n",
       "  }\n",
       "</style><div class='table-result-container'><table class='table-result'><thead style='background-color: white'><tr><th>team_name</th><th>group_name</th><th>matches_played</th><th>match_won</th><th>match_loss</th><th>match_drawn</th><th>goal_scored</th><th>goal_conceded</th><th>goal_difference</th><th>points</th><th>rank</th><th>position</th></tr></thead><tbody><tr><td>Germany, Group A</td><td>Group A</td><td>3</td><td>3</td><td>0</td><td>0</td><td>14</td><td>4</td><td>10</td><td>9</td><td>1</td><td>1-Group A</td></tr><tr><td>Latvia, Group A</td><td>Group A</td><td>3</td><td>1</td><td>1</td><td>1</td><td>6</td><td>8</td><td>-2</td><td>4</td><td>2</td><td>2-Group A</td></tr><tr><td>Greece, Group B</td><td>Group B</td><td>3</td><td>1</td><td>0</td><td>2</td><td>10</td><td>5</td><td>5</td><td>5</td><td>1</td><td>1-Group B</td></tr><tr><td>Czech Republic, Group B</td><td>Group B</td><td>3</td><td>1</td><td>0</td><td>2</td><td>7</td><td>6</td><td>1</td><td>5</td><td>2</td><td>2-Group B</td></tr><tr><td>Belgium, Group C</td><td>Group C</td><td>3</td><td>3</td><td>0</td><td>0</td><td>10</td><td>5</td><td>5</td><td>9</td><td>1</td><td>1-Group C</td></tr><tr><td>Denmark, Group C</td><td>Group C</td><td>3</td><td>2</td><td>1</td><td>0</td><td>10</td><td>5</td><td>5</td><td>6</td><td>2</td><td>2-Group C</td></tr><tr><td>Estonia, Group D</td><td>Group D</td><td>3</td><td>2</td><td>1</td><td>0</td><td>8</td><td>4</td><td>4</td><td>6</td><td>1</td><td>1-Group D</td></tr><tr><td>Iceland, Group D</td><td>Group D</td><td>3</td><td>1</td><td>0</td><td>2</td><td>6</td><td>4</td><td>2</td><td>5</td><td>2</td><td>2-Group D</td></tr><tr><td>Bulgaria, Group E</td><td>Group E</td><td>3</td><td>2</td><td>1</td><td>0</td><td>9</td><td>8</td><td>1</td><td>6</td><td>1</td><td>1-Group E</td></tr><tr><td>Netherlands, Group E</td><td>Group E</td><td>3</td><td>1</td><td>1</td><td>1</td><td>9</td><td>8</td><td>1</td><td>4</td><td>2</td><td>2-Group E</td></tr><tr><td>Italy, Group F</td><td>Group F</td><td>3</td><td>2</td><td>0</td><td>1</td><td>12</td><td>8</td><td>4</td><td>7</td><td>1</td><td>1-Group F</td></tr><tr><td>France, Group F</td><td>Group F</td><td>3</td><td>1</td><td>1</td><td>1</td><td>8</td><td>9</td><td>-1</td><td>4</td><td>2</td><td>2-Group F</td></tr><tr><td>Finland, Group E</td><td>Group E</td><td>3</td><td>1</td><td>1</td><td>1</td><td>8</td><td>9</td><td>-1</td><td>4</td><td>3</td><td>3-Group E</td></tr><tr><td>Austria, Group B</td><td>Group B</td><td>3</td><td>1</td><td>1</td><td>1</td><td>1</td><td>5</td><td>-4</td><td>4</td><td>3</td><td>3-Group B</td></tr><tr><td>Hungary, Group C</td><td>Group C</td><td>3</td><td>1</td><td>2</td><td>0</td><td>7</td><td>7</td><td>0</td><td>3</td><td>3</td><td>3-Group C</td></tr><tr><td>Croatia, Group F</td><td>Group F</td><td>3</td><td>1</td><td>2</td><td>0</td><td>8</td><td>9</td><td>-1</td><td>3</td><td>3</td><td>3-Group F</td></tr></tbody></table></div>"
      ]
     },
     "metadata": {
      "application/vnd.databricks.v1+output": {
       "addedWidgets": {},
       "aggData": [],
       "aggError": "",
       "aggOverflow": false,
       "aggSchema": [],
       "aggSeriesLimitReached": false,
       "aggType": "",
       "arguments": {},
       "columnCustomDisplayInfos": {},
       "data": [
        [
         "Germany, Group A",
         "Group A",
         3,
         3,
         0,
         0,
         14,
         4,
         10,
         9,
         1,
         "1-Group A"
        ],
        [
         "Latvia, Group A",
         "Group A",
         3,
         1,
         1,
         1,
         6,
         8,
         -2,
         4,
         2,
         "2-Group A"
        ],
        [
         "Greece, Group B",
         "Group B",
         3,
         1,
         0,
         2,
         10,
         5,
         5,
         5,
         1,
         "1-Group B"
        ],
        [
         "Czech Republic, Group B",
         "Group B",
         3,
         1,
         0,
         2,
         7,
         6,
         1,
         5,
         2,
         "2-Group B"
        ],
        [
         "Belgium, Group C",
         "Group C",
         3,
         3,
         0,
         0,
         10,
         5,
         5,
         9,
         1,
         "1-Group C"
        ],
        [
         "Denmark, Group C",
         "Group C",
         3,
         2,
         1,
         0,
         10,
         5,
         5,
         6,
         2,
         "2-Group C"
        ],
        [
         "Estonia, Group D",
         "Group D",
         3,
         2,
         1,
         0,
         8,
         4,
         4,
         6,
         1,
         "1-Group D"
        ],
        [
         "Iceland, Group D",
         "Group D",
         3,
         1,
         0,
         2,
         6,
         4,
         2,
         5,
         2,
         "2-Group D"
        ],
        [
         "Bulgaria, Group E",
         "Group E",
         3,
         2,
         1,
         0,
         9,
         8,
         1,
         6,
         1,
         "1-Group E"
        ],
        [
         "Netherlands, Group E",
         "Group E",
         3,
         1,
         1,
         1,
         9,
         8,
         1,
         4,
         2,
         "2-Group E"
        ],
        [
         "Italy, Group F",
         "Group F",
         3,
         2,
         0,
         1,
         12,
         8,
         4,
         7,
         1,
         "1-Group F"
        ],
        [
         "France, Group F",
         "Group F",
         3,
         1,
         1,
         1,
         8,
         9,
         -1,
         4,
         2,
         "2-Group F"
        ],
        [
         "Finland, Group E",
         "Group E",
         3,
         1,
         1,
         1,
         8,
         9,
         -1,
         4,
         3,
         "3-Group E"
        ],
        [
         "Austria, Group B",
         "Group B",
         3,
         1,
         1,
         1,
         1,
         5,
         -4,
         4,
         3,
         "3-Group B"
        ],
        [
         "Hungary, Group C",
         "Group C",
         3,
         1,
         2,
         0,
         7,
         7,
         0,
         3,
         3,
         "3-Group C"
        ],
        [
         "Croatia, Group F",
         "Group F",
         3,
         1,
         2,
         0,
         8,
         9,
         -1,
         3,
         3,
         "3-Group F"
        ]
       ],
       "datasetInfos": [],
       "dbfsResultPath": null,
       "isJsonSchema": true,
       "metadata": {},
       "overflow": false,
       "plotOptions": {
        "customPlotOptions": {},
        "displayType": "table",
        "pivotAggregation": null,
        "pivotColumns": null,
        "xColumns": null,
        "yColumns": null
       },
       "removedWidgets": [],
       "schema": [
        {
         "metadata": "{}",
         "name": "team_name",
         "type": "\"string\""
        },
        {
         "metadata": "{}",
         "name": "group_name",
         "type": "\"string\""
        },
        {
         "metadata": "{}",
         "name": "matches_played",
         "type": "\"long\""
        },
        {
         "metadata": "{}",
         "name": "match_won",
         "type": "\"long\""
        },
        {
         "metadata": "{}",
         "name": "match_loss",
         "type": "\"long\""
        },
        {
         "metadata": "{}",
         "name": "match_drawn",
         "type": "\"long\""
        },
        {
         "metadata": "{}",
         "name": "goal_scored",
         "type": "\"long\""
        },
        {
         "metadata": "{}",
         "name": "goal_conceded",
         "type": "\"long\""
        },
        {
         "metadata": "{}",
         "name": "goal_difference",
         "type": "\"long\""
        },
        {
         "metadata": "{}",
         "name": "points",
         "type": "\"long\""
        },
        {
         "metadata": "{}",
         "name": "rank",
         "type": "\"integer\""
        },
        {
         "metadata": "{}",
         "name": "position",
         "type": "\"string\""
        }
       ],
       "type": "table"
      }
     },
     "output_type": "display_data"
    }
   ],
   "source": [
    "display(df_goup_stage_teams)"
   ]
  },
  {
   "cell_type": "code",
   "execution_count": 0,
   "metadata": {
    "application/vnd.databricks.v1+cell": {
     "cellMetadata": {
      "byteLimit": 2048000,
      "rowLimit": 10000
     },
     "inputWidgets": {},
     "nuid": "fff5a4b5-cf37-47e7-a635-80aaf67c83c2",
     "showTitle": false,
     "title": ""
    }
   },
   "outputs": [
    {
     "output_type": "display_data",
     "data": {
      "text/html": [
       "<style scoped>\n",
       "  .table-result-container {\n",
       "    max-height: 300px;\n",
       "    overflow: auto;\n",
       "  }\n",
       "  table, th, td {\n",
       "    border: 1px solid black;\n",
       "    border-collapse: collapse;\n",
       "  }\n",
       "  th, td {\n",
       "    padding: 5px;\n",
       "  }\n",
       "  th {\n",
       "    text-align: left;\n",
       "  }\n",
       "</style><div class='table-result-container'><table class='table-result'><thead style='background-color: white'><tr><th>match_id</th><th>match</th></tr></thead><tbody><tr><td>37</td><td>1-Group B vs 3-Group F</td></tr><tr><td>38</td><td>1-Group C vs 3-Group E</td></tr><tr><td>39</td><td>1-Group E vs 3-Group C</td></tr><tr><td>40</td><td>1-Group F vs 3-Group B</td></tr><tr><td>41</td><td>1-Group A vs 2-Group C</td></tr><tr><td>42</td><td>2-Group D vs 2-Group E</td></tr><tr><td>43</td><td>1-Group D vs 2-Group F</td></tr><tr><td>44</td><td>2-Group A vs 2-Group B</td></tr></tbody></table></div>"
      ]
     },
     "metadata": {
      "application/vnd.databricks.v1+output": {
       "addedWidgets": {},
       "aggData": [],
       "aggError": "",
       "aggOverflow": false,
       "aggSchema": [],
       "aggSeriesLimitReached": false,
       "aggType": "",
       "arguments": {},
       "columnCustomDisplayInfos": {},
       "data": [
        [
         37,
         "1-Group B vs 3-Group F"
        ],
        [
         38,
         "1-Group C vs 3-Group E"
        ],
        [
         39,
         "1-Group E vs 3-Group C"
        ],
        [
         40,
         "1-Group F vs 3-Group B"
        ],
        [
         41,
         "1-Group A vs 2-Group C"
        ],
        [
         42,
         "2-Group D vs 2-Group E"
        ],
        [
         43,
         "1-Group D vs 2-Group F"
        ],
        [
         44,
         "2-Group A vs 2-Group B"
        ]
       ],
       "datasetInfos": [],
       "dbfsResultPath": null,
       "isJsonSchema": true,
       "metadata": {},
       "overflow": false,
       "plotOptions": {
        "customPlotOptions": {},
        "displayType": "table",
        "pivotAggregation": null,
        "pivotColumns": null,
        "xColumns": null,
        "yColumns": null
       },
       "removedWidgets": [],
       "schema": [
        {
         "metadata": "{}",
         "name": "match_id",
         "type": "\"integer\""
        },
        {
         "metadata": "{}",
         "name": "match",
         "type": "\"string\""
        }
       ],
       "type": "table"
      }
     },
     "output_type": "display_data"
    }
   ],
   "source": [
    "display(df_knockout_match)"
   ]
  },
  {
   "cell_type": "code",
   "execution_count": 0,
   "metadata": {
    "application/vnd.databricks.v1+cell": {
     "cellMetadata": {
      "byteLimit": 2048000,
      "rowLimit": 10000
     },
     "inputWidgets": {},
     "nuid": "6dadb4dd-2466-40b9-bb77-95813c87f564",
     "showTitle": false,
     "title": ""
    }
   },
   "outputs": [
    {
     "output_type": "stream",
     "name": "stdout",
     "output_type": "stream",
     "text": [
      "team_1_goal 1\nteam_2_goal 2\nhere\nteam_1_goal 2\nteam_2_goal 5\nhere\nteam_1_goal 5\nteam_2_goal 2\nhere\nteam_1_goal 2\nteam_2_goal 1\nhere\nteam_1_goal 2\nteam_2_goal 4\nhere\nteam_1_goal 5\nteam_2_goal 0\nhere\nteam_1_goal 2\nteam_2_goal 5\nhere\nteam_1_goal 0\nteam_2_goal 1\nhere\n"
     ]
    },
    {
     "output_type": "display_data",
     "data": {
      "text/html": [
       "<style scoped>\n",
       "  .table-result-container {\n",
       "    max-height: 300px;\n",
       "    overflow: auto;\n",
       "  }\n",
       "  table, th, td {\n",
       "    border: 1px solid black;\n",
       "    border-collapse: collapse;\n",
       "  }\n",
       "  th, td {\n",
       "    padding: 5px;\n",
       "  }\n",
       "  th {\n",
       "    text-align: left;\n",
       "  }\n",
       "</style><div class='table-result-container'><table class='table-result'><thead style='background-color: white'><tr><th>match_fixture_id</th><th>match_fixture</th><th>team_1_name</th><th>team_2_name</th><th>team_1_goal</th><th>team_2_goal</th><th>winner</th></tr></thead><tbody><tr><td>37</td><td>1-Group B vs 3-Group F</td><td>1-Group B</td><td>3-Group F</td><td>1</td><td>2</td><td>3-Group F</td></tr><tr><td>38</td><td>1-Group C vs 3-Group E</td><td>1-Group C</td><td>3-Group E</td><td>2</td><td>5</td><td>3-Group E</td></tr><tr><td>39</td><td>1-Group E vs 3-Group C</td><td>1-Group E</td><td>3-Group C</td><td>5</td><td>2</td><td>1-Group E</td></tr><tr><td>40</td><td>1-Group F vs 3-Group B</td><td>1-Group F</td><td>3-Group B</td><td>2</td><td>1</td><td>1-Group F</td></tr><tr><td>41</td><td>1-Group A vs 2-Group C</td><td>1-Group A</td><td>2-Group C</td><td>2</td><td>4</td><td>2-Group C</td></tr><tr><td>42</td><td>2-Group D vs 2-Group E</td><td>2-Group D</td><td>2-Group E</td><td>5</td><td>0</td><td>2-Group D</td></tr><tr><td>43</td><td>1-Group D vs 2-Group F</td><td>1-Group D</td><td>2-Group F</td><td>2</td><td>5</td><td>2-Group F</td></tr><tr><td>44</td><td>2-Group A vs 2-Group B</td><td>2-Group A</td><td>2-Group B</td><td>0</td><td>1</td><td>2-Group B</td></tr></tbody></table></div>"
      ]
     },
     "metadata": {
      "application/vnd.databricks.v1+output": {
       "addedWidgets": {},
       "aggData": [],
       "aggError": "",
       "aggOverflow": false,
       "aggSchema": [],
       "aggSeriesLimitReached": false,
       "aggType": "",
       "arguments": {},
       "columnCustomDisplayInfos": {},
       "data": [
        [
         37,
         "1-Group B vs 3-Group F",
         "1-Group B",
         "3-Group F",
         1,
         2,
         "3-Group F"
        ],
        [
         38,
         "1-Group C vs 3-Group E",
         "1-Group C",
         "3-Group E",
         2,
         5,
         "3-Group E"
        ],
        [
         39,
         "1-Group E vs 3-Group C",
         "1-Group E",
         "3-Group C",
         5,
         2,
         "1-Group E"
        ],
        [
         40,
         "1-Group F vs 3-Group B",
         "1-Group F",
         "3-Group B",
         2,
         1,
         "1-Group F"
        ],
        [
         41,
         "1-Group A vs 2-Group C",
         "1-Group A",
         "2-Group C",
         2,
         4,
         "2-Group C"
        ],
        [
         42,
         "2-Group D vs 2-Group E",
         "2-Group D",
         "2-Group E",
         5,
         0,
         "2-Group D"
        ],
        [
         43,
         "1-Group D vs 2-Group F",
         "1-Group D",
         "2-Group F",
         2,
         5,
         "2-Group F"
        ],
        [
         44,
         "2-Group A vs 2-Group B",
         "2-Group A",
         "2-Group B",
         0,
         1,
         "2-Group B"
        ]
       ],
       "datasetInfos": [],
       "dbfsResultPath": null,
       "isJsonSchema": true,
       "metadata": {},
       "overflow": false,
       "plotOptions": {
        "customPlotOptions": {},
        "displayType": "table",
        "pivotAggregation": null,
        "pivotColumns": null,
        "xColumns": null,
        "yColumns": null
       },
       "removedWidgets": [],
       "schema": [
        {
         "metadata": "{}",
         "name": "match_fixture_id",
         "type": "\"integer\""
        },
        {
         "metadata": "{}",
         "name": "match_fixture",
         "type": "\"string\""
        },
        {
         "metadata": "{}",
         "name": "team_1_name",
         "type": "\"string\""
        },
        {
         "metadata": "{}",
         "name": "team_2_name",
         "type": "\"string\""
        },
        {
         "metadata": "{}",
         "name": "team_1_goal",
         "type": "\"integer\""
        },
        {
         "metadata": "{}",
         "name": "team_2_goal",
         "type": "\"integer\""
        },
        {
         "metadata": "{}",
         "name": "winner",
         "type": "\"string\""
        }
       ],
       "type": "table"
      }
     },
     "output_type": "display_data"
    }
   ],
   "source": [
    "#knouckout match \n",
    "knockout_match_data=[]\n",
    "\n",
    "for row in df_knockout_match.collect():\n",
    "    match_id=row['match_id']\n",
    "    match_fixture=row['match']\n",
    "    teams = match_fixture.split(' vs ')\n",
    "    team_1_name = teams[0]\n",
    "    team_2_name=teams[1]\n",
    "\n",
    "    # team_1_goal = random.randint(0, 5)\n",
    "    # team_2_goal = random.randint(0, 5)\n",
    "   \n",
    "    # winner = team_1_name if team_1_goal > team_2_goal else team_2_name if team_2_goal > team_1_goal else \"Draw\"\n",
    "    while True:\n",
    "    # Generate random number of goals for each team\n",
    "        team_1_goal = random.randint(0, 5)\n",
    "        team_2_goal = random.randint(0, 5)\n",
    "        print(\"team_1_goal\",team_1_goal)\n",
    "        print(\"team_2_goal\",team_2_goal)\n",
    "\n",
    "        # Regenerate the goals if they are equal\n",
    "        if team_1_goal != team_2_goal:\n",
    "            print('here')\n",
    "            break\n",
    "\n",
    "    # Determine the winner\n",
    "    winner = team_1_name if team_1_goal > team_2_goal else team_2_name if team_2_goal > team_1_goal else \"Draw\"\n",
    "\n",
    "    knockout_match_fixture_goal_row = Row(\n",
    "        match_fixture_id=match_id,\n",
    "        match_fixture=match_fixture,\n",
    "        team_1_name=team_1_name,\n",
    "        team_2_name=team_2_name,\n",
    "        team_1_goal=team_1_goal,\n",
    "        team_2_goal=team_2_goal,\n",
    "        winner=winner\n",
    "    )\n",
    "    knockout_match_data.append(knockout_match_fixture_goal_row)\n",
    "\n",
    "df_knockout_match_fixture_goals = spark.createDataFrame(knockout_match_data, schema=match_fixture_goal_schema)\n",
    "\n",
    "display(df_knockout_match_fixture_goals)\n",
    "\n"
   ]
  },
  {
   "cell_type": "code",
   "execution_count": 0,
   "metadata": {
    "application/vnd.databricks.v1+cell": {
     "cellMetadata": {
      "byteLimit": 2048000,
      "rowLimit": 10000
     },
     "inputWidgets": {},
     "nuid": "2267e41f-a089-48ad-a094-8e69112dabd0",
     "showTitle": false,
     "title": ""
    }
   },
   "outputs": [
    {
     "output_type": "display_data",
     "data": {
      "text/html": [
       "<style scoped>\n",
       "  .table-result-container {\n",
       "    max-height: 300px;\n",
       "    overflow: auto;\n",
       "  }\n",
       "  table, th, td {\n",
       "    border: 1px solid black;\n",
       "    border-collapse: collapse;\n",
       "  }\n",
       "  th, td {\n",
       "    padding: 5px;\n",
       "  }\n",
       "  th {\n",
       "    text-align: left;\n",
       "  }\n",
       "</style><div class='table-result-container'><table class='table-result'><thead style='background-color: white'><tr><th>match_fixture_id</th><th>match_fixture</th><th>team_1_name</th><th>team_2_name</th><th>team_1_goal</th><th>team_2_goal</th><th>winner</th></tr></thead><tbody><tr><td>37</td><td>1-Group B vs 3-Group F</td><td>Greece, Group B</td><td>Croatia, Group F</td><td>1</td><td>2</td><td>Croatia, Group F</td></tr><tr><td>38</td><td>1-Group C vs 3-Group E</td><td>Belgium, Group C</td><td>Finland, Group E</td><td>2</td><td>5</td><td>Finland, Group E</td></tr><tr><td>39</td><td>1-Group E vs 3-Group C</td><td>Bulgaria, Group E</td><td>Hungary, Group C</td><td>5</td><td>2</td><td>Bulgaria, Group E</td></tr><tr><td>40</td><td>1-Group F vs 3-Group B</td><td>Italy, Group F</td><td>Austria, Group B</td><td>2</td><td>1</td><td>Italy, Group F</td></tr><tr><td>41</td><td>1-Group A vs 2-Group C</td><td>Germany, Group A</td><td>Denmark, Group C</td><td>2</td><td>4</td><td>Denmark, Group C</td></tr><tr><td>42</td><td>2-Group D vs 2-Group E</td><td>Iceland, Group D</td><td>Netherlands, Group E</td><td>5</td><td>0</td><td>Iceland, Group D</td></tr><tr><td>43</td><td>1-Group D vs 2-Group F</td><td>Estonia, Group D</td><td>France, Group F</td><td>2</td><td>5</td><td>France, Group F</td></tr><tr><td>44</td><td>2-Group A vs 2-Group B</td><td>Latvia, Group A</td><td>Czech Republic, Group B</td><td>0</td><td>1</td><td>Czech Republic, Group B</td></tr></tbody></table></div>"
      ]
     },
     "metadata": {
      "application/vnd.databricks.v1+output": {
       "addedWidgets": {},
       "aggData": [],
       "aggError": "",
       "aggOverflow": false,
       "aggSchema": [],
       "aggSeriesLimitReached": false,
       "aggType": "",
       "arguments": {},
       "columnCustomDisplayInfos": {},
       "data": [
        [
         37,
         "1-Group B vs 3-Group F",
         "Greece, Group B",
         "Croatia, Group F",
         1,
         2,
         "Croatia, Group F"
        ],
        [
         38,
         "1-Group C vs 3-Group E",
         "Belgium, Group C",
         "Finland, Group E",
         2,
         5,
         "Finland, Group E"
        ],
        [
         39,
         "1-Group E vs 3-Group C",
         "Bulgaria, Group E",
         "Hungary, Group C",
         5,
         2,
         "Bulgaria, Group E"
        ],
        [
         40,
         "1-Group F vs 3-Group B",
         "Italy, Group F",
         "Austria, Group B",
         2,
         1,
         "Italy, Group F"
        ],
        [
         41,
         "1-Group A vs 2-Group C",
         "Germany, Group A",
         "Denmark, Group C",
         2,
         4,
         "Denmark, Group C"
        ],
        [
         42,
         "2-Group D vs 2-Group E",
         "Iceland, Group D",
         "Netherlands, Group E",
         5,
         0,
         "Iceland, Group D"
        ],
        [
         43,
         "1-Group D vs 2-Group F",
         "Estonia, Group D",
         "France, Group F",
         2,
         5,
         "France, Group F"
        ],
        [
         44,
         "2-Group A vs 2-Group B",
         "Latvia, Group A",
         "Czech Republic, Group B",
         0,
         1,
         "Czech Republic, Group B"
        ]
       ],
       "datasetInfos": [],
       "dbfsResultPath": null,
       "isJsonSchema": true,
       "metadata": {},
       "overflow": false,
       "plotOptions": {
        "customPlotOptions": {},
        "displayType": "table",
        "pivotAggregation": null,
        "pivotColumns": null,
        "xColumns": null,
        "yColumns": null
       },
       "removedWidgets": [],
       "schema": [
        {
         "metadata": "{}",
         "name": "match_fixture_id",
         "type": "\"integer\""
        },
        {
         "metadata": "{}",
         "name": "match_fixture",
         "type": "\"string\""
        },
        {
         "metadata": "{}",
         "name": "team_1_name",
         "type": "\"string\""
        },
        {
         "metadata": "{}",
         "name": "team_2_name",
         "type": "\"string\""
        },
        {
         "metadata": "{}",
         "name": "team_1_goal",
         "type": "\"integer\""
        },
        {
         "metadata": "{}",
         "name": "team_2_goal",
         "type": "\"integer\""
        },
        {
         "metadata": "{}",
         "name": "winner",
         "type": "\"string\""
        }
       ],
       "type": "table"
      }
     },
     "output_type": "display_data"
    }
   ],
   "source": [
    "df_goup_stage_teams.createOrReplaceTempView(\"group_stage_team\")\n",
    "df_knockout_match_fixture_goals.createOrReplaceTempView(\"knockout_match_fixture_goals\")\n",
    "\n",
    "goup_stage_query = \"\"\"\n",
    "SELECT m.match_fixture_id, m.match_fixture, t1.team_name AS team_1_name, t2.team_name AS team_2_name, m.team_1_goal, m.team_2_goal, t3.team_name as winner\n",
    "FROM knockout_match_fixture_goals m\n",
    "JOIN group_stage_team t1 ON m.team_1_name = t1.position\n",
    "JOIN group_stage_team t2 ON m.team_2_name = t2.position\n",
    "JOIN group_stage_team t3 ON m.winner = t3.position\n",
    "\"\"\"\n",
    "\n",
    "goup_stage_df_team_name = spark.sql(goup_stage_query)\n",
    "display(goup_stage_df_team_name)"
   ]
  },
  {
   "cell_type": "code",
   "execution_count": 0,
   "metadata": {
    "application/vnd.databricks.v1+cell": {
     "cellMetadata": {
      "byteLimit": 2048000,
      "rowLimit": 10000
     },
     "inputWidgets": {},
     "nuid": "2b619fcc-074f-4f26-a22b-9d486ca2d966",
     "showTitle": false,
     "title": ""
    }
   },
   "outputs": [
    {
     "output_type": "display_data",
     "data": {
      "text/html": [
       "<style scoped>\n",
       "  .table-result-container {\n",
       "    max-height: 300px;\n",
       "    overflow: auto;\n",
       "  }\n",
       "  table, th, td {\n",
       "    border: 1px solid black;\n",
       "    border-collapse: collapse;\n",
       "  }\n",
       "  th, td {\n",
       "    padding: 5px;\n",
       "  }\n",
       "  th {\n",
       "    text-align: left;\n",
       "  }\n",
       "</style><div class='table-result-container'><table class='table-result'><thead style='background-color: white'><tr><th>team_name</th><th>match_id</th></tr></thead><tbody><tr><td>Croatia, Group F</td><td>37</td></tr><tr><td>Finland, Group E</td><td>38</td></tr><tr><td>Bulgaria, Group E</td><td>39</td></tr><tr><td>Italy, Group F</td><td>40</td></tr><tr><td>Denmark, Group C</td><td>41</td></tr><tr><td>Iceland, Group D</td><td>42</td></tr><tr><td>France, Group F</td><td>43</td></tr><tr><td>Czech Republic, Group B</td><td>44</td></tr></tbody></table></div>"
      ]
     },
     "metadata": {
      "application/vnd.databricks.v1+output": {
       "addedWidgets": {},
       "aggData": [],
       "aggError": "",
       "aggOverflow": false,
       "aggSchema": [],
       "aggSeriesLimitReached": false,
       "aggType": "",
       "arguments": {},
       "columnCustomDisplayInfos": {},
       "data": [
        [
         "Croatia, Group F",
         37
        ],
        [
         "Finland, Group E",
         38
        ],
        [
         "Bulgaria, Group E",
         39
        ],
        [
         "Italy, Group F",
         40
        ],
        [
         "Denmark, Group C",
         41
        ],
        [
         "Iceland, Group D",
         42
        ],
        [
         "France, Group F",
         43
        ],
        [
         "Czech Republic, Group B",
         44
        ]
       ],
       "datasetInfos": [],
       "dbfsResultPath": null,
       "isJsonSchema": true,
       "metadata": {},
       "overflow": false,
       "plotOptions": {
        "customPlotOptions": {},
        "displayType": "table",
        "pivotAggregation": null,
        "pivotColumns": null,
        "xColumns": null,
        "yColumns": null
       },
       "removedWidgets": [],
       "schema": [
        {
         "metadata": "{}",
         "name": "team_name",
         "type": "\"string\""
        },
        {
         "metadata": "{}",
         "name": "match_id",
         "type": "\"integer\""
        }
       ],
       "type": "table"
      }
     },
     "output_type": "display_data"
    }
   ],
   "source": [
    "df_quater_final_teams= goup_stage_df_team_name.select(col(\"winner\").alias(\"team_name\"),col(\"match_fixture_id\").alias(\"match_id\"))\n",
    "display(df_quater_final_teams)"
   ]
  },
  {
   "cell_type": "code",
   "execution_count": 0,
   "metadata": {
    "application/vnd.databricks.v1+cell": {
     "cellMetadata": {
      "byteLimit": 2048000,
      "rowLimit": 10000
     },
     "inputWidgets": {},
     "nuid": "56d38839-4c11-4665-94b5-a63113123256",
     "showTitle": false,
     "title": ""
    }
   },
   "outputs": [
    {
     "output_type": "display_data",
     "data": {
      "text/html": [
       "<style scoped>\n",
       "  .table-result-container {\n",
       "    max-height: 300px;\n",
       "    overflow: auto;\n",
       "  }\n",
       "  table, th, td {\n",
       "    border: 1px solid black;\n",
       "    border-collapse: collapse;\n",
       "  }\n",
       "  th, td {\n",
       "    padding: 5px;\n",
       "  }\n",
       "  th {\n",
       "    text-align: left;\n",
       "  }\n",
       "</style><div class='table-result-container'><table class='table-result'><thead style='background-color: white'><tr><th>match_id</th><th>combination_id</th><th>combination</th><th>team1</th><th>team2</th></tr></thead><tbody><tr><td>45</td><td>Q_C</td><td>List()</td><td>37</td><td>41</td></tr><tr><td>46</td><td>Q_C</td><td>List()</td><td>40</td><td>42</td></tr><tr><td>47</td><td>Q_C</td><td>List()</td><td>39</td><td>43</td></tr><tr><td>48</td><td>Q_C</td><td>List()</td><td>38</td><td>44</td></tr></tbody></table></div>"
      ]
     },
     "metadata": {
      "application/vnd.databricks.v1+output": {
       "addedWidgets": {},
       "aggData": [],
       "aggError": "",
       "aggOverflow": false,
       "aggSchema": [],
       "aggSeriesLimitReached": false,
       "aggType": "",
       "arguments": {},
       "columnCustomDisplayInfos": {},
       "data": [
        [
         "45",
         "Q_C",
         [],
         "37",
         "41"
        ],
        [
         "46",
         "Q_C",
         [],
         "40",
         "42"
        ],
        [
         "47",
         "Q_C",
         [],
         "39",
         "43"
        ],
        [
         "48",
         "Q_C",
         [],
         "38",
         "44"
        ]
       ],
       "datasetInfos": [],
       "dbfsResultPath": null,
       "isJsonSchema": true,
       "metadata": {},
       "overflow": false,
       "plotOptions": {
        "customPlotOptions": {},
        "displayType": "table",
        "pivotAggregation": null,
        "pivotColumns": null,
        "xColumns": null,
        "yColumns": null
       },
       "removedWidgets": [],
       "schema": [
        {
         "metadata": "{}",
         "name": "match_id",
         "type": "\"string\""
        },
        {
         "metadata": "{}",
         "name": "combination_id",
         "type": "\"string\""
        },
        {
         "metadata": "{}",
         "name": "combination",
         "type": "{\"type\":\"array\",\"elementType\":\"string\",\"containsNull\":true}"
        },
        {
         "metadata": "{}",
         "name": "team1",
         "type": "\"string\""
        },
        {
         "metadata": "{}",
         "name": "team2",
         "type": "\"string\""
        }
       ],
       "type": "table"
      }
     },
     "output_type": "display_data"
    }
   ],
   "source": [
    "#quater final combinations\n",
    "\n",
    "match_combination_schema = StructType([\n",
    "    StructField(\"match_id\", StringType()),\n",
    "    StructField(\"combination_id\", StringType()),\n",
    "    StructField(\"combination\", ArrayType(elementType=StringType())),\n",
    "    StructField(\"team1\", StringType()),\n",
    "    StructField(\"team2\", StringType()),\n",
    "])\n",
    "quater_final_combination_data = [\n",
    "    ('45','Q_C', [],'37', '41' ),\n",
    "    ('46','Q_C', [],'40', '42' ),\n",
    "    ('47','Q_C', [],'39', '43' ),\n",
    "    ('48','Q_C', [],'38', '44' )\n",
    "]\n",
    "quater_final_combination_data_df= spark.createDataFrame(quater_final_combination_data, schema=match_combination_schema)\n",
    "display(quater_final_combination_data_df)"
   ]
  },
  {
   "cell_type": "code",
   "execution_count": 0,
   "metadata": {
    "application/vnd.databricks.v1+cell": {
     "cellMetadata": {
      "byteLimit": 2048000,
      "rowLimit": 10000
     },
     "inputWidgets": {},
     "nuid": "bfb082d7-ba37-4e11-819d-b2e4638505ef",
     "showTitle": false,
     "title": ""
    }
   },
   "outputs": [
    {
     "output_type": "display_data",
     "data": {
      "text/html": [
       "<style scoped>\n",
       "  .table-result-container {\n",
       "    max-height: 300px;\n",
       "    overflow: auto;\n",
       "  }\n",
       "  table, th, td {\n",
       "    border: 1px solid black;\n",
       "    border-collapse: collapse;\n",
       "  }\n",
       "  th, td {\n",
       "    padding: 5px;\n",
       "  }\n",
       "  th {\n",
       "    text-align: left;\n",
       "  }\n",
       "</style><div class='table-result-container'><table class='table-result'><thead style='background-color: white'><tr><th>match_id</th><th>combination_id</th><th>team_1_name</th><th>team_2_name</th></tr></thead><tbody><tr><td>45</td><td>Q_C</td><td>Croatia, Group F</td><td>Denmark, Group C</td></tr><tr><td>46</td><td>Q_C</td><td>Italy, Group F</td><td>Iceland, Group D</td></tr><tr><td>47</td><td>Q_C</td><td>Bulgaria, Group E</td><td>France, Group F</td></tr><tr><td>48</td><td>Q_C</td><td>Finland, Group E</td><td>Czech Republic, Group B</td></tr></tbody></table></div>"
      ]
     },
     "metadata": {
      "application/vnd.databricks.v1+output": {
       "addedWidgets": {},
       "aggData": [],
       "aggError": "",
       "aggOverflow": false,
       "aggSchema": [],
       "aggSeriesLimitReached": false,
       "aggType": "",
       "arguments": {},
       "columnCustomDisplayInfos": {},
       "data": [
        [
         "45",
         "Q_C",
         "Croatia, Group F",
         "Denmark, Group C"
        ],
        [
         "46",
         "Q_C",
         "Italy, Group F",
         "Iceland, Group D"
        ],
        [
         "47",
         "Q_C",
         "Bulgaria, Group E",
         "France, Group F"
        ],
        [
         "48",
         "Q_C",
         "Finland, Group E",
         "Czech Republic, Group B"
        ]
       ],
       "datasetInfos": [],
       "dbfsResultPath": null,
       "isJsonSchema": true,
       "metadata": {},
       "overflow": false,
       "plotOptions": {
        "customPlotOptions": {},
        "displayType": "table",
        "pivotAggregation": null,
        "pivotColumns": null,
        "xColumns": null,
        "yColumns": null
       },
       "removedWidgets": [],
       "schema": [
        {
         "metadata": "{}",
         "name": "match_id",
         "type": "\"string\""
        },
        {
         "metadata": "{}",
         "name": "combination_id",
         "type": "\"string\""
        },
        {
         "metadata": "{}",
         "name": "team_1_name",
         "type": "\"string\""
        },
        {
         "metadata": "{}",
         "name": "team_2_name",
         "type": "\"string\""
        }
       ],
       "type": "table"
      }
     },
     "output_type": "display_data"
    }
   ],
   "source": [
    "df_quater_final_teams.createOrReplaceTempView(\"quater_final_teams\")\n",
    "quater_final_combination_data_df.createOrReplaceTempView(\"quater_final_combination_data\")\n",
    "\n",
    "sql_query = \"\"\"\n",
    "SELECT d.match_id, d.combination_id, t1.team_name as team_1_name, t2.team_name as team_2_name\n",
    "FROM quater_final_combination_data d\n",
    "JOIN quater_final_teams t1 ON d.team1=t1.match_id\n",
    "JOIN quater_final_teams t2 ON d.team2=t2.match_id\n",
    "\"\"\"\n",
    "\n",
    "df_quater_final_teams_name = spark.sql(sql_query)\n",
    "\n",
    "display(df_quater_final_teams_name)\n",
    "\n"
   ]
  },
  {
   "cell_type": "code",
   "execution_count": 0,
   "metadata": {
    "application/vnd.databricks.v1+cell": {
     "cellMetadata": {
      "byteLimit": 2048000,
      "rowLimit": 10000
     },
     "inputWidgets": {},
     "nuid": "12fbaf50-9527-4a2a-a422-4144dde603e6",
     "showTitle": false,
     "title": ""
    }
   },
   "outputs": [
    {
     "output_type": "stream",
     "name": "stdout",
     "output_type": "stream",
     "text": [
      "team_1_goal 5\nteam_2_goal 5\nteam_1_goal 2\nteam_2_goal 5\nhere\nteam_1_goal 0\nteam_2_goal 1\nhere\nteam_1_goal 1\nteam_2_goal 5\nhere\nteam_1_goal 1\nteam_2_goal 0\nhere\n"
     ]
    },
    {
     "output_type": "display_data",
     "data": {
      "text/html": [
       "<style scoped>\n",
       "  .table-result-container {\n",
       "    max-height: 300px;\n",
       "    overflow: auto;\n",
       "  }\n",
       "  table, th, td {\n",
       "    border: 1px solid black;\n",
       "    border-collapse: collapse;\n",
       "  }\n",
       "  th, td {\n",
       "    padding: 5px;\n",
       "  }\n",
       "  th {\n",
       "    text-align: left;\n",
       "  }\n",
       "</style><div class='table-result-container'><table class='table-result'><thead style='background-color: white'><tr><th>match_id</th><th>team_1_name</th><th>team_2_name</th><th>team_1_goal</th><th>team_2_goal</th><th>winner</th></tr></thead><tbody><tr><td>45</td><td>Croatia, Group F</td><td>Denmark, Group C</td><td>2</td><td>5</td><td>Denmark, Group C</td></tr><tr><td>46</td><td>Italy, Group F</td><td>Iceland, Group D</td><td>0</td><td>1</td><td>Iceland, Group D</td></tr><tr><td>47</td><td>Bulgaria, Group E</td><td>France, Group F</td><td>1</td><td>5</td><td>France, Group F</td></tr><tr><td>48</td><td>Finland, Group E</td><td>Czech Republic, Group B</td><td>1</td><td>0</td><td>Finland, Group E</td></tr></tbody></table></div>"
      ]
     },
     "metadata": {
      "application/vnd.databricks.v1+output": {
       "addedWidgets": {},
       "aggData": [],
       "aggError": "",
       "aggOverflow": false,
       "aggSchema": [],
       "aggSeriesLimitReached": false,
       "aggType": "",
       "arguments": {},
       "columnCustomDisplayInfos": {},
       "data": [
        [
         "45",
         "Croatia, Group F",
         "Denmark, Group C",
         2,
         5,
         "Denmark, Group C"
        ],
        [
         "46",
         "Italy, Group F",
         "Iceland, Group D",
         0,
         1,
         "Iceland, Group D"
        ],
        [
         "47",
         "Bulgaria, Group E",
         "France, Group F",
         1,
         5,
         "France, Group F"
        ],
        [
         "48",
         "Finland, Group E",
         "Czech Republic, Group B",
         1,
         0,
         "Finland, Group E"
        ]
       ],
       "datasetInfos": [],
       "dbfsResultPath": null,
       "isJsonSchema": true,
       "metadata": {},
       "overflow": false,
       "plotOptions": {
        "customPlotOptions": {},
        "displayType": "table",
        "pivotAggregation": null,
        "pivotColumns": null,
        "xColumns": null,
        "yColumns": null
       },
       "removedWidgets": [],
       "schema": [
        {
         "metadata": "{}",
         "name": "match_id",
         "type": "\"string\""
        },
        {
         "metadata": "{}",
         "name": "team_1_name",
         "type": "\"string\""
        },
        {
         "metadata": "{}",
         "name": "team_2_name",
         "type": "\"string\""
        },
        {
         "metadata": "{}",
         "name": "team_1_goal",
         "type": "\"long\""
        },
        {
         "metadata": "{}",
         "name": "team_2_goal",
         "type": "\"long\""
        },
        {
         "metadata": "{}",
         "name": "winner",
         "type": "\"string\""
        }
       ],
       "type": "table"
      }
     },
     "output_type": "display_data"
    }
   ],
   "source": [
    "# quater_final_teams match result\n",
    "quater_final_match_data=[]\n",
    "for row in df_quater_final_teams_name.collect():\n",
    "    match_id=row['match_id']\n",
    "    team_1_name=row['team_1_name']\n",
    "    team_2_name=row['team_2_name']\n",
    "    while True:\n",
    "    # Generate random number of goals for each team\n",
    "        team_1_goal = random.randint(0, 5)\n",
    "        team_2_goal = random.randint(0, 5)\n",
    "        print(\"team_1_goal\",team_1_goal)\n",
    "        print(\"team_2_goal\",team_2_goal)\n",
    "\n",
    "        # Regenerate the goals if they are equal\n",
    "        if team_1_goal != team_2_goal:\n",
    "            print('here')\n",
    "            break\n",
    "\n",
    "    # Determine the winner\n",
    "    winner = team_1_name if team_1_goal > team_2_goal else team_2_name if team_2_goal > team_1_goal else \"Draw\"\n",
    "\n",
    "    quater_final_goal_row= Row(\n",
    "        match_id=match_id,\n",
    "        team_1_name=team_1_name,\n",
    "        team_2_name=team_2_name,\n",
    "        team_1_goal=team_1_goal,\n",
    "        team_2_goal=team_2_goal,\n",
    "        winner=winner\n",
    "    )\n",
    "    quater_final_match_data.append(quater_final_goal_row)\n",
    "\n",
    "df_quater_final_match_goals = spark.createDataFrame(quater_final_match_data)\n",
    "display(df_quater_final_match_goals)\n"
   ]
  },
  {
   "cell_type": "code",
   "execution_count": 0,
   "metadata": {
    "application/vnd.databricks.v1+cell": {
     "cellMetadata": {
      "byteLimit": 2048000,
      "rowLimit": 10000
     },
     "inputWidgets": {},
     "nuid": "c6c81e43-e97e-4f60-85bc-c8c94c21ece8",
     "showTitle": false,
     "title": ""
    }
   },
   "outputs": [
    {
     "output_type": "display_data",
     "data": {
      "text/html": [
       "<style scoped>\n",
       "  .table-result-container {\n",
       "    max-height: 300px;\n",
       "    overflow: auto;\n",
       "  }\n",
       "  table, th, td {\n",
       "    border: 1px solid black;\n",
       "    border-collapse: collapse;\n",
       "  }\n",
       "  th, td {\n",
       "    padding: 5px;\n",
       "  }\n",
       "  th {\n",
       "    text-align: left;\n",
       "  }\n",
       "</style><div class='table-result-container'><table class='table-result'><thead style='background-color: white'><tr><th>team_name</th><th>match_id</th></tr></thead><tbody><tr><td>Denmark, Group C</td><td>45</td></tr><tr><td>Iceland, Group D</td><td>46</td></tr><tr><td>France, Group F</td><td>47</td></tr><tr><td>Finland, Group E</td><td>48</td></tr></tbody></table></div>"
      ]
     },
     "metadata": {
      "application/vnd.databricks.v1+output": {
       "addedWidgets": {},
       "aggData": [],
       "aggError": "",
       "aggOverflow": false,
       "aggSchema": [],
       "aggSeriesLimitReached": false,
       "aggType": "",
       "arguments": {},
       "columnCustomDisplayInfos": {},
       "data": [
        [
         "Denmark, Group C",
         "45"
        ],
        [
         "Iceland, Group D",
         "46"
        ],
        [
         "France, Group F",
         "47"
        ],
        [
         "Finland, Group E",
         "48"
        ]
       ],
       "datasetInfos": [],
       "dbfsResultPath": null,
       "isJsonSchema": true,
       "metadata": {},
       "overflow": false,
       "plotOptions": {
        "customPlotOptions": {},
        "displayType": "table",
        "pivotAggregation": null,
        "pivotColumns": null,
        "xColumns": null,
        "yColumns": null
       },
       "removedWidgets": [],
       "schema": [
        {
         "metadata": "{}",
         "name": "team_name",
         "type": "\"string\""
        },
        {
         "metadata": "{}",
         "name": "match_id",
         "type": "\"string\""
        }
       ],
       "type": "table"
      }
     },
     "output_type": "display_data"
    }
   ],
   "source": [
    "df_semi_final_teams= df_quater_final_match_goals.select(col(\"winner\").alias(\"team_name\"),col(\"match_id\"))\n",
    "display(df_semi_final_teams)"
   ]
  },
  {
   "cell_type": "code",
   "execution_count": 0,
   "metadata": {
    "application/vnd.databricks.v1+cell": {
     "cellMetadata": {
      "byteLimit": 2048000,
      "rowLimit": 10000
     },
     "inputWidgets": {},
     "nuid": "9d817ed4-1e2b-4493-b195-c0bce5c10ee8",
     "showTitle": false,
     "title": ""
    }
   },
   "outputs": [
    {
     "output_type": "display_data",
     "data": {
      "text/html": [
       "<style scoped>\n",
       "  .table-result-container {\n",
       "    max-height: 300px;\n",
       "    overflow: auto;\n",
       "  }\n",
       "  table, th, td {\n",
       "    border: 1px solid black;\n",
       "    border-collapse: collapse;\n",
       "  }\n",
       "  th, td {\n",
       "    padding: 5px;\n",
       "  }\n",
       "  th {\n",
       "    text-align: left;\n",
       "  }\n",
       "</style><div class='table-result-container'><table class='table-result'><thead style='background-color: white'><tr><th>match_id</th><th>combination_id</th><th>combination</th><th>team1</th><th>team2</th></tr></thead><tbody><tr><td>49</td><td>SF_C</td><td>List()</td><td>45</td><td>46</td></tr><tr><td>50</td><td>SF_C</td><td>List()</td><td>47</td><td>48</td></tr></tbody></table></div>"
      ]
     },
     "metadata": {
      "application/vnd.databricks.v1+output": {
       "addedWidgets": {},
       "aggData": [],
       "aggError": "",
       "aggOverflow": false,
       "aggSchema": [],
       "aggSeriesLimitReached": false,
       "aggType": "",
       "arguments": {},
       "columnCustomDisplayInfos": {},
       "data": [
        [
         "49",
         "SF_C",
         [],
         "45",
         "46"
        ],
        [
         "50",
         "SF_C",
         [],
         "47",
         "48"
        ]
       ],
       "datasetInfos": [],
       "dbfsResultPath": null,
       "isJsonSchema": true,
       "metadata": {},
       "overflow": false,
       "plotOptions": {
        "customPlotOptions": {},
        "displayType": "table",
        "pivotAggregation": null,
        "pivotColumns": null,
        "xColumns": null,
        "yColumns": null
       },
       "removedWidgets": [],
       "schema": [
        {
         "metadata": "{}",
         "name": "match_id",
         "type": "\"string\""
        },
        {
         "metadata": "{}",
         "name": "combination_id",
         "type": "\"string\""
        },
        {
         "metadata": "{}",
         "name": "combination",
         "type": "{\"type\":\"array\",\"elementType\":\"string\",\"containsNull\":true}"
        },
        {
         "metadata": "{}",
         "name": "team1",
         "type": "\"string\""
        },
        {
         "metadata": "{}",
         "name": "team2",
         "type": "\"string\""
        }
       ],
       "type": "table"
      }
     },
     "output_type": "display_data"
    }
   ],
   "source": [
    "semi_final_match_combination_data = [\n",
    "    ('49','SF_C', [],'45', '46' ),\n",
    "    ('50','SF_C', [],'47', '48' ),\n",
    "]\n",
    "semi_final_match_combination_data_df= spark.createDataFrame(semi_final_match_combination_data, schema=match_combination_schema)\n",
    "display(semi_final_match_combination_data_df)"
   ]
  },
  {
   "cell_type": "code",
   "execution_count": 0,
   "metadata": {
    "application/vnd.databricks.v1+cell": {
     "cellMetadata": {
      "byteLimit": 2048000,
      "rowLimit": 10000
     },
     "inputWidgets": {},
     "nuid": "ef02f5ab-d6d3-4139-b9a8-7c7e57806758",
     "showTitle": false,
     "title": ""
    }
   },
   "outputs": [
    {
     "output_type": "display_data",
     "data": {
      "text/html": [
       "<style scoped>\n",
       "  .table-result-container {\n",
       "    max-height: 300px;\n",
       "    overflow: auto;\n",
       "  }\n",
       "  table, th, td {\n",
       "    border: 1px solid black;\n",
       "    border-collapse: collapse;\n",
       "  }\n",
       "  th, td {\n",
       "    padding: 5px;\n",
       "  }\n",
       "  th {\n",
       "    text-align: left;\n",
       "  }\n",
       "</style><div class='table-result-container'><table class='table-result'><thead style='background-color: white'><tr><th>match_id</th><th>combination_id</th><th>team_1_name</th><th>team_2_name</th></tr></thead><tbody><tr><td>49</td><td>SF_C</td><td>Denmark, Group C</td><td>Iceland, Group D</td></tr><tr><td>50</td><td>SF_C</td><td>France, Group F</td><td>Finland, Group E</td></tr></tbody></table></div>"
      ]
     },
     "metadata": {
      "application/vnd.databricks.v1+output": {
       "addedWidgets": {},
       "aggData": [],
       "aggError": "",
       "aggOverflow": false,
       "aggSchema": [],
       "aggSeriesLimitReached": false,
       "aggType": "",
       "arguments": {},
       "columnCustomDisplayInfos": {},
       "data": [
        [
         "49",
         "SF_C",
         "Denmark, Group C",
         "Iceland, Group D"
        ],
        [
         "50",
         "SF_C",
         "France, Group F",
         "Finland, Group E"
        ]
       ],
       "datasetInfos": [],
       "dbfsResultPath": null,
       "isJsonSchema": true,
       "metadata": {},
       "overflow": false,
       "plotOptions": {
        "customPlotOptions": {},
        "displayType": "table",
        "pivotAggregation": null,
        "pivotColumns": null,
        "xColumns": null,
        "yColumns": null
       },
       "removedWidgets": [],
       "schema": [
        {
         "metadata": "{}",
         "name": "match_id",
         "type": "\"string\""
        },
        {
         "metadata": "{}",
         "name": "combination_id",
         "type": "\"string\""
        },
        {
         "metadata": "{}",
         "name": "team_1_name",
         "type": "\"string\""
        },
        {
         "metadata": "{}",
         "name": "team_2_name",
         "type": "\"string\""
        }
       ],
       "type": "table"
      }
     },
     "output_type": "display_data"
    }
   ],
   "source": [
    "df_semi_final_teams.createOrReplaceTempView(\"semi_final_teams\")\n",
    "semi_final_match_combination_data_df.createOrReplaceTempView(\"semi_final_match_combination_data\")\n",
    "\n",
    "semi_final_sql_query = \"\"\"\n",
    "SELECT d.match_id, d.combination_id, t1.team_name as team_1_name, t2.team_name as team_2_name\n",
    "FROM semi_final_match_combination_data d\n",
    "JOIN semi_final_teams t1 ON d.team1=t1.match_id\n",
    "JOIN semi_final_teams t2 ON d.team2=t2.match_id\n",
    "\"\"\"\n",
    "\n",
    "df_semi_final_match_teams_name = spark.sql(semi_final_sql_query)\n",
    "\n",
    "display(df_semi_final_match_teams_name)"
   ]
  },
  {
   "cell_type": "code",
   "execution_count": 0,
   "metadata": {
    "application/vnd.databricks.v1+cell": {
     "cellMetadata": {
      "byteLimit": 2048000,
      "rowLimit": 10000
     },
     "inputWidgets": {},
     "nuid": "70fcc052-fc88-446a-9923-f26a304945dc",
     "showTitle": false,
     "title": ""
    }
   },
   "outputs": [
    {
     "output_type": "stream",
     "name": "stdout",
     "output_type": "stream",
     "text": [
      "team_1_goal 5\nteam_2_goal 3\nteam_1_goal 5\nteam_2_goal 4\n"
     ]
    },
    {
     "output_type": "display_data",
     "data": {
      "text/html": [
       "<style scoped>\n",
       "  .table-result-container {\n",
       "    max-height: 300px;\n",
       "    overflow: auto;\n",
       "  }\n",
       "  table, th, td {\n",
       "    border: 1px solid black;\n",
       "    border-collapse: collapse;\n",
       "  }\n",
       "  th, td {\n",
       "    padding: 5px;\n",
       "  }\n",
       "  th {\n",
       "    text-align: left;\n",
       "  }\n",
       "</style><div class='table-result-container'><table class='table-result'><thead style='background-color: white'><tr><th>match_id</th><th>team_1_name</th><th>team_2_name</th><th>team_1_goal</th><th>team_2_goal</th><th>winner</th><th>loser</th></tr></thead><tbody><tr><td>49</td><td>Denmark, Group C</td><td>Iceland, Group D</td><td>5</td><td>3</td><td>Denmark, Group C</td><td>Iceland, Group D</td></tr><tr><td>50</td><td>France, Group F</td><td>Finland, Group E</td><td>5</td><td>4</td><td>France, Group F</td><td>Finland, Group E</td></tr></tbody></table></div>"
      ]
     },
     "metadata": {
      "application/vnd.databricks.v1+output": {
       "addedWidgets": {},
       "aggData": [],
       "aggError": "",
       "aggOverflow": false,
       "aggSchema": [],
       "aggSeriesLimitReached": false,
       "aggType": "",
       "arguments": {},
       "columnCustomDisplayInfos": {},
       "data": [
        [
         "49",
         "Denmark, Group C",
         "Iceland, Group D",
         5,
         3,
         "Denmark, Group C",
         "Iceland, Group D"
        ],
        [
         "50",
         "France, Group F",
         "Finland, Group E",
         5,
         4,
         "France, Group F",
         "Finland, Group E"
        ]
       ],
       "datasetInfos": [],
       "dbfsResultPath": null,
       "isJsonSchema": true,
       "metadata": {},
       "overflow": false,
       "plotOptions": {
        "customPlotOptions": {},
        "displayType": "table",
        "pivotAggregation": null,
        "pivotColumns": null,
        "xColumns": null,
        "yColumns": null
       },
       "removedWidgets": [],
       "schema": [
        {
         "metadata": "{}",
         "name": "match_id",
         "type": "\"string\""
        },
        {
         "metadata": "{}",
         "name": "team_1_name",
         "type": "\"string\""
        },
        {
         "metadata": "{}",
         "name": "team_2_name",
         "type": "\"string\""
        },
        {
         "metadata": "{}",
         "name": "team_1_goal",
         "type": "\"long\""
        },
        {
         "metadata": "{}",
         "name": "team_2_goal",
         "type": "\"long\""
        },
        {
         "metadata": "{}",
         "name": "winner",
         "type": "\"string\""
        },
        {
         "metadata": "{}",
         "name": "loser",
         "type": "\"string\""
        }
       ],
       "type": "table"
      }
     },
     "output_type": "display_data"
    }
   ],
   "source": [
    "# semi final match result\n",
    "semi_final_match_data=[]\n",
    "# third_pos_match_data=[]\n",
    "for row in df_semi_final_match_teams_name.collect():\n",
    "    match_id=row['match_id']\n",
    "    team_1_name=row['team_1_name']\n",
    "    team_2_name=row['team_2_name']\n",
    "    while True:\n",
    "    # Generate random number of goals for each team\n",
    "        team_1_goal = random.randint(0, 5)\n",
    "        team_2_goal = random.randint(0, 5)\n",
    "        print(\"team_1_goal\",team_1_goal)\n",
    "        print(\"team_2_goal\",team_2_goal)\n",
    "\n",
    "        # Regenerate the goals if they are equal\n",
    "        if team_1_goal != team_2_goal:\n",
    "            # print('here')\n",
    "            break\n",
    "\n",
    "    # Determine the winner\n",
    "    winner = team_1_name if team_1_goal > team_2_goal else team_2_name if team_2_goal > team_1_goal else \"Draw\"\n",
    "    loser = team_1_name if team_1_goal < team_2_goal else team_2_name if team_2_goal < team_1_goal else \"Draw\"\n",
    "\n",
    "    semi_final_match_goal_row= Row(\n",
    "        match_id=match_id,\n",
    "        team_1_name=team_1_name,\n",
    "        team_2_name=team_2_name,\n",
    "        team_1_goal=team_1_goal,\n",
    "        team_2_goal=team_2_goal,\n",
    "        winner=winner,\n",
    "        loser=loser\n",
    "    )\n",
    "    semi_final_match_data.append(semi_final_match_goal_row)\n",
    "\n",
    "df_semi_final_match_goals_result = spark.createDataFrame(semi_final_match_data)\n",
    "\n",
    "display(df_semi_final_match_goals_result)\n",
    "\n"
   ]
  },
  {
   "cell_type": "code",
   "execution_count": 0,
   "metadata": {
    "application/vnd.databricks.v1+cell": {
     "cellMetadata": {
      "byteLimit": 2048000,
      "rowLimit": 10000
     },
     "inputWidgets": {},
     "nuid": "b5ccca8b-f570-4c4c-a189-9a9297bc5eed",
     "showTitle": false,
     "title": ""
    }
   },
   "outputs": [
    {
     "output_type": "display_data",
     "data": {
      "text/html": [
       "<style scoped>\n",
       "  .table-result-container {\n",
       "    max-height: 300px;\n",
       "    overflow: auto;\n",
       "  }\n",
       "  table, th, td {\n",
       "    border: 1px solid black;\n",
       "    border-collapse: collapse;\n",
       "  }\n",
       "  th, td {\n",
       "    padding: 5px;\n",
       "  }\n",
       "  th {\n",
       "    text-align: left;\n",
       "  }\n",
       "</style><div class='table-result-container'><table class='table-result'><thead style='background-color: white'><tr><th>team_name</th><th>match_id</th></tr></thead><tbody><tr><td>Denmark, Group C</td><td>49</td></tr><tr><td>France, Group F</td><td>50</td></tr></tbody></table></div>"
      ]
     },
     "metadata": {
      "application/vnd.databricks.v1+output": {
       "addedWidgets": {},
       "aggData": [],
       "aggError": "",
       "aggOverflow": false,
       "aggSchema": [],
       "aggSeriesLimitReached": false,
       "aggType": "",
       "arguments": {},
       "columnCustomDisplayInfos": {},
       "data": [
        [
         "Denmark, Group C",
         "49"
        ],
        [
         "France, Group F",
         "50"
        ]
       ],
       "datasetInfos": [],
       "dbfsResultPath": null,
       "isJsonSchema": true,
       "metadata": {},
       "overflow": false,
       "plotOptions": {
        "customPlotOptions": {},
        "displayType": "table",
        "pivotAggregation": null,
        "pivotColumns": null,
        "xColumns": null,
        "yColumns": null
       },
       "removedWidgets": [],
       "schema": [
        {
         "metadata": "{}",
         "name": "team_name",
         "type": "\"string\""
        },
        {
         "metadata": "{}",
         "name": "match_id",
         "type": "\"string\""
        }
       ],
       "type": "table"
      }
     },
     "output_type": "display_data"
    }
   ],
   "source": [
    "df_final_teams= df_semi_final_match_goals_result.select(col(\"winner\").alias(\"team_name\"),col(\"match_id\"))\n",
    "display(df_final_teams)\n"
   ]
  },
  {
   "cell_type": "code",
   "execution_count": 0,
   "metadata": {
    "application/vnd.databricks.v1+cell": {
     "cellMetadata": {
      "byteLimit": 2048000,
      "rowLimit": 10000
     },
     "inputWidgets": {},
     "nuid": "da5da223-c19a-4a2f-a3ac-41c04cba1c8d",
     "showTitle": false,
     "title": ""
    }
   },
   "outputs": [
    {
     "output_type": "display_data",
     "data": {
      "text/html": [
       "<style scoped>\n",
       "  .table-result-container {\n",
       "    max-height: 300px;\n",
       "    overflow: auto;\n",
       "  }\n",
       "  table, th, td {\n",
       "    border: 1px solid black;\n",
       "    border-collapse: collapse;\n",
       "  }\n",
       "  th, td {\n",
       "    padding: 5px;\n",
       "  }\n",
       "  th {\n",
       "    text-align: left;\n",
       "  }\n",
       "</style><div class='table-result-container'><table class='table-result'><thead style='background-color: white'><tr><th>match_id</th><th>combination_id</th><th>combination</th><th>team1</th><th>team2</th></tr></thead><tbody><tr><td>51</td><td>F_C</td><td>List()</td><td>49</td><td>50</td></tr></tbody></table></div>"
      ]
     },
     "metadata": {
      "application/vnd.databricks.v1+output": {
       "addedWidgets": {},
       "aggData": [],
       "aggError": "",
       "aggOverflow": false,
       "aggSchema": [],
       "aggSeriesLimitReached": false,
       "aggType": "",
       "arguments": {},
       "columnCustomDisplayInfos": {},
       "data": [
        [
         "51",
         "F_C",
         [],
         "49",
         "50"
        ]
       ],
       "datasetInfos": [],
       "dbfsResultPath": null,
       "isJsonSchema": true,
       "metadata": {},
       "overflow": false,
       "plotOptions": {
        "customPlotOptions": {},
        "displayType": "table",
        "pivotAggregation": null,
        "pivotColumns": null,
        "xColumns": null,
        "yColumns": null
       },
       "removedWidgets": [],
       "schema": [
        {
         "metadata": "{}",
         "name": "match_id",
         "type": "\"string\""
        },
        {
         "metadata": "{}",
         "name": "combination_id",
         "type": "\"string\""
        },
        {
         "metadata": "{}",
         "name": "combination",
         "type": "{\"type\":\"array\",\"elementType\":\"string\",\"containsNull\":true}"
        },
        {
         "metadata": "{}",
         "name": "team1",
         "type": "\"string\""
        },
        {
         "metadata": "{}",
         "name": "team2",
         "type": "\"string\""
        }
       ],
       "type": "table"
      }
     },
     "output_type": "display_data"
    }
   ],
   "source": [
    "# final match\n",
    "final_match_combination_data = [\n",
    "    ('51','F_C', [],'49', '50' ),\n",
    "]\n",
    "final_match_combination_data_df= spark.createDataFrame(final_match_combination_data, schema=match_combination_schema)\n",
    "display(final_match_combination_data_df)\n"
   ]
  },
  {
   "cell_type": "code",
   "execution_count": 0,
   "metadata": {
    "application/vnd.databricks.v1+cell": {
     "cellMetadata": {
      "byteLimit": 2048000,
      "rowLimit": 10000
     },
     "inputWidgets": {},
     "nuid": "70cb44b3-d7e4-4fa7-8eb1-c305da413e9a",
     "showTitle": false,
     "title": ""
    }
   },
   "outputs": [
    {
     "output_type": "display_data",
     "data": {
      "text/html": [
       "<style scoped>\n",
       "  .table-result-container {\n",
       "    max-height: 300px;\n",
       "    overflow: auto;\n",
       "  }\n",
       "  table, th, td {\n",
       "    border: 1px solid black;\n",
       "    border-collapse: collapse;\n",
       "  }\n",
       "  th, td {\n",
       "    padding: 5px;\n",
       "  }\n",
       "  th {\n",
       "    text-align: left;\n",
       "  }\n",
       "</style><div class='table-result-container'><table class='table-result'><thead style='background-color: white'><tr><th>match_id</th><th>combination_id</th><th>team_1_name</th><th>team_2_name</th></tr></thead><tbody><tr><td>51</td><td>F_C</td><td>Denmark, Group C</td><td>France, Group F</td></tr></tbody></table></div>"
      ]
     },
     "metadata": {
      "application/vnd.databricks.v1+output": {
       "addedWidgets": {},
       "aggData": [],
       "aggError": "",
       "aggOverflow": false,
       "aggSchema": [],
       "aggSeriesLimitReached": false,
       "aggType": "",
       "arguments": {},
       "columnCustomDisplayInfos": {},
       "data": [
        [
         "51",
         "F_C",
         "Denmark, Group C",
         "France, Group F"
        ]
       ],
       "datasetInfos": [],
       "dbfsResultPath": null,
       "isJsonSchema": true,
       "metadata": {},
       "overflow": false,
       "plotOptions": {
        "customPlotOptions": {},
        "displayType": "table",
        "pivotAggregation": null,
        "pivotColumns": null,
        "xColumns": null,
        "yColumns": null
       },
       "removedWidgets": [],
       "schema": [
        {
         "metadata": "{}",
         "name": "match_id",
         "type": "\"string\""
        },
        {
         "metadata": "{}",
         "name": "combination_id",
         "type": "\"string\""
        },
        {
         "metadata": "{}",
         "name": "team_1_name",
         "type": "\"string\""
        },
        {
         "metadata": "{}",
         "name": "team_2_name",
         "type": "\"string\""
        }
       ],
       "type": "table"
      }
     },
     "output_type": "display_data"
    }
   ],
   "source": [
    "df_final_teams.createOrReplaceTempView(\"final_teams\")\n",
    "final_match_combination_data_df.createOrReplaceTempView(\"final_match_combination_data\")\n",
    "\n",
    "semi_final_sql_query = \"\"\"\n",
    "SELECT d.match_id,d.combination_id, t1.team_name as team_1_name, t2.team_name as team_2_name\n",
    "FROM final_match_combination_data d\n",
    "JOIN final_teams t1 ON d.team1=t1.match_id\n",
    "JOIN final_teams t2 ON d.team2=t2.match_id\n",
    "\"\"\"\n",
    "\n",
    "df_final_match_teams_name = spark.sql(semi_final_sql_query)\n",
    "\n",
    "display(df_final_match_teams_name)"
   ]
  },
  {
   "cell_type": "code",
   "execution_count": 0,
   "metadata": {
    "application/vnd.databricks.v1+cell": {
     "cellMetadata": {
      "byteLimit": 2048000,
      "rowLimit": 10000
     },
     "inputWidgets": {},
     "nuid": "67eccc36-5566-42fd-8488-1f04e1cda0d5",
     "showTitle": false,
     "title": ""
    }
   },
   "outputs": [
    {
     "output_type": "stream",
     "name": "stdout",
     "output_type": "stream",
     "text": [
      "team_1_goal 0\nteam_2_goal 4\n"
     ]
    },
    {
     "output_type": "display_data",
     "data": {
      "text/html": [
       "<style scoped>\n",
       "  .table-result-container {\n",
       "    max-height: 300px;\n",
       "    overflow: auto;\n",
       "  }\n",
       "  table, th, td {\n",
       "    border: 1px solid black;\n",
       "    border-collapse: collapse;\n",
       "  }\n",
       "  th, td {\n",
       "    padding: 5px;\n",
       "  }\n",
       "  th {\n",
       "    text-align: left;\n",
       "  }\n",
       "</style><div class='table-result-container'><table class='table-result'><thead style='background-color: white'><tr><th>match_id</th><th>team_1_name</th><th>team_2_name</th><th>team_1_goal</th><th>team_2_goal</th><th>winner</th></tr></thead><tbody><tr><td>51</td><td>Denmark, Group C</td><td>France, Group F</td><td>0</td><td>4</td><td>France, Group F</td></tr></tbody></table></div>"
      ]
     },
     "metadata": {
      "application/vnd.databricks.v1+output": {
       "addedWidgets": {},
       "aggData": [],
       "aggError": "",
       "aggOverflow": false,
       "aggSchema": [],
       "aggSeriesLimitReached": false,
       "aggType": "",
       "arguments": {},
       "columnCustomDisplayInfos": {},
       "data": [
        [
         "51",
         "Denmark, Group C",
         "France, Group F",
         0,
         4,
         "France, Group F"
        ]
       ],
       "datasetInfos": [],
       "dbfsResultPath": null,
       "isJsonSchema": true,
       "metadata": {},
       "overflow": false,
       "plotOptions": {
        "customPlotOptions": {},
        "displayType": "table",
        "pivotAggregation": null,
        "pivotColumns": null,
        "xColumns": null,
        "yColumns": null
       },
       "removedWidgets": [],
       "schema": [
        {
         "metadata": "{}",
         "name": "match_id",
         "type": "\"string\""
        },
        {
         "metadata": "{}",
         "name": "team_1_name",
         "type": "\"string\""
        },
        {
         "metadata": "{}",
         "name": "team_2_name",
         "type": "\"string\""
        },
        {
         "metadata": "{}",
         "name": "team_1_goal",
         "type": "\"long\""
        },
        {
         "metadata": "{}",
         "name": "team_2_goal",
         "type": "\"long\""
        },
        {
         "metadata": "{}",
         "name": "winner",
         "type": "\"string\""
        }
       ],
       "type": "table"
      }
     },
     "output_type": "display_data"
    }
   ],
   "source": [
    "# final match result\n",
    "final_match_data=[]\n",
    "for row in df_final_match_teams_name.collect():\n",
    "    match_id=row['match_id']\n",
    "    team_1_name=row['team_1_name']\n",
    "    team_2_name=row['team_2_name']\n",
    "    while True:\n",
    "    # Generate random number of goals for each team\n",
    "        team_1_goal = random.randint(0, 5)\n",
    "        team_2_goal = random.randint(0, 5)\n",
    "        print(\"team_1_goal\",team_1_goal)\n",
    "        print(\"team_2_goal\",team_2_goal)\n",
    "\n",
    "        # Regenerate the goals if they are equal\n",
    "        if team_1_goal != team_2_goal:\n",
    "            break\n",
    "\n",
    "    # Determine the winner\n",
    "    winner = team_1_name if team_1_goal > team_2_goal else team_2_name if team_2_goal > team_1_goal else \"Draw\"\n",
    "\n",
    "    final_match_goal_row= Row(\n",
    "        match_id=match_id,\n",
    "        team_1_name=team_1_name,\n",
    "        team_2_name=team_2_name,\n",
    "        team_1_goal=team_1_goal,\n",
    "        team_2_goal=team_2_goal,\n",
    "        winner=winner\n",
    "    )\n",
    "    final_match_data.append(final_match_goal_row)\n",
    "\n",
    "df_final_match_goals_result = spark.createDataFrame(final_match_data)\n",
    "display(df_final_match_goals_result)\n"
   ]
  },
  {
   "cell_type": "code",
   "execution_count": 0,
   "metadata": {
    "application/vnd.databricks.v1+cell": {
     "cellMetadata": {
      "byteLimit": 2048000,
      "rowLimit": 10000
     },
     "inputWidgets": {},
     "nuid": "f74719df-c7ed-4d99-af4a-63e653993d2e",
     "showTitle": false,
     "title": ""
    }
   },
   "outputs": [
    {
     "output_type": "display_data",
     "data": {
      "text/html": [
       "<style scoped>\n",
       "  .table-result-container {\n",
       "    max-height: 300px;\n",
       "    overflow: auto;\n",
       "  }\n",
       "  table, th, td {\n",
       "    border: 1px solid black;\n",
       "    border-collapse: collapse;\n",
       "  }\n",
       "  th, td {\n",
       "    padding: 5px;\n",
       "  }\n",
       "  th {\n",
       "    text-align: left;\n",
       "  }\n",
       "</style><div class='table-result-container'><table class='table-result'><thead style='background-color: white'><tr><th>team_name</th></tr></thead><tbody><tr><td>France, Group F</td></tr></tbody></table></div>"
      ]
     },
     "metadata": {
      "application/vnd.databricks.v1+output": {
       "addedWidgets": {},
       "aggData": [],
       "aggError": "",
       "aggOverflow": false,
       "aggSchema": [],
       "aggSeriesLimitReached": false,
       "aggType": "",
       "arguments": {},
       "columnCustomDisplayInfos": {},
       "data": [
        [
         "France, Group F"
        ]
       ],
       "datasetInfos": [],
       "dbfsResultPath": null,
       "isJsonSchema": true,
       "metadata": {},
       "overflow": false,
       "plotOptions": {
        "customPlotOptions": {},
        "displayType": "table",
        "pivotAggregation": null,
        "pivotColumns": null,
        "xColumns": null,
        "yColumns": null
       },
       "removedWidgets": [],
       "schema": [
        {
         "metadata": "{}",
         "name": "team_name",
         "type": "\"string\""
        }
       ],
       "type": "table"
      }
     },
     "output_type": "display_data"
    }
   ],
   "source": [
    "df_winner= df_final_match_goals_result.select(col(\"winner\").alias(\"team_name\"))\n",
    "display(df_winner)"
   ]
  },
  {
   "cell_type": "code",
   "execution_count": 0,
   "metadata": {
    "application/vnd.databricks.v1+cell": {
     "cellMetadata": {
      "byteLimit": 2048000,
      "rowLimit": 10000
     },
     "inputWidgets": {},
     "nuid": "18cc0a0f-09f9-4d45-9eb8-56e55f6c6bbf",
     "showTitle": false,
     "title": ""
    }
   },
   "outputs": [
    {
     "output_type": "display_data",
     "data": {
      "text/html": [
       "<style scoped>\n",
       "  .table-result-container {\n",
       "    max-height: 300px;\n",
       "    overflow: auto;\n",
       "  }\n",
       "  table, th, td {\n",
       "    border: 1px solid black;\n",
       "    border-collapse: collapse;\n",
       "  }\n",
       "  th, td {\n",
       "    padding: 5px;\n",
       "  }\n",
       "  th {\n",
       "    text-align: left;\n",
       "  }\n",
       "</style><div class='table-result-container'><table class='table-result'><thead style='background-color: white'><tr><th>team_name</th><th>match_id</th></tr></thead><tbody><tr><td>Iceland, Group D</td><td>49</td></tr><tr><td>Finland, Group E</td><td>50</td></tr></tbody></table></div>"
      ]
     },
     "metadata": {
      "application/vnd.databricks.v1+output": {
       "addedWidgets": {},
       "aggData": [],
       "aggError": "",
       "aggOverflow": false,
       "aggSchema": [],
       "aggSeriesLimitReached": false,
       "aggType": "",
       "arguments": {},
       "columnCustomDisplayInfos": {},
       "data": [
        [
         "Iceland, Group D",
         "49"
        ],
        [
         "Finland, Group E",
         "50"
        ]
       ],
       "datasetInfos": [],
       "dbfsResultPath": null,
       "isJsonSchema": true,
       "metadata": {},
       "overflow": false,
       "plotOptions": {
        "customPlotOptions": {},
        "displayType": "table",
        "pivotAggregation": null,
        "pivotColumns": null,
        "xColumns": null,
        "yColumns": null
       },
       "removedWidgets": [],
       "schema": [
        {
         "metadata": "{}",
         "name": "team_name",
         "type": "\"string\""
        },
        {
         "metadata": "{}",
         "name": "match_id",
         "type": "\"string\""
        }
       ],
       "type": "table"
      }
     },
     "output_type": "display_data"
    }
   ],
   "source": [
    "#3rd position final match teams\n",
    "df_third_pos_teams= df_semi_final_match_goals_result.select(col(\"loser\").alias(\"team_name\"),col(\"match_id\"))\n",
    "display(df_third_pos_teams)"
   ]
  },
  {
   "cell_type": "code",
   "execution_count": 0,
   "metadata": {
    "application/vnd.databricks.v1+cell": {
     "cellMetadata": {
      "byteLimit": 2048000,
      "rowLimit": 10000
     },
     "inputWidgets": {},
     "nuid": "55bc25ca-6cda-4e58-a188-208b2f64cdb6",
     "showTitle": false,
     "title": ""
    }
   },
   "outputs": [
    {
     "output_type": "display_data",
     "data": {
      "text/html": [
       "<style scoped>\n",
       "  .table-result-container {\n",
       "    max-height: 300px;\n",
       "    overflow: auto;\n",
       "  }\n",
       "  table, th, td {\n",
       "    border: 1px solid black;\n",
       "    border-collapse: collapse;\n",
       "  }\n",
       "  th, td {\n",
       "    padding: 5px;\n",
       "  }\n",
       "  th {\n",
       "    text-align: left;\n",
       "  }\n",
       "</style><div class='table-result-container'><table class='table-result'><thead style='background-color: white'><tr><th>match_id</th><th>combination_id</th><th>combination</th><th>team1</th><th>team2</th></tr></thead><tbody><tr><td>52</td><td>F_C</td><td>List()</td><td>49</td><td>50</td></tr></tbody></table></div>"
      ]
     },
     "metadata": {
      "application/vnd.databricks.v1+output": {
       "addedWidgets": {},
       "aggData": [],
       "aggError": "",
       "aggOverflow": false,
       "aggSchema": [],
       "aggSeriesLimitReached": false,
       "aggType": "",
       "arguments": {},
       "columnCustomDisplayInfos": {},
       "data": [
        [
         "52",
         "F_C",
         [],
         "49",
         "50"
        ]
       ],
       "datasetInfos": [],
       "dbfsResultPath": null,
       "isJsonSchema": true,
       "metadata": {},
       "overflow": false,
       "plotOptions": {
        "customPlotOptions": {},
        "displayType": "table",
        "pivotAggregation": null,
        "pivotColumns": null,
        "xColumns": null,
        "yColumns": null
       },
       "removedWidgets": [],
       "schema": [
        {
         "metadata": "{}",
         "name": "match_id",
         "type": "\"string\""
        },
        {
         "metadata": "{}",
         "name": "combination_id",
         "type": "\"string\""
        },
        {
         "metadata": "{}",
         "name": "combination",
         "type": "{\"type\":\"array\",\"elementType\":\"string\",\"containsNull\":true}"
        },
        {
         "metadata": "{}",
         "name": "team1",
         "type": "\"string\""
        },
        {
         "metadata": "{}",
         "name": "team2",
         "type": "\"string\""
        }
       ],
       "type": "table"
      }
     },
     "output_type": "display_data"
    }
   ],
   "source": [
    "third_pos_match_combination_data = [\n",
    "    ('52','F_C', [],'49', '50' ),\n",
    "]\n",
    "third_pos_final_match_combination_data_df= spark.createDataFrame(third_pos_match_combination_data, schema=match_combination_schema)\n",
    "display(third_pos_final_match_combination_data_df)"
   ]
  },
  {
   "cell_type": "code",
   "execution_count": 0,
   "metadata": {
    "application/vnd.databricks.v1+cell": {
     "cellMetadata": {
      "byteLimit": 2048000,
      "rowLimit": 10000
     },
     "inputWidgets": {},
     "nuid": "3afdb5c1-fa87-43d4-9621-c7998abfa765",
     "showTitle": false,
     "title": ""
    }
   },
   "outputs": [
    {
     "output_type": "display_data",
     "data": {
      "text/html": [
       "<style scoped>\n",
       "  .table-result-container {\n",
       "    max-height: 300px;\n",
       "    overflow: auto;\n",
       "  }\n",
       "  table, th, td {\n",
       "    border: 1px solid black;\n",
       "    border-collapse: collapse;\n",
       "  }\n",
       "  th, td {\n",
       "    padding: 5px;\n",
       "  }\n",
       "  th {\n",
       "    text-align: left;\n",
       "  }\n",
       "</style><div class='table-result-container'><table class='table-result'><thead style='background-color: white'><tr><th>match_id</th><th>combination_id</th><th>team_1_name</th><th>team_2_name</th></tr></thead><tbody><tr><td>52</td><td>F_C</td><td>Iceland, Group D</td><td>Finland, Group E</td></tr></tbody></table></div>"
      ]
     },
     "metadata": {
      "application/vnd.databricks.v1+output": {
       "addedWidgets": {},
       "aggData": [],
       "aggError": "",
       "aggOverflow": false,
       "aggSchema": [],
       "aggSeriesLimitReached": false,
       "aggType": "",
       "arguments": {},
       "columnCustomDisplayInfos": {},
       "data": [
        [
         "52",
         "F_C",
         "Iceland, Group D",
         "Finland, Group E"
        ]
       ],
       "datasetInfos": [],
       "dbfsResultPath": null,
       "isJsonSchema": true,
       "metadata": {},
       "overflow": false,
       "plotOptions": {
        "customPlotOptions": {},
        "displayType": "table",
        "pivotAggregation": null,
        "pivotColumns": null,
        "xColumns": null,
        "yColumns": null
       },
       "removedWidgets": [],
       "schema": [
        {
         "metadata": "{}",
         "name": "match_id",
         "type": "\"string\""
        },
        {
         "metadata": "{}",
         "name": "combination_id",
         "type": "\"string\""
        },
        {
         "metadata": "{}",
         "name": "team_1_name",
         "type": "\"string\""
        },
        {
         "metadata": "{}",
         "name": "team_2_name",
         "type": "\"string\""
        }
       ],
       "type": "table"
      }
     },
     "output_type": "display_data"
    }
   ],
   "source": [
    "#3rd position final match tema name dataframe\n",
    "df_third_pos_teams.createOrReplaceTempView(\"final_teams\")\n",
    "third_pos_final_match_combination_data_df.createOrReplaceTempView(\"final_match_combination_data\")\n",
    "\n",
    "third_pos_final_sql_query = \"\"\"\n",
    "SELECT d.match_id,d.combination_id, t1.team_name as team_1_name, t2.team_name as team_2_name\n",
    "FROM final_match_combination_data d\n",
    "JOIN final_teams t1 ON d.team1=t1.match_id\n",
    "JOIN final_teams t2 ON d.team2=t2.match_id\n",
    "\"\"\"\n",
    "\n",
    "df_third_pos_match_teams_name = spark.sql(third_pos_final_sql_query)\n",
    "\n",
    "display(df_third_pos_match_teams_name)"
   ]
  },
  {
   "cell_type": "code",
   "execution_count": 0,
   "metadata": {
    "application/vnd.databricks.v1+cell": {
     "cellMetadata": {
      "byteLimit": 2048000,
      "rowLimit": 10000
     },
     "inputWidgets": {},
     "nuid": "ad821560-0dd9-4497-ab6e-fd62b50f01eb",
     "showTitle": false,
     "title": ""
    }
   },
   "outputs": [
    {
     "output_type": "stream",
     "name": "stdout",
     "output_type": "stream",
     "text": [
      "team_1_goal 2\nteam_2_goal 4\n"
     ]
    },
    {
     "output_type": "display_data",
     "data": {
      "text/html": [
       "<style scoped>\n",
       "  .table-result-container {\n",
       "    max-height: 300px;\n",
       "    overflow: auto;\n",
       "  }\n",
       "  table, th, td {\n",
       "    border: 1px solid black;\n",
       "    border-collapse: collapse;\n",
       "  }\n",
       "  th, td {\n",
       "    padding: 5px;\n",
       "  }\n",
       "  th {\n",
       "    text-align: left;\n",
       "  }\n",
       "</style><div class='table-result-container'><table class='table-result'><thead style='background-color: white'><tr><th>match_id</th><th>team_1_name</th><th>team_2_name</th><th>team_1_goal</th><th>team_2_goal</th><th>winner</th></tr></thead><tbody><tr><td>52</td><td>Iceland, Group D</td><td>Finland, Group E</td><td>2</td><td>4</td><td>Finland, Group E</td></tr></tbody></table></div>"
      ]
     },
     "metadata": {
      "application/vnd.databricks.v1+output": {
       "addedWidgets": {},
       "aggData": [],
       "aggError": "",
       "aggOverflow": false,
       "aggSchema": [],
       "aggSeriesLimitReached": false,
       "aggType": "",
       "arguments": {},
       "columnCustomDisplayInfos": {},
       "data": [
        [
         "52",
         "Iceland, Group D",
         "Finland, Group E",
         2,
         4,
         "Finland, Group E"
        ]
       ],
       "datasetInfos": [],
       "dbfsResultPath": null,
       "isJsonSchema": true,
       "metadata": {},
       "overflow": false,
       "plotOptions": {
        "customPlotOptions": {},
        "displayType": "table",
        "pivotAggregation": null,
        "pivotColumns": null,
        "xColumns": null,
        "yColumns": null
       },
       "removedWidgets": [],
       "schema": [
        {
         "metadata": "{}",
         "name": "match_id",
         "type": "\"string\""
        },
        {
         "metadata": "{}",
         "name": "team_1_name",
         "type": "\"string\""
        },
        {
         "metadata": "{}",
         "name": "team_2_name",
         "type": "\"string\""
        },
        {
         "metadata": "{}",
         "name": "team_1_goal",
         "type": "\"long\""
        },
        {
         "metadata": "{}",
         "name": "team_2_goal",
         "type": "\"long\""
        },
        {
         "metadata": "{}",
         "name": "winner",
         "type": "\"string\""
        }
       ],
       "type": "table"
      }
     },
     "output_type": "display_data"
    }
   ],
   "source": [
    "# third position match result\n",
    "third_pos_match_data=[]\n",
    "for row in df_third_pos_match_teams_name.collect():\n",
    "    match_id=row['match_id']\n",
    "    team_1_name=row['team_1_name']\n",
    "    team_2_name=row['team_2_name']\n",
    "    while True:\n",
    "    # Generate random number of goals for each team\n",
    "        team_1_goal = random.randint(0, 5)\n",
    "        team_2_goal = random.randint(0, 5)\n",
    "        print(\"team_1_goal\",team_1_goal)\n",
    "        print(\"team_2_goal\",team_2_goal)\n",
    "\n",
    "        # Regenerate the goals if they are equal\n",
    "        if team_1_goal != team_2_goal:\n",
    "            break\n",
    "\n",
    "    # Determine the winner\n",
    "    winner = team_1_name if team_1_goal > team_2_goal else team_2_name if team_2_goal > team_1_goal else \"Draw\"\n",
    "\n",
    "    third_pos_final_match_goal_row= Row(\n",
    "        match_id=match_id,\n",
    "        team_1_name=team_1_name,\n",
    "        team_2_name=team_2_name,\n",
    "        team_1_goal=team_1_goal,\n",
    "        team_2_goal=team_2_goal,\n",
    "        winner=winner\n",
    "    )\n",
    "    third_pos_match_data.append(third_pos_final_match_goal_row)\n",
    "\n",
    "df_third_pos_final_match_goals_result = spark.createDataFrame(third_pos_match_data)\n",
    "display(df_third_pos_final_match_goals_result)\n"
   ]
  },
  {
   "cell_type": "code",
   "execution_count": 0,
   "metadata": {
    "application/vnd.databricks.v1+cell": {
     "cellMetadata": {
      "byteLimit": 2048000,
      "rowLimit": 10000
     },
     "inputWidgets": {},
     "nuid": "26bfed8c-bb9c-4569-8a11-907b25d01ea7",
     "showTitle": false,
     "title": ""
    }
   },
   "outputs": [
    {
     "output_type": "display_data",
     "data": {
      "text/html": [
       "<style scoped>\n",
       "  .table-result-container {\n",
       "    max-height: 300px;\n",
       "    overflow: auto;\n",
       "  }\n",
       "  table, th, td {\n",
       "    border: 1px solid black;\n",
       "    border-collapse: collapse;\n",
       "  }\n",
       "  th, td {\n",
       "    padding: 5px;\n",
       "  }\n",
       "  th {\n",
       "    text-align: left;\n",
       "  }\n",
       "</style><div class='table-result-container'><table class='table-result'><thead style='background-color: white'><tr><th>team_name</th></tr></thead><tbody><tr><td>Finland, Group E</td></tr></tbody></table></div>"
      ]
     },
     "metadata": {
      "application/vnd.databricks.v1+output": {
       "addedWidgets": {},
       "aggData": [],
       "aggError": "",
       "aggOverflow": false,
       "aggSchema": [],
       "aggSeriesLimitReached": false,
       "aggType": "",
       "arguments": {},
       "columnCustomDisplayInfos": {},
       "data": [
        [
         "Finland, Group E"
        ]
       ],
       "datasetInfos": [],
       "dbfsResultPath": null,
       "isJsonSchema": true,
       "metadata": {},
       "overflow": false,
       "plotOptions": {
        "customPlotOptions": {},
        "displayType": "table",
        "pivotAggregation": null,
        "pivotColumns": null,
        "xColumns": null,
        "yColumns": null
       },
       "removedWidgets": [],
       "schema": [
        {
         "metadata": "{}",
         "name": "team_name",
         "type": "\"string\""
        }
       ],
       "type": "table"
      }
     },
     "output_type": "display_data"
    }
   ],
   "source": [
    "df_third_pos_winner= df_third_pos_final_match_goals_result.select(col(\"winner\").alias(\"team_name\"))\n",
    "display(df_third_pos_winner)"
   ]
  },
  {
   "cell_type": "code",
   "execution_count": 0,
   "metadata": {
    "application/vnd.databricks.v1+cell": {
     "cellMetadata": {
      "byteLimit": 2048000,
      "rowLimit": 10000
     },
     "inputWidgets": {},
     "nuid": "3860a781-7596-4a5f-af4f-5129c9db6242",
     "showTitle": false,
     "title": ""
    }
   },
   "outputs": [
    {
     "output_type": "display_data",
     "data": {
      "text/html": [
       "<style scoped>\n",
       "  .table-result-container {\n",
       "    max-height: 300px;\n",
       "    overflow: auto;\n",
       "  }\n",
       "  table, th, td {\n",
       "    border: 1px solid black;\n",
       "    border-collapse: collapse;\n",
       "  }\n",
       "  th, td {\n",
       "    padding: 5px;\n",
       "  }\n",
       "  th {\n",
       "    text-align: left;\n",
       "  }\n",
       "</style><div class='table-result-container'><table class='table-result'><thead style='background-color: white'><tr><th>team_name</th><th>group_name</th><th>matches_played</th><th>match_won</th><th>match_loss</th><th>match_drawn</th><th>goal_scored</th><th>goal_conceded</th><th>goal_difference</th><th>points</th><th>rank</th><th>position</th></tr></thead><tbody><tr><td>Germany, Group A</td><td>Group A</td><td>3</td><td>3</td><td>0</td><td>0</td><td>14</td><td>4</td><td>10</td><td>9</td><td>1</td><td>1-Group A</td></tr><tr><td>Latvia, Group A</td><td>Group A</td><td>3</td><td>1</td><td>1</td><td>1</td><td>6</td><td>8</td><td>-2</td><td>4</td><td>2</td><td>2-Group A</td></tr><tr><td>Greece, Group B</td><td>Group B</td><td>3</td><td>1</td><td>0</td><td>2</td><td>10</td><td>5</td><td>5</td><td>5</td><td>1</td><td>1-Group B</td></tr><tr><td>Czech Republic, Group B</td><td>Group B</td><td>3</td><td>1</td><td>0</td><td>2</td><td>7</td><td>6</td><td>1</td><td>5</td><td>2</td><td>2-Group B</td></tr><tr><td>Belgium, Group C</td><td>Group C</td><td>3</td><td>3</td><td>0</td><td>0</td><td>10</td><td>5</td><td>5</td><td>9</td><td>1</td><td>1-Group C</td></tr><tr><td>Denmark, Group C</td><td>Group C</td><td>3</td><td>2</td><td>1</td><td>0</td><td>10</td><td>5</td><td>5</td><td>6</td><td>2</td><td>2-Group C</td></tr><tr><td>Estonia, Group D</td><td>Group D</td><td>3</td><td>2</td><td>1</td><td>0</td><td>8</td><td>4</td><td>4</td><td>6</td><td>1</td><td>1-Group D</td></tr><tr><td>Iceland, Group D</td><td>Group D</td><td>3</td><td>1</td><td>0</td><td>2</td><td>6</td><td>4</td><td>2</td><td>5</td><td>2</td><td>2-Group D</td></tr><tr><td>Bulgaria, Group E</td><td>Group E</td><td>3</td><td>2</td><td>1</td><td>0</td><td>9</td><td>8</td><td>1</td><td>6</td><td>1</td><td>1-Group E</td></tr><tr><td>Netherlands, Group E</td><td>Group E</td><td>3</td><td>1</td><td>1</td><td>1</td><td>9</td><td>8</td><td>1</td><td>4</td><td>2</td><td>2-Group E</td></tr><tr><td>Italy, Group F</td><td>Group F</td><td>3</td><td>2</td><td>0</td><td>1</td><td>12</td><td>8</td><td>4</td><td>7</td><td>1</td><td>1-Group F</td></tr><tr><td>France, Group F</td><td>Group F</td><td>3</td><td>1</td><td>1</td><td>1</td><td>8</td><td>9</td><td>-1</td><td>4</td><td>2</td><td>2-Group F</td></tr><tr><td>Finland, Group E</td><td>Group E</td><td>3</td><td>1</td><td>1</td><td>1</td><td>8</td><td>9</td><td>-1</td><td>4</td><td>3</td><td>3-Group E</td></tr><tr><td>Austria, Group B</td><td>Group B</td><td>3</td><td>1</td><td>1</td><td>1</td><td>1</td><td>5</td><td>-4</td><td>4</td><td>3</td><td>3-Group B</td></tr><tr><td>Hungary, Group C</td><td>Group C</td><td>3</td><td>1</td><td>2</td><td>0</td><td>7</td><td>7</td><td>0</td><td>3</td><td>3</td><td>3-Group C</td></tr><tr><td>Croatia, Group F</td><td>Group F</td><td>3</td><td>1</td><td>2</td><td>0</td><td>8</td><td>9</td><td>-1</td><td>3</td><td>3</td><td>3-Group F</td></tr></tbody></table></div>"
      ]
     },
     "metadata": {
      "application/vnd.databricks.v1+output": {
       "addedWidgets": {},
       "aggData": [],
       "aggError": "",
       "aggOverflow": false,
       "aggSchema": [],
       "aggSeriesLimitReached": false,
       "aggType": "",
       "arguments": {},
       "columnCustomDisplayInfos": {},
       "data": [
        [
         "Germany, Group A",
         "Group A",
         3,
         3,
         0,
         0,
         14,
         4,
         10,
         9,
         1,
         "1-Group A"
        ],
        [
         "Latvia, Group A",
         "Group A",
         3,
         1,
         1,
         1,
         6,
         8,
         -2,
         4,
         2,
         "2-Group A"
        ],
        [
         "Greece, Group B",
         "Group B",
         3,
         1,
         0,
         2,
         10,
         5,
         5,
         5,
         1,
         "1-Group B"
        ],
        [
         "Czech Republic, Group B",
         "Group B",
         3,
         1,
         0,
         2,
         7,
         6,
         1,
         5,
         2,
         "2-Group B"
        ],
        [
         "Belgium, Group C",
         "Group C",
         3,
         3,
         0,
         0,
         10,
         5,
         5,
         9,
         1,
         "1-Group C"
        ],
        [
         "Denmark, Group C",
         "Group C",
         3,
         2,
         1,
         0,
         10,
         5,
         5,
         6,
         2,
         "2-Group C"
        ],
        [
         "Estonia, Group D",
         "Group D",
         3,
         2,
         1,
         0,
         8,
         4,
         4,
         6,
         1,
         "1-Group D"
        ],
        [
         "Iceland, Group D",
         "Group D",
         3,
         1,
         0,
         2,
         6,
         4,
         2,
         5,
         2,
         "2-Group D"
        ],
        [
         "Bulgaria, Group E",
         "Group E",
         3,
         2,
         1,
         0,
         9,
         8,
         1,
         6,
         1,
         "1-Group E"
        ],
        [
         "Netherlands, Group E",
         "Group E",
         3,
         1,
         1,
         1,
         9,
         8,
         1,
         4,
         2,
         "2-Group E"
        ],
        [
         "Italy, Group F",
         "Group F",
         3,
         2,
         0,
         1,
         12,
         8,
         4,
         7,
         1,
         "1-Group F"
        ],
        [
         "France, Group F",
         "Group F",
         3,
         1,
         1,
         1,
         8,
         9,
         -1,
         4,
         2,
         "2-Group F"
        ],
        [
         "Finland, Group E",
         "Group E",
         3,
         1,
         1,
         1,
         8,
         9,
         -1,
         4,
         3,
         "3-Group E"
        ],
        [
         "Austria, Group B",
         "Group B",
         3,
         1,
         1,
         1,
         1,
         5,
         -4,
         4,
         3,
         "3-Group B"
        ],
        [
         "Hungary, Group C",
         "Group C",
         3,
         1,
         2,
         0,
         7,
         7,
         0,
         3,
         3,
         "3-Group C"
        ],
        [
         "Croatia, Group F",
         "Group F",
         3,
         1,
         2,
         0,
         8,
         9,
         -1,
         3,
         3,
         "3-Group F"
        ]
       ],
       "datasetInfos": [],
       "dbfsResultPath": null,
       "isJsonSchema": true,
       "metadata": {},
       "overflow": false,
       "plotOptions": {
        "customPlotOptions": {},
        "displayType": "table",
        "pivotAggregation": null,
        "pivotColumns": null,
        "xColumns": null,
        "yColumns": null
       },
       "removedWidgets": [],
       "schema": [
        {
         "metadata": "{}",
         "name": "team_name",
         "type": "\"string\""
        },
        {
         "metadata": "{}",
         "name": "group_name",
         "type": "\"string\""
        },
        {
         "metadata": "{}",
         "name": "matches_played",
         "type": "\"long\""
        },
        {
         "metadata": "{}",
         "name": "match_won",
         "type": "\"long\""
        },
        {
         "metadata": "{}",
         "name": "match_loss",
         "type": "\"long\""
        },
        {
         "metadata": "{}",
         "name": "match_drawn",
         "type": "\"long\""
        },
        {
         "metadata": "{}",
         "name": "goal_scored",
         "type": "\"long\""
        },
        {
         "metadata": "{}",
         "name": "goal_conceded",
         "type": "\"long\""
        },
        {
         "metadata": "{}",
         "name": "goal_difference",
         "type": "\"long\""
        },
        {
         "metadata": "{}",
         "name": "points",
         "type": "\"long\""
        },
        {
         "metadata": "{}",
         "name": "rank",
         "type": "\"integer\""
        },
        {
         "metadata": "{}",
         "name": "position",
         "type": "\"string\""
        }
       ],
       "type": "table"
      }
     },
     "output_type": "display_data"
    },
    {
     "output_type": "display_data",
     "data": {
      "text/html": [
       "<style scoped>\n",
       "  .table-result-container {\n",
       "    max-height: 300px;\n",
       "    overflow: auto;\n",
       "  }\n",
       "  table, th, td {\n",
       "    border: 1px solid black;\n",
       "    border-collapse: collapse;\n",
       "  }\n",
       "  th, td {\n",
       "    padding: 5px;\n",
       "  }\n",
       "  th {\n",
       "    text-align: left;\n",
       "  }\n",
       "</style><div class='table-result-container'><table class='table-result'><thead style='background-color: white'><tr><th>combination_id</th><th>combination</th><th>team1</th><th>team2</th></tr></thead><tbody><tr><td>C-13</td><td>List(Group B, Group C, Group E, Group F)</td><td>1-Group B</td><td>3-Group F</td></tr><tr><td>C-13</td><td>List(Group B, Group C, Group E, Group F)</td><td>1-Group C</td><td>3-Group E</td></tr><tr><td>C-13</td><td>List(Group B, Group C, Group E, Group F)</td><td>1-Group E</td><td>3-Group C</td></tr><tr><td>C-13</td><td>List(Group B, Group C, Group E, Group F)</td><td>1-Group F</td><td>3-Group B</td></tr><tr><td>U</td><td>List()</td><td>1-Group A</td><td>2-Group C</td></tr><tr><td>U</td><td>List()</td><td>2-Group D</td><td>2-Group E</td></tr><tr><td>U</td><td>List()</td><td>1-Group D</td><td>2-Group F</td></tr><tr><td>U</td><td>List()</td><td>2-Group A</td><td>2-Group B</td></tr></tbody></table></div>"
      ]
     },
     "metadata": {
      "application/vnd.databricks.v1+output": {
       "addedWidgets": {},
       "aggData": [],
       "aggError": "",
       "aggOverflow": false,
       "aggSchema": [],
       "aggSeriesLimitReached": false,
       "aggType": "",
       "arguments": {},
       "columnCustomDisplayInfos": {},
       "data": [
        [
         "C-13",
         [
          "Group B",
          "Group C",
          "Group E",
          "Group F"
         ],
         "1-Group B",
         "3-Group F"
        ],
        [
         "C-13",
         [
          "Group B",
          "Group C",
          "Group E",
          "Group F"
         ],
         "1-Group C",
         "3-Group E"
        ],
        [
         "C-13",
         [
          "Group B",
          "Group C",
          "Group E",
          "Group F"
         ],
         "1-Group E",
         "3-Group C"
        ],
        [
         "C-13",
         [
          "Group B",
          "Group C",
          "Group E",
          "Group F"
         ],
         "1-Group F",
         "3-Group B"
        ],
        [
         "U",
         [],
         "1-Group A",
         "2-Group C"
        ],
        [
         "U",
         [],
         "2-Group D",
         "2-Group E"
        ],
        [
         "U",
         [],
         "1-Group D",
         "2-Group F"
        ],
        [
         "U",
         [],
         "2-Group A",
         "2-Group B"
        ]
       ],
       "datasetInfos": [],
       "dbfsResultPath": null,
       "isJsonSchema": true,
       "metadata": {},
       "overflow": false,
       "plotOptions": {
        "customPlotOptions": {},
        "displayType": "table",
        "pivotAggregation": null,
        "pivotColumns": null,
        "xColumns": null,
        "yColumns": null
       },
       "removedWidgets": [],
       "schema": [
        {
         "metadata": "{}",
         "name": "combination_id",
         "type": "\"string\""
        },
        {
         "metadata": "{}",
         "name": "combination",
         "type": "{\"type\":\"array\",\"elementType\":\"string\",\"containsNull\":true}"
        },
        {
         "metadata": "{}",
         "name": "team1",
         "type": "\"string\""
        },
        {
         "metadata": "{}",
         "name": "team2",
         "type": "\"string\""
        }
       ],
       "type": "table"
      }
     },
     "output_type": "display_data"
    },
    {
     "output_type": "display_data",
     "data": {
      "text/html": [
       "<style scoped>\n",
       "  .table-result-container {\n",
       "    max-height: 300px;\n",
       "    overflow: auto;\n",
       "  }\n",
       "  table, th, td {\n",
       "    border: 1px solid black;\n",
       "    border-collapse: collapse;\n",
       "  }\n",
       "  th, td {\n",
       "    padding: 5px;\n",
       "  }\n",
       "  th {\n",
       "    text-align: left;\n",
       "  }\n",
       "</style><div class='table-result-container'><table class='table-result'><thead style='background-color: white'><tr><th>match_id</th><th>combination_id</th><th>team_1_name</th><th>team_2_name</th></tr></thead><tbody><tr><td>45</td><td>Q_C</td><td>Croatia, Group F</td><td>Denmark, Group C</td></tr><tr><td>46</td><td>Q_C</td><td>Italy, Group F</td><td>Iceland, Group D</td></tr><tr><td>47</td><td>Q_C</td><td>Bulgaria, Group E</td><td>France, Group F</td></tr><tr><td>48</td><td>Q_C</td><td>Finland, Group E</td><td>Czech Republic, Group B</td></tr></tbody></table></div>"
      ]
     },
     "metadata": {
      "application/vnd.databricks.v1+output": {
       "addedWidgets": {},
       "aggData": [],
       "aggError": "",
       "aggOverflow": false,
       "aggSchema": [],
       "aggSeriesLimitReached": false,
       "aggType": "",
       "arguments": {},
       "columnCustomDisplayInfos": {},
       "data": [
        [
         "45",
         "Q_C",
         "Croatia, Group F",
         "Denmark, Group C"
        ],
        [
         "46",
         "Q_C",
         "Italy, Group F",
         "Iceland, Group D"
        ],
        [
         "47",
         "Q_C",
         "Bulgaria, Group E",
         "France, Group F"
        ],
        [
         "48",
         "Q_C",
         "Finland, Group E",
         "Czech Republic, Group B"
        ]
       ],
       "datasetInfos": [],
       "dbfsResultPath": null,
       "isJsonSchema": true,
       "metadata": {},
       "overflow": false,
       "plotOptions": {
        "customPlotOptions": {},
        "displayType": "table",
        "pivotAggregation": null,
        "pivotColumns": null,
        "xColumns": null,
        "yColumns": null
       },
       "removedWidgets": [],
       "schema": [
        {
         "metadata": "{}",
         "name": "match_id",
         "type": "\"string\""
        },
        {
         "metadata": "{}",
         "name": "combination_id",
         "type": "\"string\""
        },
        {
         "metadata": "{}",
         "name": "team_1_name",
         "type": "\"string\""
        },
        {
         "metadata": "{}",
         "name": "team_2_name",
         "type": "\"string\""
        }
       ],
       "type": "table"
      }
     },
     "output_type": "display_data"
    },
    {
     "output_type": "display_data",
     "data": {
      "text/html": [
       "<style scoped>\n",
       "  .table-result-container {\n",
       "    max-height: 300px;\n",
       "    overflow: auto;\n",
       "  }\n",
       "  table, th, td {\n",
       "    border: 1px solid black;\n",
       "    border-collapse: collapse;\n",
       "  }\n",
       "  th, td {\n",
       "    padding: 5px;\n",
       "  }\n",
       "  th {\n",
       "    text-align: left;\n",
       "  }\n",
       "</style><div class='table-result-container'><table class='table-result'><thead style='background-color: white'><tr><th>match_id</th><th>combination_id</th><th>team_1_name</th><th>team_2_name</th></tr></thead><tbody><tr><td>49</td><td>SF_C</td><td>Denmark, Group C</td><td>Iceland, Group D</td></tr><tr><td>50</td><td>SF_C</td><td>France, Group F</td><td>Finland, Group E</td></tr></tbody></table></div>"
      ]
     },
     "metadata": {
      "application/vnd.databricks.v1+output": {
       "addedWidgets": {},
       "aggData": [],
       "aggError": "",
       "aggOverflow": false,
       "aggSchema": [],
       "aggSeriesLimitReached": false,
       "aggType": "",
       "arguments": {},
       "columnCustomDisplayInfos": {},
       "data": [
        [
         "49",
         "SF_C",
         "Denmark, Group C",
         "Iceland, Group D"
        ],
        [
         "50",
         "SF_C",
         "France, Group F",
         "Finland, Group E"
        ]
       ],
       "datasetInfos": [],
       "dbfsResultPath": null,
       "isJsonSchema": true,
       "metadata": {},
       "overflow": false,
       "plotOptions": {
        "customPlotOptions": {},
        "displayType": "table",
        "pivotAggregation": null,
        "pivotColumns": null,
        "xColumns": null,
        "yColumns": null
       },
       "removedWidgets": [],
       "schema": [
        {
         "metadata": "{}",
         "name": "match_id",
         "type": "\"string\""
        },
        {
         "metadata": "{}",
         "name": "combination_id",
         "type": "\"string\""
        },
        {
         "metadata": "{}",
         "name": "team_1_name",
         "type": "\"string\""
        },
        {
         "metadata": "{}",
         "name": "team_2_name",
         "type": "\"string\""
        }
       ],
       "type": "table"
      }
     },
     "output_type": "display_data"
    },
    {
     "output_type": "display_data",
     "data": {
      "text/html": [
       "<style scoped>\n",
       "  .table-result-container {\n",
       "    max-height: 300px;\n",
       "    overflow: auto;\n",
       "  }\n",
       "  table, th, td {\n",
       "    border: 1px solid black;\n",
       "    border-collapse: collapse;\n",
       "  }\n",
       "  th, td {\n",
       "    padding: 5px;\n",
       "  }\n",
       "  th {\n",
       "    text-align: left;\n",
       "  }\n",
       "</style><div class='table-result-container'><table class='table-result'><thead style='background-color: white'><tr><th>match_id</th><th>combination_id</th><th>team_1_name</th><th>team_2_name</th></tr></thead><tbody><tr><td>51</td><td>F_C</td><td>Denmark, Group C</td><td>France, Group F</td></tr></tbody></table></div>"
      ]
     },
     "metadata": {
      "application/vnd.databricks.v1+output": {
       "addedWidgets": {},
       "aggData": [],
       "aggError": "",
       "aggOverflow": false,
       "aggSchema": [],
       "aggSeriesLimitReached": false,
       "aggType": "",
       "arguments": {},
       "columnCustomDisplayInfos": {},
       "data": [
        [
         "51",
         "F_C",
         "Denmark, Group C",
         "France, Group F"
        ]
       ],
       "datasetInfos": [],
       "dbfsResultPath": null,
       "isJsonSchema": true,
       "metadata": {},
       "overflow": false,
       "plotOptions": {
        "customPlotOptions": {},
        "displayType": "table",
        "pivotAggregation": null,
        "pivotColumns": null,
        "xColumns": null,
        "yColumns": null
       },
       "removedWidgets": [],
       "schema": [
        {
         "metadata": "{}",
         "name": "match_id",
         "type": "\"string\""
        },
        {
         "metadata": "{}",
         "name": "combination_id",
         "type": "\"string\""
        },
        {
         "metadata": "{}",
         "name": "team_1_name",
         "type": "\"string\""
        },
        {
         "metadata": "{}",
         "name": "team_2_name",
         "type": "\"string\""
        }
       ],
       "type": "table"
      }
     },
     "output_type": "display_data"
    },
    {
     "output_type": "display_data",
     "data": {
      "text/html": [
       "<style scoped>\n",
       "  .table-result-container {\n",
       "    max-height: 300px;\n",
       "    overflow: auto;\n",
       "  }\n",
       "  table, th, td {\n",
       "    border: 1px solid black;\n",
       "    border-collapse: collapse;\n",
       "  }\n",
       "  th, td {\n",
       "    padding: 5px;\n",
       "  }\n",
       "  th {\n",
       "    text-align: left;\n",
       "  }\n",
       "</style><div class='table-result-container'><table class='table-result'><thead style='background-color: white'><tr><th>team_name</th></tr></thead><tbody><tr><td>France, Group F</td></tr></tbody></table></div>"
      ]
     },
     "metadata": {
      "application/vnd.databricks.v1+output": {
       "addedWidgets": {},
       "aggData": [],
       "aggError": "",
       "aggOverflow": false,
       "aggSchema": [],
       "aggSeriesLimitReached": false,
       "aggType": "",
       "arguments": {},
       "columnCustomDisplayInfos": {},
       "data": [
        [
         "France, Group F"
        ]
       ],
       "datasetInfos": [],
       "dbfsResultPath": null,
       "isJsonSchema": true,
       "metadata": {},
       "overflow": false,
       "plotOptions": {
        "customPlotOptions": {},
        "displayType": "table",
        "pivotAggregation": null,
        "pivotColumns": null,
        "xColumns": null,
        "yColumns": null
       },
       "removedWidgets": [],
       "schema": [
        {
         "metadata": "{}",
         "name": "team_name",
         "type": "\"string\""
        }
       ],
       "type": "table"
      }
     },
     "output_type": "display_data"
    },
    {
     "output_type": "display_data",
     "data": {
      "text/html": [
       "<style scoped>\n",
       "  .table-result-container {\n",
       "    max-height: 300px;\n",
       "    overflow: auto;\n",
       "  }\n",
       "  table, th, td {\n",
       "    border: 1px solid black;\n",
       "    border-collapse: collapse;\n",
       "  }\n",
       "  th, td {\n",
       "    padding: 5px;\n",
       "  }\n",
       "  th {\n",
       "    text-align: left;\n",
       "  }\n",
       "</style><div class='table-result-container'><table class='table-result'><thead style='background-color: white'><tr><th>team_name</th></tr></thead><tbody><tr><td>Finland, Group E</td></tr></tbody></table></div>"
      ]
     },
     "metadata": {
      "application/vnd.databricks.v1+output": {
       "addedWidgets": {},
       "aggData": [],
       "aggError": "",
       "aggOverflow": false,
       "aggSchema": [],
       "aggSeriesLimitReached": false,
       "aggType": "",
       "arguments": {},
       "columnCustomDisplayInfos": {},
       "data": [
        [
         "Finland, Group E"
        ]
       ],
       "datasetInfos": [],
       "dbfsResultPath": null,
       "isJsonSchema": true,
       "metadata": {},
       "overflow": false,
       "plotOptions": {
        "customPlotOptions": {},
        "displayType": "table",
        "pivotAggregation": null,
        "pivotColumns": null,
        "xColumns": null,
        "yColumns": null
       },
       "removedWidgets": [],
       "schema": [
        {
         "metadata": "{}",
         "name": "team_name",
         "type": "\"string\""
        }
       ],
       "type": "table"
      }
     },
     "output_type": "display_data"
    }
   ],
   "source": [
    "display(df_goup_stage_teams)\n",
    "display(df_knouckout_match_final_combination)\n",
    "display(df_quater_final_teams_name) \n",
    "display(df_semi_final_match_teams_name)\n",
    "display(df_final_match_teams_name)\n",
    "display(df_winner)\n",
    "display(df_third_pos_winner)"
   ]
  },
  {
   "cell_type": "code",
   "execution_count": 0,
   "metadata": {
    "application/vnd.databricks.v1+cell": {
     "cellMetadata": {
      "byteLimit": 2048000,
      "rowLimit": 10000
     },
     "inputWidgets": {},
     "nuid": "2c1c5b7e-9981-4ff2-8f49-a460f5194a7e",
     "showTitle": false,
     "title": ""
    }
   },
   "outputs": [
    {
     "output_type": "display_data",
     "data": {
      "text/html": [
       "<style scoped>\n",
       "  .table-result-container {\n",
       "    max-height: 300px;\n",
       "    overflow: auto;\n",
       "  }\n",
       "  table, th, td {\n",
       "    border: 1px solid black;\n",
       "    border-collapse: collapse;\n",
       "  }\n",
       "  th, td {\n",
       "    padding: 5px;\n",
       "  }\n",
       "  th {\n",
       "    text-align: left;\n",
       "  }\n",
       "</style><div class='table-result-container'><table class='table-result'><thead style='background-color: white'><tr><th>match_id</th><th>team_1_name</th><th>team_2_name</th><th>team_1_goal</th><th>team_2_goal</th><th>winner</th></tr></thead><tbody><tr><td>52</td><td>Iceland, Group D</td><td>Finland, Group E</td><td>2</td><td>4</td><td>Finland, Group E</td></tr></tbody></table></div>"
      ]
     },
     "metadata": {
      "application/vnd.databricks.v1+output": {
       "addedWidgets": {},
       "aggData": [],
       "aggError": "",
       "aggOverflow": false,
       "aggSchema": [],
       "aggSeriesLimitReached": false,
       "aggType": "",
       "arguments": {},
       "columnCustomDisplayInfos": {},
       "data": [
        [
         "52",
         "Iceland, Group D",
         "Finland, Group E",
         2,
         4,
         "Finland, Group E"
        ]
       ],
       "datasetInfos": [],
       "dbfsResultPath": null,
       "isJsonSchema": true,
       "metadata": {},
       "overflow": false,
       "plotOptions": {
        "customPlotOptions": {},
        "displayType": "table",
        "pivotAggregation": null,
        "pivotColumns": null,
        "xColumns": null,
        "yColumns": null
       },
       "removedWidgets": [],
       "schema": [
        {
         "metadata": "{}",
         "name": "match_id",
         "type": "\"string\""
        },
        {
         "metadata": "{}",
         "name": "team_1_name",
         "type": "\"string\""
        },
        {
         "metadata": "{}",
         "name": "team_2_name",
         "type": "\"string\""
        },
        {
         "metadata": "{}",
         "name": "team_1_goal",
         "type": "\"long\""
        },
        {
         "metadata": "{}",
         "name": "team_2_goal",
         "type": "\"long\""
        },
        {
         "metadata": "{}",
         "name": "winner",
         "type": "\"string\""
        }
       ],
       "type": "table"
      }
     },
     "output_type": "display_data"
    }
   ],
   "source": [
    "display(df_third_pos_final_match_goals_result)\n"
   ]
  },
  {
   "cell_type": "code",
   "execution_count": 0,
   "metadata": {
    "application/vnd.databricks.v1+cell": {
     "cellMetadata": {
      "byteLimit": 2048000,
      "rowLimit": 10000
     },
     "inputWidgets": {},
     "nuid": "c2713537-5e87-43a0-9ff3-dd9efdf04626",
     "showTitle": false,
     "title": ""
    }
   },
   "outputs": [
    {
     "output_type": "display_data",
     "data": {
      "text/html": [
       "<style scoped>\n",
       "  .table-result-container {\n",
       "    max-height: 300px;\n",
       "    overflow: auto;\n",
       "  }\n",
       "  table, th, td {\n",
       "    border: 1px solid black;\n",
       "    border-collapse: collapse;\n",
       "  }\n",
       "  th, td {\n",
       "    padding: 5px;\n",
       "  }\n",
       "  th {\n",
       "    text-align: left;\n",
       "  }\n",
       "</style><div class='table-result-container'><table class='table-result'><thead style='background-color: white'><tr><th>match_id</th><th>team_1_name</th><th>team_2_name</th><th>team_1_goal</th><th>team_2_goal</th><th>winner</th><th>loser</th></tr></thead><tbody><tr><td>49</td><td>Denmark, Group C</td><td>Iceland, Group D</td><td>5</td><td>3</td><td>Denmark, Group C</td><td>Iceland, Group D</td></tr><tr><td>50</td><td>France, Group F</td><td>Finland, Group E</td><td>5</td><td>4</td><td>France, Group F</td><td>Finland, Group E</td></tr></tbody></table></div>"
      ]
     },
     "metadata": {
      "application/vnd.databricks.v1+output": {
       "addedWidgets": {},
       "aggData": [],
       "aggError": "",
       "aggOverflow": false,
       "aggSchema": [],
       "aggSeriesLimitReached": false,
       "aggType": "",
       "arguments": {},
       "columnCustomDisplayInfos": {},
       "data": [
        [
         "49",
         "Denmark, Group C",
         "Iceland, Group D",
         5,
         3,
         "Denmark, Group C",
         "Iceland, Group D"
        ],
        [
         "50",
         "France, Group F",
         "Finland, Group E",
         5,
         4,
         "France, Group F",
         "Finland, Group E"
        ]
       ],
       "datasetInfos": [],
       "dbfsResultPath": null,
       "isJsonSchema": true,
       "metadata": {},
       "overflow": false,
       "plotOptions": {
        "customPlotOptions": {},
        "displayType": "table",
        "pivotAggregation": null,
        "pivotColumns": null,
        "xColumns": null,
        "yColumns": null
       },
       "removedWidgets": [],
       "schema": [
        {
         "metadata": "{}",
         "name": "match_id",
         "type": "\"string\""
        },
        {
         "metadata": "{}",
         "name": "team_1_name",
         "type": "\"string\""
        },
        {
         "metadata": "{}",
         "name": "team_2_name",
         "type": "\"string\""
        },
        {
         "metadata": "{}",
         "name": "team_1_goal",
         "type": "\"long\""
        },
        {
         "metadata": "{}",
         "name": "team_2_goal",
         "type": "\"long\""
        },
        {
         "metadata": "{}",
         "name": "winner",
         "type": "\"string\""
        },
        {
         "metadata": "{}",
         "name": "loser",
         "type": "\"string\""
        }
       ],
       "type": "table"
      }
     },
     "output_type": "display_data"
    }
   ],
   "source": [
    "display(df_semi_final_match_goals_result)"
   ]
  },
  {
   "cell_type": "code",
   "execution_count": 0,
   "metadata": {
    "application/vnd.databricks.v1+cell": {
     "cellMetadata": {
      "byteLimit": 2048000,
      "rowLimit": 10000
     },
     "inputWidgets": {},
     "nuid": "2e5a6ac4-7b42-475c-b51b-562863054974",
     "showTitle": false,
     "title": ""
    }
   },
   "outputs": [],
   "source": [
    "# group_stage_summary_with_rank_visiulaize.drop(columns=['Roundof16'], inplace=True)\n"
   ]
  },
  {
   "cell_type": "code",
   "execution_count": 0,
   "metadata": {
    "application/vnd.databricks.v1+cell": {
     "cellMetadata": {
      "byteLimit": 2048000,
      "rowLimit": 10000
     },
     "inputWidgets": {},
     "nuid": "d51f3beb-0102-462f-999e-ab7662c65f74",
     "showTitle": false,
     "title": ""
    }
   },
   "outputs": [
    {
     "output_type": "stream",
     "name": "stderr",
     "output_type": "stream",
     "text": [
      "<command-2377062601003433>:29: FutureWarning: The frame.append method is deprecated and will be removed from pandas in a future version. Use pandas.concat instead.\n  visualize_table_with_blanks = visualize_table_with_blanks.append(blank_rows, ignore_index = True)\n<command-2377062601003433>:33: FutureWarning: The frame.append method is deprecated and will be removed from pandas in a future version. Use pandas.concat instead.\n  visualize_table_with_blanks1 = visualize_table_with_blanks1.append(blank_rows, ignore_index = True)\n<command-2377062601003433>:37: FutureWarning: The frame.append method is deprecated and will be removed from pandas in a future version. Use pandas.concat instead.\n  visualize_table_with_blanks2 = visualize_table_with_blanks2.append(blank_rows, ignore_index = True)\n/databricks/spark/python/pyspark/sql/pandas/conversion.py:467: UserWarning: createDataFrame attempted Arrow optimization because 'spark.sql.execution.arrow.pyspark.enabled' is set to true; however, failed by the reason below:\n  Expected bytes, got a 'int' object\nAttempting non-optimization as 'spark.sql.execution.arrow.pyspark.fallback.enabled' is set to true.\n  warn(msg)\n"
     ]
    },
    {
     "output_type": "display_data",
     "data": {
      "text/html": [
       "<style scoped>\n",
       "  .table-result-container {\n",
       "    max-height: 300px;\n",
       "    overflow: auto;\n",
       "  }\n",
       "  table, th, td {\n",
       "    border: 1px solid black;\n",
       "    border-collapse: collapse;\n",
       "  }\n",
       "  th, td {\n",
       "    padding: 5px;\n",
       "  }\n",
       "  th {\n",
       "    text-align: left;\n",
       "  }\n",
       "</style><div class='table-result-container'><table class='table-result'><thead style='background-color: white'><tr><th>teamname</th><th>teamgroup</th><th>rankings</th><th>points</th><th>goaldifference</th><th>space</th></tr></thead><tbody><tr><td></td><td></td><td></td><td></td><td></td><td></td></tr><tr><td>Germany, Group A</td><td>Group A</td><td>1</td><td>9</td><td>10</td><td></td></tr><tr><td>Latvia, Group A</td><td>Group A</td><td>2</td><td>4</td><td>-2</td><td></td></tr><tr><td>Albania, Group A</td><td>Group A</td><td>3</td><td>3</td><td>-2</td><td></td></tr><tr><td>Cyprus, Group A</td><td>Group A</td><td>4</td><td>1</td><td>-6</td><td></td></tr><tr><td></td><td></td><td></td><td></td><td></td><td></td></tr><tr><td>Greece, Group B</td><td>Group B</td><td>1</td><td>5</td><td>5</td><td></td></tr><tr><td>Czech Republic, Group B</td><td>Group B</td><td>2</td><td>5</td><td>1</td><td></td></tr><tr><td>Austria, Group B</td><td>Group B</td><td>3</td><td>4</td><td>-4</td><td></td></tr><tr><td>Lithuania, Group B</td><td>Group B</td><td>4</td><td>1</td><td>-2</td><td></td></tr><tr><td></td><td></td><td></td><td></td><td></td><td></td></tr><tr><td>Belgium, Group C</td><td>Group C</td><td>1</td><td>9</td><td>5</td><td></td></tr><tr><td>Denmark, Group C</td><td>Group C</td><td>2</td><td>6</td><td>5</td><td></td></tr><tr><td>Hungary, Group C</td><td>Group C</td><td>3</td><td>3</td><td>0</td><td></td></tr><tr><td>Luxembourg, Group C</td><td>Group C</td><td>4</td><td>0</td><td>-10</td><td></td></tr><tr><td></td><td></td><td></td><td></td><td></td><td></td></tr></tbody></table></div>"
      ]
     },
     "metadata": {
      "application/vnd.databricks.v1+output": {
       "addedWidgets": {},
       "aggData": [],
       "aggError": "",
       "aggOverflow": false,
       "aggSchema": [],
       "aggSeriesLimitReached": false,
       "aggType": "",
       "arguments": {},
       "columnCustomDisplayInfos": {},
       "data": [
        [
         "",
         "",
         "",
         "",
         "",
         ""
        ],
        [
         "Germany, Group A",
         "Group A",
         "1",
         "9",
         "10",
         ""
        ],
        [
         "Latvia, Group A",
         "Group A",
         "2",
         "4",
         "-2",
         ""
        ],
        [
         "Albania, Group A",
         "Group A",
         "3",
         "3",
         "-2",
         ""
        ],
        [
         "Cyprus, Group A",
         "Group A",
         "4",
         "1",
         "-6",
         ""
        ],
        [
         "",
         "",
         "",
         "",
         "",
         ""
        ],
        [
         "Greece, Group B",
         "Group B",
         "1",
         "5",
         "5",
         ""
        ],
        [
         "Czech Republic, Group B",
         "Group B",
         "2",
         "5",
         "1",
         ""
        ],
        [
         "Austria, Group B",
         "Group B",
         "3",
         "4",
         "-4",
         ""
        ],
        [
         "Lithuania, Group B",
         "Group B",
         "4",
         "1",
         "-2",
         ""
        ],
        [
         "",
         "",
         "",
         "",
         "",
         ""
        ],
        [
         "Belgium, Group C",
         "Group C",
         "1",
         "9",
         "5",
         ""
        ],
        [
         "Denmark, Group C",
         "Group C",
         "2",
         "6",
         "5",
         ""
        ],
        [
         "Hungary, Group C",
         "Group C",
         "3",
         "3",
         "0",
         ""
        ],
        [
         "Luxembourg, Group C",
         "Group C",
         "4",
         "0",
         "-10",
         ""
        ],
        [
         "",
         "",
         "",
         "",
         "",
         ""
        ]
       ],
       "datasetInfos": [],
       "dbfsResultPath": null,
       "isJsonSchema": true,
       "metadata": {},
       "overflow": false,
       "plotOptions": {
        "customPlotOptions": {},
        "displayType": "table",
        "pivotAggregation": null,
        "pivotColumns": null,
        "xColumns": null,
        "yColumns": null
       },
       "removedWidgets": [],
       "schema": [
        {
         "metadata": "{}",
         "name": "teamname",
         "type": "\"string\""
        },
        {
         "metadata": "{}",
         "name": "teamgroup",
         "type": "\"string\""
        },
        {
         "metadata": "{}",
         "name": "rankings",
         "type": "\"string\""
        },
        {
         "metadata": "{}",
         "name": "points",
         "type": "\"string\""
        },
        {
         "metadata": "{}",
         "name": "goaldifference",
         "type": "\"string\""
        },
        {
         "metadata": "{}",
         "name": "space",
         "type": "\"string\""
        }
       ],
       "type": "table"
      }
     },
     "output_type": "display_data"
    },
    {
     "output_type": "display_data",
     "data": {
      "text/html": [
       "<style scoped>\n",
       "  .table-result-container {\n",
       "    max-height: 300px;\n",
       "    overflow: auto;\n",
       "  }\n",
       "  table, th, td {\n",
       "    border: 1px solid black;\n",
       "    border-collapse: collapse;\n",
       "  }\n",
       "  th, td {\n",
       "    padding: 5px;\n",
       "  }\n",
       "  th {\n",
       "    text-align: left;\n",
       "  }\n",
       "</style><div class='table-result-container'><table class='table-result'><thead style='background-color: white'><tr><th>teamname</th><th>teamgroup</th><th>rankings</th><th>points</th><th>goaldifference</th></tr></thead><tbody><tr><td></td><td></td><td></td><td></td><td></td></tr><tr><td>Estonia, Group D</td><td>Group D</td><td>1</td><td>6</td><td>4</td></tr><tr><td>Iceland, Group D</td><td>Group D</td><td>2</td><td>5</td><td>2</td></tr><tr><td>Malta, Group D</td><td>Group D</td><td>3</td><td>2</td><td>-2</td></tr><tr><td>Bosnia, Group D</td><td>Group D</td><td>4</td><td>2</td><td>-4</td></tr><tr><td></td><td></td><td></td><td></td><td></td></tr><tr><td>Bulgaria, Group E</td><td>Group E</td><td>1</td><td>6</td><td>1</td></tr><tr><td>Netherlands, Group E</td><td>Group E</td><td>2</td><td>4</td><td>1</td></tr><tr><td>Finland, Group E</td><td>Group E</td><td>3</td><td>4</td><td>-1</td></tr><tr><td>Ireland, Group E</td><td>Group E</td><td>4</td><td>2</td><td>-1</td></tr><tr><td></td><td></td><td></td><td></td><td></td></tr><tr><td>Italy, Group F</td><td>Group F</td><td>1</td><td>7</td><td>4</td></tr><tr><td>France, Group F</td><td>Group F</td><td>2</td><td>4</td><td>-1</td></tr><tr><td>Croatia, Group F</td><td>Group F</td><td>3</td><td>3</td><td>-1</td></tr><tr><td>Norway, Group F</td><td>Group F</td><td>4</td><td>3</td><td>-2</td></tr><tr><td></td><td></td><td></td><td></td><td></td></tr></tbody></table></div>"
      ]
     },
     "metadata": {
      "application/vnd.databricks.v1+output": {
       "addedWidgets": {},
       "aggData": [],
       "aggError": "",
       "aggOverflow": false,
       "aggSchema": [],
       "aggSeriesLimitReached": false,
       "aggType": "",
       "arguments": {},
       "columnCustomDisplayInfos": {},
       "data": [
        [
         "",
         "",
         "",
         "",
         ""
        ],
        [
         "Estonia, Group D",
         "Group D",
         "1",
         "6",
         "4"
        ],
        [
         "Iceland, Group D",
         "Group D",
         "2",
         "5",
         "2"
        ],
        [
         "Malta, Group D",
         "Group D",
         "3",
         "2",
         "-2"
        ],
        [
         "Bosnia, Group D",
         "Group D",
         "4",
         "2",
         "-4"
        ],
        [
         "",
         "",
         "",
         "",
         ""
        ],
        [
         "Bulgaria, Group E",
         "Group E",
         "1",
         "6",
         "1"
        ],
        [
         "Netherlands, Group E",
         "Group E",
         "2",
         "4",
         "1"
        ],
        [
         "Finland, Group E",
         "Group E",
         "3",
         "4",
         "-1"
        ],
        [
         "Ireland, Group E",
         "Group E",
         "4",
         "2",
         "-1"
        ],
        [
         "",
         "",
         "",
         "",
         ""
        ],
        [
         "Italy, Group F",
         "Group F",
         "1",
         "7",
         "4"
        ],
        [
         "France, Group F",
         "Group F",
         "2",
         "4",
         "-1"
        ],
        [
         "Croatia, Group F",
         "Group F",
         "3",
         "3",
         "-1"
        ],
        [
         "Norway, Group F",
         "Group F",
         "4",
         "3",
         "-2"
        ],
        [
         "",
         "",
         "",
         "",
         ""
        ]
       ],
       "datasetInfos": [],
       "dbfsResultPath": null,
       "isJsonSchema": true,
       "metadata": {},
       "overflow": false,
       "plotOptions": {
        "customPlotOptions": {},
        "displayType": "table",
        "pivotAggregation": null,
        "pivotColumns": null,
        "xColumns": null,
        "yColumns": null
       },
       "removedWidgets": [],
       "schema": [
        {
         "metadata": "{}",
         "name": "teamname",
         "type": "\"string\""
        },
        {
         "metadata": "{}",
         "name": "teamgroup",
         "type": "\"string\""
        },
        {
         "metadata": "{}",
         "name": "rankings",
         "type": "\"string\""
        },
        {
         "metadata": "{}",
         "name": "points",
         "type": "\"string\""
        },
        {
         "metadata": "{}",
         "name": "goaldifference",
         "type": "\"string\""
        }
       ],
       "type": "table"
      }
     },
     "output_type": "display_data"
    }
   ],
   "source": [
    "import pandas as pd\n",
    "from pyspark.sql import SparkSession\n",
    "\n",
    "group_stage_summary_with_rank.createOrReplaceTempView(\"group_stage_summary_with_rank_temp\")\n",
    "\n",
    "ranking_group = spark.sql(\"SELECT * FROM group_stage_summary_with_rank_temp\")\n",
    "\n",
    "ranking_group_pandas = ranking_group.toPandas()\n",
    "\n",
    "visualize_table = pd.DataFrame({\n",
    "    'teamname': ranking_group_pandas['team_name'],\n",
    "    'teamgroup': ranking_group_pandas['group_name'],\n",
    "    'rankings': ranking_group_pandas['rank'],\n",
    "    'points': ranking_group_pandas['points'],\n",
    "    'goaldifference': ranking_group_pandas['goal_difference']\n",
    "})\n",
    "\n",
    "blank_rows = pd.DataFrame({'teamname': [''] * 1, 'teamgroup': [''] * 1, 'rankings': [''] * 1, 'points': [''] * 1, 'goaldifference': [''] * 1})\n",
    "\n",
    "chunks = []\n",
    "\n",
    "for i in range(0, len(visualize_table), 4):\n",
    "    chunk = visualize_table.iloc[i:i+4]  # Get a chunk of 4 records\n",
    "    chunks.append(chunk)  # Append the chunk to the list\n",
    "    if i < len(visualize_table) - 4:\n",
    "        chunks.append(blank_rows)  \n",
    "\n",
    "visualize_table_with_blanks = pd.concat(chunks).reset_index(drop=True)\n",
    "visualize_table_with_blanks = visualize_table_with_blanks.append(blank_rows, ignore_index = True)\n",
    "half_length = len(visualize_table_with_blanks) // 2\n",
    "\n",
    "visualize_table_with_blanks1 = pd.DataFrame(columns=['teamname','teamgroup','rankings','points','goaldifference'])\n",
    "visualize_table_with_blanks1 = visualize_table_with_blanks1.append(blank_rows, ignore_index = True)\n",
    "visualize_table_with_blanks1 = pd.concat([visualize_table_with_blanks1, visualize_table_with_blanks.iloc[:half_length]]).reset_index(drop=True)\n",
    "visualize_table_with_blanks1['space'] = ''\n",
    "visualize_table_with_blanks2 = pd.DataFrame(columns=['teamname','teamgroup','rankings','points','goaldifference'])\n",
    "visualize_table_with_blanks2 = visualize_table_with_blanks2.append(blank_rows, ignore_index = True)\n",
    "visualize_table_with_blanks2 = pd.concat([visualize_table_with_blanks2, visualize_table_with_blanks.iloc[half_length:]]).reset_index(drop=True)\n",
    "\n",
    "display(visualize_table_with_blanks1)\n",
    "display(visualize_table_with_blanks2)\n"
   ]
  },
  {
   "cell_type": "code",
   "execution_count": 0,
   "metadata": {
    "application/vnd.databricks.v1+cell": {
     "cellMetadata": {
      "byteLimit": 2048000,
      "rowLimit": 10000
     },
     "inputWidgets": {},
     "nuid": "358cab91-2302-4783-9035-3f2dbf4b5639",
     "showTitle": false,
     "title": ""
    }
   },
   "outputs": [],
   "source": [
    "# display(df_quater_final_match_goals)"
   ]
  },
  {
   "cell_type": "code",
   "execution_count": 0,
   "metadata": {
    "application/vnd.databricks.v1+cell": {
     "cellMetadata": {
      "byteLimit": 2048000,
      "rowLimit": 10000
     },
     "inputWidgets": {},
     "nuid": "995a1078-5715-4008-8fc2-fff6f5c74ec8",
     "showTitle": false,
     "title": ""
    }
   },
   "outputs": [
    {
     "output_type": "display_data",
     "data": {
      "text/html": [
       "<style scoped>\n",
       "  .table-result-container {\n",
       "    max-height: 300px;\n",
       "    overflow: auto;\n",
       "  }\n",
       "  table, th, td {\n",
       "    border: 1px solid black;\n",
       "    border-collapse: collapse;\n",
       "  }\n",
       "  th, td {\n",
       "    padding: 5px;\n",
       "  }\n",
       "  th {\n",
       "    text-align: left;\n",
       "  }\n",
       "</style><div class='table-result-container'><table class='table-result'><thead style='background-color: white'><tr><th>match_fixture_id</th><th>match_fixture</th><th>team_1_name</th><th>team_2_name</th><th>team_1_goal</th><th>team_2_goal</th><th>winner</th></tr></thead><tbody><tr><td>37</td><td>1-Group B vs 3-Group F</td><td>Greece, Group B</td><td>Croatia, Group F</td><td>1</td><td>2</td><td>Croatia, Group F</td></tr><tr><td>38</td><td>1-Group C vs 3-Group E</td><td>Belgium, Group C</td><td>Finland, Group E</td><td>2</td><td>5</td><td>Finland, Group E</td></tr><tr><td>39</td><td>1-Group E vs 3-Group C</td><td>Bulgaria, Group E</td><td>Hungary, Group C</td><td>5</td><td>2</td><td>Bulgaria, Group E</td></tr><tr><td>40</td><td>1-Group F vs 3-Group B</td><td>Italy, Group F</td><td>Austria, Group B</td><td>2</td><td>1</td><td>Italy, Group F</td></tr><tr><td>41</td><td>1-Group A vs 2-Group C</td><td>Germany, Group A</td><td>Denmark, Group C</td><td>2</td><td>4</td><td>Denmark, Group C</td></tr><tr><td>42</td><td>2-Group D vs 2-Group E</td><td>Iceland, Group D</td><td>Netherlands, Group E</td><td>5</td><td>0</td><td>Iceland, Group D</td></tr><tr><td>43</td><td>1-Group D vs 2-Group F</td><td>Estonia, Group D</td><td>France, Group F</td><td>2</td><td>5</td><td>France, Group F</td></tr><tr><td>44</td><td>2-Group A vs 2-Group B</td><td>Latvia, Group A</td><td>Czech Republic, Group B</td><td>0</td><td>1</td><td>Czech Republic, Group B</td></tr></tbody></table></div>"
      ]
     },
     "metadata": {
      "application/vnd.databricks.v1+output": {
       "addedWidgets": {},
       "aggData": [],
       "aggError": "",
       "aggOverflow": false,
       "aggSchema": [],
       "aggSeriesLimitReached": false,
       "aggType": "",
       "arguments": {},
       "columnCustomDisplayInfos": {},
       "data": [
        [
         37,
         "1-Group B vs 3-Group F",
         "Greece, Group B",
         "Croatia, Group F",
         1,
         2,
         "Croatia, Group F"
        ],
        [
         38,
         "1-Group C vs 3-Group E",
         "Belgium, Group C",
         "Finland, Group E",
         2,
         5,
         "Finland, Group E"
        ],
        [
         39,
         "1-Group E vs 3-Group C",
         "Bulgaria, Group E",
         "Hungary, Group C",
         5,
         2,
         "Bulgaria, Group E"
        ],
        [
         40,
         "1-Group F vs 3-Group B",
         "Italy, Group F",
         "Austria, Group B",
         2,
         1,
         "Italy, Group F"
        ],
        [
         41,
         "1-Group A vs 2-Group C",
         "Germany, Group A",
         "Denmark, Group C",
         2,
         4,
         "Denmark, Group C"
        ],
        [
         42,
         "2-Group D vs 2-Group E",
         "Iceland, Group D",
         "Netherlands, Group E",
         5,
         0,
         "Iceland, Group D"
        ],
        [
         43,
         "1-Group D vs 2-Group F",
         "Estonia, Group D",
         "France, Group F",
         2,
         5,
         "France, Group F"
        ],
        [
         44,
         "2-Group A vs 2-Group B",
         "Latvia, Group A",
         "Czech Republic, Group B",
         0,
         1,
         "Czech Republic, Group B"
        ]
       ],
       "datasetInfos": [],
       "dbfsResultPath": null,
       "isJsonSchema": true,
       "metadata": {},
       "overflow": false,
       "plotOptions": {
        "customPlotOptions": {},
        "displayType": "table",
        "pivotAggregation": null,
        "pivotColumns": null,
        "xColumns": null,
        "yColumns": null
       },
       "removedWidgets": [],
       "schema": [
        {
         "metadata": "{}",
         "name": "match_fixture_id",
         "type": "\"integer\""
        },
        {
         "metadata": "{}",
         "name": "match_fixture",
         "type": "\"string\""
        },
        {
         "metadata": "{}",
         "name": "team_1_name",
         "type": "\"string\""
        },
        {
         "metadata": "{}",
         "name": "team_2_name",
         "type": "\"string\""
        },
        {
         "metadata": "{}",
         "name": "team_1_goal",
         "type": "\"integer\""
        },
        {
         "metadata": "{}",
         "name": "team_2_goal",
         "type": "\"integer\""
        },
        {
         "metadata": "{}",
         "name": "winner",
         "type": "\"string\""
        }
       ],
       "type": "table"
      }
     },
     "output_type": "display_data"
    },
    {
     "output_type": "display_data",
     "data": {
      "text/html": [
       "<style scoped>\n",
       "  .table-result-container {\n",
       "    max-height: 300px;\n",
       "    overflow: auto;\n",
       "  }\n",
       "  table, th, td {\n",
       "    border: 1px solid black;\n",
       "    border-collapse: collapse;\n",
       "  }\n",
       "  th, td {\n",
       "    padding: 5px;\n",
       "  }\n",
       "  th {\n",
       "    text-align: left;\n",
       "  }\n",
       "</style><div class='table-result-container'><table class='table-result'><thead style='background-color: white'><tr><th>match_fixture_id</th><th>match_fixture</th><th>team_1_name</th><th>team_2_name</th><th>team_1_goal</th><th>team_2_goal</th><th>winner</th></tr></thead><tbody><tr><td>37</td><td>1-Group B vs 3-Group F</td><td>Greece, Group B</td><td>Croatia, Group F</td><td>1</td><td>2</td><td>Croatia, Group F</td></tr><tr><td>41</td><td>1-Group A vs 2-Group C</td><td>Germany, Group A</td><td>Denmark, Group C</td><td>2</td><td>4</td><td>Denmark, Group C</td></tr><tr><td>40</td><td>1-Group F vs 3-Group B</td><td>Italy, Group F</td><td>Austria, Group B</td><td>2</td><td>1</td><td>Italy, Group F</td></tr><tr><td>42</td><td>2-Group D vs 2-Group E</td><td>Iceland, Group D</td><td>Netherlands, Group E</td><td>5</td><td>0</td><td>Iceland, Group D</td></tr><tr><td>39</td><td>1-Group E vs 3-Group C</td><td>Bulgaria, Group E</td><td>Hungary, Group C</td><td>5</td><td>2</td><td>Bulgaria, Group E</td></tr><tr><td>43</td><td>1-Group D vs 2-Group F</td><td>Estonia, Group D</td><td>France, Group F</td><td>2</td><td>5</td><td>France, Group F</td></tr><tr><td>38</td><td>1-Group C vs 3-Group E</td><td>Belgium, Group C</td><td>Finland, Group E</td><td>2</td><td>5</td><td>Finland, Group E</td></tr><tr><td>44</td><td>2-Group A vs 2-Group B</td><td>Latvia, Group A</td><td>Czech Republic, Group B</td><td>0</td><td>1</td><td>Czech Republic, Group B</td></tr></tbody></table></div>"
      ]
     },
     "metadata": {
      "application/vnd.databricks.v1+output": {
       "addedWidgets": {},
       "aggData": [],
       "aggError": "",
       "aggOverflow": false,
       "aggSchema": [],
       "aggSeriesLimitReached": false,
       "aggType": "",
       "arguments": {},
       "columnCustomDisplayInfos": {},
       "data": [
        [
         37,
         "1-Group B vs 3-Group F",
         "Greece, Group B",
         "Croatia, Group F",
         1,
         2,
         "Croatia, Group F"
        ],
        [
         41,
         "1-Group A vs 2-Group C",
         "Germany, Group A",
         "Denmark, Group C",
         2,
         4,
         "Denmark, Group C"
        ],
        [
         40,
         "1-Group F vs 3-Group B",
         "Italy, Group F",
         "Austria, Group B",
         2,
         1,
         "Italy, Group F"
        ],
        [
         42,
         "2-Group D vs 2-Group E",
         "Iceland, Group D",
         "Netherlands, Group E",
         5,
         0,
         "Iceland, Group D"
        ],
        [
         39,
         "1-Group E vs 3-Group C",
         "Bulgaria, Group E",
         "Hungary, Group C",
         5,
         2,
         "Bulgaria, Group E"
        ],
        [
         43,
         "1-Group D vs 2-Group F",
         "Estonia, Group D",
         "France, Group F",
         2,
         5,
         "France, Group F"
        ],
        [
         38,
         "1-Group C vs 3-Group E",
         "Belgium, Group C",
         "Finland, Group E",
         2,
         5,
         "Finland, Group E"
        ],
        [
         44,
         "2-Group A vs 2-Group B",
         "Latvia, Group A",
         "Czech Republic, Group B",
         0,
         1,
         "Czech Republic, Group B"
        ]
       ],
       "datasetInfos": [],
       "dbfsResultPath": null,
       "isJsonSchema": true,
       "metadata": {},
       "overflow": false,
       "plotOptions": {
        "customPlotOptions": {},
        "displayType": "table",
        "pivotAggregation": null,
        "pivotColumns": null,
        "xColumns": null,
        "yColumns": null
       },
       "removedWidgets": [],
       "schema": [
        {
         "metadata": "{}",
         "name": "match_fixture_id",
         "type": "\"integer\""
        },
        {
         "metadata": "{}",
         "name": "match_fixture",
         "type": "\"string\""
        },
        {
         "metadata": "{}",
         "name": "team_1_name",
         "type": "\"string\""
        },
        {
         "metadata": "{}",
         "name": "team_2_name",
         "type": "\"string\""
        },
        {
         "metadata": "{}",
         "name": "team_1_goal",
         "type": "\"integer\""
        },
        {
         "metadata": "{}",
         "name": "team_2_goal",
         "type": "\"integer\""
        },
        {
         "metadata": "{}",
         "name": "winner",
         "type": "\"string\""
        }
       ],
       "type": "table"
      }
     },
     "output_type": "display_data"
    }
   ],
   "source": [
    "#for match visualization\n",
    "from pyspark.sql.functions import col, when\n",
    "\n",
    "display(goup_stage_df_team_name)\n",
    "\n",
    "custom_order_ids = [37, 41, 40, 42, 39, 43, 38, 44]\n",
    "\n",
    "# Create a DataFrame with a custom order column\n",
    "sorted_df = goup_stage_df_team_name.withColumn(\n",
    "    \"custom_order\",\n",
    "    when(col(\"match_fixture_id\") == custom_order_ids[0], 0)\n",
    ")\n",
    "\n",
    "# Add conditions for the rest of the custom_order_ids\n",
    "for i, id_ in enumerate(custom_order_ids[1:], start=1):\n",
    "    sorted_df = sorted_df.withColumn(\n",
    "        \"custom_order\",\n",
    "        when(col(\"match_fixture_id\") == id_, i).otherwise(sorted_df[\"custom_order\"])\n",
    "    )\n",
    "\n",
    "# Sort the DataFrame based on the custom_order column\n",
    "sorted_df = sorted_df.orderBy(\"custom_order\")\n",
    "\n",
    "# Drop the temporary custom_order column\n",
    "sorted_df = sorted_df.drop(\"custom_order\")\n",
    "display(sorted_df)\n"
   ]
  },
  {
   "cell_type": "code",
   "execution_count": 0,
   "metadata": {
    "application/vnd.databricks.v1+cell": {
     "cellMetadata": {
      "byteLimit": 2048000,
      "rowLimit": 10000
     },
     "inputWidgets": {},
     "nuid": "fbb1c8ad-9746-4f65-b214-11fcc5067dcc",
     "showTitle": false,
     "title": ""
    }
   },
   "outputs": [
    {
     "output_type": "stream",
     "name": "stderr",
     "output_type": "stream",
     "text": [
      "<command-543936334760014>:6: FutureWarning: The frame.append method is deprecated and will be removed from pandas in a future version. Use pandas.concat instead.\n  visualize_table16 = visualize_table16.append({'Roundof16': ''}, ignore_index=True)\n<command-543936334760014>:8: FutureWarning: The frame.append method is deprecated and will be removed from pandas in a future version. Use pandas.concat instead.\n  visualize_table16 = visualize_table16.append({'Roundof16': f\"{row['team_1_name']} ({row['team_1_goal']})\"}, ignore_index=True)\n<command-543936334760014>:9: FutureWarning: The frame.append method is deprecated and will be removed from pandas in a future version. Use pandas.concat instead.\n  visualize_table16 = visualize_table16.append({'Roundof16': f\"{row['team_2_name']} ({row['team_2_goal']})\"}, ignore_index=True)\n<command-543936334760014>:12: FutureWarning: The frame.append method is deprecated and will be removed from pandas in a future version. Use pandas.concat instead.\n  visualize_table16 = visualize_table16.append({'Roundof16': ''}, ignore_index=True)\n<command-543936334760014>:13: FutureWarning: The frame.append method is deprecated and will be removed from pandas in a future version. Use pandas.concat instead.\n  visualize_table16 = visualize_table16.append({'Roundof16': ''}, ignore_index=True)\n<command-543936334760014>:8: FutureWarning: The frame.append method is deprecated and will be removed from pandas in a future version. Use pandas.concat instead.\n  visualize_table16 = visualize_table16.append({'Roundof16': f\"{row['team_1_name']} ({row['team_1_goal']})\"}, ignore_index=True)\n<command-543936334760014>:9: FutureWarning: The frame.append method is deprecated and will be removed from pandas in a future version. Use pandas.concat instead.\n  visualize_table16 = visualize_table16.append({'Roundof16': f\"{row['team_2_name']} ({row['team_2_goal']})\"}, ignore_index=True)\n<command-543936334760014>:12: FutureWarning: The frame.append method is deprecated and will be removed from pandas in a future version. Use pandas.concat instead.\n  visualize_table16 = visualize_table16.append({'Roundof16': ''}, ignore_index=True)\n<command-543936334760014>:13: FutureWarning: The frame.append method is deprecated and will be removed from pandas in a future version. Use pandas.concat instead.\n  visualize_table16 = visualize_table16.append({'Roundof16': ''}, ignore_index=True)\n<command-543936334760014>:8: FutureWarning: The frame.append method is deprecated and will be removed from pandas in a future version. Use pandas.concat instead.\n  visualize_table16 = visualize_table16.append({'Roundof16': f\"{row['team_1_name']} ({row['team_1_goal']})\"}, ignore_index=True)\n<command-543936334760014>:9: FutureWarning: The frame.append method is deprecated and will be removed from pandas in a future version. Use pandas.concat instead.\n  visualize_table16 = visualize_table16.append({'Roundof16': f\"{row['team_2_name']} ({row['team_2_goal']})\"}, ignore_index=True)\n<command-543936334760014>:12: FutureWarning: The frame.append method is deprecated and will be removed from pandas in a future version. Use pandas.concat instead.\n  visualize_table16 = visualize_table16.append({'Roundof16': ''}, ignore_index=True)\n<command-543936334760014>:13: FutureWarning: The frame.append method is deprecated and will be removed from pandas in a future version. Use pandas.concat instead.\n  visualize_table16 = visualize_table16.append({'Roundof16': ''}, ignore_index=True)\n<command-543936334760014>:8: FutureWarning: The frame.append method is deprecated and will be removed from pandas in a future version. Use pandas.concat instead.\n  visualize_table16 = visualize_table16.append({'Roundof16': f\"{row['team_1_name']} ({row['team_1_goal']})\"}, ignore_index=True)\n<command-543936334760014>:9: FutureWarning: The frame.append method is deprecated and will be removed from pandas in a future version. Use pandas.concat instead.\n  visualize_table16 = visualize_table16.append({'Roundof16': f\"{row['team_2_name']} ({row['team_2_goal']})\"}, ignore_index=True)\n<command-543936334760014>:12: FutureWarning: The frame.append method is deprecated and will be removed from pandas in a future version. Use pandas.concat instead.\n  visualize_table16 = visualize_table16.append({'Roundof16': ''}, ignore_index=True)\n<command-543936334760014>:13: FutureWarning: The frame.append method is deprecated and will be removed from pandas in a future version. Use pandas.concat instead.\n  visualize_table16 = visualize_table16.append({'Roundof16': ''}, ignore_index=True)\n<command-543936334760014>:8: FutureWarning: The frame.append method is deprecated and will be removed from pandas in a future version. Use pandas.concat instead.\n  visualize_table16 = visualize_table16.append({'Roundof16': f\"{row['team_1_name']} ({row['team_1_goal']})\"}, ignore_index=True)\n<command-543936334760014>:9: FutureWarning: The frame.append method is deprecated and will be removed from pandas in a future version. Use pandas.concat instead.\n  visualize_table16 = visualize_table16.append({'Roundof16': f\"{row['team_2_name']} ({row['team_2_goal']})\"}, ignore_index=True)\n<command-543936334760014>:12: FutureWarning: The frame.append method is deprecated and will be removed from pandas in a future version. Use pandas.concat instead.\n  visualize_table16 = visualize_table16.append({'Roundof16': ''}, ignore_index=True)\n<command-543936334760014>:13: FutureWarning: The frame.append method is deprecated and will be removed from pandas in a future version. Use pandas.concat instead.\n  visualize_table16 = visualize_table16.append({'Roundof16': ''}, ignore_index=True)\n<command-543936334760014>:8: FutureWarning: The frame.append method is deprecated and will be removed from pandas in a future version. Use pandas.concat instead.\n  visualize_table16 = visualize_table16.append({'Roundof16': f\"{row['team_1_name']} ({row['team_1_goal']})\"}, ignore_index=True)\n<command-543936334760014>:9: FutureWarning: The frame.append method is deprecated and will be removed from pandas in a future version. Use pandas.concat instead.\n  visualize_table16 = visualize_table16.append({'Roundof16': f\"{row['team_2_name']} ({row['team_2_goal']})\"}, ignore_index=True)\n<command-543936334760014>:12: FutureWarning: The frame.append method is deprecated and will be removed from pandas in a future version. Use pandas.concat instead.\n  visualize_table16 = visualize_table16.append({'Roundof16': ''}, ignore_index=True)\n<command-543936334760014>:13: FutureWarning: The frame.append method is deprecated and will be removed from pandas in a future version. Use pandas.concat instead.\n  visualize_table16 = visualize_table16.append({'Roundof16': ''}, ignore_index=True)\n<command-543936334760014>:8: FutureWarning: The frame.append method is deprecated and will be removed from pandas in a future version. Use pandas.concat instead.\n  visualize_table16 = visualize_table16.append({'Roundof16': f\"{row['team_1_name']} ({row['team_1_goal']})\"}, ignore_index=True)\n<command-543936334760014>:9: FutureWarning: The frame.append method is deprecated and will be removed from pandas in a future version. Use pandas.concat instead.\n  visualize_table16 = visualize_table16.append({'Roundof16': f\"{row['team_2_name']} ({row['team_2_goal']})\"}, ignore_index=True)\n<command-543936334760014>:12: FutureWarning: The frame.append method is deprecated and will be removed from pandas in a future version. Use pandas.concat instead.\n  visualize_table16 = visualize_table16.append({'Roundof16': ''}, ignore_index=True)\n<command-543936334760014>:13: FutureWarning: The frame.append method is deprecated and will be removed from pandas in a future version. Use pandas.concat instead.\n  visualize_table16 = visualize_table16.append({'Roundof16': ''}, ignore_index=True)\n<command-543936334760014>:8: FutureWarning: The frame.append method is deprecated and will be removed from pandas in a future version. Use pandas.concat instead.\n  visualize_table16 = visualize_table16.append({'Roundof16': f\"{row['team_1_name']} ({row['team_1_goal']})\"}, ignore_index=True)\n<command-543936334760014>:9: FutureWarning: The frame.append method is deprecated and will be removed from pandas in a future version. Use pandas.concat instead.\n  visualize_table16 = visualize_table16.append({'Roundof16': f\"{row['team_2_name']} ({row['team_2_goal']})\"}, ignore_index=True)\n<command-543936334760014>:12: FutureWarning: The frame.append method is deprecated and will be removed from pandas in a future version. Use pandas.concat instead.\n  visualize_table16 = visualize_table16.append({'Roundof16': ''}, ignore_index=True)\n<command-543936334760014>:13: FutureWarning: The frame.append method is deprecated and will be removed from pandas in a future version. Use pandas.concat instead.\n  visualize_table16 = visualize_table16.append({'Roundof16': ''}, ignore_index=True)\n<command-543936334760014>:15: FutureWarning: The frame.append method is deprecated and will be removed from pandas in a future version. Use pandas.concat instead.\n  visualize_table16 = visualize_table16.append({'Roundof16': ''}, ignore_index=True)\n<command-543936334760014>:30: FutureWarning: The frame.append method is deprecated and will be removed from pandas in a future version. Use pandas.concat instead.\n  visualize_score16 = visualize_score16.append({'quaterFinal': ''}, ignore_index=True)\n<command-543936334760014>:30: FutureWarning: The frame.append method is deprecated and will be removed from pandas in a future version. Use pandas.concat instead.\n  visualize_score16 = visualize_score16.append({'quaterFinal': ''}, ignore_index=True)\n<command-543936334760014>:30: FutureWarning: The frame.append method is deprecated and will be removed from pandas in a future version. Use pandas.concat instead.\n  visualize_score16 = visualize_score16.append({'quaterFinal': ''}, ignore_index=True)\n<command-543936334760014>:34: FutureWarning: The frame.append method is deprecated and will be removed from pandas in a future version. Use pandas.concat instead.\n  visualize_score16 = visualize_score16.append({'quaterFinal': f\"{row['team_1_name']} ({row['team_1_goal']})\"}, ignore_index=True)\n<command-543936334760014>:35: FutureWarning: The frame.append method is deprecated and will be removed from pandas in a future version. Use pandas.concat instead.\n  visualize_score16 = visualize_score16.append({'quaterFinal': f\"{row['team_2_name']} ({row['team_2_goal']})\"}, ignore_index=True)\n<command-543936334760014>:37: FutureWarning: The frame.append method is deprecated and will be removed from pandas in a future version. Use pandas.concat instead.\n  visualize_score16 = visualize_score16.append({'quaterFinal': ''}, ignore_index=True)\n<command-543936334760014>:37: FutureWarning: The frame.append method is deprecated and will be removed from pandas in a future version. Use pandas.concat instead.\n  visualize_score16 = visualize_score16.append({'quaterFinal': ''}, ignore_index=True)\n<command-543936334760014>:37: FutureWarning: The frame.append method is deprecated and will be removed from pandas in a future version. Use pandas.concat instead.\n  visualize_score16 = visualize_score16.append({'quaterFinal': ''}, ignore_index=True)\n<command-543936334760014>:37: FutureWarning: The frame.append method is deprecated and will be removed from pandas in a future version. Use pandas.concat instead.\n  visualize_score16 = visualize_score16.append({'quaterFinal': ''}, ignore_index=True)\n<command-543936334760014>:37: FutureWarning: The frame.append method is deprecated and will be removed from pandas in a future version. Use pandas.concat instead.\n  visualize_score16 = visualize_score16.append({'quaterFinal': ''}, ignore_index=True)\n<command-543936334760014>:37: FutureWarning: The frame.append method is deprecated and will be removed from pandas in a future version. Use pandas.concat instead.\n  visualize_score16 = visualize_score16.append({'quaterFinal': ''}, ignore_index=True)\n<command-543936334760014>:34: FutureWarning: The frame.append method is deprecated and will be removed from pandas in a future version. Use pandas.concat instead.\n  visualize_score16 = visualize_score16.append({'quaterFinal': f\"{row['team_1_name']} ({row['team_1_goal']})\"}, ignore_index=True)\n<command-543936334760014>:35: FutureWarning: The frame.append method is deprecated and will be removed from pandas in a future version. Use pandas.concat instead.\n  visualize_score16 = visualize_score16.append({'quaterFinal': f\"{row['team_2_name']} ({row['team_2_goal']})\"}, ignore_index=True)\n<command-543936334760014>:37: FutureWarning: The frame.append method is deprecated and will be removed from pandas in a future version. Use pandas.concat instead.\n  visualize_score16 = visualize_score16.append({'quaterFinal': ''}, ignore_index=True)\n<command-543936334760014>:37: FutureWarning: The frame.append method is deprecated and will be removed from pandas in a future version. Use pandas.concat instead.\n  visualize_score16 = visualize_score16.append({'quaterFinal': ''}, ignore_index=True)\n<command-543936334760014>:37: FutureWarning: The frame.append method is deprecated and will be removed from pandas in a future version. Use pandas.concat instead.\n  visualize_score16 = visualize_score16.append({'quaterFinal': ''}, ignore_index=True)\n<command-543936334760014>:37: FutureWarning: The frame.append method is deprecated and will be removed from pandas in a future version. Use pandas.concat instead.\n  visualize_score16 = visualize_score16.append({'quaterFinal': ''}, ignore_index=True)\n<command-543936334760014>:37: FutureWarning: The frame.append method is deprecated and will be removed from pandas in a future version. Use pandas.concat instead.\n  visualize_score16 = visualize_score16.append({'quaterFinal': ''}, ignore_index=True)\n<command-543936334760014>:37: FutureWarning: The frame.append method is deprecated and will be removed from pandas in a future version. Use pandas.concat instead.\n  visualize_score16 = visualize_score16.append({'quaterFinal': ''}, ignore_index=True)\n<command-543936334760014>:34: FutureWarning: The frame.append method is deprecated and will be removed from pandas in a future version. Use pandas.concat instead.\n  visualize_score16 = visualize_score16.append({'quaterFinal': f\"{row['team_1_name']} ({row['team_1_goal']})\"}, ignore_index=True)\n<command-543936334760014>:35: FutureWarning: The frame.append method is deprecated and will be removed from pandas in a future version. Use pandas.concat instead.\n  visualize_score16 = visualize_score16.append({'quaterFinal': f\"{row['team_2_name']} ({row['team_2_goal']})\"}, ignore_index=True)\n<command-543936334760014>:37: FutureWarning: The frame.append method is deprecated and will be removed from pandas in a future version. Use pandas.concat instead.\n  visualize_score16 = visualize_score16.append({'quaterFinal': ''}, ignore_index=True)\n<command-543936334760014>:37: FutureWarning: The frame.append method is deprecated and will be removed from pandas in a future version. Use pandas.concat instead.\n  visualize_score16 = visualize_score16.append({'quaterFinal': ''}, ignore_index=True)\n<command-543936334760014>:37: FutureWarning: The frame.append method is deprecated and will be removed from pandas in a future version. Use pandas.concat instead.\n  visualize_score16 = visualize_score16.append({'quaterFinal': ''}, ignore_index=True)\n<command-543936334760014>:37: FutureWarning: The frame.append method is deprecated and will be removed from pandas in a future version. Use pandas.concat instead.\n  visualize_score16 = visualize_score16.append({'quaterFinal': ''}, ignore_index=True)\n<command-543936334760014>:37: FutureWarning: The frame.append method is deprecated and will be removed from pandas in a future version. Use pandas.concat instead.\n  visualize_score16 = visualize_score16.append({'quaterFinal': ''}, ignore_index=True)\n<command-543936334760014>:37: FutureWarning: The frame.append method is deprecated and will be removed from pandas in a future version. Use pandas.concat instead.\n  visualize_score16 = visualize_score16.append({'quaterFinal': ''}, ignore_index=True)\n<command-543936334760014>:34: FutureWarning: The frame.append method is deprecated and will be removed from pandas in a future version. Use pandas.concat instead.\n  visualize_score16 = visualize_score16.append({'quaterFinal': f\"{row['team_1_name']} ({row['team_1_goal']})\"}, ignore_index=True)\n<command-543936334760014>:35: FutureWarning: The frame.append method is deprecated and will be removed from pandas in a future version. Use pandas.concat instead.\n  visualize_score16 = visualize_score16.append({'quaterFinal': f\"{row['team_2_name']} ({row['team_2_goal']})\"}, ignore_index=True)\n<command-543936334760014>:37: FutureWarning: The frame.append method is deprecated and will be removed from pandas in a future version. Use pandas.concat instead.\n  visualize_score16 = visualize_score16.append({'quaterFinal': ''}, ignore_index=True)\n<command-543936334760014>:37: FutureWarning: The frame.append method is deprecated and will be removed from pandas in a future version. Use pandas.concat instead.\n  visualize_score16 = visualize_score16.append({'quaterFinal': ''}, ignore_index=True)\n<command-543936334760014>:37: FutureWarning: The frame.append method is deprecated and will be removed from pandas in a future version. Use pandas.concat instead.\n  visualize_score16 = visualize_score16.append({'quaterFinal': ''}, ignore_index=True)\n<command-543936334760014>:37: FutureWarning: The frame.append method is deprecated and will be removed from pandas in a future version. Use pandas.concat instead.\n  visualize_score16 = visualize_score16.append({'quaterFinal': ''}, ignore_index=True)\n<command-543936334760014>:37: FutureWarning: The frame.append method is deprecated and will be removed from pandas in a future version. Use pandas.concat instead.\n  visualize_score16 = visualize_score16.append({'quaterFinal': ''}, ignore_index=True)\n<command-543936334760014>:37: FutureWarning: The frame.append method is deprecated and will be removed from pandas in a future version. Use pandas.concat instead.\n  visualize_score16 = visualize_score16.append({'quaterFinal': ''}, ignore_index=True)\n<command-543936334760014>:53: FutureWarning: The frame.append method is deprecated and will be removed from pandas in a future version. Use pandas.concat instead.\n  visualize_score_semi = visualize_score_semi.append({'semiFinal': ''}, ignore_index=True)\n<command-543936334760014>:53: FutureWarning: The frame.append method is deprecated and will be removed from pandas in a future version. Use pandas.concat instead.\n  visualize_score_semi = visualize_score_semi.append({'semiFinal': ''}, ignore_index=True)\n<command-543936334760014>:53: FutureWarning: The frame.append method is deprecated and will be removed from pandas in a future version. Use pandas.concat instead.\n  visualize_score_semi = visualize_score_semi.append({'semiFinal': ''}, ignore_index=True)\n<command-543936334760014>:53: FutureWarning: The frame.append method is deprecated and will be removed from pandas in a future version. Use pandas.concat instead.\n  visualize_score_semi = visualize_score_semi.append({'semiFinal': ''}, ignore_index=True)\n<command-543936334760014>:53: FutureWarning: The frame.append method is deprecated and will be removed from pandas in a future version. Use pandas.concat instead.\n  visualize_score_semi = visualize_score_semi.append({'semiFinal': ''}, ignore_index=True)\n<command-543936334760014>:55: FutureWarning: The frame.append method is deprecated and will be removed from pandas in a future version. Use pandas.concat instead.\n  visualize_score_semi = visualize_score_semi.append({'semiFinal':  f\"{row['team_1_name']} ({row['team_1_goal']})\"}, ignore_index=True)\n<command-543936334760014>:56: FutureWarning: The frame.append method is deprecated and will be removed from pandas in a future version. Use pandas.concat instead.\n  visualize_score_semi = visualize_score_semi.append({'semiFinal': f\"{row['team_2_name']} ({row['team_2_goal']})\"}, ignore_index=True)\n<command-543936334760014>:59: FutureWarning: The frame.append method is deprecated and will be removed from pandas in a future version. Use pandas.concat instead.\n  visualize_score_semi = visualize_score_semi.append({'semiFinal': ''}, ignore_index=True)\n<command-543936334760014>:59: FutureWarning: The frame.append method is deprecated and will be removed from pandas in a future version. Use pandas.concat instead.\n  visualize_score_semi = visualize_score_semi.append({'semiFinal': ''}, ignore_index=True)\n<command-543936334760014>:59: FutureWarning: The frame.append method is deprecated and will be removed from pandas in a future version. Use pandas.concat instead.\n  visualize_score_semi = visualize_score_semi.append({'semiFinal': ''}, ignore_index=True)\n<command-543936334760014>:59: FutureWarning: The frame.append method is deprecated and will be removed from pandas in a future version. Use pandas.concat instead.\n  visualize_score_semi = visualize_score_semi.append({'semiFinal': ''}, ignore_index=True)\n<command-543936334760014>:59: FutureWarning: The frame.append method is deprecated and will be removed from pandas in a future version. Use pandas.concat instead.\n  visualize_score_semi = visualize_score_semi.append({'semiFinal': ''}, ignore_index=True)\n<command-543936334760014>:59: FutureWarning: The frame.append method is deprecated and will be removed from pandas in a future version. Use pandas.concat instead.\n  visualize_score_semi = visualize_score_semi.append({'semiFinal': ''}, ignore_index=True)\n<command-543936334760014>:59: FutureWarning: The frame.append method is deprecated and will be removed from pandas in a future version. Use pandas.concat instead.\n  visualize_score_semi = visualize_score_semi.append({'semiFinal': ''}, ignore_index=True)\n<command-543936334760014>:59: FutureWarning: The frame.append method is deprecated and will be removed from pandas in a future version. Use pandas.concat instead.\n  visualize_score_semi = visualize_score_semi.append({'semiFinal': ''}, ignore_index=True)\n<command-543936334760014>:59: FutureWarning: The frame.append method is deprecated and will be removed from pandas in a future version. Use pandas.concat instead.\n  visualize_score_semi = visualize_score_semi.append({'semiFinal': ''}, ignore_index=True)\n<command-543936334760014>:59: FutureWarning: The frame.append method is deprecated and will be removed from pandas in a future version. Use pandas.concat instead.\n  visualize_score_semi = visualize_score_semi.append({'semiFinal': ''}, ignore_index=True)\n<command-543936334760014>:59: FutureWarning: The frame.append method is deprecated and will be removed from pandas in a future version. Use pandas.concat instead.\n  visualize_score_semi = visualize_score_semi.append({'semiFinal': ''}, ignore_index=True)\n<command-543936334760014>:59: FutureWarning: The frame.append method is deprecated and will be removed from pandas in a future version. Use pandas.concat instead.\n  visualize_score_semi = visualize_score_semi.append({'semiFinal': ''}, ignore_index=True)\n<command-543936334760014>:59: FutureWarning: The frame.append method is deprecated and will be removed from pandas in a future version. Use pandas.concat instead.\n  visualize_score_semi = visualize_score_semi.append({'semiFinal': ''}, ignore_index=True)\n<command-543936334760014>:55: FutureWarning: The frame.append method is deprecated and will be removed from pandas in a future version. Use pandas.concat instead.\n  visualize_score_semi = visualize_score_semi.append({'semiFinal':  f\"{row['team_1_name']} ({row['team_1_goal']})\"}, ignore_index=True)\n<command-543936334760014>:56: FutureWarning: The frame.append method is deprecated and will be removed from pandas in a future version. Use pandas.concat instead.\n  visualize_score_semi = visualize_score_semi.append({'semiFinal': f\"{row['team_2_name']} ({row['team_2_goal']})\"}, ignore_index=True)\n<command-543936334760014>:59: FutureWarning: The frame.append method is deprecated and will be removed from pandas in a future version. Use pandas.concat instead.\n  visualize_score_semi = visualize_score_semi.append({'semiFinal': ''}, ignore_index=True)\n<command-543936334760014>:59: FutureWarning: The frame.append method is deprecated and will be removed from pandas in a future version. Use pandas.concat instead.\n  visualize_score_semi = visualize_score_semi.append({'semiFinal': ''}, ignore_index=True)\n<command-543936334760014>:59: FutureWarning: The frame.append method is deprecated and will be removed from pandas in a future version. Use pandas.concat instead.\n  visualize_score_semi = visualize_score_semi.append({'semiFinal': ''}, ignore_index=True)\n<command-543936334760014>:59: FutureWarning: The frame.append method is deprecated and will be removed from pandas in a future version. Use pandas.concat instead.\n  visualize_score_semi = visualize_score_semi.append({'semiFinal': ''}, ignore_index=True)\n<command-543936334760014>:59: FutureWarning: The frame.append method is deprecated and will be removed from pandas in a future version. Use pandas.concat instead.\n  visualize_score_semi = visualize_score_semi.append({'semiFinal': ''}, ignore_index=True)\n<command-543936334760014>:59: FutureWarning: The frame.append method is deprecated and will be removed from pandas in a future version. Use pandas.concat instead.\n  visualize_score_semi = visualize_score_semi.append({'semiFinal': ''}, ignore_index=True)\n<command-543936334760014>:59: FutureWarning: The frame.append method is deprecated and will be removed from pandas in a future version. Use pandas.concat instead.\n  visualize_score_semi = visualize_score_semi.append({'semiFinal': ''}, ignore_index=True)\n<command-543936334760014>:59: FutureWarning: The frame.append method is deprecated and will be removed from pandas in a future version. Use pandas.concat instead.\n  visualize_score_semi = visualize_score_semi.append({'semiFinal': ''}, ignore_index=True)\n<command-543936334760014>:59: FutureWarning: The frame.append method is deprecated and will be removed from pandas in a future version. Use pandas.concat instead.\n  visualize_score_semi = visualize_score_semi.append({'semiFinal': ''}, ignore_index=True)\n<command-543936334760014>:59: FutureWarning: The frame.append method is deprecated and will be removed from pandas in a future version. Use pandas.concat instead.\n  visualize_score_semi = visualize_score_semi.append({'semiFinal': ''}, ignore_index=True)\n<command-543936334760014>:59: FutureWarning: The frame.append method is deprecated and will be removed from pandas in a future version. Use pandas.concat instead.\n  visualize_score_semi = visualize_score_semi.append({'semiFinal': ''}, ignore_index=True)\n<command-543936334760014>:59: FutureWarning: The frame.append method is deprecated and will be removed from pandas in a future version. Use pandas.concat instead.\n  visualize_score_semi = visualize_score_semi.append({'semiFinal': ''}, ignore_index=True)\n<command-543936334760014>:59: FutureWarning: The frame.append method is deprecated and will be removed from pandas in a future version. Use pandas.concat instead.\n  visualize_score_semi = visualize_score_semi.append({'semiFinal': ''}, ignore_index=True)\n<command-543936334760014>:78: FutureWarning: The frame.append method is deprecated and will be removed from pandas in a future version. Use pandas.concat instead.\n  visualize_final = visualize_final.append({'Finals': ''}, ignore_index=True)\n<command-543936334760014>:78: FutureWarning: The frame.append method is deprecated and will be removed from pandas in a future version. Use pandas.concat instead.\n  visualize_final = visualize_final.append({'Finals': ''}, ignore_index=True)\n<command-543936334760014>:78: FutureWarning: The frame.append method is deprecated and will be removed from pandas in a future version. Use pandas.concat instead.\n  visualize_final = visualize_final.append({'Finals': ''}, ignore_index=True)\n<command-543936334760014>:78: FutureWarning: The frame.append method is deprecated and will be removed from pandas in a future version. Use pandas.concat instead.\n  visualize_final = visualize_final.append({'Finals': ''}, ignore_index=True)\n<command-543936334760014>:78: FutureWarning: The frame.append method is deprecated and will be removed from pandas in a future version. Use pandas.concat instead.\n  visualize_final = visualize_final.append({'Finals': ''}, ignore_index=True)\n<command-543936334760014>:78: FutureWarning: The frame.append method is deprecated and will be removed from pandas in a future version. Use pandas.concat instead.\n  visualize_final = visualize_final.append({'Finals': ''}, ignore_index=True)\n<command-543936334760014>:81: FutureWarning: The frame.append method is deprecated and will be removed from pandas in a future version. Use pandas.concat instead.\n  visualize_final = visualize_final.append({'Finals': f\"{row['team_1_name']} ({row['team_1_goal']})\"}, ignore_index=True)\n<command-543936334760014>:82: FutureWarning: The frame.append method is deprecated and will be removed from pandas in a future version. Use pandas.concat instead.\n  visualize_final = visualize_final.append({'Finals': f\"{row['team_2_name']} ({row['team_2_goal']})\"}, ignore_index=True)\n<command-543936334760014>:83: FutureWarning: The frame.append method is deprecated and will be removed from pandas in a future version. Use pandas.concat instead.\n  visualize_final = visualize_final.append({'Finals': ''}, ignore_index=True)\n<command-543936334760014>:84: FutureWarning: The frame.append method is deprecated and will be removed from pandas in a future version. Use pandas.concat instead.\n  visualize_final = visualize_final.append({'Finals': f\"Winner: {row['winner']}\"}, ignore_index=True)\n<command-543936334760014>:90: FutureWarning: The frame.append method is deprecated and will be removed from pandas in a future version. Use pandas.concat instead.\n  visualize_final = visualize_final.append({'Finals': ''}, ignore_index=True)\n<command-543936334760014>:90: FutureWarning: The frame.append method is deprecated and will be removed from pandas in a future version. Use pandas.concat instead.\n  visualize_final = visualize_final.append({'Finals': ''}, ignore_index=True)\n<command-543936334760014>:90: FutureWarning: The frame.append method is deprecated and will be removed from pandas in a future version. Use pandas.concat instead.\n  visualize_final = visualize_final.append({'Finals': ''}, ignore_index=True)\n<command-543936334760014>:90: FutureWarning: The frame.append method is deprecated and will be removed from pandas in a future version. Use pandas.concat instead.\n  visualize_final = visualize_final.append({'Finals': ''}, ignore_index=True)\n<command-543936334760014>:90: FutureWarning: The frame.append method is deprecated and will be removed from pandas in a future version. Use pandas.concat instead.\n  visualize_final = visualize_final.append({'Finals': ''}, ignore_index=True)\n<command-543936334760014>:90: FutureWarning: The frame.append method is deprecated and will be removed from pandas in a future version. Use pandas.concat instead.\n  visualize_final = visualize_final.append({'Finals': ''}, ignore_index=True)\n/databricks/spark/python/pyspark/sql/pandas/conversion.py:467: UserWarning: createDataFrame attempted Arrow optimization because 'spark.sql.execution.arrow.pyspark.enabled' is set to true; however, failed by the reason below:\n  Expected bytes, got a 'int' object\nAttempting non-optimization as 'spark.sql.execution.arrow.pyspark.fallback.enabled' is set to true.\n  warn(msg)\n"
     ]
    },
    {
     "output_type": "display_data",
     "data": {
      "text/html": [
       "<style scoped>\n",
       "  .table-result-container {\n",
       "    max-height: 300px;\n",
       "    overflow: auto;\n",
       "  }\n",
       "  table, th, td {\n",
       "    border: 1px solid black;\n",
       "    border-collapse: collapse;\n",
       "  }\n",
       "  th, td {\n",
       "    padding: 5px;\n",
       "  }\n",
       "  th {\n",
       "    text-align: left;\n",
       "  }\n",
       "</style><div class='table-result-container'><table class='table-result'><thead style='background-color: white'><tr><th>teamname111</th><th>teamgroup111</th><th>rankings111</th><th>points111</th><th>goaldifference111</th><th>space111</th><th>Roundof161</th><th>quaterFinal1</th><th>semiFinal1</th><th>Finals</th><th>semiFinal2</th><th>quaterFinal2</th><th>Roundof162</th><th>teamname222</th><th>teamgroup222</th><th>rankings222</th><th>points222</th><th>goaldifference222</th></tr></thead><tbody><tr><td></td><td></td><td></td><td></td><td></td><td></td><td></td><td></td><td></td><td></td><td></td><td></td><td></td><td></td><td></td><td></td><td></td><td></td></tr><tr><td>Germany, Group A</td><td>Group A</td><td>1</td><td>9</td><td>10</td><td></td><td>Greece, Group B (1)</td><td></td><td></td><td></td><td></td><td></td><td>Bulgaria, Group E (5)</td><td>Estonia, Group D</td><td>Group D</td><td>1</td><td>6</td><td>4</td></tr><tr><td>Latvia, Group A</td><td>Group A</td><td>2</td><td>4</td><td>-2</td><td></td><td>Croatia, Group F (2)</td><td></td><td></td><td></td><td></td><td></td><td>Hungary, Group C (2)</td><td>Iceland, Group D</td><td>Group D</td><td>2</td><td>5</td><td>2</td></tr><tr><td>Albania, Group A</td><td>Group A</td><td>3</td><td>3</td><td>-2</td><td></td><td></td><td>Croatia, Group F (2)</td><td></td><td></td><td></td><td>Bulgaria, Group E (1)</td><td></td><td>Malta, Group D</td><td>Group D</td><td>3</td><td>2</td><td>-2</td></tr><tr><td>Cyprus, Group A</td><td>Group A</td><td>4</td><td>1</td><td>-6</td><td></td><td></td><td>Denmark, Group C (5)</td><td></td><td></td><td>France, Group F (5)</td><td>France, Group F (5)</td><td></td><td>Bosnia, Group D</td><td>Group D</td><td>4</td><td>2</td><td>-4</td></tr><tr><td></td><td></td><td></td><td></td><td></td><td></td><td>Germany, Group A (2)</td><td></td><td>Denmark, Group C (5)</td><td></td><td>Finland, Group E (4)</td><td></td><td>Estonia, Group D (2)</td><td></td><td></td><td></td><td></td><td></td></tr><tr><td>Greece, Group B</td><td>Group B</td><td>1</td><td>5</td><td>5</td><td></td><td>Denmark, Group C (4)</td><td></td><td>Iceland, Group D (3)</td><td>Denmark, Group C (0)</td><td></td><td></td><td>France, Group F (5)</td><td>Bulgaria, Group E</td><td>Group E</td><td>1</td><td>6</td><td>1</td></tr><tr><td>Czech Republic, Group B</td><td>Group B</td><td>2</td><td>5</td><td>1</td><td></td><td></td><td></td><td></td><td>France, Group F (4)</td><td></td><td></td><td></td><td>Netherlands, Group E</td><td>Group E</td><td>2</td><td>4</td><td>1</td></tr><tr><td>Austria, Group B</td><td>Group B</td><td>3</td><td>4</td><td>-4</td><td></td><td></td><td></td><td></td><td></td><td></td><td></td><td></td><td>Finland, Group E</td><td>Group E</td><td>3</td><td>4</td><td>-1</td></tr><tr><td>Lithuania, Group B</td><td>Group B</td><td>4</td><td>1</td><td>-2</td><td></td><td>Italy, Group F (2)</td><td></td><td></td><td>Winner: France, Group F</td><td></td><td></td><td>Belgium, Group C (2)</td><td>Ireland, Group E</td><td>Group E</td><td>4</td><td>2</td><td>-1</td></tr><tr><td></td><td></td><td></td><td></td><td></td><td></td><td>Austria, Group B (1)</td><td></td><td></td><td></td><td></td><td></td><td>Finland, Group E (5)</td><td></td><td></td><td></td><td></td><td></td></tr><tr><td>Belgium, Group C</td><td>Group C</td><td>1</td><td>9</td><td>5</td><td></td><td></td><td>Italy, Group F (0)</td><td></td><td></td><td></td><td>Finland, Group E (1)</td><td></td><td>Italy, Group F</td><td>Group F</td><td>1</td><td>7</td><td>4</td></tr><tr><td>Denmark, Group C</td><td>Group C</td><td>2</td><td>6</td><td>5</td><td></td><td></td><td>Iceland, Group D (1)</td><td></td><td></td><td></td><td>Czech Republic, Group B (0)</td><td></td><td>France, Group F</td><td>Group F</td><td>2</td><td>4</td><td>-1</td></tr><tr><td>Hungary, Group C</td><td>Group C</td><td>3</td><td>3</td><td>0</td><td></td><td>Iceland, Group D (5)</td><td></td><td></td><td></td><td></td><td></td><td>Latvia, Group A (0)</td><td>Croatia, Group F</td><td>Group F</td><td>3</td><td>3</td><td>-1</td></tr><tr><td>Luxembourg, Group C</td><td>Group C</td><td>4</td><td>0</td><td>-10</td><td></td><td>Netherlands, Group E (0)</td><td></td><td></td><td></td><td></td><td></td><td>Czech Republic, Group B (1)</td><td>Norway, Group F</td><td>Group F</td><td>4</td><td>3</td><td>-2</td></tr><tr><td></td><td></td><td></td><td></td><td></td><td></td><td></td><td></td><td></td><td></td><td></td><td></td><td></td><td></td><td></td><td></td><td></td><td></td></tr></tbody></table></div>"
      ]
     },
     "metadata": {
      "application/vnd.databricks.v1+output": {
       "addedWidgets": {},
       "aggData": [],
       "aggError": "",
       "aggOverflow": false,
       "aggSchema": [],
       "aggSeriesLimitReached": false,
       "aggType": "",
       "arguments": {},
       "columnCustomDisplayInfos": {},
       "data": [
        [
         "",
         "",
         "",
         "",
         "",
         "",
         "",
         "",
         "",
         "",
         "",
         "",
         "",
         "",
         "",
         "",
         "",
         ""
        ],
        [
         "Germany, Group A",
         "Group A",
         "1",
         "9",
         "10",
         "",
         "Greece, Group B (1)",
         "",
         "",
         "",
         "",
         "",
         "Bulgaria, Group E (5)",
         "Estonia, Group D",
         "Group D",
         "1",
         "6",
         "4"
        ],
        [
         "Latvia, Group A",
         "Group A",
         "2",
         "4",
         "-2",
         "",
         "Croatia, Group F (2)",
         "",
         "",
         "",
         "",
         "",
         "Hungary, Group C (2)",
         "Iceland, Group D",
         "Group D",
         "2",
         "5",
         "2"
        ],
        [
         "Albania, Group A",
         "Group A",
         "3",
         "3",
         "-2",
         "",
         "",
         "Croatia, Group F (2)",
         "",
         "",
         "",
         "Bulgaria, Group E (1)",
         "",
         "Malta, Group D",
         "Group D",
         "3",
         "2",
         "-2"
        ],
        [
         "Cyprus, Group A",
         "Group A",
         "4",
         "1",
         "-6",
         "",
         "",
         "Denmark, Group C (5)",
         "",
         "",
         "France, Group F (5)",
         "France, Group F (5)",
         "",
         "Bosnia, Group D",
         "Group D",
         "4",
         "2",
         "-4"
        ],
        [
         "",
         "",
         "",
         "",
         "",
         "",
         "Germany, Group A (2)",
         "",
         "Denmark, Group C (5)",
         "",
         "Finland, Group E (4)",
         "",
         "Estonia, Group D (2)",
         "",
         "",
         "",
         "",
         ""
        ],
        [
         "Greece, Group B",
         "Group B",
         "1",
         "5",
         "5",
         "",
         "Denmark, Group C (4)",
         "",
         "Iceland, Group D (3)",
         "Denmark, Group C (0)",
         "",
         "",
         "France, Group F (5)",
         "Bulgaria, Group E",
         "Group E",
         "1",
         "6",
         "1"
        ],
        [
         "Czech Republic, Group B",
         "Group B",
         "2",
         "5",
         "1",
         "",
         "",
         "",
         "",
         "France, Group F (4)",
         "",
         "",
         "",
         "Netherlands, Group E",
         "Group E",
         "2",
         "4",
         "1"
        ],
        [
         "Austria, Group B",
         "Group B",
         "3",
         "4",
         "-4",
         "",
         "",
         "",
         "",
         "",
         "",
         "",
         "",
         "Finland, Group E",
         "Group E",
         "3",
         "4",
         "-1"
        ],
        [
         "Lithuania, Group B",
         "Group B",
         "4",
         "1",
         "-2",
         "",
         "Italy, Group F (2)",
         "",
         "",
         "Winner: France, Group F",
         "",
         "",
         "Belgium, Group C (2)",
         "Ireland, Group E",
         "Group E",
         "4",
         "2",
         "-1"
        ],
        [
         "",
         "",
         "",
         "",
         "",
         "",
         "Austria, Group B (1)",
         "",
         "",
         "",
         "",
         "",
         "Finland, Group E (5)",
         "",
         "",
         "",
         "",
         ""
        ],
        [
         "Belgium, Group C",
         "Group C",
         "1",
         "9",
         "5",
         "",
         "",
         "Italy, Group F (0)",
         "",
         "",
         "",
         "Finland, Group E (1)",
         "",
         "Italy, Group F",
         "Group F",
         "1",
         "7",
         "4"
        ],
        [
         "Denmark, Group C",
         "Group C",
         "2",
         "6",
         "5",
         "",
         "",
         "Iceland, Group D (1)",
         "",
         "",
         "",
         "Czech Republic, Group B (0)",
         "",
         "France, Group F",
         "Group F",
         "2",
         "4",
         "-1"
        ],
        [
         "Hungary, Group C",
         "Group C",
         "3",
         "3",
         "0",
         "",
         "Iceland, Group D (5)",
         "",
         "",
         "",
         "",
         "",
         "Latvia, Group A (0)",
         "Croatia, Group F",
         "Group F",
         "3",
         "3",
         "-1"
        ],
        [
         "Luxembourg, Group C",
         "Group C",
         "4",
         "0",
         "-10",
         "",
         "Netherlands, Group E (0)",
         "",
         "",
         "",
         "",
         "",
         "Czech Republic, Group B (1)",
         "Norway, Group F",
         "Group F",
         "4",
         "3",
         "-2"
        ],
        [
         "",
         "",
         "",
         "",
         "",
         "",
         "",
         "",
         "",
         "",
         "",
         "",
         "",
         "",
         "",
         "",
         "",
         ""
        ]
       ],
       "datasetInfos": [],
       "dbfsResultPath": null,
       "isJsonSchema": true,
       "metadata": {},
       "overflow": false,
       "plotOptions": {
        "customPlotOptions": {},
        "displayType": "table",
        "pivotAggregation": null,
        "pivotColumns": null,
        "xColumns": null,
        "yColumns": null
       },
       "removedWidgets": [],
       "schema": [
        {
         "metadata": "{}",
         "name": "teamname111",
         "type": "\"string\""
        },
        {
         "metadata": "{}",
         "name": "teamgroup111",
         "type": "\"string\""
        },
        {
         "metadata": "{}",
         "name": "rankings111",
         "type": "\"string\""
        },
        {
         "metadata": "{}",
         "name": "points111",
         "type": "\"string\""
        },
        {
         "metadata": "{}",
         "name": "goaldifference111",
         "type": "\"string\""
        },
        {
         "metadata": "{}",
         "name": "space111",
         "type": "\"string\""
        },
        {
         "metadata": "{}",
         "name": "Roundof161",
         "type": "\"string\""
        },
        {
         "metadata": "{}",
         "name": "quaterFinal1",
         "type": "\"string\""
        },
        {
         "metadata": "{}",
         "name": "semiFinal1",
         "type": "\"string\""
        },
        {
         "metadata": "{}",
         "name": "Finals",
         "type": "\"string\""
        },
        {
         "metadata": "{}",
         "name": "semiFinal2",
         "type": "\"string\""
        },
        {
         "metadata": "{}",
         "name": "quaterFinal2",
         "type": "\"string\""
        },
        {
         "metadata": "{}",
         "name": "Roundof162",
         "type": "\"string\""
        },
        {
         "metadata": "{}",
         "name": "teamname222",
         "type": "\"string\""
        },
        {
         "metadata": "{}",
         "name": "teamgroup222",
         "type": "\"string\""
        },
        {
         "metadata": "{}",
         "name": "rankings222",
         "type": "\"string\""
        },
        {
         "metadata": "{}",
         "name": "points222",
         "type": "\"string\""
        },
        {
         "metadata": "{}",
         "name": "goaldifference222",
         "type": "\"string\""
        }
       ],
       "type": "table"
      }
     },
     "output_type": "display_data"
    }
   ],
   "source": [
    "sorted_df.createOrReplaceTempView(\"goup_stage_teams_temp\")\n",
    " \n",
    "round_of_16 = spark.sql(\"SELECT * FROM goup_stage_teams_temp\")\n",
    "round_of_16_pandas = round_of_16.toPandas()\n",
    "visualize_table16 = pd.DataFrame(columns=['Roundof16'])\n",
    "visualize_table16 = visualize_table16.append({'Roundof16': ''}, ignore_index=True)\n",
    "for index, row in round_of_16_pandas.iterrows():\n",
    "    visualize_table16 = visualize_table16.append({'Roundof16': f\"{row['team_1_name']} ({row['team_1_goal']})\"}, ignore_index=True)\n",
    "    visualize_table16 = visualize_table16.append({'Roundof16': f\"{row['team_2_name']} ({row['team_2_goal']})\"}, ignore_index=True)\n",
    "    \n",
    "    # Insert 2 blank rows after every record\n",
    "    visualize_table16 = visualize_table16.append({'Roundof16': ''}, ignore_index=True)\n",
    "    visualize_table16 = visualize_table16.append({'Roundof16': ''}, ignore_index=True)\n",
    "\n",
    "visualize_table16 = visualize_table16.append({'Roundof16': ''}, ignore_index=True)\n",
    "split_index = len(visualize_table16) // 2 - 1\n",
    " \n",
    "# Split the final DataFrame into two halves\n",
    "visualize_table16pool1 = visualize_table16.iloc[:split_index].reset_index(drop=True)\n",
    "visualize_table16pool2 = visualize_table16.iloc[split_index:].reset_index(drop=True)\n",
    "visualize_table16pool2 = visualize_table16pool2.drop(visualize_table16pool2.tail(2).index)\n",
    "\n",
    "df_quater_final_match_goals.createOrReplaceTempView(\"goup_stage_teams_temp\")\n",
    " \n",
    "#Quater final score\n",
    "quater_final_score = spark.sql(\"SELECT * FROM goup_stage_teams_temp\")\n",
    "quater_final_score_pandas = quater_final_score.toPandas()\n",
    "visualize_score16 = pd.DataFrame(columns=['quaterFinal'])\n",
    "for i in range(3):\n",
    "    visualize_score16 = visualize_score16.append({'quaterFinal': ''}, ignore_index=True)\n",
    "for index, row in quater_final_score_pandas.iterrows():\n",
    "    # Insert two records\n",
    "    \n",
    "    visualize_score16 = visualize_score16.append({'quaterFinal': f\"{row['team_1_name']} ({row['team_1_goal']})\"}, ignore_index=True)\n",
    "    visualize_score16 = visualize_score16.append({'quaterFinal': f\"{row['team_2_name']} ({row['team_2_goal']})\"}, ignore_index=True)\n",
    "    for i in range(6):#\n",
    "        visualize_score16 = visualize_score16.append({'quaterFinal': ''}, ignore_index=True)\n",
    "# visualize_score16 = visualize_score16.drop(visualize_score16.tail(3).index)\n",
    "split_index = len(visualize_score16) // 2 - 1\n",
    "\n",
    "# Split the final DataFrame into two halves\n",
    "visualize_score16pool1 = visualize_score16.iloc[:split_index].reset_index(drop=True)\n",
    "visualize_score16pool2 = visualize_score16.iloc[split_index:].reset_index(drop=True)\n",
    "visualize_score16pool2 = visualize_score16pool2.drop(visualize_score16pool2.tail(3).index)#2\n",
    " \n",
    "#semi final\n",
    "df_semi_final_match_goals_result.createOrReplaceTempView(\"semi_final_match_goals_result_temp\")\n",
    " \n",
    "semi_final_score = spark.sql(\"SELECT * FROM semi_final_match_goals_result_temp\")\n",
    "semi_final_score_pandas = semi_final_score.toPandas()\n",
    "visualize_score_semi = pd.DataFrame(columns=['semiFinal'])\n",
    "for i in range(5):#8#7\n",
    "    visualize_score_semi = visualize_score_semi.append({'semiFinal': ''}, ignore_index=True)\n",
    "for index, row in semi_final_score_pandas.iterrows():\n",
    "    visualize_score_semi = visualize_score_semi.append({'semiFinal':  f\"{row['team_1_name']} ({row['team_1_goal']})\"}, ignore_index=True)\n",
    "    visualize_score_semi = visualize_score_semi.append({'semiFinal': f\"{row['team_2_name']} ({row['team_2_goal']})\"}, ignore_index=True)\n",
    "\n",
    "    for i in range(13): \n",
    "        visualize_score_semi = visualize_score_semi.append({'semiFinal': ''}, ignore_index=True)\n",
    "\n",
    "split_index = len(visualize_score_semi) // 2 - 1\n",
    "\n",
    "# Split the final dataframe\n",
    "visualize_score_semipool1 = visualize_score_semi.iloc[:split_index].reset_index(drop=True)\n",
    "\n",
    "visualize_score_semipool2 = visualize_score_semi.iloc[split_index:].reset_index(drop=True)\n",
    "\n",
    "visualize_score_semipool2 = visualize_score_semipool2.drop(visualize_score_semipool2.tail(3).index)\n",
    "\n",
    "#final \n",
    "df_final_match_goals_result.createOrReplaceTempView(\"final_match_goals_result_temp\")\n",
    "\n",
    "final = spark.sql(\"SELECT * FROM final_match_goals_result_temp\")\n",
    "final_pandas = final.toPandas()\n",
    "\n",
    "visualize_final = pd.DataFrame(columns=['Finals'])\n",
    "for i in range(6):\n",
    "    visualize_final = visualize_final.append({'Finals': ''}, ignore_index=True)\n",
    "\n",
    "for index, row in final_pandas.iterrows():\n",
    "    visualize_final = visualize_final.append({'Finals': f\"{row['team_1_name']} ({row['team_1_goal']})\"}, ignore_index=True)\n",
    "    visualize_final = visualize_final.append({'Finals': f\"{row['team_2_name']} ({row['team_2_goal']})\"}, ignore_index=True)\n",
    "    visualize_final = visualize_final.append({'Finals': ''}, ignore_index=True)\n",
    "    visualize_final = visualize_final.append({'Finals': f\"Winner: {row['winner']}\"}, ignore_index=True)\n",
    "    \n",
    "    if (index + 1) % 2 == 0:\n",
    "        visualize_final = visualize_final.append({'Finals': ''}, ignore_index=True)\n",
    "        visualize_final = visualize_final.append({'Finals': ''}, ignore_index=True)\n",
    "    for i in range(6):\n",
    "        visualize_final = visualize_final.append({'Finals': ''}, ignore_index=True)\n",
    "\n",
    "# display(visualize_final)\n",
    "\n",
    "#renaming columns\n",
    "visualize_table_with_blanks1.columns = [f\"{col}1\" for col in visualize_table_with_blanks1.columns]\n",
    "visualize_table_with_blanks2.columns = [f\"{col}2\" for col in visualize_table_with_blanks2.columns]\n",
    " \n",
    "visualize_table16pool1.columns = [f\"{col}1\" for col in visualize_table16pool1.columns]\n",
    "visualize_table16pool2.columns = [f\"{col}2\" for col in visualize_table16pool2.columns]\n",
    " \n",
    "visualize_score16pool1.columns = [f\"{col}1\" for col in visualize_score16pool1.columns]\n",
    "visualize_score16pool2.columns = [f\"{col}2\" for col in visualize_score16pool2.columns]\n",
    " \n",
    "visualize_score_semipool1.columns = [f\"{col}1\" for col in visualize_score_semipool1.columns]\n",
    "visualize_score_semipool2.columns = [f\"{col}2\" for col in visualize_score_semipool2.columns]\n",
    "\n",
    "merged_df = pd.concat([visualize_table_with_blanks1,visualize_table16pool1,visualize_score16pool1,visualize_score_semipool1,visualize_final,visualize_score_semipool2,visualize_score16pool2,visualize_table16pool2,visualize_table_with_blanks2], axis=1)\n",
    "merged_df = pd.concat([\n",
    "                visualize_table_with_blanks1,\n",
    "                visualize_table16pool1,\n",
    "                visualize_score16pool1,\n",
    "                visualize_score_semipool1,\n",
    "                visualize_final,\n",
    "                visualize_score_semipool2,\n",
    "                visualize_score16pool2,\n",
    "                visualize_table16pool2,visualize_table_with_blanks2\n",
    "                ], axis=1\n",
    "                )\n",
    "\n",
    "display(merged_df)\n"
   ]
  }
 ],
 "metadata": {
  "application/vnd.databricks.v1+notebook": {
   "dashboards": [],
   "language": "python",
   "notebookMetadata": {
    "pythonIndentUnit": 4
   },
   "notebookName": "euroclub-version3",
   "widgets": {}
  }
 },
 "nbformat": 4,
 "nbformat_minor": 0
}
