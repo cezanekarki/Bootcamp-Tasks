{
 "cells": [
  {
   "cell_type": "code",
   "execution_count": 0,
   "metadata": {
    "application/vnd.databricks.v1+cell": {
     "cellMetadata": {
      "byteLimit": 2048000,
      "rowLimit": 10000
     },
     "inputWidgets": {},
     "nuid": "69a4cb80-0bef-4a54-aaab-ed9e7740c571",
     "showTitle": false,
     "title": ""
    }
   },
   "outputs": [
    {
     "output_type": "display_data",
     "data": {
      "text/html": [
       "\n",
       "            <div>\n",
       "                <p><b>SparkSession - hive</b></p>\n",
       "                \n",
       "        <div>\n",
       "            <p><b>SparkContext</b></p>\n",
       "\n",
       "            <p><a href=\"/?o=4590267596570132#setting/sparkui/0213-044745-26v9um8s/driver-3041121448412778150\">Spark UI</a></p>\n",
       "\n",
       "            <dl>\n",
       "              <dt>Version</dt>\n",
       "                <dd><code>v3.3.2</code></dd>\n",
       "              <dt>Master</dt>\n",
       "                <dd><code>local[8]</code></dd>\n",
       "              <dt>AppName</dt>\n",
       "                <dd><code>Databricks Shell</code></dd>\n",
       "            </dl>\n",
       "        </div>\n",
       "        \n",
       "            </div>\n",
       "        "
      ]
     },
     "metadata": {
      "application/vnd.databricks.v1+output": {
       "addedWidgets": {},
       "arguments": {},
       "data": "\n            <div>\n                <p><b>SparkSession - hive</b></p>\n                \n        <div>\n            <p><b>SparkContext</b></p>\n\n            <p><a href=\"/?o=4590267596570132#setting/sparkui/0213-044745-26v9um8s/driver-3041121448412778150\">Spark UI</a></p>\n\n            <dl>\n              <dt>Version</dt>\n                <dd><code>v3.3.2</code></dd>\n              <dt>Master</dt>\n                <dd><code>local[8]</code></dd>\n              <dt>AppName</dt>\n                <dd><code>Databricks Shell</code></dd>\n            </dl>\n        </div>\n        \n            </div>\n        ",
       "datasetInfos": [],
       "metadata": {},
       "removedWidgets": [],
       "textData": null,
       "type": "htmlSandbox"
      }
     },
     "output_type": "display_data"
    }
   ],
   "source": [
    "from pyspark.sql import SparkSession\n",
    "spark = SparkSession.builder.getOrCreate()\n",
    "spark"
   ]
  },
  {
   "cell_type": "code",
   "execution_count": 0,
   "metadata": {
    "application/vnd.databricks.v1+cell": {
     "cellMetadata": {
      "byteLimit": 2048000,
      "rowLimit": 10000
     },
     "inputWidgets": {},
     "nuid": "b53b7d86-fc23-4b7e-b71e-1c3064ea89c0",
     "showTitle": false,
     "title": ""
    }
   },
   "outputs": [
    {
     "output_type": "stream",
     "name": "stdout",
     "output_type": "stream",
     "text": [
      "+---+-----+----------+----+------+----------+\n| id| name|       dob| age|salary|department|\n+---+-----+----------+----+------+----------+\n|  1| John|1992-05-12|  30| 70000|        IT|\n|  2|Alice|1997-02-28|  25| 60000|        HR|\n|  3|  Bob|      null|null| 80000|        IT|\n|  4|Emily|1994-11-22|  28| 65000|   Finance|\n+---+-----+----------+----+------+----------+\n\n"
     ]
    }
   ],
   "source": [
    "df_csv = spark.read.format(\"csv\").option(\"header\", True).load(\"dbfs:/FileStore/tables/csv/batch.csv\")\n",
    "df_csv.show()"
   ]
  },
  {
   "cell_type": "code",
   "execution_count": 0,
   "metadata": {
    "application/vnd.databricks.v1+cell": {
     "cellMetadata": {
      "byteLimit": 2048000,
      "rowLimit": 10000
     },
     "inputWidgets": {},
     "nuid": "82339948-4510-4b1c-b1eb-e6749bfddaff",
     "showTitle": false,
     "title": ""
    }
   },
   "outputs": [],
   "source": [
    "from pyspark.sql.types import StructType, StructField, IntegerType, DateType, StringType"
   ]
  },
  {
   "cell_type": "code",
   "execution_count": 0,
   "metadata": {
    "application/vnd.databricks.v1+cell": {
     "cellMetadata": {
      "byteLimit": 2048000,
      "rowLimit": 10000
     },
     "inputWidgets": {},
     "nuid": "8e5fdb1b-ee51-46fe-9880-e304c68130b6",
     "showTitle": false,
     "title": ""
    }
   },
   "outputs": [],
   "source": [
    "schema = StructType([ StructField(\"id\", IntegerType()),\n",
    "                      StructField(\"name\", StringType()), \n",
    "                      StructField(\"dob\", DateType()), \n",
    "                      StructField(\"age\", IntegerType()), \n",
    "                      StructField(\"salary\", IntegerType()), \n",
    "                      StructField(\"department\", StringType())])"
   ]
  },
  {
   "cell_type": "code",
   "execution_count": 0,
   "metadata": {
    "application/vnd.databricks.v1+cell": {
     "cellMetadata": {
      "byteLimit": 2048000,
      "rowLimit": 10000
     },
     "inputWidgets": {},
     "nuid": "bfa1fb22-4bd6-4d37-914d-2c234865ba49",
     "showTitle": false,
     "title": ""
    }
   },
   "outputs": [
    {
     "output_type": "stream",
     "name": "stdout",
     "output_type": "stream",
     "text": [
      "root\n |-- id: integer (nullable = true)\n |-- name: string (nullable = true)\n |-- dob: date (nullable = true)\n |-- age: integer (nullable = true)\n |-- salary: integer (nullable = true)\n |-- department: string (nullable = true)\n\n+---+-----+----------+----+------+----------+\n| id| name|       dob| age|salary|department|\n+---+-----+----------+----+------+----------+\n|  1| John|1992-05-12|  30| 70000|        IT|\n|  2|Alice|1997-02-28|  25| 60000|        HR|\n|  3|  Bob|      null|null| 80000|        IT|\n|  4|Emily|1994-11-22|  28| 65000|   Finance|\n+---+-----+----------+----+------+----------+\n\n"
     ]
    }
   ],
   "source": [
    "df_csv = spark.read.format(\"csv\").option(\"header\", True).schema(schema).load(\"dbfs:/FileStore/tables/csv/batch.csv\")\n",
    "df_csv.printSchema()\n",
    "df_csv.show()"
   ]
  },
  {
   "cell_type": "code",
   "execution_count": 0,
   "metadata": {
    "application/vnd.databricks.v1+cell": {
     "cellMetadata": {
      "byteLimit": 2048000,
      "rowLimit": 10000
     },
     "inputWidgets": {},
     "nuid": "14987860-31b3-4b93-be7c-a0d953799616",
     "showTitle": false,
     "title": ""
    }
   },
   "outputs": [],
   "source": [
    "df_json = spark.read.format(\"json\").load(\"dbfs:/FileStore/tables/json\")"
   ]
  },
  {
   "cell_type": "code",
   "execution_count": 0,
   "metadata": {
    "application/vnd.databricks.v1+cell": {
     "cellMetadata": {
      "byteLimit": 2048000,
      "rowLimit": 10000
     },
     "inputWidgets": {},
     "nuid": "95e7b539-fc7d-43df-8dab-67779c6effa3",
     "showTitle": false,
     "title": ""
    }
   },
   "outputs": [
    {
     "output_type": "stream",
     "name": "stdout",
     "output_type": "stream",
     "text": [
      "root\n |-- id: long (nullable = true)\n |-- name: string (nullable = true)\n |-- dob: string (nullable = true)\n |-- age: long (nullable = true)\n |-- salary: string (nullable = true)\n |-- department: string (nullable = true)\n\n+----+-------+----------+----+------+----------+\n|  id|   name|       dob| age|salary|department|\n+----+-------+----------+----+------+----------+\n|   1|   John|1992-05-12|  30| 70000|        IT|\n|   2|  Alice|1997-02-28|  25| 60000|        HR|\n|   3|    Bob|      null|null| 80000|        IT|\n|   4|  Emily|1994-11-22|  28| 65000|   Finance|\n|  30|     IT|1992-05-12|   1|  John|     70000|\n|  25|     HR|1997-02-28|   2| Alice|     60000|\n|null|     IT|      null|   3|   Bob|     80000|\n|  28|Finance|1994-11-22|   4| Emily|     65000|\n|  41|     HR|1981-12-18|   5| David|     90000|\n|  33|Finance|1989-07-05|   6| Susan|     75000|\n|  46|     IT|1976-03-15|   7|  Mike|     95000|\n|  30|Finance|1992-06-30|  10|Sophie|     62000|\n|  25|Finance|1997-02-28|   2| Alice|     90000|\n|  28|Finance|1994-11-22|   4| Emily|     70000|\n|  39|     IT|1983-10-14|   9| James|     87000|\n|  30|     IT|1992-05-12|   1|  John|     70000|\n|  27|     HR|1995-08-20|   8|  Lisa|     58000|\n+----+-------+----------+----+------+----------+\n\n"
     ]
    }
   ],
   "source": [
    "df = df_csv.union(df_json) \n",
    "df.printSchema() \n",
    "df.show()"
   ]
  },
  {
   "cell_type": "code",
   "execution_count": 0,
   "metadata": {
    "application/vnd.databricks.v1+cell": {
     "cellMetadata": {
      "byteLimit": 2048000,
      "rowLimit": 10000
     },
     "inputWidgets": {},
     "nuid": "f3d51fa8-55c6-459f-bc05-33a27aaf525a",
     "showTitle": false,
     "title": ""
    }
   },
   "outputs": [
    {
     "output_type": "stream",
     "name": "stdout",
     "output_type": "stream",
     "text": [
      "Out[13]: 17"
     ]
    }
   ],
   "source": [
    "df.count()"
   ]
  },
  {
   "cell_type": "code",
   "execution_count": 0,
   "metadata": {
    "application/vnd.databricks.v1+cell": {
     "cellMetadata": {
      "byteLimit": 2048000,
      "rowLimit": 10000
     },
     "inputWidgets": {},
     "nuid": "ec7d276d-9b9e-4297-8fc4-47c14f6beef7",
     "showTitle": false,
     "title": ""
    }
   },
   "outputs": [],
   "source": [
    "from pyspark.sql.window import Window \n",
    "from pyspark.sql.functions import col, count, avg"
   ]
  },
  {
   "cell_type": "code",
   "execution_count": 0,
   "metadata": {
    "application/vnd.databricks.v1+cell": {
     "cellMetadata": {
      "byteLimit": 2048000,
      "rowLimit": 10000
     },
     "inputWidgets": {},
     "nuid": "0449df7a-d3c5-4775-8c9b-6ea771092238",
     "showTitle": false,
     "title": ""
    }
   },
   "outputs": [
    {
     "output_type": "stream",
     "name": "stdout",
     "output_type": "stream",
     "text": [
      "+----+-------+----------+----+------+----------+-----------+\n|  id|   name|       dob| age|salary|department|isDuplicate|\n+----+-------+----------+----+------+----------+-----------+\n|null|     IT|      null|   3|   Bob|     80000|      false|\n|   1|   John|1992-05-12|  30| 70000|        IT|      false|\n|   2|  Alice|1997-02-28|  25| 60000|        HR|      false|\n|   3|    Bob|      null|null| 80000|        IT|      false|\n|   4|  Emily|1994-11-22|  28| 65000|   Finance|      false|\n|  25|Finance|1997-02-28|   2| Alice|     90000|      false|\n|  25|     HR|1997-02-28|   2| Alice|     60000|      false|\n|  27|     HR|1995-08-20|   8|  Lisa|     58000|      false|\n|  28|Finance|1994-11-22|   4| Emily|     65000|      false|\n|  28|Finance|1994-11-22|   4| Emily|     70000|      false|\n|  30|Finance|1992-06-30|  10|Sophie|     62000|      false|\n|  30|     IT|1992-05-12|   1|  John|     70000|       true|\n|  30|     IT|1992-05-12|   1|  John|     70000|       true|\n|  33|Finance|1989-07-05|   6| Susan|     75000|      false|\n|  39|     IT|1983-10-14|   9| James|     87000|      false|\n|  41|     HR|1981-12-18|   5| David|     90000|      false|\n|  46|     IT|1976-03-15|   7|  Mike|     95000|      false|\n+----+-------+----------+----+------+----------+-----------+\n\n"
     ]
    }
   ],
   "source": [
    "windowSpec = Window.partitionBy([col(x) for x in df.columns]) \n",
    "df = df.withColumn(\"count\", count(\"*\").over(windowSpec)) \n",
    "df = df.withColumn(\"isDuplicate\", col(\"count\") > 1) \n",
    "df = df.drop(\"count\") \n",
    "df.show()"
   ]
  },
  {
   "cell_type": "code",
   "execution_count": 0,
   "metadata": {
    "application/vnd.databricks.v1+cell": {
     "cellMetadata": {
      "byteLimit": 2048000,
      "rowLimit": 10000
     },
     "inputWidgets": {},
     "nuid": "8a6564d7-0a0f-45f5-9317-5bafb133acb3",
     "showTitle": false,
     "title": ""
    }
   },
   "outputs": [
    {
     "output_type": "stream",
     "name": "stdout",
     "output_type": "stream",
     "text": [
      "+----+-------+----------+----+------+----------+-----------+\n|  id|   name|       dob| age|salary|department|isDuplicate|\n+----+-------+----------+----+------+----------+-----------+\n|null|     IT|      null|   3|   Bob|     80000|      false|\n|   1|   John|1992-05-12|  30| 70000|        IT|      false|\n|   2|  Alice|1997-02-28|  25| 60000|        HR|      false|\n|   3|    Bob|      null|null| 80000|        IT|      false|\n|   4|  Emily|1994-11-22|  28| 65000|   Finance|      false|\n|  25|Finance|1997-02-28|   2| Alice|     90000|      false|\n|  25|     HR|1997-02-28|   2| Alice|     60000|      false|\n|  27|     HR|1995-08-20|   8|  Lisa|     58000|      false|\n|  28|Finance|1994-11-22|   4| Emily|     65000|      false|\n|  28|Finance|1994-11-22|   4| Emily|     70000|      false|\n|  30|Finance|1992-06-30|  10|Sophie|     62000|      false|\n|  30|     IT|1992-05-12|   1|  John|     70000|       true|\n|  30|     IT|1992-05-12|   1|  John|     70000|       true|\n|  33|Finance|1989-07-05|   6| Susan|     75000|      false|\n|  39|     IT|1983-10-14|   9| James|     87000|      false|\n|  41|     HR|1981-12-18|   5| David|     90000|      false|\n|  46|     IT|1976-03-15|   7|  Mike|     95000|      false|\n+----+-------+----------+----+------+----------+-----------+\n\n"
     ]
    }
   ],
   "source": [
    "df = df.orderBy(\"id\") \n",
    "df.show()"
   ]
  },
  {
   "cell_type": "markdown",
   "metadata": {
    "application/vnd.databricks.v1+cell": {
     "cellMetadata": {
      "byteLimit": 2048000,
      "rowLimit": 10000
     },
     "inputWidgets": {},
     "nuid": "91c15215-5740-4011-b2ef-3c8046c71051",
     "showTitle": false,
     "title": ""
    }
   },
   "source": [
    "Calculate mean salary and check if it is greater or equal to the salary of the employees in each department. Calculate mean salary and check if it is greater or equal to the salary of all the employees"
   ]
  },
  {
   "cell_type": "code",
   "execution_count": 0,
   "metadata": {
    "application/vnd.databricks.v1+cell": {
     "cellMetadata": {
      "byteLimit": 2048000,
      "rowLimit": 10000
     },
     "inputWidgets": {},
     "nuid": "4e507c30-10ac-4333-91ba-d8fb045957f0",
     "showTitle": false,
     "title": ""
    }
   },
   "outputs": [
    {
     "output_type": "stream",
     "name": "stdout",
     "output_type": "stream",
     "text": [
      "+----+-------+----------+----+------+----------+-----------+\n|  id|   name|       dob| age|salary|department|isDuplicate|\n+----+-------+----------+----+------+----------+-----------+\n|null|     IT|      null|   3|   Bob|     80000|      false|\n|   1|   John|1992-05-12|  30| 70000|        IT|      false|\n|   2|  Alice|1997-02-28|  25| 60000|        HR|      false|\n|   3|    Bob|      null|null| 80000|        IT|      false|\n|   4|  Emily|1994-11-22|  28| 65000|   Finance|      false|\n|  25|Finance|1997-02-28|   2| Alice|     90000|      false|\n|  25|     HR|1997-02-28|   2| Alice|     60000|      false|\n|  27|     HR|1995-08-20|   8|  Lisa|     58000|      false|\n|  28|Finance|1994-11-22|   4| Emily|     65000|      false|\n|  28|Finance|1994-11-22|   4| Emily|     70000|      false|\n|  30|Finance|1992-06-30|  10|Sophie|     62000|      false|\n|  30|     IT|1992-05-12|   1|  John|     70000|       true|\n|  33|Finance|1989-07-05|   6| Susan|     75000|      false|\n|  39|     IT|1983-10-14|   9| James|     87000|      false|\n|  41|     HR|1981-12-18|   5| David|     90000|      false|\n|  46|     IT|1976-03-15|   7|  Mike|     95000|      false|\n+----+-------+----------+----+------+----------+-----------+\n\n"
     ]
    }
   ],
   "source": [
    "df = df.dropDuplicates() \n",
    "df.show()"
   ]
  },
  {
   "cell_type": "code",
   "execution_count": 0,
   "metadata": {
    "application/vnd.databricks.v1+cell": {
     "cellMetadata": {
      "byteLimit": 2048000,
      "rowLimit": 10000
     },
     "inputWidgets": {},
     "nuid": "4bfa0f58-4403-485e-9275-8c7a533f60b6",
     "showTitle": false,
     "title": ""
    }
   },
   "outputs": [
    {
     "output_type": "stream",
     "name": "stdout",
     "output_type": "stream",
     "text": [
      "+----+-------+----------+----+------+----------+-----------+-----------+\n|  id|   name|       dob| age|salary|department|isDuplicate|Mean salary|\n+----+-------+----------+----+------+----------+-----------+-----------+\n|  27|     HR|1995-08-20|   8|  Lisa|     58000|      false|       null|\n|  25|     HR|1997-02-28|   2| Alice|     60000|      false|       null|\n|  30|Finance|1992-06-30|  10|Sophie|     62000|      false|       null|\n|  28|Finance|1994-11-22|   4| Emily|     65000|      false|       null|\n|  28|Finance|1994-11-22|   4| Emily|     70000|      false|       null|\n|  30|     IT|1992-05-12|   1|  John|     70000|       true|       null|\n|  33|Finance|1989-07-05|   6| Susan|     75000|      false|       null|\n|null|     IT|      null|   3|   Bob|     80000|      false|       null|\n|  39|     IT|1983-10-14|   9| James|     87000|      false|       null|\n|  25|Finance|1997-02-28|   2| Alice|     90000|      false|       null|\n|  41|     HR|1981-12-18|   5| David|     90000|      false|       null|\n|  46|     IT|1976-03-15|   7|  Mike|     95000|      false|       null|\n|   4|  Emily|1994-11-22|  28| 65000|   Finance|      false|    65000.0|\n|   2|  Alice|1997-02-28|  25| 60000|        HR|      false|    60000.0|\n|   1|   John|1992-05-12|  30| 70000|        IT|      false|    75000.0|\n|   3|    Bob|      null|null| 80000|        IT|      false|    75000.0|\n+----+-------+----------+----+------+----------+-----------+-----------+\n\n"
     ]
    }
   ],
   "source": [
    "windowSpec = Window.partitionBy(df.department) \n",
    "df = df.withColumn(\"Mean salary\", avg(\"salary\").over(windowSpec)) \n",
    "df.show()"
   ]
  },
  {
   "cell_type": "code",
   "execution_count": 0,
   "metadata": {
    "application/vnd.databricks.v1+cell": {
     "cellMetadata": {
      "byteLimit": 2048000,
      "rowLimit": 10000
     },
     "inputWidgets": {},
     "nuid": "8e5df898-478f-475c-825f-e82f1aa1130d",
     "showTitle": false,
     "title": ""
    }
   },
   "outputs": [
    {
     "output_type": "stream",
     "name": "stdout",
     "output_type": "stream",
     "text": [
      "+----+-------+----------+----+------+----------+-----------+-----------+----------------------------------+\n|  id|   name|       dob| age|salary|department|isDuplicate|Mean salary|Is Salary greater than mean Salary|\n+----+-------+----------+----+------+----------+-----------+-----------+----------------------------------+\n|null|     IT|      null|   3|   Bob|     80000|      false|       null|                              null|\n|   1|   John|1992-05-12|  30| 70000|        IT|      false|    75000.0|                             false|\n|   2|  Alice|1997-02-28|  25| 60000|        HR|      false|    60000.0|                             false|\n|   3|    Bob|      null|null| 80000|        IT|      false|    75000.0|                              true|\n|   4|  Emily|1994-11-22|  28| 65000|   Finance|      false|    65000.0|                             false|\n|  25|     HR|1997-02-28|   2| Alice|     60000|      false|       null|                              null|\n|  25|Finance|1997-02-28|   2| Alice|     90000|      false|       null|                              null|\n|  27|     HR|1995-08-20|   8|  Lisa|     58000|      false|       null|                              null|\n|  28|Finance|1994-11-22|   4| Emily|     65000|      false|       null|                              null|\n|  28|Finance|1994-11-22|   4| Emily|     70000|      false|       null|                              null|\n|  30|Finance|1992-06-30|  10|Sophie|     62000|      false|       null|                              null|\n|  30|     IT|1992-05-12|   1|  John|     70000|       true|       null|                              null|\n|  33|Finance|1989-07-05|   6| Susan|     75000|      false|       null|                              null|\n|  39|     IT|1983-10-14|   9| James|     87000|      false|       null|                              null|\n|  41|     HR|1981-12-18|   5| David|     90000|      false|       null|                              null|\n|  46|     IT|1976-03-15|   7|  Mike|     95000|      false|       null|                              null|\n+----+-------+----------+----+------+----------+-----------+-----------+----------------------------------+\n\n"
     ]
    }
   ],
   "source": [
    "df = df.withColumn( \"Is Salary greater than mean Salary\", col(\"Mean salary\") < col(\"salary\") ).orderBy(\"id\") \n",
    "df.show()"
   ]
  },
  {
   "cell_type": "code",
   "execution_count": 0,
   "metadata": {
    "application/vnd.databricks.v1+cell": {
     "cellMetadata": {},
     "inputWidgets": {},
     "nuid": "8b346600-c362-49ae-9593-1a56e261a7c2",
     "showTitle": false,
     "title": ""
    }
   },
   "outputs": [],
   "source": []
  }
 ],
 "metadata": {
  "application/vnd.databricks.v1+notebook": {
   "dashboards": [],
   "language": "python",
   "notebookMetadata": {
    "pythonIndentUnit": 4
   },
   "notebookName": "PySpark Task Feb12",
   "widgets": {}
  }
 },
 "nbformat": 4,
 "nbformat_minor": 0
}
