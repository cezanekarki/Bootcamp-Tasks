{
 "cells": [
  {
   "cell_type": "code",
   "execution_count": 0,
   "metadata": {
    "application/vnd.databricks.v1+cell": {
     "cellMetadata": {
      "byteLimit": 2048000,
      "rowLimit": 10000
     },
     "inputWidgets": {},
     "nuid": "bb2e1041-e4be-437c-bfcc-a493204ddc17",
     "showTitle": false,
     "title": ""
    }
   },
   "outputs": [],
   "source": [
    "from pyspark.sql import SparkSession\n",
    "\n",
    "spark = SparkSession.builder.getOrCreate()"
   ]
  },
  {
   "cell_type": "code",
   "execution_count": 0,
   "metadata": {
    "application/vnd.databricks.v1+cell": {
     "cellMetadata": {
      "byteLimit": 2048000,
      "rowLimit": 10000
     },
     "inputWidgets": {},
     "nuid": "d2e2e8cd-1bea-49bd-8bf6-b99b2a35ecd9",
     "showTitle": false,
     "title": ""
    }
   },
   "outputs": [],
   "source": [
    "df_csv = spark.read.format('csv').load('dbfs:///FileStore/tables/csv/batch.csv')"
   ]
  },
  {
   "cell_type": "code",
   "execution_count": 0,
   "metadata": {
    "application/vnd.databricks.v1+cell": {
     "cellMetadata": {
      "byteLimit": 2048000,
      "rowLimit": 10000
     },
     "inputWidgets": {},
     "nuid": "8f1ec3bc-80f6-4e2a-b72e-d49be6ff9c59",
     "showTitle": false,
     "title": ""
    }
   },
   "outputs": [
    {
     "output_type": "stream",
     "name": "stdout",
     "output_type": "stream",
     "text": [
      "+---+-----+----------+----+------+----------+\n|_c0|  _c1|       _c2| _c3|   _c4|       _c5|\n+---+-----+----------+----+------+----------+\n| id| name|       dob| age|salary|department|\n|  1| John|1992-05-12|  30| 70000|        IT|\n|  2|Alice|1997-02-28|  25| 60000|        HR|\n|  3|  Bob|      null|null| 80000|        IT|\n|  4|Emily|1994-11-22|  28| 65000|   Finance|\n+---+-----+----------+----+------+----------+\n\n"
     ]
    }
   ],
   "source": [
    "df_csv.show()"
   ]
  },
  {
   "cell_type": "code",
   "execution_count": 0,
   "metadata": {
    "application/vnd.databricks.v1+cell": {
     "cellMetadata": {
      "byteLimit": 2048000,
      "rowLimit": 10000
     },
     "inputWidgets": {},
     "nuid": "9b7960b3-0425-4ec7-9714-9b7ac6202954",
     "showTitle": false,
     "title": ""
    }
   },
   "outputs": [
    {
     "output_type": "stream",
     "name": "stdout",
     "output_type": "stream",
     "text": [
      "root\n |-- _c0: string (nullable = true)\n |-- _c1: string (nullable = true)\n |-- _c2: string (nullable = true)\n |-- _c3: string (nullable = true)\n |-- _c4: string (nullable = true)\n |-- _c5: string (nullable = true)\n\n"
     ]
    }
   ],
   "source": [
    "df_csv.printSchema()"
   ]
  },
  {
   "cell_type": "code",
   "execution_count": 0,
   "metadata": {
    "application/vnd.databricks.v1+cell": {
     "cellMetadata": {
      "byteLimit": 2048000,
      "rowLimit": 10000
     },
     "inputWidgets": {},
     "nuid": "c7976057-f8a8-4dcb-bc77-e86290a14ee5",
     "showTitle": false,
     "title": ""
    }
   },
   "outputs": [],
   "source": [
    "from pyspark.sql.types import StructType, StructField, IntegerType, StringType, DateType"
   ]
  },
  {
   "cell_type": "code",
   "execution_count": 0,
   "metadata": {
    "application/vnd.databricks.v1+cell": {
     "cellMetadata": {
      "byteLimit": 2048000,
      "rowLimit": 10000
     },
     "inputWidgets": {},
     "nuid": "9a65e268-889f-4143-b2b8-73eb49a3e660",
     "showTitle": false,
     "title": ""
    }
   },
   "outputs": [],
   "source": [
    "schema = StructType([\n",
    "    StructField('id', IntegerType()),\n",
    "    StructField('name', StringType()),\n",
    "    StructField('dob', DateType()),\n",
    "    StructField('age', IntegerType()),\n",
    "    StructField('salary', IntegerType()),\n",
    "    StructField('department', StringType())\n",
    "])"
   ]
  },
  {
   "cell_type": "code",
   "execution_count": 0,
   "metadata": {
    "application/vnd.databricks.v1+cell": {
     "cellMetadata": {
      "byteLimit": 2048000,
      "rowLimit": 10000
     },
     "inputWidgets": {},
     "nuid": "7e8dbac9-cec7-4291-897e-722bf10099bc",
     "showTitle": false,
     "title": ""
    }
   },
   "outputs": [],
   "source": [
    "df_csv = spark.read.format('csv').schema(schema).option('header', True).load('dbfs:///FileStore/tables/csv/batch.csv')"
   ]
  },
  {
   "cell_type": "code",
   "execution_count": 0,
   "metadata": {
    "application/vnd.databricks.v1+cell": {
     "cellMetadata": {
      "byteLimit": 2048000,
      "rowLimit": 10000
     },
     "inputWidgets": {},
     "nuid": "658d1c65-4191-4677-ad6a-fd16638274d1",
     "showTitle": false,
     "title": ""
    }
   },
   "outputs": [
    {
     "output_type": "stream",
     "name": "stdout",
     "output_type": "stream",
     "text": [
      "root\n |-- id: integer (nullable = true)\n |-- name: string (nullable = true)\n |-- dob: date (nullable = true)\n |-- age: integer (nullable = true)\n |-- salary: integer (nullable = true)\n |-- department: string (nullable = true)\n\n"
     ]
    }
   ],
   "source": [
    "df_csv.printSchema()"
   ]
  },
  {
   "cell_type": "code",
   "execution_count": 0,
   "metadata": {
    "application/vnd.databricks.v1+cell": {
     "cellMetadata": {
      "byteLimit": 2048000,
      "rowLimit": 10000
     },
     "inputWidgets": {},
     "nuid": "d04dc660-6cbd-4631-afdf-11b1ed9e66fe",
     "showTitle": false,
     "title": ""
    }
   },
   "outputs": [],
   "source": [
    "df_json = spark.read.format('json').schema(schema).load('dbfs:///FileStore/tables/json')"
   ]
  },
  {
   "cell_type": "code",
   "execution_count": 0,
   "metadata": {
    "application/vnd.databricks.v1+cell": {
     "cellMetadata": {
      "byteLimit": 2048000,
      "rowLimit": 10000
     },
     "inputWidgets": {},
     "nuid": "89de820c-f55e-470a-bc23-dca515b85b22",
     "showTitle": false,
     "title": ""
    }
   },
   "outputs": [
    {
     "output_type": "stream",
     "name": "stdout",
     "output_type": "stream",
     "text": [
      "root\n |-- id: integer (nullable = true)\n |-- name: string (nullable = true)\n |-- dob: date (nullable = true)\n |-- age: integer (nullable = true)\n |-- salary: integer (nullable = true)\n |-- department: string (nullable = true)\n\n"
     ]
    }
   ],
   "source": [
    "df_json.printSchema()"
   ]
  },
  {
   "cell_type": "code",
   "execution_count": 0,
   "metadata": {
    "application/vnd.databricks.v1+cell": {
     "cellMetadata": {
      "byteLimit": 2048000,
      "rowLimit": 10000
     },
     "inputWidgets": {},
     "nuid": "400d2ffb-f017-4179-82fb-821d8797394b",
     "showTitle": false,
     "title": ""
    }
   },
   "outputs": [],
   "source": [
    "df = df_json.union(df_csv)"
   ]
  },
  {
   "cell_type": "code",
   "execution_count": 0,
   "metadata": {
    "application/vnd.databricks.v1+cell": {
     "cellMetadata": {
      "byteLimit": 2048000,
      "rowLimit": 10000
     },
     "inputWidgets": {},
     "nuid": "7d659c47-fcd9-4873-ad97-5be1addcf616",
     "showTitle": false,
     "title": ""
    }
   },
   "outputs": [
    {
     "output_type": "stream",
     "name": "stdout",
     "output_type": "stream",
     "text": [
      "+---+------+----------+----+------+----------+\n| id|  name|       dob| age|salary|department|\n+---+------+----------+----+------+----------+\n|  1|  John|1992-05-12|  30| 70000|        IT|\n|  2| Alice|1997-02-28|  25| 60000|        HR|\n|  3|   Bob|      null|null| 80000|        IT|\n|  4| Emily|1994-11-22|  28| 65000|   Finance|\n|  5| David|1981-12-18|  41| 90000|        HR|\n|  6| Susan|1989-07-05|  33| 75000|   Finance|\n|  7|  Mike|1976-03-15|  46| 95000|        IT|\n| 10|Sophie|1992-06-30|  30| 62000|   Finance|\n|  2| Alice|1997-02-28|  25| 90000|   Finance|\n|  4| Emily|1994-11-22|  28| 70000|   Finance|\n|  9| James|1983-10-14|  39| 87000|        IT|\n|  1|  John|1992-05-12|  30| 70000|        IT|\n|  8|  Lisa|1995-08-20|  27| 58000|        HR|\n|  1|  John|1992-05-12|  30| 70000|        IT|\n|  2| Alice|1997-02-28|  25| 60000|        HR|\n|  3|   Bob|      null|null| 80000|        IT|\n|  4| Emily|1994-11-22|  28| 65000|   Finance|\n+---+------+----------+----+------+----------+\n\n"
     ]
    }
   ],
   "source": [
    "df.show()"
   ]
  },
  {
   "cell_type": "code",
   "execution_count": 0,
   "metadata": {
    "application/vnd.databricks.v1+cell": {
     "cellMetadata": {
      "byteLimit": 2048000,
      "rowLimit": 10000
     },
     "inputWidgets": {},
     "nuid": "32451405-8bc0-42c8-a4b1-1a89bab23f37",
     "showTitle": false,
     "title": ""
    }
   },
   "outputs": [],
   "source": [
    "from pyspark.sql import functions as F"
   ]
  },
  {
   "cell_type": "code",
   "execution_count": 0,
   "metadata": {
    "application/vnd.databricks.v1+cell": {
     "cellMetadata": {
      "byteLimit": 2048000,
      "rowLimit": 10000
     },
     "inputWidgets": {},
     "nuid": "8d20b468-12f6-41ef-958b-23755e1812ea",
     "showTitle": false,
     "title": ""
    }
   },
   "outputs": [],
   "source": [
    "from pyspark.sql import Window"
   ]
  },
  {
   "cell_type": "markdown",
   "metadata": {
    "application/vnd.databricks.v1+cell": {
     "cellMetadata": {},
     "inputWidgets": {},
     "nuid": "40762ead-7365-4fe3-890f-e31e59ce18c4",
     "showTitle": false,
     "title": ""
    }
   },
   "source": [
    "Add new column \"is_Duplicate\" to indicate whether it is duplicate or not."
   ]
  },
  {
   "cell_type": "code",
   "execution_count": 0,
   "metadata": {
    "application/vnd.databricks.v1+cell": {
     "cellMetadata": {
      "byteLimit": 2048000,
      "rowLimit": 10000
     },
     "inputWidgets": {},
     "nuid": "58882cff-1c1e-49b4-8c57-1abf87c29f8e",
     "showTitle": false,
     "title": ""
    }
   },
   "outputs": [],
   "source": [
    "window = Window.partitionBy('id').orderBy('id')\n",
    "\n",
    "find_duplicate_df = df.withColumn(\n",
    "    'is_Duplicate',\n",
    "    F.row_number().over(window) != 1\n",
    ")"
   ]
  },
  {
   "cell_type": "code",
   "execution_count": 0,
   "metadata": {
    "application/vnd.databricks.v1+cell": {
     "cellMetadata": {
      "byteLimit": 2048000,
      "rowLimit": 10000
     },
     "inputWidgets": {},
     "nuid": "0bca2a74-44a8-437a-bf59-d47ffd0ed388",
     "showTitle": false,
     "title": ""
    }
   },
   "outputs": [
    {
     "output_type": "display_data",
     "data": {
      "text/html": [
       "<style scoped>\n",
       "  .table-result-container {\n",
       "    max-height: 300px;\n",
       "    overflow: auto;\n",
       "  }\n",
       "  table, th, td {\n",
       "    border: 1px solid black;\n",
       "    border-collapse: collapse;\n",
       "  }\n",
       "  th, td {\n",
       "    padding: 5px;\n",
       "  }\n",
       "  th {\n",
       "    text-align: left;\n",
       "  }\n",
       "</style><div class='table-result-container'><table class='table-result'><thead style='background-color: white'><tr><th>id</th><th>name</th><th>dob</th><th>age</th><th>salary</th><th>department</th><th>is_Duplicate</th></tr></thead><tbody><tr><td>1</td><td>John</td><td>1992-05-12</td><td>30</td><td>70000</td><td>IT</td><td>false</td></tr><tr><td>1</td><td>John</td><td>1992-05-12</td><td>30</td><td>70000</td><td>IT</td><td>true</td></tr><tr><td>1</td><td>John</td><td>1992-05-12</td><td>30</td><td>70000</td><td>IT</td><td>true</td></tr><tr><td>2</td><td>Alice</td><td>1997-02-28</td><td>25</td><td>60000</td><td>HR</td><td>false</td></tr><tr><td>2</td><td>Alice</td><td>1997-02-28</td><td>25</td><td>90000</td><td>Finance</td><td>true</td></tr><tr><td>2</td><td>Alice</td><td>1997-02-28</td><td>25</td><td>60000</td><td>HR</td><td>true</td></tr><tr><td>3</td><td>Bob</td><td>null</td><td>null</td><td>80000</td><td>IT</td><td>false</td></tr><tr><td>3</td><td>Bob</td><td>null</td><td>null</td><td>80000</td><td>IT</td><td>true</td></tr><tr><td>4</td><td>Emily</td><td>1994-11-22</td><td>28</td><td>65000</td><td>Finance</td><td>false</td></tr><tr><td>4</td><td>Emily</td><td>1994-11-22</td><td>28</td><td>70000</td><td>Finance</td><td>true</td></tr><tr><td>4</td><td>Emily</td><td>1994-11-22</td><td>28</td><td>65000</td><td>Finance</td><td>true</td></tr><tr><td>5</td><td>David</td><td>1981-12-18</td><td>41</td><td>90000</td><td>HR</td><td>false</td></tr><tr><td>6</td><td>Susan</td><td>1989-07-05</td><td>33</td><td>75000</td><td>Finance</td><td>false</td></tr><tr><td>7</td><td>Mike</td><td>1976-03-15</td><td>46</td><td>95000</td><td>IT</td><td>false</td></tr><tr><td>8</td><td>Lisa</td><td>1995-08-20</td><td>27</td><td>58000</td><td>HR</td><td>false</td></tr><tr><td>9</td><td>James</td><td>1983-10-14</td><td>39</td><td>87000</td><td>IT</td><td>false</td></tr><tr><td>10</td><td>Sophie</td><td>1992-06-30</td><td>30</td><td>62000</td><td>Finance</td><td>false</td></tr></tbody></table></div>"
      ]
     },
     "metadata": {
      "application/vnd.databricks.v1+output": {
       "addedWidgets": {},
       "aggData": [],
       "aggError": "",
       "aggOverflow": false,
       "aggSchema": [],
       "aggSeriesLimitReached": false,
       "aggType": "",
       "arguments": {},
       "columnCustomDisplayInfos": {},
       "data": [
        [
         1,
         "John",
         "1992-05-12",
         30,
         70000,
         "IT",
         false
        ],
        [
         1,
         "John",
         "1992-05-12",
         30,
         70000,
         "IT",
         true
        ],
        [
         1,
         "John",
         "1992-05-12",
         30,
         70000,
         "IT",
         true
        ],
        [
         2,
         "Alice",
         "1997-02-28",
         25,
         60000,
         "HR",
         false
        ],
        [
         2,
         "Alice",
         "1997-02-28",
         25,
         90000,
         "Finance",
         true
        ],
        [
         2,
         "Alice",
         "1997-02-28",
         25,
         60000,
         "HR",
         true
        ],
        [
         3,
         "Bob",
         null,
         null,
         80000,
         "IT",
         false
        ],
        [
         3,
         "Bob",
         null,
         null,
         80000,
         "IT",
         true
        ],
        [
         4,
         "Emily",
         "1994-11-22",
         28,
         65000,
         "Finance",
         false
        ],
        [
         4,
         "Emily",
         "1994-11-22",
         28,
         70000,
         "Finance",
         true
        ],
        [
         4,
         "Emily",
         "1994-11-22",
         28,
         65000,
         "Finance",
         true
        ],
        [
         5,
         "David",
         "1981-12-18",
         41,
         90000,
         "HR",
         false
        ],
        [
         6,
         "Susan",
         "1989-07-05",
         33,
         75000,
         "Finance",
         false
        ],
        [
         7,
         "Mike",
         "1976-03-15",
         46,
         95000,
         "IT",
         false
        ],
        [
         8,
         "Lisa",
         "1995-08-20",
         27,
         58000,
         "HR",
         false
        ],
        [
         9,
         "James",
         "1983-10-14",
         39,
         87000,
         "IT",
         false
        ],
        [
         10,
         "Sophie",
         "1992-06-30",
         30,
         62000,
         "Finance",
         false
        ]
       ],
       "datasetInfos": [],
       "dbfsResultPath": null,
       "isJsonSchema": true,
       "metadata": {},
       "overflow": false,
       "plotOptions": {
        "customPlotOptions": {},
        "displayType": "table",
        "pivotAggregation": null,
        "pivotColumns": null,
        "xColumns": null,
        "yColumns": null
       },
       "removedWidgets": [],
       "schema": [
        {
         "metadata": "{}",
         "name": "id",
         "type": "\"integer\""
        },
        {
         "metadata": "{}",
         "name": "name",
         "type": "\"string\""
        },
        {
         "metadata": "{}",
         "name": "dob",
         "type": "\"date\""
        },
        {
         "metadata": "{}",
         "name": "age",
         "type": "\"integer\""
        },
        {
         "metadata": "{}",
         "name": "salary",
         "type": "\"integer\""
        },
        {
         "metadata": "{}",
         "name": "department",
         "type": "\"string\""
        },
        {
         "metadata": "{}",
         "name": "is_Duplicate",
         "type": "\"boolean\""
        }
       ],
       "type": "table"
      }
     },
     "output_type": "display_data"
    }
   ],
   "source": [
    "find_duplicate_df.display()"
   ]
  },
  {
   "cell_type": "markdown",
   "metadata": {
    "application/vnd.databricks.v1+cell": {
     "cellMetadata": {},
     "inputWidgets": {},
     "nuid": "ca688ea1-c72f-4423-ba25-7eba23a0fd13",
     "showTitle": false,
     "title": ""
    }
   },
   "source": [
    "Find average salary and check whether salary is above average or not by both department and all data."
   ]
  },
  {
   "cell_type": "code",
   "execution_count": 0,
   "metadata": {
    "application/vnd.databricks.v1+cell": {
     "cellMetadata": {
      "byteLimit": 2048000,
      "rowLimit": 10000
     },
     "inputWidgets": {},
     "nuid": "1d5dd2cf-088e-4676-936f-401e1884758c",
     "showTitle": false,
     "title": ""
    }
   },
   "outputs": [],
   "source": [
    "partition_dep = Window.partitionBy('department')\n",
    "\n",
    "average_salary_df = df.withColumns(\n",
    "    {\n",
    "        'average_salary_by_department': F.avg('salary').over(partition_dep),\n",
    "        'is_above_avg_by_dep': F.col('salary') >= F.col('average_salary_by_department')\n",
    "    }\n",
    ")"
   ]
  },
  {
   "cell_type": "code",
   "execution_count": 0,
   "metadata": {
    "application/vnd.databricks.v1+cell": {
     "cellMetadata": {
      "byteLimit": 2048000,
      "rowLimit": 10000
     },
     "inputWidgets": {},
     "nuid": "ae0308d0-6291-4d2c-b3d3-b53408b0bd1d",
     "showTitle": false,
     "title": ""
    }
   },
   "outputs": [],
   "source": [
    "average_salary = (df.select(F.avg('salary')).first()[0])\n",
    "\n",
    "average_salary_df = average_salary_df.withColumns(\n",
    "    {\n",
    "    'avg_salary': F.lit(average_salary),\n",
    "    'is_above_avg': F.col('salary') >= average_salary}\n",
    ")"
   ]
  },
  {
   "cell_type": "code",
   "execution_count": 0,
   "metadata": {
    "application/vnd.databricks.v1+cell": {
     "cellMetadata": {
      "byteLimit": 2048000,
      "rowLimit": 10000
     },
     "inputWidgets": {},
     "nuid": "c47fe2d9-75a2-410b-a65a-c4be9df15a1c",
     "showTitle": false,
     "title": ""
    }
   },
   "outputs": [
    {
     "output_type": "display_data",
     "data": {
      "text/html": [
       "<style scoped>\n",
       "  .table-result-container {\n",
       "    max-height: 300px;\n",
       "    overflow: auto;\n",
       "  }\n",
       "  table, th, td {\n",
       "    border: 1px solid black;\n",
       "    border-collapse: collapse;\n",
       "  }\n",
       "  th, td {\n",
       "    padding: 5px;\n",
       "  }\n",
       "  th {\n",
       "    text-align: left;\n",
       "  }\n",
       "</style><div class='table-result-container'><table class='table-result'><thead style='background-color: white'><tr><th>id</th><th>name</th><th>dob</th><th>age</th><th>salary</th><th>department</th><th>average_salary_by_department</th><th>is_above_avg_by_dep</th><th>avg_salary</th><th>is_above_avg</th></tr></thead><tbody><tr><td>4</td><td>Emily</td><td>1994-11-22</td><td>28</td><td>65000</td><td>Finance</td><td>71166.66666666667</td><td>false</td><td>73352.94117647059</td><td>false</td></tr><tr><td>6</td><td>Susan</td><td>1989-07-05</td><td>33</td><td>75000</td><td>Finance</td><td>71166.66666666667</td><td>true</td><td>73352.94117647059</td><td>true</td></tr><tr><td>10</td><td>Sophie</td><td>1992-06-30</td><td>30</td><td>62000</td><td>Finance</td><td>71166.66666666667</td><td>false</td><td>73352.94117647059</td><td>false</td></tr><tr><td>2</td><td>Alice</td><td>1997-02-28</td><td>25</td><td>90000</td><td>Finance</td><td>71166.66666666667</td><td>true</td><td>73352.94117647059</td><td>true</td></tr><tr><td>4</td><td>Emily</td><td>1994-11-22</td><td>28</td><td>70000</td><td>Finance</td><td>71166.66666666667</td><td>false</td><td>73352.94117647059</td><td>false</td></tr><tr><td>4</td><td>Emily</td><td>1994-11-22</td><td>28</td><td>65000</td><td>Finance</td><td>71166.66666666667</td><td>false</td><td>73352.94117647059</td><td>false</td></tr><tr><td>2</td><td>Alice</td><td>1997-02-28</td><td>25</td><td>60000</td><td>HR</td><td>67000.0</td><td>false</td><td>73352.94117647059</td><td>false</td></tr><tr><td>5</td><td>David</td><td>1981-12-18</td><td>41</td><td>90000</td><td>HR</td><td>67000.0</td><td>true</td><td>73352.94117647059</td><td>true</td></tr><tr><td>8</td><td>Lisa</td><td>1995-08-20</td><td>27</td><td>58000</td><td>HR</td><td>67000.0</td><td>false</td><td>73352.94117647059</td><td>false</td></tr><tr><td>2</td><td>Alice</td><td>1997-02-28</td><td>25</td><td>60000</td><td>HR</td><td>67000.0</td><td>false</td><td>73352.94117647059</td><td>false</td></tr><tr><td>1</td><td>John</td><td>1992-05-12</td><td>30</td><td>70000</td><td>IT</td><td>78857.14285714286</td><td>false</td><td>73352.94117647059</td><td>false</td></tr><tr><td>3</td><td>Bob</td><td>null</td><td>null</td><td>80000</td><td>IT</td><td>78857.14285714286</td><td>true</td><td>73352.94117647059</td><td>true</td></tr><tr><td>7</td><td>Mike</td><td>1976-03-15</td><td>46</td><td>95000</td><td>IT</td><td>78857.14285714286</td><td>true</td><td>73352.94117647059</td><td>true</td></tr><tr><td>9</td><td>James</td><td>1983-10-14</td><td>39</td><td>87000</td><td>IT</td><td>78857.14285714286</td><td>true</td><td>73352.94117647059</td><td>true</td></tr><tr><td>1</td><td>John</td><td>1992-05-12</td><td>30</td><td>70000</td><td>IT</td><td>78857.14285714286</td><td>false</td><td>73352.94117647059</td><td>false</td></tr><tr><td>1</td><td>John</td><td>1992-05-12</td><td>30</td><td>70000</td><td>IT</td><td>78857.14285714286</td><td>false</td><td>73352.94117647059</td><td>false</td></tr><tr><td>3</td><td>Bob</td><td>null</td><td>null</td><td>80000</td><td>IT</td><td>78857.14285714286</td><td>true</td><td>73352.94117647059</td><td>true</td></tr></tbody></table></div>"
      ]
     },
     "metadata": {
      "application/vnd.databricks.v1+output": {
       "addedWidgets": {},
       "aggData": [],
       "aggError": "",
       "aggOverflow": false,
       "aggSchema": [],
       "aggSeriesLimitReached": false,
       "aggType": "",
       "arguments": {},
       "columnCustomDisplayInfos": {},
       "data": [
        [
         4,
         "Emily",
         "1994-11-22",
         28,
         65000,
         "Finance",
         71166.66666666667,
         false,
         73352.94117647059,
         false
        ],
        [
         6,
         "Susan",
         "1989-07-05",
         33,
         75000,
         "Finance",
         71166.66666666667,
         true,
         73352.94117647059,
         true
        ],
        [
         10,
         "Sophie",
         "1992-06-30",
         30,
         62000,
         "Finance",
         71166.66666666667,
         false,
         73352.94117647059,
         false
        ],
        [
         2,
         "Alice",
         "1997-02-28",
         25,
         90000,
         "Finance",
         71166.66666666667,
         true,
         73352.94117647059,
         true
        ],
        [
         4,
         "Emily",
         "1994-11-22",
         28,
         70000,
         "Finance",
         71166.66666666667,
         false,
         73352.94117647059,
         false
        ],
        [
         4,
         "Emily",
         "1994-11-22",
         28,
         65000,
         "Finance",
         71166.66666666667,
         false,
         73352.94117647059,
         false
        ],
        [
         2,
         "Alice",
         "1997-02-28",
         25,
         60000,
         "HR",
         67000.0,
         false,
         73352.94117647059,
         false
        ],
        [
         5,
         "David",
         "1981-12-18",
         41,
         90000,
         "HR",
         67000.0,
         true,
         73352.94117647059,
         true
        ],
        [
         8,
         "Lisa",
         "1995-08-20",
         27,
         58000,
         "HR",
         67000.0,
         false,
         73352.94117647059,
         false
        ],
        [
         2,
         "Alice",
         "1997-02-28",
         25,
         60000,
         "HR",
         67000.0,
         false,
         73352.94117647059,
         false
        ],
        [
         1,
         "John",
         "1992-05-12",
         30,
         70000,
         "IT",
         78857.14285714286,
         false,
         73352.94117647059,
         false
        ],
        [
         3,
         "Bob",
         null,
         null,
         80000,
         "IT",
         78857.14285714286,
         true,
         73352.94117647059,
         true
        ],
        [
         7,
         "Mike",
         "1976-03-15",
         46,
         95000,
         "IT",
         78857.14285714286,
         true,
         73352.94117647059,
         true
        ],
        [
         9,
         "James",
         "1983-10-14",
         39,
         87000,
         "IT",
         78857.14285714286,
         true,
         73352.94117647059,
         true
        ],
        [
         1,
         "John",
         "1992-05-12",
         30,
         70000,
         "IT",
         78857.14285714286,
         false,
         73352.94117647059,
         false
        ],
        [
         1,
         "John",
         "1992-05-12",
         30,
         70000,
         "IT",
         78857.14285714286,
         false,
         73352.94117647059,
         false
        ],
        [
         3,
         "Bob",
         null,
         null,
         80000,
         "IT",
         78857.14285714286,
         true,
         73352.94117647059,
         true
        ]
       ],
       "datasetInfos": [],
       "dbfsResultPath": null,
       "isJsonSchema": true,
       "metadata": {},
       "overflow": false,
       "plotOptions": {
        "customPlotOptions": {},
        "displayType": "table",
        "pivotAggregation": null,
        "pivotColumns": null,
        "xColumns": null,
        "yColumns": null
       },
       "removedWidgets": [],
       "schema": [
        {
         "metadata": "{}",
         "name": "id",
         "type": "\"integer\""
        },
        {
         "metadata": "{}",
         "name": "name",
         "type": "\"string\""
        },
        {
         "metadata": "{}",
         "name": "dob",
         "type": "\"date\""
        },
        {
         "metadata": "{}",
         "name": "age",
         "type": "\"integer\""
        },
        {
         "metadata": "{}",
         "name": "salary",
         "type": "\"integer\""
        },
        {
         "metadata": "{}",
         "name": "department",
         "type": "\"string\""
        },
        {
         "metadata": "{}",
         "name": "average_salary_by_department",
         "type": "\"double\""
        },
        {
         "metadata": "{}",
         "name": "is_above_avg_by_dep",
         "type": "\"boolean\""
        },
        {
         "metadata": "{}",
         "name": "avg_salary",
         "type": "\"double\""
        },
        {
         "metadata": "{}",
         "name": "is_above_avg",
         "type": "\"boolean\""
        }
       ],
       "type": "table"
      }
     },
     "output_type": "display_data"
    }
   ],
   "source": [
    "average_salary_df.display()"
   ]
  }
 ],
 "metadata": {
  "application/vnd.databricks.v1+notebook": {
   "dashboards": [],
   "language": "python",
   "notebookMetadata": {
    "pythonIndentUnit": 4
   },
   "notebookName": "pyspark_task",
   "widgets": {}
  }
 },
 "nbformat": 4,
 "nbformat_minor": 0
}
