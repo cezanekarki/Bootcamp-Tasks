{
 "cells": [
  {
   "cell_type": "code",
   "execution_count": 0,
   "metadata": {
    "application/vnd.databricks.v1+cell": {
     "cellMetadata": {
      "byteLimit": 2048000,
      "rowLimit": 10000
     },
     "inputWidgets": {},
     "nuid": "e67153a5-32e4-4bee-9f8b-649ec4f1e01b",
     "showTitle": false,
     "title": ""
    }
   },
   "outputs": [],
   "source": [
    "from pyspark.sql import SparkSession\n",
    "spark = SparkSession.builder.getOrCreate()"
   ]
  },
  {
   "cell_type": "code",
   "execution_count": 0,
   "metadata": {
    "application/vnd.databricks.v1+cell": {
     "cellMetadata": {
      "byteLimit": 2048000,
      "rowLimit": 10000
     },
     "inputWidgets": {},
     "nuid": "2a7ecf79-9764-4dc1-902c-3d98f9a33254",
     "showTitle": false,
     "title": ""
    }
   },
   "outputs": [],
   "source": [
    "df_csv = spark.read.format('csv').load('dbfs:///FileStore/tables/csv/batch.csv')"
   ]
  },
  {
   "cell_type": "code",
   "execution_count": 0,
   "metadata": {
    "application/vnd.databricks.v1+cell": {
     "cellMetadata": {
      "byteLimit": 2048000,
      "rowLimit": 10000
     },
     "inputWidgets": {},
     "nuid": "dedbc319-b9fe-417a-b3e8-95dfd6ef2824",
     "showTitle": false,
     "title": ""
    }
   },
   "outputs": [
    {
     "output_type": "stream",
     "name": "stdout",
     "output_type": "stream",
     "text": [
      "+---+-----+----------+----+------+----------+\n|_c0|  _c1|       _c2| _c3|   _c4|       _c5|\n+---+-----+----------+----+------+----------+\n| id| name|       dob| age|salary|department|\n|  1| John|1992-05-12|  30| 70000|        IT|\n|  2|Alice|1997-02-28|  25| 60000|        HR|\n|  3|  Bob|      null|null| 80000|        IT|\n|  4|Emily|1994-11-22|  28| 65000|   Finance|\n+---+-----+----------+----+------+----------+\n\n"
     ]
    }
   ],
   "source": [
    "df_csv.show()"
   ]
  },
  {
   "cell_type": "code",
   "execution_count": 0,
   "metadata": {
    "application/vnd.databricks.v1+cell": {
     "cellMetadata": {
      "byteLimit": 2048000,
      "rowLimit": 10000
     },
     "inputWidgets": {},
     "nuid": "e545bb73-a6c2-46ca-9ae6-c9bf5004a80c",
     "showTitle": false,
     "title": ""
    }
   },
   "outputs": [],
   "source": [
    "df_csv = spark.read.format('csv').option('header', True).load('dbfs:///FileStore/tables/csv/batch.csv')"
   ]
  },
  {
   "cell_type": "code",
   "execution_count": 0,
   "metadata": {
    "application/vnd.databricks.v1+cell": {
     "cellMetadata": {
      "byteLimit": 2048000,
      "rowLimit": 10000
     },
     "inputWidgets": {},
     "nuid": "481972ea-0a45-4fd3-b57b-7e01b40255f3",
     "showTitle": false,
     "title": ""
    }
   },
   "outputs": [
    {
     "output_type": "stream",
     "name": "stdout",
     "output_type": "stream",
     "text": [
      "+---+-----+----------+----+------+----------+\n| id| name|       dob| age|salary|department|\n+---+-----+----------+----+------+----------+\n|  1| John|1992-05-12|  30| 70000|        IT|\n|  2|Alice|1997-02-28|  25| 60000|        HR|\n|  3|  Bob|      null|null| 80000|        IT|\n|  4|Emily|1994-11-22|  28| 65000|   Finance|\n+---+-----+----------+----+------+----------+\n\n"
     ]
    }
   ],
   "source": [
    "df_csv.show()"
   ]
  },
  {
   "cell_type": "code",
   "execution_count": 0,
   "metadata": {
    "application/vnd.databricks.v1+cell": {
     "cellMetadata": {
      "byteLimit": 2048000,
      "rowLimit": 10000
     },
     "inputWidgets": {},
     "nuid": "5bf2c4d8-5467-4c51-899b-65d1aa2bcb60",
     "showTitle": false,
     "title": ""
    }
   },
   "outputs": [],
   "source": [
    "from pyspark.sql.types import StructType, StructField, IntegerType, StringType, DateType"
   ]
  },
  {
   "cell_type": "code",
   "execution_count": 0,
   "metadata": {
    "application/vnd.databricks.v1+cell": {
     "cellMetadata": {
      "byteLimit": 2048000,
      "rowLimit": 10000
     },
     "inputWidgets": {},
     "nuid": "52981dfa-588b-4fdb-91ac-afacf0008d5d",
     "showTitle": false,
     "title": ""
    }
   },
   "outputs": [],
   "source": [
    "schema = StructType([\n",
    "    StructField('id', IntegerType()),\n",
    "    StructField('name', StringType()),\n",
    "    StructField('dob', DateType()),\n",
    "    StructField('age', IntegerType()),\n",
    "    StructField('salary', IntegerType()),\n",
    "    StructField('department', StringType())\n",
    "])"
   ]
  },
  {
   "cell_type": "code",
   "execution_count": 0,
   "metadata": {
    "application/vnd.databricks.v1+cell": {
     "cellMetadata": {
      "byteLimit": 2048000,
      "rowLimit": 10000
     },
     "inputWidgets": {},
     "nuid": "83a076ae-da68-4d3c-8201-e5df0270f95c",
     "showTitle": false,
     "title": ""
    }
   },
   "outputs": [],
   "source": [
    "df_csv = spark.read.format('csv').schema(schema).option('header', True).load('dbfs:///FileStore/tables/csv/batch.csv')"
   ]
  },
  {
   "cell_type": "code",
   "execution_count": 0,
   "metadata": {
    "application/vnd.databricks.v1+cell": {
     "cellMetadata": {
      "byteLimit": 2048000,
      "rowLimit": 10000
     },
     "inputWidgets": {},
     "nuid": "6f03ae94-0ab9-468e-b80a-13b8a53f5a47",
     "showTitle": false,
     "title": ""
    }
   },
   "outputs": [
    {
     "output_type": "stream",
     "name": "stdout",
     "output_type": "stream",
     "text": [
      "root\n |-- id: integer (nullable = true)\n |-- name: string (nullable = true)\n |-- dob: date (nullable = true)\n |-- age: integer (nullable = true)\n |-- salary: integer (nullable = true)\n |-- department: string (nullable = true)\n\n"
     ]
    }
   ],
   "source": [
    "df_csv.printSchema()"
   ]
  },
  {
   "cell_type": "code",
   "execution_count": 0,
   "metadata": {
    "application/vnd.databricks.v1+cell": {
     "cellMetadata": {
      "byteLimit": 2048000,
      "rowLimit": 10000
     },
     "inputWidgets": {},
     "nuid": "6d605ade-3f15-4d5b-9ebe-be32f8dd23b8",
     "showTitle": false,
     "title": ""
    }
   },
   "outputs": [
    {
     "output_type": "display_data",
     "data": {
      "text/html": [
       "<style scoped>\n",
       "  .table-result-container {\n",
       "    max-height: 300px;\n",
       "    overflow: auto;\n",
       "  }\n",
       "  table, th, td {\n",
       "    border: 1px solid black;\n",
       "    border-collapse: collapse;\n",
       "  }\n",
       "  th, td {\n",
       "    padding: 5px;\n",
       "  }\n",
       "  th {\n",
       "    text-align: left;\n",
       "  }\n",
       "</style><div class='table-result-container'><table class='table-result'><thead style='background-color: white'><tr><th>path</th><th>name</th><th>size</th><th>modificationTime</th></tr></thead><tbody><tr><td>dbfs:/FileStore/tables/json/10_20220101.json</td><td>10_20220101.json</td><td>102</td><td>1707701629000</td></tr><tr><td>dbfs:/FileStore/tables/json/1_20220101.json</td><td>1_20220101.json</td><td>94</td><td>1707701629000</td></tr><tr><td>dbfs:/FileStore/tables/json/2_20220101.json</td><td>2_20220101.json</td><td>100</td><td>1707701630000</td></tr><tr><td>dbfs:/FileStore/tables/json/4_20220101.json</td><td>4_20220101.json</td><td>100</td><td>1707701630000</td></tr><tr><td>dbfs:/FileStore/tables/json/8_20220101.json</td><td>8_20220101.json</td><td>94</td><td>1707701630000</td></tr><tr><td>dbfs:/FileStore/tables/json/9_20220101.json</td><td>9_20220101.json</td><td>95</td><td>1707701630000</td></tr><tr><td>dbfs:/FileStore/tables/json/batch.jsonl</td><td>batch.jsonl</td><td>671</td><td>1707701631000</td></tr></tbody></table></div>"
      ]
     },
     "metadata": {
      "application/vnd.databricks.v1+output": {
       "addedWidgets": {},
       "aggData": [],
       "aggError": "",
       "aggOverflow": false,
       "aggSchema": [],
       "aggSeriesLimitReached": false,
       "aggType": "",
       "arguments": {},
       "columnCustomDisplayInfos": {},
       "data": [
        [
         "dbfs:/FileStore/tables/json/10_20220101.json",
         "10_20220101.json",
         102,
         1707701629000
        ],
        [
         "dbfs:/FileStore/tables/json/1_20220101.json",
         "1_20220101.json",
         94,
         1707701629000
        ],
        [
         "dbfs:/FileStore/tables/json/2_20220101.json",
         "2_20220101.json",
         100,
         1707701630000
        ],
        [
         "dbfs:/FileStore/tables/json/4_20220101.json",
         "4_20220101.json",
         100,
         1707701630000
        ],
        [
         "dbfs:/FileStore/tables/json/8_20220101.json",
         "8_20220101.json",
         94,
         1707701630000
        ],
        [
         "dbfs:/FileStore/tables/json/9_20220101.json",
         "9_20220101.json",
         95,
         1707701630000
        ],
        [
         "dbfs:/FileStore/tables/json/batch.jsonl",
         "batch.jsonl",
         671,
         1707701631000
        ]
       ],
       "datasetInfos": [],
       "dbfsResultPath": null,
       "isJsonSchema": true,
       "metadata": {
        "isDbfsCommandResult": false
       },
       "overflow": false,
       "plotOptions": {
        "customPlotOptions": {},
        "displayType": "table",
        "pivotAggregation": null,
        "pivotColumns": null,
        "xColumns": null,
        "yColumns": null
       },
       "removedWidgets": [],
       "schema": [
        {
         "metadata": "{}",
         "name": "path",
         "type": "\"string\""
        },
        {
         "metadata": "{}",
         "name": "name",
         "type": "\"string\""
        },
        {
         "metadata": "{}",
         "name": "size",
         "type": "\"long\""
        },
        {
         "metadata": "{}",
         "name": "modificationTime",
         "type": "\"long\""
        }
       ],
       "type": "table"
      }
     },
     "output_type": "display_data"
    }
   ],
   "source": [
    "%fs ls dbfs:///FileStore/tables/json/"
   ]
  },
  {
   "cell_type": "code",
   "execution_count": 0,
   "metadata": {
    "application/vnd.databricks.v1+cell": {
     "cellMetadata": {
      "byteLimit": 2048000,
      "rowLimit": 10000
     },
     "inputWidgets": {},
     "nuid": "437b78ae-fc6b-4726-a84c-b3e7480b6d21",
     "showTitle": false,
     "title": ""
    }
   },
   "outputs": [],
   "source": [
    "df_json = spark.read.format(\"json\").load(\"dbfs:///FileStore/tables/json\")"
   ]
  },
  {
   "cell_type": "code",
   "execution_count": 0,
   "metadata": {
    "application/vnd.databricks.v1+cell": {
     "cellMetadata": {
      "byteLimit": 2048000,
      "rowLimit": 10000
     },
     "inputWidgets": {},
     "nuid": "da9835b2-65b0-4337-b3ba-67c06f1d41dc",
     "showTitle": false,
     "title": ""
    }
   },
   "outputs": [
    {
     "output_type": "display_data",
     "data": {
      "text/html": [
       "<style scoped>\n",
       "  .table-result-container {\n",
       "    max-height: 300px;\n",
       "    overflow: auto;\n",
       "  }\n",
       "  table, th, td {\n",
       "    border: 1px solid black;\n",
       "    border-collapse: collapse;\n",
       "  }\n",
       "  th, td {\n",
       "    padding: 5px;\n",
       "  }\n",
       "  th {\n",
       "    text-align: left;\n",
       "  }\n",
       "</style><div class='table-result-container'><table class='table-result'><thead style='background-color: white'><tr><th>age</th><th>department</th><th>dob</th><th>id</th><th>name</th><th>salary</th></tr></thead><tbody><tr><td>30</td><td>IT</td><td>1992-05-12</td><td>1</td><td>John</td><td>70000</td></tr><tr><td>25</td><td>HR</td><td>1997-02-28</td><td>2</td><td>Alice</td><td>60000</td></tr><tr><td>null</td><td>IT</td><td>null</td><td>3</td><td>Bob</td><td>80000</td></tr><tr><td>28</td><td>Finance</td><td>1994-11-22</td><td>4</td><td>Emily</td><td>65000</td></tr><tr><td>41</td><td>HR</td><td>1981-12-18</td><td>5</td><td>David</td><td>90000</td></tr><tr><td>33</td><td>Finance</td><td>1989-07-05</td><td>6</td><td>Susan</td><td>75000</td></tr><tr><td>46</td><td>IT</td><td>1976-03-15</td><td>7</td><td>Mike</td><td>95000</td></tr><tr><td>30</td><td>Finance</td><td>1992-06-30</td><td>10</td><td>Sophie</td><td>62000</td></tr><tr><td>25</td><td>Finance</td><td>1997-02-28</td><td>2</td><td>Alice</td><td>90000</td></tr><tr><td>28</td><td>Finance</td><td>1994-11-22</td><td>4</td><td>Emily</td><td>70000</td></tr><tr><td>39</td><td>IT</td><td>1983-10-14</td><td>9</td><td>James</td><td>87000</td></tr><tr><td>30</td><td>IT</td><td>1992-05-12</td><td>1</td><td>John</td><td>70000</td></tr><tr><td>27</td><td>HR</td><td>1995-08-20</td><td>8</td><td>Lisa</td><td>58000</td></tr></tbody></table></div>"
      ]
     },
     "metadata": {
      "application/vnd.databricks.v1+output": {
       "addedWidgets": {},
       "aggData": [],
       "aggError": "",
       "aggOverflow": false,
       "aggSchema": [],
       "aggSeriesLimitReached": false,
       "aggType": "",
       "arguments": {},
       "columnCustomDisplayInfos": {},
       "data": [
        [
         30,
         "IT",
         "1992-05-12",
         1,
         "John",
         70000
        ],
        [
         25,
         "HR",
         "1997-02-28",
         2,
         "Alice",
         60000
        ],
        [
         null,
         "IT",
         null,
         3,
         "Bob",
         80000
        ],
        [
         28,
         "Finance",
         "1994-11-22",
         4,
         "Emily",
         65000
        ],
        [
         41,
         "HR",
         "1981-12-18",
         5,
         "David",
         90000
        ],
        [
         33,
         "Finance",
         "1989-07-05",
         6,
         "Susan",
         75000
        ],
        [
         46,
         "IT",
         "1976-03-15",
         7,
         "Mike",
         95000
        ],
        [
         30,
         "Finance",
         "1992-06-30",
         10,
         "Sophie",
         62000
        ],
        [
         25,
         "Finance",
         "1997-02-28",
         2,
         "Alice",
         90000
        ],
        [
         28,
         "Finance",
         "1994-11-22",
         4,
         "Emily",
         70000
        ],
        [
         39,
         "IT",
         "1983-10-14",
         9,
         "James",
         87000
        ],
        [
         30,
         "IT",
         "1992-05-12",
         1,
         "John",
         70000
        ],
        [
         27,
         "HR",
         "1995-08-20",
         8,
         "Lisa",
         58000
        ]
       ],
       "datasetInfos": [],
       "dbfsResultPath": null,
       "isJsonSchema": true,
       "metadata": {},
       "overflow": false,
       "plotOptions": {
        "customPlotOptions": {},
        "displayType": "table",
        "pivotAggregation": null,
        "pivotColumns": null,
        "xColumns": null,
        "yColumns": null
       },
       "removedWidgets": [],
       "schema": [
        {
         "metadata": "{}",
         "name": "age",
         "type": "\"long\""
        },
        {
         "metadata": "{}",
         "name": "department",
         "type": "\"string\""
        },
        {
         "metadata": "{}",
         "name": "dob",
         "type": "\"string\""
        },
        {
         "metadata": "{}",
         "name": "id",
         "type": "\"long\""
        },
        {
         "metadata": "{}",
         "name": "name",
         "type": "\"string\""
        },
        {
         "metadata": "{}",
         "name": "salary",
         "type": "\"long\""
        }
       ],
       "type": "table"
      }
     },
     "output_type": "display_data"
    }
   ],
   "source": [
    "df_json.display()"
   ]
  },
  {
   "cell_type": "code",
   "execution_count": 0,
   "metadata": {
    "application/vnd.databricks.v1+cell": {
     "cellMetadata": {
      "byteLimit": 2048000,
      "rowLimit": 10000
     },
     "inputWidgets": {},
     "nuid": "6470653b-608a-4b60-a7f9-dc50e65a1f5d",
     "showTitle": false,
     "title": ""
    }
   },
   "outputs": [
    {
     "output_type": "stream",
     "name": "stdout",
     "output_type": "stream",
     "text": [
      "root\n |-- age: long (nullable = true)\n |-- department: string (nullable = true)\n |-- dob: string (nullable = true)\n |-- id: long (nullable = true)\n |-- name: string (nullable = true)\n |-- salary: long (nullable = true)\n\n"
     ]
    }
   ],
   "source": [
    "df_json.printSchema()"
   ]
  },
  {
   "cell_type": "code",
   "execution_count": 0,
   "metadata": {
    "application/vnd.databricks.v1+cell": {
     "cellMetadata": {
      "byteLimit": 2048000,
      "rowLimit": 10000
     },
     "inputWidgets": {},
     "nuid": "4017db15-d480-4391-b79b-34321cc0c279",
     "showTitle": false,
     "title": ""
    }
   },
   "outputs": [],
   "source": [
    "df = df_csv.union(df_json)"
   ]
  },
  {
   "cell_type": "code",
   "execution_count": 0,
   "metadata": {
    "application/vnd.databricks.v1+cell": {
     "cellMetadata": {
      "byteLimit": 2048000,
      "rowLimit": 10000
     },
     "inputWidgets": {},
     "nuid": "40edb0df-1f5f-4466-819b-d5295549dfd4",
     "showTitle": false,
     "title": ""
    }
   },
   "outputs": [
    {
     "output_type": "stream",
     "name": "stdout",
     "output_type": "stream",
     "text": [
      "+----+-------+----------+----+------+----------+\n|  id|   name|       dob| age|salary|department|\n+----+-------+----------+----+------+----------+\n|   1|   John|1992-05-12|  30| 70000|        IT|\n|   2|  Alice|1997-02-28|  25| 60000|        HR|\n|   3|    Bob|      null|null| 80000|        IT|\n|   4|  Emily|1994-11-22|  28| 65000|   Finance|\n|  30|     IT|1992-05-12|   1|  John|     70000|\n|  25|     HR|1997-02-28|   2| Alice|     60000|\n|null|     IT|      null|   3|   Bob|     80000|\n|  28|Finance|1994-11-22|   4| Emily|     65000|\n|  41|     HR|1981-12-18|   5| David|     90000|\n|  33|Finance|1989-07-05|   6| Susan|     75000|\n|  46|     IT|1976-03-15|   7|  Mike|     95000|\n|  30|Finance|1992-06-30|  10|Sophie|     62000|\n|  25|Finance|1997-02-28|   2| Alice|     90000|\n|  28|Finance|1994-11-22|   4| Emily|     70000|\n|  39|     IT|1983-10-14|   9| James|     87000|\n|  30|     IT|1992-05-12|   1|  John|     70000|\n|  27|     HR|1995-08-20|   8|  Lisa|     58000|\n+----+-------+----------+----+------+----------+\n\n"
     ]
    }
   ],
   "source": [
    "df.show()"
   ]
  },
  {
   "cell_type": "code",
   "execution_count": 0,
   "metadata": {
    "application/vnd.databricks.v1+cell": {
     "cellMetadata": {
      "byteLimit": 2048000,
      "rowLimit": 10000
     },
     "inputWidgets": {},
     "nuid": "2b70d864-5aa7-4975-b9b5-ee1327ba115c",
     "showTitle": false,
     "title": ""
    }
   },
   "outputs": [],
   "source": [
    "df_json = df_json.select(df_csv.columns)"
   ]
  },
  {
   "cell_type": "code",
   "execution_count": 0,
   "metadata": {
    "application/vnd.databricks.v1+cell": {
     "cellMetadata": {
      "byteLimit": 2048000,
      "rowLimit": 10000
     },
     "inputWidgets": {},
     "nuid": "d51a13a3-431e-4518-a3e6-87a7cb7131a2",
     "showTitle": false,
     "title": ""
    }
   },
   "outputs": [
    {
     "output_type": "stream",
     "name": "stdout",
     "output_type": "stream",
     "text": [
      "+---+------+----------+----+------+----------+\n| id|  name|       dob| age|salary|department|\n+---+------+----------+----+------+----------+\n|  1|  John|1992-05-12|  30| 70000|        IT|\n|  2| Alice|1997-02-28|  25| 60000|        HR|\n|  3|   Bob|      null|null| 80000|        IT|\n|  4| Emily|1994-11-22|  28| 65000|   Finance|\n|  5| David|1981-12-18|  41| 90000|        HR|\n|  6| Susan|1989-07-05|  33| 75000|   Finance|\n|  7|  Mike|1976-03-15|  46| 95000|        IT|\n| 10|Sophie|1992-06-30|  30| 62000|   Finance|\n|  2| Alice|1997-02-28|  25| 90000|   Finance|\n|  4| Emily|1994-11-22|  28| 70000|   Finance|\n|  9| James|1983-10-14|  39| 87000|        IT|\n|  1|  John|1992-05-12|  30| 70000|        IT|\n|  8|  Lisa|1995-08-20|  27| 58000|        HR|\n+---+------+----------+----+------+----------+\n\n"
     ]
    }
   ],
   "source": [
    "df_json.show()"
   ]
  },
  {
   "cell_type": "code",
   "execution_count": 0,
   "metadata": {
    "application/vnd.databricks.v1+cell": {
     "cellMetadata": {
      "byteLimit": 2048000,
      "rowLimit": 10000
     },
     "inputWidgets": {},
     "nuid": "b404433e-1778-4a4e-bd25-077be2b15edd",
     "showTitle": false,
     "title": ""
    }
   },
   "outputs": [
    {
     "output_type": "stream",
     "name": "stdout",
     "output_type": "stream",
     "text": [
      "['id', 'name', 'dob', 'age', 'salary', 'department'] ['id', 'name', 'dob', 'age', 'salary', 'department']\n"
     ]
    }
   ],
   "source": [
    "print(df_json.columns, df_csv.columns)"
   ]
  },
  {
   "cell_type": "code",
   "execution_count": 0,
   "metadata": {
    "application/vnd.databricks.v1+cell": {
     "cellMetadata": {
      "byteLimit": 2048000,
      "rowLimit": 10000
     },
     "inputWidgets": {},
     "nuid": "69cc76fb-7f07-4bd6-a6d3-2a2a7740361a",
     "showTitle": false,
     "title": ""
    }
   },
   "outputs": [
    {
     "output_type": "stream",
     "name": "stdout",
     "output_type": "stream",
     "text": [
      "root\n |-- id: long (nullable = true)\n |-- name: string (nullable = true)\n |-- dob: string (nullable = true)\n |-- age: long (nullable = true)\n |-- salary: long (nullable = true)\n |-- department: string (nullable = true)\n\n"
     ]
    }
   ],
   "source": [
    "df_json.printSchema()"
   ]
  },
  {
   "cell_type": "code",
   "execution_count": 0,
   "metadata": {
    "application/vnd.databricks.v1+cell": {
     "cellMetadata": {
      "byteLimit": 2048000,
      "rowLimit": 10000
     },
     "inputWidgets": {},
     "nuid": "8b1a6e58-36e6-4bad-9df6-7b73b7073413",
     "showTitle": false,
     "title": ""
    }
   },
   "outputs": [
    {
     "output_type": "stream",
     "name": "stdout",
     "output_type": "stream",
     "text": [
      "root\n |-- id: integer (nullable = true)\n |-- name: string (nullable = true)\n |-- dob: date (nullable = true)\n |-- age: integer (nullable = true)\n |-- salary: integer (nullable = true)\n |-- department: string (nullable = true)\n\n"
     ]
    }
   ],
   "source": [
    "df_csv.printSchema()"
   ]
  },
  {
   "cell_type": "code",
   "execution_count": 0,
   "metadata": {
    "application/vnd.databricks.v1+cell": {
     "cellMetadata": {
      "byteLimit": 2048000,
      "rowLimit": 10000
     },
     "inputWidgets": {},
     "nuid": "d1ba4454-c49d-4875-b86a-fe55d3d01b39",
     "showTitle": false,
     "title": ""
    }
   },
   "outputs": [],
   "source": [
    "df = df_json.union(df_csv)"
   ]
  },
  {
   "cell_type": "code",
   "execution_count": 0,
   "metadata": {
    "application/vnd.databricks.v1+cell": {
     "cellMetadata": {
      "byteLimit": 2048000,
      "rowLimit": 10000
     },
     "inputWidgets": {},
     "nuid": "7a98f441-5e4b-46af-928f-7d4484b94aec",
     "showTitle": false,
     "title": ""
    }
   },
   "outputs": [
    {
     "output_type": "stream",
     "name": "stdout",
     "output_type": "stream",
     "text": [
      "+---+------+----------+----+------+----------+\n| id|  name|       dob| age|salary|department|\n+---+------+----------+----+------+----------+\n|  1|  John|1992-05-12|  30| 70000|        IT|\n|  2| Alice|1997-02-28|  25| 60000|        HR|\n|  3|   Bob|      null|null| 80000|        IT|\n|  4| Emily|1994-11-22|  28| 65000|   Finance|\n|  5| David|1981-12-18|  41| 90000|        HR|\n|  6| Susan|1989-07-05|  33| 75000|   Finance|\n|  7|  Mike|1976-03-15|  46| 95000|        IT|\n| 10|Sophie|1992-06-30|  30| 62000|   Finance|\n|  2| Alice|1997-02-28|  25| 90000|   Finance|\n|  4| Emily|1994-11-22|  28| 70000|   Finance|\n|  9| James|1983-10-14|  39| 87000|        IT|\n|  1|  John|1992-05-12|  30| 70000|        IT|\n|  8|  Lisa|1995-08-20|  27| 58000|        HR|\n|  1|  John|1992-05-12|  30| 70000|        IT|\n|  2| Alice|1997-02-28|  25| 60000|        HR|\n|  3|   Bob|      null|null| 80000|        IT|\n|  4| Emily|1994-11-22|  28| 65000|   Finance|\n+---+------+----------+----+------+----------+\n\n"
     ]
    }
   ],
   "source": [
    "df.show()"
   ]
  },
  {
   "cell_type": "code",
   "execution_count": 0,
   "metadata": {
    "application/vnd.databricks.v1+cell": {
     "cellMetadata": {
      "byteLimit": 2048000,
      "rowLimit": 10000
     },
     "inputWidgets": {},
     "nuid": "d9867838-9942-4208-9c82-8da56caebee0",
     "showTitle": false,
     "title": ""
    }
   },
   "outputs": [],
   "source": [
    "df_json = spark.read.format('json').schema(schema).load('dbfs:///FileStore/tables/json')"
   ]
  },
  {
   "cell_type": "code",
   "execution_count": 0,
   "metadata": {
    "application/vnd.databricks.v1+cell": {
     "cellMetadata": {
      "byteLimit": 2048000,
      "rowLimit": 10000
     },
     "inputWidgets": {},
     "nuid": "c34dad69-6062-48f4-b28b-892dc180ff3c",
     "showTitle": false,
     "title": ""
    }
   },
   "outputs": [
    {
     "output_type": "stream",
     "name": "stdout",
     "output_type": "stream",
     "text": [
      "root\n |-- id: integer (nullable = true)\n |-- name: string (nullable = true)\n |-- dob: date (nullable = true)\n |-- age: integer (nullable = true)\n |-- salary: integer (nullable = true)\n |-- department: string (nullable = true)\n\n"
     ]
    }
   ],
   "source": [
    "df_json.printSchema()"
   ]
  },
  {
   "cell_type": "code",
   "execution_count": 0,
   "metadata": {
    "application/vnd.databricks.v1+cell": {
     "cellMetadata": {
      "byteLimit": 2048000,
      "rowLimit": 10000
     },
     "inputWidgets": {},
     "nuid": "398098bc-c100-421a-a300-91788342bb66",
     "showTitle": false,
     "title": ""
    }
   },
   "outputs": [],
   "source": [
    "df = df.dropDuplicates()"
   ]
  },
  {
   "cell_type": "code",
   "execution_count": 0,
   "metadata": {
    "application/vnd.databricks.v1+cell": {
     "cellMetadata": {
      "byteLimit": 2048000,
      "rowLimit": 10000
     },
     "inputWidgets": {},
     "nuid": "66e170b2-5593-49f5-a593-764ea099ea8e",
     "showTitle": false,
     "title": ""
    }
   },
   "outputs": [
    {
     "output_type": "stream",
     "name": "stdout",
     "output_type": "stream",
     "text": [
      "+---+------+----------+----+------+----------+\n| id|  name|       dob| age|salary|department|\n+---+------+----------+----+------+----------+\n|  1|  John|1992-05-12|  30| 70000|        IT|\n|  4| Emily|1994-11-22|  28| 65000|   Finance|\n|  2| Alice|1997-02-28|  25| 60000|        HR|\n|  6| Susan|1989-07-05|  33| 75000|   Finance|\n|  7|  Mike|1976-03-15|  46| 95000|        IT|\n|  3|   Bob|      null|null| 80000|        IT|\n|  5| David|1981-12-18|  41| 90000|        HR|\n| 10|Sophie|1992-06-30|  30| 62000|   Finance|\n|  2| Alice|1997-02-28|  25| 90000|   Finance|\n|  4| Emily|1994-11-22|  28| 70000|   Finance|\n|  9| James|1983-10-14|  39| 87000|        IT|\n|  8|  Lisa|1995-08-20|  27| 58000|        HR|\n+---+------+----------+----+------+----------+\n\n"
     ]
    }
   ],
   "source": [
    "df.show()"
   ]
  },
  {
   "cell_type": "code",
   "execution_count": 0,
   "metadata": {
    "application/vnd.databricks.v1+cell": {
     "cellMetadata": {
      "byteLimit": 2048000,
      "rowLimit": 10000
     },
     "inputWidgets": {},
     "nuid": "921e6e68-b78e-4677-9eca-5de8b5c88685",
     "showTitle": false,
     "title": ""
    }
   },
   "outputs": [
    {
     "output_type": "display_data",
     "data": {
      "text/html": [
       "<style scoped>\n",
       "  .table-result-container {\n",
       "    max-height: 300px;\n",
       "    overflow: auto;\n",
       "  }\n",
       "  table, th, td {\n",
       "    border: 1px solid black;\n",
       "    border-collapse: collapse;\n",
       "  }\n",
       "  th, td {\n",
       "    padding: 5px;\n",
       "  }\n",
       "  th {\n",
       "    text-align: left;\n",
       "  }\n",
       "</style><div class='table-result-container'><table class='table-result'><thead style='background-color: white'><tr><th>id</th><th>name</th><th>dob</th><th>age</th><th>salary</th><th>department</th></tr></thead><tbody><tr><td>1</td><td>John</td><td>1992-05-12</td><td>30</td><td>70000</td><td>IT</td></tr><tr><td>4</td><td>Emily</td><td>1994-11-22</td><td>28</td><td>65000</td><td>Finance</td></tr><tr><td>2</td><td>Alice</td><td>1997-02-28</td><td>25</td><td>60000</td><td>HR</td></tr><tr><td>6</td><td>Susan</td><td>1989-07-05</td><td>33</td><td>75000</td><td>Finance</td></tr><tr><td>7</td><td>Mike</td><td>1976-03-15</td><td>46</td><td>95000</td><td>IT</td></tr><tr><td>3</td><td>Bob</td><td>null</td><td>null</td><td>80000</td><td>IT</td></tr><tr><td>5</td><td>David</td><td>1981-12-18</td><td>41</td><td>90000</td><td>HR</td></tr><tr><td>10</td><td>Sophie</td><td>1992-06-30</td><td>30</td><td>62000</td><td>Finance</td></tr><tr><td>2</td><td>Alice</td><td>1997-02-28</td><td>25</td><td>90000</td><td>Finance</td></tr><tr><td>4</td><td>Emily</td><td>1994-11-22</td><td>28</td><td>70000</td><td>Finance</td></tr><tr><td>9</td><td>James</td><td>1983-10-14</td><td>39</td><td>87000</td><td>IT</td></tr><tr><td>8</td><td>Lisa</td><td>1995-08-20</td><td>27</td><td>58000</td><td>HR</td></tr></tbody></table></div>"
      ]
     },
     "metadata": {
      "application/vnd.databricks.v1+output": {
       "addedWidgets": {},
       "aggData": [],
       "aggError": "",
       "aggOverflow": false,
       "aggSchema": [],
       "aggSeriesLimitReached": false,
       "aggType": "",
       "arguments": {},
       "columnCustomDisplayInfos": {},
       "data": [
        [
         1,
         "John",
         "1992-05-12",
         30,
         70000,
         "IT"
        ],
        [
         4,
         "Emily",
         "1994-11-22",
         28,
         65000,
         "Finance"
        ],
        [
         2,
         "Alice",
         "1997-02-28",
         25,
         60000,
         "HR"
        ],
        [
         6,
         "Susan",
         "1989-07-05",
         33,
         75000,
         "Finance"
        ],
        [
         7,
         "Mike",
         "1976-03-15",
         46,
         95000,
         "IT"
        ],
        [
         3,
         "Bob",
         null,
         null,
         80000,
         "IT"
        ],
        [
         5,
         "David",
         "1981-12-18",
         41,
         90000,
         "HR"
        ],
        [
         10,
         "Sophie",
         "1992-06-30",
         30,
         62000,
         "Finance"
        ],
        [
         2,
         "Alice",
         "1997-02-28",
         25,
         90000,
         "Finance"
        ],
        [
         4,
         "Emily",
         "1994-11-22",
         28,
         70000,
         "Finance"
        ],
        [
         9,
         "James",
         "1983-10-14",
         39,
         87000,
         "IT"
        ],
        [
         8,
         "Lisa",
         "1995-08-20",
         27,
         58000,
         "HR"
        ]
       ],
       "datasetInfos": [],
       "dbfsResultPath": null,
       "isJsonSchema": true,
       "metadata": {},
       "overflow": false,
       "plotOptions": {
        "customPlotOptions": {},
        "displayType": "table",
        "pivotAggregation": null,
        "pivotColumns": null,
        "xColumns": null,
        "yColumns": null
       },
       "removedWidgets": [],
       "schema": [
        {
         "metadata": "{}",
         "name": "id",
         "type": "\"long\""
        },
        {
         "metadata": "{}",
         "name": "name",
         "type": "\"string\""
        },
        {
         "metadata": "{}",
         "name": "dob",
         "type": "\"string\""
        },
        {
         "metadata": "{}",
         "name": "age",
         "type": "\"long\""
        },
        {
         "metadata": "{}",
         "name": "salary",
         "type": "\"long\""
        },
        {
         "metadata": "{}",
         "name": "department",
         "type": "\"string\""
        }
       ],
       "type": "table"
      }
     },
     "output_type": "display_data"
    }
   ],
   "source": [
    "df.display()"
   ]
  },
  {
   "cell_type": "code",
   "execution_count": 0,
   "metadata": {
    "application/vnd.databricks.v1+cell": {
     "cellMetadata": {
      "byteLimit": 2048000,
      "rowLimit": 10000
     },
     "inputWidgets": {},
     "nuid": "e816da94-8a74-494d-87db-1c5c9463b70e",
     "showTitle": false,
     "title": ""
    }
   },
   "outputs": [
    {
     "output_type": "stream",
     "name": "stdout",
     "output_type": "stream",
     "text": [
      "+------+----+\n|salary| age|\n+------+----+\n| 70000|  30|\n| 65000|  28|\n| 60000|  25|\n| 75000|  33|\n| 95000|  46|\n| 80000|null|\n| 90000|  41|\n| 62000|  30|\n| 90000|  25|\n| 70000|  28|\n| 87000|  39|\n| 58000|  27|\n+------+----+\n\n+------+----+\n|salary| age|\n+------+----+\n| 70000|  30|\n| 65000|  28|\n| 60000|  25|\n| 75000|  33|\n| 95000|  46|\n| 80000|null|\n| 90000|  41|\n| 62000|  30|\n| 90000|  25|\n| 70000|  28|\n| 87000|  39|\n| 58000|  27|\n+------+----+\n\n+------+----+\n|salary| age|\n+------+----+\n| 70000|  30|\n| 65000|  28|\n| 60000|  25|\n| 75000|  33|\n| 95000|  46|\n| 80000|null|\n| 90000|  41|\n| 62000|  30|\n| 90000|  25|\n| 70000|  28|\n| 87000|  39|\n| 58000|  27|\n+------+----+\n\n"
     ]
    }
   ],
   "source": [
    "df.select(\"salary\", \"age\").show()\n",
    "df.select([\"salary\", \"age\"]).show()\n",
    "df.select(df.salary, df.age).show()\n"
   ]
  },
  {
   "cell_type": "code",
   "execution_count": 0,
   "metadata": {
    "application/vnd.databricks.v1+cell": {
     "cellMetadata": {
      "byteLimit": 2048000,
      "rowLimit": 10000
     },
     "inputWidgets": {},
     "nuid": "fc8a2e48-6c4c-4888-ac29-e2dc5de1c508",
     "showTitle": false,
     "title": ""
    }
   },
   "outputs": [
    {
     "output_type": "stream",
     "name": "stdout",
     "output_type": "stream",
     "text": [
      "12\n"
     ]
    }
   ],
   "source": [
    "print(df.count())"
   ]
  },
  {
   "cell_type": "code",
   "execution_count": 0,
   "metadata": {
    "application/vnd.databricks.v1+cell": {
     "cellMetadata": {
      "byteLimit": 2048000,
      "rowLimit": 10000
     },
     "inputWidgets": {},
     "nuid": "26d81b06-3fcf-43e3-b2d0-ab2130ff09e2",
     "showTitle": false,
     "title": ""
    }
   },
   "outputs": [],
   "source": [
    "from pyspark.sql import functions as F"
   ]
  },
  {
   "cell_type": "code",
   "execution_count": 0,
   "metadata": {
    "application/vnd.databricks.v1+cell": {
     "cellMetadata": {
      "byteLimit": 2048000,
      "rowLimit": 10000
     },
     "inputWidgets": {},
     "nuid": "2a12791f-2f55-45b0-98ef-60653e589727",
     "showTitle": false,
     "title": ""
    }
   },
   "outputs": [
    {
     "output_type": "stream",
     "name": "stdout",
     "output_type": "stream",
     "text": [
      "+------+----+\n|salary| age|\n+------+----+\n| 70000|  30|\n| 65000|  28|\n| 60000|  25|\n| 75000|  33|\n| 95000|  46|\n| 80000|null|\n| 90000|  41|\n| 62000|  30|\n| 90000|  25|\n| 70000|  28|\n| 87000|  39|\n| 58000|  27|\n+------+----+\n\n"
     ]
    }
   ],
   "source": [
    "df.select(F.col(\"salary\"), F.col(\"age\")).show()"
   ]
  },
  {
   "cell_type": "code",
   "execution_count": 0,
   "metadata": {
    "application/vnd.databricks.v1+cell": {
     "cellMetadata": {
      "byteLimit": 2048000,
      "rowLimit": 10000
     },
     "inputWidgets": {},
     "nuid": "cdcf8dbf-421a-4655-a66a-c3e14a0ba242",
     "showTitle": false,
     "title": ""
    }
   },
   "outputs": [
    {
     "output_type": "stream",
     "name": "stdout",
     "output_type": "stream",
     "text": [
      "+--------------------------+---------------------------------------+---------------------------------------+\n|(salary + (salary * 0.05))|(year(current_timestamp()) - year(dob))|(year(current_timestamp()) - year(dob))|\n+--------------------------+---------------------------------------+---------------------------------------+\n|                   73500.0|                                     32|                                     32|\n|                   68250.0|                                     30|                                     30|\n|                   63000.0|                                     27|                                     27|\n|                   78750.0|                                     35|                                     35|\n|                   99750.0|                                     48|                                     48|\n|                   84000.0|                                   null|                                   null|\n|                   94500.0|                                     43|                                     43|\n|                   65100.0|                                     32|                                     32|\n|                   94500.0|                                     27|                                     27|\n|                   73500.0|                                     30|                                     30|\n|                   91350.0|                                     41|                                     41|\n|                   60900.0|                                     29|                                     29|\n+--------------------------+---------------------------------------+---------------------------------------+\n\n"
     ]
    }
   ],
   "source": [
    "df.select(\n",
    "    df.salary + .05 * df.salary,\n",
    "    F.year(F.current_timestamp()) - F.year(\"dob\"),\n",
    "    F.year(F.current_timestamp()) - F.year(F.col(\"dob\"))\n",
    ").show()"
   ]
  },
  {
   "cell_type": "code",
   "execution_count": 0,
   "metadata": {
    "application/vnd.databricks.v1+cell": {
     "cellMetadata": {
      "byteLimit": 2048000,
      "rowLimit": 10000
     },
     "inputWidgets": {},
     "nuid": "afcdfa7b-2760-4923-92dd-aafd982f08d3",
     "showTitle": false,
     "title": ""
    }
   },
   "outputs": [
    {
     "output_type": "stream",
     "name": "stdout",
     "output_type": "stream",
     "text": [
      "+----------------+----+\n|increased_salary| age|\n+----------------+----+\n|         73500.0|  32|\n|         68250.0|  30|\n|         63000.0|  27|\n|         78750.0|  35|\n|         99750.0|  48|\n|         84000.0|null|\n|         94500.0|  43|\n|         65100.0|  32|\n|         94500.0|  27|\n|         73500.0|  30|\n|         91350.0|  41|\n|         60900.0|  29|\n+----------------+----+\n\n"
     ]
    }
   ],
   "source": [
    "df.select(\n",
    "    (df.salary + .05 * df.salary).alias(\"increased_salary\"),\n",
    "    (F.year(F.current_timestamp()) - F.year(\"dob\")).alias('age')\n",
    ").show()"
   ]
  },
  {
   "cell_type": "code",
   "execution_count": 0,
   "metadata": {
    "application/vnd.databricks.v1+cell": {
     "cellMetadata": {
      "byteLimit": 2048000,
      "rowLimit": 10000
     },
     "inputWidgets": {},
     "nuid": "8ee88371-c020-439f-8819-6d7941046e5c",
     "showTitle": false,
     "title": ""
    }
   },
   "outputs": [],
   "source": [
    "df = df.withColumn(\n",
    "    \"salary_raise\",\n",
    "    F.col('salary') + F.col('salary') * 0.05\n",
    ")"
   ]
  },
  {
   "cell_type": "code",
   "execution_count": 0,
   "metadata": {
    "application/vnd.databricks.v1+cell": {
     "cellMetadata": {
      "byteLimit": 2048000,
      "rowLimit": 10000
     },
     "inputWidgets": {},
     "nuid": "041bf06e-5668-468f-8e3f-3e1c99524d84",
     "showTitle": false,
     "title": ""
    }
   },
   "outputs": [
    {
     "output_type": "stream",
     "name": "stdout",
     "output_type": "stream",
     "text": [
      "+---+------+----------+----+------+----------+------------+\n| id|  name|       dob| age|salary|department|salary_raise|\n+---+------+----------+----+------+----------+------------+\n|  1|  John|1992-05-12|  30| 70000|        IT|     73500.0|\n|  4| Emily|1994-11-22|  28| 65000|   Finance|     68250.0|\n|  2| Alice|1997-02-28|  25| 60000|        HR|     63000.0|\n|  6| Susan|1989-07-05|  33| 75000|   Finance|     78750.0|\n|  7|  Mike|1976-03-15|  46| 95000|        IT|     99750.0|\n|  3|   Bob|      null|null| 80000|        IT|     84000.0|\n|  5| David|1981-12-18|  41| 90000|        HR|     94500.0|\n| 10|Sophie|1992-06-30|  30| 62000|   Finance|     65100.0|\n|  2| Alice|1997-02-28|  25| 90000|   Finance|     94500.0|\n|  4| Emily|1994-11-22|  28| 70000|   Finance|     73500.0|\n|  9| James|1983-10-14|  39| 87000|        IT|     91350.0|\n|  8|  Lisa|1995-08-20|  27| 58000|        HR|     60900.0|\n+---+------+----------+----+------+----------+------------+\n\n"
     ]
    }
   ],
   "source": [
    "df.show()"
   ]
  },
  {
   "cell_type": "markdown",
   "metadata": {
    "application/vnd.databricks.v1+cell": {
     "cellMetadata": {
      "byteLimit": 2048000,
      "rowLimit": 10000
     },
     "inputWidgets": {},
     "nuid": "4aa47fc4-60ef-494c-b69f-2deca55f3c1b",
     "showTitle": false,
     "title": ""
    }
   },
   "source": [
    "We can chain to add multiple columns \n",
    "df = df.withColumn(\n",
    "    column name,\n",
    "    column value\n",
    ").withColumn(\n",
    "    column name,\n",
    "    column value\n",
    ")"
   ]
  },
  {
   "cell_type": "code",
   "execution_count": 0,
   "metadata": {
    "application/vnd.databricks.v1+cell": {
     "cellMetadata": {
      "byteLimit": 2048000,
      "rowLimit": 10000
     },
     "inputWidgets": {},
     "nuid": "03dd0186-e626-46b1-8931-b25ef8b204cf",
     "showTitle": false,
     "title": ""
    }
   },
   "outputs": [],
   "source": [
    "df = df.withColumns(\n",
    "    {\n",
    "        \"salary_raise\": F.col('salary') + F.col('salary') * 0.07,\n",
    "        \"age\": F.year(F.current_timestamp()) - F.year(\"dob\")\n",
    "    }\n",
    ")"
   ]
  },
  {
   "cell_type": "code",
   "execution_count": 0,
   "metadata": {
    "application/vnd.databricks.v1+cell": {
     "cellMetadata": {
      "byteLimit": 2048000,
      "rowLimit": 10000
     },
     "inputWidgets": {},
     "nuid": "fe65e63b-d0b1-4ecf-a07a-f19afbcb33cb",
     "showTitle": false,
     "title": ""
    }
   },
   "outputs": [
    {
     "output_type": "stream",
     "name": "stdout",
     "output_type": "stream",
     "text": [
      "+---+------+----------+----+------+----------+------------+\n| id|  name|       dob| age|salary|department|salary_raise|\n+---+------+----------+----+------+----------+------------+\n|  1|  John|1992-05-12|  32| 70000|        IT|     74900.0|\n|  4| Emily|1994-11-22|  30| 65000|   Finance|     69550.0|\n|  2| Alice|1997-02-28|  27| 60000|        HR|     64200.0|\n|  6| Susan|1989-07-05|  35| 75000|   Finance|     80250.0|\n|  7|  Mike|1976-03-15|  48| 95000|        IT|    101650.0|\n|  3|   Bob|      null|null| 80000|        IT|     85600.0|\n|  5| David|1981-12-18|  43| 90000|        HR|     96300.0|\n| 10|Sophie|1992-06-30|  32| 62000|   Finance|     66340.0|\n|  2| Alice|1997-02-28|  27| 90000|   Finance|     96300.0|\n|  4| Emily|1994-11-22|  30| 70000|   Finance|     74900.0|\n|  9| James|1983-10-14|  41| 87000|        IT|     93090.0|\n|  8|  Lisa|1995-08-20|  29| 58000|        HR|     62060.0|\n+---+------+----------+----+------+----------+------------+\n\n"
     ]
    }
   ],
   "source": [
    "df.show()"
   ]
  },
  {
   "cell_type": "code",
   "execution_count": 0,
   "metadata": {
    "application/vnd.databricks.v1+cell": {
     "cellMetadata": {
      "byteLimit": 2048000,
      "rowLimit": 10000
     },
     "inputWidgets": {},
     "nuid": "fd69b2d2-4024-44ad-bd3b-5bbc2023c563",
     "showTitle": false,
     "title": ""
    }
   },
   "outputs": [
    {
     "output_type": "stream",
     "name": "stdout",
     "output_type": "stream",
     "text": [
      "+---+-----+----------+----+------+----------+------------+\n| id| name|       dob| age|salary|department|salary_raise|\n+---+-----+----------+----+------+----------+------------+\n|  6|Susan|1989-07-05|  35| 75000|   Finance|     80250.0|\n|  7| Mike|1976-03-15|  48| 95000|        IT|    101650.0|\n|  3|  Bob|      null|null| 80000|        IT|     85600.0|\n|  5|David|1981-12-18|  43| 90000|        HR|     96300.0|\n|  2|Alice|1997-02-28|  27| 90000|   Finance|     96300.0|\n|  9|James|1983-10-14|  41| 87000|        IT|     93090.0|\n+---+-----+----------+----+------+----------+------------+\n\n"
     ]
    }
   ],
   "source": [
    "df.filter(\n",
    "    F.col(\"salary_raise\") >= 75000\n",
    ").show()"
   ]
  },
  {
   "cell_type": "code",
   "execution_count": 0,
   "metadata": {
    "application/vnd.databricks.v1+cell": {
     "cellMetadata": {
      "byteLimit": 2048000,
      "rowLimit": 10000
     },
     "inputWidgets": {},
     "nuid": "29ffaee3-6aad-4706-b566-53fab4df120e",
     "showTitle": false,
     "title": ""
    }
   },
   "outputs": [
    {
     "output_type": "stream",
     "name": "stdout",
     "output_type": "stream",
     "text": [
      "+---+-----+----------+----+------+----------+------------+\n| id| name|       dob| age|salary|department|salary_raise|\n+---+-----+----------+----+------+----------+------------+\n|  6|Susan|1989-07-05|  35| 75000|   Finance|     80250.0|\n|  7| Mike|1976-03-15|  48| 95000|        IT|    101650.0|\n|  3|  Bob|      null|null| 80000|        IT|     85600.0|\n|  5|David|1981-12-18|  43| 90000|        HR|     96300.0|\n|  2|Alice|1997-02-28|  27| 90000|   Finance|     96300.0|\n|  9|James|1983-10-14|  41| 87000|        IT|     93090.0|\n+---+-----+----------+----+------+----------+------------+\n\n"
     ]
    }
   ],
   "source": [
    "df.where(\n",
    "    F.col(\"salary_raise\") >= 75000\n",
    ").show()"
   ]
  },
  {
   "cell_type": "code",
   "execution_count": 0,
   "metadata": {
    "application/vnd.databricks.v1+cell": {
     "cellMetadata": {
      "byteLimit": 2048000,
      "rowLimit": 10000
     },
     "inputWidgets": {},
     "nuid": "898fa0a3-bef3-4f1c-b4ca-6ca7ccfbb302",
     "showTitle": false,
     "title": ""
    }
   },
   "outputs": [],
   "source": [
    "df = df.withColumn(\n",
    "    \"age_group\",\n",
    "    F.when(F.col(\"age\") <= 20, \"Upto 20\")\n",
    "    .when((F.col(\"age\") > 20) & (F.col(\"age\") <= 30), \"21 to 30\")\n",
    "    .when((F.col(\"age\") > 30) & (F.col(\"age\") <= 40), \"31 to 40\")\n",
    "    .otherwise(\"More than 40\")\n",
    "    )"
   ]
  },
  {
   "cell_type": "code",
   "execution_count": 0,
   "metadata": {
    "application/vnd.databricks.v1+cell": {
     "cellMetadata": {
      "byteLimit": 2048000,
      "rowLimit": 10000
     },
     "inputWidgets": {},
     "nuid": "36fa4479-9864-41a8-8542-dee09164c537",
     "showTitle": false,
     "title": ""
    }
   },
   "outputs": [
    {
     "output_type": "stream",
     "name": "stdout",
     "output_type": "stream",
     "text": [
      "+---+------+----------+----+------+----------+------------+------------+\n| id|  name|       dob| age|salary|department|salary_raise|   age_group|\n+---+------+----------+----+------+----------+------------+------------+\n|  1|  John|1992-05-12|  32| 70000|        IT|     74900.0|    31 to 40|\n|  4| Emily|1994-11-22|  30| 65000|   Finance|     69550.0|    21 to 30|\n|  2| Alice|1997-02-28|  27| 60000|        HR|     64200.0|    21 to 30|\n|  6| Susan|1989-07-05|  35| 75000|   Finance|     80250.0|    31 to 40|\n|  7|  Mike|1976-03-15|  48| 95000|        IT|    101650.0|More than 40|\n|  3|   Bob|      null|null| 80000|        IT|     85600.0|More than 40|\n|  5| David|1981-12-18|  43| 90000|        HR|     96300.0|More than 40|\n| 10|Sophie|1992-06-30|  32| 62000|   Finance|     66340.0|    31 to 40|\n|  2| Alice|1997-02-28|  27| 90000|   Finance|     96300.0|    21 to 30|\n|  4| Emily|1994-11-22|  30| 70000|   Finance|     74900.0|    21 to 30|\n|  9| James|1983-10-14|  41| 87000|        IT|     93090.0|More than 40|\n|  8|  Lisa|1995-08-20|  29| 58000|        HR|     62060.0|    21 to 30|\n+---+------+----------+----+------+----------+------------+------------+\n\n"
     ]
    }
   ],
   "source": [
    "df.show()"
   ]
  },
  {
   "cell_type": "code",
   "execution_count": 0,
   "metadata": {
    "application/vnd.databricks.v1+cell": {
     "cellMetadata": {
      "byteLimit": 2048000,
      "rowLimit": 10000
     },
     "inputWidgets": {},
     "nuid": "767f344f-ced2-478f-a810-1647f473fc52",
     "showTitle": false,
     "title": ""
    }
   },
   "outputs": [],
   "source": [
    "df = df.withColumn(\n",
    "    \"age_group\",\n",
    "    F.when(F.col(\"age\") <= 20, \"Upto 20\")\n",
    "    .when((F.col(\"age\") > 20) & (F.col(\"age\") <= 30), \"21 to 30\")\n",
    "    .when((F.col(\"age\") > 30) & (F.col(\"age\") <= 40), \"31 to 40\")\n",
    "    .otherwise(F.lit(\"More than 40\"))\n",
    "    )"
   ]
  },
  {
   "cell_type": "code",
   "execution_count": 0,
   "metadata": {
    "application/vnd.databricks.v1+cell": {
     "cellMetadata": {
      "byteLimit": 2048000,
      "rowLimit": 10000
     },
     "inputWidgets": {},
     "nuid": "d4080db8-98eb-405e-8056-d4d109bad40f",
     "showTitle": false,
     "title": ""
    }
   },
   "outputs": [
    {
     "output_type": "stream",
     "name": "stdout",
     "output_type": "stream",
     "text": [
      "+---+------+----------+----+------+----------+------------+------------+\n| id|  name|       dob| age|salary|department|salary_raise|   age_group|\n+---+------+----------+----+------+----------+------------+------------+\n|  1|  John|1992-05-12|  32| 70000|        IT|     74900.0|    31 to 40|\n|  4| Emily|1994-11-22|  30| 65000|   Finance|     69550.0|    21 to 30|\n|  2| Alice|1997-02-28|  27| 60000|        HR|     64200.0|    21 to 30|\n|  6| Susan|1989-07-05|  35| 75000|   Finance|     80250.0|    31 to 40|\n|  7|  Mike|1976-03-15|  48| 95000|        IT|    101650.0|More than 40|\n|  3|   Bob|      null|null| 80000|        IT|     85600.0|More than 40|\n|  5| David|1981-12-18|  43| 90000|        HR|     96300.0|More than 40|\n| 10|Sophie|1992-06-30|  32| 62000|   Finance|     66340.0|    31 to 40|\n|  2| Alice|1997-02-28|  27| 90000|   Finance|     96300.0|    21 to 30|\n|  4| Emily|1994-11-22|  30| 70000|   Finance|     74900.0|    21 to 30|\n|  9| James|1983-10-14|  41| 87000|        IT|     93090.0|More than 40|\n|  8|  Lisa|1995-08-20|  29| 58000|        HR|     62060.0|    21 to 30|\n+---+------+----------+----+------+----------+------------+------------+\n\n"
     ]
    }
   ],
   "source": [
    "df.show()"
   ]
  },
  {
   "cell_type": "code",
   "execution_count": 0,
   "metadata": {
    "application/vnd.databricks.v1+cell": {
     "cellMetadata": {
      "byteLimit": 2048000,
      "rowLimit": 10000
     },
     "inputWidgets": {},
     "nuid": "4249422d-42a7-40d1-9b19-e16f0aabba16",
     "showTitle": false,
     "title": ""
    }
   },
   "outputs": [],
   "source": [
    "df = df.withColumns(\n",
    "    {\n",
    "        \"age\": F.coalesce(\n",
    "            F.year(F.current_timestamp()) - F.year(F.col(\"dob\")),\n",
    "            F.lit(-1)\n",
    "        ),\n",
    "        \"has_dob_1\": ~(F.isnull(\"dob\")),\n",
    "        \"has_dob_2\": F.col(\"dob\").isNotNull()\n",
    "    }\n",
    ")"
   ]
  },
  {
   "cell_type": "code",
   "execution_count": 0,
   "metadata": {
    "application/vnd.databricks.v1+cell": {
     "cellMetadata": {
      "byteLimit": 2048000,
      "rowLimit": 10000
     },
     "inputWidgets": {},
     "nuid": "b5fe2b05-04bb-48af-ad55-838bc513230c",
     "showTitle": false,
     "title": ""
    }
   },
   "outputs": [
    {
     "output_type": "stream",
     "name": "stdout",
     "output_type": "stream",
     "text": [
      "+---+------+----------+---+------+----------+------------+------------+---------+---------+\n| id|  name|       dob|age|salary|department|salary_raise|   age_group|has_dob_1|has_dob_2|\n+---+------+----------+---+------+----------+------------+------------+---------+---------+\n|  1|  John|1992-05-12| 32| 70000|        IT|     74900.0|    31 to 40|     true|     true|\n|  4| Emily|1994-11-22| 30| 65000|   Finance|     69550.0|    21 to 30|     true|     true|\n|  2| Alice|1997-02-28| 27| 60000|        HR|     64200.0|    21 to 30|     true|     true|\n|  6| Susan|1989-07-05| 35| 75000|   Finance|     80250.0|    31 to 40|     true|     true|\n|  7|  Mike|1976-03-15| 48| 95000|        IT|    101650.0|More than 40|     true|     true|\n|  3|   Bob|      null| -1| 80000|        IT|     85600.0|More than 40|    false|    false|\n|  5| David|1981-12-18| 43| 90000|        HR|     96300.0|More than 40|     true|     true|\n| 10|Sophie|1992-06-30| 32| 62000|   Finance|     66340.0|    31 to 40|     true|     true|\n|  2| Alice|1997-02-28| 27| 90000|   Finance|     96300.0|    21 to 30|     true|     true|\n|  4| Emily|1994-11-22| 30| 70000|   Finance|     74900.0|    21 to 30|     true|     true|\n|  9| James|1983-10-14| 41| 87000|        IT|     93090.0|More than 40|     true|     true|\n|  8|  Lisa|1995-08-20| 29| 58000|        HR|     62060.0|    21 to 30|     true|     true|\n+---+------+----------+---+------+----------+------------+------------+---------+---------+\n\n"
     ]
    }
   ],
   "source": [
    "df.show()"
   ]
  },
  {
   "cell_type": "code",
   "execution_count": 0,
   "metadata": {
    "application/vnd.databricks.v1+cell": {
     "cellMetadata": {
      "byteLimit": 2048000,
      "rowLimit": 10000
     },
     "inputWidgets": {},
     "nuid": "a6428fa4-9385-4a63-80f5-7a3e15f649cb",
     "showTitle": false,
     "title": ""
    }
   },
   "outputs": [],
   "source": [
    "df = df.drop(\"has_dob_1\", \"has_dob_2\")"
   ]
  },
  {
   "cell_type": "code",
   "execution_count": 0,
   "metadata": {
    "application/vnd.databricks.v1+cell": {
     "cellMetadata": {
      "byteLimit": 2048000,
      "rowLimit": 10000
     },
     "inputWidgets": {},
     "nuid": "5a13e3c7-01e1-4058-863e-ced49c8e4416",
     "showTitle": false,
     "title": ""
    }
   },
   "outputs": [
    {
     "output_type": "stream",
     "name": "stdout",
     "output_type": "stream",
     "text": [
      "+---+------+----------+---+------+----------+------------+------------+\n| id|  name|       dob|age|salary|department|salary_raise|   age_group|\n+---+------+----------+---+------+----------+------------+------------+\n|  1|  John|1992-05-12| 32| 70000|        IT|     74900.0|    31 to 40|\n|  4| Emily|1994-11-22| 30| 65000|   Finance|     69550.0|    21 to 30|\n|  2| Alice|1997-02-28| 27| 60000|        HR|     64200.0|    21 to 30|\n|  6| Susan|1989-07-05| 35| 75000|   Finance|     80250.0|    31 to 40|\n|  7|  Mike|1976-03-15| 48| 95000|        IT|    101650.0|More than 40|\n|  3|   Bob|      null| -1| 80000|        IT|     85600.0|More than 40|\n|  5| David|1981-12-18| 43| 90000|        HR|     96300.0|More than 40|\n| 10|Sophie|1992-06-30| 32| 62000|   Finance|     66340.0|    31 to 40|\n|  2| Alice|1997-02-28| 27| 90000|   Finance|     96300.0|    21 to 30|\n|  4| Emily|1994-11-22| 30| 70000|   Finance|     74900.0|    21 to 30|\n|  9| James|1983-10-14| 41| 87000|        IT|     93090.0|More than 40|\n|  8|  Lisa|1995-08-20| 29| 58000|        HR|     62060.0|    21 to 30|\n+---+------+----------+---+------+----------+------------+------------+\n\n"
     ]
    }
   ],
   "source": [
    "df.show()"
   ]
  },
  {
   "cell_type": "code",
   "execution_count": 0,
   "metadata": {
    "application/vnd.databricks.v1+cell": {
     "cellMetadata": {
      "byteLimit": 2048000,
      "rowLimit": 10000
     },
     "inputWidgets": {},
     "nuid": "c84a5d48-9ec9-4ab5-bbc9-464f056921ca",
     "showTitle": false,
     "title": ""
    }
   },
   "outputs": [],
   "source": [
    "df = df.withColumnRenamed('name', 'first_name')"
   ]
  },
  {
   "cell_type": "code",
   "execution_count": 0,
   "metadata": {
    "application/vnd.databricks.v1+cell": {
     "cellMetadata": {
      "byteLimit": 2048000,
      "rowLimit": 10000
     },
     "inputWidgets": {},
     "nuid": "e8e41424-0d5e-4cf5-865d-665f91c8f0a0",
     "showTitle": false,
     "title": ""
    }
   },
   "outputs": [
    {
     "output_type": "stream",
     "name": "stdout",
     "output_type": "stream",
     "text": [
      "+---+----------+----------+---+------+----------+------------+------------+\n| id|first_name|       dob|age|salary|department|salary_raise|   age_group|\n+---+----------+----------+---+------+----------+------------+------------+\n|  1|      John|1992-05-12| 32| 70000|        IT|     74900.0|    31 to 40|\n|  4|     Emily|1994-11-22| 30| 65000|   Finance|     69550.0|    21 to 30|\n|  2|     Alice|1997-02-28| 27| 60000|        HR|     64200.0|    21 to 30|\n|  6|     Susan|1989-07-05| 35| 75000|   Finance|     80250.0|    31 to 40|\n|  7|      Mike|1976-03-15| 48| 95000|        IT|    101650.0|More than 40|\n|  3|       Bob|      null| -1| 80000|        IT|     85600.0|More than 40|\n|  5|     David|1981-12-18| 43| 90000|        HR|     96300.0|More than 40|\n| 10|    Sophie|1992-06-30| 32| 62000|   Finance|     66340.0|    31 to 40|\n|  2|     Alice|1997-02-28| 27| 90000|   Finance|     96300.0|    21 to 30|\n|  4|     Emily|1994-11-22| 30| 70000|   Finance|     74900.0|    21 to 30|\n|  9|     James|1983-10-14| 41| 87000|        IT|     93090.0|More than 40|\n|  8|      Lisa|1995-08-20| 29| 58000|        HR|     62060.0|    21 to 30|\n+---+----------+----------+---+------+----------+------------+------------+\n\n"
     ]
    }
   ],
   "source": [
    "df.show()"
   ]
  },
  {
   "cell_type": "code",
   "execution_count": 0,
   "metadata": {
    "application/vnd.databricks.v1+cell": {
     "cellMetadata": {
      "byteLimit": 2048000,
      "rowLimit": 10000
     },
     "inputWidgets": {},
     "nuid": "087ea66e-6829-46d5-92bc-d660482e8523",
     "showTitle": false,
     "title": ""
    }
   },
   "outputs": [
    {
     "output_type": "display_data",
     "data": {
      "text/html": [
       "<style scoped>\n",
       "  .table-result-container {\n",
       "    max-height: 300px;\n",
       "    overflow: auto;\n",
       "  }\n",
       "  table, th, td {\n",
       "    border: 1px solid black;\n",
       "    border-collapse: collapse;\n",
       "  }\n",
       "  th, td {\n",
       "    padding: 5px;\n",
       "  }\n",
       "  th {\n",
       "    text-align: left;\n",
       "  }\n",
       "</style><div class='table-result-container'><table class='table-result'><thead style='background-color: white'><tr><th>id</th><th>first_name</th><th>dob</th><th>age</th><th>salary</th><th>department</th><th>salary_raise</th><th>age_group</th></tr></thead><tbody><tr><td>1</td><td>John</td><td>1992-05-12</td><td>32</td><td>70000</td><td>IT</td><td>74900.0</td><td>31 to 40</td></tr><tr><td>4</td><td>Emily</td><td>1994-11-22</td><td>30</td><td>65000</td><td>Finance</td><td>69550.0</td><td>21 to 30</td></tr><tr><td>2</td><td>Alice</td><td>1997-02-28</td><td>27</td><td>60000</td><td>HR</td><td>64200.0</td><td>21 to 30</td></tr><tr><td>6</td><td>Susan</td><td>1989-07-05</td><td>35</td><td>75000</td><td>Finance</td><td>80250.0</td><td>31 to 40</td></tr><tr><td>7</td><td>Mike</td><td>1976-03-15</td><td>48</td><td>95000</td><td>IT</td><td>101650.0</td><td>More than 40</td></tr><tr><td>3</td><td>Bob</td><td>null</td><td>-1</td><td>80000</td><td>IT</td><td>85600.0</td><td>More than 40</td></tr><tr><td>5</td><td>David</td><td>1981-12-18</td><td>43</td><td>90000</td><td>HR</td><td>96300.0</td><td>More than 40</td></tr><tr><td>10</td><td>Sophie</td><td>1992-06-30</td><td>32</td><td>62000</td><td>Finance</td><td>66340.0</td><td>31 to 40</td></tr><tr><td>2</td><td>Alice</td><td>1997-02-28</td><td>27</td><td>90000</td><td>Finance</td><td>96300.0</td><td>21 to 30</td></tr><tr><td>4</td><td>Emily</td><td>1994-11-22</td><td>30</td><td>70000</td><td>Finance</td><td>74900.0</td><td>21 to 30</td></tr><tr><td>9</td><td>James</td><td>1983-10-14</td><td>41</td><td>87000</td><td>IT</td><td>93090.0</td><td>More than 40</td></tr><tr><td>8</td><td>Lisa</td><td>1995-08-20</td><td>29</td><td>58000</td><td>HR</td><td>62060.0</td><td>21 to 30</td></tr></tbody></table></div>"
      ]
     },
     "metadata": {
      "application/vnd.databricks.v1+output": {
       "addedWidgets": {},
       "aggData": [],
       "aggError": "",
       "aggOverflow": false,
       "aggSchema": [],
       "aggSeriesLimitReached": false,
       "aggType": "",
       "arguments": {},
       "columnCustomDisplayInfos": {},
       "data": [
        [
         1,
         "John",
         "1992-05-12",
         32,
         70000,
         "IT",
         74900.0,
         "31 to 40"
        ],
        [
         4,
         "Emily",
         "1994-11-22",
         30,
         65000,
         "Finance",
         69550.0,
         "21 to 30"
        ],
        [
         2,
         "Alice",
         "1997-02-28",
         27,
         60000,
         "HR",
         64200.0,
         "21 to 30"
        ],
        [
         6,
         "Susan",
         "1989-07-05",
         35,
         75000,
         "Finance",
         80250.0,
         "31 to 40"
        ],
        [
         7,
         "Mike",
         "1976-03-15",
         48,
         95000,
         "IT",
         101650.0,
         "More than 40"
        ],
        [
         3,
         "Bob",
         null,
         -1,
         80000,
         "IT",
         85600.0,
         "More than 40"
        ],
        [
         5,
         "David",
         "1981-12-18",
         43,
         90000,
         "HR",
         96300.0,
         "More than 40"
        ],
        [
         10,
         "Sophie",
         "1992-06-30",
         32,
         62000,
         "Finance",
         66340.0,
         "31 to 40"
        ],
        [
         2,
         "Alice",
         "1997-02-28",
         27,
         90000,
         "Finance",
         96300.0,
         "21 to 30"
        ],
        [
         4,
         "Emily",
         "1994-11-22",
         30,
         70000,
         "Finance",
         74900.0,
         "21 to 30"
        ],
        [
         9,
         "James",
         "1983-10-14",
         41,
         87000,
         "IT",
         93090.0,
         "More than 40"
        ],
        [
         8,
         "Lisa",
         "1995-08-20",
         29,
         58000,
         "HR",
         62060.0,
         "21 to 30"
        ]
       ],
       "datasetInfos": [],
       "dbfsResultPath": null,
       "isJsonSchema": true,
       "metadata": {},
       "overflow": false,
       "plotOptions": {
        "customPlotOptions": {},
        "displayType": "table",
        "pivotAggregation": null,
        "pivotColumns": null,
        "xColumns": null,
        "yColumns": null
       },
       "removedWidgets": [],
       "schema": [
        {
         "metadata": "{}",
         "name": "id",
         "type": "\"long\""
        },
        {
         "metadata": "{}",
         "name": "first_name",
         "type": "\"string\""
        },
        {
         "metadata": "{}",
         "name": "dob",
         "type": "\"string\""
        },
        {
         "metadata": "{}",
         "name": "age",
         "type": "\"integer\""
        },
        {
         "metadata": "{}",
         "name": "salary",
         "type": "\"long\""
        },
        {
         "metadata": "{}",
         "name": "department",
         "type": "\"string\""
        },
        {
         "metadata": "{}",
         "name": "salary_raise",
         "type": "\"double\""
        },
        {
         "metadata": "{}",
         "name": "age_group",
         "type": "\"string\""
        }
       ],
       "type": "table"
      }
     },
     "output_type": "display_data"
    }
   ],
   "source": [
    "display(df)"
   ]
  },
  {
   "cell_type": "code",
   "execution_count": 0,
   "metadata": {
    "application/vnd.databricks.v1+cell": {
     "cellMetadata": {
      "byteLimit": 2048000,
      "rowLimit": 10000
     },
     "inputWidgets": {},
     "nuid": "4ee25920-e3cd-4dcc-83dd-ec2f8de7f665",
     "showTitle": false,
     "title": ""
    }
   },
   "outputs": [],
   "source": [
    "from pyspark.sql import Window"
   ]
  },
  {
   "cell_type": "code",
   "execution_count": 0,
   "metadata": {
    "application/vnd.databricks.v1+cell": {
     "cellMetadata": {
      "byteLimit": 2048000,
      "rowLimit": 10000
     },
     "inputWidgets": {},
     "nuid": "7a903682-b961-4202-89f9-9397b3f89d34",
     "showTitle": false,
     "title": ""
    }
   },
   "outputs": [
    {
     "output_type": "stream",
     "name": "stdout",
     "output_type": "stream",
     "text": [
      "+---+----------+----------+---+------+----------+------------+------------+----------------+\n| id|first_name|       dob|age|salary|department|salary_raise|   age_group|min_age_in_group|\n+---+----------+----------+---+------+----------+------------+------------+----------------+\n|  4|     Emily|1994-11-22| 30| 65000|   Finance|     69550.0|    21 to 30|              27|\n|  2|     Alice|1997-02-28| 27| 60000|        HR|     64200.0|    21 to 30|              27|\n|  2|     Alice|1997-02-28| 27| 90000|   Finance|     96300.0|    21 to 30|              27|\n|  4|     Emily|1994-11-22| 30| 70000|   Finance|     74900.0|    21 to 30|              27|\n|  8|      Lisa|1995-08-20| 29| 58000|        HR|     62060.0|    21 to 30|              27|\n|  1|      John|1992-05-12| 32| 70000|        IT|     74900.0|    31 to 40|              32|\n|  6|     Susan|1989-07-05| 35| 75000|   Finance|     80250.0|    31 to 40|              32|\n| 10|    Sophie|1992-06-30| 32| 62000|   Finance|     66340.0|    31 to 40|              32|\n|  7|      Mike|1976-03-15| 48| 95000|        IT|    101650.0|More than 40|              -1|\n|  3|       Bob|      null| -1| 80000|        IT|     85600.0|More than 40|              -1|\n|  5|     David|1981-12-18| 43| 90000|        HR|     96300.0|More than 40|              -1|\n|  9|     James|1983-10-14| 41| 87000|        IT|     93090.0|More than 40|              -1|\n+---+----------+----------+---+------+----------+------------+------------+----------------+\n\n"
     ]
    }
   ],
   "source": [
    "window  = Window.partitionBy('age_group')\n",
    "\n",
    "df.withColumn(\n",
    "    \"min_age_in_group\",\n",
    "    F.min('age').over(window)\n",
    ").show()"
   ]
  },
  {
   "cell_type": "code",
   "execution_count": 0,
   "metadata": {
    "application/vnd.databricks.v1+cell": {
     "cellMetadata": {
      "byteLimit": 2048000,
      "rowLimit": 10000
     },
     "inputWidgets": {},
     "nuid": "39b91785-f104-4e84-bbcf-8f08ed3cdecb",
     "showTitle": false,
     "title": ""
    }
   },
   "outputs": [],
   "source": [
    "partition_dep = Window.partitionBy('department')\n",
    "\n",
    "df = df.withColumns(\n",
    "    {\n",
    "        'average_salary_by_department': F.avg('salary').over(partition_dep),\n",
    "        'is_above_avg_by_dep': F.col('salary') >= F.col('average_salary_by_department')\n",
    "    }\n",
    ")"
   ]
  },
  {
   "cell_type": "code",
   "execution_count": 0,
   "metadata": {
    "application/vnd.databricks.v1+cell": {
     "cellMetadata": {
      "byteLimit": 2048000,
      "rowLimit": 10000
     },
     "inputWidgets": {},
     "nuid": "30e9c165-5494-462f-9803-4c63905d34a1",
     "showTitle": false,
     "title": ""
    }
   },
   "outputs": [
    {
     "output_type": "stream",
     "name": "stdout",
     "output_type": "stream",
     "text": [
      "+---+----------+----------+---+------+----------+------------+------------+----------------------------+------------+-------------------+\n| id|first_name|       dob|age|salary|department|salary_raise|   age_group|average_salary_by_department|is_above_avg|is_above_avg_by_dep|\n+---+----------+----------+---+------+----------+------------+------------+----------------------------+------------+-------------------+\n|  4|     Emily|1994-11-22| 30| 65000|   Finance|     69550.0|    21 to 30|                     72400.0|       false|              false|\n|  6|     Susan|1989-07-05| 35| 75000|   Finance|     80250.0|    31 to 40|                     72400.0|        true|               true|\n| 10|    Sophie|1992-06-30| 32| 62000|   Finance|     66340.0|    31 to 40|                     72400.0|       false|              false|\n|  2|     Alice|1997-02-28| 27| 90000|   Finance|     96300.0|    21 to 30|                     72400.0|        true|               true|\n|  4|     Emily|1994-11-22| 30| 70000|   Finance|     74900.0|    21 to 30|                     72400.0|       false|              false|\n|  2|     Alice|1997-02-28| 27| 60000|        HR|     64200.0|    21 to 30|           69333.33333333333|       false|              false|\n|  5|     David|1981-12-18| 43| 90000|        HR|     96300.0|More than 40|           69333.33333333333|        true|               true|\n|  8|      Lisa|1995-08-20| 29| 58000|        HR|     62060.0|    21 to 30|           69333.33333333333|       false|              false|\n|  1|      John|1992-05-12| 32| 70000|        IT|     74900.0|    31 to 40|                     83000.0|       false|              false|\n|  7|      Mike|1976-03-15| 48| 95000|        IT|    101650.0|More than 40|                     83000.0|        true|               true|\n|  3|       Bob|      null| -1| 80000|        IT|     85600.0|More than 40|                     83000.0|       false|              false|\n|  9|     James|1983-10-14| 41| 87000|        IT|     93090.0|More than 40|                     83000.0|        true|               true|\n+---+----------+----------+---+------+----------+------------+------------+----------------------------+------------+-------------------+\n\n"
     ]
    }
   ],
   "source": [
    "df.show()"
   ]
  },
  {
   "cell_type": "code",
   "execution_count": 0,
   "metadata": {
    "application/vnd.databricks.v1+cell": {
     "cellMetadata": {
      "byteLimit": 2048000,
      "rowLimit": 10000
     },
     "inputWidgets": {},
     "nuid": "a5ccc2ad-fd31-493f-a2a2-5e1d7e90fa28",
     "showTitle": false,
     "title": ""
    }
   },
   "outputs": [
    {
     "output_type": "stream",
     "name": "stdout",
     "output_type": "stream",
     "text": [
      "+---+----------+----------+---+------+----------+------------+------------+----------------------------+------------+-------------------+-----------------+\n| id|first_name|       dob|age|salary|department|salary_raise|   age_group|average_salary_by_department|is_above_avg|is_above_avg_by_dep|       avg_salary|\n+---+----------+----------+---+------+----------+------------+------------+----------------------------+------------+-------------------+-----------------+\n|  4|     Emily|1994-11-22| 30| 65000|   Finance|     69550.0|    21 to 30|                     72400.0|       false|              false|75166.66666666667|\n|  6|     Susan|1989-07-05| 35| 75000|   Finance|     80250.0|    31 to 40|                     72400.0|       false|               true|75166.66666666667|\n| 10|    Sophie|1992-06-30| 32| 62000|   Finance|     66340.0|    31 to 40|                     72400.0|       false|              false|75166.66666666667|\n|  2|     Alice|1997-02-28| 27| 90000|   Finance|     96300.0|    21 to 30|                     72400.0|        true|               true|75166.66666666667|\n|  4|     Emily|1994-11-22| 30| 70000|   Finance|     74900.0|    21 to 30|                     72400.0|       false|              false|75166.66666666667|\n|  2|     Alice|1997-02-28| 27| 60000|        HR|     64200.0|    21 to 30|           69333.33333333333|       false|              false|75166.66666666667|\n|  5|     David|1981-12-18| 43| 90000|        HR|     96300.0|More than 40|           69333.33333333333|        true|               true|75166.66666666667|\n|  8|      Lisa|1995-08-20| 29| 58000|        HR|     62060.0|    21 to 30|           69333.33333333333|       false|              false|75166.66666666667|\n|  1|      John|1992-05-12| 32| 70000|        IT|     74900.0|    31 to 40|                     83000.0|       false|              false|75166.66666666667|\n|  7|      Mike|1976-03-15| 48| 95000|        IT|    101650.0|More than 40|                     83000.0|        true|               true|75166.66666666667|\n|  3|       Bob|      null| -1| 80000|        IT|     85600.0|More than 40|                     83000.0|        true|              false|75166.66666666667|\n|  9|     James|1983-10-14| 41| 87000|        IT|     93090.0|More than 40|                     83000.0|        true|               true|75166.66666666667|\n+---+----------+----------+---+------+----------+------------+------------+----------------------------+------------+-------------------+-----------------+\n\n"
     ]
    }
   ],
   "source": [
    "average_salary = (df.select(F.avg('salary')).first()[0])\n",
    "\n",
    "df.withColumns(\n",
    "    {\n",
    "    'avg_salary': F.lit(average_salary),\n",
    "    'is_above_avg': F.col('salary') >= average_salary}\n",
    ").show()"
   ]
  },
  {
   "cell_type": "code",
   "execution_count": 0,
   "metadata": {
    "application/vnd.databricks.v1+cell": {
     "cellMetadata": {
      "byteLimit": 2048000,
      "rowLimit": 10000
     },
     "inputWidgets": {},
     "nuid": "1a045216-6586-4a25-a797-ec8fd3d22961",
     "showTitle": false,
     "title": ""
    }
   },
   "outputs": [
    {
     "output_type": "stream",
     "name": "stdout",
     "output_type": "stream",
     "text": [
      "root\n |-- id: long (nullable = true)\n |-- first_name: string (nullable = true)\n |-- dob: string (nullable = true)\n |-- age: integer (nullable = false)\n |-- salary: long (nullable = true)\n |-- department: string (nullable = true)\n |-- salary_raise: double (nullable = true)\n |-- age_group: string (nullable = false)\n |-- average_salary_by_department: double (nullable = true)\n |-- is_above_avg: boolean (nullable = true)\n |-- is_above_avg_by_dep: boolean (nullable = true)\n\n"
     ]
    }
   ],
   "source": [
    "df.printSchema()"
   ]
  },
  {
   "cell_type": "code",
   "execution_count": 0,
   "metadata": {
    "application/vnd.databricks.v1+cell": {
     "cellMetadata": {
      "byteLimit": 2048000,
      "rowLimit": 10000
     },
     "inputWidgets": {},
     "nuid": "9ed7619a-cf92-416d-9828-9ea7e1ef5e01",
     "showTitle": false,
     "title": ""
    }
   },
   "outputs": [],
   "source": [
    "ref_df =   spark.read.format('parquet').load(\"dbfs:///FileStore/tables/parquet\")"
   ]
  },
  {
   "cell_type": "code",
   "execution_count": 0,
   "metadata": {
    "application/vnd.databricks.v1+cell": {
     "cellMetadata": {
      "byteLimit": 2048000,
      "rowLimit": 10000
     },
     "inputWidgets": {},
     "nuid": "5fbb07bf-c489-40dd-aed8-09e8c23fd7e1",
     "showTitle": false,
     "title": ""
    }
   },
   "outputs": [
    {
     "output_type": "stream",
     "name": "stdout",
     "output_type": "stream",
     "text": [
      "+----------+-------+--------+\n|department|manager|    lead|\n+----------+-------+--------+\n|   Finance|  Megan|   Molly|\n|        HR|   Brad|   Brian|\n|        IT|  Chris|Chandler|\n|  Delivery|   Leon|  Louise|\n+----------+-------+--------+\n\n"
     ]
    }
   ],
   "source": [
    "ref_df.show()"
   ]
  },
  {
   "cell_type": "code",
   "execution_count": 0,
   "metadata": {
    "application/vnd.databricks.v1+cell": {
     "cellMetadata": {
      "byteLimit": 2048000,
      "rowLimit": 10000
     },
     "inputWidgets": {},
     "nuid": "97d88188-c5bd-4071-88de-f891a5e545da",
     "showTitle": false,
     "title": ""
    }
   },
   "outputs": [
    {
     "output_type": "display_data",
     "data": {
      "text/html": [
       "<style scoped>\n",
       "  .table-result-container {\n",
       "    max-height: 300px;\n",
       "    overflow: auto;\n",
       "  }\n",
       "  table, th, td {\n",
       "    border: 1px solid black;\n",
       "    border-collapse: collapse;\n",
       "  }\n",
       "  th, td {\n",
       "    padding: 5px;\n",
       "  }\n",
       "  th {\n",
       "    text-align: left;\n",
       "  }\n",
       "</style><div class='table-result-container'><table class='table-result'><thead style='background-color: white'><tr><th>id</th><th>first_name</th><th>dob</th><th>age</th><th>salary</th><th>department</th><th>salary_raise</th><th>age_group</th><th>average_salary_by_department</th><th>is_above_avg</th><th>is_above_avg_by_dep</th><th>department</th><th>manager</th><th>lead</th></tr></thead><tbody><tr><td>4</td><td>Emily</td><td>1994-11-22</td><td>30</td><td>65000</td><td>Finance</td><td>69550.0</td><td>21 to 30</td><td>72400.0</td><td>false</td><td>false</td><td>Finance</td><td>Megan</td><td>Molly</td></tr><tr><td>6</td><td>Susan</td><td>1989-07-05</td><td>35</td><td>75000</td><td>Finance</td><td>80250.0</td><td>31 to 40</td><td>72400.0</td><td>true</td><td>true</td><td>Finance</td><td>Megan</td><td>Molly</td></tr><tr><td>10</td><td>Sophie</td><td>1992-06-30</td><td>32</td><td>62000</td><td>Finance</td><td>66340.0</td><td>31 to 40</td><td>72400.0</td><td>false</td><td>false</td><td>Finance</td><td>Megan</td><td>Molly</td></tr><tr><td>2</td><td>Alice</td><td>1997-02-28</td><td>27</td><td>90000</td><td>Finance</td><td>96300.0</td><td>21 to 30</td><td>72400.0</td><td>true</td><td>true</td><td>Finance</td><td>Megan</td><td>Molly</td></tr><tr><td>4</td><td>Emily</td><td>1994-11-22</td><td>30</td><td>70000</td><td>Finance</td><td>74900.0</td><td>21 to 30</td><td>72400.0</td><td>false</td><td>false</td><td>Finance</td><td>Megan</td><td>Molly</td></tr><tr><td>2</td><td>Alice</td><td>1997-02-28</td><td>27</td><td>60000</td><td>HR</td><td>64200.0</td><td>21 to 30</td><td>69333.33333333333</td><td>false</td><td>false</td><td>HR</td><td>Brad</td><td>Brian</td></tr><tr><td>5</td><td>David</td><td>1981-12-18</td><td>43</td><td>90000</td><td>HR</td><td>96300.0</td><td>More than 40</td><td>69333.33333333333</td><td>true</td><td>true</td><td>HR</td><td>Brad</td><td>Brian</td></tr><tr><td>8</td><td>Lisa</td><td>1995-08-20</td><td>29</td><td>58000</td><td>HR</td><td>62060.0</td><td>21 to 30</td><td>69333.33333333333</td><td>false</td><td>false</td><td>HR</td><td>Brad</td><td>Brian</td></tr><tr><td>1</td><td>John</td><td>1992-05-12</td><td>32</td><td>70000</td><td>IT</td><td>74900.0</td><td>31 to 40</td><td>83000.0</td><td>false</td><td>false</td><td>IT</td><td>Chris</td><td>Chandler</td></tr><tr><td>7</td><td>Mike</td><td>1976-03-15</td><td>48</td><td>95000</td><td>IT</td><td>101650.0</td><td>More than 40</td><td>83000.0</td><td>true</td><td>true</td><td>IT</td><td>Chris</td><td>Chandler</td></tr><tr><td>3</td><td>Bob</td><td>null</td><td>-1</td><td>80000</td><td>IT</td><td>85600.0</td><td>More than 40</td><td>83000.0</td><td>false</td><td>false</td><td>IT</td><td>Chris</td><td>Chandler</td></tr><tr><td>9</td><td>James</td><td>1983-10-14</td><td>41</td><td>87000</td><td>IT</td><td>93090.0</td><td>More than 40</td><td>83000.0</td><td>true</td><td>true</td><td>IT</td><td>Chris</td><td>Chandler</td></tr></tbody></table></div>"
      ]
     },
     "metadata": {
      "application/vnd.databricks.v1+output": {
       "addedWidgets": {},
       "aggData": [],
       "aggError": "",
       "aggOverflow": false,
       "aggSchema": [],
       "aggSeriesLimitReached": false,
       "aggType": "",
       "arguments": {},
       "columnCustomDisplayInfos": {},
       "data": [
        [
         4,
         "Emily",
         "1994-11-22",
         30,
         65000,
         "Finance",
         69550.0,
         "21 to 30",
         72400.0,
         false,
         false,
         "Finance",
         "Megan",
         "Molly"
        ],
        [
         6,
         "Susan",
         "1989-07-05",
         35,
         75000,
         "Finance",
         80250.0,
         "31 to 40",
         72400.0,
         true,
         true,
         "Finance",
         "Megan",
         "Molly"
        ],
        [
         10,
         "Sophie",
         "1992-06-30",
         32,
         62000,
         "Finance",
         66340.0,
         "31 to 40",
         72400.0,
         false,
         false,
         "Finance",
         "Megan",
         "Molly"
        ],
        [
         2,
         "Alice",
         "1997-02-28",
         27,
         90000,
         "Finance",
         96300.0,
         "21 to 30",
         72400.0,
         true,
         true,
         "Finance",
         "Megan",
         "Molly"
        ],
        [
         4,
         "Emily",
         "1994-11-22",
         30,
         70000,
         "Finance",
         74900.0,
         "21 to 30",
         72400.0,
         false,
         false,
         "Finance",
         "Megan",
         "Molly"
        ],
        [
         2,
         "Alice",
         "1997-02-28",
         27,
         60000,
         "HR",
         64200.0,
         "21 to 30",
         69333.33333333333,
         false,
         false,
         "HR",
         "Brad",
         "Brian"
        ],
        [
         5,
         "David",
         "1981-12-18",
         43,
         90000,
         "HR",
         96300.0,
         "More than 40",
         69333.33333333333,
         true,
         true,
         "HR",
         "Brad",
         "Brian"
        ],
        [
         8,
         "Lisa",
         "1995-08-20",
         29,
         58000,
         "HR",
         62060.0,
         "21 to 30",
         69333.33333333333,
         false,
         false,
         "HR",
         "Brad",
         "Brian"
        ],
        [
         1,
         "John",
         "1992-05-12",
         32,
         70000,
         "IT",
         74900.0,
         "31 to 40",
         83000.0,
         false,
         false,
         "IT",
         "Chris",
         "Chandler"
        ],
        [
         7,
         "Mike",
         "1976-03-15",
         48,
         95000,
         "IT",
         101650.0,
         "More than 40",
         83000.0,
         true,
         true,
         "IT",
         "Chris",
         "Chandler"
        ],
        [
         3,
         "Bob",
         null,
         -1,
         80000,
         "IT",
         85600.0,
         "More than 40",
         83000.0,
         false,
         false,
         "IT",
         "Chris",
         "Chandler"
        ],
        [
         9,
         "James",
         "1983-10-14",
         41,
         87000,
         "IT",
         93090.0,
         "More than 40",
         83000.0,
         true,
         true,
         "IT",
         "Chris",
         "Chandler"
        ]
       ],
       "datasetInfos": [],
       "dbfsResultPath": null,
       "isJsonSchema": true,
       "metadata": {},
       "overflow": false,
       "plotOptions": {
        "customPlotOptions": {},
        "displayType": "table",
        "pivotAggregation": null,
        "pivotColumns": null,
        "xColumns": null,
        "yColumns": null
       },
       "removedWidgets": [],
       "schema": [
        {
         "metadata": "{}",
         "name": "id",
         "type": "\"long\""
        },
        {
         "metadata": "{}",
         "name": "first_name",
         "type": "\"string\""
        },
        {
         "metadata": "{}",
         "name": "dob",
         "type": "\"string\""
        },
        {
         "metadata": "{}",
         "name": "age",
         "type": "\"integer\""
        },
        {
         "metadata": "{}",
         "name": "salary",
         "type": "\"long\""
        },
        {
         "metadata": "{}",
         "name": "department",
         "type": "\"string\""
        },
        {
         "metadata": "{}",
         "name": "salary_raise",
         "type": "\"double\""
        },
        {
         "metadata": "{}",
         "name": "age_group",
         "type": "\"string\""
        },
        {
         "metadata": "{}",
         "name": "average_salary_by_department",
         "type": "\"double\""
        },
        {
         "metadata": "{}",
         "name": "is_above_avg",
         "type": "\"boolean\""
        },
        {
         "metadata": "{}",
         "name": "is_above_avg_by_dep",
         "type": "\"boolean\""
        },
        {
         "metadata": "{}",
         "name": "department",
         "type": "\"string\""
        },
        {
         "metadata": "{}",
         "name": "manager",
         "type": "\"string\""
        },
        {
         "metadata": "{}",
         "name": "lead",
         "type": "\"string\""
        }
       ],
       "type": "table"
      }
     },
     "output_type": "display_data"
    }
   ],
   "source": [
    "df.join(\n",
    "    ref_df,\n",
    "    df.department == ref_df.department,\n",
    "    \"left\"\n",
    ").display()"
   ]
  },
  {
   "cell_type": "code",
   "execution_count": 0,
   "metadata": {
    "application/vnd.databricks.v1+cell": {
     "cellMetadata": {
      "byteLimit": 2048000,
      "rowLimit": 10000
     },
     "inputWidgets": {},
     "nuid": "deef9521-fea0-4dfe-b7dd-2218c3089f00",
     "showTitle": false,
     "title": ""
    }
   },
   "outputs": [
    {
     "output_type": "stream",
     "name": "stdout",
     "output_type": "stream",
     "text": [
      "+---+----------+----------+---+------+----------+------------+------------+----------------------------+------------+-------------------+----------+-------+--------+\n| id|first_name|       dob|age|salary|department|salary_raise|   age_group|average_salary_by_department|is_above_avg|is_above_avg_by_dep|department|manager|    lead|\n+---+----------+----------+---+------+----------+------------+------------+----------------------------+------------+-------------------+----------+-------+--------+\n|  4|     Emily|1994-11-22| 30| 65000|   Finance|     69550.0|    21 to 30|                     72400.0|       false|              false|   Finance|  Megan|   Molly|\n|  6|     Susan|1989-07-05| 35| 75000|   Finance|     80250.0|    31 to 40|                     72400.0|        true|               true|   Finance|  Megan|   Molly|\n| 10|    Sophie|1992-06-30| 32| 62000|   Finance|     66340.0|    31 to 40|                     72400.0|       false|              false|   Finance|  Megan|   Molly|\n|  2|     Alice|1997-02-28| 27| 90000|   Finance|     96300.0|    21 to 30|                     72400.0|        true|               true|   Finance|  Megan|   Molly|\n|  4|     Emily|1994-11-22| 30| 70000|   Finance|     74900.0|    21 to 30|                     72400.0|       false|              false|   Finance|  Megan|   Molly|\n|  2|     Alice|1997-02-28| 27| 60000|        HR|     64200.0|    21 to 30|           69333.33333333333|       false|              false|        HR|   Brad|   Brian|\n|  5|     David|1981-12-18| 43| 90000|        HR|     96300.0|More than 40|           69333.33333333333|        true|               true|        HR|   Brad|   Brian|\n|  8|      Lisa|1995-08-20| 29| 58000|        HR|     62060.0|    21 to 30|           69333.33333333333|       false|              false|        HR|   Brad|   Brian|\n|  1|      John|1992-05-12| 32| 70000|        IT|     74900.0|    31 to 40|                     83000.0|       false|              false|        IT|  Chris|Chandler|\n|  7|      Mike|1976-03-15| 48| 95000|        IT|    101650.0|More than 40|                     83000.0|        true|               true|        IT|  Chris|Chandler|\n|  3|       Bob|      null| -1| 80000|        IT|     85600.0|More than 40|                     83000.0|       false|              false|        IT|  Chris|Chandler|\n|  9|     James|1983-10-14| 41| 87000|        IT|     93090.0|More than 40|                     83000.0|        true|               true|        IT|  Chris|Chandler|\n+---+----------+----------+---+------+----------+------------+------------+----------------------------+------------+-------------------+----------+-------+--------+\n\n"
     ]
    }
   ],
   "source": [
    "df = df.alias('df')\n",
    "ref_df = ref_df.alias('ref')\n",
    "\n",
    "df.join(\n",
    "    ref_df,\n",
    "    F.col(\"df.department\") == F.col(\"ref.department\"),\n",
    "    \"left\"\n",
    ").show()"
   ]
  },
  {
   "cell_type": "code",
   "execution_count": 0,
   "metadata": {
    "application/vnd.databricks.v1+cell": {
     "cellMetadata": {
      "byteLimit": 2048000,
      "rowLimit": 10000
     },
     "inputWidgets": {},
     "nuid": "3c55c777-0183-4192-95bd-b44d3d6cc8d9",
     "showTitle": false,
     "title": ""
    }
   },
   "outputs": [],
   "source": [
    "df.write.mode('overwrite').format('csv').save('dbfs:/FileStore/tables/final')"
   ]
  },
  {
   "cell_type": "code",
   "execution_count": 0,
   "metadata": {
    "application/vnd.databricks.v1+cell": {
     "cellMetadata": {
      "byteLimit": 2048000,
      "rowLimit": 10000
     },
     "inputWidgets": {},
     "nuid": "0370fdce-9eb1-42ae-b490-ca864172942d",
     "showTitle": false,
     "title": ""
    }
   },
   "outputs": [
    {
     "output_type": "display_data",
     "data": {
      "text/html": [
       "<style scoped>\n",
       "  .table-result-container {\n",
       "    max-height: 300px;\n",
       "    overflow: auto;\n",
       "  }\n",
       "  table, th, td {\n",
       "    border: 1px solid black;\n",
       "    border-collapse: collapse;\n",
       "  }\n",
       "  th, td {\n",
       "    padding: 5px;\n",
       "  }\n",
       "  th {\n",
       "    text-align: left;\n",
       "  }\n",
       "</style><div class='table-result-container'><table class='table-result'><thead style='background-color: white'><tr><th>path</th><th>name</th><th>size</th><th>modificationTime</th></tr></thead><tbody><tr><td>dbfs:/FileStore/tables/final/_SUCCESS</td><td>_SUCCESS</td><td>0</td><td>1707806663000</td></tr><tr><td>dbfs:/FileStore/tables/final/_committed_1358792467138201331</td><td>_committed_1358792467138201331</td><td>113</td><td>1707804229000</td></tr><tr><td>dbfs:/FileStore/tables/final/_committed_317310594704327146</td><td>_committed_317310594704327146</td><td>211</td><td>1707806662000</td></tr><tr><td>dbfs:/FileStore/tables/final/_committed_vacuum7875302735787863697</td><td>_committed_vacuum7875302735787863697</td><td>96</td><td>1707806663000</td></tr><tr><td>dbfs:/FileStore/tables/final/_started_317310594704327146</td><td>_started_317310594704327146</td><td>0</td><td>1707806662000</td></tr><tr><td>dbfs:/FileStore/tables/final/part-00000-tid-317310594704327146-95280c5f-3806-478c-b7b4-098f0c9df0db-608-1-c000.csv</td><td>part-00000-tid-317310594704327146-95280c5f-3806-478c-b7b4-098f0c9df0db-608-1-c000.csv</td><td>865</td><td>1707806662000</td></tr></tbody></table></div>"
      ]
     },
     "metadata": {
      "application/vnd.databricks.v1+output": {
       "addedWidgets": {},
       "aggData": [],
       "aggError": "",
       "aggOverflow": false,
       "aggSchema": [],
       "aggSeriesLimitReached": false,
       "aggType": "",
       "arguments": {},
       "columnCustomDisplayInfos": {},
       "data": [
        [
         "dbfs:/FileStore/tables/final/_SUCCESS",
         "_SUCCESS",
         0,
         1707806663000
        ],
        [
         "dbfs:/FileStore/tables/final/_committed_1358792467138201331",
         "_committed_1358792467138201331",
         113,
         1707804229000
        ],
        [
         "dbfs:/FileStore/tables/final/_committed_317310594704327146",
         "_committed_317310594704327146",
         211,
         1707806662000
        ],
        [
         "dbfs:/FileStore/tables/final/_committed_vacuum7875302735787863697",
         "_committed_vacuum7875302735787863697",
         96,
         1707806663000
        ],
        [
         "dbfs:/FileStore/tables/final/_started_317310594704327146",
         "_started_317310594704327146",
         0,
         1707806662000
        ],
        [
         "dbfs:/FileStore/tables/final/part-00000-tid-317310594704327146-95280c5f-3806-478c-b7b4-098f0c9df0db-608-1-c000.csv",
         "part-00000-tid-317310594704327146-95280c5f-3806-478c-b7b4-098f0c9df0db-608-1-c000.csv",
         865,
         1707806662000
        ]
       ],
       "datasetInfos": [],
       "dbfsResultPath": null,
       "isJsonSchema": true,
       "metadata": {
        "isDbfsCommandResult": false
       },
       "overflow": false,
       "plotOptions": {
        "customPlotOptions": {},
        "displayType": "table",
        "pivotAggregation": null,
        "pivotColumns": null,
        "xColumns": null,
        "yColumns": null
       },
       "removedWidgets": [],
       "schema": [
        {
         "metadata": "{}",
         "name": "path",
         "type": "\"string\""
        },
        {
         "metadata": "{}",
         "name": "name",
         "type": "\"string\""
        },
        {
         "metadata": "{}",
         "name": "size",
         "type": "\"long\""
        },
        {
         "metadata": "{}",
         "name": "modificationTime",
         "type": "\"long\""
        }
       ],
       "type": "table"
      }
     },
     "output_type": "display_data"
    }
   ],
   "source": [
    "%fs ls dbfs:///FileStore/tables/final"
   ]
  },
  {
   "cell_type": "code",
   "execution_count": 0,
   "metadata": {
    "application/vnd.databricks.v1+cell": {
     "cellMetadata": {
      "byteLimit": 2048000,
      "rowLimit": 10000
     },
     "inputWidgets": {},
     "nuid": "952992c0-a59c-4000-9a17-1f03d01e1481",
     "showTitle": false,
     "title": ""
    }
   },
   "outputs": [
    {
     "output_type": "stream",
     "name": "stdout",
     "output_type": "stream",
     "text": [
      "+--------+---------+-----------+\n|database|tableName|isTemporary|\n+--------+---------+-----------+\n+--------+---------+-----------+\n\n"
     ]
    }
   ],
   "source": [
    "spark.sql(\"show tables\").show()"
   ]
  },
  {
   "cell_type": "code",
   "execution_count": 0,
   "metadata": {
    "application/vnd.databricks.v1+cell": {
     "cellMetadata": {
      "byteLimit": 2048000,
      "rowLimit": 10000
     },
     "inputWidgets": {},
     "nuid": "982507e8-4d51-49de-beaa-188de3a9b244",
     "showTitle": false,
     "title": ""
    }
   },
   "outputs": [],
   "source": [
    "df.write.mode('overwrite').format('delta').saveAsTable('final')"
   ]
  },
  {
   "cell_type": "code",
   "execution_count": 0,
   "metadata": {
    "application/vnd.databricks.v1+cell": {
     "cellMetadata": {
      "byteLimit": 2048000,
      "rowLimit": 10000
     },
     "inputWidgets": {},
     "nuid": "d96f9c2a-4c3e-493a-bb77-97f89e008b07",
     "showTitle": false,
     "title": ""
    }
   },
   "outputs": [
    {
     "output_type": "stream",
     "name": "stdout",
     "output_type": "stream",
     "text": [
      "+--------+---------+-----------+\n|database|tableName|isTemporary|\n+--------+---------+-----------+\n| default|    final|      false|\n+--------+---------+-----------+\n\n"
     ]
    }
   ],
   "source": [
    "spark.sql(\"show tables\").show()"
   ]
  },
  {
   "cell_type": "code",
   "execution_count": 0,
   "metadata": {
    "application/vnd.databricks.v1+cell": {
     "cellMetadata": {
      "byteLimit": 2048000,
      "implicitDf": true,
      "rowLimit": 10000
     },
     "inputWidgets": {},
     "nuid": "80bbef45-7ec1-4540-a32d-640af105b336",
     "showTitle": false,
     "title": ""
    }
   },
   "outputs": [
    {
     "output_type": "display_data",
     "data": {
      "text/html": [
       "<style scoped>\n",
       "  .table-result-container {\n",
       "    max-height: 300px;\n",
       "    overflow: auto;\n",
       "  }\n",
       "  table, th, td {\n",
       "    border: 1px solid black;\n",
       "    border-collapse: collapse;\n",
       "  }\n",
       "  th, td {\n",
       "    padding: 5px;\n",
       "  }\n",
       "  th {\n",
       "    text-align: left;\n",
       "  }\n",
       "</style><div class='table-result-container'><table class='table-result'><thead style='background-color: white'><tr><th>id</th><th>first_name</th><th>dob</th><th>age</th><th>salary</th><th>department</th><th>salary_raise</th><th>age_group</th><th>average_salary_by_department</th><th>is_above_avg</th><th>is_above_avg_by_dep</th></tr></thead><tbody><tr><td>4</td><td>Emily</td><td>1994-11-22</td><td>30</td><td>65000</td><td>Finance</td><td>69550.0</td><td>21 to 30</td><td>72400.0</td><td>false</td><td>false</td></tr><tr><td>6</td><td>Susan</td><td>1989-07-05</td><td>35</td><td>75000</td><td>Finance</td><td>80250.0</td><td>31 to 40</td><td>72400.0</td><td>true</td><td>true</td></tr><tr><td>10</td><td>Sophie</td><td>1992-06-30</td><td>32</td><td>62000</td><td>Finance</td><td>66340.0</td><td>31 to 40</td><td>72400.0</td><td>false</td><td>false</td></tr><tr><td>2</td><td>Alice</td><td>1997-02-28</td><td>27</td><td>90000</td><td>Finance</td><td>96300.0</td><td>21 to 30</td><td>72400.0</td><td>true</td><td>true</td></tr><tr><td>4</td><td>Emily</td><td>1994-11-22</td><td>30</td><td>70000</td><td>Finance</td><td>74900.0</td><td>21 to 30</td><td>72400.0</td><td>false</td><td>false</td></tr><tr><td>2</td><td>Alice</td><td>1997-02-28</td><td>27</td><td>60000</td><td>HR</td><td>64200.0</td><td>21 to 30</td><td>69333.33333333333</td><td>false</td><td>false</td></tr><tr><td>5</td><td>David</td><td>1981-12-18</td><td>43</td><td>90000</td><td>HR</td><td>96300.0</td><td>More than 40</td><td>69333.33333333333</td><td>true</td><td>true</td></tr><tr><td>8</td><td>Lisa</td><td>1995-08-20</td><td>29</td><td>58000</td><td>HR</td><td>62060.0</td><td>21 to 30</td><td>69333.33333333333</td><td>false</td><td>false</td></tr><tr><td>1</td><td>John</td><td>1992-05-12</td><td>32</td><td>70000</td><td>IT</td><td>74900.0</td><td>31 to 40</td><td>83000.0</td><td>false</td><td>false</td></tr><tr><td>7</td><td>Mike</td><td>1976-03-15</td><td>48</td><td>95000</td><td>IT</td><td>101650.0</td><td>More than 40</td><td>83000.0</td><td>true</td><td>true</td></tr><tr><td>3</td><td>Bob</td><td>null</td><td>-1</td><td>80000</td><td>IT</td><td>85600.0</td><td>More than 40</td><td>83000.0</td><td>false</td><td>false</td></tr><tr><td>9</td><td>James</td><td>1983-10-14</td><td>41</td><td>87000</td><td>IT</td><td>93090.0</td><td>More than 40</td><td>83000.0</td><td>true</td><td>true</td></tr></tbody></table></div>"
      ]
     },
     "metadata": {
      "application/vnd.databricks.v1+output": {
       "addedWidgets": {},
       "aggData": [],
       "aggError": "",
       "aggOverflow": false,
       "aggSchema": [],
       "aggSeriesLimitReached": false,
       "aggType": "",
       "arguments": {},
       "columnCustomDisplayInfos": {},
       "data": [
        [
         4,
         "Emily",
         "1994-11-22",
         30,
         65000,
         "Finance",
         69550.0,
         "21 to 30",
         72400.0,
         false,
         false
        ],
        [
         6,
         "Susan",
         "1989-07-05",
         35,
         75000,
         "Finance",
         80250.0,
         "31 to 40",
         72400.0,
         true,
         true
        ],
        [
         10,
         "Sophie",
         "1992-06-30",
         32,
         62000,
         "Finance",
         66340.0,
         "31 to 40",
         72400.0,
         false,
         false
        ],
        [
         2,
         "Alice",
         "1997-02-28",
         27,
         90000,
         "Finance",
         96300.0,
         "21 to 30",
         72400.0,
         true,
         true
        ],
        [
         4,
         "Emily",
         "1994-11-22",
         30,
         70000,
         "Finance",
         74900.0,
         "21 to 30",
         72400.0,
         false,
         false
        ],
        [
         2,
         "Alice",
         "1997-02-28",
         27,
         60000,
         "HR",
         64200.0,
         "21 to 30",
         69333.33333333333,
         false,
         false
        ],
        [
         5,
         "David",
         "1981-12-18",
         43,
         90000,
         "HR",
         96300.0,
         "More than 40",
         69333.33333333333,
         true,
         true
        ],
        [
         8,
         "Lisa",
         "1995-08-20",
         29,
         58000,
         "HR",
         62060.0,
         "21 to 30",
         69333.33333333333,
         false,
         false
        ],
        [
         1,
         "John",
         "1992-05-12",
         32,
         70000,
         "IT",
         74900.0,
         "31 to 40",
         83000.0,
         false,
         false
        ],
        [
         7,
         "Mike",
         "1976-03-15",
         48,
         95000,
         "IT",
         101650.0,
         "More than 40",
         83000.0,
         true,
         true
        ],
        [
         3,
         "Bob",
         null,
         -1,
         80000,
         "IT",
         85600.0,
         "More than 40",
         83000.0,
         false,
         false
        ],
        [
         9,
         "James",
         "1983-10-14",
         41,
         87000,
         "IT",
         93090.0,
         "More than 40",
         83000.0,
         true,
         true
        ]
       ],
       "datasetInfos": [],
       "dbfsResultPath": null,
       "isJsonSchema": true,
       "metadata": {},
       "overflow": false,
       "plotOptions": {
        "customPlotOptions": {},
        "displayType": "table",
        "pivotAggregation": null,
        "pivotColumns": null,
        "xColumns": null,
        "yColumns": null
       },
       "removedWidgets": [],
       "schema": [
        {
         "metadata": "{}",
         "name": "id",
         "type": "\"long\""
        },
        {
         "metadata": "{}",
         "name": "first_name",
         "type": "\"string\""
        },
        {
         "metadata": "{}",
         "name": "dob",
         "type": "\"string\""
        },
        {
         "metadata": "{}",
         "name": "age",
         "type": "\"integer\""
        },
        {
         "metadata": "{}",
         "name": "salary",
         "type": "\"long\""
        },
        {
         "metadata": "{}",
         "name": "department",
         "type": "\"string\""
        },
        {
         "metadata": "{}",
         "name": "salary_raise",
         "type": "\"double\""
        },
        {
         "metadata": "{}",
         "name": "age_group",
         "type": "\"string\""
        },
        {
         "metadata": "{}",
         "name": "average_salary_by_department",
         "type": "\"double\""
        },
        {
         "metadata": "{}",
         "name": "is_above_avg",
         "type": "\"boolean\""
        },
        {
         "metadata": "{}",
         "name": "is_above_avg_by_dep",
         "type": "\"boolean\""
        }
       ],
       "type": "table"
      }
     },
     "output_type": "display_data"
    }
   ],
   "source": [
    "%sql\n",
    "\n",
    "select * from final"
   ]
  }
 ],
 "metadata": {
  "application/vnd.databricks.v1+notebook": {
   "dashboards": [],
   "language": "python",
   "notebookMetadata": {
    "mostRecentlyExecutedCommandWithImplicitDF": {
     "commandId": 2137854299273624,
     "dataframes": [
      "_sqldf"
     ]
    },
    "pythonIndentUnit": 4
   },
   "notebookName": "pyspark_learning",
   "widgets": {}
  }
 },
 "nbformat": 4,
 "nbformat_minor": 0
}
