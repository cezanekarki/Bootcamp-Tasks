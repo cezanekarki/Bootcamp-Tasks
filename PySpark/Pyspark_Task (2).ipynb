{
 "cells": [
  {
   "cell_type": "markdown",
   "metadata": {
    "application/vnd.databricks.v1+cell": {
     "cellMetadata": {
      "byteLimit": 2048000,
      "rowLimit": 10000
     },
     "inputWidgets": {},
     "nuid": "49995291-9ebf-4b8a-9635-3cf5ae041bcb",
     "showTitle": false,
     "title": ""
    }
   },
   "source": [
    "load both csv and json.\n",
    "instead of dropping duplicates, create a boolean column is_duplicate and set False to only one row and true to rest of them."
   ]
  },
  {
   "cell_type": "code",
   "execution_count": 0,
   "metadata": {
    "application/vnd.databricks.v1+cell": {
     "cellMetadata": {
      "byteLimit": 2048000,
      "rowLimit": 10000
     },
     "inputWidgets": {},
     "nuid": "aa57ab11-f483-4ad6-856a-d1b5390049b3",
     "showTitle": false,
     "title": ""
    }
   },
   "outputs": [
    {
     "output_type": "display_data",
     "data": {
      "text/html": [
       "\n",
       "            <div>\n",
       "                <p><b>SparkSession - hive</b></p>\n",
       "                \n",
       "        <div>\n",
       "            <p><b>SparkContext</b></p>\n",
       "\n",
       "            <p><a href=\"/?o=7629872911516354#setting/sparkui/0213-050948-2zvtom8o/driver-5229682893064936829\">Spark UI</a></p>\n",
       "\n",
       "            <dl>\n",
       "              <dt>Version</dt>\n",
       "                <dd><code>v3.3.2</code></dd>\n",
       "              <dt>Master</dt>\n",
       "                <dd><code>local[8]</code></dd>\n",
       "              <dt>AppName</dt>\n",
       "                <dd><code>Databricks Shell</code></dd>\n",
       "            </dl>\n",
       "        </div>\n",
       "        \n",
       "            </div>\n",
       "        "
      ]
     },
     "metadata": {
      "application/vnd.databricks.v1+output": {
       "addedWidgets": {},
       "arguments": {},
       "data": "\n            <div>\n                <p><b>SparkSession - hive</b></p>\n                \n        <div>\n            <p><b>SparkContext</b></p>\n\n            <p><a href=\"/?o=7629872911516354#setting/sparkui/0213-050948-2zvtom8o/driver-5229682893064936829\">Spark UI</a></p>\n\n            <dl>\n              <dt>Version</dt>\n                <dd><code>v3.3.2</code></dd>\n              <dt>Master</dt>\n                <dd><code>local[8]</code></dd>\n              <dt>AppName</dt>\n                <dd><code>Databricks Shell</code></dd>\n            </dl>\n        </div>\n        \n            </div>\n        ",
       "datasetInfos": [],
       "metadata": {},
       "removedWidgets": [],
       "textData": null,
       "type": "htmlSandbox"
      }
     },
     "output_type": "display_data"
    }
   ],
   "source": [
    "from pyspark.sql import SparkSession\n",
    "from pyspark.sql.types import *\n",
    "spark = SparkSession.builder.getOrCreate()\n",
    "spark\n"
   ]
  },
  {
   "cell_type": "code",
   "execution_count": 0,
   "metadata": {
    "application/vnd.databricks.v1+cell": {
     "cellMetadata": {
      "byteLimit": 2048000,
      "rowLimit": 10000
     },
     "inputWidgets": {},
     "nuid": "4aac42e9-bfc7-4094-a3ff-063402b21cd2",
     "showTitle": false,
     "title": ""
    }
   },
   "outputs": [],
   "source": [
    "# df_csv = spark.read.format(\"csv\").option(\"header\",True).option(\"inferSchema\",True).load(\"dbfs:/FileStore/tables/csv/batch.csv\")"
   ]
  },
  {
   "cell_type": "code",
   "execution_count": 0,
   "metadata": {
    "application/vnd.databricks.v1+cell": {
     "cellMetadata": {
      "byteLimit": 2048000,
      "rowLimit": 10000
     },
     "inputWidgets": {},
     "nuid": "c661c821-7aad-4916-a822-dd8ec8288e0f",
     "showTitle": false,
     "title": ""
    }
   },
   "outputs": [],
   "source": [
    "from pyspark.sql.types import StructType, StructField, IntegerType, StringType, DateType"
   ]
  },
  {
   "cell_type": "code",
   "execution_count": 0,
   "metadata": {
    "application/vnd.databricks.v1+cell": {
     "cellMetadata": {
      "byteLimit": 2048000,
      "rowLimit": 10000
     },
     "inputWidgets": {},
     "nuid": "b36f87d9-3edd-4900-94f9-25ac8dad4705",
     "showTitle": false,
     "title": ""
    }
   },
   "outputs": [],
   "source": [
    "schema = StructType([\n",
    "    StructField(\"id\",IntegerType()),\n",
    "    StructField(\"name\",StringType()),\n",
    "    StructField(\"dob\",DateType()),\n",
    "    StructField(\"age\",IntegerType()),\n",
    "    StructField(\"salary\",IntegerType()),\n",
    "    StructField(\"department\",StringType())\n",
    "])"
   ]
  },
  {
   "cell_type": "code",
   "execution_count": 0,
   "metadata": {
    "application/vnd.databricks.v1+cell": {
     "cellMetadata": {
      "byteLimit": 2048000,
      "rowLimit": 10000
     },
     "inputWidgets": {},
     "nuid": "2e159fdc-9a6c-4743-8da0-3556e12718f1",
     "showTitle": false,
     "title": ""
    }
   },
   "outputs": [],
   "source": [
    "df_csv = spark.read.format(\"csv\").schema(schema).option(\"header\",True).load(\"dbfs:/FileStore/tables/csv/batch.csv\")"
   ]
  },
  {
   "cell_type": "code",
   "execution_count": 0,
   "metadata": {
    "application/vnd.databricks.v1+cell": {
     "cellMetadata": {
      "byteLimit": 2048000,
      "rowLimit": 10000
     },
     "inputWidgets": {},
     "nuid": "86d1550c-daf3-47f8-a882-20d344276d7b",
     "showTitle": false,
     "title": ""
    }
   },
   "outputs": [],
   "source": [
    "df_json = spark.read.format(\"json\").schema(schema).load(\"dbfs:/FileStore/tables/json/\")"
   ]
  },
  {
   "cell_type": "code",
   "execution_count": 0,
   "metadata": {
    "application/vnd.databricks.v1+cell": {
     "cellMetadata": {
      "byteLimit": 2048000,
      "rowLimit": 10000
     },
     "inputWidgets": {},
     "nuid": "78012534-4994-4169-af77-94ae18c8a7e9",
     "showTitle": false,
     "title": ""
    }
   },
   "outputs": [],
   "source": [
    "df_json = df_json.select(df_csv.columns)"
   ]
  },
  {
   "cell_type": "code",
   "execution_count": 0,
   "metadata": {
    "application/vnd.databricks.v1+cell": {
     "cellMetadata": {
      "byteLimit": 2048000,
      "rowLimit": 10000
     },
     "inputWidgets": {},
     "nuid": "d5d17c79-ddb5-4520-b5b9-3cb8f303463e",
     "showTitle": false,
     "title": ""
    }
   },
   "outputs": [],
   "source": [
    "df_union = df_csv.union(df_json)"
   ]
  },
  {
   "cell_type": "code",
   "execution_count": 0,
   "metadata": {
    "application/vnd.databricks.v1+cell": {
     "cellMetadata": {
      "byteLimit": 2048000,
      "rowLimit": 10000
     },
     "inputWidgets": {},
     "nuid": "86f9024e-b0fb-4d6b-a11c-fb522efcec0b",
     "showTitle": false,
     "title": ""
    }
   },
   "outputs": [],
   "source": [
    "df_union = df_union.orderBy(\"id\")"
   ]
  },
  {
   "cell_type": "code",
   "execution_count": 0,
   "metadata": {
    "application/vnd.databricks.v1+cell": {
     "cellMetadata": {
      "byteLimit": 2048000,
      "rowLimit": 10000
     },
     "inputWidgets": {},
     "nuid": "ce84ed53-2a35-48db-9cab-a21bcff8f4d1",
     "showTitle": false,
     "title": ""
    }
   },
   "outputs": [
    {
     "output_type": "stream",
     "name": "stdout",
     "output_type": "stream",
     "text": [
      "+---+------+----------+----+------+----------+\n| id|  name|       dob| age|salary|department|\n+---+------+----------+----+------+----------+\n|  1|  John|1992-05-12|  30| 70000|        IT|\n|  1|  John|1992-05-12|  30| 70000|        IT|\n|  1|  John|1992-05-12|  30| 70000|        IT|\n|  2| Alice|1997-02-28|  25| 60000|        HR|\n|  2| Alice|1997-02-28|  25| 90000|   Finance|\n|  2| Alice|1997-02-28|  25| 60000|        HR|\n|  3|   Bob|      null|null| 80000|        IT|\n|  3|   Bob|      null|null| 80000|        IT|\n|  4| Emily|1994-11-22|  28| 65000|   Finance|\n|  4| Emily|1994-11-22|  28| 70000|   Finance|\n|  4| Emily|1994-11-22|  28| 65000|   Finance|\n|  5| David|1981-12-18|  41| 90000|        HR|\n|  6| Susan|1989-07-05|  33| 75000|   Finance|\n|  7|  Mike|1976-03-15|  46| 95000|        IT|\n|  8|  Lisa|1995-08-20|  27| 58000|        HR|\n|  9| James|1983-10-14|  39| 87000|        IT|\n| 10|Sophie|1992-06-30|  30| 62000|   Finance|\n+---+------+----------+----+------+----------+\n\n"
     ]
    }
   ],
   "source": [
    "df_union.show()"
   ]
  },
  {
   "cell_type": "code",
   "execution_count": 0,
   "metadata": {
    "application/vnd.databricks.v1+cell": {
     "cellMetadata": {
      "byteLimit": 2048000,
      "rowLimit": 10000
     },
     "inputWidgets": {},
     "nuid": "3265aa25-f5df-4f03-b6f0-d39d881e83b8",
     "showTitle": false,
     "title": ""
    }
   },
   "outputs": [],
   "source": [
    "df_union.createOrReplaceTempView(\"table1\")"
   ]
  },
  {
   "cell_type": "code",
   "execution_count": 0,
   "metadata": {
    "application/vnd.databricks.v1+cell": {
     "cellMetadata": {
      "byteLimit": 2048000,
      "rowLimit": 10000
     },
     "inputWidgets": {},
     "nuid": "b1585f46-fa52-4370-a4de-62b4219b458d",
     "showTitle": false,
     "title": ""
    }
   },
   "outputs": [
    {
     "output_type": "stream",
     "name": "stdout",
     "output_type": "stream",
     "text": [
      "+---+------+----------+----+------+----------+---+\n| id|  name|       dob| age|salary|department|rnk|\n+---+------+----------+----+------+----------+---+\n|  1|  John|1992-05-12|  30| 70000|        IT|  1|\n|  1|  John|1992-05-12|  30| 70000|        IT|  2|\n|  1|  John|1992-05-12|  30| 70000|        IT|  3|\n|  2| Alice|1997-02-28|  25| 60000|        HR|  1|\n|  2| Alice|1997-02-28|  25| 60000|        HR|  2|\n|  2| Alice|1997-02-28|  25| 90000|   Finance|  1|\n|  3|   Bob|      null|null| 80000|        IT|  1|\n|  3|   Bob|      null|null| 80000|        IT|  2|\n|  4| Emily|1994-11-22|  28| 65000|   Finance|  1|\n|  4| Emily|1994-11-22|  28| 65000|   Finance|  2|\n|  4| Emily|1994-11-22|  28| 70000|   Finance|  1|\n|  5| David|1981-12-18|  41| 90000|        HR|  1|\n|  6| Susan|1989-07-05|  33| 75000|   Finance|  1|\n|  7|  Mike|1976-03-15|  46| 95000|        IT|  1|\n|  8|  Lisa|1995-08-20|  27| 58000|        HR|  1|\n|  9| James|1983-10-14|  39| 87000|        IT|  1|\n| 10|Sophie|1992-06-30|  30| 62000|   Finance|  1|\n+---+------+----------+----+------+----------+---+\n\n"
     ]
    }
   ],
   "source": [
    "#using spark sql\n",
    "df_result_duplicate = spark.sql(\"select *,row_number() over (partition by id,name,dob,age,salary,department order by id) AS rnk from table1\")\n",
    "df_result_duplicate.show()"
   ]
  },
  {
   "cell_type": "code",
   "execution_count": 0,
   "metadata": {
    "application/vnd.databricks.v1+cell": {
     "cellMetadata": {
      "byteLimit": 2048000,
      "rowLimit": 10000
     },
     "inputWidgets": {},
     "nuid": "a551d2a7-c524-4761-8105-aa52789ce481",
     "showTitle": false,
     "title": ""
    }
   },
   "outputs": [],
   "source": [
    "from pyspark.sql import functions as F"
   ]
  },
  {
   "cell_type": "code",
   "execution_count": 0,
   "metadata": {
    "application/vnd.databricks.v1+cell": {
     "cellMetadata": {
      "byteLimit": 2048000,
      "rowLimit": 10000
     },
     "inputWidgets": {},
     "nuid": "43f967d9-a9c3-4d36-9565-e039a4eccc7a",
     "showTitle": false,
     "title": ""
    }
   },
   "outputs": [
    {
     "output_type": "stream",
     "name": "stdout",
     "output_type": "stream",
     "text": [
      "+---+------+----------+----+------+----------+---+------------+\n| id|  name|       dob| age|salary|department|rnk|is_duplicate|\n+---+------+----------+----+------+----------+---+------------+\n|  1|  John|1992-05-12|  30| 70000|        IT|  1|       false|\n|  1|  John|1992-05-12|  30| 70000|        IT|  2|        true|\n|  1|  John|1992-05-12|  30| 70000|        IT|  3|        true|\n|  2| Alice|1997-02-28|  25| 60000|        HR|  1|       false|\n|  2| Alice|1997-02-28|  25| 60000|        HR|  2|        true|\n|  2| Alice|1997-02-28|  25| 90000|   Finance|  1|       false|\n|  3|   Bob|      null|null| 80000|        IT|  1|       false|\n|  3|   Bob|      null|null| 80000|        IT|  2|        true|\n|  4| Emily|1994-11-22|  28| 65000|   Finance|  1|       false|\n|  4| Emily|1994-11-22|  28| 65000|   Finance|  2|        true|\n|  4| Emily|1994-11-22|  28| 70000|   Finance|  1|       false|\n|  5| David|1981-12-18|  41| 90000|        HR|  1|       false|\n|  6| Susan|1989-07-05|  33| 75000|   Finance|  1|       false|\n|  7|  Mike|1976-03-15|  46| 95000|        IT|  1|       false|\n|  8|  Lisa|1995-08-20|  27| 58000|        HR|  1|       false|\n|  9| James|1983-10-14|  39| 87000|        IT|  1|       false|\n| 10|Sophie|1992-06-30|  30| 62000|   Finance|  1|       false|\n+---+------+----------+----+------+----------+---+------------+\n\n"
     ]
    }
   ],
   "source": [
    "df_result_duplicate = df_result_duplicate.withColumn(\n",
    "    \"is_duplicate\",\n",
    "    F.col(\"rnk\") != 1\n",
    ")\n",
    "df_result_duplicate.show()"
   ]
  },
  {
   "cell_type": "code",
   "execution_count": 0,
   "metadata": {
    "application/vnd.databricks.v1+cell": {
     "cellMetadata": {
      "byteLimit": 2048000,
      "rowLimit": 10000
     },
     "inputWidgets": {},
     "nuid": "8ae09240-36c1-4106-b1fb-4202c6faa52c",
     "showTitle": false,
     "title": ""
    }
   },
   "outputs": [],
   "source": [
    "from pyspark.sql import Window"
   ]
  },
  {
   "cell_type": "code",
   "execution_count": 0,
   "metadata": {
    "application/vnd.databricks.v1+cell": {
     "cellMetadata": {
      "byteLimit": 2048000,
      "rowLimit": 10000
     },
     "inputWidgets": {},
     "nuid": "70c3eff1-7427-46fc-b720-5ddd5f72af21",
     "showTitle": false,
     "title": ""
    }
   },
   "outputs": [],
   "source": [
    "window = Window.partitionBy(df_union.columns).orderBy(\"id\")"
   ]
  },
  {
   "cell_type": "code",
   "execution_count": 0,
   "metadata": {
    "application/vnd.databricks.v1+cell": {
     "cellMetadata": {
      "byteLimit": 2048000,
      "rowLimit": 10000
     },
     "inputWidgets": {},
     "nuid": "a2c23739-6403-4aa6-b5bf-2ab167a4cda5",
     "showTitle": false,
     "title": ""
    }
   },
   "outputs": [
    {
     "output_type": "stream",
     "name": "stdout",
     "output_type": "stream",
     "text": [
      "+---+------+----------+----+------+----------+------------+\n| id|  name|       dob| age|salary|department|is_duplicate|\n+---+------+----------+----+------+----------+------------+\n|  1|  John|1992-05-12|  30| 70000|        IT|       false|\n|  1|  John|1992-05-12|  30| 70000|        IT|        true|\n|  1|  John|1992-05-12|  30| 70000|        IT|        true|\n|  2| Alice|1997-02-28|  25| 60000|        HR|       false|\n|  2| Alice|1997-02-28|  25| 60000|        HR|        true|\n|  2| Alice|1997-02-28|  25| 90000|   Finance|       false|\n|  3|   Bob|      null|null| 80000|        IT|       false|\n|  3|   Bob|      null|null| 80000|        IT|        true|\n|  4| Emily|1994-11-22|  28| 65000|   Finance|       false|\n|  4| Emily|1994-11-22|  28| 65000|   Finance|        true|\n|  4| Emily|1994-11-22|  28| 70000|   Finance|       false|\n|  5| David|1981-12-18|  41| 90000|        HR|       false|\n|  6| Susan|1989-07-05|  33| 75000|   Finance|       false|\n|  7|  Mike|1976-03-15|  46| 95000|        IT|       false|\n|  8|  Lisa|1995-08-20|  27| 58000|        HR|       false|\n|  9| James|1983-10-14|  39| 87000|        IT|       false|\n| 10|Sophie|1992-06-30|  30| 62000|   Finance|       false|\n+---+------+----------+----+------+----------+------------+\n\n"
     ]
    }
   ],
   "source": [
    "df_duplicate_bool = df_union.withColumn(\n",
    "    \"is_duplicate\",\n",
    "    F.row_number().over(window) != 1   \n",
    ")\n",
    "df_duplicate_bool.show()"
   ]
  },
  {
   "cell_type": "markdown",
   "metadata": {
    "application/vnd.databricks.v1+cell": {
     "cellMetadata": {
      "byteLimit": 2048000,
      "rowLimit": 10000
     },
     "inputWidgets": {},
     "nuid": "1c103ad9-8d59-4b37-899e-440147cf2ab9",
     "showTitle": false,
     "title": ""
    }
   },
   "source": [
    "Calculate mean salary and check if it is greater or equal to the salary of employees in each department.\n",
    " \n",
    "Calculate mean salary and check if it is greater or equal to the salary of all employees."
   ]
  },
  {
   "cell_type": "code",
   "execution_count": 0,
   "metadata": {
    "application/vnd.databricks.v1+cell": {
     "cellMetadata": {
      "byteLimit": 2048000,
      "rowLimit": 10000
     },
     "inputWidgets": {},
     "nuid": "57b0e30f-8d30-41c5-96ce-6ed26daba260",
     "showTitle": false,
     "title": ""
    }
   },
   "outputs": [
    {
     "output_type": "stream",
     "name": "stdout",
     "output_type": "stream",
     "text": [
      "+---+------+----------+----+------+----------+----------+\n| id|  name|       dob| age|salary|department|avg_salary|\n+---+------+----------+----+------+----------+----------+\n|  2| Alice|1997-02-28|  25| 90000|   Finance|  71166.67|\n|  4| Emily|1994-11-22|  28| 65000|   Finance|  71166.67|\n|  4| Emily|1994-11-22|  28| 65000|   Finance|  71166.67|\n|  4| Emily|1994-11-22|  28| 70000|   Finance|  71166.67|\n|  6| Susan|1989-07-05|  33| 75000|   Finance|  71166.67|\n| 10|Sophie|1992-06-30|  30| 62000|   Finance|  71166.67|\n|  2| Alice|1997-02-28|  25| 60000|        HR|   67000.0|\n|  2| Alice|1997-02-28|  25| 60000|        HR|   67000.0|\n|  5| David|1981-12-18|  41| 90000|        HR|   67000.0|\n|  8|  Lisa|1995-08-20|  27| 58000|        HR|   67000.0|\n|  1|  John|1992-05-12|  30| 70000|        IT|  78857.14|\n|  1|  John|1992-05-12|  30| 70000|        IT|  78857.14|\n|  1|  John|1992-05-12|  30| 70000|        IT|  78857.14|\n|  3|   Bob|      null|null| 80000|        IT|  78857.14|\n|  3|   Bob|      null|null| 80000|        IT|  78857.14|\n|  7|  Mike|1976-03-15|  46| 95000|        IT|  78857.14|\n|  9| James|1983-10-14|  39| 87000|        IT|  78857.14|\n+---+------+----------+----+------+----------+----------+\n\n"
     ]
    }
   ],
   "source": [
    "#using spark sql\n",
    "df_result_sal_greater_avgsal_eachdept = spark.sql(\"SELECT *,ROUND(AVG(salary) OVER (PARTITION BY department),2) AS avg_salary FROM table1\")\n",
    "df_result_sal_greater_avgsal_eachdept.show()"
   ]
  },
  {
   "cell_type": "code",
   "execution_count": 0,
   "metadata": {
    "application/vnd.databricks.v1+cell": {
     "cellMetadata": {
      "byteLimit": 2048000,
      "rowLimit": 10000
     },
     "inputWidgets": {},
     "nuid": "bf66924b-9661-4d89-b13c-e0145b05d755",
     "showTitle": false,
     "title": ""
    }
   },
   "outputs": [
    {
     "output_type": "stream",
     "name": "stdout",
     "output_type": "stream",
     "text": [
      "+---+------+----------+----+------+----------+----------+----------+\n| id|  name|       dob| age|salary|department|avg_salary|is_greater|\n+---+------+----------+----+------+----------+----------+----------+\n|  2| Alice|1997-02-28|  25| 90000|   Finance|  71166.67|      true|\n|  4| Emily|1994-11-22|  28| 65000|   Finance|  71166.67|     false|\n|  4| Emily|1994-11-22|  28| 65000|   Finance|  71166.67|     false|\n|  4| Emily|1994-11-22|  28| 70000|   Finance|  71166.67|     false|\n|  6| Susan|1989-07-05|  33| 75000|   Finance|  71166.67|      true|\n| 10|Sophie|1992-06-30|  30| 62000|   Finance|  71166.67|     false|\n|  2| Alice|1997-02-28|  25| 60000|        HR|   67000.0|     false|\n|  2| Alice|1997-02-28|  25| 60000|        HR|   67000.0|     false|\n|  5| David|1981-12-18|  41| 90000|        HR|   67000.0|      true|\n|  8|  Lisa|1995-08-20|  27| 58000|        HR|   67000.0|     false|\n|  1|  John|1992-05-12|  30| 70000|        IT|  78857.14|     false|\n|  1|  John|1992-05-12|  30| 70000|        IT|  78857.14|     false|\n|  1|  John|1992-05-12|  30| 70000|        IT|  78857.14|     false|\n|  3|   Bob|      null|null| 80000|        IT|  78857.14|      true|\n|  3|   Bob|      null|null| 80000|        IT|  78857.14|      true|\n|  7|  Mike|1976-03-15|  46| 95000|        IT|  78857.14|      true|\n|  9| James|1983-10-14|  39| 87000|        IT|  78857.14|      true|\n+---+------+----------+----+------+----------+----------+----------+\n\n"
     ]
    }
   ],
   "source": [
    "df_result_sal_greater_avgsal_eachdept = df_result_sal_greater_avgsal_eachdept.withColumn(\n",
    "    \"is_greater\",\n",
    "    F.col(\"salary\") >= F.col(\"avg_salary\")\n",
    ")\n",
    "df_result_sal_greater_avgsal_eachdept.show()"
   ]
  },
  {
   "cell_type": "code",
   "execution_count": 0,
   "metadata": {
    "application/vnd.databricks.v1+cell": {
     "cellMetadata": {
      "byteLimit": 2048000,
      "rowLimit": 10000
     },
     "inputWidgets": {},
     "nuid": "8d69f4ae-3a34-49c9-9348-55150cea837f",
     "showTitle": false,
     "title": ""
    }
   },
   "outputs": [
    {
     "output_type": "stream",
     "name": "stdout",
     "output_type": "stream",
     "text": [
      "+---+------+----------+----+------+----------+----------+\n| id|  name|       dob| age|salary|department|avg_salary|\n+---+------+----------+----+------+----------+----------+\n|  1|  John|1992-05-12|  30| 70000|        IT|  73352.94|\n|  1|  John|1992-05-12|  30| 70000|        IT|  73352.94|\n|  1|  John|1992-05-12|  30| 70000|        IT|  73352.94|\n|  2| Alice|1997-02-28|  25| 60000|        HR|  73352.94|\n|  2| Alice|1997-02-28|  25| 60000|        HR|  73352.94|\n|  2| Alice|1997-02-28|  25| 90000|   Finance|  73352.94|\n|  3|   Bob|      null|null| 80000|        IT|  73352.94|\n|  3|   Bob|      null|null| 80000|        IT|  73352.94|\n|  4| Emily|1994-11-22|  28| 65000|   Finance|  73352.94|\n|  4| Emily|1994-11-22|  28| 65000|   Finance|  73352.94|\n|  4| Emily|1994-11-22|  28| 70000|   Finance|  73352.94|\n|  5| David|1981-12-18|  41| 90000|        HR|  73352.94|\n|  6| Susan|1989-07-05|  33| 75000|   Finance|  73352.94|\n|  7|  Mike|1976-03-15|  46| 95000|        IT|  73352.94|\n|  8|  Lisa|1995-08-20|  27| 58000|        HR|  73352.94|\n|  9| James|1983-10-14|  39| 87000|        IT|  73352.94|\n| 10|Sophie|1992-06-30|  30| 62000|   Finance|  73352.94|\n+---+------+----------+----+------+----------+----------+\n\n"
     ]
    }
   ],
   "source": [
    "#using spark sql\n",
    "df_result_sal_greater_alldept = spark.sql(\"SELECT *,ROUND(AVG(salary) OVER (),2) AS avg_salary FROM table1\")\n",
    "df_result_sal_greater_alldept.show()"
   ]
  },
  {
   "cell_type": "code",
   "execution_count": 0,
   "metadata": {
    "application/vnd.databricks.v1+cell": {
     "cellMetadata": {
      "byteLimit": 2048000,
      "rowLimit": 10000
     },
     "inputWidgets": {},
     "nuid": "ea458df5-1eb5-4dad-86d7-d7f05b6ee022",
     "showTitle": false,
     "title": ""
    }
   },
   "outputs": [
    {
     "output_type": "stream",
     "name": "stdout",
     "output_type": "stream",
     "text": [
      "+---+------+----------+----+------+----------+----------+----------+\n| id|  name|       dob| age|salary|department|avg_salary|is_greater|\n+---+------+----------+----+------+----------+----------+----------+\n|  1|  John|1992-05-12|  30| 70000|        IT|  73352.94|     false|\n|  1|  John|1992-05-12|  30| 70000|        IT|  73352.94|     false|\n|  1|  John|1992-05-12|  30| 70000|        IT|  73352.94|     false|\n|  2| Alice|1997-02-28|  25| 60000|        HR|  73352.94|     false|\n|  2| Alice|1997-02-28|  25| 60000|        HR|  73352.94|     false|\n|  2| Alice|1997-02-28|  25| 90000|   Finance|  73352.94|      true|\n|  3|   Bob|      null|null| 80000|        IT|  73352.94|      true|\n|  3|   Bob|      null|null| 80000|        IT|  73352.94|      true|\n|  4| Emily|1994-11-22|  28| 65000|   Finance|  73352.94|     false|\n|  4| Emily|1994-11-22|  28| 65000|   Finance|  73352.94|     false|\n|  4| Emily|1994-11-22|  28| 70000|   Finance|  73352.94|     false|\n|  5| David|1981-12-18|  41| 90000|        HR|  73352.94|      true|\n|  6| Susan|1989-07-05|  33| 75000|   Finance|  73352.94|      true|\n|  7|  Mike|1976-03-15|  46| 95000|        IT|  73352.94|      true|\n|  8|  Lisa|1995-08-20|  27| 58000|        HR|  73352.94|     false|\n|  9| James|1983-10-14|  39| 87000|        IT|  73352.94|      true|\n| 10|Sophie|1992-06-30|  30| 62000|   Finance|  73352.94|     false|\n+---+------+----------+----+------+----------+----------+----------+\n\n"
     ]
    }
   ],
   "source": [
    "df_result_sal_greater_alldept = df_result_sal_greater_alldept.withColumn(\n",
    "    \"is_greater\",\n",
    "    F.col(\"salary\") >= F.col(\"avg_salary\")\n",
    ")\n",
    "df_result_sal_greater_alldept.show()"
   ]
  },
  {
   "cell_type": "code",
   "execution_count": 0,
   "metadata": {
    "application/vnd.databricks.v1+cell": {
     "cellMetadata": {
      "byteLimit": 2048000,
      "rowLimit": 10000
     },
     "inputWidgets": {},
     "nuid": "d533f57b-13af-4534-bc70-89d3dc4bd207",
     "showTitle": false,
     "title": ""
    }
   },
   "outputs": [],
   "source": [
    "window = Window.partitionBy(\"department\")"
   ]
  },
  {
   "cell_type": "code",
   "execution_count": 0,
   "metadata": {
    "application/vnd.databricks.v1+cell": {
     "cellMetadata": {
      "byteLimit": 2048000,
      "rowLimit": 10000
     },
     "inputWidgets": {},
     "nuid": "596353ca-20d4-4769-ba0d-73050e1c640b",
     "showTitle": false,
     "title": ""
    }
   },
   "outputs": [
    {
     "output_type": "stream",
     "name": "stdout",
     "output_type": "stream",
     "text": [
      "+---+------+----------+----+------+----------+-----------------------+\n| id|  name|       dob| age|salary|department|sal_greater_than_avgsal|\n+---+------+----------+----+------+----------+-----------------------+\n|  1|  John|1992-05-12|  30| 70000|        IT|                  false|\n|  1|  John|1992-05-12|  30| 70000|        IT|                  false|\n|  1|  John|1992-05-12|  30| 70000|        IT|                  false|\n|  2| Alice|1997-02-28|  25| 60000|        HR|                  false|\n|  2| Alice|1997-02-28|  25| 60000|        HR|                  false|\n|  2| Alice|1997-02-28|  25| 90000|   Finance|                   true|\n|  3|   Bob|      null|null| 80000|        IT|                   true|\n|  3|   Bob|      null|null| 80000|        IT|                   true|\n|  4| Emily|1994-11-22|  28| 65000|   Finance|                  false|\n|  4| Emily|1994-11-22|  28| 65000|   Finance|                  false|\n|  4| Emily|1994-11-22|  28| 70000|   Finance|                  false|\n|  5| David|1981-12-18|  41| 90000|        HR|                   true|\n|  6| Susan|1989-07-05|  33| 75000|   Finance|                   true|\n|  7|  Mike|1976-03-15|  46| 95000|        IT|                   true|\n|  8|  Lisa|1995-08-20|  27| 58000|        HR|                  false|\n|  9| James|1983-10-14|  39| 87000|        IT|                   true|\n| 10|Sophie|1992-06-30|  30| 62000|   Finance|                  false|\n+---+------+----------+----+------+----------+-----------------------+\n\n"
     ]
    }
   ],
   "source": [
    "df_avgsal_dept = df_union.withColumn(\n",
    "    \"sal_greater_than_avgsal\",\n",
    "    F.col(\"salary\") >= F.avg(\"salary\").over(window)     \n",
    ")\n",
    "df_avgsal_dept.show()"
   ]
  },
  {
   "cell_type": "code",
   "execution_count": 0,
   "metadata": {
    "application/vnd.databricks.v1+cell": {
     "cellMetadata": {
      "byteLimit": 2048000,
      "rowLimit": 10000
     },
     "inputWidgets": {},
     "nuid": "b9b1c3ea-bb54-4237-a887-073e5f90ce83",
     "showTitle": false,
     "title": ""
    }
   },
   "outputs": [],
   "source": [
    "window = Window.partitionBy()"
   ]
  },
  {
   "cell_type": "code",
   "execution_count": 0,
   "metadata": {
    "application/vnd.databricks.v1+cell": {
     "cellMetadata": {
      "byteLimit": 2048000,
      "rowLimit": 10000
     },
     "inputWidgets": {},
     "nuid": "4f3fca4b-cbe1-4af6-bbd9-f73b5a1b9b37",
     "showTitle": false,
     "title": ""
    }
   },
   "outputs": [
    {
     "output_type": "stream",
     "name": "stdout",
     "output_type": "stream",
     "text": [
      "+---+------+----------+----+------+----------+-------------------------------+\n| id|  name|       dob| age|salary|department|sal_greater_than_avgsal_alldept|\n+---+------+----------+----+------+----------+-------------------------------+\n|  1|  John|1992-05-12|  30| 70000|        IT|                          false|\n|  1|  John|1992-05-12|  30| 70000|        IT|                          false|\n|  1|  John|1992-05-12|  30| 70000|        IT|                          false|\n|  2| Alice|1997-02-28|  25| 60000|        HR|                          false|\n|  2| Alice|1997-02-28|  25| 60000|        HR|                          false|\n|  2| Alice|1997-02-28|  25| 90000|   Finance|                           true|\n|  3|   Bob|      null|null| 80000|        IT|                           true|\n|  3|   Bob|      null|null| 80000|        IT|                           true|\n|  4| Emily|1994-11-22|  28| 65000|   Finance|                          false|\n|  4| Emily|1994-11-22|  28| 65000|   Finance|                          false|\n|  4| Emily|1994-11-22|  28| 70000|   Finance|                          false|\n|  5| David|1981-12-18|  41| 90000|        HR|                           true|\n|  6| Susan|1989-07-05|  33| 75000|   Finance|                           true|\n|  7|  Mike|1976-03-15|  46| 95000|        IT|                           true|\n|  8|  Lisa|1995-08-20|  27| 58000|        HR|                          false|\n|  9| James|1983-10-14|  39| 87000|        IT|                           true|\n| 10|Sophie|1992-06-30|  30| 62000|   Finance|                          false|\n+---+------+----------+----+------+----------+-------------------------------+\n\n"
     ]
    }
   ],
   "source": [
    "df_avgsal_all_dept = df_union.withColumn(\n",
    "    \"sal_greater_than_avgsal_alldept\",\n",
    "    F.col(\"salary\") >= F.avg(\"salary\").over(window)\n",
    ")\n",
    "df_avgsal_all_dept.show()"
   ]
  },
  {
   "cell_type": "code",
   "execution_count": 0,
   "metadata": {
    "application/vnd.databricks.v1+cell": {
     "cellMetadata": {
      "byteLimit": 2048000,
      "rowLimit": 10000
     },
     "inputWidgets": {},
     "nuid": "0ad0fc55-98d3-4e67-848a-5e712b17e452",
     "showTitle": false,
     "title": ""
    }
   },
   "outputs": [],
   "source": []
  }
 ],
 "metadata": {
  "application/vnd.databricks.v1+notebook": {
   "dashboards": [],
   "language": "python",
   "notebookMetadata": {
    "pythonIndentUnit": 4
   },
   "notebookName": "Pyspark_Task",
   "widgets": {}
  }
 },
 "nbformat": 4,
 "nbformat_minor": 0
}
