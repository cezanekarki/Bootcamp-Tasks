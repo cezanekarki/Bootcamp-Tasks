{
 "cells": [
  {
   "cell_type": "code",
   "execution_count": 0,
   "metadata": {
    "application/vnd.databricks.v1+cell": {
     "cellMetadata": {
      "byteLimit": 2048000,
      "rowLimit": 10000
     },
     "inputWidgets": {},
     "nuid": "acbc255e-f2a7-48f2-859c-4a9186f8f6f2",
     "showTitle": false,
     "title": ""
    }
   },
   "outputs": [],
   "source": [
    "# Ways of transformation:\n",
    "#     RDDS - Quicker\n",
    "#     Dataframe/Dataset - Easier"
   ]
  },
  {
   "cell_type": "code",
   "execution_count": 0,
   "metadata": {
    "application/vnd.databricks.v1+cell": {
     "cellMetadata": {
      "byteLimit": 2048000,
      "rowLimit": 10000
     },
     "inputWidgets": {},
     "nuid": "1bd50a8c-bdfa-45dd-a5e4-663b8fa95111",
     "showTitle": false,
     "title": ""
    }
   },
   "outputs": [
    {
     "output_type": "display_data",
     "data": {
      "text/html": [
       "\n",
       "            <div>\n",
       "                <p><b>SparkSession - hive</b></p>\n",
       "                \n",
       "        <div>\n",
       "            <p><b>SparkContext</b></p>\n",
       "\n",
       "            <p><a href=\"/?o=5606541341624162#setting/sparkui/0221-070315-ol6iu34m/driver-5113252644529607458\">Spark UI</a></p>\n",
       "\n",
       "            <dl>\n",
       "              <dt>Version</dt>\n",
       "                <dd><code>v3.3.2</code></dd>\n",
       "              <dt>Master</dt>\n",
       "                <dd><code>local[8]</code></dd>\n",
       "              <dt>AppName</dt>\n",
       "                <dd><code>Databricks Shell</code></dd>\n",
       "            </dl>\n",
       "        </div>\n",
       "        \n",
       "            </div>\n",
       "        "
      ]
     },
     "metadata": {
      "application/vnd.databricks.v1+output": {
       "addedWidgets": {},
       "arguments": {},
       "data": "\n            <div>\n                <p><b>SparkSession - hive</b></p>\n                \n        <div>\n            <p><b>SparkContext</b></p>\n\n            <p><a href=\"/?o=5606541341624162#setting/sparkui/0221-070315-ol6iu34m/driver-5113252644529607458\">Spark UI</a></p>\n\n            <dl>\n              <dt>Version</dt>\n                <dd><code>v3.3.2</code></dd>\n              <dt>Master</dt>\n                <dd><code>local[8]</code></dd>\n              <dt>AppName</dt>\n                <dd><code>Databricks Shell</code></dd>\n            </dl>\n        </div>\n        \n            </div>\n        ",
       "datasetInfos": [],
       "metadata": {},
       "removedWidgets": [],
       "textData": null,
       "type": "htmlSandbox"
      }
     },
     "output_type": "display_data"
    }
   ],
   "source": [
    "from pyspark.sql import SparkSession\n",
    "spark = SparkSession.builder.getOrCreate()\n",
    "spark"
   ]
  },
  {
   "cell_type": "code",
   "execution_count": 0,
   "metadata": {
    "application/vnd.databricks.v1+cell": {
     "cellMetadata": {
      "byteLimit": 2048000,
      "rowLimit": 10000
     },
     "inputWidgets": {},
     "nuid": "c0caac20-6134-401c-87a6-13b37df75779",
     "showTitle": false,
     "title": ""
    }
   },
   "outputs": [
    {
     "output_type": "display_data",
     "data": {
      "text/html": [
       "<style scoped>\n",
       "  .table-result-container {\n",
       "    max-height: 300px;\n",
       "    overflow: auto;\n",
       "  }\n",
       "  table, th, td {\n",
       "    border: 1px solid black;\n",
       "    border-collapse: collapse;\n",
       "  }\n",
       "  th, td {\n",
       "    padding: 5px;\n",
       "  }\n",
       "  th {\n",
       "    text-align: left;\n",
       "  }\n",
       "</style><div class='table-result-container'><table class='table-result'><thead style='background-color: white'><tr><th>path</th><th>name</th><th>size</th><th>modificationTime</th></tr></thead><tbody><tr><td>dbfs:/FileStore/tables/Address-1.xlsx</td><td>Address-1.xlsx</td><td>151315</td><td>1706079867000</td></tr><tr><td>dbfs:/FileStore/tables/Address-2.xlsx</td><td>Address-2.xlsx</td><td>151315</td><td>1706158276000</td></tr><tr><td>dbfs:/FileStore/tables/Address-3.xlsx</td><td>Address-3.xlsx</td><td>151315</td><td>1706158828000</td></tr><tr><td>dbfs:/FileStore/tables/Address-4.xlsx</td><td>Address-4.xlsx</td><td>151315</td><td>1706174679000</td></tr><tr><td>dbfs:/FileStore/tables/Address.xlsx</td><td>Address.xlsx</td><td>151315</td><td>1706076884000</td></tr><tr><td>dbfs:/FileStore/tables/Detail-1.csv</td><td>Detail-1.csv</td><td>208476</td><td>1706074082000</td></tr><tr><td>dbfs:/FileStore/tables/Detail-2.csv</td><td>Detail-2.csv</td><td>208476</td><td>1706174692000</td></tr><tr><td>dbfs:/FileStore/tables/Detail.csv</td><td>Detail.csv</td><td>208476</td><td>1706073658000</td></tr><tr><td>dbfs:/FileStore/tables/Project_1.xlsx</td><td>Project_1.xlsx</td><td>422501</td><td>1706173236000</td></tr><tr><td>dbfs:/FileStore/tables/contactinfo-1.txt</td><td>contactinfo-1.txt</td><td>49969</td><td>1706174684000</td></tr><tr><td>dbfs:/FileStore/tables/contactinfo.txt</td><td>contactinfo.txt</td><td>49969</td><td>1706076196000</td></tr><tr><td>dbfs:/FileStore/tables/csv/</td><td>csv/</td><td>0</td><td>0</td></tr><tr><td>dbfs:/FileStore/tables/header-1.json</td><td>header-1.json</td><td>115560</td><td>1706174672000</td></tr><tr><td>dbfs:/FileStore/tables/header.json</td><td>header.json</td><td>115560</td><td>1706159798000</td></tr><tr><td>dbfs:/FileStore/tables/json/</td><td>json/</td><td>0</td><td>0</td></tr><tr><td>dbfs:/FileStore/tables/parquet/</td><td>parquet/</td><td>0</td><td>0</td></tr></tbody></table></div>"
      ]
     },
     "metadata": {
      "application/vnd.databricks.v1+output": {
       "addedWidgets": {},
       "aggData": [],
       "aggError": "",
       "aggOverflow": false,
       "aggSchema": [],
       "aggSeriesLimitReached": false,
       "aggType": "",
       "arguments": {},
       "columnCustomDisplayInfos": {},
       "data": [
        [
         "dbfs:/FileStore/tables/Address-1.xlsx",
         "Address-1.xlsx",
         151315,
         1706079867000
        ],
        [
         "dbfs:/FileStore/tables/Address-2.xlsx",
         "Address-2.xlsx",
         151315,
         1706158276000
        ],
        [
         "dbfs:/FileStore/tables/Address-3.xlsx",
         "Address-3.xlsx",
         151315,
         1706158828000
        ],
        [
         "dbfs:/FileStore/tables/Address-4.xlsx",
         "Address-4.xlsx",
         151315,
         1706174679000
        ],
        [
         "dbfs:/FileStore/tables/Address.xlsx",
         "Address.xlsx",
         151315,
         1706076884000
        ],
        [
         "dbfs:/FileStore/tables/Detail-1.csv",
         "Detail-1.csv",
         208476,
         1706074082000
        ],
        [
         "dbfs:/FileStore/tables/Detail-2.csv",
         "Detail-2.csv",
         208476,
         1706174692000
        ],
        [
         "dbfs:/FileStore/tables/Detail.csv",
         "Detail.csv",
         208476,
         1706073658000
        ],
        [
         "dbfs:/FileStore/tables/Project_1.xlsx",
         "Project_1.xlsx",
         422501,
         1706173236000
        ],
        [
         "dbfs:/FileStore/tables/contactinfo-1.txt",
         "contactinfo-1.txt",
         49969,
         1706174684000
        ],
        [
         "dbfs:/FileStore/tables/contactinfo.txt",
         "contactinfo.txt",
         49969,
         1706076196000
        ],
        [
         "dbfs:/FileStore/tables/csv/",
         "csv/",
         0,
         0
        ],
        [
         "dbfs:/FileStore/tables/header-1.json",
         "header-1.json",
         115560,
         1706174672000
        ],
        [
         "dbfs:/FileStore/tables/header.json",
         "header.json",
         115560,
         1706159798000
        ],
        [
         "dbfs:/FileStore/tables/json/",
         "json/",
         0,
         0
        ],
        [
         "dbfs:/FileStore/tables/parquet/",
         "parquet/",
         0,
         0
        ]
       ],
       "datasetInfos": [],
       "dbfsResultPath": null,
       "isJsonSchema": true,
       "metadata": {
        "isDbfsCommandResult": false
       },
       "overflow": false,
       "plotOptions": {
        "customPlotOptions": {},
        "displayType": "table",
        "pivotAggregation": null,
        "pivotColumns": null,
        "xColumns": null,
        "yColumns": null
       },
       "removedWidgets": [],
       "schema": [
        {
         "metadata": "{}",
         "name": "path",
         "type": "\"string\""
        },
        {
         "metadata": "{}",
         "name": "name",
         "type": "\"string\""
        },
        {
         "metadata": "{}",
         "name": "size",
         "type": "\"long\""
        },
        {
         "metadata": "{}",
         "name": "modificationTime",
         "type": "\"long\""
        }
       ],
       "type": "table"
      }
     },
     "output_type": "display_data"
    }
   ],
   "source": [
    "%fs ls dbfs:///FileStore/tables/\n",
    "\n"
   ]
  },
  {
   "cell_type": "code",
   "execution_count": 0,
   "metadata": {
    "application/vnd.databricks.v1+cell": {
     "cellMetadata": {
      "byteLimit": 2048000,
      "rowLimit": 10000
     },
     "inputWidgets": {},
     "nuid": "27aa9415-708f-40e2-b97a-45c63ff10cf9",
     "showTitle": false,
     "title": ""
    }
   },
   "outputs": [],
   "source": [
    "df_csv= spark.read.format(\"csv\").load(\"dbfs:/FileStore/tables/csv/batch.csv\")"
   ]
  },
  {
   "cell_type": "code",
   "execution_count": 0,
   "metadata": {
    "application/vnd.databricks.v1+cell": {
     "cellMetadata": {
      "byteLimit": 2048000,
      "rowLimit": 10000
     },
     "inputWidgets": {},
     "nuid": "6844ff5b-272e-4102-ad1a-90b3a31fb750",
     "showTitle": false,
     "title": ""
    }
   },
   "outputs": [
    {
     "output_type": "stream",
     "name": "stdout",
     "output_type": "stream",
     "text": [
      "Out[3]: pyspark.sql.dataframe.DataFrame"
     ]
    }
   ],
   "source": [
    "type(df_csv)"
   ]
  },
  {
   "cell_type": "code",
   "execution_count": 0,
   "metadata": {
    "application/vnd.databricks.v1+cell": {
     "cellMetadata": {
      "byteLimit": 2048000,
      "rowLimit": 10000
     },
     "inputWidgets": {},
     "nuid": "33b16057-fec2-4a11-aaff-4ca2de1f2114",
     "showTitle": false,
     "title": ""
    }
   },
   "outputs": [
    {
     "output_type": "stream",
     "name": "stdout",
     "output_type": "stream",
     "text": [
      "+---+-----+----------+----+------+----------+\n|_c0|  _c1|       _c2| _c3|   _c4|       _c5|\n+---+-----+----------+----+------+----------+\n| id| name|       dob| age|salary|department|\n|  1| John|1992-05-12|  30| 70000|        IT|\n|  2|Alice|1997-02-28|  25| 60000|        HR|\n|  3|  Bob|      null|null| 80000|        IT|\n|  4|Emily|1994-11-22|  28| 65000|   Finance|\n+---+-----+----------+----+------+----------+\n\n"
     ]
    }
   ],
   "source": [
    "df_csv.show()"
   ]
  },
  {
   "cell_type": "code",
   "execution_count": 0,
   "metadata": {
    "application/vnd.databricks.v1+cell": {
     "cellMetadata": {
      "byteLimit": 2048000,
      "rowLimit": 10000
     },
     "inputWidgets": {},
     "nuid": "ddc8c003-9397-4e82-82ee-38d058a2dd83",
     "showTitle": false,
     "title": ""
    }
   },
   "outputs": [],
   "source": [
    "df_csv = spark.read.format(\"csv\").option(\"header\", True).load(\"dbfs:///FileStore/tables/csv/batch.csv\")"
   ]
  },
  {
   "cell_type": "code",
   "execution_count": 0,
   "metadata": {
    "application/vnd.databricks.v1+cell": {
     "cellMetadata": {
      "byteLimit": 2048000,
      "rowLimit": 10000
     },
     "inputWidgets": {},
     "nuid": "7ea5c1f3-9fca-40f6-a3a9-ff8546d134f1",
     "showTitle": false,
     "title": ""
    }
   },
   "outputs": [
    {
     "output_type": "stream",
     "name": "stdout",
     "output_type": "stream",
     "text": [
      "+---+-----+----------+----+------+----------+\n| id| name|       dob| age|salary|department|\n+---+-----+----------+----+------+----------+\n|  1| John|1992-05-12|  30| 70000|        IT|\n|  2|Alice|1997-02-28|  25| 60000|        HR|\n|  3|  Bob|      null|null| 80000|        IT|\n|  4|Emily|1994-11-22|  28| 65000|   Finance|\n+---+-----+----------+----+------+----------+\n\n"
     ]
    }
   ],
   "source": [
    "df_csv.show()\n"
   ]
  },
  {
   "cell_type": "code",
   "execution_count": 0,
   "metadata": {
    "application/vnd.databricks.v1+cell": {
     "cellMetadata": {
      "byteLimit": 2048000,
      "rowLimit": 10000
     },
     "inputWidgets": {},
     "nuid": "47d96819-3cfe-45cd-91c4-8fe1d6effb31",
     "showTitle": false,
     "title": ""
    }
   },
   "outputs": [
    {
     "output_type": "stream",
     "name": "stdout",
     "output_type": "stream",
     "text": [
      "root\n |-- id: string (nullable = true)\n |-- name: string (nullable = true)\n |-- dob: string (nullable = true)\n |-- age: string (nullable = true)\n |-- salary: string (nullable = true)\n |-- department: string (nullable = true)\n\n"
     ]
    }
   ],
   "source": [
    "df_csv.printSchema()"
   ]
  },
  {
   "cell_type": "code",
   "execution_count": 0,
   "metadata": {
    "application/vnd.databricks.v1+cell": {
     "cellMetadata": {
      "byteLimit": 2048000,
      "rowLimit": 10000
     },
     "inputWidgets": {},
     "nuid": "458ac5f6-4314-4099-abd1-c1e000724b40",
     "showTitle": false,
     "title": ""
    }
   },
   "outputs": [],
   "source": [
    "from pyspark.sql.types  import StructType, StructField, IntegerType,StringType,DateType"
   ]
  },
  {
   "cell_type": "code",
   "execution_count": 0,
   "metadata": {
    "application/vnd.databricks.v1+cell": {
     "cellMetadata": {
      "byteLimit": 2048000,
      "rowLimit": 10000
     },
     "inputWidgets": {},
     "nuid": "a6699232-c68b-4f94-931a-ffb21efa05f3",
     "showTitle": false,
     "title": ""
    }
   },
   "outputs": [],
   "source": [
    "schema=StructType([\n",
    "    StructField(\"id\",IntegerType()),\n",
    "    StructField(\"name\",StringType()),\n",
    "    StructField(\"dob\",DateType()),\n",
    "    StructField(\"age\",IntegerType()),\n",
    "    StructField(\"salary\",IntegerType()),\n",
    "    StructField(\"department\",StringType()),\n",
    "])"
   ]
  },
  {
   "cell_type": "code",
   "execution_count": 0,
   "metadata": {
    "application/vnd.databricks.v1+cell": {
     "cellMetadata": {
      "byteLimit": 2048000,
      "rowLimit": 10000
     },
     "inputWidgets": {},
     "nuid": "98f0c5d9-f8dd-4926-85da-0a5e6c802538",
     "showTitle": false,
     "title": ""
    }
   },
   "outputs": [],
   "source": [
    "df_csv = spark.read.format(\"csv\").schema(schema).option(\"header\", True).load(\"dbfs:///FileStore/tables/csv/batch.csv\")"
   ]
  },
  {
   "cell_type": "code",
   "execution_count": 0,
   "metadata": {
    "application/vnd.databricks.v1+cell": {
     "cellMetadata": {
      "byteLimit": 2048000,
      "rowLimit": 10000
     },
     "inputWidgets": {},
     "nuid": "14f5f9ee-b00e-4175-a59b-33299aa8eec4",
     "showTitle": false,
     "title": ""
    }
   },
   "outputs": [
    {
     "output_type": "stream",
     "name": "stdout",
     "output_type": "stream",
     "text": [
      "root\n |-- id: integer (nullable = true)\n |-- name: string (nullable = true)\n |-- dob: date (nullable = true)\n |-- age: integer (nullable = true)\n |-- salary: integer (nullable = true)\n |-- department: string (nullable = true)\n\n"
     ]
    }
   ],
   "source": [
    "df_csv.printSchema()"
   ]
  },
  {
   "cell_type": "code",
   "execution_count": 0,
   "metadata": {
    "application/vnd.databricks.v1+cell": {
     "cellMetadata": {
      "byteLimit": 2048000,
      "rowLimit": 10000
     },
     "inputWidgets": {},
     "nuid": "58a42dff-c6e8-410f-85a5-56c31779335a",
     "showTitle": false,
     "title": ""
    }
   },
   "outputs": [
    {
     "output_type": "stream",
     "name": "stdout",
     "output_type": "stream",
     "text": [
      "+---+-----+----------+----+------+----------+\n| id| name|       dob| age|salary|department|\n+---+-----+----------+----+------+----------+\n|  1| John|1992-05-12|  30| 70000|        IT|\n|  2|Alice|1997-02-28|  25| 60000|        HR|\n|  3|  Bob|      null|null| 80000|        IT|\n|  4|Emily|1994-11-22|  28| 65000|   Finance|\n+---+-----+----------+----+------+----------+\n\n"
     ]
    }
   ],
   "source": [
    "df_csv.show()"
   ]
  },
  {
   "cell_type": "code",
   "execution_count": 0,
   "metadata": {
    "application/vnd.databricks.v1+cell": {
     "cellMetadata": {
      "byteLimit": 2048000,
      "rowLimit": 10000
     },
     "inputWidgets": {},
     "nuid": "c30df0cd-49e9-4ebf-9ead-ef4b29037e30",
     "showTitle": false,
     "title": ""
    }
   },
   "outputs": [],
   "source": [
    "df_csv = spark.read.format(\"csv\").schema(schema).option(\"header\", True).option(\"inferSchema\",True).load(\"dbfs:///FileStore/tables/csv/batch.csv\")"
   ]
  },
  {
   "cell_type": "code",
   "execution_count": 0,
   "metadata": {
    "application/vnd.databricks.v1+cell": {
     "cellMetadata": {
      "byteLimit": 2048000,
      "rowLimit": 10000
     },
     "inputWidgets": {},
     "nuid": "40661a17-d01d-4ab5-a870-ca5b119c4229",
     "showTitle": false,
     "title": ""
    }
   },
   "outputs": [
    {
     "output_type": "stream",
     "name": "stdout",
     "output_type": "stream",
     "text": [
      "+---+-----+----------+----+------+----------+\n| id| name|       dob| age|salary|department|\n+---+-----+----------+----+------+----------+\n|  1| John|1992-05-12|  30| 70000|        IT|\n|  2|Alice|1997-02-28|  25| 60000|        HR|\n|  3|  Bob|      null|null| 80000|        IT|\n|  4|Emily|1994-11-22|  28| 65000|   Finance|\n+---+-----+----------+----+------+----------+\n\n"
     ]
    }
   ],
   "source": [
    "df_csv.show()\n"
   ]
  },
  {
   "cell_type": "code",
   "execution_count": 0,
   "metadata": {
    "application/vnd.databricks.v1+cell": {
     "cellMetadata": {
      "byteLimit": 2048000,
      "rowLimit": 10000
     },
     "inputWidgets": {},
     "nuid": "244c4fdd-d374-4b36-9c0d-1d895abcf273",
     "showTitle": false,
     "title": ""
    }
   },
   "outputs": [],
   "source": [
    "# Extract Json \n",
    "df_json= spark.read.format(\"json\").load(\"dbfs:///FileStore/tables/json\")"
   ]
  },
  {
   "cell_type": "code",
   "execution_count": 0,
   "metadata": {
    "application/vnd.databricks.v1+cell": {
     "cellMetadata": {
      "byteLimit": 2048000,
      "rowLimit": 10000
     },
     "inputWidgets": {},
     "nuid": "59a1fcb8-304d-48b9-88dd-7e326e1dafb4",
     "showTitle": false,
     "title": ""
    }
   },
   "outputs": [
    {
     "output_type": "stream",
     "name": "stdout",
     "output_type": "stream",
     "text": [
      "+----+----------+----------+---+------+------+\n| age|department|       dob| id|  name|salary|\n+----+----------+----------+---+------+------+\n|  30|        IT|1992-05-12|  1|  John| 70000|\n|  25|        HR|1997-02-28|  2| Alice| 60000|\n|null|        IT|      null|  3|   Bob| 80000|\n|  28|   Finance|1994-11-22|  4| Emily| 65000|\n|  41|        HR|1981-12-18|  5| David| 90000|\n|  33|   Finance|1989-07-05|  6| Susan| 75000|\n|  46|        IT|1976-03-15|  7|  Mike| 95000|\n|  30|   Finance|1992-06-30| 10|Sophie| 62000|\n|  25|   Finance|1997-02-28|  2| Alice| 90000|\n|  28|   Finance|1994-11-22|  4| Emily| 70000|\n|  39|        IT|1983-10-14|  9| James| 87000|\n|  30|        IT|1992-05-12|  1|  John| 70000|\n|  27|        HR|1995-08-20|  8|  Lisa| 58000|\n+----+----------+----------+---+------+------+\n\n"
     ]
    }
   ],
   "source": [
    "df_json.show()"
   ]
  },
  {
   "cell_type": "code",
   "execution_count": 0,
   "metadata": {
    "application/vnd.databricks.v1+cell": {
     "cellMetadata": {
      "byteLimit": 2048000,
      "rowLimit": 10000
     },
     "inputWidgets": {},
     "nuid": "4bb1746e-0718-4b89-b120-f380f26cc416",
     "showTitle": false,
     "title": ""
    }
   },
   "outputs": [
    {
     "output_type": "stream",
     "name": "stdout",
     "output_type": "stream",
     "text": [
      "root\n |-- id: integer (nullable = true)\n |-- name: string (nullable = true)\n |-- dob: date (nullable = true)\n |-- age: integer (nullable = true)\n |-- salary: integer (nullable = true)\n |-- department: string (nullable = true)\n\n"
     ]
    }
   ],
   "source": [
    "df_csv.printSchema()"
   ]
  },
  {
   "cell_type": "code",
   "execution_count": 0,
   "metadata": {
    "application/vnd.databricks.v1+cell": {
     "cellMetadata": {
      "byteLimit": 2048000,
      "rowLimit": 10000
     },
     "inputWidgets": {},
     "nuid": "b16cbe79-f916-4713-90cb-2e264fb9c103",
     "showTitle": false,
     "title": ""
    }
   },
   "outputs": [
    {
     "output_type": "stream",
     "name": "stdout",
     "output_type": "stream",
     "text": [
      "root\n |-- age: long (nullable = true)\n |-- department: string (nullable = true)\n |-- dob: string (nullable = true)\n |-- id: long (nullable = true)\n |-- name: string (nullable = true)\n |-- salary: long (nullable = true)\n\n"
     ]
    }
   ],
   "source": [
    "df_json.printSchema()"
   ]
  },
  {
   "cell_type": "code",
   "execution_count": 0,
   "metadata": {
    "application/vnd.databricks.v1+cell": {
     "cellMetadata": {
      "byteLimit": 2048000,
      "rowLimit": 10000
     },
     "inputWidgets": {},
     "nuid": "38c74ee9-1ad1-432b-a13c-dc396445191e",
     "showTitle": false,
     "title": ""
    }
   },
   "outputs": [],
   "source": [
    "# Union Data\n",
    "df=df_csv.union(df_json)"
   ]
  },
  {
   "cell_type": "code",
   "execution_count": 0,
   "metadata": {
    "application/vnd.databricks.v1+cell": {
     "cellMetadata": {
      "byteLimit": 2048000,
      "rowLimit": 10000
     },
     "inputWidgets": {},
     "nuid": "1ac53cde-9adb-44a1-baab-a8c7d7d64cf8",
     "showTitle": false,
     "title": ""
    }
   },
   "outputs": [
    {
     "output_type": "stream",
     "name": "stdout",
     "output_type": "stream",
     "text": [
      "+----+-------+----------+----+------+----------+\n|  id|   name|       dob| age|salary|department|\n+----+-------+----------+----+------+----------+\n|   1|   John|1992-05-12|  30| 70000|        IT|\n|   2|  Alice|1997-02-28|  25| 60000|        HR|\n|   3|    Bob|      null|null| 80000|        IT|\n|   4|  Emily|1994-11-22|  28| 65000|   Finance|\n|  30|     IT|1992-05-12|   1|  John|     70000|\n|  25|     HR|1997-02-28|   2| Alice|     60000|\n|null|     IT|      null|   3|   Bob|     80000|\n|  28|Finance|1994-11-22|   4| Emily|     65000|\n|  41|     HR|1981-12-18|   5| David|     90000|\n|  33|Finance|1989-07-05|   6| Susan|     75000|\n|  46|     IT|1976-03-15|   7|  Mike|     95000|\n|  30|Finance|1992-06-30|  10|Sophie|     62000|\n|  25|Finance|1997-02-28|   2| Alice|     90000|\n|  28|Finance|1994-11-22|   4| Emily|     70000|\n|  39|     IT|1983-10-14|   9| James|     87000|\n|  30|     IT|1992-05-12|   1|  John|     70000|\n|  27|     HR|1995-08-20|   8|  Lisa|     58000|\n+----+-------+----------+----+------+----------+\n\n"
     ]
    }
   ],
   "source": [
    "df.show()"
   ]
  },
  {
   "cell_type": "code",
   "execution_count": 0,
   "metadata": {
    "application/vnd.databricks.v1+cell": {
     "cellMetadata": {
      "byteLimit": 2048000,
      "rowLimit": 10000
     },
     "inputWidgets": {},
     "nuid": "62db4eb6-bcfd-423c-b18e-e8d5792a68d8",
     "showTitle": false,
     "title": ""
    }
   },
   "outputs": [
    {
     "output_type": "stream",
     "name": "stdout",
     "output_type": "stream",
     "text": [
      "['id', 'name', 'dob', 'age', 'salary', 'department'] ['age', 'department', 'dob', 'id', 'name', 'salary']\n"
     ]
    }
   ],
   "source": [
    "print(df_csv.columns,df_json.columns)"
   ]
  },
  {
   "cell_type": "code",
   "execution_count": 0,
   "metadata": {
    "application/vnd.databricks.v1+cell": {
     "cellMetadata": {
      "byteLimit": 2048000,
      "rowLimit": 10000
     },
     "inputWidgets": {},
     "nuid": "3192a638-7449-486f-868c-b8ba13becee9",
     "showTitle": false,
     "title": ""
    }
   },
   "outputs": [],
   "source": [
    "# Colums of both dataset are not in sme order\n",
    "df_json = df_json.select(df_csv.columns)"
   ]
  },
  {
   "cell_type": "code",
   "execution_count": 0,
   "metadata": {
    "application/vnd.databricks.v1+cell": {
     "cellMetadata": {
      "byteLimit": 2048000,
      "rowLimit": 10000
     },
     "inputWidgets": {},
     "nuid": "14a6a337-2484-432e-93f2-d480f0370fd8",
     "showTitle": false,
     "title": ""
    }
   },
   "outputs": [
    {
     "output_type": "stream",
     "name": "stdout",
     "output_type": "stream",
     "text": [
      "+---+------+----------+----+------+----------+\n| id|  name|       dob| age|salary|department|\n+---+------+----------+----+------+----------+\n|  1|  John|1992-05-12|  30| 70000|        IT|\n|  2| Alice|1997-02-28|  25| 60000|        HR|\n|  3|   Bob|      null|null| 80000|        IT|\n|  4| Emily|1994-11-22|  28| 65000|   Finance|\n|  5| David|1981-12-18|  41| 90000|        HR|\n|  6| Susan|1989-07-05|  33| 75000|   Finance|\n|  7|  Mike|1976-03-15|  46| 95000|        IT|\n| 10|Sophie|1992-06-30|  30| 62000|   Finance|\n|  2| Alice|1997-02-28|  25| 90000|   Finance|\n|  4| Emily|1994-11-22|  28| 70000|   Finance|\n|  9| James|1983-10-14|  39| 87000|        IT|\n|  1|  John|1992-05-12|  30| 70000|        IT|\n|  8|  Lisa|1995-08-20|  27| 58000|        HR|\n+---+------+----------+----+------+----------+\n\n"
     ]
    }
   ],
   "source": [
    "df_json.show()"
   ]
  },
  {
   "cell_type": "code",
   "execution_count": 0,
   "metadata": {
    "application/vnd.databricks.v1+cell": {
     "cellMetadata": {
      "byteLimit": 2048000,
      "rowLimit": 10000
     },
     "inputWidgets": {},
     "nuid": "4defae94-dd34-4d63-93c9-20df6bc8c556",
     "showTitle": false,
     "title": ""
    }
   },
   "outputs": [
    {
     "output_type": "stream",
     "name": "stdout",
     "output_type": "stream",
     "text": [
      "['id', 'name', 'dob', 'age', 'salary', 'department'] ['id', 'name', 'dob', 'age', 'salary', 'department']\n"
     ]
    }
   ],
   "source": [
    "print(df_csv.columns,df_json.columns)"
   ]
  },
  {
   "cell_type": "code",
   "execution_count": 0,
   "metadata": {
    "application/vnd.databricks.v1+cell": {
     "cellMetadata": {
      "byteLimit": 2048000,
      "rowLimit": 10000
     },
     "inputWidgets": {},
     "nuid": "af35d3c2-bf82-4884-9200-faa260cafc5b",
     "showTitle": false,
     "title": ""
    }
   },
   "outputs": [],
   "source": [
    "df= df_csv.union(df_json)"
   ]
  },
  {
   "cell_type": "code",
   "execution_count": 0,
   "metadata": {
    "application/vnd.databricks.v1+cell": {
     "cellMetadata": {
      "byteLimit": 2048000,
      "rowLimit": 10000
     },
     "inputWidgets": {},
     "nuid": "1c7590cf-12e8-453a-8dcc-666f50373c19",
     "showTitle": false,
     "title": ""
    }
   },
   "outputs": [
    {
     "output_type": "stream",
     "name": "stdout",
     "output_type": "stream",
     "text": [
      "DataFrame[id: bigint, name: string, dob: string, age: bigint, salary: bigint, department: string]\n"
     ]
    }
   ],
   "source": [
    "print(df)"
   ]
  },
  {
   "cell_type": "code",
   "execution_count": 0,
   "metadata": {
    "application/vnd.databricks.v1+cell": {
     "cellMetadata": {
      "byteLimit": 2048000,
      "rowLimit": 10000
     },
     "inputWidgets": {},
     "nuid": "37ee8343-52af-4aff-8920-f7d1142cd4fa",
     "showTitle": false,
     "title": ""
    }
   },
   "outputs": [
    {
     "output_type": "stream",
     "name": "stdout",
     "output_type": "stream",
     "text": [
      "+---+------+----------+----+------+----------+\n| id|  name|       dob| age|salary|department|\n+---+------+----------+----+------+----------+\n|  1|  John|1992-05-12|  30| 70000|        IT|\n|  2| Alice|1997-02-28|  25| 60000|        HR|\n|  3|   Bob|      null|null| 80000|        IT|\n|  4| Emily|1994-11-22|  28| 65000|   Finance|\n|  1|  John|1992-05-12|  30| 70000|        IT|\n|  2| Alice|1997-02-28|  25| 60000|        HR|\n|  3|   Bob|      null|null| 80000|        IT|\n|  4| Emily|1994-11-22|  28| 65000|   Finance|\n|  5| David|1981-12-18|  41| 90000|        HR|\n|  6| Susan|1989-07-05|  33| 75000|   Finance|\n|  7|  Mike|1976-03-15|  46| 95000|        IT|\n| 10|Sophie|1992-06-30|  30| 62000|   Finance|\n|  2| Alice|1997-02-28|  25| 90000|   Finance|\n|  4| Emily|1994-11-22|  28| 70000|   Finance|\n|  9| James|1983-10-14|  39| 87000|        IT|\n|  1|  John|1992-05-12|  30| 70000|        IT|\n|  8|  Lisa|1995-08-20|  27| 58000|        HR|\n+---+------+----------+----+------+----------+\n\n"
     ]
    }
   ],
   "source": [
    "df.show()"
   ]
  },
  {
   "cell_type": "code",
   "execution_count": 0,
   "metadata": {
    "application/vnd.databricks.v1+cell": {
     "cellMetadata": {
      "byteLimit": 2048000,
      "rowLimit": 10000
     },
     "inputWidgets": {},
     "nuid": "7a690241-fe4c-4ffa-a817-3ebd6b8db22f",
     "showTitle": false,
     "title": ""
    }
   },
   "outputs": [],
   "source": [
    "df.json = spark.read.format(\"json\").schema(schema).load(\"dbfs:/FileStore/tables/json\").orderBy(\"id\")"
   ]
  },
  {
   "cell_type": "code",
   "execution_count": 0,
   "metadata": {
    "application/vnd.databricks.v1+cell": {
     "cellMetadata": {
      "byteLimit": 2048000,
      "rowLimit": 10000
     },
     "inputWidgets": {},
     "nuid": "0228b0ce-cf6c-4732-83fc-ddcf6d9cb3c9",
     "showTitle": false,
     "title": ""
    }
   },
   "outputs": [
    {
     "output_type": "stream",
     "name": "stdout",
     "output_type": "stream",
     "text": [
      "root\n |-- id: long (nullable = true)\n |-- name: string (nullable = true)\n |-- dob: string (nullable = true)\n |-- age: long (nullable = true)\n |-- salary: long (nullable = true)\n |-- department: string (nullable = true)\n\n"
     ]
    }
   ],
   "source": [
    "df_json.printSchema()"
   ]
  },
  {
   "cell_type": "code",
   "execution_count": 0,
   "metadata": {
    "application/vnd.databricks.v1+cell": {
     "cellMetadata": {
      "byteLimit": 2048000,
      "rowLimit": 10000
     },
     "inputWidgets": {},
     "nuid": "30b980ba-1666-40b2-bf9b-e46a4d9d2fbb",
     "showTitle": false,
     "title": ""
    }
   },
   "outputs": [
    {
     "output_type": "display_data",
     "data": {
      "text/html": [
       "<style scoped>\n",
       "  .ansiout {\n",
       "    display: block;\n",
       "    unicode-bidi: embed;\n",
       "    white-space: pre-wrap;\n",
       "    word-wrap: break-word;\n",
       "    word-break: break-all;\n",
       "    font-family: \"Menlo\", \"Monaco\", \"Consolas\", \"Ubuntu Mono\", \"Source Code Pro\", monospace;\n",
       "    font-size: 13px;\n",
       "    color: #555;\n",
       "    margin-left: 4px;\n",
       "    line-height: 19px;\n",
       "  }\n",
       "</style>"
      ]
     },
     "metadata": {
      "application/vnd.databricks.v1+output": {
       "arguments": {},
       "data": "",
       "errorSummary": "Command skipped",
       "errorTraceType": "html",
       "metadata": {},
       "type": "ipynbError"
      }
     },
     "output_type": "display_data"
    }
   ],
   "source": [
    "# Union and UnionALL\n",
    "# Union doesnot duplicate\n",
    "# But in pyspark union() and unionAll() same.. use union()-- keeps duplicate"
   ]
  },
  {
   "cell_type": "code",
   "execution_count": 0,
   "metadata": {
    "application/vnd.databricks.v1+cell": {
     "cellMetadata": {
      "byteLimit": 2048000,
      "rowLimit": 10000
     },
     "inputWidgets": {},
     "nuid": "ddd70c35-e920-4d1e-b8f4-e3fc651f6ef0",
     "showTitle": false,
     "title": ""
    }
   },
   "outputs": [],
   "source": [
    "df = df.dropDuplicates()\n",
    "# Removes the duplicate rows"
   ]
  },
  {
   "cell_type": "code",
   "execution_count": 0,
   "metadata": {
    "application/vnd.databricks.v1+cell": {
     "cellMetadata": {
      "byteLimit": 2048000,
      "rowLimit": 10000
     },
     "inputWidgets": {},
     "nuid": "f6207605-b52f-452a-a1c6-880cd52e14a1",
     "showTitle": false,
     "title": ""
    }
   },
   "outputs": [
    {
     "output_type": "stream",
     "name": "stdout",
     "output_type": "stream",
     "text": [
      "12\n"
     ]
    }
   ],
   "source": [
    "print(df.count())"
   ]
  },
  {
   "cell_type": "code",
   "execution_count": 0,
   "metadata": {
    "application/vnd.databricks.v1+cell": {
     "cellMetadata": {
      "byteLimit": 2048000,
      "rowLimit": 10000
     },
     "inputWidgets": {},
     "nuid": "be22c1e7-5084-4407-99d6-79b1b360d7dc",
     "showTitle": true,
     "title": "Transformation"
    }
   },
   "outputs": [],
   "source": [
    "# Select Function\n",
    "\n",
    "from pyspark.sql import functions as F #F.col(),F.max(),F.min()\n",
    "from pyspark.sql.functions import *\n",
    "from pyspark.sql.functions import col,max,min\n"
   ]
  },
  {
   "cell_type": "code",
   "execution_count": 0,
   "metadata": {
    "application/vnd.databricks.v1+cell": {
     "cellMetadata": {
      "byteLimit": 2048000,
      "rowLimit": 10000
     },
     "inputWidgets": {},
     "nuid": "cfee96dc-1526-4bf3-b236-304bdba7722d",
     "showTitle": false,
     "title": ""
    }
   },
   "outputs": [
    {
     "output_type": "stream",
     "name": "stdout",
     "output_type": "stream",
     "text": [
      "+------+\n|salary|\n+------+\n| 70000|\n| 65000|\n| 60000|\n| 80000|\n| 75000|\n| 95000|\n| 90000|\n| 62000|\n| 90000|\n| 70000|\n| 87000|\n| 58000|\n+------+\n\n"
     ]
    }
   ],
   "source": [
    "df.select(\n",
    "    \"salary\"\n",
    "\n",
    ").show()"
   ]
  },
  {
   "cell_type": "code",
   "execution_count": 0,
   "metadata": {
    "application/vnd.databricks.v1+cell": {
     "cellMetadata": {
      "byteLimit": 2048000,
      "rowLimit": 10000
     },
     "inputWidgets": {},
     "nuid": "ee29a284-8f38-4edb-ab19-a5149b10ccf3",
     "showTitle": false,
     "title": ""
    }
   },
   "outputs": [
    {
     "output_type": "stream",
     "name": "stdout",
     "output_type": "stream",
     "text": [
      "+------+\n|salary|\n+------+\n| 70000|\n| 65000|\n| 60000|\n| 80000|\n| 75000|\n| 95000|\n| 90000|\n| 62000|\n| 90000|\n| 70000|\n| 87000|\n| 58000|\n+------+\n\n"
     ]
    }
   ],
   "source": [
    "df.select(\n",
    "    [\"salary\"]\n",
    "\n",
    ").show()"
   ]
  },
  {
   "cell_type": "code",
   "execution_count": 0,
   "metadata": {
    "application/vnd.databricks.v1+cell": {
     "cellMetadata": {
      "byteLimit": 2048000,
      "rowLimit": 10000
     },
     "inputWidgets": {},
     "nuid": "5246ec35-c419-4654-a69c-28bc7b65792a",
     "showTitle": false,
     "title": ""
    }
   },
   "outputs": [
    {
     "output_type": "stream",
     "name": "stdout",
     "output_type": "stream",
     "text": [
      "+------+----+\n|salary| age|\n+------+----+\n| 70000|  30|\n| 65000|  28|\n| 60000|  25|\n| 80000|null|\n| 75000|  33|\n| 95000|  46|\n| 90000|  41|\n| 62000|  30|\n| 90000|  25|\n| 70000|  28|\n| 87000|  39|\n| 58000|  27|\n+------+----+\n\n+------+----+\n|salary| age|\n+------+----+\n| 70000|  30|\n| 65000|  28|\n| 60000|  25|\n| 80000|null|\n| 75000|  33|\n| 95000|  46|\n| 90000|  41|\n| 62000|  30|\n| 90000|  25|\n| 70000|  28|\n| 87000|  39|\n| 58000|  27|\n+------+----+\n\n"
     ]
    }
   ],
   "source": [
    "df.select(\n",
    "    df.salary,\n",
    "    df.age,\n",
    "\n",
    ").show()\n",
    "df.select(\n",
    "    F.col(\"salary\"),\n",
    "    F.col(\"age\")\n",
    ").show()"
   ]
  },
  {
   "cell_type": "code",
   "execution_count": 0,
   "metadata": {
    "application/vnd.databricks.v1+cell": {
     "cellMetadata": {
      "byteLimit": 2048000,
      "rowLimit": 10000
     },
     "inputWidgets": {},
     "nuid": "330f5286-3abd-4d6f-ba1c-8852b86fa0be",
     "showTitle": false,
     "title": ""
    }
   },
   "outputs": [
    {
     "output_type": "stream",
     "name": "stdout",
     "output_type": "stream",
     "text": [
      "+-------------------------+---------------------------------------+---------------------------------------+\n|(salary + (salary * 0.5))|(year(current_timestamp()) - year(dob))|(year(current_timestamp()) - year(dob))|\n+-------------------------+---------------------------------------+---------------------------------------+\n|                 105000.0|                                     32|                                     32|\n|                  97500.0|                                     30|                                     30|\n|                  90000.0|                                     27|                                     27|\n|                 120000.0|                                   null|                                   null|\n|                 112500.0|                                     35|                                     35|\n|                 142500.0|                                     48|                                     48|\n|                 135000.0|                                     43|                                     43|\n|                  93000.0|                                     32|                                     32|\n|                 135000.0|                                     27|                                     27|\n|                 105000.0|                                     30|                                     30|\n|                 130500.0|                                     41|                                     41|\n|                  87000.0|                                     29|                                     29|\n+-------------------------+---------------------------------------+---------------------------------------+\n\n"
     ]
    }
   ],
   "source": [
    "df.select(\n",
    "    df.salary+ 0.5 * df.salary,\n",
    "    F.year(F.current_timestamp()) - F.year(\"dob\"),\n",
    "    F.year(F.current_timestamp()) - F.year(F.col(\"dob\")),\n",
    ").show()\n"
   ]
  },
  {
   "cell_type": "code",
   "execution_count": 0,
   "metadata": {
    "application/vnd.databricks.v1+cell": {
     "cellMetadata": {
      "byteLimit": 2048000,
      "rowLimit": 10000
     },
     "inputWidgets": {},
     "nuid": "2408fec1-ab3f-4989-a66c-bc7874600f20",
     "showTitle": true,
     "title": "Alias, Select and Expr"
    }
   },
   "outputs": [
    {
     "output_type": "stream",
     "name": "stdout",
     "output_type": "stream",
     "text": [
      "+-------------------------+-------------------------+------------+----+\n|(salary + (salary * 0.5))|(salary + (salary * 0.5))|salary_raise| age|\n+-------------------------+-------------------------+------------+----+\n|                 105000.0|                 105000.0|    73500.00|  32|\n|                  97500.0|                  97500.0|    68250.00|  30|\n|                  90000.0|                  90000.0|    63000.00|  27|\n|                 120000.0|                 120000.0|    84000.00|null|\n|                 112500.0|                 112500.0|    78750.00|  35|\n|                 142500.0|                 142500.0|    99750.00|  48|\n|                 135000.0|                 135000.0|    94500.00|  43|\n|                  93000.0|                  93000.0|    65100.00|  32|\n|                 135000.0|                 135000.0|    94500.00|  27|\n|                 105000.0|                 105000.0|    73500.00|  30|\n|                 130500.0|                 130500.0|    91350.00|  41|\n|                  87000.0|                  87000.0|    60900.00|  29|\n+-------------------------+-------------------------+------------+----+\n\n"
     ]
    }
   ],
   "source": [
    "df.select(\n",
    "    df.salary+ 0.5 * df.salary,\n",
    "    (df.salary+ 0.5 * df.salary),\n",
    "  F.expr(\"salary + .05 * salary\").alias(\"salary_raise\"),\n",
    "  (F.year(F.current_timestamp())- F.year (F.col (\"dob\"))).alias (\"age\")\n",
    ").show()\n"
   ]
  },
  {
   "cell_type": "code",
   "execution_count": 0,
   "metadata": {
    "application/vnd.databricks.v1+cell": {
     "cellMetadata": {
      "byteLimit": 2048000,
      "rowLimit": 10000
     },
     "inputWidgets": {},
     "nuid": "35087d94-3f8b-45de-9596-6f14b8e93efe",
     "showTitle": false,
     "title": ""
    }
   },
   "outputs": [
    {
     "output_type": "stream",
     "name": "stdout",
     "output_type": "stream",
     "text": [
      "+---+------+----------+----+------+----------+------------+--------------------+\n| id|  name|       dob| age|salary|department|salary_raise|salary-raise_10_perc|\n+---+------+----------+----+------+----------+------------+--------------------+\n|  1|  John|1992-05-12|  30| 70000|        IT|    105000.0|              140000|\n|  4| Emily|1994-11-22|  28| 65000|   Finance|     97500.0|              130000|\n|  2| Alice|1997-02-28|  25| 60000|        HR|     90000.0|              120000|\n|  3|   Bob|      null|null| 80000|        IT|    120000.0|              160000|\n|  6| Susan|1989-07-05|  33| 75000|   Finance|    112500.0|              150000|\n|  7|  Mike|1976-03-15|  46| 95000|        IT|    142500.0|              190000|\n|  5| David|1981-12-18|  41| 90000|        HR|    135000.0|              180000|\n| 10|Sophie|1992-06-30|  30| 62000|   Finance|     93000.0|              124000|\n|  2| Alice|1997-02-28|  25| 90000|   Finance|    135000.0|              180000|\n|  4| Emily|1994-11-22|  28| 70000|   Finance|    105000.0|              140000|\n|  9| James|1983-10-14|  39| 87000|        IT|    130500.0|              174000|\n|  8|  Lisa|1995-08-20|  27| 58000|        HR|     87000.0|              116000|\n+---+------+----------+----+------+----------+------------+--------------------+\n\n"
     ]
    }
   ],
   "source": [
    "df = df.withColumn(\n",
    "    \"salary_raise\",\n",
    "    (F.col(\"salary\") + 0.5 * F.col(\"salary\"))\n",
    ").withColumn(\n",
    "    \"salary-raise_10_perc\",\n",
    "    (F.col(\"salary\") + 1 * F.col(\"salary\"))\n",
    ")\n",
    "df.show()"
   ]
  },
  {
   "cell_type": "code",
   "execution_count": 0,
   "metadata": {
    "application/vnd.databricks.v1+cell": {
     "cellMetadata": {
      "byteLimit": 2048000,
      "rowLimit": 10000
     },
     "inputWidgets": {},
     "nuid": "2939ec9f-6f2d-4540-aec7-339bbf172577",
     "showTitle": false,
     "title": ""
    }
   },
   "outputs": [
    {
     "output_type": "stream",
     "name": "stdout",
     "output_type": "stream",
     "text": [
      "+---+------+----------+----+------+----------+------------+--------------------+--------------------+-------------------+\n| id|  name|       dob| age|salary|department|salary_raise|salary-raise_10_perc|salary_raise_10_pers|salary_raise_7_pers|\n+---+------+----------+----+------+----------+------------+--------------------+--------------------+-------------------+\n|  1|  John|1992-05-12|  30| 70000|        IT|    105000.0|              140000|             77000.0|           119000.0|\n|  4| Emily|1994-11-22|  28| 65000|   Finance|     97500.0|              130000|             71500.0|           110500.0|\n|  2| Alice|1997-02-28|  25| 60000|        HR|     90000.0|              120000|             66000.0|           102000.0|\n|  3|   Bob|      null|null| 80000|        IT|    120000.0|              160000|             88000.0|           136000.0|\n|  6| Susan|1989-07-05|  33| 75000|   Finance|    112500.0|              150000|             82500.0|           127500.0|\n|  7|  Mike|1976-03-15|  46| 95000|        IT|    142500.0|              190000|            104500.0|           161500.0|\n|  5| David|1981-12-18|  41| 90000|        HR|    135000.0|              180000|             99000.0|           153000.0|\n| 10|Sophie|1992-06-30|  30| 62000|   Finance|     93000.0|              124000|             68200.0|           105400.0|\n|  2| Alice|1997-02-28|  25| 90000|   Finance|    135000.0|              180000|             99000.0|           153000.0|\n|  4| Emily|1994-11-22|  28| 70000|   Finance|    105000.0|              140000|             77000.0|           119000.0|\n|  9| James|1983-10-14|  39| 87000|        IT|    130500.0|              174000|             95700.0|           147900.0|\n|  8|  Lisa|1995-08-20|  27| 58000|        HR|     87000.0|              116000|             63800.0|            98600.0|\n+---+------+----------+----+------+----------+------------+--------------------+--------------------+-------------------+\n\n"
     ]
    }
   ],
   "source": [
    "df = df.withColumn(\n",
    "    \"salary_raise\",\n",
    "    (F.col(\"salary\") +0.5 *F.col(\"salary\"))\n",
    ").withColumn(\n",
    "    \"salary_raise_10_pers\",\n",
    "    (F.col(\"salary\") +.1 *F.col(\"salary\"))\n",
    ").withColumn(\n",
    "    \"salary_raise_7_pers\",\n",
    "    (F.col(\"salary\") +.7 *F.col(\"salary\"))\n",
    ")\n",
    "df.show()"
   ]
  },
  {
   "cell_type": "code",
   "execution_count": 0,
   "metadata": {
    "application/vnd.databricks.v1+cell": {
     "cellMetadata": {
      "byteLimit": 2048000,
      "rowLimit": 10000
     },
     "inputWidgets": {},
     "nuid": "96e8997f-bc3a-44b3-8b4e-b58a8715ad34",
     "showTitle": false,
     "title": ""
    }
   },
   "outputs": [],
   "source": [
    "df = df.withColumn(\n",
    "    \"age_group\",\n",
    "    F.when(\n",
    "        F.col(\"age\") <=20,\n",
    "        \"Upto 20\"\n",
    "    ).when(\n",
    "        (\n",
    "            (F.col(\"age\") >20) &\n",
    "            (F.col(\"age\") <=30)\n",
    "        ),\n",
    "        \"21 to 30\"\n",
    "    ).when (\n",
    "        (\n",
    "            (F.col(\"age\") > 30) &\n",
    "            (F.col(\"age\") <= 40)\n",
    "        ),\n",
    "        \"31 to 40\"\n",
    "    ).otherwise(\n",
    "        \"More than 40\"\n",
    "    )\n",
    ")"
   ]
  },
  {
   "cell_type": "code",
   "execution_count": 0,
   "metadata": {
    "application/vnd.databricks.v1+cell": {
     "cellMetadata": {
      "byteLimit": 2048000,
      "rowLimit": 10000
     },
     "inputWidgets": {},
     "nuid": "ca30f32b-4dac-4b94-8ab3-46a82e5107dd",
     "showTitle": false,
     "title": ""
    }
   },
   "outputs": [
    {
     "output_type": "stream",
     "name": "stdout",
     "output_type": "stream",
     "text": [
      "+---+------+----------+----+------+----------+------------+--------------------+--------------------+-------------------+------------+\n| id|  name|       dob| age|salary|department|salary_raise|salary-raise_10_perc|salary_raise_10_pers|salary_raise_7_pers|   age_group|\n+---+------+----------+----+------+----------+------------+--------------------+--------------------+-------------------+------------+\n|  1|  John|1992-05-12|  30| 70000|        IT|    105000.0|              140000|             77000.0|           119000.0|    21 to 30|\n|  4| Emily|1994-11-22|  28| 65000|   Finance|     97500.0|              130000|             71500.0|           110500.0|    21 to 30|\n|  2| Alice|1997-02-28|  25| 60000|        HR|     90000.0|              120000|             66000.0|           102000.0|    21 to 30|\n|  3|   Bob|      null|null| 80000|        IT|    120000.0|              160000|             88000.0|           136000.0|More than 40|\n|  6| Susan|1989-07-05|  33| 75000|   Finance|    112500.0|              150000|             82500.0|           127500.0|    31 to 40|\n|  7|  Mike|1976-03-15|  46| 95000|        IT|    142500.0|              190000|            104500.0|           161500.0|More than 40|\n|  5| David|1981-12-18|  41| 90000|        HR|    135000.0|              180000|             99000.0|           153000.0|More than 40|\n| 10|Sophie|1992-06-30|  30| 62000|   Finance|     93000.0|              124000|             68200.0|           105400.0|    21 to 30|\n|  2| Alice|1997-02-28|  25| 90000|   Finance|    135000.0|              180000|             99000.0|           153000.0|    21 to 30|\n|  4| Emily|1994-11-22|  28| 70000|   Finance|    105000.0|              140000|             77000.0|           119000.0|    21 to 30|\n|  9| James|1983-10-14|  39| 87000|        IT|    130500.0|              174000|             95700.0|           147900.0|    31 to 40|\n|  8|  Lisa|1995-08-20|  27| 58000|        HR|     87000.0|              116000|             63800.0|            98600.0|    21 to 30|\n+---+------+----------+----+------+----------+------------+--------------------+--------------------+-------------------+------------+\n\n"
     ]
    }
   ],
   "source": [
    "df.show()"
   ]
  },
  {
   "cell_type": "code",
   "execution_count": 0,
   "metadata": {
    "application/vnd.databricks.v1+cell": {
     "cellMetadata": {
      "byteLimit": 2048000,
      "rowLimit": 10000
     },
     "inputWidgets": {},
     "nuid": "0c86e5c3-bcf5-45af-91ab-1e8f734952ed",
     "showTitle": false,
     "title": ""
    }
   },
   "outputs": [],
   "source": [
    "df =df.withColumns(\n",
    "    {\n",
    "        \"company\": F.lit(\"Abascus Insights\")\n",
    "    }\n",
    ")"
   ]
  },
  {
   "cell_type": "code",
   "execution_count": 0,
   "metadata": {
    "application/vnd.databricks.v1+cell": {
     "cellMetadata": {
      "byteLimit": 2048000,
      "rowLimit": 10000
     },
     "inputWidgets": {},
     "nuid": "6a444ce2-a280-48b6-a256-9baf10564266",
     "showTitle": false,
     "title": ""
    }
   },
   "outputs": [
    {
     "output_type": "stream",
     "name": "stdout",
     "output_type": "stream",
     "text": [
      "+---+------+----------+----+------+----------+------------+--------------------+--------------------+-------------------+------------+----------------+--------------------------+------------+--------+----+\n| id|  name|       dob| age|salary|department|salary_raise|salary-raise_10_perc|salary_raise_10_pers|salary_raise_7_pers|   age_group|         company|(salary + (salary * 0.05))|salary_raise|  salary| age|\n+---+------+----------+----+------+----------+------------+--------------------+--------------------+-------------------+------------+----------------+--------------------------+------------+--------+----+\n|  1|  John|1992-05-12|  30| 70000|        IT|    105000.0|              140000|             77000.0|           119000.0|    21 to 30|Abascus Insights|                   73500.0|     73500.0|73500.00|  32|\n|  4| Emily|1994-11-22|  28| 65000|   Finance|     97500.0|              130000|             71500.0|           110500.0|    21 to 30|Abascus Insights|                   68250.0|     68250.0|68250.00|  30|\n|  2| Alice|1997-02-28|  25| 60000|        HR|     90000.0|              120000|             66000.0|           102000.0|    21 to 30|Abascus Insights|                   63000.0|     63000.0|63000.00|  27|\n|  3|   Bob|      null|null| 80000|        IT|    120000.0|              160000|             88000.0|           136000.0|More than 40|Abascus Insights|                   84000.0|     84000.0|84000.00|null|\n|  6| Susan|1989-07-05|  33| 75000|   Finance|    112500.0|              150000|             82500.0|           127500.0|    31 to 40|Abascus Insights|                   78750.0|     78750.0|78750.00|  35|\n|  7|  Mike|1976-03-15|  46| 95000|        IT|    142500.0|              190000|            104500.0|           161500.0|More than 40|Abascus Insights|                   99750.0|     99750.0|99750.00|  48|\n|  5| David|1981-12-18|  41| 90000|        HR|    135000.0|              180000|             99000.0|           153000.0|More than 40|Abascus Insights|                   94500.0|     94500.0|94500.00|  43|\n| 10|Sophie|1992-06-30|  30| 62000|   Finance|     93000.0|              124000|             68200.0|           105400.0|    21 to 30|Abascus Insights|                   65100.0|     65100.0|65100.00|  32|\n|  2| Alice|1997-02-28|  25| 90000|   Finance|    135000.0|              180000|             99000.0|           153000.0|    21 to 30|Abascus Insights|                   94500.0|     94500.0|94500.00|  27|\n|  4| Emily|1994-11-22|  28| 70000|   Finance|    105000.0|              140000|             77000.0|           119000.0|    21 to 30|Abascus Insights|                   73500.0|     73500.0|73500.00|  30|\n|  9| James|1983-10-14|  39| 87000|        IT|    130500.0|              174000|             95700.0|           147900.0|    31 to 40|Abascus Insights|                   91350.0|     91350.0|91350.00|  41|\n|  8|  Lisa|1995-08-20|  27| 58000|        HR|     87000.0|              116000|             63800.0|            98600.0|    21 to 30|Abascus Insights|                   60900.0|     60900.0|60900.00|  29|\n+---+------+----------+----+------+----------+------------+--------------------+--------------------+-------------------+------------+----------------+--------------------------+------------+--------+----+\n\n"
     ]
    }
   ],
   "source": [
    "df.select(\n",
    "    # \"*\",\n",
    "    F.col(\"*\"),\n",
    "    df.salary +.05 *df.salary,\n",
    "    (df.salary +.05 *df.salary).alias(\"salary_raise\"),\n",
    "    F.expr(\"salary +.05 * salary\").alias(\"salary\"),\n",
    "    (\n",
    "        F.year(F.current_timestamp())- F.year(F.col(\"dob\"))\n",
    "    ).alias(\"age\"),\n",
    ").show()"
   ]
  },
  {
   "cell_type": "code",
   "execution_count": 0,
   "metadata": {
    "application/vnd.databricks.v1+cell": {
     "cellMetadata": {
      "byteLimit": 2048000,
      "rowLimit": 10000
     },
     "inputWidgets": {},
     "nuid": "f4472ce5-dbe1-459d-93f0-0a2074f2e4fb",
     "showTitle": false,
     "title": ""
    }
   },
   "outputs": [
    {
     "output_type": "stream",
     "name": "stdout",
     "output_type": "stream",
     "text": [
      "+--------------------------+------------+--------+----+\n|(salary + (salary * 0.05))|salary_raise|  salary| age|\n+--------------------------+------------+--------+----+\n|                   73500.0|     73500.0|73500.00|  32|\n|                   68250.0|     68250.0|68250.00|  30|\n|                   63000.0|     63000.0|63000.00|  27|\n|                   84000.0|     84000.0|84000.00|null|\n|                   78750.0|     78750.0|78750.00|  35|\n|                   99750.0|     99750.0|99750.00|  48|\n|                   94500.0|     94500.0|94500.00|  43|\n|                   65100.0|     65100.0|65100.00|  32|\n|                   94500.0|     94500.0|94500.00|  27|\n|                   73500.0|     73500.0|73500.00|  30|\n|                   91350.0|     91350.0|91350.00|  41|\n|                   60900.0|     60900.0|60900.00|  29|\n+--------------------------+------------+--------+----+\n\n"
     ]
    }
   ],
   "source": [
    "df.select(\n",
    "    df.salary +.05 *df.salary,\n",
    "    (df.salary +.05 *df.salary).alias(\"salary_raise\"),\n",
    "    F.expr(\"salary +.05 * salary\").alias(\"salary\"),\n",
    "    (\n",
    "        F.year(F.current_timestamp())- F.year(F.col(\"dob\"))\n",
    "    ).alias(\"age\"),\n",
    ").show()"
   ]
  },
  {
   "cell_type": "code",
   "execution_count": 0,
   "metadata": {
    "application/vnd.databricks.v1+cell": {
     "cellMetadata": {
      "byteLimit": 2048000,
      "rowLimit": 10000
     },
     "inputWidgets": {},
     "nuid": "08f56154-8687-463e-af88-5b46192ea7ef",
     "showTitle": true,
     "title": "With Column"
    }
   },
   "outputs": [
    {
     "output_type": "stream",
     "name": "stdout",
     "output_type": "stream",
     "text": [
      "+---+------+----------+----+------+----------+------------+--------------------+--------------------+-------------------+------------+----------------+\n| id|  name|       dob| age|salary|department|salary_raise|salary-raise_10_perc|salary_raise_10_pers|salary_raise_7_pers|   age_group|         company|\n+---+------+----------+----+------+----------+------------+--------------------+--------------------+-------------------+------------+----------------+\n|  1|  John|1992-05-12|  30| 70000|        IT|    105000.0|              140000|             77000.0|           119000.0|    21 to 30|Abascus Insights|\n|  4| Emily|1994-11-22|  28| 65000|   Finance|     97500.0|              130000|             71500.0|           110500.0|    21 to 30|Abascus Insights|\n|  2| Alice|1997-02-28|  25| 60000|        HR|     90000.0|              120000|             66000.0|           102000.0|    21 to 30|Abascus Insights|\n|  3|   Bob|      null|null| 80000|        IT|    120000.0|              160000|             88000.0|           136000.0|More than 40|Abascus Insights|\n|  6| Susan|1989-07-05|  33| 75000|   Finance|    112500.0|              150000|             82500.0|           127500.0|    31 to 40|Abascus Insights|\n|  7|  Mike|1976-03-15|  46| 95000|        IT|    142500.0|              190000|            104500.0|           161500.0|More than 40|Abascus Insights|\n|  5| David|1981-12-18|  41| 90000|        HR|    135000.0|              180000|             99000.0|           153000.0|More than 40|Abascus Insights|\n| 10|Sophie|1992-06-30|  30| 62000|   Finance|     93000.0|              124000|             68200.0|           105400.0|    21 to 30|Abascus Insights|\n|  2| Alice|1997-02-28|  25| 90000|   Finance|    135000.0|              180000|             99000.0|           153000.0|    21 to 30|Abascus Insights|\n|  4| Emily|1994-11-22|  28| 70000|   Finance|    105000.0|              140000|             77000.0|           119000.0|    21 to 30|Abascus Insights|\n|  9| James|1983-10-14|  39| 87000|        IT|    130500.0|              174000|             95700.0|           147900.0|    31 to 40|Abascus Insights|\n|  8|  Lisa|1995-08-20|  27| 58000|        HR|     87000.0|              116000|             63800.0|            98600.0|    21 to 30|Abascus Insights|\n+---+------+----------+----+------+----------+------------+--------------------+--------------------+-------------------+------------+----------------+\n\n"
     ]
    }
   ],
   "source": [
    "df = df.withColumn(\n",
    "    \"salary_raise\",\n",
    "    (F.col(\"salary\") +0.5 *F.col(\"salary\"))\n",
    ").withColumn(\n",
    "    \"salary_raise_10_pers\",\n",
    "    (F.col(\"salary\") +.1 *F.col(\"salary\"))\n",
    ").withColumn(\n",
    "    \"salary_raise_7_pers\",\n",
    "    (F.col(\"salary\") +.7 *F.col(\"salary\"))\n",
    ")\n",
    "df.show()"
   ]
  },
  {
   "cell_type": "code",
   "execution_count": 0,
   "metadata": {
    "application/vnd.databricks.v1+cell": {
     "cellMetadata": {
      "byteLimit": 2048000,
      "rowLimit": 10000
     },
     "inputWidgets": {},
     "nuid": "27fe4aab-2203-4887-8298-0e2221fe05a5",
     "showTitle": true,
     "title": ""
    }
   },
   "outputs": [
    {
     "output_type": "stream",
     "name": "stdout",
     "output_type": "stream",
     "text": [
      "+---+------+----------+----+------+----------+------------+--------------------+--------------------+-------------------+------------+----------------+\n| id|  name|       dob| age|salary|department|salary_raise|salary-raise_10_perc|salary_raise_10_pers|salary_raise_7_pers|   age_group|         company|\n+---+------+----------+----+------+----------+------------+--------------------+--------------------+-------------------+------------+----------------+\n|  1|  John|1992-05-12|  30| 70000|        IT|    105000.0|              140000|             77000.0|           119000.0|    21 to 30|Abascus Insights|\n|  4| Emily|1994-11-22|  28| 65000|   Finance|     97500.0|              130000|             71500.0|           110500.0|    21 to 30|Abascus Insights|\n|  2| Alice|1997-02-28|  25| 60000|        HR|     90000.0|              120000|             66000.0|           102000.0|    21 to 30|Abascus Insights|\n|  3|   Bob|      null|null| 80000|        IT|    120000.0|              160000|             88000.0|           136000.0|More than 40|Abascus Insights|\n|  6| Susan|1989-07-05|  33| 75000|   Finance|    112500.0|              150000|             82500.0|           127500.0|    31 to 40|Abascus Insights|\n|  7|  Mike|1976-03-15|  46| 95000|        IT|    142500.0|              190000|            104500.0|           161500.0|More than 40|Abascus Insights|\n|  5| David|1981-12-18|  41| 90000|        HR|    135000.0|              180000|             99000.0|           153000.0|More than 40|Abascus Insights|\n| 10|Sophie|1992-06-30|  30| 62000|   Finance|     93000.0|              124000|             68200.0|           105400.0|    21 to 30|Abascus Insights|\n|  2| Alice|1997-02-28|  25| 90000|   Finance|    135000.0|              180000|             99000.0|           153000.0|    21 to 30|Abascus Insights|\n|  4| Emily|1994-11-22|  28| 70000|   Finance|    105000.0|              140000|             77000.0|           119000.0|    21 to 30|Abascus Insights|\n|  9| James|1983-10-14|  39| 87000|        IT|    130500.0|              174000|             95700.0|           147900.0|    31 to 40|Abascus Insights|\n|  8|  Lisa|1995-08-20|  27| 58000|        HR|     87000.0|              116000|             63800.0|            98600.0|    21 to 30|Abascus Insights|\n+---+------+----------+----+------+----------+------------+--------------------+--------------------+-------------------+------------+----------------+\n\n"
     ]
    }
   ],
   "source": [
    "df = df.withColumn(\n",
    "    \"salary_raise\",\n",
    "    (F.col(\"salary\") +0.5 *F.col(\"salary\"))\n",
    ").withColumn(\n",
    "    \"salary_raise_10_pers\",\n",
    "    (F.col(\"salary\") +.1 *F.col(\"salary\"))\n",
    ").withColumn(\n",
    "    \"salary_raise_7_pers\",\n",
    "    (F.col(\"salary\") +.7 *F.col(\"salary\"))\n",
    ")\n",
    "df.show()"
   ]
  },
  {
   "cell_type": "code",
   "execution_count": 0,
   "metadata": {
    "application/vnd.databricks.v1+cell": {
     "cellMetadata": {
      "byteLimit": 2048000,
      "rowLimit": 10000
     },
     "inputWidgets": {},
     "nuid": "1ace43fa-8058-44ba-9321-e2ed32a6206f",
     "showTitle": false,
     "title": ""
    }
   },
   "outputs": [],
   "source": [
    "\n",
    "df = df.withColumns(\n",
    "    {\n",
    "        \"salary_raise\": F.col(\"salary\") + .05*F.col(\"salary\"),\n",
    "        \"age\":   F.year(F.current_timestamp())- F.year(F.col(\"dob\"))\n",
    "    }\n",
    ")"
   ]
  },
  {
   "cell_type": "code",
   "execution_count": 0,
   "metadata": {
    "application/vnd.databricks.v1+cell": {
     "cellMetadata": {
      "byteLimit": 2048000,
      "rowLimit": 10000
     },
     "inputWidgets": {},
     "nuid": "966e1500-32c5-493a-8f71-482b7823dcbc",
     "showTitle": false,
     "title": ""
    }
   },
   "outputs": [
    {
     "output_type": "stream",
     "name": "stdout",
     "output_type": "stream",
     "text": [
      "+---+------+----------+----+------+----------+------------+--------------------+--------------------+-------------------+------------+----------------+\n| id|  name|       dob| age|salary|department|salary_raise|salary-raise_10_perc|salary_raise_10_pers|salary_raise_7_pers|   age_group|         company|\n+---+------+----------+----+------+----------+------------+--------------------+--------------------+-------------------+------------+----------------+\n|  1|  John|1992-05-12|  32| 70000|        IT|     73500.0|              140000|             77000.0|           119000.0|    21 to 30|Abascus Insights|\n|  4| Emily|1994-11-22|  30| 65000|   Finance|     68250.0|              130000|             71500.0|           110500.0|    21 to 30|Abascus Insights|\n|  2| Alice|1997-02-28|  27| 60000|        HR|     63000.0|              120000|             66000.0|           102000.0|    21 to 30|Abascus Insights|\n|  3|   Bob|      null|null| 80000|        IT|     84000.0|              160000|             88000.0|           136000.0|More than 40|Abascus Insights|\n|  6| Susan|1989-07-05|  35| 75000|   Finance|     78750.0|              150000|             82500.0|           127500.0|    31 to 40|Abascus Insights|\n|  7|  Mike|1976-03-15|  48| 95000|        IT|     99750.0|              190000|            104500.0|           161500.0|More than 40|Abascus Insights|\n|  5| David|1981-12-18|  43| 90000|        HR|     94500.0|              180000|             99000.0|           153000.0|More than 40|Abascus Insights|\n| 10|Sophie|1992-06-30|  32| 62000|   Finance|     65100.0|              124000|             68200.0|           105400.0|    21 to 30|Abascus Insights|\n|  2| Alice|1997-02-28|  27| 90000|   Finance|     94500.0|              180000|             99000.0|           153000.0|    21 to 30|Abascus Insights|\n|  4| Emily|1994-11-22|  30| 70000|   Finance|     73500.0|              140000|             77000.0|           119000.0|    21 to 30|Abascus Insights|\n|  9| James|1983-10-14|  41| 87000|        IT|     91350.0|              174000|             95700.0|           147900.0|    31 to 40|Abascus Insights|\n|  8|  Lisa|1995-08-20|  29| 58000|        HR|     60900.0|              116000|             63800.0|            98600.0|    21 to 30|Abascus Insights|\n+---+------+----------+----+------+----------+------------+--------------------+--------------------+-------------------+------------+----------------+\n\n"
     ]
    }
   ],
   "source": [
    "df.show()"
   ]
  },
  {
   "cell_type": "code",
   "execution_count": 0,
   "metadata": {
    "application/vnd.databricks.v1+cell": {
     "cellMetadata": {
      "byteLimit": 2048000,
      "rowLimit": 10000
     },
     "inputWidgets": {},
     "nuid": "638525ee-af01-4c84-837c-91bd5d30f777",
     "showTitle": true,
     "title": "Filter"
    }
   },
   "outputs": [
    {
     "output_type": "stream",
     "name": "stdout",
     "output_type": "stream",
     "text": [
      "+---+-----+----------+----+------+----------+------------+--------------------+--------------------+-------------------+------------+----------------+\n| id| name|       dob| age|salary|department|salary_raise|salary-raise_10_perc|salary_raise_10_pers|salary_raise_7_pers|   age_group|         company|\n+---+-----+----------+----+------+----------+------------+--------------------+--------------------+-------------------+------------+----------------+\n|  3|  Bob|      null|null| 80000|        IT|     84000.0|              160000|             88000.0|           136000.0|More than 40|Abascus Insights|\n|  6|Susan|1989-07-05|  35| 75000|   Finance|     78750.0|              150000|             82500.0|           127500.0|    31 to 40|Abascus Insights|\n|  7| Mike|1976-03-15|  48| 95000|        IT|     99750.0|              190000|            104500.0|           161500.0|More than 40|Abascus Insights|\n|  5|David|1981-12-18|  43| 90000|        HR|     94500.0|              180000|             99000.0|           153000.0|More than 40|Abascus Insights|\n|  2|Alice|1997-02-28|  27| 90000|   Finance|     94500.0|              180000|             99000.0|           153000.0|    21 to 30|Abascus Insights|\n|  9|James|1983-10-14|  41| 87000|        IT|     91350.0|              174000|             95700.0|           147900.0|    31 to 40|Abascus Insights|\n+---+-----+----------+----+------+----------+------------+--------------------+--------------------+-------------------+------------+----------------+\n\n"
     ]
    }
   ],
   "source": [
    "df.filter(\n",
    "    F.col(\"salary_raise\")>=75000\n",
    ").show()"
   ]
  },
  {
   "cell_type": "code",
   "execution_count": 0,
   "metadata": {
    "application/vnd.databricks.v1+cell": {
     "cellMetadata": {
      "byteLimit": 2048000,
      "rowLimit": 10000
     },
     "inputWidgets": {},
     "nuid": "d135dee9-c923-4b3d-b0bf-57888d8d7be1",
     "showTitle": false,
     "title": ""
    }
   },
   "outputs": [
    {
     "output_type": "stream",
     "name": "stdout",
     "output_type": "stream",
     "text": [
      "+---+-----+----------+----+------+----------+------------+--------------------+--------------------+-------------------+------------+----------------+\n| id| name|       dob| age|salary|department|salary_raise|salary-raise_10_perc|salary_raise_10_pers|salary_raise_7_pers|   age_group|         company|\n+---+-----+----------+----+------+----------+------------+--------------------+--------------------+-------------------+------------+----------------+\n|  3|  Bob|      null|null| 80000|        IT|     84000.0|              160000|             88000.0|           136000.0|More than 40|Abascus Insights|\n|  6|Susan|1989-07-05|  35| 75000|   Finance|     78750.0|              150000|             82500.0|           127500.0|    31 to 40|Abascus Insights|\n|  7| Mike|1976-03-15|  48| 95000|        IT|     99750.0|              190000|            104500.0|           161500.0|More than 40|Abascus Insights|\n|  5|David|1981-12-18|  43| 90000|        HR|     94500.0|              180000|             99000.0|           153000.0|More than 40|Abascus Insights|\n|  2|Alice|1997-02-28|  27| 90000|   Finance|     94500.0|              180000|             99000.0|           153000.0|    21 to 30|Abascus Insights|\n|  9|James|1983-10-14|  41| 87000|        IT|     91350.0|              174000|             95700.0|           147900.0|    31 to 40|Abascus Insights|\n+---+-----+----------+----+------+----------+------------+--------------------+--------------------+-------------------+------------+----------------+\n\n"
     ]
    }
   ],
   "source": [
    "\n",
    "df.where(\n",
    "    F.col(\"salary_raise\")>=75000\n",
    ").show()"
   ]
  },
  {
   "cell_type": "code",
   "execution_count": 0,
   "metadata": {
    "application/vnd.databricks.v1+cell": {
     "cellMetadata": {
      "byteLimit": 2048000,
      "rowLimit": 10000
     },
     "inputWidgets": {},
     "nuid": "395441c6-51ba-4549-85d3-8b0d398bc69e",
     "showTitle": false,
     "title": ""
    }
   },
   "outputs": [],
   "source": [
    "df = df.withColumn(\n",
    "    \"age_group\",\n",
    "    F.when(\n",
    "        F.col(\"age\") <=20,\n",
    "        \"Upto 20\"\n",
    "    ).when(\n",
    "        (\n",
    "            (F.col(\"age\") >20) &\n",
    "            (F.col(\"age\") <=30)\n",
    "        ),\n",
    "        \"21 to 30\"\n",
    "    ).when (\n",
    "        (\n",
    "            (F.col(\"age\") > 30) &\n",
    "            (F.col(\"age\") <= 40)\n",
    "        ),\n",
    "        \"31 to 40\"\n",
    "    ).otherwise(\n",
    "        \"More than 40\"\n",
    "    )\n",
    ")"
   ]
  },
  {
   "cell_type": "code",
   "execution_count": 0,
   "metadata": {
    "application/vnd.databricks.v1+cell": {
     "cellMetadata": {
      "byteLimit": 2048000,
      "rowLimit": 10000
     },
     "inputWidgets": {},
     "nuid": "1193efc1-b890-4300-8f80-5da314acfcfb",
     "showTitle": false,
     "title": ""
    }
   },
   "outputs": [],
   "source": [
    "df = df.withColumn(\n",
    "    \"age_group\",\n",
    "    F.when(\n",
    "        F.col(\"age\") <=20,\n",
    "        \"Upto 20\"\n",
    "    ).when(\n",
    "        (\n",
    "            (F.col(\"age\") >20) &\n",
    "            (F.col(\"age\") <=30)\n",
    "        ),\n",
    "        \"21 to 30\"\n",
    "    ).when (\n",
    "        (\n",
    "            (F.col(\"age\") > 30) &\n",
    "            (F.col(\"age\") <= 40)\n",
    "        ),\n",
    "        F.col(\"name\") #col value can be assign instead of contant value\n",
    "    ).otherwise(\n",
    "        \"More than 40\"\n",
    "    )\n",
    ")"
   ]
  },
  {
   "cell_type": "code",
   "execution_count": 0,
   "metadata": {
    "application/vnd.databricks.v1+cell": {
     "cellMetadata": {
      "byteLimit": 2048000,
      "rowLimit": 10000
     },
     "inputWidgets": {},
     "nuid": "88bdb2e1-c5cb-4e6e-a6bc-cf9817616970",
     "showTitle": false,
     "title": ""
    }
   },
   "outputs": [
    {
     "output_type": "stream",
     "name": "stdout",
     "output_type": "stream",
     "text": [
      "+---+------+----------+----+------+----------+------------+--------------------+--------------------+-------------------+------------+----------------+\n| id|  name|       dob| age|salary|department|salary_raise|salary-raise_10_perc|salary_raise_10_pers|salary_raise_7_pers|   age_group|         company|\n+---+------+----------+----+------+----------+------------+--------------------+--------------------+-------------------+------------+----------------+\n|  1|  John|1992-05-12|  32| 70000|        IT|     73500.0|              140000|             77000.0|           119000.0|        John|Abascus Insights|\n|  4| Emily|1994-11-22|  30| 65000|   Finance|     68250.0|              130000|             71500.0|           110500.0|    21 to 30|Abascus Insights|\n|  2| Alice|1997-02-28|  27| 60000|        HR|     63000.0|              120000|             66000.0|           102000.0|    21 to 30|Abascus Insights|\n|  3|   Bob|      null|null| 80000|        IT|     84000.0|              160000|             88000.0|           136000.0|More than 40|Abascus Insights|\n|  6| Susan|1989-07-05|  35| 75000|   Finance|     78750.0|              150000|             82500.0|           127500.0|       Susan|Abascus Insights|\n|  7|  Mike|1976-03-15|  48| 95000|        IT|     99750.0|              190000|            104500.0|           161500.0|More than 40|Abascus Insights|\n|  5| David|1981-12-18|  43| 90000|        HR|     94500.0|              180000|             99000.0|           153000.0|More than 40|Abascus Insights|\n| 10|Sophie|1992-06-30|  32| 62000|   Finance|     65100.0|              124000|             68200.0|           105400.0|      Sophie|Abascus Insights|\n|  2| Alice|1997-02-28|  27| 90000|   Finance|     94500.0|              180000|             99000.0|           153000.0|    21 to 30|Abascus Insights|\n|  4| Emily|1994-11-22|  30| 70000|   Finance|     73500.0|              140000|             77000.0|           119000.0|    21 to 30|Abascus Insights|\n|  9| James|1983-10-14|  41| 87000|        IT|     91350.0|              174000|             95700.0|           147900.0|More than 40|Abascus Insights|\n|  8|  Lisa|1995-08-20|  29| 58000|        HR|     60900.0|              116000|             63800.0|            98600.0|    21 to 30|Abascus Insights|\n+---+------+----------+----+------+----------+------------+--------------------+--------------------+-------------------+------------+----------------+\n\n"
     ]
    }
   ],
   "source": [
    "df.show()"
   ]
  },
  {
   "cell_type": "code",
   "execution_count": 0,
   "metadata": {
    "application/vnd.databricks.v1+cell": {
     "cellMetadata": {
      "byteLimit": 2048000,
      "rowLimit": 10000
     },
     "inputWidgets": {},
     "nuid": "119e0aa4-7a77-4905-a751-6f3d065c012c",
     "showTitle": false,
     "title": ""
    }
   },
   "outputs": [
    {
     "output_type": "display_data",
     "data": {
      "text/html": [
       "<style scoped>\n",
       "  .ansiout {\n",
       "    display: block;\n",
       "    unicode-bidi: embed;\n",
       "    white-space: pre-wrap;\n",
       "    word-wrap: break-word;\n",
       "    word-break: break-all;\n",
       "    font-family: \"Menlo\", \"Monaco\", \"Consolas\", \"Ubuntu Mono\", \"Source Code Pro\", monospace;\n",
       "    font-size: 13px;\n",
       "    color: #555;\n",
       "    margin-left: 4px;\n",
       "    line-height: 19px;\n",
       "  }\n",
       "</style>"
      ]
     },
     "metadata": {
      "application/vnd.databricks.v1+output": {
       "arguments": {},
       "data": "",
       "errorSummary": "Command skipped",
       "errorTraceType": "html",
       "metadata": {},
       "type": "ipynbError"
      }
     },
     "output_type": "display_data"
    }
   ],
   "source": [
    "# lit\n"
   ]
  },
  {
   "cell_type": "code",
   "execution_count": 0,
   "metadata": {
    "application/vnd.databricks.v1+cell": {
     "cellMetadata": {
      "byteLimit": 2048000,
      "rowLimit": 10000
     },
     "inputWidgets": {},
     "nuid": "c5d7b84d-fff7-4fdd-99af-ac91789612b5",
     "showTitle": false,
     "title": ""
    }
   },
   "outputs": [
    {
     "output_type": "stream",
     "name": "stdout",
     "output_type": "stream",
     "text": [
      "+---+------+----------+----+------+----------+------------+--------------------+--------------------+-------------------+------------+----------------+\n| id|  name|       dob| age|salary|department|salary_raise|salary-raise_10_perc|salary_raise_10_pers|salary_raise_7_pers|   age_group|         company|\n+---+------+----------+----+------+----------+------------+--------------------+--------------------+-------------------+------------+----------------+\n|  1|  John|1992-05-12|  32| 70000|        IT|     73500.0|              140000|             77000.0|           119000.0|        John|Abascus Insights|\n|  4| Emily|1994-11-22|  30| 65000|   Finance|     68250.0|              130000|             71500.0|           110500.0|    21 to 30|Abascus Insights|\n|  2| Alice|1997-02-28|  27| 60000|        HR|     63000.0|              120000|             66000.0|           102000.0|    21 to 30|Abascus Insights|\n|  3|   Bob|      null|null| 80000|        IT|     84000.0|              160000|             88000.0|           136000.0|More than 40|Abascus Insights|\n|  6| Susan|1989-07-05|  35| 75000|   Finance|     78750.0|              150000|             82500.0|           127500.0|       Susan|Abascus Insights|\n|  7|  Mike|1976-03-15|  48| 95000|        IT|     99750.0|              190000|            104500.0|           161500.0|More than 40|Abascus Insights|\n|  5| David|1981-12-18|  43| 90000|        HR|     94500.0|              180000|             99000.0|           153000.0|More than 40|Abascus Insights|\n| 10|Sophie|1992-06-30|  32| 62000|   Finance|     65100.0|              124000|             68200.0|           105400.0|      Sophie|Abascus Insights|\n|  2| Alice|1997-02-28|  27| 90000|   Finance|     94500.0|              180000|             99000.0|           153000.0|    21 to 30|Abascus Insights|\n|  4| Emily|1994-11-22|  30| 70000|   Finance|     73500.0|              140000|             77000.0|           119000.0|    21 to 30|Abascus Insights|\n|  9| James|1983-10-14|  41| 87000|        IT|     91350.0|              174000|             95700.0|           147900.0|More than 40|Abascus Insights|\n|  8|  Lisa|1995-08-20|  29| 58000|        HR|     60900.0|              116000|             63800.0|            98600.0|    21 to 30|Abascus Insights|\n+---+------+----------+----+------+----------+------------+--------------------+--------------------+-------------------+------------+----------------+\n\n"
     ]
    }
   ],
   "source": [
    "df.withColumns(\n",
    "    {\n",
    "        \"company\": F.lit(\"Abascus Insights\")\n",
    "    }\n",
    ").show()"
   ]
  },
  {
   "cell_type": "code",
   "execution_count": 0,
   "metadata": {
    "application/vnd.databricks.v1+cell": {
     "cellMetadata": {
      "byteLimit": 2048000,
      "rowLimit": 10000
     },
     "inputWidgets": {},
     "nuid": "5dbc76d4-e23d-43be-b3c0-015eec62a97b",
     "showTitle": true,
     "title": "Coalesce (For null values)"
    }
   },
   "outputs": [],
   "source": [
    "df = df.withColumns(\n",
    "    {\n",
    "        \"age\": F.coalesce(\n",
    "            F.year(F.current_timestamp()) -F.year(F.col(\"dob\")),\n",
    "            F.lit(-1),\n",
    "        ),\n",
    "        \"has_dob_1\" :~(F.isnull(\"dob\")),\n",
    "        \"has_dob_2\" : F.col(\"dob\").isNotNull(),\n",
    "    }\n",
    ")"
   ]
  },
  {
   "cell_type": "code",
   "execution_count": 0,
   "metadata": {
    "application/vnd.databricks.v1+cell": {
     "cellMetadata": {
      "byteLimit": 2048000,
      "rowLimit": 10000
     },
     "inputWidgets": {},
     "nuid": "fbeb1616-0eae-4c48-be52-1f57eeb018e4",
     "showTitle": true,
     "title": ""
    }
   },
   "outputs": [
    {
     "output_type": "stream",
     "name": "stdout",
     "output_type": "stream",
     "text": [
      "+---+------+----------+---+------+----------+------------+--------------------+--------------------+-------------------+------------+----------------+---------+---------+\n| id|  name|       dob|age|salary|department|salary_raise|salary-raise_10_perc|salary_raise_10_pers|salary_raise_7_pers|   age_group|         company|has_dob_1|has_dob_2|\n+---+------+----------+---+------+----------+------------+--------------------+--------------------+-------------------+------------+----------------+---------+---------+\n|  1|  John|1992-05-12| 32| 70000|        IT|     73500.0|              140000|             77000.0|           119000.0|        John|Abascus Insights|     true|     true|\n|  4| Emily|1994-11-22| 30| 65000|   Finance|     68250.0|              130000|             71500.0|           110500.0|    21 to 30|Abascus Insights|     true|     true|\n|  2| Alice|1997-02-28| 27| 60000|        HR|     63000.0|              120000|             66000.0|           102000.0|    21 to 30|Abascus Insights|     true|     true|\n|  3|   Bob|      null| -1| 80000|        IT|     84000.0|              160000|             88000.0|           136000.0|More than 40|Abascus Insights|    false|    false|\n|  6| Susan|1989-07-05| 35| 75000|   Finance|     78750.0|              150000|             82500.0|           127500.0|       Susan|Abascus Insights|     true|     true|\n|  7|  Mike|1976-03-15| 48| 95000|        IT|     99750.0|              190000|            104500.0|           161500.0|More than 40|Abascus Insights|     true|     true|\n|  5| David|1981-12-18| 43| 90000|        HR|     94500.0|              180000|             99000.0|           153000.0|More than 40|Abascus Insights|     true|     true|\n| 10|Sophie|1992-06-30| 32| 62000|   Finance|     65100.0|              124000|             68200.0|           105400.0|      Sophie|Abascus Insights|     true|     true|\n|  2| Alice|1997-02-28| 27| 90000|   Finance|     94500.0|              180000|             99000.0|           153000.0|    21 to 30|Abascus Insights|     true|     true|\n|  4| Emily|1994-11-22| 30| 70000|   Finance|     73500.0|              140000|             77000.0|           119000.0|    21 to 30|Abascus Insights|     true|     true|\n|  9| James|1983-10-14| 41| 87000|        IT|     91350.0|              174000|             95700.0|           147900.0|More than 40|Abascus Insights|     true|     true|\n|  8|  Lisa|1995-08-20| 29| 58000|        HR|     60900.0|              116000|             63800.0|            98600.0|    21 to 30|Abascus Insights|     true|     true|\n+---+------+----------+---+------+----------+------------+--------------------+--------------------+-------------------+------------+----------------+---------+---------+\n\n"
     ]
    }
   ],
   "source": [
    "df.show()"
   ]
  },
  {
   "cell_type": "code",
   "execution_count": 0,
   "metadata": {
    "application/vnd.databricks.v1+cell": {
     "cellMetadata": {
      "byteLimit": 2048000,
      "rowLimit": 10000
     },
     "inputWidgets": {},
     "nuid": "f60ac8cf-4e2a-4af7-9672-ffa69f4e6932",
     "showTitle": false,
     "title": ""
    }
   },
   "outputs": [],
   "source": [
    "df = df.drop (\"company\", \"has_dob_2\")"
   ]
  },
  {
   "cell_type": "code",
   "execution_count": 0,
   "metadata": {
    "application/vnd.databricks.v1+cell": {
     "cellMetadata": {
      "byteLimit": 2048000,
      "rowLimit": 10000
     },
     "inputWidgets": {},
     "nuid": "3631eaf7-97f0-476f-82f1-3cc31d9669a8",
     "showTitle": false,
     "title": ""
    }
   },
   "outputs": [
    {
     "output_type": "stream",
     "name": "stdout",
     "output_type": "stream",
     "text": [
      "+---+------+----------+---+------+----------+------------+--------------------+--------------------+-------------------+------------+---------+\n| id|  name|       dob|age|salary|department|salary_raise|salary-raise_10_perc|salary_raise_10_pers|salary_raise_7_pers|   age_group|has_dob_1|\n+---+------+----------+---+------+----------+------------+--------------------+--------------------+-------------------+------------+---------+\n|  1|  John|1992-05-12| 32| 70000|        IT|     73500.0|              140000|             77000.0|           119000.0|        John|     true|\n|  4| Emily|1994-11-22| 30| 65000|   Finance|     68250.0|              130000|             71500.0|           110500.0|    21 to 30|     true|\n|  2| Alice|1997-02-28| 27| 60000|        HR|     63000.0|              120000|             66000.0|           102000.0|    21 to 30|     true|\n|  3|   Bob|      null| -1| 80000|        IT|     84000.0|              160000|             88000.0|           136000.0|More than 40|    false|\n|  6| Susan|1989-07-05| 35| 75000|   Finance|     78750.0|              150000|             82500.0|           127500.0|       Susan|     true|\n|  7|  Mike|1976-03-15| 48| 95000|        IT|     99750.0|              190000|            104500.0|           161500.0|More than 40|     true|\n|  5| David|1981-12-18| 43| 90000|        HR|     94500.0|              180000|             99000.0|           153000.0|More than 40|     true|\n| 10|Sophie|1992-06-30| 32| 62000|   Finance|     65100.0|              124000|             68200.0|           105400.0|      Sophie|     true|\n|  2| Alice|1997-02-28| 27| 90000|   Finance|     94500.0|              180000|             99000.0|           153000.0|    21 to 30|     true|\n|  4| Emily|1994-11-22| 30| 70000|   Finance|     73500.0|              140000|             77000.0|           119000.0|    21 to 30|     true|\n|  9| James|1983-10-14| 41| 87000|        IT|     91350.0|              174000|             95700.0|           147900.0|More than 40|     true|\n|  8|  Lisa|1995-08-20| 29| 58000|        HR|     60900.0|              116000|             63800.0|            98600.0|    21 to 30|     true|\n+---+------+----------+---+------+----------+------------+--------------------+--------------------+-------------------+------------+---------+\n\n"
     ]
    }
   ],
   "source": [
    "df.show()"
   ]
  },
  {
   "cell_type": "code",
   "execution_count": 0,
   "metadata": {
    "application/vnd.databricks.v1+cell": {
     "cellMetadata": {
      "byteLimit": 2048000,
      "rowLimit": 10000
     },
     "inputWidgets": {},
     "nuid": "082d90fb-8160-4b76-acd8-e29330bbad22",
     "showTitle": false,
     "title": ""
    }
   },
   "outputs": [
    {
     "output_type": "display_data",
     "data": {
      "text/html": [
       "<style scoped>\n",
       "  .ansiout {\n",
       "    display: block;\n",
       "    unicode-bidi: embed;\n",
       "    white-space: pre-wrap;\n",
       "    word-wrap: break-word;\n",
       "    word-break: break-all;\n",
       "    font-family: \"Menlo\", \"Monaco\", \"Consolas\", \"Ubuntu Mono\", \"Source Code Pro\", monospace;\n",
       "    font-size: 13px;\n",
       "    color: #555;\n",
       "    margin-left: 4px;\n",
       "    line-height: 19px;\n",
       "  }\n",
       "</style>"
      ]
     },
     "metadata": {
      "application/vnd.databricks.v1+output": {
       "arguments": {},
       "data": "",
       "errorSummary": "Command skipped",
       "errorTraceType": "html",
       "metadata": {},
       "type": "ipynbError"
      }
     },
     "output_type": "display_data"
    }
   ],
   "source": [
    "# With Column Renamed"
   ]
  },
  {
   "cell_type": "code",
   "execution_count": 0,
   "metadata": {
    "application/vnd.databricks.v1+cell": {
     "cellMetadata": {
      "byteLimit": 2048000,
      "rowLimit": 10000
     },
     "inputWidgets": {},
     "nuid": "0c477656-a10c-4f20-8c8a-67601d7f4edf",
     "showTitle": false,
     "title": ""
    }
   },
   "outputs": [],
   "source": [
    "df = df.withColumnRenamed(\"name\",\"first_name\")"
   ]
  },
  {
   "cell_type": "code",
   "execution_count": 0,
   "metadata": {
    "application/vnd.databricks.v1+cell": {
     "cellMetadata": {
      "byteLimit": 2048000,
      "rowLimit": 10000
     },
     "inputWidgets": {},
     "nuid": "0682e913-dd63-4b2c-933b-371bdbf5120e",
     "showTitle": false,
     "title": ""
    }
   },
   "outputs": [
    {
     "output_type": "stream",
     "name": "stdout",
     "output_type": "stream",
     "text": [
      "+---+----------+----------+---+------+----------+------------+--------------------+--------------------+-------------------+------------+---------+\n| id|first_name|       dob|age|salary|department|salary_raise|salary-raise_10_perc|salary_raise_10_pers|salary_raise_7_pers|   age_group|has_dob_1|\n+---+----------+----------+---+------+----------+------------+--------------------+--------------------+-------------------+------------+---------+\n|  1|      John|1992-05-12| 32| 70000|        IT|     73500.0|              140000|             77000.0|           119000.0|        John|     true|\n|  4|     Emily|1994-11-22| 30| 65000|   Finance|     68250.0|              130000|             71500.0|           110500.0|    21 to 30|     true|\n|  2|     Alice|1997-02-28| 27| 60000|        HR|     63000.0|              120000|             66000.0|           102000.0|    21 to 30|     true|\n|  3|       Bob|      null| -1| 80000|        IT|     84000.0|              160000|             88000.0|           136000.0|More than 40|    false|\n|  6|     Susan|1989-07-05| 35| 75000|   Finance|     78750.0|              150000|             82500.0|           127500.0|       Susan|     true|\n|  7|      Mike|1976-03-15| 48| 95000|        IT|     99750.0|              190000|            104500.0|           161500.0|More than 40|     true|\n|  5|     David|1981-12-18| 43| 90000|        HR|     94500.0|              180000|             99000.0|           153000.0|More than 40|     true|\n| 10|    Sophie|1992-06-30| 32| 62000|   Finance|     65100.0|              124000|             68200.0|           105400.0|      Sophie|     true|\n|  2|     Alice|1997-02-28| 27| 90000|   Finance|     94500.0|              180000|             99000.0|           153000.0|    21 to 30|     true|\n|  4|     Emily|1994-11-22| 30| 70000|   Finance|     73500.0|              140000|             77000.0|           119000.0|    21 to 30|     true|\n|  9|     James|1983-10-14| 41| 87000|        IT|     91350.0|              174000|             95700.0|           147900.0|More than 40|     true|\n|  8|      Lisa|1995-08-20| 29| 58000|        HR|     60900.0|              116000|             63800.0|            98600.0|    21 to 30|     true|\n+---+----------+----------+---+------+----------+------------+--------------------+--------------------+-------------------+------------+---------+\n\n"
     ]
    }
   ],
   "source": [
    "df.show()"
   ]
  },
  {
   "cell_type": "code",
   "execution_count": 0,
   "metadata": {
    "application/vnd.databricks.v1+cell": {
     "cellMetadata": {
      "byteLimit": 2048000,
      "rowLimit": 10000
     },
     "inputWidgets": {},
     "nuid": "2e736eaa-eb49-49d9-a748-4a7f428141bd",
     "showTitle": false,
     "title": ""
    }
   },
   "outputs": [],
   "source": [
    "from pyspark.sql import Window"
   ]
  },
  {
   "cell_type": "code",
   "execution_count": 0,
   "metadata": {
    "application/vnd.databricks.v1+cell": {
     "cellMetadata": {
      "byteLimit": 2048000,
      "rowLimit": 10000
     },
     "inputWidgets": {},
     "nuid": "a0ea38df-0ace-4c9f-a075-961790d3a141",
     "showTitle": false,
     "title": ""
    }
   },
   "outputs": [
    {
     "output_type": "stream",
     "name": "stdout",
     "output_type": "stream",
     "text": [
      "+---+----------+----------+---+------+----------+------------+--------------------+--------------------+-------------------+------------+---------+-------+\n| id|first_name|       dob|age|salary|department|salary_raise|salary-raise_10_perc|salary_raise_10_pers|salary_raise_7_pers|   age_group|has_dob_1|min_age|\n+---+----------+----------+---+------+----------+------------+--------------------+--------------------+-------------------+------------+---------+-------+\n|  4|     Emily|1994-11-22| 30| 65000|   Finance|     68250.0|              130000|             71500.0|           110500.0|    21 to 30|     true|     27|\n|  2|     Alice|1997-02-28| 27| 60000|        HR|     63000.0|              120000|             66000.0|           102000.0|    21 to 30|     true|     27|\n|  2|     Alice|1997-02-28| 27| 90000|   Finance|     94500.0|              180000|             99000.0|           153000.0|    21 to 30|     true|     27|\n|  4|     Emily|1994-11-22| 30| 70000|   Finance|     73500.0|              140000|             77000.0|           119000.0|    21 to 30|     true|     27|\n|  8|      Lisa|1995-08-20| 29| 58000|        HR|     60900.0|              116000|             63800.0|            98600.0|    21 to 30|     true|     27|\n|  1|      John|1992-05-12| 32| 70000|        IT|     73500.0|              140000|             77000.0|           119000.0|        John|     true|     32|\n|  3|       Bob|      null| -1| 80000|        IT|     84000.0|              160000|             88000.0|           136000.0|More than 40|    false|     -1|\n|  7|      Mike|1976-03-15| 48| 95000|        IT|     99750.0|              190000|            104500.0|           161500.0|More than 40|     true|     -1|\n|  5|     David|1981-12-18| 43| 90000|        HR|     94500.0|              180000|             99000.0|           153000.0|More than 40|     true|     -1|\n|  9|     James|1983-10-14| 41| 87000|        IT|     91350.0|              174000|             95700.0|           147900.0|More than 40|     true|     -1|\n| 10|    Sophie|1992-06-30| 32| 62000|   Finance|     65100.0|              124000|             68200.0|           105400.0|      Sophie|     true|     32|\n|  6|     Susan|1989-07-05| 35| 75000|   Finance|     78750.0|              150000|             82500.0|           127500.0|       Susan|     true|     35|\n+---+----------+----------+---+------+----------+------------+--------------------+--------------------+-------------------+------------+---------+-------+\n\n"
     ]
    }
   ],
   "source": [
    "window = Window.partitionBy(\"age_group\")\n",
    "df.withColumn(\n",
    "    \"min_age\",\n",
    "    F.min(\"age\").over(window)\n",
    ").show()"
   ]
  },
  {
   "cell_type": "code",
   "execution_count": 0,
   "metadata": {
    "application/vnd.databricks.v1+cell": {
     "cellMetadata": {
      "byteLimit": 2048000,
      "rowLimit": 10000
     },
     "inputWidgets": {},
     "nuid": "493547d0-a52e-488d-b5ef-8a31d4c6a69e",
     "showTitle": false,
     "title": ""
    }
   },
   "outputs": [
    {
     "output_type": "display_data",
     "data": {
      "text/html": [
       "<style scoped>\n",
       "  .ansiout {\n",
       "    display: block;\n",
       "    unicode-bidi: embed;\n",
       "    white-space: pre-wrap;\n",
       "    word-wrap: break-word;\n",
       "    word-break: break-all;\n",
       "    font-family: \"Menlo\", \"Monaco\", \"Consolas\", \"Ubuntu Mono\", \"Source Code Pro\", monospace;\n",
       "    font-size: 13px;\n",
       "    color: #555;\n",
       "    margin-left: 4px;\n",
       "    line-height: 19px;\n",
       "  }\n",
       "</style>"
      ]
     },
     "metadata": {
      "application/vnd.databricks.v1+output": {
       "arguments": {},
       "data": "",
       "errorSummary": "Command skipped",
       "errorTraceType": "html",
       "metadata": {},
       "type": "ipynbError"
      }
     },
     "output_type": "display_data"
    }
   ],
   "source": [
    "# partition by - retains the no of column\n",
    "# group by - can reduce column\n",
    "\n",
    "\n",
    "# 2 task to be completed use partiionby"
   ]
  },
  {
   "cell_type": "code",
   "execution_count": 0,
   "metadata": {
    "application/vnd.databricks.v1+cell": {
     "cellMetadata": {
      "byteLimit": 2048000,
      "rowLimit": 10000
     },
     "inputWidgets": {},
     "nuid": "89fcde04-bf9d-498b-bb40-1e28dfa467c9",
     "showTitle": false,
     "title": ""
    }
   },
   "outputs": [],
   "source": [
    "# load parquet \n",
    "\n",
    "ref_df = spark.read.format(\"parquet\").load(\"dbfs:///FileStore/tables/parquet\")"
   ]
  },
  {
   "cell_type": "code",
   "execution_count": 0,
   "metadata": {
    "application/vnd.databricks.v1+cell": {
     "cellMetadata": {
      "byteLimit": 2048000,
      "rowLimit": 10000
     },
     "inputWidgets": {},
     "nuid": "d0060e4c-6f38-4f26-b19b-f31de529c003",
     "showTitle": false,
     "title": ""
    }
   },
   "outputs": [
    {
     "output_type": "stream",
     "name": "stdout",
     "output_type": "stream",
     "text": [
      "+----------+-------+--------+\n|department|manager|    lead|\n+----------+-------+--------+\n|   Finance|  Megan|   Molly|\n|        HR|   Brad|   Brian|\n|        IT|  Chris|Chandler|\n|  Delivery|   Leon|  Louise|\n+----------+-------+--------+\n\n"
     ]
    }
   ],
   "source": [
    "ref_df.show()"
   ]
  },
  {
   "cell_type": "code",
   "execution_count": 0,
   "metadata": {
    "application/vnd.databricks.v1+cell": {
     "cellMetadata": {
      "byteLimit": 2048000,
      "rowLimit": 10000
     },
     "inputWidgets": {},
     "nuid": "fbde21f6-b303-4222-ab23-da41be601746",
     "showTitle": false,
     "title": ""
    }
   },
   "outputs": [
    {
     "output_type": "stream",
     "name": "stdout",
     "output_type": "stream",
     "text": [
      "+----------+---+----------+----------+---+------+------------+--------------------+--------------------+-------------------+------------+---------+-------+--------+\n|department| id|first_name|       dob|age|salary|salary_raise|salary-raise_10_perc|salary_raise_10_pers|salary_raise_7_pers|   age_group|has_dob_1|manager|    lead|\n+----------+---+----------+----------+---+------+------------+--------------------+--------------------+-------------------+------------+---------+-------+--------+\n|        IT|  1|      John|1992-05-12| 32| 70000|     73500.0|              140000|             77000.0|           119000.0|        John|     true|  Chris|Chandler|\n|   Finance|  4|     Emily|1994-11-22| 30| 65000|     68250.0|              130000|             71500.0|           110500.0|    21 to 30|     true|  Megan|   Molly|\n|        HR|  2|     Alice|1997-02-28| 27| 60000|     63000.0|              120000|             66000.0|           102000.0|    21 to 30|     true|   Brad|   Brian|\n|        IT|  3|       Bob|      null| -1| 80000|     84000.0|              160000|             88000.0|           136000.0|More than 40|    false|  Chris|Chandler|\n|   Finance|  6|     Susan|1989-07-05| 35| 75000|     78750.0|              150000|             82500.0|           127500.0|       Susan|     true|  Megan|   Molly|\n|        IT|  7|      Mike|1976-03-15| 48| 95000|     99750.0|              190000|            104500.0|           161500.0|More than 40|     true|  Chris|Chandler|\n|        HR|  5|     David|1981-12-18| 43| 90000|     94500.0|              180000|             99000.0|           153000.0|More than 40|     true|   Brad|   Brian|\n|   Finance| 10|    Sophie|1992-06-30| 32| 62000|     65100.0|              124000|             68200.0|           105400.0|      Sophie|     true|  Megan|   Molly|\n|   Finance|  2|     Alice|1997-02-28| 27| 90000|     94500.0|              180000|             99000.0|           153000.0|    21 to 30|     true|  Megan|   Molly|\n|   Finance|  4|     Emily|1994-11-22| 30| 70000|     73500.0|              140000|             77000.0|           119000.0|    21 to 30|     true|  Megan|   Molly|\n|        IT|  9|     James|1983-10-14| 41| 87000|     91350.0|              174000|             95700.0|           147900.0|More than 40|     true|  Chris|Chandler|\n|        HR|  8|      Lisa|1995-08-20| 29| 58000|     60900.0|              116000|             63800.0|            98600.0|    21 to 30|     true|   Brad|   Brian|\n+----------+---+----------+----------+---+------+------------+--------------------+--------------------+-------------------+------------+---------+-------+--------+\n\n"
     ]
    }
   ],
   "source": [
    "df.join(\n",
    "    ref_df,\n",
    "    \"department\",\n",
    "    \"left\"\n",
    ").show()"
   ]
  },
  {
   "cell_type": "code",
   "execution_count": 0,
   "metadata": {
    "application/vnd.databricks.v1+cell": {
     "cellMetadata": {
      "byteLimit": 2048000,
      "rowLimit": 10000
     },
     "inputWidgets": {},
     "nuid": "4a28b70a-8adb-4334-946c-52ec03556d71",
     "showTitle": false,
     "title": ""
    }
   },
   "outputs": [],
   "source": [
    "df = df.alias(\"main\")\n",
    "ref_df =ref_df.alias(\"references\")"
   ]
  },
  {
   "cell_type": "code",
   "execution_count": 0,
   "metadata": {
    "application/vnd.databricks.v1+cell": {
     "cellMetadata": {
      "byteLimit": 2048000,
      "rowLimit": 10000
     },
     "inputWidgets": {},
     "nuid": "9dd537a2-2ae7-4dcb-965e-7218a52e002e",
     "showTitle": false,
     "title": ""
    }
   },
   "outputs": [
    {
     "output_type": "stream",
     "name": "stdout",
     "output_type": "stream",
     "text": [
      "+---+----------+----------+---+------+----------+------------+--------------------+--------------------+-------------------+------------+---------+----------+-------+--------+\n| id|first_name|       dob|age|salary|department|salary_raise|salary-raise_10_perc|salary_raise_10_pers|salary_raise_7_pers|   age_group|has_dob_1|department|manager|    lead|\n+---+----------+----------+---+------+----------+------------+--------------------+--------------------+-------------------+------------+---------+----------+-------+--------+\n|  1|      John|1992-05-12| 32| 70000|        IT|     73500.0|              140000|             77000.0|           119000.0|        John|     true|        IT|  Chris|Chandler|\n|  4|     Emily|1994-11-22| 30| 65000|   Finance|     68250.0|              130000|             71500.0|           110500.0|    21 to 30|     true|   Finance|  Megan|   Molly|\n|  2|     Alice|1997-02-28| 27| 60000|        HR|     63000.0|              120000|             66000.0|           102000.0|    21 to 30|     true|        HR|   Brad|   Brian|\n|  3|       Bob|      null| -1| 80000|        IT|     84000.0|              160000|             88000.0|           136000.0|More than 40|    false|        IT|  Chris|Chandler|\n|  6|     Susan|1989-07-05| 35| 75000|   Finance|     78750.0|              150000|             82500.0|           127500.0|       Susan|     true|   Finance|  Megan|   Molly|\n|  7|      Mike|1976-03-15| 48| 95000|        IT|     99750.0|              190000|            104500.0|           161500.0|More than 40|     true|        IT|  Chris|Chandler|\n|  5|     David|1981-12-18| 43| 90000|        HR|     94500.0|              180000|             99000.0|           153000.0|More than 40|     true|        HR|   Brad|   Brian|\n| 10|    Sophie|1992-06-30| 32| 62000|   Finance|     65100.0|              124000|             68200.0|           105400.0|      Sophie|     true|   Finance|  Megan|   Molly|\n|  2|     Alice|1997-02-28| 27| 90000|   Finance|     94500.0|              180000|             99000.0|           153000.0|    21 to 30|     true|   Finance|  Megan|   Molly|\n|  4|     Emily|1994-11-22| 30| 70000|   Finance|     73500.0|              140000|             77000.0|           119000.0|    21 to 30|     true|   Finance|  Megan|   Molly|\n|  9|     James|1983-10-14| 41| 87000|        IT|     91350.0|              174000|             95700.0|           147900.0|More than 40|     true|        IT|  Chris|Chandler|\n|  8|      Lisa|1995-08-20| 29| 58000|        HR|     60900.0|              116000|             63800.0|            98600.0|    21 to 30|     true|        HR|   Brad|   Brian|\n+---+----------+----------+---+------+----------+------------+--------------------+--------------------+-------------------+------------+---------+----------+-------+--------+\n\n"
     ]
    }
   ],
   "source": [
    "df.join(\n",
    "    ref_df,\n",
    "    F.col(\"main.department\") == F.col(\"references.department\"),\n",
    "    \"left\",\n",
    ").show()"
   ]
  },
  {
   "cell_type": "code",
   "execution_count": 0,
   "metadata": {
    "application/vnd.databricks.v1+cell": {
     "cellMetadata": {
      "byteLimit": 2048000,
      "rowLimit": 10000
     },
     "inputWidgets": {},
     "nuid": "d51e7453-43e5-415c-acf7-5180e9255555",
     "showTitle": false,
     "title": ""
    }
   },
   "outputs": [
    {
     "output_type": "stream",
     "name": "stdout",
     "output_type": "stream",
     "text": [
      "+---+----------+----------+---+------+----------+------------+--------------------+--------------------+-------------------+------------+---------+-------+--------+--------------------+\n| id|first_name|       dob|age|salary|department|salary_raise|salary-raise_10_perc|salary_raise_10_pers|salary_raise_7_pers|   age_group|has_dob_1|manager|    lead|reference_department|\n+---+----------+----------+---+------+----------+------------+--------------------+--------------------+-------------------+------------+---------+-------+--------+--------------------+\n|  1|      John|1992-05-12| 32| 70000|        IT|     73500.0|              140000|             77000.0|           119000.0|        John|     true|  Chris|Chandler|                  IT|\n|  4|     Emily|1994-11-22| 30| 65000|   Finance|     68250.0|              130000|             71500.0|           110500.0|    21 to 30|     true|  Megan|   Molly|             Finance|\n|  2|     Alice|1997-02-28| 27| 60000|        HR|     63000.0|              120000|             66000.0|           102000.0|    21 to 30|     true|   Brad|   Brian|                  HR|\n|  3|       Bob|      null| -1| 80000|        IT|     84000.0|              160000|             88000.0|           136000.0|More than 40|    false|  Chris|Chandler|                  IT|\n|  6|     Susan|1989-07-05| 35| 75000|   Finance|     78750.0|              150000|             82500.0|           127500.0|       Susan|     true|  Megan|   Molly|             Finance|\n|  7|      Mike|1976-03-15| 48| 95000|        IT|     99750.0|              190000|            104500.0|           161500.0|More than 40|     true|  Chris|Chandler|                  IT|\n|  5|     David|1981-12-18| 43| 90000|        HR|     94500.0|              180000|             99000.0|           153000.0|More than 40|     true|   Brad|   Brian|                  HR|\n| 10|    Sophie|1992-06-30| 32| 62000|   Finance|     65100.0|              124000|             68200.0|           105400.0|      Sophie|     true|  Megan|   Molly|             Finance|\n|  2|     Alice|1997-02-28| 27| 90000|   Finance|     94500.0|              180000|             99000.0|           153000.0|    21 to 30|     true|  Megan|   Molly|             Finance|\n|  4|     Emily|1994-11-22| 30| 70000|   Finance|     73500.0|              140000|             77000.0|           119000.0|    21 to 30|     true|  Megan|   Molly|             Finance|\n|  9|     James|1983-10-14| 41| 87000|        IT|     91350.0|              174000|             95700.0|           147900.0|More than 40|     true|  Chris|Chandler|                  IT|\n|  8|      Lisa|1995-08-20| 29| 58000|        HR|     60900.0|              116000|             63800.0|            98600.0|    21 to 30|     true|   Brad|   Brian|                  HR|\n+---+----------+----------+---+------+----------+------------+--------------------+--------------------+-------------------+------------+---------+-------+--------+--------------------+\n\n"
     ]
    }
   ],
   "source": [
    "df.join(\n",
    "    ref_df.select(\n",
    "        \"manager\",\n",
    "        \"lead\",\n",
    "        F.col(\"department\").alias(\"reference_department\")\n",
    "    ).alias(\"reference\"),\n",
    "    F.col(\"main.department\") == F.col(\"reference.reference_department\"),\n",
    "    \"left\",\n",
    ").show()"
   ]
  },
  {
   "cell_type": "code",
   "execution_count": 0,
   "metadata": {
    "application/vnd.databricks.v1+cell": {
     "cellMetadata": {
      "byteLimit": 2048000,
      "rowLimit": 10000
     },
     "inputWidgets": {},
     "nuid": "f6484086-1cac-4ca6-9895-c2a9d8c20be0",
     "showTitle": false,
     "title": ""
    }
   },
   "outputs": [
    {
     "output_type": "stream",
     "name": "stdout",
     "output_type": "stream",
     "text": [
      "+---+----------+----------+---+------+----------+------------+--------------------+--------------------+-------------------+------------+---------+-------+--------+--------------------+\n| id|first_name|       dob|age|salary|department|salary_raise|salary-raise_10_perc|salary_raise_10_pers|salary_raise_7_pers|   age_group|has_dob_1|manager|    lead|reference_department|\n+---+----------+----------+---+------+----------+------------+--------------------+--------------------+-------------------+------------+---------+-------+--------+--------------------+\n|  1|      John|1992-05-12| 32| 70000|        IT|     73500.0|              140000|             77000.0|           119000.0|        John|     true|  Chris|Chandler|                  IT|\n|  4|     Emily|1994-11-22| 30| 65000|   Finance|     68250.0|              130000|             71500.0|           110500.0|    21 to 30|     true|  Megan|   Molly|             Finance|\n|  2|     Alice|1997-02-28| 27| 60000|        HR|     63000.0|              120000|             66000.0|           102000.0|    21 to 30|     true|   Brad|   Brian|                  HR|\n|  3|       Bob|      null| -1| 80000|        IT|     84000.0|              160000|             88000.0|           136000.0|More than 40|    false|  Chris|Chandler|                  IT|\n|  6|     Susan|1989-07-05| 35| 75000|   Finance|     78750.0|              150000|             82500.0|           127500.0|       Susan|     true|  Megan|   Molly|             Finance|\n|  7|      Mike|1976-03-15| 48| 95000|        IT|     99750.0|              190000|            104500.0|           161500.0|More than 40|     true|  Chris|Chandler|                  IT|\n|  5|     David|1981-12-18| 43| 90000|        HR|     94500.0|              180000|             99000.0|           153000.0|More than 40|     true|   Brad|   Brian|                  HR|\n| 10|    Sophie|1992-06-30| 32| 62000|   Finance|     65100.0|              124000|             68200.0|           105400.0|      Sophie|     true|  Megan|   Molly|             Finance|\n|  2|     Alice|1997-02-28| 27| 90000|   Finance|     94500.0|              180000|             99000.0|           153000.0|    21 to 30|     true|  Megan|   Molly|             Finance|\n|  4|     Emily|1994-11-22| 30| 70000|   Finance|     73500.0|              140000|             77000.0|           119000.0|    21 to 30|     true|  Megan|   Molly|             Finance|\n|  9|     James|1983-10-14| 41| 87000|        IT|     91350.0|              174000|             95700.0|           147900.0|More than 40|     true|  Chris|Chandler|                  IT|\n|  8|      Lisa|1995-08-20| 29| 58000|        HR|     60900.0|              116000|             63800.0|            98600.0|    21 to 30|     true|   Brad|   Brian|                  HR|\n+---+----------+----------+---+------+----------+------------+--------------------+--------------------+-------------------+------------+---------+-------+--------+--------------------+\n\n"
     ]
    }
   ],
   "source": [
    "df.join(\n",
    "    ref_df.select(\n",
    "        \"manager\",\n",
    "        \"lead\",\n",
    "        F.col(\"department\").alias(\"reference_department\")\n",
    "    ).alias(\"reference\"),\n",
    "    F.col(\"main.department\") == F.col(\"reference.reference_department\"),\n",
    "    \"left\",\n",
    ").show()"
   ]
  },
  {
   "cell_type": "code",
   "execution_count": 0,
   "metadata": {
    "application/vnd.databricks.v1+cell": {
     "cellMetadata": {
      "byteLimit": 2048000,
      "rowLimit": 10000
     },
     "inputWidgets": {},
     "nuid": "9ab33703-6b8f-4263-b8ed-c3a83d80898d",
     "showTitle": false,
     "title": ""
    }
   },
   "outputs": [],
   "source": [
    "# Load (Save)Data\n",
    "df.write.mode(\"overwrite\").format(\"csv\").save(\"dbfs/FileStore/tables/final\")"
   ]
  },
  {
   "cell_type": "code",
   "execution_count": 0,
   "metadata": {
    "application/vnd.databricks.v1+cell": {
     "cellMetadata": {
      "byteLimit": 2048000,
      "rowLimit": 10000
     },
     "inputWidgets": {},
     "nuid": "a28f435b-b530-4f35-86eb-e285e5b2923d",
     "showTitle": false,
     "title": ""
    }
   },
   "outputs": [
    {
     "output_type": "display_data",
     "data": {
      "text/html": [
       "<style scoped>\n",
       "  .table-result-container {\n",
       "    max-height: 300px;\n",
       "    overflow: auto;\n",
       "  }\n",
       "  table, th, td {\n",
       "    border: 1px solid black;\n",
       "    border-collapse: collapse;\n",
       "  }\n",
       "  th, td {\n",
       "    padding: 5px;\n",
       "  }\n",
       "  th {\n",
       "    text-align: left;\n",
       "  }\n",
       "</style><div class='table-result-container'><table class='table-result'><thead style='background-color: white'><tr><th>path</th><th>name</th><th>size</th><th>modificationTime</th></tr></thead><tbody><tr><td>dbfs:/dbfs/FileStore/tables/final/_SUCCESS</td><td>_SUCCESS</td><td>0</td><td>1708500344000</td></tr><tr><td>dbfs:/dbfs/FileStore/tables/final/_committed_4252851249095360416</td><td>_committed_4252851249095360416</td><td>212</td><td>1708499696000</td></tr><tr><td>dbfs:/dbfs/FileStore/tables/final/_committed_7155410902225821073</td><td>_committed_7155410902225821073</td><td>201</td><td>1708500344000</td></tr><tr><td>dbfs:/dbfs/FileStore/tables/final/_committed_7859855311738685609</td><td>_committed_7859855311738685609</td><td>113</td><td>1707804436000</td></tr><tr><td>dbfs:/dbfs/FileStore/tables/final/_committed_vacuum3434845972709880296</td><td>_committed_vacuum3434845972709880296</td><td>96</td><td>1708499697000</td></tr><tr><td>dbfs:/dbfs/FileStore/tables/final/_started_4252851249095360416</td><td>_started_4252851249095360416</td><td>0</td><td>1708499696000</td></tr><tr><td>dbfs:/dbfs/FileStore/tables/final/_started_7155410902225821073</td><td>_started_7155410902225821073</td><td>0</td><td>1708500344000</td></tr><tr><td>dbfs:/dbfs/FileStore/tables/final/part-00000-tid-7155410902225821073-2e0f3439-39be-4bcb-82ec-1a14a1057a7b-327-1-c000.csv</td><td>part-00000-tid-7155410902225821073-2e0f3439-39be-4bcb-82ec-1a14a1057a7b-327-1-c000.csv</td><td>944</td><td>1708500344000</td></tr></tbody></table></div>"
      ]
     },
     "metadata": {
      "application/vnd.databricks.v1+output": {
       "addedWidgets": {},
       "aggData": [],
       "aggError": "",
       "aggOverflow": false,
       "aggSchema": [],
       "aggSeriesLimitReached": false,
       "aggType": "",
       "arguments": {},
       "columnCustomDisplayInfos": {},
       "data": [
        [
         "dbfs:/dbfs/FileStore/tables/final/_SUCCESS",
         "_SUCCESS",
         0,
         1708500344000
        ],
        [
         "dbfs:/dbfs/FileStore/tables/final/_committed_4252851249095360416",
         "_committed_4252851249095360416",
         212,
         1708499696000
        ],
        [
         "dbfs:/dbfs/FileStore/tables/final/_committed_7155410902225821073",
         "_committed_7155410902225821073",
         201,
         1708500344000
        ],
        [
         "dbfs:/dbfs/FileStore/tables/final/_committed_7859855311738685609",
         "_committed_7859855311738685609",
         113,
         1707804436000
        ],
        [
         "dbfs:/dbfs/FileStore/tables/final/_committed_vacuum3434845972709880296",
         "_committed_vacuum3434845972709880296",
         96,
         1708499697000
        ],
        [
         "dbfs:/dbfs/FileStore/tables/final/_started_4252851249095360416",
         "_started_4252851249095360416",
         0,
         1708499696000
        ],
        [
         "dbfs:/dbfs/FileStore/tables/final/_started_7155410902225821073",
         "_started_7155410902225821073",
         0,
         1708500344000
        ],
        [
         "dbfs:/dbfs/FileStore/tables/final/part-00000-tid-7155410902225821073-2e0f3439-39be-4bcb-82ec-1a14a1057a7b-327-1-c000.csv",
         "part-00000-tid-7155410902225821073-2e0f3439-39be-4bcb-82ec-1a14a1057a7b-327-1-c000.csv",
         944,
         1708500344000
        ]
       ],
       "datasetInfos": [],
       "dbfsResultPath": null,
       "isJsonSchema": true,
       "metadata": {
        "isDbfsCommandResult": false
       },
       "overflow": false,
       "plotOptions": {
        "customPlotOptions": {},
        "displayType": "table",
        "pivotAggregation": null,
        "pivotColumns": null,
        "xColumns": null,
        "yColumns": null
       },
       "removedWidgets": [],
       "schema": [
        {
         "metadata": "{}",
         "name": "path",
         "type": "\"string\""
        },
        {
         "metadata": "{}",
         "name": "name",
         "type": "\"string\""
        },
        {
         "metadata": "{}",
         "name": "size",
         "type": "\"long\""
        },
        {
         "metadata": "{}",
         "name": "modificationTime",
         "type": "\"long\""
        }
       ],
       "type": "table"
      }
     },
     "output_type": "display_data"
    }
   ],
   "source": [
    "%fs ls dbfs/FileStore/tables/final"
   ]
  },
  {
   "cell_type": "code",
   "execution_count": 0,
   "metadata": {
    "application/vnd.databricks.v1+cell": {
     "cellMetadata": {
      "byteLimit": 2048000,
      "rowLimit": 10000
     },
     "inputWidgets": {},
     "nuid": "9cab1c17-4dfc-4f39-ba69-051332844df9",
     "showTitle": false,
     "title": ""
    }
   },
   "outputs": [
    {
     "output_type": "stream",
     "name": "stdout",
     "output_type": "stream",
     "text": [
      "+--------+---------+-----------+\n|database|tableName|isTemporary|\n+--------+---------+-----------+\n+--------+---------+-----------+\n\n"
     ]
    }
   ],
   "source": [
    "spark.sql(\"show tables\").show()"
   ]
  },
  {
   "cell_type": "code",
   "execution_count": 0,
   "metadata": {
    "application/vnd.databricks.v1+cell": {
     "cellMetadata": {
      "byteLimit": 2048000,
      "rowLimit": 10000
     },
     "inputWidgets": {},
     "nuid": "4667d4fd-6b22-4aba-b2ce-27eab58053c7",
     "showTitle": false,
     "title": ""
    }
   },
   "outputs": [
    {
     "output_type": "display_data",
     "data": {
      "text/html": [
       "<style scoped>\n",
       "  .ansiout {\n",
       "    display: block;\n",
       "    unicode-bidi: embed;\n",
       "    white-space: pre-wrap;\n",
       "    word-wrap: break-word;\n",
       "    word-break: break-all;\n",
       "    font-family: \"Menlo\", \"Monaco\", \"Consolas\", \"Ubuntu Mono\", \"Source Code Pro\", monospace;\n",
       "    font-size: 13px;\n",
       "    color: #555;\n",
       "    margin-left: 4px;\n",
       "    line-height: 19px;\n",
       "  }\n",
       "</style>\n",
       "<div class=\"ansiout\">res4: Boolean = true\n",
       "</div>"
      ]
     },
     "metadata": {
      "application/vnd.databricks.v1+output": {
       "addedWidgets": {},
       "arguments": {},
       "data": "<div class=\"ansiout\">res4: Boolean = true\n</div>",
       "datasetInfos": [],
       "metadata": {
        "isDbfsCommandResult": false
       },
       "removedWidgets": [],
       "type": "html"
      }
     },
     "output_type": "display_data"
    }
   ],
   "source": [
    "\n",
    "%fs rm -r dbfs:/user/hive/warehouse/final"
   ]
  },
  {
   "cell_type": "code",
   "execution_count": 0,
   "metadata": {
    "application/vnd.databricks.v1+cell": {
     "cellMetadata": {
      "byteLimit": 2048000,
      "rowLimit": 10000
     },
     "inputWidgets": {},
     "nuid": "6b7c4d15-932a-45ac-960d-d19db180b97e",
     "showTitle": false,
     "title": ""
    }
   },
   "outputs": [],
   "source": [
    "df.write.mode(\"overwrite\").format(\"delta\").saveAsTable(\"final\")"
   ]
  },
  {
   "cell_type": "code",
   "execution_count": 0,
   "metadata": {
    "application/vnd.databricks.v1+cell": {
     "cellMetadata": {
      "byteLimit": 2048000,
      "rowLimit": 10000
     },
     "inputWidgets": {},
     "nuid": "3cfab97a-f697-4b4e-b7e6-74454dbd44b7",
     "showTitle": false,
     "title": ""
    }
   },
   "outputs": [
    {
     "output_type": "display_data",
     "data": {
      "text/plain": [
       "\u001B[0;31m---------------------------------------------------------------------------\u001B[0m\n",
       "\u001B[0;31mAnalysisException\u001B[0m                         Traceback (most recent call last)\n",
       "File \u001B[0;32m<command-1136089594033333>:2\u001B[0m\n",
       "\u001B[1;32m      1\u001B[0m df\u001B[38;5;241m.\u001B[39mjoin(\n",
       "\u001B[0;32m----> 2\u001B[0m     \u001B[43mref_df\u001B[49m\u001B[38;5;241;43m.\u001B[39;49m\u001B[43mselect\u001B[49m\u001B[43m(\u001B[49m\n",
       "\u001B[1;32m      3\u001B[0m \u001B[43m        \u001B[49m\u001B[38;5;124;43m\"\u001B[39;49m\u001B[38;5;124;43mmanager\u001B[39;49m\u001B[38;5;124;43m\"\u001B[39;49m\u001B[43m,\u001B[49m\n",
       "\u001B[1;32m      4\u001B[0m \u001B[43m        \u001B[49m\u001B[38;5;124;43m\"\u001B[39;49m\u001B[38;5;124;43mlead\u001B[39;49m\u001B[38;5;124;43m\"\u001B[39;49m\u001B[43m,\u001B[49m\n",
       "\u001B[1;32m      5\u001B[0m \u001B[43m        \u001B[49m\u001B[43mF\u001B[49m\u001B[38;5;241;43m.\u001B[39;49m\u001B[43mcol\u001B[49m\u001B[43m(\u001B[49m\u001B[38;5;124;43m\"\u001B[39;49m\u001B[38;5;124;43mmain.department\u001B[39;49m\u001B[38;5;124;43m\"\u001B[39;49m\u001B[43m)\u001B[49m\u001B[38;5;241;43m.\u001B[39;49m\u001B[43malias\u001B[49m\u001B[43m(\u001B[49m\u001B[38;5;124;43m\"\u001B[39;49m\u001B[38;5;124;43mreferences.department\u001B[39;49m\u001B[38;5;124;43m\"\u001B[39;49m\u001B[43m)\u001B[49m\u001B[43m,\u001B[49m\n",
       "\u001B[1;32m      6\u001B[0m \u001B[43m    \u001B[49m\u001B[43m)\u001B[49m\u001B[38;5;241m.\u001B[39malias(\u001B[38;5;124m\"\u001B[39m\u001B[38;5;124mreferences\u001B[39m\u001B[38;5;124m\"\u001B[39m),\n",
       "\u001B[1;32m      7\u001B[0m     F\u001B[38;5;241m.\u001B[39mcol(\u001B[38;5;124m\"\u001B[39m\u001B[38;5;124mmain.department\u001B[39m\u001B[38;5;124m\"\u001B[39m) \u001B[38;5;241m==\u001B[39m F\u001B[38;5;241m.\u001B[39mcol(\u001B[38;5;124m\"\u001B[39m\u001B[38;5;124mreferences.department\u001B[39m\u001B[38;5;124m\"\u001B[39m),\n",
       "\u001B[1;32m      8\u001B[0m     \u001B[38;5;124m\"\u001B[39m\u001B[38;5;124mleft\u001B[39m\u001B[38;5;124m\"\u001B[39m,\n",
       "\u001B[1;32m      9\u001B[0m )\u001B[38;5;241m.\u001B[39mshow()\n",
       "\n",
       "File \u001B[0;32m/databricks/spark/python/pyspark/instrumentation_utils.py:48\u001B[0m, in \u001B[0;36m_wrap_function.<locals>.wrapper\u001B[0;34m(*args, **kwargs)\u001B[0m\n",
       "\u001B[1;32m     46\u001B[0m start \u001B[38;5;241m=\u001B[39m time\u001B[38;5;241m.\u001B[39mperf_counter()\n",
       "\u001B[1;32m     47\u001B[0m \u001B[38;5;28;01mtry\u001B[39;00m:\n",
       "\u001B[0;32m---> 48\u001B[0m     res \u001B[38;5;241m=\u001B[39m \u001B[43mfunc\u001B[49m\u001B[43m(\u001B[49m\u001B[38;5;241;43m*\u001B[39;49m\u001B[43margs\u001B[49m\u001B[43m,\u001B[49m\u001B[43m \u001B[49m\u001B[38;5;241;43m*\u001B[39;49m\u001B[38;5;241;43m*\u001B[39;49m\u001B[43mkwargs\u001B[49m\u001B[43m)\u001B[49m\n",
       "\u001B[1;32m     49\u001B[0m     logger\u001B[38;5;241m.\u001B[39mlog_success(\n",
       "\u001B[1;32m     50\u001B[0m         module_name, class_name, function_name, time\u001B[38;5;241m.\u001B[39mperf_counter() \u001B[38;5;241m-\u001B[39m start, signature\n",
       "\u001B[1;32m     51\u001B[0m     )\n",
       "\u001B[1;32m     52\u001B[0m     \u001B[38;5;28;01mreturn\u001B[39;00m res\n",
       "\n",
       "File \u001B[0;32m/databricks/spark/python/pyspark/sql/dataframe.py:3023\u001B[0m, in \u001B[0;36mDataFrame.select\u001B[0;34m(self, *cols)\u001B[0m\n",
       "\u001B[1;32m   2978\u001B[0m \u001B[38;5;28;01mdef\u001B[39;00m \u001B[38;5;21mselect\u001B[39m(\u001B[38;5;28mself\u001B[39m, \u001B[38;5;241m*\u001B[39mcols: \u001B[38;5;124m\"\u001B[39m\u001B[38;5;124mColumnOrName\u001B[39m\u001B[38;5;124m\"\u001B[39m) \u001B[38;5;241m-\u001B[39m\u001B[38;5;241m>\u001B[39m \u001B[38;5;124m\"\u001B[39m\u001B[38;5;124mDataFrame\u001B[39m\u001B[38;5;124m\"\u001B[39m:  \u001B[38;5;66;03m# type: ignore[misc]\u001B[39;00m\n",
       "\u001B[1;32m   2979\u001B[0m     \u001B[38;5;124;03m\"\"\"Projects a set of expressions and returns a new :class:`DataFrame`.\u001B[39;00m\n",
       "\u001B[1;32m   2980\u001B[0m \n",
       "\u001B[1;32m   2981\u001B[0m \u001B[38;5;124;03m    .. versionadded:: 1.3.0\u001B[39;00m\n",
       "\u001B[0;32m   (...)\u001B[0m\n",
       "\u001B[1;32m   3021\u001B[0m \u001B[38;5;124;03m    +-----+---+\u001B[39;00m\n",
       "\u001B[1;32m   3022\u001B[0m \u001B[38;5;124;03m    \"\"\"\u001B[39;00m\n",
       "\u001B[0;32m-> 3023\u001B[0m     jdf \u001B[38;5;241m=\u001B[39m \u001B[38;5;28;43mself\u001B[39;49m\u001B[38;5;241;43m.\u001B[39;49m\u001B[43m_jdf\u001B[49m\u001B[38;5;241;43m.\u001B[39;49m\u001B[43mselect\u001B[49m\u001B[43m(\u001B[49m\u001B[38;5;28;43mself\u001B[39;49m\u001B[38;5;241;43m.\u001B[39;49m\u001B[43m_jcols\u001B[49m\u001B[43m(\u001B[49m\u001B[38;5;241;43m*\u001B[39;49m\u001B[43mcols\u001B[49m\u001B[43m)\u001B[49m\u001B[43m)\u001B[49m\n",
       "\u001B[1;32m   3024\u001B[0m     \u001B[38;5;28;01mreturn\u001B[39;00m DataFrame(jdf, \u001B[38;5;28mself\u001B[39m\u001B[38;5;241m.\u001B[39msparkSession)\n",
       "\n",
       "File \u001B[0;32m/databricks/spark/python/lib/py4j-0.10.9.5-src.zip/py4j/java_gateway.py:1321\u001B[0m, in \u001B[0;36mJavaMember.__call__\u001B[0;34m(self, *args)\u001B[0m\n",
       "\u001B[1;32m   1315\u001B[0m command \u001B[38;5;241m=\u001B[39m proto\u001B[38;5;241m.\u001B[39mCALL_COMMAND_NAME \u001B[38;5;241m+\u001B[39m\\\n",
       "\u001B[1;32m   1316\u001B[0m     \u001B[38;5;28mself\u001B[39m\u001B[38;5;241m.\u001B[39mcommand_header \u001B[38;5;241m+\u001B[39m\\\n",
       "\u001B[1;32m   1317\u001B[0m     args_command \u001B[38;5;241m+\u001B[39m\\\n",
       "\u001B[1;32m   1318\u001B[0m     proto\u001B[38;5;241m.\u001B[39mEND_COMMAND_PART\n",
       "\u001B[1;32m   1320\u001B[0m answer \u001B[38;5;241m=\u001B[39m \u001B[38;5;28mself\u001B[39m\u001B[38;5;241m.\u001B[39mgateway_client\u001B[38;5;241m.\u001B[39msend_command(command)\n",
       "\u001B[0;32m-> 1321\u001B[0m return_value \u001B[38;5;241m=\u001B[39m \u001B[43mget_return_value\u001B[49m\u001B[43m(\u001B[49m\n",
       "\u001B[1;32m   1322\u001B[0m \u001B[43m    \u001B[49m\u001B[43manswer\u001B[49m\u001B[43m,\u001B[49m\u001B[43m \u001B[49m\u001B[38;5;28;43mself\u001B[39;49m\u001B[38;5;241;43m.\u001B[39;49m\u001B[43mgateway_client\u001B[49m\u001B[43m,\u001B[49m\u001B[43m \u001B[49m\u001B[38;5;28;43mself\u001B[39;49m\u001B[38;5;241;43m.\u001B[39;49m\u001B[43mtarget_id\u001B[49m\u001B[43m,\u001B[49m\u001B[43m \u001B[49m\u001B[38;5;28;43mself\u001B[39;49m\u001B[38;5;241;43m.\u001B[39;49m\u001B[43mname\u001B[49m\u001B[43m)\u001B[49m\n",
       "\u001B[1;32m   1324\u001B[0m \u001B[38;5;28;01mfor\u001B[39;00m temp_arg \u001B[38;5;129;01min\u001B[39;00m temp_args:\n",
       "\u001B[1;32m   1325\u001B[0m     temp_arg\u001B[38;5;241m.\u001B[39m_detach()\n",
       "\n",
       "File \u001B[0;32m/databricks/spark/python/pyspark/errors/exceptions.py:234\u001B[0m, in \u001B[0;36mcapture_sql_exception.<locals>.deco\u001B[0;34m(*a, **kw)\u001B[0m\n",
       "\u001B[1;32m    230\u001B[0m converted \u001B[38;5;241m=\u001B[39m convert_exception(e\u001B[38;5;241m.\u001B[39mjava_exception)\n",
       "\u001B[1;32m    231\u001B[0m \u001B[38;5;28;01mif\u001B[39;00m \u001B[38;5;129;01mnot\u001B[39;00m \u001B[38;5;28misinstance\u001B[39m(converted, UnknownException):\n",
       "\u001B[1;32m    232\u001B[0m     \u001B[38;5;66;03m# Hide where the exception came from that shows a non-Pythonic\u001B[39;00m\n",
       "\u001B[1;32m    233\u001B[0m     \u001B[38;5;66;03m# JVM exception message.\u001B[39;00m\n",
       "\u001B[0;32m--> 234\u001B[0m     \u001B[38;5;28;01mraise\u001B[39;00m converted \u001B[38;5;28;01mfrom\u001B[39;00m \u001B[38;5;28mNone\u001B[39m\n",
       "\u001B[1;32m    235\u001B[0m \u001B[38;5;28;01melse\u001B[39;00m:\n",
       "\u001B[1;32m    236\u001B[0m     \u001B[38;5;28;01mraise\u001B[39;00m\n",
       "\n",
       "\u001B[0;31mAnalysisException\u001B[0m: [UNRESOLVED_COLUMN.WITH_SUGGESTION] A column or function parameter with name `main`.`department` cannot be resolved. Did you mean one of the following? [`references`.`department`, `references`.`lead`, `references`.`manager`].;\n",
       "'Project [manager#2028, lead#2029, 'main.department AS references.department#2323]\n",
       "+- SubqueryAlias references\n",
       "   +- Relation [department#2027,manager#2028,lead#2029] parquet\n"
      ]
     },
     "metadata": {
      "application/vnd.databricks.v1+output": {
       "arguments": {},
       "data": "\u001B[0;31m---------------------------------------------------------------------------\u001B[0m\n\u001B[0;31mAnalysisException\u001B[0m                         Traceback (most recent call last)\nFile \u001B[0;32m<command-1136089594033333>:2\u001B[0m\n\u001B[1;32m      1\u001B[0m df\u001B[38;5;241m.\u001B[39mjoin(\n\u001B[0;32m----> 2\u001B[0m     \u001B[43mref_df\u001B[49m\u001B[38;5;241;43m.\u001B[39;49m\u001B[43mselect\u001B[49m\u001B[43m(\u001B[49m\n\u001B[1;32m      3\u001B[0m \u001B[43m        \u001B[49m\u001B[38;5;124;43m\"\u001B[39;49m\u001B[38;5;124;43mmanager\u001B[39;49m\u001B[38;5;124;43m\"\u001B[39;49m\u001B[43m,\u001B[49m\n\u001B[1;32m      4\u001B[0m \u001B[43m        \u001B[49m\u001B[38;5;124;43m\"\u001B[39;49m\u001B[38;5;124;43mlead\u001B[39;49m\u001B[38;5;124;43m\"\u001B[39;49m\u001B[43m,\u001B[49m\n\u001B[1;32m      5\u001B[0m \u001B[43m        \u001B[49m\u001B[43mF\u001B[49m\u001B[38;5;241;43m.\u001B[39;49m\u001B[43mcol\u001B[49m\u001B[43m(\u001B[49m\u001B[38;5;124;43m\"\u001B[39;49m\u001B[38;5;124;43mmain.department\u001B[39;49m\u001B[38;5;124;43m\"\u001B[39;49m\u001B[43m)\u001B[49m\u001B[38;5;241;43m.\u001B[39;49m\u001B[43malias\u001B[49m\u001B[43m(\u001B[49m\u001B[38;5;124;43m\"\u001B[39;49m\u001B[38;5;124;43mreferences.department\u001B[39;49m\u001B[38;5;124;43m\"\u001B[39;49m\u001B[43m)\u001B[49m\u001B[43m,\u001B[49m\n\u001B[1;32m      6\u001B[0m \u001B[43m    \u001B[49m\u001B[43m)\u001B[49m\u001B[38;5;241m.\u001B[39malias(\u001B[38;5;124m\"\u001B[39m\u001B[38;5;124mreferences\u001B[39m\u001B[38;5;124m\"\u001B[39m),\n\u001B[1;32m      7\u001B[0m     F\u001B[38;5;241m.\u001B[39mcol(\u001B[38;5;124m\"\u001B[39m\u001B[38;5;124mmain.department\u001B[39m\u001B[38;5;124m\"\u001B[39m) \u001B[38;5;241m==\u001B[39m F\u001B[38;5;241m.\u001B[39mcol(\u001B[38;5;124m\"\u001B[39m\u001B[38;5;124mreferences.department\u001B[39m\u001B[38;5;124m\"\u001B[39m),\n\u001B[1;32m      8\u001B[0m     \u001B[38;5;124m\"\u001B[39m\u001B[38;5;124mleft\u001B[39m\u001B[38;5;124m\"\u001B[39m,\n\u001B[1;32m      9\u001B[0m )\u001B[38;5;241m.\u001B[39mshow()\n\nFile \u001B[0;32m/databricks/spark/python/pyspark/instrumentation_utils.py:48\u001B[0m, in \u001B[0;36m_wrap_function.<locals>.wrapper\u001B[0;34m(*args, **kwargs)\u001B[0m\n\u001B[1;32m     46\u001B[0m start \u001B[38;5;241m=\u001B[39m time\u001B[38;5;241m.\u001B[39mperf_counter()\n\u001B[1;32m     47\u001B[0m \u001B[38;5;28;01mtry\u001B[39;00m:\n\u001B[0;32m---> 48\u001B[0m     res \u001B[38;5;241m=\u001B[39m \u001B[43mfunc\u001B[49m\u001B[43m(\u001B[49m\u001B[38;5;241;43m*\u001B[39;49m\u001B[43margs\u001B[49m\u001B[43m,\u001B[49m\u001B[43m \u001B[49m\u001B[38;5;241;43m*\u001B[39;49m\u001B[38;5;241;43m*\u001B[39;49m\u001B[43mkwargs\u001B[49m\u001B[43m)\u001B[49m\n\u001B[1;32m     49\u001B[0m     logger\u001B[38;5;241m.\u001B[39mlog_success(\n\u001B[1;32m     50\u001B[0m         module_name, class_name, function_name, time\u001B[38;5;241m.\u001B[39mperf_counter() \u001B[38;5;241m-\u001B[39m start, signature\n\u001B[1;32m     51\u001B[0m     )\n\u001B[1;32m     52\u001B[0m     \u001B[38;5;28;01mreturn\u001B[39;00m res\n\nFile \u001B[0;32m/databricks/spark/python/pyspark/sql/dataframe.py:3023\u001B[0m, in \u001B[0;36mDataFrame.select\u001B[0;34m(self, *cols)\u001B[0m\n\u001B[1;32m   2978\u001B[0m \u001B[38;5;28;01mdef\u001B[39;00m \u001B[38;5;21mselect\u001B[39m(\u001B[38;5;28mself\u001B[39m, \u001B[38;5;241m*\u001B[39mcols: \u001B[38;5;124m\"\u001B[39m\u001B[38;5;124mColumnOrName\u001B[39m\u001B[38;5;124m\"\u001B[39m) \u001B[38;5;241m-\u001B[39m\u001B[38;5;241m>\u001B[39m \u001B[38;5;124m\"\u001B[39m\u001B[38;5;124mDataFrame\u001B[39m\u001B[38;5;124m\"\u001B[39m:  \u001B[38;5;66;03m# type: ignore[misc]\u001B[39;00m\n\u001B[1;32m   2979\u001B[0m     \u001B[38;5;124;03m\"\"\"Projects a set of expressions and returns a new :class:`DataFrame`.\u001B[39;00m\n\u001B[1;32m   2980\u001B[0m \n\u001B[1;32m   2981\u001B[0m \u001B[38;5;124;03m    .. versionadded:: 1.3.0\u001B[39;00m\n\u001B[0;32m   (...)\u001B[0m\n\u001B[1;32m   3021\u001B[0m \u001B[38;5;124;03m    +-----+---+\u001B[39;00m\n\u001B[1;32m   3022\u001B[0m \u001B[38;5;124;03m    \"\"\"\u001B[39;00m\n\u001B[0;32m-> 3023\u001B[0m     jdf \u001B[38;5;241m=\u001B[39m \u001B[38;5;28;43mself\u001B[39;49m\u001B[38;5;241;43m.\u001B[39;49m\u001B[43m_jdf\u001B[49m\u001B[38;5;241;43m.\u001B[39;49m\u001B[43mselect\u001B[49m\u001B[43m(\u001B[49m\u001B[38;5;28;43mself\u001B[39;49m\u001B[38;5;241;43m.\u001B[39;49m\u001B[43m_jcols\u001B[49m\u001B[43m(\u001B[49m\u001B[38;5;241;43m*\u001B[39;49m\u001B[43mcols\u001B[49m\u001B[43m)\u001B[49m\u001B[43m)\u001B[49m\n\u001B[1;32m   3024\u001B[0m     \u001B[38;5;28;01mreturn\u001B[39;00m DataFrame(jdf, \u001B[38;5;28mself\u001B[39m\u001B[38;5;241m.\u001B[39msparkSession)\n\nFile \u001B[0;32m/databricks/spark/python/lib/py4j-0.10.9.5-src.zip/py4j/java_gateway.py:1321\u001B[0m, in \u001B[0;36mJavaMember.__call__\u001B[0;34m(self, *args)\u001B[0m\n\u001B[1;32m   1315\u001B[0m command \u001B[38;5;241m=\u001B[39m proto\u001B[38;5;241m.\u001B[39mCALL_COMMAND_NAME \u001B[38;5;241m+\u001B[39m\\\n\u001B[1;32m   1316\u001B[0m     \u001B[38;5;28mself\u001B[39m\u001B[38;5;241m.\u001B[39mcommand_header \u001B[38;5;241m+\u001B[39m\\\n\u001B[1;32m   1317\u001B[0m     args_command \u001B[38;5;241m+\u001B[39m\\\n\u001B[1;32m   1318\u001B[0m     proto\u001B[38;5;241m.\u001B[39mEND_COMMAND_PART\n\u001B[1;32m   1320\u001B[0m answer \u001B[38;5;241m=\u001B[39m \u001B[38;5;28mself\u001B[39m\u001B[38;5;241m.\u001B[39mgateway_client\u001B[38;5;241m.\u001B[39msend_command(command)\n\u001B[0;32m-> 1321\u001B[0m return_value \u001B[38;5;241m=\u001B[39m \u001B[43mget_return_value\u001B[49m\u001B[43m(\u001B[49m\n\u001B[1;32m   1322\u001B[0m \u001B[43m    \u001B[49m\u001B[43manswer\u001B[49m\u001B[43m,\u001B[49m\u001B[43m \u001B[49m\u001B[38;5;28;43mself\u001B[39;49m\u001B[38;5;241;43m.\u001B[39;49m\u001B[43mgateway_client\u001B[49m\u001B[43m,\u001B[49m\u001B[43m \u001B[49m\u001B[38;5;28;43mself\u001B[39;49m\u001B[38;5;241;43m.\u001B[39;49m\u001B[43mtarget_id\u001B[49m\u001B[43m,\u001B[49m\u001B[43m \u001B[49m\u001B[38;5;28;43mself\u001B[39;49m\u001B[38;5;241;43m.\u001B[39;49m\u001B[43mname\u001B[49m\u001B[43m)\u001B[49m\n\u001B[1;32m   1324\u001B[0m \u001B[38;5;28;01mfor\u001B[39;00m temp_arg \u001B[38;5;129;01min\u001B[39;00m temp_args:\n\u001B[1;32m   1325\u001B[0m     temp_arg\u001B[38;5;241m.\u001B[39m_detach()\n\nFile \u001B[0;32m/databricks/spark/python/pyspark/errors/exceptions.py:234\u001B[0m, in \u001B[0;36mcapture_sql_exception.<locals>.deco\u001B[0;34m(*a, **kw)\u001B[0m\n\u001B[1;32m    230\u001B[0m converted \u001B[38;5;241m=\u001B[39m convert_exception(e\u001B[38;5;241m.\u001B[39mjava_exception)\n\u001B[1;32m    231\u001B[0m \u001B[38;5;28;01mif\u001B[39;00m \u001B[38;5;129;01mnot\u001B[39;00m \u001B[38;5;28misinstance\u001B[39m(converted, UnknownException):\n\u001B[1;32m    232\u001B[0m     \u001B[38;5;66;03m# Hide where the exception came from that shows a non-Pythonic\u001B[39;00m\n\u001B[1;32m    233\u001B[0m     \u001B[38;5;66;03m# JVM exception message.\u001B[39;00m\n\u001B[0;32m--> 234\u001B[0m     \u001B[38;5;28;01mraise\u001B[39;00m converted \u001B[38;5;28;01mfrom\u001B[39;00m \u001B[38;5;28mNone\u001B[39m\n\u001B[1;32m    235\u001B[0m \u001B[38;5;28;01melse\u001B[39;00m:\n\u001B[1;32m    236\u001B[0m     \u001B[38;5;28;01mraise\u001B[39;00m\n\n\u001B[0;31mAnalysisException\u001B[0m: [UNRESOLVED_COLUMN.WITH_SUGGESTION] A column or function parameter with name `main`.`department` cannot be resolved. Did you mean one of the following? [`references`.`department`, `references`.`lead`, `references`.`manager`].;\n'Project [manager#2028, lead#2029, 'main.department AS references.department#2323]\n+- SubqueryAlias references\n   +- Relation [department#2027,manager#2028,lead#2029] parquet\n",
       "errorSummary": "<span class='ansi-red-fg'>AnalysisException</span>: [UNRESOLVED_COLUMN.WITH_SUGGESTION] A column or function parameter with name `main`.`department` cannot be resolved. Did you mean one of the following? [`references`.`department`, `references`.`lead`, `references`.`manager`].;\n'Project [manager#2028, lead#2029, 'main.department AS references.department#2323]\n+- SubqueryAlias references\n   +- Relation [department#2027,manager#2028,lead#2029] parquet\n",
       "errorTraceType": "ansi",
       "metadata": {},
       "type": "ipynbError"
      }
     },
     "output_type": "display_data"
    }
   ],
   "source": [
    "df.join(\n",
    "    ref_df.select(\n",
    "        \"manager\",\n",
    "        \"lead\",\n",
    "        F.col(\"main.department\").alias(\"references.department\"),\n",
    "    ).alias(\"references\"),\n",
    "    F.col(\"main.department\") == F.col(\"references.department\"),\n",
    "    \"left\",\n",
    ").show()"
   ]
  },
  {
   "cell_type": "code",
   "execution_count": 0,
   "metadata": {
    "application/vnd.databricks.v1+cell": {
     "cellMetadata": {
      "byteLimit": 2048000,
      "rowLimit": 10000
     },
     "inputWidgets": {},
     "nuid": "47314be7-9b73-4294-a8ca-715d07a33cbf",
     "showTitle": false,
     "title": ""
    }
   },
   "outputs": [
    {
     "output_type": "stream",
     "name": "stdout",
     "output_type": "stream",
     "text": [
      "+---+----------+----------+---+------+----------+------------+--------------------+--------------------+-------------------+------------+---------+----------+-------+--------+\n| id|first_name|       dob|age|salary|department|salary_raise|salary-raise_10_perc|salary_raise_10_pers|salary_raise_7_pers|   age_group|has_dob_1|department|manager|    lead|\n+---+----------+----------+---+------+----------+------------+--------------------+--------------------+-------------------+------------+---------+----------+-------+--------+\n|  1|      John|1992-05-12| 32| 70000|        IT|     73500.0|              140000|             77000.0|           119000.0|        John|     true|        IT|  Chris|Chandler|\n|  4|     Emily|1994-11-22| 30| 65000|   Finance|     68250.0|              130000|             71500.0|           110500.0|    21 to 30|     true|   Finance|  Megan|   Molly|\n|  2|     Alice|1997-02-28| 27| 60000|        HR|     63000.0|              120000|             66000.0|           102000.0|    21 to 30|     true|        HR|   Brad|   Brian|\n|  3|       Bob|      null| -1| 80000|        IT|     84000.0|              160000|             88000.0|           136000.0|More than 40|    false|        IT|  Chris|Chandler|\n|  6|     Susan|1989-07-05| 35| 75000|   Finance|     78750.0|              150000|             82500.0|           127500.0|       Susan|     true|   Finance|  Megan|   Molly|\n|  7|      Mike|1976-03-15| 48| 95000|        IT|     99750.0|              190000|            104500.0|           161500.0|More than 40|     true|        IT|  Chris|Chandler|\n|  5|     David|1981-12-18| 43| 90000|        HR|     94500.0|              180000|             99000.0|           153000.0|More than 40|     true|        HR|   Brad|   Brian|\n| 10|    Sophie|1992-06-30| 32| 62000|   Finance|     65100.0|              124000|             68200.0|           105400.0|      Sophie|     true|   Finance|  Megan|   Molly|\n|  2|     Alice|1997-02-28| 27| 90000|   Finance|     94500.0|              180000|             99000.0|           153000.0|    21 to 30|     true|   Finance|  Megan|   Molly|\n|  4|     Emily|1994-11-22| 30| 70000|   Finance|     73500.0|              140000|             77000.0|           119000.0|    21 to 30|     true|   Finance|  Megan|   Molly|\n|  9|     James|1983-10-14| 41| 87000|        IT|     91350.0|              174000|             95700.0|           147900.0|More than 40|     true|        IT|  Chris|Chandler|\n|  8|      Lisa|1995-08-20| 29| 58000|        HR|     60900.0|              116000|             63800.0|            98600.0|    21 to 30|     true|        HR|   Brad|   Brian|\n+---+----------+----------+---+------+----------+------------+--------------------+--------------------+-------------------+------------+---------+----------+-------+--------+\n\n"
     ]
    }
   ],
   "source": [
    "df.alias(\"main\").join(\n",
    "    ref_df.alias(\"reference\"),\n",
    "    F.col(\"main.department\") == F.col(\"reference.department\"),\n",
    "    \"left\",\n",
    ").select( \n",
    "        F.col(\"main.*\"),\n",
    "        F.col(\"reference.*\")\n",
    ").show()\n"
   ]
  },
  {
   "cell_type": "code",
   "execution_count": 0,
   "metadata": {
    "application/vnd.databricks.v1+cell": {
     "cellMetadata": {
      "byteLimit": 2048000,
      "rowLimit": 10000
     },
     "inputWidgets": {},
     "nuid": "15844515-5725-4c93-b296-d283539869ba",
     "showTitle": false,
     "title": ""
    }
   },
   "outputs": [
    {
     "output_type": "stream",
     "name": "stdout",
     "output_type": "stream",
     "text": [
      "+--------+---------+-----------+\n|database|tableName|isTemporary|\n+--------+---------+-----------+\n| default|    final|      false|\n+--------+---------+-----------+\n\n"
     ]
    }
   ],
   "source": [
    "spark.sql(\"show tables\").show()"
   ]
  },
  {
   "cell_type": "code",
   "execution_count": 0,
   "metadata": {
    "application/vnd.databricks.v1+cell": {
     "cellMetadata": {
      "byteLimit": 2048000,
      "rowLimit": 10000
     },
     "inputWidgets": {},
     "nuid": "423533ae-65c0-4a40-b070-515d662c37d4",
     "showTitle": false,
     "title": ""
    }
   },
   "outputs": [
    {
     "output_type": "stream",
     "name": "stdout",
     "output_type": "stream",
     "text": [
      "Out[87]: DataFrame[]"
     ]
    }
   ],
   "source": [
    "spark.sql(\"drop table final\")"
   ]
  },
  {
   "cell_type": "code",
   "execution_count": 0,
   "metadata": {
    "application/vnd.databricks.v1+cell": {
     "cellMetadata": {
      "byteLimit": 2048000,
      "rowLimit": 10000
     },
     "inputWidgets": {},
     "nuid": "49717a2f-00bd-4555-83db-bcca2a5d2d95",
     "showTitle": false,
     "title": ""
    }
   },
   "outputs": [],
   "source": [
    "df.write.mode(\"overwrite\").format(\"delta\").saveAsTable(\"final\")"
   ]
  },
  {
   "cell_type": "code",
   "execution_count": 0,
   "metadata": {
    "application/vnd.databricks.v1+cell": {
     "cellMetadata": {
      "byteLimit": 2048000,
      "rowLimit": 10000
     },
     "inputWidgets": {},
     "nuid": "888df4b7-37c9-4f72-ad25-3dde8a828830",
     "showTitle": false,
     "title": ""
    }
   },
   "outputs": [
    {
     "output_type": "stream",
     "name": "stdout",
     "output_type": "stream",
     "text": [
      "+--------+---------+-----------+\n|database|tableName|isTemporary|\n+--------+---------+-----------+\n| default|    final|      false|\n+--------+---------+-----------+\n\n"
     ]
    }
   ],
   "source": [
    "spark.sql(\"show tables\").show()"
   ]
  },
  {
   "cell_type": "code",
   "execution_count": 0,
   "metadata": {
    "application/vnd.databricks.v1+cell": {
     "cellMetadata": {
      "byteLimit": 2048000,
      "rowLimit": 10000
     },
     "inputWidgets": {},
     "nuid": "b42b7b18-bac6-4c0b-9c70-5401a1542eb5",
     "showTitle": false,
     "title": ""
    }
   },
   "outputs": [
    {
     "output_type": "display_data",
     "data": {
      "text/html": [
       "<style scoped>\n",
       "  .table-result-container {\n",
       "    max-height: 300px;\n",
       "    overflow: auto;\n",
       "  }\n",
       "  table, th, td {\n",
       "    border: 1px solid black;\n",
       "    border-collapse: collapse;\n",
       "  }\n",
       "  th, td {\n",
       "    padding: 5px;\n",
       "  }\n",
       "  th {\n",
       "    text-align: left;\n",
       "  }\n",
       "</style><div class='table-result-container'><table class='table-result'><thead style='background-color: white'><tr><th>path</th><th>name</th><th>size</th><th>modificationTime</th></tr></thead><tbody><tr><td>dbfs:/user/hive/warehouse/final/_delta_log/</td><td>_delta_log/</td><td>0</td><td>0</td></tr><tr><td>dbfs:/user/hive/warehouse/final/part-00000-3616f3e2-f704-4220-a4e5-cc31d4b36d6c-c000.snappy.parquet</td><td>part-00000-3616f3e2-f704-4220-a4e5-cc31d4b36d6c-c000.snappy.parquet</td><td>4491</td><td>1708500552000</td></tr></tbody></table></div>"
      ]
     },
     "metadata": {
      "application/vnd.databricks.v1+output": {
       "addedWidgets": {},
       "aggData": [],
       "aggError": "",
       "aggOverflow": false,
       "aggSchema": [],
       "aggSeriesLimitReached": false,
       "aggType": "",
       "arguments": {},
       "columnCustomDisplayInfos": {},
       "data": [
        [
         "dbfs:/user/hive/warehouse/final/_delta_log/",
         "_delta_log/",
         0,
         0
        ],
        [
         "dbfs:/user/hive/warehouse/final/part-00000-3616f3e2-f704-4220-a4e5-cc31d4b36d6c-c000.snappy.parquet",
         "part-00000-3616f3e2-f704-4220-a4e5-cc31d4b36d6c-c000.snappy.parquet",
         4491,
         1708500552000
        ]
       ],
       "datasetInfos": [],
       "dbfsResultPath": null,
       "isJsonSchema": true,
       "metadata": {
        "isDbfsCommandResult": false
       },
       "overflow": false,
       "plotOptions": {
        "customPlotOptions": {},
        "displayType": "table",
        "pivotAggregation": null,
        "pivotColumns": null,
        "xColumns": null,
        "yColumns": null
       },
       "removedWidgets": [],
       "schema": [
        {
         "metadata": "{}",
         "name": "path",
         "type": "\"string\""
        },
        {
         "metadata": "{}",
         "name": "name",
         "type": "\"string\""
        },
        {
         "metadata": "{}",
         "name": "size",
         "type": "\"long\""
        },
        {
         "metadata": "{}",
         "name": "modificationTime",
         "type": "\"long\""
        }
       ],
       "type": "table"
      }
     },
     "output_type": "display_data"
    }
   ],
   "source": [
    "%fs ls dbfs:/user/hive/warehouse/final/"
   ]
  },
  {
   "cell_type": "code",
   "execution_count": 0,
   "metadata": {
    "application/vnd.databricks.v1+cell": {
     "cellMetadata": {
      "byteLimit": 2048000,
      "implicitDf": true,
      "rowLimit": 10000
     },
     "inputWidgets": {},
     "nuid": "56c09f43-934a-47db-b00a-7fc09a6c8d09",
     "showTitle": true,
     "title": ""
    }
   },
   "outputs": [
    {
     "output_type": "display_data",
     "data": {
      "text/html": [
       "<style scoped>\n",
       "  .table-result-container {\n",
       "    max-height: 300px;\n",
       "    overflow: auto;\n",
       "  }\n",
       "  table, th, td {\n",
       "    border: 1px solid black;\n",
       "    border-collapse: collapse;\n",
       "  }\n",
       "  th, td {\n",
       "    padding: 5px;\n",
       "  }\n",
       "  th {\n",
       "    text-align: left;\n",
       "  }\n",
       "</style><div class='table-result-container'><table class='table-result'><thead style='background-color: white'><tr><th>col_name</th><th>data_type</th><th>comment</th></tr></thead><tbody><tr><td>id</td><td>bigint</td><td>null</td></tr><tr><td>first_name</td><td>string</td><td>null</td></tr><tr><td>dob</td><td>string</td><td>null</td></tr><tr><td>age</td><td>int</td><td>null</td></tr><tr><td>salary</td><td>bigint</td><td>null</td></tr><tr><td>department</td><td>string</td><td>null</td></tr><tr><td>salary_raise</td><td>double</td><td>null</td></tr><tr><td>salary-raise_10_perc</td><td>bigint</td><td>null</td></tr><tr><td>salary_raise_10_pers</td><td>double</td><td>null</td></tr><tr><td>salary_raise_7_pers</td><td>double</td><td>null</td></tr><tr><td>age_group</td><td>string</td><td>null</td></tr><tr><td>has_dob_1</td><td>boolean</td><td>null</td></tr><tr><td></td><td></td><td></td></tr><tr><td># Detailed Table Information</td><td></td><td></td></tr><tr><td>Catalog</td><td>spark_catalog</td><td></td></tr><tr><td>Database</td><td>default</td><td></td></tr><tr><td>Table</td><td>final</td><td></td></tr><tr><td>Created Time</td><td>Wed Feb 21 07:29:17 UTC 2024</td><td></td></tr><tr><td>Last Access</td><td>UNKNOWN</td><td></td></tr><tr><td>Created By</td><td>Spark 3.3.2</td><td></td></tr><tr><td>Statistics</td><td>4491 bytes</td><td></td></tr><tr><td>Type</td><td>MANAGED</td><td></td></tr><tr><td>Location</td><td>dbfs:/user/hive/warehouse/final</td><td></td></tr><tr><td>Provider</td><td>delta</td><td></td></tr><tr><td>Owner</td><td>root</td><td></td></tr><tr><td>Is_managed_location</td><td>true</td><td></td></tr><tr><td>Table Properties</td><td>[delta.minReaderVersion=1,delta.minWriterVersion=2]</td><td></td></tr></tbody></table></div>"
      ]
     },
     "metadata": {
      "application/vnd.databricks.v1+output": {
       "addedWidgets": {},
       "aggData": [],
       "aggError": "",
       "aggOverflow": false,
       "aggSchema": [],
       "aggSeriesLimitReached": false,
       "aggType": "",
       "arguments": {},
       "columnCustomDisplayInfos": {},
       "data": [
        [
         "id",
         "bigint",
         null
        ],
        [
         "first_name",
         "string",
         null
        ],
        [
         "dob",
         "string",
         null
        ],
        [
         "age",
         "int",
         null
        ],
        [
         "salary",
         "bigint",
         null
        ],
        [
         "department",
         "string",
         null
        ],
        [
         "salary_raise",
         "double",
         null
        ],
        [
         "salary-raise_10_perc",
         "bigint",
         null
        ],
        [
         "salary_raise_10_pers",
         "double",
         null
        ],
        [
         "salary_raise_7_pers",
         "double",
         null
        ],
        [
         "age_group",
         "string",
         null
        ],
        [
         "has_dob_1",
         "boolean",
         null
        ],
        [
         "",
         "",
         ""
        ],
        [
         "# Detailed Table Information",
         "",
         ""
        ],
        [
         "Catalog",
         "spark_catalog",
         ""
        ],
        [
         "Database",
         "default",
         ""
        ],
        [
         "Table",
         "final",
         ""
        ],
        [
         "Created Time",
         "Wed Feb 21 07:29:17 UTC 2024",
         ""
        ],
        [
         "Last Access",
         "UNKNOWN",
         ""
        ],
        [
         "Created By",
         "Spark 3.3.2",
         ""
        ],
        [
         "Statistics",
         "4491 bytes",
         ""
        ],
        [
         "Type",
         "MANAGED",
         ""
        ],
        [
         "Location",
         "dbfs:/user/hive/warehouse/final",
         ""
        ],
        [
         "Provider",
         "delta",
         ""
        ],
        [
         "Owner",
         "root",
         ""
        ],
        [
         "Is_managed_location",
         "true",
         ""
        ],
        [
         "Table Properties",
         "[delta.minReaderVersion=1,delta.minWriterVersion=2]",
         ""
        ]
       ],
       "datasetInfos": [],
       "dbfsResultPath": null,
       "isJsonSchema": true,
       "metadata": {},
       "overflow": false,
       "plotOptions": {
        "customPlotOptions": {},
        "displayType": "table",
        "pivotAggregation": null,
        "pivotColumns": null,
        "xColumns": null,
        "yColumns": null
       },
       "removedWidgets": [],
       "schema": [
        {
         "metadata": "{\"comment\":\"name of the column\"}",
         "name": "col_name",
         "type": "\"string\""
        },
        {
         "metadata": "{\"comment\":\"data type of the column\"}",
         "name": "data_type",
         "type": "\"string\""
        },
        {
         "metadata": "{\"comment\":\"comment of the column\"}",
         "name": "comment",
         "type": "\"string\""
        }
       ],
       "type": "table"
      }
     },
     "output_type": "display_data"
    }
   ],
   "source": [
    "%sql\n",
    "desc table extended default.final"
   ]
  },
  {
   "cell_type": "code",
   "execution_count": 0,
   "metadata": {
    "application/vnd.databricks.v1+cell": {
     "cellMetadata": {
      "byteLimit": 2048000,
      "implicitDf": true,
      "rowLimit": 10000
     },
     "inputWidgets": {},
     "nuid": "4c526cb7-3592-418d-b182-341ea0a2f1c8",
     "showTitle": false,
     "title": ""
    }
   },
   "outputs": [
    {
     "output_type": "display_data",
     "data": {
      "text/html": [
       "<style scoped>\n",
       "  .table-result-container {\n",
       "    max-height: 300px;\n",
       "    overflow: auto;\n",
       "  }\n",
       "  table, th, td {\n",
       "    border: 1px solid black;\n",
       "    border-collapse: collapse;\n",
       "  }\n",
       "  th, td {\n",
       "    padding: 5px;\n",
       "  }\n",
       "  th {\n",
       "    text-align: left;\n",
       "  }\n",
       "</style><div class='table-result-container'><table class='table-result'><thead style='background-color: white'><tr><th>format</th><th>id</th><th>name</th><th>description</th><th>location</th><th>createdAt</th><th>lastModified</th><th>partitionColumns</th><th>numFiles</th><th>sizeInBytes</th><th>properties</th><th>minReaderVersion</th><th>minWriterVersion</th><th>tableFeatures</th><th>statistics</th></tr></thead><tbody><tr><td>delta</td><td>c55a3ae0-597b-44bf-af3d-53c08dbfef72</td><td>spark_catalog.default.final</td><td>null</td><td>dbfs:/user/hive/warehouse/final</td><td>2024-02-21T07:29:09.706+0000</td><td>2024-02-21T07:29:14.000+0000</td><td>List()</td><td>1</td><td>4491</td><td>Map()</td><td>1</td><td>2</td><td>List(appendOnly, invariants)</td><td>Map()</td></tr></tbody></table></div>"
      ]
     },
     "metadata": {
      "application/vnd.databricks.v1+output": {
       "addedWidgets": {},
       "aggData": [],
       "aggError": "",
       "aggOverflow": false,
       "aggSchema": [],
       "aggSeriesLimitReached": false,
       "aggType": "",
       "arguments": {},
       "columnCustomDisplayInfos": {},
       "data": [
        [
         "delta",
         "c55a3ae0-597b-44bf-af3d-53c08dbfef72",
         "spark_catalog.default.final",
         null,
         "dbfs:/user/hive/warehouse/final",
         "2024-02-21T07:29:09.706+0000",
         "2024-02-21T07:29:14.000+0000",
         [],
         1,
         4491,
         {},
         1,
         2,
         [
          "appendOnly",
          "invariants"
         ],
         {}
        ]
       ],
       "datasetInfos": [],
       "dbfsResultPath": null,
       "isJsonSchema": true,
       "metadata": {},
       "overflow": false,
       "plotOptions": {
        "customPlotOptions": {},
        "displayType": "table",
        "pivotAggregation": null,
        "pivotColumns": null,
        "xColumns": null,
        "yColumns": null
       },
       "removedWidgets": [],
       "schema": [
        {
         "metadata": "{}",
         "name": "format",
         "type": "\"string\""
        },
        {
         "metadata": "{}",
         "name": "id",
         "type": "\"string\""
        },
        {
         "metadata": "{}",
         "name": "name",
         "type": "\"string\""
        },
        {
         "metadata": "{}",
         "name": "description",
         "type": "\"string\""
        },
        {
         "metadata": "{}",
         "name": "location",
         "type": "\"string\""
        },
        {
         "metadata": "{}",
         "name": "createdAt",
         "type": "\"timestamp\""
        },
        {
         "metadata": "{}",
         "name": "lastModified",
         "type": "\"timestamp\""
        },
        {
         "metadata": "{}",
         "name": "partitionColumns",
         "type": "{\"type\":\"array\",\"elementType\":\"string\",\"containsNull\":true}"
        },
        {
         "metadata": "{}",
         "name": "numFiles",
         "type": "\"long\""
        },
        {
         "metadata": "{}",
         "name": "sizeInBytes",
         "type": "\"long\""
        },
        {
         "metadata": "{}",
         "name": "properties",
         "type": "{\"type\":\"map\",\"keyType\":\"string\",\"valueType\":\"string\",\"valueContainsNull\":true}"
        },
        {
         "metadata": "{}",
         "name": "minReaderVersion",
         "type": "\"integer\""
        },
        {
         "metadata": "{}",
         "name": "minWriterVersion",
         "type": "\"integer\""
        },
        {
         "metadata": "{}",
         "name": "tableFeatures",
         "type": "{\"type\":\"array\",\"elementType\":\"string\",\"containsNull\":true}"
        },
        {
         "metadata": "{}",
         "name": "statistics",
         "type": "{\"type\":\"map\",\"keyType\":\"string\",\"valueType\":\"long\",\"valueContainsNull\":true}"
        }
       ],
       "type": "table"
      }
     },
     "output_type": "display_data"
    }
   ],
   "source": [
    "%sql\n",
    "desc detail default.final"
   ]
  },
  {
   "cell_type": "code",
   "execution_count": 0,
   "metadata": {
    "application/vnd.databricks.v1+cell": {
     "cellMetadata": {
      "byteLimit": 2048000,
      "implicitDf": true,
      "rowLimit": 10000
     },
     "inputWidgets": {},
     "nuid": "11fcd4e2-a08c-4b48-8182-b41510e87e55",
     "showTitle": false,
     "title": ""
    }
   },
   "outputs": [
    {
     "output_type": "display_data",
     "data": {
      "text/html": [
       "<style scoped>\n",
       "  .table-result-container {\n",
       "    max-height: 300px;\n",
       "    overflow: auto;\n",
       "  }\n",
       "  table, th, td {\n",
       "    border: 1px solid black;\n",
       "    border-collapse: collapse;\n",
       "  }\n",
       "  th, td {\n",
       "    padding: 5px;\n",
       "  }\n",
       "  th {\n",
       "    text-align: left;\n",
       "  }\n",
       "</style><div class='table-result-container'><table class='table-result'><thead style='background-color: white'><tr><th>id</th><th>first_name</th><th>dob</th><th>age</th><th>salary</th><th>department</th><th>salary_raise</th><th>salary-raise_10_perc</th><th>salary_raise_10_pers</th><th>salary_raise_7_pers</th><th>age_group</th><th>has_dob_1</th></tr></thead><tbody><tr><td>1</td><td>John</td><td>1992-05-12</td><td>32</td><td>70000</td><td>IT</td><td>73500.0</td><td>140000</td><td>77000.0</td><td>119000.0</td><td>John</td><td>true</td></tr><tr><td>4</td><td>Emily</td><td>1994-11-22</td><td>30</td><td>65000</td><td>Finance</td><td>68250.0</td><td>130000</td><td>71500.0</td><td>110500.0</td><td>21 to 30</td><td>true</td></tr><tr><td>2</td><td>Alice</td><td>1997-02-28</td><td>27</td><td>60000</td><td>HR</td><td>63000.0</td><td>120000</td><td>66000.0</td><td>102000.0</td><td>21 to 30</td><td>true</td></tr><tr><td>3</td><td>Bob</td><td>null</td><td>-1</td><td>80000</td><td>IT</td><td>84000.0</td><td>160000</td><td>88000.0</td><td>136000.0</td><td>More than 40</td><td>false</td></tr><tr><td>6</td><td>Susan</td><td>1989-07-05</td><td>35</td><td>75000</td><td>Finance</td><td>78750.0</td><td>150000</td><td>82500.0</td><td>127500.0</td><td>Susan</td><td>true</td></tr><tr><td>7</td><td>Mike</td><td>1976-03-15</td><td>48</td><td>95000</td><td>IT</td><td>99750.0</td><td>190000</td><td>104500.0</td><td>161500.0</td><td>More than 40</td><td>true</td></tr><tr><td>5</td><td>David</td><td>1981-12-18</td><td>43</td><td>90000</td><td>HR</td><td>94500.0</td><td>180000</td><td>99000.0</td><td>153000.0</td><td>More than 40</td><td>true</td></tr><tr><td>10</td><td>Sophie</td><td>1992-06-30</td><td>32</td><td>62000</td><td>Finance</td><td>65100.0</td><td>124000</td><td>68200.0</td><td>105400.0</td><td>Sophie</td><td>true</td></tr><tr><td>2</td><td>Alice</td><td>1997-02-28</td><td>27</td><td>90000</td><td>Finance</td><td>94500.0</td><td>180000</td><td>99000.0</td><td>153000.0</td><td>21 to 30</td><td>true</td></tr><tr><td>4</td><td>Emily</td><td>1994-11-22</td><td>30</td><td>70000</td><td>Finance</td><td>73500.0</td><td>140000</td><td>77000.0</td><td>119000.0</td><td>21 to 30</td><td>true</td></tr><tr><td>9</td><td>James</td><td>1983-10-14</td><td>41</td><td>87000</td><td>IT</td><td>91350.0</td><td>174000</td><td>95700.0</td><td>147900.0</td><td>More than 40</td><td>true</td></tr><tr><td>8</td><td>Lisa</td><td>1995-08-20</td><td>29</td><td>58000</td><td>HR</td><td>60900.0</td><td>116000</td><td>63800.0</td><td>98600.0</td><td>21 to 30</td><td>true</td></tr></tbody></table></div>"
      ]
     },
     "metadata": {
      "application/vnd.databricks.v1+output": {
       "addedWidgets": {},
       "aggData": [],
       "aggError": "",
       "aggOverflow": false,
       "aggSchema": [],
       "aggSeriesLimitReached": false,
       "aggType": "",
       "arguments": {},
       "columnCustomDisplayInfos": {},
       "data": [
        [
         1,
         "John",
         "1992-05-12",
         32,
         70000,
         "IT",
         73500.0,
         140000,
         77000.0,
         119000.0,
         "John",
         true
        ],
        [
         4,
         "Emily",
         "1994-11-22",
         30,
         65000,
         "Finance",
         68250.0,
         130000,
         71500.0,
         110500.0,
         "21 to 30",
         true
        ],
        [
         2,
         "Alice",
         "1997-02-28",
         27,
         60000,
         "HR",
         63000.0,
         120000,
         66000.0,
         102000.0,
         "21 to 30",
         true
        ],
        [
         3,
         "Bob",
         null,
         -1,
         80000,
         "IT",
         84000.0,
         160000,
         88000.0,
         136000.0,
         "More than 40",
         false
        ],
        [
         6,
         "Susan",
         "1989-07-05",
         35,
         75000,
         "Finance",
         78750.0,
         150000,
         82500.0,
         127500.0,
         "Susan",
         true
        ],
        [
         7,
         "Mike",
         "1976-03-15",
         48,
         95000,
         "IT",
         99750.0,
         190000,
         104500.0,
         161500.0,
         "More than 40",
         true
        ],
        [
         5,
         "David",
         "1981-12-18",
         43,
         90000,
         "HR",
         94500.0,
         180000,
         99000.0,
         153000.0,
         "More than 40",
         true
        ],
        [
         10,
         "Sophie",
         "1992-06-30",
         32,
         62000,
         "Finance",
         65100.0,
         124000,
         68200.0,
         105400.0,
         "Sophie",
         true
        ],
        [
         2,
         "Alice",
         "1997-02-28",
         27,
         90000,
         "Finance",
         94500.0,
         180000,
         99000.0,
         153000.0,
         "21 to 30",
         true
        ],
        [
         4,
         "Emily",
         "1994-11-22",
         30,
         70000,
         "Finance",
         73500.0,
         140000,
         77000.0,
         119000.0,
         "21 to 30",
         true
        ],
        [
         9,
         "James",
         "1983-10-14",
         41,
         87000,
         "IT",
         91350.0,
         174000,
         95700.0,
         147900.0,
         "More than 40",
         true
        ],
        [
         8,
         "Lisa",
         "1995-08-20",
         29,
         58000,
         "HR",
         60900.0,
         116000,
         63800.0,
         98600.0,
         "21 to 30",
         true
        ]
       ],
       "datasetInfos": [],
       "dbfsResultPath": null,
       "isJsonSchema": true,
       "metadata": {},
       "overflow": false,
       "plotOptions": {
        "customPlotOptions": {},
        "displayType": "table",
        "pivotAggregation": null,
        "pivotColumns": null,
        "xColumns": null,
        "yColumns": null
       },
       "removedWidgets": [],
       "schema": [
        {
         "metadata": "{}",
         "name": "id",
         "type": "\"long\""
        },
        {
         "metadata": "{}",
         "name": "first_name",
         "type": "\"string\""
        },
        {
         "metadata": "{}",
         "name": "dob",
         "type": "\"string\""
        },
        {
         "metadata": "{}",
         "name": "age",
         "type": "\"integer\""
        },
        {
         "metadata": "{}",
         "name": "salary",
         "type": "\"long\""
        },
        {
         "metadata": "{}",
         "name": "department",
         "type": "\"string\""
        },
        {
         "metadata": "{}",
         "name": "salary_raise",
         "type": "\"double\""
        },
        {
         "metadata": "{}",
         "name": "salary-raise_10_perc",
         "type": "\"long\""
        },
        {
         "metadata": "{}",
         "name": "salary_raise_10_pers",
         "type": "\"double\""
        },
        {
         "metadata": "{}",
         "name": "salary_raise_7_pers",
         "type": "\"double\""
        },
        {
         "metadata": "{}",
         "name": "age_group",
         "type": "\"string\""
        },
        {
         "metadata": "{}",
         "name": "has_dob_1",
         "type": "\"boolean\""
        }
       ],
       "type": "table"
      }
     },
     "output_type": "display_data"
    }
   ],
   "source": [
    "\n",
    "%sql\n",
    "SELECT * from default.final"
   ]
  },
  {
   "cell_type": "code",
   "execution_count": 0,
   "metadata": {
    "application/vnd.databricks.v1+cell": {
     "cellMetadata": {
      "byteLimit": 2048000,
      "implicitDf": true,
      "rowLimit": 10000
     },
     "inputWidgets": {},
     "nuid": "791bf4a7-68c8-4e7e-a0a6-8701ab02fc3e",
     "showTitle": false,
     "title": ""
    }
   },
   "outputs": [
    {
     "output_type": "display_data",
     "data": {
      "text/html": [
       "<style scoped>\n",
       "  .table-result-container {\n",
       "    max-height: 300px;\n",
       "    overflow: auto;\n",
       "  }\n",
       "  table, th, td {\n",
       "    border: 1px solid black;\n",
       "    border-collapse: collapse;\n",
       "  }\n",
       "  th, td {\n",
       "    padding: 5px;\n",
       "  }\n",
       "  th {\n",
       "    text-align: left;\n",
       "  }\n",
       "</style><div class='table-result-container'><table class='table-result'><thead style='background-color: white'><tr><th>first_name</th><th>salary</th><th>department</th><th>salary_raise</th><th>salary-raise_10_perc</th><th>salary_raise_10_pers</th><th>salary_raise_7_pers</th><th>age_group</th><th>has_dob_1</th></tr></thead><tbody><tr><td>John</td><td>70000</td><td>IT</td><td>73500.0</td><td>140000</td><td>77000.0</td><td>119000.0</td><td>John</td><td>true</td></tr><tr><td>Emily</td><td>65000</td><td>Finance</td><td>68250.0</td><td>130000</td><td>71500.0</td><td>110500.0</td><td>21 to 30</td><td>true</td></tr><tr><td>Alice</td><td>60000</td><td>HR</td><td>63000.0</td><td>120000</td><td>66000.0</td><td>102000.0</td><td>21 to 30</td><td>true</td></tr><tr><td>Bob</td><td>80000</td><td>IT</td><td>84000.0</td><td>160000</td><td>88000.0</td><td>136000.0</td><td>More than 40</td><td>false</td></tr><tr><td>Susan</td><td>75000</td><td>Finance</td><td>78750.0</td><td>150000</td><td>82500.0</td><td>127500.0</td><td>Susan</td><td>true</td></tr><tr><td>Mike</td><td>95000</td><td>IT</td><td>99750.0</td><td>190000</td><td>104500.0</td><td>161500.0</td><td>More than 40</td><td>true</td></tr><tr><td>David</td><td>90000</td><td>HR</td><td>94500.0</td><td>180000</td><td>99000.0</td><td>153000.0</td><td>More than 40</td><td>true</td></tr><tr><td>Sophie</td><td>62000</td><td>Finance</td><td>65100.0</td><td>124000</td><td>68200.0</td><td>105400.0</td><td>Sophie</td><td>true</td></tr><tr><td>Alice</td><td>90000</td><td>Finance</td><td>94500.0</td><td>180000</td><td>99000.0</td><td>153000.0</td><td>21 to 30</td><td>true</td></tr><tr><td>Emily</td><td>70000</td><td>Finance</td><td>73500.0</td><td>140000</td><td>77000.0</td><td>119000.0</td><td>21 to 30</td><td>true</td></tr><tr><td>James</td><td>87000</td><td>IT</td><td>91350.0</td><td>174000</td><td>95700.0</td><td>147900.0</td><td>More than 40</td><td>true</td></tr><tr><td>Lisa</td><td>58000</td><td>HR</td><td>60900.0</td><td>116000</td><td>63800.0</td><td>98600.0</td><td>21 to 30</td><td>true</td></tr></tbody></table></div>"
      ]
     },
     "metadata": {
      "application/vnd.databricks.v1+output": {
       "addedWidgets": {},
       "aggData": [],
       "aggError": "",
       "aggOverflow": false,
       "aggSchema": [],
       "aggSeriesLimitReached": false,
       "aggType": "",
       "arguments": {},
       "columnCustomDisplayInfos": {},
       "data": [
        [
         "John",
         70000,
         "IT",
         73500.0,
         140000,
         77000.0,
         119000.0,
         "John",
         true
        ],
        [
         "Emily",
         65000,
         "Finance",
         68250.0,
         130000,
         71500.0,
         110500.0,
         "21 to 30",
         true
        ],
        [
         "Alice",
         60000,
         "HR",
         63000.0,
         120000,
         66000.0,
         102000.0,
         "21 to 30",
         true
        ],
        [
         "Bob",
         80000,
         "IT",
         84000.0,
         160000,
         88000.0,
         136000.0,
         "More than 40",
         false
        ],
        [
         "Susan",
         75000,
         "Finance",
         78750.0,
         150000,
         82500.0,
         127500.0,
         "Susan",
         true
        ],
        [
         "Mike",
         95000,
         "IT",
         99750.0,
         190000,
         104500.0,
         161500.0,
         "More than 40",
         true
        ],
        [
         "David",
         90000,
         "HR",
         94500.0,
         180000,
         99000.0,
         153000.0,
         "More than 40",
         true
        ],
        [
         "Sophie",
         62000,
         "Finance",
         65100.0,
         124000,
         68200.0,
         105400.0,
         "Sophie",
         true
        ],
        [
         "Alice",
         90000,
         "Finance",
         94500.0,
         180000,
         99000.0,
         153000.0,
         "21 to 30",
         true
        ],
        [
         "Emily",
         70000,
         "Finance",
         73500.0,
         140000,
         77000.0,
         119000.0,
         "21 to 30",
         true
        ],
        [
         "James",
         87000,
         "IT",
         91350.0,
         174000,
         95700.0,
         147900.0,
         "More than 40",
         true
        ],
        [
         "Lisa",
         58000,
         "HR",
         60900.0,
         116000,
         63800.0,
         98600.0,
         "21 to 30",
         true
        ]
       ],
       "datasetInfos": [],
       "dbfsResultPath": null,
       "isJsonSchema": true,
       "metadata": {},
       "overflow": false,
       "plotOptions": {
        "customPlotOptions": {},
        "displayType": "table",
        "pivotAggregation": null,
        "pivotColumns": null,
        "xColumns": null,
        "yColumns": null
       },
       "removedWidgets": [],
       "schema": [
        {
         "metadata": "{}",
         "name": "first_name",
         "type": "\"string\""
        },
        {
         "metadata": "{}",
         "name": "salary",
         "type": "\"long\""
        },
        {
         "metadata": "{}",
         "name": "department",
         "type": "\"string\""
        },
        {
         "metadata": "{}",
         "name": "salary_raise",
         "type": "\"double\""
        },
        {
         "metadata": "{}",
         "name": "salary-raise_10_perc",
         "type": "\"long\""
        },
        {
         "metadata": "{}",
         "name": "salary_raise_10_pers",
         "type": "\"double\""
        },
        {
         "metadata": "{}",
         "name": "salary_raise_7_pers",
         "type": "\"double\""
        },
        {
         "metadata": "{}",
         "name": "age_group",
         "type": "\"string\""
        },
        {
         "metadata": "{}",
         "name": "has_dob_1",
         "type": "\"boolean\""
        }
       ],
       "type": "table"
      }
     },
     "output_type": "display_data"
    }
   ],
   "source": [
    "%sql\n",
    "select * except(id, dob, age) from default.final;"
   ]
  },
  {
   "cell_type": "code",
   "execution_count": 0,
   "metadata": {
    "application/vnd.databricks.v1+cell": {
     "cellMetadata": {
      "byteLimit": 2048000,
      "rowLimit": 10000
     },
     "inputWidgets": {},
     "nuid": "3e497f83-06e3-46a9-9f0b-981779be2fe1",
     "showTitle": false,
     "title": ""
    }
   },
   "outputs": [],
   "source": [
    "table_df = spark.table(\"final\")"
   ]
  },
  {
   "cell_type": "code",
   "execution_count": 0,
   "metadata": {
    "application/vnd.databricks.v1+cell": {
     "cellMetadata": {
      "byteLimit": 2048000,
      "rowLimit": 10000
     },
     "inputWidgets": {},
     "nuid": "e6ea709e-4ff0-4d2e-94b9-2196870b1069",
     "showTitle": false,
     "title": ""
    }
   },
   "outputs": [
    {
     "output_type": "stream",
     "name": "stdout",
     "output_type": "stream",
     "text": [
      "+---+----------+----------+---+------+----------+------------+--------------------+--------------------+-------------------+------------+---------+\n| id|first_name|       dob|age|salary|department|salary_raise|salary-raise_10_perc|salary_raise_10_pers|salary_raise_7_pers|   age_group|has_dob_1|\n+---+----------+----------+---+------+----------+------------+--------------------+--------------------+-------------------+------------+---------+\n|  1|      John|1992-05-12| 32| 70000|        IT|     73500.0|              140000|             77000.0|           119000.0|        John|     true|\n|  4|     Emily|1994-11-22| 30| 65000|   Finance|     68250.0|              130000|             71500.0|           110500.0|    21 to 30|     true|\n|  2|     Alice|1997-02-28| 27| 60000|        HR|     63000.0|              120000|             66000.0|           102000.0|    21 to 30|     true|\n|  3|       Bob|      null| -1| 80000|        IT|     84000.0|              160000|             88000.0|           136000.0|More than 40|    false|\n|  6|     Susan|1989-07-05| 35| 75000|   Finance|     78750.0|              150000|             82500.0|           127500.0|       Susan|     true|\n|  7|      Mike|1976-03-15| 48| 95000|        IT|     99750.0|              190000|            104500.0|           161500.0|More than 40|     true|\n|  5|     David|1981-12-18| 43| 90000|        HR|     94500.0|              180000|             99000.0|           153000.0|More than 40|     true|\n| 10|    Sophie|1992-06-30| 32| 62000|   Finance|     65100.0|              124000|             68200.0|           105400.0|      Sophie|     true|\n|  2|     Alice|1997-02-28| 27| 90000|   Finance|     94500.0|              180000|             99000.0|           153000.0|    21 to 30|     true|\n|  4|     Emily|1994-11-22| 30| 70000|   Finance|     73500.0|              140000|             77000.0|           119000.0|    21 to 30|     true|\n|  9|     James|1983-10-14| 41| 87000|        IT|     91350.0|              174000|             95700.0|           147900.0|More than 40|     true|\n|  8|      Lisa|1995-08-20| 29| 58000|        HR|     60900.0|              116000|             63800.0|            98600.0|    21 to 30|     true|\n+---+----------+----------+---+------+----------+------------+--------------------+--------------------+-------------------+------------+---------+\n\n"
     ]
    }
   ],
   "source": [
    "table_df.show()"
   ]
  },
  {
   "cell_type": "code",
   "execution_count": 0,
   "metadata": {
    "application/vnd.databricks.v1+cell": {
     "cellMetadata": {
      "byteLimit": 2048000,
      "rowLimit": 10000
     },
     "inputWidgets": {},
     "nuid": "e4794895-0c7a-4f86-bf12-726e08199813",
     "showTitle": false,
     "title": ""
    }
   },
   "outputs": [
    {
     "output_type": "display_data",
     "data": {
      "text/html": [
       "<style scoped>\n",
       "  .table-result-container {\n",
       "    max-height: 300px;\n",
       "    overflow: auto;\n",
       "  }\n",
       "  table, th, td {\n",
       "    border: 1px solid black;\n",
       "    border-collapse: collapse;\n",
       "  }\n",
       "  th, td {\n",
       "    padding: 5px;\n",
       "  }\n",
       "  th {\n",
       "    text-align: left;\n",
       "  }\n",
       "</style><div class='table-result-container'><table class='table-result'><thead style='background-color: white'><tr><th>id</th><th>first_name</th><th>dob</th><th>age</th><th>salary</th><th>department</th><th>salary_raise</th><th>salary-raise_10_perc</th><th>salary_raise_10_pers</th><th>salary_raise_7_pers</th><th>age_group</th><th>has_dob_1</th></tr></thead><tbody><tr><td>1</td><td>John</td><td>1992-05-12</td><td>32</td><td>70000</td><td>IT</td><td>73500.0</td><td>140000</td><td>77000.0</td><td>119000.0</td><td>John</td><td>true</td></tr><tr><td>4</td><td>Emily</td><td>1994-11-22</td><td>30</td><td>65000</td><td>Finance</td><td>68250.0</td><td>130000</td><td>71500.0</td><td>110500.0</td><td>21 to 30</td><td>true</td></tr><tr><td>2</td><td>Alice</td><td>1997-02-28</td><td>27</td><td>60000</td><td>HR</td><td>63000.0</td><td>120000</td><td>66000.0</td><td>102000.0</td><td>21 to 30</td><td>true</td></tr><tr><td>3</td><td>Bob</td><td>null</td><td>-1</td><td>80000</td><td>IT</td><td>84000.0</td><td>160000</td><td>88000.0</td><td>136000.0</td><td>More than 40</td><td>false</td></tr><tr><td>6</td><td>Susan</td><td>1989-07-05</td><td>35</td><td>75000</td><td>Finance</td><td>78750.0</td><td>150000</td><td>82500.0</td><td>127500.0</td><td>Susan</td><td>true</td></tr><tr><td>7</td><td>Mike</td><td>1976-03-15</td><td>48</td><td>95000</td><td>IT</td><td>99750.0</td><td>190000</td><td>104500.0</td><td>161500.0</td><td>More than 40</td><td>true</td></tr><tr><td>5</td><td>David</td><td>1981-12-18</td><td>43</td><td>90000</td><td>HR</td><td>94500.0</td><td>180000</td><td>99000.0</td><td>153000.0</td><td>More than 40</td><td>true</td></tr><tr><td>10</td><td>Sophie</td><td>1992-06-30</td><td>32</td><td>62000</td><td>Finance</td><td>65100.0</td><td>124000</td><td>68200.0</td><td>105400.0</td><td>Sophie</td><td>true</td></tr><tr><td>2</td><td>Alice</td><td>1997-02-28</td><td>27</td><td>90000</td><td>Finance</td><td>94500.0</td><td>180000</td><td>99000.0</td><td>153000.0</td><td>21 to 30</td><td>true</td></tr><tr><td>4</td><td>Emily</td><td>1994-11-22</td><td>30</td><td>70000</td><td>Finance</td><td>73500.0</td><td>140000</td><td>77000.0</td><td>119000.0</td><td>21 to 30</td><td>true</td></tr><tr><td>9</td><td>James</td><td>1983-10-14</td><td>41</td><td>87000</td><td>IT</td><td>91350.0</td><td>174000</td><td>95700.0</td><td>147900.0</td><td>More than 40</td><td>true</td></tr><tr><td>8</td><td>Lisa</td><td>1995-08-20</td><td>29</td><td>58000</td><td>HR</td><td>60900.0</td><td>116000</td><td>63800.0</td><td>98600.0</td><td>21 to 30</td><td>true</td></tr></tbody></table></div>"
      ]
     },
     "metadata": {
      "application/vnd.databricks.v1+output": {
       "addedWidgets": {},
       "aggData": [],
       "aggError": "",
       "aggOverflow": false,
       "aggSchema": [],
       "aggSeriesLimitReached": false,
       "aggType": "",
       "arguments": {},
       "columnCustomDisplayInfos": {},
       "data": [
        [
         1,
         "John",
         "1992-05-12",
         32,
         70000,
         "IT",
         73500.0,
         140000,
         77000.0,
         119000.0,
         "John",
         true
        ],
        [
         4,
         "Emily",
         "1994-11-22",
         30,
         65000,
         "Finance",
         68250.0,
         130000,
         71500.0,
         110500.0,
         "21 to 30",
         true
        ],
        [
         2,
         "Alice",
         "1997-02-28",
         27,
         60000,
         "HR",
         63000.0,
         120000,
         66000.0,
         102000.0,
         "21 to 30",
         true
        ],
        [
         3,
         "Bob",
         null,
         -1,
         80000,
         "IT",
         84000.0,
         160000,
         88000.0,
         136000.0,
         "More than 40",
         false
        ],
        [
         6,
         "Susan",
         "1989-07-05",
         35,
         75000,
         "Finance",
         78750.0,
         150000,
         82500.0,
         127500.0,
         "Susan",
         true
        ],
        [
         7,
         "Mike",
         "1976-03-15",
         48,
         95000,
         "IT",
         99750.0,
         190000,
         104500.0,
         161500.0,
         "More than 40",
         true
        ],
        [
         5,
         "David",
         "1981-12-18",
         43,
         90000,
         "HR",
         94500.0,
         180000,
         99000.0,
         153000.0,
         "More than 40",
         true
        ],
        [
         10,
         "Sophie",
         "1992-06-30",
         32,
         62000,
         "Finance",
         65100.0,
         124000,
         68200.0,
         105400.0,
         "Sophie",
         true
        ],
        [
         2,
         "Alice",
         "1997-02-28",
         27,
         90000,
         "Finance",
         94500.0,
         180000,
         99000.0,
         153000.0,
         "21 to 30",
         true
        ],
        [
         4,
         "Emily",
         "1994-11-22",
         30,
         70000,
         "Finance",
         73500.0,
         140000,
         77000.0,
         119000.0,
         "21 to 30",
         true
        ],
        [
         9,
         "James",
         "1983-10-14",
         41,
         87000,
         "IT",
         91350.0,
         174000,
         95700.0,
         147900.0,
         "More than 40",
         true
        ],
        [
         8,
         "Lisa",
         "1995-08-20",
         29,
         58000,
         "HR",
         60900.0,
         116000,
         63800.0,
         98600.0,
         "21 to 30",
         true
        ]
       ],
       "datasetInfos": [],
       "dbfsResultPath": null,
       "isJsonSchema": true,
       "metadata": {},
       "overflow": false,
       "plotOptions": {
        "customPlotOptions": {},
        "displayType": "table",
        "pivotAggregation": null,
        "pivotColumns": null,
        "xColumns": null,
        "yColumns": null
       },
       "removedWidgets": [],
       "schema": [
        {
         "metadata": "{}",
         "name": "id",
         "type": "\"long\""
        },
        {
         "metadata": "{}",
         "name": "first_name",
         "type": "\"string\""
        },
        {
         "metadata": "{}",
         "name": "dob",
         "type": "\"string\""
        },
        {
         "metadata": "{}",
         "name": "age",
         "type": "\"integer\""
        },
        {
         "metadata": "{}",
         "name": "salary",
         "type": "\"long\""
        },
        {
         "metadata": "{}",
         "name": "department",
         "type": "\"string\""
        },
        {
         "metadata": "{}",
         "name": "salary_raise",
         "type": "\"double\""
        },
        {
         "metadata": "{}",
         "name": "salary-raise_10_perc",
         "type": "\"long\""
        },
        {
         "metadata": "{}",
         "name": "salary_raise_10_pers",
         "type": "\"double\""
        },
        {
         "metadata": "{}",
         "name": "salary_raise_7_pers",
         "type": "\"double\""
        },
        {
         "metadata": "{}",
         "name": "age_group",
         "type": "\"string\""
        },
        {
         "metadata": "{}",
         "name": "has_dob_1",
         "type": "\"boolean\""
        }
       ],
       "type": "table"
      }
     },
     "output_type": "display_data"
    }
   ],
   "source": [
    "display(table_df)"
   ]
  },
  {
   "cell_type": "code",
   "execution_count": 0,
   "metadata": {
    "application/vnd.databricks.v1+cell": {
     "cellMetadata": {},
     "inputWidgets": {},
     "nuid": "c966b3f1-1424-4e96-85b9-cfda33d050bd",
     "showTitle": false,
     "title": ""
    }
   },
   "outputs": [],
   "source": []
  }
 ],
 "metadata": {
  "application/vnd.databricks.v1+notebook": {
   "dashboards": [],
   "language": "python",
   "notebookMetadata": {
    "mostRecentlyExecutedCommandWithImplicitDF": {
     "commandId": 1207549527864349,
     "dataframes": [
      "_sqldf"
     ]
    },
    "pythonIndentUnit": 4
   },
   "notebookName": "Pyspark( 9th Feb)- ALL Sessions",
   "widgets": {}
  }
 },
 "nbformat": 4,
 "nbformat_minor": 0
}
