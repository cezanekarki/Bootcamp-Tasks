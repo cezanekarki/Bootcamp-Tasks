{
 "cells": [
  {
   "cell_type": "code",
   "execution_count": 0,
   "metadata": {
    "application/vnd.databricks.v1+cell": {
     "cellMetadata": {
      "byteLimit": 2048000,
      "rowLimit": 10000
     },
     "inputWidgets": {},
     "nuid": "0def98c4-7db5-4955-a65a-9aa8f58d39aa",
     "showTitle": false,
     "title": ""
    }
   },
   "outputs": [
    {
     "output_type": "display_data",
     "data": {
      "text/html": [
       "<style scoped>\n",
       "  .table-result-container {\n",
       "    max-height: 300px;\n",
       "    overflow: auto;\n",
       "  }\n",
       "  table, th, td {\n",
       "    border: 1px solid black;\n",
       "    border-collapse: collapse;\n",
       "  }\n",
       "  th, td {\n",
       "    padding: 5px;\n",
       "  }\n",
       "  th {\n",
       "    text-align: left;\n",
       "  }\n",
       "</style><div class='table-result-container'><table class='table-result'><thead style='background-color: white'><tr></tr></thead><tbody></tbody></table></div>"
      ]
     },
     "metadata": {
      "application/vnd.databricks.v1+output": {
       "addedWidgets": {},
       "aggData": [],
       "aggError": "",
       "aggOverflow": false,
       "aggSchema": [],
       "aggSeriesLimitReached": false,
       "aggType": "",
       "arguments": {},
       "columnCustomDisplayInfos": {},
       "data": [],
       "datasetInfos": [],
       "dbfsResultPath": null,
       "isJsonSchema": true,
       "metadata": {
        "isDbfsCommandResult": false
       },
       "overflow": false,
       "plotOptions": {
        "customPlotOptions": {},
        "displayType": "table",
        "pivotAggregation": null,
        "pivotColumns": null,
        "xColumns": null,
        "yColumns": null
       },
       "removedWidgets": [],
       "schema": [],
       "type": "table"
      }
     },
     "output_type": "display_data"
    }
   ],
   "source": [
    "%sql\n",
    "--information about all the teams in eurocup\n",
    "CREATE or replace TABLE teamsinfo10(\n",
    "    TeamID INT,\n",
    "    TeamName VARCHAR(50) NOT NULL,\n",
    "    GroupName CHAR(1) NOT NULL\n",
    ");"
   ]
  },
  {
   "cell_type": "code",
   "execution_count": 0,
   "metadata": {
    "application/vnd.databricks.v1+cell": {
     "cellMetadata": {
      "byteLimit": 2048000,
      "rowLimit": 10000
     },
     "inputWidgets": {},
     "nuid": "c3cac799-ff28-450b-9ad8-b181e038a6d9",
     "showTitle": false,
     "title": ""
    }
   },
   "outputs": [
    {
     "output_type": "display_data",
     "data": {
      "text/html": [
       "<style scoped>\n",
       "  .table-result-container {\n",
       "    max-height: 300px;\n",
       "    overflow: auto;\n",
       "  }\n",
       "  table, th, td {\n",
       "    border: 1px solid black;\n",
       "    border-collapse: collapse;\n",
       "  }\n",
       "  th, td {\n",
       "    padding: 5px;\n",
       "  }\n",
       "  th {\n",
       "    text-align: left;\n",
       "  }\n",
       "</style><div class='table-result-container'><table class='table-result'><thead style='background-color: white'><tr><th>TeamID</th><th>TeamName</th><th>GroupName</th></tr></thead><tbody><tr><td>1</td><td>France</td><td>A</td></tr><tr><td>2</td><td>Portugal</td><td>A</td></tr><tr><td>3</td><td>Germany</td><td>A</td></tr><tr><td>4</td><td>Hungary</td><td>A</td></tr><tr><td>5</td><td>Spain</td><td>B</td></tr><tr><td>6</td><td>Sweden</td><td>B</td></tr><tr><td>7</td><td>Poland</td><td>B</td></tr><tr><td>8</td><td>Slovakia</td><td>B</td></tr><tr><td>9</td><td>Italy</td><td>C</td></tr><tr><td>10</td><td>Switzerland</td><td>C</td></tr><tr><td>11</td><td>Turkey</td><td>C</td></tr><tr><td>12</td><td>Wales</td><td>C</td></tr><tr><td>13</td><td>Belgium</td><td>D</td></tr><tr><td>14</td><td>Denmark</td><td>D</td></tr><tr><td>15</td><td>Russia</td><td>D</td></tr><tr><td>16</td><td>Finland</td><td>D</td></tr><tr><td>17</td><td>Netherlands</td><td>E</td></tr><tr><td>18</td><td>Ukraine</td><td>E</td></tr><tr><td>19</td><td>Austria</td><td>E</td></tr><tr><td>20</td><td>North Macedonia</td><td>E</td></tr><tr><td>21</td><td>England</td><td>F</td></tr><tr><td>22</td><td>Croatia</td><td>F</td></tr><tr><td>23</td><td>Scotland</td><td>F</td></tr><tr><td>24</td><td>Czech Republic</td><td>F</td></tr></tbody></table></div>"
      ]
     },
     "metadata": {
      "application/vnd.databricks.v1+output": {
       "addedWidgets": {},
       "aggData": [],
       "aggError": "",
       "aggOverflow": false,
       "aggSchema": [],
       "aggSeriesLimitReached": false,
       "aggType": "",
       "arguments": {},
       "columnCustomDisplayInfos": {},
       "data": [
        [
         1,
         "France",
         "A"
        ],
        [
         2,
         "Portugal",
         "A"
        ],
        [
         3,
         "Germany",
         "A"
        ],
        [
         4,
         "Hungary",
         "A"
        ],
        [
         5,
         "Spain",
         "B"
        ],
        [
         6,
         "Sweden",
         "B"
        ],
        [
         7,
         "Poland",
         "B"
        ],
        [
         8,
         "Slovakia",
         "B"
        ],
        [
         9,
         "Italy",
         "C"
        ],
        [
         10,
         "Switzerland",
         "C"
        ],
        [
         11,
         "Turkey",
         "C"
        ],
        [
         12,
         "Wales",
         "C"
        ],
        [
         13,
         "Belgium",
         "D"
        ],
        [
         14,
         "Denmark",
         "D"
        ],
        [
         15,
         "Russia",
         "D"
        ],
        [
         16,
         "Finland",
         "D"
        ],
        [
         17,
         "Netherlands",
         "E"
        ],
        [
         18,
         "Ukraine",
         "E"
        ],
        [
         19,
         "Austria",
         "E"
        ],
        [
         20,
         "North Macedonia",
         "E"
        ],
        [
         21,
         "England",
         "F"
        ],
        [
         22,
         "Croatia",
         "F"
        ],
        [
         23,
         "Scotland",
         "F"
        ],
        [
         24,
         "Czech Republic",
         "F"
        ]
       ],
       "datasetInfos": [],
       "dbfsResultPath": null,
       "isJsonSchema": true,
       "metadata": {
        "isDbfsCommandResult": false
       },
       "overflow": false,
       "plotOptions": {
        "customPlotOptions": {},
        "displayType": "table",
        "pivotAggregation": null,
        "pivotColumns": null,
        "xColumns": null,
        "yColumns": null
       },
       "removedWidgets": [],
       "schema": [
        {
         "metadata": "{}",
         "name": "TeamID",
         "type": "\"integer\""
        },
        {
         "metadata": "{\"__CHAR_VARCHAR_TYPE_STRING\":\"varchar(50)\"}",
         "name": "TeamName",
         "type": "\"string\""
        },
        {
         "metadata": "{\"__CHAR_VARCHAR_TYPE_STRING\":\"char(1)\"}",
         "name": "GroupName",
         "type": "\"string\""
        }
       ],
       "type": "table"
      }
     },
     "output_type": "display_data"
    }
   ],
   "source": [
    "%sql\n",
    "--information inserting values to the table\n",
    "\n",
    "INSERT INTO teamsinfo10(TeamID, TeamName, GroupName) VALUES\n",
    "(1, 'France', 'A'),\n",
    "(2, 'Portugal', 'A'),\n",
    "(3, 'Germany', 'A'),\n",
    "(4, 'Hungary', 'A'),\n",
    "(5, 'Spain', 'B'),\n",
    "(6, 'Sweden', 'B'),\n",
    "(7, 'Poland', 'B'),\n",
    "(8, 'Slovakia', 'B'),\n",
    "(9, 'Italy', 'C'),\n",
    "(10, 'Switzerland', 'C'),\n",
    "(11, 'Turkey', 'C'),\n",
    "(12, 'Wales', 'C'),\n",
    "(13, 'Belgium', 'D'),\n",
    "(14, 'Denmark', 'D'),\n",
    "(15, 'Russia', 'D'),\n",
    "(16, 'Finland', 'D'),\n",
    "(17, 'Netherlands', 'E'),\n",
    "(18, 'Ukraine', 'E'),\n",
    "(19, 'Austria', 'E'),\n",
    "(20, 'North Macedonia', 'E'),\n",
    "(21, 'England', 'F'),\n",
    "(22, 'Croatia', 'F'),\n",
    "(23, 'Scotland', 'F'),\n",
    "(24, 'Czech Republic', 'F');\n",
    "\n",
    "select * \n",
    "from teamsinfo10"
   ]
  },
  {
   "cell_type": "code",
   "execution_count": 0,
   "metadata": {
    "application/vnd.databricks.v1+cell": {
     "cellMetadata": {
      "byteLimit": 2048000,
      "rowLimit": 10000
     },
     "inputWidgets": {},
     "nuid": "9acaabc8-107a-44c8-a2ef-84d21f064c8d",
     "showTitle": false,
     "title": ""
    }
   },
   "outputs": [
    {
     "output_type": "display_data",
     "data": {
      "text/html": [
       "<style scoped>\n",
       "  .table-result-container {\n",
       "    max-height: 300px;\n",
       "    overflow: auto;\n",
       "  }\n",
       "  table, th, td {\n",
       "    border: 1px solid black;\n",
       "    border-collapse: collapse;\n",
       "  }\n",
       "  th, td {\n",
       "    padding: 5px;\n",
       "  }\n",
       "  th {\n",
       "    text-align: left;\n",
       "  }\n",
       "</style><div class='table-result-container'><table class='table-result'><thead style='background-color: white'><tr></tr></thead><tbody></tbody></table></div>"
      ]
     },
     "metadata": {
      "application/vnd.databricks.v1+output": {
       "addedWidgets": {},
       "aggData": [],
       "aggError": "",
       "aggOverflow": false,
       "aggSchema": [],
       "aggSeriesLimitReached": false,
       "aggType": "",
       "arguments": {},
       "columnCustomDisplayInfos": {},
       "data": [],
       "datasetInfos": [],
       "dbfsResultPath": null,
       "isJsonSchema": true,
       "metadata": {
        "isDbfsCommandResult": false
       },
       "overflow": false,
       "plotOptions": {
        "customPlotOptions": {},
        "displayType": "table",
        "pivotAggregation": null,
        "pivotColumns": null,
        "xColumns": null,
        "yColumns": null
       },
       "removedWidgets": [],
       "schema": [],
       "type": "table"
      }
     },
     "output_type": "display_data"
    }
   ],
   "source": [
    "%sql\n",
    "--this table contains information about all the matches that took place\n",
    "CREATE TABLE matchinfo1(\n",
    "    matchid INT,\n",
    "    team1 VARCHAR(30),\n",
    "    team2 VARCHAR(30),\n",
    "    team1score INTEGER,\n",
    "    team2score INTEGER,\n",
    "    result VARCHAR(30),\n",
    "    stage VARCHAR (255)\n",
    ");"
   ]
  },
  {
   "cell_type": "code",
   "execution_count": 0,
   "metadata": {
    "application/vnd.databricks.v1+cell": {
     "cellMetadata": {
      "byteLimit": 2048000,
      "rowLimit": 10000
     },
     "inputWidgets": {},
     "nuid": "744b4e27-5f6c-49d2-9006-7401c2ea569e",
     "showTitle": false,
     "title": ""
    }
   },
   "outputs": [
    {
     "output_type": "display_data",
     "data": {
      "text/html": [
       "<style scoped>\n",
       "  .table-result-container {\n",
       "    max-height: 300px;\n",
       "    overflow: auto;\n",
       "  }\n",
       "  table, th, td {\n",
       "    border: 1px solid black;\n",
       "    border-collapse: collapse;\n",
       "  }\n",
       "  th, td {\n",
       "    padding: 5px;\n",
       "  }\n",
       "  th {\n",
       "    text-align: left;\n",
       "  }\n",
       "</style><div class='table-result-container'><table class='table-result'><thead style='background-color: white'><tr><th>matchid</th><th>team1</th><th>team2</th><th>team1score</th><th>team2score</th><th>result</th><th>stage</th></tr></thead><tbody><tr><td>1</td><td>France</td><td>Hungary</td><td>5</td><td>3</td><td>France</td><td>Group Stage</td></tr><tr><td>2</td><td>France</td><td>Germany</td><td>2</td><td>3</td><td>Germany</td><td>Group Stage</td></tr><tr><td>3</td><td>France</td><td>Portugal</td><td>1</td><td>4</td><td>Portugal</td><td>Group Stage</td></tr><tr><td>4</td><td>Portugal</td><td>Hungary</td><td>5</td><td>5</td><td>Draw</td><td>Group Stage</td></tr><tr><td>5</td><td>Portugal</td><td>Germany</td><td>1</td><td>2</td><td>Germany</td><td>Group Stage</td></tr><tr><td>6</td><td>Germany</td><td>Hungary</td><td>3</td><td>4</td><td>Hungary</td><td>Group Stage</td></tr><tr><td>7</td><td>Spain</td><td>Slovakia</td><td>6</td><td>2</td><td>Spain</td><td>Group Stage</td></tr><tr><td>8</td><td>Spain</td><td>Poland</td><td>6</td><td>2</td><td>Spain</td><td>Group Stage</td></tr><tr><td>9</td><td>Spain</td><td>Sweden</td><td>2</td><td>6</td><td>Sweden</td><td>Group Stage</td></tr><tr><td>10</td><td>Sweden</td><td>Slovakia</td><td>5</td><td>5</td><td>Draw</td><td>Group Stage</td></tr><tr><td>11</td><td>Sweden</td><td>Poland</td><td>5</td><td>3</td><td>Sweden</td><td>Group Stage</td></tr><tr><td>12</td><td>Poland</td><td>Slovakia</td><td>2</td><td>3</td><td>Slovakia</td><td>Group Stage</td></tr><tr><td>13</td><td>Italy</td><td>Wales</td><td>3</td><td>5</td><td>Wales</td><td>Group Stage</td></tr><tr><td>14</td><td>Italy</td><td>Turkey</td><td>2</td><td>4</td><td>Turkey</td><td>Group Stage</td></tr><tr><td>15</td><td>Italy</td><td>Switzerland</td><td>6</td><td>2</td><td>Italy</td><td>Group Stage</td></tr><tr><td>16</td><td>Switzerland</td><td>Wales</td><td>5</td><td>3</td><td>Switzerland</td><td>Group Stage</td></tr><tr><td>17</td><td>Switzerland</td><td>Turkey</td><td>4</td><td>3</td><td>Switzerland</td><td>Group Stage</td></tr><tr><td>18</td><td>Turkey</td><td>Wales</td><td>4</td><td>3</td><td>Turkey</td><td>Group Stage</td></tr><tr><td>19</td><td>Belgium</td><td>Finland</td><td>5</td><td>5</td><td>Draw</td><td>Group Stage</td></tr><tr><td>20</td><td>Belgium</td><td>Russia</td><td>4</td><td>1</td><td>Belgium</td><td>Group Stage</td></tr><tr><td>21</td><td>Belgium</td><td>Denmark</td><td>1</td><td>6</td><td>Denmark</td><td>Group Stage</td></tr><tr><td>22</td><td>Denmark</td><td>Finland</td><td>5</td><td>2</td><td>Denmark</td><td>Group Stage</td></tr><tr><td>23</td><td>Denmark</td><td>Russia</td><td>5</td><td>4</td><td>Denmark</td><td>Group Stage</td></tr><tr><td>24</td><td>Russia</td><td>Finland</td><td>6</td><td>2</td><td>Russia</td><td>Group Stage</td></tr><tr><td>25</td><td>Netherlands</td><td>North Macedonia</td><td>4</td><td>5</td><td>North Macedonia</td><td>Group Stage</td></tr><tr><td>26</td><td>Netherlands</td><td>Austria</td><td>6</td><td>1</td><td>Netherlands</td><td>Group Stage</td></tr><tr><td>27</td><td>Netherlands</td><td>Ukraine</td><td>3</td><td>3</td><td>Draw</td><td>Group Stage</td></tr><tr><td>28</td><td>Ukraine</td><td>North Macedonia</td><td>1</td><td>4</td><td>North Macedonia</td><td>Group Stage</td></tr><tr><td>29</td><td>Ukraine</td><td>Austria</td><td>2</td><td>2</td><td>Draw</td><td>Group Stage</td></tr><tr><td>30</td><td>Austria</td><td>North Macedonia</td><td>4</td><td>1</td><td>Austria</td><td>Group Stage</td></tr><tr><td>31</td><td>England</td><td>Czech Republic</td><td>6</td><td>1</td><td>England</td><td>Group Stage</td></tr><tr><td>32</td><td>England</td><td>Scotland</td><td>3</td><td>2</td><td>England</td><td>Group Stage</td></tr><tr><td>33</td><td>England</td><td>Croatia</td><td>4</td><td>5</td><td>Croatia</td><td>Group Stage</td></tr><tr><td>34</td><td>Croatia</td><td>Czech Republic</td><td>2</td><td>2</td><td>Draw</td><td>Group Stage</td></tr><tr><td>35</td><td>Croatia</td><td>Scotland</td><td>3</td><td>2</td><td>Croatia</td><td>Group Stage</td></tr><tr><td>36</td><td>Scotland</td><td>Czech Republic</td><td>5</td><td>1</td><td>Scotland</td><td>Group Stage</td></tr></tbody></table></div>"
      ]
     },
     "metadata": {
      "application/vnd.databricks.v1+output": {
       "addedWidgets": {},
       "aggData": [],
       "aggError": "",
       "aggOverflow": false,
       "aggSchema": [],
       "aggSeriesLimitReached": false,
       "aggType": "",
       "arguments": {},
       "columnCustomDisplayInfos": {},
       "data": [
        [
         1,
         "France",
         "Hungary",
         5,
         3,
         "France",
         "Group Stage"
        ],
        [
         2,
         "France",
         "Germany",
         2,
         3,
         "Germany",
         "Group Stage"
        ],
        [
         3,
         "France",
         "Portugal",
         1,
         4,
         "Portugal",
         "Group Stage"
        ],
        [
         4,
         "Portugal",
         "Hungary",
         5,
         5,
         "Draw",
         "Group Stage"
        ],
        [
         5,
         "Portugal",
         "Germany",
         1,
         2,
         "Germany",
         "Group Stage"
        ],
        [
         6,
         "Germany",
         "Hungary",
         3,
         4,
         "Hungary",
         "Group Stage"
        ],
        [
         7,
         "Spain",
         "Slovakia",
         6,
         2,
         "Spain",
         "Group Stage"
        ],
        [
         8,
         "Spain",
         "Poland",
         6,
         2,
         "Spain",
         "Group Stage"
        ],
        [
         9,
         "Spain",
         "Sweden",
         2,
         6,
         "Sweden",
         "Group Stage"
        ],
        [
         10,
         "Sweden",
         "Slovakia",
         5,
         5,
         "Draw",
         "Group Stage"
        ],
        [
         11,
         "Sweden",
         "Poland",
         5,
         3,
         "Sweden",
         "Group Stage"
        ],
        [
         12,
         "Poland",
         "Slovakia",
         2,
         3,
         "Slovakia",
         "Group Stage"
        ],
        [
         13,
         "Italy",
         "Wales",
         3,
         5,
         "Wales",
         "Group Stage"
        ],
        [
         14,
         "Italy",
         "Turkey",
         2,
         4,
         "Turkey",
         "Group Stage"
        ],
        [
         15,
         "Italy",
         "Switzerland",
         6,
         2,
         "Italy",
         "Group Stage"
        ],
        [
         16,
         "Switzerland",
         "Wales",
         5,
         3,
         "Switzerland",
         "Group Stage"
        ],
        [
         17,
         "Switzerland",
         "Turkey",
         4,
         3,
         "Switzerland",
         "Group Stage"
        ],
        [
         18,
         "Turkey",
         "Wales",
         4,
         3,
         "Turkey",
         "Group Stage"
        ],
        [
         19,
         "Belgium",
         "Finland",
         5,
         5,
         "Draw",
         "Group Stage"
        ],
        [
         20,
         "Belgium",
         "Russia",
         4,
         1,
         "Belgium",
         "Group Stage"
        ],
        [
         21,
         "Belgium",
         "Denmark",
         1,
         6,
         "Denmark",
         "Group Stage"
        ],
        [
         22,
         "Denmark",
         "Finland",
         5,
         2,
         "Denmark",
         "Group Stage"
        ],
        [
         23,
         "Denmark",
         "Russia",
         5,
         4,
         "Denmark",
         "Group Stage"
        ],
        [
         24,
         "Russia",
         "Finland",
         6,
         2,
         "Russia",
         "Group Stage"
        ],
        [
         25,
         "Netherlands",
         "North Macedonia",
         4,
         5,
         "North Macedonia",
         "Group Stage"
        ],
        [
         26,
         "Netherlands",
         "Austria",
         6,
         1,
         "Netherlands",
         "Group Stage"
        ],
        [
         27,
         "Netherlands",
         "Ukraine",
         3,
         3,
         "Draw",
         "Group Stage"
        ],
        [
         28,
         "Ukraine",
         "North Macedonia",
         1,
         4,
         "North Macedonia",
         "Group Stage"
        ],
        [
         29,
         "Ukraine",
         "Austria",
         2,
         2,
         "Draw",
         "Group Stage"
        ],
        [
         30,
         "Austria",
         "North Macedonia",
         4,
         1,
         "Austria",
         "Group Stage"
        ],
        [
         31,
         "England",
         "Czech Republic",
         6,
         1,
         "England",
         "Group Stage"
        ],
        [
         32,
         "England",
         "Scotland",
         3,
         2,
         "England",
         "Group Stage"
        ],
        [
         33,
         "England",
         "Croatia",
         4,
         5,
         "Croatia",
         "Group Stage"
        ],
        [
         34,
         "Croatia",
         "Czech Republic",
         2,
         2,
         "Draw",
         "Group Stage"
        ],
        [
         35,
         "Croatia",
         "Scotland",
         3,
         2,
         "Croatia",
         "Group Stage"
        ],
        [
         36,
         "Scotland",
         "Czech Republic",
         5,
         1,
         "Scotland",
         "Group Stage"
        ]
       ],
       "datasetInfos": [],
       "dbfsResultPath": null,
       "isJsonSchema": true,
       "metadata": {
        "isDbfsCommandResult": false
       },
       "overflow": false,
       "plotOptions": {
        "customPlotOptions": {},
        "displayType": "table",
        "pivotAggregation": null,
        "pivotColumns": null,
        "xColumns": null,
        "yColumns": null
       },
       "removedWidgets": [],
       "schema": [
        {
         "metadata": "{}",
         "name": "matchid",
         "type": "\"integer\""
        },
        {
         "metadata": "{\"__CHAR_VARCHAR_TYPE_STRING\":\"varchar(30)\"}",
         "name": "team1",
         "type": "\"string\""
        },
        {
         "metadata": "{\"__CHAR_VARCHAR_TYPE_STRING\":\"varchar(30)\"}",
         "name": "team2",
         "type": "\"string\""
        },
        {
         "metadata": "{}",
         "name": "team1score",
         "type": "\"integer\""
        },
        {
         "metadata": "{}",
         "name": "team2score",
         "type": "\"integer\""
        },
        {
         "metadata": "{\"__CHAR_VARCHAR_TYPE_STRING\":\"varchar(30)\"}",
         "name": "result",
         "type": "\"string\""
        },
        {
         "metadata": "{\"__CHAR_VARCHAR_TYPE_STRING\":\"varchar(255)\"}",
         "name": "stage",
         "type": "\"string\""
        }
       ],
       "type": "table"
      }
     },
     "output_type": "display_data"
    }
   ],
   "source": [
    "%sql\n",
    "\n",
    "insert into matchinfo1(matchid, team1, team2, team1score, team2score, result, stage)\n",
    "SELECT\n",
    "    ROW_NUMBER() OVER (ORDER BY t1.TeamId) AS matchid,\n",
    "    t1.TeamName AS team1,\n",
    "    t2.TeamName AS team2,\n",
    "    FLOOR(RAND()*(6)+1) AS team1Score,\n",
    "    FLOOR(RAND()*(6)+1) AS team2Score,\n",
    "    NULL AS Result,\n",
    "    'Group Stage' as stage\n",
    "FROM teamsinfo10 t1\n",
    "join teamsinfo10 t2 ON t1.GroupName = t2.GroupName AND t1.TeamId < t2.TeamId;\n",
    "\n",
    "UPDATE matchinfo1\n",
    "SET result = CASE\n",
    "    WHEN team1score > team2score THEN team1\n",
    "    WHEN team1score < team2score THEN team2\n",
    "    ELSE 'Draw'\n",
    "END;\n",
    "\n",
    "\n",
    "select *\n",
    "from matchinfo1"
   ]
  },
  {
   "cell_type": "code",
   "execution_count": 0,
   "metadata": {
    "application/vnd.databricks.v1+cell": {
     "cellMetadata": {
      "byteLimit": 2048000,
      "rowLimit": 10000
     },
     "inputWidgets": {},
     "nuid": "02068417-cb85-48f6-950a-8485e77b4035",
     "showTitle": false,
     "title": ""
    }
   },
   "outputs": [
    {
     "output_type": "display_data",
     "data": {
      "text/html": [
       "<style scoped>\n",
       "  .table-result-container {\n",
       "    max-height: 300px;\n",
       "    overflow: auto;\n",
       "  }\n",
       "  table, th, td {\n",
       "    border: 1px solid black;\n",
       "    border-collapse: collapse;\n",
       "  }\n",
       "  th, td {\n",
       "    padding: 5px;\n",
       "  }\n",
       "  th {\n",
       "    text-align: left;\n",
       "  }\n",
       "</style><div class='table-result-container'><table class='table-result'><thead style='background-color: white'><tr><th>TeamName</th><th>GroupName</th><th>Wins</th><th>Draws</th><th>Losses</th><th>TotalPoints</th><th>TotalGamesPlayed</th><th>GoalsFor</th><th>GoalsAgainst</th><th>GoalDifference</th></tr></thead><tbody><tr><td>Germany</td><td>A</td><td>2</td><td>0</td><td>1</td><td>6</td><td>3</td><td>8</td><td>7</td><td>1</td></tr><tr><td>Hungary</td><td>A</td><td>1</td><td>1</td><td>1</td><td>4</td><td>3</td><td>12</td><td>13</td><td>-1</td></tr><tr><td>France</td><td>A</td><td>1</td><td>0</td><td>2</td><td>3</td><td>3</td><td>8</td><td>10</td><td>-2</td></tr><tr><td>Portugal</td><td>A</td><td>1</td><td>1</td><td>1</td><td>4</td><td>3</td><td>10</td><td>8</td><td>2</td></tr><tr><td>Slovakia</td><td>B</td><td>1</td><td>1</td><td>1</td><td>4</td><td>3</td><td>10</td><td>13</td><td>-3</td></tr><tr><td>Sweden</td><td>B</td><td>2</td><td>1</td><td>0</td><td>7</td><td>3</td><td>16</td><td>10</td><td>6</td></tr><tr><td>Spain</td><td>B</td><td>2</td><td>0</td><td>1</td><td>6</td><td>3</td><td>14</td><td>10</td><td>4</td></tr><tr><td>Poland</td><td>B</td><td>0</td><td>0</td><td>3</td><td>0</td><td>3</td><td>7</td><td>14</td><td>-7</td></tr><tr><td>Switzerland</td><td>C</td><td>2</td><td>0</td><td>1</td><td>6</td><td>3</td><td>11</td><td>12</td><td>-1</td></tr><tr><td>Turkey</td><td>C</td><td>2</td><td>0</td><td>1</td><td>6</td><td>3</td><td>11</td><td>9</td><td>2</td></tr><tr><td>Wales</td><td>C</td><td>1</td><td>0</td><td>2</td><td>3</td><td>3</td><td>11</td><td>12</td><td>-1</td></tr><tr><td>Italy</td><td>C</td><td>1</td><td>0</td><td>2</td><td>3</td><td>3</td><td>11</td><td>11</td><td>0</td></tr><tr><td>Belgium</td><td>D</td><td>1</td><td>1</td><td>1</td><td>4</td><td>3</td><td>10</td><td>12</td><td>-2</td></tr><tr><td>Denmark</td><td>D</td><td>3</td><td>0</td><td>0</td><td>9</td><td>3</td><td>16</td><td>7</td><td>9</td></tr><tr><td>Finland</td><td>D</td><td>0</td><td>1</td><td>2</td><td>1</td><td>3</td><td>9</td><td>16</td><td>-7</td></tr><tr><td>Russia</td><td>D</td><td>1</td><td>0</td><td>2</td><td>3</td><td>3</td><td>11</td><td>11</td><td>0</td></tr><tr><td>Netherlands</td><td>E</td><td>1</td><td>1</td><td>1</td><td>4</td><td>3</td><td>13</td><td>9</td><td>4</td></tr><tr><td>Austria</td><td>E</td><td>1</td><td>1</td><td>1</td><td>4</td><td>3</td><td>7</td><td>9</td><td>-2</td></tr><tr><td>Ukraine</td><td>E</td><td>0</td><td>2</td><td>1</td><td>2</td><td>3</td><td>6</td><td>9</td><td>-3</td></tr><tr><td>North Macedonia</td><td>E</td><td>2</td><td>0</td><td>1</td><td>6</td><td>3</td><td>10</td><td>9</td><td>1</td></tr><tr><td>Croatia</td><td>F</td><td>2</td><td>1</td><td>0</td><td>7</td><td>3</td><td>10</td><td>8</td><td>2</td></tr><tr><td>Scotland</td><td>F</td><td>1</td><td>0</td><td>2</td><td>3</td><td>3</td><td>9</td><td>7</td><td>2</td></tr><tr><td>Czech Republic</td><td>F</td><td>0</td><td>1</td><td>2</td><td>1</td><td>3</td><td>4</td><td>13</td><td>-9</td></tr><tr><td>England</td><td>F</td><td>2</td><td>0</td><td>1</td><td>6</td><td>3</td><td>13</td><td>8</td><td>5</td></tr></tbody></table></div>"
      ]
     },
     "metadata": {
      "application/vnd.databricks.v1+output": {
       "addedWidgets": {},
       "aggData": [],
       "aggError": "",
       "aggOverflow": false,
       "aggSchema": [],
       "aggSeriesLimitReached": false,
       "aggType": "",
       "arguments": {},
       "columnCustomDisplayInfos": {},
       "data": [
        [
         "Germany",
         "A",
         2,
         0,
         1,
         6,
         3,
         8,
         7,
         1
        ],
        [
         "Hungary",
         "A",
         1,
         1,
         1,
         4,
         3,
         12,
         13,
         -1
        ],
        [
         "France",
         "A",
         1,
         0,
         2,
         3,
         3,
         8,
         10,
         -2
        ],
        [
         "Portugal",
         "A",
         1,
         1,
         1,
         4,
         3,
         10,
         8,
         2
        ],
        [
         "Slovakia",
         "B",
         1,
         1,
         1,
         4,
         3,
         10,
         13,
         -3
        ],
        [
         "Sweden",
         "B",
         2,
         1,
         0,
         7,
         3,
         16,
         10,
         6
        ],
        [
         "Spain",
         "B",
         2,
         0,
         1,
         6,
         3,
         14,
         10,
         4
        ],
        [
         "Poland",
         "B",
         0,
         0,
         3,
         0,
         3,
         7,
         14,
         -7
        ],
        [
         "Switzerland",
         "C",
         2,
         0,
         1,
         6,
         3,
         11,
         12,
         -1
        ],
        [
         "Turkey",
         "C",
         2,
         0,
         1,
         6,
         3,
         11,
         9,
         2
        ],
        [
         "Wales",
         "C",
         1,
         0,
         2,
         3,
         3,
         11,
         12,
         -1
        ],
        [
         "Italy",
         "C",
         1,
         0,
         2,
         3,
         3,
         11,
         11,
         0
        ],
        [
         "Belgium",
         "D",
         1,
         1,
         1,
         4,
         3,
         10,
         12,
         -2
        ],
        [
         "Denmark",
         "D",
         3,
         0,
         0,
         9,
         3,
         16,
         7,
         9
        ],
        [
         "Finland",
         "D",
         0,
         1,
         2,
         1,
         3,
         9,
         16,
         -7
        ],
        [
         "Russia",
         "D",
         1,
         0,
         2,
         3,
         3,
         11,
         11,
         0
        ],
        [
         "Netherlands",
         "E",
         1,
         1,
         1,
         4,
         3,
         13,
         9,
         4
        ],
        [
         "Austria",
         "E",
         1,
         1,
         1,
         4,
         3,
         7,
         9,
         -2
        ],
        [
         "Ukraine",
         "E",
         0,
         2,
         1,
         2,
         3,
         6,
         9,
         -3
        ],
        [
         "North Macedonia",
         "E",
         2,
         0,
         1,
         6,
         3,
         10,
         9,
         1
        ],
        [
         "Croatia",
         "F",
         2,
         1,
         0,
         7,
         3,
         10,
         8,
         2
        ],
        [
         "Scotland",
         "F",
         1,
         0,
         2,
         3,
         3,
         9,
         7,
         2
        ],
        [
         "Czech Republic",
         "F",
         0,
         1,
         2,
         1,
         3,
         4,
         13,
         -9
        ],
        [
         "England",
         "F",
         2,
         0,
         1,
         6,
         3,
         13,
         8,
         5
        ]
       ],
       "datasetInfos": [],
       "dbfsResultPath": null,
       "isJsonSchema": true,
       "metadata": {
        "isDbfsCommandResult": false
       },
       "overflow": false,
       "plotOptions": {
        "customPlotOptions": {},
        "displayType": "table",
        "pivotAggregation": null,
        "pivotColumns": null,
        "xColumns": null,
        "yColumns": null
       },
       "removedWidgets": [],
       "schema": [
        {
         "metadata": "{\"__CHAR_VARCHAR_TYPE_STRING\":\"varchar(50)\"}",
         "name": "TeamName",
         "type": "\"string\""
        },
        {
         "metadata": "{\"__CHAR_VARCHAR_TYPE_STRING\":\"varchar(1)\"}",
         "name": "GroupName",
         "type": "\"string\""
        },
        {
         "metadata": "{}",
         "name": "Wins",
         "type": "\"long\""
        },
        {
         "metadata": "{}",
         "name": "Draws",
         "type": "\"long\""
        },
        {
         "metadata": "{}",
         "name": "Losses",
         "type": "\"long\""
        },
        {
         "metadata": "{}",
         "name": "TotalPoints",
         "type": "\"long\""
        },
        {
         "metadata": "{}",
         "name": "TotalGamesPlayed",
         "type": "\"long\""
        },
        {
         "metadata": "{}",
         "name": "GoalsFor",
         "type": "\"long\""
        },
        {
         "metadata": "{}",
         "name": "GoalsAgainst",
         "type": "\"long\""
        },
        {
         "metadata": "{}",
         "name": "GoalDifference",
         "type": "\"long\""
        }
       ],
       "type": "table"
      }
     },
     "output_type": "display_data"
    }
   ],
   "source": [
    "%sql\n",
    "-- a table to store all match related stats\n",
    "CREATE TABLE teamstats1 AS\n",
    "SELECT\n",
    "    t.TeamName,\n",
    "    t.GroupName,\n",
    "    COUNT(CASE WHEN m.result = t.TeamName THEN 1 END) AS Wins,\n",
    "    COUNT(CASE WHEN m.result = 'Draw' THEN 1 END) AS Draws,\n",
    "    COUNT(CASE WHEN m.result != t.TeamName AND m.result != 'Draw' THEN 1 END) AS Losses,\n",
    "    SUM(CASE WHEN m.result = t.TeamName THEN 3 WHEN m.result = 'Draw' THEN 1 ELSE 0 END) AS TotalPoints,\n",
    "    COUNT(*) AS TotalGamesPlayed,\n",
    "    SUM(CASE WHEN t.TeamName = m.team1 THEN m.team1score ELSE m.team2score END) AS GoalsFor,\n",
    "    SUM(CASE WHEN t.TeamName = m.team1 THEN m.team2score ELSE m.team1score END) AS GoalsAgainst,\n",
    "    SUM(CASE WHEN t.TeamName = m.team1 THEN m.team1score ELSE m.team2score END) -\n",
    "    SUM(CASE WHEN t.TeamName = m.team1 THEN m.team2score ELSE m.team1score END) AS GoalDifference\n",
    "FROM\n",
    "    teamsinfo10 t\n",
    "JOIN\n",
    "    matchinfo1 m ON t.TeamName = m.team1 OR t.TeamName = m.team2\n",
    "GROUP BY\n",
    "    t.GroupName,t.TeamName\n",
    "order by t.GroupName;\n",
    "\n",
    "select* \n",
    "from teamstats1"
   ]
  },
  {
   "cell_type": "code",
   "execution_count": 0,
   "metadata": {
    "application/vnd.databricks.v1+cell": {
     "cellMetadata": {
      "byteLimit": 2048000,
      "rowLimit": 10000
     },
     "inputWidgets": {},
     "nuid": "775c7719-65b0-48c2-9b65-456f17562085",
     "showTitle": false,
     "title": ""
    }
   },
   "outputs": [
    {
     "output_type": "display_data",
     "data": {
      "text/html": [
       "<style scoped>\n",
       "  .table-result-container {\n",
       "    max-height: 300px;\n",
       "    overflow: auto;\n",
       "  }\n",
       "  table, th, td {\n",
       "    border: 1px solid black;\n",
       "    border-collapse: collapse;\n",
       "  }\n",
       "  th, td {\n",
       "    padding: 5px;\n",
       "  }\n",
       "  th {\n",
       "    text-align: left;\n",
       "  }\n",
       "</style><div class='table-result-container'><table class='table-result'><thead style='background-color: white'><tr><th>TeamName</th><th>Wins</th><th>Draws</th><th>Losses</th><th>TotalPoints</th><th>TotalGamesPlayed</th><th>GoalsFor</th><th>GoalsAgainst</th><th>GoalDifference</th><th>GroupName</th><th>rank</th></tr></thead><tbody><tr><td>Germany</td><td>2</td><td>0</td><td>1</td><td>6</td><td>3</td><td>8</td><td>7</td><td>1</td><td>A</td><td>1</td></tr><tr><td>Portugal</td><td>1</td><td>1</td><td>1</td><td>4</td><td>3</td><td>10</td><td>8</td><td>2</td><td>A</td><td>2</td></tr><tr><td>Hungary</td><td>1</td><td>1</td><td>1</td><td>4</td><td>3</td><td>12</td><td>13</td><td>-1</td><td>A</td><td>3</td></tr><tr><td>France</td><td>1</td><td>0</td><td>2</td><td>3</td><td>3</td><td>8</td><td>10</td><td>-2</td><td>A</td><td>4</td></tr><tr><td>Sweden</td><td>2</td><td>1</td><td>0</td><td>7</td><td>3</td><td>16</td><td>10</td><td>6</td><td>B</td><td>1</td></tr><tr><td>Spain</td><td>2</td><td>0</td><td>1</td><td>6</td><td>3</td><td>14</td><td>10</td><td>4</td><td>B</td><td>2</td></tr><tr><td>Slovakia</td><td>1</td><td>1</td><td>1</td><td>4</td><td>3</td><td>10</td><td>13</td><td>-3</td><td>B</td><td>3</td></tr><tr><td>Poland</td><td>0</td><td>0</td><td>3</td><td>0</td><td>3</td><td>7</td><td>14</td><td>-7</td><td>B</td><td>4</td></tr><tr><td>Turkey</td><td>2</td><td>0</td><td>1</td><td>6</td><td>3</td><td>11</td><td>9</td><td>2</td><td>C</td><td>1</td></tr><tr><td>Switzerland</td><td>2</td><td>0</td><td>1</td><td>6</td><td>3</td><td>11</td><td>12</td><td>-1</td><td>C</td><td>2</td></tr><tr><td>Italy</td><td>1</td><td>0</td><td>2</td><td>3</td><td>3</td><td>11</td><td>11</td><td>0</td><td>C</td><td>3</td></tr><tr><td>Wales</td><td>1</td><td>0</td><td>2</td><td>3</td><td>3</td><td>11</td><td>12</td><td>-1</td><td>C</td><td>4</td></tr><tr><td>Denmark</td><td>3</td><td>0</td><td>0</td><td>9</td><td>3</td><td>16</td><td>7</td><td>9</td><td>D</td><td>1</td></tr><tr><td>Belgium</td><td>1</td><td>1</td><td>1</td><td>4</td><td>3</td><td>10</td><td>12</td><td>-2</td><td>D</td><td>2</td></tr><tr><td>Russia</td><td>1</td><td>0</td><td>2</td><td>3</td><td>3</td><td>11</td><td>11</td><td>0</td><td>D</td><td>3</td></tr><tr><td>Finland</td><td>0</td><td>1</td><td>2</td><td>1</td><td>3</td><td>9</td><td>16</td><td>-7</td><td>D</td><td>4</td></tr><tr><td>North Macedonia</td><td>2</td><td>0</td><td>1</td><td>6</td><td>3</td><td>10</td><td>9</td><td>1</td><td>E</td><td>1</td></tr><tr><td>Netherlands</td><td>1</td><td>1</td><td>1</td><td>4</td><td>3</td><td>13</td><td>9</td><td>4</td><td>E</td><td>2</td></tr><tr><td>Austria</td><td>1</td><td>1</td><td>1</td><td>4</td><td>3</td><td>7</td><td>9</td><td>-2</td><td>E</td><td>3</td></tr><tr><td>Ukraine</td><td>0</td><td>2</td><td>1</td><td>2</td><td>3</td><td>6</td><td>9</td><td>-3</td><td>E</td><td>4</td></tr><tr><td>Croatia</td><td>2</td><td>1</td><td>0</td><td>7</td><td>3</td><td>10</td><td>8</td><td>2</td><td>F</td><td>1</td></tr><tr><td>England</td><td>2</td><td>0</td><td>1</td><td>6</td><td>3</td><td>13</td><td>8</td><td>5</td><td>F</td><td>2</td></tr><tr><td>Scotland</td><td>1</td><td>0</td><td>2</td><td>3</td><td>3</td><td>9</td><td>7</td><td>2</td><td>F</td><td>3</td></tr><tr><td>Czech Republic</td><td>0</td><td>1</td><td>2</td><td>1</td><td>3</td><td>4</td><td>13</td><td>-9</td><td>F</td><td>4</td></tr></tbody></table></div>"
      ]
     },
     "metadata": {
      "application/vnd.databricks.v1+output": {
       "addedWidgets": {},
       "aggData": [],
       "aggError": "",
       "aggOverflow": false,
       "aggSchema": [],
       "aggSeriesLimitReached": false,
       "aggType": "",
       "arguments": {},
       "columnCustomDisplayInfos": {},
       "data": [
        [
         "Germany",
         2,
         0,
         1,
         6,
         3,
         8,
         7,
         1,
         "A",
         1
        ],
        [
         "Portugal",
         1,
         1,
         1,
         4,
         3,
         10,
         8,
         2,
         "A",
         2
        ],
        [
         "Hungary",
         1,
         1,
         1,
         4,
         3,
         12,
         13,
         -1,
         "A",
         3
        ],
        [
         "France",
         1,
         0,
         2,
         3,
         3,
         8,
         10,
         -2,
         "A",
         4
        ],
        [
         "Sweden",
         2,
         1,
         0,
         7,
         3,
         16,
         10,
         6,
         "B",
         1
        ],
        [
         "Spain",
         2,
         0,
         1,
         6,
         3,
         14,
         10,
         4,
         "B",
         2
        ],
        [
         "Slovakia",
         1,
         1,
         1,
         4,
         3,
         10,
         13,
         -3,
         "B",
         3
        ],
        [
         "Poland",
         0,
         0,
         3,
         0,
         3,
         7,
         14,
         -7,
         "B",
         4
        ],
        [
         "Turkey",
         2,
         0,
         1,
         6,
         3,
         11,
         9,
         2,
         "C",
         1
        ],
        [
         "Switzerland",
         2,
         0,
         1,
         6,
         3,
         11,
         12,
         -1,
         "C",
         2
        ],
        [
         "Italy",
         1,
         0,
         2,
         3,
         3,
         11,
         11,
         0,
         "C",
         3
        ],
        [
         "Wales",
         1,
         0,
         2,
         3,
         3,
         11,
         12,
         -1,
         "C",
         4
        ],
        [
         "Denmark",
         3,
         0,
         0,
         9,
         3,
         16,
         7,
         9,
         "D",
         1
        ],
        [
         "Belgium",
         1,
         1,
         1,
         4,
         3,
         10,
         12,
         -2,
         "D",
         2
        ],
        [
         "Russia",
         1,
         0,
         2,
         3,
         3,
         11,
         11,
         0,
         "D",
         3
        ],
        [
         "Finland",
         0,
         1,
         2,
         1,
         3,
         9,
         16,
         -7,
         "D",
         4
        ],
        [
         "North Macedonia",
         2,
         0,
         1,
         6,
         3,
         10,
         9,
         1,
         "E",
         1
        ],
        [
         "Netherlands",
         1,
         1,
         1,
         4,
         3,
         13,
         9,
         4,
         "E",
         2
        ],
        [
         "Austria",
         1,
         1,
         1,
         4,
         3,
         7,
         9,
         -2,
         "E",
         3
        ],
        [
         "Ukraine",
         0,
         2,
         1,
         2,
         3,
         6,
         9,
         -3,
         "E",
         4
        ],
        [
         "Croatia",
         2,
         1,
         0,
         7,
         3,
         10,
         8,
         2,
         "F",
         1
        ],
        [
         "England",
         2,
         0,
         1,
         6,
         3,
         13,
         8,
         5,
         "F",
         2
        ],
        [
         "Scotland",
         1,
         0,
         2,
         3,
         3,
         9,
         7,
         2,
         "F",
         3
        ],
        [
         "Czech Republic",
         0,
         1,
         2,
         1,
         3,
         4,
         13,
         -9,
         "F",
         4
        ]
       ],
       "datasetInfos": [],
       "dbfsResultPath": null,
       "isJsonSchema": true,
       "metadata": {
        "isDbfsCommandResult": false
       },
       "overflow": false,
       "plotOptions": {
        "customPlotOptions": {},
        "displayType": "table",
        "pivotAggregation": null,
        "pivotColumns": null,
        "xColumns": null,
        "yColumns": null
       },
       "removedWidgets": [],
       "schema": [
        {
         "metadata": "{\"__CHAR_VARCHAR_TYPE_STRING\":\"varchar(50)\"}",
         "name": "TeamName",
         "type": "\"string\""
        },
        {
         "metadata": "{}",
         "name": "Wins",
         "type": "\"long\""
        },
        {
         "metadata": "{}",
         "name": "Draws",
         "type": "\"long\""
        },
        {
         "metadata": "{}",
         "name": "Losses",
         "type": "\"long\""
        },
        {
         "metadata": "{}",
         "name": "TotalPoints",
         "type": "\"long\""
        },
        {
         "metadata": "{}",
         "name": "TotalGamesPlayed",
         "type": "\"long\""
        },
        {
         "metadata": "{}",
         "name": "GoalsFor",
         "type": "\"long\""
        },
        {
         "metadata": "{}",
         "name": "GoalsAgainst",
         "type": "\"long\""
        },
        {
         "metadata": "{}",
         "name": "GoalDifference",
         "type": "\"long\""
        },
        {
         "metadata": "{\"__CHAR_VARCHAR_TYPE_STRING\":\"char(1)\"}",
         "name": "GroupName",
         "type": "\"string\""
        },
        {
         "metadata": "{}",
         "name": "rank",
         "type": "\"integer\""
        }
       ],
       "type": "table"
      }
     },
     "output_type": "display_data"
    }
   ],
   "source": [
    "%sql\n",
    "-- a temporary view table for ranking\n",
    "CREATE OR Replace TEMPORARY VIEW temp_ranking AS\n",
    "SELECT\n",
    "    ts.TeamName,\n",
    "    ts.Wins,\n",
    "    ts.Draws,\n",
    "    ts.Losses,\n",
    "    ts.TotalPoints,\n",
    "    ts.TotalGamesPlayed,\n",
    "    ts.GoalsFor,\n",
    "    ts.GoalsAgainst,\n",
    "    ts.GoalDifference,\n",
    "    t.GroupName,\n",
    "    RANK() OVER (PARTITION BY t.GroupName ORDER BY ts.TotalPoints DESC, ts.GoalDifference DESC, ts.GoalsFor DESC) AS rank\n",
    "FROM\n",
    "    teamstats1 ts\n",
    "JOIN\n",
    "    teamsinfo10 t ON ts.TeamName = t.TeamName;\n",
    "\n",
    "\n",
    "SELECT * FROM temp_ranking;"
   ]
  },
  {
   "cell_type": "code",
   "execution_count": 0,
   "metadata": {
    "application/vnd.databricks.v1+cell": {
     "cellMetadata": {
      "byteLimit": 2048000,
      "rowLimit": 10000
     },
     "inputWidgets": {},
     "nuid": "70314794-59d1-4ec1-994a-e0f8e0bd07a0",
     "showTitle": false,
     "title": ""
    }
   },
   "outputs": [
    {
     "output_type": "display_data",
     "data": {
      "text/html": [
       "<style scoped>\n",
       "  .table-result-container {\n",
       "    max-height: 300px;\n",
       "    overflow: auto;\n",
       "  }\n",
       "  table, th, td {\n",
       "    border: 1px solid black;\n",
       "    border-collapse: collapse;\n",
       "  }\n",
       "  th, td {\n",
       "    padding: 5px;\n",
       "  }\n",
       "  th {\n",
       "    text-align: left;\n",
       "  }\n",
       "</style><div class='table-result-container'><table class='table-result'><thead style='background-color: white'><tr></tr></thead><tbody></tbody></table></div>"
      ]
     },
     "metadata": {
      "application/vnd.databricks.v1+output": {
       "addedWidgets": {},
       "aggData": [],
       "aggError": "",
       "aggOverflow": false,
       "aggSchema": [],
       "aggSeriesLimitReached": false,
       "aggType": "",
       "arguments": {},
       "columnCustomDisplayInfos": {},
       "data": [],
       "datasetInfos": [],
       "dbfsResultPath": null,
       "isJsonSchema": true,
       "metadata": {
        "isDbfsCommandResult": false
       },
       "overflow": false,
       "plotOptions": {
        "customPlotOptions": {},
        "displayType": "table",
        "pivotAggregation": null,
        "pivotColumns": null,
        "xColumns": null,
        "yColumns": null
       },
       "removedWidgets": [],
       "schema": [],
       "type": "table"
      }
     },
     "output_type": "display_data"
    }
   ],
   "source": [
    "%sql\n",
    "--table to store all 16 teams\n",
    "CREATE TABLE roundof16 (\n",
    "  TeamName VARCHAR(255),\n",
    "  GroupName VARCHAR(255),\n",
    "  rank INTEGER\n",
    ");"
   ]
  },
  {
   "cell_type": "code",
   "execution_count": 0,
   "metadata": {
    "application/vnd.databricks.v1+cell": {
     "cellMetadata": {
      "byteLimit": 2048000,
      "rowLimit": 10000
     },
     "inputWidgets": {},
     "nuid": "98b0447f-8b10-42a5-84bc-a6edf14fc0bd",
     "showTitle": false,
     "title": ""
    }
   },
   "outputs": [
    {
     "output_type": "display_data",
     "data": {
      "text/html": [
       "<style scoped>\n",
       "  .table-result-container {\n",
       "    max-height: 300px;\n",
       "    overflow: auto;\n",
       "  }\n",
       "  table, th, td {\n",
       "    border: 1px solid black;\n",
       "    border-collapse: collapse;\n",
       "  }\n",
       "  th, td {\n",
       "    padding: 5px;\n",
       "  }\n",
       "  th {\n",
       "    text-align: left;\n",
       "  }\n",
       "</style><div class='table-result-container'><table class='table-result'><thead style='background-color: white'><tr><th>num_affected_rows</th><th>num_inserted_rows</th></tr></thead><tbody><tr><td>12</td><td>12</td></tr></tbody></table></div>"
      ]
     },
     "metadata": {
      "application/vnd.databricks.v1+output": {
       "addedWidgets": {},
       "aggData": [],
       "aggError": "",
       "aggOverflow": false,
       "aggSchema": [],
       "aggSeriesLimitReached": false,
       "aggType": "",
       "arguments": {},
       "columnCustomDisplayInfos": {},
       "data": [
        [
         12,
         12
        ]
       ],
       "datasetInfos": [],
       "dbfsResultPath": null,
       "isJsonSchema": true,
       "metadata": {
        "isDbfsCommandResult": false
       },
       "overflow": false,
       "plotOptions": {
        "customPlotOptions": {},
        "displayType": "table",
        "pivotAggregation": null,
        "pivotColumns": null,
        "xColumns": null,
        "yColumns": null
       },
       "removedWidgets": [],
       "schema": [
        {
         "metadata": "{}",
         "name": "num_affected_rows",
         "type": "\"long\""
        },
        {
         "metadata": "{}",
         "name": "num_inserted_rows",
         "type": "\"long\""
        }
       ],
       "type": "table"
      }
     },
     "output_type": "display_data"
    }
   ],
   "source": [
    "%sql\n",
    "Insert into roundof16 \n",
    "    SELECT\n",
    "        t.TeamName,\n",
    "        t.GroupName,\n",
    "        r.rank\n",
    "    FROM\n",
    "        teamsinfo10 t\n",
    "        JOIN temp_ranking r ON t.TeamName = r.TeamName\n",
    "    WHERE\n",
    "        r.rank <= 2; "
   ]
  },
  {
   "cell_type": "code",
   "execution_count": 0,
   "metadata": {
    "application/vnd.databricks.v1+cell": {
     "cellMetadata": {
      "byteLimit": 2048000,
      "rowLimit": 10000
     },
     "inputWidgets": {},
     "nuid": "13bf66cc-ba00-40c1-bab8-eb4814634268",
     "showTitle": false,
     "title": ""
    }
   },
   "outputs": [
    {
     "output_type": "display_data",
     "data": {
      "text/html": [
       "<style scoped>\n",
       "  .table-result-container {\n",
       "    max-height: 300px;\n",
       "    overflow: auto;\n",
       "  }\n",
       "  table, th, td {\n",
       "    border: 1px solid black;\n",
       "    border-collapse: collapse;\n",
       "  }\n",
       "  th, td {\n",
       "    padding: 5px;\n",
       "  }\n",
       "  th {\n",
       "    text-align: left;\n",
       "  }\n",
       "</style><div class='table-result-container'><table class='table-result'><thead style='background-color: white'><tr><th>TeamName</th><th>GroupName</th><th>rank</th></tr></thead><tbody><tr><td>Germany</td><td>A</td><td>1</td></tr><tr><td>Portugal</td><td>A</td><td>2</td></tr><tr><td>Sweden</td><td>B</td><td>1</td></tr><tr><td>Spain</td><td>B</td><td>2</td></tr><tr><td>Turkey</td><td>C</td><td>1</td></tr><tr><td>Switzerland</td><td>C</td><td>2</td></tr><tr><td>Denmark</td><td>D</td><td>1</td></tr><tr><td>Belgium</td><td>D</td><td>2</td></tr><tr><td>North Macedonia</td><td>E</td><td>1</td></tr><tr><td>Netherlands</td><td>E</td><td>2</td></tr><tr><td>Croatia</td><td>F</td><td>1</td></tr><tr><td>England</td><td>F</td><td>2</td></tr><tr><td>Hungary</td><td>A</td><td>3</td></tr><tr><td>Slovakia</td><td>B</td><td>3</td></tr><tr><td>Italy</td><td>C</td><td>3</td></tr><tr><td>Russia</td><td>D</td><td>3</td></tr></tbody></table></div>"
      ]
     },
     "metadata": {
      "application/vnd.databricks.v1+output": {
       "addedWidgets": {},
       "aggData": [],
       "aggError": "",
       "aggOverflow": false,
       "aggSchema": [],
       "aggSeriesLimitReached": false,
       "aggType": "",
       "arguments": {},
       "columnCustomDisplayInfos": {},
       "data": [
        [
         "Germany",
         "A",
         1
        ],
        [
         "Portugal",
         "A",
         2
        ],
        [
         "Sweden",
         "B",
         1
        ],
        [
         "Spain",
         "B",
         2
        ],
        [
         "Turkey",
         "C",
         1
        ],
        [
         "Switzerland",
         "C",
         2
        ],
        [
         "Denmark",
         "D",
         1
        ],
        [
         "Belgium",
         "D",
         2
        ],
        [
         "North Macedonia",
         "E",
         1
        ],
        [
         "Netherlands",
         "E",
         2
        ],
        [
         "Croatia",
         "F",
         1
        ],
        [
         "England",
         "F",
         2
        ],
        [
         "Hungary",
         "A",
         3
        ],
        [
         "Slovakia",
         "B",
         3
        ],
        [
         "Italy",
         "C",
         3
        ],
        [
         "Russia",
         "D",
         3
        ]
       ],
       "datasetInfos": [],
       "dbfsResultPath": null,
       "isJsonSchema": true,
       "metadata": {
        "isDbfsCommandResult": false
       },
       "overflow": false,
       "plotOptions": {
        "customPlotOptions": {},
        "displayType": "table",
        "pivotAggregation": null,
        "pivotColumns": null,
        "xColumns": null,
        "yColumns": null
       },
       "removedWidgets": [],
       "schema": [
        {
         "metadata": "{\"__CHAR_VARCHAR_TYPE_STRING\":\"varchar(255)\"}",
         "name": "TeamName",
         "type": "\"string\""
        },
        {
         "metadata": "{\"__CHAR_VARCHAR_TYPE_STRING\":\"varchar(255)\"}",
         "name": "GroupName",
         "type": "\"string\""
        },
        {
         "metadata": "{}",
         "name": "rank",
         "type": "\"integer\""
        }
       ],
       "type": "table"
      }
     },
     "output_type": "display_data"
    }
   ],
   "source": [
    "%sql\n",
    "Insert into roundof16 \n",
    "    SELECT\n",
    "        t.TeamName,\n",
    "        t.GroupName,\n",
    "        r.rank\n",
    "    FROM\n",
    "        teamsinfo10 t\n",
    "        JOIN temp_ranking r ON t.TeamName = r.TeamName\n",
    "    WHERE\n",
    "        r.rank = 3\n",
    "        limit 4;\n",
    "\n",
    "\n",
    "select *\n",
    "from roundof16"
   ]
  },
  {
   "cell_type": "code",
   "execution_count": 0,
   "metadata": {
    "application/vnd.databricks.v1+cell": {
     "cellMetadata": {
      "byteLimit": 2048000,
      "rowLimit": 10000
     },
     "inputWidgets": {},
     "nuid": "1dd0f124-70df-4a16-9a26-9700f6f96e2a",
     "showTitle": false,
     "title": ""
    }
   },
   "outputs": [
    {
     "output_type": "display_data",
     "data": {
      "text/html": [
       "<style scoped>\n",
       "  .table-result-container {\n",
       "    max-height: 300px;\n",
       "    overflow: auto;\n",
       "  }\n",
       "  table, th, td {\n",
       "    border: 1px solid black;\n",
       "    border-collapse: collapse;\n",
       "  }\n",
       "  th, td {\n",
       "    padding: 5px;\n",
       "  }\n",
       "  th {\n",
       "    text-align: left;\n",
       "  }\n",
       "</style><div class='table-result-container'><table class='table-result'><thead style='background-color: white'><tr></tr></thead><tbody></tbody></table></div>"
      ]
     },
     "metadata": {
      "application/vnd.databricks.v1+output": {
       "addedWidgets": {},
       "aggData": [],
       "aggError": "",
       "aggOverflow": false,
       "aggSchema": [],
       "aggSeriesLimitReached": false,
       "aggType": "",
       "arguments": {},
       "columnCustomDisplayInfos": {},
       "data": [],
       "datasetInfos": [],
       "dbfsResultPath": null,
       "isJsonSchema": true,
       "metadata": {
        "isDbfsCommandResult": false
       },
       "overflow": false,
       "plotOptions": {
        "customPlotOptions": {},
        "displayType": "table",
        "pivotAggregation": null,
        "pivotColumns": null,
        "xColumns": null,
        "yColumns": null
       },
       "removedWidgets": [],
       "schema": [],
       "type": "table"
      }
     },
     "output_type": "display_data"
    }
   ],
   "source": [
    "%sql\n",
    "CREATE TABLE ThirdPlaceCombination1(\n",
    "  ID INTEGER,\n",
    "  SelectedGroup VARCHAR(4),\n",
    "  Team1B VARCHAR(1),\n",
    "  Team1C VARCHAR(1),\n",
    "  Team1E VARCHAR(1),\n",
    "  Team1F VARCHAR(1)\n",
    ");\n"
   ]
  },
  {
   "cell_type": "code",
   "execution_count": 0,
   "metadata": {
    "application/vnd.databricks.v1+cell": {
     "cellMetadata": {
      "byteLimit": 2048000,
      "rowLimit": 10000
     },
     "inputWidgets": {},
     "nuid": "6883f681-0f8e-4e26-a7ef-3eaa86cd3ad3",
     "showTitle": false,
     "title": ""
    }
   },
   "outputs": [
    {
     "output_type": "display_data",
     "data": {
      "text/html": [
       "<style scoped>\n",
       "  .table-result-container {\n",
       "    max-height: 300px;\n",
       "    overflow: auto;\n",
       "  }\n",
       "  table, th, td {\n",
       "    border: 1px solid black;\n",
       "    border-collapse: collapse;\n",
       "  }\n",
       "  th, td {\n",
       "    padding: 5px;\n",
       "  }\n",
       "  th {\n",
       "    text-align: left;\n",
       "  }\n",
       "</style><div class='table-result-container'><table class='table-result'><thead style='background-color: white'><tr><th>ID</th><th>SelectedGroup</th><th>Team1B</th><th>Team1C</th><th>Team1E</th><th>Team1F</th></tr></thead><tbody><tr><td>1</td><td>ABCD</td><td>A</td><td>D</td><td>B</td><td>C</td></tr><tr><td>2</td><td>ABCE</td><td>A</td><td>E</td><td>B</td><td>C</td></tr><tr><td>3</td><td>ABCF</td><td>A</td><td>F</td><td>B</td><td>C</td></tr><tr><td>4</td><td>ABDE</td><td>D</td><td>E</td><td>A</td><td>B</td></tr><tr><td>5</td><td>ABDF</td><td>D</td><td>F</td><td>A</td><td>B</td></tr><tr><td>6</td><td>ABEF</td><td>E</td><td>F</td><td>B</td><td>A</td></tr><tr><td>7</td><td>ACDE</td><td>E</td><td>D</td><td>C</td><td>A</td></tr><tr><td>8</td><td>ACDF</td><td>F</td><td>D</td><td>C</td><td>A</td></tr><tr><td>9</td><td>ACEF</td><td>E</td><td>F</td><td>C</td><td>A</td></tr><tr><td>10</td><td>ADEF</td><td>E</td><td>F</td><td>D</td><td>A</td></tr><tr><td>11</td><td>BCDE</td><td>E</td><td>D</td><td>B</td><td>C</td></tr><tr><td>12</td><td>BCDF</td><td>F</td><td>D</td><td>C</td><td>B</td></tr><tr><td>13</td><td>BCEF</td><td>F</td><td>E</td><td>C</td><td>B</td></tr><tr><td>14</td><td>BDEF</td><td>F</td><td>E</td><td>D</td><td>B</td></tr><tr><td>15</td><td>CDEF</td><td>F</td><td>E</td><td>D</td><td>C</td></tr></tbody></table></div>"
      ]
     },
     "metadata": {
      "application/vnd.databricks.v1+output": {
       "addedWidgets": {},
       "aggData": [],
       "aggError": "",
       "aggOverflow": false,
       "aggSchema": [],
       "aggSeriesLimitReached": false,
       "aggType": "",
       "arguments": {},
       "columnCustomDisplayInfos": {},
       "data": [
        [
         1,
         "ABCD",
         "A",
         "D",
         "B",
         "C"
        ],
        [
         2,
         "ABCE",
         "A",
         "E",
         "B",
         "C"
        ],
        [
         3,
         "ABCF",
         "A",
         "F",
         "B",
         "C"
        ],
        [
         4,
         "ABDE",
         "D",
         "E",
         "A",
         "B"
        ],
        [
         5,
         "ABDF",
         "D",
         "F",
         "A",
         "B"
        ],
        [
         6,
         "ABEF",
         "E",
         "F",
         "B",
         "A"
        ],
        [
         7,
         "ACDE",
         "E",
         "D",
         "C",
         "A"
        ],
        [
         8,
         "ACDF",
         "F",
         "D",
         "C",
         "A"
        ],
        [
         9,
         "ACEF",
         "E",
         "F",
         "C",
         "A"
        ],
        [
         10,
         "ADEF",
         "E",
         "F",
         "D",
         "A"
        ],
        [
         11,
         "BCDE",
         "E",
         "D",
         "B",
         "C"
        ],
        [
         12,
         "BCDF",
         "F",
         "D",
         "C",
         "B"
        ],
        [
         13,
         "BCEF",
         "F",
         "E",
         "C",
         "B"
        ],
        [
         14,
         "BDEF",
         "F",
         "E",
         "D",
         "B"
        ],
        [
         15,
         "CDEF",
         "F",
         "E",
         "D",
         "C"
        ]
       ],
       "datasetInfos": [],
       "dbfsResultPath": null,
       "isJsonSchema": true,
       "metadata": {
        "isDbfsCommandResult": false
       },
       "overflow": false,
       "plotOptions": {
        "customPlotOptions": {},
        "displayType": "table",
        "pivotAggregation": null,
        "pivotColumns": null,
        "xColumns": null,
        "yColumns": null
       },
       "removedWidgets": [],
       "schema": [
        {
         "metadata": "{}",
         "name": "ID",
         "type": "\"integer\""
        },
        {
         "metadata": "{\"__CHAR_VARCHAR_TYPE_STRING\":\"varchar(4)\"}",
         "name": "SelectedGroup",
         "type": "\"string\""
        },
        {
         "metadata": "{\"__CHAR_VARCHAR_TYPE_STRING\":\"varchar(1)\"}",
         "name": "Team1B",
         "type": "\"string\""
        },
        {
         "metadata": "{\"__CHAR_VARCHAR_TYPE_STRING\":\"varchar(1)\"}",
         "name": "Team1C",
         "type": "\"string\""
        },
        {
         "metadata": "{\"__CHAR_VARCHAR_TYPE_STRING\":\"varchar(1)\"}",
         "name": "Team1E",
         "type": "\"string\""
        },
        {
         "metadata": "{\"__CHAR_VARCHAR_TYPE_STRING\":\"varchar(1)\"}",
         "name": "Team1F",
         "type": "\"string\""
        }
       ],
       "type": "table"
      }
     },
     "output_type": "display_data"
    }
   ],
   "source": [
    "%sql\n",
    "INSERT INTO  ThirdPlaceCombination1 (ID, SelectedGroup, Team1B, Team1C, Team1E, Team1F) VALUES\n",
    "(1, 'ABCD', 'A', 'D', 'B', 'C'),\n",
    "(2, 'ABCE', 'A', 'E', 'B', 'C'),\n",
    "(3, 'ABCF', 'A', 'F', 'B', 'C'),\n",
    "(4, 'ABDE', 'D', 'E', 'A', 'B'),\n",
    "(5, 'ABDF', 'D', 'F', 'A', 'B'),\n",
    "(6, 'ABEF', 'E', 'F', 'B', 'A'),\n",
    "(7, 'ACDE', 'E', 'D', 'C', 'A'),\n",
    "(8, 'ACDF', 'F', 'D', 'C', 'A'),\n",
    "(9, 'ACEF', 'E', 'F', 'C', 'A'),\n",
    "(10, 'ADEF', 'E', 'F', 'D', 'A'),\n",
    "(11, 'BCDE', 'E', 'D', 'B', 'C'),\n",
    "(12, 'BCDF', 'F', 'D', 'C', 'B'),\n",
    "(13, 'BCEF', 'F', 'E', 'C', 'B'),\n",
    "(14, 'BDEF', 'F', 'E', 'D', 'B'),\n",
    "(15, 'CDEF', 'F', 'E', 'D', 'C');\n",
    "\n",
    "SELECT * FROM ThirdPlaceCombination1;"
   ]
  },
  {
   "cell_type": "code",
   "execution_count": 0,
   "metadata": {
    "application/vnd.databricks.v1+cell": {
     "cellMetadata": {
      "byteLimit": 2048000,
      "rowLimit": 10000
     },
     "inputWidgets": {},
     "nuid": "dd5ad309-01e2-4e78-bb40-6ac9339fbf7b",
     "showTitle": false,
     "title": ""
    }
   },
   "outputs": [
    {
     "output_type": "display_data",
     "data": {
      "text/html": [
       "<style scoped>\n",
       "  .table-result-container {\n",
       "    max-height: 300px;\n",
       "    overflow: auto;\n",
       "  }\n",
       "  table, th, td {\n",
       "    border: 1px solid black;\n",
       "    border-collapse: collapse;\n",
       "  }\n",
       "  th, td {\n",
       "    padding: 5px;\n",
       "  }\n",
       "  th {\n",
       "    text-align: left;\n",
       "  }\n",
       "</style><div class='table-result-container'><table class='table-result'><thead style='background-color: white'><tr><th>num_affected_rows</th><th>num_inserted_rows</th></tr></thead><tbody><tr><td>8</td><td>8</td></tr></tbody></table></div>"
      ]
     },
     "metadata": {
      "application/vnd.databricks.v1+output": {
       "addedWidgets": {},
       "aggData": [],
       "aggError": "",
       "aggOverflow": false,
       "aggSchema": [],
       "aggSeriesLimitReached": false,
       "aggType": "",
       "arguments": {},
       "columnCustomDisplayInfos": {},
       "data": [
        [
         8,
         8
        ]
       ],
       "datasetInfos": [],
       "dbfsResultPath": null,
       "isJsonSchema": true,
       "metadata": {
        "isDbfsCommandResult": false
       },
       "overflow": false,
       "plotOptions": {
        "customPlotOptions": {},
        "displayType": "table",
        "pivotAggregation": null,
        "pivotColumns": null,
        "xColumns": null,
        "yColumns": null
       },
       "removedWidgets": [],
       "schema": [
        {
         "metadata": "{}",
         "name": "num_affected_rows",
         "type": "\"long\""
        },
        {
         "metadata": "{}",
         "name": "num_inserted_rows",
         "type": "\"long\""
        }
       ],
       "type": "table"
      }
     },
     "output_type": "display_data"
    }
   ],
   "source": [
    "%sql\n",
    "INSERT INTO matchinfo1(matchid,\n",
    "team1,\n",
    "team2,\n",
    "team1score,\n",
    "team2score,\n",
    "result,\n",
    "stage)\n",
    "WITH Combination AS (\n",
    "    SELECT CONCAT_WS('', sort_array(Collect_list(GroupName))) AS GroupCombination\n",
    "    FROM roundof16 r1\n",
    "    WHERE rank = 3 \n",
    "),\n",
    "keys AS (\n",
    "    SELECT * FROM ThirdPlaceCombination1\n",
    "    WHERE selectedgroup = (SELECT GroupCombination FROM Combination)\n",
    ")\n",
    "SELECT \n",
    "    37 AS matchid,\n",
    "    r1.TeamName AS team1,\n",
    "    r2.TeamName AS team2,\n",
    "    CAST(rand() * 6 AS INT) AS team1score, \n",
    "    CAST(rand() * 6 AS INT) AS team2score,\n",
    "    'Null' AS result,\n",
    "    'Round of 16' AS stage\n",
    "FROM \n",
    "    roundof16 r1\n",
    "JOIN \n",
    "  roundof16 r2 ON r1.GroupName = 'A' AND r1.rank = 1 AND r2.GroupName = 'C' AND r2.rank = 2\n",
    "    \n",
    "\n",
    "UNION ALL\n",
    "\n",
    "SELECT \n",
    "    38 AS matchid,\n",
    "    r1.TeamName AS team1,\n",
    "    r2.TeamName AS team2,\n",
    "    CAST(rand() * 6 AS INT) AS team1score, \n",
    "    CAST(rand() * 6 AS INT) AS team2score,\n",
    "    'Null' AS result,\n",
    "    'Round of 16' AS stage\n",
    "FROM \n",
    "    roundof16 r1\n",
    "JOIN \n",
    "  roundof16 r2 ON r1.GroupName = 'A' AND r1.rank = 2 AND r2.GroupName = 'B' AND r2.rank = 2\n",
    "\n",
    "\n",
    "\n",
    "UNION ALL\n",
    "\n",
    "SELECT \n",
    "    39 AS matchid,\n",
    "    r1.TeamName AS team1,\n",
    "    r2.TeamName AS team2,\n",
    "    CAST(rand() * 6 AS INT) AS team1score, \n",
    "    CAST(rand() * 6 AS INT) AS team2score,\n",
    "    'Null' AS result,\n",
    "    'Round of 16' AS stage\n",
    "FROM \n",
    "    roundof16 r1\n",
    "JOIN \n",
    "  roundof16 r2 ON r1.GroupName = 'B' AND r1.rank = 1 AND r2.GroupName = (SELECT Team1B FROM keys) AND r2.rank = 3\n",
    "\n",
    "  \n",
    "\n",
    "UNION ALL\n",
    "\n",
    "SELECT \n",
    "    40 AS matchid,\n",
    "    r1.TeamName AS team1,\n",
    "    r2.TeamName AS team2,\n",
    "    CAST(rand() * 6 AS INT) AS team1score, \n",
    "    CAST(rand() * 6 AS INT) AS team2score,\n",
    "    'Null' AS result,\n",
    "    'Round of 16' AS stage\n",
    "FROM \n",
    "    roundof16 r1\n",
    "JOIN \n",
    "  roundof16 r2 ON r1.GroupName = 'C' AND r1.rank = 1 AND r2.GroupName = (SELECT Team1C FROM keys) AND r2.rank = 3\n",
    " \n",
    "    \n",
    "\n",
    "UNION ALL\n",
    "\n",
    "SELECT \n",
    "    41 AS matchid,\n",
    "    r1.TeamName AS team1,\n",
    "    r2.TeamName AS team2,\n",
    "    CAST(rand() * 6 AS INT) AS team1score, \n",
    "    CAST(rand() * 6 AS INT) AS team2score,\n",
    "    'Null' AS result,\n",
    "    'Round of 16' AS stage\n",
    "FROM \n",
    "    roundof16 r1\n",
    "JOIN \n",
    "  roundof16 r2 ON r1.GroupName = 'F' AND r1.rank = 1 AND r2.GroupName = (SELECT Team1F FROM keys) AND r2.rank = 3\n",
    "\n",
    "    \n",
    "\n",
    "UNION ALL\n",
    "\n",
    "SELECT \n",
    "    42 AS matchid,\n",
    "    r1.TeamName AS team1,\n",
    "    r2.TeamName AS team2,\n",
    "    CAST(rand() * 6 AS INT) AS team1score, \n",
    "    CAST(rand() * 6 AS INT) AS team2score,\n",
    "    'Null' AS result,\n",
    "    'Round of 16' AS stage\n",
    "FROM \n",
    "    roundof16 r1\n",
    "JOIN \n",
    "  roundof16 r2 ON r1.GroupName = 'D' AND r1.rank = 2 AND r2.GroupName = 'E' AND r2.rank = 2\n",
    "\n",
    "\n",
    "UNION ALL\n",
    "\n",
    "SELECT \n",
    "    43 AS matchid,\n",
    "    r1.TeamName AS team1,\n",
    "    r2.TeamName AS team2,\n",
    "    CAST(rand() * 6 AS INT) AS team1score, \n",
    "    CAST(rand() * 6 AS INT) AS team2score,\n",
    "    'Null' AS result,\n",
    "    'Round of 16' AS stage\n",
    "FROM \n",
    "    roundof16 r1\n",
    "JOIN \n",
    "  roundof16 r2 ON r1.GroupName = 'E' AND r1.rank = 1 AND r2.GroupName = (select Team1E from keys) AND r2.rank = 3\n",
    "\n",
    "\n",
    "UNION ALL\n",
    "\n",
    "SELECT \n",
    "    44 AS matchid,\n",
    "    r1.TeamName AS team1,\n",
    "    r2.TeamName AS team2,\n",
    "    CAST(rand() * 6 AS INT) AS team1score, \n",
    "    CAST(rand() * 6 AS INT) AS team2score,\n",
    "    'Null' AS result,\n",
    "    'Round of 16' AS stage\n",
    "FROM \n",
    "    roundof16 r1\n",
    "JOIN \n",
    "  roundof16 r2 ON r1.GroupName = 'D' AND r1.rank = 2 AND r2.GroupName = 'F' AND r2.rank = 2"
   ]
  },
  {
   "cell_type": "code",
   "execution_count": 0,
   "metadata": {
    "application/vnd.databricks.v1+cell": {
     "cellMetadata": {
      "byteLimit": 2048000,
      "rowLimit": 10000
     },
     "inputWidgets": {},
     "nuid": "2aab9985-1dcb-4d9a-9ce6-4b1e707d86c6",
     "showTitle": false,
     "title": ""
    }
   },
   "outputs": [
    {
     "output_type": "display_data",
     "data": {
      "text/html": [
       "<style scoped>\n",
       "  .table-result-container {\n",
       "    max-height: 300px;\n",
       "    overflow: auto;\n",
       "  }\n",
       "  table, th, td {\n",
       "    border: 1px solid black;\n",
       "    border-collapse: collapse;\n",
       "  }\n",
       "  th, td {\n",
       "    padding: 5px;\n",
       "  }\n",
       "  th {\n",
       "    text-align: left;\n",
       "  }\n",
       "</style><div class='table-result-container'><table class='table-result'><thead style='background-color: white'><tr><th>matchid</th><th>team1</th><th>team2</th><th>team1score</th><th>team2score</th><th>result</th><th>stage</th></tr></thead><tbody><tr><td>1</td><td>France</td><td>Hungary</td><td>5</td><td>3</td><td>France</td><td>Group Stage</td></tr><tr><td>2</td><td>France</td><td>Germany</td><td>2</td><td>3</td><td>Germany</td><td>Group Stage</td></tr><tr><td>3</td><td>France</td><td>Portugal</td><td>1</td><td>4</td><td>Portugal</td><td>Group Stage</td></tr><tr><td>4</td><td>Portugal</td><td>Hungary</td><td>5</td><td>5</td><td>Draw</td><td>Group Stage</td></tr><tr><td>5</td><td>Portugal</td><td>Germany</td><td>1</td><td>2</td><td>Germany</td><td>Group Stage</td></tr><tr><td>6</td><td>Germany</td><td>Hungary</td><td>3</td><td>4</td><td>Hungary</td><td>Group Stage</td></tr><tr><td>7</td><td>Spain</td><td>Slovakia</td><td>6</td><td>2</td><td>Spain</td><td>Group Stage</td></tr><tr><td>8</td><td>Spain</td><td>Poland</td><td>6</td><td>2</td><td>Spain</td><td>Group Stage</td></tr><tr><td>9</td><td>Spain</td><td>Sweden</td><td>2</td><td>6</td><td>Sweden</td><td>Group Stage</td></tr><tr><td>10</td><td>Sweden</td><td>Slovakia</td><td>5</td><td>5</td><td>Draw</td><td>Group Stage</td></tr><tr><td>11</td><td>Sweden</td><td>Poland</td><td>5</td><td>3</td><td>Sweden</td><td>Group Stage</td></tr><tr><td>12</td><td>Poland</td><td>Slovakia</td><td>2</td><td>3</td><td>Slovakia</td><td>Group Stage</td></tr><tr><td>13</td><td>Italy</td><td>Wales</td><td>3</td><td>5</td><td>Wales</td><td>Group Stage</td></tr><tr><td>14</td><td>Italy</td><td>Turkey</td><td>2</td><td>4</td><td>Turkey</td><td>Group Stage</td></tr><tr><td>15</td><td>Italy</td><td>Switzerland</td><td>6</td><td>2</td><td>Italy</td><td>Group Stage</td></tr><tr><td>16</td><td>Switzerland</td><td>Wales</td><td>5</td><td>3</td><td>Switzerland</td><td>Group Stage</td></tr><tr><td>17</td><td>Switzerland</td><td>Turkey</td><td>4</td><td>3</td><td>Switzerland</td><td>Group Stage</td></tr><tr><td>18</td><td>Turkey</td><td>Wales</td><td>4</td><td>3</td><td>Turkey</td><td>Group Stage</td></tr><tr><td>19</td><td>Belgium</td><td>Finland</td><td>5</td><td>5</td><td>Draw</td><td>Group Stage</td></tr><tr><td>20</td><td>Belgium</td><td>Russia</td><td>4</td><td>1</td><td>Belgium</td><td>Group Stage</td></tr><tr><td>21</td><td>Belgium</td><td>Denmark</td><td>1</td><td>6</td><td>Denmark</td><td>Group Stage</td></tr><tr><td>22</td><td>Denmark</td><td>Finland</td><td>5</td><td>2</td><td>Denmark</td><td>Group Stage</td></tr><tr><td>23</td><td>Denmark</td><td>Russia</td><td>5</td><td>4</td><td>Denmark</td><td>Group Stage</td></tr><tr><td>24</td><td>Russia</td><td>Finland</td><td>6</td><td>2</td><td>Russia</td><td>Group Stage</td></tr><tr><td>25</td><td>Netherlands</td><td>North Macedonia</td><td>4</td><td>5</td><td>North Macedonia</td><td>Group Stage</td></tr><tr><td>26</td><td>Netherlands</td><td>Austria</td><td>6</td><td>1</td><td>Netherlands</td><td>Group Stage</td></tr><tr><td>27</td><td>Netherlands</td><td>Ukraine</td><td>3</td><td>3</td><td>Draw</td><td>Group Stage</td></tr><tr><td>28</td><td>Ukraine</td><td>North Macedonia</td><td>1</td><td>4</td><td>North Macedonia</td><td>Group Stage</td></tr><tr><td>29</td><td>Ukraine</td><td>Austria</td><td>2</td><td>2</td><td>Draw</td><td>Group Stage</td></tr><tr><td>30</td><td>Austria</td><td>North Macedonia</td><td>4</td><td>1</td><td>Austria</td><td>Group Stage</td></tr><tr><td>31</td><td>England</td><td>Czech Republic</td><td>6</td><td>1</td><td>England</td><td>Group Stage</td></tr><tr><td>32</td><td>England</td><td>Scotland</td><td>3</td><td>2</td><td>England</td><td>Group Stage</td></tr><tr><td>33</td><td>England</td><td>Croatia</td><td>4</td><td>5</td><td>Croatia</td><td>Group Stage</td></tr><tr><td>34</td><td>Croatia</td><td>Czech Republic</td><td>2</td><td>2</td><td>Draw</td><td>Group Stage</td></tr><tr><td>35</td><td>Croatia</td><td>Scotland</td><td>3</td><td>2</td><td>Croatia</td><td>Group Stage</td></tr><tr><td>36</td><td>Scotland</td><td>Czech Republic</td><td>5</td><td>1</td><td>Scotland</td><td>Group Stage</td></tr><tr><td>37</td><td>Germany</td><td>Switzerland</td><td>0</td><td>4</td><td>Switzerland</td><td>Round of 16</td></tr><tr><td>38</td><td>Portugal</td><td>Spain</td><td>2</td><td>3</td><td>Spain</td><td>Round of 16</td></tr><tr><td>39</td><td>Sweden</td><td>Hungary</td><td>5</td><td>1</td><td>Sweden</td><td>Round of 16</td></tr><tr><td>40</td><td>Turkey</td><td>Russia</td><td>1</td><td>1</td><td>null</td><td>Round of 16</td></tr><tr><td>41</td><td>Croatia</td><td>Italy</td><td>4</td><td>3</td><td>Croatia</td><td>Round of 16</td></tr><tr><td>42</td><td>Belgium</td><td>Netherlands</td><td>5</td><td>3</td><td>Belgium</td><td>Round of 16</td></tr><tr><td>43</td><td>North Macedonia</td><td>Slovakia</td><td>5</td><td>3</td><td>North Macedonia</td><td>Round of 16</td></tr><tr><td>44</td><td>Belgium</td><td>England</td><td>4</td><td>3</td><td>Belgium</td><td>Round of 16</td></tr></tbody></table></div>"
      ]
     },
     "metadata": {
      "application/vnd.databricks.v1+output": {
       "addedWidgets": {},
       "aggData": [],
       "aggError": "",
       "aggOverflow": false,
       "aggSchema": [],
       "aggSeriesLimitReached": false,
       "aggType": "",
       "arguments": {},
       "columnCustomDisplayInfos": {},
       "data": [
        [
         1,
         "France",
         "Hungary",
         5,
         3,
         "France",
         "Group Stage"
        ],
        [
         2,
         "France",
         "Germany",
         2,
         3,
         "Germany",
         "Group Stage"
        ],
        [
         3,
         "France",
         "Portugal",
         1,
         4,
         "Portugal",
         "Group Stage"
        ],
        [
         4,
         "Portugal",
         "Hungary",
         5,
         5,
         "Draw",
         "Group Stage"
        ],
        [
         5,
         "Portugal",
         "Germany",
         1,
         2,
         "Germany",
         "Group Stage"
        ],
        [
         6,
         "Germany",
         "Hungary",
         3,
         4,
         "Hungary",
         "Group Stage"
        ],
        [
         7,
         "Spain",
         "Slovakia",
         6,
         2,
         "Spain",
         "Group Stage"
        ],
        [
         8,
         "Spain",
         "Poland",
         6,
         2,
         "Spain",
         "Group Stage"
        ],
        [
         9,
         "Spain",
         "Sweden",
         2,
         6,
         "Sweden",
         "Group Stage"
        ],
        [
         10,
         "Sweden",
         "Slovakia",
         5,
         5,
         "Draw",
         "Group Stage"
        ],
        [
         11,
         "Sweden",
         "Poland",
         5,
         3,
         "Sweden",
         "Group Stage"
        ],
        [
         12,
         "Poland",
         "Slovakia",
         2,
         3,
         "Slovakia",
         "Group Stage"
        ],
        [
         13,
         "Italy",
         "Wales",
         3,
         5,
         "Wales",
         "Group Stage"
        ],
        [
         14,
         "Italy",
         "Turkey",
         2,
         4,
         "Turkey",
         "Group Stage"
        ],
        [
         15,
         "Italy",
         "Switzerland",
         6,
         2,
         "Italy",
         "Group Stage"
        ],
        [
         16,
         "Switzerland",
         "Wales",
         5,
         3,
         "Switzerland",
         "Group Stage"
        ],
        [
         17,
         "Switzerland",
         "Turkey",
         4,
         3,
         "Switzerland",
         "Group Stage"
        ],
        [
         18,
         "Turkey",
         "Wales",
         4,
         3,
         "Turkey",
         "Group Stage"
        ],
        [
         19,
         "Belgium",
         "Finland",
         5,
         5,
         "Draw",
         "Group Stage"
        ],
        [
         20,
         "Belgium",
         "Russia",
         4,
         1,
         "Belgium",
         "Group Stage"
        ],
        [
         21,
         "Belgium",
         "Denmark",
         1,
         6,
         "Denmark",
         "Group Stage"
        ],
        [
         22,
         "Denmark",
         "Finland",
         5,
         2,
         "Denmark",
         "Group Stage"
        ],
        [
         23,
         "Denmark",
         "Russia",
         5,
         4,
         "Denmark",
         "Group Stage"
        ],
        [
         24,
         "Russia",
         "Finland",
         6,
         2,
         "Russia",
         "Group Stage"
        ],
        [
         25,
         "Netherlands",
         "North Macedonia",
         4,
         5,
         "North Macedonia",
         "Group Stage"
        ],
        [
         26,
         "Netherlands",
         "Austria",
         6,
         1,
         "Netherlands",
         "Group Stage"
        ],
        [
         27,
         "Netherlands",
         "Ukraine",
         3,
         3,
         "Draw",
         "Group Stage"
        ],
        [
         28,
         "Ukraine",
         "North Macedonia",
         1,
         4,
         "North Macedonia",
         "Group Stage"
        ],
        [
         29,
         "Ukraine",
         "Austria",
         2,
         2,
         "Draw",
         "Group Stage"
        ],
        [
         30,
         "Austria",
         "North Macedonia",
         4,
         1,
         "Austria",
         "Group Stage"
        ],
        [
         31,
         "England",
         "Czech Republic",
         6,
         1,
         "England",
         "Group Stage"
        ],
        [
         32,
         "England",
         "Scotland",
         3,
         2,
         "England",
         "Group Stage"
        ],
        [
         33,
         "England",
         "Croatia",
         4,
         5,
         "Croatia",
         "Group Stage"
        ],
        [
         34,
         "Croatia",
         "Czech Republic",
         2,
         2,
         "Draw",
         "Group Stage"
        ],
        [
         35,
         "Croatia",
         "Scotland",
         3,
         2,
         "Croatia",
         "Group Stage"
        ],
        [
         36,
         "Scotland",
         "Czech Republic",
         5,
         1,
         "Scotland",
         "Group Stage"
        ],
        [
         37,
         "Germany",
         "Switzerland",
         0,
         4,
         "Switzerland",
         "Round of 16"
        ],
        [
         38,
         "Portugal",
         "Spain",
         2,
         3,
         "Spain",
         "Round of 16"
        ],
        [
         39,
         "Sweden",
         "Hungary",
         5,
         1,
         "Sweden",
         "Round of 16"
        ],
        [
         40,
         "Turkey",
         "Russia",
         1,
         1,
         null,
         "Round of 16"
        ],
        [
         41,
         "Croatia",
         "Italy",
         4,
         3,
         "Croatia",
         "Round of 16"
        ],
        [
         42,
         "Belgium",
         "Netherlands",
         5,
         3,
         "Belgium",
         "Round of 16"
        ],
        [
         43,
         "North Macedonia",
         "Slovakia",
         5,
         3,
         "North Macedonia",
         "Round of 16"
        ],
        [
         44,
         "Belgium",
         "England",
         4,
         3,
         "Belgium",
         "Round of 16"
        ]
       ],
       "datasetInfos": [],
       "dbfsResultPath": null,
       "isJsonSchema": true,
       "metadata": {
        "isDbfsCommandResult": false
       },
       "overflow": false,
       "plotOptions": {
        "customPlotOptions": {},
        "displayType": "table",
        "pivotAggregation": null,
        "pivotColumns": null,
        "xColumns": null,
        "yColumns": null
       },
       "removedWidgets": [],
       "schema": [
        {
         "metadata": "{}",
         "name": "matchid",
         "type": "\"integer\""
        },
        {
         "metadata": "{\"__CHAR_VARCHAR_TYPE_STRING\":\"varchar(30)\"}",
         "name": "team1",
         "type": "\"string\""
        },
        {
         "metadata": "{\"__CHAR_VARCHAR_TYPE_STRING\":\"varchar(30)\"}",
         "name": "team2",
         "type": "\"string\""
        },
        {
         "metadata": "{}",
         "name": "team1score",
         "type": "\"integer\""
        },
        {
         "metadata": "{}",
         "name": "team2score",
         "type": "\"integer\""
        },
        {
         "metadata": "{\"__CHAR_VARCHAR_TYPE_STRING\":\"varchar(30)\"}",
         "name": "result",
         "type": "\"string\""
        },
        {
         "metadata": "{\"__CHAR_VARCHAR_TYPE_STRING\":\"varchar(255)\"}",
         "name": "stage",
         "type": "\"string\""
        }
       ],
       "type": "table"
      }
     },
     "output_type": "display_data"
    }
   ],
   "source": [
    "%sql\n",
    "UPDATE matchinfo1\n",
    "SET result = CASE\n",
    "    WHEN team1score > team2score THEN team1\n",
    "    WHEN team1score < team2score THEN team2\n",
    "END\n",
    "WHERE stage = \"Round of 16\";\n",
    "\n",
    "\n",
    "select *\n",
    "from matchinfo1\n",
    "order by matchid"
   ]
  },
  {
   "cell_type": "code",
   "execution_count": 0,
   "metadata": {
    "application/vnd.databricks.v1+cell": {
     "cellMetadata": {
      "byteLimit": 2048000,
      "rowLimit": 10000
     },
     "inputWidgets": {},
     "nuid": "22b2d6cd-917f-4b40-90db-81efbc2a109d",
     "showTitle": false,
     "title": ""
    }
   },
   "outputs": [
    {
     "output_type": "display_data",
     "data": {
      "text/html": [
       "<style scoped>\n",
       "  .table-result-container {\n",
       "    max-height: 300px;\n",
       "    overflow: auto;\n",
       "  }\n",
       "  table, th, td {\n",
       "    border: 1px solid black;\n",
       "    border-collapse: collapse;\n",
       "  }\n",
       "  th, td {\n",
       "    padding: 5px;\n",
       "  }\n",
       "  th {\n",
       "    text-align: left;\n",
       "  }\n",
       "</style><div class='table-result-container'><table class='table-result'><thead style='background-color: white'><tr><th>num_affected_rows</th><th>num_inserted_rows</th></tr></thead><tbody><tr><td>4</td><td>4</td></tr></tbody></table></div>"
      ]
     },
     "metadata": {
      "application/vnd.databricks.v1+output": {
       "addedWidgets": {},
       "aggData": [],
       "aggError": "",
       "aggOverflow": false,
       "aggSchema": [],
       "aggSeriesLimitReached": false,
       "aggType": "",
       "arguments": {},
       "columnCustomDisplayInfos": {},
       "data": [
        [
         4,
         4
        ]
       ],
       "datasetInfos": [],
       "dbfsResultPath": null,
       "isJsonSchema": true,
       "metadata": {
        "isDbfsCommandResult": false
       },
       "overflow": false,
       "plotOptions": {
        "customPlotOptions": {},
        "displayType": "table",
        "pivotAggregation": null,
        "pivotColumns": null,
        "xColumns": null,
        "yColumns": null
       },
       "removedWidgets": [],
       "schema": [
        {
         "metadata": "{}",
         "name": "num_affected_rows",
         "type": "\"long\""
        },
        {
         "metadata": "{}",
         "name": "num_inserted_rows",
         "type": "\"long\""
        }
       ],
       "type": "table"
      }
     },
     "output_type": "display_data"
    }
   ],
   "source": [
    "%sql\n",
    "INSERT INTO matchinfo1 (matchid,\n",
    "team1,\n",
    "team2,\n",
    "team1score,\n",
    "team2score,\n",
    "result,\n",
    "stage)\n",
    "SELECT \n",
    "    45 AS matchid,\n",
    "    i1.team1 AS team1,\n",
    "    i2.team2 AS team2,\n",
    "    CAST(rand() * 6 AS INT) AS team1score, \n",
    "    CAST(rand() * 6 AS INT) AS team2score,\n",
    "    'Null' AS result,\n",
    "    'Quarter-finals' AS stage\n",
    "FROM \n",
    "    matchinfo1 i1\n",
    "JOIN \n",
    "    matchinfo1 i2 ON \n",
    "        i1.matchid = 39 AND i2.matchid = 37\n",
    "\n",
    "UNION ALL\n",
    "\n",
    "SELECT \n",
    "    46 AS matchid,\n",
    "    i1.team1 AS team1,\n",
    "    i2.team2 AS team2,\n",
    "    CAST(rand() * 6 AS INT) AS team1score, \n",
    "    CAST(rand() * 6 AS INT) AS team2score,\n",
    "    'Null' AS result,\n",
    "    'Quarter-finals' AS stage\n",
    "FROM \n",
    "    matchinfo1 i1\n",
    "JOIN \n",
    "    matchinfo1 i2 ON \n",
    "        i1.matchid = 41 AND i2.matchid = 42\n",
    "      \n",
    "\n",
    "UNION ALL\n",
    "\n",
    "SELECT \n",
    "    47 AS matchid,\n",
    "    i1.team1 AS team1,\n",
    "    i2.team2 AS team2,\n",
    "    CAST(rand() * 6 AS INT) AS team1score, \n",
    "    CAST(rand() * 6 AS INT) AS team2score,\n",
    "    'Null' AS result,\n",
    "    'Quarter-finals' AS stage\n",
    "FROM \n",
    "    matchinfo1 i1\n",
    "JOIN \n",
    "    matchinfo1 i2 ON \n",
    "        i1.matchid = 40 AND i2.matchid = 38\n",
    "       \n",
    "\n",
    "UNION ALL\n",
    "\n",
    "SELECT \n",
    "    48 AS matchid,\n",
    "    i1.team1 AS team1,\n",
    "    i2.team2 AS team2,\n",
    "    CAST(rand() * 6 AS INT) AS team1score, \n",
    "    CAST(rand() * 6 AS INT) AS team2score,\n",
    "    'Null' AS result,\n",
    "    'Quarter-finals' AS stage\n",
    "FROM \n",
    "    matchinfo1 i1\n",
    "JOIN \n",
    "    matchinfo1 i2 ON \n",
    "        i1.matchid = 43 AND i2.matchid = 44\n",
    "        "
   ]
  },
  {
   "cell_type": "code",
   "execution_count": 0,
   "metadata": {
    "application/vnd.databricks.v1+cell": {
     "cellMetadata": {
      "byteLimit": 2048000,
      "rowLimit": 10000
     },
     "inputWidgets": {},
     "nuid": "c558bd89-05ac-406d-9842-c7d274f7711a",
     "showTitle": false,
     "title": ""
    }
   },
   "outputs": [
    {
     "output_type": "display_data",
     "data": {
      "text/html": [
       "<style scoped>\n",
       "  .table-result-container {\n",
       "    max-height: 300px;\n",
       "    overflow: auto;\n",
       "  }\n",
       "  table, th, td {\n",
       "    border: 1px solid black;\n",
       "    border-collapse: collapse;\n",
       "  }\n",
       "  th, td {\n",
       "    padding: 5px;\n",
       "  }\n",
       "  th {\n",
       "    text-align: left;\n",
       "  }\n",
       "</style><div class='table-result-container'><table class='table-result'><thead style='background-color: white'><tr><th>matchid</th><th>team1</th><th>team2</th><th>team1score</th><th>team2score</th><th>result</th><th>stage</th></tr></thead><tbody><tr><td>1</td><td>France</td><td>Hungary</td><td>5</td><td>3</td><td>France</td><td>Group Stage</td></tr><tr><td>2</td><td>France</td><td>Germany</td><td>2</td><td>3</td><td>Germany</td><td>Group Stage</td></tr><tr><td>3</td><td>France</td><td>Portugal</td><td>1</td><td>4</td><td>Portugal</td><td>Group Stage</td></tr><tr><td>4</td><td>Portugal</td><td>Hungary</td><td>5</td><td>5</td><td>Draw</td><td>Group Stage</td></tr><tr><td>5</td><td>Portugal</td><td>Germany</td><td>1</td><td>2</td><td>Germany</td><td>Group Stage</td></tr><tr><td>6</td><td>Germany</td><td>Hungary</td><td>3</td><td>4</td><td>Hungary</td><td>Group Stage</td></tr><tr><td>7</td><td>Spain</td><td>Slovakia</td><td>6</td><td>2</td><td>Spain</td><td>Group Stage</td></tr><tr><td>8</td><td>Spain</td><td>Poland</td><td>6</td><td>2</td><td>Spain</td><td>Group Stage</td></tr><tr><td>9</td><td>Spain</td><td>Sweden</td><td>2</td><td>6</td><td>Sweden</td><td>Group Stage</td></tr><tr><td>10</td><td>Sweden</td><td>Slovakia</td><td>5</td><td>5</td><td>Draw</td><td>Group Stage</td></tr><tr><td>11</td><td>Sweden</td><td>Poland</td><td>5</td><td>3</td><td>Sweden</td><td>Group Stage</td></tr><tr><td>12</td><td>Poland</td><td>Slovakia</td><td>2</td><td>3</td><td>Slovakia</td><td>Group Stage</td></tr><tr><td>13</td><td>Italy</td><td>Wales</td><td>3</td><td>5</td><td>Wales</td><td>Group Stage</td></tr><tr><td>14</td><td>Italy</td><td>Turkey</td><td>2</td><td>4</td><td>Turkey</td><td>Group Stage</td></tr><tr><td>15</td><td>Italy</td><td>Switzerland</td><td>6</td><td>2</td><td>Italy</td><td>Group Stage</td></tr><tr><td>16</td><td>Switzerland</td><td>Wales</td><td>5</td><td>3</td><td>Switzerland</td><td>Group Stage</td></tr><tr><td>17</td><td>Switzerland</td><td>Turkey</td><td>4</td><td>3</td><td>Switzerland</td><td>Group Stage</td></tr><tr><td>18</td><td>Turkey</td><td>Wales</td><td>4</td><td>3</td><td>Turkey</td><td>Group Stage</td></tr><tr><td>19</td><td>Belgium</td><td>Finland</td><td>5</td><td>5</td><td>Draw</td><td>Group Stage</td></tr><tr><td>20</td><td>Belgium</td><td>Russia</td><td>4</td><td>1</td><td>Belgium</td><td>Group Stage</td></tr><tr><td>21</td><td>Belgium</td><td>Denmark</td><td>1</td><td>6</td><td>Denmark</td><td>Group Stage</td></tr><tr><td>22</td><td>Denmark</td><td>Finland</td><td>5</td><td>2</td><td>Denmark</td><td>Group Stage</td></tr><tr><td>23</td><td>Denmark</td><td>Russia</td><td>5</td><td>4</td><td>Denmark</td><td>Group Stage</td></tr><tr><td>24</td><td>Russia</td><td>Finland</td><td>6</td><td>2</td><td>Russia</td><td>Group Stage</td></tr><tr><td>25</td><td>Netherlands</td><td>North Macedonia</td><td>4</td><td>5</td><td>North Macedonia</td><td>Group Stage</td></tr><tr><td>26</td><td>Netherlands</td><td>Austria</td><td>6</td><td>1</td><td>Netherlands</td><td>Group Stage</td></tr><tr><td>27</td><td>Netherlands</td><td>Ukraine</td><td>3</td><td>3</td><td>Draw</td><td>Group Stage</td></tr><tr><td>28</td><td>Ukraine</td><td>North Macedonia</td><td>1</td><td>4</td><td>North Macedonia</td><td>Group Stage</td></tr><tr><td>29</td><td>Ukraine</td><td>Austria</td><td>2</td><td>2</td><td>Draw</td><td>Group Stage</td></tr><tr><td>30</td><td>Austria</td><td>North Macedonia</td><td>4</td><td>1</td><td>Austria</td><td>Group Stage</td></tr><tr><td>31</td><td>England</td><td>Czech Republic</td><td>6</td><td>1</td><td>England</td><td>Group Stage</td></tr><tr><td>32</td><td>England</td><td>Scotland</td><td>3</td><td>2</td><td>England</td><td>Group Stage</td></tr><tr><td>33</td><td>England</td><td>Croatia</td><td>4</td><td>5</td><td>Croatia</td><td>Group Stage</td></tr><tr><td>34</td><td>Croatia</td><td>Czech Republic</td><td>2</td><td>2</td><td>Draw</td><td>Group Stage</td></tr><tr><td>35</td><td>Croatia</td><td>Scotland</td><td>3</td><td>2</td><td>Croatia</td><td>Group Stage</td></tr><tr><td>36</td><td>Scotland</td><td>Czech Republic</td><td>5</td><td>1</td><td>Scotland</td><td>Group Stage</td></tr><tr><td>37</td><td>Germany</td><td>Switzerland</td><td>0</td><td>4</td><td>Switzerland</td><td>Round of 16</td></tr><tr><td>38</td><td>Portugal</td><td>Spain</td><td>2</td><td>3</td><td>Spain</td><td>Round of 16</td></tr><tr><td>39</td><td>Sweden</td><td>Hungary</td><td>5</td><td>1</td><td>Sweden</td><td>Round of 16</td></tr><tr><td>40</td><td>Turkey</td><td>Russia</td><td>1</td><td>1</td><td>null</td><td>Round of 16</td></tr><tr><td>41</td><td>Croatia</td><td>Italy</td><td>4</td><td>3</td><td>Croatia</td><td>Round of 16</td></tr><tr><td>42</td><td>Belgium</td><td>Netherlands</td><td>5</td><td>3</td><td>Belgium</td><td>Round of 16</td></tr><tr><td>43</td><td>North Macedonia</td><td>Slovakia</td><td>5</td><td>3</td><td>North Macedonia</td><td>Round of 16</td></tr><tr><td>44</td><td>Belgium</td><td>England</td><td>4</td><td>3</td><td>Belgium</td><td>Round of 16</td></tr><tr><td>45</td><td>Sweden</td><td>Switzerland</td><td>0</td><td>3</td><td>Switzerland</td><td>Quarter-finals</td></tr><tr><td>46</td><td>Croatia</td><td>Netherlands</td><td>4</td><td>3</td><td>Croatia</td><td>Quarter-finals</td></tr><tr><td>47</td><td>Turkey</td><td>Spain</td><td>0</td><td>2</td><td>Spain</td><td>Quarter-finals</td></tr><tr><td>48</td><td>North Macedonia</td><td>England</td><td>0</td><td>2</td><td>England</td><td>Quarter-finals</td></tr></tbody></table></div>"
      ]
     },
     "metadata": {
      "application/vnd.databricks.v1+output": {
       "addedWidgets": {},
       "aggData": [],
       "aggError": "",
       "aggOverflow": false,
       "aggSchema": [],
       "aggSeriesLimitReached": false,
       "aggType": "",
       "arguments": {},
       "columnCustomDisplayInfos": {},
       "data": [
        [
         1,
         "France",
         "Hungary",
         5,
         3,
         "France",
         "Group Stage"
        ],
        [
         2,
         "France",
         "Germany",
         2,
         3,
         "Germany",
         "Group Stage"
        ],
        [
         3,
         "France",
         "Portugal",
         1,
         4,
         "Portugal",
         "Group Stage"
        ],
        [
         4,
         "Portugal",
         "Hungary",
         5,
         5,
         "Draw",
         "Group Stage"
        ],
        [
         5,
         "Portugal",
         "Germany",
         1,
         2,
         "Germany",
         "Group Stage"
        ],
        [
         6,
         "Germany",
         "Hungary",
         3,
         4,
         "Hungary",
         "Group Stage"
        ],
        [
         7,
         "Spain",
         "Slovakia",
         6,
         2,
         "Spain",
         "Group Stage"
        ],
        [
         8,
         "Spain",
         "Poland",
         6,
         2,
         "Spain",
         "Group Stage"
        ],
        [
         9,
         "Spain",
         "Sweden",
         2,
         6,
         "Sweden",
         "Group Stage"
        ],
        [
         10,
         "Sweden",
         "Slovakia",
         5,
         5,
         "Draw",
         "Group Stage"
        ],
        [
         11,
         "Sweden",
         "Poland",
         5,
         3,
         "Sweden",
         "Group Stage"
        ],
        [
         12,
         "Poland",
         "Slovakia",
         2,
         3,
         "Slovakia",
         "Group Stage"
        ],
        [
         13,
         "Italy",
         "Wales",
         3,
         5,
         "Wales",
         "Group Stage"
        ],
        [
         14,
         "Italy",
         "Turkey",
         2,
         4,
         "Turkey",
         "Group Stage"
        ],
        [
         15,
         "Italy",
         "Switzerland",
         6,
         2,
         "Italy",
         "Group Stage"
        ],
        [
         16,
         "Switzerland",
         "Wales",
         5,
         3,
         "Switzerland",
         "Group Stage"
        ],
        [
         17,
         "Switzerland",
         "Turkey",
         4,
         3,
         "Switzerland",
         "Group Stage"
        ],
        [
         18,
         "Turkey",
         "Wales",
         4,
         3,
         "Turkey",
         "Group Stage"
        ],
        [
         19,
         "Belgium",
         "Finland",
         5,
         5,
         "Draw",
         "Group Stage"
        ],
        [
         20,
         "Belgium",
         "Russia",
         4,
         1,
         "Belgium",
         "Group Stage"
        ],
        [
         21,
         "Belgium",
         "Denmark",
         1,
         6,
         "Denmark",
         "Group Stage"
        ],
        [
         22,
         "Denmark",
         "Finland",
         5,
         2,
         "Denmark",
         "Group Stage"
        ],
        [
         23,
         "Denmark",
         "Russia",
         5,
         4,
         "Denmark",
         "Group Stage"
        ],
        [
         24,
         "Russia",
         "Finland",
         6,
         2,
         "Russia",
         "Group Stage"
        ],
        [
         25,
         "Netherlands",
         "North Macedonia",
         4,
         5,
         "North Macedonia",
         "Group Stage"
        ],
        [
         26,
         "Netherlands",
         "Austria",
         6,
         1,
         "Netherlands",
         "Group Stage"
        ],
        [
         27,
         "Netherlands",
         "Ukraine",
         3,
         3,
         "Draw",
         "Group Stage"
        ],
        [
         28,
         "Ukraine",
         "North Macedonia",
         1,
         4,
         "North Macedonia",
         "Group Stage"
        ],
        [
         29,
         "Ukraine",
         "Austria",
         2,
         2,
         "Draw",
         "Group Stage"
        ],
        [
         30,
         "Austria",
         "North Macedonia",
         4,
         1,
         "Austria",
         "Group Stage"
        ],
        [
         31,
         "England",
         "Czech Republic",
         6,
         1,
         "England",
         "Group Stage"
        ],
        [
         32,
         "England",
         "Scotland",
         3,
         2,
         "England",
         "Group Stage"
        ],
        [
         33,
         "England",
         "Croatia",
         4,
         5,
         "Croatia",
         "Group Stage"
        ],
        [
         34,
         "Croatia",
         "Czech Republic",
         2,
         2,
         "Draw",
         "Group Stage"
        ],
        [
         35,
         "Croatia",
         "Scotland",
         3,
         2,
         "Croatia",
         "Group Stage"
        ],
        [
         36,
         "Scotland",
         "Czech Republic",
         5,
         1,
         "Scotland",
         "Group Stage"
        ],
        [
         37,
         "Germany",
         "Switzerland",
         0,
         4,
         "Switzerland",
         "Round of 16"
        ],
        [
         38,
         "Portugal",
         "Spain",
         2,
         3,
         "Spain",
         "Round of 16"
        ],
        [
         39,
         "Sweden",
         "Hungary",
         5,
         1,
         "Sweden",
         "Round of 16"
        ],
        [
         40,
         "Turkey",
         "Russia",
         1,
         1,
         null,
         "Round of 16"
        ],
        [
         41,
         "Croatia",
         "Italy",
         4,
         3,
         "Croatia",
         "Round of 16"
        ],
        [
         42,
         "Belgium",
         "Netherlands",
         5,
         3,
         "Belgium",
         "Round of 16"
        ],
        [
         43,
         "North Macedonia",
         "Slovakia",
         5,
         3,
         "North Macedonia",
         "Round of 16"
        ],
        [
         44,
         "Belgium",
         "England",
         4,
         3,
         "Belgium",
         "Round of 16"
        ],
        [
         45,
         "Sweden",
         "Switzerland",
         0,
         3,
         "Switzerland",
         "Quarter-finals"
        ],
        [
         46,
         "Croatia",
         "Netherlands",
         4,
         3,
         "Croatia",
         "Quarter-finals"
        ],
        [
         47,
         "Turkey",
         "Spain",
         0,
         2,
         "Spain",
         "Quarter-finals"
        ],
        [
         48,
         "North Macedonia",
         "England",
         0,
         2,
         "England",
         "Quarter-finals"
        ]
       ],
       "datasetInfos": [],
       "dbfsResultPath": null,
       "isJsonSchema": true,
       "metadata": {
        "isDbfsCommandResult": false
       },
       "overflow": false,
       "plotOptions": {
        "customPlotOptions": {},
        "displayType": "table",
        "pivotAggregation": null,
        "pivotColumns": null,
        "xColumns": null,
        "yColumns": null
       },
       "removedWidgets": [],
       "schema": [
        {
         "metadata": "{}",
         "name": "matchid",
         "type": "\"integer\""
        },
        {
         "metadata": "{\"__CHAR_VARCHAR_TYPE_STRING\":\"varchar(30)\"}",
         "name": "team1",
         "type": "\"string\""
        },
        {
         "metadata": "{\"__CHAR_VARCHAR_TYPE_STRING\":\"varchar(30)\"}",
         "name": "team2",
         "type": "\"string\""
        },
        {
         "metadata": "{}",
         "name": "team1score",
         "type": "\"integer\""
        },
        {
         "metadata": "{}",
         "name": "team2score",
         "type": "\"integer\""
        },
        {
         "metadata": "{\"__CHAR_VARCHAR_TYPE_STRING\":\"varchar(30)\"}",
         "name": "result",
         "type": "\"string\""
        },
        {
         "metadata": "{\"__CHAR_VARCHAR_TYPE_STRING\":\"varchar(255)\"}",
         "name": "stage",
         "type": "\"string\""
        }
       ],
       "type": "table"
      }
     },
     "output_type": "display_data"
    }
   ],
   "source": [
    "%sql\n",
    "UPDATE matchinfo1\n",
    "SET result = CASE\n",
    "    WHEN team1score > team2score THEN team1\n",
    "    WHEN team1score < team2score THEN team2\n",
    "END\n",
    "WHERE stage = \"Quarter-finals\";\n",
    "\n",
    "\n",
    "select *\n",
    "from matchinfo1\n",
    "order by matchid"
   ]
  },
  {
   "cell_type": "code",
   "execution_count": 0,
   "metadata": {
    "application/vnd.databricks.v1+cell": {
     "cellMetadata": {
      "byteLimit": 2048000,
      "rowLimit": 10000
     },
     "inputWidgets": {},
     "nuid": "d4d76639-1788-4d52-bc41-d7e13d796af7",
     "showTitle": false,
     "title": ""
    }
   },
   "outputs": [
    {
     "output_type": "display_data",
     "data": {
      "text/html": [
       "<style scoped>\n",
       "  .table-result-container {\n",
       "    max-height: 300px;\n",
       "    overflow: auto;\n",
       "  }\n",
       "  table, th, td {\n",
       "    border: 1px solid black;\n",
       "    border-collapse: collapse;\n",
       "  }\n",
       "  th, td {\n",
       "    padding: 5px;\n",
       "  }\n",
       "  th {\n",
       "    text-align: left;\n",
       "  }\n",
       "</style><div class='table-result-container'><table class='table-result'><thead style='background-color: white'><tr><th>num_affected_rows</th><th>num_inserted_rows</th></tr></thead><tbody><tr><td>2</td><td>2</td></tr></tbody></table></div>"
      ]
     },
     "metadata": {
      "application/vnd.databricks.v1+output": {
       "addedWidgets": {},
       "aggData": [],
       "aggError": "",
       "aggOverflow": false,
       "aggSchema": [],
       "aggSeriesLimitReached": false,
       "aggType": "",
       "arguments": {},
       "columnCustomDisplayInfos": {},
       "data": [
        [
         2,
         2
        ]
       ],
       "datasetInfos": [],
       "dbfsResultPath": null,
       "isJsonSchema": true,
       "metadata": {
        "isDbfsCommandResult": false
       },
       "overflow": false,
       "plotOptions": {
        "customPlotOptions": {},
        "displayType": "table",
        "pivotAggregation": null,
        "pivotColumns": null,
        "xColumns": null,
        "yColumns": null
       },
       "removedWidgets": [],
       "schema": [
        {
         "metadata": "{}",
         "name": "num_affected_rows",
         "type": "\"long\""
        },
        {
         "metadata": "{}",
         "name": "num_inserted_rows",
         "type": "\"long\""
        }
       ],
       "type": "table"
      }
     },
     "output_type": "display_data"
    }
   ],
   "source": [
    "%sql\n",
    "INSERT INTO matchinfo1 (matchid,\n",
    "team1,\n",
    "team2,\n",
    "team1score,\n",
    "team2score,\n",
    "result,\n",
    "stage)\n",
    "SELECT \n",
    "    49 AS matchid,\n",
    "    i1.team1 AS team1,\n",
    "    i2.team2 AS team2,\n",
    "    CAST(rand() * 6 AS INT) AS team1score, \n",
    "    CAST(rand() * 6 AS INT) AS team2score,\n",
    "    'Null' AS result,\n",
    "    'Semi-finals' AS stage\n",
    "FROM \n",
    "    matchinfo1 i1\n",
    "JOIN \n",
    "    matchinfo1 i2 ON \n",
    "        i1.matchid = 45 AND i2.matchid = 46\n",
    "\n",
    "  UNION ALL\n",
    "\n",
    "  SELECT \n",
    "    50 AS matchid,\n",
    "    i1.team1 AS team1,\n",
    "    i2.team2 AS team2,\n",
    "    CAST(rand() * 6 AS INT) AS team1score, \n",
    "    CAST(rand() * 6 AS INT) AS team2score,\n",
    "    'Null' AS result,\n",
    "    'Semi-finals' AS stage\n",
    "FROM \n",
    "    matchinfo1 i1\n",
    "JOIN \n",
    "    matchinfo1 i2 ON \n",
    "        i1.matchid = 47 AND i2.matchid = 48"
   ]
  },
  {
   "cell_type": "code",
   "execution_count": 0,
   "metadata": {
    "application/vnd.databricks.v1+cell": {
     "cellMetadata": {
      "byteLimit": 2048000,
      "rowLimit": 10000
     },
     "inputWidgets": {},
     "nuid": "cc27bef9-9ca5-44db-a1ba-6d53c7318555",
     "showTitle": false,
     "title": ""
    }
   },
   "outputs": [
    {
     "output_type": "display_data",
     "data": {
      "text/html": [
       "<style scoped>\n",
       "  .table-result-container {\n",
       "    max-height: 300px;\n",
       "    overflow: auto;\n",
       "  }\n",
       "  table, th, td {\n",
       "    border: 1px solid black;\n",
       "    border-collapse: collapse;\n",
       "  }\n",
       "  th, td {\n",
       "    padding: 5px;\n",
       "  }\n",
       "  th {\n",
       "    text-align: left;\n",
       "  }\n",
       "</style><div class='table-result-container'><table class='table-result'><thead style='background-color: white'><tr><th>matchid</th><th>team1</th><th>team2</th><th>team1score</th><th>team2score</th><th>result</th><th>stage</th></tr></thead><tbody><tr><td>1</td><td>France</td><td>Hungary</td><td>5</td><td>3</td><td>France</td><td>Group Stage</td></tr><tr><td>2</td><td>France</td><td>Germany</td><td>2</td><td>3</td><td>Germany</td><td>Group Stage</td></tr><tr><td>3</td><td>France</td><td>Portugal</td><td>1</td><td>4</td><td>Portugal</td><td>Group Stage</td></tr><tr><td>4</td><td>Portugal</td><td>Hungary</td><td>5</td><td>5</td><td>Draw</td><td>Group Stage</td></tr><tr><td>5</td><td>Portugal</td><td>Germany</td><td>1</td><td>2</td><td>Germany</td><td>Group Stage</td></tr><tr><td>6</td><td>Germany</td><td>Hungary</td><td>3</td><td>4</td><td>Hungary</td><td>Group Stage</td></tr><tr><td>7</td><td>Spain</td><td>Slovakia</td><td>6</td><td>2</td><td>Spain</td><td>Group Stage</td></tr><tr><td>8</td><td>Spain</td><td>Poland</td><td>6</td><td>2</td><td>Spain</td><td>Group Stage</td></tr><tr><td>9</td><td>Spain</td><td>Sweden</td><td>2</td><td>6</td><td>Sweden</td><td>Group Stage</td></tr><tr><td>10</td><td>Sweden</td><td>Slovakia</td><td>5</td><td>5</td><td>Draw</td><td>Group Stage</td></tr><tr><td>11</td><td>Sweden</td><td>Poland</td><td>5</td><td>3</td><td>Sweden</td><td>Group Stage</td></tr><tr><td>12</td><td>Poland</td><td>Slovakia</td><td>2</td><td>3</td><td>Slovakia</td><td>Group Stage</td></tr><tr><td>13</td><td>Italy</td><td>Wales</td><td>3</td><td>5</td><td>Wales</td><td>Group Stage</td></tr><tr><td>14</td><td>Italy</td><td>Turkey</td><td>2</td><td>4</td><td>Turkey</td><td>Group Stage</td></tr><tr><td>15</td><td>Italy</td><td>Switzerland</td><td>6</td><td>2</td><td>Italy</td><td>Group Stage</td></tr><tr><td>16</td><td>Switzerland</td><td>Wales</td><td>5</td><td>3</td><td>Switzerland</td><td>Group Stage</td></tr><tr><td>17</td><td>Switzerland</td><td>Turkey</td><td>4</td><td>3</td><td>Switzerland</td><td>Group Stage</td></tr><tr><td>18</td><td>Turkey</td><td>Wales</td><td>4</td><td>3</td><td>Turkey</td><td>Group Stage</td></tr><tr><td>19</td><td>Belgium</td><td>Finland</td><td>5</td><td>5</td><td>Draw</td><td>Group Stage</td></tr><tr><td>20</td><td>Belgium</td><td>Russia</td><td>4</td><td>1</td><td>Belgium</td><td>Group Stage</td></tr><tr><td>21</td><td>Belgium</td><td>Denmark</td><td>1</td><td>6</td><td>Denmark</td><td>Group Stage</td></tr><tr><td>22</td><td>Denmark</td><td>Finland</td><td>5</td><td>2</td><td>Denmark</td><td>Group Stage</td></tr><tr><td>23</td><td>Denmark</td><td>Russia</td><td>5</td><td>4</td><td>Denmark</td><td>Group Stage</td></tr><tr><td>24</td><td>Russia</td><td>Finland</td><td>6</td><td>2</td><td>Russia</td><td>Group Stage</td></tr><tr><td>25</td><td>Netherlands</td><td>North Macedonia</td><td>4</td><td>5</td><td>North Macedonia</td><td>Group Stage</td></tr><tr><td>26</td><td>Netherlands</td><td>Austria</td><td>6</td><td>1</td><td>Netherlands</td><td>Group Stage</td></tr><tr><td>27</td><td>Netherlands</td><td>Ukraine</td><td>3</td><td>3</td><td>Draw</td><td>Group Stage</td></tr><tr><td>28</td><td>Ukraine</td><td>North Macedonia</td><td>1</td><td>4</td><td>North Macedonia</td><td>Group Stage</td></tr><tr><td>29</td><td>Ukraine</td><td>Austria</td><td>2</td><td>2</td><td>Draw</td><td>Group Stage</td></tr><tr><td>30</td><td>Austria</td><td>North Macedonia</td><td>4</td><td>1</td><td>Austria</td><td>Group Stage</td></tr><tr><td>31</td><td>England</td><td>Czech Republic</td><td>6</td><td>1</td><td>England</td><td>Group Stage</td></tr><tr><td>32</td><td>England</td><td>Scotland</td><td>3</td><td>2</td><td>England</td><td>Group Stage</td></tr><tr><td>33</td><td>England</td><td>Croatia</td><td>4</td><td>5</td><td>Croatia</td><td>Group Stage</td></tr><tr><td>34</td><td>Croatia</td><td>Czech Republic</td><td>2</td><td>2</td><td>Draw</td><td>Group Stage</td></tr><tr><td>35</td><td>Croatia</td><td>Scotland</td><td>3</td><td>2</td><td>Croatia</td><td>Group Stage</td></tr><tr><td>36</td><td>Scotland</td><td>Czech Republic</td><td>5</td><td>1</td><td>Scotland</td><td>Group Stage</td></tr><tr><td>49</td><td>Sweden</td><td>Netherlands</td><td>2</td><td>5</td><td>Null</td><td>Semi-finals</td></tr><tr><td>50</td><td>Turkey</td><td>England</td><td>1</td><td>1</td><td>Null</td><td>Semi-finals</td></tr><tr><td>43</td><td>North Macedonia</td><td>Slovakia</td><td>5</td><td>3</td><td>North Macedonia</td><td>Round of 16</td></tr><tr><td>48</td><td>North Macedonia</td><td>England</td><td>0</td><td>2</td><td>England</td><td>Quarter-finals</td></tr><tr><td>45</td><td>Sweden</td><td>Switzerland</td><td>0</td><td>3</td><td>Switzerland</td><td>Quarter-finals</td></tr><tr><td>37</td><td>Germany</td><td>Switzerland</td><td>0</td><td>4</td><td>Switzerland</td><td>Round of 16</td></tr><tr><td>46</td><td>Croatia</td><td>Netherlands</td><td>4</td><td>3</td><td>Croatia</td><td>Quarter-finals</td></tr><tr><td>42</td><td>Belgium</td><td>Netherlands</td><td>5</td><td>3</td><td>Belgium</td><td>Round of 16</td></tr><tr><td>44</td><td>Belgium</td><td>England</td><td>4</td><td>3</td><td>Belgium</td><td>Round of 16</td></tr><tr><td>39</td><td>Sweden</td><td>Hungary</td><td>5</td><td>1</td><td>Sweden</td><td>Round of 16</td></tr><tr><td>47</td><td>Turkey</td><td>Spain</td><td>0</td><td>2</td><td>Spain</td><td>Quarter-finals</td></tr><tr><td>41</td><td>Croatia</td><td>Italy</td><td>4</td><td>3</td><td>Croatia</td><td>Round of 16</td></tr><tr><td>38</td><td>Portugal</td><td>Spain</td><td>2</td><td>3</td><td>Spain</td><td>Round of 16</td></tr><tr><td>40</td><td>Turkey</td><td>Russia</td><td>1</td><td>1</td><td>null</td><td>Round of 16</td></tr></tbody></table></div>"
      ]
     },
     "metadata": {
      "application/vnd.databricks.v1+output": {
       "addedWidgets": {},
       "aggData": [],
       "aggError": "",
       "aggOverflow": false,
       "aggSchema": [],
       "aggSeriesLimitReached": false,
       "aggType": "",
       "arguments": {},
       "columnCustomDisplayInfos": {},
       "data": [
        [
         1,
         "France",
         "Hungary",
         5,
         3,
         "France",
         "Group Stage"
        ],
        [
         2,
         "France",
         "Germany",
         2,
         3,
         "Germany",
         "Group Stage"
        ],
        [
         3,
         "France",
         "Portugal",
         1,
         4,
         "Portugal",
         "Group Stage"
        ],
        [
         4,
         "Portugal",
         "Hungary",
         5,
         5,
         "Draw",
         "Group Stage"
        ],
        [
         5,
         "Portugal",
         "Germany",
         1,
         2,
         "Germany",
         "Group Stage"
        ],
        [
         6,
         "Germany",
         "Hungary",
         3,
         4,
         "Hungary",
         "Group Stage"
        ],
        [
         7,
         "Spain",
         "Slovakia",
         6,
         2,
         "Spain",
         "Group Stage"
        ],
        [
         8,
         "Spain",
         "Poland",
         6,
         2,
         "Spain",
         "Group Stage"
        ],
        [
         9,
         "Spain",
         "Sweden",
         2,
         6,
         "Sweden",
         "Group Stage"
        ],
        [
         10,
         "Sweden",
         "Slovakia",
         5,
         5,
         "Draw",
         "Group Stage"
        ],
        [
         11,
         "Sweden",
         "Poland",
         5,
         3,
         "Sweden",
         "Group Stage"
        ],
        [
         12,
         "Poland",
         "Slovakia",
         2,
         3,
         "Slovakia",
         "Group Stage"
        ],
        [
         13,
         "Italy",
         "Wales",
         3,
         5,
         "Wales",
         "Group Stage"
        ],
        [
         14,
         "Italy",
         "Turkey",
         2,
         4,
         "Turkey",
         "Group Stage"
        ],
        [
         15,
         "Italy",
         "Switzerland",
         6,
         2,
         "Italy",
         "Group Stage"
        ],
        [
         16,
         "Switzerland",
         "Wales",
         5,
         3,
         "Switzerland",
         "Group Stage"
        ],
        [
         17,
         "Switzerland",
         "Turkey",
         4,
         3,
         "Switzerland",
         "Group Stage"
        ],
        [
         18,
         "Turkey",
         "Wales",
         4,
         3,
         "Turkey",
         "Group Stage"
        ],
        [
         19,
         "Belgium",
         "Finland",
         5,
         5,
         "Draw",
         "Group Stage"
        ],
        [
         20,
         "Belgium",
         "Russia",
         4,
         1,
         "Belgium",
         "Group Stage"
        ],
        [
         21,
         "Belgium",
         "Denmark",
         1,
         6,
         "Denmark",
         "Group Stage"
        ],
        [
         22,
         "Denmark",
         "Finland",
         5,
         2,
         "Denmark",
         "Group Stage"
        ],
        [
         23,
         "Denmark",
         "Russia",
         5,
         4,
         "Denmark",
         "Group Stage"
        ],
        [
         24,
         "Russia",
         "Finland",
         6,
         2,
         "Russia",
         "Group Stage"
        ],
        [
         25,
         "Netherlands",
         "North Macedonia",
         4,
         5,
         "North Macedonia",
         "Group Stage"
        ],
        [
         26,
         "Netherlands",
         "Austria",
         6,
         1,
         "Netherlands",
         "Group Stage"
        ],
        [
         27,
         "Netherlands",
         "Ukraine",
         3,
         3,
         "Draw",
         "Group Stage"
        ],
        [
         28,
         "Ukraine",
         "North Macedonia",
         1,
         4,
         "North Macedonia",
         "Group Stage"
        ],
        [
         29,
         "Ukraine",
         "Austria",
         2,
         2,
         "Draw",
         "Group Stage"
        ],
        [
         30,
         "Austria",
         "North Macedonia",
         4,
         1,
         "Austria",
         "Group Stage"
        ],
        [
         31,
         "England",
         "Czech Republic",
         6,
         1,
         "England",
         "Group Stage"
        ],
        [
         32,
         "England",
         "Scotland",
         3,
         2,
         "England",
         "Group Stage"
        ],
        [
         33,
         "England",
         "Croatia",
         4,
         5,
         "Croatia",
         "Group Stage"
        ],
        [
         34,
         "Croatia",
         "Czech Republic",
         2,
         2,
         "Draw",
         "Group Stage"
        ],
        [
         35,
         "Croatia",
         "Scotland",
         3,
         2,
         "Croatia",
         "Group Stage"
        ],
        [
         36,
         "Scotland",
         "Czech Republic",
         5,
         1,
         "Scotland",
         "Group Stage"
        ],
        [
         49,
         "Sweden",
         "Netherlands",
         2,
         5,
         "Null",
         "Semi-finals"
        ],
        [
         50,
         "Turkey",
         "England",
         1,
         1,
         "Null",
         "Semi-finals"
        ],
        [
         43,
         "North Macedonia",
         "Slovakia",
         5,
         3,
         "North Macedonia",
         "Round of 16"
        ],
        [
         48,
         "North Macedonia",
         "England",
         0,
         2,
         "England",
         "Quarter-finals"
        ],
        [
         45,
         "Sweden",
         "Switzerland",
         0,
         3,
         "Switzerland",
         "Quarter-finals"
        ],
        [
         37,
         "Germany",
         "Switzerland",
         0,
         4,
         "Switzerland",
         "Round of 16"
        ],
        [
         46,
         "Croatia",
         "Netherlands",
         4,
         3,
         "Croatia",
         "Quarter-finals"
        ],
        [
         42,
         "Belgium",
         "Netherlands",
         5,
         3,
         "Belgium",
         "Round of 16"
        ],
        [
         44,
         "Belgium",
         "England",
         4,
         3,
         "Belgium",
         "Round of 16"
        ],
        [
         39,
         "Sweden",
         "Hungary",
         5,
         1,
         "Sweden",
         "Round of 16"
        ],
        [
         47,
         "Turkey",
         "Spain",
         0,
         2,
         "Spain",
         "Quarter-finals"
        ],
        [
         41,
         "Croatia",
         "Italy",
         4,
         3,
         "Croatia",
         "Round of 16"
        ],
        [
         38,
         "Portugal",
         "Spain",
         2,
         3,
         "Spain",
         "Round of 16"
        ],
        [
         40,
         "Turkey",
         "Russia",
         1,
         1,
         null,
         "Round of 16"
        ]
       ],
       "datasetInfos": [],
       "dbfsResultPath": null,
       "isJsonSchema": true,
       "metadata": {
        "isDbfsCommandResult": false
       },
       "overflow": false,
       "plotOptions": {
        "customPlotOptions": {},
        "displayType": "table",
        "pivotAggregation": null,
        "pivotColumns": null,
        "xColumns": null,
        "yColumns": null
       },
       "removedWidgets": [],
       "schema": [
        {
         "metadata": "{}",
         "name": "matchid",
         "type": "\"integer\""
        },
        {
         "metadata": "{\"__CHAR_VARCHAR_TYPE_STRING\":\"varchar(30)\"}",
         "name": "team1",
         "type": "\"string\""
        },
        {
         "metadata": "{\"__CHAR_VARCHAR_TYPE_STRING\":\"varchar(30)\"}",
         "name": "team2",
         "type": "\"string\""
        },
        {
         "metadata": "{}",
         "name": "team1score",
         "type": "\"integer\""
        },
        {
         "metadata": "{}",
         "name": "team2score",
         "type": "\"integer\""
        },
        {
         "metadata": "{\"__CHAR_VARCHAR_TYPE_STRING\":\"varchar(30)\"}",
         "name": "result",
         "type": "\"string\""
        },
        {
         "metadata": "{\"__CHAR_VARCHAR_TYPE_STRING\":\"varchar(255)\"}",
         "name": "stage",
         "type": "\"string\""
        }
       ],
       "type": "table"
      }
     },
     "output_type": "display_data"
    }
   ],
   "source": [
    "%sql\n",
    "select * from matchinfo1"
   ]
  },
  {
   "cell_type": "code",
   "execution_count": 0,
   "metadata": {
    "application/vnd.databricks.v1+cell": {
     "cellMetadata": {
      "byteLimit": 2048000,
      "rowLimit": 10000
     },
     "inputWidgets": {},
     "nuid": "764500f1-7e6e-4a58-b3ff-e0f092d42862",
     "showTitle": false,
     "title": ""
    }
   },
   "outputs": [
    {
     "output_type": "display_data",
     "data": {
      "text/html": [
       "<style scoped>\n",
       "  .table-result-container {\n",
       "    max-height: 300px;\n",
       "    overflow: auto;\n",
       "  }\n",
       "  table, th, td {\n",
       "    border: 1px solid black;\n",
       "    border-collapse: collapse;\n",
       "  }\n",
       "  th, td {\n",
       "    padding: 5px;\n",
       "  }\n",
       "  th {\n",
       "    text-align: left;\n",
       "  }\n",
       "</style><div class='table-result-container'><table class='table-result'><thead style='background-color: white'><tr><th>num_affected_rows</th><th>num_inserted_rows</th></tr></thead><tbody><tr><td>1</td><td>1</td></tr></tbody></table></div>"
      ]
     },
     "metadata": {
      "application/vnd.databricks.v1+output": {
       "addedWidgets": {},
       "aggData": [],
       "aggError": "",
       "aggOverflow": false,
       "aggSchema": [],
       "aggSeriesLimitReached": false,
       "aggType": "",
       "arguments": {},
       "columnCustomDisplayInfos": {},
       "data": [
        [
         1,
         1
        ]
       ],
       "datasetInfos": [],
       "dbfsResultPath": null,
       "isJsonSchema": true,
       "metadata": {
        "isDbfsCommandResult": false
       },
       "overflow": false,
       "plotOptions": {
        "customPlotOptions": {},
        "displayType": "table",
        "pivotAggregation": null,
        "pivotColumns": null,
        "xColumns": null,
        "yColumns": null
       },
       "removedWidgets": [],
       "schema": [
        {
         "metadata": "{}",
         "name": "num_affected_rows",
         "type": "\"long\""
        },
        {
         "metadata": "{}",
         "name": "num_inserted_rows",
         "type": "\"long\""
        }
       ],
       "type": "table"
      }
     },
     "output_type": "display_data"
    }
   ],
   "source": [
    "%sql\n",
    "INSERT INTO matchinfo1 (matchid,\n",
    "team1,\n",
    "team2,\n",
    "team1score,\n",
    "team2score,\n",
    "result,\n",
    "stage)\n",
    "WITH ThirdPositions1 AS (\n",
    "    SELECT\n",
    "        CASE\n",
    "            WHEN result!= team1 THEN team1\n",
    "            ELSE team2\n",
    "        END AS ThirdPosition\n",
    "    FROM\n",
    "        matchinfo1\n",
    "    WHERE \n",
    "        stage = 'Semi-finals'\n",
    ")\n",
    "\n",
    "SELECT \n",
    "    51 AS matchid,\n",
    "    tp1.ThirdPosition AS team1,\n",
    "    tp2.ThirdPosition AS team2,\n",
    "    CAST(rand() * 6 AS INT) AS team1score, \n",
    "    CAST(rand() * 6 AS INT) AS team2score,\n",
    "    'Null' AS result,\n",
    "    'Third Position' AS stage\n",
    "    \n",
    "FROM \n",
    "    ThirdPositions1 tp1\n",
    "JOIN \n",
    "    ThirdPositions1 tp2 ON tp1.ThirdPosition < tp2.ThirdPosition\n",
    "\n",
    "\n"
   ]
  },
  {
   "cell_type": "code",
   "execution_count": 0,
   "metadata": {
    "application/vnd.databricks.v1+cell": {
     "cellMetadata": {
      "byteLimit": 2048000,
      "rowLimit": 10000
     },
     "inputWidgets": {},
     "nuid": "d576973a-f03b-4472-81f0-6de4a21ece94",
     "showTitle": false,
     "title": ""
    }
   },
   "outputs": [
    {
     "output_type": "display_data",
     "data": {
      "text/html": [
       "<style scoped>\n",
       "  .table-result-container {\n",
       "    max-height: 300px;\n",
       "    overflow: auto;\n",
       "  }\n",
       "  table, th, td {\n",
       "    border: 1px solid black;\n",
       "    border-collapse: collapse;\n",
       "  }\n",
       "  th, td {\n",
       "    padding: 5px;\n",
       "  }\n",
       "  th {\n",
       "    text-align: left;\n",
       "  }\n",
       "</style><div class='table-result-container'><table class='table-result'><thead style='background-color: white'><tr><th>matchid</th><th>team1</th><th>team2</th><th>team1score</th><th>team2score</th><th>result</th><th>stage</th></tr></thead><tbody><tr><td>1</td><td>France</td><td>Hungary</td><td>5</td><td>3</td><td>France</td><td>Group Stage</td></tr><tr><td>2</td><td>France</td><td>Germany</td><td>2</td><td>3</td><td>Germany</td><td>Group Stage</td></tr><tr><td>3</td><td>France</td><td>Portugal</td><td>1</td><td>4</td><td>Portugal</td><td>Group Stage</td></tr><tr><td>4</td><td>Portugal</td><td>Hungary</td><td>5</td><td>5</td><td>Draw</td><td>Group Stage</td></tr><tr><td>5</td><td>Portugal</td><td>Germany</td><td>1</td><td>2</td><td>Germany</td><td>Group Stage</td></tr><tr><td>6</td><td>Germany</td><td>Hungary</td><td>3</td><td>4</td><td>Hungary</td><td>Group Stage</td></tr><tr><td>7</td><td>Spain</td><td>Slovakia</td><td>6</td><td>2</td><td>Spain</td><td>Group Stage</td></tr><tr><td>8</td><td>Spain</td><td>Poland</td><td>6</td><td>2</td><td>Spain</td><td>Group Stage</td></tr><tr><td>9</td><td>Spain</td><td>Sweden</td><td>2</td><td>6</td><td>Sweden</td><td>Group Stage</td></tr><tr><td>10</td><td>Sweden</td><td>Slovakia</td><td>5</td><td>5</td><td>Draw</td><td>Group Stage</td></tr><tr><td>11</td><td>Sweden</td><td>Poland</td><td>5</td><td>3</td><td>Sweden</td><td>Group Stage</td></tr><tr><td>12</td><td>Poland</td><td>Slovakia</td><td>2</td><td>3</td><td>Slovakia</td><td>Group Stage</td></tr><tr><td>13</td><td>Italy</td><td>Wales</td><td>3</td><td>5</td><td>Wales</td><td>Group Stage</td></tr><tr><td>14</td><td>Italy</td><td>Turkey</td><td>2</td><td>4</td><td>Turkey</td><td>Group Stage</td></tr><tr><td>15</td><td>Italy</td><td>Switzerland</td><td>6</td><td>2</td><td>Italy</td><td>Group Stage</td></tr><tr><td>16</td><td>Switzerland</td><td>Wales</td><td>5</td><td>3</td><td>Switzerland</td><td>Group Stage</td></tr><tr><td>17</td><td>Switzerland</td><td>Turkey</td><td>4</td><td>3</td><td>Switzerland</td><td>Group Stage</td></tr><tr><td>18</td><td>Turkey</td><td>Wales</td><td>4</td><td>3</td><td>Turkey</td><td>Group Stage</td></tr><tr><td>19</td><td>Belgium</td><td>Finland</td><td>5</td><td>5</td><td>Draw</td><td>Group Stage</td></tr><tr><td>20</td><td>Belgium</td><td>Russia</td><td>4</td><td>1</td><td>Belgium</td><td>Group Stage</td></tr><tr><td>21</td><td>Belgium</td><td>Denmark</td><td>1</td><td>6</td><td>Denmark</td><td>Group Stage</td></tr><tr><td>22</td><td>Denmark</td><td>Finland</td><td>5</td><td>2</td><td>Denmark</td><td>Group Stage</td></tr><tr><td>23</td><td>Denmark</td><td>Russia</td><td>5</td><td>4</td><td>Denmark</td><td>Group Stage</td></tr><tr><td>24</td><td>Russia</td><td>Finland</td><td>6</td><td>2</td><td>Russia</td><td>Group Stage</td></tr><tr><td>25</td><td>Netherlands</td><td>North Macedonia</td><td>4</td><td>5</td><td>North Macedonia</td><td>Group Stage</td></tr><tr><td>26</td><td>Netherlands</td><td>Austria</td><td>6</td><td>1</td><td>Netherlands</td><td>Group Stage</td></tr><tr><td>27</td><td>Netherlands</td><td>Ukraine</td><td>3</td><td>3</td><td>Draw</td><td>Group Stage</td></tr><tr><td>28</td><td>Ukraine</td><td>North Macedonia</td><td>1</td><td>4</td><td>North Macedonia</td><td>Group Stage</td></tr><tr><td>29</td><td>Ukraine</td><td>Austria</td><td>2</td><td>2</td><td>Draw</td><td>Group Stage</td></tr><tr><td>30</td><td>Austria</td><td>North Macedonia</td><td>4</td><td>1</td><td>Austria</td><td>Group Stage</td></tr><tr><td>31</td><td>England</td><td>Czech Republic</td><td>6</td><td>1</td><td>England</td><td>Group Stage</td></tr><tr><td>32</td><td>England</td><td>Scotland</td><td>3</td><td>2</td><td>England</td><td>Group Stage</td></tr><tr><td>33</td><td>England</td><td>Croatia</td><td>4</td><td>5</td><td>Croatia</td><td>Group Stage</td></tr><tr><td>34</td><td>Croatia</td><td>Czech Republic</td><td>2</td><td>2</td><td>Draw</td><td>Group Stage</td></tr><tr><td>35</td><td>Croatia</td><td>Scotland</td><td>3</td><td>2</td><td>Croatia</td><td>Group Stage</td></tr><tr><td>36</td><td>Scotland</td><td>Czech Republic</td><td>5</td><td>1</td><td>Scotland</td><td>Group Stage</td></tr><tr><td>37</td><td>Germany</td><td>Switzerland</td><td>0</td><td>4</td><td>Switzerland</td><td>Round of 16</td></tr><tr><td>38</td><td>Portugal</td><td>Spain</td><td>2</td><td>3</td><td>Spain</td><td>Round of 16</td></tr><tr><td>39</td><td>Sweden</td><td>Hungary</td><td>5</td><td>1</td><td>Sweden</td><td>Round of 16</td></tr><tr><td>40</td><td>Turkey</td><td>Russia</td><td>1</td><td>1</td><td>null</td><td>Round of 16</td></tr><tr><td>41</td><td>Croatia</td><td>Italy</td><td>4</td><td>3</td><td>Croatia</td><td>Round of 16</td></tr><tr><td>42</td><td>Belgium</td><td>Netherlands</td><td>5</td><td>3</td><td>Belgium</td><td>Round of 16</td></tr><tr><td>43</td><td>North Macedonia</td><td>Slovakia</td><td>5</td><td>3</td><td>North Macedonia</td><td>Round of 16</td></tr><tr><td>44</td><td>Belgium</td><td>England</td><td>4</td><td>3</td><td>Belgium</td><td>Round of 16</td></tr><tr><td>45</td><td>Sweden</td><td>Switzerland</td><td>0</td><td>3</td><td>Switzerland</td><td>Quarter-finals</td></tr><tr><td>46</td><td>Croatia</td><td>Netherlands</td><td>4</td><td>3</td><td>Croatia</td><td>Quarter-finals</td></tr><tr><td>47</td><td>Turkey</td><td>Spain</td><td>0</td><td>2</td><td>Spain</td><td>Quarter-finals</td></tr><tr><td>48</td><td>North Macedonia</td><td>England</td><td>0</td><td>2</td><td>England</td><td>Quarter-finals</td></tr><tr><td>49</td><td>Sweden</td><td>Netherlands</td><td>2</td><td>5</td><td>Null</td><td>Semi-finals</td></tr><tr><td>50</td><td>Turkey</td><td>England</td><td>1</td><td>1</td><td>Null</td><td>Semi-finals</td></tr><tr><td>51</td><td>Sweden</td><td>Turkey</td><td>5</td><td>5</td><td>null</td><td>Third Position</td></tr></tbody></table></div>"
      ]
     },
     "metadata": {
      "application/vnd.databricks.v1+output": {
       "addedWidgets": {},
       "aggData": [],
       "aggError": "",
       "aggOverflow": false,
       "aggSchema": [],
       "aggSeriesLimitReached": false,
       "aggType": "",
       "arguments": {},
       "columnCustomDisplayInfos": {},
       "data": [
        [
         1,
         "France",
         "Hungary",
         5,
         3,
         "France",
         "Group Stage"
        ],
        [
         2,
         "France",
         "Germany",
         2,
         3,
         "Germany",
         "Group Stage"
        ],
        [
         3,
         "France",
         "Portugal",
         1,
         4,
         "Portugal",
         "Group Stage"
        ],
        [
         4,
         "Portugal",
         "Hungary",
         5,
         5,
         "Draw",
         "Group Stage"
        ],
        [
         5,
         "Portugal",
         "Germany",
         1,
         2,
         "Germany",
         "Group Stage"
        ],
        [
         6,
         "Germany",
         "Hungary",
         3,
         4,
         "Hungary",
         "Group Stage"
        ],
        [
         7,
         "Spain",
         "Slovakia",
         6,
         2,
         "Spain",
         "Group Stage"
        ],
        [
         8,
         "Spain",
         "Poland",
         6,
         2,
         "Spain",
         "Group Stage"
        ],
        [
         9,
         "Spain",
         "Sweden",
         2,
         6,
         "Sweden",
         "Group Stage"
        ],
        [
         10,
         "Sweden",
         "Slovakia",
         5,
         5,
         "Draw",
         "Group Stage"
        ],
        [
         11,
         "Sweden",
         "Poland",
         5,
         3,
         "Sweden",
         "Group Stage"
        ],
        [
         12,
         "Poland",
         "Slovakia",
         2,
         3,
         "Slovakia",
         "Group Stage"
        ],
        [
         13,
         "Italy",
         "Wales",
         3,
         5,
         "Wales",
         "Group Stage"
        ],
        [
         14,
         "Italy",
         "Turkey",
         2,
         4,
         "Turkey",
         "Group Stage"
        ],
        [
         15,
         "Italy",
         "Switzerland",
         6,
         2,
         "Italy",
         "Group Stage"
        ],
        [
         16,
         "Switzerland",
         "Wales",
         5,
         3,
         "Switzerland",
         "Group Stage"
        ],
        [
         17,
         "Switzerland",
         "Turkey",
         4,
         3,
         "Switzerland",
         "Group Stage"
        ],
        [
         18,
         "Turkey",
         "Wales",
         4,
         3,
         "Turkey",
         "Group Stage"
        ],
        [
         19,
         "Belgium",
         "Finland",
         5,
         5,
         "Draw",
         "Group Stage"
        ],
        [
         20,
         "Belgium",
         "Russia",
         4,
         1,
         "Belgium",
         "Group Stage"
        ],
        [
         21,
         "Belgium",
         "Denmark",
         1,
         6,
         "Denmark",
         "Group Stage"
        ],
        [
         22,
         "Denmark",
         "Finland",
         5,
         2,
         "Denmark",
         "Group Stage"
        ],
        [
         23,
         "Denmark",
         "Russia",
         5,
         4,
         "Denmark",
         "Group Stage"
        ],
        [
         24,
         "Russia",
         "Finland",
         6,
         2,
         "Russia",
         "Group Stage"
        ],
        [
         25,
         "Netherlands",
         "North Macedonia",
         4,
         5,
         "North Macedonia",
         "Group Stage"
        ],
        [
         26,
         "Netherlands",
         "Austria",
         6,
         1,
         "Netherlands",
         "Group Stage"
        ],
        [
         27,
         "Netherlands",
         "Ukraine",
         3,
         3,
         "Draw",
         "Group Stage"
        ],
        [
         28,
         "Ukraine",
         "North Macedonia",
         1,
         4,
         "North Macedonia",
         "Group Stage"
        ],
        [
         29,
         "Ukraine",
         "Austria",
         2,
         2,
         "Draw",
         "Group Stage"
        ],
        [
         30,
         "Austria",
         "North Macedonia",
         4,
         1,
         "Austria",
         "Group Stage"
        ],
        [
         31,
         "England",
         "Czech Republic",
         6,
         1,
         "England",
         "Group Stage"
        ],
        [
         32,
         "England",
         "Scotland",
         3,
         2,
         "England",
         "Group Stage"
        ],
        [
         33,
         "England",
         "Croatia",
         4,
         5,
         "Croatia",
         "Group Stage"
        ],
        [
         34,
         "Croatia",
         "Czech Republic",
         2,
         2,
         "Draw",
         "Group Stage"
        ],
        [
         35,
         "Croatia",
         "Scotland",
         3,
         2,
         "Croatia",
         "Group Stage"
        ],
        [
         36,
         "Scotland",
         "Czech Republic",
         5,
         1,
         "Scotland",
         "Group Stage"
        ],
        [
         37,
         "Germany",
         "Switzerland",
         0,
         4,
         "Switzerland",
         "Round of 16"
        ],
        [
         38,
         "Portugal",
         "Spain",
         2,
         3,
         "Spain",
         "Round of 16"
        ],
        [
         39,
         "Sweden",
         "Hungary",
         5,
         1,
         "Sweden",
         "Round of 16"
        ],
        [
         40,
         "Turkey",
         "Russia",
         1,
         1,
         null,
         "Round of 16"
        ],
        [
         41,
         "Croatia",
         "Italy",
         4,
         3,
         "Croatia",
         "Round of 16"
        ],
        [
         42,
         "Belgium",
         "Netherlands",
         5,
         3,
         "Belgium",
         "Round of 16"
        ],
        [
         43,
         "North Macedonia",
         "Slovakia",
         5,
         3,
         "North Macedonia",
         "Round of 16"
        ],
        [
         44,
         "Belgium",
         "England",
         4,
         3,
         "Belgium",
         "Round of 16"
        ],
        [
         45,
         "Sweden",
         "Switzerland",
         0,
         3,
         "Switzerland",
         "Quarter-finals"
        ],
        [
         46,
         "Croatia",
         "Netherlands",
         4,
         3,
         "Croatia",
         "Quarter-finals"
        ],
        [
         47,
         "Turkey",
         "Spain",
         0,
         2,
         "Spain",
         "Quarter-finals"
        ],
        [
         48,
         "North Macedonia",
         "England",
         0,
         2,
         "England",
         "Quarter-finals"
        ],
        [
         49,
         "Sweden",
         "Netherlands",
         2,
         5,
         "Null",
         "Semi-finals"
        ],
        [
         50,
         "Turkey",
         "England",
         1,
         1,
         "Null",
         "Semi-finals"
        ],
        [
         51,
         "Sweden",
         "Turkey",
         5,
         5,
         null,
         "Third Position"
        ]
       ],
       "datasetInfos": [],
       "dbfsResultPath": null,
       "isJsonSchema": true,
       "metadata": {
        "isDbfsCommandResult": false
       },
       "overflow": false,
       "plotOptions": {
        "customPlotOptions": {},
        "displayType": "table",
        "pivotAggregation": null,
        "pivotColumns": null,
        "xColumns": null,
        "yColumns": null
       },
       "removedWidgets": [],
       "schema": [
        {
         "metadata": "{}",
         "name": "matchid",
         "type": "\"integer\""
        },
        {
         "metadata": "{\"__CHAR_VARCHAR_TYPE_STRING\":\"varchar(30)\"}",
         "name": "team1",
         "type": "\"string\""
        },
        {
         "metadata": "{\"__CHAR_VARCHAR_TYPE_STRING\":\"varchar(30)\"}",
         "name": "team2",
         "type": "\"string\""
        },
        {
         "metadata": "{}",
         "name": "team1score",
         "type": "\"integer\""
        },
        {
         "metadata": "{}",
         "name": "team2score",
         "type": "\"integer\""
        },
        {
         "metadata": "{\"__CHAR_VARCHAR_TYPE_STRING\":\"varchar(30)\"}",
         "name": "result",
         "type": "\"string\""
        },
        {
         "metadata": "{\"__CHAR_VARCHAR_TYPE_STRING\":\"varchar(255)\"}",
         "name": "stage",
         "type": "\"string\""
        }
       ],
       "type": "table"
      }
     },
     "output_type": "display_data"
    }
   ],
   "source": [
    "%sql\n",
    "UPDATE matchinfo1\n",
    "SET result = CASE\n",
    "    WHEN team1score > team2score THEN team1\n",
    "    WHEN team1score < team2score THEN team2\n",
    "END\n",
    "WHERE stage = \"Third Position\";\n",
    "\n",
    "\n",
    "select *\n",
    "from matchinfo1\n",
    "order by matchid"
   ]
  },
  {
   "cell_type": "code",
   "execution_count": 0,
   "metadata": {
    "application/vnd.databricks.v1+cell": {
     "cellMetadata": {
      "byteLimit": 2048000,
      "rowLimit": 10000
     },
     "inputWidgets": {},
     "nuid": "ca6e3729-8174-4176-a52d-1b85f5869179",
     "showTitle": false,
     "title": ""
    }
   },
   "outputs": [
    {
     "output_type": "display_data",
     "data": {
      "text/html": [
       "<style scoped>\n",
       "  .table-result-container {\n",
       "    max-height: 300px;\n",
       "    overflow: auto;\n",
       "  }\n",
       "  table, th, td {\n",
       "    border: 1px solid black;\n",
       "    border-collapse: collapse;\n",
       "  }\n",
       "  th, td {\n",
       "    padding: 5px;\n",
       "  }\n",
       "  th {\n",
       "    text-align: left;\n",
       "  }\n",
       "</style><div class='table-result-container'><table class='table-result'><thead style='background-color: white'><tr><th>num_affected_rows</th><th>num_inserted_rows</th></tr></thead><tbody><tr><td>1</td><td>1</td></tr></tbody></table></div>"
      ]
     },
     "metadata": {
      "application/vnd.databricks.v1+output": {
       "addedWidgets": {},
       "aggData": [],
       "aggError": "",
       "aggOverflow": false,
       "aggSchema": [],
       "aggSeriesLimitReached": false,
       "aggType": "",
       "arguments": {},
       "columnCustomDisplayInfos": {},
       "data": [
        [
         1,
         1
        ]
       ],
       "datasetInfos": [],
       "dbfsResultPath": null,
       "isJsonSchema": true,
       "metadata": {
        "isDbfsCommandResult": false
       },
       "overflow": false,
       "plotOptions": {
        "customPlotOptions": {},
        "displayType": "table",
        "pivotAggregation": null,
        "pivotColumns": null,
        "xColumns": null,
        "yColumns": null
       },
       "removedWidgets": [],
       "schema": [
        {
         "metadata": "{}",
         "name": "num_affected_rows",
         "type": "\"long\""
        },
        {
         "metadata": "{}",
         "name": "num_inserted_rows",
         "type": "\"long\""
        }
       ],
       "type": "table"
      }
     },
     "output_type": "display_data"
    }
   ],
   "source": [
    "%sql\n",
    "INSERT INTO matchinfo1 (matchid,\n",
    "team1,\n",
    "team2,\n",
    "team1score,\n",
    "team2score,\n",
    "result,\n",
    "stage)\n",
    "SELECT \n",
    "    52 AS matchid,\n",
    "    i1.team1 AS team1,\n",
    "    i2.team2 AS team2,\n",
    "    CAST(rand() * 6 AS INT) AS team1score, \n",
    "    CAST(rand() * 6 AS INT) AS team2score,\n",
    "    'Null' AS result,\n",
    "    'Final' AS stage\n",
    "FROM \n",
    "    matchinfo1 i1\n",
    "JOIN \n",
    "    matchinfo1 i2 ON \n",
    "        i1.matchid = 49 AND i2.matchid = 50"
   ]
  },
  {
   "cell_type": "code",
   "execution_count": 0,
   "metadata": {
    "application/vnd.databricks.v1+cell": {
     "cellMetadata": {
      "byteLimit": 2048000,
      "rowLimit": 10000
     },
     "inputWidgets": {},
     "nuid": "4d8abb57-962d-454c-a0e2-15e45e6f5131",
     "showTitle": false,
     "title": ""
    }
   },
   "outputs": [
    {
     "output_type": "display_data",
     "data": {
      "text/html": [
       "<style scoped>\n",
       "  .table-result-container {\n",
       "    max-height: 300px;\n",
       "    overflow: auto;\n",
       "  }\n",
       "  table, th, td {\n",
       "    border: 1px solid black;\n",
       "    border-collapse: collapse;\n",
       "  }\n",
       "  th, td {\n",
       "    padding: 5px;\n",
       "  }\n",
       "  th {\n",
       "    text-align: left;\n",
       "  }\n",
       "</style><div class='table-result-container'><table class='table-result'><thead style='background-color: white'><tr><th>num_affected_rows</th></tr></thead><tbody><tr><td>52</td></tr></tbody></table></div>"
      ]
     },
     "metadata": {
      "application/vnd.databricks.v1+output": {
       "addedWidgets": {},
       "aggData": [],
       "aggError": "",
       "aggOverflow": false,
       "aggSchema": [],
       "aggSeriesLimitReached": false,
       "aggType": "",
       "arguments": {},
       "columnCustomDisplayInfos": {},
       "data": [
        [
         52
        ]
       ],
       "datasetInfos": [],
       "dbfsResultPath": null,
       "isJsonSchema": true,
       "metadata": {
        "isDbfsCommandResult": false
       },
       "overflow": false,
       "plotOptions": {
        "customPlotOptions": {},
        "displayType": "table",
        "pivotAggregation": null,
        "pivotColumns": null,
        "xColumns": null,
        "yColumns": null
       },
       "removedWidgets": [],
       "schema": [
        {
         "metadata": "{}",
         "name": "num_affected_rows",
         "type": "\"long\""
        }
       ],
       "type": "table"
      }
     },
     "output_type": "display_data"
    }
   ],
   "source": [
    "%sql\n",
    "\n",
    "UPDATE matchinfo1\n",
    "SET result = CASE\n",
    "    WHEN team1score > team2score THEN team1\n",
    "    WHEN team1score < team2score THEN team2\n",
    "        ELSE \n",
    "          CASE \n",
    "                WHEN (team1score + 1) % 2 = 1 THEN team1\n",
    "                ELSE team2\n",
    "            END\n",
    "    END\n",
    "\n"
   ]
  },
  {
   "cell_type": "code",
   "execution_count": 0,
   "metadata": {
    "application/vnd.databricks.v1+cell": {
     "cellMetadata": {
      "byteLimit": 2048000,
      "rowLimit": 10000
     },
     "inputWidgets": {},
     "nuid": "257b28c4-bcbd-4ea9-bd84-87deaa044205",
     "showTitle": false,
     "title": ""
    }
   },
   "outputs": [
    {
     "output_type": "display_data",
     "data": {
      "text/html": [
       "<style scoped>\n",
       "  .table-result-container {\n",
       "    max-height: 300px;\n",
       "    overflow: auto;\n",
       "  }\n",
       "  table, th, td {\n",
       "    border: 1px solid black;\n",
       "    border-collapse: collapse;\n",
       "  }\n",
       "  th, td {\n",
       "    padding: 5px;\n",
       "  }\n",
       "  th {\n",
       "    text-align: left;\n",
       "  }\n",
       "</style><div class='table-result-container'><table class='table-result'><thead style='background-color: white'><tr><th>matchid</th><th>team1</th><th>team2</th><th>team1score</th><th>team2score</th><th>result</th><th>stage</th></tr></thead><tbody><tr><td>1</td><td>France</td><td>Hungary</td><td>5</td><td>3</td><td>France</td><td>Group Stage</td></tr><tr><td>2</td><td>France</td><td>Germany</td><td>2</td><td>3</td><td>Germany</td><td>Group Stage</td></tr><tr><td>3</td><td>France</td><td>Portugal</td><td>1</td><td>4</td><td>Portugal</td><td>Group Stage</td></tr><tr><td>4</td><td>Portugal</td><td>Hungary</td><td>5</td><td>5</td><td>Hungary</td><td>Group Stage</td></tr><tr><td>5</td><td>Portugal</td><td>Germany</td><td>1</td><td>2</td><td>Germany</td><td>Group Stage</td></tr><tr><td>6</td><td>Germany</td><td>Hungary</td><td>3</td><td>4</td><td>Hungary</td><td>Group Stage</td></tr><tr><td>7</td><td>Spain</td><td>Slovakia</td><td>6</td><td>2</td><td>Spain</td><td>Group Stage</td></tr><tr><td>8</td><td>Spain</td><td>Poland</td><td>6</td><td>2</td><td>Spain</td><td>Group Stage</td></tr><tr><td>9</td><td>Spain</td><td>Sweden</td><td>2</td><td>6</td><td>Sweden</td><td>Group Stage</td></tr><tr><td>10</td><td>Sweden</td><td>Slovakia</td><td>5</td><td>5</td><td>Slovakia</td><td>Group Stage</td></tr><tr><td>11</td><td>Sweden</td><td>Poland</td><td>5</td><td>3</td><td>Sweden</td><td>Group Stage</td></tr><tr><td>12</td><td>Poland</td><td>Slovakia</td><td>2</td><td>3</td><td>Slovakia</td><td>Group Stage</td></tr><tr><td>13</td><td>Italy</td><td>Wales</td><td>3</td><td>5</td><td>Wales</td><td>Group Stage</td></tr><tr><td>14</td><td>Italy</td><td>Turkey</td><td>2</td><td>4</td><td>Turkey</td><td>Group Stage</td></tr><tr><td>15</td><td>Italy</td><td>Switzerland</td><td>6</td><td>2</td><td>Italy</td><td>Group Stage</td></tr><tr><td>16</td><td>Switzerland</td><td>Wales</td><td>5</td><td>3</td><td>Switzerland</td><td>Group Stage</td></tr><tr><td>17</td><td>Switzerland</td><td>Turkey</td><td>4</td><td>3</td><td>Switzerland</td><td>Group Stage</td></tr><tr><td>18</td><td>Turkey</td><td>Wales</td><td>4</td><td>3</td><td>Turkey</td><td>Group Stage</td></tr><tr><td>19</td><td>Belgium</td><td>Finland</td><td>5</td><td>5</td><td>Finland</td><td>Group Stage</td></tr><tr><td>20</td><td>Belgium</td><td>Russia</td><td>4</td><td>1</td><td>Belgium</td><td>Group Stage</td></tr><tr><td>21</td><td>Belgium</td><td>Denmark</td><td>1</td><td>6</td><td>Denmark</td><td>Group Stage</td></tr><tr><td>22</td><td>Denmark</td><td>Finland</td><td>5</td><td>2</td><td>Denmark</td><td>Group Stage</td></tr><tr><td>23</td><td>Denmark</td><td>Russia</td><td>5</td><td>4</td><td>Denmark</td><td>Group Stage</td></tr><tr><td>24</td><td>Russia</td><td>Finland</td><td>6</td><td>2</td><td>Russia</td><td>Group Stage</td></tr><tr><td>25</td><td>Netherlands</td><td>North Macedonia</td><td>4</td><td>5</td><td>North Macedonia</td><td>Group Stage</td></tr><tr><td>26</td><td>Netherlands</td><td>Austria</td><td>6</td><td>1</td><td>Netherlands</td><td>Group Stage</td></tr><tr><td>27</td><td>Netherlands</td><td>Ukraine</td><td>3</td><td>3</td><td>Ukraine</td><td>Group Stage</td></tr><tr><td>28</td><td>Ukraine</td><td>North Macedonia</td><td>1</td><td>4</td><td>North Macedonia</td><td>Group Stage</td></tr><tr><td>29</td><td>Ukraine</td><td>Austria</td><td>2</td><td>2</td><td>Ukraine</td><td>Group Stage</td></tr><tr><td>30</td><td>Austria</td><td>North Macedonia</td><td>4</td><td>1</td><td>Austria</td><td>Group Stage</td></tr><tr><td>31</td><td>England</td><td>Czech Republic</td><td>6</td><td>1</td><td>England</td><td>Group Stage</td></tr><tr><td>32</td><td>England</td><td>Scotland</td><td>3</td><td>2</td><td>England</td><td>Group Stage</td></tr><tr><td>33</td><td>England</td><td>Croatia</td><td>4</td><td>5</td><td>Croatia</td><td>Group Stage</td></tr><tr><td>34</td><td>Croatia</td><td>Czech Republic</td><td>2</td><td>2</td><td>Croatia</td><td>Group Stage</td></tr><tr><td>35</td><td>Croatia</td><td>Scotland</td><td>3</td><td>2</td><td>Croatia</td><td>Group Stage</td></tr><tr><td>36</td><td>Scotland</td><td>Czech Republic</td><td>5</td><td>1</td><td>Scotland</td><td>Group Stage</td></tr><tr><td>37</td><td>Germany</td><td>Switzerland</td><td>0</td><td>4</td><td>Switzerland</td><td>Round of 16</td></tr><tr><td>38</td><td>Portugal</td><td>Spain</td><td>2</td><td>3</td><td>Spain</td><td>Round of 16</td></tr><tr><td>42</td><td>Belgium</td><td>Netherlands</td><td>5</td><td>3</td><td>Belgium</td><td>Round of 16</td></tr><tr><td>43</td><td>North Macedonia</td><td>Slovakia</td><td>5</td><td>3</td><td>North Macedonia</td><td>Round of 16</td></tr><tr><td>44</td><td>Belgium</td><td>England</td><td>4</td><td>3</td><td>Belgium</td><td>Round of 16</td></tr><tr><td>45</td><td>Sweden</td><td>Switzerland</td><td>0</td><td>3</td><td>Switzerland</td><td>Quarter-finals</td></tr><tr><td>46</td><td>Croatia</td><td>Netherlands</td><td>4</td><td>3</td><td>Croatia</td><td>Quarter-finals</td></tr><tr><td>47</td><td>Turkey</td><td>Spain</td><td>0</td><td>2</td><td>Spain</td><td>Quarter-finals</td></tr><tr><td>48</td><td>North Macedonia</td><td>England</td><td>0</td><td>2</td><td>England</td><td>Quarter-finals</td></tr><tr><td>49</td><td>Sweden</td><td>Netherlands</td><td>2</td><td>5</td><td>Netherlands</td><td>Semi-finals</td></tr><tr><td>50</td><td>Turkey</td><td>England</td><td>1</td><td>1</td><td>England</td><td>Semi-finals</td></tr><tr><td>39</td><td>Sweden</td><td>Hungary</td><td>5</td><td>1</td><td>Sweden</td><td>Round of 16</td></tr><tr><td>40</td><td>Turkey</td><td>Russia</td><td>1</td><td>1</td><td>Russia</td><td>Round of 16</td></tr><tr><td>41</td><td>Croatia</td><td>Italy</td><td>4</td><td>3</td><td>Croatia</td><td>Round of 16</td></tr><tr><td>51</td><td>Sweden</td><td>Turkey</td><td>5</td><td>5</td><td>Turkey</td><td>Third Position</td></tr><tr><td>52</td><td>Sweden</td><td>England</td><td>1</td><td>1</td><td>England</td><td>Final</td></tr></tbody></table></div>"
      ]
     },
     "metadata": {
      "application/vnd.databricks.v1+output": {
       "addedWidgets": {},
       "aggData": [],
       "aggError": "",
       "aggOverflow": false,
       "aggSchema": [],
       "aggSeriesLimitReached": false,
       "aggType": "",
       "arguments": {},
       "columnCustomDisplayInfos": {},
       "data": [
        [
         1,
         "France",
         "Hungary",
         5,
         3,
         "France",
         "Group Stage"
        ],
        [
         2,
         "France",
         "Germany",
         2,
         3,
         "Germany",
         "Group Stage"
        ],
        [
         3,
         "France",
         "Portugal",
         1,
         4,
         "Portugal",
         "Group Stage"
        ],
        [
         4,
         "Portugal",
         "Hungary",
         5,
         5,
         "Hungary",
         "Group Stage"
        ],
        [
         5,
         "Portugal",
         "Germany",
         1,
         2,
         "Germany",
         "Group Stage"
        ],
        [
         6,
         "Germany",
         "Hungary",
         3,
         4,
         "Hungary",
         "Group Stage"
        ],
        [
         7,
         "Spain",
         "Slovakia",
         6,
         2,
         "Spain",
         "Group Stage"
        ],
        [
         8,
         "Spain",
         "Poland",
         6,
         2,
         "Spain",
         "Group Stage"
        ],
        [
         9,
         "Spain",
         "Sweden",
         2,
         6,
         "Sweden",
         "Group Stage"
        ],
        [
         10,
         "Sweden",
         "Slovakia",
         5,
         5,
         "Slovakia",
         "Group Stage"
        ],
        [
         11,
         "Sweden",
         "Poland",
         5,
         3,
         "Sweden",
         "Group Stage"
        ],
        [
         12,
         "Poland",
         "Slovakia",
         2,
         3,
         "Slovakia",
         "Group Stage"
        ],
        [
         13,
         "Italy",
         "Wales",
         3,
         5,
         "Wales",
         "Group Stage"
        ],
        [
         14,
         "Italy",
         "Turkey",
         2,
         4,
         "Turkey",
         "Group Stage"
        ],
        [
         15,
         "Italy",
         "Switzerland",
         6,
         2,
         "Italy",
         "Group Stage"
        ],
        [
         16,
         "Switzerland",
         "Wales",
         5,
         3,
         "Switzerland",
         "Group Stage"
        ],
        [
         17,
         "Switzerland",
         "Turkey",
         4,
         3,
         "Switzerland",
         "Group Stage"
        ],
        [
         18,
         "Turkey",
         "Wales",
         4,
         3,
         "Turkey",
         "Group Stage"
        ],
        [
         19,
         "Belgium",
         "Finland",
         5,
         5,
         "Finland",
         "Group Stage"
        ],
        [
         20,
         "Belgium",
         "Russia",
         4,
         1,
         "Belgium",
         "Group Stage"
        ],
        [
         21,
         "Belgium",
         "Denmark",
         1,
         6,
         "Denmark",
         "Group Stage"
        ],
        [
         22,
         "Denmark",
         "Finland",
         5,
         2,
         "Denmark",
         "Group Stage"
        ],
        [
         23,
         "Denmark",
         "Russia",
         5,
         4,
         "Denmark",
         "Group Stage"
        ],
        [
         24,
         "Russia",
         "Finland",
         6,
         2,
         "Russia",
         "Group Stage"
        ],
        [
         25,
         "Netherlands",
         "North Macedonia",
         4,
         5,
         "North Macedonia",
         "Group Stage"
        ],
        [
         26,
         "Netherlands",
         "Austria",
         6,
         1,
         "Netherlands",
         "Group Stage"
        ],
        [
         27,
         "Netherlands",
         "Ukraine",
         3,
         3,
         "Ukraine",
         "Group Stage"
        ],
        [
         28,
         "Ukraine",
         "North Macedonia",
         1,
         4,
         "North Macedonia",
         "Group Stage"
        ],
        [
         29,
         "Ukraine",
         "Austria",
         2,
         2,
         "Ukraine",
         "Group Stage"
        ],
        [
         30,
         "Austria",
         "North Macedonia",
         4,
         1,
         "Austria",
         "Group Stage"
        ],
        [
         31,
         "England",
         "Czech Republic",
         6,
         1,
         "England",
         "Group Stage"
        ],
        [
         32,
         "England",
         "Scotland",
         3,
         2,
         "England",
         "Group Stage"
        ],
        [
         33,
         "England",
         "Croatia",
         4,
         5,
         "Croatia",
         "Group Stage"
        ],
        [
         34,
         "Croatia",
         "Czech Republic",
         2,
         2,
         "Croatia",
         "Group Stage"
        ],
        [
         35,
         "Croatia",
         "Scotland",
         3,
         2,
         "Croatia",
         "Group Stage"
        ],
        [
         36,
         "Scotland",
         "Czech Republic",
         5,
         1,
         "Scotland",
         "Group Stage"
        ],
        [
         37,
         "Germany",
         "Switzerland",
         0,
         4,
         "Switzerland",
         "Round of 16"
        ],
        [
         38,
         "Portugal",
         "Spain",
         2,
         3,
         "Spain",
         "Round of 16"
        ],
        [
         42,
         "Belgium",
         "Netherlands",
         5,
         3,
         "Belgium",
         "Round of 16"
        ],
        [
         43,
         "North Macedonia",
         "Slovakia",
         5,
         3,
         "North Macedonia",
         "Round of 16"
        ],
        [
         44,
         "Belgium",
         "England",
         4,
         3,
         "Belgium",
         "Round of 16"
        ],
        [
         45,
         "Sweden",
         "Switzerland",
         0,
         3,
         "Switzerland",
         "Quarter-finals"
        ],
        [
         46,
         "Croatia",
         "Netherlands",
         4,
         3,
         "Croatia",
         "Quarter-finals"
        ],
        [
         47,
         "Turkey",
         "Spain",
         0,
         2,
         "Spain",
         "Quarter-finals"
        ],
        [
         48,
         "North Macedonia",
         "England",
         0,
         2,
         "England",
         "Quarter-finals"
        ],
        [
         49,
         "Sweden",
         "Netherlands",
         2,
         5,
         "Netherlands",
         "Semi-finals"
        ],
        [
         50,
         "Turkey",
         "England",
         1,
         1,
         "England",
         "Semi-finals"
        ],
        [
         39,
         "Sweden",
         "Hungary",
         5,
         1,
         "Sweden",
         "Round of 16"
        ],
        [
         40,
         "Turkey",
         "Russia",
         1,
         1,
         "Russia",
         "Round of 16"
        ],
        [
         41,
         "Croatia",
         "Italy",
         4,
         3,
         "Croatia",
         "Round of 16"
        ],
        [
         51,
         "Sweden",
         "Turkey",
         5,
         5,
         "Turkey",
         "Third Position"
        ],
        [
         52,
         "Sweden",
         "England",
         1,
         1,
         "England",
         "Final"
        ]
       ],
       "datasetInfos": [],
       "dbfsResultPath": null,
       "isJsonSchema": true,
       "metadata": {
        "isDbfsCommandResult": false
       },
       "overflow": false,
       "plotOptions": {
        "customPlotOptions": {},
        "displayType": "table",
        "pivotAggregation": null,
        "pivotColumns": null,
        "xColumns": null,
        "yColumns": null
       },
       "removedWidgets": [],
       "schema": [
        {
         "metadata": "{}",
         "name": "matchid",
         "type": "\"integer\""
        },
        {
         "metadata": "{\"__CHAR_VARCHAR_TYPE_STRING\":\"varchar(30)\"}",
         "name": "team1",
         "type": "\"string\""
        },
        {
         "metadata": "{\"__CHAR_VARCHAR_TYPE_STRING\":\"varchar(30)\"}",
         "name": "team2",
         "type": "\"string\""
        },
        {
         "metadata": "{}",
         "name": "team1score",
         "type": "\"integer\""
        },
        {
         "metadata": "{}",
         "name": "team2score",
         "type": "\"integer\""
        },
        {
         "metadata": "{\"__CHAR_VARCHAR_TYPE_STRING\":\"varchar(30)\"}",
         "name": "result",
         "type": "\"string\""
        },
        {
         "metadata": "{\"__CHAR_VARCHAR_TYPE_STRING\":\"varchar(255)\"}",
         "name": "stage",
         "type": "\"string\""
        }
       ],
       "type": "table"
      }
     },
     "output_type": "display_data"
    }
   ],
   "source": [
    "%sql\n",
    "select *\n",
    "from matchinfo1"
   ]
  },
  {
   "cell_type": "code",
   "execution_count": 0,
   "metadata": {
    "application/vnd.databricks.v1+cell": {
     "cellMetadata": {
      "byteLimit": 2048000,
      "rowLimit": 10000
     },
     "inputWidgets": {},
     "nuid": "14025bae-0873-4dad-a26f-b0cbcbd79c43",
     "showTitle": false,
     "title": ""
    }
   },
   "outputs": [],
   "source": [
    "%python\n",
    "import pandas as pd\n",
    "from pyspark.sql import SparkSession\n",
    "spark = SparkSession.builder \\\n",
    "    .appName(\"visulization\") \\\n",
    "    .getOrCreate()"
   ]
  },
  {
   "cell_type": "code",
   "execution_count": 0,
   "metadata": {
    "application/vnd.databricks.v1+cell": {
     "cellMetadata": {
      "byteLimit": 2048000,
      "rowLimit": 10000
     },
     "inputWidgets": {},
     "nuid": "fa1080c2-f88b-4e92-9f75-878a84a45ae9",
     "showTitle": false,
     "title": ""
    }
   },
   "outputs": [
    {
     "output_type": "display_data",
     "data": {
      "text/html": [
       "<style scoped>\n",
       "  .table-result-container {\n",
       "    max-height: 300px;\n",
       "    overflow: auto;\n",
       "  }\n",
       "  table, th, td {\n",
       "    border: 1px solid black;\n",
       "    border-collapse: collapse;\n",
       "  }\n",
       "  th, td {\n",
       "    padding: 5px;\n",
       "  }\n",
       "  th {\n",
       "    text-align: left;\n",
       "  }\n",
       "</style><div class='table-result-container'><table class='table-result'><thead style='background-color: white'><tr><th>Teams</th><th>Group</th><th>Pld</th><th>W</th><th>D</th><th>L</th><th>GF</th><th>GA</th><th>GD</th><th>Pts</th></tr></thead><tbody><tr><td>Germany</td><td>A</td><td>3</td><td>2</td><td>0</td><td>1</td><td>8</td><td>7</td><td>1</td><td>6</td></tr><tr><td>Hungary</td><td>A</td><td>3</td><td>1</td><td>1</td><td>1</td><td>12</td><td>13</td><td>-1</td><td>4</td></tr><tr><td>France</td><td>A</td><td>3</td><td>1</td><td>0</td><td>2</td><td>8</td><td>10</td><td>-2</td><td>3</td></tr><tr><td>Portugal</td><td>A</td><td>3</td><td>1</td><td>1</td><td>1</td><td>10</td><td>8</td><td>2</td><td>4</td></tr><tr><td></td><td></td><td></td><td></td><td></td><td></td><td></td><td></td><td></td><td></td></tr><tr><td>Slovakia</td><td>B</td><td>3</td><td>1</td><td>1</td><td>1</td><td>10</td><td>13</td><td>-3</td><td>4</td></tr><tr><td>Sweden</td><td>B</td><td>3</td><td>2</td><td>1</td><td>0</td><td>16</td><td>10</td><td>6</td><td>7</td></tr><tr><td>Spain</td><td>B</td><td>3</td><td>2</td><td>0</td><td>1</td><td>14</td><td>10</td><td>4</td><td>6</td></tr><tr><td>Poland</td><td>B</td><td>3</td><td>0</td><td>0</td><td>3</td><td>7</td><td>14</td><td>-7</td><td>0</td></tr><tr><td></td><td></td><td></td><td></td><td></td><td></td><td></td><td></td><td></td><td></td></tr><tr><td>Switzerland</td><td>C</td><td>3</td><td>2</td><td>0</td><td>1</td><td>11</td><td>12</td><td>-1</td><td>6</td></tr><tr><td>Turkey</td><td>C</td><td>3</td><td>2</td><td>0</td><td>1</td><td>11</td><td>9</td><td>2</td><td>6</td></tr><tr><td>Wales</td><td>C</td><td>3</td><td>1</td><td>0</td><td>2</td><td>11</td><td>12</td><td>-1</td><td>3</td></tr><tr><td>Italy</td><td>C</td><td>3</td><td>1</td><td>0</td><td>2</td><td>11</td><td>11</td><td>0</td><td>3</td></tr><tr><td></td><td></td><td></td><td></td><td></td><td></td><td></td><td></td><td></td><td></td></tr><tr><td>Belgium</td><td>D</td><td>3</td><td>1</td><td>1</td><td>1</td><td>10</td><td>12</td><td>-2</td><td>4</td></tr><tr><td>Denmark</td><td>D</td><td>3</td><td>3</td><td>0</td><td>0</td><td>16</td><td>7</td><td>9</td><td>9</td></tr><tr><td>Finland</td><td>D</td><td>3</td><td>0</td><td>1</td><td>2</td><td>9</td><td>16</td><td>-7</td><td>1</td></tr><tr><td>Russia</td><td>D</td><td>3</td><td>1</td><td>0</td><td>2</td><td>11</td><td>11</td><td>0</td><td>3</td></tr><tr><td></td><td></td><td></td><td></td><td></td><td></td><td></td><td></td><td></td><td></td></tr><tr><td>Netherlands</td><td>E</td><td>3</td><td>1</td><td>1</td><td>1</td><td>13</td><td>9</td><td>4</td><td>4</td></tr><tr><td>Austria</td><td>E</td><td>3</td><td>1</td><td>1</td><td>1</td><td>7</td><td>9</td><td>-2</td><td>4</td></tr><tr><td>Ukraine</td><td>E</td><td>3</td><td>0</td><td>2</td><td>1</td><td>6</td><td>9</td><td>-3</td><td>2</td></tr><tr><td>North Macedonia</td><td>E</td><td>3</td><td>2</td><td>0</td><td>1</td><td>10</td><td>9</td><td>1</td><td>6</td></tr><tr><td></td><td></td><td></td><td></td><td></td><td></td><td></td><td></td><td></td><td></td></tr><tr><td>Croatia</td><td>F</td><td>3</td><td>2</td><td>1</td><td>0</td><td>10</td><td>8</td><td>2</td><td>7</td></tr><tr><td>Scotland</td><td>F</td><td>3</td><td>1</td><td>0</td><td>2</td><td>9</td><td>7</td><td>2</td><td>3</td></tr><tr><td>Czech Republic</td><td>F</td><td>3</td><td>0</td><td>1</td><td>2</td><td>4</td><td>13</td><td>-9</td><td>1</td></tr><tr><td>England</td><td>F</td><td>3</td><td>2</td><td>0</td><td>1</td><td>13</td><td>8</td><td>5</td><td>6</td></tr></tbody></table></div>"
      ]
     },
     "metadata": {
      "application/vnd.databricks.v1+output": {
       "addedWidgets": {},
       "aggData": [],
       "aggError": "",
       "aggOverflow": false,
       "aggSchema": [],
       "aggSeriesLimitReached": false,
       "aggType": "",
       "arguments": {},
       "columnCustomDisplayInfos": {},
       "data": [
        [
         "Germany",
         "A",
         "3",
         "2",
         "0",
         "1",
         "8",
         "7",
         "1",
         "6"
        ],
        [
         "Hungary",
         "A",
         "3",
         "1",
         "1",
         "1",
         "12",
         "13",
         "-1",
         "4"
        ],
        [
         "France",
         "A",
         "3",
         "1",
         "0",
         "2",
         "8",
         "10",
         "-2",
         "3"
        ],
        [
         "Portugal",
         "A",
         "3",
         "1",
         "1",
         "1",
         "10",
         "8",
         "2",
         "4"
        ],
        [
         "",
         "",
         "",
         "",
         "",
         "",
         "",
         "",
         "",
         ""
        ],
        [
         "Slovakia",
         "B",
         "3",
         "1",
         "1",
         "1",
         "10",
         "13",
         "-3",
         "4"
        ],
        [
         "Sweden",
         "B",
         "3",
         "2",
         "1",
         "0",
         "16",
         "10",
         "6",
         "7"
        ],
        [
         "Spain",
         "B",
         "3",
         "2",
         "0",
         "1",
         "14",
         "10",
         "4",
         "6"
        ],
        [
         "Poland",
         "B",
         "3",
         "0",
         "0",
         "3",
         "7",
         "14",
         "-7",
         "0"
        ],
        [
         "",
         "",
         "",
         "",
         "",
         "",
         "",
         "",
         "",
         ""
        ],
        [
         "Switzerland",
         "C",
         "3",
         "2",
         "0",
         "1",
         "11",
         "12",
         "-1",
         "6"
        ],
        [
         "Turkey",
         "C",
         "3",
         "2",
         "0",
         "1",
         "11",
         "9",
         "2",
         "6"
        ],
        [
         "Wales",
         "C",
         "3",
         "1",
         "0",
         "2",
         "11",
         "12",
         "-1",
         "3"
        ],
        [
         "Italy",
         "C",
         "3",
         "1",
         "0",
         "2",
         "11",
         "11",
         "0",
         "3"
        ],
        [
         "",
         "",
         "",
         "",
         "",
         "",
         "",
         "",
         "",
         ""
        ],
        [
         "Belgium",
         "D",
         "3",
         "1",
         "1",
         "1",
         "10",
         "12",
         "-2",
         "4"
        ],
        [
         "Denmark",
         "D",
         "3",
         "3",
         "0",
         "0",
         "16",
         "7",
         "9",
         "9"
        ],
        [
         "Finland",
         "D",
         "3",
         "0",
         "1",
         "2",
         "9",
         "16",
         "-7",
         "1"
        ],
        [
         "Russia",
         "D",
         "3",
         "1",
         "0",
         "2",
         "11",
         "11",
         "0",
         "3"
        ],
        [
         "",
         "",
         "",
         "",
         "",
         "",
         "",
         "",
         "",
         ""
        ],
        [
         "Netherlands",
         "E",
         "3",
         "1",
         "1",
         "1",
         "13",
         "9",
         "4",
         "4"
        ],
        [
         "Austria",
         "E",
         "3",
         "1",
         "1",
         "1",
         "7",
         "9",
         "-2",
         "4"
        ],
        [
         "Ukraine",
         "E",
         "3",
         "0",
         "2",
         "1",
         "6",
         "9",
         "-3",
         "2"
        ],
        [
         "North Macedonia",
         "E",
         "3",
         "2",
         "0",
         "1",
         "10",
         "9",
         "1",
         "6"
        ],
        [
         "",
         "",
         "",
         "",
         "",
         "",
         "",
         "",
         "",
         ""
        ],
        [
         "Croatia",
         "F",
         "3",
         "2",
         "1",
         "0",
         "10",
         "8",
         "2",
         "7"
        ],
        [
         "Scotland",
         "F",
         "3",
         "1",
         "0",
         "2",
         "9",
         "7",
         "2",
         "3"
        ],
        [
         "Czech Republic",
         "F",
         "3",
         "0",
         "1",
         "2",
         "4",
         "13",
         "-9",
         "1"
        ],
        [
         "England",
         "F",
         "3",
         "2",
         "0",
         "1",
         "13",
         "8",
         "5",
         "6"
        ]
       ],
       "datasetInfos": [],
       "dbfsResultPath": null,
       "isJsonSchema": true,
       "metadata": {},
       "overflow": false,
       "plotOptions": {
        "customPlotOptions": {},
        "displayType": "table",
        "pivotAggregation": null,
        "pivotColumns": null,
        "xColumns": null,
        "yColumns": null
       },
       "removedWidgets": [],
       "schema": [
        {
         "metadata": "{}",
         "name": "Teams",
         "type": "\"string\""
        },
        {
         "metadata": "{}",
         "name": "Group",
         "type": "\"string\""
        },
        {
         "metadata": "{}",
         "name": "Pld",
         "type": "\"string\""
        },
        {
         "metadata": "{}",
         "name": "W",
         "type": "\"string\""
        },
        {
         "metadata": "{}",
         "name": "D",
         "type": "\"string\""
        },
        {
         "metadata": "{}",
         "name": "L",
         "type": "\"string\""
        },
        {
         "metadata": "{}",
         "name": "GF",
         "type": "\"string\""
        },
        {
         "metadata": "{}",
         "name": "GA",
         "type": "\"string\""
        },
        {
         "metadata": "{}",
         "name": "GD",
         "type": "\"string\""
        },
        {
         "metadata": "{}",
         "name": "Pts",
         "type": "\"string\""
        }
       ],
       "type": "table"
      }
     },
     "output_type": "display_data"
    },
    {
     "output_type": "stream",
     "name": "stdout",
     "output_type": "stream",
     "text": [
      "14\n"
     ]
    }
   ],
   "source": [
    "%python\n",
    "gs = spark.sql(\"SELECT * from teamstats1\")\n",
    "qf = spark.sql(\"SELECT team1,team2, team1score,team2score FROM matchinfo1 WHERE stage = 'Quarter-finals' ORDER BY matchid\")\n",
    "r16 = spark.sql(\"SELECT team1,team2, team1score,team2score FROM matchinfo1 WHERE stage = 'Round of 16' ORDER BY matchid\")\n",
    "sf = spark.sql(\"SELECT team1,team2, team1score,team2score FROM matchinfo1 WHERE stage = 'Semi-finals' ORDER BY matchid desc\")\n",
    "final = spark.sql(\"SELECT team1,team2, team1score,team2score FROM matchinfo1 WHERE stage = 'Final' ORDER BY matchid\")\n",
    "third = spark.sql(\"SELECT matchid  FROM matchinfo1 WHERE stage = 'Third Position' ORDER BY matchid\")\n",
    "\n",
    "#converting into pandas\n",
    "df_gs = gs.toPandas()\n",
    "df_r16 = r16.toPandas()\n",
    "df_qf = qf.toPandas()\n",
    "df_sf = sf.toPandas()\n",
    "df_final = final.toPandas()\n",
    "df_third = third.toPandas()\n",
    "\n",
    "for_visualization = pd.DataFrame({\n",
    "    'Teams': df_gs['TeamName'],\n",
    "    'Group': df_gs['GroupName'],\n",
    "    'Pld': df_gs['TotalGamesPlayed'],\n",
    "    'W': df_gs['Wins'],\n",
    "    'D': df_gs['Draws'],\n",
    "    'L': df_gs['Losses'],\n",
    "    'GF': df_gs['GoalsFor'],\n",
    "    'GA': df_gs['GoalsAgainst'],\n",
    "    'GD': df_gs['GoalDifference'],\n",
    "    'Pts': df_gs['TotalPoints']\n",
    "})\n",
    "\n",
    "blank_row = {\n",
    "    'Teams': '', \n",
    "    'Group': '', \n",
    "    'Pld': '', \n",
    "    'W': '',\n",
    "    'D': '',\n",
    "    'L': '',\n",
    "    'GF': '',\n",
    "    'GA': '',\n",
    "    'GD': '',\n",
    "    'Pts': ''\n",
    "}\n",
    "\n",
    "groups = []\n",
    "for i in range(0, len(for_visualization), 4):\n",
    "    group = for_visualization.iloc[i:i+4]  \n",
    "    groups.append(group) \n",
    "    if i < len(for_visualization) - 4:\n",
    "        groups.append(pd.DataFrame([blank_row])) \n",
    "\n",
    "visualization_with_space = pd.concat(groups).reset_index(drop=True)\n",
    "half_table_index = len(visualization_with_space) // 2\n",
    "spark.conf.set(\"spark.sql.execution.arrow.pyspark.enabled\", \"false\")\n",
    "display(visualization_with_space)\n",
    "print(half_table_index)"
   ]
  },
  {
   "cell_type": "code",
   "execution_count": 0,
   "metadata": {
    "application/vnd.databricks.v1+cell": {
     "cellMetadata": {
      "byteLimit": 2048000,
      "rowLimit": 10000
     },
     "inputWidgets": {},
     "nuid": "64b06b44-3fd3-4b3c-99bf-46481ee3336a",
     "showTitle": false,
     "title": ""
    }
   },
   "outputs": [
    {
     "output_type": "display_data",
     "data": {
      "text/html": [
       "<style scoped>\n",
       "  .table-result-container {\n",
       "    max-height: 300px;\n",
       "    overflow: auto;\n",
       "  }\n",
       "  table, th, td {\n",
       "    border: 1px solid black;\n",
       "    border-collapse: collapse;\n",
       "  }\n",
       "  th, td {\n",
       "    padding: 5px;\n",
       "  }\n",
       "  th {\n",
       "    text-align: left;\n",
       "  }\n",
       "</style><div class='table-result-container'><table class='table-result'><thead style='background-color: white'><tr><th>Teams</th><th>Group</th><th>Pld</th><th>W</th><th>D</th><th>L</th><th>GF</th><th>GA</th><th>GD</th><th>Pts</th></tr></thead><tbody><tr><td></td><td></td><td></td><td></td><td></td><td></td><td></td><td></td><td></td><td></td></tr><tr><td>Germany</td><td>A</td><td>3</td><td>2</td><td>0</td><td>1</td><td>8</td><td>7</td><td>1</td><td>6</td></tr><tr><td>Hungary</td><td>A</td><td>3</td><td>1</td><td>1</td><td>1</td><td>12</td><td>13</td><td>-1</td><td>4</td></tr><tr><td>France</td><td>A</td><td>3</td><td>1</td><td>0</td><td>2</td><td>8</td><td>10</td><td>-2</td><td>3</td></tr><tr><td>Portugal</td><td>A</td><td>3</td><td>1</td><td>1</td><td>1</td><td>10</td><td>8</td><td>2</td><td>4</td></tr><tr><td></td><td></td><td></td><td></td><td></td><td></td><td></td><td></td><td></td><td></td></tr><tr><td>Slovakia</td><td>B</td><td>3</td><td>1</td><td>1</td><td>1</td><td>10</td><td>13</td><td>-3</td><td>4</td></tr><tr><td>Sweden</td><td>B</td><td>3</td><td>2</td><td>1</td><td>0</td><td>16</td><td>10</td><td>6</td><td>7</td></tr><tr><td>Spain</td><td>B</td><td>3</td><td>2</td><td>0</td><td>1</td><td>14</td><td>10</td><td>4</td><td>6</td></tr><tr><td>Poland</td><td>B</td><td>3</td><td>0</td><td>0</td><td>3</td><td>7</td><td>14</td><td>-7</td><td>0</td></tr><tr><td></td><td></td><td></td><td></td><td></td><td></td><td></td><td></td><td></td><td></td></tr><tr><td>Switzerland</td><td>C</td><td>3</td><td>2</td><td>0</td><td>1</td><td>11</td><td>12</td><td>-1</td><td>6</td></tr><tr><td>Turkey</td><td>C</td><td>3</td><td>2</td><td>0</td><td>1</td><td>11</td><td>9</td><td>2</td><td>6</td></tr><tr><td>Wales</td><td>C</td><td>3</td><td>1</td><td>0</td><td>2</td><td>11</td><td>12</td><td>-1</td><td>3</td></tr><tr><td>Italy</td><td>C</td><td>3</td><td>1</td><td>0</td><td>2</td><td>11</td><td>11</td><td>0</td><td>3</td></tr></tbody></table></div>"
      ]
     },
     "metadata": {
      "application/vnd.databricks.v1+output": {
       "addedWidgets": {},
       "aggData": [],
       "aggError": "",
       "aggOverflow": false,
       "aggSchema": [],
       "aggSeriesLimitReached": false,
       "aggType": "",
       "arguments": {},
       "columnCustomDisplayInfos": {},
       "data": [
        [
         "",
         "",
         "",
         "",
         "",
         "",
         "",
         "",
         "",
         ""
        ],
        [
         "Germany",
         "A",
         "3",
         "2",
         "0",
         "1",
         "8",
         "7",
         "1",
         "6"
        ],
        [
         "Hungary",
         "A",
         "3",
         "1",
         "1",
         "1",
         "12",
         "13",
         "-1",
         "4"
        ],
        [
         "France",
         "A",
         "3",
         "1",
         "0",
         "2",
         "8",
         "10",
         "-2",
         "3"
        ],
        [
         "Portugal",
         "A",
         "3",
         "1",
         "1",
         "1",
         "10",
         "8",
         "2",
         "4"
        ],
        [
         "",
         "",
         "",
         "",
         "",
         "",
         "",
         "",
         "",
         ""
        ],
        [
         "Slovakia",
         "B",
         "3",
         "1",
         "1",
         "1",
         "10",
         "13",
         "-3",
         "4"
        ],
        [
         "Sweden",
         "B",
         "3",
         "2",
         "1",
         "0",
         "16",
         "10",
         "6",
         "7"
        ],
        [
         "Spain",
         "B",
         "3",
         "2",
         "0",
         "1",
         "14",
         "10",
         "4",
         "6"
        ],
        [
         "Poland",
         "B",
         "3",
         "0",
         "0",
         "3",
         "7",
         "14",
         "-7",
         "0"
        ],
        [
         "",
         "",
         "",
         "",
         "",
         "",
         "",
         "",
         "",
         ""
        ],
        [
         "Switzerland",
         "C",
         "3",
         "2",
         "0",
         "1",
         "11",
         "12",
         "-1",
         "6"
        ],
        [
         "Turkey",
         "C",
         "3",
         "2",
         "0",
         "1",
         "11",
         "9",
         "2",
         "6"
        ],
        [
         "Wales",
         "C",
         "3",
         "1",
         "0",
         "2",
         "11",
         "12",
         "-1",
         "3"
        ],
        [
         "Italy",
         "C",
         "3",
         "1",
         "0",
         "2",
         "11",
         "11",
         "0",
         "3"
        ]
       ],
       "datasetInfos": [],
       "dbfsResultPath": null,
       "isJsonSchema": true,
       "metadata": {},
       "overflow": false,
       "plotOptions": {
        "customPlotOptions": {},
        "displayType": "table",
        "pivotAggregation": null,
        "pivotColumns": null,
        "xColumns": null,
        "yColumns": null
       },
       "removedWidgets": [],
       "schema": [
        {
         "metadata": "{}",
         "name": "Teams",
         "type": "\"string\""
        },
        {
         "metadata": "{}",
         "name": "Group",
         "type": "\"string\""
        },
        {
         "metadata": "{}",
         "name": "Pld",
         "type": "\"string\""
        },
        {
         "metadata": "{}",
         "name": "W",
         "type": "\"string\""
        },
        {
         "metadata": "{}",
         "name": "D",
         "type": "\"string\""
        },
        {
         "metadata": "{}",
         "name": "L",
         "type": "\"string\""
        },
        {
         "metadata": "{}",
         "name": "GF",
         "type": "\"string\""
        },
        {
         "metadata": "{}",
         "name": "GA",
         "type": "\"string\""
        },
        {
         "metadata": "{}",
         "name": "GD",
         "type": "\"string\""
        },
        {
         "metadata": "{}",
         "name": "Pts",
         "type": "\"string\""
        }
       ],
       "type": "table"
      }
     },
     "output_type": "display_data"
    },
    {
     "output_type": "display_data",
     "data": {
      "text/html": [
       "<style scoped>\n",
       "  .table-result-container {\n",
       "    max-height: 300px;\n",
       "    overflow: auto;\n",
       "  }\n",
       "  table, th, td {\n",
       "    border: 1px solid black;\n",
       "    border-collapse: collapse;\n",
       "  }\n",
       "  th, td {\n",
       "    padding: 5px;\n",
       "  }\n",
       "  th {\n",
       "    text-align: left;\n",
       "  }\n",
       "</style><div class='table-result-container'><table class='table-result'><thead style='background-color: white'><tr><th>Teams</th><th>Group</th><th>Pld</th><th>W</th><th>D</th><th>L</th><th>GF</th><th>GA</th><th>GD</th><th>Pts</th></tr></thead><tbody><tr><td></td><td></td><td></td><td></td><td></td><td></td><td></td><td></td><td></td><td></td></tr><tr><td>Belgium</td><td>D</td><td>3</td><td>1</td><td>1</td><td>1</td><td>10</td><td>12</td><td>-2</td><td>4</td></tr><tr><td>Denmark</td><td>D</td><td>3</td><td>3</td><td>0</td><td>0</td><td>16</td><td>7</td><td>9</td><td>9</td></tr><tr><td>Finland</td><td>D</td><td>3</td><td>0</td><td>1</td><td>2</td><td>9</td><td>16</td><td>-7</td><td>1</td></tr><tr><td>Russia</td><td>D</td><td>3</td><td>1</td><td>0</td><td>2</td><td>11</td><td>11</td><td>0</td><td>3</td></tr><tr><td></td><td></td><td></td><td></td><td></td><td></td><td></td><td></td><td></td><td></td></tr><tr><td>Netherlands</td><td>E</td><td>3</td><td>1</td><td>1</td><td>1</td><td>13</td><td>9</td><td>4</td><td>4</td></tr><tr><td>Austria</td><td>E</td><td>3</td><td>1</td><td>1</td><td>1</td><td>7</td><td>9</td><td>-2</td><td>4</td></tr><tr><td>Ukraine</td><td>E</td><td>3</td><td>0</td><td>2</td><td>1</td><td>6</td><td>9</td><td>-3</td><td>2</td></tr><tr><td>North Macedonia</td><td>E</td><td>3</td><td>2</td><td>0</td><td>1</td><td>10</td><td>9</td><td>1</td><td>6</td></tr><tr><td></td><td></td><td></td><td></td><td></td><td></td><td></td><td></td><td></td><td></td></tr><tr><td>Croatia</td><td>F</td><td>3</td><td>2</td><td>1</td><td>0</td><td>10</td><td>8</td><td>2</td><td>7</td></tr><tr><td>Scotland</td><td>F</td><td>3</td><td>1</td><td>0</td><td>2</td><td>9</td><td>7</td><td>2</td><td>3</td></tr><tr><td>Czech Republic</td><td>F</td><td>3</td><td>0</td><td>1</td><td>2</td><td>4</td><td>13</td><td>-9</td><td>1</td></tr><tr><td>England</td><td>F</td><td>3</td><td>2</td><td>0</td><td>1</td><td>13</td><td>8</td><td>5</td><td>6</td></tr></tbody></table></div>"
      ]
     },
     "metadata": {
      "application/vnd.databricks.v1+output": {
       "addedWidgets": {},
       "aggData": [],
       "aggError": "",
       "aggOverflow": false,
       "aggSchema": [],
       "aggSeriesLimitReached": false,
       "aggType": "",
       "arguments": {},
       "columnCustomDisplayInfos": {},
       "data": [
        [
         "",
         "",
         "",
         "",
         "",
         "",
         "",
         "",
         "",
         ""
        ],
        [
         "Belgium",
         "D",
         "3",
         "1",
         "1",
         "1",
         "10",
         "12",
         "-2",
         "4"
        ],
        [
         "Denmark",
         "D",
         "3",
         "3",
         "0",
         "0",
         "16",
         "7",
         "9",
         "9"
        ],
        [
         "Finland",
         "D",
         "3",
         "0",
         "1",
         "2",
         "9",
         "16",
         "-7",
         "1"
        ],
        [
         "Russia",
         "D",
         "3",
         "1",
         "0",
         "2",
         "11",
         "11",
         "0",
         "3"
        ],
        [
         "",
         "",
         "",
         "",
         "",
         "",
         "",
         "",
         "",
         ""
        ],
        [
         "Netherlands",
         "E",
         "3",
         "1",
         "1",
         "1",
         "13",
         "9",
         "4",
         "4"
        ],
        [
         "Austria",
         "E",
         "3",
         "1",
         "1",
         "1",
         "7",
         "9",
         "-2",
         "4"
        ],
        [
         "Ukraine",
         "E",
         "3",
         "0",
         "2",
         "1",
         "6",
         "9",
         "-3",
         "2"
        ],
        [
         "North Macedonia",
         "E",
         "3",
         "2",
         "0",
         "1",
         "10",
         "9",
         "1",
         "6"
        ],
        [
         "",
         "",
         "",
         "",
         "",
         "",
         "",
         "",
         "",
         ""
        ],
        [
         "Croatia",
         "F",
         "3",
         "2",
         "1",
         "0",
         "10",
         "8",
         "2",
         "7"
        ],
        [
         "Scotland",
         "F",
         "3",
         "1",
         "0",
         "2",
         "9",
         "7",
         "2",
         "3"
        ],
        [
         "Czech Republic",
         "F",
         "3",
         "0",
         "1",
         "2",
         "4",
         "13",
         "-9",
         "1"
        ],
        [
         "England",
         "F",
         "3",
         "2",
         "0",
         "1",
         "13",
         "8",
         "5",
         "6"
        ]
       ],
       "datasetInfos": [],
       "dbfsResultPath": null,
       "isJsonSchema": true,
       "metadata": {},
       "overflow": false,
       "plotOptions": {
        "customPlotOptions": {},
        "displayType": "table",
        "pivotAggregation": null,
        "pivotColumns": null,
        "xColumns": null,
        "yColumns": null
       },
       "removedWidgets": [],
       "schema": [
        {
         "metadata": "{}",
         "name": "Teams",
         "type": "\"string\""
        },
        {
         "metadata": "{}",
         "name": "Group",
         "type": "\"string\""
        },
        {
         "metadata": "{}",
         "name": "Pld",
         "type": "\"string\""
        },
        {
         "metadata": "{}",
         "name": "W",
         "type": "\"string\""
        },
        {
         "metadata": "{}",
         "name": "D",
         "type": "\"string\""
        },
        {
         "metadata": "{}",
         "name": "L",
         "type": "\"string\""
        },
        {
         "metadata": "{}",
         "name": "GF",
         "type": "\"string\""
        },
        {
         "metadata": "{}",
         "name": "GA",
         "type": "\"string\""
        },
        {
         "metadata": "{}",
         "name": "GD",
         "type": "\"string\""
        },
        {
         "metadata": "{}",
         "name": "Pts",
         "type": "\"string\""
        }
       ],
       "type": "table"
      }
     },
     "output_type": "display_data"
    }
   ],
   "source": [
    "%python\n",
    "#for group A,B,C\n",
    "left_table = pd.DataFrame(columns=['Teams','Group','Pld','W','D','L','GF','GA','GD','Pts'])\n",
    "left_table = pd.concat([left_table, pd.DataFrame([blank_row])], ignore_index=True)\n",
    "left_table = pd.concat([left_table, visualization_with_space.iloc[:half_table_index]]).reset_index(drop=True)\n",
    "\n",
    "#for group C,D,E\n",
    "right_table = pd.DataFrame(columns=['Teams','Group','Pld','W','D','L','GF','GA','GD','Pts'])\n",
    "right_table = pd.concat([right_table, visualization_with_space.iloc[half_table_index +1:]]).reset_index(drop=True)\n",
    "right_table = pd.concat([pd.DataFrame([blank_row]), right_table], ignore_index=True)\n",
    "\n",
    "display(left_table)\n",
    "display(right_table)\n"
   ]
  },
  {
   "cell_type": "code",
   "execution_count": 0,
   "metadata": {
    "application/vnd.databricks.v1+cell": {
     "cellMetadata": {
      "byteLimit": 2048000,
      "rowLimit": 10000
     },
     "inputWidgets": {},
     "nuid": "93e27a0e-83b8-4a73-82c4-27a56050ad45",
     "showTitle": false,
     "title": ""
    }
   },
   "outputs": [
    {
     "output_type": "display_data",
     "data": {
      "text/html": [
       "<style scoped>\n",
       "  .table-result-container {\n",
       "    max-height: 300px;\n",
       "    overflow: auto;\n",
       "  }\n",
       "  table, th, td {\n",
       "    border: 1px solid black;\n",
       "    border-collapse: collapse;\n",
       "  }\n",
       "  th, td {\n",
       "    padding: 5px;\n",
       "  }\n",
       "  th {\n",
       "    text-align: left;\n",
       "  }\n",
       "</style><div class='table-result-container'><table class='table-result'><thead style='background-color: white'><tr><th>matchid</th><th>team1</th><th>team2</th><th>team1score</th><th>team2score</th><th>result</th><th>stage</th></tr></thead><tbody><tr><td>37</td><td>Germany</td><td>Switzerland</td><td>0</td><td>4</td><td>Switzerland</td><td>Round of 16</td></tr><tr><td>38</td><td>Portugal</td><td>Spain</td><td>2</td><td>3</td><td>Spain</td><td>Round of 16</td></tr><tr><td>39</td><td>Sweden</td><td>Hungary</td><td>5</td><td>1</td><td>Sweden</td><td>Round of 16</td></tr><tr><td>40</td><td>Turkey</td><td>Russia</td><td>1</td><td>1</td><td>Russia</td><td>Round of 16</td></tr><tr><td>41</td><td>Croatia</td><td>Italy</td><td>4</td><td>3</td><td>Croatia</td><td>Round of 16</td></tr><tr><td>42</td><td>Belgium</td><td>Netherlands</td><td>5</td><td>3</td><td>Belgium</td><td>Round of 16</td></tr><tr><td>43</td><td>North Macedonia</td><td>Slovakia</td><td>5</td><td>3</td><td>North Macedonia</td><td>Round of 16</td></tr><tr><td>44</td><td>Belgium</td><td>England</td><td>4</td><td>3</td><td>Belgium</td><td>Round of 16</td></tr></tbody></table></div>"
      ]
     },
     "metadata": {
      "application/vnd.databricks.v1+output": {
       "addedWidgets": {},
       "aggData": [],
       "aggError": "",
       "aggOverflow": false,
       "aggSchema": [],
       "aggSeriesLimitReached": false,
       "aggType": "",
       "arguments": {},
       "columnCustomDisplayInfos": {},
       "data": [
        [
         37,
         "Germany",
         "Switzerland",
         0,
         4,
         "Switzerland",
         "Round of 16"
        ],
        [
         38,
         "Portugal",
         "Spain",
         2,
         3,
         "Spain",
         "Round of 16"
        ],
        [
         39,
         "Sweden",
         "Hungary",
         5,
         1,
         "Sweden",
         "Round of 16"
        ],
        [
         40,
         "Turkey",
         "Russia",
         1,
         1,
         "Russia",
         "Round of 16"
        ],
        [
         41,
         "Croatia",
         "Italy",
         4,
         3,
         "Croatia",
         "Round of 16"
        ],
        [
         42,
         "Belgium",
         "Netherlands",
         5,
         3,
         "Belgium",
         "Round of 16"
        ],
        [
         43,
         "North Macedonia",
         "Slovakia",
         5,
         3,
         "North Macedonia",
         "Round of 16"
        ],
        [
         44,
         "Belgium",
         "England",
         4,
         3,
         "Belgium",
         "Round of 16"
        ]
       ],
       "datasetInfos": [],
       "dbfsResultPath": null,
       "isJsonSchema": true,
       "metadata": {
        "isDbfsCommandResult": false
       },
       "overflow": false,
       "plotOptions": {
        "customPlotOptions": {},
        "displayType": "table",
        "pivotAggregation": null,
        "pivotColumns": null,
        "xColumns": null,
        "yColumns": null
       },
       "removedWidgets": [],
       "schema": [
        {
         "metadata": "{}",
         "name": "matchid",
         "type": "\"integer\""
        },
        {
         "metadata": "{\"__CHAR_VARCHAR_TYPE_STRING\":\"varchar(30)\"}",
         "name": "team1",
         "type": "\"string\""
        },
        {
         "metadata": "{\"__CHAR_VARCHAR_TYPE_STRING\":\"varchar(30)\"}",
         "name": "team2",
         "type": "\"string\""
        },
        {
         "metadata": "{}",
         "name": "team1score",
         "type": "\"integer\""
        },
        {
         "metadata": "{}",
         "name": "team2score",
         "type": "\"integer\""
        },
        {
         "metadata": "{\"__CHAR_VARCHAR_TYPE_STRING\":\"varchar(30)\"}",
         "name": "result",
         "type": "\"string\""
        },
        {
         "metadata": "{\"__CHAR_VARCHAR_TYPE_STRING\":\"varchar(255)\"}",
         "name": "stage",
         "type": "\"string\""
        }
       ],
       "type": "table"
      }
     },
     "output_type": "display_data"
    }
   ],
   "source": [
    "%sql\n",
    "select *\n",
    "from matchinfo1\n",
    "where stage = 'Round of 16'\n",
    "order by matchid"
   ]
  },
  {
   "cell_type": "code",
   "execution_count": 0,
   "metadata": {
    "application/vnd.databricks.v1+cell": {
     "cellMetadata": {
      "byteLimit": 2048000,
      "rowLimit": 10000
     },
     "inputWidgets": {},
     "nuid": "ebcbdc47-ce45-4583-83ba-d720d4fba8e4",
     "showTitle": false,
     "title": ""
    }
   },
   "outputs": [
    {
     "output_type": "stream",
     "name": "stdout",
     "output_type": "stream",
     "text": [
      "17\n"
     ]
    },
    {
     "output_type": "display_data",
     "data": {
      "text/html": [
       "<style scoped>\n",
       "  .table-result-container {\n",
       "    max-height: 300px;\n",
       "    overflow: auto;\n",
       "  }\n",
       "  table, th, td {\n",
       "    border: 1px solid black;\n",
       "    border-collapse: collapse;\n",
       "  }\n",
       "  th, td {\n",
       "    padding: 5px;\n",
       "  }\n",
       "  th {\n",
       "    text-align: left;\n",
       "  }\n",
       "</style><div class='table-result-container'><table class='table-result'><thead style='background-color: white'><tr><th>Round_of_16</th><th>rest</th></tr></thead><tbody><tr><td></td><td></td></tr><tr><td></td><td></td></tr><tr><td>Germany (0)</td><td></td></tr><tr><td>Switzerland (4)</td><td></td></tr><tr><td></td><td></td></tr><tr><td></td><td></td></tr><tr><td>Portugal (2)</td><td></td></tr><tr><td>Spain (3)</td><td></td></tr><tr><td></td><td></td></tr><tr><td></td><td></td></tr><tr><td>Sweden (5)</td><td></td></tr><tr><td>Hungary (1)</td><td></td></tr><tr><td></td><td></td></tr><tr><td></td><td></td></tr><tr><td>Turkey (1)</td><td></td></tr><tr><td>Russia (1)</td><td></td></tr><tr><td></td><td></td></tr><tr><td></td><td></td></tr><tr><td>Croatia (4)</td><td></td></tr><tr><td>Italy (3)</td><td></td></tr><tr><td></td><td></td></tr><tr><td></td><td></td></tr><tr><td>Belgium (5)</td><td></td></tr><tr><td>Netherlands (3)</td><td></td></tr><tr><td></td><td></td></tr><tr><td></td><td></td></tr><tr><td>North Macedonia (5)</td><td></td></tr><tr><td>Slovakia (3)</td><td></td></tr><tr><td></td><td></td></tr><tr><td></td><td></td></tr><tr><td>Belgium (4)</td><td></td></tr><tr><td>England (3)</td><td></td></tr><tr><td></td><td></td></tr><tr><td></td><td></td></tr></tbody></table></div>"
      ]
     },
     "metadata": {
      "application/vnd.databricks.v1+output": {
       "addedWidgets": {},
       "aggData": [],
       "aggError": "",
       "aggOverflow": false,
       "aggSchema": [],
       "aggSeriesLimitReached": false,
       "aggType": "",
       "arguments": {},
       "columnCustomDisplayInfos": {},
       "data": [
        [
         "",
         ""
        ],
        [
         "",
         ""
        ],
        [
         "Germany (0)",
         ""
        ],
        [
         "Switzerland (4)",
         ""
        ],
        [
         "",
         ""
        ],
        [
         "",
         ""
        ],
        [
         "Portugal (2)",
         ""
        ],
        [
         "Spain (3)",
         ""
        ],
        [
         "",
         ""
        ],
        [
         "",
         ""
        ],
        [
         "Sweden (5)",
         ""
        ],
        [
         "Hungary (1)",
         ""
        ],
        [
         "",
         ""
        ],
        [
         "",
         ""
        ],
        [
         "Turkey (1)",
         ""
        ],
        [
         "Russia (1)",
         ""
        ],
        [
         "",
         ""
        ],
        [
         "",
         ""
        ],
        [
         "Croatia (4)",
         ""
        ],
        [
         "Italy (3)",
         ""
        ],
        [
         "",
         ""
        ],
        [
         "",
         ""
        ],
        [
         "Belgium (5)",
         ""
        ],
        [
         "Netherlands (3)",
         ""
        ],
        [
         "",
         ""
        ],
        [
         "",
         ""
        ],
        [
         "North Macedonia (5)",
         ""
        ],
        [
         "Slovakia (3)",
         ""
        ],
        [
         "",
         ""
        ],
        [
         "",
         ""
        ],
        [
         "Belgium (4)",
         ""
        ],
        [
         "England (3)",
         ""
        ],
        [
         "",
         ""
        ],
        [
         "",
         ""
        ]
       ],
       "datasetInfos": [],
       "dbfsResultPath": null,
       "isJsonSchema": true,
       "metadata": {},
       "overflow": false,
       "plotOptions": {
        "customPlotOptions": {},
        "displayType": "table",
        "pivotAggregation": null,
        "pivotColumns": null,
        "xColumns": null,
        "yColumns": null
       },
       "removedWidgets": [],
       "schema": [
        {
         "metadata": "{}",
         "name": "Round_of_16",
         "type": "\"string\""
        },
        {
         "metadata": "{}",
         "name": "rest",
         "type": "\"string\""
        }
       ],
       "type": "table"
      }
     },
     "output_type": "display_data"
    },
    {
     "output_type": "display_data",
     "data": {
      "text/html": [
       "<style scoped>\n",
       "  .table-result-container {\n",
       "    max-height: 300px;\n",
       "    overflow: auto;\n",
       "  }\n",
       "  table, th, td {\n",
       "    border: 1px solid black;\n",
       "    border-collapse: collapse;\n",
       "  }\n",
       "  th, td {\n",
       "    padding: 5px;\n",
       "  }\n",
       "  th {\n",
       "    text-align: left;\n",
       "  }\n",
       "</style><div class='table-result-container'><table class='table-result'><thead style='background-color: white'><tr><th>Round_of_16</th><th>rest</th></tr></thead><tbody><tr><td></td><td></td></tr><tr><td></td><td></td></tr><tr><td>Germany (0)</td><td></td></tr><tr><td>Switzerland (4)</td><td></td></tr><tr><td></td><td></td></tr><tr><td></td><td></td></tr><tr><td>Portugal (2)</td><td></td></tr><tr><td>Spain (3)</td><td></td></tr><tr><td></td><td></td></tr><tr><td></td><td></td></tr><tr><td>Sweden (5)</td><td></td></tr><tr><td>Hungary (1)</td><td></td></tr><tr><td></td><td></td></tr><tr><td></td><td></td></tr><tr><td>Turkey (1)</td><td></td></tr><tr><td>Russia (1)</td><td></td></tr><tr><td></td><td></td></tr><tr><td></td><td></td></tr></tbody></table></div>"
      ]
     },
     "metadata": {
      "application/vnd.databricks.v1+output": {
       "addedWidgets": {},
       "aggData": [],
       "aggError": "",
       "aggOverflow": false,
       "aggSchema": [],
       "aggSeriesLimitReached": false,
       "aggType": "",
       "arguments": {},
       "columnCustomDisplayInfos": {},
       "data": [
        [
         "",
         ""
        ],
        [
         "",
         ""
        ],
        [
         "Germany (0)",
         ""
        ],
        [
         "Switzerland (4)",
         ""
        ],
        [
         "",
         ""
        ],
        [
         "",
         ""
        ],
        [
         "Portugal (2)",
         ""
        ],
        [
         "Spain (3)",
         ""
        ],
        [
         "",
         ""
        ],
        [
         "",
         ""
        ],
        [
         "Sweden (5)",
         ""
        ],
        [
         "Hungary (1)",
         ""
        ],
        [
         "",
         ""
        ],
        [
         "",
         ""
        ],
        [
         "Turkey (1)",
         ""
        ],
        [
         "Russia (1)",
         ""
        ],
        [
         "",
         ""
        ],
        [
         "",
         ""
        ]
       ],
       "datasetInfos": [],
       "dbfsResultPath": null,
       "isJsonSchema": true,
       "metadata": {},
       "overflow": false,
       "plotOptions": {
        "customPlotOptions": {},
        "displayType": "table",
        "pivotAggregation": null,
        "pivotColumns": null,
        "xColumns": null,
        "yColumns": null
       },
       "removedWidgets": [],
       "schema": [
        {
         "metadata": "{}",
         "name": "Round_of_16",
         "type": "\"string\""
        },
        {
         "metadata": "{}",
         "name": "rest",
         "type": "\"string\""
        }
       ],
       "type": "table"
      }
     },
     "output_type": "display_data"
    },
    {
     "output_type": "display_data",
     "data": {
      "text/html": [
       "<style scoped>\n",
       "  .table-result-container {\n",
       "    max-height: 300px;\n",
       "    overflow: auto;\n",
       "  }\n",
       "  table, th, td {\n",
       "    border: 1px solid black;\n",
       "    border-collapse: collapse;\n",
       "  }\n",
       "  th, td {\n",
       "    padding: 5px;\n",
       "  }\n",
       "  th {\n",
       "    text-align: left;\n",
       "  }\n",
       "</style><div class='table-result-container'><table class='table-result'><thead style='background-color: white'><tr><th>Round_of_16</th><th>rest</th></tr></thead><tbody><tr><td></td><td></td></tr><tr><td></td><td></td></tr><tr><td>Croatia (4)</td><td></td></tr><tr><td>Italy (3)</td><td></td></tr><tr><td></td><td></td></tr><tr><td></td><td></td></tr><tr><td>Belgium (5)</td><td></td></tr><tr><td>Netherlands (3)</td><td></td></tr><tr><td></td><td></td></tr><tr><td></td><td></td></tr><tr><td>North Macedonia (5)</td><td></td></tr><tr><td>Slovakia (3)</td><td></td></tr><tr><td></td><td></td></tr><tr><td></td><td></td></tr><tr><td>Belgium (4)</td><td></td></tr><tr><td>England (3)</td><td></td></tr><tr><td></td><td></td></tr><tr><td></td><td></td></tr></tbody></table></div>"
      ]
     },
     "metadata": {
      "application/vnd.databricks.v1+output": {
       "addedWidgets": {},
       "aggData": [],
       "aggError": "",
       "aggOverflow": false,
       "aggSchema": [],
       "aggSeriesLimitReached": false,
       "aggType": "",
       "arguments": {},
       "columnCustomDisplayInfos": {},
       "data": [
        [
         "",
         ""
        ],
        [
         "",
         ""
        ],
        [
         "Croatia (4)",
         ""
        ],
        [
         "Italy (3)",
         ""
        ],
        [
         "",
         ""
        ],
        [
         "",
         ""
        ],
        [
         "Belgium (5)",
         ""
        ],
        [
         "Netherlands (3)",
         ""
        ],
        [
         "",
         ""
        ],
        [
         "",
         ""
        ],
        [
         "North Macedonia (5)",
         ""
        ],
        [
         "Slovakia (3)",
         ""
        ],
        [
         "",
         ""
        ],
        [
         "",
         ""
        ],
        [
         "Belgium (4)",
         ""
        ],
        [
         "England (3)",
         ""
        ],
        [
         "",
         ""
        ],
        [
         "",
         ""
        ]
       ],
       "datasetInfos": [],
       "dbfsResultPath": null,
       "isJsonSchema": true,
       "metadata": {},
       "overflow": false,
       "plotOptions": {
        "customPlotOptions": {},
        "displayType": "table",
        "pivotAggregation": null,
        "pivotColumns": null,
        "xColumns": null,
        "yColumns": null
       },
       "removedWidgets": [],
       "schema": [
        {
         "metadata": "{}",
         "name": "Round_of_16",
         "type": "\"string\""
        },
        {
         "metadata": "{}",
         "name": "rest",
         "type": "\"string\""
        }
       ],
       "type": "table"
      }
     },
     "output_type": "display_data"
    }
   ],
   "source": [
    "%python\n",
    "visualize_r16 = pd.DataFrame(columns=['Round_of_16', 'rest'])\n",
    "\n",
    "for _ in range(2):\n",
    "    visualize_r16 = pd.concat([visualize_r16, pd.DataFrame({'Round_of_16': ['']})], ignore_index=True)\n",
    "\n",
    "for index, row in df_r16.iterrows():\n",
    "    visualize_r16 = pd.concat([visualize_r16, pd.DataFrame({'Round_of_16': [f\"{row['team1']} ({row['team1score']})\"]})], ignore_index=True)\n",
    "    visualize_r16 = pd.concat([visualize_r16, pd.DataFrame({'Round_of_16': [f\"{row['team2']} ({row['team2score']})\"]})], ignore_index=True)\n",
    "\n",
    "    for _ in range(2):\n",
    "        visualize_r16 = pd.concat([visualize_r16, pd.DataFrame({'Round_of_16': ['']})], ignore_index=True)\n",
    "\n",
    "visualize_r16['rest'] = ''\n",
    "\n",
    "splited_r16_index = len(visualize_r16) // 2\n",
    "print(splited_r16_index)\n",
    "display(visualize_r16)\n",
    "\n",
    "left_side_r16 = visualize_r16.iloc[:splited_r16_index + 1].reset_index(drop = True)\n",
    "right_side_r16 = visualize_r16.iloc[splited_r16_index - 1:].reset_index(drop = True)\n",
    "display(left_side_r16)\n",
    "display(right_side_r16)"
   ]
  },
  {
   "cell_type": "code",
   "execution_count": 0,
   "metadata": {
    "application/vnd.databricks.v1+cell": {
     "cellMetadata": {
      "byteLimit": 2048000,
      "rowLimit": 10000
     },
     "inputWidgets": {},
     "nuid": "24ae84d1-8146-4095-a61c-1cf1d311186e",
     "showTitle": false,
     "title": ""
    }
   },
   "outputs": [
    {
     "output_type": "display_data",
     "data": {
      "text/html": [
       "<style scoped>\n",
       "  .table-result-container {\n",
       "    max-height: 300px;\n",
       "    overflow: auto;\n",
       "  }\n",
       "  table, th, td {\n",
       "    border: 1px solid black;\n",
       "    border-collapse: collapse;\n",
       "  }\n",
       "  th, td {\n",
       "    padding: 5px;\n",
       "  }\n",
       "  th {\n",
       "    text-align: left;\n",
       "  }\n",
       "</style><div class='table-result-container'><table class='table-result'><thead style='background-color: white'><tr><th>Quater_Final</th><th>rest</th></tr></thead><tbody><tr><td></td><td></td></tr><tr><td></td><td></td></tr><tr><td></td><td></td></tr><tr><td></td><td></td></tr><tr><td>Sweden (0)</td><td></td></tr><tr><td>Switzerland (3)</td><td></td></tr><tr><td></td><td></td></tr><tr><td></td><td></td></tr><tr><td></td><td></td></tr><tr><td></td><td></td></tr><tr><td></td><td></td></tr><tr><td></td><td></td></tr><tr><td>Croatia (4)</td><td></td></tr><tr><td>Netherlands (3)</td><td></td></tr><tr><td></td><td></td></tr><tr><td></td><td></td></tr><tr><td></td><td></td></tr><tr><td></td><td></td></tr><tr><td></td><td></td></tr><tr><td></td><td></td></tr><tr><td>Turkey (0)</td><td></td></tr><tr><td>Spain (2)</td><td></td></tr><tr><td></td><td></td></tr><tr><td></td><td></td></tr><tr><td></td><td></td></tr><tr><td></td><td></td></tr><tr><td></td><td></td></tr><tr><td></td><td></td></tr><tr><td>North Macedonia (0)</td><td></td></tr><tr><td>England (2)</td><td></td></tr><tr><td></td><td></td></tr><tr><td></td><td></td></tr><tr><td></td><td></td></tr><tr><td></td><td></td></tr><tr><td></td><td></td></tr><tr><td></td><td></td></tr></tbody></table></div>"
      ]
     },
     "metadata": {
      "application/vnd.databricks.v1+output": {
       "addedWidgets": {},
       "aggData": [],
       "aggError": "",
       "aggOverflow": false,
       "aggSchema": [],
       "aggSeriesLimitReached": false,
       "aggType": "",
       "arguments": {},
       "columnCustomDisplayInfos": {},
       "data": [
        [
         "",
         ""
        ],
        [
         "",
         ""
        ],
        [
         "",
         ""
        ],
        [
         "",
         ""
        ],
        [
         "Sweden (0)",
         ""
        ],
        [
         "Switzerland (3)",
         ""
        ],
        [
         "",
         ""
        ],
        [
         "",
         ""
        ],
        [
         "",
         ""
        ],
        [
         "",
         ""
        ],
        [
         "",
         ""
        ],
        [
         "",
         ""
        ],
        [
         "Croatia (4)",
         ""
        ],
        [
         "Netherlands (3)",
         ""
        ],
        [
         "",
         ""
        ],
        [
         "",
         ""
        ],
        [
         "",
         ""
        ],
        [
         "",
         ""
        ],
        [
         "",
         ""
        ],
        [
         "",
         ""
        ],
        [
         "Turkey (0)",
         ""
        ],
        [
         "Spain (2)",
         ""
        ],
        [
         "",
         ""
        ],
        [
         "",
         ""
        ],
        [
         "",
         ""
        ],
        [
         "",
         ""
        ],
        [
         "",
         ""
        ],
        [
         "",
         ""
        ],
        [
         "North Macedonia (0)",
         ""
        ],
        [
         "England (2)",
         ""
        ],
        [
         "",
         ""
        ],
        [
         "",
         ""
        ],
        [
         "",
         ""
        ],
        [
         "",
         ""
        ],
        [
         "",
         ""
        ],
        [
         "",
         ""
        ]
       ],
       "datasetInfos": [],
       "dbfsResultPath": null,
       "isJsonSchema": true,
       "metadata": {},
       "overflow": false,
       "plotOptions": {
        "customPlotOptions": {},
        "displayType": "table",
        "pivotAggregation": null,
        "pivotColumns": null,
        "xColumns": null,
        "yColumns": null
       },
       "removedWidgets": [],
       "schema": [
        {
         "metadata": "{}",
         "name": "Quater_Final",
         "type": "\"string\""
        },
        {
         "metadata": "{}",
         "name": "rest",
         "type": "\"string\""
        }
       ],
       "type": "table"
      }
     },
     "output_type": "display_data"
    }
   ],
   "source": [
    "%python\n",
    "visualize_qf = pd.DataFrame(columns=['Quater_Final'])\n",
    "\n",
    "for _ in range(4):\n",
    "    visualize_qf = pd.concat([visualize_qf, pd.DataFrame({'Quater_Final': ['']})], ignore_index=True)\n",
    "\n",
    "for index, row in df_qf.iterrows():\n",
    "    visualize_qf = pd.concat([visualize_qf, pd.DataFrame({'Quater_Final': [f\"{row['team1']} ({row['team1score']})\"]})], ignore_index=True)\n",
    "    visualize_qf = pd.concat([visualize_qf, pd.DataFrame({'Quater_Final': [f\"{row['team2']} ({row['team2score']})\"]})], ignore_index=True)\n",
    "\n",
    "    for _ in range(6):\n",
    "        visualize_qf = pd.concat([visualize_qf, pd.DataFrame({'Quater_Final': ['']})], ignore_index=True)\n",
    "visualize_qf['rest'] = ''\n",
    "splited_qf_index = len(visualize_qf) // 2\n",
    "display(visualize_qf)"
   ]
  },
  {
   "cell_type": "code",
   "execution_count": 0,
   "metadata": {
    "application/vnd.databricks.v1+cell": {
     "cellMetadata": {
      "byteLimit": 2048000,
      "rowLimit": 10000
     },
     "inputWidgets": {},
     "nuid": "470cde15-6e27-4a57-83b7-4818f1c2f7e0",
     "showTitle": false,
     "title": ""
    }
   },
   "outputs": [
    {
     "output_type": "display_data",
     "data": {
      "text/html": [
       "<style scoped>\n",
       "  .table-result-container {\n",
       "    max-height: 300px;\n",
       "    overflow: auto;\n",
       "  }\n",
       "  table, th, td {\n",
       "    border: 1px solid black;\n",
       "    border-collapse: collapse;\n",
       "  }\n",
       "  th, td {\n",
       "    padding: 5px;\n",
       "  }\n",
       "  th {\n",
       "    text-align: left;\n",
       "  }\n",
       "</style><div class='table-result-container'><table class='table-result'><thead style='background-color: white'><tr><th>Quater_Final</th><th>rest</th></tr></thead><tbody><tr><td></td><td></td></tr><tr><td></td><td></td></tr><tr><td></td><td></td></tr><tr><td></td><td></td></tr><tr><td>Sweden (0)</td><td></td></tr><tr><td>Switzerland (3)</td><td></td></tr><tr><td></td><td></td></tr><tr><td></td><td></td></tr><tr><td></td><td></td></tr><tr><td></td><td></td></tr><tr><td></td><td></td></tr><tr><td></td><td></td></tr><tr><td>Croatia (4)</td><td></td></tr><tr><td>Netherlands (3)</td><td></td></tr><tr><td></td><td></td></tr><tr><td></td><td></td></tr><tr><td></td><td></td></tr><tr><td></td><td></td></tr></tbody></table></div>"
      ]
     },
     "metadata": {
      "application/vnd.databricks.v1+output": {
       "addedWidgets": {},
       "aggData": [],
       "aggError": "",
       "aggOverflow": false,
       "aggSchema": [],
       "aggSeriesLimitReached": false,
       "aggType": "",
       "arguments": {},
       "columnCustomDisplayInfos": {},
       "data": [
        [
         "",
         ""
        ],
        [
         "",
         ""
        ],
        [
         "",
         ""
        ],
        [
         "",
         ""
        ],
        [
         "Sweden (0)",
         ""
        ],
        [
         "Switzerland (3)",
         ""
        ],
        [
         "",
         ""
        ],
        [
         "",
         ""
        ],
        [
         "",
         ""
        ],
        [
         "",
         ""
        ],
        [
         "",
         ""
        ],
        [
         "",
         ""
        ],
        [
         "Croatia (4)",
         ""
        ],
        [
         "Netherlands (3)",
         ""
        ],
        [
         "",
         ""
        ],
        [
         "",
         ""
        ],
        [
         "",
         ""
        ],
        [
         "",
         ""
        ]
       ],
       "datasetInfos": [],
       "dbfsResultPath": null,
       "isJsonSchema": true,
       "metadata": {},
       "overflow": false,
       "plotOptions": {
        "customPlotOptions": {},
        "displayType": "table",
        "pivotAggregation": null,
        "pivotColumns": null,
        "xColumns": null,
        "yColumns": null
       },
       "removedWidgets": [],
       "schema": [
        {
         "metadata": "{}",
         "name": "Quater_Final",
         "type": "\"string\""
        },
        {
         "metadata": "{}",
         "name": "rest",
         "type": "\"string\""
        }
       ],
       "type": "table"
      }
     },
     "output_type": "display_data"
    },
    {
     "output_type": "display_data",
     "data": {
      "text/html": [
       "<style scoped>\n",
       "  .table-result-container {\n",
       "    max-height: 300px;\n",
       "    overflow: auto;\n",
       "  }\n",
       "  table, th, td {\n",
       "    border: 1px solid black;\n",
       "    border-collapse: collapse;\n",
       "  }\n",
       "  th, td {\n",
       "    padding: 5px;\n",
       "  }\n",
       "  th {\n",
       "    text-align: left;\n",
       "  }\n",
       "</style><div class='table-result-container'><table class='table-result'><thead style='background-color: white'><tr><th>Quater_Final</th><th>rest</th></tr></thead><tbody><tr><td></td><td></td></tr><tr><td></td><td></td></tr><tr><td></td><td></td></tr><tr><td></td><td></td></tr><tr><td>Turkey (0)</td><td></td></tr><tr><td>Spain (2)</td><td></td></tr><tr><td></td><td></td></tr><tr><td></td><td></td></tr><tr><td></td><td></td></tr><tr><td></td><td></td></tr><tr><td></td><td></td></tr><tr><td></td><td></td></tr><tr><td>North Macedonia (0)</td><td></td></tr><tr><td>England (2)</td><td></td></tr><tr><td></td><td></td></tr><tr><td></td><td></td></tr><tr><td></td><td></td></tr><tr><td></td><td></td></tr><tr><td></td><td></td></tr><tr><td></td><td></td></tr></tbody></table></div>"
      ]
     },
     "metadata": {
      "application/vnd.databricks.v1+output": {
       "addedWidgets": {},
       "aggData": [],
       "aggError": "",
       "aggOverflow": false,
       "aggSchema": [],
       "aggSeriesLimitReached": false,
       "aggType": "",
       "arguments": {},
       "columnCustomDisplayInfos": {},
       "data": [
        [
         "",
         ""
        ],
        [
         "",
         ""
        ],
        [
         "",
         ""
        ],
        [
         "",
         ""
        ],
        [
         "Turkey (0)",
         ""
        ],
        [
         "Spain (2)",
         ""
        ],
        [
         "",
         ""
        ],
        [
         "",
         ""
        ],
        [
         "",
         ""
        ],
        [
         "",
         ""
        ],
        [
         "",
         ""
        ],
        [
         "",
         ""
        ],
        [
         "North Macedonia (0)",
         ""
        ],
        [
         "England (2)",
         ""
        ],
        [
         "",
         ""
        ],
        [
         "",
         ""
        ],
        [
         "",
         ""
        ],
        [
         "",
         ""
        ],
        [
         "",
         ""
        ],
        [
         "",
         ""
        ]
       ],
       "datasetInfos": [],
       "dbfsResultPath": null,
       "isJsonSchema": true,
       "metadata": {},
       "overflow": false,
       "plotOptions": {
        "customPlotOptions": {},
        "displayType": "table",
        "pivotAggregation": null,
        "pivotColumns": null,
        "xColumns": null,
        "yColumns": null
       },
       "removedWidgets": [],
       "schema": [
        {
         "metadata": "{}",
         "name": "Quater_Final",
         "type": "\"string\""
        },
        {
         "metadata": "{}",
         "name": "rest",
         "type": "\"string\""
        }
       ],
       "type": "table"
      }
     },
     "output_type": "display_data"
    }
   ],
   "source": [
    "%python\n",
    "left_side_qf = pd.DataFrame(columns=['Quater_Final'])\n",
    "left_side_qf = pd.concat([left_side_qf,visualize_qf.iloc[:splited_qf_index]]).reset_index(drop=True)\n",
    "right_side_qf = pd.DataFrame(columns=['Quater_Final'])\n",
    "right_side_qf = pd.concat([right_side_qf,visualize_qf.iloc[splited_qf_index-2:]]).reset_index(drop=True)\n",
    "\n",
    "\n",
    "display(left_side_qf)\n",
    "display(right_side_qf)"
   ]
  },
  {
   "cell_type": "code",
   "execution_count": 0,
   "metadata": {
    "application/vnd.databricks.v1+cell": {
     "cellMetadata": {
      "byteLimit": 2048000,
      "rowLimit": 10000
     },
     "inputWidgets": {},
     "nuid": "0e2d9f7c-8a6f-4983-a415-7cb46df1e135",
     "showTitle": false,
     "title": ""
    }
   },
   "outputs": [
    {
     "output_type": "stream",
     "name": "stdout",
     "output_type": "stream",
     "text": [
      "12\n"
     ]
    },
    {
     "output_type": "display_data",
     "data": {
      "text/html": [
       "<style scoped>\n",
       "  .table-result-container {\n",
       "    max-height: 300px;\n",
       "    overflow: auto;\n",
       "  }\n",
       "  table, th, td {\n",
       "    border: 1px solid black;\n",
       "    border-collapse: collapse;\n",
       "  }\n",
       "  th, td {\n",
       "    padding: 5px;\n",
       "  }\n",
       "  th {\n",
       "    text-align: left;\n",
       "  }\n",
       "</style><div class='table-result-container'><table class='table-result'><thead style='background-color: white'><tr><th>Semi_Final</th><th>rest</th></tr></thead><tbody><tr><td></td><td></td></tr><tr><td></td><td></td></tr><tr><td></td><td></td></tr><tr><td></td><td></td></tr><tr><td></td><td></td></tr><tr><td></td><td></td></tr><tr><td></td><td></td></tr><tr><td></td><td></td></tr><tr><td>Turkey (1)</td><td></td></tr><tr><td>England (1)</td><td></td></tr><tr><td></td><td></td></tr><tr><td></td><td></td></tr><tr><td></td><td></td></tr><tr><td></td><td></td></tr><tr><td></td><td></td></tr><tr><td></td><td></td></tr><tr><td>Sweden (2)</td><td></td></tr><tr><td>Netherlands (5)</td><td></td></tr><tr><td></td><td></td></tr><tr><td></td><td></td></tr><tr><td></td><td></td></tr><tr><td></td><td></td></tr><tr><td></td><td></td></tr><tr><td></td><td></td></tr></tbody></table></div>"
      ]
     },
     "metadata": {
      "application/vnd.databricks.v1+output": {
       "addedWidgets": {},
       "aggData": [],
       "aggError": "",
       "aggOverflow": false,
       "aggSchema": [],
       "aggSeriesLimitReached": false,
       "aggType": "",
       "arguments": {},
       "columnCustomDisplayInfos": {},
       "data": [
        [
         "",
         ""
        ],
        [
         "",
         ""
        ],
        [
         "",
         ""
        ],
        [
         "",
         ""
        ],
        [
         "",
         ""
        ],
        [
         "",
         ""
        ],
        [
         "",
         ""
        ],
        [
         "",
         ""
        ],
        [
         "Turkey (1)",
         ""
        ],
        [
         "England (1)",
         ""
        ],
        [
         "",
         ""
        ],
        [
         "",
         ""
        ],
        [
         "",
         ""
        ],
        [
         "",
         ""
        ],
        [
         "",
         ""
        ],
        [
         "",
         ""
        ],
        [
         "Sweden (2)",
         ""
        ],
        [
         "Netherlands (5)",
         ""
        ],
        [
         "",
         ""
        ],
        [
         "",
         ""
        ],
        [
         "",
         ""
        ],
        [
         "",
         ""
        ],
        [
         "",
         ""
        ],
        [
         "",
         ""
        ]
       ],
       "datasetInfos": [],
       "dbfsResultPath": null,
       "isJsonSchema": true,
       "metadata": {},
       "overflow": false,
       "plotOptions": {
        "customPlotOptions": {},
        "displayType": "table",
        "pivotAggregation": null,
        "pivotColumns": null,
        "xColumns": null,
        "yColumns": null
       },
       "removedWidgets": [],
       "schema": [
        {
         "metadata": "{}",
         "name": "Semi_Final",
         "type": "\"string\""
        },
        {
         "metadata": "{}",
         "name": "rest",
         "type": "\"string\""
        }
       ],
       "type": "table"
      }
     },
     "output_type": "display_data"
    }
   ],
   "source": [
    "%python\n",
    "visualize_sf = pd.DataFrame(columns=['Semi_Final'])\n",
    "\n",
    "for _ in range(8):\n",
    "    visualize_sf = pd.concat([visualize_sf, pd.DataFrame({'Semi_Final': ['']})], ignore_index=True)\n",
    "\n",
    "for index, row in df_sf.iterrows():\n",
    "    visualize_sf = pd.concat([visualize_sf, pd.DataFrame({'Semi_Final': [f\"{row['team1']} ({row['team1score']})\"]})], ignore_index=True)\n",
    "    visualize_sf = pd.concat([visualize_sf, pd.DataFrame({'Semi_Final': [f\"{row['team2']} ({row['team2score']})\"]})], ignore_index=True)\n",
    "    for _ in range(6):\n",
    "        visualize_sf = pd.concat([visualize_sf, pd.DataFrame({'Semi_Final': ['']})], ignore_index=True)\n",
    "visualize_sf['rest'] = ''\n",
    "splited_sf_index = len(visualize_sf) // 2\n",
    "print(splited_sf_index)\n",
    "display(visualize_sf)\n"
   ]
  },
  {
   "cell_type": "code",
   "execution_count": 0,
   "metadata": {
    "application/vnd.databricks.v1+cell": {
     "cellMetadata": {
      "byteLimit": 2048000,
      "rowLimit": 10000
     },
     "inputWidgets": {},
     "nuid": "58fe4b72-25b6-4270-bb7b-8df7c3a713a0",
     "showTitle": false,
     "title": ""
    }
   },
   "outputs": [
    {
     "output_type": "display_data",
     "data": {
      "text/html": [
       "<style scoped>\n",
       "  .table-result-container {\n",
       "    max-height: 300px;\n",
       "    overflow: auto;\n",
       "  }\n",
       "  table, th, td {\n",
       "    border: 1px solid black;\n",
       "    border-collapse: collapse;\n",
       "  }\n",
       "  th, td {\n",
       "    padding: 5px;\n",
       "  }\n",
       "  th {\n",
       "    text-align: left;\n",
       "  }\n",
       "</style><div class='table-result-container'><table class='table-result'><thead style='background-color: white'><tr><th>Semi_Final</th><th>rest</th></tr></thead><tbody><tr><td></td><td></td></tr><tr><td></td><td></td></tr><tr><td></td><td></td></tr><tr><td></td><td></td></tr><tr><td></td><td></td></tr><tr><td></td><td></td></tr><tr><td></td><td></td></tr><tr><td></td><td></td></tr><tr><td>Turkey (1)</td><td></td></tr><tr><td>England (1)</td><td></td></tr><tr><td></td><td></td></tr><tr><td></td><td></td></tr><tr><td></td><td></td></tr><tr><td></td><td></td></tr><tr><td></td><td></td></tr><tr><td></td><td></td></tr><tr><td></td><td></td></tr></tbody></table></div>"
      ]
     },
     "metadata": {
      "application/vnd.databricks.v1+output": {
       "addedWidgets": {},
       "aggData": [],
       "aggError": "",
       "aggOverflow": false,
       "aggSchema": [],
       "aggSeriesLimitReached": false,
       "aggType": "",
       "arguments": {},
       "columnCustomDisplayInfos": {},
       "data": [
        [
         "",
         ""
        ],
        [
         "",
         ""
        ],
        [
         "",
         ""
        ],
        [
         "",
         ""
        ],
        [
         "",
         ""
        ],
        [
         "",
         ""
        ],
        [
         "",
         ""
        ],
        [
         "",
         ""
        ],
        [
         "Turkey (1)",
         ""
        ],
        [
         "England (1)",
         ""
        ],
        [
         "",
         ""
        ],
        [
         "",
         ""
        ],
        [
         "",
         ""
        ],
        [
         "",
         ""
        ],
        [
         "",
         ""
        ],
        [
         "",
         ""
        ],
        [
         "",
         ""
        ]
       ],
       "datasetInfos": [],
       "dbfsResultPath": null,
       "isJsonSchema": true,
       "metadata": {},
       "overflow": false,
       "plotOptions": {
        "customPlotOptions": {},
        "displayType": "table",
        "pivotAggregation": null,
        "pivotColumns": null,
        "xColumns": null,
        "yColumns": null
       },
       "removedWidgets": [],
       "schema": [
        {
         "metadata": "{}",
         "name": "Semi_Final",
         "type": "\"string\""
        },
        {
         "metadata": "{}",
         "name": "rest",
         "type": "\"string\""
        }
       ],
       "type": "table"
      }
     },
     "output_type": "display_data"
    },
    {
     "output_type": "display_data",
     "data": {
      "text/html": [
       "<style scoped>\n",
       "  .table-result-container {\n",
       "    max-height: 300px;\n",
       "    overflow: auto;\n",
       "  }\n",
       "  table, th, td {\n",
       "    border: 1px solid black;\n",
       "    border-collapse: collapse;\n",
       "  }\n",
       "  th, td {\n",
       "    padding: 5px;\n",
       "  }\n",
       "  th {\n",
       "    text-align: left;\n",
       "  }\n",
       "</style><div class='table-result-container'><table class='table-result'><thead style='background-color: white'><tr><th>Semi_Final</th><th>rest</th></tr></thead><tbody><tr><td></td><td></td></tr><tr><td></td><td></td></tr><tr><td></td><td></td></tr><tr><td></td><td></td></tr><tr><td></td><td></td></tr><tr><td></td><td></td></tr><tr><td></td><td></td></tr><tr><td></td><td></td></tr><tr><td>Sweden (2)</td><td></td></tr><tr><td>Netherlands (5)</td><td></td></tr><tr><td></td><td></td></tr><tr><td></td><td></td></tr><tr><td></td><td></td></tr><tr><td></td><td></td></tr><tr><td></td><td></td></tr><tr><td></td><td></td></tr></tbody></table></div>"
      ]
     },
     "metadata": {
      "application/vnd.databricks.v1+output": {
       "addedWidgets": {},
       "aggData": [],
       "aggError": "",
       "aggOverflow": false,
       "aggSchema": [],
       "aggSeriesLimitReached": false,
       "aggType": "",
       "arguments": {},
       "columnCustomDisplayInfos": {},
       "data": [
        [
         "",
         ""
        ],
        [
         "",
         ""
        ],
        [
         "",
         ""
        ],
        [
         "",
         ""
        ],
        [
         "",
         ""
        ],
        [
         "",
         ""
        ],
        [
         "",
         ""
        ],
        [
         "",
         ""
        ],
        [
         "Sweden (2)",
         ""
        ],
        [
         "Netherlands (5)",
         ""
        ],
        [
         "",
         ""
        ],
        [
         "",
         ""
        ],
        [
         "",
         ""
        ],
        [
         "",
         ""
        ],
        [
         "",
         ""
        ],
        [
         "",
         ""
        ]
       ],
       "datasetInfos": [],
       "dbfsResultPath": null,
       "isJsonSchema": true,
       "metadata": {},
       "overflow": false,
       "plotOptions": {
        "customPlotOptions": {},
        "displayType": "table",
        "pivotAggregation": null,
        "pivotColumns": null,
        "xColumns": null,
        "yColumns": null
       },
       "removedWidgets": [],
       "schema": [
        {
         "metadata": "{}",
         "name": "Semi_Final",
         "type": "\"string\""
        },
        {
         "metadata": "{}",
         "name": "rest",
         "type": "\"string\""
        }
       ],
       "type": "table"
      }
     },
     "output_type": "display_data"
    }
   ],
   "source": [
    "%python\n",
    "left_side_sf = pd.DataFrame(columns=['Semi_Final'])\n",
    "left_side_sf = pd.concat([left_side_sf, visualize_sf.iloc[:splited_sf_index]]).reset_index(drop=True)\n",
    "\n",
    "for _ in range(5):\n",
    "    left_side_sf = pd.concat([left_side_sf, pd.DataFrame({'Semi_Final': [''], 'rest': ['']})], ignore_index=True)\n",
    "\n",
    "right_side_sf = pd.DataFrame({'Semi_Final': [''] * 7, 'rest': [''] * 7})\n",
    "right_side_sf = pd.concat([right_side_sf, visualize_sf.iloc[splited_sf_index+3:]]).reset_index(drop=True)\n",
    "display(left_side_sf)\n",
    "display(right_side_sf)\n",
    "     "
   ]
  },
  {
   "cell_type": "code",
   "execution_count": 0,
   "metadata": {
    "application/vnd.databricks.v1+cell": {
     "cellMetadata": {
      "byteLimit": 2048000,
      "rowLimit": 10000
     },
     "inputWidgets": {},
     "nuid": "cbbb6bd6-0646-4aa8-a846-c824f8c03006",
     "showTitle": false,
     "title": ""
    }
   },
   "outputs": [
    {
     "output_type": "display_data",
     "data": {
      "text/html": [
       "<style scoped>\n",
       "  .table-result-container {\n",
       "    max-height: 300px;\n",
       "    overflow: auto;\n",
       "  }\n",
       "  table, th, td {\n",
       "    border: 1px solid black;\n",
       "    border-collapse: collapse;\n",
       "  }\n",
       "  th, td {\n",
       "    padding: 5px;\n",
       "  }\n",
       "  th {\n",
       "    text-align: left;\n",
       "  }\n",
       "</style><div class='table-result-container'><table class='table-result'><thead style='background-color: white'><tr><th>Final</th><th>rest</th></tr></thead><tbody><tr><td></td><td></td></tr><tr><td></td><td></td></tr><tr><td></td><td></td></tr><tr><td></td><td></td></tr><tr><td></td><td></td></tr><tr><td></td><td></td></tr><tr><td></td><td></td></tr><tr><td></td><td></td></tr><tr><td>Sweden (1)</td><td></td></tr><tr><td>England (1)</td><td></td></tr><tr><td>Winner: England</td><td></td></tr></tbody></table></div>"
      ]
     },
     "metadata": {
      "application/vnd.databricks.v1+output": {
       "addedWidgets": {},
       "aggData": [],
       "aggError": "",
       "aggOverflow": false,
       "aggSchema": [],
       "aggSeriesLimitReached": false,
       "aggType": "",
       "arguments": {},
       "columnCustomDisplayInfos": {},
       "data": [
        [
         "",
         ""
        ],
        [
         "",
         ""
        ],
        [
         "",
         ""
        ],
        [
         "",
         ""
        ],
        [
         "",
         ""
        ],
        [
         "",
         ""
        ],
        [
         "",
         ""
        ],
        [
         "",
         ""
        ],
        [
         "Sweden (1)",
         ""
        ],
        [
         "England (1)",
         ""
        ],
        [
         "Winner: England",
         ""
        ]
       ],
       "datasetInfos": [],
       "dbfsResultPath": null,
       "isJsonSchema": true,
       "metadata": {},
       "overflow": false,
       "plotOptions": {
        "customPlotOptions": {},
        "displayType": "table",
        "pivotAggregation": null,
        "pivotColumns": null,
        "xColumns": null,
        "yColumns": null
       },
       "removedWidgets": [],
       "schema": [
        {
         "metadata": "{}",
         "name": "Final",
         "type": "\"string\""
        },
        {
         "metadata": "{}",
         "name": "rest",
         "type": "\"string\""
        }
       ],
       "type": "table"
      }
     },
     "output_type": "display_data"
    }
   ],
   "source": [
    "%python\n",
    "\n",
    "visualize_final = pd.DataFrame(columns=['Final'])\n",
    "\n",
    "for _ in range(8):\n",
    "    visualize_final = pd.concat([visualize_final, pd.DataFrame({'Final': ['']})], ignore_index=True)\n",
    "\n",
    "for index, row in df_final.iterrows():\n",
    "    winner = ''\n",
    "    \n",
    "    if row['team1score'] > row['team2score']:\n",
    "        winner = row['team1']\n",
    "    else:\n",
    "        winner = row['team2']\n",
    "\n",
    "    visualize_final = pd.concat([visualize_final, pd.DataFrame({'Final': [f\"{row['team1']} ({row['team1score']})\"]})], ignore_index=True)\n",
    "    visualize_final = pd.concat([visualize_final, pd.DataFrame({'Final': [f\"{row['team2']} ({row['team2score']})\"]})], ignore_index=True)\n",
    "    visualize_final = pd.concat([visualize_final, pd.DataFrame({'Final': [f\"Winner: {winner}\"]})], ignore_index=True)\n",
    "\n",
    "visualize_final['rest']= ''\n",
    "display(visualize_final)\n",
    "\n"
   ]
  },
  {
   "cell_type": "code",
   "execution_count": 0,
   "metadata": {
    "application/vnd.databricks.v1+cell": {
     "cellMetadata": {
      "byteLimit": 2048000,
      "rowLimit": 10000
     },
     "inputWidgets": {},
     "nuid": "920774e7-34ad-4f57-ae3b-8b0037439eef",
     "showTitle": false,
     "title": ""
    }
   },
   "outputs": [
    {
     "output_type": "display_data",
     "data": {
      "text/html": [
       "<style scoped>\n",
       "  .table-result-container {\n",
       "    max-height: 300px;\n",
       "    overflow: auto;\n",
       "  }\n",
       "  table, th, td {\n",
       "    border: 1px solid black;\n",
       "    border-collapse: collapse;\n",
       "  }\n",
       "  th, td {\n",
       "    padding: 5px;\n",
       "  }\n",
       "  th {\n",
       "    text-align: left;\n",
       "  }\n",
       "</style><div class='table-result-container'><table class='table-result'><thead style='background-color: white'><tr><th>Teamsg1</th><th>Groupg1</th><th>Pldg1</th><th>Wg1</th><th>Dg1</th><th>Lg1</th><th>GFg1</th><th>GAg1</th><th>GDg1</th><th>Ptsg1</th><th>Round_of_16</th><th>rest</th><th>Quater_Finalq2</th><th>restq2</th><th>Semi_Finals1</th><th>rests1</th><th>Finalf</th><th>restf</th><th>Semi_Finals2</th><th>rests2</th><th>Quater_Finalq1</th><th>restq1</th><th>Round_of_16r2</th><th>restr2</th><th>Teamsg2</th><th>Groupg2</th><th>Pldg2</th><th>Wg2</th><th>Dg2</th><th>Lg2</th><th>GFg2</th><th>GAg2</th><th>GDg2</th><th>Ptsg2</th></tr></thead><tbody><tr><td></td><td></td><td></td><td></td><td></td><td></td><td></td><td></td><td></td><td></td><td></td><td></td><td></td><td></td><td></td><td></td><td></td><td></td><td></td><td></td><td></td><td></td><td></td><td></td><td></td><td></td><td></td><td></td><td></td><td></td><td></td><td></td><td></td><td></td></tr><tr><td>Germany</td><td>A</td><td>3</td><td>2</td><td>0</td><td>1</td><td>8</td><td>7</td><td>1</td><td>6</td><td></td><td></td><td></td><td></td><td></td><td></td><td></td><td></td><td></td><td></td><td></td><td></td><td></td><td></td><td>Belgium</td><td>D</td><td>3</td><td>1</td><td>1</td><td>1</td><td>10</td><td>12</td><td>-2</td><td>4</td></tr><tr><td>Hungary</td><td>A</td><td>3</td><td>1</td><td>1</td><td>1</td><td>12</td><td>13</td><td>-1</td><td>4</td><td>Germany (0)</td><td></td><td></td><td></td><td></td><td></td><td></td><td></td><td></td><td></td><td></td><td></td><td>Croatia (4)</td><td></td><td>Denmark</td><td>D</td><td>3</td><td>3</td><td>0</td><td>0</td><td>16</td><td>7</td><td>9</td><td>9</td></tr><tr><td>France</td><td>A</td><td>3</td><td>1</td><td>0</td><td>2</td><td>8</td><td>10</td><td>-2</td><td>3</td><td>Switzerland (4)</td><td></td><td></td><td></td><td></td><td></td><td></td><td></td><td></td><td></td><td></td><td></td><td>Italy (3)</td><td></td><td>Finland</td><td>D</td><td>3</td><td>0</td><td>1</td><td>2</td><td>9</td><td>16</td><td>-7</td><td>1</td></tr><tr><td>Portugal</td><td>A</td><td>3</td><td>1</td><td>1</td><td>1</td><td>10</td><td>8</td><td>2</td><td>4</td><td></td><td></td><td>Sweden (0)</td><td></td><td></td><td></td><td></td><td></td><td></td><td></td><td>Turkey (0)</td><td></td><td></td><td></td><td>Russia</td><td>D</td><td>3</td><td>1</td><td>0</td><td>2</td><td>11</td><td>11</td><td>0</td><td>3</td></tr><tr><td></td><td></td><td></td><td></td><td></td><td></td><td></td><td></td><td></td><td></td><td></td><td></td><td>Switzerland (3)</td><td></td><td></td><td></td><td></td><td></td><td></td><td></td><td>Spain (2)</td><td></td><td></td><td></td><td></td><td></td><td></td><td></td><td></td><td></td><td></td><td></td><td></td><td></td></tr><tr><td>Slovakia</td><td>B</td><td>3</td><td>1</td><td>1</td><td>1</td><td>10</td><td>13</td><td>-3</td><td>4</td><td>Portugal (2)</td><td></td><td></td><td></td><td></td><td></td><td></td><td></td><td></td><td></td><td></td><td></td><td>Belgium (5)</td><td></td><td>Netherlands</td><td>E</td><td>3</td><td>1</td><td>1</td><td>1</td><td>13</td><td>9</td><td>4</td><td>4</td></tr><tr><td>Sweden</td><td>B</td><td>3</td><td>2</td><td>1</td><td>0</td><td>16</td><td>10</td><td>6</td><td>7</td><td>Spain (3)</td><td></td><td></td><td></td><td></td><td></td><td></td><td></td><td></td><td></td><td></td><td></td><td>Netherlands (3)</td><td></td><td>Austria</td><td>E</td><td>3</td><td>1</td><td>1</td><td>1</td><td>7</td><td>9</td><td>-2</td><td>4</td></tr><tr><td>Spain</td><td>B</td><td>3</td><td>2</td><td>0</td><td>1</td><td>14</td><td>10</td><td>4</td><td>6</td><td></td><td></td><td></td><td></td><td>Turkey (1)</td><td></td><td>Sweden (1)</td><td></td><td>Sweden (2)</td><td></td><td></td><td></td><td></td><td></td><td>Ukraine</td><td>E</td><td>3</td><td>0</td><td>2</td><td>1</td><td>6</td><td>9</td><td>-3</td><td>2</td></tr><tr><td>Poland</td><td>B</td><td>3</td><td>0</td><td>0</td><td>3</td><td>7</td><td>14</td><td>-7</td><td>0</td><td></td><td></td><td></td><td></td><td>England (1)</td><td></td><td>England (1)</td><td></td><td>Netherlands (5)</td><td></td><td></td><td></td><td></td><td></td><td>North Macedonia</td><td>E</td><td>3</td><td>2</td><td>0</td><td>1</td><td>10</td><td>9</td><td>1</td><td>6</td></tr><tr><td></td><td></td><td></td><td></td><td></td><td></td><td></td><td></td><td></td><td></td><td>Sweden (5)</td><td></td><td></td><td></td><td></td><td></td><td>Winner: England</td><td></td><td></td><td></td><td></td><td></td><td>North Macedonia (5)</td><td></td><td></td><td></td><td></td><td></td><td></td><td></td><td></td><td></td><td></td><td></td></tr><tr><td>Switzerland</td><td>C</td><td>3</td><td>2</td><td>0</td><td>1</td><td>11</td><td>12</td><td>-1</td><td>6</td><td>Hungary (1)</td><td></td><td></td><td></td><td></td><td></td><td></td><td></td><td></td><td></td><td></td><td></td><td>Slovakia (3)</td><td></td><td>Croatia</td><td>F</td><td>3</td><td>2</td><td>1</td><td>0</td><td>10</td><td>8</td><td>2</td><td>7</td></tr><tr><td>Turkey</td><td>C</td><td>3</td><td>2</td><td>0</td><td>1</td><td>11</td><td>9</td><td>2</td><td>6</td><td></td><td></td><td>Croatia (4)</td><td></td><td></td><td></td><td></td><td></td><td></td><td></td><td>North Macedonia (0)</td><td></td><td></td><td></td><td>Scotland</td><td>F</td><td>3</td><td>1</td><td>0</td><td>2</td><td>9</td><td>7</td><td>2</td><td>3</td></tr><tr><td>Wales</td><td>C</td><td>3</td><td>1</td><td>0</td><td>2</td><td>11</td><td>12</td><td>-1</td><td>3</td><td></td><td></td><td>Netherlands (3)</td><td></td><td></td><td></td><td></td><td></td><td></td><td></td><td>England (2)</td><td></td><td></td><td></td><td>Czech Republic</td><td>F</td><td>3</td><td>0</td><td>1</td><td>2</td><td>4</td><td>13</td><td>-9</td><td>1</td></tr><tr><td>Italy</td><td>C</td><td>3</td><td>1</td><td>0</td><td>2</td><td>11</td><td>11</td><td>0</td><td>3</td><td>Turkey (1)</td><td></td><td></td><td></td><td></td><td></td><td></td><td></td><td></td><td></td><td></td><td></td><td>Belgium (4)</td><td></td><td>England</td><td>F</td><td>3</td><td>2</td><td>0</td><td>1</td><td>13</td><td>8</td><td>5</td><td>6</td></tr><tr><td></td><td></td><td></td><td></td><td></td><td></td><td></td><td></td><td></td><td></td><td>Russia (1)</td><td></td><td></td><td></td><td></td><td></td><td></td><td></td><td></td><td></td><td></td><td></td><td>England (3)</td><td></td><td></td><td></td><td></td><td></td><td></td><td></td><td></td><td></td><td></td><td></td></tr><tr><td></td><td></td><td></td><td></td><td></td><td></td><td></td><td></td><td></td><td></td><td></td><td></td><td></td><td></td><td></td><td></td><td></td><td></td><td></td><td></td><td></td><td></td><td></td><td></td><td></td><td></td><td></td><td></td><td></td><td></td><td></td><td></td><td></td><td></td></tr><tr><td></td><td></td><td></td><td></td><td></td><td></td><td></td><td></td><td></td><td></td><td></td><td></td><td></td><td></td><td></td><td></td><td></td><td></td><td></td><td></td><td></td><td></td><td></td><td></td><td></td><td></td><td></td><td></td><td></td><td></td><td></td><td></td><td></td><td></td></tr><tr><td></td><td></td><td></td><td></td><td></td><td></td><td></td><td></td><td></td><td></td><td></td><td></td><td></td><td></td><td></td><td></td><td></td><td></td><td></td><td></td><td></td><td></td><td></td><td></td><td></td><td></td><td></td><td></td><td></td><td></td><td></td><td></td><td></td><td></td></tr><tr><td></td><td></td><td></td><td></td><td></td><td></td><td></td><td></td><td></td><td></td><td></td><td></td><td></td><td></td><td></td><td></td><td></td><td></td><td></td><td></td><td></td><td></td><td></td><td></td><td></td><td></td><td></td><td></td><td></td><td></td><td></td><td></td><td></td><td></td></tr></tbody></table></div>"
      ]
     },
     "metadata": {
      "application/vnd.databricks.v1+output": {
       "addedWidgets": {},
       "aggData": [],
       "aggError": "",
       "aggOverflow": false,
       "aggSchema": [],
       "aggSeriesLimitReached": false,
       "aggType": "",
       "arguments": {},
       "columnCustomDisplayInfos": {},
       "data": [
        [
         "",
         "",
         "",
         "",
         "",
         "",
         "",
         "",
         "",
         "",
         "",
         "",
         "",
         "",
         "",
         "",
         "",
         "",
         "",
         "",
         "",
         "",
         "",
         "",
         "",
         "",
         "",
         "",
         "",
         "",
         "",
         "",
         "",
         ""
        ],
        [
         "Germany",
         "A",
         "3",
         "2",
         "0",
         "1",
         "8",
         "7",
         "1",
         "6",
         "",
         "",
         "",
         "",
         "",
         "",
         "",
         "",
         "",
         "",
         "",
         "",
         "",
         "",
         "Belgium",
         "D",
         "3",
         "1",
         "1",
         "1",
         "10",
         "12",
         "-2",
         "4"
        ],
        [
         "Hungary",
         "A",
         "3",
         "1",
         "1",
         "1",
         "12",
         "13",
         "-1",
         "4",
         "Germany (0)",
         "",
         "",
         "",
         "",
         "",
         "",
         "",
         "",
         "",
         "",
         "",
         "Croatia (4)",
         "",
         "Denmark",
         "D",
         "3",
         "3",
         "0",
         "0",
         "16",
         "7",
         "9",
         "9"
        ],
        [
         "France",
         "A",
         "3",
         "1",
         "0",
         "2",
         "8",
         "10",
         "-2",
         "3",
         "Switzerland (4)",
         "",
         "",
         "",
         "",
         "",
         "",
         "",
         "",
         "",
         "",
         "",
         "Italy (3)",
         "",
         "Finland",
         "D",
         "3",
         "0",
         "1",
         "2",
         "9",
         "16",
         "-7",
         "1"
        ],
        [
         "Portugal",
         "A",
         "3",
         "1",
         "1",
         "1",
         "10",
         "8",
         "2",
         "4",
         "",
         "",
         "Sweden (0)",
         "",
         "",
         "",
         "",
         "",
         "",
         "",
         "Turkey (0)",
         "",
         "",
         "",
         "Russia",
         "D",
         "3",
         "1",
         "0",
         "2",
         "11",
         "11",
         "0",
         "3"
        ],
        [
         "",
         "",
         "",
         "",
         "",
         "",
         "",
         "",
         "",
         "",
         "",
         "",
         "Switzerland (3)",
         "",
         "",
         "",
         "",
         "",
         "",
         "",
         "Spain (2)",
         "",
         "",
         "",
         "",
         "",
         "",
         "",
         "",
         "",
         "",
         "",
         "",
         ""
        ],
        [
         "Slovakia",
         "B",
         "3",
         "1",
         "1",
         "1",
         "10",
         "13",
         "-3",
         "4",
         "Portugal (2)",
         "",
         "",
         "",
         "",
         "",
         "",
         "",
         "",
         "",
         "",
         "",
         "Belgium (5)",
         "",
         "Netherlands",
         "E",
         "3",
         "1",
         "1",
         "1",
         "13",
         "9",
         "4",
         "4"
        ],
        [
         "Sweden",
         "B",
         "3",
         "2",
         "1",
         "0",
         "16",
         "10",
         "6",
         "7",
         "Spain (3)",
         "",
         "",
         "",
         "",
         "",
         "",
         "",
         "",
         "",
         "",
         "",
         "Netherlands (3)",
         "",
         "Austria",
         "E",
         "3",
         "1",
         "1",
         "1",
         "7",
         "9",
         "-2",
         "4"
        ],
        [
         "Spain",
         "B",
         "3",
         "2",
         "0",
         "1",
         "14",
         "10",
         "4",
         "6",
         "",
         "",
         "",
         "",
         "Turkey (1)",
         "",
         "Sweden (1)",
         "",
         "Sweden (2)",
         "",
         "",
         "",
         "",
         "",
         "Ukraine",
         "E",
         "3",
         "0",
         "2",
         "1",
         "6",
         "9",
         "-3",
         "2"
        ],
        [
         "Poland",
         "B",
         "3",
         "0",
         "0",
         "3",
         "7",
         "14",
         "-7",
         "0",
         "",
         "",
         "",
         "",
         "England (1)",
         "",
         "England (1)",
         "",
         "Netherlands (5)",
         "",
         "",
         "",
         "",
         "",
         "North Macedonia",
         "E",
         "3",
         "2",
         "0",
         "1",
         "10",
         "9",
         "1",
         "6"
        ],
        [
         "",
         "",
         "",
         "",
         "",
         "",
         "",
         "",
         "",
         "",
         "Sweden (5)",
         "",
         "",
         "",
         "",
         "",
         "Winner: England",
         "",
         "",
         "",
         "",
         "",
         "North Macedonia (5)",
         "",
         "",
         "",
         "",
         "",
         "",
         "",
         "",
         "",
         "",
         ""
        ],
        [
         "Switzerland",
         "C",
         "3",
         "2",
         "0",
         "1",
         "11",
         "12",
         "-1",
         "6",
         "Hungary (1)",
         "",
         "",
         "",
         "",
         "",
         "",
         "",
         "",
         "",
         "",
         "",
         "Slovakia (3)",
         "",
         "Croatia",
         "F",
         "3",
         "2",
         "1",
         "0",
         "10",
         "8",
         "2",
         "7"
        ],
        [
         "Turkey",
         "C",
         "3",
         "2",
         "0",
         "1",
         "11",
         "9",
         "2",
         "6",
         "",
         "",
         "Croatia (4)",
         "",
         "",
         "",
         "",
         "",
         "",
         "",
         "North Macedonia (0)",
         "",
         "",
         "",
         "Scotland",
         "F",
         "3",
         "1",
         "0",
         "2",
         "9",
         "7",
         "2",
         "3"
        ],
        [
         "Wales",
         "C",
         "3",
         "1",
         "0",
         "2",
         "11",
         "12",
         "-1",
         "3",
         "",
         "",
         "Netherlands (3)",
         "",
         "",
         "",
         "",
         "",
         "",
         "",
         "England (2)",
         "",
         "",
         "",
         "Czech Republic",
         "F",
         "3",
         "0",
         "1",
         "2",
         "4",
         "13",
         "-9",
         "1"
        ],
        [
         "Italy",
         "C",
         "3",
         "1",
         "0",
         "2",
         "11",
         "11",
         "0",
         "3",
         "Turkey (1)",
         "",
         "",
         "",
         "",
         "",
         "",
         "",
         "",
         "",
         "",
         "",
         "Belgium (4)",
         "",
         "England",
         "F",
         "3",
         "2",
         "0",
         "1",
         "13",
         "8",
         "5",
         "6"
        ],
        [
         "",
         "",
         "",
         "",
         "",
         "",
         "",
         "",
         "",
         "",
         "Russia (1)",
         "",
         "",
         "",
         "",
         "",
         "",
         "",
         "",
         "",
         "",
         "",
         "England (3)",
         "",
         "",
         "",
         "",
         "",
         "",
         "",
         "",
         "",
         "",
         ""
        ],
        [
         "",
         "",
         "",
         "",
         "",
         "",
         "",
         "",
         "",
         "",
         "",
         "",
         "",
         "",
         "",
         "",
         "",
         "",
         "",
         "",
         "",
         "",
         "",
         "",
         "",
         "",
         "",
         "",
         "",
         "",
         "",
         "",
         "",
         ""
        ],
        [
         "",
         "",
         "",
         "",
         "",
         "",
         "",
         "",
         "",
         "",
         "",
         "",
         "",
         "",
         "",
         "",
         "",
         "",
         "",
         "",
         "",
         "",
         "",
         "",
         "",
         "",
         "",
         "",
         "",
         "",
         "",
         "",
         "",
         ""
        ],
        [
         "",
         "",
         "",
         "",
         "",
         "",
         "",
         "",
         "",
         "",
         "",
         "",
         "",
         "",
         "",
         "",
         "",
         "",
         "",
         "",
         "",
         "",
         "",
         "",
         "",
         "",
         "",
         "",
         "",
         "",
         "",
         "",
         "",
         ""
        ],
        [
         "",
         "",
         "",
         "",
         "",
         "",
         "",
         "",
         "",
         "",
         "",
         "",
         "",
         "",
         "",
         "",
         "",
         "",
         "",
         "",
         "",
         "",
         "",
         "",
         "",
         "",
         "",
         "",
         "",
         "",
         "",
         "",
         "",
         ""
        ]
       ],
       "datasetInfos": [],
       "dbfsResultPath": null,
       "isJsonSchema": true,
       "metadata": {},
       "overflow": false,
       "plotOptions": {
        "customPlotOptions": {},
        "displayType": "table",
        "pivotAggregation": null,
        "pivotColumns": null,
        "xColumns": null,
        "yColumns": null
       },
       "removedWidgets": [],
       "schema": [
        {
         "metadata": "{}",
         "name": "Teamsg1",
         "type": "\"string\""
        },
        {
         "metadata": "{}",
         "name": "Groupg1",
         "type": "\"string\""
        },
        {
         "metadata": "{}",
         "name": "Pldg1",
         "type": "\"string\""
        },
        {
         "metadata": "{}",
         "name": "Wg1",
         "type": "\"string\""
        },
        {
         "metadata": "{}",
         "name": "Dg1",
         "type": "\"string\""
        },
        {
         "metadata": "{}",
         "name": "Lg1",
         "type": "\"string\""
        },
        {
         "metadata": "{}",
         "name": "GFg1",
         "type": "\"string\""
        },
        {
         "metadata": "{}",
         "name": "GAg1",
         "type": "\"string\""
        },
        {
         "metadata": "{}",
         "name": "GDg1",
         "type": "\"string\""
        },
        {
         "metadata": "{}",
         "name": "Ptsg1",
         "type": "\"string\""
        },
        {
         "metadata": "{}",
         "name": "Round_of_16",
         "type": "\"string\""
        },
        {
         "metadata": "{}",
         "name": "rest",
         "type": "\"string\""
        },
        {
         "metadata": "{}",
         "name": "Quater_Finalq2",
         "type": "\"string\""
        },
        {
         "metadata": "{}",
         "name": "restq2",
         "type": "\"string\""
        },
        {
         "metadata": "{}",
         "name": "Semi_Finals1",
         "type": "\"string\""
        },
        {
         "metadata": "{}",
         "name": "rests1",
         "type": "\"string\""
        },
        {
         "metadata": "{}",
         "name": "Finalf",
         "type": "\"string\""
        },
        {
         "metadata": "{}",
         "name": "restf",
         "type": "\"string\""
        },
        {
         "metadata": "{}",
         "name": "Semi_Finals2",
         "type": "\"string\""
        },
        {
         "metadata": "{}",
         "name": "rests2",
         "type": "\"string\""
        },
        {
         "metadata": "{}",
         "name": "Quater_Finalq1",
         "type": "\"string\""
        },
        {
         "metadata": "{}",
         "name": "restq1",
         "type": "\"string\""
        },
        {
         "metadata": "{}",
         "name": "Round_of_16r2",
         "type": "\"string\""
        },
        {
         "metadata": "{}",
         "name": "restr2",
         "type": "\"string\""
        },
        {
         "metadata": "{}",
         "name": "Teamsg2",
         "type": "\"string\""
        },
        {
         "metadata": "{}",
         "name": "Groupg2",
         "type": "\"string\""
        },
        {
         "metadata": "{}",
         "name": "Pldg2",
         "type": "\"string\""
        },
        {
         "metadata": "{}",
         "name": "Wg2",
         "type": "\"string\""
        },
        {
         "metadata": "{}",
         "name": "Dg2",
         "type": "\"string\""
        },
        {
         "metadata": "{}",
         "name": "Lg2",
         "type": "\"string\""
        },
        {
         "metadata": "{}",
         "name": "GFg2",
         "type": "\"string\""
        },
        {
         "metadata": "{}",
         "name": "GAg2",
         "type": "\"string\""
        },
        {
         "metadata": "{}",
         "name": "GDg2",
         "type": "\"string\""
        },
        {
         "metadata": "{}",
         "name": "Ptsg2",
         "type": "\"string\""
        }
       ],
       "type": "table"
      }
     },
     "output_type": "display_data"
    }
   ],
   "source": [
    "%python\n",
    "left_side_qf.columns = [f\"{col}q2\" for col in left_side_qf.columns]\n",
    "\n",
    "merged_df = pd.concat([left_side_r16, left_side_qf], axis=1)\n",
    "\n",
    "left_side_sf.columns = [f\"{col}s1\" for col in left_side_sf.columns]\n",
    "merged_df = pd.concat([merged_df, left_side_sf], axis=1)\n",
    "\n",
    "visualize_final.columns = [f\"{col}f\" for col in visualize_final.columns]\n",
    "merged_df = pd.concat([merged_df, visualize_final], axis=1)\n",
    "\n",
    "right_side_sf.columns = [f\"{col}s2\" for col in right_side_sf.columns]\n",
    "\n",
    "merged_df = pd.concat([merged_df, right_side_sf], axis=1)\n",
    "\n",
    "\n",
    "\n",
    "right_side_qf.columns = [f\"{col}q1\" for col in right_side_qf.columns]\n",
    "\n",
    "merged_df = pd.concat([merged_df, right_side_qf], axis=1)\n",
    "\n",
    "right_side_r16.columns = [f\"{col}r2\" for col in right_side_r16.columns]\n",
    "\n",
    "merged_df = pd.concat([merged_df,right_side_r16], axis=1)\n",
    "\n",
    "left_table.columns = [f\"{col}g1\" for col in left_table.columns]\n",
    "right_table.columns = [f\"{col}g2\" for col in right_table.columns]\n",
    "\n",
    "\n",
    "merged_df = pd.concat([left_table,merged_df, right_table], axis=1)\n",
    "\n",
    "merged_df.fillna('', inplace=True)\n",
    "\n",
    "display(merged_df)"
   ]
  },
  {
   "cell_type": "code",
   "execution_count": 0,
   "metadata": {
    "application/vnd.databricks.v1+cell": {
     "cellMetadata": {
      "byteLimit": 2048000,
      "rowLimit": 10000
     },
     "inputWidgets": {},
     "nuid": "226e9bea-a32a-426b-8b5b-220319a4393f",
     "showTitle": false,
     "title": ""
    }
   },
   "outputs": [
    {
     "output_type": "display_data",
     "data": {
      "text/html": [
       "<style scoped>\n",
       "  .table-result-container {\n",
       "    max-height: 300px;\n",
       "    overflow: auto;\n",
       "  }\n",
       "  table, th, td {\n",
       "    border: 1px solid black;\n",
       "    border-collapse: collapse;\n",
       "  }\n",
       "  th, td {\n",
       "    padding: 5px;\n",
       "  }\n",
       "  th {\n",
       "    text-align: left;\n",
       "  }\n",
       "</style><div class='table-result-container'><table class='table-result'><thead style='background-color: white'><tr><th>Teamsg1</th><th>Groupg1</th><th>Pldg1</th><th>Wg1</th><th>Dg1</th><th>Lg1</th><th>GFg1</th><th>GAg1</th><th>GDg1</th><th>Ptsg1</th><th>Round_of_16</th><th>rest</th><th>Quater_Finalq2</th><th>restq2</th><th>Semi_Finals1</th><th>rests1</th><th>Finalf</th><th>restf</th><th>Semi_Finals2</th><th>rests2</th><th>Quater_Finalq1</th><th>restq1</th><th>Round_of_16r2</th><th>restr2</th><th>Teamsg2</th><th>Groupg2</th><th>Pldg2</th><th>Wg2</th><th>Dg2</th><th>Lg2</th><th>GFg2</th><th>GAg2</th><th>GDg2</th><th>Ptsg2</th></tr></thead><tbody><tr><td></td><td></td><td></td><td></td><td></td><td></td><td></td><td></td><td></td><td></td><td></td><td></td><td></td><td></td><td></td><td></td><td></td><td></td><td></td><td></td><td></td><td></td><td></td><td></td><td></td><td></td><td></td><td></td><td></td><td></td><td></td><td></td><td></td><td></td></tr><tr><td>Germany</td><td>A</td><td>3</td><td>2</td><td>0</td><td>1</td><td>8</td><td>7</td><td>1</td><td>6</td><td></td><td></td><td></td><td></td><td></td><td></td><td></td><td></td><td></td><td></td><td></td><td></td><td></td><td></td><td>Belgium</td><td>D</td><td>3</td><td>1</td><td>1</td><td>1</td><td>10</td><td>12</td><td>-2</td><td>4</td></tr><tr><td>Hungary</td><td>A</td><td>3</td><td>1</td><td>1</td><td>1</td><td>12</td><td>13</td><td>-1</td><td>4</td><td>Germany (0)</td><td></td><td></td><td></td><td></td><td></td><td></td><td></td><td></td><td></td><td></td><td></td><td>Croatia (4)</td><td></td><td>Denmark</td><td>D</td><td>3</td><td>3</td><td>0</td><td>0</td><td>16</td><td>7</td><td>9</td><td>9</td></tr><tr><td>France</td><td>A</td><td>3</td><td>1</td><td>0</td><td>2</td><td>8</td><td>10</td><td>-2</td><td>3</td><td>Switzerland (4)</td><td></td><td></td><td></td><td></td><td></td><td></td><td></td><td></td><td></td><td></td><td></td><td>Italy (3)</td><td></td><td>Finland</td><td>D</td><td>3</td><td>0</td><td>1</td><td>2</td><td>9</td><td>16</td><td>-7</td><td>1</td></tr><tr><td>Portugal</td><td>A</td><td>3</td><td>1</td><td>1</td><td>1</td><td>10</td><td>8</td><td>2</td><td>4</td><td></td><td></td><td>Sweden (0)</td><td></td><td></td><td></td><td></td><td></td><td></td><td></td><td>Turkey (0)</td><td></td><td></td><td></td><td>Russia</td><td>D</td><td>3</td><td>1</td><td>0</td><td>2</td><td>11</td><td>11</td><td>0</td><td>3</td></tr><tr><td></td><td></td><td></td><td></td><td></td><td></td><td></td><td></td><td></td><td></td><td></td><td></td><td>Switzerland (3)</td><td></td><td></td><td></td><td></td><td></td><td></td><td></td><td>Spain (2)</td><td></td><td></td><td></td><td></td><td></td><td></td><td></td><td></td><td></td><td></td><td></td><td></td><td></td></tr><tr><td>Slovakia</td><td>B</td><td>3</td><td>1</td><td>1</td><td>1</td><td>10</td><td>13</td><td>-3</td><td>4</td><td>Portugal (2)</td><td></td><td></td><td></td><td></td><td></td><td></td><td></td><td></td><td></td><td></td><td></td><td>Belgium (5)</td><td></td><td>Netherlands</td><td>E</td><td>3</td><td>1</td><td>1</td><td>1</td><td>13</td><td>9</td><td>4</td><td>4</td></tr><tr><td>Sweden</td><td>B</td><td>3</td><td>2</td><td>1</td><td>0</td><td>16</td><td>10</td><td>6</td><td>7</td><td>Spain (3)</td><td></td><td></td><td></td><td></td><td></td><td></td><td></td><td></td><td></td><td></td><td></td><td>Netherlands (3)</td><td></td><td>Austria</td><td>E</td><td>3</td><td>1</td><td>1</td><td>1</td><td>7</td><td>9</td><td>-2</td><td>4</td></tr><tr><td>Spain</td><td>B</td><td>3</td><td>2</td><td>0</td><td>1</td><td>14</td><td>10</td><td>4</td><td>6</td><td></td><td></td><td></td><td></td><td>Turkey (1)</td><td></td><td>Sweden (1)</td><td></td><td>Sweden (2)</td><td></td><td></td><td></td><td></td><td></td><td>Ukraine</td><td>E</td><td>3</td><td>0</td><td>2</td><td>1</td><td>6</td><td>9</td><td>-3</td><td>2</td></tr><tr><td>Poland</td><td>B</td><td>3</td><td>0</td><td>0</td><td>3</td><td>7</td><td>14</td><td>-7</td><td>0</td><td></td><td></td><td></td><td></td><td>England (1)</td><td></td><td>England (1)</td><td></td><td>Netherlands (5)</td><td></td><td></td><td></td><td></td><td></td><td>North Macedonia</td><td>E</td><td>3</td><td>2</td><td>0</td><td>1</td><td>10</td><td>9</td><td>1</td><td>6</td></tr><tr><td></td><td></td><td></td><td></td><td></td><td></td><td></td><td></td><td></td><td></td><td>Sweden (5)</td><td></td><td></td><td></td><td></td><td></td><td>Winner: England</td><td></td><td></td><td></td><td></td><td></td><td>North Macedonia (5)</td><td></td><td></td><td></td><td></td><td></td><td></td><td></td><td></td><td></td><td></td><td></td></tr><tr><td>Switzerland</td><td>C</td><td>3</td><td>2</td><td>0</td><td>1</td><td>11</td><td>12</td><td>-1</td><td>6</td><td>Hungary (1)</td><td></td><td></td><td></td><td></td><td></td><td></td><td></td><td></td><td></td><td></td><td></td><td>Slovakia (3)</td><td></td><td>Croatia</td><td>F</td><td>3</td><td>2</td><td>1</td><td>0</td><td>10</td><td>8</td><td>2</td><td>7</td></tr><tr><td>Turkey</td><td>C</td><td>3</td><td>2</td><td>0</td><td>1</td><td>11</td><td>9</td><td>2</td><td>6</td><td></td><td></td><td>Croatia (4)</td><td></td><td></td><td></td><td></td><td></td><td></td><td></td><td>North Macedonia (0)</td><td></td><td></td><td></td><td>Scotland</td><td>F</td><td>3</td><td>1</td><td>0</td><td>2</td><td>9</td><td>7</td><td>2</td><td>3</td></tr><tr><td>Wales</td><td>C</td><td>3</td><td>1</td><td>0</td><td>2</td><td>11</td><td>12</td><td>-1</td><td>3</td><td></td><td></td><td>Netherlands (3)</td><td></td><td></td><td></td><td></td><td></td><td></td><td></td><td>England (2)</td><td></td><td></td><td></td><td>Czech Republic</td><td>F</td><td>3</td><td>0</td><td>1</td><td>2</td><td>4</td><td>13</td><td>-9</td><td>1</td></tr><tr><td>Italy</td><td>C</td><td>3</td><td>1</td><td>0</td><td>2</td><td>11</td><td>11</td><td>0</td><td>3</td><td>Turkey (1)</td><td></td><td></td><td></td><td></td><td></td><td></td><td></td><td></td><td></td><td></td><td></td><td>Belgium (4)</td><td></td><td>England</td><td>F</td><td>3</td><td>2</td><td>0</td><td>1</td><td>13</td><td>8</td><td>5</td><td>6</td></tr><tr><td></td><td></td><td></td><td></td><td></td><td></td><td></td><td></td><td></td><td></td><td>Russia (1)</td><td></td><td></td><td></td><td></td><td></td><td></td><td></td><td></td><td></td><td></td><td></td><td>England (3)</td><td></td><td></td><td></td><td></td><td></td><td></td><td></td><td></td><td></td><td></td><td></td></tr><tr><td></td><td></td><td></td><td></td><td></td><td></td><td></td><td></td><td></td><td></td><td></td><td></td><td></td><td></td><td></td><td></td><td></td><td></td><td></td><td></td><td></td><td></td><td></td><td></td><td></td><td></td><td></td><td></td><td></td><td></td><td></td><td></td><td></td><td></td></tr><tr><td></td><td></td><td></td><td></td><td></td><td></td><td></td><td></td><td></td><td></td><td></td><td></td><td></td><td></td><td></td><td></td><td></td><td></td><td></td><td></td><td></td><td></td><td></td><td></td><td></td><td></td><td></td><td></td><td></td><td></td><td></td><td></td><td></td><td></td></tr><tr><td></td><td></td><td></td><td></td><td></td><td></td><td></td><td></td><td></td><td></td><td></td><td></td><td></td><td></td><td></td><td></td><td></td><td></td><td></td><td></td><td></td><td></td><td></td><td></td><td></td><td></td><td></td><td></td><td></td><td></td><td></td><td></td><td></td><td></td></tr><tr><td></td><td></td><td></td><td></td><td></td><td></td><td></td><td></td><td></td><td></td><td></td><td></td><td></td><td></td><td></td><td></td><td></td><td></td><td></td><td></td><td></td><td></td><td></td><td></td><td></td><td></td><td></td><td></td><td></td><td></td><td></td><td></td><td></td><td></td></tr></tbody></table></div>"
      ]
     },
     "metadata": {
      "application/vnd.databricks.v1+output": {
       "addedWidgets": {},
       "aggData": [],
       "aggError": "",
       "aggOverflow": false,
       "aggSchema": [],
       "aggSeriesLimitReached": false,
       "aggType": "",
       "arguments": {},
       "columnCustomDisplayInfos": {},
       "data": [
        [
         "",
         "",
         "",
         "",
         "",
         "",
         "",
         "",
         "",
         "",
         "",
         "",
         "",
         "",
         "",
         "",
         "",
         "",
         "",
         "",
         "",
         "",
         "",
         "",
         "",
         "",
         "",
         "",
         "",
         "",
         "",
         "",
         "",
         ""
        ],
        [
         "Germany",
         "A",
         "3",
         "2",
         "0",
         "1",
         "8",
         "7",
         "1",
         "6",
         "",
         "",
         "",
         "",
         "",
         "",
         "",
         "",
         "",
         "",
         "",
         "",
         "",
         "",
         "Belgium",
         "D",
         "3",
         "1",
         "1",
         "1",
         "10",
         "12",
         "-2",
         "4"
        ],
        [
         "Hungary",
         "A",
         "3",
         "1",
         "1",
         "1",
         "12",
         "13",
         "-1",
         "4",
         "Germany (0)",
         "",
         "",
         "",
         "",
         "",
         "",
         "",
         "",
         "",
         "",
         "",
         "Croatia (4)",
         "",
         "Denmark",
         "D",
         "3",
         "3",
         "0",
         "0",
         "16",
         "7",
         "9",
         "9"
        ],
        [
         "France",
         "A",
         "3",
         "1",
         "0",
         "2",
         "8",
         "10",
         "-2",
         "3",
         "Switzerland (4)",
         "",
         "",
         "",
         "",
         "",
         "",
         "",
         "",
         "",
         "",
         "",
         "Italy (3)",
         "",
         "Finland",
         "D",
         "3",
         "0",
         "1",
         "2",
         "9",
         "16",
         "-7",
         "1"
        ],
        [
         "Portugal",
         "A",
         "3",
         "1",
         "1",
         "1",
         "10",
         "8",
         "2",
         "4",
         "",
         "",
         "Sweden (0)",
         "",
         "",
         "",
         "",
         "",
         "",
         "",
         "Turkey (0)",
         "",
         "",
         "",
         "Russia",
         "D",
         "3",
         "1",
         "0",
         "2",
         "11",
         "11",
         "0",
         "3"
        ],
        [
         "",
         "",
         "",
         "",
         "",
         "",
         "",
         "",
         "",
         "",
         "",
         "",
         "Switzerland (3)",
         "",
         "",
         "",
         "",
         "",
         "",
         "",
         "Spain (2)",
         "",
         "",
         "",
         "",
         "",
         "",
         "",
         "",
         "",
         "",
         "",
         "",
         ""
        ],
        [
         "Slovakia",
         "B",
         "3",
         "1",
         "1",
         "1",
         "10",
         "13",
         "-3",
         "4",
         "Portugal (2)",
         "",
         "",
         "",
         "",
         "",
         "",
         "",
         "",
         "",
         "",
         "",
         "Belgium (5)",
         "",
         "Netherlands",
         "E",
         "3",
         "1",
         "1",
         "1",
         "13",
         "9",
         "4",
         "4"
        ],
        [
         "Sweden",
         "B",
         "3",
         "2",
         "1",
         "0",
         "16",
         "10",
         "6",
         "7",
         "Spain (3)",
         "",
         "",
         "",
         "",
         "",
         "",
         "",
         "",
         "",
         "",
         "",
         "Netherlands (3)",
         "",
         "Austria",
         "E",
         "3",
         "1",
         "1",
         "1",
         "7",
         "9",
         "-2",
         "4"
        ],
        [
         "Spain",
         "B",
         "3",
         "2",
         "0",
         "1",
         "14",
         "10",
         "4",
         "6",
         "",
         "",
         "",
         "",
         "Turkey (1)",
         "",
         "Sweden (1)",
         "",
         "Sweden (2)",
         "",
         "",
         "",
         "",
         "",
         "Ukraine",
         "E",
         "3",
         "0",
         "2",
         "1",
         "6",
         "9",
         "-3",
         "2"
        ],
        [
         "Poland",
         "B",
         "3",
         "0",
         "0",
         "3",
         "7",
         "14",
         "-7",
         "0",
         "",
         "",
         "",
         "",
         "England (1)",
         "",
         "England (1)",
         "",
         "Netherlands (5)",
         "",
         "",
         "",
         "",
         "",
         "North Macedonia",
         "E",
         "3",
         "2",
         "0",
         "1",
         "10",
         "9",
         "1",
         "6"
        ],
        [
         "",
         "",
         "",
         "",
         "",
         "",
         "",
         "",
         "",
         "",
         "Sweden (5)",
         "",
         "",
         "",
         "",
         "",
         "Winner: England",
         "",
         "",
         "",
         "",
         "",
         "North Macedonia (5)",
         "",
         "",
         "",
         "",
         "",
         "",
         "",
         "",
         "",
         "",
         ""
        ],
        [
         "Switzerland",
         "C",
         "3",
         "2",
         "0",
         "1",
         "11",
         "12",
         "-1",
         "6",
         "Hungary (1)",
         "",
         "",
         "",
         "",
         "",
         "",
         "",
         "",
         "",
         "",
         "",
         "Slovakia (3)",
         "",
         "Croatia",
         "F",
         "3",
         "2",
         "1",
         "0",
         "10",
         "8",
         "2",
         "7"
        ],
        [
         "Turkey",
         "C",
         "3",
         "2",
         "0",
         "1",
         "11",
         "9",
         "2",
         "6",
         "",
         "",
         "Croatia (4)",
         "",
         "",
         "",
         "",
         "",
         "",
         "",
         "North Macedonia (0)",
         "",
         "",
         "",
         "Scotland",
         "F",
         "3",
         "1",
         "0",
         "2",
         "9",
         "7",
         "2",
         "3"
        ],
        [
         "Wales",
         "C",
         "3",
         "1",
         "0",
         "2",
         "11",
         "12",
         "-1",
         "3",
         "",
         "",
         "Netherlands (3)",
         "",
         "",
         "",
         "",
         "",
         "",
         "",
         "England (2)",
         "",
         "",
         "",
         "Czech Republic",
         "F",
         "3",
         "0",
         "1",
         "2",
         "4",
         "13",
         "-9",
         "1"
        ],
        [
         "Italy",
         "C",
         "3",
         "1",
         "0",
         "2",
         "11",
         "11",
         "0",
         "3",
         "Turkey (1)",
         "",
         "",
         "",
         "",
         "",
         "",
         "",
         "",
         "",
         "",
         "",
         "Belgium (4)",
         "",
         "England",
         "F",
         "3",
         "2",
         "0",
         "1",
         "13",
         "8",
         "5",
         "6"
        ],
        [
         "",
         "",
         "",
         "",
         "",
         "",
         "",
         "",
         "",
         "",
         "Russia (1)",
         "",
         "",
         "",
         "",
         "",
         "",
         "",
         "",
         "",
         "",
         "",
         "England (3)",
         "",
         "",
         "",
         "",
         "",
         "",
         "",
         "",
         "",
         "",
         ""
        ],
        [
         "",
         "",
         "",
         "",
         "",
         "",
         "",
         "",
         "",
         "",
         "",
         "",
         "",
         "",
         "",
         "",
         "",
         "",
         "",
         "",
         "",
         "",
         "",
         "",
         "",
         "",
         "",
         "",
         "",
         "",
         "",
         "",
         "",
         ""
        ],
        [
         "",
         "",
         "",
         "",
         "",
         "",
         "",
         "",
         "",
         "",
         "",
         "",
         "",
         "",
         "",
         "",
         "",
         "",
         "",
         "",
         "",
         "",
         "",
         "",
         "",
         "",
         "",
         "",
         "",
         "",
         "",
         "",
         "",
         ""
        ],
        [
         "",
         "",
         "",
         "",
         "",
         "",
         "",
         "",
         "",
         "",
         "",
         "",
         "",
         "",
         "",
         "",
         "",
         "",
         "",
         "",
         "",
         "",
         "",
         "",
         "",
         "",
         "",
         "",
         "",
         "",
         "",
         "",
         "",
         ""
        ],
        [
         "",
         "",
         "",
         "",
         "",
         "",
         "",
         "",
         "",
         "",
         "",
         "",
         "",
         "",
         "",
         "",
         "",
         "",
         "",
         "",
         "",
         "",
         "",
         "",
         "",
         "",
         "",
         "",
         "",
         "",
         "",
         "",
         "",
         ""
        ]
       ],
       "datasetInfos": [],
       "dbfsResultPath": null,
       "isJsonSchema": true,
       "metadata": {},
       "overflow": false,
       "plotOptions": {
        "customPlotOptions": {},
        "displayType": "table",
        "pivotAggregation": null,
        "pivotColumns": null,
        "xColumns": null,
        "yColumns": null
       },
       "removedWidgets": [],
       "schema": [
        {
         "metadata": "{}",
         "name": "Teamsg1",
         "type": "\"string\""
        },
        {
         "metadata": "{}",
         "name": "Groupg1",
         "type": "\"string\""
        },
        {
         "metadata": "{}",
         "name": "Pldg1",
         "type": "\"string\""
        },
        {
         "metadata": "{}",
         "name": "Wg1",
         "type": "\"string\""
        },
        {
         "metadata": "{}",
         "name": "Dg1",
         "type": "\"string\""
        },
        {
         "metadata": "{}",
         "name": "Lg1",
         "type": "\"string\""
        },
        {
         "metadata": "{}",
         "name": "GFg1",
         "type": "\"string\""
        },
        {
         "metadata": "{}",
         "name": "GAg1",
         "type": "\"string\""
        },
        {
         "metadata": "{}",
         "name": "GDg1",
         "type": "\"string\""
        },
        {
         "metadata": "{}",
         "name": "Ptsg1",
         "type": "\"string\""
        },
        {
         "metadata": "{}",
         "name": "Round_of_16",
         "type": "\"string\""
        },
        {
         "metadata": "{}",
         "name": "rest",
         "type": "\"string\""
        },
        {
         "metadata": "{}",
         "name": "Quater_Finalq2",
         "type": "\"string\""
        },
        {
         "metadata": "{}",
         "name": "restq2",
         "type": "\"string\""
        },
        {
         "metadata": "{}",
         "name": "Semi_Finals1",
         "type": "\"string\""
        },
        {
         "metadata": "{}",
         "name": "rests1",
         "type": "\"string\""
        },
        {
         "metadata": "{}",
         "name": "Finalf",
         "type": "\"string\""
        },
        {
         "metadata": "{}",
         "name": "restf",
         "type": "\"string\""
        },
        {
         "metadata": "{}",
         "name": "Semi_Finals2",
         "type": "\"string\""
        },
        {
         "metadata": "{}",
         "name": "rests2",
         "type": "\"string\""
        },
        {
         "metadata": "{}",
         "name": "Quater_Finalq1",
         "type": "\"string\""
        },
        {
         "metadata": "{}",
         "name": "restq1",
         "type": "\"string\""
        },
        {
         "metadata": "{}",
         "name": "Round_of_16r2",
         "type": "\"string\""
        },
        {
         "metadata": "{}",
         "name": "restr2",
         "type": "\"string\""
        },
        {
         "metadata": "{}",
         "name": "Teamsg2",
         "type": "\"string\""
        },
        {
         "metadata": "{}",
         "name": "Groupg2",
         "type": "\"string\""
        },
        {
         "metadata": "{}",
         "name": "Pldg2",
         "type": "\"string\""
        },
        {
         "metadata": "{}",
         "name": "Wg2",
         "type": "\"string\""
        },
        {
         "metadata": "{}",
         "name": "Dg2",
         "type": "\"string\""
        },
        {
         "metadata": "{}",
         "name": "Lg2",
         "type": "\"string\""
        },
        {
         "metadata": "{}",
         "name": "GFg2",
         "type": "\"string\""
        },
        {
         "metadata": "{}",
         "name": "GAg2",
         "type": "\"string\""
        },
        {
         "metadata": "{}",
         "name": "GDg2",
         "type": "\"string\""
        },
        {
         "metadata": "{}",
         "name": "Ptsg2",
         "type": "\"string\""
        }
       ],
       "type": "table"
      }
     },
     "output_type": "display_data"
    }
   ],
   "source": [
    "%python\n",
    "\n",
    "merged_df = pd.concat([left_table, left_side_r16, left_side_qf, left_side_sf, visualize_final, right_side_sf, right_side_qf, right_side_r16, right_table], axis=1)\n",
    "merged_df.fillna('', inplace=True)\n",
    "\n",
    "\n",
    "display(merged_df)\n"
   ]
  },
  {
   "cell_type": "code",
   "execution_count": 0,
   "metadata": {
    "application/vnd.databricks.v1+cell": {
     "cellMetadata": {
      "byteLimit": 2048000,
      "rowLimit": 10000
     },
     "inputWidgets": {},
     "nuid": "bc22c3d8-8523-4453-a192-19c666fdb72b",
     "showTitle": false,
     "title": ""
    }
   },
   "outputs": [],
   "source": []
  }
 ],
 "metadata": {
  "application/vnd.databricks.v1+notebook": {
   "dashboards": [
    {
     "elements": [],
     "globalVars": {},
     "guid": "",
     "layoutOption": {
      "grid": true,
      "stack": true
     },
     "nuid": "cd131ea7-5ca4-4b85-994c-d8b9d650373a",
     "origId": 4092401639073791,
     "title": "Untitled",
     "version": "DashboardViewV1",
     "width": 1024
    }
   ],
   "language": "python",
   "notebookMetadata": {
    "pythonIndentUnit": 4
   },
   "notebookName": "EuroCup 2024 Project",
   "widgets": {}
  }
 },
 "nbformat": 4,
 "nbformat_minor": 0
}
