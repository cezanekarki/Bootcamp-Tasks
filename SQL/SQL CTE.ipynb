{
 "cells": [
  {
   "cell_type": "code",
   "execution_count": 0,
   "metadata": {
    "application/vnd.databricks.v1+cell": {
     "cellMetadata": {
      "byteLimit": 2048000,
      "rowLimit": 10000
     },
     "inputWidgets": {},
     "nuid": "d78129ad-292c-4921-8087-f23132b5fc23",
     "showTitle": false,
     "title": ""
    }
   },
   "outputs": [
    {
     "output_type": "display_data",
     "data": {
      "text/html": [
       "<style scoped>\n",
       "  .table-result-container {\n",
       "    max-height: 300px;\n",
       "    overflow: auto;\n",
       "  }\n",
       "  table, th, td {\n",
       "    border: 1px solid black;\n",
       "    border-collapse: collapse;\n",
       "  }\n",
       "  th, td {\n",
       "    padding: 5px;\n",
       "  }\n",
       "  th {\n",
       "    text-align: left;\n",
       "  }\n",
       "</style><div class='table-result-container'><table class='table-result'><thead style='background-color: white'><tr></tr></thead><tbody></tbody></table></div>"
      ]
     },
     "metadata": {
      "application/vnd.databricks.v1+output": {
       "addedWidgets": {},
       "aggData": [],
       "aggError": "",
       "aggOverflow": false,
       "aggSchema": [],
       "aggSeriesLimitReached": false,
       "aggType": "",
       "arguments": {},
       "columnCustomDisplayInfos": {},
       "data": [],
       "datasetInfos": [],
       "dbfsResultPath": null,
       "isJsonSchema": true,
       "metadata": {
        "isDbfsCommandResult": false
       },
       "overflow": false,
       "plotOptions": {
        "customPlotOptions": {},
        "displayType": "table",
        "pivotAggregation": null,
        "pivotColumns": null,
        "xColumns": null,
        "yColumns": null
       },
       "removedWidgets": [],
       "schema": [],
       "type": "table"
      }
     },
     "output_type": "display_data"
    }
   ],
   "source": [
    "%sql\n",
    "CREATE TABLE employees (\n",
    "  employee_id INT,\n",
    "  employee_name STRING,\n",
    "  department STRING,\n",
    "  salary DOUBLE\n",
    ");\n"
   ]
  },
  {
   "cell_type": "code",
   "execution_count": 0,
   "metadata": {
    "application/vnd.databricks.v1+cell": {
     "cellMetadata": {
      "byteLimit": 2048000,
      "rowLimit": 10000
     },
     "inputWidgets": {},
     "nuid": "da6aba02-644d-4797-8258-e9b23c37d356",
     "showTitle": false,
     "title": ""
    }
   },
   "outputs": [
    {
     "output_type": "display_data",
     "data": {
      "text/html": [
       "<style scoped>\n",
       "  .table-result-container {\n",
       "    max-height: 300px;\n",
       "    overflow: auto;\n",
       "  }\n",
       "  table, th, td {\n",
       "    border: 1px solid black;\n",
       "    border-collapse: collapse;\n",
       "  }\n",
       "  th, td {\n",
       "    padding: 5px;\n",
       "  }\n",
       "  th {\n",
       "    text-align: left;\n",
       "  }\n",
       "</style><div class='table-result-container'><table class='table-result'><thead style='background-color: white'><tr><th>num_affected_rows</th><th>num_inserted_rows</th></tr></thead><tbody><tr><td>15</td><td>15</td></tr></tbody></table></div>"
      ]
     },
     "metadata": {
      "application/vnd.databricks.v1+output": {
       "addedWidgets": {},
       "aggData": [],
       "aggError": "",
       "aggOverflow": false,
       "aggSchema": [],
       "aggSeriesLimitReached": false,
       "aggType": "",
       "arguments": {},
       "columnCustomDisplayInfos": {},
       "data": [
        [
         15,
         15
        ]
       ],
       "datasetInfos": [],
       "dbfsResultPath": null,
       "isJsonSchema": true,
       "metadata": {
        "isDbfsCommandResult": false
       },
       "overflow": false,
       "plotOptions": {
        "customPlotOptions": {},
        "displayType": "table",
        "pivotAggregation": null,
        "pivotColumns": null,
        "xColumns": null,
        "yColumns": null
       },
       "removedWidgets": [],
       "schema": [
        {
         "metadata": "{}",
         "name": "num_affected_rows",
         "type": "\"long\""
        },
        {
         "metadata": "{}",
         "name": "num_inserted_rows",
         "type": "\"long\""
        }
       ],
       "type": "table"
      }
     },
     "output_type": "display_data"
    }
   ],
   "source": [
    "%sql\n",
    "INSERT INTO employees VALUES\n",
    "  (6, 'Eva Green', 'HR', 52000),\n",
    "  (7, 'Sam Johnson', 'Marketing', 59000),\n",
    "  (8, 'Alex Turner', 'IT', 63000),\n",
    "  (9, 'Sophie Walker', 'Finance', 72000),\n",
    "  (10, 'David Clark', 'IT', 60000),\n",
    "  (11, 'Olivia King', 'Marketing', 56000),\n",
    "  (12, 'Michael Baker', 'HR', 48000),\n",
    "  (13, 'Emma White', 'Finance', 68000),\n",
    "  (14, 'Daniel Smith', 'IT', 65000),\n",
    "  (15, 'Grace Taylor', 'HR', 50000),\n",
    "  (16, 'Liam Wilson', 'Marketing', 58000),\n",
    "  (17, 'Ava Hall', 'IT', 61000),\n",
    "  (18, 'Mia Adams', 'Finance', 70000),\n",
    "  (19, 'Noah Moore', 'IT', 64000),\n",
    "  (20, 'Isabella Davis', 'Marketing', 57000);"
   ]
  },
  {
   "cell_type": "code",
   "execution_count": 0,
   "metadata": {
    "application/vnd.databricks.v1+cell": {
     "cellMetadata": {
      "byteLimit": 2048000,
      "rowLimit": 10000
     },
     "inputWidgets": {},
     "nuid": "54c7b01e-6d35-487b-9b64-fcffd154aa62",
     "showTitle": false,
     "title": ""
    }
   },
   "outputs": [
    {
     "output_type": "display_data",
     "data": {
      "text/html": [
       "<style scoped>\n",
       "  .table-result-container {\n",
       "    max-height: 300px;\n",
       "    overflow: auto;\n",
       "  }\n",
       "  table, th, td {\n",
       "    border: 1px solid black;\n",
       "    border-collapse: collapse;\n",
       "  }\n",
       "  th, td {\n",
       "    padding: 5px;\n",
       "  }\n",
       "  th {\n",
       "    text-align: left;\n",
       "  }\n",
       "</style><div class='table-result-container'><table class='table-result'><thead style='background-color: white'><tr><th>employee_id</th><th>employee_name</th><th>department</th><th>salary</th></tr></thead><tbody><tr><td>6</td><td>Eva Green</td><td>HR</td><td>52000.0</td></tr><tr><td>7</td><td>Sam Johnson</td><td>Marketing</td><td>59000.0</td></tr><tr><td>8</td><td>Alex Turner</td><td>IT</td><td>63000.0</td></tr><tr><td>9</td><td>Sophie Walker</td><td>Finance</td><td>72000.0</td></tr><tr><td>10</td><td>David Clark</td><td>IT</td><td>60000.0</td></tr><tr><td>11</td><td>Olivia King</td><td>Marketing</td><td>56000.0</td></tr><tr><td>12</td><td>Michael Baker</td><td>HR</td><td>48000.0</td></tr><tr><td>13</td><td>Emma White</td><td>Finance</td><td>68000.0</td></tr><tr><td>14</td><td>Daniel Smith</td><td>IT</td><td>65000.0</td></tr><tr><td>15</td><td>Grace Taylor</td><td>HR</td><td>50000.0</td></tr><tr><td>16</td><td>Liam Wilson</td><td>Marketing</td><td>58000.0</td></tr><tr><td>17</td><td>Ava Hall</td><td>IT</td><td>61000.0</td></tr><tr><td>18</td><td>Mia Adams</td><td>Finance</td><td>70000.0</td></tr><tr><td>19</td><td>Noah Moore</td><td>IT</td><td>64000.0</td></tr><tr><td>20</td><td>Isabella Davis</td><td>Marketing</td><td>57000.0</td></tr></tbody></table></div>"
      ]
     },
     "metadata": {
      "application/vnd.databricks.v1+output": {
       "addedWidgets": {},
       "aggData": [],
       "aggError": "",
       "aggOverflow": false,
       "aggSchema": [],
       "aggSeriesLimitReached": false,
       "aggType": "",
       "arguments": {},
       "columnCustomDisplayInfos": {},
       "data": [
        [
         6,
         "Eva Green",
         "HR",
         52000.0
        ],
        [
         7,
         "Sam Johnson",
         "Marketing",
         59000.0
        ],
        [
         8,
         "Alex Turner",
         "IT",
         63000.0
        ],
        [
         9,
         "Sophie Walker",
         "Finance",
         72000.0
        ],
        [
         10,
         "David Clark",
         "IT",
         60000.0
        ],
        [
         11,
         "Olivia King",
         "Marketing",
         56000.0
        ],
        [
         12,
         "Michael Baker",
         "HR",
         48000.0
        ],
        [
         13,
         "Emma White",
         "Finance",
         68000.0
        ],
        [
         14,
         "Daniel Smith",
         "IT",
         65000.0
        ],
        [
         15,
         "Grace Taylor",
         "HR",
         50000.0
        ],
        [
         16,
         "Liam Wilson",
         "Marketing",
         58000.0
        ],
        [
         17,
         "Ava Hall",
         "IT",
         61000.0
        ],
        [
         18,
         "Mia Adams",
         "Finance",
         70000.0
        ],
        [
         19,
         "Noah Moore",
         "IT",
         64000.0
        ],
        [
         20,
         "Isabella Davis",
         "Marketing",
         57000.0
        ]
       ],
       "datasetInfos": [],
       "dbfsResultPath": null,
       "isJsonSchema": true,
       "metadata": {
        "isDbfsCommandResult": false
       },
       "overflow": false,
       "plotOptions": {
        "customPlotOptions": {},
        "displayType": "table",
        "pivotAggregation": null,
        "pivotColumns": null,
        "xColumns": null,
        "yColumns": null
       },
       "removedWidgets": [],
       "schema": [
        {
         "metadata": "{}",
         "name": "employee_id",
         "type": "\"integer\""
        },
        {
         "metadata": "{}",
         "name": "employee_name",
         "type": "\"string\""
        },
        {
         "metadata": "{}",
         "name": "department",
         "type": "\"string\""
        },
        {
         "metadata": "{}",
         "name": "salary",
         "type": "\"double\""
        }
       ],
       "type": "table"
      }
     },
     "output_type": "display_data"
    }
   ],
   "source": [
    "%sql\n",
    "SELECT * FROM employees;"
   ]
  },
  {
   "cell_type": "code",
   "execution_count": 0,
   "metadata": {
    "application/vnd.databricks.v1+cell": {
     "cellMetadata": {
      "byteLimit": 2048000,
      "rowLimit": 10000
     },
     "inputWidgets": {},
     "nuid": "93c0952c-2415-4444-b556-27f3060bc3a6",
     "showTitle": false,
     "title": ""
    }
   },
   "outputs": [
    {
     "output_type": "display_data",
     "data": {
      "text/html": [
       "<style scoped>\n",
       "  .table-result-container {\n",
       "    max-height: 300px;\n",
       "    overflow: auto;\n",
       "  }\n",
       "  table, th, td {\n",
       "    border: 1px solid black;\n",
       "    border-collapse: collapse;\n",
       "  }\n",
       "  th, td {\n",
       "    padding: 5px;\n",
       "  }\n",
       "  th {\n",
       "    text-align: left;\n",
       "  }\n",
       "</style><div class='table-result-container'><table class='table-result'><thead style='background-color: white'><tr><th>employee_id</th><th>employee_name</th><th>department</th><th>salary</th></tr></thead><tbody><tr><td>8</td><td>Alex Turner</td><td>IT</td><td>63000.0</td></tr><tr><td>9</td><td>Sophie Walker</td><td>Finance</td><td>72000.0</td></tr><tr><td>13</td><td>Emma White</td><td>Finance</td><td>68000.0</td></tr><tr><td>14</td><td>Daniel Smith</td><td>IT</td><td>65000.0</td></tr><tr><td>17</td><td>Ava Hall</td><td>IT</td><td>61000.0</td></tr><tr><td>18</td><td>Mia Adams</td><td>Finance</td><td>70000.0</td></tr><tr><td>19</td><td>Noah Moore</td><td>IT</td><td>64000.0</td></tr></tbody></table></div>"
      ]
     },
     "metadata": {
      "application/vnd.databricks.v1+output": {
       "addedWidgets": {},
       "aggData": [],
       "aggError": "",
       "aggOverflow": false,
       "aggSchema": [],
       "aggSeriesLimitReached": false,
       "aggType": "",
       "arguments": {},
       "columnCustomDisplayInfos": {},
       "data": [
        [
         8,
         "Alex Turner",
         "IT",
         63000.0
        ],
        [
         9,
         "Sophie Walker",
         "Finance",
         72000.0
        ],
        [
         13,
         "Emma White",
         "Finance",
         68000.0
        ],
        [
         14,
         "Daniel Smith",
         "IT",
         65000.0
        ],
        [
         17,
         "Ava Hall",
         "IT",
         61000.0
        ],
        [
         18,
         "Mia Adams",
         "Finance",
         70000.0
        ],
        [
         19,
         "Noah Moore",
         "IT",
         64000.0
        ]
       ],
       "datasetInfos": [],
       "dbfsResultPath": null,
       "isJsonSchema": true,
       "metadata": {
        "isDbfsCommandResult": false
       },
       "overflow": false,
       "plotOptions": {
        "customPlotOptions": {},
        "displayType": "table",
        "pivotAggregation": null,
        "pivotColumns": null,
        "xColumns": null,
        "yColumns": null
       },
       "removedWidgets": [],
       "schema": [
        {
         "metadata": "{}",
         "name": "employee_id",
         "type": "\"integer\""
        },
        {
         "metadata": "{}",
         "name": "employee_name",
         "type": "\"string\""
        },
        {
         "metadata": "{}",
         "name": "department",
         "type": "\"string\""
        },
        {
         "metadata": "{}",
         "name": "salary",
         "type": "\"double\""
        }
       ],
       "type": "table"
      }
     },
     "output_type": "display_data"
    }
   ],
   "source": [
    "%sql\n",
    "--salary greater than 60000\n",
    "SELECT * FROM employees WHERE salary > 60000;"
   ]
  },
  {
   "cell_type": "code",
   "execution_count": 0,
   "metadata": {
    "application/vnd.databricks.v1+cell": {
     "cellMetadata": {
      "byteLimit": 2048000,
      "rowLimit": 10000
     },
     "inputWidgets": {},
     "nuid": "9d934b3b-78a6-403c-9452-b420a170e913",
     "showTitle": false,
     "title": ""
    }
   },
   "outputs": [
    {
     "output_type": "display_data",
     "data": {
      "text/html": [
       "<style scoped>\n",
       "  .table-result-container {\n",
       "    max-height: 300px;\n",
       "    overflow: auto;\n",
       "  }\n",
       "  table, th, td {\n",
       "    border: 1px solid black;\n",
       "    border-collapse: collapse;\n",
       "  }\n",
       "  th, td {\n",
       "    padding: 5px;\n",
       "  }\n",
       "  th {\n",
       "    text-align: left;\n",
       "  }\n",
       "</style><div class='table-result-container'><table class='table-result'><thead style='background-color: white'><tr><th>employee_id</th><th>employee_name</th><th>department</th><th>salary</th></tr></thead><tbody><tr><td>8</td><td>Alex Turner</td><td>IT</td><td>63000.0</td></tr><tr><td>10</td><td>David Clark</td><td>IT</td><td>60000.0</td></tr><tr><td>14</td><td>Daniel Smith</td><td>IT</td><td>65000.0</td></tr><tr><td>17</td><td>Ava Hall</td><td>IT</td><td>61000.0</td></tr><tr><td>19</td><td>Noah Moore</td><td>IT</td><td>64000.0</td></tr></tbody></table></div>"
      ]
     },
     "metadata": {
      "application/vnd.databricks.v1+output": {
       "addedWidgets": {},
       "aggData": [],
       "aggError": "",
       "aggOverflow": false,
       "aggSchema": [],
       "aggSeriesLimitReached": false,
       "aggType": "",
       "arguments": {},
       "columnCustomDisplayInfos": {},
       "data": [
        [
         8,
         "Alex Turner",
         "IT",
         63000.0
        ],
        [
         10,
         "David Clark",
         "IT",
         60000.0
        ],
        [
         14,
         "Daniel Smith",
         "IT",
         65000.0
        ],
        [
         17,
         "Ava Hall",
         "IT",
         61000.0
        ],
        [
         19,
         "Noah Moore",
         "IT",
         64000.0
        ]
       ],
       "datasetInfos": [],
       "dbfsResultPath": null,
       "isJsonSchema": true,
       "metadata": {
        "isDbfsCommandResult": false
       },
       "overflow": false,
       "plotOptions": {
        "customPlotOptions": {},
        "displayType": "table",
        "pivotAggregation": null,
        "pivotColumns": null,
        "xColumns": null,
        "yColumns": null
       },
       "removedWidgets": [],
       "schema": [
        {
         "metadata": "{}",
         "name": "employee_id",
         "type": "\"integer\""
        },
        {
         "metadata": "{}",
         "name": "employee_name",
         "type": "\"string\""
        },
        {
         "metadata": "{}",
         "name": "department",
         "type": "\"string\""
        },
        {
         "metadata": "{}",
         "name": "salary",
         "type": "\"double\""
        }
       ],
       "type": "table"
      }
     },
     "output_type": "display_data"
    }
   ],
   "source": [
    "%sql\n",
    "--employees form IT dept\n",
    "WITH it_department AS (SELECT * FROM employees WHERE department = \"IT\") \n",
    "\n",
    "SELECT * FROM it_department\n"
   ]
  },
  {
   "cell_type": "code",
   "execution_count": 0,
   "metadata": {
    "application/vnd.databricks.v1+cell": {
     "cellMetadata": {
      "byteLimit": 2048000,
      "rowLimit": 10000
     },
     "inputWidgets": {},
     "nuid": "d32072e9-fc08-43d8-83ee-ec322a27e554",
     "showTitle": false,
     "title": ""
    }
   },
   "outputs": [
    {
     "output_type": "display_data",
     "data": {
      "text/html": [
       "<style scoped>\n",
       "  .table-result-container {\n",
       "    max-height: 300px;\n",
       "    overflow: auto;\n",
       "  }\n",
       "  table, th, td {\n",
       "    border: 1px solid black;\n",
       "    border-collapse: collapse;\n",
       "  }\n",
       "  th, td {\n",
       "    padding: 5px;\n",
       "  }\n",
       "  th {\n",
       "    text-align: left;\n",
       "  }\n",
       "</style><div class='table-result-container'><table class='table-result'><thead style='background-color: white'><tr><th>employee_id</th><th>employee_name</th><th>department</th><th>salary</th><th>drk</th></tr></thead><tbody><tr><td>9</td><td>Sophie Walker</td><td>Finance</td><td>72000.0</td><td>1</td></tr><tr><td>18</td><td>Mia Adams</td><td>Finance</td><td>70000.0</td><td>2</td></tr><tr><td>13</td><td>Emma White</td><td>Finance</td><td>68000.0</td><td>3</td></tr></tbody></table></div>"
      ]
     },
     "metadata": {
      "application/vnd.databricks.v1+output": {
       "addedWidgets": {},
       "aggData": [],
       "aggError": "",
       "aggOverflow": false,
       "aggSchema": [],
       "aggSeriesLimitReached": false,
       "aggType": "",
       "arguments": {},
       "columnCustomDisplayInfos": {},
       "data": [
        [
         9,
         "Sophie Walker",
         "Finance",
         72000.0,
         1
        ],
        [
         18,
         "Mia Adams",
         "Finance",
         70000.0,
         2
        ],
        [
         13,
         "Emma White",
         "Finance",
         68000.0,
         3
        ]
       ],
       "datasetInfos": [],
       "dbfsResultPath": null,
       "isJsonSchema": true,
       "metadata": {
        "isDbfsCommandResult": false
       },
       "overflow": false,
       "plotOptions": {
        "customPlotOptions": {},
        "displayType": "table",
        "pivotAggregation": null,
        "pivotColumns": null,
        "xColumns": null,
        "yColumns": null
       },
       "removedWidgets": [],
       "schema": [
        {
         "metadata": "{}",
         "name": "employee_id",
         "type": "\"integer\""
        },
        {
         "metadata": "{}",
         "name": "employee_name",
         "type": "\"string\""
        },
        {
         "metadata": "{}",
         "name": "department",
         "type": "\"string\""
        },
        {
         "metadata": "{}",
         "name": "salary",
         "type": "\"double\""
        },
        {
         "metadata": "{}",
         "name": "drk",
         "type": "\"integer\""
        }
       ],
       "type": "table"
      }
     },
     "output_type": "display_data"
    }
   ],
   "source": [
    "%sql\n",
    "WITH top_3_earners as (SELECT *,dense_rank() over(order by salary desc ) as drk FROM employees )\n",
    "\n",
    "SELECT * FROM top_3_earners  WHERE drk < 4; "
   ]
  },
  {
   "cell_type": "code",
   "execution_count": 0,
   "metadata": {
    "application/vnd.databricks.v1+cell": {
     "cellMetadata": {
      "byteLimit": 2048000,
      "rowLimit": 10000
     },
     "inputWidgets": {},
     "nuid": "ec5d7e61-c3c0-42f7-b5be-276ee22bc925",
     "showTitle": false,
     "title": ""
    }
   },
   "outputs": [
    {
     "output_type": "display_data",
     "data": {
      "text/html": [
       "<style scoped>\n",
       "  .table-result-container {\n",
       "    max-height: 300px;\n",
       "    overflow: auto;\n",
       "  }\n",
       "  table, th, td {\n",
       "    border: 1px solid black;\n",
       "    border-collapse: collapse;\n",
       "  }\n",
       "  th, td {\n",
       "    padding: 5px;\n",
       "  }\n",
       "  th {\n",
       "    text-align: left;\n",
       "  }\n",
       "</style><div class='table-result-container'><table class='table-result'><thead style='background-color: white'><tr><th>employee_id</th><th>employee_name</th><th>department</th><th>salary</th><th>avg</th></tr></thead><tbody><tr><td>9</td><td>Sophie Walker</td><td>Finance</td><td>72000.0</td><td>70000.0</td></tr><tr><td>13</td><td>Emma White</td><td>Finance</td><td>68000.0</td><td>70000.0</td></tr><tr><td>18</td><td>Mia Adams</td><td>Finance</td><td>70000.0</td><td>70000.0</td></tr><tr><td>6</td><td>Eva Green</td><td>HR</td><td>52000.0</td><td>50000.0</td></tr><tr><td>12</td><td>Michael Baker</td><td>HR</td><td>48000.0</td><td>50000.0</td></tr><tr><td>15</td><td>Grace Taylor</td><td>HR</td><td>50000.0</td><td>50000.0</td></tr><tr><td>8</td><td>Alex Turner</td><td>IT</td><td>63000.0</td><td>62600.0</td></tr><tr><td>10</td><td>David Clark</td><td>IT</td><td>60000.0</td><td>62600.0</td></tr><tr><td>14</td><td>Daniel Smith</td><td>IT</td><td>65000.0</td><td>62600.0</td></tr><tr><td>17</td><td>Ava Hall</td><td>IT</td><td>61000.0</td><td>62600.0</td></tr><tr><td>19</td><td>Noah Moore</td><td>IT</td><td>64000.0</td><td>62600.0</td></tr><tr><td>7</td><td>Sam Johnson</td><td>Marketing</td><td>59000.0</td><td>57500.0</td></tr><tr><td>11</td><td>Olivia King</td><td>Marketing</td><td>56000.0</td><td>57500.0</td></tr><tr><td>16</td><td>Liam Wilson</td><td>Marketing</td><td>58000.0</td><td>57500.0</td></tr><tr><td>20</td><td>Isabella Davis</td><td>Marketing</td><td>57000.0</td><td>57500.0</td></tr></tbody></table></div>"
      ]
     },
     "metadata": {
      "application/vnd.databricks.v1+output": {
       "addedWidgets": {},
       "aggData": [],
       "aggError": "",
       "aggOverflow": false,
       "aggSchema": [],
       "aggSeriesLimitReached": false,
       "aggType": "",
       "arguments": {},
       "columnCustomDisplayInfos": {},
       "data": [
        [
         9,
         "Sophie Walker",
         "Finance",
         72000.0,
         70000.0
        ],
        [
         13,
         "Emma White",
         "Finance",
         68000.0,
         70000.0
        ],
        [
         18,
         "Mia Adams",
         "Finance",
         70000.0,
         70000.0
        ],
        [
         6,
         "Eva Green",
         "HR",
         52000.0,
         50000.0
        ],
        [
         12,
         "Michael Baker",
         "HR",
         48000.0,
         50000.0
        ],
        [
         15,
         "Grace Taylor",
         "HR",
         50000.0,
         50000.0
        ],
        [
         8,
         "Alex Turner",
         "IT",
         63000.0,
         62600.0
        ],
        [
         10,
         "David Clark",
         "IT",
         60000.0,
         62600.0
        ],
        [
         14,
         "Daniel Smith",
         "IT",
         65000.0,
         62600.0
        ],
        [
         17,
         "Ava Hall",
         "IT",
         61000.0,
         62600.0
        ],
        [
         19,
         "Noah Moore",
         "IT",
         64000.0,
         62600.0
        ],
        [
         7,
         "Sam Johnson",
         "Marketing",
         59000.0,
         57500.0
        ],
        [
         11,
         "Olivia King",
         "Marketing",
         56000.0,
         57500.0
        ],
        [
         16,
         "Liam Wilson",
         "Marketing",
         58000.0,
         57500.0
        ],
        [
         20,
         "Isabella Davis",
         "Marketing",
         57000.0,
         57500.0
        ]
       ],
       "datasetInfos": [],
       "dbfsResultPath": null,
       "isJsonSchema": true,
       "metadata": {
        "isDbfsCommandResult": false
       },
       "overflow": false,
       "plotOptions": {
        "customPlotOptions": {},
        "displayType": "table",
        "pivotAggregation": null,
        "pivotColumns": null,
        "xColumns": null,
        "yColumns": null
       },
       "removedWidgets": [],
       "schema": [
        {
         "metadata": "{}",
         "name": "employee_id",
         "type": "\"integer\""
        },
        {
         "metadata": "{}",
         "name": "employee_name",
         "type": "\"string\""
        },
        {
         "metadata": "{}",
         "name": "department",
         "type": "\"string\""
        },
        {
         "metadata": "{}",
         "name": "salary",
         "type": "\"double\""
        },
        {
         "metadata": "{}",
         "name": "avg",
         "type": "\"double\""
        }
       ],
       "type": "table"
      }
     },
     "output_type": "display_data"
    }
   ],
   "source": [
    "%sql\n",
    "WITH avg_sal AS (select * , avg(salary) over(PARTITION BY department) as avg FROM employees )\n",
    "select * FROM avg_sal;"
   ]
  },
  {
   "cell_type": "code",
   "execution_count": 0,
   "metadata": {
    "application/vnd.databricks.v1+cell": {
     "cellMetadata": {
      "byteLimit": 2048000,
      "rowLimit": 10000
     },
     "inputWidgets": {},
     "nuid": "01d3bc05-38e4-4602-92cd-9843387557b1",
     "showTitle": false,
     "title": ""
    }
   },
   "outputs": [
    {
     "output_type": "display_data",
     "data": {
      "text/html": [
       "<style scoped>\n",
       "  .table-result-container {\n",
       "    max-height: 300px;\n",
       "    overflow: auto;\n",
       "  }\n",
       "  table, th, td {\n",
       "    border: 1px solid black;\n",
       "    border-collapse: collapse;\n",
       "  }\n",
       "  th, td {\n",
       "    padding: 5px;\n",
       "  }\n",
       "  th {\n",
       "    text-align: left;\n",
       "  }\n",
       "</style><div class='table-result-container'><table class='table-result'><thead style='background-color: white'><tr><th>employee_id</th><th>employee_name</th><th>department</th><th>salary</th><th>performance</th><th>bonus</th></tr></thead><tbody><tr><td>6</td><td>Eva Green</td><td>HR</td><td>52000.0</td><td>Intermediate Performer</td><td>2600.0</td></tr><tr><td>7</td><td>Sam Johnson</td><td>Marketing</td><td>59000.0</td><td>Intermediate Performer</td><td>2950.0</td></tr><tr><td>8</td><td>Alex Turner</td><td>IT</td><td>63000.0</td><td>High Performer</td><td>6300.0</td></tr><tr><td>9</td><td>Sophie Walker</td><td>Finance</td><td>72000.0</td><td>High Performer</td><td>7200.0</td></tr><tr><td>10</td><td>David Clark</td><td>IT</td><td>60000.0</td><td>Intermediate Performer</td><td>3000.0</td></tr><tr><td>11</td><td>Olivia King</td><td>Marketing</td><td>56000.0</td><td>Intermediate Performer</td><td>2800.0</td></tr><tr><td>12</td><td>Michael Baker</td><td>HR</td><td>48000.0</td><td>ok</td><td>0.0</td></tr><tr><td>13</td><td>Emma White</td><td>Finance</td><td>68000.0</td><td>High Performer</td><td>6800.0</td></tr><tr><td>14</td><td>Daniel Smith</td><td>IT</td><td>65000.0</td><td>High Performer</td><td>6500.0</td></tr><tr><td>15</td><td>Grace Taylor</td><td>HR</td><td>50000.0</td><td>ok</td><td>0.0</td></tr><tr><td>16</td><td>Liam Wilson</td><td>Marketing</td><td>58000.0</td><td>Intermediate Performer</td><td>2900.0</td></tr><tr><td>17</td><td>Ava Hall</td><td>IT</td><td>61000.0</td><td>High Performer</td><td>6100.0</td></tr><tr><td>18</td><td>Mia Adams</td><td>Finance</td><td>70000.0</td><td>High Performer</td><td>7000.0</td></tr><tr><td>19</td><td>Noah Moore</td><td>IT</td><td>64000.0</td><td>High Performer</td><td>6400.0</td></tr><tr><td>20</td><td>Isabella Davis</td><td>Marketing</td><td>57000.0</td><td>Intermediate Performer</td><td>2850.0</td></tr></tbody></table></div>"
      ]
     },
     "metadata": {
      "application/vnd.databricks.v1+output": {
       "addedWidgets": {},
       "aggData": [],
       "aggError": "",
       "aggOverflow": false,
       "aggSchema": [],
       "aggSeriesLimitReached": false,
       "aggType": "",
       "arguments": {},
       "columnCustomDisplayInfos": {},
       "data": [
        [
         6,
         "Eva Green",
         "HR",
         52000.0,
         "Intermediate Performer",
         2600.0
        ],
        [
         7,
         "Sam Johnson",
         "Marketing",
         59000.0,
         "Intermediate Performer",
         2950.0
        ],
        [
         8,
         "Alex Turner",
         "IT",
         63000.0,
         "High Performer",
         6300.0
        ],
        [
         9,
         "Sophie Walker",
         "Finance",
         72000.0,
         "High Performer",
         7200.0
        ],
        [
         10,
         "David Clark",
         "IT",
         60000.0,
         "Intermediate Performer",
         3000.0
        ],
        [
         11,
         "Olivia King",
         "Marketing",
         56000.0,
         "Intermediate Performer",
         2800.0
        ],
        [
         12,
         "Michael Baker",
         "HR",
         48000.0,
         "ok",
         0.0
        ],
        [
         13,
         "Emma White",
         "Finance",
         68000.0,
         "High Performer",
         6800.0
        ],
        [
         14,
         "Daniel Smith",
         "IT",
         65000.0,
         "High Performer",
         6500.0
        ],
        [
         15,
         "Grace Taylor",
         "HR",
         50000.0,
         "ok",
         0.0
        ],
        [
         16,
         "Liam Wilson",
         "Marketing",
         58000.0,
         "Intermediate Performer",
         2900.0
        ],
        [
         17,
         "Ava Hall",
         "IT",
         61000.0,
         "High Performer",
         6100.0
        ],
        [
         18,
         "Mia Adams",
         "Finance",
         70000.0,
         "High Performer",
         7000.0
        ],
        [
         19,
         "Noah Moore",
         "IT",
         64000.0,
         "High Performer",
         6400.0
        ],
        [
         20,
         "Isabella Davis",
         "Marketing",
         57000.0,
         "Intermediate Performer",
         2850.0
        ]
       ],
       "datasetInfos": [],
       "dbfsResultPath": null,
       "isJsonSchema": true,
       "metadata": {
        "isDbfsCommandResult": false
       },
       "overflow": false,
       "plotOptions": {
        "customPlotOptions": {},
        "displayType": "table",
        "pivotAggregation": null,
        "pivotColumns": null,
        "xColumns": null,
        "yColumns": null
       },
       "removedWidgets": [],
       "schema": [
        {
         "metadata": "{}",
         "name": "employee_id",
         "type": "\"integer\""
        },
        {
         "metadata": "{}",
         "name": "employee_name",
         "type": "\"string\""
        },
        {
         "metadata": "{}",
         "name": "department",
         "type": "\"string\""
        },
        {
         "metadata": "{}",
         "name": "salary",
         "type": "\"double\""
        },
        {
         "metadata": "{}",
         "name": "performance",
         "type": "\"string\""
        },
        {
         "metadata": "{}",
         "name": "bonus",
         "type": "\"double\""
        }
       ],
       "type": "table"
      }
     },
     "output_type": "display_data"
    }
   ],
   "source": [
    "%sql\n",
    "WITH emp_performance as (select *, (CASE \n",
    "  WHEN salary > 60000 THEN \"High Performer\"\n",
    "  WHEN salary > 50000 THEN \"Intermediate Performer\"\n",
    "  else \"ok\"  END) as performance FROM Employees)\n",
    "SELECT *,CASE\n",
    "  WHEN performance = \"High Performer\" THEN salary*0.1\n",
    "  WHEN performance = \"Intermediate Performer\" THEN salary*0.05\n",
    "  ELSE 0 end as bonus FROM emp_performance"
   ]
  },
  {
   "cell_type": "code",
   "execution_count": 0,
   "metadata": {
    "application/vnd.databricks.v1+cell": {
     "cellMetadata": {},
     "inputWidgets": {},
     "nuid": "0f85ac70-5ab0-4eb8-a01a-8db4c44b70e6",
     "showTitle": false,
     "title": ""
    }
   },
   "outputs": [],
   "source": []
  }
 ],
 "metadata": {
  "application/vnd.databricks.v1+notebook": {
   "dashboards": [],
   "language": "python",
   "notebookMetadata": {
    "pythonIndentUnit": 4
   },
   "notebookName": "SQL CTE",
   "widgets": {}
  }
 },
 "nbformat": 4,
 "nbformat_minor": 0
}
