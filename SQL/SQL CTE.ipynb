{
 "cells": [
  {
   "cell_type": "code",
   "execution_count": 0,
   "metadata": {
    "application/vnd.databricks.v1+cell": {
     "cellMetadata": {
      "byteLimit": 2048000,
      "implicitDf": true,
      "rowLimit": 10000
     },
     "inputWidgets": {},
     "nuid": "1d49f696-32ec-4945-a14d-32225cc985d4",
     "showTitle": false,
     "title": ""
    }
   },
   "outputs": [
    {
     "output_type": "display_data",
     "data": {
      "text/html": [
       "<style scoped>\n",
       "  .table-result-container {\n",
       "    max-height: 300px;\n",
       "    overflow: auto;\n",
       "  }\n",
       "  table, th, td {\n",
       "    border: 1px solid black;\n",
       "    border-collapse: collapse;\n",
       "  }\n",
       "  th, td {\n",
       "    padding: 5px;\n",
       "  }\n",
       "  th {\n",
       "    text-align: left;\n",
       "  }\n",
       "</style><div class='table-result-container'><table class='table-result'><thead style='background-color: white'><tr><th>num_affected_rows</th><th>num_inserted_rows</th></tr></thead><tbody><tr><td>15</td><td>15</td></tr></tbody></table></div>"
      ]
     },
     "metadata": {
      "application/vnd.databricks.v1+output": {
       "addedWidgets": {},
       "aggData": [],
       "aggError": "",
       "aggOverflow": false,
       "aggSchema": [],
       "aggSeriesLimitReached": false,
       "aggType": "",
       "arguments": {},
       "columnCustomDisplayInfos": {},
       "data": [
        [
         15,
         15
        ]
       ],
       "datasetInfos": [],
       "dbfsResultPath": null,
       "isJsonSchema": true,
       "metadata": {},
       "overflow": false,
       "plotOptions": {
        "customPlotOptions": {},
        "displayType": "table",
        "pivotAggregation": null,
        "pivotColumns": null,
        "xColumns": null,
        "yColumns": null
       },
       "removedWidgets": [],
       "schema": [
        {
         "metadata": "{}",
         "name": "num_affected_rows",
         "type": "\"long\""
        },
        {
         "metadata": "{}",
         "name": "num_inserted_rows",
         "type": "\"long\""
        }
       ],
       "type": "table"
      }
     },
     "output_type": "display_data"
    }
   ],
   "source": [
    "%sql\n",
    "CREATE TABLE employees (\n",
    "  employee_id INT,\n",
    "  employee_name STRING,\n",
    "  department STRING,\n",
    "  salary DOUBLE\n",
    ");\n",
    " \n",
    "INSERT INTO employees VALUES\n",
    "  (6, 'Eva Green', 'HR', 52000),\n",
    "  (7, 'Sam Johnson', 'Marketing', 59000),\n",
    "  (8, 'Alex Turner', 'IT', 63000),\n",
    "  (9, 'Sophie Walker', 'Finance', 72000),\n",
    "  (10, 'David Clark', 'IT', 60000),\n",
    "  (11, 'Olivia King', 'Marketing', 56000),\n",
    "  (12, 'Michael Baker', 'HR', 48000),\n",
    "  (13, 'Emma White', 'Finance', 68000),\n",
    "  (14, 'Daniel Smith', 'IT', 65000),\n",
    "  (15, 'Grace Taylor', 'HR', 50000),\n",
    "  (16, 'Liam Wilson', 'Marketing', 58000),\n",
    "  (17, 'Ava Hall', 'IT', 61000),\n",
    "  (18, 'Mia Adams', 'Finance', 70000),\n",
    "  (19, 'Noah Moore', 'IT', 64000),\n",
    "  (20, 'Isabella Davis', 'Marketing', 57000);"
   ]
  },
  {
   "cell_type": "code",
   "execution_count": 0,
   "metadata": {
    "application/vnd.databricks.v1+cell": {
     "cellMetadata": {
      "byteLimit": 2048000,
      "implicitDf": true,
      "rowLimit": 10000
     },
     "inputWidgets": {},
     "nuid": "5892ad3d-4529-4f7e-a473-9fefb183e0e7",
     "showTitle": false,
     "title": ""
    }
   },
   "outputs": [
    {
     "output_type": "display_data",
     "data": {
      "text/html": [
       "<style scoped>\n",
       "  .table-result-container {\n",
       "    max-height: 300px;\n",
       "    overflow: auto;\n",
       "  }\n",
       "  table, th, td {\n",
       "    border: 1px solid black;\n",
       "    border-collapse: collapse;\n",
       "  }\n",
       "  th, td {\n",
       "    padding: 5px;\n",
       "  }\n",
       "  th {\n",
       "    text-align: left;\n",
       "  }\n",
       "</style><div class='table-result-container'><table class='table-result'><thead style='background-color: white'><tr><th>employee_id</th><th>employee_name</th><th>department</th><th>salary</th></tr></thead><tbody><tr><td>8</td><td>Alex Turner</td><td>IT</td><td>63000.0</td></tr><tr><td>9</td><td>Sophie Walker</td><td>Finance</td><td>72000.0</td></tr><tr><td>13</td><td>Emma White</td><td>Finance</td><td>68000.0</td></tr><tr><td>14</td><td>Daniel Smith</td><td>IT</td><td>65000.0</td></tr><tr><td>17</td><td>Ava Hall</td><td>IT</td><td>61000.0</td></tr><tr><td>18</td><td>Mia Adams</td><td>Finance</td><td>70000.0</td></tr><tr><td>19</td><td>Noah Moore</td><td>IT</td><td>64000.0</td></tr></tbody></table></div>"
      ]
     },
     "metadata": {
      "application/vnd.databricks.v1+output": {
       "addedWidgets": {},
       "aggData": [],
       "aggError": "",
       "aggOverflow": false,
       "aggSchema": [],
       "aggSeriesLimitReached": false,
       "aggType": "",
       "arguments": {},
       "columnCustomDisplayInfos": {},
       "data": [
        [
         8,
         "Alex Turner",
         "IT",
         63000.0
        ],
        [
         9,
         "Sophie Walker",
         "Finance",
         72000.0
        ],
        [
         13,
         "Emma White",
         "Finance",
         68000.0
        ],
        [
         14,
         "Daniel Smith",
         "IT",
         65000.0
        ],
        [
         17,
         "Ava Hall",
         "IT",
         61000.0
        ],
        [
         18,
         "Mia Adams",
         "Finance",
         70000.0
        ],
        [
         19,
         "Noah Moore",
         "IT",
         64000.0
        ]
       ],
       "datasetInfos": [],
       "dbfsResultPath": null,
       "isJsonSchema": true,
       "metadata": {},
       "overflow": false,
       "plotOptions": {
        "customPlotOptions": {},
        "displayType": "table",
        "pivotAggregation": null,
        "pivotColumns": null,
        "xColumns": null,
        "yColumns": null
       },
       "removedWidgets": [],
       "schema": [
        {
         "metadata": "{}",
         "name": "employee_id",
         "type": "\"integer\""
        },
        {
         "metadata": "{}",
         "name": "employee_name",
         "type": "\"string\""
        },
        {
         "metadata": "{}",
         "name": "department",
         "type": "\"string\""
        },
        {
         "metadata": "{}",
         "name": "salary",
         "type": "\"double\""
        }
       ],
       "type": "table"
      }
     },
     "output_type": "display_data"
    }
   ],
   "source": [
    "%sql\n",
    "WITH cte_name AS (\n",
    "    SELECT employee_id, employee_name ,department,\n",
    "  salary\n",
    "    FROM employees\n",
    "    WHERE salary>60000\n",
    ")\n",
    "\n",
    "SELECT *\n",
    "FROM cte_name;\n"
   ]
  },
  {
   "cell_type": "code",
   "execution_count": 0,
   "metadata": {
    "application/vnd.databricks.v1+cell": {
     "cellMetadata": {
      "byteLimit": 2048000,
      "implicitDf": true,
      "rowLimit": 10000
     },
     "inputWidgets": {},
     "nuid": "a4ff200d-1fc9-4132-b014-b4464dfbd51f",
     "showTitle": false,
     "title": ""
    }
   },
   "outputs": [
    {
     "output_type": "display_data",
     "data": {
      "text/html": [
       "<style scoped>\n",
       "  .table-result-container {\n",
       "    max-height: 300px;\n",
       "    overflow: auto;\n",
       "  }\n",
       "  table, th, td {\n",
       "    border: 1px solid black;\n",
       "    border-collapse: collapse;\n",
       "  }\n",
       "  th, td {\n",
       "    padding: 5px;\n",
       "  }\n",
       "  th {\n",
       "    text-align: left;\n",
       "  }\n",
       "</style><div class='table-result-container'><table class='table-result'><thead style='background-color: white'><tr><th>employee_id</th><th>employee_name</th><th>department</th><th>salary</th></tr></thead><tbody><tr><td>8</td><td>Alex Turner</td><td>IT</td><td>63000.0</td></tr><tr><td>10</td><td>David Clark</td><td>IT</td><td>60000.0</td></tr><tr><td>14</td><td>Daniel Smith</td><td>IT</td><td>65000.0</td></tr><tr><td>17</td><td>Ava Hall</td><td>IT</td><td>61000.0</td></tr><tr><td>19</td><td>Noah Moore</td><td>IT</td><td>64000.0</td></tr></tbody></table></div>"
      ]
     },
     "metadata": {
      "application/vnd.databricks.v1+output": {
       "addedWidgets": {},
       "aggData": [],
       "aggError": "",
       "aggOverflow": false,
       "aggSchema": [],
       "aggSeriesLimitReached": false,
       "aggType": "",
       "arguments": {},
       "columnCustomDisplayInfos": {},
       "data": [
        [
         8,
         "Alex Turner",
         "IT",
         63000.0
        ],
        [
         10,
         "David Clark",
         "IT",
         60000.0
        ],
        [
         14,
         "Daniel Smith",
         "IT",
         65000.0
        ],
        [
         17,
         "Ava Hall",
         "IT",
         61000.0
        ],
        [
         19,
         "Noah Moore",
         "IT",
         64000.0
        ]
       ],
       "datasetInfos": [],
       "dbfsResultPath": null,
       "isJsonSchema": true,
       "metadata": {},
       "overflow": false,
       "plotOptions": {
        "customPlotOptions": {},
        "displayType": "table",
        "pivotAggregation": null,
        "pivotColumns": null,
        "xColumns": null,
        "yColumns": null
       },
       "removedWidgets": [],
       "schema": [
        {
         "metadata": "{}",
         "name": "employee_id",
         "type": "\"integer\""
        },
        {
         "metadata": "{}",
         "name": "employee_name",
         "type": "\"string\""
        },
        {
         "metadata": "{}",
         "name": "department",
         "type": "\"string\""
        },
        {
         "metadata": "{}",
         "name": "salary",
         "type": "\"double\""
        }
       ],
       "type": "table"
      }
     },
     "output_type": "display_data"
    }
   ],
   "source": [
    "%sql\n",
    "WITH it_dept AS (\n",
    "  SELECT *\n",
    "  FROM employees\n",
    "  WHERE department = \"IT\"\n",
    ")\n",
    " \n",
    "SELECT * FROM it_dept\n"
   ]
  },
  {
   "cell_type": "code",
   "execution_count": 0,
   "metadata": {
    "application/vnd.databricks.v1+cell": {
     "cellMetadata": {},
     "inputWidgets": {},
     "nuid": "dce8e7de-1ef2-426b-891c-16853ae8e465",
     "showTitle": false,
     "title": ""
    }
   },
   "outputs": [],
   "source": []
  },
  {
   "cell_type": "code",
   "execution_count": 0,
   "metadata": {
    "application/vnd.databricks.v1+cell": {
     "cellMetadata": {},
     "inputWidgets": {},
     "nuid": "17ca6adf-ab11-48d9-b3b6-1cbd4dba1ad3",
     "showTitle": false,
     "title": ""
    }
   },
   "outputs": [],
   "source": []
  },
  {
   "cell_type": "code",
   "execution_count": 0,
   "metadata": {
    "application/vnd.databricks.v1+cell": {
     "cellMetadata": {},
     "inputWidgets": {},
     "nuid": "64eb60ec-8094-43c8-99c4-eb26474d61ce",
     "showTitle": false,
     "title": ""
    }
   },
   "outputs": [],
   "source": []
  },
  {
   "cell_type": "code",
   "execution_count": 0,
   "metadata": {
    "application/vnd.databricks.v1+cell": {
     "cellMetadata": {
      "byteLimit": 2048000,
      "implicitDf": true,
      "rowLimit": 10000
     },
     "inputWidgets": {},
     "nuid": "edcc3b3b-0db4-4407-b59d-f0db4000e532",
     "showTitle": false,
     "title": ""
    }
   },
   "outputs": [
    {
     "output_type": "display_data",
     "data": {
      "text/html": [
       "<style scoped>\n",
       "  .table-result-container {\n",
       "    max-height: 300px;\n",
       "    overflow: auto;\n",
       "  }\n",
       "  table, th, td {\n",
       "    border: 1px solid black;\n",
       "    border-collapse: collapse;\n",
       "  }\n",
       "  th, td {\n",
       "    padding: 5px;\n",
       "  }\n",
       "  th {\n",
       "    text-align: left;\n",
       "  }\n",
       "</style><div class='table-result-container'><table class='table-result'><thead style='background-color: white'><tr><th>employee_id</th><th>employee_name</th><th>department</th><th>salary</th><th>earnings_rank</th></tr></thead><tbody><tr><td>9</td><td>Sophie Walker</td><td>Finance</td><td>72000.0</td><td>1</td></tr><tr><td>18</td><td>Mia Adams</td><td>Finance</td><td>70000.0</td><td>2</td></tr><tr><td>13</td><td>Emma White</td><td>Finance</td><td>68000.0</td><td>3</td></tr></tbody></table></div>"
      ]
     },
     "metadata": {
      "application/vnd.databricks.v1+output": {
       "addedWidgets": {},
       "aggData": [],
       "aggError": "",
       "aggOverflow": false,
       "aggSchema": [],
       "aggSeriesLimitReached": false,
       "aggType": "",
       "arguments": {},
       "columnCustomDisplayInfos": {},
       "data": [
        [
         9,
         "Sophie Walker",
         "Finance",
         72000.0,
         1
        ],
        [
         18,
         "Mia Adams",
         "Finance",
         70000.0,
         2
        ],
        [
         13,
         "Emma White",
         "Finance",
         68000.0,
         3
        ]
       ],
       "datasetInfos": [],
       "dbfsResultPath": null,
       "isJsonSchema": true,
       "metadata": {},
       "overflow": false,
       "plotOptions": {
        "customPlotOptions": {},
        "displayType": "table",
        "pivotAggregation": null,
        "pivotColumns": null,
        "xColumns": null,
        "yColumns": null
       },
       "removedWidgets": [],
       "schema": [
        {
         "metadata": "{}",
         "name": "employee_id",
         "type": "\"integer\""
        },
        {
         "metadata": "{}",
         "name": "employee_name",
         "type": "\"string\""
        },
        {
         "metadata": "{}",
         "name": "department",
         "type": "\"string\""
        },
        {
         "metadata": "{}",
         "name": "salary",
         "type": "\"double\""
        },
        {
         "metadata": "{}",
         "name": "earnings_rank",
         "type": "\"integer\""
        }
       ],
       "type": "table"
      }
     },
     "output_type": "display_data"
    }
   ],
   "source": [
    "%sql\n",
    "WITH cte_ranked_earnings AS (\n",
    "    SELECT employee_id, employee_name, department, salary,\n",
    "           ROW_NUMBER() OVER (ORDER BY salary DESC) AS earnings_rank\n",
    "    FROM employees\n",
    ")\n",
    "\n",
    "SELECT *\n",
    "FROM cte_ranked_earnings\n",
    "WHERE earnings_rank <= 3;\n"
   ]
  },
  {
   "cell_type": "code",
   "execution_count": 0,
   "metadata": {
    "application/vnd.databricks.v1+cell": {
     "cellMetadata": {
      "byteLimit": 2048000,
      "implicitDf": true,
      "rowLimit": 10000
     },
     "inputWidgets": {},
     "nuid": "42005953-a41a-4154-b1d7-76f0f7a9d8e0",
     "showTitle": false,
     "title": ""
    }
   },
   "outputs": [
    {
     "output_type": "display_data",
     "data": {
      "text/html": [
       "<style scoped>\n",
       "  .table-result-container {\n",
       "    max-height: 300px;\n",
       "    overflow: auto;\n",
       "  }\n",
       "  table, th, td {\n",
       "    border: 1px solid black;\n",
       "    border-collapse: collapse;\n",
       "  }\n",
       "  th, td {\n",
       "    padding: 5px;\n",
       "  }\n",
       "  th {\n",
       "    text-align: left;\n",
       "  }\n",
       "</style><div class='table-result-container'><table class='table-result'><thead style='background-color: white'><tr><th>department</th><th>avg_salary</th></tr></thead><tbody><tr><td>HR</td><td>50000.0</td></tr><tr><td>Finance</td><td>70000.0</td></tr><tr><td>Marketing</td><td>57500.0</td></tr><tr><td>IT</td><td>62600.0</td></tr></tbody></table></div>"
      ]
     },
     "metadata": {
      "application/vnd.databricks.v1+output": {
       "addedWidgets": {},
       "aggData": [],
       "aggError": "",
       "aggOverflow": false,
       "aggSchema": [],
       "aggSeriesLimitReached": false,
       "aggType": "",
       "arguments": {},
       "columnCustomDisplayInfos": {},
       "data": [
        [
         "HR",
         50000.0
        ],
        [
         "Finance",
         70000.0
        ],
        [
         "Marketing",
         57500.0
        ],
        [
         "IT",
         62600.0
        ]
       ],
       "datasetInfos": [],
       "dbfsResultPath": null,
       "isJsonSchema": true,
       "metadata": {},
       "overflow": false,
       "plotOptions": {
        "customPlotOptions": {},
        "displayType": "table",
        "pivotAggregation": null,
        "pivotColumns": null,
        "xColumns": null,
        "yColumns": null
       },
       "removedWidgets": [],
       "schema": [
        {
         "metadata": "{}",
         "name": "department",
         "type": "\"string\""
        },
        {
         "metadata": "{}",
         "name": "avg_salary",
         "type": "\"double\""
        }
       ],
       "type": "table"
      }
     },
     "output_type": "display_data"
    }
   ],
   "source": [
    "%sql\n",
    "WITH cte_avg_salary AS (\n",
    "    SELECT department, AVG(salary) AS avg_salary\n",
    "    FROM employees\n",
    "    GROUP BY department\n",
    ")\n",
    "\n",
    "SELECT *\n",
    "FROM cte_avg_salary;\n"
   ]
  },
  {
   "cell_type": "code",
   "execution_count": 0,
   "metadata": {
    "application/vnd.databricks.v1+cell": {
     "cellMetadata": {
      "byteLimit": 2048000,
      "implicitDf": true,
      "rowLimit": 10000
     },
     "inputWidgets": {},
     "nuid": "49d5800f-f1dc-47c8-b9c8-0cd65904e371",
     "showTitle": false,
     "title": ""
    }
   },
   "outputs": [
    {
     "output_type": "display_data",
     "data": {
      "text/html": [
       "<style scoped>\n",
       "  .table-result-container {\n",
       "    max-height: 300px;\n",
       "    overflow: auto;\n",
       "  }\n",
       "  table, th, td {\n",
       "    border: 1px solid black;\n",
       "    border-collapse: collapse;\n",
       "  }\n",
       "  th, td {\n",
       "    padding: 5px;\n",
       "  }\n",
       "  th {\n",
       "    text-align: left;\n",
       "  }\n",
       "</style><div class='table-result-container'><table class='table-result'><thead style='background-color: white'><tr><th>employee_id</th><th>employee_name</th><th>department</th><th>salary</th><th>performance_category</th><th>performance_bonus</th></tr></thead><tbody><tr><td>6</td><td>Eva Green</td><td>HR</td><td>52000.0</td><td>Intermediate Performer</td><td>2600.0</td></tr><tr><td>7</td><td>Sam Johnson</td><td>Marketing</td><td>59000.0</td><td>Intermediate Performer</td><td>2950.0</td></tr><tr><td>8</td><td>Alex Turner</td><td>IT</td><td>63000.0</td><td>High Performer</td><td>6300.0</td></tr><tr><td>9</td><td>Sophie Walker</td><td>Finance</td><td>72000.0</td><td>High Performer</td><td>7200.0</td></tr><tr><td>10</td><td>David Clark</td><td>IT</td><td>60000.0</td><td>Intermediate Performer</td><td>3000.0</td></tr><tr><td>11</td><td>Olivia King</td><td>Marketing</td><td>56000.0</td><td>Intermediate Performer</td><td>2800.0</td></tr><tr><td>12</td><td>Michael Baker</td><td>HR</td><td>48000.0</td><td>Low Performer</td><td>0.0</td></tr><tr><td>13</td><td>Emma White</td><td>Finance</td><td>68000.0</td><td>High Performer</td><td>6800.0</td></tr><tr><td>14</td><td>Daniel Smith</td><td>IT</td><td>65000.0</td><td>High Performer</td><td>6500.0</td></tr><tr><td>15</td><td>Grace Taylor</td><td>HR</td><td>50000.0</td><td>Low Performer</td><td>0.0</td></tr><tr><td>16</td><td>Liam Wilson</td><td>Marketing</td><td>58000.0</td><td>Intermediate Performer</td><td>2900.0</td></tr><tr><td>17</td><td>Ava Hall</td><td>IT</td><td>61000.0</td><td>High Performer</td><td>6100.0</td></tr><tr><td>18</td><td>Mia Adams</td><td>Finance</td><td>70000.0</td><td>High Performer</td><td>7000.0</td></tr><tr><td>19</td><td>Noah Moore</td><td>IT</td><td>64000.0</td><td>High Performer</td><td>6400.0</td></tr><tr><td>20</td><td>Isabella Davis</td><td>Marketing</td><td>57000.0</td><td>Intermediate Performer</td><td>2850.0</td></tr></tbody></table></div>"
      ]
     },
     "metadata": {
      "application/vnd.databricks.v1+output": {
       "addedWidgets": {},
       "aggData": [],
       "aggError": "",
       "aggOverflow": false,
       "aggSchema": [],
       "aggSeriesLimitReached": false,
       "aggType": "",
       "arguments": {},
       "columnCustomDisplayInfos": {},
       "data": [
        [
         6,
         "Eva Green",
         "HR",
         52000.0,
         "Intermediate Performer",
         2600.0
        ],
        [
         7,
         "Sam Johnson",
         "Marketing",
         59000.0,
         "Intermediate Performer",
         2950.0
        ],
        [
         8,
         "Alex Turner",
         "IT",
         63000.0,
         "High Performer",
         6300.0
        ],
        [
         9,
         "Sophie Walker",
         "Finance",
         72000.0,
         "High Performer",
         7200.0
        ],
        [
         10,
         "David Clark",
         "IT",
         60000.0,
         "Intermediate Performer",
         3000.0
        ],
        [
         11,
         "Olivia King",
         "Marketing",
         56000.0,
         "Intermediate Performer",
         2800.0
        ],
        [
         12,
         "Michael Baker",
         "HR",
         48000.0,
         "Low Performer",
         0.0
        ],
        [
         13,
         "Emma White",
         "Finance",
         68000.0,
         "High Performer",
         6800.0
        ],
        [
         14,
         "Daniel Smith",
         "IT",
         65000.0,
         "High Performer",
         6500.0
        ],
        [
         15,
         "Grace Taylor",
         "HR",
         50000.0,
         "Low Performer",
         0.0
        ],
        [
         16,
         "Liam Wilson",
         "Marketing",
         58000.0,
         "Intermediate Performer",
         2900.0
        ],
        [
         17,
         "Ava Hall",
         "IT",
         61000.0,
         "High Performer",
         6100.0
        ],
        [
         18,
         "Mia Adams",
         "Finance",
         70000.0,
         "High Performer",
         7000.0
        ],
        [
         19,
         "Noah Moore",
         "IT",
         64000.0,
         "High Performer",
         6400.0
        ],
        [
         20,
         "Isabella Davis",
         "Marketing",
         57000.0,
         "Intermediate Performer",
         2850.0
        ]
       ],
       "datasetInfos": [],
       "dbfsResultPath": null,
       "isJsonSchema": true,
       "metadata": {},
       "overflow": false,
       "plotOptions": {
        "customPlotOptions": {},
        "displayType": "table",
        "pivotAggregation": null,
        "pivotColumns": null,
        "xColumns": null,
        "yColumns": null
       },
       "removedWidgets": [],
       "schema": [
        {
         "metadata": "{}",
         "name": "employee_id",
         "type": "\"integer\""
        },
        {
         "metadata": "{}",
         "name": "employee_name",
         "type": "\"string\""
        },
        {
         "metadata": "{}",
         "name": "department",
         "type": "\"string\""
        },
        {
         "metadata": "{}",
         "name": "salary",
         "type": "\"double\""
        },
        {
         "metadata": "{}",
         "name": "performance_category",
         "type": "\"string\""
        },
        {
         "metadata": "{}",
         "name": "performance_bonus",
         "type": "\"double\""
        }
       ],
       "type": "table"
      }
     },
     "output_type": "display_data"
    }
   ],
   "source": [
    "%sql\n",
    "WITH cte_performance AS (\n",
    "    SELECT\n",
    "        employee_id,\n",
    "        employee_name,\n",
    "        department,\n",
    "        salary,\n",
    "        CASE\n",
    "            WHEN salary > 60000 THEN 'High Performer'\n",
    "            WHEN salary > 50000 THEN 'Intermediate Performer'\n",
    "            ELSE 'Low Performer'\n",
    "        END AS performance_category\n",
    "    FROM employees\n",
    ")\n",
    "\n",
    "SELECT\n",
    "    employee_id,\n",
    "    employee_name,\n",
    "    department,\n",
    "    salary,\n",
    "    performance_category,\n",
    "    CASE\n",
    "        WHEN performance_category = 'High Performer' THEN salary * 0.1\n",
    "        WHEN performance_category = 'Intermediate Performer' THEN salary * 0.05\n",
    "        ELSE 0\n",
    "    END AS performance_bonus\n",
    "FROM cte_performance;\n"
   ]
  },
  {
   "cell_type": "code",
   "execution_count": 0,
   "metadata": {
    "application/vnd.databricks.v1+cell": {
     "cellMetadata": {},
     "inputWidgets": {},
     "nuid": "0c995961-30ad-448c-9369-cc1018852daf",
     "showTitle": false,
     "title": ""
    }
   },
   "outputs": [],
   "source": []
  }
 ],
 "metadata": {
  "application/vnd.databricks.v1+notebook": {
   "dashboards": [],
   "language": "python",
   "notebookMetadata": {
    "mostRecentlyExecutedCommandWithImplicitDF": {
     "commandId": 380307086320542,
     "dataframes": [
      "_sqldf"
     ]
    },
    "pythonIndentUnit": 4
   },
   "notebookName": "SQL CTE",
   "widgets": {}
  }
 },
 "nbformat": 4,
 "nbformat_minor": 0
}
