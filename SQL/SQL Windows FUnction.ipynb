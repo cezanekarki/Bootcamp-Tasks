{
 "cells": [
  {
   "cell_type": "code",
   "execution_count": 0,
   "metadata": {
    "application/vnd.databricks.v1+cell": {
     "cellMetadata": {
      "byteLimit": 2048000,
      "rowLimit": 10000
     },
     "inputWidgets": {},
     "nuid": "c1e060a1-1043-44e8-906c-ade2a635c156",
     "showTitle": false,
     "title": ""
    }
   },
   "outputs": [
    {
     "output_type": "display_data",
     "data": {
      "text/html": [
       "<style scoped>\n",
       "  .ansiout {\n",
       "    display: block;\n",
       "    unicode-bidi: embed;\n",
       "    white-space: pre-wrap;\n",
       "    word-wrap: break-word;\n",
       "    word-break: break-all;\n",
       "    font-family: \"Menlo\", \"Monaco\", \"Consolas\", \"Ubuntu Mono\", \"Source Code Pro\", monospace;\n",
       "    font-size: 13px;\n",
       "    color: #555;\n",
       "    margin-left: 4px;\n",
       "    line-height: 19px;\n",
       "  }\n",
       "</style>\n",
       "<div class=\"ansiout\">res1: Boolean = false\n",
       "</div>"
      ]
     },
     "metadata": {
      "application/vnd.databricks.v1+output": {
       "addedWidgets": {},
       "arguments": {},
       "data": "<div class=\"ansiout\">res1: Boolean = false\n</div>",
       "datasetInfos": [],
       "metadata": {
        "isDbfsCommandResult": false
       },
       "removedWidgets": [],
       "type": "html"
      }
     },
     "output_type": "display_data"
    }
   ],
   "source": [
    "%fs\n",
    "rm -r dbfs:/user/hive/warehouse/employee_data"
   ]
  },
  {
   "cell_type": "code",
   "execution_count": 0,
   "metadata": {
    "application/vnd.databricks.v1+cell": {
     "cellMetadata": {
      "byteLimit": 2048000,
      "rowLimit": 10000
     },
     "inputWidgets": {},
     "nuid": "63ec5bb2-0fb5-44d5-83dc-cff504da8fbf",
     "showTitle": false,
     "title": ""
    }
   },
   "outputs": [
    {
     "output_type": "display_data",
     "data": {
      "text/html": [
       "<style scoped>\n",
       "  .table-result-container {\n",
       "    max-height: 300px;\n",
       "    overflow: auto;\n",
       "  }\n",
       "  table, th, td {\n",
       "    border: 1px solid black;\n",
       "    border-collapse: collapse;\n",
       "  }\n",
       "  th, td {\n",
       "    padding: 5px;\n",
       "  }\n",
       "  th {\n",
       "    text-align: left;\n",
       "  }\n",
       "</style><div class='table-result-container'><table class='table-result'><thead style='background-color: white'><tr></tr></thead><tbody></tbody></table></div>"
      ]
     },
     "metadata": {
      "application/vnd.databricks.v1+output": {
       "addedWidgets": {},
       "aggData": [],
       "aggError": "",
       "aggOverflow": false,
       "aggSchema": [],
       "aggSeriesLimitReached": false,
       "aggType": "",
       "arguments": {},
       "columnCustomDisplayInfos": {},
       "data": [],
       "datasetInfos": [],
       "dbfsResultPath": null,
       "isJsonSchema": true,
       "metadata": {
        "isDbfsCommandResult": false
       },
       "overflow": false,
       "plotOptions": {
        "customPlotOptions": {},
        "displayType": "table",
        "pivotAggregation": null,
        "pivotColumns": null,
        "xColumns": null,
        "yColumns": null
       },
       "removedWidgets": [],
       "schema": [],
       "type": "table"
      }
     },
     "output_type": "display_data"
    }
   ],
   "source": [
    "%sql\n",
    "CREATE or replace TABLE employee_data (\n",
    "    employee_id INT ,\n",
    "    department_id INT,\n",
    "    position VARCHAR(50),\n",
    "    salary INT,\n",
    "    tenure_months INT,\n",
    "    job_experience_years INT\n",
    ");\n"
   ]
  },
  {
   "cell_type": "code",
   "execution_count": 0,
   "metadata": {
    "application/vnd.databricks.v1+cell": {
     "cellMetadata": {
      "byteLimit": 2048000,
      "rowLimit": 10000
     },
     "inputWidgets": {},
     "nuid": "afe087bc-c5e8-4188-988b-a2eecac63b7d",
     "showTitle": false,
     "title": ""
    }
   },
   "outputs": [
    {
     "output_type": "display_data",
     "data": {
      "text/html": [
       "<style scoped>\n",
       "  .table-result-container {\n",
       "    max-height: 300px;\n",
       "    overflow: auto;\n",
       "  }\n",
       "  table, th, td {\n",
       "    border: 1px solid black;\n",
       "    border-collapse: collapse;\n",
       "  }\n",
       "  th, td {\n",
       "    padding: 5px;\n",
       "  }\n",
       "  th {\n",
       "    text-align: left;\n",
       "  }\n",
       "</style><div class='table-result-container'><table class='table-result'><thead style='background-color: white'><tr><th>num_affected_rows</th><th>num_inserted_rows</th></tr></thead><tbody><tr><td>8</td><td>8</td></tr></tbody></table></div>"
      ]
     },
     "metadata": {
      "application/vnd.databricks.v1+output": {
       "addedWidgets": {},
       "aggData": [],
       "aggError": "",
       "aggOverflow": false,
       "aggSchema": [],
       "aggSeriesLimitReached": false,
       "aggType": "",
       "arguments": {},
       "columnCustomDisplayInfos": {},
       "data": [
        [
         8,
         8
        ]
       ],
       "datasetInfos": [],
       "dbfsResultPath": null,
       "isJsonSchema": true,
       "metadata": {
        "isDbfsCommandResult": false
       },
       "overflow": false,
       "plotOptions": {
        "customPlotOptions": {},
        "displayType": "table",
        "pivotAggregation": null,
        "pivotColumns": null,
        "xColumns": null,
        "yColumns": null
       },
       "removedWidgets": [],
       "schema": [
        {
         "metadata": "{}",
         "name": "num_affected_rows",
         "type": "\"long\""
        },
        {
         "metadata": "{}",
         "name": "num_inserted_rows",
         "type": "\"long\""
        }
       ],
       "type": "table"
      }
     },
     "output_type": "display_data"
    }
   ],
   "source": [
    "%sql\n",
    "INSERT INTO employee_data VALUES\n",
    "(1, 101, 'Software Engineer', 90000, 24, 2),\n",
    "(2, 102, 'Data Analyst', 60000, 18, 1),\n",
    "(3, 101, 'Project Manager', 90000, 36, 5),\n",
    "(4, 103, 'UX Designer', 75000, 27, 3),\n",
    "(5, 102, 'Business Analyst', 70000, 22, 2),\n",
    "(6, 101, 'Software Engineer', 80000, 30, 4),\n",
    "(7, 103, 'Product Manager', 95000, 42, 7),\n",
    "(8, 102, 'Data Scientist', 100000, 48, 8);"
   ]
  },
  {
   "cell_type": "code",
   "execution_count": 0,
   "metadata": {
    "application/vnd.databricks.v1+cell": {
     "cellMetadata": {
      "byteLimit": 2048000,
      "rowLimit": 10000
     },
     "inputWidgets": {},
     "nuid": "16b5ab63-8cef-401b-95ca-b0304db54dbd",
     "showTitle": false,
     "title": ""
    }
   },
   "outputs": [
    {
     "output_type": "display_data",
     "data": {
      "text/html": [
       "<style scoped>\n",
       "  .table-result-container {\n",
       "    max-height: 300px;\n",
       "    overflow: auto;\n",
       "  }\n",
       "  table, th, td {\n",
       "    border: 1px solid black;\n",
       "    border-collapse: collapse;\n",
       "  }\n",
       "  th, td {\n",
       "    padding: 5px;\n",
       "  }\n",
       "  th {\n",
       "    text-align: left;\n",
       "  }\n",
       "</style><div class='table-result-container'><table class='table-result'><thead style='background-color: white'><tr><th>employee_id</th><th>department_id</th><th>position</th><th>salary</th><th>tenure_months</th><th>job_experience_years</th></tr></thead><tbody><tr><td>1</td><td>101</td><td>Software Engineer</td><td>90000</td><td>24</td><td>2</td></tr><tr><td>2</td><td>102</td><td>Data Analyst</td><td>60000</td><td>18</td><td>1</td></tr><tr><td>3</td><td>101</td><td>Project Manager</td><td>90000</td><td>36</td><td>5</td></tr><tr><td>4</td><td>103</td><td>UX Designer</td><td>75000</td><td>27</td><td>3</td></tr><tr><td>5</td><td>102</td><td>Business Analyst</td><td>70000</td><td>22</td><td>2</td></tr><tr><td>6</td><td>101</td><td>Software Engineer</td><td>80000</td><td>30</td><td>4</td></tr><tr><td>7</td><td>103</td><td>Product Manager</td><td>95000</td><td>42</td><td>7</td></tr><tr><td>8</td><td>102</td><td>Data Scientist</td><td>100000</td><td>48</td><td>8</td></tr></tbody></table></div>"
      ]
     },
     "metadata": {
      "application/vnd.databricks.v1+output": {
       "addedWidgets": {},
       "aggData": [],
       "aggError": "",
       "aggOverflow": false,
       "aggSchema": [],
       "aggSeriesLimitReached": false,
       "aggType": "",
       "arguments": {},
       "columnCustomDisplayInfos": {},
       "data": [
        [
         1,
         101,
         "Software Engineer",
         90000,
         24,
         2
        ],
        [
         2,
         102,
         "Data Analyst",
         60000,
         18,
         1
        ],
        [
         3,
         101,
         "Project Manager",
         90000,
         36,
         5
        ],
        [
         4,
         103,
         "UX Designer",
         75000,
         27,
         3
        ],
        [
         5,
         102,
         "Business Analyst",
         70000,
         22,
         2
        ],
        [
         6,
         101,
         "Software Engineer",
         80000,
         30,
         4
        ],
        [
         7,
         103,
         "Product Manager",
         95000,
         42,
         7
        ],
        [
         8,
         102,
         "Data Scientist",
         100000,
         48,
         8
        ]
       ],
       "datasetInfos": [],
       "dbfsResultPath": null,
       "isJsonSchema": true,
       "metadata": {
        "isDbfsCommandResult": false
       },
       "overflow": false,
       "plotOptions": {
        "customPlotOptions": {},
        "displayType": "table",
        "pivotAggregation": null,
        "pivotColumns": null,
        "xColumns": null,
        "yColumns": null
       },
       "removedWidgets": [],
       "schema": [
        {
         "metadata": "{}",
         "name": "employee_id",
         "type": "\"integer\""
        },
        {
         "metadata": "{}",
         "name": "department_id",
         "type": "\"integer\""
        },
        {
         "metadata": "{\"__CHAR_VARCHAR_TYPE_STRING\":\"varchar(50)\"}",
         "name": "position",
         "type": "\"string\""
        },
        {
         "metadata": "{}",
         "name": "salary",
         "type": "\"integer\""
        },
        {
         "metadata": "{}",
         "name": "tenure_months",
         "type": "\"integer\""
        },
        {
         "metadata": "{}",
         "name": "job_experience_years",
         "type": "\"integer\""
        }
       ],
       "type": "table"
      }
     },
     "output_type": "display_data"
    }
   ],
   "source": [
    "%sql\n",
    "SELECT * FROM employee_data;"
   ]
  },
  {
   "cell_type": "code",
   "execution_count": 0,
   "metadata": {
    "application/vnd.databricks.v1+cell": {
     "cellMetadata": {
      "byteLimit": 2048000,
      "rowLimit": 10000
     },
     "inputWidgets": {},
     "nuid": "750a1d27-5e8e-45cc-9e42-62a59bffe6f1",
     "showTitle": false,
     "title": ""
    }
   },
   "outputs": [
    {
     "output_type": "display_data",
     "data": {
      "text/html": [
       "<style scoped>\n",
       "  .table-result-container {\n",
       "    max-height: 300px;\n",
       "    overflow: auto;\n",
       "  }\n",
       "  table, th, td {\n",
       "    border: 1px solid black;\n",
       "    border-collapse: collapse;\n",
       "  }\n",
       "  th, td {\n",
       "    padding: 5px;\n",
       "  }\n",
       "  th {\n",
       "    text-align: left;\n",
       "  }\n",
       "</style><div class='table-result-container'><table class='table-result'><thead style='background-color: white'><tr><th>employee_id</th><th>department_id</th><th>position</th><th>salary</th><th>tenure_months</th><th>rn</th></tr></thead><tbody><tr><td>1</td><td>101</td><td>Software Engineer</td><td>90000</td><td>24</td><td>1</td></tr><tr><td>3</td><td>101</td><td>Project Manager</td><td>90000</td><td>36</td><td>2</td></tr><tr><td>6</td><td>101</td><td>Software Engineer</td><td>80000</td><td>30</td><td>3</td></tr><tr><td>8</td><td>102</td><td>Data Scientist</td><td>100000</td><td>48</td><td>1</td></tr><tr><td>5</td><td>102</td><td>Business Analyst</td><td>70000</td><td>22</td><td>2</td></tr><tr><td>2</td><td>102</td><td>Data Analyst</td><td>60000</td><td>18</td><td>3</td></tr><tr><td>7</td><td>103</td><td>Product Manager</td><td>95000</td><td>42</td><td>1</td></tr><tr><td>4</td><td>103</td><td>UX Designer</td><td>75000</td><td>27</td><td>2</td></tr></tbody></table></div>"
      ]
     },
     "metadata": {
      "application/vnd.databricks.v1+output": {
       "addedWidgets": {},
       "aggData": [],
       "aggError": "",
       "aggOverflow": false,
       "aggSchema": [],
       "aggSeriesLimitReached": false,
       "aggType": "",
       "arguments": {},
       "columnCustomDisplayInfos": {},
       "data": [
        [
         1,
         101,
         "Software Engineer",
         90000,
         24,
         1
        ],
        [
         3,
         101,
         "Project Manager",
         90000,
         36,
         2
        ],
        [
         6,
         101,
         "Software Engineer",
         80000,
         30,
         3
        ],
        [
         8,
         102,
         "Data Scientist",
         100000,
         48,
         1
        ],
        [
         5,
         102,
         "Business Analyst",
         70000,
         22,
         2
        ],
        [
         2,
         102,
         "Data Analyst",
         60000,
         18,
         3
        ],
        [
         7,
         103,
         "Product Manager",
         95000,
         42,
         1
        ],
        [
         4,
         103,
         "UX Designer",
         75000,
         27,
         2
        ]
       ],
       "datasetInfos": [],
       "dbfsResultPath": null,
       "isJsonSchema": true,
       "metadata": {
        "isDbfsCommandResult": false
       },
       "overflow": false,
       "plotOptions": {
        "customPlotOptions": {},
        "displayType": "table",
        "pivotAggregation": null,
        "pivotColumns": null,
        "xColumns": null,
        "yColumns": null
       },
       "removedWidgets": [],
       "schema": [
        {
         "metadata": "{}",
         "name": "employee_id",
         "type": "\"integer\""
        },
        {
         "metadata": "{}",
         "name": "department_id",
         "type": "\"integer\""
        },
        {
         "metadata": "{\"__CHAR_VARCHAR_TYPE_STRING\":\"varchar(50)\"}",
         "name": "position",
         "type": "\"string\""
        },
        {
         "metadata": "{}",
         "name": "salary",
         "type": "\"integer\""
        },
        {
         "metadata": "{}",
         "name": "tenure_months",
         "type": "\"integer\""
        },
        {
         "metadata": "{}",
         "name": "rn",
         "type": "\"integer\""
        }
       ],
       "type": "table"
      }
     },
     "output_type": "display_data"
    }
   ],
   "source": [
    "%sql\n",
    "SELECT employee_id,department_id,position,salary,tenure_months,\n",
    "    row_number() OVER(PARTITION BY department_id ORDER BY salary DESC) AS rn FROM employee_data;"
   ]
  },
  {
   "cell_type": "code",
   "execution_count": 0,
   "metadata": {
    "application/vnd.databricks.v1+cell": {
     "cellMetadata": {
      "byteLimit": 2048000,
      "rowLimit": 10000
     },
     "inputWidgets": {},
     "nuid": "21160ad1-f18c-4568-a19b-6be8ed9c1e28",
     "showTitle": false,
     "title": ""
    }
   },
   "outputs": [
    {
     "output_type": "display_data",
     "data": {
      "text/html": [
       "<style scoped>\n",
       "  .table-result-container {\n",
       "    max-height: 300px;\n",
       "    overflow: auto;\n",
       "  }\n",
       "  table, th, td {\n",
       "    border: 1px solid black;\n",
       "    border-collapse: collapse;\n",
       "  }\n",
       "  th, td {\n",
       "    padding: 5px;\n",
       "  }\n",
       "  th {\n",
       "    text-align: left;\n",
       "  }\n",
       "</style><div class='table-result-container'><table class='table-result'><thead style='background-color: white'><tr><th>employee_id</th><th>department_id</th><th>position</th><th>salary</th><th>tenure_months</th><th>rk</th></tr></thead><tbody><tr><td>1</td><td>101</td><td>Software Engineer</td><td>90000</td><td>24</td><td>1</td></tr><tr><td>3</td><td>101</td><td>Project Manager</td><td>90000</td><td>36</td><td>1</td></tr><tr><td>6</td><td>101</td><td>Software Engineer</td><td>80000</td><td>30</td><td>3</td></tr><tr><td>8</td><td>102</td><td>Data Scientist</td><td>100000</td><td>48</td><td>1</td></tr><tr><td>5</td><td>102</td><td>Business Analyst</td><td>70000</td><td>22</td><td>2</td></tr><tr><td>2</td><td>102</td><td>Data Analyst</td><td>60000</td><td>18</td><td>3</td></tr><tr><td>7</td><td>103</td><td>Product Manager</td><td>95000</td><td>42</td><td>1</td></tr><tr><td>4</td><td>103</td><td>UX Designer</td><td>75000</td><td>27</td><td>2</td></tr></tbody></table></div>"
      ]
     },
     "metadata": {
      "application/vnd.databricks.v1+output": {
       "addedWidgets": {},
       "aggData": [],
       "aggError": "",
       "aggOverflow": false,
       "aggSchema": [],
       "aggSeriesLimitReached": false,
       "aggType": "",
       "arguments": {},
       "columnCustomDisplayInfos": {},
       "data": [
        [
         1,
         101,
         "Software Engineer",
         90000,
         24,
         1
        ],
        [
         3,
         101,
         "Project Manager",
         90000,
         36,
         1
        ],
        [
         6,
         101,
         "Software Engineer",
         80000,
         30,
         3
        ],
        [
         8,
         102,
         "Data Scientist",
         100000,
         48,
         1
        ],
        [
         5,
         102,
         "Business Analyst",
         70000,
         22,
         2
        ],
        [
         2,
         102,
         "Data Analyst",
         60000,
         18,
         3
        ],
        [
         7,
         103,
         "Product Manager",
         95000,
         42,
         1
        ],
        [
         4,
         103,
         "UX Designer",
         75000,
         27,
         2
        ]
       ],
       "datasetInfos": [],
       "dbfsResultPath": null,
       "isJsonSchema": true,
       "metadata": {
        "isDbfsCommandResult": false
       },
       "overflow": false,
       "plotOptions": {
        "customPlotOptions": {},
        "displayType": "table",
        "pivotAggregation": null,
        "pivotColumns": null,
        "xColumns": null,
        "yColumns": null
       },
       "removedWidgets": [],
       "schema": [
        {
         "metadata": "{}",
         "name": "employee_id",
         "type": "\"integer\""
        },
        {
         "metadata": "{}",
         "name": "department_id",
         "type": "\"integer\""
        },
        {
         "metadata": "{\"__CHAR_VARCHAR_TYPE_STRING\":\"varchar(50)\"}",
         "name": "position",
         "type": "\"string\""
        },
        {
         "metadata": "{}",
         "name": "salary",
         "type": "\"integer\""
        },
        {
         "metadata": "{}",
         "name": "tenure_months",
         "type": "\"integer\""
        },
        {
         "metadata": "{}",
         "name": "rk",
         "type": "\"integer\""
        }
       ],
       "type": "table"
      }
     },
     "output_type": "display_data"
    }
   ],
   "source": [
    "%sql\n",
    "SELECT employee_id,department_id,position,salary,tenure_months,\n",
    "    rank() OVER(PARTITION BY department_id ORDER BY salary DESC) AS rk FROM employee_data;"
   ]
  },
  {
   "cell_type": "code",
   "execution_count": 0,
   "metadata": {
    "application/vnd.databricks.v1+cell": {
     "cellMetadata": {
      "byteLimit": 2048000,
      "rowLimit": 10000
     },
     "inputWidgets": {},
     "nuid": "d4ff6ee2-67ef-4f3e-8bc0-496c07d8da13",
     "showTitle": false,
     "title": ""
    }
   },
   "outputs": [
    {
     "output_type": "display_data",
     "data": {
      "text/html": [
       "<style scoped>\n",
       "  .table-result-container {\n",
       "    max-height: 300px;\n",
       "    overflow: auto;\n",
       "  }\n",
       "  table, th, td {\n",
       "    border: 1px solid black;\n",
       "    border-collapse: collapse;\n",
       "  }\n",
       "  th, td {\n",
       "    padding: 5px;\n",
       "  }\n",
       "  th {\n",
       "    text-align: left;\n",
       "  }\n",
       "</style><div class='table-result-container'><table class='table-result'><thead style='background-color: white'><tr><th>employee_id</th><th>department_id</th><th>position</th><th>salary</th><th>tenure_months</th><th>drk</th></tr></thead><tbody><tr><td>1</td><td>101</td><td>Software Engineer</td><td>90000</td><td>24</td><td>1</td></tr><tr><td>3</td><td>101</td><td>Project Manager</td><td>90000</td><td>36</td><td>1</td></tr><tr><td>6</td><td>101</td><td>Software Engineer</td><td>80000</td><td>30</td><td>2</td></tr><tr><td>8</td><td>102</td><td>Data Scientist</td><td>100000</td><td>48</td><td>1</td></tr><tr><td>5</td><td>102</td><td>Business Analyst</td><td>70000</td><td>22</td><td>2</td></tr><tr><td>2</td><td>102</td><td>Data Analyst</td><td>60000</td><td>18</td><td>3</td></tr><tr><td>7</td><td>103</td><td>Product Manager</td><td>95000</td><td>42</td><td>1</td></tr><tr><td>4</td><td>103</td><td>UX Designer</td><td>75000</td><td>27</td><td>2</td></tr></tbody></table></div>"
      ]
     },
     "metadata": {
      "application/vnd.databricks.v1+output": {
       "addedWidgets": {},
       "aggData": [],
       "aggError": "",
       "aggOverflow": false,
       "aggSchema": [],
       "aggSeriesLimitReached": false,
       "aggType": "",
       "arguments": {},
       "columnCustomDisplayInfos": {},
       "data": [
        [
         1,
         101,
         "Software Engineer",
         90000,
         24,
         1
        ],
        [
         3,
         101,
         "Project Manager",
         90000,
         36,
         1
        ],
        [
         6,
         101,
         "Software Engineer",
         80000,
         30,
         2
        ],
        [
         8,
         102,
         "Data Scientist",
         100000,
         48,
         1
        ],
        [
         5,
         102,
         "Business Analyst",
         70000,
         22,
         2
        ],
        [
         2,
         102,
         "Data Analyst",
         60000,
         18,
         3
        ],
        [
         7,
         103,
         "Product Manager",
         95000,
         42,
         1
        ],
        [
         4,
         103,
         "UX Designer",
         75000,
         27,
         2
        ]
       ],
       "datasetInfos": [],
       "dbfsResultPath": null,
       "isJsonSchema": true,
       "metadata": {
        "isDbfsCommandResult": false
       },
       "overflow": false,
       "plotOptions": {
        "customPlotOptions": {},
        "displayType": "table",
        "pivotAggregation": null,
        "pivotColumns": null,
        "xColumns": null,
        "yColumns": null
       },
       "removedWidgets": [],
       "schema": [
        {
         "metadata": "{}",
         "name": "employee_id",
         "type": "\"integer\""
        },
        {
         "metadata": "{}",
         "name": "department_id",
         "type": "\"integer\""
        },
        {
         "metadata": "{\"__CHAR_VARCHAR_TYPE_STRING\":\"varchar(50)\"}",
         "name": "position",
         "type": "\"string\""
        },
        {
         "metadata": "{}",
         "name": "salary",
         "type": "\"integer\""
        },
        {
         "metadata": "{}",
         "name": "tenure_months",
         "type": "\"integer\""
        },
        {
         "metadata": "{}",
         "name": "drk",
         "type": "\"integer\""
        }
       ],
       "type": "table"
      }
     },
     "output_type": "display_data"
    }
   ],
   "source": [
    "%sql\n",
    "SELECT employee_id,department_id,position,salary,tenure_months,\n",
    "    dense_rank()OVER(PARTITION BY department_id ORDER BY salary DESC) AS drk FROM employee_data;"
   ]
  },
  {
   "cell_type": "code",
   "execution_count": 0,
   "metadata": {
    "application/vnd.databricks.v1+cell": {
     "cellMetadata": {
      "byteLimit": 2048000,
      "rowLimit": 10000
     },
     "inputWidgets": {},
     "nuid": "38cb8baa-1549-45e6-bf77-dc2fbbd23a12",
     "showTitle": false,
     "title": ""
    }
   },
   "outputs": [
    {
     "output_type": "display_data",
     "data": {
      "text/html": [
       "<style scoped>\n",
       "  .table-result-container {\n",
       "    max-height: 300px;\n",
       "    overflow: auto;\n",
       "  }\n",
       "  table, th, td {\n",
       "    border: 1px solid black;\n",
       "    border-collapse: collapse;\n",
       "  }\n",
       "  th, td {\n",
       "    padding: 5px;\n",
       "  }\n",
       "  th {\n",
       "    text-align: left;\n",
       "  }\n",
       "</style><div class='table-result-container'><table class='table-result'><thead style='background-color: white'><tr><th>employee_id</th><th>department_id</th><th>position</th><th>salary</th><th>tenure_months</th><th>running_total_salary</th></tr></thead><tbody><tr><td>1</td><td>101</td><td>Software Engineer</td><td>90000</td><td>24</td><td>90000</td></tr><tr><td>6</td><td>101</td><td>Software Engineer</td><td>80000</td><td>30</td><td>170000</td></tr><tr><td>3</td><td>101</td><td>Project Manager</td><td>90000</td><td>36</td><td>260000</td></tr><tr><td>2</td><td>102</td><td>Data Analyst</td><td>60000</td><td>18</td><td>60000</td></tr><tr><td>5</td><td>102</td><td>Business Analyst</td><td>70000</td><td>22</td><td>130000</td></tr><tr><td>8</td><td>102</td><td>Data Scientist</td><td>100000</td><td>48</td><td>230000</td></tr><tr><td>4</td><td>103</td><td>UX Designer</td><td>75000</td><td>27</td><td>75000</td></tr><tr><td>7</td><td>103</td><td>Product Manager</td><td>95000</td><td>42</td><td>170000</td></tr></tbody></table></div>"
      ]
     },
     "metadata": {
      "application/vnd.databricks.v1+output": {
       "addedWidgets": {},
       "aggData": [],
       "aggError": "",
       "aggOverflow": false,
       "aggSchema": [],
       "aggSeriesLimitReached": false,
       "aggType": "",
       "arguments": {},
       "columnCustomDisplayInfos": {},
       "data": [
        [
         1,
         101,
         "Software Engineer",
         90000,
         24,
         90000
        ],
        [
         6,
         101,
         "Software Engineer",
         80000,
         30,
         170000
        ],
        [
         3,
         101,
         "Project Manager",
         90000,
         36,
         260000
        ],
        [
         2,
         102,
         "Data Analyst",
         60000,
         18,
         60000
        ],
        [
         5,
         102,
         "Business Analyst",
         70000,
         22,
         130000
        ],
        [
         8,
         102,
         "Data Scientist",
         100000,
         48,
         230000
        ],
        [
         4,
         103,
         "UX Designer",
         75000,
         27,
         75000
        ],
        [
         7,
         103,
         "Product Manager",
         95000,
         42,
         170000
        ]
       ],
       "datasetInfos": [],
       "dbfsResultPath": null,
       "isJsonSchema": true,
       "metadata": {
        "isDbfsCommandResult": false
       },
       "overflow": false,
       "plotOptions": {
        "customPlotOptions": {},
        "displayType": "table",
        "pivotAggregation": null,
        "pivotColumns": null,
        "xColumns": null,
        "yColumns": null
       },
       "removedWidgets": [],
       "schema": [
        {
         "metadata": "{}",
         "name": "employee_id",
         "type": "\"integer\""
        },
        {
         "metadata": "{}",
         "name": "department_id",
         "type": "\"integer\""
        },
        {
         "metadata": "{\"__CHAR_VARCHAR_TYPE_STRING\":\"varchar(50)\"}",
         "name": "position",
         "type": "\"string\""
        },
        {
         "metadata": "{}",
         "name": "salary",
         "type": "\"integer\""
        },
        {
         "metadata": "{}",
         "name": "tenure_months",
         "type": "\"integer\""
        },
        {
         "metadata": "{}",
         "name": "running_total_salary",
         "type": "\"long\""
        }
       ],
       "type": "table"
      }
     },
     "output_type": "display_data"
    }
   ],
   "source": [
    "%sql\n",
    "  SELECT employee_id,department_id,position,salary,tenure_months,\n",
    "    SUM(salary) OVER(PARTITION BY department_id ORDER BY tenure_months ) AS running_total_salary FROM employee_data;"
   ]
  },
  {
   "cell_type": "code",
   "execution_count": 0,
   "metadata": {
    "application/vnd.databricks.v1+cell": {
     "cellMetadata": {
      "byteLimit": 2048000,
      "rowLimit": 10000
     },
     "inputWidgets": {},
     "nuid": "08cf5b1a-3df0-4579-8026-ec105a778b4f",
     "showTitle": false,
     "title": ""
    }
   },
   "outputs": [
    {
     "output_type": "display_data",
     "data": {
      "text/html": [
       "<style scoped>\n",
       "  .table-result-container {\n",
       "    max-height: 300px;\n",
       "    overflow: auto;\n",
       "  }\n",
       "  table, th, td {\n",
       "    border: 1px solid black;\n",
       "    border-collapse: collapse;\n",
       "  }\n",
       "  th, td {\n",
       "    padding: 5px;\n",
       "  }\n",
       "  th {\n",
       "    text-align: left;\n",
       "  }\n",
       "</style><div class='table-result-container'><table class='table-result'><thead style='background-color: white'><tr><th>employee_id</th><th>department_id</th><th>position</th><th>salary</th><th>tenure_months</th><th>total_salary</th></tr></thead><tbody><tr><td>1</td><td>101</td><td>Software Engineer</td><td>90000</td><td>24</td><td>660000</td></tr><tr><td>2</td><td>102</td><td>Data Analyst</td><td>60000</td><td>18</td><td>660000</td></tr><tr><td>3</td><td>101</td><td>Project Manager</td><td>90000</td><td>36</td><td>660000</td></tr><tr><td>4</td><td>103</td><td>UX Designer</td><td>75000</td><td>27</td><td>660000</td></tr><tr><td>5</td><td>102</td><td>Business Analyst</td><td>70000</td><td>22</td><td>660000</td></tr><tr><td>6</td><td>101</td><td>Software Engineer</td><td>80000</td><td>30</td><td>660000</td></tr><tr><td>7</td><td>103</td><td>Product Manager</td><td>95000</td><td>42</td><td>660000</td></tr><tr><td>8</td><td>102</td><td>Data Scientist</td><td>100000</td><td>48</td><td>660000</td></tr></tbody></table></div>"
      ]
     },
     "metadata": {
      "application/vnd.databricks.v1+output": {
       "addedWidgets": {},
       "aggData": [],
       "aggError": "",
       "aggOverflow": false,
       "aggSchema": [],
       "aggSeriesLimitReached": false,
       "aggType": "",
       "arguments": {},
       "columnCustomDisplayInfos": {},
       "data": [
        [
         1,
         101,
         "Software Engineer",
         90000,
         24,
         660000
        ],
        [
         2,
         102,
         "Data Analyst",
         60000,
         18,
         660000
        ],
        [
         3,
         101,
         "Project Manager",
         90000,
         36,
         660000
        ],
        [
         4,
         103,
         "UX Designer",
         75000,
         27,
         660000
        ],
        [
         5,
         102,
         "Business Analyst",
         70000,
         22,
         660000
        ],
        [
         6,
         101,
         "Software Engineer",
         80000,
         30,
         660000
        ],
        [
         7,
         103,
         "Product Manager",
         95000,
         42,
         660000
        ],
        [
         8,
         102,
         "Data Scientist",
         100000,
         48,
         660000
        ]
       ],
       "datasetInfos": [],
       "dbfsResultPath": null,
       "isJsonSchema": true,
       "metadata": {
        "isDbfsCommandResult": false
       },
       "overflow": false,
       "plotOptions": {
        "customPlotOptions": {},
        "displayType": "table",
        "pivotAggregation": null,
        "pivotColumns": null,
        "xColumns": null,
        "yColumns": null
       },
       "removedWidgets": [],
       "schema": [
        {
         "metadata": "{}",
         "name": "employee_id",
         "type": "\"integer\""
        },
        {
         "metadata": "{}",
         "name": "department_id",
         "type": "\"integer\""
        },
        {
         "metadata": "{\"__CHAR_VARCHAR_TYPE_STRING\":\"varchar(50)\"}",
         "name": "position",
         "type": "\"string\""
        },
        {
         "metadata": "{}",
         "name": "salary",
         "type": "\"integer\""
        },
        {
         "metadata": "{}",
         "name": "tenure_months",
         "type": "\"integer\""
        },
        {
         "metadata": "{}",
         "name": "total_salary",
         "type": "\"long\""
        }
       ],
       "type": "table"
      }
     },
     "output_type": "display_data"
    }
   ],
   "source": [
    "%sql\n",
    "SELECT employee_id,department_id,position,salary,tenure_months,\n",
    "    SUM(salary) OVER() AS total_salary FROM employee_data;"
   ]
  },
  {
   "cell_type": "code",
   "execution_count": 0,
   "metadata": {
    "application/vnd.databricks.v1+cell": {
     "cellMetadata": {
      "byteLimit": 2048000,
      "rowLimit": 10000
     },
     "inputWidgets": {},
     "nuid": "503906e2-96e1-4e27-9747-e6d4c8ebcd77",
     "showTitle": false,
     "title": ""
    }
   },
   "outputs": [
    {
     "output_type": "display_data",
     "data": {
      "text/html": [
       "<style scoped>\n",
       "  .table-result-container {\n",
       "    max-height: 300px;\n",
       "    overflow: auto;\n",
       "  }\n",
       "  table, th, td {\n",
       "    border: 1px solid black;\n",
       "    border-collapse: collapse;\n",
       "  }\n",
       "  th, td {\n",
       "    padding: 5px;\n",
       "  }\n",
       "  th {\n",
       "    text-align: left;\n",
       "  }\n",
       "</style><div class='table-result-container'><table class='table-result'><thead style='background-color: white'><tr><th>employee_id</th><th>department_id</th><th>position</th><th>salary</th><th>tenure_months</th><th>average_running_total</th></tr></thead><tbody><tr><td>1</td><td>101</td><td>Software Engineer</td><td>90000</td><td>24</td><td>90000.0</td></tr><tr><td>6</td><td>101</td><td>Software Engineer</td><td>80000</td><td>30</td><td>85000.0</td></tr><tr><td>3</td><td>101</td><td>Project Manager</td><td>90000</td><td>36</td><td>86666.67</td></tr><tr><td>2</td><td>102</td><td>Data Analyst</td><td>60000</td><td>18</td><td>60000.0</td></tr><tr><td>5</td><td>102</td><td>Business Analyst</td><td>70000</td><td>22</td><td>65000.0</td></tr><tr><td>8</td><td>102</td><td>Data Scientist</td><td>100000</td><td>48</td><td>76666.67</td></tr><tr><td>4</td><td>103</td><td>UX Designer</td><td>75000</td><td>27</td><td>75000.0</td></tr><tr><td>7</td><td>103</td><td>Product Manager</td><td>95000</td><td>42</td><td>85000.0</td></tr></tbody></table></div>"
      ]
     },
     "metadata": {
      "application/vnd.databricks.v1+output": {
       "addedWidgets": {},
       "aggData": [],
       "aggError": "",
       "aggOverflow": false,
       "aggSchema": [],
       "aggSeriesLimitReached": false,
       "aggType": "",
       "arguments": {},
       "columnCustomDisplayInfos": {},
       "data": [
        [
         1,
         101,
         "Software Engineer",
         90000,
         24,
         90000.0
        ],
        [
         6,
         101,
         "Software Engineer",
         80000,
         30,
         85000.0
        ],
        [
         3,
         101,
         "Project Manager",
         90000,
         36,
         86666.67
        ],
        [
         2,
         102,
         "Data Analyst",
         60000,
         18,
         60000.0
        ],
        [
         5,
         102,
         "Business Analyst",
         70000,
         22,
         65000.0
        ],
        [
         8,
         102,
         "Data Scientist",
         100000,
         48,
         76666.67
        ],
        [
         4,
         103,
         "UX Designer",
         75000,
         27,
         75000.0
        ],
        [
         7,
         103,
         "Product Manager",
         95000,
         42,
         85000.0
        ]
       ],
       "datasetInfos": [],
       "dbfsResultPath": null,
       "isJsonSchema": true,
       "metadata": {
        "isDbfsCommandResult": false
       },
       "overflow": false,
       "plotOptions": {
        "customPlotOptions": {},
        "displayType": "table",
        "pivotAggregation": null,
        "pivotColumns": null,
        "xColumns": null,
        "yColumns": null
       },
       "removedWidgets": [],
       "schema": [
        {
         "metadata": "{}",
         "name": "employee_id",
         "type": "\"integer\""
        },
        {
         "metadata": "{}",
         "name": "department_id",
         "type": "\"integer\""
        },
        {
         "metadata": "{\"__CHAR_VARCHAR_TYPE_STRING\":\"varchar(50)\"}",
         "name": "position",
         "type": "\"string\""
        },
        {
         "metadata": "{}",
         "name": "salary",
         "type": "\"integer\""
        },
        {
         "metadata": "{}",
         "name": "tenure_months",
         "type": "\"integer\""
        },
        {
         "metadata": "{}",
         "name": "average_running_total",
         "type": "\"double\""
        }
       ],
       "type": "table"
      }
     },
     "output_type": "display_data"
    }
   ],
   "source": [
    "%sql\n",
    "  SELECT employee_id,department_id,position,salary,tenure_months,\n",
    "    round(avg(salary) OVER(PARTITION BY department_id ORDER BY tenure_months ),2) AS average_running_total FROM employee_data;"
   ]
  },
  {
   "cell_type": "code",
   "execution_count": 0,
   "metadata": {
    "application/vnd.databricks.v1+cell": {
     "cellMetadata": {
      "byteLimit": 2048000,
      "rowLimit": 10000
     },
     "inputWidgets": {},
     "nuid": "6c9634b3-2043-4d82-8743-31201ee36721",
     "showTitle": false,
     "title": ""
    }
   },
   "outputs": [
    {
     "output_type": "display_data",
     "data": {
      "text/html": [
       "<style scoped>\n",
       "  .table-result-container {\n",
       "    max-height: 300px;\n",
       "    overflow: auto;\n",
       "  }\n",
       "  table, th, td {\n",
       "    border: 1px solid black;\n",
       "    border-collapse: collapse;\n",
       "  }\n",
       "  th, td {\n",
       "    padding: 5px;\n",
       "  }\n",
       "  th {\n",
       "    text-align: left;\n",
       "  }\n",
       "</style><div class='table-result-container'><table class='table-result'><thead style='background-color: white'><tr><th>employee_id</th><th>department_id</th><th>position</th><th>salary</th><th>tenure_months</th><th>next_tenure_months</th></tr></thead><tbody><tr><td>1</td><td>101</td><td>Software Engineer</td><td>90000</td><td>24</td><td>80000</td></tr><tr><td>6</td><td>101</td><td>Software Engineer</td><td>80000</td><td>30</td><td>90000</td></tr><tr><td>3</td><td>101</td><td>Project Manager</td><td>90000</td><td>36</td><td>null</td></tr><tr><td>2</td><td>102</td><td>Data Analyst</td><td>60000</td><td>18</td><td>70000</td></tr><tr><td>5</td><td>102</td><td>Business Analyst</td><td>70000</td><td>22</td><td>100000</td></tr><tr><td>8</td><td>102</td><td>Data Scientist</td><td>100000</td><td>48</td><td>null</td></tr><tr><td>4</td><td>103</td><td>UX Designer</td><td>75000</td><td>27</td><td>95000</td></tr><tr><td>7</td><td>103</td><td>Product Manager</td><td>95000</td><td>42</td><td>null</td></tr></tbody></table></div>"
      ]
     },
     "metadata": {
      "application/vnd.databricks.v1+output": {
       "addedWidgets": {},
       "aggData": [],
       "aggError": "",
       "aggOverflow": false,
       "aggSchema": [],
       "aggSeriesLimitReached": false,
       "aggType": "",
       "arguments": {},
       "columnCustomDisplayInfos": {},
       "data": [
        [
         1,
         101,
         "Software Engineer",
         90000,
         24,
         80000
        ],
        [
         6,
         101,
         "Software Engineer",
         80000,
         30,
         90000
        ],
        [
         3,
         101,
         "Project Manager",
         90000,
         36,
         null
        ],
        [
         2,
         102,
         "Data Analyst",
         60000,
         18,
         70000
        ],
        [
         5,
         102,
         "Business Analyst",
         70000,
         22,
         100000
        ],
        [
         8,
         102,
         "Data Scientist",
         100000,
         48,
         null
        ],
        [
         4,
         103,
         "UX Designer",
         75000,
         27,
         95000
        ],
        [
         7,
         103,
         "Product Manager",
         95000,
         42,
         null
        ]
       ],
       "datasetInfos": [],
       "dbfsResultPath": null,
       "isJsonSchema": true,
       "metadata": {
        "isDbfsCommandResult": false
       },
       "overflow": false,
       "plotOptions": {
        "customPlotOptions": {},
        "displayType": "table",
        "pivotAggregation": null,
        "pivotColumns": null,
        "xColumns": null,
        "yColumns": null
       },
       "removedWidgets": [],
       "schema": [
        {
         "metadata": "{}",
         "name": "employee_id",
         "type": "\"integer\""
        },
        {
         "metadata": "{}",
         "name": "department_id",
         "type": "\"integer\""
        },
        {
         "metadata": "{\"__CHAR_VARCHAR_TYPE_STRING\":\"varchar(50)\"}",
         "name": "position",
         "type": "\"string\""
        },
        {
         "metadata": "{}",
         "name": "salary",
         "type": "\"integer\""
        },
        {
         "metadata": "{}",
         "name": "tenure_months",
         "type": "\"integer\""
        },
        {
         "metadata": "{}",
         "name": "next_tenure_months",
         "type": "\"integer\""
        }
       ],
       "type": "table"
      }
     },
     "output_type": "display_data"
    }
   ],
   "source": [
    "%sql\n",
    "  SELECT employee_id,department_id,position,salary,tenure_months,\n",
    "    LEAD(salary) OVER(PARTITION BY department_id ORDER BY tenure_months ) AS next_tenure_months FROM employee_data;"
   ]
  },
  {
   "cell_type": "code",
   "execution_count": 0,
   "metadata": {
    "application/vnd.databricks.v1+cell": {
     "cellMetadata": {
      "byteLimit": 2048000,
      "rowLimit": 10000
     },
     "inputWidgets": {},
     "nuid": "fa581499-fa63-4497-bcc1-2cf189ed3c84",
     "showTitle": false,
     "title": ""
    }
   },
   "outputs": [
    {
     "output_type": "display_data",
     "data": {
      "text/html": [
       "<style scoped>\n",
       "  .table-result-container {\n",
       "    max-height: 300px;\n",
       "    overflow: auto;\n",
       "  }\n",
       "  table, th, td {\n",
       "    border: 1px solid black;\n",
       "    border-collapse: collapse;\n",
       "  }\n",
       "  th, td {\n",
       "    padding: 5px;\n",
       "  }\n",
       "  th {\n",
       "    text-align: left;\n",
       "  }\n",
       "</style><div class='table-result-container'><table class='table-result'><thead style='background-color: white'><tr><th>employee_id</th><th>department_id</th><th>position</th><th>salary</th><th>tenure_months</th><th>next_tenure_months</th></tr></thead><tbody><tr><td>1</td><td>101</td><td>Software Engineer</td><td>90000</td><td>24</td><td>null</td></tr><tr><td>6</td><td>101</td><td>Software Engineer</td><td>80000</td><td>30</td><td>90000</td></tr><tr><td>3</td><td>101</td><td>Project Manager</td><td>90000</td><td>36</td><td>80000</td></tr><tr><td>2</td><td>102</td><td>Data Analyst</td><td>60000</td><td>18</td><td>null</td></tr><tr><td>5</td><td>102</td><td>Business Analyst</td><td>70000</td><td>22</td><td>60000</td></tr><tr><td>8</td><td>102</td><td>Data Scientist</td><td>100000</td><td>48</td><td>70000</td></tr><tr><td>4</td><td>103</td><td>UX Designer</td><td>75000</td><td>27</td><td>null</td></tr><tr><td>7</td><td>103</td><td>Product Manager</td><td>95000</td><td>42</td><td>75000</td></tr></tbody></table></div>"
      ]
     },
     "metadata": {
      "application/vnd.databricks.v1+output": {
       "addedWidgets": {},
       "aggData": [],
       "aggError": "",
       "aggOverflow": false,
       "aggSchema": [],
       "aggSeriesLimitReached": false,
       "aggType": "",
       "arguments": {},
       "columnCustomDisplayInfos": {},
       "data": [
        [
         1,
         101,
         "Software Engineer",
         90000,
         24,
         null
        ],
        [
         6,
         101,
         "Software Engineer",
         80000,
         30,
         90000
        ],
        [
         3,
         101,
         "Project Manager",
         90000,
         36,
         80000
        ],
        [
         2,
         102,
         "Data Analyst",
         60000,
         18,
         null
        ],
        [
         5,
         102,
         "Business Analyst",
         70000,
         22,
         60000
        ],
        [
         8,
         102,
         "Data Scientist",
         100000,
         48,
         70000
        ],
        [
         4,
         103,
         "UX Designer",
         75000,
         27,
         null
        ],
        [
         7,
         103,
         "Product Manager",
         95000,
         42,
         75000
        ]
       ],
       "datasetInfos": [],
       "dbfsResultPath": null,
       "isJsonSchema": true,
       "metadata": {
        "isDbfsCommandResult": false
       },
       "overflow": false,
       "plotOptions": {
        "customPlotOptions": {},
        "displayType": "table",
        "pivotAggregation": null,
        "pivotColumns": null,
        "xColumns": null,
        "yColumns": null
       },
       "removedWidgets": [],
       "schema": [
        {
         "metadata": "{}",
         "name": "employee_id",
         "type": "\"integer\""
        },
        {
         "metadata": "{}",
         "name": "department_id",
         "type": "\"integer\""
        },
        {
         "metadata": "{\"__CHAR_VARCHAR_TYPE_STRING\":\"varchar(50)\"}",
         "name": "position",
         "type": "\"string\""
        },
        {
         "metadata": "{}",
         "name": "salary",
         "type": "\"integer\""
        },
        {
         "metadata": "{}",
         "name": "tenure_months",
         "type": "\"integer\""
        },
        {
         "metadata": "{}",
         "name": "next_tenure_months",
         "type": "\"integer\""
        }
       ],
       "type": "table"
      }
     },
     "output_type": "display_data"
    }
   ],
   "source": [
    "%sql\n",
    "  SELECT employee_id,department_id,position,salary,tenure_months,\n",
    "    LAG(salary) OVER(PARTITION BY department_id ORDER BY tenure_months ) AS next_tenure_months FROM employee_data;"
   ]
  },
  {
   "cell_type": "code",
   "execution_count": 0,
   "metadata": {
    "application/vnd.databricks.v1+cell": {
     "cellMetadata": {
      "byteLimit": 2048000,
      "rowLimit": 10000
     },
     "inputWidgets": {},
     "nuid": "86d68173-0d99-4dfa-a469-554372d20d08",
     "showTitle": false,
     "title": ""
    }
   },
   "outputs": [
    {
     "output_type": "display_data",
     "data": {
      "text/html": [
       "<style scoped>\n",
       "  .table-result-container {\n",
       "    max-height: 300px;\n",
       "    overflow: auto;\n",
       "  }\n",
       "  table, th, td {\n",
       "    border: 1px solid black;\n",
       "    border-collapse: collapse;\n",
       "  }\n",
       "  th, td {\n",
       "    padding: 5px;\n",
       "  }\n",
       "  th {\n",
       "    text-align: left;\n",
       "  }\n",
       "</style><div class='table-result-container'><table class='table-result'><thead style='background-color: white'><tr><th>employee_id</th><th>department_id</th><th>position</th><th>salary</th><th>tenure_months</th><th>first_tenure_salary</th></tr></thead><tbody><tr><td>1</td><td>101</td><td>Software Engineer</td><td>90000</td><td>24</td><td>90000</td></tr><tr><td>6</td><td>101</td><td>Software Engineer</td><td>80000</td><td>30</td><td>90000</td></tr><tr><td>3</td><td>101</td><td>Project Manager</td><td>90000</td><td>36</td><td>90000</td></tr><tr><td>2</td><td>102</td><td>Data Analyst</td><td>60000</td><td>18</td><td>60000</td></tr><tr><td>5</td><td>102</td><td>Business Analyst</td><td>70000</td><td>22</td><td>60000</td></tr><tr><td>8</td><td>102</td><td>Data Scientist</td><td>100000</td><td>48</td><td>60000</td></tr><tr><td>4</td><td>103</td><td>UX Designer</td><td>75000</td><td>27</td><td>75000</td></tr><tr><td>7</td><td>103</td><td>Product Manager</td><td>95000</td><td>42</td><td>75000</td></tr></tbody></table></div>"
      ]
     },
     "metadata": {
      "application/vnd.databricks.v1+output": {
       "addedWidgets": {},
       "aggData": [],
       "aggError": "",
       "aggOverflow": false,
       "aggSchema": [],
       "aggSeriesLimitReached": false,
       "aggType": "",
       "arguments": {},
       "columnCustomDisplayInfos": {},
       "data": [
        [
         1,
         101,
         "Software Engineer",
         90000,
         24,
         90000
        ],
        [
         6,
         101,
         "Software Engineer",
         80000,
         30,
         90000
        ],
        [
         3,
         101,
         "Project Manager",
         90000,
         36,
         90000
        ],
        [
         2,
         102,
         "Data Analyst",
         60000,
         18,
         60000
        ],
        [
         5,
         102,
         "Business Analyst",
         70000,
         22,
         60000
        ],
        [
         8,
         102,
         "Data Scientist",
         100000,
         48,
         60000
        ],
        [
         4,
         103,
         "UX Designer",
         75000,
         27,
         75000
        ],
        [
         7,
         103,
         "Product Manager",
         95000,
         42,
         75000
        ]
       ],
       "datasetInfos": [],
       "dbfsResultPath": null,
       "isJsonSchema": true,
       "metadata": {
        "isDbfsCommandResult": false
       },
       "overflow": false,
       "plotOptions": {
        "customPlotOptions": {},
        "displayType": "table",
        "pivotAggregation": null,
        "pivotColumns": null,
        "xColumns": null,
        "yColumns": null
       },
       "removedWidgets": [],
       "schema": [
        {
         "metadata": "{}",
         "name": "employee_id",
         "type": "\"integer\""
        },
        {
         "metadata": "{}",
         "name": "department_id",
         "type": "\"integer\""
        },
        {
         "metadata": "{\"__CHAR_VARCHAR_TYPE_STRING\":\"varchar(50)\"}",
         "name": "position",
         "type": "\"string\""
        },
        {
         "metadata": "{}",
         "name": "salary",
         "type": "\"integer\""
        },
        {
         "metadata": "{}",
         "name": "tenure_months",
         "type": "\"integer\""
        },
        {
         "metadata": "{}",
         "name": "first_tenure_salary",
         "type": "\"integer\""
        }
       ],
       "type": "table"
      }
     },
     "output_type": "display_data"
    }
   ],
   "source": [
    "%sql\n",
    "SELECT employee_id,department_id,position,salary,tenure_months,\n",
    "    first_value(salary) OVER(PARTITION BY department_id ORDER BY tenure_months ) AS first_tenure_salary FROM employee_data;"
   ]
  },
  {
   "cell_type": "code",
   "execution_count": 0,
   "metadata": {
    "application/vnd.databricks.v1+cell": {
     "cellMetadata": {},
     "inputWidgets": {},
     "nuid": "0c921f6d-bbbb-4b6b-bca6-1e682adcc668",
     "showTitle": false,
     "title": ""
    }
   },
   "outputs": [],
   "source": [
    "%sql\n",
    "  "
   ]
  }
 ],
 "metadata": {
  "application/vnd.databricks.v1+notebook": {
   "dashboards": [],
   "language": "python",
   "notebookMetadata": {
    "mostRecentlyExecutedCommandWithImplicitDF": {
     "commandId": 3601230364872555,
     "dataframes": [
      "_sqldf"
     ]
    },
    "pythonIndentUnit": 4
   },
   "notebookName": "SQL Windows FUnction",
   "widgets": {}
  }
 },
 "nbformat": 4,
 "nbformat_minor": 0
}
