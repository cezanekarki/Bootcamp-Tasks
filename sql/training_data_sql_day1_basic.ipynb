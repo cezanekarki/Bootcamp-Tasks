{
 "cells": [
  {
   "cell_type": "code",
   "execution_count": 0,
   "metadata": {
    "application/vnd.databricks.v1+cell": {
     "cellMetadata": {
      "byteLimit": 2048000,
      "rowLimit": 10000
     },
     "inputWidgets": {},
     "nuid": "f2ebacf3-64ae-4f36-882e-d69597b95703",
     "showTitle": false,
     "title": ""
    }
   },
   "outputs": [
    {
     "output_type": "display_data",
     "data": {
      "text/html": [
       "<style scoped>\n",
       "  .table-result-container {\n",
       "    max-height: 300px;\n",
       "    overflow: auto;\n",
       "  }\n",
       "  table, th, td {\n",
       "    border: 1px solid black;\n",
       "    border-collapse: collapse;\n",
       "  }\n",
       "  th, td {\n",
       "    padding: 5px;\n",
       "  }\n",
       "  th {\n",
       "    text-align: left;\n",
       "  }\n",
       "</style><div class='table-result-container'><table class='table-result'><thead style='background-color: white'><tr></tr></thead><tbody></tbody></table></div>"
      ]
     },
     "metadata": {
      "application/vnd.databricks.v1+output": {
       "addedWidgets": {},
       "aggData": [],
       "aggError": "",
       "aggOverflow": false,
       "aggSchema": [],
       "aggSeriesLimitReached": false,
       "aggType": "",
       "arguments": {},
       "columnCustomDisplayInfos": {},
       "data": [],
       "datasetInfos": [],
       "dbfsResultPath": null,
       "isJsonSchema": true,
       "metadata": {
        "isDbfsCommandResult": false
       },
       "overflow": false,
       "plotOptions": {
        "customPlotOptions": {},
        "displayType": "table",
        "pivotAggregation": null,
        "pivotColumns": null,
        "xColumns": null,
        "yColumns": null
       },
       "removedWidgets": [],
       "schema": [],
       "type": "table"
      }
     },
     "output_type": "display_data"
    }
   ],
   "source": [
    "%sql\n",
    "CREATE TABLE training_data (\n",
    "    participant_id INT ,\n",
    "    participant_name VARCHAR(50),\n",
    "    training_session_date DATE,\n",
    "    training_session_duration_hours DECIMAL(5, 2),\n",
    "    trainer_name VARCHAR(50),\n",
    "    training_location VARCHAR(100),\n",
    "    training_subject VARCHAR(100)\n",
    ");"
   ]
  },
  {
   "cell_type": "code",
   "execution_count": 0,
   "metadata": {
    "application/vnd.databricks.v1+cell": {
     "cellMetadata": {
      "byteLimit": 2048000,
      "rowLimit": 10000
     },
     "inputWidgets": {},
     "nuid": "831d0f1c-e7b5-4804-b5d3-26ed24275881",
     "showTitle": false,
     "title": ""
    }
   },
   "outputs": [
    {
     "output_type": "display_data",
     "data": {
      "text/html": [
       "<style scoped>\n",
       "  .table-result-container {\n",
       "    max-height: 300px;\n",
       "    overflow: auto;\n",
       "  }\n",
       "  table, th, td {\n",
       "    border: 1px solid black;\n",
       "    border-collapse: collapse;\n",
       "  }\n",
       "  th, td {\n",
       "    padding: 5px;\n",
       "  }\n",
       "  th {\n",
       "    text-align: left;\n",
       "  }\n",
       "</style><div class='table-result-container'><table class='table-result'><thead style='background-color: white'><tr><th>num_affected_rows</th><th>num_inserted_rows</th></tr></thead><tbody><tr><td>15</td><td>15</td></tr></tbody></table></div>"
      ]
     },
     "metadata": {
      "application/vnd.databricks.v1+output": {
       "addedWidgets": {},
       "aggData": [],
       "aggError": "",
       "aggOverflow": false,
       "aggSchema": [],
       "aggSeriesLimitReached": false,
       "aggType": "",
       "arguments": {},
       "columnCustomDisplayInfos": {},
       "data": [
        [
         15,
         15
        ]
       ],
       "datasetInfos": [],
       "dbfsResultPath": null,
       "isJsonSchema": true,
       "metadata": {
        "isDbfsCommandResult": false
       },
       "overflow": false,
       "plotOptions": {
        "customPlotOptions": {},
        "displayType": "table",
        "pivotAggregation": null,
        "pivotColumns": null,
        "xColumns": null,
        "yColumns": null
       },
       "removedWidgets": [],
       "schema": [
        {
         "metadata": "{}",
         "name": "num_affected_rows",
         "type": "\"long\""
        },
        {
         "metadata": "{}",
         "name": "num_inserted_rows",
         "type": "\"long\""
        }
       ],
       "type": "table"
      }
     },
     "output_type": "display_data"
    }
   ],
   "source": [
    "%sql\n",
    "INSERT INTO training_data (participant_id, participant_name, training_session_date, training_session_duration_hours, trainer_name, training_location, training_subject)\n",
    "VALUES\n",
    "    (1, 'Alice Johnson', '2024-02-05', 2.5, 'Trainer C', 'Room 101', 'Introduction to Programming'),\n",
    "    (2, 'Bob Williams', '2024-02-06', 3.0, 'Trainer A', 'Conference Room B', 'Web Development Basics'),\n",
    "    (3, 'Charlie Davis', '2024-02-07', 2.0, 'Trainer B', 'Training Room A', 'Project Management Fundamentals'),\n",
    "    (4, 'David Smith', '2024-02-08', 1.5, 'Trainer C', 'Room 102', 'Digital Marketing Essentials'),\n",
    "    (5, 'Eva Brown', '2024-02-09', 2.0, 'Trainer A', 'Conference Room A', 'Data Visualization Techniques'),\n",
    "    (6, 'Frank Johnson', '2024-02-10', 3.5, 'Trainer B', 'Training Room B', 'Effective Leadership Skills'),\n",
    "    (7, 'Grace Miller', '2024-02-11', 2.0, 'Trainer C', 'Room 103', 'Introduction to Machine Learning'),\n",
    "    (8, 'Henry Davis', '2024-02-12', 2.5, 'Trainer A', 'Conference Room B', 'Cybersecurity Basics'),\n",
    "    (9, 'Ivy Wilson', '2024-02-13', 1.5, 'Trainer B', 'Training Room A', 'Public Speaking Techniques'),\n",
    "    (10, 'Jack White', '2024-02-14', 2.0, 'Trainer C', 'Room 104', 'Agile Project Management'),\n",
    "    (11, 'Kelly Johnson', '2024-02-15', 3.0, 'Trainer A', 'Conference Room A', 'Social Media Marketing Strategies'),\n",
    "    (12, 'Leo Brown', '2024-02-16', 2.5, 'Trainer B', 'Training Room B', 'Python Programming Basics'),\n",
    "    (13, 'Mia Davis', '2024-02-17', 1.0, 'Trainer C', 'Room 105', 'Effective Time Management'),\n",
    "    (14, 'Nathan Wilson', '2024-02-18', 2.0, 'Trainer A', 'Conference Room B', 'Customer Service Excellence'),\n",
    "    (15, 'Olivia Miller', '2024-02-19', 2.5, 'Trainer B', 'Training Room A', 'Financial Literacy')\n",
    "    ;"
   ]
  },
  {
   "cell_type": "code",
   "execution_count": 0,
   "metadata": {
    "application/vnd.databricks.v1+cell": {
     "cellMetadata": {
      "byteLimit": 2048000,
      "rowLimit": 10000
     },
     "inputWidgets": {},
     "nuid": "7e33f596-e990-424a-9879-c8ed73dabaad",
     "showTitle": false,
     "title": ""
    }
   },
   "outputs": [
    {
     "output_type": "display_data",
     "data": {
      "text/html": [
       "<style scoped>\n",
       "  .table-result-container {\n",
       "    max-height: 300px;\n",
       "    overflow: auto;\n",
       "  }\n",
       "  table, th, td {\n",
       "    border: 1px solid black;\n",
       "    border-collapse: collapse;\n",
       "  }\n",
       "  th, td {\n",
       "    padding: 5px;\n",
       "  }\n",
       "  th {\n",
       "    text-align: left;\n",
       "  }\n",
       "</style><div class='table-result-container'><table class='table-result'><thead style='background-color: white'><tr><th>participant_id</th><th>participant_name</th><th>training_session_date</th><th>training_session_duration_hours</th><th>trainer_name</th><th>training_location</th><th>training_subject</th></tr></thead><tbody><tr><td>1</td><td>Alice Johnson</td><td>2024-02-05</td><td>2.50</td><td>Trainer C</td><td>Room 101</td><td>Introduction to Programming</td></tr><tr><td>2</td><td>Bob Williams</td><td>2024-02-06</td><td>3.00</td><td>Trainer A</td><td>Conference Room B</td><td>Web Development Basics</td></tr><tr><td>3</td><td>Charlie Davis</td><td>2024-02-07</td><td>2.00</td><td>Trainer B</td><td>Training Room A</td><td>Project Management Fundamentals</td></tr><tr><td>4</td><td>David Smith</td><td>2024-02-08</td><td>1.50</td><td>Trainer C</td><td>Room 102</td><td>Digital Marketing Essentials</td></tr><tr><td>5</td><td>Eva Brown</td><td>2024-02-09</td><td>2.00</td><td>Trainer A</td><td>Conference Room A</td><td>Data Visualization Techniques</td></tr><tr><td>6</td><td>Frank Johnson</td><td>2024-02-10</td><td>3.50</td><td>Trainer B</td><td>Training Room B</td><td>Effective Leadership Skills</td></tr><tr><td>7</td><td>Grace Miller</td><td>2024-02-11</td><td>2.00</td><td>Trainer C</td><td>Room 103</td><td>Introduction to Machine Learning</td></tr><tr><td>8</td><td>Henry Davis</td><td>2024-02-12</td><td>2.50</td><td>Trainer A</td><td>Conference Room B</td><td>Cybersecurity Basics</td></tr><tr><td>9</td><td>Ivy Wilson</td><td>2024-02-13</td><td>1.50</td><td>Trainer B</td><td>Training Room A</td><td>Public Speaking Techniques</td></tr><tr><td>10</td><td>Jack White</td><td>2024-02-14</td><td>2.00</td><td>Trainer C</td><td>Room 104</td><td>Agile Project Management</td></tr><tr><td>11</td><td>Kelly Johnson</td><td>2024-02-15</td><td>3.00</td><td>Trainer A</td><td>Conference Room A</td><td>Social Media Marketing Strategies</td></tr><tr><td>12</td><td>Leo Brown</td><td>2024-02-16</td><td>2.50</td><td>Trainer B</td><td>Training Room B</td><td>Python Programming Basics</td></tr><tr><td>13</td><td>Mia Davis</td><td>2024-02-17</td><td>1.00</td><td>Trainer C</td><td>Room 105</td><td>Effective Time Management</td></tr><tr><td>14</td><td>Nathan Wilson</td><td>2024-02-18</td><td>2.00</td><td>Trainer A</td><td>Conference Room B</td><td>Customer Service Excellence</td></tr><tr><td>15</td><td>Olivia Miller</td><td>2024-02-19</td><td>2.50</td><td>Trainer B</td><td>Training Room A</td><td>Financial Literacy</td></tr></tbody></table></div>"
      ]
     },
     "metadata": {
      "application/vnd.databricks.v1+output": {
       "addedWidgets": {},
       "aggData": [],
       "aggError": "",
       "aggOverflow": false,
       "aggSchema": [],
       "aggSeriesLimitReached": false,
       "aggType": "",
       "arguments": {},
       "columnCustomDisplayInfos": {},
       "data": [
        [
         1,
         "Alice Johnson",
         "2024-02-05",
         "2.50",
         "Trainer C",
         "Room 101",
         "Introduction to Programming"
        ],
        [
         2,
         "Bob Williams",
         "2024-02-06",
         "3.00",
         "Trainer A",
         "Conference Room B",
         "Web Development Basics"
        ],
        [
         3,
         "Charlie Davis",
         "2024-02-07",
         "2.00",
         "Trainer B",
         "Training Room A",
         "Project Management Fundamentals"
        ],
        [
         4,
         "David Smith",
         "2024-02-08",
         "1.50",
         "Trainer C",
         "Room 102",
         "Digital Marketing Essentials"
        ],
        [
         5,
         "Eva Brown",
         "2024-02-09",
         "2.00",
         "Trainer A",
         "Conference Room A",
         "Data Visualization Techniques"
        ],
        [
         6,
         "Frank Johnson",
         "2024-02-10",
         "3.50",
         "Trainer B",
         "Training Room B",
         "Effective Leadership Skills"
        ],
        [
         7,
         "Grace Miller",
         "2024-02-11",
         "2.00",
         "Trainer C",
         "Room 103",
         "Introduction to Machine Learning"
        ],
        [
         8,
         "Henry Davis",
         "2024-02-12",
         "2.50",
         "Trainer A",
         "Conference Room B",
         "Cybersecurity Basics"
        ],
        [
         9,
         "Ivy Wilson",
         "2024-02-13",
         "1.50",
         "Trainer B",
         "Training Room A",
         "Public Speaking Techniques"
        ],
        [
         10,
         "Jack White",
         "2024-02-14",
         "2.00",
         "Trainer C",
         "Room 104",
         "Agile Project Management"
        ],
        [
         11,
         "Kelly Johnson",
         "2024-02-15",
         "3.00",
         "Trainer A",
         "Conference Room A",
         "Social Media Marketing Strategies"
        ],
        [
         12,
         "Leo Brown",
         "2024-02-16",
         "2.50",
         "Trainer B",
         "Training Room B",
         "Python Programming Basics"
        ],
        [
         13,
         "Mia Davis",
         "2024-02-17",
         "1.00",
         "Trainer C",
         "Room 105",
         "Effective Time Management"
        ],
        [
         14,
         "Nathan Wilson",
         "2024-02-18",
         "2.00",
         "Trainer A",
         "Conference Room B",
         "Customer Service Excellence"
        ],
        [
         15,
         "Olivia Miller",
         "2024-02-19",
         "2.50",
         "Trainer B",
         "Training Room A",
         "Financial Literacy"
        ]
       ],
       "datasetInfos": [],
       "dbfsResultPath": null,
       "isJsonSchema": true,
       "metadata": {
        "isDbfsCommandResult": false
       },
       "overflow": false,
       "plotOptions": {
        "customPlotOptions": {},
        "displayType": "table",
        "pivotAggregation": null,
        "pivotColumns": null,
        "xColumns": null,
        "yColumns": null
       },
       "removedWidgets": [],
       "schema": [
        {
         "metadata": "{}",
         "name": "participant_id",
         "type": "\"integer\""
        },
        {
         "metadata": "{\"__CHAR_VARCHAR_TYPE_STRING\":\"varchar(50)\"}",
         "name": "participant_name",
         "type": "\"string\""
        },
        {
         "metadata": "{}",
         "name": "training_session_date",
         "type": "\"date\""
        },
        {
         "metadata": "{}",
         "name": "training_session_duration_hours",
         "type": "\"decimal(5,2)\""
        },
        {
         "metadata": "{\"__CHAR_VARCHAR_TYPE_STRING\":\"varchar(50)\"}",
         "name": "trainer_name",
         "type": "\"string\""
        },
        {
         "metadata": "{\"__CHAR_VARCHAR_TYPE_STRING\":\"varchar(100)\"}",
         "name": "training_location",
         "type": "\"string\""
        },
        {
         "metadata": "{\"__CHAR_VARCHAR_TYPE_STRING\":\"varchar(100)\"}",
         "name": "training_subject",
         "type": "\"string\""
        }
       ],
       "type": "table"
      }
     },
     "output_type": "display_data"
    }
   ],
   "source": [
    "%sql\n",
    "SELECT * FROM training_data"
   ]
  },
  {
   "cell_type": "code",
   "execution_count": 0,
   "metadata": {
    "application/vnd.databricks.v1+cell": {
     "cellMetadata": {
      "byteLimit": 2048000,
      "rowLimit": 10000
     },
     "inputWidgets": {},
     "nuid": "a763e2e9-2cbc-4934-915b-4438e965296f",
     "showTitle": false,
     "title": ""
    }
   },
   "outputs": [
    {
     "output_type": "display_data",
     "data": {
      "text/html": [
       "<style scoped>\n",
       "  .table-result-container {\n",
       "    max-height: 300px;\n",
       "    overflow: auto;\n",
       "  }\n",
       "  table, th, td {\n",
       "    border: 1px solid black;\n",
       "    border-collapse: collapse;\n",
       "  }\n",
       "  th, td {\n",
       "    padding: 5px;\n",
       "  }\n",
       "  th {\n",
       "    text-align: left;\n",
       "  }\n",
       "</style><div class='table-result-container'><table class='table-result'><thead style='background-color: white'><tr><th>trainer_name</th><th>training_location</th><th>avg_time</th></tr></thead><tbody><tr><td>Trainer A</td><td>Conference Room A</td><td>2.500000</td></tr><tr><td>Trainer A</td><td>Conference Room B</td><td>2.500000</td></tr><tr><td>Trainer B</td><td>Training Room A</td><td>2.000000</td></tr><tr><td>Trainer B</td><td>Training Room B</td><td>3.000000</td></tr><tr><td>Trainer C</td><td>Room 102</td><td>1.500000</td></tr><tr><td>Trainer C</td><td>Room 103</td><td>2.000000</td></tr><tr><td>Trainer C</td><td>Room 104</td><td>2.000000</td></tr><tr><td>Trainer C</td><td>Room 101</td><td>2.500000</td></tr><tr><td>Trainer C</td><td>Room 105</td><td>1.000000</td></tr></tbody></table></div>"
      ]
     },
     "metadata": {
      "application/vnd.databricks.v1+output": {
       "addedWidgets": {},
       "aggData": [],
       "aggError": "",
       "aggOverflow": false,
       "aggSchema": [],
       "aggSeriesLimitReached": false,
       "aggType": "",
       "arguments": {},
       "columnCustomDisplayInfos": {},
       "data": [
        [
         "Trainer A",
         "Conference Room A",
         "2.500000"
        ],
        [
         "Trainer A",
         "Conference Room B",
         "2.500000"
        ],
        [
         "Trainer B",
         "Training Room A",
         "2.000000"
        ],
        [
         "Trainer B",
         "Training Room B",
         "3.000000"
        ],
        [
         "Trainer C",
         "Room 102",
         "1.500000"
        ],
        [
         "Trainer C",
         "Room 103",
         "2.000000"
        ],
        [
         "Trainer C",
         "Room 104",
         "2.000000"
        ],
        [
         "Trainer C",
         "Room 101",
         "2.500000"
        ],
        [
         "Trainer C",
         "Room 105",
         "1.000000"
        ]
       ],
       "datasetInfos": [],
       "dbfsResultPath": null,
       "isJsonSchema": true,
       "metadata": {
        "isDbfsCommandResult": false
       },
       "overflow": false,
       "plotOptions": {
        "customPlotOptions": {},
        "displayType": "table",
        "pivotAggregation": null,
        "pivotColumns": null,
        "xColumns": null,
        "yColumns": null
       },
       "removedWidgets": [],
       "schema": [
        {
         "metadata": "{\"__CHAR_VARCHAR_TYPE_STRING\":\"varchar(50)\"}",
         "name": "trainer_name",
         "type": "\"string\""
        },
        {
         "metadata": "{\"__CHAR_VARCHAR_TYPE_STRING\":\"varchar(100)\"}",
         "name": "training_location",
         "type": "\"string\""
        },
        {
         "metadata": "{}",
         "name": "avg_time",
         "type": "\"decimal(9,6)\""
        }
       ],
       "type": "table"
      }
     },
     "output_type": "display_data"
    }
   ],
   "source": [
    "%sql\n",
    "SELECT trainer_name, training_location, avg(training_session_duration_hours) AS avg_time FROM training_data\n",
    "GROUP BY trainer_name, training_location\n",
    "ORDER BY trainer_name"
   ]
  },
  {
   "cell_type": "code",
   "execution_count": 0,
   "metadata": {
    "application/vnd.databricks.v1+cell": {
     "cellMetadata": {
      "byteLimit": 2048000,
      "rowLimit": 10000
     },
     "inputWidgets": {},
     "nuid": "205516e3-3df0-4f14-9ae0-8d7572e3bd48",
     "showTitle": false,
     "title": ""
    }
   },
   "outputs": [
    {
     "output_type": "display_data",
     "data": {
      "text/html": [
       "<style scoped>\n",
       "  .table-result-container {\n",
       "    max-height: 300px;\n",
       "    overflow: auto;\n",
       "  }\n",
       "  table, th, td {\n",
       "    border: 1px solid black;\n",
       "    border-collapse: collapse;\n",
       "  }\n",
       "  th, td {\n",
       "    padding: 5px;\n",
       "  }\n",
       "  th {\n",
       "    text-align: left;\n",
       "  }\n",
       "</style><div class='table-result-container'><table class='table-result'><thead style='background-color: white'><tr><th>trainer_name</th><th>count_participant</th></tr></thead><tbody><tr><td>Trainer A</td><td>5</td></tr><tr><td>Trainer B</td><td>5</td></tr><tr><td>Trainer C</td><td>5</td></tr></tbody></table></div>"
      ]
     },
     "metadata": {
      "application/vnd.databricks.v1+output": {
       "addedWidgets": {},
       "aggData": [],
       "aggError": "",
       "aggOverflow": false,
       "aggSchema": [],
       "aggSeriesLimitReached": false,
       "aggType": "",
       "arguments": {},
       "columnCustomDisplayInfos": {},
       "data": [
        [
         "Trainer A",
         5
        ],
        [
         "Trainer B",
         5
        ],
        [
         "Trainer C",
         5
        ]
       ],
       "datasetInfos": [],
       "dbfsResultPath": null,
       "isJsonSchema": true,
       "metadata": {
        "isDbfsCommandResult": false
       },
       "overflow": false,
       "plotOptions": {
        "customPlotOptions": {},
        "displayType": "table",
        "pivotAggregation": null,
        "pivotColumns": null,
        "xColumns": null,
        "yColumns": null
       },
       "removedWidgets": [],
       "schema": [
        {
         "metadata": "{\"__CHAR_VARCHAR_TYPE_STRING\":\"varchar(50)\"}",
         "name": "trainer_name",
         "type": "\"string\""
        },
        {
         "metadata": "{}",
         "name": "count_participant",
         "type": "\"long\""
        }
       ],
       "type": "table"
      }
     },
     "output_type": "display_data"
    }
   ],
   "source": [
    "%sql\n",
    "SELECT trainer_name, count(participant_id) AS count_participant FROM training_data\n",
    "GROUP BY trainer_name\n",
    "ORDER BY trainer_name"
   ]
  },
  {
   "cell_type": "code",
   "execution_count": 0,
   "metadata": {
    "application/vnd.databricks.v1+cell": {
     "cellMetadata": {
      "byteLimit": 2048000,
      "rowLimit": 10000
     },
     "inputWidgets": {},
     "nuid": "f210ae03-7613-4b50-917f-fe5c62588dbc",
     "showTitle": false,
     "title": ""
    }
   },
   "outputs": [
    {
     "output_type": "display_data",
     "data": {
      "text/html": [
       "<style scoped>\n",
       "  .table-result-container {\n",
       "    max-height: 300px;\n",
       "    overflow: auto;\n",
       "  }\n",
       "  table, th, td {\n",
       "    border: 1px solid black;\n",
       "    border-collapse: collapse;\n",
       "  }\n",
       "  th, td {\n",
       "    padding: 5px;\n",
       "  }\n",
       "  th {\n",
       "    text-align: left;\n",
       "  }\n",
       "</style><div class='table-result-container'><table class='table-result'><thead style='background-color: white'><tr><th>avg</th><th>min</th><th>max</th><th>sum</th></tr></thead><tbody><tr><td>2.233333</td><td>1.00</td><td>3.50</td><td>33.50</td></tr></tbody></table></div>"
      ]
     },
     "metadata": {
      "application/vnd.databricks.v1+output": {
       "addedWidgets": {},
       "aggData": [],
       "aggError": "",
       "aggOverflow": false,
       "aggSchema": [],
       "aggSeriesLimitReached": false,
       "aggType": "",
       "arguments": {},
       "columnCustomDisplayInfos": {},
       "data": [
        [
         "2.233333",
         "1.00",
         "3.50",
         "33.50"
        ]
       ],
       "datasetInfos": [],
       "dbfsResultPath": null,
       "isJsonSchema": true,
       "metadata": {
        "isDbfsCommandResult": false
       },
       "overflow": false,
       "plotOptions": {
        "customPlotOptions": {},
        "displayType": "table",
        "pivotAggregation": null,
        "pivotColumns": null,
        "xColumns": null,
        "yColumns": null
       },
       "removedWidgets": [],
       "schema": [
        {
         "metadata": "{}",
         "name": "avg",
         "type": "\"decimal(9,6)\""
        },
        {
         "metadata": "{}",
         "name": "min",
         "type": "\"decimal(5,2)\""
        },
        {
         "metadata": "{}",
         "name": "max",
         "type": "\"decimal(5,2)\""
        },
        {
         "metadata": "{}",
         "name": "sum",
         "type": "\"decimal(15,2)\""
        }
       ],
       "type": "table"
      }
     },
     "output_type": "display_data"
    }
   ],
   "source": [
    "%sql\n",
    "SELECT avg(training_session_duration_hours) AS avg,min(training_session_duration_hours) AS min,max(training_session_duration_hours) AS max,sum(training_session_duration_hours|) AS sum FROM training_data"
   ]
  },
  {
   "cell_type": "code",
   "execution_count": 0,
   "metadata": {
    "application/vnd.databricks.v1+cell": {
     "cellMetadata": {
      "byteLimit": 2048000,
      "rowLimit": 10000
     },
     "inputWidgets": {},
     "nuid": "5d97b3be-8b9d-4d24-8cc8-02be6b2f5c11",
     "showTitle": false,
     "title": ""
    }
   },
   "outputs": [
    {
     "output_type": "display_data",
     "data": {
      "text/html": [
       "<style scoped>\n",
       "  .table-result-container {\n",
       "    max-height: 300px;\n",
       "    overflow: auto;\n",
       "  }\n",
       "  table, th, td {\n",
       "    border: 1px solid black;\n",
       "    border-collapse: collapse;\n",
       "  }\n",
       "  th, td {\n",
       "    padding: 5px;\n",
       "  }\n",
       "  th {\n",
       "    text-align: left;\n",
       "  }\n",
       "</style><div class='table-result-container'><table class='table-result'><thead style='background-color: white'><tr><th>trainer_name</th><th>avg_time</th><th>sum_time</th></tr></thead><tbody><tr><td>Trainer A</td><td>2.500000</td><td>12.50</td></tr><tr><td>Trainer B</td><td>2.400000</td><td>12.00</td></tr><tr><td>Trainer C</td><td>1.800000</td><td>9.00</td></tr></tbody></table></div>"
      ]
     },
     "metadata": {
      "application/vnd.databricks.v1+output": {
       "addedWidgets": {},
       "aggData": [],
       "aggError": "",
       "aggOverflow": false,
       "aggSchema": [],
       "aggSeriesLimitReached": false,
       "aggType": "",
       "arguments": {},
       "columnCustomDisplayInfos": {},
       "data": [
        [
         "Trainer A",
         "2.500000",
         "12.50"
        ],
        [
         "Trainer B",
         "2.400000",
         "12.00"
        ],
        [
         "Trainer C",
         "1.800000",
         "9.00"
        ]
       ],
       "datasetInfos": [],
       "dbfsResultPath": null,
       "isJsonSchema": true,
       "metadata": {
        "isDbfsCommandResult": false
       },
       "overflow": false,
       "plotOptions": {
        "customPlotOptions": {},
        "displayType": "table",
        "pivotAggregation": null,
        "pivotColumns": null,
        "xColumns": null,
        "yColumns": null
       },
       "removedWidgets": [],
       "schema": [
        {
         "metadata": "{\"__CHAR_VARCHAR_TYPE_STRING\":\"varchar(50)\"}",
         "name": "trainer_name",
         "type": "\"string\""
        },
        {
         "metadata": "{}",
         "name": "avg_time",
         "type": "\"decimal(9,6)\""
        },
        {
         "metadata": "{}",
         "name": "sum_time",
         "type": "\"decimal(15,2)\""
        }
       ],
       "type": "table"
      }
     },
     "output_type": "display_data"
    }
   ],
   "source": [
    "%sql\n",
    "SELECT trainer_name, avg(training_session_duration_hours) AS avg_time,sum(training_session_duration_hours) AS sum_time FROM training_data\n",
    "GROUP BY trainer_name\n",
    "ORDER BY trainer_name"
   ]
  },
  {
   "cell_type": "code",
   "execution_count": 0,
   "metadata": {
    "application/vnd.databricks.v1+cell": {
     "cellMetadata": {},
     "inputWidgets": {},
     "nuid": "4a61452a-35df-4915-b298-d6511897e760",
     "showTitle": false,
     "title": ""
    }
   },
   "outputs": [],
   "source": []
  }
 ],
 "metadata": {
  "application/vnd.databricks.v1+notebook": {
   "dashboards": [],
   "language": "python",
   "notebookMetadata": {
    "pythonIndentUnit": 4
   },
   "notebookName": "training_data_sql_day1_basic",
   "widgets": {}
  }
 },
 "nbformat": 4,
 "nbformat_minor": 0
}
