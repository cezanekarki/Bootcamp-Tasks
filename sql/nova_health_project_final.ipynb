{
 "cells": [
  {
   "cell_type": "code",
   "execution_count": 0,
   "metadata": {
    "application/vnd.databricks.v1+cell": {
     "cellMetadata": {
      "byteLimit": 2048000,
      "rowLimit": 10000
     },
     "inputWidgets": {},
     "nuid": "23066a83-0616-490a-91bb-40593e31b34f",
     "showTitle": false,
     "title": ""
    }
   },
   "outputs": [
    {
     "output_type": "stream",
     "name": "stdout",
     "output_type": "stream",
     "text": [
      "Out[1]: True"
     ]
    }
   ],
   "source": [
    "%python\n",
    "dbutils.fs.rm(\"dbfs:/user/hive/warehouse/contactinfo_txt\", True)\n",
    "dbutils.fs.rm(\"dbfs:/user/hive/warehouse/header_json\", True)\n",
    "dbutils.fs.rm(\"dbfs:/user/hive/warehouse/address_xlsx\", True)\n",
    "dbutils.fs.rm(\"dbfs:/user/hive/warehouse/detail1_csv\", True)"
   ]
  },
  {
   "cell_type": "code",
   "execution_count": 0,
   "metadata": {
    "application/vnd.databricks.v1+cell": {
     "cellMetadata": {
      "byteLimit": 2048000,
      "rowLimit": 10000
     },
     "inputWidgets": {},
     "nuid": "03a37e56-2d1b-47a2-beff-a178344a74e4",
     "showTitle": false,
     "title": ""
    }
   },
   "outputs": [],
   "source": [
    "%python\n",
    "detail1_csv=spark.read.format(\"csv\").option(\"inferschema\",True).option(\"header\",True).load(\"dbfs:/FileStore/tables/Detail-1.csv\")\n",
    "contactinfo_txt=spark.read.format(\"csv\").option(\"inferschema\",True).option(\"header\",True).option(\"sep\",\"\\t\").load(\"dbfs:/FileStore/tables/contactinfo.txt\")\n",
    "header_json=spark.read.format(\"json\").option(\"header\",True).option(\"inferschema\",True).option(\"multiline\",True).load(\"dbfs:/FileStore/tables/header.json\")\n",
    "address_xlsx=spark.read.format(\"com.crealytics.spark.excel\").option(\"header\",True).option(\"inferschema\",True).option(\"sep\",\",\").load(\"dbfs:/FileStore/tables/Address.xlsx\")"
   ]
  },
  {
   "cell_type": "code",
   "execution_count": 0,
   "metadata": {
    "application/vnd.databricks.v1+cell": {
     "cellMetadata": {
      "byteLimit": 2048000,
      "rowLimit": 10000
     },
     "inputWidgets": {},
     "nuid": "492f4b68-cd53-4116-b9bc-6db9b65ae54d",
     "showTitle": false,
     "title": ""
    }
   },
   "outputs": [],
   "source": [
    "%python\n",
    "detail1_csv.write.mode(\"overwrite\").format(\"parquet\").saveAsTable(\"detail1_csv\")\n",
    "contactinfo_txt.write.mode(\"overwrite\").format(\"parquet\").saveAsTable(\"contactinfo_txt\")\n",
    "header_json.write.mode(\"overwrite\").format(\"parquet\").saveAsTable(\"header_json\")\n",
    "address_xlsx.write.mode(\"overwrite\").format(\"parquet\").saveAsTable(\"address_xlsx\")"
   ]
  },
  {
   "cell_type": "code",
   "execution_count": 0,
   "metadata": {
    "application/vnd.databricks.v1+cell": {
     "cellMetadata": {
      "byteLimit": 2048000,
      "implicitDf": true,
      "rowLimit": 10000
     },
     "inputWidgets": {},
     "nuid": "6c63e561-7013-4a7b-aa4a-03ef555b5c09",
     "showTitle": false,
     "title": ""
    }
   },
   "outputs": [
    {
     "output_type": "display_data",
     "data": {
      "text/html": [
       "<style scoped>\n",
       "  .table-result-container {\n",
       "    max-height: 300px;\n",
       "    overflow: auto;\n",
       "  }\n",
       "  table, th, td {\n",
       "    border: 1px solid black;\n",
       "    border-collapse: collapse;\n",
       "  }\n",
       "  th, td {\n",
       "    padding: 5px;\n",
       "  }\n",
       "  th {\n",
       "    text-align: left;\n",
       "  }\n",
       "</style><div class='table-result-container'><table class='table-result'><thead style='background-color: white'><tr><th>id</th><th>first_name</th><th>middle_name</th><th>last_name</th><th>email</th><th>ssn</th><th>gender</th><th>religion</th><th>marital_status</th><th>date_of_birth</th><th>deceased_date</th><th>spoken_language_1</th><th>spoken_language_2</th><th>company</th><th>job_role</th><th>job_hiredate</th></tr></thead><tbody><tr><td>70001</td><td>Hettie</td><td>null</td><td>Keenlayside</td><td>jkeenlayside0@disqus.com</td><td>168-92-1075</td><td>F</td><td>Buddhism</td><td>Widowed</td><td>1939-08-05</td><td>null</td><td>West Frisian</td><td>Swahili</td><td>Gabcube</td><td>Clinical Specialist</td><td>1964-01-29</td></tr><tr><td>70002</td><td>Reade</td><td>null</td><td>Laverenz</td><td>dlaverenz1@senate.gov</td><td>782-24-9907</td><td>M</td><td>Christianity</td><td>Widowed</td><td>1941-05-14</td><td>null</td><td>Swati</td><td>Danish</td><td>Skibox</td><td>Staff Scientist</td><td>1958-05-18</td></tr><tr><td>70003</td><td>Minnnie</td><td>null</td><td>Baack</td><td>dbaack2@sina.com.cn</td><td>726-01-1271</td><td>F</td><td>Buddhism</td><td>Married</td><td>1982-11-20</td><td>null</td><td>Swati</td><td>null</td><td>Dabjam</td><td>Paralegal</td><td>2011-06-10</td></tr><tr><td>70004</td><td>Tana</td><td>Agata</td><td>Aiken</td><td>aaiken3@nydailynews.com</td><td>492-62-0968</td><td>F</td><td>null</td><td>null</td><td>1929-02-18</td><td>null</td><td>New Zealand Sign Language</td><td>Punjabi</td><td>Aimbu</td><td>VP Marketing</td><td>2014-10-08</td></tr><tr><td>70005</td><td>Cyndia</td><td>null</td><td>Tolomelli</td><td>ltolomelli4@istockphoto.com</td><td>802-24-1062</td><td>F</td><td>null</td><td>null</td><td>1920-05-31</td><td>null</td><td>null</td><td>Albanian</td><td>Edgepulse</td><td>Senior Developer</td><td>1931-01-16</td></tr></tbody></table></div>"
      ]
     },
     "metadata": {
      "application/vnd.databricks.v1+output": {
       "addedWidgets": {},
       "aggData": [],
       "aggError": "",
       "aggOverflow": false,
       "aggSchema": [],
       "aggSeriesLimitReached": false,
       "aggType": "",
       "arguments": {},
       "columnCustomDisplayInfos": {},
       "data": [
        [
         70001,
         "Hettie",
         null,
         "Keenlayside",
         "jkeenlayside0@disqus.com",
         "168-92-1075",
         "F",
         "Buddhism",
         "Widowed",
         "1939-08-05",
         null,
         "West Frisian",
         "Swahili",
         "Gabcube",
         "Clinical Specialist",
         "1964-01-29"
        ],
        [
         70002,
         "Reade",
         null,
         "Laverenz",
         "dlaverenz1@senate.gov",
         "782-24-9907",
         "M",
         "Christianity",
         "Widowed",
         "1941-05-14",
         null,
         "Swati",
         "Danish",
         "Skibox",
         "Staff Scientist",
         "1958-05-18"
        ],
        [
         70003,
         "Minnnie",
         null,
         "Baack",
         "dbaack2@sina.com.cn",
         "726-01-1271",
         "F",
         "Buddhism",
         "Married",
         "1982-11-20",
         null,
         "Swati",
         null,
         "Dabjam",
         "Paralegal",
         "2011-06-10"
        ],
        [
         70004,
         "Tana",
         "Agata",
         "Aiken",
         "aaiken3@nydailynews.com",
         "492-62-0968",
         "F",
         null,
         null,
         "1929-02-18",
         null,
         "New Zealand Sign Language",
         "Punjabi",
         "Aimbu",
         "VP Marketing",
         "2014-10-08"
        ],
        [
         70005,
         "Cyndia",
         null,
         "Tolomelli",
         "ltolomelli4@istockphoto.com",
         "802-24-1062",
         "F",
         null,
         null,
         "1920-05-31",
         null,
         null,
         "Albanian",
         "Edgepulse",
         "Senior Developer",
         "1931-01-16"
        ]
       ],
       "datasetInfos": [],
       "dbfsResultPath": null,
       "isJsonSchema": true,
       "metadata": {},
       "overflow": false,
       "plotOptions": {
        "customPlotOptions": {},
        "displayType": "table",
        "pivotAggregation": null,
        "pivotColumns": null,
        "xColumns": null,
        "yColumns": null
       },
       "removedWidgets": [],
       "schema": [
        {
         "metadata": "{}",
         "name": "id",
         "type": "\"integer\""
        },
        {
         "metadata": "{}",
         "name": "first_name",
         "type": "\"string\""
        },
        {
         "metadata": "{}",
         "name": "middle_name",
         "type": "\"string\""
        },
        {
         "metadata": "{}",
         "name": "last_name",
         "type": "\"string\""
        },
        {
         "metadata": "{}",
         "name": "email",
         "type": "\"string\""
        },
        {
         "metadata": "{}",
         "name": "ssn",
         "type": "\"string\""
        },
        {
         "metadata": "{}",
         "name": "gender",
         "type": "\"string\""
        },
        {
         "metadata": "{}",
         "name": "religion",
         "type": "\"string\""
        },
        {
         "metadata": "{}",
         "name": "marital_status",
         "type": "\"string\""
        },
        {
         "metadata": "{\"__detected_date_formats\":\"M/d/yyyy\"}",
         "name": "date_of_birth",
         "type": "\"date\""
        },
        {
         "metadata": "{}",
         "name": "deceased_date",
         "type": "\"string\""
        },
        {
         "metadata": "{}",
         "name": "spoken_language_1",
         "type": "\"string\""
        },
        {
         "metadata": "{}",
         "name": "spoken_language_2",
         "type": "\"string\""
        },
        {
         "metadata": "{}",
         "name": "company",
         "type": "\"string\""
        },
        {
         "metadata": "{}",
         "name": "job_role",
         "type": "\"string\""
        },
        {
         "metadata": "{\"__detected_date_formats\":\"M/d/yyyy\"}",
         "name": "job_hiredate",
         "type": "\"date\""
        }
       ],
       "type": "table"
      }
     },
     "output_type": "display_data"
    }
   ],
   "source": [
    "%sql\n",
    "SELECT * FROM detail1_csv LIMIT 5"
   ]
  },
  {
   "cell_type": "code",
   "execution_count": 0,
   "metadata": {
    "application/vnd.databricks.v1+cell": {
     "cellMetadata": {
      "byteLimit": 2048000,
      "implicitDf": true,
      "rowLimit": 10000
     },
     "inputWidgets": {},
     "nuid": "5fcdf9f0-93d5-4a48-a87b-1f4f5a5bd14a",
     "showTitle": false,
     "title": ""
    }
   },
   "outputs": [
    {
     "output_type": "display_data",
     "data": {
      "text/html": [
       "<style scoped>\n",
       "  .table-result-container {\n",
       "    max-height: 300px;\n",
       "    overflow: auto;\n",
       "  }\n",
       "  table, th, td {\n",
       "    border: 1px solid black;\n",
       "    border-collapse: collapse;\n",
       "  }\n",
       "  th, td {\n",
       "    padding: 5px;\n",
       "  }\n",
       "  th {\n",
       "    text-align: left;\n",
       "  }\n",
       "</style><div class='table-result-container'><table class='table-result'><thead style='background-color: white'><tr><th>id</th><th>insurer_id</th><th>relationship</th></tr></thead><tbody><tr><td>70001</td><td>40184</td><td>child</td></tr><tr><td>70002</td><td>40092</td><td>friend</td></tr><tr><td>70003</td><td>40233</td><td>spouse</td></tr><tr><td>70004</td><td>40058</td><td>spouse</td></tr><tr><td>70005</td><td>40088</td><td>friend</td></tr></tbody></table></div>"
      ]
     },
     "metadata": {
      "application/vnd.databricks.v1+output": {
       "addedWidgets": {},
       "aggData": [],
       "aggError": "",
       "aggOverflow": false,
       "aggSchema": [],
       "aggSeriesLimitReached": false,
       "aggType": "",
       "arguments": {},
       "columnCustomDisplayInfos": {},
       "data": [
        [
         70001,
         40184,
         "child"
        ],
        [
         70002,
         40092,
         "friend"
        ],
        [
         70003,
         40233,
         "spouse"
        ],
        [
         70004,
         40058,
         "spouse"
        ],
        [
         70005,
         40088,
         "friend"
        ]
       ],
       "datasetInfos": [],
       "dbfsResultPath": null,
       "isJsonSchema": true,
       "metadata": {},
       "overflow": false,
       "plotOptions": {
        "customPlotOptions": {},
        "displayType": "table",
        "pivotAggregation": null,
        "pivotColumns": null,
        "xColumns": null,
        "yColumns": null
       },
       "removedWidgets": [],
       "schema": [
        {
         "metadata": "{}",
         "name": "id",
         "type": "\"long\""
        },
        {
         "metadata": "{}",
         "name": "insurer_id",
         "type": "\"long\""
        },
        {
         "metadata": "{}",
         "name": "relationship",
         "type": "\"string\""
        }
       ],
       "type": "table"
      }
     },
     "output_type": "display_data"
    }
   ],
   "source": [
    "%sql\n",
    "SELECT * FROM header_json LIMIT 5"
   ]
  },
  {
   "cell_type": "code",
   "execution_count": 0,
   "metadata": {
    "application/vnd.databricks.v1+cell": {
     "cellMetadata": {
      "byteLimit": 2048000,
      "implicitDf": true,
      "rowLimit": 10000
     },
     "inputWidgets": {},
     "nuid": "4e5b70d8-1f97-4d81-af11-dd8dff375c11",
     "showTitle": false,
     "title": ""
    }
   },
   "outputs": [
    {
     "output_type": "display_data",
     "data": {
      "text/html": [
       "<style scoped>\n",
       "  .table-result-container {\n",
       "    max-height: 300px;\n",
       "    overflow: auto;\n",
       "  }\n",
       "  table, th, td {\n",
       "    border: 1px solid black;\n",
       "    border-collapse: collapse;\n",
       "  }\n",
       "  th, td {\n",
       "    padding: 5px;\n",
       "  }\n",
       "  th {\n",
       "    text-align: left;\n",
       "  }\n",
       "</style><div class='table-result-container'><table class='table-result'><thead style='background-color: white'><tr><th>id</th><th>city</th><th>issued_date</th><th>address_line_1</th><th>address_line_2</th><th>state</th><th>address_type</th><th>zipcode</th></tr></thead><tbody><tr><td>70376.0</td><td>Edwardburgh</td><td>2015-07-18T00:00:00.000+0000</td><td>2302 Shannon Wall</td><td>Apt. 419</td><td>Missouri</td><td>Residental</td><td>64801</td></tr><tr><td>70376.0</td><td>Lake Diana</td><td>2021-01-21T00:00:00.000+0000</td><td>842 David Grove Suite 069</td><td>Apt. 283</td><td>South Carolina</td><td>Mail</td><td>62440</td></tr><tr><td>70377.0</td><td>New Kellyview</td><td>2021-01-09T00:00:00.000+0000</td><td>02737 Crawford Common</td><td>Suite 436</td><td>Washington</td><td>Mail</td><td>35780</td></tr><tr><td>70377.0</td><td>East Robertview</td><td>2010-08-14T00:00:00.000+0000</td><td>37464 Delgado Forest Suite 919</td><td>Apt. 633</td><td>Iowa</td><td>Residental</td><td>36908</td></tr><tr><td>70378.0</td><td>West Catherine</td><td>2018-03-03T00:00:00.000+0000</td><td>3221 Michael Harbors</td><td>Suite 447</td><td>Florida</td><td>Residental</td><td>49167</td></tr></tbody></table></div>"
      ]
     },
     "metadata": {
      "application/vnd.databricks.v1+output": {
       "addedWidgets": {},
       "aggData": [],
       "aggError": "",
       "aggOverflow": false,
       "aggSchema": [],
       "aggSeriesLimitReached": false,
       "aggType": "",
       "arguments": {},
       "columnCustomDisplayInfos": {},
       "data": [
        [
         70376.0,
         "Edwardburgh",
         "2015-07-18T00:00:00.000+0000",
         "2302 Shannon Wall",
         "Apt. 419",
         "Missouri",
         "Residental",
         "64801"
        ],
        [
         70376.0,
         "Lake Diana",
         "2021-01-21T00:00:00.000+0000",
         "842 David Grove Suite 069",
         "Apt. 283",
         "South Carolina",
         "Mail",
         "62440"
        ],
        [
         70377.0,
         "New Kellyview",
         "2021-01-09T00:00:00.000+0000",
         "02737 Crawford Common",
         "Suite 436",
         "Washington",
         "Mail",
         "35780"
        ],
        [
         70377.0,
         "East Robertview",
         "2010-08-14T00:00:00.000+0000",
         "37464 Delgado Forest Suite 919",
         "Apt. 633",
         "Iowa",
         "Residental",
         "36908"
        ],
        [
         70378.0,
         "West Catherine",
         "2018-03-03T00:00:00.000+0000",
         "3221 Michael Harbors",
         "Suite 447",
         "Florida",
         "Residental",
         "49167"
        ]
       ],
       "datasetInfos": [],
       "dbfsResultPath": null,
       "isJsonSchema": true,
       "metadata": {},
       "overflow": false,
       "plotOptions": {
        "customPlotOptions": {},
        "displayType": "table",
        "pivotAggregation": null,
        "pivotColumns": null,
        "xColumns": null,
        "yColumns": null
       },
       "removedWidgets": [],
       "schema": [
        {
         "metadata": "{}",
         "name": "id",
         "type": "\"double\""
        },
        {
         "metadata": "{}",
         "name": "city",
         "type": "\"string\""
        },
        {
         "metadata": "{}",
         "name": "issued_date",
         "type": "\"timestamp\""
        },
        {
         "metadata": "{}",
         "name": "address_line_1",
         "type": "\"string\""
        },
        {
         "metadata": "{}",
         "name": "address_line_2",
         "type": "\"string\""
        },
        {
         "metadata": "{}",
         "name": "state",
         "type": "\"string\""
        },
        {
         "metadata": "{}",
         "name": "address_type",
         "type": "\"string\""
        },
        {
         "metadata": "{}",
         "name": "zipcode",
         "type": "\"string\""
        }
       ],
       "type": "table"
      }
     },
     "output_type": "display_data"
    }
   ],
   "source": [
    "%sql\n",
    "SELECT * FROM address_xlsx LIMIT 5"
   ]
  },
  {
   "cell_type": "code",
   "execution_count": 0,
   "metadata": {
    "application/vnd.databricks.v1+cell": {
     "cellMetadata": {
      "byteLimit": 2048000,
      "implicitDf": true,
      "rowLimit": 10000
     },
     "inputWidgets": {},
     "nuid": "1ac4f779-9187-4832-bdde-85a7d5fba03e",
     "showTitle": false,
     "title": ""
    }
   },
   "outputs": [
    {
     "output_type": "display_data",
     "data": {
      "text/html": [
       "<style scoped>\n",
       "  .table-result-container {\n",
       "    max-height: 300px;\n",
       "    overflow: auto;\n",
       "  }\n",
       "  table, th, td {\n",
       "    border: 1px solid black;\n",
       "    border-collapse: collapse;\n",
       "  }\n",
       "  th, td {\n",
       "    padding: 5px;\n",
       "  }\n",
       "  th {\n",
       "    text-align: left;\n",
       "  }\n",
       "</style><div class='table-result-container'><table class='table-result'><thead style='background-color: white'><tr><th>id</th><th>phone</th><th>usage_type</th></tr></thead><tbody><tr><td>70001</td><td>(455) 3130004</td><td>Work</td></tr><tr><td>70002</td><td>(994) 4561640</td><td>Work</td></tr><tr><td>70003</td><td>(771) 6498755</td><td>Work</td></tr><tr><td>70004</td><td>(450) 8886723</td><td>Work</td></tr><tr><td>70005</td><td>(423) 1700133</td><td>Work</td></tr></tbody></table></div>"
      ]
     },
     "metadata": {
      "application/vnd.databricks.v1+output": {
       "addedWidgets": {},
       "aggData": [],
       "aggError": "",
       "aggOverflow": false,
       "aggSchema": [],
       "aggSeriesLimitReached": false,
       "aggType": "",
       "arguments": {},
       "columnCustomDisplayInfos": {},
       "data": [
        [
         70001,
         "(455) 3130004",
         "Work"
        ],
        [
         70002,
         "(994) 4561640",
         "Work"
        ],
        [
         70003,
         "(771) 6498755",
         "Work"
        ],
        [
         70004,
         "(450) 8886723",
         "Work"
        ],
        [
         70005,
         "(423) 1700133",
         "Work"
        ]
       ],
       "datasetInfos": [],
       "dbfsResultPath": null,
       "isJsonSchema": true,
       "metadata": {},
       "overflow": false,
       "plotOptions": {
        "customPlotOptions": {},
        "displayType": "table",
        "pivotAggregation": null,
        "pivotColumns": null,
        "xColumns": null,
        "yColumns": null
       },
       "removedWidgets": [],
       "schema": [
        {
         "metadata": "{}",
         "name": "id",
         "type": "\"integer\""
        },
        {
         "metadata": "{}",
         "name": "phone",
         "type": "\"string\""
        },
        {
         "metadata": "{}",
         "name": "usage_type",
         "type": "\"string\""
        }
       ],
       "type": "table"
      }
     },
     "output_type": "display_data"
    }
   ],
   "source": [
    "%sql\n",
    "SELECT * FROM contactinfo_txt LIMIT 5"
   ]
  },
  {
   "cell_type": "code",
   "execution_count": 0,
   "metadata": {
    "application/vnd.databricks.v1+cell": {
     "cellMetadata": {
      "byteLimit": 2048000,
      "implicitDf": true,
      "rowLimit": 10000
     },
     "inputWidgets": {},
     "nuid": "b55f1c28-cb4c-46be-b02f-f5359f5bb8c2",
     "showTitle": false,
     "title": ""
    }
   },
   "outputs": [
    {
     "output_type": "display_data",
     "data": {
      "text/html": [
       "<style scoped>\n",
       "  .table-result-container {\n",
       "    max-height: 300px;\n",
       "    overflow: auto;\n",
       "  }\n",
       "  table, th, td {\n",
       "    border: 1px solid black;\n",
       "    border-collapse: collapse;\n",
       "  }\n",
       "  th, td {\n",
       "    padding: 5px;\n",
       "  }\n",
       "  th {\n",
       "    text-align: left;\n",
       "  }\n",
       "</style><div class='table-result-container'><table class='table-result'><thead style='background-color: white'><tr><th>num_affected_rows</th><th>num_inserted_rows</th></tr></thead><tbody></tbody></table></div>"
      ]
     },
     "metadata": {
      "application/vnd.databricks.v1+output": {
       "addedWidgets": {},
       "aggData": [],
       "aggError": "",
       "aggOverflow": false,
       "aggSchema": [],
       "aggSeriesLimitReached": false,
       "aggType": "",
       "arguments": {},
       "columnCustomDisplayInfos": {},
       "data": [],
       "datasetInfos": [],
       "dbfsResultPath": null,
       "isJsonSchema": true,
       "metadata": {},
       "overflow": false,
       "plotOptions": {
        "customPlotOptions": {},
        "displayType": "table",
        "pivotAggregation": null,
        "pivotColumns": null,
        "xColumns": null,
        "yColumns": null
       },
       "removedWidgets": [],
       "schema": [
        {
         "metadata": "{}",
         "name": "num_affected_rows",
         "type": "\"long\""
        },
        {
         "metadata": "{}",
         "name": "num_inserted_rows",
         "type": "\"long\""
        }
       ],
       "type": "table"
      }
     },
     "output_type": "display_data"
    }
   ],
   "source": [
    "%sql\n",
    "CREATE OR REPLACE TABLE nova_project_table AS\n",
    "(\n",
    "  SELECT\n",
    "    h.id AS source_id,\n",
    "    h.insurer_id AS subscriber_id,\n",
    "    d.first_name,\n",
    "    d.middle_name,\n",
    "    d.last_name,\n",
    "    CASE\n",
    "      WHEN gender = 'M' THEN 'Mr.'\n",
    "      WHEN gender = 'F' AND d.marital_status in ('Married','Widowed') THEN 'Mrs.'\n",
    "      WHEN gender = 'F' AND d.marital_status in ('Single','Divorced') THEN 'Ms.'\n",
    "      WHEN gender = 'F' AND d.marital_status is null THEN 'Ms.'\n",
    "      ELSE null\n",
    "    END AS prefix_name,\n",
    "    CASE\n",
    "      WHEN d.first_name = d.middle_name AND h.relationship = 'child' THEN 'Jr.'\n",
    "      WHEN job_role LIKE '%Engineer%' THEN 'Er'\n",
    "      WHEN job_role LIKE '%Analyst%' THEN 'Analyst'\n",
    "      WHEN job_role LIKE '%Manager%' THEN 'Mgr'\n",
    "      WHEN job_role LIKE '%Administrator%' THEN 'Admin'\n",
    "      WHEN job_role LIKE '%Developer%' THEN 'Dev'\n",
    "      WHEN job_role LIKE '%Assistant%' THEN 'Asst'\n",
    "      WHEN job_role LIKE '%Technician%' THEN 'Tech'\n",
    "      WHEN job_role LIKE '%Account%' THEN 'Acct'\n",
    "      ELSE null END AS suffix_name,\n",
    "    (COALESCE(prefix_name,'') || COALESCE(d.first_name,'') ||' '|| COALESCE(d.middle_name,'') ||' '|| COALESCE(d.last_name,'')) AS name,\n",
    "    'Nova_health' AS record_source,\n",
    "    CURRENT_TIMESTAMP() AS record_created_ts,\n",
    "    True AS is_verified,\n",
    "    ARRAY_AGG(STRUCT(\n",
    "      a.address_type,\n",
    "      a.address_line_1,\n",
    "      a.address_line_2,\n",
    "      a.city,\n",
    "      a.state AS state_province,\n",
    "      (CASE WHEN LEN(zipcode)>5 THEN LEFT(zipcode,5)\n",
    "            WHEN LEN(zipcode)=5 THEN zipcode END) AS zip_code_extension,\n",
    "      (CASE WHEN LEN(zipcode)>5 THEN RIGHT(zipcode,4)\n",
    "            WHEN LEN(zipcode)=4 THEN zipcode END) AS postal_code,\n",
    "      'United States of America' AS country)) AS addresses,\n",
    "    ARRAY_AGG(DISTINCT STRUCT(c.usage_type AS phone_type , c.phone AS number)) AS phones,\n",
    "    CASE WHEN regexp_like(d.email,'.*@*\\.*') then d.email else 'Invalid mail' END AS email,\n",
    "    False AS privacy_preference,\n",
    "    ssn AS national_id,\n",
    "    d.gender,\n",
    "    d.marital_status,\n",
    "    d.date_of_birth,\n",
    "    YEAR(d.date_of_birth) AS year_of_birth,\n",
    "    CASE WHEN d.deceased_date IS NULL THEN false ELSE true END AS deceased_ind,\n",
    "    YEAR(TO_DATE(d.deceased_date,'M/d/yyyy')) - YEAR(d.date_of_birth) AS deceased_age,\n",
    "    TO_DATE(d.deceased_date,'M/d/yyyy') AS deceased_date,\n",
    "    CASE\n",
    "      WHEN spoken_language_1 IS NOT null AND spoken_language_2 IS NOT null THEN ARRAY(spoken_language_1,spoken_language_2)\n",
    "      WHEN spoken_language_1 IS null AND spoken_language_2 IS NOT null THEN ARRAY(spoken_language_2)\n",
    "      WHEN spoken_language_1 IS NOT null AND spoken_language_2 IS null THEN ARRAY(spoken_language_1)\n",
    "      WHEN spoken_language_1 == spoken_language_2 THEN ARRAY(spoken_language_1)\n",
    "      ELSE null\n",
    "    END AS languages,\n",
    "    ARRAY(STRUCT(\n",
    "      d.company AS employer_name,\n",
    "      d.job_role AS employee_role,\n",
    "      CASE WHEN d.deceased_date IS NOT null THEN 'Inactive' ELSE 'Active' END AS employment_status,\n",
    "      d.job_hiredate AS employee_hiredate)) AS Employment,\n",
    "    map('relationship', h.relationship,'religion', d.religion) AS additional_source_value \n",
    "  FROM\n",
    "    header_json h\n",
    "  LEFT JOIN\n",
    "    detail1_csv d ON h.id = d.id\n",
    "  LEFT JOIN\n",
    "    contactinfo_txt c ON h.id = c.id\n",
    "  LEFT JOIN\n",
    "    address_xlsx a ON h.id = a.id\n",
    "  GROUP BY\n",
    "    h.id,\n",
    "    h.insurer_id,\n",
    "    d.first_name,\n",
    "    d.middle_name,\n",
    "    d.last_name,\n",
    "    d.email,\n",
    "    d.gender,\n",
    "    d.marital_status,\n",
    "    d.date_of_birth,\n",
    "    d.deceased_date,\n",
    "    d.spoken_language_1,\n",
    "    d.spoken_language_2,\n",
    "    d.company,\n",
    "    d.ssn,\n",
    "    d.job_role,\n",
    "    d.job_hiredate,\n",
    "    h.relationship,\n",
    "    d.religion\n",
    ");"
   ]
  },
  {
   "cell_type": "code",
   "execution_count": 0,
   "metadata": {
    "application/vnd.databricks.v1+cell": {
     "cellMetadata": {
      "byteLimit": 2048000,
      "implicitDf": true,
      "rowLimit": 10000
     },
     "inputWidgets": {},
     "nuid": "7e106558-5855-45ed-b7b7-31fbaef80d85",
     "showTitle": false,
     "title": ""
    }
   },
   "outputs": [
    {
     "output_type": "display_data",
     "data": {
      "text/html": [
       "<style scoped>\n",
       "  .table-result-container {\n",
       "    max-height: 300px;\n",
       "    overflow: auto;\n",
       "  }\n",
       "  table, th, td {\n",
       "    border: 1px solid black;\n",
       "    border-collapse: collapse;\n",
       "  }\n",
       "  th, td {\n",
       "    padding: 5px;\n",
       "  }\n",
       "  th {\n",
       "    text-align: left;\n",
       "  }\n",
       "</style><div class='table-result-container'><table class='table-result'><thead style='background-color: white'><tr><th>source_id</th><th>subscriber_id</th><th>first_name</th><th>middle_name</th><th>last_name</th><th>prefix_name</th><th>suffix_name</th><th>name</th><th>record_source</th><th>record_created_ts</th><th>is_verified</th><th>addresses</th><th>phones</th><th>email</th><th>privacy_preference</th><th>national_id</th><th>gender</th><th>marital_status</th><th>date_of_birth</th><th>year_of_birth</th><th>deceased_ind</th><th>deceased_age</th><th>deceased_date</th><th>languages</th><th>Employment</th><th>additional_source_value</th></tr></thead><tbody><tr><td>70001</td><td>40184</td><td>Hettie</td><td>null</td><td>Keenlayside</td><td>Mrs.</td><td>null</td><td>Mrs.Hettie  Keenlayside</td><td>nova_health</td><td>2024-02-01T10:43:17.553+0000</td><td>false</td><td>List(List(Mail, 4307 Ashley Village Suite 758, null, New Kyle, North Dakota, 87337, null, United States of America), List(Residental, 046 Cox Lights, Suite 600, Griffinhaven, South Carolina, 71709, null, United States of America))</td><td>List(List(Work, (455) 3130004))</td><td>jkeenlayside0@disqus.com</td><td>false</td><td>168-92-1075</td><td>F</td><td>Widowed</td><td>1939-08-05</td><td>1939</td><td>false</td><td>null</td><td>null</td><td>List(West Frisian, Swahili)</td><td>List(List(Gabcube, Clinical Specialist, Active, 1964-01-29))</td><td>Map(relationship -> child, religion -> Buddhism)</td></tr><tr><td>70002</td><td>40092</td><td>Reade</td><td>null</td><td>Laverenz</td><td>Mr.</td><td>null</td><td>Mr.Reade  Laverenz</td><td>nova_health</td><td>2024-02-01T10:43:17.553+0000</td><td>false</td><td>List(List(Residental, 737 Banks Row, Apt. 505, North Heather, Arkansas, null, 2341, United States of America), List(Mail, 183 Dalton Viaduct, Suite 844, South Natalie, Oregon, 77714, null, United States of America))</td><td>List(List(Work, (994) 4561640))</td><td>dlaverenz1@senate.gov</td><td>false</td><td>782-24-9907</td><td>M</td><td>Widowed</td><td>1941-05-14</td><td>1941</td><td>false</td><td>null</td><td>null</td><td>List(Swati, Danish)</td><td>List(List(Skibox, Staff Scientist, Active, 1958-05-18))</td><td>Map(relationship -> friend, religion -> Christianity)</td></tr><tr><td>70003</td><td>40233</td><td>Minnnie</td><td>null</td><td>Baack</td><td>Mrs.</td><td>null</td><td>Mrs.Minnnie  Baack</td><td>nova_health</td><td>2024-02-01T10:43:17.553+0000</td><td>false</td><td>List(List(Mail, 807 Jesus Mills Suite 598, Suite 735, Churchbury, Texas, 97223, null, United States of America), List(Residental, 27634 Miller Prairie, null, West Ruth, North Dakota, 73151, null, United States of America))</td><td>List(List(Work, (771) 6498755))</td><td>dbaack2@sina.com.cn</td><td>false</td><td>726-01-1271</td><td>F</td><td>Married</td><td>1982-11-20</td><td>1982</td><td>false</td><td>null</td><td>null</td><td>List(Swati)</td><td>List(List(Dabjam, Paralegal, Active, 2011-06-10))</td><td>Map(relationship -> spouse, religion -> Buddhism)</td></tr><tr><td>70004</td><td>40058</td><td>Tana</td><td>Agata</td><td>Aiken</td><td>Ms.</td><td>null</td><td>Ms.Tana Agata Aiken</td><td>nova_health</td><td>2024-02-01T10:43:17.553+0000</td><td>false</td><td>List(List(Residental, 9831 Robert Falls, Apt. 086, Michelleland, Oregon, 05921, 5281, United States of America), List(Mail, 36717 Philip Common, Suite 278, Thomasborough, Idaho, 91582, 4725, United States of America))</td><td>List(List(Work, (450) 8886723))</td><td>aaiken3@nydailynews.com</td><td>false</td><td>492-62-0968</td><td>F</td><td>null</td><td>1929-02-18</td><td>1929</td><td>false</td><td>null</td><td>null</td><td>List(New Zealand Sign Language, Punjabi)</td><td>List(List(Aimbu, VP Marketing, Active, 2014-10-08))</td><td>Map(relationship -> spouse, religion -> null)</td></tr><tr><td>70005</td><td>40088</td><td>Cyndia</td><td>null</td><td>Tolomelli</td><td>Ms.</td><td>null</td><td>Ms.Cyndia  Tolomelli</td><td>nova_health</td><td>2024-02-01T10:43:17.553+0000</td><td>false</td><td>List(List(Mail, 95855 Davis Lodge, Suite 059, Kimberlymouth, Louisiana, 33733, null, United States of America), List(Residental, 0861 Caldwell Dam, Suite 783, North Robertborough, New Mexico, 31718, null, United States of America))</td><td>List(List(Work, (423) 1700133))</td><td>ltolomelli4@istockphoto.com</td><td>false</td><td>802-24-1062</td><td>F</td><td>null</td><td>1920-05-31</td><td>1920</td><td>false</td><td>null</td><td>null</td><td>List(Albanian)</td><td>List(List(Edgepulse, Senior Developer, Active, 1931-01-16))</td><td>Map(relationship -> friend, religion -> null)</td></tr><tr><td>70006</td><td>40170</td><td>Johnny</td><td>Renaud</td><td>Gibben</td><td>Mr.</td><td>null</td><td>Mr.Johnny Renaud Gibben</td><td>nova_health</td><td>2024-02-01T10:43:17.553+0000</td><td>false</td><td>List(List(Residental, 8737 Flores Extension Suite 549, null, Jasonbury, Idaho, 20277, null, United States of America), List(Mail, 1049 Riggs Stream Suite 632, Suite 465, New Christopher, Maine, 43342, null, United States of America))</td><td>List(List(Work, (334) 1254061))</td><td>rgibben5@tumblr.com</td><td>false</td><td>563-98-1576</td><td>M</td><td>Single</td><td>1958-07-01</td><td>1958</td><td>false</td><td>null</td><td>null</td><td>List(Georgian)</td><td>List(List(Oodoo, Human Resources Assistant I, Active, 2021-12-26))</td><td>Map(relationship -> child, religion -> Buddhism)</td></tr><tr><td>70007</td><td>40194</td><td>Judas</td><td>null</td><td>Mitford</td><td>Mr.</td><td>null</td><td>Mr.Judas  Mitford</td><td>nova_health</td><td>2024-02-01T10:43:17.553+0000</td><td>false</td><td>List(List(Residental, 7475 Michael Land, Suite 392, New Latoyamouth, Hawaii, 89157, null, United States of America), List(Mail, 16915 Michelle Fields Apt. 930, Suite 488, South Pamela, New Mexico, 44394, null, United States of America))</td><td>List(List(Work, (915) 7431041))</td><td>bmitford6@github.io</td><td>false</td><td>626-84-9457</td><td>M</td><td>Divorced</td><td>1993-07-30</td><td>1993</td><td>false</td><td>null</td><td>null</td><td>List(New Zealand Sign Language, Nepali)</td><td>List(List(Bluejam, Data Coordinator, Active, 2018-06-11))</td><td>Map(relationship -> parent, religion -> Hinduism)</td></tr><tr><td>70008</td><td>40079</td><td>Wilden</td><td>Tobin</td><td>Huertas</td><td>Mr.</td><td>null</td><td>Mr.Wilden Tobin Huertas</td><td>nova_health</td><td>2024-02-01T10:43:17.553+0000</td><td>false</td><td>List(List(Residental, 891 Frank Squares Suite 096, Apt. 809, Whitefort, Virginia, 17694, null, United States of America), List(Mail, 64558 Alexis Club, Apt. 683, Lake Lindaside, New Hampshire, null, 7936, United States of America))</td><td>List(List(Work, (816) 4980330))</td><td>thuertas7@yahoo.co.jp</td><td>false</td><td>667-45-8806</td><td>M</td><td>Widowed</td><td>1906-08-02</td><td>1906</td><td>false</td><td>null</td><td>null</td><td>List(Norwegian)</td><td>List(List(Roomm, Database Administrator I, Active, 1923-03-07))</td><td>Map(relationship -> spouse, religion -> Other)</td></tr><tr><td>70009</td><td>40466</td><td>Gaelan</td><td>null</td><td>Smitheman</td><td>Mr.</td><td>null</td><td>Mr.Gaelan  Smitheman</td><td>nova_health</td><td>2024-02-01T10:43:17.553+0000</td><td>false</td><td>List(List(Mail, 839 Garcia Highway, Apt. 915, Jermaineborough, North Dakota, 25837, null, United States of America), List(Residental, 7163 Thompson Park Suite 842, null, Kevinside, Nebraska, 74553, null, United States of America))</td><td>List(List(Work, (460) 8203658))</td><td>msmitheman8@ezinearticles.com</td><td>false</td><td>854-32-5148</td><td>M</td><td>Divorced</td><td>1926-03-04</td><td>1926</td><td>false</td><td>null</td><td>null</td><td>List(Japanese, Catalan)</td><td>List(List(Trupe, Analyst Programmer, Active, 1998-12-15))</td><td>Map(relationship -> sibling, religion -> Christianity)</td></tr><tr><td>70010</td><td>40061</td><td>Letti</td><td>null</td><td>Folkard</td><td>Ms.</td><td>null</td><td>Ms.Letti  Folkard</td><td>nova_health</td><td>2024-02-01T10:43:17.553+0000</td><td>false</td><td>List(List(Residental, 7357 Beck Garden Apt. 240, null, Hunterfort, Wyoming, 69080, null, United States of America), List(Mail, 388 Perry Mills, Suite 521, Monroechester, Minnesota, 13191, null, United States of America))</td><td>List(List(Work, (577) 3110757))</td><td>tfolkard9@biblegateway.com</td><td>false</td><td>867-58-4596</td><td>F</td><td>Divorced</td><td>1900-03-07</td><td>1900</td><td>false</td><td>null</td><td>null</td><td>List(Tajik, Tamil)</td><td>List(List(Yambee, Staff Scientist, Active, 2005-03-11))</td><td>Map(relationship -> child, religion -> Other)</td></tr><tr><td>70011</td><td>40413</td><td>Sutherlan</td><td>Terrye</td><td>Bowmaker</td><td>null</td><td>null</td><td>Sutherlan Terrye Bowmaker</td><td>nova_health</td><td>2024-02-01T10:43:17.553+0000</td><td>false</td><td>List(List(Mail, 973 Bowman Locks, Suite 383, West Williamfort, Idaho, 33792, null, United States of America), List(Residental, 52136 Ramirez Fall, null, North Andreside, Florida, 61063, null, United States of America))</td><td>List(List(Work, (530) 6708617))</td><td>tbowmakera@nhs.uk</td><td>false</td><td>262-34-2377</td><td>null</td><td>Married</td><td>1959-07-23</td><td>1959</td><td>false</td><td>null</td><td>null</td><td>List(Polish)</td><td>List(List(Youbridge, Staff Scientist, Active, 1999-03-20))</td><td>Map(relationship -> spouse, religion -> Hinduism)</td></tr><tr><td>70012</td><td>40237</td><td>Ilaire</td><td>Merrill  </td><td>Bryceson</td><td>Mr.</td><td>null</td><td>Mr.Ilaire Merrill   Bryceson</td><td>nova_health</td><td>2024-02-01T10:43:17.553+0000</td><td>false</td><td>List(List(Mail, 64628 Lauren Shores, Suite 184, Torresshire, Louisiana, 79151, null, United States of America), List(Residental, 00040 Kathleen Forge, null, Port Benjamin, California, 32137, null, United States of America))</td><td>List(List(Work, (843) 1974981))</td><td>mbrycesonb@yahoo.co.jp</td><td>false</td><td>431-67-0755</td><td>M</td><td>null</td><td>1931-07-09</td><td>1931</td><td>false</td><td>null</td><td>null</td><td>List(Bosnian, Burmese)</td><td>List(List(Bubblebox, Research Assistant IV, Active, 1976-04-13))</td><td>Map(relationship -> spouse, religion -> null)</td></tr><tr><td>70013</td><td>40273</td><td>Alejandro</td><td>Ferrell</td><td>Sture</td><td>Mr.</td><td>null</td><td>Mr.Alejandro Ferrell Sture</td><td>nova_health</td><td>2024-02-01T10:43:17.553+0000</td><td>false</td><td>List(List(Mail, 972 Rodriguez Stravenue Apt. 903, Suite 257, North Kevinton, Washington, 20634, null, United States of America), List(Residental, 31693 Wilson Mall, null, Abigailchester, Georgia, null, 8817, United States of America))</td><td>List(List(Work, (602) 3129571))</td><td>fsturec@bigcartel.com</td><td>false</td><td>541-26-5243</td><td>M</td><td>null</td><td>1927-01-05</td><td>1927</td><td>false</td><td>null</td><td>null</td><td>List(Macedonian, Moldovan)</td><td>List(List(Roodel, Mechanical Systems Engineer, Active, 1944-03-05))</td><td>Map(relationship -> friend, religion -> null)</td></tr><tr><td>70014</td><td>40484</td><td>Skippie    </td><td>Andrew</td><td>Lawles</td><td>Mr.</td><td>null</td><td>Mr.Skippie     Andrew Lawles</td><td>nova_health</td><td>2024-02-01T10:43:17.553+0000</td><td>false</td><td>List(List(Residental, 955 Richard Alley, null, Emilybury, Maine, 90348, null, United States of America), List(Mail, 7012 Natalie Brooks Suite 964, Suite 115, Juliestad, Hawaii, 42456, null, United States of America))</td><td>List(List(Work, (844) 3426438))</td><td>alawles dvistaprint.com</td><td>false</td><td>121-37-4739</td><td>M</td><td>Married</td><td>1997-03-08</td><td>1997</td><td>false</td><td>null</td><td>null</td><td>List(Belarusian)</td><td>List(List(Mynte, Programmer Analyst II, Active, 2001-08-18))</td><td>Map(relationship -> parent, religion -> Hinduism)</td></tr><tr><td>70015</td><td>40317</td><td>Theresita</td><td>null</td><td>Halwood</td><td>Ms.</td><td>null</td><td>Ms.Theresita  Halwood</td><td>nova_health</td><td>2024-02-01T10:43:17.553+0000</td><td>false</td><td>List(List(Residental, 8355 Davis Terrace, null, East Cynthiashire, Kentucky, 75548, null, United States of America), List(Mail, 20917 Angela Locks Suite 809, Suite 063, Nelsonland, South Carolina, 90690, null, United States of America))</td><td>List(List(null, null))</td><td>chalwoode@java.com</td><td>false</td><td>520-71-9824</td><td>F</td><td>null</td><td>1991-04-07</td><td>1991</td><td>false</td><td>null</td><td>null</td><td>List(Hiri Motu, Azeri)</td><td>List(List(Wordpedia, Community Outreach Specialist, Active, 2003-06-08))</td><td>Map(relationship -> friend, religion -> null)</td></tr><tr><td>70016</td><td>40371</td><td>Rodd</td><td>Janek</td><td>Pidgeley</td><td>Mr.</td><td>null</td><td>Mr.Rodd Janek Pidgeley</td><td>nova_health</td><td>2024-02-01T10:43:17.553+0000</td><td>false</td><td>List(List(Mail, 438 Fisher Mill, Apt. 197, Clarkmouth, Massachusetts, null, 1145, United States of America), List(Residental, 12817 Andrew Mall, null, Lake Michelle, Wyoming, null, 3689, United States of America))</td><td>List(List(Work, (402) 3025907))</td><td>jpidgeleyf@ovh.net</td><td>false</td><td>389-85-3714</td><td>M</td><td>Divorced</td><td>1969-03-09</td><td>1969</td><td>false</td><td>null</td><td>null</td><td>List(Kashmiri, Somali)</td><td>List(List(Skynoodle, Mechanical Systems Engineer, Active, 1987-05-01))</td><td>Map(relationship -> child, religion -> Buddhism)</td></tr><tr><td>70017</td><td>40384</td><td>Rosemaria</td><td>null</td><td>Hitcham</td><td>null</td><td>null</td><td>Rosemaria  Hitcham</td><td>nova_health</td><td>2024-02-01T10:43:17.553+0000</td><td>false</td><td>List(List(Residental, 972 Lee Canyon Suite 847, null, Lake Denisefurt, Mississippi, 33837, null, United States of America), List(Mail, 336 Duncan Pine Apt. 034, Suite 069, Hardystad, Georgia, 36840, null, United States of America))</td><td>List(List(Work, (304) 6146445))</td><td>ahitchamg@npr.org</td><td>false</td><td>881-24-5667</td><td>null</td><td>Married</td><td>1965-06-18</td><td>1965</td><td>false</td><td>null</td><td>null</td><td>List(Albanian)</td><td>List(List(Twimbo, Paralegal, Active, 1985-04-27))</td><td>Map(relationship -> child, religion -> Judaism)</td></tr><tr><td>70018</td><td>40273</td><td>Barry</td><td>Peder</td><td>Spriggin   </td><td>Mr.</td><td>null</td><td>Mr.Barry Peder Spriggin   </td><td>nova_health</td><td>2024-02-01T10:43:17.553+0000</td><td>false</td><td>List(List(Residental, 63547 Wilson Stravenue, null, Danielburgh, California, 18697, null, United States of America), List(Mail, 59400 Olivia Unions, Apt. 287, Lake Sarahside, Indiana, 27497, null, United States of America))</td><td>List(List(Work, (432) 9954065))</td><td>psprigginh@linkedin.com</td><td>false</td><td>571-13-9956</td><td>M</td><td>null</td><td>1937-10-22</td><td>1937</td><td>false</td><td>null</td><td>null</td><td>List(Yiddish, Kazakh)</td><td>List(List(Flipstorm, Senior Editor, Active, 1969-07-21))</td><td>Map(relationship -> parent, religion -> null)</td></tr><tr><td>70019</td><td>40217</td><td>Geri</td><td>null</td><td>Dunan</td><td>Mrs.</td><td>null</td><td>Mrs.Geri  Dunan</td><td>nova_health</td><td>2024-02-01T10:43:17.553+0000</td><td>false</td><td>List(List(Residental, 37756 Tyler Harbor, null, South Luisview, North Carolina, 94156, null, United States of America), List(Mail, 21913 Leon Path, Suite 796, South Brandon, Mississippi, 34618, null, United States of America))</td><td>List(List(Work, (283) 7665423))</td><td>fdunani@baidu.com</td><td>false</td><td>251-35-4834</td><td>F</td><td>Widowed</td><td>1989-11-19</td><td>1989</td><td>false</td><td>null</td><td>null</td><td>List(Bulgarian, Malagasy)</td><td>List(List(Rooxo, Office Assistant IV, Active, 2014-05-12))</td><td>Map(relationship -> child, religion -> Islam)</td></tr><tr><td>70020</td><td>40391</td><td>Ludovico</td><td>Dene</td><td>Rollinson</td><td>Mr.</td><td>null</td><td>Mr.Ludovico Dene Rollinson</td><td>nova_health</td><td>2024-02-01T10:43:17.553+0000</td><td>false</td><td>List(List(Mail, 56502 Mark Roads, Suite 072, Villegasville, Arkansas, 79554, null, United States of America), List(Residental, 029 Philip Dam, null, Rosestad, Florida, 65402, null, United States of America))</td><td>List(List(Work, (436) 3907382))</td><td>drollinsonj@paginegialle.it</td><td>false</td><td>797-23-8035</td><td>M</td><td>Single</td><td>1943-11-26</td><td>1943</td><td>false</td><td>null</td><td>null</td><td>List(Amharic, Malagasy)</td><td>List(List(Feedmix, Community Outreach Specialist, Active, 2017-11-14))</td><td>Map(relationship -> sibling, religion -> Hinduism)</td></tr></tbody></table></div>"
      ]
     },
     "metadata": {
      "application/vnd.databricks.v1+output": {
       "addedWidgets": {},
       "aggData": [],
       "aggError": "",
       "aggOverflow": false,
       "aggSchema": [],
       "aggSeriesLimitReached": false,
       "aggType": "",
       "arguments": {},
       "columnCustomDisplayInfos": {},
       "data": [
        [
         70001,
         40184,
         "Hettie",
         null,
         "Keenlayside",
         "Mrs.",
         null,
         "Mrs.Hettie  Keenlayside",
         "nova_health",
         "2024-02-01T10:43:17.553+0000",
         false,
         [
          [
           "Mail",
           "4307 Ashley Village Suite 758",
           null,
           "New Kyle",
           "North Dakota",
           "87337",
           null,
           "United States of America"
          ],
          [
           "Residental",
           "046 Cox Lights",
           "Suite 600",
           "Griffinhaven",
           "South Carolina",
           "71709",
           null,
           "United States of America"
          ]
         ],
         [
          [
           "Work",
           "(455) 3130004"
          ]
         ],
         "jkeenlayside0@disqus.com",
         false,
         "168-92-1075",
         "F",
         "Widowed",
         "1939-08-05",
         1939,
         false,
         null,
         null,
         [
          "West Frisian",
          "Swahili"
         ],
         [
          [
           "Gabcube",
           "Clinical Specialist",
           "Active",
           "1964-01-29"
          ]
         ],
         {
          "relationship": "child",
          "religion": "Buddhism"
         }
        ],
        [
         70002,
         40092,
         "Reade",
         null,
         "Laverenz",
         "Mr.",
         null,
         "Mr.Reade  Laverenz",
         "nova_health",
         "2024-02-01T10:43:17.553+0000",
         false,
         [
          [
           "Residental",
           "737 Banks Row",
           "Apt. 505",
           "North Heather",
           "Arkansas",
           null,
           "2341",
           "United States of America"
          ],
          [
           "Mail",
           "183 Dalton Viaduct",
           "Suite 844",
           "South Natalie",
           "Oregon",
           "77714",
           null,
           "United States of America"
          ]
         ],
         [
          [
           "Work",
           "(994) 4561640"
          ]
         ],
         "dlaverenz1@senate.gov",
         false,
         "782-24-9907",
         "M",
         "Widowed",
         "1941-05-14",
         1941,
         false,
         null,
         null,
         [
          "Swati",
          "Danish"
         ],
         [
          [
           "Skibox",
           "Staff Scientist",
           "Active",
           "1958-05-18"
          ]
         ],
         {
          "relationship": "friend",
          "religion": "Christianity"
         }
        ],
        [
         70003,
         40233,
         "Minnnie",
         null,
         "Baack",
         "Mrs.",
         null,
         "Mrs.Minnnie  Baack",
         "nova_health",
         "2024-02-01T10:43:17.553+0000",
         false,
         [
          [
           "Mail",
           "807 Jesus Mills Suite 598",
           "Suite 735",
           "Churchbury",
           "Texas",
           "97223",
           null,
           "United States of America"
          ],
          [
           "Residental",
           "27634 Miller Prairie",
           null,
           "West Ruth",
           "North Dakota",
           "73151",
           null,
           "United States of America"
          ]
         ],
         [
          [
           "Work",
           "(771) 6498755"
          ]
         ],
         "dbaack2@sina.com.cn",
         false,
         "726-01-1271",
         "F",
         "Married",
         "1982-11-20",
         1982,
         false,
         null,
         null,
         [
          "Swati"
         ],
         [
          [
           "Dabjam",
           "Paralegal",
           "Active",
           "2011-06-10"
          ]
         ],
         {
          "relationship": "spouse",
          "religion": "Buddhism"
         }
        ],
        [
         70004,
         40058,
         "Tana",
         "Agata",
         "Aiken",
         "Ms.",
         null,
         "Ms.Tana Agata Aiken",
         "nova_health",
         "2024-02-01T10:43:17.553+0000",
         false,
         [
          [
           "Residental",
           "9831 Robert Falls",
           "Apt. 086",
           "Michelleland",
           "Oregon",
           "05921",
           "5281",
           "United States of America"
          ],
          [
           "Mail",
           "36717 Philip Common",
           "Suite 278",
           "Thomasborough",
           "Idaho",
           "91582",
           "4725",
           "United States of America"
          ]
         ],
         [
          [
           "Work",
           "(450) 8886723"
          ]
         ],
         "aaiken3@nydailynews.com",
         false,
         "492-62-0968",
         "F",
         null,
         "1929-02-18",
         1929,
         false,
         null,
         null,
         [
          "New Zealand Sign Language",
          "Punjabi"
         ],
         [
          [
           "Aimbu",
           "VP Marketing",
           "Active",
           "2014-10-08"
          ]
         ],
         {
          "relationship": "spouse",
          "religion": null
         }
        ],
        [
         70005,
         40088,
         "Cyndia",
         null,
         "Tolomelli",
         "Ms.",
         null,
         "Ms.Cyndia  Tolomelli",
         "nova_health",
         "2024-02-01T10:43:17.553+0000",
         false,
         [
          [
           "Mail",
           "95855 Davis Lodge",
           "Suite 059",
           "Kimberlymouth",
           "Louisiana",
           "33733",
           null,
           "United States of America"
          ],
          [
           "Residental",
           "0861 Caldwell Dam",
           "Suite 783",
           "North Robertborough",
           "New Mexico",
           "31718",
           null,
           "United States of America"
          ]
         ],
         [
          [
           "Work",
           "(423) 1700133"
          ]
         ],
         "ltolomelli4@istockphoto.com",
         false,
         "802-24-1062",
         "F",
         null,
         "1920-05-31",
         1920,
         false,
         null,
         null,
         [
          "Albanian"
         ],
         [
          [
           "Edgepulse",
           "Senior Developer",
           "Active",
           "1931-01-16"
          ]
         ],
         {
          "relationship": "friend",
          "religion": null
         }
        ],
        [
         70006,
         40170,
         "Johnny",
         "Renaud",
         "Gibben",
         "Mr.",
         null,
         "Mr.Johnny Renaud Gibben",
         "nova_health",
         "2024-02-01T10:43:17.553+0000",
         false,
         [
          [
           "Residental",
           "8737 Flores Extension Suite 549",
           null,
           "Jasonbury",
           "Idaho",
           "20277",
           null,
           "United States of America"
          ],
          [
           "Mail",
           "1049 Riggs Stream Suite 632",
           "Suite 465",
           "New Christopher",
           "Maine",
           "43342",
           null,
           "United States of America"
          ]
         ],
         [
          [
           "Work",
           "(334) 1254061"
          ]
         ],
         "rgibben5@tumblr.com",
         false,
         "563-98-1576",
         "M",
         "Single",
         "1958-07-01",
         1958,
         false,
         null,
         null,
         [
          "Georgian"
         ],
         [
          [
           "Oodoo",
           "Human Resources Assistant I",
           "Active",
           "2021-12-26"
          ]
         ],
         {
          "relationship": "child",
          "religion": "Buddhism"
         }
        ],
        [
         70007,
         40194,
         "Judas",
         null,
         "Mitford",
         "Mr.",
         null,
         "Mr.Judas  Mitford",
         "nova_health",
         "2024-02-01T10:43:17.553+0000",
         false,
         [
          [
           "Residental",
           "7475 Michael Land",
           "Suite 392",
           "New Latoyamouth",
           "Hawaii",
           "89157",
           null,
           "United States of America"
          ],
          [
           "Mail",
           "16915 Michelle Fields Apt. 930",
           "Suite 488",
           "South Pamela",
           "New Mexico",
           "44394",
           null,
           "United States of America"
          ]
         ],
         [
          [
           "Work",
           "(915) 7431041"
          ]
         ],
         "bmitford6@github.io",
         false,
         "626-84-9457",
         "M",
         "Divorced",
         "1993-07-30",
         1993,
         false,
         null,
         null,
         [
          "New Zealand Sign Language",
          "Nepali"
         ],
         [
          [
           "Bluejam",
           "Data Coordinator",
           "Active",
           "2018-06-11"
          ]
         ],
         {
          "relationship": "parent",
          "religion": "Hinduism"
         }
        ],
        [
         70008,
         40079,
         "Wilden",
         "Tobin",
         "Huertas",
         "Mr.",
         null,
         "Mr.Wilden Tobin Huertas",
         "nova_health",
         "2024-02-01T10:43:17.553+0000",
         false,
         [
          [
           "Residental",
           "891 Frank Squares Suite 096",
           "Apt. 809",
           "Whitefort",
           "Virginia",
           "17694",
           null,
           "United States of America"
          ],
          [
           "Mail",
           "64558 Alexis Club",
           "Apt. 683",
           "Lake Lindaside",
           "New Hampshire",
           null,
           "7936",
           "United States of America"
          ]
         ],
         [
          [
           "Work",
           "(816) 4980330"
          ]
         ],
         "thuertas7@yahoo.co.jp",
         false,
         "667-45-8806",
         "M",
         "Widowed",
         "1906-08-02",
         1906,
         false,
         null,
         null,
         [
          "Norwegian"
         ],
         [
          [
           "Roomm",
           "Database Administrator I",
           "Active",
           "1923-03-07"
          ]
         ],
         {
          "relationship": "spouse",
          "religion": "Other"
         }
        ],
        [
         70009,
         40466,
         "Gaelan",
         null,
         "Smitheman",
         "Mr.",
         null,
         "Mr.Gaelan  Smitheman",
         "nova_health",
         "2024-02-01T10:43:17.553+0000",
         false,
         [
          [
           "Mail",
           "839 Garcia Highway",
           "Apt. 915",
           "Jermaineborough",
           "North Dakota",
           "25837",
           null,
           "United States of America"
          ],
          [
           "Residental",
           "7163 Thompson Park Suite 842",
           null,
           "Kevinside",
           "Nebraska",
           "74553",
           null,
           "United States of America"
          ]
         ],
         [
          [
           "Work",
           "(460) 8203658"
          ]
         ],
         "msmitheman8@ezinearticles.com",
         false,
         "854-32-5148",
         "M",
         "Divorced",
         "1926-03-04",
         1926,
         false,
         null,
         null,
         [
          "Japanese",
          "Catalan"
         ],
         [
          [
           "Trupe",
           "Analyst Programmer",
           "Active",
           "1998-12-15"
          ]
         ],
         {
          "relationship": "sibling",
          "religion": "Christianity"
         }
        ],
        [
         70010,
         40061,
         "Letti",
         null,
         "Folkard",
         "Ms.",
         null,
         "Ms.Letti  Folkard",
         "nova_health",
         "2024-02-01T10:43:17.553+0000",
         false,
         [
          [
           "Residental",
           "7357 Beck Garden Apt. 240",
           null,
           "Hunterfort",
           "Wyoming",
           "69080",
           null,
           "United States of America"
          ],
          [
           "Mail",
           "388 Perry Mills",
           "Suite 521",
           "Monroechester",
           "Minnesota",
           "13191",
           null,
           "United States of America"
          ]
         ],
         [
          [
           "Work",
           "(577) 3110757"
          ]
         ],
         "tfolkard9@biblegateway.com",
         false,
         "867-58-4596",
         "F",
         "Divorced",
         "1900-03-07",
         1900,
         false,
         null,
         null,
         [
          "Tajik",
          "Tamil"
         ],
         [
          [
           "Yambee",
           "Staff Scientist",
           "Active",
           "2005-03-11"
          ]
         ],
         {
          "relationship": "child",
          "religion": "Other"
         }
        ],
        [
         70011,
         40413,
         "Sutherlan",
         "Terrye",
         "Bowmaker",
         null,
         null,
         "Sutherlan Terrye Bowmaker",
         "nova_health",
         "2024-02-01T10:43:17.553+0000",
         false,
         [
          [
           "Mail",
           "973 Bowman Locks",
           "Suite 383",
           "West Williamfort",
           "Idaho",
           "33792",
           null,
           "United States of America"
          ],
          [
           "Residental",
           "52136 Ramirez Fall",
           null,
           "North Andreside",
           "Florida",
           "61063",
           null,
           "United States of America"
          ]
         ],
         [
          [
           "Work",
           "(530) 6708617"
          ]
         ],
         "tbowmakera@nhs.uk",
         false,
         "262-34-2377",
         null,
         "Married",
         "1959-07-23",
         1959,
         false,
         null,
         null,
         [
          "Polish"
         ],
         [
          [
           "Youbridge",
           "Staff Scientist",
           "Active",
           "1999-03-20"
          ]
         ],
         {
          "relationship": "spouse",
          "religion": "Hinduism"
         }
        ],
        [
         70012,
         40237,
         "Ilaire",
         "Merrill  ",
         "Bryceson",
         "Mr.",
         null,
         "Mr.Ilaire Merrill   Bryceson",
         "nova_health",
         "2024-02-01T10:43:17.553+0000",
         false,
         [
          [
           "Mail",
           "64628 Lauren Shores",
           "Suite 184",
           "Torresshire",
           "Louisiana",
           "79151",
           null,
           "United States of America"
          ],
          [
           "Residental",
           "00040 Kathleen Forge",
           null,
           "Port Benjamin",
           "California",
           "32137",
           null,
           "United States of America"
          ]
         ],
         [
          [
           "Work",
           "(843) 1974981"
          ]
         ],
         "mbrycesonb@yahoo.co.jp",
         false,
         "431-67-0755",
         "M",
         null,
         "1931-07-09",
         1931,
         false,
         null,
         null,
         [
          "Bosnian",
          "Burmese"
         ],
         [
          [
           "Bubblebox",
           "Research Assistant IV",
           "Active",
           "1976-04-13"
          ]
         ],
         {
          "relationship": "spouse",
          "religion": null
         }
        ],
        [
         70013,
         40273,
         "Alejandro",
         "Ferrell",
         "Sture",
         "Mr.",
         null,
         "Mr.Alejandro Ferrell Sture",
         "nova_health",
         "2024-02-01T10:43:17.553+0000",
         false,
         [
          [
           "Mail",
           "972 Rodriguez Stravenue Apt. 903",
           "Suite 257",
           "North Kevinton",
           "Washington",
           "20634",
           null,
           "United States of America"
          ],
          [
           "Residental",
           "31693 Wilson Mall",
           null,
           "Abigailchester",
           "Georgia",
           null,
           "8817",
           "United States of America"
          ]
         ],
         [
          [
           "Work",
           "(602) 3129571"
          ]
         ],
         "fsturec@bigcartel.com",
         false,
         "541-26-5243",
         "M",
         null,
         "1927-01-05",
         1927,
         false,
         null,
         null,
         [
          "Macedonian",
          "Moldovan"
         ],
         [
          [
           "Roodel",
           "Mechanical Systems Engineer",
           "Active",
           "1944-03-05"
          ]
         ],
         {
          "relationship": "friend",
          "religion": null
         }
        ],
        [
         70014,
         40484,
         "Skippie    ",
         "Andrew",
         "Lawles",
         "Mr.",
         null,
         "Mr.Skippie     Andrew Lawles",
         "nova_health",
         "2024-02-01T10:43:17.553+0000",
         false,
         [
          [
           "Residental",
           "955 Richard Alley",
           null,
           "Emilybury",
           "Maine",
           "90348",
           null,
           "United States of America"
          ],
          [
           "Mail",
           "7012 Natalie Brooks Suite 964",
           "Suite 115",
           "Juliestad",
           "Hawaii",
           "42456",
           null,
           "United States of America"
          ]
         ],
         [
          [
           "Work",
           "(844) 3426438"
          ]
         ],
         "alawles dvistaprint.com",
         false,
         "121-37-4739",
         "M",
         "Married",
         "1997-03-08",
         1997,
         false,
         null,
         null,
         [
          "Belarusian"
         ],
         [
          [
           "Mynte",
           "Programmer Analyst II",
           "Active",
           "2001-08-18"
          ]
         ],
         {
          "relationship": "parent",
          "religion": "Hinduism"
         }
        ],
        [
         70015,
         40317,
         "Theresita",
         null,
         "Halwood",
         "Ms.",
         null,
         "Ms.Theresita  Halwood",
         "nova_health",
         "2024-02-01T10:43:17.553+0000",
         false,
         [
          [
           "Residental",
           "8355 Davis Terrace",
           null,
           "East Cynthiashire",
           "Kentucky",
           "75548",
           null,
           "United States of America"
          ],
          [
           "Mail",
           "20917 Angela Locks Suite 809",
           "Suite 063",
           "Nelsonland",
           "South Carolina",
           "90690",
           null,
           "United States of America"
          ]
         ],
         [
          [
           null,
           null
          ]
         ],
         "chalwoode@java.com",
         false,
         "520-71-9824",
         "F",
         null,
         "1991-04-07",
         1991,
         false,
         null,
         null,
         [
          "Hiri Motu",
          "Azeri"
         ],
         [
          [
           "Wordpedia",
           "Community Outreach Specialist",
           "Active",
           "2003-06-08"
          ]
         ],
         {
          "relationship": "friend",
          "religion": null
         }
        ],
        [
         70016,
         40371,
         "Rodd",
         "Janek",
         "Pidgeley",
         "Mr.",
         null,
         "Mr.Rodd Janek Pidgeley",
         "nova_health",
         "2024-02-01T10:43:17.553+0000",
         false,
         [
          [
           "Mail",
           "438 Fisher Mill",
           "Apt. 197",
           "Clarkmouth",
           "Massachusetts",
           null,
           "1145",
           "United States of America"
          ],
          [
           "Residental",
           "12817 Andrew Mall",
           null,
           "Lake Michelle",
           "Wyoming",
           null,
           "3689",
           "United States of America"
          ]
         ],
         [
          [
           "Work",
           "(402) 3025907"
          ]
         ],
         "jpidgeleyf@ovh.net",
         false,
         "389-85-3714",
         "M",
         "Divorced",
         "1969-03-09",
         1969,
         false,
         null,
         null,
         [
          "Kashmiri",
          "Somali"
         ],
         [
          [
           "Skynoodle",
           "Mechanical Systems Engineer",
           "Active",
           "1987-05-01"
          ]
         ],
         {
          "relationship": "child",
          "religion": "Buddhism"
         }
        ],
        [
         70017,
         40384,
         "Rosemaria",
         null,
         "Hitcham",
         null,
         null,
         "Rosemaria  Hitcham",
         "nova_health",
         "2024-02-01T10:43:17.553+0000",
         false,
         [
          [
           "Residental",
           "972 Lee Canyon Suite 847",
           null,
           "Lake Denisefurt",
           "Mississippi",
           "33837",
           null,
           "United States of America"
          ],
          [
           "Mail",
           "336 Duncan Pine Apt. 034",
           "Suite 069",
           "Hardystad",
           "Georgia",
           "36840",
           null,
           "United States of America"
          ]
         ],
         [
          [
           "Work",
           "(304) 6146445"
          ]
         ],
         "ahitchamg@npr.org",
         false,
         "881-24-5667",
         null,
         "Married",
         "1965-06-18",
         1965,
         false,
         null,
         null,
         [
          "Albanian"
         ],
         [
          [
           "Twimbo",
           "Paralegal",
           "Active",
           "1985-04-27"
          ]
         ],
         {
          "relationship": "child",
          "religion": "Judaism"
         }
        ],
        [
         70018,
         40273,
         "Barry",
         "Peder",
         "Spriggin   ",
         "Mr.",
         null,
         "Mr.Barry Peder Spriggin   ",
         "nova_health",
         "2024-02-01T10:43:17.553+0000",
         false,
         [
          [
           "Residental",
           "63547 Wilson Stravenue",
           null,
           "Danielburgh",
           "California",
           "18697",
           null,
           "United States of America"
          ],
          [
           "Mail",
           "59400 Olivia Unions",
           "Apt. 287",
           "Lake Sarahside",
           "Indiana",
           "27497",
           null,
           "United States of America"
          ]
         ],
         [
          [
           "Work",
           "(432) 9954065"
          ]
         ],
         "psprigginh@linkedin.com",
         false,
         "571-13-9956",
         "M",
         null,
         "1937-10-22",
         1937,
         false,
         null,
         null,
         [
          "Yiddish",
          "Kazakh"
         ],
         [
          [
           "Flipstorm",
           "Senior Editor",
           "Active",
           "1969-07-21"
          ]
         ],
         {
          "relationship": "parent",
          "religion": null
         }
        ],
        [
         70019,
         40217,
         "Geri",
         null,
         "Dunan",
         "Mrs.",
         null,
         "Mrs.Geri  Dunan",
         "nova_health",
         "2024-02-01T10:43:17.553+0000",
         false,
         [
          [
           "Residental",
           "37756 Tyler Harbor",
           null,
           "South Luisview",
           "North Carolina",
           "94156",
           null,
           "United States of America"
          ],
          [
           "Mail",
           "21913 Leon Path",
           "Suite 796",
           "South Brandon",
           "Mississippi",
           "34618",
           null,
           "United States of America"
          ]
         ],
         [
          [
           "Work",
           "(283) 7665423"
          ]
         ],
         "fdunani@baidu.com",
         false,
         "251-35-4834",
         "F",
         "Widowed",
         "1989-11-19",
         1989,
         false,
         null,
         null,
         [
          "Bulgarian",
          "Malagasy"
         ],
         [
          [
           "Rooxo",
           "Office Assistant IV",
           "Active",
           "2014-05-12"
          ]
         ],
         {
          "relationship": "child",
          "religion": "Islam"
         }
        ],
        [
         70020,
         40391,
         "Ludovico",
         "Dene",
         "Rollinson",
         "Mr.",
         null,
         "Mr.Ludovico Dene Rollinson",
         "nova_health",
         "2024-02-01T10:43:17.553+0000",
         false,
         [
          [
           "Mail",
           "56502 Mark Roads",
           "Suite 072",
           "Villegasville",
           "Arkansas",
           "79554",
           null,
           "United States of America"
          ],
          [
           "Residental",
           "029 Philip Dam",
           null,
           "Rosestad",
           "Florida",
           "65402",
           null,
           "United States of America"
          ]
         ],
         [
          [
           "Work",
           "(436) 3907382"
          ]
         ],
         "drollinsonj@paginegialle.it",
         false,
         "797-23-8035",
         "M",
         "Single",
         "1943-11-26",
         1943,
         false,
         null,
         null,
         [
          "Amharic",
          "Malagasy"
         ],
         [
          [
           "Feedmix",
           "Community Outreach Specialist",
           "Active",
           "2017-11-14"
          ]
         ],
         {
          "relationship": "sibling",
          "religion": "Hinduism"
         }
        ]
       ],
       "datasetInfos": [],
       "dbfsResultPath": null,
       "isJsonSchema": true,
       "metadata": {},
       "overflow": false,
       "plotOptions": {
        "customPlotOptions": {},
        "displayType": "table",
        "pivotAggregation": null,
        "pivotColumns": null,
        "xColumns": null,
        "yColumns": null
       },
       "removedWidgets": [],
       "schema": [
        {
         "metadata": "{}",
         "name": "source_id",
         "type": "\"long\""
        },
        {
         "metadata": "{}",
         "name": "subscriber_id",
         "type": "\"long\""
        },
        {
         "metadata": "{}",
         "name": "first_name",
         "type": "\"string\""
        },
        {
         "metadata": "{}",
         "name": "middle_name",
         "type": "\"string\""
        },
        {
         "metadata": "{}",
         "name": "last_name",
         "type": "\"string\""
        },
        {
         "metadata": "{}",
         "name": "prefix_name",
         "type": "\"string\""
        },
        {
         "metadata": "{}",
         "name": "suffix_name",
         "type": "\"string\""
        },
        {
         "metadata": "{}",
         "name": "name",
         "type": "\"string\""
        },
        {
         "metadata": "{}",
         "name": "record_source",
         "type": "\"string\""
        },
        {
         "metadata": "{}",
         "name": "record_created_ts",
         "type": "\"timestamp\""
        },
        {
         "metadata": "{}",
         "name": "is_verified",
         "type": "\"boolean\""
        },
        {
         "metadata": "{}",
         "name": "addresses",
         "type": "{\"type\":\"array\",\"elementType\":{\"type\":\"struct\",\"fields\":[{\"name\":\"address_type\",\"type\":\"string\",\"nullable\":true,\"metadata\":{}},{\"name\":\"address_line_1\",\"type\":\"string\",\"nullable\":true,\"metadata\":{}},{\"name\":\"address_line_2\",\"type\":\"string\",\"nullable\":true,\"metadata\":{}},{\"name\":\"city\",\"type\":\"string\",\"nullable\":true,\"metadata\":{}},{\"name\":\"state_province\",\"type\":\"string\",\"nullable\":true,\"metadata\":{}},{\"name\":\"zip_code_extension\",\"type\":\"string\",\"nullable\":true,\"metadata\":{}},{\"name\":\"postal_code\",\"type\":\"string\",\"nullable\":true,\"metadata\":{}},{\"name\":\"country\",\"type\":\"string\",\"nullable\":true,\"metadata\":{}}]},\"containsNull\":true}"
        },
        {
         "metadata": "{}",
         "name": "phones",
         "type": "{\"type\":\"array\",\"elementType\":{\"type\":\"struct\",\"fields\":[{\"name\":\"phone_type\",\"type\":\"string\",\"nullable\":true,\"metadata\":{}},{\"name\":\"number\",\"type\":\"string\",\"nullable\":true,\"metadata\":{}}]},\"containsNull\":true}"
        },
        {
         "metadata": "{}",
         "name": "email",
         "type": "\"string\""
        },
        {
         "metadata": "{}",
         "name": "privacy_preference",
         "type": "\"boolean\""
        },
        {
         "metadata": "{}",
         "name": "national_id",
         "type": "\"string\""
        },
        {
         "metadata": "{}",
         "name": "gender",
         "type": "\"string\""
        },
        {
         "metadata": "{}",
         "name": "marital_status",
         "type": "\"string\""
        },
        {
         "metadata": "{\"__detected_date_formats\":\"M/d/yyyy\"}",
         "name": "date_of_birth",
         "type": "\"date\""
        },
        {
         "metadata": "{}",
         "name": "year_of_birth",
         "type": "\"integer\""
        },
        {
         "metadata": "{}",
         "name": "deceased_ind",
         "type": "\"boolean\""
        },
        {
         "metadata": "{}",
         "name": "deceased_age",
         "type": "\"integer\""
        },
        {
         "metadata": "{}",
         "name": "deceased_date",
         "type": "\"date\""
        },
        {
         "metadata": "{}",
         "name": "languages",
         "type": "{\"type\":\"array\",\"elementType\":\"string\",\"containsNull\":true}"
        },
        {
         "metadata": "{}",
         "name": "Employment",
         "type": "{\"type\":\"array\",\"elementType\":{\"type\":\"struct\",\"fields\":[{\"name\":\"employer_name\",\"type\":\"string\",\"nullable\":true,\"metadata\":{}},{\"name\":\"employee_role\",\"type\":\"string\",\"nullable\":true,\"metadata\":{}},{\"name\":\"employment_status\",\"type\":\"string\",\"nullable\":true,\"metadata\":{}},{\"name\":\"employee_hiredate\",\"type\":\"date\",\"nullable\":true,\"metadata\":{\"__detected_date_formats\":\"M/d/yyyy\"}}]},\"containsNull\":true}"
        },
        {
         "metadata": "{}",
         "name": "additional_source_value",
         "type": "{\"type\":\"map\",\"keyType\":\"string\",\"valueType\":\"string\",\"valueContainsNull\":true}"
        }
       ],
       "type": "table"
      }
     },
     "output_type": "display_data"
    }
   ],
   "source": [
    "%sql\n",
    "SELECT * FROM nova_project_table LIMIT 20"
   ]
  },
  {
   "cell_type": "code",
   "execution_count": 0,
   "metadata": {
    "application/vnd.databricks.v1+cell": {
     "cellMetadata": {},
     "inputWidgets": {},
     "nuid": "efe6a4f6-c9da-461f-83f4-940133bc2aa3",
     "showTitle": false,
     "title": ""
    }
   },
   "outputs": [],
   "source": []
  }
 ],
 "metadata": {
  "application/vnd.databricks.v1+notebook": {
   "dashboards": [],
   "language": "python",
   "notebookMetadata": {
    "mostRecentlyExecutedCommandWithImplicitDF": {
     "commandId": 1092651067125244,
     "dataframes": [
      "_sqldf"
     ]
    },
    "pythonIndentUnit": 4
   },
   "notebookName": "nova_health_project_final",
   "widgets": {}
  }
 },
 "nbformat": 4,
 "nbformat_minor": 0
}
