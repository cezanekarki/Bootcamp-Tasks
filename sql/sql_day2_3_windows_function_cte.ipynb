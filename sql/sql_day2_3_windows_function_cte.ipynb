{
 "cells": [
  {
   "cell_type": "code",
   "execution_count": 0,
   "metadata": {
    "application/vnd.databricks.v1+cell": {
     "cellMetadata": {
      "byteLimit": 2048000,
      "rowLimit": 10000
     },
     "inputWidgets": {},
     "nuid": "98f1a62e-5a16-4756-897e-1c979c76bc55",
     "showTitle": false,
     "title": ""
    }
   },
   "outputs": [
    {
     "output_type": "stream",
     "name": "stdout",
     "output_type": "stream",
     "text": [
      "Out[1]: True"
     ]
    }
   ],
   "source": [
    "%python\n",
    "dbutils.fs.rm(\"dbfs:/user/hive/warehouse/training_data\", True)\n",
    "dbutils.fs.rm(\"dbfs:/user/hive/warehouse/employee_data\", True)\n",
    "# (%fs) rm -r dbfs:/user/hive/warehouse/training_data"
   ]
  },
  {
   "cell_type": "code",
   "execution_count": 0,
   "metadata": {
    "application/vnd.databricks.v1+cell": {
     "cellMetadata": {
      "byteLimit": 2048000,
      "rowLimit": 10000
     },
     "inputWidgets": {},
     "nuid": "32a17d1c-a9b3-45e7-ab8e-356b69b4034f",
     "showTitle": false,
     "title": ""
    }
   },
   "outputs": [
    {
     "output_type": "display_data",
     "data": {
      "text/html": [
       "<style scoped>\n",
       "  .table-result-container {\n",
       "    max-height: 300px;\n",
       "    overflow: auto;\n",
       "  }\n",
       "  table, th, td {\n",
       "    border: 1px solid black;\n",
       "    border-collapse: collapse;\n",
       "  }\n",
       "  th, td {\n",
       "    padding: 5px;\n",
       "  }\n",
       "  th {\n",
       "    text-align: left;\n",
       "  }\n",
       "</style><div class='table-result-container'><table class='table-result'><thead style='background-color: white'><tr></tr></thead><tbody></tbody></table></div>"
      ]
     },
     "metadata": {
      "application/vnd.databricks.v1+output": {
       "addedWidgets": {},
       "aggData": [],
       "aggError": "",
       "aggOverflow": false,
       "aggSchema": [],
       "aggSeriesLimitReached": false,
       "aggType": "",
       "arguments": {},
       "columnCustomDisplayInfos": {},
       "data": [],
       "datasetInfos": [],
       "dbfsResultPath": null,
       "isJsonSchema": true,
       "metadata": {
        "isDbfsCommandResult": false
       },
       "overflow": false,
       "plotOptions": {
        "customPlotOptions": {},
        "displayType": "table",
        "pivotAggregation": null,
        "pivotColumns": null,
        "xColumns": null,
        "yColumns": null
       },
       "removedWidgets": [],
       "schema": [],
       "type": "table"
      }
     },
     "output_type": "display_data"
    }
   ],
   "source": [
    "%sql\n",
    "CREATE TABLE training_data (\n",
    "    participant_id INT ,\n",
    "    participant_name VARCHAR(50),\n",
    "    training_session_date DATE,\n",
    "    training_session_duration_hours DECIMAL(5, 2),\n",
    "    trainer_name VARCHAR(50),\n",
    "    training_location VARCHAR(100),\n",
    "    training_subject VARCHAR(100)\n",
    ");"
   ]
  },
  {
   "cell_type": "code",
   "execution_count": 0,
   "metadata": {
    "application/vnd.databricks.v1+cell": {
     "cellMetadata": {
      "byteLimit": 2048000,
      "rowLimit": 10000
     },
     "inputWidgets": {},
     "nuid": "26fe7f7b-7bb5-4fc7-b1c1-140b0480dd2b",
     "showTitle": false,
     "title": ""
    }
   },
   "outputs": [
    {
     "output_type": "display_data",
     "data": {
      "text/html": [
       "<style scoped>\n",
       "  .ansiout {\n",
       "    display: block;\n",
       "    unicode-bidi: embed;\n",
       "    white-space: pre-wrap;\n",
       "    word-wrap: break-word;\n",
       "    word-break: break-all;\n",
       "    font-family: \"Menlo\", \"Monaco\", \"Consolas\", \"Ubuntu Mono\", \"Source Code Pro\", monospace;\n",
       "    font-size: 13px;\n",
       "    color: #555;\n",
       "    margin-left: 4px;\n",
       "    line-height: 19px;\n",
       "  }\n",
       "</style>"
      ]
     },
     "metadata": {
      "application/vnd.databricks.v1+output": {
       "arguments": {},
       "data": "",
       "errorSummary": "Cancelled",
       "errorTraceType": "html",
       "metadata": {},
       "type": "ipynbError"
      }
     },
     "output_type": "display_data"
    }
   ],
   "source": [
    "%sql\n",
    "INSERT INTO training_data (participant_id, participant_name, training_session_date, training_session_duration_hours, trainer_name, training_location, training_subject)\n",
    "VALUES\n",
    "    (1, 'Alice Johnson', '2024-02-05', 2.5, 'Trainer C', 'Room 101', 'Introduction to Programming'),\n",
    "    (2, 'Bob Williams', '2024-02-06', 3.0, 'Trainer A', 'Conference Room B', 'Web Development Basics'),\n",
    "    (3, 'Charlie Davis', '2024-02-07', 2.0, 'Trainer B', 'Training Room A', 'Project Management Fundamentals'),\n",
    "    (4, 'David Smith', '2024-02-08', 1.5, 'Trainer C', 'Room 102', 'Digital Marketing Essentials'),\n",
    "    (5, 'Eva Brown', '2024-02-09', 2.0, 'Trainer A', 'Conference Room A', 'Data Visualization Techniques'),\n",
    "    (6, 'Frank Johnson', '2024-02-10', 3.5, 'Trainer B', 'Training Room B', 'Effective Leadership Skills'),\n",
    "    (7, 'Grace Miller', '2024-02-11', 2.0, 'Trainer C', 'Room 103', 'Introduction to Machine Learning'),\n",
    "    (8, 'Henry Davis', '2024-02-12', 2.5, 'Trainer A', 'Conference Room B', 'Cybersecurity Basics'),\n",
    "    (9, 'Ivy Wilson', '2024-02-13', 1.5, 'Trainer B', 'Training Room A', 'Public Speaking Techniques'),\n",
    "    (10, 'Jack White', '2024-02-14', 2.0, 'Trainer C', 'Room 104', 'Agile Project Management'),\n",
    "    (11, 'Kelly Johnson', '2024-02-15', 3.0, 'Trainer A', 'Conference Room A', 'Social Media Marketing Strategies'),\n",
    "    (12, 'Leo Brown', '2024-02-16', 2.5, 'Trainer B', 'Training Room B', 'Python Programming Basics'),\n",
    "    (13, 'Mia Davis', '2024-02-17', 1.0, 'Trainer C', 'Room 105', 'Effective Time Management'),\n",
    "    (14, 'Nathan Wilson', '2024-02-18', 2.0, 'Trainer A', 'Conference Room B', 'Customer Service Excellence'),\n",
    "    (15, 'Olivia Miller', '2024-02-19', 2.5, 'Trainer B', 'Training Room A', 'Financial Literacy')\n",
    "    ;"
   ]
  },
  {
   "cell_type": "code",
   "execution_count": 0,
   "metadata": {
    "application/vnd.databricks.v1+cell": {
     "cellMetadata": {
      "byteLimit": 2048000,
      "rowLimit": 10000
     },
     "inputWidgets": {},
     "nuid": "20d4473b-7138-4a3c-8775-1cecec1dac33",
     "showTitle": false,
     "title": ""
    }
   },
   "outputs": [
    {
     "output_type": "display_data",
     "data": {
      "text/html": [
       "<style scoped>\n",
       "  .table-result-container {\n",
       "    max-height: 300px;\n",
       "    overflow: auto;\n",
       "  }\n",
       "  table, th, td {\n",
       "    border: 1px solid black;\n",
       "    border-collapse: collapse;\n",
       "  }\n",
       "  th, td {\n",
       "    padding: 5px;\n",
       "  }\n",
       "  th {\n",
       "    text-align: left;\n",
       "  }\n",
       "</style><div class='table-result-container'><table class='table-result'><thead style='background-color: white'><tr><th>participant_id</th><th>participant_name</th><th>training_session_date</th><th>training_session_duration_hours</th><th>trainer_name</th><th>training_location</th><th>training_subject</th></tr></thead><tbody><tr><td>1</td><td>Alice Johnson</td><td>2024-02-05</td><td>2.50</td><td>Trainer C</td><td>Room 101</td><td>Introduction to Programming</td></tr><tr><td>2</td><td>Bob Williams</td><td>2024-02-06</td><td>3.00</td><td>Trainer A</td><td>Conference Room B</td><td>Web Development Basics</td></tr><tr><td>3</td><td>Charlie Davis</td><td>2024-02-07</td><td>2.00</td><td>Trainer B</td><td>Training Room A</td><td>Project Management Fundamentals</td></tr><tr><td>4</td><td>David Smith</td><td>2024-02-08</td><td>1.50</td><td>Trainer C</td><td>Room 102</td><td>Digital Marketing Essentials</td></tr><tr><td>5</td><td>Eva Brown</td><td>2024-02-09</td><td>2.00</td><td>Trainer A</td><td>Conference Room A</td><td>Data Visualization Techniques</td></tr><tr><td>6</td><td>Frank Johnson</td><td>2024-02-10</td><td>3.50</td><td>Trainer B</td><td>Training Room B</td><td>Effective Leadership Skills</td></tr><tr><td>7</td><td>Grace Miller</td><td>2024-02-11</td><td>2.00</td><td>Trainer C</td><td>Room 103</td><td>Introduction to Machine Learning</td></tr><tr><td>8</td><td>Henry Davis</td><td>2024-02-12</td><td>2.50</td><td>Trainer A</td><td>Conference Room B</td><td>Cybersecurity Basics</td></tr><tr><td>9</td><td>Ivy Wilson</td><td>2024-02-13</td><td>1.50</td><td>Trainer B</td><td>Training Room A</td><td>Public Speaking Techniques</td></tr><tr><td>10</td><td>Jack White</td><td>2024-02-14</td><td>2.00</td><td>Trainer C</td><td>Room 104</td><td>Agile Project Management</td></tr><tr><td>11</td><td>Kelly Johnson</td><td>2024-02-15</td><td>3.00</td><td>Trainer A</td><td>Conference Room A</td><td>Social Media Marketing Strategies</td></tr><tr><td>12</td><td>Leo Brown</td><td>2024-02-16</td><td>2.50</td><td>Trainer B</td><td>Training Room B</td><td>Python Programming Basics</td></tr><tr><td>13</td><td>Mia Davis</td><td>2024-02-17</td><td>1.00</td><td>Trainer C</td><td>Room 105</td><td>Effective Time Management</td></tr><tr><td>14</td><td>Nathan Wilson</td><td>2024-02-18</td><td>2.00</td><td>Trainer A</td><td>Conference Room B</td><td>Customer Service Excellence</td></tr><tr><td>15</td><td>Olivia Miller</td><td>2024-02-19</td><td>2.50</td><td>Trainer B</td><td>Training Room A</td><td>Financial Literacy</td></tr></tbody></table></div>"
      ]
     },
     "metadata": {
      "application/vnd.databricks.v1+output": {
       "addedWidgets": {},
       "aggData": [],
       "aggError": "",
       "aggOverflow": false,
       "aggSchema": [],
       "aggSeriesLimitReached": false,
       "aggType": "",
       "arguments": {},
       "columnCustomDisplayInfos": {},
       "data": [
        [
         1,
         "Alice Johnson",
         "2024-02-05",
         "2.50",
         "Trainer C",
         "Room 101",
         "Introduction to Programming"
        ],
        [
         2,
         "Bob Williams",
         "2024-02-06",
         "3.00",
         "Trainer A",
         "Conference Room B",
         "Web Development Basics"
        ],
        [
         3,
         "Charlie Davis",
         "2024-02-07",
         "2.00",
         "Trainer B",
         "Training Room A",
         "Project Management Fundamentals"
        ],
        [
         4,
         "David Smith",
         "2024-02-08",
         "1.50",
         "Trainer C",
         "Room 102",
         "Digital Marketing Essentials"
        ],
        [
         5,
         "Eva Brown",
         "2024-02-09",
         "2.00",
         "Trainer A",
         "Conference Room A",
         "Data Visualization Techniques"
        ],
        [
         6,
         "Frank Johnson",
         "2024-02-10",
         "3.50",
         "Trainer B",
         "Training Room B",
         "Effective Leadership Skills"
        ],
        [
         7,
         "Grace Miller",
         "2024-02-11",
         "2.00",
         "Trainer C",
         "Room 103",
         "Introduction to Machine Learning"
        ],
        [
         8,
         "Henry Davis",
         "2024-02-12",
         "2.50",
         "Trainer A",
         "Conference Room B",
         "Cybersecurity Basics"
        ],
        [
         9,
         "Ivy Wilson",
         "2024-02-13",
         "1.50",
         "Trainer B",
         "Training Room A",
         "Public Speaking Techniques"
        ],
        [
         10,
         "Jack White",
         "2024-02-14",
         "2.00",
         "Trainer C",
         "Room 104",
         "Agile Project Management"
        ],
        [
         11,
         "Kelly Johnson",
         "2024-02-15",
         "3.00",
         "Trainer A",
         "Conference Room A",
         "Social Media Marketing Strategies"
        ],
        [
         12,
         "Leo Brown",
         "2024-02-16",
         "2.50",
         "Trainer B",
         "Training Room B",
         "Python Programming Basics"
        ],
        [
         13,
         "Mia Davis",
         "2024-02-17",
         "1.00",
         "Trainer C",
         "Room 105",
         "Effective Time Management"
        ],
        [
         14,
         "Nathan Wilson",
         "2024-02-18",
         "2.00",
         "Trainer A",
         "Conference Room B",
         "Customer Service Excellence"
        ],
        [
         15,
         "Olivia Miller",
         "2024-02-19",
         "2.50",
         "Trainer B",
         "Training Room A",
         "Financial Literacy"
        ]
       ],
       "datasetInfos": [],
       "dbfsResultPath": null,
       "isJsonSchema": true,
       "metadata": {
        "isDbfsCommandResult": false
       },
       "overflow": false,
       "plotOptions": {
        "customPlotOptions": {},
        "displayType": "table",
        "pivotAggregation": null,
        "pivotColumns": null,
        "xColumns": null,
        "yColumns": null
       },
       "removedWidgets": [],
       "schema": [
        {
         "metadata": "{}",
         "name": "participant_id",
         "type": "\"integer\""
        },
        {
         "metadata": "{\"__CHAR_VARCHAR_TYPE_STRING\":\"varchar(50)\"}",
         "name": "participant_name",
         "type": "\"string\""
        },
        {
         "metadata": "{}",
         "name": "training_session_date",
         "type": "\"date\""
        },
        {
         "metadata": "{}",
         "name": "training_session_duration_hours",
         "type": "\"decimal(5,2)\""
        },
        {
         "metadata": "{\"__CHAR_VARCHAR_TYPE_STRING\":\"varchar(50)\"}",
         "name": "trainer_name",
         "type": "\"string\""
        },
        {
         "metadata": "{\"__CHAR_VARCHAR_TYPE_STRING\":\"varchar(100)\"}",
         "name": "training_location",
         "type": "\"string\""
        },
        {
         "metadata": "{\"__CHAR_VARCHAR_TYPE_STRING\":\"varchar(100)\"}",
         "name": "training_subject",
         "type": "\"string\""
        }
       ],
       "type": "table"
      }
     },
     "output_type": "display_data"
    }
   ],
   "source": [
    "%sql\n",
    "SELECT * FROM training_data\n"
   ]
  },
  {
   "cell_type": "code",
   "execution_count": 0,
   "metadata": {
    "application/vnd.databricks.v1+cell": {
     "cellMetadata": {
      "byteLimit": 2048000,
      "rowLimit": 10000
     },
     "inputWidgets": {},
     "nuid": "6d25c21b-189d-491a-8be9-0dd4fdad545a",
     "showTitle": false,
     "title": ""
    }
   },
   "outputs": [
    {
     "output_type": "display_data",
     "data": {
      "text/html": [
       "<style scoped>\n",
       "  .table-result-container {\n",
       "    max-height: 300px;\n",
       "    overflow: auto;\n",
       "  }\n",
       "  table, th, td {\n",
       "    border: 1px solid black;\n",
       "    border-collapse: collapse;\n",
       "  }\n",
       "  th, td {\n",
       "    padding: 5px;\n",
       "  }\n",
       "  th {\n",
       "    text-align: left;\n",
       "  }\n",
       "</style><div class='table-result-container'><table class='table-result'><thead style='background-color: white'><tr><th>trainer_name</th><th>no_of_sessions</th></tr></thead><tbody><tr><td>Trainer A</td><td>5</td></tr><tr><td>Trainer B</td><td>5</td></tr><tr><td>Trainer C</td><td>5</td></tr></tbody></table></div>"
      ]
     },
     "metadata": {
      "application/vnd.databricks.v1+output": {
       "addedWidgets": {},
       "aggData": [],
       "aggError": "",
       "aggOverflow": false,
       "aggSchema": [],
       "aggSeriesLimitReached": false,
       "aggType": "",
       "arguments": {},
       "columnCustomDisplayInfos": {},
       "data": [
        [
         "Trainer A",
         5
        ],
        [
         "Trainer B",
         5
        ],
        [
         "Trainer C",
         5
        ]
       ],
       "datasetInfos": [],
       "dbfsResultPath": null,
       "isJsonSchema": true,
       "metadata": {
        "isDbfsCommandResult": false
       },
       "overflow": false,
       "plotOptions": {
        "customPlotOptions": {},
        "displayType": "table",
        "pivotAggregation": null,
        "pivotColumns": null,
        "xColumns": null,
        "yColumns": null
       },
       "removedWidgets": [],
       "schema": [
        {
         "metadata": "{\"__CHAR_VARCHAR_TYPE_STRING\":\"varchar(50)\"}",
         "name": "trainer_name",
         "type": "\"string\""
        },
        {
         "metadata": "{}",
         "name": "no_of_sessions",
         "type": "\"long\""
        }
       ],
       "type": "table"
      }
     },
     "output_type": "display_data"
    }
   ],
   "source": [
    "%sql\n",
    "-- count the number of session for each trainer and arrange trainer in ascending order\n",
    "-- SELECT * FROM training_data\n",
    "SELECT trainer_name,count(*) AS no_of_sessions FROM training_data\n",
    "GROUP BY training_data.trainer_name\n",
    "ORDER BY training_data.trainer_name"
   ]
  },
  {
   "cell_type": "code",
   "execution_count": 0,
   "metadata": {
    "application/vnd.databricks.v1+cell": {
     "cellMetadata": {
      "byteLimit": 2048000,
      "rowLimit": 10000
     },
     "inputWidgets": {},
     "nuid": "ce8e4ef6-c0c3-4227-bd13-6c74da443227",
     "showTitle": false,
     "title": ""
    }
   },
   "outputs": [
    {
     "output_type": "display_data",
     "data": {
      "text/html": [
       "<style scoped>\n",
       "  .table-result-container {\n",
       "    max-height: 300px;\n",
       "    overflow: auto;\n",
       "  }\n",
       "  table, th, td {\n",
       "    border: 1px solid black;\n",
       "    border-collapse: collapse;\n",
       "  }\n",
       "  th, td {\n",
       "    padding: 5px;\n",
       "  }\n",
       "  th {\n",
       "    text-align: left;\n",
       "  }\n",
       "</style><div class='table-result-container'><table class='table-result'><thead style='background-color: white'><tr><th>participant_name</th><th>training_session_duration_hours</th></tr></thead><tbody><tr><td>Alice Johnson</td><td>2.50</td></tr><tr><td>Bob Williams</td><td>3.00</td></tr><tr><td>Frank Johnson</td><td>3.50</td></tr><tr><td>Henry Davis</td><td>2.50</td></tr><tr><td>Kelly Johnson</td><td>3.00</td></tr><tr><td>Leo Brown</td><td>2.50</td></tr><tr><td>Olivia Miller</td><td>2.50</td></tr></tbody></table></div>"
      ]
     },
     "metadata": {
      "application/vnd.databricks.v1+output": {
       "addedWidgets": {},
       "aggData": [],
       "aggError": "",
       "aggOverflow": false,
       "aggSchema": [],
       "aggSeriesLimitReached": false,
       "aggType": "",
       "arguments": {},
       "columnCustomDisplayInfos": {},
       "data": [
        [
         "Alice Johnson",
         "2.50"
        ],
        [
         "Bob Williams",
         "3.00"
        ],
        [
         "Frank Johnson",
         "3.50"
        ],
        [
         "Henry Davis",
         "2.50"
        ],
        [
         "Kelly Johnson",
         "3.00"
        ],
        [
         "Leo Brown",
         "2.50"
        ],
        [
         "Olivia Miller",
         "2.50"
        ]
       ],
       "datasetInfos": [],
       "dbfsResultPath": null,
       "isJsonSchema": true,
       "metadata": {
        "isDbfsCommandResult": false
       },
       "overflow": false,
       "plotOptions": {
        "customPlotOptions": {},
        "displayType": "table",
        "pivotAggregation": null,
        "pivotColumns": null,
        "xColumns": null,
        "yColumns": null
       },
       "removedWidgets": [],
       "schema": [
        {
         "metadata": "{\"__CHAR_VARCHAR_TYPE_STRING\":\"varchar(50)\"}",
         "name": "participant_name",
         "type": "\"string\""
        },
        {
         "metadata": "{}",
         "name": "training_session_duration_hours",
         "type": "\"decimal(5,2)\""
        }
       ],
       "type": "table"
      }
     },
     "output_type": "display_data"
    }
   ],
   "source": [
    "%sql\n",
    "-- Find participants with session longer than average\n",
    "SELECT participant_name,training_session_duration_hours FROM training_data\n",
    "WHERE training_session_duration_hours > (SELECT avg(training_session_duration_hours) FROM training_data)"
   ]
  },
  {
   "cell_type": "code",
   "execution_count": 0,
   "metadata": {
    "application/vnd.databricks.v1+cell": {
     "cellMetadata": {
      "byteLimit": 2048000,
      "rowLimit": 10000
     },
     "inputWidgets": {},
     "nuid": "4e62cab1-2cd1-48bb-b8f6-9ff821886dd6",
     "showTitle": false,
     "title": ""
    }
   },
   "outputs": [
    {
     "output_type": "display_data",
     "data": {
      "text/html": [
       "<style scoped>\n",
       "  .table-result-container {\n",
       "    max-height: 300px;\n",
       "    overflow: auto;\n",
       "  }\n",
       "  table, th, td {\n",
       "    border: 1px solid black;\n",
       "    border-collapse: collapse;\n",
       "  }\n",
       "  th, td {\n",
       "    padding: 5px;\n",
       "  }\n",
       "  th {\n",
       "    text-align: left;\n",
       "  }\n",
       "</style><div class='table-result-container'><table class='table-result'><thead style='background-color: white'><tr><th>training_location</th></tr></thead><tbody></tbody></table></div>"
      ]
     },
     "metadata": {
      "application/vnd.databricks.v1+output": {
       "addedWidgets": {},
       "aggData": [],
       "aggError": "",
       "aggOverflow": false,
       "aggSchema": [],
       "aggSeriesLimitReached": false,
       "aggType": "",
       "arguments": {},
       "columnCustomDisplayInfos": {},
       "data": [],
       "datasetInfos": [],
       "dbfsResultPath": null,
       "isJsonSchema": true,
       "metadata": {
        "isDbfsCommandResult": false
       },
       "overflow": false,
       "plotOptions": {
        "customPlotOptions": {},
        "displayType": "table",
        "pivotAggregation": null,
        "pivotColumns": null,
        "xColumns": null,
        "yColumns": null
       },
       "removedWidgets": [],
       "schema": [
        {
         "metadata": "{\"__CHAR_VARCHAR_TYPE_STRING\":\"varchar(100)\"}",
         "name": "training_location",
         "type": "\"string\""
        }
       ],
       "type": "table"
      }
     },
     "output_type": "display_data"
    }
   ],
   "source": [
    "%sql\n",
    "-- find sessions conducted in the same location by different trainer\n",
    "SELECT DISTINCT training_location FROM training_data AS main\n",
    "WHERE exists(\n",
    "  SELECT 1\n",
    "  FROM training_data AS sub\n",
    "  WHERE sub.training_location = main.training_location\n",
    "  AND sub.trainer_name != main.trainer_name\n",
    " )"
   ]
  },
  {
   "cell_type": "code",
   "execution_count": 0,
   "metadata": {
    "application/vnd.databricks.v1+cell": {
     "cellMetadata": {
      "byteLimit": 2048000,
      "rowLimit": 10000
     },
     "inputWidgets": {},
     "nuid": "c034d9aa-ef80-44b9-a692-68c89db96720",
     "showTitle": false,
     "title": ""
    }
   },
   "outputs": [
    {
     "output_type": "display_data",
     "data": {
      "text/html": [
       "<style scoped>\n",
       "  .table-result-container {\n",
       "    max-height: 300px;\n",
       "    overflow: auto;\n",
       "  }\n",
       "  table, th, td {\n",
       "    border: 1px solid black;\n",
       "    border-collapse: collapse;\n",
       "  }\n",
       "  th, td {\n",
       "    padding: 5px;\n",
       "  }\n",
       "  th {\n",
       "    text-align: left;\n",
       "  }\n",
       "</style><div class='table-result-container'><table class='table-result'><thead style='background-color: white'><tr><th>training_location</th><th>distinct_trainers_count</th></tr></thead><tbody></tbody></table></div>"
      ]
     },
     "metadata": {
      "application/vnd.databricks.v1+output": {
       "addedWidgets": {},
       "aggData": [],
       "aggError": "",
       "aggOverflow": false,
       "aggSchema": [],
       "aggSeriesLimitReached": false,
       "aggType": "",
       "arguments": {},
       "columnCustomDisplayInfos": {},
       "data": [],
       "datasetInfos": [],
       "dbfsResultPath": null,
       "isJsonSchema": true,
       "metadata": {
        "isDbfsCommandResult": false
       },
       "overflow": false,
       "plotOptions": {
        "customPlotOptions": {},
        "displayType": "table",
        "pivotAggregation": null,
        "pivotColumns": null,
        "xColumns": null,
        "yColumns": null
       },
       "removedWidgets": [],
       "schema": [
        {
         "metadata": "{\"__CHAR_VARCHAR_TYPE_STRING\":\"varchar(100)\"}",
         "name": "training_location",
         "type": "\"string\""
        },
        {
         "metadata": "{}",
         "name": "distinct_trainers_count",
         "type": "\"long\""
        }
       ],
       "type": "table"
      }
     },
     "output_type": "display_data"
    }
   ],
   "source": [
    "%sql\n",
    "SELECT\n",
    "    training_location,\n",
    "    COUNT(DISTINCT trainer_name) AS distinct_trainers_count\n",
    "FROM\n",
    "    training_data\n",
    "GROUP BY\n",
    "    training_location\n",
    "HAVING\n",
    "    COUNT(DISTINCT trainer_name) > 1;"
   ]
  },
  {
   "cell_type": "code",
   "execution_count": 0,
   "metadata": {
    "application/vnd.databricks.v1+cell": {
     "cellMetadata": {
      "byteLimit": 2048000,
      "rowLimit": 10000
     },
     "inputWidgets": {},
     "nuid": "60a42ca9-9c85-4a29-8221-e65761807dd3",
     "showTitle": false,
     "title": ""
    }
   },
   "outputs": [
    {
     "output_type": "display_data",
     "data": {
      "text/html": [
       "<style scoped>\n",
       "  .table-result-container {\n",
       "    max-height: 300px;\n",
       "    overflow: auto;\n",
       "  }\n",
       "  table, th, td {\n",
       "    border: 1px solid black;\n",
       "    border-collapse: collapse;\n",
       "  }\n",
       "  th, td {\n",
       "    padding: 5px;\n",
       "  }\n",
       "  th {\n",
       "    text-align: left;\n",
       "  }\n",
       "</style><div class='table-result-container'><table class='table-result'><thead style='background-color: white'><tr><th>participant_name</th></tr></thead><tbody><tr><td>Bob Williams</td></tr><tr><td>Eva Brown</td></tr><tr><td>Henry Davis</td></tr><tr><td>Kelly Johnson</td></tr><tr><td>Nathan Wilson</td></tr></tbody></table></div>"
      ]
     },
     "metadata": {
      "application/vnd.databricks.v1+output": {
       "addedWidgets": {},
       "aggData": [],
       "aggError": "",
       "aggOverflow": false,
       "aggSchema": [],
       "aggSeriesLimitReached": false,
       "aggType": "",
       "arguments": {},
       "columnCustomDisplayInfos": {},
       "data": [
        [
         "Bob Williams"
        ],
        [
         "Eva Brown"
        ],
        [
         "Henry Davis"
        ],
        [
         "Kelly Johnson"
        ],
        [
         "Nathan Wilson"
        ]
       ],
       "datasetInfos": [],
       "dbfsResultPath": null,
       "isJsonSchema": true,
       "metadata": {
        "isDbfsCommandResult": false
       },
       "overflow": false,
       "plotOptions": {
        "customPlotOptions": {},
        "displayType": "table",
        "pivotAggregation": null,
        "pivotColumns": null,
        "xColumns": null,
        "yColumns": null
       },
       "removedWidgets": [],
       "schema": [
        {
         "metadata": "{\"__CHAR_VARCHAR_TYPE_STRING\":\"varchar(50)\"}",
         "name": "participant_name",
         "type": "\"string\""
        }
       ],
       "type": "table"
      }
     },
     "output_type": "display_data"
    }
   ],
   "source": [
    "%sql\n",
    "-- Find participants attending sessions by trainer A\n",
    "SELECT participant_name FROM training_data\n",
    "WHERE trainer_name = 'Trainer A'"
   ]
  },
  {
   "cell_type": "code",
   "execution_count": 0,
   "metadata": {
    "application/vnd.databricks.v1+cell": {
     "cellMetadata": {
      "byteLimit": 2048000,
      "rowLimit": 10000
     },
     "inputWidgets": {},
     "nuid": "11e78d80-ca2b-46ca-9671-3f8a76a4cebb",
     "showTitle": false,
     "title": ""
    }
   },
   "outputs": [
    {
     "output_type": "display_data",
     "data": {
      "text/html": [
       "<style scoped>\n",
       "  .table-result-container {\n",
       "    max-height: 300px;\n",
       "    overflow: auto;\n",
       "  }\n",
       "  table, th, td {\n",
       "    border: 1px solid black;\n",
       "    border-collapse: collapse;\n",
       "  }\n",
       "  th, td {\n",
       "    padding: 5px;\n",
       "  }\n",
       "  th {\n",
       "    text-align: left;\n",
       "  }\n",
       "</style><div class='table-result-container'><table class='table-result'><thead style='background-color: white'><tr></tr></thead><tbody></tbody></table></div>"
      ]
     },
     "metadata": {
      "application/vnd.databricks.v1+output": {
       "addedWidgets": {},
       "aggData": [],
       "aggError": "",
       "aggOverflow": false,
       "aggSchema": [],
       "aggSeriesLimitReached": false,
       "aggType": "",
       "arguments": {},
       "columnCustomDisplayInfos": {},
       "data": [],
       "datasetInfos": [],
       "dbfsResultPath": null,
       "isJsonSchema": true,
       "metadata": {
        "isDbfsCommandResult": false
       },
       "overflow": false,
       "plotOptions": {
        "customPlotOptions": {},
        "displayType": "table",
        "pivotAggregation": null,
        "pivotColumns": null,
        "xColumns": null,
        "yColumns": null
       },
       "removedWidgets": [],
       "schema": [],
       "type": "table"
      }
     },
     "output_type": "display_data"
    }
   ],
   "source": [
    "%sql\n",
    "CREATE or replace TABLE employee_data (\n",
    "    employee_id INT ,\n",
    "    department_id INT,\n",
    "    position VARCHAR(50),\n",
    "    salary INT,\n",
    "    tenure_months INT,\n",
    "    job_experience_years INT\n",
    ");"
   ]
  },
  {
   "cell_type": "code",
   "execution_count": 0,
   "metadata": {
    "application/vnd.databricks.v1+cell": {
     "cellMetadata": {
      "byteLimit": 2048000,
      "rowLimit": 10000
     },
     "inputWidgets": {},
     "nuid": "c1b9c086-9f07-41ba-8dd3-d78d13c17973",
     "showTitle": false,
     "title": ""
    }
   },
   "outputs": [
    {
     "output_type": "display_data",
     "data": {
      "text/html": [
       "<style scoped>\n",
       "  .table-result-container {\n",
       "    max-height: 300px;\n",
       "    overflow: auto;\n",
       "  }\n",
       "  table, th, td {\n",
       "    border: 1px solid black;\n",
       "    border-collapse: collapse;\n",
       "  }\n",
       "  th, td {\n",
       "    padding: 5px;\n",
       "  }\n",
       "  th {\n",
       "    text-align: left;\n",
       "  }\n",
       "</style><div class='table-result-container'><table class='table-result'><thead style='background-color: white'><tr><th>num_affected_rows</th><th>num_inserted_rows</th></tr></thead><tbody><tr><td>8</td><td>8</td></tr></tbody></table></div>"
      ]
     },
     "metadata": {
      "application/vnd.databricks.v1+output": {
       "addedWidgets": {},
       "aggData": [],
       "aggError": "",
       "aggOverflow": false,
       "aggSchema": [],
       "aggSeriesLimitReached": false,
       "aggType": "",
       "arguments": {},
       "columnCustomDisplayInfos": {},
       "data": [
        [
         8,
         8
        ]
       ],
       "datasetInfos": [],
       "dbfsResultPath": null,
       "isJsonSchema": true,
       "metadata": {
        "isDbfsCommandResult": false
       },
       "overflow": false,
       "plotOptions": {
        "customPlotOptions": {},
        "displayType": "table",
        "pivotAggregation": null,
        "pivotColumns": null,
        "xColumns": null,
        "yColumns": null
       },
       "removedWidgets": [],
       "schema": [
        {
         "metadata": "{}",
         "name": "num_affected_rows",
         "type": "\"long\""
        },
        {
         "metadata": "{}",
         "name": "num_inserted_rows",
         "type": "\"long\""
        }
       ],
       "type": "table"
      }
     },
     "output_type": "display_data"
    }
   ],
   "source": [
    "%sql\n",
    "INSERT INTO employee_data VALUES\n",
    "(1, 101, 'Software Engineer', 90000, 24, 2),\n",
    "(2, 102, 'Data Analyst', 60000, 18, 1),\n",
    "(3, 101, 'Project Manager', 90000, 36, 5),\n",
    "(4, 103, 'UX Designer', 75000, 27, 3),\n",
    "(5, 102, 'Business Analyst', 70000, 22, 2),\n",
    "(6, 101, 'Software Engineer', 80000, 30, 4),\n",
    "(7, 103, 'Product Manager', 95000, 42, 7),\n",
    "(8, 102, 'Data Scientist', 100000, 48, 8);"
   ]
  },
  {
   "cell_type": "code",
   "execution_count": 0,
   "metadata": {
    "application/vnd.databricks.v1+cell": {
     "cellMetadata": {
      "byteLimit": 2048000,
      "rowLimit": 10000
     },
     "inputWidgets": {},
     "nuid": "9d159976-9579-4dae-b7bd-43317c2b1436",
     "showTitle": false,
     "title": ""
    }
   },
   "outputs": [
    {
     "output_type": "display_data",
     "data": {
      "text/html": [
       "<style scoped>\n",
       "  .table-result-container {\n",
       "    max-height: 300px;\n",
       "    overflow: auto;\n",
       "  }\n",
       "  table, th, td {\n",
       "    border: 1px solid black;\n",
       "    border-collapse: collapse;\n",
       "  }\n",
       "  th, td {\n",
       "    padding: 5px;\n",
       "  }\n",
       "  th {\n",
       "    text-align: left;\n",
       "  }\n",
       "</style><div class='table-result-container'><table class='table-result'><thead style='background-color: white'><tr><th>employee_id</th><th>department_id</th><th>position</th><th>salary</th><th>tenure_months</th><th>job_experience_years</th></tr></thead><tbody><tr><td>1</td><td>101</td><td>Software Engineer</td><td>90000</td><td>24</td><td>2</td></tr><tr><td>2</td><td>102</td><td>Data Analyst</td><td>60000</td><td>18</td><td>1</td></tr><tr><td>3</td><td>101</td><td>Project Manager</td><td>90000</td><td>36</td><td>5</td></tr><tr><td>4</td><td>103</td><td>UX Designer</td><td>75000</td><td>27</td><td>3</td></tr><tr><td>5</td><td>102</td><td>Business Analyst</td><td>70000</td><td>22</td><td>2</td></tr><tr><td>6</td><td>101</td><td>Software Engineer</td><td>80000</td><td>30</td><td>4</td></tr><tr><td>7</td><td>103</td><td>Product Manager</td><td>95000</td><td>42</td><td>7</td></tr><tr><td>8</td><td>102</td><td>Data Scientist</td><td>100000</td><td>48</td><td>8</td></tr></tbody></table></div>"
      ]
     },
     "metadata": {
      "application/vnd.databricks.v1+output": {
       "addedWidgets": {},
       "aggData": [],
       "aggError": "",
       "aggOverflow": false,
       "aggSchema": [],
       "aggSeriesLimitReached": false,
       "aggType": "",
       "arguments": {},
       "columnCustomDisplayInfos": {},
       "data": [
        [
         1,
         101,
         "Software Engineer",
         90000,
         24,
         2
        ],
        [
         2,
         102,
         "Data Analyst",
         60000,
         18,
         1
        ],
        [
         3,
         101,
         "Project Manager",
         90000,
         36,
         5
        ],
        [
         4,
         103,
         "UX Designer",
         75000,
         27,
         3
        ],
        [
         5,
         102,
         "Business Analyst",
         70000,
         22,
         2
        ],
        [
         6,
         101,
         "Software Engineer",
         80000,
         30,
         4
        ],
        [
         7,
         103,
         "Product Manager",
         95000,
         42,
         7
        ],
        [
         8,
         102,
         "Data Scientist",
         100000,
         48,
         8
        ]
       ],
       "datasetInfos": [],
       "dbfsResultPath": null,
       "isJsonSchema": true,
       "metadata": {
        "isDbfsCommandResult": false
       },
       "overflow": false,
       "plotOptions": {
        "customPlotOptions": {},
        "displayType": "table",
        "pivotAggregation": null,
        "pivotColumns": null,
        "xColumns": null,
        "yColumns": null
       },
       "removedWidgets": [],
       "schema": [
        {
         "metadata": "{}",
         "name": "employee_id",
         "type": "\"integer\""
        },
        {
         "metadata": "{}",
         "name": "department_id",
         "type": "\"integer\""
        },
        {
         "metadata": "{\"__CHAR_VARCHAR_TYPE_STRING\":\"varchar(50)\"}",
         "name": "position",
         "type": "\"string\""
        },
        {
         "metadata": "{}",
         "name": "salary",
         "type": "\"integer\""
        },
        {
         "metadata": "{}",
         "name": "tenure_months",
         "type": "\"integer\""
        },
        {
         "metadata": "{}",
         "name": "job_experience_years",
         "type": "\"integer\""
        }
       ],
       "type": "table"
      }
     },
     "output_type": "display_data"
    }
   ],
   "source": [
    "%sql\n",
    "SELECT * FROM employee_data"
   ]
  },
  {
   "cell_type": "code",
   "execution_count": 0,
   "metadata": {
    "application/vnd.databricks.v1+cell": {
     "cellMetadata": {
      "byteLimit": 2048000,
      "rowLimit": 10000
     },
     "inputWidgets": {},
     "nuid": "ed84dc41-f48e-4368-8da7-1818402973e0",
     "showTitle": false,
     "title": ""
    }
   },
   "outputs": [
    {
     "output_type": "display_data",
     "data": {
      "text/html": [
       "<style scoped>\n",
       "  .table-result-container {\n",
       "    max-height: 300px;\n",
       "    overflow: auto;\n",
       "  }\n",
       "  table, th, td {\n",
       "    border: 1px solid black;\n",
       "    border-collapse: collapse;\n",
       "  }\n",
       "  th, td {\n",
       "    padding: 5px;\n",
       "  }\n",
       "  th {\n",
       "    text-align: left;\n",
       "  }\n",
       "</style><div class='table-result-container'><table class='table-result'><thead style='background-color: white'><tr><th>employee_id</th><th>department_id</th><th>position</th><th>salary</th><th>tenure_months</th><th>job_experience_years</th><th>serial_no</th></tr></thead><tbody><tr><td>1</td><td>101</td><td>Software Engineer</td><td>90000</td><td>24</td><td>2</td><td>1</td></tr><tr><td>3</td><td>101</td><td>Project Manager</td><td>90000</td><td>36</td><td>5</td><td>2</td></tr><tr><td>6</td><td>101</td><td>Software Engineer</td><td>80000</td><td>30</td><td>4</td><td>3</td></tr><tr><td>8</td><td>102</td><td>Data Scientist</td><td>100000</td><td>48</td><td>8</td><td>1</td></tr><tr><td>5</td><td>102</td><td>Business Analyst</td><td>70000</td><td>22</td><td>2</td><td>2</td></tr><tr><td>2</td><td>102</td><td>Data Analyst</td><td>60000</td><td>18</td><td>1</td><td>3</td></tr><tr><td>7</td><td>103</td><td>Product Manager</td><td>95000</td><td>42</td><td>7</td><td>1</td></tr><tr><td>4</td><td>103</td><td>UX Designer</td><td>75000</td><td>27</td><td>3</td><td>2</td></tr></tbody></table></div>"
      ]
     },
     "metadata": {
      "application/vnd.databricks.v1+output": {
       "addedWidgets": {},
       "aggData": [],
       "aggError": "",
       "aggOverflow": false,
       "aggSchema": [],
       "aggSeriesLimitReached": false,
       "aggType": "",
       "arguments": {},
       "columnCustomDisplayInfos": {},
       "data": [
        [
         1,
         101,
         "Software Engineer",
         90000,
         24,
         2,
         1
        ],
        [
         3,
         101,
         "Project Manager",
         90000,
         36,
         5,
         2
        ],
        [
         6,
         101,
         "Software Engineer",
         80000,
         30,
         4,
         3
        ],
        [
         8,
         102,
         "Data Scientist",
         100000,
         48,
         8,
         1
        ],
        [
         5,
         102,
         "Business Analyst",
         70000,
         22,
         2,
         2
        ],
        [
         2,
         102,
         "Data Analyst",
         60000,
         18,
         1,
         3
        ],
        [
         7,
         103,
         "Product Manager",
         95000,
         42,
         7,
         1
        ],
        [
         4,
         103,
         "UX Designer",
         75000,
         27,
         3,
         2
        ]
       ],
       "datasetInfos": [],
       "dbfsResultPath": null,
       "isJsonSchema": true,
       "metadata": {
        "isDbfsCommandResult": false
       },
       "overflow": false,
       "plotOptions": {
        "customPlotOptions": {},
        "displayType": "table",
        "pivotAggregation": null,
        "pivotColumns": null,
        "xColumns": null,
        "yColumns": null
       },
       "removedWidgets": [],
       "schema": [
        {
         "metadata": "{}",
         "name": "employee_id",
         "type": "\"integer\""
        },
        {
         "metadata": "{}",
         "name": "department_id",
         "type": "\"integer\""
        },
        {
         "metadata": "{\"__CHAR_VARCHAR_TYPE_STRING\":\"varchar(50)\"}",
         "name": "position",
         "type": "\"string\""
        },
        {
         "metadata": "{}",
         "name": "salary",
         "type": "\"integer\""
        },
        {
         "metadata": "{}",
         "name": "tenure_months",
         "type": "\"integer\""
        },
        {
         "metadata": "{}",
         "name": "job_experience_years",
         "type": "\"integer\""
        },
        {
         "metadata": "{}",
         "name": "serial_no",
         "type": "\"integer\""
        }
       ],
       "type": "table"
      }
     },
     "output_type": "display_data"
    }
   ],
   "source": [
    "%sql\n",
    "-- Windows Function\n",
    "-- row_number()\n",
    "SELECT *, row_number() OVER (PARTITION BY department_id ORDER BY salary DESC) AS serial_no\n",
    "FROM employee_data"
   ]
  },
  {
   "cell_type": "code",
   "execution_count": 0,
   "metadata": {
    "application/vnd.databricks.v1+cell": {
     "cellMetadata": {
      "byteLimit": 2048000,
      "rowLimit": 10000
     },
     "inputWidgets": {},
     "nuid": "1beb1e9c-a47b-437f-8b3f-8d1f8e67f465",
     "showTitle": false,
     "title": ""
    }
   },
   "outputs": [
    {
     "output_type": "display_data",
     "data": {
      "text/html": [
       "<style scoped>\n",
       "  .table-result-container {\n",
       "    max-height: 300px;\n",
       "    overflow: auto;\n",
       "  }\n",
       "  table, th, td {\n",
       "    border: 1px solid black;\n",
       "    border-collapse: collapse;\n",
       "  }\n",
       "  th, td {\n",
       "    padding: 5px;\n",
       "  }\n",
       "  th {\n",
       "    text-align: left;\n",
       "  }\n",
       "</style><div class='table-result-container'><table class='table-result'><thead style='background-color: white'><tr><th>employee_id</th><th>department_id</th><th>position</th><th>salary</th><th>tenure_months</th><th>job_experience_years</th><th>rnk</th></tr></thead><tbody><tr><td>1</td><td>101</td><td>Software Engineer</td><td>90000</td><td>24</td><td>2</td><td>1</td></tr><tr><td>3</td><td>101</td><td>Project Manager</td><td>90000</td><td>36</td><td>5</td><td>1</td></tr><tr><td>6</td><td>101</td><td>Software Engineer</td><td>80000</td><td>30</td><td>4</td><td>3</td></tr><tr><td>8</td><td>102</td><td>Data Scientist</td><td>100000</td><td>48</td><td>8</td><td>1</td></tr><tr><td>5</td><td>102</td><td>Business Analyst</td><td>70000</td><td>22</td><td>2</td><td>2</td></tr><tr><td>2</td><td>102</td><td>Data Analyst</td><td>60000</td><td>18</td><td>1</td><td>3</td></tr><tr><td>7</td><td>103</td><td>Product Manager</td><td>95000</td><td>42</td><td>7</td><td>1</td></tr><tr><td>4</td><td>103</td><td>UX Designer</td><td>75000</td><td>27</td><td>3</td><td>2</td></tr></tbody></table></div>"
      ]
     },
     "metadata": {
      "application/vnd.databricks.v1+output": {
       "addedWidgets": {},
       "aggData": [],
       "aggError": "",
       "aggOverflow": false,
       "aggSchema": [],
       "aggSeriesLimitReached": false,
       "aggType": "",
       "arguments": {},
       "columnCustomDisplayInfos": {},
       "data": [
        [
         1,
         101,
         "Software Engineer",
         90000,
         24,
         2,
         1
        ],
        [
         3,
         101,
         "Project Manager",
         90000,
         36,
         5,
         1
        ],
        [
         6,
         101,
         "Software Engineer",
         80000,
         30,
         4,
         3
        ],
        [
         8,
         102,
         "Data Scientist",
         100000,
         48,
         8,
         1
        ],
        [
         5,
         102,
         "Business Analyst",
         70000,
         22,
         2,
         2
        ],
        [
         2,
         102,
         "Data Analyst",
         60000,
         18,
         1,
         3
        ],
        [
         7,
         103,
         "Product Manager",
         95000,
         42,
         7,
         1
        ],
        [
         4,
         103,
         "UX Designer",
         75000,
         27,
         3,
         2
        ]
       ],
       "datasetInfos": [],
       "dbfsResultPath": null,
       "isJsonSchema": true,
       "metadata": {
        "isDbfsCommandResult": false
       },
       "overflow": false,
       "plotOptions": {
        "customPlotOptions": {},
        "displayType": "table",
        "pivotAggregation": null,
        "pivotColumns": null,
        "xColumns": null,
        "yColumns": null
       },
       "removedWidgets": [],
       "schema": [
        {
         "metadata": "{}",
         "name": "employee_id",
         "type": "\"integer\""
        },
        {
         "metadata": "{}",
         "name": "department_id",
         "type": "\"integer\""
        },
        {
         "metadata": "{\"__CHAR_VARCHAR_TYPE_STRING\":\"varchar(50)\"}",
         "name": "position",
         "type": "\"string\""
        },
        {
         "metadata": "{}",
         "name": "salary",
         "type": "\"integer\""
        },
        {
         "metadata": "{}",
         "name": "tenure_months",
         "type": "\"integer\""
        },
        {
         "metadata": "{}",
         "name": "job_experience_years",
         "type": "\"integer\""
        },
        {
         "metadata": "{}",
         "name": "rnk",
         "type": "\"integer\""
        }
       ],
       "type": "table"
      }
     },
     "output_type": "display_data"
    }
   ],
   "source": [
    "%sql\n",
    "-- rank\n",
    "SELECT *, rank() OVER (PARTITION BY department_id ORDER BY salary DESC) AS rnk\n",
    "FROM employee_data"
   ]
  },
  {
   "cell_type": "code",
   "execution_count": 0,
   "metadata": {
    "application/vnd.databricks.v1+cell": {
     "cellMetadata": {
      "byteLimit": 2048000,
      "rowLimit": 10000
     },
     "inputWidgets": {},
     "nuid": "02cc56f9-c2f2-47db-a022-e65f34fb8d15",
     "showTitle": false,
     "title": ""
    }
   },
   "outputs": [
    {
     "output_type": "display_data",
     "data": {
      "text/html": [
       "<style scoped>\n",
       "  .table-result-container {\n",
       "    max-height: 300px;\n",
       "    overflow: auto;\n",
       "  }\n",
       "  table, th, td {\n",
       "    border: 1px solid black;\n",
       "    border-collapse: collapse;\n",
       "  }\n",
       "  th, td {\n",
       "    padding: 5px;\n",
       "  }\n",
       "  th {\n",
       "    text-align: left;\n",
       "  }\n",
       "</style><div class='table-result-container'><table class='table-result'><thead style='background-color: white'><tr><th>employee_id</th><th>department_id</th><th>position</th><th>salary</th><th>tenure_months</th><th>job_experience_years</th><th>rnk</th></tr></thead><tbody><tr><td>1</td><td>101</td><td>Software Engineer</td><td>90000</td><td>24</td><td>2</td><td>1</td></tr><tr><td>3</td><td>101</td><td>Project Manager</td><td>90000</td><td>36</td><td>5</td><td>1</td></tr><tr><td>6</td><td>101</td><td>Software Engineer</td><td>80000</td><td>30</td><td>4</td><td>2</td></tr><tr><td>8</td><td>102</td><td>Data Scientist</td><td>100000</td><td>48</td><td>8</td><td>1</td></tr><tr><td>5</td><td>102</td><td>Business Analyst</td><td>70000</td><td>22</td><td>2</td><td>2</td></tr><tr><td>2</td><td>102</td><td>Data Analyst</td><td>60000</td><td>18</td><td>1</td><td>3</td></tr><tr><td>7</td><td>103</td><td>Product Manager</td><td>95000</td><td>42</td><td>7</td><td>1</td></tr><tr><td>4</td><td>103</td><td>UX Designer</td><td>75000</td><td>27</td><td>3</td><td>2</td></tr></tbody></table></div>"
      ]
     },
     "metadata": {
      "application/vnd.databricks.v1+output": {
       "addedWidgets": {},
       "aggData": [],
       "aggError": "",
       "aggOverflow": false,
       "aggSchema": [],
       "aggSeriesLimitReached": false,
       "aggType": "",
       "arguments": {},
       "columnCustomDisplayInfos": {},
       "data": [
        [
         1,
         101,
         "Software Engineer",
         90000,
         24,
         2,
         1
        ],
        [
         3,
         101,
         "Project Manager",
         90000,
         36,
         5,
         1
        ],
        [
         6,
         101,
         "Software Engineer",
         80000,
         30,
         4,
         2
        ],
        [
         8,
         102,
         "Data Scientist",
         100000,
         48,
         8,
         1
        ],
        [
         5,
         102,
         "Business Analyst",
         70000,
         22,
         2,
         2
        ],
        [
         2,
         102,
         "Data Analyst",
         60000,
         18,
         1,
         3
        ],
        [
         7,
         103,
         "Product Manager",
         95000,
         42,
         7,
         1
        ],
        [
         4,
         103,
         "UX Designer",
         75000,
         27,
         3,
         2
        ]
       ],
       "datasetInfos": [],
       "dbfsResultPath": null,
       "isJsonSchema": true,
       "metadata": {
        "isDbfsCommandResult": false
       },
       "overflow": false,
       "plotOptions": {
        "customPlotOptions": {},
        "displayType": "table",
        "pivotAggregation": null,
        "pivotColumns": null,
        "xColumns": null,
        "yColumns": null
       },
       "removedWidgets": [],
       "schema": [
        {
         "metadata": "{}",
         "name": "employee_id",
         "type": "\"integer\""
        },
        {
         "metadata": "{}",
         "name": "department_id",
         "type": "\"integer\""
        },
        {
         "metadata": "{\"__CHAR_VARCHAR_TYPE_STRING\":\"varchar(50)\"}",
         "name": "position",
         "type": "\"string\""
        },
        {
         "metadata": "{}",
         "name": "salary",
         "type": "\"integer\""
        },
        {
         "metadata": "{}",
         "name": "tenure_months",
         "type": "\"integer\""
        },
        {
         "metadata": "{}",
         "name": "job_experience_years",
         "type": "\"integer\""
        },
        {
         "metadata": "{}",
         "name": "rnk",
         "type": "\"integer\""
        }
       ],
       "type": "table"
      }
     },
     "output_type": "display_data"
    }
   ],
   "source": [
    "%sql\n",
    "--  dense rank\n",
    "SELECT *, dense_rank() OVER (PARTITION BY department_id ORDER BY salary DESC) AS rnk\n",
    "FROM employee_data"
   ]
  },
  {
   "cell_type": "code",
   "execution_count": 0,
   "metadata": {
    "application/vnd.databricks.v1+cell": {
     "cellMetadata": {
      "byteLimit": 2048000,
      "rowLimit": 10000
     },
     "inputWidgets": {},
     "nuid": "1b7beedf-c82e-4fb3-94cc-87e1d06734f2",
     "showTitle": false,
     "title": ""
    }
   },
   "outputs": [
    {
     "output_type": "display_data",
     "data": {
      "text/html": [
       "<style scoped>\n",
       "  .table-result-container {\n",
       "    max-height: 300px;\n",
       "    overflow: auto;\n",
       "  }\n",
       "  table, th, td {\n",
       "    border: 1px solid black;\n",
       "    border-collapse: collapse;\n",
       "  }\n",
       "  th, td {\n",
       "    padding: 5px;\n",
       "  }\n",
       "  th {\n",
       "    text-align: left;\n",
       "  }\n",
       "</style><div class='table-result-container'><table class='table-result'><thead style='background-color: white'><tr><th>employee_id</th><th>department_id</th><th>position</th><th>salary</th><th>tenure_months</th><th>job_experience_years</th><th>running_salary</th></tr></thead><tbody><tr><td>1</td><td>101</td><td>Software Engineer</td><td>90000</td><td>24</td><td>2</td><td>90000</td></tr><tr><td>6</td><td>101</td><td>Software Engineer</td><td>80000</td><td>30</td><td>4</td><td>170000</td></tr><tr><td>3</td><td>101</td><td>Project Manager</td><td>90000</td><td>36</td><td>5</td><td>260000</td></tr><tr><td>2</td><td>102</td><td>Data Analyst</td><td>60000</td><td>18</td><td>1</td><td>60000</td></tr><tr><td>5</td><td>102</td><td>Business Analyst</td><td>70000</td><td>22</td><td>2</td><td>130000</td></tr><tr><td>8</td><td>102</td><td>Data Scientist</td><td>100000</td><td>48</td><td>8</td><td>230000</td></tr><tr><td>4</td><td>103</td><td>UX Designer</td><td>75000</td><td>27</td><td>3</td><td>75000</td></tr><tr><td>7</td><td>103</td><td>Product Manager</td><td>95000</td><td>42</td><td>7</td><td>170000</td></tr></tbody></table></div>"
      ]
     },
     "metadata": {
      "application/vnd.databricks.v1+output": {
       "addedWidgets": {},
       "aggData": [],
       "aggError": "",
       "aggOverflow": false,
       "aggSchema": [],
       "aggSeriesLimitReached": false,
       "aggType": "",
       "arguments": {},
       "columnCustomDisplayInfos": {},
       "data": [
        [
         1,
         101,
         "Software Engineer",
         90000,
         24,
         2,
         90000
        ],
        [
         6,
         101,
         "Software Engineer",
         80000,
         30,
         4,
         170000
        ],
        [
         3,
         101,
         "Project Manager",
         90000,
         36,
         5,
         260000
        ],
        [
         2,
         102,
         "Data Analyst",
         60000,
         18,
         1,
         60000
        ],
        [
         5,
         102,
         "Business Analyst",
         70000,
         22,
         2,
         130000
        ],
        [
         8,
         102,
         "Data Scientist",
         100000,
         48,
         8,
         230000
        ],
        [
         4,
         103,
         "UX Designer",
         75000,
         27,
         3,
         75000
        ],
        [
         7,
         103,
         "Product Manager",
         95000,
         42,
         7,
         170000
        ]
       ],
       "datasetInfos": [],
       "dbfsResultPath": null,
       "isJsonSchema": true,
       "metadata": {
        "isDbfsCommandResult": false
       },
       "overflow": false,
       "plotOptions": {
        "customPlotOptions": {},
        "displayType": "table",
        "pivotAggregation": null,
        "pivotColumns": null,
        "xColumns": null,
        "yColumns": null
       },
       "removedWidgets": [],
       "schema": [
        {
         "metadata": "{}",
         "name": "employee_id",
         "type": "\"integer\""
        },
        {
         "metadata": "{}",
         "name": "department_id",
         "type": "\"integer\""
        },
        {
         "metadata": "{\"__CHAR_VARCHAR_TYPE_STRING\":\"varchar(50)\"}",
         "name": "position",
         "type": "\"string\""
        },
        {
         "metadata": "{}",
         "name": "salary",
         "type": "\"integer\""
        },
        {
         "metadata": "{}",
         "name": "tenure_months",
         "type": "\"integer\""
        },
        {
         "metadata": "{}",
         "name": "job_experience_years",
         "type": "\"integer\""
        },
        {
         "metadata": "{}",
         "name": "running_salary",
         "type": "\"long\""
        }
       ],
       "type": "table"
      }
     },
     "output_type": "display_data"
    }
   ],
   "source": [
    "%sql\n",
    "-- sum(running salary)\n",
    "SELECT *,SUM(salary) OVER (PARTITION BY department_id ORDER BY tenure_months) AS running_salary\n",
    "FROM employee_data "
   ]
  },
  {
   "cell_type": "code",
   "execution_count": 0,
   "metadata": {
    "application/vnd.databricks.v1+cell": {
     "cellMetadata": {
      "byteLimit": 2048000,
      "rowLimit": 10000
     },
     "inputWidgets": {},
     "nuid": "c907dcb9-7a66-4a53-b92f-ee8dcfbfcabc",
     "showTitle": false,
     "title": ""
    }
   },
   "outputs": [
    {
     "output_type": "display_data",
     "data": {
      "text/html": [
       "<style scoped>\n",
       "  .table-result-container {\n",
       "    max-height: 300px;\n",
       "    overflow: auto;\n",
       "  }\n",
       "  table, th, td {\n",
       "    border: 1px solid black;\n",
       "    border-collapse: collapse;\n",
       "  }\n",
       "  th, td {\n",
       "    padding: 5px;\n",
       "  }\n",
       "  th {\n",
       "    text-align: left;\n",
       "  }\n",
       "</style><div class='table-result-container'><table class='table-result'><thead style='background-color: white'><tr><th>employee_id</th><th>department_id</th><th>position</th><th>salary</th><th>tenure_months</th><th>job_experience_years</th><th>avg_salary</th></tr></thead><tbody><tr><td>1</td><td>101</td><td>Software Engineer</td><td>90000</td><td>24</td><td>2</td><td>90000.0</td></tr><tr><td>6</td><td>101</td><td>Software Engineer</td><td>80000</td><td>30</td><td>4</td><td>85000.0</td></tr><tr><td>3</td><td>101</td><td>Project Manager</td><td>90000</td><td>36</td><td>5</td><td>86666.67</td></tr><tr><td>2</td><td>102</td><td>Data Analyst</td><td>60000</td><td>18</td><td>1</td><td>60000.0</td></tr><tr><td>5</td><td>102</td><td>Business Analyst</td><td>70000</td><td>22</td><td>2</td><td>65000.0</td></tr><tr><td>8</td><td>102</td><td>Data Scientist</td><td>100000</td><td>48</td><td>8</td><td>76666.67</td></tr><tr><td>4</td><td>103</td><td>UX Designer</td><td>75000</td><td>27</td><td>3</td><td>75000.0</td></tr><tr><td>7</td><td>103</td><td>Product Manager</td><td>95000</td><td>42</td><td>7</td><td>85000.0</td></tr></tbody></table></div>"
      ]
     },
     "metadata": {
      "application/vnd.databricks.v1+output": {
       "addedWidgets": {},
       "aggData": [],
       "aggError": "",
       "aggOverflow": false,
       "aggSchema": [],
       "aggSeriesLimitReached": false,
       "aggType": "",
       "arguments": {},
       "columnCustomDisplayInfos": {},
       "data": [
        [
         1,
         101,
         "Software Engineer",
         90000,
         24,
         2,
         90000.0
        ],
        [
         6,
         101,
         "Software Engineer",
         80000,
         30,
         4,
         85000.0
        ],
        [
         3,
         101,
         "Project Manager",
         90000,
         36,
         5,
         86666.67
        ],
        [
         2,
         102,
         "Data Analyst",
         60000,
         18,
         1,
         60000.0
        ],
        [
         5,
         102,
         "Business Analyst",
         70000,
         22,
         2,
         65000.0
        ],
        [
         8,
         102,
         "Data Scientist",
         100000,
         48,
         8,
         76666.67
        ],
        [
         4,
         103,
         "UX Designer",
         75000,
         27,
         3,
         75000.0
        ],
        [
         7,
         103,
         "Product Manager",
         95000,
         42,
         7,
         85000.0
        ]
       ],
       "datasetInfos": [],
       "dbfsResultPath": null,
       "isJsonSchema": true,
       "metadata": {
        "isDbfsCommandResult": false
       },
       "overflow": false,
       "plotOptions": {
        "customPlotOptions": {},
        "displayType": "table",
        "pivotAggregation": null,
        "pivotColumns": null,
        "xColumns": null,
        "yColumns": null
       },
       "removedWidgets": [],
       "schema": [
        {
         "metadata": "{}",
         "name": "employee_id",
         "type": "\"integer\""
        },
        {
         "metadata": "{}",
         "name": "department_id",
         "type": "\"integer\""
        },
        {
         "metadata": "{\"__CHAR_VARCHAR_TYPE_STRING\":\"varchar(50)\"}",
         "name": "position",
         "type": "\"string\""
        },
        {
         "metadata": "{}",
         "name": "salary",
         "type": "\"integer\""
        },
        {
         "metadata": "{}",
         "name": "tenure_months",
         "type": "\"integer\""
        },
        {
         "metadata": "{}",
         "name": "job_experience_years",
         "type": "\"integer\""
        },
        {
         "metadata": "{}",
         "name": "avg_salary",
         "type": "\"double\""
        }
       ],
       "type": "table"
      }
     },
     "output_type": "display_data"
    }
   ],
   "source": [
    "%sql\n",
    "-- RUNNING AVERAGE\n",
    "SELECT *, ROUND(AVG(salary) OVER (PARTITION BY department_id ORDER BY tenure_months),2) AS avg_salary\n",
    "FROM employee_data"
   ]
  },
  {
   "cell_type": "code",
   "execution_count": 0,
   "metadata": {
    "application/vnd.databricks.v1+cell": {
     "cellMetadata": {
      "byteLimit": 2048000,
      "rowLimit": 10000
     },
     "inputWidgets": {},
     "nuid": "3d38eba3-1064-4866-b0c4-9c198f1a36c1",
     "showTitle": false,
     "title": ""
    }
   },
   "outputs": [
    {
     "output_type": "display_data",
     "data": {
      "text/html": [
       "<style scoped>\n",
       "  .table-result-container {\n",
       "    max-height: 300px;\n",
       "    overflow: auto;\n",
       "  }\n",
       "  table, th, td {\n",
       "    border: 1px solid black;\n",
       "    border-collapse: collapse;\n",
       "  }\n",
       "  th, td {\n",
       "    padding: 5px;\n",
       "  }\n",
       "  th {\n",
       "    text-align: left;\n",
       "  }\n",
       "</style><div class='table-result-container'><table class='table-result'><thead style='background-color: white'><tr><th>employee_id</th><th>department_id</th><th>position</th><th>salary</th><th>tenure_months</th><th>job_experience_years</th><th>first_tenure_salary</th><th>last_tenure_salary</th></tr></thead><tbody><tr><td>1</td><td>101</td><td>Software Engineer</td><td>90000</td><td>24</td><td>2</td><td>90000</td><td>90000</td></tr><tr><td>6</td><td>101</td><td>Software Engineer</td><td>80000</td><td>30</td><td>4</td><td>90000</td><td>80000</td></tr><tr><td>3</td><td>101</td><td>Project Manager</td><td>90000</td><td>36</td><td>5</td><td>90000</td><td>90000</td></tr><tr><td>2</td><td>102</td><td>Data Analyst</td><td>60000</td><td>18</td><td>1</td><td>60000</td><td>60000</td></tr><tr><td>5</td><td>102</td><td>Business Analyst</td><td>70000</td><td>22</td><td>2</td><td>60000</td><td>70000</td></tr><tr><td>8</td><td>102</td><td>Data Scientist</td><td>100000</td><td>48</td><td>8</td><td>60000</td><td>100000</td></tr><tr><td>4</td><td>103</td><td>UX Designer</td><td>75000</td><td>27</td><td>3</td><td>75000</td><td>75000</td></tr><tr><td>7</td><td>103</td><td>Product Manager</td><td>95000</td><td>42</td><td>7</td><td>75000</td><td>95000</td></tr></tbody></table></div>"
      ]
     },
     "metadata": {
      "application/vnd.databricks.v1+output": {
       "addedWidgets": {},
       "aggData": [],
       "aggError": "",
       "aggOverflow": false,
       "aggSchema": [],
       "aggSeriesLimitReached": false,
       "aggType": "",
       "arguments": {},
       "columnCustomDisplayInfos": {},
       "data": [
        [
         1,
         101,
         "Software Engineer",
         90000,
         24,
         2,
         90000,
         90000
        ],
        [
         6,
         101,
         "Software Engineer",
         80000,
         30,
         4,
         90000,
         80000
        ],
        [
         3,
         101,
         "Project Manager",
         90000,
         36,
         5,
         90000,
         90000
        ],
        [
         2,
         102,
         "Data Analyst",
         60000,
         18,
         1,
         60000,
         60000
        ],
        [
         5,
         102,
         "Business Analyst",
         70000,
         22,
         2,
         60000,
         70000
        ],
        [
         8,
         102,
         "Data Scientist",
         100000,
         48,
         8,
         60000,
         100000
        ],
        [
         4,
         103,
         "UX Designer",
         75000,
         27,
         3,
         75000,
         75000
        ],
        [
         7,
         103,
         "Product Manager",
         95000,
         42,
         7,
         75000,
         95000
        ]
       ],
       "datasetInfos": [],
       "dbfsResultPath": null,
       "isJsonSchema": true,
       "metadata": {
        "isDbfsCommandResult": false
       },
       "overflow": false,
       "plotOptions": {
        "customPlotOptions": {},
        "displayType": "table",
        "pivotAggregation": null,
        "pivotColumns": null,
        "xColumns": null,
        "yColumns": null
       },
       "removedWidgets": [],
       "schema": [
        {
         "metadata": "{}",
         "name": "employee_id",
         "type": "\"integer\""
        },
        {
         "metadata": "{}",
         "name": "department_id",
         "type": "\"integer\""
        },
        {
         "metadata": "{\"__CHAR_VARCHAR_TYPE_STRING\":\"varchar(50)\"}",
         "name": "position",
         "type": "\"string\""
        },
        {
         "metadata": "{}",
         "name": "salary",
         "type": "\"integer\""
        },
        {
         "metadata": "{}",
         "name": "tenure_months",
         "type": "\"integer\""
        },
        {
         "metadata": "{}",
         "name": "job_experience_years",
         "type": "\"integer\""
        },
        {
         "metadata": "{}",
         "name": "first_tenure_salary",
         "type": "\"integer\""
        },
        {
         "metadata": "{}",
         "name": "last_tenure_salary",
         "type": "\"integer\""
        }
       ],
       "type": "table"
      }
     },
     "output_type": "display_data"
    }
   ],
   "source": [
    "%sql\n",
    "-- FIRST_VALUE\n",
    "SELECT *, first_value(salary) OVER (PARTITION BY department_id ORDER BY tenure_months) AS first_tenure_salary,\n",
    "        last_value(salary) OVER (PARTITION BY department_id ORDER BY tenure_months) AS last_tenure_salary\n",
    "FROM employee_data"
   ]
  },
  {
   "cell_type": "code",
   "execution_count": 0,
   "metadata": {
    "application/vnd.databricks.v1+cell": {
     "cellMetadata": {
      "byteLimit": 2048000,
      "rowLimit": 10000
     },
     "inputWidgets": {},
     "nuid": "19ed8298-6bc7-436e-8f67-1754fc0e798b",
     "showTitle": false,
     "title": ""
    }
   },
   "outputs": [
    {
     "output_type": "display_data",
     "data": {
      "text/html": [
       "<style scoped>\n",
       "  .table-result-container {\n",
       "    max-height: 300px;\n",
       "    overflow: auto;\n",
       "  }\n",
       "  table, th, td {\n",
       "    border: 1px solid black;\n",
       "    border-collapse: collapse;\n",
       "  }\n",
       "  th, td {\n",
       "    padding: 5px;\n",
       "  }\n",
       "  th {\n",
       "    text-align: left;\n",
       "  }\n",
       "</style><div class='table-result-container'><table class='table-result'><thead style='background-color: white'><tr><th>employee_id</th><th>department_id</th><th>position</th><th>salary</th><th>tenure_months</th><th>job_experience_years</th><th>lead_salary</th></tr></thead><tbody><tr><td>1</td><td>101</td><td>Software Engineer</td><td>90000</td><td>24</td><td>2</td><td>80000</td></tr><tr><td>6</td><td>101</td><td>Software Engineer</td><td>80000</td><td>30</td><td>4</td><td>90000</td></tr><tr><td>3</td><td>101</td><td>Project Manager</td><td>90000</td><td>36</td><td>5</td><td>null</td></tr><tr><td>2</td><td>102</td><td>Data Analyst</td><td>60000</td><td>18</td><td>1</td><td>70000</td></tr><tr><td>5</td><td>102</td><td>Business Analyst</td><td>70000</td><td>22</td><td>2</td><td>100000</td></tr><tr><td>8</td><td>102</td><td>Data Scientist</td><td>100000</td><td>48</td><td>8</td><td>null</td></tr><tr><td>4</td><td>103</td><td>UX Designer</td><td>75000</td><td>27</td><td>3</td><td>95000</td></tr><tr><td>7</td><td>103</td><td>Product Manager</td><td>95000</td><td>42</td><td>7</td><td>null</td></tr></tbody></table></div>"
      ]
     },
     "metadata": {
      "application/vnd.databricks.v1+output": {
       "addedWidgets": {},
       "aggData": [],
       "aggError": "",
       "aggOverflow": false,
       "aggSchema": [],
       "aggSeriesLimitReached": false,
       "aggType": "",
       "arguments": {},
       "columnCustomDisplayInfos": {},
       "data": [
        [
         1,
         101,
         "Software Engineer",
         90000,
         24,
         2,
         80000
        ],
        [
         6,
         101,
         "Software Engineer",
         80000,
         30,
         4,
         90000
        ],
        [
         3,
         101,
         "Project Manager",
         90000,
         36,
         5,
         null
        ],
        [
         2,
         102,
         "Data Analyst",
         60000,
         18,
         1,
         70000
        ],
        [
         5,
         102,
         "Business Analyst",
         70000,
         22,
         2,
         100000
        ],
        [
         8,
         102,
         "Data Scientist",
         100000,
         48,
         8,
         null
        ],
        [
         4,
         103,
         "UX Designer",
         75000,
         27,
         3,
         95000
        ],
        [
         7,
         103,
         "Product Manager",
         95000,
         42,
         7,
         null
        ]
       ],
       "datasetInfos": [],
       "dbfsResultPath": null,
       "isJsonSchema": true,
       "metadata": {
        "isDbfsCommandResult": false
       },
       "overflow": false,
       "plotOptions": {
        "customPlotOptions": {},
        "displayType": "table",
        "pivotAggregation": null,
        "pivotColumns": null,
        "xColumns": null,
        "yColumns": null
       },
       "removedWidgets": [],
       "schema": [
        {
         "metadata": "{}",
         "name": "employee_id",
         "type": "\"integer\""
        },
        {
         "metadata": "{}",
         "name": "department_id",
         "type": "\"integer\""
        },
        {
         "metadata": "{\"__CHAR_VARCHAR_TYPE_STRING\":\"varchar(50)\"}",
         "name": "position",
         "type": "\"string\""
        },
        {
         "metadata": "{}",
         "name": "salary",
         "type": "\"integer\""
        },
        {
         "metadata": "{}",
         "name": "tenure_months",
         "type": "\"integer\""
        },
        {
         "metadata": "{}",
         "name": "job_experience_years",
         "type": "\"integer\""
        },
        {
         "metadata": "{}",
         "name": "lead_salary",
         "type": "\"integer\""
        }
       ],
       "type": "table"
      }
     },
     "output_type": "display_data"
    }
   ],
   "source": [
    "%sql\n",
    "-- LEAD\n",
    "SELECT *, lead(salary) OVER (PARTITION BY department_id ORDER BY tenure_months) AS lead_salary\n",
    "FROM employee_data"
   ]
  },
  {
   "cell_type": "code",
   "execution_count": 0,
   "metadata": {
    "application/vnd.databricks.v1+cell": {
     "cellMetadata": {
      "byteLimit": 2048000,
      "rowLimit": 10000
     },
     "inputWidgets": {},
     "nuid": "cd40f2f1-6a29-43c9-a6f2-03ced6f7fd8d",
     "showTitle": false,
     "title": ""
    }
   },
   "outputs": [
    {
     "output_type": "display_data",
     "data": {
      "text/html": [
       "<style scoped>\n",
       "  .table-result-container {\n",
       "    max-height: 300px;\n",
       "    overflow: auto;\n",
       "  }\n",
       "  table, th, td {\n",
       "    border: 1px solid black;\n",
       "    border-collapse: collapse;\n",
       "  }\n",
       "  th, td {\n",
       "    padding: 5px;\n",
       "  }\n",
       "  th {\n",
       "    text-align: left;\n",
       "  }\n",
       "</style><div class='table-result-container'><table class='table-result'><thead style='background-color: white'><tr><th>employee_id</th><th>department_id</th><th>position</th><th>salary</th><th>tenure_months</th><th>job_experience_years</th><th>LAG_salary</th></tr></thead><tbody><tr><td>1</td><td>101</td><td>Software Engineer</td><td>90000</td><td>24</td><td>2</td><td>null</td></tr><tr><td>6</td><td>101</td><td>Software Engineer</td><td>80000</td><td>30</td><td>4</td><td>90000</td></tr><tr><td>3</td><td>101</td><td>Project Manager</td><td>90000</td><td>36</td><td>5</td><td>80000</td></tr><tr><td>2</td><td>102</td><td>Data Analyst</td><td>60000</td><td>18</td><td>1</td><td>null</td></tr><tr><td>5</td><td>102</td><td>Business Analyst</td><td>70000</td><td>22</td><td>2</td><td>60000</td></tr><tr><td>8</td><td>102</td><td>Data Scientist</td><td>100000</td><td>48</td><td>8</td><td>70000</td></tr><tr><td>4</td><td>103</td><td>UX Designer</td><td>75000</td><td>27</td><td>3</td><td>null</td></tr><tr><td>7</td><td>103</td><td>Product Manager</td><td>95000</td><td>42</td><td>7</td><td>75000</td></tr></tbody></table></div>"
      ]
     },
     "metadata": {
      "application/vnd.databricks.v1+output": {
       "addedWidgets": {},
       "aggData": [],
       "aggError": "",
       "aggOverflow": false,
       "aggSchema": [],
       "aggSeriesLimitReached": false,
       "aggType": "",
       "arguments": {},
       "columnCustomDisplayInfos": {},
       "data": [
        [
         1,
         101,
         "Software Engineer",
         90000,
         24,
         2,
         null
        ],
        [
         6,
         101,
         "Software Engineer",
         80000,
         30,
         4,
         90000
        ],
        [
         3,
         101,
         "Project Manager",
         90000,
         36,
         5,
         80000
        ],
        [
         2,
         102,
         "Data Analyst",
         60000,
         18,
         1,
         null
        ],
        [
         5,
         102,
         "Business Analyst",
         70000,
         22,
         2,
         60000
        ],
        [
         8,
         102,
         "Data Scientist",
         100000,
         48,
         8,
         70000
        ],
        [
         4,
         103,
         "UX Designer",
         75000,
         27,
         3,
         null
        ],
        [
         7,
         103,
         "Product Manager",
         95000,
         42,
         7,
         75000
        ]
       ],
       "datasetInfos": [],
       "dbfsResultPath": null,
       "isJsonSchema": true,
       "metadata": {
        "isDbfsCommandResult": false
       },
       "overflow": false,
       "plotOptions": {
        "customPlotOptions": {},
        "displayType": "table",
        "pivotAggregation": null,
        "pivotColumns": null,
        "xColumns": null,
        "yColumns": null
       },
       "removedWidgets": [],
       "schema": [
        {
         "metadata": "{}",
         "name": "employee_id",
         "type": "\"integer\""
        },
        {
         "metadata": "{}",
         "name": "department_id",
         "type": "\"integer\""
        },
        {
         "metadata": "{\"__CHAR_VARCHAR_TYPE_STRING\":\"varchar(50)\"}",
         "name": "position",
         "type": "\"string\""
        },
        {
         "metadata": "{}",
         "name": "salary",
         "type": "\"integer\""
        },
        {
         "metadata": "{}",
         "name": "tenure_months",
         "type": "\"integer\""
        },
        {
         "metadata": "{}",
         "name": "job_experience_years",
         "type": "\"integer\""
        },
        {
         "metadata": "{}",
         "name": "LAG_salary",
         "type": "\"integer\""
        }
       ],
       "type": "table"
      }
     },
     "output_type": "display_data"
    }
   ],
   "source": [
    "%sql\n",
    "-- LAG\n",
    "SELECT *, LAG(salary) OVER (PARTITION BY department_id ORDER BY tenure_months) AS LAG_salary\n",
    "FROM employee_data"
   ]
  },
  {
   "cell_type": "code",
   "execution_count": 0,
   "metadata": {
    "application/vnd.databricks.v1+cell": {
     "cellMetadata": {
      "byteLimit": 2048000,
      "rowLimit": 10000
     },
     "inputWidgets": {},
     "nuid": "fb227c59-1d55-403f-b03b-6d1e3c644824",
     "showTitle": false,
     "title": ""
    }
   },
   "outputs": [
    {
     "output_type": "display_data",
     "data": {
      "text/html": [
       "<style scoped>\n",
       "  .table-result-container {\n",
       "    max-height: 300px;\n",
       "    overflow: auto;\n",
       "  }\n",
       "  table, th, td {\n",
       "    border: 1px solid black;\n",
       "    border-collapse: collapse;\n",
       "  }\n",
       "  th, td {\n",
       "    padding: 5px;\n",
       "  }\n",
       "  th {\n",
       "    text-align: left;\n",
       "  }\n",
       "</style><div class='table-result-container'><table class='table-result'><thead style='background-color: white'><tr></tr></thead><tbody></tbody></table></div>"
      ]
     },
     "metadata": {
      "application/vnd.databricks.v1+output": {
       "addedWidgets": {},
       "aggData": [],
       "aggError": "",
       "aggOverflow": false,
       "aggSchema": [],
       "aggSeriesLimitReached": false,
       "aggType": "",
       "arguments": {},
       "columnCustomDisplayInfos": {},
       "data": [],
       "datasetInfos": [],
       "dbfsResultPath": null,
       "isJsonSchema": true,
       "metadata": {
        "isDbfsCommandResult": false
       },
       "overflow": false,
       "plotOptions": {
        "customPlotOptions": {},
        "displayType": "table",
        "pivotAggregation": null,
        "pivotColumns": null,
        "xColumns": null,
        "yColumns": null
       },
       "removedWidgets": [],
       "schema": [],
       "type": "table"
      }
     },
     "output_type": "display_data"
    }
   ],
   "source": [
    "%sql\n",
    "CREATE TABLE employees (\n",
    "  employee_id INT,\n",
    "  employee_name STRING,\n",
    "  department STRING,\n",
    "  salary DOUBLE\n",
    ");"
   ]
  },
  {
   "cell_type": "code",
   "execution_count": 0,
   "metadata": {
    "application/vnd.databricks.v1+cell": {
     "cellMetadata": {
      "byteLimit": 2048000,
      "rowLimit": 10000
     },
     "inputWidgets": {},
     "nuid": "9a63add4-77b7-4c39-89ad-f5fd5a05dcb9",
     "showTitle": false,
     "title": ""
    }
   },
   "outputs": [
    {
     "output_type": "display_data",
     "data": {
      "text/html": [
       "<style scoped>\n",
       "  .table-result-container {\n",
       "    max-height: 300px;\n",
       "    overflow: auto;\n",
       "  }\n",
       "  table, th, td {\n",
       "    border: 1px solid black;\n",
       "    border-collapse: collapse;\n",
       "  }\n",
       "  th, td {\n",
       "    padding: 5px;\n",
       "  }\n",
       "  th {\n",
       "    text-align: left;\n",
       "  }\n",
       "</style><div class='table-result-container'><table class='table-result'><thead style='background-color: white'><tr><th>num_affected_rows</th><th>num_inserted_rows</th></tr></thead><tbody><tr><td>15</td><td>15</td></tr></tbody></table></div>"
      ]
     },
     "metadata": {
      "application/vnd.databricks.v1+output": {
       "addedWidgets": {},
       "aggData": [],
       "aggError": "",
       "aggOverflow": false,
       "aggSchema": [],
       "aggSeriesLimitReached": false,
       "aggType": "",
       "arguments": {},
       "columnCustomDisplayInfos": {},
       "data": [
        [
         15,
         15
        ]
       ],
       "datasetInfos": [],
       "dbfsResultPath": null,
       "isJsonSchema": true,
       "metadata": {
        "isDbfsCommandResult": false
       },
       "overflow": false,
       "plotOptions": {
        "customPlotOptions": {},
        "displayType": "table",
        "pivotAggregation": null,
        "pivotColumns": null,
        "xColumns": null,
        "yColumns": null
       },
       "removedWidgets": [],
       "schema": [
        {
         "metadata": "{}",
         "name": "num_affected_rows",
         "type": "\"long\""
        },
        {
         "metadata": "{}",
         "name": "num_inserted_rows",
         "type": "\"long\""
        }
       ],
       "type": "table"
      }
     },
     "output_type": "display_data"
    }
   ],
   "source": [
    "%sql\n",
    "INSERT INTO employees VALUES\n",
    "  (6, 'Eva Green', 'HR', 52000),\n",
    "  (7, 'Sam Johnson', 'Marketing', 59000),\n",
    "  (8, 'Alex Turner', 'IT', 63000),\n",
    "  (9, 'Sophie Walker', 'Finance', 72000),\n",
    "  (10, 'David Clark', 'IT', 60000),\n",
    "  (11, 'Olivia King', 'Marketing', 56000),\n",
    "  (12, 'Michael Baker', 'HR', 48000),\n",
    "  (13, 'Emma White', 'Finance', 68000),\n",
    "  (14, 'Daniel Smith', 'IT', 65000),\n",
    "  (15, 'Grace Taylor', 'HR', 50000),\n",
    "  (16, 'Liam Wilson', 'Marketing', 58000),\n",
    "  (17, 'Ava Hall', 'IT', 61000),\n",
    "  (18, 'Mia Adams', 'Finance', 70000),\n",
    "  (19, 'Noah Moore', 'IT', 64000),\n",
    "  (20, 'Isabella Davis', 'Marketing', 57000);"
   ]
  },
  {
   "cell_type": "code",
   "execution_count": 0,
   "metadata": {
    "application/vnd.databricks.v1+cell": {
     "cellMetadata": {
      "byteLimit": 2048000,
      "rowLimit": 10000
     },
     "inputWidgets": {},
     "nuid": "f37120a6-123f-4083-9506-3fccc704279b",
     "showTitle": false,
     "title": ""
    }
   },
   "outputs": [
    {
     "output_type": "display_data",
     "data": {
      "text/html": [
       "<style scoped>\n",
       "  .table-result-container {\n",
       "    max-height: 300px;\n",
       "    overflow: auto;\n",
       "  }\n",
       "  table, th, td {\n",
       "    border: 1px solid black;\n",
       "    border-collapse: collapse;\n",
       "  }\n",
       "  th, td {\n",
       "    padding: 5px;\n",
       "  }\n",
       "  th {\n",
       "    text-align: left;\n",
       "  }\n",
       "</style><div class='table-result-container'><table class='table-result'><thead style='background-color: white'><tr><th>employee_id</th><th>employee_name</th><th>department</th><th>salary</th></tr></thead><tbody><tr><td>6</td><td>Eva Green</td><td>HR</td><td>52000.0</td></tr><tr><td>7</td><td>Sam Johnson</td><td>Marketing</td><td>59000.0</td></tr><tr><td>8</td><td>Alex Turner</td><td>IT</td><td>63000.0</td></tr><tr><td>9</td><td>Sophie Walker</td><td>Finance</td><td>72000.0</td></tr><tr><td>10</td><td>David Clark</td><td>IT</td><td>60000.0</td></tr><tr><td>11</td><td>Olivia King</td><td>Marketing</td><td>56000.0</td></tr><tr><td>12</td><td>Michael Baker</td><td>HR</td><td>48000.0</td></tr><tr><td>13</td><td>Emma White</td><td>Finance</td><td>68000.0</td></tr><tr><td>14</td><td>Daniel Smith</td><td>IT</td><td>65000.0</td></tr><tr><td>15</td><td>Grace Taylor</td><td>HR</td><td>50000.0</td></tr><tr><td>16</td><td>Liam Wilson</td><td>Marketing</td><td>58000.0</td></tr><tr><td>17</td><td>Ava Hall</td><td>IT</td><td>61000.0</td></tr><tr><td>18</td><td>Mia Adams</td><td>Finance</td><td>70000.0</td></tr><tr><td>19</td><td>Noah Moore</td><td>IT</td><td>64000.0</td></tr><tr><td>20</td><td>Isabella Davis</td><td>Marketing</td><td>57000.0</td></tr></tbody></table></div>"
      ]
     },
     "metadata": {
      "application/vnd.databricks.v1+output": {
       "addedWidgets": {},
       "aggData": [],
       "aggError": "",
       "aggOverflow": false,
       "aggSchema": [],
       "aggSeriesLimitReached": false,
       "aggType": "",
       "arguments": {},
       "columnCustomDisplayInfos": {},
       "data": [
        [
         6,
         "Eva Green",
         "HR",
         52000.0
        ],
        [
         7,
         "Sam Johnson",
         "Marketing",
         59000.0
        ],
        [
         8,
         "Alex Turner",
         "IT",
         63000.0
        ],
        [
         9,
         "Sophie Walker",
         "Finance",
         72000.0
        ],
        [
         10,
         "David Clark",
         "IT",
         60000.0
        ],
        [
         11,
         "Olivia King",
         "Marketing",
         56000.0
        ],
        [
         12,
         "Michael Baker",
         "HR",
         48000.0
        ],
        [
         13,
         "Emma White",
         "Finance",
         68000.0
        ],
        [
         14,
         "Daniel Smith",
         "IT",
         65000.0
        ],
        [
         15,
         "Grace Taylor",
         "HR",
         50000.0
        ],
        [
         16,
         "Liam Wilson",
         "Marketing",
         58000.0
        ],
        [
         17,
         "Ava Hall",
         "IT",
         61000.0
        ],
        [
         18,
         "Mia Adams",
         "Finance",
         70000.0
        ],
        [
         19,
         "Noah Moore",
         "IT",
         64000.0
        ],
        [
         20,
         "Isabella Davis",
         "Marketing",
         57000.0
        ]
       ],
       "datasetInfos": [],
       "dbfsResultPath": null,
       "isJsonSchema": true,
       "metadata": {
        "isDbfsCommandResult": false
       },
       "overflow": false,
       "plotOptions": {
        "customPlotOptions": {},
        "displayType": "table",
        "pivotAggregation": null,
        "pivotColumns": null,
        "xColumns": null,
        "yColumns": null
       },
       "removedWidgets": [],
       "schema": [
        {
         "metadata": "{}",
         "name": "employee_id",
         "type": "\"integer\""
        },
        {
         "metadata": "{}",
         "name": "employee_name",
         "type": "\"string\""
        },
        {
         "metadata": "{}",
         "name": "department",
         "type": "\"string\""
        },
        {
         "metadata": "{}",
         "name": "salary",
         "type": "\"double\""
        }
       ],
       "type": "table"
      }
     },
     "output_type": "display_data"
    }
   ],
   "source": [
    "%sql\n",
    "SELECT * FROM employees"
   ]
  },
  {
   "cell_type": "code",
   "execution_count": 0,
   "metadata": {
    "application/vnd.databricks.v1+cell": {
     "cellMetadata": {
      "byteLimit": 2048000,
      "rowLimit": 10000
     },
     "inputWidgets": {},
     "nuid": "bca6bf5e-aaf4-4fc2-89a8-115892e53bf7",
     "showTitle": false,
     "title": ""
    }
   },
   "outputs": [
    {
     "output_type": "display_data",
     "data": {
      "text/html": [
       "<style scoped>\n",
       "  .table-result-container {\n",
       "    max-height: 300px;\n",
       "    overflow: auto;\n",
       "  }\n",
       "  table, th, td {\n",
       "    border: 1px solid black;\n",
       "    border-collapse: collapse;\n",
       "  }\n",
       "  th, td {\n",
       "    padding: 5px;\n",
       "  }\n",
       "  th {\n",
       "    text-align: left;\n",
       "  }\n",
       "</style><div class='table-result-container'><table class='table-result'><thead style='background-color: white'><tr><th>employee_id</th><th>employee_name</th><th>department</th><th>salary</th></tr></thead><tbody><tr><td>8</td><td>Alex Turner</td><td>IT</td><td>63000.0</td></tr><tr><td>9</td><td>Sophie Walker</td><td>Finance</td><td>72000.0</td></tr><tr><td>13</td><td>Emma White</td><td>Finance</td><td>68000.0</td></tr><tr><td>14</td><td>Daniel Smith</td><td>IT</td><td>65000.0</td></tr><tr><td>17</td><td>Ava Hall</td><td>IT</td><td>61000.0</td></tr><tr><td>18</td><td>Mia Adams</td><td>Finance</td><td>70000.0</td></tr><tr><td>19</td><td>Noah Moore</td><td>IT</td><td>64000.0</td></tr></tbody></table></div>"
      ]
     },
     "metadata": {
      "application/vnd.databricks.v1+output": {
       "addedWidgets": {},
       "aggData": [],
       "aggError": "",
       "aggOverflow": false,
       "aggSchema": [],
       "aggSeriesLimitReached": false,
       "aggType": "",
       "arguments": {},
       "columnCustomDisplayInfos": {},
       "data": [
        [
         8,
         "Alex Turner",
         "IT",
         63000.0
        ],
        [
         9,
         "Sophie Walker",
         "Finance",
         72000.0
        ],
        [
         13,
         "Emma White",
         "Finance",
         68000.0
        ],
        [
         14,
         "Daniel Smith",
         "IT",
         65000.0
        ],
        [
         17,
         "Ava Hall",
         "IT",
         61000.0
        ],
        [
         18,
         "Mia Adams",
         "Finance",
         70000.0
        ],
        [
         19,
         "Noah Moore",
         "IT",
         64000.0
        ]
       ],
       "datasetInfos": [],
       "dbfsResultPath": null,
       "isJsonSchema": true,
       "metadata": {
        "isDbfsCommandResult": false
       },
       "overflow": false,
       "plotOptions": {
        "customPlotOptions": {},
        "displayType": "table",
        "pivotAggregation": null,
        "pivotColumns": null,
        "xColumns": null,
        "yColumns": null
       },
       "removedWidgets": [],
       "schema": [
        {
         "metadata": "{}",
         "name": "employee_id",
         "type": "\"integer\""
        },
        {
         "metadata": "{}",
         "name": "employee_name",
         "type": "\"string\""
        },
        {
         "metadata": "{}",
         "name": "department",
         "type": "\"string\""
        },
        {
         "metadata": "{}",
         "name": "salary",
         "type": "\"double\""
        }
       ],
       "type": "table"
      }
     },
     "output_type": "display_data"
    }
   ],
   "source": [
    "%sql\n",
    "-- Salary greater than 60000\n",
    "WITH salary_cte AS (\n",
    "  SELECT * FROM employees\n",
    "WHERE salary > 60000)\n",
    "\n",
    "SELECT * FROM salary_cte\n"
   ]
  },
  {
   "cell_type": "code",
   "execution_count": 0,
   "metadata": {
    "application/vnd.databricks.v1+cell": {
     "cellMetadata": {
      "byteLimit": 2048000,
      "rowLimit": 10000
     },
     "inputWidgets": {},
     "nuid": "8cbd1b58-6384-4e6a-b449-13bf177e3774",
     "showTitle": false,
     "title": ""
    }
   },
   "outputs": [
    {
     "output_type": "display_data",
     "data": {
      "text/html": [
       "<style scoped>\n",
       "  .table-result-container {\n",
       "    max-height: 300px;\n",
       "    overflow: auto;\n",
       "  }\n",
       "  table, th, td {\n",
       "    border: 1px solid black;\n",
       "    border-collapse: collapse;\n",
       "  }\n",
       "  th, td {\n",
       "    padding: 5px;\n",
       "  }\n",
       "  th {\n",
       "    text-align: left;\n",
       "  }\n",
       "</style><div class='table-result-container'><table class='table-result'><thead style='background-color: white'><tr><th>employee_id</th><th>employee_name</th><th>department</th><th>salary</th></tr></thead><tbody><tr><td>8</td><td>Alex Turner</td><td>IT</td><td>63000.0</td></tr><tr><td>10</td><td>David Clark</td><td>IT</td><td>60000.0</td></tr><tr><td>14</td><td>Daniel Smith</td><td>IT</td><td>65000.0</td></tr><tr><td>17</td><td>Ava Hall</td><td>IT</td><td>61000.0</td></tr><tr><td>19</td><td>Noah Moore</td><td>IT</td><td>64000.0</td></tr></tbody></table></div>"
      ]
     },
     "metadata": {
      "application/vnd.databricks.v1+output": {
       "addedWidgets": {},
       "aggData": [],
       "aggError": "",
       "aggOverflow": false,
       "aggSchema": [],
       "aggSeriesLimitReached": false,
       "aggType": "",
       "arguments": {},
       "columnCustomDisplayInfos": {},
       "data": [
        [
         8,
         "Alex Turner",
         "IT",
         63000.0
        ],
        [
         10,
         "David Clark",
         "IT",
         60000.0
        ],
        [
         14,
         "Daniel Smith",
         "IT",
         65000.0
        ],
        [
         17,
         "Ava Hall",
         "IT",
         61000.0
        ],
        [
         19,
         "Noah Moore",
         "IT",
         64000.0
        ]
       ],
       "datasetInfos": [],
       "dbfsResultPath": null,
       "isJsonSchema": true,
       "metadata": {
        "isDbfsCommandResult": false
       },
       "overflow": false,
       "plotOptions": {
        "customPlotOptions": {},
        "displayType": "table",
        "pivotAggregation": null,
        "pivotColumns": null,
        "xColumns": null,
        "yColumns": null
       },
       "removedWidgets": [],
       "schema": [
        {
         "metadata": "{}",
         "name": "employee_id",
         "type": "\"integer\""
        },
        {
         "metadata": "{}",
         "name": "employee_name",
         "type": "\"string\""
        },
        {
         "metadata": "{}",
         "name": "department",
         "type": "\"string\""
        },
        {
         "metadata": "{}",
         "name": "salary",
         "type": "\"double\""
        }
       ],
       "type": "table"
      }
     },
     "output_type": "display_data"
    }
   ],
   "source": [
    "%sql\n",
    "-- Retrieve information of employees working in IT\n",
    "WITH it_cte AS (SELECT * FROM employees WHERE department = 'IT')\n",
    "SELECT * FROM it_cte"
   ]
  },
  {
   "cell_type": "code",
   "execution_count": 0,
   "metadata": {
    "application/vnd.databricks.v1+cell": {
     "cellMetadata": {
      "byteLimit": 2048000,
      "rowLimit": 10000
     },
     "inputWidgets": {},
     "nuid": "c0958e9f-68a2-46c6-b058-1adad3dab7c1",
     "showTitle": false,
     "title": ""
    }
   },
   "outputs": [
    {
     "output_type": "display_data",
     "data": {
      "text/html": [
       "<style scoped>\n",
       "  .table-result-container {\n",
       "    max-height: 300px;\n",
       "    overflow: auto;\n",
       "  }\n",
       "  table, th, td {\n",
       "    border: 1px solid black;\n",
       "    border-collapse: collapse;\n",
       "  }\n",
       "  th, td {\n",
       "    padding: 5px;\n",
       "  }\n",
       "  th {\n",
       "    text-align: left;\n",
       "  }\n",
       "</style><div class='table-result-container'><table class='table-result'><thead style='background-color: white'><tr><th>employee_id</th><th>employee_name</th><th>department</th><th>salary</th><th>rank</th></tr></thead><tbody><tr><td>9</td><td>Sophie Walker</td><td>Finance</td><td>72000.0</td><td>1</td></tr><tr><td>18</td><td>Mia Adams</td><td>Finance</td><td>70000.0</td><td>2</td></tr><tr><td>13</td><td>Emma White</td><td>Finance</td><td>68000.0</td><td>3</td></tr></tbody></table></div>"
      ]
     },
     "metadata": {
      "application/vnd.databricks.v1+output": {
       "addedWidgets": {},
       "aggData": [],
       "aggError": "",
       "aggOverflow": false,
       "aggSchema": [],
       "aggSeriesLimitReached": false,
       "aggType": "",
       "arguments": {},
       "columnCustomDisplayInfos": {},
       "data": [
        [
         9,
         "Sophie Walker",
         "Finance",
         72000.0,
         1
        ],
        [
         18,
         "Mia Adams",
         "Finance",
         70000.0,
         2
        ],
        [
         13,
         "Emma White",
         "Finance",
         68000.0,
         3
        ]
       ],
       "datasetInfos": [],
       "dbfsResultPath": null,
       "isJsonSchema": true,
       "metadata": {
        "isDbfsCommandResult": false
       },
       "overflow": false,
       "plotOptions": {
        "customPlotOptions": {},
        "displayType": "table",
        "pivotAggregation": null,
        "pivotColumns": null,
        "xColumns": null,
        "yColumns": null
       },
       "removedWidgets": [],
       "schema": [
        {
         "metadata": "{}",
         "name": "employee_id",
         "type": "\"integer\""
        },
        {
         "metadata": "{}",
         "name": "employee_name",
         "type": "\"string\""
        },
        {
         "metadata": "{}",
         "name": "department",
         "type": "\"string\""
        },
        {
         "metadata": "{}",
         "name": "salary",
         "type": "\"double\""
        },
        {
         "metadata": "{}",
         "name": "rank",
         "type": "\"integer\""
        }
       ],
       "type": "table"
      }
     },
     "output_type": "display_data"
    }
   ],
   "source": [
    "%sql\n",
    "-- top 3 earners in company\n",
    "WITH cte AS (SELECT *,dense_rank() OVER (ORDER BY salary DESC) AS rank FROM employees)\n",
    "\n",
    "SELECT * FROM cte\n",
    "WHERE rank < 4"
   ]
  },
  {
   "cell_type": "code",
   "execution_count": 0,
   "metadata": {
    "application/vnd.databricks.v1+cell": {
     "cellMetadata": {
      "byteLimit": 2048000,
      "rowLimit": 10000
     },
     "inputWidgets": {},
     "nuid": "da912d69-f9f5-4290-8ac2-cf0df2838dad",
     "showTitle": false,
     "title": ""
    }
   },
   "outputs": [
    {
     "output_type": "display_data",
     "data": {
      "text/html": [
       "<style scoped>\n",
       "  .table-result-container {\n",
       "    max-height: 300px;\n",
       "    overflow: auto;\n",
       "  }\n",
       "  table, th, td {\n",
       "    border: 1px solid black;\n",
       "    border-collapse: collapse;\n",
       "  }\n",
       "  th, td {\n",
       "    padding: 5px;\n",
       "  }\n",
       "  th {\n",
       "    text-align: left;\n",
       "  }\n",
       "</style><div class='table-result-container'><table class='table-result'><thead style='background-color: white'><tr><th>employee_id</th><th>employee_name</th><th>department</th><th>salary</th><th>rank</th></tr></thead><tbody><tr><td>9</td><td>Sophie Walker</td><td>Finance</td><td>72000.0</td><td>1</td></tr><tr><td>18</td><td>Mia Adams</td><td>Finance</td><td>70000.0</td><td>2</td></tr><tr><td>13</td><td>Emma White</td><td>Finance</td><td>68000.0</td><td>3</td></tr><tr><td>6</td><td>Eva Green</td><td>HR</td><td>52000.0</td><td>1</td></tr><tr><td>15</td><td>Grace Taylor</td><td>HR</td><td>50000.0</td><td>2</td></tr><tr><td>12</td><td>Michael Baker</td><td>HR</td><td>48000.0</td><td>3</td></tr><tr><td>14</td><td>Daniel Smith</td><td>IT</td><td>65000.0</td><td>1</td></tr><tr><td>19</td><td>Noah Moore</td><td>IT</td><td>64000.0</td><td>2</td></tr><tr><td>8</td><td>Alex Turner</td><td>IT</td><td>63000.0</td><td>3</td></tr><tr><td>7</td><td>Sam Johnson</td><td>Marketing</td><td>59000.0</td><td>1</td></tr><tr><td>16</td><td>Liam Wilson</td><td>Marketing</td><td>58000.0</td><td>2</td></tr><tr><td>20</td><td>Isabella Davis</td><td>Marketing</td><td>57000.0</td><td>3</td></tr></tbody></table></div>"
      ]
     },
     "metadata": {
      "application/vnd.databricks.v1+output": {
       "addedWidgets": {},
       "aggData": [],
       "aggError": "",
       "aggOverflow": false,
       "aggSchema": [],
       "aggSeriesLimitReached": false,
       "aggType": "",
       "arguments": {},
       "columnCustomDisplayInfos": {},
       "data": [
        [
         9,
         "Sophie Walker",
         "Finance",
         72000.0,
         1
        ],
        [
         18,
         "Mia Adams",
         "Finance",
         70000.0,
         2
        ],
        [
         13,
         "Emma White",
         "Finance",
         68000.0,
         3
        ],
        [
         6,
         "Eva Green",
         "HR",
         52000.0,
         1
        ],
        [
         15,
         "Grace Taylor",
         "HR",
         50000.0,
         2
        ],
        [
         12,
         "Michael Baker",
         "HR",
         48000.0,
         3
        ],
        [
         14,
         "Daniel Smith",
         "IT",
         65000.0,
         1
        ],
        [
         19,
         "Noah Moore",
         "IT",
         64000.0,
         2
        ],
        [
         8,
         "Alex Turner",
         "IT",
         63000.0,
         3
        ],
        [
         7,
         "Sam Johnson",
         "Marketing",
         59000.0,
         1
        ],
        [
         16,
         "Liam Wilson",
         "Marketing",
         58000.0,
         2
        ],
        [
         20,
         "Isabella Davis",
         "Marketing",
         57000.0,
         3
        ]
       ],
       "datasetInfos": [],
       "dbfsResultPath": null,
       "isJsonSchema": true,
       "metadata": {
        "isDbfsCommandResult": false
       },
       "overflow": false,
       "plotOptions": {
        "customPlotOptions": {},
        "displayType": "table",
        "pivotAggregation": null,
        "pivotColumns": null,
        "xColumns": null,
        "yColumns": null
       },
       "removedWidgets": [],
       "schema": [
        {
         "metadata": "{}",
         "name": "employee_id",
         "type": "\"integer\""
        },
        {
         "metadata": "{}",
         "name": "employee_name",
         "type": "\"string\""
        },
        {
         "metadata": "{}",
         "name": "department",
         "type": "\"string\""
        },
        {
         "metadata": "{}",
         "name": "salary",
         "type": "\"double\""
        },
        {
         "metadata": "{}",
         "name": "rank",
         "type": "\"integer\""
        }
       ],
       "type": "table"
      }
     },
     "output_type": "display_data"
    }
   ],
   "source": [
    "%sql\n",
    "WITH cte AS (SELECT *,dense_rank() OVER (PARTITION BY department ORDER BY salary DESC) AS rank FROM employees)\n",
    "\n",
    "SELECT * FROM cte\n",
    "WHERE rank < 4"
   ]
  },
  {
   "cell_type": "code",
   "execution_count": 0,
   "metadata": {
    "application/vnd.databricks.v1+cell": {
     "cellMetadata": {
      "byteLimit": 2048000,
      "rowLimit": 10000
     },
     "inputWidgets": {},
     "nuid": "2edef89b-e712-430c-8097-d780bee01159",
     "showTitle": false,
     "title": ""
    }
   },
   "outputs": [
    {
     "output_type": "display_data",
     "data": {
      "text/html": [
       "<style scoped>\n",
       "  .table-result-container {\n",
       "    max-height: 300px;\n",
       "    overflow: auto;\n",
       "  }\n",
       "  table, th, td {\n",
       "    border: 1px solid black;\n",
       "    border-collapse: collapse;\n",
       "  }\n",
       "  th, td {\n",
       "    padding: 5px;\n",
       "  }\n",
       "  th {\n",
       "    text-align: left;\n",
       "  }\n",
       "</style><div class='table-result-container'><table class='table-result'><thead style='background-color: white'><tr><th>employee_id</th><th>employee_name</th><th>department</th><th>salary</th><th>avg_sal</th></tr></thead><tbody><tr><td>9</td><td>Sophie Walker</td><td>Finance</td><td>72000.0</td><td>70000.0</td></tr><tr><td>13</td><td>Emma White</td><td>Finance</td><td>68000.0</td><td>70000.0</td></tr><tr><td>18</td><td>Mia Adams</td><td>Finance</td><td>70000.0</td><td>70000.0</td></tr><tr><td>6</td><td>Eva Green</td><td>HR</td><td>52000.0</td><td>50000.0</td></tr><tr><td>12</td><td>Michael Baker</td><td>HR</td><td>48000.0</td><td>50000.0</td></tr><tr><td>15</td><td>Grace Taylor</td><td>HR</td><td>50000.0</td><td>50000.0</td></tr><tr><td>8</td><td>Alex Turner</td><td>IT</td><td>63000.0</td><td>62600.0</td></tr><tr><td>10</td><td>David Clark</td><td>IT</td><td>60000.0</td><td>62600.0</td></tr><tr><td>14</td><td>Daniel Smith</td><td>IT</td><td>65000.0</td><td>62600.0</td></tr><tr><td>17</td><td>Ava Hall</td><td>IT</td><td>61000.0</td><td>62600.0</td></tr><tr><td>19</td><td>Noah Moore</td><td>IT</td><td>64000.0</td><td>62600.0</td></tr><tr><td>7</td><td>Sam Johnson</td><td>Marketing</td><td>59000.0</td><td>57500.0</td></tr><tr><td>11</td><td>Olivia King</td><td>Marketing</td><td>56000.0</td><td>57500.0</td></tr><tr><td>16</td><td>Liam Wilson</td><td>Marketing</td><td>58000.0</td><td>57500.0</td></tr><tr><td>20</td><td>Isabella Davis</td><td>Marketing</td><td>57000.0</td><td>57500.0</td></tr></tbody></table></div>"
      ]
     },
     "metadata": {
      "application/vnd.databricks.v1+output": {
       "addedWidgets": {},
       "aggData": [],
       "aggError": "",
       "aggOverflow": false,
       "aggSchema": [],
       "aggSeriesLimitReached": false,
       "aggType": "",
       "arguments": {},
       "columnCustomDisplayInfos": {},
       "data": [
        [
         9,
         "Sophie Walker",
         "Finance",
         72000.0,
         70000.0
        ],
        [
         13,
         "Emma White",
         "Finance",
         68000.0,
         70000.0
        ],
        [
         18,
         "Mia Adams",
         "Finance",
         70000.0,
         70000.0
        ],
        [
         6,
         "Eva Green",
         "HR",
         52000.0,
         50000.0
        ],
        [
         12,
         "Michael Baker",
         "HR",
         48000.0,
         50000.0
        ],
        [
         15,
         "Grace Taylor",
         "HR",
         50000.0,
         50000.0
        ],
        [
         8,
         "Alex Turner",
         "IT",
         63000.0,
         62600.0
        ],
        [
         10,
         "David Clark",
         "IT",
         60000.0,
         62600.0
        ],
        [
         14,
         "Daniel Smith",
         "IT",
         65000.0,
         62600.0
        ],
        [
         17,
         "Ava Hall",
         "IT",
         61000.0,
         62600.0
        ],
        [
         19,
         "Noah Moore",
         "IT",
         64000.0,
         62600.0
        ],
        [
         7,
         "Sam Johnson",
         "Marketing",
         59000.0,
         57500.0
        ],
        [
         11,
         "Olivia King",
         "Marketing",
         56000.0,
         57500.0
        ],
        [
         16,
         "Liam Wilson",
         "Marketing",
         58000.0,
         57500.0
        ],
        [
         20,
         "Isabella Davis",
         "Marketing",
         57000.0,
         57500.0
        ]
       ],
       "datasetInfos": [],
       "dbfsResultPath": null,
       "isJsonSchema": true,
       "metadata": {
        "isDbfsCommandResult": false
       },
       "overflow": false,
       "plotOptions": {
        "customPlotOptions": {},
        "displayType": "table",
        "pivotAggregation": null,
        "pivotColumns": null,
        "xColumns": null,
        "yColumns": null
       },
       "removedWidgets": [],
       "schema": [
        {
         "metadata": "{}",
         "name": "employee_id",
         "type": "\"integer\""
        },
        {
         "metadata": "{}",
         "name": "employee_name",
         "type": "\"string\""
        },
        {
         "metadata": "{}",
         "name": "department",
         "type": "\"string\""
        },
        {
         "metadata": "{}",
         "name": "salary",
         "type": "\"double\""
        },
        {
         "metadata": "{}",
         "name": "avg_sal",
         "type": "\"double\""
        }
       ],
       "type": "table"
      }
     },
     "output_type": "display_data"
    }
   ],
   "source": [
    "%sql\n",
    "-- Summary of average salary for each department\n",
    "WITH avg_cte AS (SELECT *,avg(salary) OVER (PARTITION BY department) AS avg_sal FROM employees)\n",
    "SELECT * FROM avg_cte"
   ]
  },
  {
   "cell_type": "code",
   "execution_count": 0,
   "metadata": {
    "application/vnd.databricks.v1+cell": {
     "cellMetadata": {
      "byteLimit": 2048000,
      "rowLimit": 10000
     },
     "inputWidgets": {},
     "nuid": "d7cfe6bc-cef6-4c2e-87e7-647dbe48d8f2",
     "showTitle": false,
     "title": ""
    }
   },
   "outputs": [
    {
     "output_type": "display_data",
     "data": {
      "text/html": [
       "<style scoped>\n",
       "  .table-result-container {\n",
       "    max-height: 300px;\n",
       "    overflow: auto;\n",
       "  }\n",
       "  table, th, td {\n",
       "    border: 1px solid black;\n",
       "    border-collapse: collapse;\n",
       "  }\n",
       "  th, td {\n",
       "    padding: 5px;\n",
       "  }\n",
       "  th {\n",
       "    text-align: left;\n",
       "  }\n",
       "</style><div class='table-result-container'><table class='table-result'><thead style='background-color: white'><tr><th>employee_id</th><th>employee_name</th><th>department</th><th>salary</th><th>bonus</th><th>performance</th></tr></thead><tbody><tr><td>6</td><td>Eva Green</td><td>HR</td><td>52000.0</td><td>2600.0</td><td>intermediate performer</td></tr><tr><td>7</td><td>Sam Johnson</td><td>Marketing</td><td>59000.0</td><td>2950.0</td><td>intermediate performer</td></tr><tr><td>8</td><td>Alex Turner</td><td>IT</td><td>63000.0</td><td>6300.0</td><td>high performer</td></tr><tr><td>9</td><td>Sophie Walker</td><td>Finance</td><td>72000.0</td><td>7200.0</td><td>high performer</td></tr><tr><td>10</td><td>David Clark</td><td>IT</td><td>60000.0</td><td>3000.0</td><td>intermediate performer</td></tr><tr><td>11</td><td>Olivia King</td><td>Marketing</td><td>56000.0</td><td>2800.0</td><td>intermediate performer</td></tr><tr><td>12</td><td>Michael Baker</td><td>HR</td><td>48000.0</td><td>null</td><td>null</td></tr><tr><td>13</td><td>Emma White</td><td>Finance</td><td>68000.0</td><td>6800.0</td><td>high performer</td></tr><tr><td>14</td><td>Daniel Smith</td><td>IT</td><td>65000.0</td><td>6500.0</td><td>high performer</td></tr><tr><td>15</td><td>Grace Taylor</td><td>HR</td><td>50000.0</td><td>2500.0</td><td>intermediate performer</td></tr><tr><td>16</td><td>Liam Wilson</td><td>Marketing</td><td>58000.0</td><td>2900.0</td><td>intermediate performer</td></tr><tr><td>17</td><td>Ava Hall</td><td>IT</td><td>61000.0</td><td>6100.0</td><td>high performer</td></tr><tr><td>18</td><td>Mia Adams</td><td>Finance</td><td>70000.0</td><td>7000.0</td><td>high performer</td></tr><tr><td>19</td><td>Noah Moore</td><td>IT</td><td>64000.0</td><td>6400.0</td><td>high performer</td></tr><tr><td>20</td><td>Isabella Davis</td><td>Marketing</td><td>57000.0</td><td>2850.0</td><td>intermediate performer</td></tr></tbody></table></div>"
      ]
     },
     "metadata": {
      "application/vnd.databricks.v1+output": {
       "addedWidgets": {},
       "aggData": [],
       "aggError": "",
       "aggOverflow": false,
       "aggSchema": [],
       "aggSeriesLimitReached": false,
       "aggType": "",
       "arguments": {},
       "columnCustomDisplayInfos": {},
       "data": [
        [
         6,
         "Eva Green",
         "HR",
         52000.0,
         2600.0,
         "intermediate performer"
        ],
        [
         7,
         "Sam Johnson",
         "Marketing",
         59000.0,
         2950.0,
         "intermediate performer"
        ],
        [
         8,
         "Alex Turner",
         "IT",
         63000.0,
         6300.0,
         "high performer"
        ],
        [
         9,
         "Sophie Walker",
         "Finance",
         72000.0,
         7200.0,
         "high performer"
        ],
        [
         10,
         "David Clark",
         "IT",
         60000.0,
         3000.0,
         "intermediate performer"
        ],
        [
         11,
         "Olivia King",
         "Marketing",
         56000.0,
         2800.0,
         "intermediate performer"
        ],
        [
         12,
         "Michael Baker",
         "HR",
         48000.0,
         null,
         null
        ],
        [
         13,
         "Emma White",
         "Finance",
         68000.0,
         6800.0,
         "high performer"
        ],
        [
         14,
         "Daniel Smith",
         "IT",
         65000.0,
         6500.0,
         "high performer"
        ],
        [
         15,
         "Grace Taylor",
         "HR",
         50000.0,
         2500.0,
         "intermediate performer"
        ],
        [
         16,
         "Liam Wilson",
         "Marketing",
         58000.0,
         2900.0,
         "intermediate performer"
        ],
        [
         17,
         "Ava Hall",
         "IT",
         61000.0,
         6100.0,
         "high performer"
        ],
        [
         18,
         "Mia Adams",
         "Finance",
         70000.0,
         7000.0,
         "high performer"
        ],
        [
         19,
         "Noah Moore",
         "IT",
         64000.0,
         6400.0,
         "high performer"
        ],
        [
         20,
         "Isabella Davis",
         "Marketing",
         57000.0,
         2850.0,
         "intermediate performer"
        ]
       ],
       "datasetInfos": [],
       "dbfsResultPath": null,
       "isJsonSchema": true,
       "metadata": {
        "isDbfsCommandResult": false
       },
       "overflow": false,
       "plotOptions": {
        "customPlotOptions": {},
        "displayType": "table",
        "pivotAggregation": null,
        "pivotColumns": null,
        "xColumns": null,
        "yColumns": null
       },
       "removedWidgets": [],
       "schema": [
        {
         "metadata": "{}",
         "name": "employee_id",
         "type": "\"integer\""
        },
        {
         "metadata": "{}",
         "name": "employee_name",
         "type": "\"string\""
        },
        {
         "metadata": "{}",
         "name": "department",
         "type": "\"string\""
        },
        {
         "metadata": "{}",
         "name": "salary",
         "type": "\"double\""
        },
        {
         "metadata": "{}",
         "name": "bonus",
         "type": "\"double\""
        },
        {
         "metadata": "{}",
         "name": "performance",
         "type": "\"string\""
        }
       ],
       "type": "table"
      }
     },
     "output_type": "display_data"
    }
   ],
   "source": [
    "%sql\n",
    "WITH bonus_performance_emp AS (\n",
    "  SELECT *,\n",
    "  CASE WHEN salary > 60000 THEN salary * 0.1\n",
    "       WHEN salary BETWEEN 50000 AND 60000 THEN salary * 0.05\n",
    "       ELSE null END AS bonus,\n",
    "  CASE WHEN salary > 60000 THEN 'high performer'\n",
    "       WHEN salary BETWEEN 50000 AND 60000 THEN 'intermediate performer'\n",
    "       ELSE null END AS performance\n",
    "  FROM employees\n",
    ")\n",
    "\n",
    "SELECT * FROM bonus_performance_emp"
   ]
  },
  {
   "cell_type": "code",
   "execution_count": 0,
   "metadata": {
    "application/vnd.databricks.v1+cell": {
     "cellMetadata": {},
     "inputWidgets": {},
     "nuid": "528769e4-a4f3-40bb-a205-64ed9290ce95",
     "showTitle": false,
     "title": ""
    }
   },
   "outputs": [],
   "source": []
  }
 ],
 "metadata": {
  "application/vnd.databricks.v1+notebook": {
   "dashboards": [],
   "language": "python",
   "notebookMetadata": {
    "pythonIndentUnit": 4
   },
   "notebookName": "sql_day2_3_windows_function_cte",
   "widgets": {}
  }
 },
 "nbformat": 4,
 "nbformat_minor": 0
}
