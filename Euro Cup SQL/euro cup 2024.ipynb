{
 "cells": [
  {
   "cell_type": "code",
   "execution_count": 0,
   "metadata": {
    "application/vnd.databricks.v1+cell": {
     "cellMetadata": {
      "byteLimit": 2048000,
      "rowLimit": 10000
     },
     "inputWidgets": {},
     "nuid": "d89129fe-f54a-4064-8901-aab9863706ad",
     "showTitle": false,
     "title": ""
    }
   },
   "outputs": [
    {
     "output_type": "stream",
     "name": "stdout",
     "output_type": "stream",
     "text": [
      "Out[4]: True"
     ]
    }
   ],
   "source": [
    "dbutils.fs.rm(\"dbfs:/user/hive/warehouse/team_table\",True)"
   ]
  },
  {
   "cell_type": "markdown",
   "metadata": {
    "application/vnd.databricks.v1+cell": {
     "cellMetadata": {
      "byteLimit": 2048000,
      "rowLimit": 10000
     },
     "inputWidgets": {},
     "nuid": "a39d7fa3-5735-4a9d-9d61-b44880f3fa32",
     "showTitle": false,
     "title": ""
    }
   },
   "source": [
    "Team Table: \n",
    "\n",
    "Team name along with group "
   ]
  },
  {
   "cell_type": "code",
   "execution_count": 0,
   "metadata": {
    "application/vnd.databricks.v1+cell": {
     "cellMetadata": {
      "byteLimit": 2048000,
      "implicitDf": true,
      "rowLimit": 10000
     },
     "inputWidgets": {},
     "nuid": "84a936fd-0501-4932-b6b1-d7c8a9af7900",
     "showTitle": false,
     "title": ""
    }
   },
   "outputs": [
    {
     "output_type": "display_data",
     "data": {
      "text/html": [
       "<style scoped>\n",
       "  .table-result-container {\n",
       "    max-height: 300px;\n",
       "    overflow: auto;\n",
       "  }\n",
       "  table, th, td {\n",
       "    border: 1px solid black;\n",
       "    border-collapse: collapse;\n",
       "  }\n",
       "  th, td {\n",
       "    padding: 5px;\n",
       "  }\n",
       "  th {\n",
       "    text-align: left;\n",
       "  }\n",
       "</style><div class='table-result-container'><table class='table-result'><thead style='background-color: white'><tr></tr></thead><tbody></tbody></table></div>"
      ]
     },
     "metadata": {
      "application/vnd.databricks.v1+output": {
       "addedWidgets": {},
       "aggData": [],
       "aggError": "",
       "aggOverflow": false,
       "aggSchema": [],
       "aggSeriesLimitReached": false,
       "aggType": "",
       "arguments": {},
       "columnCustomDisplayInfos": {},
       "data": [],
       "datasetInfos": [],
       "dbfsResultPath": null,
       "isJsonSchema": true,
       "metadata": {},
       "overflow": false,
       "plotOptions": {
        "customPlotOptions": {},
        "displayType": "table",
        "pivotAggregation": null,
        "pivotColumns": null,
        "xColumns": null,
        "yColumns": null
       },
       "removedWidgets": [],
       "schema": [],
       "type": "table"
      }
     },
     "output_type": "display_data"
    }
   ],
   "source": [
    "%sql\n",
    "CREATE or REPLACE TABLE team_table (\n",
    "    team_id INTEGER,\n",
    "    team_name VARCHAR(20),\n",
    "    group_name VARCHAR(1) \n",
    ");"
   ]
  },
  {
   "cell_type": "code",
   "execution_count": 0,
   "metadata": {
    "application/vnd.databricks.v1+cell": {
     "cellMetadata": {
      "byteLimit": 2048000,
      "implicitDf": true,
      "rowLimit": 10000
     },
     "inputWidgets": {},
     "nuid": "43e03fe3-eed7-443a-8cda-b180c27b9dda",
     "showTitle": false,
     "title": ""
    }
   },
   "outputs": [
    {
     "output_type": "display_data",
     "data": {
      "text/html": [
       "<style scoped>\n",
       "  .table-result-container {\n",
       "    max-height: 300px;\n",
       "    overflow: auto;\n",
       "  }\n",
       "  table, th, td {\n",
       "    border: 1px solid black;\n",
       "    border-collapse: collapse;\n",
       "  }\n",
       "  th, td {\n",
       "    padding: 5px;\n",
       "  }\n",
       "  th {\n",
       "    text-align: left;\n",
       "  }\n",
       "</style><div class='table-result-container'><table class='table-result'><thead style='background-color: white'><tr><th>num_affected_rows</th><th>num_inserted_rows</th></tr></thead><tbody><tr><td>24</td><td>24</td></tr></tbody></table></div>"
      ]
     },
     "metadata": {
      "application/vnd.databricks.v1+output": {
       "addedWidgets": {},
       "aggData": [],
       "aggError": "",
       "aggOverflow": false,
       "aggSchema": [],
       "aggSeriesLimitReached": false,
       "aggType": "",
       "arguments": {},
       "columnCustomDisplayInfos": {},
       "data": [
        [
         24,
         24
        ]
       ],
       "datasetInfos": [],
       "dbfsResultPath": null,
       "isJsonSchema": true,
       "metadata": {},
       "overflow": false,
       "plotOptions": {
        "customPlotOptions": {},
        "displayType": "table",
        "pivotAggregation": null,
        "pivotColumns": null,
        "xColumns": null,
        "yColumns": null
       },
       "removedWidgets": [],
       "schema": [
        {
         "metadata": "{}",
         "name": "num_affected_rows",
         "type": "\"long\""
        },
        {
         "metadata": "{}",
         "name": "num_inserted_rows",
         "type": "\"long\""
        }
       ],
       "type": "table"
      }
     },
     "output_type": "display_data"
    }
   ],
   "source": [
    "%sql\n",
    "--Wales as playoff A winers\n",
    "--Poland as playoff B winers\n",
    "--Kazakhstan as playoff C winers\n",
    "INSERT INTO team_table (team_id,team_name,group_name) VALUES\n",
    "-- Group A\n",
    "    (1, 'Germany','A'),\n",
    "    (2, 'Scotland','A'),\n",
    "    (3, 'Hungary','A'),\n",
    "    (4, 'Switzerland','A'),\n",
    "\n",
    "-- Group B\n",
    "    (5, 'Spain','B'),\n",
    "    (6, 'Croatia','B'),\n",
    "    (7, 'Italy','B'),\n",
    "    (8, 'Albania','B'),\n",
    "\n",
    "-- Group C\n",
    "    (9, 'Slovenia','C'),\n",
    "    (10, 'Denmark','C'),\n",
    "    (11, 'Serbia','C'),\n",
    "    (12, 'England','C'),\n",
    "\n",
    "-- Group D\n",
    "    (13, 'Netherlands','D'),\n",
    "    (14, 'Austria','D'),\n",
    "    (15, 'France','D'),\n",
    "    (16, 'Wales','D'),\n",
    "\n",
    "-- Group E\n",
    "    (17, 'Belgium','E'),\n",
    "    (18, 'Slovakia','E'),\n",
    "    (19, 'Romania','E'),\n",
    "    (20, 'Poland','E'),\n",
    "\n",
    "-- Group F\n",
    "    (21, 'Turkey','F'),\n",
    "    (22, 'Kazakhstan','F'),\n",
    "    (23, 'Portugal','F'),\n",
    "    (24, 'Czech Republic','F');"
   ]
  },
  {
   "cell_type": "code",
   "execution_count": 0,
   "metadata": {
    "application/vnd.databricks.v1+cell": {
     "cellMetadata": {
      "byteLimit": 2048000,
      "implicitDf": true,
      "rowLimit": 10000
     },
     "inputWidgets": {},
     "nuid": "1f3998f5-0c6a-4413-bfd9-fad797c409bf",
     "showTitle": false,
     "title": ""
    }
   },
   "outputs": [
    {
     "output_type": "display_data",
     "data": {
      "text/html": [
       "<style scoped>\n",
       "  .table-result-container {\n",
       "    max-height: 300px;\n",
       "    overflow: auto;\n",
       "  }\n",
       "  table, th, td {\n",
       "    border: 1px solid black;\n",
       "    border-collapse: collapse;\n",
       "  }\n",
       "  th, td {\n",
       "    padding: 5px;\n",
       "  }\n",
       "  th {\n",
       "    text-align: left;\n",
       "  }\n",
       "</style><div class='table-result-container'><table class='table-result'><thead style='background-color: white'><tr><th>team_id</th><th>team_name</th><th>group_name</th></tr></thead><tbody><tr><td>1</td><td>Germany</td><td>A</td></tr><tr><td>2</td><td>Scotland</td><td>A</td></tr><tr><td>3</td><td>Hungary</td><td>A</td></tr><tr><td>4</td><td>Switzerland</td><td>A</td></tr><tr><td>5</td><td>Spain</td><td>B</td></tr><tr><td>6</td><td>Croatia</td><td>B</td></tr><tr><td>7</td><td>Italy</td><td>B</td></tr><tr><td>8</td><td>Albania</td><td>B</td></tr><tr><td>9</td><td>Slovenia</td><td>C</td></tr><tr><td>10</td><td>Denmark</td><td>C</td></tr><tr><td>11</td><td>Serbia</td><td>C</td></tr><tr><td>12</td><td>England</td><td>C</td></tr><tr><td>13</td><td>Netherlands</td><td>D</td></tr><tr><td>14</td><td>Austria</td><td>D</td></tr><tr><td>15</td><td>France</td><td>D</td></tr><tr><td>16</td><td>Wales</td><td>D</td></tr><tr><td>17</td><td>Belgium</td><td>E</td></tr><tr><td>18</td><td>Slovakia</td><td>E</td></tr><tr><td>19</td><td>Romania</td><td>E</td></tr><tr><td>20</td><td>Poland</td><td>E</td></tr><tr><td>21</td><td>Turkey</td><td>F</td></tr><tr><td>22</td><td>Kazakhstan</td><td>F</td></tr><tr><td>23</td><td>Portugal</td><td>F</td></tr><tr><td>24</td><td>Czech Republic</td><td>F</td></tr></tbody></table></div>"
      ]
     },
     "metadata": {
      "application/vnd.databricks.v1+output": {
       "addedWidgets": {},
       "aggData": [],
       "aggError": "",
       "aggOverflow": false,
       "aggSchema": [],
       "aggSeriesLimitReached": false,
       "aggType": "",
       "arguments": {},
       "columnCustomDisplayInfos": {},
       "data": [
        [
         1,
         "Germany",
         "A"
        ],
        [
         2,
         "Scotland",
         "A"
        ],
        [
         3,
         "Hungary",
         "A"
        ],
        [
         4,
         "Switzerland",
         "A"
        ],
        [
         5,
         "Spain",
         "B"
        ],
        [
         6,
         "Croatia",
         "B"
        ],
        [
         7,
         "Italy",
         "B"
        ],
        [
         8,
         "Albania",
         "B"
        ],
        [
         9,
         "Slovenia",
         "C"
        ],
        [
         10,
         "Denmark",
         "C"
        ],
        [
         11,
         "Serbia",
         "C"
        ],
        [
         12,
         "England",
         "C"
        ],
        [
         13,
         "Netherlands",
         "D"
        ],
        [
         14,
         "Austria",
         "D"
        ],
        [
         15,
         "France",
         "D"
        ],
        [
         16,
         "Wales",
         "D"
        ],
        [
         17,
         "Belgium",
         "E"
        ],
        [
         18,
         "Slovakia",
         "E"
        ],
        [
         19,
         "Romania",
         "E"
        ],
        [
         20,
         "Poland",
         "E"
        ],
        [
         21,
         "Turkey",
         "F"
        ],
        [
         22,
         "Kazakhstan",
         "F"
        ],
        [
         23,
         "Portugal",
         "F"
        ],
        [
         24,
         "Czech Republic",
         "F"
        ]
       ],
       "datasetInfos": [],
       "dbfsResultPath": null,
       "isJsonSchema": true,
       "metadata": {},
       "overflow": false,
       "plotOptions": {
        "customPlotOptions": {},
        "displayType": "table",
        "pivotAggregation": null,
        "pivotColumns": null,
        "xColumns": null,
        "yColumns": null
       },
       "removedWidgets": [],
       "schema": [
        {
         "metadata": "{}",
         "name": "team_id",
         "type": "\"integer\""
        },
        {
         "metadata": "{\"__CHAR_VARCHAR_TYPE_STRING\":\"varchar(20)\"}",
         "name": "team_name",
         "type": "\"string\""
        },
        {
         "metadata": "{\"__CHAR_VARCHAR_TYPE_STRING\":\"varchar(1)\"}",
         "name": "group_name",
         "type": "\"string\""
        }
       ],
       "type": "table"
      }
     },
     "output_type": "display_data"
    }
   ],
   "source": [
    "%sql\n",
    "select * from team_table;\n"
   ]
  },
  {
   "cell_type": "markdown",
   "metadata": {
    "application/vnd.databricks.v1+cell": {
     "cellMetadata": {
      "byteLimit": 2048000,
      "rowLimit": 10000
     },
     "inputWidgets": {},
     "nuid": "917aaab3-8352-4bfa-8995-ff2c07854f04",
     "showTitle": false,
     "title": ""
    }
   },
   "source": [
    "Probable Combinations for the Matches in the Round of 16 Match Stage"
   ]
  },
  {
   "cell_type": "code",
   "execution_count": 0,
   "metadata": {
    "application/vnd.databricks.v1+cell": {
     "cellMetadata": {
      "byteLimit": 2048000,
      "rowLimit": 10000
     },
     "inputWidgets": {},
     "nuid": "0d64fcc3-03f2-40ac-be55-d5e73bb2d2d0",
     "showTitle": false,
     "title": ""
    }
   },
   "outputs": [
    {
     "output_type": "stream",
     "name": "stdout",
     "output_type": "stream",
     "text": [
      "Out[9]: True"
     ]
    }
   ],
   "source": [
    "dbutils.fs.rm(\"dbfs:/user/hive/warehouse/third_place_combination\",True)"
   ]
  },
  {
   "cell_type": "markdown",
   "metadata": {
    "application/vnd.databricks.v1+cell": {
     "cellMetadata": {
      "byteLimit": 2048000,
      "rowLimit": 10000
     },
     "inputWidgets": {},
     "nuid": "6a0dc110-4f49-4f54-b1ce-b578d75f6f10",
     "showTitle": false,
     "title": ""
    }
   },
   "source": [
    "<img src=\"dbfs:/FileStore/tables/euro.html\" alt=\"Euro Image\">"
   ]
  },
  {
   "cell_type": "code",
   "execution_count": 0,
   "metadata": {
    "application/vnd.databricks.v1+cell": {
     "cellMetadata": {
      "byteLimit": 2048000,
      "implicitDf": true,
      "rowLimit": 10000
     },
     "inputWidgets": {},
     "nuid": "003775d4-ab27-42e3-a18e-53c1921419c9",
     "showTitle": false,
     "title": ""
    }
   },
   "outputs": [
    {
     "output_type": "display_data",
     "data": {
      "text/html": [
       "<style scoped>\n",
       "  .table-result-container {\n",
       "    max-height: 300px;\n",
       "    overflow: auto;\n",
       "  }\n",
       "  table, th, td {\n",
       "    border: 1px solid black;\n",
       "    border-collapse: collapse;\n",
       "  }\n",
       "  th, td {\n",
       "    padding: 5px;\n",
       "  }\n",
       "  th {\n",
       "    text-align: left;\n",
       "  }\n",
       "</style><div class='table-result-container'><table class='table-result'><thead style='background-color: white'><tr><th>num_affected_rows</th><th>num_inserted_rows</th></tr></thead><tbody><tr><td>15</td><td>15</td></tr></tbody></table></div>"
      ]
     },
     "metadata": {
      "application/vnd.databricks.v1+output": {
       "addedWidgets": {},
       "aggData": [],
       "aggError": "",
       "aggOverflow": false,
       "aggSchema": [],
       "aggSeriesLimitReached": false,
       "aggType": "",
       "arguments": {},
       "columnCustomDisplayInfos": {},
       "data": [
        [
         15,
         15
        ]
       ],
       "datasetInfos": [],
       "dbfsResultPath": null,
       "isJsonSchema": true,
       "metadata": {},
       "overflow": false,
       "plotOptions": {
        "customPlotOptions": {},
        "displayType": "table",
        "pivotAggregation": null,
        "pivotColumns": null,
        "xColumns": null,
        "yColumns": null
       },
       "removedWidgets": [],
       "schema": [
        {
         "metadata": "{}",
         "name": "num_affected_rows",
         "type": "\"long\""
        },
        {
         "metadata": "{}",
         "name": "num_inserted_rows",
         "type": "\"long\""
        }
       ],
       "type": "table"
      }
     },
     "output_type": "display_data"
    }
   ],
   "source": [
    "%sql\n",
    "CREATE or replace  TABLE third_place_combination(\n",
    "  ID INTEGER,\n",
    "  selected_groups VARCHAR(4),\n",
    "  Team1B CHAR(1),\n",
    "  Team1C CHAR(1),\n",
    "  Team1E CHAR(1),\n",
    "  Team1F CHAR(1)\n",
    ");\n",
    "\n",
    "INSERT INTO  third_place_combination (ID, selected_groups, Team1B, Team1C, Team1E, Team1F) VALUES\n",
    "(1, 'ABCD', 'A', 'D', 'B', 'C'),\n",
    "(2, 'ABCE', 'A', 'E', 'B', 'C'),\n",
    "(3, 'ABCF', 'A', 'F', 'B', 'C'),\n",
    "(4, 'ABDE', 'D', 'E', 'A', 'B'),\n",
    "(5, 'ABDF', 'D', 'F', 'A', 'B'),\n",
    "(6, 'ABEF', 'E', 'F', 'B', 'A'),\n",
    "(7, 'ACDE', 'E', 'D', 'C', 'A'),\n",
    "(8, 'ACDF', 'F', 'D', 'C', 'A'),\n",
    "(9, 'ACEF', 'E', 'F', 'C', 'A'),\n",
    "(10, 'ADEF', 'E', 'F', 'D', 'A'),\n",
    "(11, 'BCDE', 'E', 'D', 'B', 'C'),\n",
    "(12, 'BCDF', 'F', 'D', 'C', 'B'),\n",
    "(13, 'BCEF', 'F', 'E', 'C', 'B'),\n",
    "(14, 'BDEF', 'F', 'E', 'D', 'B'),\n",
    "(15, 'CDEF', 'F', 'E', 'D', 'C');"
   ]
  },
  {
   "cell_type": "markdown",
   "metadata": {
    "application/vnd.databricks.v1+cell": {
     "cellMetadata": {
      "byteLimit": 2048000,
      "rowLimit": 10000
     },
     "inputWidgets": {},
     "nuid": "a23827e0-0f86-4601-83e7-b0faacddb601",
     "showTitle": false,
     "title": ""
    }
   },
   "source": [
    "Table for all the matches in EuroCup2024"
   ]
  },
  {
   "cell_type": "code",
   "execution_count": 0,
   "metadata": {
    "application/vnd.databricks.v1+cell": {
     "cellMetadata": {
      "byteLimit": 2048000,
      "rowLimit": 10000
     },
     "inputWidgets": {},
     "nuid": "4f28f3aa-34bc-41d4-9457-4efcc4c24190",
     "showTitle": false,
     "title": ""
    }
   },
   "outputs": [
    {
     "output_type": "stream",
     "name": "stdout",
     "output_type": "stream",
     "text": [
      "Out[11]: True"
     ]
    }
   ],
   "source": [
    "dbutils.fs.rm(\"dbfs:/user/hive/warehouse/match_table\",True)"
   ]
  },
  {
   "cell_type": "code",
   "execution_count": 0,
   "metadata": {
    "application/vnd.databricks.v1+cell": {
     "cellMetadata": {
      "byteLimit": 2048000,
      "implicitDf": true,
      "rowLimit": 10000
     },
     "inputWidgets": {},
     "nuid": "70aa7205-9780-4723-bad5-61e6a99b211e",
     "showTitle": false,
     "title": ""
    }
   },
   "outputs": [
    {
     "output_type": "display_data",
     "data": {
      "text/html": [
       "<style scoped>\n",
       "  .table-result-container {\n",
       "    max-height: 300px;\n",
       "    overflow: auto;\n",
       "  }\n",
       "  table, th, td {\n",
       "    border: 1px solid black;\n",
       "    border-collapse: collapse;\n",
       "  }\n",
       "  th, td {\n",
       "    padding: 5px;\n",
       "  }\n",
       "  th {\n",
       "    text-align: left;\n",
       "  }\n",
       "</style><div class='table-result-container'><table class='table-result'><thead style='background-color: white'><tr></tr></thead><tbody></tbody></table></div>"
      ]
     },
     "metadata": {
      "application/vnd.databricks.v1+output": {
       "addedWidgets": {},
       "aggData": [],
       "aggError": "",
       "aggOverflow": false,
       "aggSchema": [],
       "aggSeriesLimitReached": false,
       "aggType": "",
       "arguments": {},
       "columnCustomDisplayInfos": {},
       "data": [],
       "datasetInfos": [],
       "dbfsResultPath": null,
       "isJsonSchema": true,
       "metadata": {},
       "overflow": false,
       "plotOptions": {
        "customPlotOptions": {},
        "displayType": "table",
        "pivotAggregation": null,
        "pivotColumns": null,
        "xColumns": null,
        "yColumns": null
       },
       "removedWidgets": [],
       "schema": [],
       "type": "table"
      }
     },
     "output_type": "display_data"
    }
   ],
   "source": [
    "%sql\n",
    "CREATE OR REPLACE TABLE match_table(\n",
    "    match_id integer,\n",
    "    match_fixtures VARCHAR(50),\n",
    "    group_name VARCHAR(1),\n",
    "    team1 VARCHAR(20),\n",
    "    team2 VARCHAR(20),\n",
    "    team1_goals INTEGER,\n",
    "    team2_goals INTEGER,\n",
    "    match_results VARCHAR(20),\n",
    "    match_stage VARCHAR(20)\n",
    ");"
   ]
  },
  {
   "cell_type": "code",
   "execution_count": 0,
   "metadata": {
    "application/vnd.databricks.v1+cell": {
     "cellMetadata": {
      "byteLimit": 2048000,
      "implicitDf": true,
      "rowLimit": 10000
     },
     "inputWidgets": {},
     "nuid": "8fa0c2fd-3955-4982-80ee-1b7ad3d289dc",
     "showTitle": false,
     "title": ""
    }
   },
   "outputs": [
    {
     "output_type": "display_data",
     "data": {
      "text/html": [
       "<style scoped>\n",
       "  .table-result-container {\n",
       "    max-height: 300px;\n",
       "    overflow: auto;\n",
       "  }\n",
       "  table, th, td {\n",
       "    border: 1px solid black;\n",
       "    border-collapse: collapse;\n",
       "  }\n",
       "  th, td {\n",
       "    padding: 5px;\n",
       "  }\n",
       "  th {\n",
       "    text-align: left;\n",
       "  }\n",
       "</style><div class='table-result-container'><table class='table-result'><thead style='background-color: white'><tr><th>num_affected_rows</th><th>num_inserted_rows</th></tr></thead><tbody><tr><td>36</td><td>36</td></tr></tbody></table></div>"
      ]
     },
     "metadata": {
      "application/vnd.databricks.v1+output": {
       "addedWidgets": {},
       "aggData": [],
       "aggError": "",
       "aggOverflow": false,
       "aggSchema": [],
       "aggSeriesLimitReached": false,
       "aggType": "",
       "arguments": {},
       "columnCustomDisplayInfos": {},
       "data": [
        [
         36,
         36
        ]
       ],
       "datasetInfos": [],
       "dbfsResultPath": null,
       "isJsonSchema": true,
       "metadata": {},
       "overflow": false,
       "plotOptions": {
        "customPlotOptions": {},
        "displayType": "table",
        "pivotAggregation": null,
        "pivotColumns": null,
        "xColumns": null,
        "yColumns": null
       },
       "removedWidgets": [],
       "schema": [
        {
         "metadata": "{}",
         "name": "num_affected_rows",
         "type": "\"long\""
        },
        {
         "metadata": "{}",
         "name": "num_inserted_rows",
         "type": "\"long\""
        }
       ],
       "type": "table"
      }
     },
     "output_type": "display_data"
    }
   ],
   "source": [
    "%sql\n",
    "INSERT INTO match_table\n",
    "SELECT\n",
    "row_number() OVER (ORDER BY 1) as match_id,\n",
    "concat(team1.team_name, ' Vs ' , team2.team_name )AS match_fixtures,\n",
    "team1.group_name AS group_name,\n",
    "team1.team_name AS team1,\n",
    "team2.team_name AS team2,\n",
    "cast(rand() * 6 AS INTEGER) AS goals_scored,\n",
    "cast(rand() * 6 AS INTEGER) AS goals_conceded,\n",
    "'NONE' AS match_result,\n",
    "'Group Stage' AS match_stage\n",
    "FROM\n",
    "team_table AS team1\n",
    "CROSS JOIN\n",
    "team_table AS team2 \n",
    "WHERE\n",
    "team1.group_name = team2.group_name AND team1.team_id < team2.team_id;  "
   ]
  },
  {
   "cell_type": "code",
   "execution_count": 0,
   "metadata": {
    "application/vnd.databricks.v1+cell": {
     "cellMetadata": {
      "byteLimit": 2048000,
      "implicitDf": true,
      "rowLimit": 10000
     },
     "inputWidgets": {},
     "nuid": "c7a261f8-8127-4869-90ab-9940c12ebf6e",
     "showTitle": false,
     "title": ""
    }
   },
   "outputs": [
    {
     "output_type": "display_data",
     "data": {
      "text/html": [
       "<style scoped>\n",
       "  .table-result-container {\n",
       "    max-height: 300px;\n",
       "    overflow: auto;\n",
       "  }\n",
       "  table, th, td {\n",
       "    border: 1px solid black;\n",
       "    border-collapse: collapse;\n",
       "  }\n",
       "  th, td {\n",
       "    padding: 5px;\n",
       "  }\n",
       "  th {\n",
       "    text-align: left;\n",
       "  }\n",
       "</style><div class='table-result-container'><table class='table-result'><thead style='background-color: white'><tr><th>num_affected_rows</th></tr></thead><tbody><tr><td>36</td></tr></tbody></table></div>"
      ]
     },
     "metadata": {
      "application/vnd.databricks.v1+output": {
       "addedWidgets": {},
       "aggData": [],
       "aggError": "",
       "aggOverflow": false,
       "aggSchema": [],
       "aggSeriesLimitReached": false,
       "aggType": "",
       "arguments": {},
       "columnCustomDisplayInfos": {},
       "data": [
        [
         36
        ]
       ],
       "datasetInfos": [],
       "dbfsResultPath": null,
       "isJsonSchema": true,
       "metadata": {},
       "overflow": false,
       "plotOptions": {
        "customPlotOptions": {},
        "displayType": "table",
        "pivotAggregation": null,
        "pivotColumns": null,
        "xColumns": null,
        "yColumns": null
       },
       "removedWidgets": [],
       "schema": [
        {
         "metadata": "{}",
         "name": "num_affected_rows",
         "type": "\"long\""
        }
       ],
       "type": "table"
      }
     },
     "output_type": "display_data"
    }
   ],
   "source": [
    "%sql\n",
    "\n",
    "-- Update match winner\n",
    "UPDATE match_table SET match_results = \n",
    "CASE\n",
    "WHEN team1_goals > team2_goals THEN team1\n",
    "WHEN team1_goals < team2_goals THEN team2\n",
    "ELSE 'DRAW'\n",
    "END;"
   ]
  },
  {
   "cell_type": "code",
   "execution_count": 0,
   "metadata": {
    "application/vnd.databricks.v1+cell": {
     "cellMetadata": {
      "byteLimit": 2048000,
      "implicitDf": true,
      "rowLimit": 10000
     },
     "inputWidgets": {},
     "nuid": "61e3fa56-cb4f-44ea-bb6e-00686ab31591",
     "showTitle": false,
     "title": ""
    }
   },
   "outputs": [
    {
     "output_type": "display_data",
     "data": {
      "text/html": [
       "<style scoped>\n",
       "  .table-result-container {\n",
       "    max-height: 300px;\n",
       "    overflow: auto;\n",
       "  }\n",
       "  table, th, td {\n",
       "    border: 1px solid black;\n",
       "    border-collapse: collapse;\n",
       "  }\n",
       "  th, td {\n",
       "    padding: 5px;\n",
       "  }\n",
       "  th {\n",
       "    text-align: left;\n",
       "  }\n",
       "</style><div class='table-result-container'><table class='table-result'><thead style='background-color: white'><tr><th>match_id</th><th>match_fixtures</th><th>group_name</th><th>team1</th><th>team2</th><th>team1_goals</th><th>team2_goals</th><th>match_results</th><th>match_stage</th></tr></thead><tbody><tr><td>1</td><td>Germany Vs Switzerland</td><td>A</td><td>Germany</td><td>Switzerland</td><td>1</td><td>2</td><td>Switzerland</td><td>Group Stage</td></tr><tr><td>2</td><td>Germany Vs Hungary</td><td>A</td><td>Germany</td><td>Hungary</td><td>5</td><td>1</td><td>Germany</td><td>Group Stage</td></tr><tr><td>3</td><td>Germany Vs Scotland</td><td>A</td><td>Germany</td><td>Scotland</td><td>2</td><td>1</td><td>Germany</td><td>Group Stage</td></tr><tr><td>4</td><td>Scotland Vs Switzerland</td><td>A</td><td>Scotland</td><td>Switzerland</td><td>3</td><td>4</td><td>Switzerland</td><td>Group Stage</td></tr><tr><td>5</td><td>Scotland Vs Hungary</td><td>A</td><td>Scotland</td><td>Hungary</td><td>2</td><td>1</td><td>Scotland</td><td>Group Stage</td></tr><tr><td>6</td><td>Hungary Vs Switzerland</td><td>A</td><td>Hungary</td><td>Switzerland</td><td>2</td><td>1</td><td>Hungary</td><td>Group Stage</td></tr><tr><td>7</td><td>Spain Vs Albania</td><td>B</td><td>Spain</td><td>Albania</td><td>4</td><td>2</td><td>Spain</td><td>Group Stage</td></tr><tr><td>8</td><td>Spain Vs Italy</td><td>B</td><td>Spain</td><td>Italy</td><td>3</td><td>3</td><td>DRAW</td><td>Group Stage</td></tr><tr><td>9</td><td>Spain Vs Croatia</td><td>B</td><td>Spain</td><td>Croatia</td><td>0</td><td>5</td><td>Croatia</td><td>Group Stage</td></tr><tr><td>10</td><td>Croatia Vs Albania</td><td>B</td><td>Croatia</td><td>Albania</td><td>5</td><td>5</td><td>DRAW</td><td>Group Stage</td></tr><tr><td>11</td><td>Croatia Vs Italy</td><td>B</td><td>Croatia</td><td>Italy</td><td>2</td><td>4</td><td>Italy</td><td>Group Stage</td></tr><tr><td>12</td><td>Italy Vs Albania</td><td>B</td><td>Italy</td><td>Albania</td><td>4</td><td>3</td><td>Italy</td><td>Group Stage</td></tr><tr><td>13</td><td>Slovenia Vs England</td><td>C</td><td>Slovenia</td><td>England</td><td>2</td><td>4</td><td>England</td><td>Group Stage</td></tr><tr><td>14</td><td>Slovenia Vs Serbia</td><td>C</td><td>Slovenia</td><td>Serbia</td><td>1</td><td>4</td><td>Serbia</td><td>Group Stage</td></tr><tr><td>15</td><td>Slovenia Vs Denmark</td><td>C</td><td>Slovenia</td><td>Denmark</td><td>4</td><td>4</td><td>DRAW</td><td>Group Stage</td></tr><tr><td>16</td><td>Denmark Vs England</td><td>C</td><td>Denmark</td><td>England</td><td>4</td><td>2</td><td>Denmark</td><td>Group Stage</td></tr><tr><td>17</td><td>Denmark Vs Serbia</td><td>C</td><td>Denmark</td><td>Serbia</td><td>0</td><td>4</td><td>Serbia</td><td>Group Stage</td></tr><tr><td>18</td><td>Serbia Vs England</td><td>C</td><td>Serbia</td><td>England</td><td>2</td><td>2</td><td>DRAW</td><td>Group Stage</td></tr><tr><td>19</td><td>Netherlands Vs Wales</td><td>D</td><td>Netherlands</td><td>Wales</td><td>3</td><td>4</td><td>Wales</td><td>Group Stage</td></tr><tr><td>20</td><td>Netherlands Vs France</td><td>D</td><td>Netherlands</td><td>France</td><td>5</td><td>0</td><td>Netherlands</td><td>Group Stage</td></tr><tr><td>21</td><td>Netherlands Vs Austria</td><td>D</td><td>Netherlands</td><td>Austria</td><td>4</td><td>5</td><td>Austria</td><td>Group Stage</td></tr><tr><td>22</td><td>Austria Vs Wales</td><td>D</td><td>Austria</td><td>Wales</td><td>3</td><td>4</td><td>Wales</td><td>Group Stage</td></tr><tr><td>23</td><td>Austria Vs France</td><td>D</td><td>Austria</td><td>France</td><td>5</td><td>2</td><td>Austria</td><td>Group Stage</td></tr><tr><td>24</td><td>France Vs Wales</td><td>D</td><td>France</td><td>Wales</td><td>2</td><td>5</td><td>Wales</td><td>Group Stage</td></tr><tr><td>25</td><td>Belgium Vs Poland</td><td>E</td><td>Belgium</td><td>Poland</td><td>3</td><td>1</td><td>Belgium</td><td>Group Stage</td></tr><tr><td>26</td><td>Belgium Vs Romania</td><td>E</td><td>Belgium</td><td>Romania</td><td>4</td><td>0</td><td>Belgium</td><td>Group Stage</td></tr><tr><td>27</td><td>Belgium Vs Slovakia</td><td>E</td><td>Belgium</td><td>Slovakia</td><td>4</td><td>5</td><td>Slovakia</td><td>Group Stage</td></tr><tr><td>28</td><td>Slovakia Vs Poland</td><td>E</td><td>Slovakia</td><td>Poland</td><td>3</td><td>2</td><td>Slovakia</td><td>Group Stage</td></tr><tr><td>29</td><td>Slovakia Vs Romania</td><td>E</td><td>Slovakia</td><td>Romania</td><td>3</td><td>2</td><td>Slovakia</td><td>Group Stage</td></tr><tr><td>30</td><td>Romania Vs Poland</td><td>E</td><td>Romania</td><td>Poland</td><td>1</td><td>3</td><td>Poland</td><td>Group Stage</td></tr><tr><td>31</td><td>Turkey Vs Czech Republic</td><td>F</td><td>Turkey</td><td>Czech Republic</td><td>2</td><td>5</td><td>Czech Republic</td><td>Group Stage</td></tr><tr><td>32</td><td>Turkey Vs Portugal</td><td>F</td><td>Turkey</td><td>Portugal</td><td>0</td><td>0</td><td>DRAW</td><td>Group Stage</td></tr><tr><td>33</td><td>Turkey Vs Kazakhstan</td><td>F</td><td>Turkey</td><td>Kazakhstan</td><td>5</td><td>4</td><td>Turkey</td><td>Group Stage</td></tr><tr><td>34</td><td>Kazakhstan Vs Czech Republic</td><td>F</td><td>Kazakhstan</td><td>Czech Republic</td><td>4</td><td>5</td><td>Czech Republic</td><td>Group Stage</td></tr><tr><td>35</td><td>Kazakhstan Vs Portugal</td><td>F</td><td>Kazakhstan</td><td>Portugal</td><td>5</td><td>3</td><td>Kazakhstan</td><td>Group Stage</td></tr><tr><td>36</td><td>Portugal Vs Czech Republic</td><td>F</td><td>Portugal</td><td>Czech Republic</td><td>3</td><td>4</td><td>Czech Republic</td><td>Group Stage</td></tr></tbody></table></div>"
      ]
     },
     "metadata": {
      "application/vnd.databricks.v1+output": {
       "addedWidgets": {},
       "aggData": [],
       "aggError": "",
       "aggOverflow": false,
       "aggSchema": [],
       "aggSeriesLimitReached": false,
       "aggType": "",
       "arguments": {},
       "columnCustomDisplayInfos": {},
       "data": [
        [
         1,
         "Germany Vs Switzerland",
         "A",
         "Germany",
         "Switzerland",
         1,
         2,
         "Switzerland",
         "Group Stage"
        ],
        [
         2,
         "Germany Vs Hungary",
         "A",
         "Germany",
         "Hungary",
         5,
         1,
         "Germany",
         "Group Stage"
        ],
        [
         3,
         "Germany Vs Scotland",
         "A",
         "Germany",
         "Scotland",
         2,
         1,
         "Germany",
         "Group Stage"
        ],
        [
         4,
         "Scotland Vs Switzerland",
         "A",
         "Scotland",
         "Switzerland",
         3,
         4,
         "Switzerland",
         "Group Stage"
        ],
        [
         5,
         "Scotland Vs Hungary",
         "A",
         "Scotland",
         "Hungary",
         2,
         1,
         "Scotland",
         "Group Stage"
        ],
        [
         6,
         "Hungary Vs Switzerland",
         "A",
         "Hungary",
         "Switzerland",
         2,
         1,
         "Hungary",
         "Group Stage"
        ],
        [
         7,
         "Spain Vs Albania",
         "B",
         "Spain",
         "Albania",
         4,
         2,
         "Spain",
         "Group Stage"
        ],
        [
         8,
         "Spain Vs Italy",
         "B",
         "Spain",
         "Italy",
         3,
         3,
         "DRAW",
         "Group Stage"
        ],
        [
         9,
         "Spain Vs Croatia",
         "B",
         "Spain",
         "Croatia",
         0,
         5,
         "Croatia",
         "Group Stage"
        ],
        [
         10,
         "Croatia Vs Albania",
         "B",
         "Croatia",
         "Albania",
         5,
         5,
         "DRAW",
         "Group Stage"
        ],
        [
         11,
         "Croatia Vs Italy",
         "B",
         "Croatia",
         "Italy",
         2,
         4,
         "Italy",
         "Group Stage"
        ],
        [
         12,
         "Italy Vs Albania",
         "B",
         "Italy",
         "Albania",
         4,
         3,
         "Italy",
         "Group Stage"
        ],
        [
         13,
         "Slovenia Vs England",
         "C",
         "Slovenia",
         "England",
         2,
         4,
         "England",
         "Group Stage"
        ],
        [
         14,
         "Slovenia Vs Serbia",
         "C",
         "Slovenia",
         "Serbia",
         1,
         4,
         "Serbia",
         "Group Stage"
        ],
        [
         15,
         "Slovenia Vs Denmark",
         "C",
         "Slovenia",
         "Denmark",
         4,
         4,
         "DRAW",
         "Group Stage"
        ],
        [
         16,
         "Denmark Vs England",
         "C",
         "Denmark",
         "England",
         4,
         2,
         "Denmark",
         "Group Stage"
        ],
        [
         17,
         "Denmark Vs Serbia",
         "C",
         "Denmark",
         "Serbia",
         0,
         4,
         "Serbia",
         "Group Stage"
        ],
        [
         18,
         "Serbia Vs England",
         "C",
         "Serbia",
         "England",
         2,
         2,
         "DRAW",
         "Group Stage"
        ],
        [
         19,
         "Netherlands Vs Wales",
         "D",
         "Netherlands",
         "Wales",
         3,
         4,
         "Wales",
         "Group Stage"
        ],
        [
         20,
         "Netherlands Vs France",
         "D",
         "Netherlands",
         "France",
         5,
         0,
         "Netherlands",
         "Group Stage"
        ],
        [
         21,
         "Netherlands Vs Austria",
         "D",
         "Netherlands",
         "Austria",
         4,
         5,
         "Austria",
         "Group Stage"
        ],
        [
         22,
         "Austria Vs Wales",
         "D",
         "Austria",
         "Wales",
         3,
         4,
         "Wales",
         "Group Stage"
        ],
        [
         23,
         "Austria Vs France",
         "D",
         "Austria",
         "France",
         5,
         2,
         "Austria",
         "Group Stage"
        ],
        [
         24,
         "France Vs Wales",
         "D",
         "France",
         "Wales",
         2,
         5,
         "Wales",
         "Group Stage"
        ],
        [
         25,
         "Belgium Vs Poland",
         "E",
         "Belgium",
         "Poland",
         3,
         1,
         "Belgium",
         "Group Stage"
        ],
        [
         26,
         "Belgium Vs Romania",
         "E",
         "Belgium",
         "Romania",
         4,
         0,
         "Belgium",
         "Group Stage"
        ],
        [
         27,
         "Belgium Vs Slovakia",
         "E",
         "Belgium",
         "Slovakia",
         4,
         5,
         "Slovakia",
         "Group Stage"
        ],
        [
         28,
         "Slovakia Vs Poland",
         "E",
         "Slovakia",
         "Poland",
         3,
         2,
         "Slovakia",
         "Group Stage"
        ],
        [
         29,
         "Slovakia Vs Romania",
         "E",
         "Slovakia",
         "Romania",
         3,
         2,
         "Slovakia",
         "Group Stage"
        ],
        [
         30,
         "Romania Vs Poland",
         "E",
         "Romania",
         "Poland",
         1,
         3,
         "Poland",
         "Group Stage"
        ],
        [
         31,
         "Turkey Vs Czech Republic",
         "F",
         "Turkey",
         "Czech Republic",
         2,
         5,
         "Czech Republic",
         "Group Stage"
        ],
        [
         32,
         "Turkey Vs Portugal",
         "F",
         "Turkey",
         "Portugal",
         0,
         0,
         "DRAW",
         "Group Stage"
        ],
        [
         33,
         "Turkey Vs Kazakhstan",
         "F",
         "Turkey",
         "Kazakhstan",
         5,
         4,
         "Turkey",
         "Group Stage"
        ],
        [
         34,
         "Kazakhstan Vs Czech Republic",
         "F",
         "Kazakhstan",
         "Czech Republic",
         4,
         5,
         "Czech Republic",
         "Group Stage"
        ],
        [
         35,
         "Kazakhstan Vs Portugal",
         "F",
         "Kazakhstan",
         "Portugal",
         5,
         3,
         "Kazakhstan",
         "Group Stage"
        ],
        [
         36,
         "Portugal Vs Czech Republic",
         "F",
         "Portugal",
         "Czech Republic",
         3,
         4,
         "Czech Republic",
         "Group Stage"
        ]
       ],
       "datasetInfos": [],
       "dbfsResultPath": null,
       "isJsonSchema": true,
       "metadata": {},
       "overflow": false,
       "plotOptions": {
        "customPlotOptions": {},
        "displayType": "table",
        "pivotAggregation": null,
        "pivotColumns": null,
        "xColumns": null,
        "yColumns": null
       },
       "removedWidgets": [],
       "schema": [
        {
         "metadata": "{}",
         "name": "match_id",
         "type": "\"integer\""
        },
        {
         "metadata": "{\"__CHAR_VARCHAR_TYPE_STRING\":\"varchar(50)\"}",
         "name": "match_fixtures",
         "type": "\"string\""
        },
        {
         "metadata": "{\"__CHAR_VARCHAR_TYPE_STRING\":\"varchar(1)\"}",
         "name": "group_name",
         "type": "\"string\""
        },
        {
         "metadata": "{\"__CHAR_VARCHAR_TYPE_STRING\":\"varchar(20)\"}",
         "name": "team1",
         "type": "\"string\""
        },
        {
         "metadata": "{\"__CHAR_VARCHAR_TYPE_STRING\":\"varchar(20)\"}",
         "name": "team2",
         "type": "\"string\""
        },
        {
         "metadata": "{}",
         "name": "team1_goals",
         "type": "\"integer\""
        },
        {
         "metadata": "{}",
         "name": "team2_goals",
         "type": "\"integer\""
        },
        {
         "metadata": "{\"__CHAR_VARCHAR_TYPE_STRING\":\"varchar(20)\"}",
         "name": "match_results",
         "type": "\"string\""
        },
        {
         "metadata": "{\"__CHAR_VARCHAR_TYPE_STRING\":\"varchar(20)\"}",
         "name": "match_stage",
         "type": "\"string\""
        }
       ],
       "type": "table"
      }
     },
     "output_type": "display_data"
    }
   ],
   "source": [
    "%sql\n",
    "SELECT * FROM match_table ORDER BY match_id;\n"
   ]
  },
  {
   "cell_type": "markdown",
   "metadata": {
    "application/vnd.databricks.v1+cell": {
     "cellMetadata": {
      "byteLimit": 2048000,
      "rowLimit": 10000
     },
     "inputWidgets": {},
     "nuid": "ebcc2b72-a9c6-413b-b522-11f389e87b84",
     "showTitle": false,
     "title": ""
    }
   },
   "source": [
    "Calculate point table based upon match table"
   ]
  },
  {
   "cell_type": "code",
   "execution_count": 0,
   "metadata": {
    "application/vnd.databricks.v1+cell": {
     "cellMetadata": {
      "byteLimit": 2048000,
      "rowLimit": 10000
     },
     "inputWidgets": {},
     "nuid": "33fe7c46-56f7-4e84-bc0d-e9e31c8f6d2a",
     "showTitle": false,
     "title": ""
    }
   },
   "outputs": [
    {
     "output_type": "stream",
     "name": "stdout",
     "output_type": "stream",
     "text": [
      "Out[16]: True"
     ]
    }
   ],
   "source": [
    "dbutils.fs.rm(\"dbfs:/user/hive/warehouse/point_table\",True)"
   ]
  },
  {
   "cell_type": "code",
   "execution_count": 0,
   "metadata": {
    "application/vnd.databricks.v1+cell": {
     "cellMetadata": {
      "byteLimit": 2048000,
      "implicitDf": true,
      "rowLimit": 10000
     },
     "inputWidgets": {},
     "nuid": "3a516fa8-6305-49ef-aaf1-a43d650fe2a3",
     "showTitle": false,
     "title": ""
    }
   },
   "outputs": [
    {
     "output_type": "display_data",
     "data": {
      "text/html": [
       "<style scoped>\n",
       "  .table-result-container {\n",
       "    max-height: 300px;\n",
       "    overflow: auto;\n",
       "  }\n",
       "  table, th, td {\n",
       "    border: 1px solid black;\n",
       "    border-collapse: collapse;\n",
       "  }\n",
       "  th, td {\n",
       "    padding: 5px;\n",
       "  }\n",
       "  th {\n",
       "    text-align: left;\n",
       "  }\n",
       "</style><div class='table-result-container'><table class='table-result'><thead style='background-color: white'><tr><th>num_affected_rows</th><th>num_inserted_rows</th></tr></thead><tbody></tbody></table></div>"
      ]
     },
     "metadata": {
      "application/vnd.databricks.v1+output": {
       "addedWidgets": {},
       "aggData": [],
       "aggError": "",
       "aggOverflow": false,
       "aggSchema": [],
       "aggSeriesLimitReached": false,
       "aggType": "",
       "arguments": {},
       "columnCustomDisplayInfos": {},
       "data": [],
       "datasetInfos": [],
       "dbfsResultPath": null,
       "isJsonSchema": true,
       "metadata": {},
       "overflow": false,
       "plotOptions": {
        "customPlotOptions": {},
        "displayType": "table",
        "pivotAggregation": null,
        "pivotColumns": null,
        "xColumns": null,
        "yColumns": null
       },
       "removedWidgets": [],
       "schema": [
        {
         "metadata": "{}",
         "name": "num_affected_rows",
         "type": "\"long\""
        },
        {
         "metadata": "{}",
         "name": "num_inserted_rows",
         "type": "\"long\""
        }
       ],
       "type": "table"
      }
     },
     "output_type": "display_data"
    }
   ],
   "source": [
    "%sql\n",
    "CREATE\n",
    "OR REPLACE TABLE point_table AS\n",
    "SELECT\n",
    "  team_id,\n",
    "  group_name,\n",
    "  COUNT(*) AS matches_played,\n",
    "  SUM (\n",
    "    CASE\n",
    "      WHEN goals_scored > goals_conceded THEN 1\n",
    "      ELSE 0\n",
    "    END\n",
    "  ) AS wins,\n",
    "  SUM (\n",
    "    CASE\n",
    "      WHEN goals_scored = goals_conceded THEN 1\n",
    "      ELSE 0\n",
    "    END\n",
    "  ) AS draw,\n",
    "  SUM(\n",
    "    CASE\n",
    "      WHEN goals_scored < goals_conceded THEN 1\n",
    "      ELSE 0\n",
    "    END\n",
    "  ) AS lose,\n",
    "  SUM(goals_scored) AS goals_scored,\n",
    "  SUM(goals_conceded) AS goals_conceded,\n",
    "  SUM(goals_scored) - SUM(goals_conceded) AS goal_diff,\n",
    "  SUM(\n",
    "    CASE\n",
    "      WHEN goals_scored > goals_conceded THEN 3\n",
    "      WHEN goals_scored = goals_conceded THEN 1\n",
    "      ELSE 0\n",
    "    END\n",
    "  ) AS points\n",
    "FROM(\n",
    "    SELECT\n",
    "      group_name,\n",
    "      team1 AS team_id,\n",
    "      team1_goals AS goals_scored,\n",
    "      team2_goals AS goals_conceded\n",
    "    FROM\n",
    "      match_table\n",
    "    UNION ALL\n",
    "    SELECT\n",
    "      group_name,\n",
    "      team2 AS team_id,\n",
    "      team2_goals AS goals_scored,\n",
    "      team1_goals AS goals_conceded\n",
    "    FROM\n",
    "      match_table\n",
    "  ) AS group_matches\n",
    "GROUP BY\n",
    "  team_id,\n",
    "  group_name\n",
    "ORDER BY\n",
    "  group_name;"
   ]
  },
  {
   "cell_type": "code",
   "execution_count": 0,
   "metadata": {
    "application/vnd.databricks.v1+cell": {
     "cellMetadata": {
      "byteLimit": 2048000,
      "implicitDf": true,
      "rowLimit": 10000
     },
     "inputWidgets": {},
     "nuid": "d5114f0e-de8f-45cc-91f2-399998625b9a",
     "showTitle": false,
     "title": ""
    }
   },
   "outputs": [
    {
     "output_type": "display_data",
     "data": {
      "text/html": [
       "<style scoped>\n",
       "  .table-result-container {\n",
       "    max-height: 300px;\n",
       "    overflow: auto;\n",
       "  }\n",
       "  table, th, td {\n",
       "    border: 1px solid black;\n",
       "    border-collapse: collapse;\n",
       "  }\n",
       "  th, td {\n",
       "    padding: 5px;\n",
       "  }\n",
       "  th {\n",
       "    text-align: left;\n",
       "  }\n",
       "</style><div class='table-result-container'><table class='table-result'><thead style='background-color: white'><tr><th>team_id</th><th>group_name</th><th>matches_played</th><th>wins</th><th>draw</th><th>lose</th><th>goals_scored</th><th>goals_conceded</th><th>goal_diff</th><th>points</th></tr></thead><tbody><tr><td>Germany</td><td>A</td><td>3</td><td>2</td><td>0</td><td>1</td><td>8</td><td>4</td><td>4</td><td>6</td></tr><tr><td>Scotland</td><td>A</td><td>3</td><td>1</td><td>0</td><td>2</td><td>6</td><td>7</td><td>-1</td><td>3</td></tr><tr><td>Hungary</td><td>A</td><td>3</td><td>1</td><td>0</td><td>2</td><td>4</td><td>8</td><td>-4</td><td>3</td></tr><tr><td>Switzerland</td><td>A</td><td>3</td><td>2</td><td>0</td><td>1</td><td>7</td><td>6</td><td>1</td><td>6</td></tr><tr><td>Italy</td><td>B</td><td>3</td><td>2</td><td>1</td><td>0</td><td>11</td><td>8</td><td>3</td><td>7</td></tr><tr><td>Croatia</td><td>B</td><td>3</td><td>1</td><td>1</td><td>1</td><td>12</td><td>9</td><td>3</td><td>4</td></tr><tr><td>Spain</td><td>B</td><td>3</td><td>1</td><td>1</td><td>1</td><td>7</td><td>10</td><td>-3</td><td>4</td></tr><tr><td>Albania</td><td>B</td><td>3</td><td>0</td><td>1</td><td>2</td><td>10</td><td>13</td><td>-3</td><td>1</td></tr><tr><td>Serbia</td><td>C</td><td>3</td><td>2</td><td>1</td><td>0</td><td>10</td><td>3</td><td>7</td><td>7</td></tr><tr><td>Denmark</td><td>C</td><td>3</td><td>1</td><td>1</td><td>1</td><td>8</td><td>10</td><td>-2</td><td>4</td></tr><tr><td>Slovenia</td><td>C</td><td>3</td><td>0</td><td>1</td><td>2</td><td>7</td><td>12</td><td>-5</td><td>1</td></tr><tr><td>England</td><td>C</td><td>3</td><td>1</td><td>1</td><td>1</td><td>8</td><td>8</td><td>0</td><td>4</td></tr><tr><td>France</td><td>D</td><td>3</td><td>0</td><td>0</td><td>3</td><td>4</td><td>15</td><td>-11</td><td>0</td></tr><tr><td>Austria</td><td>D</td><td>3</td><td>2</td><td>0</td><td>1</td><td>13</td><td>10</td><td>3</td><td>6</td></tr><tr><td>Netherlands</td><td>D</td><td>3</td><td>1</td><td>0</td><td>2</td><td>12</td><td>9</td><td>3</td><td>3</td></tr><tr><td>Wales</td><td>D</td><td>3</td><td>3</td><td>0</td><td>0</td><td>13</td><td>8</td><td>5</td><td>9</td></tr><tr><td>Slovakia</td><td>E</td><td>3</td><td>3</td><td>0</td><td>0</td><td>11</td><td>8</td><td>3</td><td>9</td></tr><tr><td>Belgium</td><td>E</td><td>3</td><td>2</td><td>0</td><td>1</td><td>11</td><td>6</td><td>5</td><td>6</td></tr><tr><td>Romania</td><td>E</td><td>3</td><td>0</td><td>0</td><td>3</td><td>3</td><td>10</td><td>-7</td><td>0</td></tr><tr><td>Poland</td><td>E</td><td>3</td><td>1</td><td>0</td><td>2</td><td>6</td><td>7</td><td>-1</td><td>3</td></tr><tr><td>Portugal</td><td>F</td><td>3</td><td>0</td><td>1</td><td>2</td><td>6</td><td>9</td><td>-3</td><td>1</td></tr><tr><td>Turkey</td><td>F</td><td>3</td><td>1</td><td>1</td><td>1</td><td>7</td><td>9</td><td>-2</td><td>4</td></tr><tr><td>Kazakhstan</td><td>F</td><td>3</td><td>1</td><td>0</td><td>2</td><td>13</td><td>13</td><td>0</td><td>3</td></tr><tr><td>Czech Republic</td><td>F</td><td>3</td><td>3</td><td>0</td><td>0</td><td>14</td><td>9</td><td>5</td><td>9</td></tr></tbody></table></div>"
      ]
     },
     "metadata": {
      "application/vnd.databricks.v1+output": {
       "addedWidgets": {},
       "aggData": [],
       "aggError": "",
       "aggOverflow": false,
       "aggSchema": [],
       "aggSeriesLimitReached": false,
       "aggType": "",
       "arguments": {},
       "columnCustomDisplayInfos": {},
       "data": [
        [
         "Germany",
         "A",
         3,
         2,
         0,
         1,
         8,
         4,
         4,
         6
        ],
        [
         "Scotland",
         "A",
         3,
         1,
         0,
         2,
         6,
         7,
         -1,
         3
        ],
        [
         "Hungary",
         "A",
         3,
         1,
         0,
         2,
         4,
         8,
         -4,
         3
        ],
        [
         "Switzerland",
         "A",
         3,
         2,
         0,
         1,
         7,
         6,
         1,
         6
        ],
        [
         "Italy",
         "B",
         3,
         2,
         1,
         0,
         11,
         8,
         3,
         7
        ],
        [
         "Croatia",
         "B",
         3,
         1,
         1,
         1,
         12,
         9,
         3,
         4
        ],
        [
         "Spain",
         "B",
         3,
         1,
         1,
         1,
         7,
         10,
         -3,
         4
        ],
        [
         "Albania",
         "B",
         3,
         0,
         1,
         2,
         10,
         13,
         -3,
         1
        ],
        [
         "Serbia",
         "C",
         3,
         2,
         1,
         0,
         10,
         3,
         7,
         7
        ],
        [
         "Denmark",
         "C",
         3,
         1,
         1,
         1,
         8,
         10,
         -2,
         4
        ],
        [
         "Slovenia",
         "C",
         3,
         0,
         1,
         2,
         7,
         12,
         -5,
         1
        ],
        [
         "England",
         "C",
         3,
         1,
         1,
         1,
         8,
         8,
         0,
         4
        ],
        [
         "France",
         "D",
         3,
         0,
         0,
         3,
         4,
         15,
         -11,
         0
        ],
        [
         "Austria",
         "D",
         3,
         2,
         0,
         1,
         13,
         10,
         3,
         6
        ],
        [
         "Netherlands",
         "D",
         3,
         1,
         0,
         2,
         12,
         9,
         3,
         3
        ],
        [
         "Wales",
         "D",
         3,
         3,
         0,
         0,
         13,
         8,
         5,
         9
        ],
        [
         "Slovakia",
         "E",
         3,
         3,
         0,
         0,
         11,
         8,
         3,
         9
        ],
        [
         "Belgium",
         "E",
         3,
         2,
         0,
         1,
         11,
         6,
         5,
         6
        ],
        [
         "Romania",
         "E",
         3,
         0,
         0,
         3,
         3,
         10,
         -7,
         0
        ],
        [
         "Poland",
         "E",
         3,
         1,
         0,
         2,
         6,
         7,
         -1,
         3
        ],
        [
         "Portugal",
         "F",
         3,
         0,
         1,
         2,
         6,
         9,
         -3,
         1
        ],
        [
         "Turkey",
         "F",
         3,
         1,
         1,
         1,
         7,
         9,
         -2,
         4
        ],
        [
         "Kazakhstan",
         "F",
         3,
         1,
         0,
         2,
         13,
         13,
         0,
         3
        ],
        [
         "Czech Republic",
         "F",
         3,
         3,
         0,
         0,
         14,
         9,
         5,
         9
        ]
       ],
       "datasetInfos": [],
       "dbfsResultPath": null,
       "isJsonSchema": true,
       "metadata": {},
       "overflow": false,
       "plotOptions": {
        "customPlotOptions": {},
        "displayType": "table",
        "pivotAggregation": null,
        "pivotColumns": null,
        "xColumns": null,
        "yColumns": null
       },
       "removedWidgets": [],
       "schema": [
        {
         "metadata": "{\"__CHAR_VARCHAR_TYPE_STRING\":\"varchar(20)\"}",
         "name": "team_id",
         "type": "\"string\""
        },
        {
         "metadata": "{\"__CHAR_VARCHAR_TYPE_STRING\":\"varchar(1)\"}",
         "name": "group_name",
         "type": "\"string\""
        },
        {
         "metadata": "{}",
         "name": "matches_played",
         "type": "\"long\""
        },
        {
         "metadata": "{}",
         "name": "wins",
         "type": "\"long\""
        },
        {
         "metadata": "{}",
         "name": "draw",
         "type": "\"long\""
        },
        {
         "metadata": "{}",
         "name": "lose",
         "type": "\"long\""
        },
        {
         "metadata": "{}",
         "name": "goals_scored",
         "type": "\"long\""
        },
        {
         "metadata": "{}",
         "name": "goals_conceded",
         "type": "\"long\""
        },
        {
         "metadata": "{}",
         "name": "goal_diff",
         "type": "\"long\""
        },
        {
         "metadata": "{}",
         "name": "points",
         "type": "\"long\""
        }
       ],
       "type": "table"
      }
     },
     "output_type": "display_data"
    }
   ],
   "source": [
    "%sql\n",
    "select * from point_table;"
   ]
  },
  {
   "cell_type": "markdown",
   "metadata": {
    "application/vnd.databricks.v1+cell": {
     "cellMetadata": {
      "byteLimit": 2048000,
      "rowLimit": 10000
     },
     "inputWidgets": {},
     "nuid": "6c556d28-97b5-42be-9920-0701be51b40a",
     "showTitle": false,
     "title": ""
    }
   },
   "source": [
    "Create new table to store all the qualifying teams from each group\n",
    "\n",
    "-TOP 2 teams from each group forwards to TOP 16\n",
    "\n",
    "-TOP 4 teams that placed 3rd from all groups (4 out of 6)\n"
   ]
  },
  {
   "cell_type": "code",
   "execution_count": 0,
   "metadata": {
    "application/vnd.databricks.v1+cell": {
     "cellMetadata": {
      "byteLimit": 2048000,
      "rowLimit": 10000
     },
     "inputWidgets": {},
     "nuid": "f7d556c3-1f2e-410f-8ffc-fe7945bf0206",
     "showTitle": false,
     "title": ""
    }
   },
   "outputs": [
    {
     "output_type": "stream",
     "name": "stdout",
     "output_type": "stream",
     "text": [
      "Out[19]: False"
     ]
    }
   ],
   "source": [
    "dbutils.fs.rm(\"dbfs:/user/hive/warehouse/RO16_table\",True)"
   ]
  },
  {
   "cell_type": "code",
   "execution_count": 0,
   "metadata": {
    "application/vnd.databricks.v1+cell": {
     "cellMetadata": {
      "byteLimit": 2048000,
      "implicitDf": true,
      "rowLimit": 10000
     },
     "inputWidgets": {},
     "nuid": "923b42b6-33cd-4d54-b277-eccc307ca090",
     "showTitle": false,
     "title": ""
    }
   },
   "outputs": [
    {
     "output_type": "display_data",
     "data": {
      "text/html": [
       "<style scoped>\n",
       "  .table-result-container {\n",
       "    max-height: 300px;\n",
       "    overflow: auto;\n",
       "  }\n",
       "  table, th, td {\n",
       "    border: 1px solid black;\n",
       "    border-collapse: collapse;\n",
       "  }\n",
       "  th, td {\n",
       "    padding: 5px;\n",
       "  }\n",
       "  th {\n",
       "    text-align: left;\n",
       "  }\n",
       "</style><div class='table-result-container'><table class='table-result'><thead style='background-color: white'><tr><th>num_affected_rows</th><th>num_inserted_rows</th></tr></thead><tbody></tbody></table></div>"
      ]
     },
     "metadata": {
      "application/vnd.databricks.v1+output": {
       "addedWidgets": {},
       "aggData": [],
       "aggError": "",
       "aggOverflow": false,
       "aggSchema": [],
       "aggSeriesLimitReached": false,
       "aggType": "",
       "arguments": {},
       "columnCustomDisplayInfos": {},
       "data": [],
       "datasetInfos": [],
       "dbfsResultPath": null,
       "isJsonSchema": true,
       "metadata": {},
       "overflow": false,
       "plotOptions": {
        "customPlotOptions": {},
        "displayType": "table",
        "pivotAggregation": null,
        "pivotColumns": null,
        "xColumns": null,
        "yColumns": null
       },
       "removedWidgets": [],
       "schema": [
        {
         "metadata": "{}",
         "name": "num_affected_rows",
         "type": "\"long\""
        },
        {
         "metadata": "{}",
         "name": "num_inserted_rows",
         "type": "\"long\""
        }
       ],
       "type": "table"
      }
     },
     "output_type": "display_data"
    }
   ],
   "source": [
    "%sql\n",
    "CREATE OR REPLACE TABLE RO16_table AS\n",
    "SELECT * FROM(\n",
    "  SELECT team_id, group_name, points, goal_diff,\n",
    "  row_number() OVER (PARTITION BY group_name ORDER BY points DESC, goal_diff DESC, goals_scored DESC, wins DESC)AS ranks\n",
    "  FROM point_table\n",
    ")AS top2_teams\n",
    "WHERE ranks <= 2;"
   ]
  },
  {
   "cell_type": "code",
   "execution_count": 0,
   "metadata": {
    "application/vnd.databricks.v1+cell": {
     "cellMetadata": {
      "byteLimit": 2048000,
      "implicitDf": true,
      "rowLimit": 10000
     },
     "inputWidgets": {},
     "nuid": "02ca089a-3332-4a19-a691-ce7a175909c9",
     "showTitle": false,
     "title": ""
    }
   },
   "outputs": [
    {
     "output_type": "display_data",
     "data": {
      "text/html": [
       "<style scoped>\n",
       "  .table-result-container {\n",
       "    max-height: 300px;\n",
       "    overflow: auto;\n",
       "  }\n",
       "  table, th, td {\n",
       "    border: 1px solid black;\n",
       "    border-collapse: collapse;\n",
       "  }\n",
       "  th, td {\n",
       "    padding: 5px;\n",
       "  }\n",
       "  th {\n",
       "    text-align: left;\n",
       "  }\n",
       "</style><div class='table-result-container'><table class='table-result'><thead style='background-color: white'><tr><th>team_id</th><th>group_name</th><th>points</th><th>goal_diff</th><th>ranks</th></tr></thead><tbody><tr><td>Germany</td><td>A</td><td>6</td><td>4</td><td>1</td></tr><tr><td>Switzerland</td><td>A</td><td>6</td><td>1</td><td>2</td></tr><tr><td>Italy</td><td>B</td><td>7</td><td>3</td><td>1</td></tr><tr><td>Croatia</td><td>B</td><td>4</td><td>3</td><td>2</td></tr><tr><td>Serbia</td><td>C</td><td>7</td><td>7</td><td>1</td></tr><tr><td>England</td><td>C</td><td>4</td><td>0</td><td>2</td></tr><tr><td>Wales</td><td>D</td><td>9</td><td>5</td><td>1</td></tr><tr><td>Austria</td><td>D</td><td>6</td><td>3</td><td>2</td></tr><tr><td>Slovakia</td><td>E</td><td>9</td><td>3</td><td>1</td></tr><tr><td>Belgium</td><td>E</td><td>6</td><td>5</td><td>2</td></tr><tr><td>Czech Republic</td><td>F</td><td>9</td><td>5</td><td>1</td></tr><tr><td>Turkey</td><td>F</td><td>4</td><td>-2</td><td>2</td></tr></tbody></table></div>"
      ]
     },
     "metadata": {
      "application/vnd.databricks.v1+output": {
       "addedWidgets": {},
       "aggData": [],
       "aggError": "",
       "aggOverflow": false,
       "aggSchema": [],
       "aggSeriesLimitReached": false,
       "aggType": "",
       "arguments": {},
       "columnCustomDisplayInfos": {},
       "data": [
        [
         "Germany",
         "A",
         6,
         4,
         1
        ],
        [
         "Switzerland",
         "A",
         6,
         1,
         2
        ],
        [
         "Italy",
         "B",
         7,
         3,
         1
        ],
        [
         "Croatia",
         "B",
         4,
         3,
         2
        ],
        [
         "Serbia",
         "C",
         7,
         7,
         1
        ],
        [
         "England",
         "C",
         4,
         0,
         2
        ],
        [
         "Wales",
         "D",
         9,
         5,
         1
        ],
        [
         "Austria",
         "D",
         6,
         3,
         2
        ],
        [
         "Slovakia",
         "E",
         9,
         3,
         1
        ],
        [
         "Belgium",
         "E",
         6,
         5,
         2
        ],
        [
         "Czech Republic",
         "F",
         9,
         5,
         1
        ],
        [
         "Turkey",
         "F",
         4,
         -2,
         2
        ]
       ],
       "datasetInfos": [],
       "dbfsResultPath": null,
       "isJsonSchema": true,
       "metadata": {},
       "overflow": false,
       "plotOptions": {
        "customPlotOptions": {},
        "displayType": "table",
        "pivotAggregation": null,
        "pivotColumns": null,
        "xColumns": null,
        "yColumns": null
       },
       "removedWidgets": [],
       "schema": [
        {
         "metadata": "{\"__CHAR_VARCHAR_TYPE_STRING\":\"varchar(20)\"}",
         "name": "team_id",
         "type": "\"string\""
        },
        {
         "metadata": "{\"__CHAR_VARCHAR_TYPE_STRING\":\"varchar(1)\"}",
         "name": "group_name",
         "type": "\"string\""
        },
        {
         "metadata": "{}",
         "name": "points",
         "type": "\"long\""
        },
        {
         "metadata": "{}",
         "name": "goal_diff",
         "type": "\"long\""
        },
        {
         "metadata": "{}",
         "name": "ranks",
         "type": "\"integer\""
        }
       ],
       "type": "table"
      }
     },
     "output_type": "display_data"
    }
   ],
   "source": [
    "%sql\n",
    "select * from RO16_table;"
   ]
  },
  {
   "cell_type": "markdown",
   "metadata": {
    "application/vnd.databricks.v1+cell": {
     "cellMetadata": {
      "byteLimit": 2048000,
      "rowLimit": 10000
     },
     "inputWidgets": {},
     "nuid": "b6948fa7-bc8c-4e4d-9308-70d1b1dd7177",
     "showTitle": false,
     "title": ""
    }
   },
   "source": [
    "Top 4 teams from the 3 position team of every group \n",
    "\n",
    "Based upon points, goal_diff, goals_scored  and goals_conceded"
   ]
  },
  {
   "cell_type": "code",
   "execution_count": 0,
   "metadata": {
    "application/vnd.databricks.v1+cell": {
     "cellMetadata": {
      "byteLimit": 2048000,
      "implicitDf": true,
      "rowLimit": 10000
     },
     "inputWidgets": {},
     "nuid": "3e2456f4-cb05-4c00-af64-863b6c76ff3f",
     "showTitle": false,
     "title": ""
    }
   },
   "outputs": [
    {
     "output_type": "display_data",
     "data": {
      "text/html": [
       "<style scoped>\n",
       "  .table-result-container {\n",
       "    max-height: 300px;\n",
       "    overflow: auto;\n",
       "  }\n",
       "  table, th, td {\n",
       "    border: 1px solid black;\n",
       "    border-collapse: collapse;\n",
       "  }\n",
       "  th, td {\n",
       "    padding: 5px;\n",
       "  }\n",
       "  th {\n",
       "    text-align: left;\n",
       "  }\n",
       "</style><div class='table-result-container'><table class='table-result'><thead style='background-color: white'><tr><th>num_affected_rows</th><th>num_inserted_rows</th></tr></thead><tbody><tr><td>4</td><td>4</td></tr></tbody></table></div>"
      ]
     },
     "metadata": {
      "application/vnd.databricks.v1+output": {
       "addedWidgets": {},
       "aggData": [],
       "aggError": "",
       "aggOverflow": false,
       "aggSchema": [],
       "aggSeriesLimitReached": false,
       "aggType": "",
       "arguments": {},
       "columnCustomDisplayInfos": {},
       "data": [
        [
         4,
         4
        ]
       ],
       "datasetInfos": [],
       "dbfsResultPath": null,
       "isJsonSchema": true,
       "metadata": {},
       "overflow": false,
       "plotOptions": {
        "customPlotOptions": {},
        "displayType": "table",
        "pivotAggregation": null,
        "pivotColumns": null,
        "xColumns": null,
        "yColumns": null
       },
       "removedWidgets": [],
       "schema": [
        {
         "metadata": "{}",
         "name": "num_affected_rows",
         "type": "\"long\""
        },
        {
         "metadata": "{}",
         "name": "num_inserted_rows",
         "type": "\"long\""
        }
       ],
       "type": "table"
      }
     },
     "output_type": "display_data"
    }
   ],
   "source": [
    "%sql\n",
    "INSERT INTO RO16_table\n",
    "SELECT * FROM(\n",
    "  SELECT team_id, group_name, points, goal_diff,\n",
    "  row_number() OVER (PARTITION BY group_name ORDER BY points DESC, goal_diff DESC, goals_scored DESC, wins DESC) AS ranks\n",
    "  FROM point_table\n",
    ")AS top2_teams\n",
    "WHERE ranks = 3 LIMIT 4;"
   ]
  },
  {
   "cell_type": "code",
   "execution_count": 0,
   "metadata": {
    "application/vnd.databricks.v1+cell": {
     "cellMetadata": {
      "byteLimit": 2048000,
      "implicitDf": true,
      "rowLimit": 10000
     },
     "inputWidgets": {},
     "nuid": "4a815c15-1d8f-4d8b-9cf9-1676169b0d3a",
     "showTitle": false,
     "title": ""
    }
   },
   "outputs": [
    {
     "output_type": "display_data",
     "data": {
      "text/html": [
       "<style scoped>\n",
       "  .table-result-container {\n",
       "    max-height: 300px;\n",
       "    overflow: auto;\n",
       "  }\n",
       "  table, th, td {\n",
       "    border: 1px solid black;\n",
       "    border-collapse: collapse;\n",
       "  }\n",
       "  th, td {\n",
       "    padding: 5px;\n",
       "  }\n",
       "  th {\n",
       "    text-align: left;\n",
       "  }\n",
       "</style><div class='table-result-container'><table class='table-result'><thead style='background-color: white'><tr><th>team_id</th><th>group_name</th><th>points</th><th>goal_diff</th><th>ranks</th></tr></thead><tbody><tr><td>Germany</td><td>A</td><td>6</td><td>4</td><td>1</td></tr><tr><td>Switzerland</td><td>A</td><td>6</td><td>1</td><td>2</td></tr><tr><td>Italy</td><td>B</td><td>7</td><td>3</td><td>1</td></tr><tr><td>Croatia</td><td>B</td><td>4</td><td>3</td><td>2</td></tr><tr><td>Serbia</td><td>C</td><td>7</td><td>7</td><td>1</td></tr><tr><td>England</td><td>C</td><td>4</td><td>0</td><td>2</td></tr><tr><td>Wales</td><td>D</td><td>9</td><td>5</td><td>1</td></tr><tr><td>Austria</td><td>D</td><td>6</td><td>3</td><td>2</td></tr><tr><td>Slovakia</td><td>E</td><td>9</td><td>3</td><td>1</td></tr><tr><td>Belgium</td><td>E</td><td>6</td><td>5</td><td>2</td></tr><tr><td>Czech Republic</td><td>F</td><td>9</td><td>5</td><td>1</td></tr><tr><td>Turkey</td><td>F</td><td>4</td><td>-2</td><td>2</td></tr><tr><td>Scotland</td><td>A</td><td>3</td><td>-1</td><td>3</td></tr><tr><td>Spain</td><td>B</td><td>4</td><td>-3</td><td>3</td></tr><tr><td>Denmark</td><td>C</td><td>4</td><td>-2</td><td>3</td></tr><tr><td>Netherlands</td><td>D</td><td>3</td><td>3</td><td>3</td></tr></tbody></table></div>"
      ]
     },
     "metadata": {
      "application/vnd.databricks.v1+output": {
       "addedWidgets": {},
       "aggData": [],
       "aggError": "",
       "aggOverflow": false,
       "aggSchema": [],
       "aggSeriesLimitReached": false,
       "aggType": "",
       "arguments": {},
       "columnCustomDisplayInfos": {},
       "data": [
        [
         "Germany",
         "A",
         6,
         4,
         1
        ],
        [
         "Switzerland",
         "A",
         6,
         1,
         2
        ],
        [
         "Italy",
         "B",
         7,
         3,
         1
        ],
        [
         "Croatia",
         "B",
         4,
         3,
         2
        ],
        [
         "Serbia",
         "C",
         7,
         7,
         1
        ],
        [
         "England",
         "C",
         4,
         0,
         2
        ],
        [
         "Wales",
         "D",
         9,
         5,
         1
        ],
        [
         "Austria",
         "D",
         6,
         3,
         2
        ],
        [
         "Slovakia",
         "E",
         9,
         3,
         1
        ],
        [
         "Belgium",
         "E",
         6,
         5,
         2
        ],
        [
         "Czech Republic",
         "F",
         9,
         5,
         1
        ],
        [
         "Turkey",
         "F",
         4,
         -2,
         2
        ],
        [
         "Scotland",
         "A",
         3,
         -1,
         3
        ],
        [
         "Spain",
         "B",
         4,
         -3,
         3
        ],
        [
         "Denmark",
         "C",
         4,
         -2,
         3
        ],
        [
         "Netherlands",
         "D",
         3,
         3,
         3
        ]
       ],
       "datasetInfos": [],
       "dbfsResultPath": null,
       "isJsonSchema": true,
       "metadata": {},
       "overflow": false,
       "plotOptions": {
        "customPlotOptions": {},
        "displayType": "table",
        "pivotAggregation": null,
        "pivotColumns": null,
        "xColumns": null,
        "yColumns": null
       },
       "removedWidgets": [],
       "schema": [
        {
         "metadata": "{\"__CHAR_VARCHAR_TYPE_STRING\":\"varchar(20)\"}",
         "name": "team_id",
         "type": "\"string\""
        },
        {
         "metadata": "{\"__CHAR_VARCHAR_TYPE_STRING\":\"varchar(1)\"}",
         "name": "group_name",
         "type": "\"string\""
        },
        {
         "metadata": "{}",
         "name": "points",
         "type": "\"long\""
        },
        {
         "metadata": "{}",
         "name": "goal_diff",
         "type": "\"long\""
        },
        {
         "metadata": "{}",
         "name": "ranks",
         "type": "\"integer\""
        }
       ],
       "type": "table"
      }
     },
     "output_type": "display_data"
    }
   ],
   "source": [
    "%sql\n",
    "select * from RO16_table;"
   ]
  },
  {
   "cell_type": "markdown",
   "metadata": {
    "application/vnd.databricks.v1+cell": {
     "cellMetadata": {
      "byteLimit": 2048000,
      "rowLimit": 10000
     },
     "inputWidgets": {},
     "nuid": "36b6f6ea-85c2-49bd-8cb5-09a386463e3b",
     "showTitle": false,
     "title": ""
    }
   },
   "source": [
    "Inserting Matches of Round of 16 into  match_table\n",
    "\n",
    "Matches are based upond the combination of top 4 third teams \n",
    "\n",
    "\n"
   ]
  },
  {
   "cell_type": "code",
   "execution_count": 0,
   "metadata": {
    "application/vnd.databricks.v1+cell": {
     "cellMetadata": {
      "byteLimit": 2048000,
      "implicitDf": true,
      "rowLimit": 10000
     },
     "inputWidgets": {},
     "nuid": "f2b39336-fc01-4261-87ca-8b417292fbc1",
     "showTitle": false,
     "title": ""
    }
   },
   "outputs": [
    {
     "output_type": "display_data",
     "data": {
      "text/html": [
       "<style scoped>\n",
       "  .table-result-container {\n",
       "    max-height: 300px;\n",
       "    overflow: auto;\n",
       "  }\n",
       "  table, th, td {\n",
       "    border: 1px solid black;\n",
       "    border-collapse: collapse;\n",
       "  }\n",
       "  th, td {\n",
       "    padding: 5px;\n",
       "  }\n",
       "  th {\n",
       "    text-align: left;\n",
       "  }\n",
       "</style><div class='table-result-container'><table class='table-result'><thead style='background-color: white'><tr><th>num_affected_rows</th><th>num_inserted_rows</th></tr></thead><tbody><tr><td>8</td><td>8</td></tr></tbody></table></div>"
      ]
     },
     "metadata": {
      "application/vnd.databricks.v1+output": {
       "addedWidgets": {},
       "aggData": [],
       "aggError": "",
       "aggOverflow": false,
       "aggSchema": [],
       "aggSeriesLimitReached": false,
       "aggType": "",
       "arguments": {},
       "columnCustomDisplayInfos": {},
       "data": [
        [
         8,
         8
        ]
       ],
       "datasetInfos": [],
       "dbfsResultPath": null,
       "isJsonSchema": true,
       "metadata": {},
       "overflow": false,
       "plotOptions": {
        "customPlotOptions": {},
        "displayType": "table",
        "pivotAggregation": null,
        "pivotColumns": null,
        "xColumns": null,
        "yColumns": null
       },
       "removedWidgets": [],
       "schema": [
        {
         "metadata": "{}",
         "name": "num_affected_rows",
         "type": "\"long\""
        },
        {
         "metadata": "{}",
         "name": "num_inserted_rows",
         "type": "\"long\""
        }
       ],
       "type": "table"
      }
     },
     "output_type": "display_data"
    }
   ],
   "source": [
    "%sql\n",
    "INSERT INTO match_table (match_id, match_fixtures, group_name, team1, team2, team1_goals, team2_goals, match_results, match_stage)\n",
    "WITH combination AS (\n",
    "  SELECT concat_ws('', sort_array(collect_list(group_name)))AS group_combination\n",
    "  FROM RO16_table\n",
    "  WHERE ranks = 3\n",
    "),\n",
    "keys AS (\n",
    "  SELECT * FROM third_place_combination\n",
    "  WHERE selected_groups = (SELECT group_combination FROM combination)\n",
    ")\n",
    "SELECT\n",
    "row_number() OVER (ORDER BY 1) + 36 AS match_id,\n",
    "CONCAT(r1.team_id, ' VS ' ,r2.team_id)AS match_fixtures,\n",
    "'N' AS group_name,\n",
    "r1.team_id AS team1, \n",
    "r2.team_id AS team2, \n",
    "CAST(rand() * 6 AS INTEGER) AS goals_scored,\n",
    "CAST(rand() * 6 AS INTEGER) AS goals_conceded,\n",
    "'NONE' AS match_result,\n",
    "'R16' AS match_stage\n",
    "FROM RO16_table r1\n",
    "JOIN RO16_table r2 ON r1.group_name = 'A' AND r1.ranks = 1 AND r2.group_name = 'C' AND r2.ranks = 2\n",
    "\n",
    "UNION ALL\n",
    "\n",
    "SELECT\n",
    "row_number() OVER (ORDER BY 1) + 37 AS match_id,\n",
    "CONCAT(r1.team_id, ' VS ' ,r2.team_id)AS match_fixtures,\n",
    "'N' AS group_name,\n",
    "r1.team_id AS team1,\n",
    "r2.team_id AS team2,\n",
    "CAST(rand() * 6 AS INTEGER) AS goals_scored,\n",
    "CAST(rand() * 6 AS INTEGER) AS goals_conceded,\n",
    "'NONE' AS match_result,\n",
    "'R16' AS match_stage\n",
    "FROM RO16_table r1\n",
    "JOIN RO16_table r2 ON r1.group_name = 'A' AND r1.ranks = 2 AND r2.group_name = 'B' AND r2.ranks = 2\n",
    "\n",
    "UNION ALL\n",
    "\n",
    "SELECT\n",
    "row_number() OVER (ORDER BY 1) + 38 AS match_id,\n",
    "CONCAT(r1.team_id, ' VS ' ,r2.team_id)AS match_fixtures,\n",
    "'N' AS group_name,\n",
    "r1.team_id AS team1,\n",
    "r2.team_id AS team2,\n",
    "CAST(rand() * 6 AS INTEGER) AS goals_scored,\n",
    "CAST(rand() * 6 AS INTEGER) AS goals_conceded,\n",
    "'NONE' AS match_result,\n",
    "'R16' AS match_stage\n",
    "FROM RO16_table r1\n",
    "JOIN RO16_table r2 ON r1.group_name = 'B' AND r1.ranks = 1 AND r2.group_name = (SELECT TEAM1B FROM keys) AND r2.ranks = 3\n",
    "\n",
    "UNION ALL\n",
    "\n",
    "SELECT\n",
    "row_number() OVER (ORDER BY 1) + 39 AS match_id,\n",
    "CONCAT(r1.team_id, ' VS ' ,r2.team_id)AS match_fixtures,\n",
    "'N' AS group_name,\n",
    "r1.team_id AS team1,\n",
    "r2.team_id AS team2,\n",
    "CAST(rand() * 6 AS INTEGER) AS goals_scored,\n",
    "CAST(rand() * 6 AS INTEGER) AS goals_conceded,\n",
    "'NONE' AS match_result,\n",
    "'R16' AS match_stage\n",
    "FROM RO16_table r1\n",
    "JOIN RO16_table r2 ON r1.group_name = 'C' AND r1.ranks = 1 AND r2.group_name = (select Team1C from keys) AND r2.ranks = 3\n",
    "\n",
    "UNION ALL\n",
    "\n",
    "SELECT\n",
    "row_number() OVER (ORDER BY 1) + 40 AS match_id,\n",
    "CONCAT(r1.team_id, ' VS ' ,r2.team_id)AS match_fixtures,\n",
    "'N' AS group_name,\n",
    "r1.team_id AS team1, --home_team,\n",
    "r2.team_id AS team2, --away_team,\n",
    "CAST(rand() * 6 AS INTEGER) AS goals_scored,\n",
    "CAST(rand() * 6 AS INTEGER) AS goals_conceded,\n",
    "'NONE' AS match_result,\n",
    "'R16' AS match_stage\n",
    "FROM RO16_table r1\n",
    "JOIN RO16_table r2 ON r1.group_name = 'F' AND r1.ranks = 1 AND r2.group_name = (select Team1F from keys) AND r2.ranks = 3\n",
    "\n",
    "UNION ALL\n",
    "\n",
    "SELECT\n",
    "row_number() OVER (ORDER BY 1) + 41 AS match_id,\n",
    "CONCAT(r1.team_id, ' VS ' ,r2.team_id)AS match_fixtures,\n",
    "'N' AS group_name,\n",
    "r1.team_id AS team1, --home_team,\n",
    "r2.team_id AS team2, --away_team,\n",
    "CAST(rand() * 6 AS INTEGER) AS goals_scored,\n",
    "CAST(rand() * 6 AS INTEGER) AS goals_conceded,\n",
    "'NONE' AS match_result,\n",
    "'R16' AS match_stage\n",
    "FROM RO16_table r1\n",
    "JOIN RO16_table r2 ON r1.group_name = 'D' AND r1.ranks = 2 AND r2.group_name = 'E' AND r2.ranks = 2\n",
    "\n",
    "UNION ALL\n",
    "\n",
    "SELECT\n",
    "row_number() OVER (ORDER BY 1) + 42 AS match_id,\n",
    "CONCAT(r1.team_id, ' VS ' ,r2.team_id)AS match_fixtures,\n",
    "'N' AS group_name,\n",
    "r1.team_id AS team1,\n",
    "r2.team_id AS team2,\n",
    "CAST(rand() * 6 AS INTEGER) AS goals_scored,\n",
    "CAST(rand() * 6 AS INTEGER) AS goals_conceded,\n",
    "'NONE' AS match_result,\n",
    "'R16' AS match_stage\n",
    "FROM RO16_table r1\n",
    "JOIN RO16_table r2 ON r1.group_name = 'D' AND r1.ranks = 1 AND r2.group_name = (SELECT Team1E from keys) AND r2.ranks = 3\n",
    "\n",
    "UNION ALL\n",
    "\n",
    "SELECT\n",
    "row_number() OVER (ORDER BY 1) + 43 AS match_id,\n",
    "CONCAT(r1.team_id, ' VS ' ,r2.team_id)AS match_fixtures,\n",
    "'N' AS group_name,\n",
    "r1.team_id AS team1, \n",
    "r2.team_id AS team2, \n",
    "CAST(rand() * 6 AS INTEGER) AS goals_scored,\n",
    "CAST(rand() * 6 AS INTEGER) AS goals_conceded,\n",
    "'NONE' AS match_result,\n",
    "'R16' AS match_stage\n",
    "FROM RO16_table r1\n",
    "JOIN RO16_table r2 ON r1.group_name = 'D' AND r1.ranks = 2 AND r2.group_name = 'F' AND r2.ranks = 2\n",
    ";"
   ]
  },
  {
   "cell_type": "code",
   "execution_count": 0,
   "metadata": {
    "application/vnd.databricks.v1+cell": {
     "cellMetadata": {
      "byteLimit": 2048000,
      "implicitDf": true,
      "rowLimit": 10000
     },
     "inputWidgets": {},
     "nuid": "3905bda1-6cf8-41e3-b4ce-f0f12e994889",
     "showTitle": false,
     "title": ""
    }
   },
   "outputs": [
    {
     "output_type": "display_data",
     "data": {
      "text/html": [
       "<style scoped>\n",
       "  .table-result-container {\n",
       "    max-height: 300px;\n",
       "    overflow: auto;\n",
       "  }\n",
       "  table, th, td {\n",
       "    border: 1px solid black;\n",
       "    border-collapse: collapse;\n",
       "  }\n",
       "  th, td {\n",
       "    padding: 5px;\n",
       "  }\n",
       "  th {\n",
       "    text-align: left;\n",
       "  }\n",
       "</style><div class='table-result-container'><table class='table-result'><thead style='background-color: white'><tr><th>match_id</th><th>match_fixtures</th><th>group_name</th><th>team1</th><th>team2</th><th>team1_goals</th><th>team2_goals</th><th>match_results</th><th>match_stage</th></tr></thead><tbody><tr><td>1</td><td>Germany Vs Switzerland</td><td>A</td><td>Germany</td><td>Switzerland</td><td>1</td><td>2</td><td>Switzerland</td><td>Group Stage</td></tr><tr><td>2</td><td>Germany Vs Hungary</td><td>A</td><td>Germany</td><td>Hungary</td><td>5</td><td>1</td><td>Germany</td><td>Group Stage</td></tr><tr><td>3</td><td>Germany Vs Scotland</td><td>A</td><td>Germany</td><td>Scotland</td><td>2</td><td>1</td><td>Germany</td><td>Group Stage</td></tr><tr><td>4</td><td>Scotland Vs Switzerland</td><td>A</td><td>Scotland</td><td>Switzerland</td><td>3</td><td>4</td><td>Switzerland</td><td>Group Stage</td></tr><tr><td>5</td><td>Scotland Vs Hungary</td><td>A</td><td>Scotland</td><td>Hungary</td><td>2</td><td>1</td><td>Scotland</td><td>Group Stage</td></tr><tr><td>6</td><td>Hungary Vs Switzerland</td><td>A</td><td>Hungary</td><td>Switzerland</td><td>2</td><td>1</td><td>Hungary</td><td>Group Stage</td></tr><tr><td>7</td><td>Spain Vs Albania</td><td>B</td><td>Spain</td><td>Albania</td><td>4</td><td>2</td><td>Spain</td><td>Group Stage</td></tr><tr><td>8</td><td>Spain Vs Italy</td><td>B</td><td>Spain</td><td>Italy</td><td>3</td><td>3</td><td>DRAW</td><td>Group Stage</td></tr><tr><td>9</td><td>Spain Vs Croatia</td><td>B</td><td>Spain</td><td>Croatia</td><td>0</td><td>5</td><td>Croatia</td><td>Group Stage</td></tr><tr><td>10</td><td>Croatia Vs Albania</td><td>B</td><td>Croatia</td><td>Albania</td><td>5</td><td>5</td><td>DRAW</td><td>Group Stage</td></tr><tr><td>11</td><td>Croatia Vs Italy</td><td>B</td><td>Croatia</td><td>Italy</td><td>2</td><td>4</td><td>Italy</td><td>Group Stage</td></tr><tr><td>12</td><td>Italy Vs Albania</td><td>B</td><td>Italy</td><td>Albania</td><td>4</td><td>3</td><td>Italy</td><td>Group Stage</td></tr><tr><td>13</td><td>Slovenia Vs England</td><td>C</td><td>Slovenia</td><td>England</td><td>2</td><td>4</td><td>England</td><td>Group Stage</td></tr><tr><td>14</td><td>Slovenia Vs Serbia</td><td>C</td><td>Slovenia</td><td>Serbia</td><td>1</td><td>4</td><td>Serbia</td><td>Group Stage</td></tr><tr><td>15</td><td>Slovenia Vs Denmark</td><td>C</td><td>Slovenia</td><td>Denmark</td><td>4</td><td>4</td><td>DRAW</td><td>Group Stage</td></tr><tr><td>16</td><td>Denmark Vs England</td><td>C</td><td>Denmark</td><td>England</td><td>4</td><td>2</td><td>Denmark</td><td>Group Stage</td></tr><tr><td>17</td><td>Denmark Vs Serbia</td><td>C</td><td>Denmark</td><td>Serbia</td><td>0</td><td>4</td><td>Serbia</td><td>Group Stage</td></tr><tr><td>18</td><td>Serbia Vs England</td><td>C</td><td>Serbia</td><td>England</td><td>2</td><td>2</td><td>DRAW</td><td>Group Stage</td></tr><tr><td>19</td><td>Netherlands Vs Wales</td><td>D</td><td>Netherlands</td><td>Wales</td><td>3</td><td>4</td><td>Wales</td><td>Group Stage</td></tr><tr><td>20</td><td>Netherlands Vs France</td><td>D</td><td>Netherlands</td><td>France</td><td>5</td><td>0</td><td>Netherlands</td><td>Group Stage</td></tr><tr><td>21</td><td>Netherlands Vs Austria</td><td>D</td><td>Netherlands</td><td>Austria</td><td>4</td><td>5</td><td>Austria</td><td>Group Stage</td></tr><tr><td>22</td><td>Austria Vs Wales</td><td>D</td><td>Austria</td><td>Wales</td><td>3</td><td>4</td><td>Wales</td><td>Group Stage</td></tr><tr><td>23</td><td>Austria Vs France</td><td>D</td><td>Austria</td><td>France</td><td>5</td><td>2</td><td>Austria</td><td>Group Stage</td></tr><tr><td>24</td><td>France Vs Wales</td><td>D</td><td>France</td><td>Wales</td><td>2</td><td>5</td><td>Wales</td><td>Group Stage</td></tr><tr><td>25</td><td>Belgium Vs Poland</td><td>E</td><td>Belgium</td><td>Poland</td><td>3</td><td>1</td><td>Belgium</td><td>Group Stage</td></tr><tr><td>26</td><td>Belgium Vs Romania</td><td>E</td><td>Belgium</td><td>Romania</td><td>4</td><td>0</td><td>Belgium</td><td>Group Stage</td></tr><tr><td>27</td><td>Belgium Vs Slovakia</td><td>E</td><td>Belgium</td><td>Slovakia</td><td>4</td><td>5</td><td>Slovakia</td><td>Group Stage</td></tr><tr><td>28</td><td>Slovakia Vs Poland</td><td>E</td><td>Slovakia</td><td>Poland</td><td>3</td><td>2</td><td>Slovakia</td><td>Group Stage</td></tr><tr><td>29</td><td>Slovakia Vs Romania</td><td>E</td><td>Slovakia</td><td>Romania</td><td>3</td><td>2</td><td>Slovakia</td><td>Group Stage</td></tr><tr><td>30</td><td>Romania Vs Poland</td><td>E</td><td>Romania</td><td>Poland</td><td>1</td><td>3</td><td>Poland</td><td>Group Stage</td></tr><tr><td>31</td><td>Turkey Vs Czech Republic</td><td>F</td><td>Turkey</td><td>Czech Republic</td><td>2</td><td>5</td><td>Czech Republic</td><td>Group Stage</td></tr><tr><td>32</td><td>Turkey Vs Portugal</td><td>F</td><td>Turkey</td><td>Portugal</td><td>0</td><td>0</td><td>DRAW</td><td>Group Stage</td></tr><tr><td>33</td><td>Turkey Vs Kazakhstan</td><td>F</td><td>Turkey</td><td>Kazakhstan</td><td>5</td><td>4</td><td>Turkey</td><td>Group Stage</td></tr><tr><td>34</td><td>Kazakhstan Vs Czech Republic</td><td>F</td><td>Kazakhstan</td><td>Czech Republic</td><td>4</td><td>5</td><td>Czech Republic</td><td>Group Stage</td></tr><tr><td>35</td><td>Kazakhstan Vs Portugal</td><td>F</td><td>Kazakhstan</td><td>Portugal</td><td>5</td><td>3</td><td>Kazakhstan</td><td>Group Stage</td></tr><tr><td>36</td><td>Portugal Vs Czech Republic</td><td>F</td><td>Portugal</td><td>Czech Republic</td><td>3</td><td>4</td><td>Czech Republic</td><td>Group Stage</td></tr><tr><td>37</td><td>Germany VS England</td><td>N</td><td>Germany</td><td>England</td><td>4</td><td>1</td><td>NONE</td><td>R16</td></tr><tr><td>38</td><td>Switzerland VS Croatia</td><td>N</td><td>Switzerland</td><td>Croatia</td><td>0</td><td>5</td><td>NONE</td><td>R16</td></tr><tr><td>39</td><td>Italy VS Scotland</td><td>N</td><td>Italy</td><td>Scotland</td><td>3</td><td>3</td><td>NONE</td><td>R16</td></tr><tr><td>40</td><td>Serbia VS Netherlands</td><td>N</td><td>Serbia</td><td>Netherlands</td><td>5</td><td>5</td><td>NONE</td><td>R16</td></tr><tr><td>41</td><td>Czech Republic VS Denmark</td><td>N</td><td>Czech Republic</td><td>Denmark</td><td>2</td><td>0</td><td>NONE</td><td>R16</td></tr><tr><td>42</td><td>Austria VS Belgium</td><td>N</td><td>Austria</td><td>Belgium</td><td>5</td><td>4</td><td>NONE</td><td>R16</td></tr><tr><td>43</td><td>Wales VS Spain</td><td>N</td><td>Wales</td><td>Spain</td><td>0</td><td>5</td><td>NONE</td><td>R16</td></tr><tr><td>44</td><td>Austria VS Turkey</td><td>N</td><td>Austria</td><td>Turkey</td><td>4</td><td>0</td><td>NONE</td><td>R16</td></tr></tbody></table></div>"
      ]
     },
     "metadata": {
      "application/vnd.databricks.v1+output": {
       "addedWidgets": {},
       "aggData": [],
       "aggError": "",
       "aggOverflow": false,
       "aggSchema": [],
       "aggSeriesLimitReached": false,
       "aggType": "",
       "arguments": {},
       "columnCustomDisplayInfos": {},
       "data": [
        [
         1,
         "Germany Vs Switzerland",
         "A",
         "Germany",
         "Switzerland",
         1,
         2,
         "Switzerland",
         "Group Stage"
        ],
        [
         2,
         "Germany Vs Hungary",
         "A",
         "Germany",
         "Hungary",
         5,
         1,
         "Germany",
         "Group Stage"
        ],
        [
         3,
         "Germany Vs Scotland",
         "A",
         "Germany",
         "Scotland",
         2,
         1,
         "Germany",
         "Group Stage"
        ],
        [
         4,
         "Scotland Vs Switzerland",
         "A",
         "Scotland",
         "Switzerland",
         3,
         4,
         "Switzerland",
         "Group Stage"
        ],
        [
         5,
         "Scotland Vs Hungary",
         "A",
         "Scotland",
         "Hungary",
         2,
         1,
         "Scotland",
         "Group Stage"
        ],
        [
         6,
         "Hungary Vs Switzerland",
         "A",
         "Hungary",
         "Switzerland",
         2,
         1,
         "Hungary",
         "Group Stage"
        ],
        [
         7,
         "Spain Vs Albania",
         "B",
         "Spain",
         "Albania",
         4,
         2,
         "Spain",
         "Group Stage"
        ],
        [
         8,
         "Spain Vs Italy",
         "B",
         "Spain",
         "Italy",
         3,
         3,
         "DRAW",
         "Group Stage"
        ],
        [
         9,
         "Spain Vs Croatia",
         "B",
         "Spain",
         "Croatia",
         0,
         5,
         "Croatia",
         "Group Stage"
        ],
        [
         10,
         "Croatia Vs Albania",
         "B",
         "Croatia",
         "Albania",
         5,
         5,
         "DRAW",
         "Group Stage"
        ],
        [
         11,
         "Croatia Vs Italy",
         "B",
         "Croatia",
         "Italy",
         2,
         4,
         "Italy",
         "Group Stage"
        ],
        [
         12,
         "Italy Vs Albania",
         "B",
         "Italy",
         "Albania",
         4,
         3,
         "Italy",
         "Group Stage"
        ],
        [
         13,
         "Slovenia Vs England",
         "C",
         "Slovenia",
         "England",
         2,
         4,
         "England",
         "Group Stage"
        ],
        [
         14,
         "Slovenia Vs Serbia",
         "C",
         "Slovenia",
         "Serbia",
         1,
         4,
         "Serbia",
         "Group Stage"
        ],
        [
         15,
         "Slovenia Vs Denmark",
         "C",
         "Slovenia",
         "Denmark",
         4,
         4,
         "DRAW",
         "Group Stage"
        ],
        [
         16,
         "Denmark Vs England",
         "C",
         "Denmark",
         "England",
         4,
         2,
         "Denmark",
         "Group Stage"
        ],
        [
         17,
         "Denmark Vs Serbia",
         "C",
         "Denmark",
         "Serbia",
         0,
         4,
         "Serbia",
         "Group Stage"
        ],
        [
         18,
         "Serbia Vs England",
         "C",
         "Serbia",
         "England",
         2,
         2,
         "DRAW",
         "Group Stage"
        ],
        [
         19,
         "Netherlands Vs Wales",
         "D",
         "Netherlands",
         "Wales",
         3,
         4,
         "Wales",
         "Group Stage"
        ],
        [
         20,
         "Netherlands Vs France",
         "D",
         "Netherlands",
         "France",
         5,
         0,
         "Netherlands",
         "Group Stage"
        ],
        [
         21,
         "Netherlands Vs Austria",
         "D",
         "Netherlands",
         "Austria",
         4,
         5,
         "Austria",
         "Group Stage"
        ],
        [
         22,
         "Austria Vs Wales",
         "D",
         "Austria",
         "Wales",
         3,
         4,
         "Wales",
         "Group Stage"
        ],
        [
         23,
         "Austria Vs France",
         "D",
         "Austria",
         "France",
         5,
         2,
         "Austria",
         "Group Stage"
        ],
        [
         24,
         "France Vs Wales",
         "D",
         "France",
         "Wales",
         2,
         5,
         "Wales",
         "Group Stage"
        ],
        [
         25,
         "Belgium Vs Poland",
         "E",
         "Belgium",
         "Poland",
         3,
         1,
         "Belgium",
         "Group Stage"
        ],
        [
         26,
         "Belgium Vs Romania",
         "E",
         "Belgium",
         "Romania",
         4,
         0,
         "Belgium",
         "Group Stage"
        ],
        [
         27,
         "Belgium Vs Slovakia",
         "E",
         "Belgium",
         "Slovakia",
         4,
         5,
         "Slovakia",
         "Group Stage"
        ],
        [
         28,
         "Slovakia Vs Poland",
         "E",
         "Slovakia",
         "Poland",
         3,
         2,
         "Slovakia",
         "Group Stage"
        ],
        [
         29,
         "Slovakia Vs Romania",
         "E",
         "Slovakia",
         "Romania",
         3,
         2,
         "Slovakia",
         "Group Stage"
        ],
        [
         30,
         "Romania Vs Poland",
         "E",
         "Romania",
         "Poland",
         1,
         3,
         "Poland",
         "Group Stage"
        ],
        [
         31,
         "Turkey Vs Czech Republic",
         "F",
         "Turkey",
         "Czech Republic",
         2,
         5,
         "Czech Republic",
         "Group Stage"
        ],
        [
         32,
         "Turkey Vs Portugal",
         "F",
         "Turkey",
         "Portugal",
         0,
         0,
         "DRAW",
         "Group Stage"
        ],
        [
         33,
         "Turkey Vs Kazakhstan",
         "F",
         "Turkey",
         "Kazakhstan",
         5,
         4,
         "Turkey",
         "Group Stage"
        ],
        [
         34,
         "Kazakhstan Vs Czech Republic",
         "F",
         "Kazakhstan",
         "Czech Republic",
         4,
         5,
         "Czech Republic",
         "Group Stage"
        ],
        [
         35,
         "Kazakhstan Vs Portugal",
         "F",
         "Kazakhstan",
         "Portugal",
         5,
         3,
         "Kazakhstan",
         "Group Stage"
        ],
        [
         36,
         "Portugal Vs Czech Republic",
         "F",
         "Portugal",
         "Czech Republic",
         3,
         4,
         "Czech Republic",
         "Group Stage"
        ],
        [
         37,
         "Germany VS England",
         "N",
         "Germany",
         "England",
         4,
         1,
         "NONE",
         "R16"
        ],
        [
         38,
         "Switzerland VS Croatia",
         "N",
         "Switzerland",
         "Croatia",
         0,
         5,
         "NONE",
         "R16"
        ],
        [
         39,
         "Italy VS Scotland",
         "N",
         "Italy",
         "Scotland",
         3,
         3,
         "NONE",
         "R16"
        ],
        [
         40,
         "Serbia VS Netherlands",
         "N",
         "Serbia",
         "Netherlands",
         5,
         5,
         "NONE",
         "R16"
        ],
        [
         41,
         "Czech Republic VS Denmark",
         "N",
         "Czech Republic",
         "Denmark",
         2,
         0,
         "NONE",
         "R16"
        ],
        [
         42,
         "Austria VS Belgium",
         "N",
         "Austria",
         "Belgium",
         5,
         4,
         "NONE",
         "R16"
        ],
        [
         43,
         "Wales VS Spain",
         "N",
         "Wales",
         "Spain",
         0,
         5,
         "NONE",
         "R16"
        ],
        [
         44,
         "Austria VS Turkey",
         "N",
         "Austria",
         "Turkey",
         4,
         0,
         "NONE",
         "R16"
        ]
       ],
       "datasetInfos": [],
       "dbfsResultPath": null,
       "isJsonSchema": true,
       "metadata": {},
       "overflow": false,
       "plotOptions": {
        "customPlotOptions": {},
        "displayType": "table",
        "pivotAggregation": null,
        "pivotColumns": null,
        "xColumns": null,
        "yColumns": null
       },
       "removedWidgets": [],
       "schema": [
        {
         "metadata": "{}",
         "name": "match_id",
         "type": "\"integer\""
        },
        {
         "metadata": "{\"__CHAR_VARCHAR_TYPE_STRING\":\"varchar(50)\"}",
         "name": "match_fixtures",
         "type": "\"string\""
        },
        {
         "metadata": "{\"__CHAR_VARCHAR_TYPE_STRING\":\"varchar(1)\"}",
         "name": "group_name",
         "type": "\"string\""
        },
        {
         "metadata": "{\"__CHAR_VARCHAR_TYPE_STRING\":\"varchar(20)\"}",
         "name": "team1",
         "type": "\"string\""
        },
        {
         "metadata": "{\"__CHAR_VARCHAR_TYPE_STRING\":\"varchar(20)\"}",
         "name": "team2",
         "type": "\"string\""
        },
        {
         "metadata": "{}",
         "name": "team1_goals",
         "type": "\"integer\""
        },
        {
         "metadata": "{}",
         "name": "team2_goals",
         "type": "\"integer\""
        },
        {
         "metadata": "{\"__CHAR_VARCHAR_TYPE_STRING\":\"varchar(20)\"}",
         "name": "match_results",
         "type": "\"string\""
        },
        {
         "metadata": "{\"__CHAR_VARCHAR_TYPE_STRING\":\"varchar(20)\"}",
         "name": "match_stage",
         "type": "\"string\""
        }
       ],
       "type": "table"
      }
     },
     "output_type": "display_data"
    }
   ],
   "source": [
    "%sql\n",
    "select * from match_table order by match_id;"
   ]
  },
  {
   "cell_type": "code",
   "execution_count": 0,
   "metadata": {
    "application/vnd.databricks.v1+cell": {
     "cellMetadata": {
      "byteLimit": 2048000,
      "implicitDf": true,
      "rowLimit": 10000
     },
     "inputWidgets": {},
     "nuid": "70ac0bda-169f-46b2-b827-ff1e3cdce237",
     "showTitle": false,
     "title": ""
    }
   },
   "outputs": [
    {
     "output_type": "display_data",
     "data": {
      "text/html": [
       "<style scoped>\n",
       "  .table-result-container {\n",
       "    max-height: 300px;\n",
       "    overflow: auto;\n",
       "  }\n",
       "  table, th, td {\n",
       "    border: 1px solid black;\n",
       "    border-collapse: collapse;\n",
       "  }\n",
       "  th, td {\n",
       "    padding: 5px;\n",
       "  }\n",
       "  th {\n",
       "    text-align: left;\n",
       "  }\n",
       "</style><div class='table-result-container'><table class='table-result'><thead style='background-color: white'><tr><th>num_affected_rows</th></tr></thead><tbody><tr><td>8</td></tr></tbody></table></div>"
      ]
     },
     "metadata": {
      "application/vnd.databricks.v1+output": {
       "addedWidgets": {},
       "aggData": [],
       "aggError": "",
       "aggOverflow": false,
       "aggSchema": [],
       "aggSeriesLimitReached": false,
       "aggType": "",
       "arguments": {},
       "columnCustomDisplayInfos": {},
       "data": [
        [
         8
        ]
       ],
       "datasetInfos": [],
       "dbfsResultPath": null,
       "isJsonSchema": true,
       "metadata": {},
       "overflow": false,
       "plotOptions": {
        "customPlotOptions": {},
        "displayType": "table",
        "pivotAggregation": null,
        "pivotColumns": null,
        "xColumns": null,
        "yColumns": null
       },
       "removedWidgets": [],
       "schema": [
        {
         "metadata": "{}",
         "name": "num_affected_rows",
         "type": "\"long\""
        }
       ],
       "type": "table"
      }
     },
     "output_type": "display_data"
    }
   ],
   "source": [
    "%sql\n",
    "UPDATE match_table\n",
    "SET match_results = \n",
    "CASE\n",
    "WHEN team1_goals > team2_goals THEN team1\n",
    "WHEN team1_goals < team2_goals THEN team2\n",
    "ELSE\n",
    "CASE\n",
    "WHEN (team1_goals + 1) % 2 = 1 THEN team1\n",
    "ELSE team1\n",
    "END\n",
    "END\n",
    "WHERE match_stage = 'R16';"
   ]
  },
  {
   "cell_type": "code",
   "execution_count": 0,
   "metadata": {
    "application/vnd.databricks.v1+cell": {
     "cellMetadata": {
      "byteLimit": 2048000,
      "implicitDf": true,
      "rowLimit": 10000
     },
     "inputWidgets": {},
     "nuid": "e3250ef2-c1d5-4400-8c36-9f2381a8825e",
     "showTitle": false,
     "title": ""
    }
   },
   "outputs": [
    {
     "output_type": "display_data",
     "data": {
      "text/html": [
       "<style scoped>\n",
       "  .table-result-container {\n",
       "    max-height: 300px;\n",
       "    overflow: auto;\n",
       "  }\n",
       "  table, th, td {\n",
       "    border: 1px solid black;\n",
       "    border-collapse: collapse;\n",
       "  }\n",
       "  th, td {\n",
       "    padding: 5px;\n",
       "  }\n",
       "  th {\n",
       "    text-align: left;\n",
       "  }\n",
       "</style><div class='table-result-container'><table class='table-result'><thead style='background-color: white'><tr><th>match_id</th><th>match_fixtures</th><th>group_name</th><th>team1</th><th>team2</th><th>team1_goals</th><th>team2_goals</th><th>match_results</th><th>match_stage</th></tr></thead><tbody><tr><td>1</td><td>Germany Vs Switzerland</td><td>A</td><td>Germany</td><td>Switzerland</td><td>1</td><td>2</td><td>Switzerland</td><td>Group Stage</td></tr><tr><td>2</td><td>Germany Vs Hungary</td><td>A</td><td>Germany</td><td>Hungary</td><td>5</td><td>1</td><td>Germany</td><td>Group Stage</td></tr><tr><td>3</td><td>Germany Vs Scotland</td><td>A</td><td>Germany</td><td>Scotland</td><td>2</td><td>1</td><td>Germany</td><td>Group Stage</td></tr><tr><td>4</td><td>Scotland Vs Switzerland</td><td>A</td><td>Scotland</td><td>Switzerland</td><td>3</td><td>4</td><td>Switzerland</td><td>Group Stage</td></tr><tr><td>5</td><td>Scotland Vs Hungary</td><td>A</td><td>Scotland</td><td>Hungary</td><td>2</td><td>1</td><td>Scotland</td><td>Group Stage</td></tr><tr><td>6</td><td>Hungary Vs Switzerland</td><td>A</td><td>Hungary</td><td>Switzerland</td><td>2</td><td>1</td><td>Hungary</td><td>Group Stage</td></tr><tr><td>7</td><td>Spain Vs Albania</td><td>B</td><td>Spain</td><td>Albania</td><td>4</td><td>2</td><td>Spain</td><td>Group Stage</td></tr><tr><td>8</td><td>Spain Vs Italy</td><td>B</td><td>Spain</td><td>Italy</td><td>3</td><td>3</td><td>DRAW</td><td>Group Stage</td></tr><tr><td>9</td><td>Spain Vs Croatia</td><td>B</td><td>Spain</td><td>Croatia</td><td>0</td><td>5</td><td>Croatia</td><td>Group Stage</td></tr><tr><td>10</td><td>Croatia Vs Albania</td><td>B</td><td>Croatia</td><td>Albania</td><td>5</td><td>5</td><td>DRAW</td><td>Group Stage</td></tr><tr><td>11</td><td>Croatia Vs Italy</td><td>B</td><td>Croatia</td><td>Italy</td><td>2</td><td>4</td><td>Italy</td><td>Group Stage</td></tr><tr><td>12</td><td>Italy Vs Albania</td><td>B</td><td>Italy</td><td>Albania</td><td>4</td><td>3</td><td>Italy</td><td>Group Stage</td></tr><tr><td>13</td><td>Slovenia Vs England</td><td>C</td><td>Slovenia</td><td>England</td><td>2</td><td>4</td><td>England</td><td>Group Stage</td></tr><tr><td>14</td><td>Slovenia Vs Serbia</td><td>C</td><td>Slovenia</td><td>Serbia</td><td>1</td><td>4</td><td>Serbia</td><td>Group Stage</td></tr><tr><td>15</td><td>Slovenia Vs Denmark</td><td>C</td><td>Slovenia</td><td>Denmark</td><td>4</td><td>4</td><td>DRAW</td><td>Group Stage</td></tr><tr><td>16</td><td>Denmark Vs England</td><td>C</td><td>Denmark</td><td>England</td><td>4</td><td>2</td><td>Denmark</td><td>Group Stage</td></tr><tr><td>17</td><td>Denmark Vs Serbia</td><td>C</td><td>Denmark</td><td>Serbia</td><td>0</td><td>4</td><td>Serbia</td><td>Group Stage</td></tr><tr><td>18</td><td>Serbia Vs England</td><td>C</td><td>Serbia</td><td>England</td><td>2</td><td>2</td><td>DRAW</td><td>Group Stage</td></tr><tr><td>19</td><td>Netherlands Vs Wales</td><td>D</td><td>Netherlands</td><td>Wales</td><td>3</td><td>4</td><td>Wales</td><td>Group Stage</td></tr><tr><td>20</td><td>Netherlands Vs France</td><td>D</td><td>Netherlands</td><td>France</td><td>5</td><td>0</td><td>Netherlands</td><td>Group Stage</td></tr><tr><td>21</td><td>Netherlands Vs Austria</td><td>D</td><td>Netherlands</td><td>Austria</td><td>4</td><td>5</td><td>Austria</td><td>Group Stage</td></tr><tr><td>22</td><td>Austria Vs Wales</td><td>D</td><td>Austria</td><td>Wales</td><td>3</td><td>4</td><td>Wales</td><td>Group Stage</td></tr><tr><td>23</td><td>Austria Vs France</td><td>D</td><td>Austria</td><td>France</td><td>5</td><td>2</td><td>Austria</td><td>Group Stage</td></tr><tr><td>24</td><td>France Vs Wales</td><td>D</td><td>France</td><td>Wales</td><td>2</td><td>5</td><td>Wales</td><td>Group Stage</td></tr><tr><td>25</td><td>Belgium Vs Poland</td><td>E</td><td>Belgium</td><td>Poland</td><td>3</td><td>1</td><td>Belgium</td><td>Group Stage</td></tr><tr><td>26</td><td>Belgium Vs Romania</td><td>E</td><td>Belgium</td><td>Romania</td><td>4</td><td>0</td><td>Belgium</td><td>Group Stage</td></tr><tr><td>27</td><td>Belgium Vs Slovakia</td><td>E</td><td>Belgium</td><td>Slovakia</td><td>4</td><td>5</td><td>Slovakia</td><td>Group Stage</td></tr><tr><td>28</td><td>Slovakia Vs Poland</td><td>E</td><td>Slovakia</td><td>Poland</td><td>3</td><td>2</td><td>Slovakia</td><td>Group Stage</td></tr><tr><td>29</td><td>Slovakia Vs Romania</td><td>E</td><td>Slovakia</td><td>Romania</td><td>3</td><td>2</td><td>Slovakia</td><td>Group Stage</td></tr><tr><td>30</td><td>Romania Vs Poland</td><td>E</td><td>Romania</td><td>Poland</td><td>1</td><td>3</td><td>Poland</td><td>Group Stage</td></tr><tr><td>31</td><td>Turkey Vs Czech Republic</td><td>F</td><td>Turkey</td><td>Czech Republic</td><td>2</td><td>5</td><td>Czech Republic</td><td>Group Stage</td></tr><tr><td>32</td><td>Turkey Vs Portugal</td><td>F</td><td>Turkey</td><td>Portugal</td><td>0</td><td>0</td><td>DRAW</td><td>Group Stage</td></tr><tr><td>33</td><td>Turkey Vs Kazakhstan</td><td>F</td><td>Turkey</td><td>Kazakhstan</td><td>5</td><td>4</td><td>Turkey</td><td>Group Stage</td></tr><tr><td>34</td><td>Kazakhstan Vs Czech Republic</td><td>F</td><td>Kazakhstan</td><td>Czech Republic</td><td>4</td><td>5</td><td>Czech Republic</td><td>Group Stage</td></tr><tr><td>35</td><td>Kazakhstan Vs Portugal</td><td>F</td><td>Kazakhstan</td><td>Portugal</td><td>5</td><td>3</td><td>Kazakhstan</td><td>Group Stage</td></tr><tr><td>36</td><td>Portugal Vs Czech Republic</td><td>F</td><td>Portugal</td><td>Czech Republic</td><td>3</td><td>4</td><td>Czech Republic</td><td>Group Stage</td></tr><tr><td>37</td><td>Germany VS England</td><td>N</td><td>Germany</td><td>England</td><td>4</td><td>1</td><td>Germany</td><td>R16</td></tr><tr><td>38</td><td>Switzerland VS Croatia</td><td>N</td><td>Switzerland</td><td>Croatia</td><td>0</td><td>5</td><td>Croatia</td><td>R16</td></tr><tr><td>39</td><td>Italy VS Scotland</td><td>N</td><td>Italy</td><td>Scotland</td><td>3</td><td>3</td><td>Italy</td><td>R16</td></tr><tr><td>40</td><td>Serbia VS Netherlands</td><td>N</td><td>Serbia</td><td>Netherlands</td><td>5</td><td>5</td><td>Serbia</td><td>R16</td></tr><tr><td>41</td><td>Czech Republic VS Denmark</td><td>N</td><td>Czech Republic</td><td>Denmark</td><td>2</td><td>0</td><td>Czech Republic</td><td>R16</td></tr><tr><td>42</td><td>Austria VS Belgium</td><td>N</td><td>Austria</td><td>Belgium</td><td>5</td><td>4</td><td>Austria</td><td>R16</td></tr><tr><td>43</td><td>Wales VS Spain</td><td>N</td><td>Wales</td><td>Spain</td><td>0</td><td>5</td><td>Spain</td><td>R16</td></tr><tr><td>44</td><td>Austria VS Turkey</td><td>N</td><td>Austria</td><td>Turkey</td><td>4</td><td>0</td><td>Austria</td><td>R16</td></tr></tbody></table></div>"
      ]
     },
     "metadata": {
      "application/vnd.databricks.v1+output": {
       "addedWidgets": {},
       "aggData": [],
       "aggError": "",
       "aggOverflow": false,
       "aggSchema": [],
       "aggSeriesLimitReached": false,
       "aggType": "",
       "arguments": {},
       "columnCustomDisplayInfos": {},
       "data": [
        [
         1,
         "Germany Vs Switzerland",
         "A",
         "Germany",
         "Switzerland",
         1,
         2,
         "Switzerland",
         "Group Stage"
        ],
        [
         2,
         "Germany Vs Hungary",
         "A",
         "Germany",
         "Hungary",
         5,
         1,
         "Germany",
         "Group Stage"
        ],
        [
         3,
         "Germany Vs Scotland",
         "A",
         "Germany",
         "Scotland",
         2,
         1,
         "Germany",
         "Group Stage"
        ],
        [
         4,
         "Scotland Vs Switzerland",
         "A",
         "Scotland",
         "Switzerland",
         3,
         4,
         "Switzerland",
         "Group Stage"
        ],
        [
         5,
         "Scotland Vs Hungary",
         "A",
         "Scotland",
         "Hungary",
         2,
         1,
         "Scotland",
         "Group Stage"
        ],
        [
         6,
         "Hungary Vs Switzerland",
         "A",
         "Hungary",
         "Switzerland",
         2,
         1,
         "Hungary",
         "Group Stage"
        ],
        [
         7,
         "Spain Vs Albania",
         "B",
         "Spain",
         "Albania",
         4,
         2,
         "Spain",
         "Group Stage"
        ],
        [
         8,
         "Spain Vs Italy",
         "B",
         "Spain",
         "Italy",
         3,
         3,
         "DRAW",
         "Group Stage"
        ],
        [
         9,
         "Spain Vs Croatia",
         "B",
         "Spain",
         "Croatia",
         0,
         5,
         "Croatia",
         "Group Stage"
        ],
        [
         10,
         "Croatia Vs Albania",
         "B",
         "Croatia",
         "Albania",
         5,
         5,
         "DRAW",
         "Group Stage"
        ],
        [
         11,
         "Croatia Vs Italy",
         "B",
         "Croatia",
         "Italy",
         2,
         4,
         "Italy",
         "Group Stage"
        ],
        [
         12,
         "Italy Vs Albania",
         "B",
         "Italy",
         "Albania",
         4,
         3,
         "Italy",
         "Group Stage"
        ],
        [
         13,
         "Slovenia Vs England",
         "C",
         "Slovenia",
         "England",
         2,
         4,
         "England",
         "Group Stage"
        ],
        [
         14,
         "Slovenia Vs Serbia",
         "C",
         "Slovenia",
         "Serbia",
         1,
         4,
         "Serbia",
         "Group Stage"
        ],
        [
         15,
         "Slovenia Vs Denmark",
         "C",
         "Slovenia",
         "Denmark",
         4,
         4,
         "DRAW",
         "Group Stage"
        ],
        [
         16,
         "Denmark Vs England",
         "C",
         "Denmark",
         "England",
         4,
         2,
         "Denmark",
         "Group Stage"
        ],
        [
         17,
         "Denmark Vs Serbia",
         "C",
         "Denmark",
         "Serbia",
         0,
         4,
         "Serbia",
         "Group Stage"
        ],
        [
         18,
         "Serbia Vs England",
         "C",
         "Serbia",
         "England",
         2,
         2,
         "DRAW",
         "Group Stage"
        ],
        [
         19,
         "Netherlands Vs Wales",
         "D",
         "Netherlands",
         "Wales",
         3,
         4,
         "Wales",
         "Group Stage"
        ],
        [
         20,
         "Netherlands Vs France",
         "D",
         "Netherlands",
         "France",
         5,
         0,
         "Netherlands",
         "Group Stage"
        ],
        [
         21,
         "Netherlands Vs Austria",
         "D",
         "Netherlands",
         "Austria",
         4,
         5,
         "Austria",
         "Group Stage"
        ],
        [
         22,
         "Austria Vs Wales",
         "D",
         "Austria",
         "Wales",
         3,
         4,
         "Wales",
         "Group Stage"
        ],
        [
         23,
         "Austria Vs France",
         "D",
         "Austria",
         "France",
         5,
         2,
         "Austria",
         "Group Stage"
        ],
        [
         24,
         "France Vs Wales",
         "D",
         "France",
         "Wales",
         2,
         5,
         "Wales",
         "Group Stage"
        ],
        [
         25,
         "Belgium Vs Poland",
         "E",
         "Belgium",
         "Poland",
         3,
         1,
         "Belgium",
         "Group Stage"
        ],
        [
         26,
         "Belgium Vs Romania",
         "E",
         "Belgium",
         "Romania",
         4,
         0,
         "Belgium",
         "Group Stage"
        ],
        [
         27,
         "Belgium Vs Slovakia",
         "E",
         "Belgium",
         "Slovakia",
         4,
         5,
         "Slovakia",
         "Group Stage"
        ],
        [
         28,
         "Slovakia Vs Poland",
         "E",
         "Slovakia",
         "Poland",
         3,
         2,
         "Slovakia",
         "Group Stage"
        ],
        [
         29,
         "Slovakia Vs Romania",
         "E",
         "Slovakia",
         "Romania",
         3,
         2,
         "Slovakia",
         "Group Stage"
        ],
        [
         30,
         "Romania Vs Poland",
         "E",
         "Romania",
         "Poland",
         1,
         3,
         "Poland",
         "Group Stage"
        ],
        [
         31,
         "Turkey Vs Czech Republic",
         "F",
         "Turkey",
         "Czech Republic",
         2,
         5,
         "Czech Republic",
         "Group Stage"
        ],
        [
         32,
         "Turkey Vs Portugal",
         "F",
         "Turkey",
         "Portugal",
         0,
         0,
         "DRAW",
         "Group Stage"
        ],
        [
         33,
         "Turkey Vs Kazakhstan",
         "F",
         "Turkey",
         "Kazakhstan",
         5,
         4,
         "Turkey",
         "Group Stage"
        ],
        [
         34,
         "Kazakhstan Vs Czech Republic",
         "F",
         "Kazakhstan",
         "Czech Republic",
         4,
         5,
         "Czech Republic",
         "Group Stage"
        ],
        [
         35,
         "Kazakhstan Vs Portugal",
         "F",
         "Kazakhstan",
         "Portugal",
         5,
         3,
         "Kazakhstan",
         "Group Stage"
        ],
        [
         36,
         "Portugal Vs Czech Republic",
         "F",
         "Portugal",
         "Czech Republic",
         3,
         4,
         "Czech Republic",
         "Group Stage"
        ],
        [
         37,
         "Germany VS England",
         "N",
         "Germany",
         "England",
         4,
         1,
         "Germany",
         "R16"
        ],
        [
         38,
         "Switzerland VS Croatia",
         "N",
         "Switzerland",
         "Croatia",
         0,
         5,
         "Croatia",
         "R16"
        ],
        [
         39,
         "Italy VS Scotland",
         "N",
         "Italy",
         "Scotland",
         3,
         3,
         "Italy",
         "R16"
        ],
        [
         40,
         "Serbia VS Netherlands",
         "N",
         "Serbia",
         "Netherlands",
         5,
         5,
         "Serbia",
         "R16"
        ],
        [
         41,
         "Czech Republic VS Denmark",
         "N",
         "Czech Republic",
         "Denmark",
         2,
         0,
         "Czech Republic",
         "R16"
        ],
        [
         42,
         "Austria VS Belgium",
         "N",
         "Austria",
         "Belgium",
         5,
         4,
         "Austria",
         "R16"
        ],
        [
         43,
         "Wales VS Spain",
         "N",
         "Wales",
         "Spain",
         0,
         5,
         "Spain",
         "R16"
        ],
        [
         44,
         "Austria VS Turkey",
         "N",
         "Austria",
         "Turkey",
         4,
         0,
         "Austria",
         "R16"
        ]
       ],
       "datasetInfos": [],
       "dbfsResultPath": null,
       "isJsonSchema": true,
       "metadata": {},
       "overflow": false,
       "plotOptions": {
        "customPlotOptions": {},
        "displayType": "table",
        "pivotAggregation": null,
        "pivotColumns": null,
        "xColumns": null,
        "yColumns": null
       },
       "removedWidgets": [],
       "schema": [
        {
         "metadata": "{}",
         "name": "match_id",
         "type": "\"integer\""
        },
        {
         "metadata": "{\"__CHAR_VARCHAR_TYPE_STRING\":\"varchar(50)\"}",
         "name": "match_fixtures",
         "type": "\"string\""
        },
        {
         "metadata": "{\"__CHAR_VARCHAR_TYPE_STRING\":\"varchar(1)\"}",
         "name": "group_name",
         "type": "\"string\""
        },
        {
         "metadata": "{\"__CHAR_VARCHAR_TYPE_STRING\":\"varchar(20)\"}",
         "name": "team1",
         "type": "\"string\""
        },
        {
         "metadata": "{\"__CHAR_VARCHAR_TYPE_STRING\":\"varchar(20)\"}",
         "name": "team2",
         "type": "\"string\""
        },
        {
         "metadata": "{}",
         "name": "team1_goals",
         "type": "\"integer\""
        },
        {
         "metadata": "{}",
         "name": "team2_goals",
         "type": "\"integer\""
        },
        {
         "metadata": "{\"__CHAR_VARCHAR_TYPE_STRING\":\"varchar(20)\"}",
         "name": "match_results",
         "type": "\"string\""
        },
        {
         "metadata": "{\"__CHAR_VARCHAR_TYPE_STRING\":\"varchar(20)\"}",
         "name": "match_stage",
         "type": "\"string\""
        }
       ],
       "type": "table"
      }
     },
     "output_type": "display_data"
    }
   ],
   "source": [
    "%sql\n",
    "select * from match_table order by match_id;"
   ]
  },
  {
   "cell_type": "markdown",
   "metadata": {
    "application/vnd.databricks.v1+cell": {
     "cellMetadata": {
      "byteLimit": 2048000,
      "rowLimit": 10000
     },
     "inputWidgets": {},
     "nuid": "117e19f1-efc1-4962-a9ec-973d8ef486bf",
     "showTitle": false,
     "title": ""
    }
   },
   "source": [
    "Quarter Finals"
   ]
  },
  {
   "cell_type": "code",
   "execution_count": 0,
   "metadata": {
    "application/vnd.databricks.v1+cell": {
     "cellMetadata": {
      "byteLimit": 2048000,
      "implicitDf": true,
      "rowLimit": 10000
     },
     "inputWidgets": {},
     "nuid": "5dd4a47d-7e5e-41de-b507-8fa82b93a57a",
     "showTitle": false,
     "title": ""
    }
   },
   "outputs": [
    {
     "output_type": "display_data",
     "data": {
      "text/html": [
       "<style scoped>\n",
       "  .table-result-container {\n",
       "    max-height: 300px;\n",
       "    overflow: auto;\n",
       "  }\n",
       "  table, th, td {\n",
       "    border: 1px solid black;\n",
       "    border-collapse: collapse;\n",
       "  }\n",
       "  th, td {\n",
       "    padding: 5px;\n",
       "  }\n",
       "  th {\n",
       "    text-align: left;\n",
       "  }\n",
       "</style><div class='table-result-container'><table class='table-result'><thead style='background-color: white'><tr><th>num_affected_rows</th><th>num_inserted_rows</th></tr></thead><tbody><tr><td>4</td><td>4</td></tr></tbody></table></div>"
      ]
     },
     "metadata": {
      "application/vnd.databricks.v1+output": {
       "addedWidgets": {},
       "aggData": [],
       "aggError": "",
       "aggOverflow": false,
       "aggSchema": [],
       "aggSeriesLimitReached": false,
       "aggType": "",
       "arguments": {},
       "columnCustomDisplayInfos": {},
       "data": [
        [
         4,
         4
        ]
       ],
       "datasetInfos": [],
       "dbfsResultPath": null,
       "isJsonSchema": true,
       "metadata": {},
       "overflow": false,
       "plotOptions": {
        "customPlotOptions": {},
        "displayType": "table",
        "pivotAggregation": null,
        "pivotColumns": null,
        "xColumns": null,
        "yColumns": null
       },
       "removedWidgets": [],
       "schema": [
        {
         "metadata": "{}",
         "name": "num_affected_rows",
         "type": "\"long\""
        },
        {
         "metadata": "{}",
         "name": "num_inserted_rows",
         "type": "\"long\""
        }
       ],
       "type": "table"
      }
     },
     "output_type": "display_data"
    }
   ],
   "source": [
    "%sql\n",
    "INSERT INTO match_table (match_id, match_fixtures, group_name, team1, team2, team1_goals, team2_goals, match_results, match_stage)\n",
    "SELECT \n",
    "    Row_Number() OVER(ORDER BY 1) + 44 AS match_id,\n",
    "    CONCAT(QF1.match_results, ' VS ', QF2.match_results) AS match_fixtures,\n",
    "    'N' as group_name,\n",
    "    QF1.match_results AS team1,\n",
    "    QF2.match_results AS team2,\n",
    "    CAST(rand() * 6 AS INT) AS goals_scored, \n",
    "    CAST(rand() * 6 AS INT) AS goals_conceded,\n",
    "    'NONE' AS match_results,\n",
    "    'Quarter-Final' AS match_stage\n",
    "FROM \n",
    "    match_table QF1\n",
    "JOIN \n",
    "    match_table QF2 ON \n",
    "        QF1.match_id = 39 AND QF2.match_id = 37\n",
    "\n",
    "UNION ALL\n",
    "\n",
    "SELECT \n",
    "    Row_Number() OVER(ORDER BY 1) + 45 AS match_id,\n",
    "    CONCAT(QF1.match_results, ' VS ', QF2.match_results) AS match_fixtures,\n",
    "    'N' as group_name,\n",
    "    QF1.match_results AS team1,\n",
    "    QF2.match_results AS team2,\n",
    "    CAST(rand() * 6 AS INT) AS goals_scored, \n",
    "    CAST(rand() * 6 AS INT) AS goals_conceded,\n",
    "    'NONE' AS match_results,\n",
    "    'Quarter-Final' AS match_stage\n",
    "FROM \n",
    "    match_table QF1\n",
    "JOIN \n",
    "    match_table QF2 ON \n",
    "        QF1.match_id = 41 AND QF2.match_id = 42\n",
    "\n",
    "UNION ALL\n",
    "\n",
    "SELECT \n",
    "    Row_Number() OVER(ORDER BY 1) + 46 AS match_id,\n",
    "    CONCAT(QF1.match_results, ' VS ', QF2.match_results) AS match_fixtures,\n",
    "    'N' as group_name,\n",
    "    QF1.match_results AS team1,\n",
    "    QF2.match_results AS team2,\n",
    "    CAST(rand() * 6 AS INT) AS goals_scored, \n",
    "    CAST(rand() * 6 AS INT) AS goals_conceded,\n",
    "    'NONE' AS match_results,\n",
    "    'Quarter-Final' AS match_stage\n",
    "FROM \n",
    "    match_table QF1\n",
    "JOIN \n",
    "    match_table QF2 ON \n",
    "        QF1.match_id = 43 AND QF2.match_id = 44\n",
    "\n",
    "UNION ALL\n",
    "\n",
    "SELECT \n",
    "    Row_Number() OVER(ORDER BY 1) + 47 AS match_id,\n",
    "    CONCAT(QF1.match_results, ' VS ', QF2.match_results) AS match_fixtures,\n",
    "    'N' as group_name,\n",
    "    QF1.match_results AS team1,\n",
    "    QF2.match_results AS team2,\n",
    "    CAST(rand() * 6 AS INT) AS goals_scored, \n",
    "    CAST(rand() * 6 AS INT) AS goals_conceded,\n",
    "    'NONE' AS match_results,\n",
    "    'Quarter-Final' AS match_stage\n",
    "FROM \n",
    "    match_table QF1\n",
    "JOIN \n",
    "   match_table QF2 ON \n",
    "        QF1.match_id = 40 AND QF2.match_id = 38;"
   ]
  },
  {
   "cell_type": "code",
   "execution_count": 0,
   "metadata": {
    "application/vnd.databricks.v1+cell": {
     "cellMetadata": {
      "byteLimit": 2048000,
      "implicitDf": true,
      "rowLimit": 10000
     },
     "inputWidgets": {},
     "nuid": "fc0aebc3-68be-427e-b598-53e539582e6d",
     "showTitle": false,
     "title": ""
    }
   },
   "outputs": [
    {
     "output_type": "display_data",
     "data": {
      "text/html": [
       "<style scoped>\n",
       "  .table-result-container {\n",
       "    max-height: 300px;\n",
       "    overflow: auto;\n",
       "  }\n",
       "  table, th, td {\n",
       "    border: 1px solid black;\n",
       "    border-collapse: collapse;\n",
       "  }\n",
       "  th, td {\n",
       "    padding: 5px;\n",
       "  }\n",
       "  th {\n",
       "    text-align: left;\n",
       "  }\n",
       "</style><div class='table-result-container'><table class='table-result'><thead style='background-color: white'><tr><th>match_id</th><th>match_fixtures</th><th>group_name</th><th>team1</th><th>team2</th><th>team1_goals</th><th>team2_goals</th><th>match_results</th><th>match_stage</th></tr></thead><tbody><tr><td>48</td><td>Serbia VS Croatia</td><td>N</td><td>Serbia</td><td>Croatia</td><td>0</td><td>1</td><td>NONE</td><td>Quarter-Final</td></tr><tr><td>47</td><td>Spain VS Austria</td><td>N</td><td>Spain</td><td>Austria</td><td>5</td><td>1</td><td>NONE</td><td>Quarter-Final</td></tr><tr><td>46</td><td>Czech Republic VS Austria</td><td>N</td><td>Czech Republic</td><td>Austria</td><td>2</td><td>5</td><td>NONE</td><td>Quarter-Final</td></tr><tr><td>45</td><td>Italy VS Germany</td><td>N</td><td>Italy</td><td>Germany</td><td>0</td><td>5</td><td>NONE</td><td>Quarter-Final</td></tr><tr><td>44</td><td>Austria VS Turkey</td><td>N</td><td>Austria</td><td>Turkey</td><td>4</td><td>0</td><td>Austria</td><td>R16</td></tr><tr><td>43</td><td>Wales VS Spain</td><td>N</td><td>Wales</td><td>Spain</td><td>0</td><td>5</td><td>Spain</td><td>R16</td></tr><tr><td>42</td><td>Austria VS Belgium</td><td>N</td><td>Austria</td><td>Belgium</td><td>5</td><td>4</td><td>Austria</td><td>R16</td></tr><tr><td>41</td><td>Czech Republic VS Denmark</td><td>N</td><td>Czech Republic</td><td>Denmark</td><td>2</td><td>0</td><td>Czech Republic</td><td>R16</td></tr><tr><td>40</td><td>Serbia VS Netherlands</td><td>N</td><td>Serbia</td><td>Netherlands</td><td>5</td><td>5</td><td>Serbia</td><td>R16</td></tr><tr><td>39</td><td>Italy VS Scotland</td><td>N</td><td>Italy</td><td>Scotland</td><td>3</td><td>3</td><td>Italy</td><td>R16</td></tr><tr><td>38</td><td>Switzerland VS Croatia</td><td>N</td><td>Switzerland</td><td>Croatia</td><td>0</td><td>5</td><td>Croatia</td><td>R16</td></tr><tr><td>37</td><td>Germany VS England</td><td>N</td><td>Germany</td><td>England</td><td>4</td><td>1</td><td>Germany</td><td>R16</td></tr><tr><td>36</td><td>Portugal Vs Czech Republic</td><td>F</td><td>Portugal</td><td>Czech Republic</td><td>3</td><td>4</td><td>Czech Republic</td><td>Group Stage</td></tr><tr><td>35</td><td>Kazakhstan Vs Portugal</td><td>F</td><td>Kazakhstan</td><td>Portugal</td><td>5</td><td>3</td><td>Kazakhstan</td><td>Group Stage</td></tr><tr><td>34</td><td>Kazakhstan Vs Czech Republic</td><td>F</td><td>Kazakhstan</td><td>Czech Republic</td><td>4</td><td>5</td><td>Czech Republic</td><td>Group Stage</td></tr><tr><td>33</td><td>Turkey Vs Kazakhstan</td><td>F</td><td>Turkey</td><td>Kazakhstan</td><td>5</td><td>4</td><td>Turkey</td><td>Group Stage</td></tr><tr><td>32</td><td>Turkey Vs Portugal</td><td>F</td><td>Turkey</td><td>Portugal</td><td>0</td><td>0</td><td>DRAW</td><td>Group Stage</td></tr><tr><td>31</td><td>Turkey Vs Czech Republic</td><td>F</td><td>Turkey</td><td>Czech Republic</td><td>2</td><td>5</td><td>Czech Republic</td><td>Group Stage</td></tr><tr><td>30</td><td>Romania Vs Poland</td><td>E</td><td>Romania</td><td>Poland</td><td>1</td><td>3</td><td>Poland</td><td>Group Stage</td></tr><tr><td>29</td><td>Slovakia Vs Romania</td><td>E</td><td>Slovakia</td><td>Romania</td><td>3</td><td>2</td><td>Slovakia</td><td>Group Stage</td></tr><tr><td>28</td><td>Slovakia Vs Poland</td><td>E</td><td>Slovakia</td><td>Poland</td><td>3</td><td>2</td><td>Slovakia</td><td>Group Stage</td></tr><tr><td>27</td><td>Belgium Vs Slovakia</td><td>E</td><td>Belgium</td><td>Slovakia</td><td>4</td><td>5</td><td>Slovakia</td><td>Group Stage</td></tr><tr><td>26</td><td>Belgium Vs Romania</td><td>E</td><td>Belgium</td><td>Romania</td><td>4</td><td>0</td><td>Belgium</td><td>Group Stage</td></tr><tr><td>25</td><td>Belgium Vs Poland</td><td>E</td><td>Belgium</td><td>Poland</td><td>3</td><td>1</td><td>Belgium</td><td>Group Stage</td></tr><tr><td>24</td><td>France Vs Wales</td><td>D</td><td>France</td><td>Wales</td><td>2</td><td>5</td><td>Wales</td><td>Group Stage</td></tr><tr><td>23</td><td>Austria Vs France</td><td>D</td><td>Austria</td><td>France</td><td>5</td><td>2</td><td>Austria</td><td>Group Stage</td></tr><tr><td>22</td><td>Austria Vs Wales</td><td>D</td><td>Austria</td><td>Wales</td><td>3</td><td>4</td><td>Wales</td><td>Group Stage</td></tr><tr><td>21</td><td>Netherlands Vs Austria</td><td>D</td><td>Netherlands</td><td>Austria</td><td>4</td><td>5</td><td>Austria</td><td>Group Stage</td></tr><tr><td>20</td><td>Netherlands Vs France</td><td>D</td><td>Netherlands</td><td>France</td><td>5</td><td>0</td><td>Netherlands</td><td>Group Stage</td></tr><tr><td>19</td><td>Netherlands Vs Wales</td><td>D</td><td>Netherlands</td><td>Wales</td><td>3</td><td>4</td><td>Wales</td><td>Group Stage</td></tr><tr><td>18</td><td>Serbia Vs England</td><td>C</td><td>Serbia</td><td>England</td><td>2</td><td>2</td><td>DRAW</td><td>Group Stage</td></tr><tr><td>17</td><td>Denmark Vs Serbia</td><td>C</td><td>Denmark</td><td>Serbia</td><td>0</td><td>4</td><td>Serbia</td><td>Group Stage</td></tr><tr><td>16</td><td>Denmark Vs England</td><td>C</td><td>Denmark</td><td>England</td><td>4</td><td>2</td><td>Denmark</td><td>Group Stage</td></tr><tr><td>15</td><td>Slovenia Vs Denmark</td><td>C</td><td>Slovenia</td><td>Denmark</td><td>4</td><td>4</td><td>DRAW</td><td>Group Stage</td></tr><tr><td>14</td><td>Slovenia Vs Serbia</td><td>C</td><td>Slovenia</td><td>Serbia</td><td>1</td><td>4</td><td>Serbia</td><td>Group Stage</td></tr><tr><td>13</td><td>Slovenia Vs England</td><td>C</td><td>Slovenia</td><td>England</td><td>2</td><td>4</td><td>England</td><td>Group Stage</td></tr><tr><td>12</td><td>Italy Vs Albania</td><td>B</td><td>Italy</td><td>Albania</td><td>4</td><td>3</td><td>Italy</td><td>Group Stage</td></tr><tr><td>11</td><td>Croatia Vs Italy</td><td>B</td><td>Croatia</td><td>Italy</td><td>2</td><td>4</td><td>Italy</td><td>Group Stage</td></tr><tr><td>10</td><td>Croatia Vs Albania</td><td>B</td><td>Croatia</td><td>Albania</td><td>5</td><td>5</td><td>DRAW</td><td>Group Stage</td></tr><tr><td>9</td><td>Spain Vs Croatia</td><td>B</td><td>Spain</td><td>Croatia</td><td>0</td><td>5</td><td>Croatia</td><td>Group Stage</td></tr><tr><td>8</td><td>Spain Vs Italy</td><td>B</td><td>Spain</td><td>Italy</td><td>3</td><td>3</td><td>DRAW</td><td>Group Stage</td></tr><tr><td>7</td><td>Spain Vs Albania</td><td>B</td><td>Spain</td><td>Albania</td><td>4</td><td>2</td><td>Spain</td><td>Group Stage</td></tr><tr><td>6</td><td>Hungary Vs Switzerland</td><td>A</td><td>Hungary</td><td>Switzerland</td><td>2</td><td>1</td><td>Hungary</td><td>Group Stage</td></tr><tr><td>5</td><td>Scotland Vs Hungary</td><td>A</td><td>Scotland</td><td>Hungary</td><td>2</td><td>1</td><td>Scotland</td><td>Group Stage</td></tr><tr><td>4</td><td>Scotland Vs Switzerland</td><td>A</td><td>Scotland</td><td>Switzerland</td><td>3</td><td>4</td><td>Switzerland</td><td>Group Stage</td></tr><tr><td>3</td><td>Germany Vs Scotland</td><td>A</td><td>Germany</td><td>Scotland</td><td>2</td><td>1</td><td>Germany</td><td>Group Stage</td></tr><tr><td>2</td><td>Germany Vs Hungary</td><td>A</td><td>Germany</td><td>Hungary</td><td>5</td><td>1</td><td>Germany</td><td>Group Stage</td></tr><tr><td>1</td><td>Germany Vs Switzerland</td><td>A</td><td>Germany</td><td>Switzerland</td><td>1</td><td>2</td><td>Switzerland</td><td>Group Stage</td></tr></tbody></table></div>"
      ]
     },
     "metadata": {
      "application/vnd.databricks.v1+output": {
       "addedWidgets": {},
       "aggData": [],
       "aggError": "",
       "aggOverflow": false,
       "aggSchema": [],
       "aggSeriesLimitReached": false,
       "aggType": "",
       "arguments": {},
       "columnCustomDisplayInfos": {},
       "data": [
        [
         48,
         "Serbia VS Croatia",
         "N",
         "Serbia",
         "Croatia",
         0,
         1,
         "NONE",
         "Quarter-Final"
        ],
        [
         47,
         "Spain VS Austria",
         "N",
         "Spain",
         "Austria",
         5,
         1,
         "NONE",
         "Quarter-Final"
        ],
        [
         46,
         "Czech Republic VS Austria",
         "N",
         "Czech Republic",
         "Austria",
         2,
         5,
         "NONE",
         "Quarter-Final"
        ],
        [
         45,
         "Italy VS Germany",
         "N",
         "Italy",
         "Germany",
         0,
         5,
         "NONE",
         "Quarter-Final"
        ],
        [
         44,
         "Austria VS Turkey",
         "N",
         "Austria",
         "Turkey",
         4,
         0,
         "Austria",
         "R16"
        ],
        [
         43,
         "Wales VS Spain",
         "N",
         "Wales",
         "Spain",
         0,
         5,
         "Spain",
         "R16"
        ],
        [
         42,
         "Austria VS Belgium",
         "N",
         "Austria",
         "Belgium",
         5,
         4,
         "Austria",
         "R16"
        ],
        [
         41,
         "Czech Republic VS Denmark",
         "N",
         "Czech Republic",
         "Denmark",
         2,
         0,
         "Czech Republic",
         "R16"
        ],
        [
         40,
         "Serbia VS Netherlands",
         "N",
         "Serbia",
         "Netherlands",
         5,
         5,
         "Serbia",
         "R16"
        ],
        [
         39,
         "Italy VS Scotland",
         "N",
         "Italy",
         "Scotland",
         3,
         3,
         "Italy",
         "R16"
        ],
        [
         38,
         "Switzerland VS Croatia",
         "N",
         "Switzerland",
         "Croatia",
         0,
         5,
         "Croatia",
         "R16"
        ],
        [
         37,
         "Germany VS England",
         "N",
         "Germany",
         "England",
         4,
         1,
         "Germany",
         "R16"
        ],
        [
         36,
         "Portugal Vs Czech Republic",
         "F",
         "Portugal",
         "Czech Republic",
         3,
         4,
         "Czech Republic",
         "Group Stage"
        ],
        [
         35,
         "Kazakhstan Vs Portugal",
         "F",
         "Kazakhstan",
         "Portugal",
         5,
         3,
         "Kazakhstan",
         "Group Stage"
        ],
        [
         34,
         "Kazakhstan Vs Czech Republic",
         "F",
         "Kazakhstan",
         "Czech Republic",
         4,
         5,
         "Czech Republic",
         "Group Stage"
        ],
        [
         33,
         "Turkey Vs Kazakhstan",
         "F",
         "Turkey",
         "Kazakhstan",
         5,
         4,
         "Turkey",
         "Group Stage"
        ],
        [
         32,
         "Turkey Vs Portugal",
         "F",
         "Turkey",
         "Portugal",
         0,
         0,
         "DRAW",
         "Group Stage"
        ],
        [
         31,
         "Turkey Vs Czech Republic",
         "F",
         "Turkey",
         "Czech Republic",
         2,
         5,
         "Czech Republic",
         "Group Stage"
        ],
        [
         30,
         "Romania Vs Poland",
         "E",
         "Romania",
         "Poland",
         1,
         3,
         "Poland",
         "Group Stage"
        ],
        [
         29,
         "Slovakia Vs Romania",
         "E",
         "Slovakia",
         "Romania",
         3,
         2,
         "Slovakia",
         "Group Stage"
        ],
        [
         28,
         "Slovakia Vs Poland",
         "E",
         "Slovakia",
         "Poland",
         3,
         2,
         "Slovakia",
         "Group Stage"
        ],
        [
         27,
         "Belgium Vs Slovakia",
         "E",
         "Belgium",
         "Slovakia",
         4,
         5,
         "Slovakia",
         "Group Stage"
        ],
        [
         26,
         "Belgium Vs Romania",
         "E",
         "Belgium",
         "Romania",
         4,
         0,
         "Belgium",
         "Group Stage"
        ],
        [
         25,
         "Belgium Vs Poland",
         "E",
         "Belgium",
         "Poland",
         3,
         1,
         "Belgium",
         "Group Stage"
        ],
        [
         24,
         "France Vs Wales",
         "D",
         "France",
         "Wales",
         2,
         5,
         "Wales",
         "Group Stage"
        ],
        [
         23,
         "Austria Vs France",
         "D",
         "Austria",
         "France",
         5,
         2,
         "Austria",
         "Group Stage"
        ],
        [
         22,
         "Austria Vs Wales",
         "D",
         "Austria",
         "Wales",
         3,
         4,
         "Wales",
         "Group Stage"
        ],
        [
         21,
         "Netherlands Vs Austria",
         "D",
         "Netherlands",
         "Austria",
         4,
         5,
         "Austria",
         "Group Stage"
        ],
        [
         20,
         "Netherlands Vs France",
         "D",
         "Netherlands",
         "France",
         5,
         0,
         "Netherlands",
         "Group Stage"
        ],
        [
         19,
         "Netherlands Vs Wales",
         "D",
         "Netherlands",
         "Wales",
         3,
         4,
         "Wales",
         "Group Stage"
        ],
        [
         18,
         "Serbia Vs England",
         "C",
         "Serbia",
         "England",
         2,
         2,
         "DRAW",
         "Group Stage"
        ],
        [
         17,
         "Denmark Vs Serbia",
         "C",
         "Denmark",
         "Serbia",
         0,
         4,
         "Serbia",
         "Group Stage"
        ],
        [
         16,
         "Denmark Vs England",
         "C",
         "Denmark",
         "England",
         4,
         2,
         "Denmark",
         "Group Stage"
        ],
        [
         15,
         "Slovenia Vs Denmark",
         "C",
         "Slovenia",
         "Denmark",
         4,
         4,
         "DRAW",
         "Group Stage"
        ],
        [
         14,
         "Slovenia Vs Serbia",
         "C",
         "Slovenia",
         "Serbia",
         1,
         4,
         "Serbia",
         "Group Stage"
        ],
        [
         13,
         "Slovenia Vs England",
         "C",
         "Slovenia",
         "England",
         2,
         4,
         "England",
         "Group Stage"
        ],
        [
         12,
         "Italy Vs Albania",
         "B",
         "Italy",
         "Albania",
         4,
         3,
         "Italy",
         "Group Stage"
        ],
        [
         11,
         "Croatia Vs Italy",
         "B",
         "Croatia",
         "Italy",
         2,
         4,
         "Italy",
         "Group Stage"
        ],
        [
         10,
         "Croatia Vs Albania",
         "B",
         "Croatia",
         "Albania",
         5,
         5,
         "DRAW",
         "Group Stage"
        ],
        [
         9,
         "Spain Vs Croatia",
         "B",
         "Spain",
         "Croatia",
         0,
         5,
         "Croatia",
         "Group Stage"
        ],
        [
         8,
         "Spain Vs Italy",
         "B",
         "Spain",
         "Italy",
         3,
         3,
         "DRAW",
         "Group Stage"
        ],
        [
         7,
         "Spain Vs Albania",
         "B",
         "Spain",
         "Albania",
         4,
         2,
         "Spain",
         "Group Stage"
        ],
        [
         6,
         "Hungary Vs Switzerland",
         "A",
         "Hungary",
         "Switzerland",
         2,
         1,
         "Hungary",
         "Group Stage"
        ],
        [
         5,
         "Scotland Vs Hungary",
         "A",
         "Scotland",
         "Hungary",
         2,
         1,
         "Scotland",
         "Group Stage"
        ],
        [
         4,
         "Scotland Vs Switzerland",
         "A",
         "Scotland",
         "Switzerland",
         3,
         4,
         "Switzerland",
         "Group Stage"
        ],
        [
         3,
         "Germany Vs Scotland",
         "A",
         "Germany",
         "Scotland",
         2,
         1,
         "Germany",
         "Group Stage"
        ],
        [
         2,
         "Germany Vs Hungary",
         "A",
         "Germany",
         "Hungary",
         5,
         1,
         "Germany",
         "Group Stage"
        ],
        [
         1,
         "Germany Vs Switzerland",
         "A",
         "Germany",
         "Switzerland",
         1,
         2,
         "Switzerland",
         "Group Stage"
        ]
       ],
       "datasetInfos": [],
       "dbfsResultPath": null,
       "isJsonSchema": true,
       "metadata": {},
       "overflow": false,
       "plotOptions": {
        "customPlotOptions": {},
        "displayType": "table",
        "pivotAggregation": null,
        "pivotColumns": null,
        "xColumns": null,
        "yColumns": null
       },
       "removedWidgets": [],
       "schema": [
        {
         "metadata": "{}",
         "name": "match_id",
         "type": "\"integer\""
        },
        {
         "metadata": "{\"__CHAR_VARCHAR_TYPE_STRING\":\"varchar(50)\"}",
         "name": "match_fixtures",
         "type": "\"string\""
        },
        {
         "metadata": "{\"__CHAR_VARCHAR_TYPE_STRING\":\"varchar(1)\"}",
         "name": "group_name",
         "type": "\"string\""
        },
        {
         "metadata": "{\"__CHAR_VARCHAR_TYPE_STRING\":\"varchar(20)\"}",
         "name": "team1",
         "type": "\"string\""
        },
        {
         "metadata": "{\"__CHAR_VARCHAR_TYPE_STRING\":\"varchar(20)\"}",
         "name": "team2",
         "type": "\"string\""
        },
        {
         "metadata": "{}",
         "name": "team1_goals",
         "type": "\"integer\""
        },
        {
         "metadata": "{}",
         "name": "team2_goals",
         "type": "\"integer\""
        },
        {
         "metadata": "{\"__CHAR_VARCHAR_TYPE_STRING\":\"varchar(20)\"}",
         "name": "match_results",
         "type": "\"string\""
        },
        {
         "metadata": "{\"__CHAR_VARCHAR_TYPE_STRING\":\"varchar(20)\"}",
         "name": "match_stage",
         "type": "\"string\""
        }
       ],
       "type": "table"
      }
     },
     "output_type": "display_data"
    }
   ],
   "source": [
    "%sql\n",
    "select * from match_table order by match_id desc;"
   ]
  },
  {
   "cell_type": "code",
   "execution_count": 0,
   "metadata": {
    "application/vnd.databricks.v1+cell": {
     "cellMetadata": {
      "byteLimit": 2048000,
      "implicitDf": true,
      "rowLimit": 10000
     },
     "inputWidgets": {},
     "nuid": "18834d20-ac91-4b03-bcc1-d3fd400c092b",
     "showTitle": false,
     "title": ""
    }
   },
   "outputs": [
    {
     "output_type": "display_data",
     "data": {
      "text/html": [
       "<style scoped>\n",
       "  .table-result-container {\n",
       "    max-height: 300px;\n",
       "    overflow: auto;\n",
       "  }\n",
       "  table, th, td {\n",
       "    border: 1px solid black;\n",
       "    border-collapse: collapse;\n",
       "  }\n",
       "  th, td {\n",
       "    padding: 5px;\n",
       "  }\n",
       "  th {\n",
       "    text-align: left;\n",
       "  }\n",
       "</style><div class='table-result-container'><table class='table-result'><thead style='background-color: white'><tr><th>num_affected_rows</th></tr></thead><tbody><tr><td>4</td></tr></tbody></table></div>"
      ]
     },
     "metadata": {
      "application/vnd.databricks.v1+output": {
       "addedWidgets": {},
       "aggData": [],
       "aggError": "",
       "aggOverflow": false,
       "aggSchema": [],
       "aggSeriesLimitReached": false,
       "aggType": "",
       "arguments": {},
       "columnCustomDisplayInfos": {},
       "data": [
        [
         4
        ]
       ],
       "datasetInfos": [],
       "dbfsResultPath": null,
       "isJsonSchema": true,
       "metadata": {},
       "overflow": false,
       "plotOptions": {
        "customPlotOptions": {},
        "displayType": "table",
        "pivotAggregation": null,
        "pivotColumns": null,
        "xColumns": null,
        "yColumns": null
       },
       "removedWidgets": [],
       "schema": [
        {
         "metadata": "{}",
         "name": "num_affected_rows",
         "type": "\"long\""
        }
       ],
       "type": "table"
      }
     },
     "output_type": "display_data"
    }
   ],
   "source": [
    "%sql\n",
    "UPDATE match_table\n",
    "SET match_results = \n",
    "CASE\n",
    "WHEN team1_goals > team2_goals THEN team1\n",
    "WHEN team1_goals < team2_goals THEN team2\n",
    "ELSE\n",
    "CASE\n",
    "WHEN (team1_goals + 1) % 2 = 1 THEN team1\n",
    "ELSE team1\n",
    "END\n",
    "END\n",
    "WHERE match_stage = 'Quarter-Final';"
   ]
  },
  {
   "cell_type": "code",
   "execution_count": 0,
   "metadata": {
    "application/vnd.databricks.v1+cell": {
     "cellMetadata": {
      "byteLimit": 2048000,
      "implicitDf": true,
      "rowLimit": 10000
     },
     "inputWidgets": {},
     "nuid": "df528821-875a-47e6-9593-c8d2b426f2f9",
     "showTitle": false,
     "title": ""
    }
   },
   "outputs": [
    {
     "output_type": "display_data",
     "data": {
      "text/html": [
       "<style scoped>\n",
       "  .table-result-container {\n",
       "    max-height: 300px;\n",
       "    overflow: auto;\n",
       "  }\n",
       "  table, th, td {\n",
       "    border: 1px solid black;\n",
       "    border-collapse: collapse;\n",
       "  }\n",
       "  th, td {\n",
       "    padding: 5px;\n",
       "  }\n",
       "  th {\n",
       "    text-align: left;\n",
       "  }\n",
       "</style><div class='table-result-container'><table class='table-result'><thead style='background-color: white'><tr><th>match_id</th><th>match_fixtures</th><th>group_name</th><th>team1</th><th>team2</th><th>team1_goals</th><th>team2_goals</th><th>match_results</th><th>match_stage</th></tr></thead><tbody><tr><td>48</td><td>Serbia VS Croatia</td><td>N</td><td>Serbia</td><td>Croatia</td><td>0</td><td>1</td><td>Croatia</td><td>Quarter-Final</td></tr><tr><td>47</td><td>Spain VS Austria</td><td>N</td><td>Spain</td><td>Austria</td><td>5</td><td>1</td><td>Spain</td><td>Quarter-Final</td></tr><tr><td>46</td><td>Czech Republic VS Austria</td><td>N</td><td>Czech Republic</td><td>Austria</td><td>2</td><td>5</td><td>Austria</td><td>Quarter-Final</td></tr><tr><td>45</td><td>Italy VS Germany</td><td>N</td><td>Italy</td><td>Germany</td><td>0</td><td>5</td><td>Germany</td><td>Quarter-Final</td></tr><tr><td>44</td><td>Austria VS Turkey</td><td>N</td><td>Austria</td><td>Turkey</td><td>4</td><td>0</td><td>Austria</td><td>R16</td></tr><tr><td>43</td><td>Wales VS Spain</td><td>N</td><td>Wales</td><td>Spain</td><td>0</td><td>5</td><td>Spain</td><td>R16</td></tr><tr><td>42</td><td>Austria VS Belgium</td><td>N</td><td>Austria</td><td>Belgium</td><td>5</td><td>4</td><td>Austria</td><td>R16</td></tr><tr><td>41</td><td>Czech Republic VS Denmark</td><td>N</td><td>Czech Republic</td><td>Denmark</td><td>2</td><td>0</td><td>Czech Republic</td><td>R16</td></tr><tr><td>40</td><td>Serbia VS Netherlands</td><td>N</td><td>Serbia</td><td>Netherlands</td><td>5</td><td>5</td><td>Serbia</td><td>R16</td></tr><tr><td>39</td><td>Italy VS Scotland</td><td>N</td><td>Italy</td><td>Scotland</td><td>3</td><td>3</td><td>Italy</td><td>R16</td></tr><tr><td>38</td><td>Switzerland VS Croatia</td><td>N</td><td>Switzerland</td><td>Croatia</td><td>0</td><td>5</td><td>Croatia</td><td>R16</td></tr><tr><td>37</td><td>Germany VS England</td><td>N</td><td>Germany</td><td>England</td><td>4</td><td>1</td><td>Germany</td><td>R16</td></tr><tr><td>36</td><td>Portugal Vs Czech Republic</td><td>F</td><td>Portugal</td><td>Czech Republic</td><td>3</td><td>4</td><td>Czech Republic</td><td>Group Stage</td></tr><tr><td>35</td><td>Kazakhstan Vs Portugal</td><td>F</td><td>Kazakhstan</td><td>Portugal</td><td>5</td><td>3</td><td>Kazakhstan</td><td>Group Stage</td></tr><tr><td>34</td><td>Kazakhstan Vs Czech Republic</td><td>F</td><td>Kazakhstan</td><td>Czech Republic</td><td>4</td><td>5</td><td>Czech Republic</td><td>Group Stage</td></tr><tr><td>33</td><td>Turkey Vs Kazakhstan</td><td>F</td><td>Turkey</td><td>Kazakhstan</td><td>5</td><td>4</td><td>Turkey</td><td>Group Stage</td></tr><tr><td>32</td><td>Turkey Vs Portugal</td><td>F</td><td>Turkey</td><td>Portugal</td><td>0</td><td>0</td><td>DRAW</td><td>Group Stage</td></tr><tr><td>31</td><td>Turkey Vs Czech Republic</td><td>F</td><td>Turkey</td><td>Czech Republic</td><td>2</td><td>5</td><td>Czech Republic</td><td>Group Stage</td></tr><tr><td>30</td><td>Romania Vs Poland</td><td>E</td><td>Romania</td><td>Poland</td><td>1</td><td>3</td><td>Poland</td><td>Group Stage</td></tr><tr><td>29</td><td>Slovakia Vs Romania</td><td>E</td><td>Slovakia</td><td>Romania</td><td>3</td><td>2</td><td>Slovakia</td><td>Group Stage</td></tr><tr><td>28</td><td>Slovakia Vs Poland</td><td>E</td><td>Slovakia</td><td>Poland</td><td>3</td><td>2</td><td>Slovakia</td><td>Group Stage</td></tr><tr><td>27</td><td>Belgium Vs Slovakia</td><td>E</td><td>Belgium</td><td>Slovakia</td><td>4</td><td>5</td><td>Slovakia</td><td>Group Stage</td></tr><tr><td>26</td><td>Belgium Vs Romania</td><td>E</td><td>Belgium</td><td>Romania</td><td>4</td><td>0</td><td>Belgium</td><td>Group Stage</td></tr><tr><td>25</td><td>Belgium Vs Poland</td><td>E</td><td>Belgium</td><td>Poland</td><td>3</td><td>1</td><td>Belgium</td><td>Group Stage</td></tr><tr><td>24</td><td>France Vs Wales</td><td>D</td><td>France</td><td>Wales</td><td>2</td><td>5</td><td>Wales</td><td>Group Stage</td></tr><tr><td>23</td><td>Austria Vs France</td><td>D</td><td>Austria</td><td>France</td><td>5</td><td>2</td><td>Austria</td><td>Group Stage</td></tr><tr><td>22</td><td>Austria Vs Wales</td><td>D</td><td>Austria</td><td>Wales</td><td>3</td><td>4</td><td>Wales</td><td>Group Stage</td></tr><tr><td>21</td><td>Netherlands Vs Austria</td><td>D</td><td>Netherlands</td><td>Austria</td><td>4</td><td>5</td><td>Austria</td><td>Group Stage</td></tr><tr><td>20</td><td>Netherlands Vs France</td><td>D</td><td>Netherlands</td><td>France</td><td>5</td><td>0</td><td>Netherlands</td><td>Group Stage</td></tr><tr><td>19</td><td>Netherlands Vs Wales</td><td>D</td><td>Netherlands</td><td>Wales</td><td>3</td><td>4</td><td>Wales</td><td>Group Stage</td></tr><tr><td>18</td><td>Serbia Vs England</td><td>C</td><td>Serbia</td><td>England</td><td>2</td><td>2</td><td>DRAW</td><td>Group Stage</td></tr><tr><td>17</td><td>Denmark Vs Serbia</td><td>C</td><td>Denmark</td><td>Serbia</td><td>0</td><td>4</td><td>Serbia</td><td>Group Stage</td></tr><tr><td>16</td><td>Denmark Vs England</td><td>C</td><td>Denmark</td><td>England</td><td>4</td><td>2</td><td>Denmark</td><td>Group Stage</td></tr><tr><td>15</td><td>Slovenia Vs Denmark</td><td>C</td><td>Slovenia</td><td>Denmark</td><td>4</td><td>4</td><td>DRAW</td><td>Group Stage</td></tr><tr><td>14</td><td>Slovenia Vs Serbia</td><td>C</td><td>Slovenia</td><td>Serbia</td><td>1</td><td>4</td><td>Serbia</td><td>Group Stage</td></tr><tr><td>13</td><td>Slovenia Vs England</td><td>C</td><td>Slovenia</td><td>England</td><td>2</td><td>4</td><td>England</td><td>Group Stage</td></tr><tr><td>12</td><td>Italy Vs Albania</td><td>B</td><td>Italy</td><td>Albania</td><td>4</td><td>3</td><td>Italy</td><td>Group Stage</td></tr><tr><td>11</td><td>Croatia Vs Italy</td><td>B</td><td>Croatia</td><td>Italy</td><td>2</td><td>4</td><td>Italy</td><td>Group Stage</td></tr><tr><td>10</td><td>Croatia Vs Albania</td><td>B</td><td>Croatia</td><td>Albania</td><td>5</td><td>5</td><td>DRAW</td><td>Group Stage</td></tr><tr><td>9</td><td>Spain Vs Croatia</td><td>B</td><td>Spain</td><td>Croatia</td><td>0</td><td>5</td><td>Croatia</td><td>Group Stage</td></tr><tr><td>8</td><td>Spain Vs Italy</td><td>B</td><td>Spain</td><td>Italy</td><td>3</td><td>3</td><td>DRAW</td><td>Group Stage</td></tr><tr><td>7</td><td>Spain Vs Albania</td><td>B</td><td>Spain</td><td>Albania</td><td>4</td><td>2</td><td>Spain</td><td>Group Stage</td></tr><tr><td>6</td><td>Hungary Vs Switzerland</td><td>A</td><td>Hungary</td><td>Switzerland</td><td>2</td><td>1</td><td>Hungary</td><td>Group Stage</td></tr><tr><td>5</td><td>Scotland Vs Hungary</td><td>A</td><td>Scotland</td><td>Hungary</td><td>2</td><td>1</td><td>Scotland</td><td>Group Stage</td></tr><tr><td>4</td><td>Scotland Vs Switzerland</td><td>A</td><td>Scotland</td><td>Switzerland</td><td>3</td><td>4</td><td>Switzerland</td><td>Group Stage</td></tr><tr><td>3</td><td>Germany Vs Scotland</td><td>A</td><td>Germany</td><td>Scotland</td><td>2</td><td>1</td><td>Germany</td><td>Group Stage</td></tr><tr><td>2</td><td>Germany Vs Hungary</td><td>A</td><td>Germany</td><td>Hungary</td><td>5</td><td>1</td><td>Germany</td><td>Group Stage</td></tr><tr><td>1</td><td>Germany Vs Switzerland</td><td>A</td><td>Germany</td><td>Switzerland</td><td>1</td><td>2</td><td>Switzerland</td><td>Group Stage</td></tr></tbody></table></div>"
      ]
     },
     "metadata": {
      "application/vnd.databricks.v1+output": {
       "addedWidgets": {},
       "aggData": [],
       "aggError": "",
       "aggOverflow": false,
       "aggSchema": [],
       "aggSeriesLimitReached": false,
       "aggType": "",
       "arguments": {},
       "columnCustomDisplayInfos": {},
       "data": [
        [
         48,
         "Serbia VS Croatia",
         "N",
         "Serbia",
         "Croatia",
         0,
         1,
         "Croatia",
         "Quarter-Final"
        ],
        [
         47,
         "Spain VS Austria",
         "N",
         "Spain",
         "Austria",
         5,
         1,
         "Spain",
         "Quarter-Final"
        ],
        [
         46,
         "Czech Republic VS Austria",
         "N",
         "Czech Republic",
         "Austria",
         2,
         5,
         "Austria",
         "Quarter-Final"
        ],
        [
         45,
         "Italy VS Germany",
         "N",
         "Italy",
         "Germany",
         0,
         5,
         "Germany",
         "Quarter-Final"
        ],
        [
         44,
         "Austria VS Turkey",
         "N",
         "Austria",
         "Turkey",
         4,
         0,
         "Austria",
         "R16"
        ],
        [
         43,
         "Wales VS Spain",
         "N",
         "Wales",
         "Spain",
         0,
         5,
         "Spain",
         "R16"
        ],
        [
         42,
         "Austria VS Belgium",
         "N",
         "Austria",
         "Belgium",
         5,
         4,
         "Austria",
         "R16"
        ],
        [
         41,
         "Czech Republic VS Denmark",
         "N",
         "Czech Republic",
         "Denmark",
         2,
         0,
         "Czech Republic",
         "R16"
        ],
        [
         40,
         "Serbia VS Netherlands",
         "N",
         "Serbia",
         "Netherlands",
         5,
         5,
         "Serbia",
         "R16"
        ],
        [
         39,
         "Italy VS Scotland",
         "N",
         "Italy",
         "Scotland",
         3,
         3,
         "Italy",
         "R16"
        ],
        [
         38,
         "Switzerland VS Croatia",
         "N",
         "Switzerland",
         "Croatia",
         0,
         5,
         "Croatia",
         "R16"
        ],
        [
         37,
         "Germany VS England",
         "N",
         "Germany",
         "England",
         4,
         1,
         "Germany",
         "R16"
        ],
        [
         36,
         "Portugal Vs Czech Republic",
         "F",
         "Portugal",
         "Czech Republic",
         3,
         4,
         "Czech Republic",
         "Group Stage"
        ],
        [
         35,
         "Kazakhstan Vs Portugal",
         "F",
         "Kazakhstan",
         "Portugal",
         5,
         3,
         "Kazakhstan",
         "Group Stage"
        ],
        [
         34,
         "Kazakhstan Vs Czech Republic",
         "F",
         "Kazakhstan",
         "Czech Republic",
         4,
         5,
         "Czech Republic",
         "Group Stage"
        ],
        [
         33,
         "Turkey Vs Kazakhstan",
         "F",
         "Turkey",
         "Kazakhstan",
         5,
         4,
         "Turkey",
         "Group Stage"
        ],
        [
         32,
         "Turkey Vs Portugal",
         "F",
         "Turkey",
         "Portugal",
         0,
         0,
         "DRAW",
         "Group Stage"
        ],
        [
         31,
         "Turkey Vs Czech Republic",
         "F",
         "Turkey",
         "Czech Republic",
         2,
         5,
         "Czech Republic",
         "Group Stage"
        ],
        [
         30,
         "Romania Vs Poland",
         "E",
         "Romania",
         "Poland",
         1,
         3,
         "Poland",
         "Group Stage"
        ],
        [
         29,
         "Slovakia Vs Romania",
         "E",
         "Slovakia",
         "Romania",
         3,
         2,
         "Slovakia",
         "Group Stage"
        ],
        [
         28,
         "Slovakia Vs Poland",
         "E",
         "Slovakia",
         "Poland",
         3,
         2,
         "Slovakia",
         "Group Stage"
        ],
        [
         27,
         "Belgium Vs Slovakia",
         "E",
         "Belgium",
         "Slovakia",
         4,
         5,
         "Slovakia",
         "Group Stage"
        ],
        [
         26,
         "Belgium Vs Romania",
         "E",
         "Belgium",
         "Romania",
         4,
         0,
         "Belgium",
         "Group Stage"
        ],
        [
         25,
         "Belgium Vs Poland",
         "E",
         "Belgium",
         "Poland",
         3,
         1,
         "Belgium",
         "Group Stage"
        ],
        [
         24,
         "France Vs Wales",
         "D",
         "France",
         "Wales",
         2,
         5,
         "Wales",
         "Group Stage"
        ],
        [
         23,
         "Austria Vs France",
         "D",
         "Austria",
         "France",
         5,
         2,
         "Austria",
         "Group Stage"
        ],
        [
         22,
         "Austria Vs Wales",
         "D",
         "Austria",
         "Wales",
         3,
         4,
         "Wales",
         "Group Stage"
        ],
        [
         21,
         "Netherlands Vs Austria",
         "D",
         "Netherlands",
         "Austria",
         4,
         5,
         "Austria",
         "Group Stage"
        ],
        [
         20,
         "Netherlands Vs France",
         "D",
         "Netherlands",
         "France",
         5,
         0,
         "Netherlands",
         "Group Stage"
        ],
        [
         19,
         "Netherlands Vs Wales",
         "D",
         "Netherlands",
         "Wales",
         3,
         4,
         "Wales",
         "Group Stage"
        ],
        [
         18,
         "Serbia Vs England",
         "C",
         "Serbia",
         "England",
         2,
         2,
         "DRAW",
         "Group Stage"
        ],
        [
         17,
         "Denmark Vs Serbia",
         "C",
         "Denmark",
         "Serbia",
         0,
         4,
         "Serbia",
         "Group Stage"
        ],
        [
         16,
         "Denmark Vs England",
         "C",
         "Denmark",
         "England",
         4,
         2,
         "Denmark",
         "Group Stage"
        ],
        [
         15,
         "Slovenia Vs Denmark",
         "C",
         "Slovenia",
         "Denmark",
         4,
         4,
         "DRAW",
         "Group Stage"
        ],
        [
         14,
         "Slovenia Vs Serbia",
         "C",
         "Slovenia",
         "Serbia",
         1,
         4,
         "Serbia",
         "Group Stage"
        ],
        [
         13,
         "Slovenia Vs England",
         "C",
         "Slovenia",
         "England",
         2,
         4,
         "England",
         "Group Stage"
        ],
        [
         12,
         "Italy Vs Albania",
         "B",
         "Italy",
         "Albania",
         4,
         3,
         "Italy",
         "Group Stage"
        ],
        [
         11,
         "Croatia Vs Italy",
         "B",
         "Croatia",
         "Italy",
         2,
         4,
         "Italy",
         "Group Stage"
        ],
        [
         10,
         "Croatia Vs Albania",
         "B",
         "Croatia",
         "Albania",
         5,
         5,
         "DRAW",
         "Group Stage"
        ],
        [
         9,
         "Spain Vs Croatia",
         "B",
         "Spain",
         "Croatia",
         0,
         5,
         "Croatia",
         "Group Stage"
        ],
        [
         8,
         "Spain Vs Italy",
         "B",
         "Spain",
         "Italy",
         3,
         3,
         "DRAW",
         "Group Stage"
        ],
        [
         7,
         "Spain Vs Albania",
         "B",
         "Spain",
         "Albania",
         4,
         2,
         "Spain",
         "Group Stage"
        ],
        [
         6,
         "Hungary Vs Switzerland",
         "A",
         "Hungary",
         "Switzerland",
         2,
         1,
         "Hungary",
         "Group Stage"
        ],
        [
         5,
         "Scotland Vs Hungary",
         "A",
         "Scotland",
         "Hungary",
         2,
         1,
         "Scotland",
         "Group Stage"
        ],
        [
         4,
         "Scotland Vs Switzerland",
         "A",
         "Scotland",
         "Switzerland",
         3,
         4,
         "Switzerland",
         "Group Stage"
        ],
        [
         3,
         "Germany Vs Scotland",
         "A",
         "Germany",
         "Scotland",
         2,
         1,
         "Germany",
         "Group Stage"
        ],
        [
         2,
         "Germany Vs Hungary",
         "A",
         "Germany",
         "Hungary",
         5,
         1,
         "Germany",
         "Group Stage"
        ],
        [
         1,
         "Germany Vs Switzerland",
         "A",
         "Germany",
         "Switzerland",
         1,
         2,
         "Switzerland",
         "Group Stage"
        ]
       ],
       "datasetInfos": [],
       "dbfsResultPath": null,
       "isJsonSchema": true,
       "metadata": {},
       "overflow": false,
       "plotOptions": {
        "customPlotOptions": {},
        "displayType": "table",
        "pivotAggregation": null,
        "pivotColumns": null,
        "xColumns": null,
        "yColumns": null
       },
       "removedWidgets": [],
       "schema": [
        {
         "metadata": "{}",
         "name": "match_id",
         "type": "\"integer\""
        },
        {
         "metadata": "{\"__CHAR_VARCHAR_TYPE_STRING\":\"varchar(50)\"}",
         "name": "match_fixtures",
         "type": "\"string\""
        },
        {
         "metadata": "{\"__CHAR_VARCHAR_TYPE_STRING\":\"varchar(1)\"}",
         "name": "group_name",
         "type": "\"string\""
        },
        {
         "metadata": "{\"__CHAR_VARCHAR_TYPE_STRING\":\"varchar(20)\"}",
         "name": "team1",
         "type": "\"string\""
        },
        {
         "metadata": "{\"__CHAR_VARCHAR_TYPE_STRING\":\"varchar(20)\"}",
         "name": "team2",
         "type": "\"string\""
        },
        {
         "metadata": "{}",
         "name": "team1_goals",
         "type": "\"integer\""
        },
        {
         "metadata": "{}",
         "name": "team2_goals",
         "type": "\"integer\""
        },
        {
         "metadata": "{\"__CHAR_VARCHAR_TYPE_STRING\":\"varchar(20)\"}",
         "name": "match_results",
         "type": "\"string\""
        },
        {
         "metadata": "{\"__CHAR_VARCHAR_TYPE_STRING\":\"varchar(20)\"}",
         "name": "match_stage",
         "type": "\"string\""
        }
       ],
       "type": "table"
      }
     },
     "output_type": "display_data"
    }
   ],
   "source": [
    "%sql\n",
    "select * from match_table order by match_id desc;"
   ]
  },
  {
   "cell_type": "markdown",
   "metadata": {
    "application/vnd.databricks.v1+cell": {
     "cellMetadata": {
      "byteLimit": 2048000,
      "rowLimit": 10000
     },
     "inputWidgets": {},
     "nuid": "c6583f2d-afc5-405c-8d90-120345d68c9d",
     "showTitle": false,
     "title": ""
    }
   },
   "source": [
    "SEMI FINAl"
   ]
  },
  {
   "cell_type": "code",
   "execution_count": 0,
   "metadata": {
    "application/vnd.databricks.v1+cell": {
     "cellMetadata": {
      "byteLimit": 2048000,
      "implicitDf": true,
      "rowLimit": 10000
     },
     "inputWidgets": {},
     "nuid": "53b82df9-8ea2-4c45-92b5-6f96117c88e5",
     "showTitle": false,
     "title": ""
    }
   },
   "outputs": [
    {
     "output_type": "display_data",
     "data": {
      "text/html": [
       "<style scoped>\n",
       "  .table-result-container {\n",
       "    max-height: 300px;\n",
       "    overflow: auto;\n",
       "  }\n",
       "  table, th, td {\n",
       "    border: 1px solid black;\n",
       "    border-collapse: collapse;\n",
       "  }\n",
       "  th, td {\n",
       "    padding: 5px;\n",
       "  }\n",
       "  th {\n",
       "    text-align: left;\n",
       "  }\n",
       "</style><div class='table-result-container'><table class='table-result'><thead style='background-color: white'><tr><th>num_affected_rows</th><th>num_inserted_rows</th></tr></thead><tbody><tr><td>2</td><td>2</td></tr></tbody></table></div>"
      ]
     },
     "metadata": {
      "application/vnd.databricks.v1+output": {
       "addedWidgets": {},
       "aggData": [],
       "aggError": "",
       "aggOverflow": false,
       "aggSchema": [],
       "aggSeriesLimitReached": false,
       "aggType": "",
       "arguments": {},
       "columnCustomDisplayInfos": {},
       "data": [
        [
         2,
         2
        ]
       ],
       "datasetInfos": [],
       "dbfsResultPath": null,
       "isJsonSchema": true,
       "metadata": {},
       "overflow": false,
       "plotOptions": {
        "customPlotOptions": {},
        "displayType": "table",
        "pivotAggregation": null,
        "pivotColumns": null,
        "xColumns": null,
        "yColumns": null
       },
       "removedWidgets": [],
       "schema": [
        {
         "metadata": "{}",
         "name": "num_affected_rows",
         "type": "\"long\""
        },
        {
         "metadata": "{}",
         "name": "num_inserted_rows",
         "type": "\"long\""
        }
       ],
       "type": "table"
      }
     },
     "output_type": "display_data"
    }
   ],
   "source": [
    "%sql\n",
    "INSERT INTO match_table (match_id, match_fixtures,group_name, team1, team2, team1_goals, team2_goals, match_results, match_stage)\n",
    "SELECT \n",
    "    Row_Number() OVER(ORDER BY 1) + 48 AS match_id,\n",
    "    CONCAT(SF1.match_results, ' Vs. ', SF2.match_results) AS fixture,\n",
    "    'N' as GroupName,\n",
    "    SF1.match_results AS team1,\n",
    "    SF2.match_results AS team2,\n",
    "    CAST(rand() * 6 AS INT) AS goals_scored, \n",
    "    CAST(rand() * 6 AS INT) AS goals_conceded,\n",
    "    'NONE' AS match_results,\n",
    "    'Semi-Final' AS match_stage\n",
    "FROM \n",
    "    match_table SF1\n",
    "JOIN \n",
    "    match_table SF2 ON (\n",
    "        (SF1.match_id = 45 AND SF2.match_id = 46) OR\n",
    "        (SF1.match_id = 47 AND SF2.match_id = 48)\n",
    "    );"
   ]
  },
  {
   "cell_type": "code",
   "execution_count": 0,
   "metadata": {
    "application/vnd.databricks.v1+cell": {
     "cellMetadata": {
      "byteLimit": 2048000,
      "implicitDf": true,
      "rowLimit": 10000
     },
     "inputWidgets": {},
     "nuid": "ec9689c7-9ee1-4d7d-80e1-145e73ef8911",
     "showTitle": false,
     "title": ""
    }
   },
   "outputs": [
    {
     "output_type": "display_data",
     "data": {
      "text/html": [
       "<style scoped>\n",
       "  .table-result-container {\n",
       "    max-height: 300px;\n",
       "    overflow: auto;\n",
       "  }\n",
       "  table, th, td {\n",
       "    border: 1px solid black;\n",
       "    border-collapse: collapse;\n",
       "  }\n",
       "  th, td {\n",
       "    padding: 5px;\n",
       "  }\n",
       "  th {\n",
       "    text-align: left;\n",
       "  }\n",
       "</style><div class='table-result-container'><table class='table-result'><thead style='background-color: white'><tr><th>num_affected_rows</th></tr></thead><tbody><tr><td>2</td></tr></tbody></table></div>"
      ]
     },
     "metadata": {
      "application/vnd.databricks.v1+output": {
       "addedWidgets": {},
       "aggData": [],
       "aggError": "",
       "aggOverflow": false,
       "aggSchema": [],
       "aggSeriesLimitReached": false,
       "aggType": "",
       "arguments": {},
       "columnCustomDisplayInfos": {},
       "data": [
        [
         2
        ]
       ],
       "datasetInfos": [],
       "dbfsResultPath": null,
       "isJsonSchema": true,
       "metadata": {},
       "overflow": false,
       "plotOptions": {
        "customPlotOptions": {},
        "displayType": "table",
        "pivotAggregation": null,
        "pivotColumns": null,
        "xColumns": null,
        "yColumns": null
       },
       "removedWidgets": [],
       "schema": [
        {
         "metadata": "{}",
         "name": "num_affected_rows",
         "type": "\"long\""
        }
       ],
       "type": "table"
      }
     },
     "output_type": "display_data"
    }
   ],
   "source": [
    "%sql\n",
    "UPDATE match_table\n",
    "SET match_results = \n",
    "CASE\n",
    "WHEN team1_goals > team2_goals THEN team1\n",
    "WHEN team1_goals < team2_goals THEN team2\n",
    "ELSE\n",
    "CASE\n",
    "WHEN (team1_goals + 1) % 2 = 1 THEN team1\n",
    "ELSE team1\n",
    "END\n",
    "END\n",
    "WHERE match_stage = 'Semi-Final';"
   ]
  },
  {
   "cell_type": "code",
   "execution_count": 0,
   "metadata": {
    "application/vnd.databricks.v1+cell": {
     "cellMetadata": {
      "byteLimit": 2048000,
      "implicitDf": true,
      "rowLimit": 10000
     },
     "inputWidgets": {},
     "nuid": "9260cb3e-985d-4d4b-aff4-fdacffd5364c",
     "showTitle": false,
     "title": ""
    }
   },
   "outputs": [
    {
     "output_type": "display_data",
     "data": {
      "text/html": [
       "<style scoped>\n",
       "  .table-result-container {\n",
       "    max-height: 300px;\n",
       "    overflow: auto;\n",
       "  }\n",
       "  table, th, td {\n",
       "    border: 1px solid black;\n",
       "    border-collapse: collapse;\n",
       "  }\n",
       "  th, td {\n",
       "    padding: 5px;\n",
       "  }\n",
       "  th {\n",
       "    text-align: left;\n",
       "  }\n",
       "</style><div class='table-result-container'><table class='table-result'><thead style='background-color: white'><tr><th>match_id</th><th>match_fixtures</th><th>group_name</th><th>team1</th><th>team2</th><th>team1_goals</th><th>team2_goals</th><th>match_results</th><th>match_stage</th></tr></thead><tbody><tr><td>50</td><td>Spain Vs. Croatia</td><td>N</td><td>Spain</td><td>Croatia</td><td>3</td><td>1</td><td>Spain</td><td>Semi-Final</td></tr><tr><td>49</td><td>Germany Vs. Austria</td><td>N</td><td>Germany</td><td>Austria</td><td>5</td><td>4</td><td>Germany</td><td>Semi-Final</td></tr><tr><td>48</td><td>Serbia VS Croatia</td><td>N</td><td>Serbia</td><td>Croatia</td><td>0</td><td>1</td><td>Croatia</td><td>Quarter-Final</td></tr><tr><td>47</td><td>Spain VS Austria</td><td>N</td><td>Spain</td><td>Austria</td><td>5</td><td>1</td><td>Spain</td><td>Quarter-Final</td></tr><tr><td>46</td><td>Czech Republic VS Austria</td><td>N</td><td>Czech Republic</td><td>Austria</td><td>2</td><td>5</td><td>Austria</td><td>Quarter-Final</td></tr><tr><td>45</td><td>Italy VS Germany</td><td>N</td><td>Italy</td><td>Germany</td><td>0</td><td>5</td><td>Germany</td><td>Quarter-Final</td></tr><tr><td>44</td><td>Austria VS Turkey</td><td>N</td><td>Austria</td><td>Turkey</td><td>4</td><td>0</td><td>Austria</td><td>R16</td></tr><tr><td>43</td><td>Wales VS Spain</td><td>N</td><td>Wales</td><td>Spain</td><td>0</td><td>5</td><td>Spain</td><td>R16</td></tr><tr><td>42</td><td>Austria VS Belgium</td><td>N</td><td>Austria</td><td>Belgium</td><td>5</td><td>4</td><td>Austria</td><td>R16</td></tr><tr><td>41</td><td>Czech Republic VS Denmark</td><td>N</td><td>Czech Republic</td><td>Denmark</td><td>2</td><td>0</td><td>Czech Republic</td><td>R16</td></tr><tr><td>40</td><td>Serbia VS Netherlands</td><td>N</td><td>Serbia</td><td>Netherlands</td><td>5</td><td>5</td><td>Serbia</td><td>R16</td></tr><tr><td>39</td><td>Italy VS Scotland</td><td>N</td><td>Italy</td><td>Scotland</td><td>3</td><td>3</td><td>Italy</td><td>R16</td></tr><tr><td>38</td><td>Switzerland VS Croatia</td><td>N</td><td>Switzerland</td><td>Croatia</td><td>0</td><td>5</td><td>Croatia</td><td>R16</td></tr><tr><td>37</td><td>Germany VS England</td><td>N</td><td>Germany</td><td>England</td><td>4</td><td>1</td><td>Germany</td><td>R16</td></tr><tr><td>36</td><td>Portugal Vs Czech Republic</td><td>F</td><td>Portugal</td><td>Czech Republic</td><td>3</td><td>4</td><td>Czech Republic</td><td>Group Stage</td></tr><tr><td>35</td><td>Kazakhstan Vs Portugal</td><td>F</td><td>Kazakhstan</td><td>Portugal</td><td>5</td><td>3</td><td>Kazakhstan</td><td>Group Stage</td></tr><tr><td>34</td><td>Kazakhstan Vs Czech Republic</td><td>F</td><td>Kazakhstan</td><td>Czech Republic</td><td>4</td><td>5</td><td>Czech Republic</td><td>Group Stage</td></tr><tr><td>33</td><td>Turkey Vs Kazakhstan</td><td>F</td><td>Turkey</td><td>Kazakhstan</td><td>5</td><td>4</td><td>Turkey</td><td>Group Stage</td></tr><tr><td>32</td><td>Turkey Vs Portugal</td><td>F</td><td>Turkey</td><td>Portugal</td><td>0</td><td>0</td><td>DRAW</td><td>Group Stage</td></tr><tr><td>31</td><td>Turkey Vs Czech Republic</td><td>F</td><td>Turkey</td><td>Czech Republic</td><td>2</td><td>5</td><td>Czech Republic</td><td>Group Stage</td></tr><tr><td>30</td><td>Romania Vs Poland</td><td>E</td><td>Romania</td><td>Poland</td><td>1</td><td>3</td><td>Poland</td><td>Group Stage</td></tr><tr><td>29</td><td>Slovakia Vs Romania</td><td>E</td><td>Slovakia</td><td>Romania</td><td>3</td><td>2</td><td>Slovakia</td><td>Group Stage</td></tr><tr><td>28</td><td>Slovakia Vs Poland</td><td>E</td><td>Slovakia</td><td>Poland</td><td>3</td><td>2</td><td>Slovakia</td><td>Group Stage</td></tr><tr><td>27</td><td>Belgium Vs Slovakia</td><td>E</td><td>Belgium</td><td>Slovakia</td><td>4</td><td>5</td><td>Slovakia</td><td>Group Stage</td></tr><tr><td>26</td><td>Belgium Vs Romania</td><td>E</td><td>Belgium</td><td>Romania</td><td>4</td><td>0</td><td>Belgium</td><td>Group Stage</td></tr><tr><td>25</td><td>Belgium Vs Poland</td><td>E</td><td>Belgium</td><td>Poland</td><td>3</td><td>1</td><td>Belgium</td><td>Group Stage</td></tr><tr><td>24</td><td>France Vs Wales</td><td>D</td><td>France</td><td>Wales</td><td>2</td><td>5</td><td>Wales</td><td>Group Stage</td></tr><tr><td>23</td><td>Austria Vs France</td><td>D</td><td>Austria</td><td>France</td><td>5</td><td>2</td><td>Austria</td><td>Group Stage</td></tr><tr><td>22</td><td>Austria Vs Wales</td><td>D</td><td>Austria</td><td>Wales</td><td>3</td><td>4</td><td>Wales</td><td>Group Stage</td></tr><tr><td>21</td><td>Netherlands Vs Austria</td><td>D</td><td>Netherlands</td><td>Austria</td><td>4</td><td>5</td><td>Austria</td><td>Group Stage</td></tr><tr><td>20</td><td>Netherlands Vs France</td><td>D</td><td>Netherlands</td><td>France</td><td>5</td><td>0</td><td>Netherlands</td><td>Group Stage</td></tr><tr><td>19</td><td>Netherlands Vs Wales</td><td>D</td><td>Netherlands</td><td>Wales</td><td>3</td><td>4</td><td>Wales</td><td>Group Stage</td></tr><tr><td>18</td><td>Serbia Vs England</td><td>C</td><td>Serbia</td><td>England</td><td>2</td><td>2</td><td>DRAW</td><td>Group Stage</td></tr><tr><td>17</td><td>Denmark Vs Serbia</td><td>C</td><td>Denmark</td><td>Serbia</td><td>0</td><td>4</td><td>Serbia</td><td>Group Stage</td></tr><tr><td>16</td><td>Denmark Vs England</td><td>C</td><td>Denmark</td><td>England</td><td>4</td><td>2</td><td>Denmark</td><td>Group Stage</td></tr><tr><td>15</td><td>Slovenia Vs Denmark</td><td>C</td><td>Slovenia</td><td>Denmark</td><td>4</td><td>4</td><td>DRAW</td><td>Group Stage</td></tr><tr><td>14</td><td>Slovenia Vs Serbia</td><td>C</td><td>Slovenia</td><td>Serbia</td><td>1</td><td>4</td><td>Serbia</td><td>Group Stage</td></tr><tr><td>13</td><td>Slovenia Vs England</td><td>C</td><td>Slovenia</td><td>England</td><td>2</td><td>4</td><td>England</td><td>Group Stage</td></tr><tr><td>12</td><td>Italy Vs Albania</td><td>B</td><td>Italy</td><td>Albania</td><td>4</td><td>3</td><td>Italy</td><td>Group Stage</td></tr><tr><td>11</td><td>Croatia Vs Italy</td><td>B</td><td>Croatia</td><td>Italy</td><td>2</td><td>4</td><td>Italy</td><td>Group Stage</td></tr><tr><td>10</td><td>Croatia Vs Albania</td><td>B</td><td>Croatia</td><td>Albania</td><td>5</td><td>5</td><td>DRAW</td><td>Group Stage</td></tr><tr><td>9</td><td>Spain Vs Croatia</td><td>B</td><td>Spain</td><td>Croatia</td><td>0</td><td>5</td><td>Croatia</td><td>Group Stage</td></tr><tr><td>8</td><td>Spain Vs Italy</td><td>B</td><td>Spain</td><td>Italy</td><td>3</td><td>3</td><td>DRAW</td><td>Group Stage</td></tr><tr><td>7</td><td>Spain Vs Albania</td><td>B</td><td>Spain</td><td>Albania</td><td>4</td><td>2</td><td>Spain</td><td>Group Stage</td></tr><tr><td>6</td><td>Hungary Vs Switzerland</td><td>A</td><td>Hungary</td><td>Switzerland</td><td>2</td><td>1</td><td>Hungary</td><td>Group Stage</td></tr><tr><td>5</td><td>Scotland Vs Hungary</td><td>A</td><td>Scotland</td><td>Hungary</td><td>2</td><td>1</td><td>Scotland</td><td>Group Stage</td></tr><tr><td>4</td><td>Scotland Vs Switzerland</td><td>A</td><td>Scotland</td><td>Switzerland</td><td>3</td><td>4</td><td>Switzerland</td><td>Group Stage</td></tr><tr><td>3</td><td>Germany Vs Scotland</td><td>A</td><td>Germany</td><td>Scotland</td><td>2</td><td>1</td><td>Germany</td><td>Group Stage</td></tr><tr><td>2</td><td>Germany Vs Hungary</td><td>A</td><td>Germany</td><td>Hungary</td><td>5</td><td>1</td><td>Germany</td><td>Group Stage</td></tr><tr><td>1</td><td>Germany Vs Switzerland</td><td>A</td><td>Germany</td><td>Switzerland</td><td>1</td><td>2</td><td>Switzerland</td><td>Group Stage</td></tr></tbody></table></div>"
      ]
     },
     "metadata": {
      "application/vnd.databricks.v1+output": {
       "addedWidgets": {},
       "aggData": [],
       "aggError": "",
       "aggOverflow": false,
       "aggSchema": [],
       "aggSeriesLimitReached": false,
       "aggType": "",
       "arguments": {},
       "columnCustomDisplayInfos": {},
       "data": [
        [
         50,
         "Spain Vs. Croatia",
         "N",
         "Spain",
         "Croatia",
         3,
         1,
         "Spain",
         "Semi-Final"
        ],
        [
         49,
         "Germany Vs. Austria",
         "N",
         "Germany",
         "Austria",
         5,
         4,
         "Germany",
         "Semi-Final"
        ],
        [
         48,
         "Serbia VS Croatia",
         "N",
         "Serbia",
         "Croatia",
         0,
         1,
         "Croatia",
         "Quarter-Final"
        ],
        [
         47,
         "Spain VS Austria",
         "N",
         "Spain",
         "Austria",
         5,
         1,
         "Spain",
         "Quarter-Final"
        ],
        [
         46,
         "Czech Republic VS Austria",
         "N",
         "Czech Republic",
         "Austria",
         2,
         5,
         "Austria",
         "Quarter-Final"
        ],
        [
         45,
         "Italy VS Germany",
         "N",
         "Italy",
         "Germany",
         0,
         5,
         "Germany",
         "Quarter-Final"
        ],
        [
         44,
         "Austria VS Turkey",
         "N",
         "Austria",
         "Turkey",
         4,
         0,
         "Austria",
         "R16"
        ],
        [
         43,
         "Wales VS Spain",
         "N",
         "Wales",
         "Spain",
         0,
         5,
         "Spain",
         "R16"
        ],
        [
         42,
         "Austria VS Belgium",
         "N",
         "Austria",
         "Belgium",
         5,
         4,
         "Austria",
         "R16"
        ],
        [
         41,
         "Czech Republic VS Denmark",
         "N",
         "Czech Republic",
         "Denmark",
         2,
         0,
         "Czech Republic",
         "R16"
        ],
        [
         40,
         "Serbia VS Netherlands",
         "N",
         "Serbia",
         "Netherlands",
         5,
         5,
         "Serbia",
         "R16"
        ],
        [
         39,
         "Italy VS Scotland",
         "N",
         "Italy",
         "Scotland",
         3,
         3,
         "Italy",
         "R16"
        ],
        [
         38,
         "Switzerland VS Croatia",
         "N",
         "Switzerland",
         "Croatia",
         0,
         5,
         "Croatia",
         "R16"
        ],
        [
         37,
         "Germany VS England",
         "N",
         "Germany",
         "England",
         4,
         1,
         "Germany",
         "R16"
        ],
        [
         36,
         "Portugal Vs Czech Republic",
         "F",
         "Portugal",
         "Czech Republic",
         3,
         4,
         "Czech Republic",
         "Group Stage"
        ],
        [
         35,
         "Kazakhstan Vs Portugal",
         "F",
         "Kazakhstan",
         "Portugal",
         5,
         3,
         "Kazakhstan",
         "Group Stage"
        ],
        [
         34,
         "Kazakhstan Vs Czech Republic",
         "F",
         "Kazakhstan",
         "Czech Republic",
         4,
         5,
         "Czech Republic",
         "Group Stage"
        ],
        [
         33,
         "Turkey Vs Kazakhstan",
         "F",
         "Turkey",
         "Kazakhstan",
         5,
         4,
         "Turkey",
         "Group Stage"
        ],
        [
         32,
         "Turkey Vs Portugal",
         "F",
         "Turkey",
         "Portugal",
         0,
         0,
         "DRAW",
         "Group Stage"
        ],
        [
         31,
         "Turkey Vs Czech Republic",
         "F",
         "Turkey",
         "Czech Republic",
         2,
         5,
         "Czech Republic",
         "Group Stage"
        ],
        [
         30,
         "Romania Vs Poland",
         "E",
         "Romania",
         "Poland",
         1,
         3,
         "Poland",
         "Group Stage"
        ],
        [
         29,
         "Slovakia Vs Romania",
         "E",
         "Slovakia",
         "Romania",
         3,
         2,
         "Slovakia",
         "Group Stage"
        ],
        [
         28,
         "Slovakia Vs Poland",
         "E",
         "Slovakia",
         "Poland",
         3,
         2,
         "Slovakia",
         "Group Stage"
        ],
        [
         27,
         "Belgium Vs Slovakia",
         "E",
         "Belgium",
         "Slovakia",
         4,
         5,
         "Slovakia",
         "Group Stage"
        ],
        [
         26,
         "Belgium Vs Romania",
         "E",
         "Belgium",
         "Romania",
         4,
         0,
         "Belgium",
         "Group Stage"
        ],
        [
         25,
         "Belgium Vs Poland",
         "E",
         "Belgium",
         "Poland",
         3,
         1,
         "Belgium",
         "Group Stage"
        ],
        [
         24,
         "France Vs Wales",
         "D",
         "France",
         "Wales",
         2,
         5,
         "Wales",
         "Group Stage"
        ],
        [
         23,
         "Austria Vs France",
         "D",
         "Austria",
         "France",
         5,
         2,
         "Austria",
         "Group Stage"
        ],
        [
         22,
         "Austria Vs Wales",
         "D",
         "Austria",
         "Wales",
         3,
         4,
         "Wales",
         "Group Stage"
        ],
        [
         21,
         "Netherlands Vs Austria",
         "D",
         "Netherlands",
         "Austria",
         4,
         5,
         "Austria",
         "Group Stage"
        ],
        [
         20,
         "Netherlands Vs France",
         "D",
         "Netherlands",
         "France",
         5,
         0,
         "Netherlands",
         "Group Stage"
        ],
        [
         19,
         "Netherlands Vs Wales",
         "D",
         "Netherlands",
         "Wales",
         3,
         4,
         "Wales",
         "Group Stage"
        ],
        [
         18,
         "Serbia Vs England",
         "C",
         "Serbia",
         "England",
         2,
         2,
         "DRAW",
         "Group Stage"
        ],
        [
         17,
         "Denmark Vs Serbia",
         "C",
         "Denmark",
         "Serbia",
         0,
         4,
         "Serbia",
         "Group Stage"
        ],
        [
         16,
         "Denmark Vs England",
         "C",
         "Denmark",
         "England",
         4,
         2,
         "Denmark",
         "Group Stage"
        ],
        [
         15,
         "Slovenia Vs Denmark",
         "C",
         "Slovenia",
         "Denmark",
         4,
         4,
         "DRAW",
         "Group Stage"
        ],
        [
         14,
         "Slovenia Vs Serbia",
         "C",
         "Slovenia",
         "Serbia",
         1,
         4,
         "Serbia",
         "Group Stage"
        ],
        [
         13,
         "Slovenia Vs England",
         "C",
         "Slovenia",
         "England",
         2,
         4,
         "England",
         "Group Stage"
        ],
        [
         12,
         "Italy Vs Albania",
         "B",
         "Italy",
         "Albania",
         4,
         3,
         "Italy",
         "Group Stage"
        ],
        [
         11,
         "Croatia Vs Italy",
         "B",
         "Croatia",
         "Italy",
         2,
         4,
         "Italy",
         "Group Stage"
        ],
        [
         10,
         "Croatia Vs Albania",
         "B",
         "Croatia",
         "Albania",
         5,
         5,
         "DRAW",
         "Group Stage"
        ],
        [
         9,
         "Spain Vs Croatia",
         "B",
         "Spain",
         "Croatia",
         0,
         5,
         "Croatia",
         "Group Stage"
        ],
        [
         8,
         "Spain Vs Italy",
         "B",
         "Spain",
         "Italy",
         3,
         3,
         "DRAW",
         "Group Stage"
        ],
        [
         7,
         "Spain Vs Albania",
         "B",
         "Spain",
         "Albania",
         4,
         2,
         "Spain",
         "Group Stage"
        ],
        [
         6,
         "Hungary Vs Switzerland",
         "A",
         "Hungary",
         "Switzerland",
         2,
         1,
         "Hungary",
         "Group Stage"
        ],
        [
         5,
         "Scotland Vs Hungary",
         "A",
         "Scotland",
         "Hungary",
         2,
         1,
         "Scotland",
         "Group Stage"
        ],
        [
         4,
         "Scotland Vs Switzerland",
         "A",
         "Scotland",
         "Switzerland",
         3,
         4,
         "Switzerland",
         "Group Stage"
        ],
        [
         3,
         "Germany Vs Scotland",
         "A",
         "Germany",
         "Scotland",
         2,
         1,
         "Germany",
         "Group Stage"
        ],
        [
         2,
         "Germany Vs Hungary",
         "A",
         "Germany",
         "Hungary",
         5,
         1,
         "Germany",
         "Group Stage"
        ],
        [
         1,
         "Germany Vs Switzerland",
         "A",
         "Germany",
         "Switzerland",
         1,
         2,
         "Switzerland",
         "Group Stage"
        ]
       ],
       "datasetInfos": [],
       "dbfsResultPath": null,
       "isJsonSchema": true,
       "metadata": {},
       "overflow": false,
       "plotOptions": {
        "customPlotOptions": {},
        "displayType": "table",
        "pivotAggregation": null,
        "pivotColumns": null,
        "xColumns": null,
        "yColumns": null
       },
       "removedWidgets": [],
       "schema": [
        {
         "metadata": "{}",
         "name": "match_id",
         "type": "\"integer\""
        },
        {
         "metadata": "{\"__CHAR_VARCHAR_TYPE_STRING\":\"varchar(50)\"}",
         "name": "match_fixtures",
         "type": "\"string\""
        },
        {
         "metadata": "{\"__CHAR_VARCHAR_TYPE_STRING\":\"varchar(1)\"}",
         "name": "group_name",
         "type": "\"string\""
        },
        {
         "metadata": "{\"__CHAR_VARCHAR_TYPE_STRING\":\"varchar(20)\"}",
         "name": "team1",
         "type": "\"string\""
        },
        {
         "metadata": "{\"__CHAR_VARCHAR_TYPE_STRING\":\"varchar(20)\"}",
         "name": "team2",
         "type": "\"string\""
        },
        {
         "metadata": "{}",
         "name": "team1_goals",
         "type": "\"integer\""
        },
        {
         "metadata": "{}",
         "name": "team2_goals",
         "type": "\"integer\""
        },
        {
         "metadata": "{\"__CHAR_VARCHAR_TYPE_STRING\":\"varchar(20)\"}",
         "name": "match_results",
         "type": "\"string\""
        },
        {
         "metadata": "{\"__CHAR_VARCHAR_TYPE_STRING\":\"varchar(20)\"}",
         "name": "match_stage",
         "type": "\"string\""
        }
       ],
       "type": "table"
      }
     },
     "output_type": "display_data"
    }
   ],
   "source": [
    "%sql\n",
    "select * from match_table order by match_id desc;"
   ]
  },
  {
   "cell_type": "markdown",
   "metadata": {
    "application/vnd.databricks.v1+cell": {
     "cellMetadata": {
      "byteLimit": 2048000,
      "rowLimit": 10000
     },
     "inputWidgets": {},
     "nuid": "ab23dc52-eac9-4862-b274-a36f3a39a2de",
     "showTitle": false,
     "title": ""
    }
   },
   "source": [
    "\n",
    "\n",
    "Final Match\n"
   ]
  },
  {
   "cell_type": "code",
   "execution_count": 0,
   "metadata": {
    "application/vnd.databricks.v1+cell": {
     "cellMetadata": {
      "byteLimit": 2048000,
      "implicitDf": true,
      "rowLimit": 10000
     },
     "inputWidgets": {},
     "nuid": "24a17a21-9de6-4495-aff4-5f97cf64de79",
     "showTitle": false,
     "title": ""
    }
   },
   "outputs": [
    {
     "output_type": "display_data",
     "data": {
      "text/html": [
       "<style scoped>\n",
       "  .table-result-container {\n",
       "    max-height: 300px;\n",
       "    overflow: auto;\n",
       "  }\n",
       "  table, th, td {\n",
       "    border: 1px solid black;\n",
       "    border-collapse: collapse;\n",
       "  }\n",
       "  th, td {\n",
       "    padding: 5px;\n",
       "  }\n",
       "  th {\n",
       "    text-align: left;\n",
       "  }\n",
       "</style><div class='table-result-container'><table class='table-result'><thead style='background-color: white'><tr><th>num_affected_rows</th><th>num_inserted_rows</th></tr></thead><tbody><tr><td>1</td><td>1</td></tr></tbody></table></div>"
      ]
     },
     "metadata": {
      "application/vnd.databricks.v1+output": {
       "addedWidgets": {},
       "aggData": [],
       "aggError": "",
       "aggOverflow": false,
       "aggSchema": [],
       "aggSeriesLimitReached": false,
       "aggType": "",
       "arguments": {},
       "columnCustomDisplayInfos": {},
       "data": [
        [
         1,
         1
        ]
       ],
       "datasetInfos": [],
       "dbfsResultPath": null,
       "isJsonSchema": true,
       "metadata": {},
       "overflow": false,
       "plotOptions": {
        "customPlotOptions": {},
        "displayType": "table",
        "pivotAggregation": null,
        "pivotColumns": null,
        "xColumns": null,
        "yColumns": null
       },
       "removedWidgets": [],
       "schema": [
        {
         "metadata": "{}",
         "name": "num_affected_rows",
         "type": "\"long\""
        },
        {
         "metadata": "{}",
         "name": "num_inserted_rows",
         "type": "\"long\""
        }
       ],
       "type": "table"
      }
     },
     "output_type": "display_data"
    }
   ],
   "source": [
    "%sql\n",
    "INSERT INTO match_table (match_id, match_fixtures,group_name, team1, team2, team1_goals, team2_goals, match_results, match_stage)\n",
    "SELECT \n",
    "    Row_Number() OVER(ORDER BY 1) + 52 AS match_id,\n",
    "    CONCAT(F1.match_results, ' Vs. ', F2.match_results) AS fixture,\n",
    "    'N' as GroupName,\n",
    "    F1.match_results AS team1,\n",
    "    F2.match_results AS Team2,\n",
    "    CAST(rand() * 6 AS INT) AS goals_scored, \n",
    "    CAST(rand() * 6 AS INT) AS goals_conceded,\n",
    "    'None' AS match_results,\n",
    "    'Final' AS match_stage\n",
    "FROM \n",
    "    match_table F1\n",
    "JOIN \n",
    "    match_table F2 ON \n",
    "        F1.match_id = 49 AND F2.match_id = 50;"
   ]
  },
  {
   "cell_type": "code",
   "execution_count": 0,
   "metadata": {
    "application/vnd.databricks.v1+cell": {
     "cellMetadata": {
      "byteLimit": 2048000,
      "implicitDf": true,
      "rowLimit": 10000
     },
     "inputWidgets": {},
     "nuid": "2209f082-d051-4320-8acf-58f5b2456775",
     "showTitle": false,
     "title": ""
    }
   },
   "outputs": [
    {
     "output_type": "display_data",
     "data": {
      "text/html": [
       "<style scoped>\n",
       "  .table-result-container {\n",
       "    max-height: 300px;\n",
       "    overflow: auto;\n",
       "  }\n",
       "  table, th, td {\n",
       "    border: 1px solid black;\n",
       "    border-collapse: collapse;\n",
       "  }\n",
       "  th, td {\n",
       "    padding: 5px;\n",
       "  }\n",
       "  th {\n",
       "    text-align: left;\n",
       "  }\n",
       "</style><div class='table-result-container'><table class='table-result'><thead style='background-color: white'><tr><th>num_affected_rows</th></tr></thead><tbody><tr><td>1</td></tr></tbody></table></div>"
      ]
     },
     "metadata": {
      "application/vnd.databricks.v1+output": {
       "addedWidgets": {},
       "aggData": [],
       "aggError": "",
       "aggOverflow": false,
       "aggSchema": [],
       "aggSeriesLimitReached": false,
       "aggType": "",
       "arguments": {},
       "columnCustomDisplayInfos": {},
       "data": [
        [
         1
        ]
       ],
       "datasetInfos": [],
       "dbfsResultPath": null,
       "isJsonSchema": true,
       "metadata": {},
       "overflow": false,
       "plotOptions": {
        "customPlotOptions": {},
        "displayType": "table",
        "pivotAggregation": null,
        "pivotColumns": null,
        "xColumns": null,
        "yColumns": null
       },
       "removedWidgets": [],
       "schema": [
        {
         "metadata": "{}",
         "name": "num_affected_rows",
         "type": "\"long\""
        }
       ],
       "type": "table"
      }
     },
     "output_type": "display_data"
    }
   ],
   "source": [
    "%sql\n",
    "UPDATE match_table\n",
    "SET match_results = \n",
    "    CASE\n",
    "        WHEN team1_goals > team2_goals THEN team1\n",
    "        WHEN team1_goals < team2_goals THEN team2\n",
    "        ELSE \n",
    "          CASE \n",
    "                WHEN (team1_goals + 1) % 2 = 1 THEN team1\n",
    "                ELSE team2\n",
    "            END\n",
    "    END\n",
    "WHERE match_stage = 'Final';"
   ]
  },
  {
   "cell_type": "code",
   "execution_count": 0,
   "metadata": {
    "application/vnd.databricks.v1+cell": {
     "cellMetadata": {
      "byteLimit": 2048000,
      "implicitDf": true,
      "rowLimit": 10000
     },
     "inputWidgets": {},
     "nuid": "33bd1f13-743a-4516-a22c-eff7e16762b7",
     "showTitle": false,
     "title": ""
    }
   },
   "outputs": [
    {
     "output_type": "display_data",
     "data": {
      "text/html": [
       "<style scoped>\n",
       "  .table-result-container {\n",
       "    max-height: 300px;\n",
       "    overflow: auto;\n",
       "  }\n",
       "  table, th, td {\n",
       "    border: 1px solid black;\n",
       "    border-collapse: collapse;\n",
       "  }\n",
       "  th, td {\n",
       "    padding: 5px;\n",
       "  }\n",
       "  th {\n",
       "    text-align: left;\n",
       "  }\n",
       "</style><div class='table-result-container'><table class='table-result'><thead style='background-color: white'><tr><th>match_id</th><th>match_fixtures</th><th>group_name</th><th>team1</th><th>team2</th><th>team1_goals</th><th>team2_goals</th><th>match_results</th><th>match_stage</th></tr></thead><tbody><tr><td>53</td><td>Germany Vs. Spain</td><td>N</td><td>Germany</td><td>Spain</td><td>5</td><td>0</td><td>Germany</td><td>Final</td></tr><tr><td>50</td><td>Spain Vs. Croatia</td><td>N</td><td>Spain</td><td>Croatia</td><td>3</td><td>1</td><td>Spain</td><td>Semi-Final</td></tr><tr><td>49</td><td>Germany Vs. Austria</td><td>N</td><td>Germany</td><td>Austria</td><td>5</td><td>4</td><td>Germany</td><td>Semi-Final</td></tr><tr><td>48</td><td>Serbia VS Croatia</td><td>N</td><td>Serbia</td><td>Croatia</td><td>0</td><td>1</td><td>Croatia</td><td>Quarter-Final</td></tr><tr><td>47</td><td>Spain VS Austria</td><td>N</td><td>Spain</td><td>Austria</td><td>5</td><td>1</td><td>Spain</td><td>Quarter-Final</td></tr><tr><td>46</td><td>Czech Republic VS Austria</td><td>N</td><td>Czech Republic</td><td>Austria</td><td>2</td><td>5</td><td>Austria</td><td>Quarter-Final</td></tr><tr><td>45</td><td>Italy VS Germany</td><td>N</td><td>Italy</td><td>Germany</td><td>0</td><td>5</td><td>Germany</td><td>Quarter-Final</td></tr><tr><td>44</td><td>Austria VS Turkey</td><td>N</td><td>Austria</td><td>Turkey</td><td>4</td><td>0</td><td>Austria</td><td>R16</td></tr><tr><td>43</td><td>Wales VS Spain</td><td>N</td><td>Wales</td><td>Spain</td><td>0</td><td>5</td><td>Spain</td><td>R16</td></tr><tr><td>42</td><td>Austria VS Belgium</td><td>N</td><td>Austria</td><td>Belgium</td><td>5</td><td>4</td><td>Austria</td><td>R16</td></tr><tr><td>41</td><td>Czech Republic VS Denmark</td><td>N</td><td>Czech Republic</td><td>Denmark</td><td>2</td><td>0</td><td>Czech Republic</td><td>R16</td></tr><tr><td>40</td><td>Serbia VS Netherlands</td><td>N</td><td>Serbia</td><td>Netherlands</td><td>5</td><td>5</td><td>Serbia</td><td>R16</td></tr><tr><td>39</td><td>Italy VS Scotland</td><td>N</td><td>Italy</td><td>Scotland</td><td>3</td><td>3</td><td>Italy</td><td>R16</td></tr><tr><td>38</td><td>Switzerland VS Croatia</td><td>N</td><td>Switzerland</td><td>Croatia</td><td>0</td><td>5</td><td>Croatia</td><td>R16</td></tr><tr><td>37</td><td>Germany VS England</td><td>N</td><td>Germany</td><td>England</td><td>4</td><td>1</td><td>Germany</td><td>R16</td></tr><tr><td>36</td><td>Portugal Vs Czech Republic</td><td>F</td><td>Portugal</td><td>Czech Republic</td><td>3</td><td>4</td><td>Czech Republic</td><td>Group Stage</td></tr><tr><td>35</td><td>Kazakhstan Vs Portugal</td><td>F</td><td>Kazakhstan</td><td>Portugal</td><td>5</td><td>3</td><td>Kazakhstan</td><td>Group Stage</td></tr><tr><td>34</td><td>Kazakhstan Vs Czech Republic</td><td>F</td><td>Kazakhstan</td><td>Czech Republic</td><td>4</td><td>5</td><td>Czech Republic</td><td>Group Stage</td></tr><tr><td>33</td><td>Turkey Vs Kazakhstan</td><td>F</td><td>Turkey</td><td>Kazakhstan</td><td>5</td><td>4</td><td>Turkey</td><td>Group Stage</td></tr><tr><td>32</td><td>Turkey Vs Portugal</td><td>F</td><td>Turkey</td><td>Portugal</td><td>0</td><td>0</td><td>DRAW</td><td>Group Stage</td></tr><tr><td>31</td><td>Turkey Vs Czech Republic</td><td>F</td><td>Turkey</td><td>Czech Republic</td><td>2</td><td>5</td><td>Czech Republic</td><td>Group Stage</td></tr><tr><td>30</td><td>Romania Vs Poland</td><td>E</td><td>Romania</td><td>Poland</td><td>1</td><td>3</td><td>Poland</td><td>Group Stage</td></tr><tr><td>29</td><td>Slovakia Vs Romania</td><td>E</td><td>Slovakia</td><td>Romania</td><td>3</td><td>2</td><td>Slovakia</td><td>Group Stage</td></tr><tr><td>28</td><td>Slovakia Vs Poland</td><td>E</td><td>Slovakia</td><td>Poland</td><td>3</td><td>2</td><td>Slovakia</td><td>Group Stage</td></tr><tr><td>27</td><td>Belgium Vs Slovakia</td><td>E</td><td>Belgium</td><td>Slovakia</td><td>4</td><td>5</td><td>Slovakia</td><td>Group Stage</td></tr><tr><td>26</td><td>Belgium Vs Romania</td><td>E</td><td>Belgium</td><td>Romania</td><td>4</td><td>0</td><td>Belgium</td><td>Group Stage</td></tr><tr><td>25</td><td>Belgium Vs Poland</td><td>E</td><td>Belgium</td><td>Poland</td><td>3</td><td>1</td><td>Belgium</td><td>Group Stage</td></tr><tr><td>24</td><td>France Vs Wales</td><td>D</td><td>France</td><td>Wales</td><td>2</td><td>5</td><td>Wales</td><td>Group Stage</td></tr><tr><td>23</td><td>Austria Vs France</td><td>D</td><td>Austria</td><td>France</td><td>5</td><td>2</td><td>Austria</td><td>Group Stage</td></tr><tr><td>22</td><td>Austria Vs Wales</td><td>D</td><td>Austria</td><td>Wales</td><td>3</td><td>4</td><td>Wales</td><td>Group Stage</td></tr><tr><td>21</td><td>Netherlands Vs Austria</td><td>D</td><td>Netherlands</td><td>Austria</td><td>4</td><td>5</td><td>Austria</td><td>Group Stage</td></tr><tr><td>20</td><td>Netherlands Vs France</td><td>D</td><td>Netherlands</td><td>France</td><td>5</td><td>0</td><td>Netherlands</td><td>Group Stage</td></tr><tr><td>19</td><td>Netherlands Vs Wales</td><td>D</td><td>Netherlands</td><td>Wales</td><td>3</td><td>4</td><td>Wales</td><td>Group Stage</td></tr><tr><td>18</td><td>Serbia Vs England</td><td>C</td><td>Serbia</td><td>England</td><td>2</td><td>2</td><td>DRAW</td><td>Group Stage</td></tr><tr><td>17</td><td>Denmark Vs Serbia</td><td>C</td><td>Denmark</td><td>Serbia</td><td>0</td><td>4</td><td>Serbia</td><td>Group Stage</td></tr><tr><td>16</td><td>Denmark Vs England</td><td>C</td><td>Denmark</td><td>England</td><td>4</td><td>2</td><td>Denmark</td><td>Group Stage</td></tr><tr><td>15</td><td>Slovenia Vs Denmark</td><td>C</td><td>Slovenia</td><td>Denmark</td><td>4</td><td>4</td><td>DRAW</td><td>Group Stage</td></tr><tr><td>14</td><td>Slovenia Vs Serbia</td><td>C</td><td>Slovenia</td><td>Serbia</td><td>1</td><td>4</td><td>Serbia</td><td>Group Stage</td></tr><tr><td>13</td><td>Slovenia Vs England</td><td>C</td><td>Slovenia</td><td>England</td><td>2</td><td>4</td><td>England</td><td>Group Stage</td></tr><tr><td>12</td><td>Italy Vs Albania</td><td>B</td><td>Italy</td><td>Albania</td><td>4</td><td>3</td><td>Italy</td><td>Group Stage</td></tr><tr><td>11</td><td>Croatia Vs Italy</td><td>B</td><td>Croatia</td><td>Italy</td><td>2</td><td>4</td><td>Italy</td><td>Group Stage</td></tr><tr><td>10</td><td>Croatia Vs Albania</td><td>B</td><td>Croatia</td><td>Albania</td><td>5</td><td>5</td><td>DRAW</td><td>Group Stage</td></tr><tr><td>9</td><td>Spain Vs Croatia</td><td>B</td><td>Spain</td><td>Croatia</td><td>0</td><td>5</td><td>Croatia</td><td>Group Stage</td></tr><tr><td>8</td><td>Spain Vs Italy</td><td>B</td><td>Spain</td><td>Italy</td><td>3</td><td>3</td><td>DRAW</td><td>Group Stage</td></tr><tr><td>7</td><td>Spain Vs Albania</td><td>B</td><td>Spain</td><td>Albania</td><td>4</td><td>2</td><td>Spain</td><td>Group Stage</td></tr><tr><td>6</td><td>Hungary Vs Switzerland</td><td>A</td><td>Hungary</td><td>Switzerland</td><td>2</td><td>1</td><td>Hungary</td><td>Group Stage</td></tr><tr><td>5</td><td>Scotland Vs Hungary</td><td>A</td><td>Scotland</td><td>Hungary</td><td>2</td><td>1</td><td>Scotland</td><td>Group Stage</td></tr><tr><td>4</td><td>Scotland Vs Switzerland</td><td>A</td><td>Scotland</td><td>Switzerland</td><td>3</td><td>4</td><td>Switzerland</td><td>Group Stage</td></tr><tr><td>3</td><td>Germany Vs Scotland</td><td>A</td><td>Germany</td><td>Scotland</td><td>2</td><td>1</td><td>Germany</td><td>Group Stage</td></tr><tr><td>2</td><td>Germany Vs Hungary</td><td>A</td><td>Germany</td><td>Hungary</td><td>5</td><td>1</td><td>Germany</td><td>Group Stage</td></tr><tr><td>1</td><td>Germany Vs Switzerland</td><td>A</td><td>Germany</td><td>Switzerland</td><td>1</td><td>2</td><td>Switzerland</td><td>Group Stage</td></tr></tbody></table></div>"
      ]
     },
     "metadata": {
      "application/vnd.databricks.v1+output": {
       "addedWidgets": {},
       "aggData": [],
       "aggError": "",
       "aggOverflow": false,
       "aggSchema": [],
       "aggSeriesLimitReached": false,
       "aggType": "",
       "arguments": {},
       "columnCustomDisplayInfos": {},
       "data": [
        [
         53,
         "Germany Vs. Spain",
         "N",
         "Germany",
         "Spain",
         5,
         0,
         "Germany",
         "Final"
        ],
        [
         50,
         "Spain Vs. Croatia",
         "N",
         "Spain",
         "Croatia",
         3,
         1,
         "Spain",
         "Semi-Final"
        ],
        [
         49,
         "Germany Vs. Austria",
         "N",
         "Germany",
         "Austria",
         5,
         4,
         "Germany",
         "Semi-Final"
        ],
        [
         48,
         "Serbia VS Croatia",
         "N",
         "Serbia",
         "Croatia",
         0,
         1,
         "Croatia",
         "Quarter-Final"
        ],
        [
         47,
         "Spain VS Austria",
         "N",
         "Spain",
         "Austria",
         5,
         1,
         "Spain",
         "Quarter-Final"
        ],
        [
         46,
         "Czech Republic VS Austria",
         "N",
         "Czech Republic",
         "Austria",
         2,
         5,
         "Austria",
         "Quarter-Final"
        ],
        [
         45,
         "Italy VS Germany",
         "N",
         "Italy",
         "Germany",
         0,
         5,
         "Germany",
         "Quarter-Final"
        ],
        [
         44,
         "Austria VS Turkey",
         "N",
         "Austria",
         "Turkey",
         4,
         0,
         "Austria",
         "R16"
        ],
        [
         43,
         "Wales VS Spain",
         "N",
         "Wales",
         "Spain",
         0,
         5,
         "Spain",
         "R16"
        ],
        [
         42,
         "Austria VS Belgium",
         "N",
         "Austria",
         "Belgium",
         5,
         4,
         "Austria",
         "R16"
        ],
        [
         41,
         "Czech Republic VS Denmark",
         "N",
         "Czech Republic",
         "Denmark",
         2,
         0,
         "Czech Republic",
         "R16"
        ],
        [
         40,
         "Serbia VS Netherlands",
         "N",
         "Serbia",
         "Netherlands",
         5,
         5,
         "Serbia",
         "R16"
        ],
        [
         39,
         "Italy VS Scotland",
         "N",
         "Italy",
         "Scotland",
         3,
         3,
         "Italy",
         "R16"
        ],
        [
         38,
         "Switzerland VS Croatia",
         "N",
         "Switzerland",
         "Croatia",
         0,
         5,
         "Croatia",
         "R16"
        ],
        [
         37,
         "Germany VS England",
         "N",
         "Germany",
         "England",
         4,
         1,
         "Germany",
         "R16"
        ],
        [
         36,
         "Portugal Vs Czech Republic",
         "F",
         "Portugal",
         "Czech Republic",
         3,
         4,
         "Czech Republic",
         "Group Stage"
        ],
        [
         35,
         "Kazakhstan Vs Portugal",
         "F",
         "Kazakhstan",
         "Portugal",
         5,
         3,
         "Kazakhstan",
         "Group Stage"
        ],
        [
         34,
         "Kazakhstan Vs Czech Republic",
         "F",
         "Kazakhstan",
         "Czech Republic",
         4,
         5,
         "Czech Republic",
         "Group Stage"
        ],
        [
         33,
         "Turkey Vs Kazakhstan",
         "F",
         "Turkey",
         "Kazakhstan",
         5,
         4,
         "Turkey",
         "Group Stage"
        ],
        [
         32,
         "Turkey Vs Portugal",
         "F",
         "Turkey",
         "Portugal",
         0,
         0,
         "DRAW",
         "Group Stage"
        ],
        [
         31,
         "Turkey Vs Czech Republic",
         "F",
         "Turkey",
         "Czech Republic",
         2,
         5,
         "Czech Republic",
         "Group Stage"
        ],
        [
         30,
         "Romania Vs Poland",
         "E",
         "Romania",
         "Poland",
         1,
         3,
         "Poland",
         "Group Stage"
        ],
        [
         29,
         "Slovakia Vs Romania",
         "E",
         "Slovakia",
         "Romania",
         3,
         2,
         "Slovakia",
         "Group Stage"
        ],
        [
         28,
         "Slovakia Vs Poland",
         "E",
         "Slovakia",
         "Poland",
         3,
         2,
         "Slovakia",
         "Group Stage"
        ],
        [
         27,
         "Belgium Vs Slovakia",
         "E",
         "Belgium",
         "Slovakia",
         4,
         5,
         "Slovakia",
         "Group Stage"
        ],
        [
         26,
         "Belgium Vs Romania",
         "E",
         "Belgium",
         "Romania",
         4,
         0,
         "Belgium",
         "Group Stage"
        ],
        [
         25,
         "Belgium Vs Poland",
         "E",
         "Belgium",
         "Poland",
         3,
         1,
         "Belgium",
         "Group Stage"
        ],
        [
         24,
         "France Vs Wales",
         "D",
         "France",
         "Wales",
         2,
         5,
         "Wales",
         "Group Stage"
        ],
        [
         23,
         "Austria Vs France",
         "D",
         "Austria",
         "France",
         5,
         2,
         "Austria",
         "Group Stage"
        ],
        [
         22,
         "Austria Vs Wales",
         "D",
         "Austria",
         "Wales",
         3,
         4,
         "Wales",
         "Group Stage"
        ],
        [
         21,
         "Netherlands Vs Austria",
         "D",
         "Netherlands",
         "Austria",
         4,
         5,
         "Austria",
         "Group Stage"
        ],
        [
         20,
         "Netherlands Vs France",
         "D",
         "Netherlands",
         "France",
         5,
         0,
         "Netherlands",
         "Group Stage"
        ],
        [
         19,
         "Netherlands Vs Wales",
         "D",
         "Netherlands",
         "Wales",
         3,
         4,
         "Wales",
         "Group Stage"
        ],
        [
         18,
         "Serbia Vs England",
         "C",
         "Serbia",
         "England",
         2,
         2,
         "DRAW",
         "Group Stage"
        ],
        [
         17,
         "Denmark Vs Serbia",
         "C",
         "Denmark",
         "Serbia",
         0,
         4,
         "Serbia",
         "Group Stage"
        ],
        [
         16,
         "Denmark Vs England",
         "C",
         "Denmark",
         "England",
         4,
         2,
         "Denmark",
         "Group Stage"
        ],
        [
         15,
         "Slovenia Vs Denmark",
         "C",
         "Slovenia",
         "Denmark",
         4,
         4,
         "DRAW",
         "Group Stage"
        ],
        [
         14,
         "Slovenia Vs Serbia",
         "C",
         "Slovenia",
         "Serbia",
         1,
         4,
         "Serbia",
         "Group Stage"
        ],
        [
         13,
         "Slovenia Vs England",
         "C",
         "Slovenia",
         "England",
         2,
         4,
         "England",
         "Group Stage"
        ],
        [
         12,
         "Italy Vs Albania",
         "B",
         "Italy",
         "Albania",
         4,
         3,
         "Italy",
         "Group Stage"
        ],
        [
         11,
         "Croatia Vs Italy",
         "B",
         "Croatia",
         "Italy",
         2,
         4,
         "Italy",
         "Group Stage"
        ],
        [
         10,
         "Croatia Vs Albania",
         "B",
         "Croatia",
         "Albania",
         5,
         5,
         "DRAW",
         "Group Stage"
        ],
        [
         9,
         "Spain Vs Croatia",
         "B",
         "Spain",
         "Croatia",
         0,
         5,
         "Croatia",
         "Group Stage"
        ],
        [
         8,
         "Spain Vs Italy",
         "B",
         "Spain",
         "Italy",
         3,
         3,
         "DRAW",
         "Group Stage"
        ],
        [
         7,
         "Spain Vs Albania",
         "B",
         "Spain",
         "Albania",
         4,
         2,
         "Spain",
         "Group Stage"
        ],
        [
         6,
         "Hungary Vs Switzerland",
         "A",
         "Hungary",
         "Switzerland",
         2,
         1,
         "Hungary",
         "Group Stage"
        ],
        [
         5,
         "Scotland Vs Hungary",
         "A",
         "Scotland",
         "Hungary",
         2,
         1,
         "Scotland",
         "Group Stage"
        ],
        [
         4,
         "Scotland Vs Switzerland",
         "A",
         "Scotland",
         "Switzerland",
         3,
         4,
         "Switzerland",
         "Group Stage"
        ],
        [
         3,
         "Germany Vs Scotland",
         "A",
         "Germany",
         "Scotland",
         2,
         1,
         "Germany",
         "Group Stage"
        ],
        [
         2,
         "Germany Vs Hungary",
         "A",
         "Germany",
         "Hungary",
         5,
         1,
         "Germany",
         "Group Stage"
        ],
        [
         1,
         "Germany Vs Switzerland",
         "A",
         "Germany",
         "Switzerland",
         1,
         2,
         "Switzerland",
         "Group Stage"
        ]
       ],
       "datasetInfos": [],
       "dbfsResultPath": null,
       "isJsonSchema": true,
       "metadata": {},
       "overflow": false,
       "plotOptions": {
        "customPlotOptions": {},
        "displayType": "table",
        "pivotAggregation": null,
        "pivotColumns": null,
        "xColumns": null,
        "yColumns": null
       },
       "removedWidgets": [],
       "schema": [
        {
         "metadata": "{}",
         "name": "match_id",
         "type": "\"integer\""
        },
        {
         "metadata": "{\"__CHAR_VARCHAR_TYPE_STRING\":\"varchar(50)\"}",
         "name": "match_fixtures",
         "type": "\"string\""
        },
        {
         "metadata": "{\"__CHAR_VARCHAR_TYPE_STRING\":\"varchar(1)\"}",
         "name": "group_name",
         "type": "\"string\""
        },
        {
         "metadata": "{\"__CHAR_VARCHAR_TYPE_STRING\":\"varchar(20)\"}",
         "name": "team1",
         "type": "\"string\""
        },
        {
         "metadata": "{\"__CHAR_VARCHAR_TYPE_STRING\":\"varchar(20)\"}",
         "name": "team2",
         "type": "\"string\""
        },
        {
         "metadata": "{}",
         "name": "team1_goals",
         "type": "\"integer\""
        },
        {
         "metadata": "{}",
         "name": "team2_goals",
         "type": "\"integer\""
        },
        {
         "metadata": "{\"__CHAR_VARCHAR_TYPE_STRING\":\"varchar(20)\"}",
         "name": "match_results",
         "type": "\"string\""
        },
        {
         "metadata": "{\"__CHAR_VARCHAR_TYPE_STRING\":\"varchar(20)\"}",
         "name": "match_stage",
         "type": "\"string\""
        }
       ],
       "type": "table"
      }
     },
     "output_type": "display_data"
    }
   ],
   "source": [
    "%sql\n",
    "select * from match_table order by match_id desc;"
   ]
  },
  {
   "cell_type": "markdown",
   "metadata": {
    "application/vnd.databricks.v1+cell": {
     "cellMetadata": {
      "byteLimit": 2048000,
      "rowLimit": 10000
     },
     "inputWidgets": {},
     "nuid": "6e1ba8a6-6290-4a07-9038-0607c522af43",
     "showTitle": false,
     "title": ""
    }
   },
   "source": [
    "Tie-Sheet Visualization"
   ]
  },
  {
   "cell_type": "code",
   "execution_count": 0,
   "metadata": {
    "application/vnd.databricks.v1+cell": {
     "cellMetadata": {
      "byteLimit": 2048000,
      "rowLimit": 10000
     },
     "inputWidgets": {},
     "nuid": "30394b2b-2662-4d94-a676-947c281950e5",
     "showTitle": false,
     "title": ""
    }
   },
   "outputs": [],
   "source": [
    "#import libraries\n",
    "import pandas as pd\n",
    "from pyspark.sql import SparkSession\n",
    "\n",
    "spark = SparkSession.builder.appName(\"Visualization\").getOrCreate()"
   ]
  },
  {
   "cell_type": "code",
   "execution_count": 0,
   "metadata": {
    "application/vnd.databricks.v1+cell": {
     "cellMetadata": {
      "byteLimit": 2048000,
      "rowLimit": 10000
     },
     "inputWidgets": {},
     "nuid": "db58e18d-1e2a-4bd8-84f3-3c7e32a6f1a4",
     "showTitle": false,
     "title": ""
    }
   },
   "outputs": [],
   "source": [
    "# Query from spark sql for different stages\n",
    "all_teams_stats = spark.sql(\"SELECT * from point_table\")\n",
    "round_of_16 = spark.sql(\"\"\"\n",
    "                        SELECT \n",
    "    CASE WHEN match_id IN (39,37,41,42) THEN 'left' ELSE 'right' END AS side,\n",
    "    match_id,\n",
    "    team1, \n",
    "    team2, \n",
    "    team1_goals, \n",
    "    team2_goals \n",
    "FROM \n",
    "    match_table \n",
    "WHERE \n",
    "    match_id IN (39,37,41,42,43,44,40,38) \n",
    "    AND match_stage = 'R16' \n",
    "ORDER BY \n",
    "    CASE \n",
    "        WHEN match_id = 39 THEN 1\n",
    "        WHEN match_id = 37 THEN 2\n",
    "        WHEN match_id = 41 THEN 3\n",
    "        WHEN match_id = 42 THEN 4\n",
    "        WHEN match_id = 43 THEN 5\n",
    "        WHEN match_id = 44 THEN 6\n",
    "        WHEN match_id = 40 THEN 7\n",
    "        WHEN match_id = 38 THEN 8\n",
    "    END;\n",
    "\n",
    "                        \"\"\")\n",
    "quarter_final = spark.sql(\"SELECT team1, team2, team1_goals, team2_goals FROM match_table WHERE match_stage = 'Quarter-Final' ORDER BY match_id\")\n",
    "semi_final = spark.sql(\"SELECT team1, team2, team1_goals, team2_goals FROM match_table WHERE match_stage = 'Semi-Final' ORDER BY match_id DESC\")\n",
    "final = spark.sql(\"SELECT team1, team2, team1_goals, team2_goals FROM match_table WHERE match_stage = 'Final' ORDER BY match_id\")"
   ]
  },
  {
   "cell_type": "code",
   "execution_count": 0,
   "metadata": {
    "application/vnd.databricks.v1+cell": {
     "cellMetadata": {
      "byteLimit": 2048000,
      "rowLimit": 10000
     },
     "inputWidgets": {},
     "nuid": "215bb003-a784-44b4-a88d-8bdb888c7eb6",
     "showTitle": false,
     "title": ""
    }
   },
   "outputs": [
    {
     "output_type": "display_data",
     "data": {
      "text/html": [
       "<style scoped>\n",
       "  .table-result-container {\n",
       "    max-height: 300px;\n",
       "    overflow: auto;\n",
       "  }\n",
       "  table, th, td {\n",
       "    border: 1px solid black;\n",
       "    border-collapse: collapse;\n",
       "  }\n",
       "  th, td {\n",
       "    padding: 5px;\n",
       "  }\n",
       "  th {\n",
       "    text-align: left;\n",
       "  }\n",
       "</style><div class='table-result-container'><table class='table-result'><thead style='background-color: white'><tr><th>Teams</th><th>Group</th><th>Pld</th><th>W</th><th>D</th><th>L</th><th>GF</th><th>GA</th><th>GD</th><th>Pts</th></tr></thead><tbody><tr><td>Germany</td><td>A</td><td>3</td><td>2</td><td>0</td><td>1</td><td>8</td><td>4</td><td>4</td><td>6</td></tr><tr><td>Scotland</td><td>A</td><td>3</td><td>1</td><td>0</td><td>2</td><td>6</td><td>7</td><td>-1</td><td>3</td></tr><tr><td>Hungary</td><td>A</td><td>3</td><td>1</td><td>0</td><td>2</td><td>4</td><td>8</td><td>-4</td><td>3</td></tr><tr><td>Switzerland</td><td>A</td><td>3</td><td>2</td><td>0</td><td>1</td><td>7</td><td>6</td><td>1</td><td>6</td></tr><tr><td></td><td></td><td></td><td></td><td></td><td></td><td></td><td></td><td></td><td></td></tr><tr><td>Italy</td><td>B</td><td>3</td><td>2</td><td>1</td><td>0</td><td>11</td><td>8</td><td>3</td><td>7</td></tr><tr><td>Croatia</td><td>B</td><td>3</td><td>1</td><td>1</td><td>1</td><td>12</td><td>9</td><td>3</td><td>4</td></tr><tr><td>Spain</td><td>B</td><td>3</td><td>1</td><td>1</td><td>1</td><td>7</td><td>10</td><td>-3</td><td>4</td></tr><tr><td>Albania</td><td>B</td><td>3</td><td>0</td><td>1</td><td>2</td><td>10</td><td>13</td><td>-3</td><td>1</td></tr><tr><td></td><td></td><td></td><td></td><td></td><td></td><td></td><td></td><td></td><td></td></tr><tr><td>Serbia</td><td>C</td><td>3</td><td>2</td><td>1</td><td>0</td><td>10</td><td>3</td><td>7</td><td>7</td></tr><tr><td>Denmark</td><td>C</td><td>3</td><td>1</td><td>1</td><td>1</td><td>8</td><td>10</td><td>-2</td><td>4</td></tr><tr><td>Slovenia</td><td>C</td><td>3</td><td>0</td><td>1</td><td>2</td><td>7</td><td>12</td><td>-5</td><td>1</td></tr><tr><td>England</td><td>C</td><td>3</td><td>1</td><td>1</td><td>1</td><td>8</td><td>8</td><td>0</td><td>4</td></tr><tr><td></td><td></td><td></td><td></td><td></td><td></td><td></td><td></td><td></td><td></td></tr><tr><td>France</td><td>D</td><td>3</td><td>0</td><td>0</td><td>3</td><td>4</td><td>15</td><td>-11</td><td>0</td></tr><tr><td>Austria</td><td>D</td><td>3</td><td>2</td><td>0</td><td>1</td><td>13</td><td>10</td><td>3</td><td>6</td></tr><tr><td>Netherlands</td><td>D</td><td>3</td><td>1</td><td>0</td><td>2</td><td>12</td><td>9</td><td>3</td><td>3</td></tr><tr><td>Wales</td><td>D</td><td>3</td><td>3</td><td>0</td><td>0</td><td>13</td><td>8</td><td>5</td><td>9</td></tr><tr><td></td><td></td><td></td><td></td><td></td><td></td><td></td><td></td><td></td><td></td></tr><tr><td>Slovakia</td><td>E</td><td>3</td><td>3</td><td>0</td><td>0</td><td>11</td><td>8</td><td>3</td><td>9</td></tr><tr><td>Belgium</td><td>E</td><td>3</td><td>2</td><td>0</td><td>1</td><td>11</td><td>6</td><td>5</td><td>6</td></tr><tr><td>Romania</td><td>E</td><td>3</td><td>0</td><td>0</td><td>3</td><td>3</td><td>10</td><td>-7</td><td>0</td></tr><tr><td>Poland</td><td>E</td><td>3</td><td>1</td><td>0</td><td>2</td><td>6</td><td>7</td><td>-1</td><td>3</td></tr><tr><td></td><td></td><td></td><td></td><td></td><td></td><td></td><td></td><td></td><td></td></tr><tr><td>Portugal</td><td>F</td><td>3</td><td>0</td><td>1</td><td>2</td><td>6</td><td>9</td><td>-3</td><td>1</td></tr><tr><td>Turkey</td><td>F</td><td>3</td><td>1</td><td>1</td><td>1</td><td>7</td><td>9</td><td>-2</td><td>4</td></tr><tr><td>Kazakhstan</td><td>F</td><td>3</td><td>1</td><td>0</td><td>2</td><td>13</td><td>13</td><td>0</td><td>3</td></tr><tr><td>Czech Republic</td><td>F</td><td>3</td><td>3</td><td>0</td><td>0</td><td>14</td><td>9</td><td>5</td><td>9</td></tr></tbody></table></div>"
      ]
     },
     "metadata": {
      "application/vnd.databricks.v1+output": {
       "addedWidgets": {},
       "aggData": [],
       "aggError": "",
       "aggOverflow": false,
       "aggSchema": [],
       "aggSeriesLimitReached": false,
       "aggType": "",
       "arguments": {},
       "columnCustomDisplayInfos": {},
       "data": [
        [
         "Germany",
         "A",
         "3",
         "2",
         "0",
         "1",
         "8",
         "4",
         "4",
         "6"
        ],
        [
         "Scotland",
         "A",
         "3",
         "1",
         "0",
         "2",
         "6",
         "7",
         "-1",
         "3"
        ],
        [
         "Hungary",
         "A",
         "3",
         "1",
         "0",
         "2",
         "4",
         "8",
         "-4",
         "3"
        ],
        [
         "Switzerland",
         "A",
         "3",
         "2",
         "0",
         "1",
         "7",
         "6",
         "1",
         "6"
        ],
        [
         "",
         "",
         "",
         "",
         "",
         "",
         "",
         "",
         "",
         ""
        ],
        [
         "Italy",
         "B",
         "3",
         "2",
         "1",
         "0",
         "11",
         "8",
         "3",
         "7"
        ],
        [
         "Croatia",
         "B",
         "3",
         "1",
         "1",
         "1",
         "12",
         "9",
         "3",
         "4"
        ],
        [
         "Spain",
         "B",
         "3",
         "1",
         "1",
         "1",
         "7",
         "10",
         "-3",
         "4"
        ],
        [
         "Albania",
         "B",
         "3",
         "0",
         "1",
         "2",
         "10",
         "13",
         "-3",
         "1"
        ],
        [
         "",
         "",
         "",
         "",
         "",
         "",
         "",
         "",
         "",
         ""
        ],
        [
         "Serbia",
         "C",
         "3",
         "2",
         "1",
         "0",
         "10",
         "3",
         "7",
         "7"
        ],
        [
         "Denmark",
         "C",
         "3",
         "1",
         "1",
         "1",
         "8",
         "10",
         "-2",
         "4"
        ],
        [
         "Slovenia",
         "C",
         "3",
         "0",
         "1",
         "2",
         "7",
         "12",
         "-5",
         "1"
        ],
        [
         "England",
         "C",
         "3",
         "1",
         "1",
         "1",
         "8",
         "8",
         "0",
         "4"
        ],
        [
         "",
         "",
         "",
         "",
         "",
         "",
         "",
         "",
         "",
         ""
        ],
        [
         "France",
         "D",
         "3",
         "0",
         "0",
         "3",
         "4",
         "15",
         "-11",
         "0"
        ],
        [
         "Austria",
         "D",
         "3",
         "2",
         "0",
         "1",
         "13",
         "10",
         "3",
         "6"
        ],
        [
         "Netherlands",
         "D",
         "3",
         "1",
         "0",
         "2",
         "12",
         "9",
         "3",
         "3"
        ],
        [
         "Wales",
         "D",
         "3",
         "3",
         "0",
         "0",
         "13",
         "8",
         "5",
         "9"
        ],
        [
         "",
         "",
         "",
         "",
         "",
         "",
         "",
         "",
         "",
         ""
        ],
        [
         "Slovakia",
         "E",
         "3",
         "3",
         "0",
         "0",
         "11",
         "8",
         "3",
         "9"
        ],
        [
         "Belgium",
         "E",
         "3",
         "2",
         "0",
         "1",
         "11",
         "6",
         "5",
         "6"
        ],
        [
         "Romania",
         "E",
         "3",
         "0",
         "0",
         "3",
         "3",
         "10",
         "-7",
         "0"
        ],
        [
         "Poland",
         "E",
         "3",
         "1",
         "0",
         "2",
         "6",
         "7",
         "-1",
         "3"
        ],
        [
         "",
         "",
         "",
         "",
         "",
         "",
         "",
         "",
         "",
         ""
        ],
        [
         "Portugal",
         "F",
         "3",
         "0",
         "1",
         "2",
         "6",
         "9",
         "-3",
         "1"
        ],
        [
         "Turkey",
         "F",
         "3",
         "1",
         "1",
         "1",
         "7",
         "9",
         "-2",
         "4"
        ],
        [
         "Kazakhstan",
         "F",
         "3",
         "1",
         "0",
         "2",
         "13",
         "13",
         "0",
         "3"
        ],
        [
         "Czech Republic",
         "F",
         "3",
         "3",
         "0",
         "0",
         "14",
         "9",
         "5",
         "9"
        ]
       ],
       "datasetInfos": [],
       "dbfsResultPath": null,
       "isJsonSchema": true,
       "metadata": {},
       "overflow": false,
       "plotOptions": {
        "customPlotOptions": {},
        "displayType": "table",
        "pivotAggregation": null,
        "pivotColumns": null,
        "xColumns": null,
        "yColumns": null
       },
       "removedWidgets": [],
       "schema": [
        {
         "metadata": "{}",
         "name": "Teams",
         "type": "\"string\""
        },
        {
         "metadata": "{}",
         "name": "Group",
         "type": "\"string\""
        },
        {
         "metadata": "{}",
         "name": "Pld",
         "type": "\"string\""
        },
        {
         "metadata": "{}",
         "name": "W",
         "type": "\"string\""
        },
        {
         "metadata": "{}",
         "name": "D",
         "type": "\"string\""
        },
        {
         "metadata": "{}",
         "name": "L",
         "type": "\"string\""
        },
        {
         "metadata": "{}",
         "name": "GF",
         "type": "\"string\""
        },
        {
         "metadata": "{}",
         "name": "GA",
         "type": "\"string\""
        },
        {
         "metadata": "{}",
         "name": "GD",
         "type": "\"string\""
        },
        {
         "metadata": "{}",
         "name": "Pts",
         "type": "\"string\""
        }
       ],
       "type": "table"
      }
     },
     "output_type": "display_data"
    },
    {
     "output_type": "stream",
     "name": "stdout",
     "output_type": "stream",
     "text": [
      "14\n"
     ]
    }
   ],
   "source": [
    "all_teams_stats_df = all_teams_stats.toPandas()\n",
    "round_of_16_df = round_of_16.toPandas()\n",
    "quarter_final_df = quarter_final.toPandas()\n",
    "semi_final_df = semi_final.toPandas()\n",
    "final_df = final.toPandas()\n",
    "\n",
    "# Create table visualization DataFrame\n",
    "table_visualization = pd.DataFrame({\n",
    "    'Teams': all_teams_stats_df['team_id'],\n",
    "    'Group': all_teams_stats_df['group_name'],\n",
    "    'Pld': all_teams_stats_df['matches_played'],\n",
    "    'W': all_teams_stats_df['wins'],\n",
    "    'D': all_teams_stats_df['draw'],\n",
    "    'L': all_teams_stats_df['lose'],\n",
    "    'GF': all_teams_stats_df['goals_scored'],\n",
    "    'GA': all_teams_stats_df['goals_conceded'],\n",
    "    'GD': all_teams_stats_df['goal_diff'],\n",
    "    'Pts':all_teams_stats_df['points']\n",
    "})\n",
    "\n",
    "# Create blank row as a dictionary to add one blank row for each group\n",
    "blank_row = {\n",
    "    'Teams': '', \n",
    "    'Group': '', \n",
    "    'Pld': '', \n",
    "    'W': '',\n",
    "    'D': '',\n",
    "    'L': '',\n",
    "    'GF': '',\n",
    "    'GA': '',\n",
    "    'GD': '',\n",
    "    'Pts': ''\n",
    "}\n",
    "\n",
    "groups = []\n",
    "for i in range(0, len(table_visualization), 4):\n",
    "    group = table_visualization.iloc[i:i+4]  \n",
    "    groups.append(group) \n",
    "    if i < len(table_visualization) - 4:\n",
    "        groups.append(pd.DataFrame([blank_row])) \n",
    "\n",
    "visualization_with_space = pd.concat(groups).reset_index(drop=True)\n",
    "half_table_index = len(visualization_with_space) // 2\n",
    "spark.conf.set(\"spark.sql.execution.arrow.pyspark.enabled\", \"false\")\n",
    "display(visualization_with_space)\n",
    "print(half_table_index)"
   ]
  },
  {
   "cell_type": "code",
   "execution_count": 0,
   "metadata": {
    "application/vnd.databricks.v1+cell": {
     "cellMetadata": {
      "byteLimit": 2048000,
      "rowLimit": 10000
     },
     "inputWidgets": {},
     "nuid": "5eb6c1a3-faa9-4b10-af52-3731156f75b3",
     "showTitle": false,
     "title": ""
    }
   },
   "outputs": [
    {
     "output_type": "display_data",
     "data": {
      "text/html": [
       "<style scoped>\n",
       "  .table-result-container {\n",
       "    max-height: 300px;\n",
       "    overflow: auto;\n",
       "  }\n",
       "  table, th, td {\n",
       "    border: 1px solid black;\n",
       "    border-collapse: collapse;\n",
       "  }\n",
       "  th, td {\n",
       "    padding: 5px;\n",
       "  }\n",
       "  th {\n",
       "    text-align: left;\n",
       "  }\n",
       "</style><div class='table-result-container'><table class='table-result'><thead style='background-color: white'><tr><th>Teams</th><th>Group</th><th>Pld</th><th>W</th><th>D</th><th>L</th><th>GF</th><th>GA</th><th>GD</th><th>Pts</th></tr></thead><tbody><tr><td></td><td></td><td></td><td></td><td></td><td></td><td></td><td></td><td></td><td></td></tr><tr><td>Germany</td><td>A</td><td>3</td><td>2</td><td>0</td><td>1</td><td>8</td><td>4</td><td>4</td><td>6</td></tr><tr><td>Scotland</td><td>A</td><td>3</td><td>1</td><td>0</td><td>2</td><td>6</td><td>7</td><td>-1</td><td>3</td></tr><tr><td>Hungary</td><td>A</td><td>3</td><td>1</td><td>0</td><td>2</td><td>4</td><td>8</td><td>-4</td><td>3</td></tr><tr><td>Switzerland</td><td>A</td><td>3</td><td>2</td><td>0</td><td>1</td><td>7</td><td>6</td><td>1</td><td>6</td></tr><tr><td></td><td></td><td></td><td></td><td></td><td></td><td></td><td></td><td></td><td></td></tr><tr><td>Italy</td><td>B</td><td>3</td><td>2</td><td>1</td><td>0</td><td>11</td><td>8</td><td>3</td><td>7</td></tr><tr><td>Croatia</td><td>B</td><td>3</td><td>1</td><td>1</td><td>1</td><td>12</td><td>9</td><td>3</td><td>4</td></tr><tr><td>Spain</td><td>B</td><td>3</td><td>1</td><td>1</td><td>1</td><td>7</td><td>10</td><td>-3</td><td>4</td></tr><tr><td>Albania</td><td>B</td><td>3</td><td>0</td><td>1</td><td>2</td><td>10</td><td>13</td><td>-3</td><td>1</td></tr><tr><td></td><td></td><td></td><td></td><td></td><td></td><td></td><td></td><td></td><td></td></tr><tr><td>Serbia</td><td>C</td><td>3</td><td>2</td><td>1</td><td>0</td><td>10</td><td>3</td><td>7</td><td>7</td></tr><tr><td>Denmark</td><td>C</td><td>3</td><td>1</td><td>1</td><td>1</td><td>8</td><td>10</td><td>-2</td><td>4</td></tr><tr><td>Slovenia</td><td>C</td><td>3</td><td>0</td><td>1</td><td>2</td><td>7</td><td>12</td><td>-5</td><td>1</td></tr><tr><td>England</td><td>C</td><td>3</td><td>1</td><td>1</td><td>1</td><td>8</td><td>8</td><td>0</td><td>4</td></tr></tbody></table></div>"
      ]
     },
     "metadata": {
      "application/vnd.databricks.v1+output": {
       "addedWidgets": {},
       "aggData": [],
       "aggError": "",
       "aggOverflow": false,
       "aggSchema": [],
       "aggSeriesLimitReached": false,
       "aggType": "",
       "arguments": {},
       "columnCustomDisplayInfos": {},
       "data": [
        [
         "",
         "",
         "",
         "",
         "",
         "",
         "",
         "",
         "",
         ""
        ],
        [
         "Germany",
         "A",
         "3",
         "2",
         "0",
         "1",
         "8",
         "4",
         "4",
         "6"
        ],
        [
         "Scotland",
         "A",
         "3",
         "1",
         "0",
         "2",
         "6",
         "7",
         "-1",
         "3"
        ],
        [
         "Hungary",
         "A",
         "3",
         "1",
         "0",
         "2",
         "4",
         "8",
         "-4",
         "3"
        ],
        [
         "Switzerland",
         "A",
         "3",
         "2",
         "0",
         "1",
         "7",
         "6",
         "1",
         "6"
        ],
        [
         "",
         "",
         "",
         "",
         "",
         "",
         "",
         "",
         "",
         ""
        ],
        [
         "Italy",
         "B",
         "3",
         "2",
         "1",
         "0",
         "11",
         "8",
         "3",
         "7"
        ],
        [
         "Croatia",
         "B",
         "3",
         "1",
         "1",
         "1",
         "12",
         "9",
         "3",
         "4"
        ],
        [
         "Spain",
         "B",
         "3",
         "1",
         "1",
         "1",
         "7",
         "10",
         "-3",
         "4"
        ],
        [
         "Albania",
         "B",
         "3",
         "0",
         "1",
         "2",
         "10",
         "13",
         "-3",
         "1"
        ],
        [
         "",
         "",
         "",
         "",
         "",
         "",
         "",
         "",
         "",
         ""
        ],
        [
         "Serbia",
         "C",
         "3",
         "2",
         "1",
         "0",
         "10",
         "3",
         "7",
         "7"
        ],
        [
         "Denmark",
         "C",
         "3",
         "1",
         "1",
         "1",
         "8",
         "10",
         "-2",
         "4"
        ],
        [
         "Slovenia",
         "C",
         "3",
         "0",
         "1",
         "2",
         "7",
         "12",
         "-5",
         "1"
        ],
        [
         "England",
         "C",
         "3",
         "1",
         "1",
         "1",
         "8",
         "8",
         "0",
         "4"
        ]
       ],
       "datasetInfos": [],
       "dbfsResultPath": null,
       "isJsonSchema": true,
       "metadata": {},
       "overflow": false,
       "plotOptions": {
        "customPlotOptions": {},
        "displayType": "table",
        "pivotAggregation": null,
        "pivotColumns": null,
        "xColumns": null,
        "yColumns": null
       },
       "removedWidgets": [],
       "schema": [
        {
         "metadata": "{}",
         "name": "Teams",
         "type": "\"string\""
        },
        {
         "metadata": "{}",
         "name": "Group",
         "type": "\"string\""
        },
        {
         "metadata": "{}",
         "name": "Pld",
         "type": "\"string\""
        },
        {
         "metadata": "{}",
         "name": "W",
         "type": "\"string\""
        },
        {
         "metadata": "{}",
         "name": "D",
         "type": "\"string\""
        },
        {
         "metadata": "{}",
         "name": "L",
         "type": "\"string\""
        },
        {
         "metadata": "{}",
         "name": "GF",
         "type": "\"string\""
        },
        {
         "metadata": "{}",
         "name": "GA",
         "type": "\"string\""
        },
        {
         "metadata": "{}",
         "name": "GD",
         "type": "\"string\""
        },
        {
         "metadata": "{}",
         "name": "Pts",
         "type": "\"string\""
        }
       ],
       "type": "table"
      }
     },
     "output_type": "display_data"
    },
    {
     "output_type": "display_data",
     "data": {
      "text/html": [
       "<style scoped>\n",
       "  .table-result-container {\n",
       "    max-height: 300px;\n",
       "    overflow: auto;\n",
       "  }\n",
       "  table, th, td {\n",
       "    border: 1px solid black;\n",
       "    border-collapse: collapse;\n",
       "  }\n",
       "  th, td {\n",
       "    padding: 5px;\n",
       "  }\n",
       "  th {\n",
       "    text-align: left;\n",
       "  }\n",
       "</style><div class='table-result-container'><table class='table-result'><thead style='background-color: white'><tr><th>Teams</th><th>Group</th><th>Pld</th><th>W</th><th>D</th><th>L</th><th>GF</th><th>GA</th><th>GD</th><th>Pts</th></tr></thead><tbody><tr><td></td><td></td><td></td><td></td><td></td><td></td><td></td><td></td><td></td><td></td></tr><tr><td>France</td><td>D</td><td>3</td><td>0</td><td>0</td><td>3</td><td>4</td><td>15</td><td>-11</td><td>0</td></tr><tr><td>Austria</td><td>D</td><td>3</td><td>2</td><td>0</td><td>1</td><td>13</td><td>10</td><td>3</td><td>6</td></tr><tr><td>Netherlands</td><td>D</td><td>3</td><td>1</td><td>0</td><td>2</td><td>12</td><td>9</td><td>3</td><td>3</td></tr><tr><td>Wales</td><td>D</td><td>3</td><td>3</td><td>0</td><td>0</td><td>13</td><td>8</td><td>5</td><td>9</td></tr><tr><td></td><td></td><td></td><td></td><td></td><td></td><td></td><td></td><td></td><td></td></tr><tr><td>Slovakia</td><td>E</td><td>3</td><td>3</td><td>0</td><td>0</td><td>11</td><td>8</td><td>3</td><td>9</td></tr><tr><td>Belgium</td><td>E</td><td>3</td><td>2</td><td>0</td><td>1</td><td>11</td><td>6</td><td>5</td><td>6</td></tr><tr><td>Romania</td><td>E</td><td>3</td><td>0</td><td>0</td><td>3</td><td>3</td><td>10</td><td>-7</td><td>0</td></tr><tr><td>Poland</td><td>E</td><td>3</td><td>1</td><td>0</td><td>2</td><td>6</td><td>7</td><td>-1</td><td>3</td></tr><tr><td></td><td></td><td></td><td></td><td></td><td></td><td></td><td></td><td></td><td></td></tr><tr><td>Portugal</td><td>F</td><td>3</td><td>0</td><td>1</td><td>2</td><td>6</td><td>9</td><td>-3</td><td>1</td></tr><tr><td>Turkey</td><td>F</td><td>3</td><td>1</td><td>1</td><td>1</td><td>7</td><td>9</td><td>-2</td><td>4</td></tr><tr><td>Kazakhstan</td><td>F</td><td>3</td><td>1</td><td>0</td><td>2</td><td>13</td><td>13</td><td>0</td><td>3</td></tr><tr><td>Czech Republic</td><td>F</td><td>3</td><td>3</td><td>0</td><td>0</td><td>14</td><td>9</td><td>5</td><td>9</td></tr></tbody></table></div>"
      ]
     },
     "metadata": {
      "application/vnd.databricks.v1+output": {
       "addedWidgets": {},
       "aggData": [],
       "aggError": "",
       "aggOverflow": false,
       "aggSchema": [],
       "aggSeriesLimitReached": false,
       "aggType": "",
       "arguments": {},
       "columnCustomDisplayInfos": {},
       "data": [
        [
         "",
         "",
         "",
         "",
         "",
         "",
         "",
         "",
         "",
         ""
        ],
        [
         "France",
         "D",
         "3",
         "0",
         "0",
         "3",
         "4",
         "15",
         "-11",
         "0"
        ],
        [
         "Austria",
         "D",
         "3",
         "2",
         "0",
         "1",
         "13",
         "10",
         "3",
         "6"
        ],
        [
         "Netherlands",
         "D",
         "3",
         "1",
         "0",
         "2",
         "12",
         "9",
         "3",
         "3"
        ],
        [
         "Wales",
         "D",
         "3",
         "3",
         "0",
         "0",
         "13",
         "8",
         "5",
         "9"
        ],
        [
         "",
         "",
         "",
         "",
         "",
         "",
         "",
         "",
         "",
         ""
        ],
        [
         "Slovakia",
         "E",
         "3",
         "3",
         "0",
         "0",
         "11",
         "8",
         "3",
         "9"
        ],
        [
         "Belgium",
         "E",
         "3",
         "2",
         "0",
         "1",
         "11",
         "6",
         "5",
         "6"
        ],
        [
         "Romania",
         "E",
         "3",
         "0",
         "0",
         "3",
         "3",
         "10",
         "-7",
         "0"
        ],
        [
         "Poland",
         "E",
         "3",
         "1",
         "0",
         "2",
         "6",
         "7",
         "-1",
         "3"
        ],
        [
         "",
         "",
         "",
         "",
         "",
         "",
         "",
         "",
         "",
         ""
        ],
        [
         "Portugal",
         "F",
         "3",
         "0",
         "1",
         "2",
         "6",
         "9",
         "-3",
         "1"
        ],
        [
         "Turkey",
         "F",
         "3",
         "1",
         "1",
         "1",
         "7",
         "9",
         "-2",
         "4"
        ],
        [
         "Kazakhstan",
         "F",
         "3",
         "1",
         "0",
         "2",
         "13",
         "13",
         "0",
         "3"
        ],
        [
         "Czech Republic",
         "F",
         "3",
         "3",
         "0",
         "0",
         "14",
         "9",
         "5",
         "9"
        ]
       ],
       "datasetInfos": [],
       "dbfsResultPath": null,
       "isJsonSchema": true,
       "metadata": {},
       "overflow": false,
       "plotOptions": {
        "customPlotOptions": {},
        "displayType": "table",
        "pivotAggregation": null,
        "pivotColumns": null,
        "xColumns": null,
        "yColumns": null
       },
       "removedWidgets": [],
       "schema": [
        {
         "metadata": "{}",
         "name": "Teams",
         "type": "\"string\""
        },
        {
         "metadata": "{}",
         "name": "Group",
         "type": "\"string\""
        },
        {
         "metadata": "{}",
         "name": "Pld",
         "type": "\"string\""
        },
        {
         "metadata": "{}",
         "name": "W",
         "type": "\"string\""
        },
        {
         "metadata": "{}",
         "name": "D",
         "type": "\"string\""
        },
        {
         "metadata": "{}",
         "name": "L",
         "type": "\"string\""
        },
        {
         "metadata": "{}",
         "name": "GF",
         "type": "\"string\""
        },
        {
         "metadata": "{}",
         "name": "GA",
         "type": "\"string\""
        },
        {
         "metadata": "{}",
         "name": "GD",
         "type": "\"string\""
        },
        {
         "metadata": "{}",
         "name": "Pts",
         "type": "\"string\""
        }
       ],
       "type": "table"
      }
     },
     "output_type": "display_data"
    }
   ],
   "source": [
    "#Table information for the Group A,B,C\n",
    "left_table = pd.DataFrame(columns=['Teams','Group','Pld','W','D','L','GF','GA','GD','Pts'])\n",
    "left_table = pd.concat([left_table, pd.DataFrame([blank_row])], ignore_index=True)\n",
    "left_table = pd.concat([left_table, visualization_with_space.iloc[:half_table_index]]).reset_index(drop=True)\n",
    "\n",
    "#Table information for the group C,D,E\n",
    "right_table = pd.DataFrame(columns=['Teams','Group','Pld','W','D','L','GF','GA','GD','Pts'])\n",
    "right_table = pd.concat([right_table, visualization_with_space.iloc[half_table_index +1:]]).reset_index(drop=True)\n",
    "right_table = pd.concat([pd.DataFrame([blank_row]), right_table], ignore_index=True)\n",
    "\n",
    "display(left_table)\n",
    "display(right_table)"
   ]
  },
  {
   "cell_type": "code",
   "execution_count": 0,
   "metadata": {
    "application/vnd.databricks.v1+cell": {
     "cellMetadata": {
      "byteLimit": 2048000,
      "rowLimit": 10000
     },
     "inputWidgets": {},
     "nuid": "67dc2206-1d24-449e-86f0-9faaa66ad558",
     "showTitle": false,
     "title": ""
    }
   },
   "outputs": [
    {
     "output_type": "stream",
     "name": "stdout",
     "output_type": "stream",
     "text": [
      "17\n"
     ]
    },
    {
     "output_type": "display_data",
     "data": {
      "text/html": [
       "<style scoped>\n",
       "  .table-result-container {\n",
       "    max-height: 300px;\n",
       "    overflow: auto;\n",
       "  }\n",
       "  table, th, td {\n",
       "    border: 1px solid black;\n",
       "    border-collapse: collapse;\n",
       "  }\n",
       "  th, td {\n",
       "    padding: 5px;\n",
       "  }\n",
       "  th {\n",
       "    text-align: left;\n",
       "  }\n",
       "</style><div class='table-result-container'><table class='table-result'><thead style='background-color: white'><tr><th>Round_of_16</th><th>rest</th></tr></thead><tbody><tr><td></td><td></td></tr><tr><td></td><td></td></tr><tr><td>Italy (3)</td><td></td></tr><tr><td>Scotland (3)</td><td></td></tr><tr><td></td><td></td></tr><tr><td></td><td></td></tr><tr><td>Germany (4)</td><td></td></tr><tr><td>England (1)</td><td></td></tr><tr><td></td><td></td></tr><tr><td></td><td></td></tr><tr><td>Czech Republic (2)</td><td></td></tr><tr><td>Denmark (0)</td><td></td></tr><tr><td></td><td></td></tr><tr><td></td><td></td></tr><tr><td>Austria (5)</td><td></td></tr><tr><td>Belgium (4)</td><td></td></tr><tr><td></td><td></td></tr><tr><td></td><td></td></tr><tr><td>Wales (0)</td><td></td></tr><tr><td>Spain (5)</td><td></td></tr><tr><td></td><td></td></tr><tr><td></td><td></td></tr><tr><td>Austria (4)</td><td></td></tr><tr><td>Turkey (0)</td><td></td></tr><tr><td></td><td></td></tr><tr><td></td><td></td></tr><tr><td>Serbia (5)</td><td></td></tr><tr><td>Netherlands (5)</td><td></td></tr><tr><td></td><td></td></tr><tr><td></td><td></td></tr><tr><td>Switzerland (0)</td><td></td></tr><tr><td>Croatia (5)</td><td></td></tr><tr><td></td><td></td></tr><tr><td></td><td></td></tr></tbody></table></div>"
      ]
     },
     "metadata": {
      "application/vnd.databricks.v1+output": {
       "addedWidgets": {},
       "aggData": [],
       "aggError": "",
       "aggOverflow": false,
       "aggSchema": [],
       "aggSeriesLimitReached": false,
       "aggType": "",
       "arguments": {},
       "columnCustomDisplayInfos": {},
       "data": [
        [
         "",
         ""
        ],
        [
         "",
         ""
        ],
        [
         "Italy (3)",
         ""
        ],
        [
         "Scotland (3)",
         ""
        ],
        [
         "",
         ""
        ],
        [
         "",
         ""
        ],
        [
         "Germany (4)",
         ""
        ],
        [
         "England (1)",
         ""
        ],
        [
         "",
         ""
        ],
        [
         "",
         ""
        ],
        [
         "Czech Republic (2)",
         ""
        ],
        [
         "Denmark (0)",
         ""
        ],
        [
         "",
         ""
        ],
        [
         "",
         ""
        ],
        [
         "Austria (5)",
         ""
        ],
        [
         "Belgium (4)",
         ""
        ],
        [
         "",
         ""
        ],
        [
         "",
         ""
        ],
        [
         "Wales (0)",
         ""
        ],
        [
         "Spain (5)",
         ""
        ],
        [
         "",
         ""
        ],
        [
         "",
         ""
        ],
        [
         "Austria (4)",
         ""
        ],
        [
         "Turkey (0)",
         ""
        ],
        [
         "",
         ""
        ],
        [
         "",
         ""
        ],
        [
         "Serbia (5)",
         ""
        ],
        [
         "Netherlands (5)",
         ""
        ],
        [
         "",
         ""
        ],
        [
         "",
         ""
        ],
        [
         "Switzerland (0)",
         ""
        ],
        [
         "Croatia (5)",
         ""
        ],
        [
         "",
         ""
        ],
        [
         "",
         ""
        ]
       ],
       "datasetInfos": [],
       "dbfsResultPath": null,
       "isJsonSchema": true,
       "metadata": {},
       "overflow": false,
       "plotOptions": {
        "customPlotOptions": {},
        "displayType": "table",
        "pivotAggregation": null,
        "pivotColumns": null,
        "xColumns": null,
        "yColumns": null
       },
       "removedWidgets": [],
       "schema": [
        {
         "metadata": "{}",
         "name": "Round_of_16",
         "type": "\"string\""
        },
        {
         "metadata": "{}",
         "name": "rest",
         "type": "\"string\""
        }
       ],
       "type": "table"
      }
     },
     "output_type": "display_data"
    }
   ],
   "source": [
    "# Create  DataFrame for round of sixteen\n",
    "visualize_r16 = pd.DataFrame(columns=['Round_of_16', 'rest'])\n",
    "\n",
    "for _ in range(2):\n",
    "    visualize_r16 = pd.concat([visualize_r16, pd.DataFrame({'Round_of_16': ['']})], ignore_index=True)\n",
    "\n",
    "for index, row in round_of_16_df.iterrows():\n",
    "    visualize_r16 = pd.concat([visualize_r16, pd.DataFrame({'Round_of_16': [f\"{row['team1']} ({row['team1_goals']})\"]})], ignore_index=True)\n",
    "    visualize_r16 = pd.concat([visualize_r16, pd.DataFrame({'Round_of_16': [f\"{row['team2']} ({row['team2_goals']})\"]})], ignore_index=True)\n",
    "\n",
    "    for _ in range(2):\n",
    "        visualize_r16 = pd.concat([visualize_r16, pd.DataFrame({'Round_of_16': ['']})], ignore_index=True)\n",
    "\n",
    "visualize_r16['rest'] = ''\n",
    "\n",
    "splited_r16_index = len(visualize_r16) // 2\n",
    "print(splited_r16_index)\n",
    "display(visualize_r16)"
   ]
  },
  {
   "cell_type": "code",
   "execution_count": 0,
   "metadata": {
    "application/vnd.databricks.v1+cell": {
     "cellMetadata": {
      "byteLimit": 2048000,
      "rowLimit": 10000
     },
     "inputWidgets": {},
     "nuid": "f854d4cf-948d-4661-9db7-5c104215ae23",
     "showTitle": false,
     "title": ""
    }
   },
   "outputs": [
    {
     "output_type": "display_data",
     "data": {
      "text/html": [
       "<style scoped>\n",
       "  .table-result-container {\n",
       "    max-height: 300px;\n",
       "    overflow: auto;\n",
       "  }\n",
       "  table, th, td {\n",
       "    border: 1px solid black;\n",
       "    border-collapse: collapse;\n",
       "  }\n",
       "  th, td {\n",
       "    padding: 5px;\n",
       "  }\n",
       "  th {\n",
       "    text-align: left;\n",
       "  }\n",
       "</style><div class='table-result-container'><table class='table-result'><thead style='background-color: white'><tr><th>Round_of_16</th><th>rest</th></tr></thead><tbody><tr><td></td><td></td></tr><tr><td></td><td></td></tr><tr><td>Italy (3)</td><td></td></tr><tr><td>Scotland (3)</td><td></td></tr><tr><td></td><td></td></tr><tr><td></td><td></td></tr><tr><td>Germany (4)</td><td></td></tr><tr><td>England (1)</td><td></td></tr><tr><td></td><td></td></tr><tr><td></td><td></td></tr><tr><td>Czech Republic (2)</td><td></td></tr><tr><td>Denmark (0)</td><td></td></tr><tr><td></td><td></td></tr><tr><td></td><td></td></tr><tr><td>Austria (5)</td><td></td></tr><tr><td>Belgium (4)</td><td></td></tr><tr><td></td><td></td></tr><tr><td></td><td></td></tr></tbody></table></div>"
      ]
     },
     "metadata": {
      "application/vnd.databricks.v1+output": {
       "addedWidgets": {},
       "aggData": [],
       "aggError": "",
       "aggOverflow": false,
       "aggSchema": [],
       "aggSeriesLimitReached": false,
       "aggType": "",
       "arguments": {},
       "columnCustomDisplayInfos": {},
       "data": [
        [
         "",
         ""
        ],
        [
         "",
         ""
        ],
        [
         "Italy (3)",
         ""
        ],
        [
         "Scotland (3)",
         ""
        ],
        [
         "",
         ""
        ],
        [
         "",
         ""
        ],
        [
         "Germany (4)",
         ""
        ],
        [
         "England (1)",
         ""
        ],
        [
         "",
         ""
        ],
        [
         "",
         ""
        ],
        [
         "Czech Republic (2)",
         ""
        ],
        [
         "Denmark (0)",
         ""
        ],
        [
         "",
         ""
        ],
        [
         "",
         ""
        ],
        [
         "Austria (5)",
         ""
        ],
        [
         "Belgium (4)",
         ""
        ],
        [
         "",
         ""
        ],
        [
         "",
         ""
        ]
       ],
       "datasetInfos": [],
       "dbfsResultPath": null,
       "isJsonSchema": true,
       "metadata": {},
       "overflow": false,
       "plotOptions": {
        "customPlotOptions": {},
        "displayType": "table",
        "pivotAggregation": null,
        "pivotColumns": null,
        "xColumns": null,
        "yColumns": null
       },
       "removedWidgets": [],
       "schema": [
        {
         "metadata": "{}",
         "name": "Round_of_16",
         "type": "\"string\""
        },
        {
         "metadata": "{}",
         "name": "rest",
         "type": "\"string\""
        }
       ],
       "type": "table"
      }
     },
     "output_type": "display_data"
    },
    {
     "output_type": "display_data",
     "data": {
      "text/html": [
       "<style scoped>\n",
       "  .table-result-container {\n",
       "    max-height: 300px;\n",
       "    overflow: auto;\n",
       "  }\n",
       "  table, th, td {\n",
       "    border: 1px solid black;\n",
       "    border-collapse: collapse;\n",
       "  }\n",
       "  th, td {\n",
       "    padding: 5px;\n",
       "  }\n",
       "  th {\n",
       "    text-align: left;\n",
       "  }\n",
       "</style><div class='table-result-container'><table class='table-result'><thead style='background-color: white'><tr><th>Round_of_16</th><th>rest</th></tr></thead><tbody><tr><td></td><td></td></tr><tr><td></td><td></td></tr><tr><td>Wales (0)</td><td></td></tr><tr><td>Spain (5)</td><td></td></tr><tr><td></td><td></td></tr><tr><td></td><td></td></tr><tr><td>Austria (4)</td><td></td></tr><tr><td>Turkey (0)</td><td></td></tr><tr><td></td><td></td></tr><tr><td></td><td></td></tr><tr><td>Serbia (5)</td><td></td></tr><tr><td>Netherlands (5)</td><td></td></tr><tr><td></td><td></td></tr><tr><td></td><td></td></tr><tr><td>Switzerland (0)</td><td></td></tr><tr><td>Croatia (5)</td><td></td></tr><tr><td></td><td></td></tr><tr><td></td><td></td></tr></tbody></table></div>"
      ]
     },
     "metadata": {
      "application/vnd.databricks.v1+output": {
       "addedWidgets": {},
       "aggData": [],
       "aggError": "",
       "aggOverflow": false,
       "aggSchema": [],
       "aggSeriesLimitReached": false,
       "aggType": "",
       "arguments": {},
       "columnCustomDisplayInfos": {},
       "data": [
        [
         "",
         ""
        ],
        [
         "",
         ""
        ],
        [
         "Wales (0)",
         ""
        ],
        [
         "Spain (5)",
         ""
        ],
        [
         "",
         ""
        ],
        [
         "",
         ""
        ],
        [
         "Austria (4)",
         ""
        ],
        [
         "Turkey (0)",
         ""
        ],
        [
         "",
         ""
        ],
        [
         "",
         ""
        ],
        [
         "Serbia (5)",
         ""
        ],
        [
         "Netherlands (5)",
         ""
        ],
        [
         "",
         ""
        ],
        [
         "",
         ""
        ],
        [
         "Switzerland (0)",
         ""
        ],
        [
         "Croatia (5)",
         ""
        ],
        [
         "",
         ""
        ],
        [
         "",
         ""
        ]
       ],
       "datasetInfos": [],
       "dbfsResultPath": null,
       "isJsonSchema": true,
       "metadata": {},
       "overflow": false,
       "plotOptions": {
        "customPlotOptions": {},
        "displayType": "table",
        "pivotAggregation": null,
        "pivotColumns": null,
        "xColumns": null,
        "yColumns": null
       },
       "removedWidgets": [],
       "schema": [
        {
         "metadata": "{}",
         "name": "Round_of_16",
         "type": "\"string\""
        },
        {
         "metadata": "{}",
         "name": "rest",
         "type": "\"string\""
        }
       ],
       "type": "table"
      }
     },
     "output_type": "display_data"
    }
   ],
   "source": [
    "left_side_r16 = visualize_r16.iloc[:splited_r16_index + 1].reset_index(drop = True)\n",
    "right_side_r16 = visualize_r16.iloc[splited_r16_index - 1:].reset_index(drop = True)\n",
    "display(left_side_r16)\n",
    "display(right_side_r16)"
   ]
  },
  {
   "cell_type": "markdown",
   "metadata": {
    "application/vnd.databricks.v1+cell": {
     "cellMetadata": {},
     "inputWidgets": {},
     "nuid": "938fa8db-54f0-48dd-bf8b-1d9a87718b0f",
     "showTitle": false,
     "title": ""
    }
   },
   "source": [
    "Quarter Final Visualization"
   ]
  },
  {
   "cell_type": "code",
   "execution_count": 0,
   "metadata": {
    "application/vnd.databricks.v1+cell": {
     "cellMetadata": {
      "byteLimit": 2048000,
      "rowLimit": 10000
     },
     "inputWidgets": {},
     "nuid": "7ec83ed2-d459-487f-9032-aee42f48d527",
     "showTitle": false,
     "title": ""
    }
   },
   "outputs": [
    {
     "output_type": "display_data",
     "data": {
      "text/html": [
       "<style scoped>\n",
       "  .table-result-container {\n",
       "    max-height: 300px;\n",
       "    overflow: auto;\n",
       "  }\n",
       "  table, th, td {\n",
       "    border: 1px solid black;\n",
       "    border-collapse: collapse;\n",
       "  }\n",
       "  th, td {\n",
       "    padding: 5px;\n",
       "  }\n",
       "  th {\n",
       "    text-align: left;\n",
       "  }\n",
       "</style><div class='table-result-container'><table class='table-result'><thead style='background-color: white'><tr><th>quarter_final</th><th>rest</th></tr></thead><tbody><tr><td></td><td></td></tr><tr><td></td><td></td></tr><tr><td></td><td></td></tr><tr><td></td><td></td></tr><tr><td>Italy (0)</td><td></td></tr><tr><td>Germany (5)</td><td></td></tr><tr><td></td><td></td></tr><tr><td></td><td></td></tr><tr><td></td><td></td></tr><tr><td></td><td></td></tr><tr><td></td><td></td></tr><tr><td></td><td></td></tr><tr><td>Czech Republic (2)</td><td></td></tr><tr><td>Austria (5)</td><td></td></tr><tr><td></td><td></td></tr><tr><td></td><td></td></tr><tr><td></td><td></td></tr><tr><td></td><td></td></tr><tr><td></td><td></td></tr><tr><td></td><td></td></tr><tr><td>Spain (5)</td><td></td></tr><tr><td>Austria (1)</td><td></td></tr><tr><td></td><td></td></tr><tr><td></td><td></td></tr><tr><td></td><td></td></tr><tr><td></td><td></td></tr><tr><td></td><td></td></tr><tr><td></td><td></td></tr><tr><td>Serbia (0)</td><td></td></tr><tr><td>Croatia (1)</td><td></td></tr><tr><td></td><td></td></tr><tr><td></td><td></td></tr><tr><td></td><td></td></tr><tr><td></td><td></td></tr><tr><td></td><td></td></tr><tr><td></td><td></td></tr></tbody></table></div>"
      ]
     },
     "metadata": {
      "application/vnd.databricks.v1+output": {
       "addedWidgets": {},
       "aggData": [],
       "aggError": "",
       "aggOverflow": false,
       "aggSchema": [],
       "aggSeriesLimitReached": false,
       "aggType": "",
       "arguments": {},
       "columnCustomDisplayInfos": {},
       "data": [
        [
         "",
         ""
        ],
        [
         "",
         ""
        ],
        [
         "",
         ""
        ],
        [
         "",
         ""
        ],
        [
         "Italy (0)",
         ""
        ],
        [
         "Germany (5)",
         ""
        ],
        [
         "",
         ""
        ],
        [
         "",
         ""
        ],
        [
         "",
         ""
        ],
        [
         "",
         ""
        ],
        [
         "",
         ""
        ],
        [
         "",
         ""
        ],
        [
         "Czech Republic (2)",
         ""
        ],
        [
         "Austria (5)",
         ""
        ],
        [
         "",
         ""
        ],
        [
         "",
         ""
        ],
        [
         "",
         ""
        ],
        [
         "",
         ""
        ],
        [
         "",
         ""
        ],
        [
         "",
         ""
        ],
        [
         "Spain (5)",
         ""
        ],
        [
         "Austria (1)",
         ""
        ],
        [
         "",
         ""
        ],
        [
         "",
         ""
        ],
        [
         "",
         ""
        ],
        [
         "",
         ""
        ],
        [
         "",
         ""
        ],
        [
         "",
         ""
        ],
        [
         "Serbia (0)",
         ""
        ],
        [
         "Croatia (1)",
         ""
        ],
        [
         "",
         ""
        ],
        [
         "",
         ""
        ],
        [
         "",
         ""
        ],
        [
         "",
         ""
        ],
        [
         "",
         ""
        ],
        [
         "",
         ""
        ]
       ],
       "datasetInfos": [],
       "dbfsResultPath": null,
       "isJsonSchema": true,
       "metadata": {},
       "overflow": false,
       "plotOptions": {
        "customPlotOptions": {},
        "displayType": "table",
        "pivotAggregation": null,
        "pivotColumns": null,
        "xColumns": null,
        "yColumns": null
       },
       "removedWidgets": [],
       "schema": [
        {
         "metadata": "{}",
         "name": "quarter_final",
         "type": "\"string\""
        },
        {
         "metadata": "{}",
         "name": "rest",
         "type": "\"string\""
        }
       ],
       "type": "table"
      }
     },
     "output_type": "display_data"
    }
   ],
   "source": [
    "# Dataframe for quarter final\n",
    "visualize_qf = pd.DataFrame(columns=['quarter_final'])\n",
    "\n",
    "for _ in range(4):\n",
    "    visualize_qf = pd.concat([visualize_qf, pd.DataFrame({'quarter_final': ['']})], ignore_index=True)\n",
    "\n",
    "for index, row in quarter_final_df.iterrows():\n",
    "    visualize_qf = pd.concat([visualize_qf, pd.DataFrame({'quarter_final': [f\"{row['team1']} ({row['team1_goals']})\"]})], ignore_index=True)\n",
    "    visualize_qf = pd.concat([visualize_qf, pd.DataFrame({'quarter_final': [f\"{row['team2']} ({row['team2_goals']})\"]})], ignore_index=True)\n",
    "\n",
    "    for _ in range(6):\n",
    "        visualize_qf = pd.concat([visualize_qf, pd.DataFrame({'quarter_final': ['']})], ignore_index=True)\n",
    "visualize_qf['rest'] = ''\n",
    "splited_qf_index = len(visualize_qf) // 2\n",
    "display(visualize_qf)"
   ]
  },
  {
   "cell_type": "code",
   "execution_count": 0,
   "metadata": {
    "application/vnd.databricks.v1+cell": {
     "cellMetadata": {
      "byteLimit": 2048000,
      "rowLimit": 10000
     },
     "inputWidgets": {},
     "nuid": "ab2c4fdc-f6f5-4458-9775-b5c524410cba",
     "showTitle": false,
     "title": ""
    }
   },
   "outputs": [
    {
     "output_type": "display_data",
     "data": {
      "text/html": [
       "<style scoped>\n",
       "  .table-result-container {\n",
       "    max-height: 300px;\n",
       "    overflow: auto;\n",
       "  }\n",
       "  table, th, td {\n",
       "    border: 1px solid black;\n",
       "    border-collapse: collapse;\n",
       "  }\n",
       "  th, td {\n",
       "    padding: 5px;\n",
       "  }\n",
       "  th {\n",
       "    text-align: left;\n",
       "  }\n",
       "</style><div class='table-result-container'><table class='table-result'><thead style='background-color: white'><tr><th>Quater_Final</th><th>quarter_final</th><th>rest</th></tr></thead><tbody><tr><td>NaN</td><td></td><td></td></tr><tr><td>NaN</td><td></td><td></td></tr><tr><td>NaN</td><td></td><td></td></tr><tr><td>NaN</td><td></td><td></td></tr><tr><td>NaN</td><td>Italy (0)</td><td></td></tr><tr><td>NaN</td><td>Germany (5)</td><td></td></tr><tr><td>NaN</td><td></td><td></td></tr><tr><td>NaN</td><td></td><td></td></tr><tr><td>NaN</td><td></td><td></td></tr><tr><td>NaN</td><td></td><td></td></tr><tr><td>NaN</td><td></td><td></td></tr><tr><td>NaN</td><td></td><td></td></tr><tr><td>NaN</td><td>Czech Republic (2)</td><td></td></tr><tr><td>NaN</td><td>Austria (5)</td><td></td></tr><tr><td>NaN</td><td></td><td></td></tr><tr><td>NaN</td><td></td><td></td></tr><tr><td>NaN</td><td></td><td></td></tr><tr><td>NaN</td><td></td><td></td></tr></tbody></table></div>"
      ]
     },
     "metadata": {
      "application/vnd.databricks.v1+output": {
       "addedWidgets": {},
       "aggData": [],
       "aggError": "",
       "aggOverflow": false,
       "aggSchema": [],
       "aggSeriesLimitReached": false,
       "aggType": "",
       "arguments": {},
       "columnCustomDisplayInfos": {},
       "data": [
        [
         "NaN",
         "",
         ""
        ],
        [
         "NaN",
         "",
         ""
        ],
        [
         "NaN",
         "",
         ""
        ],
        [
         "NaN",
         "",
         ""
        ],
        [
         "NaN",
         "Italy (0)",
         ""
        ],
        [
         "NaN",
         "Germany (5)",
         ""
        ],
        [
         "NaN",
         "",
         ""
        ],
        [
         "NaN",
         "",
         ""
        ],
        [
         "NaN",
         "",
         ""
        ],
        [
         "NaN",
         "",
         ""
        ],
        [
         "NaN",
         "",
         ""
        ],
        [
         "NaN",
         "",
         ""
        ],
        [
         "NaN",
         "Czech Republic (2)",
         ""
        ],
        [
         "NaN",
         "Austria (5)",
         ""
        ],
        [
         "NaN",
         "",
         ""
        ],
        [
         "NaN",
         "",
         ""
        ],
        [
         "NaN",
         "",
         ""
        ],
        [
         "NaN",
         "",
         ""
        ]
       ],
       "datasetInfos": [],
       "dbfsResultPath": null,
       "isJsonSchema": true,
       "metadata": {},
       "overflow": false,
       "plotOptions": {
        "customPlotOptions": {},
        "displayType": "table",
        "pivotAggregation": null,
        "pivotColumns": null,
        "xColumns": null,
        "yColumns": null
       },
       "removedWidgets": [],
       "schema": [
        {
         "metadata": "{}",
         "name": "Quater_Final",
         "type": "\"double\""
        },
        {
         "metadata": "{}",
         "name": "quarter_final",
         "type": "\"string\""
        },
        {
         "metadata": "{}",
         "name": "rest",
         "type": "\"string\""
        }
       ],
       "type": "table"
      }
     },
     "output_type": "display_data"
    },
    {
     "output_type": "display_data",
     "data": {
      "text/html": [
       "<style scoped>\n",
       "  .table-result-container {\n",
       "    max-height: 300px;\n",
       "    overflow: auto;\n",
       "  }\n",
       "  table, th, td {\n",
       "    border: 1px solid black;\n",
       "    border-collapse: collapse;\n",
       "  }\n",
       "  th, td {\n",
       "    padding: 5px;\n",
       "  }\n",
       "  th {\n",
       "    text-align: left;\n",
       "  }\n",
       "</style><div class='table-result-container'><table class='table-result'><thead style='background-color: white'><tr><th>Quater_Final</th><th>quarter_final</th><th>rest</th></tr></thead><tbody><tr><td>NaN</td><td></td><td></td></tr><tr><td>NaN</td><td></td><td></td></tr><tr><td>NaN</td><td></td><td></td></tr><tr><td>NaN</td><td></td><td></td></tr><tr><td>NaN</td><td>Spain (5)</td><td></td></tr><tr><td>NaN</td><td>Austria (1)</td><td></td></tr><tr><td>NaN</td><td></td><td></td></tr><tr><td>NaN</td><td></td><td></td></tr><tr><td>NaN</td><td></td><td></td></tr><tr><td>NaN</td><td></td><td></td></tr><tr><td>NaN</td><td></td><td></td></tr><tr><td>NaN</td><td></td><td></td></tr><tr><td>NaN</td><td>Serbia (0)</td><td></td></tr><tr><td>NaN</td><td>Croatia (1)</td><td></td></tr><tr><td>NaN</td><td></td><td></td></tr><tr><td>NaN</td><td></td><td></td></tr><tr><td>NaN</td><td></td><td></td></tr><tr><td>NaN</td><td></td><td></td></tr><tr><td>NaN</td><td></td><td></td></tr><tr><td>NaN</td><td></td><td></td></tr></tbody></table></div>"
      ]
     },
     "metadata": {
      "application/vnd.databricks.v1+output": {
       "addedWidgets": {},
       "aggData": [],
       "aggError": "",
       "aggOverflow": false,
       "aggSchema": [],
       "aggSeriesLimitReached": false,
       "aggType": "",
       "arguments": {},
       "columnCustomDisplayInfos": {},
       "data": [
        [
         "NaN",
         "",
         ""
        ],
        [
         "NaN",
         "",
         ""
        ],
        [
         "NaN",
         "",
         ""
        ],
        [
         "NaN",
         "",
         ""
        ],
        [
         "NaN",
         "Spain (5)",
         ""
        ],
        [
         "NaN",
         "Austria (1)",
         ""
        ],
        [
         "NaN",
         "",
         ""
        ],
        [
         "NaN",
         "",
         ""
        ],
        [
         "NaN",
         "",
         ""
        ],
        [
         "NaN",
         "",
         ""
        ],
        [
         "NaN",
         "",
         ""
        ],
        [
         "NaN",
         "",
         ""
        ],
        [
         "NaN",
         "Serbia (0)",
         ""
        ],
        [
         "NaN",
         "Croatia (1)",
         ""
        ],
        [
         "NaN",
         "",
         ""
        ],
        [
         "NaN",
         "",
         ""
        ],
        [
         "NaN",
         "",
         ""
        ],
        [
         "NaN",
         "",
         ""
        ],
        [
         "NaN",
         "",
         ""
        ],
        [
         "NaN",
         "",
         ""
        ]
       ],
       "datasetInfos": [],
       "dbfsResultPath": null,
       "isJsonSchema": true,
       "metadata": {},
       "overflow": false,
       "plotOptions": {
        "customPlotOptions": {},
        "displayType": "table",
        "pivotAggregation": null,
        "pivotColumns": null,
        "xColumns": null,
        "yColumns": null
       },
       "removedWidgets": [],
       "schema": [
        {
         "metadata": "{}",
         "name": "Quater_Final",
         "type": "\"double\""
        },
        {
         "metadata": "{}",
         "name": "quarter_final",
         "type": "\"string\""
        },
        {
         "metadata": "{}",
         "name": "rest",
         "type": "\"string\""
        }
       ],
       "type": "table"
      }
     },
     "output_type": "display_data"
    }
   ],
   "source": [
    "left_side_qf = pd.DataFrame(columns=['Quater_Final'])\n",
    "left_side_qf = pd.concat([left_side_qf,visualize_qf.iloc[:splited_qf_index]]).reset_index(drop=True)\n",
    "right_side_qf = pd.DataFrame(columns=['Quater_Final'])\n",
    "right_side_qf = pd.concat([right_side_qf,visualize_qf.iloc[splited_qf_index-2:]]).reset_index(drop=True)\n",
    "\n",
    "\n",
    "display(left_side_qf)\n",
    "display(right_side_qf)"
   ]
  },
  {
   "cell_type": "markdown",
   "metadata": {
    "application/vnd.databricks.v1+cell": {
     "cellMetadata": {},
     "inputWidgets": {},
     "nuid": "88fa0dc7-3f78-44e4-9e18-2f11f717c692",
     "showTitle": false,
     "title": ""
    }
   },
   "source": [
    "SemiFinal Visualization"
   ]
  },
  {
   "cell_type": "code",
   "execution_count": 0,
   "metadata": {
    "application/vnd.databricks.v1+cell": {
     "cellMetadata": {
      "byteLimit": 2048000,
      "rowLimit": 10000
     },
     "inputWidgets": {},
     "nuid": "0565b41b-c11c-49e0-bf2a-26d37df1d2a6",
     "showTitle": false,
     "title": ""
    }
   },
   "outputs": [
    {
     "output_type": "stream",
     "name": "stdout",
     "output_type": "stream",
     "text": [
      "12\n"
     ]
    },
    {
     "output_type": "display_data",
     "data": {
      "text/html": [
       "<style scoped>\n",
       "  .table-result-container {\n",
       "    max-height: 300px;\n",
       "    overflow: auto;\n",
       "  }\n",
       "  table, th, td {\n",
       "    border: 1px solid black;\n",
       "    border-collapse: collapse;\n",
       "  }\n",
       "  th, td {\n",
       "    padding: 5px;\n",
       "  }\n",
       "  th {\n",
       "    text-align: left;\n",
       "  }\n",
       "</style><div class='table-result-container'><table class='table-result'><thead style='background-color: white'><tr><th>semi_final</th><th>rest</th></tr></thead><tbody><tr><td></td><td></td></tr><tr><td></td><td></td></tr><tr><td></td><td></td></tr><tr><td></td><td></td></tr><tr><td></td><td></td></tr><tr><td></td><td></td></tr><tr><td></td><td></td></tr><tr><td></td><td></td></tr><tr><td>Spain (3)</td><td></td></tr><tr><td>Croatia (1)</td><td></td></tr><tr><td></td><td></td></tr><tr><td></td><td></td></tr><tr><td></td><td></td></tr><tr><td></td><td></td></tr><tr><td></td><td></td></tr><tr><td></td><td></td></tr><tr><td>Germany (5)</td><td></td></tr><tr><td>Austria (4)</td><td></td></tr><tr><td></td><td></td></tr><tr><td></td><td></td></tr><tr><td></td><td></td></tr><tr><td></td><td></td></tr><tr><td></td><td></td></tr><tr><td></td><td></td></tr></tbody></table></div>"
      ]
     },
     "metadata": {
      "application/vnd.databricks.v1+output": {
       "addedWidgets": {},
       "aggData": [],
       "aggError": "",
       "aggOverflow": false,
       "aggSchema": [],
       "aggSeriesLimitReached": false,
       "aggType": "",
       "arguments": {},
       "columnCustomDisplayInfos": {},
       "data": [
        [
         "",
         ""
        ],
        [
         "",
         ""
        ],
        [
         "",
         ""
        ],
        [
         "",
         ""
        ],
        [
         "",
         ""
        ],
        [
         "",
         ""
        ],
        [
         "",
         ""
        ],
        [
         "",
         ""
        ],
        [
         "Spain (3)",
         ""
        ],
        [
         "Croatia (1)",
         ""
        ],
        [
         "",
         ""
        ],
        [
         "",
         ""
        ],
        [
         "",
         ""
        ],
        [
         "",
         ""
        ],
        [
         "",
         ""
        ],
        [
         "",
         ""
        ],
        [
         "Germany (5)",
         ""
        ],
        [
         "Austria (4)",
         ""
        ],
        [
         "",
         ""
        ],
        [
         "",
         ""
        ],
        [
         "",
         ""
        ],
        [
         "",
         ""
        ],
        [
         "",
         ""
        ],
        [
         "",
         ""
        ]
       ],
       "datasetInfos": [],
       "dbfsResultPath": null,
       "isJsonSchema": true,
       "metadata": {},
       "overflow": false,
       "plotOptions": {
        "customPlotOptions": {},
        "displayType": "table",
        "pivotAggregation": null,
        "pivotColumns": null,
        "xColumns": null,
        "yColumns": null
       },
       "removedWidgets": [],
       "schema": [
        {
         "metadata": "{}",
         "name": "semi_final",
         "type": "\"string\""
        },
        {
         "metadata": "{}",
         "name": "rest",
         "type": "\"string\""
        }
       ],
       "type": "table"
      }
     },
     "output_type": "display_data"
    }
   ],
   "source": [
    "visualize_sf = pd.DataFrame(columns=['semi_final'])\n",
    "\n",
    "for _ in range(8):\n",
    "    visualize_sf = pd.concat([visualize_sf, pd.DataFrame({'semi_final': ['']})], ignore_index=True)\n",
    "\n",
    "for index, row in semi_final_df.iterrows():\n",
    "    visualize_sf = pd.concat([visualize_sf, pd.DataFrame({'semi_final': [f\"{row['team1']} ({row['team1_goals']})\"]})], ignore_index=True)\n",
    "    visualize_sf = pd.concat([visualize_sf, pd.DataFrame({'semi_final': [f\"{row['team2']} ({row['team2_goals']})\"]})], ignore_index=True)\n",
    "    for _ in range(6):\n",
    "        visualize_sf = pd.concat([visualize_sf, pd.DataFrame({'semi_final': ['']})], ignore_index=True)\n",
    "visualize_sf['rest'] = ''\n",
    "splited_sf_index = len(visualize_sf) // 2\n",
    "print(splited_sf_index)\n",
    "display(visualize_sf)\n"
   ]
  },
  {
   "cell_type": "code",
   "execution_count": 0,
   "metadata": {
    "application/vnd.databricks.v1+cell": {
     "cellMetadata": {
      "byteLimit": 2048000,
      "rowLimit": 10000
     },
     "inputWidgets": {},
     "nuid": "e541e8cd-f85e-4118-ae2e-4949ac4d79c6",
     "showTitle": false,
     "title": ""
    }
   },
   "outputs": [
    {
     "output_type": "display_data",
     "data": {
      "text/html": [
       "<style scoped>\n",
       "  .table-result-container {\n",
       "    max-height: 300px;\n",
       "    overflow: auto;\n",
       "  }\n",
       "  table, th, td {\n",
       "    border: 1px solid black;\n",
       "    border-collapse: collapse;\n",
       "  }\n",
       "  th, td {\n",
       "    padding: 5px;\n",
       "  }\n",
       "  th {\n",
       "    text-align: left;\n",
       "  }\n",
       "</style><div class='table-result-container'><table class='table-result'><thead style='background-color: white'><tr><th>Semi_Final</th><th>semi_final</th><th>rest</th></tr></thead><tbody><tr><td>NaN</td><td></td><td></td></tr><tr><td>NaN</td><td></td><td></td></tr><tr><td>NaN</td><td></td><td></td></tr><tr><td>NaN</td><td></td><td></td></tr><tr><td>NaN</td><td></td><td></td></tr><tr><td>NaN</td><td></td><td></td></tr><tr><td>NaN</td><td></td><td></td></tr><tr><td>NaN</td><td></td><td></td></tr><tr><td>NaN</td><td>Spain (3)</td><td></td></tr><tr><td>NaN</td><td>Croatia (1)</td><td></td></tr><tr><td>NaN</td><td></td><td></td></tr><tr><td>NaN</td><td></td><td></td></tr><tr><td></td><td>NaN</td><td></td></tr><tr><td></td><td>NaN</td><td></td></tr><tr><td></td><td>NaN</td><td></td></tr><tr><td></td><td>NaN</td><td></td></tr><tr><td></td><td>NaN</td><td></td></tr></tbody></table></div>"
      ]
     },
     "metadata": {
      "application/vnd.databricks.v1+output": {
       "addedWidgets": {},
       "aggData": [],
       "aggError": "",
       "aggOverflow": false,
       "aggSchema": [],
       "aggSeriesLimitReached": false,
       "aggType": "",
       "arguments": {},
       "columnCustomDisplayInfos": {},
       "data": [
        [
         "NaN",
         "",
         ""
        ],
        [
         "NaN",
         "",
         ""
        ],
        [
         "NaN",
         "",
         ""
        ],
        [
         "NaN",
         "",
         ""
        ],
        [
         "NaN",
         "",
         ""
        ],
        [
         "NaN",
         "",
         ""
        ],
        [
         "NaN",
         "",
         ""
        ],
        [
         "NaN",
         "",
         ""
        ],
        [
         "NaN",
         "Spain (3)",
         ""
        ],
        [
         "NaN",
         "Croatia (1)",
         ""
        ],
        [
         "NaN",
         "",
         ""
        ],
        [
         "NaN",
         "",
         ""
        ],
        [
         "",
         "NaN",
         ""
        ],
        [
         "",
         "NaN",
         ""
        ],
        [
         "",
         "NaN",
         ""
        ],
        [
         "",
         "NaN",
         ""
        ],
        [
         "",
         "NaN",
         ""
        ]
       ],
       "datasetInfos": [],
       "dbfsResultPath": null,
       "isJsonSchema": true,
       "metadata": {},
       "overflow": false,
       "plotOptions": {
        "customPlotOptions": {},
        "displayType": "table",
        "pivotAggregation": null,
        "pivotColumns": null,
        "xColumns": null,
        "yColumns": null
       },
       "removedWidgets": [],
       "schema": [
        {
         "metadata": "{}",
         "name": "Semi_Final",
         "type": "\"string\""
        },
        {
         "metadata": "{}",
         "name": "semi_final",
         "type": "\"string\""
        },
        {
         "metadata": "{}",
         "name": "rest",
         "type": "\"string\""
        }
       ],
       "type": "table"
      }
     },
     "output_type": "display_data"
    },
    {
     "output_type": "display_data",
     "data": {
      "text/html": [
       "<style scoped>\n",
       "  .table-result-container {\n",
       "    max-height: 300px;\n",
       "    overflow: auto;\n",
       "  }\n",
       "  table, th, td {\n",
       "    border: 1px solid black;\n",
       "    border-collapse: collapse;\n",
       "  }\n",
       "  th, td {\n",
       "    padding: 5px;\n",
       "  }\n",
       "  th {\n",
       "    text-align: left;\n",
       "  }\n",
       "</style><div class='table-result-container'><table class='table-result'><thead style='background-color: white'><tr><th>Semi_Final</th><th>rest</th><th>semi_final</th></tr></thead><tbody><tr><td></td><td></td><td>NaN</td></tr><tr><td></td><td></td><td>NaN</td></tr><tr><td></td><td></td><td>NaN</td></tr><tr><td></td><td></td><td>NaN</td></tr><tr><td></td><td></td><td>NaN</td></tr><tr><td></td><td></td><td>NaN</td></tr><tr><td></td><td></td><td>NaN</td></tr><tr><td>NaN</td><td></td><td></td></tr><tr><td>NaN</td><td></td><td></td></tr><tr><td>NaN</td><td></td><td></td></tr><tr><td>NaN</td><td></td><td></td></tr><tr><td>NaN</td><td></td><td>Germany (5)</td></tr><tr><td>NaN</td><td></td><td>Austria (4)</td></tr><tr><td>NaN</td><td></td><td></td></tr><tr><td>NaN</td><td></td><td></td></tr><tr><td>NaN</td><td></td><td></td></tr><tr><td>NaN</td><td></td><td></td></tr><tr><td>NaN</td><td></td><td></td></tr><tr><td>NaN</td><td></td><td></td></tr></tbody></table></div>"
      ]
     },
     "metadata": {
      "application/vnd.databricks.v1+output": {
       "addedWidgets": {},
       "aggData": [],
       "aggError": "",
       "aggOverflow": false,
       "aggSchema": [],
       "aggSeriesLimitReached": false,
       "aggType": "",
       "arguments": {},
       "columnCustomDisplayInfos": {},
       "data": [
        [
         "",
         "",
         "NaN"
        ],
        [
         "",
         "",
         "NaN"
        ],
        [
         "",
         "",
         "NaN"
        ],
        [
         "",
         "",
         "NaN"
        ],
        [
         "",
         "",
         "NaN"
        ],
        [
         "",
         "",
         "NaN"
        ],
        [
         "",
         "",
         "NaN"
        ],
        [
         "NaN",
         "",
         ""
        ],
        [
         "NaN",
         "",
         ""
        ],
        [
         "NaN",
         "",
         ""
        ],
        [
         "NaN",
         "",
         ""
        ],
        [
         "NaN",
         "",
         "Germany (5)"
        ],
        [
         "NaN",
         "",
         "Austria (4)"
        ],
        [
         "NaN",
         "",
         ""
        ],
        [
         "NaN",
         "",
         ""
        ],
        [
         "NaN",
         "",
         ""
        ],
        [
         "NaN",
         "",
         ""
        ],
        [
         "NaN",
         "",
         ""
        ],
        [
         "NaN",
         "",
         ""
        ]
       ],
       "datasetInfos": [],
       "dbfsResultPath": null,
       "isJsonSchema": true,
       "metadata": {},
       "overflow": false,
       "plotOptions": {
        "customPlotOptions": {},
        "displayType": "table",
        "pivotAggregation": null,
        "pivotColumns": null,
        "xColumns": null,
        "yColumns": null
       },
       "removedWidgets": [],
       "schema": [
        {
         "metadata": "{}",
         "name": "Semi_Final",
         "type": "\"string\""
        },
        {
         "metadata": "{}",
         "name": "rest",
         "type": "\"string\""
        },
        {
         "metadata": "{}",
         "name": "semi_final",
         "type": "\"string\""
        }
       ],
       "type": "table"
      }
     },
     "output_type": "display_data"
    }
   ],
   "source": [
    "left_side_sf = pd.DataFrame(columns=['Semi_Final'])\n",
    "left_side_sf = pd.concat([left_side_sf, visualize_sf.iloc[:splited_sf_index]]).reset_index(drop=True)\n",
    "\n",
    "for _ in range(5):\n",
    "    left_side_sf = pd.concat([left_side_sf, pd.DataFrame({'Semi_Final': [''], 'rest': ['']})], ignore_index=True)\n",
    "\n",
    "right_side_sf = pd.DataFrame({'Semi_Final': [''] * 7, 'rest': [''] * 7})\n",
    "right_side_sf = pd.concat([right_side_sf, visualize_sf.iloc[splited_sf_index:]]).reset_index(drop=True)\n",
    "\n",
    "display(left_side_sf)\n",
    "display(right_side_sf)"
   ]
  },
  {
   "cell_type": "markdown",
   "metadata": {
    "application/vnd.databricks.v1+cell": {
     "cellMetadata": {},
     "inputWidgets": {},
     "nuid": "c2860d2e-47fc-414f-b3bc-70e851569289",
     "showTitle": false,
     "title": ""
    }
   },
   "source": [
    "\n",
    "Final Match Visualization\n"
   ]
  },
  {
   "cell_type": "code",
   "execution_count": 0,
   "metadata": {
    "application/vnd.databricks.v1+cell": {
     "cellMetadata": {
      "byteLimit": 2048000,
      "rowLimit": 10000
     },
     "inputWidgets": {},
     "nuid": "e125ba37-c4b1-4922-adea-547ae590e101",
     "showTitle": false,
     "title": ""
    }
   },
   "outputs": [
    {
     "output_type": "display_data",
     "data": {
      "text/html": [
       "<style scoped>\n",
       "  .table-result-container {\n",
       "    max-height: 300px;\n",
       "    overflow: auto;\n",
       "  }\n",
       "  table, th, td {\n",
       "    border: 1px solid black;\n",
       "    border-collapse: collapse;\n",
       "  }\n",
       "  th, td {\n",
       "    padding: 5px;\n",
       "  }\n",
       "  th {\n",
       "    text-align: left;\n",
       "  }\n",
       "</style><div class='table-result-container'><table class='table-result'><thead style='background-color: white'><tr><th>Final</th><th>space</th></tr></thead><tbody><tr><td></td><td></td></tr><tr><td></td><td></td></tr><tr><td></td><td></td></tr><tr><td></td><td></td></tr><tr><td></td><td></td></tr><tr><td></td><td></td></tr><tr><td>Germany (5)</td><td></td></tr><tr><td>Spain (0)</td><td></td></tr><tr><td></td><td></td></tr><tr><td></td><td></td></tr></tbody></table></div>"
      ]
     },
     "metadata": {
      "application/vnd.databricks.v1+output": {
       "addedWidgets": {},
       "aggData": [],
       "aggError": "",
       "aggOverflow": false,
       "aggSchema": [],
       "aggSeriesLimitReached": false,
       "aggType": "",
       "arguments": {},
       "columnCustomDisplayInfos": {},
       "data": [
        [
         "",
         ""
        ],
        [
         "",
         ""
        ],
        [
         "",
         ""
        ],
        [
         "",
         ""
        ],
        [
         "",
         ""
        ],
        [
         "",
         ""
        ],
        [
         "Germany (5)",
         ""
        ],
        [
         "Spain (0)",
         ""
        ],
        [
         "",
         ""
        ],
        [
         "",
         ""
        ]
       ],
       "datasetInfos": [],
       "dbfsResultPath": null,
       "isJsonSchema": true,
       "metadata": {},
       "overflow": false,
       "plotOptions": {
        "customPlotOptions": {},
        "displayType": "table",
        "pivotAggregation": null,
        "pivotColumns": null,
        "xColumns": null,
        "yColumns": null
       },
       "removedWidgets": [],
       "schema": [
        {
         "metadata": "{}",
         "name": "Final",
         "type": "\"string\""
        },
        {
         "metadata": "{}",
         "name": "space",
         "type": "\"string\""
        }
       ],
       "type": "table"
      }
     },
     "output_type": "display_data"
    }
   ],
   "source": [
    "visualize_final = pd.DataFrame(columns=['Final'])\n",
    "for _ in range(6):\n",
    "    visualize_final = pd.concat([visualize_final, pd.DataFrame({'Final': ['']})], ignore_index=True)\n",
    "\n",
    "for index,row in final_df.iterrows():\n",
    "    visualize_final = pd.concat([visualize_final, pd.DataFrame({'Final': [f\"{row['team1']} ({row['team1_goals']})\"]})], ignore_index=True)\n",
    "    visualize_final = pd.concat([visualize_final, pd.DataFrame({'Final': [f\"{row['team2']} ({row['team2_goals']})\"]})], ignore_index=True)\n",
    "\n",
    "    if (index + 1) %2 == 0:\n",
    "        visualize_final = pd.concat([visualize_final, pd.DataFrame({'Final': ['']})], ignore_index=True)\n",
    "        visualize_final = pd.concat([visualize_final, pd.DataFrame({'Final': ['']})], ignore_index=True)\n",
    "    for _ in range(2):\n",
    "        visualize_final = pd.concat([visualize_final, pd.DataFrame({'Final': ['']})], ignore_index=True)\n",
    "visualize_final['space'] = ''\n",
    "display(visualize_final)"
   ]
  },
  {
   "cell_type": "markdown",
   "metadata": {
    "application/vnd.databricks.v1+cell": {
     "cellMetadata": {},
     "inputWidgets": {},
     "nuid": "d2d2e337-dfca-4def-81ea-a27fa6c2d453",
     "showTitle": false,
     "title": ""
    }
   },
   "source": [
    "Merge Dataframes"
   ]
  },
  {
   "cell_type": "code",
   "execution_count": 0,
   "metadata": {
    "application/vnd.databricks.v1+cell": {
     "cellMetadata": {
      "byteLimit": 2048000,
      "rowLimit": 10000
     },
     "inputWidgets": {},
     "nuid": "4d9827ee-26b6-414a-abc6-3266bd8be9e7",
     "showTitle": false,
     "title": ""
    }
   },
   "outputs": [
    {
     "output_type": "display_data",
     "data": {
      "text/html": [
       "<style scoped>\n",
       "  .table-result-container {\n",
       "    max-height: 300px;\n",
       "    overflow: auto;\n",
       "  }\n",
       "  table, th, td {\n",
       "    border: 1px solid black;\n",
       "    border-collapse: collapse;\n",
       "  }\n",
       "  th, td {\n",
       "    padding: 5px;\n",
       "  }\n",
       "  th {\n",
       "    text-align: left;\n",
       "  }\n",
       "</style><div class='table-result-container'><table class='table-result'><thead style='background-color: white'><tr><th>Teamsg1</th><th>Groupg1</th><th>Pldg1</th><th>Wg1</th><th>Dg1</th><th>Lg1</th><th>GFg1</th><th>GAg1</th><th>GDg1</th><th>Ptsg1</th><th>Round_of_16</th><th>rest</th><th>Quater_Finalq2q2q2</th><th>quarter_finalq2q2q2</th><th>restq2q2q2</th><th>Semi_Finals1s1s1</th><th>semi_finals1s1s1</th><th>rests1s1s1</th><th>Finalfff</th><th>spacefff</th><th>Semi_Finals2s2s2</th><th>rests2s2s2</th><th>semi_finals2s2s2</th><th>Quater_Finalq1q1q1</th><th>quarter_finalq1q1q1</th><th>restq1q1q1</th><th>Round_of_16r2r2r2</th><th>restr2r2r2</th><th>Teamsg2</th><th>Groupg2</th><th>Pldg2</th><th>Wg2</th><th>Dg2</th><th>Lg2</th><th>GFg2</th><th>GAg2</th><th>GDg2</th><th>Ptsg2</th></tr></thead><tbody><tr><td></td><td></td><td></td><td></td><td></td><td></td><td></td><td></td><td></td><td></td><td></td><td></td><td></td><td></td><td></td><td></td><td></td><td></td><td></td><td></td><td></td><td></td><td></td><td></td><td></td><td></td><td></td><td></td><td></td><td></td><td></td><td></td><td></td><td></td><td></td><td></td><td></td><td></td></tr><tr><td>Germany</td><td>A</td><td>3</td><td>2</td><td>0</td><td>1</td><td>8</td><td>4</td><td>4</td><td>6</td><td></td><td></td><td></td><td></td><td></td><td></td><td></td><td></td><td></td><td></td><td></td><td></td><td></td><td></td><td></td><td></td><td></td><td></td><td>France</td><td>D</td><td>3</td><td>0</td><td>0</td><td>3</td><td>4</td><td>15</td><td>-11</td><td>0</td></tr><tr><td>Scotland</td><td>A</td><td>3</td><td>1</td><td>0</td><td>2</td><td>6</td><td>7</td><td>-1</td><td>3</td><td>Italy (3)</td><td></td><td></td><td></td><td></td><td></td><td></td><td></td><td></td><td></td><td></td><td></td><td></td><td></td><td></td><td></td><td>Wales (0)</td><td></td><td>Austria</td><td>D</td><td>3</td><td>2</td><td>0</td><td>1</td><td>13</td><td>10</td><td>3</td><td>6</td></tr><tr><td>Hungary</td><td>A</td><td>3</td><td>1</td><td>0</td><td>2</td><td>4</td><td>8</td><td>-4</td><td>3</td><td>Scotland (3)</td><td></td><td></td><td></td><td></td><td></td><td></td><td></td><td></td><td></td><td></td><td></td><td></td><td></td><td></td><td></td><td>Spain (5)</td><td></td><td>Netherlands</td><td>D</td><td>3</td><td>1</td><td>0</td><td>2</td><td>12</td><td>9</td><td>3</td><td>3</td></tr><tr><td>Switzerland</td><td>A</td><td>3</td><td>2</td><td>0</td><td>1</td><td>7</td><td>6</td><td>1</td><td>6</td><td></td><td></td><td></td><td>Italy (0)</td><td></td><td></td><td></td><td></td><td></td><td></td><td></td><td></td><td></td><td></td><td>Spain (5)</td><td></td><td></td><td></td><td>Wales</td><td>D</td><td>3</td><td>3</td><td>0</td><td>0</td><td>13</td><td>8</td><td>5</td><td>9</td></tr><tr><td></td><td></td><td></td><td></td><td></td><td></td><td></td><td></td><td></td><td></td><td></td><td></td><td></td><td>Germany (5)</td><td></td><td></td><td></td><td></td><td></td><td></td><td></td><td></td><td></td><td></td><td>Austria (1)</td><td></td><td></td><td></td><td></td><td></td><td></td><td></td><td></td><td></td><td></td><td></td><td></td><td></td></tr><tr><td>Italy</td><td>B</td><td>3</td><td>2</td><td>1</td><td>0</td><td>11</td><td>8</td><td>3</td><td>7</td><td>Germany (4)</td><td></td><td></td><td></td><td></td><td></td><td></td><td></td><td>Germany (5)</td><td></td><td></td><td></td><td></td><td></td><td></td><td></td><td>Austria (4)</td><td></td><td>Slovakia</td><td>E</td><td>3</td><td>3</td><td>0</td><td>0</td><td>11</td><td>8</td><td>3</td><td>9</td></tr><tr><td>Croatia</td><td>B</td><td>3</td><td>1</td><td>1</td><td>1</td><td>12</td><td>9</td><td>3</td><td>4</td><td>England (1)</td><td></td><td></td><td></td><td></td><td></td><td></td><td></td><td>Spain (0)</td><td></td><td></td><td></td><td></td><td></td><td></td><td></td><td>Turkey (0)</td><td></td><td>Belgium</td><td>E</td><td>3</td><td>2</td><td>0</td><td>1</td><td>11</td><td>6</td><td>5</td><td>6</td></tr><tr><td>Spain</td><td>B</td><td>3</td><td>1</td><td>1</td><td>1</td><td>7</td><td>10</td><td>-3</td><td>4</td><td></td><td></td><td></td><td></td><td></td><td></td><td>Spain (3)</td><td></td><td></td><td></td><td></td><td></td><td></td><td></td><td></td><td></td><td></td><td></td><td>Romania</td><td>E</td><td>3</td><td>0</td><td>0</td><td>3</td><td>3</td><td>10</td><td>-7</td><td>0</td></tr><tr><td>Albania</td><td>B</td><td>3</td><td>0</td><td>1</td><td>2</td><td>10</td><td>13</td><td>-3</td><td>1</td><td></td><td></td><td></td><td></td><td></td><td></td><td>Croatia (1)</td><td></td><td></td><td></td><td></td><td></td><td></td><td></td><td></td><td></td><td></td><td></td><td>Poland</td><td>E</td><td>3</td><td>1</td><td>0</td><td>2</td><td>6</td><td>7</td><td>-1</td><td>3</td></tr><tr><td></td><td></td><td></td><td></td><td></td><td></td><td></td><td></td><td></td><td></td><td>Czech Republic (2)</td><td></td><td></td><td></td><td></td><td></td><td></td><td></td><td></td><td></td><td></td><td></td><td></td><td></td><td></td><td></td><td>Serbia (5)</td><td></td><td></td><td></td><td></td><td></td><td></td><td></td><td></td><td></td><td></td><td></td></tr><tr><td>Serbia</td><td>C</td><td>3</td><td>2</td><td>1</td><td>0</td><td>10</td><td>3</td><td>7</td><td>7</td><td>Denmark (0)</td><td></td><td></td><td></td><td></td><td></td><td></td><td></td><td></td><td></td><td></td><td></td><td>Germany (5)</td><td></td><td></td><td></td><td>Netherlands (5)</td><td></td><td>Portugal</td><td>F</td><td>3</td><td>0</td><td>1</td><td>2</td><td>6</td><td>9</td><td>-3</td><td>1</td></tr><tr><td>Denmark</td><td>C</td><td>3</td><td>1</td><td>1</td><td>1</td><td>8</td><td>10</td><td>-2</td><td>4</td><td></td><td></td><td></td><td>Czech Republic (2)</td><td></td><td></td><td></td><td></td><td></td><td></td><td></td><td></td><td>Austria (4)</td><td></td><td>Serbia (0)</td><td></td><td></td><td></td><td>Turkey</td><td>F</td><td>3</td><td>1</td><td>1</td><td>1</td><td>7</td><td>9</td><td>-2</td><td>4</td></tr><tr><td>Slovenia</td><td>C</td><td>3</td><td>0</td><td>1</td><td>2</td><td>7</td><td>12</td><td>-5</td><td>1</td><td></td><td></td><td></td><td>Austria (5)</td><td></td><td></td><td></td><td></td><td></td><td></td><td></td><td></td><td></td><td></td><td>Croatia (1)</td><td></td><td></td><td></td><td>Kazakhstan</td><td>F</td><td>3</td><td>1</td><td>0</td><td>2</td><td>13</td><td>13</td><td>0</td><td>3</td></tr><tr><td>England</td><td>C</td><td>3</td><td>1</td><td>1</td><td>1</td><td>8</td><td>8</td><td>0</td><td>4</td><td>Austria (5)</td><td></td><td></td><td></td><td></td><td></td><td></td><td></td><td></td><td></td><td></td><td></td><td></td><td></td><td></td><td></td><td>Switzerland (0)</td><td></td><td>Czech Republic</td><td>F</td><td>3</td><td>3</td><td>0</td><td>0</td><td>14</td><td>9</td><td>5</td><td>9</td></tr><tr><td></td><td></td><td></td><td></td><td></td><td></td><td></td><td></td><td></td><td></td><td>Belgium (4)</td><td></td><td></td><td></td><td></td><td></td><td></td><td></td><td></td><td></td><td></td><td></td><td></td><td></td><td></td><td></td><td>Croatia (5)</td><td></td><td></td><td></td><td></td><td></td><td></td><td></td><td></td><td></td><td></td><td></td></tr><tr><td></td><td></td><td></td><td></td><td></td><td></td><td></td><td></td><td></td><td></td><td></td><td></td><td></td><td></td><td></td><td></td><td></td><td></td><td></td><td></td><td></td><td></td><td></td><td></td><td></td><td></td><td></td><td></td><td></td><td></td><td></td><td></td><td></td><td></td><td></td><td></td><td></td><td></td></tr><tr><td></td><td></td><td></td><td></td><td></td><td></td><td></td><td></td><td></td><td></td><td></td><td></td><td></td><td></td><td></td><td></td><td></td><td></td><td></td><td></td><td></td><td></td><td></td><td></td><td></td><td></td><td></td><td></td><td></td><td></td><td></td><td></td><td></td><td></td><td></td><td></td><td></td><td></td></tr><tr><td></td><td></td><td></td><td></td><td></td><td></td><td></td><td></td><td></td><td></td><td></td><td></td><td></td><td></td><td></td><td></td><td></td><td></td><td></td><td></td><td></td><td></td><td></td><td></td><td></td><td></td><td></td><td></td><td></td><td></td><td></td><td></td><td></td><td></td><td></td><td></td><td></td><td></td></tr><tr><td></td><td></td><td></td><td></td><td></td><td></td><td></td><td></td><td></td><td></td><td></td><td></td><td></td><td></td><td></td><td></td><td></td><td></td><td></td><td></td><td></td><td></td><td></td><td></td><td></td><td></td><td></td><td></td><td></td><td></td><td></td><td></td><td></td><td></td><td></td><td></td><td></td><td></td></tr></tbody></table></div>"
      ]
     },
     "metadata": {
      "application/vnd.databricks.v1+output": {
       "addedWidgets": {},
       "aggData": [],
       "aggError": "",
       "aggOverflow": false,
       "aggSchema": [],
       "aggSeriesLimitReached": false,
       "aggType": "",
       "arguments": {},
       "columnCustomDisplayInfos": {},
       "data": [
        [
         "",
         "",
         "",
         "",
         "",
         "",
         "",
         "",
         "",
         "",
         "",
         "",
         "",
         "",
         "",
         "",
         "",
         "",
         "",
         "",
         "",
         "",
         "",
         "",
         "",
         "",
         "",
         "",
         "",
         "",
         "",
         "",
         "",
         "",
         "",
         "",
         "",
         ""
        ],
        [
         "Germany",
         "A",
         "3",
         "2",
         "0",
         "1",
         "8",
         "4",
         "4",
         "6",
         "",
         "",
         "",
         "",
         "",
         "",
         "",
         "",
         "",
         "",
         "",
         "",
         "",
         "",
         "",
         "",
         "",
         "",
         "France",
         "D",
         "3",
         "0",
         "0",
         "3",
         "4",
         "15",
         "-11",
         "0"
        ],
        [
         "Scotland",
         "A",
         "3",
         "1",
         "0",
         "2",
         "6",
         "7",
         "-1",
         "3",
         "Italy (3)",
         "",
         "",
         "",
         "",
         "",
         "",
         "",
         "",
         "",
         "",
         "",
         "",
         "",
         "",
         "",
         "Wales (0)",
         "",
         "Austria",
         "D",
         "3",
         "2",
         "0",
         "1",
         "13",
         "10",
         "3",
         "6"
        ],
        [
         "Hungary",
         "A",
         "3",
         "1",
         "0",
         "2",
         "4",
         "8",
         "-4",
         "3",
         "Scotland (3)",
         "",
         "",
         "",
         "",
         "",
         "",
         "",
         "",
         "",
         "",
         "",
         "",
         "",
         "",
         "",
         "Spain (5)",
         "",
         "Netherlands",
         "D",
         "3",
         "1",
         "0",
         "2",
         "12",
         "9",
         "3",
         "3"
        ],
        [
         "Switzerland",
         "A",
         "3",
         "2",
         "0",
         "1",
         "7",
         "6",
         "1",
         "6",
         "",
         "",
         "",
         "Italy (0)",
         "",
         "",
         "",
         "",
         "",
         "",
         "",
         "",
         "",
         "",
         "Spain (5)",
         "",
         "",
         "",
         "Wales",
         "D",
         "3",
         "3",
         "0",
         "0",
         "13",
         "8",
         "5",
         "9"
        ],
        [
         "",
         "",
         "",
         "",
         "",
         "",
         "",
         "",
         "",
         "",
         "",
         "",
         "",
         "Germany (5)",
         "",
         "",
         "",
         "",
         "",
         "",
         "",
         "",
         "",
         "",
         "Austria (1)",
         "",
         "",
         "",
         "",
         "",
         "",
         "",
         "",
         "",
         "",
         "",
         "",
         ""
        ],
        [
         "Italy",
         "B",
         "3",
         "2",
         "1",
         "0",
         "11",
         "8",
         "3",
         "7",
         "Germany (4)",
         "",
         "",
         "",
         "",
         "",
         "",
         "",
         "Germany (5)",
         "",
         "",
         "",
         "",
         "",
         "",
         "",
         "Austria (4)",
         "",
         "Slovakia",
         "E",
         "3",
         "3",
         "0",
         "0",
         "11",
         "8",
         "3",
         "9"
        ],
        [
         "Croatia",
         "B",
         "3",
         "1",
         "1",
         "1",
         "12",
         "9",
         "3",
         "4",
         "England (1)",
         "",
         "",
         "",
         "",
         "",
         "",
         "",
         "Spain (0)",
         "",
         "",
         "",
         "",
         "",
         "",
         "",
         "Turkey (0)",
         "",
         "Belgium",
         "E",
         "3",
         "2",
         "0",
         "1",
         "11",
         "6",
         "5",
         "6"
        ],
        [
         "Spain",
         "B",
         "3",
         "1",
         "1",
         "1",
         "7",
         "10",
         "-3",
         "4",
         "",
         "",
         "",
         "",
         "",
         "",
         "Spain (3)",
         "",
         "",
         "",
         "",
         "",
         "",
         "",
         "",
         "",
         "",
         "",
         "Romania",
         "E",
         "3",
         "0",
         "0",
         "3",
         "3",
         "10",
         "-7",
         "0"
        ],
        [
         "Albania",
         "B",
         "3",
         "0",
         "1",
         "2",
         "10",
         "13",
         "-3",
         "1",
         "",
         "",
         "",
         "",
         "",
         "",
         "Croatia (1)",
         "",
         "",
         "",
         "",
         "",
         "",
         "",
         "",
         "",
         "",
         "",
         "Poland",
         "E",
         "3",
         "1",
         "0",
         "2",
         "6",
         "7",
         "-1",
         "3"
        ],
        [
         "",
         "",
         "",
         "",
         "",
         "",
         "",
         "",
         "",
         "",
         "Czech Republic (2)",
         "",
         "",
         "",
         "",
         "",
         "",
         "",
         "",
         "",
         "",
         "",
         "",
         "",
         "",
         "",
         "Serbia (5)",
         "",
         "",
         "",
         "",
         "",
         "",
         "",
         "",
         "",
         "",
         ""
        ],
        [
         "Serbia",
         "C",
         "3",
         "2",
         "1",
         "0",
         "10",
         "3",
         "7",
         "7",
         "Denmark (0)",
         "",
         "",
         "",
         "",
         "",
         "",
         "",
         "",
         "",
         "",
         "",
         "Germany (5)",
         "",
         "",
         "",
         "Netherlands (5)",
         "",
         "Portugal",
         "F",
         "3",
         "0",
         "1",
         "2",
         "6",
         "9",
         "-3",
         "1"
        ],
        [
         "Denmark",
         "C",
         "3",
         "1",
         "1",
         "1",
         "8",
         "10",
         "-2",
         "4",
         "",
         "",
         "",
         "Czech Republic (2)",
         "",
         "",
         "",
         "",
         "",
         "",
         "",
         "",
         "Austria (4)",
         "",
         "Serbia (0)",
         "",
         "",
         "",
         "Turkey",
         "F",
         "3",
         "1",
         "1",
         "1",
         "7",
         "9",
         "-2",
         "4"
        ],
        [
         "Slovenia",
         "C",
         "3",
         "0",
         "1",
         "2",
         "7",
         "12",
         "-5",
         "1",
         "",
         "",
         "",
         "Austria (5)",
         "",
         "",
         "",
         "",
         "",
         "",
         "",
         "",
         "",
         "",
         "Croatia (1)",
         "",
         "",
         "",
         "Kazakhstan",
         "F",
         "3",
         "1",
         "0",
         "2",
         "13",
         "13",
         "0",
         "3"
        ],
        [
         "England",
         "C",
         "3",
         "1",
         "1",
         "1",
         "8",
         "8",
         "0",
         "4",
         "Austria (5)",
         "",
         "",
         "",
         "",
         "",
         "",
         "",
         "",
         "",
         "",
         "",
         "",
         "",
         "",
         "",
         "Switzerland (0)",
         "",
         "Czech Republic",
         "F",
         "3",
         "3",
         "0",
         "0",
         "14",
         "9",
         "5",
         "9"
        ],
        [
         "",
         "",
         "",
         "",
         "",
         "",
         "",
         "",
         "",
         "",
         "Belgium (4)",
         "",
         "",
         "",
         "",
         "",
         "",
         "",
         "",
         "",
         "",
         "",
         "",
         "",
         "",
         "",
         "Croatia (5)",
         "",
         "",
         "",
         "",
         "",
         "",
         "",
         "",
         "",
         "",
         ""
        ],
        [
         "",
         "",
         "",
         "",
         "",
         "",
         "",
         "",
         "",
         "",
         "",
         "",
         "",
         "",
         "",
         "",
         "",
         "",
         "",
         "",
         "",
         "",
         "",
         "",
         "",
         "",
         "",
         "",
         "",
         "",
         "",
         "",
         "",
         "",
         "",
         "",
         "",
         ""
        ],
        [
         "",
         "",
         "",
         "",
         "",
         "",
         "",
         "",
         "",
         "",
         "",
         "",
         "",
         "",
         "",
         "",
         "",
         "",
         "",
         "",
         "",
         "",
         "",
         "",
         "",
         "",
         "",
         "",
         "",
         "",
         "",
         "",
         "",
         "",
         "",
         "",
         "",
         ""
        ],
        [
         "",
         "",
         "",
         "",
         "",
         "",
         "",
         "",
         "",
         "",
         "",
         "",
         "",
         "",
         "",
         "",
         "",
         "",
         "",
         "",
         "",
         "",
         "",
         "",
         "",
         "",
         "",
         "",
         "",
         "",
         "",
         "",
         "",
         "",
         "",
         "",
         "",
         ""
        ],
        [
         "",
         "",
         "",
         "",
         "",
         "",
         "",
         "",
         "",
         "",
         "",
         "",
         "",
         "",
         "",
         "",
         "",
         "",
         "",
         "",
         "",
         "",
         "",
         "",
         "",
         "",
         "",
         "",
         "",
         "",
         "",
         "",
         "",
         "",
         "",
         "",
         "",
         ""
        ]
       ],
       "datasetInfos": [],
       "dbfsResultPath": null,
       "isJsonSchema": true,
       "metadata": {},
       "overflow": false,
       "plotOptions": {
        "customPlotOptions": {},
        "displayType": "table",
        "pivotAggregation": null,
        "pivotColumns": null,
        "xColumns": null,
        "yColumns": null
       },
       "removedWidgets": [],
       "schema": [
        {
         "metadata": "{}",
         "name": "Teamsg1",
         "type": "\"string\""
        },
        {
         "metadata": "{}",
         "name": "Groupg1",
         "type": "\"string\""
        },
        {
         "metadata": "{}",
         "name": "Pldg1",
         "type": "\"string\""
        },
        {
         "metadata": "{}",
         "name": "Wg1",
         "type": "\"string\""
        },
        {
         "metadata": "{}",
         "name": "Dg1",
         "type": "\"string\""
        },
        {
         "metadata": "{}",
         "name": "Lg1",
         "type": "\"string\""
        },
        {
         "metadata": "{}",
         "name": "GFg1",
         "type": "\"string\""
        },
        {
         "metadata": "{}",
         "name": "GAg1",
         "type": "\"string\""
        },
        {
         "metadata": "{}",
         "name": "GDg1",
         "type": "\"string\""
        },
        {
         "metadata": "{}",
         "name": "Ptsg1",
         "type": "\"string\""
        },
        {
         "metadata": "{}",
         "name": "Round_of_16",
         "type": "\"string\""
        },
        {
         "metadata": "{}",
         "name": "rest",
         "type": "\"string\""
        },
        {
         "metadata": "{}",
         "name": "Quater_Finalq2q2q2",
         "type": "\"string\""
        },
        {
         "metadata": "{}",
         "name": "quarter_finalq2q2q2",
         "type": "\"string\""
        },
        {
         "metadata": "{}",
         "name": "restq2q2q2",
         "type": "\"string\""
        },
        {
         "metadata": "{}",
         "name": "Semi_Finals1s1s1",
         "type": "\"string\""
        },
        {
         "metadata": "{}",
         "name": "semi_finals1s1s1",
         "type": "\"string\""
        },
        {
         "metadata": "{}",
         "name": "rests1s1s1",
         "type": "\"string\""
        },
        {
         "metadata": "{}",
         "name": "Finalfff",
         "type": "\"string\""
        },
        {
         "metadata": "{}",
         "name": "spacefff",
         "type": "\"string\""
        },
        {
         "metadata": "{}",
         "name": "Semi_Finals2s2s2",
         "type": "\"string\""
        },
        {
         "metadata": "{}",
         "name": "rests2s2s2",
         "type": "\"string\""
        },
        {
         "metadata": "{}",
         "name": "semi_finals2s2s2",
         "type": "\"string\""
        },
        {
         "metadata": "{}",
         "name": "Quater_Finalq1q1q1",
         "type": "\"string\""
        },
        {
         "metadata": "{}",
         "name": "quarter_finalq1q1q1",
         "type": "\"string\""
        },
        {
         "metadata": "{}",
         "name": "restq1q1q1",
         "type": "\"string\""
        },
        {
         "metadata": "{}",
         "name": "Round_of_16r2r2r2",
         "type": "\"string\""
        },
        {
         "metadata": "{}",
         "name": "restr2r2r2",
         "type": "\"string\""
        },
        {
         "metadata": "{}",
         "name": "Teamsg2",
         "type": "\"string\""
        },
        {
         "metadata": "{}",
         "name": "Groupg2",
         "type": "\"string\""
        },
        {
         "metadata": "{}",
         "name": "Pldg2",
         "type": "\"string\""
        },
        {
         "metadata": "{}",
         "name": "Wg2",
         "type": "\"string\""
        },
        {
         "metadata": "{}",
         "name": "Dg2",
         "type": "\"string\""
        },
        {
         "metadata": "{}",
         "name": "Lg2",
         "type": "\"string\""
        },
        {
         "metadata": "{}",
         "name": "GFg2",
         "type": "\"string\""
        },
        {
         "metadata": "{}",
         "name": "GAg2",
         "type": "\"string\""
        },
        {
         "metadata": "{}",
         "name": "GDg2",
         "type": "\"string\""
        },
        {
         "metadata": "{}",
         "name": "Ptsg2",
         "type": "\"string\""
        }
       ],
       "type": "table"
      }
     },
     "output_type": "display_data"
    }
   ],
   "source": [
    "left_side_qf.columns = [f\"{col} q2\" for col in left_side_qf.columns]\n",
    "\n",
    "merged_df = pd.concat([left_side_r16, left_side_qf], axis=1)\n",
    "\n",
    "left_side_sf.columns = [f\"{col} s1\" for col in left_side_sf.columns]\n",
    "merged_df = pd.concat([merged_df, left_side_sf], axis=1)\n",
    "\n",
    "visualize_final.columns = [f\"{col} f\" for col in visualize_final.columns]\n",
    "merged_df = pd.concat([merged_df, visualize_final], axis=1)\n",
    "\n",
    "right_side_sf.columns = [f\"{col} s2\" for col in right_side_sf.columns]\n",
    "\n",
    "merged_df = pd.concat([merged_df, right_side_sf], axis=1)\n",
    "\n",
    "\n",
    "\n",
    "right_side_qf.columns = [f\"{col} q1\" for col in right_side_qf.columns]\n",
    "# Concatenate the DataFrames\n",
    "merged_df = pd.concat([merged_df, right_side_qf], axis=1)\n",
    "\n",
    "right_side_r16.columns = [f\"{col} r2\" for col in right_side_r16.columns]\n",
    "\n",
    "# Concatenate the DataFrames\n",
    "merged_df = pd.concat([merged_df,right_side_r16], axis=1)\n",
    "\n",
    "left_table.columns = [f\"{col} g1\" for col in left_table.columns]\n",
    "right_table.columns = [f\"{col} g2\" for col in right_table.columns]\n",
    "\n",
    "# Concatenate the DataFrames\n",
    "merged_df = pd.concat([left_table,merged_df, right_table], axis=1)\n",
    "\n",
    "merged_df.fillna('', inplace=True)\n",
    "\n",
    "display(merged_df)"
   ]
  },
  {
   "cell_type": "code",
   "execution_count": 0,
   "metadata": {
    "application/vnd.databricks.v1+cell": {
     "cellMetadata": {},
     "inputWidgets": {},
     "nuid": "a3d4cfb5-1048-4a83-8b4d-1ffb553ce7ed",
     "showTitle": false,
     "title": ""
    }
   },
   "outputs": [],
   "source": []
  }
 ],
 "metadata": {
  "application/vnd.databricks.v1+notebook": {
   "dashboards": [],
   "language": "python",
   "notebookMetadata": {
    "mostRecentlyExecutedCommandWithImplicitDF": {
     "commandId": 1028520809520047,
     "dataframes": [
      "_sqldf"
     ]
    },
    "pythonIndentUnit": 4
   },
   "notebookName": "euro cup 2024",
   "widgets": {}
  }
 },
 "nbformat": 4,
 "nbformat_minor": 0
}
