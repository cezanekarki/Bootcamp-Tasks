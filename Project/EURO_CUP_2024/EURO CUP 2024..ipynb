{
 "cells": [
  {
   "cell_type": "code",
   "execution_count": 0,
   "metadata": {
    "application/vnd.databricks.v1+cell": {
     "cellMetadata": {
      "byteLimit": 2048000,
      "rowLimit": 10000
     },
     "inputWidgets": {},
     "nuid": "4e684dee-5063-42f0-af95-af830c18b37c",
     "showTitle": false,
     "title": ""
    }
   },
   "outputs": [
    {
     "output_type": "stream",
     "name": "stdout",
     "output_type": "stream",
     "text": [
      "Out[1]: True"
     ]
    }
   ],
   "source": [
    "%python\n",
    "dbutils.fs.rm(\"dbfs:/user/hive/warehouse/team\", True)"
   ]
  },
  {
   "cell_type": "markdown",
   "metadata": {
    "application/vnd.databricks.v1+cell": {
     "cellMetadata": {
      "byteLimit": 2048000,
      "rowLimit": 10000
     },
     "inputWidgets": {},
     "nuid": "7e697eee-2e4c-49b9-af1e-0c55b7e80d3b",
     "showTitle": false,
     "title": ""
    }
   },
   "source": [
    "# UEFA EURO 2024 play-off draw\n",
    "\n",
    "- Semi-finals – Path C: Georgia (1) vs Luxembourg (4), Greece (2) vs Kazakhstan (3)\n",
    "\n",
    "- Semi-finals – Path B: Israel (1) vs Iceland (4), Bosnia and Herzegovina (2) vs Ukraine (3)\n",
    "\n",
    "- Semi-finals – Path A: Poland (1) vs Estonia (4), Wales (2) vs Finland (3)\n",
    "\n",
    "*************************************************************************************************************************************\n",
    "\n",
    "#### Final Path C: Georgia / Luxembourg vs Greece / Kazakhstan \n",
    "\n",
    "I select \"Greece\" from path 'C'\n",
    "\n",
    "*************************************************************************************************************************************\n",
    "#### Final Path B: Bosnia and Herzegovina / Ukraine vs Israel / Iceland                  \n",
    "\n",
    "I select \"Iceland\" from path 'B'\n",
    "\n",
    "*************************************************************************************************************************************\n",
    "#### Final Path A: Wales / Finland vs Poland / Estonia \n",
    "\n",
    "I select \"Poland\" from path 'A'"
   ]
  },
  {
   "cell_type": "markdown",
   "metadata": {
    "application/vnd.databricks.v1+cell": {
     "cellMetadata": {
      "byteLimit": 2048000,
      "rowLimit": 10000
     },
     "inputWidgets": {},
     "nuid": "f621c85c-717f-4add-96ac-af49121d899e",
     "showTitle": false,
     "title": ""
    }
   },
   "source": [
    "### CREATE TABLE SCHEMA"
   ]
  },
  {
   "cell_type": "code",
   "execution_count": 0,
   "metadata": {
    "application/vnd.databricks.v1+cell": {
     "cellMetadata": {
      "byteLimit": 2048000,
      "implicitDf": true,
      "rowLimit": 10000
     },
     "inputWidgets": {},
     "nuid": "8103f080-9cfc-4f92-8f0b-f5560270ac98",
     "showTitle": false,
     "title": ""
    }
   },
   "outputs": [
    {
     "output_type": "display_data",
     "data": {
      "text/html": [
       "<style scoped>\n",
       "  .table-result-container {\n",
       "    max-height: 300px;\n",
       "    overflow: auto;\n",
       "  }\n",
       "  table, th, td {\n",
       "    border: 1px solid black;\n",
       "    border-collapse: collapse;\n",
       "  }\n",
       "  th, td {\n",
       "    padding: 5px;\n",
       "  }\n",
       "  th {\n",
       "    text-align: left;\n",
       "  }\n",
       "</style><div class='table-result-container'><table class='table-result'><thead style='background-color: white'><tr></tr></thead><tbody></tbody></table></div>"
      ]
     },
     "metadata": {
      "application/vnd.databricks.v1+output": {
       "addedWidgets": {},
       "aggData": [],
       "aggError": "",
       "aggOverflow": false,
       "aggSchema": [],
       "aggSeriesLimitReached": false,
       "aggType": "",
       "arguments": {},
       "columnCustomDisplayInfos": {},
       "data": [],
       "datasetInfos": [],
       "dbfsResultPath": null,
       "isJsonSchema": true,
       "metadata": {},
       "overflow": false,
       "plotOptions": {
        "customPlotOptions": {},
        "displayType": "table",
        "pivotAggregation": null,
        "pivotColumns": null,
        "xColumns": null,
        "yColumns": null
       },
       "removedWidgets": [],
       "schema": [],
       "type": "table"
      }
     },
     "output_type": "display_data"
    }
   ],
   "source": [
    "%sql\n",
    "CREATE OR REPLACE TABLE team(name VARCHAR(15), grp VARCHAR(15));\n"
   ]
  },
  {
   "cell_type": "markdown",
   "metadata": {
    "application/vnd.databricks.v1+cell": {
     "cellMetadata": {
      "byteLimit": 2048000,
      "rowLimit": 10000
     },
     "inputWidgets": {},
     "nuid": "3985ee47-709b-4ce7-896d-199641fb922e",
     "showTitle": false,
     "title": ""
    }
   },
   "source": [
    "### INSERT ALL TEAMS AND THEIR RESPECTED GROUPS IN IT"
   ]
  },
  {
   "cell_type": "code",
   "execution_count": 0,
   "metadata": {
    "application/vnd.databricks.v1+cell": {
     "cellMetadata": {
      "byteLimit": 2048000,
      "implicitDf": true,
      "rowLimit": 10000
     },
     "inputWidgets": {},
     "nuid": "4ff02667-30ee-432a-8e51-c59142438649",
     "showTitle": false,
     "title": ""
    }
   },
   "outputs": [
    {
     "output_type": "display_data",
     "data": {
      "text/html": [
       "<style scoped>\n",
       "  .table-result-container {\n",
       "    max-height: 300px;\n",
       "    overflow: auto;\n",
       "  }\n",
       "  table, th, td {\n",
       "    border: 1px solid black;\n",
       "    border-collapse: collapse;\n",
       "  }\n",
       "  th, td {\n",
       "    padding: 5px;\n",
       "  }\n",
       "  th {\n",
       "    text-align: left;\n",
       "  }\n",
       "</style><div class='table-result-container'><table class='table-result'><thead style='background-color: white'><tr><th>num_affected_rows</th><th>num_inserted_rows</th></tr></thead><tbody><tr><td>24</td><td>24</td></tr></tbody></table></div>"
      ]
     },
     "metadata": {
      "application/vnd.databricks.v1+output": {
       "addedWidgets": {},
       "aggData": [],
       "aggError": "",
       "aggOverflow": false,
       "aggSchema": [],
       "aggSeriesLimitReached": false,
       "aggType": "",
       "arguments": {},
       "columnCustomDisplayInfos": {},
       "data": [
        [
         24,
         24
        ]
       ],
       "datasetInfos": [],
       "dbfsResultPath": null,
       "isJsonSchema": true,
       "metadata": {},
       "overflow": false,
       "plotOptions": {
        "customPlotOptions": {},
        "displayType": "table",
        "pivotAggregation": null,
        "pivotColumns": null,
        "xColumns": null,
        "yColumns": null
       },
       "removedWidgets": [],
       "schema": [
        {
         "metadata": "{}",
         "name": "num_affected_rows",
         "type": "\"long\""
        },
        {
         "metadata": "{}",
         "name": "num_inserted_rows",
         "type": "\"long\""
        }
       ],
       "type": "table"
      }
     },
     "output_type": "display_data"
    }
   ],
   "source": [
    "%sql\n",
    "INSERT INTO team VALUES\n",
    "    ('Germany','A'),\n",
    "    ('Scotland','A'),\n",
    "    ('Hungary','A'),\n",
    "    ('Switzerland','A'),\n",
    "    ('Spain','B'),\n",
    "    ('Italy','B'),\n",
    "    ('Croatia','B'),\n",
    "    ('Albania','B'),\n",
    "    ('England','C'),\n",
    "    ('Slovenia','C'),\n",
    "    ('Serbia','C'),\n",
    "    ('Denmark','C'),\n",
    "    ('Netherlands','D'),\n",
    "    ('Austria','D'),\n",
    "    ('France','D'),\n",
    "    ('Poland','D'),\n",
    "    ('Belgium','E'),\n",
    "    ('Slovakia','E'),\n",
    "    ('Romania','E'),\n",
    "    ('Iceland','E'),\n",
    "    ('Turkiye','F'),\n",
    "    ('Portugal','F'),\n",
    "    ('Czechia','F'),\n",
    "    ('Greece','F');\n",
    "    "
   ]
  },
  {
   "cell_type": "markdown",
   "metadata": {
    "application/vnd.databricks.v1+cell": {
     "cellMetadata": {
      "byteLimit": 2048000,
      "rowLimit": 10000
     },
     "inputWidgets": {},
     "nuid": "d976d8c1-af2c-4ad8-85a1-f05cae6a941e",
     "showTitle": false,
     "title": ""
    }
   },
   "source": [
    "### HERE IS OUR INPUT TABLE OF 24 TEAMS AS PER EURO CUP 2024 FORMAT"
   ]
  },
  {
   "cell_type": "code",
   "execution_count": 0,
   "metadata": {
    "application/vnd.databricks.v1+cell": {
     "cellMetadata": {
      "byteLimit": 2048000,
      "implicitDf": true,
      "rowLimit": 10000
     },
     "inputWidgets": {},
     "nuid": "6e5a6c4d-e0fc-48b1-995a-5e4d52d09707",
     "showTitle": false,
     "title": ""
    }
   },
   "outputs": [
    {
     "output_type": "display_data",
     "data": {
      "text/html": [
       "<style scoped>\n",
       "  .table-result-container {\n",
       "    max-height: 300px;\n",
       "    overflow: auto;\n",
       "  }\n",
       "  table, th, td {\n",
       "    border: 1px solid black;\n",
       "    border-collapse: collapse;\n",
       "  }\n",
       "  th, td {\n",
       "    padding: 5px;\n",
       "  }\n",
       "  th {\n",
       "    text-align: left;\n",
       "  }\n",
       "</style><div class='table-result-container'><table class='table-result'><thead style='background-color: white'><tr><th>name</th><th>grp</th></tr></thead><tbody><tr><td>Germany</td><td>A</td></tr><tr><td>Scotland</td><td>A</td></tr><tr><td>Hungary</td><td>A</td></tr><tr><td>Switzerland</td><td>A</td></tr><tr><td>Spain</td><td>B</td></tr><tr><td>Italy</td><td>B</td></tr><tr><td>Croatia</td><td>B</td></tr><tr><td>Albania</td><td>B</td></tr><tr><td>England</td><td>C</td></tr><tr><td>Slovenia</td><td>C</td></tr><tr><td>Serbia</td><td>C</td></tr><tr><td>Denmark</td><td>C</td></tr><tr><td>Netherlands</td><td>D</td></tr><tr><td>Austria</td><td>D</td></tr><tr><td>France</td><td>D</td></tr><tr><td>Poland</td><td>D</td></tr><tr><td>Belgium</td><td>E</td></tr><tr><td>Slovakia</td><td>E</td></tr><tr><td>Romania</td><td>E</td></tr><tr><td>Iceland</td><td>E</td></tr><tr><td>Turkiye</td><td>F</td></tr><tr><td>Portugal</td><td>F</td></tr><tr><td>Czechia</td><td>F</td></tr><tr><td>Greece</td><td>F</td></tr></tbody></table></div>"
      ]
     },
     "metadata": {
      "application/vnd.databricks.v1+output": {
       "addedWidgets": {},
       "aggData": [],
       "aggError": "",
       "aggOverflow": false,
       "aggSchema": [],
       "aggSeriesLimitReached": false,
       "aggType": "",
       "arguments": {},
       "columnCustomDisplayInfos": {},
       "data": [
        [
         "Germany",
         "A"
        ],
        [
         "Scotland",
         "A"
        ],
        [
         "Hungary",
         "A"
        ],
        [
         "Switzerland",
         "A"
        ],
        [
         "Spain",
         "B"
        ],
        [
         "Italy",
         "B"
        ],
        [
         "Croatia",
         "B"
        ],
        [
         "Albania",
         "B"
        ],
        [
         "England",
         "C"
        ],
        [
         "Slovenia",
         "C"
        ],
        [
         "Serbia",
         "C"
        ],
        [
         "Denmark",
         "C"
        ],
        [
         "Netherlands",
         "D"
        ],
        [
         "Austria",
         "D"
        ],
        [
         "France",
         "D"
        ],
        [
         "Poland",
         "D"
        ],
        [
         "Belgium",
         "E"
        ],
        [
         "Slovakia",
         "E"
        ],
        [
         "Romania",
         "E"
        ],
        [
         "Iceland",
         "E"
        ],
        [
         "Turkiye",
         "F"
        ],
        [
         "Portugal",
         "F"
        ],
        [
         "Czechia",
         "F"
        ],
        [
         "Greece",
         "F"
        ]
       ],
       "datasetInfos": [],
       "dbfsResultPath": null,
       "isJsonSchema": true,
       "metadata": {},
       "overflow": false,
       "plotOptions": {
        "customPlotOptions": {},
        "displayType": "table",
        "pivotAggregation": null,
        "pivotColumns": null,
        "xColumns": null,
        "yColumns": null
       },
       "removedWidgets": [],
       "schema": [
        {
         "metadata": "{\"__CHAR_VARCHAR_TYPE_STRING\":\"varchar(15)\"}",
         "name": "name",
         "type": "\"string\""
        },
        {
         "metadata": "{\"__CHAR_VARCHAR_TYPE_STRING\":\"varchar(15)\"}",
         "name": "grp",
         "type": "\"string\""
        }
       ],
       "type": "table"
      }
     },
     "output_type": "display_data"
    }
   ],
   "source": [
    "%sql\n",
    "SELECT * FROM team;\n"
   ]
  },
  {
   "cell_type": "markdown",
   "metadata": {
    "application/vnd.databricks.v1+cell": {
     "cellMetadata": {
      "byteLimit": 2048000,
      "rowLimit": 10000
     },
     "inputWidgets": {},
     "nuid": "73c09dae-4669-4b1b-8f09-ccdbc0ae0e84",
     "showTitle": false,
     "title": ""
    }
   },
   "source": [
    "### STAGE 1 - GROUP STAGE MATCHES (36 MATCHES OF 24 TEAMS. EACH TEAM PLAYED 3 MATCH IN GROUP)"
   ]
  },
  {
   "cell_type": "code",
   "execution_count": 0,
   "metadata": {
    "application/vnd.databricks.v1+cell": {
     "cellMetadata": {
      "byteLimit": 2048000,
      "implicitDf": true,
      "rowLimit": 10000
     },
     "inputWidgets": {},
     "nuid": "920a0ee8-2934-41dc-bcb6-0d549cac1b29",
     "showTitle": false,
     "title": ""
    }
   },
   "outputs": [
    {
     "output_type": "display_data",
     "data": {
      "text/html": [
       "<style scoped>\n",
       "  .table-result-container {\n",
       "    max-height: 300px;\n",
       "    overflow: auto;\n",
       "  }\n",
       "  table, th, td {\n",
       "    border: 1px solid black;\n",
       "    border-collapse: collapse;\n",
       "  }\n",
       "  th, td {\n",
       "    padding: 5px;\n",
       "  }\n",
       "  th {\n",
       "    text-align: left;\n",
       "  }\n",
       "</style><div class='table-result-container'><table class='table-result'><thead style='background-color: white'><tr><th>match_fixtures</th><th>team1</th><th>grp1</th><th>team2</th><th>grp2</th><th>team1_score</th><th>team2_score</th><th>team1pts</th><th>team2pts</th></tr></thead><tbody><tr><td>Scotland VS Hungary</td><td>Scotland</td><td>A</td><td>Hungary</td><td>A</td><td>3</td><td>0</td><td>3</td><td>0</td></tr><tr><td>Scotland VS Germany</td><td>Scotland</td><td>A</td><td>Germany</td><td>A</td><td>4</td><td>3</td><td>3</td><td>0</td></tr><tr><td>Hungary VS Germany</td><td>Hungary</td><td>A</td><td>Germany</td><td>A</td><td>0</td><td>2</td><td>0</td><td>3</td></tr><tr><td>Switzerland VS Hungary</td><td>Switzerland</td><td>A</td><td>Hungary</td><td>A</td><td>3</td><td>4</td><td>0</td><td>3</td></tr><tr><td>Switzerland VS Scotland</td><td>Switzerland</td><td>A</td><td>Scotland</td><td>A</td><td>0</td><td>0</td><td>1</td><td>1</td></tr><tr><td>Switzerland VS Germany</td><td>Switzerland</td><td>A</td><td>Germany</td><td>A</td><td>1</td><td>2</td><td>0</td><td>3</td></tr><tr><td>Spain VS Albania</td><td>Spain</td><td>B</td><td>Albania</td><td>B</td><td>0</td><td>2</td><td>0</td><td>3</td></tr><tr><td>Spain VS Croatia</td><td>Spain</td><td>B</td><td>Croatia</td><td>B</td><td>0</td><td>4</td><td>0</td><td>3</td></tr><tr><td>Spain VS Italy</td><td>Spain</td><td>B</td><td>Italy</td><td>B</td><td>2</td><td>0</td><td>3</td><td>0</td></tr><tr><td>Italy VS Albania</td><td>Italy</td><td>B</td><td>Albania</td><td>B</td><td>2</td><td>3</td><td>0</td><td>3</td></tr><tr><td>Italy VS Croatia</td><td>Italy</td><td>B</td><td>Croatia</td><td>B</td><td>4</td><td>1</td><td>3</td><td>0</td></tr><tr><td>Croatia VS Albania</td><td>Croatia</td><td>B</td><td>Albania</td><td>B</td><td>1</td><td>2</td><td>0</td><td>3</td></tr><tr><td>England VS Denmark</td><td>England</td><td>C</td><td>Denmark</td><td>C</td><td>3</td><td>1</td><td>3</td><td>0</td></tr><tr><td>Slovenia VS Denmark</td><td>Slovenia</td><td>C</td><td>Denmark</td><td>C</td><td>3</td><td>4</td><td>0</td><td>3</td></tr><tr><td>Slovenia VS Serbia</td><td>Slovenia</td><td>C</td><td>Serbia</td><td>C</td><td>4</td><td>2</td><td>3</td><td>0</td></tr><tr><td>Slovenia VS England</td><td>Slovenia</td><td>C</td><td>England</td><td>C</td><td>1</td><td>1</td><td>1</td><td>1</td></tr><tr><td>Serbia VS Denmark</td><td>Serbia</td><td>C</td><td>Denmark</td><td>C</td><td>0</td><td>0</td><td>1</td><td>1</td></tr><tr><td>Serbia VS England</td><td>Serbia</td><td>C</td><td>England</td><td>C</td><td>1</td><td>3</td><td>0</td><td>3</td></tr><tr><td>Netherlands VS France</td><td>Netherlands</td><td>D</td><td>France</td><td>D</td><td>0</td><td>4</td><td>0</td><td>3</td></tr><tr><td>Netherlands VS Austria</td><td>Netherlands</td><td>D</td><td>Austria</td><td>D</td><td>4</td><td>2</td><td>3</td><td>0</td></tr><tr><td>France VS Austria</td><td>France</td><td>D</td><td>Austria</td><td>D</td><td>3</td><td>0</td><td>3</td><td>0</td></tr><tr><td>Poland VS France</td><td>Poland</td><td>D</td><td>France</td><td>D</td><td>4</td><td>3</td><td>3</td><td>0</td></tr><tr><td>Poland VS Austria</td><td>Poland</td><td>D</td><td>Austria</td><td>D</td><td>3</td><td>1</td><td>3</td><td>0</td></tr><tr><td>Poland VS Netherlands</td><td>Poland</td><td>D</td><td>Netherlands</td><td>D</td><td>1</td><td>1</td><td>1</td><td>1</td></tr><tr><td>Slovakia VS Iceland</td><td>Slovakia</td><td>E</td><td>Iceland</td><td>E</td><td>4</td><td>1</td><td>3</td><td>0</td></tr><tr><td>Slovakia VS Romania</td><td>Slovakia</td><td>E</td><td>Romania</td><td>E</td><td>4</td><td>0</td><td>3</td><td>0</td></tr><tr><td>Slovakia VS Belgium</td><td>Slovakia</td><td>E</td><td>Belgium</td><td>E</td><td>3</td><td>4</td><td>0</td><td>3</td></tr><tr><td>Romania VS Iceland</td><td>Romania</td><td>E</td><td>Iceland</td><td>E</td><td>0</td><td>0</td><td>1</td><td>1</td></tr><tr><td>Romania VS Belgium</td><td>Romania</td><td>E</td><td>Belgium</td><td>E</td><td>4</td><td>3</td><td>3</td><td>0</td></tr><tr><td>Iceland VS Belgium</td><td>Iceland</td><td>E</td><td>Belgium</td><td>E</td><td>4</td><td>1</td><td>3</td><td>0</td></tr><tr><td>Turkiye VS Greece</td><td>Turkiye</td><td>F</td><td>Greece</td><td>F</td><td>4</td><td>0</td><td>3</td><td>0</td></tr><tr><td>Turkiye VS Czechia</td><td>Turkiye</td><td>F</td><td>Czechia</td><td>F</td><td>4</td><td>0</td><td>3</td><td>0</td></tr><tr><td>Turkiye VS Portugal</td><td>Turkiye</td><td>F</td><td>Portugal</td><td>F</td><td>4</td><td>0</td><td>3</td><td>0</td></tr><tr><td>Portugal VS Greece</td><td>Portugal</td><td>F</td><td>Greece</td><td>F</td><td>1</td><td>0</td><td>3</td><td>0</td></tr><tr><td>Portugal VS Czechia</td><td>Portugal</td><td>F</td><td>Czechia</td><td>F</td><td>0</td><td>4</td><td>0</td><td>3</td></tr><tr><td>Greece VS Czechia</td><td>Greece</td><td>F</td><td>Czechia</td><td>F</td><td>1</td><td>1</td><td>1</td><td>1</td></tr></tbody></table></div>"
      ]
     },
     "metadata": {
      "application/vnd.databricks.v1+output": {
       "addedWidgets": {},
       "aggData": [],
       "aggError": "",
       "aggOverflow": false,
       "aggSchema": [],
       "aggSeriesLimitReached": false,
       "aggType": "",
       "arguments": {},
       "columnCustomDisplayInfos": {},
       "data": [
        [
         "Scotland VS Hungary",
         "Scotland",
         "A",
         "Hungary",
         "A",
         3,
         0,
         3,
         0
        ],
        [
         "Scotland VS Germany",
         "Scotland",
         "A",
         "Germany",
         "A",
         4,
         3,
         3,
         0
        ],
        [
         "Hungary VS Germany",
         "Hungary",
         "A",
         "Germany",
         "A",
         0,
         2,
         0,
         3
        ],
        [
         "Switzerland VS Hungary",
         "Switzerland",
         "A",
         "Hungary",
         "A",
         3,
         4,
         0,
         3
        ],
        [
         "Switzerland VS Scotland",
         "Switzerland",
         "A",
         "Scotland",
         "A",
         0,
         0,
         1,
         1
        ],
        [
         "Switzerland VS Germany",
         "Switzerland",
         "A",
         "Germany",
         "A",
         1,
         2,
         0,
         3
        ],
        [
         "Spain VS Albania",
         "Spain",
         "B",
         "Albania",
         "B",
         0,
         2,
         0,
         3
        ],
        [
         "Spain VS Croatia",
         "Spain",
         "B",
         "Croatia",
         "B",
         0,
         4,
         0,
         3
        ],
        [
         "Spain VS Italy",
         "Spain",
         "B",
         "Italy",
         "B",
         2,
         0,
         3,
         0
        ],
        [
         "Italy VS Albania",
         "Italy",
         "B",
         "Albania",
         "B",
         2,
         3,
         0,
         3
        ],
        [
         "Italy VS Croatia",
         "Italy",
         "B",
         "Croatia",
         "B",
         4,
         1,
         3,
         0
        ],
        [
         "Croatia VS Albania",
         "Croatia",
         "B",
         "Albania",
         "B",
         1,
         2,
         0,
         3
        ],
        [
         "England VS Denmark",
         "England",
         "C",
         "Denmark",
         "C",
         3,
         1,
         3,
         0
        ],
        [
         "Slovenia VS Denmark",
         "Slovenia",
         "C",
         "Denmark",
         "C",
         3,
         4,
         0,
         3
        ],
        [
         "Slovenia VS Serbia",
         "Slovenia",
         "C",
         "Serbia",
         "C",
         4,
         2,
         3,
         0
        ],
        [
         "Slovenia VS England",
         "Slovenia",
         "C",
         "England",
         "C",
         1,
         1,
         1,
         1
        ],
        [
         "Serbia VS Denmark",
         "Serbia",
         "C",
         "Denmark",
         "C",
         0,
         0,
         1,
         1
        ],
        [
         "Serbia VS England",
         "Serbia",
         "C",
         "England",
         "C",
         1,
         3,
         0,
         3
        ],
        [
         "Netherlands VS France",
         "Netherlands",
         "D",
         "France",
         "D",
         0,
         4,
         0,
         3
        ],
        [
         "Netherlands VS Austria",
         "Netherlands",
         "D",
         "Austria",
         "D",
         4,
         2,
         3,
         0
        ],
        [
         "France VS Austria",
         "France",
         "D",
         "Austria",
         "D",
         3,
         0,
         3,
         0
        ],
        [
         "Poland VS France",
         "Poland",
         "D",
         "France",
         "D",
         4,
         3,
         3,
         0
        ],
        [
         "Poland VS Austria",
         "Poland",
         "D",
         "Austria",
         "D",
         3,
         1,
         3,
         0
        ],
        [
         "Poland VS Netherlands",
         "Poland",
         "D",
         "Netherlands",
         "D",
         1,
         1,
         1,
         1
        ],
        [
         "Slovakia VS Iceland",
         "Slovakia",
         "E",
         "Iceland",
         "E",
         4,
         1,
         3,
         0
        ],
        [
         "Slovakia VS Romania",
         "Slovakia",
         "E",
         "Romania",
         "E",
         4,
         0,
         3,
         0
        ],
        [
         "Slovakia VS Belgium",
         "Slovakia",
         "E",
         "Belgium",
         "E",
         3,
         4,
         0,
         3
        ],
        [
         "Romania VS Iceland",
         "Romania",
         "E",
         "Iceland",
         "E",
         0,
         0,
         1,
         1
        ],
        [
         "Romania VS Belgium",
         "Romania",
         "E",
         "Belgium",
         "E",
         4,
         3,
         3,
         0
        ],
        [
         "Iceland VS Belgium",
         "Iceland",
         "E",
         "Belgium",
         "E",
         4,
         1,
         3,
         0
        ],
        [
         "Turkiye VS Greece",
         "Turkiye",
         "F",
         "Greece",
         "F",
         4,
         0,
         3,
         0
        ],
        [
         "Turkiye VS Czechia",
         "Turkiye",
         "F",
         "Czechia",
         "F",
         4,
         0,
         3,
         0
        ],
        [
         "Turkiye VS Portugal",
         "Turkiye",
         "F",
         "Portugal",
         "F",
         4,
         0,
         3,
         0
        ],
        [
         "Portugal VS Greece",
         "Portugal",
         "F",
         "Greece",
         "F",
         1,
         0,
         3,
         0
        ],
        [
         "Portugal VS Czechia",
         "Portugal",
         "F",
         "Czechia",
         "F",
         0,
         4,
         0,
         3
        ],
        [
         "Greece VS Czechia",
         "Greece",
         "F",
         "Czechia",
         "F",
         1,
         1,
         1,
         1
        ]
       ],
       "datasetInfos": [],
       "dbfsResultPath": null,
       "isJsonSchema": true,
       "metadata": {},
       "overflow": false,
       "plotOptions": {
        "customPlotOptions": {},
        "displayType": "table",
        "pivotAggregation": null,
        "pivotColumns": null,
        "xColumns": null,
        "yColumns": null
       },
       "removedWidgets": [],
       "schema": [
        {
         "metadata": "{}",
         "name": "match_fixtures",
         "type": "\"string\""
        },
        {
         "metadata": "{\"__CHAR_VARCHAR_TYPE_STRING\":\"varchar(15)\"}",
         "name": "team1",
         "type": "\"string\""
        },
        {
         "metadata": "{\"__CHAR_VARCHAR_TYPE_STRING\":\"varchar(15)\"}",
         "name": "grp1",
         "type": "\"string\""
        },
        {
         "metadata": "{\"__CHAR_VARCHAR_TYPE_STRING\":\"varchar(15)\"}",
         "name": "team2",
         "type": "\"string\""
        },
        {
         "metadata": "{\"__CHAR_VARCHAR_TYPE_STRING\":\"varchar(15)\"}",
         "name": "grp2",
         "type": "\"string\""
        },
        {
         "metadata": "{}",
         "name": "team1_score",
         "type": "\"long\""
        },
        {
         "metadata": "{}",
         "name": "team2_score",
         "type": "\"long\""
        },
        {
         "metadata": "{}",
         "name": "team1pts",
         "type": "\"integer\""
        },
        {
         "metadata": "{}",
         "name": "team2pts",
         "type": "\"integer\""
        }
       ],
       "type": "table"
      }
     },
     "output_type": "display_data"
    }
   ],
   "source": [
    "%sql\n",
    "SELECT \n",
    "    CONCAT(a.name, \" VS \", b.name) AS match_fixtures, \n",
    "    a.name AS team1, a.grp AS grp1, \n",
    "    b.name AS team2, b.grp AS grp2, \n",
    "    FLOOR(RAND()*5) AS team1_score, \n",
    "    FLOOR(RAND()*5) AS team2_score, \n",
    "    CASE \n",
    "        WHEN team1_score > team2_score THEN 3 \n",
    "        WHEN team1_score = team2_score THEN 1 \n",
    "        ELSE 0 \n",
    "    END AS team1pts, \n",
    "    CASE \n",
    "        WHEN team1_score < team2_score THEN 3 \n",
    "        WHEN team1_score = team2_score THEN 1 \n",
    "        ELSE 0 \n",
    "    END AS team2pts \n",
    "FROM \n",
    "    team a \n",
    "CROSS JOIN \n",
    "    team b \n",
    "ON \n",
    "    a.grp = b.grp AND a.name > b.name;\n",
    "    "
   ]
  },
  {
   "cell_type": "markdown",
   "metadata": {
    "application/vnd.databricks.v1+cell": {
     "cellMetadata": {
      "byteLimit": 2048000,
      "rowLimit": 10000
     },
     "inputWidgets": {},
     "nuid": "6b3fe1e2-153f-4a6e-baef-f2227fd605ac",
     "showTitle": false,
     "title": ""
    }
   },
   "source": [
    "### CREATING POINTS TABLE FROM ABOVE MATCH RESULTS AND GIVING RANKS TO TEAMS ACCORDING TO THEIR GROUPS"
   ]
  },
  {
   "cell_type": "code",
   "execution_count": 0,
   "metadata": {
    "application/vnd.databricks.v1+cell": {
     "cellMetadata": {
      "byteLimit": 2048000,
      "implicitDf": true,
      "rowLimit": 10000
     },
     "inputWidgets": {},
     "nuid": "328508c7-c54b-4613-9bd5-457365002339",
     "showTitle": false,
     "title": ""
    }
   },
   "outputs": [
    {
     "output_type": "display_data",
     "data": {
      "text/html": [
       "<style scoped>\n",
       "  .table-result-container {\n",
       "    max-height: 300px;\n",
       "    overflow: auto;\n",
       "  }\n",
       "  table, th, td {\n",
       "    border: 1px solid black;\n",
       "    border-collapse: collapse;\n",
       "  }\n",
       "  th, td {\n",
       "    padding: 5px;\n",
       "  }\n",
       "  th {\n",
       "    text-align: left;\n",
       "  }\n",
       "</style><div class='table-result-container'><table class='table-result'><thead style='background-color: white'><tr><th>name</th><th>grp</th><th>mp</th><th>win</th><th>draw</th><th>loss</th><th>gf</th><th>ga</th><th>gd</th><th>pts</th><th>rnk</th></tr></thead><tbody><tr><td>Germany</td><td>A</td><td>3</td><td>2</td><td>0</td><td>1</td><td>4</td><td>8</td><td>-4</td><td>6</td><td>1</td></tr><tr><td>Scotland</td><td>A</td><td>3</td><td>1</td><td>1</td><td>1</td><td>10</td><td>8</td><td>2</td><td>5</td><td>2</td></tr><tr><td>Switzerland</td><td>A</td><td>3</td><td>1</td><td>1</td><td>1</td><td>8</td><td>11</td><td>-3</td><td>4</td><td>3</td></tr><tr><td>Hungary</td><td>A</td><td>3</td><td>0</td><td>1</td><td>2</td><td>6</td><td>7</td><td>-1</td><td>1</td><td>4</td></tr><tr><td>Spain</td><td>B</td><td>3</td><td>2</td><td>1</td><td>0</td><td>11</td><td>7</td><td>4</td><td>7</td><td>1</td></tr><tr><td>Croatia</td><td>B</td><td>3</td><td>2</td><td>0</td><td>1</td><td>7</td><td>7</td><td>0</td><td>6</td><td>2</td></tr><tr><td>Albania</td><td>B</td><td>3</td><td>0</td><td>1</td><td>2</td><td>8</td><td>6</td><td>2</td><td>2</td><td>3</td></tr><tr><td>Italy</td><td>B</td><td>3</td><td>0</td><td>1</td><td>2</td><td>4</td><td>4</td><td>0</td><td>1</td><td>4</td></tr><tr><td>Slovenia</td><td>C</td><td>3</td><td>2</td><td>1</td><td>0</td><td>6</td><td>3</td><td>3</td><td>7</td><td>1</td></tr><tr><td>England</td><td>C</td><td>3</td><td>1</td><td>1</td><td>1</td><td>1</td><td>3</td><td>-2</td><td>4</td><td>2</td></tr><tr><td>Serbia</td><td>C</td><td>3</td><td>1</td><td>0</td><td>2</td><td>6</td><td>4</td><td>2</td><td>3</td><td>3</td></tr><tr><td>Denmark</td><td>C</td><td>3</td><td>1</td><td>0</td><td>2</td><td>3</td><td>2</td><td>1</td><td>3</td><td>4</td></tr><tr><td>Austria</td><td>D</td><td>3</td><td>2</td><td>1</td><td>0</td><td>0</td><td>6</td><td>-6</td><td>7</td><td>1</td></tr><tr><td>France</td><td>D</td><td>3</td><td>1</td><td>1</td><td>1</td><td>4</td><td>5</td><td>-1</td><td>5</td><td>2</td></tr><tr><td>Poland</td><td>D</td><td>3</td><td>1</td><td>1</td><td>1</td><td>7</td><td>7</td><td>0</td><td>4</td><td>3</td></tr><tr><td>Netherlands</td><td>D</td><td>3</td><td>0</td><td>0</td><td>3</td><td>5</td><td>6</td><td>-1</td><td>0</td><td>4</td></tr><tr><td>Belgium</td><td>E</td><td>3</td><td>2</td><td>0</td><td>1</td><td>6</td><td>6</td><td>0</td><td>6</td><td>1</td></tr><tr><td>Iceland</td><td>E</td><td>3</td><td>1</td><td>1</td><td>1</td><td>11</td><td>6</td><td>5</td><td>4</td><td>2</td></tr><tr><td>Romania</td><td>E</td><td>3</td><td>1</td><td>1</td><td>1</td><td>6</td><td>4</td><td>2</td><td>4</td><td>3</td></tr><tr><td>Slovakia</td><td>E</td><td>3</td><td>0</td><td>1</td><td>2</td><td>9</td><td>10</td><td>-1</td><td>2</td><td>4</td></tr><tr><td>Turkiye</td><td>F</td><td>3</td><td>2</td><td>0</td><td>1</td><td>8</td><td>6</td><td>2</td><td>6</td><td>1</td></tr><tr><td>Portugal</td><td>F</td><td>3</td><td>1</td><td>1</td><td>1</td><td>11</td><td>7</td><td>4</td><td>4</td><td>2</td></tr><tr><td>Czechia</td><td>F</td><td>3</td><td>1</td><td>1</td><td>1</td><td>9</td><td>10</td><td>-1</td><td>4</td><td>3</td></tr><tr><td>Greece</td><td>F</td><td>3</td><td>0</td><td>1</td><td>2</td><td>10</td><td>9</td><td>1</td><td>2</td><td>4</td></tr></tbody></table></div>"
      ]
     },
     "metadata": {
      "application/vnd.databricks.v1+output": {
       "addedWidgets": {},
       "aggData": [],
       "aggError": "",
       "aggOverflow": false,
       "aggSchema": [],
       "aggSeriesLimitReached": false,
       "aggType": "",
       "arguments": {},
       "columnCustomDisplayInfos": {},
       "data": [
        [
         "Germany",
         "A",
         3,
         2,
         0,
         1,
         4,
         8,
         -4,
         6,
         1
        ],
        [
         "Scotland",
         "A",
         3,
         1,
         1,
         1,
         10,
         8,
         2,
         5,
         2
        ],
        [
         "Switzerland",
         "A",
         3,
         1,
         1,
         1,
         8,
         11,
         -3,
         4,
         3
        ],
        [
         "Hungary",
         "A",
         3,
         0,
         1,
         2,
         6,
         7,
         -1,
         1,
         4
        ],
        [
         "Spain",
         "B",
         3,
         2,
         1,
         0,
         11,
         7,
         4,
         7,
         1
        ],
        [
         "Croatia",
         "B",
         3,
         2,
         0,
         1,
         7,
         7,
         0,
         6,
         2
        ],
        [
         "Albania",
         "B",
         3,
         0,
         1,
         2,
         8,
         6,
         2,
         2,
         3
        ],
        [
         "Italy",
         "B",
         3,
         0,
         1,
         2,
         4,
         4,
         0,
         1,
         4
        ],
        [
         "Slovenia",
         "C",
         3,
         2,
         1,
         0,
         6,
         3,
         3,
         7,
         1
        ],
        [
         "England",
         "C",
         3,
         1,
         1,
         1,
         1,
         3,
         -2,
         4,
         2
        ],
        [
         "Serbia",
         "C",
         3,
         1,
         0,
         2,
         6,
         4,
         2,
         3,
         3
        ],
        [
         "Denmark",
         "C",
         3,
         1,
         0,
         2,
         3,
         2,
         1,
         3,
         4
        ],
        [
         "Austria",
         "D",
         3,
         2,
         1,
         0,
         0,
         6,
         -6,
         7,
         1
        ],
        [
         "France",
         "D",
         3,
         1,
         1,
         1,
         4,
         5,
         -1,
         5,
         2
        ],
        [
         "Poland",
         "D",
         3,
         1,
         1,
         1,
         7,
         7,
         0,
         4,
         3
        ],
        [
         "Netherlands",
         "D",
         3,
         0,
         0,
         3,
         5,
         6,
         -1,
         0,
         4
        ],
        [
         "Belgium",
         "E",
         3,
         2,
         0,
         1,
         6,
         6,
         0,
         6,
         1
        ],
        [
         "Iceland",
         "E",
         3,
         1,
         1,
         1,
         11,
         6,
         5,
         4,
         2
        ],
        [
         "Romania",
         "E",
         3,
         1,
         1,
         1,
         6,
         4,
         2,
         4,
         3
        ],
        [
         "Slovakia",
         "E",
         3,
         0,
         1,
         2,
         9,
         10,
         -1,
         2,
         4
        ],
        [
         "Turkiye",
         "F",
         3,
         2,
         0,
         1,
         8,
         6,
         2,
         6,
         1
        ],
        [
         "Portugal",
         "F",
         3,
         1,
         1,
         1,
         11,
         7,
         4,
         4,
         2
        ],
        [
         "Czechia",
         "F",
         3,
         1,
         1,
         1,
         9,
         10,
         -1,
         4,
         3
        ],
        [
         "Greece",
         "F",
         3,
         0,
         1,
         2,
         10,
         9,
         1,
         2,
         4
        ]
       ],
       "datasetInfos": [],
       "dbfsResultPath": null,
       "isJsonSchema": true,
       "metadata": {},
       "overflow": false,
       "plotOptions": {
        "customPlotOptions": {},
        "displayType": "table",
        "pivotAggregation": null,
        "pivotColumns": null,
        "xColumns": null,
        "yColumns": null
       },
       "removedWidgets": [],
       "schema": [
        {
         "metadata": "{\"__CHAR_VARCHAR_TYPE_STRING\":\"varchar(15)\"}",
         "name": "name",
         "type": "\"string\""
        },
        {
         "metadata": "{\"__CHAR_VARCHAR_TYPE_STRING\":\"varchar(15)\"}",
         "name": "grp",
         "type": "\"string\""
        },
        {
         "metadata": "{}",
         "name": "mp",
         "type": "\"integer\""
        },
        {
         "metadata": "{}",
         "name": "win",
         "type": "\"long\""
        },
        {
         "metadata": "{}",
         "name": "draw",
         "type": "\"integer\""
        },
        {
         "metadata": "{}",
         "name": "loss",
         "type": "\"integer\""
        },
        {
         "metadata": "{}",
         "name": "gf",
         "type": "\"long\""
        },
        {
         "metadata": "{}",
         "name": "ga",
         "type": "\"long\""
        },
        {
         "metadata": "{}",
         "name": "gd",
         "type": "\"long\""
        },
        {
         "metadata": "{}",
         "name": "pts",
         "type": "\"long\""
        },
        {
         "metadata": "{}",
         "name": "rnk",
         "type": "\"integer\""
        }
       ],
       "type": "table"
      }
     },
     "output_type": "display_data"
    }
   ],
   "source": [
    "%sql\n",
    "WITH cte2 AS (\n",
    "    WITH cte AS (\n",
    "        SELECT \n",
    "            CONCAT(a.name, \" VS \", b.name) AS match_fixtures, \n",
    "            a.name AS team1, a.grp AS grp1, \n",
    "            b.name AS team2, b.grp AS grp2, \n",
    "            FLOOR(RAND()*5) AS team1_score, \n",
    "            FLOOR(RAND()*5) AS team2_score, \n",
    "            CASE \n",
    "                WHEN team1_score > team2_score THEN 3 \n",
    "                WHEN team1_score = team2_score THEN 1 \n",
    "                ELSE 0 \n",
    "            END AS team1pts,\n",
    "            CASE \n",
    "                WHEN team1_score < team2_score THEN 3 \n",
    "                WHEN team1_score = team2_score THEN 1 \n",
    "                ELSE 0 \n",
    "            END AS team2pts \n",
    "        FROM \n",
    "            team a \n",
    "        CROSS JOIN \n",
    "            team b \n",
    "        ON \n",
    "            a.grp = b.grp AND a.name > b.name\n",
    "    )\n",
    "    SELECT \n",
    "        team1, grp1, team1_score, team2_score, team1pts \n",
    "    FROM \n",
    "        cte \n",
    "    UNION ALL \n",
    "    SELECT \n",
    "        team2, grp2, team1_score, team2_score, team2pts AS pts \n",
    "    FROM \n",
    "        cte\n",
    ")\n",
    "SELECT \n",
    "    team1 AS name, grp1 AS grp, 3 AS mp, \n",
    "    FLOOR(SUM(team1pts)/3) AS win, \n",
    "    CASE \n",
    "        WHEN SUM(team1pts) % 3 = 0 THEN 0 \n",
    "        ELSE 1 \n",
    "    END AS draw, \n",
    "    CASE \n",
    "        WHEN win + draw = 3 THEN 0 \n",
    "        WHEN win + draw = 2 THEN 1 \n",
    "        WHEN win + draw = 1 THEN 2 \n",
    "        ELSE 3 \n",
    "    END AS loss, \n",
    "    SUM(team1_score) AS gf, \n",
    "    SUM(team2_score) AS ga,\n",
    "    SUM(team1_score) - SUM(team2_score) AS gd, \n",
    "    SUM(team1pts) AS pts,\n",
    "    ROW_NUMBER() OVER(PARTITION BY grp1 ORDER BY SUM(team1pts) DESC,SUM(team1_score) - SUM(team2_score) DESC) rnk\n",
    "FROM \n",
    "    cte2 \n",
    "GROUP BY \n",
    "    team1, grp1 \n",
    "ORDER BY \n",
    "    grp, pts DESC;\n",
    "    "
   ]
  },
  {
   "cell_type": "markdown",
   "metadata": {
    "application/vnd.databricks.v1+cell": {
     "cellMetadata": {
      "byteLimit": 2048000,
      "rowLimit": 10000
     },
     "inputWidgets": {},
     "nuid": "6aa8a502-ce60-4203-9c89-361804792c4f",
     "showTitle": false,
     "title": ""
    }
   },
   "source": [
    "### STAGE 2 - TOP 16 TEAMS FOR ROUND OF 16"
   ]
  },
  {
   "cell_type": "code",
   "execution_count": 0,
   "metadata": {
    "application/vnd.databricks.v1+cell": {
     "cellMetadata": {
      "byteLimit": 2048000,
      "implicitDf": true,
      "rowLimit": 10000
     },
     "inputWidgets": {},
     "nuid": "97cb47dc-1902-48b2-9dd2-9c702f4efb28",
     "showTitle": false,
     "title": ""
    }
   },
   "outputs": [
    {
     "output_type": "display_data",
     "data": {
      "text/html": [
       "<style scoped>\n",
       "  .table-result-container {\n",
       "    max-height: 300px;\n",
       "    overflow: auto;\n",
       "  }\n",
       "  table, th, td {\n",
       "    border: 1px solid black;\n",
       "    border-collapse: collapse;\n",
       "  }\n",
       "  th, td {\n",
       "    padding: 5px;\n",
       "  }\n",
       "  th {\n",
       "    text-align: left;\n",
       "  }\n",
       "</style><div class='table-result-container'><table class='table-result'><thead style='background-color: white'><tr><th>name</th><th>grp</th><th>mp</th><th>win</th><th>draw</th><th>loss</th><th>gf</th><th>ga</th><th>gd</th><th>pts</th><th>rnk</th></tr></thead><tbody><tr><td>England</td><td>C</td><td>3</td><td>2</td><td>1</td><td>0</td><td>10</td><td>7</td><td>3</td><td>7</td><td>1</td></tr><tr><td>Hungary</td><td>A</td><td>3</td><td>2</td><td>1</td><td>0</td><td>7</td><td>5</td><td>2</td><td>7</td><td>1</td></tr><tr><td>Czechia</td><td>F</td><td>3</td><td>2</td><td>1</td><td>0</td><td>7</td><td>9</td><td>-2</td><td>7</td><td>1</td></tr><tr><td>Netherlands</td><td>D</td><td>3</td><td>2</td><td>0</td><td>1</td><td>11</td><td>3</td><td>8</td><td>6</td><td>1</td></tr><tr><td>Italy</td><td>B</td><td>3</td><td>2</td><td>0</td><td>1</td><td>12</td><td>5</td><td>7</td><td>6</td><td>1</td></tr><tr><td>Romania</td><td>E</td><td>3</td><td>2</td><td>0</td><td>1</td><td>3</td><td>7</td><td>-4</td><td>6</td><td>1</td></tr><tr><td>France</td><td>D</td><td>3</td><td>2</td><td>0</td><td>1</td><td>9</td><td>4</td><td>5</td><td>6</td><td>2</td></tr><tr><td>Turkiye</td><td>F</td><td>3</td><td>2</td><td>0</td><td>1</td><td>11</td><td>7</td><td>4</td><td>6</td><td>2</td></tr><tr><td>Germany</td><td>A</td><td>3</td><td>2</td><td>0</td><td>1</td><td>7</td><td>7</td><td>0</td><td>6</td><td>2</td></tr><tr><td>Albania</td><td>B</td><td>3</td><td>2</td><td>0</td><td>1</td><td>7</td><td>7</td><td>0</td><td>6</td><td>2</td></tr><tr><td>Iceland</td><td>E</td><td>3</td><td>1</td><td>1</td><td>1</td><td>7</td><td>4</td><td>3</td><td>4</td><td>2</td></tr><tr><td>Denmark</td><td>C</td><td>3</td><td>1</td><td>1</td><td>1</td><td>6</td><td>4</td><td>2</td><td>4</td><td>2</td></tr><tr><td>Spain</td><td>B</td><td>3</td><td>1</td><td>1</td><td>1</td><td>7</td><td>5</td><td>2</td><td>4</td><td>3</td></tr><tr><td>Poland</td><td>D</td><td>3</td><td>1</td><td>1</td><td>1</td><td>9</td><td>10</td><td>-1</td><td>4</td><td>3</td></tr><tr><td>Slovakia</td><td>E</td><td>3</td><td>1</td><td>1</td><td>1</td><td>5</td><td>6</td><td>-1</td><td>4</td><td>3</td></tr><tr><td>Greece</td><td>F</td><td>3</td><td>1</td><td>0</td><td>2</td><td>9</td><td>10</td><td>-1</td><td>3</td><td>3</td></tr></tbody></table></div>"
      ]
     },
     "metadata": {
      "application/vnd.databricks.v1+output": {
       "addedWidgets": {},
       "aggData": [],
       "aggError": "",
       "aggOverflow": false,
       "aggSchema": [],
       "aggSeriesLimitReached": false,
       "aggType": "",
       "arguments": {},
       "columnCustomDisplayInfos": {},
       "data": [
        [
         "England",
         "C",
         3,
         2,
         1,
         0,
         10,
         7,
         3,
         7,
         1
        ],
        [
         "Hungary",
         "A",
         3,
         2,
         1,
         0,
         7,
         5,
         2,
         7,
         1
        ],
        [
         "Czechia",
         "F",
         3,
         2,
         1,
         0,
         7,
         9,
         -2,
         7,
         1
        ],
        [
         "Netherlands",
         "D",
         3,
         2,
         0,
         1,
         11,
         3,
         8,
         6,
         1
        ],
        [
         "Italy",
         "B",
         3,
         2,
         0,
         1,
         12,
         5,
         7,
         6,
         1
        ],
        [
         "Romania",
         "E",
         3,
         2,
         0,
         1,
         3,
         7,
         -4,
         6,
         1
        ],
        [
         "France",
         "D",
         3,
         2,
         0,
         1,
         9,
         4,
         5,
         6,
         2
        ],
        [
         "Turkiye",
         "F",
         3,
         2,
         0,
         1,
         11,
         7,
         4,
         6,
         2
        ],
        [
         "Germany",
         "A",
         3,
         2,
         0,
         1,
         7,
         7,
         0,
         6,
         2
        ],
        [
         "Albania",
         "B",
         3,
         2,
         0,
         1,
         7,
         7,
         0,
         6,
         2
        ],
        [
         "Iceland",
         "E",
         3,
         1,
         1,
         1,
         7,
         4,
         3,
         4,
         2
        ],
        [
         "Denmark",
         "C",
         3,
         1,
         1,
         1,
         6,
         4,
         2,
         4,
         2
        ],
        [
         "Spain",
         "B",
         3,
         1,
         1,
         1,
         7,
         5,
         2,
         4,
         3
        ],
        [
         "Poland",
         "D",
         3,
         1,
         1,
         1,
         9,
         10,
         -1,
         4,
         3
        ],
        [
         "Slovakia",
         "E",
         3,
         1,
         1,
         1,
         5,
         6,
         -1,
         4,
         3
        ],
        [
         "Greece",
         "F",
         3,
         1,
         0,
         2,
         9,
         10,
         -1,
         3,
         3
        ]
       ],
       "datasetInfos": [],
       "dbfsResultPath": null,
       "isJsonSchema": true,
       "metadata": {},
       "overflow": false,
       "plotOptions": {
        "customPlotOptions": {},
        "displayType": "table",
        "pivotAggregation": null,
        "pivotColumns": null,
        "xColumns": null,
        "yColumns": null
       },
       "removedWidgets": [],
       "schema": [
        {
         "metadata": "{\"__CHAR_VARCHAR_TYPE_STRING\":\"varchar(15)\"}",
         "name": "name",
         "type": "\"string\""
        },
        {
         "metadata": "{\"__CHAR_VARCHAR_TYPE_STRING\":\"varchar(15)\"}",
         "name": "grp",
         "type": "\"string\""
        },
        {
         "metadata": "{}",
         "name": "mp",
         "type": "\"integer\""
        },
        {
         "metadata": "{}",
         "name": "win",
         "type": "\"long\""
        },
        {
         "metadata": "{}",
         "name": "draw",
         "type": "\"integer\""
        },
        {
         "metadata": "{}",
         "name": "loss",
         "type": "\"integer\""
        },
        {
         "metadata": "{}",
         "name": "gf",
         "type": "\"long\""
        },
        {
         "metadata": "{}",
         "name": "ga",
         "type": "\"long\""
        },
        {
         "metadata": "{}",
         "name": "gd",
         "type": "\"long\""
        },
        {
         "metadata": "{}",
         "name": "pts",
         "type": "\"long\""
        },
        {
         "metadata": "{}",
         "name": "rnk",
         "type": "\"integer\""
        }
       ],
       "type": "table"
      }
     },
     "output_type": "display_data"
    }
   ],
   "source": [
    "%sql\n",
    "WITH cte3 AS (\n",
    "    WITH cte2 AS (\n",
    "        WITH cte AS (\n",
    "            SELECT \n",
    "                CONCAT(a.name, \" VS \", b.name) AS match_fixtures, \n",
    "                a.name AS team1, a.grp AS grp1, \n",
    "                b.name AS team2, b.grp AS grp2, \n",
    "                FLOOR(RAND()*5) AS team1_score, \n",
    "                FLOOR(RAND()*5) AS team2_score, \n",
    "                CASE \n",
    "                    WHEN team1_score > team2_score THEN 3 \n",
    "                    WHEN team1_score = team2_score THEN 1 \n",
    "                    ELSE 0 \n",
    "                END AS team1pts,\n",
    "                CASE \n",
    "                    WHEN team1_score < team2_score THEN 3 \n",
    "                    WHEN team1_score = team2_score THEN 1 \n",
    "                    ELSE 0 \n",
    "                END AS team2pts \n",
    "            FROM \n",
    "                team a \n",
    "            CROSS JOIN \n",
    "                team b \n",
    "            ON \n",
    "                a.grp = b.grp AND a.name > b.name\n",
    "        )\n",
    "        SELECT \n",
    "            team1, grp1, team1_score, team2_score, team1pts \n",
    "        FROM \n",
    "            cte \n",
    "        UNION ALL \n",
    "        SELECT \n",
    "            team2, grp2, team1_score, team2_score, team2pts AS pts \n",
    "        FROM \n",
    "            cte\n",
    "    )\n",
    "    SELECT \n",
    "        team1 AS name, grp1 AS grp, 3 AS mp, \n",
    "        FLOOR(SUM(team1pts)/3) AS win, \n",
    "        CASE \n",
    "            WHEN SUM(team1pts) % 3 = 0 THEN 0 \n",
    "            ELSE 1 \n",
    "        END AS draw, \n",
    "        CASE \n",
    "            WHEN win + draw = 3 THEN 0 \n",
    "            WHEN win + draw = 2 THEN 1 \n",
    "            WHEN win + draw = 1 THEN 2 \n",
    "            ELSE 3 \n",
    "        END AS loss, \n",
    "        SUM(team1_score) AS gf, \n",
    "        SUM(team2_score) AS ga,\n",
    "        SUM(team1_score) - SUM(team2_score) AS gd, \n",
    "        SUM(team1pts) AS pts,\n",
    "        ROW_NUMBER() OVER(PARTITION BY grp1 ORDER BY SUM(team1pts) DESC,SUM(team1_score) - SUM(team2_score) DESC) rnk\n",
    "    FROM \n",
    "        cte2 \n",
    "    GROUP BY \n",
    "        team1, grp1 \n",
    "    ORDER BY \n",
    "        grp, pts DESC\n",
    ")\n",
    "SELECT * FROM cte3 WHERE rnk < 3\n",
    "UNION\n",
    "SELECT * FROM cte3 WHERE rnk = 3 ORDER BY rnk, pts DESC, gd DESC LIMIT 16;\n"
   ]
  },
  {
   "cell_type": "markdown",
   "metadata": {
    "application/vnd.databricks.v1+cell": {
     "cellMetadata": {
      "byteLimit": 2048000,
      "rowLimit": 10000
     },
     "inputWidgets": {},
     "nuid": "59c73b91-3da7-41ba-9331-dc80cc2d07d3",
     "showTitle": false,
     "title": ""
    }
   },
   "source": [
    "### TAKING ONLY TEAM NAME,GROUP,RANK FOR EASY UNDERSTANDING OF FURTHER PROCESS AND PLACE THEM ACCORDING TO ROUND OF 16 MATCH FIXTURES"
   ]
  },
  {
   "cell_type": "code",
   "execution_count": 0,
   "metadata": {
    "application/vnd.databricks.v1+cell": {
     "cellMetadata": {
      "byteLimit": 2048000,
      "implicitDf": true,
      "rowLimit": 10000
     },
     "inputWidgets": {},
     "nuid": "dd64a853-6bc3-4d3f-8e19-db550c8bcf3b",
     "showTitle": false,
     "title": ""
    }
   },
   "outputs": [
    {
     "output_type": "display_data",
     "data": {
      "text/html": [
       "<style scoped>\n",
       "  .table-result-container {\n",
       "    max-height: 300px;\n",
       "    overflow: auto;\n",
       "  }\n",
       "  table, th, td {\n",
       "    border: 1px solid black;\n",
       "    border-collapse: collapse;\n",
       "  }\n",
       "  th, td {\n",
       "    padding: 5px;\n",
       "  }\n",
       "  th {\n",
       "    text-align: left;\n",
       "  }\n",
       "</style><div class='table-result-container'><table class='table-result'><thead style='background-color: white'><tr><th>name</th><th>grp</th><th>rnk</th></tr></thead><tbody><tr><td>Croatia</td><td>B</td><td>1</td></tr><tr><td>Belgium</td><td>E</td><td>3</td></tr><tr><td>Scotland</td><td>A</td><td>1</td></tr><tr><td>Slovenia</td><td>C</td><td>2</td></tr><tr><td>Greece</td><td>F</td><td>1</td></tr><tr><td>Serbia</td><td>C</td><td>3</td></tr><tr><td>Netherlands</td><td>D</td><td>2</td></tr><tr><td>Slovakia</td><td>E</td><td>2</td></tr><tr><td>Iceland</td><td>E</td><td>1</td></tr><tr><td>Albania</td><td>B</td><td>3</td></tr><tr><td>Poland</td><td>D</td><td>1</td></tr><tr><td>Turkiye</td><td>F</td><td>2</td></tr><tr><td>Denmark</td><td>C</td><td>1</td></tr><tr><td>France</td><td>D</td><td>3</td></tr><tr><td>Hungary</td><td>A</td><td>2</td></tr><tr><td>Italy</td><td>B</td><td>2</td></tr></tbody></table></div>"
      ]
     },
     "metadata": {
      "application/vnd.databricks.v1+output": {
       "addedWidgets": {},
       "aggData": [],
       "aggError": "",
       "aggOverflow": false,
       "aggSchema": [],
       "aggSeriesLimitReached": false,
       "aggType": "",
       "arguments": {},
       "columnCustomDisplayInfos": {},
       "data": [
        [
         "Croatia",
         "B",
         1
        ],
        [
         "Belgium",
         "E",
         3
        ],
        [
         "Scotland",
         "A",
         1
        ],
        [
         "Slovenia",
         "C",
         2
        ],
        [
         "Greece",
         "F",
         1
        ],
        [
         "Serbia",
         "C",
         3
        ],
        [
         "Netherlands",
         "D",
         2
        ],
        [
         "Slovakia",
         "E",
         2
        ],
        [
         "Iceland",
         "E",
         1
        ],
        [
         "Albania",
         "B",
         3
        ],
        [
         "Poland",
         "D",
         1
        ],
        [
         "Turkiye",
         "F",
         2
        ],
        [
         "Denmark",
         "C",
         1
        ],
        [
         "France",
         "D",
         3
        ],
        [
         "Hungary",
         "A",
         2
        ],
        [
         "Italy",
         "B",
         2
        ]
       ],
       "datasetInfos": [],
       "dbfsResultPath": null,
       "isJsonSchema": true,
       "metadata": {},
       "overflow": false,
       "plotOptions": {
        "customPlotOptions": {},
        "displayType": "table",
        "pivotAggregation": null,
        "pivotColumns": null,
        "xColumns": null,
        "yColumns": null
       },
       "removedWidgets": [],
       "schema": [
        {
         "metadata": "{\"__CHAR_VARCHAR_TYPE_STRING\":\"varchar(15)\"}",
         "name": "name",
         "type": "\"string\""
        },
        {
         "metadata": "{\"__CHAR_VARCHAR_TYPE_STRING\":\"varchar(15)\"}",
         "name": "grp",
         "type": "\"string\""
        },
        {
         "metadata": "{}",
         "name": "rnk",
         "type": "\"integer\""
        }
       ],
       "type": "table"
      }
     },
     "output_type": "display_data"
    }
   ],
   "source": [
    "%sql\n",
    "WITH cte5 AS (\n",
    "    WITH cte4 AS (\n",
    "        WITH cte3 AS (\n",
    "            WITH cte2 AS (\n",
    "                WITH cte AS (\n",
    "                    SELECT \n",
    "                        CONCAT(a.name, \" VS \", b.name) AS match_fixtures, \n",
    "                        a.name AS team1, a.grp AS grp1, \n",
    "                        b.name AS team2, b.grp AS grp2, \n",
    "                        FLOOR(RAND()*5) AS team1_score, \n",
    "                        FLOOR(RAND()*5) AS team2_score, \n",
    "                        CASE \n",
    "                            WHEN team1_score > team2_score THEN 3 \n",
    "                            WHEN team1_score = team2_score THEN 1 \n",
    "                            ELSE 0 \n",
    "                        END AS team1pts,\n",
    "                        CASE \n",
    "                            WHEN team1_score < team2_score THEN 3 \n",
    "                            WHEN team1_score = team2_score THEN 1 \n",
    "                            ELSE 0 \n",
    "                        END AS team2pts \n",
    "                    FROM \n",
    "                        team a \n",
    "                    CROSS JOIN \n",
    "                        team b \n",
    "                    ON \n",
    "                        a.grp = b.grp AND a.name > b.name\n",
    "                )\n",
    "                SELECT \n",
    "                    team1, grp1, team1_score, team2_score, team1pts \n",
    "                FROM \n",
    "                    cte \n",
    "                UNION ALL \n",
    "                SELECT \n",
    "                    team2, grp2, team1_score, team2_score, team2pts AS pts \n",
    "                FROM \n",
    "                    cte\n",
    "            )\n",
    "            SELECT \n",
    "                team1 AS name, grp1 AS grp, 3 AS mp, \n",
    "                FLOOR(SUM(team1pts)/3) AS win, \n",
    "                CASE \n",
    "                    WHEN SUM(team1pts) % 3 = 0 THEN 0 \n",
    "                    ELSE 1 \n",
    "                END AS draw, \n",
    "                CASE \n",
    "                    WHEN win + draw = 3 THEN 0 \n",
    "                    WHEN win + draw = 2 THEN 1 \n",
    "                    WHEN win + draw = 1 THEN 2 \n",
    "                    ELSE 3 \n",
    "                END AS loss, \n",
    "                SUM(team1_score) AS gf, \n",
    "                SUM(team2_score) AS ga,\n",
    "                SUM(team1_score) - SUM(team2_score) AS gd, \n",
    "                SUM(team1pts) AS pts,\n",
    "                ROW_NUMBER() OVER(PARTITION BY grp1 ORDER BY SUM(team1pts) DESC,SUM(team1_score) - SUM(team2_score) DESC) rnk\n",
    "            FROM \n",
    "                cte2 \n",
    "            GROUP BY \n",
    "                team1, grp1 \n",
    "            ORDER BY \n",
    "                grp, pts DESC\n",
    "        )\n",
    "        SELECT * FROM cte3 WHERE rnk < 3\n",
    "        UNION\n",
    "        SELECT * FROM cte3 WHERE rnk = 3 ORDER BY rnk, pts DESC, gd DESC LIMIT 16\n",
    "    )\n",
    "    SELECT name, grp, rnk FROM cte4 ORDER BY grp\n",
    ")\n",
    "\n",
    "SELECT name, grp, rnk FROM cte5 WHERE grp = 'B' AND rnk = 1\n",
    "UNION\n",
    "\n",
    "SELECT name, grp, rnk\n",
    "FROM cte5\n",
    "WHERE CASE \n",
    "      WHEN (SELECT concat_ws('', collect_list(grp))\n",
    "            FROM cte5\n",
    "            WHERE rnk = 3) IN ('ABCD', 'ABCE','ABCF') THEN (grp = 'A' AND rnk = 3)\n",
    "      WHEN (SELECT concat_ws('', collect_list(grp))\n",
    "            FROM cte5\n",
    "            WHERE rnk = 3) IN ('ABDE', 'ABDF') THEN (grp = 'D' AND rnk = 3)\n",
    "      WHEN (SELECT concat_ws('', collect_list(grp))\n",
    "            FROM cte5\n",
    "            WHERE rnk = 3) IN ('ABEF', 'ACDE','ACEF','ADEF','BCDE') THEN (grp = 'E' AND rnk = 3)\n",
    "      WHEN (SELECT concat_ws('', collect_list(grp))\n",
    "            FROM cte5\n",
    "            WHERE rnk = 3) IN ('ACDF', 'BCDF','BCEF','BDEF','CDEF') THEN (grp = 'F' AND rnk = 3)\n",
    "      END\n",
    "UNION\n",
    "SELECT name, grp, rnk FROM cte5 WHERE grp = 'A' AND rnk = 1\n",
    "UNION\n",
    "SELECT name, grp, rnk FROM cte5 WHERE grp = 'C' AND rnk = 2\n",
    "UNION\n",
    "SELECT name, grp, rnk FROM cte5 WHERE grp = 'F' AND rnk = 1\n",
    "UNION\n",
    "\n",
    "SELECT name, grp, rnk\n",
    "FROM cte5\n",
    "WHERE CASE \n",
    "      WHEN (SELECT concat_ws('', collect_list(grp))\n",
    "            FROM cte5\n",
    "            WHERE rnk = 3) IN ('ABEF','ACDE','ACDF','ACEF','ADEF') THEN (grp = 'A' AND rnk = 3)\n",
    "      WHEN (SELECT concat_ws('', collect_list(grp))\n",
    "            FROM cte5\n",
    "            WHERE rnk = 3) IN ('ABDE','ABDF','BCDF','BCEF','BDEF') THEN (grp = 'B' AND rnk = 3)\n",
    "      WHEN (SELECT concat_ws('', collect_list(grp))\n",
    "            FROM cte5\n",
    "            WHERE rnk = 3) IN ('ABCD','ABCE','ABCF','BCDE','CDEF') THEN (grp = 'C' AND rnk = 3)\n",
    "      END\n",
    "      \n",
    "UNION\n",
    "SELECT name, grp, rnk FROM cte5 WHERE grp = 'D' AND rnk = 2\n",
    "UNION\n",
    "SELECT name, grp, rnk FROM cte5 WHERE grp = 'E' AND rnk = 2\n",
    "UNION\n",
    "SELECT name, grp, rnk FROM cte5 WHERE grp = 'E' AND rnk = 1\n",
    "UNION \n",
    "\n",
    "SELECT name, grp, rnk\n",
    "FROM cte5\n",
    "WHERE CASE \n",
    "      WHEN (SELECT concat_ws('', collect_list(grp))\n",
    "            FROM cte5\n",
    "            WHERE rnk = 3) IN ('ABDE', 'ABDF') THEN (grp = 'A' AND rnk = 3)\n",
    "      WHEN (SELECT concat_ws('', collect_list(grp))\n",
    "            FROM cte5\n",
    "            WHERE rnk = 3) IN ('ABCD', 'ABCE','ABCF','ABEF','BCDE') THEN (grp = 'B' AND rnk = 3)\n",
    "      WHEN (SELECT concat_ws('', collect_list(grp))\n",
    "            FROM cte5\n",
    "            WHERE rnk = 3) IN ('ACDE', 'ACDF','ACEF','BCDF','BCEF') THEN (grp = 'C' AND rnk = 3)\n",
    "      WHEN (SELECT concat_ws('', collect_list(grp))\n",
    "            FROM cte5\n",
    "            WHERE rnk = 3) IN ('ADEF', 'BDEF','CDEF') THEN (grp = 'D' AND rnk = 3)\n",
    "      END\n",
    "\n",
    "UNION \n",
    "SELECT name, grp, rnk FROM cte5 WHERE grp = 'D' AND rnk = 1\n",
    "UNION \n",
    "SELECT name, grp, rnk FROM cte5 WHERE grp = 'F' AND rnk = 2\n",
    "UNION \n",
    "SELECT name, grp, rnk FROM cte5 WHERE grp = 'C' AND rnk = 1\n",
    "UNION \n",
    "\n",
    "SELECT name, grp, rnk\n",
    "FROM cte5\n",
    "WHERE\n",
    "\n",
    " CASE \n",
    "      WHEN (SELECT concat_ws('', collect_list(grp))\n",
    "            FROM cte5\n",
    "            WHERE rnk = 3) IN ('ABCD','ACDE','ACDF','BCDE','BCDF') THEN (grp = 'D' AND rnk = 3)\n",
    "      WHEN (SELECT concat_ws('', collect_list(grp))\n",
    "            FROM cte5\n",
    "            WHERE rnk = 3) IN ('ABCE','ABDE','BCEF','BDEF','CDEF') THEN (grp = 'E' AND rnk = 3)\n",
    "      WHEN (SELECT concat_ws('', collect_list(grp))\n",
    "            FROM cte5\n",
    "            WHERE rnk = 3) IN ('ABCF','ABDF','ABEF','ACEF','ADEF') THEN (grp = 'F' AND rnk = 3)\n",
    "      END\n",
    "\n",
    "UNION \n",
    "SELECT name, grp, rnk FROM cte5 WHERE grp = 'A' AND rnk = 2\n",
    "UNION \n",
    "SELECT name, grp, rnk FROM cte5 WHERE grp = 'B' AND rnk = 2;\n"
   ]
  },
  {
   "cell_type": "markdown",
   "metadata": {
    "application/vnd.databricks.v1+cell": {
     "cellMetadata": {
      "byteLimit": 2048000,
      "rowLimit": 10000
     },
     "inputWidgets": {},
     "nuid": "9c4f7056-d6e3-4b5b-b005-70db2a4e7c46",
     "showTitle": false,
     "title": ""
    }
   },
   "source": [
    "### ROUND OF 16 MATCHES AND THEIR RESULTS (8 MATCHES OF 16 TEAMS)"
   ]
  },
  {
   "cell_type": "code",
   "execution_count": 0,
   "metadata": {
    "application/vnd.databricks.v1+cell": {
     "cellMetadata": {
      "byteLimit": 2048000,
      "implicitDf": true,
      "rowLimit": 10000
     },
     "inputWidgets": {},
     "nuid": "cebc5ac8-a5bc-40b1-bca2-7d13325fa85b",
     "showTitle": false,
     "title": ""
    }
   },
   "outputs": [
    {
     "output_type": "display_data",
     "data": {
      "text/html": [
       "<style scoped>\n",
       "  .table-result-container {\n",
       "    max-height: 300px;\n",
       "    overflow: auto;\n",
       "  }\n",
       "  table, th, td {\n",
       "    border: 1px solid black;\n",
       "    border-collapse: collapse;\n",
       "  }\n",
       "  th, td {\n",
       "    padding: 5px;\n",
       "  }\n",
       "  th {\n",
       "    text-align: left;\n",
       "  }\n",
       "</style><div class='table-result-container'><table class='table-result'><thead style='background-color: white'><tr><th>round_16_fixtures</th><th>matches</th><th>team_1</th><th>team_2</th><th>quarter_finalist</th></tr></thead><tbody><tr><td>Czechia F3    VS    Albania B1</td><td>1</td><td>LOSE</td><td>WIN</td><td>Albania B1</td></tr><tr><td>Slovenia C2    VS    Hungary A1</td><td>2</td><td>LOSE</td><td>WIN</td><td>Hungary A1</td></tr><tr><td>Greece F1    VS    Denmark C3</td><td>3</td><td>WIN</td><td>LOSE</td><td>Greece F1</td></tr><tr><td>Iceland E2    VS    Austria D2</td><td>4</td><td>LOSE</td><td>WIN</td><td>Austria D2</td></tr><tr><td>France D3    VS    Belgium E1</td><td>5</td><td>WIN</td><td>LOSE</td><td>France D3</td></tr><tr><td>Portugal F2    VS    Poland D1</td><td>6</td><td>LOSE</td><td>WIN</td><td>Poland D1</td></tr><tr><td>Slovakia E3    VS    Serbia C1</td><td>7</td><td>WIN</td><td>LOSE</td><td>Slovakia E3</td></tr><tr><td>Scotland A2    VS    Croatia B2</td><td>8</td><td>WIN</td><td>LOSE</td><td>Scotland A2</td></tr></tbody></table></div>"
      ]
     },
     "metadata": {
      "application/vnd.databricks.v1+output": {
       "addedWidgets": {},
       "aggData": [],
       "aggError": "",
       "aggOverflow": false,
       "aggSchema": [],
       "aggSeriesLimitReached": false,
       "aggType": "",
       "arguments": {},
       "columnCustomDisplayInfos": {},
       "data": [
        [
         "Czechia F3    VS    Albania B1",
         1,
         "LOSE",
         "WIN",
         "Albania B1"
        ],
        [
         "Slovenia C2    VS    Hungary A1",
         2,
         "LOSE",
         "WIN",
         "Hungary A1"
        ],
        [
         "Greece F1    VS    Denmark C3",
         3,
         "WIN",
         "LOSE",
         "Greece F1"
        ],
        [
         "Iceland E2    VS    Austria D2",
         4,
         "LOSE",
         "WIN",
         "Austria D2"
        ],
        [
         "France D3    VS    Belgium E1",
         5,
         "WIN",
         "LOSE",
         "France D3"
        ],
        [
         "Portugal F2    VS    Poland D1",
         6,
         "LOSE",
         "WIN",
         "Poland D1"
        ],
        [
         "Slovakia E3    VS    Serbia C1",
         7,
         "WIN",
         "LOSE",
         "Slovakia E3"
        ],
        [
         "Scotland A2    VS    Croatia B2",
         8,
         "WIN",
         "LOSE",
         "Scotland A2"
        ]
       ],
       "datasetInfos": [],
       "dbfsResultPath": null,
       "isJsonSchema": true,
       "metadata": {},
       "overflow": false,
       "plotOptions": {
        "customPlotOptions": {},
        "displayType": "table",
        "pivotAggregation": null,
        "pivotColumns": null,
        "xColumns": null,
        "yColumns": null
       },
       "removedWidgets": [],
       "schema": [
        {
         "metadata": "{}",
         "name": "round_16_fixtures",
         "type": "\"string\""
        },
        {
         "metadata": "{}",
         "name": "matches",
         "type": "\"integer\""
        },
        {
         "metadata": "{}",
         "name": "team_1",
         "type": "\"string\""
        },
        {
         "metadata": "{}",
         "name": "team_2",
         "type": "\"string\""
        },
        {
         "metadata": "{}",
         "name": "quarter_finalist",
         "type": "\"string\""
        }
       ],
       "type": "table"
      }
     },
     "output_type": "display_data"
    }
   ],
   "source": [
    "%sql\n",
    "WITH cte7 AS (\n",
    "    WITH cte6 AS (\n",
    "        WITH cte5 AS (\n",
    "            WITH cte4 AS (\n",
    "                WITH cte3 AS (\n",
    "                    WITH cte2 AS (\n",
    "                        WITH cte AS (\n",
    "                            SELECT \n",
    "                                CONCAT(a.name, \" VS \", b.name) AS match_fixtures, \n",
    "                                a.name AS team1, a.grp AS grp1, \n",
    "                                b.name AS team2, b.grp AS grp2, \n",
    "                                FLOOR(RAND()*5) AS team1_score, \n",
    "                                FLOOR(RAND()*5) AS team2_score, \n",
    "                                CASE \n",
    "                                    WHEN team1_score > team2_score THEN 3 \n",
    "                                    WHEN team1_score = team2_score THEN 1 \n",
    "                                    ELSE 0 \n",
    "                                END AS team1pts,\n",
    "                                CASE \n",
    "                                    WHEN team1_score < team2_score THEN 3 \n",
    "                                    WHEN team1_score = team2_score THEN 1 \n",
    "                                    ELSE 0 \n",
    "                                END AS team2pts \n",
    "                            FROM \n",
    "                                team a \n",
    "                            CROSS JOIN \n",
    "                                team b \n",
    "                            ON \n",
    "                                a.grp = b.grp AND a.name > b.name\n",
    "                        )\n",
    "                        SELECT \n",
    "                            team1, grp1, team1_score, team2_score, team1pts \n",
    "                        FROM \n",
    "                            cte \n",
    "                        UNION ALL \n",
    "                        SELECT \n",
    "                            team2, grp2, team1_score, team2_score, team2pts AS pts \n",
    "                        FROM \n",
    "                            cte\n",
    "                    )\n",
    "                    SELECT \n",
    "                        team1 AS name, grp1 AS grp, 3 AS mp, \n",
    "                        FLOOR(SUM(team1pts)/3) AS win, \n",
    "                        CASE \n",
    "                            WHEN SUM(team1pts) % 3 = 0 THEN 0 \n",
    "                            ELSE 1 \n",
    "                        END AS draw, \n",
    "                        CASE \n",
    "                            WHEN win + draw = 3 THEN 0 \n",
    "                            WHEN win + draw = 2 THEN 1 \n",
    "                            WHEN win + draw = 1 THEN 2 \n",
    "                            ELSE 3 \n",
    "                        END AS loss, \n",
    "                        SUM(team1_score) AS gf, \n",
    "                        SUM(team2_score) AS ga,\n",
    "                        SUM(team1_score) - SUM(team2_score) AS gd, \n",
    "                        SUM(team1pts) AS pts,\n",
    "                        ROW_NUMBER() OVER(PARTITION BY grp1 ORDER BY SUM(team1pts) DESC,SUM(team1_score) - SUM(team2_score) DESC) rnk\n",
    "                    FROM \n",
    "                        cte2 \n",
    "                    GROUP BY \n",
    "                        team1, grp1 \n",
    "                    ORDER BY \n",
    "                        grp, pts DESC\n",
    "                )\n",
    "                SELECT * FROM cte3 WHERE rnk < 3\n",
    "                UNION\n",
    "                SELECT * FROM cte3 WHERE rnk = 3 ORDER BY rnk, pts DESC, gd DESC LIMIT 16\n",
    "            )\n",
    "            SELECT name, grp, rnk FROM cte4 ORDER BY grp\n",
    "        )\n",
    "\n",
    "        SELECT \n",
    "            name, grp, rnk \n",
    "        FROM \n",
    "            cte5 \n",
    "        WHERE \n",
    "            grp = 'B' AND rnk = 1\n",
    "        UNION\n",
    "\n",
    "        SELECT \n",
    "            name, grp, rnk\n",
    "        FROM \n",
    "            cte5\n",
    "        WHERE \n",
    "            CASE \n",
    "                WHEN (SELECT CONCAT_WS('', COLLECT_LIST(grp))\n",
    "                    FROM cte5\n",
    "                    WHERE rnk = 3) IN ('ABCD', 'ABCE','ABCF') THEN (grp = 'A' AND rnk = 3)\n",
    "                WHEN (SELECT CONCAT_WS('', COLLECT_LIST(grp))\n",
    "                    FROM cte5\n",
    "                    WHERE rnk = 3) IN ('ABDE', 'ABDF') THEN (grp = 'D' AND rnk = 3)\n",
    "                WHEN (SELECT CONCAT_WS('', COLLECT_LIST(grp))\n",
    "                    FROM cte5\n",
    "                    WHERE rnk = 3) IN ('ABEF', 'ACDE','ACEF','ADEF','BCDE') THEN (grp = 'E' AND rnk = 3)\n",
    "                WHEN (SELECT CONCAT_WS('', COLLECT_LIST(grp))\n",
    "                    FROM cte5\n",
    "                    WHERE rnk = 3) IN ('ACDF', 'BCDF','BCEF','BDEF','CDEF') THEN (grp = 'F' AND rnk = 3)\n",
    "            END\n",
    "\n",
    "        UNION\n",
    "\n",
    "        SELECT \n",
    "            name, grp, rnk \n",
    "        FROM \n",
    "            cte5 \n",
    "        WHERE \n",
    "            grp = 'A' AND rnk = 1\n",
    "        UNION\n",
    "        SELECT \n",
    "            name, grp, rnk \n",
    "        FROM \n",
    "            cte5 \n",
    "        WHERE \n",
    "            grp = 'C' AND rnk = 2\n",
    "        UNION\n",
    "        SELECT \n",
    "            name, grp, rnk \n",
    "        FROM \n",
    "            cte5 \n",
    "        WHERE \n",
    "            grp = 'F' AND rnk = 1\n",
    "        UNION\n",
    "\n",
    "        SELECT \n",
    "            name, grp, rnk\n",
    "        FROM \n",
    "            cte5\n",
    "        WHERE \n",
    "            CASE \n",
    "                WHEN (SELECT CONCAT_WS('', COLLECT_LIST(grp))\n",
    "                    FROM cte5\n",
    "                    WHERE rnk = 3) IN ('ABEF','ACDE','ACDF','ACEF','ADEF') THEN (grp = 'A' AND rnk = 3)\n",
    "                WHEN (SELECT CONCAT_WS('', COLLECT_LIST(grp))\n",
    "                    FROM cte5\n",
    "                    WHERE rnk = 3) IN ('ABDE','ABDF','BCDF','BCEF','BDEF') THEN (grp = 'B' AND rnk = 3)\n",
    "                WHEN (SELECT CONCAT_WS('', COLLECT_LIST(grp))\n",
    "                    FROM cte5\n",
    "                    WHERE rnk = 3) IN ('ABCD','ABCE','ABCF','BCDE','CDEF') THEN (grp = 'C' AND rnk = 3)\n",
    "            END\n",
    "\n",
    "        UNION\n",
    "\n",
    "        SELECT \n",
    "            name, grp, rnk \n",
    "        FROM \n",
    "            cte5 \n",
    "        WHERE \n",
    "            grp = 'D' AND rnk = 2\n",
    "        UNION\n",
    "        SELECT \n",
    "            name, grp, rnk \n",
    "        FROM \n",
    "            cte5 \n",
    "        WHERE \n",
    "            grp = 'E' AND rnk = 2\n",
    "        UNION\n",
    "        SELECT \n",
    "            name, grp, rnk \n",
    "        FROM \n",
    "            cte5 \n",
    "        WHERE \n",
    "            grp = 'E' AND rnk = 1\n",
    "        UNION \n",
    "\n",
    "        SELECT \n",
    "            name, grp, rnk\n",
    "        FROM \n",
    "            cte5\n",
    "        WHERE \n",
    "            CASE \n",
    "                WHEN (SELECT CONCAT_WS('', COLLECT_LIST(grp))\n",
    "                    FROM cte5\n",
    "                    WHERE rnk = 3) IN ('ABDE', 'ABDF') THEN (grp = 'A' AND rnk = 3)\n",
    "                WHEN (SELECT CONCAT_WS('', COLLECT_LIST(grp))\n",
    "                    FROM cte5\n",
    "                    WHERE rnk = 3) IN ('ABCD', 'ABCE','ABCF','ABEF','BCDE') THEN (grp = 'B' AND rnk = 3)\n",
    "                WHEN (SELECT CONCAT_WS('', COLLECT_LIST(grp))\n",
    "                    FROM cte5\n",
    "                    WHERE rnk = 3) IN ('ACDE', 'ACDF','ACEF','BCDF','BCEF') THEN (grp = 'C' AND rnk = 3)\n",
    "                WHEN (SELECT CONCAT_WS('', COLLECT_LIST(grp))\n",
    "                    FROM cte5\n",
    "                    WHERE\n",
    "\n",
    " rnk = 3) IN ('ADEF', 'BDEF','CDEF') THEN (grp = 'D' AND rnk = 3)\n",
    "            END\n",
    "\n",
    "        UNION \n",
    "        SELECT \n",
    "            name, grp, rnk \n",
    "        FROM \n",
    "            cte5 \n",
    "        WHERE \n",
    "            grp = 'D' AND rnk = 1\n",
    "        UNION \n",
    "        SELECT \n",
    "            name, grp, rnk \n",
    "        FROM \n",
    "            cte5 \n",
    "        WHERE \n",
    "            grp = 'F' AND rnk = 2\n",
    "        UNION \n",
    "        SELECT \n",
    "            name, grp, rnk \n",
    "        FROM \n",
    "            cte5 \n",
    "        WHERE \n",
    "            grp = 'C' AND rnk = 1\n",
    "        UNION \n",
    "\n",
    "        SELECT \n",
    "            name, grp, rnk\n",
    "        FROM \n",
    "            cte5\n",
    "        WHERE \n",
    "            CASE \n",
    "                WHEN (SELECT CONCAT_WS('', COLLECT_LIST(grp))\n",
    "                    FROM cte5\n",
    "                    WHERE rnk = 3) IN ('ABCD','ACDE','ACDF','BCDE','BCDF') THEN (grp = 'D' AND rnk = 3)\n",
    "                WHEN (SELECT CONCAT_WS('', COLLECT_LIST(grp))\n",
    "                    FROM cte5\n",
    "                    WHERE rnk = 3) IN ('ABCE','ABDE','BCEF','BDEF','CDEF') THEN (grp = 'E' AND rnk = 3)\n",
    "                WHEN (SELECT CONCAT_WS('', COLLECT_LIST(grp))\n",
    "                    FROM cte5\n",
    "                    WHERE rnk = 3) IN ('ABCF','ABDF','ABEF','ACEF','ADEF') THEN (grp = 'F' AND rnk = 3)\n",
    "            END\n",
    "\n",
    "        UNION \n",
    "        SELECT \n",
    "            name, grp, rnk \n",
    "        FROM \n",
    "            cte5 \n",
    "        WHERE \n",
    "            grp = 'A' AND rnk = 2\n",
    "        UNION \n",
    "        SELECT \n",
    "            name, grp, rnk \n",
    "        FROM \n",
    "            cte5 \n",
    "        WHERE \n",
    "            grp = 'B' AND rnk = 2\n",
    "    )\n",
    "    SELECT \n",
    "        *, NTILE(8) OVER (ORDER BY (SELECT 0)) AS matches \n",
    "    FROM \n",
    "        cte6\n",
    ")\n",
    "SELECT \n",
    "    CONCAT(a.name,\" \",a.grp,a.rnk,\"    VS    \",b.name,\" \",b.grp,b.rnk) AS round_16_fixtures,\n",
    "    a.matches, \n",
    "    CASE \n",
    "        WHEN ROUND(RAND()*2) = 0 THEN \"WIN\" \n",
    "        ELSE \"LOSE\" \n",
    "    END AS team_1, \n",
    "    CASE \n",
    "        WHEN team_1 = \"WIN\" THEN \"LOSE\" \n",
    "        ELSE \"WIN\" \n",
    "    END AS team_2,\n",
    "    CASE \n",
    "        WHEN team_1 = \"WIN\" THEN CONCAT(a.name,\" \",a.grp,a.rnk) \n",
    "        ELSE CONCAT(b.name,\" \",b.grp,b.rnk) \n",
    "    END AS quarter_finalist \n",
    "FROM \n",
    "    cte7 a \n",
    "INNER JOIN \n",
    "    cte7 b ON a.matches = b.matches AND a.name > b.name;\n"
   ]
  },
  {
   "cell_type": "markdown",
   "metadata": {
    "application/vnd.databricks.v1+cell": {
     "cellMetadata": {
      "byteLimit": 2048000,
      "rowLimit": 10000
     },
     "inputWidgets": {},
     "nuid": "4c9646ba-32b9-4561-a3f4-b084a81aba96",
     "showTitle": false,
     "title": ""
    }
   },
   "source": [
    "### STAGE 3 - QUARTER-FINAL MATCHES AND THEIR RESULTS (4 MATCHES OF 8 TEAMS)"
   ]
  },
  {
   "cell_type": "code",
   "execution_count": 0,
   "metadata": {
    "application/vnd.databricks.v1+cell": {
     "cellMetadata": {
      "byteLimit": 2048000,
      "implicitDf": true,
      "rowLimit": 10000
     },
     "inputWidgets": {},
     "nuid": "a866c049-c14f-4a61-a327-171747858656",
     "showTitle": false,
     "title": ""
    }
   },
   "outputs": [
    {
     "output_type": "display_data",
     "data": {
      "text/html": [
       "<style scoped>\n",
       "  .table-result-container {\n",
       "    max-height: 300px;\n",
       "    overflow: auto;\n",
       "  }\n",
       "  table, th, td {\n",
       "    border: 1px solid black;\n",
       "    border-collapse: collapse;\n",
       "  }\n",
       "  th, td {\n",
       "    padding: 5px;\n",
       "  }\n",
       "  th {\n",
       "    text-align: left;\n",
       "  }\n",
       "</style><div class='table-result-container'><table class='table-result'><thead style='background-color: white'><tr><th>quarter_final_fixtures</th><th>matches</th><th>team_1</th><th>team_2</th><th>semi_finalist</th></tr></thead><tbody><tr><td>Denmark C2   VS   Czechia F3</td><td>1</td><td>LOSE</td><td>WIN</td><td>Czechia F3</td></tr><tr><td>Portugal F1   VS   France D2</td><td>2</td><td>LOSE</td><td>WIN</td><td>France D2</td></tr><tr><td>Slovenia C3   VS   Poland D1</td><td>3</td><td>WIN</td><td>LOSE</td><td>Slovenia C3</td></tr><tr><td>Hungary A2   VS   Austria D3</td><td>4</td><td>LOSE</td><td>WIN</td><td>Austria D3</td></tr></tbody></table></div>"
      ]
     },
     "metadata": {
      "application/vnd.databricks.v1+output": {
       "addedWidgets": {},
       "aggData": [],
       "aggError": "",
       "aggOverflow": false,
       "aggSchema": [],
       "aggSeriesLimitReached": false,
       "aggType": "",
       "arguments": {},
       "columnCustomDisplayInfos": {},
       "data": [
        [
         "Denmark C2   VS   Czechia F3",
         1,
         "LOSE",
         "WIN",
         "Czechia F3"
        ],
        [
         "Portugal F1   VS   France D2",
         2,
         "LOSE",
         "WIN",
         "France D2"
        ],
        [
         "Slovenia C3   VS   Poland D1",
         3,
         "WIN",
         "LOSE",
         "Slovenia C3"
        ],
        [
         "Hungary A2   VS   Austria D3",
         4,
         "LOSE",
         "WIN",
         "Austria D3"
        ]
       ],
       "datasetInfos": [],
       "dbfsResultPath": null,
       "isJsonSchema": true,
       "metadata": {},
       "overflow": false,
       "plotOptions": {
        "customPlotOptions": {},
        "displayType": "table",
        "pivotAggregation": null,
        "pivotColumns": null,
        "xColumns": null,
        "yColumns": null
       },
       "removedWidgets": [],
       "schema": [
        {
         "metadata": "{}",
         "name": "quarter_final_fixtures",
         "type": "\"string\""
        },
        {
         "metadata": "{}",
         "name": "matches",
         "type": "\"integer\""
        },
        {
         "metadata": "{}",
         "name": "team_1",
         "type": "\"string\""
        },
        {
         "metadata": "{}",
         "name": "team_2",
         "type": "\"string\""
        },
        {
         "metadata": "{}",
         "name": "semi_finalist",
         "type": "\"string\""
        }
       ],
       "type": "table"
      }
     },
     "output_type": "display_data"
    }
   ],
   "source": [
    "%sql\n",
    "WITH cte9 AS (\n",
    "    WITH cte8 AS (\n",
    "        WITH cte7 AS (\n",
    "            WITH cte6 AS (\n",
    "                WITH cte5 AS (\n",
    "                    WITH cte4 AS (\n",
    "                        WITH cte3 AS (\n",
    "                            WITH cte2 AS (\n",
    "                                WITH cte AS (\n",
    "                                    SELECT \n",
    "                                        CONCAT(a.name, \" VS \", b.name) AS match_fixtures, \n",
    "                                        a.name AS team1, a.grp AS grp1, \n",
    "                                        b.name AS team2, b.grp AS grp2, \n",
    "                                        FLOOR(RAND()*5) AS team1_score, \n",
    "                                        FLOOR(RAND()*5) AS team2_score, \n",
    "                                        CASE \n",
    "                                            WHEN team1_score > team2_score THEN 3 \n",
    "                                            WHEN team1_score = team2_score THEN 1 \n",
    "                                            ELSE 0 \n",
    "                                        END AS team1pts,\n",
    "                                        CASE \n",
    "                                            WHEN team1_score < team2_score THEN 3 \n",
    "                                            WHEN team1_score = team2_score THEN 1 \n",
    "                                            ELSE 0 \n",
    "                                        END AS team2pts \n",
    "                                    FROM \n",
    "                                        team a \n",
    "                                    CROSS JOIN \n",
    "                                        team b \n",
    "                                    ON \n",
    "                                        a.grp = b.grp AND a.name > b.name\n",
    "                                )\n",
    "                                SELECT \n",
    "                                    team1, grp1, team1_score, team2_score, team1pts \n",
    "                                FROM \n",
    "                                    cte \n",
    "                                UNION ALL \n",
    "                                SELECT \n",
    "                                    team2, grp2, team1_score, team2_score, team2pts AS pts \n",
    "                                FROM \n",
    "                                    cte\n",
    "                            )\n",
    "                            SELECT \n",
    "                                team1 AS name, grp1 AS grp, 3 AS mp, \n",
    "                                FLOOR(SUM(team1pts)/3) AS win, \n",
    "                                CASE \n",
    "                                    WHEN SUM(team1pts) % 3 = 0 THEN 0 \n",
    "                                    ELSE 1 \n",
    "                                END AS draw, \n",
    "                                CASE \n",
    "                                    WHEN win + draw = 3 THEN 0 \n",
    "                                    WHEN win + draw = 2 THEN 1 \n",
    "                                    WHEN win + draw = 1 THEN 2 \n",
    "                                    ELSE 3 \n",
    "                                END AS loss, \n",
    "                                SUM(team1_score) AS gf, \n",
    "                                SUM(team2_score) AS ga,\n",
    "                                SUM(team1_score) - SUM(team2_score) AS gd, \n",
    "                                SUM(team1pts) AS pts,\n",
    "                                ROW_NUMBER() OVER(PARTITION BY grp1 ORDER BY SUM(team1pts) DESC,SUM(team1_score) - SUM(team2_score) DESC) rnk\n",
    "                            FROM \n",
    "                                cte2 \n",
    "                            GROUP BY \n",
    "                                team1, grp1 \n",
    "                            ORDER BY \n",
    "                                grp, pts DESC\n",
    "                        )\n",
    "                        SELECT * FROM cte3 WHERE rnk < 3\n",
    "                        UNION\n",
    "                        SELECT * FROM cte3 WHERE rnk = 3 ORDER BY rnk, pts DESC, gd DESC LIMIT 16\n",
    "                    )\n",
    "                    SELECT name, grp, rnk FROM cte4 ORDER BY grp\n",
    "                )\n",
    "\n",
    "                SELECT \n",
    "                    name, grp, rnk \n",
    "                FROM \n",
    "                    cte5 \n",
    "                WHERE \n",
    "                    grp = 'B' AND rnk = 1\n",
    "                UNION\n",
    "\n",
    "                SELECT \n",
    "                    name, grp, rnk\n",
    "                FROM \n",
    "                    cte5\n",
    "                WHERE \n",
    "                    CASE \n",
    "                        WHEN (SELECT CONCAT_WS('', COLLECT_LIST(grp))\n",
    "                            FROM cte5\n",
    "                            WHERE rnk = 3) IN ('ABCD', 'ABCE','ABCF') THEN (grp = 'A' AND rnk = 3)\n",
    "                        WHEN (SELECT CONCAT_WS('', COLLECT_LIST(grp))\n",
    "                            FROM cte5\n",
    "                            WHERE rnk = 3) IN ('ABDE', 'ABDF') THEN (grp = 'D' AND rnk = 3)\n",
    "                        WHEN (SELECT CONCAT_WS('', COLLECT_LIST(grp))\n",
    "                            FROM cte5\n",
    "                            WHERE rnk = 3) IN ('ABEF', 'ACDE','ACEF','ADEF','BCDE') THEN (grp = 'E' AND rnk = 3)\n",
    "                        WHEN (SELECT CONCAT_WS('', COLLECT_LIST(grp))\n",
    "                            FROM cte5\n",
    "                            WHERE rnk = 3) IN ('ACDF', 'BCDF','BCEF','BDEF','CDEF') THEN (grp = 'F' AND rnk = 3)\n",
    "                    END\n",
    "\n",
    "                UNION\n",
    "\n",
    "                SELECT \n",
    "                    name, grp, rnk \n",
    "                FROM \n",
    "                    cte5 \n",
    "                WHERE \n",
    "                    grp = 'A' AND rnk = 1\n",
    "                UNION\n",
    "                SELECT \n",
    "                    name, grp, rnk \n",
    "                FROM \n",
    "                    cte5 \n",
    "                WHERE \n",
    "                    grp = 'C' AND rnk = 2\n",
    "                UNION\n",
    "                SELECT \n",
    "                    name, grp, rnk \n",
    "                FROM \n",
    "                    cte5 \n",
    "                WHERE \n",
    "                    grp = 'F' AND rnk = 1\n",
    "                UNION\n",
    "\n",
    "                SELECT \n",
    "                    name, grp, rnk\n",
    "                FROM \n",
    "                    cte5\n",
    "                WHERE \n",
    "                    CASE \n",
    "                        WHEN (SELECT CONCAT_WS('', COLLECT_LIST(grp))\n",
    "                            FROM cte5\n",
    "                            WHERE rnk = 3) IN ('ABEF','ACDE','ACDF','ACEF','ADEF') THEN (grp = 'A' AND rnk = 3)\n",
    "                        WHEN (SELECT CONCAT_WS('', COLLECT_LIST(grp))\n",
    "                            FROM cte5\n",
    "                            WHERE rnk = 3) IN ('ABDE','ABDF','BCDF','BCEF','BDEF') THEN (grp = 'B' AND rnk = 3)\n",
    "                        WHEN (SELECT CONCAT_WS('', COLLECT_LIST(grp))\n",
    "                            FROM cte5\n",
    "                            WHERE rnk = 3) IN ('ABCD','ABCE','ABCF','BCDE','CDEF') THEN (grp = 'C' AND rnk = 3)\n",
    "                    END\n",
    "\n",
    "                UNION\n",
    "\n",
    "                SELECT \n",
    "                    name, grp, rnk \n",
    "                FROM \n",
    "                    cte5 \n",
    "                WHERE \n",
    "                    grp = 'D' AND rnk = 2\n",
    "                UNION\n",
    "                SELECT \n",
    "                    name, grp, rnk \n",
    "                FROM \n",
    "                    cte5 \n",
    "                WHERE \n",
    "                    grp = 'E' AND rnk = 2\n",
    "                UNION\n",
    "                SELECT \n",
    "                    name, grp, rnk \n",
    "                FROM \n",
    "                    cte5 \n",
    "                WHERE \n",
    "                    grp = 'E' AND rnk = 1\n",
    "                UNION \n",
    "\n",
    "                SELECT \n",
    "                    name, grp, rnk\n",
    "                FROM \n",
    "                    cte5\n",
    "                WHERE \n",
    "                    CASE \n",
    "                        WHEN (SELECT CONCAT_WS('', COLLECT_LIST(grp))\n",
    "                            FROM cte5\n",
    "                            WHERE rnk = 3) IN ('ABDE', 'ABDF') THEN (grp = 'A' AND rnk = 3)\n",
    "                        WHEN (SELECT CONCAT_WS('', COLLECT_LIST(grp))\n",
    "                            FROM cte5\n",
    "                            WHERE rnk = 3) IN ('ABCD', 'ABCE','ABCF','ABEF','BCDE') THEN (grp = 'B' AND rnk = 3)\n",
    "                        WHEN (SELECT CONCAT_WS('', COLLECT_LIST(grp))\n",
    "                            FROM cte5\n",
    "                            WHERE rnk = 3) IN ('ACDE', 'ACDF','ACEF','BCDF','BCEF') THEN (grp = 'C' AND rnk = 3)\n",
    "                        WHEN (SELECT CONCAT_WS('',\n",
    "\n",
    " COLLECT_LIST(grp))\n",
    "                            FROM cte5\n",
    "                            WHERE rnk = 3) IN ('ADEF', 'BDEF','CDEF') THEN (grp = 'D' AND rnk = 3)\n",
    "                    END\n",
    "\n",
    "                UNION \n",
    "                SELECT \n",
    "                    name, grp, rnk \n",
    "                FROM \n",
    "                    cte5 \n",
    "                WHERE \n",
    "                    grp = 'D' AND rnk = 1\n",
    "                UNION \n",
    "                SELECT \n",
    "                    name, grp, rnk \n",
    "                FROM \n",
    "                    cte5 \n",
    "                WHERE \n",
    "                    grp = 'F' AND rnk = 2\n",
    "                UNION \n",
    "                SELECT \n",
    "                    name, grp, rnk \n",
    "                FROM \n",
    "                    cte5 \n",
    "                WHERE \n",
    "                    grp = 'C' AND rnk = 1\n",
    "                UNION \n",
    "\n",
    "                SELECT \n",
    "                    name, grp, rnk\n",
    "                FROM \n",
    "                    cte5\n",
    "                WHERE \n",
    "                    CASE \n",
    "                        WHEN (SELECT CONCAT_WS('', COLLECT_LIST(grp))\n",
    "                            FROM cte5\n",
    "                            WHERE rnk = 3) IN ('ABCD','ACDE','ACDF','BCDE','BCDF') THEN (grp = 'D' AND rnk = 3)\n",
    "                        WHEN (SELECT CONCAT_WS('', COLLECT_LIST(grp))\n",
    "                            FROM cte5\n",
    "                            WHERE rnk = 3) IN ('ABCE','ABDE','BCEF','BDEF','CDEF') THEN (grp = 'E' AND rnk = 3)\n",
    "                        WHEN (SELECT CONCAT_WS('', COLLECT_LIST(grp))\n",
    "                            FROM cte5\n",
    "                            WHERE rnk = 3) IN ('ABCF','ABDF','ABEF','ACEF','ADEF') THEN (grp = 'F' AND rnk = 3)\n",
    "                    END\n",
    "\n",
    "                UNION \n",
    "                SELECT \n",
    "                    name, grp, rnk \n",
    "                FROM \n",
    "                    cte5 \n",
    "                WHERE \n",
    "                    grp = 'A' AND rnk = 2\n",
    "                UNION \n",
    "                SELECT \n",
    "                    name, grp, rnk \n",
    "                FROM \n",
    "                    cte5 \n",
    "                WHERE \n",
    "                    grp = 'B' AND rnk = 2\n",
    "            )\n",
    "            SELECT \n",
    "                *, NTILE(8) OVER (ORDER BY (SELECT 0)) AS matches \n",
    "            FROM \n",
    "                cte6\n",
    "        )\n",
    "        SELECT \n",
    "            CONCAT(a.name,\" \",a.grp,a.rnk,\"    VS    \",b.name,\" \",b.grp,b.rnk) AS round_16_fixtures,\n",
    "            a.matches, \n",
    "            CASE \n",
    "                WHEN ROUND(RAND()*2) = 0 THEN \"WIN\" \n",
    "                ELSE \"LOSE\" \n",
    "            END AS team_1, \n",
    "            CASE \n",
    "                WHEN team_1 = \"WIN\" THEN \"LOSE\" \n",
    "                ELSE \"WIN\" \n",
    "            END AS team_2,\n",
    "            CASE \n",
    "                WHEN team_1 = \"WIN\" THEN CONCAT(a.name,\" \",a.grp,a.rnk) \n",
    "                ELSE CONCAT(b.name,\" \",b.grp,b.rnk) \n",
    "            END AS quarter_finalist \n",
    "        FROM \n",
    "            cte7 a \n",
    "        INNER JOIN \n",
    "            cte7 b ON a.matches = b.matches AND a.name > b.name\n",
    "    )\n",
    "    SELECT \n",
    "        quarter_finalist, NTILE(4) OVER (ORDER BY (SELECT 0)) AS matches \n",
    "    FROM \n",
    "        cte8\n",
    ")\n",
    "SELECT \n",
    "    CONCAT(a.quarter_finalist,\"   VS   \",b.quarter_finalist) AS quarter_final_fixtures,\n",
    "    a.matches,\n",
    "    CASE \n",
    "        WHEN ROUND(RAND()*2) = 0 THEN \"WIN\" \n",
    "        ELSE \"LOSE\" \n",
    "    END AS team_1, \n",
    "    CASE \n",
    "        WHEN team_1 = \"WIN\" THEN \"LOSE\" \n",
    "        ELSE \"WIN\" \n",
    "    END AS team_2,\n",
    "    CASE \n",
    "        WHEN team_1 = \"WIN\" THEN a.quarter_finalist \n",
    "        ELSE b.quarter_finalist \n",
    "    END AS semi_finalist \n",
    "FROM \n",
    "    cte9 a \n",
    "INNER JOIN \n",
    "    cte9 b ON a.matches = b.matches AND a.quarter_finalist > b.quarter_finalist \n",
    "ORDER BY \n",
    "    a.matches;\n"
   ]
  },
  {
   "cell_type": "markdown",
   "metadata": {
    "application/vnd.databricks.v1+cell": {
     "cellMetadata": {
      "byteLimit": 2048000,
      "rowLimit": 10000
     },
     "inputWidgets": {},
     "nuid": "74e8fb55-6e82-4919-af6e-94b58ce7b8b2",
     "showTitle": false,
     "title": ""
    }
   },
   "source": [
    "### STAGE 4 - SEMI-FIANL MATCHES AND THEIR RESULTS (2 MATCHES OF 4 TEAMS)"
   ]
  },
  {
   "cell_type": "code",
   "execution_count": 0,
   "metadata": {
    "application/vnd.databricks.v1+cell": {
     "cellMetadata": {
      "byteLimit": 2048000,
      "implicitDf": true,
      "rowLimit": 10000
     },
     "inputWidgets": {},
     "nuid": "9a7d1ead-4c16-47ef-925f-ad9b77ac4533",
     "showTitle": false,
     "title": ""
    }
   },
   "outputs": [
    {
     "output_type": "display_data",
     "data": {
      "text/html": [
       "<style scoped>\n",
       "  .table-result-container {\n",
       "    max-height: 300px;\n",
       "    overflow: auto;\n",
       "  }\n",
       "  table, th, td {\n",
       "    border: 1px solid black;\n",
       "    border-collapse: collapse;\n",
       "  }\n",
       "  th, td {\n",
       "    padding: 5px;\n",
       "  }\n",
       "  th {\n",
       "    text-align: left;\n",
       "  }\n",
       "</style><div class='table-result-container'><table class='table-result'><thead style='background-color: white'><tr><th>semi_final_fixtures</th><th>matches</th><th>team_1</th><th>team_2</th><th>finalist</th></tr></thead><tbody><tr><td>Spain B1   VS   Denmark C3</td><td>1</td><td>LOSE</td><td>WIN</td><td>Denmark C3</td></tr><tr><td>Belgium E1   VS   Albania B2</td><td>2</td><td>LOSE</td><td>WIN</td><td>Albania B2</td></tr></tbody></table></div>"
      ]
     },
     "metadata": {
      "application/vnd.databricks.v1+output": {
       "addedWidgets": {},
       "aggData": [],
       "aggError": "",
       "aggOverflow": false,
       "aggSchema": [],
       "aggSeriesLimitReached": false,
       "aggType": "",
       "arguments": {},
       "columnCustomDisplayInfos": {},
       "data": [
        [
         "Spain B1   VS   Denmark C3",
         1,
         "LOSE",
         "WIN",
         "Denmark C3"
        ],
        [
         "Belgium E1   VS   Albania B2",
         2,
         "LOSE",
         "WIN",
         "Albania B2"
        ]
       ],
       "datasetInfos": [],
       "dbfsResultPath": null,
       "isJsonSchema": true,
       "metadata": {},
       "overflow": false,
       "plotOptions": {
        "customPlotOptions": {},
        "displayType": "table",
        "pivotAggregation": null,
        "pivotColumns": null,
        "xColumns": null,
        "yColumns": null
       },
       "removedWidgets": [],
       "schema": [
        {
         "metadata": "{}",
         "name": "semi_final_fixtures",
         "type": "\"string\""
        },
        {
         "metadata": "{}",
         "name": "matches",
         "type": "\"integer\""
        },
        {
         "metadata": "{}",
         "name": "team_1",
         "type": "\"string\""
        },
        {
         "metadata": "{}",
         "name": "team_2",
         "type": "\"string\""
        },
        {
         "metadata": "{}",
         "name": "finalist",
         "type": "\"string\""
        }
       ],
       "type": "table"
      }
     },
     "output_type": "display_data"
    }
   ],
   "source": [
    "%sql\n",
    "WITH cte11 AS (\n",
    "    WITH cte10 AS (\n",
    "        WITH cte9 AS (\n",
    "            WITH cte8 AS (\n",
    "                WITH cte7 AS (\n",
    "                    WITH cte6 AS (\n",
    "                        WITH cte5 AS (\n",
    "                            WITH cte4 AS (\n",
    "                                WITH cte3 AS (\n",
    "                                    WITH cte2 AS (\n",
    "                                        WITH cte AS (\n",
    "                                            SELECT \n",
    "                                                CONCAT(a.name, \" VS \", b.name) AS match_fixtures, \n",
    "                                                a.name AS team1, a.grp AS grp1, \n",
    "                                                b.name AS team2, b.grp AS grp2, \n",
    "                                                FLOOR(RAND()*5) AS team1_score, \n",
    "                                                FLOOR(RAND()*5) AS team2_score, \n",
    "                                                CASE \n",
    "                                                    WHEN team1_score > team2_score THEN 3 \n",
    "                                                    WHEN team1_score = team2_score THEN 1 \n",
    "                                                    ELSE 0 \n",
    "                                                END AS team1pts,\n",
    "                                                CASE \n",
    "                                                    WHEN team1_score < team2_score THEN 3 \n",
    "                                                    WHEN team1_score = team2_score THEN 1 \n",
    "                                                    ELSE 0 \n",
    "                                                END AS team2pts \n",
    "                                            FROM \n",
    "                                                team a \n",
    "                                            CROSS JOIN \n",
    "                                                team b \n",
    "                                            ON \n",
    "                                                a.grp = b.grp AND a.name > b.name\n",
    "                                        )\n",
    "                                        SELECT \n",
    "                                            team1, grp1, team1_score, team2_score, team1pts \n",
    "                                        FROM \n",
    "                                            cte \n",
    "                                        UNION ALL \n",
    "                                        SELECT \n",
    "                                            team2, grp2, team1_score, team2_score, team2pts AS pts \n",
    "                                        FROM \n",
    "                                            cte\n",
    "                                    )\n",
    "                                    SELECT \n",
    "                                        team1 AS name, grp1 AS grp, 3 AS mp, \n",
    "                                        FLOOR(SUM(team1pts)/3) AS win, \n",
    "                                        CASE \n",
    "                                            WHEN SUM(team1pts) % 3 = 0 THEN 0 \n",
    "                                            ELSE 1 \n",
    "                                        END AS draw, \n",
    "                                        CASE \n",
    "                                            WHEN win + draw = 3 THEN 0 \n",
    "                                            WHEN win + draw = 2 THEN 1 \n",
    "                                            WHEN win + draw = 1 THEN 2 \n",
    "                                            ELSE 3 \n",
    "                                        END AS loss, \n",
    "                                        SUM(team1_score) AS gf, \n",
    "                                        SUM(team2_score) AS ga,\n",
    "                                        SUM(team1_score) - SUM(team2_score) AS gd, \n",
    "                                        SUM(team1pts) AS pts,\n",
    "                                        ROW_NUMBER() OVER(PARTITION BY grp1 ORDER BY SUM(team1pts) DESC,SUM(team1_score) - SUM(team2_score) DESC) rnk\n",
    "                                    FROM \n",
    "                                        cte2 \n",
    "                                    GROUP BY \n",
    "                                        team1, grp1 \n",
    "                                    ORDER BY \n",
    "                                        grp, pts DESC\n",
    "                                )\n",
    "                                SELECT * FROM cte3 WHERE rnk < 3\n",
    "                                UNION\n",
    "                                SELECT * FROM cte3 WHERE rnk = 3 ORDER BY rnk, pts DESC, gd DESC LIMIT 16\n",
    "                            )\n",
    "                            SELECT name, grp, rnk FROM cte4 ORDER BY grp\n",
    "                        )\n",
    "\n",
    "                        SELECT \n",
    "                            name, grp, rnk \n",
    "                        FROM \n",
    "                            cte5 \n",
    "                        WHERE \n",
    "                            grp = 'B' AND rnk = 1\n",
    "                        UNION\n",
    "\n",
    "                        SELECT \n",
    "                            name, grp, rnk\n",
    "                        FROM \n",
    "                            cte5\n",
    "                        WHERE \n",
    "                            CASE \n",
    "                                WHEN (SELECT CONCAT_WS('', COLLECT_LIST(grp))\n",
    "                                    FROM cte5\n",
    "                                    WHERE rnk = 3) IN ('ABCD', 'ABCE','ABCF') THEN (grp = 'A' AND rnk = 3)\n",
    "                                WHEN (SELECT CONCAT_WS('', COLLECT_LIST(grp))\n",
    "                                    FROM cte5\n",
    "                                    WHERE rnk = 3) IN ('ABDE', 'ABDF') THEN (grp = 'D' AND rnk = 3)\n",
    "                                WHEN (SELECT CONCAT_WS('', COLLECT_LIST(grp))\n",
    "                                    FROM cte5\n",
    "                                    WHERE rnk = 3) IN ('ABEF', 'ACDE','ACEF','ADEF','BCDE') THEN (grp = 'E' AND rnk = 3)\n",
    "                                WHEN (SELECT CONCAT_WS('', COLLECT_LIST(grp))\n",
    "                                    FROM cte5\n",
    "                                    WHERE rnk = 3) IN ('ACDF', 'BCDF','BCEF','BDEF','CDEF') THEN (grp = 'F' AND rnk = 3)\n",
    "                            END\n",
    "\n",
    "                        UNION\n",
    "\n",
    "                        SELECT \n",
    "                            name, grp, rnk \n",
    "                        FROM \n",
    "                            cte5 \n",
    "                        WHERE \n",
    "                            grp = 'A' AND rnk = 1\n",
    "                        UNION\n",
    "                        SELECT \n",
    "                            name, grp, rnk \n",
    "                        FROM \n",
    "                            cte5 \n",
    "                        WHERE \n",
    "                            grp = 'C' AND rnk = 2\n",
    "                        UNION\n",
    "                        SELECT \n",
    "                            name, grp, rnk \n",
    "                        FROM \n",
    "                            cte5 \n",
    "                        WHERE \n",
    "                            grp = 'F' AND rnk = 1\n",
    "                        UNION\n",
    "\n",
    "                        SELECT \n",
    "                            name, grp, rnk\n",
    "                        FROM \n",
    "                            cte5\n",
    "                        WHERE \n",
    "                            CASE \n",
    "                                WHEN (SELECT CONCAT_WS('', COLLECT_LIST(grp))\n",
    "                                    FROM cte5\n",
    "                                    WHERE rnk = 3) IN ('ABEF','ACDE','ACDF','ACEF','ADEF') THEN (grp = 'A' AND rnk = 3)\n",
    "                                WHEN (SELECT CONCAT_WS('', COLLECT_LIST(grp))\n",
    "                                    FROM cte5\n",
    "                                    WHERE rnk = 3) IN ('ABDE','ABDF','BCDF','BCEF','BDEF') THEN (grp = 'B' AND rnk = 3)\n",
    "                                WHEN (SELECT CONCAT_WS('', COLLECT_LIST(grp))\n",
    "                                    FROM cte5\n",
    "                                   \n",
    "\n",
    " WHERE rnk = 3) IN ('ABCD','ABCE','ABCF','BCDE','CDEF') THEN (grp = 'C' AND rnk = 3)\n",
    "                            END\n",
    "\n",
    "                        UNION\n",
    "                        SELECT \n",
    "                            name, grp, rnk \n",
    "                        FROM \n",
    "                            cte5 \n",
    "                        WHERE \n",
    "                            grp = 'D' AND rnk = 2\n",
    "                        UNION\n",
    "                        SELECT \n",
    "                            name, grp, rnk \n",
    "                        FROM \n",
    "                            cte5 \n",
    "                        WHERE \n",
    "                            grp = 'E' AND rnk = 2\n",
    "                        UNION\n",
    "                        SELECT \n",
    "                            name, grp, rnk \n",
    "                        FROM \n",
    "                            cte5 \n",
    "                        WHERE \n",
    "                            grp = 'E' AND rnk = 1\n",
    "                        UNION \n",
    "\n",
    "                        SELECT \n",
    "                            name, grp, rnk\n",
    "                        FROM \n",
    "                            cte5\n",
    "                        WHERE \n",
    "                            CASE \n",
    "                                WHEN (SELECT CONCAT_WS('', COLLECT_LIST(grp))\n",
    "                                    FROM cte5\n",
    "                                    WHERE rnk = 3) IN ('ABDE', 'ABDF') THEN (grp = 'A' AND rnk = 3)\n",
    "                                WHEN (SELECT CONCAT_WS('', COLLECT_LIST(grp))\n",
    "                                    FROM cte5\n",
    "                                    WHERE rnk = 3) IN ('ABCD', 'ABCE','ABCF','ABEF','BCDE') THEN (grp = 'B' AND rnk = 3)\n",
    "                                WHEN (SELECT CONCAT_WS('', COLLECT_LIST(grp))\n",
    "                                    FROM cte5\n",
    "                                    WHERE rnk = 3) IN ('ACDE', 'ACDF','ACEF','BCDF','BCEF') THEN (grp = 'C' AND rnk = 3)\n",
    "                                WHEN (SELECT CONCAT_WS('', COLLECT_LIST(grp))\n",
    "                                    FROM cte5\n",
    "                                    WHERE rnk = 3) IN ('ADEF', 'BDEF','CDEF') THEN (grp = 'D' AND rnk = 3)\n",
    "                            END\n",
    "\n",
    "                        UNION \n",
    "                        SELECT \n",
    "                            name, grp, rnk \n",
    "                        FROM \n",
    "                            cte5 \n",
    "                        WHERE \n",
    "                            grp = 'D' AND rnk = 1\n",
    "                        UNION \n",
    "                        SELECT \n",
    "                            name, grp, rnk \n",
    "                        FROM \n",
    "                            cte5 \n",
    "                        WHERE \n",
    "                            grp = 'F' AND rnk = 2\n",
    "                        UNION \n",
    "                        SELECT \n",
    "                            name, grp, rnk \n",
    "                        FROM \n",
    "                            cte5 \n",
    "                        WHERE \n",
    "                            grp = 'C' AND rnk = 1\n",
    "                        UNION \n",
    "\n",
    "                        SELECT \n",
    "                            name, grp, rnk\n",
    "                        FROM \n",
    "                            cte5\n",
    "                        WHERE \n",
    "                            CASE \n",
    "                                WHEN (SELECT CONCAT_WS('', COLLECT_LIST(grp))\n",
    "                                    FROM cte5\n",
    "                                    WHERE rnk = 3) IN ('ABCD','ACDE','ACDF','BCDE','BCDF') THEN (grp = 'D' AND rnk = 3)\n",
    "                                WHEN (SELECT CONCAT_WS('', COLLECT_LIST(grp))\n",
    "                                    FROM cte5\n",
    "                                    WHERE rnk = 3) IN ('ABCE','ABDE','BCEF','BDEF','CDEF') THEN (grp = 'E' AND rnk = 3)\n",
    "                                WHEN (SELECT CONCAT_WS('', COLLECT_LIST(grp))\n",
    "                                    FROM cte5\n",
    "                                    WHERE rnk = 3) IN ('ABCF','ABDF','ABEF','ACEF','ADEF') THEN (grp = 'F' AND rnk = 3)\n",
    "                            END\n",
    "\n",
    "                        UNION \n",
    "                        SELECT \n",
    "                            name, grp, rnk \n",
    "                        FROM \n",
    "                            cte5 \n",
    "                        WHERE \n",
    "                            grp = 'A' AND rnk = 2\n",
    "                        UNION \n",
    "                        SELECT \n",
    "                            name, grp, rnk \n",
    "                        FROM \n",
    "                            cte5 \n",
    "                        WHERE \n",
    "                            grp = 'B' AND rnk = 2\n",
    "                    )\n",
    "                    SELECT \n",
    "                        *, NTILE(8) OVER (ORDER BY (SELECT 0)) AS matches \n",
    "                    FROM \n",
    "                        cte6\n",
    "                )\n",
    "                SELECT \n",
    "                    CONCAT(a.name,\" \",a.grp,a.rnk,\"    VS    \",b.name,\" \",b.grp,b.rnk) AS round_16_fixtures,\n",
    "                    a.matches, \n",
    "                    CASE \n",
    "                        WHEN ROUND(RAND()*2) = 0 THEN \"WIN\" \n",
    "                        ELSE \"LOSE\" \n",
    "                    END AS team_1, \n",
    "                    CASE \n",
    "                        WHEN team_1 = \"WIN\" THEN \"LOSE\" \n",
    "                        ELSE \"WIN\" \n",
    "                    END AS team_2,\n",
    "                    CASE \n",
    "                        WHEN team_1 = \"WIN\" THEN CONCAT(a.name,\" \",a.grp,a.rnk) \n",
    "                        ELSE CONCAT(b.name,\" \",b.grp,b.rnk) \n",
    "                    END AS quarter_finalist \n",
    "                FROM \n",
    "                    cte7 a \n",
    "                INNER JOIN \n",
    "                    cte7 b ON a.matches = b.matches AND a.name > b.name\n",
    "            )\n",
    "            SELECT \n",
    "                quarter_finalist, NTILE(4) OVER (ORDER BY (SELECT 0)) AS matches \n",
    "            FROM \n",
    "                cte8\n",
    "        )\n",
    "        SELECT \n",
    "            CONCAT(a.quarter_finalist,\"   VS   \",b.quarter_finalist) AS quarter_final_fixtures,\n",
    "            a.matches,\n",
    "            CASE \n",
    "                WHEN ROUND(RAND()*2) = 0 THEN \"WIN\" \n",
    "                ELSE \"LOSE\" \n",
    "            END AS team_1, \n",
    "            CASE \n",
    "                WHEN team_1 = \"WIN\" THEN \"LOSE\" \n",
    "                ELSE \"WIN\" \n",
    "            END AS team_2,\n",
    "            CASE \n",
    "                WHEN team_1 = \"WIN\" THEN a.quarter_finalist \n",
    "                ELSE b.quarter_finalist \n",
    "            END AS semi_finalist \n",
    "        FROM \n",
    "            cte9 a \n",
    "        INNER JOIN \n",
    "            cte9 b ON a.matches = b.matches AND a.quarter_finalist > b.quarter_finalist \n",
    "        ORDER BY \n",
    "            a.matches\n",
    "    )\n",
    "    SELECT \n",
    "        semi_finalist, NTILE(2) OVER (ORDER BY (SELECT 0)) AS matches \n",
    "    FROM \n",
    "        cte10\n",
    ")\n",
    "SELECT \n",
    "    CONCAT(a.semi_finalist,\"   VS   \",b.semi_finalist) AS semi_final_fixtures,\n",
    "    a.matches,\n",
    "    CASE \n",
    "        WHEN ROUND(RAND()*2) = 0 THEN \"WIN\" \n",
    "        ELSE \"LOSE\" \n",
    "    END AS team_1, \n",
    "    CASE \n",
    "        WHEN team_1 = \"WIN\" THEN \"LOSE\" \n",
    "        ELSE \"WIN\" \n",
    "    END AS team_2,\n",
    "    CASE \n",
    "        WHEN team_1 = \"WIN\" THEN a.semi_finalist \n",
    "        ELSE b.semi_finalist \n",
    "    END AS finalist \n",
    "FROM \n",
    "    cte11 a \n",
    "INNER JOIN \n",
    "    cte11 b ON a.matches = b.matches AND a.semi_finalist > b.semi_finalist \n",
    "ORDER BY \n",
    "    a.matches;\n"
   ]
  },
  {
   "cell_type": "markdown",
   "metadata": {
    "application/vnd.databricks.v1+cell": {
     "cellMetadata": {
      "byteLimit": 2048000,
      "rowLimit": 10000
     },
     "inputWidgets": {},
     "nuid": "5b7e3b44-92d9-4932-8ee8-7b8677d7c4e8",
     "showTitle": false,
     "title": ""
    }
   },
   "source": [
    "### STAGE 5 - FINAL MATCH AND ITS RESULT"
   ]
  },
  {
   "cell_type": "code",
   "execution_count": 0,
   "metadata": {
    "application/vnd.databricks.v1+cell": {
     "cellMetadata": {
      "byteLimit": 2048000,
      "implicitDf": true,
      "rowLimit": 10000
     },
     "inputWidgets": {},
     "nuid": "f2bd36b6-da7e-4571-b567-2aad9e251f04",
     "showTitle": false,
     "title": ""
    }
   },
   "outputs": [
    {
     "output_type": "display_data",
     "data": {
      "text/html": [
       "<style scoped>\n",
       "  .table-result-container {\n",
       "    max-height: 300px;\n",
       "    overflow: auto;\n",
       "  }\n",
       "  table, th, td {\n",
       "    border: 1px solid black;\n",
       "    border-collapse: collapse;\n",
       "  }\n",
       "  th, td {\n",
       "    padding: 5px;\n",
       "  }\n",
       "  th {\n",
       "    text-align: left;\n",
       "  }\n",
       "</style><div class='table-result-container'><table class='table-result'><thead style='background-color: white'><tr><th>final_match</th><th>matches</th><th>team_1</th><th>team_2</th><th>Winner</th></tr></thead><tbody><tr><td>England C2   VS   Croatia B2</td><td>1</td><td>LOSE</td><td>WIN</td><td>Croatia B2</td></tr></tbody></table></div>"
      ]
     },
     "metadata": {
      "application/vnd.databricks.v1+output": {
       "addedWidgets": {},
       "aggData": [],
       "aggError": "",
       "aggOverflow": false,
       "aggSchema": [],
       "aggSeriesLimitReached": false,
       "aggType": "",
       "arguments": {},
       "columnCustomDisplayInfos": {},
       "data": [
        [
         "England C2   VS   Croatia B2",
         1,
         "LOSE",
         "WIN",
         "Croatia B2"
        ]
       ],
       "datasetInfos": [],
       "dbfsResultPath": null,
       "isJsonSchema": true,
       "metadata": {},
       "overflow": false,
       "plotOptions": {
        "customPlotOptions": {},
        "displayType": "table",
        "pivotAggregation": null,
        "pivotColumns": null,
        "xColumns": null,
        "yColumns": null
       },
       "removedWidgets": [],
       "schema": [
        {
         "metadata": "{}",
         "name": "final_match",
         "type": "\"string\""
        },
        {
         "metadata": "{}",
         "name": "matches",
         "type": "\"integer\""
        },
        {
         "metadata": "{}",
         "name": "team_1",
         "type": "\"string\""
        },
        {
         "metadata": "{}",
         "name": "team_2",
         "type": "\"string\""
        },
        {
         "metadata": "{}",
         "name": "Winner",
         "type": "\"string\""
        }
       ],
       "type": "table"
      }
     },
     "output_type": "display_data"
    }
   ],
   "source": [
    "%sql\n",
    "WITH cte13 AS (\n",
    "    WITH cte12 AS (\n",
    "        WITH cte11 AS (\n",
    "            WITH cte10 AS (\n",
    "                WITH cte9 AS (\n",
    "                    WITH cte8 AS (\n",
    "                        WITH cte7 AS (\n",
    "                            WITH cte6 AS (\n",
    "                                WITH cte5 AS (\n",
    "                                    WITH cte4 AS (\n",
    "                                        WITH cte3 AS (\n",
    "                                            WITH cte2 AS (\n",
    "                                                WITH cte AS (\n",
    "                                                    SELECT \n",
    "                                                        CONCAT(a.name, \" VS \", b.name) AS match_fixtures, \n",
    "                                                        a.name AS team1, a.grp AS grp1, \n",
    "                                                        b.name AS team2, b.grp AS grp2, \n",
    "                                                        FLOOR(RAND()*5) AS team1_score, \n",
    "                                                        FLOOR(RAND()*5) AS team2_score, \n",
    "                                                        CASE \n",
    "                                                            WHEN team1_score > team2_score THEN 3 \n",
    "                                                            WHEN team1_score = team2_score THEN 1 \n",
    "                                                            ELSE 0 \n",
    "                                                        END AS team1pts,\n",
    "                                                        CASE \n",
    "                                                            WHEN team1_score < team2_score THEN 3 \n",
    "                                                            WHEN team1_score = team2_score THEN 1 \n",
    "                                                            ELSE 0 \n",
    "                                                        END AS team2pts \n",
    "                                                    FROM \n",
    "                                                        team a \n",
    "                                                    CROSS JOIN \n",
    "                                                        team b \n",
    "                                                    ON \n",
    "                                                        a.grp = b.grp AND a.name > b.name\n",
    "                                                )\n",
    "                                                SELECT \n",
    "                                                    team1, grp1, team1_score, team2_score, team1pts \n",
    "                                                FROM \n",
    "                                                    cte \n",
    "                                                UNION ALL \n",
    "                                                SELECT \n",
    "                                                    team2, grp2, team1_score, team2_score, team2pts AS pts \n",
    "                                                FROM \n",
    "                                                    cte\n",
    "                                            )\n",
    "                                            SELECT \n",
    "                                                team1 AS name, grp1 AS grp, 3 AS mp, \n",
    "                                                FLOOR(SUM(team1pts)/3) AS win, \n",
    "                                                CASE \n",
    "                                                    WHEN SUM(team1pts) % 3 = 0 THEN 0 \n",
    "                                                    ELSE 1 \n",
    "                                                END AS draw, \n",
    "                                                CASE \n",
    "                                                    WHEN win + draw = 3 THEN 0 \n",
    "                                                    WHEN win + draw = 2 THEN 1 \n",
    "                                                    WHEN win + draw = 1 THEN 2 \n",
    "                                                    ELSE 3 \n",
    "                                                END AS loss, \n",
    "                                                SUM(team1_score) AS gf, \n",
    "                                                SUM(team2_score) AS ga,\n",
    "                                                SUM(team1_score) - SUM(team2_score) AS gd, \n",
    "                                                SUM(team1pts) AS pts,\n",
    "                                                ROW_NUMBER() OVER(PARTITION BY grp1 ORDER BY SUM(team1pts) DESC,SUM(team1_score) - SUM(team2_score) DESC) rnk\n",
    "                                            FROM \n",
    "                                                cte2 \n",
    "                                            GROUP BY \n",
    "                                                team1, grp1 \n",
    "                                            ORDER BY \n",
    "                                                grp, pts DESC\n",
    "                                        )\n",
    "                                        SELECT * FROM cte3 WHERE rnk < 3\n",
    "                                        UNION\n",
    "                                        SELECT * FROM cte3 WHERE rnk = 3 ORDER BY rnk, pts DESC, gd DESC LIMIT 16\n",
    "                                    )\n",
    "                                    SELECT name, grp, rnk FROM cte4 ORDER BY grp\n",
    "                                )\n",
    "                                SELECT name, grp, rnk FROM cte5 WHERE grp = 'B' AND rnk = 1\n",
    "                                UNION\n",
    "                                SELECT name, grp, rnk\n",
    "                                FROM cte5\n",
    "                                WHERE CASE \n",
    "                                      WHEN (SELECT concat_ws('', collect_list(grp))\n",
    "                                            FROM cte5\n",
    "                                            WHERE rnk = 3) IN ('ABCD', 'ABCE','ABCF') THEN (grp = 'A' AND rnk = 3)\n",
    "                                      WHEN (SELECT concat_ws('', collect_list(grp))\n",
    "                                            FROM cte5\n",
    "                                            WHERE rnk = 3) IN ('ABDE', 'ABDF') THEN (grp = 'D' AND rnk = 3)\n",
    "                                      WHEN (SELECT concat_ws('', collect_list(grp))\n",
    "                                            FROM cte5\n",
    "                                            WHERE rnk = 3) IN ('ABEF', 'ACDE','ACEF','ADEF','BCDE') THEN (grp = 'E' AND rnk = 3)\n",
    "                                      WHEN (SELECT concat_ws('', collect_list(grp))\n",
    "                                            FROM cte5\n",
    "                                            WHERE rnk = 3) IN ('ACDF', 'BCDF','BCEF','BDEF','CDEF') THEN (grp = 'F' AND rnk = 3)\n",
    "                                      END\n",
    "                                UNION\n",
    "                                SELECT name, grp, rnk FROM cte5 WHERE grp = 'A' AND rnk = 1\n",
    "                                UNION\n",
    "                                SELECT name, grp, rnk FROM cte5 WHERE grp = 'C' AND rnk = 2\n",
    "                                UNION\n",
    "                                SELECT name, grp, rnk FROM cte5 WHERE grp = 'F' AND rnk = 1\n",
    "                                UNION\n",
    "                                SELECT name, grp, rnk\n",
    "                                FROM cte5\n",
    "                                WHERE CASE \n",
    "                                      WHEN (SELECT concat_ws('', collect_list(grp))\n",
    "                                            FROM cte5\n",
    "                                            WHERE rnk = 3) IN ('ABEF','ACDE','ACDF','ACEF','ADEF') THEN (grp = 'A' AND rnk = 3)\n",
    "                                      WHEN (SELECT concat_ws('', collect_list(grp))\n",
    "                                            FROM cte5\n",
    "                                            WHERE rnk = 3) IN ('ABDE','ABDF','BCDF','BCEF','BDEF') THEN (grp = 'B' AND rnk = 3)\n",
    "                                      WHEN (SELECT concat_ws('', collect_list(grp))\n",
    "                                            FROM cte5\n",
    "                                            WHERE rnk = 3) IN ('ABCD','ABCE','ABCF','BCDE','CDEF') THEN (grp = 'C' AND rnk = 3)\n",
    "                                      END\n",
    "                                UNION\n",
    "                                SELECT name, grp, rnk FROM cte5 WHERE grp = 'D' AND rnk = 2\n",
    "                                UNION\n",
    "                                SELECT name, grp, rnk FROM cte5 WHERE grp = 'E' AND rnk = 2\n",
    "                                UNION\n",
    "                                SELECT name, grp, rnk FROM cte5 WHERE grp = 'E' AND rnk = 1\n",
    "                                UNION \n",
    "                                SELECT name, grp, rnk\n",
    "                                FROM cte5\n",
    "                                WHERE CASE \n",
    "                                      WHEN (SELECT concat_ws('', collect_list(grp))\n",
    "                                            FROM cte5\n",
    "                                            WHERE rnk = 3) IN ('ABDE', 'ABDF') THEN (grp = 'A' AND rnk = 3)\n",
    "                                      WHEN (SELECT concat_ws('', collect_list(grp))\n",
    "                                            FROM cte5\n",
    "                                            WHERE rnk = 3) IN ('ABCD', 'ABCE','ABCF','ABEF','BCDE') THEN (grp = 'B' AND rnk = 3)\n",
    "                                      WHEN (SELECT concat_ws('', collect_list(grp))\n",
    "                                            FROM cte5\n",
    "                                            WHERE rnk = 3) IN ('ACDE', 'ACDF','ACEF','BCDF','BCEF') THEN (grp = 'C' AND rnk = 3)\n",
    "                                      WHEN (SELECT concat_ws('', collect_list(grp))\n",
    "                                            FROM cte5\n",
    "                                            WHERE rnk = 3) IN ('ADEF', 'BDEF','CDEF') THEN (grp = 'D' AND rnk = 3)\n",
    "                                      END\n",
    "                                UNION \n",
    "                                SELECT name, grp, rnk\n",
    "\n",
    " FROM cte5 WHERE grp = 'D' AND rnk = 1\n",
    "                                UNION \n",
    "                                SELECT name, grp, rnk FROM cte5 WHERE grp = 'F' AND rnk = 2\n",
    "                                UNION \n",
    "                                SELECT name, grp, rnk FROM cte5 WHERE grp = 'C' AND rnk = 1\n",
    "                                UNION \n",
    "                                SELECT name, grp, rnk\n",
    "                                FROM cte5\n",
    "                                WHERE CASE \n",
    "                                      WHEN (SELECT concat_ws('', collect_list(grp))\n",
    "                                            FROM cte5\n",
    "                                            WHERE rnk = 3) IN ('ABCD','ACDE','ACDF','BCDE','BCDF') THEN (grp = 'D' AND rnk = 3)\n",
    "                                      WHEN (SELECT concat_ws('', collect_list(grp))\n",
    "                                            FROM cte5\n",
    "                                            WHERE rnk = 3) IN ('ABCE','ABDE','BCEF','BDEF','CDEF') THEN (grp = 'E' AND rnk = 3)\n",
    "                                      WHEN (SELECT concat_ws('', collect_list(grp))\n",
    "                                            FROM cte5\n",
    "                                            WHERE rnk = 3) IN ('ABCF','ABDF','ABEF','ACEF','ADEF') THEN (grp = 'F' AND rnk = 3)\n",
    "                                      END\n",
    "                                UNION \n",
    "                                SELECT name, grp, rnk FROM cte5 WHERE grp = 'A' AND rnk = 2\n",
    "                                UNION \n",
    "                                SELECT name, grp, rnk FROM cte5 WHERE grp = 'B' AND rnk = 2\n",
    "                            )\n",
    "                            SELECT *, NTILE (8) OVER (ORDER BY (SELECT 0)) AS matches FROM cte6\n",
    "                        )\n",
    "                        SELECT \n",
    "                            CONCAT(a.name,\" \",a.grp,a.rnk,\"    VS    \",b.name,\" \",b.grp,b.rnk) AS round_16_fixtures,\n",
    "                            a.matches, \n",
    "                            CASE \n",
    "                                WHEN ROUND(RAND()*2) = 0 THEN \"WIN\" \n",
    "                                ELSE \"LOSE\" \n",
    "                            END AS team_1, \n",
    "                            CASE \n",
    "                                WHEN team_1 = \"WIN\" THEN \"LOSE\" \n",
    "                                ELSE \"WIN\" \n",
    "                            END AS team_2,\n",
    "                            CASE \n",
    "                                WHEN team_1 = \"WIN\" THEN CONCAT(a.name,\" \",a.grp,a.rnk) \n",
    "                                ELSE CONCAT(b.name,\" \",b.grp,b.rnk) \n",
    "                            END AS quarter_finalist \n",
    "                        FROM \n",
    "                            cte7 a \n",
    "                        INNER JOIN \n",
    "                            cte7 b ON a.matches = b.matches AND a.name > b.name\n",
    "                    )\n",
    "                    SELECT \n",
    "                        quarter_finalist, NTILE(4) OVER (ORDER BY (SELECT 0)) AS matches \n",
    "                    FROM \n",
    "                        cte8\n",
    "                )\n",
    "                SELECT \n",
    "                    CONCAT(a.quarter_finalist,\"   VS   \",b.quarter_finalist) AS quarter_final_fixtures,\n",
    "                    a.matches,\n",
    "                    CASE \n",
    "                        WHEN ROUND(RAND()*2) = 0 THEN \"WIN\" \n",
    "                        ELSE \"LOSE\" \n",
    "                    END AS team_1, \n",
    "                    CASE \n",
    "                        WHEN team_1 = \"WIN\" THEN \"LOSE\" \n",
    "                        ELSE \"WIN\" \n",
    "                    END AS team_2,\n",
    "                    CASE \n",
    "                        WHEN team_1 = \"WIN\" THEN a.quarter_finalist \n",
    "                        ELSE b.quarter_finalist \n",
    "                    END AS semi_finalist \n",
    "                FROM \n",
    "                    cte9 a \n",
    "                INNER JOIN \n",
    "                    cte9 b ON a.matches = b.matches AND a.quarter_finalist > b.quarter_finalist \n",
    "                ORDER BY \n",
    "                    a.matches\n",
    "            )\n",
    "            SELECT \n",
    "                semi_finalist, NTILE(2) OVER (ORDER BY (SELECT 0)) AS matches \n",
    "            FROM \n",
    "                cte10\n",
    "        )\n",
    "        SELECT \n",
    "            CONCAT(a.semi_finalist,\"   VS   \",b.semi_finalist) AS semi_final_fixtures,\n",
    "            a.matches,\n",
    "            CASE \n",
    "                WHEN ROUND(RAND()*2) = 0 THEN \"WIN\" \n",
    "                ELSE \"LOSE\" \n",
    "            END AS team_1, \n",
    "            CASE \n",
    "                WHEN team_1 = \"WIN\" THEN \"LOSE\" \n",
    "                ELSE \"WIN\" \n",
    "            END AS team_2,\n",
    "            CASE \n",
    "                WHEN team_1 = \"WIN\" THEN a.semi_finalist \n",
    "                ELSE b.semi_finalist \n",
    "            END AS finalist \n",
    "        FROM \n",
    "            cte11 a \n",
    "        INNER JOIN \n",
    "            cte11 b ON a.matches = b.matches AND a.semi_finalist > b.semi_finalist \n",
    "        ORDER BY \n",
    "            a.matches\n",
    "    )\n",
    "    SELECT \n",
    "        finalist, NTILE(1) OVER (ORDER BY (SELECT 0)) AS matches \n",
    "    FROM \n",
    "        cte12\n",
    ")\n",
    "SELECT \n",
    "    CONCAT(a.finalist,\"   VS   \",b.finalist) AS final_match,\n",
    "    a.matches,\n",
    "    CASE \n",
    "        WHEN ROUND(RAND()*2) = 0 THEN \"WIN\" \n",
    "        ELSE \"LOSE\" \n",
    "    END AS team_1, \n",
    "    CASE \n",
    "        WHEN team_1 = \"WIN\" THEN \"LOSE\" \n",
    "        ELSE \"WIN\" \n",
    "    END AS team_2,\n",
    "    CASE \n",
    "        WHEN team_1 = \"WIN\" THEN a.finalist \n",
    "        ELSE b.finalist \n",
    "    END AS Winner \n",
    "FROM \n",
    "    cte13 a \n",
    "INNER JOIN \n",
    "    cte13 b ON a.matches = b.matches AND a.finalist > b.finalist;\n"
   ]
  },
  {
   "cell_type": "markdown",
   "metadata": {
    "application/vnd.databricks.v1+cell": {
     "cellMetadata": {
      "byteLimit": 2048000,
      "rowLimit": 10000
     },
     "inputWidgets": {},
     "nuid": "1e93ea00-c537-4e37-bf5c-5c787af059fa",
     "showTitle": false,
     "title": ""
    }
   },
   "source": [
    "#####I JUST COMPLETED THIS TASK WITH THE HELP OF CREATING A SINGLE TABLE. \n",
    "#####IT WOULD BE MORE SOPHISTICATED IF WE CREATED MULTIPLE TABLES.\n",
    "#####BUT OUR CONDITION IS TO COMPLETE IT IN MINIMUM NUMBER OF TABLES.\n",
    "#####THAT'S WHY I CHOOSE THIS METHOD OF MULTIPLE CTE'S INSTEAD OF CREATING MULTIPLE TABLES. "
   ]
  },
  {
   "cell_type": "code",
   "execution_count": 0,
   "metadata": {
    "application/vnd.databricks.v1+cell": {
     "cellMetadata": {},
     "inputWidgets": {},
     "nuid": "810f60a4-d3f1-4398-a242-6753bb15fc3b",
     "showTitle": false,
     "title": ""
    }
   },
   "outputs": [],
   "source": []
  }
 ],
 "metadata": {
  "application/vnd.databricks.v1+notebook": {
   "dashboards": [],
   "language": "python",
   "notebookMetadata": {
    "mostRecentlyExecutedCommandWithImplicitDF": {
     "commandId": 1707410048632677,
     "dataframes": [
      "_sqldf"
     ]
    },
    "pythonIndentUnit": 4
   },
   "notebookName": "EURO CUP 2024.",
   "widgets": {}
  }
 },
 "nbformat": 4,
 "nbformat_minor": 0
}
