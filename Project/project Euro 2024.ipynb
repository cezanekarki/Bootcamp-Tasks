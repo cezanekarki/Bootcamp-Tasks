{
 "cells": [
  {
   "cell_type": "markdown",
   "metadata": {
    "application/vnd.databricks.v1+cell": {
     "cellMetadata": {
      "byteLimit": 2048000,
      "rowLimit": 10000
     },
     "inputWidgets": {},
     "nuid": "3940337d-2898-481c-b32e-f29ea354c36c",
     "showTitle": false,
     "title": ""
    }
   },
   "source": [
    "#Group Stage result"
   ]
  },
  {
   "cell_type": "code",
   "execution_count": 0,
   "metadata": {
    "application/vnd.databricks.v1+cell": {
     "cellMetadata": {
      "byteLimit": 2048000,
      "rowLimit": 10000
     },
     "inputWidgets": {},
     "nuid": "2812ebf3-e551-40db-8f26-436b8e9e9377",
     "showTitle": false,
     "title": ""
    }
   },
   "outputs": [
    {
     "output_type": "stream",
     "name": "stdout",
     "output_type": "stream",
     "text": [
      "+-----+---------------+--------------+----+-----+------+------------+--------------+------+\n|group|      team_name|matches_played|wins|draws|losses|goals_scored|goals_conceded|points|\n+-----+---------------+--------------+----+-----+------+------------+--------------+------+\n|    A|          Italy|             3|   3|    0|     0|           7|             0|     9|\n|    A|          Wales|             3|   1|    1|     1|           3|             2|     4|\n|    A|    Switzerland|             3|   1|    1|     1|           4|             5|     4|\n|    A|         Turkey|             3|   0|    0|     3|           1|             8|     0|\n|    B|        Belgium|             3|   3|    0|     0|           7|             1|     9|\n|    B|        Denmark|             3|   1|    0|     2|           5|             4|     3|\n|    B|        Finland|             3|   1|    0|     2|           1|             3|     3|\n|    B|         Russia|             3|   0|    0|     3|           2|             7|     0|\n|    C|    Netherlands|             3|   3|    0|     0|           8|             2|     9|\n|    C|        Austria|             3|   2|    0|     1|           4|             3|     6|\n|    C|        Ukraine|             3|   1|    0|     2|           4|             5|     3|\n|    C|North Macedonia|             3|   0|    0|     3|           2|             8|     0|\n|    D|        England|             3|   2|    1|     0|           2|             0|     7|\n|    D|        Croatia|             3|   1|    0|     2|           4|             5|     3|\n|    D| Czech Republic|             3|   1|    0|     2|           3|             6|     3|\n|    D|       Scotland|             3|   0|    1|     2|           1|             5|     1|\n|    E|         Sweden|             3|   2|    0|     1|           4|             2|     6|\n|    E|          Spain|             3|   1|    2|     0|           6|             1|     5|\n|    E|       Slovakia|             3|   1|    1|     1|           2|             2|     4|\n|    E|         Poland|             3|   0|    1|     2|           4|             6|     1|\n+-----+---------------+--------------+----+-----+------+------------+--------------+------+\nonly showing top 20 rows\n\n"
     ]
    }
   ],
   "source": [
    "from pyspark.sql import SparkSession\n",
    "import pyspark.sql.functions as F\n",
    "from pyspark.sql.window import Window\n",
    "\n",
    "spark = SparkSession.builder.appName(\"EuroGroupStageResults\").getOrCreate()\n",
    "\n",
    "data = [\n",
    "    (\"A\", \"Italy\", 3, 3, 0, 0, 7, 0, 9),\n",
    "    (\"A\", \"Wales\", 3, 1, 1, 1, 3, 2, 4),\n",
    "    (\"A\", \"Switzerland\", 3, 1, 1, 1, 4, 5, 4),\n",
    "    (\"A\", \"Turkey\", 3, 0, 0, 3, 1, 8, 0),\n",
    "    (\"B\", \"Belgium\", 3, 3, 0, 0, 7, 1, 9),\n",
    "    (\"B\", \"Denmark\", 3, 1, 0, 2, 5, 4, 3),\n",
    "    (\"B\", \"Finland\", 3, 1, 0, 2, 1, 3, 3),\n",
    "    (\"B\", \"Russia\", 3, 0, 0, 3, 2, 7, 0),\n",
    "    (\"C\", \"Netherlands\", 3, 3, 0, 0, 8, 2, 9),\n",
    "    (\"C\", \"Austria\", 3, 2, 0, 1, 4, 3, 6),\n",
    "    (\"C\", \"Ukraine\", 3, 1, 0, 2, 4, 5, 3),\n",
    "    (\"C\", \"North Macedonia\", 3, 0, 0, 3, 2, 8, 0),\n",
    "    (\"D\", \"England\", 3, 2, 1, 0, 2, 0, 7),\n",
    "    (\"D\", \"Croatia\", 3, 1, 0, 2, 4, 5, 3),\n",
    "    (\"D\", \"Czech Republic\", 3, 1, 0, 2, 3, 6, 3),\n",
    "    (\"D\", \"Scotland\", 3, 0, 1, 2, 1, 5, 1),\n",
    "    (\"E\", \"Sweden\", 3, 2, 0, 1, 4, 2, 6),\n",
    "    (\"E\", \"Spain\", 3, 1, 2, 0, 6, 1, 5),\n",
    "    (\"E\", \"Slovakia\", 3, 1, 1, 1, 2, 2, 4),\n",
    "    (\"E\", \"Poland\", 3, 0, 1, 2, 4, 6, 1),\n",
    "    (\"F\", \"France\", 3, 1, 1, 1, 4, 3, 4),\n",
    "    (\"F\", \"Germany\", 3, 1, 1, 1, 6, 5, 4),\n",
    "    (\"F\", \"Portugal\", 3, 1, 1, 1, 7, 6, 4),\n",
    "    (\"F\", \"Hungary\", 3, 0, 1, 2, 3, 6, 1)\n",
    "]\n",
    "\n",
    "columns = [\"group\", \"team_name\", \"matches_played\", \"wins\", \"draws\", \"losses\", \"goals_scored\", \"goals_conceded\", \"points\"]\n",
    "\n",
    "group_stage_results_df = spark.createDataFrame(data, columns)\n",
    "\n",
    "# Show the group stage results DataFrame\n",
    "group_stage_results_df.show()\n"
   ]
  },
  {
   "cell_type": "code",
   "execution_count": 0,
   "metadata": {
    "application/vnd.databricks.v1+cell": {
     "cellMetadata": {
      "byteLimit": 2048000,
      "rowLimit": 10000
     },
     "inputWidgets": {},
     "nuid": "b96b2a1e-2c26-4829-a99b-5a501d73c370",
     "showTitle": false,
     "title": ""
    }
   },
   "outputs": [
    {
     "output_type": "stream",
     "name": "stdout",
     "output_type": "stream",
     "text": [
      "Out[78]: 24"
     ]
    }
   ],
   "source": [
    "group_stage_results_df.count()"
   ]
  },
  {
   "cell_type": "code",
   "execution_count": 0,
   "metadata": {
    "application/vnd.databricks.v1+cell": {
     "cellMetadata": {
      "byteLimit": 2048000,
      "rowLimit": 10000
     },
     "inputWidgets": {},
     "nuid": "c3fab5f0-35a2-42a8-8e12-1eda7e26269a",
     "showTitle": false,
     "title": ""
    }
   },
   "outputs": [
    {
     "output_type": "stream",
     "name": "stdout",
     "output_type": "stream",
     "text": [
      "+-----+--------------+--------------+----+-----+------+------------+--------------+------+\n|group|     team_name|matches_played|wins|draws|losses|goals_scored|goals_conceded|points|\n+-----+--------------+--------------+----+-----+------+------------+--------------+------+\n|    C|   Netherlands|             3|   3|    0|     0|           8|             2|     9|\n|    B|       Belgium|             3|   3|    0|     0|           7|             1|     9|\n|    A|         Italy|             3|   3|    0|     0|           7|             0|     9|\n|    D|       England|             3|   2|    1|     0|           2|             0|     7|\n|    C|       Austria|             3|   2|    0|     1|           4|             3|     6|\n|    E|        Sweden|             3|   2|    0|     1|           4|             2|     6|\n|    E|         Spain|             3|   1|    2|     0|           6|             1|     5|\n|    E|      Slovakia|             3|   1|    1|     1|           2|             2|     4|\n|    A|         Wales|             3|   1|    1|     1|           3|             2|     4|\n|    F|        France|             3|   1|    1|     1|           4|             3|     4|\n|    F|       Germany|             3|   1|    1|     1|           6|             5|     4|\n|    A|   Switzerland|             3|   1|    1|     1|           4|             5|     4|\n|    F|      Portugal|             3|   1|    1|     1|           7|             6|     4|\n|    B|       Denmark|             3|   1|    0|     2|           5|             4|     3|\n|    C|       Ukraine|             3|   1|    0|     2|           4|             5|     3|\n|    D|       Croatia|             3|   1|    0|     2|           4|             5|     3|\n|    B|       Finland|             3|   1|    0|     2|           1|             3|     3|\n|    D|Czech Republic|             3|   1|    0|     2|           3|             6|     3|\n|    E|        Poland|             3|   0|    1|     2|           4|             6|     1|\n|    D|      Scotland|             3|   0|    1|     2|           1|             5|     1|\n+-----+--------------+--------------+----+-----+------+------------+--------------+------+\nonly showing top 20 rows\n\n"
     ]
    }
   ],
   "source": [
    "group_stage_results_df = group_stage_results_df.orderBy(F.col(\"points\").desc())\n",
    "group_stage_results_df.show()"
   ]
  },
  {
   "cell_type": "markdown",
   "metadata": {
    "application/vnd.databricks.v1+cell": {
     "cellMetadata": {
      "byteLimit": 2048000,
      "rowLimit": 10000
     },
     "inputWidgets": {},
     "nuid": "fe482524-4a9d-4338-bf37-5b4a68ac2a3e",
     "showTitle": false,
     "title": ""
    }
   },
   "source": [
    "#Qulified teams After Group Stage"
   ]
  },
  {
   "cell_type": "code",
   "execution_count": 0,
   "metadata": {
    "application/vnd.databricks.v1+cell": {
     "cellMetadata": {
      "byteLimit": 2048000,
      "rowLimit": 10000
     },
     "inputWidgets": {},
     "nuid": "cb881809-e74f-4fdf-83c5-c855e71b4db8",
     "showTitle": false,
     "title": ""
    }
   },
   "outputs": [
    {
     "output_type": "stream",
     "name": "stdout",
     "output_type": "stream",
     "text": [
      "+-----+-----------+--------------+----+-----+------+------------+--------------+------+----+\n|group|  team_name|matches_played|wins|draws|losses|goals_scored|goals_conceded|points|rank|\n+-----+-----------+--------------+----+-----+------+------------+--------------+------+----+\n|    A|      Italy|             3|   3|    0|     0|           7|             0|     9|   1|\n|    B|    Belgium|             3|   3|    0|     0|           7|             1|     9|   1|\n|    C|Netherlands|             3|   3|    0|     0|           8|             2|     9|   1|\n|    D|    England|             3|   2|    1|     0|           2|             0|     7|   1|\n|    C|    Austria|             3|   2|    0|     1|           4|             3|     6|   2|\n|    E|     Sweden|             3|   2|    0|     1|           4|             2|     6|   1|\n|    E|      Spain|             3|   1|    2|     0|           6|             1|     5|   2|\n|    A|Switzerland|             3|   1|    1|     1|           4|             5|     4|   3|\n|    A|      Wales|             3|   1|    1|     1|           3|             2|     4|   2|\n|    E|   Slovakia|             3|   1|    1|     1|           2|             2|     4|   3|\n|    F|     France|             3|   1|    1|     1|           4|             3|     4|   1|\n|    F|   Portugal|             3|   1|    1|     1|           7|             6|     4|   3|\n|    F|    Germany|             3|   1|    1|     1|           6|             5|     4|   2|\n|    B|    Finland|             3|   1|    0|     2|           1|             3|     3|   3|\n|    B|    Denmark|             3|   1|    0|     2|           5|             4|     3|   2|\n|    D|    Croatia|             3|   1|    0|     2|           4|             5|     3|   2|\n+-----+-----------+--------------+----+-----+------+------------+--------------+------+----+\n\n"
     ]
    }
   ],
   "source": [
    "# Create a window specification to partition by group and order by points descending\n",
    "window_spec = Window.partitionBy(\"group\").orderBy(F.col(\"points\").desc())\n",
    "\n",
    "# Add a row number column based on the window specification\n",
    "ranked_df = group_stage_results_df.withColumn(\"rank\", F.row_number().over(window_spec))\n",
    "\n",
    "# Filter the ranked DataFrame to select the top 3 teams from each group\n",
    "top2_teams_df = ranked_df.filter(F.col(\"rank\") <= 2)\n",
    "\n",
    "# Select the third-placed team from each group\n",
    "third_place_df = ranked_df.filter(F.col(\"rank\") == 3)\n",
    "\n",
    "# Select the top 4 teams overall based on points\n",
    "top_4_teams_df = third_place_df.orderBy(F.col(\"points\").desc()).limit(4)\n",
    "\n",
    "# Combine the third-placed teams and the top 4 teams overall\n",
    "group_stage_selected_teams = top2_teams_df.union(top_4_teams_df)\n",
    "\n",
    "# ordering df point wise\n",
    "group_stage_selected_teams = group_stage_selected_teams.orderBy(F.col(\"points\").desc())\n",
    "\n",
    "# Show the new table with the selected teams\n",
    "group_stage_selected_teams.show()\n",
    "\n",
    "# Save the top 3 teams DataFrame as a new table\n",
    "group_stage_selected_teams.createOrReplaceTempView(\"selected_teams_df\")\n"
   ]
  },
  {
   "cell_type": "code",
   "execution_count": 0,
   "metadata": {
    "application/vnd.databricks.v1+cell": {
     "cellMetadata": {
      "byteLimit": 2048000,
      "rowLimit": 10000
     },
     "inputWidgets": {},
     "nuid": "2bc88114-b163-4117-9914-cf572ffab14f",
     "showTitle": false,
     "title": ""
    }
   },
   "outputs": [
    {
     "output_type": "stream",
     "name": "stdout",
     "output_type": "stream",
     "text": [
      "Out[81]: 16"
     ]
    }
   ],
   "source": [
    "# count of teams in selected teams\n",
    "group_stage_selected_teams.count()"
   ]
  },
  {
   "cell_type": "markdown",
   "metadata": {
    "application/vnd.databricks.v1+cell": {
     "cellMetadata": {
      "byteLimit": 2048000,
      "rowLimit": 10000
     },
     "inputWidgets": {},
     "nuid": "2aad5d13-6341-441e-b0b6-b2039cfaf0c5",
     "showTitle": false,
     "title": ""
    }
   },
   "source": [
    "# Randomly Divided in two groups of 8-8"
   ]
  },
  {
   "cell_type": "code",
   "execution_count": 0,
   "metadata": {
    "application/vnd.databricks.v1+cell": {
     "cellMetadata": {
      "byteLimit": 2048000,
      "rowLimit": 10000
     },
     "inputWidgets": {},
     "nuid": "55a7678f-3636-48c5-aa5d-6bc8f676a740",
     "showTitle": false,
     "title": ""
    }
   },
   "outputs": [
    {
     "output_type": "stream",
     "name": "stdout",
     "output_type": "stream",
     "text": [
      "+-----+-----------+--------------+----+-----+------+------------+--------------+------+----+---+\n|group|  team_name|matches_played|wins|draws|losses|goals_scored|goals_conceded|points|rank| id|\n+-----+-----------+--------------+----+-----+------+------------+--------------+------+----+---+\n|    A|      Wales|             3|   1|    1|     1|           3|             2|     4|   2|  0|\n|    A|Switzerland|             3|   1|    1|     1|           4|             5|     4|   3|  1|\n|    B|    Denmark|             3|   1|    0|     2|           5|             4|     3|   2|  2|\n|    D|    England|             3|   2|    1|     0|           2|             0|     7|   1|  3|\n|    A|      Italy|             3|   3|    0|     0|           7|             0|     9|   1|  4|\n|    B|    Belgium|             3|   3|    0|     0|           7|             1|     9|   1|  5|\n|    E|      Spain|             3|   1|    2|     0|           6|             1|     5|   2|  6|\n|    B|    Finland|             3|   1|    0|     2|           1|             3|     3|   3|  7|\n|    E|   Slovakia|             3|   1|    1|     1|           2|             2|     4|   3|  8|\n|    E|     Sweden|             3|   2|    0|     1|           4|             2|     6|   1|  9|\n|    C|    Austria|             3|   2|    0|     1|           4|             3|     6|   2| 10|\n|    F|    Germany|             3|   1|    1|     1|           6|             5|     4|   2| 11|\n|    F|   Portugal|             3|   1|    1|     1|           7|             6|     4|   3| 12|\n|    D|    Croatia|             3|   1|    0|     2|           4|             5|     3|   2| 13|\n|    C|Netherlands|             3|   3|    0|     0|           8|             2|     9|   1| 14|\n|    F|     France|             3|   1|    1|     1|           4|             3|     4|   1| 15|\n+-----+-----------+--------------+----+-----+------+------------+--------------+------+----+---+\n\n+-----------+-----------+\n|      team1|      team2|\n+-----------+-----------+\n|      Wales|Switzerland|\n|    Denmark|    England|\n|      Italy|    Belgium|\n|      Spain|    Finland|\n|   Slovakia|     Sweden|\n|    Austria|    Germany|\n|   Portugal|    Croatia|\n|Netherlands|     France|\n+-----------+-----------+\n\n"
     ]
    }
   ],
   "source": [
    "\n",
    "# Randomly shuffle the DataFrame to create random matches\n",
    "shuffled_group_stage_df = group_stage_selected_teams.orderBy(F.rand())\n",
    "\n",
    "# Assign a unique identifier to each row\n",
    "shuffled_group_stage_df = shuffled_group_stage_df.withColumn(\"id\", F.monotonically_increasing_id())\n",
    "shuffled_group_stage_df.show()\n",
    "\n",
    "# Create a temporary view for further query\n",
    "shuffled_group_stage_df.createOrReplaceTempView(\"shuffled_group_stage_df\")\n",
    "\n",
    "knokout_matches_df = spark.sql(\n",
    "    \"\"\"\n",
    "    SELECT\n",
    "        t1.team_name AS team1,\n",
    "        t2.team_name AS team2\n",
    "    FROM\n",
    "        shuffled_group_stage_df t1\n",
    "    JOIN\n",
    "        shuffled_group_stage_df t2\n",
    "    ON\n",
    "        t1.id = t2.id - 1\n",
    "    WHERE\n",
    "        t1.id % 2 = 0\n",
    "    \"\"\"\n",
    ")\n",
    "\n",
    "# Show the knockout matches DataFrame\n",
    "knokout_matches_df.show()\n"
   ]
  },
  {
   "cell_type": "markdown",
   "metadata": {
    "application/vnd.databricks.v1+cell": {
     "cellMetadata": {
      "byteLimit": 2048000,
      "rowLimit": 10000
     },
     "inputWidgets": {},
     "nuid": "fd2dccaa-3800-48b0-9a59-8931a2264531",
     "showTitle": false,
     "title": ""
    }
   },
   "source": [
    "# Knok out winners"
   ]
  },
  {
   "cell_type": "code",
   "execution_count": 0,
   "metadata": {
    "application/vnd.databricks.v1+cell": {
     "cellMetadata": {
      "byteLimit": 2048000,
      "rowLimit": 10000
     },
     "inputWidgets": {},
     "nuid": "ec331593-7f0e-40d9-8a62-0a4a13a41466",
     "showTitle": false,
     "title": ""
    }
   },
   "outputs": [
    {
     "output_type": "stream",
     "name": "stdout",
     "output_type": "stream",
     "text": [
      "+-----------+\n|     winner|\n+-----------+\n|      Wales|\n|    England|\n|      Italy|\n|      Spain|\n|     Sweden|\n|    Austria|\n|   Portugal|\n|Netherlands|\n+-----------+\n\n"
     ]
    }
   ],
   "source": [
    "\n",
    "# Simulate matches and decide winners\n",
    "winners_knokout_df = knokout_matches_df.withColumn(\"winner\", F.when(F.rand() > 0.5, F.col(\"team1\")).otherwise(F.col(\"team2\")))\n",
    "\n",
    "# Select the winners of each match\n",
    "winners_knokout_df = winners_knokout_df.select(\"winner\")\n",
    "\n",
    "# Create temporary view for further query\n",
    "winners_knokout_df.createOrReplaceTempView(\"winners_knokout_df\")\n",
    "\n",
    "winners_knokout_df.show()"
   ]
  },
  {
   "cell_type": "markdown",
   "metadata": {
    "application/vnd.databricks.v1+cell": {
     "cellMetadata": {
      "byteLimit": 2048000,
      "rowLimit": 10000
     },
     "inputWidgets": {},
     "nuid": "2d61f6f8-306b-445f-b0c6-309be741f3dd",
     "showTitle": false,
     "title": ""
    }
   },
   "source": [
    "#Quarter Finals"
   ]
  },
  {
   "cell_type": "code",
   "execution_count": 0,
   "metadata": {
    "application/vnd.databricks.v1+cell": {
     "cellMetadata": {
      "byteLimit": 2048000,
      "rowLimit": 10000
     },
     "inputWidgets": {},
     "nuid": "b601953e-4fa5-4dcb-b9fc-10abf7f9a52c",
     "showTitle": false,
     "title": ""
    }
   },
   "outputs": [
    {
     "output_type": "stream",
     "name": "stdout",
     "output_type": "stream",
     "text": [
      "+-----------+---+\n|     winner| id|\n+-----------+---+\n|      Wales|  0|\n|    England|  1|\n|     Sweden|  2|\n|Netherlands|  3|\n|      Spain|  4|\n|    Austria|  5|\n|      Italy|  6|\n|   Portugal|  7|\n+-----------+---+\n\n+------+-----------+\n| team1|      team2|\n+------+-----------+\n| Wales|    England|\n|Sweden|Netherlands|\n| Spain|    Austria|\n| Italy|   Portugal|\n+------+-----------+\n\n"
     ]
    }
   ],
   "source": [
    "\n",
    "# Randomly shuffle the DataFrame to create random matches\n",
    "shuffled_knokout_winners = winners_knokout_df.orderBy(F.rand())\n",
    "\n",
    "# Assign a unique identifier to each row\n",
    "shuffled_knokout_winners = shuffled_knokout_winners.withColumn(\"id\", F.monotonically_increasing_id())\n",
    "shuffled_knokout_winners.show()\n",
    "\n",
    "# Create a temporary view for further query\n",
    "shuffled_knokout_winners.createOrReplaceTempView(\"shuffled_knokout_winners\")\n",
    "\n",
    "quarter_final_matches_df = spark.sql(\n",
    "    \"\"\"\n",
    "    SELECT\n",
    "        t3.winner AS team1,\n",
    "        t4.winner AS team2\n",
    "    FROM\n",
    "        shuffled_knokout_winners t3\n",
    "    JOIN\n",
    "        shuffled_knokout_winners t4\n",
    "    ON\n",
    "        t3.id = t4.id - 1\n",
    "    WHERE\n",
    "        t3.id % 2 = 0\n",
    "    \"\"\"\n",
    ")\n",
    "\n",
    "# Show the knockout matches DataFrame\n",
    "quarter_final_matches_df.show()\n"
   ]
  },
  {
   "cell_type": "markdown",
   "metadata": {
    "application/vnd.databricks.v1+cell": {
     "cellMetadata": {
      "byteLimit": 2048000,
      "rowLimit": 10000
     },
     "inputWidgets": {},
     "nuid": "00bc5467-e9c2-4b00-8dcf-f8e69d80608c",
     "showTitle": false,
     "title": ""
    }
   },
   "source": [
    "#Semi Finalist"
   ]
  },
  {
   "cell_type": "code",
   "execution_count": 0,
   "metadata": {
    "application/vnd.databricks.v1+cell": {
     "cellMetadata": {
      "byteLimit": 2048000,
      "rowLimit": 10000
     },
     "inputWidgets": {},
     "nuid": "b497d563-4c60-4ad4-be97-8bba883f4822",
     "showTitle": false,
     "title": ""
    }
   },
   "outputs": [
    {
     "output_type": "stream",
     "name": "stdout",
     "output_type": "stream",
     "text": [
      "+-----------+\n|     winner|\n+-----------+\n|      Wales|\n|Netherlands|\n|      Spain|\n|   Portugal|\n+-----------+\n\n"
     ]
    }
   ],
   "source": [
    "winners_quarter_final__df = quarter_final_matches_df.withColumn(\"winner\", F.when(F.rand() > 0.5, F.col(\"team1\")).otherwise(F.col(\"team2\")))\n",
    "\n",
    "# Select the winners of each match\n",
    "winners_quarter_final__df = winners_quarter_final__df.select(\"winner\")\n",
    "\n",
    "# Create temporary view for further query\n",
    "winners_quarter_final__df.createOrReplaceTempView(\"winners_quarter_final__df\")\n",
    "\n",
    "winners_quarter_final__df.show()"
   ]
  },
  {
   "cell_type": "markdown",
   "metadata": {
    "application/vnd.databricks.v1+cell": {
     "cellMetadata": {
      "byteLimit": 2048000,
      "rowLimit": 10000
     },
     "inputWidgets": {},
     "nuid": "28c639d3-7cba-4692-8e52-4fac5a6243a4",
     "showTitle": false,
     "title": ""
    }
   },
   "source": [
    "#Semi Final"
   ]
  },
  {
   "cell_type": "code",
   "execution_count": 0,
   "metadata": {
    "application/vnd.databricks.v1+cell": {
     "cellMetadata": {
      "byteLimit": 2048000,
      "rowLimit": 10000
     },
     "inputWidgets": {},
     "nuid": "f967c84e-088e-4789-85b8-b810ad235cb6",
     "showTitle": false,
     "title": ""
    }
   },
   "outputs": [
    {
     "output_type": "stream",
     "name": "stdout",
     "output_type": "stream",
     "text": [
      "+-----------+---+\n|     winner| id|\n+-----------+---+\n|Netherlands|  0|\n|   Portugal|  1|\n|      Spain|  2|\n|      Wales|  3|\n+-----------+---+\n\n+-----------+--------+\n|      team1|   team2|\n+-----------+--------+\n|Netherlands|Portugal|\n|      Spain|   Wales|\n+-----------+--------+\n\n"
     ]
    }
   ],
   "source": [
    "\n",
    "# Randomly shuffle the DataFrame to create random matches\n",
    "shuffled_quarter_winners = winners_quarter_final__df.orderBy(F.rand())\n",
    "\n",
    "# Assign a unique identifier to each row\n",
    "shuffled_quarter_winners = shuffled_quarter_winners.withColumn(\"id\", F.monotonically_increasing_id())\n",
    "shuffled_quarter_winners.show()\n",
    "\n",
    "# Create a temporary view for further query\n",
    "shuffled_quarter_winners.createOrReplaceTempView(\"shuffled_quarter_winners\")\n",
    "\n",
    "semi_final_matches_df = spark.sql(\n",
    "    \"\"\"\n",
    "    SELECT\n",
    "        t3.winner AS team1,\n",
    "        t4.winner AS team2\n",
    "    FROM\n",
    "        shuffled_quarter_winners t3\n",
    "    JOIN\n",
    "        shuffled_quarter_winners t4\n",
    "    ON\n",
    "        t3.id = t4.id - 1\n",
    "    WHERE\n",
    "        t3.id % 2 = 0\n",
    "    \"\"\"\n",
    ")\n",
    "\n",
    "# Show the knockout matches DataFrame\n",
    "semi_final_matches_df.show()\n"
   ]
  },
  {
   "cell_type": "markdown",
   "metadata": {
    "application/vnd.databricks.v1+cell": {
     "cellMetadata": {
      "byteLimit": 2048000,
      "rowLimit": 10000
     },
     "inputWidgets": {},
     "nuid": "39f59091-48c5-42d7-b5ac-b66a70ee6c56",
     "showTitle": false,
     "title": ""
    }
   },
   "source": [
    "#Finalists"
   ]
  },
  {
   "cell_type": "code",
   "execution_count": 0,
   "metadata": {
    "application/vnd.databricks.v1+cell": {
     "cellMetadata": {
      "byteLimit": 2048000,
      "rowLimit": 10000
     },
     "inputWidgets": {},
     "nuid": "a25eb473-cdcf-4533-8d68-efac694de93a",
     "showTitle": false,
     "title": ""
    }
   },
   "outputs": [
    {
     "output_type": "stream",
     "name": "stdout",
     "output_type": "stream",
     "text": [
      "+--------+\n|  winner|\n+--------+\n|Portugal|\n|   Spain|\n+--------+\n\n"
     ]
    }
   ],
   "source": [
    "Finalists_df = semi_final_matches_df.withColumn(\"winner\", F.when(F.rand() > 0.5, F.col(\"team1\")).otherwise(F.col(\"team2\")))\n",
    "\n",
    "# Select the winners of each match\n",
    "Finalists_df = Finalists_df.select(\"winner\")\n",
    "\n",
    "# Create temporary view for further query\n",
    "\n",
    "\n",
    "Finalists_df.show()"
   ]
  },
  {
   "cell_type": "markdown",
   "metadata": {
    "application/vnd.databricks.v1+cell": {
     "cellMetadata": {
      "byteLimit": 2048000,
      "rowLimit": 10000
     },
     "inputWidgets": {},
     "nuid": "f6021eec-2d67-40f3-98c6-331be5f9f789",
     "showTitle": false,
     "title": ""
    }
   },
   "source": [
    "# Winner"
   ]
  },
  {
   "cell_type": "code",
   "execution_count": 0,
   "metadata": {
    "application/vnd.databricks.v1+cell": {
     "cellMetadata": {
      "byteLimit": 2048000,
      "rowLimit": 10000
     },
     "inputWidgets": {},
     "nuid": "203303a5-bec6-4ed9-b43d-0f830829c06c",
     "showTitle": false,
     "title": ""
    }
   },
   "outputs": [
    {
     "output_type": "stream",
     "name": "stdout",
     "output_type": "stream",
     "text": [
      "+--------+-----+------+\n|   team1|team2|winner|\n+--------+-----+------+\n|Portugal|Spain| Spain|\n+--------+-----+------+\n\n+------+\n|winner|\n+------+\n| Spain|\n+------+\n\n"
     ]
    }
   ],
   "source": [
    "Finalists_df = Finalists_df.withColumn(\"id\", F.monotonically_increasing_id())\n",
    "\n",
    "# Create a temporary view for further query\n",
    "Finalists_df.createOrReplaceTempView(\"Finalists_df\")\n",
    "\n",
    "final_matches_df = spark.sql(\n",
    "    \"\"\"\n",
    "    SELECT\n",
    "        t3.winner AS team1,\n",
    "        t4.winner AS team2\n",
    "    FROM\n",
    "        Finalists_df t3\n",
    "    JOIN\n",
    "        Finalists_df t4\n",
    "    ON\n",
    "        t3.id = t4.id - 1\n",
    "    WHERE\n",
    "        t3.id % 2 = 0\n",
    "    \"\"\"\n",
    ")\n",
    "\n",
    "final_matches_df = final_matches_df.withColumn(\"winner\", F.when(F.rand() > 0.5, F.col(\"team1\")).otherwise(F.col(\"team2\")))\n",
    "final_matches_df.show()\n",
    "\n",
    "# Select the winners of each match\n",
    "Winner = final_matches_df.select(\"winner\")\n",
    "\n",
    "Winner.show()\n"
   ]
  },
  {
   "cell_type": "code",
   "execution_count": 0,
   "metadata": {
    "application/vnd.databricks.v1+cell": {
     "cellMetadata": {
      "byteLimit": 2048000,
      "rowLimit": 10000
     },
     "inputWidgets": {},
     "nuid": "73151ae9-f76a-472c-9d8d-9302328647dd",
     "showTitle": false,
     "title": ""
    }
   },
   "outputs": [],
   "source": []
  }
 ],
 "metadata": {
  "application/vnd.databricks.v1+notebook": {
   "dashboards": [],
   "language": "python",
   "notebookMetadata": {
    "pythonIndentUnit": 4
   },
   "notebookName": "project Euro 2024",
   "widgets": {}
  }
 },
 "nbformat": 4,
 "nbformat_minor": 0
}
