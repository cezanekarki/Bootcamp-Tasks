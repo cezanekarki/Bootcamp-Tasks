{
 "cells": [
  {
   "cell_type": "markdown",
   "metadata": {
    "application/vnd.databricks.v1+cell": {
     "cellMetadata": {},
     "inputWidgets": {},
     "nuid": "bf27c44a-7750-4932-a62b-ad4409fffa87",
     "showTitle": false,
     "title": ""
    }
   },
   "source": [
    "# Euro_cup_2024"
   ]
  },
  {
   "cell_type": "markdown",
   "metadata": {
    "application/vnd.databricks.v1+cell": {
     "cellMetadata": {},
     "inputWidgets": {},
     "nuid": "cf57f97b-0d0e-4fb9-a07c-4f560f87e2cc",
     "showTitle": false,
     "title": ""
    }
   },
   "source": [
    "####Problem Statement: Here our task is To create the Eurocup 2024 format, we need to follow the structure of the tournament, which typically consists of several stages such as group stage, round of 16, quarter-finals, semi-finals, and finals\n"
   ]
  },
  {
   "cell_type": "code",
   "execution_count": 0,
   "metadata": {
    "application/vnd.databricks.v1+cell": {
     "cellMetadata": {
      "byteLimit": 2048000,
      "rowLimit": 10000
     },
     "inputWidgets": {},
     "nuid": "3cd24308-55c4-49a6-a449-a74c62bb9263",
     "showTitle": false,
     "title": ""
    }
   },
   "outputs": [],
   "source": [
    "%python\n",
    "dbutils.fs.rm(\n",
    "\"dbfs:/user/hive/warehouse/euro11\", True)"
   ]
  },
  {
   "cell_type": "code",
   "execution_count": 0,
   "metadata": {
    "application/vnd.databricks.v1+cell": {
     "cellMetadata": {
      "byteLimit": 2048000,
      "rowLimit": 10000
     },
     "inputWidgets": {},
     "nuid": "a741eae6-c075-4694-bbfb-f53a6f40e73f",
     "showTitle": false,
     "title": ""
    }
   },
   "outputs": [
    {
     "output_type": "display_data",
     "data": {
      "text/html": [
       "<style scoped>\n",
       "  .table-result-container {\n",
       "    max-height: 300px;\n",
       "    overflow: auto;\n",
       "  }\n",
       "  table, th, td {\n",
       "    border: 1px solid black;\n",
       "    border-collapse: collapse;\n",
       "  }\n",
       "  th, td {\n",
       "    padding: 5px;\n",
       "  }\n",
       "  th {\n",
       "    text-align: left;\n",
       "  }\n",
       "</style><div class='table-result-container'><table class='table-result'><thead style='background-color: white'><tr><th>database</th><th>tableName</th><th>isTemporary</th></tr></thead><tbody></tbody></table></div>"
      ]
     },
     "metadata": {
      "application/vnd.databricks.v1+output": {
       "addedWidgets": {},
       "aggData": [],
       "aggError": "",
       "aggOverflow": false,
       "aggSchema": [],
       "aggSeriesLimitReached": false,
       "aggType": "",
       "arguments": {},
       "columnCustomDisplayInfos": {},
       "data": [],
       "datasetInfos": [],
       "dbfsResultPath": null,
       "isJsonSchema": true,
       "metadata": {
        "isDbfsCommandResult": false
       },
       "overflow": false,
       "plotOptions": {
        "customPlotOptions": {},
        "displayType": "table",
        "pivotAggregation": null,
        "pivotColumns": null,
        "xColumns": null,
        "yColumns": null
       },
       "removedWidgets": [],
       "schema": [
        {
         "metadata": "{}",
         "name": "database",
         "type": "\"string\""
        },
        {
         "metadata": "{}",
         "name": "tableName",
         "type": "\"string\""
        },
        {
         "metadata": "{}",
         "name": "isTemporary",
         "type": "\"boolean\""
        }
       ],
       "type": "table"
      }
     },
     "output_type": "display_data"
    }
   ],
   "source": [
    "%sql\n",
    "show tables"
   ]
  },
  {
   "cell_type": "code",
   "execution_count": 0,
   "metadata": {
    "application/vnd.databricks.v1+cell": {
     "cellMetadata": {
      "byteLimit": 2048000,
      "implicitDf": true,
      "rowLimit": 10000
     },
     "inputWidgets": {},
     "nuid": "6cd95776-101b-436c-b59b-62e441da52d0",
     "showTitle": false,
     "title": ""
    }
   },
   "outputs": [
    {
     "output_type": "display_data",
     "data": {
      "text/html": [
       "<style scoped>\n",
       "  .table-result-container {\n",
       "    max-height: 300px;\n",
       "    overflow: auto;\n",
       "  }\n",
       "  table, th, td {\n",
       "    border: 1px solid black;\n",
       "    border-collapse: collapse;\n",
       "  }\n",
       "  th, td {\n",
       "    padding: 5px;\n",
       "  }\n",
       "  th {\n",
       "    text-align: left;\n",
       "  }\n",
       "</style><div class='table-result-container'><table class='table-result'><thead style='background-color: white'><tr></tr></thead><tbody></tbody></table></div>"
      ]
     },
     "metadata": {
      "application/vnd.databricks.v1+output": {
       "addedWidgets": {},
       "aggData": [],
       "aggError": "",
       "aggOverflow": false,
       "aggSchema": [],
       "aggSeriesLimitReached": false,
       "aggType": "",
       "arguments": {},
       "columnCustomDisplayInfos": {},
       "data": [],
       "datasetInfos": [],
       "dbfsResultPath": null,
       "isJsonSchema": true,
       "metadata": {
        "isDbfsCommandResult": false
       },
       "overflow": false,
       "plotOptions": {
        "customPlotOptions": {},
        "displayType": "table",
        "pivotAggregation": null,
        "pivotColumns": null,
        "xColumns": null,
        "yColumns": null
       },
       "removedWidgets": [],
       "schema": [],
       "type": "table"
      }
     },
     "output_type": "display_data"
    }
   ],
   "source": [
    "%sql\n",
    "create or replace table   euro24(team_name varchar(20),grp varchar(10));\n",
    "\n"
   ]
  },
  {
   "cell_type": "code",
   "execution_count": 0,
   "metadata": {
    "application/vnd.databricks.v1+cell": {
     "cellMetadata": {
      "byteLimit": 2048000,
      "implicitDf": true,
      "rowLimit": 10000
     },
     "inputWidgets": {},
     "nuid": "46c40e91-27f8-4e50-8f56-ade415d30b02",
     "showTitle": false,
     "title": ""
    },
    "jupyter": {
     "outputs_hidden": true
    }
   },
   "outputs": [
    {
     "output_type": "display_data",
     "data": {
      "text/html": [
       "<style scoped>\n",
       "  .table-result-container {\n",
       "    max-height: 300px;\n",
       "    overflow: auto;\n",
       "  }\n",
       "  table, th, td {\n",
       "    border: 1px solid black;\n",
       "    border-collapse: collapse;\n",
       "  }\n",
       "  th, td {\n",
       "    padding: 5px;\n",
       "  }\n",
       "  th {\n",
       "    text-align: left;\n",
       "  }\n",
       "</style><div class='table-result-container'><table class='table-result'><thead style='background-color: white'><tr><th>num_affected_rows</th><th>num_inserted_rows</th></tr></thead><tbody><tr><td>24</td><td>24</td></tr></tbody></table></div>"
      ]
     },
     "metadata": {
      "application/vnd.databricks.v1+output": {
       "addedWidgets": {},
       "aggData": [],
       "aggError": "",
       "aggOverflow": false,
       "aggSchema": [],
       "aggSeriesLimitReached": false,
       "aggType": "",
       "arguments": {},
       "columnCustomDisplayInfos": {},
       "data": [
        [
         24,
         24
        ]
       ],
       "datasetInfos": [],
       "dbfsResultPath": null,
       "isJsonSchema": true,
       "metadata": {
        "isDbfsCommandResult": false
       },
       "overflow": false,
       "plotOptions": {
        "customPlotOptions": {},
        "displayType": "table",
        "pivotAggregation": null,
        "pivotColumns": null,
        "xColumns": null,
        "yColumns": null
       },
       "removedWidgets": [],
       "schema": [
        {
         "metadata": "{}",
         "name": "num_affected_rows",
         "type": "\"long\""
        },
        {
         "metadata": "{}",
         "name": "num_inserted_rows",
         "type": "\"long\""
        }
       ],
       "type": "table"
      }
     },
     "output_type": "display_data"
    }
   ],
   "source": [
    "%sql\n",
    "insert into euro24 values ('Italy', 'A'), ('Switzerland', 'A'), ('Turkey', 'A'), ('Wales', 'A'),\n",
    "    ('Belgium', 'B'), ('Denmark', 'B'), ('Finland', 'B'), ('Russia', 'B'),\n",
    "    ('Austria', 'C'), ('Netherlands', 'C'), ('North Macedonia', 'C'), ('Ukraine', 'C'),\n",
    "    ('Croatia', 'D'), ('Czech Republic', 'D'), ('England', 'D'), ('Scotland', 'D'),\n",
    "    ('Poland', 'E'), ('Slovakia', 'E'), ('Spain', 'E'), ('Sweden', 'E'),\n",
    "    ('France', 'F'), ('Germany', 'F'), ('Hungary', 'F'), ('Portugal', 'F');"
   ]
  },
  {
   "cell_type": "code",
   "execution_count": 0,
   "metadata": {
    "application/vnd.databricks.v1+cell": {
     "cellMetadata": {
      "byteLimit": 2048000,
      "implicitDf": true,
      "rowLimit": 10000
     },
     "inputWidgets": {},
     "nuid": "4d519f3a-ae3c-49fe-8183-9727f73adfc6",
     "showTitle": false,
     "title": ""
    }
   },
   "outputs": [
    {
     "output_type": "display_data",
     "data": {
      "text/html": [
       "<style scoped>\n",
       "  .table-result-container {\n",
       "    max-height: 300px;\n",
       "    overflow: auto;\n",
       "  }\n",
       "  table, th, td {\n",
       "    border: 1px solid black;\n",
       "    border-collapse: collapse;\n",
       "  }\n",
       "  th, td {\n",
       "    padding: 5px;\n",
       "  }\n",
       "  th {\n",
       "    text-align: left;\n",
       "  }\n",
       "</style><div class='table-result-container'><table class='table-result'><thead style='background-color: white'><tr><th>team_name</th><th>grp</th></tr></thead><tbody><tr><td>Italy</td><td>A</td></tr><tr><td>Switzerland</td><td>A</td></tr><tr><td>Turkey</td><td>A</td></tr><tr><td>Wales</td><td>A</td></tr><tr><td>Belgium</td><td>B</td></tr><tr><td>Denmark</td><td>B</td></tr><tr><td>Finland</td><td>B</td></tr><tr><td>Russia</td><td>B</td></tr><tr><td>Austria</td><td>C</td></tr><tr><td>Netherlands</td><td>C</td></tr><tr><td>North Macedonia</td><td>C</td></tr><tr><td>Ukraine</td><td>C</td></tr><tr><td>Croatia</td><td>D</td></tr><tr><td>Czech Republic</td><td>D</td></tr><tr><td>England</td><td>D</td></tr><tr><td>Scotland</td><td>D</td></tr><tr><td>Poland</td><td>E</td></tr><tr><td>Slovakia</td><td>E</td></tr><tr><td>Spain</td><td>E</td></tr><tr><td>Sweden</td><td>E</td></tr><tr><td>France</td><td>F</td></tr><tr><td>Germany</td><td>F</td></tr><tr><td>Hungary</td><td>F</td></tr><tr><td>Portugal</td><td>F</td></tr></tbody></table></div>"
      ]
     },
     "metadata": {
      "application/vnd.databricks.v1+output": {
       "addedWidgets": {},
       "aggData": [],
       "aggError": "",
       "aggOverflow": false,
       "aggSchema": [],
       "aggSeriesLimitReached": false,
       "aggType": "",
       "arguments": {},
       "columnCustomDisplayInfos": {},
       "data": [
        [
         "Italy",
         "A"
        ],
        [
         "Switzerland",
         "A"
        ],
        [
         "Turkey",
         "A"
        ],
        [
         "Wales",
         "A"
        ],
        [
         "Belgium",
         "B"
        ],
        [
         "Denmark",
         "B"
        ],
        [
         "Finland",
         "B"
        ],
        [
         "Russia",
         "B"
        ],
        [
         "Austria",
         "C"
        ],
        [
         "Netherlands",
         "C"
        ],
        [
         "North Macedonia",
         "C"
        ],
        [
         "Ukraine",
         "C"
        ],
        [
         "Croatia",
         "D"
        ],
        [
         "Czech Republic",
         "D"
        ],
        [
         "England",
         "D"
        ],
        [
         "Scotland",
         "D"
        ],
        [
         "Poland",
         "E"
        ],
        [
         "Slovakia",
         "E"
        ],
        [
         "Spain",
         "E"
        ],
        [
         "Sweden",
         "E"
        ],
        [
         "France",
         "F"
        ],
        [
         "Germany",
         "F"
        ],
        [
         "Hungary",
         "F"
        ],
        [
         "Portugal",
         "F"
        ]
       ],
       "datasetInfos": [],
       "dbfsResultPath": null,
       "isJsonSchema": true,
       "metadata": {
        "isDbfsCommandResult": false
       },
       "overflow": false,
       "plotOptions": {
        "customPlotOptions": {},
        "displayType": "table",
        "pivotAggregation": null,
        "pivotColumns": null,
        "xColumns": null,
        "yColumns": null
       },
       "removedWidgets": [],
       "schema": [
        {
         "metadata": "{\"__CHAR_VARCHAR_TYPE_STRING\":\"varchar(20)\"}",
         "name": "team_name",
         "type": "\"string\""
        },
        {
         "metadata": "{\"__CHAR_VARCHAR_TYPE_STRING\":\"varchar(10)\"}",
         "name": "grp",
         "type": "\"string\""
        }
       ],
       "type": "table"
      }
     },
     "output_type": "display_data"
    }
   ],
   "source": [
    "%sql\n",
    "select * from euro24"
   ]
  },
  {
   "cell_type": "markdown",
   "metadata": {
    "application/vnd.databricks.v1+cell": {
     "cellMetadata": {},
     "inputWidgets": {},
     "nuid": "8b104cfb-38c3-444a-9ba6-c914ddd7d81b",
     "showTitle": false,
     "title": ""
    }
   },
   "source": [
    "####Group Stage: Teams are divided into groups, and each team plays against every other team in its group. Points are awarded for wins and draws"
   ]
  },
  {
   "cell_type": "code",
   "execution_count": 0,
   "metadata": {
    "application/vnd.databricks.v1+cell": {
     "cellMetadata": {
      "byteLimit": 2048000,
      "implicitDf": true,
      "rowLimit": 10000
     },
     "inputWidgets": {},
     "nuid": "6cfebeba-70d2-41e6-8435-e41e460cdfb3",
     "showTitle": false,
     "title": ""
    }
   },
   "outputs": [
    {
     "output_type": "display_data",
     "data": {
      "text/html": [
       "<style scoped>\n",
       "  .table-result-container {\n",
       "    max-height: 300px;\n",
       "    overflow: auto;\n",
       "  }\n",
       "  table, th, td {\n",
       "    border: 1px solid black;\n",
       "    border-collapse: collapse;\n",
       "  }\n",
       "  th, td {\n",
       "    padding: 5px;\n",
       "  }\n",
       "  th {\n",
       "    text-align: left;\n",
       "  }\n",
       "</style><div class='table-result-container'><table class='table-result'><thead style='background-color: white'><tr><th>Match_fixture</th><th>team1</th><th>team1_grp</th><th>team2</th><th>team2_grp</th><th>team1_score</th><th>team2_score</th><th>team1_pts</th><th>team2_pts</th><th>winner</th></tr></thead><tbody><tr><td>Switzerland  Vs Italy</td><td>Switzerland</td><td>A</td><td>Italy</td><td>A</td><td>4</td><td>2</td><td>3</td><td>0</td><td>Switzerland</td></tr><tr><td>Turkey  Vs Switzerland</td><td>Turkey</td><td>A</td><td>Switzerland</td><td>A</td><td>1</td><td>5</td><td>0</td><td>3</td><td>Switzerland</td></tr><tr><td>Turkey  Vs Italy</td><td>Turkey</td><td>A</td><td>Italy</td><td>A</td><td>2</td><td>1</td><td>3</td><td>0</td><td>Turkey</td></tr><tr><td>Wales  Vs Turkey</td><td>Wales</td><td>A</td><td>Turkey</td><td>A</td><td>0</td><td>1</td><td>0</td><td>3</td><td>Turkey</td></tr><tr><td>Wales  Vs Switzerland</td><td>Wales</td><td>A</td><td>Switzerland</td><td>A</td><td>3</td><td>3</td><td>0</td><td>1</td><td>draw</td></tr><tr><td>Wales  Vs Italy</td><td>Wales</td><td>A</td><td>Italy</td><td>A</td><td>2</td><td>0</td><td>3</td><td>0</td><td>Wales</td></tr><tr><td>Denmark  Vs Belgium</td><td>Denmark</td><td>B</td><td>Belgium</td><td>B</td><td>4</td><td>4</td><td>0</td><td>1</td><td>draw</td></tr><tr><td>Finland  Vs Denmark</td><td>Finland</td><td>B</td><td>Denmark</td><td>B</td><td>0</td><td>4</td><td>0</td><td>3</td><td>Denmark</td></tr><tr><td>Finland  Vs Belgium</td><td>Finland</td><td>B</td><td>Belgium</td><td>B</td><td>5</td><td>1</td><td>3</td><td>0</td><td>Finland</td></tr><tr><td>Russia  Vs Finland</td><td>Russia</td><td>B</td><td>Finland</td><td>B</td><td>0</td><td>4</td><td>0</td><td>3</td><td>Finland</td></tr><tr><td>Russia  Vs Denmark</td><td>Russia</td><td>B</td><td>Denmark</td><td>B</td><td>3</td><td>5</td><td>0</td><td>3</td><td>Denmark</td></tr><tr><td>Russia  Vs Belgium</td><td>Russia</td><td>B</td><td>Belgium</td><td>B</td><td>3</td><td>5</td><td>0</td><td>3</td><td>Belgium</td></tr><tr><td>Netherlands  Vs Austria</td><td>Netherlands</td><td>C</td><td>Austria</td><td>C</td><td>5</td><td>2</td><td>3</td><td>0</td><td>Netherlands</td></tr><tr><td>North Macedonia  Vs Netherlands</td><td>North Macedonia</td><td>C</td><td>Netherlands</td><td>C</td><td>5</td><td>5</td><td>0</td><td>1</td><td>draw</td></tr><tr><td>North Macedonia  Vs Austria</td><td>North Macedonia</td><td>C</td><td>Austria</td><td>C</td><td>3</td><td>4</td><td>0</td><td>3</td><td>Austria</td></tr><tr><td>Ukraine  Vs North Macedonia</td><td>Ukraine</td><td>C</td><td>North Macedonia</td><td>C</td><td>4</td><td>3</td><td>3</td><td>0</td><td>Ukraine</td></tr><tr><td>Ukraine  Vs Netherlands</td><td>Ukraine</td><td>C</td><td>Netherlands</td><td>C</td><td>5</td><td>5</td><td>0</td><td>1</td><td>draw</td></tr><tr><td>Ukraine  Vs Austria</td><td>Ukraine</td><td>C</td><td>Austria</td><td>C</td><td>5</td><td>2</td><td>3</td><td>0</td><td>Ukraine</td></tr><tr><td>Czech Republic  Vs Croatia</td><td>Czech Republic</td><td>D</td><td>Croatia</td><td>D</td><td>1</td><td>3</td><td>0</td><td>3</td><td>Croatia</td></tr><tr><td>England  Vs Czech Republic</td><td>England</td><td>D</td><td>Czech Republic</td><td>D</td><td>4</td><td>5</td><td>0</td><td>3</td><td>Czech Republic</td></tr><tr><td>England  Vs Croatia</td><td>England</td><td>D</td><td>Croatia</td><td>D</td><td>2</td><td>5</td><td>0</td><td>3</td><td>Croatia</td></tr><tr><td>Scotland  Vs England</td><td>Scotland</td><td>D</td><td>England</td><td>D</td><td>1</td><td>0</td><td>3</td><td>0</td><td>Scotland</td></tr><tr><td>Scotland  Vs Czech Republic</td><td>Scotland</td><td>D</td><td>Czech Republic</td><td>D</td><td>5</td><td>5</td><td>0</td><td>1</td><td>draw</td></tr><tr><td>Scotland  Vs Croatia</td><td>Scotland</td><td>D</td><td>Croatia</td><td>D</td><td>2</td><td>5</td><td>0</td><td>3</td><td>Croatia</td></tr><tr><td>Slovakia  Vs Poland</td><td>Slovakia</td><td>E</td><td>Poland</td><td>E</td><td>4</td><td>2</td><td>3</td><td>0</td><td>Slovakia</td></tr><tr><td>Spain  Vs Slovakia</td><td>Spain</td><td>E</td><td>Slovakia</td><td>E</td><td>4</td><td>5</td><td>0</td><td>3</td><td>Slovakia</td></tr><tr><td>Spain  Vs Poland</td><td>Spain</td><td>E</td><td>Poland</td><td>E</td><td>0</td><td>5</td><td>0</td><td>3</td><td>Poland</td></tr><tr><td>Sweden  Vs Spain</td><td>Sweden</td><td>E</td><td>Spain</td><td>E</td><td>0</td><td>3</td><td>0</td><td>3</td><td>Spain</td></tr><tr><td>Sweden  Vs Slovakia</td><td>Sweden</td><td>E</td><td>Slovakia</td><td>E</td><td>5</td><td>5</td><td>0</td><td>1</td><td>draw</td></tr><tr><td>Sweden  Vs Poland</td><td>Sweden</td><td>E</td><td>Poland</td><td>E</td><td>2</td><td>5</td><td>0</td><td>3</td><td>Poland</td></tr><tr><td>Germany  Vs France</td><td>Germany</td><td>F</td><td>France</td><td>F</td><td>1</td><td>5</td><td>0</td><td>3</td><td>France</td></tr><tr><td>Hungary  Vs Germany</td><td>Hungary</td><td>F</td><td>Germany</td><td>F</td><td>5</td><td>2</td><td>3</td><td>0</td><td>Hungary</td></tr><tr><td>Hungary  Vs France</td><td>Hungary</td><td>F</td><td>France</td><td>F</td><td>4</td><td>5</td><td>0</td><td>3</td><td>France</td></tr><tr><td>Portugal  Vs Hungary</td><td>Portugal</td><td>F</td><td>Hungary</td><td>F</td><td>2</td><td>1</td><td>3</td><td>0</td><td>Portugal</td></tr><tr><td>Portugal  Vs Germany</td><td>Portugal</td><td>F</td><td>Germany</td><td>F</td><td>1</td><td>2</td><td>0</td><td>3</td><td>Germany</td></tr><tr><td>Portugal  Vs France</td><td>Portugal</td><td>F</td><td>France</td><td>F</td><td>3</td><td>5</td><td>0</td><td>3</td><td>France</td></tr></tbody></table></div>"
      ]
     },
     "metadata": {
      "application/vnd.databricks.v1+output": {
       "addedWidgets": {},
       "aggData": [],
       "aggError": "",
       "aggOverflow": false,
       "aggSchema": [],
       "aggSeriesLimitReached": false,
       "aggType": "",
       "arguments": {},
       "columnCustomDisplayInfos": {},
       "data": [
        [
         "Switzerland  Vs Italy",
         "Switzerland",
         "A",
         "Italy",
         "A",
         4,
         2,
         3,
         0,
         "Switzerland"
        ],
        [
         "Turkey  Vs Switzerland",
         "Turkey",
         "A",
         "Switzerland",
         "A",
         1,
         5,
         0,
         3,
         "Switzerland"
        ],
        [
         "Turkey  Vs Italy",
         "Turkey",
         "A",
         "Italy",
         "A",
         2,
         1,
         3,
         0,
         "Turkey"
        ],
        [
         "Wales  Vs Turkey",
         "Wales",
         "A",
         "Turkey",
         "A",
         0,
         1,
         0,
         3,
         "Turkey"
        ],
        [
         "Wales  Vs Switzerland",
         "Wales",
         "A",
         "Switzerland",
         "A",
         3,
         3,
         0,
         1,
         "draw"
        ],
        [
         "Wales  Vs Italy",
         "Wales",
         "A",
         "Italy",
         "A",
         2,
         0,
         3,
         0,
         "Wales"
        ],
        [
         "Denmark  Vs Belgium",
         "Denmark",
         "B",
         "Belgium",
         "B",
         4,
         4,
         0,
         1,
         "draw"
        ],
        [
         "Finland  Vs Denmark",
         "Finland",
         "B",
         "Denmark",
         "B",
         0,
         4,
         0,
         3,
         "Denmark"
        ],
        [
         "Finland  Vs Belgium",
         "Finland",
         "B",
         "Belgium",
         "B",
         5,
         1,
         3,
         0,
         "Finland"
        ],
        [
         "Russia  Vs Finland",
         "Russia",
         "B",
         "Finland",
         "B",
         0,
         4,
         0,
         3,
         "Finland"
        ],
        [
         "Russia  Vs Denmark",
         "Russia",
         "B",
         "Denmark",
         "B",
         3,
         5,
         0,
         3,
         "Denmark"
        ],
        [
         "Russia  Vs Belgium",
         "Russia",
         "B",
         "Belgium",
         "B",
         3,
         5,
         0,
         3,
         "Belgium"
        ],
        [
         "Netherlands  Vs Austria",
         "Netherlands",
         "C",
         "Austria",
         "C",
         5,
         2,
         3,
         0,
         "Netherlands"
        ],
        [
         "North Macedonia  Vs Netherlands",
         "North Macedonia",
         "C",
         "Netherlands",
         "C",
         5,
         5,
         0,
         1,
         "draw"
        ],
        [
         "North Macedonia  Vs Austria",
         "North Macedonia",
         "C",
         "Austria",
         "C",
         3,
         4,
         0,
         3,
         "Austria"
        ],
        [
         "Ukraine  Vs North Macedonia",
         "Ukraine",
         "C",
         "North Macedonia",
         "C",
         4,
         3,
         3,
         0,
         "Ukraine"
        ],
        [
         "Ukraine  Vs Netherlands",
         "Ukraine",
         "C",
         "Netherlands",
         "C",
         5,
         5,
         0,
         1,
         "draw"
        ],
        [
         "Ukraine  Vs Austria",
         "Ukraine",
         "C",
         "Austria",
         "C",
         5,
         2,
         3,
         0,
         "Ukraine"
        ],
        [
         "Czech Republic  Vs Croatia",
         "Czech Republic",
         "D",
         "Croatia",
         "D",
         1,
         3,
         0,
         3,
         "Croatia"
        ],
        [
         "England  Vs Czech Republic",
         "England",
         "D",
         "Czech Republic",
         "D",
         4,
         5,
         0,
         3,
         "Czech Republic"
        ],
        [
         "England  Vs Croatia",
         "England",
         "D",
         "Croatia",
         "D",
         2,
         5,
         0,
         3,
         "Croatia"
        ],
        [
         "Scotland  Vs England",
         "Scotland",
         "D",
         "England",
         "D",
         1,
         0,
         3,
         0,
         "Scotland"
        ],
        [
         "Scotland  Vs Czech Republic",
         "Scotland",
         "D",
         "Czech Republic",
         "D",
         5,
         5,
         0,
         1,
         "draw"
        ],
        [
         "Scotland  Vs Croatia",
         "Scotland",
         "D",
         "Croatia",
         "D",
         2,
         5,
         0,
         3,
         "Croatia"
        ],
        [
         "Slovakia  Vs Poland",
         "Slovakia",
         "E",
         "Poland",
         "E",
         4,
         2,
         3,
         0,
         "Slovakia"
        ],
        [
         "Spain  Vs Slovakia",
         "Spain",
         "E",
         "Slovakia",
         "E",
         4,
         5,
         0,
         3,
         "Slovakia"
        ],
        [
         "Spain  Vs Poland",
         "Spain",
         "E",
         "Poland",
         "E",
         0,
         5,
         0,
         3,
         "Poland"
        ],
        [
         "Sweden  Vs Spain",
         "Sweden",
         "E",
         "Spain",
         "E",
         0,
         3,
         0,
         3,
         "Spain"
        ],
        [
         "Sweden  Vs Slovakia",
         "Sweden",
         "E",
         "Slovakia",
         "E",
         5,
         5,
         0,
         1,
         "draw"
        ],
        [
         "Sweden  Vs Poland",
         "Sweden",
         "E",
         "Poland",
         "E",
         2,
         5,
         0,
         3,
         "Poland"
        ],
        [
         "Germany  Vs France",
         "Germany",
         "F",
         "France",
         "F",
         1,
         5,
         0,
         3,
         "France"
        ],
        [
         "Hungary  Vs Germany",
         "Hungary",
         "F",
         "Germany",
         "F",
         5,
         2,
         3,
         0,
         "Hungary"
        ],
        [
         "Hungary  Vs France",
         "Hungary",
         "F",
         "France",
         "F",
         4,
         5,
         0,
         3,
         "France"
        ],
        [
         "Portugal  Vs Hungary",
         "Portugal",
         "F",
         "Hungary",
         "F",
         2,
         1,
         3,
         0,
         "Portugal"
        ],
        [
         "Portugal  Vs Germany",
         "Portugal",
         "F",
         "Germany",
         "F",
         1,
         2,
         0,
         3,
         "Germany"
        ],
        [
         "Portugal  Vs France",
         "Portugal",
         "F",
         "France",
         "F",
         3,
         5,
         0,
         3,
         "France"
        ]
       ],
       "datasetInfos": [],
       "dbfsResultPath": null,
       "isJsonSchema": true,
       "metadata": {
        "isDbfsCommandResult": false
       },
       "overflow": false,
       "plotOptions": {
        "customPlotOptions": {},
        "displayType": "table",
        "pivotAggregation": null,
        "pivotColumns": null,
        "xColumns": null,
        "yColumns": null
       },
       "removedWidgets": [],
       "schema": [
        {
         "metadata": "{}",
         "name": "Match_fixture",
         "type": "\"string\""
        },
        {
         "metadata": "{\"__CHAR_VARCHAR_TYPE_STRING\":\"varchar(20)\"}",
         "name": "team1",
         "type": "\"string\""
        },
        {
         "metadata": "{\"__CHAR_VARCHAR_TYPE_STRING\":\"varchar(10)\"}",
         "name": "team1_grp",
         "type": "\"string\""
        },
        {
         "metadata": "{\"__CHAR_VARCHAR_TYPE_STRING\":\"varchar(20)\"}",
         "name": "team2",
         "type": "\"string\""
        },
        {
         "metadata": "{\"__CHAR_VARCHAR_TYPE_STRING\":\"varchar(10)\"}",
         "name": "team2_grp",
         "type": "\"string\""
        },
        {
         "metadata": "{}",
         "name": "team1_score",
         "type": "\"long\""
        },
        {
         "metadata": "{}",
         "name": "team2_score",
         "type": "\"long\""
        },
        {
         "metadata": "{}",
         "name": "team1_pts",
         "type": "\"integer\""
        },
        {
         "metadata": "{}",
         "name": "team2_pts",
         "type": "\"integer\""
        },
        {
         "metadata": "{}",
         "name": "winner",
         "type": "\"string\""
        }
       ],
       "type": "table"
      }
     },
     "output_type": "display_data"
    }
   ],
   "source": [
    "%sql\n",
    "select concat (a.team_name , \"  Vs \", b.team_name) as Match_fixture,\n",
    "a.team_name as team1,\n",
    "a.grp as team1_grp,\n",
    "b.team_name as team2,\n",
    "b.grp as team2_grp,\n",
    "floor(rand() * 6) as team1_score,\n",
    "floor(rand() * 6) as team2_score,\n",
    "case when team1_score > team2_score then 3 when team1_score < team2_score then 0 else 0 end as team1_pts,\n",
    "case when team2_score > team1_score then 3 when team2_score < team1_score then 0 else 1 end as team2_pts,\n",
    "case when team1_score > team2_score then team1 when team1_score < team2_score then team2 else \"draw\" end as winner\n",
    "from euro24 a cross join euro24 b where a.grp = b.grp and a.team_name > b.team_name\n",
    "\n",
    "\n"
   ]
  },
  {
   "cell_type": "code",
   "execution_count": 0,
   "metadata": {
    "application/vnd.databricks.v1+cell": {
     "cellMetadata": {
      "byteLimit": 2048000,
      "implicitDf": true,
      "rowLimit": 10000
     },
     "inputWidgets": {},
     "nuid": "4c8c7be1-4665-458c-8d97-1aea9c5ac2a4",
     "showTitle": false,
     "title": ""
    }
   },
   "outputs": [
    {
     "output_type": "display_data",
     "data": {
      "text/html": [
       "<style scoped>\n",
       "  .table-result-container {\n",
       "    max-height: 300px;\n",
       "    overflow: auto;\n",
       "  }\n",
       "  table, th, td {\n",
       "    border: 1px solid black;\n",
       "    border-collapse: collapse;\n",
       "  }\n",
       "  th, td {\n",
       "    padding: 5px;\n",
       "  }\n",
       "  th {\n",
       "    text-align: left;\n",
       "  }\n",
       "</style><div class='table-result-container'><table class='table-result'><thead style='background-color: white'><tr><th>team1</th><th>grp</th><th>GF</th><th>GA</th><th>GD</th><th>points</th></tr></thead><tbody><tr><td>Turkey</td><td>A</td><td>4</td><td>4</td><td>0</td><td>0</td></tr><tr><td>Switzerland</td><td>A</td><td>4</td><td>4</td><td>0</td><td>1</td></tr><tr><td>Switzerland</td><td>A</td><td>2</td><td>2</td><td>0</td><td>0</td></tr><tr><td>Italy</td><td>A</td><td>2</td><td>2</td><td>0</td><td>1</td></tr><tr><td>Turkey</td><td>A</td><td>5</td><td>3</td><td>2</td><td>3</td></tr><tr><td>Italy</td><td>A</td><td>3</td><td>5</td><td>-2</td><td>0</td></tr><tr><td>Wales</td><td>A</td><td>4</td><td>1</td><td>3</td><td>3</td></tr><tr><td>Italy</td><td>A</td><td>1</td><td>4</td><td>-3</td><td>0</td></tr><tr><td>Wales</td><td>A</td><td>0</td><td>5</td><td>-5</td><td>0</td></tr><tr><td>Switzerland</td><td>A</td><td>5</td><td>0</td><td>5</td><td>3</td></tr><tr><td>Wales</td><td>A</td><td>0</td><td>5</td><td>-5</td><td>0</td></tr><tr><td>Turkey</td><td>A</td><td>5</td><td>0</td><td>5</td><td>3</td></tr><tr><td>Denmark</td><td>B</td><td>2</td><td>0</td><td>2</td><td>3</td></tr><tr><td>Belgium</td><td>B</td><td>0</td><td>2</td><td>-2</td><td>0</td></tr><tr><td>Russia</td><td>B</td><td>3</td><td>1</td><td>2</td><td>3</td></tr><tr><td>Finland</td><td>B</td><td>1</td><td>3</td><td>-2</td><td>0</td></tr><tr><td>Russia</td><td>B</td><td>2</td><td>0</td><td>2</td><td>3</td></tr><tr><td>Denmark</td><td>B</td><td>0</td><td>2</td><td>-2</td><td>0</td></tr><tr><td>Finland</td><td>B</td><td>1</td><td>1</td><td>0</td><td>0</td></tr><tr><td>Denmark</td><td>B</td><td>1</td><td>1</td><td>0</td><td>1</td></tr><tr><td>Finland</td><td>B</td><td>5</td><td>4</td><td>1</td><td>3</td></tr><tr><td>Belgium</td><td>B</td><td>4</td><td>5</td><td>-1</td><td>0</td></tr><tr><td>Russia</td><td>B</td><td>5</td><td>5</td><td>0</td><td>0</td></tr><tr><td>Belgium</td><td>B</td><td>5</td><td>5</td><td>0</td><td>1</td></tr><tr><td>Ukraine</td><td>C</td><td>0</td><td>5</td><td>-5</td><td>0</td></tr><tr><td>Austria</td><td>C</td><td>5</td><td>0</td><td>5</td><td>3</td></tr><tr><td>Ukraine</td><td>C</td><td>5</td><td>1</td><td>4</td><td>3</td></tr><tr><td>Netherlands</td><td>C</td><td>1</td><td>5</td><td>-4</td><td>0</td></tr><tr><td>Ukraine</td><td>C</td><td>0</td><td>1</td><td>-1</td><td>0</td></tr><tr><td>North Macedonia</td><td>C</td><td>1</td><td>0</td><td>1</td><td>3</td></tr><tr><td>North Macedonia</td><td>C</td><td>0</td><td>2</td><td>-2</td><td>0</td></tr><tr><td>Austria</td><td>C</td><td>2</td><td>0</td><td>2</td><td>3</td></tr><tr><td>Netherlands</td><td>C</td><td>4</td><td>1</td><td>3</td><td>3</td></tr><tr><td>Austria</td><td>C</td><td>1</td><td>4</td><td>-3</td><td>0</td></tr><tr><td>North Macedonia</td><td>C</td><td>4</td><td>5</td><td>-1</td><td>0</td></tr><tr><td>Netherlands</td><td>C</td><td>5</td><td>4</td><td>1</td><td>3</td></tr><tr><td>Scotland</td><td>D</td><td>5</td><td>1</td><td>4</td><td>3</td></tr><tr><td>Czech Republic</td><td>D</td><td>1</td><td>5</td><td>-4</td><td>0</td></tr><tr><td>Scotland</td><td>D</td><td>0</td><td>1</td><td>-1</td><td>0</td></tr><tr><td>England</td><td>D</td><td>1</td><td>0</td><td>1</td><td>3</td></tr><tr><td>England</td><td>D</td><td>4</td><td>0</td><td>4</td><td>3</td></tr><tr><td>Croatia</td><td>D</td><td>0</td><td>4</td><td>-4</td><td>0</td></tr><tr><td>Czech Republic</td><td>D</td><td>5</td><td>4</td><td>1</td><td>3</td></tr><tr><td>Croatia</td><td>D</td><td>4</td><td>5</td><td>-1</td><td>0</td></tr><tr><td>England</td><td>D</td><td>2</td><td>3</td><td>-1</td><td>0</td></tr><tr><td>Czech Republic</td><td>D</td><td>3</td><td>2</td><td>1</td><td>3</td></tr><tr><td>Scotland</td><td>D</td><td>0</td><td>5</td><td>-5</td><td>0</td></tr><tr><td>Croatia</td><td>D</td><td>5</td><td>0</td><td>5</td><td>3</td></tr><tr><td>Sweden</td><td>E</td><td>4</td><td>3</td><td>1</td><td>3</td></tr><tr><td>Poland</td><td>E</td><td>3</td><td>4</td><td>-1</td><td>0</td></tr><tr><td>Spain</td><td>E</td><td>1</td><td>2</td><td>-1</td><td>0</td></tr><tr><td>Slovakia</td><td>E</td><td>2</td><td>1</td><td>1</td><td>3</td></tr><tr><td>Spain</td><td>E</td><td>5</td><td>3</td><td>2</td><td>3</td></tr><tr><td>Poland</td><td>E</td><td>3</td><td>5</td><td>-2</td><td>0</td></tr><tr><td>Slovakia</td><td>E</td><td>3</td><td>1</td><td>2</td><td>3</td></tr><tr><td>Poland</td><td>E</td><td>1</td><td>3</td><td>-2</td><td>0</td></tr><tr><td>Sweden</td><td>E</td><td>5</td><td>3</td><td>2</td><td>3</td></tr><tr><td>Spain</td><td>E</td><td>3</td><td>5</td><td>-2</td><td>0</td></tr><tr><td>Sweden</td><td>E</td><td>4</td><td>0</td><td>4</td><td>3</td></tr><tr><td>Slovakia</td><td>E</td><td>0</td><td>4</td><td>-4</td><td>0</td></tr><tr><td>Germany</td><td>F</td><td>4</td><td>2</td><td>2</td><td>3</td></tr><tr><td>France</td><td>F</td><td>2</td><td>4</td><td>-2</td><td>0</td></tr><tr><td>Portugal</td><td>F</td><td>5</td><td>3</td><td>2</td><td>3</td></tr><tr><td>France</td><td>F</td><td>3</td><td>5</td><td>-2</td><td>0</td></tr><tr><td>Hungary</td><td>F</td><td>0</td><td>5</td><td>-5</td><td>0</td></tr><tr><td>Germany</td><td>F</td><td>5</td><td>0</td><td>5</td><td>3</td></tr><tr><td>Portugal</td><td>F</td><td>3</td><td>2</td><td>1</td><td>3</td></tr><tr><td>Hungary</td><td>F</td><td>2</td><td>3</td><td>-1</td><td>0</td></tr><tr><td>Portugal</td><td>F</td><td>5</td><td>0</td><td>5</td><td>3</td></tr><tr><td>Germany</td><td>F</td><td>0</td><td>5</td><td>-5</td><td>0</td></tr><tr><td>Hungary</td><td>F</td><td>3</td><td>3</td><td>0</td><td>0</td></tr><tr><td>France</td><td>F</td><td>3</td><td>3</td><td>0</td><td>1</td></tr></tbody></table></div>"
      ]
     },
     "metadata": {
      "application/vnd.databricks.v1+output": {
       "addedWidgets": {},
       "aggData": [],
       "aggError": "",
       "aggOverflow": false,
       "aggSchema": [],
       "aggSeriesLimitReached": false,
       "aggType": "",
       "arguments": {},
       "columnCustomDisplayInfos": {},
       "data": [
        [
         "Turkey",
         "A",
         4,
         4,
         0,
         0
        ],
        [
         "Switzerland",
         "A",
         4,
         4,
         0,
         1
        ],
        [
         "Switzerland",
         "A",
         2,
         2,
         0,
         0
        ],
        [
         "Italy",
         "A",
         2,
         2,
         0,
         1
        ],
        [
         "Turkey",
         "A",
         5,
         3,
         2,
         3
        ],
        [
         "Italy",
         "A",
         3,
         5,
         -2,
         0
        ],
        [
         "Wales",
         "A",
         4,
         1,
         3,
         3
        ],
        [
         "Italy",
         "A",
         1,
         4,
         -3,
         0
        ],
        [
         "Wales",
         "A",
         0,
         5,
         -5,
         0
        ],
        [
         "Switzerland",
         "A",
         5,
         0,
         5,
         3
        ],
        [
         "Wales",
         "A",
         0,
         5,
         -5,
         0
        ],
        [
         "Turkey",
         "A",
         5,
         0,
         5,
         3
        ],
        [
         "Denmark",
         "B",
         2,
         0,
         2,
         3
        ],
        [
         "Belgium",
         "B",
         0,
         2,
         -2,
         0
        ],
        [
         "Russia",
         "B",
         3,
         1,
         2,
         3
        ],
        [
         "Finland",
         "B",
         1,
         3,
         -2,
         0
        ],
        [
         "Russia",
         "B",
         2,
         0,
         2,
         3
        ],
        [
         "Denmark",
         "B",
         0,
         2,
         -2,
         0
        ],
        [
         "Finland",
         "B",
         1,
         1,
         0,
         0
        ],
        [
         "Denmark",
         "B",
         1,
         1,
         0,
         1
        ],
        [
         "Finland",
         "B",
         5,
         4,
         1,
         3
        ],
        [
         "Belgium",
         "B",
         4,
         5,
         -1,
         0
        ],
        [
         "Russia",
         "B",
         5,
         5,
         0,
         0
        ],
        [
         "Belgium",
         "B",
         5,
         5,
         0,
         1
        ],
        [
         "Ukraine",
         "C",
         0,
         5,
         -5,
         0
        ],
        [
         "Austria",
         "C",
         5,
         0,
         5,
         3
        ],
        [
         "Ukraine",
         "C",
         5,
         1,
         4,
         3
        ],
        [
         "Netherlands",
         "C",
         1,
         5,
         -4,
         0
        ],
        [
         "Ukraine",
         "C",
         0,
         1,
         -1,
         0
        ],
        [
         "North Macedonia",
         "C",
         1,
         0,
         1,
         3
        ],
        [
         "North Macedonia",
         "C",
         0,
         2,
         -2,
         0
        ],
        [
         "Austria",
         "C",
         2,
         0,
         2,
         3
        ],
        [
         "Netherlands",
         "C",
         4,
         1,
         3,
         3
        ],
        [
         "Austria",
         "C",
         1,
         4,
         -3,
         0
        ],
        [
         "North Macedonia",
         "C",
         4,
         5,
         -1,
         0
        ],
        [
         "Netherlands",
         "C",
         5,
         4,
         1,
         3
        ],
        [
         "Scotland",
         "D",
         5,
         1,
         4,
         3
        ],
        [
         "Czech Republic",
         "D",
         1,
         5,
         -4,
         0
        ],
        [
         "Scotland",
         "D",
         0,
         1,
         -1,
         0
        ],
        [
         "England",
         "D",
         1,
         0,
         1,
         3
        ],
        [
         "England",
         "D",
         4,
         0,
         4,
         3
        ],
        [
         "Croatia",
         "D",
         0,
         4,
         -4,
         0
        ],
        [
         "Czech Republic",
         "D",
         5,
         4,
         1,
         3
        ],
        [
         "Croatia",
         "D",
         4,
         5,
         -1,
         0
        ],
        [
         "England",
         "D",
         2,
         3,
         -1,
         0
        ],
        [
         "Czech Republic",
         "D",
         3,
         2,
         1,
         3
        ],
        [
         "Scotland",
         "D",
         0,
         5,
         -5,
         0
        ],
        [
         "Croatia",
         "D",
         5,
         0,
         5,
         3
        ],
        [
         "Sweden",
         "E",
         4,
         3,
         1,
         3
        ],
        [
         "Poland",
         "E",
         3,
         4,
         -1,
         0
        ],
        [
         "Spain",
         "E",
         1,
         2,
         -1,
         0
        ],
        [
         "Slovakia",
         "E",
         2,
         1,
         1,
         3
        ],
        [
         "Spain",
         "E",
         5,
         3,
         2,
         3
        ],
        [
         "Poland",
         "E",
         3,
         5,
         -2,
         0
        ],
        [
         "Slovakia",
         "E",
         3,
         1,
         2,
         3
        ],
        [
         "Poland",
         "E",
         1,
         3,
         -2,
         0
        ],
        [
         "Sweden",
         "E",
         5,
         3,
         2,
         3
        ],
        [
         "Spain",
         "E",
         3,
         5,
         -2,
         0
        ],
        [
         "Sweden",
         "E",
         4,
         0,
         4,
         3
        ],
        [
         "Slovakia",
         "E",
         0,
         4,
         -4,
         0
        ],
        [
         "Germany",
         "F",
         4,
         2,
         2,
         3
        ],
        [
         "France",
         "F",
         2,
         4,
         -2,
         0
        ],
        [
         "Portugal",
         "F",
         5,
         3,
         2,
         3
        ],
        [
         "France",
         "F",
         3,
         5,
         -2,
         0
        ],
        [
         "Hungary",
         "F",
         0,
         5,
         -5,
         0
        ],
        [
         "Germany",
         "F",
         5,
         0,
         5,
         3
        ],
        [
         "Portugal",
         "F",
         3,
         2,
         1,
         3
        ],
        [
         "Hungary",
         "F",
         2,
         3,
         -1,
         0
        ],
        [
         "Portugal",
         "F",
         5,
         0,
         5,
         3
        ],
        [
         "Germany",
         "F",
         0,
         5,
         -5,
         0
        ],
        [
         "Hungary",
         "F",
         3,
         3,
         0,
         0
        ],
        [
         "France",
         "F",
         3,
         3,
         0,
         1
        ]
       ],
       "datasetInfos": [],
       "dbfsResultPath": null,
       "isJsonSchema": true,
       "metadata": {
        "isDbfsCommandResult": false
       },
       "overflow": false,
       "plotOptions": {
        "customPlotOptions": {},
        "displayType": "table",
        "pivotAggregation": null,
        "pivotColumns": null,
        "xColumns": null,
        "yColumns": null
       },
       "removedWidgets": [],
       "schema": [
        {
         "metadata": "{\"__CHAR_VARCHAR_TYPE_STRING\":\"varchar(20)\"}",
         "name": "team1",
         "type": "\"string\""
        },
        {
         "metadata": "{\"__CHAR_VARCHAR_TYPE_STRING\":\"varchar(10)\"}",
         "name": "grp",
         "type": "\"string\""
        },
        {
         "metadata": "{}",
         "name": "GF",
         "type": "\"long\""
        },
        {
         "metadata": "{}",
         "name": "GA",
         "type": "\"long\""
        },
        {
         "metadata": "{}",
         "name": "GD",
         "type": "\"long\""
        },
        {
         "metadata": "{}",
         "name": "points",
         "type": "\"integer\""
        }
       ],
       "type": "table"
      }
     },
     "output_type": "display_data"
    }
   ],
   "source": [
    "%sql\n",
    "with cte as (select concat (a.team_name , \"  Vs \", b.team_name) as Match_fixture,\n",
    "a.team_name as team1,\n",
    "a.grp as team1_grp,\n",
    "b.team_name as team2,\n",
    "b.grp as team2_grp,\n",
    "floor(rand() * 6) as team1_score,\n",
    "floor(rand() * 6) as team2_score,\n",
    "case when team1_score > team2_score then 3 when team1_score < team2_score then 0 else 0 end as team1_pts,\n",
    "case when team2_score > team1_score then 3 when team2_score < team1_score then 0 else 1 end as team2_pts,\n",
    "case when team1_score > team2_score then team1 when team1_score < team2_score then team2 else \"draw\" end as winner\n",
    "from euro24 a cross join euro24 b where a.grp = b.grp and a.team_name > b.team_name\n",
    "\n",
    "\n",
    ") \n",
    "(select team1,team1_grp as grp,team1_score as GF,team2_score as GA ,(GF - GA) As GD, team1_pts as points  from cte )\n",
    "union all\n",
    "(select team2,team2_grp as grp, team2_score as GF ,team1_score as GA ,(GF - GA) as GD,team2_pts from cte ) order by grp\n",
    "\n",
    "\n",
    "\n"
   ]
  },
  {
   "cell_type": "markdown",
   "metadata": {
    "application/vnd.databricks.v1+cell": {
     "cellMetadata": {},
     "inputWidgets": {},
     "nuid": "14dc5a95-33b3-40ef-850c-156333546550",
     "showTitle": false,
     "title": ""
    }
   },
   "source": [
    "### group stage points table:\n",
    "#####Points are awarded for wins and draws, and teams are ranked within their groups based on points, goal difference, and other tie-breaking criteria"
   ]
  },
  {
   "cell_type": "code",
   "execution_count": 0,
   "metadata": {
    "application/vnd.databricks.v1+cell": {
     "cellMetadata": {
      "byteLimit": 2048000,
      "implicitDf": true,
      "rowLimit": 10000
     },
     "inputWidgets": {},
     "nuid": "dbf47926-7e34-434b-b1a4-b4aa42567960",
     "showTitle": false,
     "title": ""
    }
   },
   "outputs": [
    {
     "output_type": "display_data",
     "data": {
      "text/html": [
       "<style scoped>\n",
       "  .table-result-container {\n",
       "    max-height: 300px;\n",
       "    overflow: auto;\n",
       "  }\n",
       "  table, th, td {\n",
       "    border: 1px solid black;\n",
       "    border-collapse: collapse;\n",
       "  }\n",
       "  th, td {\n",
       "    padding: 5px;\n",
       "  }\n",
       "  th {\n",
       "    text-align: left;\n",
       "  }\n",
       "</style><div class='table-result-container'><table class='table-result'><thead style='background-color: white'><tr><th>team</th><th>grp</th><th>Match_played</th><th>GF</th><th>GA</th><th>GD</th><th>points</th></tr></thead><tbody><tr><td>Switzerland</td><td>A</td><td>3</td><td>8</td><td>6</td><td>2</td><td>6</td></tr><tr><td>Italy</td><td>A</td><td>3</td><td>5</td><td>3</td><td>2</td><td>4</td></tr><tr><td>Wales</td><td>A</td><td>3</td><td>6</td><td>8</td><td>-2</td><td>3</td></tr><tr><td>Turkey</td><td>A</td><td>3</td><td>9</td><td>11</td><td>-2</td><td>3</td></tr><tr><td>Finland</td><td>B</td><td>3</td><td>8</td><td>4</td><td>4</td><td>6</td></tr><tr><td>Denmark</td><td>B</td><td>3</td><td>9</td><td>5</td><td>4</td><td>4</td></tr><tr><td>Russia</td><td>B</td><td>3</td><td>8</td><td>10</td><td>-2</td><td>3</td></tr><tr><td>Belgium</td><td>B</td><td>3</td><td>5</td><td>11</td><td>-6</td><td>1</td></tr><tr><td>Ukraine</td><td>C</td><td>3</td><td>6</td><td>4</td><td>2</td><td>6</td></tr><tr><td>North Macedonia</td><td>C</td><td>3</td><td>3</td><td>2</td><td>1</td><td>4</td></tr><tr><td>Netherlands</td><td>C</td><td>3</td><td>2</td><td>3</td><td>-1</td><td>3</td></tr><tr><td>Austria</td><td>C</td><td>3</td><td>5</td><td>7</td><td>-2</td><td>3</td></tr><tr><td>Croatia</td><td>D</td><td>3</td><td>7</td><td>4</td><td>3</td><td>5</td></tr><tr><td>Scotland</td><td>D</td><td>3</td><td>7</td><td>9</td><td>-2</td><td>3</td></tr><tr><td>Czech Republic</td><td>D</td><td>3</td><td>5</td><td>5</td><td>0</td><td>2</td></tr><tr><td>England</td><td>D</td><td>3</td><td>9</td><td>10</td><td>-1</td><td>0</td></tr><tr><td>Slovakia</td><td>E</td><td>3</td><td>7</td><td>5</td><td>2</td><td>6</td></tr><tr><td>Spain</td><td>E</td><td>3</td><td>7</td><td>9</td><td>-2</td><td>3</td></tr><tr><td>Sweden</td><td>E</td><td>3</td><td>6</td><td>3</td><td>3</td><td>3</td></tr><tr><td>Poland</td><td>E</td><td>3</td><td>7</td><td>10</td><td>-3</td><td>2</td></tr><tr><td>France</td><td>F</td><td>3</td><td>11</td><td>5</td><td>6</td><td>7</td></tr><tr><td>Portugal</td><td>F</td><td>3</td><td>5</td><td>9</td><td>-4</td><td>3</td></tr><tr><td>Hungary</td><td>F</td><td>3</td><td>11</td><td>11</td><td>0</td><td>3</td></tr><tr><td>Germany</td><td>F</td><td>3</td><td>9</td><td>11</td><td>-2</td><td>3</td></tr></tbody></table></div>"
      ]
     },
     "metadata": {
      "application/vnd.databricks.v1+output": {
       "addedWidgets": {},
       "aggData": [],
       "aggError": "",
       "aggOverflow": false,
       "aggSchema": [],
       "aggSeriesLimitReached": false,
       "aggType": "",
       "arguments": {},
       "columnCustomDisplayInfos": {},
       "data": [
        [
         "Switzerland",
         "A",
         3,
         8,
         6,
         2,
         6
        ],
        [
         "Italy",
         "A",
         3,
         5,
         3,
         2,
         4
        ],
        [
         "Wales",
         "A",
         3,
         6,
         8,
         -2,
         3
        ],
        [
         "Turkey",
         "A",
         3,
         9,
         11,
         -2,
         3
        ],
        [
         "Finland",
         "B",
         3,
         8,
         4,
         4,
         6
        ],
        [
         "Denmark",
         "B",
         3,
         9,
         5,
         4,
         4
        ],
        [
         "Russia",
         "B",
         3,
         8,
         10,
         -2,
         3
        ],
        [
         "Belgium",
         "B",
         3,
         5,
         11,
         -6,
         1
        ],
        [
         "Ukraine",
         "C",
         3,
         6,
         4,
         2,
         6
        ],
        [
         "North Macedonia",
         "C",
         3,
         3,
         2,
         1,
         4
        ],
        [
         "Netherlands",
         "C",
         3,
         2,
         3,
         -1,
         3
        ],
        [
         "Austria",
         "C",
         3,
         5,
         7,
         -2,
         3
        ],
        [
         "Croatia",
         "D",
         3,
         7,
         4,
         3,
         5
        ],
        [
         "Scotland",
         "D",
         3,
         7,
         9,
         -2,
         3
        ],
        [
         "Czech Republic",
         "D",
         3,
         5,
         5,
         0,
         2
        ],
        [
         "England",
         "D",
         3,
         9,
         10,
         -1,
         0
        ],
        [
         "Slovakia",
         "E",
         3,
         7,
         5,
         2,
         6
        ],
        [
         "Spain",
         "E",
         3,
         7,
         9,
         -2,
         3
        ],
        [
         "Sweden",
         "E",
         3,
         6,
         3,
         3,
         3
        ],
        [
         "Poland",
         "E",
         3,
         7,
         10,
         -3,
         2
        ],
        [
         "France",
         "F",
         3,
         11,
         5,
         6,
         7
        ],
        [
         "Portugal",
         "F",
         3,
         5,
         9,
         -4,
         3
        ],
        [
         "Hungary",
         "F",
         3,
         11,
         11,
         0,
         3
        ],
        [
         "Germany",
         "F",
         3,
         9,
         11,
         -2,
         3
        ]
       ],
       "datasetInfos": [],
       "dbfsResultPath": null,
       "isJsonSchema": true,
       "metadata": {
        "isDbfsCommandResult": false
       },
       "overflow": false,
       "plotOptions": {
        "customPlotOptions": {},
        "displayType": "table",
        "pivotAggregation": null,
        "pivotColumns": null,
        "xColumns": null,
        "yColumns": null
       },
       "removedWidgets": [],
       "schema": [
        {
         "metadata": "{\"__CHAR_VARCHAR_TYPE_STRING\":\"varchar(20)\"}",
         "name": "team",
         "type": "\"string\""
        },
        {
         "metadata": "{\"__CHAR_VARCHAR_TYPE_STRING\":\"varchar(10)\"}",
         "name": "grp",
         "type": "\"string\""
        },
        {
         "metadata": "{}",
         "name": "Match_played",
         "type": "\"long\""
        },
        {
         "metadata": "{}",
         "name": "GF",
         "type": "\"long\""
        },
        {
         "metadata": "{}",
         "name": "GA",
         "type": "\"long\""
        },
        {
         "metadata": "{}",
         "name": "GD",
         "type": "\"long\""
        },
        {
         "metadata": "{}",
         "name": "points",
         "type": "\"long\""
        }
       ],
       "type": "table"
      }
     },
     "output_type": "display_data"
    }
   ],
   "source": [
    "%sql\n",
    "with group_stage as (with cte as (select concat (a.team_name , \"  Vs \", b.team_name) as Match_fixture,\n",
    "a.team_name as team1,\n",
    "a.grp as team1_grp,\n",
    "b.team_name as team2,\n",
    "b.grp as team2_grp,\n",
    "floor(rand() * 6) as team1_score,\n",
    "floor(rand() * 6) as team2_score,\n",
    "case when team1_score > team2_score then 3 when team1_score < team2_score then 0 else 0 end as team1_pts,\n",
    "case when team2_score > team1_score then 3 when team2_score < team1_score then 0 else 1 end as team2_pts,\n",
    "case when team1_score > team2_score then team1 when team1_score < team2_score then team2 else \"draw\" end as winner\n",
    "from euro24 a cross join euro24 b where a.grp = b.grp and a.team_name > b.team_name\n",
    "\n",
    "\n",
    ") \n",
    "(select team1,team1_grp as grp,team1_score as GF,team2_score as GA ,(GF - GA) As GD, team1_pts as points  from cte )\n",
    "union all\n",
    "(select team2,team2_grp as grp, team2_score as GF ,team1_score as GA ,(GF - GA) as GD,team2_pts from cte ) order by grp) \n",
    "select team1 as team ,grp,count(*) AS Match_played,sum(GF) as GF,sum(GA) as GA,Sum(GD) as GD,sum(points)  as points from group_stage group by team1 ,grp order by grp,points desc\n"
   ]
  },
  {
   "cell_type": "code",
   "execution_count": 0,
   "metadata": {
    "application/vnd.databricks.v1+cell": {
     "cellMetadata": {
      "byteLimit": 2048000,
      "implicitDf": true,
      "rowLimit": 10000
     },
     "inputWidgets": {},
     "nuid": "bdfdcfbb-669e-4310-8483-9b5dbd3ae536",
     "showTitle": false,
     "title": ""
    }
   },
   "outputs": [
    {
     "output_type": "display_data",
     "data": {
      "text/html": [
       "<style scoped>\n",
       "  .table-result-container {\n",
       "    max-height: 300px;\n",
       "    overflow: auto;\n",
       "  }\n",
       "  table, th, td {\n",
       "    border: 1px solid black;\n",
       "    border-collapse: collapse;\n",
       "  }\n",
       "  th, td {\n",
       "    padding: 5px;\n",
       "  }\n",
       "  th {\n",
       "    text-align: left;\n",
       "  }\n",
       "</style><div class='table-result-container'><table class='table-result'><thead style='background-color: white'><tr><th>team</th><th>grp</th><th>Match_played</th><th>win</th><th>draw</th><th>loss</th><th>GF</th><th>GA</th><th>GD</th><th>points</th></tr></thead><tbody><tr><td>Switzerland</td><td>A</td><td>3</td><td>2</td><td>0</td><td>1</td><td>4</td><td>3</td><td>1</td><td>6</td></tr><tr><td>Turkey</td><td>A</td><td>3</td><td>2</td><td>0</td><td>1</td><td>11</td><td>6</td><td>5</td><td>6</td></tr><tr><td>Wales</td><td>A</td><td>3</td><td>1</td><td>0</td><td>2</td><td>4</td><td>10</td><td>-6</td><td>3</td></tr><tr><td>Italy</td><td>A</td><td>3</td><td>1</td><td>0</td><td>2</td><td>6</td><td>6</td><td>0</td><td>3</td></tr><tr><td>Denmark</td><td>B</td><td>3</td><td>2</td><td>1</td><td>0</td><td>7</td><td>5</td><td>2</td><td>7</td></tr><tr><td>Russia</td><td>B</td><td>3</td><td>2</td><td>0</td><td>1</td><td>9</td><td>6</td><td>3</td><td>6</td></tr><tr><td>Belgium</td><td>B</td><td>3</td><td>1</td><td>0</td><td>2</td><td>6</td><td>7</td><td>-1</td><td>3</td></tr><tr><td>Finland</td><td>B</td><td>3</td><td>0</td><td>0</td><td>3</td><td>2</td><td>6</td><td>-4</td><td>0</td></tr><tr><td>Austria</td><td>C</td><td>3</td><td>2</td><td>1</td><td>0</td><td>12</td><td>7</td><td>5</td><td>7</td></tr><tr><td>Ukraine</td><td>C</td><td>3</td><td>2</td><td>0</td><td>1</td><td>12</td><td>9</td><td>3</td><td>6</td></tr><tr><td>North Macedonia</td><td>C</td><td>3</td><td>1</td><td>0</td><td>2</td><td>5</td><td>8</td><td>-3</td><td>3</td></tr><tr><td>Netherlands</td><td>C</td><td>3</td><td>0</td><td>0</td><td>3</td><td>6</td><td>11</td><td>-5</td><td>0</td></tr><tr><td>England</td><td>D</td><td>3</td><td>2</td><td>0</td><td>1</td><td>7</td><td>3</td><td>4</td><td>6</td></tr><tr><td>Czech Republic</td><td>D</td><td>3</td><td>2</td><td>0</td><td>1</td><td>10</td><td>7</td><td>3</td><td>6</td></tr><tr><td>Croatia</td><td>D</td><td>3</td><td>2</td><td>0</td><td>1</td><td>7</td><td>6</td><td>1</td><td>6</td></tr><tr><td>Scotland</td><td>D</td><td>3</td><td>0</td><td>0</td><td>3</td><td>4</td><td>12</td><td>-8</td><td>0</td></tr><tr><td>Sweden</td><td>E</td><td>3</td><td>2</td><td>0</td><td>1</td><td>8</td><td>4</td><td>4</td><td>6</td></tr><tr><td>Poland</td><td>E</td><td>3</td><td>1</td><td>1</td><td>1</td><td>9</td><td>9</td><td>0</td><td>4</td></tr><tr><td>Spain</td><td>E</td><td>3</td><td>1</td><td>0</td><td>2</td><td>4</td><td>4</td><td>0</td><td>3</td></tr><tr><td>Slovakia</td><td>E</td><td>3</td><td>1</td><td>0</td><td>2</td><td>4</td><td>8</td><td>-4</td><td>3</td></tr><tr><td>Germany</td><td>F</td><td>3</td><td>2</td><td>0</td><td>1</td><td>8</td><td>2</td><td>6</td><td>6</td></tr><tr><td>Portugal</td><td>F</td><td>3</td><td>1</td><td>0</td><td>2</td><td>9</td><td>11</td><td>-2</td><td>3</td></tr><tr><td>Hungary</td><td>F</td><td>3</td><td>1</td><td>0</td><td>2</td><td>6</td><td>6</td><td>0</td><td>3</td></tr><tr><td>France</td><td>F</td><td>3</td><td>0</td><td>2</td><td>1</td><td>8</td><td>12</td><td>-4</td><td>2</td></tr></tbody></table></div>"
      ]
     },
     "metadata": {
      "application/vnd.databricks.v1+output": {
       "addedWidgets": {},
       "aggData": [],
       "aggError": "",
       "aggOverflow": false,
       "aggSchema": [],
       "aggSeriesLimitReached": false,
       "aggType": "",
       "arguments": {},
       "columnCustomDisplayInfos": {},
       "data": [
        [
         "Switzerland",
         "A",
         3,
         2,
         0,
         1,
         4,
         3,
         1,
         6
        ],
        [
         "Turkey",
         "A",
         3,
         2,
         0,
         1,
         11,
         6,
         5,
         6
        ],
        [
         "Wales",
         "A",
         3,
         1,
         0,
         2,
         4,
         10,
         -6,
         3
        ],
        [
         "Italy",
         "A",
         3,
         1,
         0,
         2,
         6,
         6,
         0,
         3
        ],
        [
         "Denmark",
         "B",
         3,
         2,
         1,
         0,
         7,
         5,
         2,
         7
        ],
        [
         "Russia",
         "B",
         3,
         2,
         0,
         1,
         9,
         6,
         3,
         6
        ],
        [
         "Belgium",
         "B",
         3,
         1,
         0,
         2,
         6,
         7,
         -1,
         3
        ],
        [
         "Finland",
         "B",
         3,
         0,
         0,
         3,
         2,
         6,
         -4,
         0
        ],
        [
         "Austria",
         "C",
         3,
         2,
         1,
         0,
         12,
         7,
         5,
         7
        ],
        [
         "Ukraine",
         "C",
         3,
         2,
         0,
         1,
         12,
         9,
         3,
         6
        ],
        [
         "North Macedonia",
         "C",
         3,
         1,
         0,
         2,
         5,
         8,
         -3,
         3
        ],
        [
         "Netherlands",
         "C",
         3,
         0,
         0,
         3,
         6,
         11,
         -5,
         0
        ],
        [
         "England",
         "D",
         3,
         2,
         0,
         1,
         7,
         3,
         4,
         6
        ],
        [
         "Czech Republic",
         "D",
         3,
         2,
         0,
         1,
         10,
         7,
         3,
         6
        ],
        [
         "Croatia",
         "D",
         3,
         2,
         0,
         1,
         7,
         6,
         1,
         6
        ],
        [
         "Scotland",
         "D",
         3,
         0,
         0,
         3,
         4,
         12,
         -8,
         0
        ],
        [
         "Sweden",
         "E",
         3,
         2,
         0,
         1,
         8,
         4,
         4,
         6
        ],
        [
         "Poland",
         "E",
         3,
         1,
         1,
         1,
         9,
         9,
         0,
         4
        ],
        [
         "Spain",
         "E",
         3,
         1,
         0,
         2,
         4,
         4,
         0,
         3
        ],
        [
         "Slovakia",
         "E",
         3,
         1,
         0,
         2,
         4,
         8,
         -4,
         3
        ],
        [
         "Germany",
         "F",
         3,
         2,
         0,
         1,
         8,
         2,
         6,
         6
        ],
        [
         "Portugal",
         "F",
         3,
         1,
         0,
         2,
         9,
         11,
         -2,
         3
        ],
        [
         "Hungary",
         "F",
         3,
         1,
         0,
         2,
         6,
         6,
         0,
         3
        ],
        [
         "France",
         "F",
         3,
         0,
         2,
         1,
         8,
         12,
         -4,
         2
        ]
       ],
       "datasetInfos": [],
       "dbfsResultPath": null,
       "isJsonSchema": true,
       "metadata": {
        "isDbfsCommandResult": false
       },
       "overflow": false,
       "plotOptions": {
        "customPlotOptions": {},
        "displayType": "table",
        "pivotAggregation": null,
        "pivotColumns": null,
        "xColumns": null,
        "yColumns": null
       },
       "removedWidgets": [],
       "schema": [
        {
         "metadata": "{\"__CHAR_VARCHAR_TYPE_STRING\":\"varchar(20)\"}",
         "name": "team",
         "type": "\"string\""
        },
        {
         "metadata": "{\"__CHAR_VARCHAR_TYPE_STRING\":\"varchar(10)\"}",
         "name": "grp",
         "type": "\"string\""
        },
        {
         "metadata": "{}",
         "name": "Match_played",
         "type": "\"long\""
        },
        {
         "metadata": "{}",
         "name": "win",
         "type": "\"long\""
        },
        {
         "metadata": "{}",
         "name": "draw",
         "type": "\"integer\""
        },
        {
         "metadata": "{}",
         "name": "loss",
         "type": "\"integer\""
        },
        {
         "metadata": "{}",
         "name": "GF",
         "type": "\"long\""
        },
        {
         "metadata": "{}",
         "name": "GA",
         "type": "\"long\""
        },
        {
         "metadata": "{}",
         "name": "GD",
         "type": "\"long\""
        },
        {
         "metadata": "{}",
         "name": "points",
         "type": "\"long\""
        }
       ],
       "type": "table"
      }
     },
     "output_type": "display_data"
    }
   ],
   "source": [
    "%sql\n",
    "with cte2 as (with group_stage as (with cte as (select concat (a.team_name , \"  Vs \", b.team_name) as Match_fixture,\n",
    "a.team_name as team1,\n",
    "a.grp as team1_grp,\n",
    "b.team_name as team2,\n",
    "b.grp as team2_grp,\n",
    "floor(rand() * 6) as team1_score,\n",
    "floor(rand() * 6) as team2_score,\n",
    "case when team1_score > team2_score then 3 when team1_score < team2_score then 0 else 0 end as team1_pts,\n",
    "case when team2_score > team1_score then 3 when team2_score < team1_score then 0 else 1 end as team2_pts,\n",
    "case when team1_score > team2_score then team1 when team1_score < team2_score then team2 else \"draw\" end as winner\n",
    "from euro24 a cross join euro24 b where a.grp = b.grp and a.team_name > b.team_name\n",
    "\n",
    "\n",
    ") \n",
    "(select team1,team1_grp as grp,team1_score as GF,team2_score as GA ,(GF - GA) As GD, team1_pts as points  from cte )\n",
    "union all\n",
    "(select team2,team2_grp as grp, team2_score as GF ,team1_score as GA ,(GF - GA) as GD,team2_pts from cte ) order by grp) \n",
    "select team1 as team ,grp,count(*) AS Match_played,sum(GF) as GF,sum(GA) as GA,Sum(GD) as GD,sum(points)  as points from group_stage group by team1 ,grp order by grp,points desc)\n",
    "select team,grp,Match_played,floor(points/3) as win,case when points%3 = 2 then 2 when points % 3 = 1 then 1 else 0 end as draw,\n",
    "case when win + draw  = 3 then 0 when win + draw = 2 then 1 when win + draw = 1 then 2 else 3 end as loss,GF,GA,GD,points from cte2 order by grp,points desc\n"
   ]
  },
  {
   "cell_type": "markdown",
   "metadata": {
    "application/vnd.databricks.v1+cell": {
     "cellMetadata": {},
     "inputWidgets": {},
     "nuid": "37f5362d-2985-4be5-bd14-220cf5a30f5f",
     "showTitle": false,
     "title": ""
    }
   },
   "source": [
    "Round_16: top 2 teams from each group advance to the round of 16 and "
   ]
  },
  {
   "cell_type": "code",
   "execution_count": 0,
   "metadata": {
    "application/vnd.databricks.v1+cell": {
     "cellMetadata": {
      "byteLimit": 2048000,
      "implicitDf": true,
      "rowLimit": 10000
     },
     "inputWidgets": {},
     "nuid": "3e9e1262-d195-46ab-9ce0-d05fc39b7933",
     "showTitle": false,
     "title": ""
    }
   },
   "outputs": [
    {
     "output_type": "display_data",
     "data": {
      "text/html": [
       "<style scoped>\n",
       "  .table-result-container {\n",
       "    max-height: 300px;\n",
       "    overflow: auto;\n",
       "  }\n",
       "  table, th, td {\n",
       "    border: 1px solid black;\n",
       "    border-collapse: collapse;\n",
       "  }\n",
       "  th, td {\n",
       "    padding: 5px;\n",
       "  }\n",
       "  th {\n",
       "    text-align: left;\n",
       "  }\n",
       "</style><div class='table-result-container'><table class='table-result'><thead style='background-color: white'><tr><th>team</th><th>grp</th><th>Match_played</th><th>win</th><th>draw</th><th>loss</th><th>GF</th><th>GA</th><th>GD</th><th>points</th><th>rank</th></tr></thead><tbody><tr><td>England</td><td>D</td><td>3</td><td>2</td><td>1</td><td>0</td><td>9</td><td>2</td><td>7</td><td>7</td><td>1</td></tr><tr><td>Austria</td><td>C</td><td>3</td><td>2</td><td>1</td><td>0</td><td>8</td><td>5</td><td>3</td><td>7</td><td>1</td></tr><tr><td>Portugal</td><td>F</td><td>3</td><td>2</td><td>0</td><td>1</td><td>14</td><td>8</td><td>6</td><td>6</td><td>1</td></tr><tr><td>Turkey</td><td>A</td><td>3</td><td>2</td><td>0</td><td>1</td><td>14</td><td>11</td><td>3</td><td>6</td><td>1</td></tr><tr><td>Poland</td><td>E</td><td>3</td><td>1</td><td>2</td><td>0</td><td>7</td><td>6</td><td>1</td><td>5</td><td>1</td></tr><tr><td>Finland</td><td>B</td><td>3</td><td>1</td><td>1</td><td>1</td><td>12</td><td>9</td><td>3</td><td>4</td><td>1</td></tr><tr><td>Italy</td><td>A</td><td>3</td><td>1</td><td>1</td><td>1</td><td>9</td><td>6</td><td>3</td><td>4</td><td>2</td></tr><tr><td>Netherlands</td><td>C</td><td>3</td><td>1</td><td>1</td><td>1</td><td>8</td><td>6</td><td>2</td><td>4</td><td>2</td></tr><tr><td>Germany</td><td>F</td><td>3</td><td>1</td><td>1</td><td>1</td><td>10</td><td>9</td><td>1</td><td>4</td><td>2</td></tr><tr><td>Slovakia</td><td>E</td><td>3</td><td>1</td><td>1</td><td>1</td><td>10</td><td>9</td><td>1</td><td>4</td><td>2</td></tr><tr><td>Scotland</td><td>D</td><td>3</td><td>1</td><td>0</td><td>2</td><td>5</td><td>2</td><td>3</td><td>3</td><td>2</td></tr><tr><td>Russia</td><td>B</td><td>3</td><td>1</td><td>0</td><td>2</td><td>7</td><td>5</td><td>2</td><td>3</td><td>2</td></tr><tr><td>France</td><td>F</td><td>3</td><td>1</td><td>1</td><td>1</td><td>8</td><td>9</td><td>-1</td><td>4</td><td>3</td></tr><tr><td>Wales</td><td>A</td><td>3</td><td>1</td><td>0</td><td>2</td><td>8</td><td>10</td><td>-2</td><td>3</td><td>3</td></tr><tr><td>Ukraine</td><td>C</td><td>3</td><td>1</td><td>0</td><td>2</td><td>5</td><td>7</td><td>-2</td><td>3</td><td>3</td></tr><tr><td>Czech Republic</td><td>D</td><td>3</td><td>1</td><td>0</td><td>2</td><td>4</td><td>9</td><td>-5</td><td>3</td><td>3</td></tr></tbody></table></div>"
      ]
     },
     "metadata": {
      "application/vnd.databricks.v1+output": {
       "addedWidgets": {},
       "aggData": [],
       "aggError": "",
       "aggOverflow": false,
       "aggSchema": [],
       "aggSeriesLimitReached": false,
       "aggType": "",
       "arguments": {},
       "columnCustomDisplayInfos": {},
       "data": [
        [
         "England",
         "D",
         3,
         2,
         1,
         0,
         9,
         2,
         7,
         7,
         1
        ],
        [
         "Austria",
         "C",
         3,
         2,
         1,
         0,
         8,
         5,
         3,
         7,
         1
        ],
        [
         "Portugal",
         "F",
         3,
         2,
         0,
         1,
         14,
         8,
         6,
         6,
         1
        ],
        [
         "Turkey",
         "A",
         3,
         2,
         0,
         1,
         14,
         11,
         3,
         6,
         1
        ],
        [
         "Poland",
         "E",
         3,
         1,
         2,
         0,
         7,
         6,
         1,
         5,
         1
        ],
        [
         "Finland",
         "B",
         3,
         1,
         1,
         1,
         12,
         9,
         3,
         4,
         1
        ],
        [
         "Italy",
         "A",
         3,
         1,
         1,
         1,
         9,
         6,
         3,
         4,
         2
        ],
        [
         "Netherlands",
         "C",
         3,
         1,
         1,
         1,
         8,
         6,
         2,
         4,
         2
        ],
        [
         "Germany",
         "F",
         3,
         1,
         1,
         1,
         10,
         9,
         1,
         4,
         2
        ],
        [
         "Slovakia",
         "E",
         3,
         1,
         1,
         1,
         10,
         9,
         1,
         4,
         2
        ],
        [
         "Scotland",
         "D",
         3,
         1,
         0,
         2,
         5,
         2,
         3,
         3,
         2
        ],
        [
         "Russia",
         "B",
         3,
         1,
         0,
         2,
         7,
         5,
         2,
         3,
         2
        ],
        [
         "France",
         "F",
         3,
         1,
         1,
         1,
         8,
         9,
         -1,
         4,
         3
        ],
        [
         "Wales",
         "A",
         3,
         1,
         0,
         2,
         8,
         10,
         -2,
         3,
         3
        ],
        [
         "Ukraine",
         "C",
         3,
         1,
         0,
         2,
         5,
         7,
         -2,
         3,
         3
        ],
        [
         "Czech Republic",
         "D",
         3,
         1,
         0,
         2,
         4,
         9,
         -5,
         3,
         3
        ]
       ],
       "datasetInfos": [],
       "dbfsResultPath": null,
       "isJsonSchema": true,
       "metadata": {
        "isDbfsCommandResult": false
       },
       "overflow": false,
       "plotOptions": {
        "customPlotOptions": {},
        "displayType": "table",
        "pivotAggregation": null,
        "pivotColumns": null,
        "xColumns": null,
        "yColumns": null
       },
       "removedWidgets": [],
       "schema": [
        {
         "metadata": "{\"__CHAR_VARCHAR_TYPE_STRING\":\"varchar(20)\"}",
         "name": "team",
         "type": "\"string\""
        },
        {
         "metadata": "{\"__CHAR_VARCHAR_TYPE_STRING\":\"varchar(10)\"}",
         "name": "grp",
         "type": "\"string\""
        },
        {
         "metadata": "{}",
         "name": "Match_played",
         "type": "\"long\""
        },
        {
         "metadata": "{}",
         "name": "win",
         "type": "\"long\""
        },
        {
         "metadata": "{}",
         "name": "draw",
         "type": "\"integer\""
        },
        {
         "metadata": "{}",
         "name": "loss",
         "type": "\"integer\""
        },
        {
         "metadata": "{}",
         "name": "GF",
         "type": "\"long\""
        },
        {
         "metadata": "{}",
         "name": "GA",
         "type": "\"long\""
        },
        {
         "metadata": "{}",
         "name": "GD",
         "type": "\"long\""
        },
        {
         "metadata": "{}",
         "name": "points",
         "type": "\"long\""
        },
        {
         "metadata": "{}",
         "name": "rank",
         "type": "\"integer\""
        }
       ],
       "type": "table"
      }
     },
     "output_type": "display_data"
    }
   ],
   "source": [
    "%sql\n",
    "with cte4 as (with cte3 as (with cte2 as (with group_stage as (with cte as (select concat (a.team_name , \"  Vs \", b.team_name) as Match_fixture,\n",
    "a.team_name as team1,\n",
    "a.grp as team1_grp,\n",
    "b.team_name as team2,\n",
    "b.grp as team2_grp,\n",
    "floor(rand() * 6) as team1_score,\n",
    "floor(rand() * 6) as team2_score,\n",
    "case when team1_score > team2_score then 3 when team1_score < team2_score then 0 else 0 end as team1_pts,\n",
    "case when team2_score > team1_score then 3 when team2_score < team1_score then 0 else 1 end as team2_pts,\n",
    "case when team1_score > team2_score then team1 when team1_score < team2_score then team2 else \"draw\" end as winner\n",
    "from euro24 a cross join euro24 b where a.grp = b.grp and a.team_name > b.team_name\n",
    "\n",
    "\n",
    ") \n",
    "(select team1,team1_grp as grp,team1_score as GF,team2_score as GA ,(GF - GA) As GD, team1_pts as points  from cte )\n",
    "union all\n",
    "(select team2,team2_grp as grp, team2_score as GF ,team1_score as GA ,(GF - GA) as GD,team2_pts from cte ) order by grp) \n",
    "select team1 as team ,grp,count(*) AS Match_played,sum(GF) as GF,sum(GA) as GA,Sum(GD) as GD,sum(points)  as points from group_stage group by team1 ,grp order by grp,points desc)\n",
    "select team,grp,Match_played,floor(points/3) as win,case when points%3 = 2 then 2 when points % 3 = 1 then 1 else 0 end as draw,\n",
    "case when win + draw  = 3 then 0 when win + draw = 2 then 1 when win + draw = 1 then 2 else 3 end as loss,GF,GA,GD,points from cte2 order by grp,points desc) select *,row_number() over(partition by grp order by points desc,GD desc, GF desc)  as rank from cte3 ) \n",
    "(select  * from cte4 where rank < 3)\n",
    "union \n",
    "(select * from cte4 where rank = 3) order by rank,points desc,GD desc,GF desc  limit 16\n"
   ]
  },
  {
   "cell_type": "code",
   "execution_count": 0,
   "metadata": {
    "application/vnd.databricks.v1+cell": {
     "cellMetadata": {
      "byteLimit": 2048000,
      "implicitDf": true,
      "rowLimit": 10000
     },
     "inputWidgets": {},
     "nuid": "f54030c7-bcc5-433a-b89f-49f909e8b26a",
     "showTitle": false,
     "title": ""
    }
   },
   "outputs": [
    {
     "output_type": "display_data",
     "data": {
      "text/html": [
       "<style scoped>\n",
       "  .table-result-container {\n",
       "    max-height: 300px;\n",
       "    overflow: auto;\n",
       "  }\n",
       "  table, th, td {\n",
       "    border: 1px solid black;\n",
       "    border-collapse: collapse;\n",
       "  }\n",
       "  th, td {\n",
       "    padding: 5px;\n",
       "  }\n",
       "  th {\n",
       "    text-align: left;\n",
       "  }\n",
       "</style><div class='table-result-container'><table class='table-result'><thead style='background-color: white'><tr><th>team</th><th>grp</th><th>points</th></tr></thead><tbody><tr><td>Slovakia</td><td>E</td><td>4</td></tr><tr><td>Hungary</td><td>F</td><td>3</td></tr><tr><td>Switzerland</td><td>A</td><td>3</td></tr><tr><td>Russia</td><td>B</td><td>3</td></tr></tbody></table></div>"
      ]
     },
     "metadata": {
      "application/vnd.databricks.v1+output": {
       "addedWidgets": {},
       "aggData": [],
       "aggError": "",
       "aggOverflow": false,
       "aggSchema": [],
       "aggSeriesLimitReached": false,
       "aggType": "",
       "arguments": {},
       "columnCustomDisplayInfos": {},
       "data": [
        [
         "Slovakia",
         "E",
         4
        ],
        [
         "Hungary",
         "F",
         3
        ],
        [
         "Switzerland",
         "A",
         3
        ],
        [
         "Russia",
         "B",
         3
        ]
       ],
       "datasetInfos": [],
       "dbfsResultPath": null,
       "isJsonSchema": true,
       "metadata": {
        "isDbfsCommandResult": false
       },
       "overflow": false,
       "plotOptions": {
        "customPlotOptions": {},
        "displayType": "table",
        "pivotAggregation": null,
        "pivotColumns": null,
        "xColumns": null,
        "yColumns": null
       },
       "removedWidgets": [],
       "schema": [
        {
         "metadata": "{\"__CHAR_VARCHAR_TYPE_STRING\":\"varchar(20)\"}",
         "name": "team",
         "type": "\"string\""
        },
        {
         "metadata": "{\"__CHAR_VARCHAR_TYPE_STRING\":\"varchar(10)\"}",
         "name": "grp",
         "type": "\"string\""
        },
        {
         "metadata": "{}",
         "name": "points",
         "type": "\"long\""
        }
       ],
       "type": "table"
      }
     },
     "output_type": "display_data"
    }
   ],
   "source": [
    "%sql\n",
    "with 3rd_team as (with cte4 as (with cte3 as (with cte2 as (with group_stage as (with cte as (select concat (a.team_name , \"  Vs \", b.team_name) as Match_fixture,\n",
    "a.team_name as team1,\n",
    "a.grp as team1_grp,\n",
    "b.team_name as team2,\n",
    "b.grp as team2_grp,\n",
    "floor(rand() * 6) as team1_score,\n",
    "floor(rand() * 6) as team2_score,\n",
    "case when team1_score > team2_score then 3 when team1_score < team2_score then 0 else 0 end as team1_pts,\n",
    "case when team2_score > team1_score then 3 when team2_score < team1_score then 0 else 1 end as team2_pts,\n",
    "case when team1_score > team2_score then team1 when team1_score < team2_score then team2 else \"draw\" end as winner\n",
    "from euro24 a cross join euro24 b where a.grp = b.grp and a.team_name > b.team_name\n",
    "\n",
    "\n",
    ") \n",
    "(select team1,team1_grp as grp,team1_score as GF,team2_score as GA ,(GF - GA) As GD, team1_pts as points  from cte )\n",
    "union all\n",
    "(select team2,team2_grp as grp, team2_score as GF ,team1_score as GA ,(GF - GA) as GD,team2_pts from cte ) order by grp) \n",
    "select team1 as team ,grp,count(*) AS Match_played,sum(GF) as GF,sum(GA) as GA,Sum(GD) as GD,sum(points)  as points from group_stage group by team1 ,grp order by grp,points desc)\n",
    "select team,grp,Match_played,floor(points/3) as win,case when points%3 = 2 then 2 when points % 3 = 1 then 1 else 0 end as draw,\n",
    "case when win + draw  = 3 then 0 when win + draw = 2 then 1 when win + draw = 1 then 2 else 3 end as loss,GF,GA,GD,points from cte2 order by grp,points desc) select *,row_number() over(partition by grp order by points desc,GD desc, GF desc)  as rank from cte3 ) \n",
    "(select  * from cte4 where rank < 3)\n",
    "union \n",
    "(select * from cte4 where rank = 3) order by rank,points desc,GD desc,GF desc  limit 16) \n",
    "select team,grp,points from 3rd_team where rank = 3\n"
   ]
  },
  {
   "cell_type": "code",
   "execution_count": 0,
   "metadata": {
    "application/vnd.databricks.v1+cell": {
     "cellMetadata": {
      "byteLimit": 2048000,
      "implicitDf": true,
      "rowLimit": 10000
     },
     "inputWidgets": {},
     "nuid": "f9cd09a2-9e29-4ac1-8a82-c74775b0fd4c",
     "showTitle": false,
     "title": ""
    }
   },
   "outputs": [
    {
     "output_type": "display_data",
     "data": {
      "text/html": [
       "<style scoped>\n",
       "  .table-result-container {\n",
       "    max-height: 300px;\n",
       "    overflow: auto;\n",
       "  }\n",
       "  table, th, td {\n",
       "    border: 1px solid black;\n",
       "    border-collapse: collapse;\n",
       "  }\n",
       "  th, td {\n",
       "    padding: 5px;\n",
       "  }\n",
       "  th {\n",
       "    text-align: left;\n",
       "  }\n",
       "</style><div class='table-result-container'><table class='table-result'><thead style='background-color: white'><tr><th>team</th><th>grp</th><th>Match_played</th><th>win</th><th>draw</th><th>loss</th><th>GF</th><th>GA</th><th>GD</th><th>points</th><th>rank</th></tr></thead><tbody><tr><td>Scotland</td><td>D</td><td>3</td><td>3</td><td>0</td><td>0</td><td>12</td><td>4</td><td>8</td><td>9</td><td>1</td></tr><tr><td>North Macedonia</td><td>C</td><td>3</td><td>2</td><td>1</td><td>0</td><td>10</td><td>2</td><td>8</td><td>7</td><td>1</td></tr><tr><td>France</td><td>F</td><td>3</td><td>2</td><td>1</td><td>0</td><td>13</td><td>8</td><td>5</td><td>7</td><td>1</td></tr><tr><td>Spain</td><td>E</td><td>3</td><td>2</td><td>1</td><td>0</td><td>10</td><td>6</td><td>4</td><td>7</td><td>1</td></tr><tr><td>Russia</td><td>B</td><td>3</td><td>2</td><td>0</td><td>1</td><td>8</td><td>2</td><td>6</td><td>6</td><td>1</td></tr><tr><td>Italy</td><td>A</td><td>3</td><td>1</td><td>1</td><td>1</td><td>13</td><td>9</td><td>4</td><td>4</td><td>1</td></tr><tr><td>Sweden</td><td>E</td><td>3</td><td>2</td><td>0</td><td>1</td><td>9</td><td>7</td><td>2</td><td>6</td><td>2</td></tr><tr><td>England</td><td>D</td><td>3</td><td>2</td><td>0</td><td>1</td><td>8</td><td>7</td><td>1</td><td>6</td><td>2</td></tr><tr><td>Germany</td><td>F</td><td>3</td><td>1</td><td>1</td><td>1</td><td>12</td><td>9</td><td>3</td><td>4</td><td>2</td></tr><tr><td>Netherlands</td><td>C</td><td>3</td><td>1</td><td>1</td><td>1</td><td>7</td><td>7</td><td>0</td><td>4</td><td>2</td></tr><tr><td>Switzerland</td><td>A</td><td>3</td><td>1</td><td>1</td><td>1</td><td>6</td><td>10</td><td>-4</td><td>4</td><td>2</td></tr><tr><td>Finland</td><td>B</td><td>3</td><td>1</td><td>0</td><td>2</td><td>8</td><td>7</td><td>1</td><td>3</td><td>2</td></tr><tr><td>Wales</td><td>A</td><td>3</td><td>1</td><td>0</td><td>2</td><td>7</td><td>5</td><td>2</td><td>3</td><td>3</td></tr><tr><td>Slovakia</td><td>E</td><td>3</td><td>1</td><td>0</td><td>2</td><td>11</td><td>10</td><td>1</td><td>3</td><td>3</td></tr><tr><td>Portugal</td><td>F</td><td>3</td><td>1</td><td>0</td><td>2</td><td>9</td><td>8</td><td>1</td><td>3</td><td>3</td></tr><tr><td>Croatia</td><td>D</td><td>3</td><td>1</td><td>0</td><td>2</td><td>4</td><td>6</td><td>-2</td><td>3</td><td>3</td></tr></tbody></table></div>"
      ]
     },
     "metadata": {
      "application/vnd.databricks.v1+output": {
       "addedWidgets": {},
       "aggData": [],
       "aggError": "",
       "aggOverflow": false,
       "aggSchema": [],
       "aggSeriesLimitReached": false,
       "aggType": "",
       "arguments": {},
       "columnCustomDisplayInfos": {},
       "data": [
        [
         "Scotland",
         "D",
         3,
         3,
         0,
         0,
         12,
         4,
         8,
         9,
         1
        ],
        [
         "North Macedonia",
         "C",
         3,
         2,
         1,
         0,
         10,
         2,
         8,
         7,
         1
        ],
        [
         "France",
         "F",
         3,
         2,
         1,
         0,
         13,
         8,
         5,
         7,
         1
        ],
        [
         "Spain",
         "E",
         3,
         2,
         1,
         0,
         10,
         6,
         4,
         7,
         1
        ],
        [
         "Russia",
         "B",
         3,
         2,
         0,
         1,
         8,
         2,
         6,
         6,
         1
        ],
        [
         "Italy",
         "A",
         3,
         1,
         1,
         1,
         13,
         9,
         4,
         4,
         1
        ],
        [
         "Sweden",
         "E",
         3,
         2,
         0,
         1,
         9,
         7,
         2,
         6,
         2
        ],
        [
         "England",
         "D",
         3,
         2,
         0,
         1,
         8,
         7,
         1,
         6,
         2
        ],
        [
         "Germany",
         "F",
         3,
         1,
         1,
         1,
         12,
         9,
         3,
         4,
         2
        ],
        [
         "Netherlands",
         "C",
         3,
         1,
         1,
         1,
         7,
         7,
         0,
         4,
         2
        ],
        [
         "Switzerland",
         "A",
         3,
         1,
         1,
         1,
         6,
         10,
         -4,
         4,
         2
        ],
        [
         "Finland",
         "B",
         3,
         1,
         0,
         2,
         8,
         7,
         1,
         3,
         2
        ],
        [
         "Wales",
         "A",
         3,
         1,
         0,
         2,
         7,
         5,
         2,
         3,
         3
        ],
        [
         "Slovakia",
         "E",
         3,
         1,
         0,
         2,
         11,
         10,
         1,
         3,
         3
        ],
        [
         "Portugal",
         "F",
         3,
         1,
         0,
         2,
         9,
         8,
         1,
         3,
         3
        ],
        [
         "Croatia",
         "D",
         3,
         1,
         0,
         2,
         4,
         6,
         -2,
         3,
         3
        ]
       ],
       "datasetInfos": [],
       "dbfsResultPath": null,
       "isJsonSchema": true,
       "metadata": {
        "isDbfsCommandResult": false
       },
       "overflow": false,
       "plotOptions": {
        "customPlotOptions": {},
        "displayType": "table",
        "pivotAggregation": null,
        "pivotColumns": null,
        "xColumns": null,
        "yColumns": null
       },
       "removedWidgets": [],
       "schema": [
        {
         "metadata": "{\"__CHAR_VARCHAR_TYPE_STRING\":\"varchar(20)\"}",
         "name": "team",
         "type": "\"string\""
        },
        {
         "metadata": "{\"__CHAR_VARCHAR_TYPE_STRING\":\"varchar(10)\"}",
         "name": "grp",
         "type": "\"string\""
        },
        {
         "metadata": "{}",
         "name": "Match_played",
         "type": "\"long\""
        },
        {
         "metadata": "{}",
         "name": "win",
         "type": "\"long\""
        },
        {
         "metadata": "{}",
         "name": "draw",
         "type": "\"integer\""
        },
        {
         "metadata": "{}",
         "name": "loss",
         "type": "\"integer\""
        },
        {
         "metadata": "{}",
         "name": "GF",
         "type": "\"long\""
        },
        {
         "metadata": "{}",
         "name": "GA",
         "type": "\"long\""
        },
        {
         "metadata": "{}",
         "name": "GD",
         "type": "\"long\""
        },
        {
         "metadata": "{}",
         "name": "points",
         "type": "\"long\""
        },
        {
         "metadata": "{}",
         "name": "rank",
         "type": "\"integer\""
        }
       ],
       "type": "table"
      }
     },
     "output_type": "display_data"
    }
   ],
   "source": [
    "%sql\n",
    "with cte4 as (with cte3 as (with cte2 as (with group_stage as (with cte as (select concat (a.team_name , \"  Vs \", b.team_name) as Match_fixture,\n",
    "a.team_name as team1,\n",
    "a.grp as team1_grp,\n",
    "b.team_name as team2,\n",
    "b.grp as team2_grp,\n",
    "floor(rand() * 6) as team1_score,\n",
    "floor(rand() * 6) as team2_score,\n",
    "case when team1_score > team2_score then 3 when team1_score < team2_score then 0 else 0 end as team1_pts,\n",
    "case when team2_score > team1_score then 3 when team2_score < team1_score then 0 else 1 end as team2_pts,\n",
    "case when team1_score > team2_score then team1 when team1_score < team2_score then team2 else \"draw\" end as winner\n",
    "from euro24 a cross join euro24 b where a.grp = b.grp and a.team_name > b.team_name\n",
    "\n",
    "\n",
    ") \n",
    "(select team1,team1_grp as grp,team1_score as GF,team2_score as GA ,(GF - GA) As GD, team1_pts as points  from cte )\n",
    "union all\n",
    "(select team2,team2_grp as grp, team2_score as GF ,team1_score as GA ,(GF - GA) as GD,team2_pts from cte ) order by grp) \n",
    "select team1 as team ,grp,count(*) AS Match_played,sum(GF) as GF,sum(GA) as GA,Sum(GD) as GD,sum(points)  as points from group_stage group by team1 ,grp order by grp,points desc)\n",
    "select team,grp,Match_played,floor(points/3) as win,case when points%3 = 2 then 2 when points % 3 = 1 then 1 else 0 end as draw,\n",
    "case when win + draw  = 3 then 0 when win + draw = 2 then 1 when win + draw = 1 then 2 else 3 end as loss,GF,GA,GD,points from cte2 order by grp,points desc) select *,row_number() over(partition by grp order by points desc,GD desc, GF desc)  as rank from cte3 ) \n",
    "(select  * from cte4 where rank < 3)\n",
    "union \n",
    "(select * from cte4 where rank = 3) order by rank,points desc,GD desc,GF desc  limit 16\n",
    "\n"
   ]
  },
  {
   "cell_type": "code",
   "execution_count": 0,
   "metadata": {
    "application/vnd.databricks.v1+cell": {
     "cellMetadata": {
      "byteLimit": 2048000,
      "implicitDf": true,
      "rowLimit": 10000
     },
     "inputWidgets": {},
     "nuid": "4f4b0486-f227-4db0-906c-27001251db37",
     "showTitle": false,
     "title": ""
    }
   },
   "outputs": [
    {
     "output_type": "display_data",
     "data": {
      "text/html": [
       "<style scoped>\n",
       "  .table-result-container {\n",
       "    max-height: 300px;\n",
       "    overflow: auto;\n",
       "  }\n",
       "  table, th, td {\n",
       "    border: 1px solid black;\n",
       "    border-collapse: collapse;\n",
       "  }\n",
       "  th, td {\n",
       "    padding: 5px;\n",
       "  }\n",
       "  th {\n",
       "    text-align: left;\n",
       "  }\n",
       "</style><div class='table-result-container'><table class='table-result'><thead style='background-color: white'><tr><th>team</th><th>grp</th><th>Match_played</th><th>win</th><th>draw</th><th>loss</th><th>GF</th><th>GA</th><th>GD</th><th>points</th><th>rank</th><th>grp_rank</th></tr></thead><tbody><tr><td>Czech Republic</td><td>D</td><td>3</td><td>3</td><td>0</td><td>0</td><td>8</td><td>5</td><td>3</td><td>9</td><td>1</td><td>D1</td></tr><tr><td>France</td><td>F</td><td>3</td><td>2</td><td>1</td><td>0</td><td>9</td><td>1</td><td>8</td><td>7</td><td>1</td><td>F1</td></tr><tr><td>Poland</td><td>E</td><td>3</td><td>2</td><td>1</td><td>0</td><td>9</td><td>2</td><td>7</td><td>7</td><td>1</td><td>E1</td></tr><tr><td>Ukraine</td><td>C</td><td>3</td><td>2</td><td>0</td><td>1</td><td>10</td><td>4</td><td>6</td><td>6</td><td>1</td><td>C1</td></tr><tr><td>Denmark</td><td>B</td><td>3</td><td>2</td><td>0</td><td>1</td><td>12</td><td>10</td><td>2</td><td>6</td><td>1</td><td>B1</td></tr><tr><td>Turkey</td><td>A</td><td>3</td><td>2</td><td>0</td><td>1</td><td>8</td><td>7</td><td>1</td><td>6</td><td>1</td><td>A1</td></tr><tr><td>Netherlands</td><td>C</td><td>3</td><td>2</td><td>0</td><td>1</td><td>7</td><td>3</td><td>4</td><td>6</td><td>2</td><td>C2</td></tr><tr><td>Spain</td><td>E</td><td>3</td><td>2</td><td>0</td><td>1</td><td>5</td><td>3</td><td>2</td><td>6</td><td>2</td><td>E2</td></tr><tr><td>Italy</td><td>A</td><td>3</td><td>2</td><td>0</td><td>1</td><td>7</td><td>6</td><td>1</td><td>6</td><td>2</td><td>A2</td></tr><tr><td>Germany</td><td>F</td><td>3</td><td>1</td><td>1</td><td>1</td><td>8</td><td>7</td><td>1</td><td>4</td><td>2</td><td>F2</td></tr><tr><td>Belgium</td><td>B</td><td>3</td><td>1</td><td>1</td><td>1</td><td>8</td><td>9</td><td>-1</td><td>4</td><td>2</td><td>B2</td></tr><tr><td>Scotland</td><td>D</td><td>3</td><td>1</td><td>0</td><td>2</td><td>10</td><td>9</td><td>1</td><td>3</td><td>2</td><td>D2</td></tr><tr><td>Switzerland</td><td>A</td><td>3</td><td>1</td><td>0</td><td>2</td><td>6</td><td>4</td><td>2</td><td>3</td><td>3</td><td>A3</td></tr><tr><td>Finland</td><td>B</td><td>3</td><td>1</td><td>0</td><td>2</td><td>9</td><td>9</td><td>0</td><td>3</td><td>3</td><td>B3</td></tr><tr><td>Slovakia</td><td>E</td><td>3</td><td>1</td><td>0</td><td>2</td><td>4</td><td>7</td><td>-3</td><td>3</td><td>3</td><td>E3</td></tr><tr><td>Hungary</td><td>F</td><td>3</td><td>1</td><td>0</td><td>2</td><td>9</td><td>13</td><td>-4</td><td>3</td><td>3</td><td>F3</td></tr></tbody></table></div>"
      ]
     },
     "metadata": {
      "application/vnd.databricks.v1+output": {
       "addedWidgets": {},
       "aggData": [],
       "aggError": "",
       "aggOverflow": false,
       "aggSchema": [],
       "aggSeriesLimitReached": false,
       "aggType": "",
       "arguments": {},
       "columnCustomDisplayInfos": {},
       "data": [
        [
         "Czech Republic",
         "D",
         3,
         3,
         0,
         0,
         8,
         5,
         3,
         9,
         1,
         "D1"
        ],
        [
         "France",
         "F",
         3,
         2,
         1,
         0,
         9,
         1,
         8,
         7,
         1,
         "F1"
        ],
        [
         "Poland",
         "E",
         3,
         2,
         1,
         0,
         9,
         2,
         7,
         7,
         1,
         "E1"
        ],
        [
         "Ukraine",
         "C",
         3,
         2,
         0,
         1,
         10,
         4,
         6,
         6,
         1,
         "C1"
        ],
        [
         "Denmark",
         "B",
         3,
         2,
         0,
         1,
         12,
         10,
         2,
         6,
         1,
         "B1"
        ],
        [
         "Turkey",
         "A",
         3,
         2,
         0,
         1,
         8,
         7,
         1,
         6,
         1,
         "A1"
        ],
        [
         "Netherlands",
         "C",
         3,
         2,
         0,
         1,
         7,
         3,
         4,
         6,
         2,
         "C2"
        ],
        [
         "Spain",
         "E",
         3,
         2,
         0,
         1,
         5,
         3,
         2,
         6,
         2,
         "E2"
        ],
        [
         "Italy",
         "A",
         3,
         2,
         0,
         1,
         7,
         6,
         1,
         6,
         2,
         "A2"
        ],
        [
         "Germany",
         "F",
         3,
         1,
         1,
         1,
         8,
         7,
         1,
         4,
         2,
         "F2"
        ],
        [
         "Belgium",
         "B",
         3,
         1,
         1,
         1,
         8,
         9,
         -1,
         4,
         2,
         "B2"
        ],
        [
         "Scotland",
         "D",
         3,
         1,
         0,
         2,
         10,
         9,
         1,
         3,
         2,
         "D2"
        ],
        [
         "Switzerland",
         "A",
         3,
         1,
         0,
         2,
         6,
         4,
         2,
         3,
         3,
         "A3"
        ],
        [
         "Finland",
         "B",
         3,
         1,
         0,
         2,
         9,
         9,
         0,
         3,
         3,
         "B3"
        ],
        [
         "Slovakia",
         "E",
         3,
         1,
         0,
         2,
         4,
         7,
         -3,
         3,
         3,
         "E3"
        ],
        [
         "Hungary",
         "F",
         3,
         1,
         0,
         2,
         9,
         13,
         -4,
         3,
         3,
         "F3"
        ]
       ],
       "datasetInfos": [],
       "dbfsResultPath": null,
       "isJsonSchema": true,
       "metadata": {
        "isDbfsCommandResult": false
       },
       "overflow": false,
       "plotOptions": {
        "customPlotOptions": {},
        "displayType": "table",
        "pivotAggregation": null,
        "pivotColumns": null,
        "xColumns": null,
        "yColumns": null
       },
       "removedWidgets": [],
       "schema": [
        {
         "metadata": "{\"__CHAR_VARCHAR_TYPE_STRING\":\"varchar(20)\"}",
         "name": "team",
         "type": "\"string\""
        },
        {
         "metadata": "{\"__CHAR_VARCHAR_TYPE_STRING\":\"varchar(10)\"}",
         "name": "grp",
         "type": "\"string\""
        },
        {
         "metadata": "{}",
         "name": "Match_played",
         "type": "\"long\""
        },
        {
         "metadata": "{}",
         "name": "win",
         "type": "\"long\""
        },
        {
         "metadata": "{}",
         "name": "draw",
         "type": "\"integer\""
        },
        {
         "metadata": "{}",
         "name": "loss",
         "type": "\"integer\""
        },
        {
         "metadata": "{}",
         "name": "GF",
         "type": "\"long\""
        },
        {
         "metadata": "{}",
         "name": "GA",
         "type": "\"long\""
        },
        {
         "metadata": "{}",
         "name": "GD",
         "type": "\"long\""
        },
        {
         "metadata": "{}",
         "name": "points",
         "type": "\"long\""
        },
        {
         "metadata": "{}",
         "name": "rank",
         "type": "\"integer\""
        },
        {
         "metadata": "{}",
         "name": "grp_rank",
         "type": "\"string\""
        }
       ],
       "type": "table"
      }
     },
     "output_type": "display_data"
    }
   ],
   "source": [
    "%sql\n",
    "with cte4 as (with cte3 as (with cte2 as (with group_stage as (with cte as (select concat (a.team_name , \"  Vs \", b.team_name) as Match_fixture,\n",
    "a.team_name as team1,\n",
    "a.grp as team1_grp,\n",
    "b.team_name as team2,\n",
    "b.grp as team2_grp,\n",
    "floor(rand() * 6) as team1_score,\n",
    "floor(rand() * 6) as team2_score,\n",
    "case when team1_score > team2_score then 3 when team1_score < team2_score then 0 else 0 end as team1_pts,\n",
    "case when team2_score > team1_score then 3 when team2_score < team1_score then 0 else 1 end as team2_pts,\n",
    "case when team1_score > team2_score then team1 when team1_score < team2_score then team2 else \"draw\" end as winner\n",
    "from euro24 a cross join euro24 b where a.grp = b.grp and a.team_name > b.team_name\n",
    "\n",
    "\n",
    ") \n",
    "(select team1,team1_grp as grp,team1_score as GF,team2_score as GA ,(GF - GA) As GD, team1_pts as points  from cte )\n",
    "union all\n",
    "(select team2,team2_grp as grp, team2_score as GF ,team1_score as GA ,(GF - GA) as GD,team2_pts from cte ) order by grp) \n",
    "select team1 as team ,grp,count(*) AS Match_played,sum(GF) as GF,sum(GA) as GA,Sum(GD) as GD,sum(points)  as points from group_stage group by team1 ,grp order by grp,points desc)\n",
    "select team,grp,Match_played,floor(points/3) as win,case when points%3 = 2 then 2 when points % 3 = 1 then 1 else 0 end as draw,\n",
    "case when win + draw  = 3 then 0 when win + draw = 2 then 1 when win + draw = 1 then 2 else 3 end as loss,GF,GA,GD,points from cte2 order by grp,points desc) select *,row_number() over(partition by grp order by points desc,GD desc, GF desc)  as rank from cte3 ) \n",
    "(select  *,concat(grp,rank) as grp_rank from cte4 where rank < 3)\n",
    "union \n",
    "(select * ,concat(grp,rank) as grp_rank from cte4 where rank = 3) order by rank,points desc,GD desc,GF desc  limit 16\n",
    "\n"
   ]
  },
  {
   "cell_type": "code",
   "execution_count": 0,
   "metadata": {
    "application/vnd.databricks.v1+cell": {
     "cellMetadata": {
      "byteLimit": 2048000,
      "implicitDf": true,
      "rowLimit": 10000
     },
     "inputWidgets": {},
     "nuid": "7899daff-eac2-4ba5-8a29-18e89949c003",
     "showTitle": false,
     "title": ""
    }
   },
   "outputs": [
    {
     "output_type": "display_data",
     "data": {
      "text/html": [
       "<style scoped>\n",
       "  .table-result-container {\n",
       "    max-height: 300px;\n",
       "    overflow: auto;\n",
       "  }\n",
       "  table, th, td {\n",
       "    border: 1px solid black;\n",
       "    border-collapse: collapse;\n",
       "  }\n",
       "  th, td {\n",
       "    padding: 5px;\n",
       "  }\n",
       "  th {\n",
       "    text-align: left;\n",
       "  }\n",
       "</style><div class='table-result-container'><table class='table-result'><thead style='background-color: white'><tr><th>team</th><th>grp</th><th>rank</th><th>grp_rank</th></tr></thead><tbody><tr><td>Belgium</td><td>B</td><td>1</td><td>B1</td></tr><tr><td>Germany</td><td>F</td><td>1</td><td>F1</td></tr><tr><td>North Macedonia</td><td>C</td><td>1</td><td>C1</td></tr><tr><td>Croatia</td><td>D</td><td>1</td><td>D1</td></tr><tr><td>Italy</td><td>A</td><td>1</td><td>A1</td></tr><tr><td>Spain</td><td>E</td><td>1</td><td>E1</td></tr><tr><td>Czech Republic</td><td>D</td><td>2</td><td>D2</td></tr><tr><td>Portugal</td><td>F</td><td>2</td><td>F2</td></tr><tr><td>Switzerland</td><td>A</td><td>2</td><td>A2</td></tr><tr><td>Poland</td><td>E</td><td>2</td><td>E2</td></tr><tr><td>Ukraine</td><td>C</td><td>2</td><td>C2</td></tr><tr><td>Russia</td><td>B</td><td>2</td><td>B2</td></tr><tr><td>Wales</td><td>A</td><td>3</td><td>A3</td></tr><tr><td>Sweden</td><td>E</td><td>3</td><td>E3</td></tr><tr><td>Scotland</td><td>D</td><td>3</td><td>D3</td></tr><tr><td>Hungary</td><td>F</td><td>3</td><td>F3</td></tr></tbody></table></div>"
      ]
     },
     "metadata": {
      "application/vnd.databricks.v1+output": {
       "addedWidgets": {},
       "aggData": [],
       "aggError": "",
       "aggOverflow": false,
       "aggSchema": [],
       "aggSeriesLimitReached": false,
       "aggType": "",
       "arguments": {},
       "columnCustomDisplayInfos": {},
       "data": [
        [
         "Belgium",
         "B",
         1,
         "B1"
        ],
        [
         "Germany",
         "F",
         1,
         "F1"
        ],
        [
         "North Macedonia",
         "C",
         1,
         "C1"
        ],
        [
         "Croatia",
         "D",
         1,
         "D1"
        ],
        [
         "Italy",
         "A",
         1,
         "A1"
        ],
        [
         "Spain",
         "E",
         1,
         "E1"
        ],
        [
         "Czech Republic",
         "D",
         2,
         "D2"
        ],
        [
         "Portugal",
         "F",
         2,
         "F2"
        ],
        [
         "Switzerland",
         "A",
         2,
         "A2"
        ],
        [
         "Poland",
         "E",
         2,
         "E2"
        ],
        [
         "Ukraine",
         "C",
         2,
         "C2"
        ],
        [
         "Russia",
         "B",
         2,
         "B2"
        ],
        [
         "Wales",
         "A",
         3,
         "A3"
        ],
        [
         "Sweden",
         "E",
         3,
         "E3"
        ],
        [
         "Scotland",
         "D",
         3,
         "D3"
        ],
        [
         "Hungary",
         "F",
         3,
         "F3"
        ]
       ],
       "datasetInfos": [],
       "dbfsResultPath": null,
       "isJsonSchema": true,
       "metadata": {
        "isDbfsCommandResult": false
       },
       "overflow": false,
       "plotOptions": {
        "customPlotOptions": {},
        "displayType": "table",
        "pivotAggregation": null,
        "pivotColumns": null,
        "xColumns": null,
        "yColumns": null
       },
       "removedWidgets": [],
       "schema": [
        {
         "metadata": "{\"__CHAR_VARCHAR_TYPE_STRING\":\"varchar(20)\"}",
         "name": "team",
         "type": "\"string\""
        },
        {
         "metadata": "{\"__CHAR_VARCHAR_TYPE_STRING\":\"varchar(10)\"}",
         "name": "grp",
         "type": "\"string\""
        },
        {
         "metadata": "{}",
         "name": "rank",
         "type": "\"integer\""
        },
        {
         "metadata": "{}",
         "name": "grp_rank",
         "type": "\"string\""
        }
       ],
       "type": "table"
      }
     },
     "output_type": "display_data"
    }
   ],
   "source": [
    "%sql\n",
    "with cte5 as (with cte4 as (with cte3 as (with cte2 as (with group_stage as (with cte as (select concat (a.team_name , \"  Vs \", b.team_name) as Match_fixture,\n",
    "a.team_name as team1,\n",
    "a.grp as team1_grp,\n",
    "b.team_name as team2,\n",
    "b.grp as team2_grp,\n",
    "floor(rand() * 6) as team1_score,\n",
    "floor(rand() * 6) as team2_score,\n",
    "case when team1_score > team2_score then 3 when team1_score < team2_score then 0 else 0 end as team1_pts,\n",
    "case when team2_score > team1_score then 3 when team2_score < team1_score then 0 else 1 end as team2_pts,\n",
    "case when team1_score > team2_score then team1 when team1_score < team2_score then team2 else \"draw\" end as winner\n",
    "from euro24 a cross join euro24 b where a.grp = b.grp and a.team_name > b.team_name\n",
    "\n",
    "\n",
    ") \n",
    "(select team1,team1_grp as grp,team1_score as GF,team2_score as GA ,(GF - GA) As GD, team1_pts as points  from cte )\n",
    "union all\n",
    "(select team2,team2_grp as grp, team2_score as GF ,team1_score as GA ,(GF - GA) as GD,team2_pts from cte ) order by grp) \n",
    "select team1 as team ,grp,count(*) AS Match_played,sum(GF) as GF,sum(GA) as GA,Sum(GD) as GD,sum(points)  as points from group_stage group by team1 ,grp order by grp,points desc)\n",
    "select team,grp,Match_played,floor(points/3) as win,case when points%3 = 2 then 2 when points % 3 = 1 then 1 else 0 end as draw,\n",
    "case when win + draw  = 3 then 0 when win + draw = 2 then 1 when win + draw = 1 then 2 else 3 end as loss,GF,GA,GD,points from cte2 order by grp,points desc) select *,row_number() over(partition by grp order by points desc,GD desc, GF desc)  as rank from cte3 ) \n",
    "(select  *,concat(grp,rank) as grp_rank from cte4 where rank < 3)\n",
    "union \n",
    "(select * ,concat(grp,rank) as grp_rank from cte4 where rank = 3) order by rank,points desc,GD desc,GF desc  limit 16)\n",
    "select team,grp,rank,grp_rank from cte5 \n",
    "\n"
   ]
  },
  {
   "cell_type": "code",
   "execution_count": 0,
   "metadata": {
    "application/vnd.databricks.v1+cell": {
     "cellMetadata": {
      "byteLimit": 2048000,
      "rowLimit": 10000
     },
     "inputWidgets": {},
     "nuid": "5c79b0b6-4b7a-480b-a234-bab2143f2fbd",
     "showTitle": false,
     "title": ""
    }
   },
   "outputs": [
    {
     "output_type": "display_data",
     "data": {
      "text/html": [
       "<style scoped>\n",
       "  .table-result-container {\n",
       "    max-height: 300px;\n",
       "    overflow: auto;\n",
       "  }\n",
       "  table, th, td {\n",
       "    border: 1px solid black;\n",
       "    border-collapse: collapse;\n",
       "  }\n",
       "  th, td {\n",
       "    padding: 5px;\n",
       "  }\n",
       "  th {\n",
       "    text-align: left;\n",
       "  }\n",
       "</style><div class='table-result-container'><table class='table-result'><thead style='background-color: white'><tr><th>team</th><th>grp</th><th>rank</th><th>grp_rank</th></tr></thead><tbody><tr><td>Turkey</td><td>A</td><td>1</td><td>A1</td></tr><tr><td>Italy</td><td>A</td><td>2</td><td>A2</td></tr><tr><td>Switzerland</td><td>A</td><td>3</td><td>A3</td></tr><tr><td>Belgium</td><td>B</td><td>1</td><td>B1</td></tr><tr><td>Russia</td><td>B</td><td>2</td><td>B2</td></tr><tr><td>Austria</td><td>C</td><td>1</td><td>C1</td></tr><tr><td>North Macedonia</td><td>C</td><td>2</td><td>C2</td></tr><tr><td>Netherlands</td><td>C</td><td>3</td><td>C3</td></tr><tr><td>Croatia</td><td>D</td><td>1</td><td>D1</td></tr><tr><td>England</td><td>D</td><td>2</td><td>D2</td></tr><tr><td>Czech Republic</td><td>D</td><td>3</td><td>D3</td></tr><tr><td>Poland</td><td>E</td><td>1</td><td>E1</td></tr><tr><td>Spain</td><td>E</td><td>2</td><td>E2</td></tr><tr><td>Slovakia</td><td>E</td><td>3</td><td>E3</td></tr><tr><td>Germany</td><td>F</td><td>1</td><td>F1</td></tr><tr><td>Portugal</td><td>F</td><td>2</td><td>F2</td></tr></tbody></table></div>"
      ]
     },
     "metadata": {
      "application/vnd.databricks.v1+output": {
       "addedWidgets": {},
       "aggData": [],
       "aggError": "",
       "aggOverflow": false,
       "aggSchema": [],
       "aggSeriesLimitReached": false,
       "aggType": "",
       "arguments": {},
       "columnCustomDisplayInfos": {},
       "data": [
        [
         "Turkey",
         "A",
         1,
         "A1"
        ],
        [
         "Italy",
         "A",
         2,
         "A2"
        ],
        [
         "Switzerland",
         "A",
         3,
         "A3"
        ],
        [
         "Belgium",
         "B",
         1,
         "B1"
        ],
        [
         "Russia",
         "B",
         2,
         "B2"
        ],
        [
         "Austria",
         "C",
         1,
         "C1"
        ],
        [
         "North Macedonia",
         "C",
         2,
         "C2"
        ],
        [
         "Netherlands",
         "C",
         3,
         "C3"
        ],
        [
         "Croatia",
         "D",
         1,
         "D1"
        ],
        [
         "England",
         "D",
         2,
         "D2"
        ],
        [
         "Czech Republic",
         "D",
         3,
         "D3"
        ],
        [
         "Poland",
         "E",
         1,
         "E1"
        ],
        [
         "Spain",
         "E",
         2,
         "E2"
        ],
        [
         "Slovakia",
         "E",
         3,
         "E3"
        ],
        [
         "Germany",
         "F",
         1,
         "F1"
        ],
        [
         "Portugal",
         "F",
         2,
         "F2"
        ]
       ],
       "datasetInfos": [],
       "dbfsResultPath": null,
       "isJsonSchema": true,
       "metadata": {
        "isDbfsCommandResult": false
       },
       "overflow": false,
       "plotOptions": {
        "customPlotOptions": {},
        "displayType": "table",
        "pivotAggregation": null,
        "pivotColumns": null,
        "xColumns": null,
        "yColumns": null
       },
       "removedWidgets": [],
       "schema": [
        {
         "metadata": "{\"__CHAR_VARCHAR_TYPE_STRING\":\"varchar(20)\"}",
         "name": "team",
         "type": "\"string\""
        },
        {
         "metadata": "{\"__CHAR_VARCHAR_TYPE_STRING\":\"varchar(10)\"}",
         "name": "grp",
         "type": "\"string\""
        },
        {
         "metadata": "{}",
         "name": "rank",
         "type": "\"integer\""
        },
        {
         "metadata": "{}",
         "name": "grp_rank",
         "type": "\"string\""
        }
       ],
       "type": "table"
      }
     },
     "output_type": "display_data"
    }
   ],
   "source": [
    "%sql\n",
    "with cte5 as (with cte4 as (with cte3 as (with cte2 as (with group_stage as (with cte as (select concat (a.team_name , \"  Vs \", b.team_name) as Match_fixture,\n",
    "a.team_name as team1,\n",
    "a.grp as team1_grp,\n",
    "b.team_name as team2,\n",
    "b.grp as team2_grp,\n",
    "floor(rand() * 6) as team1_score,\n",
    "floor(rand() * 6) as team2_score,\n",
    "case when team1_score > team2_score then 3 when team1_score < team2_score then 0 else 0 end as team1_pts,\n",
    "case when team2_score > team1_score then 3 when team2_score < team1_score then 0 else 1 end as team2_pts,\n",
    "case when team1_score > team2_score then team1 when team1_score < team2_score then team2 else \"draw\" end as winner\n",
    "from euro24 a cross join euro24 b where a.grp = b.grp and a.team_name > b.team_name\n",
    "\n",
    "\n",
    ") \n",
    "(select team1,team1_grp as grp,team1_score as GF,team2_score as GA ,(GF - GA) As GD, team1_pts as points  from cte )\n",
    "union all\n",
    "(select team2,team2_grp as grp, team2_score as GF ,team1_score as GA ,(GF - GA) as GD,team2_pts from cte ) order by grp) \n",
    "select team1 as team ,grp,count(*) AS Match_played,sum(GF) as GF,sum(GA) as GA,Sum(GD) as GD,sum(points)  as points from group_stage group by team1 ,grp order by grp,points desc)\n",
    "select team,grp,Match_played,floor(points/3) as win,case when points%3 = 2 then 2 when points % 3 = 1 then 1 else 0 end as draw,\n",
    "case when win + draw  = 3 then 0 when win + draw = 2 then 1 when win + draw = 1 then 2 else 3 end as loss,GF,GA,GD,points from cte2 order by grp,points desc) select *,row_number() over(partition by grp order by points desc,GD desc, GF desc)  as rank from cte3 ) \n",
    "(select  *,concat(grp,rank) as grp_rank from cte4 where rank < 3)\n",
    "union \n",
    "(select * ,concat(grp,rank) as grp_rank from cte4 where rank = 3) order by rank,points desc,GD desc,GF desc  limit 16)\n",
    "select team,grp,rank,grp_rank from cte5 order by grp \n",
    "\n"
   ]
  },
  {
   "cell_type": "code",
   "execution_count": 0,
   "metadata": {
    "application/vnd.databricks.v1+cell": {
     "cellMetadata": {},
     "inputWidgets": {},
     "nuid": "c49430c8-3a90-4071-8cfc-60a33918f222",
     "showTitle": false,
     "title": ""
    }
   },
   "outputs": [],
   "source": []
  },
  {
   "cell_type": "code",
   "execution_count": 0,
   "metadata": {
    "application/vnd.databricks.v1+cell": {
     "cellMetadata": {
      "byteLimit": 2048000,
      "implicitDf": true,
      "rowLimit": 10000
     },
     "inputWidgets": {},
     "nuid": "d8ae1285-77dc-4ff1-94ba-22a2ef3bc8d5",
     "showTitle": false,
     "title": ""
    }
   },
   "outputs": [
    {
     "output_type": "display_data",
     "data": {
      "text/html": [
       "<style scoped>\n",
       "  .table-result-container {\n",
       "    max-height: 300px;\n",
       "    overflow: auto;\n",
       "  }\n",
       "  table, th, td {\n",
       "    border: 1px solid black;\n",
       "    border-collapse: collapse;\n",
       "  }\n",
       "  th, td {\n",
       "    padding: 5px;\n",
       "  }\n",
       "  th {\n",
       "    text-align: left;\n",
       "  }\n",
       "</style><div class='table-result-container'><table class='table-result'><thead style='background-color: white'><tr><th>num_affected_rows</th><th>num_inserted_rows</th></tr></thead><tbody></tbody></table></div>"
      ]
     },
     "metadata": {
      "application/vnd.databricks.v1+output": {
       "addedWidgets": {},
       "aggData": [],
       "aggError": "",
       "aggOverflow": false,
       "aggSchema": [],
       "aggSeriesLimitReached": false,
       "aggType": "",
       "arguments": {},
       "columnCustomDisplayInfos": {},
       "data": [],
       "datasetInfos": [],
       "dbfsResultPath": null,
       "isJsonSchema": true,
       "metadata": {
        "isDbfsCommandResult": false
       },
       "overflow": false,
       "plotOptions": {
        "customPlotOptions": {},
        "displayType": "table",
        "pivotAggregation": null,
        "pivotColumns": null,
        "xColumns": null,
        "yColumns": null
       },
       "removedWidgets": [],
       "schema": [
        {
         "metadata": "{}",
         "name": "num_affected_rows",
         "type": "\"long\""
        },
        {
         "metadata": "{}",
         "name": "num_inserted_rows",
         "type": "\"long\""
        }
       ],
       "type": "table"
      }
     },
     "output_type": "display_data"
    }
   ],
   "source": [
    "%sql\n",
    "create table round_0016 as (\n",
    "with cte5 as (with cte4 as (with cte3 as (with cte2 as (with group_stage as (with cte as (select concat (a.team_name , \"  Vs \", b.team_name) as Match_fixture,\n",
    "a.team_name as team1,\n",
    "a.grp as team1_grp,\n",
    "b.team_name as team2,\n",
    "b.grp as team2_grp,\n",
    "floor(rand() * 6) as team1_score,\n",
    "floor(rand() * 6) as team2_score,\n",
    "case when team1_score > team2_score then 3 when team1_score < team2_score then 0 else 0 end as team1_pts,\n",
    "case when team2_score > team1_score then 3 when team2_score < team1_score then 0 else 1 end as team2_pts,\n",
    "case when team1_score > team2_score then team1 when team1_score < team2_score then team2 else \"draw\" end as winner\n",
    "from euro24 a cross join euro24 b where a.grp = b.grp and a.team_name > b.team_name\n",
    "\n",
    "\n",
    ") \n",
    "(select team1,team1_grp as grp,team1_score as GF,team2_score as GA ,(GF - GA) As GD, team1_pts as points  from cte )\n",
    "union all\n",
    "(select team2,team2_grp as grp, team2_score as GF ,team1_score as GA ,(GF - GA) as GD,team2_pts from cte ) order by grp) \n",
    "select team1 as team ,grp,count(*) AS Match_played,sum(GF) as GF,sum(GA) as GA,Sum(GD) as GD,sum(points)  as points from group_stage group by team1 ,grp order by grp,points desc)\n",
    "select team,grp,Match_played,floor(points/3) as win,case when points%3 = 2 then 2 when points % 3 = 1 then 1 else 0 end as draw,\n",
    "case when win + draw  = 3 then 0 when win + draw = 2 then 1 when win + draw = 1 then 2 else 3 end as loss,GF,GA,GD,points from cte2 order by grp,points desc) select *,row_number() over(partition by grp order by points desc,GD desc, GF desc)  as rank from cte3 ) \n",
    "(select  *,concat(grp,rank) as grp_rank from cte4 where rank < 3)\n",
    "union \n",
    "(select * ,concat(grp,rank) as grp_rank from cte4 where rank = 3) order by rank,points desc,GD desc,GF desc  limit 16)\n",
    "select team,grp,rank,grp_rank from cte5  order by grp) \n",
    "\n",
    " \n",
    "\n",
    "\n"
   ]
  },
  {
   "cell_type": "code",
   "execution_count": 0,
   "metadata": {
    "application/vnd.databricks.v1+cell": {
     "cellMetadata": {
      "byteLimit": 2048000,
      "implicitDf": true,
      "rowLimit": 10000
     },
     "inputWidgets": {},
     "nuid": "d011e8c0-eabb-41bc-971c-62e75a92b039",
     "showTitle": false,
     "title": ""
    }
   },
   "outputs": [
    {
     "output_type": "display_data",
     "data": {
      "text/html": [
       "<style scoped>\n",
       "  .table-result-container {\n",
       "    max-height: 300px;\n",
       "    overflow: auto;\n",
       "  }\n",
       "  table, th, td {\n",
       "    border: 1px solid black;\n",
       "    border-collapse: collapse;\n",
       "  }\n",
       "  th, td {\n",
       "    padding: 5px;\n",
       "  }\n",
       "  th {\n",
       "    text-align: left;\n",
       "  }\n",
       "</style><div class='table-result-container'><table class='table-result'><thead style='background-color: white'><tr><th>team</th><th>grp</th><th>rank</th><th>grp_rank</th></tr></thead><tbody><tr><td>Italy</td><td>A</td><td>1</td><td>A1</td></tr><tr><td>Wales</td><td>A</td><td>2</td><td>A2</td></tr><tr><td>Denmark</td><td>B</td><td>1</td><td>B1</td></tr><tr><td>Belgium</td><td>B</td><td>2</td><td>B2</td></tr><tr><td>North Macedonia</td><td>C</td><td>1</td><td>C1</td></tr><tr><td>Ukraine</td><td>C</td><td>2</td><td>C2</td></tr><tr><td>North Macedonia</td><td>C</td><td>3</td><td>C3</td></tr><tr><td>Czech Republic</td><td>D</td><td>1</td><td>D1</td></tr><tr><td>England</td><td>D</td><td>2</td><td>D2</td></tr><tr><td>Scotland</td><td>D</td><td>3</td><td>D3</td></tr><tr><td>Poland</td><td>E</td><td>1</td><td>E1</td></tr><tr><td>Sweden</td><td>E</td><td>2</td><td>E2</td></tr><tr><td>Slovakia</td><td>E</td><td>3</td><td>E3</td></tr><tr><td>Hungary</td><td>F</td><td>1</td><td>F1</td></tr><tr><td>France</td><td>F</td><td>2</td><td>F2</td></tr><tr><td>Hungary</td><td>F</td><td>3</td><td>F3</td></tr></tbody></table></div>"
      ]
     },
     "metadata": {
      "application/vnd.databricks.v1+output": {
       "addedWidgets": {},
       "aggData": [],
       "aggError": "",
       "aggOverflow": false,
       "aggSchema": [],
       "aggSeriesLimitReached": false,
       "aggType": "",
       "arguments": {},
       "columnCustomDisplayInfos": {},
       "data": [
        [
         "Italy",
         "A",
         1,
         "A1"
        ],
        [
         "Wales",
         "A",
         2,
         "A2"
        ],
        [
         "Denmark",
         "B",
         1,
         "B1"
        ],
        [
         "Belgium",
         "B",
         2,
         "B2"
        ],
        [
         "North Macedonia",
         "C",
         1,
         "C1"
        ],
        [
         "Ukraine",
         "C",
         2,
         "C2"
        ],
        [
         "North Macedonia",
         "C",
         3,
         "C3"
        ],
        [
         "Czech Republic",
         "D",
         1,
         "D1"
        ],
        [
         "England",
         "D",
         2,
         "D2"
        ],
        [
         "Scotland",
         "D",
         3,
         "D3"
        ],
        [
         "Poland",
         "E",
         1,
         "E1"
        ],
        [
         "Sweden",
         "E",
         2,
         "E2"
        ],
        [
         "Slovakia",
         "E",
         3,
         "E3"
        ],
        [
         "Hungary",
         "F",
         1,
         "F1"
        ],
        [
         "France",
         "F",
         2,
         "F2"
        ],
        [
         "Hungary",
         "F",
         3,
         "F3"
        ]
       ],
       "datasetInfos": [],
       "dbfsResultPath": null,
       "isJsonSchema": true,
       "metadata": {
        "isDbfsCommandResult": false
       },
       "overflow": false,
       "plotOptions": {
        "customPlotOptions": {},
        "displayType": "table",
        "pivotAggregation": null,
        "pivotColumns": null,
        "xColumns": null,
        "yColumns": null
       },
       "removedWidgets": [],
       "schema": [
        {
         "metadata": "{\"__CHAR_VARCHAR_TYPE_STRING\":\"varchar(20)\"}",
         "name": "team",
         "type": "\"string\""
        },
        {
         "metadata": "{\"__CHAR_VARCHAR_TYPE_STRING\":\"varchar(10)\"}",
         "name": "grp",
         "type": "\"string\""
        },
        {
         "metadata": "{}",
         "name": "rank",
         "type": "\"integer\""
        },
        {
         "metadata": "{}",
         "name": "grp_rank",
         "type": "\"string\""
        }
       ],
       "type": "table"
      }
     },
     "output_type": "display_data"
    }
   ],
   "source": [
    "%sql\n",
    "select * from round_0016"
   ]
  },
  {
   "cell_type": "code",
   "execution_count": 0,
   "metadata": {
    "application/vnd.databricks.v1+cell": {
     "cellMetadata": {
      "byteLimit": 2048000,
      "rowLimit": 10000
     },
     "inputWidgets": {},
     "nuid": "eafa0ebd-d22a-405d-9112-b13b34548c72",
     "showTitle": false,
     "title": ""
    }
   },
   "outputs": [
    {
     "output_type": "display_data",
     "data": {
      "text/html": [
       "<style scoped>\n",
       "  .table-result-container {\n",
       "    max-height: 300px;\n",
       "    overflow: auto;\n",
       "  }\n",
       "  table, th, td {\n",
       "    border: 1px solid black;\n",
       "    border-collapse: collapse;\n",
       "  }\n",
       "  th, td {\n",
       "    padding: 5px;\n",
       "  }\n",
       "  th {\n",
       "    text-align: left;\n",
       "  }\n",
       "</style><div class='table-result-container'><table class='table-result'><thead style='background-color: white'><tr><th>team</th><th>grp_rank</th></tr></thead><tbody><tr><td>Scotland</td><td>D3</td></tr></tbody></table></div>"
      ]
     },
     "metadata": {
      "application/vnd.databricks.v1+output": {
       "addedWidgets": {},
       "aggData": [],
       "aggError": "",
       "aggOverflow": false,
       "aggSchema": [],
       "aggSeriesLimitReached": false,
       "aggType": "",
       "arguments": {},
       "columnCustomDisplayInfos": {},
       "data": [
        [
         "Scotland",
         "D3"
        ]
       ],
       "datasetInfos": [],
       "dbfsResultPath": null,
       "isJsonSchema": true,
       "metadata": {
        "isDbfsCommandResult": false
       },
       "overflow": false,
       "plotOptions": {
        "customPlotOptions": {},
        "displayType": "table",
        "pivotAggregation": null,
        "pivotColumns": null,
        "xColumns": null,
        "yColumns": null
       },
       "removedWidgets": [],
       "schema": [
        {
         "metadata": "{\"__CHAR_VARCHAR_TYPE_STRING\":\"varchar(20)\"}",
         "name": "team",
         "type": "\"string\""
        },
        {
         "metadata": "{}",
         "name": "grp_rank",
         "type": "\"string\""
        }
       ],
       "type": "table"
      }
     },
     "output_type": "display_data"
    }
   ],
   "source": [
    "%sql\n",
    "\n",
    "SELECT team,grp_rank FROM round_0016 where \n",
    "       CASE \n",
    "           WHEN (SELECT concat_ws('', collect_list(grp)) FROM round_016 WHERE rank = 3) IN ('ABCD', 'ABCE', 'ABCF') THEN grp_rank = 'A3'\n",
    "           WHEN (SELECT concat_ws('', collect_list(grp)) FROM round_016 WHERE rank = 3) IN ('ABDF', 'ABDE') THEN grp_rank ='D3'\n",
    "           WHEN (SELECT concat_ws('', collect_list(grp)) FROM round_016 WHERE rank = 3) IN ('ABEF', 'ACDE', 'ACEF', 'ADEF', 'BCDE') THEN grp_rank ='E3'\n",
    "           WHEN (SELECT concat_ws('', collect_list(grp)) FROM round_016 WHERE rank = 3) IN ('ACDF', 'BCDF', 'BCEF', 'BDEF', 'CDEF') THEN grp_rank ='F3'\n",
    "       END  \n",
    "\n"
   ]
  },
  {
   "cell_type": "code",
   "execution_count": 0,
   "metadata": {
    "application/vnd.databricks.v1+cell": {
     "cellMetadata": {
      "byteLimit": 2048000,
      "rowLimit": 10000
     },
     "inputWidgets": {},
     "nuid": "774f9c83-e608-4022-977d-6ff15475240e",
     "showTitle": false,
     "title": ""
    }
   },
   "outputs": [
    {
     "output_type": "display_data",
     "data": {
      "text/html": [
       "<style scoped>\n",
       "  .table-result-container {\n",
       "    max-height: 300px;\n",
       "    overflow: auto;\n",
       "  }\n",
       "  table, th, td {\n",
       "    border: 1px solid black;\n",
       "    border-collapse: collapse;\n",
       "  }\n",
       "  th, td {\n",
       "    padding: 5px;\n",
       "  }\n",
       "  th {\n",
       "    text-align: left;\n",
       "  }\n",
       "</style><div class='table-result-container'><table class='table-result'><thead style='background-color: white'><tr><th>team</th><th>grp_rank</th></tr></thead><tbody><tr><td>Denmark</td><td>B1</td></tr><tr><td>Hungary</td><td>F3</td></tr><tr><td>Italy</td><td>A1</td></tr><tr><td>Ukraine</td><td>C2</td></tr><tr><td>Hungary</td><td>F1</td></tr><tr><td>North Macedonia</td><td>C3</td></tr><tr><td>England</td><td>D2</td></tr><tr><td>Sweden</td><td>E2</td></tr><tr><td>Poland</td><td>E1</td></tr><tr><td>Scotland</td><td>D3</td></tr><tr><td>Czech Republic</td><td>D1</td></tr><tr><td>France</td><td>F2</td></tr><tr><td>North Macedonia</td><td>C1</td></tr><tr><td>Slovakia</td><td>E3</td></tr><tr><td>Wales</td><td>A2</td></tr><tr><td>Belgium</td><td>B2</td></tr></tbody></table></div>"
      ]
     },
     "metadata": {
      "application/vnd.databricks.v1+output": {
       "addedWidgets": {},
       "aggData": [],
       "aggError": "",
       "aggOverflow": false,
       "aggSchema": [],
       "aggSeriesLimitReached": false,
       "aggType": "",
       "arguments": {},
       "columnCustomDisplayInfos": {},
       "data": [
        [
         "Denmark",
         "B1"
        ],
        [
         "Hungary",
         "F3"
        ],
        [
         "Italy",
         "A1"
        ],
        [
         "Ukraine",
         "C2"
        ],
        [
         "Hungary",
         "F1"
        ],
        [
         "North Macedonia",
         "C3"
        ],
        [
         "England",
         "D2"
        ],
        [
         "Sweden",
         "E2"
        ],
        [
         "Poland",
         "E1"
        ],
        [
         "Scotland",
         "D3"
        ],
        [
         "Czech Republic",
         "D1"
        ],
        [
         "France",
         "F2"
        ],
        [
         "North Macedonia",
         "C1"
        ],
        [
         "Slovakia",
         "E3"
        ],
        [
         "Wales",
         "A2"
        ],
        [
         "Belgium",
         "B2"
        ]
       ],
       "datasetInfos": [],
       "dbfsResultPath": null,
       "isJsonSchema": true,
       "metadata": {
        "isDbfsCommandResult": false
       },
       "overflow": false,
       "plotOptions": {
        "customPlotOptions": {},
        "displayType": "table",
        "pivotAggregation": null,
        "pivotColumns": null,
        "xColumns": null,
        "yColumns": null
       },
       "removedWidgets": [],
       "schema": [
        {
         "metadata": "{\"__CHAR_VARCHAR_TYPE_STRING\":\"varchar(20)\"}",
         "name": "team",
         "type": "\"string\""
        },
        {
         "metadata": "{}",
         "name": "grp_rank",
         "type": "\"string\""
        }
       ],
       "type": "table"
      }
     },
     "output_type": "display_data"
    }
   ],
   "source": [
    "%sql\n",
    "SELECT team, grp_rank\n",
    "FROM round_0016\n",
    "WHERE grp_rank = 'B1'\n",
    "\n",
    "UNION \n",
    "\n",
    "SELECT team, grp_rank FROM round_0016\n",
    "WHERE \n",
    "    CASE \n",
    "        WHEN (SELECT CONCAT_WS('', COLLECT_LIST(grp)) FROM round_0016 WHERE rank = 3) IN ('ABCD', 'ABCE', 'ABCF') THEN grp_rank = 'A3'\n",
    "        WHEN (SELECT CONCAT_WS('', COLLECT_LIST(grp)) FROM round_0016 WHERE rank = 3) IN ('ABDF', 'ABDE') THEN grp_rank = 'D3'\n",
    "        WHEN (SELECT CONCAT_WS('', COLLECT_LIST(grp)) FROM round_0016 WHERE rank = 3) IN ('ABEF', 'ACDE', 'ACEF', 'ADEF', 'BCDE') THEN grp_rank = 'E3'\n",
    "        WHEN (SELECT CONCAT_WS('', COLLECT_LIST(grp)) FROM round_0016 WHERE rank = 3) IN ('ACDF', 'BCDF', 'BCEF', 'BDEF', 'CDEF') THEN grp_rank = 'F3'\n",
    "        ELSE FALSE -- Default value in case none of the conditions match\n",
    "    END\n",
    "    UNION\n",
    "SELECT team, grp_rank FROM round_0016\n",
    "WHERE grp_rank = 'A1'\n",
    "UNION \n",
    "SELECT team, grp_rank\n",
    "FROM round_0016\n",
    "WHERE grp_rank = 'C2'\n",
    "union \n",
    "select team,grp_rank from round_0016 where grp_rank  = \"F1\"\n",
    "UNION All\n",
    "SELECT team,grp_rank FROM round_0016 where \n",
    "       CASE \n",
    "           WHEN (SELECT concat_ws('', collect_list(grp)) FROM round_0016 WHERE rank = 3) IN ('ABEF', 'ACDE', 'ACDE','ACEF','ADEF') THEN grp_rank = 'A3'\n",
    "           WHEN (SELECT concat_ws('', collect_list(grp)) FROM round_0016 WHERE rank = 3) IN ('ABDF', 'ABDE','BCDF','BCEF','BDEF') THEN grp_rank ='B3'\n",
    "           WHEN (SELECT concat_ws('', collect_list(grp)) FROM round_0016 WHERE rank = 3) IN ('ABCD', 'ABCE', 'ABCF', 'BCDE', 'CDEF') THEN grp_rank ='C3'\n",
    "           \n",
    "       END \n",
    "UNION  all\n",
    "SELECT team,grp_rank from round_0016 where grp_rank = 'D2'\n",
    "UNION ALL\n",
    "SELECT team,grp_rank from round_0016 where grp_rank = 'E2'\n",
    "union all\n",
    "SELECT team,grp_rank from round_0016 where grp_rank = 'E1'\n",
    "union all\n",
    "\n",
    "\n",
    "      SELECT team,grp_rank FROM round_0016 where \n",
    "       CASE \n",
    "           WHEN (SELECT concat_ws('', collect_list(grp)) FROM round_0016 WHERE rank = 3) IN ('ABDE','ABDF') THEN grp_rank = 'A3'\n",
    "           WHEN (SELECT concat_ws('', collect_list(grp)) FROM round_0016 WHERE rank = 3) IN ('ABCD','ABCF','ABCE','BCDF','BCEF') THEN grp_rank ='B3'\n",
    "           WHEN (SELECT concat_ws('', collect_list(grp)) FROM round_0016 WHERE rank = 3) IN ('ACDE','ACDF','ACEF','BCDE','BCEF') THEN grp_rank ='C3'\n",
    "           WHEN (SELECT concat_ws('', collect_list(grp)) FROM round_0016 WHERE rank = 3) IN ('ADEF','BDEF','CDEF') THEN grp_rank = 'D3'\n",
    "           END\n",
    "UNION ALL \n",
    "select team,grp_rank from round_0016 where grp_rank = 'D1'\n",
    "UNION ALL \n",
    "select team,grp_rank from round_0016 where grp_rank = 'F2'\n",
    "\n",
    "UNION ALL \n",
    "select team,grp_rank from round_0016 where grp_rank = 'C1'\n",
    "UNION ALL \n",
    "SELECT team,grp_rank FROM round_0016 where \n",
    "       CASE \n",
    "           WHEN (SELECT concat_ws('', collect_list(grp)) FROM round_0016 WHERE rank = 3) IN ('ABCD','ACDE','ACDF','BCDE','BCDF') THEN grp_rank = 'D3'\n",
    "           WHEN (SELECT concat_ws('', collect_list(grp)) FROM round_0016 WHERE rank = 3) IN ('ABCE','ABCF','ABDE','BCEF','BDEF','CDEF') THEN grp_rank ='E3'\n",
    "           WHEN (SELECT concat_ws('', collect_list(grp)) FROM round_0016 WHERE rank = 3) IN ('ABCF','ABDF','ABEF','ACEF','ADEF') THEN grp_rank ='F3'\n",
    "           \n",
    "       END \n",
    "UNION ALL\n",
    "select team,grp_rank from round_0016 where grp_rank = 'A2'\n",
    "UNION ALL \n",
    "select team,grp_rank from round_0016 where grp_rank = 'B2'\n",
    "\n",
    "\n",
    "\n",
    "\n",
    "\n"
   ]
  },
  {
   "cell_type": "code",
   "execution_count": 0,
   "metadata": {
    "application/vnd.databricks.v1+cell": {
     "cellMetadata": {
      "byteLimit": 2048000,
      "rowLimit": 10000
     },
     "inputWidgets": {},
     "nuid": "21adafde-153f-41be-bfff-f7db168ae56a",
     "showTitle": false,
     "title": ""
    }
   },
   "outputs": [
    {
     "output_type": "display_data",
     "data": {
      "text/html": [
       "<style scoped>\n",
       "  .table-result-container {\n",
       "    max-height: 300px;\n",
       "    overflow: auto;\n",
       "  }\n",
       "  table, th, td {\n",
       "    border: 1px solid black;\n",
       "    border-collapse: collapse;\n",
       "  }\n",
       "  th, td {\n",
       "    padding: 5px;\n",
       "  }\n",
       "  th {\n",
       "    text-align: left;\n",
       "  }\n",
       "</style><div class='table-result-container'><table class='table-result'><thead style='background-color: white'><tr><th>team</th><th>grp_rank</th></tr></thead><tbody><tr><td>Finland</td><td>B1</td></tr><tr><td>Portugal</td><td>F1</td></tr><tr><td>Ukraine</td><td>C2</td></tr><tr><td>Czech Republic</td><td>D2</td></tr><tr><td>Scotland</td><td>D1</td></tr><tr><td>Hungary</td><td>F3</td></tr><tr><td>Poland</td><td>E2</td></tr><tr><td>Scotland</td><td>D3</td></tr><tr><td>Slovakia</td><td>E1</td></tr><tr><td>France</td><td>F2</td></tr><tr><td>Russia</td><td>B2</td></tr><tr><td>Finland</td><td>B3</td></tr><tr><td>Italy</td><td>A2</td></tr><tr><td>Italy</td><td>A3</td></tr><tr><td>Wales</td><td>A1</td></tr><tr><td>Austria</td><td>C1</td></tr></tbody></table></div>"
      ]
     },
     "metadata": {
      "application/vnd.databricks.v1+output": {
       "addedWidgets": {},
       "aggData": [],
       "aggError": "",
       "aggOverflow": false,
       "aggSchema": [],
       "aggSeriesLimitReached": false,
       "aggType": "",
       "arguments": {},
       "columnCustomDisplayInfos": {},
       "data": [
        [
         "Finland",
         "B1"
        ],
        [
         "Portugal",
         "F1"
        ],
        [
         "Ukraine",
         "C2"
        ],
        [
         "Czech Republic",
         "D2"
        ],
        [
         "Scotland",
         "D1"
        ],
        [
         "Hungary",
         "F3"
        ],
        [
         "Poland",
         "E2"
        ],
        [
         "Scotland",
         "D3"
        ],
        [
         "Slovakia",
         "E1"
        ],
        [
         "France",
         "F2"
        ],
        [
         "Russia",
         "B2"
        ],
        [
         "Finland",
         "B3"
        ],
        [
         "Italy",
         "A2"
        ],
        [
         "Italy",
         "A3"
        ],
        [
         "Wales",
         "A1"
        ],
        [
         "Austria",
         "C1"
        ]
       ],
       "datasetInfos": [],
       "dbfsResultPath": null,
       "isJsonSchema": true,
       "metadata": {
        "isDbfsCommandResult": false
       },
       "overflow": false,
       "plotOptions": {
        "customPlotOptions": {},
        "displayType": "table",
        "pivotAggregation": null,
        "pivotColumns": null,
        "xColumns": null,
        "yColumns": null
       },
       "removedWidgets": [],
       "schema": [
        {
         "metadata": "{\"__CHAR_VARCHAR_TYPE_STRING\":\"varchar(20)\"}",
         "name": "team",
         "type": "\"string\""
        },
        {
         "metadata": "{}",
         "name": "grp_rank",
         "type": "\"string\""
        }
       ],
       "type": "table"
      }
     },
     "output_type": "display_data"
    }
   ],
   "source": [
    "%sql\n",
    "0"
   ]
  },
  {
   "cell_type": "code",
   "execution_count": 0,
   "metadata": {
    "application/vnd.databricks.v1+cell": {
     "cellMetadata": {
      "byteLimit": 2048000,
      "rowLimit": 10000
     },
     "inputWidgets": {},
     "nuid": "8c61b447-19d7-4c5b-af5e-3577807de0cf",
     "showTitle": false,
     "title": ""
    }
   },
   "outputs": [
    {
     "output_type": "display_data",
     "data": {
      "text/html": [
       "<style scoped>\n",
       "  .table-result-container {\n",
       "    max-height: 300px;\n",
       "    overflow: auto;\n",
       "  }\n",
       "  table, th, td {\n",
       "    border: 1px solid black;\n",
       "    border-collapse: collapse;\n",
       "  }\n",
       "  th, td {\n",
       "    padding: 5px;\n",
       "  }\n",
       "  th {\n",
       "    text-align: left;\n",
       "  }\n",
       "</style><div class='table-result-container'><table class='table-result'><thead style='background-color: white'><tr><th>team</th><th>grp_rank</th></tr></thead><tbody><tr><td>Denmark</td><td>B1</td></tr><tr><td>Hungary</td><td>F3</td></tr><tr><td>Italy</td><td>A1</td></tr><tr><td>Ukraine</td><td>C2</td></tr><tr><td>Hungary</td><td>F1</td></tr><tr><td>North Macedonia</td><td>C3</td></tr><tr><td>England</td><td>D2</td></tr><tr><td>Sweden</td><td>E2</td></tr><tr><td>Poland</td><td>E1</td></tr><tr><td>Scotland</td><td>D3</td></tr><tr><td>Czech Republic</td><td>D1</td></tr><tr><td>France</td><td>F2</td></tr><tr><td>North Macedonia</td><td>C1</td></tr><tr><td>Slovakia</td><td>E3</td></tr><tr><td>Wales</td><td>A2</td></tr><tr><td>Belgium</td><td>B2</td></tr></tbody></table></div>"
      ]
     },
     "metadata": {
      "application/vnd.databricks.v1+output": {
       "addedWidgets": {},
       "aggData": [],
       "aggError": "",
       "aggOverflow": false,
       "aggSchema": [],
       "aggSeriesLimitReached": false,
       "aggType": "",
       "arguments": {},
       "columnCustomDisplayInfos": {},
       "data": [
        [
         "Denmark",
         "B1"
        ],
        [
         "Hungary",
         "F3"
        ],
        [
         "Italy",
         "A1"
        ],
        [
         "Ukraine",
         "C2"
        ],
        [
         "Hungary",
         "F1"
        ],
        [
         "North Macedonia",
         "C3"
        ],
        [
         "England",
         "D2"
        ],
        [
         "Sweden",
         "E2"
        ],
        [
         "Poland",
         "E1"
        ],
        [
         "Scotland",
         "D3"
        ],
        [
         "Czech Republic",
         "D1"
        ],
        [
         "France",
         "F2"
        ],
        [
         "North Macedonia",
         "C1"
        ],
        [
         "Slovakia",
         "E3"
        ],
        [
         "Wales",
         "A2"
        ],
        [
         "Belgium",
         "B2"
        ]
       ],
       "datasetInfos": [],
       "dbfsResultPath": null,
       "isJsonSchema": true,
       "metadata": {
        "isDbfsCommandResult": false
       },
       "overflow": false,
       "plotOptions": {
        "customPlotOptions": {},
        "displayType": "table",
        "pivotAggregation": null,
        "pivotColumns": null,
        "xColumns": null,
        "yColumns": null
       },
       "removedWidgets": [],
       "schema": [
        {
         "metadata": "{\"__CHAR_VARCHAR_TYPE_STRING\":\"varchar(20)\"}",
         "name": "team",
         "type": "\"string\""
        },
        {
         "metadata": "{}",
         "name": "grp_rank",
         "type": "\"string\""
        }
       ],
       "type": "table"
      }
     },
     "output_type": "display_data"
    }
   ],
   "source": [
    "%sql\n",
    "SELECT team, grp_rank\n",
    "FROM round_0016\n",
    "WHERE grp_rank = 'B1'\n",
    "\n",
    "UNION \n",
    "\n",
    "SELECT team, grp_rank FROM round_0016\n",
    "WHERE \n",
    "    CASE \n",
    "        WHEN (SELECT CONCAT_WS('', COLLECT_LIST(grp)) FROM round_0016 WHERE rank = 3) IN ('ABCD', 'ABCE', 'ABCF') THEN grp_rank = 'A3'\n",
    "        WHEN (SELECT CONCAT_WS('', COLLECT_LIST(grp)) FROM round_0016 WHERE rank = 3) IN ('ABDF', 'ABDE') THEN grp_rank = 'D3'\n",
    "        WHEN (SELECT CONCAT_WS('', COLLECT_LIST(grp)) FROM round_0016 WHERE rank = 3) IN ('ABEF', 'ACDE', 'ACEF', 'ADEF', 'BCDE') THEN grp_rank = 'E3'\n",
    "        WHEN (SELECT CONCAT_WS('', COLLECT_LIST(grp)) FROM round_0016 WHERE rank = 3) IN ('ACDF', 'BCDF', 'BCEF', 'BDEF', 'CDEF') THEN grp_rank = 'F3'\n",
    "        ELSE FALSE -- Default value in case none of the conditions match\n",
    "    END\n",
    "    UNION\n",
    "SELECT team, grp_rank FROM round_0016\n",
    "WHERE grp_rank = 'A1'\n",
    "UNION \n",
    "SELECT team, grp_rank\n",
    "FROM round_0016\n",
    "WHERE grp_rank = 'C2'\n",
    "union \n",
    "select team,grp_rank from round_0016 where grp_rank  = \"F1\"\n",
    "UNION All\n",
    "SELECT team,grp_rank FROM round_0016 where \n",
    "       CASE \n",
    "           WHEN (SELECT concat_ws('', collect_list(grp)) FROM round_0016 WHERE rank = 3) IN ('ABEF', 'ACDE', 'ACDE','ACEF','ADEF') THEN grp_rank = 'A3'\n",
    "           WHEN (SELECT concat_ws('', collect_list(grp)) FROM round_0016 WHERE rank = 3) IN ('ABDF', 'ABDE','BCDF','BCEF','BDEF') THEN grp_rank ='B3'\n",
    "           WHEN (SELECT concat_ws('', collect_list(grp)) FROM round_0016 WHERE rank = 3) IN ('ABCD', 'ABCE', 'ABCF', 'BCDE', 'CDEF') THEN grp_rank ='C3'\n",
    "           \n",
    "       END \n",
    "UNION  all\n",
    "SELECT team,grp_rank from round_0016 where grp_rank = 'D2'\n",
    "UNION ALL\n",
    "SELECT team,grp_rank from round_0016 where grp_rank = 'E2'\n",
    "union all\n",
    "SELECT team,grp_rank from round_0016 where grp_rank = 'E1'\n",
    "union all\n",
    "\n",
    "\n",
    "      SELECT team,grp_rank FROM round_0016 where \n",
    "       CASE \n",
    "           WHEN (SELECT concat_ws('', collect_list(grp)) FROM round_0016 WHERE rank = 3) IN ('ABDE','ABDF') THEN grp_rank = 'A3'\n",
    "           WHEN (SELECT concat_ws('', collect_list(grp)) FROM round_0016 WHERE rank = 3) IN ('ABCD','ABCF','ABCE','BCDF','BCEF') THEN grp_rank ='B3'\n",
    "           WHEN (SELECT concat_ws('', collect_list(grp)) FROM round_0016 WHERE rank = 3) IN ('ACDE','ACDF','ACEF','BCDE','BCEF') THEN grp_rank ='C3'\n",
    "           WHEN (SELECT concat_ws('', collect_list(grp)) FROM round_0016 WHERE rank = 3) IN ('ADEF','BDEF','CDEF') THEN grp_rank = 'D3'\n",
    "           END\n",
    "UNION ALL \n",
    "select team,grp_rank from round_0016 where grp_rank = 'D1'\n",
    "UNION ALL \n",
    "select team,grp_rank from round_0016 where grp_rank = 'F2'\n",
    "\n",
    "UNION ALL \n",
    "select team,grp_rank from round_0016 where grp_rank = 'C1'\n",
    "UNION ALL \n",
    "SELECT team,grp_rank FROM round_0016 where \n",
    "       CASE \n",
    "           WHEN (SELECT concat_ws('', collect_list(grp)) FROM round_0016 WHERE rank = 3) IN ('ABCD','ACDE','ACDF','BCDE','BCDF') THEN grp_rank = 'D3'\n",
    "           WHEN (SELECT concat_ws('', collect_list(grp)) FROM round_0016 WHERE rank = 3) IN ('ABCE','ABCF','ABDE','BCEF','BDEF','CDEF') THEN grp_rank ='E3'\n",
    "           WHEN (SELECT concat_ws('', collect_list(grp)) FROM round_0016 WHERE rank = 3) IN ('ABCF','ABDF','ABEF','ACEF','ADEF') THEN grp_rank ='F3'\n",
    "           \n",
    "       END \n",
    "UNION ALL\n",
    "select team,grp_rank from round_0016 where grp_rank = 'A2'\n",
    "UNION ALL \n",
    "select team,grp_rank from round_0016 where grp_rank = 'B2'\n",
    "\n",
    "\n",
    "\n",
    "\n",
    "\n"
   ]
  },
  {
   "cell_type": "code",
   "execution_count": 0,
   "metadata": {
    "application/vnd.databricks.v1+cell": {
     "cellMetadata": {
      "byteLimit": 2048000,
      "rowLimit": 10000
     },
     "inputWidgets": {},
     "nuid": "a4b4c9a3-0d84-40b9-8c79-2d98be2d42b9",
     "showTitle": true,
     "title": ""
    }
   },
   "outputs": [
    {
     "output_type": "display_data",
     "data": {
      "text/html": [
       "<style scoped>\n",
       "  .table-result-container {\n",
       "    max-height: 300px;\n",
       "    overflow: auto;\n",
       "  }\n",
       "  table, th, td {\n",
       "    border: 1px solid black;\n",
       "    border-collapse: collapse;\n",
       "  }\n",
       "  th, td {\n",
       "    padding: 5px;\n",
       "  }\n",
       "  th {\n",
       "    text-align: left;\n",
       "  }\n",
       "</style><div class='table-result-container'><table class='table-result'><thead style='background-color: white'><tr><th>team</th><th>quater_finals</th></tr></thead><tbody><tr><td>Denmark</td><td>1</td></tr><tr><td>Ukraine</td><td>1</td></tr><tr><td>North Macedonia</td><td>2</td></tr><tr><td>England</td><td>2</td></tr><tr><td>Scotland</td><td>3</td></tr><tr><td>France</td><td>3</td></tr><tr><td>Slovakia</td><td>4</td></tr><tr><td>Belgium</td><td>4</td></tr></tbody></table></div>"
      ]
     },
     "metadata": {
      "application/vnd.databricks.v1+output": {
       "addedWidgets": {},
       "aggData": [],
       "aggError": "",
       "aggOverflow": false,
       "aggSchema": [],
       "aggSeriesLimitReached": false,
       "aggType": "",
       "arguments": {},
       "columnCustomDisplayInfos": {},
       "data": [
        [
         "Denmark",
         1
        ],
        [
         "Ukraine",
         1
        ],
        [
         "North Macedonia",
         2
        ],
        [
         "England",
         2
        ],
        [
         "Scotland",
         3
        ],
        [
         "France",
         3
        ],
        [
         "Slovakia",
         4
        ],
        [
         "Belgium",
         4
        ]
       ],
       "datasetInfos": [],
       "dbfsResultPath": null,
       "isJsonSchema": true,
       "metadata": {
        "isDbfsCommandResult": false
       },
       "overflow": false,
       "plotOptions": {
        "customPlotOptions": {},
        "displayType": "table",
        "pivotAggregation": null,
        "pivotColumns": null,
        "xColumns": null,
        "yColumns": null
       },
       "removedWidgets": [],
       "schema": [
        {
         "metadata": "{}",
         "name": "team",
         "type": "\"string\""
        },
        {
         "metadata": "{}",
         "name": "quater_finals",
         "type": "\"integer\""
        }
       ],
       "type": "table"
      }
     },
     "output_type": "display_data"
    }
   ],
   "source": [
    "%sql\n",
    "with cte4 as ( with cte3 as (with cte2 as (with cte1 as (SELECT team, grp_rank\n",
    "FROM round_0016\n",
    "WHERE grp_rank = 'B1'\n",
    "\n",
    "UNION \n",
    "\n",
    "SELECT team, grp_rank FROM round_0016\n",
    "WHERE \n",
    "    CASE \n",
    "        WHEN (SELECT CONCAT_WS('', COLLECT_LIST(grp)) FROM round_0016 WHERE rank = 3) IN ('ABCD', 'ABCE', 'ABCF') THEN grp_rank = 'A3'\n",
    "        WHEN (SELECT CONCAT_WS('', COLLECT_LIST(grp)) FROM round_0016 WHERE rank = 3) IN ('ABDF', 'ABDE') THEN grp_rank = 'D3'\n",
    "        WHEN (SELECT CONCAT_WS('', COLLECT_LIST(grp)) FROM round_0016 WHERE rank = 3) IN ('ABEF', 'ACDE', 'ACEF', 'ADEF', 'BCDE') THEN grp_rank = 'E3'\n",
    "        WHEN (SELECT CONCAT_WS('', COLLECT_LIST(grp)) FROM round_0016 WHERE rank = 3) IN ('ACDF', 'BCDF', 'BCEF', 'BDEF', 'CDEF') THEN grp_rank = 'F3'\n",
    "        ELSE FALSE -- Default value in case none of the conditions match\n",
    "    END\n",
    "    UNION\n",
    "SELECT team, grp_rank FROM round_0016\n",
    "WHERE grp_rank = 'A1'\n",
    "UNION \n",
    "SELECT team, grp_rank\n",
    "FROM round_0016\n",
    "WHERE grp_rank = 'C2'\n",
    "union \n",
    "select team,grp_rank from round_0016 where grp_rank  = \"F1\"\n",
    "UNION All\n",
    "SELECT team,grp_rank FROM round_0016 where \n",
    "       CASE \n",
    "           WHEN (SELECT concat_ws('', collect_list(grp)) FROM round_0016 WHERE rank = 3) IN ('ABEF', 'ACDE', 'ACDE','ACEF','ADEF') THEN grp_rank = 'A3'\n",
    "           WHEN (SELECT concat_ws('', collect_list(grp)) FROM round_0016 WHERE rank = 3) IN ('ABDF', 'ABDE','BCDF','BCEF','BDEF') THEN grp_rank ='B3'\n",
    "           WHEN (SELECT concat_ws('', collect_list(grp)) FROM round_0016 WHERE rank = 3) IN ('ABCD', 'ABCE', 'ABCF', 'BCDE', 'CDEF') THEN grp_rank ='C3'\n",
    "           \n",
    "       END \n",
    "UNION  all\n",
    "SELECT team,grp_rank from round_0016 where grp_rank = 'D2'\n",
    "UNION ALL\n",
    "SELECT team,grp_rank from round_0016 where grp_rank = 'E2'\n",
    "union all\n",
    "SELECT team,grp_rank from round_0016 where grp_rank = 'E1'\n",
    "union all\n",
    "\n",
    "\n",
    "      SELECT team,grp_rank FROM round_0016 where \n",
    "       CASE \n",
    "           WHEN (SELECT concat_ws('', collect_list(grp)) FROM round_0016 WHERE rank = 3) IN ('ABDE','ABDF') THEN grp_rank = 'A3'\n",
    "           WHEN (SELECT concat_ws('', collect_list(grp)) FROM round_0016 WHERE rank = 3) IN ('ABCD','ABCF','ABCE','BCDF','BCEF') THEN grp_rank ='B3'\n",
    "           WHEN (SELECT concat_ws('', collect_list(grp)) FROM round_0016 WHERE rank = 3) IN ('ACDE','ACDF','ACEF','BCDE','BCEF') THEN grp_rank ='C3'\n",
    "           WHEN (SELECT concat_ws('', collect_list(grp)) FROM round_0016 WHERE rank = 3) IN ('ADEF','BDEF','CDEF') THEN grp_rank = 'D3'\n",
    "           END\n",
    "UNION ALL \n",
    "select team,grp_rank from round_0016 where grp_rank = 'D1'\n",
    "UNION ALL \n",
    "select team,grp_rank from round_0016 where grp_rank = 'F2'\n",
    "\n",
    "UNION ALL \n",
    "select team,grp_rank from round_0016 where grp_rank = 'C1'\n",
    "UNION ALL \n",
    "SELECT team,grp_rank FROM round_0016 where \n",
    "       CASE \n",
    "           WHEN (SELECT concat_ws('', collect_list(grp)) FROM round_0016 WHERE rank = 3) IN ('ABCD','ACDE','ACDF','BCDE','BCDF') THEN grp_rank = 'D3'\n",
    "           WHEN (SELECT concat_ws('', collect_list(grp)) FROM round_0016 WHERE rank = 3) IN ('ABCE','ABCF','ABDE','BCEF','BDEF','CDEF') THEN grp_rank ='E3'\n",
    "           WHEN (SELECT concat_ws('', collect_list(grp)) FROM round_0016 WHERE rank = 3) IN ('ABCF','ABDF','ABEF','ACEF','ADEF') THEN grp_rank ='F3'\n",
    "           \n",
    "       END \n",
    "UNION ALL\n",
    "select team,grp_rank from round_0016 where grp_rank = 'A2'\n",
    "UNION ALL \n",
    "\n",
    "select team,grp_rank from round_0016 where grp_rank = 'B2')\n",
    "select team,grp_rank,ntile(8) over(order by (select 0)) as match_id from cte1)\n",
    "select t1.match_id ,t1.team as team1,t2.team as team2 from cte2 t1 join cte2 t2 on t1.match_id = t2.match_id where t1.team > t2.team)\n",
    "select match_id,team1,floor(rand() * 2) as team1_score,team2,case when team1_score = 0 then 1 when team1_score = 1 then 0 end  as team2_score,case when team1_score > team2_score then team1 when team2_score > team1_score then team2 end as winner from cte3)\n",
    "select winner as team,ntile(4) over(order by (select 0)) as quater_finals from cte4\n",
    "\n",
    "\n",
    "\n",
    "\n",
    "\n",
    "\n",
    "\n"
   ]
  },
  {
   "cell_type": "code",
   "execution_count": 0,
   "metadata": {
    "application/vnd.databricks.v1+cell": {
     "cellMetadata": {
      "byteLimit": 2048000,
      "rowLimit": 10000
     },
     "inputWidgets": {},
     "nuid": "a43a3264-23e7-4d49-9083-bf598f97627b",
     "showTitle": false,
     "title": ""
    }
   },
   "outputs": [
    {
     "output_type": "display_data",
     "data": {
      "text/html": [
       "<style scoped>\n",
       "  .table-result-container {\n",
       "    max-height: 300px;\n",
       "    overflow: auto;\n",
       "  }\n",
       "  table, th, td {\n",
       "    border: 1px solid black;\n",
       "    border-collapse: collapse;\n",
       "  }\n",
       "  th, td {\n",
       "    padding: 5px;\n",
       "  }\n",
       "  th {\n",
       "    text-align: left;\n",
       "  }\n",
       "</style><div class='table-result-container'><table class='table-result'><thead style='background-color: white'><tr><th>quater_final</th><th>team1</th><th>team2</th><th>team1_score</th><th>team2_score</th><th>winner</th></tr></thead><tbody><tr><td>4</td><td>Belgium</td><td>Slovakia</td><td>1</td><td>0</td><td>Belgium</td></tr><tr><td>2</td><td>North Macedonia</td><td>Sweden</td><td>1</td><td>0</td><td>North Macedonia</td></tr><tr><td>1</td><td>Hungary</td><td>Ukraine</td><td>0</td><td>1</td><td>Ukraine</td></tr><tr><td>3</td><td>France</td><td>Poland</td><td>0</td><td>1</td><td>Poland</td></tr></tbody></table></div>"
      ]
     },
     "metadata": {
      "application/vnd.databricks.v1+output": {
       "addedWidgets": {},
       "aggData": [],
       "aggError": "",
       "aggOverflow": false,
       "aggSchema": [],
       "aggSeriesLimitReached": false,
       "aggType": "",
       "arguments": {},
       "columnCustomDisplayInfos": {},
       "data": [
        [
         4,
         "Belgium",
         "Slovakia",
         1,
         0,
         "Belgium"
        ],
        [
         2,
         "North Macedonia",
         "Sweden",
         1,
         0,
         "North Macedonia"
        ],
        [
         1,
         "Hungary",
         "Ukraine",
         0,
         1,
         "Ukraine"
        ],
        [
         3,
         "France",
         "Poland",
         0,
         1,
         "Poland"
        ]
       ],
       "datasetInfos": [],
       "dbfsResultPath": null,
       "isJsonSchema": true,
       "metadata": {
        "isDbfsCommandResult": false
       },
       "overflow": false,
       "plotOptions": {
        "customPlotOptions": {},
        "displayType": "table",
        "pivotAggregation": null,
        "pivotColumns": null,
        "xColumns": null,
        "yColumns": null
       },
       "removedWidgets": [],
       "schema": [
        {
         "metadata": "{}",
         "name": "quater_final",
         "type": "\"integer\""
        },
        {
         "metadata": "{}",
         "name": "team1",
         "type": "\"string\""
        },
        {
         "metadata": "{}",
         "name": "team2",
         "type": "\"string\""
        },
        {
         "metadata": "{}",
         "name": "team1_score",
         "type": "\"long\""
        },
        {
         "metadata": "{}",
         "name": "team2_score",
         "type": "\"integer\""
        },
        {
         "metadata": "{}",
         "name": "winner",
         "type": "\"string\""
        }
       ],
       "type": "table"
      }
     },
     "output_type": "display_data"
    }
   ],
   "source": [
    "%sql\n",
    "with cte5 as (with cte4 as ( with cte3 as (with cte2 as (with cte1 as (SELECT team, grp_rank\n",
    "FROM round_0016\n",
    "WHERE grp_rank = 'B1'\n",
    "\n",
    "UNION \n",
    "\n",
    "SELECT team, grp_rank FROM round_0016\n",
    "WHERE \n",
    "    CASE \n",
    "        WHEN (SELECT CONCAT_WS('', COLLECT_LIST(grp)) FROM round_0016 WHERE rank = 3) IN ('ABCD', 'ABCE', 'ABCF') THEN grp_rank = 'A3'\n",
    "        WHEN (SELECT CONCAT_WS('', COLLECT_LIST(grp)) FROM round_0016 WHERE rank = 3) IN ('ABDF', 'ABDE') THEN grp_rank = 'D3'\n",
    "        WHEN (SELECT CONCAT_WS('', COLLECT_LIST(grp)) FROM round_0016 WHERE rank = 3) IN ('ABEF', 'ACDE', 'ACEF', 'ADEF', 'BCDE') THEN grp_rank = 'E3'\n",
    "        WHEN (SELECT CONCAT_WS('', COLLECT_LIST(grp)) FROM round_0016 WHERE rank = 3) IN ('ACDF', 'BCDF', 'BCEF', 'BDEF', 'CDEF') THEN grp_rank = 'F3'\n",
    "        ELSE FALSE -- Default value in case none of the conditions match\n",
    "    END\n",
    "    UNION\n",
    "SELECT team, grp_rank FROM round_0016\n",
    "WHERE grp_rank = 'A1'\n",
    "UNION \n",
    "SELECT team, grp_rank\n",
    "FROM round_0016\n",
    "WHERE grp_rank = 'C2'\n",
    "union \n",
    "select team,grp_rank from round_0016 where grp_rank  = \"F1\"\n",
    "UNION All\n",
    "SELECT team,grp_rank FROM round_0016 where \n",
    "       CASE \n",
    "           WHEN (SELECT concat_ws('', collect_list(grp)) FROM round_0016 WHERE rank = 3) IN ('ABEF', 'ACDE', 'ACDE','ACEF','ADEF') THEN grp_rank = 'A3'\n",
    "           WHEN (SELECT concat_ws('', collect_list(grp)) FROM round_0016 WHERE rank = 3) IN ('ABDF', 'ABDE','BCDF','BCEF','BDEF') THEN grp_rank ='B3'\n",
    "           WHEN (SELECT concat_ws('', collect_list(grp)) FROM round_0016 WHERE rank = 3) IN ('ABCD', 'ABCE', 'ABCF', 'BCDE', 'CDEF') THEN grp_rank ='C3'\n",
    "           \n",
    "       END \n",
    "UNION  all\n",
    "SELECT team,grp_rank from round_0016 where grp_rank = 'D2'\n",
    "UNION ALL\n",
    "SELECT team,grp_rank from round_0016 where grp_rank = 'E2'\n",
    "union all\n",
    "SELECT team,grp_rank from round_0016 where grp_rank = 'E1'\n",
    "union all\n",
    "\n",
    "\n",
    "      SELECT team,grp_rank FROM round_0016 where \n",
    "       CASE \n",
    "           WHEN (SELECT concat_ws('', collect_list(grp)) FROM round_0016 WHERE rank = 3) IN ('ABDE','ABDF') THEN grp_rank = 'A3'\n",
    "           WHEN (SELECT concat_ws('', collect_list(grp)) FROM round_0016 WHERE rank = 3) IN ('ABCD','ABCF','ABCE','BCDF','BCEF') THEN grp_rank ='B3'\n",
    "           WHEN (SELECT concat_ws('', collect_list(grp)) FROM round_0016 WHERE rank = 3) IN ('ACDE','ACDF','ACEF','BCDE','BCEF') THEN grp_rank ='C3'\n",
    "           WHEN (SELECT concat_ws('', collect_list(grp)) FROM round_0016 WHERE rank = 3) IN ('ADEF','BDEF','CDEF') THEN grp_rank = 'D3'\n",
    "           END\n",
    "UNION ALL \n",
    "select team,grp_rank from round_0016 where grp_rank = 'D1'\n",
    "UNION ALL \n",
    "select team,grp_rank from round_0016 where grp_rank = 'F2'\n",
    "\n",
    "UNION ALL \n",
    "select team,grp_rank from round_0016 where grp_rank = 'C1'\n",
    "UNION ALL \n",
    "SELECT team,grp_rank FROM round_0016 where \n",
    "       CASE \n",
    "           WHEN (SELECT concat_ws('', collect_list(grp)) FROM round_0016 WHERE rank = 3) IN ('ABCD','ACDE','ACDF','BCDE','BCDF') THEN grp_rank = 'D3'\n",
    "           WHEN (SELECT concat_ws('', collect_list(grp)) FROM round_0016 WHERE rank = 3) IN ('ABCE','ABCF','ABDE','BCEF','BDEF','CDEF') THEN grp_rank ='E3'\n",
    "           WHEN (SELECT concat_ws('', collect_list(grp)) FROM round_0016 WHERE rank = 3) IN ('ABCF','ABDF','ABEF','ACEF','ADEF') THEN grp_rank ='F3'\n",
    "           \n",
    "       END \n",
    "UNION ALL\n",
    "select team,grp_rank from round_0016 where grp_rank = 'A2'\n",
    "UNION ALL \n",
    "\n",
    "select team,grp_rank from round_0016 where grp_rank = 'B2')\n",
    "select team,grp_rank,ntile(8) over(order by (select 0)) as match_id from cte1)\n",
    "select t1.match_id ,t1.team as team1,t2.team as team2 from cte2 t1 join cte2 t2 on t1.match_id = t2.match_id where t1.team > t2.team)\n",
    "select match_id,team1,floor(rand() * 2) as team1_score,team2,case when team1_score = 0 then 1 when team1_score = 1 then 0 end  as team2_score,case when team1_score > team2_score then team1 when team2_score > team1_score then team2 end as winner from cte3)\n",
    "select winner as team,ntile(4) over(order by (select 0)) as quater_final from cte4)\n",
    "\n",
    "select c1.quater_final,c1.team as team1,c2.team as team2 ,floor(rand() * 2) as team1_score ,case when team1_score = 0 then 1 when team1_score = 1 then 0 end as team2_score,\n",
    "case when team1_score < team2_score then team2 when team1_score > team2_score then team1 end as winner from  cte5 c1 join cte5 c2 on c1.quater_final = c2.quater_final where c1.team < c2.team\n",
    "\n",
    "\n",
    "\n",
    "\n",
    "\n",
    "\n",
    "\n",
    "\n"
   ]
  },
  {
   "cell_type": "code",
   "execution_count": 0,
   "metadata": {
    "application/vnd.databricks.v1+cell": {
     "cellMetadata": {
      "byteLimit": 2048000,
      "rowLimit": 10000
     },
     "inputWidgets": {},
     "nuid": "361532ea-926c-4145-b985-2247ba1510dc",
     "showTitle": false,
     "title": ""
    }
   },
   "outputs": [
    {
     "output_type": "display_data",
     "data": {
      "text/html": [
       "<style scoped>\n",
       "  .table-result-container {\n",
       "    max-height: 300px;\n",
       "    overflow: auto;\n",
       "  }\n",
       "  table, th, td {\n",
       "    border: 1px solid black;\n",
       "    border-collapse: collapse;\n",
       "  }\n",
       "  th, td {\n",
       "    padding: 5px;\n",
       "  }\n",
       "  th {\n",
       "    text-align: left;\n",
       "  }\n",
       "</style><div class='table-result-container'><table class='table-result'><thead style='background-color: white'><tr><th>team</th><th>semi_final</th></tr></thead><tbody><tr><td>Hungary</td><td>1</td></tr><tr><td>Italy</td><td>1</td></tr><tr><td>North Macedonia</td><td>2</td></tr><tr><td>Poland</td><td>2</td></tr></tbody></table></div>"
      ]
     },
     "metadata": {
      "application/vnd.databricks.v1+output": {
       "addedWidgets": {},
       "aggData": [],
       "aggError": "",
       "aggOverflow": false,
       "aggSchema": [],
       "aggSeriesLimitReached": false,
       "aggType": "",
       "arguments": {},
       "columnCustomDisplayInfos": {},
       "data": [
        [
         "Hungary",
         1
        ],
        [
         "Italy",
         1
        ],
        [
         "North Macedonia",
         2
        ],
        [
         "Poland",
         2
        ]
       ],
       "datasetInfos": [],
       "dbfsResultPath": null,
       "isJsonSchema": true,
       "metadata": {
        "isDbfsCommandResult": false
       },
       "overflow": false,
       "plotOptions": {
        "customPlotOptions": {},
        "displayType": "table",
        "pivotAggregation": null,
        "pivotColumns": null,
        "xColumns": null,
        "yColumns": null
       },
       "removedWidgets": [],
       "schema": [
        {
         "metadata": "{}",
         "name": "team",
         "type": "\"string\""
        },
        {
         "metadata": "{}",
         "name": "semi_final",
         "type": "\"integer\""
        }
       ],
       "type": "table"
      }
     },
     "output_type": "display_data"
    }
   ],
   "source": [
    "%sql\n",
    "with cte6 as (with cte5 as (with cte4 as ( with cte3 as (with cte2 as (with cte1 as (SELECT team, grp_rank\n",
    "FROM round_0016\n",
    "WHERE grp_rank = 'B1'\n",
    "\n",
    "UNION \n",
    "\n",
    "SELECT team, grp_rank FROM round_0016\n",
    "WHERE \n",
    "    CASE \n",
    "        WHEN (SELECT CONCAT_WS('', COLLECT_LIST(grp)) FROM round_0016 WHERE rank = 3) IN ('ABCD', 'ABCE', 'ABCF') THEN grp_rank = 'A3'\n",
    "        WHEN (SELECT CONCAT_WS('', COLLECT_LIST(grp)) FROM round_0016 WHERE rank = 3) IN ('ABDF', 'ABDE') THEN grp_rank = 'D3'\n",
    "        WHEN (SELECT CONCAT_WS('', COLLECT_LIST(grp)) FROM round_0016 WHERE rank = 3) IN ('ABEF', 'ACDE', 'ACEF', 'ADEF', 'BCDE') THEN grp_rank = 'E3'\n",
    "        WHEN (SELECT CONCAT_WS('', COLLECT_LIST(grp)) FROM round_0016 WHERE rank = 3) IN ('ACDF', 'BCDF', 'BCEF', 'BDEF', 'CDEF') THEN grp_rank = 'F3'\n",
    "        ELSE FALSE -- Default value in case none of the conditions match\n",
    "    END\n",
    "    UNION\n",
    "SELECT team, grp_rank FROM round_0016\n",
    "WHERE grp_rank = 'A1'\n",
    "UNION \n",
    "SELECT team, grp_rank\n",
    "FROM round_0016\n",
    "WHERE grp_rank = 'C2'\n",
    "union \n",
    "select team,grp_rank from round_0016 where grp_rank  = \"F1\"\n",
    "UNION All\n",
    "SELECT team,grp_rank FROM round_0016 where \n",
    "       CASE \n",
    "           WHEN (SELECT concat_ws('', collect_list(grp)) FROM round_0016 WHERE rank = 3) IN ('ABEF', 'ACDE', 'ACDE','ACEF','ADEF') THEN grp_rank = 'A3'\n",
    "           WHEN (SELECT concat_ws('', collect_list(grp)) FROM round_0016 WHERE rank = 3) IN ('ABDF', 'ABDE','BCDF','BCEF','BDEF') THEN grp_rank ='B3'\n",
    "           WHEN (SELECT concat_ws('', collect_list(grp)) FROM round_0016 WHERE rank = 3) IN ('ABCD', 'ABCE', 'ABCF', 'BCDE', 'CDEF') THEN grp_rank ='C3'\n",
    "           \n",
    "       END \n",
    "UNION  all\n",
    "SELECT team,grp_rank from round_0016 where grp_rank = 'D2'\n",
    "UNION ALL\n",
    "SELECT team,grp_rank from round_0016 where grp_rank = 'E2'\n",
    "union all\n",
    "SELECT team,grp_rank from round_0016 where grp_rank = 'E1'\n",
    "union all\n",
    "\n",
    "\n",
    "      SELECT team,grp_rank FROM round_0016 where \n",
    "       CASE \n",
    "           WHEN (SELECT concat_ws('', collect_list(grp)) FROM round_0016 WHERE rank = 3) IN ('ABDE','ABDF') THEN grp_rank = 'A3'\n",
    "           WHEN (SELECT concat_ws('', collect_list(grp)) FROM round_0016 WHERE rank = 3) IN ('ABCD','ABCF','ABCE','BCDF','BCEF') THEN grp_rank ='B3'\n",
    "           WHEN (SELECT concat_ws('', collect_list(grp)) FROM round_0016 WHERE rank = 3) IN ('ACDE','ACDF','ACEF','BCDE','BCEF') THEN grp_rank ='C3'\n",
    "           WHEN (SELECT concat_ws('', collect_list(grp)) FROM round_0016 WHERE rank = 3) IN ('ADEF','BDEF','CDEF') THEN grp_rank = 'D3'\n",
    "           END\n",
    "UNION ALL \n",
    "select team,grp_rank from round_0016 where grp_rank = 'D1'\n",
    "UNION ALL \n",
    "select team,grp_rank from round_0016 where grp_rank = 'F2'\n",
    "\n",
    "UNION ALL \n",
    "select team,grp_rank from round_0016 where grp_rank = 'C1'\n",
    "UNION ALL \n",
    "SELECT team,grp_rank FROM round_0016 where \n",
    "       CASE \n",
    "           WHEN (SELECT concat_ws('', collect_list(grp)) FROM round_0016 WHERE rank = 3) IN ('ABCD','ACDE','ACDF','BCDE','BCDF') THEN grp_rank = 'D3'\n",
    "           WHEN (SELECT concat_ws('', collect_list(grp)) FROM round_0016 WHERE rank = 3) IN ('ABCE','ABCF','ABDE','BCEF','BDEF','CDEF') THEN grp_rank ='E3'\n",
    "           WHEN (SELECT concat_ws('', collect_list(grp)) FROM round_0016 WHERE rank = 3) IN ('ABCF','ABDF','ABEF','ACEF','ADEF') THEN grp_rank ='F3'\n",
    "           \n",
    "       END \n",
    "UNION ALL\n",
    "select team,grp_rank from round_0016 where grp_rank = 'A2'\n",
    "UNION ALL \n",
    "\n",
    "select team,grp_rank from round_0016 where grp_rank = 'B2')\n",
    "select team,grp_rank,ntile(8) over(order by (select 0)) as match_id from cte1)\n",
    "select t1.match_id ,t1.team as team1,t2.team as team2 from cte2 t1 join cte2 t2 on t1.match_id = t2.match_id where t1.team > t2.team)\n",
    "select match_id,team1,floor(rand() * 2) as team1_score,team2,case when team1_score = 0 then 1 when team1_score = 1 then 0 end  as team2_score,case when team1_score > team2_score then team1 when team2_score > team1_score then team2 end as winner from cte3)\n",
    "select winner as team,ntile(4) over(order by (select 0)) as quater_final from cte4)\n",
    "\n",
    "select c1.quater_final,c1.team as team1,c2.team as team2 ,floor(rand() * 2) as team1_score ,case when team1_score = 0 then 1 when team1_score = 1 then 0 end as team2_score,\n",
    "case when team1_score < team2_score then team2 when team1_score > team2_score then team1 end as winner from  cte5 c1 join cte5 c2 on c1.quater_final = c2.quater_final where c1.team < c2.team)\n",
    "select winner as team,ntile(2) over(order by (select 0)) as semi_final from cte6\n",
    "\n",
    "\n",
    "\n",
    "\n",
    "\n",
    "\n",
    "\n",
    "\n"
   ]
  },
  {
   "cell_type": "code",
   "execution_count": 0,
   "metadata": {
    "application/vnd.databricks.v1+cell": {
     "cellMetadata": {
      "byteLimit": 2048000,
      "rowLimit": 10000
     },
     "inputWidgets": {},
     "nuid": "dac8abc2-6eb9-44b8-b120-90a8f6526966",
     "showTitle": false,
     "title": ""
    }
   },
   "outputs": [
    {
     "output_type": "display_data",
     "data": {
      "text/html": [
       "<style scoped>\n",
       "  .table-result-container {\n",
       "    max-height: 300px;\n",
       "    overflow: auto;\n",
       "  }\n",
       "  table, th, td {\n",
       "    border: 1px solid black;\n",
       "    border-collapse: collapse;\n",
       "  }\n",
       "  th, td {\n",
       "    padding: 5px;\n",
       "  }\n",
       "  th {\n",
       "    text-align: left;\n",
       "  }\n",
       "</style><div class='table-result-container'><table class='table-result'><thead style='background-color: white'><tr><th>semi_final</th><th>team1</th><th>team2</th><th>team1_score</th><th>team2_score</th><th>winner</th></tr></thead><tbody><tr><td>1</td><td>North Macedonia</td><td>Wales</td><td>1</td><td>0</td><td>North Macedonia</td></tr><tr><td>2</td><td>Italy</td><td>Poland</td><td>1</td><td>0</td><td>Italy</td></tr></tbody></table></div>"
      ]
     },
     "metadata": {
      "application/vnd.databricks.v1+output": {
       "addedWidgets": {},
       "aggData": [],
       "aggError": "",
       "aggOverflow": false,
       "aggSchema": [],
       "aggSeriesLimitReached": false,
       "aggType": "",
       "arguments": {},
       "columnCustomDisplayInfos": {},
       "data": [
        [
         1,
         "North Macedonia",
         "Wales",
         1,
         0,
         "North Macedonia"
        ],
        [
         2,
         "Italy",
         "Poland",
         1,
         0,
         "Italy"
        ]
       ],
       "datasetInfos": [],
       "dbfsResultPath": null,
       "isJsonSchema": true,
       "metadata": {
        "isDbfsCommandResult": false
       },
       "overflow": false,
       "plotOptions": {
        "customPlotOptions": {},
        "displayType": "table",
        "pivotAggregation": null,
        "pivotColumns": null,
        "xColumns": null,
        "yColumns": null
       },
       "removedWidgets": [],
       "schema": [
        {
         "metadata": "{}",
         "name": "semi_final",
         "type": "\"integer\""
        },
        {
         "metadata": "{}",
         "name": "team1",
         "type": "\"string\""
        },
        {
         "metadata": "{}",
         "name": "team2",
         "type": "\"string\""
        },
        {
         "metadata": "{}",
         "name": "team1_score",
         "type": "\"long\""
        },
        {
         "metadata": "{}",
         "name": "team2_score",
         "type": "\"integer\""
        },
        {
         "metadata": "{}",
         "name": "winner",
         "type": "\"string\""
        }
       ],
       "type": "table"
      }
     },
     "output_type": "display_data"
    }
   ],
   "source": [
    "%sql\n",
    "with cte7 as (with cte6 as (with cte5 as (with cte4 as ( with cte3 as (with cte2 as (with cte1 as (SELECT team, grp_rank\n",
    "FROM round_0016\n",
    "WHERE grp_rank = 'B1'\n",
    "\n",
    "UNION \n",
    "\n",
    "SELECT team, grp_rank FROM round_0016\n",
    "WHERE \n",
    "    CASE \n",
    "        WHEN (SELECT CONCAT_WS('', COLLECT_LIST(grp)) FROM round_0016 WHERE rank = 3) IN ('ABCD', 'ABCE', 'ABCF') THEN grp_rank = 'A3'\n",
    "        WHEN (SELECT CONCAT_WS('', COLLECT_LIST(grp)) FROM round_0016 WHERE rank = 3) IN ('ABDF', 'ABDE') THEN grp_rank = 'D3'\n",
    "        WHEN (SELECT CONCAT_WS('', COLLECT_LIST(grp)) FROM round_0016 WHERE rank = 3) IN ('ABEF', 'ACDE', 'ACEF', 'ADEF', 'BCDE') THEN grp_rank = 'E3'\n",
    "        WHEN (SELECT CONCAT_WS('', COLLECT_LIST(grp)) FROM round_0016 WHERE rank = 3) IN ('ACDF', 'BCDF', 'BCEF', 'BDEF', 'CDEF') THEN grp_rank = 'F3'\n",
    "        ELSE FALSE -- Default value in case none of the conditions match\n",
    "    END\n",
    "    UNION\n",
    "SELECT team, grp_rank FROM round_0016\n",
    "WHERE grp_rank = 'A1'\n",
    "UNION \n",
    "SELECT team, grp_rank\n",
    "FROM round_0016\n",
    "WHERE grp_rank = 'C2'\n",
    "union \n",
    "select team,grp_rank from round_0016 where grp_rank  = \"F1\"\n",
    "UNION All\n",
    "SELECT team,grp_rank FROM round_0016 where \n",
    "       CASE \n",
    "           WHEN (SELECT concat_ws('', collect_list(grp)) FROM round_0016 WHERE rank = 3) IN ('ABEF', 'ACDE', 'ACDE','ACEF','ADEF') THEN grp_rank = 'A3'\n",
    "           WHEN (SELECT concat_ws('', collect_list(grp)) FROM round_0016 WHERE rank = 3) IN ('ABDF', 'ABDE','BCDF','BCEF','BDEF') THEN grp_rank ='B3'\n",
    "           WHEN (SELECT concat_ws('', collect_list(grp)) FROM round_0016 WHERE rank = 3) IN ('ABCD', 'ABCE', 'ABCF', 'BCDE', 'CDEF') THEN grp_rank ='C3'\n",
    "           \n",
    "       END \n",
    "UNION  all\n",
    "SELECT team,grp_rank from round_0016 where grp_rank = 'D2'\n",
    "UNION ALL\n",
    "SELECT team,grp_rank from round_0016 where grp_rank = 'E2'\n",
    "union all\n",
    "SELECT team,grp_rank from round_0016 where grp_rank = 'E1'\n",
    "union all\n",
    "\n",
    "\n",
    "      SELECT team,grp_rank FROM round_0016 where \n",
    "       CASE \n",
    "           WHEN (SELECT concat_ws('', collect_list(grp)) FROM round_0016 WHERE rank = 3) IN ('ABDE','ABDF') THEN grp_rank = 'A3'\n",
    "           WHEN (SELECT concat_ws('', collect_list(grp)) FROM round_0016 WHERE rank = 3) IN ('ABCD','ABCF','ABCE','BCDF','BCEF') THEN grp_rank ='B3'\n",
    "           WHEN (SELECT concat_ws('', collect_list(grp)) FROM round_0016 WHERE rank = 3) IN ('ACDE','ACDF','ACEF','BCDE','BCEF') THEN grp_rank ='C3'\n",
    "           WHEN (SELECT concat_ws('', collect_list(grp)) FROM round_0016 WHERE rank = 3) IN ('ADEF','BDEF','CDEF') THEN grp_rank = 'D3'\n",
    "           END\n",
    "UNION ALL \n",
    "select team,grp_rank from round_0016 where grp_rank = 'D1'\n",
    "UNION ALL \n",
    "select team,grp_rank from round_0016 where grp_rank = 'F2'\n",
    "\n",
    "UNION ALL \n",
    "select team,grp_rank from round_0016 where grp_rank = 'C1'\n",
    "UNION ALL \n",
    "SELECT team,grp_rank FROM round_0016 where \n",
    "       CASE \n",
    "           WHEN (SELECT concat_ws('', collect_list(grp)) FROM round_0016 WHERE rank = 3) IN ('ABCD','ACDE','ACDF','BCDE','BCDF') THEN grp_rank = 'D3'\n",
    "           WHEN (SELECT concat_ws('', collect_list(grp)) FROM round_0016 WHERE rank = 3) IN ('ABCE','ABCF','ABDE','BCEF','BDEF','CDEF') THEN grp_rank ='E3'\n",
    "           WHEN (SELECT concat_ws('', collect_list(grp)) FROM round_0016 WHERE rank = 3) IN ('ABCF','ABDF','ABEF','ACEF','ADEF') THEN grp_rank ='F3'\n",
    "           \n",
    "       END \n",
    "UNION ALL\n",
    "select team,grp_rank from round_0016 where grp_rank = 'A2'\n",
    "UNION ALL \n",
    "\n",
    "select team,grp_rank from round_0016 where grp_rank = 'B2')\n",
    "select team,grp_rank,ntile(8) over(order by (select 0)) as match_id from cte1)\n",
    "select t1.match_id ,t1.team as team1,t2.team as team2 from cte2 t1 join cte2 t2 on t1.match_id = t2.match_id where t1.team > t2.team)\n",
    "select match_id,team1,floor(rand() * 2) as team1_score,team2,case when team1_score = 0 then 1 when team1_score = 1 then 0 end  as team2_score,case when team1_score > team2_score then team1 when team2_score > team1_score then team2 end as winner from cte3)\n",
    "select winner as team,ntile(4) over(order by (select 0)) as quater_final from cte4)\n",
    "\n",
    "select c1.quater_final,c1.team as team1,c2.team as team2 ,floor(rand() * 2) as team1_score ,case when team1_score = 0 then 1 when team1_score = 1 then 0 end as team2_score,\n",
    "case when team1_score < team2_score then team2 when team1_score > team2_score then team1 end as winner from  cte5 c1 join cte5 c2 on c1.quater_final = c2.quater_final where c1.team < c2.team)\n",
    "select winner as team,ntile(2) over(order by (select 0)) as semi_final from cte6)\n",
    "select a1.semi_final,a1.team as team1,a2.team as team2,floor(rand() * 2) as team1_score ,case when team1_score = 0 then 1 when team1_score = 1 then 0 end as team2_score,\n",
    "case when team1_score < team2_score then team2 when team1_score > team2_score then team1 end as winner from cte7 a1 join cte7 a2 on a1.semi_final = a2.semi_final where \n",
    "a1.team < a2.team\n",
    "\n",
    "\n",
    "\n",
    "\n",
    "\n",
    "\n",
    "\n"
   ]
  },
  {
   "cell_type": "code",
   "execution_count": 0,
   "metadata": {
    "application/vnd.databricks.v1+cell": {
     "cellMetadata": {
      "byteLimit": 2048000,
      "rowLimit": 10000
     },
     "inputWidgets": {},
     "nuid": "35b0099d-4935-4e82-af4b-7e63412bb909",
     "showTitle": false,
     "title": ""
    }
   },
   "outputs": [
    {
     "output_type": "display_data",
     "data": {
      "text/html": [
       "<style scoped>\n",
       "  .table-result-container {\n",
       "    max-height: 300px;\n",
       "    overflow: auto;\n",
       "  }\n",
       "  table, th, td {\n",
       "    border: 1px solid black;\n",
       "    border-collapse: collapse;\n",
       "  }\n",
       "  th, td {\n",
       "    padding: 5px;\n",
       "  }\n",
       "  th {\n",
       "    text-align: left;\n",
       "  }\n",
       "</style><div class='table-result-container'><table class='table-result'><thead style='background-color: white'><tr><th>team</th><th>finalists</th></tr></thead><tbody><tr><td>Sweden</td><td>1</td></tr><tr><td>Belgium</td><td>1</td></tr></tbody></table></div>"
      ]
     },
     "metadata": {
      "application/vnd.databricks.v1+output": {
       "addedWidgets": {},
       "aggData": [],
       "aggError": "",
       "aggOverflow": false,
       "aggSchema": [],
       "aggSeriesLimitReached": false,
       "aggType": "",
       "arguments": {},
       "columnCustomDisplayInfos": {},
       "data": [
        [
         "Sweden",
         1
        ],
        [
         "Belgium",
         1
        ]
       ],
       "datasetInfos": [],
       "dbfsResultPath": null,
       "isJsonSchema": true,
       "metadata": {
        "isDbfsCommandResult": false
       },
       "overflow": false,
       "plotOptions": {
        "customPlotOptions": {},
        "displayType": "table",
        "pivotAggregation": null,
        "pivotColumns": null,
        "xColumns": null,
        "yColumns": null
       },
       "removedWidgets": [],
       "schema": [
        {
         "metadata": "{}",
         "name": "team",
         "type": "\"string\""
        },
        {
         "metadata": "{}",
         "name": "finalists",
         "type": "\"integer\""
        }
       ],
       "type": "table"
      }
     },
     "output_type": "display_data"
    }
   ],
   "source": [
    "%sql\n",
    "with cte8 as (with cte7 as (with cte6 as (with cte5 as (with cte4 as ( with cte3 as (with cte2 as (with cte1 as (SELECT team, grp_rank\n",
    "FROM round_0016\n",
    "WHERE grp_rank = 'B1'\n",
    "\n",
    "UNION \n",
    "\n",
    "SELECT team, grp_rank FROM round_0016\n",
    "WHERE \n",
    "    CASE \n",
    "        WHEN (SELECT CONCAT_WS('', COLLECT_LIST(grp)) FROM round_0016 WHERE rank = 3) IN ('ABCD', 'ABCE', 'ABCF') THEN grp_rank = 'A3'\n",
    "        WHEN (SELECT CONCAT_WS('', COLLECT_LIST(grp)) FROM round_0016 WHERE rank = 3) IN ('ABDF', 'ABDE') THEN grp_rank = 'D3'\n",
    "        WHEN (SELECT CONCAT_WS('', COLLECT_LIST(grp)) FROM round_0016 WHERE rank = 3) IN ('ABEF', 'ACDE', 'ACEF', 'ADEF', 'BCDE') THEN grp_rank = 'E3'\n",
    "        WHEN (SELECT CONCAT_WS('', COLLECT_LIST(grp)) FROM round_0016 WHERE rank = 3) IN ('ACDF', 'BCDF', 'BCEF', 'BDEF', 'CDEF') THEN grp_rank = 'F3'\n",
    "        ELSE FALSE -- Default value in case none of the conditions match\n",
    "    END\n",
    "    UNION\n",
    "SELECT team, grp_rank FROM round_0016\n",
    "WHERE grp_rank = 'A1'\n",
    "UNION \n",
    "SELECT team, grp_rank\n",
    "FROM round_0016\n",
    "WHERE grp_rank = 'C2'\n",
    "union \n",
    "select team,grp_rank from round_0016 where grp_rank  = \"F1\"\n",
    "UNION All\n",
    "SELECT team,grp_rank FROM round_0016 where \n",
    "       CASE \n",
    "           WHEN (SELECT concat_ws('', collect_list(grp)) FROM round_0016 WHERE rank = 3) IN ('ABEF', 'ACDE', 'ACDE','ACEF','ADEF') THEN grp_rank = 'A3'\n",
    "           WHEN (SELECT concat_ws('', collect_list(grp)) FROM round_0016 WHERE rank = 3) IN ('ABDF', 'ABDE','BCDF','BCEF','BDEF') THEN grp_rank ='B3'\n",
    "           WHEN (SELECT concat_ws('', collect_list(grp)) FROM round_0016 WHERE rank = 3) IN ('ABCD', 'ABCE', 'ABCF', 'BCDE', 'CDEF') THEN grp_rank ='C3'\n",
    "           \n",
    "       END \n",
    "UNION  all\n",
    "SELECT team,grp_rank from round_0016 where grp_rank = 'D2'\n",
    "UNION ALL\n",
    "SELECT team,grp_rank from round_0016 where grp_rank = 'E2'\n",
    "union all\n",
    "SELECT team,grp_rank from round_0016 where grp_rank = 'E1'\n",
    "union all\n",
    "\n",
    "\n",
    "      SELECT team,grp_rank FROM round_0016 where \n",
    "       CASE \n",
    "           WHEN (SELECT concat_ws('', collect_list(grp)) FROM round_0016 WHERE rank = 3) IN ('ABDE','ABDF') THEN grp_rank = 'A3'\n",
    "           WHEN (SELECT concat_ws('', collect_list(grp)) FROM round_0016 WHERE rank = 3) IN ('ABCD','ABCF','ABCE','BCDF','BCEF') THEN grp_rank ='B3'\n",
    "           WHEN (SELECT concat_ws('', collect_list(grp)) FROM round_0016 WHERE rank = 3) IN ('ACDE','ACDF','ACEF','BCDE','BCEF') THEN grp_rank ='C3'\n",
    "           WHEN (SELECT concat_ws('', collect_list(grp)) FROM round_0016 WHERE rank = 3) IN ('ADEF','BDEF','CDEF') THEN grp_rank = 'D3'\n",
    "           END\n",
    "UNION ALL \n",
    "select team,grp_rank from round_0016 where grp_rank = 'D1'\n",
    "UNION ALL \n",
    "select team,grp_rank from round_0016 where grp_rank = 'F2'\n",
    "\n",
    "UNION ALL \n",
    "select team,grp_rank from round_0016 where grp_rank = 'C1'\n",
    "UNION ALL \n",
    "SELECT team,grp_rank FROM round_0016 where \n",
    "       CASE \n",
    "           WHEN (SELECT concat_ws('', collect_list(grp)) FROM round_0016 WHERE rank = 3) IN ('ABCD','ACDE','ACDF','BCDE','BCDF') THEN grp_rank = 'D3'\n",
    "           WHEN (SELECT concat_ws('', collect_list(grp)) FROM round_0016 WHERE rank = 3) IN ('ABCE','ABCF','ABDE','BCEF','BDEF','CDEF') THEN grp_rank ='E3'\n",
    "           WHEN (SELECT concat_ws('', collect_list(grp)) FROM round_0016 WHERE rank = 3) IN ('ABCF','ABDF','ABEF','ACEF','ADEF') THEN grp_rank ='F3'\n",
    "           \n",
    "       END \n",
    "UNION ALL\n",
    "select team,grp_rank from round_0016 where grp_rank = 'A2'\n",
    "UNION ALL \n",
    "\n",
    "select team,grp_rank from round_0016 where grp_rank = 'B2')\n",
    "select team,grp_rank,ntile(8) over(order by (select 0)) as match_id from cte1)\n",
    "select t1.match_id ,t1.team as team1,t2.team as team2 from cte2 t1 join cte2 t2 on t1.match_id = t2.match_id where t1.team > t2.team)\n",
    "select match_id,team1,floor(rand() * 2) as team1_score,team2,case when team1_score = 0 then 1 when team1_score = 1 then 0 end  as team2_score,case when team1_score > team2_score then team1 when team2_score > team1_score then team2 end as winner from cte3)\n",
    "select winner as team,ntile(4) over(order by (select 0)) as quater_final from cte4)\n",
    "\n",
    "select c1.quater_final,c1.team as team1,c2.team as team2 ,floor(rand() * 2) as team1_score ,case when team1_score = 0 then 1 when team1_score = 1 then 0 end as team2_score,\n",
    "case when team1_score < team2_score then team2 when team1_score > team2_score then team1 end as winner from  cte5 c1 join cte5 c2 on c1.quater_final = c2.quater_final where c1.team < c2.team)\n",
    "select winner as team,ntile(2) over(order by (select 0)) as semi_final from cte6)\n",
    "select a1.semi_final,a1.team as team1,a2.team as team2,floor(rand() * 2) as team1_score ,case when team1_score = 0 then 1 when team1_score = 1 then 0 end as team2_score,\n",
    "case when team1_score < team2_score then team2 when team1_score > team2_score then team1 end as winner from cte7 a1 join cte7 a2 on a1.semi_final = a2.semi_final where \n",
    "a1.team < a2.team)\n",
    "select winner as team,ntile(1) over(order by (select 0)) as finalists from cte8\n",
    "\n",
    "\n",
    "\n",
    "\n",
    "\n",
    "\n",
    "\n"
   ]
  },
  {
   "cell_type": "code",
   "execution_count": 0,
   "metadata": {
    "application/vnd.databricks.v1+cell": {
     "cellMetadata": {
      "byteLimit": 2048000,
      "rowLimit": 10000
     },
     "inputWidgets": {},
     "nuid": "9ca323f9-b4f8-4fab-aa68-03daa49b5a53",
     "showTitle": false,
     "title": ""
    }
   },
   "outputs": [
    {
     "output_type": "display_data",
     "data": {
      "text/html": [
       "<style scoped>\n",
       "  .table-result-container {\n",
       "    max-height: 300px;\n",
       "    overflow: auto;\n",
       "  }\n",
       "  table, th, td {\n",
       "    border: 1px solid black;\n",
       "    border-collapse: collapse;\n",
       "  }\n",
       "  th, td {\n",
       "    padding: 5px;\n",
       "  }\n",
       "  th {\n",
       "    text-align: left;\n",
       "  }\n",
       "</style><div class='table-result-container'><table class='table-result'><thead style='background-color: white'><tr><th>finalists</th><th>team1</th><th>team2</th><th>team1_score</th><th>team2_score</th><th>winner</th></tr></thead><tbody><tr><td>1</td><td>Ukraine</td><td>Wales</td><td>1</td><td>0</td><td>Ukraine</td></tr></tbody></table></div>"
      ]
     },
     "metadata": {
      "application/vnd.databricks.v1+output": {
       "addedWidgets": {},
       "aggData": [],
       "aggError": "",
       "aggOverflow": false,
       "aggSchema": [],
       "aggSeriesLimitReached": false,
       "aggType": "",
       "arguments": {},
       "columnCustomDisplayInfos": {},
       "data": [
        [
         1,
         "Ukraine",
         "Wales",
         1,
         0,
         "Ukraine"
        ]
       ],
       "datasetInfos": [],
       "dbfsResultPath": null,
       "isJsonSchema": true,
       "metadata": {
        "isDbfsCommandResult": false
       },
       "overflow": false,
       "plotOptions": {
        "customPlotOptions": {},
        "displayType": "table",
        "pivotAggregation": null,
        "pivotColumns": null,
        "xColumns": null,
        "yColumns": null
       },
       "removedWidgets": [],
       "schema": [
        {
         "metadata": "{}",
         "name": "finalists",
         "type": "\"integer\""
        },
        {
         "metadata": "{}",
         "name": "team1",
         "type": "\"string\""
        },
        {
         "metadata": "{}",
         "name": "team2",
         "type": "\"string\""
        },
        {
         "metadata": "{}",
         "name": "team1_score",
         "type": "\"long\""
        },
        {
         "metadata": "{}",
         "name": "team2_score",
         "type": "\"integer\""
        },
        {
         "metadata": "{}",
         "name": "winner",
         "type": "\"string\""
        }
       ],
       "type": "table"
      }
     },
     "output_type": "display_data"
    }
   ],
   "source": [
    "%sql\n",
    "with cte9 as (with cte8 as (with cte7 as (with cte6 as (with cte5 as (with cte4 as ( with cte3 as (with cte2 as (with cte1 as (SELECT team, grp_rank\n",
    "FROM round_0016\n",
    "WHERE grp_rank = 'B1'\n",
    "\n",
    "UNION \n",
    "\n",
    "SELECT team, grp_rank FROM round_0016\n",
    "WHERE \n",
    "    CASE \n",
    "        WHEN (SELECT CONCAT_WS('', COLLECT_LIST(grp)) FROM round_0016 WHERE rank = 3) IN ('ABCD', 'ABCE', 'ABCF') THEN grp_rank = 'A3'\n",
    "        WHEN (SELECT CONCAT_WS('', COLLECT_LIST(grp)) FROM round_0016 WHERE rank = 3) IN ('ABDF', 'ABDE') THEN grp_rank = 'D3'\n",
    "        WHEN (SELECT CONCAT_WS('', COLLECT_LIST(grp)) FROM round_0016 WHERE rank = 3) IN ('ABEF', 'ACDE', 'ACEF', 'ADEF', 'BCDE') THEN grp_rank = 'E3'\n",
    "        WHEN (SELECT CONCAT_WS('', COLLECT_LIST(grp)) FROM round_0016 WHERE rank = 3) IN ('ACDF', 'BCDF', 'BCEF', 'BDEF', 'CDEF') THEN grp_rank = 'F3'\n",
    "        ELSE FALSE -- Default value in case none of the conditions match\n",
    "    END\n",
    "    UNION\n",
    "SELECT team, grp_rank FROM round_0016\n",
    "WHERE grp_rank = 'A1'\n",
    "UNION \n",
    "SELECT team, grp_rank\n",
    "FROM round_0016\n",
    "WHERE grp_rank = 'C2'\n",
    "union \n",
    "select team,grp_rank from round_0016 where grp_rank  = \"F1\"\n",
    "UNION All\n",
    "SELECT team,grp_rank FROM round_0016 where \n",
    "       CASE \n",
    "           WHEN (SELECT concat_ws('', collect_list(grp)) FROM round_0016 WHERE rank = 3) IN ('ABEF', 'ACDE', 'ACDE','ACEF','ADEF') THEN grp_rank = 'A3'\n",
    "           WHEN (SELECT concat_ws('', collect_list(grp)) FROM round_0016 WHERE rank = 3) IN ('ABDF', 'ABDE','BCDF','BCEF','BDEF') THEN grp_rank ='B3'\n",
    "           WHEN (SELECT concat_ws('', collect_list(grp)) FROM round_0016 WHERE rank = 3) IN ('ABCD', 'ABCE', 'ABCF', 'BCDE', 'CDEF') THEN grp_rank ='C3'\n",
    "           \n",
    "       END \n",
    "UNION  all\n",
    "SELECT team,grp_rank from round_0016 where grp_rank = 'D2'\n",
    "UNION ALL\n",
    "SELECT team,grp_rank from round_0016 where grp_rank = 'E2'\n",
    "union all\n",
    "SELECT team,grp_rank from round_0016 where grp_rank = 'E1'\n",
    "union all\n",
    "\n",
    "\n",
    "      SELECT team,grp_rank FROM round_0016 where \n",
    "       CASE \n",
    "           WHEN (SELECT concat_ws('', collect_list(grp)) FROM round_0016 WHERE rank = 3) IN ('ABDE','ABDF') THEN grp_rank = 'A3'\n",
    "           WHEN (SELECT concat_ws('', collect_list(grp)) FROM round_0016 WHERE rank = 3) IN ('ABCD','ABCF','ABCE','BCDF','BCEF') THEN grp_rank ='B3'\n",
    "           WHEN (SELECT concat_ws('', collect_list(grp)) FROM round_0016 WHERE rank = 3) IN ('ACDE','ACDF','ACEF','BCDE','BCEF') THEN grp_rank ='C3'\n",
    "           WHEN (SELECT concat_ws('', collect_list(grp)) FROM round_0016 WHERE rank = 3) IN ('ADEF','BDEF','CDEF') THEN grp_rank = 'D3'\n",
    "           END\n",
    "UNION ALL \n",
    "select team,grp_rank from round_0016 where grp_rank = 'D1'\n",
    "UNION ALL \n",
    "select team,grp_rank from round_0016 where grp_rank = 'F2'\n",
    "\n",
    "UNION ALL \n",
    "select team,grp_rank from round_0016 where grp_rank = 'C1'\n",
    "UNION ALL \n",
    "SELECT team,grp_rank FROM round_0016 where \n",
    "       CASE \n",
    "           WHEN (SELECT concat_ws('', collect_list(grp)) FROM round_0016 WHERE rank = 3) IN ('ABCD','ACDE','ACDF','BCDE','BCDF') THEN grp_rank = 'D3'\n",
    "           WHEN (SELECT concat_ws('', collect_list(grp)) FROM round_0016 WHERE rank = 3) IN ('ABCE','ABCF','ABDE','BCEF','BDEF','CDEF') THEN grp_rank ='E3'\n",
    "           WHEN (SELECT concat_ws('', collect_list(grp)) FROM round_0016 WHERE rank = 3) IN ('ABCF','ABDF','ABEF','ACEF','ADEF') THEN grp_rank ='F3'\n",
    "           \n",
    "       END \n",
    "UNION ALL\n",
    "select team,grp_rank from round_0016 where grp_rank = 'A2'\n",
    "UNION ALL \n",
    "\n",
    "select team,grp_rank from round_0016 where grp_rank = 'B2')\n",
    "select team,grp_rank,ntile(8) over(order by (select 0)) as match_id from cte1)\n",
    "select t1.match_id ,t1.team as team1,t2.team as team2 from cte2 t1 join cte2 t2 on t1.match_id = t2.match_id where t1.team > t2.team)\n",
    "select match_id,team1,floor(rand() * 2) as team1_score,team2,case when team1_score = 0 then 1 when team1_score = 1 then 0 end  as team2_score,case when team1_score > team2_score then team1 when team2_score > team1_score then team2 end as winner from cte3)\n",
    "select winner as team,ntile(4) over(order by (select 0)) as quater_final from cte4)\n",
    "\n",
    "select c1.quater_final,c1.team as team1,c2.team as team2 ,floor(rand() * 2) as team1_score ,case when team1_score = 0 then 1 when team1_score = 1 then 0 end as team2_score,\n",
    "case when team1_score < team2_score then team2 when team1_score > team2_score then team1 end as winner from  cte5 c1 join cte5 c2 on c1.quater_final = c2.quater_final where c1.team < c2.team)\n",
    "select winner as team,ntile(2) over(order by (select 0)) as semi_final from cte6)\n",
    "select a1.semi_final,a1.team as team1,a2.team as team2,floor(rand() * 2) as team1_score ,case when team1_score = 0 then 1 when team1_score = 1 then 0 end as team2_score,\n",
    "case when team1_score < team2_score then team2 when team1_score > team2_score then team1 end as winner from cte7 a1 join cte7 a2 on a1.semi_final = a2.semi_final where \n",
    "a1.team < a2.team)\n",
    "select winner as team,ntile(1) over(order by (select 0)) as finalists from cte8)\n",
    "select b1.finalists, b1.team as team1 ,b2.team as team2,floor(rand() * 2) as team1_score ,case when team1_score = 0 then 1 when team1_score = 1 then 0 end as team2_score,\n",
    "case when team1_score < team2_score then team2 when team1_score > team2_score then team1 end as winner from cte9 b1 join cte9 b2 on b1.finalists = b2.finalists where b1.team < b2.team\n",
    "\n",
    "\n",
    "\n",
    "\n",
    "\n",
    "\n",
    "\n"
   ]
  },
  {
   "cell_type": "code",
   "execution_count": 0,
   "metadata": {
    "application/vnd.databricks.v1+cell": {
     "cellMetadata": {},
     "inputWidgets": {},
     "nuid": "26e9afce-4936-4431-894e-8e9e98a6185f",
     "showTitle": false,
     "title": ""
    }
   },
   "outputs": [],
   "source": []
  }
 ],
 "metadata": {
  "application/vnd.databricks.v1+notebook": {
   "dashboards": [],
   "language": "python",
   "notebookMetadata": {
    "mostRecentlyExecutedCommandWithImplicitDF": {
     "commandId": -1,
     "dataframes": [
      "_sqldf"
     ]
    },
    "pythonIndentUnit": 4
   },
   "notebookName": "EURO_CUP_2024",
   "widgets": {}
  }
 },
 "nbformat": 4,
 "nbformat_minor": 0
}
