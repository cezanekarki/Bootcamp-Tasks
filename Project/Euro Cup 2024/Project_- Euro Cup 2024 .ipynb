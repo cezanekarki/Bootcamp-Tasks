{
 "cells": [
  {
   "cell_type": "code",
   "execution_count": 0,
   "metadata": {
    "application/vnd.databricks.v1+cell": {
     "cellMetadata": {
      "byteLimit": 2048000,
      "rowLimit": 10000
     },
     "inputWidgets": {},
     "nuid": "b22d6d4a-fb8f-4f33-af92-1c33f8177c99",
     "showTitle": false,
     "title": ""
    }
   },
   "outputs": [],
   "source": [
    "from pyspark.sql import SparkSession\n",
    "from pyspark.sql import functions as F\n",
    "from pyspark.sql.window import Window\n",
    "from pyspark.sql.functions import row_number\n",
    "\n",
    "# Initialize Spark session\n",
    "spark = SparkSession.builder.appName(\"EuroCup2024\").getOrCreate()"
   ]
  },
  {
   "cell_type": "code",
   "execution_count": 0,
   "metadata": {
    "application/vnd.databricks.v1+cell": {
     "cellMetadata": {
      "byteLimit": 2048000,
      "rowLimit": 10000
     },
     "inputWidgets": {},
     "nuid": "1d852aa4-870c-4391-bc58-d2d08dad76ba",
     "showTitle": false,
     "title": ""
    }
   },
   "outputs": [],
   "source": [
    "columns = [ \"grp\", \"team\"]\n",
    "data = [\n",
    "    [\"A\", \"Germany\"],\n",
    "    [\"A\", \"Scotland\"],\n",
    "    [\"A\", \"Hungary\"],\n",
    "    [\"A\", \"Switzerland\"],\n",
    "    [\"B\", \"Spain\"],\n",
    "    [\"B\", \"Croatia\"],\n",
    "    [\"B\", \"Italy\"],\n",
    "    [\"B\", \"Albania\"],\n",
    "    [\"C\", \"Slovenia\"],\n",
    "    [\"C\", \"Denmark\"],\n",
    "    [\"C\", \"Serbia\"],\n",
    "    [\"C\", \"England\"],\n",
    "    [\"D\", \"Finland\"],    #playoff winner A  \n",
    "    [\"D\", \"Netherlands\"],\n",
    "    [\"D\", \"Austria\"],\n",
    "    [\"D\", \"France\"],     \n",
    "    [\"E\", \"Belgium\"],\n",
    "    [\"E\", \"Slovakia\"],\n",
    "    [\"E\", \"Romania\"],\n",
    "    [\"E\", \"Iceland\"],   #playoff winner B\n",
    "    [\"F\", \"Türkiye\"],\n",
    "    [\"F\", \"Greece\"],    #playoff winner C  \n",
    "    [\"F\", \"Portugal\"],\n",
    "    [\"F\", \"Czechia\"]\n",
    "]\n",
    "\n",
    "teams = spark.createDataFrame(data, columns)\n"
   ]
  },
  {
   "cell_type": "code",
   "execution_count": 0,
   "metadata": {
    "application/vnd.databricks.v1+cell": {
     "cellMetadata": {
      "byteLimit": 2048000,
      "implicitDf": true,
      "rowLimit": 10000
     },
     "inputWidgets": {},
     "nuid": "c5a5e7f9-0078-4481-8a88-6c79d5701f43",
     "showTitle": false,
     "title": ""
    }
   },
   "outputs": [
    {
     "output_type": "display_data",
     "data": {
      "text/html": [
       "<style scoped>\n",
       "  .table-result-container {\n",
       "    max-height: 300px;\n",
       "    overflow: auto;\n",
       "  }\n",
       "  table, th, td {\n",
       "    border: 1px solid black;\n",
       "    border-collapse: collapse;\n",
       "  }\n",
       "  th, td {\n",
       "    padding: 5px;\n",
       "  }\n",
       "  th {\n",
       "    text-align: left;\n",
       "  }\n",
       "</style><div class='table-result-container'><table class='table-result'><thead style='background-color: white'><tr><th>team</th><th>grp</th><th>mp</th><th>win</th><th>draw</th><th>loss</th><th>gf</th><th>ga</th><th>gd</th><th>pts</th></tr></thead><tbody><tr><td>Hungary</td><td>A</td><td>3</td><td>2</td><td>1</td><td>0</td><td>7</td><td>5</td><td>2</td><td>7</td></tr><tr><td>Scotland</td><td>A</td><td>3</td><td>1</td><td>1</td><td>1</td><td>10</td><td>7</td><td>3</td><td>4</td></tr><tr><td>Germany</td><td>A</td><td>3</td><td>1</td><td>0</td><td>2</td><td>6</td><td>7</td><td>-1</td><td>3</td></tr><tr><td>Switzerland</td><td>A</td><td>3</td><td>1</td><td>0</td><td>2</td><td>9</td><td>7</td><td>2</td><td>3</td></tr><tr><td>Italy</td><td>B</td><td>3</td><td>2</td><td>1</td><td>0</td><td>5</td><td>7</td><td>-2</td><td>7</td></tr><tr><td>Spain</td><td>B</td><td>3</td><td>2</td><td>0</td><td>1</td><td>8</td><td>10</td><td>-2</td><td>6</td></tr><tr><td>Albania</td><td>B</td><td>3</td><td>0</td><td>1</td><td>2</td><td>5</td><td>6</td><td>-1</td><td>2</td></tr><tr><td>Croatia</td><td>B</td><td>3</td><td>0</td><td>1</td><td>2</td><td>6</td><td>11</td><td>-5</td><td>1</td></tr><tr><td>Serbia</td><td>C</td><td>3</td><td>2</td><td>0</td><td>1</td><td>4</td><td>3</td><td>1</td><td>6</td></tr><tr><td>England</td><td>C</td><td>3</td><td>2</td><td>0</td><td>1</td><td>8</td><td>2</td><td>6</td><td>6</td></tr><tr><td>Denmark</td><td>C</td><td>3</td><td>2</td><td>0</td><td>1</td><td>5</td><td>4</td><td>1</td><td>6</td></tr><tr><td>Slovenia</td><td>C</td><td>3</td><td>0</td><td>0</td><td>3</td><td>7</td><td>1</td><td>6</td><td>0</td></tr><tr><td>France</td><td>D</td><td>3</td><td>2</td><td>0</td><td>1</td><td>6</td><td>5</td><td>1</td><td>6</td></tr><tr><td>Finland</td><td>D</td><td>3</td><td>1</td><td>1</td><td>1</td><td>3</td><td>8</td><td>-5</td><td>4</td></tr><tr><td>Austria</td><td>D</td><td>3</td><td>1</td><td>1</td><td>1</td><td>8</td><td>9</td><td>-1</td><td>4</td></tr><tr><td>Netherlands</td><td>D</td><td>3</td><td>0</td><td>1</td><td>2</td><td>5</td><td>4</td><td>1</td><td>2</td></tr><tr><td>Romania</td><td>E</td><td>3</td><td>3</td><td>0</td><td>0</td><td>6</td><td>10</td><td>-4</td><td>9</td></tr><tr><td>Iceland</td><td>E</td><td>3</td><td>1</td><td>1</td><td>1</td><td>6</td><td>7</td><td>-1</td><td>4</td></tr><tr><td>Belgium</td><td>E</td><td>3</td><td>1</td><td>1</td><td>1</td><td>7</td><td>7</td><td>0</td><td>4</td></tr><tr><td>Slovakia</td><td>E</td><td>3</td><td>0</td><td>0</td><td>3</td><td>9</td><td>4</td><td>5</td><td>0</td></tr><tr><td>Portugal</td><td>F</td><td>3</td><td>1</td><td>1</td><td>1</td><td>9</td><td>5</td><td>4</td><td>5</td></tr><tr><td>Czechia</td><td>F</td><td>3</td><td>1</td><td>1</td><td>1</td><td>7</td><td>4</td><td>3</td><td>5</td></tr><tr><td>Türkiye</td><td>F</td><td>3</td><td>1</td><td>0</td><td>2</td><td>9</td><td>4</td><td>5</td><td>3</td></tr><tr><td>Greece</td><td>F</td><td>3</td><td>0</td><td>1</td><td>2</td><td>7</td><td>9</td><td>-2</td><td>2</td></tr></tbody></table></div>"
      ]
     },
     "metadata": {
      "application/vnd.databricks.v1+output": {
       "addedWidgets": {},
       "aggData": [],
       "aggError": "",
       "aggOverflow": false,
       "aggSchema": [],
       "aggSeriesLimitReached": false,
       "aggType": "",
       "arguments": {},
       "columnCustomDisplayInfos": {},
       "data": [
        [
         "Hungary",
         "A",
         3,
         2,
         1,
         0,
         7,
         5,
         2,
         7
        ],
        [
         "Scotland",
         "A",
         3,
         1,
         1,
         1,
         10,
         7,
         3,
         4
        ],
        [
         "Germany",
         "A",
         3,
         1,
         0,
         2,
         6,
         7,
         -1,
         3
        ],
        [
         "Switzerland",
         "A",
         3,
         1,
         0,
         2,
         9,
         7,
         2,
         3
        ],
        [
         "Italy",
         "B",
         3,
         2,
         1,
         0,
         5,
         7,
         -2,
         7
        ],
        [
         "Spain",
         "B",
         3,
         2,
         0,
         1,
         8,
         10,
         -2,
         6
        ],
        [
         "Albania",
         "B",
         3,
         0,
         1,
         2,
         5,
         6,
         -1,
         2
        ],
        [
         "Croatia",
         "B",
         3,
         0,
         1,
         2,
         6,
         11,
         -5,
         1
        ],
        [
         "Serbia",
         "C",
         3,
         2,
         0,
         1,
         4,
         3,
         1,
         6
        ],
        [
         "England",
         "C",
         3,
         2,
         0,
         1,
         8,
         2,
         6,
         6
        ],
        [
         "Denmark",
         "C",
         3,
         2,
         0,
         1,
         5,
         4,
         1,
         6
        ],
        [
         "Slovenia",
         "C",
         3,
         0,
         0,
         3,
         7,
         1,
         6,
         0
        ],
        [
         "France",
         "D",
         3,
         2,
         0,
         1,
         6,
         5,
         1,
         6
        ],
        [
         "Finland",
         "D",
         3,
         1,
         1,
         1,
         3,
         8,
         -5,
         4
        ],
        [
         "Austria",
         "D",
         3,
         1,
         1,
         1,
         8,
         9,
         -1,
         4
        ],
        [
         "Netherlands",
         "D",
         3,
         0,
         1,
         2,
         5,
         4,
         1,
         2
        ],
        [
         "Romania",
         "E",
         3,
         3,
         0,
         0,
         6,
         10,
         -4,
         9
        ],
        [
         "Iceland",
         "E",
         3,
         1,
         1,
         1,
         6,
         7,
         -1,
         4
        ],
        [
         "Belgium",
         "E",
         3,
         1,
         1,
         1,
         7,
         7,
         0,
         4
        ],
        [
         "Slovakia",
         "E",
         3,
         0,
         0,
         3,
         9,
         4,
         5,
         0
        ],
        [
         "Portugal",
         "F",
         3,
         1,
         1,
         1,
         9,
         5,
         4,
         5
        ],
        [
         "Czechia",
         "F",
         3,
         1,
         1,
         1,
         7,
         4,
         3,
         5
        ],
        [
         "Türkiye",
         "F",
         3,
         1,
         0,
         2,
         9,
         4,
         5,
         3
        ],
        [
         "Greece",
         "F",
         3,
         0,
         1,
         2,
         7,
         9,
         -2,
         2
        ]
       ],
       "datasetInfos": [],
       "dbfsResultPath": null,
       "isJsonSchema": true,
       "metadata": {},
       "overflow": false,
       "plotOptions": {
        "customPlotOptions": {},
        "displayType": "table",
        "pivotAggregation": null,
        "pivotColumns": null,
        "xColumns": null,
        "yColumns": null
       },
       "removedWidgets": [],
       "schema": [
        {
         "metadata": "{}",
         "name": "team",
         "type": "\"string\""
        },
        {
         "metadata": "{}",
         "name": "grp",
         "type": "\"string\""
        },
        {
         "metadata": "{}",
         "name": "mp",
         "type": "\"integer\""
        },
        {
         "metadata": "{}",
         "name": "win",
         "type": "\"long\""
        },
        {
         "metadata": "{}",
         "name": "draw",
         "type": "\"integer\""
        },
        {
         "metadata": "{}",
         "name": "loss",
         "type": "\"integer\""
        },
        {
         "metadata": "{}",
         "name": "gf",
         "type": "\"long\""
        },
        {
         "metadata": "{}",
         "name": "ga",
         "type": "\"long\""
        },
        {
         "metadata": "{}",
         "name": "gd",
         "type": "\"long\""
        },
        {
         "metadata": "{}",
         "name": "pts",
         "type": "\"long\""
        }
       ],
       "type": "table"
      }
     },
     "output_type": "display_data"
    }
   ],
   "source": [
    "#generate points table \n",
    "\n",
    "teams.createOrReplaceTempView(\"teams\")\n",
    "# query fro points table\n",
    "group_stage_df = spark.sql(\n",
    "\"\"\"\n",
    "WITH cte2 AS (\n",
    "        WITH cte AS (\n",
    "            SELECT CONCAT(a.team, \" VS \", b.team) AS match_fixtures,\n",
    "                a.team AS team1, a.grp AS grp1, b.team AS team2, b.grp AS grp2,\n",
    "                FLOOR(RAND()*5) AS team1_score, FLOOR(RAND()*5) AS team2_score,\n",
    "                CASE WHEN team1_score > team2_score THEN 3\n",
    "                        WHEN team1_score = team2_score THEN 1 ELSE 0 END AS team1pts,\n",
    "                CASE WHEN team1_score < team2_score THEN 3\n",
    "                        WHEN team1_score = team2_score THEN 1 ELSE 0 END AS team2pts\n",
    "            FROM teams a\n",
    "            CROSS JOIN teams b\n",
    "            ON a.grp = b.grp AND a.team < b.team\n",
    "        )\n",
    "        SELECT team1, grp1, team1_score, team2_score, team1pts \n",
    "        FROM cte \n",
    "        UNION ALL \n",
    "        SELECT team2, grp2, team1_score, team2_score, team2pts AS pts \n",
    "        FROM cte \n",
    "        )\n",
    "        SELECT team1 AS team, grp1 AS grp, 3 AS mp,\n",
    "            FLOOR(SUM(team1pts)/3) AS win,\n",
    "            CASE WHEN SUM(team1pts) % 3 = 0 THEN 0 ELSE 1 END AS draw,\n",
    "            CASE WHEN win + draw = 3 THEN 0\n",
    "                    WHEN win + draw = 2 THEN 1\n",
    "                    WHEN win + draw = 1 THEN 2 ELSE 3 END AS loss,\n",
    "            SUM(team1_score) AS gf,\n",
    "            SUM(team2_score) AS ga,\n",
    "            SUM(team1_score) - SUM(team2_score) AS gd,\n",
    "            SUM(team1pts) AS pts\n",
    "        FROM cte2 \n",
    "        GROUP BY team1, grp1 \n",
    "        ORDER BY grp, pts DESC\"\"\" \n",
    ")\n",
    "\n",
    "display(group_stage_df)"
   ]
  },
  {
   "cell_type": "markdown",
   "metadata": {
    "application/vnd.databricks.v1+cell": {
     "cellMetadata": {},
     "inputWidgets": {},
     "nuid": "96eaa645-26dd-411f-93f5-ac4a95539703",
     "showTitle": false,
     "title": ""
    }
   },
   "source": [
    "### Group of 16"
   ]
  },
  {
   "cell_type": "code",
   "execution_count": 0,
   "metadata": {
    "application/vnd.databricks.v1+cell": {
     "cellMetadata": {
      "byteLimit": 2048000,
      "rowLimit": 10000
     },
     "inputWidgets": {},
     "nuid": "526893fe-d893-4e99-a241-93b11ea5b19e",
     "showTitle": false,
     "title": ""
    }
   },
   "outputs": [
    {
     "output_type": "stream",
     "name": "stdout",
     "output_type": "stream",
     "text": [
      "+--------+---+---+---+----+----+---+---+---+---+----------+---+\n|    team|grp| mp|win|draw|loss| gf| ga| gd|pts|group_rank| id|\n+--------+---+---+---+----+----+---+---+---+---+----------+---+\n| Romania|  E|  3|  3|   0|   0|  6| 10| -4|  9|         1| 1E|\n| Hungary|  A|  3|  2|   1|   0|  7|  5|  2|  7|         1| 1A|\n|   Italy|  B|  3|  2|   1|   0|  5|  7| -2|  7|         1| 1B|\n| England|  C|  3|  2|   0|   1|  8|  2|  6|  6|         1| 1C|\n|  Serbia|  C|  3|  2|   0|   1|  4|  3|  1|  6|         2| 2C|\n|  France|  D|  3|  2|   0|   1|  6|  5|  1|  6|         1| 1D|\n|   Spain|  B|  3|  2|   0|   1|  8| 10| -2|  6|         2| 2B|\n|Portugal|  F|  3|  1|   1|   1|  9|  5|  4|  5|         1| 1F|\n| Czechia|  F|  3|  1|   1|   1|  7|  4|  3|  5|         2| 2F|\n|Scotland|  A|  3|  1|   1|   1| 10|  7|  3|  4|         2| 2A|\n| Belgium|  E|  3|  1|   1|   1|  7|  7|  0|  4|         2| 2E|\n| Austria|  D|  3|  1|   1|   1|  8|  9| -1|  4|         2| 2D|\n| Denmark|  C|  3|  2|   0|   1|  5|  4|  1|  6|         3| 3C|\n| Iceland|  E|  3|  1|   1|   1|  6|  7| -1|  4|         3| 3E|\n| Finland|  D|  3|  1|   1|   1|  3|  8| -5|  4|         3| 3D|\n| Türkiye|  F|  3|  1|   0|   2|  9|  4|  5|  3|         3| 3F|\n+--------+---+---+---+----+----+---+---+---+---+----------+---+\n\n"
     ]
    }
   ],
   "source": [
    "# group of 16 qualifications\n",
    "from pyspark.sql.functions import concat, col\n",
    "\n",
    "windowSpec = Window.partitionBy(\"grp\").orderBy(F.col(\"pts\").desc(), F.col(\"gd\").desc())\n",
    "group_stage_df = group_stage_df.withColumn(\"group_rank\", row_number().over(windowSpec))\n",
    "group_stage_df.createOrReplaceTempView(\"groupStage\")\n",
    "\n",
    "group_of_16_df = spark.sql(\n",
    "            \"\"\"\n",
    "            SELECT * \\\n",
    "            FROM groupStage \\\n",
    "            WHERE group_rank <= 3 \\\n",
    "            ORDER BY CASE WHEN group_rank <= 2 THEN pts END DESC, \\\n",
    "                    CASE WHEN group_rank <= 2 THEN gd END DESC, \\\n",
    "                    CASE WHEN group_rank = 3 THEN pts END DESC, \\\n",
    "                    CASE WHEN group_rank = 3 THEN gd END DESC \\\n",
    "            LIMIT 16\"\"\"\n",
    "        )\n",
    "\n",
    "group_of_16_df = group_of_16_df.withColumn(\"id\", concat(F.col(\"group_rank\"), F.col(\"grp\")))\n",
    "group_of_16_df.show()"
   ]
  },
  {
   "cell_type": "markdown",
   "metadata": {
    "application/vnd.databricks.v1+cell": {
     "cellMetadata": {},
     "inputWidgets": {},
     "nuid": "260586c6-4594-42d1-8d95-0cf9a1b657ef",
     "showTitle": false,
     "title": ""
    }
   },
   "source": [
    "###Specific match-ups \n"
   ]
  },
  {
   "cell_type": "code",
   "execution_count": 0,
   "metadata": {
    "application/vnd.databricks.v1+cell": {
     "cellMetadata": {},
     "inputWidgets": {},
     "nuid": "11ad8cc1-54ed-40bf-baad-9fa881e61d76",
     "showTitle": false,
     "title": ""
    }
   },
   "outputs": [],
   "source": [
    "Third-placed teams\n",
    "qualify from groups     1B  1C  1E  1F\n",
    "                        vs  vs  vs  vs\n",
    "\n",
    "A\tB\tC\tD\t\t\t3A\t3D\t3B\t3C\n",
    "A\tB\tC\t\tE\t\t3A\t3E\t3B\t3C\n",
    "A\tB\tC\t\t\tF\t3A\t3F\t3B\t3C\n",
    "A\tB\t\tD\tE\t\t3D\t3E\t3A\t3B\n",
    "A\tB\t\tD\t\tF\t3D\t3F\t3A\t3B\n",
    "A\tB\t\t\tE\tF\t3E\t3F\t3B\t3A\n",
    "A\t\tC\tD\tE\t\t3E\t3D\t3C\t3A\n",
    "A\t\tC\tD\t\tF\t3F\t3D\t3C\t3A\n",
    "A\t\tC\t\tE\tF\t3E\t3F\t3C\t3A\n",
    "A\t\t\tD\tE\tF\t3E\t3F\t3D\t3A\n",
    "    B\tC\tD\tE\t\t3E\t3D\t3B\t3C\n",
    "    B\tC\tD\t\tF\t3F\t3D\t3C\t3B\n",
    "    B\tC\t\tE\tF\t3F\t3E\t3C\t3B\n",
    "    B\t\tD\tE\tF\t3F\t3E\t3D\t3B\n",
    "        C\tD\tE\tF\t3F\t3E\t3D\t3C\n",
    "\n"
   ]
  },
  {
   "cell_type": "code",
   "execution_count": 0,
   "metadata": {
    "application/vnd.databricks.v1+cell": {
     "cellMetadata": {
      "byteLimit": 2048000,
      "rowLimit": 10000
     },
     "inputWidgets": {},
     "nuid": "2bed60b2-afbe-4356-8968-19fc8b5a405c",
     "showTitle": false,
     "title": ""
    }
   },
   "outputs": [],
   "source": [
    "from PIL import Image"
   ]
  },
  {
   "cell_type": "code",
   "execution_count": 0,
   "metadata": {
    "application/vnd.databricks.v1+cell": {
     "cellMetadata": {},
     "inputWidgets": {},
     "nuid": "8b8facbf-7f14-4275-a194-810e0ce9e9a0",
     "showTitle": false,
     "title": ""
    }
   },
   "outputs": [],
   "source": [
    "displayHTML(\"<img src='dbfs:/FileStore/match_ups.jpg'>\")"
   ]
  },
  {
   "cell_type": "code",
   "execution_count": 0,
   "metadata": {
    "application/vnd.databricks.v1+cell": {
     "cellMetadata": {
      "byteLimit": 2048000,
      "rowLimit": 10000
     },
     "inputWidgets": {},
     "nuid": "b08eef64-2d68-4534-ab6a-1b5749e5d092",
     "showTitle": false,
     "title": ""
    }
   },
   "outputs": [
    {
     "output_type": "stream",
     "name": "stdout",
     "output_type": "stream",
     "text": [
      "+---+\n| id|\n+---+\n| 3C|\n| 3E|\n| 3D|\n| 3F|\n+---+\n\n['3C', '3E', '3D', '3F']\n+-----+-----+\n|Team1|Team2|\n+-----+-----+\n|   1B|   3F|\n|   1C|   3E|\n|   1E|   3D|\n|   1F|   3C|\n+-----+-----+\n\n+-----+-----+\n|Team1|Team2|\n+-----+-----+\n|   1A|   2C|\n|   2D|   2E|\n|   1D|   2F|\n|   2A|   2D|\n+-----+-----+\n\n"
     ]
    }
   ],
   "source": [
    "group_of_16_df.createOrReplaceTempView(\"group_of_16\")\n",
    "\n",
    "team_original_df = spark.sql(\n",
    "    \"\"\"select id \n",
    "    from {} \n",
    "    where group_rank =3\"\"\".format(\"group_of_16\")\n",
    ")\n",
    "team_original_df.show()\n",
    "id_list = [row.id for row in team_original_df.collect()]\n",
    "\n",
    "# Print the list of values\n",
    "print(id_list)\n",
    "\n",
    "team_list = [\n",
    "    [\"3A\", \"3D\", \"3B\", \"3C\"],\n",
    "    [\"3A\", \"3E\", \"3B\", \"3C\"],\n",
    "    [\"3A\", \"3F\", \"3B\", \"3C\"],\n",
    "    [\"3D\", \"3E\", \"3A\", \"3B\"],\n",
    "    [\"3D\", \"3F\", \"3A\", \"3B\"],\n",
    "    [\"3E\", \"3F\", \"3B\", \"3A\"],\n",
    "    [\"3E\", \"3D\", \"3C\", \"3A\"],\n",
    "    [\"3F\", \"3D\", \"3C\", \"3A\"],\n",
    "    [\"3E\", \"3F\", \"3C\", \"3A\"],\n",
    "    [\"3E\", \"3F\", \"3D\", \"3A\"],\n",
    "    [\"3E\", \"3D\", \"3B\", \"3C\"],\n",
    "    [\"3F\", \"3D\", \"3C\", \"3B\"],\n",
    "    [\"3F\", \"3E\", \"3C\", \"3B\"],\n",
    "    [\"3F\", \"3E\", \"3D\", \"3B\"],\n",
    "    [\"3F\", \"3E\", \"3D\", \"3C\"]\n",
    "]\n",
    "\n",
    "for i in range (0,len(team_list)):\n",
    "    if sorted(id_list) == sorted(team_list[i]):\n",
    "        team2_list=team_list[i]\n",
    "        break\n",
    "\n",
    "team1_list=['1B', '1C', '1E', '1F']\n",
    "\n",
    "data = list(zip(team1_list,team2_list))\n",
    "match_fixture_1_df = spark.createDataFrame(data, [\"Team1\", \"Team2\"])\n",
    "\n",
    "team3_list =['1A','2D','1D','2A']\n",
    "team4_list =['2C','2E','2F','2D']\n",
    "\n",
    "data2 = list(zip(team3_list,team4_list))\n",
    "match_fixture_2_df = spark.createDataFrame(data2, [\"Team1\", \"Team2\"])\n",
    "match_fixture_1_df.show()\n",
    "match_fixture_2_df.show()"
   ]
  },
  {
   "cell_type": "markdown",
   "metadata": {
    "application/vnd.databricks.v1+cell": {
     "cellMetadata": {},
     "inputWidgets": {},
     "nuid": "d0c4b35c-0746-46b6-92f7-fbe04da15d85",
     "showTitle": false,
     "title": ""
    }
   },
   "source": [
    "### Knockouts"
   ]
  },
  {
   "cell_type": "code",
   "execution_count": 0,
   "metadata": {
    "application/vnd.databricks.v1+cell": {
     "cellMetadata": {
      "byteLimit": 2048000,
      "rowLimit": 10000
     },
     "inputWidgets": {},
     "nuid": "0e91e212-69f1-49da-afa5-31403fb60e5d",
     "showTitle": false,
     "title": ""
    }
   },
   "outputs": [
    {
     "output_type": "stream",
     "name": "stdout",
     "output_type": "stream",
     "text": [
      "Knockout 1 result\n+---+--------+---+-------+-------+\n| id|   Team1| id|  Team2| winner|\n+---+--------+---+-------+-------+\n| 1B|   Italy| 3F|Türkiye|  Italy|\n| 1C| England| 3E|Iceland|Iceland|\n| 1E| Romania| 3D|Finland|Finland|\n| 1F|Portugal| 3C|Denmark|Denmark|\n+---+--------+---+-------+-------+\n\nKnockout 2 result\n+---+--------+---+-------+--------+\n| id|   Team1| id|  Team2|  winner|\n+---+--------+---+-------+--------+\n| 1A| Hungary| 2C| Serbia|  Serbia|\n| 2D| Austria| 2E|Belgium| Belgium|\n| 1D|  France| 2F|Czechia| Czechia|\n| 2A|Scotland| 2D|Austria|Scotland|\n+---+--------+---+-------+--------+\n\n"
     ]
    }
   ],
   "source": [
    "match_fixture_1_df.createOrReplaceTempView(\"knockout_1\")\n",
    "match_fixture_2_df.createOrReplaceTempView(\"knockout_2\")\n",
    "\n",
    "# join DataFrames based on the id column\n",
    "def get_knockout_winners(match_fixture, group_of_16):\n",
    "    joined_df = spark.sql(\"\"\"\n",
    "        SELECT mf.Team1 AS id, \n",
    "        g1.team AS Team1, \n",
    "        mf.Team2 AS id, \n",
    "        g2.team AS Team2,\n",
    "        CASE WHEN rand() > 0.5 THEN g1.team ELSE g2.team END AS winner\n",
    "        FROM {} mf\n",
    "        JOIN {} g1 ON mf.Team1 = g1.id\n",
    "        JOIN {} g2 ON mf.Team2 = g2.id\n",
    "    \"\"\".format(match_fixture,group_of_16,group_of_16))\n",
    "    return joined_df\n",
    "\n",
    "knockout_1_df = get_knockout_winners(\"knockout_1\", \"group_of_16\")\n",
    "knockout_2_df = get_knockout_winners(\"knockout_2\", \"group_of_16\")\n",
    "\n",
    "print(\"Knockout 1 result\")\n",
    "knockout_1_df.show()\n",
    "print(\"Knockout 2 result\")\n",
    "knockout_2_df.show()\n"
   ]
  },
  {
   "cell_type": "markdown",
   "metadata": {
    "application/vnd.databricks.v1+cell": {
     "cellMetadata": {},
     "inputWidgets": {},
     "nuid": "028af514-32f9-4bfa-878d-3c5a86889082",
     "showTitle": false,
     "title": ""
    }
   },
   "source": [
    "### Quater final"
   ]
  },
  {
   "cell_type": "code",
   "execution_count": 0,
   "metadata": {
    "application/vnd.databricks.v1+cell": {
     "cellMetadata": {
      "byteLimit": 2048000,
      "rowLimit": 10000
     },
     "inputWidgets": {},
     "nuid": "4a746db8-8644-4929-abde-21c48059601e",
     "showTitle": false,
     "title": ""
    }
   },
   "outputs": [
    {
     "output_type": "stream",
     "name": "stdout",
     "output_type": "stream",
     "text": [
      "Quarter Final Result\n+-------+--------+--------+\n|  Team1|   Team2|  winner|\n+-------+--------+--------+\n|  Italy|  Serbia|   Italy|\n|Iceland| Belgium| Belgium|\n|Finland| Czechia| Czechia|\n|Denmark|Scotland|Scotland|\n+-------+--------+--------+\n\n"
     ]
    }
   ],
   "source": [
    "quarterfinalist_1_df = knockout_1_df.withColumn(\"row_num\", F.monotonically_increasing_id()).select(\"winner\", \"row_num\")\n",
    "quarterfinalist_2_df = knockout_2_df.withColumn(\"row_num\", F.monotonically_increasing_id()).select(\"winner\", \"row_num\")\n",
    "\n",
    "quarterfinalist_1_df.createOrReplaceTempView(\"quarterfinalist_1\")\n",
    "quarterfinalist_2_df.createOrReplaceTempView(\"quarterfinalist_2\")\n",
    "\n",
    "def get_quarterfinal_winners(quarterfinalist_1, quarterfinalist_2):\n",
    "    winner_df = spark.sql(\n",
    "        \"\"\"SELECT q1.winner as Team1, q2.winner as Team2,\n",
    "        CASE WHEN rand() > 0.5 THEN q1.winner ELSE q2.winner END AS winner\n",
    "        FROM {} q1\n",
    "        JOIN {} q2\n",
    "        ON q1.row_num = q2.row_num \"\"\".format(quarterfinalist_1, quarterfinalist_2)\n",
    "    )\n",
    "    return winner_df\n",
    "\n",
    "quarterfinal_df = get_quarterfinal_winners(\"quarterfinalist_1\", \"quarterfinalist_2\")\n",
    "\n",
    "print(\"Quarter Final Result\")\n",
    "quarterfinal_df.show()\n"
   ]
  },
  {
   "cell_type": "markdown",
   "metadata": {
    "application/vnd.databricks.v1+cell": {
     "cellMetadata": {},
     "inputWidgets": {},
     "nuid": "4c301e92-a6b5-40b2-84f8-94d1bb1bd040",
     "showTitle": false,
     "title": ""
    }
   },
   "source": [
    "### Semi Final"
   ]
  },
  {
   "cell_type": "code",
   "execution_count": 0,
   "metadata": {
    "application/vnd.databricks.v1+cell": {
     "cellMetadata": {
      "byteLimit": 2048000,
      "rowLimit": 10000
     },
     "inputWidgets": {},
     "nuid": "a36aa292-d452-4659-9719-5fc52ab586ce",
     "showTitle": false,
     "title": ""
    }
   },
   "outputs": [
    {
     "output_type": "stream",
     "name": "stdout",
     "output_type": "stream",
     "text": [
      "Semi Final Result\n+-----------+--------+-----------+\n|      Team1|   Team2|     Winner|\n+-----------+--------+-----------+\n|Switzerland|Slovakia|Switzerland|\n|    Austria| Türkiye|    Austria|\n+-----------+--------+-----------+\n\n"
     ]
    }
   ],
   "source": [
    "semifinalist_df = quarterfinal_df.withColumn(\"row_num\", F.monotonically_increasing_id()).select(\"winner\", \"row_num\")\n",
    "# semifinalist_df.show()\n",
    "semifinal_df = spark.sql(\n",
    "    \"\"\"\n",
    "    SELECT sf1.winner as Team1,\n",
    "    sf2.winner as Team2,\n",
    "    CASE WHEN rand() > 0.5 THEN sf1.winner ELSE sf2.winner END AS Winner\n",
    "    FROM semis sf1\n",
    "    JOIN semis sf2\n",
    "    ON sf1.row_num = sf2.row_num -1\n",
    "    where sf1.row_num % 2 = 0 \"\"\"    \n",
    ")\n",
    "print(\"Semi Final Result\")\n",
    "semifinal_df.show()"
   ]
  },
  {
   "cell_type": "markdown",
   "metadata": {
    "application/vnd.databricks.v1+cell": {
     "cellMetadata": {},
     "inputWidgets": {},
     "nuid": "69d8d64f-ae5c-4ccf-928a-446e9a887ac9",
     "showTitle": false,
     "title": ""
    }
   },
   "source": [
    "### Final Match"
   ]
  },
  {
   "cell_type": "code",
   "execution_count": 0,
   "metadata": {
    "application/vnd.databricks.v1+cell": {
     "cellMetadata": {
      "byteLimit": 2048000,
      "rowLimit": 10000
     },
     "inputWidgets": {},
     "nuid": "3df39ec8-b910-4c07-9381-61b4993f8f6c",
     "showTitle": false,
     "title": ""
    }
   },
   "outputs": [
    {
     "output_type": "stream",
     "name": "stdout",
     "output_type": "stream",
     "text": [
      "---------- Euro Cup 2024 Final ------------\n"
     ]
    },
    {
     "output_type": "display_data",
     "data": {
      "text/html": [
       "<style scoped>\n",
       "  .table-result-container {\n",
       "    max-height: 300px;\n",
       "    overflow: auto;\n",
       "  }\n",
       "  table, th, td {\n",
       "    border: 1px solid black;\n",
       "    border-collapse: collapse;\n",
       "  }\n",
       "  th, td {\n",
       "    padding: 5px;\n",
       "  }\n",
       "  th {\n",
       "    text-align: left;\n",
       "  }\n",
       "</style><div class='table-result-container'><table class='table-result'><thead style='background-color: white'><tr><th>team1</th><th>team2</th><th>Winner</th></tr></thead><tbody><tr><td>Switzerland</td><td>Austria</td><td>Switzerland</td></tr></tbody></table></div>"
      ]
     },
     "metadata": {
      "application/vnd.databricks.v1+output": {
       "addedWidgets": {},
       "aggData": [],
       "aggError": "",
       "aggOverflow": false,
       "aggSchema": [],
       "aggSeriesLimitReached": false,
       "aggType": "",
       "arguments": {},
       "columnCustomDisplayInfos": {},
       "data": [
        [
         "Switzerland",
         "Austria",
         "Switzerland"
        ]
       ],
       "datasetInfos": [],
       "dbfsResultPath": null,
       "isJsonSchema": true,
       "metadata": {},
       "overflow": false,
       "plotOptions": {
        "customPlotOptions": {},
        "displayType": "table",
        "pivotAggregation": null,
        "pivotColumns": null,
        "xColumns": null,
        "yColumns": null
       },
       "removedWidgets": [],
       "schema": [
        {
         "metadata": "{}",
         "name": "team1",
         "type": "\"string\""
        },
        {
         "metadata": "{}",
         "name": "team2",
         "type": "\"string\""
        },
        {
         "metadata": "{}",
         "name": "Winner",
         "type": "\"string\""
        }
       ],
       "type": "table"
      }
     },
     "output_type": "display_data"
    }
   ],
   "source": [
    "semifinal_df.createOrReplaceTempView(\"finalist\")\n",
    "finals_df = spark.sql(\"\"\"\n",
    "        SELECT f1.Winner AS team1, f2.Winner AS team2, CASE WHEN rand() > 0.5 THEN f1.Winner ELSE f1.Winner END AS Winner\n",
    "        FROM finalist AS f1\n",
    "        JOIN finalist AS f2\n",
    "        ON f1.Winner != f2.Winner\n",
    "        limit 1\"\"\"\n",
    ")\n",
    "\n",
    "print(\"---------- Euro Cup 2024 Final ------------\" )\n",
    "display(finals_df)"
   ]
  },
  {
   "cell_type": "code",
   "execution_count": 0,
   "metadata": {
    "application/vnd.databricks.v1+cell": {
     "cellMetadata": {},
     "inputWidgets": {},
     "nuid": "35a15559-167c-402a-92e1-7a7c497c25ca",
     "showTitle": false,
     "title": ""
    }
   },
   "outputs": [],
   "source": []
  },
  {
   "cell_type": "code",
   "execution_count": 0,
   "metadata": {
    "application/vnd.databricks.v1+cell": {
     "cellMetadata": {},
     "inputWidgets": {},
     "nuid": "a56748df-cfde-4ff0-a387-62bb25fef9f4",
     "showTitle": false,
     "title": ""
    }
   },
   "outputs": [],
   "source": [
    "\n",
    "Third-placed teams\n",
    "qualify from groups     1B  1C  1E  1F\n",
    "                        vs  vs  vs  vs\n",
    "\n",
    "A\tB\tC\tD\t\t\t3A\t3D\t3B\t3C\n",
    "A\tB\tC\t\tE\t\t3A\t3E\t3B\t3C\n",
    "A\tB\tC\t\t\tF\t3A\t3F\t3B\t3C\n",
    "A\tB\t\tD\tE\t\t3D\t3E\t3A\t3B\n",
    "A\tB\t\tD\t\tF\t3D\t3F\t3A\t3B\n",
    "A\tB\t\t\tE\tF\t3E\t3F\t3B\t3A\n",
    "A\t\tC\tD\tE\t\t3E\t3D\t3C\t3A\n",
    "A\t\tC\tD\t\tF\t3F\t3D\t3C\t3A\n",
    "A\t\tC\t\tE\tF\t3E\t3F\t3C\t3A\n",
    "A\t\t\tD\tE\tF\t3E\t3F\t3D\t3A\n",
    "    B\tC\tD\tE\t\t3E\t3D\t3B\t3C\n",
    "    B\tC\tD\t\tF\t3F\t3D\t3C\t3B\n",
    "    B\tC\t\tE\tF\t3F\t3E\t3C\t3B\n",
    "    B\t\tD\tE\tF\t3F\t3E\t3D\t3B\n",
    "        C\tD\tE\tF\t3F\t3E\t3D\t3C\n",
    "\n",
    "\n"
   ]
  },
  {
   "cell_type": "code",
   "execution_count": 0,
   "metadata": {
    "application/vnd.databricks.v1+cell": {
     "cellMetadata": {},
     "inputWidgets": {},
     "nuid": "3a1adf38-3edc-44f8-93da-fca402fe2f87",
     "showTitle": false,
     "title": ""
    }
   },
   "outputs": [],
   "source": []
  }
 ],
 "metadata": {
  "application/vnd.databricks.v1+notebook": {
   "dashboards": [],
   "language": "python",
   "notebookMetadata": {
    "mostRecentlyExecutedCommandWithImplicitDF": {
     "commandId": -1,
     "dataframes": [
      "_sqldf"
     ]
    },
    "pythonIndentUnit": 4
   },
   "notebookName": "Project:- Euro Cup 2024",
   "widgets": {}
  }
 },
 "nbformat": 4,
 "nbformat_minor": 0
}
