{
 "cells": [
  {
   "cell_type": "code",
   "execution_count": 0,
   "metadata": {
    "application/vnd.databricks.v1+cell": {
     "cellMetadata": {
      "byteLimit": 2048000,
      "rowLimit": 10000
     },
     "inputWidgets": {},
     "nuid": "b0714e49-1299-4575-91b3-c85d57ca239f",
     "showTitle": false,
     "title": ""
    }
   },
   "outputs": [
    {
     "output_type": "stream",
     "name": "stdout",
     "output_type": "stream",
     "text": [
      "Group stage table\n"
     ]
    },
    {
     "output_type": "display_data",
     "data": {
      "text/html": [
       "<style scoped>\n",
       "  .table-result-container {\n",
       "    max-height: 300px;\n",
       "    overflow: auto;\n",
       "  }\n",
       "  table, th, td {\n",
       "    border: 1px solid black;\n",
       "    border-collapse: collapse;\n",
       "  }\n",
       "  th, td {\n",
       "    padding: 5px;\n",
       "  }\n",
       "  th {\n",
       "    text-align: left;\n",
       "  }\n",
       "</style><div class='table-result-container'><table class='table-result'><thead style='background-color: white'><tr><th>team</th><th>grp</th><th>mp</th><th>win</th><th>draw</th><th>loss</th><th>gf</th><th>ga</th><th>gd</th><th>pts</th></tr></thead><tbody><tr><td>Germany</td><td>A</td><td>3</td><td>1</td><td>1</td><td>1</td><td>6</td><td>3</td><td>3</td><td>5</td></tr><tr><td>Scotland</td><td>A</td><td>3</td><td>1</td><td>1</td><td>1</td><td>7</td><td>6</td><td>1</td><td>5</td></tr><tr><td>Hungary</td><td>A</td><td>3</td><td>1</td><td>1</td><td>1</td><td>10</td><td>3</td><td>7</td><td>4</td></tr><tr><td>Switzerland</td><td>A</td><td>3</td><td>0</td><td>1</td><td>2</td><td>7</td><td>2</td><td>5</td><td>1</td></tr><tr><td>Italy</td><td>B</td><td>3</td><td>3</td><td>0</td><td>0</td><td>5</td><td>6</td><td>-1</td><td>9</td></tr><tr><td>Croatia</td><td>B</td><td>3</td><td>1</td><td>1</td><td>1</td><td>6</td><td>6</td><td>0</td><td>4</td></tr><tr><td>Albania</td><td>B</td><td>3</td><td>1</td><td>1</td><td>1</td><td>8</td><td>8</td><td>0</td><td>4</td></tr><tr><td>Spain</td><td>B</td><td>3</td><td>0</td><td>0</td><td>3</td><td>5</td><td>0</td><td>5</td><td>0</td></tr><tr><td>Slovenia</td><td>C</td><td>3</td><td>2</td><td>0</td><td>1</td><td>4</td><td>8</td><td>-4</td><td>6</td></tr><tr><td>England</td><td>C</td><td>3</td><td>1</td><td>1</td><td>1</td><td>7</td><td>9</td><td>-2</td><td>4</td></tr><tr><td>Denmark</td><td>C</td><td>3</td><td>1</td><td>1</td><td>1</td><td>8</td><td>9</td><td>-1</td><td>4</td></tr><tr><td>Serbia</td><td>C</td><td>3</td><td>1</td><td>0</td><td>2</td><td>7</td><td>4</td><td>3</td><td>3</td></tr><tr><td>Finland</td><td>D</td><td>3</td><td>3</td><td>0</td><td>0</td><td>8</td><td>4</td><td>4</td><td>9</td></tr><tr><td>Austria</td><td>D</td><td>3</td><td>1</td><td>1</td><td>1</td><td>5</td><td>7</td><td>-2</td><td>4</td></tr><tr><td>Netherlands</td><td>D</td><td>3</td><td>0</td><td>1</td><td>2</td><td>9</td><td>5</td><td>4</td><td>2</td></tr><tr><td>France</td><td>D</td><td>3</td><td>0</td><td>1</td><td>2</td><td>8</td><td>4</td><td>4</td><td>1</td></tr><tr><td>Romania</td><td>E</td><td>3</td><td>2</td><td>1</td><td>0</td><td>7</td><td>7</td><td>0</td><td>7</td></tr><tr><td>Iceland</td><td>E</td><td>3</td><td>1</td><td>1</td><td>1</td><td>5</td><td>7</td><td>-2</td><td>5</td></tr><tr><td>Slovakia</td><td>E</td><td>3</td><td>1</td><td>1</td><td>1</td><td>7</td><td>6</td><td>1</td><td>4</td></tr><tr><td>Belgium</td><td>E</td><td>3</td><td>0</td><td>0</td><td>3</td><td>1</td><td>6</td><td>-5</td><td>0</td></tr><tr><td>Türkiye</td><td>F</td><td>3</td><td>3</td><td>0</td><td>0</td><td>5</td><td>9</td><td>-4</td><td>9</td></tr><tr><td>Portugal</td><td>F</td><td>3</td><td>2</td><td>0</td><td>1</td><td>3</td><td>10</td><td>-7</td><td>6</td></tr><tr><td>Greece</td><td>F</td><td>3</td><td>0</td><td>1</td><td>2</td><td>6</td><td>10</td><td>-4</td><td>1</td></tr><tr><td>Czechia</td><td>F</td><td>3</td><td>0</td><td>1</td><td>2</td><td>2</td><td>5</td><td>-3</td><td>1</td></tr></tbody></table></div>"
      ]
     },
     "metadata": {
      "application/vnd.databricks.v1+output": {
       "addedWidgets": {},
       "aggData": [],
       "aggError": "",
       "aggOverflow": false,
       "aggSchema": [],
       "aggSeriesLimitReached": false,
       "aggType": "",
       "arguments": {},
       "columnCustomDisplayInfos": {},
       "data": [
        [
         "Germany",
         "A",
         3,
         1,
         1,
         1,
         6,
         3,
         3,
         5
        ],
        [
         "Scotland",
         "A",
         3,
         1,
         1,
         1,
         7,
         6,
         1,
         5
        ],
        [
         "Hungary",
         "A",
         3,
         1,
         1,
         1,
         10,
         3,
         7,
         4
        ],
        [
         "Switzerland",
         "A",
         3,
         0,
         1,
         2,
         7,
         2,
         5,
         1
        ],
        [
         "Italy",
         "B",
         3,
         3,
         0,
         0,
         5,
         6,
         -1,
         9
        ],
        [
         "Croatia",
         "B",
         3,
         1,
         1,
         1,
         6,
         6,
         0,
         4
        ],
        [
         "Albania",
         "B",
         3,
         1,
         1,
         1,
         8,
         8,
         0,
         4
        ],
        [
         "Spain",
         "B",
         3,
         0,
         0,
         3,
         5,
         0,
         5,
         0
        ],
        [
         "Slovenia",
         "C",
         3,
         2,
         0,
         1,
         4,
         8,
         -4,
         6
        ],
        [
         "England",
         "C",
         3,
         1,
         1,
         1,
         7,
         9,
         -2,
         4
        ],
        [
         "Denmark",
         "C",
         3,
         1,
         1,
         1,
         8,
         9,
         -1,
         4
        ],
        [
         "Serbia",
         "C",
         3,
         1,
         0,
         2,
         7,
         4,
         3,
         3
        ],
        [
         "Finland",
         "D",
         3,
         3,
         0,
         0,
         8,
         4,
         4,
         9
        ],
        [
         "Austria",
         "D",
         3,
         1,
         1,
         1,
         5,
         7,
         -2,
         4
        ],
        [
         "Netherlands",
         "D",
         3,
         0,
         1,
         2,
         9,
         5,
         4,
         2
        ],
        [
         "France",
         "D",
         3,
         0,
         1,
         2,
         8,
         4,
         4,
         1
        ],
        [
         "Romania",
         "E",
         3,
         2,
         1,
         0,
         7,
         7,
         0,
         7
        ],
        [
         "Iceland",
         "E",
         3,
         1,
         1,
         1,
         5,
         7,
         -2,
         5
        ],
        [
         "Slovakia",
         "E",
         3,
         1,
         1,
         1,
         7,
         6,
         1,
         4
        ],
        [
         "Belgium",
         "E",
         3,
         0,
         0,
         3,
         1,
         6,
         -5,
         0
        ],
        [
         "Türkiye",
         "F",
         3,
         3,
         0,
         0,
         5,
         9,
         -4,
         9
        ],
        [
         "Portugal",
         "F",
         3,
         2,
         0,
         1,
         3,
         10,
         -7,
         6
        ],
        [
         "Greece",
         "F",
         3,
         0,
         1,
         2,
         6,
         10,
         -4,
         1
        ],
        [
         "Czechia",
         "F",
         3,
         0,
         1,
         2,
         2,
         5,
         -3,
         1
        ]
       ],
       "datasetInfos": [],
       "dbfsResultPath": null,
       "isJsonSchema": true,
       "metadata": {},
       "overflow": false,
       "plotOptions": {
        "customPlotOptions": {},
        "displayType": "table",
        "pivotAggregation": null,
        "pivotColumns": null,
        "xColumns": null,
        "yColumns": null
       },
       "removedWidgets": [],
       "schema": [
        {
         "metadata": "{}",
         "name": "team",
         "type": "\"string\""
        },
        {
         "metadata": "{}",
         "name": "grp",
         "type": "\"string\""
        },
        {
         "metadata": "{}",
         "name": "mp",
         "type": "\"integer\""
        },
        {
         "metadata": "{}",
         "name": "win",
         "type": "\"long\""
        },
        {
         "metadata": "{}",
         "name": "draw",
         "type": "\"integer\""
        },
        {
         "metadata": "{}",
         "name": "loss",
         "type": "\"integer\""
        },
        {
         "metadata": "{}",
         "name": "gf",
         "type": "\"long\""
        },
        {
         "metadata": "{}",
         "name": "ga",
         "type": "\"long\""
        },
        {
         "metadata": "{}",
         "name": "gd",
         "type": "\"long\""
        },
        {
         "metadata": "{}",
         "name": "pts",
         "type": "\"long\""
        }
       ],
       "type": "table"
      }
     },
     "output_type": "display_data"
    },
    {
     "output_type": "stream",
     "name": "stdout",
     "output_type": "stream",
     "text": [
      "Group of 16\n"
     ]
    },
    {
     "output_type": "display_data",
     "data": {
      "text/html": [
       "<style scoped>\n",
       "  .table-result-container {\n",
       "    max-height: 300px;\n",
       "    overflow: auto;\n",
       "  }\n",
       "  table, th, td {\n",
       "    border: 1px solid black;\n",
       "    border-collapse: collapse;\n",
       "  }\n",
       "  th, td {\n",
       "    padding: 5px;\n",
       "  }\n",
       "  th {\n",
       "    text-align: left;\n",
       "  }\n",
       "</style><div class='table-result-container'><table class='table-result'><thead style='background-color: white'><tr><th>team</th><th>grp</th><th>mp</th><th>win</th><th>draw</th><th>loss</th><th>gf</th><th>ga</th><th>gd</th><th>pts</th><th>group_rank</th></tr></thead><tbody><tr><td>Finland</td><td>D</td><td>3</td><td>3</td><td>0</td><td>0</td><td>8</td><td>4</td><td>4</td><td>9</td><td>1</td></tr><tr><td>Italy</td><td>B</td><td>3</td><td>3</td><td>0</td><td>0</td><td>5</td><td>6</td><td>-1</td><td>9</td><td>1</td></tr><tr><td>Türkiye</td><td>F</td><td>3</td><td>3</td><td>0</td><td>0</td><td>5</td><td>9</td><td>-4</td><td>9</td><td>1</td></tr><tr><td>Romania</td><td>E</td><td>3</td><td>2</td><td>1</td><td>0</td><td>7</td><td>7</td><td>0</td><td>7</td><td>1</td></tr><tr><td>Slovenia</td><td>C</td><td>3</td><td>2</td><td>0</td><td>1</td><td>4</td><td>8</td><td>-4</td><td>6</td><td>1</td></tr><tr><td>Portugal</td><td>F</td><td>3</td><td>2</td><td>0</td><td>1</td><td>3</td><td>10</td><td>-7</td><td>6</td><td>2</td></tr><tr><td>Germany</td><td>A</td><td>3</td><td>1</td><td>1</td><td>1</td><td>6</td><td>3</td><td>3</td><td>5</td><td>1</td></tr><tr><td>Scotland</td><td>A</td><td>3</td><td>1</td><td>1</td><td>1</td><td>7</td><td>6</td><td>1</td><td>5</td><td>2</td></tr><tr><td>Iceland</td><td>E</td><td>3</td><td>1</td><td>1</td><td>1</td><td>5</td><td>7</td><td>-2</td><td>5</td><td>2</td></tr><tr><td>Croatia</td><td>B</td><td>3</td><td>1</td><td>1</td><td>1</td><td>6</td><td>6</td><td>0</td><td>4</td><td>2</td></tr><tr><td>Denmark</td><td>C</td><td>3</td><td>1</td><td>1</td><td>1</td><td>8</td><td>9</td><td>-1</td><td>4</td><td>2</td></tr><tr><td>Austria</td><td>D</td><td>3</td><td>1</td><td>1</td><td>1</td><td>5</td><td>7</td><td>-2</td><td>4</td><td>2</td></tr><tr><td>Hungary</td><td>A</td><td>3</td><td>1</td><td>1</td><td>1</td><td>10</td><td>3</td><td>7</td><td>4</td><td>3</td></tr><tr><td>Slovakia</td><td>E</td><td>3</td><td>1</td><td>1</td><td>1</td><td>7</td><td>6</td><td>1</td><td>4</td><td>3</td></tr><tr><td>Albania</td><td>B</td><td>3</td><td>1</td><td>1</td><td>1</td><td>8</td><td>8</td><td>0</td><td>4</td><td>3</td></tr><tr><td>England</td><td>C</td><td>3</td><td>1</td><td>1</td><td>1</td><td>7</td><td>9</td><td>-2</td><td>4</td><td>3</td></tr></tbody></table></div>"
      ]
     },
     "metadata": {
      "application/vnd.databricks.v1+output": {
       "addedWidgets": {},
       "aggData": [],
       "aggError": "",
       "aggOverflow": false,
       "aggSchema": [],
       "aggSeriesLimitReached": false,
       "aggType": "",
       "arguments": {},
       "columnCustomDisplayInfos": {},
       "data": [
        [
         "Finland",
         "D",
         3,
         3,
         0,
         0,
         8,
         4,
         4,
         9,
         1
        ],
        [
         "Italy",
         "B",
         3,
         3,
         0,
         0,
         5,
         6,
         -1,
         9,
         1
        ],
        [
         "Türkiye",
         "F",
         3,
         3,
         0,
         0,
         5,
         9,
         -4,
         9,
         1
        ],
        [
         "Romania",
         "E",
         3,
         2,
         1,
         0,
         7,
         7,
         0,
         7,
         1
        ],
        [
         "Slovenia",
         "C",
         3,
         2,
         0,
         1,
         4,
         8,
         -4,
         6,
         1
        ],
        [
         "Portugal",
         "F",
         3,
         2,
         0,
         1,
         3,
         10,
         -7,
         6,
         2
        ],
        [
         "Germany",
         "A",
         3,
         1,
         1,
         1,
         6,
         3,
         3,
         5,
         1
        ],
        [
         "Scotland",
         "A",
         3,
         1,
         1,
         1,
         7,
         6,
         1,
         5,
         2
        ],
        [
         "Iceland",
         "E",
         3,
         1,
         1,
         1,
         5,
         7,
         -2,
         5,
         2
        ],
        [
         "Croatia",
         "B",
         3,
         1,
         1,
         1,
         6,
         6,
         0,
         4,
         2
        ],
        [
         "Denmark",
         "C",
         3,
         1,
         1,
         1,
         8,
         9,
         -1,
         4,
         2
        ],
        [
         "Austria",
         "D",
         3,
         1,
         1,
         1,
         5,
         7,
         -2,
         4,
         2
        ],
        [
         "Hungary",
         "A",
         3,
         1,
         1,
         1,
         10,
         3,
         7,
         4,
         3
        ],
        [
         "Slovakia",
         "E",
         3,
         1,
         1,
         1,
         7,
         6,
         1,
         4,
         3
        ],
        [
         "Albania",
         "B",
         3,
         1,
         1,
         1,
         8,
         8,
         0,
         4,
         3
        ],
        [
         "England",
         "C",
         3,
         1,
         1,
         1,
         7,
         9,
         -2,
         4,
         3
        ]
       ],
       "datasetInfos": [],
       "dbfsResultPath": null,
       "isJsonSchema": true,
       "metadata": {},
       "overflow": false,
       "plotOptions": {
        "customPlotOptions": {},
        "displayType": "table",
        "pivotAggregation": null,
        "pivotColumns": null,
        "xColumns": null,
        "yColumns": null
       },
       "removedWidgets": [],
       "schema": [
        {
         "metadata": "{}",
         "name": "team",
         "type": "\"string\""
        },
        {
         "metadata": "{}",
         "name": "grp",
         "type": "\"string\""
        },
        {
         "metadata": "{}",
         "name": "mp",
         "type": "\"integer\""
        },
        {
         "metadata": "{}",
         "name": "win",
         "type": "\"long\""
        },
        {
         "metadata": "{}",
         "name": "draw",
         "type": "\"integer\""
        },
        {
         "metadata": "{}",
         "name": "loss",
         "type": "\"integer\""
        },
        {
         "metadata": "{}",
         "name": "gf",
         "type": "\"long\""
        },
        {
         "metadata": "{}",
         "name": "ga",
         "type": "\"long\""
        },
        {
         "metadata": "{}",
         "name": "gd",
         "type": "\"long\""
        },
        {
         "metadata": "{}",
         "name": "pts",
         "type": "\"long\""
        },
        {
         "metadata": "{}",
         "name": "group_rank",
         "type": "\"integer\""
        }
       ],
       "type": "table"
      }
     },
     "output_type": "display_data"
    },
    {
     "output_type": "stream",
     "name": "stdout",
     "output_type": "stream",
     "text": [
      "Knockouts 1 result\n"
     ]
    },
    {
     "output_type": "display_data",
     "data": {
      "text/html": [
       "<style scoped>\n",
       "  .table-result-container {\n",
       "    max-height: 300px;\n",
       "    overflow: auto;\n",
       "  }\n",
       "  table, th, td {\n",
       "    border: 1px solid black;\n",
       "    border-collapse: collapse;\n",
       "  }\n",
       "  th, td {\n",
       "    padding: 5px;\n",
       "  }\n",
       "  th {\n",
       "    text-align: left;\n",
       "  }\n",
       "</style><div class='table-result-container'><table class='table-result'><thead style='background-color: white'><tr><th>team1</th><th>team2</th><th>winner</th></tr></thead><tbody><tr><td>Slovakia</td><td>Iceland</td><td>Iceland</td></tr><tr><td>Denmark</td><td>Slovenia</td><td>Denmark</td></tr><tr><td>Hungary</td><td>Portugal</td><td>Hungary</td></tr><tr><td>Croatia</td><td>Austria</td><td>Croatia</td></tr></tbody></table></div>"
      ]
     },
     "metadata": {
      "application/vnd.databricks.v1+output": {
       "addedWidgets": {},
       "aggData": [],
       "aggError": "",
       "aggOverflow": false,
       "aggSchema": [],
       "aggSeriesLimitReached": false,
       "aggType": "",
       "arguments": {},
       "columnCustomDisplayInfos": {},
       "data": [
        [
         "Slovakia",
         "Iceland",
         "Iceland"
        ],
        [
         "Denmark",
         "Slovenia",
         "Denmark"
        ],
        [
         "Hungary",
         "Portugal",
         "Hungary"
        ],
        [
         "Croatia",
         "Austria",
         "Croatia"
        ]
       ],
       "datasetInfos": [],
       "dbfsResultPath": null,
       "isJsonSchema": true,
       "metadata": {},
       "overflow": false,
       "plotOptions": {
        "customPlotOptions": {},
        "displayType": "table",
        "pivotAggregation": null,
        "pivotColumns": null,
        "xColumns": null,
        "yColumns": null
       },
       "removedWidgets": [],
       "schema": [
        {
         "metadata": "{}",
         "name": "team1",
         "type": "\"string\""
        },
        {
         "metadata": "{}",
         "name": "team2",
         "type": "\"string\""
        },
        {
         "metadata": "{}",
         "name": "winner",
         "type": "\"string\""
        }
       ],
       "type": "table"
      }
     },
     "output_type": "display_data"
    },
    {
     "output_type": "stream",
     "name": "stdout",
     "output_type": "stream",
     "text": [
      "Knockouts  2 result\n"
     ]
    },
    {
     "output_type": "display_data",
     "data": {
      "text/html": [
       "<style scoped>\n",
       "  .table-result-container {\n",
       "    max-height: 300px;\n",
       "    overflow: auto;\n",
       "  }\n",
       "  table, th, td {\n",
       "    border: 1px solid black;\n",
       "    border-collapse: collapse;\n",
       "  }\n",
       "  th, td {\n",
       "    padding: 5px;\n",
       "  }\n",
       "  th {\n",
       "    text-align: left;\n",
       "  }\n",
       "</style><div class='table-result-container'><table class='table-result'><thead style='background-color: white'><tr><th>team1</th><th>team2</th><th>winner</th></tr></thead><tbody><tr><td>Germany</td><td>Italy</td><td>Italy</td></tr><tr><td>England</td><td>Scotland</td><td>England</td></tr><tr><td>Albania</td><td>Türkiye</td><td>Albania</td></tr><tr><td>Romania</td><td>Finland</td><td>Romania</td></tr></tbody></table></div>"
      ]
     },
     "metadata": {
      "application/vnd.databricks.v1+output": {
       "addedWidgets": {},
       "aggData": [],
       "aggError": "",
       "aggOverflow": false,
       "aggSchema": [],
       "aggSeriesLimitReached": false,
       "aggType": "",
       "arguments": {},
       "columnCustomDisplayInfos": {},
       "data": [
        [
         "Germany",
         "Italy",
         "Italy"
        ],
        [
         "England",
         "Scotland",
         "England"
        ],
        [
         "Albania",
         "Türkiye",
         "Albania"
        ],
        [
         "Romania",
         "Finland",
         "Romania"
        ]
       ],
       "datasetInfos": [],
       "dbfsResultPath": null,
       "isJsonSchema": true,
       "metadata": {},
       "overflow": false,
       "plotOptions": {
        "customPlotOptions": {},
        "displayType": "table",
        "pivotAggregation": null,
        "pivotColumns": null,
        "xColumns": null,
        "yColumns": null
       },
       "removedWidgets": [],
       "schema": [
        {
         "metadata": "{}",
         "name": "team1",
         "type": "\"string\""
        },
        {
         "metadata": "{}",
         "name": "team2",
         "type": "\"string\""
        },
        {
         "metadata": "{}",
         "name": "winner",
         "type": "\"string\""
        }
       ],
       "type": "table"
      }
     },
     "output_type": "display_data"
    },
    {
     "output_type": "stream",
     "name": "stdout",
     "output_type": "stream",
     "text": [
      "Quarter Final 1 result\n"
     ]
    },
    {
     "output_type": "display_data",
     "data": {
      "text/html": [
       "<style scoped>\n",
       "  .table-result-container {\n",
       "    max-height: 300px;\n",
       "    overflow: auto;\n",
       "  }\n",
       "  table, th, td {\n",
       "    border: 1px solid black;\n",
       "    border-collapse: collapse;\n",
       "  }\n",
       "  th, td {\n",
       "    padding: 5px;\n",
       "  }\n",
       "  th {\n",
       "    text-align: left;\n",
       "  }\n",
       "</style><div class='table-result-container'><table class='table-result'><thead style='background-color: white'><tr><th>team1</th><th>team2</th><th>winner</th></tr></thead><tbody><tr><td>Iceland</td><td>Denmark</td><td>Iceland</td></tr><tr><td>Hungary</td><td>Croatia</td><td>Croatia</td></tr></tbody></table></div>"
      ]
     },
     "metadata": {
      "application/vnd.databricks.v1+output": {
       "addedWidgets": {},
       "aggData": [],
       "aggError": "",
       "aggOverflow": false,
       "aggSchema": [],
       "aggSeriesLimitReached": false,
       "aggType": "",
       "arguments": {},
       "columnCustomDisplayInfos": {},
       "data": [
        [
         "Iceland",
         "Denmark",
         "Iceland"
        ],
        [
         "Hungary",
         "Croatia",
         "Croatia"
        ]
       ],
       "datasetInfos": [],
       "dbfsResultPath": null,
       "isJsonSchema": true,
       "metadata": {},
       "overflow": false,
       "plotOptions": {
        "customPlotOptions": {},
        "displayType": "table",
        "pivotAggregation": null,
        "pivotColumns": null,
        "xColumns": null,
        "yColumns": null
       },
       "removedWidgets": [],
       "schema": [
        {
         "metadata": "{}",
         "name": "team1",
         "type": "\"string\""
        },
        {
         "metadata": "{}",
         "name": "team2",
         "type": "\"string\""
        },
        {
         "metadata": "{}",
         "name": "winner",
         "type": "\"string\""
        }
       ],
       "type": "table"
      }
     },
     "output_type": "display_data"
    },
    {
     "output_type": "stream",
     "name": "stdout",
     "output_type": "stream",
     "text": [
      "Quarter Final 2 result\n"
     ]
    },
    {
     "output_type": "display_data",
     "data": {
      "text/html": [
       "<style scoped>\n",
       "  .table-result-container {\n",
       "    max-height: 300px;\n",
       "    overflow: auto;\n",
       "  }\n",
       "  table, th, td {\n",
       "    border: 1px solid black;\n",
       "    border-collapse: collapse;\n",
       "  }\n",
       "  th, td {\n",
       "    padding: 5px;\n",
       "  }\n",
       "  th {\n",
       "    text-align: left;\n",
       "  }\n",
       "</style><div class='table-result-container'><table class='table-result'><thead style='background-color: white'><tr><th>team1</th><th>team2</th><th>winner</th></tr></thead><tbody><tr><td>Italy</td><td>England</td><td>England</td></tr><tr><td>Albania</td><td>Romania</td><td>Romania</td></tr></tbody></table></div>"
      ]
     },
     "metadata": {
      "application/vnd.databricks.v1+output": {
       "addedWidgets": {},
       "aggData": [],
       "aggError": "",
       "aggOverflow": false,
       "aggSchema": [],
       "aggSeriesLimitReached": false,
       "aggType": "",
       "arguments": {},
       "columnCustomDisplayInfos": {},
       "data": [
        [
         "Italy",
         "England",
         "England"
        ],
        [
         "Albania",
         "Romania",
         "Romania"
        ]
       ],
       "datasetInfos": [],
       "dbfsResultPath": null,
       "isJsonSchema": true,
       "metadata": {},
       "overflow": false,
       "plotOptions": {
        "customPlotOptions": {},
        "displayType": "table",
        "pivotAggregation": null,
        "pivotColumns": null,
        "xColumns": null,
        "yColumns": null
       },
       "removedWidgets": [],
       "schema": [
        {
         "metadata": "{}",
         "name": "team1",
         "type": "\"string\""
        },
        {
         "metadata": "{}",
         "name": "team2",
         "type": "\"string\""
        },
        {
         "metadata": "{}",
         "name": "winner",
         "type": "\"string\""
        }
       ],
       "type": "table"
      }
     },
     "output_type": "display_data"
    },
    {
     "output_type": "stream",
     "name": "stdout",
     "output_type": "stream",
     "text": [
      "Semifinal 1 Result\n"
     ]
    },
    {
     "output_type": "display_data",
     "data": {
      "text/html": [
       "<style scoped>\n",
       "  .table-result-container {\n",
       "    max-height: 300px;\n",
       "    overflow: auto;\n",
       "  }\n",
       "  table, th, td {\n",
       "    border: 1px solid black;\n",
       "    border-collapse: collapse;\n",
       "  }\n",
       "  th, td {\n",
       "    padding: 5px;\n",
       "  }\n",
       "  th {\n",
       "    text-align: left;\n",
       "  }\n",
       "</style><div class='table-result-container'><table class='table-result'><thead style='background-color: white'><tr><th>team1</th><th>team2</th><th>winner</th></tr></thead><tbody><tr><td>Croatia</td><td>Iceland</td><td>Croatia</td></tr></tbody></table></div>"
      ]
     },
     "metadata": {
      "application/vnd.databricks.v1+output": {
       "addedWidgets": {},
       "aggData": [],
       "aggError": "",
       "aggOverflow": false,
       "aggSchema": [],
       "aggSeriesLimitReached": false,
       "aggType": "",
       "arguments": {},
       "columnCustomDisplayInfos": {},
       "data": [
        [
         "Croatia",
         "Iceland",
         "Croatia"
        ]
       ],
       "datasetInfos": [],
       "dbfsResultPath": null,
       "isJsonSchema": true,
       "metadata": {},
       "overflow": false,
       "plotOptions": {
        "customPlotOptions": {},
        "displayType": "table",
        "pivotAggregation": null,
        "pivotColumns": null,
        "xColumns": null,
        "yColumns": null
       },
       "removedWidgets": [],
       "schema": [
        {
         "metadata": "{}",
         "name": "team1",
         "type": "\"string\""
        },
        {
         "metadata": "{}",
         "name": "team2",
         "type": "\"string\""
        },
        {
         "metadata": "{}",
         "name": "winner",
         "type": "\"string\""
        }
       ],
       "type": "table"
      }
     },
     "output_type": "display_data"
    },
    {
     "output_type": "stream",
     "name": "stdout",
     "output_type": "stream",
     "text": [
      "Semifinal 2 Result\n"
     ]
    },
    {
     "output_type": "display_data",
     "data": {
      "text/html": [
       "<style scoped>\n",
       "  .table-result-container {\n",
       "    max-height: 300px;\n",
       "    overflow: auto;\n",
       "  }\n",
       "  table, th, td {\n",
       "    border: 1px solid black;\n",
       "    border-collapse: collapse;\n",
       "  }\n",
       "  th, td {\n",
       "    padding: 5px;\n",
       "  }\n",
       "  th {\n",
       "    text-align: left;\n",
       "  }\n",
       "</style><div class='table-result-container'><table class='table-result'><thead style='background-color: white'><tr><th>team1</th><th>team2</th><th>winner</th></tr></thead><tbody><tr><td>Romania</td><td>England</td><td>England</td></tr></tbody></table></div>"
      ]
     },
     "metadata": {
      "application/vnd.databricks.v1+output": {
       "addedWidgets": {},
       "aggData": [],
       "aggError": "",
       "aggOverflow": false,
       "aggSchema": [],
       "aggSeriesLimitReached": false,
       "aggType": "",
       "arguments": {},
       "columnCustomDisplayInfos": {},
       "data": [
        [
         "Romania",
         "England",
         "England"
        ]
       ],
       "datasetInfos": [],
       "dbfsResultPath": null,
       "isJsonSchema": true,
       "metadata": {},
       "overflow": false,
       "plotOptions": {
        "customPlotOptions": {},
        "displayType": "table",
        "pivotAggregation": null,
        "pivotColumns": null,
        "xColumns": null,
        "yColumns": null
       },
       "removedWidgets": [],
       "schema": [
        {
         "metadata": "{}",
         "name": "team1",
         "type": "\"string\""
        },
        {
         "metadata": "{}",
         "name": "team2",
         "type": "\"string\""
        },
        {
         "metadata": "{}",
         "name": "winner",
         "type": "\"string\""
        }
       ],
       "type": "table"
      }
     },
     "output_type": "display_data"
    },
    {
     "output_type": "stream",
     "name": "stdout",
     "output_type": "stream",
     "text": [
      "Euro Cup 2024 Result\n"
     ]
    },
    {
     "output_type": "display_data",
     "data": {
      "text/html": [
       "<style scoped>\n",
       "  .table-result-container {\n",
       "    max-height: 300px;\n",
       "    overflow: auto;\n",
       "  }\n",
       "  table, th, td {\n",
       "    border: 1px solid black;\n",
       "    border-collapse: collapse;\n",
       "  }\n",
       "  th, td {\n",
       "    padding: 5px;\n",
       "  }\n",
       "  th {\n",
       "    text-align: left;\n",
       "  }\n",
       "</style><div class='table-result-container'><table class='table-result'><thead style='background-color: white'><tr><th>team1</th><th>team2</th><th>winner</th></tr></thead><tbody><tr><td>Croatia</td><td>England</td><td>Croatia</td></tr></tbody></table></div>"
      ]
     },
     "metadata": {
      "application/vnd.databricks.v1+output": {
       "addedWidgets": {},
       "aggData": [],
       "aggError": "",
       "aggOverflow": false,
       "aggSchema": [],
       "aggSeriesLimitReached": false,
       "aggType": "",
       "arguments": {},
       "columnCustomDisplayInfos": {},
       "data": [
        [
         "Croatia",
         "England",
         "Croatia"
        ]
       ],
       "datasetInfos": [],
       "dbfsResultPath": null,
       "isJsonSchema": true,
       "metadata": {},
       "overflow": false,
       "plotOptions": {
        "customPlotOptions": {},
        "displayType": "table",
        "pivotAggregation": null,
        "pivotColumns": null,
        "xColumns": null,
        "yColumns": null
       },
       "removedWidgets": [],
       "schema": [
        {
         "metadata": "{}",
         "name": "team1",
         "type": "\"string\""
        },
        {
         "metadata": "{}",
         "name": "team2",
         "type": "\"string\""
        },
        {
         "metadata": "{}",
         "name": "winner",
         "type": "\"string\""
        }
       ],
       "type": "table"
      }
     },
     "output_type": "display_data"
    }
   ],
   "source": [
    "from pyspark.sql import SparkSession\n",
    "from pyspark.sql import functions as F\n",
    "from pyspark.sql.window import Window\n",
    "from pyspark.sql.functions import row_number\n",
    "\n",
    "# goal_for – goals_scored goals_conceded\n",
    "# goal_agnst – goals_conceded\n",
    "# mp - matches played\n",
    "#  https://sparkbyexamples.com/pyspark/pyspark-window-functions/#ranking-functions\n",
    "def euro_cup_2024_simulation():\n",
    "    spark = SparkSession.builder.appName(\"EuroCup2024\").getOrCreate()\n",
    "    def euro_cup_teams(spark):\n",
    "        columns = [ \"grp\", \"team\"]\n",
    "        data = [\n",
    "            [\"A\", \"Germany\"],\n",
    "            [\"A\", \"Scotland\"],\n",
    "            [\"A\", \"Hungary\"],\n",
    "            [\"A\", \"Switzerland\"],\n",
    "            [\"B\", \"Spain\"],\n",
    "            [\"B\", \"Croatia\"],\n",
    "            [\"B\", \"Italy\"],\n",
    "            [\"B\", \"Albania\"],\n",
    "            [\"C\", \"Slovenia\"],\n",
    "            [\"C\", \"Denmark\"],\n",
    "            [\"C\", \"Serbia\"],\n",
    "            [\"C\", \"England\"],\n",
    "            [\"D\", \"Finland\"], #playoff winner A  \n",
    "            [\"D\", \"Netherlands\"],\n",
    "            [\"D\", \"Austria\"],\n",
    "            [\"D\", \"France\"],\n",
    "            [\"E\", \"Belgium\"],\n",
    "            [\"E\", \"Slovakia\"],\n",
    "            [\"E\", \"Romania\"],\n",
    "            [\"E\", \"Iceland\"],   #playoff winner B\n",
    "            [\"F\", \"Türkiye\"],\n",
    "            [\"F\", \"Greece\"],    #playoff winner c\n",
    "            [\"F\", \"Portugal\"],\n",
    "            [\"F\", \"Czechia\"]\n",
    "        ]\n",
    "\n",
    "        return spark.createDataFrame(data, columns)\n",
    "\n",
    "    def group_stage_modification(teams):\n",
    "\n",
    "        teams.createOrReplaceTempView(\"teams\")\n",
    "        group_stage_df = spark.sql(\n",
    "        \"\"\"\n",
    "        WITH cte2 AS (\n",
    "        WITH cte AS (\n",
    "            SELECT CONCAT(a.team, \" VS \", b.team) AS match_fixtures,\n",
    "                a.team AS team1, a.grp AS grp1, b.team AS team2, b.grp AS grp2,\n",
    "                FLOOR(RAND()*5) AS team1_score, FLOOR(RAND()*5) AS team2_score,\n",
    "                CASE WHEN team1_score > team2_score THEN 3\n",
    "                        WHEN team1_score = team2_score THEN 1 ELSE 0 END AS team1pts,\n",
    "                CASE WHEN team1_score < team2_score THEN 3\n",
    "                        WHEN team1_score = team2_score THEN 1 ELSE 0 END AS team2pts\n",
    "            FROM teams a\n",
    "            CROSS JOIN teams b\n",
    "            ON a.grp = b.grp AND a.team < b.team\n",
    "        )\n",
    "        SELECT team1, grp1, team1_score, team2_score, team1pts \n",
    "        FROM cte \n",
    "        UNION ALL \n",
    "        SELECT team2, grp2, team1_score, team2_score, team2pts AS pts \n",
    "        FROM cte \n",
    "        )\n",
    "        SELECT team1 AS team, grp1 AS grp, 3 AS mp,\n",
    "            FLOOR(SUM(team1pts)/3) AS win,\n",
    "            CASE WHEN SUM(team1pts) % 3 = 0 THEN 0 ELSE 1 END AS draw,\n",
    "            CASE WHEN win + draw = 3 THEN 0\n",
    "                    WHEN win + draw = 2 THEN 1\n",
    "                    WHEN win + draw = 1 THEN 2 ELSE 3 END AS loss,\n",
    "            SUM(team1_score) AS gf,\n",
    "            SUM(team2_score) AS ga,\n",
    "            SUM(team1_score) - SUM(team2_score) AS gd,\n",
    "            SUM(team1pts) AS pts\n",
    "        FROM cte2 \n",
    "        GROUP BY team1, grp1 \n",
    "        ORDER BY grp, pts DESC\"\"\" \n",
    "        )\n",
    "\n",
    "        print(\"Group stage table\")\n",
    "        display(group_stage_df)\n",
    "\n",
    "        return group_stage_df\n",
    "\n",
    "    # Group of 16\n",
    "    def group_of_16(group_stage_df):\n",
    "        \n",
    "        windowSpec = Window.partitionBy(\"grp\").orderBy(F.col(\"pts\").desc(), F.col(\"gd\").desc())\n",
    "        group_stage_df = group_stage_df.withColumn(\"group_rank\", row_number().over(windowSpec))\n",
    "        group_stage_df.createOrReplaceTempView(\"groupStage\")\n",
    "\n",
    "        result = spark.sql(\n",
    "            \"\"\"\n",
    "            SELECT * \\\n",
    "            FROM groupStage \\\n",
    "            WHERE group_rank <= 3 \\\n",
    "            ORDER BY CASE WHEN group_rank <= 2 THEN pts END DESC, \\\n",
    "                    CASE WHEN group_rank <= 2 THEN gd END DESC, \\\n",
    "                    CASE WHEN group_rank = 3 THEN pts END DESC, \\\n",
    "                    CASE WHEN group_rank = 3 THEN gd END DESC \\\n",
    "            LIMIT 16\"\"\"\n",
    "        )\n",
    "\n",
    "        print(\"Group of 16\")\n",
    "        display(result)\n",
    "        return result\n",
    "\n",
    "    # KnockOuts\n",
    "    def knockout_stage_result(group_of_16_df):\n",
    "        # random shuffling\n",
    "        group_of_16_df = group_of_16_df.withColumn(\"random\", F.round(F.rand(), 3))\n",
    "\n",
    "        window_spec = Window.partitionBy().orderBy(\"random\")\n",
    "        group_of_16_df = group_of_16_df.withColumn(\"random_rank\", row_number().over(window_spec))\n",
    "\n",
    "        # two groups with 8 teams each\n",
    "        group_1_df = group_of_16_df.filter(\"random_rank <= 8\").select(\"team\", \"random_rank\")\n",
    "        group_2_df = group_of_16_df.filter(\"random_rank > 8\").select(\"team\", \"random_rank\")\n",
    "\n",
    "        group_1_df.createOrReplaceTempView(\"group_1\")\n",
    "        group_2_df.createOrReplaceTempView(\"group_2\")\n",
    "\n",
    "        def knockouts(group, r):\n",
    "            result = spark.sql(\n",
    "                \"SELECT \\\n",
    "                    g1.team AS team1, \\\n",
    "                    g2.team AS team2, \\\n",
    "                    CASE WHEN rand() > 0.5 THEN g1.team ELSE g2.team END AS winner \\\n",
    "                FROM \\\n",
    "                    (SELECT team, random_rank FROM {} WHERE random_rank <= {}) g1 \\\n",
    "                JOIN \\\n",
    "                    (SELECT team, random_rank FROM {} WHERE random_rank > {}) g2 \\\n",
    "                ON \\\n",
    "                    g1.random_rank = g2.random_rank - 4\".format(group, r, group, r)\n",
    "            )\n",
    "            return result\n",
    "\n",
    "        knockouts_1_df = knockouts(\"group_1\", 4)\n",
    "        knockouts_2_df = knockouts(\"group_2\", 12)\n",
    "\n",
    "        print(\"Knockouts 1 result\")\n",
    "        display(knockouts_1_df)\n",
    "\n",
    "        print(\"Knockouts  2 result\")\n",
    "        display(knockouts_2_df)\n",
    "\n",
    "        return knockouts_1_df, knockouts_2_df\n",
    "\n",
    "    # Quater Finals\n",
    "    def quarterfinals_result(knockouts_1_df, knockouts_2_df):\n",
    "        \n",
    "        #window_spec = Window.partitionBy().orderBy(\"winner\")\n",
    "\n",
    "        quarterfinalist_1_df = knockouts_1_df.withColumn(\"id\", F.monotonically_increasing_id()).select(\"winner\", \"id\")\n",
    "        quarterfinalist_2_df = knockouts_2_df.withColumn(\"id\", F.monotonically_increasing_id()).select(\"winner\", \"id\")\n",
    "\n",
    "        quarterfinalist_1_df.createOrReplaceTempView(\"quarterfinalist_1\")\n",
    "        quarterfinalist_2_df.createOrReplaceTempView(\"quarterfinalist_2\")\n",
    "\n",
    "        # function to get quarter finals results\n",
    "        def generate_quarterfinals(group_view):\n",
    "            result = spark.sql(\n",
    "                \"\"\"SELECT\n",
    "                    g1.winner AS team1,\n",
    "                    g2.winner AS team2,\n",
    "                    CASE WHEN rand() > 0.5 THEN g1.winner ELSE g2.winner END AS winner\n",
    "                FROM {} g1\n",
    "                JOIN {} g2 \n",
    "                ON g1.id = g2.id - 1 \n",
    "                Where g1.id % 2 = 0\"\"\" \\\n",
    "            .format(group_view, group_view)\n",
    "            )\n",
    "            return result\n",
    "\n",
    "        quarterfinal_1_df = generate_quarterfinals(\"quarterfinalist_1\")\n",
    "        quarterfinal_2_df = generate_quarterfinals(\"quarterfinalist_2\")\n",
    "\n",
    "        print(\"Quarter Final 1 result\")\n",
    "        display(quarterfinal_1_df)\n",
    "\n",
    "        print(\"Quarter Final 2 result\")\n",
    "        display(quarterfinal_2_df)\n",
    "\n",
    "        return quarterfinal_1_df, quarterfinal_2_df\n",
    "\n",
    "    # Semis\n",
    "    def semifinal_results(quarterfinal_1_df, quarterfinal_2_df):\n",
    "\n",
    "        quarterfinal_1_df.createOrReplaceTempView(\"semifinalist_1\")\n",
    "        quarterfinal_2_df.createOrReplaceTempView(\"semifinalist_2\")\n",
    "\n",
    "        # function to get semifinals result\n",
    "        def generate_semifinals(teams):\n",
    "            result = spark.sql(\"\"\"\n",
    "                SELECT team1, team2, CASE WHEN rand() > 0.5 THEN team1 ELSE team2 END AS winner\n",
    "                FROM (\n",
    "                    SELECT winner AS team1, LEAD(winner) OVER (ORDER BY rand()) AS team2\n",
    "                    FROM {}\n",
    "                    LIMIT 1\n",
    "                )\n",
    "            \"\"\".format(teams))\n",
    "            return result\n",
    "\n",
    "        semifinal_1_df = generate_semifinals(\"semifinalist_1\")\n",
    "        semifinal_2_df = generate_semifinals(\"semifinalist_2\")\n",
    "\n",
    "        # Display semifinal result\n",
    "        print(\"Semifinal 1 Result\")\n",
    "        display(semifinal_1_df)\n",
    "\n",
    "        print(\"Semifinal 2 Result\")\n",
    "        display(semifinal_2_df)\n",
    "\n",
    "        return semifinal_1_df, semifinal_2_df\n",
    "\n",
    "    # Finals\n",
    "    def final_stage_result(semifinal_1_df, semifinal_2_df):\n",
    "\n",
    "        semifinal_1_df.createOrReplaceTempView(\"finalist_1\")\n",
    "        semifinal_2_df.createOrReplaceTempView(\"finalist_2\")\n",
    "\n",
    "        # Function to get winner\n",
    "        def generate_finals(team1,teams2):\n",
    "            result = spark.sql(\"\"\"\n",
    "                SELECT t1.winner AS team1, t2.winner AS team2, CASE WHEN rand() > 0.5 THEN t1.winner ELSE t1.winner END AS winner\n",
    "                FROM {} AS t1\n",
    "                JOIN {} AS t2\n",
    "                ON t1.winner != t2.winner\n",
    "            \"\"\".format(team1,teams2))\n",
    "            return result\n",
    "\n",
    "        finals_df = generate_finals(\"finalist_1\" , \"finalist_2\")\n",
    "\n",
    "        print(\"Euro Cup 2024 Result\")\n",
    "        display(finals_df)\n",
    "\n",
    "        # Main simulation\n",
    "\n",
    "    teams = euro_cup_teams(spark)\n",
    "    group_stage_df = group_stage_modification(teams)\n",
    "    group_of_16_df = group_of_16(group_stage_df)\n",
    "    knockouts_1_df, knockouts_2_df = knockout_stage_result(group_of_16_df)\n",
    "    quarterfinal_1_df, quarterfinal_2_df =quarterfinals_result(knockouts_1_df, knockouts_2_df)\n",
    "    semifinal_1_df, semifinal_2_df = semifinal_results(quarterfinal_1_df, quarterfinal_2_df)\n",
    "    final_stage_result(semifinal_1_df, semifinal_2_df)\n",
    "\n",
    "euro_cup_2024_simulation()"
   ]
  },
  {
   "cell_type": "code",
   "execution_count": 0,
   "metadata": {
    "application/vnd.databricks.v1+cell": {
     "cellMetadata": {},
     "inputWidgets": {},
     "nuid": "80b91255-3734-4aa7-a9be-72f8186074a0",
     "showTitle": false,
     "title": ""
    }
   },
   "outputs": [],
   "source": []
  }
 ],
 "metadata": {
  "application/vnd.databricks.v1+notebook": {
   "dashboards": [],
   "language": "python",
   "notebookMetadata": {
    "pythonIndentUnit": 4
   },
   "notebookName": "Project : Euro Cup 2024 (Akshay)",
   "widgets": {}
  }
 },
 "nbformat": 4,
 "nbformat_minor": 0
}
