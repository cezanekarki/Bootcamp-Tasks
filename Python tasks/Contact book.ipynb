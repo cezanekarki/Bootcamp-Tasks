{
 "cells": [
  {
   "cell_type": "code",
   "execution_count": 0,
   "metadata": {
    "application/vnd.databricks.v1+cell": {
     "cellMetadata": {
      "byteLimit": 2048000,
      "rowLimit": 10000
     },
     "inputWidgets": {},
     "nuid": "12263fd2-76e9-43a4-9954-e508ab3c9267",
     "showTitle": false,
     "title": ""
    }
   },
   "outputs": [
    {
     "output_type": "stream",
     "name": "stdout",
     "output_type": "stream",
     "text": [
      "===== Contact Book Menu =====\n1. Add a contact\n2. View contacts\n3. Search for a contact\n4. Delete a contact\n5. Quit\n"
     ]
    },
    {
     "output_type": "display_data",
     "data": {
      "text/plain": [
       "Enter your choice:  "
      ]
     },
     "metadata": {},
     "output_type": "display_data"
    }
   ],
   "source": [
    "\n",
    "contact_book = []\n",
    "\n",
    "def add_contact():\n",
    "    name = input(\"Enter the contact's name: \")\n",
    "    phone = input(\"Enter the contact's phone number: \")\n",
    "    email = input(\"Enter the contact's email address: \")\n",
    "    contact = {\"name\": name, \"phone\": phone, \"email\": email}\n",
    "    contact_book.append(contact)\n",
    "    print(\"Contact added successfully!\")\n",
    "\n",
    "def view_contacts():\n",
    "    if len(contact_book) == 0:\n",
    "        print(\"Contact book is empty.\")\n",
    "    else:\n",
    "        for contact in contact_book:\n",
    "            print(\"Name:\", contact[\"name\"])\n",
    "            print(\"Phone:\", contact[\"phone\"])\n",
    "            print(\"Email:\", contact[\"email\"])\n",
    "            print(\"\")\n",
    "\n",
    "def search_contact():\n",
    "    name = input(\"Enter the name to search: \")\n",
    "    search_results = list(filter(lambda contact: contact[\"name\"].lower() == name.lower(), contact_book))\n",
    "    if len(search_results) == 0:\n",
    "        print(\"Contact not found.\")\n",
    "    else:\n",
    "        for contact in search_results:\n",
    "            print(\"Name:\", contact[\"name\"])\n",
    "            print(\"Phone:\", contact[\"phone\"])\n",
    "            print(\"Email:\", contact[\"email\"])\n",
    "            print(\"\")\n",
    "\n",
    "def delete_contact():\n",
    "    name = input(\"Enter the name to delete: \")\n",
    "    found_contacts = list(filter(lambda contact: contact[\"name\"].lower() == name.lower(), contact_book))\n",
    "    if len(found_contacts) == 0:\n",
    "        print(\"Contact not found.\")\n",
    "    else:\n",
    "        for contact in found_contacts:\n",
    "            contact_book.remove(contact)\n",
    "        print(\"Contact deleted successfully!\")\n",
    "\n",
    "def main_menu():\n",
    "    while True:\n",
    "        print(\"===== Contact Book Menu =====\")\n",
    "        print(\"1. Add a contact\")\n",
    "        print(\"2. View contacts\")\n",
    "        print(\"3. Search for a contact\")\n",
    "        print(\"4. Delete a contact\")\n",
    "        print(\"5. Quit\")\n",
    "        choice = input(\"Enter your choice: \")\n",
    "\n",
    "        if choice == \"1\":\n",
    "            add_contact()\n",
    "        elif choice == \"2\":\n",
    "            view_contacts()\n",
    "        elif choice == \"3\":\n",
    "            search_contact()\n",
    "        elif choice == \"4\":\n",
    "            delete_contact()\n",
    "        elif choice == \"5\":\n",
    "            print(\"Exiting the Contact Book application. Goodbye!\")\n",
    "            break\n",
    "        else:\n",
    "            print(\"Invalid choice. Please try again.\")\n",
    "\n",
    "main_menu()\n",
    "\n"
   ]
  },
  {
   "cell_type": "code",
   "execution_count": 0,
   "metadata": {
    "application/vnd.databricks.v1+cell": {
     "cellMetadata": {
      "byteLimit": 2048000,
      "rowLimit": 10000
     },
     "inputWidgets": {},
     "nuid": "625df6b7-d0f0-4ee2-8e27-bff021bfeaf3",
     "showTitle": false,
     "title": ""
    }
   },
   "outputs": [],
   "source": [
    "contacts = []\n",
    "\n",
    "def add_contact(*args, **kwargs):\n",
    "    contact = {}\n",
    "    for i, arg in enumerate(args):\n",
    "        contact[[\"name\", \"phone\", \"email\"][i]] = arg\n",
    "    contact.update(kwargs)\n",
    "    contacts.append(contact)\n",
    "    print(\"Contact added successfully!\")\n",
    "\n",
    "def view_all_contacts():\n",
    "    print(\"All Contacts:\")\n",
    "    for i, contact in enumerate(contacts, 1):\n",
    "        print(f\"{i}. Name: {contact['name']}, Phone: {contact['phone']}, Email: {contact['email']}\")\n",
    "\n",
    "def search_contact_by_name(name):\n",
    "    result = list(filter(lambda contact: contact['name'].lower() == name.lower(), contacts))\n",
    "    return result\n",
    "\n",
    "def delete_contact_by_name(name):\n",
    "    contact_to_delete = search_contact_by_name(name)\n",
    "    if contact_to_delete:\n",
    "        contacts.remove(contact_to_delete[0])\n",
    "        print(f\"Contact '{name}' deleted successfully!\")\n",
    "    else:\n",
    "        print(f\"Contact '{name}' not found.\")\n",
    "\n",
    "def main_menu():\n",
    "    while True:\n",
    "        print(\"\\nContact Book Menu:\")\n",
    "        print(\"1. Add a Contact\")\n",
    "        print(\"2. View All Contacts\")\n",
    "        print(\"3. Search for a Contact\")\n",
    "        print(\"4. Delete a Contact\")\n",
    "        print(\"5. Quit\")\n",
    "\n",
    "        choice = input(\"Enter your choice (1-5): \")\n",
    "\n",
    "        if choice == '1':\n",
    "            name = input(\"Enter name: \")\n",
    "            phone = input(\"Enter phone number: \")\n",
    "            email = input(\"Enter email: \")\n",
    "            add_contact(name, phone, email=email)\n",
    "        elif choice == '2':\n",
    "            view_all_contacts()\n",
    "        elif choice == '3':\n",
    "            search_name = input(\"Enter name to search: \")\n",
    "            search_result = search_contact_by_name(search_name)\n",
    "            if search_result:\n",
    "                print(\"Search Results:\")\n",
    "                for contact in search_result:\n",
    "                    print(f\"Name: {contact['name']}, Phone: {contact['phone']}, Email: {contact['email']}\")\n",
    "            else:\n",
    "                print(\"Contact not found.\")\n",
    "        elif choice == '4':\n",
    "            delete_name = input(\"Enter name to delete: \")\n",
    "            delete_contact_by_name(delete_name)\n",
    "        elif choice == '5':\n",
    "            print(\"Exiting the Contact Book Application. Goodbye!\")\n",
    "            break\n",
    "        else:\n",
    "            print(\"Invalid choice. Please enter a number between 1 and 5.\")\n",
    "\n",
    "if __name__ == \"__main__\":\n",
    "    main_menu()\n"
   ]
  },
  {
   "cell_type": "code",
   "execution_count": 0,
   "metadata": {
    "application/vnd.databricks.v1+cell": {
     "cellMetadata": {},
     "inputWidgets": {},
     "nuid": "be0cca0a-5397-455d-bc03-7bfbcbdeddb4",
     "showTitle": false,
     "title": ""
    }
   },
   "outputs": [],
   "source": []
  }
 ],
 "metadata": {
  "application/vnd.databricks.v1+notebook": {
   "dashboards": [],
   "language": "python",
   "notebookMetadata": {
    "pythonIndentUnit": 4
   },
   "notebookName": "Contact book",
   "widgets": {}
  }
 },
 "nbformat": 4,
 "nbformat_minor": 0
}
