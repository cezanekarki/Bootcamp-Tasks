{
 "cells": [
  {
   "cell_type": "code",
   "execution_count": 0,
   "metadata": {
    "application/vnd.databricks.v1+cell": {
     "cellMetadata": {
      "byteLimit": 2048000,
      "rowLimit": 10000
     },
     "inputWidgets": {},
     "nuid": "346d65c1-8ed1-4192-b92e-2581852f2682",
     "showTitle": false,
     "title": ""
    }
   },
   "outputs": [],
   "source": [
    "# import json\n",
    "# given_string = \"name:John,age:34,city:New York\"\n",
    "\n",
    "# print(\"The original string : \" + str(given_string))\n",
    "\n",
    "# result = json.loads(given_string)\n",
    "\n",
    "# print(\"The converted dictionary : \" + str(result))\n"
   ]
  },
  {
   "cell_type": "code",
   "execution_count": 0,
   "metadata": {
    "application/vnd.databricks.v1+cell": {
     "cellMetadata": {
      "byteLimit": 2048000,
      "rowLimit": 10000
     },
     "inputWidgets": {},
     "nuid": "1dbbf451-c95f-47fb-81b7-d410cc705c15",
     "showTitle": false,
     "title": ""
    }
   },
   "outputs": [
    {
     "output_type": "stream",
     "name": "stdout",
     "output_type": "stream",
     "text": [
      "{'name': 'John', 'age': '34', 'city': 'New York'}\n"
     ]
    }
   ],
   "source": [
    "\n",
    "string = \"name:John,age:34,city:New York\"\n",
    "dictionary = {}\n",
    "\n",
    "# Split the string by comma \",\"\n",
    "pairs = string.split(\",\")\n",
    "\n",
    "# Iterate through each pair\n",
    "for pair in pairs:\n",
    "    key, value = pair.split(\":\")\n",
    "    key = key.strip()\n",
    "    value = value.strip()\n",
    "    dictionary[key] = value\n",
    "\n",
    "print(dictionary)\n",
    "\n"
   ]
  },
  {
   "cell_type": "code",
   "execution_count": 0,
   "metadata": {
    "application/vnd.databricks.v1+cell": {
     "cellMetadata": {
      "byteLimit": 2048000,
      "rowLimit": 10000
     },
     "inputWidgets": {},
     "nuid": "90753b66-ec55-4c8c-93e8-ef4c797245b5",
     "showTitle": false,
     "title": ""
    }
   },
   "outputs": [
    {
     "output_type": "stream",
     "name": "stdout",
     "output_type": "stream",
     "text": [
      "{'name': 'John', 'age': '34', 'city': 'New York'}\n"
     ]
    }
   ],
   "source": [
    "given_string = \"name:John,age:34,city:New York\"\n",
    "\n",
    "pairs = given_string.split(',')\n",
    "\n",
    "dicionary = {}\n",
    "for pair in pairs:\n",
    "    key, value = pair.split(':')\n",
    "    dicionary[key] = value\n",
    "\n",
    "print(dictionary)\n"
   ]
  },
  {
   "cell_type": "code",
   "execution_count": 0,
   "metadata": {
    "application/vnd.databricks.v1+cell": {
     "cellMetadata": {
      "byteLimit": 2048000,
      "rowLimit": 10000
     },
     "inputWidgets": {},
     "nuid": "ea83912d-8b5f-4c5e-a441-a26c3c8b8389",
     "showTitle": false,
     "title": ""
    }
   },
   "outputs": [
    {
     "output_type": "stream",
     "name": "stdout",
     "output_type": "stream",
     "text": [
      "{'The Great Gatsby': {'author': ' F. Scott Fitzgerald', 'date': ' 1925 '}}\n{'The Great Gatsby': {'author': ' F. Scott Fitzgerald', 'date': ' 1925 '}, ' To Kill a Mockingbird': {'author': ' Harper Lee', 'date': ' 1960 '}}\n{'The Great Gatsby': {'author': ' F. Scott Fitzgerald', 'date': ' 1925 '}, ' To Kill a Mockingbird': {'author': ' Harper Lee', 'date': ' 1960 '}, ' 1984': {'author': ' George Orwell', 'date': ' 1949'}}\n"
     ]
    }
   ],
   "source": [
    "\n",
    "book_string = \"The Great Gatsby, F. Scott Fitzgerald, 1925 | To Kill a Mockingbird, Harper Lee, 1960 | 1984, George Orwell, 1949\"\n",
    "books ={}\n",
    "book_list = book_string.split('|')\n",
    "for book in book_list:\n",
    "    book_attribute = book.split(\",\")\n",
    "    book_title = book_attribute[0]\n",
    "    book_author = book_attribute[1]\n",
    "    book_date = book_attribute[2]\n",
    "\n",
    "    books[book_title] = {\"author\": book_author,\"date\": book_date }\n",
    "\n",
    "    print (books)\n"
   ]
  },
  {
   "cell_type": "code",
   "execution_count": 0,
   "metadata": {
    "application/vnd.databricks.v1+cell": {
     "cellMetadata": {
      "byteLimit": 2048000,
      "rowLimit": 10000
     },
     "inputWidgets": {},
     "nuid": "cea2f4ef-8139-4518-89cd-f8c67c6583cd",
     "showTitle": false,
     "title": ""
    }
   },
   "outputs": [],
   "source": [
    "\n",
    "# names = [\"Alice\", \"Bob\", \"Charlie\"]\n",
    "# grades = [\"A\", \"B\", \"C\"]\n",
    "\n",
    "# merged_dictionary = {}\n",
    "\n",
    "# for i in range(len(names)):\n",
    "#     merged_dictionary[names[i]] = grades[i]\n",
    "\n",
    "# print(merged_dictionary)\n",
    "\n",
    "# using zip function\n",
    "\n",
    "# names = [\"Alice\", \"Bob\", \"Charlie\"]\n",
    "# grades = [\"A\", \"B\", \"C\"]\n",
    "\n",
    "# merged_dictionary = dict(zip(names, grades))\n",
    "# print(merged_dictionary)\n",
    "\n",
    "\n",
    "\n",
    "\n",
    "\n"
   ]
  },
  {
   "cell_type": "code",
   "execution_count": 0,
   "metadata": {
    "application/vnd.databricks.v1+cell": {
     "cellMetadata": {
      "byteLimit": 2048000,
      "rowLimit": 10000
     },
     "inputWidgets": {},
     "nuid": "ccfde314-3a40-4942-9a2a-9b265b760ee4",
     "showTitle": false,
     "title": ""
    }
   },
   "outputs": [
    {
     "output_type": "stream",
     "name": "stdout",
     "output_type": "stream",
     "text": [
      "{'apples': 8, 'oranges': 7, 'bananas': 5}\n"
     ]
    }
   ],
   "source": [
    "\n",
    "stock = {\"apples\": 10, \"oranges\": 8, \"bananas\": 6}\n",
    "sold_items = [\"apples\", \"oranges\", \"apples\", \"bananas\"]\n",
    "\n",
    "for item in sold_items:\n",
    "    if item in stock:\n",
    "        stock[item] -= 1\n",
    "\n",
    "print(stock)\n",
    "\n",
    "\n"
   ]
  },
  {
   "cell_type": "code",
   "execution_count": 0,
   "metadata": {
    "application/vnd.databricks.v1+cell": {
     "cellMetadata": {
      "byteLimit": 2048000,
      "rowLimit": 10000
     },
     "inputWidgets": {},
     "nuid": "d553eb2c-d0cd-41b3-beb7-4ba534b3bef7",
     "showTitle": false,
     "title": ""
    }
   },
   "outputs": [
    {
     "output_type": "stream",
     "name": "stdout",
     "output_type": "stream",
     "text": [
      "{'Alice': 'A', 'Bob': 'B', 'Charlie': 'C'}\n"
     ]
    }
   ],
   "source": [
    "names = [\"Alice\", \"Bob\", \"Charlie\"]\n",
    "grades = [\"A\", \"B\", \"C\"]\n",
    "\n",
    "merged_dict = dict(zip(names, grades))\n",
    "print(merged_dict)"
   ]
  },
  {
   "cell_type": "code",
   "execution_count": 0,
   "metadata": {
    "application/vnd.databricks.v1+cell": {
     "cellMetadata": {
      "byteLimit": 2048000,
      "rowLimit": 10000
     },
     "inputWidgets": {},
     "nuid": "24ea5720-cf24-4a08-8ab9-6ba67fb05b36",
     "showTitle": false,
     "title": ""
    }
   },
   "outputs": [
    {
     "output_type": "stream",
     "name": "stdout",
     "output_type": "stream",
     "text": [
      "[{'name': 'Alice', 'age': 25, 'occupation': 'A'}, {'name': 'Bob', 'age': 30, 'occupation': 'r'}, {'name': 'Charlie', 'age': 35, 'occupation': 't'}]\n"
     ]
    }
   ],
   "source": [
    "\n",
    "# names = [\"Alice\", \"Bob\", \"Charlie\"]\n",
    "# ages = [25, 30, 35]\n",
    "# occupations = [\"Engineer\", \"Doctor\", \"Artist\"]\n",
    "# people = []\n",
    "\n",
    "# for name, age, occupation in zip(names, ages, occupations):\n",
    "#     person = {\n",
    "#         \"name\": name,\n",
    "#         \"age\": age,\n",
    "#         \"occupation\": occupation\n",
    "#     }\n",
    "#     people.append(person)\n",
    "\n",
    "# print(people)\n",
    "\n",
    "people= [{'name': name ,'age':age,'occupation':occupation }\n",
    "          for name,age,occupation \n",
    "          in zip(names,ages,occupation)]\n",
    "\n",
    "print(people)\n",
    "\n"
   ]
  },
  {
   "cell_type": "code",
   "execution_count": 0,
   "metadata": {
    "application/vnd.databricks.v1+cell": {
     "cellMetadata": {},
     "inputWidgets": {},
     "nuid": "87a062f8-70ea-4aa8-b6c1-e12b2f67c684",
     "showTitle": false,
     "title": ""
    }
   },
   "outputs": [],
   "source": [
    "text = "
   ]
  },
  {
   "cell_type": "code",
   "execution_count": 0,
   "metadata": {
    "application/vnd.databricks.v1+cell": {
     "cellMetadata": {
      "byteLimit": 2048000,
      "rowLimit": 10000
     },
     "inputWidgets": {},
     "nuid": "16a7ea88-6e80-42f7-8e2f-374207d882e5",
     "showTitle": false,
     "title": ""
    }
   },
   "outputs": [
    {
     "output_type": "stream",
     "name": "stdout",
     "output_type": "stream",
     "text": [
      "Age: 24\nDays until next birthday: 334\nMonths passed: 293\nWeeks passed: 1256\n"
     ]
    }
   ],
   "source": [
    "import datetime\n",
    "\n",
    "def calculate_age(date_of_birth):\n",
    "    today = datetime.date.today()\n",
    "    age = today.year - date_of_birth.year\n",
    "    if today < datetime.date(today.year, date_of_birth.month, date_of_birth.day):\n",
    "        age -= 1\n",
    "    return age\n",
    "\n",
    "def calculate_days_until_birthday(date_of_birth):\n",
    "    today = datetime.date.today()\n",
    "    next_birthday = datetime.date(today.year, date_of_birth.month, date_of_birth.day)\n",
    "    if today > next_birthday:\n",
    "        next_birthday = datetime.date(today.year + 1, date_of_birth.month, date_of_birth.day)\n",
    "    remaining_days = (next_birthday - today).days\n",
    "    return remaining_days\n",
    "\n",
    "def calculate_months_and_weeks(date_of_birth):\n",
    "    today = datetime.date.today()\n",
    "    age = today - date_of_birth\n",
    "    months_passed = age.days // 30\n",
    "    weeks_passed = age.days // 7\n",
    "    return months_passed, weeks_passed\n",
    "\n",
    "# Example usage:\n",
    "date_of_birth = datetime.date(2000, 1, 1)\n",
    "print(\"Age:\", calculate_age(date_of_birth))\n",
    "print(\"Days until next birthday:\", calculate_days_until_birthday(date_of_birth))\n",
    "months_passed, weeks_passed = calculate_months_and_weeks(date_of_birth)\n",
    "print(\"Months passed:\", months_passed)\n",
    "print(\"Weeks passed:\", weeks_passed)\n"
   ]
  },
  {
   "cell_type": "code",
   "execution_count": 0,
   "metadata": {
    "application/vnd.databricks.v1+cell": {
     "cellMetadata": {
      "byteLimit": 2048000,
      "rowLimit": 10000
     },
     "inputWidgets": {},
     "nuid": "302f1719-5863-4fa1-b8ca-18b6aedf24a7",
     "showTitle": false,
     "title": ""
    }
   },
   "outputs": [
    {
     "output_type": "display_data",
     "data": {
      "text/plain": [
       "Enter your date of birth (YYYY-MM-DD):  "
      ]
     },
     "metadata": {},
     "output_type": "display_data"
    }
   ],
   "source": [
    "import datetime\n",
    "\n",
    "def calculate_age(date_of_birth):\n",
    "    today = datetime.date.today()\n",
    "    age = today.year - date_of_birth.year\n",
    "    if today < datetime.date(today.year, date_of_birth.month, date_of_birth.day):\n",
    "        age -= 1\n",
    "    return age\n",
    "\n",
    "def calculate_days_until_birthday(date_of_birth):\n",
    "    today = datetime.date.today()\n",
    "    next_birthday = datetime.date(today.year, date_of_birth.month, date_of_birth.day)\n",
    "    if today > next_birthday:\n",
    "        next_birthday = datetime.date(today.year + 1, date_of_birth.month, date_of_birth.day)\n",
    "    remaining_days = (next_birthday - today).days\n",
    "    return remaining_days\n",
    "\n",
    "def calculate_months_and_weeks(date_of_birth):\n",
    "    today = datetime.date.today()\n",
    "    age = today - date_of_birth\n",
    "    months_passed = age.days // 30\n",
    "    weeks_passed = age.days // 7\n",
    "    return months_passed, weeks_passed\n",
    "\n",
    "dob_input = input(\"Enter your date of birth (YYYY-MM-DD): \")\n",
    "date_of_birth = datetime.datetime.strptime(dob_input, \"%Y-%m-%d\").date()\n",
    "\n",
    "\n",
    "print(\"Age:\", calculate_age(date_of_birth))\n",
    "print(\"Days until next birthday:\", calculate_days_until_birthday(date_of_birth))\n",
    "months_passed, weeks_passed = calculate_months_and_weeks(date_of_birth)\n",
    "print(\"Months passed:\", months_passed)\n",
    "print(\"Weeks passed:\", weeks_passed)\n"
   ]
  },
  {
   "cell_type": "code",
   "execution_count": 0,
   "metadata": {
    "application/vnd.databricks.v1+cell": {
     "cellMetadata": {
      "byteLimit": 2048000,
      "rowLimit": 10000
     },
     "inputWidgets": {},
     "nuid": "e3d5130c-f257-4892-9035-bd4b2c414934",
     "showTitle": false,
     "title": ""
    }
   },
   "outputs": [
    {
     "output_type": "display_data",
     "data": {
      "text/plain": [
       "Enter the length of the rectangle:  6"
      ]
     },
     "metadata": {},
     "output_type": "display_data"
    },
    {
     "output_type": "display_data",
     "data": {
      "text/plain": [
       "Enter the width of the rectangle:  7"
      ]
     },
     "metadata": {},
     "output_type": "display_data"
    },
    {
     "output_type": "stream",
     "name": "stdout",
     "output_type": "stream",
     "text": [
      "Area: 42.0\nPerimeter: 26.0\nThis rectangle is not a square.\n"
     ]
    }
   ],
   "source": [
    "\n",
    "class Rectangle:\n",
    "    def __init__(self, length, width):\n",
    "        self.length = length\n",
    "        self.width = width\n",
    "\n",
    "    def calculate_area(self):\n",
    "        return self.length * self.width\n",
    "\n",
    "    def calculate_perimeter(self):\n",
    "        return 2 * (self.length + self.width)\n",
    "\n",
    "    def is_square(self):\n",
    "        return self.length == self.width\n",
    "\n",
    "length_input = float(input(\"Enter the length of the rectangle: \"))\n",
    "width_input = float(input(\"Enter the width of the rectangle: \"))\n",
    "\n",
    "# Create a rectangle with user-provided length and width\n",
    "my_rectangle = Rectangle(length_input, width_input)\n",
    "\n",
    "# Print area and perimeter\n",
    "print(f\"Area: {my_rectangle.calculate_area()}\")\n",
    "print(f\"Perimeter: {my_rectangle.calculate_perimeter()}\")\n",
    "\n",
    "# Check if the rectangle is a square\n",
    "if my_rectangle.is_square():\n",
    "    print(\"This rectangle is a square.\")\n",
    "else:\n",
    "    print(\"This rectangle is not a square.\")"
   ]
  },
  {
   "cell_type": "code",
   "execution_count": 0,
   "metadata": {
    "application/vnd.databricks.v1+cell": {
     "cellMetadata": {
      "byteLimit": 2048000,
      "rowLimit": 10000
     },
     "inputWidgets": {},
     "nuid": "28136647-1750-49ad-ac3c-51bad6ff2c6d",
     "showTitle": false,
     "title": ""
    }
   },
   "outputs": [
    {
     "output_type": "display_data",
     "data": {
      "text/plain": [
       "Enter the length of the rectangle:  6"
      ]
     },
     "metadata": {},
     "output_type": "display_data"
    },
    {
     "output_type": "display_data",
     "data": {
      "text/plain": [
       "Enter the width of the rectangle:  8"
      ]
     },
     "metadata": {},
     "output_type": "display_data"
    },
    {
     "output_type": "stream",
     "name": "stdout",
     "output_type": "stream",
     "text": [
      "Area: 48.0\nPerimeter: 28.0\nThis rectangle is not a square.\n"
     ]
    }
   ],
   "source": [
    "\n",
    "class Rectangle:\n",
    "    def __init__(self, length, width):\n",
    "        self.length = length\n",
    "        self.width = width\n",
    "    def calculate_area(self):\n",
    "        return self.length * self.width\n",
    "    def calculate_perimeter(self):\n",
    "        return 2 * (self.length + self.width)\n",
    "    def is_square(self):\n",
    "        return self.length == self.width\n",
    "\n",
    "length_input = float(input(\"Enter the length of the rectangle: \"))\n",
    "width_input = float(input(\"Enter the width of the rectangle: \"))\n",
    "\n",
    "# Create a rectangle with user-provided length and width\n",
    "my_rectangle = Rectangle(length_input, width_input)\n",
    "\n",
    "# Print area and perimeter\n",
    "print(f\"Area: {my_rectangle.calculate_area()}\")\n",
    "print(f\"Perimeter: {my_rectangle.calculate_perimeter()}\")\n",
    "\n",
    "# Check if the rectangle is a square\n",
    "if my_rectangle.is_square():\n",
    "    print(\"This rectangle is a square.\")\n",
    "else:\n",
    "    print(\"This rectangle is not a square.\")\n"
   ]
  },
  {
   "cell_type": "code",
   "execution_count": 0,
   "metadata": {
    "application/vnd.databricks.v1+cell": {
     "cellMetadata": {
      "byteLimit": 2048000,
      "rowLimit": 10000
     },
     "inputWidgets": {},
     "nuid": "16c2dc75-6f50-4c0d-91be-56d85064de1c",
     "showTitle": false,
     "title": ""
    }
   },
   "outputs": [
    {
     "output_type": "stream",
     "name": "stdout",
     "output_type": "stream",
     "text": [
      "----- Contact Book -----\n1. Add Contact\n2. View Contacts\n3. Search Contact\n4. Delete Contact\n5. Quit\n"
     ]
    },
    {
     "output_type": "display_data",
     "data": {
      "text/plain": [
       "Enter your choice (1-5):  5"
      ]
     },
     "metadata": {},
     "output_type": "display_data"
    },
    {
     "output_type": "stream",
     "name": "stdout",
     "output_type": "stream",
     "text": [
      "Thank you for using the Contact Book!\n"
     ]
    }
   ],
   "source": [
    "\n",
    "class Contact:\n",
    "    def __init__(self, name, phone_number, email):\n",
    "        self.name = name\n",
    "        self.phone_number = phone_number\n",
    "        self.email = email\n",
    "    \n",
    "    def __str__(self):\n",
    "        return f\"Name: {self.name}\\nPhone Number: {self.phone_number}\\nEmail: {self.email}\"\n",
    "\n",
    "\n",
    "class ContactBook:\n",
    "    def __init__(self):\n",
    "        self.contacts = []\n",
    "    \n",
    "    def add_contact(self, contact):\n",
    "        self.contacts.append(contact)\n",
    "    \n",
    "    def view_all_contacts(self):\n",
    "        for contact in self.contacts:\n",
    "            print(contact)\n",
    "            print()\n",
    "        \n",
    "    def search_contact(self, name):\n",
    "        for contact in self.contacts:\n",
    "            if contact.name.lower() == name.lower():\n",
    "                print(contact)\n",
    "                print()\n",
    "                return\n",
    "        print(\"Contact not found.\")\n",
    "        print()\n",
    "    \n",
    "    def delete_contact(self, name):\n",
    "        for contact in self.contacts:\n",
    "            if contact.name.lower() == name.lower():\n",
    "                self.contacts.remove(contact)\n",
    "                print(f\"{contact.name} has been deleted.\")\n",
    "                print()\n",
    "                return\n",
    "        print(\"Contact not found.\")\n",
    "        print()\n",
    "\n",
    "\n",
    "def menu():\n",
    "    print(\"----- Contact Book -----\")\n",
    "    print(\"1. Add Contact\")\n",
    "    print(\"2. View Contacts\")\n",
    "    print(\"3. Search Contact\")\n",
    "    print(\"4. Delete Contact\")\n",
    "    print(\"5. Quit\")\n",
    "\n",
    "contact_book = ContactBook()\n",
    "\n",
    "while True:\n",
    "    menu()\n",
    "    choice = input(\"Enter your choice (1-5): \")\n",
    "\n",
    "    if choice == \"1\":\n",
    "        name = input(\"Enter name: \")\n",
    "        phone_number = input(\"Enter phone number: \")\n",
    "        email = input(\"Enter email: \")\n",
    "        contact = Contact(name, phone_number, email)\n",
    "        contact_book.add_contact(contact)\n",
    "        print(\"Contact added successfully.\")\n",
    "        print()\n",
    "    elif choice == \"2\":\n",
    "        contact_book.view_all_contacts()\n",
    "    elif choice == \"3\":\n",
    "        name = input(\"Enter name to search: \")\n",
    "        contact_book.search_contact(name)\n",
    "    elif choice == \"4\":\n",
    "        name = input(\"Enter name to delete: \")\n",
    "        contact_book.delete_contact(name)\n",
    "    elif choice == \"5\":\n",
    "        print(\"Thank you for using the Contact Book!\")\n",
    "        break\n",
    "    else:\n",
    "        print(\"Invalid choice. Please try again.\")\n",
    "        print()\n",
    "\n"
   ]
  },
  {
   "cell_type": "code",
   "execution_count": 0,
   "metadata": {
    "application/vnd.databricks.v1+cell": {
     "cellMetadata": {
      "byteLimit": 2048000,
      "rowLimit": 10000
     },
     "inputWidgets": {},
     "nuid": "574fbae7-045f-46cb-b556-394731114065",
     "showTitle": false,
     "title": ""
    }
   },
   "outputs": [
    {
     "output_type": "stream",
     "name": "stdout",
     "output_type": "stream",
     "text": [
      "----- Contact Book -----\n1. Add Contact\n2. View Contacts\n3. Search Contact\n4. Delete Contact\n5. Quit\n"
     ]
    },
    {
     "output_type": "display_data",
     "data": {
      "text/plain": [
       "Enter your choice (1-5):  1"
      ]
     },
     "metadata": {},
     "output_type": "display_data"
    },
    {
     "output_type": "display_data",
     "data": {
      "text/plain": [
       "Enter name:  sonu subedi"
      ]
     },
     "metadata": {},
     "output_type": "display_data"
    },
    {
     "output_type": "display_data",
     "data": {
      "text/plain": [
       "Enter phone number:  98888888"
      ]
     },
     "metadata": {},
     "output_type": "display_data"
    },
    {
     "output_type": "display_data",
     "data": {
      "text/plain": [
       "Enter email:  gsdulsakdhald"
      ]
     },
     "metadata": {},
     "output_type": "display_data"
    },
    {
     "output_type": "display_data",
     "data": {
      "text/plain": [
       "Enter additional information (optional):  agsjddld"
      ]
     },
     "metadata": {},
     "output_type": "display_data"
    },
    {
     "output_type": "stream",
     "name": "stdout",
     "output_type": "stream",
     "text": [
      "Contact added successfully.\n\n----- Contact Book -----\n1. Add Contact\n2. View Contacts\n3. Search Contact\n4. Delete Contact\n5. Quit\n"
     ]
    },
    {
     "output_type": "display_data",
     "data": {
      "text/plain": [
       "Enter your choice (1-5):  2"
      ]
     },
     "metadata": {},
     "output_type": "display_data"
    },
    {
     "output_type": "stream",
     "name": "stdout",
     "output_type": "stream",
     "text": [
      "Name: sonu subedi\nPhone Number: 98888888\nEmail: gsdulsakdhald\nAdditional_info: agsjddld \n\n----- Contact Book -----\n1. Add Contact\n2. View Contacts\n3. Search Contact\n4. Delete Contact\n5. Quit\n"
     ]
    },
    {
     "output_type": "display_data",
     "data": {
      "text/plain": [
       "Enter your choice (1-5):  "
      ]
     },
     "metadata": {},
     "output_type": "display_data"
    }
   ],
   "source": [
    "class Contact:\n",
    "    def __init__(self, name, phone_number, email, **kwargs):\n",
    "        self.name = name\n",
    "        self.phone_number = phone_number\n",
    "        self.email = email\n",
    "        self.additional_info = kwargs\n",
    "    \n",
    "    def __str__(self):\n",
    "        info_str = \"\\n\".join([f\"{key.capitalize()}: {value}\" for key, value in self.additional_info.items()])\n",
    "        return f\"Name: {self.name}\\nPhone Number: {self.phone_number}\\nEmail: {self.email}\\n{info_str}\"\n",
    "\n",
    "class ContactBook:\n",
    "    def __init__(self, *contacts):\n",
    "        self.contacts = list(contacts)\n",
    "    \n",
    "    add_contact = lambda self, contact: self.contacts.append(contact)\n",
    "    \n",
    "    view_all_contacts = lambda self: [print(contact, \"\\n\") for contact in self.contacts]\n",
    "    \n",
    "    search_contact = lambda self, name: [print(contact, \"\\n\") for contact in self.contacts if contact.name.lower() == name.lower()] or print(\"Contact not found.\\n\")\n",
    "    \n",
    "    delete_contact = lambda self, name: [self.contacts.remove(contact) and print(f\"{contact.name} has been deleted.\\n\") for contact in self.contacts if contact.name.lower() == name.lower()] or print(\"Contact not found.\\n\")\n",
    "\n",
    "contact_book = ContactBook()\n",
    "\n",
    "while True:\n",
    "    menu()\n",
    "    choice = input(\"Enter your choice (1-5): \")\n",
    "\n",
    "    if choice == \"1\":\n",
    "        name = input(\"Enter name: \")\n",
    "        phone_number = input(\"Enter phone number: \")\n",
    "        email = input(\"Enter email: \")\n",
    "        additional_info = input(\"Enter additional information (optional): \")\n",
    "        contact = Contact(name, phone_number, email, additional_info=additional_info)\n",
    "        contact_book.add_contact(contact)\n",
    "        print(\"Contact added successfully.\\n\")\n",
    "    elif choice == \"2\":\n",
    "        contact_book.view_all_contacts()\n",
    "    elif choice == \"3\":\n",
    "        name = input(\"Enter name to search: \")\n",
    "        contact_book.search_contact(name)\n",
    "    elif choice == \"4\":\n",
    "        name = input(\"Enter name to delete: \")\n",
    "        contact_book.delete_contact(name)\n",
    "    elif choice == \"5\":\n",
    "        print(\"Thank you for using the Contact Book!\\n\")\n",
    "        break\n",
    "    else:\n",
    "        print(\"Invalid choice. Please try again.\\n\")\n"
   ]
  },
  {
   "cell_type": "code",
   "execution_count": 0,
   "metadata": {
    "application/vnd.databricks.v1+cell": {
     "cellMetadata": {},
     "inputWidgets": {},
     "nuid": "4f01d5ac-9eb0-4613-b3aa-330ab71253f5",
     "showTitle": false,
     "title": ""
    }
   },
   "outputs": [],
   "source": []
  }
 ],
 "metadata": {
  "application/vnd.databricks.v1+notebook": {
   "dashboards": [],
   "language": "python",
   "notebookMetadata": {
    "pythonIndentUnit": 4
   },
   "notebookName": "Python tasks",
   "widgets": {}
  }
 },
 "nbformat": 4,
 "nbformat_minor": 0
}
