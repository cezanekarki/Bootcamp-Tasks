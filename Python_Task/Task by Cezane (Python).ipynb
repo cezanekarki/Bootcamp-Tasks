{
 "cells": [
  {
   "cell_type": "markdown",
   "metadata": {
    "application/vnd.databricks.v1+cell": {
     "cellMetadata": {},
     "inputWidgets": {},
     "nuid": "4416b2c5-7674-442a-96bb-fc9871f66806",
     "showTitle": false,
     "title": ""
    }
   },
   "source": [
    "###Task 1"
   ]
  },
  {
   "cell_type": "code",
   "execution_count": 0,
   "metadata": {
    "application/vnd.databricks.v1+cell": {
     "cellMetadata": {
      "byteLimit": 2048000,
      "rowLimit": 10000
     },
     "inputWidgets": {},
     "nuid": "dcfb24db-7022-44e1-b378-a588cc027a18",
     "showTitle": false,
     "title": ""
    }
   },
   "outputs": [
    {
     "output_type": "display_data",
     "data": {
      "text/plain": [
       "Write anything meaningful Well done is better than well said"
      ]
     },
     "metadata": {},
     "output_type": "display_data"
    },
    {
     "output_type": "stream",
     "name": "stdout",
     "output_type": "stream",
     "text": [
      "Total words:  7\nNumber of unique word:  6\n"
     ]
    }
   ],
   "source": [
    "#1. Number of words and unique words\n",
    "s = input(\"Write anything meaningful\")\n",
    "s= s.lower()\n",
    "l = s.split()\n",
    "print(\"Total words: \", len(l))\n",
    "\n",
    "#2. Unique Words\n",
    "unique_words = []\n",
    "unique_words1 = [unique_words.append(i) for i in l if i not in unique_words]\n",
    "print(\"Number of unique word: \",len(unique_words))\n",
    "unique_words1 = len(set(l))"
   ]
  },
  {
   "cell_type": "code",
   "execution_count": 0,
   "metadata": {
    "application/vnd.databricks.v1+cell": {
     "cellMetadata": {
      "byteLimit": 2048000,
      "rowLimit": 10000
     },
     "inputWidgets": {},
     "nuid": "e0b66a7a-dc46-4097-8afd-efe22107143d",
     "showTitle": false,
     "title": ""
    }
   },
   "outputs": [
    {
     "output_type": "stream",
     "name": "stdout",
     "output_type": "stream",
     "text": [
      "Frequency of each words: {'well': 2, 'done': 1, 'is': 1, 'better': 1, 'than': 1, 'said': 1}\n"
     ]
    }
   ],
   "source": [
    "# frequency of each words\n",
    "d={}\n",
    "for i in l:\n",
    "    if i not in d:\n",
    "        d[i]=1\n",
    "    else:\n",
    "        d[i]+=1 \n",
    "print(\"Frequency of each words:\", d)"
   ]
  },
  {
   "cell_type": "code",
   "execution_count": 0,
   "metadata": {
    "application/vnd.databricks.v1+cell": {
     "cellMetadata": {
      "byteLimit": 2048000,
      "rowLimit": 10000
     },
     "inputWidgets": {},
     "nuid": "45a36bbd-a34d-4b0e-a835-5f20964dda37",
     "showTitle": false,
     "title": ""
    }
   },
   "outputs": [
    {
     "output_type": "stream",
     "name": "stdout",
     "output_type": "stream",
     "text": [
      "Longest word in the sentence is:  better\nLongest word in the sentence is:  better\n"
     ]
    }
   ],
   "source": [
    "#  Longest word\n",
    "longest_word = \"\"\n",
    "for i in l:\n",
    "    if len(i) > len(longest_word):\n",
    "        longest_word=i\n",
    "print(\"Longest word in the sentence is: \",longest_word)\n",
    "#------\n",
    "longest_word2= max(l,key=len)\n",
    "print(\"Longest word in the sentence is: \",longest_word2)"
   ]
  },
  {
   "cell_type": "code",
   "execution_count": 0,
   "metadata": {
    "application/vnd.databricks.v1+cell": {
     "cellMetadata": {
      "byteLimit": 2048000,
      "rowLimit": 10000
     },
     "inputWidgets": {},
     "nuid": "ffc16bf9-fa97-4eac-97d1-e12643ce7514",
     "showTitle": false,
     "title": ""
    }
   },
   "outputs": [
    {
     "output_type": "stream",
     "name": "stdout",
     "output_type": "stream",
     "text": [
      "Reversed text: dias llew naht retteb si enod llew\n"
     ]
    }
   ],
   "source": [
    "\n",
    "# Reversed text\n",
    "rev_text = s[::-1]\n",
    "#rev_text = \" \".join(rev_text)\n",
    "print(\"Reversed text:\", rev_text)"
   ]
  },
  {
   "cell_type": "code",
   "execution_count": 0,
   "metadata": {
    "application/vnd.databricks.v1+cell": {
     "cellMetadata": {
      "byteLimit": 2048000,
      "rowLimit": 10000
     },
     "inputWidgets": {},
     "nuid": "71838b9c-8fe6-4a06-8e71-1af978dadcaa",
     "showTitle": false,
     "title": ""
    }
   },
   "outputs": [
    {
     "output_type": "stream",
     "name": "stdout",
     "output_type": "stream",
     "text": [
      "List of elements in alphabetical order:  ['better', 'done', 'is', 'said', 'than', 'well', 'well']\nList of elements in reverse alphabetical order:  ['well', 'well', 'than', 'said', 'is', 'done', 'better']\nList of elements in reverse alphabetical order:  ['well', 'well', 'than', 'said', 'is', 'done', 'better']\n"
     ]
    }
   ],
   "source": [
    "# list of words in alphabetical order and reverse alphabetical order\n",
    "sorted_text = sorted(l)\n",
    "rev_sorted_text = sorted_text[::-1]\n",
    "rev_sorted_text2 = sorted(l, reverse=True)\n",
    "print(\"List of elements in alphabetical order: \", sorted_text)\n",
    "print(\"List of elements in reverse alphabetical order: \", rev_sorted_text)\n",
    "print(\"List of elements in reverse alphabetical order: \", rev_sorted_text2)"
   ]
  },
  {
   "cell_type": "markdown",
   "metadata": {
    "application/vnd.databricks.v1+cell": {
     "cellMetadata": {},
     "inputWidgets": {},
     "nuid": "14ac2d47-c9ee-4608-b05a-c442b0037313",
     "showTitle": false,
     "title": ""
    }
   },
   "source": [
    "###Task 2\n",
    "\n",
    "1.Convert \"name:John,age:34,city:New York\" string to dictionary using python.\n",
    "2.You have a string that represents information about various books. Each book's information is separated by a pipe (|), and within each book's data, different attributes like title, author, and year are separated by a comma. Your task is to convert this string into a dictionary where each book's title is the key, and the value is another dictionary containing the author and year of publication.\n",
    "\n",
    "String : \"The Great Gatsby, F. Scott Fitzgerald, 1925 | To Kill a Mockingbird, Harper Lee, 1960 | 1984, George Orwell, 1949\"\n",
    "\n",
    "Convert this string into a nested dictionary with book titles as keys and another dictionary with 'author' and 'year' as keys and their respective values.\n",
    "Expected Output:\n",
    "\n",
    "{\n",
    "    \t'The Great Gatsby': {'author': 'F. Scott Fitzgerald', 'year': '1925'},\n",
    "  \t 'To Kill a Mockingbird': {'author': 'Harper Lee', 'year': '1960'},\n",
    "   \t '1984': {'author': 'George Orwell', 'year': '1949'}\n",
    "}\n",
    "3.Merge two different lists into dictionaries:\n",
    "names = [\"Alice\", \"Bob\", \"Charlie\"]\n",
    "grades = [\"A\", \"B\", \"C\"]\n",
    "\n",
    "4.You have a dictionary of stock quantities for various items and a list of items that have been sold. Update the dictionary by reducing the stock quantity for each sold item.\n",
    "\n",
    "stock = {\"apples\": 10, \"oranges\": 8, \"bananas\": 6}\n",
    "sold_items = [\"apples\", \"oranges\", \"apples\", \"bananas\"]\n",
    "\n",
    "5.You have three lists, containing names, ages, and occupations of a group of people. Combine these lists into a list of dictionaries, each dictionary containing 'name', 'age', and 'occupation' as keys.\n",
    "List:\n",
    "names = [\"Alice\", \"Bob\", \"Charlie\"]\n",
    "ages = [25, 30, 35]\n",
    "occupations = [\"Engineer\", \"Doctor\", \"Artist\"]\n",
    "\n",
    "6.You have received a text message that contains various sentences, some of which are inquiries (ending with a question mark '?'). Your task is to analyze this message and perform several operations using Python string functions.\n",
    "\n",
    "Text :  \"Hello! How are you? I hope you're enjoying your day. Have you seen my notebook? It's important. Thanks for your help!\"\n",
    "\n",
    "Count the Questions: Determine how many sentences in the text are questions.\n",
    "Extract Questions: Create a list containing only the sentences that are questions.\n",
    "Remove Punctuation: Create a new version of the text with all punctuation removed.\n",
    "Word Count: Count how many times the word 'you' appears in the text (case-insensitive).\n",
    "Concatenate: Concatenate the first and last sentences to form a new sentence."
   ]
  },
  {
   "cell_type": "code",
   "execution_count": 0,
   "metadata": {
    "application/vnd.databricks.v1+cell": {
     "cellMetadata": {
      "byteLimit": 2048000,
      "rowLimit": 10000
     },
     "inputWidgets": {},
     "nuid": "161cb361-19e3-4f73-85cb-ca574358a9ad",
     "showTitle": false,
     "title": ""
    }
   },
   "outputs": [
    {
     "output_type": "stream",
     "name": "stdout",
     "output_type": "stream",
     "text": [
      "['name:John', 'age:34', 'city:New York']\n{'name': 'John', 'age': '34', 'city': 'New York'}\n"
     ]
    }
   ],
   "source": [
    "# 1.Convert \"name:John,age:34,city:New York\" string to dictionary using python.\n",
    "\n",
    "raw_data = \"name:John,age:34,city:New York\"\n",
    "data_pairs = raw_data.split(',')\n",
    "print(data_pairs)\n",
    "data = {}\n",
    "\n",
    "for i in data_pairs:\n",
    "    a,b = i.split(':')\n",
    "    data[a]=b\n",
    "print(data)"
   ]
  },
  {
   "cell_type": "code",
   "execution_count": 0,
   "metadata": {
    "application/vnd.databricks.v1+cell": {
     "cellMetadata": {
      "byteLimit": 2048000,
      "rowLimit": 10000
     },
     "inputWidgets": {},
     "nuid": "362fbb33-2fd9-4dbf-a4ea-fcecdeec70da",
     "showTitle": false,
     "title": ""
    }
   },
   "outputs": [
    {
     "output_type": "stream",
     "name": "stdout",
     "output_type": "stream",
     "text": [
      "['The Great Gatsby, F. Scott Fitzgerald, 1925', 'To Kill a Mockingbird, Harper Lee, 1960', '1984, George Orwell, 1949']\n{'The Great Gatsby': {'author': 'F. Scott Fitzgerald', 'year': '1925'}, 'To Kill a Mockingbird': {'author': 'Harper Lee', 'year': '1960'}, '1984': {'author': 'George Orwell', 'year': '1949'}}\n"
     ]
    }
   ],
   "source": [
    "# 2.\tYou have a string that represents information about various books. Each book's information is separated by a pipe (|), and within each book's data, different attributes like title, author, and year are separated by a comma. Your task is to convert this string into a dictionary where each book's title is the key, and the value is another dictionary containing the author and year of publication.\n",
    "# String : \"The Great Gatsby, F. Scott Fitzgerald, 1925 | To Kill a Mockingbird, Harper Lee, 1960 | 1984, George Orwell, 1949\"\n",
    "# Convert this string into a nested dictionary with book titles as keys and another dictionary with 'author' and 'year' as keys and their respective values.\n",
    "# Expected Output:\n",
    "# {\n",
    "#     \t'The Great Gatsby': {'author': 'F. Scott Fitzgerald', 'year': '1925'},\n",
    "#   \t 'To Kill a Mockingbird': {'author': 'Harper Lee', 'year': '1960'},\n",
    "#    \t '1984': {'author': 'George Orwell', 'year': '1949'}\n",
    "# }\n",
    "\n",
    "string2 = \"The Great Gatsby, F. Scott Fitzgerald, 1925 | To Kill a Mockingbird, Harper Lee, 1960 | 1984, George Orwell, 1949\"\n",
    "a = string2.split(' | ')\n",
    "print(a)\n",
    "books = {}\n",
    "for book in a:\n",
    "    title, author, year = book.split(', ')\n",
    "    info = {'author':author, 'year':year}\n",
    "    books[title]=info\n",
    "print(books)"
   ]
  },
  {
   "cell_type": "code",
   "execution_count": 0,
   "metadata": {
    "application/vnd.databricks.v1+cell": {
     "cellMetadata": {
      "byteLimit": 2048000,
      "rowLimit": 10000
     },
     "inputWidgets": {},
     "nuid": "4dcc2bae-3eec-468e-979d-7d218bb9892c",
     "showTitle": false,
     "title": ""
    }
   },
   "outputs": [
    {
     "output_type": "stream",
     "name": "stdout",
     "output_type": "stream",
     "text": [
      "{'Alice': 'A', 'Bob': 'B', 'Charlie': 'C'}\n"
     ]
    }
   ],
   "source": [
    "# 3.Merge two different lists into dictionaries:\n",
    "names = [\"Alice\", \"Bob\", \"Charlie\"]\n",
    "grades = [\"A\", \"B\", \"C\"]\n",
    "student_grades = dict(zip(names, grades))\n",
    "print(student_grades)"
   ]
  },
  {
   "cell_type": "code",
   "execution_count": 0,
   "metadata": {
    "application/vnd.databricks.v1+cell": {
     "cellMetadata": {
      "byteLimit": 2048000,
      "rowLimit": 10000
     },
     "inputWidgets": {},
     "nuid": "07176ef0-d258-4bd1-9145-c1b9e902a71e",
     "showTitle": false,
     "title": ""
    }
   },
   "outputs": [
    {
     "output_type": "stream",
     "name": "stdout",
     "output_type": "stream",
     "text": [
      "Updated Dictionary is:  {'apples': 8, 'oranges': 7, 'bananas': 5}\n"
     ]
    }
   ],
   "source": [
    "# 4.\tYou have a dictionary of stock quantities for various items and a list of items that have been sold. Update the dictionary by reducing the stock quantity for each sold item.\n",
    "\n",
    "stock = {\"apples\": 10, \"oranges\": 8, \"bananas\": 6}\n",
    "sold_items = [\"apples\", \"oranges\", \"apples\", \"bananas\"]\n",
    "\n",
    "for item in sold_items:\n",
    "    stock[item]-=1\n",
    "print(\"Updated Dictionary is: \", stock)\n"
   ]
  },
  {
   "cell_type": "code",
   "execution_count": 0,
   "metadata": {
    "application/vnd.databricks.v1+cell": {
     "cellMetadata": {
      "byteLimit": 2048000,
      "rowLimit": 10000
     },
     "inputWidgets": {},
     "nuid": "0c4165a2-a8d4-4014-9a39-98123801bcb6",
     "showTitle": false,
     "title": ""
    }
   },
   "outputs": [
    {
     "output_type": "stream",
     "name": "stdout",
     "output_type": "stream",
     "text": [
      "List of dictionaries: [{'Name': 'Alice', 'Age': 25, 'Occupation': 'Engineer'}, {'Name': 'Bob', 'Age': 30, 'Occupation': 'Doctor'}, {'Name': 'Charlie', 'Age': 35, 'Occupation': 'Artist'}]\n"
     ]
    }
   ],
   "source": [
    "# 5.\tYou have three lists, containing names, ages, and occupations of a group of people. Combine these lists into a list of dictionaries, each dictionary containing 'name', 'age', and 'occupation' as keys.\n",
    "# List:\n",
    "names = [\"Alice\", \"Bob\", \"Charlie\"]\n",
    "ages = [25, 30, 35]\n",
    "occupations = [\"Engineer\", \"Doctor\", \"Artist\"]\n",
    "\n",
    "data = [{'Name':i, 'Age': j, 'Occupation': k} for i, j, k in zip(names, ages, occupations)]\n",
    "print(f\"List of dictionaries: {data}\")\n"
   ]
  },
  {
   "cell_type": "code",
   "execution_count": 0,
   "metadata": {
    "application/vnd.databricks.v1+cell": {
     "cellMetadata": {
      "byteLimit": 2048000,
      "rowLimit": 10000
     },
     "inputWidgets": {},
     "nuid": "d5d8822d-0267-4781-a41d-d5be475ad967",
     "showTitle": false,
     "title": ""
    }
   },
   "outputs": [
    {
     "output_type": "stream",
     "name": "stdout",
     "output_type": "stream",
     "text": [
      "Total quetions: 2\nTotal quetions : 2\nNew text without punctuation : Hello How are you I hope youre enjoying your day Have you seen my notebook Its important Thanks for your help\nNo of times the word 'you' appears in the text is : 1\nNew sentence: Hello! How are you? I hope you're enjoying your day. Thanks for your help!\n"
     ]
    }
   ],
   "source": [
    "# 6.\tYou have received a text message that contains various sentences, some of which are inquiries (ending with a question mark '?'). Your task is to analyze this message and perform several operations using Python string functions.\n",
    "\n",
    "# Text :  \"Hello! How are you? I hope you're enjoying your day. Have you seen my notebook? It's important. Thanks for your help!\"\n",
    "\n",
    "# Count the Questions: Determine how many sentences in the text are questions.\n",
    "# Extract Questions: Create a list containing only the sentences that are questions.\n",
    "# Remove Punctuation: Create a new version of the text with all punctuation removed.\n",
    "# Word Count: Count how many times the word 'you' appears in the text (case-insensitive).\n",
    "# Concatenate: Concatenate the first and last sentences to form a new sentence.\n",
    "\n",
    "text = \"Hello! How are you? I hope you're enjoying your day. Have you seen my notebook? It's important. Thanks for your help!\"\n",
    "\n",
    "cnt = 0\n",
    "for i in text:\n",
    "    if i == '?':\n",
    "        cnt+=1\n",
    "print(\"Total quetions:\",cnt)\n",
    "#or\n",
    "print(\"Total quetions :\", text.count('?'))\n",
    "\n",
    "\n",
    "# Remove Punctuation: Create a new version of the text with all punctuation removed.\n",
    "new_text =\"\"\n",
    "for char in text:\n",
    "    if char.isalnum() or char.isspace():\n",
    "        new_text += char\n",
    "print(f\"New text without punctuation : {new_text}\")\n",
    "\n",
    "# Word Count: Count how many times the word 'you' appears in the text (case-insensitive).\n",
    "\n",
    "print(\"No of times the word 'you' appears in the text is :\", text.lower().count('you '))\n",
    "\n",
    "# Concatenate: Concatenate the first and last sentences to form a new sentence.\n",
    "text_list = text.split('. ' or '')\n",
    "#print(text_list)\n",
    "concatenate_text = text_list[0] + '. ' + text_list[-1]\n",
    "print(f\"New sentence: {concatenate_text}\")\n"
   ]
  },
  {
   "cell_type": "code",
   "execution_count": 0,
   "metadata": {
    "application/vnd.databricks.v1+cell": {
     "cellMetadata": {
      "byteLimit": 2048000,
      "rowLimit": 10000
     },
     "inputWidgets": {},
     "nuid": "742d0b2f-fffa-44e1-8358-593e7bdb6427",
     "showTitle": false,
     "title": ""
    }
   },
   "outputs": [
    {
     "output_type": "stream",
     "name": "stdout",
     "output_type": "stream",
     "text": [
      "List of Questions: [' How are you?', ' Have you seen my notebook?']\n How are you?\n Have you seen my notebook?\n"
     ]
    }
   ],
   "source": [
    "text = \"Hello! How are you? I hope you're enjoying your day. Have you seen my notebook? It's important. Thanks for your help!\"\n",
    "\n",
    "# Extract Questions: Create a list containing only the sentences that are questions.\n",
    "\n",
    "import re\n",
    "pattern = re.compile(r'[^.!?]*\\?')\n",
    "q = pattern.findall(text)\n",
    "\n",
    "print(f\"List of Questions: {q}\")\n",
    "\n",
    "for i in q:\n",
    "    print(i)"
   ]
  },
  {
   "cell_type": "markdown",
   "metadata": {
    "application/vnd.databricks.v1+cell": {
     "cellMetadata": {},
     "inputWidgets": {},
     "nuid": "117a15f3-9743-4170-a2c9-97290b6d955c",
     "showTitle": false,
     "title": ""
    }
   },
   "source": [
    "###Task 3 Contact Book Application\n"
   ]
  },
  {
   "cell_type": "code",
   "execution_count": 0,
   "metadata": {
    "application/vnd.databricks.v1+cell": {
     "cellMetadata": {
      "byteLimit": 2048000,
      "rowLimit": 10000
     },
     "inputWidgets": {},
     "nuid": "d219f310-e4e3-485b-a1e2-a31145c4a1f8",
     "showTitle": false,
     "title": ""
    }
   },
   "outputs": [
    {
     "output_type": "display_data",
     "data": {
      "text/plain": [
       "\u001B[0;36m  File \u001B[0;32m<command-951191500372291>:1\u001B[0;36m\u001B[0m\n",
       "\u001B[0;31m    Bootcamp Task:\u001B[0m\n",
       "\u001B[0m             ^\u001B[0m\n",
       "\u001B[0;31mSyntaxError\u001B[0m\u001B[0;31m:\u001B[0m invalid syntax\n"
      ]
     },
     "metadata": {
      "application/vnd.databricks.v1+output": {
       "arguments": {},
       "data": "\u001B[0;36m  File \u001B[0;32m<command-951191500372291>:1\u001B[0;36m\u001B[0m\n\u001B[0;31m    Bootcamp Task:\u001B[0m\n\u001B[0m             ^\u001B[0m\n\u001B[0;31mSyntaxError\u001B[0m\u001B[0;31m:\u001B[0m invalid syntax\n",
       "errorSummary": "<span class='ansi-red-fg'>SyntaxError</span>: invalid syntax (<command-951191500372291>, line 1)",
       "errorTraceType": "ansi",
       "metadata": {},
       "type": "ipynbError"
      }
     },
     "output_type": "display_data"
    }
   ],
   "source": [
    "Bootcamp Task: \n",
    "Project: Contact Book Application \n",
    "•\tObjective: Create a Python program that allows users to manage their contacts. Users should be able to add, view, search for, and delete contacts. \n",
    " \n",
    "•\tProject Steps: \n",
    "•\tInitialize the Contact Book: \n",
    "\tCreate an empty list to represent the contact book. Each contact will be a dictionary with attributes like name, phone number, and email. \n",
    "•\tCreate Functions: \n",
    "\tDefine functions for the following actions: \n",
    "•\tAdd a contact. \n",
    "•\tView all contacts. \n",
    "•\tSearch for a contact by name. \n",
    "•\tDelete a contact by name. \n",
    "•\tMain Menu: \n",
    "\tImplement a loop that displays a menu of options for the user. \n",
    "\tOptions may include adding a contact, viewing contacts, searching for a contact, deleting a contact, or quitting the program. \n",
    "•\tUser Input: \n",
    "\tDepending on the user's choice from the menu, prompt them for the necessary input (e.g., name, phone number). \n",
    "•\tPerform Actions: \n",
    "\tBased on the user's choice, call the corresponding function to perform the action. \n",
    "•\tDisplay the Updated Contact List: \n",
    "\tAfter each action, display the updated contact list to the user. \n",
    "•\tExit: \n",
    "\tAllow the user to exit the program when they are done managing their contacts. \n",
    "o\tHints: \n",
    "o\tUse a list to store the contact dictionaries. \n",
    "o\tEach contact can be represented as a dictionary with keys like \"name,\" \"phone,\" and \"email.\" \n",
    "o\tCreate functions for adding, viewing, searching, and deleting contacts. \n",
    "o\tImplement input validation to handle different user inputs. \n",
    "o\tUtilize a lambda function for searching contacts based on name. \n",
    "o\tUse *args and **kwargs in functions to handle variable numbers of arguments for contact attributes. \n"
   ]
  },
  {
   "cell_type": "code",
   "execution_count": 0,
   "metadata": {
    "application/vnd.databricks.v1+cell": {
     "cellMetadata": {
      "byteLimit": 2048000,
      "rowLimit": 10000
     },
     "inputWidgets": {},
     "nuid": "e9a0f5a3-9127-48d9-bd48-52568768a4eb",
     "showTitle": false,
     "title": ""
    }
   },
   "outputs": [
    {
     "output_type": "stream",
     "name": "stdout",
     "output_type": "stream",
     "text": [
      "Contact Book Menu:\n1. Add Contact\n2. View Contacts\n3. Search Contact\n4. Delete Contact\n5. Quit\n"
     ]
    },
    {
     "output_type": "display_data",
     "data": {
      "text/plain": [
       "Enter your choice 1-5:  2"
      ]
     },
     "metadata": {},
     "output_type": "display_data"
    },
    {
     "output_type": "stream",
     "name": "stdout",
     "output_type": "stream",
     "text": [
      "-- Contact Book --\nName: Akshay | Phone number: 8329408075 | E-mail: akshay@dctinc.com\nName: Vedant | Phone number: 7898785647 | E-mail: vedant@dctinc.com\nContact Book Menu:\n1. Add Contact\n2. View Contacts\n3. Search Contact\n4. Delete Contact\n5. Quit\n"
     ]
    },
    {
     "output_type": "display_data",
     "data": {
      "text/plain": [
       "Enter your choice 1-5:  1"
      ]
     },
     "metadata": {},
     "output_type": "display_data"
    },
    {
     "output_type": "display_data",
     "data": {
      "text/plain": [
       "Enter your name: Aladin"
      ]
     },
     "metadata": {},
     "output_type": "display_data"
    },
    {
     "output_type": "display_data",
     "data": {
      "text/plain": [
       "Enter your phone number: 9898989898"
      ]
     },
     "metadata": {},
     "output_type": "display_data"
    },
    {
     "output_type": "display_data",
     "data": {
      "text/plain": [
       "Enter your email: aladin@wadia.com"
      ]
     },
     "metadata": {},
     "output_type": "display_data"
    },
    {
     "output_type": "stream",
     "name": "stdout",
     "output_type": "stream",
     "text": [
      "Contact Book Menu:\n1. Add Contact\n2. View Contacts\n3. Search Contact\n4. Delete Contact\n5. Quit\n"
     ]
    },
    {
     "output_type": "display_data",
     "data": {
      "text/plain": [
       "Enter your choice 1-5:  2"
      ]
     },
     "metadata": {},
     "output_type": "display_data"
    },
    {
     "output_type": "stream",
     "name": "stdout",
     "output_type": "stream",
     "text": [
      "-- Contact Book --\nName: Akshay | Phone number: 8329408075 | E-mail: akshay@dctinc.com\nName: Vedant | Phone number: 7898785647 | E-mail: vedant@dctinc.com\nName: Aladin | Phone number: 9898989898 | E-mail: aladin@wadia.com\nContact Book Menu:\n1. Add Contact\n2. View Contacts\n3. Search Contact\n4. Delete Contact\n5. Quit\n"
     ]
    },
    {
     "output_type": "display_data",
     "data": {
      "text/plain": [
       "Enter your choice 1-5:  3"
      ]
     },
     "metadata": {},
     "output_type": "display_data"
    },
    {
     "output_type": "display_data",
     "data": {
      "text/plain": [
       "Enter name to search: akshay"
      ]
     },
     "metadata": {},
     "output_type": "display_data"
    },
    {
     "output_type": "stream",
     "name": "stdout",
     "output_type": "stream",
     "text": [
      "Name: Akshay | Phone number: 8329408075 | E-mail: akshay@dctinc.com\nContact Book Menu:\n1. Add Contact\n2. View Contacts\n3. Search Contact\n4. Delete Contact\n5. Quit\n"
     ]
    },
    {
     "output_type": "display_data",
     "data": {
      "text/plain": [
       "Enter your choice 1-5:  5"
      ]
     },
     "metadata": {},
     "output_type": "display_data"
    },
    {
     "output_type": "stream",
     "name": "stdout",
     "output_type": "stream",
     "text": [
      "Exiting Contact Book. Goodbye!\n"
     ]
    }
   ],
   "source": [
    "\n",
    "contact_book = [{'Name': 'Akshay', 'Phone number': '8329408075', 'Email': 'akshay@dctinc.com'},\n",
    "                {'Name': 'Vedant', 'Phone number': '7898785647', 'Email': 'vedant@dctinc.com'}]\n",
    "\n",
    "def add_contacts(**kwargs):\n",
    "    name = kwargs.get('name', input(\"Enter your name:\"))\n",
    "\n",
    "    # strip() removes leading and trailing whitespaces.\n",
    "\n",
    "    if not name.strip():\n",
    "        print(\"Please enter a valid name.\")\n",
    "        add_contacts()\n",
    "        return\n",
    "    \n",
    "    phone_no = kwargs.get('phone_no', input(\"Enter your phone number:\"))\n",
    "\n",
    "    if not phone_no.isdigit() or len(phone_no) != 10:\n",
    "        print(\"Invalid phone number. Please enter a 10-digit numeric phone number.\")\n",
    "        add_contacts()\n",
    "        return\n",
    "    \n",
    "    email = kwargs.get('email', input(\"Enter your email:\"))\n",
    "    temp = {'Name': name, 'Phone number': phone_no, 'Email': email}\n",
    "    contact_book.append(temp)\n",
    "\n",
    "def view_contacts():\n",
    "    print(\"-- Contact Book --\")\n",
    "    for i in contact_book:\n",
    "        print(f\"Name: {i['Name']} | Phone number: {i['Phone number']} | E-mail: {i['Email']}\")\n",
    "\n",
    "def search_contacts(**kwargs):\n",
    "    search_name = kwargs.get('search_name', input('Enter name to search:')).lower()\n",
    "    search_result = list(filter(lambda contact: contact['Name'].lower() == search_name, contact_book))\n",
    "    if search_result:\n",
    "        for contact in search_result:\n",
    "            print(f\"Name: {contact['Name']} | Phone number: {contact['Phone number']} | E-mail: {contact['Email']}\")\n",
    "    else:\n",
    "        print(f\"Contact with name '{search_name}' is not present\")\n",
    "\n",
    "\n",
    "def delete_contacts(**kwargs):\n",
    "    search_name = kwargs.get('search_name', input('Enter name to delete:')).lower()\n",
    "    deleted_contacts = [contact for contact in contact_book if contact['Name'].lower() == search_name]\n",
    "    if deleted_contacts:\n",
    "        contact_book.remove(deleted_contacts[0])\n",
    "        print('Contact deleted')\n",
    "    else:\n",
    "        print(f\"Contact with name '{search_name}' not found\")\n",
    "\n",
    "def delete_contacts(**kwargs):\n",
    "    search_name = kwargs.get('search_name', input('Enter name to delete:')).lower()\n",
    "    \n",
    "    contact_book[:] = [contact for contact in contact_book if (lambda c: c['Name'].lower() != search_name)(contact)]\n",
    "    \n",
    "    if len(contact_book) < len(deleted_contacts):\n",
    "        print('Contact deleted')\n",
    "    else:\n",
    "        print(f\"No contact with name '{search_name}' found\")\n",
    "\n",
    "def main_menu():\n",
    "    while True:\n",
    "        print(\"Contact Book Menu:\")\n",
    "        print(\"1. Add Contact\")\n",
    "        print(\"2. View Contacts\")\n",
    "        print(\"3. Search Contact\")\n",
    "        print(\"4. Delete Contact\")\n",
    "        print(\"5. Quit\")\n",
    "        choice = int(input(\"Enter your choice 1-5: \"))\n",
    "        if choice == 1:\n",
    "            add_contacts()\n",
    "        elif choice == 2:\n",
    "            view_contacts()\n",
    "        elif choice == 3:\n",
    "            search_contacts()\n",
    "        elif choice == 4:\n",
    "            delete_contacts()\n",
    "        elif choice == 5:\n",
    "            print(\"Exiting Contact Book. Goodbye!\")\n",
    "            break\n",
    "        else:\n",
    "            print(\"Invalid choice. Please enter a number between 1 and 5.\")\n",
    "\n",
    "if __name__ == \"__main__\":\n",
    "    main_menu()\n"
   ]
  },
  {
   "cell_type": "markdown",
   "metadata": {
    "application/vnd.databricks.v1+cell": {
     "cellMetadata": {
      "byteLimit": 2048000,
      "rowLimit": 10000
     },
     "inputWidgets": {},
     "nuid": "0bcb4c03-f174-4b30-8efd-dd363186fbbf",
     "showTitle": false,
     "title": ""
    }
   },
   "source": [
    "### By Oops concept"
   ]
  },
  {
   "cell_type": "code",
   "execution_count": 0,
   "metadata": {
    "application/vnd.databricks.v1+cell": {
     "cellMetadata": {
      "byteLimit": 2048000,
      "rowLimit": 10000
     },
     "inputWidgets": {},
     "nuid": "21f191ae-df59-4f3c-ba70-14150aaa1ddb",
     "showTitle": false,
     "title": ""
    }
   },
   "outputs": [
    {
     "output_type": "stream",
     "name": "stdout",
     "output_type": "stream",
     "text": [
      "Contact Book Menu:\n1. Add Contact\n2. View Contacts\n3. Search Contact\n4. Delete Contact\n5. Quit\n"
     ]
    },
    {
     "output_type": "display_data",
     "data": {
      "text/plain": [
       "Enter your choice 1-5:  2"
      ]
     },
     "metadata": {},
     "output_type": "display_data"
    },
    {
     "output_type": "stream",
     "name": "stdout",
     "output_type": "stream",
     "text": [
      "-- Contact Book --\nName: Akshay | Phone number: 8329408075 | E-mail: akshay@dctinc.com\nName: Vedant | Phone number: 7898785647 | E-mail: vedant@dctinc.com\nContact Book Menu:\n1. Add Contact\n2. View Contacts\n3. Search Contact\n4. Delete Contact\n5. Quit\n"
     ]
    },
    {
     "output_type": "display_data",
     "data": {
      "text/plain": [
       "Enter your choice 1-5:  "
      ]
     },
     "metadata": {},
     "output_type": "display_data"
    }
   ],
   "source": [
    "class ContactBook:\n",
    "    def __init__(self,contact_book):\n",
    "        self.contact_book = contact_book\n",
    "\n",
    "    def add_contact(self):\n",
    "        while True:\n",
    "            name = input(\"Enter your name: \")\n",
    "            # strip() removes leading and trailing whitespaces.\n",
    "            if not name.strip():\n",
    "                print(\"Please enter a valid name.\")\n",
    "                continue\n",
    "            phone_no = input(\"Enter your phone number: \")\n",
    "            if not phone_no.isdigit() or len(phone_no) != 10:\n",
    "                print(\"Invalid phone number. Please enter a 10-digit numeric phone number.\")\n",
    "                continue\n",
    "            email = input(\"Enter your email: \")\n",
    "            temp = {'Name': name, 'Phone number': phone_no, 'Email': email}\n",
    "            self.contact_book.append(temp)\n",
    "            break\n",
    "\n",
    "    def view_contacts(self):\n",
    "        print(\"-- Contact Book --\")\n",
    "        for contact in self.contact_book:\n",
    "            print(f\"Name: {contact['Name']} | Phone number: {contact['Phone number']} | E-mail: {contact['Email']}\")\n",
    "\n",
    "    def search_contacts(self):\n",
    "        search_name = input('Enter name to search: ').lower()\n",
    "        search_result = list(filter(lambda contact: contact['Name'].lower() == search_name, self.contact_book))\n",
    "        if search_result:\n",
    "            for contact in search_result:\n",
    "                print(f\"Name: {contact['Name']} | Phone number: {contact['Phone number']} | E-mail: {contact['Email']}\")\n",
    "        else:\n",
    "            print(f\"Contact with name '{search_name}' is not present\")\n",
    "\n",
    "    def delete_contacts(self):\n",
    "        search_name = input('Enter name to delete: ').lower()\n",
    "        deleted_contacts = [contact for contact in self.contact_book if contact['Name'].lower() == search_name]\n",
    "        if deleted_contacts:\n",
    "            self.contact_book.remove(deleted_contacts[0])\n",
    "            print('Contact deleted')\n",
    "        else:\n",
    "            print(f\"Contact with name '{search_name}' not found\")\n",
    "\n",
    "    def main_menu(self):\n",
    "        while True:\n",
    "            print(\"Contact Book Menu:\")\n",
    "            print(\"1. Add Contact\")\n",
    "            print(\"2. View Contacts\")\n",
    "            print(\"3. Search Contact\")\n",
    "            print(\"4. Delete Contact\")\n",
    "            print(\"5. Quit\")\n",
    "            choice = int(input(\"Enter your choice 1-5: \"))\n",
    "            if choice == 1:\n",
    "                self.add_contact()\n",
    "            elif choice == 2:\n",
    "                self.view_contacts()\n",
    "            elif choice == 3:\n",
    "                self.search_contacts()\n",
    "            elif choice == 4:\n",
    "                self.delete_contacts()\n",
    "            elif choice == 5:\n",
    "                print(\"Exiting Contact Book. Goodbye!\")\n",
    "                break\n",
    "            else:\n",
    "                print(\"Invalid choice. Please enter a number between 1 and 5.\")\n",
    "\n",
    "contact_book = [{'Name': 'Akshay', 'Phone number': '8329408075', 'Email': 'akshay@dctinc.com'},\n",
    "                {'Name': 'Vedant', 'Phone number': '7898785647', 'Email': 'vedant@dctinc.com'}]\n",
    "contact_book_app = ContactBook(contact_book)\n",
    "contact_book_app.main_menu()\n"
   ]
  },
  {
   "cell_type": "code",
   "execution_count": 0,
   "metadata": {
    "application/vnd.databricks.v1+cell": {
     "cellMetadata": {},
     "inputWidgets": {},
     "nuid": "c0d14700-b918-4fb7-b4be-8a57d0b1a7a4",
     "showTitle": false,
     "title": ""
    }
   },
   "outputs": [],
   "source": []
  }
 ],
 "metadata": {
  "application/vnd.databricks.v1+notebook": {
   "dashboards": [],
   "language": "python",
   "notebookMetadata": {
    "pythonIndentUnit": 4
   },
   "notebookName": "Task by Cezane (Python)",
   "widgets": {}
  }
 },
 "nbformat": 4,
 "nbformat_minor": 0
}
