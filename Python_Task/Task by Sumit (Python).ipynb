{
 "cells": [
  {
   "cell_type": "markdown",
   "metadata": {
    "application/vnd.databricks.v1+cell": {
     "cellMetadata": {},
     "inputWidgets": {},
     "nuid": "ee12ac4d-8037-4023-93aa-ce6ed1f20453",
     "showTitle": false,
     "title": ""
    }
   },
   "source": [
    "###Python Tasks"
   ]
  },
  {
   "cell_type": "code",
   "execution_count": 0,
   "metadata": {
    "application/vnd.databricks.v1+cell": {
     "cellMetadata": {
      "byteLimit": 2048000,
      "rowLimit": 10000
     },
     "inputWidgets": {},
     "nuid": "e47c56a3-6125-47bc-8f6a-90a682a549ef",
     "showTitle": false,
     "title": ""
    }
   },
   "outputs": [],
   "source": [
    "import os, sys\n",
    "from datetime import time\n",
    "from datetime import datetime\n",
    "import requests\n",
    "from requests import Session"
   ]
  },
  {
   "cell_type": "markdown",
   "metadata": {
    "application/vnd.databricks.v1+cell": {
     "cellMetadata": {},
     "inputWidgets": {},
     "nuid": "968a09dc-380e-4ab3-8755-ccc7c29e341e",
     "showTitle": false,
     "title": ""
    }
   },
   "source": [
    "####Task1 \n",
    "Write a python function to calculate someone's age using date of birth.\n",
    "\n",
    "Write another function to calculate remaining days left for the person's birthday.\n",
    "\n",
    "Write another function to calculate the number of months and weeks passed after the person was born."
   ]
  },
  {
   "cell_type": "code",
   "execution_count": 0,
   "metadata": {
    "application/vnd.databricks.v1+cell": {
     "cellMetadata": {
      "byteLimit": 2048000,
      "rowLimit": 10000
     },
     "inputWidgets": {},
     "nuid": "e3b30d98-cbd1-4117-9640-b94f27af8db7",
     "showTitle": false,
     "title": ""
    }
   },
   "outputs": [
    {
     "output_type": "display_data",
     "data": {
      "text/plain": [
       "Enter your date of birth:  09 01 1998"
      ]
     },
     "metadata": {},
     "output_type": "display_data"
    },
    {
     "output_type": "stream",
     "name": "stdout",
     "output_type": "stream",
     "text": [
      "Age: 26 years\nRemaining days until birthday: 331 days\nMonths passed: 313 months\nWeeks passed: 1356 weeks\n"
     ]
    }
   ],
   "source": [
    "from datetime import datetime\n",
    "from dateutil.relativedelta import relativedelta\n",
    "\n",
    "def parse_date(date_str):\n",
    "    try:\n",
    "        return datetime.strptime(date_str, '%Y-%m-%d')\n",
    "    except ValueError:\n",
    "        return datetime.strptime(date_str, '%d %m %Y')\n",
    "\n",
    "def calculate_age(dob): \n",
    "    dob = parse_date(dob) \n",
    "    cur_year = datetime.now().year \n",
    "    print(f\"Age: {cur_year - dob.year} years\")\n",
    "\n",
    "def days_until_birthday(dob):\n",
    "    today = datetime.today()\n",
    "    birthdate = parse_date(dob)\n",
    "    next_birthday = datetime(today.year, birthdate.month, birthdate.day)\n",
    "    if today > next_birthday:\n",
    "        next_birthday = datetime(today.year + 1, birthdate.month, birthdate.day)\n",
    "    days_left = (next_birthday - today).days\n",
    "    print(f\"Remaining days until birthday: {days_left} days\") \n",
    "\n",
    "def month_week(dob): \n",
    "    dob = parse_date(dob) \n",
    "    now = datetime.now() \n",
    "    delta = relativedelta(now, dob) \n",
    "    months = delta.years * 12 + delta.months \n",
    "    weeks = delta.years * 52 + delta.months * 4 + delta.days // 7 \n",
    "    print(f\"Months passed: {months} months\")\n",
    "    print(f\"Weeks passed: {weeks} weeks\")\n",
    "\n",
    "dob = input(\"Enter your date of birth: \")\n",
    "calculate_age(dob) \n",
    "days_until_birthday(dob) \n",
    "month_week(dob)\n"
   ]
  },
  {
   "cell_type": "markdown",
   "metadata": {
    "application/vnd.databricks.v1+cell": {
     "cellMetadata": {},
     "inputWidgets": {},
     "nuid": "508af415-db6e-4f40-a5e1-8ddb494a8e24",
     "showTitle": false,
     "title": ""
    }
   },
   "source": [
    "###Task 2\n",
    "\n",
    "Create a Python class named Rectangle to represent rectangles. The class should have the following attributes and methods:\n",
    "\n",
    "Attributes:\n",
    "\n",
    "length (positive float): Length of the rectangle.\n",
    "\n",
    "width (positive float): Width of the rectangle.\n",
    "\n",
    "Methods:\n",
    "\n",
    "__init__(self, length, width): Constructor method to initialize the length and width attributes.\n",
    "calculate_area(self): Method that calculates and returns the area of the rectangle.\n",
    "calculate_perimeter(self): Method that calculates and returns the perimeter of the rectangle.\n",
    "is_square(self): Method that returns True if the rectangle is a square (length equals width), otherwise returns False.\n",
    "Write a program that creates an instance of the Rectangle class, sets the length and width, and then prints the area, perimeter, and whether the rectangle is a square.\n",
    "\n",
    "--Create a rectangle with length 5 and width 7\n",
    "my_rectangle = Rectangle(5, 7)\n",
    "\n",
    "--Print area and perimeter\n",
    "print(f\"Area: {my_rectangle.calculate_area()}\")\n",
    "print(f\"Perimeter: {my_rectangle.calculate_perimeter()}\")\n",
    "--Check if the rectangle is a square\n",
    "if my_rectangle.is_square():\n",
    "    print(\"This rectangle is a square.\")\n",
    "else:\n",
    "    print(\"This rectangle is not a square.\")"
   ]
  },
  {
   "cell_type": "code",
   "execution_count": 0,
   "metadata": {
    "application/vnd.databricks.v1+cell": {
     "cellMetadata": {
      "byteLimit": 2048000,
      "rowLimit": 10000
     },
     "inputWidgets": {},
     "nuid": "6a7667e6-66d1-486f-b18d-1feccedecc8b",
     "showTitle": false,
     "title": ""
    }
   },
   "outputs": [
    {
     "output_type": "display_data",
     "data": {
      "text/plain": [
       "Enter the length of the rectangle:  10"
      ]
     },
     "metadata": {},
     "output_type": "display_data"
    },
    {
     "output_type": "display_data",
     "data": {
      "text/plain": [
       "Enter the width of the rectangle:  15"
      ]
     },
     "metadata": {},
     "output_type": "display_data"
    },
    {
     "output_type": "stream",
     "name": "stdout",
     "output_type": "stream",
     "text": [
      "Area: 150.0\nPerimeter: 50.0\nThis rectangle is not a square.\n"
     ]
    }
   ],
   "source": [
    "class Rectangle:\n",
    "    def __init__(self, length, width):\n",
    "        self.length = length\n",
    "        self.width = width\n",
    "\n",
    "    def calculate_area(self):\n",
    "        return self.length * self.width\n",
    "\n",
    "    def calculate_perimeter(self):\n",
    "        return 2 * (self.length + self.width)\n",
    "\n",
    "    def is_square(self):\n",
    "        return self.length == self.width\n",
    "\n",
    "length = float(input(\"Enter the length of the rectangle: \"))\n",
    "width = float(input(\"Enter the width of the rectangle: \"))\n",
    "\n",
    "rectangle = Rectangle(length, width)\n",
    "\n",
    "print(f\"Area: {rectangle.calculate_area()}\")\n",
    "print(f\"Perimeter: {rectangle.calculate_perimeter()}\")\n",
    "\n",
    "if rectangle.is_square():\n",
    "    print(\"This rectangle is a square.\")\n",
    "else:\n",
    "    print(\"This rectangle is not a square.\")\n"
   ]
  },
  {
   "cell_type": "markdown",
   "metadata": {
    "application/vnd.databricks.v1+cell": {
     "cellMetadata": {},
     "inputWidgets": {},
     "nuid": "91194d56-bdf8-4a46-9f2c-a912dab064b5",
     "showTitle": false,
     "title": ""
    }
   },
   "source": [
    "###Task 3\n",
    "Create a string variable with the below value\n",
    "\n",
    "{\"name\": \"John Doe\", \"dob\": \"1990-01-01 00:00:00\", \"city\": \"Anytown\", \"email\": \"john.doe@example.com\", \"is_student\": false}\n",
    "\n",
    "Parse the string with json.loads()\n",
    "\n",
    "Repeat the same work but this time read the data from the json file record.json that you just created. This time the dob should be datetime object after loading.\n",
    "\n",
    "Parse the content after reading the file. This gives you a dictionary.\n",
    "Parse the datetime using datetime.strptime().\n",
    "Update the dictionary with the above datetime.\n"
   ]
  },
  {
   "cell_type": "code",
   "execution_count": 0,
   "metadata": {
    "application/vnd.databricks.v1+cell": {
     "cellMetadata": {
      "byteLimit": 2048000,
      "rowLimit": 10000
     },
     "inputWidgets": {},
     "nuid": "401be4a2-cb09-45ff-b63f-f4ca051d2e0d",
     "showTitle": false,
     "title": ""
    }
   },
   "outputs": [
    {
     "output_type": "stream",
     "name": "stdout",
     "output_type": "stream",
     "text": [
      "{\"name\": \"John Doe\", \"dob\": \"1990-01-01\", \"city\": \"Anytown\", \"email\": \"john.doe@example.com\", \"is_student\": false}\n{'name': 'John Doe', 'dob': '1990-01-01', 'city': 'Anytown', 'email': 'john.doe@example.com', 'is_student': False}\n"
     ]
    }
   ],
   "source": [
    "import json\n",
    "from datetime import datetime\n",
    "temp = {\"name\": \"John Doe\", \"dob\": \"1990-01-01 00:00:00\", \"city\": \"Anytown\", \"email\": \"john.doe@example.com\", \"is_student\": False}\n",
    "\n",
    "temp['dob'] = datetime.strptime(temp['dob'], '%Y-%m-%d %H:%M:%S').date()\n",
    "\n",
    "temp['dob'] = temp['dob'].strftime('%Y-%m-%d')\n",
    "\n",
    "json_dump=json.dumps(temp)\n",
    "json_load = json.loads(json_dump)\n",
    "print(json_dump)\n",
    "print(json_load)"
   ]
  },
  {
   "cell_type": "code",
   "execution_count": 0,
   "metadata": {
    "application/vnd.databricks.v1+cell": {
     "cellMetadata": {
      "byteLimit": 2048000,
      "rowLimit": 10000
     },
     "inputWidgets": {},
     "nuid": "fb60355b-48b3-428e-a5a1-61858c466269",
     "showTitle": false,
     "title": ""
    }
   },
   "outputs": [
    {
     "output_type": "stream",
     "name": "stdout",
     "output_type": "stream",
     "text": [
      "{\"name\": \"John Doe\", \"dob\": \"1990-01-01\", \"city\": \"Anytown\", \"email\": \"john.doe@example.com\", \"is_student\": false}\n"
     ]
    }
   ],
   "source": [
    "with open(\"record.json\", \"w+\") as f:\n",
    "    f.write(json_dump)\n",
    "    \n",
    "    f.seek(0)\n",
    "    print(f.read())"
   ]
  },
  {
   "cell_type": "markdown",
   "metadata": {
    "application/vnd.databricks.v1+cell": {
     "cellMetadata": {},
     "inputWidgets": {},
     "nuid": "01e78142-d278-42d7-82c8-42f9da8574ba",
     "showTitle": false,
     "title": ""
    }
   },
   "source": [
    "###Task 4\n"
   ]
  },
  {
   "cell_type": "code",
   "execution_count": 0,
   "metadata": {
    "application/vnd.databricks.v1+cell": {
     "cellMetadata": {
      "byteLimit": 2048000,
      "rowLimit": 10000
     },
     "inputWidgets": {},
     "nuid": "a81c2c64-aa95-4bc3-add8-7d63db63df61",
     "showTitle": false,
     "title": ""
    }
   },
   "outputs": [
    {
     "output_type": "stream",
     "name": "stdout",
     "output_type": "stream",
     "text": [
      "{\"id\":101,\"title\":\"BMW Pencil\"}\n{'id': 101, 'title': 'BMW Pencil'}\n"
     ]
    }
   ],
   "source": [
    "data = {\n",
    "    \"title\": \"BMW Pencil\"\n",
    "}\n",
    "\n",
    "response = requests.post(\"https://dummyjson.com/products/add\", json=data)\n",
    "print(response.text)\n",
    "print(response.json())"
   ]
  },
  {
   "cell_type": "markdown",
   "metadata": {
    "application/vnd.databricks.v1+cell": {
     "cellMetadata": {},
     "inputWidgets": {},
     "nuid": "fd653ab0-bef1-4cd7-a62c-7431f94f49a7",
     "showTitle": false,
     "title": ""
    }
   },
   "source": [
    "requests has a class Session. Instantiate an object of the class Session and request the above POST request with that instance.\n",
    "```python\n",
    "from requests import Session\n",
    "s = Session()\n",
    "```"
   ]
  },
  {
   "cell_type": "code",
   "execution_count": 0,
   "metadata": {
    "application/vnd.databricks.v1+cell": {
     "cellMetadata": {
      "byteLimit": 2048000,
      "rowLimit": 10000
     },
     "inputWidgets": {},
     "nuid": "bad72b01-ba4c-46b3-a7e3-163a18432270",
     "showTitle": false,
     "title": ""
    }
   },
   "outputs": [
    {
     "output_type": "stream",
     "name": "stdout",
     "output_type": "stream",
     "text": [
      "{\"message\":\"Invalid credentials\"}\n{\"message\":\"Authentication Problem\"}\n"
     ]
    }
   ],
   "source": [
    "# https://dummyjson.com/docs/auth\n",
    "from requests import Session\n",
    "\n",
    "s = Session()\n",
    "response = s.post(\"https://dummyjson.com/auth/login\")\n",
    "print(response.text)\n",
    "response = s.get(\"https://dummyjson.com/auth/me\")\n",
    "print(response.text)"
   ]
  },
  {
   "cell_type": "code",
   "execution_count": 0,
   "metadata": {
    "application/vnd.databricks.v1+cell": {
     "cellMetadata": {
      "byteLimit": 2048000,
      "rowLimit": 10000
     },
     "inputWidgets": {},
     "nuid": "f4f23649-8cbf-4efd-ad03-36520854e3c7",
     "showTitle": false,
     "title": ""
    }
   },
   "outputs": [
    {
     "output_type": "stream",
     "name": "stdout",
     "output_type": "stream",
     "text": [
      "Contact Book Menu:\n1. Add Contact\n2. View Contacts\n3. Search Contact\n4. Delete Contact\n5. Quit\n"
     ]
    },
    {
     "output_type": "display_data",
     "data": {
      "text/plain": [
       "Enter your choice 1-5:  "
      ]
     },
     "metadata": {},
     "output_type": "display_data"
    }
   ],
   "source": []
  },
  {
   "cell_type": "code",
   "execution_count": 0,
   "metadata": {
    "application/vnd.databricks.v1+cell": {
     "cellMetadata": {},
     "inputWidgets": {},
     "nuid": "14a10b7f-47e8-4352-b25e-0d5b7a14d5e3",
     "showTitle": false,
     "title": ""
    }
   },
   "outputs": [],
   "source": []
  }
 ],
 "metadata": {
  "application/vnd.databricks.v1+notebook": {
   "dashboards": [],
   "language": "python",
   "notebookMetadata": {
    "pythonIndentUnit": 4
   },
   "notebookName": "Task by Sumit (Python)",
   "widgets": {}
  }
 },
 "nbformat": 4,
 "nbformat_minor": 0
}
