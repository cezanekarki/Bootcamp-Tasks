{
 "cells": [
  {
   "cell_type": "markdown",
   "metadata": {
    "application/vnd.databricks.v1+cell": {
     "cellMetadata": {
      "byteLimit": 2048000,
      "rowLimit": 10000
     },
     "inputWidgets": {},
     "nuid": "d98e6fc6-8a4e-4e40-b3d2-cc9563936c9f",
     "showTitle": false,
     "title": ""
    }
   },
   "source": [
    "#Task1\n",
    "**1 : Write a python function to calculate someone's age using date of birth.**\n",
    "\n",
    "**Write another function to calculate remaining days left for the person's birthday.**\n",
    "\n",
    "**Write another function to calculate the number of months and weeks passed after the person was born.**"
   ]
  },
  {
   "cell_type": "code",
   "execution_count": 0,
   "metadata": {
    "application/vnd.databricks.v1+cell": {
     "cellMetadata": {
      "byteLimit": 2048000,
      "rowLimit": 10000
     },
     "inputWidgets": {},
     "nuid": "988e9f00-a495-477d-9a63-46bf04bdf45b",
     "showTitle": false,
     "title": ""
    }
   },
   "outputs": [
    {
     "output_type": "display_data",
     "data": {
      "text/plain": [
       "Enter the birthddte (yyyy-mm-dd) 1998-09-16"
      ]
     },
     "metadata": {},
     "output_type": "display_data"
    },
    {
     "output_type": "stream",
     "name": "stdout",
     "output_type": "stream",
     "text": [
      "Age: 25 years\nRemaining days until the birthday: 209 days\nNumber of months passed: 309 months\nNumber of weeks passed: 1326 weeks\n"
     ]
    }
   ],
   "source": [
    "\n",
    "\n",
    "from datetime import date,datetime\n",
    " \n",
    "def cal_Age(birthDate):\n",
    "    today = date.today()\n",
    "    age = today.year - birthDate.year - ((today.month, today.day) < (birthDate.month, birthDate.day))\n",
    " \n",
    "    return age\n",
    "\n",
    "def remaining_days_until_birthday(birthdate):\n",
    "    today = datetime.now().date()\n",
    "    next_birthday = datetime(today.year, birthdate.month, birthdate.day).date()\n",
    "\n",
    "    # Check if birthday has already occurred this year\n",
    "    if today > next_birthday:\n",
    "        next_birthday = datetime(today.year + 1, birthdate.month, birthdate.day).date()\n",
    "\n",
    "    # Calculate the remaining days\n",
    "    remaining_days = (next_birthday - today).days\n",
    "    \n",
    "    return remaining_days\n",
    "\n",
    "def months_and_weeks_passed(birthdate):\n",
    "    today = datetime.now().date()\n",
    "    delta = today - birthdate\n",
    "\n",
    "    # Calculate the number of months and weeks\n",
    "    months_passed = delta.days // 30     #Assuming an average month has 30 days\n",
    "    weeks_passed = delta.days // 7\n",
    "\n",
    "    return months_passed, weeks_passed\n",
    "     \n",
    "birth_date= input(\"Enter the birthddte (yyyy-mm-dd)\")\n",
    "birth_date_parts = map(int, birth_date.split('-'))\n",
    "birth_date = date(*birth_date_parts)\n",
    "\n",
    "print(f\"Age: {cal_Age(birth_date)} years\")\n",
    "\n",
    "remaining_days = remaining_days_until_birthday(birth_date)\n",
    "print(f\"Remaining days until the birthday: {remaining_days} days\")\n",
    "\n",
    "months, weeks = months_and_weeks_passed(birth_date)\n",
    "print(f\"Number of months passed: {months} months\")\n",
    "print(f\"Number of weeks passed: {weeks} weeks\")"
   ]
  }
 ],
 "metadata": {
  "application/vnd.databricks.v1+notebook": {
   "dashboards": [],
   "language": "python",
   "notebookMetadata": {
    "pythonIndentUnit": 4
   },
   "notebookName": "Python Date and Time Task",
   "widgets": {}
  }
 },
 "nbformat": 4,
 "nbformat_minor": 0
}
