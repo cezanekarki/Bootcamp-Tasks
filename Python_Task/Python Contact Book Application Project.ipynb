{
 "cells": [
  {
   "cell_type": "code",
   "execution_count": 0,
   "metadata": {
    "application/vnd.databricks.v1+cell": {
     "cellMetadata": {
      "byteLimit": 2048000,
      "rowLimit": 10000
     },
     "inputWidgets": {},
     "nuid": "f6bbf54c-22f5-4617-bb17-a6aef18b818c",
     "showTitle": false,
     "title": ""
    }
   },
   "outputs": [],
   "source": [
    "contacts = []"
   ]
  },
  {
   "cell_type": "code",
   "execution_count": 0,
   "metadata": {
    "application/vnd.databricks.v1+cell": {
     "cellMetadata": {
      "byteLimit": 2048000,
      "rowLimit": 10000
     },
     "inputWidgets": {},
     "nuid": "3512dfd8-4725-4b9b-96a7-1af3615eb56e",
     "showTitle": false,
     "title": ""
    }
   },
   "outputs": [],
   "source": [
    "def add_contact():\n",
    "    name = input(\"Enter contact name: \")\n",
    "    phone = input(\"Enter contact phone number: \")\n",
    "    email = input(\"Enter contact email: \")\n",
    "    contact = {\"name\": name, \"phone\": phone, \"email\": email}\n",
    "    contacts.append(contact)\n",
    "    print(f\"{name} added to contacts.\")"
   ]
  },
  {
   "cell_type": "code",
   "execution_count": 0,
   "metadata": {
    "application/vnd.databricks.v1+cell": {
     "cellMetadata": {
      "byteLimit": 2048000,
      "rowLimit": 10000
     },
     "inputWidgets": {},
     "nuid": "3f6c81f2-34a1-46ab-81c0-148901a819da",
     "showTitle": false,
     "title": ""
    }
   },
   "outputs": [],
   "source": [
    "def view_contacts():\n",
    "    if not contacts:\n",
    "        print(\"No contacts available.\")\n",
    "    else:\n",
    "        for contact in contacts:\n",
    "            print(f\"Name: {contact['name']}, Phone: {contact['phone']}, Email: {contact['email']}\")\n",
    "\n"
   ]
  },
  {
   "cell_type": "code",
   "execution_count": 0,
   "metadata": {
    "application/vnd.databricks.v1+cell": {
     "cellMetadata": {
      "byteLimit": 2048000,
      "rowLimit": 10000
     },
     "inputWidgets": {},
     "nuid": "42344c92-e959-4467-9fbb-1b8a3acf5459",
     "showTitle": false,
     "title": ""
    }
   },
   "outputs": [],
   "source": [
    "def search_contact():\n",
    "    if not contacts:\n",
    "        print(\"No contacts available.\")\n",
    "        return\n",
    "    search_name = input(\"Enter the name to search: \")\n",
    "    search_result = list(filter(lambda x: x['name'].lower() == search_name.lower(), contacts))\n",
    "    if not search_result:\n",
    "        print(f\"No contact found with the name {search_name}.\")\n",
    "    else:\n",
    "        for contact in search_result:\n",
    "            print(f\"Name: {contact['name']}, Phone: {contact['phone']}, Email: {contact['email']}\")"
   ]
  },
  {
   "cell_type": "code",
   "execution_count": 0,
   "metadata": {
    "application/vnd.databricks.v1+cell": {
     "cellMetadata": {
      "byteLimit": 2048000,
      "rowLimit": 10000
     },
     "inputWidgets": {},
     "nuid": "928f699c-963d-4f8f-831b-bdcd7521130a",
     "showTitle": false,
     "title": ""
    }
   },
   "outputs": [],
   "source": [
    "def delete_contact():\n",
    "    global contacts\n",
    "    if not contacts:\n",
    "        print(\"No contacts available.\")\n",
    "        return\n",
    "    delete_name = input(\"Enter the name to delete: \")\n",
    "    contacts = [contact for contact in contacts if contact['name'].lower() != delete_name.lower()]\n",
    "    print(f\"{delete_name} deleted from contacts.\")"
   ]
  },
  {
   "cell_type": "code",
   "execution_count": 0,
   "metadata": {
    "application/vnd.databricks.v1+cell": {
     "cellMetadata": {
      "byteLimit": 2048000,
      "rowLimit": 10000
     },
     "inputWidgets": {},
     "nuid": "46af3d99-a08a-4143-8b82-4300fbd33866",
     "showTitle": false,
     "title": ""
    }
   },
   "outputs": [
    {
     "output_type": "stream",
     "name": "stdout",
     "output_type": "stream",
     "text": [
      "----- Contact Book Menu -----\n            1. Add a contact\n            2. View all contacts\n            3. Search for a contact\n            4. Delete a contact\n            5. Quit\n"
     ]
    },
    {
     "output_type": "display_data",
     "data": {
      "text/plain": [
       "Enter your choice from 1-5:  2"
      ]
     },
     "metadata": {},
     "output_type": "display_data"
    },
    {
     "output_type": "stream",
     "name": "stdout",
     "output_type": "stream",
     "text": [
      "No contacts available.\n----- Contact Book Menu -----\n            1. Add a contact\n            2. View all contacts\n            3. Search for a contact\n            4. Delete a contact\n            5. Quit\n"
     ]
    },
    {
     "output_type": "display_data",
     "data": {
      "text/plain": [
       "Enter your choice from 1-5:  1"
      ]
     },
     "metadata": {},
     "output_type": "display_data"
    },
    {
     "output_type": "display_data",
     "data": {
      "text/plain": [
       "Enter contact name:  akshay"
      ]
     },
     "metadata": {},
     "output_type": "display_data"
    },
    {
     "output_type": "display_data",
     "data": {
      "text/plain": [
       "Enter contact phone number:  12345"
      ]
     },
     "metadata": {},
     "output_type": "display_data"
    },
    {
     "output_type": "display_data",
     "data": {
      "text/plain": [
       "Enter contact email:  sumit@gmail.com"
      ]
     },
     "metadata": {},
     "output_type": "display_data"
    },
    {
     "output_type": "stream",
     "name": "stdout",
     "output_type": "stream",
     "text": [
      "akshay added to contacts.\n----- Contact Book Menu -----\n            1. Add a contact\n            2. View all contacts\n            3. Search for a contact\n            4. Delete a contact\n            5. Quit\n"
     ]
    },
    {
     "output_type": "display_data",
     "data": {
      "text/plain": [
       "Enter your choice from 1-5:  1"
      ]
     },
     "metadata": {},
     "output_type": "display_data"
    },
    {
     "output_type": "display_data",
     "data": {
      "text/plain": [
       "Enter contact name:  ketan "
      ]
     },
     "metadata": {},
     "output_type": "display_data"
    },
    {
     "output_type": "display_data",
     "data": {
      "text/plain": [
       "Enter contact phone number:  56789"
      ]
     },
     "metadata": {},
     "output_type": "display_data"
    },
    {
     "output_type": "display_data",
     "data": {
      "text/plain": [
       "Enter contact email:  ketan@gmail.com"
      ]
     },
     "metadata": {},
     "output_type": "display_data"
    },
    {
     "output_type": "stream",
     "name": "stdout",
     "output_type": "stream",
     "text": [
      "ketan  added to contacts.\n----- Contact Book Menu -----\n            1. Add a contact\n            2. View all contacts\n            3. Search for a contact\n            4. Delete a contact\n            5. Quit\n"
     ]
    },
    {
     "output_type": "display_data",
     "data": {
      "text/plain": [
       "Enter your choice from 1-5:  1"
      ]
     },
     "metadata": {},
     "output_type": "display_data"
    },
    {
     "output_type": "display_data",
     "data": {
      "text/plain": [
       "Enter contact name:  sahil"
      ]
     },
     "metadata": {},
     "output_type": "display_data"
    },
    {
     "output_type": "display_data",
     "data": {
      "text/plain": [
       "Enter contact phone number:  1234567"
      ]
     },
     "metadata": {},
     "output_type": "display_data"
    },
    {
     "output_type": "display_data",
     "data": {
      "text/plain": [
       "Enter contact email:  sahil@gmail.com"
      ]
     },
     "metadata": {},
     "output_type": "display_data"
    },
    {
     "output_type": "stream",
     "name": "stdout",
     "output_type": "stream",
     "text": [
      "sahil added to contacts.\n----- Contact Book Menu -----\n            1. Add a contact\n            2. View all contacts\n            3. Search for a contact\n            4. Delete a contact\n            5. Quit\n"
     ]
    },
    {
     "output_type": "display_data",
     "data": {
      "text/plain": [
       "Enter your choice from 1-5:  2"
      ]
     },
     "metadata": {},
     "output_type": "display_data"
    },
    {
     "output_type": "stream",
     "name": "stdout",
     "output_type": "stream",
     "text": [
      "Name: akshay, Phone: 12345, Email: sumit@gmail.com\nName: ketan , Phone: 56789, Email: ketan@gmail.com\nName: sahil, Phone: 1234567, Email: sahil@gmail.com\n----- Contact Book Menu -----\n            1. Add a contact\n            2. View all contacts\n            3. Search for a contact\n            4. Delete a contact\n            5. Quit\n"
     ]
    },
    {
     "output_type": "display_data",
     "data": {
      "text/plain": [
       "Enter your choice from 1-5:  3"
      ]
     },
     "metadata": {},
     "output_type": "display_data"
    },
    {
     "output_type": "display_data",
     "data": {
      "text/plain": [
       "Enter the name to search:  sahil"
      ]
     },
     "metadata": {},
     "output_type": "display_data"
    },
    {
     "output_type": "stream",
     "name": "stdout",
     "output_type": "stream",
     "text": [
      "Name: sahil, Phone: 1234567, Email: sahil@gmail.com\n----- Contact Book Menu -----\n            1. Add a contact\n            2. View all contacts\n            3. Search for a contact\n            4. Delete a contact\n            5. Quit\n"
     ]
    },
    {
     "output_type": "display_data",
     "data": {
      "text/plain": [
       "Enter your choice from 1-5:  4"
      ]
     },
     "metadata": {},
     "output_type": "display_data"
    },
    {
     "output_type": "display_data",
     "data": {
      "text/plain": [
       "Enter the name to delete:  sahil"
      ]
     },
     "metadata": {},
     "output_type": "display_data"
    },
    {
     "output_type": "stream",
     "name": "stdout",
     "output_type": "stream",
     "text": [
      "sahil deleted from contacts.\n----- Contact Book Menu -----\n            1. Add a contact\n            2. View all contacts\n            3. Search for a contact\n            4. Delete a contact\n            5. Quit\n"
     ]
    },
    {
     "output_type": "display_data",
     "data": {
      "text/plain": [
       "Enter your choice from 1-5:  2"
      ]
     },
     "metadata": {},
     "output_type": "display_data"
    },
    {
     "output_type": "stream",
     "name": "stdout",
     "output_type": "stream",
     "text": [
      "Name: akshay, Phone: 12345, Email: sumit@gmail.com\nName: ketan , Phone: 56789, Email: ketan@gmail.com\n----- Contact Book Menu -----\n            1. Add a contact\n            2. View all contacts\n            3. Search for a contact\n            4. Delete a contact\n            5. Quit\n"
     ]
    },
    {
     "output_type": "display_data",
     "data": {
      "text/plain": [
       "Enter your choice from 1-5:  5"
      ]
     },
     "metadata": {},
     "output_type": "display_data"
    },
    {
     "output_type": "stream",
     "name": "stdout",
     "output_type": "stream",
     "text": [
      "Exiting Contact Book. Goodbye!\n"
     ]
    }
   ],
   "source": [
    "def main_menu():\n",
    "    while True:\n",
    "        print('''----- Contact Book Menu -----\n",
    "            1. Add a contact\n",
    "            2. View all contacts\n",
    "            3. Search for a contact\n",
    "            4. Delete a contact\n",
    "            5. Quit''')\n",
    "\n",
    "        choice = int(input(\"Enter your choice from 1-5: \"))\n",
    "        \n",
    "        if choice == 1:\n",
    "            add_contact()\n",
    "        elif choice == 2:\n",
    "            view_contacts()\n",
    "        elif choice == 3:\n",
    "            search_contact()\n",
    "        elif choice == 4:\n",
    "            delete_contact()\n",
    "        elif choice == 5:\n",
    "            print(\"Exiting Contact Book. Goodbye!\")\n",
    "            break\n",
    "        else:\n",
    "            print(\"Invalid choice. Please enter a number between 1 and 5.\")\n",
    "\n",
    "if __name__ == \"__main__\":\n",
    "    main_menu()"
   ]
  },
  {
   "cell_type": "code",
   "execution_count": 0,
   "metadata": {
    "application/vnd.databricks.v1+cell": {
     "cellMetadata": {
      "byteLimit": 2048000,
      "rowLimit": 10000
     },
     "inputWidgets": {},
     "nuid": "64bf75a9-2c2d-4f0b-818c-b4f8a7059050",
     "showTitle": false,
     "title": ""
    }
   },
   "outputs": [],
   "source": []
  }
 ],
 "metadata": {
  "application/vnd.databricks.v1+notebook": {
   "dashboards": [],
   "language": "python",
   "notebookMetadata": {
    "pythonIndentUnit": 4
   },
   "notebookName": "Python Contact Book Application Project",
   "widgets": {}
  }
 },
 "nbformat": 4,
 "nbformat_minor": 0
}
