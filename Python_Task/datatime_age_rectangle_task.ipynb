{
  "nbformat": 4,
  "nbformat_minor": 0,
  "metadata": {
    "colab": {
      "provenance": []
    },
    "kernelspec": {
      "name": "python3",
      "display_name": "Python 3"
    },
    "language_info": {
      "name": "python"
    },
    "widgets": {
      "application/vnd.jupyter.widget-state+json": {
        "52e5cf86d3c24457b66ce58e52287d99": {
          "model_module": "@jupyter-widgets/controls",
          "model_name": "IntTextModel",
          "model_module_version": "1.5.0",
          "state": {
            "_dom_classes": [],
            "_model_module": "@jupyter-widgets/controls",
            "_model_module_version": "1.5.0",
            "_model_name": "IntTextModel",
            "_view_count": null,
            "_view_module": "@jupyter-widgets/controls",
            "_view_module_version": "1.5.0",
            "_view_name": "IntTextView",
            "continuous_update": false,
            "description": "Year:",
            "description_tooltip": null,
            "disabled": false,
            "layout": "IPY_MODEL_871097427b4c423391e5aa610f2dbc44",
            "step": 1,
            "style": "IPY_MODEL_01991e7086684b85bfc68b2866237ecb",
            "value": 2021
          }
        },
        "871097427b4c423391e5aa610f2dbc44": {
          "model_module": "@jupyter-widgets/base",
          "model_name": "LayoutModel",
          "model_module_version": "1.2.0",
          "state": {
            "_model_module": "@jupyter-widgets/base",
            "_model_module_version": "1.2.0",
            "_model_name": "LayoutModel",
            "_view_count": null,
            "_view_module": "@jupyter-widgets/base",
            "_view_module_version": "1.2.0",
            "_view_name": "LayoutView",
            "align_content": null,
            "align_items": null,
            "align_self": null,
            "border": null,
            "bottom": null,
            "display": null,
            "flex": null,
            "flex_flow": null,
            "grid_area": null,
            "grid_auto_columns": null,
            "grid_auto_flow": null,
            "grid_auto_rows": null,
            "grid_column": null,
            "grid_gap": null,
            "grid_row": null,
            "grid_template_areas": null,
            "grid_template_columns": null,
            "grid_template_rows": null,
            "height": null,
            "justify_content": null,
            "justify_items": null,
            "left": null,
            "margin": null,
            "max_height": null,
            "max_width": null,
            "min_height": null,
            "min_width": null,
            "object_fit": null,
            "object_position": null,
            "order": null,
            "overflow": null,
            "overflow_x": null,
            "overflow_y": null,
            "padding": null,
            "right": null,
            "top": null,
            "visibility": null,
            "width": null
          }
        },
        "01991e7086684b85bfc68b2866237ecb": {
          "model_module": "@jupyter-widgets/controls",
          "model_name": "DescriptionStyleModel",
          "model_module_version": "1.5.0",
          "state": {
            "_model_module": "@jupyter-widgets/controls",
            "_model_module_version": "1.5.0",
            "_model_name": "DescriptionStyleModel",
            "_view_count": null,
            "_view_module": "@jupyter-widgets/base",
            "_view_module_version": "1.2.0",
            "_view_name": "StyleView",
            "description_width": ""
          }
        },
        "c43164e8cc1b448991773c9a282048d7": {
          "model_module": "@jupyter-widgets/controls",
          "model_name": "IntTextModel",
          "model_module_version": "1.5.0",
          "state": {
            "_dom_classes": [],
            "_model_module": "@jupyter-widgets/controls",
            "_model_module_version": "1.5.0",
            "_model_name": "IntTextModel",
            "_view_count": null,
            "_view_module": "@jupyter-widgets/controls",
            "_view_module_version": "1.5.0",
            "_view_name": "IntTextView",
            "continuous_update": false,
            "description": "Month:",
            "description_tooltip": null,
            "disabled": false,
            "layout": "IPY_MODEL_cf03e9d28a57495580cfaa750c78c7f4",
            "step": 1,
            "style": "IPY_MODEL_4fdfee3e16c641a8bcd0ab7988db2ab1",
            "value": 1
          }
        },
        "cf03e9d28a57495580cfaa750c78c7f4": {
          "model_module": "@jupyter-widgets/base",
          "model_name": "LayoutModel",
          "model_module_version": "1.2.0",
          "state": {
            "_model_module": "@jupyter-widgets/base",
            "_model_module_version": "1.2.0",
            "_model_name": "LayoutModel",
            "_view_count": null,
            "_view_module": "@jupyter-widgets/base",
            "_view_module_version": "1.2.0",
            "_view_name": "LayoutView",
            "align_content": null,
            "align_items": null,
            "align_self": null,
            "border": null,
            "bottom": null,
            "display": null,
            "flex": null,
            "flex_flow": null,
            "grid_area": null,
            "grid_auto_columns": null,
            "grid_auto_flow": null,
            "grid_auto_rows": null,
            "grid_column": null,
            "grid_gap": null,
            "grid_row": null,
            "grid_template_areas": null,
            "grid_template_columns": null,
            "grid_template_rows": null,
            "height": null,
            "justify_content": null,
            "justify_items": null,
            "left": null,
            "margin": null,
            "max_height": null,
            "max_width": null,
            "min_height": null,
            "min_width": null,
            "object_fit": null,
            "object_position": null,
            "order": null,
            "overflow": null,
            "overflow_x": null,
            "overflow_y": null,
            "padding": null,
            "right": null,
            "top": null,
            "visibility": null,
            "width": null
          }
        },
        "4fdfee3e16c641a8bcd0ab7988db2ab1": {
          "model_module": "@jupyter-widgets/controls",
          "model_name": "DescriptionStyleModel",
          "model_module_version": "1.5.0",
          "state": {
            "_model_module": "@jupyter-widgets/controls",
            "_model_module_version": "1.5.0",
            "_model_name": "DescriptionStyleModel",
            "_view_count": null,
            "_view_module": "@jupyter-widgets/base",
            "_view_module_version": "1.2.0",
            "_view_name": "StyleView",
            "description_width": ""
          }
        },
        "4fb79822779d49d3818c1f89b0a72b42": {
          "model_module": "@jupyter-widgets/controls",
          "model_name": "IntTextModel",
          "model_module_version": "1.5.0",
          "state": {
            "_dom_classes": [],
            "_model_module": "@jupyter-widgets/controls",
            "_model_module_version": "1.5.0",
            "_model_name": "IntTextModel",
            "_view_count": null,
            "_view_module": "@jupyter-widgets/controls",
            "_view_module_version": "1.5.0",
            "_view_name": "IntTextView",
            "continuous_update": false,
            "description": "Day:",
            "description_tooltip": null,
            "disabled": false,
            "layout": "IPY_MODEL_b4117c46d5bf4b819f40ae7007dcf938",
            "step": 1,
            "style": "IPY_MODEL_2b24fc4eb993444eb35e0c119df4c0d6",
            "value": 3
          }
        },
        "b4117c46d5bf4b819f40ae7007dcf938": {
          "model_module": "@jupyter-widgets/base",
          "model_name": "LayoutModel",
          "model_module_version": "1.2.0",
          "state": {
            "_model_module": "@jupyter-widgets/base",
            "_model_module_version": "1.2.0",
            "_model_name": "LayoutModel",
            "_view_count": null,
            "_view_module": "@jupyter-widgets/base",
            "_view_module_version": "1.2.0",
            "_view_name": "LayoutView",
            "align_content": null,
            "align_items": null,
            "align_self": null,
            "border": null,
            "bottom": null,
            "display": null,
            "flex": null,
            "flex_flow": null,
            "grid_area": null,
            "grid_auto_columns": null,
            "grid_auto_flow": null,
            "grid_auto_rows": null,
            "grid_column": null,
            "grid_gap": null,
            "grid_row": null,
            "grid_template_areas": null,
            "grid_template_columns": null,
            "grid_template_rows": null,
            "height": null,
            "justify_content": null,
            "justify_items": null,
            "left": null,
            "margin": null,
            "max_height": null,
            "max_width": null,
            "min_height": null,
            "min_width": null,
            "object_fit": null,
            "object_position": null,
            "order": null,
            "overflow": null,
            "overflow_x": null,
            "overflow_y": null,
            "padding": null,
            "right": null,
            "top": null,
            "visibility": null,
            "width": null
          }
        },
        "2b24fc4eb993444eb35e0c119df4c0d6": {
          "model_module": "@jupyter-widgets/controls",
          "model_name": "DescriptionStyleModel",
          "model_module_version": "1.5.0",
          "state": {
            "_model_module": "@jupyter-widgets/controls",
            "_model_module_version": "1.5.0",
            "_model_name": "DescriptionStyleModel",
            "_view_count": null,
            "_view_module": "@jupyter-widgets/base",
            "_view_module_version": "1.2.0",
            "_view_name": "StyleView",
            "description_width": ""
          }
        },
        "737db30160084546a649b49835a8fe08": {
          "model_module": "@jupyter-widgets/controls",
          "model_name": "ButtonModel",
          "model_module_version": "1.5.0",
          "state": {
            "_dom_classes": [],
            "_model_module": "@jupyter-widgets/controls",
            "_model_module_version": "1.5.0",
            "_model_name": "ButtonModel",
            "_view_count": null,
            "_view_module": "@jupyter-widgets/controls",
            "_view_module_version": "1.5.0",
            "_view_name": "ButtonView",
            "button_style": "",
            "description": "Enter",
            "disabled": false,
            "icon": "",
            "layout": "IPY_MODEL_d91ecd92bf284750ba4c7f40344412e4",
            "style": "IPY_MODEL_dbdcf7686b4540b8a27f641921f62eb5",
            "tooltip": ""
          }
        },
        "d91ecd92bf284750ba4c7f40344412e4": {
          "model_module": "@jupyter-widgets/base",
          "model_name": "LayoutModel",
          "model_module_version": "1.2.0",
          "state": {
            "_model_module": "@jupyter-widgets/base",
            "_model_module_version": "1.2.0",
            "_model_name": "LayoutModel",
            "_view_count": null,
            "_view_module": "@jupyter-widgets/base",
            "_view_module_version": "1.2.0",
            "_view_name": "LayoutView",
            "align_content": null,
            "align_items": null,
            "align_self": null,
            "border": null,
            "bottom": null,
            "display": null,
            "flex": null,
            "flex_flow": null,
            "grid_area": null,
            "grid_auto_columns": null,
            "grid_auto_flow": null,
            "grid_auto_rows": null,
            "grid_column": null,
            "grid_gap": null,
            "grid_row": null,
            "grid_template_areas": null,
            "grid_template_columns": null,
            "grid_template_rows": null,
            "height": null,
            "justify_content": null,
            "justify_items": null,
            "left": null,
            "margin": null,
            "max_height": null,
            "max_width": null,
            "min_height": null,
            "min_width": null,
            "object_fit": null,
            "object_position": null,
            "order": null,
            "overflow": null,
            "overflow_x": null,
            "overflow_y": null,
            "padding": null,
            "right": null,
            "top": null,
            "visibility": null,
            "width": null
          }
        },
        "dbdcf7686b4540b8a27f641921f62eb5": {
          "model_module": "@jupyter-widgets/controls",
          "model_name": "ButtonStyleModel",
          "model_module_version": "1.5.0",
          "state": {
            "_model_module": "@jupyter-widgets/controls",
            "_model_module_version": "1.5.0",
            "_model_name": "ButtonStyleModel",
            "_view_count": null,
            "_view_module": "@jupyter-widgets/base",
            "_view_module_version": "1.2.0",
            "_view_name": "StyleView",
            "button_color": null,
            "font_weight": ""
          }
        }
      }
    }
  },
  "cells": [
    {
      "cell_type": "markdown",
      "source": [
        "1. Write a python function to calculate someone's age using date of birth.\n",
        "\n",
        "2. Write another function to calculate remaining days left for the person's birthday.\n",
        "\n",
        "3. Write another function to calculate the number of months and weeks passed after the person was born"
      ],
      "metadata": {
        "id": "ppN8AZp009gk"
      }
    },
    {
      "cell_type": "code",
      "source": [
        "from google.colab import widgets\n",
        "from IPython.display import display, clear_output\n",
        "import ipywidgets as ipw\n",
        "from datetime import datetime\n",
        "from dateutil.relativedelta import relativedelta"
      ],
      "metadata": {
        "id": "E46S8u11e0eo"
      },
      "execution_count": null,
      "outputs": []
    },
    {
      "cell_type": "code",
      "source": [
        "import ipywidgets as ipw\n",
        "from datetime import datetime\n",
        "from dateutil.relativedelta import relativedelta\n",
        "\n",
        "\n",
        "def calculate_age(dob):\n",
        "  dob = dob\n",
        "  current_age = relativedelta(datetime.now(), dob)\n",
        "  print(f\"Current Age: {current_age.years} years, {current_age.months} months, {current_age.days} days\")\n",
        "def calc_day_rem_to_BD(dob):\n",
        "  dob = dob\n",
        "  dor = datetime(year=datetime.now().year, month=month.value, day=day.value)\n",
        "  dor_day = dor - datetime.now()\n",
        "  if dor_day.days >= 0:\n",
        "      print(\"Days Remaining To Birthday:\", dor_day.days)\n",
        "  else:\n",
        "      print(\"Days Remaining To Birthday:\", 365 + dor_day.days)\n",
        "\n",
        "def calculate_months_and_weeks(dob):\n",
        "    now = datetime.now()\n",
        "    months = (now.year - dob.year) * 12 + now.month - dob.month\n",
        "    difference = now - dob\n",
        "    weeks = difference.days // 7\n",
        "    print(f\"Months Passed after the Birth: {months}\")\n",
        "    print(\"Weeks Passed after the Birth:\", weeks)\n",
        "\n",
        "\n",
        "def enter_click(b):\n",
        "    dob = datetime(year=year.value, month=month.value, day=day.value)\n",
        "    print(\"Date of Birth: \", dob)\n",
        "    calculate_age(dob)\n",
        "    calc_day_rem_to_BD(dob)\n",
        "    calculate_months_and_weeks(dob)\n",
        "\n",
        "\n",
        "def date_main():\n",
        "    global year, month, day\n",
        "    year = ipw.IntText(description=\"Year:\")\n",
        "    month = ipw.IntText(description=\"Month:\")\n",
        "    day = ipw.IntText(description=\"Day:\")\n",
        "    submit_button = ipw.Button(description=\"Enter\")\n",
        "    display(year, month, day, submit_button)\n",
        "    submit_button.on_click(enter_click)\n",
        "\n",
        "date_main()\n"
      ],
      "metadata": {
        "colab": {
          "base_uri": "https://localhost:8080/",
          "height": 228,
          "referenced_widgets": [
            "52e5cf86d3c24457b66ce58e52287d99",
            "871097427b4c423391e5aa610f2dbc44",
            "01991e7086684b85bfc68b2866237ecb",
            "c43164e8cc1b448991773c9a282048d7",
            "cf03e9d28a57495580cfaa750c78c7f4",
            "4fdfee3e16c641a8bcd0ab7988db2ab1",
            "4fb79822779d49d3818c1f89b0a72b42",
            "b4117c46d5bf4b819f40ae7007dcf938",
            "2b24fc4eb993444eb35e0c119df4c0d6",
            "737db30160084546a649b49835a8fe08",
            "d91ecd92bf284750ba4c7f40344412e4",
            "dbdcf7686b4540b8a27f641921f62eb5"
          ]
        },
        "id": "bXguF2RgkpOe",
        "outputId": "ddb51f04-fba6-40d4-b0ff-abdf942f18cb"
      },
      "execution_count": null,
      "outputs": [
        {
          "output_type": "display_data",
          "data": {
            "text/plain": [
              "IntText(value=0, description='Year:')"
            ],
            "application/vnd.jupyter.widget-view+json": {
              "version_major": 2,
              "version_minor": 0,
              "model_id": "52e5cf86d3c24457b66ce58e52287d99"
            }
          },
          "metadata": {}
        },
        {
          "output_type": "display_data",
          "data": {
            "text/plain": [
              "IntText(value=0, description='Month:')"
            ],
            "application/vnd.jupyter.widget-view+json": {
              "version_major": 2,
              "version_minor": 0,
              "model_id": "c43164e8cc1b448991773c9a282048d7"
            }
          },
          "metadata": {}
        },
        {
          "output_type": "display_data",
          "data": {
            "text/plain": [
              "IntText(value=0, description='Day:')"
            ],
            "application/vnd.jupyter.widget-view+json": {
              "version_major": 2,
              "version_minor": 0,
              "model_id": "4fb79822779d49d3818c1f89b0a72b42"
            }
          },
          "metadata": {}
        },
        {
          "output_type": "display_data",
          "data": {
            "text/plain": [
              "Button(description='Enter', style=ButtonStyle())"
            ],
            "application/vnd.jupyter.widget-view+json": {
              "version_major": 2,
              "version_minor": 0,
              "model_id": "737db30160084546a649b49835a8fe08"
            }
          },
          "metadata": {}
        },
        {
          "output_type": "stream",
          "name": "stdout",
          "text": [
            "Date of Birth:  2021-01-03 00:00:00\n",
            "Current Age: 3 years, 0 months, 29 days\n",
            "Days Remaining To Birthday: 335\n",
            "Months Passed after the Birth: 37\n",
            "Weeks Passed after the Birth: 160\n"
          ]
        }
      ]
    },
    {
      "cell_type": "code",
      "source": [
        "class Rectangle:\n",
        "    def __init__(self, length, width):\n",
        "        if length <= 0 or width <= 0:\n",
        "            raise ValueError(\"Length and width must be positive.\")\n",
        "        self.length = length\n",
        "        self.width = width\n",
        "\n",
        "    def calculate_area(self):\n",
        "        return self.length * self.width\n",
        "    def calculate_perimeter(self):\n",
        "        return 2 * (self.length + self.width)\n",
        "    def is_square(self):\n",
        "        return self.length == self.width\n",
        "try:\n",
        "    length = float(input(\"Enter the length of the rectangle: \"))\n",
        "    width = float(input(\"Enter the width of the rectangle: \"))\n",
        "    rectangle = Rectangle(length, width)\n",
        "    print(f\"The area of the rectangle is: {rectangle.calculate_area()}\")\n",
        "    print(f\"The perimeter of the rectangle is: {rectangle.calculate_perimeter()}\")\n",
        "    if rectangle.is_square():\n",
        "        print(\"The rectangle is a square.\")\n",
        "    else:\n",
        "        print(\"The rectangle is not a square.\")\n",
        "except ValueError as e:\n",
        "    print(e)\n"
      ],
      "metadata": {
        "colab": {
          "base_uri": "https://localhost:8080/"
        },
        "id": "jTcjmlbioG22",
        "outputId": "6d291371-9f03-4cc5-d586-ba68a5d9815f"
      },
      "execution_count": null,
      "outputs": [
        {
          "output_type": "stream",
          "name": "stdout",
          "text": [
            "Enter the length of the rectangle: 7\n",
            "Enter the width of the rectangle: 8\n",
            "The area of the rectangle is: 56.0\n",
            "The perimeter of the rectangle is: 30.0\n",
            "The rectangle is not a square.\n"
          ]
        }
      ]
    }
  ]
}