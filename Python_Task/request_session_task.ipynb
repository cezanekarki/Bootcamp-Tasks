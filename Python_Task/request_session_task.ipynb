{
  "nbformat": 4,
  "nbformat_minor": 0,
  "metadata": {
    "colab": {
      "provenance": []
    },
    "kernelspec": {
      "name": "python3",
      "display_name": "Python 3"
    },
    "language_info": {
      "name": "python"
    }
  },
  "cells": [
    {
      "cell_type": "code",
      "execution_count": 1,
      "metadata": {
        "colab": {
          "base_uri": "https://localhost:8080/"
        },
        "id": "QiFTdfnn5-j5",
        "outputId": "a1bdf3f5-5f5f-48a2-c88d-c08bcd5649f9"
      },
      "outputs": [
        {
          "output_type": "stream",
          "name": "stdout",
          "text": [
            "<!DOCTYPE html>\n",
            "<html>\n",
            "<body>\n",
            "\n",
            "<h1>This is a Test Page</h1>\n",
            "\n",
            "</body>\n",
            "</html>\n"
          ]
        }
      ],
      "source": [
        "import requests\n",
        "\n",
        "x = requests.get('https://w3schools.com/python/demopage.htm')\n",
        "\n",
        "print(x.text)"
      ]
    },
    {
      "cell_type": "code",
      "source": [
        "import requests\n",
        "data = {\n",
        "    \"title\": \"BMM Pencil\"\n",
        "}\n",
        "s = requests.Session()\n",
        "\n",
        "r = s.post('https://dummyjson.com/products/add', json=data)\n",
        "print(r.text)\n",
        "print(r.json())\n",
        "print(f'Status Code: {r.status_code}')"
      ],
      "metadata": {
        "colab": {
          "base_uri": "https://localhost:8080/"
        },
        "id": "Q7gdqscF6pYY",
        "outputId": "ef28da3c-db27-409f-aa34-43e8e388c534"
      },
      "execution_count": 2,
      "outputs": [
        {
          "output_type": "stream",
          "name": "stdout",
          "text": [
            "{\"id\":101,\"title\":\"BMM Pencil\"}\n",
            "{'id': 101, 'title': 'BMM Pencil'}\n",
            "Status Code: 200\n"
          ]
        }
      ]
    }
  ]
}