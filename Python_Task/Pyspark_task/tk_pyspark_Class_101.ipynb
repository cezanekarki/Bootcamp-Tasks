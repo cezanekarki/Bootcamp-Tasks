{
  "nbformat": 4,
  "nbformat_minor": 0,
  "metadata": {
    "colab": {
      "provenance": []
    },
    "kernelspec": {
      "name": "python3",
      "display_name": "Python 3"
    },
    "language_info": {
      "name": "python"
    }
  },
  "cells": [
    {
      "cell_type": "markdown",
      "source": [
        "\n",
        "\n",
        "# Initializing the pyspark in Colab\n",
        "\n",
        "\n"
      ],
      "metadata": {
        "id": "UKAimctwotcp"
      }
    },
    {
      "cell_type": "code",
      "source": [
        "!apt-get update # Update apt-get repository.\n",
        "!apt-get install openjdk-8-jdk-headless -qq > /dev/null # Install Java.\n",
        "!wget -q http://archive.apache.org/dist/spark/spark-3.1.1/spark-3.1.1-bin-hadoop3.2.tgz # Download Apache Sparks.\n",
        "!tar xf spark-3.1.1-bin-hadoop3.2.tgz # Unzip the tgz file.\n",
        "!pip install -q findspark # Install findspark. Adds PySpark to the System path during runtime.\n",
        "\n",
        "# Set environment variables\n",
        "import os\n",
        "os.environ[\"JAVA_HOME\"] = \"/usr/lib/jvm/java-8-openjdk-amd64\"\n",
        "os.environ[\"SPARK_HOME\"] = \"/content/spark-3.1.1-bin-hadoop3.2\"\n",
        "\n",
        "!ls\n",
        "\n",
        "# Initialize findspark\n",
        "import findspark\n",
        "findspark.init()"
      ],
      "metadata": {
        "colab": {
          "base_uri": "https://localhost:8080/"
        },
        "id": "HZpBkPOpdz6l",
        "outputId": "3f508ac8-c035-462a-d335-0e725a7c70a6"
      },
      "execution_count": null,
      "outputs": [
        {
          "output_type": "stream",
          "name": "stdout",
          "text": [
            "Get:1 http://security.ubuntu.com/ubuntu jammy-security InRelease [110 kB]\n",
            "Hit:2 https://developer.download.nvidia.com/compute/cuda/repos/ubuntu2204/x86_64  InRelease\n",
            "Get:3 https://cloud.r-project.org/bin/linux/ubuntu jammy-cran40/ InRelease [3,626 B]\n",
            "Hit:4 http://archive.ubuntu.com/ubuntu jammy InRelease\n",
            "Get:5 http://archive.ubuntu.com/ubuntu jammy-updates InRelease [119 kB]\n",
            "Get:6 http://archive.ubuntu.com/ubuntu jammy-backports InRelease [109 kB]\n",
            "Hit:7 https://ppa.launchpadcontent.net/c2d4u.team/c2d4u4.0+/ubuntu jammy InRelease\n",
            "Hit:8 https://ppa.launchpadcontent.net/deadsnakes/ppa/ubuntu jammy InRelease\n",
            "Hit:9 https://ppa.launchpadcontent.net/graphics-drivers/ppa/ubuntu jammy InRelease\n",
            "Hit:10 https://ppa.launchpadcontent.net/ubuntugis/ppa/ubuntu jammy InRelease\n",
            "Get:11 http://security.ubuntu.com/ubuntu jammy-security/universe amd64 Packages [1,065 kB]\n",
            "Get:12 http://archive.ubuntu.com/ubuntu jammy-updates/universe amd64 Packages [1,339 kB]\n",
            "Get:13 http://security.ubuntu.com/ubuntu jammy-security/restricted amd64 Packages [1,784 kB]\n",
            "Get:14 http://security.ubuntu.com/ubuntu jammy-security/main amd64 Packages [1,455 kB]\n",
            "Get:15 http://archive.ubuntu.com/ubuntu jammy-updates/restricted amd64 Packages [1,822 kB]\n",
            "Get:16 http://archive.ubuntu.com/ubuntu jammy-updates/main amd64 Packages [1,735 kB]\n",
            "Fetched 9,541 kB in 2s (5,253 kB/s)\n",
            "Reading package lists... Done\n",
            "sample_data  spark-3.1.1-bin-hadoop3.2\tspark-3.1.1-bin-hadoop3.2.tgz\n"
          ]
        }
      ]
    },
    {
      "cell_type": "markdown",
      "source": [
        "# Setting sparkSession context"
      ],
      "metadata": {
        "id": "y5R36lvEpA9P"
      }
    },
    {
      "cell_type": "code",
      "execution_count": null,
      "metadata": {
        "colab": {
          "base_uri": "https://localhost:8080/",
          "height": 219
        },
        "id": "q3EoPuJodYwQ",
        "outputId": "41da3ca4-0ef8-4747-ea36-a993ee4af06c"
      },
      "outputs": [
        {
          "output_type": "execute_result",
          "data": {
            "text/plain": [
              "<pyspark.sql.session.SparkSession at 0x7fba2c204a00>"
            ],
            "text/html": [
              "\n",
              "            <div>\n",
              "                <p><b>SparkSession - in-memory</b></p>\n",
              "                \n",
              "        <div>\n",
              "            <p><b>SparkContext</b></p>\n",
              "\n",
              "            <p><a href=\"http://516c7e1cd092:4040\">Spark UI</a></p>\n",
              "\n",
              "            <dl>\n",
              "              <dt>Version</dt>\n",
              "                <dd><code>v3.1.1</code></dd>\n",
              "              <dt>Master</dt>\n",
              "                <dd><code>local[*]</code></dd>\n",
              "              <dt>AppName</dt>\n",
              "                <dd><code>pyspark-shell</code></dd>\n",
              "            </dl>\n",
              "        </div>\n",
              "        \n",
              "            </div>\n",
              "        "
            ]
          },
          "metadata": {},
          "execution_count": 2
        }
      ],
      "source": [
        "from pyspark.sql import SparkSession\n",
        "spark = SparkSession.builder.master(\"local[*]\").getOrCreate()\n",
        "spark"
      ]
    },
    {
      "cell_type": "markdown",
      "source": [
        "# Checking Spark session"
      ],
      "metadata": {
        "id": "kN65ybimpIgT"
      }
    },
    {
      "cell_type": "code",
      "source": [
        "from pyspark.sql import SparkSession\n",
        "import time\n",
        "\n",
        "# Ensure SparkSession is available\n",
        "def get_spark_session():\n",
        "    try:\n",
        "        # Try to get the current Spark session if it exists\n",
        "        spark = SparkSession.builder.getOrCreate()\n",
        "    except ValueError:\n",
        "        # Create a new session if it doesn't exist\n",
        "        spark = SparkSession.builder\\\n",
        "            .master(\"local[*]\")\\\n",
        "            .appName(\"ColabPySpark\")\\\n",
        "            .getOrCreate()\n",
        "    return spark\n",
        "\n",
        "spark = get_spark_session()\n",
        "\n",
        "# Measure execution time\n",
        "start_time = time.time()\n",
        "\n",
        "# Create and show the DataFrame\n",
        "df = spark.createDataFrame([{\"Hello\": \"World\"} for x in range(1000)])\n",
        "df.show(3)\n",
        "\n",
        "# Calculate and print execution time\n",
        "execution_time = time.time() - start_time\n",
        "print(f\"Execution time: {execution_time} seconds\")\n",
        "\n",
        "# Optionally, stop the Spark session if you're done with it\n",
        "# spark.stop()\n"
      ],
      "metadata": {
        "colab": {
          "base_uri": "https://localhost:8080/"
        },
        "id": "0cL7V9IafYVH",
        "outputId": "6aaa9bb2-cbea-4e76-c413-b48cf23554ac"
      },
      "execution_count": null,
      "outputs": [
        {
          "output_type": "stream",
          "name": "stdout",
          "text": [
            "+-----+\n",
            "|Hello|\n",
            "+-----+\n",
            "|World|\n",
            "|World|\n",
            "|World|\n",
            "+-----+\n",
            "only showing top 3 rows\n",
            "\n",
            "Execution time: 12.092931985855103 seconds\n"
          ]
        }
      ]
    },
    {
      "cell_type": "markdown",
      "source": [
        "# Doing above thing using Pandas"
      ],
      "metadata": {
        "id": "DJUQ7C3HpUQk"
      }
    },
    {
      "cell_type": "code",
      "source": [
        "import pandas as pd\n",
        "import time\n",
        "\n",
        "start_time = time.time()\n",
        "\n",
        "# Create the DataFrame\n",
        "df = pd.DataFrame([{\"Hello\": \"World\"} for x in range(1000)])\n",
        "\n",
        "# Display the first 3 rows of the DataFrame\n",
        "print(df.head(3))\n",
        "\n",
        "# Calculate and print execution time\n",
        "execution_time = time.time() - start_time\n",
        "print(f\"Execution time: {execution_time} seconds\")\n"
      ],
      "metadata": {
        "colab": {
          "base_uri": "https://localhost:8080/"
        },
        "id": "f2q8dn9Jjm96",
        "outputId": "9c65bddf-8ea8-4b00-9a9a-76cae92f33cb"
      },
      "execution_count": null,
      "outputs": [
        {
          "output_type": "stream",
          "name": "stdout",
          "text": [
            "   Hello\n",
            "0  World\n",
            "1  World\n",
            "2  World\n",
            "Execution time: 0.03188967704772949 seconds\n"
          ]
        }
      ]
    },
    {
      "cell_type": "markdown",
      "source": [
        "# Mounting the Google Drive"
      ],
      "metadata": {
        "id": "6iLD0MjtpXDo"
      }
    },
    {
      "cell_type": "code",
      "source": [
        "from google.colab import drive\n",
        "drive.mount('/content/drive')"
      ],
      "metadata": {
        "colab": {
          "base_uri": "https://localhost:8080/"
        },
        "id": "CekwDVFPmAcx",
        "outputId": "fd88b937-f806-420f-cd64-68f8bbec8133"
      },
      "execution_count": null,
      "outputs": [
        {
          "output_type": "stream",
          "name": "stdout",
          "text": [
            "Mounted at /content/drive\n"
          ]
        }
      ]
    },
    {
      "cell_type": "markdown",
      "source": [
        "# Loading and getting CSV file"
      ],
      "metadata": {
        "id": "lrWmpLrcpcG6"
      }
    },
    {
      "cell_type": "code",
      "source": [
        "csv_path = r'/content/drive/MyDrive/data/csv/batch.csv'"
      ],
      "metadata": {
        "id": "9-32irvhmWNm"
      },
      "execution_count": null,
      "outputs": []
    },
    {
      "cell_type": "code",
      "source": [
        "df = spark.read.csv(csv_path,header=True)\n",
        "df.printSchema()\n",
        "df.show(10)"
      ],
      "metadata": {
        "colab": {
          "base_uri": "https://localhost:8080/"
        },
        "id": "P7EjyxWRmjEH",
        "outputId": "4b9b292e-f880-42b3-9f94-6154b7e9bbbb"
      },
      "execution_count": null,
      "outputs": [
        {
          "output_type": "stream",
          "name": "stdout",
          "text": [
            "root\n",
            " |-- id: string (nullable = true)\n",
            " |-- name: string (nullable = true)\n",
            " |-- dob: string (nullable = true)\n",
            " |-- age: string (nullable = true)\n",
            " |-- salary: string (nullable = true)\n",
            " |-- department: string (nullable = true)\n",
            "\n",
            "+---+-----+----------+----+------+----------+\n",
            "| id| name|       dob| age|salary|department|\n",
            "+---+-----+----------+----+------+----------+\n",
            "|  1| John|1992-05-12|  30| 70000|        IT|\n",
            "|  2|Alice|1997-02-28|  25| 60000|        HR|\n",
            "|  3|  Bob|      null|null| 80000|        IT|\n",
            "|  4|Emily|1994-11-22|  28| 65000|   Finance|\n",
            "+---+-----+----------+----+------+----------+\n",
            "\n"
          ]
        }
      ]
    },
    {
      "cell_type": "markdown",
      "source": [
        "# Loading Json Batch File"
      ],
      "metadata": {
        "id": "il2nnfb5pnWX"
      }
    },
    {
      "cell_type": "code",
      "source": [
        "json_b_path = r'/content/drive/MyDrive/data/json/batch.jsonl'\n",
        "df1 = spark.read.json(json_b_path)\n",
        "df1.printSchema()\n",
        "df1.show(10)"
      ],
      "metadata": {
        "colab": {
          "base_uri": "https://localhost:8080/"
        },
        "id": "e2Ni9Gz6nx7I",
        "outputId": "30d07e30-c35d-4d6b-c883-22b8f0aff6fd"
      },
      "execution_count": null,
      "outputs": [
        {
          "output_type": "stream",
          "name": "stdout",
          "text": [
            "root\n",
            " |-- age: long (nullable = true)\n",
            " |-- department: string (nullable = true)\n",
            " |-- dob: string (nullable = true)\n",
            " |-- id: long (nullable = true)\n",
            " |-- name: string (nullable = true)\n",
            " |-- salary: long (nullable = true)\n",
            "\n",
            "+----+----------+----------+---+-----+------+\n",
            "| age|department|       dob| id| name|salary|\n",
            "+----+----------+----------+---+-----+------+\n",
            "|  30|        IT|1992-05-12|  1| John| 70000|\n",
            "|  25|        HR|1997-02-28|  2|Alice| 60000|\n",
            "|null|        IT|      null|  3|  Bob| 80000|\n",
            "|  28|   Finance|1994-11-22|  4|Emily| 65000|\n",
            "|  41|        HR|1981-12-18|  5|David| 90000|\n",
            "|  33|   Finance|1989-07-05|  6|Susan| 75000|\n",
            "|  46|        IT|1976-03-15|  7| Mike| 95000|\n",
            "+----+----------+----------+---+-----+------+\n",
            "\n"
          ]
        }
      ]
    },
    {
      "cell_type": "markdown",
      "source": [
        "# Loading and reading Parquet File"
      ],
      "metadata": {
        "id": "mHBjgEBDpr7q"
      }
    },
    {
      "cell_type": "code",
      "source": [
        "par_path = r'/content/drive/MyDrive/data/parquet/reference.parquet'\n",
        "df2 = spark.read.parquet(par_path)\n",
        "df2.printSchema()\n",
        "df2.show(10)"
      ],
      "metadata": {
        "colab": {
          "base_uri": "https://localhost:8080/"
        },
        "id": "dIkNrbnVoGYF",
        "outputId": "b7b2d6fa-436d-4cb6-b1a1-b93b3c735c8d"
      },
      "execution_count": null,
      "outputs": [
        {
          "output_type": "stream",
          "name": "stdout",
          "text": [
            "root\n",
            " |-- department: string (nullable = true)\n",
            " |-- manager: string (nullable = true)\n",
            " |-- lead: string (nullable = true)\n",
            "\n",
            "+----------+-------+--------+\n",
            "|department|manager|    lead|\n",
            "+----------+-------+--------+\n",
            "|   Finance|  Megan|   Molly|\n",
            "|        HR|   Brad|   Brian|\n",
            "|        IT|  Chris|Chandler|\n",
            "|  Delivery|   Leon|  Louise|\n",
            "+----------+-------+--------+\n",
            "\n"
          ]
        }
      ]
    },
    {
      "cell_type": "code",
      "source": [
        "from pyspark.sql.types import StructType, StructField, IntegerType, StringType, DateType"
      ],
      "metadata": {
        "id": "86wjt2wBrKTc"
      },
      "execution_count": null,
      "outputs": []
    },
    {
      "cell_type": "code",
      "source": [
        "schema = StructType([\n",
        "    StructField(\"id\", IntegerType()),\n",
        "    StructField(\"name\", StringType()),\n",
        "    StructField(\"dob\", DateType()),\n",
        "    StructField(\"age\", IntegerType()),\n",
        "    StructField(\"salary\", IntegerType()),\n",
        "    StructField(\"department\", StringType()),\n",
        "])"
      ],
      "metadata": {
        "id": "q0953-Xiqvu2"
      },
      "execution_count": null,
      "outputs": []
    },
    {
      "cell_type": "code",
      "source": [
        "df_csv = spark.read.format(\"csv\").schema(schema).option(\"header\", True).load(csv_path)\n",
        "df_csv.printSchema()\n",
        "df_csv.show()"
      ],
      "metadata": {
        "colab": {
          "base_uri": "https://localhost:8080/"
        },
        "id": "LbpVY73Briot",
        "outputId": "50ba2dd0-a19d-4082-df48-d9932242eba8"
      },
      "execution_count": null,
      "outputs": [
        {
          "output_type": "stream",
          "name": "stdout",
          "text": [
            "root\n",
            " |-- id: integer (nullable = true)\n",
            " |-- name: string (nullable = true)\n",
            " |-- dob: date (nullable = true)\n",
            " |-- age: integer (nullable = true)\n",
            " |-- salary: integer (nullable = true)\n",
            " |-- department: string (nullable = true)\n",
            "\n",
            "+---+-----+----------+----+------+----------+\n",
            "| id| name|       dob| age|salary|department|\n",
            "+---+-----+----------+----+------+----------+\n",
            "|  1| John|1992-05-12|  30| 70000|        IT|\n",
            "|  2|Alice|1997-02-28|  25| 60000|        HR|\n",
            "|  3|  Bob|      null|null| 80000|        IT|\n",
            "|  4|Emily|1994-11-22|  28| 65000|   Finance|\n",
            "+---+-----+----------+----+------+----------+\n",
            "\n"
          ]
        }
      ]
    },
    {
      "cell_type": "code",
      "source": [
        "json_path = r'/content/drive/MyDrive/data/json'\n",
        "df_json = spark.read.json(json_path)\n",
        "df_json.show()"
      ],
      "metadata": {
        "colab": {
          "base_uri": "https://localhost:8080/"
        },
        "id": "GaofTbopuQR-",
        "outputId": "b70dfd0e-5e2b-473e-aa9c-51215a5f0e9b"
      },
      "execution_count": null,
      "outputs": [
        {
          "output_type": "stream",
          "name": "stdout",
          "text": [
            "+----+----------+----------+---+------+------+\n",
            "| age|department|       dob| id|  name|salary|\n",
            "+----+----------+----------+---+------+------+\n",
            "|  30|        IT|1992-05-12|  1|  John| 70000|\n",
            "|  25|        HR|1997-02-28|  2| Alice| 60000|\n",
            "|null|        IT|      null|  3|   Bob| 80000|\n",
            "|  28|   Finance|1994-11-22|  4| Emily| 65000|\n",
            "|  41|        HR|1981-12-18|  5| David| 90000|\n",
            "|  33|   Finance|1989-07-05|  6| Susan| 75000|\n",
            "|  46|        IT|1976-03-15|  7|  Mike| 95000|\n",
            "|  30|   Finance|1992-06-30| 10|Sophie| 62000|\n",
            "|  28|   Finance|1994-11-22|  4| Emily| 70000|\n",
            "|  25|   Finance|1997-02-28|  2| Alice| 90000|\n",
            "|  39|        IT|1983-10-14|  9| James| 87000|\n",
            "|  30|        IT|1992-05-12|  1|  John| 70000|\n",
            "|  27|        HR|1995-08-20|  8|  Lisa| 58000|\n",
            "+----+----------+----------+---+------+------+\n",
            "\n"
          ]
        }
      ]
    },
    {
      "cell_type": "code",
      "source": [
        "df_json = df_json.orderBy(\"id\")\n",
        "df_json.printSchema()\n",
        "df_json.show()"
      ],
      "metadata": {
        "colab": {
          "base_uri": "https://localhost:8080/"
        },
        "id": "ZVB5tAYmvQmw",
        "outputId": "3f4fbb1f-17e1-407a-d69e-3529ddb4ae8b"
      },
      "execution_count": null,
      "outputs": [
        {
          "output_type": "stream",
          "name": "stdout",
          "text": [
            "root\n",
            " |-- age: long (nullable = true)\n",
            " |-- department: string (nullable = true)\n",
            " |-- dob: string (nullable = true)\n",
            " |-- id: long (nullable = true)\n",
            " |-- name: string (nullable = true)\n",
            " |-- salary: long (nullable = true)\n",
            "\n",
            "+----+----------+----------+---+------+------+\n",
            "| age|department|       dob| id|  name|salary|\n",
            "+----+----------+----------+---+------+------+\n",
            "|  30|        IT|1992-05-12|  1|  John| 70000|\n",
            "|  30|        IT|1992-05-12|  1|  John| 70000|\n",
            "|  25|        HR|1997-02-28|  2| Alice| 60000|\n",
            "|  25|   Finance|1997-02-28|  2| Alice| 90000|\n",
            "|null|        IT|      null|  3|   Bob| 80000|\n",
            "|  28|   Finance|1994-11-22|  4| Emily| 65000|\n",
            "|  28|   Finance|1994-11-22|  4| Emily| 70000|\n",
            "|  41|        HR|1981-12-18|  5| David| 90000|\n",
            "|  33|   Finance|1989-07-05|  6| Susan| 75000|\n",
            "|  46|        IT|1976-03-15|  7|  Mike| 95000|\n",
            "|  27|        HR|1995-08-20|  8|  Lisa| 58000|\n",
            "|  39|        IT|1983-10-14|  9| James| 87000|\n",
            "|  30|   Finance|1992-06-30| 10|Sophie| 62000|\n",
            "+----+----------+----------+---+------+------+\n",
            "\n"
          ]
        }
      ]
    },
    {
      "cell_type": "markdown",
      "source": [
        "# Union Data"
      ],
      "metadata": {
        "id": "dyUCK0eKqXns"
      }
    },
    {
      "cell_type": "code",
      "source": [
        "df_csv.printSchema()"
      ],
      "metadata": {
        "colab": {
          "base_uri": "https://localhost:8080/"
        },
        "id": "Zogn9492qZnr",
        "outputId": "482e891f-751e-4078-fcca-c209092fddc7"
      },
      "execution_count": null,
      "outputs": [
        {
          "output_type": "stream",
          "name": "stdout",
          "text": [
            "root\n",
            " |-- id: integer (nullable = true)\n",
            " |-- name: string (nullable = true)\n",
            " |-- dob: date (nullable = true)\n",
            " |-- age: integer (nullable = true)\n",
            " |-- salary: integer (nullable = true)\n",
            " |-- department: string (nullable = true)\n",
            "\n"
          ]
        }
      ]
    },
    {
      "cell_type": "code",
      "source": [
        "df_json.printSchema()"
      ],
      "metadata": {
        "colab": {
          "base_uri": "https://localhost:8080/"
        },
        "id": "jCakVxUcqfEs",
        "outputId": "a68d04ca-fa6c-45d9-936c-01869250e974"
      },
      "execution_count": null,
      "outputs": [
        {
          "output_type": "stream",
          "name": "stdout",
          "text": [
            "root\n",
            " |-- age: long (nullable = true)\n",
            " |-- department: string (nullable = true)\n",
            " |-- dob: string (nullable = true)\n",
            " |-- id: long (nullable = true)\n",
            " |-- name: string (nullable = true)\n",
            " |-- salary: long (nullable = true)\n",
            "\n"
          ]
        }
      ]
    },
    {
      "cell_type": "code",
      "source": [
        "df = df_csv.union(df_json)\n",
        "df.printSchema()\n",
        "df.show()"
      ],
      "metadata": {
        "colab": {
          "base_uri": "https://localhost:8080/"
        },
        "id": "vsBQQ67Kqh2_",
        "outputId": "59fa00de-ee48-45ee-e944-a9095bf88f25"
      },
      "execution_count": null,
      "outputs": [
        {
          "output_type": "stream",
          "name": "stdout",
          "text": [
            "root\n",
            " |-- id: long (nullable = true)\n",
            " |-- name: string (nullable = true)\n",
            " |-- dob: string (nullable = true)\n",
            " |-- age: long (nullable = true)\n",
            " |-- salary: string (nullable = true)\n",
            " |-- department: string (nullable = true)\n",
            "\n",
            "+----+-------+----------+----+------+----------+\n",
            "|  id|   name|       dob| age|salary|department|\n",
            "+----+-------+----------+----+------+----------+\n",
            "|   1|   John|1992-05-12|  30| 70000|        IT|\n",
            "|   2|  Alice|1997-02-28|  25| 60000|        HR|\n",
            "|   3|    Bob|      null|null| 80000|        IT|\n",
            "|   4|  Emily|1994-11-22|  28| 65000|   Finance|\n",
            "|  30|     IT|1992-05-12|   1|  John|     70000|\n",
            "|  30|     IT|1992-05-12|   1|  John|     70000|\n",
            "|  25|     HR|1997-02-28|   2| Alice|     60000|\n",
            "|  25|Finance|1997-02-28|   2| Alice|     90000|\n",
            "|null|     IT|      null|   3|   Bob|     80000|\n",
            "|  28|Finance|1994-11-22|   4| Emily|     65000|\n",
            "|  28|Finance|1994-11-22|   4| Emily|     70000|\n",
            "|  41|     HR|1981-12-18|   5| David|     90000|\n",
            "|  33|Finance|1989-07-05|   6| Susan|     75000|\n",
            "|  46|     IT|1976-03-15|   7|  Mike|     95000|\n",
            "|  27|     HR|1995-08-20|   8|  Lisa|     58000|\n",
            "|  39|     IT|1983-10-14|   9| James|     87000|\n",
            "|  30|Finance|1992-06-30|  10|Sophie|     62000|\n",
            "+----+-------+----------+----+------+----------+\n",
            "\n"
          ]
        }
      ]
    },
    {
      "cell_type": "code",
      "source": [
        "print(df_csv.columns, df_json.columns)"
      ],
      "metadata": {
        "colab": {
          "base_uri": "https://localhost:8080/"
        },
        "id": "D7fS22dPrI6p",
        "outputId": "47b2e958-f3c0-49a9-f492-4934428bc24b"
      },
      "execution_count": null,
      "outputs": [
        {
          "output_type": "stream",
          "name": "stdout",
          "text": [
            "['id', 'name', 'dob', 'age', 'salary', 'department'] ['age', 'department', 'dob', 'id', 'name', 'salary']\n"
          ]
        }
      ]
    },
    {
      "cell_type": "code",
      "source": [
        "df_json = df_json.select(df_csv.columns)\n",
        "df_json.printSchema()\n",
        "df_json.show()"
      ],
      "metadata": {
        "colab": {
          "base_uri": "https://localhost:8080/"
        },
        "id": "n1tya369rNPD",
        "outputId": "9755782b-b6c9-41fa-bc07-777aea0e1044"
      },
      "execution_count": null,
      "outputs": [
        {
          "output_type": "stream",
          "name": "stdout",
          "text": [
            "root\n",
            " |-- id: long (nullable = true)\n",
            " |-- name: string (nullable = true)\n",
            " |-- dob: string (nullable = true)\n",
            " |-- age: long (nullable = true)\n",
            " |-- salary: long (nullable = true)\n",
            " |-- department: string (nullable = true)\n",
            "\n",
            "+---+------+----------+----+------+----------+\n",
            "| id|  name|       dob| age|salary|department|\n",
            "+---+------+----------+----+------+----------+\n",
            "|  1|  John|1992-05-12|  30| 70000|        IT|\n",
            "|  1|  John|1992-05-12|  30| 70000|        IT|\n",
            "|  2| Alice|1997-02-28|  25| 90000|   Finance|\n",
            "|  2| Alice|1997-02-28|  25| 60000|        HR|\n",
            "|  3|   Bob|      null|null| 80000|        IT|\n",
            "|  4| Emily|1994-11-22|  28| 65000|   Finance|\n",
            "|  4| Emily|1994-11-22|  28| 70000|   Finance|\n",
            "|  5| David|1981-12-18|  41| 90000|        HR|\n",
            "|  6| Susan|1989-07-05|  33| 75000|   Finance|\n",
            "|  7|  Mike|1976-03-15|  46| 95000|        IT|\n",
            "|  8|  Lisa|1995-08-20|  27| 58000|        HR|\n",
            "|  9| James|1983-10-14|  39| 87000|        IT|\n",
            "| 10|Sophie|1992-06-30|  30| 62000|   Finance|\n",
            "+---+------+----------+----+------+----------+\n",
            "\n"
          ]
        }
      ]
    },
    {
      "cell_type": "code",
      "source": [
        "\n",
        "df_json = spark.read.format(\"json\").schema(schema).option(\"header\", True).load(json_path)\n",
        "df_json.printSchema()\n",
        "df_json.show()"
      ],
      "metadata": {
        "colab": {
          "base_uri": "https://localhost:8080/"
        },
        "id": "WD8QGV9yr-Dc",
        "outputId": "28899def-6b6e-4d1f-eeec-6768b5869673"
      },
      "execution_count": null,
      "outputs": [
        {
          "output_type": "stream",
          "name": "stdout",
          "text": [
            "root\n",
            " |-- id: integer (nullable = true)\n",
            " |-- name: string (nullable = true)\n",
            " |-- dob: date (nullable = true)\n",
            " |-- age: integer (nullable = true)\n",
            " |-- salary: integer (nullable = true)\n",
            " |-- department: string (nullable = true)\n",
            "\n",
            "+---+------+----------+----+------+----------+\n",
            "| id|  name|       dob| age|salary|department|\n",
            "+---+------+----------+----+------+----------+\n",
            "|  1|  John|1992-05-12|  30| 70000|        IT|\n",
            "|  2| Alice|1997-02-28|  25| 60000|        HR|\n",
            "|  3|   Bob|      null|null| 80000|        IT|\n",
            "|  4| Emily|1994-11-22|  28| 65000|   Finance|\n",
            "|  5| David|1981-12-18|  41| 90000|        HR|\n",
            "|  6| Susan|1989-07-05|  33| 75000|   Finance|\n",
            "|  7|  Mike|1976-03-15|  46| 95000|        IT|\n",
            "| 10|Sophie|1992-06-30|  30| 62000|   Finance|\n",
            "|  4| Emily|1994-11-22|  28| 70000|   Finance|\n",
            "|  2| Alice|1997-02-28|  25| 90000|   Finance|\n",
            "|  9| James|1983-10-14|  39| 87000|        IT|\n",
            "|  1|  John|1992-05-12|  30| 70000|        IT|\n",
            "|  8|  Lisa|1995-08-20|  27| 58000|        HR|\n",
            "+---+------+----------+----+------+----------+\n",
            "\n"
          ]
        }
      ]
    },
    {
      "cell_type": "code",
      "source": [
        "df = df_csv.union(df_json)\n",
        "df.printSchema()\n",
        "df.show()"
      ],
      "metadata": {
        "colab": {
          "base_uri": "https://localhost:8080/"
        },
        "id": "XT5tN9lTtuMc",
        "outputId": "1f76a3c0-323a-47e7-fb4f-d23d1546709f"
      },
      "execution_count": null,
      "outputs": [
        {
          "output_type": "stream",
          "name": "stdout",
          "text": [
            "root\n",
            " |-- id: integer (nullable = true)\n",
            " |-- name: string (nullable = true)\n",
            " |-- dob: date (nullable = true)\n",
            " |-- age: integer (nullable = true)\n",
            " |-- salary: integer (nullable = true)\n",
            " |-- department: string (nullable = true)\n",
            "\n",
            "+---+------+----------+----+------+----------+\n",
            "| id|  name|       dob| age|salary|department|\n",
            "+---+------+----------+----+------+----------+\n",
            "|  1|  John|1992-05-12|  30| 70000|        IT|\n",
            "|  2| Alice|1997-02-28|  25| 60000|        HR|\n",
            "|  3|   Bob|      null|null| 80000|        IT|\n",
            "|  4| Emily|1994-11-22|  28| 65000|   Finance|\n",
            "|  1|  John|1992-05-12|  30| 70000|        IT|\n",
            "|  2| Alice|1997-02-28|  25| 60000|        HR|\n",
            "|  3|   Bob|      null|null| 80000|        IT|\n",
            "|  4| Emily|1994-11-22|  28| 65000|   Finance|\n",
            "|  5| David|1981-12-18|  41| 90000|        HR|\n",
            "|  6| Susan|1989-07-05|  33| 75000|   Finance|\n",
            "|  7|  Mike|1976-03-15|  46| 95000|        IT|\n",
            "| 10|Sophie|1992-06-30|  30| 62000|   Finance|\n",
            "|  4| Emily|1994-11-22|  28| 70000|   Finance|\n",
            "|  2| Alice|1997-02-28|  25| 90000|   Finance|\n",
            "|  9| James|1983-10-14|  39| 87000|        IT|\n",
            "|  1|  John|1992-05-12|  30| 70000|        IT|\n",
            "|  8|  Lisa|1995-08-20|  27| 58000|        HR|\n",
            "+---+------+----------+----+------+----------+\n",
            "\n"
          ]
        }
      ]
    },
    {
      "cell_type": "code",
      "source": [
        "df = df.dropDuplicates()\n",
        "df.show()"
      ],
      "metadata": {
        "colab": {
          "base_uri": "https://localhost:8080/"
        },
        "id": "IqXie4uRt1jB",
        "outputId": "f0b27f5e-415e-4548-db7d-6e1638d30720"
      },
      "execution_count": null,
      "outputs": [
        {
          "output_type": "stream",
          "name": "stdout",
          "text": [
            "+---+------+----------+----+------+----------+\n",
            "| id|  name|       dob| age|salary|department|\n",
            "+---+------+----------+----+------+----------+\n",
            "|  5| David|1981-12-18|  41| 90000|        HR|\n",
            "|  3|   Bob|      null|null| 80000|        IT|\n",
            "|  2| Alice|1997-02-28|  25| 90000|   Finance|\n",
            "|  9| James|1983-10-14|  39| 87000|        IT|\n",
            "|  4| Emily|1994-11-22|  28| 65000|   Finance|\n",
            "|  2| Alice|1997-02-28|  25| 60000|        HR|\n",
            "|  8|  Lisa|1995-08-20|  27| 58000|        HR|\n",
            "|  1|  John|1992-05-12|  30| 70000|        IT|\n",
            "|  6| Susan|1989-07-05|  33| 75000|   Finance|\n",
            "| 10|Sophie|1992-06-30|  30| 62000|   Finance|\n",
            "|  4| Emily|1994-11-22|  28| 70000|   Finance|\n",
            "|  7|  Mike|1976-03-15|  46| 95000|        IT|\n",
            "+---+------+----------+----+------+----------+\n",
            "\n"
          ]
        }
      ]
    },
    {
      "cell_type": "markdown",
      "source": [
        "# Transformation"
      ],
      "metadata": {
        "id": "KqivS2z-unqU"
      }
    },
    {
      "cell_type": "code",
      "source": [
        "df.show()"
      ],
      "metadata": {
        "colab": {
          "base_uri": "https://localhost:8080/"
        },
        "id": "0aLw1ImFt5_R",
        "outputId": "48778b81-2b93-475b-e34f-aaa176478dc3"
      },
      "execution_count": null,
      "outputs": [
        {
          "output_type": "stream",
          "name": "stdout",
          "text": [
            "+---+------+----------+----+------+----------+\n",
            "| id|  name|       dob| age|salary|department|\n",
            "+---+------+----------+----+------+----------+\n",
            "|  5| David|1981-12-18|  41| 90000|        HR|\n",
            "|  3|   Bob|      null|null| 80000|        IT|\n",
            "|  2| Alice|1997-02-28|  25| 90000|   Finance|\n",
            "|  9| James|1983-10-14|  39| 87000|        IT|\n",
            "|  4| Emily|1994-11-22|  28| 65000|   Finance|\n",
            "|  2| Alice|1997-02-28|  25| 60000|        HR|\n",
            "|  8|  Lisa|1995-08-20|  27| 58000|        HR|\n",
            "|  1|  John|1992-05-12|  30| 70000|        IT|\n",
            "|  6| Susan|1989-07-05|  33| 75000|   Finance|\n",
            "| 10|Sophie|1992-06-30|  30| 62000|   Finance|\n",
            "|  4| Emily|1994-11-22|  28| 70000|   Finance|\n",
            "|  7|  Mike|1976-03-15|  46| 95000|        IT|\n",
            "+---+------+----------+----+------+----------+\n",
            "\n"
          ]
        }
      ]
    },
    {
      "cell_type": "markdown",
      "source": [
        "## Select"
      ],
      "metadata": {
        "id": "YLdjgOcjuyKo"
      }
    },
    {
      "cell_type": "code",
      "source": [
        "from pyspark.sql import functions as F"
      ],
      "metadata": {
        "id": "_6QdPYFzupTf"
      },
      "execution_count": null,
      "outputs": []
    },
    {
      "cell_type": "code",
      "source": [
        "df.select(\"salary\").show()\n"
      ],
      "metadata": {
        "colab": {
          "base_uri": "https://localhost:8080/"
        },
        "id": "ruO_dbLiv4lx",
        "outputId": "b93f7368-4389-45fb-b161-55ab92cab8b1"
      },
      "execution_count": null,
      "outputs": [
        {
          "output_type": "stream",
          "name": "stdout",
          "text": [
            "+------+\n",
            "|salary|\n",
            "+------+\n",
            "| 90000|\n",
            "| 80000|\n",
            "| 90000|\n",
            "| 87000|\n",
            "| 65000|\n",
            "| 60000|\n",
            "| 58000|\n",
            "| 70000|\n",
            "| 75000|\n",
            "| 62000|\n",
            "| 70000|\n",
            "| 95000|\n",
            "+------+\n",
            "\n"
          ]
        }
      ]
    },
    {
      "cell_type": "code",
      "source": [
        "df.select(\n",
        "    df.id,\n",
        "    (df.salary + .05 * df.salary).alias('updated_salary'),\n",
        "    (F.expr(\"salary + .05 * salary\")).alias('updated_salary_expr'),\n",
        "    (F.year(F.current_timestamp()) - F.year(\"dob\")).alias('age'),\n",
        ").orderBy(df.id).show()"
      ],
      "metadata": {
        "colab": {
          "base_uri": "https://localhost:8080/"
        },
        "id": "Y1aEjwVDv8uD",
        "outputId": "f63a3561-f2a7-42be-e84f-0dfdb8d3b8f9"
      },
      "execution_count": null,
      "outputs": [
        {
          "output_type": "stream",
          "name": "stdout",
          "text": [
            "+---+--------------+-------------------+----+\n",
            "| id|updated_salary|updated_salary_expr| age|\n",
            "+---+--------------+-------------------+----+\n",
            "|  1|       73500.0|           73500.00|  32|\n",
            "|  2|       94500.0|           94500.00|  27|\n",
            "|  2|       63000.0|           63000.00|  27|\n",
            "|  3|       84000.0|           84000.00|null|\n",
            "|  4|       68250.0|           68250.00|  30|\n",
            "|  4|       73500.0|           73500.00|  30|\n",
            "|  5|       94500.0|           94500.00|  43|\n",
            "|  6|       78750.0|           78750.00|  35|\n",
            "|  7|       99750.0|           99750.00|  48|\n",
            "|  8|       60900.0|           60900.00|  29|\n",
            "|  9|       91350.0|           91350.00|  41|\n",
            "| 10|       65100.0|           65100.00|  32|\n",
            "+---+--------------+-------------------+----+\n",
            "\n"
          ]
        }
      ]
    },
    {
      "cell_type": "markdown",
      "source": [
        "## WithColumn"
      ],
      "metadata": {
        "id": "xxbQiJrY07NN"
      }
    },
    {
      "cell_type": "code",
      "source": [
        "df = df.withColumn(\n",
        "    \"salary_rase\",\n",
        "    (F.col(\"salary\") + .05 * F.col(\"salary\"))\n",
        ")\n",
        "df.show()"
      ],
      "metadata": {
        "colab": {
          "base_uri": "https://localhost:8080/"
        },
        "id": "dDh_JhAIyM37",
        "outputId": "4947dcab-4aad-4983-c7d6-662cfdb03740"
      },
      "execution_count": null,
      "outputs": [
        {
          "output_type": "stream",
          "name": "stdout",
          "text": [
            "+---+------+----------+----+------+----------+-----------+\n",
            "| id|  name|       dob| age|salary|department|salary_rase|\n",
            "+---+------+----------+----+------+----------+-----------+\n",
            "|  5| David|1981-12-18|  41| 90000|        HR|    94500.0|\n",
            "|  3|   Bob|      null|null| 80000|        IT|    84000.0|\n",
            "|  2| Alice|1997-02-28|  25| 90000|   Finance|    94500.0|\n",
            "|  9| James|1983-10-14|  39| 87000|        IT|    91350.0|\n",
            "|  4| Emily|1994-11-22|  28| 65000|   Finance|    68250.0|\n",
            "|  2| Alice|1997-02-28|  25| 60000|        HR|    63000.0|\n",
            "|  8|  Lisa|1995-08-20|  27| 58000|        HR|    60900.0|\n",
            "|  1|  John|1992-05-12|  30| 70000|        IT|    73500.0|\n",
            "|  6| Susan|1989-07-05|  33| 75000|   Finance|    78750.0|\n",
            "| 10|Sophie|1992-06-30|  30| 62000|   Finance|    65100.0|\n",
            "|  4| Emily|1994-11-22|  28| 70000|   Finance|    73500.0|\n",
            "|  7|  Mike|1976-03-15|  46| 95000|        IT|    99750.0|\n",
            "+---+------+----------+----+------+----------+-----------+\n",
            "\n"
          ]
        }
      ]
    },
    {
      "cell_type": "code",
      "source": [
        "df = df.withColumn(\n",
        "    \"salary_rase\",\n",
        "    (F.col(\"salary\") + .05 * F.col(\"salary\"))\n",
        "    ).withColumn(\n",
        "    \"salary_rase_10%\",\n",
        "    (F.col(\"salary\") + .1 * F.col(\"salary\"))\n",
        ")\n",
        "df.show()"
      ],
      "metadata": {
        "colab": {
          "base_uri": "https://localhost:8080/"
        },
        "id": "ZHUqAKHA1wvD",
        "outputId": "2368add7-36d2-4c86-abee-25d0fbbe58c7"
      },
      "execution_count": null,
      "outputs": [
        {
          "output_type": "stream",
          "name": "stdout",
          "text": [
            "+---+------+----------+----+------+----------+-----------+---------------+\n",
            "| id|  name|       dob| age|salary|department|salary_rase|salary_rase_10%|\n",
            "+---+------+----------+----+------+----------+-----------+---------------+\n",
            "|  5| David|1981-12-18|  41| 90000|        HR|    94500.0|        99000.0|\n",
            "|  3|   Bob|      null|null| 80000|        IT|    84000.0|        88000.0|\n",
            "|  2| Alice|1997-02-28|  25| 90000|   Finance|    94500.0|        99000.0|\n",
            "|  9| James|1983-10-14|  39| 87000|        IT|    91350.0|        95700.0|\n",
            "|  4| Emily|1994-11-22|  28| 65000|   Finance|    68250.0|        71500.0|\n",
            "|  2| Alice|1997-02-28|  25| 60000|        HR|    63000.0|        66000.0|\n",
            "|  8|  Lisa|1995-08-20|  27| 58000|        HR|    60900.0|        63800.0|\n",
            "|  1|  John|1992-05-12|  30| 70000|        IT|    73500.0|        77000.0|\n",
            "|  6| Susan|1989-07-05|  33| 75000|   Finance|    78750.0|        82500.0|\n",
            "| 10|Sophie|1992-06-30|  30| 62000|   Finance|    65100.0|        68200.0|\n",
            "|  4| Emily|1994-11-22|  28| 70000|   Finance|    73500.0|        77000.0|\n",
            "|  7|  Mike|1976-03-15|  46| 95000|        IT|    99750.0|       104500.0|\n",
            "+---+------+----------+----+------+----------+-----------+---------------+\n",
            "\n"
          ]
        }
      ]
    },
    {
      "cell_type": "markdown",
      "source": [
        "## WithColumns"
      ],
      "metadata": {
        "id": "R3XFT5gI251i"
      }
    },
    {
      "cell_type": "code",
      "source": [
        "df = df.withColumns(\n",
        "    {\n",
        "    \"salary_raise101\": F.col(\"salary\") + 0.05 * F.col(\"salary\"),\n",
        "    \"age101\": F.year(F.current_timestamp()) - F.year(F.col(\"dob\"))\n",
        "    }\n",
        ")\n",
        "df.show()"
      ],
      "metadata": {
        "id": "KnzUrqrm3LZN"
      },
      "execution_count": null,
      "outputs": []
    },
    {
      "cell_type": "markdown",
      "source": [
        "# Filter"
      ],
      "metadata": {
        "id": "5q3DXkDH4EbQ"
      }
    },
    {
      "cell_type": "code",
      "source": [
        "df.filter(\n",
        "    F.col(\"salary_rase\") >= 75000\n",
        ").show()"
      ],
      "metadata": {
        "colab": {
          "base_uri": "https://localhost:8080/"
        },
        "id": "1n6AmqYz3Pm1",
        "outputId": "57fbf18d-2b39-415c-e545-014b47127f97"
      },
      "execution_count": null,
      "outputs": [
        {
          "output_type": "stream",
          "name": "stdout",
          "text": [
            "+---+-----+----------+----+------+----------+-----------+---------------+\n",
            "| id| name|       dob| age|salary|department|salary_rase|salary_rase_10%|\n",
            "+---+-----+----------+----+------+----------+-----------+---------------+\n",
            "|  5|David|1981-12-18|  41| 90000|        HR|    94500.0|        99000.0|\n",
            "|  3|  Bob|      null|null| 80000|        IT|    84000.0|        88000.0|\n",
            "|  2|Alice|1997-02-28|  25| 90000|   Finance|    94500.0|        99000.0|\n",
            "|  9|James|1983-10-14|  39| 87000|        IT|    91350.0|        95700.0|\n",
            "|  6|Susan|1989-07-05|  33| 75000|   Finance|    78750.0|        82500.0|\n",
            "|  7| Mike|1976-03-15|  46| 95000|        IT|    99750.0|       104500.0|\n",
            "+---+-----+----------+----+------+----------+-----------+---------------+\n",
            "\n"
          ]
        }
      ]
    },
    {
      "cell_type": "markdown",
      "source": [
        "# When Otherwise"
      ],
      "metadata": {
        "id": "8pK5rEH14jDt"
      }
    },
    {
      "cell_type": "code",
      "source": [
        "df = df.withColumn(\n",
        "    \"age_group\",\n",
        "    F.when(\n",
        "        F.col(\"age\") <= 20,\n",
        "        \"Upto 20\"\n",
        "    ).when(\n",
        "        (\n",
        "            (F.col(\"age\") > 20) &\n",
        "            (F.col(\"age\") <= 30)\n",
        "        ),\n",
        "        \"21 to 30\"\n",
        "    ).when(\n",
        "        (\n",
        "            (F.col(\"age\") > 30) &\n",
        "            (F.col(\"age\") <= 40)\n",
        "        ),\n",
        "        \"30 to 40\"\n",
        "    ).otherwise(\n",
        "        \"More than 40\"\n",
        "    )\n",
        ")\n",
        "df.show()"
      ],
      "metadata": {
        "colab": {
          "base_uri": "https://localhost:8080/"
        },
        "id": "G0uBcIH-4k_s",
        "outputId": "c5214fe8-2f49-4fa3-8010-153063c77055"
      },
      "execution_count": null,
      "outputs": [
        {
          "output_type": "stream",
          "name": "stdout",
          "text": [
            "+---+------+----------+----+------+----------+-----------+---------------+------------+\n",
            "| id|  name|       dob| age|salary|department|salary_rase|salary_rase_10%|   age_group|\n",
            "+---+------+----------+----+------+----------+-----------+---------------+------------+\n",
            "|  5| David|1981-12-18|  41| 90000|        HR|    94500.0|        99000.0|More than 40|\n",
            "|  3|   Bob|      null|null| 80000|        IT|    84000.0|        88000.0|More than 40|\n",
            "|  2| Alice|1997-02-28|  25| 90000|   Finance|    94500.0|        99000.0|    21 to 30|\n",
            "|  9| James|1983-10-14|  39| 87000|        IT|    91350.0|        95700.0|    30 to 40|\n",
            "|  4| Emily|1994-11-22|  28| 65000|   Finance|    68250.0|        71500.0|    21 to 30|\n",
            "|  2| Alice|1997-02-28|  25| 60000|        HR|    63000.0|        66000.0|    21 to 30|\n",
            "|  8|  Lisa|1995-08-20|  27| 58000|        HR|    60900.0|        63800.0|    21 to 30|\n",
            "|  1|  John|1992-05-12|  30| 70000|        IT|    73500.0|        77000.0|    21 to 30|\n",
            "|  6| Susan|1989-07-05|  33| 75000|   Finance|    78750.0|        82500.0|    30 to 40|\n",
            "| 10|Sophie|1992-06-30|  30| 62000|   Finance|    65100.0|        68200.0|    21 to 30|\n",
            "|  4| Emily|1994-11-22|  28| 70000|   Finance|    73500.0|        77000.0|    21 to 30|\n",
            "|  7|  Mike|1976-03-15|  46| 95000|        IT|    99750.0|       104500.0|More than 40|\n",
            "+---+------+----------+----+------+----------+-----------+---------------+------------+\n",
            "\n"
          ]
        }
      ]
    },
    {
      "cell_type": "markdown",
      "source": [
        "# Lit"
      ],
      "metadata": {
        "id": "RcZRL26o6P29"
      }
    },
    {
      "cell_type": "markdown",
      "source": [
        "### Lit give the default value to the column"
      ],
      "metadata": {
        "id": "CZs7yP4m6bDy"
      }
    },
    {
      "cell_type": "code",
      "source": [
        "df = df.withColumn(\n",
        "    \"company\",\n",
        "    F.lit(\"Abacus Insight\")\n",
        ")\n",
        "df.show()"
      ],
      "metadata": {
        "colab": {
          "base_uri": "https://localhost:8080/"
        },
        "id": "t33YgSAK6Q_g",
        "outputId": "2b311e66-900b-42a6-be19-f5558a9f4efb"
      },
      "execution_count": null,
      "outputs": [
        {
          "output_type": "stream",
          "name": "stdout",
          "text": [
            "+---+------+----------+----+------+----------+-----------+---------------+------------+--------------+\n",
            "| id|  name|       dob| age|salary|department|salary_rase|salary_rase_10%|   age_group|       company|\n",
            "+---+------+----------+----+------+----------+-----------+---------------+------------+--------------+\n",
            "|  5| David|1981-12-18|  41| 90000|        HR|    94500.0|        99000.0|More than 40|Abacus Insight|\n",
            "|  3|   Bob|      null|null| 80000|        IT|    84000.0|        88000.0|More than 40|Abacus Insight|\n",
            "|  2| Alice|1997-02-28|  25| 90000|   Finance|    94500.0|        99000.0|    21 to 30|Abacus Insight|\n",
            "|  9| James|1983-10-14|  39| 87000|        IT|    91350.0|        95700.0|    30 to 40|Abacus Insight|\n",
            "|  4| Emily|1994-11-22|  28| 65000|   Finance|    68250.0|        71500.0|    21 to 30|Abacus Insight|\n",
            "|  2| Alice|1997-02-28|  25| 60000|        HR|    63000.0|        66000.0|    21 to 30|Abacus Insight|\n",
            "|  8|  Lisa|1995-08-20|  27| 58000|        HR|    60900.0|        63800.0|    21 to 30|Abacus Insight|\n",
            "|  1|  John|1992-05-12|  30| 70000|        IT|    73500.0|        77000.0|    21 to 30|Abacus Insight|\n",
            "|  6| Susan|1989-07-05|  33| 75000|   Finance|    78750.0|        82500.0|    30 to 40|Abacus Insight|\n",
            "| 10|Sophie|1992-06-30|  30| 62000|   Finance|    65100.0|        68200.0|    21 to 30|Abacus Insight|\n",
            "|  4| Emily|1994-11-22|  28| 70000|   Finance|    73500.0|        77000.0|    21 to 30|Abacus Insight|\n",
            "|  7|  Mike|1976-03-15|  46| 95000|        IT|    99750.0|       104500.0|More than 40|Abacus Insight|\n",
            "+---+------+----------+----+------+----------+-----------+---------------+------------+--------------+\n",
            "\n"
          ]
        }
      ]
    },
    {
      "cell_type": "markdown",
      "source": [
        "# Null and Collace"
      ],
      "metadata": {
        "id": "fR9J2Z376xEd"
      }
    },
    {
      "cell_type": "code",
      "source": [
        "df = df.withCoulmns(\n",
        "    {\n",
        "        \"age\": F.colaese(\n",
        "            F.year(F.current_timestamp()) - F.year(F.col(\"dob\")),\n",
        "            F.lit(-1),\n",
        "        ),\n",
        "        \"has_dob_1\": ~F.isnull(\"dob\"),\n",
        "        \"has_dob_2\": F.col(\"dob\").isNotNull(),\n",
        "    }\n",
        ")"
      ],
      "metadata": {
        "id": "MA9fkwex6Zq_"
      },
      "execution_count": null,
      "outputs": []
    },
    {
      "cell_type": "markdown",
      "source": [
        "# Drop Column"
      ],
      "metadata": {
        "id": "0b_pcFljCzBH"
      }
    },
    {
      "cell_type": "code",
      "source": [
        "df.show()"
      ],
      "metadata": {
        "colab": {
          "base_uri": "https://localhost:8080/"
        },
        "id": "yQwQEbInBwB8",
        "outputId": "0e88ac87-3192-49fc-dbce-ae5de096dd00"
      },
      "execution_count": null,
      "outputs": [
        {
          "output_type": "stream",
          "name": "stdout",
          "text": [
            "+---+------+----------+----+------+----------+-----------+---------------+------------+--------------+\n",
            "| id|  name|       dob| age|salary|department|salary_rase|salary_rase_10%|   age_group|       company|\n",
            "+---+------+----------+----+------+----------+-----------+---------------+------------+--------------+\n",
            "|  5| David|1981-12-18|  41| 90000|        HR|    94500.0|        99000.0|More than 40|Abacus Insight|\n",
            "|  3|   Bob|      null|null| 80000|        IT|    84000.0|        88000.0|More than 40|Abacus Insight|\n",
            "|  2| Alice|1997-02-28|  25| 90000|   Finance|    94500.0|        99000.0|    21 to 30|Abacus Insight|\n",
            "|  9| James|1983-10-14|  39| 87000|        IT|    91350.0|        95700.0|    30 to 40|Abacus Insight|\n",
            "|  4| Emily|1994-11-22|  28| 65000|   Finance|    68250.0|        71500.0|    21 to 30|Abacus Insight|\n",
            "|  2| Alice|1997-02-28|  25| 60000|        HR|    63000.0|        66000.0|    21 to 30|Abacus Insight|\n",
            "|  8|  Lisa|1995-08-20|  27| 58000|        HR|    60900.0|        63800.0|    21 to 30|Abacus Insight|\n",
            "|  1|  John|1992-05-12|  30| 70000|        IT|    73500.0|        77000.0|    21 to 30|Abacus Insight|\n",
            "|  6| Susan|1989-07-05|  33| 75000|   Finance|    78750.0|        82500.0|    30 to 40|Abacus Insight|\n",
            "| 10|Sophie|1992-06-30|  30| 62000|   Finance|    65100.0|        68200.0|    21 to 30|Abacus Insight|\n",
            "|  4| Emily|1994-11-22|  28| 70000|   Finance|    73500.0|        77000.0|    21 to 30|Abacus Insight|\n",
            "|  7|  Mike|1976-03-15|  46| 95000|        IT|    99750.0|       104500.0|More than 40|Abacus Insight|\n",
            "+---+------+----------+----+------+----------+-----------+---------------+------------+--------------+\n",
            "\n"
          ]
        }
      ]
    },
    {
      "cell_type": "code",
      "source": [
        "df = df.drop(\"salary_rase_10%\")\n",
        "df.show()"
      ],
      "metadata": {
        "colab": {
          "base_uri": "https://localhost:8080/"
        },
        "id": "XKhvV6z0C30n",
        "outputId": "563955b7-f0a0-42d0-d128-8f03f269ee2b"
      },
      "execution_count": null,
      "outputs": [
        {
          "output_type": "stream",
          "name": "stdout",
          "text": [
            "+---+------+----------+----+------+----------+-----------+------------+--------------+\n",
            "| id|  name|       dob| age|salary|department|salary_rase|   age_group|       company|\n",
            "+---+------+----------+----+------+----------+-----------+------------+--------------+\n",
            "|  5| David|1981-12-18|  41| 90000|        HR|    94500.0|More than 40|Abacus Insight|\n",
            "|  3|   Bob|      null|null| 80000|        IT|    84000.0|More than 40|Abacus Insight|\n",
            "|  2| Alice|1997-02-28|  25| 90000|   Finance|    94500.0|    21 to 30|Abacus Insight|\n",
            "|  9| James|1983-10-14|  39| 87000|        IT|    91350.0|    30 to 40|Abacus Insight|\n",
            "|  4| Emily|1994-11-22|  28| 65000|   Finance|    68250.0|    21 to 30|Abacus Insight|\n",
            "|  2| Alice|1997-02-28|  25| 60000|        HR|    63000.0|    21 to 30|Abacus Insight|\n",
            "|  8|  Lisa|1995-08-20|  27| 58000|        HR|    60900.0|    21 to 30|Abacus Insight|\n",
            "|  1|  John|1992-05-12|  30| 70000|        IT|    73500.0|    21 to 30|Abacus Insight|\n",
            "|  6| Susan|1989-07-05|  33| 75000|   Finance|    78750.0|    30 to 40|Abacus Insight|\n",
            "| 10|Sophie|1992-06-30|  30| 62000|   Finance|    65100.0|    21 to 30|Abacus Insight|\n",
            "|  4| Emily|1994-11-22|  28| 70000|   Finance|    73500.0|    21 to 30|Abacus Insight|\n",
            "|  7|  Mike|1976-03-15|  46| 95000|        IT|    99750.0|More than 40|Abacus Insight|\n",
            "+---+------+----------+----+------+----------+-----------+------------+--------------+\n",
            "\n"
          ]
        }
      ]
    },
    {
      "cell_type": "markdown",
      "source": [
        "# withColumnRename"
      ],
      "metadata": {
        "id": "wpJ96_8hDch4"
      }
    },
    {
      "cell_type": "code",
      "source": [
        "df = df.withColumnRenamed(\"salary_rase\",\"salary_raised\").orderBy(\"id\")\n",
        "df.show()"
      ],
      "metadata": {
        "colab": {
          "base_uri": "https://localhost:8080/"
        },
        "id": "4rjhVSGaDIKe",
        "outputId": "313b9245-1eec-42c1-ed9d-8ea63a1e5f51"
      },
      "execution_count": null,
      "outputs": [
        {
          "output_type": "stream",
          "name": "stdout",
          "text": [
            "+---+------+----------+----+------+----------+-------------+------------+--------------+\n",
            "| id|  name|       dob| age|salary|department|salary_raised|   age_group|       company|\n",
            "+---+------+----------+----+------+----------+-------------+------------+--------------+\n",
            "|  1|  John|1992-05-12|  30| 70000|        IT|      73500.0|    21 to 30|Abacus Insight|\n",
            "|  2| Alice|1997-02-28|  25| 60000|        HR|      63000.0|    21 to 30|Abacus Insight|\n",
            "|  2| Alice|1997-02-28|  25| 90000|   Finance|      94500.0|    21 to 30|Abacus Insight|\n",
            "|  3|   Bob|      null|null| 80000|        IT|      84000.0|More than 40|Abacus Insight|\n",
            "|  4| Emily|1994-11-22|  28| 65000|   Finance|      68250.0|    21 to 30|Abacus Insight|\n",
            "|  4| Emily|1994-11-22|  28| 70000|   Finance|      73500.0|    21 to 30|Abacus Insight|\n",
            "|  5| David|1981-12-18|  41| 90000|        HR|      94500.0|More than 40|Abacus Insight|\n",
            "|  6| Susan|1989-07-05|  33| 75000|   Finance|      78750.0|    30 to 40|Abacus Insight|\n",
            "|  7|  Mike|1976-03-15|  46| 95000|        IT|      99750.0|More than 40|Abacus Insight|\n",
            "|  8|  Lisa|1995-08-20|  27| 58000|        HR|      60900.0|    21 to 30|Abacus Insight|\n",
            "|  9| James|1983-10-14|  39| 87000|        IT|      91350.0|    30 to 40|Abacus Insight|\n",
            "| 10|Sophie|1992-06-30|  30| 62000|   Finance|      65100.0|    21 to 30|Abacus Insight|\n",
            "+---+------+----------+----+------+----------+-------------+------------+--------------+\n",
            "\n"
          ]
        }
      ]
    },
    {
      "cell_type": "markdown",
      "source": [
        "# Partition By"
      ],
      "metadata": {
        "id": "FIYwOCrFEspH"
      }
    },
    {
      "cell_type": "code",
      "source": [
        "from pyspark.sql.window import Window"
      ],
      "metadata": {
        "id": "XwlyFeHBDpbe"
      },
      "execution_count": null,
      "outputs": []
    },
    {
      "cell_type": "code",
      "source": [
        "windowSpec = Window.partitionBy(df.age_group)\n",
        "df = df.withColumn(\"min_age_in_group\", F.min(\"age\").over(windowSpec))\n",
        "df.show()\n"
      ],
      "metadata": {
        "colab": {
          "base_uri": "https://localhost:8080/"
        },
        "id": "SELhtATpE7ej",
        "outputId": "afa451bd-842a-415f-f453-ff31a8824ac7"
      },
      "execution_count": null,
      "outputs": [
        {
          "output_type": "stream",
          "name": "stdout",
          "text": [
            "+---+------+----------+----+------+----------+-------------+------------+--------------+----------------+\n",
            "| id|  name|       dob| age|salary|department|salary_raised|   age_group|       company|min_age_in_group|\n",
            "+---+------+----------+----+------+----------+-------------+------------+--------------+----------------+\n",
            "|  6| Susan|1989-07-05|  33| 75000|   Finance|      78750.0|    30 to 40|Abacus Insight|              33|\n",
            "|  9| James|1983-10-14|  39| 87000|        IT|      91350.0|    30 to 40|Abacus Insight|              33|\n",
            "|  1|  John|1992-05-12|  30| 70000|        IT|      73500.0|    21 to 30|Abacus Insight|              25|\n",
            "|  2| Alice|1997-02-28|  25| 90000|   Finance|      94500.0|    21 to 30|Abacus Insight|              25|\n",
            "|  2| Alice|1997-02-28|  25| 60000|        HR|      63000.0|    21 to 30|Abacus Insight|              25|\n",
            "|  4| Emily|1994-11-22|  28| 65000|   Finance|      68250.0|    21 to 30|Abacus Insight|              25|\n",
            "|  4| Emily|1994-11-22|  28| 70000|   Finance|      73500.0|    21 to 30|Abacus Insight|              25|\n",
            "|  8|  Lisa|1995-08-20|  27| 58000|        HR|      60900.0|    21 to 30|Abacus Insight|              25|\n",
            "| 10|Sophie|1992-06-30|  30| 62000|   Finance|      65100.0|    21 to 30|Abacus Insight|              25|\n",
            "|  3|   Bob|      null|null| 80000|        IT|      84000.0|More than 40|Abacus Insight|              41|\n",
            "|  5| David|1981-12-18|  41| 90000|        HR|      94500.0|More than 40|Abacus Insight|              41|\n",
            "|  7|  Mike|1976-03-15|  46| 95000|        IT|      99750.0|More than 40|Abacus Insight|              41|\n",
            "+---+------+----------+----+------+----------+-------------+------------+--------------+----------------+\n",
            "\n"
          ]
        }
      ]
    },
    {
      "cell_type": "markdown",
      "source": [
        "# Join"
      ],
      "metadata": {
        "id": "m8Qwc7ph99aN"
      }
    },
    {
      "cell_type": "markdown",
      "source": [
        "## Loading Parquet File"
      ],
      "metadata": {
        "id": "9x80cMbH-EIa"
      }
    },
    {
      "cell_type": "code",
      "source": [
        "par_path = r'/content/drive/MyDrive/data/parquet/reference.parquet'\n",
        "df_par = spark.read.parquet(par_path)\n",
        "df_par.printSchema()\n",
        "df_par.show(10)"
      ],
      "metadata": {
        "colab": {
          "base_uri": "https://localhost:8080/"
        },
        "id": "6vDU9ud098G7",
        "outputId": "53b8c8aa-3e75-4863-b894-d786eaa1018f"
      },
      "execution_count": null,
      "outputs": [
        {
          "output_type": "stream",
          "name": "stdout",
          "text": [
            "root\n",
            " |-- department: string (nullable = true)\n",
            " |-- manager: string (nullable = true)\n",
            " |-- lead: string (nullable = true)\n",
            "\n",
            "+----------+-------+--------+\n",
            "|department|manager|    lead|\n",
            "+----------+-------+--------+\n",
            "|   Finance|  Megan|   Molly|\n",
            "|        HR|   Brad|   Brian|\n",
            "|        IT|  Chris|Chandler|\n",
            "|  Delivery|   Leon|  Louise|\n",
            "+----------+-------+--------+\n",
            "\n"
          ]
        }
      ]
    },
    {
      "cell_type": "code",
      "source": [
        "df.join(\n",
        "    df_par,\n",
        "    \"department\",\n",
        "    \"left\"\n",
        ").show()"
      ],
      "metadata": {
        "colab": {
          "base_uri": "https://localhost:8080/"
        },
        "id": "3auKcolc-5Fs",
        "outputId": "a6f0b814-8f62-4773-c59a-353a687f48a8"
      },
      "execution_count": null,
      "outputs": [
        {
          "output_type": "stream",
          "name": "stdout",
          "text": [
            "+----------+---+------+----------+----+------+-------------+------------+--------------+----------------+-------+--------+\n",
            "|department| id|  name|       dob| age|salary|salary_raised|   age_group|       company|min_age_in_group|manager|    lead|\n",
            "+----------+---+------+----------+----+------+-------------+------------+--------------+----------------+-------+--------+\n",
            "|   Finance|  6| Susan|1989-07-05|  33| 75000|      78750.0|    30 to 40|Abacus Insight|              33|  Megan|   Molly|\n",
            "|        IT|  9| James|1983-10-14|  39| 87000|      91350.0|    30 to 40|Abacus Insight|              33|  Chris|Chandler|\n",
            "|        IT|  1|  John|1992-05-12|  30| 70000|      73500.0|    21 to 30|Abacus Insight|              25|  Chris|Chandler|\n",
            "|   Finance|  2| Alice|1997-02-28|  25| 90000|      94500.0|    21 to 30|Abacus Insight|              25|  Megan|   Molly|\n",
            "|        HR|  2| Alice|1997-02-28|  25| 60000|      63000.0|    21 to 30|Abacus Insight|              25|   Brad|   Brian|\n",
            "|   Finance|  4| Emily|1994-11-22|  28| 65000|      68250.0|    21 to 30|Abacus Insight|              25|  Megan|   Molly|\n",
            "|   Finance|  4| Emily|1994-11-22|  28| 70000|      73500.0|    21 to 30|Abacus Insight|              25|  Megan|   Molly|\n",
            "|        HR|  8|  Lisa|1995-08-20|  27| 58000|      60900.0|    21 to 30|Abacus Insight|              25|   Brad|   Brian|\n",
            "|   Finance| 10|Sophie|1992-06-30|  30| 62000|      65100.0|    21 to 30|Abacus Insight|              25|  Megan|   Molly|\n",
            "|        IT|  3|   Bob|      null|null| 80000|      84000.0|More than 40|Abacus Insight|              41|  Chris|Chandler|\n",
            "|        HR|  5| David|1981-12-18|  41| 90000|      94500.0|More than 40|Abacus Insight|              41|   Brad|   Brian|\n",
            "|        IT|  7|  Mike|1976-03-15|  46| 95000|      99750.0|More than 40|Abacus Insight|              41|  Chris|Chandler|\n",
            "+----------+---+------+----------+----+------+-------------+------------+--------------+----------------+-------+--------+\n",
            "\n"
          ]
        }
      ]
    },
    {
      "cell_type": "code",
      "source": [
        "df.join(\n",
        "    df_par,\n",
        "    \"department\",\n",
        "    \"semi\"\n",
        ").show()"
      ],
      "metadata": {
        "colab": {
          "base_uri": "https://localhost:8080/"
        },
        "id": "xTGruvpU_EcB",
        "outputId": "6b77193a-ac46-4997-bf67-a1120a08529c"
      },
      "execution_count": null,
      "outputs": [
        {
          "output_type": "stream",
          "name": "stdout",
          "text": [
            "+----------+---+------+----------+----+------+-------------+------------+--------------+----------------+\n",
            "|department| id|  name|       dob| age|salary|salary_raised|   age_group|       company|min_age_in_group|\n",
            "+----------+---+------+----------+----+------+-------------+------------+--------------+----------------+\n",
            "|   Finance|  6| Susan|1989-07-05|  33| 75000|      78750.0|    30 to 40|Abacus Insight|              33|\n",
            "|        IT|  9| James|1983-10-14|  39| 87000|      91350.0|    30 to 40|Abacus Insight|              33|\n",
            "|        IT|  1|  John|1992-05-12|  30| 70000|      73500.0|    21 to 30|Abacus Insight|              25|\n",
            "|   Finance|  2| Alice|1997-02-28|  25| 90000|      94500.0|    21 to 30|Abacus Insight|              25|\n",
            "|        HR|  2| Alice|1997-02-28|  25| 60000|      63000.0|    21 to 30|Abacus Insight|              25|\n",
            "|   Finance|  4| Emily|1994-11-22|  28| 65000|      68250.0|    21 to 30|Abacus Insight|              25|\n",
            "|   Finance|  4| Emily|1994-11-22|  28| 70000|      73500.0|    21 to 30|Abacus Insight|              25|\n",
            "|        HR|  8|  Lisa|1995-08-20|  27| 58000|      60900.0|    21 to 30|Abacus Insight|              25|\n",
            "|   Finance| 10|Sophie|1992-06-30|  30| 62000|      65100.0|    21 to 30|Abacus Insight|              25|\n",
            "|        IT|  3|   Bob|      null|null| 80000|      84000.0|More than 40|Abacus Insight|              41|\n",
            "|        HR|  5| David|1981-12-18|  41| 90000|      94500.0|More than 40|Abacus Insight|              41|\n",
            "|        IT|  7|  Mike|1976-03-15|  46| 95000|      99750.0|More than 40|Abacus Insight|              41|\n",
            "+----------+---+------+----------+----+------+-------------+------------+--------------+----------------+\n",
            "\n"
          ]
        }
      ]
    },
    {
      "cell_type": "code",
      "source": [
        "df_par.join(\n",
        "    df,\n",
        "    \"department\",\n",
        "    \"anti\"\n",
        ").show()"
      ],
      "metadata": {
        "colab": {
          "base_uri": "https://localhost:8080/"
        },
        "id": "KeLDs5EgB4RN",
        "outputId": "fbc4d51a-295a-40aa-f823-7c0954f63d4e"
      },
      "execution_count": null,
      "outputs": [
        {
          "output_type": "stream",
          "name": "stdout",
          "text": [
            "+----------+-------+------+\n",
            "|department|manager|  lead|\n",
            "+----------+-------+------+\n",
            "|  Delivery|   Leon|Louise|\n",
            "+----------+-------+------+\n",
            "\n"
          ]
        }
      ]
    },
    {
      "cell_type": "code",
      "source": [
        "df = df.alias(\"dfm\")\n",
        "df_par = df_par.alias(\"dfp\")"
      ],
      "metadata": {
        "id": "1uWSgdH6DHJI"
      },
      "execution_count": null,
      "outputs": []
    },
    {
      "cell_type": "code",
      "source": [
        "df.join(\n",
        "    df_par,\n",
        "    F.col(\"dfm.department\") == F.col(\"dfp.department\"),\n",
        "    \"inner\"\n",
        ").show()"
      ],
      "metadata": {
        "colab": {
          "base_uri": "https://localhost:8080/"
        },
        "id": "vDcbb63IC07Q",
        "outputId": "ae32e0a3-ae17-405a-d1d8-1017c89d1eb4"
      },
      "execution_count": null,
      "outputs": [
        {
          "output_type": "stream",
          "name": "stdout",
          "text": [
            "+---+------+----------+----+------+----------+-------------+------------+--------------+----------------+----------+-------+--------+\n",
            "| id|  name|       dob| age|salary|department|salary_raised|   age_group|       company|min_age_in_group|department|manager|    lead|\n",
            "+---+------+----------+----+------+----------+-------------+------------+--------------+----------------+----------+-------+--------+\n",
            "|  6| Susan|1989-07-05|  33| 75000|   Finance|      78750.0|    30 to 40|Abacus Insight|              33|   Finance|  Megan|   Molly|\n",
            "|  9| James|1983-10-14|  39| 87000|        IT|      91350.0|    30 to 40|Abacus Insight|              33|        IT|  Chris|Chandler|\n",
            "|  1|  John|1992-05-12|  30| 70000|        IT|      73500.0|    21 to 30|Abacus Insight|              25|        IT|  Chris|Chandler|\n",
            "|  2| Alice|1997-02-28|  25| 90000|   Finance|      94500.0|    21 to 30|Abacus Insight|              25|   Finance|  Megan|   Molly|\n",
            "|  2| Alice|1997-02-28|  25| 60000|        HR|      63000.0|    21 to 30|Abacus Insight|              25|        HR|   Brad|   Brian|\n",
            "|  4| Emily|1994-11-22|  28| 65000|   Finance|      68250.0|    21 to 30|Abacus Insight|              25|   Finance|  Megan|   Molly|\n",
            "|  4| Emily|1994-11-22|  28| 70000|   Finance|      73500.0|    21 to 30|Abacus Insight|              25|   Finance|  Megan|   Molly|\n",
            "|  8|  Lisa|1995-08-20|  27| 58000|        HR|      60900.0|    21 to 30|Abacus Insight|              25|        HR|   Brad|   Brian|\n",
            "| 10|Sophie|1992-06-30|  30| 62000|   Finance|      65100.0|    21 to 30|Abacus Insight|              25|   Finance|  Megan|   Molly|\n",
            "|  3|   Bob|      null|null| 80000|        IT|      84000.0|More than 40|Abacus Insight|              41|        IT|  Chris|Chandler|\n",
            "|  5| David|1981-12-18|  41| 90000|        HR|      94500.0|More than 40|Abacus Insight|              41|        HR|   Brad|   Brian|\n",
            "|  7|  Mike|1976-03-15|  46| 95000|        IT|      99750.0|More than 40|Abacus Insight|              41|        IT|  Chris|Chandler|\n",
            "+---+------+----------+----+------+----------+-------------+------------+--------------+----------------+----------+-------+--------+\n",
            "\n"
          ]
        }
      ]
    },
    {
      "cell_type": "code",
      "source": [
        "df.show()"
      ],
      "metadata": {
        "colab": {
          "base_uri": "https://localhost:8080/"
        },
        "id": "MXt8__vEEpZI",
        "outputId": "bc10a055-7ba0-4654-d0eb-5eaab0c5f7a2"
      },
      "execution_count": null,
      "outputs": [
        {
          "output_type": "stream",
          "name": "stdout",
          "text": [
            "+---+------+----------+----+------+----------+-------------+------------+--------------+----------------+\n",
            "| id|  name|       dob| age|salary|department|salary_raised|   age_group|       company|min_age_in_group|\n",
            "+---+------+----------+----+------+----------+-------------+------------+--------------+----------------+\n",
            "|  6| Susan|1989-07-05|  33| 75000|   Finance|      78750.0|    30 to 40|Abacus Insight|              33|\n",
            "|  9| James|1983-10-14|  39| 87000|        IT|      91350.0|    30 to 40|Abacus Insight|              33|\n",
            "|  1|  John|1992-05-12|  30| 70000|        IT|      73500.0|    21 to 30|Abacus Insight|              25|\n",
            "|  2| Alice|1997-02-28|  25| 90000|   Finance|      94500.0|    21 to 30|Abacus Insight|              25|\n",
            "|  2| Alice|1997-02-28|  25| 60000|        HR|      63000.0|    21 to 30|Abacus Insight|              25|\n",
            "|  4| Emily|1994-11-22|  28| 65000|   Finance|      68250.0|    21 to 30|Abacus Insight|              25|\n",
            "|  4| Emily|1994-11-22|  28| 70000|   Finance|      73500.0|    21 to 30|Abacus Insight|              25|\n",
            "|  8|  Lisa|1995-08-20|  27| 58000|        HR|      60900.0|    21 to 30|Abacus Insight|              25|\n",
            "| 10|Sophie|1992-06-30|  30| 62000|   Finance|      65100.0|    21 to 30|Abacus Insight|              25|\n",
            "|  3|   Bob|      null|null| 80000|        IT|      84000.0|More than 40|Abacus Insight|              41|\n",
            "|  5| David|1981-12-18|  41| 90000|        HR|      94500.0|More than 40|Abacus Insight|              41|\n",
            "|  7|  Mike|1976-03-15|  46| 95000|        IT|      99750.0|More than 40|Abacus Insight|              41|\n",
            "+---+------+----------+----+------+----------+-------------+------------+--------------+----------------+\n",
            "\n"
          ]
        }
      ]
    },
    {
      "cell_type": "markdown",
      "source": [
        "# Load Save Date"
      ],
      "metadata": {
        "id": "sIi2t_tVDcga"
      }
    },
    {
      "cell_type": "code",
      "source": [
        "df.write.mode(\"overwrite\").format(\"csv\").save('/content/drive/MyDrive/data/result.csv')"
      ],
      "metadata": {
        "id": "Hiq07lXMDArj"
      },
      "execution_count": null,
      "outputs": []
    }
  ]
}