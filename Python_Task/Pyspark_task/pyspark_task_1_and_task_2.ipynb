{
  "nbformat": 4,
  "nbformat_minor": 0,
  "metadata": {
    "colab": {
      "provenance": []
    },
    "kernelspec": {
      "name": "python3",
      "display_name": "Python 3"
    },
    "language_info": {
      "name": "python"
    }
  },
  "cells": [
    {
      "cell_type": "markdown",
      "source": [
        "# Initializing Pyspark"
      ],
      "metadata": {
        "id": "Ohac-C0EHoUv"
      }
    },
    {
      "cell_type": "code",
      "execution_count": 50,
      "metadata": {
        "colab": {
          "base_uri": "https://localhost:8080/"
        },
        "id": "jcUtruS169Hg",
        "outputId": "07fb4d98-a057-4086-bcad-dc46aa44ed07"
      },
      "outputs": [
        {
          "output_type": "stream",
          "name": "stdout",
          "text": [
            "\r0% [Working]\r            \rHit:1 https://cloud.r-project.org/bin/linux/ubuntu jammy-cran40/ InRelease\n",
            "\r0% [Connecting to archive.ubuntu.com (91.189.91.82)] [Connecting to security.ubuntu.com (91.189.91.8\r                                                                                                    \rHit:2 https://developer.download.nvidia.com/compute/cuda/repos/ubuntu2204/x86_64  InRelease\n",
            "\r                                                                                                    \r0% [Waiting for headers] [Waiting for headers] [Connecting to ppa.launchpadcontent.net]\r                                                                                       \rHit:3 http://archive.ubuntu.com/ubuntu jammy InRelease\n",
            "Get:4 http://security.ubuntu.com/ubuntu jammy-security InRelease [110 kB]\n",
            "Get:5 http://archive.ubuntu.com/ubuntu jammy-updates InRelease [119 kB]\n",
            "Hit:6 http://archive.ubuntu.com/ubuntu jammy-backports InRelease\n",
            "Get:7 http://security.ubuntu.com/ubuntu jammy-security/restricted amd64 Packages [1,755 kB]\n",
            "Hit:8 https://ppa.launchpadcontent.net/c2d4u.team/c2d4u4.0+/ubuntu jammy InRelease\n",
            "Hit:9 https://ppa.launchpadcontent.net/deadsnakes/ppa/ubuntu jammy InRelease\n",
            "Hit:10 https://ppa.launchpadcontent.net/graphics-drivers/ppa/ubuntu jammy InRelease\n",
            "Get:11 http://security.ubuntu.com/ubuntu jammy-security/main amd64 Packages [1,442 kB]\n",
            "Hit:12 https://ppa.launchpadcontent.net/ubuntugis/ppa/ubuntu jammy InRelease\n",
            "Fetched 3,427 kB in 2s (2,208 kB/s)\n",
            "Reading package lists... Done\n",
            "drive\t     spark-3.1.1-bin-hadoop3.2\t    spark-3.1.1-bin-hadoop3.2.tgz.1\n",
            "sample_data  spark-3.1.1-bin-hadoop3.2.tgz\n"
          ]
        }
      ],
      "source": [
        "!apt-get update\n",
        "!apt-get install openjdk-8-jdk-headless -qq > /dev/null\n",
        "!wget -q http://archive.apache.org/dist/spark/spark-3.1.1/spark-3.1.1-bin-hadoop3.2.tgz # Download Apache Sparks.\n",
        "!tar xf spark-3.1.1-bin-hadoop3.2.tgz # Unzip the tgz file.\n",
        "!pip install -q findspark # Install findspark. Adds PySpark to the System path during runtime.\n",
        "import os\n",
        "os.environ[\"JAVA_HOME\"] = \"/usr/lib/jvm/java-8-openjdk-amd64\"\n",
        "os.environ[\"SPARK_HOME\"] = \"/content/spark-3.1.1-bin-hadoop3.2\"\n",
        "\n",
        "!ls\n",
        "# Initialize findspark\n",
        "import findspark\n",
        "findspark.init()"
      ]
    },
    {
      "cell_type": "code",
      "source": [
        "from pyspark.sql import SparkSession\n",
        "spark = SparkSession.builder.master(\"local[*]\").getOrCreate()\n",
        "spark"
      ],
      "metadata": {
        "colab": {
          "base_uri": "https://localhost:8080/",
          "height": 219
        },
        "id": "6gSXmijN7GM7",
        "outputId": "f6c9cf52-15ac-481b-a96a-e910398223f2"
      },
      "execution_count": 51,
      "outputs": [
        {
          "output_type": "execute_result",
          "data": {
            "text/plain": [
              "<pyspark.sql.session.SparkSession at 0x7988c01bf970>"
            ],
            "text/html": [
              "\n",
              "            <div>\n",
              "                <p><b>SparkSession - in-memory</b></p>\n",
              "                \n",
              "        <div>\n",
              "            <p><b>SparkContext</b></p>\n",
              "\n",
              "            <p><a href=\"http://e5b8140018a8:4040\">Spark UI</a></p>\n",
              "\n",
              "            <dl>\n",
              "              <dt>Version</dt>\n",
              "                <dd><code>v3.1.1</code></dd>\n",
              "              <dt>Master</dt>\n",
              "                <dd><code>local[*]</code></dd>\n",
              "              <dt>AppName</dt>\n",
              "                <dd><code>pyspark-shell</code></dd>\n",
              "            </dl>\n",
              "        </div>\n",
              "        \n",
              "            </div>\n",
              "        "
            ]
          },
          "metadata": {},
          "execution_count": 51
        }
      ]
    },
    {
      "cell_type": "markdown",
      "source": [
        "# Mounting the google Drive"
      ],
      "metadata": {
        "id": "j8Zho5nlHt_4"
      }
    },
    {
      "cell_type": "code",
      "source": [
        "from google.colab import drive\n",
        "drive.mount('/content/drive')"
      ],
      "metadata": {
        "colab": {
          "base_uri": "https://localhost:8080/"
        },
        "id": "UGcS9VYB7QRn",
        "outputId": "bc9f52bd-ea2f-4b0e-955f-493beb640c5b"
      },
      "execution_count": 53,
      "outputs": [
        {
          "output_type": "stream",
          "name": "stdout",
          "text": [
            "Drive already mounted at /content/drive; to attempt to forcibly remount, call drive.mount(\"/content/drive\", force_remount=True).\n"
          ]
        }
      ]
    },
    {
      "cell_type": "markdown",
      "source": [
        "# Loading Csv File"
      ],
      "metadata": {
        "id": "CXHbFORXHyPG"
      }
    },
    {
      "cell_type": "code",
      "source": [
        "csv_path = r'/content/drive/MyDrive/data/csv/batch.csv'"
      ],
      "metadata": {
        "id": "xjJ-yWSk7T9t"
      },
      "execution_count": 71,
      "outputs": []
    },
    {
      "cell_type": "code",
      "source": [
        "df = spark.read.csv(csv_path,header=True)\n",
        "df.printSchema()\n",
        "df.show(10)"
      ],
      "metadata": {
        "colab": {
          "base_uri": "https://localhost:8080/"
        },
        "id": "Y2_sEkLW7am2",
        "outputId": "6eb209d8-e626-49b4-eec7-96b5d34fb2b8"
      },
      "execution_count": 72,
      "outputs": [
        {
          "output_type": "stream",
          "name": "stdout",
          "text": [
            "root\n",
            " |-- id: string (nullable = true)\n",
            " |-- name: string (nullable = true)\n",
            " |-- dob: string (nullable = true)\n",
            " |-- age: string (nullable = true)\n",
            " |-- salary: string (nullable = true)\n",
            " |-- department: string (nullable = true)\n",
            "\n",
            "+---+-----+----------+----+------+----------+\n",
            "| id| name|       dob| age|salary|department|\n",
            "+---+-----+----------+----+------+----------+\n",
            "|  1| John|1992-05-12|  30| 70000|        IT|\n",
            "|  2|Alice|1997-02-28|  25| 60000|        HR|\n",
            "|  3|  Bob|      null|null| 80000|        IT|\n",
            "|  4|Emily|1994-11-22|  28| 65000|   Finance|\n",
            "+---+-----+----------+----+------+----------+\n",
            "\n"
          ]
        }
      ]
    },
    {
      "cell_type": "markdown",
      "source": [
        "# Desinging Final schema"
      ],
      "metadata": {
        "id": "SBH6dMcSIAg-"
      }
    },
    {
      "cell_type": "code",
      "source": [
        "from pyspark.sql.types import StructType, StructField, IntegerType, StringType, DateType"
      ],
      "metadata": {
        "id": "Gu4knXXP7iOd"
      },
      "execution_count": 73,
      "outputs": []
    },
    {
      "cell_type": "code",
      "source": [
        "schema = StructType([\n",
        "    StructField(\"id\", IntegerType()),\n",
        "    StructField(\"name\", StringType()),\n",
        "    StructField(\"dob\", DateType()),\n",
        "    StructField(\"age\", IntegerType()),\n",
        "    StructField(\"salary\", IntegerType()),\n",
        "    StructField(\"department\", StringType()),\n",
        "])"
      ],
      "metadata": {
        "id": "3cDLeWrR7kUQ"
      },
      "execution_count": 74,
      "outputs": []
    },
    {
      "cell_type": "code",
      "source": [
        "df_csv = spark.read.format(\"csv\").schema(schema).option(\"header\", True).load(csv_path)\n",
        "df_csv.printSchema()\n",
        "df_csv.show()"
      ],
      "metadata": {
        "colab": {
          "base_uri": "https://localhost:8080/"
        },
        "id": "OS0evWdU7nS5",
        "outputId": "f256c536-8f2c-475e-c4b4-3fc1a8dd2001"
      },
      "execution_count": 75,
      "outputs": [
        {
          "output_type": "stream",
          "name": "stdout",
          "text": [
            "root\n",
            " |-- id: integer (nullable = true)\n",
            " |-- name: string (nullable = true)\n",
            " |-- dob: date (nullable = true)\n",
            " |-- age: integer (nullable = true)\n",
            " |-- salary: integer (nullable = true)\n",
            " |-- department: string (nullable = true)\n",
            "\n",
            "+---+-----+----------+----+------+----------+\n",
            "| id| name|       dob| age|salary|department|\n",
            "+---+-----+----------+----+------+----------+\n",
            "|  1| John|1992-05-12|  30| 70000|        IT|\n",
            "|  2|Alice|1997-02-28|  25| 60000|        HR|\n",
            "|  3|  Bob|      null|null| 80000|        IT|\n",
            "|  4|Emily|1994-11-22|  28| 65000|   Finance|\n",
            "+---+-----+----------+----+------+----------+\n",
            "\n"
          ]
        }
      ]
    },
    {
      "cell_type": "markdown",
      "source": [
        "# Loading Json data"
      ],
      "metadata": {
        "id": "nYCpdJe9ImFx"
      }
    },
    {
      "cell_type": "code",
      "source": [
        "json_path = r'/content/drive/MyDrive/data/json'\n",
        "df_json = spark.read.format(\"json\").schema(schema).option(\"header\", True).load(json_path)\n",
        "df_json.printSchema()\n",
        "df_json.show()"
      ],
      "metadata": {
        "colab": {
          "base_uri": "https://localhost:8080/"
        },
        "id": "oqBMhRPm-ltD",
        "outputId": "32b38f9f-7a3c-4af3-db32-8428e1ff262c"
      },
      "execution_count": 76,
      "outputs": [
        {
          "output_type": "stream",
          "name": "stdout",
          "text": [
            "root\n",
            " |-- id: integer (nullable = true)\n",
            " |-- name: string (nullable = true)\n",
            " |-- dob: date (nullable = true)\n",
            " |-- age: integer (nullable = true)\n",
            " |-- salary: integer (nullable = true)\n",
            " |-- department: string (nullable = true)\n",
            "\n",
            "+---+------+----------+----+------+----------+\n",
            "| id|  name|       dob| age|salary|department|\n",
            "+---+------+----------+----+------+----------+\n",
            "|  1|  John|1992-05-12|  30| 70000|        IT|\n",
            "|  2| Alice|1997-02-28|  25| 60000|        HR|\n",
            "|  3|   Bob|      null|null| 80000|        IT|\n",
            "|  4| Emily|1994-11-22|  28| 65000|   Finance|\n",
            "|  5| David|1981-12-18|  41| 90000|        HR|\n",
            "|  6| Susan|1989-07-05|  33| 75000|   Finance|\n",
            "|  7|  Mike|1976-03-15|  46| 95000|        IT|\n",
            "| 10|Sophie|1992-06-30|  30| 62000|   Finance|\n",
            "|  4| Emily|1994-11-22|  28| 70000|   Finance|\n",
            "|  2| Alice|1997-02-28|  25| 90000|   Finance|\n",
            "|  9| James|1983-10-14|  39| 87000|        IT|\n",
            "|  1|  John|1992-05-12|  30| 70000|        IT|\n",
            "|  8|  Lisa|1995-08-20|  27| 58000|        HR|\n",
            "+---+------+----------+----+------+----------+\n",
            "\n"
          ]
        }
      ]
    },
    {
      "cell_type": "markdown",
      "source": [
        "# Union of Csv and Json data"
      ],
      "metadata": {
        "id": "px0QB1VeIrQD"
      }
    },
    {
      "cell_type": "code",
      "source": [
        "df = df_csv.union(df_json)\n",
        "df.printSchema()\n",
        "df.show()"
      ],
      "metadata": {
        "colab": {
          "base_uri": "https://localhost:8080/"
        },
        "id": "8mFjrS6V_Kbu",
        "outputId": "29b3e037-2e57-48fe-e599-a85ef9a74d74"
      },
      "execution_count": 77,
      "outputs": [
        {
          "output_type": "stream",
          "name": "stdout",
          "text": [
            "root\n",
            " |-- id: integer (nullable = true)\n",
            " |-- name: string (nullable = true)\n",
            " |-- dob: date (nullable = true)\n",
            " |-- age: integer (nullable = true)\n",
            " |-- salary: integer (nullable = true)\n",
            " |-- department: string (nullable = true)\n",
            "\n",
            "+---+------+----------+----+------+----------+\n",
            "| id|  name|       dob| age|salary|department|\n",
            "+---+------+----------+----+------+----------+\n",
            "|  1|  John|1992-05-12|  30| 70000|        IT|\n",
            "|  2| Alice|1997-02-28|  25| 60000|        HR|\n",
            "|  3|   Bob|      null|null| 80000|        IT|\n",
            "|  4| Emily|1994-11-22|  28| 65000|   Finance|\n",
            "|  1|  John|1992-05-12|  30| 70000|        IT|\n",
            "|  2| Alice|1997-02-28|  25| 60000|        HR|\n",
            "|  3|   Bob|      null|null| 80000|        IT|\n",
            "|  4| Emily|1994-11-22|  28| 65000|   Finance|\n",
            "|  5| David|1981-12-18|  41| 90000|        HR|\n",
            "|  6| Susan|1989-07-05|  33| 75000|   Finance|\n",
            "|  7|  Mike|1976-03-15|  46| 95000|        IT|\n",
            "| 10|Sophie|1992-06-30|  30| 62000|   Finance|\n",
            "|  4| Emily|1994-11-22|  28| 70000|   Finance|\n",
            "|  2| Alice|1997-02-28|  25| 90000|   Finance|\n",
            "|  9| James|1983-10-14|  39| 87000|        IT|\n",
            "|  1|  John|1992-05-12|  30| 70000|        IT|\n",
            "|  8|  Lisa|1995-08-20|  27| 58000|        HR|\n",
            "+---+------+----------+----+------+----------+\n",
            "\n"
          ]
        }
      ]
    },
    {
      "cell_type": "code",
      "source": [
        "df.count()"
      ],
      "metadata": {
        "colab": {
          "base_uri": "https://localhost:8080/"
        },
        "id": "fBC-uzQD_M6Q",
        "outputId": "5f25237b-5cb8-4dc7-a2e1-bb5017575b19"
      },
      "execution_count": 78,
      "outputs": [
        {
          "output_type": "execute_result",
          "data": {
            "text/plain": [
              "17"
            ]
          },
          "metadata": {},
          "execution_count": 78
        }
      ]
    },
    {
      "cell_type": "code",
      "source": [
        "df = df_csv.union(df_json)\n",
        "df.printSchema()\n",
        "df.show()"
      ],
      "metadata": {
        "colab": {
          "base_uri": "https://localhost:8080/"
        },
        "id": "ehgMDpoNARKI",
        "outputId": "4f461a1b-467e-4166-8bd7-88a844c5b3df"
      },
      "execution_count": 79,
      "outputs": [
        {
          "output_type": "stream",
          "name": "stdout",
          "text": [
            "root\n",
            " |-- id: integer (nullable = true)\n",
            " |-- name: string (nullable = true)\n",
            " |-- dob: date (nullable = true)\n",
            " |-- age: integer (nullable = true)\n",
            " |-- salary: integer (nullable = true)\n",
            " |-- department: string (nullable = true)\n",
            "\n",
            "+---+------+----------+----+------+----------+\n",
            "| id|  name|       dob| age|salary|department|\n",
            "+---+------+----------+----+------+----------+\n",
            "|  1|  John|1992-05-12|  30| 70000|        IT|\n",
            "|  2| Alice|1997-02-28|  25| 60000|        HR|\n",
            "|  3|   Bob|      null|null| 80000|        IT|\n",
            "|  4| Emily|1994-11-22|  28| 65000|   Finance|\n",
            "|  1|  John|1992-05-12|  30| 70000|        IT|\n",
            "|  2| Alice|1997-02-28|  25| 60000|        HR|\n",
            "|  3|   Bob|      null|null| 80000|        IT|\n",
            "|  4| Emily|1994-11-22|  28| 65000|   Finance|\n",
            "|  5| David|1981-12-18|  41| 90000|        HR|\n",
            "|  6| Susan|1989-07-05|  33| 75000|   Finance|\n",
            "|  7|  Mike|1976-03-15|  46| 95000|        IT|\n",
            "| 10|Sophie|1992-06-30|  30| 62000|   Finance|\n",
            "|  4| Emily|1994-11-22|  28| 70000|   Finance|\n",
            "|  2| Alice|1997-02-28|  25| 90000|   Finance|\n",
            "|  9| James|1983-10-14|  39| 87000|        IT|\n",
            "|  1|  John|1992-05-12|  30| 70000|        IT|\n",
            "|  8|  Lisa|1995-08-20|  27| 58000|        HR|\n",
            "+---+------+----------+----+------+----------+\n",
            "\n"
          ]
        }
      ]
    },
    {
      "cell_type": "markdown",
      "source": [
        "# Task 1"
      ],
      "metadata": {
        "id": "FnVeBnQAjaWo"
      }
    },
    {
      "cell_type": "markdown",
      "source": [
        "# Finding Duplicate value"
      ],
      "metadata": {
        "id": "s1fSefzqIzux"
      }
    },
    {
      "cell_type": "code",
      "source": [
        "\n",
        "from pyspark.sql.window import Window\n",
        "from pyspark.sql.functions import col, count, avg\n"
      ],
      "metadata": {
        "id": "-s-rrRyvAd67"
      },
      "execution_count": 80,
      "outputs": []
    },
    {
      "cell_type": "code",
      "source": [
        "\n",
        "windowSpec = Window.partitionBy([col(x) for x in df.columns])\n",
        "df = df.withColumn(\"count\", count(\"*\").over(windowSpec))\n",
        "df = df.withColumn(\"isDuplicate\", col(\"count\") > 1)\n",
        "df = df.drop(\"count\")\n",
        "df.show()"
      ],
      "metadata": {
        "colab": {
          "base_uri": "https://localhost:8080/"
        },
        "id": "lXk7H9BX_Nnn",
        "outputId": "aaca5505-7de2-41b5-a6bc-d1d0c833e98d"
      },
      "execution_count": 81,
      "outputs": [
        {
          "output_type": "stream",
          "name": "stdout",
          "text": [
            "+---+------+----------+----+------+----------+-----------+\n",
            "| id|  name|       dob| age|salary|department|isDuplicate|\n",
            "+---+------+----------+----+------+----------+-----------+\n",
            "|  7|  Mike|1976-03-15|  46| 95000|        IT|      false|\n",
            "| 10|Sophie|1992-06-30|  30| 62000|   Finance|      false|\n",
            "|  2| Alice|1997-02-28|  25| 60000|        HR|       true|\n",
            "|  2| Alice|1997-02-28|  25| 60000|        HR|       true|\n",
            "|  3|   Bob|      null|null| 80000|        IT|       true|\n",
            "|  3|   Bob|      null|null| 80000|        IT|       true|\n",
            "|  5| David|1981-12-18|  41| 90000|        HR|      false|\n",
            "|  8|  Lisa|1995-08-20|  27| 58000|        HR|      false|\n",
            "|  2| Alice|1997-02-28|  25| 90000|   Finance|      false|\n",
            "|  9| James|1983-10-14|  39| 87000|        IT|      false|\n",
            "|  1|  John|1992-05-12|  30| 70000|        IT|       true|\n",
            "|  1|  John|1992-05-12|  30| 70000|        IT|       true|\n",
            "|  1|  John|1992-05-12|  30| 70000|        IT|       true|\n",
            "|  4| Emily|1994-11-22|  28| 65000|   Finance|       true|\n",
            "|  4| Emily|1994-11-22|  28| 65000|   Finance|       true|\n",
            "|  4| Emily|1994-11-22|  28| 70000|   Finance|      false|\n",
            "|  6| Susan|1989-07-05|  33| 75000|   Finance|      false|\n",
            "+---+------+----------+----+------+----------+-----------+\n",
            "\n"
          ]
        }
      ]
    },
    {
      "cell_type": "code",
      "source": [
        "df = df.orderBy(\"id\")\n",
        "df.show()"
      ],
      "metadata": {
        "colab": {
          "base_uri": "https://localhost:8080/"
        },
        "id": "WXuXPtYFI9pY",
        "outputId": "558ab94d-3f9c-4c1d-fa5d-793c5840e7e9"
      },
      "execution_count": 82,
      "outputs": [
        {
          "output_type": "stream",
          "name": "stdout",
          "text": [
            "+---+------+----------+----+------+----------+-----------+\n",
            "| id|  name|       dob| age|salary|department|isDuplicate|\n",
            "+---+------+----------+----+------+----------+-----------+\n",
            "|  1|  John|1992-05-12|  30| 70000|        IT|       true|\n",
            "|  1|  John|1992-05-12|  30| 70000|        IT|       true|\n",
            "|  1|  John|1992-05-12|  30| 70000|        IT|       true|\n",
            "|  2| Alice|1997-02-28|  25| 90000|   Finance|      false|\n",
            "|  2| Alice|1997-02-28|  25| 60000|        HR|       true|\n",
            "|  2| Alice|1997-02-28|  25| 60000|        HR|       true|\n",
            "|  3|   Bob|      null|null| 80000|        IT|       true|\n",
            "|  3|   Bob|      null|null| 80000|        IT|       true|\n",
            "|  4| Emily|1994-11-22|  28| 65000|   Finance|       true|\n",
            "|  4| Emily|1994-11-22|  28| 65000|   Finance|       true|\n",
            "|  4| Emily|1994-11-22|  28| 70000|   Finance|      false|\n",
            "|  5| David|1981-12-18|  41| 90000|        HR|      false|\n",
            "|  6| Susan|1989-07-05|  33| 75000|   Finance|      false|\n",
            "|  7|  Mike|1976-03-15|  46| 95000|        IT|      false|\n",
            "|  8|  Lisa|1995-08-20|  27| 58000|        HR|      false|\n",
            "|  9| James|1983-10-14|  39| 87000|        IT|      false|\n",
            "| 10|Sophie|1992-06-30|  30| 62000|   Finance|      false|\n",
            "+---+------+----------+----+------+----------+-----------+\n",
            "\n"
          ]
        }
      ]
    },
    {
      "cell_type": "markdown",
      "source": [
        "# Task 2"
      ],
      "metadata": {
        "id": "18ILox7giIaq"
      }
    },
    {
      "cell_type": "markdown",
      "source": [
        "## Finding if salary greater than Mean salary of the department"
      ],
      "metadata": {
        "id": "0r40cg8yiMr8"
      }
    },
    {
      "cell_type": "code",
      "source": [
        "df = df.dropDuplicates()\n",
        "df.show()"
      ],
      "metadata": {
        "colab": {
          "base_uri": "https://localhost:8080/"
        },
        "id": "CceritbcgLAb",
        "outputId": "a23d5c96-8abc-413c-e62b-4bcef3f95498"
      },
      "execution_count": 83,
      "outputs": [
        {
          "output_type": "stream",
          "name": "stdout",
          "text": [
            "+---+------+----------+----+------+----------+-----------+\n",
            "| id|  name|       dob| age|salary|department|isDuplicate|\n",
            "+---+------+----------+----+------+----------+-----------+\n",
            "|  7|  Mike|1976-03-15|  46| 95000|        IT|      false|\n",
            "| 10|Sophie|1992-06-30|  30| 62000|   Finance|      false|\n",
            "|  2| Alice|1997-02-28|  25| 60000|        HR|       true|\n",
            "|  3|   Bob|      null|null| 80000|        IT|       true|\n",
            "|  5| David|1981-12-18|  41| 90000|        HR|      false|\n",
            "|  8|  Lisa|1995-08-20|  27| 58000|        HR|      false|\n",
            "|  2| Alice|1997-02-28|  25| 90000|   Finance|      false|\n",
            "|  9| James|1983-10-14|  39| 87000|        IT|      false|\n",
            "|  1|  John|1992-05-12|  30| 70000|        IT|       true|\n",
            "|  4| Emily|1994-11-22|  28| 65000|   Finance|       true|\n",
            "|  4| Emily|1994-11-22|  28| 70000|   Finance|      false|\n",
            "|  6| Susan|1989-07-05|  33| 75000|   Finance|      false|\n",
            "+---+------+----------+----+------+----------+-----------+\n",
            "\n"
          ]
        }
      ]
    },
    {
      "cell_type": "code",
      "source": [
        "windowSpec = Window.partitionBy(df.department)\n",
        "df = df.withColumn(\"Mean salary\", avg(\"salary\").over(windowSpec))\n",
        "df.show()"
      ],
      "metadata": {
        "colab": {
          "base_uri": "https://localhost:8080/"
        },
        "id": "o4P7ovlugYHu",
        "outputId": "672d6b28-db39-489c-f354-b524404ee36e"
      },
      "execution_count": 84,
      "outputs": [
        {
          "output_type": "stream",
          "name": "stdout",
          "text": [
            "+---+------+----------+----+------+----------+-----------+-----------------+\n",
            "| id|  name|       dob| age|salary|department|isDuplicate|      Mean salary|\n",
            "+---+------+----------+----+------+----------+-----------+-----------------+\n",
            "|  2| Alice|1997-02-28|  25| 60000|        HR|       true|69333.33333333333|\n",
            "|  5| David|1981-12-18|  41| 90000|        HR|      false|69333.33333333333|\n",
            "|  8|  Lisa|1995-08-20|  27| 58000|        HR|      false|69333.33333333333|\n",
            "| 10|Sophie|1992-06-30|  30| 62000|   Finance|      false|          72400.0|\n",
            "|  2| Alice|1997-02-28|  25| 90000|   Finance|      false|          72400.0|\n",
            "|  4| Emily|1994-11-22|  28| 65000|   Finance|       true|          72400.0|\n",
            "|  4| Emily|1994-11-22|  28| 70000|   Finance|      false|          72400.0|\n",
            "|  6| Susan|1989-07-05|  33| 75000|   Finance|      false|          72400.0|\n",
            "|  7|  Mike|1976-03-15|  46| 95000|        IT|      false|          83000.0|\n",
            "|  3|   Bob|      null|null| 80000|        IT|       true|          83000.0|\n",
            "|  9| James|1983-10-14|  39| 87000|        IT|      false|          83000.0|\n",
            "|  1|  John|1992-05-12|  30| 70000|        IT|       true|          83000.0|\n",
            "+---+------+----------+----+------+----------+-----------+-----------------+\n",
            "\n"
          ]
        }
      ]
    },
    {
      "cell_type": "code",
      "source": [
        "df = df.withColumn(\n",
        "    \"Is Salary greater than mean Salary\",\n",
        "    col(\"Mean salary\") < col(\"salary\")\n",
        ").orderBy(\"id\")\n",
        "df.show()"
      ],
      "metadata": {
        "colab": {
          "base_uri": "https://localhost:8080/"
        },
        "id": "MT88OHoBhVGq",
        "outputId": "92fc9313-e26c-4d8f-a36a-736668822731"
      },
      "execution_count": 85,
      "outputs": [
        {
          "output_type": "stream",
          "name": "stdout",
          "text": [
            "+---+------+----------+----+------+----------+-----------+-----------------+----------------------------------+\n",
            "| id|  name|       dob| age|salary|department|isDuplicate|      Mean salary|Is Salary greater than mean Salary|\n",
            "+---+------+----------+----+------+----------+-----------+-----------------+----------------------------------+\n",
            "|  1|  John|1992-05-12|  30| 70000|        IT|       true|          83000.0|                             false|\n",
            "|  2| Alice|1997-02-28|  25| 90000|   Finance|      false|          72400.0|                              true|\n",
            "|  2| Alice|1997-02-28|  25| 60000|        HR|       true|69333.33333333333|                             false|\n",
            "|  3|   Bob|      null|null| 80000|        IT|       true|          83000.0|                             false|\n",
            "|  4| Emily|1994-11-22|  28| 70000|   Finance|      false|          72400.0|                             false|\n",
            "|  4| Emily|1994-11-22|  28| 65000|   Finance|       true|          72400.0|                             false|\n",
            "|  5| David|1981-12-18|  41| 90000|        HR|      false|69333.33333333333|                              true|\n",
            "|  6| Susan|1989-07-05|  33| 75000|   Finance|      false|          72400.0|                              true|\n",
            "|  7|  Mike|1976-03-15|  46| 95000|        IT|      false|          83000.0|                              true|\n",
            "|  8|  Lisa|1995-08-20|  27| 58000|        HR|      false|69333.33333333333|                             false|\n",
            "|  9| James|1983-10-14|  39| 87000|        IT|      false|          83000.0|                              true|\n",
            "| 10|Sophie|1992-06-30|  30| 62000|   Finance|      false|          72400.0|                             false|\n",
            "+---+------+----------+----+------+----------+-----------+-----------------+----------------------------------+\n",
            "\n"
          ]
        }
      ]
    },
    {
      "cell_type": "code",
      "source": [],
      "metadata": {
        "id": "lmkxiteZjgJx"
      },
      "execution_count": 85,
      "outputs": []
    }
  ]
}