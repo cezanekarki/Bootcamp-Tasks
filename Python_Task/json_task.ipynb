{
  "nbformat": 4,
  "nbformat_minor": 0,
  "metadata": {
    "colab": {
      "provenance": []
    },
    "kernelspec": {
      "name": "python3",
      "display_name": "Python 3"
    },
    "language_info": {
      "name": "python"
    }
  },
  "cells": [
    {
      "cell_type": "markdown",
      "source": [
        "Create a string variable with the belwo value\n",
        "\n",
        "{\"name\":\"jOhn\", \"dob\":\"1990-01-01 00:00:00\",\"city\":\"Pokhara\",\"email\":\"john@email.com\",\"is_student\" false} parse the string with json.loads() Repeat the same work but this time read the data from the json file record.json that you just created. This time the dob should be datetiem object"
      ],
      "metadata": {
        "id": "WokaQTOZ38f3"
      }
    },
    {
      "cell_type": "code",
      "execution_count": 1,
      "metadata": {
        "id": "JqSW7NJKeo0q",
        "colab": {
          "base_uri": "https://localhost:8080/"
        },
        "outputId": "90f25897-9cca-4944-d4ab-0e064c50fa36"
      },
      "outputs": [
        {
          "output_type": "stream",
          "name": "stdout",
          "text": [
            "{'name': 'john', 'dob': '1990-01-01 00:00:00', 'city': 'Pokhara', 'email': 'john@email.com', 'is_student': False}\n"
          ]
        }
      ],
      "source": [
        "import json\n",
        "my_string = \"\"\"{\"name\":\"john\",\"dob\":\"1990-01-01 00:00:00\",\"city\":\"Pokhara\",\"email\":\"john@email.com\",\"is_student\":false}\"\"\"\n",
        "jm = json.loads(my_string)\n",
        "print(jm)"
      ]
    },
    {
      "cell_type": "code",
      "source": [
        "with open(\"Record.json\", \"w\") as text_file:\n",
        "    text_file.write(my_string)\n",
        "with open(\"Record.json\",\"r\") as t1:\n",
        "  t1.read()"
      ],
      "metadata": {
        "id": "rrACRHIH4MDy"
      },
      "execution_count": 2,
      "outputs": []
    },
    {
      "cell_type": "code",
      "source": [
        "with open(\"Record.json\",\"r\") as t1:\n",
        "  print(t1.read())"
      ],
      "metadata": {
        "colab": {
          "base_uri": "https://localhost:8080/"
        },
        "id": "JgvuX9N04P5I",
        "outputId": "f02c66b0-f4d6-460e-bb9c-0e8fa814ea65"
      },
      "execution_count": 4,
      "outputs": [
        {
          "output_type": "stream",
          "name": "stdout",
          "text": [
            "{\"name\":\"john\",\"dob\":\"1990-01-01 00:00:00\",\"city\":\"Pokhara\",\"email\":\"john@email.com\",\"is_student\":false}\n"
          ]
        }
      ]
    },
    {
      "cell_type": "code",
      "source": [
        "with open(\"Record.json\", \"r\") as f:\n",
        "  data=json.load(f)\n",
        "  print(data)\n",
        "  print(type(data))\n",
        "  dateTime=data['dob']"
      ],
      "metadata": {
        "colab": {
          "base_uri": "https://localhost:8080/"
        },
        "id": "stz7EvfB4iTH",
        "outputId": "c4018d38-6dfe-4e53-adb3-9e4b1d8b0b26"
      },
      "execution_count": 7,
      "outputs": [
        {
          "output_type": "stream",
          "name": "stdout",
          "text": [
            "{'name': 'john', 'dob': '1990-01-01 00:00:00', 'city': 'Pokhara', 'email': 'john@email.com', 'is_student': False}\n",
            "<class 'dict'>\n"
          ]
        }
      ]
    },
    {
      "cell_type": "code",
      "source": [
        "from datetime import datetime\n",
        "date_string =dateTime\n",
        "date_format = '%Y-%m-%d %H:%M:%S'\n",
        "parsed_datetime = datetime.strptime(date_string, date_format)\n",
        "print(parsed_datetime)\n",
        "data['dob']=parsed_datetime\n",
        "print(data)"
      ],
      "metadata": {
        "colab": {
          "base_uri": "https://localhost:8080/"
        },
        "id": "9wR-LEWg5dCP",
        "outputId": "f506ed00-6401-4540-e9d4-84008ec41c0c"
      },
      "execution_count": 8,
      "outputs": [
        {
          "output_type": "stream",
          "name": "stdout",
          "text": [
            "1990-01-01 00:00:00\n",
            "{'name': 'john', 'dob': datetime.datetime(1990, 1, 1, 0, 0), 'city': 'Pokhara', 'email': 'john@email.com', 'is_student': False}\n"
          ]
        }
      ]
    }
  ]
}