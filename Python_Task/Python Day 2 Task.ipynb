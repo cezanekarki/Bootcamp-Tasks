{
 "cells": [
  {
   "cell_type": "code",
   "execution_count": 0,
   "metadata": {
    "application/vnd.databricks.v1+cell": {
     "cellMetadata": {
      "byteLimit": 2048000,
      "rowLimit": 10000
     },
     "inputWidgets": {},
     "nuid": "4106afd1-7f8d-46e1-affb-7b9e6ac69f91",
     "showTitle": false,
     "title": ""
    }
   },
   "outputs": [
    {
     "output_type": "stream",
     "name": "stdout",
     "output_type": "stream",
     "text": [
      "{'name': 'John', 'age': '34', 'city': 'New York'}\n"
     ]
    }
   ],
   "source": [
    "# 1.\tConvert \"name:John,age:34,city:New York\" string to dictionary using python.\n",
    "string = \"name:John,age:34,city:New York\" \n",
    "details = string.split(sep = \",\")\n",
    "my_dict = {}\n",
    "for i in details:\n",
    "    key,value = i.split(\":\")\n",
    "    my_dict[key] = value\n",
    "print(my_dict)"
   ]
  },
  {
   "cell_type": "code",
   "execution_count": 0,
   "metadata": {
    "application/vnd.databricks.v1+cell": {
     "cellMetadata": {
      "byteLimit": 2048000,
      "rowLimit": 10000
     },
     "inputWidgets": {},
     "nuid": "28f585b2-c274-48f1-a867-598ce226ddaa",
     "showTitle": false,
     "title": ""
    }
   },
   "outputs": [],
   "source": [
    "# 2.\tYou have a string that represents information about various books. Each book's information is separated by a pipe (|), and within each book's data, different attributes like title, author, and year are separated by a comma. Your task is to convert this string into a dictionary where each book's title is the key, and the value is another dictionary containing the author and year of publication.\n",
    "\n",
    "# String : \"The Great Gatsby, F. Scott Fitzgerald, 1925 | To Kill a Mockingbird, Harper Lee, 1960 | 1984, George Orwell, 1949\"\n",
    "\n",
    "# Convert this string into a nested dictionary with book titles as keys and another dictionary with 'author' and 'year' as keys and their respective values.\n",
    "# Expected Output:\n",
    "\n",
    "# {\n",
    "#     \t'The Great Gatsby': {'author': 'F. Scott Fitzgerald', 'year': '1925'},\n",
    "#   \t 'To Kill a Mockingbird': {'author': 'Harper Lee', 'year': '1960'},\n",
    "#    \t '1984': {'author': 'George Orwell', 'year': '1949'}\n",
    "# }\n",
    "\n",
    "text = \"The Great Gatsby, F. Scott Fitzgerald, 1925 | To Kill a Mockingbird, Harper Lee, 1960 | 1984, George Orwell, 1949\""
   ]
  },
  {
   "cell_type": "code",
   "execution_count": 0,
   "metadata": {
    "application/vnd.databricks.v1+cell": {
     "cellMetadata": {
      "byteLimit": 2048000,
      "rowLimit": 10000
     },
     "inputWidgets": {},
     "nuid": "b469b8bd-0c4e-4394-b520-2a1b19c874d3",
     "showTitle": false,
     "title": ""
    }
   },
   "outputs": [
    {
     "output_type": "stream",
     "name": "stdout",
     "output_type": "stream",
     "text": [
      "{'The Great Gatsby': {'author': ' F. Scott Fitzgerald', 'year': ' 1925 '}, ' To Kill a Mockingbird': {'author': ' Harper Lee', 'year': ' 1960 '}, ' 1984': {'author': ' George Orwell', 'year': ' 1949'}}\n"
     ]
    }
   ],
   "source": [
    "string = text.split(sep = \"|\")\n",
    "\n",
    "books_dict ={}\n",
    "\n",
    "for i in string:\n",
    "    title,author,year = i.split(sep = \",\")\n",
    "    books_dict[title] = {\"author\":author,\"year\":year} \n",
    "print(books_dict)\n"
   ]
  },
  {
   "cell_type": "code",
   "execution_count": 0,
   "metadata": {
    "application/vnd.databricks.v1+cell": {
     "cellMetadata": {
      "byteLimit": 2048000,
      "rowLimit": 10000
     },
     "inputWidgets": {},
     "nuid": "dd1c9802-2c41-4bbf-bea9-462e5559844a",
     "showTitle": false,
     "title": ""
    }
   },
   "outputs": [
    {
     "output_type": "stream",
     "name": "stdout",
     "output_type": "stream",
     "text": [
      "{'Alice': 'A', 'Bob': 'B', 'Charlie': 'C'}\n{'Alice': 'A', 'Bob': 'B', 'Charlie': 'C'}\n"
     ]
    }
   ],
   "source": [
    "# 3.\tMerge two different lists into dictionaries:\n",
    "names = [\"Alice\", \"Bob\", \"Charlie\"]\n",
    "grades = [\"A\", \"B\", \"C\"]\n",
    "\n",
    "my_dict = {i:j for i,j in zip(names,grades)}\n",
    "\n",
    "print(my_dict)\n",
    "\n",
    "dict = dict(zip(names,grades))  \n",
    "print(dict)\n"
   ]
  },
  {
   "cell_type": "code",
   "execution_count": 0,
   "metadata": {
    "application/vnd.databricks.v1+cell": {
     "cellMetadata": {
      "byteLimit": 2048000,
      "rowLimit": 10000
     },
     "inputWidgets": {},
     "nuid": "35907675-4810-40e7-a888-9f6f69fd23b2",
     "showTitle": false,
     "title": ""
    }
   },
   "outputs": [
    {
     "output_type": "stream",
     "name": "stdout",
     "output_type": "stream",
     "text": [
      "{'apples': 2, 'oranges': 1, 'bananas': 1}\n{'apples': 8, 'oranges': 7, 'bananas': 5}\n"
     ]
    }
   ],
   "source": [
    "#4.\tYou have a dictionary of stock quantities for various items and a list of items that have been sold. Update the dictionary by reducing the stock quantity for each sold item.\n",
    "\n",
    "stock = {\"apples\": 10, \"oranges\": 8, \"bananas\": 6}\n",
    "sold_items = [\"apples\", \"oranges\", \"apples\", \"bananas\"]\n",
    "\n",
    "quantity_sold = {i : sold_items.count(i) for i in sold_items}\n",
    "print(quantity_sold)\n",
    "\n",
    "remaining_quantity = {}\n",
    "\n",
    "for k, v in stock.items():\n",
    "    remaining_quantity[k] = v - quantity_sold.get(k, 0) # returns value if k exists in d2, otherwise 0\n",
    "\n",
    "print(remaining_quantity) "
   ]
  },
  {
   "cell_type": "code",
   "execution_count": 0,
   "metadata": {
    "application/vnd.databricks.v1+cell": {
     "cellMetadata": {
      "byteLimit": 2048000,
      "rowLimit": 10000
     },
     "inputWidgets": {},
     "nuid": "0a01bcb3-928e-4a58-acf4-54ec70e3e455",
     "showTitle": false,
     "title": ""
    }
   },
   "outputs": [
    {
     "output_type": "stream",
     "name": "stdout",
     "output_type": "stream",
     "text": [
      "{'apples': 8, 'oranges': 7, 'bananas': 5}\n"
     ]
    }
   ],
   "source": [
    " #OR\n",
    "remaining = {}\n",
    "for stock,quantity,sold in zip(stock.keys(),stock.values(),quantity_sold.values()):\n",
    "    remaining[stock] = quantity - sold\n",
    "\n",
    "print(remaining)\n"
   ]
  },
  {
   "cell_type": "code",
   "execution_count": 0,
   "metadata": {
    "application/vnd.databricks.v1+cell": {
     "cellMetadata": {
      "byteLimit": 2048000,
      "rowLimit": 10000
     },
     "inputWidgets": {},
     "nuid": "7245c37c-9f2b-476e-bc9f-9f5953174004",
     "showTitle": false,
     "title": ""
    }
   },
   "outputs": [
    {
     "output_type": "stream",
     "name": "stdout",
     "output_type": "stream",
     "text": [
      "[{'name': 'Alice', 'age': 25, 'occupation': 'Engineer'}, {'name': 'Bob', 'age': 30, 'occupation': 'Doctor'}, {'name': 'Charlie', 'age': 35, 'occupation': 'Artist'}]\n"
     ]
    }
   ],
   "source": [
    "#5.\tYou have three lists, containing names, ages, and occupations of a group of people. Combine these lists into a list of dictionaries, each dictionary containing 'name', 'age', and 'occupation' as keys.\n",
    "\n",
    "names = [\"Alice\", \"Bob\", \"Charlie\"]\n",
    "ages = [25, 30, 35]\n",
    "occupations = [\"Engineer\", \"Doctor\", \"Artist\"]\n",
    "\n",
    "\n",
    "data = [{\"name\" : i,\"age\" : j,\"occupation\":k} for i,j,k in zip(names,ages,occupations)]\n",
    "    \n",
    "print(data)\n",
    "\n",
    "\n"
   ]
  },
  {
   "cell_type": "code",
   "execution_count": 0,
   "metadata": {
    "application/vnd.databricks.v1+cell": {
     "cellMetadata": {
      "byteLimit": 2048000,
      "rowLimit": 10000
     },
     "inputWidgets": {},
     "nuid": "12247345-9f06-4ce5-a299-f8779d481e04",
     "showTitle": false,
     "title": ""
    }
   },
   "outputs": [],
   "source": [
    "# 6.You have received a text message that contains various sentences, some of which are inquiries (ending with a question mark '?'). Your task is to analyze this message and perform several operations using Python string functions.\n",
    "\n",
    "# Text :  \"Hello! How are you? I hope you're enjoying your day. Have you seen my notebook? It's important. Thanks for your help!\"\n",
    "\n",
    "# Count the Questions: Determine how many sentences in the text are questions.\n",
    "# Extract Questions: Create a list containing only the sentences that are questions.\n",
    "# Remove Punctuation: Create a new version of the text with all punctuation removed.\n",
    "# Word Count: Count how many times the word 'you' appears in the text (case-insensitive).\n",
    "# Concatenate: Concatenate the first and last sentences to form a new sentence.\n",
    "text = \"Hello! How are you? I hope you're enjoying your day. Have you seen my notebook? It's important. Thanks for your help!\"\n"
   ]
  },
  {
   "cell_type": "code",
   "execution_count": 0,
   "metadata": {
    "application/vnd.databricks.v1+cell": {
     "cellMetadata": {
      "byteLimit": 2048000,
      "rowLimit": 10000
     },
     "inputWidgets": {},
     "nuid": "eacf8041-4637-4af4-ab3b-f4924386c198",
     "showTitle": false,
     "title": ""
    }
   },
   "outputs": [
    {
     "output_type": "stream",
     "name": "stdout",
     "output_type": "stream",
     "text": [
      "2\n"
     ]
    }
   ],
   "source": [
    "# Count the Questions: Determine how many sentences in the text are questions.\n",
    "no_of_questions = text.count(\"?\")\n",
    "print(no_of_questions)\n"
   ]
  },
  {
   "cell_type": "code",
   "execution_count": 0,
   "metadata": {
    "application/vnd.databricks.v1+cell": {
     "cellMetadata": {
      "byteLimit": 2048000,
      "rowLimit": 10000
     },
     "inputWidgets": {},
     "nuid": "7e6375f8-3d08-47f2-874a-0c6e61a216e5",
     "showTitle": false,
     "title": ""
    }
   },
   "outputs": [
    {
     "output_type": "stream",
     "name": "stdout",
     "output_type": "stream",
     "text": [
      "[' How are you?', ' Have you seen my notebook?']\n"
     ]
    }
   ],
   "source": [
    "import re\n",
    "question_sentence= re.findall(r'[^.!?]*\\?',text)\n",
    "print(question_sentence)"
   ]
  },
  {
   "cell_type": "code",
   "execution_count": 0,
   "metadata": {
    "application/vnd.databricks.v1+cell": {
     "cellMetadata": {
      "byteLimit": 2048000,
      "rowLimit": 10000
     },
     "inputWidgets": {},
     "nuid": "7dd874e1-ac5f-4514-97f9-96831055dd5f",
     "showTitle": false,
     "title": ""
    }
   },
   "outputs": [
    {
     "output_type": "stream",
     "name": "stdout",
     "output_type": "stream",
     "text": [
      "Hello How are you I hope youre enjoying your day Have you seen my notebook Its important Thanks for your help\n"
     ]
    }
   ],
   "source": [
    "without_punctuations = \"\"\n",
    "for char in text:\n",
    "    if char.isalnum() or char.isspace():\n",
    "        without_punctuations += char\n",
    "print(without_punctuations)"
   ]
  },
  {
   "cell_type": "code",
   "execution_count": 0,
   "metadata": {
    "application/vnd.databricks.v1+cell": {
     "cellMetadata": {
      "byteLimit": 2048000,
      "rowLimit": 10000
     },
     "inputWidgets": {},
     "nuid": "1a939605-96fd-4287-a93c-8d02c4f7a724",
     "showTitle": false,
     "title": ""
    }
   },
   "outputs": [
    {
     "output_type": "stream",
     "name": "stdout",
     "output_type": "stream",
     "text": [
      "5\n"
     ]
    }
   ],
   "source": [
    "cnt = text.count(\"you\")\n",
    "print(cnt)"
   ]
  },
  {
   "cell_type": "code",
   "execution_count": 0,
   "metadata": {
    "application/vnd.databricks.v1+cell": {
     "cellMetadata": {
      "byteLimit": 2048000,
      "rowLimit": 10000
     },
     "inputWidgets": {},
     "nuid": "5aa66cab-3929-4d43-8e43-74c8d41e062d",
     "showTitle": false,
     "title": ""
    }
   },
   "outputs": [
    {
     "output_type": "stream",
     "name": "stdout",
     "output_type": "stream",
     "text": [
      "Hello! How are you Thanks for your help!\n"
     ]
    }
   ],
   "source": [
    "print(text.split('?')[0] + text.split('.')[-1])"
   ]
  }
 ],
 "metadata": {
  "application/vnd.databricks.v1+notebook": {
   "dashboards": [],
   "language": "python",
   "notebookMetadata": {
    "pythonIndentUnit": 4
   },
   "notebookName": "Python Day 2 Task",
   "widgets": {}
  }
 },
 "nbformat": 4,
 "nbformat_minor": 0
}
