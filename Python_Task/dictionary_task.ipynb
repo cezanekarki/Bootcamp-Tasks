{
  "nbformat": 4,
  "nbformat_minor": 0,
  "metadata": {
    "colab": {
      "provenance": []
    },
    "kernelspec": {
      "name": "python3",
      "display_name": "Python 3"
    },
    "language_info": {
      "name": "python"
    }
  },
  "cells": [
    {
      "cell_type": "code",
      "execution_count": 3,
      "metadata": {
        "id": "QiFTdfnn5-j5"
      },
      "outputs": [],
      "source": [
        "data_dictionary = {\n",
        "    \"company\": {\n",
        "        \"name\": \"TechGiant\",\n",
        "        \"industry\": \"Technology\",\n",
        "        \"locations\": {\n",
        "            \"headquarters\": \"New York\",\n",
        "            \"branches\": [\"San Francisco\", \"Berlin\", \"Tokyo\"]\n",
        "        },\n",
        "        \"departments\": {\n",
        "            \"development\": {\n",
        "                \"employees\": 120,\n",
        "                \"projects\": [\"App Development\", \"Software Maintenance\"]\n",
        "            },\n",
        "            \"marketing\": {\n",
        "                \"employees\": 45,\n",
        "                \"projects\": [\"Brand Campaign\", \"Social Media\"]\n",
        "            },\n",
        "            \"sales\": {\n",
        "                \"employees\": 70,\n",
        "                \"projects\": [\"Domestic Sales\", \"International Sales\"]\n",
        "            }\n",
        "        }\n",
        "    },\n",
        "    \"market_info\": {\n",
        "        \"competitors\": [\"DataCorp\", \"InnovaCon\", \"NextGenTech\"],\n",
        "        \"market_trends\": {\n",
        "            \"current\": \"AI and Machine Learning\",\n",
        "            \"emerging\": \"Quantum Computing\"\n",
        "        }\n",
        "    }\n",
        "}\n"
      ]
    },
    {
      "cell_type": "markdown",
      "source": [
        "\n",
        "\n",
        "1.   What is the name of the company?\n",
        "2.   How many employee are in the development department?\n",
        "3.   What are the emerging maket trends according to this data?\n",
        "4.   List all the branch location of the company?\n",
        "5.   What are the projects under the marketing department?\n",
        "6.   Name a competitor of the company?\n",
        "7.   What industry is the company in?\n",
        "8.   Where is the company's headquarters located?\n",
        "\n"
      ],
      "metadata": {
        "id": "pn1YbOtu7ZrX"
      }
    },
    {
      "cell_type": "code",
      "source": [
        "\n",
        "company_name = data_dictionary[\"company\"][\"name\"]\n",
        "print(f\"1. Company Name:{company_name}\")\n",
        "development_employees = data_dictionary[\"company\"][\"departments\"][\"development\"][\"employees\"]\n",
        "print(f\"2. Development Department Employees:{development_employees}\")\n",
        "emerging_trends = data_dictionary[\"market_info\"][\"market_trends\"][\"emerging\"]\n",
        "print(f\"3. Emerging Market Trends: {emerging_trends}\")\n",
        "brand_location = data_dictionary[\"company\"][\"locations\"][\"branches\"]\n",
        "print(f\"4. Branch location of the company: {brand_location}\")\n",
        "marketing_projects = data_dictionary[\"company\"][\"departments\"][\"marketing\"][\"projects\"]\n",
        "print(f\"5. Marketing Department Projects:{marketing_projects}\")\n",
        "competitor_name = data_dictionary[\"market_info\"][\"competitors\"]\n",
        "print(f\"6. Competitor Name:{competitor_name}\")\n",
        "industry = data_dictionary[\"company\"][\"industry\"]\n",
        "print(f\"7. Industry:{industry}\")\n",
        "headquarters_location = data_dictionary[\"company\"][\"locations\"][\"headquarters\"]\n",
        "print(f\"8. Headquarters Location: {headquarters_location}\")"
      ],
      "metadata": {
        "colab": {
          "base_uri": "https://localhost:8080/"
        },
        "id": "r95v7pRV7Wpy",
        "outputId": "5b4ecfc2-6a0b-4b8c-ca9a-13b3e3cc0172"
      },
      "execution_count": 4,
      "outputs": [
        {
          "output_type": "stream",
          "name": "stdout",
          "text": [
            "1. Company Name:TechGiant\n",
            "2. Development Department Employees:120\n",
            "3. Emerging Market Trends: Quantum Computing\n",
            "4. Branch location of the company: ['San Francisco', 'Berlin', 'Tokyo']\n",
            "5. Marketing Department Projects:['Brand Campaign', 'Social Media']\n",
            "6. Competitor Name:['DataCorp', 'InnovaCon', 'NextGenTech']\n",
            "7. Industry:Technology\n",
            "8. Headquarters Location: New York\n"
          ]
        }
      ]
    }
  ]
}