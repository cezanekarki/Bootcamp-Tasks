{
 "cells": [
  {
   "cell_type": "markdown",
   "metadata": {
    "application/vnd.databricks.v1+cell": {
     "cellMetadata": {},
     "inputWidgets": {},
     "nuid": "54152849-1e48-45e0-983f-5ef8c30b0ae0",
     "showTitle": false,
     "title": ""
    }
   },
   "source": [
    "#Task 3\n",
    "Create a string variable with the below value\n",
    "\n",
    "{\"name\": \"John Doe\", \"dob\": \"1990-01-01 00:00:00\", \"city\": \"Anytown\", \"email\": \"john.doe@example.com\", \"is_student\": false}\n",
    "\n",
    "Parse the string with json.loads()\n",
    "\n",
    "Repeat the same work but this time read the data from the json file record.json that you just created. This time the dob should be datetime object after loading.\n",
    "\n",
    "Parse the content after reading the file. This gives you a dictionary. Parse the datetime using datetime.strptime(). Update the dictionary with the above datetime."
   ]
  },
  {
   "cell_type": "code",
   "execution_count": 0,
   "metadata": {
    "application/vnd.databricks.v1+cell": {
     "cellMetadata": {
      "byteLimit": 2048000,
      "rowLimit": 10000
     },
     "inputWidgets": {},
     "nuid": "6408aac2-0712-4ebb-a63c-bf6195966570",
     "showTitle": false,
     "title": ""
    }
   },
   "outputs": [
    {
     "output_type": "stream",
     "name": "stdout",
     "output_type": "stream",
     "text": [
      "{'name': 'John Doe', 'dob': '1990-01-01 00:00:00', 'city': 'Anytown', 'email': 'john.doe@example.com', 'is_student': False}\n{'name': 'John Doe', 'dob': datetime.datetime(1990, 1, 1, 0, 0), 'city': 'Anytown', 'email': 'john.doe@example.com', 'is_student': False}\n"
     ]
    }
   ],
   "source": [
    "import json\n",
    "\n",
    "string = '{\"name\": \"John Doe\", \"dob\": \"1990-01-01 00:00:00\", \"city\": \"Anytown\", \"email\": \"john.doe@example.com\", \"is_student\": false}'\n",
    "\n",
    "data= json.loads(string)\n",
    "print(data)\n",
    "\n",
    "\n",
    "from datetime import datetime\n",
    "\n",
    "with open('data.json','w') as json_file:\n",
    "    json.dump(data,json_file)\n",
    "\n",
    "with open('data.json','r') as json_file:\n",
    "    data_loaded= json.load(json_file)\n",
    "\n",
    "    data_loaded['dob']= datetime.strptime(data_loaded['dob'],'%Y-%m-%d %H:%M:%S')\n",
    "\n",
    "print(data_loaded)"
   ]
  },
  {
   "cell_type": "code",
   "execution_count": 0,
   "metadata": {
    "application/vnd.databricks.v1+cell": {
     "cellMetadata": {},
     "inputWidgets": {},
     "nuid": "69fd4e20-b223-4368-b2fa-d654b95fc491",
     "showTitle": false,
     "title": ""
    }
   },
   "outputs": [],
   "source": []
  }
 ],
 "metadata": {
  "application/vnd.databricks.v1+notebook": {
   "dashboards": [],
   "language": "python",
   "notebookMetadata": {
    "pythonIndentUnit": 4
   },
   "notebookName": "Python JSON task",
   "widgets": {}
  }
 },
 "nbformat": 4,
 "nbformat_minor": 0
}
