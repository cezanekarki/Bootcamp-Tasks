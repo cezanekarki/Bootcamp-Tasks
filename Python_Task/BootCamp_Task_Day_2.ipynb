{
  "nbformat": 4,
  "nbformat_minor": 0,
  "metadata": {
    "colab": {
      "provenance": []
    },
    "kernelspec": {
      "name": "python3",
      "display_name": "Python 3"
    },
    "language_info": {
      "name": "python"
    }
  },
  "cells": [
    {
      "cell_type": "markdown",
      "source": [
        "BootCamp Task Day 2:\n",
        "\n",
        "1.\tConvert \"name:John,age:34,city:New York\" string to dictionary using python.\n",
        "\n",
        "2.\tYou have a string that represents information about various books. Each book's information is separated by a pipe (|), and within each book's data, different attributes like title, author, and year are separated by a comma. Your task is to convert this string into a dictionary where each book's title is the key, and the value is another dictionary containing the author and year of publication.\n",
        "\n",
        "String : \"The Great Gatsby, F. Scott Fitzgerald, 1925 | To Kill a Mockingbird, Harper Lee, 1960 | 1984, George Orwell, 1949\"\n",
        "\n",
        "Convert this string into a nested dictionary with book titles as keys and another dictionary with 'author' and 'year' as keys and their respective values.\n",
        "Expected Output:\n",
        "\n",
        "{\n",
        "    \t'The Great Gatsby': {'author': 'F. Scott Fitzgerald', 'year': '1925'},\n",
        "  \t 'To Kill a Mockingbird': {'author': 'Harper Lee', 'year': '1960'},\n",
        "   \t '1984': {'author': 'George Orwell', 'year': '1949'}\n",
        "}\n",
        "3.\tMerge two different lists into dictionaries:\n",
        "names = [\"Alice\", \"Bob\", \"Charlie\"]\n",
        "grades = [\"A\", \"B\", \"C\"]\n",
        "\n",
        "4.\tYou have a dictionary of stock quantities for various items and a list of items that have been sold. Update the dictionary by reducing the stock quantity for each sold item.\n",
        "\n",
        "stock = {\"apples\": 10, \"oranges\": 8, \"bananas\": 6}\n",
        "sold_items = [\"apples\", \"oranges\", \"apples\", \"bananas\"]\n",
        "\n",
        "5.\tYou have three lists, containing names, ages, and occupations of a group of people. Combine these lists into a list of dictionaries, each dictionary containing 'name', 'age', and 'occupation' as keys.\n",
        "List:\n",
        "names = [\"Alice\", \"Bob\", \"Charlie\"]\n",
        "ages = [25, 30, 35]\n",
        "occupations = [\"Engineer\", \"Doctor\", \"Artist\"]\n",
        "\n",
        "6.\tYou have received a text message that contains various sentences, some of which are inquiries (ending with a question mark '?'). Your task is to analyze this message and perform several operations using Python string functions.\n",
        "\n",
        "Text :  \"Hello! How are you? I hope you're enjoying your day. Have you seen my notebook? It's important. Thanks for your help!\"\n",
        "\n",
        "Count the Questions: Determine how many sentences in the text are questions.\n",
        "Extract Questions: Create a list containing only the sentences that are questions.\n",
        "Remove Punctuation: Create a new version of the text with all punctuation removed.\n",
        "Word Count: Count how many times the word 'you' appears in the text (case-insensitive).\n",
        "Concatenate: Concatenate the first and last sentences to form a new sentence."
      ],
      "metadata": {
        "id": "D5NNAU1_yjuT"
      }
    },
    {
      "cell_type": "code",
      "execution_count": 1,
      "metadata": {
        "colab": {
          "base_uri": "https://localhost:8080/"
        },
        "id": "_swkh66Jye9I",
        "outputId": "55458c18-cf11-47f3-9f63-fe9d1948fbab"
      },
      "outputs": [
        {
          "output_type": "stream",
          "name": "stdout",
          "text": [
            "{'name': 'john', 'age': 34, 'city': 'New York'}\n"
          ]
        }
      ],
      "source": [
        "#Convert \"name:John,age:34,city:New York\" string to dictionary using python.\n",
        "dict1 = {\"name\": \"john\",\n",
        "         \"age\": 34,\n",
        "         \"city\": \"New York\"\n",
        "}\n",
        "print(dict1)"
      ]
    },
    {
      "cell_type": "markdown",
      "source": [
        "Question 1"
      ],
      "metadata": {
        "id": "_TPhEtLjzLqw"
      }
    },
    {
      "cell_type": "code",
      "source": [
        "my_string = \"name:John,age:34,city:New York\"\n",
        "pairs = my_string.split(',')\n",
        "dict2 = {key: str(value) for key, value in (pair.split(':') for pair in pairs)}\n",
        "print(dict2)"
      ],
      "metadata": {
        "colab": {
          "base_uri": "https://localhost:8080/"
        },
        "id": "XSDfICvZzEHY",
        "outputId": "966ab2b4-d4f6-4626-bd17-780158fe1795"
      },
      "execution_count": 2,
      "outputs": [
        {
          "output_type": "stream",
          "name": "stdout",
          "text": [
            "{'name': 'John', 'age': '34', 'city': 'New York'}\n"
          ]
        }
      ]
    },
    {
      "cell_type": "markdown",
      "source": [
        "Question 2"
      ],
      "metadata": {
        "id": "HERTrfQPzQDr"
      }
    },
    {
      "cell_type": "code",
      "source": [
        "sec_string =  \"The Great Gatsby, F. Scott Fitzgerald, 1925 | To Kill a Mockingbird, Harper Lee, 1960 | 1984, George Orwell, 1949\"\n",
        "book_detail = sec_string.split(\" | \")\n",
        "book = {}\n",
        "for pair in book_detail:\n",
        "  title, author, year = pair.split(\", \")\n",
        "\n",
        "  book[title] = {'author': author, 'year': year}\n",
        "print(book)"
      ],
      "metadata": {
        "colab": {
          "base_uri": "https://localhost:8080/"
        },
        "id": "Fb0v-JDazRh7",
        "outputId": "bbf3041e-57bd-4443-e3d8-7776473fa280"
      },
      "execution_count": 3,
      "outputs": [
        {
          "output_type": "stream",
          "name": "stdout",
          "text": [
            "{'The Great Gatsby': {'author': 'F. Scott Fitzgerald', 'year': '1925'}, 'To Kill a Mockingbird': {'author': 'Harper Lee', 'year': '1960'}, '1984': {'author': 'George Orwell', 'year': '1949'}}\n"
          ]
        }
      ]
    },
    {
      "cell_type": "markdown",
      "source": [
        "Question 3"
      ],
      "metadata": {
        "id": "MwNXBWSEzgj-"
      }
    },
    {
      "cell_type": "code",
      "source": [
        "names = [\"Alice\", \"Bob\", \"Charlie\"]\n",
        "grades = [\"A\", \"B\", \"C\"]\n",
        "name_dict = {}\n",
        "for i in range(len(names)):\n",
        "    name_dict[names[i]] = grades[i]\n",
        "print(name_dict)"
      ],
      "metadata": {
        "colab": {
          "base_uri": "https://localhost:8080/"
        },
        "id": "HYGIBdsezhif",
        "outputId": "36ddc778-d8fc-4ba4-e3c6-1e44896b6ed9"
      },
      "execution_count": 4,
      "outputs": [
        {
          "output_type": "stream",
          "name": "stdout",
          "text": [
            "{'Alice': 'A', 'Bob': 'B', 'Charlie': 'C'}\n"
          ]
        }
      ]
    },
    {
      "cell_type": "markdown",
      "source": [
        "Question 4"
      ],
      "metadata": {
        "id": "Bs3x3Z5wzkAu"
      }
    },
    {
      "cell_type": "code",
      "source": [
        "stock = {\"apples\": 10, \"oranges\": 8, \"bananas\": 6}\n",
        "sold_items = [\"apples\", \"oranges\", \"apples\", \"bananas\"]\n",
        "for item in sold_items:\n",
        "  if item in stock.keys():\n",
        "    stock[item]-=1\n",
        "    print(item)\n",
        "print(stock)"
      ],
      "metadata": {
        "colab": {
          "base_uri": "https://localhost:8080/"
        },
        "id": "uLwZQ_neziJJ",
        "outputId": "67182e97-5a2f-4370-dcc7-ac37f604b9f6"
      },
      "execution_count": 5,
      "outputs": [
        {
          "output_type": "stream",
          "name": "stdout",
          "text": [
            "apples\n",
            "oranges\n",
            "apples\n",
            "bananas\n",
            "{'apples': 8, 'oranges': 7, 'bananas': 5}\n"
          ]
        }
      ]
    },
    {
      "cell_type": "markdown",
      "source": [
        "Question 4"
      ],
      "metadata": {
        "id": "4sNWDm0EzsNq"
      }
    },
    {
      "cell_type": "code",
      "source": [
        "names = [\"Alice\", \"Bob\", \"Charlie\"]\n",
        "ages = [25, 30, 35]\n",
        "occupations = [\"Engineer\", \"Doctor\", \"Artist\"]\n",
        "dict1 = {}\n",
        "final_list = []\n",
        "for i in range(len(names)):\n",
        "  dict1={\n",
        "      \"name\": names[i],\n",
        "      \"age\": ages[i],\n",
        "      \"occupation\": occupations[i]\n",
        "  }\n",
        "  final_list.append(dict1)\n",
        "print(final_list)\n"
      ],
      "metadata": {
        "colab": {
          "base_uri": "https://localhost:8080/"
        },
        "id": "H9TFWBnezl5T",
        "outputId": "29c3603a-52da-4c10-d224-75fb75735c36"
      },
      "execution_count": 6,
      "outputs": [
        {
          "output_type": "stream",
          "name": "stdout",
          "text": [
            "[{'name': 'Alice', 'age': 25, 'occupation': 'Engineer'}, {'name': 'Bob', 'age': 30, 'occupation': 'Doctor'}, {'name': 'Charlie', 'age': 35, 'occupation': 'Artist'}]\n"
          ]
        }
      ]
    },
    {
      "cell_type": "markdown",
      "source": [
        "Question 6"
      ],
      "metadata": {
        "id": "7KGDzhYZ0AsK"
      }
    },
    {
      "cell_type": "code",
      "source": [
        "import string\n",
        "\n",
        "text =  \"Hello! How are you? I hope you're enjoying your day. Have you seen my notebook? It's important. \\\n",
        "Thanks for your help!\"\n",
        "\n",
        "sentences = []\n",
        "current_sentence = ''\n",
        "for char in text:\n",
        "    current_sentence += char\n",
        "    if char in '.!?':\n",
        "        sentences.append(current_sentence.strip())\n",
        "        current_sentence = ''\n",
        "if current_sentence:\n",
        "    sentences.append(current_sentence.strip())\n",
        "\n",
        "#print(sentences)\n",
        "questions = [sentence for sentence in sentences if sentence.endswith('?')]\n",
        "\n",
        "\n",
        "text_no_punctuation = ''.join(char for char in text if char not in string.punctuation)\n",
        "first_sentence = sentences[0].split('!')[0]\n",
        "last_sentence = sentences[-1].split('!')[0] if sentences[-1].endswith('!') else sentences[-1]\n",
        "first_and_last_sentence = first_sentence + ' ' + last_sentence\n",
        "print(f\"The list of questions are:{questions}\")\n",
        "print(sentences)\n",
        "print(f\"Total number of questions are: {len(questions)}\")\n",
        "print(\"Text without punctuation:\", text_no_punctuation)\n",
        "print(f\"The total number of you in text is:{text.count('you')}\")\n",
        "first_last_sentences = first_sentence + last_sentence\n",
        "\n",
        "print(f\"The concatinated sentences are: {first_last_sentences}\")"
      ],
      "metadata": {
        "colab": {
          "base_uri": "https://localhost:8080/"
        },
        "id": "3JHusx3pz1sT",
        "outputId": "f3552f68-d99b-4f20-eca9-bc7017d3758e"
      },
      "execution_count": 7,
      "outputs": [
        {
          "output_type": "stream",
          "name": "stdout",
          "text": [
            "The list of questions are:['How are you?', 'Have you seen my notebook?']\n",
            "['Hello!', 'How are you?', \"I hope you're enjoying your day.\", 'Have you seen my notebook?', \"It's important.\", 'Thanks for your help!']\n",
            "Total number of questions are: 2\n",
            "Text without punctuation: Hello How are you I hope youre enjoying your day Have you seen my notebook Its important Thanks for your help\n",
            "The total number of you in text is:5\n",
            "The concatinated sentences are: HelloThanks for your help\n"
          ]
        }
      ]
    }
  ]
}