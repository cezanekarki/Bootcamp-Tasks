{
 "cells": [
  {
   "cell_type": "code",
   "execution_count": 0,
   "metadata": {
    "application/vnd.databricks.v1+cell": {
     "cellMetadata": {
      "byteLimit": 2048000,
      "implicitDf": true,
      "rowLimit": 10000
     },
     "inputWidgets": {},
     "nuid": "3592e88f-e93e-4b8e-847f-2b9e04ada1d6",
     "showTitle": false,
     "title": ""
    }
   },
   "outputs": [
    {
     "output_type": "stream",
     "name": "stdout",
     "output_type": "stream",
     "text": [
      "Words :  ['hello', 'welcome', 'to', 'dct', 'hello', 'dct', 'elephant']\n"
     ]
    }
   ],
   "source": [
    "#x = input(\"Enter the String ; \")\n",
    "input = \"Hello welcome to DCT hello DCT Elephant\"\n",
    "x = input.lower() \n",
    "words = x.split()\n",
    "print(\"Words : \",words)"
   ]
  },
  {
   "cell_type": "code",
   "execution_count": 0,
   "metadata": {
    "application/vnd.databricks.v1+cell": {
     "cellMetadata": {
      "byteLimit": 2048000,
      "rowLimit": 10000
     },
     "inputWidgets": {},
     "nuid": "e7129188-eaff-418d-acfa-9503b4a7b3fc",
     "showTitle": false,
     "title": ""
    }
   },
   "outputs": [
    {
     "output_type": "stream",
     "name": "stdout",
     "output_type": "stream",
     "text": [
      "Total no. of words :  7\n"
     ]
    }
   ],
   "source": [
    "total_words = len(words)\n",
    "print(\"Total no. of words : \",total_words)"
   ]
  },
  {
   "cell_type": "code",
   "execution_count": 0,
   "metadata": {
    "application/vnd.databricks.v1+cell": {
     "cellMetadata": {
      "byteLimit": 2048000,
      "rowLimit": 10000
     },
     "inputWidgets": {},
     "nuid": "788cb21e-ef35-4283-9e1b-1e911ffc60f4",
     "showTitle": false,
     "title": ""
    }
   },
   "outputs": [
    {
     "output_type": "stream",
     "name": "stdout",
     "output_type": "stream",
     "text": [
      "Total unique words :  5\n"
     ]
    }
   ],
   "source": [
    "total_unique_words = len(set(words))\n",
    "print(\"Total unique words : \",total_unique_words)"
   ]
  },
  {
   "cell_type": "code",
   "execution_count": 0,
   "metadata": {
    "application/vnd.databricks.v1+cell": {
     "cellMetadata": {
      "byteLimit": 2048000,
      "rowLimit": 10000
     },
     "inputWidgets": {},
     "nuid": "b36aff92-56a5-4af0-8cf5-213c4c345953",
     "showTitle": false,
     "title": ""
    }
   },
   "outputs": [
    {
     "output_type": "stream",
     "name": "stdout",
     "output_type": "stream",
     "text": [
      "frequency of words :  {'hello': 2, 'welcome': 1, 'to': 1, 'dct': 2, 'elephant': 1}\n"
     ]
    }
   ],
   "source": [
    "frequency_of_words = dict()\n",
    "\n",
    "for word in words:\n",
    "    count = words.count(word)\n",
    "    # add / update the count of a character\n",
    "    frequency_of_words[word] = count\n",
    "print('frequency of words : ', frequency_of_words)\n",
    " "
   ]
  },
  {
   "cell_type": "code",
   "execution_count": 0,
   "metadata": {
    "application/vnd.databricks.v1+cell": {
     "cellMetadata": {
      "byteLimit": 2048000,
      "rowLimit": 10000
     },
     "inputWidgets": {},
     "nuid": "1cd59264-b6f5-4758-be27-819ee76c801e",
     "showTitle": false,
     "title": ""
    }
   },
   "outputs": [
    {
     "output_type": "stream",
     "name": "stdout",
     "output_type": "stream",
     "text": [
      "{'hello': 2, 'welcome': 1, 'to': 1, 'dct': 2, 'elephant': 1}\n"
     ]
    }
   ],
   "source": [
    "frequency_by_comprehension = {word:words.count(word) for word in words }\n",
    "print(frequency_by_comprehension)\n"
   ]
  },
  {
   "cell_type": "code",
   "execution_count": 0,
   "metadata": {
    "application/vnd.databricks.v1+cell": {
     "cellMetadata": {
      "byteLimit": 2048000,
      "rowLimit": 10000
     },
     "inputWidgets": {},
     "nuid": "ab5266f1-7e25-4bf6-8670-35d8b266ebe9",
     "showTitle": false,
     "title": ""
    }
   },
   "outputs": [
    {
     "output_type": "stream",
     "name": "stdout",
     "output_type": "stream",
     "text": [
      "Longest word :  elephant\n"
     ]
    }
   ],
   "source": [
    "longest = max(words,key = len)\n",
    "print(\"Longest word : \",longest)"
   ]
  },
  {
   "cell_type": "code",
   "execution_count": 0,
   "metadata": {
    "application/vnd.databricks.v1+cell": {
     "cellMetadata": {
      "byteLimit": 2048000,
      "rowLimit": 10000
     },
     "inputWidgets": {},
     "nuid": "adcc3432-db5f-49b5-8f77-0da8911803c9",
     "showTitle": false,
     "title": ""
    }
   },
   "outputs": [
    {
     "output_type": "stream",
     "name": "stdout",
     "output_type": "stream",
     "text": [
      "Words in asending order :  ['dct', 'dct', 'elephant', 'hello', 'hello', 'to', 'welcome']\n"
     ]
    }
   ],
   "source": [
    "asending_order = sorted(words)\n",
    "print(\"Words in asending order : \",asending_order)         "
   ]
  },
  {
   "cell_type": "code",
   "execution_count": 0,
   "metadata": {
    "application/vnd.databricks.v1+cell": {
     "cellMetadata": {
      "byteLimit": 2048000,
      "rowLimit": 10000
     },
     "inputWidgets": {},
     "nuid": "79adb97b-0e34-4b9f-8340-0d1004d9d970",
     "showTitle": false,
     "title": ""
    }
   },
   "outputs": [
    {
     "output_type": "stream",
     "name": "stdout",
     "output_type": "stream",
     "text": [
      "words in desending order :  ['welcome', 'to', 'hello', 'hello', 'elephant', 'dct', 'dct']\n"
     ]
    }
   ],
   "source": [
    "desencing_order = asending_order[::-1]\n",
    "print(\"words in desending order : \",desencing_order)"
   ]
  },
  {
   "cell_type": "code",
   "execution_count": 0,
   "metadata": {
    "application/vnd.databricks.v1+cell": {
     "cellMetadata": {
      "byteLimit": 2048000,
      "rowLimit": 10000
     },
     "inputWidgets": {},
     "nuid": "3085896c-11f9-4164-9b41-9c405e0cfe85",
     "showTitle": false,
     "title": ""
    }
   },
   "outputs": [
    {
     "output_type": "stream",
     "name": "stdout",
     "output_type": "stream",
     "text": [
      "reversed input string :  tnahpelE TCD olleh TCD ot emoclew olleH\n"
     ]
    }
   ],
   "source": [
    "reverse_string = input[::-1]\n",
    "print(\"reversed input string : \",reverse_string)"
   ]
  },
  {
   "cell_type": "code",
   "execution_count": 0,
   "metadata": {
    "application/vnd.databricks.v1+cell": {
     "cellMetadata": {},
     "inputWidgets": {},
     "nuid": "4c23ef8b-f512-40cf-8cef-1c35cdb71dda",
     "showTitle": false,
     "title": ""
    }
   },
   "outputs": [],
   "source": []
  }
 ],
 "metadata": {
  "application/vnd.databricks.v1+notebook": {
   "dashboards": [],
   "language": "python",
   "notebookMetadata": {
    "mostRecentlyExecutedCommandWithImplicitDF": {
     "commandId": -1,
     "dataframes": [
      "_sqldf"
     ]
    },
    "pythonIndentUnit": 4
   },
   "notebookName": "Python Day 1 Task 1",
   "widgets": {}
  }
 },
 "nbformat": 4,
 "nbformat_minor": 0
}
