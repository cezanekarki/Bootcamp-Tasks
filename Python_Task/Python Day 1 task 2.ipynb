{
 "cells": [
  {
   "cell_type": "code",
   "execution_count": 0,
   "metadata": {
    "application/vnd.databricks.v1+cell": {
     "cellMetadata": {
      "byteLimit": 2048000,
      "rowLimit": 10000
     },
     "inputWidgets": {},
     "nuid": "a86a3296-1f73-4ea6-8c39-74375f974e83",
     "showTitle": false,
     "title": ""
    }
   },
   "outputs": [],
   "source": [
    "#Here's the dictionary, please find the questions in the attached image and complete them.\n",
    " \n",
    "data_dictionary = {\n",
    "    \"company\": {\n",
    "        \"name\": \"TechGiant\",\n",
    "        \"industry\": \"Technology\",\n",
    "        \"locations\": {\n",
    "            \"headquarters\": \"New York\",\n",
    "            \"branches\": [\"San Francisco\", \"Berlin\", \"Tokyo\"]\n",
    "        },\n",
    "        \"departments\": {\n",
    "            \"development\": {\n",
    "                \"employees\": 120,\n",
    "                \"projects\": [\"App Development\", \"Software Maintenance\"]\n",
    "            },\n",
    "            \"marketing\": {\n",
    "                \"employees\": 45,\n",
    "                \"projects\": [\"Brand Campaign\", \"Social Media\"]\n",
    "            },\n",
    "            \"sales\": {\n",
    "                \"employees\": 70,\n",
    "                \"projects\": [\"Domestic Sales\", \"International Sales\"]\n",
    "            }\n",
    "        }\n",
    "    },\n",
    "    \"market_info\": {\n",
    "        \"competitors\": [\"DataCorp\", \"InnovaCon\", \"NextGenTech\"],\n",
    "        \"market_trends\": {\n",
    "            \"current\": \"AI and Machine Learning\",\n",
    "            \"emerging\": \"Quantum Computing\"\n",
    "        }\n",
    "    }\n",
    "}"
   ]
  },
  {
   "cell_type": "code",
   "execution_count": 0,
   "metadata": {
    "application/vnd.databricks.v1+cell": {
     "cellMetadata": {
      "byteLimit": 2048000,
      "rowLimit": 10000
     },
     "inputWidgets": {},
     "nuid": "07fc3965-1baf-4bd8-b494-8e340e469ebb",
     "showTitle": false,
     "title": ""
    }
   },
   "outputs": [
    {
     "output_type": "stream",
     "name": "stdout",
     "output_type": "stream",
     "text": [
      "TechGiant\n120\nQuantum Computing\n['San Francisco', 'Berlin', 'Tokyo']\n['Brand Campaign', 'Social Media']\n['DataCorp', 'InnovaCon', 'NextGenTech']\nTechnology\nNew York\n"
     ]
    }
   ],
   "source": [
    "#Name of the Company\n",
    "print(data_dictionary[\"company\"][\"name\"])\n",
    "#Employeee in the Development department\n",
    "print(data_dictionary[\"company\"][\"departments\"][\"development\"][\"employees\"])\n",
    "#emerging market trends\n",
    "print(data_dictionary[\"market_info\"][\"market_trends\"][\"emerging\"])\n",
    "#company branches locations\n",
    "print(data_dictionary[\"company\"][\"locations\"][\"branches\"])\n",
    "#projects under marketing deparment\n",
    "print(data_dictionary[\"company\"][\"departments\"][\"marketing\"][\"projects\"])\n",
    "#competitior of a company\n",
    "print(data_dictionary[\"market_info\"][\"competitors\"])\n",
    "#company industry\n",
    "print(data_dictionary[\"company\"][\"industry\"])\n",
    "#company headquater location\n",
    "print(data_dictionary[\"company\"][\"locations\"][\"headquarters\"])\n"
   ]
  }
 ],
 "metadata": {
  "application/vnd.databricks.v1+notebook": {
   "dashboards": [],
   "language": "python",
   "notebookMetadata": {
    "pythonIndentUnit": 4
   },
   "notebookName": "Python Day 1 task 2",
   "widgets": {}
  }
 },
 "nbformat": 4,
 "nbformat_minor": 0
}
