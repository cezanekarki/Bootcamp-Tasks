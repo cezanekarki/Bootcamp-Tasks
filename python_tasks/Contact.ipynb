{
 "cells": [
  {
   "cell_type": "code",
   "execution_count": 0,
   "metadata": {
    "application/vnd.databricks.v1+cell": {
     "cellMetadata": {
      "byteLimit": 2048000,
      "rowLimit": 10000
     },
     "inputWidgets": {},
     "nuid": "6a290caa-3cf2-4932-8bc0-4901ff483352",
     "showTitle": false,
     "title": ""
    }
   },
   "outputs": [
    {
     "output_type": "stream",
     "name": "stdout",
     "output_type": "stream",
     "text": [
      "\nContact Book Application\n1. Add Contact\n2. View Contacts\n3. Search Contact\n4. Delete Contact\n5. Quit\n"
     ]
    },
    {
     "output_type": "display_data",
     "data": {
      "text/plain": [
       "Enter your choice (1-5):  2"
      ]
     },
     "metadata": {},
     "output_type": "display_data"
    },
    {
     "output_type": "stream",
     "name": "stdout",
     "output_type": "stream",
     "text": [
      "No contacts available.\n\nContact Book Application\n1. Add Contact\n2. View Contacts\n3. Search Contact\n4. Delete Contact\n5. Quit\n"
     ]
    },
    {
     "output_type": "display_data",
     "data": {
      "text/plain": [
       "Enter your choice (1-5):  1"
      ]
     },
     "metadata": {},
     "output_type": "display_data"
    },
    {
     "output_type": "display_data",
     "data": {
      "text/plain": [
       "Enter name:  Nisha"
      ]
     },
     "metadata": {},
     "output_type": "display_data"
    },
    {
     "output_type": "display_data",
     "data": {
      "text/plain": [
       "Enter phone number:  98989"
      ]
     },
     "metadata": {},
     "output_type": "display_data"
    },
    {
     "output_type": "display_data",
     "data": {
      "text/plain": [
       "Enter email:  abc@gmail.com"
      ]
     },
     "metadata": {},
     "output_type": "display_data"
    },
    {
     "output_type": "stream",
     "name": "stdout",
     "output_type": "stream",
     "text": [
      "Contact Nisha added successfully!\n{'name': 'Nisha', 'phone': '98989', 'email': 'abc@gmail.com'}\n\nContact Book Application\n1. Add Contact\n2. View Contacts\n3. Search Contact\n4. Delete Contact\n5. Quit\n"
     ]
    },
    {
     "output_type": "display_data",
     "data": {
      "text/plain": [
       "Enter your choice (1-5):  2"
      ]
     },
     "metadata": {},
     "output_type": "display_data"
    },
    {
     "output_type": "stream",
     "name": "stdout",
     "output_type": "stream",
     "text": [
      "{'name': 'Nisha', 'phone': '98989', 'email': 'abc@gmail.com'}\n\nContact Book Application\n1. Add Contact\n2. View Contacts\n3. Search Contact\n4. Delete Contact\n5. Quit\n"
     ]
    },
    {
     "output_type": "display_data",
     "data": {
      "text/plain": [
       "Enter your choice (1-5):  1"
      ]
     },
     "metadata": {},
     "output_type": "display_data"
    },
    {
     "output_type": "display_data",
     "data": {
      "text/plain": [
       "Enter name:  Isha "
      ]
     },
     "metadata": {},
     "output_type": "display_data"
    },
    {
     "output_type": "display_data",
     "data": {
      "text/plain": [
       "Enter phone number:  09999000"
      ]
     },
     "metadata": {},
     "output_type": "display_data"
    },
    {
     "output_type": "display_data",
     "data": {
      "text/plain": [
       "Enter email:  nxsxnsjnkxsk"
      ]
     },
     "metadata": {},
     "output_type": "display_data"
    },
    {
     "output_type": "stream",
     "name": "stdout",
     "output_type": "stream",
     "text": [
      "Contact Isha  added successfully!\n{'name': 'Nisha', 'phone': '98989', 'email': 'abc@gmail.com'}\n{'name': 'Isha ', 'phone': '09999000', 'email': 'nxsxnsjnkxsk'}\n\nContact Book Application\n1. Add Contact\n2. View Contacts\n3. Search Contact\n4. Delete Contact\n5. Quit\n"
     ]
    },
    {
     "output_type": "display_data",
     "data": {
      "text/plain": [
       "Enter your choice (1-5):  3"
      ]
     },
     "metadata": {},
     "output_type": "display_data"
    },
    {
     "output_type": "display_data",
     "data": {
      "text/plain": [
       "Enter the name to search:  Isha"
      ]
     },
     "metadata": {},
     "output_type": "display_data"
    },
    {
     "output_type": "stream",
     "name": "stdout",
     "output_type": "stream",
     "text": [
      "No contact found with the name Isha.\n\nContact Book Application\n1. Add Contact\n2. View Contacts\n3. Search Contact\n4. Delete Contact\n5. Quit\n"
     ]
    },
    {
     "output_type": "display_data",
     "data": {
      "text/plain": [
       "Enter your choice (1-5):  Isha "
      ]
     },
     "metadata": {},
     "output_type": "display_data"
    },
    {
     "output_type": "stream",
     "name": "stdout",
     "output_type": "stream",
     "text": [
      "Invalid choice. Please enter a number between 1 and 5.\n\nContact Book Application\n1. Add Contact\n2. View Contacts\n3. Search Contact\n4. Delete Contact\n5. Quit\n"
     ]
    },
    {
     "output_type": "display_data",
     "data": {
      "text/plain": [
       "Enter your choice (1-5):  3"
      ]
     },
     "metadata": {},
     "output_type": "display_data"
    },
    {
     "output_type": "display_data",
     "data": {
      "text/plain": [
       "Enter the name to search:  Nisha"
      ]
     },
     "metadata": {},
     "output_type": "display_data"
    },
    {
     "output_type": "stream",
     "name": "stdout",
     "output_type": "stream",
     "text": [
      "Contact found:\n{'name': 'Nisha', 'phone': '98989', 'email': 'abc@gmail.com'}\n\nContact Book Application\n1. Add Contact\n2. View Contacts\n3. Search Contact\n4. Delete Contact\n5. Quit\n"
     ]
    },
    {
     "output_type": "display_data",
     "data": {
      "text/plain": [
       "Enter your choice (1-5):  "
      ]
     },
     "metadata": {},
     "output_type": "display_data"
    }
   ],
   "source": [
    "contacts = []\n",
    "\n",
    "def add_contact(*args, **kwargs):\n",
    "    contact = {}\n",
    "    for i, attribute in enumerate(args):\n",
    "        contact[[\"name\", \"phone\", \"email\"][i]] = attribute\n",
    "    contact.update(kwargs)\n",
    "    contacts.append(contact)\n",
    "    print(f\"Contact {contact['name']} added successfully!\")\n",
    "\n",
    "def view_contacts():\n",
    "    if not contacts:\n",
    "        print(\"No contacts available.\")\n",
    "    else:\n",
    "        for contact in contacts:\n",
    "            print(contact)\n",
    "\n",
    "def search_contact_by_name(name):\n",
    "    result = list(filter(lambda x: x['name'].lower() == name.lower(), contacts))\n",
    "    if result:\n",
    "        return result[0]\n",
    "    else:\n",
    "        return None\n",
    "\n",
    "def delete_contact_by_name(name):\n",
    "    contact = search_contact_by_name(name)\n",
    "    if contact:\n",
    "        contacts.remove(contact)\n",
    "        print(f\"Contact {name} deleted successfully!\")\n",
    "    else:\n",
    "        print(f\"Contact {name} not found.\")\n",
    "\n",
    "def main_menu():\n",
    "    while True:\n",
    "        print(\"\\nContact Book Application\")\n",
    "        print(\"1. Add Contact\")\n",
    "        print(\"2. View Contacts\")\n",
    "        print(\"3. Search Contact\")\n",
    "        print(\"4. Delete Contact\")\n",
    "        print(\"5. Quit\")\n",
    "\n",
    "        choice = input(\"Enter your choice (1-5): \")\n",
    "\n",
    "        if choice == \"1\":\n",
    "            name = input(\"Enter name: \")\n",
    "            phone = input(\"Enter phone number: \")\n",
    "            email = input(\"Enter email: \")\n",
    "            add_contact(name, phone, email=email)\n",
    "            view_contacts()\n",
    "        elif choice == \"2\":\n",
    "            view_contacts()\n",
    "        elif choice == \"3\":\n",
    "            search_name = input(\"Enter the name to search: \")\n",
    "            result = search_contact_by_name(search_name)\n",
    "            if result:\n",
    "                print(\"Contact found:\")\n",
    "                print(result)\n",
    "            else:\n",
    "                print(f\"No contact found with the name {search_name}.\")\n",
    "        elif choice == \"4\":\n",
    "            delete_name = input(\"Enter the name to delete: \")\n",
    "            delete_contact_by_name(delete_name)\n",
    "            view_contacts()\n",
    "        elif choice == \"5\":\n",
    "            print(\"Exiting the Contact Book Application. Goodbye!\")\n",
    "            break\n",
    "        else:\n",
    "            print(\"Invalid choice. Please enter a number between 1 and 5.\")\n",
    "\n",
    "if __name__ == \"__main__\":\n",
    "    main_menu()\n"
   ]
  },
  {
   "cell_type": "code",
   "execution_count": 0,
   "metadata": {
    "application/vnd.databricks.v1+cell": {
     "cellMetadata": {},
     "inputWidgets": {},
     "nuid": "57c94285-5f3f-4c0b-87eb-970afd3b8207",
     "showTitle": false,
     "title": ""
    }
   },
   "outputs": [],
   "source": []
  }
 ],
 "metadata": {
  "application/vnd.databricks.v1+notebook": {
   "dashboards": [],
   "language": "python",
   "notebookMetadata": {
    "pythonIndentUnit": 4
   },
   "notebookName": "Contact",
   "widgets": {}
  }
 },
 "nbformat": 4,
 "nbformat_minor": 0
}
