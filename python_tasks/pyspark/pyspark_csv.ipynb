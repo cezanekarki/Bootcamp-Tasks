{
 "cells": [
  {
   "cell_type": "code",
   "execution_count": 0,
   "metadata": {
    "application/vnd.databricks.v1+cell": {
     "cellMetadata": {
      "byteLimit": 2048000,
      "rowLimit": 10000
     },
     "inputWidgets": {},
     "nuid": "c6fa6a8d-1ab6-4f4e-9062-f95774500a11",
     "showTitle": false,
     "title": ""
    }
   },
   "outputs": [],
   "source": [
    "from pyspark.sql import SparkSession\n",
    "sc = SparkSession.builder.getOrCreate()\n"
   ]
  },
  {
   "cell_type": "code",
   "execution_count": 0,
   "metadata": {
    "application/vnd.databricks.v1+cell": {
     "cellMetadata": {
      "byteLimit": 2048000,
      "rowLimit": 10000
     },
     "inputWidgets": {},
     "nuid": "4a6d5361-af2e-4705-bd1f-0973f18d2872",
     "showTitle": false,
     "title": ""
    }
   },
   "outputs": [
    {
     "output_type": "display_data",
     "data": {
      "text/html": [
       "<style scoped>\n",
       "  .table-result-container {\n",
       "    max-height: 300px;\n",
       "    overflow: auto;\n",
       "  }\n",
       "  table, th, td {\n",
       "    border: 1px solid black;\n",
       "    border-collapse: collapse;\n",
       "  }\n",
       "  th, td {\n",
       "    padding: 5px;\n",
       "  }\n",
       "  th {\n",
       "    text-align: left;\n",
       "  }\n",
       "</style><div class='table-result-container'><table class='table-result'><thead style='background-color: white'><tr><th>path</th><th>name</th><th>size</th><th>modificationTime</th></tr></thead><tbody><tr><td>dbfs:/FileStore/tables/Detail-1.csv</td><td>Detail-1.csv</td><td>208476</td><td>1706073759000</td></tr><tr><td>dbfs:/FileStore/tables/Detail-2.csv</td><td>Detail-2.csv</td><td>208476</td><td>1706256531000</td></tr><tr><td>dbfs:/FileStore/tables/Detail.csv</td><td>Detail.csv</td><td>208476</td><td>1706073664000</td></tr><tr><td>dbfs:/FileStore/tables/Project_1-1.xlsx</td><td>Project_1-1.xlsx</td><td>422501</td><td>1706517974000</td></tr><tr><td>dbfs:/FileStore/tables/Project_1-2.xlsx</td><td>Project_1-2.xlsx</td><td>422501</td><td>1706604678000</td></tr><tr><td>dbfs:/FileStore/tables/Project_1-3.xlsx</td><td>Project_1-3.xlsx</td><td>422501</td><td>1706863787000</td></tr><tr><td>dbfs:/FileStore/tables/Project_1.xlsx</td><td>Project_1.xlsx</td><td>422501</td><td>1706504988000</td></tr><tr><td>dbfs:/FileStore/tables/Project_1__1_.xlsx</td><td>Project_1__1_.xlsx</td><td>419016</td><td>1706605058000</td></tr><tr><td>dbfs:/FileStore/tables/contactinfo.txt</td><td>contactinfo.txt</td><td>49969</td><td>1706076089000</td></tr><tr><td>dbfs:/FileStore/tables/csv/</td><td>csv/</td><td>0</td><td>0</td></tr><tr><td>dbfs:/FileStore/tables/dummy_data.sql</td><td>dummy_data.sql</td><td>2047</td><td>1706520952000</td></tr><tr><td>dbfs:/FileStore/tables/dummy_data_3.sql</td><td>dummy_data_3.sql</td><td>744</td><td>1706693703000</td></tr><tr><td>dbfs:/FileStore/tables/header.json</td><td>header.json</td><td>115560</td><td>1706076777000</td></tr><tr><td>dbfs:/FileStore/tables/json/</td><td>json/</td><td>0</td><td>0</td></tr><tr><td>dbfs:/FileStore/tables/parquet/</td><td>parquet/</td><td>0</td><td>0</td></tr><tr><td>dbfs:/FileStore/tables/project_1_file.ipynb</td><td>project_1_file.ipynb</td><td>2336377</td><td>1706604621000</td></tr><tr><td>dbfs:/FileStore/tables/pyspark_1_1.ipynb</td><td>pyspark_1_1.ipynb</td><td>14537</td><td>1707713116000</td></tr></tbody></table></div>"
      ]
     },
     "metadata": {
      "application/vnd.databricks.v1+output": {
       "addedWidgets": {},
       "aggData": [],
       "aggError": "",
       "aggOverflow": false,
       "aggSchema": [],
       "aggSeriesLimitReached": false,
       "aggType": "",
       "arguments": {},
       "columnCustomDisplayInfos": {},
       "data": [
        [
         "dbfs:/FileStore/tables/Detail-1.csv",
         "Detail-1.csv",
         208476,
         1706073759000
        ],
        [
         "dbfs:/FileStore/tables/Detail-2.csv",
         "Detail-2.csv",
         208476,
         1706256531000
        ],
        [
         "dbfs:/FileStore/tables/Detail.csv",
         "Detail.csv",
         208476,
         1706073664000
        ],
        [
         "dbfs:/FileStore/tables/Project_1-1.xlsx",
         "Project_1-1.xlsx",
         422501,
         1706517974000
        ],
        [
         "dbfs:/FileStore/tables/Project_1-2.xlsx",
         "Project_1-2.xlsx",
         422501,
         1706604678000
        ],
        [
         "dbfs:/FileStore/tables/Project_1-3.xlsx",
         "Project_1-3.xlsx",
         422501,
         1706863787000
        ],
        [
         "dbfs:/FileStore/tables/Project_1.xlsx",
         "Project_1.xlsx",
         422501,
         1706504988000
        ],
        [
         "dbfs:/FileStore/tables/Project_1__1_.xlsx",
         "Project_1__1_.xlsx",
         419016,
         1706605058000
        ],
        [
         "dbfs:/FileStore/tables/contactinfo.txt",
         "contactinfo.txt",
         49969,
         1706076089000
        ],
        [
         "dbfs:/FileStore/tables/csv/",
         "csv/",
         0,
         0
        ],
        [
         "dbfs:/FileStore/tables/dummy_data.sql",
         "dummy_data.sql",
         2047,
         1706520952000
        ],
        [
         "dbfs:/FileStore/tables/dummy_data_3.sql",
         "dummy_data_3.sql",
         744,
         1706693703000
        ],
        [
         "dbfs:/FileStore/tables/header.json",
         "header.json",
         115560,
         1706076777000
        ],
        [
         "dbfs:/FileStore/tables/json/",
         "json/",
         0,
         0
        ],
        [
         "dbfs:/FileStore/tables/parquet/",
         "parquet/",
         0,
         0
        ],
        [
         "dbfs:/FileStore/tables/project_1_file.ipynb",
         "project_1_file.ipynb",
         2336377,
         1706604621000
        ],
        [
         "dbfs:/FileStore/tables/pyspark_1_1.ipynb",
         "pyspark_1_1.ipynb",
         14537,
         1707713116000
        ]
       ],
       "datasetInfos": [],
       "dbfsResultPath": null,
       "isJsonSchema": true,
       "metadata": {
        "isDbfsCommandResult": false
       },
       "overflow": false,
       "plotOptions": {
        "customPlotOptions": {},
        "displayType": "table",
        "pivotAggregation": null,
        "pivotColumns": null,
        "xColumns": null,
        "yColumns": null
       },
       "removedWidgets": [],
       "schema": [
        {
         "metadata": "{}",
         "name": "path",
         "type": "\"string\""
        },
        {
         "metadata": "{}",
         "name": "name",
         "type": "\"string\""
        },
        {
         "metadata": "{}",
         "name": "size",
         "type": "\"long\""
        },
        {
         "metadata": "{}",
         "name": "modificationTime",
         "type": "\"long\""
        }
       ],
       "type": "table"
      }
     },
     "output_type": "display_data"
    }
   ],
   "source": [
    "%fs ls dbfs:///FileStore/tables\n"
   ]
  },
  {
   "cell_type": "code",
   "execution_count": 0,
   "metadata": {
    "application/vnd.databricks.v1+cell": {
     "cellMetadata": {
      "byteLimit": 2048000,
      "rowLimit": 10000
     },
     "inputWidgets": {},
     "nuid": "e108839c-d17c-4f6a-86c1-0689cb15f1d5",
     "showTitle": false,
     "title": ""
    }
   },
   "outputs": [],
   "source": [
    "df_csv = spark.read.format(\"csv\").load(\"dbfs:///FileStore/tables/csv/batch.csv\")"
   ]
  },
  {
   "cell_type": "code",
   "execution_count": 0,
   "metadata": {
    "application/vnd.databricks.v1+cell": {
     "cellMetadata": {
      "byteLimit": 2048000,
      "rowLimit": 10000
     },
     "inputWidgets": {},
     "nuid": "7ec6065f-41fc-4867-a232-1e0a6d4f0d13",
     "showTitle": false,
     "title": ""
    }
   },
   "outputs": [],
   "source": [
    "df_csv = spark.read.format(\"csv\").option(\"header\",True).load(\"dbfs:///FileStore/tables/csv/batch.csv\")"
   ]
  },
  {
   "cell_type": "code",
   "execution_count": 0,
   "metadata": {
    "application/vnd.databricks.v1+cell": {
     "cellMetadata": {
      "byteLimit": 2048000,
      "rowLimit": 10000
     },
     "inputWidgets": {},
     "nuid": "333af3f5-759c-46b8-b7fd-19080bbf2380",
     "showTitle": false,
     "title": ""
    }
   },
   "outputs": [
    {
     "output_type": "stream",
     "name": "stdout",
     "output_type": "stream",
     "text": [
      "Out[294]: pyspark.sql.dataframe.DataFrame"
     ]
    }
   ],
   "source": [
    "type(df_csv)"
   ]
  },
  {
   "cell_type": "code",
   "execution_count": 0,
   "metadata": {
    "application/vnd.databricks.v1+cell": {
     "cellMetadata": {
      "byteLimit": 2048000,
      "rowLimit": 10000
     },
     "inputWidgets": {},
     "nuid": "d44b0ba7-11ab-499a-87dd-191622fd41f3",
     "showTitle": false,
     "title": ""
    }
   },
   "outputs": [
    {
     "output_type": "stream",
     "name": "stdout",
     "output_type": "stream",
     "text": [
      "+---+-----+----------+----+------+----------+\n| id| name|       dob| age|salary|department|\n+---+-----+----------+----+------+----------+\n|  1| John|1992-05-12|  30| 70000|        IT|\n|  2|Alice|1997-02-28|  25| 60000|        HR|\n|  3|  Bob|      null|null| 80000|        IT|\n|  4|Emily|1994-11-22|  28| 65000|   Finance|\n+---+-----+----------+----+------+----------+\n\n"
     ]
    }
   ],
   "source": [
    "df_csv.show()"
   ]
  },
  {
   "cell_type": "code",
   "execution_count": 0,
   "metadata": {
    "application/vnd.databricks.v1+cell": {
     "cellMetadata": {
      "byteLimit": 2048000,
      "rowLimit": 10000
     },
     "inputWidgets": {},
     "nuid": "2fa2a004-03e8-4948-8eb9-8a256537fb4a",
     "showTitle": false,
     "title": ""
    }
   },
   "outputs": [
    {
     "output_type": "stream",
     "name": "stdout",
     "output_type": "stream",
     "text": [
      "root\n |-- id: string (nullable = true)\n |-- name: string (nullable = true)\n |-- dob: string (nullable = true)\n |-- age: string (nullable = true)\n |-- salary: string (nullable = true)\n |-- department: string (nullable = true)\n\n"
     ]
    }
   ],
   "source": [
    "df_csv.printSchema()"
   ]
  },
  {
   "cell_type": "code",
   "execution_count": 0,
   "metadata": {
    "application/vnd.databricks.v1+cell": {
     "cellMetadata": {
      "byteLimit": 2048000,
      "rowLimit": 10000
     },
     "inputWidgets": {},
     "nuid": "8a7707a1-ff46-4ee3-9852-31ffde655cd1",
     "showTitle": false,
     "title": ""
    }
   },
   "outputs": [],
   "source": [
    "from pyspark.sql.types import StructType, StructField, IntegerType, StringType, DateType"
   ]
  },
  {
   "cell_type": "code",
   "execution_count": 0,
   "metadata": {
    "application/vnd.databricks.v1+cell": {
     "cellMetadata": {
      "byteLimit": 2048000,
      "rowLimit": 10000
     },
     "inputWidgets": {},
     "nuid": "507fde94-9a0c-4ea9-bd14-cbec33a5588e",
     "showTitle": false,
     "title": ""
    }
   },
   "outputs": [],
   "source": [
    "schema = StructType([\n",
    "    StructField(\"id\", IntegerType()),\n",
    "    StructField(\"name\", StringType()),\n",
    "    StructField(\"dob\", DateType()),\n",
    "    StructField(\"age\",IntegerType()),\n",
    "    StructField(\"salary\", IntegerType()),\n",
    "    StructField(\"department\", StringType()),\n",
    "])"
   ]
  },
  {
   "cell_type": "code",
   "execution_count": 0,
   "metadata": {
    "application/vnd.databricks.v1+cell": {
     "cellMetadata": {
      "byteLimit": 2048000,
      "rowLimit": 10000
     },
     "inputWidgets": {},
     "nuid": "69479f2e-98d0-487c-ab45-14af09c0a908",
     "showTitle": false,
     "title": ""
    }
   },
   "outputs": [],
   "source": [
    "df_csv=spark.read.format(\"csv\").schema(schema).option(\"header\",True).load(\"dbfs:/FileStore/tables/csv/batch.csv\")"
   ]
  },
  {
   "cell_type": "code",
   "execution_count": 0,
   "metadata": {
    "application/vnd.databricks.v1+cell": {
     "cellMetadata": {
      "byteLimit": 2048000,
      "rowLimit": 10000
     },
     "inputWidgets": {},
     "nuid": "40c09664-00d5-4ea5-bdbc-463a9ae426ac",
     "showTitle": false,
     "title": ""
    }
   },
   "outputs": [
    {
     "output_type": "stream",
     "name": "stdout",
     "output_type": "stream",
     "text": [
      "root\n |-- id: integer (nullable = true)\n |-- name: string (nullable = true)\n |-- dob: date (nullable = true)\n |-- age: integer (nullable = true)\n |-- salary: integer (nullable = true)\n |-- department: string (nullable = true)\n\n"
     ]
    }
   ],
   "source": [
    "df_csv.printSchema()"
   ]
  },
  {
   "cell_type": "code",
   "execution_count": 0,
   "metadata": {
    "application/vnd.databricks.v1+cell": {
     "cellMetadata": {
      "byteLimit": 2048000,
      "rowLimit": 10000
     },
     "inputWidgets": {},
     "nuid": "047032d0-f876-43d4-af96-7f1f62054897",
     "showTitle": false,
     "title": ""
    }
   },
   "outputs": [],
   "source": [
    "df_json = spark.read.format(\"json\").load(\"dbfs:/FileStore/tables/json\")"
   ]
  },
  {
   "cell_type": "code",
   "execution_count": 0,
   "metadata": {
    "application/vnd.databricks.v1+cell": {
     "cellMetadata": {
      "byteLimit": 2048000,
      "rowLimit": 10000
     },
     "inputWidgets": {},
     "nuid": "10f32b1b-9d01-4bb1-986b-4d0b67f95bb5",
     "showTitle": false,
     "title": ""
    }
   },
   "outputs": [
    {
     "output_type": "stream",
     "name": "stdout",
     "output_type": "stream",
     "text": [
      "+----+----------+----------+---+------+------+\n| age|department|       dob| id|  name|salary|\n+----+----------+----------+---+------+------+\n|  30|        IT|1992-05-12|  1|  John| 70000|\n|  25|        HR|1997-02-28|  2| Alice| 60000|\n|null|        IT|      null|  3|   Bob| 80000|\n|  28|   Finance|1994-11-22|  4| Emily| 65000|\n|  41|        HR|1981-12-18|  5| David| 90000|\n|  33|   Finance|1989-07-05|  6| Susan| 75000|\n|  46|        IT|1976-03-15|  7|  Mike| 95000|\n|  30|        IT|1992-05-12|  1|  John| 70000|\n|  25|        HR|1997-02-28|  2| Alice| 60000|\n|null|        IT|      null|  3|   Bob| 80000|\n|  28|   Finance|1994-11-22|  4| Emily| 65000|\n|  41|        HR|1981-12-18|  5| David| 90000|\n|  33|   Finance|1989-07-05|  6| Susan| 75000|\n|  46|        IT|1976-03-15|  7|  Mike| 95000|\n|  30|   Finance|1992-06-30| 10|Sophie| 62000|\n|  30|   Finance|1992-06-30| 10|Sophie| 62000|\n|  25|   Finance|1997-02-28|  2| Alice| 90000|\n|  25|   Finance|1997-02-28|  2| Alice| 90000|\n|  28|   Finance|1994-11-22|  4| Emily| 70000|\n|  28|   Finance|1994-11-22|  4| Emily| 70000|\n+----+----------+----------+---+------+------+\nonly showing top 20 rows\n\n"
     ]
    }
   ],
   "source": [
    "df_json.show()"
   ]
  },
  {
   "cell_type": "code",
   "execution_count": 0,
   "metadata": {
    "application/vnd.databricks.v1+cell": {
     "cellMetadata": {
      "byteLimit": 2048000,
      "rowLimit": 10000
     },
     "inputWidgets": {},
     "nuid": "83fba58d-adcf-4e9b-9133-d9bb3e123fe6",
     "showTitle": false,
     "title": ""
    }
   },
   "outputs": [
    {
     "output_type": "stream",
     "name": "stdout",
     "output_type": "stream",
     "text": [
      "root\n |-- age: long (nullable = true)\n |-- department: string (nullable = true)\n |-- dob: string (nullable = true)\n |-- id: long (nullable = true)\n |-- name: string (nullable = true)\n |-- salary: long (nullable = true)\n\n"
     ]
    }
   ],
   "source": [
    "df_json.printSchema() "
   ]
  },
  {
   "cell_type": "code",
   "execution_count": 0,
   "metadata": {
    "application/vnd.databricks.v1+cell": {
     "cellMetadata": {
      "byteLimit": 2048000,
      "rowLimit": 10000
     },
     "inputWidgets": {},
     "nuid": "273214d6-94dc-4dab-b585-87ee98f48b5f",
     "showTitle": false,
     "title": ""
    }
   },
   "outputs": [
    {
     "output_type": "stream",
     "name": "stdout",
     "output_type": "stream",
     "text": [
      "root\n |-- id: integer (nullable = true)\n |-- name: string (nullable = true)\n |-- dob: date (nullable = true)\n |-- age: integer (nullable = true)\n |-- salary: integer (nullable = true)\n |-- department: string (nullable = true)\n\n"
     ]
    }
   ],
   "source": [
    "#Union \n",
    "df_csv.printSchema()"
   ]
  },
  {
   "cell_type": "code",
   "execution_count": 0,
   "metadata": {
    "application/vnd.databricks.v1+cell": {
     "cellMetadata": {
      "byteLimit": 2048000,
      "rowLimit": 10000
     },
     "inputWidgets": {},
     "nuid": "c69a73d0-6113-4f8c-a2a1-4949825908b5",
     "showTitle": false,
     "title": ""
    }
   },
   "outputs": [
    {
     "output_type": "stream",
     "name": "stdout",
     "output_type": "stream",
     "text": [
      "root\n |-- id: integer (nullable = true)\n |-- name: string (nullable = true)\n |-- dob: date (nullable = true)\n |-- age: integer (nullable = true)\n |-- salary: integer (nullable = true)\n |-- department: string (nullable = true)\n\n"
     ]
    }
   ],
   "source": [
    "df_csv.printSchema()"
   ]
  },
  {
   "cell_type": "code",
   "execution_count": 0,
   "metadata": {
    "application/vnd.databricks.v1+cell": {
     "cellMetadata": {
      "byteLimit": 2048000,
      "rowLimit": 10000
     },
     "inputWidgets": {},
     "nuid": "ae7ffc25-8303-4af1-8143-3c41a2bbdfaa",
     "showTitle": false,
     "title": ""
    }
   },
   "outputs": [
    {
     "output_type": "stream",
     "name": "stdout",
     "output_type": "stream",
     "text": [
      "['id', 'name', 'dob', 'age', 'salary', 'department'] ['age', 'department', 'dob', 'id', 'name', 'salary']\n"
     ]
    }
   ],
   "source": [
    "print(df_csv.columns,df_json.columns)"
   ]
  },
  {
   "cell_type": "code",
   "execution_count": 0,
   "metadata": {
    "application/vnd.databricks.v1+cell": {
     "cellMetadata": {
      "byteLimit": 2048000,
      "rowLimit": 10000
     },
     "inputWidgets": {},
     "nuid": "8a40aa5b-bc49-4828-8038-023ad97e9ca0",
     "showTitle": false,
     "title": ""
    }
   },
   "outputs": [],
   "source": [
    "# df.show()"
   ]
  },
  {
   "cell_type": "code",
   "execution_count": 0,
   "metadata": {
    "application/vnd.databricks.v1+cell": {
     "cellMetadata": {
      "byteLimit": 2048000,
      "rowLimit": 10000
     },
     "inputWidgets": {},
     "nuid": "23cf6f5d-3726-493d-94da-cf87d4748f98",
     "showTitle": false,
     "title": ""
    }
   },
   "outputs": [],
   "source": [
    "df_json=df_json.select(df_csv.columns)"
   ]
  },
  {
   "cell_type": "code",
   "execution_count": 0,
   "metadata": {
    "application/vnd.databricks.v1+cell": {
     "cellMetadata": {
      "byteLimit": 2048000,
      "rowLimit": 10000
     },
     "inputWidgets": {},
     "nuid": "36085a7e-d145-4799-9108-b5938eb3c8d3",
     "showTitle": false,
     "title": ""
    }
   },
   "outputs": [],
   "source": [
    "df_json=df_json.select(df_csv.columns)"
   ]
  },
  {
   "cell_type": "code",
   "execution_count": 0,
   "metadata": {
    "application/vnd.databricks.v1+cell": {
     "cellMetadata": {
      "byteLimit": 2048000,
      "rowLimit": 10000
     },
     "inputWidgets": {},
     "nuid": "9a29dfc8-bae4-4433-a33e-df8928a9d3fb",
     "showTitle": false,
     "title": ""
    }
   },
   "outputs": [],
   "source": [
    "df_json=spark.read.format(\"json\").schema(schema).load(\"dbfs:/FileStore/tables/json\").orderBy(\"id\")"
   ]
  },
  {
   "cell_type": "code",
   "execution_count": 0,
   "metadata": {
    "application/vnd.databricks.v1+cell": {
     "cellMetadata": {
      "byteLimit": 2048000,
      "rowLimit": 10000
     },
     "inputWidgets": {},
     "nuid": "bf24c766-0107-477e-a732-ea5e2f7a9c3f",
     "showTitle": false,
     "title": ""
    }
   },
   "outputs": [
    {
     "output_type": "stream",
     "name": "stdout",
     "output_type": "stream",
     "text": [
      "root\n |-- id: integer (nullable = true)\n |-- name: string (nullable = true)\n |-- dob: date (nullable = true)\n |-- age: integer (nullable = true)\n |-- salary: integer (nullable = true)\n |-- department: string (nullable = true)\n\n"
     ]
    }
   ],
   "source": [
    "df_json.printSchema()"
   ]
  },
  {
   "cell_type": "code",
   "execution_count": 0,
   "metadata": {
    "application/vnd.databricks.v1+cell": {
     "cellMetadata": {
      "byteLimit": 2048000,
      "rowLimit": 10000
     },
     "inputWidgets": {},
     "nuid": "9db4e82c-6540-4f39-99e9-7b6ba62243a7",
     "showTitle": false,
     "title": ""
    }
   },
   "outputs": [],
   "source": [
    "df=df_json.union(df_csv)"
   ]
  },
  {
   "cell_type": "code",
   "execution_count": 0,
   "metadata": {
    "application/vnd.databricks.v1+cell": {
     "cellMetadata": {
      "byteLimit": 2048000,
      "rowLimit": 10000
     },
     "inputWidgets": {},
     "nuid": "9e2faea6-cf69-4120-8c81-ac2cdbdee6b0",
     "showTitle": false,
     "title": ""
    }
   },
   "outputs": [
    {
     "output_type": "stream",
     "name": "stdout",
     "output_type": "stream",
     "text": [
      "+---+-----+----------+----+------+----------+\n| id| name|       dob| age|salary|department|\n+---+-----+----------+----+------+----------+\n|  1| John|1992-05-12|  30| 70000|        IT|\n|  1| John|1992-05-12|  30| 70000|        IT|\n|  1| John|1992-05-12|  30| 70000|        IT|\n|  1| John|1992-05-12|  30| 70000|        IT|\n|  2|Alice|1997-02-28|  25| 60000|        HR|\n|  2|Alice|1997-02-28|  25| 60000|        HR|\n|  2|Alice|1997-02-28|  25| 90000|   Finance|\n|  2|Alice|1997-02-28|  25| 90000|   Finance|\n|  3|  Bob|      null|null| 80000|        IT|\n|  3|  Bob|      null|null| 80000|        IT|\n|  4|Emily|1994-11-22|  28| 65000|   Finance|\n|  4|Emily|1994-11-22|  28| 65000|   Finance|\n|  4|Emily|1994-11-22|  28| 70000|   Finance|\n|  4|Emily|1994-11-22|  28| 70000|   Finance|\n|  5|David|1981-12-18|  41| 90000|        HR|\n|  5|David|1981-12-18|  41| 90000|        HR|\n|  6|Susan|1989-07-05|  33| 75000|   Finance|\n|  6|Susan|1989-07-05|  33| 75000|   Finance|\n|  7| Mike|1976-03-15|  46| 95000|        IT|\n|  7| Mike|1976-03-15|  46| 95000|        IT|\n+---+-----+----------+----+------+----------+\nonly showing top 20 rows\n\n"
     ]
    }
   ],
   "source": [
    "df.show()"
   ]
  },
  {
   "cell_type": "code",
   "execution_count": 0,
   "metadata": {
    "application/vnd.databricks.v1+cell": {
     "cellMetadata": {
      "byteLimit": 2048000,
      "rowLimit": 10000
     },
     "inputWidgets": {},
     "nuid": "b8a03c19-878d-47f6-8972-e1bca4471e6c",
     "showTitle": false,
     "title": ""
    }
   },
   "outputs": [
    {
     "output_type": "display_data",
     "data": {
      "text/html": [
       "<style scoped>\n",
       "  .table-result-container {\n",
       "    max-height: 300px;\n",
       "    overflow: auto;\n",
       "  }\n",
       "  table, th, td {\n",
       "    border: 1px solid black;\n",
       "    border-collapse: collapse;\n",
       "  }\n",
       "  th, td {\n",
       "    padding: 5px;\n",
       "  }\n",
       "  th {\n",
       "    text-align: left;\n",
       "  }\n",
       "</style><div class='table-result-container'><table class='table-result'><thead style='background-color: white'><tr><th>id</th><th>name</th><th>dob</th><th>age</th><th>salary</th><th>department</th></tr></thead><tbody><tr><td>1</td><td>John</td><td>1992-05-12</td><td>30</td><td>70000</td><td>IT</td></tr><tr><td>1</td><td>John</td><td>1992-05-12</td><td>30</td><td>70000</td><td>IT</td></tr><tr><td>1</td><td>John</td><td>1992-05-12</td><td>30</td><td>70000</td><td>IT</td></tr><tr><td>1</td><td>John</td><td>1992-05-12</td><td>30</td><td>70000</td><td>IT</td></tr><tr><td>2</td><td>Alice</td><td>1997-02-28</td><td>25</td><td>60000</td><td>HR</td></tr><tr><td>2</td><td>Alice</td><td>1997-02-28</td><td>25</td><td>60000</td><td>HR</td></tr><tr><td>2</td><td>Alice</td><td>1997-02-28</td><td>25</td><td>90000</td><td>Finance</td></tr><tr><td>2</td><td>Alice</td><td>1997-02-28</td><td>25</td><td>90000</td><td>Finance</td></tr><tr><td>3</td><td>Bob</td><td>null</td><td>null</td><td>80000</td><td>IT</td></tr><tr><td>3</td><td>Bob</td><td>null</td><td>null</td><td>80000</td><td>IT</td></tr><tr><td>4</td><td>Emily</td><td>1994-11-22</td><td>28</td><td>65000</td><td>Finance</td></tr><tr><td>4</td><td>Emily</td><td>1994-11-22</td><td>28</td><td>65000</td><td>Finance</td></tr><tr><td>4</td><td>Emily</td><td>1994-11-22</td><td>28</td><td>70000</td><td>Finance</td></tr><tr><td>4</td><td>Emily</td><td>1994-11-22</td><td>28</td><td>70000</td><td>Finance</td></tr><tr><td>5</td><td>David</td><td>1981-12-18</td><td>41</td><td>90000</td><td>HR</td></tr><tr><td>5</td><td>David</td><td>1981-12-18</td><td>41</td><td>90000</td><td>HR</td></tr><tr><td>6</td><td>Susan</td><td>1989-07-05</td><td>33</td><td>75000</td><td>Finance</td></tr><tr><td>6</td><td>Susan</td><td>1989-07-05</td><td>33</td><td>75000</td><td>Finance</td></tr><tr><td>7</td><td>Mike</td><td>1976-03-15</td><td>46</td><td>95000</td><td>IT</td></tr><tr><td>7</td><td>Mike</td><td>1976-03-15</td><td>46</td><td>95000</td><td>IT</td></tr><tr><td>8</td><td>Lisa</td><td>1995-08-20</td><td>27</td><td>58000</td><td>HR</td></tr><tr><td>8</td><td>Lisa</td><td>1995-08-20</td><td>27</td><td>58000</td><td>HR</td></tr><tr><td>9</td><td>James</td><td>1983-10-14</td><td>39</td><td>87000</td><td>IT</td></tr><tr><td>9</td><td>James</td><td>1983-10-14</td><td>39</td><td>87000</td><td>IT</td></tr><tr><td>10</td><td>Sophie</td><td>1992-06-30</td><td>30</td><td>62000</td><td>Finance</td></tr><tr><td>10</td><td>Sophie</td><td>1992-06-30</td><td>30</td><td>62000</td><td>Finance</td></tr><tr><td>1</td><td>John</td><td>1992-05-12</td><td>30</td><td>70000</td><td>IT</td></tr><tr><td>2</td><td>Alice</td><td>1997-02-28</td><td>25</td><td>60000</td><td>HR</td></tr><tr><td>3</td><td>Bob</td><td>null</td><td>null</td><td>80000</td><td>IT</td></tr><tr><td>4</td><td>Emily</td><td>1994-11-22</td><td>28</td><td>65000</td><td>Finance</td></tr></tbody></table></div>"
      ]
     },
     "metadata": {
      "application/vnd.databricks.v1+output": {
       "addedWidgets": {},
       "aggData": [],
       "aggError": "",
       "aggOverflow": false,
       "aggSchema": [],
       "aggSeriesLimitReached": false,
       "aggType": "",
       "arguments": {},
       "columnCustomDisplayInfos": {},
       "data": [
        [
         1,
         "John",
         "1992-05-12",
         30,
         70000,
         "IT"
        ],
        [
         1,
         "John",
         "1992-05-12",
         30,
         70000,
         "IT"
        ],
        [
         1,
         "John",
         "1992-05-12",
         30,
         70000,
         "IT"
        ],
        [
         1,
         "John",
         "1992-05-12",
         30,
         70000,
         "IT"
        ],
        [
         2,
         "Alice",
         "1997-02-28",
         25,
         60000,
         "HR"
        ],
        [
         2,
         "Alice",
         "1997-02-28",
         25,
         60000,
         "HR"
        ],
        [
         2,
         "Alice",
         "1997-02-28",
         25,
         90000,
         "Finance"
        ],
        [
         2,
         "Alice",
         "1997-02-28",
         25,
         90000,
         "Finance"
        ],
        [
         3,
         "Bob",
         null,
         null,
         80000,
         "IT"
        ],
        [
         3,
         "Bob",
         null,
         null,
         80000,
         "IT"
        ],
        [
         4,
         "Emily",
         "1994-11-22",
         28,
         65000,
         "Finance"
        ],
        [
         4,
         "Emily",
         "1994-11-22",
         28,
         65000,
         "Finance"
        ],
        [
         4,
         "Emily",
         "1994-11-22",
         28,
         70000,
         "Finance"
        ],
        [
         4,
         "Emily",
         "1994-11-22",
         28,
         70000,
         "Finance"
        ],
        [
         5,
         "David",
         "1981-12-18",
         41,
         90000,
         "HR"
        ],
        [
         5,
         "David",
         "1981-12-18",
         41,
         90000,
         "HR"
        ],
        [
         6,
         "Susan",
         "1989-07-05",
         33,
         75000,
         "Finance"
        ],
        [
         6,
         "Susan",
         "1989-07-05",
         33,
         75000,
         "Finance"
        ],
        [
         7,
         "Mike",
         "1976-03-15",
         46,
         95000,
         "IT"
        ],
        [
         7,
         "Mike",
         "1976-03-15",
         46,
         95000,
         "IT"
        ],
        [
         8,
         "Lisa",
         "1995-08-20",
         27,
         58000,
         "HR"
        ],
        [
         8,
         "Lisa",
         "1995-08-20",
         27,
         58000,
         "HR"
        ],
        [
         9,
         "James",
         "1983-10-14",
         39,
         87000,
         "IT"
        ],
        [
         9,
         "James",
         "1983-10-14",
         39,
         87000,
         "IT"
        ],
        [
         10,
         "Sophie",
         "1992-06-30",
         30,
         62000,
         "Finance"
        ],
        [
         10,
         "Sophie",
         "1992-06-30",
         30,
         62000,
         "Finance"
        ],
        [
         1,
         "John",
         "1992-05-12",
         30,
         70000,
         "IT"
        ],
        [
         2,
         "Alice",
         "1997-02-28",
         25,
         60000,
         "HR"
        ],
        [
         3,
         "Bob",
         null,
         null,
         80000,
         "IT"
        ],
        [
         4,
         "Emily",
         "1994-11-22",
         28,
         65000,
         "Finance"
        ]
       ],
       "datasetInfos": [],
       "dbfsResultPath": null,
       "isJsonSchema": true,
       "metadata": {},
       "overflow": false,
       "plotOptions": {
        "customPlotOptions": {},
        "displayType": "table",
        "pivotAggregation": null,
        "pivotColumns": null,
        "xColumns": null,
        "yColumns": null
       },
       "removedWidgets": [],
       "schema": [
        {
         "metadata": "{}",
         "name": "id",
         "type": "\"integer\""
        },
        {
         "metadata": "{}",
         "name": "name",
         "type": "\"string\""
        },
        {
         "metadata": "{}",
         "name": "dob",
         "type": "\"date\""
        },
        {
         "metadata": "{}",
         "name": "age",
         "type": "\"integer\""
        },
        {
         "metadata": "{}",
         "name": "salary",
         "type": "\"integer\""
        },
        {
         "metadata": "{}",
         "name": "department",
         "type": "\"string\""
        }
       ],
       "type": "table"
      }
     },
     "output_type": "display_data"
    }
   ],
   "source": [
    "df.display()"
   ]
  },
  {
   "cell_type": "code",
   "execution_count": 0,
   "metadata": {
    "application/vnd.databricks.v1+cell": {
     "cellMetadata": {
      "byteLimit": 2048000,
      "rowLimit": 10000
     },
     "inputWidgets": {},
     "nuid": "e9eef5d5-02b3-40a2-a14d-8e08e94b6acf",
     "showTitle": false,
     "title": ""
    }
   },
   "outputs": [],
   "source": [
    "df=df.dropDuplicates()"
   ]
  },
  {
   "cell_type": "code",
   "execution_count": 0,
   "metadata": {
    "application/vnd.databricks.v1+cell": {
     "cellMetadata": {
      "byteLimit": 2048000,
      "rowLimit": 10000
     },
     "inputWidgets": {},
     "nuid": "a680648b-d014-44a5-b558-911a83a801f9",
     "showTitle": false,
     "title": ""
    }
   },
   "outputs": [
    {
     "output_type": "stream",
     "name": "stdout",
     "output_type": "stream",
     "text": [
      "+---+------+----------+----+------+----------+\n| id|  name|       dob| age|salary|department|\n+---+------+----------+----+------+----------+\n|  5| David|1981-12-18|  41| 90000|        HR|\n|  3|   Bob|      null|null| 80000|        IT|\n|  4| Emily|1994-11-22|  28| 65000|   Finance|\n|  2| Alice|1997-02-28|  25| 60000|        HR|\n|  1|  John|1992-05-12|  30| 70000|        IT|\n|  6| Susan|1989-07-05|  33| 75000|   Finance|\n|  7|  Mike|1976-03-15|  46| 95000|        IT|\n| 10|Sophie|1992-06-30|  30| 62000|   Finance|\n|  2| Alice|1997-02-28|  25| 90000|   Finance|\n|  4| Emily|1994-11-22|  28| 70000|   Finance|\n|  9| James|1983-10-14|  39| 87000|        IT|\n|  8|  Lisa|1995-08-20|  27| 58000|        HR|\n+---+------+----------+----+------+----------+\n\n"
     ]
    }
   ],
   "source": [
    "df.show()"
   ]
  },
  {
   "cell_type": "code",
   "execution_count": 0,
   "metadata": {
    "application/vnd.databricks.v1+cell": {
     "cellMetadata": {
      "byteLimit": 2048000,
      "rowLimit": 10000
     },
     "inputWidgets": {},
     "nuid": "2efd2ca9-cec2-4744-8c46-0461ab1b8341",
     "showTitle": false,
     "title": ""
    }
   },
   "outputs": [
    {
     "output_type": "stream",
     "name": "stdout",
     "output_type": "stream",
     "text": [
      "+---+-----+----------+----+------+----------+\n| id| name|       dob| age|salary|department|\n+---+-----+----------+----+------+----------+\n|  1| John|1992-05-12|  30| 70000|        IT|\n|  1| John|1992-05-12|  30| 70000|        IT|\n|  1| John|1992-05-12|  30| 70000|        IT|\n|  1| John|1992-05-12|  30| 70000|        IT|\n|  2|Alice|1997-02-28|  25| 90000|   Finance|\n|  2|Alice|1997-02-28|  25| 60000|        HR|\n|  2|Alice|1997-02-28|  25| 90000|   Finance|\n|  2|Alice|1997-02-28|  25| 60000|        HR|\n|  3|  Bob|      null|null| 80000|        IT|\n|  3|  Bob|      null|null| 80000|        IT|\n|  4|Emily|1994-11-22|  28| 70000|   Finance|\n|  4|Emily|1994-11-22|  28| 65000|   Finance|\n|  4|Emily|1994-11-22|  28| 70000|   Finance|\n|  4|Emily|1994-11-22|  28| 65000|   Finance|\n|  5|David|1981-12-18|  41| 90000|        HR|\n|  5|David|1981-12-18|  41| 90000|        HR|\n|  6|Susan|1989-07-05|  33| 75000|   Finance|\n|  6|Susan|1989-07-05|  33| 75000|   Finance|\n|  7| Mike|1976-03-15|  46| 95000|        IT|\n|  7| Mike|1976-03-15|  46| 95000|        IT|\n+---+-----+----------+----+------+----------+\nonly showing top 20 rows\n\n"
     ]
    }
   ],
   "source": [
    "df_json.show()"
   ]
  },
  {
   "cell_type": "code",
   "execution_count": 0,
   "metadata": {
    "application/vnd.databricks.v1+cell": {
     "cellMetadata": {
      "byteLimit": 2048000,
      "rowLimit": 10000
     },
     "inputWidgets": {},
     "nuid": "428a6126-2345-4fe7-b118-e5a44c6f50f3",
     "showTitle": false,
     "title": ""
    }
   },
   "outputs": [],
   "source": [
    "#SELECT\n",
    "from pyspark.sql import functions as F\n",
    "# from pyspark.sql.functions import *\n",
    "# from pyspark.sql.functions import col, max min"
   ]
  },
  {
   "cell_type": "code",
   "execution_count": 0,
   "metadata": {
    "application/vnd.databricks.v1+cell": {
     "cellMetadata": {
      "byteLimit": 2048000,
      "rowLimit": 10000
     },
     "inputWidgets": {},
     "nuid": "3ba926ed-3f56-418f-b84f-e50771d5a6e2",
     "showTitle": false,
     "title": ""
    }
   },
   "outputs": [
    {
     "output_type": "stream",
     "name": "stdout",
     "output_type": "stream",
     "text": [
      "+------+\n|salary|\n+------+\n| 90000|\n| 80000|\n| 65000|\n| 60000|\n| 70000|\n| 75000|\n| 95000|\n| 62000|\n| 90000|\n| 70000|\n| 87000|\n| 58000|\n+------+\n\n"
     ]
    }
   ],
   "source": [
    "df.select(\n",
    "    \"salary\"\n",
    ").show()"
   ]
  },
  {
   "cell_type": "code",
   "execution_count": 0,
   "metadata": {
    "application/vnd.databricks.v1+cell": {
     "cellMetadata": {
      "byteLimit": 2048000,
      "rowLimit": 10000
     },
     "inputWidgets": {},
     "nuid": "033c2b3a-3305-4d16-8f9f-f8ca61561d8f",
     "showTitle": false,
     "title": ""
    }
   },
   "outputs": [
    {
     "output_type": "stream",
     "name": "stdout",
     "output_type": "stream",
     "text": [
      "+------+----+\n|salary| age|\n+------+----+\n| 90000|  41|\n| 80000|null|\n| 65000|  28|\n| 60000|  25|\n| 70000|  30|\n| 75000|  33|\n| 95000|  46|\n| 62000|  30|\n| 90000|  25|\n| 70000|  28|\n| 87000|  39|\n| 58000|  27|\n+------+----+\n\n"
     ]
    }
   ],
   "source": [
    "df.select(\n",
    "    \"salary\",\"age\"\n",
    ").show()\n"
   ]
  },
  {
   "cell_type": "code",
   "execution_count": 0,
   "metadata": {
    "application/vnd.databricks.v1+cell": {
     "cellMetadata": {
      "byteLimit": 2048000,
      "rowLimit": 10000
     },
     "inputWidgets": {},
     "nuid": "f6d41c7d-a72c-4529-a287-61a2b94f4954",
     "showTitle": false,
     "title": ""
    }
   },
   "outputs": [
    {
     "output_type": "stream",
     "name": "stdout",
     "output_type": "stream",
     "text": [
      "Out[321]: <bound method DataFrame.show of DataFrame[(salary + (salary * 0.05)): double, (year(current_timestamp()) - year(dob)): int, (year(current_timestamp()) - year(dob)): int]>"
     ]
    }
   ],
   "source": [
    "df.select(\n",
    "    df.salary + .05 * df.salary,\n",
    "    F.year(F.current_timestamp()) - F.year(\"dob\"),\n",
    "    F.year(F.current_timestamp()) - F.year(F.col(\"dob\"))\n",
    ").show"
   ]
  },
  {
   "cell_type": "code",
   "execution_count": 0,
   "metadata": {
    "application/vnd.databricks.v1+cell": {
     "cellMetadata": {
      "byteLimit": 2048000,
      "rowLimit": 10000
     },
     "inputWidgets": {},
     "nuid": "8c66ec48-9cac-4504-b412-b5209a12d996",
     "showTitle": false,
     "title": ""
    }
   },
   "outputs": [],
   "source": []
  },
  {
   "cell_type": "code",
   "execution_count": 0,
   "metadata": {
    "application/vnd.databricks.v1+cell": {
     "cellMetadata": {
      "byteLimit": 2048000,
      "rowLimit": 10000
     },
     "inputWidgets": {},
     "nuid": "a6ae7f71-4f7b-4a53-8838-269d984ca103",
     "showTitle": false,
     "title": ""
    }
   },
   "outputs": [
    {
     "output_type": "stream",
     "name": "stdout",
     "output_type": "stream",
     "text": [
      "+---+------+----------+----+------+----------+--------------------------+--------------------------+------------+----+\n| id|  name|       dob| age|salary|department|(salary + (salary * 0.05))|(salary + (salary * 0.05))|salary_raise| age|\n+---+------+----------+----+------+----------+--------------------------+--------------------------+------------+----+\n|  5| David|1981-12-18|  41| 90000|        HR|                   94500.0|                   94500.0|    94500.00|  43|\n|  3|   Bob|      null|null| 80000|        IT|                   84000.0|                   84000.0|    84000.00|null|\n|  4| Emily|1994-11-22|  28| 65000|   Finance|                   68250.0|                   68250.0|    68250.00|  30|\n|  2| Alice|1997-02-28|  25| 60000|        HR|                   63000.0|                   63000.0|    63000.00|  27|\n|  1|  John|1992-05-12|  30| 70000|        IT|                   73500.0|                   73500.0|    73500.00|  32|\n|  6| Susan|1989-07-05|  33| 75000|   Finance|                   78750.0|                   78750.0|    78750.00|  35|\n|  7|  Mike|1976-03-15|  46| 95000|        IT|                   99750.0|                   99750.0|    99750.00|  48|\n| 10|Sophie|1992-06-30|  30| 62000|   Finance|                   65100.0|                   65100.0|    65100.00|  32|\n|  2| Alice|1997-02-28|  25| 90000|   Finance|                   94500.0|                   94500.0|    94500.00|  27|\n|  4| Emily|1994-11-22|  28| 70000|   Finance|                   73500.0|                   73500.0|    73500.00|  30|\n|  9| James|1983-10-14|  39| 87000|        IT|                   91350.0|                   91350.0|    91350.00|  41|\n|  8|  Lisa|1995-08-20|  27| 58000|        HR|                   60900.0|                   60900.0|    60900.00|  29|\n+---+------+----------+----+------+----------+--------------------------+--------------------------+------------+----+\n\n"
     ]
    }
   ],
   "source": [
    "#Alias\n",
    "df.select(\n",
    "    \"*\",\n",
    "    df.salary + .05 * df.salary,\n",
    "    (df.salary + .05 * df.salary),\n",
    "    F.expr(\"salary + .05 * salary\").alias(\"salary_raise\"),\n",
    "    (\n",
    "        F.year(F.current_timestamp()) - F.year(F.col(\"dob\"))\n",
    "    ).alias(\"age\")\n",
    ").show()"
   ]
  },
  {
   "cell_type": "code",
   "execution_count": 0,
   "metadata": {
    "application/vnd.databricks.v1+cell": {
     "cellMetadata": {
      "byteLimit": 2048000,
      "rowLimit": 10000
     },
     "inputWidgets": {},
     "nuid": "0df14b42-87f6-404f-8307-4ee8be4fdf88",
     "showTitle": false,
     "title": ""
    }
   },
   "outputs": [
    {
     "output_type": "stream",
     "name": "stdout",
     "output_type": "stream",
     "text": [
      "+------+----+\n|salary| age|\n+------+----+\n| 90000|  41|\n| 80000|null|\n| 65000|  28|\n| 60000|  25|\n| 70000|  30|\n| 75000|  33|\n| 95000|  46|\n| 62000|  30|\n| 90000|  25|\n| 70000|  28|\n| 87000|  39|\n| 58000|  27|\n+------+----+\n\n+------+----+\n|salary| age|\n+------+----+\n| 90000|  41|\n| 80000|null|\n| 65000|  28|\n| 60000|  25|\n| 70000|  30|\n| 75000|  33|\n| 95000|  46|\n| 62000|  30|\n| 90000|  25|\n| 70000|  28|\n| 87000|  39|\n| 58000|  27|\n+------+----+\n\nOut[323]: DataFrame[salary: int, age: int]"
     ]
    }
   ],
   "source": [
    "df.select(\n",
    "    [\"salary\",\"age\"]\n",
    ").show()\n",
    "\n",
    "df.select(\n",
    "    df.salary,\n",
    "    df.age\n",
    ").show()\n",
    "\n",
    "df.select(\n",
    "    F.col(\"salary\"),\n",
    "    F.col(\"age\")\n",
    ")"
   ]
  },
  {
   "cell_type": "code",
   "execution_count": 0,
   "metadata": {
    "application/vnd.databricks.v1+cell": {
     "cellMetadata": {
      "byteLimit": 2048000,
      "rowLimit": 10000
     },
     "inputWidgets": {},
     "nuid": "f6c014e4-184a-4be5-8e0a-710b35dd1e0b",
     "showTitle": false,
     "title": ""
    }
   },
   "outputs": [],
   "source": [
    "#WithColumn\n",
    "df = df.withColumn(\n",
    "    \"salary_raise\",\n",
    "    (F.col(\"salary\") + .05 * F.col(\"salary\"))\n",
    ")\n",
    "\n",
    "df = df.withColumn(\n",
    "    \"salary_raise_10_percent\",\n",
    "    (F.col(\"salary\") + .1 * F.col(\"salary\"))\n",
    ")\n",
    "\n"
   ]
  },
  {
   "cell_type": "code",
   "execution_count": 0,
   "metadata": {
    "application/vnd.databricks.v1+cell": {
     "cellMetadata": {
      "byteLimit": 2048000,
      "rowLimit": 10000
     },
     "inputWidgets": {},
     "nuid": "4daae369-b976-4e02-a836-598b7414a608",
     "showTitle": false,
     "title": ""
    }
   },
   "outputs": [],
   "source": [
    "# or \n",
    "\n",
    "\n",
    "df = df.withColumn(\n",
    "    \"salary_raise\",\n",
    "    (F.col(\"salary\") + .05 * F.col(\"salary\"))\n",
    ").withColumn(\n",
    "    \"salary_raise_10_percent\",\n",
    "    (F.col(\"salary\") + .1 * F.col(\"salary\"))\n",
    ")"
   ]
  },
  {
   "cell_type": "code",
   "execution_count": 0,
   "metadata": {
    "application/vnd.databricks.v1+cell": {
     "cellMetadata": {
      "byteLimit": 2048000,
      "rowLimit": 10000
     },
     "inputWidgets": {},
     "nuid": "fff480c4-b716-436b-ba1b-4b0e8d7a0434",
     "showTitle": false,
     "title": ""
    }
   },
   "outputs": [],
   "source": [
    "df = df.withColumns(\n",
    "    {\n",
    "        \"salary_raise\": F.col(\"salary\") + .05 * F.col(\"salary\"), \n",
    "        \"age\": F.year(F.current_timestamp()) - F.year(F.col(\"dob\"))\n",
    "    }\n",
    ")"
   ]
  },
  {
   "cell_type": "code",
   "execution_count": 0,
   "metadata": {
    "application/vnd.databricks.v1+cell": {
     "cellMetadata": {
      "byteLimit": 2048000,
      "rowLimit": 10000
     },
     "inputWidgets": {},
     "nuid": "1e874864-3884-40ac-ba58-8eaa1c97d70b",
     "showTitle": false,
     "title": ""
    }
   },
   "outputs": [
    {
     "output_type": "stream",
     "name": "stdout",
     "output_type": "stream",
     "text": [
      "+---+------+----------+----+------+----------+------------+-----------------------+\n| id|  name|       dob| age|salary|department|salary_raise|salary_raise_10_percent|\n+---+------+----------+----+------+----------+------------+-----------------------+\n|  5| David|1981-12-18|  43| 90000|        HR|     94500.0|                99000.0|\n|  3|   Bob|      null|null| 80000|        IT|     84000.0|                88000.0|\n|  4| Emily|1994-11-22|  30| 65000|   Finance|     68250.0|                71500.0|\n|  2| Alice|1997-02-28|  27| 60000|        HR|     63000.0|                66000.0|\n|  1|  John|1992-05-12|  32| 70000|        IT|     73500.0|                77000.0|\n|  6| Susan|1989-07-05|  35| 75000|   Finance|     78750.0|                82500.0|\n|  7|  Mike|1976-03-15|  48| 95000|        IT|     99750.0|               104500.0|\n| 10|Sophie|1992-06-30|  32| 62000|   Finance|     65100.0|                68200.0|\n|  2| Alice|1997-02-28|  27| 90000|   Finance|     94500.0|                99000.0|\n|  4| Emily|1994-11-22|  30| 70000|   Finance|     73500.0|                77000.0|\n|  9| James|1983-10-14|  41| 87000|        IT|     91350.0|                95700.0|\n|  8|  Lisa|1995-08-20|  29| 58000|        HR|     60900.0|                63800.0|\n+---+------+----------+----+------+----------+------------+-----------------------+\n\n"
     ]
    }
   ],
   "source": [
    "df.show()"
   ]
  },
  {
   "cell_type": "code",
   "execution_count": 0,
   "metadata": {
    "application/vnd.databricks.v1+cell": {
     "cellMetadata": {
      "byteLimit": 2048000,
      "rowLimit": 10000
     },
     "inputWidgets": {},
     "nuid": "c0241c04-6ae1-4aa3-8e82-6a32b29102bf",
     "showTitle": false,
     "title": ""
    }
   },
   "outputs": [
    {
     "output_type": "stream",
     "name": "stdout",
     "output_type": "stream",
     "text": [
      "+---+-----+----------+----+------+----------+------------+-----------------------+\n| id| name|       dob| age|salary|department|salary_raise|salary_raise_10_percent|\n+---+-----+----------+----+------+----------+------------+-----------------------+\n|  5|David|1981-12-18|  43| 90000|        HR|     94500.0|                99000.0|\n|  3|  Bob|      null|null| 80000|        IT|     84000.0|                88000.0|\n|  6|Susan|1989-07-05|  35| 75000|   Finance|     78750.0|                82500.0|\n|  7| Mike|1976-03-15|  48| 95000|        IT|     99750.0|               104500.0|\n|  2|Alice|1997-02-28|  27| 90000|   Finance|     94500.0|                99000.0|\n|  9|James|1983-10-14|  41| 87000|        IT|     91350.0|                95700.0|\n+---+-----+----------+----+------+----------+------------+-----------------------+\n\n+---+-----+----------+----+------+----------+------------+-----------------------+\n| id| name|       dob| age|salary|department|salary_raise|salary_raise_10_percent|\n+---+-----+----------+----+------+----------+------------+-----------------------+\n|  5|David|1981-12-18|  43| 90000|        HR|     94500.0|                99000.0|\n|  3|  Bob|      null|null| 80000|        IT|     84000.0|                88000.0|\n|  6|Susan|1989-07-05|  35| 75000|   Finance|     78750.0|                82500.0|\n|  7| Mike|1976-03-15|  48| 95000|        IT|     99750.0|               104500.0|\n|  2|Alice|1997-02-28|  27| 90000|   Finance|     94500.0|                99000.0|\n|  9|James|1983-10-14|  41| 87000|        IT|     91350.0|                95700.0|\n+---+-----+----------+----+------+----------+------------+-----------------------+\n\n"
     ]
    }
   ],
   "source": [
    "#filter\n",
    "df.filter(\n",
    "    F.col(\"salary_raise\") >= 75000\n",
    ").show()\n",
    "\n",
    "df.where(\n",
    "    F.col(\"salary_raise\") >= 75000\n",
    ").show()"
   ]
  },
  {
   "cell_type": "code",
   "execution_count": 0,
   "metadata": {
    "application/vnd.databricks.v1+cell": {
     "cellMetadata": {
      "byteLimit": 2048000,
      "rowLimit": 10000
     },
     "inputWidgets": {},
     "nuid": "cc50fe05-874c-438f-825e-a68de7ddd0c1",
     "showTitle": false,
     "title": ""
    }
   },
   "outputs": [],
   "source": [
    "df = df.withColumn(\n",
    "    \"age_group\",\n",
    "    F.when(F.col(\"age\") <= 20, \"Upto 20\")\n",
    "    .when((F.col(\"age\") > 20) & (F.col(\"age\") <= 30), \"21 to 30\")\n",
    "    .when((F.col(\"age\") > 30) & (F.col(\"age\") <= 40), \"31 to 40\")\n",
    "    .otherwise(\"More than 40\")\n",
    "    )"
   ]
  },
  {
   "cell_type": "code",
   "execution_count": 0,
   "metadata": {
    "application/vnd.databricks.v1+cell": {
     "cellMetadata": {
      "byteLimit": 2048000,
      "rowLimit": 10000
     },
     "inputWidgets": {},
     "nuid": "f021f2d7-8a4a-4964-9c41-9493aa9d679f",
     "showTitle": false,
     "title": ""
    }
   },
   "outputs": [
    {
     "output_type": "stream",
     "name": "stdout",
     "output_type": "stream",
     "text": [
      "+---+------+----------+----+------+----------+------------+-----------------------+------------+\n| id|  name|       dob| age|salary|department|salary_raise|salary_raise_10_percent|   age_group|\n+---+------+----------+----+------+----------+------------+-----------------------+------------+\n|  5| David|1981-12-18|  43| 90000|        HR|     94500.0|                99000.0|More than 40|\n|  3|   Bob|      null|null| 80000|        IT|     84000.0|                88000.0|More than 40|\n|  4| Emily|1994-11-22|  30| 65000|   Finance|     68250.0|                71500.0|    21 to 30|\n|  2| Alice|1997-02-28|  27| 60000|        HR|     63000.0|                66000.0|    21 to 30|\n|  1|  John|1992-05-12|  32| 70000|        IT|     73500.0|                77000.0|    31 to 40|\n|  6| Susan|1989-07-05|  35| 75000|   Finance|     78750.0|                82500.0|    31 to 40|\n|  7|  Mike|1976-03-15|  48| 95000|        IT|     99750.0|               104500.0|More than 40|\n| 10|Sophie|1992-06-30|  32| 62000|   Finance|     65100.0|                68200.0|    31 to 40|\n|  2| Alice|1997-02-28|  27| 90000|   Finance|     94500.0|                99000.0|    21 to 30|\n|  4| Emily|1994-11-22|  30| 70000|   Finance|     73500.0|                77000.0|    21 to 30|\n|  9| James|1983-10-14|  41| 87000|        IT|     91350.0|                95700.0|More than 40|\n|  8|  Lisa|1995-08-20|  29| 58000|        HR|     60900.0|                63800.0|    21 to 30|\n+---+------+----------+----+------+----------+------------+-----------------------+------------+\n\n"
     ]
    }
   ],
   "source": [
    "df.show()"
   ]
  },
  {
   "cell_type": "code",
   "execution_count": 0,
   "metadata": {
    "application/vnd.databricks.v1+cell": {
     "cellMetadata": {
      "byteLimit": 2048000,
      "rowLimit": 10000
     },
     "inputWidgets": {},
     "nuid": "0edb8d17-dc3b-4bbc-ac58-b396f96c522c",
     "showTitle": false,
     "title": ""
    }
   },
   "outputs": [],
   "source": [
    "df = df.withColumn(\n",
    "    \"company\",\n",
    "    F.lit(\"Abacus Insights\")\n",
    ")"
   ]
  },
  {
   "cell_type": "code",
   "execution_count": 0,
   "metadata": {
    "application/vnd.databricks.v1+cell": {
     "cellMetadata": {
      "byteLimit": 2048000,
      "rowLimit": 10000
     },
     "inputWidgets": {},
     "nuid": "01e109ca-f411-41a4-bcc9-59c349daef3a",
     "showTitle": false,
     "title": ""
    }
   },
   "outputs": [
    {
     "output_type": "stream",
     "name": "stdout",
     "output_type": "stream",
     "text": [
      "+---+------+----------+----+------+----------+------------+-----------------------+------------+---------------+\n| id|  name|       dob| age|salary|department|salary_raise|salary_raise_10_percent|   age_group|        company|\n+---+------+----------+----+------+----------+------------+-----------------------+------------+---------------+\n|  5| David|1981-12-18|  43| 90000|        HR|     94500.0|                99000.0|More than 40|Abacus Insights|\n|  3|   Bob|      null|null| 80000|        IT|     84000.0|                88000.0|More than 40|Abacus Insights|\n|  4| Emily|1994-11-22|  30| 65000|   Finance|     68250.0|                71500.0|    21 to 30|Abacus Insights|\n|  2| Alice|1997-02-28|  27| 60000|        HR|     63000.0|                66000.0|    21 to 30|Abacus Insights|\n|  1|  John|1992-05-12|  32| 70000|        IT|     73500.0|                77000.0|    31 to 40|Abacus Insights|\n|  6| Susan|1989-07-05|  35| 75000|   Finance|     78750.0|                82500.0|    31 to 40|Abacus Insights|\n|  7|  Mike|1976-03-15|  48| 95000|        IT|     99750.0|               104500.0|More than 40|Abacus Insights|\n| 10|Sophie|1992-06-30|  32| 62000|   Finance|     65100.0|                68200.0|    31 to 40|Abacus Insights|\n|  2| Alice|1997-02-28|  27| 90000|   Finance|     94500.0|                99000.0|    21 to 30|Abacus Insights|\n|  4| Emily|1994-11-22|  30| 70000|   Finance|     73500.0|                77000.0|    21 to 30|Abacus Insights|\n|  9| James|1983-10-14|  41| 87000|        IT|     91350.0|                95700.0|More than 40|Abacus Insights|\n|  8|  Lisa|1995-08-20|  29| 58000|        HR|     60900.0|                63800.0|    21 to 30|Abacus Insights|\n+---+------+----------+----+------+----------+------------+-----------------------+------------+---------------+\n\n"
     ]
    }
   ],
   "source": [
    "df.show()"
   ]
  },
  {
   "cell_type": "code",
   "execution_count": 0,
   "metadata": {
    "application/vnd.databricks.v1+cell": {
     "cellMetadata": {
      "byteLimit": 2048000,
      "rowLimit": 10000
     },
     "inputWidgets": {},
     "nuid": "02aa9727-af5f-480f-9049-2285dc8e8c36",
     "showTitle": false,
     "title": ""
    }
   },
   "outputs": [],
   "source": [
    "#nulls\n",
    "df =  df.withColumns(\n",
    "    {\n",
    "        \"age\": F.coalesce(\n",
    "            F.year(F.current_timestamp()) - F.year(F.col(\"dob\")),\n",
    "            F.lit(-1),\n",
    "        ),\n",
    "        \"has_dob_1\" : ~F.isnull(\"dob\"),\n",
    "        \"has_dob_2\" : F.col(\"dob\").isNotNull()\n",
    "    }\n",
    ")"
   ]
  },
  {
   "cell_type": "code",
   "execution_count": 0,
   "metadata": {
    "application/vnd.databricks.v1+cell": {
     "cellMetadata": {
      "byteLimit": 2048000,
      "rowLimit": 10000
     },
     "inputWidgets": {},
     "nuid": "e3dcc8d7-450f-484e-88b8-de45c730f59a",
     "showTitle": false,
     "title": ""
    }
   },
   "outputs": [
    {
     "output_type": "stream",
     "name": "stdout",
     "output_type": "stream",
     "text": [
      "+---+------+----------+---+------+----------+------------+-----------------------+------------+---------------+---------+---------+\n| id|  name|       dob|age|salary|department|salary_raise|salary_raise_10_percent|   age_group|        company|has_dob_1|has_dob_2|\n+---+------+----------+---+------+----------+------------+-----------------------+------------+---------------+---------+---------+\n|  5| David|1981-12-18| 43| 90000|        HR|     94500.0|                99000.0|More than 40|Abacus Insights|     true|     true|\n|  3|   Bob|      null| -1| 80000|        IT|     84000.0|                88000.0|More than 40|Abacus Insights|    false|    false|\n|  4| Emily|1994-11-22| 30| 65000|   Finance|     68250.0|                71500.0|    21 to 30|Abacus Insights|     true|     true|\n|  2| Alice|1997-02-28| 27| 60000|        HR|     63000.0|                66000.0|    21 to 30|Abacus Insights|     true|     true|\n|  1|  John|1992-05-12| 32| 70000|        IT|     73500.0|                77000.0|    31 to 40|Abacus Insights|     true|     true|\n|  6| Susan|1989-07-05| 35| 75000|   Finance|     78750.0|                82500.0|    31 to 40|Abacus Insights|     true|     true|\n|  7|  Mike|1976-03-15| 48| 95000|        IT|     99750.0|               104500.0|More than 40|Abacus Insights|     true|     true|\n| 10|Sophie|1992-06-30| 32| 62000|   Finance|     65100.0|                68200.0|    31 to 40|Abacus Insights|     true|     true|\n|  2| Alice|1997-02-28| 27| 90000|   Finance|     94500.0|                99000.0|    21 to 30|Abacus Insights|     true|     true|\n|  4| Emily|1994-11-22| 30| 70000|   Finance|     73500.0|                77000.0|    21 to 30|Abacus Insights|     true|     true|\n|  9| James|1983-10-14| 41| 87000|        IT|     91350.0|                95700.0|More than 40|Abacus Insights|     true|     true|\n|  8|  Lisa|1995-08-20| 29| 58000|        HR|     60900.0|                63800.0|    21 to 30|Abacus Insights|     true|     true|\n+---+------+----------+---+------+----------+------------+-----------------------+------------+---------------+---------+---------+\n\n"
     ]
    }
   ],
   "source": [
    "df.show()"
   ]
  },
  {
   "cell_type": "code",
   "execution_count": 0,
   "metadata": {
    "application/vnd.databricks.v1+cell": {
     "cellMetadata": {
      "byteLimit": 2048000,
      "rowLimit": 10000
     },
     "inputWidgets": {},
     "nuid": "1c94cadb-ab17-428b-9241-e5234f2b86fc",
     "showTitle": false,
     "title": ""
    }
   },
   "outputs": [],
   "source": [
    "df = df.drop(\"company\", \"has_dob_1\", \"has_dob_2\" )"
   ]
  },
  {
   "cell_type": "code",
   "execution_count": 0,
   "metadata": {
    "application/vnd.databricks.v1+cell": {
     "cellMetadata": {
      "byteLimit": 2048000,
      "rowLimit": 10000
     },
     "inputWidgets": {},
     "nuid": "4dd26a15-819e-467c-ba1d-b79db612bbbb",
     "showTitle": false,
     "title": ""
    }
   },
   "outputs": [
    {
     "output_type": "stream",
     "name": "stdout",
     "output_type": "stream",
     "text": [
      "+---+------+----------+---+------+----------+------------+-----------------------+------------+\n| id|  name|       dob|age|salary|department|salary_raise|salary_raise_10_percent|   age_group|\n+---+------+----------+---+------+----------+------------+-----------------------+------------+\n|  5| David|1981-12-18| 43| 90000|        HR|     94500.0|                99000.0|More than 40|\n|  3|   Bob|      null| -1| 80000|        IT|     84000.0|                88000.0|More than 40|\n|  4| Emily|1994-11-22| 30| 65000|   Finance|     68250.0|                71500.0|    21 to 30|\n|  2| Alice|1997-02-28| 27| 60000|        HR|     63000.0|                66000.0|    21 to 30|\n|  1|  John|1992-05-12| 32| 70000|        IT|     73500.0|                77000.0|    31 to 40|\n|  6| Susan|1989-07-05| 35| 75000|   Finance|     78750.0|                82500.0|    31 to 40|\n|  7|  Mike|1976-03-15| 48| 95000|        IT|     99750.0|               104500.0|More than 40|\n| 10|Sophie|1992-06-30| 32| 62000|   Finance|     65100.0|                68200.0|    31 to 40|\n|  2| Alice|1997-02-28| 27| 90000|   Finance|     94500.0|                99000.0|    21 to 30|\n|  4| Emily|1994-11-22| 30| 70000|   Finance|     73500.0|                77000.0|    21 to 30|\n|  9| James|1983-10-14| 41| 87000|        IT|     91350.0|                95700.0|More than 40|\n|  8|  Lisa|1995-08-20| 29| 58000|        HR|     60900.0|                63800.0|    21 to 30|\n+---+------+----------+---+------+----------+------------+-----------------------+------------+\n\n"
     ]
    }
   ],
   "source": [
    "df.show()"
   ]
  },
  {
   "cell_type": "code",
   "execution_count": 0,
   "metadata": {
    "application/vnd.databricks.v1+cell": {
     "cellMetadata": {
      "byteLimit": 2048000,
      "rowLimit": 10000
     },
     "inputWidgets": {},
     "nuid": "e17ee1dd-f0c8-4ca4-b8bd-a7f8a25dea39",
     "showTitle": false,
     "title": ""
    }
   },
   "outputs": [],
   "source": [
    "#WithColumnRenamed\n",
    "df = df.withColumnRenamed(\"name\", \"first_name\")"
   ]
  },
  {
   "cell_type": "code",
   "execution_count": 0,
   "metadata": {
    "application/vnd.databricks.v1+cell": {
     "cellMetadata": {
      "byteLimit": 2048000,
      "rowLimit": 10000
     },
     "inputWidgets": {},
     "nuid": "12142b78-6e9c-4c1b-b97b-f0dab11c96a6",
     "showTitle": false,
     "title": ""
    }
   },
   "outputs": [
    {
     "output_type": "stream",
     "name": "stdout",
     "output_type": "stream",
     "text": [
      "+---+----------+----------+---+------+----------+------------+-----------------------+------------+\n| id|first_name|       dob|age|salary|department|salary_raise|salary_raise_10_percent|   age_group|\n+---+----------+----------+---+------+----------+------------+-----------------------+------------+\n|  5|     David|1981-12-18| 43| 90000|        HR|     94500.0|                99000.0|More than 40|\n|  3|       Bob|      null| -1| 80000|        IT|     84000.0|                88000.0|More than 40|\n|  4|     Emily|1994-11-22| 30| 65000|   Finance|     68250.0|                71500.0|    21 to 30|\n|  2|     Alice|1997-02-28| 27| 60000|        HR|     63000.0|                66000.0|    21 to 30|\n|  1|      John|1992-05-12| 32| 70000|        IT|     73500.0|                77000.0|    31 to 40|\n|  6|     Susan|1989-07-05| 35| 75000|   Finance|     78750.0|                82500.0|    31 to 40|\n|  7|      Mike|1976-03-15| 48| 95000|        IT|     99750.0|               104500.0|More than 40|\n| 10|    Sophie|1992-06-30| 32| 62000|   Finance|     65100.0|                68200.0|    31 to 40|\n|  2|     Alice|1997-02-28| 27| 90000|   Finance|     94500.0|                99000.0|    21 to 30|\n|  4|     Emily|1994-11-22| 30| 70000|   Finance|     73500.0|                77000.0|    21 to 30|\n|  9|     James|1983-10-14| 41| 87000|        IT|     91350.0|                95700.0|More than 40|\n|  8|      Lisa|1995-08-20| 29| 58000|        HR|     60900.0|                63800.0|    21 to 30|\n+---+----------+----------+---+------+----------+------------+-----------------------+------------+\n\n"
     ]
    }
   ],
   "source": [
    "df.show()"
   ]
  },
  {
   "cell_type": "code",
   "execution_count": 0,
   "metadata": {
    "application/vnd.databricks.v1+cell": {
     "cellMetadata": {
      "byteLimit": 2048000,
      "rowLimit": 10000
     },
     "inputWidgets": {},
     "nuid": "ad72d33a-6c6a-4606-ac79-f6552cf1d542",
     "showTitle": false,
     "title": ""
    }
   },
   "outputs": [],
   "source": [
    " from pyspark.sql import Window"
   ]
  },
  {
   "cell_type": "code",
   "execution_count": 0,
   "metadata": {
    "application/vnd.databricks.v1+cell": {
     "cellMetadata": {
      "byteLimit": 2048000,
      "rowLimit": 10000
     },
     "inputWidgets": {},
     "nuid": "6cc94336-06d7-482d-a7f0-c5b37989ca6a",
     "showTitle": false,
     "title": ""
    }
   },
   "outputs": [
    {
     "output_type": "stream",
     "name": "stdout",
     "output_type": "stream",
     "text": [
      "+---+----------+----------+---+------+----------+------------+-----------------------+------------+----------------+\n| id|first_name|       dob|age|salary|department|salary_raise|salary_raise_10_percent|   age_group|min_age_in_group|\n+---+----------+----------+---+------+----------+------------+-----------------------+------------+----------------+\n|  4|     Emily|1994-11-22| 30| 65000|   Finance|     68250.0|                71500.0|    21 to 30|              27|\n|  2|     Alice|1997-02-28| 27| 60000|        HR|     63000.0|                66000.0|    21 to 30|              27|\n|  2|     Alice|1997-02-28| 27| 90000|   Finance|     94500.0|                99000.0|    21 to 30|              27|\n|  4|     Emily|1994-11-22| 30| 70000|   Finance|     73500.0|                77000.0|    21 to 30|              27|\n|  8|      Lisa|1995-08-20| 29| 58000|        HR|     60900.0|                63800.0|    21 to 30|              27|\n|  1|      John|1992-05-12| 32| 70000|        IT|     73500.0|                77000.0|    31 to 40|              32|\n|  6|     Susan|1989-07-05| 35| 75000|   Finance|     78750.0|                82500.0|    31 to 40|              32|\n| 10|    Sophie|1992-06-30| 32| 62000|   Finance|     65100.0|                68200.0|    31 to 40|              32|\n|  5|     David|1981-12-18| 43| 90000|        HR|     94500.0|                99000.0|More than 40|              -1|\n|  3|       Bob|      null| -1| 80000|        IT|     84000.0|                88000.0|More than 40|              -1|\n|  7|      Mike|1976-03-15| 48| 95000|        IT|     99750.0|               104500.0|More than 40|              -1|\n|  9|     James|1983-10-14| 41| 87000|        IT|     91350.0|                95700.0|More than 40|              -1|\n+---+----------+----------+---+------+----------+------------+-----------------------+------------+----------------+\n\n"
     ]
    }
   ],
   "source": [
    "window = Window.partitionBy(\"age_group\")\n",
    "\n",
    "df.withColumn(\n",
    "    \"min_age_in_group\",\n",
    "    F.min(\"age\").over(window)\n",
    ").show()"
   ]
  },
  {
   "cell_type": "markdown",
   "metadata": {
    "application/vnd.databricks.v1+cell": {
     "cellMetadata": {
      "byteLimit": 2048000,
      "rowLimit": 10000
     },
     "inputWidgets": {},
     "nuid": "1d910a54-3d91-45e3-80e3-d796260b6939",
     "showTitle": false,
     "title": ""
    }
   },
   "source": [
    "#for SQL lowercase "
   ]
  },
  {
   "cell_type": "code",
   "execution_count": 0,
   "metadata": {
    "application/vnd.databricks.v1+cell": {
     "cellMetadata": {
      "byteLimit": 2048000,
      "rowLimit": 10000
     },
     "inputWidgets": {},
     "nuid": "f065e71f-a758-413f-89b1-6060b4920712",
     "showTitle": false,
     "title": ""
    }
   },
   "outputs": [],
   "source": [
    "#Join\n",
    "ref_df = spark.read.format(\"parquet\").load(\"dbfs:///FileStore/tables/parquet\")\n"
   ]
  },
  {
   "cell_type": "code",
   "execution_count": 0,
   "metadata": {
    "application/vnd.databricks.v1+cell": {
     "cellMetadata": {
      "byteLimit": 2048000,
      "rowLimit": 10000
     },
     "inputWidgets": {},
     "nuid": "883c127f-1a17-473e-911d-af0dff53b10b",
     "showTitle": false,
     "title": ""
    }
   },
   "outputs": [
    {
     "output_type": "stream",
     "name": "stdout",
     "output_type": "stream",
     "text": [
      "+----------+-------+--------+\n|department|manager|    lead|\n+----------+-------+--------+\n|   Finance|  Megan|   Molly|\n|        HR|   Brad|   Brian|\n|        IT|  Chris|Chandler|\n|  Delivery|   Leon|  Louise|\n|   Finance|  Megan|   Molly|\n|        HR|   Brad|   Brian|\n|        IT|  Chris|Chandler|\n|  Delivery|   Leon|  Louise|\n+----------+-------+--------+\n\n"
     ]
    }
   ],
   "source": [
    "ref_df.show()"
   ]
  },
  {
   "cell_type": "code",
   "execution_count": 0,
   "metadata": {
    "application/vnd.databricks.v1+cell": {
     "cellMetadata": {
      "byteLimit": 2048000,
      "rowLimit": 10000
     },
     "inputWidgets": {},
     "nuid": "19ed3292-52fc-4987-8aed-8e837f633521",
     "showTitle": false,
     "title": ""
    }
   },
   "outputs": [
    {
     "output_type": "stream",
     "name": "stdout",
     "output_type": "stream",
     "text": [
      "+----------+---+----------+----------+---+------+------------+-----------------------+------------+-------+--------+\n|department| id|first_name|       dob|age|salary|salary_raise|salary_raise_10_percent|   age_group|manager|    lead|\n+----------+---+----------+----------+---+------+------------+-----------------------+------------+-------+--------+\n|        HR|  5|     David|1981-12-18| 43| 90000|     94500.0|                99000.0|More than 40|   Brad|   Brian|\n|        HR|  5|     David|1981-12-18| 43| 90000|     94500.0|                99000.0|More than 40|   Brad|   Brian|\n|        IT|  3|       Bob|      null| -1| 80000|     84000.0|                88000.0|More than 40|  Chris|Chandler|\n|        IT|  3|       Bob|      null| -1| 80000|     84000.0|                88000.0|More than 40|  Chris|Chandler|\n|   Finance|  4|     Emily|1994-11-22| 30| 65000|     68250.0|                71500.0|    21 to 30|  Megan|   Molly|\n|   Finance|  4|     Emily|1994-11-22| 30| 65000|     68250.0|                71500.0|    21 to 30|  Megan|   Molly|\n|        HR|  2|     Alice|1997-02-28| 27| 60000|     63000.0|                66000.0|    21 to 30|   Brad|   Brian|\n|        HR|  2|     Alice|1997-02-28| 27| 60000|     63000.0|                66000.0|    21 to 30|   Brad|   Brian|\n|        IT|  1|      John|1992-05-12| 32| 70000|     73500.0|                77000.0|    31 to 40|  Chris|Chandler|\n|        IT|  1|      John|1992-05-12| 32| 70000|     73500.0|                77000.0|    31 to 40|  Chris|Chandler|\n|   Finance|  6|     Susan|1989-07-05| 35| 75000|     78750.0|                82500.0|    31 to 40|  Megan|   Molly|\n|   Finance|  6|     Susan|1989-07-05| 35| 75000|     78750.0|                82500.0|    31 to 40|  Megan|   Molly|\n|        IT|  7|      Mike|1976-03-15| 48| 95000|     99750.0|               104500.0|More than 40|  Chris|Chandler|\n|        IT|  7|      Mike|1976-03-15| 48| 95000|     99750.0|               104500.0|More than 40|  Chris|Chandler|\n|   Finance| 10|    Sophie|1992-06-30| 32| 62000|     65100.0|                68200.0|    31 to 40|  Megan|   Molly|\n|   Finance| 10|    Sophie|1992-06-30| 32| 62000|     65100.0|                68200.0|    31 to 40|  Megan|   Molly|\n|   Finance|  2|     Alice|1997-02-28| 27| 90000|     94500.0|                99000.0|    21 to 30|  Megan|   Molly|\n|   Finance|  2|     Alice|1997-02-28| 27| 90000|     94500.0|                99000.0|    21 to 30|  Megan|   Molly|\n|   Finance|  4|     Emily|1994-11-22| 30| 70000|     73500.0|                77000.0|    21 to 30|  Megan|   Molly|\n|   Finance|  4|     Emily|1994-11-22| 30| 70000|     73500.0|                77000.0|    21 to 30|  Megan|   Molly|\n+----------+---+----------+----------+---+------+------------+-----------------------+------------+-------+--------+\nonly showing top 20 rows\n\n"
     ]
    }
   ],
   "source": [
    "df.join(\n",
    "    ref_df,\n",
    "    \"department\",\n",
    "    \"left\",\n",
    ").show()"
   ]
  },
  {
   "cell_type": "code",
   "execution_count": 0,
   "metadata": {
    "application/vnd.databricks.v1+cell": {
     "cellMetadata": {
      "byteLimit": 2048000,
      "rowLimit": 10000
     },
     "inputWidgets": {},
     "nuid": "c404e4d3-38fd-42d6-90e2-0b2ae43cdf3f",
     "showTitle": false,
     "title": ""
    }
   },
   "outputs": [
    {
     "output_type": "stream",
     "name": "stdout",
     "output_type": "stream",
     "text": [
      "+---+----------+----------+---+------+----------+------------+-----------------------+------------+----------+-------+--------+\n| id|first_name|       dob|age|salary|department|salary_raise|salary_raise_10_percent|   age_group|department|manager|    lead|\n+---+----------+----------+---+------+----------+------------+-----------------------+------------+----------+-------+--------+\n|  5|     David|1981-12-18| 43| 90000|        HR|     94500.0|                99000.0|More than 40|        HR|   Brad|   Brian|\n|  5|     David|1981-12-18| 43| 90000|        HR|     94500.0|                99000.0|More than 40|        HR|   Brad|   Brian|\n|  3|       Bob|      null| -1| 80000|        IT|     84000.0|                88000.0|More than 40|        IT|  Chris|Chandler|\n|  3|       Bob|      null| -1| 80000|        IT|     84000.0|                88000.0|More than 40|        IT|  Chris|Chandler|\n|  4|     Emily|1994-11-22| 30| 65000|   Finance|     68250.0|                71500.0|    21 to 30|   Finance|  Megan|   Molly|\n|  4|     Emily|1994-11-22| 30| 65000|   Finance|     68250.0|                71500.0|    21 to 30|   Finance|  Megan|   Molly|\n|  2|     Alice|1997-02-28| 27| 60000|        HR|     63000.0|                66000.0|    21 to 30|        HR|   Brad|   Brian|\n|  2|     Alice|1997-02-28| 27| 60000|        HR|     63000.0|                66000.0|    21 to 30|        HR|   Brad|   Brian|\n|  1|      John|1992-05-12| 32| 70000|        IT|     73500.0|                77000.0|    31 to 40|        IT|  Chris|Chandler|\n|  1|      John|1992-05-12| 32| 70000|        IT|     73500.0|                77000.0|    31 to 40|        IT|  Chris|Chandler|\n|  6|     Susan|1989-07-05| 35| 75000|   Finance|     78750.0|                82500.0|    31 to 40|   Finance|  Megan|   Molly|\n|  6|     Susan|1989-07-05| 35| 75000|   Finance|     78750.0|                82500.0|    31 to 40|   Finance|  Megan|   Molly|\n|  7|      Mike|1976-03-15| 48| 95000|        IT|     99750.0|               104500.0|More than 40|        IT|  Chris|Chandler|\n|  7|      Mike|1976-03-15| 48| 95000|        IT|     99750.0|               104500.0|More than 40|        IT|  Chris|Chandler|\n| 10|    Sophie|1992-06-30| 32| 62000|   Finance|     65100.0|                68200.0|    31 to 40|   Finance|  Megan|   Molly|\n| 10|    Sophie|1992-06-30| 32| 62000|   Finance|     65100.0|                68200.0|    31 to 40|   Finance|  Megan|   Molly|\n|  2|     Alice|1997-02-28| 27| 90000|   Finance|     94500.0|                99000.0|    21 to 30|   Finance|  Megan|   Molly|\n|  2|     Alice|1997-02-28| 27| 90000|   Finance|     94500.0|                99000.0|    21 to 30|   Finance|  Megan|   Molly|\n|  4|     Emily|1994-11-22| 30| 70000|   Finance|     73500.0|                77000.0|    21 to 30|   Finance|  Megan|   Molly|\n|  4|     Emily|1994-11-22| 30| 70000|   Finance|     73500.0|                77000.0|    21 to 30|   Finance|  Megan|   Molly|\n+---+----------+----------+---+------+----------+------------+-----------------------+------------+----------+-------+--------+\nonly showing top 20 rows\n\n"
     ]
    }
   ],
   "source": [
    "#method2\n",
    "df.join(\n",
    "    ref_df,\n",
    "    df.department==ref_df.department,\n",
    "    \"left\"\n",
    ").show()"
   ]
  },
  {
   "cell_type": "code",
   "execution_count": 0,
   "metadata": {
    "application/vnd.databricks.v1+cell": {
     "cellMetadata": {
      "byteLimit": 2048000,
      "rowLimit": 10000
     },
     "inputWidgets": {},
     "nuid": "00c90017-60ec-46d9-8243-1d23af2703a2",
     "showTitle": false,
     "title": ""
    }
   },
   "outputs": [],
   "source": [
    "df= df.alias(\"main\")\n",
    "ref_df= ref_df.alias(\"refrence\")"
   ]
  },
  {
   "cell_type": "code",
   "execution_count": 0,
   "metadata": {
    "application/vnd.databricks.v1+cell": {
     "cellMetadata": {
      "byteLimit": 2048000,
      "rowLimit": 10000
     },
     "inputWidgets": {},
     "nuid": "5c86e698-da1e-4664-b19a-77e0264c2485",
     "showTitle": false,
     "title": ""
    }
   },
   "outputs": [
    {
     "output_type": "stream",
     "name": "stdout",
     "output_type": "stream",
     "text": [
      "+---+----------+----------+---+------+----------+------------+-----------------------+------------+----------+-------+--------+\n| id|first_name|       dob|age|salary|department|salary_raise|salary_raise_10_percent|   age_group|department|manager|    lead|\n+---+----------+----------+---+------+----------+------------+-----------------------+------------+----------+-------+--------+\n|  5|     David|1981-12-18| 43| 90000|        HR|     94500.0|                99000.0|More than 40|        HR|   Brad|   Brian|\n|  5|     David|1981-12-18| 43| 90000|        HR|     94500.0|                99000.0|More than 40|        HR|   Brad|   Brian|\n|  3|       Bob|      null| -1| 80000|        IT|     84000.0|                88000.0|More than 40|        IT|  Chris|Chandler|\n|  3|       Bob|      null| -1| 80000|        IT|     84000.0|                88000.0|More than 40|        IT|  Chris|Chandler|\n|  4|     Emily|1994-11-22| 30| 65000|   Finance|     68250.0|                71500.0|    21 to 30|   Finance|  Megan|   Molly|\n|  4|     Emily|1994-11-22| 30| 65000|   Finance|     68250.0|                71500.0|    21 to 30|   Finance|  Megan|   Molly|\n|  2|     Alice|1997-02-28| 27| 60000|        HR|     63000.0|                66000.0|    21 to 30|        HR|   Brad|   Brian|\n|  2|     Alice|1997-02-28| 27| 60000|        HR|     63000.0|                66000.0|    21 to 30|        HR|   Brad|   Brian|\n|  1|      John|1992-05-12| 32| 70000|        IT|     73500.0|                77000.0|    31 to 40|        IT|  Chris|Chandler|\n|  1|      John|1992-05-12| 32| 70000|        IT|     73500.0|                77000.0|    31 to 40|        IT|  Chris|Chandler|\n|  6|     Susan|1989-07-05| 35| 75000|   Finance|     78750.0|                82500.0|    31 to 40|   Finance|  Megan|   Molly|\n|  6|     Susan|1989-07-05| 35| 75000|   Finance|     78750.0|                82500.0|    31 to 40|   Finance|  Megan|   Molly|\n|  7|      Mike|1976-03-15| 48| 95000|        IT|     99750.0|               104500.0|More than 40|        IT|  Chris|Chandler|\n|  7|      Mike|1976-03-15| 48| 95000|        IT|     99750.0|               104500.0|More than 40|        IT|  Chris|Chandler|\n| 10|    Sophie|1992-06-30| 32| 62000|   Finance|     65100.0|                68200.0|    31 to 40|   Finance|  Megan|   Molly|\n| 10|    Sophie|1992-06-30| 32| 62000|   Finance|     65100.0|                68200.0|    31 to 40|   Finance|  Megan|   Molly|\n|  2|     Alice|1997-02-28| 27| 90000|   Finance|     94500.0|                99000.0|    21 to 30|   Finance|  Megan|   Molly|\n|  2|     Alice|1997-02-28| 27| 90000|   Finance|     94500.0|                99000.0|    21 to 30|   Finance|  Megan|   Molly|\n|  4|     Emily|1994-11-22| 30| 70000|   Finance|     73500.0|                77000.0|    21 to 30|   Finance|  Megan|   Molly|\n|  4|     Emily|1994-11-22| 30| 70000|   Finance|     73500.0|                77000.0|    21 to 30|   Finance|  Megan|   Molly|\n+---+----------+----------+---+------+----------+------------+-----------------------+------------+----------+-------+--------+\nonly showing top 20 rows\n\n"
     ]
    }
   ],
   "source": [
    "df.join(\n",
    "    ref_df,\n",
    "    F.col(\"main.department\") == F.col(\"refrence.department\"),\n",
    "    \"left\",\n",
    ").show()"
   ]
  },
  {
   "cell_type": "code",
   "execution_count": 0,
   "metadata": {
    "application/vnd.databricks.v1+cell": {
     "cellMetadata": {
      "byteLimit": 2048000,
      "rowLimit": 10000
     },
     "inputWidgets": {},
     "nuid": "af58b3df-2abb-40d4-943d-728c016ba577",
     "showTitle": false,
     "title": ""
    }
   },
   "outputs": [],
   "source": [
    "df= df.join(\n",
    "    ref_df,\n",
    "    F.col(\"main.department\") == F.col(\"refrence.department\"),\n",
    "    \"left\",\n",
    ")"
   ]
  },
  {
   "cell_type": "code",
   "execution_count": 0,
   "metadata": {
    "application/vnd.databricks.v1+cell": {
     "cellMetadata": {
      "byteLimit": 2048000,
      "rowLimit": 10000
     },
     "inputWidgets": {},
     "nuid": "db237733-6ec1-4737-8b00-d5778bcfd5dc",
     "showTitle": false,
     "title": ""
    }
   },
   "outputs": [
    {
     "output_type": "stream",
     "name": "stdout",
     "output_type": "stream",
     "text": [
      "+---+----------+----------+---+------+----------+------------+-----------------------+------------+----------+-------+--------+\n| id|first_name|       dob|age|salary|department|salary_raise|salary_raise_10_percent|   age_group|department|manager|    lead|\n+---+----------+----------+---+------+----------+------------+-----------------------+------------+----------+-------+--------+\n|  5|     David|1981-12-18| 43| 90000|        HR|     94500.0|                99000.0|More than 40|        HR|   Brad|   Brian|\n|  5|     David|1981-12-18| 43| 90000|        HR|     94500.0|                99000.0|More than 40|        HR|   Brad|   Brian|\n|  3|       Bob|      null| -1| 80000|        IT|     84000.0|                88000.0|More than 40|        IT|  Chris|Chandler|\n|  3|       Bob|      null| -1| 80000|        IT|     84000.0|                88000.0|More than 40|        IT|  Chris|Chandler|\n|  4|     Emily|1994-11-22| 30| 65000|   Finance|     68250.0|                71500.0|    21 to 30|   Finance|  Megan|   Molly|\n|  4|     Emily|1994-11-22| 30| 65000|   Finance|     68250.0|                71500.0|    21 to 30|   Finance|  Megan|   Molly|\n|  2|     Alice|1997-02-28| 27| 60000|        HR|     63000.0|                66000.0|    21 to 30|        HR|   Brad|   Brian|\n|  2|     Alice|1997-02-28| 27| 60000|        HR|     63000.0|                66000.0|    21 to 30|        HR|   Brad|   Brian|\n|  1|      John|1992-05-12| 32| 70000|        IT|     73500.0|                77000.0|    31 to 40|        IT|  Chris|Chandler|\n|  1|      John|1992-05-12| 32| 70000|        IT|     73500.0|                77000.0|    31 to 40|        IT|  Chris|Chandler|\n|  6|     Susan|1989-07-05| 35| 75000|   Finance|     78750.0|                82500.0|    31 to 40|   Finance|  Megan|   Molly|\n|  6|     Susan|1989-07-05| 35| 75000|   Finance|     78750.0|                82500.0|    31 to 40|   Finance|  Megan|   Molly|\n|  7|      Mike|1976-03-15| 48| 95000|        IT|     99750.0|               104500.0|More than 40|        IT|  Chris|Chandler|\n|  7|      Mike|1976-03-15| 48| 95000|        IT|     99750.0|               104500.0|More than 40|        IT|  Chris|Chandler|\n| 10|    Sophie|1992-06-30| 32| 62000|   Finance|     65100.0|                68200.0|    31 to 40|   Finance|  Megan|   Molly|\n| 10|    Sophie|1992-06-30| 32| 62000|   Finance|     65100.0|                68200.0|    31 to 40|   Finance|  Megan|   Molly|\n|  2|     Alice|1997-02-28| 27| 90000|   Finance|     94500.0|                99000.0|    21 to 30|   Finance|  Megan|   Molly|\n|  2|     Alice|1997-02-28| 27| 90000|   Finance|     94500.0|                99000.0|    21 to 30|   Finance|  Megan|   Molly|\n|  4|     Emily|1994-11-22| 30| 70000|   Finance|     73500.0|                77000.0|    21 to 30|   Finance|  Megan|   Molly|\n|  4|     Emily|1994-11-22| 30| 70000|   Finance|     73500.0|                77000.0|    21 to 30|   Finance|  Megan|   Molly|\n+---+----------+----------+---+------+----------+------------+-----------------------+------------+----------+-------+--------+\nonly showing top 20 rows\n\n"
     ]
    }
   ],
   "source": [
    "df.show()"
   ]
  },
  {
   "cell_type": "code",
   "execution_count": 0,
   "metadata": {
    "application/vnd.databricks.v1+cell": {
     "cellMetadata": {
      "byteLimit": 2048000,
      "rowLimit": 10000
     },
     "inputWidgets": {},
     "nuid": "0dfff1fa-bcb3-4a65-8fd0-743bbff67d35",
     "showTitle": false,
     "title": ""
    }
   },
   "outputs": [],
   "source": [
    "#Load(save)data\n",
    "df.write.mode(\"overwrite\").format(\"csv\").save(\"dbfs:///FileStore/tables/final\")"
   ]
  },
  {
   "cell_type": "code",
   "execution_count": 0,
   "metadata": {
    "application/vnd.databricks.v1+cell": {
     "cellMetadata": {
      "byteLimit": 2048000,
      "rowLimit": 10000
     },
     "inputWidgets": {},
     "nuid": "4782a50d-6676-4458-9561-5ec325364467",
     "showTitle": false,
     "title": ""
    }
   },
   "outputs": [
    {
     "output_type": "display_data",
     "data": {
      "text/html": [
       "<style scoped>\n",
       "  .table-result-container {\n",
       "    max-height: 300px;\n",
       "    overflow: auto;\n",
       "  }\n",
       "  table, th, td {\n",
       "    border: 1px solid black;\n",
       "    border-collapse: collapse;\n",
       "  }\n",
       "  th, td {\n",
       "    padding: 5px;\n",
       "  }\n",
       "  th {\n",
       "    text-align: left;\n",
       "  }\n",
       "</style><div class='table-result-container'><table class='table-result'><thead style='background-color: white'><tr><th>path</th><th>name</th><th>size</th><th>modificationTime</th></tr></thead><tbody><tr><td>dbfs:/FileStore/tables/final/_SUCCESS</td><td>_SUCCESS</td><td>0</td><td>1707804453000</td></tr><tr><td>dbfs:/FileStore/tables/final/_committed_1373865280067968330</td><td>_committed_1373865280067968330</td><td>114</td><td>1707804453000</td></tr><tr><td>dbfs:/FileStore/tables/final/_started_1373865280067968330</td><td>_started_1373865280067968330</td><td>0</td><td>1707804453000</td></tr><tr><td>dbfs:/FileStore/tables/final/part-00000-tid-1373865280067968330-844c7bd5-aebf-4fe0-8a42-7eb0e05160e9-1352-1-c000.csv</td><td>part-00000-tid-1373865280067968330-844c7bd5-aebf-4fe0-8a42-7eb0e05160e9-1352-1-c000.csv</td><td>701</td><td>1707804453000</td></tr></tbody></table></div>"
      ]
     },
     "metadata": {
      "application/vnd.databricks.v1+output": {
       "addedWidgets": {},
       "aggData": [],
       "aggError": "",
       "aggOverflow": false,
       "aggSchema": [],
       "aggSeriesLimitReached": false,
       "aggType": "",
       "arguments": {},
       "columnCustomDisplayInfos": {},
       "data": [
        [
         "dbfs:/FileStore/tables/final/_SUCCESS",
         "_SUCCESS",
         0,
         1707804453000
        ],
        [
         "dbfs:/FileStore/tables/final/_committed_1373865280067968330",
         "_committed_1373865280067968330",
         114,
         1707804453000
        ],
        [
         "dbfs:/FileStore/tables/final/_started_1373865280067968330",
         "_started_1373865280067968330",
         0,
         1707804453000
        ],
        [
         "dbfs:/FileStore/tables/final/part-00000-tid-1373865280067968330-844c7bd5-aebf-4fe0-8a42-7eb0e05160e9-1352-1-c000.csv",
         "part-00000-tid-1373865280067968330-844c7bd5-aebf-4fe0-8a42-7eb0e05160e9-1352-1-c000.csv",
         701,
         1707804453000
        ]
       ],
       "datasetInfos": [],
       "dbfsResultPath": null,
       "isJsonSchema": true,
       "metadata": {
        "isDbfsCommandResult": false
       },
       "overflow": false,
       "plotOptions": {
        "customPlotOptions": {},
        "displayType": "table",
        "pivotAggregation": null,
        "pivotColumns": null,
        "xColumns": null,
        "yColumns": null
       },
       "removedWidgets": [],
       "schema": [
        {
         "metadata": "{}",
         "name": "path",
         "type": "\"string\""
        },
        {
         "metadata": "{}",
         "name": "name",
         "type": "\"string\""
        },
        {
         "metadata": "{}",
         "name": "size",
         "type": "\"long\""
        },
        {
         "metadata": "{}",
         "name": "modificationTime",
         "type": "\"long\""
        }
       ],
       "type": "table"
      }
     },
     "output_type": "display_data"
    }
   ],
   "source": [
    "%fs ls dbfs:///FileStore/tables/final"
   ]
  },
  {
   "cell_type": "code",
   "execution_count": 0,
   "metadata": {
    "application/vnd.databricks.v1+cell": {
     "cellMetadata": {
      "byteLimit": 2048000,
      "rowLimit": 10000
     },
     "inputWidgets": {},
     "nuid": "46606559-0141-43db-b158-936b1b0d080a",
     "showTitle": false,
     "title": ""
    }
   },
   "outputs": [
    {
     "output_type": "display_data",
     "data": {
      "text/plain": [
       "\u001B[0;36m  File \u001B[0;32m<command-2845221430951445>:3\u001B[0;36m\u001B[0m\n",
       "\u001B[0;31m    F.col(\"main.department\")==F.col(\"refrence.department\"),\"left\",\u001B[0m\n",
       "\u001B[0m    ^\u001B[0m\n",
       "\u001B[0;31mSyntaxError\u001B[0m\u001B[0;31m:\u001B[0m invalid syntax\n"
      ]
     },
     "metadata": {
      "application/vnd.databricks.v1+output": {
       "arguments": {},
       "data": "\u001B[0;36m  File \u001B[0;32m<command-2845221430951445>:3\u001B[0;36m\u001B[0m\n\u001B[0;31m    F.col(\"main.department\")==F.col(\"refrence.department\"),\"left\",\u001B[0m\n\u001B[0m    ^\u001B[0m\n\u001B[0;31mSyntaxError\u001B[0m\u001B[0;31m:\u001B[0m invalid syntax\n",
       "errorSummary": "<span class='ansi-red-fg'>SyntaxError</span>: invalid syntax (<command-2845221430951445>, line 3)",
       "errorTraceType": "ansi",
       "metadata": {},
       "type": "ipynbError"
      }
     },
     "output_type": "display_data"
    }
   ],
   "source": [
    "df.join(\n",
    "    ref_def\n",
    "    F.col(\"main.department\")==F.col(\"refrence.department\"),\"left\",\n",
    ").select(\n",
    "   \n",
    ").show()"
   ]
  },
  {
   "cell_type": "code",
   "execution_count": 0,
   "metadata": {
    "application/vnd.databricks.v1+cell": {
     "cellMetadata": {
      "byteLimit": 2048000,
      "rowLimit": 10000
     },
     "inputWidgets": {},
     "nuid": "70250ad8-f92a-44f4-91e5-5fb072b2dd5c",
     "showTitle": false,
     "title": ""
    }
   },
   "outputs": [
    {
     "output_type": "stream",
     "name": "stdout",
     "output_type": "stream",
     "text": [
      "+---+----------+----------+---+------+----------+------------+-----------------------+------------+-------+--------+\n| id|first_name|       dob|age|salary|department|salary_raise|salary_raise_10_percent|   age_group|manager|    lead|\n+---+----------+----------+---+------+----------+------------+-----------------------+------------+-------+--------+\n|  5|     David|1981-12-18| 43| 90000|        HR|     94500.0|                99000.0|More than 40|   Brad|   Brian|\n|  5|     David|1981-12-18| 43| 90000|        HR|     94500.0|                99000.0|More than 40|   Brad|   Brian|\n|  3|       Bob|      null| -1| 80000|        IT|     84000.0|                88000.0|More than 40|  Chris|Chandler|\n|  3|       Bob|      null| -1| 80000|        IT|     84000.0|                88000.0|More than 40|  Chris|Chandler|\n|  4|     Emily|1994-11-22| 30| 65000|   Finance|     68250.0|                71500.0|    21 to 30|  Megan|   Molly|\n|  4|     Emily|1994-11-22| 30| 65000|   Finance|     68250.0|                71500.0|    21 to 30|  Megan|   Molly|\n|  2|     Alice|1997-02-28| 27| 60000|        HR|     63000.0|                66000.0|    21 to 30|   Brad|   Brian|\n|  2|     Alice|1997-02-28| 27| 60000|        HR|     63000.0|                66000.0|    21 to 30|   Brad|   Brian|\n|  1|      John|1992-05-12| 32| 70000|        IT|     73500.0|                77000.0|    31 to 40|  Chris|Chandler|\n|  1|      John|1992-05-12| 32| 70000|        IT|     73500.0|                77000.0|    31 to 40|  Chris|Chandler|\n|  6|     Susan|1989-07-05| 35| 75000|   Finance|     78750.0|                82500.0|    31 to 40|  Megan|   Molly|\n|  6|     Susan|1989-07-05| 35| 75000|   Finance|     78750.0|                82500.0|    31 to 40|  Megan|   Molly|\n|  7|      Mike|1976-03-15| 48| 95000|        IT|     99750.0|               104500.0|More than 40|  Chris|Chandler|\n|  7|      Mike|1976-03-15| 48| 95000|        IT|     99750.0|               104500.0|More than 40|  Chris|Chandler|\n| 10|    Sophie|1992-06-30| 32| 62000|   Finance|     65100.0|                68200.0|    31 to 40|  Megan|   Molly|\n| 10|    Sophie|1992-06-30| 32| 62000|   Finance|     65100.0|                68200.0|    31 to 40|  Megan|   Molly|\n|  2|     Alice|1997-02-28| 27| 90000|   Finance|     94500.0|                99000.0|    21 to 30|  Megan|   Molly|\n|  2|     Alice|1997-02-28| 27| 90000|   Finance|     94500.0|                99000.0|    21 to 30|  Megan|   Molly|\n|  4|     Emily|1994-11-22| 30| 70000|   Finance|     73500.0|                77000.0|    21 to 30|  Megan|   Molly|\n|  4|     Emily|1994-11-22| 30| 70000|   Finance|     73500.0|                77000.0|    21 to 30|  Megan|   Molly|\n+---+----------+----------+---+------+----------+------------+-----------------------+------------+-------+--------+\nonly showing top 20 rows\n\n"
     ]
    }
   ],
   "source": [
    "df.alias(\"main\").join(\n",
    "    ref_df.alias(\"refrence\"),\n",
    "    F.col(\"main.department\") == F.col(\"refrence.department\"),\n",
    "    \"left\",\n",
    ").select(\n",
    "    F.col(\"main.*\"),\n",
    "    F.col(\"refrence.manager\"),\n",
    "    F.col(\"lead\")\n",
    ").show()"
   ]
  },
  {
   "cell_type": "code",
   "execution_count": 0,
   "metadata": {
    "application/vnd.databricks.v1+cell": {
     "cellMetadata": {
      "byteLimit": 2048000,
      "rowLimit": 10000
     },
     "inputWidgets": {},
     "nuid": "f565d3cf-431b-4c67-8379-29f0849e6901",
     "showTitle": false,
     "title": ""
    }
   },
   "outputs": [],
   "source": [
    "#df.write.mode\n",
    "df.write.mode(\"overwrite\").format(\"delta\").saveAsTable(\"final\")"
   ]
  },
  {
   "cell_type": "code",
   "execution_count": 0,
   "metadata": {
    "application/vnd.databricks.v1+cell": {
     "cellMetadata": {
      "byteLimit": 2048000,
      "rowLimit": 10000
     },
     "inputWidgets": {},
     "nuid": "6124bcc6-4cc5-428a-9eab-4b89ac6110a4",
     "showTitle": false,
     "title": ""
    }
   },
   "outputs": [
    {
     "output_type": "stream",
     "name": "stdout",
     "output_type": "stream",
     "text": [
      "+--------+---------+-----------+\n|database|tableName|isTemporary|\n+--------+---------+-----------+\n| default|    final|      false|\n+--------+---------+-----------+\n\n"
     ]
    }
   ],
   "source": [
    "spark.sql(\"show tables\").show()"
   ]
  },
  {
   "cell_type": "code",
   "execution_count": 0,
   "metadata": {
    "application/vnd.databricks.v1+cell": {
     "cellMetadata": {
      "byteLimit": 2048000,
      "implicitDf": true,
      "rowLimit": 10000
     },
     "inputWidgets": {},
     "nuid": "36c932fb-1297-427b-b318-ba8f9aea4900",
     "showTitle": false,
     "title": ""
    }
   },
   "outputs": [
    {
     "output_type": "display_data",
     "data": {
      "text/html": [
       "<style scoped>\n",
       "  .table-result-container {\n",
       "    max-height: 300px;\n",
       "    overflow: auto;\n",
       "  }\n",
       "  table, th, td {\n",
       "    border: 1px solid black;\n",
       "    border-collapse: collapse;\n",
       "  }\n",
       "  th, td {\n",
       "    padding: 5px;\n",
       "  }\n",
       "  th {\n",
       "    text-align: left;\n",
       "  }\n",
       "</style><div class='table-result-container'><table class='table-result'><thead style='background-color: white'><tr><th>id</th><th>first_name</th><th>dob</th><th>age</th><th>salary</th><th>department</th><th>salary_raise</th><th>salary_raise_10_percent</th><th>age_group</th></tr></thead><tbody><tr><td>5</td><td>David</td><td>1981-12-18</td><td>43</td><td>90000</td><td>HR</td><td>94500.0</td><td>99000.0</td><td>More than 40</td></tr><tr><td>3</td><td>Bob</td><td>null</td><td>-1</td><td>80000</td><td>IT</td><td>84000.0</td><td>88000.0</td><td>More than 40</td></tr><tr><td>4</td><td>Emily</td><td>1994-11-22</td><td>30</td><td>65000</td><td>Finance</td><td>68250.0</td><td>71500.0</td><td>21 to 30</td></tr><tr><td>2</td><td>Alice</td><td>1997-02-28</td><td>27</td><td>60000</td><td>HR</td><td>63000.0</td><td>66000.0</td><td>21 to 30</td></tr><tr><td>1</td><td>John</td><td>1992-05-12</td><td>32</td><td>70000</td><td>IT</td><td>73500.0</td><td>77000.0</td><td>31 to 40</td></tr><tr><td>6</td><td>Susan</td><td>1989-07-05</td><td>35</td><td>75000</td><td>Finance</td><td>78750.0</td><td>82500.0</td><td>31 to 40</td></tr><tr><td>7</td><td>Mike</td><td>1976-03-15</td><td>48</td><td>95000</td><td>IT</td><td>99750.0</td><td>104500.0</td><td>More than 40</td></tr><tr><td>10</td><td>Sophie</td><td>1992-06-30</td><td>32</td><td>62000</td><td>Finance</td><td>65100.0</td><td>68200.0</td><td>31 to 40</td></tr><tr><td>2</td><td>Alice</td><td>1997-02-28</td><td>27</td><td>90000</td><td>Finance</td><td>94500.0</td><td>99000.0</td><td>21 to 30</td></tr><tr><td>4</td><td>Emily</td><td>1994-11-22</td><td>30</td><td>70000</td><td>Finance</td><td>73500.0</td><td>77000.0</td><td>21 to 30</td></tr><tr><td>9</td><td>James</td><td>1983-10-14</td><td>41</td><td>87000</td><td>IT</td><td>91350.0</td><td>95700.0</td><td>More than 40</td></tr><tr><td>8</td><td>Lisa</td><td>1995-08-20</td><td>29</td><td>58000</td><td>HR</td><td>60900.0</td><td>63800.0</td><td>21 to 30</td></tr></tbody></table></div>"
      ]
     },
     "metadata": {
      "application/vnd.databricks.v1+output": {
       "addedWidgets": {},
       "aggData": [],
       "aggError": "",
       "aggOverflow": false,
       "aggSchema": [],
       "aggSeriesLimitReached": false,
       "aggType": "",
       "arguments": {},
       "columnCustomDisplayInfos": {},
       "data": [
        [
         5,
         "David",
         "1981-12-18",
         43,
         90000,
         "HR",
         94500.0,
         99000.0,
         "More than 40"
        ],
        [
         3,
         "Bob",
         null,
         -1,
         80000,
         "IT",
         84000.0,
         88000.0,
         "More than 40"
        ],
        [
         4,
         "Emily",
         "1994-11-22",
         30,
         65000,
         "Finance",
         68250.0,
         71500.0,
         "21 to 30"
        ],
        [
         2,
         "Alice",
         "1997-02-28",
         27,
         60000,
         "HR",
         63000.0,
         66000.0,
         "21 to 30"
        ],
        [
         1,
         "John",
         "1992-05-12",
         32,
         70000,
         "IT",
         73500.0,
         77000.0,
         "31 to 40"
        ],
        [
         6,
         "Susan",
         "1989-07-05",
         35,
         75000,
         "Finance",
         78750.0,
         82500.0,
         "31 to 40"
        ],
        [
         7,
         "Mike",
         "1976-03-15",
         48,
         95000,
         "IT",
         99750.0,
         104500.0,
         "More than 40"
        ],
        [
         10,
         "Sophie",
         "1992-06-30",
         32,
         62000,
         "Finance",
         65100.0,
         68200.0,
         "31 to 40"
        ],
        [
         2,
         "Alice",
         "1997-02-28",
         27,
         90000,
         "Finance",
         94500.0,
         99000.0,
         "21 to 30"
        ],
        [
         4,
         "Emily",
         "1994-11-22",
         30,
         70000,
         "Finance",
         73500.0,
         77000.0,
         "21 to 30"
        ],
        [
         9,
         "James",
         "1983-10-14",
         41,
         87000,
         "IT",
         91350.0,
         95700.0,
         "More than 40"
        ],
        [
         8,
         "Lisa",
         "1995-08-20",
         29,
         58000,
         "HR",
         60900.0,
         63800.0,
         "21 to 30"
        ]
       ],
       "datasetInfos": [],
       "dbfsResultPath": null,
       "isJsonSchema": true,
       "metadata": {},
       "overflow": false,
       "plotOptions": {
        "customPlotOptions": {},
        "displayType": "table",
        "pivotAggregation": null,
        "pivotColumns": null,
        "xColumns": null,
        "yColumns": null
       },
       "removedWidgets": [],
       "schema": [
        {
         "metadata": "{}",
         "name": "id",
         "type": "\"integer\""
        },
        {
         "metadata": "{}",
         "name": "first_name",
         "type": "\"string\""
        },
        {
         "metadata": "{}",
         "name": "dob",
         "type": "\"date\""
        },
        {
         "metadata": "{}",
         "name": "age",
         "type": "\"integer\""
        },
        {
         "metadata": "{}",
         "name": "salary",
         "type": "\"integer\""
        },
        {
         "metadata": "{}",
         "name": "department",
         "type": "\"string\""
        },
        {
         "metadata": "{}",
         "name": "salary_raise",
         "type": "\"double\""
        },
        {
         "metadata": "{}",
         "name": "salary_raise_10_percent",
         "type": "\"double\""
        },
        {
         "metadata": "{}",
         "name": "age_group",
         "type": "\"string\""
        }
       ],
       "type": "table"
      }
     },
     "output_type": "display_data"
    }
   ],
   "source": [
    "%sql\n",
    "select * from final"
   ]
  },
  {
   "cell_type": "code",
   "execution_count": 0,
   "metadata": {
    "application/vnd.databricks.v1+cell": {
     "cellMetadata": {
      "byteLimit": 2048000,
      "implicitDf": true,
      "rowLimit": 10000
     },
     "inputWidgets": {},
     "nuid": "06083a58-e624-4d7a-9a3e-18887ba3314c",
     "showTitle": false,
     "title": ""
    }
   },
   "outputs": [
    {
     "output_type": "display_data",
     "data": {
      "text/html": [
       "<style scoped>\n",
       "  .table-result-container {\n",
       "    max-height: 300px;\n",
       "    overflow: auto;\n",
       "  }\n",
       "  table, th, td {\n",
       "    border: 1px solid black;\n",
       "    border-collapse: collapse;\n",
       "  }\n",
       "  th, td {\n",
       "    padding: 5px;\n",
       "  }\n",
       "  th {\n",
       "    text-align: left;\n",
       "  }\n",
       "</style><div class='table-result-container'><table class='table-result'><thead style='background-color: white'><tr><th>col_name</th><th>data_type</th><th>comment</th></tr></thead><tbody><tr><td>id</td><td>int</td><td>null</td></tr><tr><td>first_name</td><td>string</td><td>null</td></tr><tr><td>dob</td><td>date</td><td>null</td></tr><tr><td>age</td><td>int</td><td>null</td></tr><tr><td>salary</td><td>int</td><td>null</td></tr><tr><td>department</td><td>string</td><td>null</td></tr><tr><td>salary_raise</td><td>double</td><td>null</td></tr><tr><td>salary_raise_10_percent</td><td>double</td><td>null</td></tr><tr><td>age_group</td><td>string</td><td>null</td></tr></tbody></table></div>"
      ]
     },
     "metadata": {
      "application/vnd.databricks.v1+output": {
       "addedWidgets": {},
       "aggData": [],
       "aggError": "",
       "aggOverflow": false,
       "aggSchema": [],
       "aggSeriesLimitReached": false,
       "aggType": "",
       "arguments": {},
       "columnCustomDisplayInfos": {},
       "data": [
        [
         "id",
         "int",
         null
        ],
        [
         "first_name",
         "string",
         null
        ],
        [
         "dob",
         "date",
         null
        ],
        [
         "age",
         "int",
         null
        ],
        [
         "salary",
         "int",
         null
        ],
        [
         "department",
         "string",
         null
        ],
        [
         "salary_raise",
         "double",
         null
        ],
        [
         "salary_raise_10_percent",
         "double",
         null
        ],
        [
         "age_group",
         "string",
         null
        ]
       ],
       "datasetInfos": [],
       "dbfsResultPath": null,
       "isJsonSchema": true,
       "metadata": {},
       "overflow": false,
       "plotOptions": {
        "customPlotOptions": {},
        "displayType": "table",
        "pivotAggregation": null,
        "pivotColumns": null,
        "xColumns": null,
        "yColumns": null
       },
       "removedWidgets": [],
       "schema": [
        {
         "metadata": "{\"comment\":\"name of the column\"}",
         "name": "col_name",
         "type": "\"string\""
        },
        {
         "metadata": "{\"comment\":\"data type of the column\"}",
         "name": "data_type",
         "type": "\"string\""
        },
        {
         "metadata": "{\"comment\":\"comment of the column\"}",
         "name": "comment",
         "type": "\"string\""
        }
       ],
       "type": "table"
      }
     },
     "output_type": "display_data"
    }
   ],
   "source": [
    "%sql \n",
    "desc table default.final;"
   ]
  },
  {
   "cell_type": "code",
   "execution_count": 0,
   "metadata": {
    "application/vnd.databricks.v1+cell": {
     "cellMetadata": {
      "byteLimit": 2048000,
      "implicitDf": true,
      "rowLimit": 10000
     },
     "inputWidgets": {},
     "nuid": "344f0173-79a3-4ebe-88d1-b2844a6ad970",
     "showTitle": false,
     "title": ""
    }
   },
   "outputs": [
    {
     "output_type": "display_data",
     "data": {
      "text/html": [
       "<style scoped>\n",
       "  .table-result-container {\n",
       "    max-height: 300px;\n",
       "    overflow: auto;\n",
       "  }\n",
       "  table, th, td {\n",
       "    border: 1px solid black;\n",
       "    border-collapse: collapse;\n",
       "  }\n",
       "  th, td {\n",
       "    padding: 5px;\n",
       "  }\n",
       "  th {\n",
       "    text-align: left;\n",
       "  }\n",
       "</style><div class='table-result-container'><table class='table-result'><thead style='background-color: white'><tr><th>id</th><th>first_name</th><th>dob</th><th>age</th><th>salary</th><th>department</th><th>salary_raise</th><th>salary_raise_10_percent</th><th>age_group</th></tr></thead><tbody><tr><td>5</td><td>David</td><td>1981-12-18</td><td>43</td><td>90000</td><td>HR</td><td>94500.0</td><td>99000.0</td><td>More than 40</td></tr><tr><td>3</td><td>Bob</td><td>null</td><td>-1</td><td>80000</td><td>IT</td><td>84000.0</td><td>88000.0</td><td>More than 40</td></tr><tr><td>4</td><td>Emily</td><td>1994-11-22</td><td>30</td><td>65000</td><td>Finance</td><td>68250.0</td><td>71500.0</td><td>21 to 30</td></tr><tr><td>2</td><td>Alice</td><td>1997-02-28</td><td>27</td><td>60000</td><td>HR</td><td>63000.0</td><td>66000.0</td><td>21 to 30</td></tr><tr><td>1</td><td>John</td><td>1992-05-12</td><td>32</td><td>70000</td><td>IT</td><td>73500.0</td><td>77000.0</td><td>31 to 40</td></tr><tr><td>6</td><td>Susan</td><td>1989-07-05</td><td>35</td><td>75000</td><td>Finance</td><td>78750.0</td><td>82500.0</td><td>31 to 40</td></tr><tr><td>7</td><td>Mike</td><td>1976-03-15</td><td>48</td><td>95000</td><td>IT</td><td>99750.0</td><td>104500.0</td><td>More than 40</td></tr><tr><td>10</td><td>Sophie</td><td>1992-06-30</td><td>32</td><td>62000</td><td>Finance</td><td>65100.0</td><td>68200.0</td><td>31 to 40</td></tr><tr><td>2</td><td>Alice</td><td>1997-02-28</td><td>27</td><td>90000</td><td>Finance</td><td>94500.0</td><td>99000.0</td><td>21 to 30</td></tr><tr><td>4</td><td>Emily</td><td>1994-11-22</td><td>30</td><td>70000</td><td>Finance</td><td>73500.0</td><td>77000.0</td><td>21 to 30</td></tr><tr><td>9</td><td>James</td><td>1983-10-14</td><td>41</td><td>87000</td><td>IT</td><td>91350.0</td><td>95700.0</td><td>More than 40</td></tr><tr><td>8</td><td>Lisa</td><td>1995-08-20</td><td>29</td><td>58000</td><td>HR</td><td>60900.0</td><td>63800.0</td><td>21 to 30</td></tr></tbody></table></div>"
      ]
     },
     "metadata": {
      "application/vnd.databricks.v1+output": {
       "addedWidgets": {},
       "aggData": [],
       "aggError": "",
       "aggOverflow": false,
       "aggSchema": [],
       "aggSeriesLimitReached": false,
       "aggType": "",
       "arguments": {},
       "columnCustomDisplayInfos": {},
       "data": [
        [
         5,
         "David",
         "1981-12-18",
         43,
         90000,
         "HR",
         94500.0,
         99000.0,
         "More than 40"
        ],
        [
         3,
         "Bob",
         null,
         -1,
         80000,
         "IT",
         84000.0,
         88000.0,
         "More than 40"
        ],
        [
         4,
         "Emily",
         "1994-11-22",
         30,
         65000,
         "Finance",
         68250.0,
         71500.0,
         "21 to 30"
        ],
        [
         2,
         "Alice",
         "1997-02-28",
         27,
         60000,
         "HR",
         63000.0,
         66000.0,
         "21 to 30"
        ],
        [
         1,
         "John",
         "1992-05-12",
         32,
         70000,
         "IT",
         73500.0,
         77000.0,
         "31 to 40"
        ],
        [
         6,
         "Susan",
         "1989-07-05",
         35,
         75000,
         "Finance",
         78750.0,
         82500.0,
         "31 to 40"
        ],
        [
         7,
         "Mike",
         "1976-03-15",
         48,
         95000,
         "IT",
         99750.0,
         104500.0,
         "More than 40"
        ],
        [
         10,
         "Sophie",
         "1992-06-30",
         32,
         62000,
         "Finance",
         65100.0,
         68200.0,
         "31 to 40"
        ],
        [
         2,
         "Alice",
         "1997-02-28",
         27,
         90000,
         "Finance",
         94500.0,
         99000.0,
         "21 to 30"
        ],
        [
         4,
         "Emily",
         "1994-11-22",
         30,
         70000,
         "Finance",
         73500.0,
         77000.0,
         "21 to 30"
        ],
        [
         9,
         "James",
         "1983-10-14",
         41,
         87000,
         "IT",
         91350.0,
         95700.0,
         "More than 40"
        ],
        [
         8,
         "Lisa",
         "1995-08-20",
         29,
         58000,
         "HR",
         60900.0,
         63800.0,
         "21 to 30"
        ]
       ],
       "datasetInfos": [],
       "dbfsResultPath": null,
       "isJsonSchema": true,
       "metadata": {},
       "overflow": false,
       "plotOptions": {
        "customPlotOptions": {},
        "displayType": "table",
        "pivotAggregation": null,
        "pivotColumns": null,
        "xColumns": null,
        "yColumns": null
       },
       "removedWidgets": [],
       "schema": [
        {
         "metadata": "{}",
         "name": "id",
         "type": "\"integer\""
        },
        {
         "metadata": "{}",
         "name": "first_name",
         "type": "\"string\""
        },
        {
         "metadata": "{}",
         "name": "dob",
         "type": "\"date\""
        },
        {
         "metadata": "{}",
         "name": "age",
         "type": "\"integer\""
        },
        {
         "metadata": "{}",
         "name": "salary",
         "type": "\"integer\""
        },
        {
         "metadata": "{}",
         "name": "department",
         "type": "\"string\""
        },
        {
         "metadata": "{}",
         "name": "salary_raise",
         "type": "\"double\""
        },
        {
         "metadata": "{}",
         "name": "salary_raise_10_percent",
         "type": "\"double\""
        },
        {
         "metadata": "{}",
         "name": "age_group",
         "type": "\"string\""
        }
       ],
       "type": "table"
      }
     },
     "output_type": "display_data"
    }
   ],
   "source": [
    "%sql\n",
    "select * from default.final"
   ]
  },
  {
   "cell_type": "code",
   "execution_count": 0,
   "metadata": {
    "application/vnd.databricks.v1+cell": {
     "cellMetadata": {
      "byteLimit": 2048000,
      "rowLimit": 10000
     },
     "inputWidgets": {},
     "nuid": "0529f93f-8630-4494-84fb-f2aecc7cda7e",
     "showTitle": false,
     "title": ""
    }
   },
   "outputs": [],
   "source": [
    "table_df = spark.table(\"final\")"
   ]
  },
  {
   "cell_type": "code",
   "execution_count": 0,
   "metadata": {
    "application/vnd.databricks.v1+cell": {
     "cellMetadata": {
      "byteLimit": 2048000,
      "rowLimit": 10000
     },
     "inputWidgets": {},
     "nuid": "71c46543-39e0-4948-945d-ecc05a27fbbd",
     "showTitle": false,
     "title": ""
    }
   },
   "outputs": [
    {
     "output_type": "stream",
     "name": "stdout",
     "output_type": "stream",
     "text": [
      "+---+----------+----------+---+------+----------+------------+-----------------------+------------+\n| id|first_name|       dob|age|salary|department|salary_raise|salary_raise_10_percent|   age_group|\n+---+----------+----------+---+------+----------+------------+-----------------------+------------+\n|  5|     David|1981-12-18| 43| 90000|        HR|     94500.0|                99000.0|More than 40|\n|  3|       Bob|      null| -1| 80000|        IT|     84000.0|                88000.0|More than 40|\n|  4|     Emily|1994-11-22| 30| 65000|   Finance|     68250.0|                71500.0|    21 to 30|\n|  2|     Alice|1997-02-28| 27| 60000|        HR|     63000.0|                66000.0|    21 to 30|\n|  1|      John|1992-05-12| 32| 70000|        IT|     73500.0|                77000.0|    31 to 40|\n|  6|     Susan|1989-07-05| 35| 75000|   Finance|     78750.0|                82500.0|    31 to 40|\n|  7|      Mike|1976-03-15| 48| 95000|        IT|     99750.0|               104500.0|More than 40|\n| 10|    Sophie|1992-06-30| 32| 62000|   Finance|     65100.0|                68200.0|    31 to 40|\n|  2|     Alice|1997-02-28| 27| 90000|   Finance|     94500.0|                99000.0|    21 to 30|\n|  4|     Emily|1994-11-22| 30| 70000|   Finance|     73500.0|                77000.0|    21 to 30|\n|  9|     James|1983-10-14| 41| 87000|        IT|     91350.0|                95700.0|More than 40|\n|  8|      Lisa|1995-08-20| 29| 58000|        HR|     60900.0|                63800.0|    21 to 30|\n+---+----------+----------+---+------+----------+------------+-----------------------+------------+\n\n"
     ]
    }
   ],
   "source": [
    "table_df.show()"
   ]
  },
  {
   "cell_type": "code",
   "execution_count": 0,
   "metadata": {
    "application/vnd.databricks.v1+cell": {
     "cellMetadata": {
      "byteLimit": 2048000,
      "rowLimit": 10000
     },
     "inputWidgets": {},
     "nuid": "8bbc79c1-6cd6-4a11-9f85-d3af0f513b3e",
     "showTitle": false,
     "title": ""
    }
   },
   "outputs": [
    {
     "output_type": "display_data",
     "data": {
      "text/html": [
       "<style scoped>\n",
       "  .table-result-container {\n",
       "    max-height: 300px;\n",
       "    overflow: auto;\n",
       "  }\n",
       "  table, th, td {\n",
       "    border: 1px solid black;\n",
       "    border-collapse: collapse;\n",
       "  }\n",
       "  th, td {\n",
       "    padding: 5px;\n",
       "  }\n",
       "  th {\n",
       "    text-align: left;\n",
       "  }\n",
       "</style><div class='table-result-container'><table class='table-result'><thead style='background-color: white'><tr><th>id</th><th>first_name</th><th>dob</th><th>age</th><th>salary</th><th>department</th><th>salary_raise</th><th>salary_raise_10_percent</th><th>age_group</th></tr></thead><tbody><tr><td>5</td><td>David</td><td>1981-12-18</td><td>43</td><td>90000</td><td>HR</td><td>94500.0</td><td>99000.0</td><td>More than 40</td></tr><tr><td>3</td><td>Bob</td><td>null</td><td>-1</td><td>80000</td><td>IT</td><td>84000.0</td><td>88000.0</td><td>More than 40</td></tr><tr><td>4</td><td>Emily</td><td>1994-11-22</td><td>30</td><td>65000</td><td>Finance</td><td>68250.0</td><td>71500.0</td><td>21 to 30</td></tr><tr><td>2</td><td>Alice</td><td>1997-02-28</td><td>27</td><td>60000</td><td>HR</td><td>63000.0</td><td>66000.0</td><td>21 to 30</td></tr><tr><td>1</td><td>John</td><td>1992-05-12</td><td>32</td><td>70000</td><td>IT</td><td>73500.0</td><td>77000.0</td><td>31 to 40</td></tr><tr><td>6</td><td>Susan</td><td>1989-07-05</td><td>35</td><td>75000</td><td>Finance</td><td>78750.0</td><td>82500.0</td><td>31 to 40</td></tr><tr><td>7</td><td>Mike</td><td>1976-03-15</td><td>48</td><td>95000</td><td>IT</td><td>99750.0</td><td>104500.0</td><td>More than 40</td></tr><tr><td>10</td><td>Sophie</td><td>1992-06-30</td><td>32</td><td>62000</td><td>Finance</td><td>65100.0</td><td>68200.0</td><td>31 to 40</td></tr><tr><td>2</td><td>Alice</td><td>1997-02-28</td><td>27</td><td>90000</td><td>Finance</td><td>94500.0</td><td>99000.0</td><td>21 to 30</td></tr><tr><td>4</td><td>Emily</td><td>1994-11-22</td><td>30</td><td>70000</td><td>Finance</td><td>73500.0</td><td>77000.0</td><td>21 to 30</td></tr><tr><td>9</td><td>James</td><td>1983-10-14</td><td>41</td><td>87000</td><td>IT</td><td>91350.0</td><td>95700.0</td><td>More than 40</td></tr><tr><td>8</td><td>Lisa</td><td>1995-08-20</td><td>29</td><td>58000</td><td>HR</td><td>60900.0</td><td>63800.0</td><td>21 to 30</td></tr></tbody></table></div>"
      ]
     },
     "metadata": {
      "application/vnd.databricks.v1+output": {
       "addedWidgets": {},
       "aggData": [],
       "aggError": "",
       "aggOverflow": false,
       "aggSchema": [],
       "aggSeriesLimitReached": false,
       "aggType": "",
       "arguments": {},
       "columnCustomDisplayInfos": {},
       "data": [
        [
         5,
         "David",
         "1981-12-18",
         43,
         90000,
         "HR",
         94500.0,
         99000.0,
         "More than 40"
        ],
        [
         3,
         "Bob",
         null,
         -1,
         80000,
         "IT",
         84000.0,
         88000.0,
         "More than 40"
        ],
        [
         4,
         "Emily",
         "1994-11-22",
         30,
         65000,
         "Finance",
         68250.0,
         71500.0,
         "21 to 30"
        ],
        [
         2,
         "Alice",
         "1997-02-28",
         27,
         60000,
         "HR",
         63000.0,
         66000.0,
         "21 to 30"
        ],
        [
         1,
         "John",
         "1992-05-12",
         32,
         70000,
         "IT",
         73500.0,
         77000.0,
         "31 to 40"
        ],
        [
         6,
         "Susan",
         "1989-07-05",
         35,
         75000,
         "Finance",
         78750.0,
         82500.0,
         "31 to 40"
        ],
        [
         7,
         "Mike",
         "1976-03-15",
         48,
         95000,
         "IT",
         99750.0,
         104500.0,
         "More than 40"
        ],
        [
         10,
         "Sophie",
         "1992-06-30",
         32,
         62000,
         "Finance",
         65100.0,
         68200.0,
         "31 to 40"
        ],
        [
         2,
         "Alice",
         "1997-02-28",
         27,
         90000,
         "Finance",
         94500.0,
         99000.0,
         "21 to 30"
        ],
        [
         4,
         "Emily",
         "1994-11-22",
         30,
         70000,
         "Finance",
         73500.0,
         77000.0,
         "21 to 30"
        ],
        [
         9,
         "James",
         "1983-10-14",
         41,
         87000,
         "IT",
         91350.0,
         95700.0,
         "More than 40"
        ],
        [
         8,
         "Lisa",
         "1995-08-20",
         29,
         58000,
         "HR",
         60900.0,
         63800.0,
         "21 to 30"
        ]
       ],
       "datasetInfos": [],
       "dbfsResultPath": null,
       "isJsonSchema": true,
       "metadata": {},
       "overflow": false,
       "plotOptions": {
        "customPlotOptions": {},
        "displayType": "table",
        "pivotAggregation": null,
        "pivotColumns": null,
        "xColumns": null,
        "yColumns": null
       },
       "removedWidgets": [],
       "schema": [
        {
         "metadata": "{}",
         "name": "id",
         "type": "\"integer\""
        },
        {
         "metadata": "{}",
         "name": "first_name",
         "type": "\"string\""
        },
        {
         "metadata": "{}",
         "name": "dob",
         "type": "\"date\""
        },
        {
         "metadata": "{}",
         "name": "age",
         "type": "\"integer\""
        },
        {
         "metadata": "{}",
         "name": "salary",
         "type": "\"integer\""
        },
        {
         "metadata": "{}",
         "name": "department",
         "type": "\"string\""
        },
        {
         "metadata": "{}",
         "name": "salary_raise",
         "type": "\"double\""
        },
        {
         "metadata": "{}",
         "name": "salary_raise_10_percent",
         "type": "\"double\""
        },
        {
         "metadata": "{}",
         "name": "age_group",
         "type": "\"string\""
        }
       ],
       "type": "table"
      }
     },
     "output_type": "display_data"
    }
   ],
   "source": [
    "display(table_df)"
   ]
  },
  {
   "cell_type": "code",
   "execution_count": 0,
   "metadata": {
    "application/vnd.databricks.v1+cell": {
     "cellMetadata": {},
     "inputWidgets": {},
     "nuid": "4eaef878-86bf-4350-9184-019191c2067a",
     "showTitle": false,
     "title": ""
    }
   },
   "outputs": [],
   "source": []
  }
 ],
 "metadata": {
  "application/vnd.databricks.v1+notebook": {
   "dashboards": [],
   "language": "python",
   "notebookMetadata": {
    "mostRecentlyExecutedCommandWithImplicitDF": {
     "commandId": 2845221430951451,
     "dataframes": [
      "_sqldf"
     ]
    },
    "pythonIndentUnit": 4
   },
   "notebookName": "pyspark_csv",
   "widgets": {}
  }
 },
 "nbformat": 4,
 "nbformat_minor": 0
}
