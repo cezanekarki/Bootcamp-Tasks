{
 "cells": [
  {
   "cell_type": "code",
   "execution_count": 0,
   "metadata": {
    "application/vnd.databricks.v1+cell": {
     "cellMetadata": {
      "byteLimit": 2048000,
      "rowLimit": 10000
     },
     "inputWidgets": {},
     "nuid": "b5bec2fb-4f0b-4257-b24a-13a91e97f410",
     "showTitle": false,
     "title": ""
    }
   },
   "outputs": [],
   "source": [
    "from pyspark.sql import SparkSession\n",
    "sc = SparkSession.builder.getOrCreate()"
   ]
  },
  {
   "cell_type": "code",
   "execution_count": 0,
   "metadata": {
    "application/vnd.databricks.v1+cell": {
     "cellMetadata": {
      "byteLimit": 2048000,
      "rowLimit": 10000
     },
     "inputWidgets": {},
     "nuid": "7c30c8b7-f401-4aa6-96cd-efe6d8bec940",
     "showTitle": false,
     "title": ""
    }
   },
   "outputs": [
    {
     "output_type": "stream",
     "name": "stdout",
     "output_type": "stream",
     "text": [
      "+---+-----+----------+----+------+----------+\n| id| name|       dob| age|salary|department|\n+---+-----+----------+----+------+----------+\n|  1| John|1992-05-12|  30| 70000|        IT|\n|  2|Alice|1997-02-28|  25| 60000|        HR|\n|  3|  Bob|      null|null| 80000|        IT|\n|  4|Emily|1994-11-22|  28| 65000|   Finance|\n+---+-----+----------+----+------+----------+\n\n"
     ]
    }
   ],
   "source": [
    "df_csv.show()"
   ]
  },
  {
   "cell_type": "code",
   "execution_count": 0,
   "metadata": {
    "application/vnd.databricks.v1+cell": {
     "cellMetadata": {
      "byteLimit": 2048000,
      "rowLimit": 10000
     },
     "inputWidgets": {},
     "nuid": "682b677d-db65-4452-b8f3-acaa942fcb17",
     "showTitle": false,
     "title": ""
    }
   },
   "outputs": [],
   "source": [
    "# df_csv = spark.read.format(\"csv\").option(\"header\",True).load(\"dbfs:///FileStore/tables/csv/batch.csv\")\n",
    "df_csv=spark.read.format(\"csv\").schema(schema).option(\"header\",True).load(\"dbfs:/FileStore/tables/csv/batch.csv\")"
   ]
  },
  {
   "cell_type": "code",
   "execution_count": 0,
   "metadata": {
    "application/vnd.databricks.v1+cell": {
     "cellMetadata": {
      "byteLimit": 2048000,
      "rowLimit": 10000
     },
     "inputWidgets": {},
     "nuid": "3d07a52c-f921-4e29-a7d0-2072ad8614c4",
     "showTitle": false,
     "title": ""
    }
   },
   "outputs": [],
   "source": [
    "from pyspark.sql.types import StructType, StructField, IntegerType, StringType, DateType"
   ]
  },
  {
   "cell_type": "code",
   "execution_count": 0,
   "metadata": {
    "application/vnd.databricks.v1+cell": {
     "cellMetadata": {
      "byteLimit": 2048000,
      "rowLimit": 10000
     },
     "inputWidgets": {},
     "nuid": "2a985e84-a1d8-4ad6-a03c-9470f4c57be1",
     "showTitle": false,
     "title": ""
    }
   },
   "outputs": [
    {
     "output_type": "stream",
     "name": "stdout",
     "output_type": "stream",
     "text": [
      "root\n |-- id: integer (nullable = true)\n |-- name: string (nullable = true)\n |-- dob: date (nullable = true)\n |-- age: integer (nullable = true)\n |-- salary: integer (nullable = true)\n |-- department: string (nullable = true)\n\n"
     ]
    }
   ],
   "source": [
    "df_csv.printSchema()"
   ]
  },
  {
   "cell_type": "code",
   "execution_count": 0,
   "metadata": {
    "application/vnd.databricks.v1+cell": {
     "cellMetadata": {
      "byteLimit": 2048000,
      "rowLimit": 10000
     },
     "inputWidgets": {},
     "nuid": "732d7707-e9ea-4b01-8e77-57310f79b22e",
     "showTitle": false,
     "title": ""
    }
   },
   "outputs": [],
   "source": [
    "schema = StructType([\n",
    "    StructField(\"id\", IntegerType()),\n",
    "    StructField(\"name\", StringType()),\n",
    "    StructField(\"dob\", DateType()),\n",
    "    StructField(\"age\",IntegerType()),\n",
    "    StructField(\"salary\", IntegerType()),\n",
    "    StructField(\"department\", StringType()),\n",
    "])"
   ]
  },
  {
   "cell_type": "code",
   "execution_count": 0,
   "metadata": {
    "application/vnd.databricks.v1+cell": {
     "cellMetadata": {
      "byteLimit": 2048000,
      "rowLimit": 10000
     },
     "inputWidgets": {},
     "nuid": "f6357833-3836-478f-95fd-d48f0702b333",
     "showTitle": false,
     "title": ""
    }
   },
   "outputs": [
    {
     "output_type": "stream",
     "name": "stdout",
     "output_type": "stream",
     "text": [
      "+---+-----+----------+----+------+----------+\n| id| name|       dob| age|salary|department|\n+---+-----+----------+----+------+----------+\n|  1| John|1992-05-12|  30| 70000|        IT|\n|  2|Alice|1997-02-28|  25| 60000|        HR|\n|  3|  Bob|      null|null| 80000|        IT|\n|  4|Emily|1994-11-22|  28| 65000|   Finance|\n+---+-----+----------+----+------+----------+\n\n"
     ]
    }
   ],
   "source": [
    "df_csv.show()"
   ]
  },
  {
   "cell_type": "code",
   "execution_count": 0,
   "metadata": {
    "application/vnd.databricks.v1+cell": {
     "cellMetadata": {
      "byteLimit": 2048000,
      "rowLimit": 10000
     },
     "inputWidgets": {},
     "nuid": "94de6b9e-7c34-41c9-871f-4b5c09f16457",
     "showTitle": false,
     "title": ""
    }
   },
   "outputs": [],
   "source": [
    "schema = StructType([\n",
    "    StructField(\"id\", IntegerType()),\n",
    "    StructField(\"name\", StringType()),\n",
    "    StructField(\"dob\", DateType()),\n",
    "    StructField(\"age\",IntegerType()),\n",
    "    StructField(\"salary\", IntegerType()),\n",
    "    StructField(\"department\", StringType()),\n",
    "])"
   ]
  },
  {
   "cell_type": "code",
   "execution_count": 0,
   "metadata": {
    "application/vnd.databricks.v1+cell": {
     "cellMetadata": {
      "byteLimit": 2048000,
      "rowLimit": 10000
     },
     "inputWidgets": {},
     "nuid": "5dbfc56c-f4dd-48a4-aa3a-3d1a33d3a09a",
     "showTitle": false,
     "title": ""
    }
   },
   "outputs": [],
   "source": [
    "# df_json = spark.read.format(\"json\").load(\"dbfs:/FileStore/tables/json\")\n",
    "df_json=spark.read.format(\"json\").schema(schema).load(\"dbfs:/FileStore/tables/json\")"
   ]
  },
  {
   "cell_type": "code",
   "execution_count": 0,
   "metadata": {
    "application/vnd.databricks.v1+cell": {
     "cellMetadata": {
      "byteLimit": 2048000,
      "rowLimit": 10000
     },
     "inputWidgets": {},
     "nuid": "bdb151d5-75be-4d0c-a9b4-5f071ab8e128",
     "showTitle": false,
     "title": ""
    }
   },
   "outputs": [
    {
     "output_type": "stream",
     "name": "stdout",
     "output_type": "stream",
     "text": [
      "root\n |-- id: integer (nullable = true)\n |-- name: string (nullable = true)\n |-- dob: date (nullable = true)\n |-- age: integer (nullable = true)\n |-- salary: integer (nullable = true)\n |-- department: string (nullable = true)\n\n"
     ]
    }
   ],
   "source": [
    "df_json.printSchema()"
   ]
  },
  {
   "cell_type": "code",
   "execution_count": 0,
   "metadata": {
    "application/vnd.databricks.v1+cell": {
     "cellMetadata": {
      "byteLimit": 2048000,
      "rowLimit": 10000
     },
     "inputWidgets": {},
     "nuid": "e8ec33c3-274d-48fe-9068-db8b2232befd",
     "showTitle": false,
     "title": ""
    }
   },
   "outputs": [
    {
     "output_type": "stream",
     "name": "stdout",
     "output_type": "stream",
     "text": [
      "+---+------+----------+----+------+----------+\n| id|  name|       dob| age|salary|department|\n+---+------+----------+----+------+----------+\n|  1|  John|1992-05-12|  30| 70000|        IT|\n|  2| Alice|1997-02-28|  25| 60000|        HR|\n|  3|   Bob|      null|null| 80000|        IT|\n|  4| Emily|1994-11-22|  28| 65000|   Finance|\n|  5| David|1981-12-18|  41| 90000|        HR|\n|  6| Susan|1989-07-05|  33| 75000|   Finance|\n|  7|  Mike|1976-03-15|  46| 95000|        IT|\n|  1|  John|1992-05-12|  30| 70000|        IT|\n|  2| Alice|1997-02-28|  25| 60000|        HR|\n|  3|   Bob|      null|null| 80000|        IT|\n|  4| Emily|1994-11-22|  28| 65000|   Finance|\n|  5| David|1981-12-18|  41| 90000|        HR|\n|  6| Susan|1989-07-05|  33| 75000|   Finance|\n|  7|  Mike|1976-03-15|  46| 95000|        IT|\n| 10|Sophie|1992-06-30|  30| 62000|   Finance|\n| 10|Sophie|1992-06-30|  30| 62000|   Finance|\n|  2| Alice|1997-02-28|  25| 90000|   Finance|\n|  2| Alice|1997-02-28|  25| 90000|   Finance|\n|  4| Emily|1994-11-22|  28| 70000|   Finance|\n|  4| Emily|1994-11-22|  28| 70000|   Finance|\n+---+------+----------+----+------+----------+\nonly showing top 20 rows\n\n"
     ]
    }
   ],
   "source": [
    "df_json.show()"
   ]
  },
  {
   "cell_type": "code",
   "execution_count": 0,
   "metadata": {
    "application/vnd.databricks.v1+cell": {
     "cellMetadata": {
      "byteLimit": 2048000,
      "rowLimit": 10000
     },
     "inputWidgets": {},
     "nuid": "f2c21761-52f5-4dd9-9e60-6bd96266d633",
     "showTitle": false,
     "title": ""
    }
   },
   "outputs": [
    {
     "output_type": "stream",
     "name": "stdout",
     "output_type": "stream",
     "text": [
      "+---+------+----------+----+------+----------+\n| id|  name|       dob| age|salary|department|\n+---+------+----------+----+------+----------+\n|  1|  John|1992-05-12|  30| 70000|        IT|\n|  2| Alice|1997-02-28|  25| 60000|        HR|\n|  3|   Bob|      null|null| 80000|        IT|\n|  4| Emily|1994-11-22|  28| 65000|   Finance|\n|  5| David|1981-12-18|  41| 90000|        HR|\n|  6| Susan|1989-07-05|  33| 75000|   Finance|\n|  7|  Mike|1976-03-15|  46| 95000|        IT|\n|  1|  John|1992-05-12|  30| 70000|        IT|\n|  2| Alice|1997-02-28|  25| 60000|        HR|\n|  3|   Bob|      null|null| 80000|        IT|\n|  4| Emily|1994-11-22|  28| 65000|   Finance|\n|  5| David|1981-12-18|  41| 90000|        HR|\n|  6| Susan|1989-07-05|  33| 75000|   Finance|\n|  7|  Mike|1976-03-15|  46| 95000|        IT|\n| 10|Sophie|1992-06-30|  30| 62000|   Finance|\n| 10|Sophie|1992-06-30|  30| 62000|   Finance|\n|  2| Alice|1997-02-28|  25| 90000|   Finance|\n|  2| Alice|1997-02-28|  25| 90000|   Finance|\n|  4| Emily|1994-11-22|  28| 70000|   Finance|\n|  4| Emily|1994-11-22|  28| 70000|   Finance|\n+---+------+----------+----+------+----------+\nonly showing top 20 rows\n\n"
     ]
    }
   ],
   "source": [
    "#union\n",
    "df= df_json.union(df_csv)\n",
    "df.show()"
   ]
  },
  {
   "cell_type": "code",
   "execution_count": 0,
   "metadata": {
    "application/vnd.databricks.v1+cell": {
     "cellMetadata": {
      "byteLimit": 2048000,
      "rowLimit": 10000
     },
     "inputWidgets": {},
     "nuid": "46b5aab3-6642-476f-b3e3-f1194966dc88",
     "showTitle": false,
     "title": ""
    }
   },
   "outputs": [],
   "source": [
    "from pyspark.sql import Window"
   ]
  },
  {
   "cell_type": "code",
   "execution_count": 0,
   "metadata": {
    "application/vnd.databricks.v1+cell": {
     "cellMetadata": {
      "byteLimit": 2048000,
      "rowLimit": 10000
     },
     "inputWidgets": {},
     "nuid": "9341aa3c-0c2a-480a-bf0b-9776ed5bc5c6",
     "showTitle": false,
     "title": ""
    }
   },
   "outputs": [],
   "source": [
    "from pyspark.sql import functions as F\n"
   ]
  },
  {
   "cell_type": "code",
   "execution_count": 0,
   "metadata": {
    "application/vnd.databricks.v1+cell": {
     "cellMetadata": {
      "byteLimit": 2048000,
      "rowLimit": 10000
     },
     "inputWidgets": {},
     "nuid": "570d7d6c-4f25-4c7b-b34b-6c85edb57a93",
     "showTitle": false,
     "title": ""
    }
   },
   "outputs": [
    {
     "output_type": "display_data",
     "data": {
      "text/html": [
       "<style scoped>\n",
       "  .table-result-container {\n",
       "    max-height: 300px;\n",
       "    overflow: auto;\n",
       "  }\n",
       "  table, th, td {\n",
       "    border: 1px solid black;\n",
       "    border-collapse: collapse;\n",
       "  }\n",
       "  th, td {\n",
       "    padding: 5px;\n",
       "  }\n",
       "  th {\n",
       "    text-align: left;\n",
       "  }\n",
       "</style><div class='table-result-container'><table class='table-result'><thead style='background-color: white'><tr><th>id</th><th>name</th><th>dob</th><th>age</th><th>salary</th><th>department</th><th>is_duplicate</th><th>mean_salary</th><th>is_above_mean</th><th>is_above_mean_all</th></tr></thead><tbody><tr><td>1</td><td>John</td><td>1992-05-12</td><td>30</td><td>70000</td><td>IT</td><td>false</td><td>79500.0</td><td>false</td><td>false</td></tr><tr><td>1</td><td>John</td><td>1992-05-12</td><td>30</td><td>70000</td><td>IT</td><td>true</td><td>79500.0</td><td>false</td><td>false</td></tr><tr><td>1</td><td>John</td><td>1992-05-12</td><td>30</td><td>70000</td><td>IT</td><td>true</td><td>79500.0</td><td>false</td><td>false</td></tr><tr><td>1</td><td>John</td><td>1992-05-12</td><td>30</td><td>70000</td><td>IT</td><td>true</td><td>79500.0</td><td>false</td><td>false</td></tr><tr><td>1</td><td>John</td><td>1992-05-12</td><td>30</td><td>70000</td><td>IT</td><td>true</td><td>79500.0</td><td>false</td><td>false</td></tr><tr><td>2</td><td>Alice</td><td>1997-02-28</td><td>25</td><td>90000</td><td>Finance</td><td>false</td><td>71727.27272727272</td><td>true</td><td>true</td></tr><tr><td>2</td><td>Alice</td><td>1997-02-28</td><td>25</td><td>90000</td><td>Finance</td><td>true</td><td>71727.27272727272</td><td>true</td><td>true</td></tr><tr><td>2</td><td>Alice</td><td>1997-02-28</td><td>25</td><td>60000</td><td>HR</td><td>true</td><td>68000.0</td><td>false</td><td>false</td></tr><tr><td>2</td><td>Alice</td><td>1997-02-28</td><td>25</td><td>60000</td><td>HR</td><td>true</td><td>68000.0</td><td>false</td><td>false</td></tr><tr><td>2</td><td>Alice</td><td>1997-02-28</td><td>25</td><td>60000</td><td>HR</td><td>true</td><td>68000.0</td><td>false</td><td>false</td></tr><tr><td>3</td><td>Bob</td><td>null</td><td>null</td><td>80000</td><td>IT</td><td>false</td><td>79500.0</td><td>true</td><td>true</td></tr><tr><td>3</td><td>Bob</td><td>null</td><td>null</td><td>80000</td><td>IT</td><td>true</td><td>79500.0</td><td>true</td><td>true</td></tr><tr><td>3</td><td>Bob</td><td>null</td><td>null</td><td>80000</td><td>IT</td><td>true</td><td>79500.0</td><td>true</td><td>true</td></tr><tr><td>4</td><td>Emily</td><td>1994-11-22</td><td>28</td><td>65000</td><td>Finance</td><td>false</td><td>71727.27272727272</td><td>false</td><td>false</td></tr><tr><td>4</td><td>Emily</td><td>1994-11-22</td><td>28</td><td>65000</td><td>Finance</td><td>true</td><td>71727.27272727272</td><td>false</td><td>false</td></tr><tr><td>4</td><td>Emily</td><td>1994-11-22</td><td>28</td><td>70000</td><td>Finance</td><td>true</td><td>71727.27272727272</td><td>false</td><td>false</td></tr><tr><td>4</td><td>Emily</td><td>1994-11-22</td><td>28</td><td>70000</td><td>Finance</td><td>true</td><td>71727.27272727272</td><td>false</td><td>false</td></tr><tr><td>4</td><td>Emily</td><td>1994-11-22</td><td>28</td><td>65000</td><td>Finance</td><td>true</td><td>71727.27272727272</td><td>false</td><td>false</td></tr><tr><td>5</td><td>David</td><td>1981-12-18</td><td>41</td><td>90000</td><td>HR</td><td>false</td><td>68000.0</td><td>true</td><td>true</td></tr><tr><td>5</td><td>David</td><td>1981-12-18</td><td>41</td><td>90000</td><td>HR</td><td>true</td><td>68000.0</td><td>true</td><td>true</td></tr><tr><td>6</td><td>Susan</td><td>1989-07-05</td><td>33</td><td>75000</td><td>Finance</td><td>false</td><td>71727.27272727272</td><td>true</td><td>true</td></tr><tr><td>6</td><td>Susan</td><td>1989-07-05</td><td>33</td><td>75000</td><td>Finance</td><td>true</td><td>71727.27272727272</td><td>true</td><td>true</td></tr><tr><td>7</td><td>Mike</td><td>1976-03-15</td><td>46</td><td>95000</td><td>IT</td><td>false</td><td>79500.0</td><td>true</td><td>true</td></tr><tr><td>7</td><td>Mike</td><td>1976-03-15</td><td>46</td><td>95000</td><td>IT</td><td>true</td><td>79500.0</td><td>true</td><td>true</td></tr><tr><td>8</td><td>Lisa</td><td>1995-08-20</td><td>27</td><td>58000</td><td>HR</td><td>false</td><td>68000.0</td><td>false</td><td>false</td></tr><tr><td>8</td><td>Lisa</td><td>1995-08-20</td><td>27</td><td>58000</td><td>HR</td><td>true</td><td>68000.0</td><td>false</td><td>false</td></tr><tr><td>9</td><td>James</td><td>1983-10-14</td><td>39</td><td>87000</td><td>IT</td><td>false</td><td>79500.0</td><td>true</td><td>true</td></tr><tr><td>9</td><td>James</td><td>1983-10-14</td><td>39</td><td>87000</td><td>IT</td><td>true</td><td>79500.0</td><td>true</td><td>true</td></tr><tr><td>10</td><td>Sophie</td><td>1992-06-30</td><td>30</td><td>62000</td><td>Finance</td><td>false</td><td>71727.27272727272</td><td>false</td><td>false</td></tr><tr><td>10</td><td>Sophie</td><td>1992-06-30</td><td>30</td><td>62000</td><td>Finance</td><td>true</td><td>71727.27272727272</td><td>false</td><td>false</td></tr></tbody></table></div>"
      ]
     },
     "metadata": {
      "application/vnd.databricks.v1+output": {
       "addedWidgets": {},
       "aggData": [],
       "aggError": "",
       "aggOverflow": false,
       "aggSchema": [],
       "aggSeriesLimitReached": false,
       "aggType": "",
       "arguments": {},
       "columnCustomDisplayInfos": {},
       "data": [
        [
         1,
         "John",
         "1992-05-12",
         30,
         70000,
         "IT",
         false,
         79500.0,
         false,
         false
        ],
        [
         1,
         "John",
         "1992-05-12",
         30,
         70000,
         "IT",
         true,
         79500.0,
         false,
         false
        ],
        [
         1,
         "John",
         "1992-05-12",
         30,
         70000,
         "IT",
         true,
         79500.0,
         false,
         false
        ],
        [
         1,
         "John",
         "1992-05-12",
         30,
         70000,
         "IT",
         true,
         79500.0,
         false,
         false
        ],
        [
         1,
         "John",
         "1992-05-12",
         30,
         70000,
         "IT",
         true,
         79500.0,
         false,
         false
        ],
        [
         2,
         "Alice",
         "1997-02-28",
         25,
         90000,
         "Finance",
         false,
         71727.27272727272,
         true,
         true
        ],
        [
         2,
         "Alice",
         "1997-02-28",
         25,
         90000,
         "Finance",
         true,
         71727.27272727272,
         true,
         true
        ],
        [
         2,
         "Alice",
         "1997-02-28",
         25,
         60000,
         "HR",
         true,
         68000.0,
         false,
         false
        ],
        [
         2,
         "Alice",
         "1997-02-28",
         25,
         60000,
         "HR",
         true,
         68000.0,
         false,
         false
        ],
        [
         2,
         "Alice",
         "1997-02-28",
         25,
         60000,
         "HR",
         true,
         68000.0,
         false,
         false
        ],
        [
         3,
         "Bob",
         null,
         null,
         80000,
         "IT",
         false,
         79500.0,
         true,
         true
        ],
        [
         3,
         "Bob",
         null,
         null,
         80000,
         "IT",
         true,
         79500.0,
         true,
         true
        ],
        [
         3,
         "Bob",
         null,
         null,
         80000,
         "IT",
         true,
         79500.0,
         true,
         true
        ],
        [
         4,
         "Emily",
         "1994-11-22",
         28,
         65000,
         "Finance",
         false,
         71727.27272727272,
         false,
         false
        ],
        [
         4,
         "Emily",
         "1994-11-22",
         28,
         65000,
         "Finance",
         true,
         71727.27272727272,
         false,
         false
        ],
        [
         4,
         "Emily",
         "1994-11-22",
         28,
         70000,
         "Finance",
         true,
         71727.27272727272,
         false,
         false
        ],
        [
         4,
         "Emily",
         "1994-11-22",
         28,
         70000,
         "Finance",
         true,
         71727.27272727272,
         false,
         false
        ],
        [
         4,
         "Emily",
         "1994-11-22",
         28,
         65000,
         "Finance",
         true,
         71727.27272727272,
         false,
         false
        ],
        [
         5,
         "David",
         "1981-12-18",
         41,
         90000,
         "HR",
         false,
         68000.0,
         true,
         true
        ],
        [
         5,
         "David",
         "1981-12-18",
         41,
         90000,
         "HR",
         true,
         68000.0,
         true,
         true
        ],
        [
         6,
         "Susan",
         "1989-07-05",
         33,
         75000,
         "Finance",
         false,
         71727.27272727272,
         true,
         true
        ],
        [
         6,
         "Susan",
         "1989-07-05",
         33,
         75000,
         "Finance",
         true,
         71727.27272727272,
         true,
         true
        ],
        [
         7,
         "Mike",
         "1976-03-15",
         46,
         95000,
         "IT",
         false,
         79500.0,
         true,
         true
        ],
        [
         7,
         "Mike",
         "1976-03-15",
         46,
         95000,
         "IT",
         true,
         79500.0,
         true,
         true
        ],
        [
         8,
         "Lisa",
         "1995-08-20",
         27,
         58000,
         "HR",
         false,
         68000.0,
         false,
         false
        ],
        [
         8,
         "Lisa",
         "1995-08-20",
         27,
         58000,
         "HR",
         true,
         68000.0,
         false,
         false
        ],
        [
         9,
         "James",
         "1983-10-14",
         39,
         87000,
         "IT",
         false,
         79500.0,
         true,
         true
        ],
        [
         9,
         "James",
         "1983-10-14",
         39,
         87000,
         "IT",
         true,
         79500.0,
         true,
         true
        ],
        [
         10,
         "Sophie",
         "1992-06-30",
         30,
         62000,
         "Finance",
         false,
         71727.27272727272,
         false,
         false
        ],
        [
         10,
         "Sophie",
         "1992-06-30",
         30,
         62000,
         "Finance",
         true,
         71727.27272727272,
         false,
         false
        ]
       ],
       "datasetInfos": [],
       "dbfsResultPath": null,
       "isJsonSchema": true,
       "metadata": {},
       "overflow": false,
       "plotOptions": {
        "customPlotOptions": {},
        "displayType": "table",
        "pivotAggregation": null,
        "pivotColumns": null,
        "xColumns": null,
        "yColumns": null
       },
       "removedWidgets": [],
       "schema": [
        {
         "metadata": "{}",
         "name": "id",
         "type": "\"integer\""
        },
        {
         "metadata": "{}",
         "name": "name",
         "type": "\"string\""
        },
        {
         "metadata": "{}",
         "name": "dob",
         "type": "\"date\""
        },
        {
         "metadata": "{}",
         "name": "age",
         "type": "\"integer\""
        },
        {
         "metadata": "{}",
         "name": "salary",
         "type": "\"integer\""
        },
        {
         "metadata": "{}",
         "name": "department",
         "type": "\"string\""
        },
        {
         "metadata": "{}",
         "name": "is_duplicate",
         "type": "\"boolean\""
        },
        {
         "metadata": "{}",
         "name": "mean_salary",
         "type": "\"double\""
        },
        {
         "metadata": "{}",
         "name": "is_above_mean",
         "type": "\"boolean\""
        },
        {
         "metadata": "{}",
         "name": "is_above_mean_all",
         "type": "\"boolean\""
        }
       ],
       "type": "table"
      }
     },
     "output_type": "display_data"
    }
   ],
   "source": [
    "#repeated 2 times then first value  should be true and remaining rows should be false\n",
    "\n",
    "#window spec variable banayo, tesma partation id ko basis ma \n",
    "window_spec = Window.partitionBy(\"id\").orderBy(\"dob\")\n",
    "\n",
    "#is dublicate   \n",
    "df = df.withColumn(\n",
    "    \"is_duplicate\",\n",
    "   ~(F.row_number().over(window_spec) == 1)\n",
    ")\n",
    "\n",
    "df.display()"
   ]
  },
  {
   "cell_type": "code",
   "execution_count": 0,
   "metadata": {
    "application/vnd.databricks.v1+cell": {
     "cellMetadata": {
      "byteLimit": 2048000,
      "rowLimit": 10000
     },
     "inputWidgets": {},
     "nuid": "01c61c1e-632f-4afa-8a6c-779a039c84be",
     "showTitle": false,
     "title": ""
    }
   },
   "outputs": [
    {
     "output_type": "display_data",
     "data": {
      "text/html": [
       "<style scoped>\n",
       "  .table-result-container {\n",
       "    max-height: 300px;\n",
       "    overflow: auto;\n",
       "  }\n",
       "  table, th, td {\n",
       "    border: 1px solid black;\n",
       "    border-collapse: collapse;\n",
       "  }\n",
       "  th, td {\n",
       "    padding: 5px;\n",
       "  }\n",
       "  th {\n",
       "    text-align: left;\n",
       "  }\n",
       "</style><div class='table-result-container'><table class='table-result'><thead style='background-color: white'><tr><th>id</th><th>name</th><th>dob</th><th>age</th><th>salary</th><th>department</th><th>is_duplicate</th><th>mean_salary</th><th>is_above_mean</th></tr></thead><tbody><tr><td>2</td><td>Alice</td><td>1997-02-28</td><td>25</td><td>90000</td><td>Finance</td><td>false</td><td>71727.27272727272</td><td>true</td></tr><tr><td>2</td><td>Alice</td><td>1997-02-28</td><td>25</td><td>90000</td><td>Finance</td><td>false</td><td>71727.27272727272</td><td>true</td></tr><tr><td>4</td><td>Emily</td><td>1994-11-22</td><td>28</td><td>65000</td><td>Finance</td><td>true</td><td>71727.27272727272</td><td>false</td></tr><tr><td>4</td><td>Emily</td><td>1994-11-22</td><td>28</td><td>65000</td><td>Finance</td><td>false</td><td>71727.27272727272</td><td>false</td></tr><tr><td>4</td><td>Emily</td><td>1994-11-22</td><td>28</td><td>70000</td><td>Finance</td><td>false</td><td>71727.27272727272</td><td>false</td></tr><tr><td>4</td><td>Emily</td><td>1994-11-22</td><td>28</td><td>70000</td><td>Finance</td><td>false</td><td>71727.27272727272</td><td>false</td></tr><tr><td>4</td><td>Emily</td><td>1994-11-22</td><td>28</td><td>65000</td><td>Finance</td><td>false</td><td>71727.27272727272</td><td>false</td></tr><tr><td>6</td><td>Susan</td><td>1989-07-05</td><td>33</td><td>75000</td><td>Finance</td><td>true</td><td>71727.27272727272</td><td>true</td></tr><tr><td>6</td><td>Susan</td><td>1989-07-05</td><td>33</td><td>75000</td><td>Finance</td><td>false</td><td>71727.27272727272</td><td>true</td></tr><tr><td>10</td><td>Sophie</td><td>1992-06-30</td><td>30</td><td>62000</td><td>Finance</td><td>true</td><td>71727.27272727272</td><td>false</td></tr><tr><td>10</td><td>Sophie</td><td>1992-06-30</td><td>30</td><td>62000</td><td>Finance</td><td>false</td><td>71727.27272727272</td><td>false</td></tr><tr><td>2</td><td>Alice</td><td>1997-02-28</td><td>25</td><td>60000</td><td>HR</td><td>true</td><td>68000.0</td><td>false</td></tr><tr><td>2</td><td>Alice</td><td>1997-02-28</td><td>25</td><td>60000</td><td>HR</td><td>false</td><td>68000.0</td><td>false</td></tr><tr><td>2</td><td>Alice</td><td>1997-02-28</td><td>25</td><td>60000</td><td>HR</td><td>false</td><td>68000.0</td><td>false</td></tr><tr><td>5</td><td>David</td><td>1981-12-18</td><td>41</td><td>90000</td><td>HR</td><td>true</td><td>68000.0</td><td>true</td></tr><tr><td>5</td><td>David</td><td>1981-12-18</td><td>41</td><td>90000</td><td>HR</td><td>false</td><td>68000.0</td><td>true</td></tr><tr><td>8</td><td>Lisa</td><td>1995-08-20</td><td>27</td><td>58000</td><td>HR</td><td>true</td><td>68000.0</td><td>false</td></tr><tr><td>8</td><td>Lisa</td><td>1995-08-20</td><td>27</td><td>58000</td><td>HR</td><td>false</td><td>68000.0</td><td>false</td></tr><tr><td>1</td><td>John</td><td>1992-05-12</td><td>30</td><td>70000</td><td>IT</td><td>true</td><td>79500.0</td><td>false</td></tr><tr><td>1</td><td>John</td><td>1992-05-12</td><td>30</td><td>70000</td><td>IT</td><td>false</td><td>79500.0</td><td>false</td></tr><tr><td>1</td><td>John</td><td>1992-05-12</td><td>30</td><td>70000</td><td>IT</td><td>false</td><td>79500.0</td><td>false</td></tr><tr><td>1</td><td>John</td><td>1992-05-12</td><td>30</td><td>70000</td><td>IT</td><td>false</td><td>79500.0</td><td>false</td></tr><tr><td>1</td><td>John</td><td>1992-05-12</td><td>30</td><td>70000</td><td>IT</td><td>false</td><td>79500.0</td><td>false</td></tr><tr><td>3</td><td>Bob</td><td>null</td><td>null</td><td>80000</td><td>IT</td><td>true</td><td>79500.0</td><td>true</td></tr><tr><td>3</td><td>Bob</td><td>null</td><td>null</td><td>80000</td><td>IT</td><td>false</td><td>79500.0</td><td>true</td></tr><tr><td>3</td><td>Bob</td><td>null</td><td>null</td><td>80000</td><td>IT</td><td>false</td><td>79500.0</td><td>true</td></tr><tr><td>7</td><td>Mike</td><td>1976-03-15</td><td>46</td><td>95000</td><td>IT</td><td>true</td><td>79500.0</td><td>true</td></tr><tr><td>7</td><td>Mike</td><td>1976-03-15</td><td>46</td><td>95000</td><td>IT</td><td>false</td><td>79500.0</td><td>true</td></tr><tr><td>9</td><td>James</td><td>1983-10-14</td><td>39</td><td>87000</td><td>IT</td><td>true</td><td>79500.0</td><td>true</td></tr><tr><td>9</td><td>James</td><td>1983-10-14</td><td>39</td><td>87000</td><td>IT</td><td>false</td><td>79500.0</td><td>true</td></tr></tbody></table></div>"
      ]
     },
     "metadata": {
      "application/vnd.databricks.v1+output": {
       "addedWidgets": {},
       "aggData": [],
       "aggError": "",
       "aggOverflow": false,
       "aggSchema": [],
       "aggSeriesLimitReached": false,
       "aggType": "",
       "arguments": {},
       "columnCustomDisplayInfos": {},
       "data": [
        [
         2,
         "Alice",
         "1997-02-28",
         25,
         90000,
         "Finance",
         false,
         71727.27272727272,
         true
        ],
        [
         2,
         "Alice",
         "1997-02-28",
         25,
         90000,
         "Finance",
         false,
         71727.27272727272,
         true
        ],
        [
         4,
         "Emily",
         "1994-11-22",
         28,
         65000,
         "Finance",
         true,
         71727.27272727272,
         false
        ],
        [
         4,
         "Emily",
         "1994-11-22",
         28,
         65000,
         "Finance",
         false,
         71727.27272727272,
         false
        ],
        [
         4,
         "Emily",
         "1994-11-22",
         28,
         70000,
         "Finance",
         false,
         71727.27272727272,
         false
        ],
        [
         4,
         "Emily",
         "1994-11-22",
         28,
         70000,
         "Finance",
         false,
         71727.27272727272,
         false
        ],
        [
         4,
         "Emily",
         "1994-11-22",
         28,
         65000,
         "Finance",
         false,
         71727.27272727272,
         false
        ],
        [
         6,
         "Susan",
         "1989-07-05",
         33,
         75000,
         "Finance",
         true,
         71727.27272727272,
         true
        ],
        [
         6,
         "Susan",
         "1989-07-05",
         33,
         75000,
         "Finance",
         false,
         71727.27272727272,
         true
        ],
        [
         10,
         "Sophie",
         "1992-06-30",
         30,
         62000,
         "Finance",
         true,
         71727.27272727272,
         false
        ],
        [
         10,
         "Sophie",
         "1992-06-30",
         30,
         62000,
         "Finance",
         false,
         71727.27272727272,
         false
        ],
        [
         2,
         "Alice",
         "1997-02-28",
         25,
         60000,
         "HR",
         true,
         68000.0,
         false
        ],
        [
         2,
         "Alice",
         "1997-02-28",
         25,
         60000,
         "HR",
         false,
         68000.0,
         false
        ],
        [
         2,
         "Alice",
         "1997-02-28",
         25,
         60000,
         "HR",
         false,
         68000.0,
         false
        ],
        [
         5,
         "David",
         "1981-12-18",
         41,
         90000,
         "HR",
         true,
         68000.0,
         true
        ],
        [
         5,
         "David",
         "1981-12-18",
         41,
         90000,
         "HR",
         false,
         68000.0,
         true
        ],
        [
         8,
         "Lisa",
         "1995-08-20",
         27,
         58000,
         "HR",
         true,
         68000.0,
         false
        ],
        [
         8,
         "Lisa",
         "1995-08-20",
         27,
         58000,
         "HR",
         false,
         68000.0,
         false
        ],
        [
         1,
         "John",
         "1992-05-12",
         30,
         70000,
         "IT",
         true,
         79500.0,
         false
        ],
        [
         1,
         "John",
         "1992-05-12",
         30,
         70000,
         "IT",
         false,
         79500.0,
         false
        ],
        [
         1,
         "John",
         "1992-05-12",
         30,
         70000,
         "IT",
         false,
         79500.0,
         false
        ],
        [
         1,
         "John",
         "1992-05-12",
         30,
         70000,
         "IT",
         false,
         79500.0,
         false
        ],
        [
         1,
         "John",
         "1992-05-12",
         30,
         70000,
         "IT",
         false,
         79500.0,
         false
        ],
        [
         3,
         "Bob",
         null,
         null,
         80000,
         "IT",
         true,
         79500.0,
         true
        ],
        [
         3,
         "Bob",
         null,
         null,
         80000,
         "IT",
         false,
         79500.0,
         true
        ],
        [
         3,
         "Bob",
         null,
         null,
         80000,
         "IT",
         false,
         79500.0,
         true
        ],
        [
         7,
         "Mike",
         "1976-03-15",
         46,
         95000,
         "IT",
         true,
         79500.0,
         true
        ],
        [
         7,
         "Mike",
         "1976-03-15",
         46,
         95000,
         "IT",
         false,
         79500.0,
         true
        ],
        [
         9,
         "James",
         "1983-10-14",
         39,
         87000,
         "IT",
         true,
         79500.0,
         true
        ],
        [
         9,
         "James",
         "1983-10-14",
         39,
         87000,
         "IT",
         false,
         79500.0,
         true
        ]
       ],
       "datasetInfos": [],
       "dbfsResultPath": null,
       "isJsonSchema": true,
       "metadata": {},
       "overflow": false,
       "plotOptions": {
        "customPlotOptions": {},
        "displayType": "table",
        "pivotAggregation": null,
        "pivotColumns": null,
        "xColumns": null,
        "yColumns": null
       },
       "removedWidgets": [],
       "schema": [
        {
         "metadata": "{}",
         "name": "id",
         "type": "\"integer\""
        },
        {
         "metadata": "{}",
         "name": "name",
         "type": "\"string\""
        },
        {
         "metadata": "{}",
         "name": "dob",
         "type": "\"date\""
        },
        {
         "metadata": "{}",
         "name": "age",
         "type": "\"integer\""
        },
        {
         "metadata": "{}",
         "name": "salary",
         "type": "\"integer\""
        },
        {
         "metadata": "{}",
         "name": "department",
         "type": "\"string\""
        },
        {
         "metadata": "{}",
         "name": "is_duplicate",
         "type": "\"boolean\""
        },
        {
         "metadata": "{}",
         "name": "mean_salary",
         "type": "\"double\""
        },
        {
         "metadata": "{}",
         "name": "is_above_mean",
         "type": "\"boolean\""
        }
       ],
       "type": "table"
      }
     },
     "output_type": "display_data"
    }
   ],
   "source": [
    " # 2 Calculate mean salary and check if it is greater or equal to the salary of employees in each department.\n",
    "window_spec = Window.partitionBy(\"department\")\n",
    "df=df.withColumns({\n",
    "    \"mean_salary\":F.avg(\"salary\").over(window_spec),\n",
    "    \"is_above_mean\":    F.col(\"salary\") >= F.col(\"mean_salary\")\n",
    "})\n",
    " \n",
    "df.display()"
   ]
  },
  {
   "cell_type": "code",
   "execution_count": 0,
   "metadata": {
    "application/vnd.databricks.v1+cell": {
     "cellMetadata": {
      "byteLimit": 2048000,
      "rowLimit": 10000
     },
     "inputWidgets": {},
     "nuid": "7f9c60f4-0ff4-4cd6-8eaa-47a9f0fb1c6f",
     "showTitle": false,
     "title": ""
    }
   },
   "outputs": [
    {
     "output_type": "stream",
     "name": "stdout",
     "output_type": "stream",
     "text": [
      "+---+-----+----------+----+------+----------+------------+-----------------+-------------+-----------------+-----------------+------------+\n| id| name|       dob| age|salary|department|is_duplicate|      mean_salary|is_above_mean|is_above_mean_all|       avg_salary|is_above_avg|\n+---+-----+----------+----+------+----------+------------+-----------------+-------------+-----------------+-----------------+------------+\n|  1| John|1992-05-12|  30| 70000|        IT|       false|          79500.0|        false|            false|73966.66666666667|       false|\n|  1| John|1992-05-12|  30| 70000|        IT|        true|          79500.0|        false|            false|73966.66666666667|       false|\n|  1| John|1992-05-12|  30| 70000|        IT|        true|          79500.0|        false|            false|73966.66666666667|       false|\n|  1| John|1992-05-12|  30| 70000|        IT|        true|          79500.0|        false|            false|73966.66666666667|       false|\n|  1| John|1992-05-12|  30| 70000|        IT|        true|          79500.0|        false|            false|73966.66666666667|       false|\n|  2|Alice|1997-02-28|  25| 90000|   Finance|       false|71727.27272727272|         true|             true|73966.66666666667|        true|\n|  2|Alice|1997-02-28|  25| 90000|   Finance|        true|71727.27272727272|         true|             true|73966.66666666667|        true|\n|  2|Alice|1997-02-28|  25| 60000|        HR|        true|          68000.0|        false|            false|73966.66666666667|       false|\n|  2|Alice|1997-02-28|  25| 60000|        HR|        true|          68000.0|        false|            false|73966.66666666667|       false|\n|  2|Alice|1997-02-28|  25| 60000|        HR|        true|          68000.0|        false|            false|73966.66666666667|       false|\n|  3|  Bob|      null|null| 80000|        IT|       false|          79500.0|         true|             true|73966.66666666667|        true|\n|  3|  Bob|      null|null| 80000|        IT|        true|          79500.0|         true|             true|73966.66666666667|        true|\n|  3|  Bob|      null|null| 80000|        IT|        true|          79500.0|         true|             true|73966.66666666667|        true|\n|  4|Emily|1994-11-22|  28| 65000|   Finance|       false|71727.27272727272|        false|            false|73966.66666666667|       false|\n|  4|Emily|1994-11-22|  28| 65000|   Finance|        true|71727.27272727272|        false|            false|73966.66666666667|       false|\n|  4|Emily|1994-11-22|  28| 70000|   Finance|        true|71727.27272727272|        false|            false|73966.66666666667|       false|\n|  4|Emily|1994-11-22|  28| 70000|   Finance|        true|71727.27272727272|        false|            false|73966.66666666667|       false|\n|  4|Emily|1994-11-22|  28| 65000|   Finance|        true|71727.27272727272|        false|            false|73966.66666666667|       false|\n|  5|David|1981-12-18|  41| 90000|        HR|       false|          68000.0|         true|             true|73966.66666666667|        true|\n|  5|David|1981-12-18|  41| 90000|        HR|        true|          68000.0|         true|             true|73966.66666666667|        true|\n+---+-----+----------+----+------+----------+------------+-----------------+-------------+-----------------+-----------------+------------+\nonly showing top 20 rows\n\n"
     ]
    }
   ],
   "source": [
    "# Calculate mean salary and check if it is greater or equal to the salary of all employees.\n",
    "average_salary = (df.select(F.avg('salary')).first()[0])\n",
    " \n",
    "df.withColumns(\n",
    "    {\n",
    "    'avg_salary': F.lit(average_salary),\n",
    "    'is_above_avg': F.col('salary') >= average_salary}\n",
    ").show()"
   ]
  }
 ],
 "metadata": {
  "application/vnd.databricks.v1+notebook": {
   "dashboards": [],
   "language": "python",
   "notebookMetadata": {
    "pythonIndentUnit": 4
   },
   "notebookName": "meansalary_avargaresalary_12feb",
   "widgets": {}
  }
 },
 "nbformat": 4,
 "nbformat_minor": 0
}
