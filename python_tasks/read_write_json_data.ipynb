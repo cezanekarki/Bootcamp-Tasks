{
 "cells": [
  {
   "cell_type": "code",
   "execution_count": 0,
   "metadata": {
    "application/vnd.databricks.v1+cell": {
     "cellMetadata": {
      "byteLimit": 2048000,
      "rowLimit": 10000
     },
     "inputWidgets": {},
     "nuid": "3a1c7b4f-5c31-4c79-a2f3-ef8979244828",
     "showTitle": false,
     "title": ""
    }
   },
   "outputs": [
    {
     "output_type": "stream",
     "name": "stdout",
     "output_type": "stream",
     "text": [
      "{'name': 'sss', 'city': 'banepa', 'is': True, 'sal': None, 'age': 23, 1: 233, 'dob': datetime.datetime(2000, 10, 25, 0, 0)}\n{\"name\": \"sss\", \"city\": \"banepa\", \"is\": true, \"sal\": null, \"age\": 23, \"1\": 233, \"dob\": \"2000-10-25 00:00:00\"}\n"
     ]
    }
   ],
   "source": [
    "import json\n",
    "from datetime import datetime\n",
    "d ={\n",
    "    'name':'sss',\n",
    "    'city':'banepa',\n",
    "    'is': True,\n",
    "    'sal': None,\n",
    "    'age':23,\n",
    "    1:233,\n",
    "    'dob':datetime(2000,10,25)\n",
    "}\n",
    "print(d)\n",
    "print(json.dumps(d, default=str))\n"
   ]
  },
  {
   "cell_type": "code",
   "execution_count": 0,
   "metadata": {
    "application/vnd.databricks.v1+cell": {
     "cellMetadata": {
      "byteLimit": 2048000,
      "rowLimit": 10000
     },
     "inputWidgets": {},
     "nuid": "7b0d4914-7c8d-42e5-a374-0ffbedfafd4d",
     "showTitle": false,
     "title": ""
    }
   },
   "outputs": [
    {
     "output_type": "stream",
     "name": "stdout",
     "output_type": "stream",
     "text": [
      "{'name': 'sss', 'city': 'banepa', 'is': True, 'sal': None, 'age': 23, '1': 233, 'dob': '2000-10-25 00:00:00'}\n"
     ]
    }
   ],
   "source": [
    "j='{\"name\": \"sss\", \"city\": \"banepa\", \"is\": true, \"sal\": null, \"age\": 23, \"1\": 233, \"dob\": \"2000-10-25 00:00:00\"}'\n",
    "\n",
    "print(json.loads(j))\n"
   ]
  },
  {
   "cell_type": "code",
   "execution_count": 0,
   "metadata": {
    "application/vnd.databricks.v1+cell": {
     "cellMetadata": {
      "byteLimit": 2048000,
      "rowLimit": 10000
     },
     "inputWidgets": {},
     "nuid": "34e48b5f-830f-4488-91ab-d0a8ba6a6a78",
     "showTitle": false,
     "title": ""
    }
   },
   "outputs": [
    {
     "output_type": "stream",
     "name": "stdout",
     "output_type": "stream",
     "text": [
      "Out[5]: ['hadoop_accessed_config.lst',\n 'azure',\n 'conf',\n 'preload_class.lst',\n 'logs',\n 'ganglia',\n 'metastore_db',\n 'eventlogs']"
     ]
    }
   ],
   "source": [
    "import os\n",
    "os.listdir()\n"
   ]
  },
  {
   "cell_type": "code",
   "execution_count": 0,
   "metadata": {
    "application/vnd.databricks.v1+cell": {
     "cellMetadata": {
      "byteLimit": 2048000,
      "rowLimit": 10000
     },
     "inputWidgets": {},
     "nuid": "f769672f-8cab-483c-b2f9-4cc76aea8273",
     "showTitle": false,
     "title": ""
    }
   },
   "outputs": [
    {
     "output_type": "stream",
     "name": "stdout",
     "output_type": "stream",
     "text": [
      "{'name': 'John Doe', 'dob': '1990-01-01 00:00:00', 'city': 'Anytown', 'email': 'john.doe@example.com', 'is_student': False}\n"
     ]
    }
   ],
   "source": [
    "import json\n",
    "\n",
    "var ='{\"name\": \"John Doe\", \"dob\": \"1990-01-01 00:00:00\", \"city\": \"Anytown\", \"email\": \"john.doe@example.com\", \"is_student\": false}'\n",
    "\n",
    "parse_data= json.loads(var)\n",
    "print(parse_data)\n",
    "\n",
    "with open(\"record.json\", \"w\") as f:\n",
    "    json.dump(parse_data,f,default=str)\n"
   ]
  },
  {
   "cell_type": "code",
   "execution_count": 0,
   "metadata": {
    "application/vnd.databricks.v1+cell": {
     "cellMetadata": {
      "byteLimit": 2048000,
      "rowLimit": 10000
     },
     "inputWidgets": {},
     "nuid": "0aa21443-433a-40ce-b699-c36f4f413ca9",
     "showTitle": false,
     "title": ""
    }
   },
   "outputs": [
    {
     "output_type": "stream",
     "name": "stdout",
     "output_type": "stream",
     "text": [
      "{'name': 'John Doe', 'dob': '1990-01-01 00:00:00', 'city': 'Anytown', 'email': 'john.doe@example.com', 'is_student': False}\n<class 'dict'>\n"
     ]
    }
   ],
   "source": [
    "with open(\"record.json\", \"r\") as f:\n",
    "    # data=json.load(f)\n",
    "    data=json.loads(f.read())\n",
    "\n",
    "print(data)\n",
    "print(type(data))\n",
    "\n",
    "dateTime=data['dob']\n"
   ]
  },
  {
   "cell_type": "code",
   "execution_count": 0,
   "metadata": {
    "application/vnd.databricks.v1+cell": {
     "cellMetadata": {
      "byteLimit": 2048000,
      "rowLimit": 10000
     },
     "inputWidgets": {},
     "nuid": "0743ab34-4417-43ad-b403-ac204c251775",
     "showTitle": false,
     "title": ""
    }
   },
   "outputs": [
    {
     "output_type": "stream",
     "name": "stdout",
     "output_type": "stream",
     "text": [
      "1990-01-01 00:00:00\n{'name': 'John Doe', 'dob': datetime.datetime(1990, 1, 1, 0, 0), 'city': 'Anytown', 'email': 'john.doe@example.com', 'is_student': False}\n"
     ]
    }
   ],
   "source": [
    "from datetime import datetime\n",
    "\n",
    "date_string =dateTime\n",
    "date_format = '%Y-%m-%d %H:%M:%S'\n",
    "parsed_datetime = datetime.strptime(date_string, date_format)\n",
    "print(parsed_datetime)\n",
    "data['dob']=parsed_datetime\n",
    "print(data)\n"
   ]
  }
 ],
 "metadata": {
  "application/vnd.databricks.v1+notebook": {
   "dashboards": [],
   "language": "python",
   "notebookMetadata": {
    "pythonIndentUnit": 4
   },
   "notebookName": "read_write_json_data",
   "widgets": {}
  }
 },
 "nbformat": 4,
 "nbformat_minor": 0
}
