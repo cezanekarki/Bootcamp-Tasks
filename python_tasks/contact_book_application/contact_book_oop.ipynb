{
 "cells": [
  {
   "cell_type": "code",
   "execution_count": null,
   "metadata": {
    "application/vnd.databricks.v1+cell": {
     "cellMetadata": {
      "byteLimit": 2048000,
      "rowLimit": 10000
     },
     "inputWidgets": {},
     "nuid": "c8208535-fada-4d8a-9ae9-0fab0ec27955",
     "showTitle": false,
     "title": ""
    }
   },
   "outputs": [],
   "source": [
    "import re\n",
    "\n",
    "class Validator:\n",
    "\n",
    "    @staticmethod\n",
    "    def empty_value(value):\n",
    "        if not value:\n",
    "            print(\"Empty data\")\n",
    "            return False\n",
    "        else:\n",
    "            return True\n",
    "\n",
    "    @staticmethod\n",
    "    def validate_email(email):\n",
    "        regex = r'\\b[A-Za-z0-9._%+-]+@[A-Za-z0-9.-]+\\.[A-Z|a-z]{2,7}\\b'\n",
    "        if(re.fullmatch(regex, email)):\n",
    "            print(\"Valid Email\")\n",
    "            return True\n",
    "        else:\n",
    "            print(\"Invalid Email\")\n",
    "            return False\n",
    "        \n",
    "    @staticmethod\n",
    "    def validate_phone(phone):\n",
    "        if (phone.isdigit() and len(phone) == 10):\n",
    "            return True\n",
    "        else:\n",
    "            print(\"Invalid phone number\")\n",
    "            return False\n",
    " \n"
   ]
  },
  {
   "cell_type": "code",
   "execution_count": null,
   "metadata": {
    "application/vnd.databricks.v1+cell": {
     "cellMetadata": {
      "byteLimit": 2048000,
      "rowLimit": 10000
     },
     "inputWidgets": {},
     "nuid": "de19c776-af87-4604-8c6a-e7a08378bc38",
     "showTitle": false,
     "title": ""
    }
   },
   "outputs": [
    {
     "name": "stdout",
     "output_type": "stream",
     "text": [
      "\n",
      "----- Contact Book Menu -----\n",
      "1. Add Contact\n",
      "2. View Contacts\n",
      "3. Search Contact\n",
      "4. Delete Contact\n",
      "5. Quit\n"
     ]
    },
    {
     "data": {
      "text/plain": [
       "Enter your choice (1-5):  1"
      ]
     },
     "metadata": {},
     "output_type": "display_data"
    },
    {
     "data": {
      "text/plain": [
       "Enter name:  "
      ]
     },
     "metadata": {},
     "output_type": "display_data"
    },
    {
     "name": "stdout",
     "output_type": "stream",
     "text": [
      "Empty data\n"
     ]
    },
    {
     "data": {
      "text/plain": [
       "Enter name:  Utsha"
      ]
     },
     "metadata": {},
     "output_type": "display_data"
    },
    {
     "data": {
      "text/plain": [
       "Enter phone:  ssdcdc1"
      ]
     },
     "metadata": {},
     "output_type": "display_data"
    },
    {
     "name": "stdout",
     "output_type": "stream",
     "text": [
      "Invalid phone number\n"
     ]
    },
    {
     "data": {
      "text/plain": [
       "Enter phone:  1234567"
      ]
     },
     "metadata": {},
     "output_type": "display_data"
    },
    {
     "name": "stdout",
     "output_type": "stream",
     "text": [
      "Invalid phone number\n"
     ]
    },
    {
     "data": {
      "text/plain": [
       "Enter phone:  1234567890"
      ]
     },
     "metadata": {},
     "output_type": "display_data"
    },
    {
     "data": {
      "text/plain": [
       "Enter email:  uts.com"
      ]
     },
     "metadata": {},
     "output_type": "display_data"
    },
    {
     "name": "stdout",
     "output_type": "stream",
     "text": [
      "Invalid Email\n"
     ]
    },
    {
     "data": {
      "text/plain": [
       "Enter email:  utsha@gmail.com"
      ]
     },
     "metadata": {},
     "output_type": "display_data"
    },
    {
     "name": "stdout",
     "output_type": "stream",
     "text": [
      "Valid Email\n",
      "Contact added successfully!\n",
      "\n",
      "----- Contact Book Menu -----\n",
      "1. Add Contact\n",
      "2. View Contacts\n",
      "3. Search Contact\n",
      "4. Delete Contact\n",
      "5. Quit\n"
     ]
    },
    {
     "data": {
      "text/plain": [
       "Enter your choice (1-5):  2"
      ]
     },
     "metadata": {},
     "output_type": "display_data"
    },
    {
     "name": "stdout",
     "output_type": "stream",
     "text": [
      "1. {'name': 'Utsha', 'email': 'utsha@gmail.com', 'phone': '1234567890'}\n",
      "\n",
      "----- Contact Book Menu -----\n",
      "1. Add Contact\n",
      "2. View Contacts\n",
      "3. Search Contact\n",
      "4. Delete Contact\n",
      "5. Quit\n"
     ]
    },
    {
     "data": {
      "text/plain": [
       "Enter your choice (1-5):  1"
      ]
     },
     "metadata": {},
     "output_type": "display_data"
    },
    {
     "data": {
      "text/plain": [
       "Enter name:  ulak"
      ]
     },
     "metadata": {},
     "output_type": "display_data"
    },
    {
     "data": {
      "text/plain": [
       "Enter phone:  1234567890"
      ]
     },
     "metadata": {},
     "output_type": "display_data"
    },
    {
     "data": {
      "text/plain": [
       "Enter email:  ulak@gmail.com"
      ]
     },
     "metadata": {},
     "output_type": "display_data"
    },
    {
     "name": "stdout",
     "output_type": "stream",
     "text": [
      "Valid Email\n",
      "Contact added successfully!\n",
      "\n",
      "----- Contact Book Menu -----\n",
      "1. Add Contact\n",
      "2. View Contacts\n",
      "3. Search Contact\n",
      "4. Delete Contact\n",
      "5. Quit\n"
     ]
    },
    {
     "data": {
      "text/plain": [
       "Enter your choice (1-5):  2"
      ]
     },
     "metadata": {},
     "output_type": "display_data"
    },
    {
     "name": "stdout",
     "output_type": "stream",
     "text": [
      "1. {'name': 'Utsha', 'email': 'utsha@gmail.com', 'phone': '1234567890'}\n",
      "2. {'name': 'ulak', 'email': 'ulak@gmail.com', 'phone': '1234567890'}\n",
      "\n",
      "----- Contact Book Menu -----\n",
      "1. Add Contact\n",
      "2. View Contacts\n",
      "3. Search Contact\n",
      "4. Delete Contact\n",
      "5. Quit\n"
     ]
    },
    {
     "data": {
      "text/plain": [
       "Enter your choice (1-5):  3"
      ]
     },
     "metadata": {},
     "output_type": "display_data"
    },
    {
     "data": {
      "text/plain": [
       "Enter name to search:  ulak"
      ]
     },
     "metadata": {},
     "output_type": "display_data"
    },
    {
     "name": "stdout",
     "output_type": "stream",
     "text": [
      "Contact found:\n",
      "[{'name': 'ulak', 'email': 'ulak@gmail.com', 'phone': '1234567890'}]\n",
      "\n",
      "----- Contact Book Menu -----\n",
      "1. Add Contact\n",
      "2. View Contacts\n",
      "3. Search Contact\n",
      "4. Delete Contact\n",
      "5. Quit\n"
     ]
    },
    {
     "data": {
      "text/plain": [
       "Enter your choice (1-5):  4"
      ]
     },
     "metadata": {},
     "output_type": "display_data"
    },
    {
     "data": {
      "text/plain": [
       "Enter name to delete:  ulak"
      ]
     },
     "metadata": {},
     "output_type": "display_data"
    },
    {
     "name": "stdout",
     "output_type": "stream",
     "text": [
      "Contact is deleted successfully!\n",
      "\n",
      "----- Contact Book Menu -----\n",
      "1. Add Contact\n",
      "2. View Contacts\n",
      "3. Search Contact\n",
      "4. Delete Contact\n",
      "5. Quit\n"
     ]
    },
    {
     "data": {
      "text/plain": [
       "Enter your choice (1-5):  2"
      ]
     },
     "metadata": {},
     "output_type": "display_data"
    },
    {
     "name": "stdout",
     "output_type": "stream",
     "text": [
      "1. {'name': 'Utsha', 'email': 'utsha@gmail.com', 'phone': '1234567890'}\n",
      "\n",
      "----- Contact Book Menu -----\n",
      "1. Add Contact\n",
      "2. View Contacts\n",
      "3. Search Contact\n",
      "4. Delete Contact\n",
      "5. Quit\n"
     ]
    },
    {
     "data": {
      "text/plain": [
       "Enter your choice (1-5):  5"
      ]
     },
     "metadata": {},
     "output_type": "display_data"
    },
    {
     "name": "stdout",
     "output_type": "stream",
     "text": [
      "Exiting Contact Book\n"
     ]
    }
   ],
   "source": [
    "class ContactBook:\n",
    "    def __init__(self):\n",
    "        self.contacts = []\n",
    "\n",
    "    def get_user_input(self, input_value):\n",
    "        return input(f\"Enter {input_value}: \")\n",
    "\n",
    "    def get_email(self):\n",
    "        email_value = self.get_user_input(\"email\")\n",
    "        \n",
    "        while not Validator.validate_email(email_value):\n",
    "            email_value = self.get_user_input(\"email\")\n",
    "        return email_value\n",
    "    \n",
    "    def get_name(self):\n",
    "        name_value = self.get_user_input(\"name\")\n",
    "        while not Validator.empty_value(name_value):\n",
    "            name_value = self.get_user_input(\"name\")\n",
    "        return name_value\n",
    "    \n",
    "    def get_phone(self):\n",
    "        phone_value = self.get_user_input(\"phone\")\n",
    "        while not Validator.validate_phone(phone_value):\n",
    "            phone_value = self.get_user_input(\"phone\")\n",
    "        return phone_value\n",
    "                  \n",
    "    def add_contact(self, **kwargs):\n",
    "\n",
    "        contact = {}\n",
    "        contact[\"name\"]=kwargs[\"name\"]\n",
    "        contact[\"email\"]=kwargs[\"email\"]\n",
    "        contact[\"phone\"]=kwargs[\"phone\"]\n",
    "\n",
    "        self.contacts.append(contact)\n",
    "        print(\"Contact added successfully!\")\n",
    "\n",
    "    def view_contacts(self):\n",
    "        if not self.contacts:\n",
    "            print(\"No contacts found.\")\n",
    "        else:\n",
    "            for i, contact in enumerate(self.contacts, 1):\n",
    "                print(f\"{i}. {contact}\")\n",
    "\n",
    "    def search_contact_by_name(self, name):\n",
    "        result = list(filter(lambda x: x.get(\"name\") == name, self.contacts))\n",
    "        if result:\n",
    "            print(\"Contact found:\")\n",
    "            print(result)\n",
    "        else:\n",
    "            print(\"Contact not found.\")\n",
    "\n",
    "    def delete_contact_by_name(self, name):\n",
    "        self.contacts = list(filter(lambda x: x.get(\"name\") != name, self.contacts))\n",
    "        print(\"Contact is deleted successfully!\")\n",
    "\n",
    "    def main_menu(self):\n",
    "        while True:\n",
    "            print(\"\\n----- Contact Book Menu -----\")\n",
    "            print(\"1. Add Contact\")\n",
    "            print(\"2. View Contacts\")\n",
    "            print(\"3. Search Contact\")\n",
    "            print(\"4. Delete Contact\")\n",
    "            print(\"5. Quit\")\n",
    "            \n",
    "            choice = input(\"Enter your choice (1-5): \")\n",
    "            \n",
    "            if choice == \"1\":\n",
    "                self.add_contact(name=self.get_name(), phone=self.get_phone(), email=self.get_email())\n",
    "            elif choice == \"2\":\n",
    "                self.view_contacts()\n",
    "            elif choice == \"3\":\n",
    "                name = input(\"Enter name to search: \")\n",
    "                self.search_contact_by_name(name)\n",
    "            elif choice == \"4\":\n",
    "                name = input(\"Enter name to delete: \")\n",
    "                self.delete_contact_by_name(name)\n",
    "            elif choice == \"5\":\n",
    "                print(\"Exiting Contact Book\")\n",
    "                break\n",
    "            else:\n",
    "                print(\"Invalid choice. Please enter a number between 1 and 5.\")\n",
    "\n",
    "if __name__ == \"__main__\":\n",
    "    contact_book = ContactBook()\n",
    "    contact_book.main_menu()\n"
   ]
  },
  {
   "cell_type": "code",
   "execution_count": null,
   "metadata": {
    "application/vnd.databricks.v1+cell": {
     "cellMetadata": {},
     "inputWidgets": {},
     "nuid": "c136198b-ff13-42ec-aeed-cefdc933aa92",
     "showTitle": false,
     "title": ""
    }
   },
   "outputs": [],
   "source": []
  }
 ],
 "metadata": {
  "application/vnd.databricks.v1+notebook": {
   "dashboards": [],
   "language": "python",
   "notebookMetadata": {
    "pythonIndentUnit": 4
   },
   "notebookName": "contact_book_oop",
   "widgets": {}
  },
  "language_info": {
   "name": "python"
  }
 },
 "nbformat": 4,
 "nbformat_minor": 0
}
