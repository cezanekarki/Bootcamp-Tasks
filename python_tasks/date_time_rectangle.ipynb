{
 "cells": [
  {
   "cell_type": "markdown",
   "metadata": {
    "application/vnd.databricks.v1+cell": {
     "cellMetadata": {},
     "inputWidgets": {},
     "nuid": "d7e50f09-ba57-4ac2-9b84-04187d43fadb",
     "showTitle": false,
     "title": ""
    }
   },
   "source": [
    "Write a python function to calculate someone's age using date of birth.\n",
    " \n",
    "Write another function to calculate remaining days left for the person's birthday.\n",
    " \n",
    "Write another function to calculate the number of months and weeks passed after the person was born"
   ]
  },
  {
   "cell_type": "code",
   "execution_count": 0,
   "metadata": {
    "application/vnd.databricks.v1+cell": {
     "cellMetadata": {
      "byteLimit": 2048000,
      "rowLimit": 10000
     },
     "inputWidgets": {},
     "nuid": "1d2beeac-7350-4840-b064-9b8eacb55530",
     "showTitle": false,
     "title": ""
    }
   },
   "outputs": [
    {
     "output_type": "stream",
     "name": "stdout",
     "output_type": "stream",
     "text": [
      "Age: 23 years\nbirthdate 2000-10-25 00:00:00\nnext_birthday 2024-10-25 00:00:00\nRemaining days until the next birthday: 256 days\nMonths passed since birth: 280 months\nWeeks passed since birth: 1215 weeks\n"
     ]
    }
   ],
   "source": [
    "from datetime import datetime, timedelta\n",
    "\n",
    "def calculate_age(birthdate):\n",
    "    today = datetime.now()\n",
    "    birthdate = datetime.strptime(birthdate, \"%Y-%m-%d\")\n",
    "    age = today.year - birthdate.year - ((today.month, today.day) < (birthdate.month, birthdate.day)) # checking if the bday has come or not return T if bday has come else F , the age will differ based upon that, \n",
    "    return age\n",
    "\n",
    "def remaining_days_until_birthday(birthdate):\n",
    "    today = datetime.now()\n",
    "    birthdate = datetime.strptime(birthdate, \"%Y-%m-%d\")\n",
    "    print(\"birthdate\", birthdate)\n",
    "\n",
    "    next_birthday = birthdate.replace(year=today.year)\n",
    "    print(\"next_birthday\", next_birthday)\n",
    "    if today > next_birthday:\n",
    "        next_birthday = next_birthday.replace(year=today.year + 1)\n",
    "        print(\"next_birthday::::\", next_birthday)\n",
    "    \n",
    "    days_left = (next_birthday - today).days\n",
    "    return days_left\n",
    "\n",
    "def calculate_months_and_weeks_since_birth(birthdate):\n",
    "    today = datetime.now()\n",
    "    birthdate = datetime.strptime(birthdate, \"%Y-%m-%d\")\n",
    "    \n",
    "    age_in_months = (today.year - birthdate.year) * 12 + today.month - birthdate.month\n",
    "    age_in_weeks = (today - birthdate).days // 7\n",
    "    \n",
    "    return age_in_months, age_in_weeks\n",
    "\n",
    "dob = \"2000-10-25\"\n",
    "print(f\"Age: {calculate_age(dob)} years\")\n",
    "print(f\"Remaining days until the next birthday: {remaining_days_until_birthday(dob)} days\")\n",
    "months, weeks = calculate_months_and_weeks_since_birth(dob)\n",
    "print(f\"Months passed since birth: {months} months\")\n",
    "print(f\"Weeks passed since birth: {weeks} weeks\")\n"
   ]
  },
  {
   "cell_type": "code",
   "execution_count": 0,
   "metadata": {
    "application/vnd.databricks.v1+cell": {
     "cellMetadata": {
      "byteLimit": 2048000,
      "rowLimit": 10000
     },
     "inputWidgets": {},
     "nuid": "716e3b7d-1782-48e0-9be7-ea1d4dba1cb6",
     "showTitle": false,
     "title": ""
    }
   },
   "outputs": [
    {
     "output_type": "stream",
     "name": "stdout",
     "output_type": "stream",
     "text": [
      "2\nArea: 4\nPerimeter: 8\nThis rectangle is a square\n"
     ]
    }
   ],
   "source": [
    "class Rectangle:\n",
    "    def __init__(self, length, width):\n",
    "        self.length=length\n",
    "        self.width=width\n",
    "\n",
    "    def calculate_area(self):\n",
    "        return self.length * self.width\n",
    "    \n",
    "    def calculate_perimeter(self):\n",
    "        return 2 * (self.length + self.width) \n",
    "\n",
    "    def is_sqaure(self):\n",
    "        return self.length == self.width\n",
    "       \n",
    "\n",
    "a= Rectangle(2,2)\n",
    "print(a.length)\n",
    "\n",
    "print(f\"Area: {a.calculate_area()}\")\n",
    "print(f\"Perimeter: {a.calculate_perimeter()}\")\n",
    "\n",
    "if a.is_sqaure():\n",
    "    print(\"This rectangle is a square\")\n",
    "else:\n",
    "    print(\"This rectangle is not a square\")\n"
   ]
  },
  {
   "cell_type": "code",
   "execution_count": 0,
   "metadata": {
    "application/vnd.databricks.v1+cell": {
     "cellMetadata": {},
     "inputWidgets": {},
     "nuid": "72b8e80b-625d-4a4b-9a7a-882431127f07",
     "showTitle": false,
     "title": ""
    }
   },
   "outputs": [],
   "source": []
  }
 ],
 "metadata": {
  "application/vnd.databricks.v1+notebook": {
   "dashboards": [],
   "language": "python",
   "notebookMetadata": {
    "pythonIndentUnit": 4
   },
   "notebookName": "date_time_rectangle",
   "widgets": {}
  }
 },
 "nbformat": 4,
 "nbformat_minor": 0
}
