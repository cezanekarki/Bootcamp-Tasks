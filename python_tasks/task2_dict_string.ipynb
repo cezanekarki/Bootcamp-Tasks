{
 "cells": [
  {
   "cell_type": "code",
   "execution_count": 0,
   "metadata": {
    "application/vnd.databricks.v1+cell": {
     "cellMetadata": {
      "byteLimit": 2048000,
      "rowLimit": 10000
     },
     "inputWidgets": {},
     "nuid": "73769b98-cbd3-4dbe-9a4f-a5b9597e0a75",
     "showTitle": false,
     "title": ""
    }
   },
   "outputs": [],
   "source": [
    "#Convert \"name:John,age:34, city: New York\" string to dictionary using python."
   ]
  },
  {
   "cell_type": "code",
   "execution_count": 0,
   "metadata": {
    "application/vnd.databricks.v1+cell": {
     "cellMetadata": {
      "byteLimit": 2048000,
      "rowLimit": 10000
     },
     "inputWidgets": {},
     "nuid": "94947f9d-69f5-4ec4-8af9-1335920454e2",
     "showTitle": false,
     "title": ""
    }
   },
   "outputs": [
    {
     "output_type": "stream",
     "name": "stdout",
     "output_type": "stream",
     "text": [
      "Out[2]: str"
     ]
    }
   ],
   "source": [
    "detail = \"name:John,age:34, city: New York\"\n",
    "type(detail)"
   ]
  },
  {
   "cell_type": "code",
   "execution_count": 0,
   "metadata": {
    "application/vnd.databricks.v1+cell": {
     "cellMetadata": {
      "byteLimit": 2048000,
      "rowLimit": 10000
     },
     "inputWidgets": {},
     "nuid": "f1341070-6179-4815-b11d-843ac8da859d",
     "showTitle": false,
     "title": ""
    }
   },
   "outputs": [
    {
     "output_type": "stream",
     "name": "stdout",
     "output_type": "stream",
     "text": [
      "{'name': 'John', 'age': '34', ' city': ' New York'}\nOut[3]: dict"
     ]
    }
   ],
   "source": [
    "detail_dict = dict(item.split(\":\") for item in detail.split(\",\"))\n",
    "print(detail_dict)\n",
    "type(detail_dict)"
   ]
  },
  {
   "cell_type": "code",
   "execution_count": 0,
   "metadata": {
    "application/vnd.databricks.v1+cell": {
     "cellMetadata": {
      "byteLimit": 2048000,
      "rowLimit": 10000
     },
     "inputWidgets": {},
     "nuid": "366d73d6-d671-46af-8a35-035537a4c763",
     "showTitle": false,
     "title": ""
    }
   },
   "outputs": [],
   "source": [
    "# You have a string that represents information about various books. Each book's information is separated by a pipe (|), and within each book's data, different attributes like title, author, and year are separated by a comma. Your task is to convert this string into a dictionary where each book's title is the key, and the value is another dictionary containing the author and year of publication.\n",
    "\n",
    "# String : \"The Great Gatsby, F. Scott Fitzgerald, 1925 | To Kill a Mockingbird, Harper Lee, 1960 | 1984, George Orwell, 1949\"\n",
    "\n",
    "# Convert this string into a nested dictionary with book titles as keys and another dictionary with 'author' and 'year' as keys and their respective values.\n",
    "# Expected Output:\n",
    "\n",
    "# {\n",
    "#     \t'The Great Gatsby': {'author': 'F. Scott Fitzgerald', 'year': '1925'},\n",
    "#   \t 'To Kill a Mockingbird': {'author': 'Harper Lee', 'year': '1960'},\n",
    "#    \t '1984': {'author': 'George Orwell', 'year': '1949'}\n",
    "# }"
   ]
  },
  {
   "cell_type": "code",
   "execution_count": 0,
   "metadata": {
    "application/vnd.databricks.v1+cell": {
     "cellMetadata": {
      "byteLimit": 2048000,
      "rowLimit": 10000
     },
     "inputWidgets": {},
     "nuid": "c0ecf6ec-e7f2-4ac1-b0b4-93f750746581",
     "showTitle": false,
     "title": ""
    }
   },
   "outputs": [
    {
     "output_type": "stream",
     "name": "stdout",
     "output_type": "stream",
     "text": [
      "['The Great Gatsby, F. Scott Fitzgerald, 1925 ', ' To Kill a Mockingbird, Harper Lee, 1960 ', ' 1984, George Orwell, 1949']\n"
     ]
    }
   ],
   "source": [
    "books = \"The Great Gatsby, F. Scott Fitzgerald, 1925 | To Kill a Mockingbird, Harper Lee, 1960 | 1984, George Orwell, 1949\"\n",
    "separated_details = books.split(\"|\")\n",
    "print(separated_details)"
   ]
  },
  {
   "cell_type": "code",
   "execution_count": 0,
   "metadata": {
    "application/vnd.databricks.v1+cell": {
     "cellMetadata": {
      "byteLimit": 2048000,
      "rowLimit": 10000
     },
     "inputWidgets": {},
     "nuid": "712bc1cd-9775-4d10-b609-86bb620d7cbb",
     "showTitle": false,
     "title": ""
    }
   },
   "outputs": [
    {
     "output_type": "stream",
     "name": "stdout",
     "output_type": "stream",
     "text": [
      "{'The Great Gatsby': {'author': ' F. Scott Fitzgerald', 'year': ' 1925 '}, ' To Kill a Mockingbird': {'author': ' Harper Lee', 'year': ' 1960 '}, ' 1984': {'author': ' George Orwell', 'year': ' 1949'}}\n"
     ]
    }
   ],
   "source": [
    "dictionary = {}\n",
    "for d in separated_details:\n",
    "    books, author, year = d.split(',')\n",
    "    dictionary[books] =  {\n",
    "            \"author\": author,\n",
    "            \"year\" : year\n",
    "        }\n",
    "    \n",
    "print(dictionary)"
   ]
  },
  {
   "cell_type": "code",
   "execution_count": 0,
   "metadata": {
    "application/vnd.databricks.v1+cell": {
     "cellMetadata": {
      "byteLimit": 2048000,
      "rowLimit": 10000
     },
     "inputWidgets": {},
     "nuid": "02e01531-b13e-42c1-b758-3f0553025735",
     "showTitle": false,
     "title": ""
    }
   },
   "outputs": [],
   "source": [
    "# Merge two different lists into dictionaries: \n",
    "# names = [\"Alice\", \"Bob\", \"Charlie\"] \n",
    "# grades = [\"A\", \"B\", \"C\"] "
   ]
  },
  {
   "cell_type": "code",
   "execution_count": 0,
   "metadata": {
    "application/vnd.databricks.v1+cell": {
     "cellMetadata": {
      "byteLimit": 2048000,
      "rowLimit": 10000
     },
     "inputWidgets": {},
     "nuid": "7cb09b2f-a7d0-49a0-a24d-077e77040936",
     "showTitle": false,
     "title": ""
    }
   },
   "outputs": [
    {
     "output_type": "stream",
     "name": "stdout",
     "output_type": "stream",
     "text": [
      "{'Alice': 'A', 'Bob': 'B', 'Charlie': 'C'}\n"
     ]
    }
   ],
   "source": [
    "names = [\"Alice\", \"Bob\", \"Charlie\"]\n",
    "grades = [\"A\", \"B\", \"C\"]\n",
    "print(dict(zip(names,grades)))"
   ]
  },
  {
   "cell_type": "code",
   "execution_count": 0,
   "metadata": {
    "application/vnd.databricks.v1+cell": {
     "cellMetadata": {
      "byteLimit": 2048000,
      "rowLimit": 10000
     },
     "inputWidgets": {},
     "nuid": "91e8033c-f925-4419-b015-702025c8c5c4",
     "showTitle": false,
     "title": ""
    }
   },
   "outputs": [],
   "source": [
    "# You have a dictionary of stock quantities for various items and a list of items that have been sold. Update the dictionary by reducing the stock quantity for each sold item. \n",
    " \n",
    "# stock = {\"apples\": 10, \"oranges\": 8, \"bananas\": 6} \n",
    "# sold_items = [\"apples\", \"oranges\", \"apples\", \"bananas\"]"
   ]
  },
  {
   "cell_type": "code",
   "execution_count": 0,
   "metadata": {
    "application/vnd.databricks.v1+cell": {
     "cellMetadata": {
      "byteLimit": 2048000,
      "rowLimit": 10000
     },
     "inputWidgets": {},
     "nuid": "f58e4f2a-7290-4724-be67-9aae60fbac15",
     "showTitle": false,
     "title": ""
    }
   },
   "outputs": [
    {
     "output_type": "stream",
     "name": "stdout",
     "output_type": "stream",
     "text": [
      "{'apples': 8, 'oranges': 7, 'bananas': 5}\n"
     ]
    }
   ],
   "source": [
    "stock = {\"apples\": 10, \"oranges\": 8, \"bananas\": 6}\n",
    "sold_items = [\"apples\", \"oranges\", \"apples\", \"bananas\"]\n",
    "for i in sold_items:\n",
    "    if i in stock:\n",
    "        stock[i] -= 1\n",
    "    else:\n",
    "        print(\"Not in stock\")\n",
    "print(stock)\n"
   ]
  },
  {
   "cell_type": "code",
   "execution_count": 0,
   "metadata": {
    "application/vnd.databricks.v1+cell": {
     "cellMetadata": {
      "byteLimit": 2048000,
      "rowLimit": 10000
     },
     "inputWidgets": {},
     "nuid": "1853cc7b-6c3a-4b29-97cf-3c9f838bd52b",
     "showTitle": false,
     "title": ""
    }
   },
   "outputs": [],
   "source": [
    "# You have three lists, containing names, ages, and occupations of a group of people. Combine these lists into a list of dictionaries, each dictionary containing 'name', 'age', and 'occupation' as keys. \n",
    "# List: \n",
    "# names = [\"Alice\", \"Bob\", \"Charlie\"] \n",
    "# ages = [25, 30, 35] \n",
    "# occupations = [\"Engineer\", \"Doctor\", \"Artist\"] "
   ]
  },
  {
   "cell_type": "code",
   "execution_count": 0,
   "metadata": {
    "application/vnd.databricks.v1+cell": {
     "cellMetadata": {
      "byteLimit": 2048000,
      "rowLimit": 10000
     },
     "inputWidgets": {},
     "nuid": "f8e77962-57b7-4d42-b8df-5cc52dee480f",
     "showTitle": false,
     "title": ""
    }
   },
   "outputs": [
    {
     "output_type": "stream",
     "name": "stdout",
     "output_type": "stream",
     "text": [
      "<zip object at 0x7fb6d0c93f80>\n[{'name': 'Alice', 'age': 25, 'occupation': 'Engineer'}, {'name': 'Bob', 'age': 30, 'occupation': 'Doctor'}, {'name': 'Charlie', 'age': 35, 'occupation': 'Artist'}]\n{'name': 'Alice', 'age': 25, 'occupation': 'Engineer'}\n{'name': 'Bob', 'age': 30, 'occupation': 'Doctor'}\n{'name': 'Charlie', 'age': 35, 'occupation': 'Artist'}\n"
     ]
    }
   ],
   "source": [
    "names = [\"Alice\", \"Bob\", \"Charlie\"]\n",
    "ages = [25, 30, 35]\n",
    "occupations = [\"Engineer\", \"Doctor\", \"Artist\"]\n",
    "zipped_items = zip(names, ages, occupations)\n",
    "print(zipped_items)\n",
    "diction = [{'name': name, 'age': age, 'occupation': occupation} for name, age, occupation in zipped_items ]\n",
    "print(diction)\n",
    "for d in diction:\n",
    "    print(d)\n"
   ]
  },
  {
   "cell_type": "code",
   "execution_count": 0,
   "metadata": {
    "application/vnd.databricks.v1+cell": {
     "cellMetadata": {
      "byteLimit": 2048000,
      "rowLimit": 10000
     },
     "inputWidgets": {},
     "nuid": "7552ca78-7667-4635-aa19-7693596ae9b7",
     "showTitle": false,
     "title": ""
    }
   },
   "outputs": [
    {
     "output_type": "stream",
     "name": "stdout",
     "output_type": "stream",
     "text": [
      "Out[13]: dict"
     ]
    }
   ],
   "source": [
    "type(d)"
   ]
  },
  {
   "cell_type": "code",
   "execution_count": 0,
   "metadata": {
    "application/vnd.databricks.v1+cell": {
     "cellMetadata": {
      "byteLimit": 2048000,
      "rowLimit": 10000
     },
     "inputWidgets": {},
     "nuid": "fdac06c1-57e3-46ab-be64-d0358569a1ba",
     "showTitle": false,
     "title": ""
    }
   },
   "outputs": [],
   "source": [
    "# You have received a text message that contains various sentences, some of which are inquiries (ending with a question mark '?'). Your task is to analyse this message and perform several operations using Python string functions.\n",
    "\n",
    "# Text:  \"Hello! How are you? I hope you're enjoying your day. Have you seen my notebook? It's important. Thanks for your help!\"\n",
    "\n",
    "# Count the Questions: Determine how many sentences in the text are questions.\n",
    "# Extract Questions: Create a list containing only the sentences that are questions.\n",
    "# Remove Punctuation: Create a new version of the text with all punctuation removed.\n",
    "# Word Count: Count how many times the word 'you' appears in the text (case-insensitive).\n",
    "# Concatenate: Concatenate the first and last sentences to form a new sentence."
   ]
  },
  {
   "cell_type": "code",
   "execution_count": 0,
   "metadata": {
    "application/vnd.databricks.v1+cell": {
     "cellMetadata": {
      "byteLimit": 2048000,
      "rowLimit": 10000
     },
     "inputWidgets": {},
     "nuid": "40133f1e-0683-4d06-bc0c-445a7465dce3",
     "showTitle": false,
     "title": ""
    }
   },
   "outputs": [
    {
     "output_type": "stream",
     "name": "stdout",
     "output_type": "stream",
     "text": [
      "2\n"
     ]
    }
   ],
   "source": [
    "text = \"Hello! How are you? I hope you're enjoying your day. Have you seen my notebook? It's important. Thanks for your help!\"\n",
    "questions_count = text.count('?')\n",
    "print(questions_count)"
   ]
  },
  {
   "cell_type": "code",
   "execution_count": 0,
   "metadata": {
    "application/vnd.databricks.v1+cell": {
     "cellMetadata": {
      "byteLimit": 2048000,
      "rowLimit": 10000
     },
     "inputWidgets": {},
     "nuid": "7e7f05fe-8bf3-4502-8299-2cbc97767889",
     "showTitle": false,
     "title": ""
    }
   },
   "outputs": [
    {
     "output_type": "stream",
     "name": "stdout",
     "output_type": "stream",
     "text": [
      " How are you?\n Have you seen my notebook?\n"
     ]
    }
   ],
   "source": [
    "import re\n",
    "questions_list = re.findall(r'[^.!?]*\\?', text)\n",
    "for question in questions_list:\n",
    "    print(question)"
   ]
  },
  {
   "cell_type": "code",
   "execution_count": 0,
   "metadata": {
    "application/vnd.databricks.v1+cell": {
     "cellMetadata": {
      "byteLimit": 2048000,
      "rowLimit": 10000
     },
     "inputWidgets": {},
     "nuid": "4e35614c-8039-43db-9bb4-00c796052696",
     "showTitle": false,
     "title": ""
    }
   },
   "outputs": [
    {
     "output_type": "stream",
     "name": "stdout",
     "output_type": "stream",
     "text": [
      "Hello How are you I hope youre enjoying your day Have you seen my notebook Its important Thanks for your help\n"
     ]
    }
   ],
   "source": [
    "no_punctuation = ''.join(char for char in text if char.isalnum() or char.isspace())\n",
    "print(no_punctuation)"
   ]
  },
  {
   "cell_type": "code",
   "execution_count": 0,
   "metadata": {
    "application/vnd.databricks.v1+cell": {
     "cellMetadata": {
      "byteLimit": 2048000,
      "rowLimit": 10000
     },
     "inputWidgets": {},
     "nuid": "0134fecf-4feb-49e7-919e-32d24a2d2732",
     "showTitle": false,
     "title": ""
    }
   },
   "outputs": [
    {
     "output_type": "stream",
     "name": "stdout",
     "output_type": "stream",
     "text": [
      "2\n"
     ]
    }
   ],
   "source": [
    "word_list = no_punctuation.lower().split()\n",
    "count_you = word_list.count('you')\n",
    "print(count_you)"
   ]
  },
  {
   "cell_type": "code",
   "execution_count": 0,
   "metadata": {
    "application/vnd.databricks.v1+cell": {
     "cellMetadata": {},
     "inputWidgets": {},
     "nuid": "e1434b35-70a8-434d-8f32-98e5bdc3b714",
     "showTitle": false,
     "title": ""
    }
   },
   "outputs": [],
   "source": []
  }
 ],
 "metadata": {
  "application/vnd.databricks.v1+notebook": {
   "dashboards": [],
   "language": "python",
   "notebookMetadata": {
    "pythonIndentUnit": 4
   },
   "notebookName": "task2_dict_string",
   "widgets": {}
  }
 },
 "nbformat": 4,
 "nbformat_minor": 0
}
