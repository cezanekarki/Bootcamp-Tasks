{
 "cells": [
  {
   "cell_type": "code",
   "execution_count": 0,
   "metadata": {
    "application/vnd.databricks.v1+cell": {
     "cellMetadata": {
      "byteLimit": 2048000,
      "rowLimit": 10000
     },
     "inputWidgets": {},
     "nuid": "7e0621d3-d992-4803-8281-73809548fa2d",
     "showTitle": false,
     "title": ""
    }
   },
   "outputs": [],
   "source": [
    "data_dictionary = {\n",
    "\n",
    "    \"company\": {\n",
    "\n",
    "        \"name\": \"TechGiant\",\n",
    "\n",
    "        \"industry\": \"Technology\",\n",
    "\n",
    "        \"locations\": {\n",
    "\n",
    "            \"headquarters\": \"New York\",\n",
    "\n",
    "            \"branches\": [\"San Francisco\", \"Berlin\", \"Tokyo\"]\n",
    "\n",
    "        },\n",
    "\n",
    "        \"departments\": {\n",
    "\n",
    "            \"development\": {\n",
    "\n",
    "                \"employees\": 120,\n",
    "\n",
    "                \"projects\": [\"App Development\", \"Software Maintenance\"]\n",
    "\n",
    "            },\n",
    "\n",
    "            \"marketing\": {\n",
    "\n",
    "                \"employees\": 45,\n",
    "\n",
    "                \"projects\": [\"Brand Campaign\", \"Social Media\"]\n",
    "\n",
    "            },\n",
    "\n",
    "            \"sales\": {\n",
    "\n",
    "                \"employees\": 70,\n",
    "\n",
    "                \"projects\": [\"Domestic Sales\", \"International Sales\"]\n",
    "\n",
    "            }\n",
    "\n",
    "        }\n",
    "\n",
    "    },\n",
    "\n",
    "    \"market_info\": {\n",
    "\n",
    "        \"competitors\": [\"DataCorp\", \"InnovaCon\", \"NextGenTech\"],\n",
    "\n",
    "        \"market_trends\": {\n",
    "\n",
    "            \"current\": \"AI and Machine Learning\",\n",
    "\n",
    "            \"emerging\": \"Quantum Computing\"\n",
    "\n",
    "        }\n",
    "\n",
    "    }\n",
    "\n",
    "}\n",
    "\n"
   ]
  },
  {
   "cell_type": "code",
   "execution_count": 0,
   "metadata": {
    "application/vnd.databricks.v1+cell": {
     "cellMetadata": {
      "byteLimit": 2048000,
      "rowLimit": 10000
     },
     "inputWidgets": {},
     "nuid": "c4996a7b-2a3d-4eab-961d-76db8b72e14b",
     "showTitle": false,
     "title": ""
    }
   },
   "outputs": [
    {
     "output_type": "stream",
     "name": "stdout",
     "output_type": "stream",
     "text": [
      "The name of the company is TechGiant .\n"
     ]
    }
   ],
   "source": [
    "company_name = data_dictionary[\"company\"][\"name\"]\n",
    "print(\"The name of the company is\", company_name)"
   ]
  },
  {
   "cell_type": "code",
   "execution_count": 0,
   "metadata": {
    "application/vnd.databricks.v1+cell": {
     "cellMetadata": {
      "byteLimit": 2048000,
      "rowLimit": 10000
     },
     "inputWidgets": {},
     "nuid": "8900b25a-0584-4c06-93c2-2373e9a4e1f7",
     "showTitle": false,
     "title": ""
    }
   },
   "outputs": [
    {
     "output_type": "stream",
     "name": "stdout",
     "output_type": "stream",
     "text": [
      "The nuumber of Employees in the Development Department is 120\n"
     ]
    }
   ],
   "source": [
    "employees_development = data_dictionary[\"company\"][\"departments\"][\"development\"][\"employees\"]\n",
    "print(\"The nuumber of Employees in the Development Department is\", employees_development)"
   ]
  },
  {
   "cell_type": "code",
   "execution_count": 0,
   "metadata": {
    "application/vnd.databricks.v1+cell": {
     "cellMetadata": {
      "byteLimit": 2048000,
      "rowLimit": 10000
     },
     "inputWidgets": {},
     "nuid": "fffac0a3-7429-4cf0-be4f-992be5c77c2a",
     "showTitle": false,
     "title": ""
    }
   },
   "outputs": [
    {
     "output_type": "stream",
     "name": "stdout",
     "output_type": "stream",
     "text": [
      "The emerging Market Trend is Quantum Computing\n"
     ]
    }
   ],
   "source": [
    "emerging_trend = data_dictionary[\"market_info\"][\"market_trends\"][\"emerging\"]\n",
    "print(\"The emerging Market Trend is\", emerging_trend)"
   ]
  },
  {
   "cell_type": "code",
   "execution_count": 0,
   "metadata": {
    "application/vnd.databricks.v1+cell": {
     "cellMetadata": {
      "byteLimit": 2048000,
      "rowLimit": 10000
     },
     "inputWidgets": {},
     "nuid": "17302d4b-bb41-4bf8-9ce0-4e175663ca52",
     "showTitle": false,
     "title": ""
    }
   },
   "outputs": [
    {
     "output_type": "stream",
     "name": "stdout",
     "output_type": "stream",
     "text": [
      "Branch Locations are ['San Francisco', 'Berlin', 'Tokyo']\n"
     ]
    }
   ],
   "source": [
    "branch_locations = data_dictionary[\"company\"][\"locations\"][\"branches\"]\n",
    "print(\"Branch Locations are\", branch_locations)"
   ]
  },
  {
   "cell_type": "code",
   "execution_count": 0,
   "metadata": {
    "application/vnd.databricks.v1+cell": {
     "cellMetadata": {
      "byteLimit": 2048000,
      "rowLimit": 10000
     },
     "inputWidgets": {},
     "nuid": "c1a880c9-aca5-4b31-9f60-61e503ddbc3d",
     "showTitle": false,
     "title": ""
    }
   },
   "outputs": [
    {
     "output_type": "stream",
     "name": "stdout",
     "output_type": "stream",
     "text": [
      "Projects under marketing department are ['Brand Campaign', 'Social Media']\n"
     ]
    }
   ],
   "source": [
    "marketing_projects = data_dictionary[\"company\"][\"departments\"][\"marketing\"][\"projects\"]\n",
    "print(\"Projects under marketing department are\", marketing_projects)\n"
   ]
  },
  {
   "cell_type": "code",
   "execution_count": 0,
   "metadata": {
    "application/vnd.databricks.v1+cell": {
     "cellMetadata": {
      "byteLimit": 2048000,
      "rowLimit": 10000
     },
     "inputWidgets": {},
     "nuid": "4df92b42-352d-4feb-9f66-f5919f628054",
     "showTitle": false,
     "title": ""
    }
   },
   "outputs": [
    {
     "output_type": "stream",
     "name": "stdout",
     "output_type": "stream",
     "text": [
      "['DataCorp', 'InnovaCon', 'NextGenTech']\n"
     ]
    }
   ],
   "source": [
    "competitors = data_dictionary[\"market_info\"][\"competitors\"]\n",
    "print(\"competitors are\", competitors)"
   ]
  },
  {
   "cell_type": "code",
   "execution_count": 0,
   "metadata": {
    "application/vnd.databricks.v1+cell": {
     "cellMetadata": {
      "byteLimit": 2048000,
      "rowLimit": 10000
     },
     "inputWidgets": {},
     "nuid": "b1e78e47-6d1f-4711-ba5b-4f5b9e42abf7",
     "showTitle": false,
     "title": ""
    }
   },
   "outputs": [
    {
     "output_type": "stream",
     "name": "stdout",
     "output_type": "stream",
     "text": [
      "Industry falls under: Technology\n"
     ]
    }
   ],
   "source": [
    "industry = data_dictionary[\"company\"][\"industry\"]\n",
    "print(\"Industry falls under:\", industry)"
   ]
  },
  {
   "cell_type": "code",
   "execution_count": 0,
   "metadata": {
    "application/vnd.databricks.v1+cell": {
     "cellMetadata": {
      "byteLimit": 2048000,
      "rowLimit": 10000
     },
     "inputWidgets": {},
     "nuid": "cb91549b-b5d9-482d-8f18-21477077c40c",
     "showTitle": false,
     "title": ""
    }
   },
   "outputs": [
    {
     "output_type": "stream",
     "name": "stdout",
     "output_type": "stream",
     "text": [
      "The location of headquarters is New York\n"
     ]
    }
   ],
   "source": [
    "headquarter_location = data_dictionary[\"company\"][\"locations\"][\"headquarters\"]\n",
    "print(\"The location of headquarters is\", headquarter_location)"
   ]
  },
  {
   "cell_type": "code",
   "execution_count": 0,
   "metadata": {
    "application/vnd.databricks.v1+cell": {
     "cellMetadata": {},
     "inputWidgets": {},
     "nuid": "4c4e369d-1f0e-45f0-bfa3-e5cf01935542",
     "showTitle": false,
     "title": ""
    }
   },
   "outputs": [],
   "source": []
  }
 ],
 "metadata": {
  "application/vnd.databricks.v1+notebook": {
   "dashboards": [],
   "language": "python",
   "notebookMetadata": {
    "pythonIndentUnit": 4
   },
   "notebookName": "Dictionary",
   "widgets": {}
  }
 },
 "nbformat": 4,
 "nbformat_minor": 0
}
