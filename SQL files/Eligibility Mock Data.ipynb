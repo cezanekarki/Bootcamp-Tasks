{
 "cells": [
  {
   "cell_type": "code",
   "execution_count": 0,
   "metadata": {
    "application/vnd.databricks.v1+cell": {
     "cellMetadata": {
      "byteLimit": 2048000,
      "rowLimit": 10000
     },
     "inputWidgets": {},
     "nuid": "23818752-9315-4f1e-b651-9ee93724ff2e",
     "showTitle": false,
     "title": ""
    }
   },
   "outputs": [
    {
     "output_type": "stream",
     "name": "stdout",
     "output_type": "stream",
     "text": [
      "Sheet Name: 'Data Dictionary'\n"
     ]
    },
    {
     "output_type": "display_data",
     "data": {
      "text/html": [
       "<style scoped>\n",
       "  .table-result-container {\n",
       "    max-height: 300px;\n",
       "    overflow: auto;\n",
       "  }\n",
       "  table, th, td {\n",
       "    border: 1px solid black;\n",
       "    border-collapse: collapse;\n",
       "  }\n",
       "  th, td {\n",
       "    padding: 5px;\n",
       "  }\n",
       "  th {\n",
       "    text-align: left;\n",
       "  }\n",
       "</style><div class='table-result-container'><table class='table-result'><thead style='background-color: white'><tr><th>SN</th><th>Attributes</th><th>Data Type</th><th>Field Length</th><th>Definition</th><th>Sample Values</th></tr></thead><tbody><tr><td>1.0</td><td>MEMBER_ID</td><td>String</td><td>10.0</td><td>The identifier assigned a member within a group based on the eligibility file submitted by the client.</td><td>201500, 106900</td></tr><tr><td>2.0</td><td>EMPLOYEE_ID</td><td>String</td><td>10.0</td><td>The identification number assigned to the person responsible for payment of premiums or whose employment is the basis for eligibility for membership in a health plan.  This is the exact ID that was submitted on the claim. </td><td>223770, 29764</td></tr><tr><td>3.0</td><td>FIRST_NAME</td><td>String</td><td>50.0</td><td>The member's first name based on the eligibility file submitted by the client.</td><td>John</td></tr><tr><td>4.0</td><td>LAST_NAME</td><td>String</td><td>50.0</td><td>The member's last name based on the eligibility file submitted by the client.</td><td>Doe</td></tr><tr><td>5.0</td><td>MIDDLE_NAME</td><td>String</td><td>50.0</td><td>The member's middle name based on the eligibility file submitted by the client.</td><td>Merla</td></tr><tr><td>6.0</td><td>GENDER</td><td>Number</td><td>1.0</td><td>The gender of the member.</td><td>0,1,2</td></tr><tr><td>7.0</td><td>DOB</td><td>Date</td><td>10.0</td><td>The date of birth of the member based on the eligibility file submitted by the client.</td><td>2002-03-08</td></tr><tr><td>8.0</td><td>MEMBER_STATUS</td><td>String</td><td>10.0</td><td>The member's benefit status</td><td>ACTIVE, TERMED</td></tr><tr><td>9.0</td><td>RELATIONSHIP</td><td>String</td><td>5.0</td><td>The member's connection to the cardholder or subscriber. </td><td>S,F</td></tr><tr><td>10.0</td><td>PERSON_CODE</td><td>Number</td><td>2.0</td><td>The identification code assigned to a specific person within a family (or cardholder). Person code is optionally used in conjunction with the cardholder ID number to uniquely identify family members within the cardholder ID number (last 2 digits of the card ID).</td><td>01,02,03</td></tr><tr><td>11.0</td><td>GROUP_ID</td><td>Number</td><td>10.0</td><td>The identifier assigned to the third level of the claims processing system hierarchy - below carrier and account. Each account may be broken down into multiple groups representing individuals or groups of employees. The group number links a member to the appropriate benefit plan for claims processing. </td><td>1,2,3</td></tr><tr><td>12.0</td><td>COVERAGE_TYPE</td><td>String</td><td>5.0</td><td>The code that indicates the type of insurance coverage that the member currently has. </td><td>E,F,ES,E1C</td></tr><tr><td>13.0</td><td>PLAN_ID</td><td>String</td><td>5.0</td><td>The benefit plan identifier associated to the group for its members' eligibility, and sent via the group's eligibility file.</td><td>0,1,2</td></tr><tr><td>14.0</td><td>VENDOR</td><td>String</td><td>15.0</td><td>Data Source</td><td>Aetna, Cigna</td></tr><tr><td>15.0</td><td>EFFECTIVE_DATE</td><td>Date</td><td>10.0</td><td>The start date of the member's benefit coverage. </td><td>2020-10-01</td></tr><tr><td>16.0</td><td>TERMINATION_DATE</td><td>Date</td><td>10.0</td><td>The end date of the member's benefit coverage. </td><td>2020-11-30</td></tr><tr><td>17.0</td><td>RACE</td><td>String</td><td>20.0</td><td>Member's categorization</td><td>white</td></tr><tr><td>18.0</td><td>ETHNICITY</td><td>String</td><td>30.0</td><td>Member's ethnic group</td><td>nonhispanic</td></tr><tr><td>19.0</td><td>ADDRESS_1</td><td>String</td><td>100.0</td><td>The street address (line 1) of the subscriber based on the eligibility file submitted by the client.</td><td>970 Johnston Drive Apt 25</td></tr><tr><td>20.0</td><td>ADDRESS_2</td><td>String</td><td>100.0</td><td>The street address (line 2) of the subscriber based on the eligibility file submitted by the client.</td><td>null</td></tr><tr><td>21.0</td><td>CITY</td><td>String</td><td>40.0</td><td>The city address of the subscriber based on the eligibility file submitted by the client.</td><td>Worcester</td></tr><tr><td>22.0</td><td>STATE</td><td>String</td><td>50.0</td><td>The state abbreviation of the subscriber based on the eligibility file submitted by the client.</td><td>Massachusetts</td></tr><tr><td>23.0</td><td>COUNTY</td><td>String</td><td>50.0</td><td>An administrative or political subdivision of a state of the subscriber based on the eligibility file submitted by the client.</td><td>Worcester County</td></tr><tr><td>24.0</td><td>ZIP</td><td>String</td><td>10.0</td><td>The member's zip code based on the eligibility file submitted by the client.</td><td>01583</td></tr><tr><td>null</td><td>null</td><td>null</td><td>null</td><td>null</td><td>null</td></tr><tr><td>null</td><td>null</td><td>null</td><td>null</td><td>null</td><td>null</td></tr><tr><td>null</td><td>null</td><td>null</td><td>null</td><td>null</td><td>null</td></tr><tr><td>null</td><td>null</td><td>null</td><td>null</td><td>null</td><td>null</td></tr><tr><td>null</td><td>null</td><td>null</td><td>null</td><td>null</td><td>null</td></tr><tr><td>null</td><td>null</td><td>null</td><td>null</td><td>null</td><td>null</td></tr><tr><td>NaN</td><td>null</td><td>null</td><td>null</td><td>null</td><td>null</td></tr><tr><td>NaN</td><td>Attributes</td><td>Data Type</td><td>NaN</td><td>Definition</td><td>Sample Values</td></tr><tr><td>1.0</td><td>MEMBER_ID</td><td>String</td><td>10.0</td><td>The identifier assigned a member within a group based on the eligibility file submitted by the client.</td><td>201500, 106900</td></tr><tr><td>2.0</td><td>MEMBER_STATUS</td><td>String</td><td>10.0</td><td>The member's benefit status</td><td>ACTIVE, TERMED</td></tr><tr><td>3.0</td><td>GROUP_ID</td><td>Number</td><td>10.0</td><td>The identifier assigned to the third level of the claims processing system hierarchy - below carrier and account. Each account may be broken down into multiple groups representing individuals or groups of employees. The group number links a member to the appropriate benefit plan for claims processing. </td><td>1,2,3</td></tr><tr><td>4.0</td><td>COVERAGE_TYPE</td><td>String</td><td>5.0</td><td>The code that indicates the type of insurance coverage that the member currently has. </td><td>E,F,ES,E1C</td></tr><tr><td>5.0</td><td>PLAN_ID</td><td>String</td><td>5.0</td><td>The benefit plan identifier associated to the group for its members' eligibility, and sent via the group's eligibility file.</td><td>0,1,2</td></tr><tr><td>6.0</td><td>VENDOR</td><td>String</td><td>15.0</td><td>Data Source</td><td>Aetna, Cigna</td></tr><tr><td>7.0</td><td>EFFECTIVE_DATE</td><td>Date</td><td>10.0</td><td>The start date of the member's benefit coverage. </td><td>44105</td></tr><tr><td>8.0</td><td>TERMINATION_DATE</td><td>Date</td><td>10.0</td><td>The end date of the member's benefit coverage. </td><td>44165</td></tr><tr><td>NaN</td><td>null</td><td>null</td><td>null</td><td>null</td><td>null</td></tr><tr><td>NaN</td><td>Attributes</td><td>Data Type</td><td>NaN</td><td>Definition</td><td>Sample Values</td></tr><tr><td>1.0</td><td>MEMBER_ID</td><td>String</td><td>10.0</td><td>The identifier assigned a member within a group based on the eligibility file submitted by the client.</td><td>201500, 106900</td></tr><tr><td>2.0</td><td>EMPLOYEE_ID</td><td>String</td><td>10.0</td><td>The identification number assigned to the person responsible for payment of premiums or whose employment is the basis for eligibility for membership in a health plan.  This is the exact ID that was submitted on the claim. </td><td>223770, 29764</td></tr><tr><td>3.0</td><td>FIRST_NAME</td><td>String</td><td>50.0</td><td>The member's first name based on the eligibility file submitted by the client.</td><td>John</td></tr><tr><td>4.0</td><td>LAST_NAME</td><td>String</td><td>50.0</td><td>The member's last name based on the eligibility file submitted by the client.</td><td>Doe</td></tr><tr><td>5.0</td><td>MIDDLE_NAME</td><td>String</td><td>50.0</td><td>The member's middle name based on the eligibility file submitted by the client.</td><td>Merla</td></tr><tr><td>6.0</td><td>GENDER</td><td>Number</td><td>1.0</td><td>The gender of the member.</td><td>0,1,2</td></tr><tr><td>7.0</td><td>DOB</td><td>Date</td><td>10.0</td><td>The date of birth of the member based on the eligibility file submitted by the client.</td><td>2002-03-08</td></tr><tr><td>8.0</td><td>RELATIONSHIP</td><td>String</td><td>5.0</td><td>The member's connection to the cardholder or subscriber. </td><td>S,F</td></tr><tr><td>9.0</td><td>PERSON_CODE</td><td>Number</td><td>2.0</td><td>The identification code assigned to a specific person within a family (or cardholder). Person code is optionally used in conjunction with the cardholder ID number to uniquely identify family members within the cardholder ID number (last 2 digits of the card ID).</td><td>01,02,03</td></tr><tr><td>10.0</td><td>RACE</td><td>String</td><td>20.0</td><td>Member's categorization</td><td>white</td></tr><tr><td>11.0</td><td>ETHNICITY</td><td>String</td><td>30.0</td><td>Member's ethnic group</td><td>nonhispanic</td></tr><tr><td>12.0</td><td>ADDRESS_1</td><td>String</td><td>100.0</td><td>The street address (line 1) of the subscriber based on the eligibility file submitted by the client.</td><td>970 Johnston Drive Apt 25</td></tr><tr><td>13.0</td><td>ADDRESS_2</td><td>String</td><td>100.0</td><td>The street address (line 2) of the subscriber based on the eligibility file submitted by the client.</td><td>0</td></tr><tr><td>14.0</td><td>CITY</td><td>String</td><td>40.0</td><td>The city address of the subscriber based on the eligibility file submitted by the client.</td><td>Worcester</td></tr><tr><td>15.0</td><td>STATE</td><td>String</td><td>50.0</td><td>The state abbreviation of the subscriber based on the eligibility file submitted by the client.</td><td>Massachusetts</td></tr><tr><td>16.0</td><td>COUNTY</td><td>String</td><td>50.0</td><td>An administrative or political subdivision of a state of the subscriber based on the eligibility file submitted by the client.</td><td>Worcester County</td></tr><tr><td>17.0</td><td>ZIP</td><td>String</td><td>10.0</td><td>The member's zip code based on the eligibility file submitted by the client.</td><td>01583</td></tr></tbody></table></div>"
      ]
     },
     "metadata": {
      "application/vnd.databricks.v1+output": {
       "addedWidgets": {},
       "aggData": [],
       "aggError": "",
       "aggOverflow": false,
       "aggSchema": [],
       "aggSeriesLimitReached": false,
       "aggType": "",
       "arguments": {},
       "columnCustomDisplayInfos": {},
       "data": [
        [
         1.0,
         "MEMBER_ID",
         "String",
         10.0,
         "The identifier assigned a member within a group based on the eligibility file submitted by the client.",
         "201500, 106900"
        ],
        [
         2.0,
         "EMPLOYEE_ID",
         "String",
         10.0,
         "The identification number assigned to the person responsible for payment of premiums or whose employment is the basis for eligibility for membership in a health plan.  This is the exact ID that was submitted on the claim. ",
         "223770, 29764"
        ],
        [
         3.0,
         "FIRST_NAME",
         "String",
         50.0,
         "The member's first name based on the eligibility file submitted by the client.",
         "John"
        ],
        [
         4.0,
         "LAST_NAME",
         "String",
         50.0,
         "The member's last name based on the eligibility file submitted by the client.",
         "Doe"
        ],
        [
         5.0,
         "MIDDLE_NAME",
         "String",
         50.0,
         "The member's middle name based on the eligibility file submitted by the client.",
         "Merla"
        ],
        [
         6.0,
         "GENDER",
         "Number",
         1.0,
         "The gender of the member.",
         "0,1,2"
        ],
        [
         7.0,
         "DOB",
         "Date",
         10.0,
         "The date of birth of the member based on the eligibility file submitted by the client.",
         "2002-03-08"
        ],
        [
         8.0,
         "MEMBER_STATUS",
         "String",
         10.0,
         "The member's benefit status",
         "ACTIVE, TERMED"
        ],
        [
         9.0,
         "RELATIONSHIP",
         "String",
         5.0,
         "The member's connection to the cardholder or subscriber. ",
         "S,F"
        ],
        [
         10.0,
         "PERSON_CODE",
         "Number",
         2.0,
         "The identification code assigned to a specific person within a family (or cardholder). Person code is optionally used in conjunction with the cardholder ID number to uniquely identify family members within the cardholder ID number (last 2 digits of the card ID).",
         "01,02,03"
        ],
        [
         11.0,
         "GROUP_ID",
         "Number",
         10.0,
         "The identifier assigned to the third level of the claims processing system hierarchy - below carrier and account. Each account may be broken down into multiple groups representing individuals or groups of employees. The group number links a member to the appropriate benefit plan for claims processing. ",
         "1,2,3"
        ],
        [
         12.0,
         "COVERAGE_TYPE",
         "String",
         5.0,
         "The code that indicates the type of insurance coverage that the member currently has. ",
         "E,F,ES,E1C"
        ],
        [
         13.0,
         "PLAN_ID",
         "String",
         5.0,
         "The benefit plan identifier associated to the group for its members' eligibility, and sent via the group's eligibility file.",
         "0,1,2"
        ],
        [
         14.0,
         "VENDOR",
         "String",
         15.0,
         "Data Source",
         "Aetna, Cigna"
        ],
        [
         15.0,
         "EFFECTIVE_DATE",
         "Date",
         10.0,
         "The start date of the member's benefit coverage. ",
         "2020-10-01"
        ],
        [
         16.0,
         "TERMINATION_DATE",
         "Date",
         10.0,
         "The end date of the member's benefit coverage. ",
         "2020-11-30"
        ],
        [
         17.0,
         "RACE",
         "String",
         20.0,
         "Member's categorization",
         "white"
        ],
        [
         18.0,
         "ETHNICITY",
         "String",
         30.0,
         "Member's ethnic group",
         "nonhispanic"
        ],
        [
         19.0,
         "ADDRESS_1",
         "String",
         100.0,
         "The street address (line 1) of the subscriber based on the eligibility file submitted by the client.",
         "970 Johnston Drive Apt 25"
        ],
        [
         20.0,
         "ADDRESS_2",
         "String",
         100.0,
         "The street address (line 2) of the subscriber based on the eligibility file submitted by the client.",
         null
        ],
        [
         21.0,
         "CITY",
         "String",
         40.0,
         "The city address of the subscriber based on the eligibility file submitted by the client.",
         "Worcester"
        ],
        [
         22.0,
         "STATE",
         "String",
         50.0,
         "The state abbreviation of the subscriber based on the eligibility file submitted by the client.",
         "Massachusetts"
        ],
        [
         23.0,
         "COUNTY",
         "String",
         50.0,
         "An administrative or political subdivision of a state of the subscriber based on the eligibility file submitted by the client.",
         "Worcester County"
        ],
        [
         24.0,
         "ZIP",
         "String",
         10.0,
         "The member's zip code based on the eligibility file submitted by the client.",
         "01583"
        ],
        [
         null,
         null,
         null,
         null,
         null,
         null
        ],
        [
         null,
         null,
         null,
         null,
         null,
         null
        ],
        [
         null,
         null,
         null,
         null,
         null,
         null
        ],
        [
         null,
         null,
         null,
         null,
         null,
         null
        ],
        [
         null,
         null,
         null,
         null,
         null,
         null
        ],
        [
         null,
         null,
         null,
         null,
         null,
         null
        ],
        [
         "NaN",
         null,
         null,
         null,
         null,
         null
        ],
        [
         "NaN",
         "Attributes",
         "Data Type",
         "NaN",
         "Definition",
         "Sample Values"
        ],
        [
         1.0,
         "MEMBER_ID",
         "String",
         10.0,
         "The identifier assigned a member within a group based on the eligibility file submitted by the client.",
         "201500, 106900"
        ],
        [
         2.0,
         "MEMBER_STATUS",
         "String",
         10.0,
         "The member's benefit status",
         "ACTIVE, TERMED"
        ],
        [
         3.0,
         "GROUP_ID",
         "Number",
         10.0,
         "The identifier assigned to the third level of the claims processing system hierarchy - below carrier and account. Each account may be broken down into multiple groups representing individuals or groups of employees. The group number links a member to the appropriate benefit plan for claims processing. ",
         "1,2,3"
        ],
        [
         4.0,
         "COVERAGE_TYPE",
         "String",
         5.0,
         "The code that indicates the type of insurance coverage that the member currently has. ",
         "E,F,ES,E1C"
        ],
        [
         5.0,
         "PLAN_ID",
         "String",
         5.0,
         "The benefit plan identifier associated to the group for its members' eligibility, and sent via the group's eligibility file.",
         "0,1,2"
        ],
        [
         6.0,
         "VENDOR",
         "String",
         15.0,
         "Data Source",
         "Aetna, Cigna"
        ],
        [
         7.0,
         "EFFECTIVE_DATE",
         "Date",
         10.0,
         "The start date of the member's benefit coverage. ",
         "44105"
        ],
        [
         8.0,
         "TERMINATION_DATE",
         "Date",
         10.0,
         "The end date of the member's benefit coverage. ",
         "44165"
        ],
        [
         "NaN",
         null,
         null,
         null,
         null,
         null
        ],
        [
         "NaN",
         "Attributes",
         "Data Type",
         "NaN",
         "Definition",
         "Sample Values"
        ],
        [
         1.0,
         "MEMBER_ID",
         "String",
         10.0,
         "The identifier assigned a member within a group based on the eligibility file submitted by the client.",
         "201500, 106900"
        ],
        [
         2.0,
         "EMPLOYEE_ID",
         "String",
         10.0,
         "The identification number assigned to the person responsible for payment of premiums or whose employment is the basis for eligibility for membership in a health plan.  This is the exact ID that was submitted on the claim. ",
         "223770, 29764"
        ],
        [
         3.0,
         "FIRST_NAME",
         "String",
         50.0,
         "The member's first name based on the eligibility file submitted by the client.",
         "John"
        ],
        [
         4.0,
         "LAST_NAME",
         "String",
         50.0,
         "The member's last name based on the eligibility file submitted by the client.",
         "Doe"
        ],
        [
         5.0,
         "MIDDLE_NAME",
         "String",
         50.0,
         "The member's middle name based on the eligibility file submitted by the client.",
         "Merla"
        ],
        [
         6.0,
         "GENDER",
         "Number",
         1.0,
         "The gender of the member.",
         "0,1,2"
        ],
        [
         7.0,
         "DOB",
         "Date",
         10.0,
         "The date of birth of the member based on the eligibility file submitted by the client.",
         "2002-03-08"
        ],
        [
         8.0,
         "RELATIONSHIP",
         "String",
         5.0,
         "The member's connection to the cardholder or subscriber. ",
         "S,F"
        ],
        [
         9.0,
         "PERSON_CODE",
         "Number",
         2.0,
         "The identification code assigned to a specific person within a family (or cardholder). Person code is optionally used in conjunction with the cardholder ID number to uniquely identify family members within the cardholder ID number (last 2 digits of the card ID).",
         "01,02,03"
        ],
        [
         10.0,
         "RACE",
         "String",
         20.0,
         "Member's categorization",
         "white"
        ],
        [
         11.0,
         "ETHNICITY",
         "String",
         30.0,
         "Member's ethnic group",
         "nonhispanic"
        ],
        [
         12.0,
         "ADDRESS_1",
         "String",
         100.0,
         "The street address (line 1) of the subscriber based on the eligibility file submitted by the client.",
         "970 Johnston Drive Apt 25"
        ],
        [
         13.0,
         "ADDRESS_2",
         "String",
         100.0,
         "The street address (line 2) of the subscriber based on the eligibility file submitted by the client.",
         "0"
        ],
        [
         14.0,
         "CITY",
         "String",
         40.0,
         "The city address of the subscriber based on the eligibility file submitted by the client.",
         "Worcester"
        ],
        [
         15.0,
         "STATE",
         "String",
         50.0,
         "The state abbreviation of the subscriber based on the eligibility file submitted by the client.",
         "Massachusetts"
        ],
        [
         16.0,
         "COUNTY",
         "String",
         50.0,
         "An administrative or political subdivision of a state of the subscriber based on the eligibility file submitted by the client.",
         "Worcester County"
        ],
        [
         17.0,
         "ZIP",
         "String",
         10.0,
         "The member's zip code based on the eligibility file submitted by the client.",
         "01583"
        ]
       ],
       "datasetInfos": [],
       "dbfsResultPath": null,
       "isJsonSchema": true,
       "metadata": {},
       "overflow": false,
       "plotOptions": {
        "customPlotOptions": {},
        "displayType": "table",
        "pivotAggregation": null,
        "pivotColumns": null,
        "xColumns": null,
        "yColumns": null
       },
       "removedWidgets": [],
       "schema": [
        {
         "metadata": "{}",
         "name": "SN",
         "type": "\"double\""
        },
        {
         "metadata": "{}",
         "name": "Attributes",
         "type": "\"string\""
        },
        {
         "metadata": "{}",
         "name": "Data Type",
         "type": "\"string\""
        },
        {
         "metadata": "{}",
         "name": "Field Length",
         "type": "\"double\""
        },
        {
         "metadata": "{}",
         "name": "Definition",
         "type": "\"string\""
        },
        {
         "metadata": "{}",
         "name": "Sample Values",
         "type": "\"string\""
        }
       ],
       "type": "table"
      }
     },
     "output_type": "display_data"
    },
    {
     "output_type": "stream",
     "name": "stdout",
     "output_type": "stream",
     "text": [
      "Sheet Name: 'Crosswalks'\n"
     ]
    },
    {
     "output_type": "display_data",
     "data": {
      "text/html": [
       "<style scoped>\n",
       "  .table-result-container {\n",
       "    max-height: 300px;\n",
       "    overflow: auto;\n",
       "  }\n",
       "  table, th, td {\n",
       "    border: 1px solid black;\n",
       "    border-collapse: collapse;\n",
       "  }\n",
       "  th, td {\n",
       "    padding: 5px;\n",
       "  }\n",
       "  th {\n",
       "    text-align: left;\n",
       "  }\n",
       "</style><div class='table-result-container'><table class='table-result'><thead style='background-color: white'><tr><th>Gender Crosswalk</th><th>_c1</th><th>_c2</th></tr></thead><tbody><tr><td>Code</td><td>Rollup_Code</td><td>Rollup_Description</td></tr><tr><td>0</td><td>F</td><td>Female</td></tr><tr><td>1</td><td>M</td><td>Male</td></tr><tr><td>2</td><td>U</td><td>Unknown</td></tr><tr><td>Relationship Crosswalk</td><td>null</td><td>null</td></tr><tr><td>Rollup_Code</td><td>Rollup_Description</td><td>null</td></tr><tr><td>E</td><td>Self</td><td>null</td></tr><tr><td>S</td><td>Spouse</td><td>null</td></tr><tr><td>F</td><td>Father</td><td>null</td></tr><tr><td>M</td><td>Mother</td><td>null</td></tr><tr><td>C1</td><td>Son</td><td>null</td></tr><tr><td>C2</td><td>Daughter</td><td>null</td></tr><tr><td>G1</td><td>Grand Father</td><td>null</td></tr><tr><td>G2</td><td>Grand Mother</td><td>null</td></tr><tr><td>G3</td><td>Grand Son</td><td>null</td></tr><tr><td>G4</td><td>Grand Daughter</td><td>null</td></tr><tr><td>A1</td><td>Adopted Son</td><td>null</td></tr><tr><td>A2</td><td>Adapted Daughter</td><td>null</td></tr><tr><td>N</td><td>Niece</td><td>null</td></tr><tr><td>F</td><td>Fiance</td><td>null</td></tr><tr><td>D1</td><td>Divorced Husband</td><td>null</td></tr><tr><td>D2</td><td>Divorced Wife</td><td>null</td></tr><tr><td>U</td><td>Unknown</td><td>null</td></tr><tr><td>Group Crosswalk</td><td>null</td><td>null</td></tr><tr><td>GROUP_ID</td><td>GROUP_NAME</td><td>null</td></tr><tr><td>8</td><td>TechKraft Inc</td><td>null</td></tr><tr><td>1</td><td>Abacus Insights</td><td>null</td></tr><tr><td>4</td><td>Digital Convergence Technologies</td><td>null</td></tr><tr><td>3</td><td>Facebook</td><td>null</td></tr><tr><td>2</td><td>Google</td><td>null</td></tr><tr><td>null</td><td>null</td><td>null</td></tr><tr><td>Coverage Crosswalk</td><td>null</td><td>null</td></tr><tr><td>Coverage_ID</td><td>Coverage_Description</td><td>null</td></tr><tr><td>E</td><td>Employee Only</td><td>null</td></tr><tr><td>ES</td><td>Employee and Spouse</td><td>null</td></tr><tr><td>F</td><td>Family</td><td>null</td></tr><tr><td>E1C</td><td>Employee and 1 Child</td><td>null</td></tr><tr><td>EC</td><td>Employee and Childrens</td><td>null</td></tr><tr><td>EP</td><td>Employee and Parents</td><td>null</td></tr><tr><td>U</td><td>Unknown</td><td>null</td></tr><tr><td>null</td><td>null</td><td>null</td></tr><tr><td>Plan Crosswalk</td><td>null</td><td>null</td></tr><tr><td>PLAN_ID</td><td>Plan Name</td><td>BENEFIT_TYPE</td></tr><tr><td>0</td><td>Plan A</td><td>Medical</td></tr><tr><td>1</td><td>Plan B</td><td>Medical and Dental</td></tr><tr><td>2</td><td>Plan C</td><td>Medical and Vision</td></tr><tr><td>3</td><td>Plan D</td><td>Medical, Dental and Vision</td></tr><tr><td>4</td><td>Plan E</td><td>Medical</td></tr><tr><td>5</td><td>Plan F</td><td>Medical and Dental</td></tr><tr><td>6</td><td>Plan G</td><td>Medical and Vision</td></tr><tr><td>7</td><td>Plan H</td><td>Medical, Dental and Vision</td></tr><tr><td>8</td><td>Plan I</td><td>Medical</td></tr><tr><td>9</td><td>Plan J</td><td>Medical and Dental</td></tr><tr><td>10</td><td>Plan K</td><td>Medical and Vision</td></tr><tr><td>11</td><td>Plan L</td><td>Medical, Dental and Vision</td></tr><tr><td>12</td><td>Plan M</td><td>Medical</td></tr><tr><td>13</td><td>Plan N</td><td>Medical and Dental</td></tr><tr><td>14</td><td>Plan O</td><td>Medical and Vision</td></tr><tr><td>15</td><td>Plan P</td><td>Medical, Dental and Vision</td></tr><tr><td>null</td><td>null</td><td>null</td></tr><tr><td>null</td><td>null</td><td>null</td></tr><tr><td>null</td><td>null</td><td>null</td></tr><tr><td>null</td><td>null</td><td>null</td></tr><tr><td>null</td><td>null</td><td>null</td></tr><tr><td>null</td><td>null</td><td>null</td></tr><tr><td>null</td><td>null</td><td>null</td></tr><tr><td>null</td><td>null</td><td>null</td></tr><tr><td>null</td><td>null</td><td>null</td></tr><tr><td>null</td><td>null</td><td>null</td></tr><tr><td>null</td><td>null</td><td>null</td></tr><tr><td>null</td><td>null</td><td>null</td></tr><tr><td>null</td><td>null</td><td>null</td></tr><tr><td>null</td><td>null</td><td>null</td></tr><tr><td>null</td><td>null</td><td>null</td></tr><tr><td>null</td><td>null</td><td>null</td></tr><tr><td>null</td><td>null</td><td>null</td></tr><tr><td>null</td><td>null</td><td>null</td></tr><tr><td>null</td><td>null</td><td>null</td></tr><tr><td>null</td><td>null</td><td>null</td></tr><tr><td>null</td><td>null</td><td>null</td></tr><tr><td>null</td><td>null</td><td>null</td></tr><tr><td>null</td><td>null</td><td>null</td></tr><tr><td>null</td><td>null</td><td>null</td></tr><tr><td>null</td><td>null</td><td>null</td></tr><tr><td>null</td><td>null</td><td>null</td></tr><tr><td>null</td><td>null</td><td>null</td></tr><tr><td>null</td><td>null</td><td>null</td></tr><tr><td>null</td><td>null</td><td>null</td></tr><tr><td>null</td><td>null</td><td>null</td></tr><tr><td>null</td><td>null</td><td>null</td></tr><tr><td>null</td><td>null</td><td>null</td></tr><tr><td>null</td><td>null</td><td>null</td></tr><tr><td>null</td><td>null</td><td>null</td></tr><tr><td>null</td><td>null</td><td>null</td></tr><tr><td>null</td><td>null</td><td>null</td></tr><tr><td>null</td><td>null</td><td>null</td></tr><tr><td>null</td><td>null</td><td>null</td></tr><tr><td>null</td><td>null</td><td>null</td></tr><tr><td>null</td><td>null</td><td>null</td></tr><tr><td>null</td><td>null</td><td>null</td></tr><tr><td>null</td><td>null</td><td>null</td></tr><tr><td>null</td><td>null</td><td>null</td></tr><tr><td>null</td><td>null</td><td>null</td></tr><tr><td>null</td><td>null</td><td>null</td></tr><tr><td>null</td><td>null</td><td>null</td></tr><tr><td>null</td><td>null</td><td>null</td></tr><tr><td>null</td><td>null</td><td>null</td></tr><tr><td>null</td><td>null</td><td>null</td></tr><tr><td>null</td><td>null</td><td>null</td></tr><tr><td>null</td><td>null</td><td>null</td></tr><tr><td>null</td><td>null</td><td>null</td></tr><tr><td>null</td><td>null</td><td>null</td></tr><tr><td>null</td><td>null</td><td>null</td></tr><tr><td>null</td><td>null</td><td>null</td></tr><tr><td>null</td><td>null</td><td>null</td></tr><tr><td>null</td><td>null</td><td>null</td></tr><tr><td>null</td><td>null</td><td>null</td></tr><tr><td>null</td><td>null</td><td>null</td></tr><tr><td>null</td><td>null</td><td>null</td></tr><tr><td>null</td><td>null</td><td>null</td></tr><tr><td>null</td><td>null</td><td>null</td></tr><tr><td>null</td><td>null</td><td>null</td></tr><tr><td>null</td><td>null</td><td>null</td></tr><tr><td>null</td><td>null</td><td>null</td></tr><tr><td>null</td><td>null</td><td>null</td></tr><tr><td>null</td><td>null</td><td>null</td></tr><tr><td>null</td><td>null</td><td>null</td></tr><tr><td>null</td><td>null</td><td>null</td></tr><tr><td>null</td><td>null</td><td>null</td></tr><tr><td>null</td><td>null</td><td>null</td></tr><tr><td>null</td><td>null</td><td>null</td></tr><tr><td>null</td><td>null</td><td>null</td></tr><tr><td>null</td><td>null</td><td>null</td></tr><tr><td>null</td><td>null</td><td>null</td></tr><tr><td>null</td><td>null</td><td>null</td></tr><tr><td>null</td><td>null</td><td>null</td></tr><tr><td>null</td><td>null</td><td>null</td></tr><tr><td>null</td><td>null</td><td>null</td></tr><tr><td>null</td><td>null</td><td>null</td></tr><tr><td>null</td><td>null</td><td>null</td></tr><tr><td>null</td><td>null</td><td>null</td></tr><tr><td>null</td><td>null</td><td>null</td></tr></tbody></table></div>"
      ]
     },
     "metadata": {
      "application/vnd.databricks.v1+output": {
       "addedWidgets": {},
       "aggData": [],
       "aggError": "",
       "aggOverflow": false,
       "aggSchema": [],
       "aggSeriesLimitReached": false,
       "aggType": "",
       "arguments": {},
       "columnCustomDisplayInfos": {},
       "data": [
        [
         "Code",
         "Rollup_Code",
         "Rollup_Description"
        ],
        [
         "0",
         "F",
         "Female"
        ],
        [
         "1",
         "M",
         "Male"
        ],
        [
         "2",
         "U",
         "Unknown"
        ],
        [
         "Relationship Crosswalk",
         null,
         null
        ],
        [
         "Rollup_Code",
         "Rollup_Description",
         null
        ],
        [
         "E",
         "Self",
         null
        ],
        [
         "S",
         "Spouse",
         null
        ],
        [
         "F",
         "Father",
         null
        ],
        [
         "M",
         "Mother",
         null
        ],
        [
         "C1",
         "Son",
         null
        ],
        [
         "C2",
         "Daughter",
         null
        ],
        [
         "G1",
         "Grand Father",
         null
        ],
        [
         "G2",
         "Grand Mother",
         null
        ],
        [
         "G3",
         "Grand Son",
         null
        ],
        [
         "G4",
         "Grand Daughter",
         null
        ],
        [
         "A1",
         "Adopted Son",
         null
        ],
        [
         "A2",
         "Adapted Daughter",
         null
        ],
        [
         "N",
         "Niece",
         null
        ],
        [
         "F",
         "Fiance",
         null
        ],
        [
         "D1",
         "Divorced Husband",
         null
        ],
        [
         "D2",
         "Divorced Wife",
         null
        ],
        [
         "U",
         "Unknown",
         null
        ],
        [
         "Group Crosswalk",
         null,
         null
        ],
        [
         "GROUP_ID",
         "GROUP_NAME",
         null
        ],
        [
         "8",
         "TechKraft Inc",
         null
        ],
        [
         "1",
         "Abacus Insights",
         null
        ],
        [
         "4",
         "Digital Convergence Technologies",
         null
        ],
        [
         "3",
         "Facebook",
         null
        ],
        [
         "2",
         "Google",
         null
        ],
        [
         null,
         null,
         null
        ],
        [
         "Coverage Crosswalk",
         null,
         null
        ],
        [
         "Coverage_ID",
         "Coverage_Description",
         null
        ],
        [
         "E",
         "Employee Only",
         null
        ],
        [
         "ES",
         "Employee and Spouse",
         null
        ],
        [
         "F",
         "Family",
         null
        ],
        [
         "E1C",
         "Employee and 1 Child",
         null
        ],
        [
         "EC",
         "Employee and Childrens",
         null
        ],
        [
         "EP",
         "Employee and Parents",
         null
        ],
        [
         "U",
         "Unknown",
         null
        ],
        [
         null,
         null,
         null
        ],
        [
         "Plan Crosswalk",
         null,
         null
        ],
        [
         "PLAN_ID",
         "Plan Name",
         "BENEFIT_TYPE"
        ],
        [
         "0",
         "Plan A",
         "Medical"
        ],
        [
         "1",
         "Plan B",
         "Medical and Dental"
        ],
        [
         "2",
         "Plan C",
         "Medical and Vision"
        ],
        [
         "3",
         "Plan D",
         "Medical, Dental and Vision"
        ],
        [
         "4",
         "Plan E",
         "Medical"
        ],
        [
         "5",
         "Plan F",
         "Medical and Dental"
        ],
        [
         "6",
         "Plan G",
         "Medical and Vision"
        ],
        [
         "7",
         "Plan H",
         "Medical, Dental and Vision"
        ],
        [
         "8",
         "Plan I",
         "Medical"
        ],
        [
         "9",
         "Plan J",
         "Medical and Dental"
        ],
        [
         "10",
         "Plan K",
         "Medical and Vision"
        ],
        [
         "11",
         "Plan L",
         "Medical, Dental and Vision"
        ],
        [
         "12",
         "Plan M",
         "Medical"
        ],
        [
         "13",
         "Plan N",
         "Medical and Dental"
        ],
        [
         "14",
         "Plan O",
         "Medical and Vision"
        ],
        [
         "15",
         "Plan P",
         "Medical, Dental and Vision"
        ],
        [
         null,
         null,
         null
        ],
        [
         null,
         null,
         null
        ],
        [
         null,
         null,
         null
        ],
        [
         null,
         null,
         null
        ],
        [
         null,
         null,
         null
        ],
        [
         null,
         null,
         null
        ],
        [
         null,
         null,
         null
        ],
        [
         null,
         null,
         null
        ],
        [
         null,
         null,
         null
        ],
        [
         null,
         null,
         null
        ],
        [
         null,
         null,
         null
        ],
        [
         null,
         null,
         null
        ],
        [
         null,
         null,
         null
        ],
        [
         null,
         null,
         null
        ],
        [
         null,
         null,
         null
        ],
        [
         null,
         null,
         null
        ],
        [
         null,
         null,
         null
        ],
        [
         null,
         null,
         null
        ],
        [
         null,
         null,
         null
        ],
        [
         null,
         null,
         null
        ],
        [
         null,
         null,
         null
        ],
        [
         null,
         null,
         null
        ],
        [
         null,
         null,
         null
        ],
        [
         null,
         null,
         null
        ],
        [
         null,
         null,
         null
        ],
        [
         null,
         null,
         null
        ],
        [
         null,
         null,
         null
        ],
        [
         null,
         null,
         null
        ],
        [
         null,
         null,
         null
        ],
        [
         null,
         null,
         null
        ],
        [
         null,
         null,
         null
        ],
        [
         null,
         null,
         null
        ],
        [
         null,
         null,
         null
        ],
        [
         null,
         null,
         null
        ],
        [
         null,
         null,
         null
        ],
        [
         null,
         null,
         null
        ],
        [
         null,
         null,
         null
        ],
        [
         null,
         null,
         null
        ],
        [
         null,
         null,
         null
        ],
        [
         null,
         null,
         null
        ],
        [
         null,
         null,
         null
        ],
        [
         null,
         null,
         null
        ],
        [
         null,
         null,
         null
        ],
        [
         null,
         null,
         null
        ],
        [
         null,
         null,
         null
        ],
        [
         null,
         null,
         null
        ],
        [
         null,
         null,
         null
        ],
        [
         null,
         null,
         null
        ],
        [
         null,
         null,
         null
        ],
        [
         null,
         null,
         null
        ],
        [
         null,
         null,
         null
        ],
        [
         null,
         null,
         null
        ],
        [
         null,
         null,
         null
        ],
        [
         null,
         null,
         null
        ],
        [
         null,
         null,
         null
        ],
        [
         null,
         null,
         null
        ],
        [
         null,
         null,
         null
        ],
        [
         null,
         null,
         null
        ],
        [
         null,
         null,
         null
        ],
        [
         null,
         null,
         null
        ],
        [
         null,
         null,
         null
        ],
        [
         null,
         null,
         null
        ],
        [
         null,
         null,
         null
        ],
        [
         null,
         null,
         null
        ],
        [
         null,
         null,
         null
        ],
        [
         null,
         null,
         null
        ],
        [
         null,
         null,
         null
        ],
        [
         null,
         null,
         null
        ],
        [
         null,
         null,
         null
        ],
        [
         null,
         null,
         null
        ],
        [
         null,
         null,
         null
        ],
        [
         null,
         null,
         null
        ],
        [
         null,
         null,
         null
        ],
        [
         null,
         null,
         null
        ],
        [
         null,
         null,
         null
        ],
        [
         null,
         null,
         null
        ],
        [
         null,
         null,
         null
        ],
        [
         null,
         null,
         null
        ],
        [
         null,
         null,
         null
        ],
        [
         null,
         null,
         null
        ],
        [
         null,
         null,
         null
        ],
        [
         null,
         null,
         null
        ],
        [
         null,
         null,
         null
        ]
       ],
       "datasetInfos": [],
       "dbfsResultPath": null,
       "isJsonSchema": true,
       "metadata": {},
       "overflow": false,
       "plotOptions": {
        "customPlotOptions": {},
        "displayType": "table",
        "pivotAggregation": null,
        "pivotColumns": null,
        "xColumns": null,
        "yColumns": null
       },
       "removedWidgets": [],
       "schema": [
        {
         "metadata": "{}",
         "name": "Gender Crosswalk",
         "type": "\"string\""
        },
        {
         "metadata": "{}",
         "name": "_c1",
         "type": "\"string\""
        },
        {
         "metadata": "{}",
         "name": "_c2",
         "type": "\"string\""
        }
       ],
       "type": "table"
      }
     },
     "output_type": "display_data"
    },
    {
     "output_type": "stream",
     "name": "stdout",
     "output_type": "stream",
     "text": [
      "Sheet Name: 'Enrollment Mock Data'\n"
     ]
    },
    {
     "output_type": "display_data",
     "data": {
      "text/html": [
       "<style scoped>\n",
       "  .table-result-container {\n",
       "    max-height: 300px;\n",
       "    overflow: auto;\n",
       "  }\n",
       "  table, th, td {\n",
       "    border: 1px solid black;\n",
       "    border-collapse: collapse;\n",
       "  }\n",
       "  th, td {\n",
       "    padding: 5px;\n",
       "  }\n",
       "  th {\n",
       "    text-align: left;\n",
       "  }\n",
       "</style><div class='table-result-container'><table class='table-result'><thead style='background-color: white'><tr><th>MEMBER_ID</th><th>MEMBER_STATUS</th><th>GROUP_ID</th><th>COVERAGE_TYPE</th><th>PLAN_ID</th><th>VENDOR</th><th>EFFECTIVE_DATE</th><th>TERMINATION_DATE</th></tr></thead><tbody><tr><td>173400</td><td>ACTIVE</td><td>1</td><td>E1C</td><td>11.0</td><td>Cigna</td><td>2021-01-01T00:00:00.000+0000</td><td>2021-02-28</td></tr><tr><td>83300</td><td>ACTIVE</td><td>1</td><td>ES</td><td>0.0</td><td>Cigna</td><td>2019-12-01T00:00:00.000+0000</td><td>2020-01-31</td></tr><tr><td>106800</td><td>ACTIVE</td><td>1</td><td>U</td><td>4.0</td><td>Aetna</td><td>2020-09-01T00:00:00.000+0000</td><td>2020-10-31</td></tr><tr><td>52900</td><td>ACTIVE</td><td>1</td><td>ES</td><td>15.0</td><td>Aetna</td><td>2021-02-01T00:00:00.000+0000</td><td>2021-03-31</td></tr><tr><td>97600</td><td>ACTIVE</td><td>1</td><td>E</td><td>10.0</td><td>Aetna</td><td>2021-01-01T00:00:00.000+0000</td><td>2021-01-31</td></tr><tr><td>22000</td><td>ACTIVE</td><td>1</td><td>EC</td><td>15.0</td><td>Cigna</td><td>2020-03-01T00:00:00.000+0000</td><td>2020-04-30</td></tr><tr><td>22900</td><td>ACTIVE</td><td>1</td><td>E</td><td>1.0</td><td>Aetna</td><td>2020-07-01T00:00:00.000+0000</td><td>2020-07-31</td></tr><tr><td>122500</td><td>ACTIVE</td><td>1</td><td>F</td><td>10.0</td><td>Cigna</td><td>2020-11-01T00:00:00.000+0000</td><td>2020-12-31</td></tr><tr><td>21800</td><td>ACTIVE</td><td>8</td><td>E1C</td><td>4.0</td><td>Aetna</td><td>2020-12-01T00:00:00.000+0000</td><td>2021-01-31</td></tr><tr><td>145000</td><td>ACTIVE</td><td>1</td><td>F</td><td>1.0</td><td>Cigna</td><td>2020-03-01T00:00:00.000+0000</td><td>2020-04-30</td></tr><tr><td>150400</td><td>ACTIVE</td><td>1</td><td>E</td><td>0.0</td><td>Aetna</td><td>2020-12-01T00:00:00.000+0000</td><td>2021-01-31</td></tr><tr><td>114100</td><td>ACTIVE</td><td>8</td><td>F</td><td>10.0</td><td>Cigna</td><td>2019-12-01T00:00:00.000+0000</td><td>2020-01-31</td></tr><tr><td>201500</td><td>ACTIVE</td><td>1</td><td>E</td><td>4.0</td><td>Aetna</td><td>2020-08-01T00:00:00.000+0000</td><td>2020-09-30</td></tr><tr><td>215600</td><td>ACTIVE</td><td>8</td><td>F</td><td>8.0</td><td>Aetna</td><td>2020-12-01T00:00:00.000+0000</td><td>2021-01-31</td></tr><tr><td>216900</td><td>ACTIVE</td><td>4</td><td>EC</td><td>1.0</td><td>Cigna</td><td>2020-10-01T00:00:00.000+0000</td><td>2020-11-30</td></tr><tr><td>207000</td><td>ACTIVE</td><td>8</td><td>E</td><td>6.0</td><td>Aetna</td><td>2020-04-01T00:00:00.000+0000</td><td>2020-05-31</td></tr><tr><td>124700</td><td>ACTIVE</td><td>1</td><td>ES</td><td>6.0</td><td>Aetna</td><td>2020-11-01T00:00:00.000+0000</td><td>2020-12-31</td></tr><tr><td>222700</td><td>ACTIVE</td><td>1</td><td>F</td><td>3.0</td><td>Aetna</td><td>2020-08-01T00:00:00.000+0000</td><td>2020-09-30</td></tr><tr><td>190000</td><td>ACTIVE</td><td>1</td><td>ES</td><td>9.0</td><td>Aetna</td><td>2020-07-01T00:00:00.000+0000</td><td>2020-08-31</td></tr><tr><td>182000</td><td>ACTIVE</td><td>1</td><td>F</td><td>15.0</td><td>Aetna</td><td>2020-12-01T00:00:00.000+0000</td><td>2021-01-31</td></tr><tr><td>139000</td><td>ACTIVE</td><td>1</td><td>EC</td><td>10.0</td><td>Cigna</td><td>2020-05-01T00:00:00.000+0000</td><td>2020-06-30</td></tr><tr><td>157100</td><td>ACTIVE</td><td>4</td><td>F</td><td>5.0</td><td>Aetna</td><td>2020-12-01T00:00:00.000+0000</td><td>2021-01-31</td></tr><tr><td>110800</td><td>TERMED</td><td>8</td><td>E1C</td><td>8.0</td><td>Cigna</td><td>2020-06-01T00:00:00.000+0000</td><td>2020-07-31</td></tr><tr><td>158600</td><td>ACTIVE</td><td>1</td><td>EP</td><td>14.0</td><td>Cigna</td><td>2020-02-01T00:00:00.000+0000</td><td>2020-03-31</td></tr><tr><td>190600</td><td>ACTIVE</td><td>2</td><td>U</td><td>5.0</td><td>Aetna</td><td>2021-01-01T00:00:00.000+0000</td><td>2021-01-31</td></tr><tr><td>21700</td><td>ACTIVE</td><td>1</td><td>EC</td><td>0.0</td><td>Aetna</td><td>2020-01-01T00:00:00.000+0000</td><td>2020-02-29</td></tr><tr><td>216300</td><td>TERMED</td><td>3</td><td>EC</td><td>9.0</td><td>Aetna</td><td>2020-09-01T00:00:00.000+0000</td><td>2020-10-31</td></tr><tr><td>218500</td><td>TERMED</td><td>1</td><td>F</td><td>2.0</td><td>Cigna</td><td>2019-12-01T00:00:00.000+0000</td><td>2019-12-31</td></tr><tr><td>37600</td><td>ACTIVE</td><td>1</td><td>ES</td><td>15.0</td><td>Aetna</td><td>2020-03-01T00:00:00.000+0000</td><td>2020-04-30</td></tr><tr><td>93800</td><td>ACTIVE</td><td>1</td><td>E1C</td><td>3.0</td><td>Cigna</td><td>2020-07-01T00:00:00.000+0000</td><td>2020-07-31</td></tr><tr><td>33500</td><td>TERMED</td><td>8</td><td>F</td><td>14.0</td><td>Aetna</td><td>2020-01-01T00:00:00.000+0000</td><td>2020-02-29</td></tr><tr><td>58800</td><td>ACTIVE</td><td>1</td><td>E1C</td><td>4.0</td><td>Cigna</td><td>2021-01-01T00:00:00.000+0000</td><td>2021-02-28</td></tr><tr><td>106900</td><td>ACTIVE</td><td>8</td><td>U</td><td>12.0</td><td>Cigna</td><td>2021-01-01T00:00:00.000+0000</td><td>2021-02-28</td></tr><tr><td>93100</td><td>ACTIVE</td><td>8</td><td>U</td><td>15.0</td><td>Aetna</td><td>2020-01-01T00:00:00.000+0000</td><td>2020-02-29</td></tr><tr><td>17200</td><td>ACTIVE</td><td>4</td><td>EC</td><td>0.0</td><td>Cigna</td><td>2020-05-01T00:00:00.000+0000</td><td>2020-06-30</td></tr><tr><td>32700</td><td>ACTIVE</td><td>1</td><td>ES</td><td>1.0</td><td>Aetna</td><td>2021-02-01T00:00:00.000+0000</td><td>2021-03-31</td></tr><tr><td>22700</td><td>ACTIVE</td><td>1</td><td>U</td><td>4.0</td><td>Cigna</td><td>2021-02-01T00:00:00.000+0000</td><td>2021-03-31</td></tr><tr><td>46700</td><td>ACTIVE</td><td>4</td><td>E</td><td>5.0</td><td>Cigna</td><td>2020-12-01T00:00:00.000+0000</td><td>2021-01-31</td></tr><tr><td>27400</td><td>ACTIVE</td><td>1</td><td>E1C</td><td>6.0</td><td>Cigna</td><td>2020-07-01T00:00:00.000+0000</td><td>2020-08-31</td></tr><tr><td>14000</td><td>ACTIVE</td><td>1</td><td>F</td><td>6.0</td><td>Aetna</td><td>2020-11-01T00:00:00.000+0000</td><td>2020-12-31</td></tr><tr><td>36400</td><td>ACTIVE</td><td>1</td><td>EC</td><td>4.0</td><td>Cigna</td><td>2021-01-01T00:00:00.000+0000</td><td>2021-02-28</td></tr><tr><td>44800</td><td>ACTIVE</td><td>1</td><td>E</td><td>3.0</td><td>Cigna</td><td>2020-05-01T00:00:00.000+0000</td><td>2020-06-30</td></tr><tr><td>203300</td><td>ACTIVE</td><td>1</td><td>U</td><td>5.0</td><td>Cigna</td><td>2020-02-01T00:00:00.000+0000</td><td>2020-03-31</td></tr><tr><td>90300</td><td>ACTIVE</td><td>1</td><td>F</td><td>10.0</td><td>Aetna</td><td>2020-01-01T00:00:00.000+0000</td><td>2020-01-31</td></tr><tr><td>90500</td><td>ACTIVE</td><td>1</td><td>EP</td><td>11.0</td><td>Aetna</td><td>2020-11-01T00:00:00.000+0000</td><td>2020-12-31</td></tr><tr><td>112400</td><td>ACTIVE</td><td>1</td><td>U</td><td>10.0</td><td>Aetna</td><td>2020-06-01T00:00:00.000+0000</td><td>2020-07-31</td></tr><tr><td>160400</td><td>ACTIVE</td><td>8</td><td>E</td><td>1.0</td><td>Cigna</td><td>2020-08-01T00:00:00.000+0000</td><td>2020-09-30</td></tr><tr><td>74800</td><td>ACTIVE</td><td>3</td><td>F</td><td>9.0</td><td>Aetna</td><td>2020-11-01T00:00:00.000+0000</td><td>2020-12-31</td></tr><tr><td>55900</td><td>TERMED</td><td>8</td><td>ES</td><td>4.0</td><td>Aetna</td><td>2020-04-01T00:00:00.000+0000</td><td>2020-05-31</td></tr><tr><td>65100</td><td>ACTIVE</td><td>1</td><td>EC</td><td>15.0</td><td>Aetna</td><td>2020-05-01T00:00:00.000+0000</td><td>2020-06-30</td></tr><tr><td>75800</td><td>ACTIVE</td><td>1</td><td>EC</td><td>6.0</td><td>Cigna</td><td>2021-02-01T00:00:00.000+0000</td><td>2021-03-31</td></tr><tr><td>66200</td><td>ACTIVE</td><td>1</td><td>U</td><td>6.0</td><td>Aetna</td><td>2021-02-01T00:00:00.000+0000</td><td>2021-03-31</td></tr><tr><td>39900</td><td>ACTIVE</td><td>8</td><td>EC</td><td>3.0</td><td>Cigna</td><td>2020-03-01T00:00:00.000+0000</td><td>2020-04-30</td></tr><tr><td>91400</td><td>ACTIVE</td><td>1</td><td>E</td><td>15.0</td><td>Cigna</td><td>2021-02-01T00:00:00.000+0000</td><td>2021-03-31</td></tr><tr><td>52200</td><td>TERMED</td><td>4</td><td>E</td><td>14.0</td><td>Cigna</td><td>2020-08-01T00:00:00.000+0000</td><td>2020-09-30</td></tr><tr><td>49100</td><td>ACTIVE</td><td>8</td><td>E1C</td><td>10.0</td><td>Cigna</td><td>2020-10-01T00:00:00.000+0000</td><td>2020-11-30</td></tr><tr><td>102200</td><td>ACTIVE</td><td>1</td><td>E1C</td><td>5.0</td><td>Aetna</td><td>2020-12-01T00:00:00.000+0000</td><td>2021-01-31</td></tr><tr><td>133600</td><td>TERMED</td><td>3</td><td>EC</td><td>7.0</td><td>Aetna</td><td>2020-10-01T00:00:00.000+0000</td><td>2020-11-30</td></tr><tr><td>193900</td><td>ACTIVE</td><td>8</td><td>E1C</td><td>12.0</td><td>Cigna</td><td>2020-02-01T00:00:00.000+0000</td><td>2020-03-31</td></tr><tr><td>126500</td><td>ACTIVE</td><td>1</td><td>ES</td><td>2.0</td><td>Cigna</td><td>2020-12-01T00:00:00.000+0000</td><td>2021-01-31</td></tr><tr><td>208500</td><td>ACTIVE</td><td>1</td><td>U</td><td>10.0</td><td>Aetna</td><td>2021-02-01T00:00:00.000+0000</td><td>2021-03-31</td></tr><tr><td>176200</td><td>ACTIVE</td><td>1</td><td>E</td><td>15.0</td><td>Aetna</td><td>2020-12-01T00:00:00.000+0000</td><td>2021-01-31</td></tr><tr><td>25500</td><td>ACTIVE</td><td>1</td><td>EC</td><td>14.0</td><td>Cigna</td><td>2021-02-01T00:00:00.000+0000</td><td>2021-03-31</td></tr><tr><td>153300</td><td>ACTIVE</td><td>1</td><td>EC</td><td>6.0</td><td>Cigna</td><td>2020-06-01T00:00:00.000+0000</td><td>2020-07-31</td></tr><tr><td>206200</td><td>ACTIVE</td><td>4</td><td>EP</td><td>14.0</td><td>Aetna</td><td>2020-05-01T00:00:00.000+0000</td><td>2020-06-30</td></tr><tr><td>224200</td><td>ACTIVE</td><td>8</td><td>E</td><td>11.0</td><td>Cigna</td><td>2021-02-01T00:00:00.000+0000</td><td>2021-03-31</td></tr><tr><td>171200</td><td>TERMED</td><td>8</td><td>E</td><td>5.0</td><td>Cigna</td><td>2019-12-01T00:00:00.000+0000</td><td>2020-01-31</td></tr><tr><td>185200</td><td>ACTIVE</td><td>4</td><td>EP</td><td>10.0</td><td>Cigna</td><td>2020-04-01T00:00:00.000+0000</td><td>2020-05-31</td></tr><tr><td>185400</td><td>ACTIVE</td><td>4</td><td>F</td><td>12.0</td><td>Cigna</td><td>2020-07-01T00:00:00.000+0000</td><td>2020-08-31</td></tr><tr><td>210200</td><td>ACTIVE</td><td>1</td><td>F</td><td>1.0</td><td>Cigna</td><td>2020-12-01T00:00:00.000+0000</td><td>2021-01-31</td></tr><tr><td>205400</td><td>ACTIVE</td><td>8</td><td>ES</td><td>10.0</td><td>Aetna</td><td>2020-05-01T00:00:00.000+0000</td><td>2020-06-30</td></tr><tr><td>178000</td><td>ACTIVE</td><td>1</td><td>F</td><td>5.0</td><td>Cigna</td><td>2020-12-01T00:00:00.000+0000</td><td>2021-01-31</td></tr><tr><td>144400</td><td>ACTIVE</td><td>3</td><td>ES</td><td>10.0</td><td>Aetna</td><td>2020-08-01T00:00:00.000+0000</td><td>2020-09-30</td></tr><tr><td>181900</td><td>ACTIVE</td><td>4</td><td>EP</td><td>0.0</td><td>Aetna</td><td>2020-05-01T00:00:00.000+0000</td><td>2020-06-30</td></tr><tr><td>213300</td><td>ACTIVE</td><td>8</td><td>F</td><td>15.0</td><td>Cigna</td><td>2021-02-01T00:00:00.000+0000</td><td>2021-03-31</td></tr><tr><td>156400</td><td>ACTIVE</td><td>4</td><td>EC</td><td>2.0</td><td>Aetna</td><td>2020-03-01T00:00:00.000+0000</td><td>2020-03-31</td></tr><tr><td>100000</td><td>ACTIVE</td><td>2</td><td>E1C</td><td>7.0</td><td>Cigna</td><td>2020-10-01T00:00:00.000+0000</td><td>2020-11-30</td></tr><tr><td>201100</td><td>ACTIVE</td><td>1</td><td>E1C</td><td>10.0</td><td>Aetna</td><td>2020-03-01T00:00:00.000+0000</td><td>2020-04-30</td></tr><tr><td>201400</td><td>ACTIVE</td><td>1</td><td>ES</td><td>8.0</td><td>Cigna</td><td>2020-11-01T00:00:00.000+0000</td><td>2020-11-30</td></tr><tr><td>130400</td><td>ACTIVE</td><td>8</td><td>F</td><td>1.0</td><td>Aetna</td><td>2021-03-01T00:00:00.000+0000</td><td>2021-04-30</td></tr><tr><td>142600</td><td>ACTIVE</td><td>1</td><td>E</td><td>13.0</td><td>Aetna</td><td>2020-06-01T00:00:00.000+0000</td><td>2020-06-30</td></tr><tr><td>152200</td><td>ACTIVE</td><td>3</td><td>ES</td><td>12.0</td><td>Cigna</td><td>2020-09-01T00:00:00.000+0000</td><td>2020-10-31</td></tr><tr><td>152200</td><td>ACTIVE</td><td>3</td><td>EC</td><td>10.0</td><td>Cigna</td><td>2021-01-01T00:00:00.000+0000</td><td>2021-02-28</td></tr><tr><td>197900</td><td>ACTIVE</td><td>8</td><td>EP</td><td>13.0</td><td>Aetna</td><td>2021-01-01T00:00:00.000+0000</td><td>2021-02-28</td></tr><tr><td>62900</td><td>ACTIVE</td><td>3</td><td>F</td><td>11.0</td><td>Aetna</td><td>2020-12-01T00:00:00.000+0000</td><td>2021-01-31</td></tr><tr><td>147700</td><td>TERMED</td><td>8</td><td>E1C</td><td>9.0</td><td>Cigna</td><td>2020-03-01T00:00:00.000+0000</td><td>2020-04-30</td></tr><tr><td>86400</td><td>TERMED</td><td>1</td><td>ES</td><td>10.0</td><td>Aetna</td><td>2021-02-01T00:00:00.000+0000</td><td>2021-03-31</td></tr><tr><td>18200</td><td>ACTIVE</td><td>3</td><td>ES</td><td>14.0</td><td>Aetna</td><td>2020-11-01T00:00:00.000+0000</td><td>2020-12-31</td></tr><tr><td>18200</td><td>ACTIVE</td><td>3</td><td>F</td><td>11.0</td><td>Cigna</td><td>2020-07-01T00:00:00.000+0000</td><td>2020-08-31</td></tr><tr><td>18200</td><td>ACTIVE</td><td>3</td><td>ES</td><td>4.0</td><td>Aetna</td><td>2020-10-01T00:00:00.000+0000</td><td>2020-11-30</td></tr><tr><td>109600</td><td>ACTIVE</td><td>1</td><td>F</td><td>4.0</td><td>Cigna</td><td>2020-08-01T00:00:00.000+0000</td><td>2020-09-30</td></tr><tr><td>94700</td><td>ACTIVE</td><td>4</td><td>E1C</td><td>4.0</td><td>Aetna</td><td>2021-01-01T00:00:00.000+0000</td><td>2021-02-28</td></tr><tr><td>105800</td><td>ACTIVE</td><td>1</td><td>U</td><td>3.0</td><td>Aetna</td><td>2020-11-01T00:00:00.000+0000</td><td>2020-12-31</td></tr><tr><td>210000</td><td>ACTIVE</td><td>3</td><td>E</td><td>12.0</td><td>Aetna</td><td>2021-01-01T00:00:00.000+0000</td><td>2021-02-28</td></tr><tr><td>1900</td><td>ACTIVE</td><td>1</td><td>F</td><td>3.0</td><td>Aetna</td><td>2020-07-01T00:00:00.000+0000</td><td>2020-08-31</td></tr><tr><td>2700</td><td>ACTIVE</td><td>8</td><td>EC</td><td>13.0</td><td>Cigna</td><td>2021-04-01T00:00:00.000+0000</td><td>2021-05-31</td></tr><tr><td>2800</td><td>ACTIVE</td><td>1</td><td>ES</td><td>3.0</td><td>Aetna</td><td>2020-04-01T00:00:00.000+0000</td><td>2020-05-31</td></tr><tr><td>117100</td><td>ACTIVE</td><td>3</td><td>E1C</td><td>6.0</td><td>Aetna</td><td>2020-08-01T00:00:00.000+0000</td><td>2020-09-30</td></tr><tr><td>77900</td><td>ACTIVE</td><td>4</td><td>ES</td><td>6.0</td><td>Aetna</td><td>2020-10-01T00:00:00.000+0000</td><td>2020-11-30</td></tr></tbody></table></div>"
      ]
     },
     "metadata": {
      "application/vnd.databricks.v1+output": {
       "addedWidgets": {},
       "aggData": [],
       "aggError": "",
       "aggOverflow": false,
       "aggSchema": [],
       "aggSeriesLimitReached": false,
       "aggType": "",
       "arguments": {},
       "columnCustomDisplayInfos": {},
       "data": [
        [
         "173400",
         "ACTIVE",
         "1",
         "E1C",
         11.0,
         "Cigna",
         "2021-01-01T00:00:00.000+0000",
         "2021-02-28"
        ],
        [
         "83300",
         "ACTIVE",
         "1",
         "ES",
         0.0,
         "Cigna",
         "2019-12-01T00:00:00.000+0000",
         "2020-01-31"
        ],
        [
         "106800",
         "ACTIVE",
         "1",
         "U",
         4.0,
         "Aetna",
         "2020-09-01T00:00:00.000+0000",
         "2020-10-31"
        ],
        [
         "52900",
         "ACTIVE",
         "1",
         "ES",
         15.0,
         "Aetna",
         "2021-02-01T00:00:00.000+0000",
         "2021-03-31"
        ],
        [
         "97600",
         "ACTIVE",
         "1",
         "E",
         10.0,
         "Aetna",
         "2021-01-01T00:00:00.000+0000",
         "2021-01-31"
        ],
        [
         "22000",
         "ACTIVE",
         "1",
         "EC",
         15.0,
         "Cigna",
         "2020-03-01T00:00:00.000+0000",
         "2020-04-30"
        ],
        [
         "22900",
         "ACTIVE",
         "1",
         "E",
         1.0,
         "Aetna",
         "2020-07-01T00:00:00.000+0000",
         "2020-07-31"
        ],
        [
         "122500",
         "ACTIVE",
         "1",
         "F",
         10.0,
         "Cigna",
         "2020-11-01T00:00:00.000+0000",
         "2020-12-31"
        ],
        [
         "21800",
         "ACTIVE",
         "8",
         "E1C",
         4.0,
         "Aetna",
         "2020-12-01T00:00:00.000+0000",
         "2021-01-31"
        ],
        [
         "145000",
         "ACTIVE",
         "1",
         "F",
         1.0,
         "Cigna",
         "2020-03-01T00:00:00.000+0000",
         "2020-04-30"
        ],
        [
         "150400",
         "ACTIVE",
         "1",
         "E",
         0.0,
         "Aetna",
         "2020-12-01T00:00:00.000+0000",
         "2021-01-31"
        ],
        [
         "114100",
         "ACTIVE",
         "8",
         "F",
         10.0,
         "Cigna",
         "2019-12-01T00:00:00.000+0000",
         "2020-01-31"
        ],
        [
         "201500",
         "ACTIVE",
         "1",
         "E",
         4.0,
         "Aetna",
         "2020-08-01T00:00:00.000+0000",
         "2020-09-30"
        ],
        [
         "215600",
         "ACTIVE",
         "8",
         "F",
         8.0,
         "Aetna",
         "2020-12-01T00:00:00.000+0000",
         "2021-01-31"
        ],
        [
         "216900",
         "ACTIVE",
         "4",
         "EC",
         1.0,
         "Cigna",
         "2020-10-01T00:00:00.000+0000",
         "2020-11-30"
        ],
        [
         "207000",
         "ACTIVE",
         "8",
         "E",
         6.0,
         "Aetna",
         "2020-04-01T00:00:00.000+0000",
         "2020-05-31"
        ],
        [
         "124700",
         "ACTIVE",
         "1",
         "ES",
         6.0,
         "Aetna",
         "2020-11-01T00:00:00.000+0000",
         "2020-12-31"
        ],
        [
         "222700",
         "ACTIVE",
         "1",
         "F",
         3.0,
         "Aetna",
         "2020-08-01T00:00:00.000+0000",
         "2020-09-30"
        ],
        [
         "190000",
         "ACTIVE",
         "1",
         "ES",
         9.0,
         "Aetna",
         "2020-07-01T00:00:00.000+0000",
         "2020-08-31"
        ],
        [
         "182000",
         "ACTIVE",
         "1",
         "F",
         15.0,
         "Aetna",
         "2020-12-01T00:00:00.000+0000",
         "2021-01-31"
        ],
        [
         "139000",
         "ACTIVE",
         "1",
         "EC",
         10.0,
         "Cigna",
         "2020-05-01T00:00:00.000+0000",
         "2020-06-30"
        ],
        [
         "157100",
         "ACTIVE",
         "4",
         "F",
         5.0,
         "Aetna",
         "2020-12-01T00:00:00.000+0000",
         "2021-01-31"
        ],
        [
         "110800",
         "TERMED",
         "8",
         "E1C",
         8.0,
         "Cigna",
         "2020-06-01T00:00:00.000+0000",
         "2020-07-31"
        ],
        [
         "158600",
         "ACTIVE",
         "1",
         "EP",
         14.0,
         "Cigna",
         "2020-02-01T00:00:00.000+0000",
         "2020-03-31"
        ],
        [
         "190600",
         "ACTIVE",
         "2",
         "U",
         5.0,
         "Aetna",
         "2021-01-01T00:00:00.000+0000",
         "2021-01-31"
        ],
        [
         "21700",
         "ACTIVE",
         "1",
         "EC",
         0.0,
         "Aetna",
         "2020-01-01T00:00:00.000+0000",
         "2020-02-29"
        ],
        [
         "216300",
         "TERMED",
         "3",
         "EC",
         9.0,
         "Aetna",
         "2020-09-01T00:00:00.000+0000",
         "2020-10-31"
        ],
        [
         "218500",
         "TERMED",
         "1",
         "F",
         2.0,
         "Cigna",
         "2019-12-01T00:00:00.000+0000",
         "2019-12-31"
        ],
        [
         "37600",
         "ACTIVE",
         "1",
         "ES",
         15.0,
         "Aetna",
         "2020-03-01T00:00:00.000+0000",
         "2020-04-30"
        ],
        [
         "93800",
         "ACTIVE",
         "1",
         "E1C",
         3.0,
         "Cigna",
         "2020-07-01T00:00:00.000+0000",
         "2020-07-31"
        ],
        [
         "33500",
         "TERMED",
         "8",
         "F",
         14.0,
         "Aetna",
         "2020-01-01T00:00:00.000+0000",
         "2020-02-29"
        ],
        [
         "58800",
         "ACTIVE",
         "1",
         "E1C",
         4.0,
         "Cigna",
         "2021-01-01T00:00:00.000+0000",
         "2021-02-28"
        ],
        [
         "106900",
         "ACTIVE",
         "8",
         "U",
         12.0,
         "Cigna",
         "2021-01-01T00:00:00.000+0000",
         "2021-02-28"
        ],
        [
         "93100",
         "ACTIVE",
         "8",
         "U",
         15.0,
         "Aetna",
         "2020-01-01T00:00:00.000+0000",
         "2020-02-29"
        ],
        [
         "17200",
         "ACTIVE",
         "4",
         "EC",
         0.0,
         "Cigna",
         "2020-05-01T00:00:00.000+0000",
         "2020-06-30"
        ],
        [
         "32700",
         "ACTIVE",
         "1",
         "ES",
         1.0,
         "Aetna",
         "2021-02-01T00:00:00.000+0000",
         "2021-03-31"
        ],
        [
         "22700",
         "ACTIVE",
         "1",
         "U",
         4.0,
         "Cigna",
         "2021-02-01T00:00:00.000+0000",
         "2021-03-31"
        ],
        [
         "46700",
         "ACTIVE",
         "4",
         "E",
         5.0,
         "Cigna",
         "2020-12-01T00:00:00.000+0000",
         "2021-01-31"
        ],
        [
         "27400",
         "ACTIVE",
         "1",
         "E1C",
         6.0,
         "Cigna",
         "2020-07-01T00:00:00.000+0000",
         "2020-08-31"
        ],
        [
         "14000",
         "ACTIVE",
         "1",
         "F",
         6.0,
         "Aetna",
         "2020-11-01T00:00:00.000+0000",
         "2020-12-31"
        ],
        [
         "36400",
         "ACTIVE",
         "1",
         "EC",
         4.0,
         "Cigna",
         "2021-01-01T00:00:00.000+0000",
         "2021-02-28"
        ],
        [
         "44800",
         "ACTIVE",
         "1",
         "E",
         3.0,
         "Cigna",
         "2020-05-01T00:00:00.000+0000",
         "2020-06-30"
        ],
        [
         "203300",
         "ACTIVE",
         "1",
         "U",
         5.0,
         "Cigna",
         "2020-02-01T00:00:00.000+0000",
         "2020-03-31"
        ],
        [
         "90300",
         "ACTIVE",
         "1",
         "F",
         10.0,
         "Aetna",
         "2020-01-01T00:00:00.000+0000",
         "2020-01-31"
        ],
        [
         "90500",
         "ACTIVE",
         "1",
         "EP",
         11.0,
         "Aetna",
         "2020-11-01T00:00:00.000+0000",
         "2020-12-31"
        ],
        [
         "112400",
         "ACTIVE",
         "1",
         "U",
         10.0,
         "Aetna",
         "2020-06-01T00:00:00.000+0000",
         "2020-07-31"
        ],
        [
         "160400",
         "ACTIVE",
         "8",
         "E",
         1.0,
         "Cigna",
         "2020-08-01T00:00:00.000+0000",
         "2020-09-30"
        ],
        [
         "74800",
         "ACTIVE",
         "3",
         "F",
         9.0,
         "Aetna",
         "2020-11-01T00:00:00.000+0000",
         "2020-12-31"
        ],
        [
         "55900",
         "TERMED",
         "8",
         "ES",
         4.0,
         "Aetna",
         "2020-04-01T00:00:00.000+0000",
         "2020-05-31"
        ],
        [
         "65100",
         "ACTIVE",
         "1",
         "EC",
         15.0,
         "Aetna",
         "2020-05-01T00:00:00.000+0000",
         "2020-06-30"
        ],
        [
         "75800",
         "ACTIVE",
         "1",
         "EC",
         6.0,
         "Cigna",
         "2021-02-01T00:00:00.000+0000",
         "2021-03-31"
        ],
        [
         "66200",
         "ACTIVE",
         "1",
         "U",
         6.0,
         "Aetna",
         "2021-02-01T00:00:00.000+0000",
         "2021-03-31"
        ],
        [
         "39900",
         "ACTIVE",
         "8",
         "EC",
         3.0,
         "Cigna",
         "2020-03-01T00:00:00.000+0000",
         "2020-04-30"
        ],
        [
         "91400",
         "ACTIVE",
         "1",
         "E",
         15.0,
         "Cigna",
         "2021-02-01T00:00:00.000+0000",
         "2021-03-31"
        ],
        [
         "52200",
         "TERMED",
         "4",
         "E",
         14.0,
         "Cigna",
         "2020-08-01T00:00:00.000+0000",
         "2020-09-30"
        ],
        [
         "49100",
         "ACTIVE",
         "8",
         "E1C",
         10.0,
         "Cigna",
         "2020-10-01T00:00:00.000+0000",
         "2020-11-30"
        ],
        [
         "102200",
         "ACTIVE",
         "1",
         "E1C",
         5.0,
         "Aetna",
         "2020-12-01T00:00:00.000+0000",
         "2021-01-31"
        ],
        [
         "133600",
         "TERMED",
         "3",
         "EC",
         7.0,
         "Aetna",
         "2020-10-01T00:00:00.000+0000",
         "2020-11-30"
        ],
        [
         "193900",
         "ACTIVE",
         "8",
         "E1C",
         12.0,
         "Cigna",
         "2020-02-01T00:00:00.000+0000",
         "2020-03-31"
        ],
        [
         "126500",
         "ACTIVE",
         "1",
         "ES",
         2.0,
         "Cigna",
         "2020-12-01T00:00:00.000+0000",
         "2021-01-31"
        ],
        [
         "208500",
         "ACTIVE",
         "1",
         "U",
         10.0,
         "Aetna",
         "2021-02-01T00:00:00.000+0000",
         "2021-03-31"
        ],
        [
         "176200",
         "ACTIVE",
         "1",
         "E",
         15.0,
         "Aetna",
         "2020-12-01T00:00:00.000+0000",
         "2021-01-31"
        ],
        [
         "25500",
         "ACTIVE",
         "1",
         "EC",
         14.0,
         "Cigna",
         "2021-02-01T00:00:00.000+0000",
         "2021-03-31"
        ],
        [
         "153300",
         "ACTIVE",
         "1",
         "EC",
         6.0,
         "Cigna",
         "2020-06-01T00:00:00.000+0000",
         "2020-07-31"
        ],
        [
         "206200",
         "ACTIVE",
         "4",
         "EP",
         14.0,
         "Aetna",
         "2020-05-01T00:00:00.000+0000",
         "2020-06-30"
        ],
        [
         "224200",
         "ACTIVE",
         "8",
         "E",
         11.0,
         "Cigna",
         "2021-02-01T00:00:00.000+0000",
         "2021-03-31"
        ],
        [
         "171200",
         "TERMED",
         "8",
         "E",
         5.0,
         "Cigna",
         "2019-12-01T00:00:00.000+0000",
         "2020-01-31"
        ],
        [
         "185200",
         "ACTIVE",
         "4",
         "EP",
         10.0,
         "Cigna",
         "2020-04-01T00:00:00.000+0000",
         "2020-05-31"
        ],
        [
         "185400",
         "ACTIVE",
         "4",
         "F",
         12.0,
         "Cigna",
         "2020-07-01T00:00:00.000+0000",
         "2020-08-31"
        ],
        [
         "210200",
         "ACTIVE",
         "1",
         "F",
         1.0,
         "Cigna",
         "2020-12-01T00:00:00.000+0000",
         "2021-01-31"
        ],
        [
         "205400",
         "ACTIVE",
         "8",
         "ES",
         10.0,
         "Aetna",
         "2020-05-01T00:00:00.000+0000",
         "2020-06-30"
        ],
        [
         "178000",
         "ACTIVE",
         "1",
         "F",
         5.0,
         "Cigna",
         "2020-12-01T00:00:00.000+0000",
         "2021-01-31"
        ],
        [
         "144400",
         "ACTIVE",
         "3",
         "ES",
         10.0,
         "Aetna",
         "2020-08-01T00:00:00.000+0000",
         "2020-09-30"
        ],
        [
         "181900",
         "ACTIVE",
         "4",
         "EP",
         0.0,
         "Aetna",
         "2020-05-01T00:00:00.000+0000",
         "2020-06-30"
        ],
        [
         "213300",
         "ACTIVE",
         "8",
         "F",
         15.0,
         "Cigna",
         "2021-02-01T00:00:00.000+0000",
         "2021-03-31"
        ],
        [
         "156400",
         "ACTIVE",
         "4",
         "EC",
         2.0,
         "Aetna",
         "2020-03-01T00:00:00.000+0000",
         "2020-03-31"
        ],
        [
         "100000",
         "ACTIVE",
         "2",
         "E1C",
         7.0,
         "Cigna",
         "2020-10-01T00:00:00.000+0000",
         "2020-11-30"
        ],
        [
         "201100",
         "ACTIVE",
         "1",
         "E1C",
         10.0,
         "Aetna",
         "2020-03-01T00:00:00.000+0000",
         "2020-04-30"
        ],
        [
         "201400",
         "ACTIVE",
         "1",
         "ES",
         8.0,
         "Cigna",
         "2020-11-01T00:00:00.000+0000",
         "2020-11-30"
        ],
        [
         "130400",
         "ACTIVE",
         "8",
         "F",
         1.0,
         "Aetna",
         "2021-03-01T00:00:00.000+0000",
         "2021-04-30"
        ],
        [
         "142600",
         "ACTIVE",
         "1",
         "E",
         13.0,
         "Aetna",
         "2020-06-01T00:00:00.000+0000",
         "2020-06-30"
        ],
        [
         "152200",
         "ACTIVE",
         "3",
         "ES",
         12.0,
         "Cigna",
         "2020-09-01T00:00:00.000+0000",
         "2020-10-31"
        ],
        [
         "152200",
         "ACTIVE",
         "3",
         "EC",
         10.0,
         "Cigna",
         "2021-01-01T00:00:00.000+0000",
         "2021-02-28"
        ],
        [
         "197900",
         "ACTIVE",
         "8",
         "EP",
         13.0,
         "Aetna",
         "2021-01-01T00:00:00.000+0000",
         "2021-02-28"
        ],
        [
         "62900",
         "ACTIVE",
         "3",
         "F",
         11.0,
         "Aetna",
         "2020-12-01T00:00:00.000+0000",
         "2021-01-31"
        ],
        [
         "147700",
         "TERMED",
         "8",
         "E1C",
         9.0,
         "Cigna",
         "2020-03-01T00:00:00.000+0000",
         "2020-04-30"
        ],
        [
         "86400",
         "TERMED",
         "1",
         "ES",
         10.0,
         "Aetna",
         "2021-02-01T00:00:00.000+0000",
         "2021-03-31"
        ],
        [
         "18200",
         "ACTIVE",
         "3",
         "ES",
         14.0,
         "Aetna",
         "2020-11-01T00:00:00.000+0000",
         "2020-12-31"
        ],
        [
         "18200",
         "ACTIVE",
         "3",
         "F",
         11.0,
         "Cigna",
         "2020-07-01T00:00:00.000+0000",
         "2020-08-31"
        ],
        [
         "18200",
         "ACTIVE",
         "3",
         "ES",
         4.0,
         "Aetna",
         "2020-10-01T00:00:00.000+0000",
         "2020-11-30"
        ],
        [
         "109600",
         "ACTIVE",
         "1",
         "F",
         4.0,
         "Cigna",
         "2020-08-01T00:00:00.000+0000",
         "2020-09-30"
        ],
        [
         "94700",
         "ACTIVE",
         "4",
         "E1C",
         4.0,
         "Aetna",
         "2021-01-01T00:00:00.000+0000",
         "2021-02-28"
        ],
        [
         "105800",
         "ACTIVE",
         "1",
         "U",
         3.0,
         "Aetna",
         "2020-11-01T00:00:00.000+0000",
         "2020-12-31"
        ],
        [
         "210000",
         "ACTIVE",
         "3",
         "E",
         12.0,
         "Aetna",
         "2021-01-01T00:00:00.000+0000",
         "2021-02-28"
        ],
        [
         "1900",
         "ACTIVE",
         "1",
         "F",
         3.0,
         "Aetna",
         "2020-07-01T00:00:00.000+0000",
         "2020-08-31"
        ],
        [
         "2700",
         "ACTIVE",
         "8",
         "EC",
         13.0,
         "Cigna",
         "2021-04-01T00:00:00.000+0000",
         "2021-05-31"
        ],
        [
         "2800",
         "ACTIVE",
         "1",
         "ES",
         3.0,
         "Aetna",
         "2020-04-01T00:00:00.000+0000",
         "2020-05-31"
        ],
        [
         "117100",
         "ACTIVE",
         "3",
         "E1C",
         6.0,
         "Aetna",
         "2020-08-01T00:00:00.000+0000",
         "2020-09-30"
        ],
        [
         "77900",
         "ACTIVE",
         "4",
         "ES",
         6.0,
         "Aetna",
         "2020-10-01T00:00:00.000+0000",
         "2020-11-30"
        ]
       ],
       "datasetInfos": [],
       "dbfsResultPath": null,
       "isJsonSchema": true,
       "metadata": {},
       "overflow": false,
       "plotOptions": {
        "customPlotOptions": {},
        "displayType": "table",
        "pivotAggregation": null,
        "pivotColumns": null,
        "xColumns": null,
        "yColumns": null
       },
       "removedWidgets": [],
       "schema": [
        {
         "metadata": "{}",
         "name": "MEMBER_ID",
         "type": "\"string\""
        },
        {
         "metadata": "{}",
         "name": "MEMBER_STATUS",
         "type": "\"string\""
        },
        {
         "metadata": "{}",
         "name": "GROUP_ID",
         "type": "\"string\""
        },
        {
         "metadata": "{}",
         "name": "COVERAGE_TYPE",
         "type": "\"string\""
        },
        {
         "metadata": "{}",
         "name": "PLAN_ID",
         "type": "\"double\""
        },
        {
         "metadata": "{}",
         "name": "VENDOR",
         "type": "\"string\""
        },
        {
         "metadata": "{}",
         "name": "EFFECTIVE_DATE",
         "type": "\"timestamp\""
        },
        {
         "metadata": "{}",
         "name": "TERMINATION_DATE",
         "type": "\"string\""
        }
       ],
       "type": "table"
      }
     },
     "output_type": "display_data"
    },
    {
     "output_type": "stream",
     "name": "stdout",
     "output_type": "stream",
     "text": [
      "Sheet Name: 'Demographics Mock Data'\n"
     ]
    },
    {
     "output_type": "display_data",
     "data": {
      "text/html": [
       "<style scoped>\n",
       "  .table-result-container {\n",
       "    max-height: 300px;\n",
       "    overflow: auto;\n",
       "  }\n",
       "  table, th, td {\n",
       "    border: 1px solid black;\n",
       "    border-collapse: collapse;\n",
       "  }\n",
       "  th, td {\n",
       "    padding: 5px;\n",
       "  }\n",
       "  th {\n",
       "    text-align: left;\n",
       "  }\n",
       "</style><div class='table-result-container'><table class='table-result'><thead style='background-color: white'><tr><th>MEMBER_ID</th><th>EMPLOYEE_ID</th><th>FIRST_NAME</th><th>LAST_NAME</th><th>MIDDLE_NAME</th><th>GENDER</th><th>DOB</th><th>RELATIONSHIP</th><th>PERSON_CODE</th><th>RACE</th><th>ETHNICITY</th><th>ADDRESS_1</th><th>ADDRESS_2</th><th>CITY</th><th>STATE</th><th>COUNTY</th><th>ZIP</th></tr></thead><tbody><tr><td>173400</td><td>160951</td><td>Freya</td><td>Lynn</td><td>Marlys</td><td>0.0</td><td>1988-02-23</td><td>S</td><td>02</td><td>white</td><td>nonhispanic</td><td>771 Kirlin Haven</td><td>null</td><td>Attleboro</td><td>Massachusetts</td><td>Bristol County</td><td>02703</td></tr><tr><td>83300</td><td>160951</td><td>Candice</td><td>Padilla</td><td>null</td><td>0.0</td><td>1964-12-10</td><td>F</td><td>03</td><td>white</td><td>nonhispanic</td><td>182 Trantow Mission Unit 20</td><td>null</td><td>Bellingham</td><td>Massachusetts</td><td>Norfolk County</td><td></td></tr><tr><td>106800</td><td>111325</td><td>Leanne</td><td>Swanson</td><td>null</td><td>0.0</td><td>2015-05-28</td><td>D2</td><td>16</td><td>white</td><td>nonhispanic</td><td>686 Shields Dam</td><td>null</td><td>Easthampton</td><td>Massachusetts</td><td>Hampshire County</td><td></td></tr><tr><td>52900</td><td>114177</td><td>Millicent</td><td>Byrne</td><td>null</td><td>0.0</td><td>1948-04-22</td><td>N</td><td>13</td><td>white</td><td>nonhispanic</td><td>1009 DuBuque Ville Unit 54</td><td>null</td><td>Springfield</td><td>Massachusetts</td><td>Hampden County</td><td>01106</td></tr><tr><td>97600</td><td>117067</td><td>Charley</td><td>Lynn</td><td>null</td><td>0.0</td><td>1976-01-12</td><td>A1</td><td>11</td><td>white</td><td>nonhispanic</td><td>114 Cummerata Parade</td><td>null</td><td>West Tisbury</td><td>Massachusetts</td><td>Dukes County</td><td></td></tr><tr><td>22000</td><td>12745</td><td>Flynn</td><td>Morrison</td><td>null</td><td>0.0</td><td>1989-03-30</td><td>M</td><td>04</td><td>white</td><td>nonhispanic</td><td>164 Stokes Lodge Apt 34</td><td>null</td><td>Winchendon</td><td>Massachusetts</td><td>Worcester County</td><td>01475</td></tr><tr><td>22900</td><td>13466</td><td>Pauline</td><td>Knight</td><td>null</td><td>0.0</td><td>2019-05-09</td><td>N</td><td>13</td><td>white</td><td>nonhispanic</td><td>376 Skiles Forge Suite 48</td><td>null</td><td>Westminster</td><td>Massachusetts</td><td>Worcester County</td><td></td></tr><tr><td>122500</td><td>135688</td><td>Elspeth</td><td>Gonzalez</td><td>Marliss</td><td>0.0</td><td>2014-09-09</td><td>C2</td><td>06</td><td>asian</td><td>hispanic</td><td>570 Nikolaus Wynd</td><td>null</td><td>Cambridge</td><td>Massachusetts</td><td>Middlesex County</td><td>02139</td></tr><tr><td>21800</td><td>13587</td><td>Amelie</td><td>Harmon</td><td>null</td><td>0.0</td><td>1984-04-08</td><td>D2</td><td>16</td><td>other</td><td>nonhispanic</td><td>958 Robel Run Unit 83</td><td>null</td><td>Carver</td><td>Massachusetts</td><td>Plymouth County</td><td></td></tr><tr><td>145000</td><td>138507</td><td>Laura</td><td>Montoya</td><td>null</td><td>0.0</td><td>2010-03-29</td><td>F</td><td>03</td><td>white</td><td>nonhispanic</td><td>1094 Keebler Grove</td><td>null</td><td>Gardner</td><td>Massachusetts</td><td>Worcester County</td><td>01440</td></tr><tr><td>150400</td><td>151731</td><td>Jayden</td><td>Kane</td><td>null</td><td>0.0</td><td>2019-07-08</td><td>F</td><td>03</td><td>white</td><td>hispanic</td><td>1054 Price Glen</td><td>null</td><td>Haverhill</td><td>Massachusetts</td><td>Essex County</td><td>01835</td></tr><tr><td>114100</td><td>152105</td><td>Safa</td><td>Kelly</td><td>null</td><td>0.0</td><td>1991-08-21</td><td>G3</td><td>09</td><td>white</td><td>hispanic</td><td>765 Russel Pathway Unit 82</td><td>null</td><td>Spencer</td><td>Massachusetts</td><td>Worcester County</td><td>01562</td></tr><tr><td>201500</td><td>153303</td><td>Anika</td><td>Washington</td><td>Merla</td><td>0.0</td><td>2002-03-08</td><td>F</td><td>03</td><td>black</td><td>nonhispanic</td><td>815 Rau Ramp</td><td>null</td><td>Boston</td><td>Massachusetts</td><td>Suffolk County</td><td>02109</td></tr><tr><td>215600</td><td>158915</td><td>Inayah</td><td>Evans</td><td>null</td><td>0.0</td><td>1988-06-28</td><td>G3</td><td>09</td><td>white</td><td>nonhispanic</td><td>282 Roberts Brook Suite 29</td><td>null</td><td>Dartmouth</td><td>Massachusetts</td><td>Bristol County</td><td></td></tr><tr><td>216900</td><td>160951</td><td>Aurora</td><td>Lawson</td><td>null</td><td>0.0</td><td>2012-10-04</td><td>E</td><td>01</td><td>white</td><td>nonhispanic</td><td>194 Robel Skyway</td><td>null</td><td>Boston</td><td>Massachusetts</td><td>Suffolk County</td><td>02124</td></tr><tr><td>207000</td><td>166936</td><td>Robyn</td><td>Stewart</td><td>null</td><td>0.0</td><td>1957-10-19</td><td>D1</td><td>15</td><td>white</td><td>nonhispanic</td><td>306 Aufderhar Grove Unit 79</td><td>null</td><td>Palmer</td><td>Massachusetts</td><td>Hampden County</td><td></td></tr><tr><td>124700</td><td>168886</td><td>Lena</td><td>Pearce</td><td>null</td><td>0.0</td><td>1961-06-22</td><td>A1</td><td>11</td><td>white</td><td>nonhispanic</td><td>610 Harber Rapid Unit 87</td><td>null</td><td>Greenfield</td><td>Massachusetts</td><td>Franklin County</td><td></td></tr><tr><td>222700</td><td>170319</td><td>Kane</td><td>Hardin</td><td>null</td><td>0.0</td><td>2016-01-29</td><td>E</td><td>01</td><td>asian</td><td>hispanic</td><td>971 Balistreri Vale Unit 75</td><td>null</td><td>Southborough</td><td>Massachusetts</td><td>Worcester County</td><td></td></tr><tr><td>190000</td><td>170319</td><td>Noor</td><td>Merritt</td><td>Melody</td><td>0.0</td><td>1954-02-18</td><td>A2</td><td>12</td><td>white</td><td>nonhispanic</td><td>970 Johnston Drive Apt 25</td><td>null</td><td>Worcester</td><td>Massachusetts</td><td>Worcester County</td><td>01583</td></tr><tr><td>182000</td><td>170319</td><td>Khadijah</td><td>Johnston</td><td>null</td><td>0.0</td><td>2003-06-09</td><td>D2</td><td>16</td><td>white</td><td>nonhispanic</td><td>252 Heller Manor Suite 56</td><td>null</td><td>Attleboro</td><td>Massachusetts</td><td>Bristol County</td><td>02861</td></tr><tr><td>139000</td><td>170319</td><td>Katy</td><td>Dalton</td><td>null</td><td>0.0</td><td>1983-10-07</td><td>A1</td><td>11</td><td>white</td><td>nonhispanic</td><td>999 Kuhn Forge</td><td>null</td><td>Lowell</td><td>Massachusetts</td><td>Middlesex County</td><td>01851</td></tr><tr><td>157100</td><td>170319</td><td>Aminah</td><td>Wall</td><td>null</td><td>0.0</td><td>2007-09-19</td><td>G4</td><td>10</td><td>white</td><td>hispanic</td><td>984 Kuhic Bay Apt 19</td><td>null</td><td>Agawam</td><td>Massachusetts</td><td>Hampden County</td><td>01030</td></tr><tr><td>110800</td><td>209109</td><td>Hollie</td><td>Eaton</td><td>null</td><td>0.0</td><td>1997-09-20</td><td>M</td><td>04</td><td>white</td><td>nonhispanic</td><td>652 Kovacek Trailer Suite 29</td><td>null</td><td>Lenox</td><td>Massachusetts</td><td>Berkshire County</td><td>01240</td></tr><tr><td>158600</td><td>213741</td><td>Siobhan</td><td>Lin</td><td>null</td><td>0.0</td><td>2008-01-24</td><td>A2</td><td>12</td><td>white</td><td>nonhispanic</td><td>611 Williamson Loaf Apt 44</td><td>null</td><td>Somerville</td><td>Massachusetts</td><td>Middlesex County</td><td>02138</td></tr><tr><td>190600</td><td>215316</td><td>Marley</td><td>Zamora</td><td>null</td><td>0.0</td><td>1950-06-05</td><td>A2</td><td>12</td><td>black</td><td>hispanic</td><td>289 Brown Glen Unit 6</td><td>null</td><td>Revere</td><td>Massachusetts</td><td>Suffolk County</td><td>02151</td></tr><tr><td>21700</td><td>22190</td><td>Alessia</td><td>Romero</td><td>Mariel</td><td>0.0</td><td>1967-07-12</td><td>G4</td><td>10</td><td>white</td><td>nonhispanic</td><td>913 Schiller Well Apt 80</td><td>null</td><td>Burlington</td><td>Massachusetts</td><td>Middlesex County</td><td>01803</td></tr><tr><td>216300</td><td>223770</td><td>Adrian</td><td>Collins</td><td>null</td><td>0.0</td><td>1952-05-10</td><td>C2</td><td>06</td><td>white</td><td>hispanic</td><td>217 Will Well Unit 1</td><td>null</td><td>Boston</td><td>Massachusetts</td><td>Suffolk County</td><td>02110</td></tr><tr><td>218500</td><td>226237</td><td>Belle</td><td>O'Gallagher</td><td>null</td><td>0.0</td><td>1994-05-05</td><td>C1</td><td>05</td><td>white</td><td>nonhispanic</td><td>900 Paucek Way</td><td>null</td><td>Newton</td><td>Massachusetts</td><td>Middlesex County</td><td></td></tr><tr><td>37600</td><td>226967</td><td>Chelsea</td><td>Whitehead</td><td>null</td><td>0.0</td><td>2016-03-22</td><td>F</td><td>03</td><td>white</td><td>nonhispanic</td><td>255 Ondricka Common</td><td>null</td><td>Deerfield</td><td>Massachusetts</td><td>Franklin County</td><td></td></tr><tr><td>93800</td><td>27570</td><td>Maeve</td><td>Tucker</td><td>Manuela</td><td>0.0</td><td>1981-09-08</td><td>M</td><td>04</td><td>white</td><td>nonhispanic</td><td>836 Willms Flat Suite 54</td><td>null</td><td>Watertown</td><td>Massachusetts</td><td>Middlesex County</td><td></td></tr><tr><td>33500</td><td>29764</td><td>Lenny</td><td>Coleman</td><td>null</td><td>0.0</td><td>1975-09-26</td><td>N</td><td>13</td><td>white</td><td>nonhispanic</td><td>820 Willms Mews</td><td>null</td><td>Stow</td><td>Massachusetts</td><td>Middlesex County</td><td></td></tr><tr><td>58800</td><td>29931</td><td>Meredith</td><td>Lewis</td><td>null</td><td>0.0</td><td>1957-06-24</td><td>D2</td><td>16</td><td>white</td><td>hispanic</td><td>451 Buckridge Harbor</td><td>null</td><td>Attleboro</td><td>Massachusetts</td><td>Bristol County</td><td></td></tr><tr><td>106900</td><td>33500</td><td>Stella</td><td>Franklin</td><td>null</td><td>0.0</td><td>1970-04-18</td><td>G1</td><td>07</td><td>white</td><td>nonhispanic</td><td>818 Bogan Ville</td><td>null</td><td>Westport</td><td>Massachusetts</td><td>Bristol County</td><td></td></tr><tr><td>93100</td><td>3975</td><td>Cecilia</td><td>Mayer</td><td>null</td><td>0.0</td><td>1969-01-18</td><td>C1</td><td>05</td><td>white</td><td>nonhispanic</td><td>419 Beatty Gardens</td><td>null</td><td>Boston</td><td>Massachusetts</td><td>Suffolk County</td><td>02111</td></tr><tr><td>17200</td><td>39986</td><td>Georgiana</td><td>Livingston</td><td>null</td><td>0.0</td><td>2003-09-21</td><td>G4</td><td>10</td><td>white</td><td>nonhispanic</td><td>814 Blick Avenue Unit 22</td><td>null</td><td>Wayland</td><td>Massachusetts</td><td>Middlesex County</td><td></td></tr><tr><td>32700</td><td>41842</td><td>Maya</td><td>Townsend</td><td>Merilyn</td><td>0.0</td><td>1960-12-30</td><td>G2</td><td>08</td><td>white</td><td>nonhispanic</td><td>763 Smitham Rue</td><td>null</td><td>Worthington</td><td>Massachusetts</td><td>Hampshire County</td><td></td></tr><tr><td>22700</td><td>44147</td><td>Emelia</td><td>Hobbs</td><td>null</td><td>0.0</td><td>2020-05-22</td><td>E</td><td>01</td><td>white</td><td>hispanic</td><td>810 Pfannerstill Underpass</td><td>null</td><td>Springfield</td><td>Massachusetts</td><td>Hampden County</td><td></td></tr><tr><td>46700</td><td>44147</td><td>Lana</td><td>Mckenzie</td><td>Milissa</td><td>0.0</td><td>2014-04-03</td><td>A2</td><td>12</td><td>white</td><td>nonhispanic</td><td>1014 Hilpert Skyway Apt 68</td><td>null</td><td>North Brookfield</td><td>Massachusetts</td><td>Worcester County</td><td>01535</td></tr><tr><td>27400</td><td>44147</td><td>Rio</td><td>Blair</td><td>null</td><td>0.0</td><td>2011-07-22</td><td>D1</td><td>15</td><td>white</td><td>nonhispanic</td><td>422 Farrell Path Unit 69</td><td>null</td><td>Somerville</td><td>Massachusetts</td><td>Middlesex County</td><td>02143</td></tr><tr><td>14000</td><td>44147</td><td>Demi-Leigh</td><td>Sanders</td><td>Myrtle</td><td>0.0</td><td>2021-01-14</td><td>C1</td><td>05</td><td>white</td><td>hispanic</td><td>746 Weissnat Landing</td><td>null</td><td>Boston</td><td>Massachusetts</td><td>Suffolk County</td><td>02203</td></tr><tr><td>36400</td><td>49044</td><td>Jenny</td><td>Wells</td><td>null</td><td>0.0</td><td>2011-09-22</td><td>F</td><td>03</td><td>white</td><td>nonhispanic</td><td>574 Kunze Grove Apt 45</td><td>null</td><td>Lowell</td><td>Massachusetts</td><td>Middlesex County</td><td></td></tr><tr><td>44800</td><td>5185</td><td>Wade</td><td>Mills</td><td>null</td><td>0.0</td><td>1983-02-04</td><td>C1</td><td>05</td><td>white</td><td>nonhispanic</td><td>137 Miller Meadow</td><td>null</td><td>Boston</td><td>Massachusetts</td><td>Suffolk County</td><td>02126</td></tr><tr><td>203300</td><td>68739</td><td>Savanna</td><td>Cannon</td><td>null</td><td>0.0</td><td>1974-09-20</td><td>C2</td><td>06</td><td>white</td><td>nonhispanic</td><td>954 Marvin Ferry</td><td>null</td><td>Marlborough</td><td>Massachusetts</td><td>Middlesex County</td><td>01752</td></tr><tr><td>90300</td><td>76014</td><td>Jemima</td><td>Wagner</td><td>null</td><td>0.0</td><td>2012-12-14</td><td>G4</td><td>10</td><td>white</td><td>nonhispanic</td><td>818 Rau Fort</td><td>null</td><td>Boston</td><td>Massachusetts</td><td>Suffolk County</td><td>02115</td></tr><tr><td>90500</td><td>76100</td><td>Kye</td><td>Henderson</td><td>null</td><td>0.0</td><td>1961-07-19</td><td>C2</td><td>06</td><td>white</td><td>nonhispanic</td><td>1080 Sawayn Gateway Suite 9</td><td>null</td><td>Framingham</td><td>Massachusetts</td><td>Middlesex County</td><td>01701</td></tr><tr><td>112400</td><td>83026</td><td>Briony</td><td>Hampton</td><td>Marylou</td><td>0.0</td><td>1974-10-03</td><td>A2</td><td>12</td><td>white</td><td>nonhispanic</td><td>923 Boyle Dale Apt 44</td><td>null</td><td>Boston</td><td>Massachusetts</td><td>Suffolk County</td><td>02113</td></tr><tr><td>160400</td><td>84379</td><td>Isabel</td><td>Ballard</td><td>null</td><td>0.0</td><td>1960-04-10</td><td>N</td><td>13</td><td>asian</td><td>nonhispanic</td><td>330 Hermiston Trafficway</td><td>null</td><td>Westborough</td><td>Massachusetts</td><td>Worcester County</td><td></td></tr><tr><td>74800</td><td>85789</td><td>Ebony</td><td>Mcmahon</td><td>null</td><td>0.0</td><td>1954-01-14</td><td>G2</td><td>08</td><td>white</td><td>nonhispanic</td><td>358 Mann Junction Suite 98</td><td>null</td><td>Holliston</td><td>Massachusetts</td><td>Middlesex County</td><td></td></tr><tr><td>55900</td><td>90659</td><td>Lydia</td><td>Watson</td><td>null</td><td>0.0</td><td>1986-12-06</td><td>A2</td><td>12</td><td>white</td><td>nonhispanic</td><td>234 McLaughlin Station Suite 21</td><td>null</td><td>Boston</td><td>Massachusetts</td><td>Suffolk County</td><td>02134</td></tr><tr><td>65100</td><td>92762</td><td>Sallie</td><td>Aguilar</td><td>null</td><td>0.0</td><td>2003-05-26</td><td>G3</td><td>09</td><td>white</td><td>nonhispanic</td><td>1031 Rempel Parade</td><td>null</td><td>Sandwich</td><td>Massachusetts</td><td>Barnstable County</td><td></td></tr><tr><td>75800</td><td>92943</td><td>Dora</td><td>Curtis</td><td>null</td><td>0.0</td><td>1999-09-25</td><td>D2</td><td>16</td><td>asian</td><td>nonhispanic</td><td>864 Legros Alley</td><td>null</td><td>Holliston</td><td>Massachusetts</td><td>Middlesex County</td><td></td></tr><tr><td>66200</td><td>94524</td><td>Scarlet</td><td>Wright</td><td>null</td><td>0.0</td><td>2015-01-06</td><td>F</td><td>03</td><td>white</td><td>nonhispanic</td><td>370 Grant Park</td><td>null</td><td>Somerset</td><td>Massachusetts</td><td>Bristol County</td><td></td></tr><tr><td>39900</td><td>10538</td><td>Casey</td><td>Marsh</td><td>null</td><td>1.0</td><td>1973-05-06</td><td>G2</td><td>08</td><td>white</td><td>nonhispanic</td><td>892 Dibbert Port Suite 41</td><td>null</td><td>Norwood</td><td>Massachusetts</td><td>Norfolk County</td><td></td></tr><tr><td>91400</td><td>11338</td><td>Lucas</td><td>Winters</td><td>Javier</td><td>1.0</td><td>2001-01-18</td><td>D2</td><td>16</td><td>white</td><td>nonhispanic</td><td>1072 Hagenes Crossing</td><td>null</td><td>Woburn</td><td>Massachusetts</td><td>Middlesex County</td><td></td></tr><tr><td>52200</td><td>113830</td><td>Lewys</td><td>Maddox</td><td>null</td><td>1.0</td><td>2008-01-18</td><td>D1</td><td>15</td><td>white</td><td>nonhispanic</td><td>214 Hane Course Unit 68</td><td>null</td><td>Westford</td><td>Massachusetts</td><td>Middlesex County</td><td></td></tr><tr><td>49100</td><td>115963</td><td>Zac</td><td>Suarez</td><td>null</td><td>1.0</td><td>1979-09-24</td><td>N</td><td>13</td><td>white</td><td>nonhispanic</td><td>128 Stiedemann Gardens Apt 64</td><td>null</td><td>Needham</td><td>Massachusetts</td><td>Norfolk County</td><td>02494</td></tr><tr><td>102200</td><td>121160</td><td>Mohammad</td><td>Cox</td><td>null</td><td>1.0</td><td>1994-09-30</td><td>F</td><td>03</td><td>white</td><td>nonhispanic</td><td>755 Hirthe Underpass</td><td>null</td><td>Milford</td><td>Massachusetts</td><td>Worcester County</td><td></td></tr><tr><td>133600</td><td>137952</td><td>Rehan</td><td>Hatfield</td><td>null</td><td>1.0</td><td>1990-09-07</td><td>D1</td><td>15</td><td>white</td><td>nonhispanic</td><td>937 Ryan Neck</td><td>null</td><td>Haverhill</td><td>Massachusetts</td><td>Essex County</td><td>01832</td></tr><tr><td>193900</td><td>145520</td><td>Francesco</td><td>Rivera</td><td>Kristopher</td><td>1.0</td><td>1994-11-04</td><td>M</td><td>04</td><td>white</td><td>nonhispanic</td><td>837 Mills Dam</td><td>null</td><td>Somerville</td><td>Massachusetts</td><td>Middlesex County</td><td>02140</td></tr><tr><td>126500</td><td>147036</td><td>Calvin</td><td>Cabrera</td><td>null</td><td>1.0</td><td>1977-11-12</td><td>F</td><td>03</td><td>white</td><td>nonhispanic</td><td>528 Lowe Lodge</td><td>null</td><td>Lowell</td><td>Massachusetts</td><td>Middlesex County</td><td>01854</td></tr><tr><td>208500</td><td>147970</td><td>Faith</td><td>Donnelly</td><td>null</td><td>1.0</td><td>2016-05-30</td><td>M</td><td>04</td><td>white</td><td>nonhispanic</td><td>164 Stokes Lodge Apt 34</td><td>null</td><td>Winchendon</td><td>Massachusetts</td><td>Worcester County</td><td>01475</td></tr><tr><td>176200</td><td>150505</td><td>Damon</td><td>Taylor</td><td>null</td><td>1.0</td><td>1960-02-06</td><td>M</td><td>04</td><td>black</td><td>nonhispanic</td><td>975 Murphy Tunnel Apt 27</td><td>null</td><td>Plymouth</td><td>Massachusetts</td><td>Plymouth County</td><td>02360</td></tr><tr><td>25500</td><td>15352</td><td>Pablo</td><td>Livingston</td><td>null</td><td>1.0</td><td>1999-05-28</td><td>M</td><td>04</td><td>white</td><td>nonhispanic</td><td>566 Williamson Run Suite 85</td><td>null</td><td>Swansea</td><td>Massachusetts</td><td>Bristol County</td><td></td></tr><tr><td>153300</td><td>162576</td><td>Raees</td><td>Tucker</td><td>Kyler</td><td>1.0</td><td>1988-04-24</td><td>N</td><td>13</td><td>native</td><td>nonhispanic</td><td>471 Mayert Flat Unit 54</td><td>null</td><td>Peabody</td><td>Massachusetts</td><td>Essex County</td><td></td></tr><tr><td>206200</td><td>192974</td><td>Harley</td><td>Salas</td><td>null</td><td>1.0</td><td>2009-09-19</td><td>F</td><td>03</td><td>white</td><td>nonhispanic</td><td>1056 Harris Lane Suite 70</td><td>null</td><td>Chicopee</td><td>Massachusetts</td><td>Hampden County</td><td>01020</td></tr><tr><td>224200</td><td>192974</td><td>Silas</td><td>Bush</td><td>null</td><td>1.0</td><td>1983-01-01</td><td>C1</td><td>05</td><td>white</td><td>nonhispanic</td><td>482 McGlynn Extension Apt 8</td><td>null</td><td>Chicopee</td><td>Massachusetts</td><td>Hampden County</td><td>01022</td></tr><tr><td>171200</td><td>192974</td><td>Wojciech</td><td>Sanders</td><td>null</td><td>1.0</td><td>1970-08-06</td><td>C2</td><td>06</td><td>black</td><td>nonhispanic</td><td>577 Kshlerin Parade</td><td>null</td><td>Swansea</td><td>Massachusetts</td><td>Bristol County</td><td></td></tr><tr><td>185200</td><td>192974</td><td>Karim</td><td>Hawkins</td><td>Junior</td><td>1.0</td><td>2014-04-28</td><td>N</td><td>13</td><td>white</td><td>nonhispanic</td><td>898 Grant Overpass Unit 18</td><td>null</td><td>Hingham</td><td>Massachusetts</td><td>Plymouth County</td><td>02043</td></tr><tr><td>185400</td><td>192974</td><td>Stella</td><td>Franco</td><td>null</td><td>1.0</td><td>2008-08-13</td><td>E</td><td>01</td><td>white</td><td>nonhispanic</td><td>757 Jenkins Crossroad</td><td>null</td><td>Wakefield</td><td>Massachusetts</td><td>Middlesex County</td><td></td></tr><tr><td>210200</td><td>195288</td><td>Mark</td><td>Armstrong</td><td>null</td><td>1.0</td><td>2020-03-05</td><td>G4</td><td>10</td><td>white</td><td>nonhispanic</td><td>730 Bogan Row</td><td>null</td><td>Danvers</td><td>Massachusetts</td><td>Essex County</td><td></td></tr><tr><td>205400</td><td>198559</td><td>Sonny</td><td>Brewer</td><td>Jagger</td><td>1.0</td><td>1973-04-02</td><td>C1</td><td>05</td><td>white</td><td>nonhispanic</td><td>494 Ondricka Vista Unit 61</td><td>null</td><td>Provincetown</td><td>Massachusetts</td><td>Barnstable County</td><td>02657</td></tr><tr><td>178000</td><td>199072</td><td>Keziah</td><td>Flynn</td><td>null</td><td>1.0</td><td>1988-03-07</td><td>M</td><td>04</td><td>white</td><td>nonhispanic</td><td>314 Haag Orchard Suite 76</td><td>null</td><td>Weymouth</td><td>Massachusetts</td><td>Norfolk County</td><td>02190</td></tr><tr><td>144400</td><td>200118</td><td>Courtney</td><td>Cuevas</td><td>null</td><td>1.0</td><td>1950-11-09</td><td>F</td><td>03</td><td>white</td><td>nonhispanic</td><td>159 Treutel Hollow</td><td>null</td><td>Winchester</td><td>Massachusetts</td><td>Middlesex County</td><td></td></tr><tr><td>181900</td><td>200665</td><td>Zain</td><td>Webb</td><td>null</td><td>1.0</td><td>2004-10-18</td><td>N</td><td>13</td><td>black</td><td>nonhispanic</td><td>203 Sporer Esplanade Unit 14</td><td>null</td><td>Oxford</td><td>Massachusetts</td><td>Worcester County</td><td></td></tr><tr><td>213300</td><td>203702</td><td>Andre</td><td>Jackson</td><td>null</td><td>1.0</td><td>1969-10-29</td><td>G4</td><td>10</td><td>white</td><td>nonhispanic</td><td>954 Marvin Ferry</td><td>null</td><td>Marlborough</td><td>Massachusetts</td><td>Middlesex County</td><td>01752</td></tr><tr><td>156400</td><td>205773</td><td>Gavin</td><td>Bernard</td><td>null</td><td>1.0</td><td>2004-06-28</td><td>S</td><td>02</td><td>white</td><td>nonhispanic</td><td>465 Crist Crossroad Unit 86</td><td>null</td><td>Quincy</td><td>Massachusetts</td><td>Norfolk County</td><td>02170</td></tr><tr><td>100000</td><td>206682</td><td>Fergus</td><td>Matthews</td><td>null</td><td>1.0</td><td>1990-10-14</td><td>A2</td><td>12</td><td>black</td><td>nonhispanic</td><td>503 Carter Light Apt 12</td><td>null</td><td>Auburn</td><td>Massachusetts</td><td>Worcester County</td><td></td></tr><tr><td>201100</td><td>217633</td><td>Armaan</td><td>Moody</td><td>Ker</td><td>1.0</td><td>2007-04-30</td><td>D2</td><td>16</td><td>white</td><td>nonhispanic</td><td>578 Welch Trace Unit 19</td><td>null</td><td>Bridgewater</td><td>Massachusetts</td><td>Plymouth County</td><td></td></tr><tr><td>201400</td><td>217770</td><td>Robyn</td><td>Mcgowan</td><td>null</td><td>1.0</td><td>2003-12-28</td><td>E</td><td>01</td><td>white</td><td>nonhispanic</td><td>379 Bernhard Station</td><td>null</td><td>Newburyport</td><td>Massachusetts</td><td>Essex County</td><td></td></tr><tr><td>130400</td><td>218479</td><td>Neo</td><td>Aguirre</td><td>null</td><td>1.0</td><td>1993-03-16</td><td>C1</td><td>05</td><td>white</td><td>nonhispanic</td><td>489 Nienow Rue</td><td>null</td><td>Fall River</td><td>Massachusetts</td><td>Bristol County</td><td>02790</td></tr><tr><td>142600</td><td>219363</td><td>Dillon</td><td>Roach</td><td>null</td><td>1.0</td><td>2009-05-05</td><td>G2</td><td>08</td><td>white</td><td>nonhispanic</td><td>741 Stracke Landing Apt 68</td><td>null</td><td>Walpole</td><td>Massachusetts</td><td>Norfolk County</td><td>02081</td></tr><tr><td>152200</td><td>221967</td><td>Evan</td><td>Moore</td><td>null</td><td>1.0</td><td>1944-08-14</td><td>M</td><td>04</td><td>white</td><td>nonhispanic</td><td>1045 Gibson Vista</td><td>null</td><td>Attleboro</td><td>Massachusetts</td><td>Bristol County</td><td>02703</td></tr><tr><td>152200</td><td>221967</td><td>Marcel</td><td>Randolph</td><td>Jirkar</td><td>1.0</td><td>1944-08-14</td><td>F</td><td>03</td><td>white</td><td>nonhispanic</td><td>1045 Gibson Vista</td><td>null</td><td>Attleboro</td><td>Massachusetts</td><td>Bristol County</td><td>02703</td></tr><tr><td>197900</td><td>222628</td><td>Eesa</td><td>Carpenter</td><td>null</td><td>1.0</td><td>1989-10-01</td><td>G3</td><td>09</td><td>white</td><td>hispanic</td><td>764 Feil Route</td><td>null</td><td>Boston</td><td>Massachusetts</td><td>Suffolk County</td><td>02108</td></tr><tr><td>62900</td><td>23532</td><td>Drew</td><td>Friedman</td><td>null</td><td>1.0</td><td>1936-03-30</td><td>C1</td><td>05</td><td>white</td><td>nonhispanic</td><td>911 Rodriguez Forge</td><td>null</td><td>Orange</td><td>Massachusetts</td><td>Franklin County</td><td>01364</td></tr><tr><td>147700</td><td>30696</td><td>Kaan</td><td>Mckee</td><td>null</td><td>1.0</td><td>1965-06-25</td><td>G1</td><td>07</td><td>white</td><td>nonhispanic</td><td>480 Jast Ramp Apt 20</td><td>null</td><td>Dennis</td><td>Massachusetts</td><td>Barnstable County</td><td>02638</td></tr><tr><td>86400</td><td>30696</td><td>Malakai</td><td>Malone</td><td>null</td><td>1.0</td><td>2011-06-20</td><td>E</td><td>01</td><td>white</td><td>nonhispanic</td><td>964 Schroeder Branch Apt 20</td><td>null</td><td>Spencer</td><td>Massachusetts</td><td>Worcester County</td><td></td></tr><tr><td>18200</td><td>38256</td><td>Aarav</td><td>Kent</td><td>null</td><td>1.0</td><td>1943-01-01</td><td>M</td><td>04</td><td>black</td><td>nonhispanic</td><td>718 Hamill Club</td><td>null</td><td>Easthampton</td><td>Massachusetts</td><td>Hampshire County</td><td></td></tr><tr><td>18200</td><td>38256</td><td>Steffan</td><td>Figueroa</td><td>Kippar</td><td>1.0</td><td>1943-01-01</td><td>E</td><td>01</td><td>black</td><td>nonhispanic</td><td>718 Hamill Club</td><td>null</td><td>Easthampton</td><td>Massachusetts</td><td>Hampshire County</td><td></td></tr><tr><td>18200</td><td>38256</td><td>Derek</td><td>Santos</td><td>null</td><td>1.0</td><td>1943-01-01</td><td>C1</td><td>05</td><td>black</td><td>nonhispanic</td><td>718 Hamill Club</td><td>null</td><td>Easthampton</td><td>Massachusetts</td><td>Hampshire County</td><td></td></tr><tr><td>109600</td><td>59066</td><td>Cole</td><td>Turner</td><td>null</td><td>1.0</td><td>2008-03-28</td><td>N</td><td>13</td><td>white</td><td>nonhispanic</td><td>454 Crooks Divide Unit 13</td><td>null</td><td>Plymouth</td><td>Massachusetts</td><td>Plymouth County</td><td></td></tr><tr><td>94700</td><td>62804</td><td>Roosevelt</td><td>Silva</td><td>null</td><td>1.0</td><td>2005-12-03</td><td>N</td><td>13</td><td>white</td><td>nonhispanic</td><td>461 Lindgren Plaza</td><td>null</td><td>Quincy</td><td>Massachusetts</td><td>Norfolk County</td><td>02169</td></tr><tr><td>105800</td><td>64702</td><td>Erin</td><td>Huff</td><td>Kester</td><td>1.0</td><td>1999-12-12</td><td>G2</td><td>08</td><td>white</td><td>nonhispanic</td><td>147 Rippin Lane</td><td>null</td><td>Boston</td><td>Massachusetts</td><td>Suffolk County</td><td>02116</td></tr><tr><td>210000</td><td>38256</td><td>Dale</td><td>Dale</td><td>null</td><td>1.0</td><td>1961-01-12</td><td>D1</td><td>15</td><td>black</td><td>nonhispanic</td><td>976 Lowe Branch</td><td>null</td><td>Boston</td><td>Massachusetts</td><td>Suffolk County</td><td>02115</td></tr><tr><td>1900</td><td>38256</td><td>Ameer</td><td>Mcmahon</td><td>null</td><td>1.0</td><td>2011-04-23</td><td>F</td><td>03</td><td>white</td><td>hispanic</td><td>1032 Koch Gardens</td><td>null</td><td>Sharon</td><td>Massachusetts</td><td>Norfolk County</td><td></td></tr><tr><td>2700</td><td>38256</td><td>Keeley</td><td>Preston</td><td>null</td><td>1.0</td><td>1956-03-29</td><td>D2</td><td>16</td><td>white</td><td>nonhispanic</td><td>333 Hilpert Route</td><td>null</td><td>Ware</td><td>Massachusetts</td><td>Hampshire County</td><td></td></tr><tr><td>2800</td><td>95182</td><td>Ted</td><td>Summers</td><td>null</td><td>1.0</td><td>1990-08-25</td><td>D2</td><td>16</td><td>white</td><td>nonhispanic</td><td>410 Homenick Lane</td><td>null</td><td>Duxbury</td><td>Massachusetts</td><td>Plymouth County</td><td>02332</td></tr><tr><td>117100</td><td>95182</td><td>Jaydon</td><td>Richard</td><td>null</td><td>1.0</td><td>1950-10-22</td><td>G3</td><td>09</td><td>white</td><td>nonhispanic</td><td>322 Marks Rue Suite 15</td><td>null</td><td>Fitchburg</td><td>Massachusetts</td><td>Worcester County</td><td>01420</td></tr><tr><td>77900</td><td>95182</td><td>Kristen</td><td>Gillespie</td><td>null</td><td>1.0</td><td>2004-02-16</td><td>E</td><td>01</td><td>white</td><td>nonhispanic</td><td>230 Murphy Camp Unit 83</td><td>null</td><td>Burlington</td><td>Massachusetts</td><td>Middlesex County</td><td>01803</td></tr></tbody></table></div>"
      ]
     },
     "metadata": {
      "application/vnd.databricks.v1+output": {
       "addedWidgets": {},
       "aggData": [],
       "aggError": "",
       "aggOverflow": false,
       "aggSchema": [],
       "aggSeriesLimitReached": false,
       "aggType": "",
       "arguments": {},
       "columnCustomDisplayInfos": {},
       "data": [
        [
         "173400",
         "160951",
         "Freya",
         "Lynn",
         "Marlys",
         0.0,
         "1988-02-23",
         "S",
         "02",
         "white",
         "nonhispanic",
         "771 Kirlin Haven",
         null,
         "Attleboro",
         "Massachusetts",
         "Bristol County",
         "02703"
        ],
        [
         "83300",
         "160951",
         "Candice",
         "Padilla",
         null,
         0.0,
         "1964-12-10",
         "F",
         "03",
         "white",
         "nonhispanic",
         "182 Trantow Mission Unit 20",
         null,
         "Bellingham",
         "Massachusetts",
         "Norfolk County",
         ""
        ],
        [
         "106800",
         "111325",
         "Leanne",
         "Swanson",
         null,
         0.0,
         "2015-05-28",
         "D2",
         "16",
         "white",
         "nonhispanic",
         "686 Shields Dam",
         null,
         "Easthampton",
         "Massachusetts",
         "Hampshire County",
         ""
        ],
        [
         "52900",
         "114177",
         "Millicent",
         "Byrne",
         null,
         0.0,
         "1948-04-22",
         "N",
         "13",
         "white",
         "nonhispanic",
         "1009 DuBuque Ville Unit 54",
         null,
         "Springfield",
         "Massachusetts",
         "Hampden County",
         "01106"
        ],
        [
         "97600",
         "117067",
         "Charley",
         "Lynn",
         null,
         0.0,
         "1976-01-12",
         "A1",
         "11",
         "white",
         "nonhispanic",
         "114 Cummerata Parade",
         null,
         "West Tisbury",
         "Massachusetts",
         "Dukes County",
         ""
        ],
        [
         "22000",
         "12745",
         "Flynn",
         "Morrison",
         null,
         0.0,
         "1989-03-30",
         "M",
         "04",
         "white",
         "nonhispanic",
         "164 Stokes Lodge Apt 34",
         null,
         "Winchendon",
         "Massachusetts",
         "Worcester County",
         "01475"
        ],
        [
         "22900",
         "13466",
         "Pauline",
         "Knight",
         null,
         0.0,
         "2019-05-09",
         "N",
         "13",
         "white",
         "nonhispanic",
         "376 Skiles Forge Suite 48",
         null,
         "Westminster",
         "Massachusetts",
         "Worcester County",
         ""
        ],
        [
         "122500",
         "135688",
         "Elspeth",
         "Gonzalez",
         "Marliss",
         0.0,
         "2014-09-09",
         "C2",
         "06",
         "asian",
         "hispanic",
         "570 Nikolaus Wynd",
         null,
         "Cambridge",
         "Massachusetts",
         "Middlesex County",
         "02139"
        ],
        [
         "21800",
         "13587",
         "Amelie",
         "Harmon",
         null,
         0.0,
         "1984-04-08",
         "D2",
         "16",
         "other",
         "nonhispanic",
         "958 Robel Run Unit 83",
         null,
         "Carver",
         "Massachusetts",
         "Plymouth County",
         ""
        ],
        [
         "145000",
         "138507",
         "Laura",
         "Montoya",
         null,
         0.0,
         "2010-03-29",
         "F",
         "03",
         "white",
         "nonhispanic",
         "1094 Keebler Grove",
         null,
         "Gardner",
         "Massachusetts",
         "Worcester County",
         "01440"
        ],
        [
         "150400",
         "151731",
         "Jayden",
         "Kane",
         null,
         0.0,
         "2019-07-08",
         "F",
         "03",
         "white",
         "hispanic",
         "1054 Price Glen",
         null,
         "Haverhill",
         "Massachusetts",
         "Essex County",
         "01835"
        ],
        [
         "114100",
         "152105",
         "Safa",
         "Kelly",
         null,
         0.0,
         "1991-08-21",
         "G3",
         "09",
         "white",
         "hispanic",
         "765 Russel Pathway Unit 82",
         null,
         "Spencer",
         "Massachusetts",
         "Worcester County",
         "01562"
        ],
        [
         "201500",
         "153303",
         "Anika",
         "Washington",
         "Merla",
         0.0,
         "2002-03-08",
         "F",
         "03",
         "black",
         "nonhispanic",
         "815 Rau Ramp",
         null,
         "Boston",
         "Massachusetts",
         "Suffolk County",
         "02109"
        ],
        [
         "215600",
         "158915",
         "Inayah",
         "Evans",
         null,
         0.0,
         "1988-06-28",
         "G3",
         "09",
         "white",
         "nonhispanic",
         "282 Roberts Brook Suite 29",
         null,
         "Dartmouth",
         "Massachusetts",
         "Bristol County",
         ""
        ],
        [
         "216900",
         "160951",
         "Aurora",
         "Lawson",
         null,
         0.0,
         "2012-10-04",
         "E",
         "01",
         "white",
         "nonhispanic",
         "194 Robel Skyway",
         null,
         "Boston",
         "Massachusetts",
         "Suffolk County",
         "02124"
        ],
        [
         "207000",
         "166936",
         "Robyn",
         "Stewart",
         null,
         0.0,
         "1957-10-19",
         "D1",
         "15",
         "white",
         "nonhispanic",
         "306 Aufderhar Grove Unit 79",
         null,
         "Palmer",
         "Massachusetts",
         "Hampden County",
         ""
        ],
        [
         "124700",
         "168886",
         "Lena",
         "Pearce",
         null,
         0.0,
         "1961-06-22",
         "A1",
         "11",
         "white",
         "nonhispanic",
         "610 Harber Rapid Unit 87",
         null,
         "Greenfield",
         "Massachusetts",
         "Franklin County",
         ""
        ],
        [
         "222700",
         "170319",
         "Kane",
         "Hardin",
         null,
         0.0,
         "2016-01-29",
         "E",
         "01",
         "asian",
         "hispanic",
         "971 Balistreri Vale Unit 75",
         null,
         "Southborough",
         "Massachusetts",
         "Worcester County",
         ""
        ],
        [
         "190000",
         "170319",
         "Noor",
         "Merritt",
         "Melody",
         0.0,
         "1954-02-18",
         "A2",
         "12",
         "white",
         "nonhispanic",
         "970 Johnston Drive Apt 25",
         null,
         "Worcester",
         "Massachusetts",
         "Worcester County",
         "01583"
        ],
        [
         "182000",
         "170319",
         "Khadijah",
         "Johnston",
         null,
         0.0,
         "2003-06-09",
         "D2",
         "16",
         "white",
         "nonhispanic",
         "252 Heller Manor Suite 56",
         null,
         "Attleboro",
         "Massachusetts",
         "Bristol County",
         "02861"
        ],
        [
         "139000",
         "170319",
         "Katy",
         "Dalton",
         null,
         0.0,
         "1983-10-07",
         "A1",
         "11",
         "white",
         "nonhispanic",
         "999 Kuhn Forge",
         null,
         "Lowell",
         "Massachusetts",
         "Middlesex County",
         "01851"
        ],
        [
         "157100",
         "170319",
         "Aminah",
         "Wall",
         null,
         0.0,
         "2007-09-19",
         "G4",
         "10",
         "white",
         "hispanic",
         "984 Kuhic Bay Apt 19",
         null,
         "Agawam",
         "Massachusetts",
         "Hampden County",
         "01030"
        ],
        [
         "110800",
         "209109",
         "Hollie",
         "Eaton",
         null,
         0.0,
         "1997-09-20",
         "M",
         "04",
         "white",
         "nonhispanic",
         "652 Kovacek Trailer Suite 29",
         null,
         "Lenox",
         "Massachusetts",
         "Berkshire County",
         "01240"
        ],
        [
         "158600",
         "213741",
         "Siobhan",
         "Lin",
         null,
         0.0,
         "2008-01-24",
         "A2",
         "12",
         "white",
         "nonhispanic",
         "611 Williamson Loaf Apt 44",
         null,
         "Somerville",
         "Massachusetts",
         "Middlesex County",
         "02138"
        ],
        [
         "190600",
         "215316",
         "Marley",
         "Zamora",
         null,
         0.0,
         "1950-06-05",
         "A2",
         "12",
         "black",
         "hispanic",
         "289 Brown Glen Unit 6",
         null,
         "Revere",
         "Massachusetts",
         "Suffolk County",
         "02151"
        ],
        [
         "21700",
         "22190",
         "Alessia",
         "Romero",
         "Mariel",
         0.0,
         "1967-07-12",
         "G4",
         "10",
         "white",
         "nonhispanic",
         "913 Schiller Well Apt 80",
         null,
         "Burlington",
         "Massachusetts",
         "Middlesex County",
         "01803"
        ],
        [
         "216300",
         "223770",
         "Adrian",
         "Collins",
         null,
         0.0,
         "1952-05-10",
         "C2",
         "06",
         "white",
         "hispanic",
         "217 Will Well Unit 1",
         null,
         "Boston",
         "Massachusetts",
         "Suffolk County",
         "02110"
        ],
        [
         "218500",
         "226237",
         "Belle",
         "O'Gallagher",
         null,
         0.0,
         "1994-05-05",
         "C1",
         "05",
         "white",
         "nonhispanic",
         "900 Paucek Way",
         null,
         "Newton",
         "Massachusetts",
         "Middlesex County",
         ""
        ],
        [
         "37600",
         "226967",
         "Chelsea",
         "Whitehead",
         null,
         0.0,
         "2016-03-22",
         "F",
         "03",
         "white",
         "nonhispanic",
         "255 Ondricka Common",
         null,
         "Deerfield",
         "Massachusetts",
         "Franklin County",
         ""
        ],
        [
         "93800",
         "27570",
         "Maeve",
         "Tucker",
         "Manuela",
         0.0,
         "1981-09-08",
         "M",
         "04",
         "white",
         "nonhispanic",
         "836 Willms Flat Suite 54",
         null,
         "Watertown",
         "Massachusetts",
         "Middlesex County",
         ""
        ],
        [
         "33500",
         "29764",
         "Lenny",
         "Coleman",
         null,
         0.0,
         "1975-09-26",
         "N",
         "13",
         "white",
         "nonhispanic",
         "820 Willms Mews",
         null,
         "Stow",
         "Massachusetts",
         "Middlesex County",
         ""
        ],
        [
         "58800",
         "29931",
         "Meredith",
         "Lewis",
         null,
         0.0,
         "1957-06-24",
         "D2",
         "16",
         "white",
         "hispanic",
         "451 Buckridge Harbor",
         null,
         "Attleboro",
         "Massachusetts",
         "Bristol County",
         ""
        ],
        [
         "106900",
         "33500",
         "Stella",
         "Franklin",
         null,
         0.0,
         "1970-04-18",
         "G1",
         "07",
         "white",
         "nonhispanic",
         "818 Bogan Ville",
         null,
         "Westport",
         "Massachusetts",
         "Bristol County",
         ""
        ],
        [
         "93100",
         "3975",
         "Cecilia",
         "Mayer",
         null,
         0.0,
         "1969-01-18",
         "C1",
         "05",
         "white",
         "nonhispanic",
         "419 Beatty Gardens",
         null,
         "Boston",
         "Massachusetts",
         "Suffolk County",
         "02111"
        ],
        [
         "17200",
         "39986",
         "Georgiana",
         "Livingston",
         null,
         0.0,
         "2003-09-21",
         "G4",
         "10",
         "white",
         "nonhispanic",
         "814 Blick Avenue Unit 22",
         null,
         "Wayland",
         "Massachusetts",
         "Middlesex County",
         ""
        ],
        [
         "32700",
         "41842",
         "Maya",
         "Townsend",
         "Merilyn",
         0.0,
         "1960-12-30",
         "G2",
         "08",
         "white",
         "nonhispanic",
         "763 Smitham Rue",
         null,
         "Worthington",
         "Massachusetts",
         "Hampshire County",
         ""
        ],
        [
         "22700",
         "44147",
         "Emelia",
         "Hobbs",
         null,
         0.0,
         "2020-05-22",
         "E",
         "01",
         "white",
         "hispanic",
         "810 Pfannerstill Underpass",
         null,
         "Springfield",
         "Massachusetts",
         "Hampden County",
         ""
        ],
        [
         "46700",
         "44147",
         "Lana",
         "Mckenzie",
         "Milissa",
         0.0,
         "2014-04-03",
         "A2",
         "12",
         "white",
         "nonhispanic",
         "1014 Hilpert Skyway Apt 68",
         null,
         "North Brookfield",
         "Massachusetts",
         "Worcester County",
         "01535"
        ],
        [
         "27400",
         "44147",
         "Rio",
         "Blair",
         null,
         0.0,
         "2011-07-22",
         "D1",
         "15",
         "white",
         "nonhispanic",
         "422 Farrell Path Unit 69",
         null,
         "Somerville",
         "Massachusetts",
         "Middlesex County",
         "02143"
        ],
        [
         "14000",
         "44147",
         "Demi-Leigh",
         "Sanders",
         "Myrtle",
         0.0,
         "2021-01-14",
         "C1",
         "05",
         "white",
         "hispanic",
         "746 Weissnat Landing",
         null,
         "Boston",
         "Massachusetts",
         "Suffolk County",
         "02203"
        ],
        [
         "36400",
         "49044",
         "Jenny",
         "Wells",
         null,
         0.0,
         "2011-09-22",
         "F",
         "03",
         "white",
         "nonhispanic",
         "574 Kunze Grove Apt 45",
         null,
         "Lowell",
         "Massachusetts",
         "Middlesex County",
         ""
        ],
        [
         "44800",
         "5185",
         "Wade",
         "Mills",
         null,
         0.0,
         "1983-02-04",
         "C1",
         "05",
         "white",
         "nonhispanic",
         "137 Miller Meadow",
         null,
         "Boston",
         "Massachusetts",
         "Suffolk County",
         "02126"
        ],
        [
         "203300",
         "68739",
         "Savanna",
         "Cannon",
         null,
         0.0,
         "1974-09-20",
         "C2",
         "06",
         "white",
         "nonhispanic",
         "954 Marvin Ferry",
         null,
         "Marlborough",
         "Massachusetts",
         "Middlesex County",
         "01752"
        ],
        [
         "90300",
         "76014",
         "Jemima",
         "Wagner",
         null,
         0.0,
         "2012-12-14",
         "G4",
         "10",
         "white",
         "nonhispanic",
         "818 Rau Fort",
         null,
         "Boston",
         "Massachusetts",
         "Suffolk County",
         "02115"
        ],
        [
         "90500",
         "76100",
         "Kye",
         "Henderson",
         null,
         0.0,
         "1961-07-19",
         "C2",
         "06",
         "white",
         "nonhispanic",
         "1080 Sawayn Gateway Suite 9",
         null,
         "Framingham",
         "Massachusetts",
         "Middlesex County",
         "01701"
        ],
        [
         "112400",
         "83026",
         "Briony",
         "Hampton",
         "Marylou",
         0.0,
         "1974-10-03",
         "A2",
         "12",
         "white",
         "nonhispanic",
         "923 Boyle Dale Apt 44",
         null,
         "Boston",
         "Massachusetts",
         "Suffolk County",
         "02113"
        ],
        [
         "160400",
         "84379",
         "Isabel",
         "Ballard",
         null,
         0.0,
         "1960-04-10",
         "N",
         "13",
         "asian",
         "nonhispanic",
         "330 Hermiston Trafficway",
         null,
         "Westborough",
         "Massachusetts",
         "Worcester County",
         ""
        ],
        [
         "74800",
         "85789",
         "Ebony",
         "Mcmahon",
         null,
         0.0,
         "1954-01-14",
         "G2",
         "08",
         "white",
         "nonhispanic",
         "358 Mann Junction Suite 98",
         null,
         "Holliston",
         "Massachusetts",
         "Middlesex County",
         ""
        ],
        [
         "55900",
         "90659",
         "Lydia",
         "Watson",
         null,
         0.0,
         "1986-12-06",
         "A2",
         "12",
         "white",
         "nonhispanic",
         "234 McLaughlin Station Suite 21",
         null,
         "Boston",
         "Massachusetts",
         "Suffolk County",
         "02134"
        ],
        [
         "65100",
         "92762",
         "Sallie",
         "Aguilar",
         null,
         0.0,
         "2003-05-26",
         "G3",
         "09",
         "white",
         "nonhispanic",
         "1031 Rempel Parade",
         null,
         "Sandwich",
         "Massachusetts",
         "Barnstable County",
         ""
        ],
        [
         "75800",
         "92943",
         "Dora",
         "Curtis",
         null,
         0.0,
         "1999-09-25",
         "D2",
         "16",
         "asian",
         "nonhispanic",
         "864 Legros Alley",
         null,
         "Holliston",
         "Massachusetts",
         "Middlesex County",
         ""
        ],
        [
         "66200",
         "94524",
         "Scarlet",
         "Wright",
         null,
         0.0,
         "2015-01-06",
         "F",
         "03",
         "white",
         "nonhispanic",
         "370 Grant Park",
         null,
         "Somerset",
         "Massachusetts",
         "Bristol County",
         ""
        ],
        [
         "39900",
         "10538",
         "Casey",
         "Marsh",
         null,
         1.0,
         "1973-05-06",
         "G2",
         "08",
         "white",
         "nonhispanic",
         "892 Dibbert Port Suite 41",
         null,
         "Norwood",
         "Massachusetts",
         "Norfolk County",
         ""
        ],
        [
         "91400",
         "11338",
         "Lucas",
         "Winters",
         "Javier",
         1.0,
         "2001-01-18",
         "D2",
         "16",
         "white",
         "nonhispanic",
         "1072 Hagenes Crossing",
         null,
         "Woburn",
         "Massachusetts",
         "Middlesex County",
         ""
        ],
        [
         "52200",
         "113830",
         "Lewys",
         "Maddox",
         null,
         1.0,
         "2008-01-18",
         "D1",
         "15",
         "white",
         "nonhispanic",
         "214 Hane Course Unit 68",
         null,
         "Westford",
         "Massachusetts",
         "Middlesex County",
         ""
        ],
        [
         "49100",
         "115963",
         "Zac",
         "Suarez",
         null,
         1.0,
         "1979-09-24",
         "N",
         "13",
         "white",
         "nonhispanic",
         "128 Stiedemann Gardens Apt 64",
         null,
         "Needham",
         "Massachusetts",
         "Norfolk County",
         "02494"
        ],
        [
         "102200",
         "121160",
         "Mohammad",
         "Cox",
         null,
         1.0,
         "1994-09-30",
         "F",
         "03",
         "white",
         "nonhispanic",
         "755 Hirthe Underpass",
         null,
         "Milford",
         "Massachusetts",
         "Worcester County",
         ""
        ],
        [
         "133600",
         "137952",
         "Rehan",
         "Hatfield",
         null,
         1.0,
         "1990-09-07",
         "D1",
         "15",
         "white",
         "nonhispanic",
         "937 Ryan Neck",
         null,
         "Haverhill",
         "Massachusetts",
         "Essex County",
         "01832"
        ],
        [
         "193900",
         "145520",
         "Francesco",
         "Rivera",
         "Kristopher",
         1.0,
         "1994-11-04",
         "M",
         "04",
         "white",
         "nonhispanic",
         "837 Mills Dam",
         null,
         "Somerville",
         "Massachusetts",
         "Middlesex County",
         "02140"
        ],
        [
         "126500",
         "147036",
         "Calvin",
         "Cabrera",
         null,
         1.0,
         "1977-11-12",
         "F",
         "03",
         "white",
         "nonhispanic",
         "528 Lowe Lodge",
         null,
         "Lowell",
         "Massachusetts",
         "Middlesex County",
         "01854"
        ],
        [
         "208500",
         "147970",
         "Faith",
         "Donnelly",
         null,
         1.0,
         "2016-05-30",
         "M",
         "04",
         "white",
         "nonhispanic",
         "164 Stokes Lodge Apt 34",
         null,
         "Winchendon",
         "Massachusetts",
         "Worcester County",
         "01475"
        ],
        [
         "176200",
         "150505",
         "Damon",
         "Taylor",
         null,
         1.0,
         "1960-02-06",
         "M",
         "04",
         "black",
         "nonhispanic",
         "975 Murphy Tunnel Apt 27",
         null,
         "Plymouth",
         "Massachusetts",
         "Plymouth County",
         "02360"
        ],
        [
         "25500",
         "15352",
         "Pablo",
         "Livingston",
         null,
         1.0,
         "1999-05-28",
         "M",
         "04",
         "white",
         "nonhispanic",
         "566 Williamson Run Suite 85",
         null,
         "Swansea",
         "Massachusetts",
         "Bristol County",
         ""
        ],
        [
         "153300",
         "162576",
         "Raees",
         "Tucker",
         "Kyler",
         1.0,
         "1988-04-24",
         "N",
         "13",
         "native",
         "nonhispanic",
         "471 Mayert Flat Unit 54",
         null,
         "Peabody",
         "Massachusetts",
         "Essex County",
         ""
        ],
        [
         "206200",
         "192974",
         "Harley",
         "Salas",
         null,
         1.0,
         "2009-09-19",
         "F",
         "03",
         "white",
         "nonhispanic",
         "1056 Harris Lane Suite 70",
         null,
         "Chicopee",
         "Massachusetts",
         "Hampden County",
         "01020"
        ],
        [
         "224200",
         "192974",
         "Silas",
         "Bush",
         null,
         1.0,
         "1983-01-01",
         "C1",
         "05",
         "white",
         "nonhispanic",
         "482 McGlynn Extension Apt 8",
         null,
         "Chicopee",
         "Massachusetts",
         "Hampden County",
         "01022"
        ],
        [
         "171200",
         "192974",
         "Wojciech",
         "Sanders",
         null,
         1.0,
         "1970-08-06",
         "C2",
         "06",
         "black",
         "nonhispanic",
         "577 Kshlerin Parade",
         null,
         "Swansea",
         "Massachusetts",
         "Bristol County",
         ""
        ],
        [
         "185200",
         "192974",
         "Karim",
         "Hawkins",
         "Junior",
         1.0,
         "2014-04-28",
         "N",
         "13",
         "white",
         "nonhispanic",
         "898 Grant Overpass Unit 18",
         null,
         "Hingham",
         "Massachusetts",
         "Plymouth County",
         "02043"
        ],
        [
         "185400",
         "192974",
         "Stella",
         "Franco",
         null,
         1.0,
         "2008-08-13",
         "E",
         "01",
         "white",
         "nonhispanic",
         "757 Jenkins Crossroad",
         null,
         "Wakefield",
         "Massachusetts",
         "Middlesex County",
         ""
        ],
        [
         "210200",
         "195288",
         "Mark",
         "Armstrong",
         null,
         1.0,
         "2020-03-05",
         "G4",
         "10",
         "white",
         "nonhispanic",
         "730 Bogan Row",
         null,
         "Danvers",
         "Massachusetts",
         "Essex County",
         ""
        ],
        [
         "205400",
         "198559",
         "Sonny",
         "Brewer",
         "Jagger",
         1.0,
         "1973-04-02",
         "C1",
         "05",
         "white",
         "nonhispanic",
         "494 Ondricka Vista Unit 61",
         null,
         "Provincetown",
         "Massachusetts",
         "Barnstable County",
         "02657"
        ],
        [
         "178000",
         "199072",
         "Keziah",
         "Flynn",
         null,
         1.0,
         "1988-03-07",
         "M",
         "04",
         "white",
         "nonhispanic",
         "314 Haag Orchard Suite 76",
         null,
         "Weymouth",
         "Massachusetts",
         "Norfolk County",
         "02190"
        ],
        [
         "144400",
         "200118",
         "Courtney",
         "Cuevas",
         null,
         1.0,
         "1950-11-09",
         "F",
         "03",
         "white",
         "nonhispanic",
         "159 Treutel Hollow",
         null,
         "Winchester",
         "Massachusetts",
         "Middlesex County",
         ""
        ],
        [
         "181900",
         "200665",
         "Zain",
         "Webb",
         null,
         1.0,
         "2004-10-18",
         "N",
         "13",
         "black",
         "nonhispanic",
         "203 Sporer Esplanade Unit 14",
         null,
         "Oxford",
         "Massachusetts",
         "Worcester County",
         ""
        ],
        [
         "213300",
         "203702",
         "Andre",
         "Jackson",
         null,
         1.0,
         "1969-10-29",
         "G4",
         "10",
         "white",
         "nonhispanic",
         "954 Marvin Ferry",
         null,
         "Marlborough",
         "Massachusetts",
         "Middlesex County",
         "01752"
        ],
        [
         "156400",
         "205773",
         "Gavin",
         "Bernard",
         null,
         1.0,
         "2004-06-28",
         "S",
         "02",
         "white",
         "nonhispanic",
         "465 Crist Crossroad Unit 86",
         null,
         "Quincy",
         "Massachusetts",
         "Norfolk County",
         "02170"
        ],
        [
         "100000",
         "206682",
         "Fergus",
         "Matthews",
         null,
         1.0,
         "1990-10-14",
         "A2",
         "12",
         "black",
         "nonhispanic",
         "503 Carter Light Apt 12",
         null,
         "Auburn",
         "Massachusetts",
         "Worcester County",
         ""
        ],
        [
         "201100",
         "217633",
         "Armaan",
         "Moody",
         "Ker",
         1.0,
         "2007-04-30",
         "D2",
         "16",
         "white",
         "nonhispanic",
         "578 Welch Trace Unit 19",
         null,
         "Bridgewater",
         "Massachusetts",
         "Plymouth County",
         ""
        ],
        [
         "201400",
         "217770",
         "Robyn",
         "Mcgowan",
         null,
         1.0,
         "2003-12-28",
         "E",
         "01",
         "white",
         "nonhispanic",
         "379 Bernhard Station",
         null,
         "Newburyport",
         "Massachusetts",
         "Essex County",
         ""
        ],
        [
         "130400",
         "218479",
         "Neo",
         "Aguirre",
         null,
         1.0,
         "1993-03-16",
         "C1",
         "05",
         "white",
         "nonhispanic",
         "489 Nienow Rue",
         null,
         "Fall River",
         "Massachusetts",
         "Bristol County",
         "02790"
        ],
        [
         "142600",
         "219363",
         "Dillon",
         "Roach",
         null,
         1.0,
         "2009-05-05",
         "G2",
         "08",
         "white",
         "nonhispanic",
         "741 Stracke Landing Apt 68",
         null,
         "Walpole",
         "Massachusetts",
         "Norfolk County",
         "02081"
        ],
        [
         "152200",
         "221967",
         "Evan",
         "Moore",
         null,
         1.0,
         "1944-08-14",
         "M",
         "04",
         "white",
         "nonhispanic",
         "1045 Gibson Vista",
         null,
         "Attleboro",
         "Massachusetts",
         "Bristol County",
         "02703"
        ],
        [
         "152200",
         "221967",
         "Marcel",
         "Randolph",
         "Jirkar",
         1.0,
         "1944-08-14",
         "F",
         "03",
         "white",
         "nonhispanic",
         "1045 Gibson Vista",
         null,
         "Attleboro",
         "Massachusetts",
         "Bristol County",
         "02703"
        ],
        [
         "197900",
         "222628",
         "Eesa",
         "Carpenter",
         null,
         1.0,
         "1989-10-01",
         "G3",
         "09",
         "white",
         "hispanic",
         "764 Feil Route",
         null,
         "Boston",
         "Massachusetts",
         "Suffolk County",
         "02108"
        ],
        [
         "62900",
         "23532",
         "Drew",
         "Friedman",
         null,
         1.0,
         "1936-03-30",
         "C1",
         "05",
         "white",
         "nonhispanic",
         "911 Rodriguez Forge",
         null,
         "Orange",
         "Massachusetts",
         "Franklin County",
         "01364"
        ],
        [
         "147700",
         "30696",
         "Kaan",
         "Mckee",
         null,
         1.0,
         "1965-06-25",
         "G1",
         "07",
         "white",
         "nonhispanic",
         "480 Jast Ramp Apt 20",
         null,
         "Dennis",
         "Massachusetts",
         "Barnstable County",
         "02638"
        ],
        [
         "86400",
         "30696",
         "Malakai",
         "Malone",
         null,
         1.0,
         "2011-06-20",
         "E",
         "01",
         "white",
         "nonhispanic",
         "964 Schroeder Branch Apt 20",
         null,
         "Spencer",
         "Massachusetts",
         "Worcester County",
         ""
        ],
        [
         "18200",
         "38256",
         "Aarav",
         "Kent",
         null,
         1.0,
         "1943-01-01",
         "M",
         "04",
         "black",
         "nonhispanic",
         "718 Hamill Club",
         null,
         "Easthampton",
         "Massachusetts",
         "Hampshire County",
         ""
        ],
        [
         "18200",
         "38256",
         "Steffan",
         "Figueroa",
         "Kippar",
         1.0,
         "1943-01-01",
         "E",
         "01",
         "black",
         "nonhispanic",
         "718 Hamill Club",
         null,
         "Easthampton",
         "Massachusetts",
         "Hampshire County",
         ""
        ],
        [
         "18200",
         "38256",
         "Derek",
         "Santos",
         null,
         1.0,
         "1943-01-01",
         "C1",
         "05",
         "black",
         "nonhispanic",
         "718 Hamill Club",
         null,
         "Easthampton",
         "Massachusetts",
         "Hampshire County",
         ""
        ],
        [
         "109600",
         "59066",
         "Cole",
         "Turner",
         null,
         1.0,
         "2008-03-28",
         "N",
         "13",
         "white",
         "nonhispanic",
         "454 Crooks Divide Unit 13",
         null,
         "Plymouth",
         "Massachusetts",
         "Plymouth County",
         ""
        ],
        [
         "94700",
         "62804",
         "Roosevelt",
         "Silva",
         null,
         1.0,
         "2005-12-03",
         "N",
         "13",
         "white",
         "nonhispanic",
         "461 Lindgren Plaza",
         null,
         "Quincy",
         "Massachusetts",
         "Norfolk County",
         "02169"
        ],
        [
         "105800",
         "64702",
         "Erin",
         "Huff",
         "Kester",
         1.0,
         "1999-12-12",
         "G2",
         "08",
         "white",
         "nonhispanic",
         "147 Rippin Lane",
         null,
         "Boston",
         "Massachusetts",
         "Suffolk County",
         "02116"
        ],
        [
         "210000",
         "38256",
         "Dale",
         "Dale",
         null,
         1.0,
         "1961-01-12",
         "D1",
         "15",
         "black",
         "nonhispanic",
         "976 Lowe Branch",
         null,
         "Boston",
         "Massachusetts",
         "Suffolk County",
         "02115"
        ],
        [
         "1900",
         "38256",
         "Ameer",
         "Mcmahon",
         null,
         1.0,
         "2011-04-23",
         "F",
         "03",
         "white",
         "hispanic",
         "1032 Koch Gardens",
         null,
         "Sharon",
         "Massachusetts",
         "Norfolk County",
         ""
        ],
        [
         "2700",
         "38256",
         "Keeley",
         "Preston",
         null,
         1.0,
         "1956-03-29",
         "D2",
         "16",
         "white",
         "nonhispanic",
         "333 Hilpert Route",
         null,
         "Ware",
         "Massachusetts",
         "Hampshire County",
         ""
        ],
        [
         "2800",
         "95182",
         "Ted",
         "Summers",
         null,
         1.0,
         "1990-08-25",
         "D2",
         "16",
         "white",
         "nonhispanic",
         "410 Homenick Lane",
         null,
         "Duxbury",
         "Massachusetts",
         "Plymouth County",
         "02332"
        ],
        [
         "117100",
         "95182",
         "Jaydon",
         "Richard",
         null,
         1.0,
         "1950-10-22",
         "G3",
         "09",
         "white",
         "nonhispanic",
         "322 Marks Rue Suite 15",
         null,
         "Fitchburg",
         "Massachusetts",
         "Worcester County",
         "01420"
        ],
        [
         "77900",
         "95182",
         "Kristen",
         "Gillespie",
         null,
         1.0,
         "2004-02-16",
         "E",
         "01",
         "white",
         "nonhispanic",
         "230 Murphy Camp Unit 83",
         null,
         "Burlington",
         "Massachusetts",
         "Middlesex County",
         "01803"
        ]
       ],
       "datasetInfos": [],
       "dbfsResultPath": null,
       "isJsonSchema": true,
       "metadata": {},
       "overflow": false,
       "plotOptions": {
        "customPlotOptions": {},
        "displayType": "table",
        "pivotAggregation": null,
        "pivotColumns": null,
        "xColumns": null,
        "yColumns": null
       },
       "removedWidgets": [],
       "schema": [
        {
         "metadata": "{}",
         "name": "MEMBER_ID",
         "type": "\"string\""
        },
        {
         "metadata": "{}",
         "name": "EMPLOYEE_ID",
         "type": "\"string\""
        },
        {
         "metadata": "{}",
         "name": "FIRST_NAME",
         "type": "\"string\""
        },
        {
         "metadata": "{}",
         "name": "LAST_NAME",
         "type": "\"string\""
        },
        {
         "metadata": "{}",
         "name": "MIDDLE_NAME",
         "type": "\"string\""
        },
        {
         "metadata": "{}",
         "name": "GENDER",
         "type": "\"double\""
        },
        {
         "metadata": "{}",
         "name": "DOB",
         "type": "\"string\""
        },
        {
         "metadata": "{}",
         "name": "RELATIONSHIP",
         "type": "\"string\""
        },
        {
         "metadata": "{}",
         "name": "PERSON_CODE",
         "type": "\"string\""
        },
        {
         "metadata": "{}",
         "name": "RACE",
         "type": "\"string\""
        },
        {
         "metadata": "{}",
         "name": "ETHNICITY",
         "type": "\"string\""
        },
        {
         "metadata": "{}",
         "name": "ADDRESS_1",
         "type": "\"string\""
        },
        {
         "metadata": "{}",
         "name": "ADDRESS_2",
         "type": "\"string\""
        },
        {
         "metadata": "{}",
         "name": "CITY",
         "type": "\"string\""
        },
        {
         "metadata": "{}",
         "name": "STATE",
         "type": "\"string\""
        },
        {
         "metadata": "{}",
         "name": "COUNTY",
         "type": "\"string\""
        },
        {
         "metadata": "{}",
         "name": "ZIP",
         "type": "\"string\""
        }
       ],
       "type": "table"
      }
     },
     "output_type": "display_data"
    }
   ],
   "source": [
    "sheet_names = [\"'Data Dictionary'\", \"'Crosswalks'\", \"'Enrollment Mock Data'\", \"'Demographics Mock Data'\"]\n",
    "file_location = \"/FileStore/tables/Eligibility_Mock_Data___US_Healthcare_Bootcamp__1_.xlsx\"\n",
    "\n",
    "dfs = {}\n",
    "\n",
    "for sheet_name in sheet_names:\n",
    "    df = spark.read.format(\"com.crealytics.spark.excel\") \\\n",
    "               .option(\"inferschema\", True) \\\n",
    "               .option(\"header\", True) \\\n",
    "               .option(\"dataAddress\", f\"{sheet_name}!\") \\\n",
    "               .option(\"sheetName\", sheet_name) \\\n",
    "               .load(file_location)\n",
    "    dfs[sheet_name] = df\n",
    "\n",
    "for sheet_name, df in dfs.items():\n",
    "    print(f\"Sheet Name: {sheet_name}\")\n",
    "    display(df)\n"
   ]
  },
  {
   "cell_type": "code",
   "execution_count": 0,
   "metadata": {
    "application/vnd.databricks.v1+cell": {
     "cellMetadata": {
      "byteLimit": 2048000,
      "rowLimit": 10000
     },
     "inputWidgets": {},
     "nuid": "6022ea19-2ff7-4f66-b265-1f4fd855447d",
     "showTitle": false,
     "title": ""
    }
   },
   "outputs": [
    {
     "output_type": "stream",
     "name": "stdout",
     "output_type": "stream",
     "text": [
      "Table Name: Gender Crosswalk\n"
     ]
    },
    {
     "output_type": "display_data",
     "data": {
      "text/html": [
       "<style scoped>\n",
       "  .table-result-container {\n",
       "    max-height: 300px;\n",
       "    overflow: auto;\n",
       "  }\n",
       "  table, th, td {\n",
       "    border: 1px solid black;\n",
       "    border-collapse: collapse;\n",
       "  }\n",
       "  th, td {\n",
       "    padding: 5px;\n",
       "  }\n",
       "  th {\n",
       "    text-align: left;\n",
       "  }\n",
       "</style><div class='table-result-container'><table class='table-result'><thead style='background-color: white'><tr><th>Gender Crosswalk</th><th>_c1</th><th>_c2</th></tr></thead><tbody><tr><td>Code</td><td>Rollup_Code</td><td>Rollup_Description</td></tr><tr><td>0</td><td>F</td><td>Female</td></tr><tr><td>1</td><td>M</td><td>Male</td></tr><tr><td>2</td><td>U</td><td>Unknown</td></tr><tr><td>Relationship Crosswalk</td><td>null</td><td>null</td></tr><tr><td>Rollup_Code</td><td>Rollup_Description</td><td>null</td></tr><tr><td>E</td><td>Self</td><td>null</td></tr><tr><td>S</td><td>Spouse</td><td>null</td></tr><tr><td>F</td><td>Father</td><td>null</td></tr><tr><td>M</td><td>Mother</td><td>null</td></tr><tr><td>C1</td><td>Son</td><td>null</td></tr><tr><td>C2</td><td>Daughter</td><td>null</td></tr><tr><td>G1</td><td>Grand Father</td><td>null</td></tr><tr><td>G2</td><td>Grand Mother</td><td>null</td></tr><tr><td>G3</td><td>Grand Son</td><td>null</td></tr><tr><td>G4</td><td>Grand Daughter</td><td>null</td></tr><tr><td>A1</td><td>Adopted Son</td><td>null</td></tr><tr><td>A2</td><td>Adapted Daughter</td><td>null</td></tr><tr><td>N</td><td>Niece</td><td>null</td></tr><tr><td>F</td><td>Fiance</td><td>null</td></tr><tr><td>D1</td><td>Divorced Husband</td><td>null</td></tr><tr><td>D2</td><td>Divorced Wife</td><td>null</td></tr><tr><td>U</td><td>Unknown</td><td>null</td></tr><tr><td>Group Crosswalk</td><td>null</td><td>null</td></tr><tr><td>GROUP_ID</td><td>GROUP_NAME</td><td>null</td></tr><tr><td>8</td><td>TechKraft Inc</td><td>null</td></tr><tr><td>1</td><td>Abacus Insights</td><td>null</td></tr><tr><td>4</td><td>Digital Convergence Technologies</td><td>null</td></tr><tr><td>3</td><td>Facebook</td><td>null</td></tr><tr><td>2</td><td>Google</td><td>null</td></tr><tr><td>null</td><td>null</td><td>null</td></tr><tr><td>Coverage Crosswalk</td><td>null</td><td>null</td></tr><tr><td>Coverage_ID</td><td>Coverage_Description</td><td>null</td></tr><tr><td>E</td><td>Employee Only</td><td>null</td></tr><tr><td>ES</td><td>Employee and Spouse</td><td>null</td></tr><tr><td>F</td><td>Family</td><td>null</td></tr><tr><td>E1C</td><td>Employee and 1 Child</td><td>null</td></tr><tr><td>EC</td><td>Employee and Childrens</td><td>null</td></tr><tr><td>EP</td><td>Employee and Parents</td><td>null</td></tr><tr><td>U</td><td>Unknown</td><td>null</td></tr><tr><td>null</td><td>null</td><td>null</td></tr><tr><td>Plan Crosswalk</td><td>null</td><td>null</td></tr><tr><td>PLAN_ID</td><td>Plan Name</td><td>BENEFIT_TYPE</td></tr><tr><td>0</td><td>Plan A</td><td>Medical</td></tr><tr><td>1</td><td>Plan B</td><td>Medical and Dental</td></tr><tr><td>2</td><td>Plan C</td><td>Medical and Vision</td></tr><tr><td>3</td><td>Plan D</td><td>Medical, Dental and Vision</td></tr><tr><td>4</td><td>Plan E</td><td>Medical</td></tr><tr><td>5</td><td>Plan F</td><td>Medical and Dental</td></tr><tr><td>6</td><td>Plan G</td><td>Medical and Vision</td></tr><tr><td>7</td><td>Plan H</td><td>Medical, Dental and Vision</td></tr><tr><td>8</td><td>Plan I</td><td>Medical</td></tr><tr><td>9</td><td>Plan J</td><td>Medical and Dental</td></tr><tr><td>10</td><td>Plan K</td><td>Medical and Vision</td></tr><tr><td>11</td><td>Plan L</td><td>Medical, Dental and Vision</td></tr><tr><td>12</td><td>Plan M</td><td>Medical</td></tr><tr><td>13</td><td>Plan N</td><td>Medical and Dental</td></tr><tr><td>14</td><td>Plan O</td><td>Medical and Vision</td></tr><tr><td>15</td><td>Plan P</td><td>Medical, Dental and Vision</td></tr><tr><td>null</td><td>null</td><td>null</td></tr><tr><td>null</td><td>null</td><td>null</td></tr><tr><td>null</td><td>null</td><td>null</td></tr><tr><td>null</td><td>null</td><td>null</td></tr><tr><td>null</td><td>null</td><td>null</td></tr><tr><td>null</td><td>null</td><td>null</td></tr><tr><td>null</td><td>null</td><td>null</td></tr><tr><td>null</td><td>null</td><td>null</td></tr><tr><td>null</td><td>null</td><td>null</td></tr><tr><td>null</td><td>null</td><td>null</td></tr><tr><td>null</td><td>null</td><td>null</td></tr><tr><td>null</td><td>null</td><td>null</td></tr><tr><td>null</td><td>null</td><td>null</td></tr><tr><td>null</td><td>null</td><td>null</td></tr><tr><td>null</td><td>null</td><td>null</td></tr><tr><td>null</td><td>null</td><td>null</td></tr><tr><td>null</td><td>null</td><td>null</td></tr><tr><td>null</td><td>null</td><td>null</td></tr><tr><td>null</td><td>null</td><td>null</td></tr><tr><td>null</td><td>null</td><td>null</td></tr><tr><td>null</td><td>null</td><td>null</td></tr><tr><td>null</td><td>null</td><td>null</td></tr><tr><td>null</td><td>null</td><td>null</td></tr><tr><td>null</td><td>null</td><td>null</td></tr><tr><td>null</td><td>null</td><td>null</td></tr><tr><td>null</td><td>null</td><td>null</td></tr><tr><td>null</td><td>null</td><td>null</td></tr><tr><td>null</td><td>null</td><td>null</td></tr><tr><td>null</td><td>null</td><td>null</td></tr><tr><td>null</td><td>null</td><td>null</td></tr><tr><td>null</td><td>null</td><td>null</td></tr><tr><td>null</td><td>null</td><td>null</td></tr><tr><td>null</td><td>null</td><td>null</td></tr><tr><td>null</td><td>null</td><td>null</td></tr><tr><td>null</td><td>null</td><td>null</td></tr><tr><td>null</td><td>null</td><td>null</td></tr><tr><td>null</td><td>null</td><td>null</td></tr><tr><td>null</td><td>null</td><td>null</td></tr><tr><td>null</td><td>null</td><td>null</td></tr><tr><td>null</td><td>null</td><td>null</td></tr><tr><td>null</td><td>null</td><td>null</td></tr><tr><td>null</td><td>null</td><td>null</td></tr><tr><td>null</td><td>null</td><td>null</td></tr><tr><td>null</td><td>null</td><td>null</td></tr><tr><td>null</td><td>null</td><td>null</td></tr><tr><td>null</td><td>null</td><td>null</td></tr><tr><td>null</td><td>null</td><td>null</td></tr><tr><td>null</td><td>null</td><td>null</td></tr><tr><td>null</td><td>null</td><td>null</td></tr><tr><td>null</td><td>null</td><td>null</td></tr><tr><td>null</td><td>null</td><td>null</td></tr><tr><td>null</td><td>null</td><td>null</td></tr><tr><td>null</td><td>null</td><td>null</td></tr><tr><td>null</td><td>null</td><td>null</td></tr><tr><td>null</td><td>null</td><td>null</td></tr><tr><td>null</td><td>null</td><td>null</td></tr><tr><td>null</td><td>null</td><td>null</td></tr><tr><td>null</td><td>null</td><td>null</td></tr><tr><td>null</td><td>null</td><td>null</td></tr><tr><td>null</td><td>null</td><td>null</td></tr><tr><td>null</td><td>null</td><td>null</td></tr><tr><td>null</td><td>null</td><td>null</td></tr><tr><td>null</td><td>null</td><td>null</td></tr><tr><td>null</td><td>null</td><td>null</td></tr><tr><td>null</td><td>null</td><td>null</td></tr><tr><td>null</td><td>null</td><td>null</td></tr><tr><td>null</td><td>null</td><td>null</td></tr><tr><td>null</td><td>null</td><td>null</td></tr><tr><td>null</td><td>null</td><td>null</td></tr><tr><td>null</td><td>null</td><td>null</td></tr><tr><td>null</td><td>null</td><td>null</td></tr><tr><td>null</td><td>null</td><td>null</td></tr><tr><td>null</td><td>null</td><td>null</td></tr><tr><td>null</td><td>null</td><td>null</td></tr><tr><td>null</td><td>null</td><td>null</td></tr><tr><td>null</td><td>null</td><td>null</td></tr><tr><td>null</td><td>null</td><td>null</td></tr><tr><td>null</td><td>null</td><td>null</td></tr><tr><td>null</td><td>null</td><td>null</td></tr><tr><td>null</td><td>null</td><td>null</td></tr><tr><td>null</td><td>null</td><td>null</td></tr><tr><td>null</td><td>null</td><td>null</td></tr><tr><td>null</td><td>null</td><td>null</td></tr></tbody></table></div>"
      ]
     },
     "metadata": {
      "application/vnd.databricks.v1+output": {
       "addedWidgets": {},
       "aggData": [],
       "aggError": "",
       "aggOverflow": false,
       "aggSchema": [],
       "aggSeriesLimitReached": false,
       "aggType": "",
       "arguments": {},
       "columnCustomDisplayInfos": {},
       "data": [
        [
         "Code",
         "Rollup_Code",
         "Rollup_Description"
        ],
        [
         "0",
         "F",
         "Female"
        ],
        [
         "1",
         "M",
         "Male"
        ],
        [
         "2",
         "U",
         "Unknown"
        ],
        [
         "Relationship Crosswalk",
         null,
         null
        ],
        [
         "Rollup_Code",
         "Rollup_Description",
         null
        ],
        [
         "E",
         "Self",
         null
        ],
        [
         "S",
         "Spouse",
         null
        ],
        [
         "F",
         "Father",
         null
        ],
        [
         "M",
         "Mother",
         null
        ],
        [
         "C1",
         "Son",
         null
        ],
        [
         "C2",
         "Daughter",
         null
        ],
        [
         "G1",
         "Grand Father",
         null
        ],
        [
         "G2",
         "Grand Mother",
         null
        ],
        [
         "G3",
         "Grand Son",
         null
        ],
        [
         "G4",
         "Grand Daughter",
         null
        ],
        [
         "A1",
         "Adopted Son",
         null
        ],
        [
         "A2",
         "Adapted Daughter",
         null
        ],
        [
         "N",
         "Niece",
         null
        ],
        [
         "F",
         "Fiance",
         null
        ],
        [
         "D1",
         "Divorced Husband",
         null
        ],
        [
         "D2",
         "Divorced Wife",
         null
        ],
        [
         "U",
         "Unknown",
         null
        ],
        [
         "Group Crosswalk",
         null,
         null
        ],
        [
         "GROUP_ID",
         "GROUP_NAME",
         null
        ],
        [
         "8",
         "TechKraft Inc",
         null
        ],
        [
         "1",
         "Abacus Insights",
         null
        ],
        [
         "4",
         "Digital Convergence Technologies",
         null
        ],
        [
         "3",
         "Facebook",
         null
        ],
        [
         "2",
         "Google",
         null
        ],
        [
         null,
         null,
         null
        ],
        [
         "Coverage Crosswalk",
         null,
         null
        ],
        [
         "Coverage_ID",
         "Coverage_Description",
         null
        ],
        [
         "E",
         "Employee Only",
         null
        ],
        [
         "ES",
         "Employee and Spouse",
         null
        ],
        [
         "F",
         "Family",
         null
        ],
        [
         "E1C",
         "Employee and 1 Child",
         null
        ],
        [
         "EC",
         "Employee and Childrens",
         null
        ],
        [
         "EP",
         "Employee and Parents",
         null
        ],
        [
         "U",
         "Unknown",
         null
        ],
        [
         null,
         null,
         null
        ],
        [
         "Plan Crosswalk",
         null,
         null
        ],
        [
         "PLAN_ID",
         "Plan Name",
         "BENEFIT_TYPE"
        ],
        [
         "0",
         "Plan A",
         "Medical"
        ],
        [
         "1",
         "Plan B",
         "Medical and Dental"
        ],
        [
         "2",
         "Plan C",
         "Medical and Vision"
        ],
        [
         "3",
         "Plan D",
         "Medical, Dental and Vision"
        ],
        [
         "4",
         "Plan E",
         "Medical"
        ],
        [
         "5",
         "Plan F",
         "Medical and Dental"
        ],
        [
         "6",
         "Plan G",
         "Medical and Vision"
        ],
        [
         "7",
         "Plan H",
         "Medical, Dental and Vision"
        ],
        [
         "8",
         "Plan I",
         "Medical"
        ],
        [
         "9",
         "Plan J",
         "Medical and Dental"
        ],
        [
         "10",
         "Plan K",
         "Medical and Vision"
        ],
        [
         "11",
         "Plan L",
         "Medical, Dental and Vision"
        ],
        [
         "12",
         "Plan M",
         "Medical"
        ],
        [
         "13",
         "Plan N",
         "Medical and Dental"
        ],
        [
         "14",
         "Plan O",
         "Medical and Vision"
        ],
        [
         "15",
         "Plan P",
         "Medical, Dental and Vision"
        ],
        [
         null,
         null,
         null
        ],
        [
         null,
         null,
         null
        ],
        [
         null,
         null,
         null
        ],
        [
         null,
         null,
         null
        ],
        [
         null,
         null,
         null
        ],
        [
         null,
         null,
         null
        ],
        [
         null,
         null,
         null
        ],
        [
         null,
         null,
         null
        ],
        [
         null,
         null,
         null
        ],
        [
         null,
         null,
         null
        ],
        [
         null,
         null,
         null
        ],
        [
         null,
         null,
         null
        ],
        [
         null,
         null,
         null
        ],
        [
         null,
         null,
         null
        ],
        [
         null,
         null,
         null
        ],
        [
         null,
         null,
         null
        ],
        [
         null,
         null,
         null
        ],
        [
         null,
         null,
         null
        ],
        [
         null,
         null,
         null
        ],
        [
         null,
         null,
         null
        ],
        [
         null,
         null,
         null
        ],
        [
         null,
         null,
         null
        ],
        [
         null,
         null,
         null
        ],
        [
         null,
         null,
         null
        ],
        [
         null,
         null,
         null
        ],
        [
         null,
         null,
         null
        ],
        [
         null,
         null,
         null
        ],
        [
         null,
         null,
         null
        ],
        [
         null,
         null,
         null
        ],
        [
         null,
         null,
         null
        ],
        [
         null,
         null,
         null
        ],
        [
         null,
         null,
         null
        ],
        [
         null,
         null,
         null
        ],
        [
         null,
         null,
         null
        ],
        [
         null,
         null,
         null
        ],
        [
         null,
         null,
         null
        ],
        [
         null,
         null,
         null
        ],
        [
         null,
         null,
         null
        ],
        [
         null,
         null,
         null
        ],
        [
         null,
         null,
         null
        ],
        [
         null,
         null,
         null
        ],
        [
         null,
         null,
         null
        ],
        [
         null,
         null,
         null
        ],
        [
         null,
         null,
         null
        ],
        [
         null,
         null,
         null
        ],
        [
         null,
         null,
         null
        ],
        [
         null,
         null,
         null
        ],
        [
         null,
         null,
         null
        ],
        [
         null,
         null,
         null
        ],
        [
         null,
         null,
         null
        ],
        [
         null,
         null,
         null
        ],
        [
         null,
         null,
         null
        ],
        [
         null,
         null,
         null
        ],
        [
         null,
         null,
         null
        ],
        [
         null,
         null,
         null
        ],
        [
         null,
         null,
         null
        ],
        [
         null,
         null,
         null
        ],
        [
         null,
         null,
         null
        ],
        [
         null,
         null,
         null
        ],
        [
         null,
         null,
         null
        ],
        [
         null,
         null,
         null
        ],
        [
         null,
         null,
         null
        ],
        [
         null,
         null,
         null
        ],
        [
         null,
         null,
         null
        ],
        [
         null,
         null,
         null
        ],
        [
         null,
         null,
         null
        ],
        [
         null,
         null,
         null
        ],
        [
         null,
         null,
         null
        ],
        [
         null,
         null,
         null
        ],
        [
         null,
         null,
         null
        ],
        [
         null,
         null,
         null
        ],
        [
         null,
         null,
         null
        ],
        [
         null,
         null,
         null
        ],
        [
         null,
         null,
         null
        ],
        [
         null,
         null,
         null
        ],
        [
         null,
         null,
         null
        ],
        [
         null,
         null,
         null
        ],
        [
         null,
         null,
         null
        ],
        [
         null,
         null,
         null
        ],
        [
         null,
         null,
         null
        ],
        [
         null,
         null,
         null
        ],
        [
         null,
         null,
         null
        ],
        [
         null,
         null,
         null
        ]
       ],
       "datasetInfos": [],
       "dbfsResultPath": null,
       "isJsonSchema": true,
       "metadata": {},
       "overflow": false,
       "plotOptions": {
        "customPlotOptions": {},
        "displayType": "table",
        "pivotAggregation": null,
        "pivotColumns": null,
        "xColumns": null,
        "yColumns": null
       },
       "removedWidgets": [],
       "schema": [
        {
         "metadata": "{}",
         "name": "Gender Crosswalk",
         "type": "\"string\""
        },
        {
         "metadata": "{}",
         "name": "_c1",
         "type": "\"string\""
        },
        {
         "metadata": "{}",
         "name": "_c2",
         "type": "\"string\""
        }
       ],
       "type": "table"
      }
     },
     "output_type": "display_data"
    },
    {
     "output_type": "stream",
     "name": "stdout",
     "output_type": "stream",
     "text": [
      "Table Name: Relationship Crosswalk\n"
     ]
    },
    {
     "output_type": "display_data",
     "data": {
      "text/html": [
       "<style scoped>\n",
       "  .table-result-container {\n",
       "    max-height: 300px;\n",
       "    overflow: auto;\n",
       "  }\n",
       "  table, th, td {\n",
       "    border: 1px solid black;\n",
       "    border-collapse: collapse;\n",
       "  }\n",
       "  th, td {\n",
       "    padding: 5px;\n",
       "  }\n",
       "  th {\n",
       "    text-align: left;\n",
       "  }\n",
       "</style><div class='table-result-container'><table class='table-result'><thead style='background-color: white'><tr></tr></thead><tbody><tr></tr><tr></tr><tr></tr><tr></tr><tr></tr><tr></tr><tr></tr><tr></tr><tr></tr><tr></tr><tr></tr><tr></tr><tr></tr><tr></tr><tr></tr><tr></tr><tr></tr><tr></tr><tr></tr><tr></tr><tr></tr><tr></tr><tr></tr><tr></tr><tr></tr><tr></tr><tr></tr><tr></tr><tr></tr><tr></tr><tr></tr><tr></tr><tr></tr><tr></tr><tr></tr><tr></tr><tr></tr><tr></tr><tr></tr><tr></tr><tr></tr><tr></tr><tr></tr><tr></tr><tr></tr><tr></tr><tr></tr><tr></tr><tr></tr><tr></tr><tr></tr><tr></tr><tr></tr><tr></tr><tr></tr><tr></tr><tr></tr><tr></tr><tr></tr><tr></tr><tr></tr><tr></tr><tr></tr><tr></tr><tr></tr><tr></tr><tr></tr><tr></tr><tr></tr><tr></tr><tr></tr><tr></tr><tr></tr><tr></tr><tr></tr><tr></tr><tr></tr><tr></tr><tr></tr><tr></tr><tr></tr><tr></tr><tr></tr><tr></tr><tr></tr><tr></tr><tr></tr><tr></tr><tr></tr><tr></tr><tr></tr><tr></tr><tr></tr><tr></tr><tr></tr><tr></tr><tr></tr><tr></tr><tr></tr><tr></tr><tr></tr><tr></tr><tr></tr><tr></tr><tr></tr><tr></tr><tr></tr><tr></tr><tr></tr><tr></tr><tr></tr><tr></tr><tr></tr><tr></tr><tr></tr><tr></tr><tr></tr><tr></tr><tr></tr><tr></tr><tr></tr><tr></tr><tr></tr><tr></tr><tr></tr><tr></tr><tr></tr><tr></tr><tr></tr><tr></tr><tr></tr><tr></tr><tr></tr><tr></tr><tr></tr><tr></tr><tr></tr><tr></tr><tr></tr><tr></tr><tr></tr><tr></tr></tbody></table></div>"
      ]
     },
     "metadata": {
      "application/vnd.databricks.v1+output": {
       "addedWidgets": {},
       "aggData": [],
       "aggError": "",
       "aggOverflow": false,
       "aggSchema": [],
       "aggSeriesLimitReached": false,
       "aggType": "",
       "arguments": {},
       "columnCustomDisplayInfos": {},
       "data": [
        [],
        [],
        [],
        [],
        [],
        [],
        [],
        [],
        [],
        [],
        [],
        [],
        [],
        [],
        [],
        [],
        [],
        [],
        [],
        [],
        [],
        [],
        [],
        [],
        [],
        [],
        [],
        [],
        [],
        [],
        [],
        [],
        [],
        [],
        [],
        [],
        [],
        [],
        [],
        [],
        [],
        [],
        [],
        [],
        [],
        [],
        [],
        [],
        [],
        [],
        [],
        [],
        [],
        [],
        [],
        [],
        [],
        [],
        [],
        [],
        [],
        [],
        [],
        [],
        [],
        [],
        [],
        [],
        [],
        [],
        [],
        [],
        [],
        [],
        [],
        [],
        [],
        [],
        [],
        [],
        [],
        [],
        [],
        [],
        [],
        [],
        [],
        [],
        [],
        [],
        [],
        [],
        [],
        [],
        [],
        [],
        [],
        [],
        [],
        [],
        [],
        [],
        [],
        [],
        [],
        [],
        [],
        [],
        [],
        [],
        [],
        [],
        [],
        [],
        [],
        [],
        [],
        [],
        [],
        [],
        [],
        [],
        [],
        [],
        [],
        [],
        [],
        [],
        [],
        [],
        [],
        [],
        [],
        [],
        [],
        [],
        [],
        [],
        [],
        [],
        [],
        []
       ],
       "datasetInfos": [],
       "dbfsResultPath": null,
       "isJsonSchema": true,
       "metadata": {},
       "overflow": false,
       "plotOptions": {
        "customPlotOptions": {},
        "displayType": "table",
        "pivotAggregation": null,
        "pivotColumns": null,
        "xColumns": null,
        "yColumns": null
       },
       "removedWidgets": [],
       "schema": [],
       "type": "table"
      }
     },
     "output_type": "display_data"
    },
    {
     "output_type": "stream",
     "name": "stdout",
     "output_type": "stream",
     "text": [
      "Table Name: Group Crosswalk\n"
     ]
    },
    {
     "output_type": "display_data",
     "data": {
      "text/html": [
       "<style scoped>\n",
       "  .table-result-container {\n",
       "    max-height: 300px;\n",
       "    overflow: auto;\n",
       "  }\n",
       "  table, th, td {\n",
       "    border: 1px solid black;\n",
       "    border-collapse: collapse;\n",
       "  }\n",
       "  th, td {\n",
       "    padding: 5px;\n",
       "  }\n",
       "  th {\n",
       "    text-align: left;\n",
       "  }\n",
       "</style><div class='table-result-container'><table class='table-result'><thead style='background-color: white'><tr><th>Gender Crosswalk</th><th>_c1</th><th>_c2</th></tr></thead><tbody><tr><td>Code</td><td>Rollup_Code</td><td>Rollup_Description</td></tr><tr><td>0</td><td>F</td><td>Female</td></tr><tr><td>1</td><td>M</td><td>Male</td></tr><tr><td>2</td><td>U</td><td>Unknown</td></tr><tr><td>Relationship Crosswalk</td><td>null</td><td>null</td></tr><tr><td>Rollup_Code</td><td>Rollup_Description</td><td>null</td></tr><tr><td>E</td><td>Self</td><td>null</td></tr><tr><td>S</td><td>Spouse</td><td>null</td></tr><tr><td>F</td><td>Father</td><td>null</td></tr><tr><td>M</td><td>Mother</td><td>null</td></tr><tr><td>C1</td><td>Son</td><td>null</td></tr><tr><td>C2</td><td>Daughter</td><td>null</td></tr><tr><td>G1</td><td>Grand Father</td><td>null</td></tr><tr><td>G2</td><td>Grand Mother</td><td>null</td></tr><tr><td>G3</td><td>Grand Son</td><td>null</td></tr><tr><td>G4</td><td>Grand Daughter</td><td>null</td></tr><tr><td>A1</td><td>Adopted Son</td><td>null</td></tr><tr><td>A2</td><td>Adapted Daughter</td><td>null</td></tr><tr><td>N</td><td>Niece</td><td>null</td></tr><tr><td>F</td><td>Fiance</td><td>null</td></tr><tr><td>D1</td><td>Divorced Husband</td><td>null</td></tr><tr><td>D2</td><td>Divorced Wife</td><td>null</td></tr><tr><td>U</td><td>Unknown</td><td>null</td></tr><tr><td>Group Crosswalk</td><td>null</td><td>null</td></tr><tr><td>GROUP_ID</td><td>GROUP_NAME</td><td>null</td></tr><tr><td>8</td><td>TechKraft Inc</td><td>null</td></tr><tr><td>1</td><td>Abacus Insights</td><td>null</td></tr><tr><td>4</td><td>Digital Convergence Technologies</td><td>null</td></tr><tr><td>3</td><td>Facebook</td><td>null</td></tr><tr><td>2</td><td>Google</td><td>null</td></tr><tr><td>null</td><td>null</td><td>null</td></tr><tr><td>Coverage Crosswalk</td><td>null</td><td>null</td></tr><tr><td>Coverage_ID</td><td>Coverage_Description</td><td>null</td></tr><tr><td>E</td><td>Employee Only</td><td>null</td></tr><tr><td>ES</td><td>Employee and Spouse</td><td>null</td></tr><tr><td>F</td><td>Family</td><td>null</td></tr><tr><td>E1C</td><td>Employee and 1 Child</td><td>null</td></tr><tr><td>EC</td><td>Employee and Childrens</td><td>null</td></tr><tr><td>EP</td><td>Employee and Parents</td><td>null</td></tr><tr><td>U</td><td>Unknown</td><td>null</td></tr><tr><td>null</td><td>null</td><td>null</td></tr><tr><td>Plan Crosswalk</td><td>null</td><td>null</td></tr><tr><td>PLAN_ID</td><td>Plan Name</td><td>BENEFIT_TYPE</td></tr><tr><td>0</td><td>Plan A</td><td>Medical</td></tr><tr><td>1</td><td>Plan B</td><td>Medical and Dental</td></tr><tr><td>2</td><td>Plan C</td><td>Medical and Vision</td></tr><tr><td>3</td><td>Plan D</td><td>Medical, Dental and Vision</td></tr><tr><td>4</td><td>Plan E</td><td>Medical</td></tr><tr><td>5</td><td>Plan F</td><td>Medical and Dental</td></tr><tr><td>6</td><td>Plan G</td><td>Medical and Vision</td></tr><tr><td>7</td><td>Plan H</td><td>Medical, Dental and Vision</td></tr><tr><td>8</td><td>Plan I</td><td>Medical</td></tr><tr><td>9</td><td>Plan J</td><td>Medical and Dental</td></tr><tr><td>10</td><td>Plan K</td><td>Medical and Vision</td></tr><tr><td>11</td><td>Plan L</td><td>Medical, Dental and Vision</td></tr><tr><td>12</td><td>Plan M</td><td>Medical</td></tr><tr><td>13</td><td>Plan N</td><td>Medical and Dental</td></tr><tr><td>14</td><td>Plan O</td><td>Medical and Vision</td></tr><tr><td>15</td><td>Plan P</td><td>Medical, Dental and Vision</td></tr><tr><td>null</td><td>null</td><td>null</td></tr><tr><td>null</td><td>null</td><td>null</td></tr><tr><td>null</td><td>null</td><td>null</td></tr><tr><td>null</td><td>null</td><td>null</td></tr><tr><td>null</td><td>null</td><td>null</td></tr><tr><td>null</td><td>null</td><td>null</td></tr><tr><td>null</td><td>null</td><td>null</td></tr><tr><td>null</td><td>null</td><td>null</td></tr><tr><td>null</td><td>null</td><td>null</td></tr><tr><td>null</td><td>null</td><td>null</td></tr><tr><td>null</td><td>null</td><td>null</td></tr><tr><td>null</td><td>null</td><td>null</td></tr><tr><td>null</td><td>null</td><td>null</td></tr><tr><td>null</td><td>null</td><td>null</td></tr><tr><td>null</td><td>null</td><td>null</td></tr><tr><td>null</td><td>null</td><td>null</td></tr><tr><td>null</td><td>null</td><td>null</td></tr><tr><td>null</td><td>null</td><td>null</td></tr><tr><td>null</td><td>null</td><td>null</td></tr><tr><td>null</td><td>null</td><td>null</td></tr><tr><td>null</td><td>null</td><td>null</td></tr><tr><td>null</td><td>null</td><td>null</td></tr><tr><td>null</td><td>null</td><td>null</td></tr><tr><td>null</td><td>null</td><td>null</td></tr><tr><td>null</td><td>null</td><td>null</td></tr><tr><td>null</td><td>null</td><td>null</td></tr><tr><td>null</td><td>null</td><td>null</td></tr><tr><td>null</td><td>null</td><td>null</td></tr><tr><td>null</td><td>null</td><td>null</td></tr><tr><td>null</td><td>null</td><td>null</td></tr><tr><td>null</td><td>null</td><td>null</td></tr><tr><td>null</td><td>null</td><td>null</td></tr><tr><td>null</td><td>null</td><td>null</td></tr><tr><td>null</td><td>null</td><td>null</td></tr><tr><td>null</td><td>null</td><td>null</td></tr><tr><td>null</td><td>null</td><td>null</td></tr><tr><td>null</td><td>null</td><td>null</td></tr><tr><td>null</td><td>null</td><td>null</td></tr><tr><td>null</td><td>null</td><td>null</td></tr><tr><td>null</td><td>null</td><td>null</td></tr><tr><td>null</td><td>null</td><td>null</td></tr><tr><td>null</td><td>null</td><td>null</td></tr><tr><td>null</td><td>null</td><td>null</td></tr><tr><td>null</td><td>null</td><td>null</td></tr><tr><td>null</td><td>null</td><td>null</td></tr><tr><td>null</td><td>null</td><td>null</td></tr><tr><td>null</td><td>null</td><td>null</td></tr><tr><td>null</td><td>null</td><td>null</td></tr><tr><td>null</td><td>null</td><td>null</td></tr><tr><td>null</td><td>null</td><td>null</td></tr><tr><td>null</td><td>null</td><td>null</td></tr><tr><td>null</td><td>null</td><td>null</td></tr><tr><td>null</td><td>null</td><td>null</td></tr><tr><td>null</td><td>null</td><td>null</td></tr><tr><td>null</td><td>null</td><td>null</td></tr><tr><td>null</td><td>null</td><td>null</td></tr><tr><td>null</td><td>null</td><td>null</td></tr><tr><td>null</td><td>null</td><td>null</td></tr><tr><td>null</td><td>null</td><td>null</td></tr><tr><td>null</td><td>null</td><td>null</td></tr><tr><td>null</td><td>null</td><td>null</td></tr><tr><td>null</td><td>null</td><td>null</td></tr><tr><td>null</td><td>null</td><td>null</td></tr><tr><td>null</td><td>null</td><td>null</td></tr><tr><td>null</td><td>null</td><td>null</td></tr><tr><td>null</td><td>null</td><td>null</td></tr><tr><td>null</td><td>null</td><td>null</td></tr><tr><td>null</td><td>null</td><td>null</td></tr><tr><td>null</td><td>null</td><td>null</td></tr><tr><td>null</td><td>null</td><td>null</td></tr><tr><td>null</td><td>null</td><td>null</td></tr><tr><td>null</td><td>null</td><td>null</td></tr><tr><td>null</td><td>null</td><td>null</td></tr><tr><td>null</td><td>null</td><td>null</td></tr><tr><td>null</td><td>null</td><td>null</td></tr><tr><td>null</td><td>null</td><td>null</td></tr><tr><td>null</td><td>null</td><td>null</td></tr><tr><td>null</td><td>null</td><td>null</td></tr><tr><td>null</td><td>null</td><td>null</td></tr><tr><td>null</td><td>null</td><td>null</td></tr><tr><td>null</td><td>null</td><td>null</td></tr><tr><td>null</td><td>null</td><td>null</td></tr><tr><td>null</td><td>null</td><td>null</td></tr></tbody></table></div>"
      ]
     },
     "metadata": {
      "application/vnd.databricks.v1+output": {
       "addedWidgets": {},
       "aggData": [],
       "aggError": "",
       "aggOverflow": false,
       "aggSchema": [],
       "aggSeriesLimitReached": false,
       "aggType": "",
       "arguments": {},
       "columnCustomDisplayInfos": {},
       "data": [
        [
         "Code",
         "Rollup_Code",
         "Rollup_Description"
        ],
        [
         "0",
         "F",
         "Female"
        ],
        [
         "1",
         "M",
         "Male"
        ],
        [
         "2",
         "U",
         "Unknown"
        ],
        [
         "Relationship Crosswalk",
         null,
         null
        ],
        [
         "Rollup_Code",
         "Rollup_Description",
         null
        ],
        [
         "E",
         "Self",
         null
        ],
        [
         "S",
         "Spouse",
         null
        ],
        [
         "F",
         "Father",
         null
        ],
        [
         "M",
         "Mother",
         null
        ],
        [
         "C1",
         "Son",
         null
        ],
        [
         "C2",
         "Daughter",
         null
        ],
        [
         "G1",
         "Grand Father",
         null
        ],
        [
         "G2",
         "Grand Mother",
         null
        ],
        [
         "G3",
         "Grand Son",
         null
        ],
        [
         "G4",
         "Grand Daughter",
         null
        ],
        [
         "A1",
         "Adopted Son",
         null
        ],
        [
         "A2",
         "Adapted Daughter",
         null
        ],
        [
         "N",
         "Niece",
         null
        ],
        [
         "F",
         "Fiance",
         null
        ],
        [
         "D1",
         "Divorced Husband",
         null
        ],
        [
         "D2",
         "Divorced Wife",
         null
        ],
        [
         "U",
         "Unknown",
         null
        ],
        [
         "Group Crosswalk",
         null,
         null
        ],
        [
         "GROUP_ID",
         "GROUP_NAME",
         null
        ],
        [
         "8",
         "TechKraft Inc",
         null
        ],
        [
         "1",
         "Abacus Insights",
         null
        ],
        [
         "4",
         "Digital Convergence Technologies",
         null
        ],
        [
         "3",
         "Facebook",
         null
        ],
        [
         "2",
         "Google",
         null
        ],
        [
         null,
         null,
         null
        ],
        [
         "Coverage Crosswalk",
         null,
         null
        ],
        [
         "Coverage_ID",
         "Coverage_Description",
         null
        ],
        [
         "E",
         "Employee Only",
         null
        ],
        [
         "ES",
         "Employee and Spouse",
         null
        ],
        [
         "F",
         "Family",
         null
        ],
        [
         "E1C",
         "Employee and 1 Child",
         null
        ],
        [
         "EC",
         "Employee and Childrens",
         null
        ],
        [
         "EP",
         "Employee and Parents",
         null
        ],
        [
         "U",
         "Unknown",
         null
        ],
        [
         null,
         null,
         null
        ],
        [
         "Plan Crosswalk",
         null,
         null
        ],
        [
         "PLAN_ID",
         "Plan Name",
         "BENEFIT_TYPE"
        ],
        [
         "0",
         "Plan A",
         "Medical"
        ],
        [
         "1",
         "Plan B",
         "Medical and Dental"
        ],
        [
         "2",
         "Plan C",
         "Medical and Vision"
        ],
        [
         "3",
         "Plan D",
         "Medical, Dental and Vision"
        ],
        [
         "4",
         "Plan E",
         "Medical"
        ],
        [
         "5",
         "Plan F",
         "Medical and Dental"
        ],
        [
         "6",
         "Plan G",
         "Medical and Vision"
        ],
        [
         "7",
         "Plan H",
         "Medical, Dental and Vision"
        ],
        [
         "8",
         "Plan I",
         "Medical"
        ],
        [
         "9",
         "Plan J",
         "Medical and Dental"
        ],
        [
         "10",
         "Plan K",
         "Medical and Vision"
        ],
        [
         "11",
         "Plan L",
         "Medical, Dental and Vision"
        ],
        [
         "12",
         "Plan M",
         "Medical"
        ],
        [
         "13",
         "Plan N",
         "Medical and Dental"
        ],
        [
         "14",
         "Plan O",
         "Medical and Vision"
        ],
        [
         "15",
         "Plan P",
         "Medical, Dental and Vision"
        ],
        [
         null,
         null,
         null
        ],
        [
         null,
         null,
         null
        ],
        [
         null,
         null,
         null
        ],
        [
         null,
         null,
         null
        ],
        [
         null,
         null,
         null
        ],
        [
         null,
         null,
         null
        ],
        [
         null,
         null,
         null
        ],
        [
         null,
         null,
         null
        ],
        [
         null,
         null,
         null
        ],
        [
         null,
         null,
         null
        ],
        [
         null,
         null,
         null
        ],
        [
         null,
         null,
         null
        ],
        [
         null,
         null,
         null
        ],
        [
         null,
         null,
         null
        ],
        [
         null,
         null,
         null
        ],
        [
         null,
         null,
         null
        ],
        [
         null,
         null,
         null
        ],
        [
         null,
         null,
         null
        ],
        [
         null,
         null,
         null
        ],
        [
         null,
         null,
         null
        ],
        [
         null,
         null,
         null
        ],
        [
         null,
         null,
         null
        ],
        [
         null,
         null,
         null
        ],
        [
         null,
         null,
         null
        ],
        [
         null,
         null,
         null
        ],
        [
         null,
         null,
         null
        ],
        [
         null,
         null,
         null
        ],
        [
         null,
         null,
         null
        ],
        [
         null,
         null,
         null
        ],
        [
         null,
         null,
         null
        ],
        [
         null,
         null,
         null
        ],
        [
         null,
         null,
         null
        ],
        [
         null,
         null,
         null
        ],
        [
         null,
         null,
         null
        ],
        [
         null,
         null,
         null
        ],
        [
         null,
         null,
         null
        ],
        [
         null,
         null,
         null
        ],
        [
         null,
         null,
         null
        ],
        [
         null,
         null,
         null
        ],
        [
         null,
         null,
         null
        ],
        [
         null,
         null,
         null
        ],
        [
         null,
         null,
         null
        ],
        [
         null,
         null,
         null
        ],
        [
         null,
         null,
         null
        ],
        [
         null,
         null,
         null
        ],
        [
         null,
         null,
         null
        ],
        [
         null,
         null,
         null
        ],
        [
         null,
         null,
         null
        ],
        [
         null,
         null,
         null
        ],
        [
         null,
         null,
         null
        ],
        [
         null,
         null,
         null
        ],
        [
         null,
         null,
         null
        ],
        [
         null,
         null,
         null
        ],
        [
         null,
         null,
         null
        ],
        [
         null,
         null,
         null
        ],
        [
         null,
         null,
         null
        ],
        [
         null,
         null,
         null
        ],
        [
         null,
         null,
         null
        ],
        [
         null,
         null,
         null
        ],
        [
         null,
         null,
         null
        ],
        [
         null,
         null,
         null
        ],
        [
         null,
         null,
         null
        ],
        [
         null,
         null,
         null
        ],
        [
         null,
         null,
         null
        ],
        [
         null,
         null,
         null
        ],
        [
         null,
         null,
         null
        ],
        [
         null,
         null,
         null
        ],
        [
         null,
         null,
         null
        ],
        [
         null,
         null,
         null
        ],
        [
         null,
         null,
         null
        ],
        [
         null,
         null,
         null
        ],
        [
         null,
         null,
         null
        ],
        [
         null,
         null,
         null
        ],
        [
         null,
         null,
         null
        ],
        [
         null,
         null,
         null
        ],
        [
         null,
         null,
         null
        ],
        [
         null,
         null,
         null
        ],
        [
         null,
         null,
         null
        ],
        [
         null,
         null,
         null
        ],
        [
         null,
         null,
         null
        ],
        [
         null,
         null,
         null
        ],
        [
         null,
         null,
         null
        ],
        [
         null,
         null,
         null
        ]
       ],
       "datasetInfos": [],
       "dbfsResultPath": null,
       "isJsonSchema": true,
       "metadata": {},
       "overflow": false,
       "plotOptions": {
        "customPlotOptions": {},
        "displayType": "table",
        "pivotAggregation": null,
        "pivotColumns": null,
        "xColumns": null,
        "yColumns": null
       },
       "removedWidgets": [],
       "schema": [
        {
         "metadata": "{}",
         "name": "Gender Crosswalk",
         "type": "\"string\""
        },
        {
         "metadata": "{}",
         "name": "_c1",
         "type": "\"string\""
        },
        {
         "metadata": "{}",
         "name": "_c2",
         "type": "\"string\""
        }
       ],
       "type": "table"
      }
     },
     "output_type": "display_data"
    },
    {
     "output_type": "stream",
     "name": "stdout",
     "output_type": "stream",
     "text": [
      "Table Name: Coverage Crosswalk\n"
     ]
    },
    {
     "output_type": "display_data",
     "data": {
      "text/html": [
       "<style scoped>\n",
       "  .table-result-container {\n",
       "    max-height: 300px;\n",
       "    overflow: auto;\n",
       "  }\n",
       "  table, th, td {\n",
       "    border: 1px solid black;\n",
       "    border-collapse: collapse;\n",
       "  }\n",
       "  th, td {\n",
       "    padding: 5px;\n",
       "  }\n",
       "  th {\n",
       "    text-align: left;\n",
       "  }\n",
       "</style><div class='table-result-container'><table class='table-result'><thead style='background-color: white'><tr><th>Gender Crosswalk</th><th>_c1</th><th>_c2</th></tr></thead><tbody><tr><td>Code</td><td>Rollup_Code</td><td>Rollup_Description</td></tr><tr><td>0</td><td>F</td><td>Female</td></tr><tr><td>1</td><td>M</td><td>Male</td></tr><tr><td>2</td><td>U</td><td>Unknown</td></tr><tr><td>Relationship Crosswalk</td><td>null</td><td>null</td></tr><tr><td>Rollup_Code</td><td>Rollup_Description</td><td>null</td></tr><tr><td>E</td><td>Self</td><td>null</td></tr><tr><td>S</td><td>Spouse</td><td>null</td></tr><tr><td>F</td><td>Father</td><td>null</td></tr><tr><td>M</td><td>Mother</td><td>null</td></tr><tr><td>C1</td><td>Son</td><td>null</td></tr><tr><td>C2</td><td>Daughter</td><td>null</td></tr><tr><td>G1</td><td>Grand Father</td><td>null</td></tr><tr><td>G2</td><td>Grand Mother</td><td>null</td></tr><tr><td>G3</td><td>Grand Son</td><td>null</td></tr><tr><td>G4</td><td>Grand Daughter</td><td>null</td></tr><tr><td>A1</td><td>Adopted Son</td><td>null</td></tr><tr><td>A2</td><td>Adapted Daughter</td><td>null</td></tr><tr><td>N</td><td>Niece</td><td>null</td></tr><tr><td>F</td><td>Fiance</td><td>null</td></tr><tr><td>D1</td><td>Divorced Husband</td><td>null</td></tr><tr><td>D2</td><td>Divorced Wife</td><td>null</td></tr><tr><td>U</td><td>Unknown</td><td>null</td></tr><tr><td>Group Crosswalk</td><td>null</td><td>null</td></tr><tr><td>GROUP_ID</td><td>GROUP_NAME</td><td>null</td></tr><tr><td>8</td><td>TechKraft Inc</td><td>null</td></tr><tr><td>1</td><td>Abacus Insights</td><td>null</td></tr><tr><td>4</td><td>Digital Convergence Technologies</td><td>null</td></tr><tr><td>3</td><td>Facebook</td><td>null</td></tr><tr><td>2</td><td>Google</td><td>null</td></tr><tr><td>null</td><td>null</td><td>null</td></tr><tr><td>Coverage Crosswalk</td><td>null</td><td>null</td></tr><tr><td>Coverage_ID</td><td>Coverage_Description</td><td>null</td></tr><tr><td>E</td><td>Employee Only</td><td>null</td></tr><tr><td>ES</td><td>Employee and Spouse</td><td>null</td></tr><tr><td>F</td><td>Family</td><td>null</td></tr><tr><td>E1C</td><td>Employee and 1 Child</td><td>null</td></tr><tr><td>EC</td><td>Employee and Childrens</td><td>null</td></tr><tr><td>EP</td><td>Employee and Parents</td><td>null</td></tr><tr><td>U</td><td>Unknown</td><td>null</td></tr><tr><td>null</td><td>null</td><td>null</td></tr><tr><td>Plan Crosswalk</td><td>null</td><td>null</td></tr><tr><td>PLAN_ID</td><td>Plan Name</td><td>BENEFIT_TYPE</td></tr><tr><td>0</td><td>Plan A</td><td>Medical</td></tr><tr><td>1</td><td>Plan B</td><td>Medical and Dental</td></tr><tr><td>2</td><td>Plan C</td><td>Medical and Vision</td></tr><tr><td>3</td><td>Plan D</td><td>Medical, Dental and Vision</td></tr><tr><td>4</td><td>Plan E</td><td>Medical</td></tr><tr><td>5</td><td>Plan F</td><td>Medical and Dental</td></tr><tr><td>6</td><td>Plan G</td><td>Medical and Vision</td></tr><tr><td>7</td><td>Plan H</td><td>Medical, Dental and Vision</td></tr><tr><td>8</td><td>Plan I</td><td>Medical</td></tr><tr><td>9</td><td>Plan J</td><td>Medical and Dental</td></tr><tr><td>10</td><td>Plan K</td><td>Medical and Vision</td></tr><tr><td>11</td><td>Plan L</td><td>Medical, Dental and Vision</td></tr><tr><td>12</td><td>Plan M</td><td>Medical</td></tr><tr><td>13</td><td>Plan N</td><td>Medical and Dental</td></tr><tr><td>14</td><td>Plan O</td><td>Medical and Vision</td></tr><tr><td>15</td><td>Plan P</td><td>Medical, Dental and Vision</td></tr><tr><td>null</td><td>null</td><td>null</td></tr><tr><td>null</td><td>null</td><td>null</td></tr><tr><td>null</td><td>null</td><td>null</td></tr><tr><td>null</td><td>null</td><td>null</td></tr><tr><td>null</td><td>null</td><td>null</td></tr><tr><td>null</td><td>null</td><td>null</td></tr><tr><td>null</td><td>null</td><td>null</td></tr><tr><td>null</td><td>null</td><td>null</td></tr><tr><td>null</td><td>null</td><td>null</td></tr><tr><td>null</td><td>null</td><td>null</td></tr><tr><td>null</td><td>null</td><td>null</td></tr><tr><td>null</td><td>null</td><td>null</td></tr><tr><td>null</td><td>null</td><td>null</td></tr><tr><td>null</td><td>null</td><td>null</td></tr><tr><td>null</td><td>null</td><td>null</td></tr><tr><td>null</td><td>null</td><td>null</td></tr><tr><td>null</td><td>null</td><td>null</td></tr><tr><td>null</td><td>null</td><td>null</td></tr><tr><td>null</td><td>null</td><td>null</td></tr><tr><td>null</td><td>null</td><td>null</td></tr><tr><td>null</td><td>null</td><td>null</td></tr><tr><td>null</td><td>null</td><td>null</td></tr><tr><td>null</td><td>null</td><td>null</td></tr><tr><td>null</td><td>null</td><td>null</td></tr><tr><td>null</td><td>null</td><td>null</td></tr><tr><td>null</td><td>null</td><td>null</td></tr><tr><td>null</td><td>null</td><td>null</td></tr><tr><td>null</td><td>null</td><td>null</td></tr><tr><td>null</td><td>null</td><td>null</td></tr><tr><td>null</td><td>null</td><td>null</td></tr><tr><td>null</td><td>null</td><td>null</td></tr><tr><td>null</td><td>null</td><td>null</td></tr><tr><td>null</td><td>null</td><td>null</td></tr><tr><td>null</td><td>null</td><td>null</td></tr><tr><td>null</td><td>null</td><td>null</td></tr><tr><td>null</td><td>null</td><td>null</td></tr><tr><td>null</td><td>null</td><td>null</td></tr><tr><td>null</td><td>null</td><td>null</td></tr><tr><td>null</td><td>null</td><td>null</td></tr><tr><td>null</td><td>null</td><td>null</td></tr><tr><td>null</td><td>null</td><td>null</td></tr><tr><td>null</td><td>null</td><td>null</td></tr><tr><td>null</td><td>null</td><td>null</td></tr><tr><td>null</td><td>null</td><td>null</td></tr><tr><td>null</td><td>null</td><td>null</td></tr><tr><td>null</td><td>null</td><td>null</td></tr><tr><td>null</td><td>null</td><td>null</td></tr><tr><td>null</td><td>null</td><td>null</td></tr><tr><td>null</td><td>null</td><td>null</td></tr><tr><td>null</td><td>null</td><td>null</td></tr><tr><td>null</td><td>null</td><td>null</td></tr><tr><td>null</td><td>null</td><td>null</td></tr><tr><td>null</td><td>null</td><td>null</td></tr><tr><td>null</td><td>null</td><td>null</td></tr><tr><td>null</td><td>null</td><td>null</td></tr><tr><td>null</td><td>null</td><td>null</td></tr><tr><td>null</td><td>null</td><td>null</td></tr><tr><td>null</td><td>null</td><td>null</td></tr><tr><td>null</td><td>null</td><td>null</td></tr><tr><td>null</td><td>null</td><td>null</td></tr><tr><td>null</td><td>null</td><td>null</td></tr><tr><td>null</td><td>null</td><td>null</td></tr><tr><td>null</td><td>null</td><td>null</td></tr><tr><td>null</td><td>null</td><td>null</td></tr><tr><td>null</td><td>null</td><td>null</td></tr><tr><td>null</td><td>null</td><td>null</td></tr><tr><td>null</td><td>null</td><td>null</td></tr><tr><td>null</td><td>null</td><td>null</td></tr><tr><td>null</td><td>null</td><td>null</td></tr><tr><td>null</td><td>null</td><td>null</td></tr><tr><td>null</td><td>null</td><td>null</td></tr><tr><td>null</td><td>null</td><td>null</td></tr><tr><td>null</td><td>null</td><td>null</td></tr><tr><td>null</td><td>null</td><td>null</td></tr><tr><td>null</td><td>null</td><td>null</td></tr><tr><td>null</td><td>null</td><td>null</td></tr><tr><td>null</td><td>null</td><td>null</td></tr><tr><td>null</td><td>null</td><td>null</td></tr><tr><td>null</td><td>null</td><td>null</td></tr><tr><td>null</td><td>null</td><td>null</td></tr><tr><td>null</td><td>null</td><td>null</td></tr><tr><td>null</td><td>null</td><td>null</td></tr><tr><td>null</td><td>null</td><td>null</td></tr></tbody></table></div>"
      ]
     },
     "metadata": {
      "application/vnd.databricks.v1+output": {
       "addedWidgets": {},
       "aggData": [],
       "aggError": "",
       "aggOverflow": false,
       "aggSchema": [],
       "aggSeriesLimitReached": false,
       "aggType": "",
       "arguments": {},
       "columnCustomDisplayInfos": {},
       "data": [
        [
         "Code",
         "Rollup_Code",
         "Rollup_Description"
        ],
        [
         "0",
         "F",
         "Female"
        ],
        [
         "1",
         "M",
         "Male"
        ],
        [
         "2",
         "U",
         "Unknown"
        ],
        [
         "Relationship Crosswalk",
         null,
         null
        ],
        [
         "Rollup_Code",
         "Rollup_Description",
         null
        ],
        [
         "E",
         "Self",
         null
        ],
        [
         "S",
         "Spouse",
         null
        ],
        [
         "F",
         "Father",
         null
        ],
        [
         "M",
         "Mother",
         null
        ],
        [
         "C1",
         "Son",
         null
        ],
        [
         "C2",
         "Daughter",
         null
        ],
        [
         "G1",
         "Grand Father",
         null
        ],
        [
         "G2",
         "Grand Mother",
         null
        ],
        [
         "G3",
         "Grand Son",
         null
        ],
        [
         "G4",
         "Grand Daughter",
         null
        ],
        [
         "A1",
         "Adopted Son",
         null
        ],
        [
         "A2",
         "Adapted Daughter",
         null
        ],
        [
         "N",
         "Niece",
         null
        ],
        [
         "F",
         "Fiance",
         null
        ],
        [
         "D1",
         "Divorced Husband",
         null
        ],
        [
         "D2",
         "Divorced Wife",
         null
        ],
        [
         "U",
         "Unknown",
         null
        ],
        [
         "Group Crosswalk",
         null,
         null
        ],
        [
         "GROUP_ID",
         "GROUP_NAME",
         null
        ],
        [
         "8",
         "TechKraft Inc",
         null
        ],
        [
         "1",
         "Abacus Insights",
         null
        ],
        [
         "4",
         "Digital Convergence Technologies",
         null
        ],
        [
         "3",
         "Facebook",
         null
        ],
        [
         "2",
         "Google",
         null
        ],
        [
         null,
         null,
         null
        ],
        [
         "Coverage Crosswalk",
         null,
         null
        ],
        [
         "Coverage_ID",
         "Coverage_Description",
         null
        ],
        [
         "E",
         "Employee Only",
         null
        ],
        [
         "ES",
         "Employee and Spouse",
         null
        ],
        [
         "F",
         "Family",
         null
        ],
        [
         "E1C",
         "Employee and 1 Child",
         null
        ],
        [
         "EC",
         "Employee and Childrens",
         null
        ],
        [
         "EP",
         "Employee and Parents",
         null
        ],
        [
         "U",
         "Unknown",
         null
        ],
        [
         null,
         null,
         null
        ],
        [
         "Plan Crosswalk",
         null,
         null
        ],
        [
         "PLAN_ID",
         "Plan Name",
         "BENEFIT_TYPE"
        ],
        [
         "0",
         "Plan A",
         "Medical"
        ],
        [
         "1",
         "Plan B",
         "Medical and Dental"
        ],
        [
         "2",
         "Plan C",
         "Medical and Vision"
        ],
        [
         "3",
         "Plan D",
         "Medical, Dental and Vision"
        ],
        [
         "4",
         "Plan E",
         "Medical"
        ],
        [
         "5",
         "Plan F",
         "Medical and Dental"
        ],
        [
         "6",
         "Plan G",
         "Medical and Vision"
        ],
        [
         "7",
         "Plan H",
         "Medical, Dental and Vision"
        ],
        [
         "8",
         "Plan I",
         "Medical"
        ],
        [
         "9",
         "Plan J",
         "Medical and Dental"
        ],
        [
         "10",
         "Plan K",
         "Medical and Vision"
        ],
        [
         "11",
         "Plan L",
         "Medical, Dental and Vision"
        ],
        [
         "12",
         "Plan M",
         "Medical"
        ],
        [
         "13",
         "Plan N",
         "Medical and Dental"
        ],
        [
         "14",
         "Plan O",
         "Medical and Vision"
        ],
        [
         "15",
         "Plan P",
         "Medical, Dental and Vision"
        ],
        [
         null,
         null,
         null
        ],
        [
         null,
         null,
         null
        ],
        [
         null,
         null,
         null
        ],
        [
         null,
         null,
         null
        ],
        [
         null,
         null,
         null
        ],
        [
         null,
         null,
         null
        ],
        [
         null,
         null,
         null
        ],
        [
         null,
         null,
         null
        ],
        [
         null,
         null,
         null
        ],
        [
         null,
         null,
         null
        ],
        [
         null,
         null,
         null
        ],
        [
         null,
         null,
         null
        ],
        [
         null,
         null,
         null
        ],
        [
         null,
         null,
         null
        ],
        [
         null,
         null,
         null
        ],
        [
         null,
         null,
         null
        ],
        [
         null,
         null,
         null
        ],
        [
         null,
         null,
         null
        ],
        [
         null,
         null,
         null
        ],
        [
         null,
         null,
         null
        ],
        [
         null,
         null,
         null
        ],
        [
         null,
         null,
         null
        ],
        [
         null,
         null,
         null
        ],
        [
         null,
         null,
         null
        ],
        [
         null,
         null,
         null
        ],
        [
         null,
         null,
         null
        ],
        [
         null,
         null,
         null
        ],
        [
         null,
         null,
         null
        ],
        [
         null,
         null,
         null
        ],
        [
         null,
         null,
         null
        ],
        [
         null,
         null,
         null
        ],
        [
         null,
         null,
         null
        ],
        [
         null,
         null,
         null
        ],
        [
         null,
         null,
         null
        ],
        [
         null,
         null,
         null
        ],
        [
         null,
         null,
         null
        ],
        [
         null,
         null,
         null
        ],
        [
         null,
         null,
         null
        ],
        [
         null,
         null,
         null
        ],
        [
         null,
         null,
         null
        ],
        [
         null,
         null,
         null
        ],
        [
         null,
         null,
         null
        ],
        [
         null,
         null,
         null
        ],
        [
         null,
         null,
         null
        ],
        [
         null,
         null,
         null
        ],
        [
         null,
         null,
         null
        ],
        [
         null,
         null,
         null
        ],
        [
         null,
         null,
         null
        ],
        [
         null,
         null,
         null
        ],
        [
         null,
         null,
         null
        ],
        [
         null,
         null,
         null
        ],
        [
         null,
         null,
         null
        ],
        [
         null,
         null,
         null
        ],
        [
         null,
         null,
         null
        ],
        [
         null,
         null,
         null
        ],
        [
         null,
         null,
         null
        ],
        [
         null,
         null,
         null
        ],
        [
         null,
         null,
         null
        ],
        [
         null,
         null,
         null
        ],
        [
         null,
         null,
         null
        ],
        [
         null,
         null,
         null
        ],
        [
         null,
         null,
         null
        ],
        [
         null,
         null,
         null
        ],
        [
         null,
         null,
         null
        ],
        [
         null,
         null,
         null
        ],
        [
         null,
         null,
         null
        ],
        [
         null,
         null,
         null
        ],
        [
         null,
         null,
         null
        ],
        [
         null,
         null,
         null
        ],
        [
         null,
         null,
         null
        ],
        [
         null,
         null,
         null
        ],
        [
         null,
         null,
         null
        ],
        [
         null,
         null,
         null
        ],
        [
         null,
         null,
         null
        ],
        [
         null,
         null,
         null
        ],
        [
         null,
         null,
         null
        ],
        [
         null,
         null,
         null
        ],
        [
         null,
         null,
         null
        ],
        [
         null,
         null,
         null
        ],
        [
         null,
         null,
         null
        ],
        [
         null,
         null,
         null
        ],
        [
         null,
         null,
         null
        ],
        [
         null,
         null,
         null
        ]
       ],
       "datasetInfos": [],
       "dbfsResultPath": null,
       "isJsonSchema": true,
       "metadata": {},
       "overflow": false,
       "plotOptions": {
        "customPlotOptions": {},
        "displayType": "table",
        "pivotAggregation": null,
        "pivotColumns": null,
        "xColumns": null,
        "yColumns": null
       },
       "removedWidgets": [],
       "schema": [
        {
         "metadata": "{}",
         "name": "Gender Crosswalk",
         "type": "\"string\""
        },
        {
         "metadata": "{}",
         "name": "_c1",
         "type": "\"string\""
        },
        {
         "metadata": "{}",
         "name": "_c2",
         "type": "\"string\""
        }
       ],
       "type": "table"
      }
     },
     "output_type": "display_data"
    },
    {
     "output_type": "stream",
     "name": "stdout",
     "output_type": "stream",
     "text": [
      "Table Name: Plan Crosswalk\n"
     ]
    },
    {
     "output_type": "display_data",
     "data": {
      "text/html": [
       "<style scoped>\n",
       "  .table-result-container {\n",
       "    max-height: 300px;\n",
       "    overflow: auto;\n",
       "  }\n",
       "  table, th, td {\n",
       "    border: 1px solid black;\n",
       "    border-collapse: collapse;\n",
       "  }\n",
       "  th, td {\n",
       "    padding: 5px;\n",
       "  }\n",
       "  th {\n",
       "    text-align: left;\n",
       "  }\n",
       "</style><div class='table-result-container'><table class='table-result'><thead style='background-color: white'><tr></tr></thead><tbody><tr></tr><tr></tr><tr></tr><tr></tr><tr></tr><tr></tr><tr></tr><tr></tr><tr></tr><tr></tr><tr></tr><tr></tr><tr></tr><tr></tr><tr></tr><tr></tr><tr></tr><tr></tr><tr></tr><tr></tr><tr></tr><tr></tr><tr></tr><tr></tr><tr></tr><tr></tr><tr></tr><tr></tr><tr></tr><tr></tr><tr></tr><tr></tr><tr></tr><tr></tr><tr></tr><tr></tr><tr></tr><tr></tr><tr></tr><tr></tr><tr></tr><tr></tr><tr></tr><tr></tr><tr></tr><tr></tr><tr></tr><tr></tr><tr></tr><tr></tr><tr></tr><tr></tr><tr></tr><tr></tr><tr></tr><tr></tr><tr></tr><tr></tr><tr></tr><tr></tr><tr></tr><tr></tr><tr></tr><tr></tr><tr></tr><tr></tr><tr></tr><tr></tr><tr></tr><tr></tr><tr></tr><tr></tr><tr></tr><tr></tr><tr></tr><tr></tr><tr></tr><tr></tr><tr></tr><tr></tr><tr></tr><tr></tr><tr></tr><tr></tr><tr></tr><tr></tr><tr></tr><tr></tr><tr></tr><tr></tr><tr></tr><tr></tr><tr></tr><tr></tr><tr></tr><tr></tr><tr></tr><tr></tr><tr></tr><tr></tr><tr></tr><tr></tr><tr></tr><tr></tr><tr></tr><tr></tr><tr></tr><tr></tr><tr></tr><tr></tr><tr></tr><tr></tr><tr></tr><tr></tr><tr></tr><tr></tr><tr></tr><tr></tr><tr></tr><tr></tr><tr></tr><tr></tr><tr></tr><tr></tr><tr></tr><tr></tr><tr></tr><tr></tr><tr></tr><tr></tr><tr></tr><tr></tr><tr></tr><tr></tr><tr></tr><tr></tr><tr></tr><tr></tr><tr></tr><tr></tr><tr></tr><tr></tr></tbody></table></div>"
      ]
     },
     "metadata": {
      "application/vnd.databricks.v1+output": {
       "addedWidgets": {},
       "aggData": [],
       "aggError": "",
       "aggOverflow": false,
       "aggSchema": [],
       "aggSeriesLimitReached": false,
       "aggType": "",
       "arguments": {},
       "columnCustomDisplayInfos": {},
       "data": [
        [],
        [],
        [],
        [],
        [],
        [],
        [],
        [],
        [],
        [],
        [],
        [],
        [],
        [],
        [],
        [],
        [],
        [],
        [],
        [],
        [],
        [],
        [],
        [],
        [],
        [],
        [],
        [],
        [],
        [],
        [],
        [],
        [],
        [],
        [],
        [],
        [],
        [],
        [],
        [],
        [],
        [],
        [],
        [],
        [],
        [],
        [],
        [],
        [],
        [],
        [],
        [],
        [],
        [],
        [],
        [],
        [],
        [],
        [],
        [],
        [],
        [],
        [],
        [],
        [],
        [],
        [],
        [],
        [],
        [],
        [],
        [],
        [],
        [],
        [],
        [],
        [],
        [],
        [],
        [],
        [],
        [],
        [],
        [],
        [],
        [],
        [],
        [],
        [],
        [],
        [],
        [],
        [],
        [],
        [],
        [],
        [],
        [],
        [],
        [],
        [],
        [],
        [],
        [],
        [],
        [],
        [],
        [],
        [],
        [],
        [],
        [],
        [],
        [],
        [],
        [],
        [],
        [],
        [],
        [],
        [],
        [],
        [],
        [],
        [],
        [],
        [],
        [],
        [],
        [],
        [],
        [],
        [],
        [],
        [],
        [],
        [],
        [],
        [],
        [],
        [],
        []
       ],
       "datasetInfos": [],
       "dbfsResultPath": null,
       "isJsonSchema": true,
       "metadata": {},
       "overflow": false,
       "plotOptions": {
        "customPlotOptions": {},
        "displayType": "table",
        "pivotAggregation": null,
        "pivotColumns": null,
        "xColumns": null,
        "yColumns": null
       },
       "removedWidgets": [],
       "schema": [],
       "type": "table"
      }
     },
     "output_type": "display_data"
    }
   ],
   "source": [
    "crosswalks_tables = {\n",
    "    \"Gender Crosswalk\": \"Gender\",\n",
    "    \"Relationship Crosswalk\": \"Relationship\",\n",
    "    \"Group Crosswalk\": \"Group\",\n",
    "    \"Coverage Crosswalk\": \"Coverage\",\n",
    "    \"Plan Crosswalk\": \"Plan\"\n",
    "}\n",
    "\n",
    "file_location = \"/FileStore/tables/Eligibility_Mock_Data___US_Healthcare_Bootcamp__1_.xlsx\"\n",
    "\n",
    "dfs_crosswalks = {}\n",
    "\n",
    "for sheet_name, table_name in crosswalks_tables.items():\n",
    "    df_crosswalks = spark.read.format(\"com.crealytics.spark.excel\") \\\n",
    "        .option(\"inferschema\", True) \\\n",
    "        .option(\"header\", True) \\\n",
    "        .option(\"dataAddress\", f\"'Crosswalks'!{table_name}\") \\\n",
    "        .option(\"sheetName\", \"Crosswalks\") \\\n",
    "        .load(file_location)\n",
    "    dfs_crosswalks[sheet_name] = df_crosswalks\n",
    "\n",
    "for sheet_name, df_crosswalks in dfs_crosswalks.items():\n",
    "    print(f\"Table Name: {sheet_name}\")\n",
    "    display(df_crosswalks)\n"
   ]
  },
  {
   "cell_type": "code",
   "execution_count": 0,
   "metadata": {
    "application/vnd.databricks.v1+cell": {
     "cellMetadata": {},
     "inputWidgets": {},
     "nuid": "382e4de1-5567-4f55-947a-0b2ec8dc04d0",
     "showTitle": false,
     "title": ""
    }
   },
   "outputs": [],
   "source": []
  }
 ],
 "metadata": {
  "application/vnd.databricks.v1+notebook": {
   "dashboards": [],
   "language": "python",
   "notebookMetadata": {
    "pythonIndentUnit": 4
   },
   "notebookName": "Eligibility Mock Data",
   "widgets": {}
  }
 },
 "nbformat": 4,
 "nbformat_minor": 0
}
