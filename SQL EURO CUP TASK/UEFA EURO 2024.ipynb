{
 "cells": [
  {
   "cell_type": "code",
   "execution_count": 0,
   "metadata": {
    "application/vnd.databricks.v1+cell": {
     "cellMetadata": {
      "byteLimit": 2048000,
      "rowLimit": 10000
     },
     "inputWidgets": {},
     "nuid": "299a942f-105d-480c-b50c-8d9cd5ab46b0",
     "showTitle": false,
     "title": ""
    }
   },
   "outputs": [
    {
     "output_type": "stream",
     "name": "stdout",
     "output_type": "stream",
     "text": [
      "Out[5]: True"
     ]
    }
   ],
   "source": [
    "%python\n",
    "\n",
    "dbutils.fs.rm(\"dbfs:/user/hive/warehouse/eurocup\", recurse=True)\n"
   ]
  },
  {
   "cell_type": "code",
   "execution_count": 0,
   "metadata": {
    "application/vnd.databricks.v1+cell": {
     "cellMetadata": {
      "byteLimit": 2048000,
      "rowLimit": 10000
     },
     "inputWidgets": {},
     "nuid": "43e7fa88-04c3-4568-b929-9560056acc3b",
     "showTitle": false,
     "title": ""
    }
   },
   "outputs": [
    {
     "output_type": "stream",
     "name": "stdout",
     "output_type": "stream",
     "text": [
      "Out[6]: True"
     ]
    }
   ],
   "source": [
    "%python\n",
    "dbutils.fs.rm(\"dbfs:/user/hive/warehouse/matches\", recurse=True)\n"
   ]
  },
  {
   "cell_type": "code",
   "execution_count": 0,
   "metadata": {
    "application/vnd.databricks.v1+cell": {
     "cellMetadata": {
      "byteLimit": 2048000,
      "rowLimit": 10000
     },
     "inputWidgets": {},
     "nuid": "2eb7aa02-1a09-4c28-8226-4971ec751e12",
     "showTitle": false,
     "title": ""
    }
   },
   "outputs": [
    {
     "output_type": "stream",
     "name": "stdout",
     "output_type": "stream",
     "text": [
      "Out[7]: True"
     ]
    }
   ],
   "source": [
    "%python\n",
    "dbutils.fs.rm(\"dbfs:/user/hive/warehouse/grouprank\", recurse=True)"
   ]
  },
  {
   "cell_type": "code",
   "execution_count": 0,
   "metadata": {
    "application/vnd.databricks.v1+cell": {
     "cellMetadata": {
      "byteLimit": 2048000,
      "rowLimit": 10000
     },
     "inputWidgets": {},
     "nuid": "fbbbf7fd-9855-4531-b519-06e2a8797634",
     "showTitle": false,
     "title": ""
    }
   },
   "outputs": [
    {
     "output_type": "stream",
     "name": "stdout",
     "output_type": "stream",
     "text": [
      "Out[8]: True"
     ]
    }
   ],
   "source": [
    "%python\n",
    "dbutils.fs.rm(\"dbfs:/user/hive/warehouse/thirdplacecombination\", recurse=True)"
   ]
  },
  {
   "cell_type": "code",
   "execution_count": 0,
   "metadata": {
    "application/vnd.databricks.v1+cell": {
     "cellMetadata": {
      "byteLimit": 2048000,
      "rowLimit": 10000
     },
     "inputWidgets": {},
     "nuid": "01e49f0c-d4ae-4442-91ed-77d34e81e7a7",
     "showTitle": false,
     "title": ""
    }
   },
   "outputs": [],
   "source": [
    " %python\n",
    " spark.conf.set(\"spark.databricks.delta.commitValidation.enabled\", \"False\")\n"
   ]
  },
  {
   "cell_type": "code",
   "execution_count": 0,
   "metadata": {
    "application/vnd.databricks.v1+cell": {
     "cellMetadata": {
      "byteLimit": 2048000,
      "rowLimit": 10000
     },
     "inputWidgets": {},
     "nuid": "80bb6978-9971-4d4b-9ae9-305a3a29c479",
     "showTitle": false,
     "title": ""
    }
   },
   "outputs": [
    {
     "output_type": "display_data",
     "data": {
      "text/html": [
       "<style scoped>\n",
       "  .table-result-container {\n",
       "    max-height: 300px;\n",
       "    overflow: auto;\n",
       "  }\n",
       "  table, th, td {\n",
       "    border: 1px solid black;\n",
       "    border-collapse: collapse;\n",
       "  }\n",
       "  th, td {\n",
       "    padding: 5px;\n",
       "  }\n",
       "  th {\n",
       "    text-align: left;\n",
       "  }\n",
       "</style><div class='table-result-container'><table class='table-result'><thead style='background-color: white'><tr></tr></thead><tbody></tbody></table></div>"
      ]
     },
     "metadata": {
      "application/vnd.databricks.v1+output": {
       "addedWidgets": {},
       "aggData": [],
       "aggError": "",
       "aggOverflow": false,
       "aggSchema": [],
       "aggSeriesLimitReached": false,
       "aggType": "",
       "arguments": {},
       "columnCustomDisplayInfos": {},
       "data": [],
       "datasetInfos": [],
       "dbfsResultPath": null,
       "isJsonSchema": true,
       "metadata": {
        "isDbfsCommandResult": false
       },
       "overflow": false,
       "plotOptions": {
        "customPlotOptions": {},
        "displayType": "table",
        "pivotAggregation": null,
        "pivotColumns": null,
        "xColumns": null,
        "yColumns": null
       },
       "removedWidgets": [],
       "schema": [],
       "type": "table"
      }
     },
     "output_type": "display_data"
    }
   ],
   "source": [
    "%sql\n",
    "--creating table Eurocup for all participating team \n",
    "CREATE OR REPLACE TABLE euroCup(\n",
    "  teamId INT,\n",
    "  teamName VARCHAR(255),\n",
    "  groupName VARCHAR(255)\n",
    ")"
   ]
  },
  {
   "cell_type": "code",
   "execution_count": 0,
   "metadata": {
    "application/vnd.databricks.v1+cell": {
     "cellMetadata": {
      "byteLimit": 2048000,
      "rowLimit": 10000
     },
     "inputWidgets": {},
     "nuid": "80c8cb46-5742-4752-a3d6-90c6ac150709",
     "showTitle": false,
     "title": ""
    }
   },
   "outputs": [
    {
     "output_type": "display_data",
     "data": {
      "text/html": [
       "<style scoped>\n",
       "  .table-result-container {\n",
       "    max-height: 300px;\n",
       "    overflow: auto;\n",
       "  }\n",
       "  table, th, td {\n",
       "    border: 1px solid black;\n",
       "    border-collapse: collapse;\n",
       "  }\n",
       "  th, td {\n",
       "    padding: 5px;\n",
       "  }\n",
       "  th {\n",
       "    text-align: left;\n",
       "  }\n",
       "</style><div class='table-result-container'><table class='table-result'><thead style='background-color: white'><tr><th>teamId</th><th>teamName</th><th>groupName</th></tr></thead><tbody></tbody></table></div>"
      ]
     },
     "metadata": {
      "application/vnd.databricks.v1+output": {
       "addedWidgets": {},
       "aggData": [],
       "aggError": "",
       "aggOverflow": false,
       "aggSchema": [],
       "aggSeriesLimitReached": false,
       "aggType": "",
       "arguments": {},
       "columnCustomDisplayInfos": {},
       "data": [],
       "datasetInfos": [],
       "dbfsResultPath": null,
       "isJsonSchema": true,
       "metadata": {
        "isDbfsCommandResult": false
       },
       "overflow": false,
       "plotOptions": {
        "customPlotOptions": {},
        "displayType": "table",
        "pivotAggregation": null,
        "pivotColumns": null,
        "xColumns": null,
        "yColumns": null
       },
       "removedWidgets": [],
       "schema": [
        {
         "metadata": "{}",
         "name": "teamId",
         "type": "\"integer\""
        },
        {
         "metadata": "{\"__CHAR_VARCHAR_TYPE_STRING\":\"varchar(255)\"}",
         "name": "teamName",
         "type": "\"string\""
        },
        {
         "metadata": "{\"__CHAR_VARCHAR_TYPE_STRING\":\"varchar(255)\"}",
         "name": "groupName",
         "type": "\"string\""
        }
       ],
       "type": "table"
      }
     },
     "output_type": "display_data"
    }
   ],
   "source": [
    "%sql\n",
    "select * from euroCup"
   ]
  },
  {
   "cell_type": "code",
   "execution_count": 0,
   "metadata": {
    "application/vnd.databricks.v1+cell": {
     "cellMetadata": {
      "byteLimit": 2048000,
      "rowLimit": 10000
     },
     "inputWidgets": {},
     "nuid": "33b37c7d-e767-4eb4-ac38-eb6e8fce67b7",
     "showTitle": false,
     "title": ""
    }
   },
   "outputs": [
    {
     "output_type": "display_data",
     "data": {
      "text/html": [
       "<style scoped>\n",
       "  .table-result-container {\n",
       "    max-height: 300px;\n",
       "    overflow: auto;\n",
       "  }\n",
       "  table, th, td {\n",
       "    border: 1px solid black;\n",
       "    border-collapse: collapse;\n",
       "  }\n",
       "  th, td {\n",
       "    padding: 5px;\n",
       "  }\n",
       "  th {\n",
       "    text-align: left;\n",
       "  }\n",
       "</style><div class='table-result-container'><table class='table-result'><thead style='background-color: white'><tr><th>num_affected_rows</th><th>num_inserted_rows</th></tr></thead><tbody><tr><td>24</td><td>24</td></tr></tbody></table></div>"
      ]
     },
     "metadata": {
      "application/vnd.databricks.v1+output": {
       "addedWidgets": {},
       "aggData": [],
       "aggError": "",
       "aggOverflow": false,
       "aggSchema": [],
       "aggSeriesLimitReached": false,
       "aggType": "",
       "arguments": {},
       "columnCustomDisplayInfos": {},
       "data": [
        [
         24,
         24
        ]
       ],
       "datasetInfos": [],
       "dbfsResultPath": null,
       "isJsonSchema": true,
       "metadata": {
        "isDbfsCommandResult": false
       },
       "overflow": false,
       "plotOptions": {
        "customPlotOptions": {},
        "displayType": "table",
        "pivotAggregation": null,
        "pivotColumns": null,
        "xColumns": null,
        "yColumns": null
       },
       "removedWidgets": [],
       "schema": [
        {
         "metadata": "{}",
         "name": "num_affected_rows",
         "type": "\"long\""
        },
        {
         "metadata": "{}",
         "name": "num_inserted_rows",
         "type": "\"long\""
        }
       ],
       "type": "table"
      }
     },
     "output_type": "display_data"
    }
   ],
   "source": [
    "%sql\n",
    "--inserting participating teams\n",
    "INSERT INTO euroCup (teamId, teamName, groupName)\n",
    "VALUES\n",
    "  (1, 'Germany', 'A'),\n",
    "  (2, 'Scotland', 'A'),\n",
    "  (3, 'Hungary', 'A'),\n",
    "  (4, 'Switzerland', 'A'),\n",
    "  (5, 'Spain', 'B'),\n",
    "  (6, 'Croatia', 'B'),\n",
    "  (7, 'Italy', 'B'),\n",
    "  (8, 'Albania', 'B'),\n",
    "  (9, 'Slovenia', 'C'),\n",
    "  (10, 'Denmark', 'C'),\n",
    "  (11, 'Serbia', 'C'),\n",
    "  (12, 'England', 'C'),\n",
    "  (13, 'Play-off winner A', 'D'),\n",
    "  (14, 'Netherlands', 'D'),\n",
    "  (15, 'Austria', 'D'),\n",
    "  (16, 'France', 'D'),\n",
    "  (17, 'Belgium', 'E'),\n",
    "  (18, 'Slovakia', 'E'),\n",
    "  (19, 'Romania', 'E'),\n",
    "  (20, 'Play-off winner B', 'E'),\n",
    "  (21, 'Turkey', 'F'),\n",
    "  (22, 'Play-off winner c', 'F'),\n",
    "  (23, 'Portugal', 'F'),\n",
    "  (24, 'Czech', 'F');"
   ]
  },
  {
   "cell_type": "code",
   "execution_count": 0,
   "metadata": {
    "application/vnd.databricks.v1+cell": {
     "cellMetadata": {
      "byteLimit": 2048000,
      "rowLimit": 10000
     },
     "inputWidgets": {},
     "nuid": "52ea250e-6905-438e-b524-8a96a5706a54",
     "showTitle": false,
     "title": ""
    }
   },
   "outputs": [],
   "source": [
    "%sql\n",
    "-- %python\n",
    "-- # spark.conf.set(\"spark.databricks.delta.commitValidation.enabled\", \"false\")\n"
   ]
  },
  {
   "cell_type": "code",
   "execution_count": 0,
   "metadata": {
    "application/vnd.databricks.v1+cell": {
     "cellMetadata": {
      "byteLimit": 2048000,
      "rowLimit": 10000
     },
     "inputWidgets": {},
     "nuid": "550208e0-a96f-4bf1-ae92-a7b35cf272a0",
     "showTitle": false,
     "title": ""
    }
   },
   "outputs": [
    {
     "output_type": "display_data",
     "data": {
      "text/html": [
       "<style scoped>\n",
       "  .table-result-container {\n",
       "    max-height: 300px;\n",
       "    overflow: auto;\n",
       "  }\n",
       "  table, th, td {\n",
       "    border: 1px solid black;\n",
       "    border-collapse: collapse;\n",
       "  }\n",
       "  th, td {\n",
       "    padding: 5px;\n",
       "  }\n",
       "  th {\n",
       "    text-align: left;\n",
       "  }\n",
       "</style><div class='table-result-container'><table class='table-result'><thead style='background-color: white'><tr></tr></thead><tbody></tbody></table></div>"
      ]
     },
     "metadata": {
      "application/vnd.databricks.v1+output": {
       "addedWidgets": {},
       "aggData": [],
       "aggError": "",
       "aggOverflow": false,
       "aggSchema": [],
       "aggSeriesLimitReached": false,
       "aggType": "",
       "arguments": {},
       "columnCustomDisplayInfos": {},
       "data": [],
       "datasetInfos": [],
       "dbfsResultPath": null,
       "isJsonSchema": true,
       "metadata": {
        "isDbfsCommandResult": false
       },
       "overflow": false,
       "plotOptions": {
        "customPlotOptions": {},
        "displayType": "table",
        "pivotAggregation": null,
        "pivotColumns": null,
        "xColumns": null,
        "yColumns": null
       },
       "removedWidgets": [],
       "schema": [],
       "type": "table"
      }
     },
     "output_type": "display_data"
    }
   ],
   "source": [
    "%sql\n",
    "--creating tables for matches\n",
    "CREATE or Replace TABLE Matches (\n",
    "  matchId INTEGER,\n",
    "  TeamH VARCHAR(255),\n",
    "  TeamA VARCHAR(255),\n",
    "  TeamHScore INTEGER,\n",
    "  TeamAScore INTEGER,\n",
    "  Result VARCHAR(255),\n",
    "  Stage VARCHAR(255)\n",
    ");"
   ]
  },
  {
   "cell_type": "code",
   "execution_count": 0,
   "metadata": {
    "application/vnd.databricks.v1+cell": {
     "cellMetadata": {
      "byteLimit": 2048000,
      "rowLimit": 10000
     },
     "inputWidgets": {},
     "nuid": "ef1a4de1-eb20-4b67-891c-8fbc8949a840",
     "showTitle": false,
     "title": ""
    }
   },
   "outputs": [
    {
     "output_type": "display_data",
     "data": {
      "text/html": [
       "<style scoped>\n",
       "  .table-result-container {\n",
       "    max-height: 300px;\n",
       "    overflow: auto;\n",
       "  }\n",
       "  table, th, td {\n",
       "    border: 1px solid black;\n",
       "    border-collapse: collapse;\n",
       "  }\n",
       "  th, td {\n",
       "    padding: 5px;\n",
       "  }\n",
       "  th {\n",
       "    text-align: left;\n",
       "  }\n",
       "</style><div class='table-result-container'><table class='table-result'><thead style='background-color: white'><tr><th>num_affected_rows</th><th>num_inserted_rows</th></tr></thead><tbody><tr><td>36</td><td>36</td></tr></tbody></table></div>"
      ]
     },
     "metadata": {
      "application/vnd.databricks.v1+output": {
       "addedWidgets": {},
       "aggData": [],
       "aggError": "",
       "aggOverflow": false,
       "aggSchema": [],
       "aggSeriesLimitReached": false,
       "aggType": "",
       "arguments": {},
       "columnCustomDisplayInfos": {},
       "data": [
        [
         36,
         36
        ]
       ],
       "datasetInfos": [],
       "dbfsResultPath": null,
       "isJsonSchema": true,
       "metadata": {
        "isDbfsCommandResult": false
       },
       "overflow": false,
       "plotOptions": {
        "customPlotOptions": {},
        "displayType": "table",
        "pivotAggregation": null,
        "pivotColumns": null,
        "xColumns": null,
        "yColumns": null
       },
       "removedWidgets": [],
       "schema": [
        {
         "metadata": "{}",
         "name": "num_affected_rows",
         "type": "\"long\""
        },
        {
         "metadata": "{}",
         "name": "num_inserted_rows",
         "type": "\"long\""
        }
       ],
       "type": "table"
      }
     },
     "output_type": "display_data"
    }
   ],
   "source": [
    "%sql\n",
    "INSERT INTO Matches (matchId, TeamH, TeamA, TeamHScore, TeamAScore, Result, Stage)\n",
    "SELECT DISTINCT\n",
    "    ROW_NUMBER() OVER (ORDER BY t1.teamId) AS matchId,\n",
    "    t1.teamName AS TeamA,\n",
    "    t2.teamName AS TeamH,\n",
    "    (SELECT FLOOR(RAND() * 5) + 1) AS TeamHScore,\n",
    "    (SELECT FLOOR(RAND() * 5) + 1) AS TeamAScore,\n",
    "    'draw' AS Result,\n",
    "    'group stage' AS Stage\n",
    "FROM\n",
    "    euroCup t1\n",
    "JOIN\n",
    "    euroCup t2 ON t1.groupName = t2.groupName AND t1.teamId < t2.teamId;"
   ]
  },
  {
   "cell_type": "code",
   "execution_count": 0,
   "metadata": {
    "application/vnd.databricks.v1+cell": {
     "cellMetadata": {
      "byteLimit": 2048000,
      "rowLimit": 10000
     },
     "inputWidgets": {},
     "nuid": "03d1ce9c-39c1-4b69-8b3c-c1ec13543810",
     "showTitle": false,
     "title": ""
    }
   },
   "outputs": [
    {
     "output_type": "display_data",
     "data": {
      "text/html": [
       "<style scoped>\n",
       "  .table-result-container {\n",
       "    max-height: 300px;\n",
       "    overflow: auto;\n",
       "  }\n",
       "  table, th, td {\n",
       "    border: 1px solid black;\n",
       "    border-collapse: collapse;\n",
       "  }\n",
       "  th, td {\n",
       "    padding: 5px;\n",
       "  }\n",
       "  th {\n",
       "    text-align: left;\n",
       "  }\n",
       "</style><div class='table-result-container'><table class='table-result'><thead style='background-color: white'><tr><th>num_affected_rows</th></tr></thead><tbody><tr><td>36</td></tr></tbody></table></div>"
      ]
     },
     "metadata": {
      "application/vnd.databricks.v1+output": {
       "addedWidgets": {},
       "aggData": [],
       "aggError": "",
       "aggOverflow": false,
       "aggSchema": [],
       "aggSeriesLimitReached": false,
       "aggType": "",
       "arguments": {},
       "columnCustomDisplayInfos": {},
       "data": [
        [
         36
        ]
       ],
       "datasetInfos": [],
       "dbfsResultPath": null,
       "isJsonSchema": true,
       "metadata": {
        "isDbfsCommandResult": false
       },
       "overflow": false,
       "plotOptions": {
        "customPlotOptions": {},
        "displayType": "table",
        "pivotAggregation": null,
        "pivotColumns": null,
        "xColumns": null,
        "yColumns": null
       },
       "removedWidgets": [],
       "schema": [
        {
         "metadata": "{}",
         "name": "num_affected_rows",
         "type": "\"long\""
        }
       ],
       "type": "table"
      }
     },
     "output_type": "display_data"
    }
   ],
   "source": [
    "%sql\n",
    "--updating match details \n",
    "UPDATE Matches\n",
    "SET Result = \n",
    "    CASE\n",
    "        WHEN TeamHScore > TeamAScore THEN TeamH\n",
    "        WHEN TeamHScore < TeamAScore THEN TeamA\n",
    "        ELSE 'draw'\n",
    "    END;\n",
    "\n",
    "\n"
   ]
  },
  {
   "cell_type": "code",
   "execution_count": 0,
   "metadata": {
    "application/vnd.databricks.v1+cell": {
     "cellMetadata": {
      "byteLimit": 2048000,
      "rowLimit": 10000
     },
     "inputWidgets": {},
     "nuid": "e5a140d8-c4ac-42f7-be83-dcc96545f8bf",
     "showTitle": false,
     "title": ""
    }
   },
   "outputs": [
    {
     "output_type": "display_data",
     "data": {
      "text/html": [
       "<style scoped>\n",
       "  .table-result-container {\n",
       "    max-height: 300px;\n",
       "    overflow: auto;\n",
       "  }\n",
       "  table, th, td {\n",
       "    border: 1px solid black;\n",
       "    border-collapse: collapse;\n",
       "  }\n",
       "  th, td {\n",
       "    padding: 5px;\n",
       "  }\n",
       "  th {\n",
       "    text-align: left;\n",
       "  }\n",
       "</style><div class='table-result-container'><table class='table-result'><thead style='background-color: white'><tr><th>matchId</th><th>TeamH</th><th>TeamA</th><th>TeamHScore</th><th>TeamAScore</th><th>Result</th><th>Stage</th></tr></thead><tbody><tr><td>1</td><td>Germany</td><td>Switzerland</td><td>5</td><td>5</td><td>draw</td><td>group stage</td></tr><tr><td>2</td><td>Germany</td><td>Hungary</td><td>4</td><td>1</td><td>Germany</td><td>group stage</td></tr><tr><td>3</td><td>Germany</td><td>Scotland</td><td>4</td><td>1</td><td>Germany</td><td>group stage</td></tr><tr><td>4</td><td>Scotland</td><td>Switzerland</td><td>3</td><td>2</td><td>Scotland</td><td>group stage</td></tr><tr><td>5</td><td>Scotland</td><td>Hungary</td><td>3</td><td>1</td><td>Scotland</td><td>group stage</td></tr><tr><td>6</td><td>Hungary</td><td>Switzerland</td><td>1</td><td>2</td><td>Switzerland</td><td>group stage</td></tr><tr><td>7</td><td>Spain</td><td>Albania</td><td>1</td><td>2</td><td>Albania</td><td>group stage</td></tr><tr><td>8</td><td>Spain</td><td>Italy</td><td>5</td><td>3</td><td>Spain</td><td>group stage</td></tr><tr><td>9</td><td>Spain</td><td>Croatia</td><td>3</td><td>2</td><td>Spain</td><td>group stage</td></tr><tr><td>10</td><td>Croatia</td><td>Albania</td><td>4</td><td>3</td><td>Croatia</td><td>group stage</td></tr><tr><td>11</td><td>Croatia</td><td>Italy</td><td>5</td><td>3</td><td>Croatia</td><td>group stage</td></tr><tr><td>12</td><td>Italy</td><td>Albania</td><td>4</td><td>2</td><td>Italy</td><td>group stage</td></tr><tr><td>13</td><td>Slovenia</td><td>England</td><td>1</td><td>4</td><td>England</td><td>group stage</td></tr><tr><td>14</td><td>Slovenia</td><td>Serbia</td><td>5</td><td>2</td><td>Slovenia</td><td>group stage</td></tr><tr><td>15</td><td>Slovenia</td><td>Denmark</td><td>3</td><td>5</td><td>Denmark</td><td>group stage</td></tr><tr><td>16</td><td>Denmark</td><td>England</td><td>2</td><td>1</td><td>Denmark</td><td>group stage</td></tr><tr><td>17</td><td>Denmark</td><td>Serbia</td><td>4</td><td>4</td><td>draw</td><td>group stage</td></tr><tr><td>18</td><td>Serbia</td><td>England</td><td>3</td><td>5</td><td>England</td><td>group stage</td></tr><tr><td>19</td><td>Play-off winner A</td><td>France</td><td>5</td><td>1</td><td>Play-off winner A</td><td>group stage</td></tr><tr><td>20</td><td>Play-off winner A</td><td>Austria</td><td>4</td><td>3</td><td>Play-off winner A</td><td>group stage</td></tr><tr><td>21</td><td>Play-off winner A</td><td>Netherlands</td><td>5</td><td>4</td><td>Play-off winner A</td><td>group stage</td></tr><tr><td>22</td><td>Netherlands</td><td>France</td><td>4</td><td>5</td><td>France</td><td>group stage</td></tr><tr><td>23</td><td>Netherlands</td><td>Austria</td><td>2</td><td>4</td><td>Austria</td><td>group stage</td></tr><tr><td>24</td><td>Austria</td><td>France</td><td>4</td><td>1</td><td>Austria</td><td>group stage</td></tr><tr><td>25</td><td>Belgium</td><td>Play-off winner B</td><td>1</td><td>5</td><td>Play-off winner B</td><td>group stage</td></tr><tr><td>26</td><td>Belgium</td><td>Romania</td><td>2</td><td>4</td><td>Romania</td><td>group stage</td></tr><tr><td>27</td><td>Belgium</td><td>Slovakia</td><td>5</td><td>4</td><td>Belgium</td><td>group stage</td></tr><tr><td>28</td><td>Slovakia</td><td>Play-off winner B</td><td>1</td><td>5</td><td>Play-off winner B</td><td>group stage</td></tr><tr><td>29</td><td>Slovakia</td><td>Romania</td><td>5</td><td>4</td><td>Slovakia</td><td>group stage</td></tr><tr><td>30</td><td>Romania</td><td>Play-off winner B</td><td>4</td><td>3</td><td>Romania</td><td>group stage</td></tr><tr><td>31</td><td>Turkey</td><td>Czech</td><td>2</td><td>2</td><td>draw</td><td>group stage</td></tr><tr><td>32</td><td>Turkey</td><td>Portugal</td><td>1</td><td>3</td><td>Portugal</td><td>group stage</td></tr><tr><td>33</td><td>Turkey</td><td>Play-off winner c</td><td>5</td><td>3</td><td>Turkey</td><td>group stage</td></tr><tr><td>34</td><td>Play-off winner c</td><td>Czech</td><td>2</td><td>5</td><td>Czech</td><td>group stage</td></tr><tr><td>35</td><td>Play-off winner c</td><td>Portugal</td><td>5</td><td>5</td><td>draw</td><td>group stage</td></tr><tr><td>36</td><td>Portugal</td><td>Czech</td><td>5</td><td>3</td><td>Portugal</td><td>group stage</td></tr></tbody></table></div>"
      ]
     },
     "metadata": {
      "application/vnd.databricks.v1+output": {
       "addedWidgets": {},
       "aggData": [],
       "aggError": "",
       "aggOverflow": false,
       "aggSchema": [],
       "aggSeriesLimitReached": false,
       "aggType": "",
       "arguments": {},
       "columnCustomDisplayInfos": {},
       "data": [
        [
         1,
         "Germany",
         "Switzerland",
         5,
         5,
         "draw",
         "group stage"
        ],
        [
         2,
         "Germany",
         "Hungary",
         4,
         1,
         "Germany",
         "group stage"
        ],
        [
         3,
         "Germany",
         "Scotland",
         4,
         1,
         "Germany",
         "group stage"
        ],
        [
         4,
         "Scotland",
         "Switzerland",
         3,
         2,
         "Scotland",
         "group stage"
        ],
        [
         5,
         "Scotland",
         "Hungary",
         3,
         1,
         "Scotland",
         "group stage"
        ],
        [
         6,
         "Hungary",
         "Switzerland",
         1,
         2,
         "Switzerland",
         "group stage"
        ],
        [
         7,
         "Spain",
         "Albania",
         1,
         2,
         "Albania",
         "group stage"
        ],
        [
         8,
         "Spain",
         "Italy",
         5,
         3,
         "Spain",
         "group stage"
        ],
        [
         9,
         "Spain",
         "Croatia",
         3,
         2,
         "Spain",
         "group stage"
        ],
        [
         10,
         "Croatia",
         "Albania",
         4,
         3,
         "Croatia",
         "group stage"
        ],
        [
         11,
         "Croatia",
         "Italy",
         5,
         3,
         "Croatia",
         "group stage"
        ],
        [
         12,
         "Italy",
         "Albania",
         4,
         2,
         "Italy",
         "group stage"
        ],
        [
         13,
         "Slovenia",
         "England",
         1,
         4,
         "England",
         "group stage"
        ],
        [
         14,
         "Slovenia",
         "Serbia",
         5,
         2,
         "Slovenia",
         "group stage"
        ],
        [
         15,
         "Slovenia",
         "Denmark",
         3,
         5,
         "Denmark",
         "group stage"
        ],
        [
         16,
         "Denmark",
         "England",
         2,
         1,
         "Denmark",
         "group stage"
        ],
        [
         17,
         "Denmark",
         "Serbia",
         4,
         4,
         "draw",
         "group stage"
        ],
        [
         18,
         "Serbia",
         "England",
         3,
         5,
         "England",
         "group stage"
        ],
        [
         19,
         "Play-off winner A",
         "France",
         5,
         1,
         "Play-off winner A",
         "group stage"
        ],
        [
         20,
         "Play-off winner A",
         "Austria",
         4,
         3,
         "Play-off winner A",
         "group stage"
        ],
        [
         21,
         "Play-off winner A",
         "Netherlands",
         5,
         4,
         "Play-off winner A",
         "group stage"
        ],
        [
         22,
         "Netherlands",
         "France",
         4,
         5,
         "France",
         "group stage"
        ],
        [
         23,
         "Netherlands",
         "Austria",
         2,
         4,
         "Austria",
         "group stage"
        ],
        [
         24,
         "Austria",
         "France",
         4,
         1,
         "Austria",
         "group stage"
        ],
        [
         25,
         "Belgium",
         "Play-off winner B",
         1,
         5,
         "Play-off winner B",
         "group stage"
        ],
        [
         26,
         "Belgium",
         "Romania",
         2,
         4,
         "Romania",
         "group stage"
        ],
        [
         27,
         "Belgium",
         "Slovakia",
         5,
         4,
         "Belgium",
         "group stage"
        ],
        [
         28,
         "Slovakia",
         "Play-off winner B",
         1,
         5,
         "Play-off winner B",
         "group stage"
        ],
        [
         29,
         "Slovakia",
         "Romania",
         5,
         4,
         "Slovakia",
         "group stage"
        ],
        [
         30,
         "Romania",
         "Play-off winner B",
         4,
         3,
         "Romania",
         "group stage"
        ],
        [
         31,
         "Turkey",
         "Czech",
         2,
         2,
         "draw",
         "group stage"
        ],
        [
         32,
         "Turkey",
         "Portugal",
         1,
         3,
         "Portugal",
         "group stage"
        ],
        [
         33,
         "Turkey",
         "Play-off winner c",
         5,
         3,
         "Turkey",
         "group stage"
        ],
        [
         34,
         "Play-off winner c",
         "Czech",
         2,
         5,
         "Czech",
         "group stage"
        ],
        [
         35,
         "Play-off winner c",
         "Portugal",
         5,
         5,
         "draw",
         "group stage"
        ],
        [
         36,
         "Portugal",
         "Czech",
         5,
         3,
         "Portugal",
         "group stage"
        ]
       ],
       "datasetInfos": [],
       "dbfsResultPath": null,
       "isJsonSchema": true,
       "metadata": {
        "isDbfsCommandResult": false
       },
       "overflow": false,
       "plotOptions": {
        "customPlotOptions": {},
        "displayType": "table",
        "pivotAggregation": null,
        "pivotColumns": null,
        "xColumns": null,
        "yColumns": null
       },
       "removedWidgets": [],
       "schema": [
        {
         "metadata": "{}",
         "name": "matchId",
         "type": "\"integer\""
        },
        {
         "metadata": "{\"__CHAR_VARCHAR_TYPE_STRING\":\"varchar(255)\"}",
         "name": "TeamH",
         "type": "\"string\""
        },
        {
         "metadata": "{\"__CHAR_VARCHAR_TYPE_STRING\":\"varchar(255)\"}",
         "name": "TeamA",
         "type": "\"string\""
        },
        {
         "metadata": "{}",
         "name": "TeamHScore",
         "type": "\"integer\""
        },
        {
         "metadata": "{}",
         "name": "TeamAScore",
         "type": "\"integer\""
        },
        {
         "metadata": "{\"__CHAR_VARCHAR_TYPE_STRING\":\"varchar(255)\"}",
         "name": "Result",
         "type": "\"string\""
        },
        {
         "metadata": "{\"__CHAR_VARCHAR_TYPE_STRING\":\"varchar(255)\"}",
         "name": "Stage",
         "type": "\"string\""
        }
       ],
       "type": "table"
      }
     },
     "output_type": "display_data"
    }
   ],
   "source": [
    "%sql\n",
    "--Verifying the match results\n",
    "SELECT * FROM Matches\n",
    "order by matchId;"
   ]
  },
  {
   "cell_type": "code",
   "execution_count": 0,
   "metadata": {
    "application/vnd.databricks.v1+cell": {
     "cellMetadata": {
      "byteLimit": 2048000,
      "rowLimit": 10000
     },
     "inputWidgets": {},
     "nuid": "62dc38a1-0898-4c31-8c78-ac418217584d",
     "showTitle": false,
     "title": ""
    }
   },
   "outputs": [
    {
     "output_type": "display_data",
     "data": {
      "text/html": [
       "<style scoped>\n",
       "  .table-result-container {\n",
       "    max-height: 300px;\n",
       "    overflow: auto;\n",
       "  }\n",
       "  table, th, td {\n",
       "    border: 1px solid black;\n",
       "    border-collapse: collapse;\n",
       "  }\n",
       "  th, td {\n",
       "    padding: 5px;\n",
       "  }\n",
       "  th {\n",
       "    text-align: left;\n",
       "  }\n",
       "</style><div class='table-result-container'><table class='table-result'><thead style='background-color: white'><tr></tr></thead><tbody></tbody></table></div>"
      ]
     },
     "metadata": {
      "application/vnd.databricks.v1+output": {
       "addedWidgets": {},
       "aggData": [],
       "aggError": "",
       "aggOverflow": false,
       "aggSchema": [],
       "aggSeriesLimitReached": false,
       "aggType": "",
       "arguments": {},
       "columnCustomDisplayInfos": {},
       "data": [],
       "datasetInfos": [],
       "dbfsResultPath": null,
       "isJsonSchema": true,
       "metadata": {
        "isDbfsCommandResult": false
       },
       "overflow": false,
       "plotOptions": {
        "customPlotOptions": {},
        "displayType": "table",
        "pivotAggregation": null,
        "pivotColumns": null,
        "xColumns": null,
        "yColumns": null
       },
       "removedWidgets": [],
       "schema": [],
       "type": "table"
      }
     },
     "output_type": "display_data"
    }
   ],
   "source": [
    "%sql\n",
    "--creating ranking table \n",
    "CREATE or Replace TABLE groupRank (\n",
    "  teamId INTEGER,\n",
    "  teamName VARCHAR(255),\n",
    "  groupName VARCHAR(255),\n",
    "  Points INTEGER,\n",
    "  Standings INTEGER,\n",
    "  GF INTEGER,\n",
    "  GA INTEGER,\n",
    "  GD INTEGER,\n",
    "  Win INTEGER,\n",
    "  isProgress BOOLEAN\n",
    ")"
   ]
  },
  {
   "cell_type": "code",
   "execution_count": 0,
   "metadata": {
    "application/vnd.databricks.v1+cell": {
     "cellMetadata": {
      "byteLimit": 2048000,
      "rowLimit": 10000
     },
     "inputWidgets": {},
     "nuid": "458ac9a9-856f-470f-9a70-2756fe1f70aa",
     "showTitle": false,
     "title": ""
    }
   },
   "outputs": [
    {
     "output_type": "display_data",
     "data": {
      "text/html": [
       "<style scoped>\n",
       "  .table-result-container {\n",
       "    max-height: 300px;\n",
       "    overflow: auto;\n",
       "  }\n",
       "  table, th, td {\n",
       "    border: 1px solid black;\n",
       "    border-collapse: collapse;\n",
       "  }\n",
       "  th, td {\n",
       "    padding: 5px;\n",
       "  }\n",
       "  th {\n",
       "    text-align: left;\n",
       "  }\n",
       "</style><div class='table-result-container'><table class='table-result'><thead style='background-color: white'><tr><th>num_affected_rows</th><th>num_inserted_rows</th></tr></thead><tbody><tr><td>24</td><td>24</td></tr></tbody></table></div>"
      ]
     },
     "metadata": {
      "application/vnd.databricks.v1+output": {
       "addedWidgets": {},
       "aggData": [],
       "aggError": "",
       "aggOverflow": false,
       "aggSchema": [],
       "aggSeriesLimitReached": false,
       "aggType": "",
       "arguments": {},
       "columnCustomDisplayInfos": {},
       "data": [
        [
         24,
         24
        ]
       ],
       "datasetInfos": [],
       "dbfsResultPath": null,
       "isJsonSchema": true,
       "metadata": {
        "isDbfsCommandResult": false
       },
       "overflow": false,
       "plotOptions": {
        "customPlotOptions": {},
        "displayType": "table",
        "pivotAggregation": null,
        "pivotColumns": null,
        "xColumns": null,
        "yColumns": null
       },
       "removedWidgets": [],
       "schema": [
        {
         "metadata": "{}",
         "name": "num_affected_rows",
         "type": "\"long\""
        },
        {
         "metadata": "{}",
         "name": "num_inserted_rows",
         "type": "\"long\""
        }
       ],
       "type": "table"
      }
     },
     "output_type": "display_data"
    }
   ],
   "source": [
    "%sql\n",
    "-- Calculate points, goals scored, goals conceded, goal difference, and win count for each team\n",
    "WITH MatchResults AS (\n",
    "  SELECT \n",
    "    TeamH AS teamName,\n",
    "    CASE \n",
    "      WHEN Result = CAST(TeamH AS VARCHAR(255)) THEN 1  \n",
    "      ELSE 0  \n",
    "    END AS Win, \n",
    "    CASE \n",
    "      WHEN Result = CAST(TeamH AS VARCHAR(255)) THEN 3  \n",
    "      WHEN Result = CAST(TeamA AS VARCHAR(255)) THEN 0  \n",
    "      ELSE 1  -- Draw\n",
    "    END AS Points,\n",
    "    TeamHScore AS GF, \n",
    "    TeamAScore AS GA \n",
    "  FROM matches\n",
    "  UNION ALL\n",
    "  SELECT \n",
    "    TeamA AS teamName,\n",
    "    CASE \n",
    "      WHEN Result = CAST(TeamA AS VARCHAR(255)) THEN 1  -- TeamA wins\n",
    "      ELSE 0  -- TeamA does not win\n",
    "    END AS Win, \n",
    "    CASE \n",
    "      WHEN Result = CAST(TeamA AS VARCHAR(255)) THEN 3  -- TeamA wins\n",
    "      WHEN Result = CAST(TeamH AS VARCHAR(255)) THEN 0  -- TeamA loses\n",
    "      ELSE 1  -- Draw\n",
    "    END AS Points,\n",
    "    TeamAScore AS GF, -- Goals scored by Team2\n",
    "    TeamHScore AS GA -- Goals conceded by Team2\n",
    "  FROM matches\n",
    ")\n",
    "INSERT INTO groupRank (teamId, teamName, groupName, Points, Standings, GF, GA, GD, Win, isProgress)\n",
    "SELECT\n",
    "  e.teamId,\n",
    "  e.teamName,\n",
    "  e.groupName,\n",
    "  SUM(M.Points) AS Points,\n",
    "  0 as Standings,\n",
    "  SUM(M.GF) AS GF, -- Total goals scored by the team\n",
    "  SUM(M.GA) AS GA, -- Total goals conceded by the team\n",
    "  SUM(M.GF) - SUM(M.GA) AS GD, -- Goal difference for the team\n",
    "  SUM(M.Win) AS Win,\n",
    "  0 as isProgress\n",
    "FROM \n",
    "  euroCup e\n",
    "LEFT JOIN\n",
    "  MatchResults M ON e.teamName = M.teamName\n",
    "GROUP BY\n",
    "  e.teamId, e.teamName, e.groupName;"
   ]
  },
  {
   "cell_type": "code",
   "execution_count": 0,
   "metadata": {
    "application/vnd.databricks.v1+cell": {
     "cellMetadata": {
      "byteLimit": 2048000,
      "rowLimit": 10000
     },
     "inputWidgets": {},
     "nuid": "5f619eb7-adff-4d85-886d-c18f9e5eb41e",
     "showTitle": false,
     "title": ""
    }
   },
   "outputs": [
    {
     "output_type": "display_data",
     "data": {
      "text/html": [
       "<style scoped>\n",
       "  .table-result-container {\n",
       "    max-height: 300px;\n",
       "    overflow: auto;\n",
       "  }\n",
       "  table, th, td {\n",
       "    border: 1px solid black;\n",
       "    border-collapse: collapse;\n",
       "  }\n",
       "  th, td {\n",
       "    padding: 5px;\n",
       "  }\n",
       "  th {\n",
       "    text-align: left;\n",
       "  }\n",
       "</style><div class='table-result-container'><table class='table-result'><thead style='background-color: white'><tr><th>num_affected_rows</th><th>num_updated_rows</th><th>num_deleted_rows</th><th>num_inserted_rows</th></tr></thead><tbody><tr><td>24</td><td>24</td><td>0</td><td>0</td></tr></tbody></table></div>"
      ]
     },
     "metadata": {
      "application/vnd.databricks.v1+output": {
       "addedWidgets": {},
       "aggData": [],
       "aggError": "",
       "aggOverflow": false,
       "aggSchema": [],
       "aggSeriesLimitReached": false,
       "aggType": "",
       "arguments": {},
       "columnCustomDisplayInfos": {},
       "data": [
        [
         24,
         24,
         0,
         0
        ]
       ],
       "datasetInfos": [],
       "dbfsResultPath": null,
       "isJsonSchema": true,
       "metadata": {
        "isDbfsCommandResult": false
       },
       "overflow": false,
       "plotOptions": {
        "customPlotOptions": {},
        "displayType": "table",
        "pivotAggregation": null,
        "pivotColumns": null,
        "xColumns": null,
        "yColumns": null
       },
       "removedWidgets": [],
       "schema": [
        {
         "metadata": "{}",
         "name": "num_affected_rows",
         "type": "\"long\""
        },
        {
         "metadata": "{}",
         "name": "num_updated_rows",
         "type": "\"long\""
        },
        {
         "metadata": "{}",
         "name": "num_deleted_rows",
         "type": "\"long\""
        },
        {
         "metadata": "{}",
         "name": "num_inserted_rows",
         "type": "\"long\""
        }
       ],
       "type": "table"
      }
     },
     "output_type": "display_data"
    }
   ],
   "source": [
    "%sql\n",
    "-- Rank all teams within each group based on points, goal difference, goals scored, and win count\n",
    "WITH TeamRanked AS (\n",
    "  SELECT \n",
    "    teamName,\n",
    "    row_number() OVER (PARTITION BY groupName ORDER BY Points DESC, GD DESC, GF DESC, Win DESC) AS GroupRank\n",
    "  FROM groupRank\n",
    ")\n",
    "MERGE INTO groupRank R\n",
    "USING TeamRanked TR\n",
    "ON R.teamName = TR.teamName\n",
    "WHEN MATCHED THEN UPDATE SET R.Standings = TR.GroupRank;\n"
   ]
  },
  {
   "cell_type": "code",
   "execution_count": 0,
   "metadata": {
    "application/vnd.databricks.v1+cell": {
     "cellMetadata": {
      "byteLimit": 2048000,
      "rowLimit": 10000
     },
     "inputWidgets": {},
     "nuid": "eeb69fb0-26ee-4d9e-9807-f629694b8fe2",
     "showTitle": false,
     "title": ""
    }
   },
   "outputs": [
    {
     "output_type": "display_data",
     "data": {
      "text/html": [
       "<style scoped>\n",
       "  .table-result-container {\n",
       "    max-height: 300px;\n",
       "    overflow: auto;\n",
       "  }\n",
       "  table, th, td {\n",
       "    border: 1px solid black;\n",
       "    border-collapse: collapse;\n",
       "  }\n",
       "  th, td {\n",
       "    padding: 5px;\n",
       "  }\n",
       "  th {\n",
       "    text-align: left;\n",
       "  }\n",
       "</style><div class='table-result-container'><table class='table-result'><thead style='background-color: white'><tr><th>teamId</th><th>teamName</th><th>groupName</th><th>Points</th><th>Standings</th><th>GF</th><th>GA</th><th>GD</th><th>Win</th><th>isProgress</th></tr></thead><tbody><tr><td>1</td><td>Germany</td><td>A</td><td>7</td><td>1</td><td>13</td><td>7</td><td>6</td><td>2</td><td>true</td></tr><tr><td>2</td><td>Scotland</td><td>A</td><td>6</td><td>2</td><td>7</td><td>7</td><td>0</td><td>2</td><td>true</td></tr><tr><td>4</td><td>Switzerland</td><td>A</td><td>4</td><td>3</td><td>9</td><td>9</td><td>0</td><td>1</td><td>true</td></tr><tr><td>3</td><td>Hungary</td><td>A</td><td>0</td><td>4</td><td>3</td><td>9</td><td>-6</td><td>0</td><td>false</td></tr><tr><td>6</td><td>Croatia</td><td>B</td><td>6</td><td>1</td><td>11</td><td>9</td><td>2</td><td>2</td><td>true</td></tr><tr><td>5</td><td>Spain</td><td>B</td><td>6</td><td>2</td><td>9</td><td>7</td><td>2</td><td>2</td><td>true</td></tr><tr><td>7</td><td>Italy</td><td>B</td><td>3</td><td>3</td><td>10</td><td>12</td><td>-2</td><td>1</td><td>true</td></tr><tr><td>8</td><td>Albania</td><td>B</td><td>3</td><td>4</td><td>7</td><td>9</td><td>-2</td><td>1</td><td>false</td></tr><tr><td>10</td><td>Denmark</td><td>C</td><td>7</td><td>1</td><td>11</td><td>8</td><td>3</td><td>2</td><td>true</td></tr><tr><td>12</td><td>England</td><td>C</td><td>6</td><td>2</td><td>10</td><td>6</td><td>4</td><td>2</td><td>true</td></tr><tr><td>9</td><td>Slovenia</td><td>C</td><td>3</td><td>3</td><td>9</td><td>11</td><td>-2</td><td>1</td><td>true</td></tr><tr><td>11</td><td>Serbia</td><td>C</td><td>1</td><td>4</td><td>9</td><td>14</td><td>-5</td><td>0</td><td>false</td></tr><tr><td>13</td><td>Play-off winner A</td><td>D</td><td>9</td><td>1</td><td>14</td><td>8</td><td>6</td><td>3</td><td>true</td></tr><tr><td>15</td><td>Austria</td><td>D</td><td>6</td><td>2</td><td>11</td><td>7</td><td>4</td><td>2</td><td>true</td></tr><tr><td>16</td><td>France</td><td>D</td><td>3</td><td>3</td><td>7</td><td>13</td><td>-6</td><td>1</td><td>false</td></tr><tr><td>14</td><td>Netherlands</td><td>D</td><td>0</td><td>4</td><td>10</td><td>14</td><td>-4</td><td>0</td><td>false</td></tr><tr><td>20</td><td>Play-off winner B</td><td>E</td><td>6</td><td>1</td><td>13</td><td>6</td><td>7</td><td>2</td><td>true</td></tr><tr><td>19</td><td>Romania</td><td>E</td><td>6</td><td>2</td><td>12</td><td>10</td><td>2</td><td>2</td><td>true</td></tr><tr><td>18</td><td>Slovakia</td><td>E</td><td>3</td><td>3</td><td>10</td><td>14</td><td>-4</td><td>1</td><td>false</td></tr><tr><td>17</td><td>Belgium</td><td>E</td><td>3</td><td>4</td><td>8</td><td>13</td><td>-5</td><td>1</td><td>false</td></tr><tr><td>23</td><td>Portugal</td><td>F</td><td>7</td><td>1</td><td>13</td><td>9</td><td>4</td><td>2</td><td>true</td></tr><tr><td>24</td><td>Czech</td><td>F</td><td>4</td><td>2</td><td>10</td><td>9</td><td>1</td><td>1</td><td>true</td></tr><tr><td>21</td><td>Turkey</td><td>F</td><td>4</td><td>3</td><td>8</td><td>8</td><td>0</td><td>1</td><td>true</td></tr><tr><td>22</td><td>Play-off winner c</td><td>F</td><td>1</td><td>4</td><td>10</td><td>15</td><td>-5</td><td>0</td><td>false</td></tr></tbody></table></div>"
      ]
     },
     "metadata": {
      "application/vnd.databricks.v1+output": {
       "addedWidgets": {},
       "aggData": [],
       "aggError": "",
       "aggOverflow": false,
       "aggSchema": [],
       "aggSeriesLimitReached": false,
       "aggType": "",
       "arguments": {},
       "columnCustomDisplayInfos": {},
       "data": [
        [
         1,
         "Germany",
         "A",
         7,
         1,
         13,
         7,
         6,
         2,
         true
        ],
        [
         2,
         "Scotland",
         "A",
         6,
         2,
         7,
         7,
         0,
         2,
         true
        ],
        [
         4,
         "Switzerland",
         "A",
         4,
         3,
         9,
         9,
         0,
         1,
         true
        ],
        [
         3,
         "Hungary",
         "A",
         0,
         4,
         3,
         9,
         -6,
         0,
         false
        ],
        [
         6,
         "Croatia",
         "B",
         6,
         1,
         11,
         9,
         2,
         2,
         true
        ],
        [
         5,
         "Spain",
         "B",
         6,
         2,
         9,
         7,
         2,
         2,
         true
        ],
        [
         7,
         "Italy",
         "B",
         3,
         3,
         10,
         12,
         -2,
         1,
         true
        ],
        [
         8,
         "Albania",
         "B",
         3,
         4,
         7,
         9,
         -2,
         1,
         false
        ],
        [
         10,
         "Denmark",
         "C",
         7,
         1,
         11,
         8,
         3,
         2,
         true
        ],
        [
         12,
         "England",
         "C",
         6,
         2,
         10,
         6,
         4,
         2,
         true
        ],
        [
         9,
         "Slovenia",
         "C",
         3,
         3,
         9,
         11,
         -2,
         1,
         true
        ],
        [
         11,
         "Serbia",
         "C",
         1,
         4,
         9,
         14,
         -5,
         0,
         false
        ],
        [
         13,
         "Play-off winner A",
         "D",
         9,
         1,
         14,
         8,
         6,
         3,
         true
        ],
        [
         15,
         "Austria",
         "D",
         6,
         2,
         11,
         7,
         4,
         2,
         true
        ],
        [
         16,
         "France",
         "D",
         3,
         3,
         7,
         13,
         -6,
         1,
         false
        ],
        [
         14,
         "Netherlands",
         "D",
         0,
         4,
         10,
         14,
         -4,
         0,
         false
        ],
        [
         20,
         "Play-off winner B",
         "E",
         6,
         1,
         13,
         6,
         7,
         2,
         true
        ],
        [
         19,
         "Romania",
         "E",
         6,
         2,
         12,
         10,
         2,
         2,
         true
        ],
        [
         18,
         "Slovakia",
         "E",
         3,
         3,
         10,
         14,
         -4,
         1,
         false
        ],
        [
         17,
         "Belgium",
         "E",
         3,
         4,
         8,
         13,
         -5,
         1,
         false
        ],
        [
         23,
         "Portugal",
         "F",
         7,
         1,
         13,
         9,
         4,
         2,
         true
        ],
        [
         24,
         "Czech",
         "F",
         4,
         2,
         10,
         9,
         1,
         1,
         true
        ],
        [
         21,
         "Turkey",
         "F",
         4,
         3,
         8,
         8,
         0,
         1,
         true
        ],
        [
         22,
         "Play-off winner c",
         "F",
         1,
         4,
         10,
         15,
         -5,
         0,
         false
        ]
       ],
       "datasetInfos": [],
       "dbfsResultPath": null,
       "isJsonSchema": true,
       "metadata": {
        "isDbfsCommandResult": false
       },
       "overflow": false,
       "plotOptions": {
        "customPlotOptions": {},
        "displayType": "table",
        "pivotAggregation": null,
        "pivotColumns": null,
        "xColumns": null,
        "yColumns": null
       },
       "removedWidgets": [],
       "schema": [
        {
         "metadata": "{}",
         "name": "teamId",
         "type": "\"integer\""
        },
        {
         "metadata": "{\"__CHAR_VARCHAR_TYPE_STRING\":\"varchar(255)\"}",
         "name": "teamName",
         "type": "\"string\""
        },
        {
         "metadata": "{\"__CHAR_VARCHAR_TYPE_STRING\":\"varchar(255)\"}",
         "name": "groupName",
         "type": "\"string\""
        },
        {
         "metadata": "{}",
         "name": "Points",
         "type": "\"integer\""
        },
        {
         "metadata": "{}",
         "name": "Standings",
         "type": "\"integer\""
        },
        {
         "metadata": "{}",
         "name": "GF",
         "type": "\"integer\""
        },
        {
         "metadata": "{}",
         "name": "GA",
         "type": "\"integer\""
        },
        {
         "metadata": "{}",
         "name": "GD",
         "type": "\"integer\""
        },
        {
         "metadata": "{}",
         "name": "Win",
         "type": "\"integer\""
        },
        {
         "metadata": "{}",
         "name": "isProgress",
         "type": "\"boolean\""
        }
       ],
       "type": "table"
      }
     },
     "output_type": "display_data"
    }
   ],
   "source": [
    "%sql\n",
    "WITH TeamRanked AS (\n",
    "  SELECT \n",
    "    *,\n",
    "    ROW_NUMBER() OVER (PARTITION BY groupName ORDER BY Points DESC, GD DESC, GF DESC, Win DESC) AS GroupRank\n",
    "  FROM groupRank\n",
    "),\n",
    "Top3RankTeams AS (\n",
    "  SELECT \n",
    "    *,\n",
    "    ROW_NUMBER() OVER (ORDER BY Points DESC, GD DESC, GF DESC, Win DESC) AS RankWithinGroup\n",
    "  FROM groupRank\n",
    "  WHERE Standings = 3\n",
    "),\n",
    "isProgressCalc AS (\n",
    "  SELECT \n",
    "    r.*,\n",
    "    CASE \n",
    "        WHEN r.GroupRank = 4 THEN 0\n",
    "        WHEN r.GroupRank = 3 AND t.RankWithinGroup <= 4 THEN 1\n",
    "        WHEN r.GroupRank IN (1, 2) THEN 1\n",
    "        ELSE 0\n",
    "    END AS isProgressCalc \n",
    "  FROM TeamRanked r\n",
    "  LEFT JOIN Top3RankTeams t ON r.teamName = t.teamName\n",
    ")\n",
    "\n",
    "MERGE INTO groupRank r\n",
    "USING isProgressCalc ipc\n",
    "ON r.teamId = ipc.teamId\n",
    "WHEN MATCHED THEN UPDATE SET r.isprogress = ipc.isProgressCalc;\n",
    "\n",
    "SELECT * FROM groupRank ORDER BY groupName, Standings;\n"
   ]
  },
  {
   "cell_type": "code",
   "execution_count": 0,
   "metadata": {
    "application/vnd.databricks.v1+cell": {
     "cellMetadata": {
      "byteLimit": 2048000,
      "rowLimit": 10000
     },
     "inputWidgets": {},
     "nuid": "37ae1dda-1e57-4f0d-a83e-94da2de06762",
     "showTitle": false,
     "title": ""
    }
   },
   "outputs": [
    {
     "output_type": "display_data",
     "data": {
      "text/html": [
       "<style scoped>\n",
       "  .table-result-container {\n",
       "    max-height: 300px;\n",
       "    overflow: auto;\n",
       "  }\n",
       "  table, th, td {\n",
       "    border: 1px solid black;\n",
       "    border-collapse: collapse;\n",
       "  }\n",
       "  th, td {\n",
       "    padding: 5px;\n",
       "  }\n",
       "  th {\n",
       "    text-align: left;\n",
       "  }\n",
       "</style><div class='table-result-container'><table class='table-result'><thead style='background-color: white'><tr><th>teamId</th><th>teamName</th><th>groupName</th><th>Points</th><th>Standings</th><th>GF</th><th>GA</th><th>GD</th><th>Win</th><th>isProgress</th></tr></thead><tbody><tr><td>1</td><td>Germany</td><td>A</td><td>7</td><td>1</td><td>13</td><td>7</td><td>6</td><td>2</td><td>true</td></tr><tr><td>2</td><td>Scotland</td><td>A</td><td>6</td><td>2</td><td>7</td><td>7</td><td>0</td><td>2</td><td>true</td></tr><tr><td>4</td><td>Switzerland</td><td>A</td><td>4</td><td>3</td><td>9</td><td>9</td><td>0</td><td>1</td><td>true</td></tr><tr><td>3</td><td>Hungary</td><td>A</td><td>0</td><td>4</td><td>3</td><td>9</td><td>-6</td><td>0</td><td>false</td></tr><tr><td>6</td><td>Croatia</td><td>B</td><td>6</td><td>1</td><td>11</td><td>9</td><td>2</td><td>2</td><td>true</td></tr><tr><td>5</td><td>Spain</td><td>B</td><td>6</td><td>2</td><td>9</td><td>7</td><td>2</td><td>2</td><td>true</td></tr><tr><td>7</td><td>Italy</td><td>B</td><td>3</td><td>3</td><td>10</td><td>12</td><td>-2</td><td>1</td><td>true</td></tr><tr><td>8</td><td>Albania</td><td>B</td><td>3</td><td>4</td><td>7</td><td>9</td><td>-2</td><td>1</td><td>false</td></tr><tr><td>10</td><td>Denmark</td><td>C</td><td>7</td><td>1</td><td>11</td><td>8</td><td>3</td><td>2</td><td>true</td></tr><tr><td>12</td><td>England</td><td>C</td><td>6</td><td>2</td><td>10</td><td>6</td><td>4</td><td>2</td><td>true</td></tr><tr><td>9</td><td>Slovenia</td><td>C</td><td>3</td><td>3</td><td>9</td><td>11</td><td>-2</td><td>1</td><td>true</td></tr><tr><td>11</td><td>Serbia</td><td>C</td><td>1</td><td>4</td><td>9</td><td>14</td><td>-5</td><td>0</td><td>false</td></tr><tr><td>13</td><td>Play-off winner A</td><td>D</td><td>9</td><td>1</td><td>14</td><td>8</td><td>6</td><td>3</td><td>true</td></tr><tr><td>15</td><td>Austria</td><td>D</td><td>6</td><td>2</td><td>11</td><td>7</td><td>4</td><td>2</td><td>true</td></tr><tr><td>16</td><td>France</td><td>D</td><td>3</td><td>3</td><td>7</td><td>13</td><td>-6</td><td>1</td><td>false</td></tr><tr><td>14</td><td>Netherlands</td><td>D</td><td>0</td><td>4</td><td>10</td><td>14</td><td>-4</td><td>0</td><td>false</td></tr><tr><td>20</td><td>Play-off winner B</td><td>E</td><td>6</td><td>1</td><td>13</td><td>6</td><td>7</td><td>2</td><td>true</td></tr><tr><td>19</td><td>Romania</td><td>E</td><td>6</td><td>2</td><td>12</td><td>10</td><td>2</td><td>2</td><td>true</td></tr><tr><td>18</td><td>Slovakia</td><td>E</td><td>3</td><td>3</td><td>10</td><td>14</td><td>-4</td><td>1</td><td>false</td></tr><tr><td>17</td><td>Belgium</td><td>E</td><td>3</td><td>4</td><td>8</td><td>13</td><td>-5</td><td>1</td><td>false</td></tr><tr><td>23</td><td>Portugal</td><td>F</td><td>7</td><td>1</td><td>13</td><td>9</td><td>4</td><td>2</td><td>true</td></tr><tr><td>24</td><td>Czech</td><td>F</td><td>4</td><td>2</td><td>10</td><td>9</td><td>1</td><td>1</td><td>true</td></tr><tr><td>21</td><td>Turkey</td><td>F</td><td>4</td><td>3</td><td>8</td><td>8</td><td>0</td><td>1</td><td>true</td></tr><tr><td>22</td><td>Play-off winner c</td><td>F</td><td>1</td><td>4</td><td>10</td><td>15</td><td>-5</td><td>0</td><td>false</td></tr></tbody></table></div>"
      ]
     },
     "metadata": {
      "application/vnd.databricks.v1+output": {
       "addedWidgets": {},
       "aggData": [],
       "aggError": "",
       "aggOverflow": false,
       "aggSchema": [],
       "aggSeriesLimitReached": false,
       "aggType": "",
       "arguments": {},
       "columnCustomDisplayInfos": {},
       "data": [
        [
         1,
         "Germany",
         "A",
         7,
         1,
         13,
         7,
         6,
         2,
         true
        ],
        [
         2,
         "Scotland",
         "A",
         6,
         2,
         7,
         7,
         0,
         2,
         true
        ],
        [
         4,
         "Switzerland",
         "A",
         4,
         3,
         9,
         9,
         0,
         1,
         true
        ],
        [
         3,
         "Hungary",
         "A",
         0,
         4,
         3,
         9,
         -6,
         0,
         false
        ],
        [
         6,
         "Croatia",
         "B",
         6,
         1,
         11,
         9,
         2,
         2,
         true
        ],
        [
         5,
         "Spain",
         "B",
         6,
         2,
         9,
         7,
         2,
         2,
         true
        ],
        [
         7,
         "Italy",
         "B",
         3,
         3,
         10,
         12,
         -2,
         1,
         true
        ],
        [
         8,
         "Albania",
         "B",
         3,
         4,
         7,
         9,
         -2,
         1,
         false
        ],
        [
         10,
         "Denmark",
         "C",
         7,
         1,
         11,
         8,
         3,
         2,
         true
        ],
        [
         12,
         "England",
         "C",
         6,
         2,
         10,
         6,
         4,
         2,
         true
        ],
        [
         9,
         "Slovenia",
         "C",
         3,
         3,
         9,
         11,
         -2,
         1,
         true
        ],
        [
         11,
         "Serbia",
         "C",
         1,
         4,
         9,
         14,
         -5,
         0,
         false
        ],
        [
         13,
         "Play-off winner A",
         "D",
         9,
         1,
         14,
         8,
         6,
         3,
         true
        ],
        [
         15,
         "Austria",
         "D",
         6,
         2,
         11,
         7,
         4,
         2,
         true
        ],
        [
         16,
         "France",
         "D",
         3,
         3,
         7,
         13,
         -6,
         1,
         false
        ],
        [
         14,
         "Netherlands",
         "D",
         0,
         4,
         10,
         14,
         -4,
         0,
         false
        ],
        [
         20,
         "Play-off winner B",
         "E",
         6,
         1,
         13,
         6,
         7,
         2,
         true
        ],
        [
         19,
         "Romania",
         "E",
         6,
         2,
         12,
         10,
         2,
         2,
         true
        ],
        [
         18,
         "Slovakia",
         "E",
         3,
         3,
         10,
         14,
         -4,
         1,
         false
        ],
        [
         17,
         "Belgium",
         "E",
         3,
         4,
         8,
         13,
         -5,
         1,
         false
        ],
        [
         23,
         "Portugal",
         "F",
         7,
         1,
         13,
         9,
         4,
         2,
         true
        ],
        [
         24,
         "Czech",
         "F",
         4,
         2,
         10,
         9,
         1,
         1,
         true
        ],
        [
         21,
         "Turkey",
         "F",
         4,
         3,
         8,
         8,
         0,
         1,
         true
        ],
        [
         22,
         "Play-off winner c",
         "F",
         1,
         4,
         10,
         15,
         -5,
         0,
         false
        ]
       ],
       "datasetInfos": [],
       "dbfsResultPath": null,
       "isJsonSchema": true,
       "metadata": {
        "isDbfsCommandResult": false
       },
       "overflow": false,
       "plotOptions": {
        "customPlotOptions": {},
        "displayType": "table",
        "pivotAggregation": null,
        "pivotColumns": null,
        "xColumns": null,
        "yColumns": null
       },
       "removedWidgets": [],
       "schema": [
        {
         "metadata": "{}",
         "name": "teamId",
         "type": "\"integer\""
        },
        {
         "metadata": "{\"__CHAR_VARCHAR_TYPE_STRING\":\"varchar(255)\"}",
         "name": "teamName",
         "type": "\"string\""
        },
        {
         "metadata": "{\"__CHAR_VARCHAR_TYPE_STRING\":\"varchar(255)\"}",
         "name": "groupName",
         "type": "\"string\""
        },
        {
         "metadata": "{}",
         "name": "Points",
         "type": "\"integer\""
        },
        {
         "metadata": "{}",
         "name": "Standings",
         "type": "\"integer\""
        },
        {
         "metadata": "{}",
         "name": "GF",
         "type": "\"integer\""
        },
        {
         "metadata": "{}",
         "name": "GA",
         "type": "\"integer\""
        },
        {
         "metadata": "{}",
         "name": "GD",
         "type": "\"integer\""
        },
        {
         "metadata": "{}",
         "name": "Win",
         "type": "\"integer\""
        },
        {
         "metadata": "{}",
         "name": "isProgress",
         "type": "\"boolean\""
        }
       ],
       "type": "table"
      }
     },
     "output_type": "display_data"
    }
   ],
   "source": [
    "%sql\n",
    "SELECT * FROM groupRank ORDER BY groupName, Standings;"
   ]
  },
  {
   "cell_type": "code",
   "execution_count": 0,
   "metadata": {
    "application/vnd.databricks.v1+cell": {
     "cellMetadata": {
      "byteLimit": 2048000,
      "rowLimit": 10000
     },
     "inputWidgets": {},
     "nuid": "168db02d-38eb-4210-8914-e85eb987102a",
     "showTitle": false,
     "title": ""
    }
   },
   "outputs": [
    {
     "output_type": "display_data",
     "data": {
      "text/html": [
       "<style scoped>\n",
       "  .table-result-container {\n",
       "    max-height: 300px;\n",
       "    overflow: auto;\n",
       "  }\n",
       "  table, th, td {\n",
       "    border: 1px solid black;\n",
       "    border-collapse: collapse;\n",
       "  }\n",
       "  th, td {\n",
       "    padding: 5px;\n",
       "  }\n",
       "  th {\n",
       "    text-align: left;\n",
       "  }\n",
       "</style><div class='table-result-container'><table class='table-result'><thead style='background-color: white'><tr></tr></thead><tbody></tbody></table></div>"
      ]
     },
     "metadata": {
      "application/vnd.databricks.v1+output": {
       "addedWidgets": {},
       "aggData": [],
       "aggError": "",
       "aggOverflow": false,
       "aggSchema": [],
       "aggSeriesLimitReached": false,
       "aggType": "",
       "arguments": {},
       "columnCustomDisplayInfos": {},
       "data": [],
       "datasetInfos": [],
       "dbfsResultPath": null,
       "isJsonSchema": true,
       "metadata": {
        "isDbfsCommandResult": false
       },
       "overflow": false,
       "plotOptions": {
        "customPlotOptions": {},
        "displayType": "table",
        "pivotAggregation": null,
        "pivotColumns": null,
        "xColumns": null,
        "yColumns": null
       },
       "removedWidgets": [],
       "schema": [],
       "type": "table"
      }
     },
     "output_type": "display_data"
    }
   ],
   "source": [
    "%sql\n",
    "--third place combination table\n",
    "CREATE or Replace TABLE thirdPlaceCombination (\n",
    "  ID INTEGER,\n",
    "  SELECTEDGROUPS VARCHAR(4),\n",
    "  TeamHB CHAR(1),\n",
    "  TeamHC CHAR(1),\n",
    "  TeamHE CHAR(1),\n",
    "  TeamHF CHAR(1)\n",
    ");"
   ]
  },
  {
   "cell_type": "code",
   "execution_count": 0,
   "metadata": {
    "application/vnd.databricks.v1+cell": {
     "cellMetadata": {
      "byteLimit": 2048000,
      "rowLimit": 10000
     },
     "inputWidgets": {},
     "nuid": "527e7c7d-d056-42e2-a5b3-f778b049facb",
     "showTitle": false,
     "title": ""
    }
   },
   "outputs": [
    {
     "output_type": "display_data",
     "data": {
      "text/html": [
       "<style scoped>\n",
       "  .table-result-container {\n",
       "    max-height: 300px;\n",
       "    overflow: auto;\n",
       "  }\n",
       "  table, th, td {\n",
       "    border: 1px solid black;\n",
       "    border-collapse: collapse;\n",
       "  }\n",
       "  th, td {\n",
       "    padding: 5px;\n",
       "  }\n",
       "  th {\n",
       "    text-align: left;\n",
       "  }\n",
       "</style><div class='table-result-container'><table class='table-result'><thead style='background-color: white'><tr><th>num_affected_rows</th><th>num_inserted_rows</th></tr></thead><tbody><tr><td>15</td><td>15</td></tr></tbody></table></div>"
      ]
     },
     "metadata": {
      "application/vnd.databricks.v1+output": {
       "addedWidgets": {},
       "aggData": [],
       "aggError": "",
       "aggOverflow": false,
       "aggSchema": [],
       "aggSeriesLimitReached": false,
       "aggType": "",
       "arguments": {},
       "columnCustomDisplayInfos": {},
       "data": [
        [
         15,
         15
        ]
       ],
       "datasetInfos": [],
       "dbfsResultPath": null,
       "isJsonSchema": true,
       "metadata": {
        "isDbfsCommandResult": false
       },
       "overflow": false,
       "plotOptions": {
        "customPlotOptions": {},
        "displayType": "table",
        "pivotAggregation": null,
        "pivotColumns": null,
        "xColumns": null,
        "yColumns": null
       },
       "removedWidgets": [],
       "schema": [
        {
         "metadata": "{}",
         "name": "num_affected_rows",
         "type": "\"long\""
        },
        {
         "metadata": "{}",
         "name": "num_inserted_rows",
         "type": "\"long\""
        }
       ],
       "type": "table"
      }
     },
     "output_type": "display_data"
    }
   ],
   "source": [
    "%sql\n",
    "INSERT INTO thirdPlaceCombination (ID, SELECTEDGROUPS, TeamHB, TeamHC, TeamHE, TeamHF) VALUES\n",
    "(1, 'ABCD', 'A', 'D', 'B', 'C'),\n",
    "(2, 'ABCE', 'A', 'E', 'B', 'C'),\n",
    "(3, 'ABCF', 'A', 'F', 'B', 'C'),\n",
    "(4, 'ABDE', 'D', 'E', 'A', 'B'),\n",
    "(5, 'ABDF', 'D', 'F', 'A', 'B'),\n",
    "(6, 'ABEF', 'E', 'F', 'B', 'A'),\n",
    "(7, 'ACDE', 'E', 'D', 'C', 'A'),\n",
    "(8, 'ACDF', 'F', 'D', 'C', 'A'),\n",
    "(9, 'ACEF', 'E', 'F', 'C', 'A'),\n",
    "(10, 'ADEF', 'E', 'F', 'D', 'A'),\n",
    "(11, 'BCDE', 'E', 'D', 'B', 'C'),\n",
    "(12, 'BCDF', 'F', 'D', 'C', 'B'),\n",
    "(13, 'BCEF', 'F', 'E', 'C', 'B'),\n",
    "(14, 'BDEF', 'F', 'E', 'D', 'B'),\n",
    "(15, 'CDEF', 'F', 'E', 'D', 'C');"
   ]
  },
  {
   "cell_type": "code",
   "execution_count": 0,
   "metadata": {
    "application/vnd.databricks.v1+cell": {
     "cellMetadata": {
      "byteLimit": 2048000,
      "rowLimit": 10000
     },
     "inputWidgets": {},
     "nuid": "a85f3b54-faa6-42b9-9810-0494fcf98cdf",
     "showTitle": false,
     "title": ""
    }
   },
   "outputs": [
    {
     "output_type": "display_data",
     "data": {
      "text/html": [
       "<style scoped>\n",
       "  .table-result-container {\n",
       "    max-height: 300px;\n",
       "    overflow: auto;\n",
       "  }\n",
       "  table, th, td {\n",
       "    border: 1px solid black;\n",
       "    border-collapse: collapse;\n",
       "  }\n",
       "  th, td {\n",
       "    padding: 5px;\n",
       "  }\n",
       "  th {\n",
       "    text-align: left;\n",
       "  }\n",
       "</style><div class='table-result-container'><table class='table-result'><thead style='background-color: white'><tr><th>num_affected_rows</th><th>num_inserted_rows</th></tr></thead><tbody><tr><td>8</td><td>8</td></tr></tbody></table></div>"
      ]
     },
     "metadata": {
      "application/vnd.databricks.v1+output": {
       "addedWidgets": {},
       "aggData": [],
       "aggError": "",
       "aggOverflow": false,
       "aggSchema": [],
       "aggSeriesLimitReached": false,
       "aggType": "",
       "arguments": {},
       "columnCustomDisplayInfos": {},
       "data": [
        [
         8,
         8
        ]
       ],
       "datasetInfos": [],
       "dbfsResultPath": null,
       "isJsonSchema": true,
       "metadata": {
        "isDbfsCommandResult": false
       },
       "overflow": false,
       "plotOptions": {
        "customPlotOptions": {},
        "displayType": "table",
        "pivotAggregation": null,
        "pivotColumns": null,
        "xColumns": null,
        "yColumns": null
       },
       "removedWidgets": [],
       "schema": [
        {
         "metadata": "{}",
         "name": "num_affected_rows",
         "type": "\"long\""
        },
        {
         "metadata": "{}",
         "name": "num_inserted_rows",
         "type": "\"long\""
        }
       ],
       "type": "table"
      }
     },
     "output_type": "display_data"
    }
   ],
   "source": [
    "%sql\n",
    "--Round of 16\n",
    "With SelectedGroup AS\n",
    "(\n",
    "SELECT \n",
    "    CONCAT_WS('', SORT_ARRAY(COLLECT_SET(SUBSTRING(groupName, 1, 1)))) AS Result\n",
    "FROM groupRank\n",
    "WHERE Standings = 3 AND IsProgress = TRUE\n",
    "),\n",
    "\n",
    "SelectedGrpTbl AS\n",
    "(\n",
    "SELECT * \n",
    "FROM thirdPlaceCombination\n",
    "WHERE thirdPlaceCombination.SELECTEDGROUPS = (SELECT Result FROM SelectedGroup)\n",
    ")\n",
    "INSERT INTO Matches (matchId, TeamH, TeamA, TeamHScore, TeamAScore, Result, stage)\n",
    "SELECT \n",
    "    37 AS matchId, \n",
    "    (SELECT teamName FROM groupRank WHERE Standings = 1 AND groupName = 'B') AS TeamH, \n",
    "    (SELECT teamName FROM groupRank WHERE Standings = 3 AND groupName = (select TeamHB from SelectedGrpTbl)) AS TeamA,\n",
    "    (SELECT FLOOR(RAND() * 5) + 1) AS TeamHScore,\n",
    "    (SELECT FLOOR(RAND() * 5) + 1) AS TeamAScore,\n",
    "    'draw' as Result,\n",
    "    'Round of 16' as stage\n",
    "union All\n",
    "SELECT \n",
    "    38 AS matchId, \n",
    "    (SELECT teamName FROM groupRank WHERE Standings = 1 AND groupName = 'A') AS TeamH, \n",
    "    (SELECT teamName FROM groupRank WHERE Standings = 2 AND groupName = 'C') AS TeamA,\n",
    "    (SELECT FLOOR(RAND() * 5) + 1) AS TeamHScore,\n",
    "    (SELECT FLOOR(RAND() * 5) + 1) AS TeamAScore,\n",
    "    'draw' as Result,\n",
    "    'Round of 16' as stage\n",
    "UNION ALL\n",
    "SELECT \n",
    "    39 AS matchId, \n",
    "    (SELECT teamName FROM groupRank WHERE Standings = 1 AND groupName = 'F') AS TeamH, \n",
    "    (SELECT teamName FROM groupRank WHERE Standings = 3 AND groupName = (select TeamHF from SelectedGrpTbl)) AS TeamA,\n",
    "    (SELECT FLOOR(RAND() * 5) + 1) AS TeamHScore,\n",
    "    (SELECT FLOOR(RAND() * 5) + 1) AS TeamAScore,\n",
    "    'draw' as Result,\n",
    "    'Round of 16' as stage\n",
    "union All\n",
    "SELECT \n",
    "    40 AS matchId, \n",
    "    (SELECT teamName FROM groupRank WHERE Standings = 2 AND groupName = 'D') AS TeamH, \n",
    "    (SELECT teamName FROM groupRank WHERE Standings = 2 AND groupName = 'E') AS TeamA,\n",
    "    (SELECT FLOOR(RAND() * 5) + 1) AS TeamHScore,\n",
    "    (SELECT FLOOR(RAND() * 5) + 1) AS TeamAScore,\n",
    "    'draw' as Result,\n",
    "    'Round of 16' as stage\n",
    "UNION ALL\n",
    "SELECT \n",
    "    41 AS matchId, \n",
    "    (SELECT teamName FROM groupRank WHERE Standings = 1 AND groupName = 'E') AS TeamH, \n",
    "    (SELECT teamName FROM groupRank WHERE Standings = 3 AND groupName = (select TeamHE from SelectedGrpTbl)) AS TeamA,\n",
    "    (SELECT FLOOR(RAND() * 5) + 1) AS TeamHScore,\n",
    "    (SELECT FLOOR(RAND() * 5) + 1) AS TeamAScore,\n",
    "    'draw' as Result,\n",
    "    'Round of 16' as stage\n",
    "union All\n",
    "SELECT \n",
    "    42 AS matchId, \n",
    "    (SELECT teamName FROM groupRank WHERE Standings = 1 AND groupName = 'D') AS TeamH, \n",
    "    (SELECT teamName FROM groupRank WHERE Standings = 2 AND groupName = 'F') AS TeamA,\n",
    "    (SELECT FLOOR(RAND() * 5) + 1) AS TeamHScore,\n",
    "    (SELECT FLOOR(RAND() * 5) + 1) AS TeamAScore,\n",
    "    'draw' as Result,\n",
    "    'Round of 16' as stage\n",
    "UNION ALL\n",
    "SELECT  \n",
    "    43 AS matchId, \n",
    "    (SELECT teamName FROM groupRank WHERE Standings = 1 AND groupName = 'C') AS TeamH, \n",
    "    (SELECT teamName FROM groupRank WHERE Standings = 3 AND groupName = (select TeamHC from SelectedGrpTbl)) AS TeamA,\n",
    "    (SELECT FLOOR(RAND() * 5) + 1) AS TeamHScore,\n",
    "    (SELECT FLOOR(RAND() * 5) + 1) AS TeamAScore,\n",
    "    'draw' as Result,\n",
    "    'Round of 16' as stage\n",
    "union All\n",
    "SELECT \n",
    "    44 AS matchId, \n",
    "    (SELECT teamName FROM groupRank WHERE Standings = 2 AND groupName = 'A') AS TeamH, \n",
    "    (SELECT teamName FROM groupRank WHERE Standings = 2 AND groupName = 'B') AS TeamA,\n",
    "    (SELECT FLOOR(RAND() * 5) + 1) AS TeamHScore,\n",
    "    (SELECT FLOOR(RAND() * 5) + 1) AS TeamAScore,\n",
    "    'draw' as Result,\n",
    "    'Round of 16' as stage;"
   ]
  },
  {
   "cell_type": "code",
   "execution_count": 0,
   "metadata": {
    "application/vnd.databricks.v1+cell": {
     "cellMetadata": {
      "byteLimit": 2048000,
      "rowLimit": 10000
     },
     "inputWidgets": {},
     "nuid": "5035099d-612c-41e3-b57f-9ea2c2969f5d",
     "showTitle": false,
     "title": ""
    }
   },
   "outputs": [
    {
     "output_type": "display_data",
     "data": {
      "text/html": [
       "<style scoped>\n",
       "  .table-result-container {\n",
       "    max-height: 300px;\n",
       "    overflow: auto;\n",
       "  }\n",
       "  table, th, td {\n",
       "    border: 1px solid black;\n",
       "    border-collapse: collapse;\n",
       "  }\n",
       "  th, td {\n",
       "    padding: 5px;\n",
       "  }\n",
       "  th {\n",
       "    text-align: left;\n",
       "  }\n",
       "</style><div class='table-result-container'><table class='table-result'><thead style='background-color: white'><tr><th>matchId</th><th>TeamH</th><th>TeamA</th><th>TeamHScore</th><th>TeamAScore</th><th>Result</th><th>Stage</th></tr></thead><tbody><tr><td>1</td><td>Germany</td><td>Switzerland</td><td>5</td><td>5</td><td>draw</td><td>group stage</td></tr><tr><td>2</td><td>Germany</td><td>Hungary</td><td>4</td><td>1</td><td>Germany</td><td>group stage</td></tr><tr><td>3</td><td>Germany</td><td>Scotland</td><td>4</td><td>1</td><td>Germany</td><td>group stage</td></tr><tr><td>4</td><td>Scotland</td><td>Switzerland</td><td>3</td><td>2</td><td>Scotland</td><td>group stage</td></tr><tr><td>5</td><td>Scotland</td><td>Hungary</td><td>3</td><td>1</td><td>Scotland</td><td>group stage</td></tr><tr><td>6</td><td>Hungary</td><td>Switzerland</td><td>1</td><td>2</td><td>Switzerland</td><td>group stage</td></tr><tr><td>7</td><td>Spain</td><td>Albania</td><td>1</td><td>2</td><td>Albania</td><td>group stage</td></tr><tr><td>8</td><td>Spain</td><td>Italy</td><td>5</td><td>3</td><td>Spain</td><td>group stage</td></tr><tr><td>9</td><td>Spain</td><td>Croatia</td><td>3</td><td>2</td><td>Spain</td><td>group stage</td></tr><tr><td>10</td><td>Croatia</td><td>Albania</td><td>4</td><td>3</td><td>Croatia</td><td>group stage</td></tr><tr><td>11</td><td>Croatia</td><td>Italy</td><td>5</td><td>3</td><td>Croatia</td><td>group stage</td></tr><tr><td>12</td><td>Italy</td><td>Albania</td><td>4</td><td>2</td><td>Italy</td><td>group stage</td></tr><tr><td>13</td><td>Slovenia</td><td>England</td><td>1</td><td>4</td><td>England</td><td>group stage</td></tr><tr><td>14</td><td>Slovenia</td><td>Serbia</td><td>5</td><td>2</td><td>Slovenia</td><td>group stage</td></tr><tr><td>15</td><td>Slovenia</td><td>Denmark</td><td>3</td><td>5</td><td>Denmark</td><td>group stage</td></tr><tr><td>16</td><td>Denmark</td><td>England</td><td>2</td><td>1</td><td>Denmark</td><td>group stage</td></tr><tr><td>17</td><td>Denmark</td><td>Serbia</td><td>4</td><td>4</td><td>draw</td><td>group stage</td></tr><tr><td>18</td><td>Serbia</td><td>England</td><td>3</td><td>5</td><td>England</td><td>group stage</td></tr><tr><td>19</td><td>Play-off winner A</td><td>France</td><td>5</td><td>1</td><td>Play-off winner A</td><td>group stage</td></tr><tr><td>20</td><td>Play-off winner A</td><td>Austria</td><td>4</td><td>3</td><td>Play-off winner A</td><td>group stage</td></tr><tr><td>21</td><td>Play-off winner A</td><td>Netherlands</td><td>5</td><td>4</td><td>Play-off winner A</td><td>group stage</td></tr><tr><td>22</td><td>Netherlands</td><td>France</td><td>4</td><td>5</td><td>France</td><td>group stage</td></tr><tr><td>23</td><td>Netherlands</td><td>Austria</td><td>2</td><td>4</td><td>Austria</td><td>group stage</td></tr><tr><td>24</td><td>Austria</td><td>France</td><td>4</td><td>1</td><td>Austria</td><td>group stage</td></tr><tr><td>25</td><td>Belgium</td><td>Play-off winner B</td><td>1</td><td>5</td><td>Play-off winner B</td><td>group stage</td></tr><tr><td>26</td><td>Belgium</td><td>Romania</td><td>2</td><td>4</td><td>Romania</td><td>group stage</td></tr><tr><td>27</td><td>Belgium</td><td>Slovakia</td><td>5</td><td>4</td><td>Belgium</td><td>group stage</td></tr><tr><td>28</td><td>Slovakia</td><td>Play-off winner B</td><td>1</td><td>5</td><td>Play-off winner B</td><td>group stage</td></tr><tr><td>29</td><td>Slovakia</td><td>Romania</td><td>5</td><td>4</td><td>Slovakia</td><td>group stage</td></tr><tr><td>30</td><td>Romania</td><td>Play-off winner B</td><td>4</td><td>3</td><td>Romania</td><td>group stage</td></tr><tr><td>31</td><td>Turkey</td><td>Czech</td><td>2</td><td>2</td><td>draw</td><td>group stage</td></tr><tr><td>32</td><td>Turkey</td><td>Portugal</td><td>1</td><td>3</td><td>Portugal</td><td>group stage</td></tr><tr><td>33</td><td>Turkey</td><td>Play-off winner c</td><td>5</td><td>3</td><td>Turkey</td><td>group stage</td></tr><tr><td>34</td><td>Play-off winner c</td><td>Czech</td><td>2</td><td>5</td><td>Czech</td><td>group stage</td></tr><tr><td>35</td><td>Play-off winner c</td><td>Portugal</td><td>5</td><td>5</td><td>draw</td><td>group stage</td></tr><tr><td>36</td><td>Portugal</td><td>Czech</td><td>5</td><td>3</td><td>Portugal</td><td>group stage</td></tr><tr><td>37</td><td>Croatia</td><td>Switzerland</td><td>4</td><td>1</td><td>Croatia</td><td>Round of 16</td></tr><tr><td>38</td><td>Germany</td><td>England</td><td>5</td><td>1</td><td>Germany</td><td>Round of 16</td></tr><tr><td>39</td><td>Portugal</td><td>Slovenia</td><td>4</td><td>4</td><td>Portugal</td><td>Round of 16</td></tr><tr><td>40</td><td>Austria</td><td>Romania</td><td>1</td><td>2</td><td>Romania</td><td>Round of 16</td></tr><tr><td>41</td><td>Play-off winner B</td><td>Italy</td><td>2</td><td>1</td><td>Play-off winner B</td><td>Round of 16</td></tr><tr><td>42</td><td>Play-off winner A</td><td>Czech</td><td>1</td><td>3</td><td>Czech</td><td>Round of 16</td></tr><tr><td>43</td><td>Denmark</td><td>Turkey</td><td>1</td><td>5</td><td>Turkey</td><td>Round of 16</td></tr><tr><td>44</td><td>Scotland</td><td>Spain</td><td>1</td><td>3</td><td>Spain</td><td>Round of 16</td></tr></tbody></table></div>"
      ]
     },
     "metadata": {
      "application/vnd.databricks.v1+output": {
       "addedWidgets": {},
       "aggData": [],
       "aggError": "",
       "aggOverflow": false,
       "aggSchema": [],
       "aggSeriesLimitReached": false,
       "aggType": "",
       "arguments": {},
       "columnCustomDisplayInfos": {},
       "data": [
        [
         1,
         "Germany",
         "Switzerland",
         5,
         5,
         "draw",
         "group stage"
        ],
        [
         2,
         "Germany",
         "Hungary",
         4,
         1,
         "Germany",
         "group stage"
        ],
        [
         3,
         "Germany",
         "Scotland",
         4,
         1,
         "Germany",
         "group stage"
        ],
        [
         4,
         "Scotland",
         "Switzerland",
         3,
         2,
         "Scotland",
         "group stage"
        ],
        [
         5,
         "Scotland",
         "Hungary",
         3,
         1,
         "Scotland",
         "group stage"
        ],
        [
         6,
         "Hungary",
         "Switzerland",
         1,
         2,
         "Switzerland",
         "group stage"
        ],
        [
         7,
         "Spain",
         "Albania",
         1,
         2,
         "Albania",
         "group stage"
        ],
        [
         8,
         "Spain",
         "Italy",
         5,
         3,
         "Spain",
         "group stage"
        ],
        [
         9,
         "Spain",
         "Croatia",
         3,
         2,
         "Spain",
         "group stage"
        ],
        [
         10,
         "Croatia",
         "Albania",
         4,
         3,
         "Croatia",
         "group stage"
        ],
        [
         11,
         "Croatia",
         "Italy",
         5,
         3,
         "Croatia",
         "group stage"
        ],
        [
         12,
         "Italy",
         "Albania",
         4,
         2,
         "Italy",
         "group stage"
        ],
        [
         13,
         "Slovenia",
         "England",
         1,
         4,
         "England",
         "group stage"
        ],
        [
         14,
         "Slovenia",
         "Serbia",
         5,
         2,
         "Slovenia",
         "group stage"
        ],
        [
         15,
         "Slovenia",
         "Denmark",
         3,
         5,
         "Denmark",
         "group stage"
        ],
        [
         16,
         "Denmark",
         "England",
         2,
         1,
         "Denmark",
         "group stage"
        ],
        [
         17,
         "Denmark",
         "Serbia",
         4,
         4,
         "draw",
         "group stage"
        ],
        [
         18,
         "Serbia",
         "England",
         3,
         5,
         "England",
         "group stage"
        ],
        [
         19,
         "Play-off winner A",
         "France",
         5,
         1,
         "Play-off winner A",
         "group stage"
        ],
        [
         20,
         "Play-off winner A",
         "Austria",
         4,
         3,
         "Play-off winner A",
         "group stage"
        ],
        [
         21,
         "Play-off winner A",
         "Netherlands",
         5,
         4,
         "Play-off winner A",
         "group stage"
        ],
        [
         22,
         "Netherlands",
         "France",
         4,
         5,
         "France",
         "group stage"
        ],
        [
         23,
         "Netherlands",
         "Austria",
         2,
         4,
         "Austria",
         "group stage"
        ],
        [
         24,
         "Austria",
         "France",
         4,
         1,
         "Austria",
         "group stage"
        ],
        [
         25,
         "Belgium",
         "Play-off winner B",
         1,
         5,
         "Play-off winner B",
         "group stage"
        ],
        [
         26,
         "Belgium",
         "Romania",
         2,
         4,
         "Romania",
         "group stage"
        ],
        [
         27,
         "Belgium",
         "Slovakia",
         5,
         4,
         "Belgium",
         "group stage"
        ],
        [
         28,
         "Slovakia",
         "Play-off winner B",
         1,
         5,
         "Play-off winner B",
         "group stage"
        ],
        [
         29,
         "Slovakia",
         "Romania",
         5,
         4,
         "Slovakia",
         "group stage"
        ],
        [
         30,
         "Romania",
         "Play-off winner B",
         4,
         3,
         "Romania",
         "group stage"
        ],
        [
         31,
         "Turkey",
         "Czech",
         2,
         2,
         "draw",
         "group stage"
        ],
        [
         32,
         "Turkey",
         "Portugal",
         1,
         3,
         "Portugal",
         "group stage"
        ],
        [
         33,
         "Turkey",
         "Play-off winner c",
         5,
         3,
         "Turkey",
         "group stage"
        ],
        [
         34,
         "Play-off winner c",
         "Czech",
         2,
         5,
         "Czech",
         "group stage"
        ],
        [
         35,
         "Play-off winner c",
         "Portugal",
         5,
         5,
         "draw",
         "group stage"
        ],
        [
         36,
         "Portugal",
         "Czech",
         5,
         3,
         "Portugal",
         "group stage"
        ],
        [
         37,
         "Croatia",
         "Switzerland",
         4,
         1,
         "Croatia",
         "Round of 16"
        ],
        [
         38,
         "Germany",
         "England",
         5,
         1,
         "Germany",
         "Round of 16"
        ],
        [
         39,
         "Portugal",
         "Slovenia",
         4,
         4,
         "Portugal",
         "Round of 16"
        ],
        [
         40,
         "Austria",
         "Romania",
         1,
         2,
         "Romania",
         "Round of 16"
        ],
        [
         41,
         "Play-off winner B",
         "Italy",
         2,
         1,
         "Play-off winner B",
         "Round of 16"
        ],
        [
         42,
         "Play-off winner A",
         "Czech",
         1,
         3,
         "Czech",
         "Round of 16"
        ],
        [
         43,
         "Denmark",
         "Turkey",
         1,
         5,
         "Turkey",
         "Round of 16"
        ],
        [
         44,
         "Scotland",
         "Spain",
         1,
         3,
         "Spain",
         "Round of 16"
        ]
       ],
       "datasetInfos": [],
       "dbfsResultPath": null,
       "isJsonSchema": true,
       "metadata": {
        "isDbfsCommandResult": false
       },
       "overflow": false,
       "plotOptions": {
        "customPlotOptions": {},
        "displayType": "table",
        "pivotAggregation": null,
        "pivotColumns": null,
        "xColumns": null,
        "yColumns": null
       },
       "removedWidgets": [],
       "schema": [
        {
         "metadata": "{}",
         "name": "matchId",
         "type": "\"integer\""
        },
        {
         "metadata": "{\"__CHAR_VARCHAR_TYPE_STRING\":\"varchar(255)\"}",
         "name": "TeamH",
         "type": "\"string\""
        },
        {
         "metadata": "{\"__CHAR_VARCHAR_TYPE_STRING\":\"varchar(255)\"}",
         "name": "TeamA",
         "type": "\"string\""
        },
        {
         "metadata": "{}",
         "name": "TeamHScore",
         "type": "\"integer\""
        },
        {
         "metadata": "{}",
         "name": "TeamAScore",
         "type": "\"integer\""
        },
        {
         "metadata": "{\"__CHAR_VARCHAR_TYPE_STRING\":\"varchar(255)\"}",
         "name": "Result",
         "type": "\"string\""
        },
        {
         "metadata": "{\"__CHAR_VARCHAR_TYPE_STRING\":\"varchar(255)\"}",
         "name": "Stage",
         "type": "\"string\""
        }
       ],
       "type": "table"
      }
     },
     "output_type": "display_data"
    }
   ],
   "source": [
    "%sql\n",
    "--updationg the Result column\n",
    "UPDATE Matches\n",
    "SET Result = \n",
    "    CASE \n",
    "        WHEN TeamHScore > TeamAScore THEN TeamH\n",
    "        WHEN TeamHScore < TeamAScore THEN TeamA\n",
    "        ELSE \n",
    "            CASE \n",
    "                WHEN (TeamHScore + 1) % 2 = 1 THEN TeamH\n",
    "                ELSE TeamA\n",
    "            END\n",
    "    END\n",
    "where stage = 'Round of 16';\n",
    "SELECT * FROM Matches\n",
    "order by matchId;"
   ]
  },
  {
   "cell_type": "code",
   "execution_count": 0,
   "metadata": {
    "application/vnd.databricks.v1+cell": {
     "cellMetadata": {
      "byteLimit": 2048000,
      "rowLimit": 10000
     },
     "inputWidgets": {},
     "nuid": "7cd32af7-8d48-4a1e-933e-552be4cfdc5c",
     "showTitle": false,
     "title": ""
    }
   },
   "outputs": [
    {
     "output_type": "display_data",
     "data": {
      "text/html": [
       "<style scoped>\n",
       "  .table-result-container {\n",
       "    max-height: 300px;\n",
       "    overflow: auto;\n",
       "  }\n",
       "  table, th, td {\n",
       "    border: 1px solid black;\n",
       "    border-collapse: collapse;\n",
       "  }\n",
       "  th, td {\n",
       "    padding: 5px;\n",
       "  }\n",
       "  th {\n",
       "    text-align: left;\n",
       "  }\n",
       "</style><div class='table-result-container'><table class='table-result'><thead style='background-color: white'><tr><th>num_affected_rows</th><th>num_inserted_rows</th></tr></thead><tbody><tr><td>4</td><td>4</td></tr></tbody></table></div>"
      ]
     },
     "metadata": {
      "application/vnd.databricks.v1+output": {
       "addedWidgets": {},
       "aggData": [],
       "aggError": "",
       "aggOverflow": false,
       "aggSchema": [],
       "aggSeriesLimitReached": false,
       "aggType": "",
       "arguments": {},
       "columnCustomDisplayInfos": {},
       "data": [
        [
         4,
         4
        ]
       ],
       "datasetInfos": [],
       "dbfsResultPath": null,
       "isJsonSchema": true,
       "metadata": {
        "isDbfsCommandResult": false
       },
       "overflow": false,
       "plotOptions": {
        "customPlotOptions": {},
        "displayType": "table",
        "pivotAggregation": null,
        "pivotColumns": null,
        "xColumns": null,
        "yColumns": null
       },
       "removedWidgets": [],
       "schema": [
        {
         "metadata": "{}",
         "name": "num_affected_rows",
         "type": "\"long\""
        },
        {
         "metadata": "{}",
         "name": "num_inserted_rows",
         "type": "\"long\""
        }
       ],
       "type": "table"
      }
     },
     "output_type": "display_data"
    }
   ],
   "source": [
    "%sql\n",
    "--Quater-Final Matches\n",
    "INSERT INTO Matches (matchId, TeamH, TeamA, TeamHscore, TeamAscore, Result, stage)\n",
    "SELECT \n",
    "    45 AS matchId, \n",
    "    (SELECT Result FROM Matches WHERE matchId = 37) AS TeamA, \n",
    "    (SELECT Result FROM Matches WHERE matchId = 38) AS TeamH,\n",
    "    (SELECT FLOOR(RAND() * 5) + 1) AS TeamHScore,\n",
    "    (SELECT FLOOR(RAND() * 5) + 1) AS TeamAScore,\n",
    "    'draw' as Result,\n",
    "    'Quater Final' as stage\n",
    "UNION ALL\n",
    "SELECT \n",
    "    46 AS matchId, \n",
    "    (SELECT Result FROM Matches WHERE matchId = 39) AS TeamA, \n",
    "    (SELECT Result FROM Matches WHERE matchId = 40) AS TeamH,\n",
    "    (SELECT FLOOR(RAND() * 5) + 1) AS TeamHScore,\n",
    "    (SELECT FLOOR(RAND() * 5) + 1) AS TeamAScore,\n",
    "    'draw' as Result,\n",
    "    'Quater Final' as stage\n",
    "UNION ALL\n",
    "SELECT \n",
    "    47 AS matchId, \n",
    "    (SELECT Result FROM Matches WHERE matchId = 41) AS TeamH, \n",
    "    (SELECT Result FROM Matches WHERE matchId = 42) AS TeamA,\n",
    "    (SELECT FLOOR(RAND() * 5) + 1) AS TeamHScore,\n",
    "    (SELECT FLOOR(RAND() * 5) + 1) AS TeamAScore,\n",
    "    'draw' as Result,\n",
    "    'Quater Final' as stage\n",
    "UNION ALL\n",
    "SELECT \n",
    "    48 AS matchId, \n",
    "    (SELECT Result FROM Matches WHERE matchId = 43) AS TeamH, \n",
    "    (SELECT Result FROM Matches WHERE matchId = 44) AS TeamA,\n",
    "    (SELECT FLOOR(RAND() * 5) + 1) AS TeamHScore,\n",
    "    (SELECT FLOOR(RAND() * 5) + 1) AS TeamAScore,\n",
    "    'draw' as Result,\n",
    "    'Quater Final' as stage;"
   ]
  },
  {
   "cell_type": "code",
   "execution_count": 0,
   "metadata": {
    "application/vnd.databricks.v1+cell": {
     "cellMetadata": {
      "byteLimit": 2048000,
      "rowLimit": 10000
     },
     "inputWidgets": {},
     "nuid": "0c38d5f6-ee7b-4e7a-9e70-38fe3b41482b",
     "showTitle": false,
     "title": ""
    }
   },
   "outputs": [
    {
     "output_type": "display_data",
     "data": {
      "text/html": [
       "<style scoped>\n",
       "  .table-result-container {\n",
       "    max-height: 300px;\n",
       "    overflow: auto;\n",
       "  }\n",
       "  table, th, td {\n",
       "    border: 1px solid black;\n",
       "    border-collapse: collapse;\n",
       "  }\n",
       "  th, td {\n",
       "    padding: 5px;\n",
       "  }\n",
       "  th {\n",
       "    text-align: left;\n",
       "  }\n",
       "</style><div class='table-result-container'><table class='table-result'><thead style='background-color: white'><tr><th>matchId</th><th>TeamH</th><th>TeamA</th><th>TeamHScore</th><th>TeamAScore</th><th>Result</th><th>Stage</th></tr></thead><tbody><tr><td>1</td><td>Germany</td><td>Switzerland</td><td>5</td><td>5</td><td>draw</td><td>group stage</td></tr><tr><td>2</td><td>Germany</td><td>Hungary</td><td>4</td><td>1</td><td>Germany</td><td>group stage</td></tr><tr><td>3</td><td>Germany</td><td>Scotland</td><td>4</td><td>1</td><td>Germany</td><td>group stage</td></tr><tr><td>4</td><td>Scotland</td><td>Switzerland</td><td>3</td><td>2</td><td>Scotland</td><td>group stage</td></tr><tr><td>5</td><td>Scotland</td><td>Hungary</td><td>3</td><td>1</td><td>Scotland</td><td>group stage</td></tr><tr><td>6</td><td>Hungary</td><td>Switzerland</td><td>1</td><td>2</td><td>Switzerland</td><td>group stage</td></tr><tr><td>7</td><td>Spain</td><td>Albania</td><td>1</td><td>2</td><td>Albania</td><td>group stage</td></tr><tr><td>8</td><td>Spain</td><td>Italy</td><td>5</td><td>3</td><td>Spain</td><td>group stage</td></tr><tr><td>9</td><td>Spain</td><td>Croatia</td><td>3</td><td>2</td><td>Spain</td><td>group stage</td></tr><tr><td>10</td><td>Croatia</td><td>Albania</td><td>4</td><td>3</td><td>Croatia</td><td>group stage</td></tr><tr><td>11</td><td>Croatia</td><td>Italy</td><td>5</td><td>3</td><td>Croatia</td><td>group stage</td></tr><tr><td>12</td><td>Italy</td><td>Albania</td><td>4</td><td>2</td><td>Italy</td><td>group stage</td></tr><tr><td>13</td><td>Slovenia</td><td>England</td><td>1</td><td>4</td><td>England</td><td>group stage</td></tr><tr><td>14</td><td>Slovenia</td><td>Serbia</td><td>5</td><td>2</td><td>Slovenia</td><td>group stage</td></tr><tr><td>15</td><td>Slovenia</td><td>Denmark</td><td>3</td><td>5</td><td>Denmark</td><td>group stage</td></tr><tr><td>16</td><td>Denmark</td><td>England</td><td>2</td><td>1</td><td>Denmark</td><td>group stage</td></tr><tr><td>17</td><td>Denmark</td><td>Serbia</td><td>4</td><td>4</td><td>draw</td><td>group stage</td></tr><tr><td>18</td><td>Serbia</td><td>England</td><td>3</td><td>5</td><td>England</td><td>group stage</td></tr><tr><td>19</td><td>Play-off winner A</td><td>France</td><td>5</td><td>1</td><td>Play-off winner A</td><td>group stage</td></tr><tr><td>20</td><td>Play-off winner A</td><td>Austria</td><td>4</td><td>3</td><td>Play-off winner A</td><td>group stage</td></tr><tr><td>21</td><td>Play-off winner A</td><td>Netherlands</td><td>5</td><td>4</td><td>Play-off winner A</td><td>group stage</td></tr><tr><td>22</td><td>Netherlands</td><td>France</td><td>4</td><td>5</td><td>France</td><td>group stage</td></tr><tr><td>23</td><td>Netherlands</td><td>Austria</td><td>2</td><td>4</td><td>Austria</td><td>group stage</td></tr><tr><td>24</td><td>Austria</td><td>France</td><td>4</td><td>1</td><td>Austria</td><td>group stage</td></tr><tr><td>25</td><td>Belgium</td><td>Play-off winner B</td><td>1</td><td>5</td><td>Play-off winner B</td><td>group stage</td></tr><tr><td>26</td><td>Belgium</td><td>Romania</td><td>2</td><td>4</td><td>Romania</td><td>group stage</td></tr><tr><td>27</td><td>Belgium</td><td>Slovakia</td><td>5</td><td>4</td><td>Belgium</td><td>group stage</td></tr><tr><td>28</td><td>Slovakia</td><td>Play-off winner B</td><td>1</td><td>5</td><td>Play-off winner B</td><td>group stage</td></tr><tr><td>29</td><td>Slovakia</td><td>Romania</td><td>5</td><td>4</td><td>Slovakia</td><td>group stage</td></tr><tr><td>30</td><td>Romania</td><td>Play-off winner B</td><td>4</td><td>3</td><td>Romania</td><td>group stage</td></tr><tr><td>31</td><td>Turkey</td><td>Czech</td><td>2</td><td>2</td><td>draw</td><td>group stage</td></tr><tr><td>32</td><td>Turkey</td><td>Portugal</td><td>1</td><td>3</td><td>Portugal</td><td>group stage</td></tr><tr><td>33</td><td>Turkey</td><td>Play-off winner c</td><td>5</td><td>3</td><td>Turkey</td><td>group stage</td></tr><tr><td>34</td><td>Play-off winner c</td><td>Czech</td><td>2</td><td>5</td><td>Czech</td><td>group stage</td></tr><tr><td>35</td><td>Play-off winner c</td><td>Portugal</td><td>5</td><td>5</td><td>draw</td><td>group stage</td></tr><tr><td>36</td><td>Portugal</td><td>Czech</td><td>5</td><td>3</td><td>Portugal</td><td>group stage</td></tr><tr><td>37</td><td>Croatia</td><td>Switzerland</td><td>4</td><td>1</td><td>Croatia</td><td>Round of 16</td></tr><tr><td>38</td><td>Germany</td><td>England</td><td>5</td><td>1</td><td>Germany</td><td>Round of 16</td></tr><tr><td>39</td><td>Portugal</td><td>Slovenia</td><td>4</td><td>4</td><td>Portugal</td><td>Round of 16</td></tr><tr><td>40</td><td>Austria</td><td>Romania</td><td>1</td><td>2</td><td>Romania</td><td>Round of 16</td></tr><tr><td>41</td><td>Play-off winner B</td><td>Italy</td><td>2</td><td>1</td><td>Play-off winner B</td><td>Round of 16</td></tr><tr><td>42</td><td>Play-off winner A</td><td>Czech</td><td>1</td><td>3</td><td>Czech</td><td>Round of 16</td></tr><tr><td>43</td><td>Denmark</td><td>Turkey</td><td>1</td><td>5</td><td>Turkey</td><td>Round of 16</td></tr><tr><td>44</td><td>Scotland</td><td>Spain</td><td>1</td><td>3</td><td>Spain</td><td>Round of 16</td></tr><tr><td>45</td><td>Croatia</td><td>Germany</td><td>2</td><td>1</td><td>Croatia</td><td>Quater Final</td></tr><tr><td>46</td><td>Portugal</td><td>Romania</td><td>2</td><td>3</td><td>Romania</td><td>Quater Final</td></tr><tr><td>47</td><td>Play-off winner B</td><td>Czech</td><td>1</td><td>5</td><td>Czech</td><td>Quater Final</td></tr><tr><td>48</td><td>Turkey</td><td>Spain</td><td>1</td><td>3</td><td>Spain</td><td>Quater Final</td></tr></tbody></table></div>"
      ]
     },
     "metadata": {
      "application/vnd.databricks.v1+output": {
       "addedWidgets": {},
       "aggData": [],
       "aggError": "",
       "aggOverflow": false,
       "aggSchema": [],
       "aggSeriesLimitReached": false,
       "aggType": "",
       "arguments": {},
       "columnCustomDisplayInfos": {},
       "data": [
        [
         1,
         "Germany",
         "Switzerland",
         5,
         5,
         "draw",
         "group stage"
        ],
        [
         2,
         "Germany",
         "Hungary",
         4,
         1,
         "Germany",
         "group stage"
        ],
        [
         3,
         "Germany",
         "Scotland",
         4,
         1,
         "Germany",
         "group stage"
        ],
        [
         4,
         "Scotland",
         "Switzerland",
         3,
         2,
         "Scotland",
         "group stage"
        ],
        [
         5,
         "Scotland",
         "Hungary",
         3,
         1,
         "Scotland",
         "group stage"
        ],
        [
         6,
         "Hungary",
         "Switzerland",
         1,
         2,
         "Switzerland",
         "group stage"
        ],
        [
         7,
         "Spain",
         "Albania",
         1,
         2,
         "Albania",
         "group stage"
        ],
        [
         8,
         "Spain",
         "Italy",
         5,
         3,
         "Spain",
         "group stage"
        ],
        [
         9,
         "Spain",
         "Croatia",
         3,
         2,
         "Spain",
         "group stage"
        ],
        [
         10,
         "Croatia",
         "Albania",
         4,
         3,
         "Croatia",
         "group stage"
        ],
        [
         11,
         "Croatia",
         "Italy",
         5,
         3,
         "Croatia",
         "group stage"
        ],
        [
         12,
         "Italy",
         "Albania",
         4,
         2,
         "Italy",
         "group stage"
        ],
        [
         13,
         "Slovenia",
         "England",
         1,
         4,
         "England",
         "group stage"
        ],
        [
         14,
         "Slovenia",
         "Serbia",
         5,
         2,
         "Slovenia",
         "group stage"
        ],
        [
         15,
         "Slovenia",
         "Denmark",
         3,
         5,
         "Denmark",
         "group stage"
        ],
        [
         16,
         "Denmark",
         "England",
         2,
         1,
         "Denmark",
         "group stage"
        ],
        [
         17,
         "Denmark",
         "Serbia",
         4,
         4,
         "draw",
         "group stage"
        ],
        [
         18,
         "Serbia",
         "England",
         3,
         5,
         "England",
         "group stage"
        ],
        [
         19,
         "Play-off winner A",
         "France",
         5,
         1,
         "Play-off winner A",
         "group stage"
        ],
        [
         20,
         "Play-off winner A",
         "Austria",
         4,
         3,
         "Play-off winner A",
         "group stage"
        ],
        [
         21,
         "Play-off winner A",
         "Netherlands",
         5,
         4,
         "Play-off winner A",
         "group stage"
        ],
        [
         22,
         "Netherlands",
         "France",
         4,
         5,
         "France",
         "group stage"
        ],
        [
         23,
         "Netherlands",
         "Austria",
         2,
         4,
         "Austria",
         "group stage"
        ],
        [
         24,
         "Austria",
         "France",
         4,
         1,
         "Austria",
         "group stage"
        ],
        [
         25,
         "Belgium",
         "Play-off winner B",
         1,
         5,
         "Play-off winner B",
         "group stage"
        ],
        [
         26,
         "Belgium",
         "Romania",
         2,
         4,
         "Romania",
         "group stage"
        ],
        [
         27,
         "Belgium",
         "Slovakia",
         5,
         4,
         "Belgium",
         "group stage"
        ],
        [
         28,
         "Slovakia",
         "Play-off winner B",
         1,
         5,
         "Play-off winner B",
         "group stage"
        ],
        [
         29,
         "Slovakia",
         "Romania",
         5,
         4,
         "Slovakia",
         "group stage"
        ],
        [
         30,
         "Romania",
         "Play-off winner B",
         4,
         3,
         "Romania",
         "group stage"
        ],
        [
         31,
         "Turkey",
         "Czech",
         2,
         2,
         "draw",
         "group stage"
        ],
        [
         32,
         "Turkey",
         "Portugal",
         1,
         3,
         "Portugal",
         "group stage"
        ],
        [
         33,
         "Turkey",
         "Play-off winner c",
         5,
         3,
         "Turkey",
         "group stage"
        ],
        [
         34,
         "Play-off winner c",
         "Czech",
         2,
         5,
         "Czech",
         "group stage"
        ],
        [
         35,
         "Play-off winner c",
         "Portugal",
         5,
         5,
         "draw",
         "group stage"
        ],
        [
         36,
         "Portugal",
         "Czech",
         5,
         3,
         "Portugal",
         "group stage"
        ],
        [
         37,
         "Croatia",
         "Switzerland",
         4,
         1,
         "Croatia",
         "Round of 16"
        ],
        [
         38,
         "Germany",
         "England",
         5,
         1,
         "Germany",
         "Round of 16"
        ],
        [
         39,
         "Portugal",
         "Slovenia",
         4,
         4,
         "Portugal",
         "Round of 16"
        ],
        [
         40,
         "Austria",
         "Romania",
         1,
         2,
         "Romania",
         "Round of 16"
        ],
        [
         41,
         "Play-off winner B",
         "Italy",
         2,
         1,
         "Play-off winner B",
         "Round of 16"
        ],
        [
         42,
         "Play-off winner A",
         "Czech",
         1,
         3,
         "Czech",
         "Round of 16"
        ],
        [
         43,
         "Denmark",
         "Turkey",
         1,
         5,
         "Turkey",
         "Round of 16"
        ],
        [
         44,
         "Scotland",
         "Spain",
         1,
         3,
         "Spain",
         "Round of 16"
        ],
        [
         45,
         "Croatia",
         "Germany",
         2,
         1,
         "Croatia",
         "Quater Final"
        ],
        [
         46,
         "Portugal",
         "Romania",
         2,
         3,
         "Romania",
         "Quater Final"
        ],
        [
         47,
         "Play-off winner B",
         "Czech",
         1,
         5,
         "Czech",
         "Quater Final"
        ],
        [
         48,
         "Turkey",
         "Spain",
         1,
         3,
         "Spain",
         "Quater Final"
        ]
       ],
       "datasetInfos": [],
       "dbfsResultPath": null,
       "isJsonSchema": true,
       "metadata": {
        "isDbfsCommandResult": false
       },
       "overflow": false,
       "plotOptions": {
        "customPlotOptions": {},
        "displayType": "table",
        "pivotAggregation": null,
        "pivotColumns": null,
        "xColumns": null,
        "yColumns": null
       },
       "removedWidgets": [],
       "schema": [
        {
         "metadata": "{}",
         "name": "matchId",
         "type": "\"integer\""
        },
        {
         "metadata": "{\"__CHAR_VARCHAR_TYPE_STRING\":\"varchar(255)\"}",
         "name": "TeamH",
         "type": "\"string\""
        },
        {
         "metadata": "{\"__CHAR_VARCHAR_TYPE_STRING\":\"varchar(255)\"}",
         "name": "TeamA",
         "type": "\"string\""
        },
        {
         "metadata": "{}",
         "name": "TeamHScore",
         "type": "\"integer\""
        },
        {
         "metadata": "{}",
         "name": "TeamAScore",
         "type": "\"integer\""
        },
        {
         "metadata": "{\"__CHAR_VARCHAR_TYPE_STRING\":\"varchar(255)\"}",
         "name": "Result",
         "type": "\"string\""
        },
        {
         "metadata": "{\"__CHAR_VARCHAR_TYPE_STRING\":\"varchar(255)\"}",
         "name": "Stage",
         "type": "\"string\""
        }
       ],
       "type": "table"
      }
     },
     "output_type": "display_data"
    }
   ],
   "source": [
    "%sql\n",
    "UPDATE Matches\n",
    "SET Result = \n",
    "    CASE \n",
    "        WHEN TeamHscore > TeamAscore THEN TeamH\n",
    "        WHEN TeamHscore < TeamAscore THEN TeamA\n",
    "        ELSE \n",
    "            CASE \n",
    "                WHEN (TeamHscore + 1) % 2 = 1 THEN TeamH\n",
    "                ELSE TeamA\n",
    "            END\n",
    "    END\n",
    "where stage = 'Quater Final';\n",
    "\n",
    "select * from Matches\n",
    "order by matchId"
   ]
  },
  {
   "cell_type": "code",
   "execution_count": 0,
   "metadata": {
    "application/vnd.databricks.v1+cell": {
     "cellMetadata": {
      "byteLimit": 2048000,
      "rowLimit": 10000
     },
     "inputWidgets": {},
     "nuid": "5a624ae5-225c-4596-84a2-4f2c341bb059",
     "showTitle": false,
     "title": ""
    }
   },
   "outputs": [
    {
     "output_type": "display_data",
     "data": {
      "text/html": [
       "<style scoped>\n",
       "  .table-result-container {\n",
       "    max-height: 300px;\n",
       "    overflow: auto;\n",
       "  }\n",
       "  table, th, td {\n",
       "    border: 1px solid black;\n",
       "    border-collapse: collapse;\n",
       "  }\n",
       "  th, td {\n",
       "    padding: 5px;\n",
       "  }\n",
       "  th {\n",
       "    text-align: left;\n",
       "  }\n",
       "</style><div class='table-result-container'><table class='table-result'><thead style='background-color: white'><tr><th>num_affected_rows</th><th>num_inserted_rows</th></tr></thead><tbody><tr><td>2</td><td>2</td></tr></tbody></table></div>"
      ]
     },
     "metadata": {
      "application/vnd.databricks.v1+output": {
       "addedWidgets": {},
       "aggData": [],
       "aggError": "",
       "aggOverflow": false,
       "aggSchema": [],
       "aggSeriesLimitReached": false,
       "aggType": "",
       "arguments": {},
       "columnCustomDisplayInfos": {},
       "data": [
        [
         2,
         2
        ]
       ],
       "datasetInfos": [],
       "dbfsResultPath": null,
       "isJsonSchema": true,
       "metadata": {
        "isDbfsCommandResult": false
       },
       "overflow": false,
       "plotOptions": {
        "customPlotOptions": {},
        "displayType": "table",
        "pivotAggregation": null,
        "pivotColumns": null,
        "xColumns": null,
        "yColumns": null
       },
       "removedWidgets": [],
       "schema": [
        {
         "metadata": "{}",
         "name": "num_affected_rows",
         "type": "\"long\""
        },
        {
         "metadata": "{}",
         "name": "num_inserted_rows",
         "type": "\"long\""
        }
       ],
       "type": "table"
      }
     },
     "output_type": "display_data"
    }
   ],
   "source": [
    "%sql\n",
    "--Semi-Final Matches\n",
    "INSERT INTO Matches (matchId, TeamH, TeamA, TeamHScore, TeamAScore, Result, stage)\n",
    "SELECT \n",
    "    49 AS matchId, \n",
    "    (SELECT Result FROM Matches WHERE matchId = 45) AS TeamH, \n",
    "    (SELECT Result FROM Matches WHERE matchId = 46) AS TeamA,\n",
    "    (SELECT FLOOR(RAND() * 5) + 1) AS TeamHScore,\n",
    "    (SELECT FLOOR(RAND() * 5) + 1) AS TeamAScore,\n",
    "    'draw' as Result,\n",
    "    'Semi Final' as stage\n",
    "UNION ALL\n",
    "SELECT \n",
    "    50 AS matchId, \n",
    "    (SELECT Result FROM Matches WHERE matchId = 47) AS TeamH, \n",
    "    (SELECT Result FROM Matches WHERE matchId = 48) AS TeamA,\n",
    "    (SELECT FLOOR(RAND() * 5) + 1) AS TeamHScore,\n",
    "    (SELECT FLOOR(RAND() * 5) + 1) AS TeamAScore,\n",
    "    'draw' as Result,\n",
    "    'Semi Final' as stage;"
   ]
  },
  {
   "cell_type": "code",
   "execution_count": 0,
   "metadata": {
    "application/vnd.databricks.v1+cell": {
     "cellMetadata": {
      "byteLimit": 2048000,
      "rowLimit": 10000
     },
     "inputWidgets": {},
     "nuid": "b007841f-8f5d-40aa-a34f-46bcb503e119",
     "showTitle": false,
     "title": ""
    }
   },
   "outputs": [
    {
     "output_type": "display_data",
     "data": {
      "text/html": [
       "<style scoped>\n",
       "  .table-result-container {\n",
       "    max-height: 300px;\n",
       "    overflow: auto;\n",
       "  }\n",
       "  table, th, td {\n",
       "    border: 1px solid black;\n",
       "    border-collapse: collapse;\n",
       "  }\n",
       "  th, td {\n",
       "    padding: 5px;\n",
       "  }\n",
       "  th {\n",
       "    text-align: left;\n",
       "  }\n",
       "</style><div class='table-result-container'><table class='table-result'><thead style='background-color: white'><tr><th>matchId</th><th>TeamH</th><th>TeamA</th><th>TeamHScore</th><th>TeamAScore</th><th>Result</th><th>Stage</th></tr></thead><tbody><tr><td>1</td><td>Germany</td><td>Switzerland</td><td>5</td><td>5</td><td>draw</td><td>group stage</td></tr><tr><td>2</td><td>Germany</td><td>Hungary</td><td>4</td><td>1</td><td>Germany</td><td>group stage</td></tr><tr><td>3</td><td>Germany</td><td>Scotland</td><td>4</td><td>1</td><td>Germany</td><td>group stage</td></tr><tr><td>4</td><td>Scotland</td><td>Switzerland</td><td>3</td><td>2</td><td>Scotland</td><td>group stage</td></tr><tr><td>5</td><td>Scotland</td><td>Hungary</td><td>3</td><td>1</td><td>Scotland</td><td>group stage</td></tr><tr><td>6</td><td>Hungary</td><td>Switzerland</td><td>1</td><td>2</td><td>Switzerland</td><td>group stage</td></tr><tr><td>7</td><td>Spain</td><td>Albania</td><td>1</td><td>2</td><td>Albania</td><td>group stage</td></tr><tr><td>8</td><td>Spain</td><td>Italy</td><td>5</td><td>3</td><td>Spain</td><td>group stage</td></tr><tr><td>9</td><td>Spain</td><td>Croatia</td><td>3</td><td>2</td><td>Spain</td><td>group stage</td></tr><tr><td>10</td><td>Croatia</td><td>Albania</td><td>4</td><td>3</td><td>Croatia</td><td>group stage</td></tr><tr><td>11</td><td>Croatia</td><td>Italy</td><td>5</td><td>3</td><td>Croatia</td><td>group stage</td></tr><tr><td>12</td><td>Italy</td><td>Albania</td><td>4</td><td>2</td><td>Italy</td><td>group stage</td></tr><tr><td>13</td><td>Slovenia</td><td>England</td><td>1</td><td>4</td><td>England</td><td>group stage</td></tr><tr><td>14</td><td>Slovenia</td><td>Serbia</td><td>5</td><td>2</td><td>Slovenia</td><td>group stage</td></tr><tr><td>15</td><td>Slovenia</td><td>Denmark</td><td>3</td><td>5</td><td>Denmark</td><td>group stage</td></tr><tr><td>16</td><td>Denmark</td><td>England</td><td>2</td><td>1</td><td>Denmark</td><td>group stage</td></tr><tr><td>17</td><td>Denmark</td><td>Serbia</td><td>4</td><td>4</td><td>draw</td><td>group stage</td></tr><tr><td>18</td><td>Serbia</td><td>England</td><td>3</td><td>5</td><td>England</td><td>group stage</td></tr><tr><td>19</td><td>Play-off winner A</td><td>France</td><td>5</td><td>1</td><td>Play-off winner A</td><td>group stage</td></tr><tr><td>20</td><td>Play-off winner A</td><td>Austria</td><td>4</td><td>3</td><td>Play-off winner A</td><td>group stage</td></tr><tr><td>21</td><td>Play-off winner A</td><td>Netherlands</td><td>5</td><td>4</td><td>Play-off winner A</td><td>group stage</td></tr><tr><td>22</td><td>Netherlands</td><td>France</td><td>4</td><td>5</td><td>France</td><td>group stage</td></tr><tr><td>23</td><td>Netherlands</td><td>Austria</td><td>2</td><td>4</td><td>Austria</td><td>group stage</td></tr><tr><td>24</td><td>Austria</td><td>France</td><td>4</td><td>1</td><td>Austria</td><td>group stage</td></tr><tr><td>25</td><td>Belgium</td><td>Play-off winner B</td><td>1</td><td>5</td><td>Play-off winner B</td><td>group stage</td></tr><tr><td>26</td><td>Belgium</td><td>Romania</td><td>2</td><td>4</td><td>Romania</td><td>group stage</td></tr><tr><td>27</td><td>Belgium</td><td>Slovakia</td><td>5</td><td>4</td><td>Belgium</td><td>group stage</td></tr><tr><td>28</td><td>Slovakia</td><td>Play-off winner B</td><td>1</td><td>5</td><td>Play-off winner B</td><td>group stage</td></tr><tr><td>29</td><td>Slovakia</td><td>Romania</td><td>5</td><td>4</td><td>Slovakia</td><td>group stage</td></tr><tr><td>30</td><td>Romania</td><td>Play-off winner B</td><td>4</td><td>3</td><td>Romania</td><td>group stage</td></tr><tr><td>31</td><td>Turkey</td><td>Czech</td><td>2</td><td>2</td><td>draw</td><td>group stage</td></tr><tr><td>32</td><td>Turkey</td><td>Portugal</td><td>1</td><td>3</td><td>Portugal</td><td>group stage</td></tr><tr><td>33</td><td>Turkey</td><td>Play-off winner c</td><td>5</td><td>3</td><td>Turkey</td><td>group stage</td></tr><tr><td>34</td><td>Play-off winner c</td><td>Czech</td><td>2</td><td>5</td><td>Czech</td><td>group stage</td></tr><tr><td>35</td><td>Play-off winner c</td><td>Portugal</td><td>5</td><td>5</td><td>draw</td><td>group stage</td></tr><tr><td>36</td><td>Portugal</td><td>Czech</td><td>5</td><td>3</td><td>Portugal</td><td>group stage</td></tr><tr><td>37</td><td>Croatia</td><td>Switzerland</td><td>4</td><td>1</td><td>Croatia</td><td>Round of 16</td></tr><tr><td>38</td><td>Germany</td><td>England</td><td>5</td><td>1</td><td>Germany</td><td>Round of 16</td></tr><tr><td>39</td><td>Portugal</td><td>Slovenia</td><td>4</td><td>4</td><td>Portugal</td><td>Round of 16</td></tr><tr><td>40</td><td>Austria</td><td>Romania</td><td>1</td><td>2</td><td>Romania</td><td>Round of 16</td></tr><tr><td>41</td><td>Play-off winner B</td><td>Italy</td><td>2</td><td>1</td><td>Play-off winner B</td><td>Round of 16</td></tr><tr><td>42</td><td>Play-off winner A</td><td>Czech</td><td>1</td><td>3</td><td>Czech</td><td>Round of 16</td></tr><tr><td>43</td><td>Denmark</td><td>Turkey</td><td>1</td><td>5</td><td>Turkey</td><td>Round of 16</td></tr><tr><td>44</td><td>Scotland</td><td>Spain</td><td>1</td><td>3</td><td>Spain</td><td>Round of 16</td></tr><tr><td>45</td><td>Croatia</td><td>Germany</td><td>2</td><td>1</td><td>Croatia</td><td>Quater Final</td></tr><tr><td>46</td><td>Portugal</td><td>Romania</td><td>2</td><td>3</td><td>Romania</td><td>Quater Final</td></tr><tr><td>47</td><td>Play-off winner B</td><td>Czech</td><td>1</td><td>5</td><td>Czech</td><td>Quater Final</td></tr><tr><td>48</td><td>Turkey</td><td>Spain</td><td>1</td><td>3</td><td>Spain</td><td>Quater Final</td></tr><tr><td>49</td><td>Croatia</td><td>Romania</td><td>3</td><td>1</td><td>Croatia</td><td>Semi Final</td></tr><tr><td>50</td><td>Czech</td><td>Spain</td><td>5</td><td>4</td><td>Czech</td><td>Semi Final</td></tr></tbody></table></div>"
      ]
     },
     "metadata": {
      "application/vnd.databricks.v1+output": {
       "addedWidgets": {},
       "aggData": [],
       "aggError": "",
       "aggOverflow": false,
       "aggSchema": [],
       "aggSeriesLimitReached": false,
       "aggType": "",
       "arguments": {},
       "columnCustomDisplayInfos": {},
       "data": [
        [
         1,
         "Germany",
         "Switzerland",
         5,
         5,
         "draw",
         "group stage"
        ],
        [
         2,
         "Germany",
         "Hungary",
         4,
         1,
         "Germany",
         "group stage"
        ],
        [
         3,
         "Germany",
         "Scotland",
         4,
         1,
         "Germany",
         "group stage"
        ],
        [
         4,
         "Scotland",
         "Switzerland",
         3,
         2,
         "Scotland",
         "group stage"
        ],
        [
         5,
         "Scotland",
         "Hungary",
         3,
         1,
         "Scotland",
         "group stage"
        ],
        [
         6,
         "Hungary",
         "Switzerland",
         1,
         2,
         "Switzerland",
         "group stage"
        ],
        [
         7,
         "Spain",
         "Albania",
         1,
         2,
         "Albania",
         "group stage"
        ],
        [
         8,
         "Spain",
         "Italy",
         5,
         3,
         "Spain",
         "group stage"
        ],
        [
         9,
         "Spain",
         "Croatia",
         3,
         2,
         "Spain",
         "group stage"
        ],
        [
         10,
         "Croatia",
         "Albania",
         4,
         3,
         "Croatia",
         "group stage"
        ],
        [
         11,
         "Croatia",
         "Italy",
         5,
         3,
         "Croatia",
         "group stage"
        ],
        [
         12,
         "Italy",
         "Albania",
         4,
         2,
         "Italy",
         "group stage"
        ],
        [
         13,
         "Slovenia",
         "England",
         1,
         4,
         "England",
         "group stage"
        ],
        [
         14,
         "Slovenia",
         "Serbia",
         5,
         2,
         "Slovenia",
         "group stage"
        ],
        [
         15,
         "Slovenia",
         "Denmark",
         3,
         5,
         "Denmark",
         "group stage"
        ],
        [
         16,
         "Denmark",
         "England",
         2,
         1,
         "Denmark",
         "group stage"
        ],
        [
         17,
         "Denmark",
         "Serbia",
         4,
         4,
         "draw",
         "group stage"
        ],
        [
         18,
         "Serbia",
         "England",
         3,
         5,
         "England",
         "group stage"
        ],
        [
         19,
         "Play-off winner A",
         "France",
         5,
         1,
         "Play-off winner A",
         "group stage"
        ],
        [
         20,
         "Play-off winner A",
         "Austria",
         4,
         3,
         "Play-off winner A",
         "group stage"
        ],
        [
         21,
         "Play-off winner A",
         "Netherlands",
         5,
         4,
         "Play-off winner A",
         "group stage"
        ],
        [
         22,
         "Netherlands",
         "France",
         4,
         5,
         "France",
         "group stage"
        ],
        [
         23,
         "Netherlands",
         "Austria",
         2,
         4,
         "Austria",
         "group stage"
        ],
        [
         24,
         "Austria",
         "France",
         4,
         1,
         "Austria",
         "group stage"
        ],
        [
         25,
         "Belgium",
         "Play-off winner B",
         1,
         5,
         "Play-off winner B",
         "group stage"
        ],
        [
         26,
         "Belgium",
         "Romania",
         2,
         4,
         "Romania",
         "group stage"
        ],
        [
         27,
         "Belgium",
         "Slovakia",
         5,
         4,
         "Belgium",
         "group stage"
        ],
        [
         28,
         "Slovakia",
         "Play-off winner B",
         1,
         5,
         "Play-off winner B",
         "group stage"
        ],
        [
         29,
         "Slovakia",
         "Romania",
         5,
         4,
         "Slovakia",
         "group stage"
        ],
        [
         30,
         "Romania",
         "Play-off winner B",
         4,
         3,
         "Romania",
         "group stage"
        ],
        [
         31,
         "Turkey",
         "Czech",
         2,
         2,
         "draw",
         "group stage"
        ],
        [
         32,
         "Turkey",
         "Portugal",
         1,
         3,
         "Portugal",
         "group stage"
        ],
        [
         33,
         "Turkey",
         "Play-off winner c",
         5,
         3,
         "Turkey",
         "group stage"
        ],
        [
         34,
         "Play-off winner c",
         "Czech",
         2,
         5,
         "Czech",
         "group stage"
        ],
        [
         35,
         "Play-off winner c",
         "Portugal",
         5,
         5,
         "draw",
         "group stage"
        ],
        [
         36,
         "Portugal",
         "Czech",
         5,
         3,
         "Portugal",
         "group stage"
        ],
        [
         37,
         "Croatia",
         "Switzerland",
         4,
         1,
         "Croatia",
         "Round of 16"
        ],
        [
         38,
         "Germany",
         "England",
         5,
         1,
         "Germany",
         "Round of 16"
        ],
        [
         39,
         "Portugal",
         "Slovenia",
         4,
         4,
         "Portugal",
         "Round of 16"
        ],
        [
         40,
         "Austria",
         "Romania",
         1,
         2,
         "Romania",
         "Round of 16"
        ],
        [
         41,
         "Play-off winner B",
         "Italy",
         2,
         1,
         "Play-off winner B",
         "Round of 16"
        ],
        [
         42,
         "Play-off winner A",
         "Czech",
         1,
         3,
         "Czech",
         "Round of 16"
        ],
        [
         43,
         "Denmark",
         "Turkey",
         1,
         5,
         "Turkey",
         "Round of 16"
        ],
        [
         44,
         "Scotland",
         "Spain",
         1,
         3,
         "Spain",
         "Round of 16"
        ],
        [
         45,
         "Croatia",
         "Germany",
         2,
         1,
         "Croatia",
         "Quater Final"
        ],
        [
         46,
         "Portugal",
         "Romania",
         2,
         3,
         "Romania",
         "Quater Final"
        ],
        [
         47,
         "Play-off winner B",
         "Czech",
         1,
         5,
         "Czech",
         "Quater Final"
        ],
        [
         48,
         "Turkey",
         "Spain",
         1,
         3,
         "Spain",
         "Quater Final"
        ],
        [
         49,
         "Croatia",
         "Romania",
         3,
         1,
         "Croatia",
         "Semi Final"
        ],
        [
         50,
         "Czech",
         "Spain",
         5,
         4,
         "Czech",
         "Semi Final"
        ]
       ],
       "datasetInfos": [],
       "dbfsResultPath": null,
       "isJsonSchema": true,
       "metadata": {
        "isDbfsCommandResult": false
       },
       "overflow": false,
       "plotOptions": {
        "customPlotOptions": {},
        "displayType": "table",
        "pivotAggregation": null,
        "pivotColumns": null,
        "xColumns": null,
        "yColumns": null
       },
       "removedWidgets": [],
       "schema": [
        {
         "metadata": "{}",
         "name": "matchId",
         "type": "\"integer\""
        },
        {
         "metadata": "{\"__CHAR_VARCHAR_TYPE_STRING\":\"varchar(255)\"}",
         "name": "TeamH",
         "type": "\"string\""
        },
        {
         "metadata": "{\"__CHAR_VARCHAR_TYPE_STRING\":\"varchar(255)\"}",
         "name": "TeamA",
         "type": "\"string\""
        },
        {
         "metadata": "{}",
         "name": "TeamHScore",
         "type": "\"integer\""
        },
        {
         "metadata": "{}",
         "name": "TeamAScore",
         "type": "\"integer\""
        },
        {
         "metadata": "{\"__CHAR_VARCHAR_TYPE_STRING\":\"varchar(255)\"}",
         "name": "Result",
         "type": "\"string\""
        },
        {
         "metadata": "{\"__CHAR_VARCHAR_TYPE_STRING\":\"varchar(255)\"}",
         "name": "Stage",
         "type": "\"string\""
        }
       ],
       "type": "table"
      }
     },
     "output_type": "display_data"
    }
   ],
   "source": [
    "%sql\n",
    "UPDATE Matches\n",
    "SET Result = \n",
    "    CASE \n",
    "        WHEN TeamHScore > TeamAScore THEN TeamH\n",
    "        WHEN TeamHScore < TeamAScore THEN TeamA\n",
    "        ELSE \n",
    "            CASE \n",
    "                WHEN (TeamHScore + 1) % 2 = 1 THEN TeamH\n",
    "                ELSE TeamA\n",
    "            END\n",
    "    END\n",
    "where stage = 'Semi Final';\n",
    "\n",
    "select * from Matches\n",
    "order by matchId"
   ]
  },
  {
   "cell_type": "code",
   "execution_count": 0,
   "metadata": {
    "application/vnd.databricks.v1+cell": {
     "cellMetadata": {
      "byteLimit": 2048000,
      "rowLimit": 10000
     },
     "inputWidgets": {},
     "nuid": "1dc36903-9e92-421f-89ee-e55e26726e4d",
     "showTitle": false,
     "title": ""
    }
   },
   "outputs": [
    {
     "output_type": "display_data",
     "data": {
      "text/html": [
       "<style scoped>\n",
       "  .table-result-container {\n",
       "    max-height: 300px;\n",
       "    overflow: auto;\n",
       "  }\n",
       "  table, th, td {\n",
       "    border: 1px solid black;\n",
       "    border-collapse: collapse;\n",
       "  }\n",
       "  th, td {\n",
       "    padding: 5px;\n",
       "  }\n",
       "  th {\n",
       "    text-align: left;\n",
       "  }\n",
       "</style><div class='table-result-container'><table class='table-result'><thead style='background-color: white'><tr><th>matchId</th><th>TeamH</th><th>TeamA</th><th>TeamHScore</th><th>TeamAScore</th><th>Result</th><th>Stage</th></tr></thead><tbody><tr><td>1</td><td>Germany</td><td>Switzerland</td><td>5</td><td>5</td><td>draw</td><td>group stage</td></tr><tr><td>2</td><td>Germany</td><td>Hungary</td><td>4</td><td>1</td><td>Germany</td><td>group stage</td></tr><tr><td>3</td><td>Germany</td><td>Scotland</td><td>4</td><td>1</td><td>Germany</td><td>group stage</td></tr><tr><td>4</td><td>Scotland</td><td>Switzerland</td><td>3</td><td>2</td><td>Scotland</td><td>group stage</td></tr><tr><td>5</td><td>Scotland</td><td>Hungary</td><td>3</td><td>1</td><td>Scotland</td><td>group stage</td></tr><tr><td>6</td><td>Hungary</td><td>Switzerland</td><td>1</td><td>2</td><td>Switzerland</td><td>group stage</td></tr><tr><td>7</td><td>Spain</td><td>Albania</td><td>1</td><td>2</td><td>Albania</td><td>group stage</td></tr><tr><td>8</td><td>Spain</td><td>Italy</td><td>5</td><td>3</td><td>Spain</td><td>group stage</td></tr><tr><td>9</td><td>Spain</td><td>Croatia</td><td>3</td><td>2</td><td>Spain</td><td>group stage</td></tr><tr><td>10</td><td>Croatia</td><td>Albania</td><td>4</td><td>3</td><td>Croatia</td><td>group stage</td></tr><tr><td>11</td><td>Croatia</td><td>Italy</td><td>5</td><td>3</td><td>Croatia</td><td>group stage</td></tr><tr><td>12</td><td>Italy</td><td>Albania</td><td>4</td><td>2</td><td>Italy</td><td>group stage</td></tr><tr><td>13</td><td>Slovenia</td><td>England</td><td>1</td><td>4</td><td>England</td><td>group stage</td></tr><tr><td>14</td><td>Slovenia</td><td>Serbia</td><td>5</td><td>2</td><td>Slovenia</td><td>group stage</td></tr><tr><td>15</td><td>Slovenia</td><td>Denmark</td><td>3</td><td>5</td><td>Denmark</td><td>group stage</td></tr><tr><td>16</td><td>Denmark</td><td>England</td><td>2</td><td>1</td><td>Denmark</td><td>group stage</td></tr><tr><td>17</td><td>Denmark</td><td>Serbia</td><td>4</td><td>4</td><td>draw</td><td>group stage</td></tr><tr><td>18</td><td>Serbia</td><td>England</td><td>3</td><td>5</td><td>England</td><td>group stage</td></tr><tr><td>19</td><td>Play-off winner A</td><td>France</td><td>5</td><td>1</td><td>Play-off winner A</td><td>group stage</td></tr><tr><td>20</td><td>Play-off winner A</td><td>Austria</td><td>4</td><td>3</td><td>Play-off winner A</td><td>group stage</td></tr><tr><td>21</td><td>Play-off winner A</td><td>Netherlands</td><td>5</td><td>4</td><td>Play-off winner A</td><td>group stage</td></tr><tr><td>22</td><td>Netherlands</td><td>France</td><td>4</td><td>5</td><td>France</td><td>group stage</td></tr><tr><td>23</td><td>Netherlands</td><td>Austria</td><td>2</td><td>4</td><td>Austria</td><td>group stage</td></tr><tr><td>24</td><td>Austria</td><td>France</td><td>4</td><td>1</td><td>Austria</td><td>group stage</td></tr><tr><td>25</td><td>Belgium</td><td>Play-off winner B</td><td>1</td><td>5</td><td>Play-off winner B</td><td>group stage</td></tr><tr><td>26</td><td>Belgium</td><td>Romania</td><td>2</td><td>4</td><td>Romania</td><td>group stage</td></tr><tr><td>27</td><td>Belgium</td><td>Slovakia</td><td>5</td><td>4</td><td>Belgium</td><td>group stage</td></tr><tr><td>28</td><td>Slovakia</td><td>Play-off winner B</td><td>1</td><td>5</td><td>Play-off winner B</td><td>group stage</td></tr><tr><td>29</td><td>Slovakia</td><td>Romania</td><td>5</td><td>4</td><td>Slovakia</td><td>group stage</td></tr><tr><td>30</td><td>Romania</td><td>Play-off winner B</td><td>4</td><td>3</td><td>Romania</td><td>group stage</td></tr><tr><td>31</td><td>Turkey</td><td>Czech</td><td>2</td><td>2</td><td>draw</td><td>group stage</td></tr><tr><td>32</td><td>Turkey</td><td>Portugal</td><td>1</td><td>3</td><td>Portugal</td><td>group stage</td></tr><tr><td>33</td><td>Turkey</td><td>Play-off winner c</td><td>5</td><td>3</td><td>Turkey</td><td>group stage</td></tr><tr><td>34</td><td>Play-off winner c</td><td>Czech</td><td>2</td><td>5</td><td>Czech</td><td>group stage</td></tr><tr><td>35</td><td>Play-off winner c</td><td>Portugal</td><td>5</td><td>5</td><td>draw</td><td>group stage</td></tr><tr><td>36</td><td>Portugal</td><td>Czech</td><td>5</td><td>3</td><td>Portugal</td><td>group stage</td></tr><tr><td>37</td><td>Croatia</td><td>Switzerland</td><td>4</td><td>1</td><td>Croatia</td><td>Round of 16</td></tr><tr><td>38</td><td>Germany</td><td>England</td><td>5</td><td>1</td><td>Germany</td><td>Round of 16</td></tr><tr><td>39</td><td>Portugal</td><td>Slovenia</td><td>4</td><td>4</td><td>Portugal</td><td>Round of 16</td></tr><tr><td>40</td><td>Austria</td><td>Romania</td><td>1</td><td>2</td><td>Romania</td><td>Round of 16</td></tr><tr><td>41</td><td>Play-off winner B</td><td>Italy</td><td>2</td><td>1</td><td>Play-off winner B</td><td>Round of 16</td></tr><tr><td>42</td><td>Play-off winner A</td><td>Czech</td><td>1</td><td>3</td><td>Czech</td><td>Round of 16</td></tr><tr><td>43</td><td>Denmark</td><td>Turkey</td><td>1</td><td>5</td><td>Turkey</td><td>Round of 16</td></tr><tr><td>44</td><td>Scotland</td><td>Spain</td><td>1</td><td>3</td><td>Spain</td><td>Round of 16</td></tr><tr><td>45</td><td>Croatia</td><td>Germany</td><td>2</td><td>1</td><td>Croatia</td><td>Quater Final</td></tr><tr><td>46</td><td>Portugal</td><td>Romania</td><td>2</td><td>3</td><td>Romania</td><td>Quater Final</td></tr><tr><td>47</td><td>Play-off winner B</td><td>Czech</td><td>1</td><td>5</td><td>Czech</td><td>Quater Final</td></tr><tr><td>48</td><td>Turkey</td><td>Spain</td><td>1</td><td>3</td><td>Spain</td><td>Quater Final</td></tr><tr><td>49</td><td>Croatia</td><td>Romania</td><td>3</td><td>1</td><td>Croatia</td><td>Semi Final</td></tr><tr><td>50</td><td>Czech</td><td>Spain</td><td>5</td><td>4</td><td>Czech</td><td>Semi Final</td></tr><tr><td>51</td><td>Romania</td><td>Spain</td><td>5</td><td>4</td><td>Romania</td><td>Third Place</td></tr></tbody></table></div>"
      ]
     },
     "metadata": {
      "application/vnd.databricks.v1+output": {
       "addedWidgets": {},
       "aggData": [],
       "aggError": "",
       "aggOverflow": false,
       "aggSchema": [],
       "aggSeriesLimitReached": false,
       "aggType": "",
       "arguments": {},
       "columnCustomDisplayInfos": {},
       "data": [
        [
         1,
         "Germany",
         "Switzerland",
         5,
         5,
         "draw",
         "group stage"
        ],
        [
         2,
         "Germany",
         "Hungary",
         4,
         1,
         "Germany",
         "group stage"
        ],
        [
         3,
         "Germany",
         "Scotland",
         4,
         1,
         "Germany",
         "group stage"
        ],
        [
         4,
         "Scotland",
         "Switzerland",
         3,
         2,
         "Scotland",
         "group stage"
        ],
        [
         5,
         "Scotland",
         "Hungary",
         3,
         1,
         "Scotland",
         "group stage"
        ],
        [
         6,
         "Hungary",
         "Switzerland",
         1,
         2,
         "Switzerland",
         "group stage"
        ],
        [
         7,
         "Spain",
         "Albania",
         1,
         2,
         "Albania",
         "group stage"
        ],
        [
         8,
         "Spain",
         "Italy",
         5,
         3,
         "Spain",
         "group stage"
        ],
        [
         9,
         "Spain",
         "Croatia",
         3,
         2,
         "Spain",
         "group stage"
        ],
        [
         10,
         "Croatia",
         "Albania",
         4,
         3,
         "Croatia",
         "group stage"
        ],
        [
         11,
         "Croatia",
         "Italy",
         5,
         3,
         "Croatia",
         "group stage"
        ],
        [
         12,
         "Italy",
         "Albania",
         4,
         2,
         "Italy",
         "group stage"
        ],
        [
         13,
         "Slovenia",
         "England",
         1,
         4,
         "England",
         "group stage"
        ],
        [
         14,
         "Slovenia",
         "Serbia",
         5,
         2,
         "Slovenia",
         "group stage"
        ],
        [
         15,
         "Slovenia",
         "Denmark",
         3,
         5,
         "Denmark",
         "group stage"
        ],
        [
         16,
         "Denmark",
         "England",
         2,
         1,
         "Denmark",
         "group stage"
        ],
        [
         17,
         "Denmark",
         "Serbia",
         4,
         4,
         "draw",
         "group stage"
        ],
        [
         18,
         "Serbia",
         "England",
         3,
         5,
         "England",
         "group stage"
        ],
        [
         19,
         "Play-off winner A",
         "France",
         5,
         1,
         "Play-off winner A",
         "group stage"
        ],
        [
         20,
         "Play-off winner A",
         "Austria",
         4,
         3,
         "Play-off winner A",
         "group stage"
        ],
        [
         21,
         "Play-off winner A",
         "Netherlands",
         5,
         4,
         "Play-off winner A",
         "group stage"
        ],
        [
         22,
         "Netherlands",
         "France",
         4,
         5,
         "France",
         "group stage"
        ],
        [
         23,
         "Netherlands",
         "Austria",
         2,
         4,
         "Austria",
         "group stage"
        ],
        [
         24,
         "Austria",
         "France",
         4,
         1,
         "Austria",
         "group stage"
        ],
        [
         25,
         "Belgium",
         "Play-off winner B",
         1,
         5,
         "Play-off winner B",
         "group stage"
        ],
        [
         26,
         "Belgium",
         "Romania",
         2,
         4,
         "Romania",
         "group stage"
        ],
        [
         27,
         "Belgium",
         "Slovakia",
         5,
         4,
         "Belgium",
         "group stage"
        ],
        [
         28,
         "Slovakia",
         "Play-off winner B",
         1,
         5,
         "Play-off winner B",
         "group stage"
        ],
        [
         29,
         "Slovakia",
         "Romania",
         5,
         4,
         "Slovakia",
         "group stage"
        ],
        [
         30,
         "Romania",
         "Play-off winner B",
         4,
         3,
         "Romania",
         "group stage"
        ],
        [
         31,
         "Turkey",
         "Czech",
         2,
         2,
         "draw",
         "group stage"
        ],
        [
         32,
         "Turkey",
         "Portugal",
         1,
         3,
         "Portugal",
         "group stage"
        ],
        [
         33,
         "Turkey",
         "Play-off winner c",
         5,
         3,
         "Turkey",
         "group stage"
        ],
        [
         34,
         "Play-off winner c",
         "Czech",
         2,
         5,
         "Czech",
         "group stage"
        ],
        [
         35,
         "Play-off winner c",
         "Portugal",
         5,
         5,
         "draw",
         "group stage"
        ],
        [
         36,
         "Portugal",
         "Czech",
         5,
         3,
         "Portugal",
         "group stage"
        ],
        [
         37,
         "Croatia",
         "Switzerland",
         4,
         1,
         "Croatia",
         "Round of 16"
        ],
        [
         38,
         "Germany",
         "England",
         5,
         1,
         "Germany",
         "Round of 16"
        ],
        [
         39,
         "Portugal",
         "Slovenia",
         4,
         4,
         "Portugal",
         "Round of 16"
        ],
        [
         40,
         "Austria",
         "Romania",
         1,
         2,
         "Romania",
         "Round of 16"
        ],
        [
         41,
         "Play-off winner B",
         "Italy",
         2,
         1,
         "Play-off winner B",
         "Round of 16"
        ],
        [
         42,
         "Play-off winner A",
         "Czech",
         1,
         3,
         "Czech",
         "Round of 16"
        ],
        [
         43,
         "Denmark",
         "Turkey",
         1,
         5,
         "Turkey",
         "Round of 16"
        ],
        [
         44,
         "Scotland",
         "Spain",
         1,
         3,
         "Spain",
         "Round of 16"
        ],
        [
         45,
         "Croatia",
         "Germany",
         2,
         1,
         "Croatia",
         "Quater Final"
        ],
        [
         46,
         "Portugal",
         "Romania",
         2,
         3,
         "Romania",
         "Quater Final"
        ],
        [
         47,
         "Play-off winner B",
         "Czech",
         1,
         5,
         "Czech",
         "Quater Final"
        ],
        [
         48,
         "Turkey",
         "Spain",
         1,
         3,
         "Spain",
         "Quater Final"
        ],
        [
         49,
         "Croatia",
         "Romania",
         3,
         1,
         "Croatia",
         "Semi Final"
        ],
        [
         50,
         "Czech",
         "Spain",
         5,
         4,
         "Czech",
         "Semi Final"
        ],
        [
         51,
         "Romania",
         "Spain",
         5,
         4,
         "Romania",
         "Third Place"
        ]
       ],
       "datasetInfos": [],
       "dbfsResultPath": null,
       "isJsonSchema": true,
       "metadata": {
        "isDbfsCommandResult": false
       },
       "overflow": false,
       "plotOptions": {
        "customPlotOptions": {},
        "displayType": "table",
        "pivotAggregation": null,
        "pivotColumns": null,
        "xColumns": null,
        "yColumns": null
       },
       "removedWidgets": [],
       "schema": [
        {
         "metadata": "{}",
         "name": "matchId",
         "type": "\"integer\""
        },
        {
         "metadata": "{\"__CHAR_VARCHAR_TYPE_STRING\":\"varchar(255)\"}",
         "name": "TeamH",
         "type": "\"string\""
        },
        {
         "metadata": "{\"__CHAR_VARCHAR_TYPE_STRING\":\"varchar(255)\"}",
         "name": "TeamA",
         "type": "\"string\""
        },
        {
         "metadata": "{}",
         "name": "TeamHScore",
         "type": "\"integer\""
        },
        {
         "metadata": "{}",
         "name": "TeamAScore",
         "type": "\"integer\""
        },
        {
         "metadata": "{\"__CHAR_VARCHAR_TYPE_STRING\":\"varchar(255)\"}",
         "name": "Result",
         "type": "\"string\""
        },
        {
         "metadata": "{\"__CHAR_VARCHAR_TYPE_STRING\":\"varchar(255)\"}",
         "name": "Stage",
         "type": "\"string\""
        }
       ],
       "type": "table"
      }
     },
     "output_type": "display_data"
    }
   ],
   "source": [
    "%sql\n",
    "--Third-Place match\n",
    "INSERT INTO Matches (matchId, TeamH, TeamA, TeamHScore, TeamAScore, Result, stage)\n",
    "SELECT \n",
    "    51 AS matchId, \n",
    "    (SELECT Result FROM Matches WHERE stage='Quater Final' and Result not in (select Result FROM Matches WHERE stage='Semi Final') LIMIT 1 OFFSET 0) AS teamH, \n",
    "    (SELECT Result FROM Matches WHERE stage='Quater Final' and Result not in (select Result FROM Matches WHERE stage='Semi Final') LIMIT 1 OFFSET 1) AS team2,\n",
    "    (SELECT FLOOR(RAND() * 5) + 1) AS TeamHscore,\n",
    "    (SELECT FLOOR(RAND() * 5) + 1) AS TeamAScore,\n",
    "    'draw' as Result,\n",
    "    'Third Place' as stage;\n",
    "UPDATE Matches\n",
    "SET Result = \n",
    "    CASE \n",
    "        WHEN TeamHScore > TeamAScore THEN TeamH\n",
    "        WHEN TeamHScore < TeamAScore THEN TeamA\n",
    "        ELSE \n",
    "            CASE \n",
    "                WHEN (TeamHscore + 1) % 2 = 1 THEN TeamH\n",
    "                ELSE TeamA\n",
    "            END\n",
    "    END\n",
    "where stage = 'Third Place';\n",
    "\n",
    "select * from Matches\n",
    "order by matchId"
   ]
  },
  {
   "cell_type": "code",
   "execution_count": 0,
   "metadata": {
    "application/vnd.databricks.v1+cell": {
     "cellMetadata": {
      "byteLimit": 2048000,
      "rowLimit": 10000
     },
     "inputWidgets": {},
     "nuid": "5bd7818d-98bf-42cc-b6a6-71207e1ac6d2",
     "showTitle": false,
     "title": ""
    }
   },
   "outputs": [
    {
     "output_type": "display_data",
     "data": {
      "text/html": [
       "<style scoped>\n",
       "  .table-result-container {\n",
       "    max-height: 300px;\n",
       "    overflow: auto;\n",
       "  }\n",
       "  table, th, td {\n",
       "    border: 1px solid black;\n",
       "    border-collapse: collapse;\n",
       "  }\n",
       "  th, td {\n",
       "    padding: 5px;\n",
       "  }\n",
       "  th {\n",
       "    text-align: left;\n",
       "  }\n",
       "</style><div class='table-result-container'><table class='table-result'><thead style='background-color: white'><tr><th>matchId</th><th>TeamH</th><th>TeamA</th><th>TeamHScore</th><th>TeamAScore</th><th>Result</th><th>Stage</th></tr></thead><tbody><tr><td>1</td><td>Germany</td><td>Switzerland</td><td>5</td><td>5</td><td>draw</td><td>group stage</td></tr><tr><td>2</td><td>Germany</td><td>Hungary</td><td>4</td><td>1</td><td>Germany</td><td>group stage</td></tr><tr><td>3</td><td>Germany</td><td>Scotland</td><td>4</td><td>1</td><td>Germany</td><td>group stage</td></tr><tr><td>4</td><td>Scotland</td><td>Switzerland</td><td>3</td><td>2</td><td>Scotland</td><td>group stage</td></tr><tr><td>5</td><td>Scotland</td><td>Hungary</td><td>3</td><td>1</td><td>Scotland</td><td>group stage</td></tr><tr><td>6</td><td>Hungary</td><td>Switzerland</td><td>1</td><td>2</td><td>Switzerland</td><td>group stage</td></tr><tr><td>7</td><td>Spain</td><td>Albania</td><td>1</td><td>2</td><td>Albania</td><td>group stage</td></tr><tr><td>8</td><td>Spain</td><td>Italy</td><td>5</td><td>3</td><td>Spain</td><td>group stage</td></tr><tr><td>9</td><td>Spain</td><td>Croatia</td><td>3</td><td>2</td><td>Spain</td><td>group stage</td></tr><tr><td>10</td><td>Croatia</td><td>Albania</td><td>4</td><td>3</td><td>Croatia</td><td>group stage</td></tr><tr><td>11</td><td>Croatia</td><td>Italy</td><td>5</td><td>3</td><td>Croatia</td><td>group stage</td></tr><tr><td>12</td><td>Italy</td><td>Albania</td><td>4</td><td>2</td><td>Italy</td><td>group stage</td></tr><tr><td>13</td><td>Slovenia</td><td>England</td><td>1</td><td>4</td><td>England</td><td>group stage</td></tr><tr><td>14</td><td>Slovenia</td><td>Serbia</td><td>5</td><td>2</td><td>Slovenia</td><td>group stage</td></tr><tr><td>15</td><td>Slovenia</td><td>Denmark</td><td>3</td><td>5</td><td>Denmark</td><td>group stage</td></tr><tr><td>16</td><td>Denmark</td><td>England</td><td>2</td><td>1</td><td>Denmark</td><td>group stage</td></tr><tr><td>17</td><td>Denmark</td><td>Serbia</td><td>4</td><td>4</td><td>draw</td><td>group stage</td></tr><tr><td>18</td><td>Serbia</td><td>England</td><td>3</td><td>5</td><td>England</td><td>group stage</td></tr><tr><td>19</td><td>Play-off winner A</td><td>France</td><td>5</td><td>1</td><td>Play-off winner A</td><td>group stage</td></tr><tr><td>20</td><td>Play-off winner A</td><td>Austria</td><td>4</td><td>3</td><td>Play-off winner A</td><td>group stage</td></tr><tr><td>21</td><td>Play-off winner A</td><td>Netherlands</td><td>5</td><td>4</td><td>Play-off winner A</td><td>group stage</td></tr><tr><td>22</td><td>Netherlands</td><td>France</td><td>4</td><td>5</td><td>France</td><td>group stage</td></tr><tr><td>23</td><td>Netherlands</td><td>Austria</td><td>2</td><td>4</td><td>Austria</td><td>group stage</td></tr><tr><td>24</td><td>Austria</td><td>France</td><td>4</td><td>1</td><td>Austria</td><td>group stage</td></tr><tr><td>25</td><td>Belgium</td><td>Play-off winner B</td><td>1</td><td>5</td><td>Play-off winner B</td><td>group stage</td></tr><tr><td>26</td><td>Belgium</td><td>Romania</td><td>2</td><td>4</td><td>Romania</td><td>group stage</td></tr><tr><td>27</td><td>Belgium</td><td>Slovakia</td><td>5</td><td>4</td><td>Belgium</td><td>group stage</td></tr><tr><td>28</td><td>Slovakia</td><td>Play-off winner B</td><td>1</td><td>5</td><td>Play-off winner B</td><td>group stage</td></tr><tr><td>29</td><td>Slovakia</td><td>Romania</td><td>5</td><td>4</td><td>Slovakia</td><td>group stage</td></tr><tr><td>30</td><td>Romania</td><td>Play-off winner B</td><td>4</td><td>3</td><td>Romania</td><td>group stage</td></tr><tr><td>31</td><td>Turkey</td><td>Czech</td><td>2</td><td>2</td><td>draw</td><td>group stage</td></tr><tr><td>32</td><td>Turkey</td><td>Portugal</td><td>1</td><td>3</td><td>Portugal</td><td>group stage</td></tr><tr><td>33</td><td>Turkey</td><td>Play-off winner c</td><td>5</td><td>3</td><td>Turkey</td><td>group stage</td></tr><tr><td>34</td><td>Play-off winner c</td><td>Czech</td><td>2</td><td>5</td><td>Czech</td><td>group stage</td></tr><tr><td>35</td><td>Play-off winner c</td><td>Portugal</td><td>5</td><td>5</td><td>draw</td><td>group stage</td></tr><tr><td>36</td><td>Portugal</td><td>Czech</td><td>5</td><td>3</td><td>Portugal</td><td>group stage</td></tr><tr><td>37</td><td>Croatia</td><td>Switzerland</td><td>4</td><td>1</td><td>Croatia</td><td>Round of 16</td></tr><tr><td>38</td><td>Germany</td><td>England</td><td>5</td><td>1</td><td>Germany</td><td>Round of 16</td></tr><tr><td>39</td><td>Portugal</td><td>Slovenia</td><td>4</td><td>4</td><td>Portugal</td><td>Round of 16</td></tr><tr><td>40</td><td>Austria</td><td>Romania</td><td>1</td><td>2</td><td>Romania</td><td>Round of 16</td></tr><tr><td>41</td><td>Play-off winner B</td><td>Italy</td><td>2</td><td>1</td><td>Play-off winner B</td><td>Round of 16</td></tr><tr><td>42</td><td>Play-off winner A</td><td>Czech</td><td>1</td><td>3</td><td>Czech</td><td>Round of 16</td></tr><tr><td>43</td><td>Denmark</td><td>Turkey</td><td>1</td><td>5</td><td>Turkey</td><td>Round of 16</td></tr><tr><td>44</td><td>Scotland</td><td>Spain</td><td>1</td><td>3</td><td>Spain</td><td>Round of 16</td></tr><tr><td>45</td><td>Croatia</td><td>Germany</td><td>2</td><td>1</td><td>Croatia</td><td>Quater Final</td></tr><tr><td>46</td><td>Portugal</td><td>Romania</td><td>2</td><td>3</td><td>Romania</td><td>Quater Final</td></tr><tr><td>47</td><td>Play-off winner B</td><td>Czech</td><td>1</td><td>5</td><td>Czech</td><td>Quater Final</td></tr><tr><td>48</td><td>Turkey</td><td>Spain</td><td>1</td><td>3</td><td>Spain</td><td>Quater Final</td></tr><tr><td>49</td><td>Croatia</td><td>Romania</td><td>3</td><td>1</td><td>Croatia</td><td>Semi Final</td></tr><tr><td>50</td><td>Czech</td><td>Spain</td><td>5</td><td>4</td><td>Czech</td><td>Semi Final</td></tr><tr><td>51</td><td>Romania</td><td>Spain</td><td>5</td><td>4</td><td>Romania</td><td>Third Place</td></tr><tr><td>52</td><td>Croatia</td><td>Czech</td><td>5</td><td>1</td><td>Croatia</td><td>Final</td></tr></tbody></table></div>"
      ]
     },
     "metadata": {
      "application/vnd.databricks.v1+output": {
       "addedWidgets": {},
       "aggData": [],
       "aggError": "",
       "aggOverflow": false,
       "aggSchema": [],
       "aggSeriesLimitReached": false,
       "aggType": "",
       "arguments": {},
       "columnCustomDisplayInfos": {},
       "data": [
        [
         1,
         "Germany",
         "Switzerland",
         5,
         5,
         "draw",
         "group stage"
        ],
        [
         2,
         "Germany",
         "Hungary",
         4,
         1,
         "Germany",
         "group stage"
        ],
        [
         3,
         "Germany",
         "Scotland",
         4,
         1,
         "Germany",
         "group stage"
        ],
        [
         4,
         "Scotland",
         "Switzerland",
         3,
         2,
         "Scotland",
         "group stage"
        ],
        [
         5,
         "Scotland",
         "Hungary",
         3,
         1,
         "Scotland",
         "group stage"
        ],
        [
         6,
         "Hungary",
         "Switzerland",
         1,
         2,
         "Switzerland",
         "group stage"
        ],
        [
         7,
         "Spain",
         "Albania",
         1,
         2,
         "Albania",
         "group stage"
        ],
        [
         8,
         "Spain",
         "Italy",
         5,
         3,
         "Spain",
         "group stage"
        ],
        [
         9,
         "Spain",
         "Croatia",
         3,
         2,
         "Spain",
         "group stage"
        ],
        [
         10,
         "Croatia",
         "Albania",
         4,
         3,
         "Croatia",
         "group stage"
        ],
        [
         11,
         "Croatia",
         "Italy",
         5,
         3,
         "Croatia",
         "group stage"
        ],
        [
         12,
         "Italy",
         "Albania",
         4,
         2,
         "Italy",
         "group stage"
        ],
        [
         13,
         "Slovenia",
         "England",
         1,
         4,
         "England",
         "group stage"
        ],
        [
         14,
         "Slovenia",
         "Serbia",
         5,
         2,
         "Slovenia",
         "group stage"
        ],
        [
         15,
         "Slovenia",
         "Denmark",
         3,
         5,
         "Denmark",
         "group stage"
        ],
        [
         16,
         "Denmark",
         "England",
         2,
         1,
         "Denmark",
         "group stage"
        ],
        [
         17,
         "Denmark",
         "Serbia",
         4,
         4,
         "draw",
         "group stage"
        ],
        [
         18,
         "Serbia",
         "England",
         3,
         5,
         "England",
         "group stage"
        ],
        [
         19,
         "Play-off winner A",
         "France",
         5,
         1,
         "Play-off winner A",
         "group stage"
        ],
        [
         20,
         "Play-off winner A",
         "Austria",
         4,
         3,
         "Play-off winner A",
         "group stage"
        ],
        [
         21,
         "Play-off winner A",
         "Netherlands",
         5,
         4,
         "Play-off winner A",
         "group stage"
        ],
        [
         22,
         "Netherlands",
         "France",
         4,
         5,
         "France",
         "group stage"
        ],
        [
         23,
         "Netherlands",
         "Austria",
         2,
         4,
         "Austria",
         "group stage"
        ],
        [
         24,
         "Austria",
         "France",
         4,
         1,
         "Austria",
         "group stage"
        ],
        [
         25,
         "Belgium",
         "Play-off winner B",
         1,
         5,
         "Play-off winner B",
         "group stage"
        ],
        [
         26,
         "Belgium",
         "Romania",
         2,
         4,
         "Romania",
         "group stage"
        ],
        [
         27,
         "Belgium",
         "Slovakia",
         5,
         4,
         "Belgium",
         "group stage"
        ],
        [
         28,
         "Slovakia",
         "Play-off winner B",
         1,
         5,
         "Play-off winner B",
         "group stage"
        ],
        [
         29,
         "Slovakia",
         "Romania",
         5,
         4,
         "Slovakia",
         "group stage"
        ],
        [
         30,
         "Romania",
         "Play-off winner B",
         4,
         3,
         "Romania",
         "group stage"
        ],
        [
         31,
         "Turkey",
         "Czech",
         2,
         2,
         "draw",
         "group stage"
        ],
        [
         32,
         "Turkey",
         "Portugal",
         1,
         3,
         "Portugal",
         "group stage"
        ],
        [
         33,
         "Turkey",
         "Play-off winner c",
         5,
         3,
         "Turkey",
         "group stage"
        ],
        [
         34,
         "Play-off winner c",
         "Czech",
         2,
         5,
         "Czech",
         "group stage"
        ],
        [
         35,
         "Play-off winner c",
         "Portugal",
         5,
         5,
         "draw",
         "group stage"
        ],
        [
         36,
         "Portugal",
         "Czech",
         5,
         3,
         "Portugal",
         "group stage"
        ],
        [
         37,
         "Croatia",
         "Switzerland",
         4,
         1,
         "Croatia",
         "Round of 16"
        ],
        [
         38,
         "Germany",
         "England",
         5,
         1,
         "Germany",
         "Round of 16"
        ],
        [
         39,
         "Portugal",
         "Slovenia",
         4,
         4,
         "Portugal",
         "Round of 16"
        ],
        [
         40,
         "Austria",
         "Romania",
         1,
         2,
         "Romania",
         "Round of 16"
        ],
        [
         41,
         "Play-off winner B",
         "Italy",
         2,
         1,
         "Play-off winner B",
         "Round of 16"
        ],
        [
         42,
         "Play-off winner A",
         "Czech",
         1,
         3,
         "Czech",
         "Round of 16"
        ],
        [
         43,
         "Denmark",
         "Turkey",
         1,
         5,
         "Turkey",
         "Round of 16"
        ],
        [
         44,
         "Scotland",
         "Spain",
         1,
         3,
         "Spain",
         "Round of 16"
        ],
        [
         45,
         "Croatia",
         "Germany",
         2,
         1,
         "Croatia",
         "Quater Final"
        ],
        [
         46,
         "Portugal",
         "Romania",
         2,
         3,
         "Romania",
         "Quater Final"
        ],
        [
         47,
         "Play-off winner B",
         "Czech",
         1,
         5,
         "Czech",
         "Quater Final"
        ],
        [
         48,
         "Turkey",
         "Spain",
         1,
         3,
         "Spain",
         "Quater Final"
        ],
        [
         49,
         "Croatia",
         "Romania",
         3,
         1,
         "Croatia",
         "Semi Final"
        ],
        [
         50,
         "Czech",
         "Spain",
         5,
         4,
         "Czech",
         "Semi Final"
        ],
        [
         51,
         "Romania",
         "Spain",
         5,
         4,
         "Romania",
         "Third Place"
        ],
        [
         52,
         "Croatia",
         "Czech",
         5,
         1,
         "Croatia",
         "Final"
        ]
       ],
       "datasetInfos": [],
       "dbfsResultPath": null,
       "isJsonSchema": true,
       "metadata": {
        "isDbfsCommandResult": false
       },
       "overflow": false,
       "plotOptions": {
        "customPlotOptions": {},
        "displayType": "table",
        "pivotAggregation": null,
        "pivotColumns": null,
        "xColumns": null,
        "yColumns": null
       },
       "removedWidgets": [],
       "schema": [
        {
         "metadata": "{}",
         "name": "matchId",
         "type": "\"integer\""
        },
        {
         "metadata": "{\"__CHAR_VARCHAR_TYPE_STRING\":\"varchar(255)\"}",
         "name": "TeamH",
         "type": "\"string\""
        },
        {
         "metadata": "{\"__CHAR_VARCHAR_TYPE_STRING\":\"varchar(255)\"}",
         "name": "TeamA",
         "type": "\"string\""
        },
        {
         "metadata": "{}",
         "name": "TeamHScore",
         "type": "\"integer\""
        },
        {
         "metadata": "{}",
         "name": "TeamAScore",
         "type": "\"integer\""
        },
        {
         "metadata": "{\"__CHAR_VARCHAR_TYPE_STRING\":\"varchar(255)\"}",
         "name": "Result",
         "type": "\"string\""
        },
        {
         "metadata": "{\"__CHAR_VARCHAR_TYPE_STRING\":\"varchar(255)\"}",
         "name": "Stage",
         "type": "\"string\""
        }
       ],
       "type": "table"
      }
     },
     "output_type": "display_data"
    }
   ],
   "source": [
    "%sql\n",
    "--Final Match\n",
    "INSERT INTO Matches (matchId, TeamH, TeamA, TeamHScore, TeamAScore, Result, stage)\n",
    "SELECT \n",
    "    52 AS matchId, \n",
    "    (SELECT Result FROM Matches WHERE matchId = 49) AS TeamH, \n",
    "    (SELECT Result FROM Matches WHERE matchId = 50) AS TeamA,\n",
    "    (SELECT FLOOR(RAND() * 5) + 1) AS TeamHScore,\n",
    "    (SELECT FLOOR(RAND() * 5) + 1) AS TeamAScore,\n",
    "    'draw' as Result,\n",
    "    'Final' as stage;\n",
    "UPDATE Matches\n",
    "SET Result = \n",
    "    CASE \n",
    "        WHEN TeamHScore > TeamAScore THEN TeamH\n",
    "        WHEN TeamHScore < TeamAScore THEN TeamA\n",
    "        ELSE \n",
    "            CASE \n",
    "                WHEN (TeamHScore + 1) % 2 = 1 THEN TeamH\n",
    "                ELSE TeamA\n",
    "            END\n",
    "    END\n",
    "where stage = 'Final';\n",
    "\n",
    "select * from Matches\n",
    "order by matchId"
   ]
  },
  {
   "cell_type": "code",
   "execution_count": 0,
   "metadata": {
    "application/vnd.databricks.v1+cell": {
     "cellMetadata": {
      "byteLimit": 2048000,
      "rowLimit": 10000
     },
     "inputWidgets": {},
     "nuid": "a60f77b9-365b-4531-be88-ca422f2700cc",
     "showTitle": false,
     "title": ""
    }
   },
   "outputs": [
    {
     "output_type": "display_data",
     "data": {
      "text/html": [
       "<style scoped>\n",
       "  .table-result-container {\n",
       "    max-height: 300px;\n",
       "    overflow: auto;\n",
       "  }\n",
       "  table, th, td {\n",
       "    border: 1px solid black;\n",
       "    border-collapse: collapse;\n",
       "  }\n",
       "  th, td {\n",
       "    padding: 5px;\n",
       "  }\n",
       "  th {\n",
       "    text-align: left;\n",
       "  }\n",
       "</style><div class='table-result-container'><table class='table-result'><thead style='background-color: white'><tr><th>matchId</th><th>TeamH</th><th>TeamA</th><th>TeamHScore</th><th>TeamAScore</th><th>Result</th><th>Stage</th></tr></thead><tbody><tr><td>37</td><td>Croatia</td><td>Switzerland</td><td>4</td><td>1</td><td>Croatia</td><td>Round of 16</td></tr><tr><td>38</td><td>Germany</td><td>England</td><td>5</td><td>1</td><td>Germany</td><td>Round of 16</td></tr><tr><td>39</td><td>Portugal</td><td>Slovenia</td><td>4</td><td>4</td><td>Portugal</td><td>Round of 16</td></tr><tr><td>40</td><td>Austria</td><td>Romania</td><td>1</td><td>2</td><td>Romania</td><td>Round of 16</td></tr><tr><td>41</td><td>Play-off winner B</td><td>Italy</td><td>2</td><td>1</td><td>Play-off winner B</td><td>Round of 16</td></tr><tr><td>42</td><td>Play-off winner A</td><td>Czech</td><td>1</td><td>3</td><td>Czech</td><td>Round of 16</td></tr><tr><td>43</td><td>Denmark</td><td>Turkey</td><td>1</td><td>5</td><td>Turkey</td><td>Round of 16</td></tr><tr><td>44</td><td>Scotland</td><td>Spain</td><td>1</td><td>3</td><td>Spain</td><td>Round of 16</td></tr></tbody></table></div>"
      ]
     },
     "metadata": {
      "application/vnd.databricks.v1+output": {
       "addedWidgets": {},
       "aggData": [],
       "aggError": "",
       "aggOverflow": false,
       "aggSchema": [],
       "aggSeriesLimitReached": false,
       "aggType": "",
       "arguments": {},
       "columnCustomDisplayInfos": {},
       "data": [
        [
         37,
         "Croatia",
         "Switzerland",
         4,
         1,
         "Croatia",
         "Round of 16"
        ],
        [
         38,
         "Germany",
         "England",
         5,
         1,
         "Germany",
         "Round of 16"
        ],
        [
         39,
         "Portugal",
         "Slovenia",
         4,
         4,
         "Portugal",
         "Round of 16"
        ],
        [
         40,
         "Austria",
         "Romania",
         1,
         2,
         "Romania",
         "Round of 16"
        ],
        [
         41,
         "Play-off winner B",
         "Italy",
         2,
         1,
         "Play-off winner B",
         "Round of 16"
        ],
        [
         42,
         "Play-off winner A",
         "Czech",
         1,
         3,
         "Czech",
         "Round of 16"
        ],
        [
         43,
         "Denmark",
         "Turkey",
         1,
         5,
         "Turkey",
         "Round of 16"
        ],
        [
         44,
         "Scotland",
         "Spain",
         1,
         3,
         "Spain",
         "Round of 16"
        ]
       ],
       "datasetInfos": [],
       "dbfsResultPath": null,
       "isJsonSchema": true,
       "metadata": {
        "isDbfsCommandResult": false
       },
       "overflow": false,
       "plotOptions": {
        "customPlotOptions": {},
        "displayType": "table",
        "pivotAggregation": null,
        "pivotColumns": null,
        "xColumns": null,
        "yColumns": null
       },
       "removedWidgets": [],
       "schema": [
        {
         "metadata": "{}",
         "name": "matchId",
         "type": "\"integer\""
        },
        {
         "metadata": "{\"__CHAR_VARCHAR_TYPE_STRING\":\"varchar(255)\"}",
         "name": "TeamH",
         "type": "\"string\""
        },
        {
         "metadata": "{\"__CHAR_VARCHAR_TYPE_STRING\":\"varchar(255)\"}",
         "name": "TeamA",
         "type": "\"string\""
        },
        {
         "metadata": "{}",
         "name": "TeamHScore",
         "type": "\"integer\""
        },
        {
         "metadata": "{}",
         "name": "TeamAScore",
         "type": "\"integer\""
        },
        {
         "metadata": "{\"__CHAR_VARCHAR_TYPE_STRING\":\"varchar(255)\"}",
         "name": "Result",
         "type": "\"string\""
        },
        {
         "metadata": "{\"__CHAR_VARCHAR_TYPE_STRING\":\"varchar(255)\"}",
         "name": "Stage",
         "type": "\"string\""
        }
       ],
       "type": "table"
      }
     },
     "output_type": "display_data"
    }
   ],
   "source": [
    "%sql\n",
    "SELECT * FROM Matches where stage = 'Round of 16' ORDER BY matchId;"
   ]
  },
  {
   "cell_type": "code",
   "execution_count": 0,
   "metadata": {
    "application/vnd.databricks.v1+cell": {
     "cellMetadata": {
      "byteLimit": 2048000,
      "rowLimit": 10000
     },
     "inputWidgets": {},
     "nuid": "59946685-b781-4e12-a3e4-2dd9f8ca892b",
     "showTitle": false,
     "title": ""
    }
   },
   "outputs": [
    {
     "output_type": "display_data",
     "data": {
      "text/html": [
       "<style scoped>\n",
       "  .table-result-container {\n",
       "    max-height: 300px;\n",
       "    overflow: auto;\n",
       "  }\n",
       "  table, th, td {\n",
       "    border: 1px solid black;\n",
       "    border-collapse: collapse;\n",
       "  }\n",
       "  th, td {\n",
       "    padding: 5px;\n",
       "  }\n",
       "  th {\n",
       "    text-align: left;\n",
       "  }\n",
       "</style><div class='table-result-container'><table class='table-result'><thead style='background-color: white'><tr><th>matchId</th><th>TeamH</th><th>TeamA</th><th>TeamHScore</th><th>TeamAScore</th><th>Result</th><th>Stage</th></tr></thead><tbody><tr><td>45</td><td>Croatia</td><td>Germany</td><td>2</td><td>1</td><td>Croatia</td><td>Quater Final</td></tr><tr><td>46</td><td>Portugal</td><td>Romania</td><td>2</td><td>3</td><td>Romania</td><td>Quater Final</td></tr><tr><td>47</td><td>Play-off winner B</td><td>Czech</td><td>1</td><td>5</td><td>Czech</td><td>Quater Final</td></tr><tr><td>48</td><td>Turkey</td><td>Spain</td><td>1</td><td>3</td><td>Spain</td><td>Quater Final</td></tr></tbody></table></div>"
      ]
     },
     "metadata": {
      "application/vnd.databricks.v1+output": {
       "addedWidgets": {},
       "aggData": [],
       "aggError": "",
       "aggOverflow": false,
       "aggSchema": [],
       "aggSeriesLimitReached": false,
       "aggType": "",
       "arguments": {},
       "columnCustomDisplayInfos": {},
       "data": [
        [
         45,
         "Croatia",
         "Germany",
         2,
         1,
         "Croatia",
         "Quater Final"
        ],
        [
         46,
         "Portugal",
         "Romania",
         2,
         3,
         "Romania",
         "Quater Final"
        ],
        [
         47,
         "Play-off winner B",
         "Czech",
         1,
         5,
         "Czech",
         "Quater Final"
        ],
        [
         48,
         "Turkey",
         "Spain",
         1,
         3,
         "Spain",
         "Quater Final"
        ]
       ],
       "datasetInfos": [],
       "dbfsResultPath": null,
       "isJsonSchema": true,
       "metadata": {
        "isDbfsCommandResult": false
       },
       "overflow": false,
       "plotOptions": {
        "customPlotOptions": {},
        "displayType": "table",
        "pivotAggregation": null,
        "pivotColumns": null,
        "xColumns": null,
        "yColumns": null
       },
       "removedWidgets": [],
       "schema": [
        {
         "metadata": "{}",
         "name": "matchId",
         "type": "\"integer\""
        },
        {
         "metadata": "{\"__CHAR_VARCHAR_TYPE_STRING\":\"varchar(255)\"}",
         "name": "TeamH",
         "type": "\"string\""
        },
        {
         "metadata": "{\"__CHAR_VARCHAR_TYPE_STRING\":\"varchar(255)\"}",
         "name": "TeamA",
         "type": "\"string\""
        },
        {
         "metadata": "{}",
         "name": "TeamHScore",
         "type": "\"integer\""
        },
        {
         "metadata": "{}",
         "name": "TeamAScore",
         "type": "\"integer\""
        },
        {
         "metadata": "{\"__CHAR_VARCHAR_TYPE_STRING\":\"varchar(255)\"}",
         "name": "Result",
         "type": "\"string\""
        },
        {
         "metadata": "{\"__CHAR_VARCHAR_TYPE_STRING\":\"varchar(255)\"}",
         "name": "Stage",
         "type": "\"string\""
        }
       ],
       "type": "table"
      }
     },
     "output_type": "display_data"
    }
   ],
   "source": [
    "%sql\n",
    "SELECT * FROM Matches where stage = 'Quater Final' ORDER BY matchId;"
   ]
  },
  {
   "cell_type": "code",
   "execution_count": 0,
   "metadata": {
    "application/vnd.databricks.v1+cell": {
     "cellMetadata": {
      "byteLimit": 2048000,
      "rowLimit": 10000
     },
     "inputWidgets": {},
     "nuid": "62dad068-3d75-424f-8f11-8abb018f66fc",
     "showTitle": false,
     "title": ""
    }
   },
   "outputs": [
    {
     "output_type": "display_data",
     "data": {
      "text/html": [
       "<style scoped>\n",
       "  .table-result-container {\n",
       "    max-height: 300px;\n",
       "    overflow: auto;\n",
       "  }\n",
       "  table, th, td {\n",
       "    border: 1px solid black;\n",
       "    border-collapse: collapse;\n",
       "  }\n",
       "  th, td {\n",
       "    padding: 5px;\n",
       "  }\n",
       "  th {\n",
       "    text-align: left;\n",
       "  }\n",
       "</style><div class='table-result-container'><table class='table-result'><thead style='background-color: white'><tr><th>matchId</th><th>TeamH</th><th>TeamA</th><th>TeamHScore</th><th>TeamAScore</th><th>Result</th><th>Stage</th></tr></thead><tbody><tr><td>49</td><td>Croatia</td><td>Romania</td><td>3</td><td>1</td><td>Croatia</td><td>Semi Final</td></tr><tr><td>50</td><td>Czech</td><td>Spain</td><td>5</td><td>4</td><td>Czech</td><td>Semi Final</td></tr></tbody></table></div>"
      ]
     },
     "metadata": {
      "application/vnd.databricks.v1+output": {
       "addedWidgets": {},
       "aggData": [],
       "aggError": "",
       "aggOverflow": false,
       "aggSchema": [],
       "aggSeriesLimitReached": false,
       "aggType": "",
       "arguments": {},
       "columnCustomDisplayInfos": {},
       "data": [
        [
         49,
         "Croatia",
         "Romania",
         3,
         1,
         "Croatia",
         "Semi Final"
        ],
        [
         50,
         "Czech",
         "Spain",
         5,
         4,
         "Czech",
         "Semi Final"
        ]
       ],
       "datasetInfos": [],
       "dbfsResultPath": null,
       "isJsonSchema": true,
       "metadata": {
        "isDbfsCommandResult": false
       },
       "overflow": false,
       "plotOptions": {
        "customPlotOptions": {},
        "displayType": "table",
        "pivotAggregation": null,
        "pivotColumns": null,
        "xColumns": null,
        "yColumns": null
       },
       "removedWidgets": [],
       "schema": [
        {
         "metadata": "{}",
         "name": "matchId",
         "type": "\"integer\""
        },
        {
         "metadata": "{\"__CHAR_VARCHAR_TYPE_STRING\":\"varchar(255)\"}",
         "name": "TeamH",
         "type": "\"string\""
        },
        {
         "metadata": "{\"__CHAR_VARCHAR_TYPE_STRING\":\"varchar(255)\"}",
         "name": "TeamA",
         "type": "\"string\""
        },
        {
         "metadata": "{}",
         "name": "TeamHScore",
         "type": "\"integer\""
        },
        {
         "metadata": "{}",
         "name": "TeamAScore",
         "type": "\"integer\""
        },
        {
         "metadata": "{\"__CHAR_VARCHAR_TYPE_STRING\":\"varchar(255)\"}",
         "name": "Result",
         "type": "\"string\""
        },
        {
         "metadata": "{\"__CHAR_VARCHAR_TYPE_STRING\":\"varchar(255)\"}",
         "name": "Stage",
         "type": "\"string\""
        }
       ],
       "type": "table"
      }
     },
     "output_type": "display_data"
    }
   ],
   "source": [
    "%sql\n",
    "SELECT * FROM Matches where stage = 'Semi Final' ORDER BY matchId;"
   ]
  },
  {
   "cell_type": "code",
   "execution_count": 0,
   "metadata": {
    "application/vnd.databricks.v1+cell": {
     "cellMetadata": {
      "byteLimit": 2048000,
      "rowLimit": 10000
     },
     "inputWidgets": {},
     "nuid": "b59290ef-92a3-49fb-b788-7be24474a089",
     "showTitle": false,
     "title": ""
    }
   },
   "outputs": [
    {
     "output_type": "display_data",
     "data": {
      "text/html": [
       "<style scoped>\n",
       "  .table-result-container {\n",
       "    max-height: 300px;\n",
       "    overflow: auto;\n",
       "  }\n",
       "  table, th, td {\n",
       "    border: 1px solid black;\n",
       "    border-collapse: collapse;\n",
       "  }\n",
       "  th, td {\n",
       "    padding: 5px;\n",
       "  }\n",
       "  th {\n",
       "    text-align: left;\n",
       "  }\n",
       "</style><div class='table-result-container'><table class='table-result'><thead style='background-color: white'><tr><th>matchId</th><th>TeamH</th><th>TeamA</th><th>TeamHScore</th><th>TeamAScore</th><th>Result</th><th>Stage</th></tr></thead><tbody><tr><td>52</td><td>Croatia</td><td>Czech</td><td>5</td><td>1</td><td>Croatia</td><td>Final</td></tr></tbody></table></div>"
      ]
     },
     "metadata": {
      "application/vnd.databricks.v1+output": {
       "addedWidgets": {},
       "aggData": [],
       "aggError": "",
       "aggOverflow": false,
       "aggSchema": [],
       "aggSeriesLimitReached": false,
       "aggType": "",
       "arguments": {},
       "columnCustomDisplayInfos": {},
       "data": [
        [
         52,
         "Croatia",
         "Czech",
         5,
         1,
         "Croatia",
         "Final"
        ]
       ],
       "datasetInfos": [],
       "dbfsResultPath": null,
       "isJsonSchema": true,
       "metadata": {
        "isDbfsCommandResult": false
       },
       "overflow": false,
       "plotOptions": {
        "customPlotOptions": {},
        "displayType": "table",
        "pivotAggregation": null,
        "pivotColumns": null,
        "xColumns": null,
        "yColumns": null
       },
       "removedWidgets": [],
       "schema": [
        {
         "metadata": "{}",
         "name": "matchId",
         "type": "\"integer\""
        },
        {
         "metadata": "{\"__CHAR_VARCHAR_TYPE_STRING\":\"varchar(255)\"}",
         "name": "TeamH",
         "type": "\"string\""
        },
        {
         "metadata": "{\"__CHAR_VARCHAR_TYPE_STRING\":\"varchar(255)\"}",
         "name": "TeamA",
         "type": "\"string\""
        },
        {
         "metadata": "{}",
         "name": "TeamHScore",
         "type": "\"integer\""
        },
        {
         "metadata": "{}",
         "name": "TeamAScore",
         "type": "\"integer\""
        },
        {
         "metadata": "{\"__CHAR_VARCHAR_TYPE_STRING\":\"varchar(255)\"}",
         "name": "Result",
         "type": "\"string\""
        },
        {
         "metadata": "{\"__CHAR_VARCHAR_TYPE_STRING\":\"varchar(255)\"}",
         "name": "Stage",
         "type": "\"string\""
        }
       ],
       "type": "table"
      }
     },
     "output_type": "display_data"
    }
   ],
   "source": [
    "%sql\n",
    "SELECT * FROM Matches where stage = 'Final' ORDER BY matchId;"
   ]
  },
  {
   "cell_type": "code",
   "execution_count": 0,
   "metadata": {
    "application/vnd.databricks.v1+cell": {
     "cellMetadata": {
      "byteLimit": 2048000,
      "rowLimit": 10000
     },
     "inputWidgets": {},
     "nuid": "b6d4c646-8097-4bbd-9862-5a50f5b0bbb1",
     "showTitle": false,
     "title": ""
    }
   },
   "outputs": [
    {
     "output_type": "display_data",
     "data": {
      "application/vnd.databricks.v1+bamboolib_hint": "{\"pd.DataFrames\": [], \"version\": \"0.0.1\"}",
      "text/plain": []
     },
     "metadata": {},
     "output_type": "display_data"
    }
   ],
   "source": [
    "%python\n",
    "#import libraries\n",
    "import pandas as pd\n",
    "from pyspark.sql import SparkSession"
   ]
  },
  {
   "cell_type": "code",
   "execution_count": 0,
   "metadata": {
    "application/vnd.databricks.v1+cell": {
     "cellMetadata": {
      "byteLimit": 2048000,
      "rowLimit": 10000
     },
     "inputWidgets": {},
     "nuid": "c56100a6-77da-46a8-96ea-485f32b7aefe",
     "showTitle": false,
     "title": ""
    }
   },
   "outputs": [],
   "source": [
    "%python\n",
    "\n",
    "#Spark Session\n",
    "spark = SparkSession.builder.appName(\"Visualization\").getOrCreate()"
   ]
  },
  {
   "cell_type": "code",
   "execution_count": 0,
   "metadata": {
    "application/vnd.databricks.v1+cell": {
     "cellMetadata": {
      "byteLimit": 2048000,
      "rowLimit": 10000
     },
     "inputWidgets": {},
     "nuid": "1f488caf-90be-4762-b07c-a4ebbe1265ff",
     "showTitle": false,
     "title": ""
    }
   },
   "outputs": [
    {
     "output_type": "stream",
     "name": "stderr",
     "output_type": "stream",
     "text": [
      "<command-2920055657788540>:30: FutureWarning: The frame.append method is deprecated and will be removed from pandas in a future version. Use pandas.concat instead.\n  visualize_table_with_blanks = visualize_table_with_blanks.append(blank_rows, ignore_index = True)\n<command-2920055657788540>:35: FutureWarning: The frame.append method is deprecated and will be removed from pandas in a future version. Use pandas.concat instead.\n  visualize_table_with_blanks1 = visualize_table_with_blanks1.append(blank_rows, ignore_index = True)\n<command-2920055657788540>:40: FutureWarning: The frame.append method is deprecated and will be removed from pandas in a future version. Use pandas.concat instead.\n  visualize_table_with_blanks2 = visualize_table_with_blanks2.append(blank_rows, ignore_index = True)\n"
     ]
    }
   ],
   "source": [
    "%python\n",
    "\n",
    "groupRank = spark.sql(\"SELECT * FROM groupRank\")\n",
    "\n",
    "# Convert the DataFrame to a Pandas DataFrame\n",
    "groupRank_pandas = groupRank.toPandas()\n",
    "\n",
    "# Create visualize_table DataFrame with 'teamName' column dynamically\n",
    "visualize_table = pd.DataFrame({\n",
    "    'teamName': groupRank_pandas['teamName'],\n",
    "    'groupName': groupRank_pandas['groupName'],\n",
    "    'Standings': groupRank_pandas['Standings'],\n",
    "    'Points': groupRank_pandas['Points'],\n",
    "    'GD': groupRank_pandas['GD']\n",
    "})\n",
    "\n",
    "# Create a DataFrame with blank rows\n",
    "blank_rows = pd.DataFrame({'teamName': [''] * 1, 'groupName': [''] * 1, 'Standings': [''] * 1, 'Points': [''] * 1, 'GD': [''] * 1})\n",
    "\n",
    "# Initialize an empty list to store chunks of data\n",
    "chunks = []\n",
    "\n",
    "# Split the visualize_table DataFrame into chunks of 4 records\n",
    "for i in range(0, len(visualize_table), 4):\n",
    "    chunk = visualize_table.iloc[i:i+4]  # Get a chunk of 4 records\n",
    "    chunks.append(chunk)  # Append the chunk to the list\n",
    "    if i < len(visualize_table) - 4:\n",
    "        chunks.append(blank_rows)  # Append 2 blank rows after each chunk, except for the last chunk\n",
    "\n",
    "# Concatenate all chunks to create the final DataFrame\n",
    "visualize_table_with_blanks = pd.concat(chunks).reset_index(drop=True)\n",
    "visualize_table_with_blanks = visualize_table_with_blanks.append(blank_rows, ignore_index = True)\n",
    "half_length = len(visualize_table_with_blanks) // 2\n",
    "\n",
    "# Create visualize_quater_final1 DataFrame with 4 blank rows at the beginning\n",
    "visualize_table_with_blanks1 = pd.DataFrame(columns=['teamName','groupName','Standings','Points','GD'])\n",
    "visualize_table_with_blanks1 = visualize_table_with_blanks1.append(blank_rows, ignore_index = True)\n",
    "visualize_table_with_blanks1 = pd.concat([visualize_table_with_blanks1, visualize_table_with_blanks.iloc[:half_length]]).reset_index(drop=True)\n",
    "#visualize_table_with_blanks1 = visualize_table_with_blanks1.drop(visualize_table_with_blanks1.tail(2).index)\n",
    "visualize_table_with_blanks1['space'] = ''\n",
    "visualize_table_with_blanks2 = pd.DataFrame(columns=['teamName','groupName','Standings','Points','GD'])\n",
    "visualize_table_with_blanks2 = visualize_table_with_blanks2.append(blank_rows, ignore_index = True)\n",
    "visualize_table_with_blanks2 = pd.concat([visualize_table_with_blanks2, visualize_table_with_blanks.iloc[half_length:]]).reset_index(drop=True)\n",
    "\n"
   ]
  },
  {
   "cell_type": "code",
   "execution_count": 0,
   "metadata": {
    "application/vnd.databricks.v1+cell": {
     "cellMetadata": {
      "byteLimit": 2048000,
      "rowLimit": 10000
     },
     "inputWidgets": {},
     "nuid": "ef395449-6ca1-46e4-b19f-1e1049675475",
     "showTitle": false,
     "title": ""
    }
   },
   "outputs": [
    {
     "output_type": "stream",
     "name": "stderr",
     "output_type": "stream",
     "text": [
      "<command-2920055657788541>:4: FutureWarning: The frame.append method is deprecated and will be removed from pandas in a future version. Use pandas.concat instead.\n  visualize_table16 = visualize_table16.append({'Round of 16': ''}, ignore_index=True)\n<command-2920055657788541>:5: FutureWarning: The frame.append method is deprecated and will be removed from pandas in a future version. Use pandas.concat instead.\n  visualize_table16 = visualize_table16.append({'Round of 16': ''}, ignore_index=True)\n<command-2920055657788541>:7: FutureWarning: The frame.append method is deprecated and will be removed from pandas in a future version. Use pandas.concat instead.\n  visualize_table16 = visualize_table16.append({'Roundof 16': f\"{row['TeamH']} ({row['TeamHScore']})\"}, ignore_index=True)\n<command-2920055657788541>:8: FutureWarning: The frame.append method is deprecated and will be removed from pandas in a future version. Use pandas.concat instead.\n  visualize_table16 = visualize_table16.append({'Roundof 16': f\"{row['TeamA']} ({row['TeamAScore']})\"}, ignore_index=True)\n<command-2920055657788541>:11: FutureWarning: The frame.append method is deprecated and will be removed from pandas in a future version. Use pandas.concat instead.\n  visualize_table16 = visualize_table16.append({'Roundof 16': ''}, ignore_index=True)\n<command-2920055657788541>:12: FutureWarning: The frame.append method is deprecated and will be removed from pandas in a future version. Use pandas.concat instead.\n  visualize_table16 = visualize_table16.append({'Roundof 16': ''}, ignore_index=True)\n<command-2920055657788541>:7: FutureWarning: The frame.append method is deprecated and will be removed from pandas in a future version. Use pandas.concat instead.\n  visualize_table16 = visualize_table16.append({'Roundof 16': f\"{row['TeamH']} ({row['TeamHScore']})\"}, ignore_index=True)\n<command-2920055657788541>:8: FutureWarning: The frame.append method is deprecated and will be removed from pandas in a future version. Use pandas.concat instead.\n  visualize_table16 = visualize_table16.append({'Roundof 16': f\"{row['TeamA']} ({row['TeamAScore']})\"}, ignore_index=True)\n<command-2920055657788541>:11: FutureWarning: The frame.append method is deprecated and will be removed from pandas in a future version. Use pandas.concat instead.\n  visualize_table16 = visualize_table16.append({'Roundof 16': ''}, ignore_index=True)\n<command-2920055657788541>:12: FutureWarning: The frame.append method is deprecated and will be removed from pandas in a future version. Use pandas.concat instead.\n  visualize_table16 = visualize_table16.append({'Roundof 16': ''}, ignore_index=True)\n<command-2920055657788541>:7: FutureWarning: The frame.append method is deprecated and will be removed from pandas in a future version. Use pandas.concat instead.\n  visualize_table16 = visualize_table16.append({'Roundof 16': f\"{row['TeamH']} ({row['TeamHScore']})\"}, ignore_index=True)\n<command-2920055657788541>:8: FutureWarning: The frame.append method is deprecated and will be removed from pandas in a future version. Use pandas.concat instead.\n  visualize_table16 = visualize_table16.append({'Roundof 16': f\"{row['TeamA']} ({row['TeamAScore']})\"}, ignore_index=True)\n<command-2920055657788541>:11: FutureWarning: The frame.append method is deprecated and will be removed from pandas in a future version. Use pandas.concat instead.\n  visualize_table16 = visualize_table16.append({'Roundof 16': ''}, ignore_index=True)\n<command-2920055657788541>:12: FutureWarning: The frame.append method is deprecated and will be removed from pandas in a future version. Use pandas.concat instead.\n  visualize_table16 = visualize_table16.append({'Roundof 16': ''}, ignore_index=True)\n<command-2920055657788541>:7: FutureWarning: The frame.append method is deprecated and will be removed from pandas in a future version. Use pandas.concat instead.\n  visualize_table16 = visualize_table16.append({'Roundof 16': f\"{row['TeamH']} ({row['TeamHScore']})\"}, ignore_index=True)\n<command-2920055657788541>:8: FutureWarning: The frame.append method is deprecated and will be removed from pandas in a future version. Use pandas.concat instead.\n  visualize_table16 = visualize_table16.append({'Roundof 16': f\"{row['TeamA']} ({row['TeamAScore']})\"}, ignore_index=True)\n<command-2920055657788541>:11: FutureWarning: The frame.append method is deprecated and will be removed from pandas in a future version. Use pandas.concat instead.\n  visualize_table16 = visualize_table16.append({'Roundof 16': ''}, ignore_index=True)\n<command-2920055657788541>:12: FutureWarning: The frame.append method is deprecated and will be removed from pandas in a future version. Use pandas.concat instead.\n  visualize_table16 = visualize_table16.append({'Roundof 16': ''}, ignore_index=True)\n<command-2920055657788541>:7: FutureWarning: The frame.append method is deprecated and will be removed from pandas in a future version. Use pandas.concat instead.\n  visualize_table16 = visualize_table16.append({'Roundof 16': f\"{row['TeamH']} ({row['TeamHScore']})\"}, ignore_index=True)\n<command-2920055657788541>:8: FutureWarning: The frame.append method is deprecated and will be removed from pandas in a future version. Use pandas.concat instead.\n  visualize_table16 = visualize_table16.append({'Roundof 16': f\"{row['TeamA']} ({row['TeamAScore']})\"}, ignore_index=True)\n<command-2920055657788541>:11: FutureWarning: The frame.append method is deprecated and will be removed from pandas in a future version. Use pandas.concat instead.\n  visualize_table16 = visualize_table16.append({'Roundof 16': ''}, ignore_index=True)\n<command-2920055657788541>:12: FutureWarning: The frame.append method is deprecated and will be removed from pandas in a future version. Use pandas.concat instead.\n  visualize_table16 = visualize_table16.append({'Roundof 16': ''}, ignore_index=True)\n<command-2920055657788541>:7: FutureWarning: The frame.append method is deprecated and will be removed from pandas in a future version. Use pandas.concat instead.\n  visualize_table16 = visualize_table16.append({'Roundof 16': f\"{row['TeamH']} ({row['TeamHScore']})\"}, ignore_index=True)\n<command-2920055657788541>:8: FutureWarning: The frame.append method is deprecated and will be removed from pandas in a future version. Use pandas.concat instead.\n  visualize_table16 = visualize_table16.append({'Roundof 16': f\"{row['TeamA']} ({row['TeamAScore']})\"}, ignore_index=True)\n<command-2920055657788541>:11: FutureWarning: The frame.append method is deprecated and will be removed from pandas in a future version. Use pandas.concat instead.\n  visualize_table16 = visualize_table16.append({'Roundof 16': ''}, ignore_index=True)\n<command-2920055657788541>:12: FutureWarning: The frame.append method is deprecated and will be removed from pandas in a future version. Use pandas.concat instead.\n  visualize_table16 = visualize_table16.append({'Roundof 16': ''}, ignore_index=True)\n<command-2920055657788541>:7: FutureWarning: The frame.append method is deprecated and will be removed from pandas in a future version. Use pandas.concat instead.\n  visualize_table16 = visualize_table16.append({'Roundof 16': f\"{row['TeamH']} ({row['TeamHScore']})\"}, ignore_index=True)\n<command-2920055657788541>:8: FutureWarning: The frame.append method is deprecated and will be removed from pandas in a future version. Use pandas.concat instead.\n  visualize_table16 = visualize_table16.append({'Roundof 16': f\"{row['TeamA']} ({row['TeamAScore']})\"}, ignore_index=True)\n<command-2920055657788541>:11: FutureWarning: The frame.append method is deprecated and will be removed from pandas in a future version. Use pandas.concat instead.\n  visualize_table16 = visualize_table16.append({'Roundof 16': ''}, ignore_index=True)\n<command-2920055657788541>:12: FutureWarning: The frame.append method is deprecated and will be removed from pandas in a future version. Use pandas.concat instead.\n  visualize_table16 = visualize_table16.append({'Roundof 16': ''}, ignore_index=True)\n<command-2920055657788541>:7: FutureWarning: The frame.append method is deprecated and will be removed from pandas in a future version. Use pandas.concat instead.\n  visualize_table16 = visualize_table16.append({'Roundof 16': f\"{row['TeamH']} ({row['TeamHScore']})\"}, ignore_index=True)\n<command-2920055657788541>:8: FutureWarning: The frame.append method is deprecated and will be removed from pandas in a future version. Use pandas.concat instead.\n  visualize_table16 = visualize_table16.append({'Roundof 16': f\"{row['TeamA']} ({row['TeamAScore']})\"}, ignore_index=True)\n<command-2920055657788541>:11: FutureWarning: The frame.append method is deprecated and will be removed from pandas in a future version. Use pandas.concat instead.\n  visualize_table16 = visualize_table16.append({'Roundof 16': ''}, ignore_index=True)\n<command-2920055657788541>:12: FutureWarning: The frame.append method is deprecated and will be removed from pandas in a future version. Use pandas.concat instead.\n  visualize_table16 = visualize_table16.append({'Roundof 16': ''}, ignore_index=True)\n"
     ]
    }
   ],
   "source": [
    "%python\n",
    "RO16 = spark.sql(\"SELECT * FROM Matches WHERE stage = 'Round of 16' order by matchId\")\n",
    "RO16_pandas = RO16.toPandas()\n",
    "visualize_table16 = pd.DataFrame(columns=['Round of 16'])\n",
    "visualize_table16 = visualize_table16.append({'Round of 16': ''}, ignore_index=True)\n",
    "visualize_table16 = visualize_table16.append({'Round of 16': ''}, ignore_index=True)\n",
    "for index, row in RO16_pandas.iterrows():\n",
    "    visualize_table16 = visualize_table16.append({'Roundof 16': f\"{row['TeamH']} ({row['TeamHScore']})\"}, ignore_index=True)\n",
    "    visualize_table16 = visualize_table16.append({'Roundof 16': f\"{row['TeamA']} ({row['TeamAScore']})\"}, ignore_index=True)\n",
    "    \n",
    "    # Insert 2 blank rows after every record\n",
    "    visualize_table16 = visualize_table16.append({'Roundof 16': ''}, ignore_index=True)\n",
    "    visualize_table16 = visualize_table16.append({'Roundof 16': ''}, ignore_index=True)\n",
    "visualize_table16['space'] = ''\n",
    "\n",
    "split_index = len(visualize_table16) // 2 - 1\n",
    "\n",
    "# Split the final DataFrame into two halves\n",
    "visualize_table16pool1 = visualize_table16.iloc[:split_index].reset_index(drop=True)\n",
    "visualize_table16pool2 = visualize_table16.iloc[split_index:].reset_index(drop=True)\n",
    "visualize_table16pool2 = visualize_table16pool2.drop(visualize_table16pool2.tail(2).index)"
   ]
  },
  {
   "cell_type": "code",
   "execution_count": 0,
   "metadata": {
    "application/vnd.databricks.v1+cell": {
     "cellMetadata": {
      "byteLimit": 2048000,
      "rowLimit": 10000
     },
     "inputWidgets": {},
     "nuid": "2b49350d-0e91-4378-a8f7-696a6524fb33",
     "showTitle": false,
     "title": ""
    }
   },
   "outputs": [
    {
     "output_type": "stream",
     "name": "stderr",
     "output_type": "stream",
     "text": [
      "<command-2920055657788542>:7: FutureWarning: The frame.append method is deprecated and will be removed from pandas in a future version. Use pandas.concat instead.\n  visualize_score16 = visualize_score16.append({'teamscore': ''}, ignore_index=True)\n<command-2920055657788542>:7: FutureWarning: The frame.append method is deprecated and will be removed from pandas in a future version. Use pandas.concat instead.\n  visualize_score16 = visualize_score16.append({'teamscore': ''}, ignore_index=True)\n<command-2920055657788542>:7: FutureWarning: The frame.append method is deprecated and will be removed from pandas in a future version. Use pandas.concat instead.\n  visualize_score16 = visualize_score16.append({'teamscore': ''}, ignore_index=True)\n<command-2920055657788542>:7: FutureWarning: The frame.append method is deprecated and will be removed from pandas in a future version. Use pandas.concat instead.\n  visualize_score16 = visualize_score16.append({'teamscore': ''}, ignore_index=True)\n<command-2920055657788542>:10: FutureWarning: The frame.append method is deprecated and will be removed from pandas in a future version. Use pandas.concat instead.\n  visualize_score16 = visualize_score16.append({'teamscore': row['TeamHScore']}, ignore_index=True)\n<command-2920055657788542>:11: FutureWarning: The frame.append method is deprecated and will be removed from pandas in a future version. Use pandas.concat instead.\n  visualize_score16 = visualize_score16.append({'teamscore': row['TeamAScore']}, ignore_index=True)\n<command-2920055657788542>:13: FutureWarning: The frame.append method is deprecated and will be removed from pandas in a future version. Use pandas.concat instead.\n  visualize_score16 = visualize_score16.append({'teamscore': ''}, ignore_index=True)\n<command-2920055657788542>:13: FutureWarning: The frame.append method is deprecated and will be removed from pandas in a future version. Use pandas.concat instead.\n  visualize_score16 = visualize_score16.append({'teamscore': ''}, ignore_index=True)\n<command-2920055657788542>:13: FutureWarning: The frame.append method is deprecated and will be removed from pandas in a future version. Use pandas.concat instead.\n  visualize_score16 = visualize_score16.append({'teamscore': ''}, ignore_index=True)\n<command-2920055657788542>:13: FutureWarning: The frame.append method is deprecated and will be removed from pandas in a future version. Use pandas.concat instead.\n  visualize_score16 = visualize_score16.append({'teamscore': ''}, ignore_index=True)\n<command-2920055657788542>:13: FutureWarning: The frame.append method is deprecated and will be removed from pandas in a future version. Use pandas.concat instead.\n  visualize_score16 = visualize_score16.append({'teamscore': ''}, ignore_index=True)\n<command-2920055657788542>:13: FutureWarning: The frame.append method is deprecated and will be removed from pandas in a future version. Use pandas.concat instead.\n  visualize_score16 = visualize_score16.append({'teamscore': ''}, ignore_index=True)\n<command-2920055657788542>:10: FutureWarning: The frame.append method is deprecated and will be removed from pandas in a future version. Use pandas.concat instead.\n  visualize_score16 = visualize_score16.append({'teamscore': row['TeamHScore']}, ignore_index=True)\n<command-2920055657788542>:11: FutureWarning: The frame.append method is deprecated and will be removed from pandas in a future version. Use pandas.concat instead.\n  visualize_score16 = visualize_score16.append({'teamscore': row['TeamAScore']}, ignore_index=True)\n<command-2920055657788542>:13: FutureWarning: The frame.append method is deprecated and will be removed from pandas in a future version. Use pandas.concat instead.\n  visualize_score16 = visualize_score16.append({'teamscore': ''}, ignore_index=True)\n<command-2920055657788542>:13: FutureWarning: The frame.append method is deprecated and will be removed from pandas in a future version. Use pandas.concat instead.\n  visualize_score16 = visualize_score16.append({'teamscore': ''}, ignore_index=True)\n<command-2920055657788542>:13: FutureWarning: The frame.append method is deprecated and will be removed from pandas in a future version. Use pandas.concat instead.\n  visualize_score16 = visualize_score16.append({'teamscore': ''}, ignore_index=True)\n<command-2920055657788542>:13: FutureWarning: The frame.append method is deprecated and will be removed from pandas in a future version. Use pandas.concat instead.\n  visualize_score16 = visualize_score16.append({'teamscore': ''}, ignore_index=True)\n<command-2920055657788542>:13: FutureWarning: The frame.append method is deprecated and will be removed from pandas in a future version. Use pandas.concat instead.\n  visualize_score16 = visualize_score16.append({'teamscore': ''}, ignore_index=True)\n<command-2920055657788542>:13: FutureWarning: The frame.append method is deprecated and will be removed from pandas in a future version. Use pandas.concat instead.\n  visualize_score16 = visualize_score16.append({'teamscore': ''}, ignore_index=True)\n<command-2920055657788542>:10: FutureWarning: The frame.append method is deprecated and will be removed from pandas in a future version. Use pandas.concat instead.\n  visualize_score16 = visualize_score16.append({'teamscore': row['TeamHScore']}, ignore_index=True)\n<command-2920055657788542>:11: FutureWarning: The frame.append method is deprecated and will be removed from pandas in a future version. Use pandas.concat instead.\n  visualize_score16 = visualize_score16.append({'teamscore': row['TeamAScore']}, ignore_index=True)\n<command-2920055657788542>:13: FutureWarning: The frame.append method is deprecated and will be removed from pandas in a future version. Use pandas.concat instead.\n  visualize_score16 = visualize_score16.append({'teamscore': ''}, ignore_index=True)\n<command-2920055657788542>:13: FutureWarning: The frame.append method is deprecated and will be removed from pandas in a future version. Use pandas.concat instead.\n  visualize_score16 = visualize_score16.append({'teamscore': ''}, ignore_index=True)\n<command-2920055657788542>:13: FutureWarning: The frame.append method is deprecated and will be removed from pandas in a future version. Use pandas.concat instead.\n  visualize_score16 = visualize_score16.append({'teamscore': ''}, ignore_index=True)\n<command-2920055657788542>:13: FutureWarning: The frame.append method is deprecated and will be removed from pandas in a future version. Use pandas.concat instead.\n  visualize_score16 = visualize_score16.append({'teamscore': ''}, ignore_index=True)\n<command-2920055657788542>:13: FutureWarning: The frame.append method is deprecated and will be removed from pandas in a future version. Use pandas.concat instead.\n  visualize_score16 = visualize_score16.append({'teamscore': ''}, ignore_index=True)\n<command-2920055657788542>:13: FutureWarning: The frame.append method is deprecated and will be removed from pandas in a future version. Use pandas.concat instead.\n  visualize_score16 = visualize_score16.append({'teamscore': ''}, ignore_index=True)\n<command-2920055657788542>:10: FutureWarning: The frame.append method is deprecated and will be removed from pandas in a future version. Use pandas.concat instead.\n  visualize_score16 = visualize_score16.append({'teamscore': row['TeamHScore']}, ignore_index=True)\n<command-2920055657788542>:11: FutureWarning: The frame.append method is deprecated and will be removed from pandas in a future version. Use pandas.concat instead.\n  visualize_score16 = visualize_score16.append({'teamscore': row['TeamAScore']}, ignore_index=True)\n<command-2920055657788542>:13: FutureWarning: The frame.append method is deprecated and will be removed from pandas in a future version. Use pandas.concat instead.\n  visualize_score16 = visualize_score16.append({'teamscore': ''}, ignore_index=True)\n<command-2920055657788542>:13: FutureWarning: The frame.append method is deprecated and will be removed from pandas in a future version. Use pandas.concat instead.\n  visualize_score16 = visualize_score16.append({'teamscore': ''}, ignore_index=True)\n<command-2920055657788542>:13: FutureWarning: The frame.append method is deprecated and will be removed from pandas in a future version. Use pandas.concat instead.\n  visualize_score16 = visualize_score16.append({'teamscore': ''}, ignore_index=True)\n<command-2920055657788542>:13: FutureWarning: The frame.append method is deprecated and will be removed from pandas in a future version. Use pandas.concat instead.\n  visualize_score16 = visualize_score16.append({'teamscore': ''}, ignore_index=True)\n<command-2920055657788542>:13: FutureWarning: The frame.append method is deprecated and will be removed from pandas in a future version. Use pandas.concat instead.\n  visualize_score16 = visualize_score16.append({'teamscore': ''}, ignore_index=True)\n<command-2920055657788542>:13: FutureWarning: The frame.append method is deprecated and will be removed from pandas in a future version. Use pandas.concat instead.\n  visualize_score16 = visualize_score16.append({'teamscore': ''}, ignore_index=True)\n<command-2920055657788542>:20: FutureWarning: The frame.append method is deprecated and will be removed from pandas in a future version. Use pandas.concat instead.\n  visualize_quater_final = visualize_quater_final.append({'Quater Final': ''}, ignore_index=True)\n<command-2920055657788542>:20: FutureWarning: The frame.append method is deprecated and will be removed from pandas in a future version. Use pandas.concat instead.\n  visualize_quater_final = visualize_quater_final.append({'Quater Final': ''}, ignore_index=True)\n<command-2920055657788542>:20: FutureWarning: The frame.append method is deprecated and will be removed from pandas in a future version. Use pandas.concat instead.\n  visualize_quater_final = visualize_quater_final.append({'Quater Final': ''}, ignore_index=True)\n<command-2920055657788542>:20: FutureWarning: The frame.append method is deprecated and will be removed from pandas in a future version. Use pandas.concat instead.\n  visualize_quater_final = visualize_quater_final.append({'Quater Final': ''}, ignore_index=True)\n<command-2920055657788542>:23: FutureWarning: The frame.append method is deprecated and will be removed from pandas in a future version. Use pandas.concat instead.\n  visualize_quater_final = visualize_quater_final.append({'Quater Final': row['Result']}, ignore_index=True)\n<command-2920055657788542>:23: FutureWarning: The frame.append method is deprecated and will be removed from pandas in a future version. Use pandas.concat instead.\n  visualize_quater_final = visualize_quater_final.append({'Quater Final': row['Result']}, ignore_index=True)\n<command-2920055657788542>:28: FutureWarning: The frame.append method is deprecated and will be removed from pandas in a future version. Use pandas.concat instead.\n  visualize_quater_final = visualize_quater_final.append({'Quater Final': ''}, ignore_index=True)\n<command-2920055657788542>:28: FutureWarning: The frame.append method is deprecated and will be removed from pandas in a future version. Use pandas.concat instead.\n  visualize_quater_final = visualize_quater_final.append({'Quater Final': ''}, ignore_index=True)\n<command-2920055657788542>:28: FutureWarning: The frame.append method is deprecated and will be removed from pandas in a future version. Use pandas.concat instead.\n  visualize_quater_final = visualize_quater_final.append({'Quater Final': ''}, ignore_index=True)\n<command-2920055657788542>:28: FutureWarning: The frame.append method is deprecated and will be removed from pandas in a future version. Use pandas.concat instead.\n  visualize_quater_final = visualize_quater_final.append({'Quater Final': ''}, ignore_index=True)\n<command-2920055657788542>:28: FutureWarning: The frame.append method is deprecated and will be removed from pandas in a future version. Use pandas.concat instead.\n  visualize_quater_final = visualize_quater_final.append({'Quater Final': ''}, ignore_index=True)\n<command-2920055657788542>:28: FutureWarning: The frame.append method is deprecated and will be removed from pandas in a future version. Use pandas.concat instead.\n  visualize_quater_final = visualize_quater_final.append({'Quater Final': ''}, ignore_index=True)\n<command-2920055657788542>:23: FutureWarning: The frame.append method is deprecated and will be removed from pandas in a future version. Use pandas.concat instead.\n  visualize_quater_final = visualize_quater_final.append({'Quater Final': row['Result']}, ignore_index=True)\n<command-2920055657788542>:23: FutureWarning: The frame.append method is deprecated and will be removed from pandas in a future version. Use pandas.concat instead.\n  visualize_quater_final = visualize_quater_final.append({'Quater Final': row['Result']}, ignore_index=True)\n<command-2920055657788542>:28: FutureWarning: The frame.append method is deprecated and will be removed from pandas in a future version. Use pandas.concat instead.\n  visualize_quater_final = visualize_quater_final.append({'Quater Final': ''}, ignore_index=True)\n<command-2920055657788542>:28: FutureWarning: The frame.append method is deprecated and will be removed from pandas in a future version. Use pandas.concat instead.\n  visualize_quater_final = visualize_quater_final.append({'Quater Final': ''}, ignore_index=True)\n<command-2920055657788542>:28: FutureWarning: The frame.append method is deprecated and will be removed from pandas in a future version. Use pandas.concat instead.\n  visualize_quater_final = visualize_quater_final.append({'Quater Final': ''}, ignore_index=True)\n<command-2920055657788542>:28: FutureWarning: The frame.append method is deprecated and will be removed from pandas in a future version. Use pandas.concat instead.\n  visualize_quater_final = visualize_quater_final.append({'Quater Final': ''}, ignore_index=True)\n<command-2920055657788542>:28: FutureWarning: The frame.append method is deprecated and will be removed from pandas in a future version. Use pandas.concat instead.\n  visualize_quater_final = visualize_quater_final.append({'Quater Final': ''}, ignore_index=True)\n<command-2920055657788542>:28: FutureWarning: The frame.append method is deprecated and will be removed from pandas in a future version. Use pandas.concat instead.\n  visualize_quater_final = visualize_quater_final.append({'Quater Final': ''}, ignore_index=True)\n<command-2920055657788542>:23: FutureWarning: The frame.append method is deprecated and will be removed from pandas in a future version. Use pandas.concat instead.\n  visualize_quater_final = visualize_quater_final.append({'Quater Final': row['Result']}, ignore_index=True)\n<command-2920055657788542>:23: FutureWarning: The frame.append method is deprecated and will be removed from pandas in a future version. Use pandas.concat instead.\n  visualize_quater_final = visualize_quater_final.append({'Quater Final': row['Result']}, ignore_index=True)\n<command-2920055657788542>:28: FutureWarning: The frame.append method is deprecated and will be removed from pandas in a future version. Use pandas.concat instead.\n  visualize_quater_final = visualize_quater_final.append({'Quater Final': ''}, ignore_index=True)\n<command-2920055657788542>:28: FutureWarning: The frame.append method is deprecated and will be removed from pandas in a future version. Use pandas.concat instead.\n  visualize_quater_final = visualize_quater_final.append({'Quater Final': ''}, ignore_index=True)\n<command-2920055657788542>:28: FutureWarning: The frame.append method is deprecated and will be removed from pandas in a future version. Use pandas.concat instead.\n  visualize_quater_final = visualize_quater_final.append({'Quater Final': ''}, ignore_index=True)\n<command-2920055657788542>:28: FutureWarning: The frame.append method is deprecated and will be removed from pandas in a future version. Use pandas.concat instead.\n  visualize_quater_final = visualize_quater_final.append({'Quater Final': ''}, ignore_index=True)\n<command-2920055657788542>:28: FutureWarning: The frame.append method is deprecated and will be removed from pandas in a future version. Use pandas.concat instead.\n  visualize_quater_final = visualize_quater_final.append({'Quater Final': ''}, ignore_index=True)\n<command-2920055657788542>:28: FutureWarning: The frame.append method is deprecated and will be removed from pandas in a future version. Use pandas.concat instead.\n  visualize_quater_final = visualize_quater_final.append({'Quater Final': ''}, ignore_index=True)\n<command-2920055657788542>:23: FutureWarning: The frame.append method is deprecated and will be removed from pandas in a future version. Use pandas.concat instead.\n  visualize_quater_final = visualize_quater_final.append({'Quater Final': row['Result']}, ignore_index=True)\n<command-2920055657788542>:23: FutureWarning: The frame.append method is deprecated and will be removed from pandas in a future version. Use pandas.concat instead.\n  visualize_quater_final = visualize_quater_final.append({'Quater Final': row['Result']}, ignore_index=True)\n<command-2920055657788542>:28: FutureWarning: The frame.append method is deprecated and will be removed from pandas in a future version. Use pandas.concat instead.\n  visualize_quater_final = visualize_quater_final.append({'Quater Final': ''}, ignore_index=True)\n<command-2920055657788542>:28: FutureWarning: The frame.append method is deprecated and will be removed from pandas in a future version. Use pandas.concat instead.\n  visualize_quater_final = visualize_quater_final.append({'Quater Final': ''}, ignore_index=True)\n<command-2920055657788542>:28: FutureWarning: The frame.append method is deprecated and will be removed from pandas in a future version. Use pandas.concat instead.\n  visualize_quater_final = visualize_quater_final.append({'Quater Final': ''}, ignore_index=True)\n<command-2920055657788542>:28: FutureWarning: The frame.append method is deprecated and will be removed from pandas in a future version. Use pandas.concat instead.\n  visualize_quater_final = visualize_quater_final.append({'Quater Final': ''}, ignore_index=True)\n<command-2920055657788542>:28: FutureWarning: The frame.append method is deprecated and will be removed from pandas in a future version. Use pandas.concat instead.\n  visualize_quater_final = visualize_quater_final.append({'Quater Final': ''}, ignore_index=True)\n<command-2920055657788542>:28: FutureWarning: The frame.append method is deprecated and will be removed from pandas in a future version. Use pandas.concat instead.\n  visualize_quater_final = visualize_quater_final.append({'Quater Final': ''}, ignore_index=True)\n"
     ]
    }
   ],
   "source": [
    "%python\n",
    "# quater final table view\n",
    "#Quater final score\n",
    "quater_final_score = spark.sql(\"SELECT * FROM Matches WHERE stage = 'Quater Final' ORDER BY matchId\")\n",
    "quater_final_score_pandas = quater_final_score.toPandas()\n",
    "visualize_score16 = pd.DataFrame(columns=['teamscore'])\n",
    "for i in range(4):\n",
    "    visualize_score16 = visualize_score16.append({'teamscore': ''}, ignore_index=True)\n",
    "for index, row in quater_final_score_pandas.iterrows():\n",
    "    # Insert two records\n",
    "    visualize_score16 = visualize_score16.append({'teamscore': row['TeamHScore']}, ignore_index=True)\n",
    "    visualize_score16 = visualize_score16.append({'teamscore': row['TeamAScore']}, ignore_index=True)\n",
    "    for i in range(6):\n",
    "        visualize_score16 = visualize_score16.append({'teamscore': ''}, ignore_index=True)\n",
    "visualize_score16 = visualize_score16.drop(visualize_score16.tail(3).index)\n",
    "\n",
    "quater_final = spark.sql(\"SELECT * FROM Matches WHERE stage = 'Round of 16' ORDER BY matchId\")\n",
    "quater_final_pandas = quater_final.toPandas()\n",
    "visualize_quater_final = pd.DataFrame(columns=['Quater Final'])\n",
    "for i in range(4):\n",
    "    visualize_quater_final = visualize_quater_final.append({'Quater Final': ''}, ignore_index=True)\n",
    "for index, row in quater_final_pandas.iterrows():\n",
    "    # Insert two records\n",
    "    visualize_quater_final = visualize_quater_final.append({'Quater Final': row['Result']}, ignore_index=True)\n",
    "    \n",
    "    # Insert 2 blank rows after every two records\n",
    "    if (index + 1) % 2 == 0:\n",
    "        for i in range(6):\n",
    "            visualize_quater_final = visualize_quater_final.append({'Quater Final': ''}, ignore_index=True)\n",
    "visualize_quater_final = visualize_quater_final.drop(visualize_quater_final.tail(3).index)\n",
    "\n",
    "# Concatenate the DataFrames\n",
    "visualize_quater_final = pd.concat([visualize_quater_final, visualize_score16], axis=1)\n",
    "\n",
    "visualize_quater_final['space'] = ''\n",
    "\n",
    "# Split the DataFrame into two halves\n",
    "half_length = len(visualize_quater_final) // 2\n",
    "\n",
    "visualize_quater_final1 = pd.DataFrame(columns=['Quater Final'])\n",
    "visualize_quater_final1 = pd.concat([visualize_quater_final1, visualize_quater_final.iloc[:half_length]]).reset_index(drop=True)\n",
    "\n",
    "visualize_quater_final2 = pd.DataFrame(columns=['Quater Final'])\n",
    "visualize_quater_final2 = pd.concat([visualize_quater_final2, visualize_quater_final.iloc[half_length:]]).reset_index(drop=True)\n",
    "visualize_quater_final2 = visualize_quater_final2.drop(visualize_quater_final2.tail(1).index)\n"
   ]
  },
  {
   "cell_type": "code",
   "execution_count": 0,
   "metadata": {
    "application/vnd.databricks.v1+cell": {
     "cellMetadata": {
      "byteLimit": 2048000,
      "rowLimit": 10000
     },
     "inputWidgets": {},
     "nuid": "fbbec784-7b7a-4387-ba2d-55ef60ce0865",
     "showTitle": false,
     "title": ""
    }
   },
   "outputs": [
    {
     "output_type": "stream",
     "name": "stderr",
     "output_type": "stream",
     "text": [
      "<command-2920055657788543>:6: FutureWarning: The frame.append method is deprecated and will be removed from pandas in a future version. Use pandas.concat instead.\n  visualize_score_semi = visualize_score_semi.append({'teamscoreSF': ''}, ignore_index=True)\n<command-2920055657788543>:6: FutureWarning: The frame.append method is deprecated and will be removed from pandas in a future version. Use pandas.concat instead.\n  visualize_score_semi = visualize_score_semi.append({'teamscoreSF': ''}, ignore_index=True)\n<command-2920055657788543>:6: FutureWarning: The frame.append method is deprecated and will be removed from pandas in a future version. Use pandas.concat instead.\n  visualize_score_semi = visualize_score_semi.append({'teamscoreSF': ''}, ignore_index=True)\n<command-2920055657788543>:6: FutureWarning: The frame.append method is deprecated and will be removed from pandas in a future version. Use pandas.concat instead.\n  visualize_score_semi = visualize_score_semi.append({'teamscoreSF': ''}, ignore_index=True)\n<command-2920055657788543>:6: FutureWarning: The frame.append method is deprecated and will be removed from pandas in a future version. Use pandas.concat instead.\n  visualize_score_semi = visualize_score_semi.append({'teamscoreSF': ''}, ignore_index=True)\n<command-2920055657788543>:6: FutureWarning: The frame.append method is deprecated and will be removed from pandas in a future version. Use pandas.concat instead.\n  visualize_score_semi = visualize_score_semi.append({'teamscoreSF': ''}, ignore_index=True)\n<command-2920055657788543>:6: FutureWarning: The frame.append method is deprecated and will be removed from pandas in a future version. Use pandas.concat instead.\n  visualize_score_semi = visualize_score_semi.append({'teamscoreSF': ''}, ignore_index=True)\n<command-2920055657788543>:6: FutureWarning: The frame.append method is deprecated and will be removed from pandas in a future version. Use pandas.concat instead.\n  visualize_score_semi = visualize_score_semi.append({'teamscoreSF': ''}, ignore_index=True)\n<command-2920055657788543>:8: FutureWarning: The frame.append method is deprecated and will be removed from pandas in a future version. Use pandas.concat instead.\n  visualize_score_semi = visualize_score_semi.append({'teamscoreSF': row['TeamHScore']}, ignore_index=True)\n<command-2920055657788543>:9: FutureWarning: The frame.append method is deprecated and will be removed from pandas in a future version. Use pandas.concat instead.\n  visualize_score_semi = visualize_score_semi.append({'teamscoreSF': row['TeamAScore']}, ignore_index=True)\n<command-2920055657788543>:11: FutureWarning: The frame.append method is deprecated and will be removed from pandas in a future version. Use pandas.concat instead.\n  visualize_score_semi = visualize_score_semi.append({'teamscoreSF': ''}, ignore_index=True)\n<command-2920055657788543>:11: FutureWarning: The frame.append method is deprecated and will be removed from pandas in a future version. Use pandas.concat instead.\n  visualize_score_semi = visualize_score_semi.append({'teamscoreSF': ''}, ignore_index=True)\n<command-2920055657788543>:8: FutureWarning: The frame.append method is deprecated and will be removed from pandas in a future version. Use pandas.concat instead.\n  visualize_score_semi = visualize_score_semi.append({'teamscoreSF': row['TeamHScore']}, ignore_index=True)\n<command-2920055657788543>:9: FutureWarning: The frame.append method is deprecated and will be removed from pandas in a future version. Use pandas.concat instead.\n  visualize_score_semi = visualize_score_semi.append({'teamscoreSF': row['TeamAScore']}, ignore_index=True)\n<command-2920055657788543>:11: FutureWarning: The frame.append method is deprecated and will be removed from pandas in a future version. Use pandas.concat instead.\n  visualize_score_semi = visualize_score_semi.append({'teamscoreSF': ''}, ignore_index=True)\n<command-2920055657788543>:11: FutureWarning: The frame.append method is deprecated and will be removed from pandas in a future version. Use pandas.concat instead.\n  visualize_score_semi = visualize_score_semi.append({'teamscoreSF': ''}, ignore_index=True)\n<command-2920055657788543>:13: FutureWarning: The frame.append method is deprecated and will be removed from pandas in a future version. Use pandas.concat instead.\n  visualize_score_semi = visualize_score_semi.append({'teamscoreSF': ''}, ignore_index=True)\n<command-2920055657788543>:13: FutureWarning: The frame.append method is deprecated and will be removed from pandas in a future version. Use pandas.concat instead.\n  visualize_score_semi = visualize_score_semi.append({'teamscoreSF': ''}, ignore_index=True)\n<command-2920055657788543>:13: FutureWarning: The frame.append method is deprecated and will be removed from pandas in a future version. Use pandas.concat instead.\n  visualize_score_semi = visualize_score_semi.append({'teamscoreSF': ''}, ignore_index=True)\n<command-2920055657788543>:13: FutureWarning: The frame.append method is deprecated and will be removed from pandas in a future version. Use pandas.concat instead.\n  visualize_score_semi = visualize_score_semi.append({'teamscoreSF': ''}, ignore_index=True)\n<command-2920055657788543>:13: FutureWarning: The frame.append method is deprecated and will be removed from pandas in a future version. Use pandas.concat instead.\n  visualize_score_semi = visualize_score_semi.append({'teamscoreSF': ''}, ignore_index=True)\n<command-2920055657788543>:13: FutureWarning: The frame.append method is deprecated and will be removed from pandas in a future version. Use pandas.concat instead.\n  visualize_score_semi = visualize_score_semi.append({'teamscoreSF': ''}, ignore_index=True)\n<command-2920055657788543>:21: FutureWarning: The frame.append method is deprecated and will be removed from pandas in a future version. Use pandas.concat instead.\n  visualize_semi_final = visualize_semi_final.append({'semi Final': ''}, ignore_index=True)\n<command-2920055657788543>:21: FutureWarning: The frame.append method is deprecated and will be removed from pandas in a future version. Use pandas.concat instead.\n  visualize_semi_final = visualize_semi_final.append({'semi Final': ''}, ignore_index=True)\n<command-2920055657788543>:21: FutureWarning: The frame.append method is deprecated and will be removed from pandas in a future version. Use pandas.concat instead.\n  visualize_semi_final = visualize_semi_final.append({'semi Final': ''}, ignore_index=True)\n<command-2920055657788543>:21: FutureWarning: The frame.append method is deprecated and will be removed from pandas in a future version. Use pandas.concat instead.\n  visualize_semi_final = visualize_semi_final.append({'semi Final': ''}, ignore_index=True)\n<command-2920055657788543>:21: FutureWarning: The frame.append method is deprecated and will be removed from pandas in a future version. Use pandas.concat instead.\n  visualize_semi_final = visualize_semi_final.append({'semi Final': ''}, ignore_index=True)\n<command-2920055657788543>:21: FutureWarning: The frame.append method is deprecated and will be removed from pandas in a future version. Use pandas.concat instead.\n  visualize_semi_final = visualize_semi_final.append({'semi Final': ''}, ignore_index=True)\n<command-2920055657788543>:21: FutureWarning: The frame.append method is deprecated and will be removed from pandas in a future version. Use pandas.concat instead.\n  visualize_semi_final = visualize_semi_final.append({'semi Final': ''}, ignore_index=True)\n<command-2920055657788543>:21: FutureWarning: The frame.append method is deprecated and will be removed from pandas in a future version. Use pandas.concat instead.\n  visualize_semi_final = visualize_semi_final.append({'semi Final': ''}, ignore_index=True)\n<command-2920055657788543>:26: FutureWarning: The frame.append method is deprecated and will be removed from pandas in a future version. Use pandas.concat instead.\n  visualize_semi_final = visualize_semi_final.append({'semi Final': row['Result']}, ignore_index=True)\n<command-2920055657788543>:26: FutureWarning: The frame.append method is deprecated and will be removed from pandas in a future version. Use pandas.concat instead.\n  visualize_semi_final = visualize_semi_final.append({'semi Final': row['Result']}, ignore_index=True)\n<command-2920055657788543>:30: FutureWarning: The frame.append method is deprecated and will be removed from pandas in a future version. Use pandas.concat instead.\n  visualize_semi_final = visualize_semi_final.append({'semi Final': ''}, ignore_index=True)\n<command-2920055657788543>:31: FutureWarning: The frame.append method is deprecated and will be removed from pandas in a future version. Use pandas.concat instead.\n  visualize_semi_final = visualize_semi_final.append({'semi Final': ''}, ignore_index=True)\n<command-2920055657788543>:26: FutureWarning: The frame.append method is deprecated and will be removed from pandas in a future version. Use pandas.concat instead.\n  visualize_semi_final = visualize_semi_final.append({'semi Final': row['Result']}, ignore_index=True)\n<command-2920055657788543>:26: FutureWarning: The frame.append method is deprecated and will be removed from pandas in a future version. Use pandas.concat instead.\n  visualize_semi_final = visualize_semi_final.append({'semi Final': row['Result']}, ignore_index=True)\n<command-2920055657788543>:30: FutureWarning: The frame.append method is deprecated and will be removed from pandas in a future version. Use pandas.concat instead.\n  visualize_semi_final = visualize_semi_final.append({'semi Final': ''}, ignore_index=True)\n<command-2920055657788543>:31: FutureWarning: The frame.append method is deprecated and will be removed from pandas in a future version. Use pandas.concat instead.\n  visualize_semi_final = visualize_semi_final.append({'semi Final': ''}, ignore_index=True)\n<command-2920055657788543>:33: FutureWarning: The frame.append method is deprecated and will be removed from pandas in a future version. Use pandas.concat instead.\n  visualize_semi_final = visualize_semi_final.append({'semi Final': ''}, ignore_index=True)\n<command-2920055657788543>:33: FutureWarning: The frame.append method is deprecated and will be removed from pandas in a future version. Use pandas.concat instead.\n  visualize_semi_final = visualize_semi_final.append({'semi Final': ''}, ignore_index=True)\n<command-2920055657788543>:33: FutureWarning: The frame.append method is deprecated and will be removed from pandas in a future version. Use pandas.concat instead.\n  visualize_semi_final = visualize_semi_final.append({'semi Final': ''}, ignore_index=True)\n<command-2920055657788543>:33: FutureWarning: The frame.append method is deprecated and will be removed from pandas in a future version. Use pandas.concat instead.\n  visualize_semi_final = visualize_semi_final.append({'semi Final': ''}, ignore_index=True)\n<command-2920055657788543>:33: FutureWarning: The frame.append method is deprecated and will be removed from pandas in a future version. Use pandas.concat instead.\n  visualize_semi_final = visualize_semi_final.append({'semi Final': ''}, ignore_index=True)\n<command-2920055657788543>:33: FutureWarning: The frame.append method is deprecated and will be removed from pandas in a future version. Use pandas.concat instead.\n  visualize_semi_final = visualize_semi_final.append({'semi Final': ''}, ignore_index=True)\n<command-2920055657788543>:43: FutureWarning: The frame.append method is deprecated and will be removed from pandas in a future version. Use pandas.concat instead.\n  visualize_semi_final1 = visualize_semi_final1.append({'semi Final': '', 'teamscoreSF': '', 'space': ''}, ignore_index=True)\n<command-2920055657788543>:43: FutureWarning: The frame.append method is deprecated and will be removed from pandas in a future version. Use pandas.concat instead.\n  visualize_semi_final1 = visualize_semi_final1.append({'semi Final': '', 'teamscoreSF': '', 'space': ''}, ignore_index=True)\n<command-2920055657788543>:43: FutureWarning: The frame.append method is deprecated and will be removed from pandas in a future version. Use pandas.concat instead.\n  visualize_semi_final1 = visualize_semi_final1.append({'semi Final': '', 'teamscoreSF': '', 'space': ''}, ignore_index=True)\n<command-2920055657788543>:43: FutureWarning: The frame.append method is deprecated and will be removed from pandas in a future version. Use pandas.concat instead.\n  visualize_semi_final1 = visualize_semi_final1.append({'semi Final': '', 'teamscoreSF': '', 'space': ''}, ignore_index=True)\n<command-2920055657788543>:43: FutureWarning: The frame.append method is deprecated and will be removed from pandas in a future version. Use pandas.concat instead.\n  visualize_semi_final1 = visualize_semi_final1.append({'semi Final': '', 'teamscoreSF': '', 'space': ''}, ignore_index=True)\n"
     ]
    }
   ],
   "source": [
    "%python\n",
    "# semifinal score\n",
    "semi_final_score = spark.sql(\"SELECT * FROM MAtches WHERE stage = 'Semi Final' ORDER BY matchId\")\n",
    "semi_final_score_pandas = semi_final_score.toPandas()\n",
    "visualize_score_semi = pd.DataFrame(columns=['teamscoreSF'])\n",
    "for i in range(8):\n",
    "    visualize_score_semi = visualize_score_semi.append({'teamscoreSF': ''}, ignore_index=True)\n",
    "for index, row in semi_final_score_pandas.iterrows():\n",
    "    visualize_score_semi = visualize_score_semi.append({'teamscoreSF': row['TeamHScore']}, ignore_index=True)\n",
    "    visualize_score_semi = visualize_score_semi.append({'teamscoreSF': row['TeamAScore']}, ignore_index=True)\n",
    "    for i in range(2):\n",
    "        visualize_score_semi = visualize_score_semi.append({'teamscoreSF': ''}, ignore_index=True)\n",
    "for i in range(6):\n",
    "        visualize_score_semi = visualize_score_semi.append({'teamscoreSF': ''}, ignore_index=True)\n",
    "\n",
    "# semifinal table view\n",
    "\n",
    "semi_final = spark.sql(\"SELECT * FROM Matches WHERE stage = 'Quater Final' ORDER BY matchId\")\n",
    "semi_final_pandas = semi_final.toPandas()\n",
    "visualize_semi_final = pd.DataFrame(columns=['semi Final'])\n",
    "for i in range(8):\n",
    "    visualize_semi_final = visualize_semi_final.append({'semi Final': ''}, ignore_index=True)\n",
    "\n",
    "# Iterate over each row in quater_final_pandas DataFrame\n",
    "for index, row in semi_final_pandas.iterrows():\n",
    "    # Insert two records\n",
    "    visualize_semi_final = visualize_semi_final.append({'semi Final': row['Result']}, ignore_index=True)\n",
    "    \n",
    "    # Insert 2 blank rows after every two records\n",
    "    if (index + 1) % 2 == 0:\n",
    "        visualize_semi_final = visualize_semi_final.append({'semi Final': ''}, ignore_index=True)\n",
    "        visualize_semi_final = visualize_semi_final.append({'semi Final': ''}, ignore_index=True)\n",
    "for i in range(6):\n",
    "    visualize_semi_final = visualize_semi_final.append({'semi Final': ''}, ignore_index=True)\n",
    "visualize_semi_final = pd.concat([visualize_semi_final, visualize_score_semi], axis=1)\n",
    "visualize_semi_final['space'] = ''\n",
    "# Split the DataFrame into two halves\n",
    "half_length = len(visualize_semi_final) // 2\n",
    "\n",
    "# Create visualize_quater_final1 DataFrame with 4 blank rows at the beginning\n",
    "visualize_semi_final1 = pd.DataFrame(columns=['semi Final'])\n",
    "visualize_semi_final1 = pd.concat([visualize_semi_final1, visualize_semi_final.iloc[:half_length]]).reset_index(drop=True)\n",
    "for i in range(5):\n",
    "    visualize_semi_final1 = visualize_semi_final1.append({'semi Final': '', 'teamscoreSF': '', 'space': ''}, ignore_index=True)\n",
    "# Create visualize_quater_final2 DataFrame with 4 blank rows at the beginning\n",
    "visualize_semi_final2 = pd.DataFrame({'semi Final': [''] * 7, 'teamscoreSF': [''] * 7,'space': [''] * 7})\n",
    "visualize_semi_final2 = pd.concat([visualize_semi_final2, visualize_semi_final.iloc[half_length:]]).reset_index(drop=True)\n",
    "visualize_semi_final2 = visualize_semi_final2.drop(visualize_semi_final2.tail(2).index)"
   ]
  },
  {
   "cell_type": "code",
   "execution_count": 0,
   "metadata": {
    "application/vnd.databricks.v1+cell": {
     "cellMetadata": {
      "byteLimit": 2048000,
      "rowLimit": 10000
     },
     "inputWidgets": {},
     "nuid": "a67cf0cd-eadf-43f2-86d8-8a7dce525fc0",
     "showTitle": false,
     "title": ""
    }
   },
   "outputs": [
    {
     "output_type": "stream",
     "name": "stderr",
     "output_type": "stream",
     "text": [
      "<command-2920055657788544>:12: FutureWarning: The frame.append method is deprecated and will be removed from pandas in a future version. Use pandas.concat instead.\n  visualize_final = visualize_final.append({'Finals': ''}, ignore_index=True)\n<command-2920055657788544>:12: FutureWarning: The frame.append method is deprecated and will be removed from pandas in a future version. Use pandas.concat instead.\n  visualize_final = visualize_final.append({'Finals': ''}, ignore_index=True)\n<command-2920055657788544>:12: FutureWarning: The frame.append method is deprecated and will be removed from pandas in a future version. Use pandas.concat instead.\n  visualize_final = visualize_final.append({'Finals': ''}, ignore_index=True)\n<command-2920055657788544>:12: FutureWarning: The frame.append method is deprecated and will be removed from pandas in a future version. Use pandas.concat instead.\n  visualize_final = visualize_final.append({'Finals': ''}, ignore_index=True)\n<command-2920055657788544>:12: FutureWarning: The frame.append method is deprecated and will be removed from pandas in a future version. Use pandas.concat instead.\n  visualize_final = visualize_final.append({'Finals': ''}, ignore_index=True)\n<command-2920055657788544>:12: FutureWarning: The frame.append method is deprecated and will be removed from pandas in a future version. Use pandas.concat instead.\n  visualize_final = visualize_final.append({'Finals': ''}, ignore_index=True)\n<command-2920055657788544>:16: FutureWarning: The frame.append method is deprecated and will be removed from pandas in a future version. Use pandas.concat instead.\n  visualize_final = visualize_final.append({'Finals': f\"{row['TeamH']} ({row['TeamHScore']})\"}, ignore_index=True)\n<command-2920055657788544>:17: FutureWarning: The frame.append method is deprecated and will be removed from pandas in a future version. Use pandas.concat instead.\n  visualize_final = visualize_final.append({'Finals': f\"{row['TeamA']} ({row['TeamAScore']})\"}, ignore_index=True)\n<command-2920055657788544>:18: FutureWarning: The frame.append method is deprecated and will be removed from pandas in a future version. Use pandas.concat instead.\n  visualize_final = visualize_final.append({'Finals': f\"Winner: {row['Result']}\"}, ignore_index=True)\n<command-2920055657788544>:25: FutureWarning: The frame.append method is deprecated and will be removed from pandas in a future version. Use pandas.concat instead.\n  visualize_final = visualize_final.append({'Finals': ''}, ignore_index=True)\n<command-2920055657788544>:25: FutureWarning: The frame.append method is deprecated and will be removed from pandas in a future version. Use pandas.concat instead.\n  visualize_final = visualize_final.append({'Finals': ''}, ignore_index=True)\n<command-2920055657788544>:28: FutureWarning: The frame.append method is deprecated and will be removed from pandas in a future version. Use pandas.concat instead.\n  visualize_final = visualize_final.append({'Finals': f\"{row['TeamH']} ({row['TeamHScore']})\"}, ignore_index=True)\n<command-2920055657788544>:29: FutureWarning: The frame.append method is deprecated and will be removed from pandas in a future version. Use pandas.concat instead.\n  visualize_final = visualize_final.append({'Finals': f\"{row['TeamA']} ({row['TeamAScore']})\"}, ignore_index=True)\n<command-2920055657788544>:30: FutureWarning: The frame.append method is deprecated and will be removed from pandas in a future version. Use pandas.concat instead.\n  visualize_final = visualize_final.append({'Finals': f\"Third: {row['Result']}\"}, ignore_index=True)\n<command-2920055657788544>:32: FutureWarning: The frame.append method is deprecated and will be removed from pandas in a future version. Use pandas.concat instead.\n  visualize_final = visualize_final.append({'Finals': ''}, ignore_index=True)\n<command-2920055657788544>:32: FutureWarning: The frame.append method is deprecated and will be removed from pandas in a future version. Use pandas.concat instead.\n  visualize_final = visualize_final.append({'Finals': ''}, ignore_index=True)\n"
     ]
    }
   ],
   "source": [
    "%python\n",
    "# final table view\n",
    "final = spark.sql(\"SELECT * FROM Matches WHERE stage = 'Final' ORDER BY matchId\")\n",
    "third = spark.sql(\"SELECT * FROM Matches WHERE stage = 'Third Place' ORDER BY matchId\")\n",
    "\n",
    "# Convert the DataFrame to a Pandas DataFrame\n",
    "final_pandas = final.toPandas()\n",
    "third_pandas = third.toPandas()\n",
    "\n",
    "# Create a new DataFrame to store the teamnames\n",
    "visualize_final = pd.DataFrame(columns=['Finals'])\n",
    "for i in range(6):\n",
    "    visualize_final = visualize_final.append({'Finals': ''}, ignore_index=True)\n",
    "\n",
    "# Iterate over each row in quater_final_pandas DataFrame\n",
    "for index, row in final_pandas.iterrows():\n",
    "    visualize_final = visualize_final.append({'Finals': f\"{row['TeamH']} ({row['TeamHScore']})\"}, ignore_index=True)\n",
    "    visualize_final = visualize_final.append({'Finals': f\"{row['TeamA']} ({row['TeamAScore']})\"}, ignore_index=True)\n",
    "    visualize_final = visualize_final.append({'Finals': f\"Winner: {row['Result']}\"}, ignore_index=True)\n",
    "    \n",
    "    # Insert 2 blank rows after every two records\n",
    "    if (index + 1) % 2 == 0:\n",
    "        visualize_final = visualize_final.append({'Finals': ''}, ignore_index=True)\n",
    "        visualize_final = visualize_final.append({'Finals': ''}, ignore_index=True)\n",
    "    for i in range(2):\n",
    "        visualize_final = visualize_final.append({'Finals': ''}, ignore_index=True)\n",
    "for index, row in third_pandas.iterrows():\n",
    "    # Insert two records\n",
    "    visualize_final = visualize_final.append({'Finals': f\"{row['TeamH']} ({row['TeamHScore']})\"}, ignore_index=True)\n",
    "    visualize_final = visualize_final.append({'Finals': f\"{row['TeamA']} ({row['TeamAScore']})\"}, ignore_index=True)\n",
    "    visualize_final = visualize_final.append({'Finals': f\"Third: {row['Result']}\"}, ignore_index=True)\n",
    "for i in range(2):\n",
    "    visualize_final = visualize_final.append({'Finals': ''}, ignore_index=True)\n",
    "visualize_final['space'] = ''\n"
   ]
  },
  {
   "cell_type": "code",
   "execution_count": 0,
   "metadata": {
    "application/vnd.databricks.v1+cell": {
     "cellMetadata": {
      "byteLimit": 2048000,
      "rowLimit": 10000
     },
     "inputWidgets": {},
     "nuid": "0331f4cb-ee54-4787-b996-c4566582ac4e",
     "showTitle": false,
     "title": ""
    }
   },
   "outputs": [
    {
     "output_type": "stream",
     "name": "stderr",
     "output_type": "stream",
     "text": [
      "/databricks/spark/python/pyspark/sql/pandas/conversion.py:467: UserWarning: createDataFrame attempted Arrow optimization because 'spark.sql.execution.arrow.pyspark.enabled' is set to true; however, failed by the reason below:\n  Expected bytes, got a 'int' object\nAttempting non-optimization as 'spark.sql.execution.arrow.pyspark.fallback.enabled' is set to true.\n  warn(msg)\n"
     ]
    },
    {
     "output_type": "display_data",
     "data": {
      "text/html": [
       "<style scoped>\n",
       "  .table-result-container {\n",
       "    max-height: 300px;\n",
       "    overflow: auto;\n",
       "  }\n",
       "  table, th, td {\n",
       "    border: 1px solid black;\n",
       "    border-collapse: collapse;\n",
       "  }\n",
       "  th, td {\n",
       "    padding: 5px;\n",
       "  }\n",
       "  th {\n",
       "    text-align: left;\n",
       "  }\n",
       "</style><div class='table-result-container'><table class='table-result'><thead style='background-color: white'><tr><th>teamNameg1</th><th>groupNameg1</th><th>Standingsg1</th><th>Pointsg1</th><th>GDg1</th><th>spaceg1</th><th>Round of 16</th><th>Roundof 16</th><th>space</th><th>Quater Finalq1</th><th>teamscoreq1</th><th>spaceq1</th><th>semi Finals1</th><th>teamscoreSFs1</th><th>spaces1</th><th>Finalsf</th><th>spacef</th><th>semi Finals2</th><th>teamscoreSFs2</th><th>spaces2</th><th>Quater Finalq2</th><th>teamscoreq2</th><th>spaceq2</th><th>Round of 16r2</th><th>Roundof 16r2</th><th>spacer2</th><th>teamNameg2</th><th>groupNameg2</th><th>Standingsg2</th><th>Pointsg2</th><th>GDg2</th></tr></thead><tbody><tr><td></td><td></td><td></td><td></td><td></td><td></td><td></td><td>NaN</td><td></td><td></td><td></td><td></td><td></td><td></td><td></td><td></td><td></td><td></td><td></td><td></td><td></td><td></td><td></td><td>NaN</td><td></td><td></td><td></td><td></td><td></td><td></td><td></td></tr><tr><td>Germany</td><td>A</td><td>1</td><td>7</td><td>6</td><td></td><td></td><td>NaN</td><td></td><td></td><td></td><td></td><td></td><td></td><td></td><td></td><td></td><td></td><td></td><td></td><td></td><td></td><td></td><td>NaN</td><td></td><td></td><td>Play-off winner A</td><td>D</td><td>1</td><td>9</td><td>6</td></tr><tr><td>Scotland</td><td>A</td><td>2</td><td>6</td><td>0</td><td></td><td>NaN</td><td>Croatia (4)</td><td></td><td></td><td></td><td></td><td></td><td></td><td></td><td></td><td></td><td></td><td></td><td></td><td></td><td></td><td></td><td>NaN</td><td>Play-off winner B (2)</td><td></td><td>Austria</td><td>D</td><td>2</td><td>6</td><td>4</td></tr><tr><td>Switzerland</td><td>A</td><td>3</td><td>4</td><td>0</td><td></td><td>NaN</td><td>Switzerland (1)</td><td></td><td></td><td></td><td></td><td></td><td></td><td></td><td></td><td></td><td></td><td></td><td></td><td></td><td></td><td></td><td>NaN</td><td>Italy (1)</td><td></td><td>France</td><td>D</td><td>3</td><td>3</td><td>-6</td></tr><tr><td>Hungary</td><td>A</td><td>4</td><td>0</td><td>-6</td><td></td><td>NaN</td><td></td><td></td><td>Croatia</td><td>2</td><td></td><td></td><td></td><td></td><td></td><td></td><td></td><td></td><td></td><td>Play-off winner B</td><td>1</td><td></td><td>NaN</td><td></td><td></td><td>Netherlands</td><td>D</td><td>4</td><td>0</td><td>-4</td></tr><tr><td></td><td></td><td></td><td></td><td></td><td></td><td>NaN</td><td></td><td></td><td>Germany</td><td>1</td><td></td><td></td><td></td><td></td><td></td><td></td><td></td><td></td><td></td><td>Czech</td><td>5</td><td></td><td>NaN</td><td></td><td></td><td></td><td></td><td></td><td></td><td></td></tr><tr><td>Croatia</td><td>B</td><td>1</td><td>6</td><td>2</td><td></td><td>NaN</td><td>Germany (5)</td><td></td><td></td><td></td><td></td><td></td><td></td><td></td><td>Croatia (5)</td><td></td><td></td><td></td><td></td><td></td><td></td><td></td><td>NaN</td><td>Play-off winner A (1)</td><td></td><td>Play-off winner B</td><td>E</td><td>1</td><td>6</td><td>7</td></tr><tr><td>Spain</td><td>B</td><td>2</td><td>6</td><td>2</td><td></td><td>NaN</td><td>England (1)</td><td></td><td></td><td></td><td></td><td></td><td></td><td></td><td>Czech (1)</td><td></td><td></td><td></td><td></td><td></td><td></td><td></td><td>NaN</td><td>Czech (3)</td><td></td><td>Romania</td><td>E</td><td>2</td><td>6</td><td>2</td></tr><tr><td>Italy</td><td>B</td><td>3</td><td>3</td><td>-2</td><td></td><td>NaN</td><td></td><td></td><td></td><td></td><td></td><td>Croatia</td><td>3</td><td></td><td>Winner: Croatia</td><td></td><td>Czech</td><td>5</td><td></td><td></td><td></td><td></td><td>NaN</td><td></td><td></td><td>Slovakia</td><td>E</td><td>3</td><td>3</td><td>-4</td></tr><tr><td>Albania</td><td>B</td><td>4</td><td>3</td><td>-2</td><td></td><td>NaN</td><td></td><td></td><td></td><td></td><td></td><td>Romania</td><td>1</td><td></td><td></td><td></td><td>Spain</td><td>4</td><td></td><td></td><td></td><td></td><td>NaN</td><td></td><td></td><td>Belgium</td><td>E</td><td>4</td><td>3</td><td>-5</td></tr><tr><td></td><td></td><td></td><td></td><td></td><td></td><td>NaN</td><td>Portugal (4)</td><td></td><td></td><td></td><td></td><td></td><td></td><td></td><td></td><td></td><td></td><td></td><td></td><td></td><td></td><td></td><td>NaN</td><td>Denmark (1)</td><td></td><td></td><td></td><td></td><td></td><td></td></tr><tr><td>Denmark</td><td>C</td><td>1</td><td>7</td><td>3</td><td></td><td>NaN</td><td>Slovenia (4)</td><td></td><td></td><td></td><td></td><td></td><td></td><td></td><td>Romania (5)</td><td></td><td></td><td></td><td></td><td></td><td></td><td></td><td>NaN</td><td>Turkey (5)</td><td></td><td>Portugal</td><td>F</td><td>1</td><td>7</td><td>4</td></tr><tr><td>England</td><td>C</td><td>2</td><td>6</td><td>4</td><td></td><td>NaN</td><td></td><td></td><td>Portugal</td><td>2</td><td></td><td></td><td></td><td></td><td>Spain (4)</td><td></td><td></td><td></td><td></td><td>Turkey</td><td>1</td><td></td><td>NaN</td><td></td><td></td><td>Czech</td><td>F</td><td>2</td><td>4</td><td>1</td></tr><tr><td>Slovenia</td><td>C</td><td>3</td><td>3</td><td>-2</td><td></td><td>NaN</td><td></td><td></td><td>Romania</td><td>3</td><td></td><td></td><td></td><td></td><td>Third: Romania</td><td></td><td></td><td></td><td></td><td>Spain</td><td>3</td><td></td><td>NaN</td><td></td><td></td><td>Turkey</td><td>F</td><td>3</td><td>4</td><td>0</td></tr><tr><td>Serbia</td><td>C</td><td>4</td><td>1</td><td>-5</td><td></td><td>NaN</td><td>Austria (1)</td><td></td><td></td><td></td><td></td><td></td><td></td><td></td><td></td><td></td><td></td><td></td><td></td><td></td><td></td><td></td><td>NaN</td><td>Scotland (1)</td><td></td><td>Play-off winner c</td><td>F</td><td>4</td><td>1</td><td>-5</td></tr><tr><td></td><td></td><td></td><td></td><td></td><td></td><td>NaN</td><td>Romania (2)</td><td></td><td></td><td></td><td></td><td></td><td></td><td></td><td></td><td></td><td></td><td></td><td></td><td></td><td></td><td></td><td>NaN</td><td>Spain (3)</td><td></td><td></td><td></td><td></td><td></td><td></td></tr></tbody></table></div>"
      ]
     },
     "metadata": {
      "application/vnd.databricks.v1+output": {
       "addedWidgets": {},
       "aggData": [],
       "aggError": "",
       "aggOverflow": false,
       "aggSchema": [],
       "aggSeriesLimitReached": false,
       "aggType": "",
       "arguments": {},
       "columnCustomDisplayInfos": {},
       "data": [
        [
         "",
         "",
         "",
         "",
         "",
         "",
         "",
         "NaN",
         "",
         "",
         "",
         "",
         "",
         "",
         "",
         "",
         "",
         "",
         "",
         "",
         "",
         "",
         "",
         "NaN",
         "",
         "",
         "",
         "",
         "",
         "",
         ""
        ],
        [
         "Germany",
         "A",
         "1",
         "7",
         "6",
         "",
         "",
         "NaN",
         "",
         "",
         "",
         "",
         "",
         "",
         "",
         "",
         "",
         "",
         "",
         "",
         "",
         "",
         "",
         "NaN",
         "",
         "",
         "Play-off winner A",
         "D",
         "1",
         "9",
         "6"
        ],
        [
         "Scotland",
         "A",
         "2",
         "6",
         "0",
         "",
         "NaN",
         "Croatia (4)",
         "",
         "",
         "",
         "",
         "",
         "",
         "",
         "",
         "",
         "",
         "",
         "",
         "",
         "",
         "",
         "NaN",
         "Play-off winner B (2)",
         "",
         "Austria",
         "D",
         "2",
         "6",
         "4"
        ],
        [
         "Switzerland",
         "A",
         "3",
         "4",
         "0",
         "",
         "NaN",
         "Switzerland (1)",
         "",
         "",
         "",
         "",
         "",
         "",
         "",
         "",
         "",
         "",
         "",
         "",
         "",
         "",
         "",
         "NaN",
         "Italy (1)",
         "",
         "France",
         "D",
         "3",
         "3",
         "-6"
        ],
        [
         "Hungary",
         "A",
         "4",
         "0",
         "-6",
         "",
         "NaN",
         "",
         "",
         "Croatia",
         "2",
         "",
         "",
         "",
         "",
         "",
         "",
         "",
         "",
         "",
         "Play-off winner B",
         "1",
         "",
         "NaN",
         "",
         "",
         "Netherlands",
         "D",
         "4",
         "0",
         "-4"
        ],
        [
         "",
         "",
         "",
         "",
         "",
         "",
         "NaN",
         "",
         "",
         "Germany",
         "1",
         "",
         "",
         "",
         "",
         "",
         "",
         "",
         "",
         "",
         "Czech",
         "5",
         "",
         "NaN",
         "",
         "",
         "",
         "",
         "",
         "",
         ""
        ],
        [
         "Croatia",
         "B",
         "1",
         "6",
         "2",
         "",
         "NaN",
         "Germany (5)",
         "",
         "",
         "",
         "",
         "",
         "",
         "",
         "Croatia (5)",
         "",
         "",
         "",
         "",
         "",
         "",
         "",
         "NaN",
         "Play-off winner A (1)",
         "",
         "Play-off winner B",
         "E",
         "1",
         "6",
         "7"
        ],
        [
         "Spain",
         "B",
         "2",
         "6",
         "2",
         "",
         "NaN",
         "England (1)",
         "",
         "",
         "",
         "",
         "",
         "",
         "",
         "Czech (1)",
         "",
         "",
         "",
         "",
         "",
         "",
         "",
         "NaN",
         "Czech (3)",
         "",
         "Romania",
         "E",
         "2",
         "6",
         "2"
        ],
        [
         "Italy",
         "B",
         "3",
         "3",
         "-2",
         "",
         "NaN",
         "",
         "",
         "",
         "",
         "",
         "Croatia",
         "3",
         "",
         "Winner: Croatia",
         "",
         "Czech",
         "5",
         "",
         "",
         "",
         "",
         "NaN",
         "",
         "",
         "Slovakia",
         "E",
         "3",
         "3",
         "-4"
        ],
        [
         "Albania",
         "B",
         "4",
         "3",
         "-2",
         "",
         "NaN",
         "",
         "",
         "",
         "",
         "",
         "Romania",
         "1",
         "",
         "",
         "",
         "Spain",
         "4",
         "",
         "",
         "",
         "",
         "NaN",
         "",
         "",
         "Belgium",
         "E",
         "4",
         "3",
         "-5"
        ],
        [
         "",
         "",
         "",
         "",
         "",
         "",
         "NaN",
         "Portugal (4)",
         "",
         "",
         "",
         "",
         "",
         "",
         "",
         "",
         "",
         "",
         "",
         "",
         "",
         "",
         "",
         "NaN",
         "Denmark (1)",
         "",
         "",
         "",
         "",
         "",
         ""
        ],
        [
         "Denmark",
         "C",
         "1",
         "7",
         "3",
         "",
         "NaN",
         "Slovenia (4)",
         "",
         "",
         "",
         "",
         "",
         "",
         "",
         "Romania (5)",
         "",
         "",
         "",
         "",
         "",
         "",
         "",
         "NaN",
         "Turkey (5)",
         "",
         "Portugal",
         "F",
         "1",
         "7",
         "4"
        ],
        [
         "England",
         "C",
         "2",
         "6",
         "4",
         "",
         "NaN",
         "",
         "",
         "Portugal",
         "2",
         "",
         "",
         "",
         "",
         "Spain (4)",
         "",
         "",
         "",
         "",
         "Turkey",
         "1",
         "",
         "NaN",
         "",
         "",
         "Czech",
         "F",
         "2",
         "4",
         "1"
        ],
        [
         "Slovenia",
         "C",
         "3",
         "3",
         "-2",
         "",
         "NaN",
         "",
         "",
         "Romania",
         "3",
         "",
         "",
         "",
         "",
         "Third: Romania",
         "",
         "",
         "",
         "",
         "Spain",
         "3",
         "",
         "NaN",
         "",
         "",
         "Turkey",
         "F",
         "3",
         "4",
         "0"
        ],
        [
         "Serbia",
         "C",
         "4",
         "1",
         "-5",
         "",
         "NaN",
         "Austria (1)",
         "",
         "",
         "",
         "",
         "",
         "",
         "",
         "",
         "",
         "",
         "",
         "",
         "",
         "",
         "",
         "NaN",
         "Scotland (1)",
         "",
         "Play-off winner c",
         "F",
         "4",
         "1",
         "-5"
        ],
        [
         "",
         "",
         "",
         "",
         "",
         "",
         "NaN",
         "Romania (2)",
         "",
         "",
         "",
         "",
         "",
         "",
         "",
         "",
         "",
         "",
         "",
         "",
         "",
         "",
         "",
         "NaN",
         "Spain (3)",
         "",
         "",
         "",
         "",
         "",
         ""
        ]
       ],
       "datasetInfos": [],
       "dbfsResultPath": null,
       "isJsonSchema": true,
       "metadata": {},
       "overflow": false,
       "plotOptions": {
        "customPlotOptions": {},
        "displayType": "table",
        "pivotAggregation": null,
        "pivotColumns": null,
        "xColumns": null,
        "yColumns": null
       },
       "removedWidgets": [],
       "schema": [
        {
         "metadata": "{}",
         "name": "teamNameg1",
         "type": "\"string\""
        },
        {
         "metadata": "{}",
         "name": "groupNameg1",
         "type": "\"string\""
        },
        {
         "metadata": "{}",
         "name": "Standingsg1",
         "type": "\"string\""
        },
        {
         "metadata": "{}",
         "name": "Pointsg1",
         "type": "\"string\""
        },
        {
         "metadata": "{}",
         "name": "GDg1",
         "type": "\"string\""
        },
        {
         "metadata": "{}",
         "name": "spaceg1",
         "type": "\"string\""
        },
        {
         "metadata": "{}",
         "name": "Round of 16",
         "type": "\"string\""
        },
        {
         "metadata": "{}",
         "name": "Roundof 16",
         "type": "\"string\""
        },
        {
         "metadata": "{}",
         "name": "space",
         "type": "\"string\""
        },
        {
         "metadata": "{}",
         "name": "Quater Finalq1",
         "type": "\"string\""
        },
        {
         "metadata": "{}",
         "name": "teamscoreq1",
         "type": "\"string\""
        },
        {
         "metadata": "{}",
         "name": "spaceq1",
         "type": "\"string\""
        },
        {
         "metadata": "{}",
         "name": "semi Finals1",
         "type": "\"string\""
        },
        {
         "metadata": "{}",
         "name": "teamscoreSFs1",
         "type": "\"string\""
        },
        {
         "metadata": "{}",
         "name": "spaces1",
         "type": "\"string\""
        },
        {
         "metadata": "{}",
         "name": "Finalsf",
         "type": "\"string\""
        },
        {
         "metadata": "{}",
         "name": "spacef",
         "type": "\"string\""
        },
        {
         "metadata": "{}",
         "name": "semi Finals2",
         "type": "\"string\""
        },
        {
         "metadata": "{}",
         "name": "teamscoreSFs2",
         "type": "\"string\""
        },
        {
         "metadata": "{}",
         "name": "spaces2",
         "type": "\"string\""
        },
        {
         "metadata": "{}",
         "name": "Quater Finalq2",
         "type": "\"string\""
        },
        {
         "metadata": "{}",
         "name": "teamscoreq2",
         "type": "\"string\""
        },
        {
         "metadata": "{}",
         "name": "spaceq2",
         "type": "\"string\""
        },
        {
         "metadata": "{}",
         "name": "Round of 16r2",
         "type": "\"double\""
        },
        {
         "metadata": "{}",
         "name": "Roundof 16r2",
         "type": "\"string\""
        },
        {
         "metadata": "{}",
         "name": "spacer2",
         "type": "\"string\""
        },
        {
         "metadata": "{}",
         "name": "teamNameg2",
         "type": "\"string\""
        },
        {
         "metadata": "{}",
         "name": "groupNameg2",
         "type": "\"string\""
        },
        {
         "metadata": "{}",
         "name": "Standingsg2",
         "type": "\"string\""
        },
        {
         "metadata": "{}",
         "name": "Pointsg2",
         "type": "\"string\""
        },
        {
         "metadata": "{}",
         "name": "GDg2",
         "type": "\"string\""
        }
       ],
       "type": "table"
      }
     },
     "output_type": "display_data"
    }
   ],
   "source": [
    "%python\n",
    "# mearging gropstage pool and quaterfinal\n",
    "visualize_quater_final1.columns = [f\"{col}q1\" for col in visualize_quater_final1.columns]\n",
    "merged_df = pd.concat([visualize_table16pool1, visualize_quater_final1], axis=1)\n",
    "\n",
    "visualize_semi_final1.columns = [f\"{col}s1\" for col in visualize_semi_final1.columns]\n",
    "merged_df = pd.concat([merged_df, visualize_semi_final1], axis=1)\n",
    "\n",
    "visualize_final.columns = [f\"{col}f\" for col in visualize_final.columns]\n",
    "merged_df = pd.concat([merged_df, visualize_final], axis=1)\n",
    "\n",
    "visualize_semi_final2.columns = [f\"{col}s2\" for col in visualize_semi_final2.columns]\n",
    "\n",
    "# Concatenate the DataFrames\n",
    "merged_df = pd.concat([merged_df, visualize_semi_final2], axis=1)\n",
    "\n",
    "visualize_quater_final2.columns = [f\"{col}q2\" for col in visualize_quater_final2.columns]\n",
    "\n",
    "# Concatenate the DataFrames\n",
    "merged_df = pd.concat([merged_df, visualize_quater_final2], axis=1)\n",
    "\n",
    "visualize_table16pool2.columns = [f\"{col}r2\" for col in visualize_table16pool2.columns]\n",
    "\n",
    "# Concatenate the DataFrames\n",
    "merged_df = pd.concat([merged_df, visualize_table16pool2], axis=1)\n",
    "\n",
    "visualize_table_with_blanks1.columns = [f\"{col}g1\" for col in visualize_table_with_blanks1.columns]\n",
    "visualize_table_with_blanks2.columns = [f\"{col}g2\" for col in visualize_table_with_blanks2.columns]\n",
    "\n",
    "# Concatenate the DataFrames\n",
    "merged_df = pd.concat([visualize_table_with_blanks1,merged_df, visualize_table_with_blanks2], axis=1)\n",
    "\n",
    "# Display the merged DataFrame\n",
    "display(merged_df)"
   ]
  },
  {
   "cell_type": "code",
   "execution_count": 0,
   "metadata": {
    "application/vnd.databricks.v1+cell": {
     "cellMetadata": {},
     "inputWidgets": {},
     "nuid": "b1035d7c-b887-4d75-8147-17676850dbeb",
     "showTitle": false,
     "title": ""
    }
   },
   "outputs": [],
   "source": []
  }
 ],
 "metadata": {
  "application/vnd.databricks.v1+notebook": {
   "dashboards": [],
   "language": "python",
   "notebookMetadata": {
    "pythonIndentUnit": 4
   },
   "notebookName": "UEFA EURO 2024",
   "widgets": {}
  }
 },
 "nbformat": 4,
 "nbformat_minor": 0
}
