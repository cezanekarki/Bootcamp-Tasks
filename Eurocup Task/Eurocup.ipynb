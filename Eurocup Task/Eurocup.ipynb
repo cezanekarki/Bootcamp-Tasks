{
 "cells": [
  {
   "cell_type": "code",
   "execution_count": 0,
   "metadata": {
    "application/vnd.databricks.v1+cell": {
     "cellMetadata": {
      "byteLimit": 2048000,
      "rowLimit": 10000
     },
     "inputWidgets": {},
     "nuid": "d7cbc1d0-e3e1-4ee9-8a70-4f3679328bfb",
     "showTitle": false,
     "title": ""
    }
   },
   "outputs": [
    {
     "output_type": "stream",
     "name": "stdout",
     "output_type": "stream",
     "text": [
      "Out[1]: False"
     ]
    }
   ],
   "source": [
    "%python\n",
    "dbutils.fs.rm(\"dbfs:/user/hive/warehouse/qualified_country_list\", True)\n",
    "dbutils.fs.rm(\"dbfs:/user/hive/warehouse/matches\", True)\n",
    "dbutils.fs.rm(\"dbfs:/user/hive/warehouse/group_stage_ranking\", True)\n",
    "dbutils.fs.rm(\"dbfs:/user/hive/warehouse/round_of_16\", True)\n",
    "dbutils.fs.rm(\"dbfs:/user/hive/warehouse/eurocup_third_place_combi\", True)\n",
    "dbutils.fs.rm(\"dbfs:/user/hive/warehouse/eurocup_third_place_combi\", True)\n",
    "dbutils.fs.rm(\"dbfs:/user/hive/warehouse/eurocup_third_place_combi\", True)"
   ]
  },
  {
   "cell_type": "code",
   "execution_count": 0,
   "metadata": {
    "application/vnd.databricks.v1+cell": {
     "cellMetadata": {
      "byteLimit": 2048000,
      "implicitDf": true,
      "rowLimit": 10000
     },
     "inputWidgets": {},
     "nuid": "aeb97c2a-ab45-475d-9614-5afdd2344155",
     "showTitle": false,
     "title": ""
    }
   },
   "outputs": [
    {
     "output_type": "display_data",
     "data": {
      "text/html": [
       "<style scoped>\n",
       "  .table-result-container {\n",
       "    max-height: 300px;\n",
       "    overflow: auto;\n",
       "  }\n",
       "  table, th, td {\n",
       "    border: 1px solid black;\n",
       "    border-collapse: collapse;\n",
       "  }\n",
       "  th, td {\n",
       "    padding: 5px;\n",
       "  }\n",
       "  th {\n",
       "    text-align: left;\n",
       "  }\n",
       "</style><div class='table-result-container'><table class='table-result'><thead style='background-color: white'><tr><th>TeamId</th><th>TeamName</th><th>TeamGroup</th></tr></thead><tbody><tr><td>1</td><td>France</td><td>A</td></tr><tr><td>2</td><td>Italy</td><td>A</td></tr><tr><td>3</td><td>Belgium</td><td>A</td></tr><tr><td>4</td><td>Portugal</td><td>A</td></tr><tr><td>5</td><td>Spain</td><td>B</td></tr><tr><td>6</td><td>Netherlands</td><td>B</td></tr><tr><td>7</td><td>Germany</td><td>B</td></tr><tr><td>8</td><td>England</td><td>B</td></tr><tr><td>9</td><td>Turkey</td><td>C</td></tr><tr><td>10</td><td>Austria</td><td>C</td></tr><tr><td>11</td><td>Switzerland</td><td>C</td></tr><tr><td>12</td><td>Denmark</td><td>C</td></tr><tr><td>13</td><td>Croatia</td><td>D</td></tr><tr><td>14</td><td>Ukraine</td><td>D</td></tr><tr><td>15</td><td>Sweden</td><td>D</td></tr><tr><td>16</td><td>Poland</td><td>D</td></tr><tr><td>17</td><td>Wales</td><td>E</td></tr><tr><td>18</td><td>Czech Republic</td><td>E</td></tr><tr><td>19</td><td>Slovakia</td><td>E</td></tr><tr><td>20</td><td>Hungary</td><td>E</td></tr><tr><td>21</td><td>Finland</td><td>F</td></tr><tr><td>22</td><td>North Macedonia</td><td>F</td></tr><tr><td>23</td><td>Scotland</td><td>F</td></tr><tr><td>24</td><td>Russia</td><td>F</td></tr></tbody></table></div>"
      ]
     },
     "metadata": {
      "application/vnd.databricks.v1+output": {
       "addedWidgets": {},
       "aggData": [],
       "aggError": "",
       "aggOverflow": false,
       "aggSchema": [],
       "aggSeriesLimitReached": false,
       "aggType": "",
       "arguments": {},
       "columnCustomDisplayInfos": {},
       "data": [
        [
         1,
         "France",
         "A"
        ],
        [
         2,
         "Italy",
         "A"
        ],
        [
         3,
         "Belgium",
         "A"
        ],
        [
         4,
         "Portugal",
         "A"
        ],
        [
         5,
         "Spain",
         "B"
        ],
        [
         6,
         "Netherlands",
         "B"
        ],
        [
         7,
         "Germany",
         "B"
        ],
        [
         8,
         "England",
         "B"
        ],
        [
         9,
         "Turkey",
         "C"
        ],
        [
         10,
         "Austria",
         "C"
        ],
        [
         11,
         "Switzerland",
         "C"
        ],
        [
         12,
         "Denmark",
         "C"
        ],
        [
         13,
         "Croatia",
         "D"
        ],
        [
         14,
         "Ukraine",
         "D"
        ],
        [
         15,
         "Sweden",
         "D"
        ],
        [
         16,
         "Poland",
         "D"
        ],
        [
         17,
         "Wales",
         "E"
        ],
        [
         18,
         "Czech Republic",
         "E"
        ],
        [
         19,
         "Slovakia",
         "E"
        ],
        [
         20,
         "Hungary",
         "E"
        ],
        [
         21,
         "Finland",
         "F"
        ],
        [
         22,
         "North Macedonia",
         "F"
        ],
        [
         23,
         "Scotland",
         "F"
        ],
        [
         24,
         "Russia",
         "F"
        ]
       ],
       "datasetInfos": [],
       "dbfsResultPath": null,
       "isJsonSchema": true,
       "metadata": {},
       "overflow": false,
       "plotOptions": {
        "customPlotOptions": {},
        "displayType": "table",
        "pivotAggregation": null,
        "pivotColumns": null,
        "xColumns": null,
        "yColumns": null
       },
       "removedWidgets": [],
       "schema": [
        {
         "metadata": "{}",
         "name": "TeamId",
         "type": "\"integer\""
        },
        {
         "metadata": "{\"__CHAR_VARCHAR_TYPE_STRING\":\"varchar(255)\"}",
         "name": "TeamName",
         "type": "\"string\""
        },
        {
         "metadata": "{\"__CHAR_VARCHAR_TYPE_STRING\":\"varchar(255)\"}",
         "name": "TeamGroup",
         "type": "\"string\""
        }
       ],
       "type": "table"
      }
     },
     "output_type": "display_data"
    }
   ],
   "source": [
    "%sql\n",
    "CREATE OR REPLACE TABLE qualified_country_list (\n",
    "  TeamId INTEGER,\n",
    "  TeamName VARCHAR(255),\n",
    "  TeamGroup VARCHAR(255)\n",
    ");\n",
    "\n",
    "INSERT INTO qualified_country_list (TeamId, TeamName, TeamGroup)\n",
    "VALUES\n",
    "(1, 'France', 'A'),\n",
    "(2, 'Italy', 'A'),\n",
    "(3, 'Belgium', 'A'),\n",
    "(4, 'Portugal', 'A'),\n",
    "(5, 'Spain', 'B'),\n",
    "(6, 'Netherlands', 'B'),\n",
    "(7, 'Germany', 'B'),\n",
    "(8, 'England', 'B'),\n",
    "(9, 'Turkey', 'C'),\n",
    "(10, 'Austria', 'C'),\n",
    "(11, 'Switzerland', 'C'),\n",
    "(12, 'Denmark', 'C'),\n",
    "(13, 'Croatia', 'D'),\n",
    "(14, 'Ukraine', 'D'),\n",
    "(15, 'Sweden', 'D'),\n",
    "(16, 'Poland', 'D'),\n",
    "(17, 'Wales', 'E'),\n",
    "(18, 'Czech Republic', 'E'),\n",
    "(19, 'Slovakia', 'E'),\n",
    "(20, 'Hungary', 'E'),\n",
    "(21, 'Finland', 'F'),\n",
    "(22, 'North Macedonia', 'F'),\n",
    "(23, 'Scotland', 'F'),\n",
    "(24, 'Russia', 'F');\n",
    "\n",
    "SELECT * FROM qualified_country_list;"
   ]
  },
  {
   "cell_type": "code",
   "execution_count": 0,
   "metadata": {
    "application/vnd.databricks.v1+cell": {
     "cellMetadata": {
      "byteLimit": 2048000,
      "implicitDf": true,
      "rowLimit": 10000
     },
     "inputWidgets": {},
     "nuid": "ff47a164-300f-406c-9558-766360409ac2",
     "showTitle": false,
     "title": ""
    }
   },
   "outputs": [
    {
     "output_type": "display_data",
     "data": {
      "text/html": [
       "<style scoped>\n",
       "  .table-result-container {\n",
       "    max-height: 300px;\n",
       "    overflow: auto;\n",
       "  }\n",
       "  table, th, td {\n",
       "    border: 1px solid black;\n",
       "    border-collapse: collapse;\n",
       "  }\n",
       "  th, td {\n",
       "    padding: 5px;\n",
       "  }\n",
       "  th {\n",
       "    text-align: left;\n",
       "  }\n",
       "</style><div class='table-result-container'><table class='table-result'><thead style='background-color: white'><tr></tr></thead><tbody></tbody></table></div>"
      ]
     },
     "metadata": {
      "application/vnd.databricks.v1+output": {
       "addedWidgets": {},
       "aggData": [],
       "aggError": "",
       "aggOverflow": false,
       "aggSchema": [],
       "aggSeriesLimitReached": false,
       "aggType": "",
       "arguments": {},
       "columnCustomDisplayInfos": {},
       "data": [],
       "datasetInfos": [],
       "dbfsResultPath": null,
       "isJsonSchema": true,
       "metadata": {},
       "overflow": false,
       "plotOptions": {
        "customPlotOptions": {},
        "displayType": "table",
        "pivotAggregation": null,
        "pivotColumns": null,
        "xColumns": null,
        "yColumns": null
       },
       "removedWidgets": [],
       "schema": [],
       "type": "table"
      }
     },
     "output_type": "display_data"
    }
   ],
   "source": [
    "%sql\n",
    "create or replace table matches(\n",
    "  MatchId int,\n",
    "  TeamGroup varchar(20),\n",
    "  home_country varchar(20),\n",
    "  away_country varchar (20),\n",
    "  home_country_goal int,\n",
    "  away_country_goal int,\n",
    "  winner_country varchar(20)\n",
    ")"
   ]
  },
  {
   "cell_type": "code",
   "execution_count": 0,
   "metadata": {
    "application/vnd.databricks.v1+cell": {
     "cellMetadata": {
      "byteLimit": 2048000,
      "implicitDf": true,
      "rowLimit": 10000
     },
     "inputWidgets": {},
     "nuid": "dc83f082-1959-439c-8b54-baaff4a565d0",
     "showTitle": false,
     "title": ""
    }
   },
   "outputs": [
    {
     "output_type": "display_data",
     "data": {
      "text/html": [
       "<style scoped>\n",
       "  .table-result-container {\n",
       "    max-height: 300px;\n",
       "    overflow: auto;\n",
       "  }\n",
       "  table, th, td {\n",
       "    border: 1px solid black;\n",
       "    border-collapse: collapse;\n",
       "  }\n",
       "  th, td {\n",
       "    padding: 5px;\n",
       "  }\n",
       "  th {\n",
       "    text-align: left;\n",
       "  }\n",
       "</style><div class='table-result-container'><table class='table-result'><thead style='background-color: white'><tr><th>MatchId</th><th>TeamGroup</th><th>home_country</th><th>away_country</th><th>home_country_goal</th><th>away_country_goal</th><th>winner_country</th></tr></thead><tbody><tr><td>1</td><td>A</td><td>France</td><td>Portugal</td><td>3</td><td>4</td><td>Initially Draw</td></tr><tr><td>2</td><td>A</td><td>France</td><td>Belgium</td><td>3</td><td>3</td><td>Initially Draw</td></tr><tr><td>3</td><td>A</td><td>France</td><td>Italy</td><td>5</td><td>1</td><td>Initially Draw</td></tr><tr><td>4</td><td>A</td><td>Italy</td><td>Portugal</td><td>4</td><td>3</td><td>Initially Draw</td></tr><tr><td>5</td><td>A</td><td>Italy</td><td>Belgium</td><td>4</td><td>6</td><td>Initially Draw</td></tr><tr><td>6</td><td>A</td><td>Belgium</td><td>Portugal</td><td>4</td><td>3</td><td>Initially Draw</td></tr><tr><td>7</td><td>B</td><td>Spain</td><td>England</td><td>6</td><td>2</td><td>Initially Draw</td></tr><tr><td>8</td><td>B</td><td>Spain</td><td>Germany</td><td>4</td><td>3</td><td>Initially Draw</td></tr><tr><td>9</td><td>B</td><td>Spain</td><td>Netherlands</td><td>4</td><td>5</td><td>Initially Draw</td></tr><tr><td>10</td><td>B</td><td>Netherlands</td><td>England</td><td>1</td><td>3</td><td>Initially Draw</td></tr><tr><td>11</td><td>B</td><td>Netherlands</td><td>Germany</td><td>2</td><td>5</td><td>Initially Draw</td></tr><tr><td>12</td><td>B</td><td>Germany</td><td>England</td><td>4</td><td>5</td><td>Initially Draw</td></tr><tr><td>13</td><td>C</td><td>Turkey</td><td>Denmark</td><td>1</td><td>2</td><td>Initially Draw</td></tr><tr><td>14</td><td>C</td><td>Turkey</td><td>Switzerland</td><td>6</td><td>4</td><td>Initially Draw</td></tr><tr><td>15</td><td>C</td><td>Turkey</td><td>Austria</td><td>5</td><td>6</td><td>Initially Draw</td></tr><tr><td>16</td><td>C</td><td>Austria</td><td>Denmark</td><td>3</td><td>5</td><td>Initially Draw</td></tr><tr><td>17</td><td>C</td><td>Austria</td><td>Switzerland</td><td>6</td><td>6</td><td>Initially Draw</td></tr><tr><td>18</td><td>C</td><td>Switzerland</td><td>Denmark</td><td>1</td><td>6</td><td>Initially Draw</td></tr><tr><td>19</td><td>D</td><td>Croatia</td><td>Poland</td><td>1</td><td>5</td><td>Initially Draw</td></tr><tr><td>20</td><td>D</td><td>Croatia</td><td>Sweden</td><td>1</td><td>5</td><td>Initially Draw</td></tr><tr><td>21</td><td>D</td><td>Croatia</td><td>Ukraine</td><td>2</td><td>5</td><td>Initially Draw</td></tr><tr><td>22</td><td>D</td><td>Ukraine</td><td>Poland</td><td>4</td><td>4</td><td>Initially Draw</td></tr><tr><td>23</td><td>D</td><td>Ukraine</td><td>Sweden</td><td>4</td><td>2</td><td>Initially Draw</td></tr><tr><td>24</td><td>D</td><td>Sweden</td><td>Poland</td><td>2</td><td>2</td><td>Initially Draw</td></tr><tr><td>25</td><td>E</td><td>Wales</td><td>Hungary</td><td>5</td><td>3</td><td>Initially Draw</td></tr><tr><td>26</td><td>E</td><td>Wales</td><td>Slovakia</td><td>1</td><td>3</td><td>Initially Draw</td></tr><tr><td>27</td><td>E</td><td>Wales</td><td>Czech Republic</td><td>1</td><td>5</td><td>Initially Draw</td></tr><tr><td>28</td><td>E</td><td>Czech Republic</td><td>Hungary</td><td>4</td><td>2</td><td>Initially Draw</td></tr><tr><td>29</td><td>E</td><td>Czech Republic</td><td>Slovakia</td><td>1</td><td>3</td><td>Initially Draw</td></tr><tr><td>30</td><td>E</td><td>Slovakia</td><td>Hungary</td><td>2</td><td>6</td><td>Initially Draw</td></tr><tr><td>31</td><td>F</td><td>Finland</td><td>Russia</td><td>2</td><td>1</td><td>Initially Draw</td></tr><tr><td>32</td><td>F</td><td>Finland</td><td>Scotland</td><td>5</td><td>5</td><td>Initially Draw</td></tr><tr><td>33</td><td>F</td><td>Finland</td><td>North Macedonia</td><td>4</td><td>1</td><td>Initially Draw</td></tr><tr><td>34</td><td>F</td><td>North Macedonia</td><td>Russia</td><td>5</td><td>5</td><td>Initially Draw</td></tr><tr><td>35</td><td>F</td><td>North Macedonia</td><td>Scotland</td><td>5</td><td>3</td><td>Initially Draw</td></tr><tr><td>36</td><td>F</td><td>Scotland</td><td>Russia</td><td>6</td><td>5</td><td>Initially Draw</td></tr></tbody></table></div>"
      ]
     },
     "metadata": {
      "application/vnd.databricks.v1+output": {
       "addedWidgets": {},
       "aggData": [],
       "aggError": "",
       "aggOverflow": false,
       "aggSchema": [],
       "aggSeriesLimitReached": false,
       "aggType": "",
       "arguments": {},
       "columnCustomDisplayInfos": {},
       "data": [
        [
         1,
         "A",
         "France",
         "Portugal",
         3,
         4,
         "Initially Draw"
        ],
        [
         2,
         "A",
         "France",
         "Belgium",
         3,
         3,
         "Initially Draw"
        ],
        [
         3,
         "A",
         "France",
         "Italy",
         5,
         1,
         "Initially Draw"
        ],
        [
         4,
         "A",
         "Italy",
         "Portugal",
         4,
         3,
         "Initially Draw"
        ],
        [
         5,
         "A",
         "Italy",
         "Belgium",
         4,
         6,
         "Initially Draw"
        ],
        [
         6,
         "A",
         "Belgium",
         "Portugal",
         4,
         3,
         "Initially Draw"
        ],
        [
         7,
         "B",
         "Spain",
         "England",
         6,
         2,
         "Initially Draw"
        ],
        [
         8,
         "B",
         "Spain",
         "Germany",
         4,
         3,
         "Initially Draw"
        ],
        [
         9,
         "B",
         "Spain",
         "Netherlands",
         4,
         5,
         "Initially Draw"
        ],
        [
         10,
         "B",
         "Netherlands",
         "England",
         1,
         3,
         "Initially Draw"
        ],
        [
         11,
         "B",
         "Netherlands",
         "Germany",
         2,
         5,
         "Initially Draw"
        ],
        [
         12,
         "B",
         "Germany",
         "England",
         4,
         5,
         "Initially Draw"
        ],
        [
         13,
         "C",
         "Turkey",
         "Denmark",
         1,
         2,
         "Initially Draw"
        ],
        [
         14,
         "C",
         "Turkey",
         "Switzerland",
         6,
         4,
         "Initially Draw"
        ],
        [
         15,
         "C",
         "Turkey",
         "Austria",
         5,
         6,
         "Initially Draw"
        ],
        [
         16,
         "C",
         "Austria",
         "Denmark",
         3,
         5,
         "Initially Draw"
        ],
        [
         17,
         "C",
         "Austria",
         "Switzerland",
         6,
         6,
         "Initially Draw"
        ],
        [
         18,
         "C",
         "Switzerland",
         "Denmark",
         1,
         6,
         "Initially Draw"
        ],
        [
         19,
         "D",
         "Croatia",
         "Poland",
         1,
         5,
         "Initially Draw"
        ],
        [
         20,
         "D",
         "Croatia",
         "Sweden",
         1,
         5,
         "Initially Draw"
        ],
        [
         21,
         "D",
         "Croatia",
         "Ukraine",
         2,
         5,
         "Initially Draw"
        ],
        [
         22,
         "D",
         "Ukraine",
         "Poland",
         4,
         4,
         "Initially Draw"
        ],
        [
         23,
         "D",
         "Ukraine",
         "Sweden",
         4,
         2,
         "Initially Draw"
        ],
        [
         24,
         "D",
         "Sweden",
         "Poland",
         2,
         2,
         "Initially Draw"
        ],
        [
         25,
         "E",
         "Wales",
         "Hungary",
         5,
         3,
         "Initially Draw"
        ],
        [
         26,
         "E",
         "Wales",
         "Slovakia",
         1,
         3,
         "Initially Draw"
        ],
        [
         27,
         "E",
         "Wales",
         "Czech Republic",
         1,
         5,
         "Initially Draw"
        ],
        [
         28,
         "E",
         "Czech Republic",
         "Hungary",
         4,
         2,
         "Initially Draw"
        ],
        [
         29,
         "E",
         "Czech Republic",
         "Slovakia",
         1,
         3,
         "Initially Draw"
        ],
        [
         30,
         "E",
         "Slovakia",
         "Hungary",
         2,
         6,
         "Initially Draw"
        ],
        [
         31,
         "F",
         "Finland",
         "Russia",
         2,
         1,
         "Initially Draw"
        ],
        [
         32,
         "F",
         "Finland",
         "Scotland",
         5,
         5,
         "Initially Draw"
        ],
        [
         33,
         "F",
         "Finland",
         "North Macedonia",
         4,
         1,
         "Initially Draw"
        ],
        [
         34,
         "F",
         "North Macedonia",
         "Russia",
         5,
         5,
         "Initially Draw"
        ],
        [
         35,
         "F",
         "North Macedonia",
         "Scotland",
         5,
         3,
         "Initially Draw"
        ],
        [
         36,
         "F",
         "Scotland",
         "Russia",
         6,
         5,
         "Initially Draw"
        ]
       ],
       "datasetInfos": [],
       "dbfsResultPath": null,
       "isJsonSchema": true,
       "metadata": {},
       "overflow": false,
       "plotOptions": {
        "customPlotOptions": {},
        "displayType": "table",
        "pivotAggregation": null,
        "pivotColumns": null,
        "xColumns": null,
        "yColumns": null
       },
       "removedWidgets": [],
       "schema": [
        {
         "metadata": "{}",
         "name": "MatchId",
         "type": "\"integer\""
        },
        {
         "metadata": "{\"__CHAR_VARCHAR_TYPE_STRING\":\"varchar(20)\"}",
         "name": "TeamGroup",
         "type": "\"string\""
        },
        {
         "metadata": "{\"__CHAR_VARCHAR_TYPE_STRING\":\"varchar(20)\"}",
         "name": "home_country",
         "type": "\"string\""
        },
        {
         "metadata": "{\"__CHAR_VARCHAR_TYPE_STRING\":\"varchar(20)\"}",
         "name": "away_country",
         "type": "\"string\""
        },
        {
         "metadata": "{}",
         "name": "home_country_goal",
         "type": "\"integer\""
        },
        {
         "metadata": "{}",
         "name": "away_country_goal",
         "type": "\"integer\""
        },
        {
         "metadata": "{\"__CHAR_VARCHAR_TYPE_STRING\":\"varchar(20)\"}",
         "name": "winner_country",
         "type": "\"string\""
        }
       ],
       "type": "table"
      }
     },
     "output_type": "display_data"
    }
   ],
   "source": [
    "%sql\n",
    "INSERT INTO matches\n",
    "SELECT DISTINCT\n",
    "row_number() OVER (ORDER BY 1) as MATCHID,\n",
    "t1.TeamGroup as TeamGroup,\n",
    "t1.TeamName AS home_country,\n",
    "t2.TeamName As away_country,\n",
    "(SELECT FLOOR(RAND() * 6) + 1) AS home_country_goal,\n",
    "(SELECT FLOOR(RAND() * 6) + 1) AS away_country_goal,\n",
    "'Initially Draw' AS winner_country\n",
    "\n",
    "FROM\n",
    "qualified_country_list as t1\n",
    "JOIN\n",
    "qualified_country_list as t2\n",
    "ON t1.TeamGroup = t2.TeamGroup AND t1.TeamId < t2.TeamId;\n",
    "\n",
    "\n",
    "select * from matches;"
   ]
  },
  {
   "cell_type": "code",
   "execution_count": 0,
   "metadata": {
    "application/vnd.databricks.v1+cell": {
     "cellMetadata": {
      "byteLimit": 2048000,
      "implicitDf": true,
      "rowLimit": 10000
     },
     "inputWidgets": {},
     "nuid": "bbcbbb1a-c447-46b0-aed8-f553685a81df",
     "showTitle": false,
     "title": ""
    }
   },
   "outputs": [
    {
     "output_type": "display_data",
     "data": {
      "text/html": [
       "<style scoped>\n",
       "  .table-result-container {\n",
       "    max-height: 300px;\n",
       "    overflow: auto;\n",
       "  }\n",
       "  table, th, td {\n",
       "    border: 1px solid black;\n",
       "    border-collapse: collapse;\n",
       "  }\n",
       "  th, td {\n",
       "    padding: 5px;\n",
       "  }\n",
       "  th {\n",
       "    text-align: left;\n",
       "  }\n",
       "</style><div class='table-result-container'><table class='table-result'><thead style='background-color: white'><tr><th>MatchId</th><th>TeamGroup</th><th>home_country</th><th>away_country</th><th>home_country_goal</th><th>away_country_goal</th><th>winner_country</th></tr></thead><tbody><tr><td>1</td><td>A</td><td>France</td><td>Portugal</td><td>3</td><td>4</td><td>Portugal</td></tr><tr><td>2</td><td>A</td><td>France</td><td>Belgium</td><td>3</td><td>3</td><td>Draw</td></tr><tr><td>3</td><td>A</td><td>France</td><td>Italy</td><td>5</td><td>1</td><td>France</td></tr><tr><td>4</td><td>A</td><td>Italy</td><td>Portugal</td><td>4</td><td>3</td><td>Italy</td></tr><tr><td>5</td><td>A</td><td>Italy</td><td>Belgium</td><td>4</td><td>6</td><td>Belgium</td></tr><tr><td>6</td><td>A</td><td>Belgium</td><td>Portugal</td><td>4</td><td>3</td><td>Belgium</td></tr><tr><td>7</td><td>B</td><td>Spain</td><td>England</td><td>6</td><td>2</td><td>Spain</td></tr><tr><td>8</td><td>B</td><td>Spain</td><td>Germany</td><td>4</td><td>3</td><td>Spain</td></tr><tr><td>9</td><td>B</td><td>Spain</td><td>Netherlands</td><td>4</td><td>5</td><td>Netherlands</td></tr><tr><td>10</td><td>B</td><td>Netherlands</td><td>England</td><td>1</td><td>3</td><td>England</td></tr><tr><td>11</td><td>B</td><td>Netherlands</td><td>Germany</td><td>2</td><td>5</td><td>Germany</td></tr><tr><td>12</td><td>B</td><td>Germany</td><td>England</td><td>4</td><td>5</td><td>England</td></tr><tr><td>13</td><td>C</td><td>Turkey</td><td>Denmark</td><td>1</td><td>2</td><td>Denmark</td></tr><tr><td>14</td><td>C</td><td>Turkey</td><td>Switzerland</td><td>6</td><td>4</td><td>Turkey</td></tr><tr><td>15</td><td>C</td><td>Turkey</td><td>Austria</td><td>5</td><td>6</td><td>Austria</td></tr><tr><td>16</td><td>C</td><td>Austria</td><td>Denmark</td><td>3</td><td>5</td><td>Denmark</td></tr><tr><td>17</td><td>C</td><td>Austria</td><td>Switzerland</td><td>6</td><td>6</td><td>Draw</td></tr><tr><td>18</td><td>C</td><td>Switzerland</td><td>Denmark</td><td>1</td><td>6</td><td>Denmark</td></tr><tr><td>19</td><td>D</td><td>Croatia</td><td>Poland</td><td>1</td><td>5</td><td>Poland</td></tr><tr><td>20</td><td>D</td><td>Croatia</td><td>Sweden</td><td>1</td><td>5</td><td>Sweden</td></tr><tr><td>21</td><td>D</td><td>Croatia</td><td>Ukraine</td><td>2</td><td>5</td><td>Ukraine</td></tr><tr><td>22</td><td>D</td><td>Ukraine</td><td>Poland</td><td>4</td><td>4</td><td>Draw</td></tr><tr><td>23</td><td>D</td><td>Ukraine</td><td>Sweden</td><td>4</td><td>2</td><td>Ukraine</td></tr><tr><td>24</td><td>D</td><td>Sweden</td><td>Poland</td><td>2</td><td>2</td><td>Draw</td></tr><tr><td>25</td><td>E</td><td>Wales</td><td>Hungary</td><td>5</td><td>3</td><td>Wales</td></tr><tr><td>26</td><td>E</td><td>Wales</td><td>Slovakia</td><td>1</td><td>3</td><td>Slovakia</td></tr><tr><td>27</td><td>E</td><td>Wales</td><td>Czech Republic</td><td>1</td><td>5</td><td>Czech Republic</td></tr><tr><td>28</td><td>E</td><td>Czech Republic</td><td>Hungary</td><td>4</td><td>2</td><td>Czech Republic</td></tr><tr><td>29</td><td>E</td><td>Czech Republic</td><td>Slovakia</td><td>1</td><td>3</td><td>Slovakia</td></tr><tr><td>30</td><td>E</td><td>Slovakia</td><td>Hungary</td><td>2</td><td>6</td><td>Hungary</td></tr><tr><td>31</td><td>F</td><td>Finland</td><td>Russia</td><td>2</td><td>1</td><td>Finland</td></tr><tr><td>32</td><td>F</td><td>Finland</td><td>Scotland</td><td>5</td><td>5</td><td>Draw</td></tr><tr><td>33</td><td>F</td><td>Finland</td><td>North Macedonia</td><td>4</td><td>1</td><td>Finland</td></tr><tr><td>34</td><td>F</td><td>North Macedonia</td><td>Russia</td><td>5</td><td>5</td><td>Draw</td></tr><tr><td>35</td><td>F</td><td>North Macedonia</td><td>Scotland</td><td>5</td><td>3</td><td>North Macedonia</td></tr><tr><td>36</td><td>F</td><td>Scotland</td><td>Russia</td><td>6</td><td>5</td><td>Scotland</td></tr></tbody></table></div>"
      ]
     },
     "metadata": {
      "application/vnd.databricks.v1+output": {
       "addedWidgets": {},
       "aggData": [],
       "aggError": "",
       "aggOverflow": false,
       "aggSchema": [],
       "aggSeriesLimitReached": false,
       "aggType": "",
       "arguments": {},
       "columnCustomDisplayInfos": {},
       "data": [
        [
         1,
         "A",
         "France",
         "Portugal",
         3,
         4,
         "Portugal"
        ],
        [
         2,
         "A",
         "France",
         "Belgium",
         3,
         3,
         "Draw"
        ],
        [
         3,
         "A",
         "France",
         "Italy",
         5,
         1,
         "France"
        ],
        [
         4,
         "A",
         "Italy",
         "Portugal",
         4,
         3,
         "Italy"
        ],
        [
         5,
         "A",
         "Italy",
         "Belgium",
         4,
         6,
         "Belgium"
        ],
        [
         6,
         "A",
         "Belgium",
         "Portugal",
         4,
         3,
         "Belgium"
        ],
        [
         7,
         "B",
         "Spain",
         "England",
         6,
         2,
         "Spain"
        ],
        [
         8,
         "B",
         "Spain",
         "Germany",
         4,
         3,
         "Spain"
        ],
        [
         9,
         "B",
         "Spain",
         "Netherlands",
         4,
         5,
         "Netherlands"
        ],
        [
         10,
         "B",
         "Netherlands",
         "England",
         1,
         3,
         "England"
        ],
        [
         11,
         "B",
         "Netherlands",
         "Germany",
         2,
         5,
         "Germany"
        ],
        [
         12,
         "B",
         "Germany",
         "England",
         4,
         5,
         "England"
        ],
        [
         13,
         "C",
         "Turkey",
         "Denmark",
         1,
         2,
         "Denmark"
        ],
        [
         14,
         "C",
         "Turkey",
         "Switzerland",
         6,
         4,
         "Turkey"
        ],
        [
         15,
         "C",
         "Turkey",
         "Austria",
         5,
         6,
         "Austria"
        ],
        [
         16,
         "C",
         "Austria",
         "Denmark",
         3,
         5,
         "Denmark"
        ],
        [
         17,
         "C",
         "Austria",
         "Switzerland",
         6,
         6,
         "Draw"
        ],
        [
         18,
         "C",
         "Switzerland",
         "Denmark",
         1,
         6,
         "Denmark"
        ],
        [
         19,
         "D",
         "Croatia",
         "Poland",
         1,
         5,
         "Poland"
        ],
        [
         20,
         "D",
         "Croatia",
         "Sweden",
         1,
         5,
         "Sweden"
        ],
        [
         21,
         "D",
         "Croatia",
         "Ukraine",
         2,
         5,
         "Ukraine"
        ],
        [
         22,
         "D",
         "Ukraine",
         "Poland",
         4,
         4,
         "Draw"
        ],
        [
         23,
         "D",
         "Ukraine",
         "Sweden",
         4,
         2,
         "Ukraine"
        ],
        [
         24,
         "D",
         "Sweden",
         "Poland",
         2,
         2,
         "Draw"
        ],
        [
         25,
         "E",
         "Wales",
         "Hungary",
         5,
         3,
         "Wales"
        ],
        [
         26,
         "E",
         "Wales",
         "Slovakia",
         1,
         3,
         "Slovakia"
        ],
        [
         27,
         "E",
         "Wales",
         "Czech Republic",
         1,
         5,
         "Czech Republic"
        ],
        [
         28,
         "E",
         "Czech Republic",
         "Hungary",
         4,
         2,
         "Czech Republic"
        ],
        [
         29,
         "E",
         "Czech Republic",
         "Slovakia",
         1,
         3,
         "Slovakia"
        ],
        [
         30,
         "E",
         "Slovakia",
         "Hungary",
         2,
         6,
         "Hungary"
        ],
        [
         31,
         "F",
         "Finland",
         "Russia",
         2,
         1,
         "Finland"
        ],
        [
         32,
         "F",
         "Finland",
         "Scotland",
         5,
         5,
         "Draw"
        ],
        [
         33,
         "F",
         "Finland",
         "North Macedonia",
         4,
         1,
         "Finland"
        ],
        [
         34,
         "F",
         "North Macedonia",
         "Russia",
         5,
         5,
         "Draw"
        ],
        [
         35,
         "F",
         "North Macedonia",
         "Scotland",
         5,
         3,
         "North Macedonia"
        ],
        [
         36,
         "F",
         "Scotland",
         "Russia",
         6,
         5,
         "Scotland"
        ]
       ],
       "datasetInfos": [],
       "dbfsResultPath": null,
       "isJsonSchema": true,
       "metadata": {},
       "overflow": false,
       "plotOptions": {
        "customPlotOptions": {},
        "displayType": "table",
        "pivotAggregation": null,
        "pivotColumns": null,
        "xColumns": null,
        "yColumns": null
       },
       "removedWidgets": [],
       "schema": [
        {
         "metadata": "{}",
         "name": "MatchId",
         "type": "\"integer\""
        },
        {
         "metadata": "{\"__CHAR_VARCHAR_TYPE_STRING\":\"varchar(20)\"}",
         "name": "TeamGroup",
         "type": "\"string\""
        },
        {
         "metadata": "{\"__CHAR_VARCHAR_TYPE_STRING\":\"varchar(20)\"}",
         "name": "home_country",
         "type": "\"string\""
        },
        {
         "metadata": "{\"__CHAR_VARCHAR_TYPE_STRING\":\"varchar(20)\"}",
         "name": "away_country",
         "type": "\"string\""
        },
        {
         "metadata": "{}",
         "name": "home_country_goal",
         "type": "\"integer\""
        },
        {
         "metadata": "{}",
         "name": "away_country_goal",
         "type": "\"integer\""
        },
        {
         "metadata": "{\"__CHAR_VARCHAR_TYPE_STRING\":\"varchar(20)\"}",
         "name": "winner_country",
         "type": "\"string\""
        }
       ],
       "type": "table"
      }
     },
     "output_type": "display_data"
    }
   ],
   "source": [
    "%sql\n",
    "UPDATE matches SET winner_country = \n",
    "CASE\n",
    "WHEN home_country_goal > away_country_goal THEN home_country\n",
    "WHEN home_country_goal < away_country_goal THEN away_country\n",
    "ELSE 'Draw'\n",
    "END;\n",
    "\n",
    "select * from matches;"
   ]
  },
  {
   "cell_type": "code",
   "execution_count": 0,
   "metadata": {
    "application/vnd.databricks.v1+cell": {
     "cellMetadata": {
      "byteLimit": 2048000,
      "implicitDf": true,
      "rowLimit": 10000
     },
     "inputWidgets": {},
     "nuid": "80139a42-62d6-4a55-9d6e-75f72efebac5",
     "showTitle": false,
     "title": ""
    }
   },
   "outputs": [
    {
     "output_type": "display_data",
     "data": {
      "text/html": [
       "<style scoped>\n",
       "  .table-result-container {\n",
       "    max-height: 300px;\n",
       "    overflow: auto;\n",
       "  }\n",
       "  table, th, td {\n",
       "    border: 1px solid black;\n",
       "    border-collapse: collapse;\n",
       "  }\n",
       "  th, td {\n",
       "    padding: 5px;\n",
       "  }\n",
       "  th {\n",
       "    text-align: left;\n",
       "  }\n",
       "</style><div class='table-result-container'><table class='table-result'><thead style='background-color: white'><tr><th>TeamName</th><th>TeamGroup</th><th>Matches_Played</th><th>Matches_won</th><th>Matches_draw</th><th>Matches_lost</th><th>Goals_scored</th><th>Goals_allowed</th><th>Goal_difference</th><th>points</th></tr></thead><tbody><tr><td>Belgium</td><td>A</td><td>3</td><td>2</td><td>1</td><td>0</td><td>13</td><td>10</td><td>3</td><td>7</td></tr><tr><td>France</td><td>A</td><td>3</td><td>1</td><td>1</td><td>1</td><td>11</td><td>8</td><td>3</td><td>4</td></tr><tr><td>Italy</td><td>A</td><td>3</td><td>1</td><td>0</td><td>2</td><td>9</td><td>14</td><td>-5</td><td>3</td></tr><tr><td>Portugal</td><td>A</td><td>3</td><td>1</td><td>0</td><td>2</td><td>10</td><td>11</td><td>-1</td><td>3</td></tr><tr><td>Spain</td><td>B</td><td>3</td><td>2</td><td>0</td><td>1</td><td>14</td><td>10</td><td>4</td><td>6</td></tr><tr><td>England</td><td>B</td><td>3</td><td>2</td><td>0</td><td>1</td><td>10</td><td>11</td><td>-1</td><td>6</td></tr><tr><td>Netherlands</td><td>B</td><td>3</td><td>1</td><td>0</td><td>2</td><td>8</td><td>12</td><td>-4</td><td>3</td></tr><tr><td>Germany</td><td>B</td><td>3</td><td>1</td><td>0</td><td>2</td><td>12</td><td>11</td><td>1</td><td>3</td></tr><tr><td>Denmark</td><td>C</td><td>3</td><td>3</td><td>0</td><td>0</td><td>13</td><td>5</td><td>8</td><td>9</td></tr><tr><td>Austria</td><td>C</td><td>3</td><td>1</td><td>1</td><td>1</td><td>15</td><td>16</td><td>-1</td><td>4</td></tr><tr><td>Turkey</td><td>C</td><td>3</td><td>1</td><td>0</td><td>2</td><td>12</td><td>12</td><td>0</td><td>3</td></tr><tr><td>Switzerland</td><td>C</td><td>3</td><td>0</td><td>1</td><td>2</td><td>11</td><td>18</td><td>-7</td><td>1</td></tr><tr><td>Ukraine</td><td>D</td><td>3</td><td>2</td><td>1</td><td>0</td><td>13</td><td>8</td><td>5</td><td>7</td></tr><tr><td>Poland</td><td>D</td><td>3</td><td>1</td><td>2</td><td>0</td><td>11</td><td>7</td><td>4</td><td>5</td></tr><tr><td>Sweden</td><td>D</td><td>3</td><td>1</td><td>1</td><td>1</td><td>9</td><td>7</td><td>2</td><td>4</td></tr><tr><td>Croatia</td><td>D</td><td>3</td><td>0</td><td>0</td><td>3</td><td>4</td><td>15</td><td>-11</td><td>0</td></tr><tr><td>Czech Republic</td><td>E</td><td>3</td><td>2</td><td>0</td><td>1</td><td>10</td><td>6</td><td>4</td><td>6</td></tr><tr><td>Slovakia</td><td>E</td><td>3</td><td>2</td><td>0</td><td>1</td><td>8</td><td>8</td><td>0</td><td>6</td></tr><tr><td>Wales</td><td>E</td><td>3</td><td>1</td><td>0</td><td>2</td><td>7</td><td>11</td><td>-4</td><td>3</td></tr><tr><td>Hungary</td><td>E</td><td>3</td><td>1</td><td>0</td><td>2</td><td>11</td><td>11</td><td>0</td><td>3</td></tr><tr><td>Finland</td><td>F</td><td>3</td><td>2</td><td>1</td><td>0</td><td>11</td><td>7</td><td>4</td><td>7</td></tr><tr><td>North Macedonia</td><td>F</td><td>3</td><td>1</td><td>1</td><td>1</td><td>11</td><td>12</td><td>-1</td><td>4</td></tr><tr><td>Scotland</td><td>F</td><td>3</td><td>1</td><td>1</td><td>1</td><td>14</td><td>15</td><td>-1</td><td>4</td></tr><tr><td>Russia</td><td>F</td><td>3</td><td>0</td><td>1</td><td>2</td><td>11</td><td>13</td><td>-2</td><td>1</td></tr></tbody></table></div>"
      ]
     },
     "metadata": {
      "application/vnd.databricks.v1+output": {
       "addedWidgets": {},
       "aggData": [],
       "aggError": "",
       "aggOverflow": false,
       "aggSchema": [],
       "aggSeriesLimitReached": false,
       "aggType": "",
       "arguments": {},
       "columnCustomDisplayInfos": {},
       "data": [
        [
         "Belgium",
         "A",
         3,
         2,
         1,
         0,
         13,
         10,
         3,
         7
        ],
        [
         "France",
         "A",
         3,
         1,
         1,
         1,
         11,
         8,
         3,
         4
        ],
        [
         "Italy",
         "A",
         3,
         1,
         0,
         2,
         9,
         14,
         -5,
         3
        ],
        [
         "Portugal",
         "A",
         3,
         1,
         0,
         2,
         10,
         11,
         -1,
         3
        ],
        [
         "Spain",
         "B",
         3,
         2,
         0,
         1,
         14,
         10,
         4,
         6
        ],
        [
         "England",
         "B",
         3,
         2,
         0,
         1,
         10,
         11,
         -1,
         6
        ],
        [
         "Netherlands",
         "B",
         3,
         1,
         0,
         2,
         8,
         12,
         -4,
         3
        ],
        [
         "Germany",
         "B",
         3,
         1,
         0,
         2,
         12,
         11,
         1,
         3
        ],
        [
         "Denmark",
         "C",
         3,
         3,
         0,
         0,
         13,
         5,
         8,
         9
        ],
        [
         "Austria",
         "C",
         3,
         1,
         1,
         1,
         15,
         16,
         -1,
         4
        ],
        [
         "Turkey",
         "C",
         3,
         1,
         0,
         2,
         12,
         12,
         0,
         3
        ],
        [
         "Switzerland",
         "C",
         3,
         0,
         1,
         2,
         11,
         18,
         -7,
         1
        ],
        [
         "Ukraine",
         "D",
         3,
         2,
         1,
         0,
         13,
         8,
         5,
         7
        ],
        [
         "Poland",
         "D",
         3,
         1,
         2,
         0,
         11,
         7,
         4,
         5
        ],
        [
         "Sweden",
         "D",
         3,
         1,
         1,
         1,
         9,
         7,
         2,
         4
        ],
        [
         "Croatia",
         "D",
         3,
         0,
         0,
         3,
         4,
         15,
         -11,
         0
        ],
        [
         "Czech Republic",
         "E",
         3,
         2,
         0,
         1,
         10,
         6,
         4,
         6
        ],
        [
         "Slovakia",
         "E",
         3,
         2,
         0,
         1,
         8,
         8,
         0,
         6
        ],
        [
         "Wales",
         "E",
         3,
         1,
         0,
         2,
         7,
         11,
         -4,
         3
        ],
        [
         "Hungary",
         "E",
         3,
         1,
         0,
         2,
         11,
         11,
         0,
         3
        ],
        [
         "Finland",
         "F",
         3,
         2,
         1,
         0,
         11,
         7,
         4,
         7
        ],
        [
         "North Macedonia",
         "F",
         3,
         1,
         1,
         1,
         11,
         12,
         -1,
         4
        ],
        [
         "Scotland",
         "F",
         3,
         1,
         1,
         1,
         14,
         15,
         -1,
         4
        ],
        [
         "Russia",
         "F",
         3,
         0,
         1,
         2,
         11,
         13,
         -2,
         1
        ]
       ],
       "datasetInfos": [],
       "dbfsResultPath": null,
       "isJsonSchema": true,
       "metadata": {},
       "overflow": false,
       "plotOptions": {
        "customPlotOptions": {},
        "displayType": "table",
        "pivotAggregation": null,
        "pivotColumns": null,
        "xColumns": null,
        "yColumns": null
       },
       "removedWidgets": [],
       "schema": [
        {
         "metadata": "{\"__CHAR_VARCHAR_TYPE_STRING\":\"varchar(20)\"}",
         "name": "TeamName",
         "type": "\"string\""
        },
        {
         "metadata": "{\"__CHAR_VARCHAR_TYPE_STRING\":\"varchar(20)\"}",
         "name": "TeamGroup",
         "type": "\"string\""
        },
        {
         "metadata": "{}",
         "name": "Matches_Played",
         "type": "\"long\""
        },
        {
         "metadata": "{}",
         "name": "Matches_won",
         "type": "\"long\""
        },
        {
         "metadata": "{}",
         "name": "Matches_draw",
         "type": "\"long\""
        },
        {
         "metadata": "{}",
         "name": "Matches_lost",
         "type": "\"long\""
        },
        {
         "metadata": "{}",
         "name": "Goals_scored",
         "type": "\"long\""
        },
        {
         "metadata": "{}",
         "name": "Goals_allowed",
         "type": "\"long\""
        },
        {
         "metadata": "{}",
         "name": "Goal_difference",
         "type": "\"long\""
        },
        {
         "metadata": "{}",
         "name": "points",
         "type": "\"long\""
        }
       ],
       "type": "table"
      }
     },
     "output_type": "display_data"
    }
   ],
   "source": [
    "%sql\n",
    "CREATE OR REPLACE TABLE group_stage_ranking AS\n",
    "SELECT\n",
    "  team_id as TeamName,\n",
    "  TeamGroup,\n",
    "  COUNT(*) AS Matches_Played,\n",
    "  SUM (\n",
    "    CASE\n",
    "      WHEN goals_scored > goals_allowed THEN 1\n",
    "      ELSE 0\n",
    "    END\n",
    "  ) AS Matches_won,\n",
    "  SUM (\n",
    "    CASE\n",
    "      WHEN goals_scored = goals_allowed THEN 1\n",
    "      ELSE 0\n",
    "    END\n",
    "  ) AS Matches_draw,\n",
    "  SUM(\n",
    "    CASE\n",
    "      WHEN goals_scored < goals_allowed THEN 1\n",
    "      ELSE 0\n",
    "    END\n",
    "  ) AS Matches_lost,\n",
    "  SUM(goals_scored) AS Goals_scored,\n",
    "  SUM(goals_allowed) AS Goals_allowed,\n",
    "  SUM(goals_scored) - SUM(goals_allowed) AS Goal_difference,\n",
    "  SUM(\n",
    "    CASE\n",
    "      WHEN goals_scored > goals_allowed THEN 3\n",
    "      WHEN goals_scored = goals_allowed THEN 1\n",
    "      ELSE 0\n",
    "    END\n",
    "  ) AS points\n",
    "FROM(\n",
    "    SELECT\n",
    "      TeamGroup,\n",
    "      home_country AS team_id,\n",
    "      home_country_goal AS goals_scored,\n",
    "      away_country_goal AS goals_allowed\n",
    "    FROM\n",
    "      matches\n",
    "    UNION ALL\n",
    "    SELECT\n",
    "      TeamGroup,\n",
    "      away_country AS team_id,\n",
    "      away_country_goal AS goals_scored,\n",
    "      home_country_goal AS goals_allowed\n",
    "    FROM\n",
    "      matches\n",
    "  ) AS group_matches\n",
    "GROUP BY\n",
    "  team_id,\n",
    "  TeamGroup\n",
    "\n",
    "ORDER BY\n",
    "  TeamGroup,\n",
    "  points DESC;\n",
    "\n",
    "select * FROM group_stage_ranking;"
   ]
  },
  {
   "cell_type": "code",
   "execution_count": 0,
   "metadata": {
    "application/vnd.databricks.v1+cell": {
     "cellMetadata": {
      "byteLimit": 2048000,
      "rowLimit": 10000
     },
     "inputWidgets": {},
     "nuid": "e8189029-3cae-4002-be7f-2e8d001c592d",
     "showTitle": false,
     "title": ""
    }
   },
   "outputs": [],
   "source": []
  },
  {
   "cell_type": "code",
   "execution_count": 0,
   "metadata": {
    "application/vnd.databricks.v1+cell": {
     "cellMetadata": {
      "byteLimit": 2048000,
      "implicitDf": true,
      "rowLimit": 10000
     },
     "inputWidgets": {},
     "nuid": "7b140004-1b95-4bd9-a361-ed18714f1732",
     "showTitle": false,
     "title": ""
    }
   },
   "outputs": [
    {
     "output_type": "display_data",
     "data": {
      "text/html": [
       "<style scoped>\n",
       "  .table-result-container {\n",
       "    max-height: 300px;\n",
       "    overflow: auto;\n",
       "  }\n",
       "  table, th, td {\n",
       "    border: 1px solid black;\n",
       "    border-collapse: collapse;\n",
       "  }\n",
       "  th, td {\n",
       "    padding: 5px;\n",
       "  }\n",
       "  th {\n",
       "    text-align: left;\n",
       "  }\n",
       "</style><div class='table-result-container'><table class='table-result'><thead style='background-color: white'><tr><th>TeamName</th><th>TeamGroup</th><th>points</th><th>Goal_difference</th><th>ranks</th></tr></thead><tbody><tr><td>Belgium</td><td>A</td><td>7</td><td>3</td><td>1</td></tr><tr><td>France</td><td>A</td><td>4</td><td>3</td><td>2</td></tr><tr><td>Spain</td><td>B</td><td>6</td><td>4</td><td>1</td></tr><tr><td>England</td><td>B</td><td>6</td><td>-1</td><td>2</td></tr><tr><td>Denmark</td><td>C</td><td>9</td><td>8</td><td>1</td></tr><tr><td>Austria</td><td>C</td><td>4</td><td>-1</td><td>2</td></tr><tr><td>Ukraine</td><td>D</td><td>7</td><td>5</td><td>1</td></tr><tr><td>Poland</td><td>D</td><td>5</td><td>4</td><td>2</td></tr><tr><td>Czech Republic</td><td>E</td><td>6</td><td>4</td><td>1</td></tr><tr><td>Slovakia</td><td>E</td><td>6</td><td>0</td><td>2</td></tr><tr><td>Finland</td><td>F</td><td>7</td><td>4</td><td>1</td></tr><tr><td>Scotland</td><td>F</td><td>4</td><td>-1</td><td>2</td></tr></tbody></table></div>"
      ]
     },
     "metadata": {
      "application/vnd.databricks.v1+output": {
       "addedWidgets": {},
       "aggData": [],
       "aggError": "",
       "aggOverflow": false,
       "aggSchema": [],
       "aggSeriesLimitReached": false,
       "aggType": "",
       "arguments": {},
       "columnCustomDisplayInfos": {},
       "data": [
        [
         "Belgium",
         "A",
         7,
         3,
         1
        ],
        [
         "France",
         "A",
         4,
         3,
         2
        ],
        [
         "Spain",
         "B",
         6,
         4,
         1
        ],
        [
         "England",
         "B",
         6,
         -1,
         2
        ],
        [
         "Denmark",
         "C",
         9,
         8,
         1
        ],
        [
         "Austria",
         "C",
         4,
         -1,
         2
        ],
        [
         "Ukraine",
         "D",
         7,
         5,
         1
        ],
        [
         "Poland",
         "D",
         5,
         4,
         2
        ],
        [
         "Czech Republic",
         "E",
         6,
         4,
         1
        ],
        [
         "Slovakia",
         "E",
         6,
         0,
         2
        ],
        [
         "Finland",
         "F",
         7,
         4,
         1
        ],
        [
         "Scotland",
         "F",
         4,
         -1,
         2
        ]
       ],
       "datasetInfos": [],
       "dbfsResultPath": null,
       "isJsonSchema": true,
       "metadata": {},
       "overflow": false,
       "plotOptions": {
        "customPlotOptions": {},
        "displayType": "table",
        "pivotAggregation": null,
        "pivotColumns": null,
        "xColumns": null,
        "yColumns": null
       },
       "removedWidgets": [],
       "schema": [
        {
         "metadata": "{\"__CHAR_VARCHAR_TYPE_STRING\":\"varchar(20)\"}",
         "name": "TeamName",
         "type": "\"string\""
        },
        {
         "metadata": "{\"__CHAR_VARCHAR_TYPE_STRING\":\"varchar(20)\"}",
         "name": "TeamGroup",
         "type": "\"string\""
        },
        {
         "metadata": "{}",
         "name": "points",
         "type": "\"long\""
        },
        {
         "metadata": "{}",
         "name": "Goal_difference",
         "type": "\"long\""
        },
        {
         "metadata": "{}",
         "name": "ranks",
         "type": "\"integer\""
        }
       ],
       "type": "table"
      }
     },
     "output_type": "display_data"
    }
   ],
   "source": [
    "%sql\n",
    "CREATE OR REPLACE TABLE round_of_16 AS\n",
    "SELECT * FROM(\n",
    "  SELECT TeamName, TeamGroup, points, Goal_difference,\n",
    "  row_number() OVER (PARTITION BY TeamGroup ORDER BY points DESC, Goal_difference DESC, Goals_scored DESC, Matches_won DESC)AS ranks\n",
    "  FROM group_stage_ranking\n",
    ")AS top2_teams\n",
    "WHERE ranks <= 2;\n",
    "\n",
    "select * from round_of_16;"
   ]
  },
  {
   "cell_type": "code",
   "execution_count": 0,
   "metadata": {
    "application/vnd.databricks.v1+cell": {
     "cellMetadata": {
      "byteLimit": 2048000,
      "implicitDf": true,
      "rowLimit": 10000
     },
     "inputWidgets": {},
     "nuid": "00db53b9-b3b0-4229-ba6b-2cbbbc6bca5c",
     "showTitle": false,
     "title": ""
    }
   },
   "outputs": [
    {
     "output_type": "display_data",
     "data": {
      "text/html": [
       "<style scoped>\n",
       "  .table-result-container {\n",
       "    max-height: 300px;\n",
       "    overflow: auto;\n",
       "  }\n",
       "  table, th, td {\n",
       "    border: 1px solid black;\n",
       "    border-collapse: collapse;\n",
       "  }\n",
       "  th, td {\n",
       "    padding: 5px;\n",
       "  }\n",
       "  th {\n",
       "    text-align: left;\n",
       "  }\n",
       "</style><div class='table-result-container'><table class='table-result'><thead style='background-color: white'><tr><th>TeamName</th><th>TeamGroup</th><th>points</th><th>Goal_difference</th><th>ranks</th></tr></thead><tbody><tr><td>Belgium</td><td>A</td><td>7</td><td>3</td><td>1</td></tr><tr><td>France</td><td>A</td><td>4</td><td>3</td><td>2</td></tr><tr><td>Spain</td><td>B</td><td>6</td><td>4</td><td>1</td></tr><tr><td>England</td><td>B</td><td>6</td><td>-1</td><td>2</td></tr><tr><td>Denmark</td><td>C</td><td>9</td><td>8</td><td>1</td></tr><tr><td>Austria</td><td>C</td><td>4</td><td>-1</td><td>2</td></tr><tr><td>Ukraine</td><td>D</td><td>7</td><td>5</td><td>1</td></tr><tr><td>Poland</td><td>D</td><td>5</td><td>4</td><td>2</td></tr><tr><td>Czech Republic</td><td>E</td><td>6</td><td>4</td><td>1</td></tr><tr><td>Slovakia</td><td>E</td><td>6</td><td>0</td><td>2</td></tr><tr><td>Finland</td><td>F</td><td>7</td><td>4</td><td>1</td></tr><tr><td>Scotland</td><td>F</td><td>4</td><td>-1</td><td>2</td></tr><tr><td>Portugal</td><td>A</td><td>3</td><td>-1</td><td>3</td></tr><tr><td>Germany</td><td>B</td><td>3</td><td>1</td><td>3</td></tr><tr><td>Turkey</td><td>C</td><td>3</td><td>0</td><td>3</td></tr><tr><td>Sweden</td><td>D</td><td>4</td><td>2</td><td>3</td></tr></tbody></table></div>"
      ]
     },
     "metadata": {
      "application/vnd.databricks.v1+output": {
       "addedWidgets": {},
       "aggData": [],
       "aggError": "",
       "aggOverflow": false,
       "aggSchema": [],
       "aggSeriesLimitReached": false,
       "aggType": "",
       "arguments": {},
       "columnCustomDisplayInfos": {},
       "data": [
        [
         "Belgium",
         "A",
         7,
         3,
         1
        ],
        [
         "France",
         "A",
         4,
         3,
         2
        ],
        [
         "Spain",
         "B",
         6,
         4,
         1
        ],
        [
         "England",
         "B",
         6,
         -1,
         2
        ],
        [
         "Denmark",
         "C",
         9,
         8,
         1
        ],
        [
         "Austria",
         "C",
         4,
         -1,
         2
        ],
        [
         "Ukraine",
         "D",
         7,
         5,
         1
        ],
        [
         "Poland",
         "D",
         5,
         4,
         2
        ],
        [
         "Czech Republic",
         "E",
         6,
         4,
         1
        ],
        [
         "Slovakia",
         "E",
         6,
         0,
         2
        ],
        [
         "Finland",
         "F",
         7,
         4,
         1
        ],
        [
         "Scotland",
         "F",
         4,
         -1,
         2
        ],
        [
         "Portugal",
         "A",
         3,
         -1,
         3
        ],
        [
         "Germany",
         "B",
         3,
         1,
         3
        ],
        [
         "Turkey",
         "C",
         3,
         0,
         3
        ],
        [
         "Sweden",
         "D",
         4,
         2,
         3
        ]
       ],
       "datasetInfos": [],
       "dbfsResultPath": null,
       "isJsonSchema": true,
       "metadata": {},
       "overflow": false,
       "plotOptions": {
        "customPlotOptions": {},
        "displayType": "table",
        "pivotAggregation": null,
        "pivotColumns": null,
        "xColumns": null,
        "yColumns": null
       },
       "removedWidgets": [],
       "schema": [
        {
         "metadata": "{\"__CHAR_VARCHAR_TYPE_STRING\":\"varchar(20)\"}",
         "name": "TeamName",
         "type": "\"string\""
        },
        {
         "metadata": "{\"__CHAR_VARCHAR_TYPE_STRING\":\"varchar(20)\"}",
         "name": "TeamGroup",
         "type": "\"string\""
        },
        {
         "metadata": "{}",
         "name": "points",
         "type": "\"long\""
        },
        {
         "metadata": "{}",
         "name": "Goal_difference",
         "type": "\"long\""
        },
        {
         "metadata": "{}",
         "name": "ranks",
         "type": "\"integer\""
        }
       ],
       "type": "table"
      }
     },
     "output_type": "display_data"
    }
   ],
   "source": [
    "%sql\n",
    "INSERT INTO round_of_16\n",
    "SELECT * FROM(\n",
    "  SELECT TeamName, TeamGroup, points, Goal_difference,\n",
    "  row_number() OVER (PARTITION BY TeamGroup ORDER BY points DESC, Goal_difference DESC, Goals_scored DESC, Matches_won DESC) AS ranks\n",
    "  FROM group_stage_ranking\n",
    ")AS top2_teams\n",
    "WHERE ranks = 3 LIMIT 4;\n",
    "\n",
    "select * from round_of_16;"
   ]
  },
  {
   "cell_type": "code",
   "execution_count": 0,
   "metadata": {
    "application/vnd.databricks.v1+cell": {
     "cellMetadata": {
      "byteLimit": 2048000,
      "implicitDf": true,
      "rowLimit": 10000
     },
     "inputWidgets": {},
     "nuid": "4e4409c4-0deb-45d7-837a-d94f21dd0fdd",
     "showTitle": false,
     "title": ""
    }
   },
   "outputs": [
    {
     "output_type": "display_data",
     "data": {
      "text/html": [
       "<style scoped>\n",
       "  .table-result-container {\n",
       "    max-height: 300px;\n",
       "    overflow: auto;\n",
       "  }\n",
       "  table, th, td {\n",
       "    border: 1px solid black;\n",
       "    border-collapse: collapse;\n",
       "  }\n",
       "  th, td {\n",
       "    padding: 5px;\n",
       "  }\n",
       "  th {\n",
       "    text-align: left;\n",
       "  }\n",
       "</style><div class='table-result-container'><table class='table-result'><thead style='background-color: white'><tr><th>num_affected_rows</th><th>num_inserted_rows</th></tr></thead><tbody><tr><td>15</td><td>15</td></tr></tbody></table></div>"
      ]
     },
     "metadata": {
      "application/vnd.databricks.v1+output": {
       "addedWidgets": {},
       "aggData": [],
       "aggError": "",
       "aggOverflow": false,
       "aggSchema": [],
       "aggSeriesLimitReached": false,
       "aggType": "",
       "arguments": {},
       "columnCustomDisplayInfos": {},
       "data": [
        [
         15,
         15
        ]
       ],
       "datasetInfos": [],
       "dbfsResultPath": null,
       "isJsonSchema": true,
       "metadata": {},
       "overflow": false,
       "plotOptions": {
        "customPlotOptions": {},
        "displayType": "table",
        "pivotAggregation": null,
        "pivotColumns": null,
        "xColumns": null,
        "yColumns": null
       },
       "removedWidgets": [],
       "schema": [
        {
         "metadata": "{}",
         "name": "num_affected_rows",
         "type": "\"long\""
        },
        {
         "metadata": "{}",
         "name": "num_inserted_rows",
         "type": "\"long\""
        }
       ],
       "type": "table"
      }
     },
     "output_type": "display_data"
    }
   ],
   "source": [
    "%sql\n",
    "CREATE or replace  TABLE eurocup_third_place_combi(\n",
    "  ID INTEGER,\n",
    "  selected_groups VARCHAR(4),\n",
    "  Team1B CHAR(1),\n",
    "  Team1C CHAR(1),\n",
    "  Team1E CHAR(1),\n",
    "  Team1F CHAR(1)\n",
    ");\n",
    "\n",
    "-- Step 2: Insert the provided values into the \"THIRDMATCHUP\" table\n",
    "INSERT INTO  eurocup_third_place_combi (ID, selected_groups, Team1B, Team1C, Team1E, Team1F) VALUES\n",
    "(1, 'ABCD', 'A', 'D', 'B', 'C'),\n",
    "(2, 'ABCE', 'A', 'E', 'B', 'C'),\n",
    "(3, 'ABCF', 'A', 'F', 'B', 'C'),\n",
    "(4, 'ABDE', 'D', 'E', 'A', 'B'),\n",
    "(5, 'ABDF', 'D', 'F', 'A', 'B'),\n",
    "(6, 'ABEF', 'E', 'F', 'B', 'A'),\n",
    "(7, 'ACDE', 'E', 'D', 'C', 'A'),\n",
    "(8, 'ACDF', 'F', 'D', 'C', 'A'),\n",
    "(9, 'ACEF', 'E', 'F', 'C', 'A'),\n",
    "(10, 'ADEF', 'E', 'F', 'D', 'A'),\n",
    "(11, 'BCDE', 'E', 'D', 'B', 'C'),\n",
    "(12, 'BCDF', 'F', 'D', 'C', 'B'),\n",
    "(13, 'BCEF', 'F', 'E', 'C', 'B'),\n",
    "(14, 'BDEF', 'F', 'E', 'D', 'B'),\n",
    "(15, 'CDEF', 'F', 'E', 'D', 'C');"
   ]
  },
  {
   "cell_type": "code",
   "execution_count": 0,
   "metadata": {
    "application/vnd.databricks.v1+cell": {
     "cellMetadata": {
      "byteLimit": 2048000,
      "rowLimit": 10000
     },
     "inputWidgets": {},
     "nuid": "c439f342-3ab2-4e30-a0f9-1fc9a19bb7c8",
     "showTitle": false,
     "title": ""
    }
   },
   "outputs": [],
   "source": [
    "%sql\n",
    "\n",
    "\n"
   ]
  },
  {
   "cell_type": "code",
   "execution_count": 0,
   "metadata": {
    "application/vnd.databricks.v1+cell": {
     "cellMetadata": {
      "byteLimit": 2048000,
      "implicitDf": true,
      "rowLimit": 10000
     },
     "inputWidgets": {},
     "nuid": "5a2612a6-1ac3-42ea-b259-98d663c5da87",
     "showTitle": false,
     "title": ""
    }
   },
   "outputs": [
    {
     "output_type": "display_data",
     "data": {
      "text/html": [
       "<style scoped>\n",
       "  .table-result-container {\n",
       "    max-height: 300px;\n",
       "    overflow: auto;\n",
       "  }\n",
       "  table, th, td {\n",
       "    border: 1px solid black;\n",
       "    border-collapse: collapse;\n",
       "  }\n",
       "  th, td {\n",
       "    padding: 5px;\n",
       "  }\n",
       "  th {\n",
       "    text-align: left;\n",
       "  }\n",
       "</style><div class='table-result-container'><table class='table-result'><thead style='background-color: white'><tr><th>num_affected_rows</th><th>num_inserted_rows</th></tr></thead><tbody><tr><td>8</td><td>8</td></tr></tbody></table></div>"
      ]
     },
     "metadata": {
      "application/vnd.databricks.v1+output": {
       "addedWidgets": {},
       "aggData": [],
       "aggError": "",
       "aggOverflow": false,
       "aggSchema": [],
       "aggSeriesLimitReached": false,
       "aggType": "",
       "arguments": {},
       "columnCustomDisplayInfos": {},
       "data": [
        [
         8,
         8
        ]
       ],
       "datasetInfos": [],
       "dbfsResultPath": null,
       "isJsonSchema": true,
       "metadata": {},
       "overflow": false,
       "plotOptions": {
        "customPlotOptions": {},
        "displayType": "table",
        "pivotAggregation": null,
        "pivotColumns": null,
        "xColumns": null,
        "yColumns": null
       },
       "removedWidgets": [],
       "schema": [
        {
         "metadata": "{}",
         "name": "num_affected_rows",
         "type": "\"long\""
        },
        {
         "metadata": "{}",
         "name": "num_inserted_rows",
         "type": "\"long\""
        }
       ],
       "type": "table"
      }
     },
     "output_type": "display_data"
    }
   ],
   "source": [
    "%sql\n",
    "INSERT INTO matches (MatchID, TeamGroup, home_country, away_country, home_country_goal, away_country_goal, winner_country)\n",
    "WITH combination AS (\n",
    "  SELECT concat_ws('', sort_array(collect_list(TeamGroup)))AS group_combination\n",
    "  FROM round_of_16\n",
    "  WHERE ranks = 3\n",
    "),\n",
    "keys AS (\n",
    "  SELECT * FROM eurocup_third_place_combi\n",
    "  WHERE selected_groups = (SELECT group_combination FROM combination)\n",
    ")\n",
    "SELECT\n",
    "row_number() OVER (ORDER BY 1) + 36 AS MatchId,\n",
    "'N' AS Team_group,\n",
    "r1.TeamName AS home_country,\n",
    "r2.TeamName AS away_country,\n",
    "CAST(rand() * 6 AS INTEGER) AS home_country_goal,\n",
    "CAST(rand() * 6 AS INTEGER) AS away_country_goal,\n",
    "'None' AS match_result\n",
    "FROM round_of_16 r1\n",
    "JOIN round_of_16 r2 ON r1.TeamGroup = 'A' AND r1.ranks = 1 AND r2.TeamGroup = 'C' AND r2.ranks = 2\n",
    "\n",
    "\n",
    "UNION ALL\n",
    "\n",
    "SELECT \n",
    "    row_number() OVER (ORDER BY 1) + 37 AS match_id,\n",
    "    'N' AS group_name,\n",
    "    r1.TeamName AS home_country,\n",
    "    r2.TeamName AS away_country,\n",
    "    CAST(rand() * 6 AS INT) AS home_country_goal, \n",
    "    CAST(rand() * 6 AS INT) AS away_country_goal,\n",
    "    'NONE' AS match_result\n",
    "FROM \n",
    "    round_of_16 r1\n",
    "JOIN \n",
    " round_of_16 r2 ON r1.TeamGroup = 'A' AND r1.ranks = 2 AND r2.TeamGroup = 'B' AND r2.ranks = 2\n",
    "   \n",
    "\n",
    "UNION ALL\n",
    "\n",
    "SELECT \n",
    "    row_number() OVER (ORDER BY 1) + 38 AS match_id,\n",
    "    'N' AS group_name,\n",
    "    r1.TeamName AS home_country,\n",
    "    r2.TeamName AS away_country,\n",
    "    CAST(rand() * 6 AS INT) AS home_country_goal, \n",
    "    CAST(rand() * 6 AS INT) AS away_country_goal,\n",
    "    'NONE' AS match_result\n",
    "FROM \n",
    "    round_of_16 r1\n",
    "JOIN \n",
    "    round_of_16 r2 ON r1.TeamGroup = 'B' AND r1.ranks = 1 AND r2.TeamGroup = (SELECT TEAM1B FROM keys) AND r2.ranks = 3\n",
    "\n",
    "UNION ALL\n",
    "\n",
    "SELECT \n",
    "    row_number() OVER (ORDER BY 1) + 39 AS match_id,\n",
    "    'N' AS group_name,\n",
    "    r1.TeamName AS home_country,\n",
    "    r2.TeamName AS away_country,\n",
    "    CAST(rand() * 6 AS INT) AS home_country_goal, \n",
    "    CAST(rand() * 6 AS INT) AS away_country_goal,\n",
    "    'NONE' AS match_result\n",
    "FROM \n",
    "    round_of_16 r1\n",
    "JOIN \n",
    "    round_of_16 r2 ON r1.TeamGroup = 'C' AND r1.ranks = 1 AND r2.TeamGroup = (select Team1C from keys) AND r2.ranks = 3\n",
    "\n",
    "UNION ALL\n",
    "\n",
    "SELECT \n",
    "    Row_Number() OVER (ORDER BY 1) + 40 AS match_id,\n",
    "    'N' AS group_name,\n",
    "    r1.TeamName AS home_country,\n",
    "    r2.TeamName AS away_country,\n",
    "    CAST(rand() * 6 AS INT) AS home_country_goal, \n",
    "    CAST(rand() * 6 AS INT) AS away_country_goal,\n",
    "    'NONE' AS match_result\n",
    "FROM \n",
    "    round_of_16 r1\n",
    "JOIN \n",
    "     round_of_16 r2 ON r1.TeamGroup = 'F' AND r1.ranks = 1 AND r2.TeamGroup = (select Team1F from keys) AND r2.ranks = 3\n",
    "\n",
    "\n",
    "UNION ALL\n",
    "\n",
    "SELECT \n",
    "    Row_Number() OVER (ORDER BY 1) + 41 AS match_id,\n",
    "    'N' AS group_name,\n",
    "    r1.TeamName AS home_country,\n",
    "    r2.TeamName AS away_country,\n",
    "    CAST(rand() * 6 AS INT) AS home_country_goal, \n",
    "    CAST(rand() * 6 AS INT) AS away_country_goal,\n",
    "    'NONE' AS match_result\n",
    "FROM \n",
    "    round_of_16 r1\n",
    "JOIN \n",
    "    round_of_16 r2 ON r1.TeamGroup = 'D' AND r1.ranks = 2 AND r2.TeamGroup = 'E' AND r2.ranks = 2\n",
    "   \n",
    "\n",
    "UNION ALL\n",
    "\n",
    "SELECT \n",
    "    Row_Number() OVER (ORDER BY 1) + 42 AS match_id,\n",
    "    'N' AS group_name,\n",
    "    r1.TeamName AS home_country,\n",
    "    r2.TeamName AS away_country,\n",
    "    CAST(rand() * 6 AS INT) AS home_country_goal, \n",
    "    CAST(rand() * 6 AS INT) AS away_country_goal,\n",
    "    'NONE' AS match_result\n",
    "FROM \n",
    "    round_of_16 r1\n",
    "JOIN \n",
    "    round_of_16 r2 ON r1.TeamGroup = 'E' AND r1.ranks = 1 AND r2.TeamGroup = (SELECT Team1E from keys) AND r2.ranks = 3\n",
    "   \n",
    "\n",
    "UNION ALL\n",
    "\n",
    "SELECT \n",
    "    Row_Number() OVER (ORDER BY 1) + 43 AS match_id,\n",
    "    'N' AS group_name,\n",
    "    r1.TeamName AS home_country,\n",
    "    r2.TeamName AS away_country,\n",
    "    CAST(rand() * 6 AS INT) AS home_country_goal, \n",
    "    CAST(rand() * 6 AS INT) AS away_country_goal,\n",
    "    'NONE' AS match_result\n",
    "FROM \n",
    "    round_of_16 r1\n",
    "JOIN \n",
    "    round_of_16 r2 ON r1.TeamGroup = 'D' AND r1.ranks = 2 AND r2.TeamGroup = 'F' AND r2.ranks = 2;"
   ]
  },
  {
   "cell_type": "code",
   "execution_count": 0,
   "metadata": {
    "application/vnd.databricks.v1+cell": {
     "cellMetadata": {
      "byteLimit": 2048000,
      "implicitDf": true,
      "rowLimit": 10000
     },
     "inputWidgets": {},
     "nuid": "af124858-75b8-4b38-8ccc-f7bcebbde22c",
     "showTitle": false,
     "title": ""
    }
   },
   "outputs": [
    {
     "output_type": "display_data",
     "data": {
      "text/html": [
       "<style scoped>\n",
       "  .table-result-container {\n",
       "    max-height: 300px;\n",
       "    overflow: auto;\n",
       "  }\n",
       "  table, th, td {\n",
       "    border: 1px solid black;\n",
       "    border-collapse: collapse;\n",
       "  }\n",
       "  th, td {\n",
       "    padding: 5px;\n",
       "  }\n",
       "  th {\n",
       "    text-align: left;\n",
       "  }\n",
       "</style><div class='table-result-container'><table class='table-result'><thead style='background-color: white'><tr><th>MatchId</th><th>TeamGroup</th><th>home_country</th><th>away_country</th><th>home_country_goal</th><th>away_country_goal</th><th>winner_country</th></tr></thead><tbody><tr><td>1</td><td>A</td><td>France</td><td>Portugal</td><td>3</td><td>4</td><td>Portugal</td></tr><tr><td>2</td><td>A</td><td>France</td><td>Belgium</td><td>3</td><td>3</td><td>Draw</td></tr><tr><td>3</td><td>A</td><td>France</td><td>Italy</td><td>5</td><td>1</td><td>France</td></tr><tr><td>4</td><td>A</td><td>Italy</td><td>Portugal</td><td>4</td><td>3</td><td>Italy</td></tr><tr><td>5</td><td>A</td><td>Italy</td><td>Belgium</td><td>4</td><td>6</td><td>Belgium</td></tr><tr><td>6</td><td>A</td><td>Belgium</td><td>Portugal</td><td>4</td><td>3</td><td>Belgium</td></tr><tr><td>7</td><td>B</td><td>Spain</td><td>England</td><td>6</td><td>2</td><td>Spain</td></tr><tr><td>8</td><td>B</td><td>Spain</td><td>Germany</td><td>4</td><td>3</td><td>Spain</td></tr><tr><td>9</td><td>B</td><td>Spain</td><td>Netherlands</td><td>4</td><td>5</td><td>Netherlands</td></tr><tr><td>10</td><td>B</td><td>Netherlands</td><td>England</td><td>1</td><td>3</td><td>England</td></tr><tr><td>11</td><td>B</td><td>Netherlands</td><td>Germany</td><td>2</td><td>5</td><td>Germany</td></tr><tr><td>12</td><td>B</td><td>Germany</td><td>England</td><td>4</td><td>5</td><td>England</td></tr><tr><td>13</td><td>C</td><td>Turkey</td><td>Denmark</td><td>1</td><td>2</td><td>Denmark</td></tr><tr><td>14</td><td>C</td><td>Turkey</td><td>Switzerland</td><td>6</td><td>4</td><td>Turkey</td></tr><tr><td>15</td><td>C</td><td>Turkey</td><td>Austria</td><td>5</td><td>6</td><td>Austria</td></tr><tr><td>16</td><td>C</td><td>Austria</td><td>Denmark</td><td>3</td><td>5</td><td>Denmark</td></tr><tr><td>17</td><td>C</td><td>Austria</td><td>Switzerland</td><td>6</td><td>6</td><td>Draw</td></tr><tr><td>18</td><td>C</td><td>Switzerland</td><td>Denmark</td><td>1</td><td>6</td><td>Denmark</td></tr><tr><td>19</td><td>D</td><td>Croatia</td><td>Poland</td><td>1</td><td>5</td><td>Poland</td></tr><tr><td>20</td><td>D</td><td>Croatia</td><td>Sweden</td><td>1</td><td>5</td><td>Sweden</td></tr><tr><td>21</td><td>D</td><td>Croatia</td><td>Ukraine</td><td>2</td><td>5</td><td>Ukraine</td></tr><tr><td>22</td><td>D</td><td>Ukraine</td><td>Poland</td><td>4</td><td>4</td><td>Draw</td></tr><tr><td>23</td><td>D</td><td>Ukraine</td><td>Sweden</td><td>4</td><td>2</td><td>Ukraine</td></tr><tr><td>24</td><td>D</td><td>Sweden</td><td>Poland</td><td>2</td><td>2</td><td>Draw</td></tr><tr><td>25</td><td>E</td><td>Wales</td><td>Hungary</td><td>5</td><td>3</td><td>Wales</td></tr><tr><td>26</td><td>E</td><td>Wales</td><td>Slovakia</td><td>1</td><td>3</td><td>Slovakia</td></tr><tr><td>27</td><td>E</td><td>Wales</td><td>Czech Republic</td><td>1</td><td>5</td><td>Czech Republic</td></tr><tr><td>28</td><td>E</td><td>Czech Republic</td><td>Hungary</td><td>4</td><td>2</td><td>Czech Republic</td></tr><tr><td>29</td><td>E</td><td>Czech Republic</td><td>Slovakia</td><td>1</td><td>3</td><td>Slovakia</td></tr><tr><td>30</td><td>E</td><td>Slovakia</td><td>Hungary</td><td>2</td><td>6</td><td>Hungary</td></tr><tr><td>31</td><td>F</td><td>Finland</td><td>Russia</td><td>2</td><td>1</td><td>Finland</td></tr><tr><td>32</td><td>F</td><td>Finland</td><td>Scotland</td><td>5</td><td>5</td><td>Draw</td></tr><tr><td>33</td><td>F</td><td>Finland</td><td>North Macedonia</td><td>4</td><td>1</td><td>Finland</td></tr><tr><td>34</td><td>F</td><td>North Macedonia</td><td>Russia</td><td>5</td><td>5</td><td>Draw</td></tr><tr><td>35</td><td>F</td><td>North Macedonia</td><td>Scotland</td><td>5</td><td>3</td><td>North Macedonia</td></tr><tr><td>36</td><td>F</td><td>Scotland</td><td>Russia</td><td>6</td><td>5</td><td>Scotland</td></tr><tr><td>37</td><td>N</td><td>Belgium</td><td>Austria</td><td>0</td><td>3</td><td>None</td></tr><tr><td>38</td><td>N</td><td>France</td><td>England</td><td>0</td><td>5</td><td>NONE</td></tr><tr><td>39</td><td>N</td><td>Spain</td><td>Portugal</td><td>2</td><td>0</td><td>NONE</td></tr><tr><td>40</td><td>N</td><td>Denmark</td><td>Sweden</td><td>2</td><td>4</td><td>NONE</td></tr><tr><td>41</td><td>N</td><td>Finland</td><td>Turkey</td><td>3</td><td>0</td><td>NONE</td></tr><tr><td>42</td><td>N</td><td>Poland</td><td>Slovakia</td><td>1</td><td>1</td><td>NONE</td></tr><tr><td>43</td><td>N</td><td>Czech Republic</td><td>Germany</td><td>1</td><td>2</td><td>NONE</td></tr><tr><td>44</td><td>N</td><td>Poland</td><td>Scotland</td><td>2</td><td>2</td><td>NONE</td></tr></tbody></table></div>"
      ]
     },
     "metadata": {
      "application/vnd.databricks.v1+output": {
       "addedWidgets": {},
       "aggData": [],
       "aggError": "",
       "aggOverflow": false,
       "aggSchema": [],
       "aggSeriesLimitReached": false,
       "aggType": "",
       "arguments": {},
       "columnCustomDisplayInfos": {},
       "data": [
        [
         1,
         "A",
         "France",
         "Portugal",
         3,
         4,
         "Portugal"
        ],
        [
         2,
         "A",
         "France",
         "Belgium",
         3,
         3,
         "Draw"
        ],
        [
         3,
         "A",
         "France",
         "Italy",
         5,
         1,
         "France"
        ],
        [
         4,
         "A",
         "Italy",
         "Portugal",
         4,
         3,
         "Italy"
        ],
        [
         5,
         "A",
         "Italy",
         "Belgium",
         4,
         6,
         "Belgium"
        ],
        [
         6,
         "A",
         "Belgium",
         "Portugal",
         4,
         3,
         "Belgium"
        ],
        [
         7,
         "B",
         "Spain",
         "England",
         6,
         2,
         "Spain"
        ],
        [
         8,
         "B",
         "Spain",
         "Germany",
         4,
         3,
         "Spain"
        ],
        [
         9,
         "B",
         "Spain",
         "Netherlands",
         4,
         5,
         "Netherlands"
        ],
        [
         10,
         "B",
         "Netherlands",
         "England",
         1,
         3,
         "England"
        ],
        [
         11,
         "B",
         "Netherlands",
         "Germany",
         2,
         5,
         "Germany"
        ],
        [
         12,
         "B",
         "Germany",
         "England",
         4,
         5,
         "England"
        ],
        [
         13,
         "C",
         "Turkey",
         "Denmark",
         1,
         2,
         "Denmark"
        ],
        [
         14,
         "C",
         "Turkey",
         "Switzerland",
         6,
         4,
         "Turkey"
        ],
        [
         15,
         "C",
         "Turkey",
         "Austria",
         5,
         6,
         "Austria"
        ],
        [
         16,
         "C",
         "Austria",
         "Denmark",
         3,
         5,
         "Denmark"
        ],
        [
         17,
         "C",
         "Austria",
         "Switzerland",
         6,
         6,
         "Draw"
        ],
        [
         18,
         "C",
         "Switzerland",
         "Denmark",
         1,
         6,
         "Denmark"
        ],
        [
         19,
         "D",
         "Croatia",
         "Poland",
         1,
         5,
         "Poland"
        ],
        [
         20,
         "D",
         "Croatia",
         "Sweden",
         1,
         5,
         "Sweden"
        ],
        [
         21,
         "D",
         "Croatia",
         "Ukraine",
         2,
         5,
         "Ukraine"
        ],
        [
         22,
         "D",
         "Ukraine",
         "Poland",
         4,
         4,
         "Draw"
        ],
        [
         23,
         "D",
         "Ukraine",
         "Sweden",
         4,
         2,
         "Ukraine"
        ],
        [
         24,
         "D",
         "Sweden",
         "Poland",
         2,
         2,
         "Draw"
        ],
        [
         25,
         "E",
         "Wales",
         "Hungary",
         5,
         3,
         "Wales"
        ],
        [
         26,
         "E",
         "Wales",
         "Slovakia",
         1,
         3,
         "Slovakia"
        ],
        [
         27,
         "E",
         "Wales",
         "Czech Republic",
         1,
         5,
         "Czech Republic"
        ],
        [
         28,
         "E",
         "Czech Republic",
         "Hungary",
         4,
         2,
         "Czech Republic"
        ],
        [
         29,
         "E",
         "Czech Republic",
         "Slovakia",
         1,
         3,
         "Slovakia"
        ],
        [
         30,
         "E",
         "Slovakia",
         "Hungary",
         2,
         6,
         "Hungary"
        ],
        [
         31,
         "F",
         "Finland",
         "Russia",
         2,
         1,
         "Finland"
        ],
        [
         32,
         "F",
         "Finland",
         "Scotland",
         5,
         5,
         "Draw"
        ],
        [
         33,
         "F",
         "Finland",
         "North Macedonia",
         4,
         1,
         "Finland"
        ],
        [
         34,
         "F",
         "North Macedonia",
         "Russia",
         5,
         5,
         "Draw"
        ],
        [
         35,
         "F",
         "North Macedonia",
         "Scotland",
         5,
         3,
         "North Macedonia"
        ],
        [
         36,
         "F",
         "Scotland",
         "Russia",
         6,
         5,
         "Scotland"
        ],
        [
         37,
         "N",
         "Belgium",
         "Austria",
         0,
         3,
         "None"
        ],
        [
         38,
         "N",
         "France",
         "England",
         0,
         5,
         "NONE"
        ],
        [
         39,
         "N",
         "Spain",
         "Portugal",
         2,
         0,
         "NONE"
        ],
        [
         40,
         "N",
         "Denmark",
         "Sweden",
         2,
         4,
         "NONE"
        ],
        [
         41,
         "N",
         "Finland",
         "Turkey",
         3,
         0,
         "NONE"
        ],
        [
         42,
         "N",
         "Poland",
         "Slovakia",
         1,
         1,
         "NONE"
        ],
        [
         43,
         "N",
         "Czech Republic",
         "Germany",
         1,
         2,
         "NONE"
        ],
        [
         44,
         "N",
         "Poland",
         "Scotland",
         2,
         2,
         "NONE"
        ]
       ],
       "datasetInfos": [],
       "dbfsResultPath": null,
       "isJsonSchema": true,
       "metadata": {},
       "overflow": false,
       "plotOptions": {
        "customPlotOptions": {},
        "displayType": "table",
        "pivotAggregation": null,
        "pivotColumns": null,
        "xColumns": null,
        "yColumns": null
       },
       "removedWidgets": [],
       "schema": [
        {
         "metadata": "{}",
         "name": "MatchId",
         "type": "\"integer\""
        },
        {
         "metadata": "{\"__CHAR_VARCHAR_TYPE_STRING\":\"varchar(20)\"}",
         "name": "TeamGroup",
         "type": "\"string\""
        },
        {
         "metadata": "{\"__CHAR_VARCHAR_TYPE_STRING\":\"varchar(20)\"}",
         "name": "home_country",
         "type": "\"string\""
        },
        {
         "metadata": "{\"__CHAR_VARCHAR_TYPE_STRING\":\"varchar(20)\"}",
         "name": "away_country",
         "type": "\"string\""
        },
        {
         "metadata": "{}",
         "name": "home_country_goal",
         "type": "\"integer\""
        },
        {
         "metadata": "{}",
         "name": "away_country_goal",
         "type": "\"integer\""
        },
        {
         "metadata": "{\"__CHAR_VARCHAR_TYPE_STRING\":\"varchar(20)\"}",
         "name": "winner_country",
         "type": "\"string\""
        }
       ],
       "type": "table"
      }
     },
     "output_type": "display_data"
    }
   ],
   "source": [
    "%sql\n",
    "select * from matches order by MatchId;"
   ]
  },
  {
   "cell_type": "code",
   "execution_count": 0,
   "metadata": {
    "application/vnd.databricks.v1+cell": {
     "cellMetadata": {
      "byteLimit": 2048000,
      "implicitDf": true,
      "rowLimit": 10000
     },
     "inputWidgets": {},
     "nuid": "df0efdcb-7f26-477d-82e3-4268e9c72892",
     "showTitle": false,
     "title": ""
    }
   },
   "outputs": [
    {
     "output_type": "display_data",
     "data": {
      "text/html": [
       "<style scoped>\n",
       "  .table-result-container {\n",
       "    max-height: 300px;\n",
       "    overflow: auto;\n",
       "  }\n",
       "  table, th, td {\n",
       "    border: 1px solid black;\n",
       "    border-collapse: collapse;\n",
       "  }\n",
       "  th, td {\n",
       "    padding: 5px;\n",
       "  }\n",
       "  th {\n",
       "    text-align: left;\n",
       "  }\n",
       "</style><div class='table-result-container'><table class='table-result'><thead style='background-color: white'><tr><th>num_affected_rows</th></tr></thead><tbody><tr><td>44</td></tr></tbody></table></div>"
      ]
     },
     "metadata": {
      "application/vnd.databricks.v1+output": {
       "addedWidgets": {},
       "aggData": [],
       "aggError": "",
       "aggOverflow": false,
       "aggSchema": [],
       "aggSeriesLimitReached": false,
       "aggType": "",
       "arguments": {},
       "columnCustomDisplayInfos": {},
       "data": [
        [
         44
        ]
       ],
       "datasetInfos": [],
       "dbfsResultPath": null,
       "isJsonSchema": true,
       "metadata": {},
       "overflow": false,
       "plotOptions": {
        "customPlotOptions": {},
        "displayType": "table",
        "pivotAggregation": null,
        "pivotColumns": null,
        "xColumns": null,
        "yColumns": null
       },
       "removedWidgets": [],
       "schema": [
        {
         "metadata": "{}",
         "name": "num_affected_rows",
         "type": "\"long\""
        }
       ],
       "type": "table"
      }
     },
     "output_type": "display_data"
    }
   ],
   "source": [
    "%sql\n",
    "UPDATE matches\n",
    "SET winner_country = \n",
    "CASE\n",
    "WHEN home_country_goal > away_country_goal THEN home_country\n",
    "WHEN home_country_goal < away_country_goal THEN away_country\n",
    "ELSE\n",
    "CASE\n",
    "WHEN (home_country_goal + 1) % 2 = 1 THEN home_country\n",
    "ELSE away_country\n",
    "END\n",
    "END"
   ]
  },
  {
   "cell_type": "code",
   "execution_count": 0,
   "metadata": {
    "application/vnd.databricks.v1+cell": {
     "cellMetadata": {
      "byteLimit": 2048000,
      "implicitDf": true,
      "rowLimit": 10000
     },
     "inputWidgets": {},
     "nuid": "5c39aabf-fee1-467e-9263-5778a5df4419",
     "showTitle": false,
     "title": ""
    }
   },
   "outputs": [
    {
     "output_type": "display_data",
     "data": {
      "text/html": [
       "<style scoped>\n",
       "  .table-result-container {\n",
       "    max-height: 300px;\n",
       "    overflow: auto;\n",
       "  }\n",
       "  table, th, td {\n",
       "    border: 1px solid black;\n",
       "    border-collapse: collapse;\n",
       "  }\n",
       "  th, td {\n",
       "    padding: 5px;\n",
       "  }\n",
       "  th {\n",
       "    text-align: left;\n",
       "  }\n",
       "</style><div class='table-result-container'><table class='table-result'><thead style='background-color: white'><tr><th>MatchId</th><th>TeamGroup</th><th>home_country</th><th>away_country</th><th>home_country_goal</th><th>away_country_goal</th><th>winner_country</th></tr></thead><tbody><tr><td>1</td><td>A</td><td>France</td><td>Portugal</td><td>3</td><td>4</td><td>Portugal</td></tr><tr><td>2</td><td>A</td><td>France</td><td>Belgium</td><td>3</td><td>3</td><td>Belgium</td></tr><tr><td>3</td><td>A</td><td>France</td><td>Italy</td><td>5</td><td>1</td><td>France</td></tr><tr><td>4</td><td>A</td><td>Italy</td><td>Portugal</td><td>4</td><td>3</td><td>Italy</td></tr><tr><td>5</td><td>A</td><td>Italy</td><td>Belgium</td><td>4</td><td>6</td><td>Belgium</td></tr><tr><td>6</td><td>A</td><td>Belgium</td><td>Portugal</td><td>4</td><td>3</td><td>Belgium</td></tr><tr><td>7</td><td>B</td><td>Spain</td><td>England</td><td>6</td><td>2</td><td>Spain</td></tr><tr><td>8</td><td>B</td><td>Spain</td><td>Germany</td><td>4</td><td>3</td><td>Spain</td></tr><tr><td>9</td><td>B</td><td>Spain</td><td>Netherlands</td><td>4</td><td>5</td><td>Netherlands</td></tr><tr><td>10</td><td>B</td><td>Netherlands</td><td>England</td><td>1</td><td>3</td><td>England</td></tr><tr><td>11</td><td>B</td><td>Netherlands</td><td>Germany</td><td>2</td><td>5</td><td>Germany</td></tr><tr><td>12</td><td>B</td><td>Germany</td><td>England</td><td>4</td><td>5</td><td>England</td></tr><tr><td>13</td><td>C</td><td>Turkey</td><td>Denmark</td><td>1</td><td>2</td><td>Denmark</td></tr><tr><td>14</td><td>C</td><td>Turkey</td><td>Switzerland</td><td>6</td><td>4</td><td>Turkey</td></tr><tr><td>15</td><td>C</td><td>Turkey</td><td>Austria</td><td>5</td><td>6</td><td>Austria</td></tr><tr><td>16</td><td>C</td><td>Austria</td><td>Denmark</td><td>3</td><td>5</td><td>Denmark</td></tr><tr><td>17</td><td>C</td><td>Austria</td><td>Switzerland</td><td>6</td><td>6</td><td>Austria</td></tr><tr><td>18</td><td>C</td><td>Switzerland</td><td>Denmark</td><td>1</td><td>6</td><td>Denmark</td></tr><tr><td>19</td><td>D</td><td>Croatia</td><td>Poland</td><td>1</td><td>5</td><td>Poland</td></tr><tr><td>20</td><td>D</td><td>Croatia</td><td>Sweden</td><td>1</td><td>5</td><td>Sweden</td></tr><tr><td>21</td><td>D</td><td>Croatia</td><td>Ukraine</td><td>2</td><td>5</td><td>Ukraine</td></tr><tr><td>22</td><td>D</td><td>Ukraine</td><td>Poland</td><td>4</td><td>4</td><td>Ukraine</td></tr><tr><td>23</td><td>D</td><td>Ukraine</td><td>Sweden</td><td>4</td><td>2</td><td>Ukraine</td></tr><tr><td>24</td><td>D</td><td>Sweden</td><td>Poland</td><td>2</td><td>2</td><td>Sweden</td></tr><tr><td>25</td><td>E</td><td>Wales</td><td>Hungary</td><td>5</td><td>3</td><td>Wales</td></tr><tr><td>26</td><td>E</td><td>Wales</td><td>Slovakia</td><td>1</td><td>3</td><td>Slovakia</td></tr><tr><td>27</td><td>E</td><td>Wales</td><td>Czech Republic</td><td>1</td><td>5</td><td>Czech Republic</td></tr><tr><td>28</td><td>E</td><td>Czech Republic</td><td>Hungary</td><td>4</td><td>2</td><td>Czech Republic</td></tr><tr><td>29</td><td>E</td><td>Czech Republic</td><td>Slovakia</td><td>1</td><td>3</td><td>Slovakia</td></tr><tr><td>30</td><td>E</td><td>Slovakia</td><td>Hungary</td><td>2</td><td>6</td><td>Hungary</td></tr><tr><td>31</td><td>F</td><td>Finland</td><td>Russia</td><td>2</td><td>1</td><td>Finland</td></tr><tr><td>32</td><td>F</td><td>Finland</td><td>Scotland</td><td>5</td><td>5</td><td>Scotland</td></tr><tr><td>33</td><td>F</td><td>Finland</td><td>North Macedonia</td><td>4</td><td>1</td><td>Finland</td></tr><tr><td>34</td><td>F</td><td>North Macedonia</td><td>Russia</td><td>5</td><td>5</td><td>Russia</td></tr><tr><td>35</td><td>F</td><td>North Macedonia</td><td>Scotland</td><td>5</td><td>3</td><td>North Macedonia</td></tr><tr><td>36</td><td>F</td><td>Scotland</td><td>Russia</td><td>6</td><td>5</td><td>Scotland</td></tr><tr><td>37</td><td>N</td><td>Belgium</td><td>Austria</td><td>0</td><td>3</td><td>Austria</td></tr><tr><td>38</td><td>N</td><td>France</td><td>England</td><td>0</td><td>5</td><td>England</td></tr><tr><td>39</td><td>N</td><td>Spain</td><td>Portugal</td><td>2</td><td>0</td><td>Spain</td></tr><tr><td>40</td><td>N</td><td>Denmark</td><td>Sweden</td><td>2</td><td>4</td><td>Sweden</td></tr><tr><td>41</td><td>N</td><td>Finland</td><td>Turkey</td><td>3</td><td>0</td><td>Finland</td></tr><tr><td>42</td><td>N</td><td>Poland</td><td>Slovakia</td><td>1</td><td>1</td><td>Slovakia</td></tr><tr><td>43</td><td>N</td><td>Czech Republic</td><td>Germany</td><td>1</td><td>2</td><td>Germany</td></tr><tr><td>44</td><td>N</td><td>Poland</td><td>Scotland</td><td>2</td><td>2</td><td>Poland</td></tr></tbody></table></div>"
      ]
     },
     "metadata": {
      "application/vnd.databricks.v1+output": {
       "addedWidgets": {},
       "aggData": [],
       "aggError": "",
       "aggOverflow": false,
       "aggSchema": [],
       "aggSeriesLimitReached": false,
       "aggType": "",
       "arguments": {},
       "columnCustomDisplayInfos": {},
       "data": [
        [
         1,
         "A",
         "France",
         "Portugal",
         3,
         4,
         "Portugal"
        ],
        [
         2,
         "A",
         "France",
         "Belgium",
         3,
         3,
         "Belgium"
        ],
        [
         3,
         "A",
         "France",
         "Italy",
         5,
         1,
         "France"
        ],
        [
         4,
         "A",
         "Italy",
         "Portugal",
         4,
         3,
         "Italy"
        ],
        [
         5,
         "A",
         "Italy",
         "Belgium",
         4,
         6,
         "Belgium"
        ],
        [
         6,
         "A",
         "Belgium",
         "Portugal",
         4,
         3,
         "Belgium"
        ],
        [
         7,
         "B",
         "Spain",
         "England",
         6,
         2,
         "Spain"
        ],
        [
         8,
         "B",
         "Spain",
         "Germany",
         4,
         3,
         "Spain"
        ],
        [
         9,
         "B",
         "Spain",
         "Netherlands",
         4,
         5,
         "Netherlands"
        ],
        [
         10,
         "B",
         "Netherlands",
         "England",
         1,
         3,
         "England"
        ],
        [
         11,
         "B",
         "Netherlands",
         "Germany",
         2,
         5,
         "Germany"
        ],
        [
         12,
         "B",
         "Germany",
         "England",
         4,
         5,
         "England"
        ],
        [
         13,
         "C",
         "Turkey",
         "Denmark",
         1,
         2,
         "Denmark"
        ],
        [
         14,
         "C",
         "Turkey",
         "Switzerland",
         6,
         4,
         "Turkey"
        ],
        [
         15,
         "C",
         "Turkey",
         "Austria",
         5,
         6,
         "Austria"
        ],
        [
         16,
         "C",
         "Austria",
         "Denmark",
         3,
         5,
         "Denmark"
        ],
        [
         17,
         "C",
         "Austria",
         "Switzerland",
         6,
         6,
         "Austria"
        ],
        [
         18,
         "C",
         "Switzerland",
         "Denmark",
         1,
         6,
         "Denmark"
        ],
        [
         19,
         "D",
         "Croatia",
         "Poland",
         1,
         5,
         "Poland"
        ],
        [
         20,
         "D",
         "Croatia",
         "Sweden",
         1,
         5,
         "Sweden"
        ],
        [
         21,
         "D",
         "Croatia",
         "Ukraine",
         2,
         5,
         "Ukraine"
        ],
        [
         22,
         "D",
         "Ukraine",
         "Poland",
         4,
         4,
         "Ukraine"
        ],
        [
         23,
         "D",
         "Ukraine",
         "Sweden",
         4,
         2,
         "Ukraine"
        ],
        [
         24,
         "D",
         "Sweden",
         "Poland",
         2,
         2,
         "Sweden"
        ],
        [
         25,
         "E",
         "Wales",
         "Hungary",
         5,
         3,
         "Wales"
        ],
        [
         26,
         "E",
         "Wales",
         "Slovakia",
         1,
         3,
         "Slovakia"
        ],
        [
         27,
         "E",
         "Wales",
         "Czech Republic",
         1,
         5,
         "Czech Republic"
        ],
        [
         28,
         "E",
         "Czech Republic",
         "Hungary",
         4,
         2,
         "Czech Republic"
        ],
        [
         29,
         "E",
         "Czech Republic",
         "Slovakia",
         1,
         3,
         "Slovakia"
        ],
        [
         30,
         "E",
         "Slovakia",
         "Hungary",
         2,
         6,
         "Hungary"
        ],
        [
         31,
         "F",
         "Finland",
         "Russia",
         2,
         1,
         "Finland"
        ],
        [
         32,
         "F",
         "Finland",
         "Scotland",
         5,
         5,
         "Scotland"
        ],
        [
         33,
         "F",
         "Finland",
         "North Macedonia",
         4,
         1,
         "Finland"
        ],
        [
         34,
         "F",
         "North Macedonia",
         "Russia",
         5,
         5,
         "Russia"
        ],
        [
         35,
         "F",
         "North Macedonia",
         "Scotland",
         5,
         3,
         "North Macedonia"
        ],
        [
         36,
         "F",
         "Scotland",
         "Russia",
         6,
         5,
         "Scotland"
        ],
        [
         37,
         "N",
         "Belgium",
         "Austria",
         0,
         3,
         "Austria"
        ],
        [
         38,
         "N",
         "France",
         "England",
         0,
         5,
         "England"
        ],
        [
         39,
         "N",
         "Spain",
         "Portugal",
         2,
         0,
         "Spain"
        ],
        [
         40,
         "N",
         "Denmark",
         "Sweden",
         2,
         4,
         "Sweden"
        ],
        [
         41,
         "N",
         "Finland",
         "Turkey",
         3,
         0,
         "Finland"
        ],
        [
         42,
         "N",
         "Poland",
         "Slovakia",
         1,
         1,
         "Slovakia"
        ],
        [
         43,
         "N",
         "Czech Republic",
         "Germany",
         1,
         2,
         "Germany"
        ],
        [
         44,
         "N",
         "Poland",
         "Scotland",
         2,
         2,
         "Poland"
        ]
       ],
       "datasetInfos": [],
       "dbfsResultPath": null,
       "isJsonSchema": true,
       "metadata": {},
       "overflow": false,
       "plotOptions": {
        "customPlotOptions": {},
        "displayType": "table",
        "pivotAggregation": null,
        "pivotColumns": null,
        "xColumns": null,
        "yColumns": null
       },
       "removedWidgets": [],
       "schema": [
        {
         "metadata": "{}",
         "name": "MatchId",
         "type": "\"integer\""
        },
        {
         "metadata": "{\"__CHAR_VARCHAR_TYPE_STRING\":\"varchar(20)\"}",
         "name": "TeamGroup",
         "type": "\"string\""
        },
        {
         "metadata": "{\"__CHAR_VARCHAR_TYPE_STRING\":\"varchar(20)\"}",
         "name": "home_country",
         "type": "\"string\""
        },
        {
         "metadata": "{\"__CHAR_VARCHAR_TYPE_STRING\":\"varchar(20)\"}",
         "name": "away_country",
         "type": "\"string\""
        },
        {
         "metadata": "{}",
         "name": "home_country_goal",
         "type": "\"integer\""
        },
        {
         "metadata": "{}",
         "name": "away_country_goal",
         "type": "\"integer\""
        },
        {
         "metadata": "{\"__CHAR_VARCHAR_TYPE_STRING\":\"varchar(20)\"}",
         "name": "winner_country",
         "type": "\"string\""
        }
       ],
       "type": "table"
      }
     },
     "output_type": "display_data"
    }
   ],
   "source": [
    "%sql\n",
    "select * from matches order by MatchId;"
   ]
  },
  {
   "cell_type": "markdown",
   "metadata": {
    "application/vnd.databricks.v1+cell": {
     "cellMetadata": {
      "byteLimit": 2048000,
      "rowLimit": 10000
     },
     "inputWidgets": {},
     "nuid": "a7acfc6f-95d9-4a94-b148-f3d7b396d60a",
     "showTitle": false,
     "title": ""
    }
   },
   "source": [
    "Quarter Finals"
   ]
  },
  {
   "cell_type": "code",
   "execution_count": 0,
   "metadata": {
    "application/vnd.databricks.v1+cell": {
     "cellMetadata": {
      "byteLimit": 2048000,
      "implicitDf": true,
      "rowLimit": 10000
     },
     "inputWidgets": {},
     "nuid": "b8a2fe20-085e-48d8-9d8b-8e561673da25",
     "showTitle": false,
     "title": ""
    }
   },
   "outputs": [
    {
     "output_type": "display_data",
     "data": {
      "text/html": [
       "<style scoped>\n",
       "  .table-result-container {\n",
       "    max-height: 300px;\n",
       "    overflow: auto;\n",
       "  }\n",
       "  table, th, td {\n",
       "    border: 1px solid black;\n",
       "    border-collapse: collapse;\n",
       "  }\n",
       "  th, td {\n",
       "    padding: 5px;\n",
       "  }\n",
       "  th {\n",
       "    text-align: left;\n",
       "  }\n",
       "</style><div class='table-result-container'><table class='table-result'><thead style='background-color: white'><tr><th>num_affected_rows</th><th>num_inserted_rows</th></tr></thead><tbody><tr><td>4</td><td>4</td></tr></tbody></table></div>"
      ]
     },
     "metadata": {
      "application/vnd.databricks.v1+output": {
       "addedWidgets": {},
       "aggData": [],
       "aggError": "",
       "aggOverflow": false,
       "aggSchema": [],
       "aggSeriesLimitReached": false,
       "aggType": "",
       "arguments": {},
       "columnCustomDisplayInfos": {},
       "data": [
        [
         4,
         4
        ]
       ],
       "datasetInfos": [],
       "dbfsResultPath": null,
       "isJsonSchema": true,
       "metadata": {},
       "overflow": false,
       "plotOptions": {
        "customPlotOptions": {},
        "displayType": "table",
        "pivotAggregation": null,
        "pivotColumns": null,
        "xColumns": null,
        "yColumns": null
       },
       "removedWidgets": [],
       "schema": [
        {
         "metadata": "{}",
         "name": "num_affected_rows",
         "type": "\"long\""
        },
        {
         "metadata": "{}",
         "name": "num_inserted_rows",
         "type": "\"long\""
        }
       ],
       "type": "table"
      }
     },
     "output_type": "display_data"
    }
   ],
   "source": [
    "%sql\n",
    "INSERT INTO matches (MatchID, TeamGroup, home_country, away_country, home_country_goal, away_country_goal, winner_country)\n",
    "\n",
    "SELECT\n",
    "row_number() OVER (ORDER BY 1) + 44 AS MatchId,\n",
    "'N' AS Team_group,\n",
    "r1.winner_country AS home_country,\n",
    "r2.winner_country AS away_country,\n",
    "CAST(rand() * 6 AS INTEGER) AS home_country_goal,\n",
    "CAST(rand() * 6 AS INTEGER) AS away_country_goal,\n",
    "'None' AS match_result\n",
    "\n",
    "FROM \n",
    "    matches r1\n",
    "JOIN \n",
    "    matches r2 ON \n",
    "        r1.MatchId = 37 AND r2.MatchId = 38\n",
    "\n",
    "UNION ALL\n",
    "\n",
    "SELECT\n",
    "row_number() OVER (ORDER BY 1) + 45 AS MatchId,\n",
    "'N' AS Team_group,\n",
    "r1.winner_country AS home_country,\n",
    "r2.winner_country AS away_country,\n",
    "CAST(rand() * 6 AS INTEGER) AS home_country_goal,\n",
    "CAST(rand() * 6 AS INTEGER) AS away_country_goal,\n",
    "'None' AS match_result\n",
    "\n",
    "FROM \n",
    "    matches r1\n",
    "JOIN \n",
    "    matches r2 ON \n",
    "        r1.MatchId = 39 AND r2.MatchId = 40\n",
    "\n",
    "UNION ALL\n",
    "\n",
    "SELECT\n",
    "row_number() OVER (ORDER BY 1) + 46 AS MatchId,\n",
    "'N' AS Team_group,\n",
    "r1.winner_country AS home_country,\n",
    "r2.winner_country AS away_country,\n",
    "CAST(rand() * 6 AS INTEGER) AS home_country_goal,\n",
    "CAST(rand() * 6 AS INTEGER) AS away_country_goal,\n",
    "'None' AS match_result\n",
    "\n",
    "FROM \n",
    "    matches r1\n",
    "JOIN \n",
    "    matches r2 ON \n",
    "        r1.MatchId = 41 AND r2.MatchId = 42\n",
    "\n",
    "UNION ALL\n",
    "\n",
    "SELECT\n",
    "row_number() OVER (ORDER BY 1) + 47 AS MatchId,\n",
    "'N' AS Team_group,\n",
    "r1.winner_country AS home_country,\n",
    "r2.winner_country AS away_country,\n",
    "CAST(rand() * 6 AS INTEGER) AS home_country_goal,\n",
    "CAST(rand() * 6 AS INTEGER) AS away_country_goal,\n",
    "'None' AS match_result\n",
    "\n",
    "FROM \n",
    "    matches r1\n",
    "JOIN \n",
    "    matches r2 ON \n",
    "        r1.MatchId = 43 AND r2.MatchId = 44    \n"
   ]
  },
  {
   "cell_type": "code",
   "execution_count": 0,
   "metadata": {
    "application/vnd.databricks.v1+cell": {
     "cellMetadata": {
      "byteLimit": 2048000,
      "implicitDf": true,
      "rowLimit": 10000
     },
     "inputWidgets": {},
     "nuid": "a63adfb0-fcab-4efc-8122-71a5361dd482",
     "showTitle": false,
     "title": ""
    }
   },
   "outputs": [
    {
     "output_type": "display_data",
     "data": {
      "text/html": [
       "<style scoped>\n",
       "  .table-result-container {\n",
       "    max-height: 300px;\n",
       "    overflow: auto;\n",
       "  }\n",
       "  table, th, td {\n",
       "    border: 1px solid black;\n",
       "    border-collapse: collapse;\n",
       "  }\n",
       "  th, td {\n",
       "    padding: 5px;\n",
       "  }\n",
       "  th {\n",
       "    text-align: left;\n",
       "  }\n",
       "</style><div class='table-result-container'><table class='table-result'><thead style='background-color: white'><tr><th>MatchId</th><th>TeamGroup</th><th>home_country</th><th>away_country</th><th>home_country_goal</th><th>away_country_goal</th><th>winner_country</th></tr></thead><tbody><tr><td>1</td><td>A</td><td>France</td><td>Portugal</td><td>3</td><td>4</td><td>Portugal</td></tr><tr><td>2</td><td>A</td><td>France</td><td>Belgium</td><td>3</td><td>3</td><td>Belgium</td></tr><tr><td>3</td><td>A</td><td>France</td><td>Italy</td><td>5</td><td>1</td><td>France</td></tr><tr><td>4</td><td>A</td><td>Italy</td><td>Portugal</td><td>4</td><td>3</td><td>Italy</td></tr><tr><td>5</td><td>A</td><td>Italy</td><td>Belgium</td><td>4</td><td>6</td><td>Belgium</td></tr><tr><td>6</td><td>A</td><td>Belgium</td><td>Portugal</td><td>4</td><td>3</td><td>Belgium</td></tr><tr><td>7</td><td>B</td><td>Spain</td><td>England</td><td>6</td><td>2</td><td>Spain</td></tr><tr><td>8</td><td>B</td><td>Spain</td><td>Germany</td><td>4</td><td>3</td><td>Spain</td></tr><tr><td>9</td><td>B</td><td>Spain</td><td>Netherlands</td><td>4</td><td>5</td><td>Netherlands</td></tr><tr><td>10</td><td>B</td><td>Netherlands</td><td>England</td><td>1</td><td>3</td><td>England</td></tr><tr><td>11</td><td>B</td><td>Netherlands</td><td>Germany</td><td>2</td><td>5</td><td>Germany</td></tr><tr><td>12</td><td>B</td><td>Germany</td><td>England</td><td>4</td><td>5</td><td>England</td></tr><tr><td>13</td><td>C</td><td>Turkey</td><td>Denmark</td><td>1</td><td>2</td><td>Denmark</td></tr><tr><td>14</td><td>C</td><td>Turkey</td><td>Switzerland</td><td>6</td><td>4</td><td>Turkey</td></tr><tr><td>15</td><td>C</td><td>Turkey</td><td>Austria</td><td>5</td><td>6</td><td>Austria</td></tr><tr><td>16</td><td>C</td><td>Austria</td><td>Denmark</td><td>3</td><td>5</td><td>Denmark</td></tr><tr><td>17</td><td>C</td><td>Austria</td><td>Switzerland</td><td>6</td><td>6</td><td>Austria</td></tr><tr><td>18</td><td>C</td><td>Switzerland</td><td>Denmark</td><td>1</td><td>6</td><td>Denmark</td></tr><tr><td>19</td><td>D</td><td>Croatia</td><td>Poland</td><td>1</td><td>5</td><td>Poland</td></tr><tr><td>20</td><td>D</td><td>Croatia</td><td>Sweden</td><td>1</td><td>5</td><td>Sweden</td></tr><tr><td>21</td><td>D</td><td>Croatia</td><td>Ukraine</td><td>2</td><td>5</td><td>Ukraine</td></tr><tr><td>22</td><td>D</td><td>Ukraine</td><td>Poland</td><td>4</td><td>4</td><td>Ukraine</td></tr><tr><td>23</td><td>D</td><td>Ukraine</td><td>Sweden</td><td>4</td><td>2</td><td>Ukraine</td></tr><tr><td>24</td><td>D</td><td>Sweden</td><td>Poland</td><td>2</td><td>2</td><td>Sweden</td></tr><tr><td>25</td><td>E</td><td>Wales</td><td>Hungary</td><td>5</td><td>3</td><td>Wales</td></tr><tr><td>26</td><td>E</td><td>Wales</td><td>Slovakia</td><td>1</td><td>3</td><td>Slovakia</td></tr><tr><td>27</td><td>E</td><td>Wales</td><td>Czech Republic</td><td>1</td><td>5</td><td>Czech Republic</td></tr><tr><td>28</td><td>E</td><td>Czech Republic</td><td>Hungary</td><td>4</td><td>2</td><td>Czech Republic</td></tr><tr><td>29</td><td>E</td><td>Czech Republic</td><td>Slovakia</td><td>1</td><td>3</td><td>Slovakia</td></tr><tr><td>30</td><td>E</td><td>Slovakia</td><td>Hungary</td><td>2</td><td>6</td><td>Hungary</td></tr><tr><td>31</td><td>F</td><td>Finland</td><td>Russia</td><td>2</td><td>1</td><td>Finland</td></tr><tr><td>32</td><td>F</td><td>Finland</td><td>Scotland</td><td>5</td><td>5</td><td>Scotland</td></tr><tr><td>33</td><td>F</td><td>Finland</td><td>North Macedonia</td><td>4</td><td>1</td><td>Finland</td></tr><tr><td>34</td><td>F</td><td>North Macedonia</td><td>Russia</td><td>5</td><td>5</td><td>Russia</td></tr><tr><td>35</td><td>F</td><td>North Macedonia</td><td>Scotland</td><td>5</td><td>3</td><td>North Macedonia</td></tr><tr><td>36</td><td>F</td><td>Scotland</td><td>Russia</td><td>6</td><td>5</td><td>Scotland</td></tr><tr><td>37</td><td>N</td><td>Belgium</td><td>Austria</td><td>0</td><td>3</td><td>Austria</td></tr><tr><td>38</td><td>N</td><td>France</td><td>England</td><td>0</td><td>5</td><td>England</td></tr><tr><td>39</td><td>N</td><td>Spain</td><td>Portugal</td><td>2</td><td>0</td><td>Spain</td></tr><tr><td>40</td><td>N</td><td>Denmark</td><td>Sweden</td><td>2</td><td>4</td><td>Sweden</td></tr><tr><td>41</td><td>N</td><td>Finland</td><td>Turkey</td><td>3</td><td>0</td><td>Finland</td></tr><tr><td>42</td><td>N</td><td>Poland</td><td>Slovakia</td><td>1</td><td>1</td><td>Slovakia</td></tr><tr><td>43</td><td>N</td><td>Czech Republic</td><td>Germany</td><td>1</td><td>2</td><td>Germany</td></tr><tr><td>44</td><td>N</td><td>Poland</td><td>Scotland</td><td>2</td><td>2</td><td>Poland</td></tr><tr><td>45</td><td>N</td><td>Austria</td><td>England</td><td>0</td><td>0</td><td>None</td></tr><tr><td>46</td><td>N</td><td>Spain</td><td>Sweden</td><td>0</td><td>4</td><td>None</td></tr><tr><td>47</td><td>N</td><td>Finland</td><td>Slovakia</td><td>5</td><td>3</td><td>None</td></tr><tr><td>48</td><td>N</td><td>Germany</td><td>Poland</td><td>1</td><td>3</td><td>None</td></tr></tbody></table></div>"
      ]
     },
     "metadata": {
      "application/vnd.databricks.v1+output": {
       "addedWidgets": {},
       "aggData": [],
       "aggError": "",
       "aggOverflow": false,
       "aggSchema": [],
       "aggSeriesLimitReached": false,
       "aggType": "",
       "arguments": {},
       "columnCustomDisplayInfos": {},
       "data": [
        [
         1,
         "A",
         "France",
         "Portugal",
         3,
         4,
         "Portugal"
        ],
        [
         2,
         "A",
         "France",
         "Belgium",
         3,
         3,
         "Belgium"
        ],
        [
         3,
         "A",
         "France",
         "Italy",
         5,
         1,
         "France"
        ],
        [
         4,
         "A",
         "Italy",
         "Portugal",
         4,
         3,
         "Italy"
        ],
        [
         5,
         "A",
         "Italy",
         "Belgium",
         4,
         6,
         "Belgium"
        ],
        [
         6,
         "A",
         "Belgium",
         "Portugal",
         4,
         3,
         "Belgium"
        ],
        [
         7,
         "B",
         "Spain",
         "England",
         6,
         2,
         "Spain"
        ],
        [
         8,
         "B",
         "Spain",
         "Germany",
         4,
         3,
         "Spain"
        ],
        [
         9,
         "B",
         "Spain",
         "Netherlands",
         4,
         5,
         "Netherlands"
        ],
        [
         10,
         "B",
         "Netherlands",
         "England",
         1,
         3,
         "England"
        ],
        [
         11,
         "B",
         "Netherlands",
         "Germany",
         2,
         5,
         "Germany"
        ],
        [
         12,
         "B",
         "Germany",
         "England",
         4,
         5,
         "England"
        ],
        [
         13,
         "C",
         "Turkey",
         "Denmark",
         1,
         2,
         "Denmark"
        ],
        [
         14,
         "C",
         "Turkey",
         "Switzerland",
         6,
         4,
         "Turkey"
        ],
        [
         15,
         "C",
         "Turkey",
         "Austria",
         5,
         6,
         "Austria"
        ],
        [
         16,
         "C",
         "Austria",
         "Denmark",
         3,
         5,
         "Denmark"
        ],
        [
         17,
         "C",
         "Austria",
         "Switzerland",
         6,
         6,
         "Austria"
        ],
        [
         18,
         "C",
         "Switzerland",
         "Denmark",
         1,
         6,
         "Denmark"
        ],
        [
         19,
         "D",
         "Croatia",
         "Poland",
         1,
         5,
         "Poland"
        ],
        [
         20,
         "D",
         "Croatia",
         "Sweden",
         1,
         5,
         "Sweden"
        ],
        [
         21,
         "D",
         "Croatia",
         "Ukraine",
         2,
         5,
         "Ukraine"
        ],
        [
         22,
         "D",
         "Ukraine",
         "Poland",
         4,
         4,
         "Ukraine"
        ],
        [
         23,
         "D",
         "Ukraine",
         "Sweden",
         4,
         2,
         "Ukraine"
        ],
        [
         24,
         "D",
         "Sweden",
         "Poland",
         2,
         2,
         "Sweden"
        ],
        [
         25,
         "E",
         "Wales",
         "Hungary",
         5,
         3,
         "Wales"
        ],
        [
         26,
         "E",
         "Wales",
         "Slovakia",
         1,
         3,
         "Slovakia"
        ],
        [
         27,
         "E",
         "Wales",
         "Czech Republic",
         1,
         5,
         "Czech Republic"
        ],
        [
         28,
         "E",
         "Czech Republic",
         "Hungary",
         4,
         2,
         "Czech Republic"
        ],
        [
         29,
         "E",
         "Czech Republic",
         "Slovakia",
         1,
         3,
         "Slovakia"
        ],
        [
         30,
         "E",
         "Slovakia",
         "Hungary",
         2,
         6,
         "Hungary"
        ],
        [
         31,
         "F",
         "Finland",
         "Russia",
         2,
         1,
         "Finland"
        ],
        [
         32,
         "F",
         "Finland",
         "Scotland",
         5,
         5,
         "Scotland"
        ],
        [
         33,
         "F",
         "Finland",
         "North Macedonia",
         4,
         1,
         "Finland"
        ],
        [
         34,
         "F",
         "North Macedonia",
         "Russia",
         5,
         5,
         "Russia"
        ],
        [
         35,
         "F",
         "North Macedonia",
         "Scotland",
         5,
         3,
         "North Macedonia"
        ],
        [
         36,
         "F",
         "Scotland",
         "Russia",
         6,
         5,
         "Scotland"
        ],
        [
         37,
         "N",
         "Belgium",
         "Austria",
         0,
         3,
         "Austria"
        ],
        [
         38,
         "N",
         "France",
         "England",
         0,
         5,
         "England"
        ],
        [
         39,
         "N",
         "Spain",
         "Portugal",
         2,
         0,
         "Spain"
        ],
        [
         40,
         "N",
         "Denmark",
         "Sweden",
         2,
         4,
         "Sweden"
        ],
        [
         41,
         "N",
         "Finland",
         "Turkey",
         3,
         0,
         "Finland"
        ],
        [
         42,
         "N",
         "Poland",
         "Slovakia",
         1,
         1,
         "Slovakia"
        ],
        [
         43,
         "N",
         "Czech Republic",
         "Germany",
         1,
         2,
         "Germany"
        ],
        [
         44,
         "N",
         "Poland",
         "Scotland",
         2,
         2,
         "Poland"
        ],
        [
         45,
         "N",
         "Austria",
         "England",
         0,
         0,
         "None"
        ],
        [
         46,
         "N",
         "Spain",
         "Sweden",
         0,
         4,
         "None"
        ],
        [
         47,
         "N",
         "Finland",
         "Slovakia",
         5,
         3,
         "None"
        ],
        [
         48,
         "N",
         "Germany",
         "Poland",
         1,
         3,
         "None"
        ]
       ],
       "datasetInfos": [],
       "dbfsResultPath": null,
       "isJsonSchema": true,
       "metadata": {},
       "overflow": false,
       "plotOptions": {
        "customPlotOptions": {},
        "displayType": "table",
        "pivotAggregation": null,
        "pivotColumns": null,
        "xColumns": null,
        "yColumns": null
       },
       "removedWidgets": [],
       "schema": [
        {
         "metadata": "{}",
         "name": "MatchId",
         "type": "\"integer\""
        },
        {
         "metadata": "{\"__CHAR_VARCHAR_TYPE_STRING\":\"varchar(20)\"}",
         "name": "TeamGroup",
         "type": "\"string\""
        },
        {
         "metadata": "{\"__CHAR_VARCHAR_TYPE_STRING\":\"varchar(20)\"}",
         "name": "home_country",
         "type": "\"string\""
        },
        {
         "metadata": "{\"__CHAR_VARCHAR_TYPE_STRING\":\"varchar(20)\"}",
         "name": "away_country",
         "type": "\"string\""
        },
        {
         "metadata": "{}",
         "name": "home_country_goal",
         "type": "\"integer\""
        },
        {
         "metadata": "{}",
         "name": "away_country_goal",
         "type": "\"integer\""
        },
        {
         "metadata": "{\"__CHAR_VARCHAR_TYPE_STRING\":\"varchar(20)\"}",
         "name": "winner_country",
         "type": "\"string\""
        }
       ],
       "type": "table"
      }
     },
     "output_type": "display_data"
    }
   ],
   "source": [
    "%sql\n",
    "select * from matches order by MatchId;"
   ]
  },
  {
   "cell_type": "code",
   "execution_count": 0,
   "metadata": {
    "application/vnd.databricks.v1+cell": {
     "cellMetadata": {
      "byteLimit": 2048000,
      "implicitDf": true,
      "rowLimit": 10000
     },
     "inputWidgets": {},
     "nuid": "43fb793e-f2ec-4223-8915-1eb2861465c5",
     "showTitle": false,
     "title": ""
    }
   },
   "outputs": [
    {
     "output_type": "display_data",
     "data": {
      "text/html": [
       "<style scoped>\n",
       "  .table-result-container {\n",
       "    max-height: 300px;\n",
       "    overflow: auto;\n",
       "  }\n",
       "  table, th, td {\n",
       "    border: 1px solid black;\n",
       "    border-collapse: collapse;\n",
       "  }\n",
       "  th, td {\n",
       "    padding: 5px;\n",
       "  }\n",
       "  th {\n",
       "    text-align: left;\n",
       "  }\n",
       "</style><div class='table-result-container'><table class='table-result'><thead style='background-color: white'><tr><th>num_affected_rows</th></tr></thead><tbody><tr><td>48</td></tr></tbody></table></div>"
      ]
     },
     "metadata": {
      "application/vnd.databricks.v1+output": {
       "addedWidgets": {},
       "aggData": [],
       "aggError": "",
       "aggOverflow": false,
       "aggSchema": [],
       "aggSeriesLimitReached": false,
       "aggType": "",
       "arguments": {},
       "columnCustomDisplayInfos": {},
       "data": [
        [
         48
        ]
       ],
       "datasetInfos": [],
       "dbfsResultPath": null,
       "isJsonSchema": true,
       "metadata": {},
       "overflow": false,
       "plotOptions": {
        "customPlotOptions": {},
        "displayType": "table",
        "pivotAggregation": null,
        "pivotColumns": null,
        "xColumns": null,
        "yColumns": null
       },
       "removedWidgets": [],
       "schema": [
        {
         "metadata": "{}",
         "name": "num_affected_rows",
         "type": "\"long\""
        }
       ],
       "type": "table"
      }
     },
     "output_type": "display_data"
    }
   ],
   "source": [
    "%sql\n",
    "UPDATE matches\n",
    "SET winner_country = \n",
    "    CASE\n",
    "        WHEN home_country_goal > away_country_goal THEN home_country\n",
    "        WHEN home_country_goal < away_country_goal THEN away_country\n",
    "        ELSE \n",
    "        CASE \n",
    "                WHEN (home_country_goal + 1) % 2 = 1 THEN home_country\n",
    "                ELSE away_country\n",
    "            END\n",
    "    END\n",
    "     "
   ]
  },
  {
   "cell_type": "code",
   "execution_count": 0,
   "metadata": {
    "application/vnd.databricks.v1+cell": {
     "cellMetadata": {
      "byteLimit": 2048000,
      "implicitDf": true,
      "rowLimit": 10000
     },
     "inputWidgets": {},
     "nuid": "5d1cbca9-198b-4077-bdd5-afcf1c716c9a",
     "showTitle": false,
     "title": ""
    }
   },
   "outputs": [
    {
     "output_type": "display_data",
     "data": {
      "text/html": [
       "<style scoped>\n",
       "  .table-result-container {\n",
       "    max-height: 300px;\n",
       "    overflow: auto;\n",
       "  }\n",
       "  table, th, td {\n",
       "    border: 1px solid black;\n",
       "    border-collapse: collapse;\n",
       "  }\n",
       "  th, td {\n",
       "    padding: 5px;\n",
       "  }\n",
       "  th {\n",
       "    text-align: left;\n",
       "  }\n",
       "</style><div class='table-result-container'><table class='table-result'><thead style='background-color: white'><tr><th>MatchId</th><th>TeamGroup</th><th>home_country</th><th>away_country</th><th>home_country_goal</th><th>away_country_goal</th><th>winner_country</th></tr></thead><tbody><tr><td>1</td><td>A</td><td>France</td><td>Portugal</td><td>3</td><td>4</td><td>Portugal</td></tr><tr><td>2</td><td>A</td><td>France</td><td>Belgium</td><td>3</td><td>3</td><td>Belgium</td></tr><tr><td>3</td><td>A</td><td>France</td><td>Italy</td><td>5</td><td>1</td><td>France</td></tr><tr><td>4</td><td>A</td><td>Italy</td><td>Portugal</td><td>4</td><td>3</td><td>Italy</td></tr><tr><td>5</td><td>A</td><td>Italy</td><td>Belgium</td><td>4</td><td>6</td><td>Belgium</td></tr><tr><td>6</td><td>A</td><td>Belgium</td><td>Portugal</td><td>4</td><td>3</td><td>Belgium</td></tr><tr><td>7</td><td>B</td><td>Spain</td><td>England</td><td>6</td><td>2</td><td>Spain</td></tr><tr><td>8</td><td>B</td><td>Spain</td><td>Germany</td><td>4</td><td>3</td><td>Spain</td></tr><tr><td>9</td><td>B</td><td>Spain</td><td>Netherlands</td><td>4</td><td>5</td><td>Netherlands</td></tr><tr><td>10</td><td>B</td><td>Netherlands</td><td>England</td><td>1</td><td>3</td><td>England</td></tr><tr><td>11</td><td>B</td><td>Netherlands</td><td>Germany</td><td>2</td><td>5</td><td>Germany</td></tr><tr><td>12</td><td>B</td><td>Germany</td><td>England</td><td>4</td><td>5</td><td>England</td></tr><tr><td>13</td><td>C</td><td>Turkey</td><td>Denmark</td><td>1</td><td>2</td><td>Denmark</td></tr><tr><td>14</td><td>C</td><td>Turkey</td><td>Switzerland</td><td>6</td><td>4</td><td>Turkey</td></tr><tr><td>15</td><td>C</td><td>Turkey</td><td>Austria</td><td>5</td><td>6</td><td>Austria</td></tr><tr><td>16</td><td>C</td><td>Austria</td><td>Denmark</td><td>3</td><td>5</td><td>Denmark</td></tr><tr><td>17</td><td>C</td><td>Austria</td><td>Switzerland</td><td>6</td><td>6</td><td>Austria</td></tr><tr><td>18</td><td>C</td><td>Switzerland</td><td>Denmark</td><td>1</td><td>6</td><td>Denmark</td></tr><tr><td>19</td><td>D</td><td>Croatia</td><td>Poland</td><td>1</td><td>5</td><td>Poland</td></tr><tr><td>20</td><td>D</td><td>Croatia</td><td>Sweden</td><td>1</td><td>5</td><td>Sweden</td></tr><tr><td>21</td><td>D</td><td>Croatia</td><td>Ukraine</td><td>2</td><td>5</td><td>Ukraine</td></tr><tr><td>22</td><td>D</td><td>Ukraine</td><td>Poland</td><td>4</td><td>4</td><td>Ukraine</td></tr><tr><td>23</td><td>D</td><td>Ukraine</td><td>Sweden</td><td>4</td><td>2</td><td>Ukraine</td></tr><tr><td>24</td><td>D</td><td>Sweden</td><td>Poland</td><td>2</td><td>2</td><td>Sweden</td></tr><tr><td>25</td><td>E</td><td>Wales</td><td>Hungary</td><td>5</td><td>3</td><td>Wales</td></tr><tr><td>26</td><td>E</td><td>Wales</td><td>Slovakia</td><td>1</td><td>3</td><td>Slovakia</td></tr><tr><td>27</td><td>E</td><td>Wales</td><td>Czech Republic</td><td>1</td><td>5</td><td>Czech Republic</td></tr><tr><td>28</td><td>E</td><td>Czech Republic</td><td>Hungary</td><td>4</td><td>2</td><td>Czech Republic</td></tr><tr><td>29</td><td>E</td><td>Czech Republic</td><td>Slovakia</td><td>1</td><td>3</td><td>Slovakia</td></tr><tr><td>30</td><td>E</td><td>Slovakia</td><td>Hungary</td><td>2</td><td>6</td><td>Hungary</td></tr><tr><td>31</td><td>F</td><td>Finland</td><td>Russia</td><td>2</td><td>1</td><td>Finland</td></tr><tr><td>32</td><td>F</td><td>Finland</td><td>Scotland</td><td>5</td><td>5</td><td>Scotland</td></tr><tr><td>33</td><td>F</td><td>Finland</td><td>North Macedonia</td><td>4</td><td>1</td><td>Finland</td></tr><tr><td>34</td><td>F</td><td>North Macedonia</td><td>Russia</td><td>5</td><td>5</td><td>Russia</td></tr><tr><td>35</td><td>F</td><td>North Macedonia</td><td>Scotland</td><td>5</td><td>3</td><td>North Macedonia</td></tr><tr><td>36</td><td>F</td><td>Scotland</td><td>Russia</td><td>6</td><td>5</td><td>Scotland</td></tr><tr><td>37</td><td>N</td><td>Belgium</td><td>Austria</td><td>0</td><td>3</td><td>Austria</td></tr><tr><td>38</td><td>N</td><td>France</td><td>England</td><td>0</td><td>5</td><td>England</td></tr><tr><td>39</td><td>N</td><td>Spain</td><td>Portugal</td><td>2</td><td>0</td><td>Spain</td></tr><tr><td>40</td><td>N</td><td>Denmark</td><td>Sweden</td><td>2</td><td>4</td><td>Sweden</td></tr><tr><td>41</td><td>N</td><td>Finland</td><td>Turkey</td><td>3</td><td>0</td><td>Finland</td></tr><tr><td>42</td><td>N</td><td>Poland</td><td>Slovakia</td><td>1</td><td>1</td><td>Slovakia</td></tr><tr><td>43</td><td>N</td><td>Czech Republic</td><td>Germany</td><td>1</td><td>2</td><td>Germany</td></tr><tr><td>44</td><td>N</td><td>Poland</td><td>Scotland</td><td>2</td><td>2</td><td>Poland</td></tr><tr><td>45</td><td>N</td><td>Austria</td><td>England</td><td>0</td><td>0</td><td>Austria</td></tr><tr><td>46</td><td>N</td><td>Spain</td><td>Sweden</td><td>0</td><td>4</td><td>Sweden</td></tr><tr><td>47</td><td>N</td><td>Finland</td><td>Slovakia</td><td>5</td><td>3</td><td>Finland</td></tr><tr><td>48</td><td>N</td><td>Germany</td><td>Poland</td><td>1</td><td>3</td><td>Poland</td></tr></tbody></table></div>"
      ]
     },
     "metadata": {
      "application/vnd.databricks.v1+output": {
       "addedWidgets": {},
       "aggData": [],
       "aggError": "",
       "aggOverflow": false,
       "aggSchema": [],
       "aggSeriesLimitReached": false,
       "aggType": "",
       "arguments": {},
       "columnCustomDisplayInfos": {},
       "data": [
        [
         1,
         "A",
         "France",
         "Portugal",
         3,
         4,
         "Portugal"
        ],
        [
         2,
         "A",
         "France",
         "Belgium",
         3,
         3,
         "Belgium"
        ],
        [
         3,
         "A",
         "France",
         "Italy",
         5,
         1,
         "France"
        ],
        [
         4,
         "A",
         "Italy",
         "Portugal",
         4,
         3,
         "Italy"
        ],
        [
         5,
         "A",
         "Italy",
         "Belgium",
         4,
         6,
         "Belgium"
        ],
        [
         6,
         "A",
         "Belgium",
         "Portugal",
         4,
         3,
         "Belgium"
        ],
        [
         7,
         "B",
         "Spain",
         "England",
         6,
         2,
         "Spain"
        ],
        [
         8,
         "B",
         "Spain",
         "Germany",
         4,
         3,
         "Spain"
        ],
        [
         9,
         "B",
         "Spain",
         "Netherlands",
         4,
         5,
         "Netherlands"
        ],
        [
         10,
         "B",
         "Netherlands",
         "England",
         1,
         3,
         "England"
        ],
        [
         11,
         "B",
         "Netherlands",
         "Germany",
         2,
         5,
         "Germany"
        ],
        [
         12,
         "B",
         "Germany",
         "England",
         4,
         5,
         "England"
        ],
        [
         13,
         "C",
         "Turkey",
         "Denmark",
         1,
         2,
         "Denmark"
        ],
        [
         14,
         "C",
         "Turkey",
         "Switzerland",
         6,
         4,
         "Turkey"
        ],
        [
         15,
         "C",
         "Turkey",
         "Austria",
         5,
         6,
         "Austria"
        ],
        [
         16,
         "C",
         "Austria",
         "Denmark",
         3,
         5,
         "Denmark"
        ],
        [
         17,
         "C",
         "Austria",
         "Switzerland",
         6,
         6,
         "Austria"
        ],
        [
         18,
         "C",
         "Switzerland",
         "Denmark",
         1,
         6,
         "Denmark"
        ],
        [
         19,
         "D",
         "Croatia",
         "Poland",
         1,
         5,
         "Poland"
        ],
        [
         20,
         "D",
         "Croatia",
         "Sweden",
         1,
         5,
         "Sweden"
        ],
        [
         21,
         "D",
         "Croatia",
         "Ukraine",
         2,
         5,
         "Ukraine"
        ],
        [
         22,
         "D",
         "Ukraine",
         "Poland",
         4,
         4,
         "Ukraine"
        ],
        [
         23,
         "D",
         "Ukraine",
         "Sweden",
         4,
         2,
         "Ukraine"
        ],
        [
         24,
         "D",
         "Sweden",
         "Poland",
         2,
         2,
         "Sweden"
        ],
        [
         25,
         "E",
         "Wales",
         "Hungary",
         5,
         3,
         "Wales"
        ],
        [
         26,
         "E",
         "Wales",
         "Slovakia",
         1,
         3,
         "Slovakia"
        ],
        [
         27,
         "E",
         "Wales",
         "Czech Republic",
         1,
         5,
         "Czech Republic"
        ],
        [
         28,
         "E",
         "Czech Republic",
         "Hungary",
         4,
         2,
         "Czech Republic"
        ],
        [
         29,
         "E",
         "Czech Republic",
         "Slovakia",
         1,
         3,
         "Slovakia"
        ],
        [
         30,
         "E",
         "Slovakia",
         "Hungary",
         2,
         6,
         "Hungary"
        ],
        [
         31,
         "F",
         "Finland",
         "Russia",
         2,
         1,
         "Finland"
        ],
        [
         32,
         "F",
         "Finland",
         "Scotland",
         5,
         5,
         "Scotland"
        ],
        [
         33,
         "F",
         "Finland",
         "North Macedonia",
         4,
         1,
         "Finland"
        ],
        [
         34,
         "F",
         "North Macedonia",
         "Russia",
         5,
         5,
         "Russia"
        ],
        [
         35,
         "F",
         "North Macedonia",
         "Scotland",
         5,
         3,
         "North Macedonia"
        ],
        [
         36,
         "F",
         "Scotland",
         "Russia",
         6,
         5,
         "Scotland"
        ],
        [
         37,
         "N",
         "Belgium",
         "Austria",
         0,
         3,
         "Austria"
        ],
        [
         38,
         "N",
         "France",
         "England",
         0,
         5,
         "England"
        ],
        [
         39,
         "N",
         "Spain",
         "Portugal",
         2,
         0,
         "Spain"
        ],
        [
         40,
         "N",
         "Denmark",
         "Sweden",
         2,
         4,
         "Sweden"
        ],
        [
         41,
         "N",
         "Finland",
         "Turkey",
         3,
         0,
         "Finland"
        ],
        [
         42,
         "N",
         "Poland",
         "Slovakia",
         1,
         1,
         "Slovakia"
        ],
        [
         43,
         "N",
         "Czech Republic",
         "Germany",
         1,
         2,
         "Germany"
        ],
        [
         44,
         "N",
         "Poland",
         "Scotland",
         2,
         2,
         "Poland"
        ],
        [
         45,
         "N",
         "Austria",
         "England",
         0,
         0,
         "Austria"
        ],
        [
         46,
         "N",
         "Spain",
         "Sweden",
         0,
         4,
         "Sweden"
        ],
        [
         47,
         "N",
         "Finland",
         "Slovakia",
         5,
         3,
         "Finland"
        ],
        [
         48,
         "N",
         "Germany",
         "Poland",
         1,
         3,
         "Poland"
        ]
       ],
       "datasetInfos": [],
       "dbfsResultPath": null,
       "isJsonSchema": true,
       "metadata": {},
       "overflow": false,
       "plotOptions": {
        "customPlotOptions": {},
        "displayType": "table",
        "pivotAggregation": null,
        "pivotColumns": null,
        "xColumns": null,
        "yColumns": null
       },
       "removedWidgets": [],
       "schema": [
        {
         "metadata": "{}",
         "name": "MatchId",
         "type": "\"integer\""
        },
        {
         "metadata": "{\"__CHAR_VARCHAR_TYPE_STRING\":\"varchar(20)\"}",
         "name": "TeamGroup",
         "type": "\"string\""
        },
        {
         "metadata": "{\"__CHAR_VARCHAR_TYPE_STRING\":\"varchar(20)\"}",
         "name": "home_country",
         "type": "\"string\""
        },
        {
         "metadata": "{\"__CHAR_VARCHAR_TYPE_STRING\":\"varchar(20)\"}",
         "name": "away_country",
         "type": "\"string\""
        },
        {
         "metadata": "{}",
         "name": "home_country_goal",
         "type": "\"integer\""
        },
        {
         "metadata": "{}",
         "name": "away_country_goal",
         "type": "\"integer\""
        },
        {
         "metadata": "{\"__CHAR_VARCHAR_TYPE_STRING\":\"varchar(20)\"}",
         "name": "winner_country",
         "type": "\"string\""
        }
       ],
       "type": "table"
      }
     },
     "output_type": "display_data"
    }
   ],
   "source": [
    "%sql\n",
    "select * from matches order by MatchId;"
   ]
  },
  {
   "cell_type": "markdown",
   "metadata": {
    "application/vnd.databricks.v1+cell": {
     "cellMetadata": {
      "byteLimit": 2048000,
      "rowLimit": 10000
     },
     "inputWidgets": {},
     "nuid": "7ce77eb5-c675-46f3-837e-3b00f1953197",
     "showTitle": false,
     "title": ""
    }
   },
   "source": [
    "Semi Final"
   ]
  },
  {
   "cell_type": "code",
   "execution_count": 0,
   "metadata": {
    "application/vnd.databricks.v1+cell": {
     "cellMetadata": {
      "byteLimit": 2048000,
      "implicitDf": true,
      "rowLimit": 10000
     },
     "inputWidgets": {},
     "nuid": "59e40853-58d6-4b6d-9b43-93104891ef87",
     "showTitle": false,
     "title": ""
    }
   },
   "outputs": [
    {
     "output_type": "display_data",
     "data": {
      "text/html": [
       "<style scoped>\n",
       "  .table-result-container {\n",
       "    max-height: 300px;\n",
       "    overflow: auto;\n",
       "  }\n",
       "  table, th, td {\n",
       "    border: 1px solid black;\n",
       "    border-collapse: collapse;\n",
       "  }\n",
       "  th, td {\n",
       "    padding: 5px;\n",
       "  }\n",
       "  th {\n",
       "    text-align: left;\n",
       "  }\n",
       "</style><div class='table-result-container'><table class='table-result'><thead style='background-color: white'><tr><th>num_affected_rows</th><th>num_inserted_rows</th></tr></thead><tbody><tr><td>2</td><td>2</td></tr></tbody></table></div>"
      ]
     },
     "metadata": {
      "application/vnd.databricks.v1+output": {
       "addedWidgets": {},
       "aggData": [],
       "aggError": "",
       "aggOverflow": false,
       "aggSchema": [],
       "aggSeriesLimitReached": false,
       "aggType": "",
       "arguments": {},
       "columnCustomDisplayInfos": {},
       "data": [
        [
         2,
         2
        ]
       ],
       "datasetInfos": [],
       "dbfsResultPath": null,
       "isJsonSchema": true,
       "metadata": {},
       "overflow": false,
       "plotOptions": {
        "customPlotOptions": {},
        "displayType": "table",
        "pivotAggregation": null,
        "pivotColumns": null,
        "xColumns": null,
        "yColumns": null
       },
       "removedWidgets": [],
       "schema": [
        {
         "metadata": "{}",
         "name": "num_affected_rows",
         "type": "\"long\""
        },
        {
         "metadata": "{}",
         "name": "num_inserted_rows",
         "type": "\"long\""
        }
       ],
       "type": "table"
      }
     },
     "output_type": "display_data"
    }
   ],
   "source": [
    "%sql\n",
    "INSERT INTO matches (MatchID, TeamGroup, home_country, away_country, home_country_goal, away_country_goal, winner_country)\n",
    "\n",
    "SELECT\n",
    "row_number() OVER (ORDER BY 1) + 48 AS MatchId,\n",
    "'N' AS Team_group,\n",
    "r1.winner_country AS home_country,\n",
    "r2.winner_country AS away_country,\n",
    "CAST(rand() * 6 AS INTEGER) AS home_country_goal,\n",
    "CAST(rand() * 6 AS INTEGER) AS away_country_goal,\n",
    "'None' AS match_result\n",
    "\n",
    "FROM \n",
    "    matches r1\n",
    "JOIN \n",
    "    matches r2 ON \n",
    "        r1.MatchId = 45 AND r2.MatchId = 46\n",
    "\n",
    "UNION ALL\n",
    "\n",
    "SELECT\n",
    "row_number() OVER (ORDER BY 1) + 49 AS MatchId,\n",
    "'N' AS Team_group,\n",
    "r1.winner_country AS home_country,\n",
    "r2.winner_country AS away_country,\n",
    "CAST(rand() * 6 AS INTEGER) AS home_country_goal,\n",
    "CAST(rand() * 6 AS INTEGER) AS away_country_goal,\n",
    "'None' AS match_result\n",
    "\n",
    "FROM \n",
    "    matches r1\n",
    "JOIN \n",
    "    matches r2 ON \n",
    "        r1.MatchId = 47 AND r2.MatchId = 48"
   ]
  },
  {
   "cell_type": "code",
   "execution_count": 0,
   "metadata": {
    "application/vnd.databricks.v1+cell": {
     "cellMetadata": {
      "byteLimit": 2048000,
      "implicitDf": true,
      "rowLimit": 10000
     },
     "inputWidgets": {},
     "nuid": "50bde6e4-29c8-45ea-819e-1375b9db1d77",
     "showTitle": false,
     "title": ""
    }
   },
   "outputs": [
    {
     "output_type": "display_data",
     "data": {
      "text/html": [
       "<style scoped>\n",
       "  .table-result-container {\n",
       "    max-height: 300px;\n",
       "    overflow: auto;\n",
       "  }\n",
       "  table, th, td {\n",
       "    border: 1px solid black;\n",
       "    border-collapse: collapse;\n",
       "  }\n",
       "  th, td {\n",
       "    padding: 5px;\n",
       "  }\n",
       "  th {\n",
       "    text-align: left;\n",
       "  }\n",
       "</style><div class='table-result-container'><table class='table-result'><thead style='background-color: white'><tr><th>num_affected_rows</th></tr></thead><tbody><tr><td>50</td></tr></tbody></table></div>"
      ]
     },
     "metadata": {
      "application/vnd.databricks.v1+output": {
       "addedWidgets": {},
       "aggData": [],
       "aggError": "",
       "aggOverflow": false,
       "aggSchema": [],
       "aggSeriesLimitReached": false,
       "aggType": "",
       "arguments": {},
       "columnCustomDisplayInfos": {},
       "data": [
        [
         50
        ]
       ],
       "datasetInfos": [],
       "dbfsResultPath": null,
       "isJsonSchema": true,
       "metadata": {},
       "overflow": false,
       "plotOptions": {
        "customPlotOptions": {},
        "displayType": "table",
        "pivotAggregation": null,
        "pivotColumns": null,
        "xColumns": null,
        "yColumns": null
       },
       "removedWidgets": [],
       "schema": [
        {
         "metadata": "{}",
         "name": "num_affected_rows",
         "type": "\"long\""
        }
       ],
       "type": "table"
      }
     },
     "output_type": "display_data"
    }
   ],
   "source": [
    "%sql\n",
    "UPDATE matches\n",
    "SET winner_country = \n",
    "    CASE\n",
    "        WHEN home_country_goal > away_country_goal THEN home_country\n",
    "        WHEN home_country_goal < away_country_goal THEN away_country\n",
    "        ELSE \n",
    "        CASE \n",
    "                WHEN (home_country_goal + 1) % 2 = 1 THEN home_country\n",
    "                ELSE away_country\n",
    "            END\n",
    "    END"
   ]
  },
  {
   "cell_type": "code",
   "execution_count": 0,
   "metadata": {
    "application/vnd.databricks.v1+cell": {
     "cellMetadata": {
      "byteLimit": 2048000,
      "implicitDf": true,
      "rowLimit": 10000
     },
     "inputWidgets": {},
     "nuid": "933a69b3-e94a-46f3-828d-6408c7e4af2a",
     "showTitle": false,
     "title": ""
    }
   },
   "outputs": [
    {
     "output_type": "display_data",
     "data": {
      "text/html": [
       "<style scoped>\n",
       "  .table-result-container {\n",
       "    max-height: 300px;\n",
       "    overflow: auto;\n",
       "  }\n",
       "  table, th, td {\n",
       "    border: 1px solid black;\n",
       "    border-collapse: collapse;\n",
       "  }\n",
       "  th, td {\n",
       "    padding: 5px;\n",
       "  }\n",
       "  th {\n",
       "    text-align: left;\n",
       "  }\n",
       "</style><div class='table-result-container'><table class='table-result'><thead style='background-color: white'><tr><th>MatchId</th><th>TeamGroup</th><th>home_country</th><th>away_country</th><th>home_country_goal</th><th>away_country_goal</th><th>winner_country</th></tr></thead><tbody><tr><td>1</td><td>A</td><td>France</td><td>Portugal</td><td>3</td><td>4</td><td>Portugal</td></tr><tr><td>2</td><td>A</td><td>France</td><td>Belgium</td><td>3</td><td>3</td><td>Belgium</td></tr><tr><td>3</td><td>A</td><td>France</td><td>Italy</td><td>5</td><td>1</td><td>France</td></tr><tr><td>4</td><td>A</td><td>Italy</td><td>Portugal</td><td>4</td><td>3</td><td>Italy</td></tr><tr><td>5</td><td>A</td><td>Italy</td><td>Belgium</td><td>4</td><td>6</td><td>Belgium</td></tr><tr><td>6</td><td>A</td><td>Belgium</td><td>Portugal</td><td>4</td><td>3</td><td>Belgium</td></tr><tr><td>7</td><td>B</td><td>Spain</td><td>England</td><td>6</td><td>2</td><td>Spain</td></tr><tr><td>8</td><td>B</td><td>Spain</td><td>Germany</td><td>4</td><td>3</td><td>Spain</td></tr><tr><td>9</td><td>B</td><td>Spain</td><td>Netherlands</td><td>4</td><td>5</td><td>Netherlands</td></tr><tr><td>10</td><td>B</td><td>Netherlands</td><td>England</td><td>1</td><td>3</td><td>England</td></tr><tr><td>11</td><td>B</td><td>Netherlands</td><td>Germany</td><td>2</td><td>5</td><td>Germany</td></tr><tr><td>12</td><td>B</td><td>Germany</td><td>England</td><td>4</td><td>5</td><td>England</td></tr><tr><td>13</td><td>C</td><td>Turkey</td><td>Denmark</td><td>1</td><td>2</td><td>Denmark</td></tr><tr><td>14</td><td>C</td><td>Turkey</td><td>Switzerland</td><td>6</td><td>4</td><td>Turkey</td></tr><tr><td>15</td><td>C</td><td>Turkey</td><td>Austria</td><td>5</td><td>6</td><td>Austria</td></tr><tr><td>16</td><td>C</td><td>Austria</td><td>Denmark</td><td>3</td><td>5</td><td>Denmark</td></tr><tr><td>17</td><td>C</td><td>Austria</td><td>Switzerland</td><td>6</td><td>6</td><td>Austria</td></tr><tr><td>18</td><td>C</td><td>Switzerland</td><td>Denmark</td><td>1</td><td>6</td><td>Denmark</td></tr><tr><td>19</td><td>D</td><td>Croatia</td><td>Poland</td><td>1</td><td>5</td><td>Poland</td></tr><tr><td>20</td><td>D</td><td>Croatia</td><td>Sweden</td><td>1</td><td>5</td><td>Sweden</td></tr><tr><td>21</td><td>D</td><td>Croatia</td><td>Ukraine</td><td>2</td><td>5</td><td>Ukraine</td></tr><tr><td>22</td><td>D</td><td>Ukraine</td><td>Poland</td><td>4</td><td>4</td><td>Ukraine</td></tr><tr><td>23</td><td>D</td><td>Ukraine</td><td>Sweden</td><td>4</td><td>2</td><td>Ukraine</td></tr><tr><td>24</td><td>D</td><td>Sweden</td><td>Poland</td><td>2</td><td>2</td><td>Sweden</td></tr><tr><td>25</td><td>E</td><td>Wales</td><td>Hungary</td><td>5</td><td>3</td><td>Wales</td></tr><tr><td>26</td><td>E</td><td>Wales</td><td>Slovakia</td><td>1</td><td>3</td><td>Slovakia</td></tr><tr><td>27</td><td>E</td><td>Wales</td><td>Czech Republic</td><td>1</td><td>5</td><td>Czech Republic</td></tr><tr><td>28</td><td>E</td><td>Czech Republic</td><td>Hungary</td><td>4</td><td>2</td><td>Czech Republic</td></tr><tr><td>29</td><td>E</td><td>Czech Republic</td><td>Slovakia</td><td>1</td><td>3</td><td>Slovakia</td></tr><tr><td>30</td><td>E</td><td>Slovakia</td><td>Hungary</td><td>2</td><td>6</td><td>Hungary</td></tr><tr><td>31</td><td>F</td><td>Finland</td><td>Russia</td><td>2</td><td>1</td><td>Finland</td></tr><tr><td>32</td><td>F</td><td>Finland</td><td>Scotland</td><td>5</td><td>5</td><td>Scotland</td></tr><tr><td>33</td><td>F</td><td>Finland</td><td>North Macedonia</td><td>4</td><td>1</td><td>Finland</td></tr><tr><td>34</td><td>F</td><td>North Macedonia</td><td>Russia</td><td>5</td><td>5</td><td>Russia</td></tr><tr><td>35</td><td>F</td><td>North Macedonia</td><td>Scotland</td><td>5</td><td>3</td><td>North Macedonia</td></tr><tr><td>36</td><td>F</td><td>Scotland</td><td>Russia</td><td>6</td><td>5</td><td>Scotland</td></tr><tr><td>37</td><td>N</td><td>Belgium</td><td>Austria</td><td>0</td><td>3</td><td>Austria</td></tr><tr><td>38</td><td>N</td><td>France</td><td>England</td><td>0</td><td>5</td><td>England</td></tr><tr><td>39</td><td>N</td><td>Spain</td><td>Portugal</td><td>2</td><td>0</td><td>Spain</td></tr><tr><td>40</td><td>N</td><td>Denmark</td><td>Sweden</td><td>2</td><td>4</td><td>Sweden</td></tr><tr><td>41</td><td>N</td><td>Finland</td><td>Turkey</td><td>3</td><td>0</td><td>Finland</td></tr><tr><td>42</td><td>N</td><td>Poland</td><td>Slovakia</td><td>1</td><td>1</td><td>Slovakia</td></tr><tr><td>43</td><td>N</td><td>Czech Republic</td><td>Germany</td><td>1</td><td>2</td><td>Germany</td></tr><tr><td>44</td><td>N</td><td>Poland</td><td>Scotland</td><td>2</td><td>2</td><td>Poland</td></tr><tr><td>45</td><td>N</td><td>Austria</td><td>England</td><td>0</td><td>0</td><td>Austria</td></tr><tr><td>46</td><td>N</td><td>Spain</td><td>Sweden</td><td>0</td><td>4</td><td>Sweden</td></tr><tr><td>47</td><td>N</td><td>Finland</td><td>Slovakia</td><td>5</td><td>3</td><td>Finland</td></tr><tr><td>48</td><td>N</td><td>Germany</td><td>Poland</td><td>1</td><td>3</td><td>Poland</td></tr><tr><td>49</td><td>N</td><td>Austria</td><td>Sweden</td><td>2</td><td>3</td><td>Sweden</td></tr><tr><td>50</td><td>N</td><td>Finland</td><td>Poland</td><td>5</td><td>4</td><td>Finland</td></tr></tbody></table></div>"
      ]
     },
     "metadata": {
      "application/vnd.databricks.v1+output": {
       "addedWidgets": {},
       "aggData": [],
       "aggError": "",
       "aggOverflow": false,
       "aggSchema": [],
       "aggSeriesLimitReached": false,
       "aggType": "",
       "arguments": {},
       "columnCustomDisplayInfos": {},
       "data": [
        [
         1,
         "A",
         "France",
         "Portugal",
         3,
         4,
         "Portugal"
        ],
        [
         2,
         "A",
         "France",
         "Belgium",
         3,
         3,
         "Belgium"
        ],
        [
         3,
         "A",
         "France",
         "Italy",
         5,
         1,
         "France"
        ],
        [
         4,
         "A",
         "Italy",
         "Portugal",
         4,
         3,
         "Italy"
        ],
        [
         5,
         "A",
         "Italy",
         "Belgium",
         4,
         6,
         "Belgium"
        ],
        [
         6,
         "A",
         "Belgium",
         "Portugal",
         4,
         3,
         "Belgium"
        ],
        [
         7,
         "B",
         "Spain",
         "England",
         6,
         2,
         "Spain"
        ],
        [
         8,
         "B",
         "Spain",
         "Germany",
         4,
         3,
         "Spain"
        ],
        [
         9,
         "B",
         "Spain",
         "Netherlands",
         4,
         5,
         "Netherlands"
        ],
        [
         10,
         "B",
         "Netherlands",
         "England",
         1,
         3,
         "England"
        ],
        [
         11,
         "B",
         "Netherlands",
         "Germany",
         2,
         5,
         "Germany"
        ],
        [
         12,
         "B",
         "Germany",
         "England",
         4,
         5,
         "England"
        ],
        [
         13,
         "C",
         "Turkey",
         "Denmark",
         1,
         2,
         "Denmark"
        ],
        [
         14,
         "C",
         "Turkey",
         "Switzerland",
         6,
         4,
         "Turkey"
        ],
        [
         15,
         "C",
         "Turkey",
         "Austria",
         5,
         6,
         "Austria"
        ],
        [
         16,
         "C",
         "Austria",
         "Denmark",
         3,
         5,
         "Denmark"
        ],
        [
         17,
         "C",
         "Austria",
         "Switzerland",
         6,
         6,
         "Austria"
        ],
        [
         18,
         "C",
         "Switzerland",
         "Denmark",
         1,
         6,
         "Denmark"
        ],
        [
         19,
         "D",
         "Croatia",
         "Poland",
         1,
         5,
         "Poland"
        ],
        [
         20,
         "D",
         "Croatia",
         "Sweden",
         1,
         5,
         "Sweden"
        ],
        [
         21,
         "D",
         "Croatia",
         "Ukraine",
         2,
         5,
         "Ukraine"
        ],
        [
         22,
         "D",
         "Ukraine",
         "Poland",
         4,
         4,
         "Ukraine"
        ],
        [
         23,
         "D",
         "Ukraine",
         "Sweden",
         4,
         2,
         "Ukraine"
        ],
        [
         24,
         "D",
         "Sweden",
         "Poland",
         2,
         2,
         "Sweden"
        ],
        [
         25,
         "E",
         "Wales",
         "Hungary",
         5,
         3,
         "Wales"
        ],
        [
         26,
         "E",
         "Wales",
         "Slovakia",
         1,
         3,
         "Slovakia"
        ],
        [
         27,
         "E",
         "Wales",
         "Czech Republic",
         1,
         5,
         "Czech Republic"
        ],
        [
         28,
         "E",
         "Czech Republic",
         "Hungary",
         4,
         2,
         "Czech Republic"
        ],
        [
         29,
         "E",
         "Czech Republic",
         "Slovakia",
         1,
         3,
         "Slovakia"
        ],
        [
         30,
         "E",
         "Slovakia",
         "Hungary",
         2,
         6,
         "Hungary"
        ],
        [
         31,
         "F",
         "Finland",
         "Russia",
         2,
         1,
         "Finland"
        ],
        [
         32,
         "F",
         "Finland",
         "Scotland",
         5,
         5,
         "Scotland"
        ],
        [
         33,
         "F",
         "Finland",
         "North Macedonia",
         4,
         1,
         "Finland"
        ],
        [
         34,
         "F",
         "North Macedonia",
         "Russia",
         5,
         5,
         "Russia"
        ],
        [
         35,
         "F",
         "North Macedonia",
         "Scotland",
         5,
         3,
         "North Macedonia"
        ],
        [
         36,
         "F",
         "Scotland",
         "Russia",
         6,
         5,
         "Scotland"
        ],
        [
         37,
         "N",
         "Belgium",
         "Austria",
         0,
         3,
         "Austria"
        ],
        [
         38,
         "N",
         "France",
         "England",
         0,
         5,
         "England"
        ],
        [
         39,
         "N",
         "Spain",
         "Portugal",
         2,
         0,
         "Spain"
        ],
        [
         40,
         "N",
         "Denmark",
         "Sweden",
         2,
         4,
         "Sweden"
        ],
        [
         41,
         "N",
         "Finland",
         "Turkey",
         3,
         0,
         "Finland"
        ],
        [
         42,
         "N",
         "Poland",
         "Slovakia",
         1,
         1,
         "Slovakia"
        ],
        [
         43,
         "N",
         "Czech Republic",
         "Germany",
         1,
         2,
         "Germany"
        ],
        [
         44,
         "N",
         "Poland",
         "Scotland",
         2,
         2,
         "Poland"
        ],
        [
         45,
         "N",
         "Austria",
         "England",
         0,
         0,
         "Austria"
        ],
        [
         46,
         "N",
         "Spain",
         "Sweden",
         0,
         4,
         "Sweden"
        ],
        [
         47,
         "N",
         "Finland",
         "Slovakia",
         5,
         3,
         "Finland"
        ],
        [
         48,
         "N",
         "Germany",
         "Poland",
         1,
         3,
         "Poland"
        ],
        [
         49,
         "N",
         "Austria",
         "Sweden",
         2,
         3,
         "Sweden"
        ],
        [
         50,
         "N",
         "Finland",
         "Poland",
         5,
         4,
         "Finland"
        ]
       ],
       "datasetInfos": [],
       "dbfsResultPath": null,
       "isJsonSchema": true,
       "metadata": {},
       "overflow": false,
       "plotOptions": {
        "customPlotOptions": {},
        "displayType": "table",
        "pivotAggregation": null,
        "pivotColumns": null,
        "xColumns": null,
        "yColumns": null
       },
       "removedWidgets": [],
       "schema": [
        {
         "metadata": "{}",
         "name": "MatchId",
         "type": "\"integer\""
        },
        {
         "metadata": "{\"__CHAR_VARCHAR_TYPE_STRING\":\"varchar(20)\"}",
         "name": "TeamGroup",
         "type": "\"string\""
        },
        {
         "metadata": "{\"__CHAR_VARCHAR_TYPE_STRING\":\"varchar(20)\"}",
         "name": "home_country",
         "type": "\"string\""
        },
        {
         "metadata": "{\"__CHAR_VARCHAR_TYPE_STRING\":\"varchar(20)\"}",
         "name": "away_country",
         "type": "\"string\""
        },
        {
         "metadata": "{}",
         "name": "home_country_goal",
         "type": "\"integer\""
        },
        {
         "metadata": "{}",
         "name": "away_country_goal",
         "type": "\"integer\""
        },
        {
         "metadata": "{\"__CHAR_VARCHAR_TYPE_STRING\":\"varchar(20)\"}",
         "name": "winner_country",
         "type": "\"string\""
        }
       ],
       "type": "table"
      }
     },
     "output_type": "display_data"
    }
   ],
   "source": [
    "%sql\n",
    "select * from matches order by MatchId;"
   ]
  },
  {
   "cell_type": "markdown",
   "metadata": {
    "application/vnd.databricks.v1+cell": {
     "cellMetadata": {
      "byteLimit": 2048000,
      "rowLimit": 10000
     },
     "inputWidgets": {},
     "nuid": "cf66d6a3-1ed7-421d-b351-3015383522a2",
     "showTitle": false,
     "title": ""
    }
   },
   "source": [
    "Third Place"
   ]
  },
  {
   "cell_type": "code",
   "execution_count": 0,
   "metadata": {
    "application/vnd.databricks.v1+cell": {
     "cellMetadata": {
      "byteLimit": 2048000,
      "implicitDf": true,
      "rowLimit": 10000
     },
     "inputWidgets": {},
     "nuid": "9fc9056c-e7da-4cf5-9aca-3e5b29a34e68",
     "showTitle": false,
     "title": ""
    }
   },
   "outputs": [
    {
     "output_type": "display_data",
     "data": {
      "text/html": [
       "<style scoped>\n",
       "  .table-result-container {\n",
       "    max-height: 300px;\n",
       "    overflow: auto;\n",
       "  }\n",
       "  table, th, td {\n",
       "    border: 1px solid black;\n",
       "    border-collapse: collapse;\n",
       "  }\n",
       "  th, td {\n",
       "    padding: 5px;\n",
       "  }\n",
       "  th {\n",
       "    text-align: left;\n",
       "  }\n",
       "</style><div class='table-result-container'><table class='table-result'><thead style='background-color: white'><tr><th>num_affected_rows</th><th>num_inserted_rows</th></tr></thead><tbody><tr><td>1</td><td>1</td></tr></tbody></table></div>"
      ]
     },
     "metadata": {
      "application/vnd.databricks.v1+output": {
       "addedWidgets": {},
       "aggData": [],
       "aggError": "",
       "aggOverflow": false,
       "aggSchema": [],
       "aggSeriesLimitReached": false,
       "aggType": "",
       "arguments": {},
       "columnCustomDisplayInfos": {},
       "data": [
        [
         1,
         1
        ]
       ],
       "datasetInfos": [],
       "dbfsResultPath": null,
       "isJsonSchema": true,
       "metadata": {},
       "overflow": false,
       "plotOptions": {
        "customPlotOptions": {},
        "displayType": "table",
        "pivotAggregation": null,
        "pivotColumns": null,
        "xColumns": null,
        "yColumns": null
       },
       "removedWidgets": [],
       "schema": [
        {
         "metadata": "{}",
         "name": "num_affected_rows",
         "type": "\"long\""
        },
        {
         "metadata": "{}",
         "name": "num_inserted_rows",
         "type": "\"long\""
        }
       ],
       "type": "table"
      }
     },
     "output_type": "display_data"
    }
   ],
   "source": [
    "%sql\n",
    "INSERT INTO matches (MatchID, TeamGroup, home_country, away_country, home_country_goal, away_country_goal, winner_country)\n",
    "WITH losing_teams AS (\n",
    "    SELECT\n",
    "        CASE\n",
    "            WHEN winner_country != home_country THEN home_country\n",
    "            ELSE away_country\n",
    "        END AS losing_teams\n",
    "    FROM\n",
    "        matches\n",
    "    WHERE MatchId IN (49,50)\n",
    ")\n",
    "\n",
    "SELECT \n",
    "    Row_Number() OVER(ORDER BY 1) + 50 AS match_id,\n",
    "    'N' as GroupName,\n",
    "    T1.losing_teams AS home_country,\n",
    "    T2.losing_teams AS away_country,\n",
    "    CAST(rand() * 6 AS INTEGER) AS home_country_goal, \n",
    "    CAST(rand() * 6 AS INTEGER) AS away_country_goal,\n",
    "    'None' AS match_results\n",
    "FROM \n",
    "    losing_teams T1\n",
    "JOIN \n",
    "    losing_teams T2 ON T1.losing_teams < T2.losing_teams;"
   ]
  },
  {
   "cell_type": "code",
   "execution_count": 0,
   "metadata": {
    "application/vnd.databricks.v1+cell": {
     "cellMetadata": {
      "byteLimit": 2048000,
      "implicitDf": true,
      "rowLimit": 10000
     },
     "inputWidgets": {},
     "nuid": "b5a14bbd-39d2-4a8a-ada9-1812092fc02b",
     "showTitle": false,
     "title": ""
    }
   },
   "outputs": [
    {
     "output_type": "display_data",
     "data": {
      "text/html": [
       "<style scoped>\n",
       "  .table-result-container {\n",
       "    max-height: 300px;\n",
       "    overflow: auto;\n",
       "  }\n",
       "  table, th, td {\n",
       "    border: 1px solid black;\n",
       "    border-collapse: collapse;\n",
       "  }\n",
       "  th, td {\n",
       "    padding: 5px;\n",
       "  }\n",
       "  th {\n",
       "    text-align: left;\n",
       "  }\n",
       "</style><div class='table-result-container'><table class='table-result'><thead style='background-color: white'><tr><th>num_affected_rows</th></tr></thead><tbody><tr><td>51</td></tr></tbody></table></div>"
      ]
     },
     "metadata": {
      "application/vnd.databricks.v1+output": {
       "addedWidgets": {},
       "aggData": [],
       "aggError": "",
       "aggOverflow": false,
       "aggSchema": [],
       "aggSeriesLimitReached": false,
       "aggType": "",
       "arguments": {},
       "columnCustomDisplayInfos": {},
       "data": [
        [
         51
        ]
       ],
       "datasetInfos": [],
       "dbfsResultPath": null,
       "isJsonSchema": true,
       "metadata": {},
       "overflow": false,
       "plotOptions": {
        "customPlotOptions": {},
        "displayType": "table",
        "pivotAggregation": null,
        "pivotColumns": null,
        "xColumns": null,
        "yColumns": null
       },
       "removedWidgets": [],
       "schema": [
        {
         "metadata": "{}",
         "name": "num_affected_rows",
         "type": "\"long\""
        }
       ],
       "type": "table"
      }
     },
     "output_type": "display_data"
    }
   ],
   "source": [
    "%sql\n",
    "UPDATE matches\n",
    "SET winner_country = \n",
    "    CASE\n",
    "        WHEN home_country_goal > away_country_goal THEN home_country\n",
    "        WHEN home_country_goal < away_country_goal THEN away_country\n",
    "        ELSE \n",
    "        CASE \n",
    "                WHEN (home_country_goal + 1) % 2 = 1 THEN home_country\n",
    "                ELSE away_country\n",
    "            END\n",
    "    END"
   ]
  },
  {
   "cell_type": "code",
   "execution_count": 0,
   "metadata": {
    "application/vnd.databricks.v1+cell": {
     "cellMetadata": {
      "byteLimit": 2048000,
      "implicitDf": true,
      "rowLimit": 10000
     },
     "inputWidgets": {},
     "nuid": "57817804-9979-4456-88c1-a1adb1f81363",
     "showTitle": false,
     "title": ""
    }
   },
   "outputs": [
    {
     "output_type": "display_data",
     "data": {
      "text/html": [
       "<style scoped>\n",
       "  .table-result-container {\n",
       "    max-height: 300px;\n",
       "    overflow: auto;\n",
       "  }\n",
       "  table, th, td {\n",
       "    border: 1px solid black;\n",
       "    border-collapse: collapse;\n",
       "  }\n",
       "  th, td {\n",
       "    padding: 5px;\n",
       "  }\n",
       "  th {\n",
       "    text-align: left;\n",
       "  }\n",
       "</style><div class='table-result-container'><table class='table-result'><thead style='background-color: white'><tr><th>MatchId</th><th>TeamGroup</th><th>home_country</th><th>away_country</th><th>home_country_goal</th><th>away_country_goal</th><th>winner_country</th></tr></thead><tbody><tr><td>1</td><td>A</td><td>France</td><td>Portugal</td><td>3</td><td>4</td><td>Portugal</td></tr><tr><td>2</td><td>A</td><td>France</td><td>Belgium</td><td>3</td><td>3</td><td>Belgium</td></tr><tr><td>3</td><td>A</td><td>France</td><td>Italy</td><td>5</td><td>1</td><td>France</td></tr><tr><td>4</td><td>A</td><td>Italy</td><td>Portugal</td><td>4</td><td>3</td><td>Italy</td></tr><tr><td>5</td><td>A</td><td>Italy</td><td>Belgium</td><td>4</td><td>6</td><td>Belgium</td></tr><tr><td>6</td><td>A</td><td>Belgium</td><td>Portugal</td><td>4</td><td>3</td><td>Belgium</td></tr><tr><td>7</td><td>B</td><td>Spain</td><td>England</td><td>6</td><td>2</td><td>Spain</td></tr><tr><td>8</td><td>B</td><td>Spain</td><td>Germany</td><td>4</td><td>3</td><td>Spain</td></tr><tr><td>9</td><td>B</td><td>Spain</td><td>Netherlands</td><td>4</td><td>5</td><td>Netherlands</td></tr><tr><td>10</td><td>B</td><td>Netherlands</td><td>England</td><td>1</td><td>3</td><td>England</td></tr><tr><td>11</td><td>B</td><td>Netherlands</td><td>Germany</td><td>2</td><td>5</td><td>Germany</td></tr><tr><td>12</td><td>B</td><td>Germany</td><td>England</td><td>4</td><td>5</td><td>England</td></tr><tr><td>13</td><td>C</td><td>Turkey</td><td>Denmark</td><td>1</td><td>2</td><td>Denmark</td></tr><tr><td>14</td><td>C</td><td>Turkey</td><td>Switzerland</td><td>6</td><td>4</td><td>Turkey</td></tr><tr><td>15</td><td>C</td><td>Turkey</td><td>Austria</td><td>5</td><td>6</td><td>Austria</td></tr><tr><td>16</td><td>C</td><td>Austria</td><td>Denmark</td><td>3</td><td>5</td><td>Denmark</td></tr><tr><td>17</td><td>C</td><td>Austria</td><td>Switzerland</td><td>6</td><td>6</td><td>Austria</td></tr><tr><td>18</td><td>C</td><td>Switzerland</td><td>Denmark</td><td>1</td><td>6</td><td>Denmark</td></tr><tr><td>19</td><td>D</td><td>Croatia</td><td>Poland</td><td>1</td><td>5</td><td>Poland</td></tr><tr><td>20</td><td>D</td><td>Croatia</td><td>Sweden</td><td>1</td><td>5</td><td>Sweden</td></tr><tr><td>21</td><td>D</td><td>Croatia</td><td>Ukraine</td><td>2</td><td>5</td><td>Ukraine</td></tr><tr><td>22</td><td>D</td><td>Ukraine</td><td>Poland</td><td>4</td><td>4</td><td>Ukraine</td></tr><tr><td>23</td><td>D</td><td>Ukraine</td><td>Sweden</td><td>4</td><td>2</td><td>Ukraine</td></tr><tr><td>24</td><td>D</td><td>Sweden</td><td>Poland</td><td>2</td><td>2</td><td>Sweden</td></tr><tr><td>25</td><td>E</td><td>Wales</td><td>Hungary</td><td>5</td><td>3</td><td>Wales</td></tr><tr><td>26</td><td>E</td><td>Wales</td><td>Slovakia</td><td>1</td><td>3</td><td>Slovakia</td></tr><tr><td>27</td><td>E</td><td>Wales</td><td>Czech Republic</td><td>1</td><td>5</td><td>Czech Republic</td></tr><tr><td>28</td><td>E</td><td>Czech Republic</td><td>Hungary</td><td>4</td><td>2</td><td>Czech Republic</td></tr><tr><td>29</td><td>E</td><td>Czech Republic</td><td>Slovakia</td><td>1</td><td>3</td><td>Slovakia</td></tr><tr><td>30</td><td>E</td><td>Slovakia</td><td>Hungary</td><td>2</td><td>6</td><td>Hungary</td></tr><tr><td>31</td><td>F</td><td>Finland</td><td>Russia</td><td>2</td><td>1</td><td>Finland</td></tr><tr><td>32</td><td>F</td><td>Finland</td><td>Scotland</td><td>5</td><td>5</td><td>Scotland</td></tr><tr><td>33</td><td>F</td><td>Finland</td><td>North Macedonia</td><td>4</td><td>1</td><td>Finland</td></tr><tr><td>34</td><td>F</td><td>North Macedonia</td><td>Russia</td><td>5</td><td>5</td><td>Russia</td></tr><tr><td>35</td><td>F</td><td>North Macedonia</td><td>Scotland</td><td>5</td><td>3</td><td>North Macedonia</td></tr><tr><td>36</td><td>F</td><td>Scotland</td><td>Russia</td><td>6</td><td>5</td><td>Scotland</td></tr><tr><td>37</td><td>N</td><td>Belgium</td><td>Austria</td><td>0</td><td>3</td><td>Austria</td></tr><tr><td>38</td><td>N</td><td>France</td><td>England</td><td>0</td><td>5</td><td>England</td></tr><tr><td>39</td><td>N</td><td>Spain</td><td>Portugal</td><td>2</td><td>0</td><td>Spain</td></tr><tr><td>40</td><td>N</td><td>Denmark</td><td>Sweden</td><td>2</td><td>4</td><td>Sweden</td></tr><tr><td>41</td><td>N</td><td>Finland</td><td>Turkey</td><td>3</td><td>0</td><td>Finland</td></tr><tr><td>42</td><td>N</td><td>Poland</td><td>Slovakia</td><td>1</td><td>1</td><td>Slovakia</td></tr><tr><td>43</td><td>N</td><td>Czech Republic</td><td>Germany</td><td>1</td><td>2</td><td>Germany</td></tr><tr><td>44</td><td>N</td><td>Poland</td><td>Scotland</td><td>2</td><td>2</td><td>Poland</td></tr><tr><td>45</td><td>N</td><td>Austria</td><td>England</td><td>0</td><td>0</td><td>Austria</td></tr><tr><td>46</td><td>N</td><td>Spain</td><td>Sweden</td><td>0</td><td>4</td><td>Sweden</td></tr><tr><td>47</td><td>N</td><td>Finland</td><td>Slovakia</td><td>5</td><td>3</td><td>Finland</td></tr><tr><td>48</td><td>N</td><td>Germany</td><td>Poland</td><td>1</td><td>3</td><td>Poland</td></tr><tr><td>49</td><td>N</td><td>Austria</td><td>Sweden</td><td>2</td><td>3</td><td>Sweden</td></tr><tr><td>50</td><td>N</td><td>Finland</td><td>Poland</td><td>5</td><td>4</td><td>Finland</td></tr><tr><td>51</td><td>N</td><td>Austria</td><td>Poland</td><td>2</td><td>5</td><td>Poland</td></tr></tbody></table></div>"
      ]
     },
     "metadata": {
      "application/vnd.databricks.v1+output": {
       "addedWidgets": {},
       "aggData": [],
       "aggError": "",
       "aggOverflow": false,
       "aggSchema": [],
       "aggSeriesLimitReached": false,
       "aggType": "",
       "arguments": {},
       "columnCustomDisplayInfos": {},
       "data": [
        [
         1,
         "A",
         "France",
         "Portugal",
         3,
         4,
         "Portugal"
        ],
        [
         2,
         "A",
         "France",
         "Belgium",
         3,
         3,
         "Belgium"
        ],
        [
         3,
         "A",
         "France",
         "Italy",
         5,
         1,
         "France"
        ],
        [
         4,
         "A",
         "Italy",
         "Portugal",
         4,
         3,
         "Italy"
        ],
        [
         5,
         "A",
         "Italy",
         "Belgium",
         4,
         6,
         "Belgium"
        ],
        [
         6,
         "A",
         "Belgium",
         "Portugal",
         4,
         3,
         "Belgium"
        ],
        [
         7,
         "B",
         "Spain",
         "England",
         6,
         2,
         "Spain"
        ],
        [
         8,
         "B",
         "Spain",
         "Germany",
         4,
         3,
         "Spain"
        ],
        [
         9,
         "B",
         "Spain",
         "Netherlands",
         4,
         5,
         "Netherlands"
        ],
        [
         10,
         "B",
         "Netherlands",
         "England",
         1,
         3,
         "England"
        ],
        [
         11,
         "B",
         "Netherlands",
         "Germany",
         2,
         5,
         "Germany"
        ],
        [
         12,
         "B",
         "Germany",
         "England",
         4,
         5,
         "England"
        ],
        [
         13,
         "C",
         "Turkey",
         "Denmark",
         1,
         2,
         "Denmark"
        ],
        [
         14,
         "C",
         "Turkey",
         "Switzerland",
         6,
         4,
         "Turkey"
        ],
        [
         15,
         "C",
         "Turkey",
         "Austria",
         5,
         6,
         "Austria"
        ],
        [
         16,
         "C",
         "Austria",
         "Denmark",
         3,
         5,
         "Denmark"
        ],
        [
         17,
         "C",
         "Austria",
         "Switzerland",
         6,
         6,
         "Austria"
        ],
        [
         18,
         "C",
         "Switzerland",
         "Denmark",
         1,
         6,
         "Denmark"
        ],
        [
         19,
         "D",
         "Croatia",
         "Poland",
         1,
         5,
         "Poland"
        ],
        [
         20,
         "D",
         "Croatia",
         "Sweden",
         1,
         5,
         "Sweden"
        ],
        [
         21,
         "D",
         "Croatia",
         "Ukraine",
         2,
         5,
         "Ukraine"
        ],
        [
         22,
         "D",
         "Ukraine",
         "Poland",
         4,
         4,
         "Ukraine"
        ],
        [
         23,
         "D",
         "Ukraine",
         "Sweden",
         4,
         2,
         "Ukraine"
        ],
        [
         24,
         "D",
         "Sweden",
         "Poland",
         2,
         2,
         "Sweden"
        ],
        [
         25,
         "E",
         "Wales",
         "Hungary",
         5,
         3,
         "Wales"
        ],
        [
         26,
         "E",
         "Wales",
         "Slovakia",
         1,
         3,
         "Slovakia"
        ],
        [
         27,
         "E",
         "Wales",
         "Czech Republic",
         1,
         5,
         "Czech Republic"
        ],
        [
         28,
         "E",
         "Czech Republic",
         "Hungary",
         4,
         2,
         "Czech Republic"
        ],
        [
         29,
         "E",
         "Czech Republic",
         "Slovakia",
         1,
         3,
         "Slovakia"
        ],
        [
         30,
         "E",
         "Slovakia",
         "Hungary",
         2,
         6,
         "Hungary"
        ],
        [
         31,
         "F",
         "Finland",
         "Russia",
         2,
         1,
         "Finland"
        ],
        [
         32,
         "F",
         "Finland",
         "Scotland",
         5,
         5,
         "Scotland"
        ],
        [
         33,
         "F",
         "Finland",
         "North Macedonia",
         4,
         1,
         "Finland"
        ],
        [
         34,
         "F",
         "North Macedonia",
         "Russia",
         5,
         5,
         "Russia"
        ],
        [
         35,
         "F",
         "North Macedonia",
         "Scotland",
         5,
         3,
         "North Macedonia"
        ],
        [
         36,
         "F",
         "Scotland",
         "Russia",
         6,
         5,
         "Scotland"
        ],
        [
         37,
         "N",
         "Belgium",
         "Austria",
         0,
         3,
         "Austria"
        ],
        [
         38,
         "N",
         "France",
         "England",
         0,
         5,
         "England"
        ],
        [
         39,
         "N",
         "Spain",
         "Portugal",
         2,
         0,
         "Spain"
        ],
        [
         40,
         "N",
         "Denmark",
         "Sweden",
         2,
         4,
         "Sweden"
        ],
        [
         41,
         "N",
         "Finland",
         "Turkey",
         3,
         0,
         "Finland"
        ],
        [
         42,
         "N",
         "Poland",
         "Slovakia",
         1,
         1,
         "Slovakia"
        ],
        [
         43,
         "N",
         "Czech Republic",
         "Germany",
         1,
         2,
         "Germany"
        ],
        [
         44,
         "N",
         "Poland",
         "Scotland",
         2,
         2,
         "Poland"
        ],
        [
         45,
         "N",
         "Austria",
         "England",
         0,
         0,
         "Austria"
        ],
        [
         46,
         "N",
         "Spain",
         "Sweden",
         0,
         4,
         "Sweden"
        ],
        [
         47,
         "N",
         "Finland",
         "Slovakia",
         5,
         3,
         "Finland"
        ],
        [
         48,
         "N",
         "Germany",
         "Poland",
         1,
         3,
         "Poland"
        ],
        [
         49,
         "N",
         "Austria",
         "Sweden",
         2,
         3,
         "Sweden"
        ],
        [
         50,
         "N",
         "Finland",
         "Poland",
         5,
         4,
         "Finland"
        ],
        [
         51,
         "N",
         "Austria",
         "Poland",
         2,
         5,
         "Poland"
        ]
       ],
       "datasetInfos": [],
       "dbfsResultPath": null,
       "isJsonSchema": true,
       "metadata": {},
       "overflow": false,
       "plotOptions": {
        "customPlotOptions": {},
        "displayType": "table",
        "pivotAggregation": null,
        "pivotColumns": null,
        "xColumns": null,
        "yColumns": null
       },
       "removedWidgets": [],
       "schema": [
        {
         "metadata": "{}",
         "name": "MatchId",
         "type": "\"integer\""
        },
        {
         "metadata": "{\"__CHAR_VARCHAR_TYPE_STRING\":\"varchar(20)\"}",
         "name": "TeamGroup",
         "type": "\"string\""
        },
        {
         "metadata": "{\"__CHAR_VARCHAR_TYPE_STRING\":\"varchar(20)\"}",
         "name": "home_country",
         "type": "\"string\""
        },
        {
         "metadata": "{\"__CHAR_VARCHAR_TYPE_STRING\":\"varchar(20)\"}",
         "name": "away_country",
         "type": "\"string\""
        },
        {
         "metadata": "{}",
         "name": "home_country_goal",
         "type": "\"integer\""
        },
        {
         "metadata": "{}",
         "name": "away_country_goal",
         "type": "\"integer\""
        },
        {
         "metadata": "{\"__CHAR_VARCHAR_TYPE_STRING\":\"varchar(20)\"}",
         "name": "winner_country",
         "type": "\"string\""
        }
       ],
       "type": "table"
      }
     },
     "output_type": "display_data"
    }
   ],
   "source": [
    "%sql\n",
    "select * from matches order by MatchId;"
   ]
  },
  {
   "cell_type": "markdown",
   "metadata": {
    "application/vnd.databricks.v1+cell": {
     "cellMetadata": {
      "byteLimit": 2048000,
      "rowLimit": 10000
     },
     "inputWidgets": {},
     "nuid": "d9853450-73a7-4458-8191-fb471546a981",
     "showTitle": false,
     "title": ""
    }
   },
   "source": [
    "Final"
   ]
  },
  {
   "cell_type": "code",
   "execution_count": 0,
   "metadata": {
    "application/vnd.databricks.v1+cell": {
     "cellMetadata": {
      "byteLimit": 2048000,
      "implicitDf": true,
      "rowLimit": 10000
     },
     "inputWidgets": {},
     "nuid": "a8635745-61cd-431f-8c2b-e69e7996ecd7",
     "showTitle": false,
     "title": ""
    }
   },
   "outputs": [
    {
     "output_type": "display_data",
     "data": {
      "text/html": [
       "<style scoped>\n",
       "  .table-result-container {\n",
       "    max-height: 300px;\n",
       "    overflow: auto;\n",
       "  }\n",
       "  table, th, td {\n",
       "    border: 1px solid black;\n",
       "    border-collapse: collapse;\n",
       "  }\n",
       "  th, td {\n",
       "    padding: 5px;\n",
       "  }\n",
       "  th {\n",
       "    text-align: left;\n",
       "  }\n",
       "</style><div class='table-result-container'><table class='table-result'><thead style='background-color: white'><tr><th>num_affected_rows</th><th>num_inserted_rows</th></tr></thead><tbody><tr><td>1</td><td>1</td></tr></tbody></table></div>"
      ]
     },
     "metadata": {
      "application/vnd.databricks.v1+output": {
       "addedWidgets": {},
       "aggData": [],
       "aggError": "",
       "aggOverflow": false,
       "aggSchema": [],
       "aggSeriesLimitReached": false,
       "aggType": "",
       "arguments": {},
       "columnCustomDisplayInfos": {},
       "data": [
        [
         1,
         1
        ]
       ],
       "datasetInfos": [],
       "dbfsResultPath": null,
       "isJsonSchema": true,
       "metadata": {},
       "overflow": false,
       "plotOptions": {
        "customPlotOptions": {},
        "displayType": "table",
        "pivotAggregation": null,
        "pivotColumns": null,
        "xColumns": null,
        "yColumns": null
       },
       "removedWidgets": [],
       "schema": [
        {
         "metadata": "{}",
         "name": "num_affected_rows",
         "type": "\"long\""
        },
        {
         "metadata": "{}",
         "name": "num_inserted_rows",
         "type": "\"long\""
        }
       ],
       "type": "table"
      }
     },
     "output_type": "display_data"
    }
   ],
   "source": [
    "%sql\n",
    "INSERT INTO matches (MatchID, TeamGroup, home_country, away_country, home_country_goal, away_country_goal, winner_country)\n",
    "\n",
    "SELECT\n",
    "row_number() OVER (ORDER BY 1) + 51 AS MatchId,\n",
    "'N' AS Team_group,\n",
    "r1.winner_country AS home_country,\n",
    "r2.winner_country AS away_country,\n",
    "CAST(rand() * 6 AS INTEGER) AS home_country_goal,\n",
    "CAST(rand() * 6 AS INTEGER) AS away_country_goal,\n",
    "'None' AS match_result\n",
    "\n",
    "FROM \n",
    "    matches r1\n",
    "JOIN \n",
    "    matches r2 ON \n",
    "        r1.MatchId = 49 AND r2.MatchId = 50\n"
   ]
  },
  {
   "cell_type": "code",
   "execution_count": 0,
   "metadata": {
    "application/vnd.databricks.v1+cell": {
     "cellMetadata": {
      "byteLimit": 2048000,
      "implicitDf": true,
      "rowLimit": 10000
     },
     "inputWidgets": {},
     "nuid": "4acfa0d7-a1b2-4881-9eaa-36025aea0f03",
     "showTitle": false,
     "title": ""
    }
   },
   "outputs": [
    {
     "output_type": "display_data",
     "data": {
      "text/html": [
       "<style scoped>\n",
       "  .table-result-container {\n",
       "    max-height: 300px;\n",
       "    overflow: auto;\n",
       "  }\n",
       "  table, th, td {\n",
       "    border: 1px solid black;\n",
       "    border-collapse: collapse;\n",
       "  }\n",
       "  th, td {\n",
       "    padding: 5px;\n",
       "  }\n",
       "  th {\n",
       "    text-align: left;\n",
       "  }\n",
       "</style><div class='table-result-container'><table class='table-result'><thead style='background-color: white'><tr><th>num_affected_rows</th></tr></thead><tbody><tr><td>52</td></tr></tbody></table></div>"
      ]
     },
     "metadata": {
      "application/vnd.databricks.v1+output": {
       "addedWidgets": {},
       "aggData": [],
       "aggError": "",
       "aggOverflow": false,
       "aggSchema": [],
       "aggSeriesLimitReached": false,
       "aggType": "",
       "arguments": {},
       "columnCustomDisplayInfos": {},
       "data": [
        [
         52
        ]
       ],
       "datasetInfos": [],
       "dbfsResultPath": null,
       "isJsonSchema": true,
       "metadata": {},
       "overflow": false,
       "plotOptions": {
        "customPlotOptions": {},
        "displayType": "table",
        "pivotAggregation": null,
        "pivotColumns": null,
        "xColumns": null,
        "yColumns": null
       },
       "removedWidgets": [],
       "schema": [
        {
         "metadata": "{}",
         "name": "num_affected_rows",
         "type": "\"long\""
        }
       ],
       "type": "table"
      }
     },
     "output_type": "display_data"
    }
   ],
   "source": [
    "%sql\n",
    "UPDATE matches\n",
    "SET winner_country = \n",
    "    CASE\n",
    "        WHEN home_country_goal > away_country_goal THEN home_country\n",
    "        WHEN home_country_goal < away_country_goal THEN away_country\n",
    "        ELSE \n",
    "        CASE \n",
    "                WHEN (home_country_goal + 1) % 2 = 1 THEN home_country\n",
    "                ELSE away_country\n",
    "            END\n",
    "    END"
   ]
  },
  {
   "cell_type": "code",
   "execution_count": 0,
   "metadata": {
    "application/vnd.databricks.v1+cell": {
     "cellMetadata": {
      "byteLimit": 2048000,
      "implicitDf": true,
      "rowLimit": 10000
     },
     "inputWidgets": {},
     "nuid": "acf5c00b-998e-4f10-b053-53f89cf8fbdf",
     "showTitle": false,
     "title": ""
    }
   },
   "outputs": [
    {
     "output_type": "display_data",
     "data": {
      "text/html": [
       "<style scoped>\n",
       "  .table-result-container {\n",
       "    max-height: 300px;\n",
       "    overflow: auto;\n",
       "  }\n",
       "  table, th, td {\n",
       "    border: 1px solid black;\n",
       "    border-collapse: collapse;\n",
       "  }\n",
       "  th, td {\n",
       "    padding: 5px;\n",
       "  }\n",
       "  th {\n",
       "    text-align: left;\n",
       "  }\n",
       "</style><div class='table-result-container'><table class='table-result'><thead style='background-color: white'><tr><th>MatchId</th><th>TeamGroup</th><th>home_country</th><th>away_country</th><th>home_country_goal</th><th>away_country_goal</th><th>winner_country</th></tr></thead><tbody><tr><td>1</td><td>A</td><td>France</td><td>Portugal</td><td>3</td><td>4</td><td>Portugal</td></tr><tr><td>2</td><td>A</td><td>France</td><td>Belgium</td><td>3</td><td>3</td><td>Belgium</td></tr><tr><td>3</td><td>A</td><td>France</td><td>Italy</td><td>5</td><td>1</td><td>France</td></tr><tr><td>4</td><td>A</td><td>Italy</td><td>Portugal</td><td>4</td><td>3</td><td>Italy</td></tr><tr><td>5</td><td>A</td><td>Italy</td><td>Belgium</td><td>4</td><td>6</td><td>Belgium</td></tr><tr><td>6</td><td>A</td><td>Belgium</td><td>Portugal</td><td>4</td><td>3</td><td>Belgium</td></tr><tr><td>7</td><td>B</td><td>Spain</td><td>England</td><td>6</td><td>2</td><td>Spain</td></tr><tr><td>8</td><td>B</td><td>Spain</td><td>Germany</td><td>4</td><td>3</td><td>Spain</td></tr><tr><td>9</td><td>B</td><td>Spain</td><td>Netherlands</td><td>4</td><td>5</td><td>Netherlands</td></tr><tr><td>10</td><td>B</td><td>Netherlands</td><td>England</td><td>1</td><td>3</td><td>England</td></tr><tr><td>11</td><td>B</td><td>Netherlands</td><td>Germany</td><td>2</td><td>5</td><td>Germany</td></tr><tr><td>12</td><td>B</td><td>Germany</td><td>England</td><td>4</td><td>5</td><td>England</td></tr><tr><td>13</td><td>C</td><td>Turkey</td><td>Denmark</td><td>1</td><td>2</td><td>Denmark</td></tr><tr><td>14</td><td>C</td><td>Turkey</td><td>Switzerland</td><td>6</td><td>4</td><td>Turkey</td></tr><tr><td>15</td><td>C</td><td>Turkey</td><td>Austria</td><td>5</td><td>6</td><td>Austria</td></tr><tr><td>16</td><td>C</td><td>Austria</td><td>Denmark</td><td>3</td><td>5</td><td>Denmark</td></tr><tr><td>17</td><td>C</td><td>Austria</td><td>Switzerland</td><td>6</td><td>6</td><td>Austria</td></tr><tr><td>18</td><td>C</td><td>Switzerland</td><td>Denmark</td><td>1</td><td>6</td><td>Denmark</td></tr><tr><td>19</td><td>D</td><td>Croatia</td><td>Poland</td><td>1</td><td>5</td><td>Poland</td></tr><tr><td>20</td><td>D</td><td>Croatia</td><td>Sweden</td><td>1</td><td>5</td><td>Sweden</td></tr><tr><td>21</td><td>D</td><td>Croatia</td><td>Ukraine</td><td>2</td><td>5</td><td>Ukraine</td></tr><tr><td>22</td><td>D</td><td>Ukraine</td><td>Poland</td><td>4</td><td>4</td><td>Ukraine</td></tr><tr><td>23</td><td>D</td><td>Ukraine</td><td>Sweden</td><td>4</td><td>2</td><td>Ukraine</td></tr><tr><td>24</td><td>D</td><td>Sweden</td><td>Poland</td><td>2</td><td>2</td><td>Sweden</td></tr><tr><td>25</td><td>E</td><td>Wales</td><td>Hungary</td><td>5</td><td>3</td><td>Wales</td></tr><tr><td>26</td><td>E</td><td>Wales</td><td>Slovakia</td><td>1</td><td>3</td><td>Slovakia</td></tr><tr><td>27</td><td>E</td><td>Wales</td><td>Czech Republic</td><td>1</td><td>5</td><td>Czech Republic</td></tr><tr><td>28</td><td>E</td><td>Czech Republic</td><td>Hungary</td><td>4</td><td>2</td><td>Czech Republic</td></tr><tr><td>29</td><td>E</td><td>Czech Republic</td><td>Slovakia</td><td>1</td><td>3</td><td>Slovakia</td></tr><tr><td>30</td><td>E</td><td>Slovakia</td><td>Hungary</td><td>2</td><td>6</td><td>Hungary</td></tr><tr><td>31</td><td>F</td><td>Finland</td><td>Russia</td><td>2</td><td>1</td><td>Finland</td></tr><tr><td>32</td><td>F</td><td>Finland</td><td>Scotland</td><td>5</td><td>5</td><td>Scotland</td></tr><tr><td>33</td><td>F</td><td>Finland</td><td>North Macedonia</td><td>4</td><td>1</td><td>Finland</td></tr><tr><td>34</td><td>F</td><td>North Macedonia</td><td>Russia</td><td>5</td><td>5</td><td>Russia</td></tr><tr><td>35</td><td>F</td><td>North Macedonia</td><td>Scotland</td><td>5</td><td>3</td><td>North Macedonia</td></tr><tr><td>36</td><td>F</td><td>Scotland</td><td>Russia</td><td>6</td><td>5</td><td>Scotland</td></tr><tr><td>37</td><td>N</td><td>Belgium</td><td>Austria</td><td>0</td><td>3</td><td>Austria</td></tr><tr><td>38</td><td>N</td><td>France</td><td>England</td><td>0</td><td>5</td><td>England</td></tr><tr><td>39</td><td>N</td><td>Spain</td><td>Portugal</td><td>2</td><td>0</td><td>Spain</td></tr><tr><td>40</td><td>N</td><td>Denmark</td><td>Sweden</td><td>2</td><td>4</td><td>Sweden</td></tr><tr><td>41</td><td>N</td><td>Finland</td><td>Turkey</td><td>3</td><td>0</td><td>Finland</td></tr><tr><td>42</td><td>N</td><td>Poland</td><td>Slovakia</td><td>1</td><td>1</td><td>Slovakia</td></tr><tr><td>43</td><td>N</td><td>Czech Republic</td><td>Germany</td><td>1</td><td>2</td><td>Germany</td></tr><tr><td>44</td><td>N</td><td>Poland</td><td>Scotland</td><td>2</td><td>2</td><td>Poland</td></tr><tr><td>45</td><td>N</td><td>Austria</td><td>England</td><td>0</td><td>0</td><td>Austria</td></tr><tr><td>46</td><td>N</td><td>Spain</td><td>Sweden</td><td>0</td><td>4</td><td>Sweden</td></tr><tr><td>47</td><td>N</td><td>Finland</td><td>Slovakia</td><td>5</td><td>3</td><td>Finland</td></tr><tr><td>48</td><td>N</td><td>Germany</td><td>Poland</td><td>1</td><td>3</td><td>Poland</td></tr><tr><td>49</td><td>N</td><td>Austria</td><td>Sweden</td><td>2</td><td>3</td><td>Sweden</td></tr><tr><td>50</td><td>N</td><td>Finland</td><td>Poland</td><td>5</td><td>4</td><td>Finland</td></tr><tr><td>51</td><td>N</td><td>Austria</td><td>Poland</td><td>2</td><td>5</td><td>Poland</td></tr><tr><td>52</td><td>N</td><td>Sweden</td><td>Finland</td><td>0</td><td>5</td><td>Finland</td></tr></tbody></table></div>"
      ]
     },
     "metadata": {
      "application/vnd.databricks.v1+output": {
       "addedWidgets": {},
       "aggData": [],
       "aggError": "",
       "aggOverflow": false,
       "aggSchema": [],
       "aggSeriesLimitReached": false,
       "aggType": "",
       "arguments": {},
       "columnCustomDisplayInfos": {},
       "data": [
        [
         1,
         "A",
         "France",
         "Portugal",
         3,
         4,
         "Portugal"
        ],
        [
         2,
         "A",
         "France",
         "Belgium",
         3,
         3,
         "Belgium"
        ],
        [
         3,
         "A",
         "France",
         "Italy",
         5,
         1,
         "France"
        ],
        [
         4,
         "A",
         "Italy",
         "Portugal",
         4,
         3,
         "Italy"
        ],
        [
         5,
         "A",
         "Italy",
         "Belgium",
         4,
         6,
         "Belgium"
        ],
        [
         6,
         "A",
         "Belgium",
         "Portugal",
         4,
         3,
         "Belgium"
        ],
        [
         7,
         "B",
         "Spain",
         "England",
         6,
         2,
         "Spain"
        ],
        [
         8,
         "B",
         "Spain",
         "Germany",
         4,
         3,
         "Spain"
        ],
        [
         9,
         "B",
         "Spain",
         "Netherlands",
         4,
         5,
         "Netherlands"
        ],
        [
         10,
         "B",
         "Netherlands",
         "England",
         1,
         3,
         "England"
        ],
        [
         11,
         "B",
         "Netherlands",
         "Germany",
         2,
         5,
         "Germany"
        ],
        [
         12,
         "B",
         "Germany",
         "England",
         4,
         5,
         "England"
        ],
        [
         13,
         "C",
         "Turkey",
         "Denmark",
         1,
         2,
         "Denmark"
        ],
        [
         14,
         "C",
         "Turkey",
         "Switzerland",
         6,
         4,
         "Turkey"
        ],
        [
         15,
         "C",
         "Turkey",
         "Austria",
         5,
         6,
         "Austria"
        ],
        [
         16,
         "C",
         "Austria",
         "Denmark",
         3,
         5,
         "Denmark"
        ],
        [
         17,
         "C",
         "Austria",
         "Switzerland",
         6,
         6,
         "Austria"
        ],
        [
         18,
         "C",
         "Switzerland",
         "Denmark",
         1,
         6,
         "Denmark"
        ],
        [
         19,
         "D",
         "Croatia",
         "Poland",
         1,
         5,
         "Poland"
        ],
        [
         20,
         "D",
         "Croatia",
         "Sweden",
         1,
         5,
         "Sweden"
        ],
        [
         21,
         "D",
         "Croatia",
         "Ukraine",
         2,
         5,
         "Ukraine"
        ],
        [
         22,
         "D",
         "Ukraine",
         "Poland",
         4,
         4,
         "Ukraine"
        ],
        [
         23,
         "D",
         "Ukraine",
         "Sweden",
         4,
         2,
         "Ukraine"
        ],
        [
         24,
         "D",
         "Sweden",
         "Poland",
         2,
         2,
         "Sweden"
        ],
        [
         25,
         "E",
         "Wales",
         "Hungary",
         5,
         3,
         "Wales"
        ],
        [
         26,
         "E",
         "Wales",
         "Slovakia",
         1,
         3,
         "Slovakia"
        ],
        [
         27,
         "E",
         "Wales",
         "Czech Republic",
         1,
         5,
         "Czech Republic"
        ],
        [
         28,
         "E",
         "Czech Republic",
         "Hungary",
         4,
         2,
         "Czech Republic"
        ],
        [
         29,
         "E",
         "Czech Republic",
         "Slovakia",
         1,
         3,
         "Slovakia"
        ],
        [
         30,
         "E",
         "Slovakia",
         "Hungary",
         2,
         6,
         "Hungary"
        ],
        [
         31,
         "F",
         "Finland",
         "Russia",
         2,
         1,
         "Finland"
        ],
        [
         32,
         "F",
         "Finland",
         "Scotland",
         5,
         5,
         "Scotland"
        ],
        [
         33,
         "F",
         "Finland",
         "North Macedonia",
         4,
         1,
         "Finland"
        ],
        [
         34,
         "F",
         "North Macedonia",
         "Russia",
         5,
         5,
         "Russia"
        ],
        [
         35,
         "F",
         "North Macedonia",
         "Scotland",
         5,
         3,
         "North Macedonia"
        ],
        [
         36,
         "F",
         "Scotland",
         "Russia",
         6,
         5,
         "Scotland"
        ],
        [
         37,
         "N",
         "Belgium",
         "Austria",
         0,
         3,
         "Austria"
        ],
        [
         38,
         "N",
         "France",
         "England",
         0,
         5,
         "England"
        ],
        [
         39,
         "N",
         "Spain",
         "Portugal",
         2,
         0,
         "Spain"
        ],
        [
         40,
         "N",
         "Denmark",
         "Sweden",
         2,
         4,
         "Sweden"
        ],
        [
         41,
         "N",
         "Finland",
         "Turkey",
         3,
         0,
         "Finland"
        ],
        [
         42,
         "N",
         "Poland",
         "Slovakia",
         1,
         1,
         "Slovakia"
        ],
        [
         43,
         "N",
         "Czech Republic",
         "Germany",
         1,
         2,
         "Germany"
        ],
        [
         44,
         "N",
         "Poland",
         "Scotland",
         2,
         2,
         "Poland"
        ],
        [
         45,
         "N",
         "Austria",
         "England",
         0,
         0,
         "Austria"
        ],
        [
         46,
         "N",
         "Spain",
         "Sweden",
         0,
         4,
         "Sweden"
        ],
        [
         47,
         "N",
         "Finland",
         "Slovakia",
         5,
         3,
         "Finland"
        ],
        [
         48,
         "N",
         "Germany",
         "Poland",
         1,
         3,
         "Poland"
        ],
        [
         49,
         "N",
         "Austria",
         "Sweden",
         2,
         3,
         "Sweden"
        ],
        [
         50,
         "N",
         "Finland",
         "Poland",
         5,
         4,
         "Finland"
        ],
        [
         51,
         "N",
         "Austria",
         "Poland",
         2,
         5,
         "Poland"
        ],
        [
         52,
         "N",
         "Sweden",
         "Finland",
         0,
         5,
         "Finland"
        ]
       ],
       "datasetInfos": [],
       "dbfsResultPath": null,
       "isJsonSchema": true,
       "metadata": {},
       "overflow": false,
       "plotOptions": {
        "customPlotOptions": {},
        "displayType": "table",
        "pivotAggregation": null,
        "pivotColumns": null,
        "xColumns": null,
        "yColumns": null
       },
       "removedWidgets": [],
       "schema": [
        {
         "metadata": "{}",
         "name": "MatchId",
         "type": "\"integer\""
        },
        {
         "metadata": "{\"__CHAR_VARCHAR_TYPE_STRING\":\"varchar(20)\"}",
         "name": "TeamGroup",
         "type": "\"string\""
        },
        {
         "metadata": "{\"__CHAR_VARCHAR_TYPE_STRING\":\"varchar(20)\"}",
         "name": "home_country",
         "type": "\"string\""
        },
        {
         "metadata": "{\"__CHAR_VARCHAR_TYPE_STRING\":\"varchar(20)\"}",
         "name": "away_country",
         "type": "\"string\""
        },
        {
         "metadata": "{}",
         "name": "home_country_goal",
         "type": "\"integer\""
        },
        {
         "metadata": "{}",
         "name": "away_country_goal",
         "type": "\"integer\""
        },
        {
         "metadata": "{\"__CHAR_VARCHAR_TYPE_STRING\":\"varchar(20)\"}",
         "name": "winner_country",
         "type": "\"string\""
        }
       ],
       "type": "table"
      }
     },
     "output_type": "display_data"
    }
   ],
   "source": [
    "%sql\n",
    "select * from matches order by MatchId;"
   ]
  },
  {
   "cell_type": "code",
   "execution_count": 0,
   "metadata": {
    "application/vnd.databricks.v1+cell": {
     "cellMetadata": {
      "byteLimit": 2048000,
      "implicitDf": true,
      "rowLimit": 10000
     },
     "inputWidgets": {},
     "nuid": "5699f8c4-9559-4954-9527-6fe047b7b6dc",
     "showTitle": false,
     "title": ""
    }
   },
   "outputs": [
    {
     "output_type": "display_data",
     "data": {
      "text/html": [
       "<style scoped>\n",
       "  .table-result-container {\n",
       "    max-height: 300px;\n",
       "    overflow: auto;\n",
       "  }\n",
       "  table, th, td {\n",
       "    border: 1px solid black;\n",
       "    border-collapse: collapse;\n",
       "  }\n",
       "  th, td {\n",
       "    padding: 5px;\n",
       "  }\n",
       "  th {\n",
       "    text-align: left;\n",
       "  }\n",
       "</style><div class='table-result-container'><table class='table-result'><thead style='background-color: white'><tr><th>RowNum</th><th>MatchId</th><th>home_country</th><th>away_country</th><th>home_country_goal</th><th>away_country_goal</th><th>winner_country</th></tr></thead><tbody><tr><td>1</td><td>1</td><td>France</td><td>Portugal</td><td>3</td><td>4</td><td>Portugal</td></tr><tr><td>2</td><td>2</td><td>France</td><td>Belgium</td><td>3</td><td>3</td><td>Belgium</td></tr><tr><td>3</td><td>3</td><td>France</td><td>Italy</td><td>5</td><td>1</td><td>France</td></tr><tr><td>4</td><td>4</td><td>Italy</td><td>Portugal</td><td>4</td><td>3</td><td>Italy</td></tr><tr><td>5</td><td>5</td><td>Italy</td><td>Belgium</td><td>4</td><td>6</td><td>Belgium</td></tr><tr><td>6</td><td>6</td><td>Belgium</td><td>Portugal</td><td>4</td><td>3</td><td>Belgium</td></tr><tr><td>7</td><td>7</td><td>Spain</td><td>England</td><td>6</td><td>2</td><td>Spain</td></tr><tr><td>8</td><td>8</td><td>Spain</td><td>Germany</td><td>4</td><td>3</td><td>Spain</td></tr><tr><td>9</td><td>9</td><td>Spain</td><td>Netherlands</td><td>4</td><td>5</td><td>Netherlands</td></tr><tr><td>10</td><td>10</td><td>Netherlands</td><td>England</td><td>1</td><td>3</td><td>England</td></tr><tr><td>11</td><td>11</td><td>Netherlands</td><td>Germany</td><td>2</td><td>5</td><td>Germany</td></tr><tr><td>12</td><td>12</td><td>Germany</td><td>England</td><td>4</td><td>5</td><td>England</td></tr><tr><td>13</td><td>13</td><td>Turkey</td><td>Denmark</td><td>1</td><td>2</td><td>Denmark</td></tr><tr><td>14</td><td>14</td><td>Turkey</td><td>Switzerland</td><td>6</td><td>4</td><td>Turkey</td></tr><tr><td>15</td><td>15</td><td>Turkey</td><td>Austria</td><td>5</td><td>6</td><td>Austria</td></tr><tr><td>16</td><td>16</td><td>Austria</td><td>Denmark</td><td>3</td><td>5</td><td>Denmark</td></tr><tr><td>17</td><td>17</td><td>Austria</td><td>Switzerland</td><td>6</td><td>6</td><td>Austria</td></tr><tr><td>18</td><td>18</td><td>Switzerland</td><td>Denmark</td><td>1</td><td>6</td><td>Denmark</td></tr><tr><td>19</td><td>19</td><td>Croatia</td><td>Poland</td><td>1</td><td>5</td><td>Poland</td></tr><tr><td>20</td><td>20</td><td>Croatia</td><td>Sweden</td><td>1</td><td>5</td><td>Sweden</td></tr><tr><td>21</td><td>21</td><td>Croatia</td><td>Ukraine</td><td>2</td><td>5</td><td>Ukraine</td></tr><tr><td>22</td><td>22</td><td>Ukraine</td><td>Poland</td><td>4</td><td>4</td><td>Ukraine</td></tr><tr><td>23</td><td>23</td><td>Ukraine</td><td>Sweden</td><td>4</td><td>2</td><td>Ukraine</td></tr><tr><td>24</td><td>24</td><td>Sweden</td><td>Poland</td><td>2</td><td>2</td><td>Sweden</td></tr><tr><td>25</td><td>25</td><td>Wales</td><td>Hungary</td><td>5</td><td>3</td><td>Wales</td></tr><tr><td>26</td><td>26</td><td>Wales</td><td>Slovakia</td><td>1</td><td>3</td><td>Slovakia</td></tr><tr><td>27</td><td>27</td><td>Wales</td><td>Czech Republic</td><td>1</td><td>5</td><td>Czech Republic</td></tr><tr><td>28</td><td>28</td><td>Czech Republic</td><td>Hungary</td><td>4</td><td>2</td><td>Czech Republic</td></tr><tr><td>29</td><td>29</td><td>Czech Republic</td><td>Slovakia</td><td>1</td><td>3</td><td>Slovakia</td></tr><tr><td>30</td><td>30</td><td>Slovakia</td><td>Hungary</td><td>2</td><td>6</td><td>Hungary</td></tr><tr><td>31</td><td>31</td><td>Finland</td><td>Russia</td><td>2</td><td>1</td><td>Finland</td></tr><tr><td>32</td><td>32</td><td>Finland</td><td>Scotland</td><td>5</td><td>5</td><td>Scotland</td></tr><tr><td>33</td><td>33</td><td>Finland</td><td>North Macedonia</td><td>4</td><td>1</td><td>Finland</td></tr><tr><td>34</td><td>34</td><td>North Macedonia</td><td>Russia</td><td>5</td><td>5</td><td>Russia</td></tr><tr><td>35</td><td>35</td><td>North Macedonia</td><td>Scotland</td><td>5</td><td>3</td><td>North Macedonia</td></tr><tr><td>36</td><td>36</td><td>Scotland</td><td>Russia</td><td>6</td><td>5</td><td>Scotland</td></tr><tr><td>37</td><td>37</td><td>Belgium</td><td>Austria</td><td>0</td><td>3</td><td>Austria</td></tr><tr><td>38</td><td>38</td><td>France</td><td>England</td><td>0</td><td>5</td><td>England</td></tr><tr><td>39</td><td>39</td><td>Spain</td><td>Portugal</td><td>2</td><td>0</td><td>Spain</td></tr><tr><td>40</td><td>40</td><td>Denmark</td><td>Sweden</td><td>2</td><td>4</td><td>Sweden</td></tr><tr><td>41</td><td>41</td><td>Finland</td><td>Turkey</td><td>3</td><td>0</td><td>Finland</td></tr><tr><td>42</td><td>42</td><td>Poland</td><td>Slovakia</td><td>1</td><td>1</td><td>Slovakia</td></tr><tr><td>43</td><td>43</td><td>Czech Republic</td><td>Germany</td><td>1</td><td>2</td><td>Germany</td></tr><tr><td>44</td><td>44</td><td>Poland</td><td>Scotland</td><td>2</td><td>2</td><td>Poland</td></tr><tr><td>45</td><td>45</td><td>Austria</td><td>England</td><td>0</td><td>0</td><td>Austria</td></tr><tr><td>46</td><td>46</td><td>Spain</td><td>Sweden</td><td>0</td><td>4</td><td>Sweden</td></tr><tr><td>47</td><td>47</td><td>Finland</td><td>Slovakia</td><td>5</td><td>3</td><td>Finland</td></tr><tr><td>48</td><td>48</td><td>Germany</td><td>Poland</td><td>1</td><td>3</td><td>Poland</td></tr><tr><td>49</td><td>49</td><td>Austria</td><td>Sweden</td><td>2</td><td>3</td><td>Sweden</td></tr><tr><td>50</td><td>50</td><td>Finland</td><td>Poland</td><td>5</td><td>4</td><td>Finland</td></tr><tr><td>51</td><td>51</td><td>Austria</td><td>Poland</td><td>2</td><td>5</td><td>Poland</td></tr><tr><td>52</td><td>52</td><td>Sweden</td><td>Finland</td><td>0</td><td>5</td><td>Finland</td></tr></tbody></table></div>"
      ]
     },
     "metadata": {
      "application/vnd.databricks.v1+output": {
       "addedWidgets": {},
       "aggData": [],
       "aggError": "",
       "aggOverflow": false,
       "aggSchema": [],
       "aggSeriesLimitReached": false,
       "aggType": "",
       "arguments": {},
       "columnCustomDisplayInfos": {},
       "data": [
        [
         1,
         1,
         "France",
         "Portugal",
         3,
         4,
         "Portugal"
        ],
        [
         2,
         2,
         "France",
         "Belgium",
         3,
         3,
         "Belgium"
        ],
        [
         3,
         3,
         "France",
         "Italy",
         5,
         1,
         "France"
        ],
        [
         4,
         4,
         "Italy",
         "Portugal",
         4,
         3,
         "Italy"
        ],
        [
         5,
         5,
         "Italy",
         "Belgium",
         4,
         6,
         "Belgium"
        ],
        [
         6,
         6,
         "Belgium",
         "Portugal",
         4,
         3,
         "Belgium"
        ],
        [
         7,
         7,
         "Spain",
         "England",
         6,
         2,
         "Spain"
        ],
        [
         8,
         8,
         "Spain",
         "Germany",
         4,
         3,
         "Spain"
        ],
        [
         9,
         9,
         "Spain",
         "Netherlands",
         4,
         5,
         "Netherlands"
        ],
        [
         10,
         10,
         "Netherlands",
         "England",
         1,
         3,
         "England"
        ],
        [
         11,
         11,
         "Netherlands",
         "Germany",
         2,
         5,
         "Germany"
        ],
        [
         12,
         12,
         "Germany",
         "England",
         4,
         5,
         "England"
        ],
        [
         13,
         13,
         "Turkey",
         "Denmark",
         1,
         2,
         "Denmark"
        ],
        [
         14,
         14,
         "Turkey",
         "Switzerland",
         6,
         4,
         "Turkey"
        ],
        [
         15,
         15,
         "Turkey",
         "Austria",
         5,
         6,
         "Austria"
        ],
        [
         16,
         16,
         "Austria",
         "Denmark",
         3,
         5,
         "Denmark"
        ],
        [
         17,
         17,
         "Austria",
         "Switzerland",
         6,
         6,
         "Austria"
        ],
        [
         18,
         18,
         "Switzerland",
         "Denmark",
         1,
         6,
         "Denmark"
        ],
        [
         19,
         19,
         "Croatia",
         "Poland",
         1,
         5,
         "Poland"
        ],
        [
         20,
         20,
         "Croatia",
         "Sweden",
         1,
         5,
         "Sweden"
        ],
        [
         21,
         21,
         "Croatia",
         "Ukraine",
         2,
         5,
         "Ukraine"
        ],
        [
         22,
         22,
         "Ukraine",
         "Poland",
         4,
         4,
         "Ukraine"
        ],
        [
         23,
         23,
         "Ukraine",
         "Sweden",
         4,
         2,
         "Ukraine"
        ],
        [
         24,
         24,
         "Sweden",
         "Poland",
         2,
         2,
         "Sweden"
        ],
        [
         25,
         25,
         "Wales",
         "Hungary",
         5,
         3,
         "Wales"
        ],
        [
         26,
         26,
         "Wales",
         "Slovakia",
         1,
         3,
         "Slovakia"
        ],
        [
         27,
         27,
         "Wales",
         "Czech Republic",
         1,
         5,
         "Czech Republic"
        ],
        [
         28,
         28,
         "Czech Republic",
         "Hungary",
         4,
         2,
         "Czech Republic"
        ],
        [
         29,
         29,
         "Czech Republic",
         "Slovakia",
         1,
         3,
         "Slovakia"
        ],
        [
         30,
         30,
         "Slovakia",
         "Hungary",
         2,
         6,
         "Hungary"
        ],
        [
         31,
         31,
         "Finland",
         "Russia",
         2,
         1,
         "Finland"
        ],
        [
         32,
         32,
         "Finland",
         "Scotland",
         5,
         5,
         "Scotland"
        ],
        [
         33,
         33,
         "Finland",
         "North Macedonia",
         4,
         1,
         "Finland"
        ],
        [
         34,
         34,
         "North Macedonia",
         "Russia",
         5,
         5,
         "Russia"
        ],
        [
         35,
         35,
         "North Macedonia",
         "Scotland",
         5,
         3,
         "North Macedonia"
        ],
        [
         36,
         36,
         "Scotland",
         "Russia",
         6,
         5,
         "Scotland"
        ],
        [
         37,
         37,
         "Belgium",
         "Austria",
         0,
         3,
         "Austria"
        ],
        [
         38,
         38,
         "France",
         "England",
         0,
         5,
         "England"
        ],
        [
         39,
         39,
         "Spain",
         "Portugal",
         2,
         0,
         "Spain"
        ],
        [
         40,
         40,
         "Denmark",
         "Sweden",
         2,
         4,
         "Sweden"
        ],
        [
         41,
         41,
         "Finland",
         "Turkey",
         3,
         0,
         "Finland"
        ],
        [
         42,
         42,
         "Poland",
         "Slovakia",
         1,
         1,
         "Slovakia"
        ],
        [
         43,
         43,
         "Czech Republic",
         "Germany",
         1,
         2,
         "Germany"
        ],
        [
         44,
         44,
         "Poland",
         "Scotland",
         2,
         2,
         "Poland"
        ],
        [
         45,
         45,
         "Austria",
         "England",
         0,
         0,
         "Austria"
        ],
        [
         46,
         46,
         "Spain",
         "Sweden",
         0,
         4,
         "Sweden"
        ],
        [
         47,
         47,
         "Finland",
         "Slovakia",
         5,
         3,
         "Finland"
        ],
        [
         48,
         48,
         "Germany",
         "Poland",
         1,
         3,
         "Poland"
        ],
        [
         49,
         49,
         "Austria",
         "Sweden",
         2,
         3,
         "Sweden"
        ],
        [
         50,
         50,
         "Finland",
         "Poland",
         5,
         4,
         "Finland"
        ],
        [
         51,
         51,
         "Austria",
         "Poland",
         2,
         5,
         "Poland"
        ],
        [
         52,
         52,
         "Sweden",
         "Finland",
         0,
         5,
         "Finland"
        ]
       ],
       "datasetInfos": [],
       "dbfsResultPath": null,
       "isJsonSchema": true,
       "metadata": {},
       "overflow": false,
       "plotOptions": {
        "customPlotOptions": {},
        "displayType": "table",
        "pivotAggregation": null,
        "pivotColumns": null,
        "xColumns": null,
        "yColumns": null
       },
       "removedWidgets": [],
       "schema": [
        {
         "metadata": "{}",
         "name": "RowNum",
         "type": "\"integer\""
        },
        {
         "metadata": "{}",
         "name": "MatchId",
         "type": "\"integer\""
        },
        {
         "metadata": "{\"__CHAR_VARCHAR_TYPE_STRING\":\"varchar(20)\"}",
         "name": "home_country",
         "type": "\"string\""
        },
        {
         "metadata": "{\"__CHAR_VARCHAR_TYPE_STRING\":\"varchar(20)\"}",
         "name": "away_country",
         "type": "\"string\""
        },
        {
         "metadata": "{}",
         "name": "home_country_goal",
         "type": "\"integer\""
        },
        {
         "metadata": "{}",
         "name": "away_country_goal",
         "type": "\"integer\""
        },
        {
         "metadata": "{\"__CHAR_VARCHAR_TYPE_STRING\":\"varchar(20)\"}",
         "name": "winner_country",
         "type": "\"string\""
        }
       ],
       "type": "table"
      }
     },
     "output_type": "display_data"
    }
   ],
   "source": [
    "%sql\n",
    "SELECT\n",
    "    *\n",
    "FROM\n",
    "    (\n",
    "        SELECT\n",
    "            ROW_NUMBER () OVER (ORDER BY MatchId) AS RowNum,\n",
    "            MatchId, home_country, away_country, home_country_goal, away_country_goal, winner_country\n",
    "        FROM\n",
    "            matches\n",
    "    ) sub"
   ]
  },
  {
   "cell_type": "code",
   "execution_count": 0,
   "metadata": {
    "application/vnd.databricks.v1+cell": {
     "cellMetadata": {
      "byteLimit": 2048000,
      "rowLimit": 10000
     },
     "inputWidgets": {},
     "nuid": "41e12087-88e9-41d3-b543-d52faec96dd7",
     "showTitle": false,
     "title": ""
    }
   },
   "outputs": [
    {
     "output_type": "display_data",
     "data": {
      "application/vnd.databricks.v1+bamboolib_hint": "{\"pd.DataFrames\": [], \"version\": \"0.0.1\"}",
      "text/plain": []
     },
     "metadata": {},
     "output_type": "display_data"
    }
   ],
   "source": [
    "%python\n",
    "import pandas as pd\n",
    "from pyspark.sql import SparkSession\n",
    "spark = SparkSession.builder.appName(\"Eurocup\").getOrCreate()\n"
   ]
  },
  {
   "cell_type": "code",
   "execution_count": 0,
   "metadata": {
    "application/vnd.databricks.v1+cell": {
     "cellMetadata": {
      "byteLimit": 2048000,
      "rowLimit": 10000
     },
     "inputWidgets": {},
     "nuid": "8c4b7589-2e6e-44be-9c18-eb7ce5cc98cd",
     "showTitle": false,
     "title": ""
    }
   },
   "outputs": [],
   "source": [
    "%python\n",
    "all_teams_stats = spark.sql(\"SELECT * from group_stage_ranking\")\n",
    "round_of_16 = spark.sql(\"\"\"\n",
    "                        SELECT \n",
    "    CASE WHEN MatchID IN (37,38,39,40) THEN 'left' ELSE 'right' END AS side,\n",
    "    MatchID,\n",
    "    home_country, \n",
    "    away_country, \n",
    "    home_country_goal, \n",
    "    away_country_goal \n",
    "FROM \n",
    "    matches \n",
    "WHERE \n",
    "    MatchID IN (37,38,39,40,41,42,43,44) \n",
    "    AND MatchId In (37, 38, 39, 40, 41, 42, 43, 44)\n",
    "ORDER BY \n",
    "    CASE \n",
    "        WHEN MatchID = 39 THEN 1\n",
    "        WHEN MatchID = 37 THEN 2\n",
    "        WHEN MatchID = 41 THEN 3\n",
    "        WHEN MatchID = 42 THEN 4\n",
    "        WHEN MatchID = 43 THEN 5\n",
    "        WHEN MatchID = 44 THEN 6\n",
    "        WHEN MatchID = 40 THEN 7\n",
    "        WHEN MatchID = 38 THEN 8\n",
    "    END;\n",
    "\n",
    "                        \"\"\")\n",
    "quarter_final = spark.sql(\"SELECT home_country, away_country, home_country_goal, away_country_goal FROM matches WHERE MatchID IN (45,46,47,48)  ORDER BY MatchID\")\n",
    "semi_final = spark.sql(\"SELECT home_country, away_country, home_country_goal, away_country_goal FROM matches WHERE MatchID IN (50,51) ORDER BY MatchID DESC\")\n",
    "final = spark.sql(\"SELECT home_country, away_country, home_country_goal, away_country_goal FROM matches WHERE MatchID = 52 ORDER BY MatchID\")\n",
    "third_place = spark.sql(\"SELECT MatchID FROM matches WHERE MatchID = 49 ORDER BY MatchID\")"
   ]
  },
  {
   "cell_type": "code",
   "execution_count": 0,
   "metadata": {
    "application/vnd.databricks.v1+cell": {
     "cellMetadata": {
      "byteLimit": 2048000,
      "rowLimit": 10000
     },
     "inputWidgets": {},
     "nuid": "28c495d9-8bf0-4800-bcd9-b5917ce91aa9",
     "showTitle": false,
     "title": ""
    }
   },
   "outputs": [],
   "source": [
    "%python\n",
    "\n",
    "all_teams_stats_df = all_teams_stats.toPandas()\n",
    "round_of_16_df = round_of_16.toPandas()\n",
    "quarter_final_df = quarter_final.toPandas()\n",
    "semi_final_df = semi_final.toPandas()\n",
    "final_df = final.toPandas()\n",
    "third_place_df = third_place.toPandas()\n",
    "     "
   ]
  },
  {
   "cell_type": "code",
   "execution_count": 0,
   "metadata": {
    "application/vnd.databricks.v1+cell": {
     "cellMetadata": {
      "byteLimit": 2048000,
      "rowLimit": 10000
     },
     "inputWidgets": {},
     "nuid": "c1bb7b32-390b-4d61-bbca-a5d100c0529e",
     "showTitle": false,
     "title": ""
    }
   },
   "outputs": [
    {
     "output_type": "display_data",
     "data": {
      "text/html": [
       "<style scoped>\n",
       "  .table-result-container {\n",
       "    max-height: 300px;\n",
       "    overflow: auto;\n",
       "  }\n",
       "  table, th, td {\n",
       "    border: 1px solid black;\n",
       "    border-collapse: collapse;\n",
       "  }\n",
       "  th, td {\n",
       "    padding: 5px;\n",
       "  }\n",
       "  th {\n",
       "    text-align: left;\n",
       "  }\n",
       "</style><div class='table-result-container'><table class='table-result'><thead style='background-color: white'><tr><th>Teams</th><th>Group</th><th>W</th><th>D</th><th>L</th><th>GF</th><th>GA</th><th>GD</th><th>Pts</th></tr></thead><tbody><tr><td>Belgium</td><td>A</td><td>2</td><td>1</td><td>0</td><td>13</td><td>10</td><td>3</td><td>7</td></tr><tr><td>France</td><td>A</td><td>1</td><td>1</td><td>1</td><td>11</td><td>8</td><td>3</td><td>4</td></tr><tr><td>Italy</td><td>A</td><td>1</td><td>0</td><td>2</td><td>9</td><td>14</td><td>-5</td><td>3</td></tr><tr><td>Portugal</td><td>A</td><td>1</td><td>0</td><td>2</td><td>10</td><td>11</td><td>-1</td><td>3</td></tr><tr><td></td><td></td><td></td><td></td><td></td><td></td><td></td><td></td><td></td></tr><tr><td>Spain</td><td>B</td><td>2</td><td>0</td><td>1</td><td>14</td><td>10</td><td>4</td><td>6</td></tr><tr><td>England</td><td>B</td><td>2</td><td>0</td><td>1</td><td>10</td><td>11</td><td>-1</td><td>6</td></tr><tr><td>Netherlands</td><td>B</td><td>1</td><td>0</td><td>2</td><td>8</td><td>12</td><td>-4</td><td>3</td></tr><tr><td>Germany</td><td>B</td><td>1</td><td>0</td><td>2</td><td>12</td><td>11</td><td>1</td><td>3</td></tr><tr><td></td><td></td><td></td><td></td><td></td><td></td><td></td><td></td><td></td></tr><tr><td>Denmark</td><td>C</td><td>3</td><td>0</td><td>0</td><td>13</td><td>5</td><td>8</td><td>9</td></tr><tr><td>Austria</td><td>C</td><td>1</td><td>1</td><td>1</td><td>15</td><td>16</td><td>-1</td><td>4</td></tr><tr><td>Turkey</td><td>C</td><td>1</td><td>0</td><td>2</td><td>12</td><td>12</td><td>0</td><td>3</td></tr><tr><td>Switzerland</td><td>C</td><td>0</td><td>1</td><td>2</td><td>11</td><td>18</td><td>-7</td><td>1</td></tr><tr><td></td><td></td><td></td><td></td><td></td><td></td><td></td><td></td><td></td></tr><tr><td>Ukraine</td><td>D</td><td>2</td><td>1</td><td>0</td><td>13</td><td>8</td><td>5</td><td>7</td></tr><tr><td>Poland</td><td>D</td><td>1</td><td>2</td><td>0</td><td>11</td><td>7</td><td>4</td><td>5</td></tr><tr><td>Sweden</td><td>D</td><td>1</td><td>1</td><td>1</td><td>9</td><td>7</td><td>2</td><td>4</td></tr><tr><td>Croatia</td><td>D</td><td>0</td><td>0</td><td>3</td><td>4</td><td>15</td><td>-11</td><td>0</td></tr><tr><td></td><td></td><td></td><td></td><td></td><td></td><td></td><td></td><td></td></tr><tr><td>Czech Republic</td><td>E</td><td>2</td><td>0</td><td>1</td><td>10</td><td>6</td><td>4</td><td>6</td></tr><tr><td>Slovakia</td><td>E</td><td>2</td><td>0</td><td>1</td><td>8</td><td>8</td><td>0</td><td>6</td></tr><tr><td>Wales</td><td>E</td><td>1</td><td>0</td><td>2</td><td>7</td><td>11</td><td>-4</td><td>3</td></tr><tr><td>Hungary</td><td>E</td><td>1</td><td>0</td><td>2</td><td>11</td><td>11</td><td>0</td><td>3</td></tr><tr><td></td><td></td><td></td><td></td><td></td><td></td><td></td><td></td><td></td></tr><tr><td>Finland</td><td>F</td><td>2</td><td>1</td><td>0</td><td>11</td><td>7</td><td>4</td><td>7</td></tr><tr><td>North Macedonia</td><td>F</td><td>1</td><td>1</td><td>1</td><td>11</td><td>12</td><td>-1</td><td>4</td></tr><tr><td>Scotland</td><td>F</td><td>1</td><td>1</td><td>1</td><td>14</td><td>15</td><td>-1</td><td>4</td></tr><tr><td>Russia</td><td>F</td><td>0</td><td>1</td><td>2</td><td>11</td><td>13</td><td>-2</td><td>1</td></tr></tbody></table></div>"
      ]
     },
     "metadata": {
      "application/vnd.databricks.v1+output": {
       "addedWidgets": {},
       "aggData": [],
       "aggError": "",
       "aggOverflow": false,
       "aggSchema": [],
       "aggSeriesLimitReached": false,
       "aggType": "",
       "arguments": {},
       "columnCustomDisplayInfos": {},
       "data": [
        [
         "Belgium",
         "A",
         "2",
         "1",
         "0",
         "13",
         "10",
         "3",
         "7"
        ],
        [
         "France",
         "A",
         "1",
         "1",
         "1",
         "11",
         "8",
         "3",
         "4"
        ],
        [
         "Italy",
         "A",
         "1",
         "0",
         "2",
         "9",
         "14",
         "-5",
         "3"
        ],
        [
         "Portugal",
         "A",
         "1",
         "0",
         "2",
         "10",
         "11",
         "-1",
         "3"
        ],
        [
         "",
         "",
         "",
         "",
         "",
         "",
         "",
         "",
         ""
        ],
        [
         "Spain",
         "B",
         "2",
         "0",
         "1",
         "14",
         "10",
         "4",
         "6"
        ],
        [
         "England",
         "B",
         "2",
         "0",
         "1",
         "10",
         "11",
         "-1",
         "6"
        ],
        [
         "Netherlands",
         "B",
         "1",
         "0",
         "2",
         "8",
         "12",
         "-4",
         "3"
        ],
        [
         "Germany",
         "B",
         "1",
         "0",
         "2",
         "12",
         "11",
         "1",
         "3"
        ],
        [
         "",
         "",
         "",
         "",
         "",
         "",
         "",
         "",
         ""
        ],
        [
         "Denmark",
         "C",
         "3",
         "0",
         "0",
         "13",
         "5",
         "8",
         "9"
        ],
        [
         "Austria",
         "C",
         "1",
         "1",
         "1",
         "15",
         "16",
         "-1",
         "4"
        ],
        [
         "Turkey",
         "C",
         "1",
         "0",
         "2",
         "12",
         "12",
         "0",
         "3"
        ],
        [
         "Switzerland",
         "C",
         "0",
         "1",
         "2",
         "11",
         "18",
         "-7",
         "1"
        ],
        [
         "",
         "",
         "",
         "",
         "",
         "",
         "",
         "",
         ""
        ],
        [
         "Ukraine",
         "D",
         "2",
         "1",
         "0",
         "13",
         "8",
         "5",
         "7"
        ],
        [
         "Poland",
         "D",
         "1",
         "2",
         "0",
         "11",
         "7",
         "4",
         "5"
        ],
        [
         "Sweden",
         "D",
         "1",
         "1",
         "1",
         "9",
         "7",
         "2",
         "4"
        ],
        [
         "Croatia",
         "D",
         "0",
         "0",
         "3",
         "4",
         "15",
         "-11",
         "0"
        ],
        [
         "",
         "",
         "",
         "",
         "",
         "",
         "",
         "",
         ""
        ],
        [
         "Czech Republic",
         "E",
         "2",
         "0",
         "1",
         "10",
         "6",
         "4",
         "6"
        ],
        [
         "Slovakia",
         "E",
         "2",
         "0",
         "1",
         "8",
         "8",
         "0",
         "6"
        ],
        [
         "Wales",
         "E",
         "1",
         "0",
         "2",
         "7",
         "11",
         "-4",
         "3"
        ],
        [
         "Hungary",
         "E",
         "1",
         "0",
         "2",
         "11",
         "11",
         "0",
         "3"
        ],
        [
         "",
         "",
         "",
         "",
         "",
         "",
         "",
         "",
         ""
        ],
        [
         "Finland",
         "F",
         "2",
         "1",
         "0",
         "11",
         "7",
         "4",
         "7"
        ],
        [
         "North Macedonia",
         "F",
         "1",
         "1",
         "1",
         "11",
         "12",
         "-1",
         "4"
        ],
        [
         "Scotland",
         "F",
         "1",
         "1",
         "1",
         "14",
         "15",
         "-1",
         "4"
        ],
        [
         "Russia",
         "F",
         "0",
         "1",
         "2",
         "11",
         "13",
         "-2",
         "1"
        ]
       ],
       "datasetInfos": [],
       "dbfsResultPath": null,
       "isJsonSchema": true,
       "metadata": {},
       "overflow": false,
       "plotOptions": {
        "customPlotOptions": {},
        "displayType": "table",
        "pivotAggregation": null,
        "pivotColumns": null,
        "xColumns": null,
        "yColumns": null
       },
       "removedWidgets": [],
       "schema": [
        {
         "metadata": "{}",
         "name": "Teams",
         "type": "\"string\""
        },
        {
         "metadata": "{}",
         "name": "Group",
         "type": "\"string\""
        },
        {
         "metadata": "{}",
         "name": "W",
         "type": "\"string\""
        },
        {
         "metadata": "{}",
         "name": "D",
         "type": "\"string\""
        },
        {
         "metadata": "{}",
         "name": "L",
         "type": "\"string\""
        },
        {
         "metadata": "{}",
         "name": "GF",
         "type": "\"string\""
        },
        {
         "metadata": "{}",
         "name": "GA",
         "type": "\"string\""
        },
        {
         "metadata": "{}",
         "name": "GD",
         "type": "\"string\""
        },
        {
         "metadata": "{}",
         "name": "Pts",
         "type": "\"string\""
        }
       ],
       "type": "table"
      }
     },
     "output_type": "display_data"
    },
    {
     "output_type": "stream",
     "name": "stdout",
     "output_type": "stream",
     "text": [
      "14\n"
     ]
    }
   ],
   "source": [
    "%python\n",
    "table_visualization = pd.DataFrame({\n",
    "    'Teams': all_teams_stats_df['TeamName'],\n",
    "    'Group': all_teams_stats_df['TeamGroup'],\n",
    "    'W': all_teams_stats_df['Matches_won'],\n",
    "    'D': all_teams_stats_df['Matches_draw'],\n",
    "    'L': all_teams_stats_df['Matches_lost'],\n",
    "    'GF': all_teams_stats_df['Goals_scored'],\n",
    "    'GA': all_teams_stats_df['Goals_allowed'],\n",
    "    'GD': all_teams_stats_df['Goal_difference'],\n",
    "    'Pts': all_teams_stats_df['points']\n",
    "})\n",
    "\n",
    "# Create blank row as a dictionary to add one blank row for each group\n",
    "blank_row = {\n",
    "    'Teams': '', \n",
    "    'Group': '', \n",
    "    'W': '',\n",
    "    'D': '',\n",
    "    'L': '',\n",
    "    'GF': '',\n",
    "    'GA': '',\n",
    "    'GD': '',\n",
    "    'Pts': ''\n",
    "}\n",
    "\n",
    "groups = []\n",
    "for i in range(0, len(table_visualization), 4):\n",
    "    group = table_visualization.iloc[i:i+4]  \n",
    "    groups.append(group) \n",
    "    if i < len(table_visualization) - 4:\n",
    "        groups.append(pd.DataFrame([blank_row])) \n",
    "\n",
    "visualization_with_space = pd.concat(groups).reset_index(drop=True)\n",
    "half_table_index = len(visualization_with_space) // 2\n",
    "spark.conf.set(\"spark.sql.execution.arrow.pyspark.enabled\", \"false\")\n",
    "display(visualization_with_space)\n",
    "print(half_table_index)"
   ]
  },
  {
   "cell_type": "code",
   "execution_count": 0,
   "metadata": {
    "application/vnd.databricks.v1+cell": {
     "cellMetadata": {
      "byteLimit": 2048000,
      "rowLimit": 10000
     },
     "inputWidgets": {},
     "nuid": "a9b6d0db-8e2a-49fe-9e5f-2b53a46cf309",
     "showTitle": false,
     "title": ""
    }
   },
   "outputs": [
    {
     "output_type": "display_data",
     "data": {
      "text/html": [
       "<style scoped>\n",
       "  .table-result-container {\n",
       "    max-height: 300px;\n",
       "    overflow: auto;\n",
       "  }\n",
       "  table, th, td {\n",
       "    border: 1px solid black;\n",
       "    border-collapse: collapse;\n",
       "  }\n",
       "  th, td {\n",
       "    padding: 5px;\n",
       "  }\n",
       "  th {\n",
       "    text-align: left;\n",
       "  }\n",
       "</style><div class='table-result-container'><table class='table-result'><thead style='background-color: white'><tr><th>Teams</th><th>Group</th><th>W</th><th>D</th><th>L</th><th>GF</th><th>GA</th><th>GD</th><th>Pts</th></tr></thead><tbody><tr><td></td><td></td><td></td><td></td><td></td><td></td><td></td><td></td><td></td></tr><tr><td>Belgium</td><td>A</td><td>2</td><td>1</td><td>0</td><td>13</td><td>10</td><td>3</td><td>7</td></tr><tr><td>France</td><td>A</td><td>1</td><td>1</td><td>1</td><td>11</td><td>8</td><td>3</td><td>4</td></tr><tr><td>Italy</td><td>A</td><td>1</td><td>0</td><td>2</td><td>9</td><td>14</td><td>-5</td><td>3</td></tr><tr><td>Portugal</td><td>A</td><td>1</td><td>0</td><td>2</td><td>10</td><td>11</td><td>-1</td><td>3</td></tr><tr><td></td><td></td><td></td><td></td><td></td><td></td><td></td><td></td><td></td></tr><tr><td>Spain</td><td>B</td><td>2</td><td>0</td><td>1</td><td>14</td><td>10</td><td>4</td><td>6</td></tr><tr><td>England</td><td>B</td><td>2</td><td>0</td><td>1</td><td>10</td><td>11</td><td>-1</td><td>6</td></tr><tr><td>Netherlands</td><td>B</td><td>1</td><td>0</td><td>2</td><td>8</td><td>12</td><td>-4</td><td>3</td></tr><tr><td>Germany</td><td>B</td><td>1</td><td>0</td><td>2</td><td>12</td><td>11</td><td>1</td><td>3</td></tr><tr><td></td><td></td><td></td><td></td><td></td><td></td><td></td><td></td><td></td></tr><tr><td>Denmark</td><td>C</td><td>3</td><td>0</td><td>0</td><td>13</td><td>5</td><td>8</td><td>9</td></tr><tr><td>Austria</td><td>C</td><td>1</td><td>1</td><td>1</td><td>15</td><td>16</td><td>-1</td><td>4</td></tr><tr><td>Turkey</td><td>C</td><td>1</td><td>0</td><td>2</td><td>12</td><td>12</td><td>0</td><td>3</td></tr><tr><td>Switzerland</td><td>C</td><td>0</td><td>1</td><td>2</td><td>11</td><td>18</td><td>-7</td><td>1</td></tr></tbody></table></div>"
      ]
     },
     "metadata": {
      "application/vnd.databricks.v1+output": {
       "addedWidgets": {},
       "aggData": [],
       "aggError": "",
       "aggOverflow": false,
       "aggSchema": [],
       "aggSeriesLimitReached": false,
       "aggType": "",
       "arguments": {},
       "columnCustomDisplayInfos": {},
       "data": [
        [
         "",
         "",
         "",
         "",
         "",
         "",
         "",
         "",
         ""
        ],
        [
         "Belgium",
         "A",
         "2",
         "1",
         "0",
         "13",
         "10",
         "3",
         "7"
        ],
        [
         "France",
         "A",
         "1",
         "1",
         "1",
         "11",
         "8",
         "3",
         "4"
        ],
        [
         "Italy",
         "A",
         "1",
         "0",
         "2",
         "9",
         "14",
         "-5",
         "3"
        ],
        [
         "Portugal",
         "A",
         "1",
         "0",
         "2",
         "10",
         "11",
         "-1",
         "3"
        ],
        [
         "",
         "",
         "",
         "",
         "",
         "",
         "",
         "",
         ""
        ],
        [
         "Spain",
         "B",
         "2",
         "0",
         "1",
         "14",
         "10",
         "4",
         "6"
        ],
        [
         "England",
         "B",
         "2",
         "0",
         "1",
         "10",
         "11",
         "-1",
         "6"
        ],
        [
         "Netherlands",
         "B",
         "1",
         "0",
         "2",
         "8",
         "12",
         "-4",
         "3"
        ],
        [
         "Germany",
         "B",
         "1",
         "0",
         "2",
         "12",
         "11",
         "1",
         "3"
        ],
        [
         "",
         "",
         "",
         "",
         "",
         "",
         "",
         "",
         ""
        ],
        [
         "Denmark",
         "C",
         "3",
         "0",
         "0",
         "13",
         "5",
         "8",
         "9"
        ],
        [
         "Austria",
         "C",
         "1",
         "1",
         "1",
         "15",
         "16",
         "-1",
         "4"
        ],
        [
         "Turkey",
         "C",
         "1",
         "0",
         "2",
         "12",
         "12",
         "0",
         "3"
        ],
        [
         "Switzerland",
         "C",
         "0",
         "1",
         "2",
         "11",
         "18",
         "-7",
         "1"
        ]
       ],
       "datasetInfos": [],
       "dbfsResultPath": null,
       "isJsonSchema": true,
       "metadata": {},
       "overflow": false,
       "plotOptions": {
        "customPlotOptions": {},
        "displayType": "table",
        "pivotAggregation": null,
        "pivotColumns": null,
        "xColumns": null,
        "yColumns": null
       },
       "removedWidgets": [],
       "schema": [
        {
         "metadata": "{}",
         "name": "Teams",
         "type": "\"string\""
        },
        {
         "metadata": "{}",
         "name": "Group",
         "type": "\"string\""
        },
        {
         "metadata": "{}",
         "name": "W",
         "type": "\"string\""
        },
        {
         "metadata": "{}",
         "name": "D",
         "type": "\"string\""
        },
        {
         "metadata": "{}",
         "name": "L",
         "type": "\"string\""
        },
        {
         "metadata": "{}",
         "name": "GF",
         "type": "\"string\""
        },
        {
         "metadata": "{}",
         "name": "GA",
         "type": "\"string\""
        },
        {
         "metadata": "{}",
         "name": "GD",
         "type": "\"string\""
        },
        {
         "metadata": "{}",
         "name": "Pts",
         "type": "\"string\""
        }
       ],
       "type": "table"
      }
     },
     "output_type": "display_data"
    },
    {
     "output_type": "display_data",
     "data": {
      "text/html": [
       "<style scoped>\n",
       "  .table-result-container {\n",
       "    max-height: 300px;\n",
       "    overflow: auto;\n",
       "  }\n",
       "  table, th, td {\n",
       "    border: 1px solid black;\n",
       "    border-collapse: collapse;\n",
       "  }\n",
       "  th, td {\n",
       "    padding: 5px;\n",
       "  }\n",
       "  th {\n",
       "    text-align: left;\n",
       "  }\n",
       "</style><div class='table-result-container'><table class='table-result'><thead style='background-color: white'><tr><th>Teams</th><th>Group</th><th>W</th><th>D</th><th>L</th><th>GF</th><th>GA</th><th>GD</th><th>Pts</th></tr></thead><tbody><tr><td></td><td></td><td></td><td></td><td></td><td></td><td></td><td></td><td></td></tr><tr><td>Ukraine</td><td>D</td><td>2</td><td>1</td><td>0</td><td>13</td><td>8</td><td>5</td><td>7</td></tr><tr><td>Poland</td><td>D</td><td>1</td><td>2</td><td>0</td><td>11</td><td>7</td><td>4</td><td>5</td></tr><tr><td>Sweden</td><td>D</td><td>1</td><td>1</td><td>1</td><td>9</td><td>7</td><td>2</td><td>4</td></tr><tr><td>Croatia</td><td>D</td><td>0</td><td>0</td><td>3</td><td>4</td><td>15</td><td>-11</td><td>0</td></tr><tr><td></td><td></td><td></td><td></td><td></td><td></td><td></td><td></td><td></td></tr><tr><td>Czech Republic</td><td>E</td><td>2</td><td>0</td><td>1</td><td>10</td><td>6</td><td>4</td><td>6</td></tr><tr><td>Slovakia</td><td>E</td><td>2</td><td>0</td><td>1</td><td>8</td><td>8</td><td>0</td><td>6</td></tr><tr><td>Wales</td><td>E</td><td>1</td><td>0</td><td>2</td><td>7</td><td>11</td><td>-4</td><td>3</td></tr><tr><td>Hungary</td><td>E</td><td>1</td><td>0</td><td>2</td><td>11</td><td>11</td><td>0</td><td>3</td></tr><tr><td></td><td></td><td></td><td></td><td></td><td></td><td></td><td></td><td></td></tr><tr><td>Finland</td><td>F</td><td>2</td><td>1</td><td>0</td><td>11</td><td>7</td><td>4</td><td>7</td></tr><tr><td>North Macedonia</td><td>F</td><td>1</td><td>1</td><td>1</td><td>11</td><td>12</td><td>-1</td><td>4</td></tr><tr><td>Scotland</td><td>F</td><td>1</td><td>1</td><td>1</td><td>14</td><td>15</td><td>-1</td><td>4</td></tr><tr><td>Russia</td><td>F</td><td>0</td><td>1</td><td>2</td><td>11</td><td>13</td><td>-2</td><td>1</td></tr></tbody></table></div>"
      ]
     },
     "metadata": {
      "application/vnd.databricks.v1+output": {
       "addedWidgets": {},
       "aggData": [],
       "aggError": "",
       "aggOverflow": false,
       "aggSchema": [],
       "aggSeriesLimitReached": false,
       "aggType": "",
       "arguments": {},
       "columnCustomDisplayInfos": {},
       "data": [
        [
         "",
         "",
         "",
         "",
         "",
         "",
         "",
         "",
         ""
        ],
        [
         "Ukraine",
         "D",
         "2",
         "1",
         "0",
         "13",
         "8",
         "5",
         "7"
        ],
        [
         "Poland",
         "D",
         "1",
         "2",
         "0",
         "11",
         "7",
         "4",
         "5"
        ],
        [
         "Sweden",
         "D",
         "1",
         "1",
         "1",
         "9",
         "7",
         "2",
         "4"
        ],
        [
         "Croatia",
         "D",
         "0",
         "0",
         "3",
         "4",
         "15",
         "-11",
         "0"
        ],
        [
         "",
         "",
         "",
         "",
         "",
         "",
         "",
         "",
         ""
        ],
        [
         "Czech Republic",
         "E",
         "2",
         "0",
         "1",
         "10",
         "6",
         "4",
         "6"
        ],
        [
         "Slovakia",
         "E",
         "2",
         "0",
         "1",
         "8",
         "8",
         "0",
         "6"
        ],
        [
         "Wales",
         "E",
         "1",
         "0",
         "2",
         "7",
         "11",
         "-4",
         "3"
        ],
        [
         "Hungary",
         "E",
         "1",
         "0",
         "2",
         "11",
         "11",
         "0",
         "3"
        ],
        [
         "",
         "",
         "",
         "",
         "",
         "",
         "",
         "",
         ""
        ],
        [
         "Finland",
         "F",
         "2",
         "1",
         "0",
         "11",
         "7",
         "4",
         "7"
        ],
        [
         "North Macedonia",
         "F",
         "1",
         "1",
         "1",
         "11",
         "12",
         "-1",
         "4"
        ],
        [
         "Scotland",
         "F",
         "1",
         "1",
         "1",
         "14",
         "15",
         "-1",
         "4"
        ],
        [
         "Russia",
         "F",
         "0",
         "1",
         "2",
         "11",
         "13",
         "-2",
         "1"
        ]
       ],
       "datasetInfos": [],
       "dbfsResultPath": null,
       "isJsonSchema": true,
       "metadata": {},
       "overflow": false,
       "plotOptions": {
        "customPlotOptions": {},
        "displayType": "table",
        "pivotAggregation": null,
        "pivotColumns": null,
        "xColumns": null,
        "yColumns": null
       },
       "removedWidgets": [],
       "schema": [
        {
         "metadata": "{}",
         "name": "Teams",
         "type": "\"string\""
        },
        {
         "metadata": "{}",
         "name": "Group",
         "type": "\"string\""
        },
        {
         "metadata": "{}",
         "name": "W",
         "type": "\"string\""
        },
        {
         "metadata": "{}",
         "name": "D",
         "type": "\"string\""
        },
        {
         "metadata": "{}",
         "name": "L",
         "type": "\"string\""
        },
        {
         "metadata": "{}",
         "name": "GF",
         "type": "\"string\""
        },
        {
         "metadata": "{}",
         "name": "GA",
         "type": "\"string\""
        },
        {
         "metadata": "{}",
         "name": "GD",
         "type": "\"string\""
        },
        {
         "metadata": "{}",
         "name": "Pts",
         "type": "\"string\""
        }
       ],
       "type": "table"
      }
     },
     "output_type": "display_data"
    }
   ],
   "source": [
    "%python\n",
    "#Table information for the Group A,B,C\n",
    "left_table = pd.DataFrame(columns=['Teams','Group','W','D','L','GF','GA','GD','Pts'])\n",
    "left_table = pd.concat([left_table, pd.DataFrame([blank_row])], ignore_index=True)\n",
    "left_table = pd.concat([left_table, visualization_with_space.iloc[:half_table_index]]).reset_index(drop=True)\n",
    "\n",
    "#Table information for the group C,D,E\n",
    "right_table = pd.DataFrame(columns=['Teams','Group','W','D','L','GF','GA','GD','Pts'])\n",
    "right_table = pd.concat([right_table, visualization_with_space.iloc[half_table_index +1:]]).reset_index(drop=True)\n",
    "right_table = pd.concat([pd.DataFrame([blank_row]), right_table], ignore_index=True)\n",
    "\n",
    "display(left_table)\n",
    "display(right_table)"
   ]
  },
  {
   "cell_type": "code",
   "execution_count": 0,
   "metadata": {
    "application/vnd.databricks.v1+cell": {
     "cellMetadata": {
      "byteLimit": 2048000,
      "rowLimit": 10000
     },
     "inputWidgets": {},
     "nuid": "4b214b21-bba8-4347-b649-38c063c05c4a",
     "showTitle": false,
     "title": ""
    }
   },
   "outputs": [
    {
     "output_type": "stream",
     "name": "stdout",
     "output_type": "stream",
     "text": [
      "17\n"
     ]
    },
    {
     "output_type": "display_data",
     "data": {
      "text/html": [
       "<style scoped>\n",
       "  .table-result-container {\n",
       "    max-height: 300px;\n",
       "    overflow: auto;\n",
       "  }\n",
       "  table, th, td {\n",
       "    border: 1px solid black;\n",
       "    border-collapse: collapse;\n",
       "  }\n",
       "  th, td {\n",
       "    padding: 5px;\n",
       "  }\n",
       "  th {\n",
       "    text-align: left;\n",
       "  }\n",
       "</style><div class='table-result-container'><table class='table-result'><thead style='background-color: white'><tr><th>Round_of_16</th><th>rest</th></tr></thead><tbody><tr><td></td><td></td></tr><tr><td></td><td></td></tr><tr><td>Spain (2)</td><td></td></tr><tr><td>Portugal (0)</td><td></td></tr><tr><td></td><td></td></tr><tr><td></td><td></td></tr><tr><td>Belgium (0)</td><td></td></tr><tr><td>Austria (3)</td><td></td></tr><tr><td></td><td></td></tr><tr><td></td><td></td></tr><tr><td>Finland (3)</td><td></td></tr><tr><td>Turkey (0)</td><td></td></tr><tr><td></td><td></td></tr><tr><td></td><td></td></tr><tr><td>Poland (1)</td><td></td></tr><tr><td>Slovakia (1)</td><td></td></tr><tr><td></td><td></td></tr><tr><td></td><td></td></tr><tr><td>Czech Republic (1)</td><td></td></tr><tr><td>Germany (2)</td><td></td></tr><tr><td></td><td></td></tr><tr><td></td><td></td></tr><tr><td>Poland (2)</td><td></td></tr><tr><td>Scotland (2)</td><td></td></tr><tr><td></td><td></td></tr><tr><td></td><td></td></tr><tr><td>Denmark (2)</td><td></td></tr><tr><td>Sweden (4)</td><td></td></tr><tr><td></td><td></td></tr><tr><td></td><td></td></tr><tr><td>France (0)</td><td></td></tr><tr><td>England (5)</td><td></td></tr><tr><td></td><td></td></tr><tr><td></td><td></td></tr></tbody></table></div>"
      ]
     },
     "metadata": {
      "application/vnd.databricks.v1+output": {
       "addedWidgets": {},
       "aggData": [],
       "aggError": "",
       "aggOverflow": false,
       "aggSchema": [],
       "aggSeriesLimitReached": false,
       "aggType": "",
       "arguments": {},
       "columnCustomDisplayInfos": {},
       "data": [
        [
         "",
         ""
        ],
        [
         "",
         ""
        ],
        [
         "Spain (2)",
         ""
        ],
        [
         "Portugal (0)",
         ""
        ],
        [
         "",
         ""
        ],
        [
         "",
         ""
        ],
        [
         "Belgium (0)",
         ""
        ],
        [
         "Austria (3)",
         ""
        ],
        [
         "",
         ""
        ],
        [
         "",
         ""
        ],
        [
         "Finland (3)",
         ""
        ],
        [
         "Turkey (0)",
         ""
        ],
        [
         "",
         ""
        ],
        [
         "",
         ""
        ],
        [
         "Poland (1)",
         ""
        ],
        [
         "Slovakia (1)",
         ""
        ],
        [
         "",
         ""
        ],
        [
         "",
         ""
        ],
        [
         "Czech Republic (1)",
         ""
        ],
        [
         "Germany (2)",
         ""
        ],
        [
         "",
         ""
        ],
        [
         "",
         ""
        ],
        [
         "Poland (2)",
         ""
        ],
        [
         "Scotland (2)",
         ""
        ],
        [
         "",
         ""
        ],
        [
         "",
         ""
        ],
        [
         "Denmark (2)",
         ""
        ],
        [
         "Sweden (4)",
         ""
        ],
        [
         "",
         ""
        ],
        [
         "",
         ""
        ],
        [
         "France (0)",
         ""
        ],
        [
         "England (5)",
         ""
        ],
        [
         "",
         ""
        ],
        [
         "",
         ""
        ]
       ],
       "datasetInfos": [],
       "dbfsResultPath": null,
       "isJsonSchema": true,
       "metadata": {},
       "overflow": false,
       "plotOptions": {
        "customPlotOptions": {},
        "displayType": "table",
        "pivotAggregation": null,
        "pivotColumns": null,
        "xColumns": null,
        "yColumns": null
       },
       "removedWidgets": [],
       "schema": [
        {
         "metadata": "{}",
         "name": "Round_of_16",
         "type": "\"string\""
        },
        {
         "metadata": "{}",
         "name": "rest",
         "type": "\"string\""
        }
       ],
       "type": "table"
      }
     },
     "output_type": "display_data"
    }
   ],
   "source": [
    "%python\n",
    "# Create an empty DataFrame for round of sixteen\n",
    "visualize_r16 = pd.DataFrame(columns=['Round_of_16', 'rest'])\n",
    "\n",
    "for _ in range(2):\n",
    "    visualize_r16 = pd.concat([visualize_r16, pd.DataFrame({'Round_of_16': ['']})], ignore_index=True)\n",
    "\n",
    "for index, row in round_of_16_df.iterrows():\n",
    "    visualize_r16 = pd.concat([visualize_r16, pd.DataFrame({'Round_of_16': [f\"{row['home_country']} ({row['home_country_goal']})\"]})], ignore_index=True)\n",
    "    visualize_r16 = pd.concat([visualize_r16, pd.DataFrame({'Round_of_16': [f\"{row['away_country']} ({row['away_country_goal']})\"]})], ignore_index=True)\n",
    "\n",
    "    for _ in range(2):\n",
    "        visualize_r16 = pd.concat([visualize_r16, pd.DataFrame({'Round_of_16': ['']})], ignore_index=True)\n",
    "\n",
    "visualize_r16['rest'] = ''\n",
    "\n",
    "splited_r16_index = len(visualize_r16) // 2\n",
    "print(splited_r16_index)\n",
    "display(visualize_r16)"
   ]
  },
  {
   "cell_type": "code",
   "execution_count": 0,
   "metadata": {
    "application/vnd.databricks.v1+cell": {
     "cellMetadata": {
      "byteLimit": 2048000,
      "rowLimit": 10000
     },
     "inputWidgets": {},
     "nuid": "81c1bdf4-83f7-4f86-8fab-d53a89083ad3",
     "showTitle": false,
     "title": ""
    }
   },
   "outputs": [
    {
     "output_type": "display_data",
     "data": {
      "text/html": [
       "<style scoped>\n",
       "  .table-result-container {\n",
       "    max-height: 300px;\n",
       "    overflow: auto;\n",
       "  }\n",
       "  table, th, td {\n",
       "    border: 1px solid black;\n",
       "    border-collapse: collapse;\n",
       "  }\n",
       "  th, td {\n",
       "    padding: 5px;\n",
       "  }\n",
       "  th {\n",
       "    text-align: left;\n",
       "  }\n",
       "</style><div class='table-result-container'><table class='table-result'><thead style='background-color: white'><tr><th>Round_of_16</th><th>rest</th></tr></thead><tbody><tr><td></td><td></td></tr><tr><td></td><td></td></tr><tr><td>Spain (2)</td><td></td></tr><tr><td>Portugal (0)</td><td></td></tr><tr><td></td><td></td></tr><tr><td></td><td></td></tr><tr><td>Belgium (0)</td><td></td></tr><tr><td>Austria (3)</td><td></td></tr><tr><td></td><td></td></tr><tr><td></td><td></td></tr><tr><td>Finland (3)</td><td></td></tr><tr><td>Turkey (0)</td><td></td></tr><tr><td></td><td></td></tr><tr><td></td><td></td></tr><tr><td>Poland (1)</td><td></td></tr><tr><td>Slovakia (1)</td><td></td></tr><tr><td></td><td></td></tr><tr><td></td><td></td></tr></tbody></table></div>"
      ]
     },
     "metadata": {
      "application/vnd.databricks.v1+output": {
       "addedWidgets": {},
       "aggData": [],
       "aggError": "",
       "aggOverflow": false,
       "aggSchema": [],
       "aggSeriesLimitReached": false,
       "aggType": "",
       "arguments": {},
       "columnCustomDisplayInfos": {},
       "data": [
        [
         "",
         ""
        ],
        [
         "",
         ""
        ],
        [
         "Spain (2)",
         ""
        ],
        [
         "Portugal (0)",
         ""
        ],
        [
         "",
         ""
        ],
        [
         "",
         ""
        ],
        [
         "Belgium (0)",
         ""
        ],
        [
         "Austria (3)",
         ""
        ],
        [
         "",
         ""
        ],
        [
         "",
         ""
        ],
        [
         "Finland (3)",
         ""
        ],
        [
         "Turkey (0)",
         ""
        ],
        [
         "",
         ""
        ],
        [
         "",
         ""
        ],
        [
         "Poland (1)",
         ""
        ],
        [
         "Slovakia (1)",
         ""
        ],
        [
         "",
         ""
        ],
        [
         "",
         ""
        ]
       ],
       "datasetInfos": [],
       "dbfsResultPath": null,
       "isJsonSchema": true,
       "metadata": {},
       "overflow": false,
       "plotOptions": {
        "customPlotOptions": {},
        "displayType": "table",
        "pivotAggregation": null,
        "pivotColumns": null,
        "xColumns": null,
        "yColumns": null
       },
       "removedWidgets": [],
       "schema": [
        {
         "metadata": "{}",
         "name": "Round_of_16",
         "type": "\"string\""
        },
        {
         "metadata": "{}",
         "name": "rest",
         "type": "\"string\""
        }
       ],
       "type": "table"
      }
     },
     "output_type": "display_data"
    },
    {
     "output_type": "display_data",
     "data": {
      "text/html": [
       "<style scoped>\n",
       "  .table-result-container {\n",
       "    max-height: 300px;\n",
       "    overflow: auto;\n",
       "  }\n",
       "  table, th, td {\n",
       "    border: 1px solid black;\n",
       "    border-collapse: collapse;\n",
       "  }\n",
       "  th, td {\n",
       "    padding: 5px;\n",
       "  }\n",
       "  th {\n",
       "    text-align: left;\n",
       "  }\n",
       "</style><div class='table-result-container'><table class='table-result'><thead style='background-color: white'><tr><th>Round_of_16</th><th>rest</th></tr></thead><tbody><tr><td></td><td></td></tr><tr><td></td><td></td></tr><tr><td>Czech Republic (1)</td><td></td></tr><tr><td>Germany (2)</td><td></td></tr><tr><td></td><td></td></tr><tr><td></td><td></td></tr><tr><td>Poland (2)</td><td></td></tr><tr><td>Scotland (2)</td><td></td></tr><tr><td></td><td></td></tr><tr><td></td><td></td></tr><tr><td>Denmark (2)</td><td></td></tr><tr><td>Sweden (4)</td><td></td></tr><tr><td></td><td></td></tr><tr><td></td><td></td></tr><tr><td>France (0)</td><td></td></tr><tr><td>England (5)</td><td></td></tr><tr><td></td><td></td></tr><tr><td></td><td></td></tr></tbody></table></div>"
      ]
     },
     "metadata": {
      "application/vnd.databricks.v1+output": {
       "addedWidgets": {},
       "aggData": [],
       "aggError": "",
       "aggOverflow": false,
       "aggSchema": [],
       "aggSeriesLimitReached": false,
       "aggType": "",
       "arguments": {},
       "columnCustomDisplayInfos": {},
       "data": [
        [
         "",
         ""
        ],
        [
         "",
         ""
        ],
        [
         "Czech Republic (1)",
         ""
        ],
        [
         "Germany (2)",
         ""
        ],
        [
         "",
         ""
        ],
        [
         "",
         ""
        ],
        [
         "Poland (2)",
         ""
        ],
        [
         "Scotland (2)",
         ""
        ],
        [
         "",
         ""
        ],
        [
         "",
         ""
        ],
        [
         "Denmark (2)",
         ""
        ],
        [
         "Sweden (4)",
         ""
        ],
        [
         "",
         ""
        ],
        [
         "",
         ""
        ],
        [
         "France (0)",
         ""
        ],
        [
         "England (5)",
         ""
        ],
        [
         "",
         ""
        ],
        [
         "",
         ""
        ]
       ],
       "datasetInfos": [],
       "dbfsResultPath": null,
       "isJsonSchema": true,
       "metadata": {},
       "overflow": false,
       "plotOptions": {
        "customPlotOptions": {},
        "displayType": "table",
        "pivotAggregation": null,
        "pivotColumns": null,
        "xColumns": null,
        "yColumns": null
       },
       "removedWidgets": [],
       "schema": [
        {
         "metadata": "{}",
         "name": "Round_of_16",
         "type": "\"string\""
        },
        {
         "metadata": "{}",
         "name": "rest",
         "type": "\"string\""
        }
       ],
       "type": "table"
      }
     },
     "output_type": "display_data"
    }
   ],
   "source": [
    "%python\n",
    "left_side_r16 = visualize_r16.iloc[:splited_r16_index + 1].reset_index(drop = True)\n",
    "right_side_r16 = visualize_r16.iloc[splited_r16_index - 1:].reset_index(drop = True)\n",
    "display(left_side_r16)\n",
    "display(right_side_r16)\n",
    "     "
   ]
  },
  {
   "cell_type": "code",
   "execution_count": 0,
   "metadata": {
    "application/vnd.databricks.v1+cell": {
     "cellMetadata": {
      "byteLimit": 2048000,
      "rowLimit": 10000
     },
     "inputWidgets": {},
     "nuid": "a541f23a-ea17-4aca-9010-741314a4cf1d",
     "showTitle": false,
     "title": ""
    }
   },
   "outputs": [
    {
     "output_type": "display_data",
     "data": {
      "text/html": [
       "<style scoped>\n",
       "  .table-result-container {\n",
       "    max-height: 300px;\n",
       "    overflow: auto;\n",
       "  }\n",
       "  table, th, td {\n",
       "    border: 1px solid black;\n",
       "    border-collapse: collapse;\n",
       "  }\n",
       "  th, td {\n",
       "    padding: 5px;\n",
       "  }\n",
       "  th {\n",
       "    text-align: left;\n",
       "  }\n",
       "</style><div class='table-result-container'><table class='table-result'><thead style='background-color: white'><tr><th>quarter_final</th><th>rest</th></tr></thead><tbody><tr><td></td><td></td></tr><tr><td></td><td></td></tr><tr><td></td><td></td></tr><tr><td></td><td></td></tr><tr><td>Austria (0)</td><td></td></tr><tr><td>England (0)</td><td></td></tr><tr><td></td><td></td></tr><tr><td></td><td></td></tr><tr><td></td><td></td></tr><tr><td></td><td></td></tr><tr><td></td><td></td></tr><tr><td></td><td></td></tr><tr><td>Spain (0)</td><td></td></tr><tr><td>Sweden (4)</td><td></td></tr><tr><td></td><td></td></tr><tr><td></td><td></td></tr><tr><td></td><td></td></tr><tr><td></td><td></td></tr><tr><td></td><td></td></tr><tr><td></td><td></td></tr><tr><td>Finland (5)</td><td></td></tr><tr><td>Slovakia (3)</td><td></td></tr><tr><td></td><td></td></tr><tr><td></td><td></td></tr><tr><td></td><td></td></tr><tr><td></td><td></td></tr><tr><td></td><td></td></tr><tr><td></td><td></td></tr><tr><td>Germany (1)</td><td></td></tr><tr><td>Poland (3)</td><td></td></tr><tr><td></td><td></td></tr><tr><td></td><td></td></tr><tr><td></td><td></td></tr><tr><td></td><td></td></tr><tr><td></td><td></td></tr><tr><td></td><td></td></tr></tbody></table></div>"
      ]
     },
     "metadata": {
      "application/vnd.databricks.v1+output": {
       "addedWidgets": {},
       "aggData": [],
       "aggError": "",
       "aggOverflow": false,
       "aggSchema": [],
       "aggSeriesLimitReached": false,
       "aggType": "",
       "arguments": {},
       "columnCustomDisplayInfos": {},
       "data": [
        [
         "",
         ""
        ],
        [
         "",
         ""
        ],
        [
         "",
         ""
        ],
        [
         "",
         ""
        ],
        [
         "Austria (0)",
         ""
        ],
        [
         "England (0)",
         ""
        ],
        [
         "",
         ""
        ],
        [
         "",
         ""
        ],
        [
         "",
         ""
        ],
        [
         "",
         ""
        ],
        [
         "",
         ""
        ],
        [
         "",
         ""
        ],
        [
         "Spain (0)",
         ""
        ],
        [
         "Sweden (4)",
         ""
        ],
        [
         "",
         ""
        ],
        [
         "",
         ""
        ],
        [
         "",
         ""
        ],
        [
         "",
         ""
        ],
        [
         "",
         ""
        ],
        [
         "",
         ""
        ],
        [
         "Finland (5)",
         ""
        ],
        [
         "Slovakia (3)",
         ""
        ],
        [
         "",
         ""
        ],
        [
         "",
         ""
        ],
        [
         "",
         ""
        ],
        [
         "",
         ""
        ],
        [
         "",
         ""
        ],
        [
         "",
         ""
        ],
        [
         "Germany (1)",
         ""
        ],
        [
         "Poland (3)",
         ""
        ],
        [
         "",
         ""
        ],
        [
         "",
         ""
        ],
        [
         "",
         ""
        ],
        [
         "",
         ""
        ],
        [
         "",
         ""
        ],
        [
         "",
         ""
        ]
       ],
       "datasetInfos": [],
       "dbfsResultPath": null,
       "isJsonSchema": true,
       "metadata": {},
       "overflow": false,
       "plotOptions": {
        "customPlotOptions": {},
        "displayType": "table",
        "pivotAggregation": null,
        "pivotColumns": null,
        "xColumns": null,
        "yColumns": null
       },
       "removedWidgets": [],
       "schema": [
        {
         "metadata": "{}",
         "name": "quarter_final",
         "type": "\"string\""
        },
        {
         "metadata": "{}",
         "name": "rest",
         "type": "\"string\""
        }
       ],
       "type": "table"
      }
     },
     "output_type": "display_data"
    }
   ],
   "source": [
    "%python\n",
    "# Dataframe for quarter final\n",
    "visualize_qf = pd.DataFrame(columns=['quarter_final'])\n",
    "\n",
    "for _ in range(4):\n",
    "    visualize_qf = pd.concat([visualize_qf, pd.DataFrame({'quarter_final': ['']})], ignore_index=True)\n",
    "\n",
    "for index, row in quarter_final_df.iterrows():\n",
    "    visualize_qf = pd.concat([visualize_qf, pd.DataFrame({'quarter_final': [f\"{row['home_country']} ({row['home_country_goal']})\"]})], ignore_index=True)\n",
    "    visualize_qf = pd.concat([visualize_qf, pd.DataFrame({'quarter_final': [f\"{row['away_country']} ({row['away_country_goal']})\"]})], ignore_index=True)\n",
    "\n",
    "    for _ in range(6):\n",
    "        visualize_qf = pd.concat([visualize_qf, pd.DataFrame({'quarter_final': ['']})], ignore_index=True)\n",
    "visualize_qf['rest'] = ''\n",
    "splited_qf_index = len(visualize_qf) // 2\n",
    "display(visualize_qf)\n"
   ]
  },
  {
   "cell_type": "code",
   "execution_count": 0,
   "metadata": {
    "application/vnd.databricks.v1+cell": {
     "cellMetadata": {
      "byteLimit": 2048000,
      "rowLimit": 10000
     },
     "inputWidgets": {},
     "nuid": "bd78015f-43e1-4ad0-8923-8965d80d4912",
     "showTitle": false,
     "title": ""
    }
   },
   "outputs": [
    {
     "output_type": "display_data",
     "data": {
      "text/html": [
       "<style scoped>\n",
       "  .table-result-container {\n",
       "    max-height: 300px;\n",
       "    overflow: auto;\n",
       "  }\n",
       "  table, th, td {\n",
       "    border: 1px solid black;\n",
       "    border-collapse: collapse;\n",
       "  }\n",
       "  th, td {\n",
       "    padding: 5px;\n",
       "  }\n",
       "  th {\n",
       "    text-align: left;\n",
       "  }\n",
       "</style><div class='table-result-container'><table class='table-result'><thead style='background-color: white'><tr><th>Quater_Final</th><th>quarter_final</th><th>rest</th></tr></thead><tbody><tr><td>NaN</td><td></td><td></td></tr><tr><td>NaN</td><td></td><td></td></tr><tr><td>NaN</td><td></td><td></td></tr><tr><td>NaN</td><td></td><td></td></tr><tr><td>NaN</td><td>Austria (0)</td><td></td></tr><tr><td>NaN</td><td>England (0)</td><td></td></tr><tr><td>NaN</td><td></td><td></td></tr><tr><td>NaN</td><td></td><td></td></tr><tr><td>NaN</td><td></td><td></td></tr><tr><td>NaN</td><td></td><td></td></tr><tr><td>NaN</td><td></td><td></td></tr><tr><td>NaN</td><td></td><td></td></tr><tr><td>NaN</td><td>Spain (0)</td><td></td></tr><tr><td>NaN</td><td>Sweden (4)</td><td></td></tr><tr><td>NaN</td><td></td><td></td></tr><tr><td>NaN</td><td></td><td></td></tr><tr><td>NaN</td><td></td><td></td></tr><tr><td>NaN</td><td></td><td></td></tr></tbody></table></div>"
      ]
     },
     "metadata": {
      "application/vnd.databricks.v1+output": {
       "addedWidgets": {},
       "aggData": [],
       "aggError": "",
       "aggOverflow": false,
       "aggSchema": [],
       "aggSeriesLimitReached": false,
       "aggType": "",
       "arguments": {},
       "columnCustomDisplayInfos": {},
       "data": [
        [
         "NaN",
         "",
         ""
        ],
        [
         "NaN",
         "",
         ""
        ],
        [
         "NaN",
         "",
         ""
        ],
        [
         "NaN",
         "",
         ""
        ],
        [
         "NaN",
         "Austria (0)",
         ""
        ],
        [
         "NaN",
         "England (0)",
         ""
        ],
        [
         "NaN",
         "",
         ""
        ],
        [
         "NaN",
         "",
         ""
        ],
        [
         "NaN",
         "",
         ""
        ],
        [
         "NaN",
         "",
         ""
        ],
        [
         "NaN",
         "",
         ""
        ],
        [
         "NaN",
         "",
         ""
        ],
        [
         "NaN",
         "Spain (0)",
         ""
        ],
        [
         "NaN",
         "Sweden (4)",
         ""
        ],
        [
         "NaN",
         "",
         ""
        ],
        [
         "NaN",
         "",
         ""
        ],
        [
         "NaN",
         "",
         ""
        ],
        [
         "NaN",
         "",
         ""
        ]
       ],
       "datasetInfos": [],
       "dbfsResultPath": null,
       "isJsonSchema": true,
       "metadata": {},
       "overflow": false,
       "plotOptions": {
        "customPlotOptions": {},
        "displayType": "table",
        "pivotAggregation": null,
        "pivotColumns": null,
        "xColumns": null,
        "yColumns": null
       },
       "removedWidgets": [],
       "schema": [
        {
         "metadata": "{}",
         "name": "Quater_Final",
         "type": "\"double\""
        },
        {
         "metadata": "{}",
         "name": "quarter_final",
         "type": "\"string\""
        },
        {
         "metadata": "{}",
         "name": "rest",
         "type": "\"string\""
        }
       ],
       "type": "table"
      }
     },
     "output_type": "display_data"
    },
    {
     "output_type": "display_data",
     "data": {
      "text/html": [
       "<style scoped>\n",
       "  .table-result-container {\n",
       "    max-height: 300px;\n",
       "    overflow: auto;\n",
       "  }\n",
       "  table, th, td {\n",
       "    border: 1px solid black;\n",
       "    border-collapse: collapse;\n",
       "  }\n",
       "  th, td {\n",
       "    padding: 5px;\n",
       "  }\n",
       "  th {\n",
       "    text-align: left;\n",
       "  }\n",
       "</style><div class='table-result-container'><table class='table-result'><thead style='background-color: white'><tr><th>Quater_Final</th><th>quarter_final</th><th>rest</th></tr></thead><tbody><tr><td>NaN</td><td></td><td></td></tr><tr><td>NaN</td><td></td><td></td></tr><tr><td>NaN</td><td></td><td></td></tr><tr><td>NaN</td><td></td><td></td></tr><tr><td>NaN</td><td>Finland (5)</td><td></td></tr><tr><td>NaN</td><td>Slovakia (3)</td><td></td></tr><tr><td>NaN</td><td></td><td></td></tr><tr><td>NaN</td><td></td><td></td></tr><tr><td>NaN</td><td></td><td></td></tr><tr><td>NaN</td><td></td><td></td></tr><tr><td>NaN</td><td></td><td></td></tr><tr><td>NaN</td><td></td><td></td></tr><tr><td>NaN</td><td>Germany (1)</td><td></td></tr><tr><td>NaN</td><td>Poland (3)</td><td></td></tr><tr><td>NaN</td><td></td><td></td></tr><tr><td>NaN</td><td></td><td></td></tr><tr><td>NaN</td><td></td><td></td></tr><tr><td>NaN</td><td></td><td></td></tr><tr><td>NaN</td><td></td><td></td></tr><tr><td>NaN</td><td></td><td></td></tr></tbody></table></div>"
      ]
     },
     "metadata": {
      "application/vnd.databricks.v1+output": {
       "addedWidgets": {},
       "aggData": [],
       "aggError": "",
       "aggOverflow": false,
       "aggSchema": [],
       "aggSeriesLimitReached": false,
       "aggType": "",
       "arguments": {},
       "columnCustomDisplayInfos": {},
       "data": [
        [
         "NaN",
         "",
         ""
        ],
        [
         "NaN",
         "",
         ""
        ],
        [
         "NaN",
         "",
         ""
        ],
        [
         "NaN",
         "",
         ""
        ],
        [
         "NaN",
         "Finland (5)",
         ""
        ],
        [
         "NaN",
         "Slovakia (3)",
         ""
        ],
        [
         "NaN",
         "",
         ""
        ],
        [
         "NaN",
         "",
         ""
        ],
        [
         "NaN",
         "",
         ""
        ],
        [
         "NaN",
         "",
         ""
        ],
        [
         "NaN",
         "",
         ""
        ],
        [
         "NaN",
         "",
         ""
        ],
        [
         "NaN",
         "Germany (1)",
         ""
        ],
        [
         "NaN",
         "Poland (3)",
         ""
        ],
        [
         "NaN",
         "",
         ""
        ],
        [
         "NaN",
         "",
         ""
        ],
        [
         "NaN",
         "",
         ""
        ],
        [
         "NaN",
         "",
         ""
        ],
        [
         "NaN",
         "",
         ""
        ],
        [
         "NaN",
         "",
         ""
        ]
       ],
       "datasetInfos": [],
       "dbfsResultPath": null,
       "isJsonSchema": true,
       "metadata": {},
       "overflow": false,
       "plotOptions": {
        "customPlotOptions": {},
        "displayType": "table",
        "pivotAggregation": null,
        "pivotColumns": null,
        "xColumns": null,
        "yColumns": null
       },
       "removedWidgets": [],
       "schema": [
        {
         "metadata": "{}",
         "name": "Quater_Final",
         "type": "\"double\""
        },
        {
         "metadata": "{}",
         "name": "quarter_final",
         "type": "\"string\""
        },
        {
         "metadata": "{}",
         "name": "rest",
         "type": "\"string\""
        }
       ],
       "type": "table"
      }
     },
     "output_type": "display_data"
    }
   ],
   "source": [
    "%python\n",
    "left_side_qf = pd.DataFrame(columns=['Quater_Final'])\n",
    "left_side_qf = pd.concat([left_side_qf,visualize_qf.iloc[:splited_qf_index]]).reset_index(drop=True)\n",
    "right_side_qf = pd.DataFrame(columns=['Quater_Final'])\n",
    "right_side_qf = pd.concat([right_side_qf,visualize_qf.iloc[splited_qf_index-2:]]).reset_index(drop=True)\n",
    "\n",
    "\n",
    "display(left_side_qf)\n",
    "display(right_side_qf)"
   ]
  },
  {
   "cell_type": "code",
   "execution_count": 0,
   "metadata": {
    "application/vnd.databricks.v1+cell": {
     "cellMetadata": {
      "byteLimit": 2048000,
      "rowLimit": 10000
     },
     "inputWidgets": {},
     "nuid": "6dbc8c0a-1732-4e39-900d-117f86c1c16f",
     "showTitle": false,
     "title": ""
    }
   },
   "outputs": [
    {
     "output_type": "stream",
     "name": "stdout",
     "output_type": "stream",
     "text": [
      "12\n"
     ]
    },
    {
     "output_type": "display_data",
     "data": {
      "text/html": [
       "<style scoped>\n",
       "  .table-result-container {\n",
       "    max-height: 300px;\n",
       "    overflow: auto;\n",
       "  }\n",
       "  table, th, td {\n",
       "    border: 1px solid black;\n",
       "    border-collapse: collapse;\n",
       "  }\n",
       "  th, td {\n",
       "    padding: 5px;\n",
       "  }\n",
       "  th {\n",
       "    text-align: left;\n",
       "  }\n",
       "</style><div class='table-result-container'><table class='table-result'><thead style='background-color: white'><tr><th>semi_final</th><th>rest</th></tr></thead><tbody><tr><td></td><td></td></tr><tr><td></td><td></td></tr><tr><td></td><td></td></tr><tr><td></td><td></td></tr><tr><td></td><td></td></tr><tr><td></td><td></td></tr><tr><td></td><td></td></tr><tr><td></td><td></td></tr><tr><td>Austria (2)</td><td></td></tr><tr><td>Poland (5)</td><td></td></tr><tr><td></td><td></td></tr><tr><td></td><td></td></tr><tr><td></td><td></td></tr><tr><td></td><td></td></tr><tr><td></td><td></td></tr><tr><td></td><td></td></tr><tr><td>Finland (5)</td><td></td></tr><tr><td>Poland (4)</td><td></td></tr><tr><td></td><td></td></tr><tr><td></td><td></td></tr><tr><td></td><td></td></tr><tr><td></td><td></td></tr><tr><td></td><td></td></tr><tr><td></td><td></td></tr></tbody></table></div>"
      ]
     },
     "metadata": {
      "application/vnd.databricks.v1+output": {
       "addedWidgets": {},
       "aggData": [],
       "aggError": "",
       "aggOverflow": false,
       "aggSchema": [],
       "aggSeriesLimitReached": false,
       "aggType": "",
       "arguments": {},
       "columnCustomDisplayInfos": {},
       "data": [
        [
         "",
         ""
        ],
        [
         "",
         ""
        ],
        [
         "",
         ""
        ],
        [
         "",
         ""
        ],
        [
         "",
         ""
        ],
        [
         "",
         ""
        ],
        [
         "",
         ""
        ],
        [
         "",
         ""
        ],
        [
         "Austria (2)",
         ""
        ],
        [
         "Poland (5)",
         ""
        ],
        [
         "",
         ""
        ],
        [
         "",
         ""
        ],
        [
         "",
         ""
        ],
        [
         "",
         ""
        ],
        [
         "",
         ""
        ],
        [
         "",
         ""
        ],
        [
         "Finland (5)",
         ""
        ],
        [
         "Poland (4)",
         ""
        ],
        [
         "",
         ""
        ],
        [
         "",
         ""
        ],
        [
         "",
         ""
        ],
        [
         "",
         ""
        ],
        [
         "",
         ""
        ],
        [
         "",
         ""
        ]
       ],
       "datasetInfos": [],
       "dbfsResultPath": null,
       "isJsonSchema": true,
       "metadata": {},
       "overflow": false,
       "plotOptions": {
        "customPlotOptions": {},
        "displayType": "table",
        "pivotAggregation": null,
        "pivotColumns": null,
        "xColumns": null,
        "yColumns": null
       },
       "removedWidgets": [],
       "schema": [
        {
         "metadata": "{}",
         "name": "semi_final",
         "type": "\"string\""
        },
        {
         "metadata": "{}",
         "name": "rest",
         "type": "\"string\""
        }
       ],
       "type": "table"
      }
     },
     "output_type": "display_data"
    }
   ],
   "source": [
    "%python\n",
    "\n",
    "import pandas as pd\n",
    "\n",
    "visualize_sf = pd.DataFrame(columns=['semi_final'])\n",
    "\n",
    "for _ in range(8):\n",
    "    visualize_sf = pd.concat([visualize_sf, pd.DataFrame({'semi_final': ['']})], ignore_index=True)\n",
    "\n",
    "for index, row in semi_final_df.iterrows():\n",
    "    visualize_sf = pd.concat([visualize_sf, pd.DataFrame({'semi_final': [f\"{row['home_country']} ({row['home_country_goal']})\"]})], ignore_index=True)\n",
    "    visualize_sf = pd.concat([visualize_sf, pd.DataFrame({'semi_final': [f\"{row['away_country']} ({row['away_country_goal']})\"]})], ignore_index=True)\n",
    "    for _ in range(6):\n",
    "        visualize_sf = pd.concat([visualize_sf, pd.DataFrame({'semi_final': ['']})], ignore_index=True)\n",
    "visualize_sf['rest'] = ''\n",
    "splited_sf_index = len(visualize_sf) // 2\n",
    "print(splited_sf_index)\n",
    "display(visualize_sf)"
   ]
  },
  {
   "cell_type": "code",
   "execution_count": 0,
   "metadata": {
    "application/vnd.databricks.v1+cell": {
     "cellMetadata": {
      "byteLimit": 2048000,
      "rowLimit": 10000
     },
     "inputWidgets": {},
     "nuid": "abc65497-25ce-4d21-9589-7d4321fd4fd5",
     "showTitle": false,
     "title": ""
    }
   },
   "outputs": [
    {
     "output_type": "display_data",
     "data": {
      "text/html": [
       "<style scoped>\n",
       "  .table-result-container {\n",
       "    max-height: 300px;\n",
       "    overflow: auto;\n",
       "  }\n",
       "  table, th, td {\n",
       "    border: 1px solid black;\n",
       "    border-collapse: collapse;\n",
       "  }\n",
       "  th, td {\n",
       "    padding: 5px;\n",
       "  }\n",
       "  th {\n",
       "    text-align: left;\n",
       "  }\n",
       "</style><div class='table-result-container'><table class='table-result'><thead style='background-color: white'><tr><th>Semi_Final</th><th>semi_final</th><th>rest</th></tr></thead><tbody><tr><td>NaN</td><td></td><td></td></tr><tr><td>NaN</td><td></td><td></td></tr><tr><td>NaN</td><td></td><td></td></tr><tr><td>NaN</td><td></td><td></td></tr><tr><td>NaN</td><td></td><td></td></tr><tr><td>NaN</td><td></td><td></td></tr><tr><td>NaN</td><td></td><td></td></tr><tr><td>NaN</td><td></td><td></td></tr><tr><td>NaN</td><td>Austria (2)</td><td></td></tr><tr><td>NaN</td><td>Poland (5)</td><td></td></tr><tr><td>NaN</td><td></td><td></td></tr><tr><td>NaN</td><td></td><td></td></tr><tr><td></td><td>NaN</td><td></td></tr><tr><td></td><td>NaN</td><td></td></tr><tr><td></td><td>NaN</td><td></td></tr><tr><td></td><td>NaN</td><td></td></tr><tr><td></td><td>NaN</td><td></td></tr></tbody></table></div>"
      ]
     },
     "metadata": {
      "application/vnd.databricks.v1+output": {
       "addedWidgets": {},
       "aggData": [],
       "aggError": "",
       "aggOverflow": false,
       "aggSchema": [],
       "aggSeriesLimitReached": false,
       "aggType": "",
       "arguments": {},
       "columnCustomDisplayInfos": {},
       "data": [
        [
         "NaN",
         "",
         ""
        ],
        [
         "NaN",
         "",
         ""
        ],
        [
         "NaN",
         "",
         ""
        ],
        [
         "NaN",
         "",
         ""
        ],
        [
         "NaN",
         "",
         ""
        ],
        [
         "NaN",
         "",
         ""
        ],
        [
         "NaN",
         "",
         ""
        ],
        [
         "NaN",
         "",
         ""
        ],
        [
         "NaN",
         "Austria (2)",
         ""
        ],
        [
         "NaN",
         "Poland (5)",
         ""
        ],
        [
         "NaN",
         "",
         ""
        ],
        [
         "NaN",
         "",
         ""
        ],
        [
         "",
         "NaN",
         ""
        ],
        [
         "",
         "NaN",
         ""
        ],
        [
         "",
         "NaN",
         ""
        ],
        [
         "",
         "NaN",
         ""
        ],
        [
         "",
         "NaN",
         ""
        ]
       ],
       "datasetInfos": [],
       "dbfsResultPath": null,
       "isJsonSchema": true,
       "metadata": {},
       "overflow": false,
       "plotOptions": {
        "customPlotOptions": {},
        "displayType": "table",
        "pivotAggregation": null,
        "pivotColumns": null,
        "xColumns": null,
        "yColumns": null
       },
       "removedWidgets": [],
       "schema": [
        {
         "metadata": "{}",
         "name": "Semi_Final",
         "type": "\"string\""
        },
        {
         "metadata": "{}",
         "name": "semi_final",
         "type": "\"string\""
        },
        {
         "metadata": "{}",
         "name": "rest",
         "type": "\"string\""
        }
       ],
       "type": "table"
      }
     },
     "output_type": "display_data"
    },
    {
     "output_type": "display_data",
     "data": {
      "text/html": [
       "<style scoped>\n",
       "  .table-result-container {\n",
       "    max-height: 300px;\n",
       "    overflow: auto;\n",
       "  }\n",
       "  table, th, td {\n",
       "    border: 1px solid black;\n",
       "    border-collapse: collapse;\n",
       "  }\n",
       "  th, td {\n",
       "    padding: 5px;\n",
       "  }\n",
       "  th {\n",
       "    text-align: left;\n",
       "  }\n",
       "</style><div class='table-result-container'><table class='table-result'><thead style='background-color: white'><tr><th>Semi_Final</th><th>rest</th><th>semi_final</th></tr></thead><tbody><tr><td></td><td></td><td>NaN</td></tr><tr><td></td><td></td><td>NaN</td></tr><tr><td></td><td></td><td>NaN</td></tr><tr><td></td><td></td><td>NaN</td></tr><tr><td></td><td></td><td>NaN</td></tr><tr><td></td><td></td><td>NaN</td></tr><tr><td></td><td></td><td>NaN</td></tr><tr><td>NaN</td><td></td><td></td></tr><tr><td>NaN</td><td></td><td></td></tr><tr><td>NaN</td><td></td><td></td></tr><tr><td>NaN</td><td></td><td></td></tr><tr><td>NaN</td><td></td><td>Finland (5)</td></tr><tr><td>NaN</td><td></td><td>Poland (4)</td></tr><tr><td>NaN</td><td></td><td></td></tr><tr><td>NaN</td><td></td><td></td></tr><tr><td>NaN</td><td></td><td></td></tr><tr><td>NaN</td><td></td><td></td></tr><tr><td>NaN</td><td></td><td></td></tr><tr><td>NaN</td><td></td><td></td></tr></tbody></table></div>"
      ]
     },
     "metadata": {
      "application/vnd.databricks.v1+output": {
       "addedWidgets": {},
       "aggData": [],
       "aggError": "",
       "aggOverflow": false,
       "aggSchema": [],
       "aggSeriesLimitReached": false,
       "aggType": "",
       "arguments": {},
       "columnCustomDisplayInfos": {},
       "data": [
        [
         "",
         "",
         "NaN"
        ],
        [
         "",
         "",
         "NaN"
        ],
        [
         "",
         "",
         "NaN"
        ],
        [
         "",
         "",
         "NaN"
        ],
        [
         "",
         "",
         "NaN"
        ],
        [
         "",
         "",
         "NaN"
        ],
        [
         "",
         "",
         "NaN"
        ],
        [
         "NaN",
         "",
         ""
        ],
        [
         "NaN",
         "",
         ""
        ],
        [
         "NaN",
         "",
         ""
        ],
        [
         "NaN",
         "",
         ""
        ],
        [
         "NaN",
         "",
         "Finland (5)"
        ],
        [
         "NaN",
         "",
         "Poland (4)"
        ],
        [
         "NaN",
         "",
         ""
        ],
        [
         "NaN",
         "",
         ""
        ],
        [
         "NaN",
         "",
         ""
        ],
        [
         "NaN",
         "",
         ""
        ],
        [
         "NaN",
         "",
         ""
        ],
        [
         "NaN",
         "",
         ""
        ]
       ],
       "datasetInfos": [],
       "dbfsResultPath": null,
       "isJsonSchema": true,
       "metadata": {},
       "overflow": false,
       "plotOptions": {
        "customPlotOptions": {},
        "displayType": "table",
        "pivotAggregation": null,
        "pivotColumns": null,
        "xColumns": null,
        "yColumns": null
       },
       "removedWidgets": [],
       "schema": [
        {
         "metadata": "{}",
         "name": "Semi_Final",
         "type": "\"string\""
        },
        {
         "metadata": "{}",
         "name": "rest",
         "type": "\"string\""
        },
        {
         "metadata": "{}",
         "name": "semi_final",
         "type": "\"string\""
        }
       ],
       "type": "table"
      }
     },
     "output_type": "display_data"
    }
   ],
   "source": [
    "%python\n",
    "left_side_sf = pd.DataFrame(columns=['Semi_Final'])\n",
    "left_side_sf = pd.concat([left_side_sf, visualize_sf.iloc[:splited_sf_index]]).reset_index(drop=True)\n",
    "\n",
    "for _ in range(5):\n",
    "    left_side_sf = pd.concat([left_side_sf, pd.DataFrame({'Semi_Final': [''], 'rest': ['']})], ignore_index=True)\n",
    "\n",
    "right_side_sf = pd.DataFrame({'Semi_Final': [''] * 7, 'rest': [''] * 7})\n",
    "right_side_sf = pd.concat([right_side_sf, visualize_sf.iloc[splited_sf_index:]]).reset_index(drop=True)\n",
    "\n",
    "display(left_side_sf)\n",
    "display(right_side_sf)"
   ]
  },
  {
   "cell_type": "code",
   "execution_count": 0,
   "metadata": {
    "application/vnd.databricks.v1+cell": {
     "cellMetadata": {
      "byteLimit": 2048000,
      "rowLimit": 10000
     },
     "inputWidgets": {},
     "nuid": "93fd086a-6209-4162-8297-fdb40711dbf0",
     "showTitle": false,
     "title": ""
    }
   },
   "outputs": [
    {
     "output_type": "display_data",
     "data": {
      "text/html": [
       "<style scoped>\n",
       "  .table-result-container {\n",
       "    max-height: 300px;\n",
       "    overflow: auto;\n",
       "  }\n",
       "  table, th, td {\n",
       "    border: 1px solid black;\n",
       "    border-collapse: collapse;\n",
       "  }\n",
       "  th, td {\n",
       "    padding: 5px;\n",
       "  }\n",
       "  th {\n",
       "    text-align: left;\n",
       "  }\n",
       "</style><div class='table-result-container'><table class='table-result'><thead style='background-color: white'><tr><th>Final</th><th>space</th></tr></thead><tbody><tr><td></td><td></td></tr><tr><td></td><td></td></tr><tr><td></td><td></td></tr><tr><td></td><td></td></tr><tr><td></td><td></td></tr><tr><td></td><td></td></tr><tr><td>Sweden (0)</td><td></td></tr><tr><td>Finland (5)</td><td></td></tr><tr><td></td><td></td></tr><tr><td></td><td></td></tr></tbody></table></div>"
      ]
     },
     "metadata": {
      "application/vnd.databricks.v1+output": {
       "addedWidgets": {},
       "aggData": [],
       "aggError": "",
       "aggOverflow": false,
       "aggSchema": [],
       "aggSeriesLimitReached": false,
       "aggType": "",
       "arguments": {},
       "columnCustomDisplayInfos": {},
       "data": [
        [
         "",
         ""
        ],
        [
         "",
         ""
        ],
        [
         "",
         ""
        ],
        [
         "",
         ""
        ],
        [
         "",
         ""
        ],
        [
         "",
         ""
        ],
        [
         "Sweden (0)",
         ""
        ],
        [
         "Finland (5)",
         ""
        ],
        [
         "",
         ""
        ],
        [
         "",
         ""
        ]
       ],
       "datasetInfos": [],
       "dbfsResultPath": null,
       "isJsonSchema": true,
       "metadata": {},
       "overflow": false,
       "plotOptions": {
        "customPlotOptions": {},
        "displayType": "table",
        "pivotAggregation": null,
        "pivotColumns": null,
        "xColumns": null,
        "yColumns": null
       },
       "removedWidgets": [],
       "schema": [
        {
         "metadata": "{}",
         "name": "Final",
         "type": "\"string\""
        },
        {
         "metadata": "{}",
         "name": "space",
         "type": "\"string\""
        }
       ],
       "type": "table"
      }
     },
     "output_type": "display_data"
    }
   ],
   "source": [
    "%python\n",
    "\n",
    "visualize_final = pd.DataFrame(columns=['Final'])\n",
    "for _ in range(6):\n",
    "    visualize_final = pd.concat([visualize_final, pd.DataFrame({'Final': ['']})], ignore_index=True)\n",
    "\n",
    "for index,row in final_df.iterrows():\n",
    "    visualize_final = pd.concat([visualize_final, pd.DataFrame({'Final': [f\"{row['home_country']} ({row['home_country_goal']})\"]})], ignore_index=True)\n",
    "    visualize_final = pd.concat([visualize_final, pd.DataFrame({'Final': [f\"{row['away_country']} ({row['away_country_goal']})\"]})], ignore_index=True)\n",
    "\n",
    "    if (index + 1) %2 == 0:\n",
    "        visualize_final = pd.concat([visualize_final, pd.DataFrame({'Final': ['']})], ignore_index=True)\n",
    "        visualize_final = pd.concat([visualize_final, pd.DataFrame({'Final': ['']})], ignore_index=True)\n",
    "    for _ in range(2):\n",
    "        visualize_final = pd.concat([visualize_final, pd.DataFrame({'Final': ['']})], ignore_index=True)\n",
    "visualize_final['space'] = ''\n",
    "display(visualize_final)"
   ]
  },
  {
   "cell_type": "code",
   "execution_count": 0,
   "metadata": {
    "application/vnd.databricks.v1+cell": {
     "cellMetadata": {
      "byteLimit": 2048000,
      "rowLimit": 10000
     },
     "inputWidgets": {},
     "nuid": "9e0c12fc-4f66-4131-85b5-cdb1ed27c944",
     "showTitle": false,
     "title": ""
    }
   },
   "outputs": [
    {
     "output_type": "display_data",
     "data": {
      "text/html": [
       "<style scoped>\n",
       "  .table-result-container {\n",
       "    max-height: 300px;\n",
       "    overflow: auto;\n",
       "  }\n",
       "  table, th, td {\n",
       "    border: 1px solid black;\n",
       "    border-collapse: collapse;\n",
       "  }\n",
       "  th, td {\n",
       "    padding: 5px;\n",
       "  }\n",
       "  th {\n",
       "    text-align: left;\n",
       "  }\n",
       "</style><div class='table-result-container'><table class='table-result'><thead style='background-color: white'><tr><th>Teamsg1g1</th><th>Groupg1g1</th><th>Wg1g1</th><th>Dg1g1</th><th>Lg1g1</th><th>GFg1g1</th><th>GAg1g1</th><th>GDg1g1</th><th>Ptsg1g1</th><th>Round_of_16</th><th>rest</th><th>Quater_Finalq2q2</th><th>quarter_finalq2q2</th><th>restq2q2</th><th>Semi_Finals1s1</th><th>semi_finals1s1</th><th>rests1s1</th><th>Finalff</th><th>spaceff</th><th>Semi_Finals2s2</th><th>rests2s2</th><th>semi_finals2s2</th><th>Quater_Finalq1q1</th><th>quarter_finalq1q1</th><th>restq1q1</th><th>Round_of_16r2r2</th><th>restr2r2</th><th>Teamsg2g2</th><th>Groupg2g2</th><th>Wg2g2</th><th>Dg2g2</th><th>Lg2g2</th><th>GFg2g2</th><th>GAg2g2</th><th>GDg2g2</th><th>Ptsg2g2</th></tr></thead><tbody><tr><td></td><td></td><td></td><td></td><td></td><td></td><td></td><td></td><td></td><td></td><td></td><td></td><td></td><td></td><td></td><td></td><td></td><td></td><td></td><td></td><td></td><td></td><td></td><td></td><td></td><td></td><td></td><td></td><td></td><td></td><td></td><td></td><td></td><td></td><td></td><td></td></tr><tr><td>Belgium</td><td>A</td><td>2</td><td>1</td><td>0</td><td>13</td><td>10</td><td>3</td><td>7</td><td></td><td></td><td></td><td></td><td></td><td></td><td></td><td></td><td></td><td></td><td></td><td></td><td></td><td></td><td></td><td></td><td></td><td></td><td>Ukraine</td><td>D</td><td>2</td><td>1</td><td>0</td><td>13</td><td>8</td><td>5</td><td>7</td></tr><tr><td>France</td><td>A</td><td>1</td><td>1</td><td>1</td><td>11</td><td>8</td><td>3</td><td>4</td><td>Spain (2)</td><td></td><td></td><td></td><td></td><td></td><td></td><td></td><td></td><td></td><td></td><td></td><td></td><td></td><td></td><td></td><td>Czech Republic (1)</td><td></td><td>Poland</td><td>D</td><td>1</td><td>2</td><td>0</td><td>11</td><td>7</td><td>4</td><td>5</td></tr><tr><td>Italy</td><td>A</td><td>1</td><td>0</td><td>2</td><td>9</td><td>14</td><td>-5</td><td>3</td><td>Portugal (0)</td><td></td><td></td><td></td><td></td><td></td><td></td><td></td><td></td><td></td><td></td><td></td><td></td><td></td><td></td><td></td><td>Germany (2)</td><td></td><td>Sweden</td><td>D</td><td>1</td><td>1</td><td>1</td><td>9</td><td>7</td><td>2</td><td>4</td></tr><tr><td>Portugal</td><td>A</td><td>1</td><td>0</td><td>2</td><td>10</td><td>11</td><td>-1</td><td>3</td><td></td><td></td><td></td><td>Austria (0)</td><td></td><td></td><td></td><td></td><td></td><td></td><td></td><td></td><td></td><td></td><td>Finland (5)</td><td></td><td></td><td></td><td>Croatia</td><td>D</td><td>0</td><td>0</td><td>3</td><td>4</td><td>15</td><td>-11</td><td>0</td></tr><tr><td></td><td></td><td></td><td></td><td></td><td></td><td></td><td></td><td></td><td></td><td></td><td></td><td>England (0)</td><td></td><td></td><td></td><td></td><td></td><td></td><td></td><td></td><td></td><td></td><td>Slovakia (3)</td><td></td><td></td><td></td><td></td><td></td><td></td><td></td><td></td><td></td><td></td><td></td><td></td></tr><tr><td>Spain</td><td>B</td><td>2</td><td>0</td><td>1</td><td>14</td><td>10</td><td>4</td><td>6</td><td>Belgium (0)</td><td></td><td></td><td></td><td></td><td></td><td></td><td></td><td>Sweden (0)</td><td></td><td></td><td></td><td></td><td></td><td></td><td></td><td>Poland (2)</td><td></td><td>Czech Republic</td><td>E</td><td>2</td><td>0</td><td>1</td><td>10</td><td>6</td><td>4</td><td>6</td></tr><tr><td>England</td><td>B</td><td>2</td><td>0</td><td>1</td><td>10</td><td>11</td><td>-1</td><td>6</td><td>Austria (3)</td><td></td><td></td><td></td><td></td><td></td><td></td><td></td><td>Finland (5)</td><td></td><td></td><td></td><td></td><td></td><td></td><td></td><td>Scotland (2)</td><td></td><td>Slovakia</td><td>E</td><td>2</td><td>0</td><td>1</td><td>8</td><td>8</td><td>0</td><td>6</td></tr><tr><td>Netherlands</td><td>B</td><td>1</td><td>0</td><td>2</td><td>8</td><td>12</td><td>-4</td><td>3</td><td></td><td></td><td></td><td></td><td></td><td></td><td>Austria (2)</td><td></td><td></td><td></td><td></td><td></td><td></td><td></td><td></td><td></td><td></td><td></td><td>Wales</td><td>E</td><td>1</td><td>0</td><td>2</td><td>7</td><td>11</td><td>-4</td><td>3</td></tr><tr><td>Germany</td><td>B</td><td>1</td><td>0</td><td>2</td><td>12</td><td>11</td><td>1</td><td>3</td><td></td><td></td><td></td><td></td><td></td><td></td><td>Poland (5)</td><td></td><td></td><td></td><td></td><td></td><td></td><td></td><td></td><td></td><td></td><td></td><td>Hungary</td><td>E</td><td>1</td><td>0</td><td>2</td><td>11</td><td>11</td><td>0</td><td>3</td></tr><tr><td></td><td></td><td></td><td></td><td></td><td></td><td></td><td></td><td></td><td>Finland (3)</td><td></td><td></td><td></td><td></td><td></td><td></td><td></td><td></td><td></td><td></td><td></td><td></td><td></td><td></td><td></td><td>Denmark (2)</td><td></td><td></td><td></td><td></td><td></td><td></td><td></td><td></td><td></td><td></td></tr><tr><td>Denmark</td><td>C</td><td>3</td><td>0</td><td>0</td><td>13</td><td>5</td><td>8</td><td>9</td><td>Turkey (0)</td><td></td><td></td><td></td><td></td><td></td><td></td><td></td><td></td><td></td><td></td><td></td><td>Finland (5)</td><td></td><td></td><td></td><td>Sweden (4)</td><td></td><td>Finland</td><td>F</td><td>2</td><td>1</td><td>0</td><td>11</td><td>7</td><td>4</td><td>7</td></tr><tr><td>Austria</td><td>C</td><td>1</td><td>1</td><td>1</td><td>15</td><td>16</td><td>-1</td><td>4</td><td></td><td></td><td></td><td>Spain (0)</td><td></td><td></td><td></td><td></td><td></td><td></td><td></td><td></td><td>Poland (4)</td><td></td><td>Germany (1)</td><td></td><td></td><td></td><td>North Macedonia</td><td>F</td><td>1</td><td>1</td><td>1</td><td>11</td><td>12</td><td>-1</td><td>4</td></tr><tr><td>Turkey</td><td>C</td><td>1</td><td>0</td><td>2</td><td>12</td><td>12</td><td>0</td><td>3</td><td></td><td></td><td></td><td>Sweden (4)</td><td></td><td></td><td></td><td></td><td></td><td></td><td></td><td></td><td></td><td></td><td>Poland (3)</td><td></td><td></td><td></td><td>Scotland</td><td>F</td><td>1</td><td>1</td><td>1</td><td>14</td><td>15</td><td>-1</td><td>4</td></tr><tr><td>Switzerland</td><td>C</td><td>0</td><td>1</td><td>2</td><td>11</td><td>18</td><td>-7</td><td>1</td><td>Poland (1)</td><td></td><td></td><td></td><td></td><td></td><td></td><td></td><td></td><td></td><td></td><td></td><td></td><td></td><td></td><td></td><td>France (0)</td><td></td><td>Russia</td><td>F</td><td>0</td><td>1</td><td>2</td><td>11</td><td>13</td><td>-2</td><td>1</td></tr><tr><td></td><td></td><td></td><td></td><td></td><td></td><td></td><td></td><td></td><td>Slovakia (1)</td><td></td><td></td><td></td><td></td><td></td><td></td><td></td><td></td><td></td><td></td><td></td><td></td><td></td><td></td><td></td><td>England (5)</td><td></td><td></td><td></td><td></td><td></td><td></td><td></td><td></td><td></td><td></td></tr><tr><td></td><td></td><td></td><td></td><td></td><td></td><td></td><td></td><td></td><td></td><td></td><td></td><td></td><td></td><td></td><td></td><td></td><td></td><td></td><td></td><td></td><td></td><td></td><td></td><td></td><td></td><td></td><td></td><td></td><td></td><td></td><td></td><td></td><td></td><td></td><td></td></tr><tr><td></td><td></td><td></td><td></td><td></td><td></td><td></td><td></td><td></td><td></td><td></td><td></td><td></td><td></td><td></td><td></td><td></td><td></td><td></td><td></td><td></td><td></td><td></td><td></td><td></td><td></td><td></td><td></td><td></td><td></td><td></td><td></td><td></td><td></td><td></td><td></td></tr><tr><td></td><td></td><td></td><td></td><td></td><td></td><td></td><td></td><td></td><td></td><td></td><td></td><td></td><td></td><td></td><td></td><td></td><td></td><td></td><td></td><td></td><td></td><td></td><td></td><td></td><td></td><td></td><td></td><td></td><td></td><td></td><td></td><td></td><td></td><td></td><td></td></tr><tr><td></td><td></td><td></td><td></td><td></td><td></td><td></td><td></td><td></td><td></td><td></td><td></td><td></td><td></td><td></td><td></td><td></td><td></td><td></td><td></td><td></td><td></td><td></td><td></td><td></td><td></td><td></td><td></td><td></td><td></td><td></td><td></td><td></td><td></td><td></td><td></td></tr></tbody></table></div>"
      ]
     },
     "metadata": {
      "application/vnd.databricks.v1+output": {
       "addedWidgets": {},
       "aggData": [],
       "aggError": "",
       "aggOverflow": false,
       "aggSchema": [],
       "aggSeriesLimitReached": false,
       "aggType": "",
       "arguments": {},
       "columnCustomDisplayInfos": {},
       "data": [
        [
         "",
         "",
         "",
         "",
         "",
         "",
         "",
         "",
         "",
         "",
         "",
         "",
         "",
         "",
         "",
         "",
         "",
         "",
         "",
         "",
         "",
         "",
         "",
         "",
         "",
         "",
         "",
         "",
         "",
         "",
         "",
         "",
         "",
         "",
         "",
         ""
        ],
        [
         "Belgium",
         "A",
         "2",
         "1",
         "0",
         "13",
         "10",
         "3",
         "7",
         "",
         "",
         "",
         "",
         "",
         "",
         "",
         "",
         "",
         "",
         "",
         "",
         "",
         "",
         "",
         "",
         "",
         "",
         "Ukraine",
         "D",
         "2",
         "1",
         "0",
         "13",
         "8",
         "5",
         "7"
        ],
        [
         "France",
         "A",
         "1",
         "1",
         "1",
         "11",
         "8",
         "3",
         "4",
         "Spain (2)",
         "",
         "",
         "",
         "",
         "",
         "",
         "",
         "",
         "",
         "",
         "",
         "",
         "",
         "",
         "",
         "Czech Republic (1)",
         "",
         "Poland",
         "D",
         "1",
         "2",
         "0",
         "11",
         "7",
         "4",
         "5"
        ],
        [
         "Italy",
         "A",
         "1",
         "0",
         "2",
         "9",
         "14",
         "-5",
         "3",
         "Portugal (0)",
         "",
         "",
         "",
         "",
         "",
         "",
         "",
         "",
         "",
         "",
         "",
         "",
         "",
         "",
         "",
         "Germany (2)",
         "",
         "Sweden",
         "D",
         "1",
         "1",
         "1",
         "9",
         "7",
         "2",
         "4"
        ],
        [
         "Portugal",
         "A",
         "1",
         "0",
         "2",
         "10",
         "11",
         "-1",
         "3",
         "",
         "",
         "",
         "Austria (0)",
         "",
         "",
         "",
         "",
         "",
         "",
         "",
         "",
         "",
         "",
         "Finland (5)",
         "",
         "",
         "",
         "Croatia",
         "D",
         "0",
         "0",
         "3",
         "4",
         "15",
         "-11",
         "0"
        ],
        [
         "",
         "",
         "",
         "",
         "",
         "",
         "",
         "",
         "",
         "",
         "",
         "",
         "England (0)",
         "",
         "",
         "",
         "",
         "",
         "",
         "",
         "",
         "",
         "",
         "Slovakia (3)",
         "",
         "",
         "",
         "",
         "",
         "",
         "",
         "",
         "",
         "",
         "",
         ""
        ],
        [
         "Spain",
         "B",
         "2",
         "0",
         "1",
         "14",
         "10",
         "4",
         "6",
         "Belgium (0)",
         "",
         "",
         "",
         "",
         "",
         "",
         "",
         "Sweden (0)",
         "",
         "",
         "",
         "",
         "",
         "",
         "",
         "Poland (2)",
         "",
         "Czech Republic",
         "E",
         "2",
         "0",
         "1",
         "10",
         "6",
         "4",
         "6"
        ],
        [
         "England",
         "B",
         "2",
         "0",
         "1",
         "10",
         "11",
         "-1",
         "6",
         "Austria (3)",
         "",
         "",
         "",
         "",
         "",
         "",
         "",
         "Finland (5)",
         "",
         "",
         "",
         "",
         "",
         "",
         "",
         "Scotland (2)",
         "",
         "Slovakia",
         "E",
         "2",
         "0",
         "1",
         "8",
         "8",
         "0",
         "6"
        ],
        [
         "Netherlands",
         "B",
         "1",
         "0",
         "2",
         "8",
         "12",
         "-4",
         "3",
         "",
         "",
         "",
         "",
         "",
         "",
         "Austria (2)",
         "",
         "",
         "",
         "",
         "",
         "",
         "",
         "",
         "",
         "",
         "",
         "Wales",
         "E",
         "1",
         "0",
         "2",
         "7",
         "11",
         "-4",
         "3"
        ],
        [
         "Germany",
         "B",
         "1",
         "0",
         "2",
         "12",
         "11",
         "1",
         "3",
         "",
         "",
         "",
         "",
         "",
         "",
         "Poland (5)",
         "",
         "",
         "",
         "",
         "",
         "",
         "",
         "",
         "",
         "",
         "",
         "Hungary",
         "E",
         "1",
         "0",
         "2",
         "11",
         "11",
         "0",
         "3"
        ],
        [
         "",
         "",
         "",
         "",
         "",
         "",
         "",
         "",
         "",
         "Finland (3)",
         "",
         "",
         "",
         "",
         "",
         "",
         "",
         "",
         "",
         "",
         "",
         "",
         "",
         "",
         "",
         "Denmark (2)",
         "",
         "",
         "",
         "",
         "",
         "",
         "",
         "",
         "",
         ""
        ],
        [
         "Denmark",
         "C",
         "3",
         "0",
         "0",
         "13",
         "5",
         "8",
         "9",
         "Turkey (0)",
         "",
         "",
         "",
         "",
         "",
         "",
         "",
         "",
         "",
         "",
         "",
         "Finland (5)",
         "",
         "",
         "",
         "Sweden (4)",
         "",
         "Finland",
         "F",
         "2",
         "1",
         "0",
         "11",
         "7",
         "4",
         "7"
        ],
        [
         "Austria",
         "C",
         "1",
         "1",
         "1",
         "15",
         "16",
         "-1",
         "4",
         "",
         "",
         "",
         "Spain (0)",
         "",
         "",
         "",
         "",
         "",
         "",
         "",
         "",
         "Poland (4)",
         "",
         "Germany (1)",
         "",
         "",
         "",
         "North Macedonia",
         "F",
         "1",
         "1",
         "1",
         "11",
         "12",
         "-1",
         "4"
        ],
        [
         "Turkey",
         "C",
         "1",
         "0",
         "2",
         "12",
         "12",
         "0",
         "3",
         "",
         "",
         "",
         "Sweden (4)",
         "",
         "",
         "",
         "",
         "",
         "",
         "",
         "",
         "",
         "",
         "Poland (3)",
         "",
         "",
         "",
         "Scotland",
         "F",
         "1",
         "1",
         "1",
         "14",
         "15",
         "-1",
         "4"
        ],
        [
         "Switzerland",
         "C",
         "0",
         "1",
         "2",
         "11",
         "18",
         "-7",
         "1",
         "Poland (1)",
         "",
         "",
         "",
         "",
         "",
         "",
         "",
         "",
         "",
         "",
         "",
         "",
         "",
         "",
         "",
         "France (0)",
         "",
         "Russia",
         "F",
         "0",
         "1",
         "2",
         "11",
         "13",
         "-2",
         "1"
        ],
        [
         "",
         "",
         "",
         "",
         "",
         "",
         "",
         "",
         "",
         "Slovakia (1)",
         "",
         "",
         "",
         "",
         "",
         "",
         "",
         "",
         "",
         "",
         "",
         "",
         "",
         "",
         "",
         "England (5)",
         "",
         "",
         "",
         "",
         "",
         "",
         "",
         "",
         "",
         ""
        ],
        [
         "",
         "",
         "",
         "",
         "",
         "",
         "",
         "",
         "",
         "",
         "",
         "",
         "",
         "",
         "",
         "",
         "",
         "",
         "",
         "",
         "",
         "",
         "",
         "",
         "",
         "",
         "",
         "",
         "",
         "",
         "",
         "",
         "",
         "",
         "",
         ""
        ],
        [
         "",
         "",
         "",
         "",
         "",
         "",
         "",
         "",
         "",
         "",
         "",
         "",
         "",
         "",
         "",
         "",
         "",
         "",
         "",
         "",
         "",
         "",
         "",
         "",
         "",
         "",
         "",
         "",
         "",
         "",
         "",
         "",
         "",
         "",
         "",
         ""
        ],
        [
         "",
         "",
         "",
         "",
         "",
         "",
         "",
         "",
         "",
         "",
         "",
         "",
         "",
         "",
         "",
         "",
         "",
         "",
         "",
         "",
         "",
         "",
         "",
         "",
         "",
         "",
         "",
         "",
         "",
         "",
         "",
         "",
         "",
         "",
         "",
         ""
        ],
        [
         "",
         "",
         "",
         "",
         "",
         "",
         "",
         "",
         "",
         "",
         "",
         "",
         "",
         "",
         "",
         "",
         "",
         "",
         "",
         "",
         "",
         "",
         "",
         "",
         "",
         "",
         "",
         "",
         "",
         "",
         "",
         "",
         "",
         "",
         "",
         ""
        ]
       ],
       "datasetInfos": [],
       "dbfsResultPath": null,
       "isJsonSchema": true,
       "metadata": {},
       "overflow": false,
       "plotOptions": {
        "customPlotOptions": {},
        "displayType": "table",
        "pivotAggregation": null,
        "pivotColumns": null,
        "xColumns": null,
        "yColumns": null
       },
       "removedWidgets": [],
       "schema": [
        {
         "metadata": "{}",
         "name": "Teamsg1g1",
         "type": "\"string\""
        },
        {
         "metadata": "{}",
         "name": "Groupg1g1",
         "type": "\"string\""
        },
        {
         "metadata": "{}",
         "name": "Wg1g1",
         "type": "\"string\""
        },
        {
         "metadata": "{}",
         "name": "Dg1g1",
         "type": "\"string\""
        },
        {
         "metadata": "{}",
         "name": "Lg1g1",
         "type": "\"string\""
        },
        {
         "metadata": "{}",
         "name": "GFg1g1",
         "type": "\"string\""
        },
        {
         "metadata": "{}",
         "name": "GAg1g1",
         "type": "\"string\""
        },
        {
         "metadata": "{}",
         "name": "GDg1g1",
         "type": "\"string\""
        },
        {
         "metadata": "{}",
         "name": "Ptsg1g1",
         "type": "\"string\""
        },
        {
         "metadata": "{}",
         "name": "Round_of_16",
         "type": "\"string\""
        },
        {
         "metadata": "{}",
         "name": "rest",
         "type": "\"string\""
        },
        {
         "metadata": "{}",
         "name": "Quater_Finalq2q2",
         "type": "\"string\""
        },
        {
         "metadata": "{}",
         "name": "quarter_finalq2q2",
         "type": "\"string\""
        },
        {
         "metadata": "{}",
         "name": "restq2q2",
         "type": "\"string\""
        },
        {
         "metadata": "{}",
         "name": "Semi_Finals1s1",
         "type": "\"string\""
        },
        {
         "metadata": "{}",
         "name": "semi_finals1s1",
         "type": "\"string\""
        },
        {
         "metadata": "{}",
         "name": "rests1s1",
         "type": "\"string\""
        },
        {
         "metadata": "{}",
         "name": "Finalff",
         "type": "\"string\""
        },
        {
         "metadata": "{}",
         "name": "spaceff",
         "type": "\"string\""
        },
        {
         "metadata": "{}",
         "name": "Semi_Finals2s2",
         "type": "\"string\""
        },
        {
         "metadata": "{}",
         "name": "rests2s2",
         "type": "\"string\""
        },
        {
         "metadata": "{}",
         "name": "semi_finals2s2",
         "type": "\"string\""
        },
        {
         "metadata": "{}",
         "name": "Quater_Finalq1q1",
         "type": "\"string\""
        },
        {
         "metadata": "{}",
         "name": "quarter_finalq1q1",
         "type": "\"string\""
        },
        {
         "metadata": "{}",
         "name": "restq1q1",
         "type": "\"string\""
        },
        {
         "metadata": "{}",
         "name": "Round_of_16r2r2",
         "type": "\"string\""
        },
        {
         "metadata": "{}",
         "name": "restr2r2",
         "type": "\"string\""
        },
        {
         "metadata": "{}",
         "name": "Teamsg2g2",
         "type": "\"string\""
        },
        {
         "metadata": "{}",
         "name": "Groupg2g2",
         "type": "\"string\""
        },
        {
         "metadata": "{}",
         "name": "Wg2g2",
         "type": "\"string\""
        },
        {
         "metadata": "{}",
         "name": "Dg2g2",
         "type": "\"string\""
        },
        {
         "metadata": "{}",
         "name": "Lg2g2",
         "type": "\"string\""
        },
        {
         "metadata": "{}",
         "name": "GFg2g2",
         "type": "\"string\""
        },
        {
         "metadata": "{}",
         "name": "GAg2g2",
         "type": "\"string\""
        },
        {
         "metadata": "{}",
         "name": "GDg2g2",
         "type": "\"string\""
        },
        {
         "metadata": "{}",
         "name": "Ptsg2g2",
         "type": "\"string\""
        }
       ],
       "type": "table"
      }
     },
     "output_type": "display_data"
    }
   ],
   "source": [
    "%python\n",
    "left_side_qf.columns = [f\"{col}q2\" for col in left_side_qf.columns]\n",
    "\n",
    "merged_df = pd.concat([left_side_r16, left_side_qf], axis=1)\n",
    "\n",
    "left_side_sf.columns = [f\"{col}s1\" for col in left_side_sf.columns]\n",
    "merged_df = pd.concat([merged_df, left_side_sf], axis=1)\n",
    "\n",
    "visualize_final.columns = [f\"{col}f\" for col in visualize_final.columns]\n",
    "merged_df = pd.concat([merged_df, visualize_final], axis=1)\n",
    "\n",
    "right_side_sf.columns = [f\"{col}s2\" for col in right_side_sf.columns]\n",
    "\n",
    "merged_df = pd.concat([merged_df, right_side_sf], axis=1)\n",
    "\n",
    "\n",
    "\n",
    "right_side_qf.columns = [f\"{col}q1\" for col in right_side_qf.columns]\n",
    "# Concatenate the DataFrames\n",
    "merged_df = pd.concat([merged_df, right_side_qf], axis=1)\n",
    "\n",
    "right_side_r16.columns = [f\"{col}r2\" for col in right_side_r16.columns]\n",
    "\n",
    "# Concatenate the DataFrames\n",
    "merged_df = pd.concat([merged_df,right_side_r16], axis=1)\n",
    "\n",
    "left_table.columns = [f\"{col}g1\" for col in left_table.columns]\n",
    "right_table.columns = [f\"{col}g2\" for col in right_table.columns]\n",
    "\n",
    "# Concatenate the DataFrames\n",
    "merged_df = pd.concat([left_table,merged_df, right_table], axis=1)\n",
    "\n",
    "merged_df.fillna('', inplace=True)\n",
    "\n",
    "display(merged_df)"
   ]
  }
 ],
 "metadata": {
  "application/vnd.databricks.v1+notebook": {
   "dashboards": [],
   "language": "python",
   "notebookMetadata": {
    "mostRecentlyExecutedCommandWithImplicitDF": {
     "commandId": 1653286567590546,
     "dataframes": [
      "_sqldf"
     ]
    },
    "pythonIndentUnit": 4
   },
   "notebookName": "Eurocup",
   "widgets": {}
  }
 },
 "nbformat": 4,
 "nbformat_minor": 0
}
