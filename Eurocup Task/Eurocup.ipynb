{
 "cells": [
  {
   "cell_type": "code",
   "execution_count": 0,
   "metadata": {
    "application/vnd.databricks.v1+cell": {
     "cellMetadata": {
      "byteLimit": 2048000,
      "rowLimit": 10000
     },
     "inputWidgets": {},
     "nuid": "aeb97c2a-ab45-475d-9614-5afdd2344155",
     "showTitle": false,
     "title": ""
    }
   },
   "outputs": [
    {
     "output_type": "display_data",
     "data": {
      "text/html": [
       "<style scoped>\n",
       "  .table-result-container {\n",
       "    max-height: 300px;\n",
       "    overflow: auto;\n",
       "  }\n",
       "  table, th, td {\n",
       "    border: 1px solid black;\n",
       "    border-collapse: collapse;\n",
       "  }\n",
       "  th, td {\n",
       "    padding: 5px;\n",
       "  }\n",
       "  th {\n",
       "    text-align: left;\n",
       "  }\n",
       "</style><div class='table-result-container'><table class='table-result'><thead style='background-color: white'><tr><th>TeamId</th><th>TeamName</th><th>TeamGroup</th></tr></thead><tbody><tr><td>1</td><td>France</td><td>A</td></tr><tr><td>2</td><td>Italy</td><td>A</td></tr><tr><td>3</td><td>Belgium</td><td>A</td></tr><tr><td>4</td><td>Portugal</td><td>A</td></tr><tr><td>5</td><td>Spain</td><td>B</td></tr><tr><td>6</td><td>Netherlands</td><td>B</td></tr><tr><td>7</td><td>Germany</td><td>B</td></tr><tr><td>8</td><td>England</td><td>B</td></tr><tr><td>9</td><td>Turkey</td><td>C</td></tr><tr><td>10</td><td>Austria</td><td>C</td></tr><tr><td>11</td><td>Switzerland</td><td>C</td></tr><tr><td>12</td><td>Denmark</td><td>C</td></tr><tr><td>13</td><td>Croatia</td><td>D</td></tr><tr><td>14</td><td>Ukraine</td><td>D</td></tr><tr><td>15</td><td>Sweden</td><td>D</td></tr><tr><td>16</td><td>Poland</td><td>D</td></tr><tr><td>17</td><td>Wales</td><td>E</td></tr><tr><td>18</td><td>Czech Republic</td><td>E</td></tr><tr><td>19</td><td>Slovakia</td><td>E</td></tr><tr><td>20</td><td>Hungary</td><td>E</td></tr><tr><td>21</td><td>Finland</td><td>F</td></tr><tr><td>22</td><td>North Macedonia</td><td>F</td></tr><tr><td>23</td><td>Scotland</td><td>F</td></tr><tr><td>24</td><td>Russia</td><td>F</td></tr></tbody></table></div>"
      ]
     },
     "metadata": {
      "application/vnd.databricks.v1+output": {
       "addedWidgets": {},
       "aggData": [],
       "aggError": "",
       "aggOverflow": false,
       "aggSchema": [],
       "aggSeriesLimitReached": false,
       "aggType": "",
       "arguments": {},
       "columnCustomDisplayInfos": {},
       "data": [
        [
         1,
         "France",
         "A"
        ],
        [
         2,
         "Italy",
         "A"
        ],
        [
         3,
         "Belgium",
         "A"
        ],
        [
         4,
         "Portugal",
         "A"
        ],
        [
         5,
         "Spain",
         "B"
        ],
        [
         6,
         "Netherlands",
         "B"
        ],
        [
         7,
         "Germany",
         "B"
        ],
        [
         8,
         "England",
         "B"
        ],
        [
         9,
         "Turkey",
         "C"
        ],
        [
         10,
         "Austria",
         "C"
        ],
        [
         11,
         "Switzerland",
         "C"
        ],
        [
         12,
         "Denmark",
         "C"
        ],
        [
         13,
         "Croatia",
         "D"
        ],
        [
         14,
         "Ukraine",
         "D"
        ],
        [
         15,
         "Sweden",
         "D"
        ],
        [
         16,
         "Poland",
         "D"
        ],
        [
         17,
         "Wales",
         "E"
        ],
        [
         18,
         "Czech Republic",
         "E"
        ],
        [
         19,
         "Slovakia",
         "E"
        ],
        [
         20,
         "Hungary",
         "E"
        ],
        [
         21,
         "Finland",
         "F"
        ],
        [
         22,
         "North Macedonia",
         "F"
        ],
        [
         23,
         "Scotland",
         "F"
        ],
        [
         24,
         "Russia",
         "F"
        ]
       ],
       "datasetInfos": [],
       "dbfsResultPath": null,
       "isJsonSchema": true,
       "metadata": {
        "isDbfsCommandResult": false
       },
       "overflow": false,
       "plotOptions": {
        "customPlotOptions": {},
        "displayType": "table",
        "pivotAggregation": null,
        "pivotColumns": null,
        "xColumns": null,
        "yColumns": null
       },
       "removedWidgets": [],
       "schema": [
        {
         "metadata": "{}",
         "name": "TeamId",
         "type": "\"integer\""
        },
        {
         "metadata": "{\"__CHAR_VARCHAR_TYPE_STRING\":\"varchar(255)\"}",
         "name": "TeamName",
         "type": "\"string\""
        },
        {
         "metadata": "{\"__CHAR_VARCHAR_TYPE_STRING\":\"varchar(255)\"}",
         "name": "TeamGroup",
         "type": "\"string\""
        }
       ],
       "type": "table"
      }
     },
     "output_type": "display_data"
    }
   ],
   "source": [
    "%sql\n",
    "CREATE OR REPLACE TABLE qualified_country_list (\n",
    "  TeamId INTEGER,\n",
    "  TeamName VARCHAR(255),\n",
    "  TeamGroup VARCHAR(255)\n",
    ");\n",
    "\n",
    "INSERT INTO qualified_country_list (TeamId, TeamName, TeamGroup)\n",
    "VALUES\n",
    "(1, 'France', 'A'),\n",
    "(2, 'Italy', 'A'),\n",
    "(3, 'Belgium', 'A'),\n",
    "(4, 'Portugal', 'A'),\n",
    "(5, 'Spain', 'B'),\n",
    "(6, 'Netherlands', 'B'),\n",
    "(7, 'Germany', 'B'),\n",
    "(8, 'England', 'B'),\n",
    "(9, 'Turkey', 'C'),\n",
    "(10, 'Austria', 'C'),\n",
    "(11, 'Switzerland', 'C'),\n",
    "(12, 'Denmark', 'C'),\n",
    "(13, 'Croatia', 'D'),\n",
    "(14, 'Ukraine', 'D'),\n",
    "(15, 'Sweden', 'D'),\n",
    "(16, 'Poland', 'D'),\n",
    "(17, 'Wales', 'E'),\n",
    "(18, 'Czech Republic', 'E'),\n",
    "(19, 'Slovakia', 'E'),\n",
    "(20, 'Hungary', 'E'),\n",
    "(21, 'Finland', 'F'),\n",
    "(22, 'North Macedonia', 'F'),\n",
    "(23, 'Scotland', 'F'),\n",
    "(24, 'Russia', 'F');\n",
    "\n",
    "SELECT * FROM qualified_country_list;"
   ]
  },
  {
   "cell_type": "code",
   "execution_count": 0,
   "metadata": {
    "application/vnd.databricks.v1+cell": {
     "cellMetadata": {
      "byteLimit": 2048000,
      "rowLimit": 10000
     },
     "inputWidgets": {},
     "nuid": "ff47a164-300f-406c-9558-766360409ac2",
     "showTitle": false,
     "title": ""
    }
   },
   "outputs": [
    {
     "output_type": "display_data",
     "data": {
      "text/html": [
       "<style scoped>\n",
       "  .table-result-container {\n",
       "    max-height: 300px;\n",
       "    overflow: auto;\n",
       "  }\n",
       "  table, th, td {\n",
       "    border: 1px solid black;\n",
       "    border-collapse: collapse;\n",
       "  }\n",
       "  th, td {\n",
       "    padding: 5px;\n",
       "  }\n",
       "  th {\n",
       "    text-align: left;\n",
       "  }\n",
       "</style><div class='table-result-container'><table class='table-result'><thead style='background-color: white'><tr></tr></thead><tbody></tbody></table></div>"
      ]
     },
     "metadata": {
      "application/vnd.databricks.v1+output": {
       "addedWidgets": {},
       "aggData": [],
       "aggError": "",
       "aggOverflow": false,
       "aggSchema": [],
       "aggSeriesLimitReached": false,
       "aggType": "",
       "arguments": {},
       "columnCustomDisplayInfos": {},
       "data": [],
       "datasetInfos": [],
       "dbfsResultPath": null,
       "isJsonSchema": true,
       "metadata": {
        "isDbfsCommandResult": false
       },
       "overflow": false,
       "plotOptions": {
        "customPlotOptions": {},
        "displayType": "table",
        "pivotAggregation": null,
        "pivotColumns": null,
        "xColumns": null,
        "yColumns": null
       },
       "removedWidgets": [],
       "schema": [],
       "type": "table"
      }
     },
     "output_type": "display_data"
    }
   ],
   "source": [
    "%sql\n",
    "create or replace table matches(\n",
    "  MatchId int,\n",
    "  TeamGroup varchar(20),\n",
    "  home_country varchar(20),\n",
    "  away_country varchar (20),\n",
    "  home_country_goal int,\n",
    "  away_country_goal int,\n",
    "  winner_country varchar(20)\n",
    ")"
   ]
  },
  {
   "cell_type": "code",
   "execution_count": 0,
   "metadata": {
    "application/vnd.databricks.v1+cell": {
     "cellMetadata": {
      "byteLimit": 2048000,
      "rowLimit": 10000
     },
     "inputWidgets": {},
     "nuid": "dc83f082-1959-439c-8b54-baaff4a565d0",
     "showTitle": false,
     "title": ""
    }
   },
   "outputs": [
    {
     "output_type": "display_data",
     "data": {
      "text/html": [
       "<style scoped>\n",
       "  .table-result-container {\n",
       "    max-height: 300px;\n",
       "    overflow: auto;\n",
       "  }\n",
       "  table, th, td {\n",
       "    border: 1px solid black;\n",
       "    border-collapse: collapse;\n",
       "  }\n",
       "  th, td {\n",
       "    padding: 5px;\n",
       "  }\n",
       "  th {\n",
       "    text-align: left;\n",
       "  }\n",
       "</style><div class='table-result-container'><table class='table-result'><thead style='background-color: white'><tr><th>MatchId</th><th>TeamGroup</th><th>home_country</th><th>away_country</th><th>home_country_goal</th><th>away_country_goal</th><th>winner_country</th></tr></thead><tbody><tr><td>1</td><td>A</td><td>France</td><td>Portugal</td><td>4</td><td>4</td><td>Initially Draw</td></tr><tr><td>2</td><td>A</td><td>France</td><td>Belgium</td><td>1</td><td>1</td><td>Initially Draw</td></tr><tr><td>3</td><td>A</td><td>France</td><td>Italy</td><td>5</td><td>4</td><td>Initially Draw</td></tr><tr><td>4</td><td>A</td><td>Italy</td><td>Portugal</td><td>6</td><td>5</td><td>Initially Draw</td></tr><tr><td>5</td><td>A</td><td>Italy</td><td>Belgium</td><td>2</td><td>3</td><td>Initially Draw</td></tr><tr><td>6</td><td>A</td><td>Belgium</td><td>Portugal</td><td>1</td><td>5</td><td>Initially Draw</td></tr><tr><td>7</td><td>B</td><td>Spain</td><td>England</td><td>6</td><td>5</td><td>Initially Draw</td></tr><tr><td>8</td><td>B</td><td>Spain</td><td>Germany</td><td>3</td><td>5</td><td>Initially Draw</td></tr><tr><td>9</td><td>B</td><td>Spain</td><td>Netherlands</td><td>1</td><td>3</td><td>Initially Draw</td></tr><tr><td>10</td><td>B</td><td>Netherlands</td><td>England</td><td>3</td><td>5</td><td>Initially Draw</td></tr><tr><td>11</td><td>B</td><td>Netherlands</td><td>Germany</td><td>3</td><td>1</td><td>Initially Draw</td></tr><tr><td>12</td><td>B</td><td>Germany</td><td>England</td><td>2</td><td>3</td><td>Initially Draw</td></tr><tr><td>13</td><td>C</td><td>Turkey</td><td>Denmark</td><td>6</td><td>6</td><td>Initially Draw</td></tr><tr><td>14</td><td>C</td><td>Turkey</td><td>Switzerland</td><td>6</td><td>2</td><td>Initially Draw</td></tr><tr><td>15</td><td>C</td><td>Turkey</td><td>Austria</td><td>2</td><td>3</td><td>Initially Draw</td></tr><tr><td>16</td><td>C</td><td>Austria</td><td>Denmark</td><td>4</td><td>6</td><td>Initially Draw</td></tr><tr><td>17</td><td>C</td><td>Austria</td><td>Switzerland</td><td>2</td><td>3</td><td>Initially Draw</td></tr><tr><td>18</td><td>C</td><td>Switzerland</td><td>Denmark</td><td>5</td><td>5</td><td>Initially Draw</td></tr><tr><td>19</td><td>D</td><td>Croatia</td><td>Poland</td><td>1</td><td>1</td><td>Initially Draw</td></tr><tr><td>20</td><td>D</td><td>Croatia</td><td>Sweden</td><td>3</td><td>6</td><td>Initially Draw</td></tr><tr><td>21</td><td>D</td><td>Croatia</td><td>Ukraine</td><td>1</td><td>4</td><td>Initially Draw</td></tr><tr><td>22</td><td>D</td><td>Ukraine</td><td>Poland</td><td>6</td><td>2</td><td>Initially Draw</td></tr><tr><td>23</td><td>D</td><td>Ukraine</td><td>Sweden</td><td>5</td><td>6</td><td>Initially Draw</td></tr><tr><td>24</td><td>D</td><td>Sweden</td><td>Poland</td><td>1</td><td>2</td><td>Initially Draw</td></tr><tr><td>25</td><td>E</td><td>Wales</td><td>Hungary</td><td>6</td><td>3</td><td>Initially Draw</td></tr><tr><td>26</td><td>E</td><td>Wales</td><td>Slovakia</td><td>4</td><td>5</td><td>Initially Draw</td></tr><tr><td>27</td><td>E</td><td>Wales</td><td>Czech Republic</td><td>6</td><td>2</td><td>Initially Draw</td></tr><tr><td>28</td><td>E</td><td>Czech Republic</td><td>Hungary</td><td>4</td><td>2</td><td>Initially Draw</td></tr><tr><td>29</td><td>E</td><td>Czech Republic</td><td>Slovakia</td><td>1</td><td>6</td><td>Initially Draw</td></tr><tr><td>30</td><td>E</td><td>Slovakia</td><td>Hungary</td><td>3</td><td>5</td><td>Initially Draw</td></tr><tr><td>31</td><td>F</td><td>Finland</td><td>Russia</td><td>4</td><td>4</td><td>Initially Draw</td></tr><tr><td>32</td><td>F</td><td>Finland</td><td>Scotland</td><td>3</td><td>2</td><td>Initially Draw</td></tr><tr><td>33</td><td>F</td><td>Finland</td><td>North Macedonia</td><td>1</td><td>6</td><td>Initially Draw</td></tr><tr><td>34</td><td>F</td><td>North Macedonia</td><td>Russia</td><td>2</td><td>3</td><td>Initially Draw</td></tr><tr><td>35</td><td>F</td><td>North Macedonia</td><td>Scotland</td><td>5</td><td>5</td><td>Initially Draw</td></tr><tr><td>36</td><td>F</td><td>Scotland</td><td>Russia</td><td>4</td><td>4</td><td>Initially Draw</td></tr></tbody></table></div>"
      ]
     },
     "metadata": {
      "application/vnd.databricks.v1+output": {
       "addedWidgets": {},
       "aggData": [],
       "aggError": "",
       "aggOverflow": false,
       "aggSchema": [],
       "aggSeriesLimitReached": false,
       "aggType": "",
       "arguments": {},
       "columnCustomDisplayInfos": {},
       "data": [
        [
         1,
         "A",
         "France",
         "Portugal",
         4,
         4,
         "Initially Draw"
        ],
        [
         2,
         "A",
         "France",
         "Belgium",
         1,
         1,
         "Initially Draw"
        ],
        [
         3,
         "A",
         "France",
         "Italy",
         5,
         4,
         "Initially Draw"
        ],
        [
         4,
         "A",
         "Italy",
         "Portugal",
         6,
         5,
         "Initially Draw"
        ],
        [
         5,
         "A",
         "Italy",
         "Belgium",
         2,
         3,
         "Initially Draw"
        ],
        [
         6,
         "A",
         "Belgium",
         "Portugal",
         1,
         5,
         "Initially Draw"
        ],
        [
         7,
         "B",
         "Spain",
         "England",
         6,
         5,
         "Initially Draw"
        ],
        [
         8,
         "B",
         "Spain",
         "Germany",
         3,
         5,
         "Initially Draw"
        ],
        [
         9,
         "B",
         "Spain",
         "Netherlands",
         1,
         3,
         "Initially Draw"
        ],
        [
         10,
         "B",
         "Netherlands",
         "England",
         3,
         5,
         "Initially Draw"
        ],
        [
         11,
         "B",
         "Netherlands",
         "Germany",
         3,
         1,
         "Initially Draw"
        ],
        [
         12,
         "B",
         "Germany",
         "England",
         2,
         3,
         "Initially Draw"
        ],
        [
         13,
         "C",
         "Turkey",
         "Denmark",
         6,
         6,
         "Initially Draw"
        ],
        [
         14,
         "C",
         "Turkey",
         "Switzerland",
         6,
         2,
         "Initially Draw"
        ],
        [
         15,
         "C",
         "Turkey",
         "Austria",
         2,
         3,
         "Initially Draw"
        ],
        [
         16,
         "C",
         "Austria",
         "Denmark",
         4,
         6,
         "Initially Draw"
        ],
        [
         17,
         "C",
         "Austria",
         "Switzerland",
         2,
         3,
         "Initially Draw"
        ],
        [
         18,
         "C",
         "Switzerland",
         "Denmark",
         5,
         5,
         "Initially Draw"
        ],
        [
         19,
         "D",
         "Croatia",
         "Poland",
         1,
         1,
         "Initially Draw"
        ],
        [
         20,
         "D",
         "Croatia",
         "Sweden",
         3,
         6,
         "Initially Draw"
        ],
        [
         21,
         "D",
         "Croatia",
         "Ukraine",
         1,
         4,
         "Initially Draw"
        ],
        [
         22,
         "D",
         "Ukraine",
         "Poland",
         6,
         2,
         "Initially Draw"
        ],
        [
         23,
         "D",
         "Ukraine",
         "Sweden",
         5,
         6,
         "Initially Draw"
        ],
        [
         24,
         "D",
         "Sweden",
         "Poland",
         1,
         2,
         "Initially Draw"
        ],
        [
         25,
         "E",
         "Wales",
         "Hungary",
         6,
         3,
         "Initially Draw"
        ],
        [
         26,
         "E",
         "Wales",
         "Slovakia",
         4,
         5,
         "Initially Draw"
        ],
        [
         27,
         "E",
         "Wales",
         "Czech Republic",
         6,
         2,
         "Initially Draw"
        ],
        [
         28,
         "E",
         "Czech Republic",
         "Hungary",
         4,
         2,
         "Initially Draw"
        ],
        [
         29,
         "E",
         "Czech Republic",
         "Slovakia",
         1,
         6,
         "Initially Draw"
        ],
        [
         30,
         "E",
         "Slovakia",
         "Hungary",
         3,
         5,
         "Initially Draw"
        ],
        [
         31,
         "F",
         "Finland",
         "Russia",
         4,
         4,
         "Initially Draw"
        ],
        [
         32,
         "F",
         "Finland",
         "Scotland",
         3,
         2,
         "Initially Draw"
        ],
        [
         33,
         "F",
         "Finland",
         "North Macedonia",
         1,
         6,
         "Initially Draw"
        ],
        [
         34,
         "F",
         "North Macedonia",
         "Russia",
         2,
         3,
         "Initially Draw"
        ],
        [
         35,
         "F",
         "North Macedonia",
         "Scotland",
         5,
         5,
         "Initially Draw"
        ],
        [
         36,
         "F",
         "Scotland",
         "Russia",
         4,
         4,
         "Initially Draw"
        ]
       ],
       "datasetInfos": [],
       "dbfsResultPath": null,
       "isJsonSchema": true,
       "metadata": {
        "isDbfsCommandResult": false
       },
       "overflow": false,
       "plotOptions": {
        "customPlotOptions": {},
        "displayType": "table",
        "pivotAggregation": null,
        "pivotColumns": null,
        "xColumns": null,
        "yColumns": null
       },
       "removedWidgets": [],
       "schema": [
        {
         "metadata": "{}",
         "name": "MatchId",
         "type": "\"integer\""
        },
        {
         "metadata": "{\"__CHAR_VARCHAR_TYPE_STRING\":\"varchar(20)\"}",
         "name": "TeamGroup",
         "type": "\"string\""
        },
        {
         "metadata": "{\"__CHAR_VARCHAR_TYPE_STRING\":\"varchar(20)\"}",
         "name": "home_country",
         "type": "\"string\""
        },
        {
         "metadata": "{\"__CHAR_VARCHAR_TYPE_STRING\":\"varchar(20)\"}",
         "name": "away_country",
         "type": "\"string\""
        },
        {
         "metadata": "{}",
         "name": "home_country_goal",
         "type": "\"integer\""
        },
        {
         "metadata": "{}",
         "name": "away_country_goal",
         "type": "\"integer\""
        },
        {
         "metadata": "{\"__CHAR_VARCHAR_TYPE_STRING\":\"varchar(20)\"}",
         "name": "winner_country",
         "type": "\"string\""
        }
       ],
       "type": "table"
      }
     },
     "output_type": "display_data"
    }
   ],
   "source": [
    "%sql\n",
    "INSERT INTO matches\n",
    "SELECT DISTINCT\n",
    "row_number() OVER (ORDER BY 1) as MATCHID,\n",
    "t1.TeamGroup as TeamGroup,\n",
    "t1.TeamName AS home_country,\n",
    "t2.TeamName As away_country,\n",
    "(SELECT FLOOR(RAND() * 6) + 1) AS home_country_goal,\n",
    "(SELECT FLOOR(RAND() * 6) + 1) AS away_country_goal,\n",
    "'Initially Draw' AS winner_country\n",
    "FROM\n",
    "qualified_country_list as t1\n",
    "JOIN\n",
    "qualified_country_list as t2\n",
    "ON t1.TeamGroup = t2.TeamGroup AND t1.TeamId < t2.TeamId;\n",
    "\n",
    "\n",
    "select * from matches;"
   ]
  },
  {
   "cell_type": "code",
   "execution_count": 0,
   "metadata": {
    "application/vnd.databricks.v1+cell": {
     "cellMetadata": {
      "byteLimit": 2048000,
      "rowLimit": 10000
     },
     "inputWidgets": {},
     "nuid": "bbcbbb1a-c447-46b0-aed8-f553685a81df",
     "showTitle": false,
     "title": ""
    }
   },
   "outputs": [
    {
     "output_type": "display_data",
     "data": {
      "text/html": [
       "<style scoped>\n",
       "  .table-result-container {\n",
       "    max-height: 300px;\n",
       "    overflow: auto;\n",
       "  }\n",
       "  table, th, td {\n",
       "    border: 1px solid black;\n",
       "    border-collapse: collapse;\n",
       "  }\n",
       "  th, td {\n",
       "    padding: 5px;\n",
       "  }\n",
       "  th {\n",
       "    text-align: left;\n",
       "  }\n",
       "</style><div class='table-result-container'><table class='table-result'><thead style='background-color: white'><tr><th>MatchId</th><th>TeamGroup</th><th>home_country</th><th>away_country</th><th>home_country_goal</th><th>away_country_goal</th><th>winner_country</th></tr></thead><tbody><tr><td>1</td><td>A</td><td>France</td><td>Portugal</td><td>4</td><td>3</td><td>France</td></tr><tr><td>2</td><td>A</td><td>France</td><td>Belgium</td><td>1</td><td>4</td><td>Belgium</td></tr><tr><td>3</td><td>A</td><td>France</td><td>Italy</td><td>5</td><td>4</td><td>France</td></tr><tr><td>4</td><td>A</td><td>Italy</td><td>Portugal</td><td>4</td><td>2</td><td>Italy</td></tr><tr><td>5</td><td>A</td><td>Italy</td><td>Belgium</td><td>6</td><td>6</td><td>Draw</td></tr><tr><td>6</td><td>A</td><td>Belgium</td><td>Portugal</td><td>4</td><td>4</td><td>Draw</td></tr><tr><td>7</td><td>B</td><td>Spain</td><td>England</td><td>3</td><td>3</td><td>Draw</td></tr><tr><td>8</td><td>B</td><td>Spain</td><td>Germany</td><td>4</td><td>4</td><td>Draw</td></tr><tr><td>9</td><td>B</td><td>Spain</td><td>Netherlands</td><td>6</td><td>2</td><td>Spain</td></tr><tr><td>10</td><td>B</td><td>Netherlands</td><td>England</td><td>6</td><td>1</td><td>Netherlands</td></tr><tr><td>11</td><td>B</td><td>Netherlands</td><td>Germany</td><td>1</td><td>3</td><td>Germany</td></tr><tr><td>12</td><td>B</td><td>Germany</td><td>England</td><td>4</td><td>4</td><td>Draw</td></tr><tr><td>13</td><td>C</td><td>Turkey</td><td>Denmark</td><td>2</td><td>3</td><td>Denmark</td></tr><tr><td>14</td><td>C</td><td>Turkey</td><td>Switzerland</td><td>4</td><td>3</td><td>Turkey</td></tr><tr><td>15</td><td>C</td><td>Turkey</td><td>Austria</td><td>1</td><td>2</td><td>Austria</td></tr><tr><td>16</td><td>C</td><td>Austria</td><td>Denmark</td><td>3</td><td>1</td><td>Austria</td></tr><tr><td>17</td><td>C</td><td>Austria</td><td>Switzerland</td><td>5</td><td>4</td><td>Austria</td></tr><tr><td>18</td><td>C</td><td>Switzerland</td><td>Denmark</td><td>2</td><td>1</td><td>Switzerland</td></tr><tr><td>19</td><td>D</td><td>Croatia</td><td>Poland</td><td>2</td><td>6</td><td>Poland</td></tr><tr><td>20</td><td>D</td><td>Croatia</td><td>Sweden</td><td>4</td><td>5</td><td>Sweden</td></tr><tr><td>21</td><td>D</td><td>Croatia</td><td>Ukraine</td><td>1</td><td>5</td><td>Ukraine</td></tr><tr><td>22</td><td>D</td><td>Ukraine</td><td>Poland</td><td>4</td><td>4</td><td>Draw</td></tr><tr><td>23</td><td>D</td><td>Ukraine</td><td>Sweden</td><td>1</td><td>4</td><td>Sweden</td></tr><tr><td>24</td><td>D</td><td>Sweden</td><td>Poland</td><td>3</td><td>3</td><td>Draw</td></tr><tr><td>25</td><td>E</td><td>Wales</td><td>Hungary</td><td>1</td><td>3</td><td>Hungary</td></tr><tr><td>26</td><td>E</td><td>Wales</td><td>Slovakia</td><td>1</td><td>2</td><td>Slovakia</td></tr><tr><td>27</td><td>E</td><td>Wales</td><td>Czech Republic</td><td>5</td><td>1</td><td>Wales</td></tr><tr><td>28</td><td>E</td><td>Czech Republic</td><td>Hungary</td><td>1</td><td>1</td><td>Draw</td></tr><tr><td>29</td><td>E</td><td>Czech Republic</td><td>Slovakia</td><td>2</td><td>6</td><td>Slovakia</td></tr><tr><td>30</td><td>E</td><td>Slovakia</td><td>Hungary</td><td>3</td><td>5</td><td>Hungary</td></tr><tr><td>31</td><td>F</td><td>Finland</td><td>Russia</td><td>6</td><td>2</td><td>Finland</td></tr><tr><td>32</td><td>F</td><td>Finland</td><td>Scotland</td><td>6</td><td>1</td><td>Finland</td></tr><tr><td>33</td><td>F</td><td>Finland</td><td>North Macedonia</td><td>3</td><td>4</td><td>North Macedonia</td></tr><tr><td>34</td><td>F</td><td>North Macedonia</td><td>Russia</td><td>3</td><td>4</td><td>Russia</td></tr><tr><td>35</td><td>F</td><td>North Macedonia</td><td>Scotland</td><td>1</td><td>1</td><td>Draw</td></tr><tr><td>36</td><td>F</td><td>Scotland</td><td>Russia</td><td>6</td><td>1</td><td>Scotland</td></tr></tbody></table></div>"
      ]
     },
     "metadata": {
      "application/vnd.databricks.v1+output": {
       "addedWidgets": {},
       "aggData": [],
       "aggError": "",
       "aggOverflow": false,
       "aggSchema": [],
       "aggSeriesLimitReached": false,
       "aggType": "",
       "arguments": {},
       "columnCustomDisplayInfos": {},
       "data": [
        [
         1,
         "A",
         "France",
         "Portugal",
         4,
         3,
         "France"
        ],
        [
         2,
         "A",
         "France",
         "Belgium",
         1,
         4,
         "Belgium"
        ],
        [
         3,
         "A",
         "France",
         "Italy",
         5,
         4,
         "France"
        ],
        [
         4,
         "A",
         "Italy",
         "Portugal",
         4,
         2,
         "Italy"
        ],
        [
         5,
         "A",
         "Italy",
         "Belgium",
         6,
         6,
         "Draw"
        ],
        [
         6,
         "A",
         "Belgium",
         "Portugal",
         4,
         4,
         "Draw"
        ],
        [
         7,
         "B",
         "Spain",
         "England",
         3,
         3,
         "Draw"
        ],
        [
         8,
         "B",
         "Spain",
         "Germany",
         4,
         4,
         "Draw"
        ],
        [
         9,
         "B",
         "Spain",
         "Netherlands",
         6,
         2,
         "Spain"
        ],
        [
         10,
         "B",
         "Netherlands",
         "England",
         6,
         1,
         "Netherlands"
        ],
        [
         11,
         "B",
         "Netherlands",
         "Germany",
         1,
         3,
         "Germany"
        ],
        [
         12,
         "B",
         "Germany",
         "England",
         4,
         4,
         "Draw"
        ],
        [
         13,
         "C",
         "Turkey",
         "Denmark",
         2,
         3,
         "Denmark"
        ],
        [
         14,
         "C",
         "Turkey",
         "Switzerland",
         4,
         3,
         "Turkey"
        ],
        [
         15,
         "C",
         "Turkey",
         "Austria",
         1,
         2,
         "Austria"
        ],
        [
         16,
         "C",
         "Austria",
         "Denmark",
         3,
         1,
         "Austria"
        ],
        [
         17,
         "C",
         "Austria",
         "Switzerland",
         5,
         4,
         "Austria"
        ],
        [
         18,
         "C",
         "Switzerland",
         "Denmark",
         2,
         1,
         "Switzerland"
        ],
        [
         19,
         "D",
         "Croatia",
         "Poland",
         2,
         6,
         "Poland"
        ],
        [
         20,
         "D",
         "Croatia",
         "Sweden",
         4,
         5,
         "Sweden"
        ],
        [
         21,
         "D",
         "Croatia",
         "Ukraine",
         1,
         5,
         "Ukraine"
        ],
        [
         22,
         "D",
         "Ukraine",
         "Poland",
         4,
         4,
         "Draw"
        ],
        [
         23,
         "D",
         "Ukraine",
         "Sweden",
         1,
         4,
         "Sweden"
        ],
        [
         24,
         "D",
         "Sweden",
         "Poland",
         3,
         3,
         "Draw"
        ],
        [
         25,
         "E",
         "Wales",
         "Hungary",
         1,
         3,
         "Hungary"
        ],
        [
         26,
         "E",
         "Wales",
         "Slovakia",
         1,
         2,
         "Slovakia"
        ],
        [
         27,
         "E",
         "Wales",
         "Czech Republic",
         5,
         1,
         "Wales"
        ],
        [
         28,
         "E",
         "Czech Republic",
         "Hungary",
         1,
         1,
         "Draw"
        ],
        [
         29,
         "E",
         "Czech Republic",
         "Slovakia",
         2,
         6,
         "Slovakia"
        ],
        [
         30,
         "E",
         "Slovakia",
         "Hungary",
         3,
         5,
         "Hungary"
        ],
        [
         31,
         "F",
         "Finland",
         "Russia",
         6,
         2,
         "Finland"
        ],
        [
         32,
         "F",
         "Finland",
         "Scotland",
         6,
         1,
         "Finland"
        ],
        [
         33,
         "F",
         "Finland",
         "North Macedonia",
         3,
         4,
         "North Macedonia"
        ],
        [
         34,
         "F",
         "North Macedonia",
         "Russia",
         3,
         4,
         "Russia"
        ],
        [
         35,
         "F",
         "North Macedonia",
         "Scotland",
         1,
         1,
         "Draw"
        ],
        [
         36,
         "F",
         "Scotland",
         "Russia",
         6,
         1,
         "Scotland"
        ]
       ],
       "datasetInfos": [],
       "dbfsResultPath": null,
       "isJsonSchema": true,
       "metadata": {
        "isDbfsCommandResult": false
       },
       "overflow": false,
       "plotOptions": {
        "customPlotOptions": {},
        "displayType": "table",
        "pivotAggregation": null,
        "pivotColumns": null,
        "xColumns": null,
        "yColumns": null
       },
       "removedWidgets": [],
       "schema": [
        {
         "metadata": "{}",
         "name": "MatchId",
         "type": "\"integer\""
        },
        {
         "metadata": "{\"__CHAR_VARCHAR_TYPE_STRING\":\"varchar(20)\"}",
         "name": "TeamGroup",
         "type": "\"string\""
        },
        {
         "metadata": "{\"__CHAR_VARCHAR_TYPE_STRING\":\"varchar(20)\"}",
         "name": "home_country",
         "type": "\"string\""
        },
        {
         "metadata": "{\"__CHAR_VARCHAR_TYPE_STRING\":\"varchar(20)\"}",
         "name": "away_country",
         "type": "\"string\""
        },
        {
         "metadata": "{}",
         "name": "home_country_goal",
         "type": "\"integer\""
        },
        {
         "metadata": "{}",
         "name": "away_country_goal",
         "type": "\"integer\""
        },
        {
         "metadata": "{\"__CHAR_VARCHAR_TYPE_STRING\":\"varchar(20)\"}",
         "name": "winner_country",
         "type": "\"string\""
        }
       ],
       "type": "table"
      }
     },
     "output_type": "display_data"
    }
   ],
   "source": [
    "%sql\n",
    "UPDATE matches SET winner_country = \n",
    "CASE\n",
    "WHEN home_country_goal > away_country_goal THEN home_country\n",
    "WHEN home_country_goal < away_country_goal THEN away_country\n",
    "ELSE 'Draw'\n",
    "END;\n",
    "\n",
    "select * from group_stage;"
   ]
  },
  {
   "cell_type": "code",
   "execution_count": 0,
   "metadata": {
    "application/vnd.databricks.v1+cell": {
     "cellMetadata": {
      "byteLimit": 2048000,
      "rowLimit": 10000
     },
     "inputWidgets": {},
     "nuid": "80139a42-62d6-4a55-9d6e-75f72efebac5",
     "showTitle": false,
     "title": ""
    }
   },
   "outputs": [
    {
     "output_type": "display_data",
     "data": {
      "text/html": [
       "<style scoped>\n",
       "  .table-result-container {\n",
       "    max-height: 300px;\n",
       "    overflow: auto;\n",
       "  }\n",
       "  table, th, td {\n",
       "    border: 1px solid black;\n",
       "    border-collapse: collapse;\n",
       "  }\n",
       "  th, td {\n",
       "    padding: 5px;\n",
       "  }\n",
       "  th {\n",
       "    text-align: left;\n",
       "  }\n",
       "</style><div class='table-result-container'><table class='table-result'><thead style='background-color: white'><tr><th>TeamName</th><th>TeamGroup</th><th>Matches_Played</th><th>Matches_won</th><th>Matches_draw</th><th>Matches_lost</th><th>Goals_scored</th><th>Goals_allowed</th><th>Goal_difference</th><th>points</th></tr></thead><tbody><tr><td>France</td><td>A</td><td>3</td><td>2</td><td>0</td><td>1</td><td>10</td><td>11</td><td>-1</td><td>6</td></tr><tr><td>Belgium</td><td>A</td><td>3</td><td>1</td><td>2</td><td>0</td><td>14</td><td>11</td><td>3</td><td>5</td></tr><tr><td>Italy</td><td>A</td><td>3</td><td>1</td><td>1</td><td>1</td><td>14</td><td>13</td><td>1</td><td>4</td></tr><tr><td>Portugal</td><td>A</td><td>3</td><td>0</td><td>1</td><td>2</td><td>9</td><td>12</td><td>-3</td><td>1</td></tr><tr><td>Germany</td><td>B</td><td>3</td><td>1</td><td>2</td><td>0</td><td>11</td><td>9</td><td>2</td><td>5</td></tr><tr><td>Spain</td><td>B</td><td>3</td><td>1</td><td>2</td><td>0</td><td>13</td><td>9</td><td>4</td><td>5</td></tr><tr><td>Netherlands</td><td>B</td><td>3</td><td>1</td><td>0</td><td>2</td><td>9</td><td>10</td><td>-1</td><td>3</td></tr><tr><td>England</td><td>B</td><td>3</td><td>0</td><td>2</td><td>1</td><td>8</td><td>13</td><td>-5</td><td>2</td></tr><tr><td>Austria</td><td>C</td><td>3</td><td>3</td><td>0</td><td>0</td><td>10</td><td>6</td><td>4</td><td>9</td></tr><tr><td>Switzerland</td><td>C</td><td>3</td><td>1</td><td>0</td><td>2</td><td>9</td><td>10</td><td>-1</td><td>3</td></tr><tr><td>Turkey</td><td>C</td><td>3</td><td>1</td><td>0</td><td>2</td><td>7</td><td>8</td><td>-1</td><td>3</td></tr><tr><td>Denmark</td><td>C</td><td>3</td><td>1</td><td>0</td><td>2</td><td>5</td><td>7</td><td>-2</td><td>3</td></tr><tr><td>Sweden</td><td>D</td><td>3</td><td>2</td><td>1</td><td>0</td><td>12</td><td>8</td><td>4</td><td>7</td></tr><tr><td>Poland</td><td>D</td><td>3</td><td>1</td><td>2</td><td>0</td><td>13</td><td>9</td><td>4</td><td>5</td></tr><tr><td>Ukraine</td><td>D</td><td>3</td><td>1</td><td>1</td><td>1</td><td>10</td><td>9</td><td>1</td><td>4</td></tr><tr><td>Croatia</td><td>D</td><td>3</td><td>0</td><td>0</td><td>3</td><td>7</td><td>16</td><td>-9</td><td>0</td></tr><tr><td>Hungary</td><td>E</td><td>3</td><td>2</td><td>1</td><td>0</td><td>9</td><td>5</td><td>4</td><td>7</td></tr><tr><td>Slovakia</td><td>E</td><td>3</td><td>2</td><td>0</td><td>1</td><td>11</td><td>8</td><td>3</td><td>6</td></tr><tr><td>Wales</td><td>E</td><td>3</td><td>1</td><td>0</td><td>2</td><td>7</td><td>6</td><td>1</td><td>3</td></tr><tr><td>Czech Republic</td><td>E</td><td>3</td><td>0</td><td>1</td><td>2</td><td>4</td><td>12</td><td>-8</td><td>1</td></tr><tr><td>Finland</td><td>F</td><td>3</td><td>2</td><td>0</td><td>1</td><td>15</td><td>7</td><td>8</td><td>6</td></tr><tr><td>North Macedonia</td><td>F</td><td>3</td><td>1</td><td>1</td><td>1</td><td>8</td><td>8</td><td>0</td><td>4</td></tr><tr><td>Scotland</td><td>F</td><td>3</td><td>1</td><td>1</td><td>1</td><td>8</td><td>8</td><td>0</td><td>4</td></tr><tr><td>Russia</td><td>F</td><td>3</td><td>1</td><td>0</td><td>2</td><td>7</td><td>15</td><td>-8</td><td>3</td></tr></tbody></table></div>"
      ]
     },
     "metadata": {
      "application/vnd.databricks.v1+output": {
       "addedWidgets": {},
       "aggData": [],
       "aggError": "",
       "aggOverflow": false,
       "aggSchema": [],
       "aggSeriesLimitReached": false,
       "aggType": "",
       "arguments": {},
       "columnCustomDisplayInfos": {},
       "data": [
        [
         "France",
         "A",
         3,
         2,
         0,
         1,
         10,
         11,
         -1,
         6
        ],
        [
         "Belgium",
         "A",
         3,
         1,
         2,
         0,
         14,
         11,
         3,
         5
        ],
        [
         "Italy",
         "A",
         3,
         1,
         1,
         1,
         14,
         13,
         1,
         4
        ],
        [
         "Portugal",
         "A",
         3,
         0,
         1,
         2,
         9,
         12,
         -3,
         1
        ],
        [
         "Germany",
         "B",
         3,
         1,
         2,
         0,
         11,
         9,
         2,
         5
        ],
        [
         "Spain",
         "B",
         3,
         1,
         2,
         0,
         13,
         9,
         4,
         5
        ],
        [
         "Netherlands",
         "B",
         3,
         1,
         0,
         2,
         9,
         10,
         -1,
         3
        ],
        [
         "England",
         "B",
         3,
         0,
         2,
         1,
         8,
         13,
         -5,
         2
        ],
        [
         "Austria",
         "C",
         3,
         3,
         0,
         0,
         10,
         6,
         4,
         9
        ],
        [
         "Switzerland",
         "C",
         3,
         1,
         0,
         2,
         9,
         10,
         -1,
         3
        ],
        [
         "Turkey",
         "C",
         3,
         1,
         0,
         2,
         7,
         8,
         -1,
         3
        ],
        [
         "Denmark",
         "C",
         3,
         1,
         0,
         2,
         5,
         7,
         -2,
         3
        ],
        [
         "Sweden",
         "D",
         3,
         2,
         1,
         0,
         12,
         8,
         4,
         7
        ],
        [
         "Poland",
         "D",
         3,
         1,
         2,
         0,
         13,
         9,
         4,
         5
        ],
        [
         "Ukraine",
         "D",
         3,
         1,
         1,
         1,
         10,
         9,
         1,
         4
        ],
        [
         "Croatia",
         "D",
         3,
         0,
         0,
         3,
         7,
         16,
         -9,
         0
        ],
        [
         "Hungary",
         "E",
         3,
         2,
         1,
         0,
         9,
         5,
         4,
         7
        ],
        [
         "Slovakia",
         "E",
         3,
         2,
         0,
         1,
         11,
         8,
         3,
         6
        ],
        [
         "Wales",
         "E",
         3,
         1,
         0,
         2,
         7,
         6,
         1,
         3
        ],
        [
         "Czech Republic",
         "E",
         3,
         0,
         1,
         2,
         4,
         12,
         -8,
         1
        ],
        [
         "Finland",
         "F",
         3,
         2,
         0,
         1,
         15,
         7,
         8,
         6
        ],
        [
         "North Macedonia",
         "F",
         3,
         1,
         1,
         1,
         8,
         8,
         0,
         4
        ],
        [
         "Scotland",
         "F",
         3,
         1,
         1,
         1,
         8,
         8,
         0,
         4
        ],
        [
         "Russia",
         "F",
         3,
         1,
         0,
         2,
         7,
         15,
         -8,
         3
        ]
       ],
       "datasetInfos": [],
       "dbfsResultPath": null,
       "isJsonSchema": true,
       "metadata": {
        "isDbfsCommandResult": false
       },
       "overflow": false,
       "plotOptions": {
        "customPlotOptions": {},
        "displayType": "table",
        "pivotAggregation": null,
        "pivotColumns": null,
        "xColumns": null,
        "yColumns": null
       },
       "removedWidgets": [],
       "schema": [
        {
         "metadata": "{\"__CHAR_VARCHAR_TYPE_STRING\":\"varchar(20)\"}",
         "name": "TeamName",
         "type": "\"string\""
        },
        {
         "metadata": "{\"__CHAR_VARCHAR_TYPE_STRING\":\"varchar(20)\"}",
         "name": "TeamGroup",
         "type": "\"string\""
        },
        {
         "metadata": "{}",
         "name": "Matches_Played",
         "type": "\"long\""
        },
        {
         "metadata": "{}",
         "name": "Matches_won",
         "type": "\"long\""
        },
        {
         "metadata": "{}",
         "name": "Matches_draw",
         "type": "\"long\""
        },
        {
         "metadata": "{}",
         "name": "Matches_lost",
         "type": "\"long\""
        },
        {
         "metadata": "{}",
         "name": "Goals_scored",
         "type": "\"long\""
        },
        {
         "metadata": "{}",
         "name": "Goals_allowed",
         "type": "\"long\""
        },
        {
         "metadata": "{}",
         "name": "Goal_difference",
         "type": "\"long\""
        },
        {
         "metadata": "{}",
         "name": "points",
         "type": "\"long\""
        }
       ],
       "type": "table"
      }
     },
     "output_type": "display_data"
    }
   ],
   "source": [
    "%sql\n",
    "CREATE OR REPLACE TABLE group_stage_ranking AS\n",
    "SELECT\n",
    "  team_id as TeamName,\n",
    "  TeamGroup,\n",
    "  COUNT(*) AS Matches_Played,\n",
    "  SUM (\n",
    "    CASE\n",
    "      WHEN goals_scored > goals_allowed THEN 1\n",
    "      ELSE 0\n",
    "    END\n",
    "  ) AS Matches_won,\n",
    "  SUM (\n",
    "    CASE\n",
    "      WHEN goals_scored = goals_allowed THEN 1\n",
    "      ELSE 0\n",
    "    END\n",
    "  ) AS Matches_draw,\n",
    "  SUM(\n",
    "    CASE\n",
    "      WHEN goals_scored < goals_allowed THEN 1\n",
    "      ELSE 0\n",
    "    END\n",
    "  ) AS Matches_lost,\n",
    "  SUM(goals_scored) AS Goals_scored,\n",
    "  SUM(goals_allowed) AS Goals_allowed,\n",
    "  SUM(goals_scored) - SUM(goals_allowed) AS Goal_difference,\n",
    "  SUM(\n",
    "    CASE\n",
    "      WHEN goals_scored > goals_allowed THEN 3\n",
    "      WHEN goals_scored = goals_allowed THEN 1\n",
    "      ELSE 0\n",
    "    END\n",
    "  ) AS points\n",
    "FROM(\n",
    "    SELECT\n",
    "      TeamGroup,\n",
    "      home_country AS team_id,\n",
    "      home_country_goal AS goals_scored,\n",
    "      away_country_goal AS goals_allowed\n",
    "    FROM\n",
    "      group_stage\n",
    "    UNION ALL\n",
    "    SELECT\n",
    "      TeamGroup,\n",
    "      away_country AS team_id,\n",
    "      away_country_goal AS goals_scored,\n",
    "      home_country_goal AS goals_allowed\n",
    "    FROM\n",
    "      group_stage\n",
    "  ) AS group_matches\n",
    "GROUP BY\n",
    "  team_id,\n",
    "  TeamGroup\n",
    "\n",
    "ORDER BY\n",
    "  TeamGroup,\n",
    "  points DESC;\n",
    "\n",
    "select * FROM group_stage_ranking;"
   ]
  },
  {
   "cell_type": "code",
   "execution_count": 0,
   "metadata": {
    "application/vnd.databricks.v1+cell": {
     "cellMetadata": {
      "byteLimit": 2048000,
      "rowLimit": 10000
     },
     "inputWidgets": {},
     "nuid": "e8189029-3cae-4002-be7f-2e8d001c592d",
     "showTitle": false,
     "title": ""
    }
   },
   "outputs": [],
   "source": []
  },
  {
   "cell_type": "code",
   "execution_count": 0,
   "metadata": {
    "application/vnd.databricks.v1+cell": {
     "cellMetadata": {
      "byteLimit": 2048000,
      "rowLimit": 10000
     },
     "inputWidgets": {},
     "nuid": "7b140004-1b95-4bd9-a361-ed18714f1732",
     "showTitle": false,
     "title": ""
    }
   },
   "outputs": [
    {
     "output_type": "display_data",
     "data": {
      "text/html": [
       "<style scoped>\n",
       "  .table-result-container {\n",
       "    max-height: 300px;\n",
       "    overflow: auto;\n",
       "  }\n",
       "  table, th, td {\n",
       "    border: 1px solid black;\n",
       "    border-collapse: collapse;\n",
       "  }\n",
       "  th, td {\n",
       "    padding: 5px;\n",
       "  }\n",
       "  th {\n",
       "    text-align: left;\n",
       "  }\n",
       "</style><div class='table-result-container'><table class='table-result'><thead style='background-color: white'><tr><th>TeamName</th><th>TeamGroup</th><th>points</th><th>Goal_difference</th><th>ranks</th></tr></thead><tbody><tr><td>France</td><td>A</td><td>6</td><td>-1</td><td>1</td></tr><tr><td>Belgium</td><td>A</td><td>5</td><td>3</td><td>2</td></tr><tr><td>Spain</td><td>B</td><td>5</td><td>4</td><td>1</td></tr><tr><td>Germany</td><td>B</td><td>5</td><td>2</td><td>2</td></tr><tr><td>Austria</td><td>C</td><td>9</td><td>4</td><td>1</td></tr><tr><td>Switzerland</td><td>C</td><td>3</td><td>-1</td><td>2</td></tr><tr><td>Sweden</td><td>D</td><td>7</td><td>4</td><td>1</td></tr><tr><td>Poland</td><td>D</td><td>5</td><td>4</td><td>2</td></tr><tr><td>Hungary</td><td>E</td><td>7</td><td>4</td><td>1</td></tr><tr><td>Slovakia</td><td>E</td><td>6</td><td>3</td><td>2</td></tr><tr><td>Finland</td><td>F</td><td>6</td><td>8</td><td>1</td></tr><tr><td>North Macedonia</td><td>F</td><td>4</td><td>0</td><td>2</td></tr></tbody></table></div>"
      ]
     },
     "metadata": {
      "application/vnd.databricks.v1+output": {
       "addedWidgets": {},
       "aggData": [],
       "aggError": "",
       "aggOverflow": false,
       "aggSchema": [],
       "aggSeriesLimitReached": false,
       "aggType": "",
       "arguments": {},
       "columnCustomDisplayInfos": {},
       "data": [
        [
         "France",
         "A",
         6,
         -1,
         1
        ],
        [
         "Belgium",
         "A",
         5,
         3,
         2
        ],
        [
         "Spain",
         "B",
         5,
         4,
         1
        ],
        [
         "Germany",
         "B",
         5,
         2,
         2
        ],
        [
         "Austria",
         "C",
         9,
         4,
         1
        ],
        [
         "Switzerland",
         "C",
         3,
         -1,
         2
        ],
        [
         "Sweden",
         "D",
         7,
         4,
         1
        ],
        [
         "Poland",
         "D",
         5,
         4,
         2
        ],
        [
         "Hungary",
         "E",
         7,
         4,
         1
        ],
        [
         "Slovakia",
         "E",
         6,
         3,
         2
        ],
        [
         "Finland",
         "F",
         6,
         8,
         1
        ],
        [
         "North Macedonia",
         "F",
         4,
         0,
         2
        ]
       ],
       "datasetInfos": [],
       "dbfsResultPath": null,
       "isJsonSchema": true,
       "metadata": {
        "isDbfsCommandResult": false
       },
       "overflow": false,
       "plotOptions": {
        "customPlotOptions": {},
        "displayType": "table",
        "pivotAggregation": null,
        "pivotColumns": null,
        "xColumns": null,
        "yColumns": null
       },
       "removedWidgets": [],
       "schema": [
        {
         "metadata": "{\"__CHAR_VARCHAR_TYPE_STRING\":\"varchar(20)\"}",
         "name": "TeamName",
         "type": "\"string\""
        },
        {
         "metadata": "{\"__CHAR_VARCHAR_TYPE_STRING\":\"varchar(20)\"}",
         "name": "TeamGroup",
         "type": "\"string\""
        },
        {
         "metadata": "{}",
         "name": "points",
         "type": "\"long\""
        },
        {
         "metadata": "{}",
         "name": "Goal_difference",
         "type": "\"long\""
        },
        {
         "metadata": "{}",
         "name": "ranks",
         "type": "\"integer\""
        }
       ],
       "type": "table"
      }
     },
     "output_type": "display_data"
    }
   ],
   "source": [
    "%sql\n",
    "CREATE OR REPLACE TABLE round_of_16 AS\n",
    "SELECT * FROM(\n",
    "  SELECT TeamName, TeamGroup, points, Goal_difference,\n",
    "  row_number() OVER (PARTITION BY TeamGroup ORDER BY points DESC, Goal_difference DESC, Goals_scored DESC, Matches_won DESC)AS ranks\n",
    "  FROM group_stage_ranking\n",
    ")AS top2_teams\n",
    "WHERE ranks <= 2;\n",
    "\n",
    "select * from round_of_16;"
   ]
  },
  {
   "cell_type": "code",
   "execution_count": 0,
   "metadata": {
    "application/vnd.databricks.v1+cell": {
     "cellMetadata": {
      "byteLimit": 2048000,
      "rowLimit": 10000
     },
     "inputWidgets": {},
     "nuid": "00db53b9-b3b0-4229-ba6b-2cbbbc6bca5c",
     "showTitle": false,
     "title": ""
    }
   },
   "outputs": [
    {
     "output_type": "display_data",
     "data": {
      "text/html": [
       "<style scoped>\n",
       "  .table-result-container {\n",
       "    max-height: 300px;\n",
       "    overflow: auto;\n",
       "  }\n",
       "  table, th, td {\n",
       "    border: 1px solid black;\n",
       "    border-collapse: collapse;\n",
       "  }\n",
       "  th, td {\n",
       "    padding: 5px;\n",
       "  }\n",
       "  th {\n",
       "    text-align: left;\n",
       "  }\n",
       "</style><div class='table-result-container'><table class='table-result'><thead style='background-color: white'><tr><th>TeamName</th><th>TeamGroup</th><th>points</th><th>Goal_difference</th><th>ranks</th></tr></thead><tbody><tr><td>France</td><td>A</td><td>6</td><td>-1</td><td>1</td></tr><tr><td>Belgium</td><td>A</td><td>5</td><td>3</td><td>2</td></tr><tr><td>Spain</td><td>B</td><td>5</td><td>4</td><td>1</td></tr><tr><td>Germany</td><td>B</td><td>5</td><td>2</td><td>2</td></tr><tr><td>Austria</td><td>C</td><td>9</td><td>4</td><td>1</td></tr><tr><td>Switzerland</td><td>C</td><td>3</td><td>-1</td><td>2</td></tr><tr><td>Sweden</td><td>D</td><td>7</td><td>4</td><td>1</td></tr><tr><td>Poland</td><td>D</td><td>5</td><td>4</td><td>2</td></tr><tr><td>Hungary</td><td>E</td><td>7</td><td>4</td><td>1</td></tr><tr><td>Slovakia</td><td>E</td><td>6</td><td>3</td><td>2</td></tr><tr><td>Finland</td><td>F</td><td>6</td><td>8</td><td>1</td></tr><tr><td>North Macedonia</td><td>F</td><td>4</td><td>0</td><td>2</td></tr><tr><td>Italy</td><td>A</td><td>4</td><td>1</td><td>3</td></tr><tr><td>Netherlands</td><td>B</td><td>3</td><td>-1</td><td>3</td></tr><tr><td>Turkey</td><td>C</td><td>3</td><td>-1</td><td>3</td></tr><tr><td>Ukraine</td><td>D</td><td>4</td><td>1</td><td>3</td></tr></tbody></table></div>"
      ]
     },
     "metadata": {
      "application/vnd.databricks.v1+output": {
       "addedWidgets": {},
       "aggData": [],
       "aggError": "",
       "aggOverflow": false,
       "aggSchema": [],
       "aggSeriesLimitReached": false,
       "aggType": "",
       "arguments": {},
       "columnCustomDisplayInfos": {},
       "data": [
        [
         "France",
         "A",
         6,
         -1,
         1
        ],
        [
         "Belgium",
         "A",
         5,
         3,
         2
        ],
        [
         "Spain",
         "B",
         5,
         4,
         1
        ],
        [
         "Germany",
         "B",
         5,
         2,
         2
        ],
        [
         "Austria",
         "C",
         9,
         4,
         1
        ],
        [
         "Switzerland",
         "C",
         3,
         -1,
         2
        ],
        [
         "Sweden",
         "D",
         7,
         4,
         1
        ],
        [
         "Poland",
         "D",
         5,
         4,
         2
        ],
        [
         "Hungary",
         "E",
         7,
         4,
         1
        ],
        [
         "Slovakia",
         "E",
         6,
         3,
         2
        ],
        [
         "Finland",
         "F",
         6,
         8,
         1
        ],
        [
         "North Macedonia",
         "F",
         4,
         0,
         2
        ],
        [
         "Italy",
         "A",
         4,
         1,
         3
        ],
        [
         "Netherlands",
         "B",
         3,
         -1,
         3
        ],
        [
         "Turkey",
         "C",
         3,
         -1,
         3
        ],
        [
         "Ukraine",
         "D",
         4,
         1,
         3
        ]
       ],
       "datasetInfos": [],
       "dbfsResultPath": null,
       "isJsonSchema": true,
       "metadata": {
        "isDbfsCommandResult": false
       },
       "overflow": false,
       "plotOptions": {
        "customPlotOptions": {},
        "displayType": "table",
        "pivotAggregation": null,
        "pivotColumns": null,
        "xColumns": null,
        "yColumns": null
       },
       "removedWidgets": [],
       "schema": [
        {
         "metadata": "{\"__CHAR_VARCHAR_TYPE_STRING\":\"varchar(20)\"}",
         "name": "TeamName",
         "type": "\"string\""
        },
        {
         "metadata": "{\"__CHAR_VARCHAR_TYPE_STRING\":\"varchar(20)\"}",
         "name": "TeamGroup",
         "type": "\"string\""
        },
        {
         "metadata": "{}",
         "name": "points",
         "type": "\"long\""
        },
        {
         "metadata": "{}",
         "name": "Goal_difference",
         "type": "\"long\""
        },
        {
         "metadata": "{}",
         "name": "ranks",
         "type": "\"integer\""
        }
       ],
       "type": "table"
      }
     },
     "output_type": "display_data"
    }
   ],
   "source": [
    "%sql\n",
    "INSERT INTO round_of_16\n",
    "SELECT * FROM(\n",
    "  SELECT TeamName, TeamGroup, points, Goal_difference,\n",
    "  row_number() OVER (PARTITION BY TeamGroup ORDER BY points DESC, Goal_difference DESC, Goals_scored DESC, Matches_won DESC) AS ranks\n",
    "  FROM group_stage_ranking\n",
    ")AS top2_teams\n",
    "WHERE ranks = 3 LIMIT 4;\n",
    "\n",
    "select * from round_of_16;"
   ]
  },
  {
   "cell_type": "code",
   "execution_count": 0,
   "metadata": {
    "application/vnd.databricks.v1+cell": {
     "cellMetadata": {
      "byteLimit": 2048000,
      "rowLimit": 10000
     },
     "inputWidgets": {},
     "nuid": "4e4409c4-0deb-45d7-837a-d94f21dd0fdd",
     "showTitle": false,
     "title": ""
    }
   },
   "outputs": [
    {
     "output_type": "display_data",
     "data": {
      "text/html": [
       "<style scoped>\n",
       "  .table-result-container {\n",
       "    max-height: 300px;\n",
       "    overflow: auto;\n",
       "  }\n",
       "  table, th, td {\n",
       "    border: 1px solid black;\n",
       "    border-collapse: collapse;\n",
       "  }\n",
       "  th, td {\n",
       "    padding: 5px;\n",
       "  }\n",
       "  th {\n",
       "    text-align: left;\n",
       "  }\n",
       "</style><div class='table-result-container'><table class='table-result'><thead style='background-color: white'><tr><th>num_affected_rows</th><th>num_inserted_rows</th></tr></thead><tbody><tr><td>15</td><td>15</td></tr></tbody></table></div>"
      ]
     },
     "metadata": {
      "application/vnd.databricks.v1+output": {
       "addedWidgets": {},
       "aggData": [],
       "aggError": "",
       "aggOverflow": false,
       "aggSchema": [],
       "aggSeriesLimitReached": false,
       "aggType": "",
       "arguments": {},
       "columnCustomDisplayInfos": {},
       "data": [
        [
         15,
         15
        ]
       ],
       "datasetInfos": [],
       "dbfsResultPath": null,
       "isJsonSchema": true,
       "metadata": {
        "isDbfsCommandResult": false
       },
       "overflow": false,
       "plotOptions": {
        "customPlotOptions": {},
        "displayType": "table",
        "pivotAggregation": null,
        "pivotColumns": null,
        "xColumns": null,
        "yColumns": null
       },
       "removedWidgets": [],
       "schema": [
        {
         "metadata": "{}",
         "name": "num_affected_rows",
         "type": "\"long\""
        },
        {
         "metadata": "{}",
         "name": "num_inserted_rows",
         "type": "\"long\""
        }
       ],
       "type": "table"
      }
     },
     "output_type": "display_data"
    }
   ],
   "source": [
    "%sql\n",
    "CREATE or replace  TABLE eurocup_third_place_combi(\n",
    "  ID INTEGER,\n",
    "  selected_groups VARCHAR(4),\n",
    "  Team1B CHAR(1),\n",
    "  Team1C CHAR(1),\n",
    "  Team1E CHAR(1),\n",
    "  Team1F CHAR(1)\n",
    ");\n",
    "\n",
    "-- Step 2: Insert the provided values into the \"THIRDMATCHUP\" table\n",
    "INSERT INTO  eurocup_third_place_combi (ID, selected_groups, Team1B, Team1C, Team1E, Team1F) VALUES\n",
    "(1, 'ABCD', 'A', 'D', 'B', 'C'),\n",
    "(2, 'ABCE', 'A', 'E', 'B', 'C'),\n",
    "(3, 'ABCF', 'A', 'F', 'B', 'C'),\n",
    "(4, 'ABDE', 'D', 'E', 'A', 'B'),\n",
    "(5, 'ABDF', 'D', 'F', 'A', 'B'),\n",
    "(6, 'ABEF', 'E', 'F', 'B', 'A'),\n",
    "(7, 'ACDE', 'E', 'D', 'C', 'A'),\n",
    "(8, 'ACDF', 'F', 'D', 'C', 'A'),\n",
    "(9, 'ACEF', 'E', 'F', 'C', 'A'),\n",
    "(10, 'ADEF', 'E', 'F', 'D', 'A'),\n",
    "(11, 'BCDE', 'E', 'D', 'B', 'C'),\n",
    "(12, 'BCDF', 'F', 'D', 'C', 'B'),\n",
    "(13, 'BCEF', 'F', 'E', 'C', 'B'),\n",
    "(14, 'BDEF', 'F', 'E', 'D', 'B'),\n",
    "(15, 'CDEF', 'F', 'E', 'D', 'C');"
   ]
  },
  {
   "cell_type": "code",
   "execution_count": 0,
   "metadata": {
    "application/vnd.databricks.v1+cell": {
     "cellMetadata": {
      "byteLimit": 2048000,
      "rowLimit": 10000
     },
     "inputWidgets": {},
     "nuid": "c439f342-3ab2-4e30-a0f9-1fc9a19bb7c8",
     "showTitle": false,
     "title": ""
    }
   },
   "outputs": [],
   "source": [
    "%sql\n",
    "\n",
    "\n"
   ]
  },
  {
   "cell_type": "code",
   "execution_count": 0,
   "metadata": {
    "application/vnd.databricks.v1+cell": {
     "cellMetadata": {
      "byteLimit": 2048000,
      "rowLimit": 10000
     },
     "inputWidgets": {},
     "nuid": "5a2612a6-1ac3-42ea-b259-98d663c5da87",
     "showTitle": false,
     "title": ""
    }
   },
   "outputs": [
    {
     "output_type": "display_data",
     "data": {
      "text/html": [
       "<style scoped>\n",
       "  .table-result-container {\n",
       "    max-height: 300px;\n",
       "    overflow: auto;\n",
       "  }\n",
       "  table, th, td {\n",
       "    border: 1px solid black;\n",
       "    border-collapse: collapse;\n",
       "  }\n",
       "  th, td {\n",
       "    padding: 5px;\n",
       "  }\n",
       "  th {\n",
       "    text-align: left;\n",
       "  }\n",
       "</style><div class='table-result-container'><table class='table-result'><thead style='background-color: white'><tr><th>num_affected_rows</th><th>num_inserted_rows</th></tr></thead><tbody><tr><td>8</td><td>8</td></tr></tbody></table></div>"
      ]
     },
     "metadata": {
      "application/vnd.databricks.v1+output": {
       "addedWidgets": {},
       "aggData": [],
       "aggError": "",
       "aggOverflow": false,
       "aggSchema": [],
       "aggSeriesLimitReached": false,
       "aggType": "",
       "arguments": {},
       "columnCustomDisplayInfos": {},
       "data": [
        [
         8,
         8
        ]
       ],
       "datasetInfos": [],
       "dbfsResultPath": null,
       "isJsonSchema": true,
       "metadata": {
        "isDbfsCommandResult": false
       },
       "overflow": false,
       "plotOptions": {
        "customPlotOptions": {},
        "displayType": "table",
        "pivotAggregation": null,
        "pivotColumns": null,
        "xColumns": null,
        "yColumns": null
       },
       "removedWidgets": [],
       "schema": [
        {
         "metadata": "{}",
         "name": "num_affected_rows",
         "type": "\"long\""
        },
        {
         "metadata": "{}",
         "name": "num_inserted_rows",
         "type": "\"long\""
        }
       ],
       "type": "table"
      }
     },
     "output_type": "display_data"
    }
   ],
   "source": [
    "%sql\n",
    "INSERT INTO matches (MatchID, TeamGroup, home_country, away_country, home_country_goal, away_country_goal, winner_country)\n",
    "WITH combination AS (\n",
    "  SELECT concat_ws('', sort_array(collect_list(TeamGroup)))AS group_combination\n",
    "  FROM round_of_16\n",
    "  WHERE ranks = 3\n",
    "),\n",
    "keys AS (\n",
    "  SELECT * FROM eurocup_third_place_combi\n",
    "  WHERE selected_groups = (SELECT group_combination FROM combination)\n",
    ")\n",
    "SELECT\n",
    "row_number() OVER (ORDER BY 1) + 36 AS MatchId,\n",
    "'N' AS Team_group,\n",
    "r1.TeamName AS home_country,\n",
    "r2.TeamName AS away_country,\n",
    "CAST(rand() * 6 AS INTEGER) AS home_country_goal,\n",
    "CAST(rand() * 6 AS INTEGER) AS away_country_goal,\n",
    "'None' AS match_result\n",
    "FROM round_of_16 r1\n",
    "JOIN round_of_16 r2 ON r1.TeamGroup = 'A' AND r1.ranks = 1 AND r2.TeamGroup = 'C' AND r2.ranks = 2\n",
    "\n",
    "\n",
    "UNION ALL\n",
    "\n",
    "SELECT \n",
    "    row_number() OVER (ORDER BY 1) + 37 AS match_id,\n",
    "    'N' AS group_name,\n",
    "    r1.TeamName AS home_country,\n",
    "    r2.TeamName AS away_country,\n",
    "    CAST(rand() * 6 AS INT) AS home_country_goal, \n",
    "    CAST(rand() * 6 AS INT) AS away_country_goal,\n",
    "    'NONE' AS match_result\n",
    "FROM \n",
    "    round_of_16 r1\n",
    "JOIN \n",
    " round_of_16 r2 ON r1.TeamGroup = 'A' AND r1.ranks = 2 AND r2.TeamGroup = 'B' AND r2.ranks = 2\n",
    "   \n",
    "\n",
    "UNION ALL\n",
    "\n",
    "SELECT \n",
    "    row_number() OVER (ORDER BY 1) + 38 AS match_id,\n",
    "    'N' AS group_name,\n",
    "    r1.TeamName AS home_country,\n",
    "    r2.TeamName AS away_country,\n",
    "    CAST(rand() * 6 AS INT) AS home_country_goal, \n",
    "    CAST(rand() * 6 AS INT) AS away_country_goal,\n",
    "    'NONE' AS match_result\n",
    "FROM \n",
    "    round_of_16 r1\n",
    "JOIN \n",
    "    round_of_16 r2 ON r1.TeamGroup = 'B' AND r1.ranks = 1 AND r2.TeamGroup = (SELECT TEAM1B FROM keys) AND r2.ranks = 3\n",
    "\n",
    "UNION ALL\n",
    "\n",
    "SELECT \n",
    "    row_number() OVER (ORDER BY 1) + 39 AS match_id,\n",
    "    'N' AS group_name,\n",
    "    r1.TeamName AS home_country,\n",
    "    r2.TeamName AS away_country,\n",
    "    CAST(rand() * 6 AS INT) AS home_country_goal, \n",
    "    CAST(rand() * 6 AS INT) AS away_country_goal,\n",
    "    'NONE' AS match_result\n",
    "FROM \n",
    "    round_of_16 r1\n",
    "JOIN \n",
    "    round_of_16 r2 ON r1.TeamGroup = 'C' AND r1.ranks = 1 AND r2.TeamGroup = (select Team1C from keys) AND r2.ranks = 3\n",
    "\n",
    "UNION ALL\n",
    "\n",
    "SELECT \n",
    "    Row_Number() OVER (ORDER BY 1) + 40 AS match_id,\n",
    "    'N' AS group_name,\n",
    "    r1.TeamName AS home_country,\n",
    "    r2.TeamName AS away_country,\n",
    "    CAST(rand() * 6 AS INT) AS home_country_goal, \n",
    "    CAST(rand() * 6 AS INT) AS away_country_goal,\n",
    "    'NONE' AS match_result\n",
    "FROM \n",
    "    round_of_16 r1\n",
    "JOIN \n",
    "     round_of_16 r2 ON r1.TeamGroup = 'F' AND r1.ranks = 1 AND r2.TeamGroup = (select Team1F from keys) AND r2.ranks = 3\n",
    "\n",
    "\n",
    "UNION ALL\n",
    "\n",
    "SELECT \n",
    "    Row_Number() OVER (ORDER BY 1) + 41 AS match_id,\n",
    "    'N' AS group_name,\n",
    "    r1.TeamName AS home_country,\n",
    "    r2.TeamName AS away_country,\n",
    "    CAST(rand() * 6 AS INT) AS home_country_goal, \n",
    "    CAST(rand() * 6 AS INT) AS away_country_goal,\n",
    "    'NONE' AS match_result\n",
    "FROM \n",
    "    round_of_16 r1\n",
    "JOIN \n",
    "    round_of_16 r2 ON r1.TeamGroup = 'D' AND r1.ranks = 2 AND r2.TeamGroup = 'E' AND r2.ranks = 2\n",
    "   \n",
    "\n",
    "UNION ALL\n",
    "\n",
    "SELECT \n",
    "    Row_Number() OVER (ORDER BY 1) + 42 AS match_id,\n",
    "    'N' AS group_name,\n",
    "    r1.TeamName AS home_country,\n",
    "    r2.TeamName AS away_country,\n",
    "    CAST(rand() * 6 AS INT) AS home_country_goal, \n",
    "    CAST(rand() * 6 AS INT) AS away_country_goal,\n",
    "    'NONE' AS match_result\n",
    "FROM \n",
    "    round_of_16 r1\n",
    "JOIN \n",
    "    round_of_16 r2 ON r1.TeamGroup = 'E' AND r1.ranks = 1 AND r2.TeamGroup = (SELECT Team1E from keys) AND r2.ranks = 3\n",
    "   \n",
    "\n",
    "UNION ALL\n",
    "\n",
    "SELECT \n",
    "    Row_Number() OVER (ORDER BY 1) + 43 AS match_id,\n",
    "    'N' AS group_name,\n",
    "    r1.TeamName AS home_country,\n",
    "    r2.TeamName AS away_country,\n",
    "    CAST(rand() * 6 AS INT) AS home_country_goal, \n",
    "    CAST(rand() * 6 AS INT) AS away_country_goal,\n",
    "    'NONE' AS match_result\n",
    "FROM \n",
    "    round_of_16 r1\n",
    "JOIN \n",
    "    round_of_16 r2 ON r1.TeamGroup = 'D' AND r1.ranks = 2 AND r2.TeamGroup = 'F' AND r2.ranks = 2;"
   ]
  },
  {
   "cell_type": "code",
   "execution_count": 0,
   "metadata": {
    "application/vnd.databricks.v1+cell": {
     "cellMetadata": {
      "byteLimit": 2048000,
      "rowLimit": 10000
     },
     "inputWidgets": {},
     "nuid": "af124858-75b8-4b38-8ccc-f7bcebbde22c",
     "showTitle": false,
     "title": ""
    }
   },
   "outputs": [
    {
     "output_type": "display_data",
     "data": {
      "text/html": [
       "<style scoped>\n",
       "  .table-result-container {\n",
       "    max-height: 300px;\n",
       "    overflow: auto;\n",
       "  }\n",
       "  table, th, td {\n",
       "    border: 1px solid black;\n",
       "    border-collapse: collapse;\n",
       "  }\n",
       "  th, td {\n",
       "    padding: 5px;\n",
       "  }\n",
       "  th {\n",
       "    text-align: left;\n",
       "  }\n",
       "</style><div class='table-result-container'><table class='table-result'><thead style='background-color: white'><tr><th>MatchId</th><th>TeamGroup</th><th>home_country</th><th>away_country</th><th>home_country_goal</th><th>away_country_goal</th><th>winner_country</th></tr></thead><tbody><tr><td>1</td><td>A</td><td>France</td><td>Portugal</td><td>4</td><td>4</td><td>Draw</td></tr><tr><td>2</td><td>A</td><td>France</td><td>Belgium</td><td>1</td><td>1</td><td>Draw</td></tr><tr><td>3</td><td>A</td><td>France</td><td>Italy</td><td>5</td><td>4</td><td>France</td></tr><tr><td>4</td><td>A</td><td>Italy</td><td>Portugal</td><td>6</td><td>5</td><td>Italy</td></tr><tr><td>5</td><td>A</td><td>Italy</td><td>Belgium</td><td>2</td><td>3</td><td>Belgium</td></tr><tr><td>6</td><td>A</td><td>Belgium</td><td>Portugal</td><td>1</td><td>5</td><td>Portugal</td></tr><tr><td>7</td><td>B</td><td>Spain</td><td>England</td><td>6</td><td>5</td><td>Spain</td></tr><tr><td>8</td><td>B</td><td>Spain</td><td>Germany</td><td>3</td><td>5</td><td>Germany</td></tr><tr><td>9</td><td>B</td><td>Spain</td><td>Netherlands</td><td>1</td><td>3</td><td>Netherlands</td></tr><tr><td>10</td><td>B</td><td>Netherlands</td><td>England</td><td>3</td><td>5</td><td>England</td></tr><tr><td>11</td><td>B</td><td>Netherlands</td><td>Germany</td><td>3</td><td>1</td><td>Netherlands</td></tr><tr><td>12</td><td>B</td><td>Germany</td><td>England</td><td>2</td><td>3</td><td>England</td></tr><tr><td>13</td><td>C</td><td>Turkey</td><td>Denmark</td><td>6</td><td>6</td><td>Draw</td></tr><tr><td>14</td><td>C</td><td>Turkey</td><td>Switzerland</td><td>6</td><td>2</td><td>Turkey</td></tr><tr><td>15</td><td>C</td><td>Turkey</td><td>Austria</td><td>2</td><td>3</td><td>Austria</td></tr><tr><td>16</td><td>C</td><td>Austria</td><td>Denmark</td><td>4</td><td>6</td><td>Denmark</td></tr><tr><td>17</td><td>C</td><td>Austria</td><td>Switzerland</td><td>2</td><td>3</td><td>Switzerland</td></tr><tr><td>18</td><td>C</td><td>Switzerland</td><td>Denmark</td><td>5</td><td>5</td><td>Draw</td></tr><tr><td>19</td><td>D</td><td>Croatia</td><td>Poland</td><td>1</td><td>1</td><td>Draw</td></tr><tr><td>20</td><td>D</td><td>Croatia</td><td>Sweden</td><td>3</td><td>6</td><td>Sweden</td></tr><tr><td>21</td><td>D</td><td>Croatia</td><td>Ukraine</td><td>1</td><td>4</td><td>Ukraine</td></tr><tr><td>22</td><td>D</td><td>Ukraine</td><td>Poland</td><td>6</td><td>2</td><td>Ukraine</td></tr><tr><td>23</td><td>D</td><td>Ukraine</td><td>Sweden</td><td>5</td><td>6</td><td>Sweden</td></tr><tr><td>24</td><td>D</td><td>Sweden</td><td>Poland</td><td>1</td><td>2</td><td>Poland</td></tr><tr><td>25</td><td>E</td><td>Wales</td><td>Hungary</td><td>6</td><td>3</td><td>Wales</td></tr><tr><td>26</td><td>E</td><td>Wales</td><td>Slovakia</td><td>4</td><td>5</td><td>Slovakia</td></tr><tr><td>27</td><td>E</td><td>Wales</td><td>Czech Republic</td><td>6</td><td>2</td><td>Wales</td></tr><tr><td>28</td><td>E</td><td>Czech Republic</td><td>Hungary</td><td>4</td><td>2</td><td>Czech Republic</td></tr><tr><td>29</td><td>E</td><td>Czech Republic</td><td>Slovakia</td><td>1</td><td>6</td><td>Slovakia</td></tr><tr><td>30</td><td>E</td><td>Slovakia</td><td>Hungary</td><td>3</td><td>5</td><td>Hungary</td></tr><tr><td>31</td><td>F</td><td>Finland</td><td>Russia</td><td>4</td><td>4</td><td>Draw</td></tr><tr><td>32</td><td>F</td><td>Finland</td><td>Scotland</td><td>3</td><td>2</td><td>Finland</td></tr><tr><td>33</td><td>F</td><td>Finland</td><td>North Macedonia</td><td>1</td><td>6</td><td>North Macedonia</td></tr><tr><td>34</td><td>F</td><td>North Macedonia</td><td>Russia</td><td>2</td><td>3</td><td>Russia</td></tr><tr><td>35</td><td>F</td><td>North Macedonia</td><td>Scotland</td><td>5</td><td>5</td><td>Draw</td></tr><tr><td>36</td><td>F</td><td>Scotland</td><td>Russia</td><td>4</td><td>4</td><td>Draw</td></tr><tr><td>37</td><td>N</td><td>France</td><td>Switzerland</td><td>5</td><td>0</td><td>None</td></tr><tr><td>38</td><td>N</td><td>Belgium</td><td>Germany</td><td>5</td><td>2</td><td>NONE</td></tr><tr><td>39</td><td>N</td><td>Spain</td><td>Italy</td><td>1</td><td>4</td><td>NONE</td></tr><tr><td>40</td><td>N</td><td>Austria</td><td>Ukraine</td><td>5</td><td>2</td><td>NONE</td></tr><tr><td>41</td><td>N</td><td>Finland</td><td>Turkey</td><td>4</td><td>2</td><td>NONE</td></tr><tr><td>42</td><td>N</td><td>Poland</td><td>Slovakia</td><td>4</td><td>5</td><td>NONE</td></tr><tr><td>43</td><td>N</td><td>Hungary</td><td>Netherlands</td><td>3</td><td>0</td><td>NONE</td></tr><tr><td>44</td><td>N</td><td>Poland</td><td>North Macedonia</td><td>3</td><td>5</td><td>NONE</td></tr></tbody></table></div>"
      ]
     },
     "metadata": {
      "application/vnd.databricks.v1+output": {
       "addedWidgets": {},
       "aggData": [],
       "aggError": "",
       "aggOverflow": false,
       "aggSchema": [],
       "aggSeriesLimitReached": false,
       "aggType": "",
       "arguments": {},
       "columnCustomDisplayInfos": {},
       "data": [
        [
         1,
         "A",
         "France",
         "Portugal",
         4,
         4,
         "Draw"
        ],
        [
         2,
         "A",
         "France",
         "Belgium",
         1,
         1,
         "Draw"
        ],
        [
         3,
         "A",
         "France",
         "Italy",
         5,
         4,
         "France"
        ],
        [
         4,
         "A",
         "Italy",
         "Portugal",
         6,
         5,
         "Italy"
        ],
        [
         5,
         "A",
         "Italy",
         "Belgium",
         2,
         3,
         "Belgium"
        ],
        [
         6,
         "A",
         "Belgium",
         "Portugal",
         1,
         5,
         "Portugal"
        ],
        [
         7,
         "B",
         "Spain",
         "England",
         6,
         5,
         "Spain"
        ],
        [
         8,
         "B",
         "Spain",
         "Germany",
         3,
         5,
         "Germany"
        ],
        [
         9,
         "B",
         "Spain",
         "Netherlands",
         1,
         3,
         "Netherlands"
        ],
        [
         10,
         "B",
         "Netherlands",
         "England",
         3,
         5,
         "England"
        ],
        [
         11,
         "B",
         "Netherlands",
         "Germany",
         3,
         1,
         "Netherlands"
        ],
        [
         12,
         "B",
         "Germany",
         "England",
         2,
         3,
         "England"
        ],
        [
         13,
         "C",
         "Turkey",
         "Denmark",
         6,
         6,
         "Draw"
        ],
        [
         14,
         "C",
         "Turkey",
         "Switzerland",
         6,
         2,
         "Turkey"
        ],
        [
         15,
         "C",
         "Turkey",
         "Austria",
         2,
         3,
         "Austria"
        ],
        [
         16,
         "C",
         "Austria",
         "Denmark",
         4,
         6,
         "Denmark"
        ],
        [
         17,
         "C",
         "Austria",
         "Switzerland",
         2,
         3,
         "Switzerland"
        ],
        [
         18,
         "C",
         "Switzerland",
         "Denmark",
         5,
         5,
         "Draw"
        ],
        [
         19,
         "D",
         "Croatia",
         "Poland",
         1,
         1,
         "Draw"
        ],
        [
         20,
         "D",
         "Croatia",
         "Sweden",
         3,
         6,
         "Sweden"
        ],
        [
         21,
         "D",
         "Croatia",
         "Ukraine",
         1,
         4,
         "Ukraine"
        ],
        [
         22,
         "D",
         "Ukraine",
         "Poland",
         6,
         2,
         "Ukraine"
        ],
        [
         23,
         "D",
         "Ukraine",
         "Sweden",
         5,
         6,
         "Sweden"
        ],
        [
         24,
         "D",
         "Sweden",
         "Poland",
         1,
         2,
         "Poland"
        ],
        [
         25,
         "E",
         "Wales",
         "Hungary",
         6,
         3,
         "Wales"
        ],
        [
         26,
         "E",
         "Wales",
         "Slovakia",
         4,
         5,
         "Slovakia"
        ],
        [
         27,
         "E",
         "Wales",
         "Czech Republic",
         6,
         2,
         "Wales"
        ],
        [
         28,
         "E",
         "Czech Republic",
         "Hungary",
         4,
         2,
         "Czech Republic"
        ],
        [
         29,
         "E",
         "Czech Republic",
         "Slovakia",
         1,
         6,
         "Slovakia"
        ],
        [
         30,
         "E",
         "Slovakia",
         "Hungary",
         3,
         5,
         "Hungary"
        ],
        [
         31,
         "F",
         "Finland",
         "Russia",
         4,
         4,
         "Draw"
        ],
        [
         32,
         "F",
         "Finland",
         "Scotland",
         3,
         2,
         "Finland"
        ],
        [
         33,
         "F",
         "Finland",
         "North Macedonia",
         1,
         6,
         "North Macedonia"
        ],
        [
         34,
         "F",
         "North Macedonia",
         "Russia",
         2,
         3,
         "Russia"
        ],
        [
         35,
         "F",
         "North Macedonia",
         "Scotland",
         5,
         5,
         "Draw"
        ],
        [
         36,
         "F",
         "Scotland",
         "Russia",
         4,
         4,
         "Draw"
        ],
        [
         37,
         "N",
         "France",
         "Switzerland",
         5,
         0,
         "None"
        ],
        [
         38,
         "N",
         "Belgium",
         "Germany",
         5,
         2,
         "NONE"
        ],
        [
         39,
         "N",
         "Spain",
         "Italy",
         1,
         4,
         "NONE"
        ],
        [
         40,
         "N",
         "Austria",
         "Ukraine",
         5,
         2,
         "NONE"
        ],
        [
         41,
         "N",
         "Finland",
         "Turkey",
         4,
         2,
         "NONE"
        ],
        [
         42,
         "N",
         "Poland",
         "Slovakia",
         4,
         5,
         "NONE"
        ],
        [
         43,
         "N",
         "Hungary",
         "Netherlands",
         3,
         0,
         "NONE"
        ],
        [
         44,
         "N",
         "Poland",
         "North Macedonia",
         3,
         5,
         "NONE"
        ]
       ],
       "datasetInfos": [],
       "dbfsResultPath": null,
       "isJsonSchema": true,
       "metadata": {
        "isDbfsCommandResult": false
       },
       "overflow": false,
       "plotOptions": {
        "customPlotOptions": {},
        "displayType": "table",
        "pivotAggregation": null,
        "pivotColumns": null,
        "xColumns": null,
        "yColumns": null
       },
       "removedWidgets": [],
       "schema": [
        {
         "metadata": "{}",
         "name": "MatchId",
         "type": "\"integer\""
        },
        {
         "metadata": "{\"__CHAR_VARCHAR_TYPE_STRING\":\"varchar(20)\"}",
         "name": "TeamGroup",
         "type": "\"string\""
        },
        {
         "metadata": "{\"__CHAR_VARCHAR_TYPE_STRING\":\"varchar(20)\"}",
         "name": "home_country",
         "type": "\"string\""
        },
        {
         "metadata": "{\"__CHAR_VARCHAR_TYPE_STRING\":\"varchar(20)\"}",
         "name": "away_country",
         "type": "\"string\""
        },
        {
         "metadata": "{}",
         "name": "home_country_goal",
         "type": "\"integer\""
        },
        {
         "metadata": "{}",
         "name": "away_country_goal",
         "type": "\"integer\""
        },
        {
         "metadata": "{\"__CHAR_VARCHAR_TYPE_STRING\":\"varchar(20)\"}",
         "name": "winner_country",
         "type": "\"string\""
        }
       ],
       "type": "table"
      }
     },
     "output_type": "display_data"
    }
   ],
   "source": [
    "%sql\n",
    "select * from matches order by MatchId;"
   ]
  },
  {
   "cell_type": "code",
   "execution_count": 0,
   "metadata": {
    "application/vnd.databricks.v1+cell": {
     "cellMetadata": {
      "byteLimit": 2048000,
      "rowLimit": 10000
     },
     "inputWidgets": {},
     "nuid": "df0efdcb-7f26-477d-82e3-4268e9c72892",
     "showTitle": false,
     "title": ""
    }
   },
   "outputs": [
    {
     "output_type": "display_data",
     "data": {
      "text/html": [
       "<style scoped>\n",
       "  .table-result-container {\n",
       "    max-height: 300px;\n",
       "    overflow: auto;\n",
       "  }\n",
       "  table, th, td {\n",
       "    border: 1px solid black;\n",
       "    border-collapse: collapse;\n",
       "  }\n",
       "  th, td {\n",
       "    padding: 5px;\n",
       "  }\n",
       "  th {\n",
       "    text-align: left;\n",
       "  }\n",
       "</style><div class='table-result-container'><table class='table-result'><thead style='background-color: white'><tr><th>num_affected_rows</th></tr></thead><tbody><tr><td>44</td></tr></tbody></table></div>"
      ]
     },
     "metadata": {
      "application/vnd.databricks.v1+output": {
       "addedWidgets": {},
       "aggData": [],
       "aggError": "",
       "aggOverflow": false,
       "aggSchema": [],
       "aggSeriesLimitReached": false,
       "aggType": "",
       "arguments": {},
       "columnCustomDisplayInfos": {},
       "data": [
        [
         44
        ]
       ],
       "datasetInfos": [],
       "dbfsResultPath": null,
       "isJsonSchema": true,
       "metadata": {
        "isDbfsCommandResult": false
       },
       "overflow": false,
       "plotOptions": {
        "customPlotOptions": {},
        "displayType": "table",
        "pivotAggregation": null,
        "pivotColumns": null,
        "xColumns": null,
        "yColumns": null
       },
       "removedWidgets": [],
       "schema": [
        {
         "metadata": "{}",
         "name": "num_affected_rows",
         "type": "\"long\""
        }
       ],
       "type": "table"
      }
     },
     "output_type": "display_data"
    }
   ],
   "source": [
    "%sql\n",
    "UPDATE matches\n",
    "SET winner_country = \n",
    "CASE\n",
    "WHEN home_country_goal > away_country_goal THEN home_country\n",
    "WHEN home_country_goal < away_country_goal THEN away_country\n",
    "ELSE\n",
    "CASE\n",
    "WHEN (home_country_goal + 1) % 2 = 1 THEN home_country\n",
    "ELSE away_country\n",
    "END\n",
    "END"
   ]
  },
  {
   "cell_type": "code",
   "execution_count": 0,
   "metadata": {
    "application/vnd.databricks.v1+cell": {
     "cellMetadata": {
      "byteLimit": 2048000,
      "rowLimit": 10000
     },
     "inputWidgets": {},
     "nuid": "5c39aabf-fee1-467e-9263-5778a5df4419",
     "showTitle": false,
     "title": ""
    }
   },
   "outputs": [
    {
     "output_type": "display_data",
     "data": {
      "text/html": [
       "<style scoped>\n",
       "  .table-result-container {\n",
       "    max-height: 300px;\n",
       "    overflow: auto;\n",
       "  }\n",
       "  table, th, td {\n",
       "    border: 1px solid black;\n",
       "    border-collapse: collapse;\n",
       "  }\n",
       "  th, td {\n",
       "    padding: 5px;\n",
       "  }\n",
       "  th {\n",
       "    text-align: left;\n",
       "  }\n",
       "</style><div class='table-result-container'><table class='table-result'><thead style='background-color: white'><tr><th>MatchId</th><th>TeamGroup</th><th>home_country</th><th>away_country</th><th>home_country_goal</th><th>away_country_goal</th><th>winner_country</th></tr></thead><tbody><tr><td>1</td><td>A</td><td>France</td><td>Portugal</td><td>4</td><td>4</td><td>France</td></tr><tr><td>2</td><td>A</td><td>France</td><td>Belgium</td><td>1</td><td>1</td><td>Belgium</td></tr><tr><td>3</td><td>A</td><td>France</td><td>Italy</td><td>5</td><td>4</td><td>France</td></tr><tr><td>4</td><td>A</td><td>Italy</td><td>Portugal</td><td>6</td><td>5</td><td>Italy</td></tr><tr><td>5</td><td>A</td><td>Italy</td><td>Belgium</td><td>2</td><td>3</td><td>Belgium</td></tr><tr><td>6</td><td>A</td><td>Belgium</td><td>Portugal</td><td>1</td><td>5</td><td>Portugal</td></tr><tr><td>7</td><td>B</td><td>Spain</td><td>England</td><td>6</td><td>5</td><td>Spain</td></tr><tr><td>8</td><td>B</td><td>Spain</td><td>Germany</td><td>3</td><td>5</td><td>Germany</td></tr><tr><td>9</td><td>B</td><td>Spain</td><td>Netherlands</td><td>1</td><td>3</td><td>Netherlands</td></tr><tr><td>10</td><td>B</td><td>Netherlands</td><td>England</td><td>3</td><td>5</td><td>England</td></tr><tr><td>11</td><td>B</td><td>Netherlands</td><td>Germany</td><td>3</td><td>1</td><td>Netherlands</td></tr><tr><td>12</td><td>B</td><td>Germany</td><td>England</td><td>2</td><td>3</td><td>England</td></tr><tr><td>13</td><td>C</td><td>Turkey</td><td>Denmark</td><td>6</td><td>6</td><td>Turkey</td></tr><tr><td>14</td><td>C</td><td>Turkey</td><td>Switzerland</td><td>6</td><td>2</td><td>Turkey</td></tr><tr><td>15</td><td>C</td><td>Turkey</td><td>Austria</td><td>2</td><td>3</td><td>Austria</td></tr><tr><td>16</td><td>C</td><td>Austria</td><td>Denmark</td><td>4</td><td>6</td><td>Denmark</td></tr><tr><td>17</td><td>C</td><td>Austria</td><td>Switzerland</td><td>2</td><td>3</td><td>Switzerland</td></tr><tr><td>18</td><td>C</td><td>Switzerland</td><td>Denmark</td><td>5</td><td>5</td><td>Denmark</td></tr><tr><td>19</td><td>D</td><td>Croatia</td><td>Poland</td><td>1</td><td>1</td><td>Poland</td></tr><tr><td>20</td><td>D</td><td>Croatia</td><td>Sweden</td><td>3</td><td>6</td><td>Sweden</td></tr><tr><td>21</td><td>D</td><td>Croatia</td><td>Ukraine</td><td>1</td><td>4</td><td>Ukraine</td></tr><tr><td>22</td><td>D</td><td>Ukraine</td><td>Poland</td><td>6</td><td>2</td><td>Ukraine</td></tr><tr><td>23</td><td>D</td><td>Ukraine</td><td>Sweden</td><td>5</td><td>6</td><td>Sweden</td></tr><tr><td>24</td><td>D</td><td>Sweden</td><td>Poland</td><td>1</td><td>2</td><td>Poland</td></tr><tr><td>25</td><td>E</td><td>Wales</td><td>Hungary</td><td>6</td><td>3</td><td>Wales</td></tr><tr><td>26</td><td>E</td><td>Wales</td><td>Slovakia</td><td>4</td><td>5</td><td>Slovakia</td></tr><tr><td>27</td><td>E</td><td>Wales</td><td>Czech Republic</td><td>6</td><td>2</td><td>Wales</td></tr><tr><td>28</td><td>E</td><td>Czech Republic</td><td>Hungary</td><td>4</td><td>2</td><td>Czech Republic</td></tr><tr><td>29</td><td>E</td><td>Czech Republic</td><td>Slovakia</td><td>1</td><td>6</td><td>Slovakia</td></tr><tr><td>30</td><td>E</td><td>Slovakia</td><td>Hungary</td><td>3</td><td>5</td><td>Hungary</td></tr><tr><td>31</td><td>F</td><td>Finland</td><td>Russia</td><td>4</td><td>4</td><td>Finland</td></tr><tr><td>32</td><td>F</td><td>Finland</td><td>Scotland</td><td>3</td><td>2</td><td>Finland</td></tr><tr><td>33</td><td>F</td><td>Finland</td><td>North Macedonia</td><td>1</td><td>6</td><td>North Macedonia</td></tr><tr><td>34</td><td>F</td><td>North Macedonia</td><td>Russia</td><td>2</td><td>3</td><td>Russia</td></tr><tr><td>35</td><td>F</td><td>North Macedonia</td><td>Scotland</td><td>5</td><td>5</td><td>Scotland</td></tr><tr><td>36</td><td>F</td><td>Scotland</td><td>Russia</td><td>4</td><td>4</td><td>Scotland</td></tr><tr><td>37</td><td>N</td><td>France</td><td>Switzerland</td><td>5</td><td>0</td><td>France</td></tr><tr><td>38</td><td>N</td><td>Belgium</td><td>Germany</td><td>5</td><td>2</td><td>Belgium</td></tr><tr><td>39</td><td>N</td><td>Spain</td><td>Italy</td><td>1</td><td>4</td><td>Italy</td></tr><tr><td>40</td><td>N</td><td>Austria</td><td>Ukraine</td><td>5</td><td>2</td><td>Austria</td></tr><tr><td>41</td><td>N</td><td>Finland</td><td>Turkey</td><td>4</td><td>2</td><td>Finland</td></tr><tr><td>42</td><td>N</td><td>Poland</td><td>Slovakia</td><td>4</td><td>5</td><td>Slovakia</td></tr><tr><td>43</td><td>N</td><td>Hungary</td><td>Netherlands</td><td>3</td><td>0</td><td>Hungary</td></tr><tr><td>44</td><td>N</td><td>Poland</td><td>North Macedonia</td><td>3</td><td>5</td><td>North Macedonia</td></tr></tbody></table></div>"
      ]
     },
     "metadata": {
      "application/vnd.databricks.v1+output": {
       "addedWidgets": {},
       "aggData": [],
       "aggError": "",
       "aggOverflow": false,
       "aggSchema": [],
       "aggSeriesLimitReached": false,
       "aggType": "",
       "arguments": {},
       "columnCustomDisplayInfos": {},
       "data": [
        [
         1,
         "A",
         "France",
         "Portugal",
         4,
         4,
         "France"
        ],
        [
         2,
         "A",
         "France",
         "Belgium",
         1,
         1,
         "Belgium"
        ],
        [
         3,
         "A",
         "France",
         "Italy",
         5,
         4,
         "France"
        ],
        [
         4,
         "A",
         "Italy",
         "Portugal",
         6,
         5,
         "Italy"
        ],
        [
         5,
         "A",
         "Italy",
         "Belgium",
         2,
         3,
         "Belgium"
        ],
        [
         6,
         "A",
         "Belgium",
         "Portugal",
         1,
         5,
         "Portugal"
        ],
        [
         7,
         "B",
         "Spain",
         "England",
         6,
         5,
         "Spain"
        ],
        [
         8,
         "B",
         "Spain",
         "Germany",
         3,
         5,
         "Germany"
        ],
        [
         9,
         "B",
         "Spain",
         "Netherlands",
         1,
         3,
         "Netherlands"
        ],
        [
         10,
         "B",
         "Netherlands",
         "England",
         3,
         5,
         "England"
        ],
        [
         11,
         "B",
         "Netherlands",
         "Germany",
         3,
         1,
         "Netherlands"
        ],
        [
         12,
         "B",
         "Germany",
         "England",
         2,
         3,
         "England"
        ],
        [
         13,
         "C",
         "Turkey",
         "Denmark",
         6,
         6,
         "Turkey"
        ],
        [
         14,
         "C",
         "Turkey",
         "Switzerland",
         6,
         2,
         "Turkey"
        ],
        [
         15,
         "C",
         "Turkey",
         "Austria",
         2,
         3,
         "Austria"
        ],
        [
         16,
         "C",
         "Austria",
         "Denmark",
         4,
         6,
         "Denmark"
        ],
        [
         17,
         "C",
         "Austria",
         "Switzerland",
         2,
         3,
         "Switzerland"
        ],
        [
         18,
         "C",
         "Switzerland",
         "Denmark",
         5,
         5,
         "Denmark"
        ],
        [
         19,
         "D",
         "Croatia",
         "Poland",
         1,
         1,
         "Poland"
        ],
        [
         20,
         "D",
         "Croatia",
         "Sweden",
         3,
         6,
         "Sweden"
        ],
        [
         21,
         "D",
         "Croatia",
         "Ukraine",
         1,
         4,
         "Ukraine"
        ],
        [
         22,
         "D",
         "Ukraine",
         "Poland",
         6,
         2,
         "Ukraine"
        ],
        [
         23,
         "D",
         "Ukraine",
         "Sweden",
         5,
         6,
         "Sweden"
        ],
        [
         24,
         "D",
         "Sweden",
         "Poland",
         1,
         2,
         "Poland"
        ],
        [
         25,
         "E",
         "Wales",
         "Hungary",
         6,
         3,
         "Wales"
        ],
        [
         26,
         "E",
         "Wales",
         "Slovakia",
         4,
         5,
         "Slovakia"
        ],
        [
         27,
         "E",
         "Wales",
         "Czech Republic",
         6,
         2,
         "Wales"
        ],
        [
         28,
         "E",
         "Czech Republic",
         "Hungary",
         4,
         2,
         "Czech Republic"
        ],
        [
         29,
         "E",
         "Czech Republic",
         "Slovakia",
         1,
         6,
         "Slovakia"
        ],
        [
         30,
         "E",
         "Slovakia",
         "Hungary",
         3,
         5,
         "Hungary"
        ],
        [
         31,
         "F",
         "Finland",
         "Russia",
         4,
         4,
         "Finland"
        ],
        [
         32,
         "F",
         "Finland",
         "Scotland",
         3,
         2,
         "Finland"
        ],
        [
         33,
         "F",
         "Finland",
         "North Macedonia",
         1,
         6,
         "North Macedonia"
        ],
        [
         34,
         "F",
         "North Macedonia",
         "Russia",
         2,
         3,
         "Russia"
        ],
        [
         35,
         "F",
         "North Macedonia",
         "Scotland",
         5,
         5,
         "Scotland"
        ],
        [
         36,
         "F",
         "Scotland",
         "Russia",
         4,
         4,
         "Scotland"
        ],
        [
         37,
         "N",
         "France",
         "Switzerland",
         5,
         0,
         "France"
        ],
        [
         38,
         "N",
         "Belgium",
         "Germany",
         5,
         2,
         "Belgium"
        ],
        [
         39,
         "N",
         "Spain",
         "Italy",
         1,
         4,
         "Italy"
        ],
        [
         40,
         "N",
         "Austria",
         "Ukraine",
         5,
         2,
         "Austria"
        ],
        [
         41,
         "N",
         "Finland",
         "Turkey",
         4,
         2,
         "Finland"
        ],
        [
         42,
         "N",
         "Poland",
         "Slovakia",
         4,
         5,
         "Slovakia"
        ],
        [
         43,
         "N",
         "Hungary",
         "Netherlands",
         3,
         0,
         "Hungary"
        ],
        [
         44,
         "N",
         "Poland",
         "North Macedonia",
         3,
         5,
         "North Macedonia"
        ]
       ],
       "datasetInfos": [],
       "dbfsResultPath": null,
       "isJsonSchema": true,
       "metadata": {
        "isDbfsCommandResult": false
       },
       "overflow": false,
       "plotOptions": {
        "customPlotOptions": {},
        "displayType": "table",
        "pivotAggregation": null,
        "pivotColumns": null,
        "xColumns": null,
        "yColumns": null
       },
       "removedWidgets": [],
       "schema": [
        {
         "metadata": "{}",
         "name": "MatchId",
         "type": "\"integer\""
        },
        {
         "metadata": "{\"__CHAR_VARCHAR_TYPE_STRING\":\"varchar(20)\"}",
         "name": "TeamGroup",
         "type": "\"string\""
        },
        {
         "metadata": "{\"__CHAR_VARCHAR_TYPE_STRING\":\"varchar(20)\"}",
         "name": "home_country",
         "type": "\"string\""
        },
        {
         "metadata": "{\"__CHAR_VARCHAR_TYPE_STRING\":\"varchar(20)\"}",
         "name": "away_country",
         "type": "\"string\""
        },
        {
         "metadata": "{}",
         "name": "home_country_goal",
         "type": "\"integer\""
        },
        {
         "metadata": "{}",
         "name": "away_country_goal",
         "type": "\"integer\""
        },
        {
         "metadata": "{\"__CHAR_VARCHAR_TYPE_STRING\":\"varchar(20)\"}",
         "name": "winner_country",
         "type": "\"string\""
        }
       ],
       "type": "table"
      }
     },
     "output_type": "display_data"
    }
   ],
   "source": [
    "%sql\n",
    "select * from matches order by MatchId;"
   ]
  },
  {
   "cell_type": "markdown",
   "metadata": {
    "application/vnd.databricks.v1+cell": {
     "cellMetadata": {
      "byteLimit": 2048000,
      "rowLimit": 10000
     },
     "inputWidgets": {},
     "nuid": "a7acfc6f-95d9-4a94-b148-f3d7b396d60a",
     "showTitle": false,
     "title": ""
    }
   },
   "source": [
    "Quarter Finals"
   ]
  },
  {
   "cell_type": "code",
   "execution_count": 0,
   "metadata": {
    "application/vnd.databricks.v1+cell": {
     "cellMetadata": {
      "byteLimit": 2048000,
      "rowLimit": 10000
     },
     "inputWidgets": {},
     "nuid": "b8a2fe20-085e-48d8-9d8b-8e561673da25",
     "showTitle": false,
     "title": ""
    }
   },
   "outputs": [
    {
     "output_type": "display_data",
     "data": {
      "text/html": [
       "<style scoped>\n",
       "  .table-result-container {\n",
       "    max-height: 300px;\n",
       "    overflow: auto;\n",
       "  }\n",
       "  table, th, td {\n",
       "    border: 1px solid black;\n",
       "    border-collapse: collapse;\n",
       "  }\n",
       "  th, td {\n",
       "    padding: 5px;\n",
       "  }\n",
       "  th {\n",
       "    text-align: left;\n",
       "  }\n",
       "</style><div class='table-result-container'><table class='table-result'><thead style='background-color: white'><tr><th>num_affected_rows</th><th>num_inserted_rows</th></tr></thead><tbody><tr><td>4</td><td>4</td></tr></tbody></table></div>"
      ]
     },
     "metadata": {
      "application/vnd.databricks.v1+output": {
       "addedWidgets": {},
       "aggData": [],
       "aggError": "",
       "aggOverflow": false,
       "aggSchema": [],
       "aggSeriesLimitReached": false,
       "aggType": "",
       "arguments": {},
       "columnCustomDisplayInfos": {},
       "data": [
        [
         4,
         4
        ]
       ],
       "datasetInfos": [],
       "dbfsResultPath": null,
       "isJsonSchema": true,
       "metadata": {
        "isDbfsCommandResult": false
       },
       "overflow": false,
       "plotOptions": {
        "customPlotOptions": {},
        "displayType": "table",
        "pivotAggregation": null,
        "pivotColumns": null,
        "xColumns": null,
        "yColumns": null
       },
       "removedWidgets": [],
       "schema": [
        {
         "metadata": "{}",
         "name": "num_affected_rows",
         "type": "\"long\""
        },
        {
         "metadata": "{}",
         "name": "num_inserted_rows",
         "type": "\"long\""
        }
       ],
       "type": "table"
      }
     },
     "output_type": "display_data"
    }
   ],
   "source": [
    "%sql\n",
    "INSERT INTO matches (MatchID, TeamGroup, home_country, away_country, home_country_goal, away_country_goal, winner_country)\n",
    "\n",
    "SELECT\n",
    "row_number() OVER (ORDER BY 1) + 44 AS MatchId,\n",
    "'N' AS Team_group,\n",
    "r1.winner_country AS home_country,\n",
    "r2.winner_country AS away_country,\n",
    "CAST(rand() * 6 AS INTEGER) AS home_country_goal,\n",
    "CAST(rand() * 6 AS INTEGER) AS away_country_goal,\n",
    "'None' AS match_result\n",
    "\n",
    "FROM \n",
    "    matches r1\n",
    "JOIN \n",
    "    matches r2 ON \n",
    "        r1.MatchId = 37 AND r2.MatchId = 38\n",
    "\n",
    "UNION ALL\n",
    "\n",
    "SELECT\n",
    "row_number() OVER (ORDER BY 1) + 45 AS MatchId,\n",
    "'N' AS Team_group,\n",
    "r1.winner_country AS home_country,\n",
    "r2.winner_country AS away_country,\n",
    "CAST(rand() * 6 AS INTEGER) AS home_country_goal,\n",
    "CAST(rand() * 6 AS INTEGER) AS away_country_goal,\n",
    "'None' AS match_result\n",
    "\n",
    "FROM \n",
    "    matches r1\n",
    "JOIN \n",
    "    matches r2 ON \n",
    "        r1.MatchId = 39 AND r2.MatchId = 40\n",
    "\n",
    "UNION ALL\n",
    "\n",
    "SELECT\n",
    "row_number() OVER (ORDER BY 1) + 46 AS MatchId,\n",
    "'N' AS Team_group,\n",
    "r1.winner_country AS home_country,\n",
    "r2.winner_country AS away_country,\n",
    "CAST(rand() * 6 AS INTEGER) AS home_country_goal,\n",
    "CAST(rand() * 6 AS INTEGER) AS away_country_goal,\n",
    "'None' AS match_result\n",
    "\n",
    "FROM \n",
    "    matches r1\n",
    "JOIN \n",
    "    matches r2 ON \n",
    "        r1.MatchId = 41 AND r2.MatchId = 42\n",
    "\n",
    "UNION ALL\n",
    "\n",
    "SELECT\n",
    "row_number() OVER (ORDER BY 1) + 47 AS MatchId,\n",
    "'N' AS Team_group,\n",
    "r1.winner_country AS home_country,\n",
    "r2.winner_country AS away_country,\n",
    "CAST(rand() * 6 AS INTEGER) AS home_country_goal,\n",
    "CAST(rand() * 6 AS INTEGER) AS away_country_goal,\n",
    "'None' AS match_result\n",
    "\n",
    "FROM \n",
    "    matches r1\n",
    "JOIN \n",
    "    matches r2 ON \n",
    "        r1.MatchId = 43 AND r2.MatchId = 44    \n"
   ]
  },
  {
   "cell_type": "code",
   "execution_count": 0,
   "metadata": {
    "application/vnd.databricks.v1+cell": {
     "cellMetadata": {
      "byteLimit": 2048000,
      "rowLimit": 10000
     },
     "inputWidgets": {},
     "nuid": "a63adfb0-fcab-4efc-8122-71a5361dd482",
     "showTitle": false,
     "title": ""
    }
   },
   "outputs": [
    {
     "output_type": "display_data",
     "data": {
      "text/html": [
       "<style scoped>\n",
       "  .table-result-container {\n",
       "    max-height: 300px;\n",
       "    overflow: auto;\n",
       "  }\n",
       "  table, th, td {\n",
       "    border: 1px solid black;\n",
       "    border-collapse: collapse;\n",
       "  }\n",
       "  th, td {\n",
       "    padding: 5px;\n",
       "  }\n",
       "  th {\n",
       "    text-align: left;\n",
       "  }\n",
       "</style><div class='table-result-container'><table class='table-result'><thead style='background-color: white'><tr><th>MatchId</th><th>TeamGroup</th><th>home_country</th><th>away_country</th><th>home_country_goal</th><th>away_country_goal</th><th>winner_country</th></tr></thead><tbody><tr><td>1</td><td>A</td><td>France</td><td>Portugal</td><td>4</td><td>4</td><td>France</td></tr><tr><td>2</td><td>A</td><td>France</td><td>Belgium</td><td>1</td><td>1</td><td>Belgium</td></tr><tr><td>3</td><td>A</td><td>France</td><td>Italy</td><td>5</td><td>4</td><td>France</td></tr><tr><td>4</td><td>A</td><td>Italy</td><td>Portugal</td><td>6</td><td>5</td><td>Italy</td></tr><tr><td>5</td><td>A</td><td>Italy</td><td>Belgium</td><td>2</td><td>3</td><td>Belgium</td></tr><tr><td>6</td><td>A</td><td>Belgium</td><td>Portugal</td><td>1</td><td>5</td><td>Portugal</td></tr><tr><td>7</td><td>B</td><td>Spain</td><td>England</td><td>6</td><td>5</td><td>Spain</td></tr><tr><td>8</td><td>B</td><td>Spain</td><td>Germany</td><td>3</td><td>5</td><td>Germany</td></tr><tr><td>9</td><td>B</td><td>Spain</td><td>Netherlands</td><td>1</td><td>3</td><td>Netherlands</td></tr><tr><td>10</td><td>B</td><td>Netherlands</td><td>England</td><td>3</td><td>5</td><td>England</td></tr><tr><td>11</td><td>B</td><td>Netherlands</td><td>Germany</td><td>3</td><td>1</td><td>Netherlands</td></tr><tr><td>12</td><td>B</td><td>Germany</td><td>England</td><td>2</td><td>3</td><td>England</td></tr><tr><td>13</td><td>C</td><td>Turkey</td><td>Denmark</td><td>6</td><td>6</td><td>Turkey</td></tr><tr><td>14</td><td>C</td><td>Turkey</td><td>Switzerland</td><td>6</td><td>2</td><td>Turkey</td></tr><tr><td>15</td><td>C</td><td>Turkey</td><td>Austria</td><td>2</td><td>3</td><td>Austria</td></tr><tr><td>16</td><td>C</td><td>Austria</td><td>Denmark</td><td>4</td><td>6</td><td>Denmark</td></tr><tr><td>17</td><td>C</td><td>Austria</td><td>Switzerland</td><td>2</td><td>3</td><td>Switzerland</td></tr><tr><td>18</td><td>C</td><td>Switzerland</td><td>Denmark</td><td>5</td><td>5</td><td>Denmark</td></tr><tr><td>19</td><td>D</td><td>Croatia</td><td>Poland</td><td>1</td><td>1</td><td>Poland</td></tr><tr><td>20</td><td>D</td><td>Croatia</td><td>Sweden</td><td>3</td><td>6</td><td>Sweden</td></tr><tr><td>21</td><td>D</td><td>Croatia</td><td>Ukraine</td><td>1</td><td>4</td><td>Ukraine</td></tr><tr><td>22</td><td>D</td><td>Ukraine</td><td>Poland</td><td>6</td><td>2</td><td>Ukraine</td></tr><tr><td>23</td><td>D</td><td>Ukraine</td><td>Sweden</td><td>5</td><td>6</td><td>Sweden</td></tr><tr><td>24</td><td>D</td><td>Sweden</td><td>Poland</td><td>1</td><td>2</td><td>Poland</td></tr><tr><td>25</td><td>E</td><td>Wales</td><td>Hungary</td><td>6</td><td>3</td><td>Wales</td></tr><tr><td>26</td><td>E</td><td>Wales</td><td>Slovakia</td><td>4</td><td>5</td><td>Slovakia</td></tr><tr><td>27</td><td>E</td><td>Wales</td><td>Czech Republic</td><td>6</td><td>2</td><td>Wales</td></tr><tr><td>28</td><td>E</td><td>Czech Republic</td><td>Hungary</td><td>4</td><td>2</td><td>Czech Republic</td></tr><tr><td>29</td><td>E</td><td>Czech Republic</td><td>Slovakia</td><td>1</td><td>6</td><td>Slovakia</td></tr><tr><td>30</td><td>E</td><td>Slovakia</td><td>Hungary</td><td>3</td><td>5</td><td>Hungary</td></tr><tr><td>31</td><td>F</td><td>Finland</td><td>Russia</td><td>4</td><td>4</td><td>Finland</td></tr><tr><td>32</td><td>F</td><td>Finland</td><td>Scotland</td><td>3</td><td>2</td><td>Finland</td></tr><tr><td>33</td><td>F</td><td>Finland</td><td>North Macedonia</td><td>1</td><td>6</td><td>North Macedonia</td></tr><tr><td>34</td><td>F</td><td>North Macedonia</td><td>Russia</td><td>2</td><td>3</td><td>Russia</td></tr><tr><td>35</td><td>F</td><td>North Macedonia</td><td>Scotland</td><td>5</td><td>5</td><td>Scotland</td></tr><tr><td>36</td><td>F</td><td>Scotland</td><td>Russia</td><td>4</td><td>4</td><td>Scotland</td></tr><tr><td>37</td><td>N</td><td>France</td><td>Switzerland</td><td>5</td><td>0</td><td>France</td></tr><tr><td>38</td><td>N</td><td>Belgium</td><td>Germany</td><td>5</td><td>2</td><td>Belgium</td></tr><tr><td>39</td><td>N</td><td>Spain</td><td>Italy</td><td>1</td><td>4</td><td>Italy</td></tr><tr><td>40</td><td>N</td><td>Austria</td><td>Ukraine</td><td>5</td><td>2</td><td>Austria</td></tr><tr><td>41</td><td>N</td><td>Finland</td><td>Turkey</td><td>4</td><td>2</td><td>Finland</td></tr><tr><td>42</td><td>N</td><td>Poland</td><td>Slovakia</td><td>4</td><td>5</td><td>Slovakia</td></tr><tr><td>43</td><td>N</td><td>Hungary</td><td>Netherlands</td><td>3</td><td>0</td><td>Hungary</td></tr><tr><td>44</td><td>N</td><td>Poland</td><td>North Macedonia</td><td>3</td><td>5</td><td>North Macedonia</td></tr><tr><td>45</td><td>N</td><td>France</td><td>Belgium</td><td>4</td><td>4</td><td>None</td></tr><tr><td>46</td><td>N</td><td>Italy</td><td>Austria</td><td>1</td><td>4</td><td>None</td></tr><tr><td>47</td><td>N</td><td>Finland</td><td>Slovakia</td><td>5</td><td>5</td><td>None</td></tr><tr><td>48</td><td>N</td><td>Hungary</td><td>North Macedonia</td><td>5</td><td>5</td><td>None</td></tr></tbody></table></div>"
      ]
     },
     "metadata": {
      "application/vnd.databricks.v1+output": {
       "addedWidgets": {},
       "aggData": [],
       "aggError": "",
       "aggOverflow": false,
       "aggSchema": [],
       "aggSeriesLimitReached": false,
       "aggType": "",
       "arguments": {},
       "columnCustomDisplayInfos": {},
       "data": [
        [
         1,
         "A",
         "France",
         "Portugal",
         4,
         4,
         "France"
        ],
        [
         2,
         "A",
         "France",
         "Belgium",
         1,
         1,
         "Belgium"
        ],
        [
         3,
         "A",
         "France",
         "Italy",
         5,
         4,
         "France"
        ],
        [
         4,
         "A",
         "Italy",
         "Portugal",
         6,
         5,
         "Italy"
        ],
        [
         5,
         "A",
         "Italy",
         "Belgium",
         2,
         3,
         "Belgium"
        ],
        [
         6,
         "A",
         "Belgium",
         "Portugal",
         1,
         5,
         "Portugal"
        ],
        [
         7,
         "B",
         "Spain",
         "England",
         6,
         5,
         "Spain"
        ],
        [
         8,
         "B",
         "Spain",
         "Germany",
         3,
         5,
         "Germany"
        ],
        [
         9,
         "B",
         "Spain",
         "Netherlands",
         1,
         3,
         "Netherlands"
        ],
        [
         10,
         "B",
         "Netherlands",
         "England",
         3,
         5,
         "England"
        ],
        [
         11,
         "B",
         "Netherlands",
         "Germany",
         3,
         1,
         "Netherlands"
        ],
        [
         12,
         "B",
         "Germany",
         "England",
         2,
         3,
         "England"
        ],
        [
         13,
         "C",
         "Turkey",
         "Denmark",
         6,
         6,
         "Turkey"
        ],
        [
         14,
         "C",
         "Turkey",
         "Switzerland",
         6,
         2,
         "Turkey"
        ],
        [
         15,
         "C",
         "Turkey",
         "Austria",
         2,
         3,
         "Austria"
        ],
        [
         16,
         "C",
         "Austria",
         "Denmark",
         4,
         6,
         "Denmark"
        ],
        [
         17,
         "C",
         "Austria",
         "Switzerland",
         2,
         3,
         "Switzerland"
        ],
        [
         18,
         "C",
         "Switzerland",
         "Denmark",
         5,
         5,
         "Denmark"
        ],
        [
         19,
         "D",
         "Croatia",
         "Poland",
         1,
         1,
         "Poland"
        ],
        [
         20,
         "D",
         "Croatia",
         "Sweden",
         3,
         6,
         "Sweden"
        ],
        [
         21,
         "D",
         "Croatia",
         "Ukraine",
         1,
         4,
         "Ukraine"
        ],
        [
         22,
         "D",
         "Ukraine",
         "Poland",
         6,
         2,
         "Ukraine"
        ],
        [
         23,
         "D",
         "Ukraine",
         "Sweden",
         5,
         6,
         "Sweden"
        ],
        [
         24,
         "D",
         "Sweden",
         "Poland",
         1,
         2,
         "Poland"
        ],
        [
         25,
         "E",
         "Wales",
         "Hungary",
         6,
         3,
         "Wales"
        ],
        [
         26,
         "E",
         "Wales",
         "Slovakia",
         4,
         5,
         "Slovakia"
        ],
        [
         27,
         "E",
         "Wales",
         "Czech Republic",
         6,
         2,
         "Wales"
        ],
        [
         28,
         "E",
         "Czech Republic",
         "Hungary",
         4,
         2,
         "Czech Republic"
        ],
        [
         29,
         "E",
         "Czech Republic",
         "Slovakia",
         1,
         6,
         "Slovakia"
        ],
        [
         30,
         "E",
         "Slovakia",
         "Hungary",
         3,
         5,
         "Hungary"
        ],
        [
         31,
         "F",
         "Finland",
         "Russia",
         4,
         4,
         "Finland"
        ],
        [
         32,
         "F",
         "Finland",
         "Scotland",
         3,
         2,
         "Finland"
        ],
        [
         33,
         "F",
         "Finland",
         "North Macedonia",
         1,
         6,
         "North Macedonia"
        ],
        [
         34,
         "F",
         "North Macedonia",
         "Russia",
         2,
         3,
         "Russia"
        ],
        [
         35,
         "F",
         "North Macedonia",
         "Scotland",
         5,
         5,
         "Scotland"
        ],
        [
         36,
         "F",
         "Scotland",
         "Russia",
         4,
         4,
         "Scotland"
        ],
        [
         37,
         "N",
         "France",
         "Switzerland",
         5,
         0,
         "France"
        ],
        [
         38,
         "N",
         "Belgium",
         "Germany",
         5,
         2,
         "Belgium"
        ],
        [
         39,
         "N",
         "Spain",
         "Italy",
         1,
         4,
         "Italy"
        ],
        [
         40,
         "N",
         "Austria",
         "Ukraine",
         5,
         2,
         "Austria"
        ],
        [
         41,
         "N",
         "Finland",
         "Turkey",
         4,
         2,
         "Finland"
        ],
        [
         42,
         "N",
         "Poland",
         "Slovakia",
         4,
         5,
         "Slovakia"
        ],
        [
         43,
         "N",
         "Hungary",
         "Netherlands",
         3,
         0,
         "Hungary"
        ],
        [
         44,
         "N",
         "Poland",
         "North Macedonia",
         3,
         5,
         "North Macedonia"
        ],
        [
         45,
         "N",
         "France",
         "Belgium",
         4,
         4,
         "None"
        ],
        [
         46,
         "N",
         "Italy",
         "Austria",
         1,
         4,
         "None"
        ],
        [
         47,
         "N",
         "Finland",
         "Slovakia",
         5,
         5,
         "None"
        ],
        [
         48,
         "N",
         "Hungary",
         "North Macedonia",
         5,
         5,
         "None"
        ]
       ],
       "datasetInfos": [],
       "dbfsResultPath": null,
       "isJsonSchema": true,
       "metadata": {
        "isDbfsCommandResult": false
       },
       "overflow": false,
       "plotOptions": {
        "customPlotOptions": {},
        "displayType": "table",
        "pivotAggregation": null,
        "pivotColumns": null,
        "xColumns": null,
        "yColumns": null
       },
       "removedWidgets": [],
       "schema": [
        {
         "metadata": "{}",
         "name": "MatchId",
         "type": "\"integer\""
        },
        {
         "metadata": "{\"__CHAR_VARCHAR_TYPE_STRING\":\"varchar(20)\"}",
         "name": "TeamGroup",
         "type": "\"string\""
        },
        {
         "metadata": "{\"__CHAR_VARCHAR_TYPE_STRING\":\"varchar(20)\"}",
         "name": "home_country",
         "type": "\"string\""
        },
        {
         "metadata": "{\"__CHAR_VARCHAR_TYPE_STRING\":\"varchar(20)\"}",
         "name": "away_country",
         "type": "\"string\""
        },
        {
         "metadata": "{}",
         "name": "home_country_goal",
         "type": "\"integer\""
        },
        {
         "metadata": "{}",
         "name": "away_country_goal",
         "type": "\"integer\""
        },
        {
         "metadata": "{\"__CHAR_VARCHAR_TYPE_STRING\":\"varchar(20)\"}",
         "name": "winner_country",
         "type": "\"string\""
        }
       ],
       "type": "table"
      }
     },
     "output_type": "display_data"
    }
   ],
   "source": [
    "%sql\n",
    "select * from matches order by MatchId;"
   ]
  },
  {
   "cell_type": "code",
   "execution_count": 0,
   "metadata": {
    "application/vnd.databricks.v1+cell": {
     "cellMetadata": {
      "byteLimit": 2048000,
      "rowLimit": 10000
     },
     "inputWidgets": {},
     "nuid": "43fb793e-f2ec-4223-8915-1eb2861465c5",
     "showTitle": false,
     "title": ""
    }
   },
   "outputs": [
    {
     "output_type": "display_data",
     "data": {
      "text/html": [
       "<style scoped>\n",
       "  .table-result-container {\n",
       "    max-height: 300px;\n",
       "    overflow: auto;\n",
       "  }\n",
       "  table, th, td {\n",
       "    border: 1px solid black;\n",
       "    border-collapse: collapse;\n",
       "  }\n",
       "  th, td {\n",
       "    padding: 5px;\n",
       "  }\n",
       "  th {\n",
       "    text-align: left;\n",
       "  }\n",
       "</style><div class='table-result-container'><table class='table-result'><thead style='background-color: white'><tr><th>num_affected_rows</th></tr></thead><tbody><tr><td>48</td></tr></tbody></table></div>"
      ]
     },
     "metadata": {
      "application/vnd.databricks.v1+output": {
       "addedWidgets": {},
       "aggData": [],
       "aggError": "",
       "aggOverflow": false,
       "aggSchema": [],
       "aggSeriesLimitReached": false,
       "aggType": "",
       "arguments": {},
       "columnCustomDisplayInfos": {},
       "data": [
        [
         48
        ]
       ],
       "datasetInfos": [],
       "dbfsResultPath": null,
       "isJsonSchema": true,
       "metadata": {
        "isDbfsCommandResult": false
       },
       "overflow": false,
       "plotOptions": {
        "customPlotOptions": {},
        "displayType": "table",
        "pivotAggregation": null,
        "pivotColumns": null,
        "xColumns": null,
        "yColumns": null
       },
       "removedWidgets": [],
       "schema": [
        {
         "metadata": "{}",
         "name": "num_affected_rows",
         "type": "\"long\""
        }
       ],
       "type": "table"
      }
     },
     "output_type": "display_data"
    }
   ],
   "source": [
    "%sql\n",
    "UPDATE matches\n",
    "SET winner_country = \n",
    "    CASE\n",
    "        WHEN home_country_goal > away_country_goal THEN home_country\n",
    "        WHEN home_country_goal < away_country_goal THEN away_country\n",
    "        ELSE \n",
    "        CASE \n",
    "                WHEN (home_country_goal + 1) % 2 = 1 THEN home_country\n",
    "                ELSE away_country\n",
    "            END\n",
    "    END\n",
    "     "
   ]
  },
  {
   "cell_type": "code",
   "execution_count": 0,
   "metadata": {
    "application/vnd.databricks.v1+cell": {
     "cellMetadata": {
      "byteLimit": 2048000,
      "rowLimit": 10000
     },
     "inputWidgets": {},
     "nuid": "5d1cbca9-198b-4077-bdd5-afcf1c716c9a",
     "showTitle": false,
     "title": ""
    }
   },
   "outputs": [
    {
     "output_type": "display_data",
     "data": {
      "text/html": [
       "<style scoped>\n",
       "  .table-result-container {\n",
       "    max-height: 300px;\n",
       "    overflow: auto;\n",
       "  }\n",
       "  table, th, td {\n",
       "    border: 1px solid black;\n",
       "    border-collapse: collapse;\n",
       "  }\n",
       "  th, td {\n",
       "    padding: 5px;\n",
       "  }\n",
       "  th {\n",
       "    text-align: left;\n",
       "  }\n",
       "</style><div class='table-result-container'><table class='table-result'><thead style='background-color: white'><tr><th>MatchId</th><th>TeamGroup</th><th>home_country</th><th>away_country</th><th>home_country_goal</th><th>away_country_goal</th><th>winner_country</th></tr></thead><tbody><tr><td>1</td><td>A</td><td>France</td><td>Portugal</td><td>4</td><td>4</td><td>France</td></tr><tr><td>2</td><td>A</td><td>France</td><td>Belgium</td><td>1</td><td>1</td><td>Belgium</td></tr><tr><td>3</td><td>A</td><td>France</td><td>Italy</td><td>5</td><td>4</td><td>France</td></tr><tr><td>4</td><td>A</td><td>Italy</td><td>Portugal</td><td>6</td><td>5</td><td>Italy</td></tr><tr><td>5</td><td>A</td><td>Italy</td><td>Belgium</td><td>2</td><td>3</td><td>Belgium</td></tr><tr><td>6</td><td>A</td><td>Belgium</td><td>Portugal</td><td>1</td><td>5</td><td>Portugal</td></tr><tr><td>7</td><td>B</td><td>Spain</td><td>England</td><td>6</td><td>5</td><td>Spain</td></tr><tr><td>8</td><td>B</td><td>Spain</td><td>Germany</td><td>3</td><td>5</td><td>Germany</td></tr><tr><td>9</td><td>B</td><td>Spain</td><td>Netherlands</td><td>1</td><td>3</td><td>Netherlands</td></tr><tr><td>10</td><td>B</td><td>Netherlands</td><td>England</td><td>3</td><td>5</td><td>England</td></tr><tr><td>11</td><td>B</td><td>Netherlands</td><td>Germany</td><td>3</td><td>1</td><td>Netherlands</td></tr><tr><td>12</td><td>B</td><td>Germany</td><td>England</td><td>2</td><td>3</td><td>England</td></tr><tr><td>13</td><td>C</td><td>Turkey</td><td>Denmark</td><td>6</td><td>6</td><td>Turkey</td></tr><tr><td>14</td><td>C</td><td>Turkey</td><td>Switzerland</td><td>6</td><td>2</td><td>Turkey</td></tr><tr><td>15</td><td>C</td><td>Turkey</td><td>Austria</td><td>2</td><td>3</td><td>Austria</td></tr><tr><td>16</td><td>C</td><td>Austria</td><td>Denmark</td><td>4</td><td>6</td><td>Denmark</td></tr><tr><td>17</td><td>C</td><td>Austria</td><td>Switzerland</td><td>2</td><td>3</td><td>Switzerland</td></tr><tr><td>18</td><td>C</td><td>Switzerland</td><td>Denmark</td><td>5</td><td>5</td><td>Denmark</td></tr><tr><td>19</td><td>D</td><td>Croatia</td><td>Poland</td><td>1</td><td>1</td><td>Poland</td></tr><tr><td>20</td><td>D</td><td>Croatia</td><td>Sweden</td><td>3</td><td>6</td><td>Sweden</td></tr><tr><td>21</td><td>D</td><td>Croatia</td><td>Ukraine</td><td>1</td><td>4</td><td>Ukraine</td></tr><tr><td>22</td><td>D</td><td>Ukraine</td><td>Poland</td><td>6</td><td>2</td><td>Ukraine</td></tr><tr><td>23</td><td>D</td><td>Ukraine</td><td>Sweden</td><td>5</td><td>6</td><td>Sweden</td></tr><tr><td>24</td><td>D</td><td>Sweden</td><td>Poland</td><td>1</td><td>2</td><td>Poland</td></tr><tr><td>25</td><td>E</td><td>Wales</td><td>Hungary</td><td>6</td><td>3</td><td>Wales</td></tr><tr><td>26</td><td>E</td><td>Wales</td><td>Slovakia</td><td>4</td><td>5</td><td>Slovakia</td></tr><tr><td>27</td><td>E</td><td>Wales</td><td>Czech Republic</td><td>6</td><td>2</td><td>Wales</td></tr><tr><td>28</td><td>E</td><td>Czech Republic</td><td>Hungary</td><td>4</td><td>2</td><td>Czech Republic</td></tr><tr><td>29</td><td>E</td><td>Czech Republic</td><td>Slovakia</td><td>1</td><td>6</td><td>Slovakia</td></tr><tr><td>30</td><td>E</td><td>Slovakia</td><td>Hungary</td><td>3</td><td>5</td><td>Hungary</td></tr><tr><td>31</td><td>F</td><td>Finland</td><td>Russia</td><td>4</td><td>4</td><td>Finland</td></tr><tr><td>32</td><td>F</td><td>Finland</td><td>Scotland</td><td>3</td><td>2</td><td>Finland</td></tr><tr><td>33</td><td>F</td><td>Finland</td><td>North Macedonia</td><td>1</td><td>6</td><td>North Macedonia</td></tr><tr><td>34</td><td>F</td><td>North Macedonia</td><td>Russia</td><td>2</td><td>3</td><td>Russia</td></tr><tr><td>35</td><td>F</td><td>North Macedonia</td><td>Scotland</td><td>5</td><td>5</td><td>Scotland</td></tr><tr><td>36</td><td>F</td><td>Scotland</td><td>Russia</td><td>4</td><td>4</td><td>Scotland</td></tr><tr><td>37</td><td>N</td><td>France</td><td>Switzerland</td><td>5</td><td>0</td><td>France</td></tr><tr><td>38</td><td>N</td><td>Belgium</td><td>Germany</td><td>5</td><td>2</td><td>Belgium</td></tr><tr><td>39</td><td>N</td><td>Spain</td><td>Italy</td><td>1</td><td>4</td><td>Italy</td></tr><tr><td>40</td><td>N</td><td>Austria</td><td>Ukraine</td><td>5</td><td>2</td><td>Austria</td></tr><tr><td>41</td><td>N</td><td>Finland</td><td>Turkey</td><td>4</td><td>2</td><td>Finland</td></tr><tr><td>42</td><td>N</td><td>Poland</td><td>Slovakia</td><td>4</td><td>5</td><td>Slovakia</td></tr><tr><td>43</td><td>N</td><td>Hungary</td><td>Netherlands</td><td>3</td><td>0</td><td>Hungary</td></tr><tr><td>44</td><td>N</td><td>Poland</td><td>North Macedonia</td><td>3</td><td>5</td><td>North Macedonia</td></tr><tr><td>45</td><td>N</td><td>France</td><td>Belgium</td><td>4</td><td>4</td><td>France</td></tr><tr><td>46</td><td>N</td><td>Italy</td><td>Austria</td><td>1</td><td>4</td><td>Austria</td></tr><tr><td>47</td><td>N</td><td>Finland</td><td>Slovakia</td><td>5</td><td>5</td><td>Slovakia</td></tr><tr><td>48</td><td>N</td><td>Hungary</td><td>North Macedonia</td><td>5</td><td>5</td><td>North Macedonia</td></tr></tbody></table></div>"
      ]
     },
     "metadata": {
      "application/vnd.databricks.v1+output": {
       "addedWidgets": {},
       "aggData": [],
       "aggError": "",
       "aggOverflow": false,
       "aggSchema": [],
       "aggSeriesLimitReached": false,
       "aggType": "",
       "arguments": {},
       "columnCustomDisplayInfos": {},
       "data": [
        [
         1,
         "A",
         "France",
         "Portugal",
         4,
         4,
         "France"
        ],
        [
         2,
         "A",
         "France",
         "Belgium",
         1,
         1,
         "Belgium"
        ],
        [
         3,
         "A",
         "France",
         "Italy",
         5,
         4,
         "France"
        ],
        [
         4,
         "A",
         "Italy",
         "Portugal",
         6,
         5,
         "Italy"
        ],
        [
         5,
         "A",
         "Italy",
         "Belgium",
         2,
         3,
         "Belgium"
        ],
        [
         6,
         "A",
         "Belgium",
         "Portugal",
         1,
         5,
         "Portugal"
        ],
        [
         7,
         "B",
         "Spain",
         "England",
         6,
         5,
         "Spain"
        ],
        [
         8,
         "B",
         "Spain",
         "Germany",
         3,
         5,
         "Germany"
        ],
        [
         9,
         "B",
         "Spain",
         "Netherlands",
         1,
         3,
         "Netherlands"
        ],
        [
         10,
         "B",
         "Netherlands",
         "England",
         3,
         5,
         "England"
        ],
        [
         11,
         "B",
         "Netherlands",
         "Germany",
         3,
         1,
         "Netherlands"
        ],
        [
         12,
         "B",
         "Germany",
         "England",
         2,
         3,
         "England"
        ],
        [
         13,
         "C",
         "Turkey",
         "Denmark",
         6,
         6,
         "Turkey"
        ],
        [
         14,
         "C",
         "Turkey",
         "Switzerland",
         6,
         2,
         "Turkey"
        ],
        [
         15,
         "C",
         "Turkey",
         "Austria",
         2,
         3,
         "Austria"
        ],
        [
         16,
         "C",
         "Austria",
         "Denmark",
         4,
         6,
         "Denmark"
        ],
        [
         17,
         "C",
         "Austria",
         "Switzerland",
         2,
         3,
         "Switzerland"
        ],
        [
         18,
         "C",
         "Switzerland",
         "Denmark",
         5,
         5,
         "Denmark"
        ],
        [
         19,
         "D",
         "Croatia",
         "Poland",
         1,
         1,
         "Poland"
        ],
        [
         20,
         "D",
         "Croatia",
         "Sweden",
         3,
         6,
         "Sweden"
        ],
        [
         21,
         "D",
         "Croatia",
         "Ukraine",
         1,
         4,
         "Ukraine"
        ],
        [
         22,
         "D",
         "Ukraine",
         "Poland",
         6,
         2,
         "Ukraine"
        ],
        [
         23,
         "D",
         "Ukraine",
         "Sweden",
         5,
         6,
         "Sweden"
        ],
        [
         24,
         "D",
         "Sweden",
         "Poland",
         1,
         2,
         "Poland"
        ],
        [
         25,
         "E",
         "Wales",
         "Hungary",
         6,
         3,
         "Wales"
        ],
        [
         26,
         "E",
         "Wales",
         "Slovakia",
         4,
         5,
         "Slovakia"
        ],
        [
         27,
         "E",
         "Wales",
         "Czech Republic",
         6,
         2,
         "Wales"
        ],
        [
         28,
         "E",
         "Czech Republic",
         "Hungary",
         4,
         2,
         "Czech Republic"
        ],
        [
         29,
         "E",
         "Czech Republic",
         "Slovakia",
         1,
         6,
         "Slovakia"
        ],
        [
         30,
         "E",
         "Slovakia",
         "Hungary",
         3,
         5,
         "Hungary"
        ],
        [
         31,
         "F",
         "Finland",
         "Russia",
         4,
         4,
         "Finland"
        ],
        [
         32,
         "F",
         "Finland",
         "Scotland",
         3,
         2,
         "Finland"
        ],
        [
         33,
         "F",
         "Finland",
         "North Macedonia",
         1,
         6,
         "North Macedonia"
        ],
        [
         34,
         "F",
         "North Macedonia",
         "Russia",
         2,
         3,
         "Russia"
        ],
        [
         35,
         "F",
         "North Macedonia",
         "Scotland",
         5,
         5,
         "Scotland"
        ],
        [
         36,
         "F",
         "Scotland",
         "Russia",
         4,
         4,
         "Scotland"
        ],
        [
         37,
         "N",
         "France",
         "Switzerland",
         5,
         0,
         "France"
        ],
        [
         38,
         "N",
         "Belgium",
         "Germany",
         5,
         2,
         "Belgium"
        ],
        [
         39,
         "N",
         "Spain",
         "Italy",
         1,
         4,
         "Italy"
        ],
        [
         40,
         "N",
         "Austria",
         "Ukraine",
         5,
         2,
         "Austria"
        ],
        [
         41,
         "N",
         "Finland",
         "Turkey",
         4,
         2,
         "Finland"
        ],
        [
         42,
         "N",
         "Poland",
         "Slovakia",
         4,
         5,
         "Slovakia"
        ],
        [
         43,
         "N",
         "Hungary",
         "Netherlands",
         3,
         0,
         "Hungary"
        ],
        [
         44,
         "N",
         "Poland",
         "North Macedonia",
         3,
         5,
         "North Macedonia"
        ],
        [
         45,
         "N",
         "France",
         "Belgium",
         4,
         4,
         "France"
        ],
        [
         46,
         "N",
         "Italy",
         "Austria",
         1,
         4,
         "Austria"
        ],
        [
         47,
         "N",
         "Finland",
         "Slovakia",
         5,
         5,
         "Slovakia"
        ],
        [
         48,
         "N",
         "Hungary",
         "North Macedonia",
         5,
         5,
         "North Macedonia"
        ]
       ],
       "datasetInfos": [],
       "dbfsResultPath": null,
       "isJsonSchema": true,
       "metadata": {
        "isDbfsCommandResult": false
       },
       "overflow": false,
       "plotOptions": {
        "customPlotOptions": {},
        "displayType": "table",
        "pivotAggregation": null,
        "pivotColumns": null,
        "xColumns": null,
        "yColumns": null
       },
       "removedWidgets": [],
       "schema": [
        {
         "metadata": "{}",
         "name": "MatchId",
         "type": "\"integer\""
        },
        {
         "metadata": "{\"__CHAR_VARCHAR_TYPE_STRING\":\"varchar(20)\"}",
         "name": "TeamGroup",
         "type": "\"string\""
        },
        {
         "metadata": "{\"__CHAR_VARCHAR_TYPE_STRING\":\"varchar(20)\"}",
         "name": "home_country",
         "type": "\"string\""
        },
        {
         "metadata": "{\"__CHAR_VARCHAR_TYPE_STRING\":\"varchar(20)\"}",
         "name": "away_country",
         "type": "\"string\""
        },
        {
         "metadata": "{}",
         "name": "home_country_goal",
         "type": "\"integer\""
        },
        {
         "metadata": "{}",
         "name": "away_country_goal",
         "type": "\"integer\""
        },
        {
         "metadata": "{\"__CHAR_VARCHAR_TYPE_STRING\":\"varchar(20)\"}",
         "name": "winner_country",
         "type": "\"string\""
        }
       ],
       "type": "table"
      }
     },
     "output_type": "display_data"
    }
   ],
   "source": [
    "%sql\n",
    "select * from matches order by MatchId;"
   ]
  },
  {
   "cell_type": "markdown",
   "metadata": {
    "application/vnd.databricks.v1+cell": {
     "cellMetadata": {
      "byteLimit": 2048000,
      "rowLimit": 10000
     },
     "inputWidgets": {},
     "nuid": "7ce77eb5-c675-46f3-837e-3b00f1953197",
     "showTitle": false,
     "title": ""
    }
   },
   "source": [
    "Semi Final"
   ]
  },
  {
   "cell_type": "code",
   "execution_count": 0,
   "metadata": {
    "application/vnd.databricks.v1+cell": {
     "cellMetadata": {
      "byteLimit": 2048000,
      "rowLimit": 10000
     },
     "inputWidgets": {},
     "nuid": "59e40853-58d6-4b6d-9b43-93104891ef87",
     "showTitle": false,
     "title": ""
    }
   },
   "outputs": [
    {
     "output_type": "display_data",
     "data": {
      "text/html": [
       "<style scoped>\n",
       "  .table-result-container {\n",
       "    max-height: 300px;\n",
       "    overflow: auto;\n",
       "  }\n",
       "  table, th, td {\n",
       "    border: 1px solid black;\n",
       "    border-collapse: collapse;\n",
       "  }\n",
       "  th, td {\n",
       "    padding: 5px;\n",
       "  }\n",
       "  th {\n",
       "    text-align: left;\n",
       "  }\n",
       "</style><div class='table-result-container'><table class='table-result'><thead style='background-color: white'><tr><th>num_affected_rows</th><th>num_inserted_rows</th></tr></thead><tbody><tr><td>2</td><td>2</td></tr></tbody></table></div>"
      ]
     },
     "metadata": {
      "application/vnd.databricks.v1+output": {
       "addedWidgets": {},
       "aggData": [],
       "aggError": "",
       "aggOverflow": false,
       "aggSchema": [],
       "aggSeriesLimitReached": false,
       "aggType": "",
       "arguments": {},
       "columnCustomDisplayInfos": {},
       "data": [
        [
         2,
         2
        ]
       ],
       "datasetInfos": [],
       "dbfsResultPath": null,
       "isJsonSchema": true,
       "metadata": {
        "isDbfsCommandResult": false
       },
       "overflow": false,
       "plotOptions": {
        "customPlotOptions": {},
        "displayType": "table",
        "pivotAggregation": null,
        "pivotColumns": null,
        "xColumns": null,
        "yColumns": null
       },
       "removedWidgets": [],
       "schema": [
        {
         "metadata": "{}",
         "name": "num_affected_rows",
         "type": "\"long\""
        },
        {
         "metadata": "{}",
         "name": "num_inserted_rows",
         "type": "\"long\""
        }
       ],
       "type": "table"
      }
     },
     "output_type": "display_data"
    }
   ],
   "source": [
    "%sql\n",
    "INSERT INTO matches (MatchID, TeamGroup, home_country, away_country, home_country_goal, away_country_goal, winner_country)\n",
    "\n",
    "SELECT\n",
    "row_number() OVER (ORDER BY 1) + 48 AS MatchId,\n",
    "'N' AS Team_group,\n",
    "r1.winner_country AS home_country,\n",
    "r2.winner_country AS away_country,\n",
    "CAST(rand() * 6 AS INTEGER) AS home_country_goal,\n",
    "CAST(rand() * 6 AS INTEGER) AS away_country_goal,\n",
    "'None' AS match_result\n",
    "\n",
    "FROM \n",
    "    matches r1\n",
    "JOIN \n",
    "    matches r2 ON \n",
    "        r1.MatchId = 45 AND r2.MatchId = 46\n",
    "\n",
    "UNION ALL\n",
    "\n",
    "SELECT\n",
    "row_number() OVER (ORDER BY 1) + 49 AS MatchId,\n",
    "'N' AS Team_group,\n",
    "r1.winner_country AS home_country,\n",
    "r2.winner_country AS away_country,\n",
    "CAST(rand() * 6 AS INTEGER) AS home_country_goal,\n",
    "CAST(rand() * 6 AS INTEGER) AS away_country_goal,\n",
    "'None' AS match_result\n",
    "\n",
    "FROM \n",
    "    matches r1\n",
    "JOIN \n",
    "    matches r2 ON \n",
    "        r1.MatchId = 47 AND r2.MatchId = 48"
   ]
  },
  {
   "cell_type": "code",
   "execution_count": 0,
   "metadata": {
    "application/vnd.databricks.v1+cell": {
     "cellMetadata": {
      "byteLimit": 2048000,
      "rowLimit": 10000
     },
     "inputWidgets": {},
     "nuid": "50bde6e4-29c8-45ea-819e-1375b9db1d77",
     "showTitle": false,
     "title": ""
    }
   },
   "outputs": [
    {
     "output_type": "display_data",
     "data": {
      "text/html": [
       "<style scoped>\n",
       "  .table-result-container {\n",
       "    max-height: 300px;\n",
       "    overflow: auto;\n",
       "  }\n",
       "  table, th, td {\n",
       "    border: 1px solid black;\n",
       "    border-collapse: collapse;\n",
       "  }\n",
       "  th, td {\n",
       "    padding: 5px;\n",
       "  }\n",
       "  th {\n",
       "    text-align: left;\n",
       "  }\n",
       "</style><div class='table-result-container'><table class='table-result'><thead style='background-color: white'><tr><th>num_affected_rows</th></tr></thead><tbody><tr><td>50</td></tr></tbody></table></div>"
      ]
     },
     "metadata": {
      "application/vnd.databricks.v1+output": {
       "addedWidgets": {},
       "aggData": [],
       "aggError": "",
       "aggOverflow": false,
       "aggSchema": [],
       "aggSeriesLimitReached": false,
       "aggType": "",
       "arguments": {},
       "columnCustomDisplayInfos": {},
       "data": [
        [
         50
        ]
       ],
       "datasetInfos": [],
       "dbfsResultPath": null,
       "isJsonSchema": true,
       "metadata": {
        "isDbfsCommandResult": false
       },
       "overflow": false,
       "plotOptions": {
        "customPlotOptions": {},
        "displayType": "table",
        "pivotAggregation": null,
        "pivotColumns": null,
        "xColumns": null,
        "yColumns": null
       },
       "removedWidgets": [],
       "schema": [
        {
         "metadata": "{}",
         "name": "num_affected_rows",
         "type": "\"long\""
        }
       ],
       "type": "table"
      }
     },
     "output_type": "display_data"
    }
   ],
   "source": [
    "%sql\n",
    "UPDATE matches\n",
    "SET winner_country = \n",
    "    CASE\n",
    "        WHEN home_country_goal > away_country_goal THEN home_country\n",
    "        WHEN home_country_goal < away_country_goal THEN away_country\n",
    "        ELSE \n",
    "        CASE \n",
    "                WHEN (home_country_goal + 1) % 2 = 1 THEN home_country\n",
    "                ELSE away_country\n",
    "            END\n",
    "    END"
   ]
  },
  {
   "cell_type": "code",
   "execution_count": 0,
   "metadata": {
    "application/vnd.databricks.v1+cell": {
     "cellMetadata": {
      "byteLimit": 2048000,
      "rowLimit": 10000
     },
     "inputWidgets": {},
     "nuid": "933a69b3-e94a-46f3-828d-6408c7e4af2a",
     "showTitle": false,
     "title": ""
    }
   },
   "outputs": [
    {
     "output_type": "display_data",
     "data": {
      "text/html": [
       "<style scoped>\n",
       "  .table-result-container {\n",
       "    max-height: 300px;\n",
       "    overflow: auto;\n",
       "  }\n",
       "  table, th, td {\n",
       "    border: 1px solid black;\n",
       "    border-collapse: collapse;\n",
       "  }\n",
       "  th, td {\n",
       "    padding: 5px;\n",
       "  }\n",
       "  th {\n",
       "    text-align: left;\n",
       "  }\n",
       "</style><div class='table-result-container'><table class='table-result'><thead style='background-color: white'><tr><th>MatchId</th><th>TeamGroup</th><th>home_country</th><th>away_country</th><th>home_country_goal</th><th>away_country_goal</th><th>winner_country</th></tr></thead><tbody><tr><td>1</td><td>A</td><td>France</td><td>Portugal</td><td>4</td><td>4</td><td>France</td></tr><tr><td>2</td><td>A</td><td>France</td><td>Belgium</td><td>1</td><td>1</td><td>Belgium</td></tr><tr><td>3</td><td>A</td><td>France</td><td>Italy</td><td>5</td><td>4</td><td>France</td></tr><tr><td>4</td><td>A</td><td>Italy</td><td>Portugal</td><td>6</td><td>5</td><td>Italy</td></tr><tr><td>5</td><td>A</td><td>Italy</td><td>Belgium</td><td>2</td><td>3</td><td>Belgium</td></tr><tr><td>6</td><td>A</td><td>Belgium</td><td>Portugal</td><td>1</td><td>5</td><td>Portugal</td></tr><tr><td>7</td><td>B</td><td>Spain</td><td>England</td><td>6</td><td>5</td><td>Spain</td></tr><tr><td>8</td><td>B</td><td>Spain</td><td>Germany</td><td>3</td><td>5</td><td>Germany</td></tr><tr><td>9</td><td>B</td><td>Spain</td><td>Netherlands</td><td>1</td><td>3</td><td>Netherlands</td></tr><tr><td>10</td><td>B</td><td>Netherlands</td><td>England</td><td>3</td><td>5</td><td>England</td></tr><tr><td>11</td><td>B</td><td>Netherlands</td><td>Germany</td><td>3</td><td>1</td><td>Netherlands</td></tr><tr><td>12</td><td>B</td><td>Germany</td><td>England</td><td>2</td><td>3</td><td>England</td></tr><tr><td>13</td><td>C</td><td>Turkey</td><td>Denmark</td><td>6</td><td>6</td><td>Turkey</td></tr><tr><td>14</td><td>C</td><td>Turkey</td><td>Switzerland</td><td>6</td><td>2</td><td>Turkey</td></tr><tr><td>15</td><td>C</td><td>Turkey</td><td>Austria</td><td>2</td><td>3</td><td>Austria</td></tr><tr><td>16</td><td>C</td><td>Austria</td><td>Denmark</td><td>4</td><td>6</td><td>Denmark</td></tr><tr><td>17</td><td>C</td><td>Austria</td><td>Switzerland</td><td>2</td><td>3</td><td>Switzerland</td></tr><tr><td>18</td><td>C</td><td>Switzerland</td><td>Denmark</td><td>5</td><td>5</td><td>Denmark</td></tr><tr><td>19</td><td>D</td><td>Croatia</td><td>Poland</td><td>1</td><td>1</td><td>Poland</td></tr><tr><td>20</td><td>D</td><td>Croatia</td><td>Sweden</td><td>3</td><td>6</td><td>Sweden</td></tr><tr><td>21</td><td>D</td><td>Croatia</td><td>Ukraine</td><td>1</td><td>4</td><td>Ukraine</td></tr><tr><td>22</td><td>D</td><td>Ukraine</td><td>Poland</td><td>6</td><td>2</td><td>Ukraine</td></tr><tr><td>23</td><td>D</td><td>Ukraine</td><td>Sweden</td><td>5</td><td>6</td><td>Sweden</td></tr><tr><td>24</td><td>D</td><td>Sweden</td><td>Poland</td><td>1</td><td>2</td><td>Poland</td></tr><tr><td>25</td><td>E</td><td>Wales</td><td>Hungary</td><td>6</td><td>3</td><td>Wales</td></tr><tr><td>26</td><td>E</td><td>Wales</td><td>Slovakia</td><td>4</td><td>5</td><td>Slovakia</td></tr><tr><td>27</td><td>E</td><td>Wales</td><td>Czech Republic</td><td>6</td><td>2</td><td>Wales</td></tr><tr><td>28</td><td>E</td><td>Czech Republic</td><td>Hungary</td><td>4</td><td>2</td><td>Czech Republic</td></tr><tr><td>29</td><td>E</td><td>Czech Republic</td><td>Slovakia</td><td>1</td><td>6</td><td>Slovakia</td></tr><tr><td>30</td><td>E</td><td>Slovakia</td><td>Hungary</td><td>3</td><td>5</td><td>Hungary</td></tr><tr><td>31</td><td>F</td><td>Finland</td><td>Russia</td><td>4</td><td>4</td><td>Finland</td></tr><tr><td>32</td><td>F</td><td>Finland</td><td>Scotland</td><td>3</td><td>2</td><td>Finland</td></tr><tr><td>33</td><td>F</td><td>Finland</td><td>North Macedonia</td><td>1</td><td>6</td><td>North Macedonia</td></tr><tr><td>34</td><td>F</td><td>North Macedonia</td><td>Russia</td><td>2</td><td>3</td><td>Russia</td></tr><tr><td>35</td><td>F</td><td>North Macedonia</td><td>Scotland</td><td>5</td><td>5</td><td>Scotland</td></tr><tr><td>36</td><td>F</td><td>Scotland</td><td>Russia</td><td>4</td><td>4</td><td>Scotland</td></tr><tr><td>37</td><td>N</td><td>France</td><td>Switzerland</td><td>5</td><td>0</td><td>France</td></tr><tr><td>38</td><td>N</td><td>Belgium</td><td>Germany</td><td>5</td><td>2</td><td>Belgium</td></tr><tr><td>39</td><td>N</td><td>Spain</td><td>Italy</td><td>1</td><td>4</td><td>Italy</td></tr><tr><td>40</td><td>N</td><td>Austria</td><td>Ukraine</td><td>5</td><td>2</td><td>Austria</td></tr><tr><td>41</td><td>N</td><td>Finland</td><td>Turkey</td><td>4</td><td>2</td><td>Finland</td></tr><tr><td>42</td><td>N</td><td>Poland</td><td>Slovakia</td><td>4</td><td>5</td><td>Slovakia</td></tr><tr><td>43</td><td>N</td><td>Hungary</td><td>Netherlands</td><td>3</td><td>0</td><td>Hungary</td></tr><tr><td>44</td><td>N</td><td>Poland</td><td>North Macedonia</td><td>3</td><td>5</td><td>North Macedonia</td></tr><tr><td>45</td><td>N</td><td>France</td><td>Belgium</td><td>4</td><td>4</td><td>France</td></tr><tr><td>46</td><td>N</td><td>Italy</td><td>Austria</td><td>1</td><td>4</td><td>Austria</td></tr><tr><td>47</td><td>N</td><td>Finland</td><td>Slovakia</td><td>5</td><td>5</td><td>Slovakia</td></tr><tr><td>48</td><td>N</td><td>Hungary</td><td>North Macedonia</td><td>5</td><td>5</td><td>North Macedonia</td></tr><tr><td>49</td><td>N</td><td>France</td><td>Austria</td><td>5</td><td>1</td><td>France</td></tr><tr><td>50</td><td>N</td><td>Slovakia</td><td>North Macedonia</td><td>4</td><td>5</td><td>North Macedonia</td></tr></tbody></table></div>"
      ]
     },
     "metadata": {
      "application/vnd.databricks.v1+output": {
       "addedWidgets": {},
       "aggData": [],
       "aggError": "",
       "aggOverflow": false,
       "aggSchema": [],
       "aggSeriesLimitReached": false,
       "aggType": "",
       "arguments": {},
       "columnCustomDisplayInfos": {},
       "data": [
        [
         1,
         "A",
         "France",
         "Portugal",
         4,
         4,
         "France"
        ],
        [
         2,
         "A",
         "France",
         "Belgium",
         1,
         1,
         "Belgium"
        ],
        [
         3,
         "A",
         "France",
         "Italy",
         5,
         4,
         "France"
        ],
        [
         4,
         "A",
         "Italy",
         "Portugal",
         6,
         5,
         "Italy"
        ],
        [
         5,
         "A",
         "Italy",
         "Belgium",
         2,
         3,
         "Belgium"
        ],
        [
         6,
         "A",
         "Belgium",
         "Portugal",
         1,
         5,
         "Portugal"
        ],
        [
         7,
         "B",
         "Spain",
         "England",
         6,
         5,
         "Spain"
        ],
        [
         8,
         "B",
         "Spain",
         "Germany",
         3,
         5,
         "Germany"
        ],
        [
         9,
         "B",
         "Spain",
         "Netherlands",
         1,
         3,
         "Netherlands"
        ],
        [
         10,
         "B",
         "Netherlands",
         "England",
         3,
         5,
         "England"
        ],
        [
         11,
         "B",
         "Netherlands",
         "Germany",
         3,
         1,
         "Netherlands"
        ],
        [
         12,
         "B",
         "Germany",
         "England",
         2,
         3,
         "England"
        ],
        [
         13,
         "C",
         "Turkey",
         "Denmark",
         6,
         6,
         "Turkey"
        ],
        [
         14,
         "C",
         "Turkey",
         "Switzerland",
         6,
         2,
         "Turkey"
        ],
        [
         15,
         "C",
         "Turkey",
         "Austria",
         2,
         3,
         "Austria"
        ],
        [
         16,
         "C",
         "Austria",
         "Denmark",
         4,
         6,
         "Denmark"
        ],
        [
         17,
         "C",
         "Austria",
         "Switzerland",
         2,
         3,
         "Switzerland"
        ],
        [
         18,
         "C",
         "Switzerland",
         "Denmark",
         5,
         5,
         "Denmark"
        ],
        [
         19,
         "D",
         "Croatia",
         "Poland",
         1,
         1,
         "Poland"
        ],
        [
         20,
         "D",
         "Croatia",
         "Sweden",
         3,
         6,
         "Sweden"
        ],
        [
         21,
         "D",
         "Croatia",
         "Ukraine",
         1,
         4,
         "Ukraine"
        ],
        [
         22,
         "D",
         "Ukraine",
         "Poland",
         6,
         2,
         "Ukraine"
        ],
        [
         23,
         "D",
         "Ukraine",
         "Sweden",
         5,
         6,
         "Sweden"
        ],
        [
         24,
         "D",
         "Sweden",
         "Poland",
         1,
         2,
         "Poland"
        ],
        [
         25,
         "E",
         "Wales",
         "Hungary",
         6,
         3,
         "Wales"
        ],
        [
         26,
         "E",
         "Wales",
         "Slovakia",
         4,
         5,
         "Slovakia"
        ],
        [
         27,
         "E",
         "Wales",
         "Czech Republic",
         6,
         2,
         "Wales"
        ],
        [
         28,
         "E",
         "Czech Republic",
         "Hungary",
         4,
         2,
         "Czech Republic"
        ],
        [
         29,
         "E",
         "Czech Republic",
         "Slovakia",
         1,
         6,
         "Slovakia"
        ],
        [
         30,
         "E",
         "Slovakia",
         "Hungary",
         3,
         5,
         "Hungary"
        ],
        [
         31,
         "F",
         "Finland",
         "Russia",
         4,
         4,
         "Finland"
        ],
        [
         32,
         "F",
         "Finland",
         "Scotland",
         3,
         2,
         "Finland"
        ],
        [
         33,
         "F",
         "Finland",
         "North Macedonia",
         1,
         6,
         "North Macedonia"
        ],
        [
         34,
         "F",
         "North Macedonia",
         "Russia",
         2,
         3,
         "Russia"
        ],
        [
         35,
         "F",
         "North Macedonia",
         "Scotland",
         5,
         5,
         "Scotland"
        ],
        [
         36,
         "F",
         "Scotland",
         "Russia",
         4,
         4,
         "Scotland"
        ],
        [
         37,
         "N",
         "France",
         "Switzerland",
         5,
         0,
         "France"
        ],
        [
         38,
         "N",
         "Belgium",
         "Germany",
         5,
         2,
         "Belgium"
        ],
        [
         39,
         "N",
         "Spain",
         "Italy",
         1,
         4,
         "Italy"
        ],
        [
         40,
         "N",
         "Austria",
         "Ukraine",
         5,
         2,
         "Austria"
        ],
        [
         41,
         "N",
         "Finland",
         "Turkey",
         4,
         2,
         "Finland"
        ],
        [
         42,
         "N",
         "Poland",
         "Slovakia",
         4,
         5,
         "Slovakia"
        ],
        [
         43,
         "N",
         "Hungary",
         "Netherlands",
         3,
         0,
         "Hungary"
        ],
        [
         44,
         "N",
         "Poland",
         "North Macedonia",
         3,
         5,
         "North Macedonia"
        ],
        [
         45,
         "N",
         "France",
         "Belgium",
         4,
         4,
         "France"
        ],
        [
         46,
         "N",
         "Italy",
         "Austria",
         1,
         4,
         "Austria"
        ],
        [
         47,
         "N",
         "Finland",
         "Slovakia",
         5,
         5,
         "Slovakia"
        ],
        [
         48,
         "N",
         "Hungary",
         "North Macedonia",
         5,
         5,
         "North Macedonia"
        ],
        [
         49,
         "N",
         "France",
         "Austria",
         5,
         1,
         "France"
        ],
        [
         50,
         "N",
         "Slovakia",
         "North Macedonia",
         4,
         5,
         "North Macedonia"
        ]
       ],
       "datasetInfos": [],
       "dbfsResultPath": null,
       "isJsonSchema": true,
       "metadata": {
        "isDbfsCommandResult": false
       },
       "overflow": false,
       "plotOptions": {
        "customPlotOptions": {},
        "displayType": "table",
        "pivotAggregation": null,
        "pivotColumns": null,
        "xColumns": null,
        "yColumns": null
       },
       "removedWidgets": [],
       "schema": [
        {
         "metadata": "{}",
         "name": "MatchId",
         "type": "\"integer\""
        },
        {
         "metadata": "{\"__CHAR_VARCHAR_TYPE_STRING\":\"varchar(20)\"}",
         "name": "TeamGroup",
         "type": "\"string\""
        },
        {
         "metadata": "{\"__CHAR_VARCHAR_TYPE_STRING\":\"varchar(20)\"}",
         "name": "home_country",
         "type": "\"string\""
        },
        {
         "metadata": "{\"__CHAR_VARCHAR_TYPE_STRING\":\"varchar(20)\"}",
         "name": "away_country",
         "type": "\"string\""
        },
        {
         "metadata": "{}",
         "name": "home_country_goal",
         "type": "\"integer\""
        },
        {
         "metadata": "{}",
         "name": "away_country_goal",
         "type": "\"integer\""
        },
        {
         "metadata": "{\"__CHAR_VARCHAR_TYPE_STRING\":\"varchar(20)\"}",
         "name": "winner_country",
         "type": "\"string\""
        }
       ],
       "type": "table"
      }
     },
     "output_type": "display_data"
    }
   ],
   "source": [
    "%sql\n",
    "select * from matches order by MatchId;"
   ]
  },
  {
   "cell_type": "markdown",
   "metadata": {
    "application/vnd.databricks.v1+cell": {
     "cellMetadata": {
      "byteLimit": 2048000,
      "rowLimit": 10000
     },
     "inputWidgets": {},
     "nuid": "cf66d6a3-1ed7-421d-b351-3015383522a2",
     "showTitle": false,
     "title": ""
    }
   },
   "source": [
    "Third Place"
   ]
  },
  {
   "cell_type": "code",
   "execution_count": 0,
   "metadata": {
    "application/vnd.databricks.v1+cell": {
     "cellMetadata": {
      "byteLimit": 2048000,
      "rowLimit": 10000
     },
     "inputWidgets": {},
     "nuid": "9fc9056c-e7da-4cf5-9aca-3e5b29a34e68",
     "showTitle": false,
     "title": ""
    }
   },
   "outputs": [
    {
     "output_type": "display_data",
     "data": {
      "text/html": [
       "<style scoped>\n",
       "  .table-result-container {\n",
       "    max-height: 300px;\n",
       "    overflow: auto;\n",
       "  }\n",
       "  table, th, td {\n",
       "    border: 1px solid black;\n",
       "    border-collapse: collapse;\n",
       "  }\n",
       "  th, td {\n",
       "    padding: 5px;\n",
       "  }\n",
       "  th {\n",
       "    text-align: left;\n",
       "  }\n",
       "</style><div class='table-result-container'><table class='table-result'><thead style='background-color: white'><tr><th>num_affected_rows</th><th>num_inserted_rows</th></tr></thead><tbody><tr><td>1</td><td>1</td></tr></tbody></table></div>"
      ]
     },
     "metadata": {
      "application/vnd.databricks.v1+output": {
       "addedWidgets": {},
       "aggData": [],
       "aggError": "",
       "aggOverflow": false,
       "aggSchema": [],
       "aggSeriesLimitReached": false,
       "aggType": "",
       "arguments": {},
       "columnCustomDisplayInfos": {},
       "data": [
        [
         1,
         1
        ]
       ],
       "datasetInfos": [],
       "dbfsResultPath": null,
       "isJsonSchema": true,
       "metadata": {
        "isDbfsCommandResult": false
       },
       "overflow": false,
       "plotOptions": {
        "customPlotOptions": {},
        "displayType": "table",
        "pivotAggregation": null,
        "pivotColumns": null,
        "xColumns": null,
        "yColumns": null
       },
       "removedWidgets": [],
       "schema": [
        {
         "metadata": "{}",
         "name": "num_affected_rows",
         "type": "\"long\""
        },
        {
         "metadata": "{}",
         "name": "num_inserted_rows",
         "type": "\"long\""
        }
       ],
       "type": "table"
      }
     },
     "output_type": "display_data"
    }
   ],
   "source": [
    "%sql\n",
    "INSERT INTO matches (MatchID, TeamGroup, home_country, away_country, home_country_goal, away_country_goal, winner_country)\n",
    "WITH losing_teams AS (\n",
    "    SELECT\n",
    "        CASE\n",
    "            WHEN winner_country != home_country THEN home_country\n",
    "            ELSE away_country\n",
    "        END AS losing_teams\n",
    "    FROM\n",
    "        matches\n",
    "    WHERE MatchId IN (49,50)\n",
    ")\n",
    "\n",
    "SELECT \n",
    "    Row_Number() OVER(ORDER BY 1) + 50 AS match_id,\n",
    "    'N' as GroupName,\n",
    "    T1.losing_teams AS home_country,\n",
    "    T2.losing_teams AS away_country,\n",
    "    CAST(rand() * 6 AS INTEGER) AS home_country_goal, \n",
    "    CAST(rand() * 6 AS INTEGER) AS away_country_goal,\n",
    "    'None' AS match_results\n",
    "FROM \n",
    "    losing_teams T1\n",
    "JOIN \n",
    "    losing_teams T2 ON T1.losing_teams < T2.losing_teams;"
   ]
  },
  {
   "cell_type": "code",
   "execution_count": 0,
   "metadata": {
    "application/vnd.databricks.v1+cell": {
     "cellMetadata": {
      "byteLimit": 2048000,
      "rowLimit": 10000
     },
     "inputWidgets": {},
     "nuid": "b5a14bbd-39d2-4a8a-ada9-1812092fc02b",
     "showTitle": false,
     "title": ""
    }
   },
   "outputs": [
    {
     "output_type": "display_data",
     "data": {
      "text/html": [
       "<style scoped>\n",
       "  .table-result-container {\n",
       "    max-height: 300px;\n",
       "    overflow: auto;\n",
       "  }\n",
       "  table, th, td {\n",
       "    border: 1px solid black;\n",
       "    border-collapse: collapse;\n",
       "  }\n",
       "  th, td {\n",
       "    padding: 5px;\n",
       "  }\n",
       "  th {\n",
       "    text-align: left;\n",
       "  }\n",
       "</style><div class='table-result-container'><table class='table-result'><thead style='background-color: white'><tr><th>num_affected_rows</th></tr></thead><tbody><tr><td>51</td></tr></tbody></table></div>"
      ]
     },
     "metadata": {
      "application/vnd.databricks.v1+output": {
       "addedWidgets": {},
       "aggData": [],
       "aggError": "",
       "aggOverflow": false,
       "aggSchema": [],
       "aggSeriesLimitReached": false,
       "aggType": "",
       "arguments": {},
       "columnCustomDisplayInfos": {},
       "data": [
        [
         51
        ]
       ],
       "datasetInfos": [],
       "dbfsResultPath": null,
       "isJsonSchema": true,
       "metadata": {
        "isDbfsCommandResult": false
       },
       "overflow": false,
       "plotOptions": {
        "customPlotOptions": {},
        "displayType": "table",
        "pivotAggregation": null,
        "pivotColumns": null,
        "xColumns": null,
        "yColumns": null
       },
       "removedWidgets": [],
       "schema": [
        {
         "metadata": "{}",
         "name": "num_affected_rows",
         "type": "\"long\""
        }
       ],
       "type": "table"
      }
     },
     "output_type": "display_data"
    }
   ],
   "source": [
    "%sql\n",
    "UPDATE matches\n",
    "SET winner_country = \n",
    "    CASE\n",
    "        WHEN home_country_goal > away_country_goal THEN home_country\n",
    "        WHEN home_country_goal < away_country_goal THEN away_country\n",
    "        ELSE \n",
    "        CASE \n",
    "                WHEN (home_country_goal + 1) % 2 = 1 THEN home_country\n",
    "                ELSE away_country\n",
    "            END\n",
    "    END"
   ]
  },
  {
   "cell_type": "code",
   "execution_count": 0,
   "metadata": {
    "application/vnd.databricks.v1+cell": {
     "cellMetadata": {
      "byteLimit": 2048000,
      "rowLimit": 10000
     },
     "inputWidgets": {},
     "nuid": "57817804-9979-4456-88c1-a1adb1f81363",
     "showTitle": false,
     "title": ""
    }
   },
   "outputs": [
    {
     "output_type": "display_data",
     "data": {
      "text/html": [
       "<style scoped>\n",
       "  .table-result-container {\n",
       "    max-height: 300px;\n",
       "    overflow: auto;\n",
       "  }\n",
       "  table, th, td {\n",
       "    border: 1px solid black;\n",
       "    border-collapse: collapse;\n",
       "  }\n",
       "  th, td {\n",
       "    padding: 5px;\n",
       "  }\n",
       "  th {\n",
       "    text-align: left;\n",
       "  }\n",
       "</style><div class='table-result-container'><table class='table-result'><thead style='background-color: white'><tr><th>MatchId</th><th>TeamGroup</th><th>home_country</th><th>away_country</th><th>home_country_goal</th><th>away_country_goal</th><th>winner_country</th></tr></thead><tbody><tr><td>1</td><td>A</td><td>France</td><td>Portugal</td><td>4</td><td>4</td><td>France</td></tr><tr><td>2</td><td>A</td><td>France</td><td>Belgium</td><td>1</td><td>1</td><td>Belgium</td></tr><tr><td>3</td><td>A</td><td>France</td><td>Italy</td><td>5</td><td>4</td><td>France</td></tr><tr><td>4</td><td>A</td><td>Italy</td><td>Portugal</td><td>6</td><td>5</td><td>Italy</td></tr><tr><td>5</td><td>A</td><td>Italy</td><td>Belgium</td><td>2</td><td>3</td><td>Belgium</td></tr><tr><td>6</td><td>A</td><td>Belgium</td><td>Portugal</td><td>1</td><td>5</td><td>Portugal</td></tr><tr><td>7</td><td>B</td><td>Spain</td><td>England</td><td>6</td><td>5</td><td>Spain</td></tr><tr><td>8</td><td>B</td><td>Spain</td><td>Germany</td><td>3</td><td>5</td><td>Germany</td></tr><tr><td>9</td><td>B</td><td>Spain</td><td>Netherlands</td><td>1</td><td>3</td><td>Netherlands</td></tr><tr><td>10</td><td>B</td><td>Netherlands</td><td>England</td><td>3</td><td>5</td><td>England</td></tr><tr><td>11</td><td>B</td><td>Netherlands</td><td>Germany</td><td>3</td><td>1</td><td>Netherlands</td></tr><tr><td>12</td><td>B</td><td>Germany</td><td>England</td><td>2</td><td>3</td><td>England</td></tr><tr><td>13</td><td>C</td><td>Turkey</td><td>Denmark</td><td>6</td><td>6</td><td>Turkey</td></tr><tr><td>14</td><td>C</td><td>Turkey</td><td>Switzerland</td><td>6</td><td>2</td><td>Turkey</td></tr><tr><td>15</td><td>C</td><td>Turkey</td><td>Austria</td><td>2</td><td>3</td><td>Austria</td></tr><tr><td>16</td><td>C</td><td>Austria</td><td>Denmark</td><td>4</td><td>6</td><td>Denmark</td></tr><tr><td>17</td><td>C</td><td>Austria</td><td>Switzerland</td><td>2</td><td>3</td><td>Switzerland</td></tr><tr><td>18</td><td>C</td><td>Switzerland</td><td>Denmark</td><td>5</td><td>5</td><td>Denmark</td></tr><tr><td>19</td><td>D</td><td>Croatia</td><td>Poland</td><td>1</td><td>1</td><td>Poland</td></tr><tr><td>20</td><td>D</td><td>Croatia</td><td>Sweden</td><td>3</td><td>6</td><td>Sweden</td></tr><tr><td>21</td><td>D</td><td>Croatia</td><td>Ukraine</td><td>1</td><td>4</td><td>Ukraine</td></tr><tr><td>22</td><td>D</td><td>Ukraine</td><td>Poland</td><td>6</td><td>2</td><td>Ukraine</td></tr><tr><td>23</td><td>D</td><td>Ukraine</td><td>Sweden</td><td>5</td><td>6</td><td>Sweden</td></tr><tr><td>24</td><td>D</td><td>Sweden</td><td>Poland</td><td>1</td><td>2</td><td>Poland</td></tr><tr><td>25</td><td>E</td><td>Wales</td><td>Hungary</td><td>6</td><td>3</td><td>Wales</td></tr><tr><td>26</td><td>E</td><td>Wales</td><td>Slovakia</td><td>4</td><td>5</td><td>Slovakia</td></tr><tr><td>27</td><td>E</td><td>Wales</td><td>Czech Republic</td><td>6</td><td>2</td><td>Wales</td></tr><tr><td>28</td><td>E</td><td>Czech Republic</td><td>Hungary</td><td>4</td><td>2</td><td>Czech Republic</td></tr><tr><td>29</td><td>E</td><td>Czech Republic</td><td>Slovakia</td><td>1</td><td>6</td><td>Slovakia</td></tr><tr><td>30</td><td>E</td><td>Slovakia</td><td>Hungary</td><td>3</td><td>5</td><td>Hungary</td></tr><tr><td>31</td><td>F</td><td>Finland</td><td>Russia</td><td>4</td><td>4</td><td>Finland</td></tr><tr><td>32</td><td>F</td><td>Finland</td><td>Scotland</td><td>3</td><td>2</td><td>Finland</td></tr><tr><td>33</td><td>F</td><td>Finland</td><td>North Macedonia</td><td>1</td><td>6</td><td>North Macedonia</td></tr><tr><td>34</td><td>F</td><td>North Macedonia</td><td>Russia</td><td>2</td><td>3</td><td>Russia</td></tr><tr><td>35</td><td>F</td><td>North Macedonia</td><td>Scotland</td><td>5</td><td>5</td><td>Scotland</td></tr><tr><td>36</td><td>F</td><td>Scotland</td><td>Russia</td><td>4</td><td>4</td><td>Scotland</td></tr><tr><td>37</td><td>N</td><td>France</td><td>Switzerland</td><td>5</td><td>0</td><td>France</td></tr><tr><td>38</td><td>N</td><td>Belgium</td><td>Germany</td><td>5</td><td>2</td><td>Belgium</td></tr><tr><td>39</td><td>N</td><td>Spain</td><td>Italy</td><td>1</td><td>4</td><td>Italy</td></tr><tr><td>40</td><td>N</td><td>Austria</td><td>Ukraine</td><td>5</td><td>2</td><td>Austria</td></tr><tr><td>41</td><td>N</td><td>Finland</td><td>Turkey</td><td>4</td><td>2</td><td>Finland</td></tr><tr><td>42</td><td>N</td><td>Poland</td><td>Slovakia</td><td>4</td><td>5</td><td>Slovakia</td></tr><tr><td>43</td><td>N</td><td>Hungary</td><td>Netherlands</td><td>3</td><td>0</td><td>Hungary</td></tr><tr><td>44</td><td>N</td><td>Poland</td><td>North Macedonia</td><td>3</td><td>5</td><td>North Macedonia</td></tr><tr><td>45</td><td>N</td><td>France</td><td>Belgium</td><td>4</td><td>4</td><td>France</td></tr><tr><td>46</td><td>N</td><td>Italy</td><td>Austria</td><td>1</td><td>4</td><td>Austria</td></tr><tr><td>47</td><td>N</td><td>Finland</td><td>Slovakia</td><td>5</td><td>5</td><td>Slovakia</td></tr><tr><td>48</td><td>N</td><td>Hungary</td><td>North Macedonia</td><td>5</td><td>5</td><td>North Macedonia</td></tr><tr><td>49</td><td>N</td><td>France</td><td>Austria</td><td>5</td><td>1</td><td>France</td></tr><tr><td>50</td><td>N</td><td>Slovakia</td><td>North Macedonia</td><td>4</td><td>5</td><td>North Macedonia</td></tr><tr><td>51</td><td>N</td><td>Austria</td><td>Slovakia</td><td>3</td><td>0</td><td>Austria</td></tr></tbody></table></div>"
      ]
     },
     "metadata": {
      "application/vnd.databricks.v1+output": {
       "addedWidgets": {},
       "aggData": [],
       "aggError": "",
       "aggOverflow": false,
       "aggSchema": [],
       "aggSeriesLimitReached": false,
       "aggType": "",
       "arguments": {},
       "columnCustomDisplayInfos": {},
       "data": [
        [
         1,
         "A",
         "France",
         "Portugal",
         4,
         4,
         "France"
        ],
        [
         2,
         "A",
         "France",
         "Belgium",
         1,
         1,
         "Belgium"
        ],
        [
         3,
         "A",
         "France",
         "Italy",
         5,
         4,
         "France"
        ],
        [
         4,
         "A",
         "Italy",
         "Portugal",
         6,
         5,
         "Italy"
        ],
        [
         5,
         "A",
         "Italy",
         "Belgium",
         2,
         3,
         "Belgium"
        ],
        [
         6,
         "A",
         "Belgium",
         "Portugal",
         1,
         5,
         "Portugal"
        ],
        [
         7,
         "B",
         "Spain",
         "England",
         6,
         5,
         "Spain"
        ],
        [
         8,
         "B",
         "Spain",
         "Germany",
         3,
         5,
         "Germany"
        ],
        [
         9,
         "B",
         "Spain",
         "Netherlands",
         1,
         3,
         "Netherlands"
        ],
        [
         10,
         "B",
         "Netherlands",
         "England",
         3,
         5,
         "England"
        ],
        [
         11,
         "B",
         "Netherlands",
         "Germany",
         3,
         1,
         "Netherlands"
        ],
        [
         12,
         "B",
         "Germany",
         "England",
         2,
         3,
         "England"
        ],
        [
         13,
         "C",
         "Turkey",
         "Denmark",
         6,
         6,
         "Turkey"
        ],
        [
         14,
         "C",
         "Turkey",
         "Switzerland",
         6,
         2,
         "Turkey"
        ],
        [
         15,
         "C",
         "Turkey",
         "Austria",
         2,
         3,
         "Austria"
        ],
        [
         16,
         "C",
         "Austria",
         "Denmark",
         4,
         6,
         "Denmark"
        ],
        [
         17,
         "C",
         "Austria",
         "Switzerland",
         2,
         3,
         "Switzerland"
        ],
        [
         18,
         "C",
         "Switzerland",
         "Denmark",
         5,
         5,
         "Denmark"
        ],
        [
         19,
         "D",
         "Croatia",
         "Poland",
         1,
         1,
         "Poland"
        ],
        [
         20,
         "D",
         "Croatia",
         "Sweden",
         3,
         6,
         "Sweden"
        ],
        [
         21,
         "D",
         "Croatia",
         "Ukraine",
         1,
         4,
         "Ukraine"
        ],
        [
         22,
         "D",
         "Ukraine",
         "Poland",
         6,
         2,
         "Ukraine"
        ],
        [
         23,
         "D",
         "Ukraine",
         "Sweden",
         5,
         6,
         "Sweden"
        ],
        [
         24,
         "D",
         "Sweden",
         "Poland",
         1,
         2,
         "Poland"
        ],
        [
         25,
         "E",
         "Wales",
         "Hungary",
         6,
         3,
         "Wales"
        ],
        [
         26,
         "E",
         "Wales",
         "Slovakia",
         4,
         5,
         "Slovakia"
        ],
        [
         27,
         "E",
         "Wales",
         "Czech Republic",
         6,
         2,
         "Wales"
        ],
        [
         28,
         "E",
         "Czech Republic",
         "Hungary",
         4,
         2,
         "Czech Republic"
        ],
        [
         29,
         "E",
         "Czech Republic",
         "Slovakia",
         1,
         6,
         "Slovakia"
        ],
        [
         30,
         "E",
         "Slovakia",
         "Hungary",
         3,
         5,
         "Hungary"
        ],
        [
         31,
         "F",
         "Finland",
         "Russia",
         4,
         4,
         "Finland"
        ],
        [
         32,
         "F",
         "Finland",
         "Scotland",
         3,
         2,
         "Finland"
        ],
        [
         33,
         "F",
         "Finland",
         "North Macedonia",
         1,
         6,
         "North Macedonia"
        ],
        [
         34,
         "F",
         "North Macedonia",
         "Russia",
         2,
         3,
         "Russia"
        ],
        [
         35,
         "F",
         "North Macedonia",
         "Scotland",
         5,
         5,
         "Scotland"
        ],
        [
         36,
         "F",
         "Scotland",
         "Russia",
         4,
         4,
         "Scotland"
        ],
        [
         37,
         "N",
         "France",
         "Switzerland",
         5,
         0,
         "France"
        ],
        [
         38,
         "N",
         "Belgium",
         "Germany",
         5,
         2,
         "Belgium"
        ],
        [
         39,
         "N",
         "Spain",
         "Italy",
         1,
         4,
         "Italy"
        ],
        [
         40,
         "N",
         "Austria",
         "Ukraine",
         5,
         2,
         "Austria"
        ],
        [
         41,
         "N",
         "Finland",
         "Turkey",
         4,
         2,
         "Finland"
        ],
        [
         42,
         "N",
         "Poland",
         "Slovakia",
         4,
         5,
         "Slovakia"
        ],
        [
         43,
         "N",
         "Hungary",
         "Netherlands",
         3,
         0,
         "Hungary"
        ],
        [
         44,
         "N",
         "Poland",
         "North Macedonia",
         3,
         5,
         "North Macedonia"
        ],
        [
         45,
         "N",
         "France",
         "Belgium",
         4,
         4,
         "France"
        ],
        [
         46,
         "N",
         "Italy",
         "Austria",
         1,
         4,
         "Austria"
        ],
        [
         47,
         "N",
         "Finland",
         "Slovakia",
         5,
         5,
         "Slovakia"
        ],
        [
         48,
         "N",
         "Hungary",
         "North Macedonia",
         5,
         5,
         "North Macedonia"
        ],
        [
         49,
         "N",
         "France",
         "Austria",
         5,
         1,
         "France"
        ],
        [
         50,
         "N",
         "Slovakia",
         "North Macedonia",
         4,
         5,
         "North Macedonia"
        ],
        [
         51,
         "N",
         "Austria",
         "Slovakia",
         3,
         0,
         "Austria"
        ]
       ],
       "datasetInfos": [],
       "dbfsResultPath": null,
       "isJsonSchema": true,
       "metadata": {
        "isDbfsCommandResult": false
       },
       "overflow": false,
       "plotOptions": {
        "customPlotOptions": {},
        "displayType": "table",
        "pivotAggregation": null,
        "pivotColumns": null,
        "xColumns": null,
        "yColumns": null
       },
       "removedWidgets": [],
       "schema": [
        {
         "metadata": "{}",
         "name": "MatchId",
         "type": "\"integer\""
        },
        {
         "metadata": "{\"__CHAR_VARCHAR_TYPE_STRING\":\"varchar(20)\"}",
         "name": "TeamGroup",
         "type": "\"string\""
        },
        {
         "metadata": "{\"__CHAR_VARCHAR_TYPE_STRING\":\"varchar(20)\"}",
         "name": "home_country",
         "type": "\"string\""
        },
        {
         "metadata": "{\"__CHAR_VARCHAR_TYPE_STRING\":\"varchar(20)\"}",
         "name": "away_country",
         "type": "\"string\""
        },
        {
         "metadata": "{}",
         "name": "home_country_goal",
         "type": "\"integer\""
        },
        {
         "metadata": "{}",
         "name": "away_country_goal",
         "type": "\"integer\""
        },
        {
         "metadata": "{\"__CHAR_VARCHAR_TYPE_STRING\":\"varchar(20)\"}",
         "name": "winner_country",
         "type": "\"string\""
        }
       ],
       "type": "table"
      }
     },
     "output_type": "display_data"
    }
   ],
   "source": [
    "%sql\n",
    "select * from matches order by MatchId;"
   ]
  },
  {
   "cell_type": "markdown",
   "metadata": {
    "application/vnd.databricks.v1+cell": {
     "cellMetadata": {
      "byteLimit": 2048000,
      "rowLimit": 10000
     },
     "inputWidgets": {},
     "nuid": "d9853450-73a7-4458-8191-fb471546a981",
     "showTitle": false,
     "title": ""
    }
   },
   "source": [
    "Final"
   ]
  },
  {
   "cell_type": "code",
   "execution_count": 0,
   "metadata": {
    "application/vnd.databricks.v1+cell": {
     "cellMetadata": {
      "byteLimit": 2048000,
      "rowLimit": 10000
     },
     "inputWidgets": {},
     "nuid": "a8635745-61cd-431f-8c2b-e69e7996ecd7",
     "showTitle": false,
     "title": ""
    }
   },
   "outputs": [
    {
     "output_type": "display_data",
     "data": {
      "text/html": [
       "<style scoped>\n",
       "  .table-result-container {\n",
       "    max-height: 300px;\n",
       "    overflow: auto;\n",
       "  }\n",
       "  table, th, td {\n",
       "    border: 1px solid black;\n",
       "    border-collapse: collapse;\n",
       "  }\n",
       "  th, td {\n",
       "    padding: 5px;\n",
       "  }\n",
       "  th {\n",
       "    text-align: left;\n",
       "  }\n",
       "</style><div class='table-result-container'><table class='table-result'><thead style='background-color: white'><tr><th>num_affected_rows</th><th>num_inserted_rows</th></tr></thead><tbody><tr><td>1</td><td>1</td></tr></tbody></table></div>"
      ]
     },
     "metadata": {
      "application/vnd.databricks.v1+output": {
       "addedWidgets": {},
       "aggData": [],
       "aggError": "",
       "aggOverflow": false,
       "aggSchema": [],
       "aggSeriesLimitReached": false,
       "aggType": "",
       "arguments": {},
       "columnCustomDisplayInfos": {},
       "data": [
        [
         1,
         1
        ]
       ],
       "datasetInfos": [],
       "dbfsResultPath": null,
       "isJsonSchema": true,
       "metadata": {
        "isDbfsCommandResult": false
       },
       "overflow": false,
       "plotOptions": {
        "customPlotOptions": {},
        "displayType": "table",
        "pivotAggregation": null,
        "pivotColumns": null,
        "xColumns": null,
        "yColumns": null
       },
       "removedWidgets": [],
       "schema": [
        {
         "metadata": "{}",
         "name": "num_affected_rows",
         "type": "\"long\""
        },
        {
         "metadata": "{}",
         "name": "num_inserted_rows",
         "type": "\"long\""
        }
       ],
       "type": "table"
      }
     },
     "output_type": "display_data"
    }
   ],
   "source": [
    "%sql\n",
    "INSERT INTO matches (MatchID, TeamGroup, home_country, away_country, home_country_goal, away_country_goal, winner_country)\n",
    "\n",
    "SELECT\n",
    "row_number() OVER (ORDER BY 1) + 51 AS MatchId,\n",
    "'N' AS Team_group,\n",
    "r1.winner_country AS home_country,\n",
    "r2.winner_country AS away_country,\n",
    "CAST(rand() * 6 AS INTEGER) AS home_country_goal,\n",
    "CAST(rand() * 6 AS INTEGER) AS away_country_goal,\n",
    "'None' AS match_result\n",
    "\n",
    "FROM \n",
    "    matches r1\n",
    "JOIN \n",
    "    matches r2 ON \n",
    "        r1.MatchId = 49 AND r2.MatchId = 50\n"
   ]
  },
  {
   "cell_type": "code",
   "execution_count": 0,
   "metadata": {
    "application/vnd.databricks.v1+cell": {
     "cellMetadata": {
      "byteLimit": 2048000,
      "rowLimit": 10000
     },
     "inputWidgets": {},
     "nuid": "4acfa0d7-a1b2-4881-9eaa-36025aea0f03",
     "showTitle": false,
     "title": ""
    }
   },
   "outputs": [
    {
     "output_type": "display_data",
     "data": {
      "text/html": [
       "<style scoped>\n",
       "  .table-result-container {\n",
       "    max-height: 300px;\n",
       "    overflow: auto;\n",
       "  }\n",
       "  table, th, td {\n",
       "    border: 1px solid black;\n",
       "    border-collapse: collapse;\n",
       "  }\n",
       "  th, td {\n",
       "    padding: 5px;\n",
       "  }\n",
       "  th {\n",
       "    text-align: left;\n",
       "  }\n",
       "</style><div class='table-result-container'><table class='table-result'><thead style='background-color: white'><tr><th>num_affected_rows</th></tr></thead><tbody><tr><td>52</td></tr></tbody></table></div>"
      ]
     },
     "metadata": {
      "application/vnd.databricks.v1+output": {
       "addedWidgets": {},
       "aggData": [],
       "aggError": "",
       "aggOverflow": false,
       "aggSchema": [],
       "aggSeriesLimitReached": false,
       "aggType": "",
       "arguments": {},
       "columnCustomDisplayInfos": {},
       "data": [
        [
         52
        ]
       ],
       "datasetInfos": [],
       "dbfsResultPath": null,
       "isJsonSchema": true,
       "metadata": {
        "isDbfsCommandResult": false
       },
       "overflow": false,
       "plotOptions": {
        "customPlotOptions": {},
        "displayType": "table",
        "pivotAggregation": null,
        "pivotColumns": null,
        "xColumns": null,
        "yColumns": null
       },
       "removedWidgets": [],
       "schema": [
        {
         "metadata": "{}",
         "name": "num_affected_rows",
         "type": "\"long\""
        }
       ],
       "type": "table"
      }
     },
     "output_type": "display_data"
    }
   ],
   "source": [
    "%sql\n",
    "UPDATE matches\n",
    "SET winner_country = \n",
    "    CASE\n",
    "        WHEN home_country_goal > away_country_goal THEN home_country\n",
    "        WHEN home_country_goal < away_country_goal THEN away_country\n",
    "        ELSE \n",
    "        CASE \n",
    "                WHEN (home_country_goal + 1) % 2 = 1 THEN home_country\n",
    "                ELSE away_country\n",
    "            END\n",
    "    END"
   ]
  },
  {
   "cell_type": "code",
   "execution_count": 0,
   "metadata": {
    "application/vnd.databricks.v1+cell": {
     "cellMetadata": {
      "byteLimit": 2048000,
      "rowLimit": 10000
     },
     "inputWidgets": {},
     "nuid": "acf5c00b-998e-4f10-b053-53f89cf8fbdf",
     "showTitle": false,
     "title": ""
    }
   },
   "outputs": [
    {
     "output_type": "display_data",
     "data": {
      "text/html": [
       "<style scoped>\n",
       "  .table-result-container {\n",
       "    max-height: 300px;\n",
       "    overflow: auto;\n",
       "  }\n",
       "  table, th, td {\n",
       "    border: 1px solid black;\n",
       "    border-collapse: collapse;\n",
       "  }\n",
       "  th, td {\n",
       "    padding: 5px;\n",
       "  }\n",
       "  th {\n",
       "    text-align: left;\n",
       "  }\n",
       "</style><div class='table-result-container'><table class='table-result'><thead style='background-color: white'><tr><th>MatchId</th><th>TeamGroup</th><th>home_country</th><th>away_country</th><th>home_country_goal</th><th>away_country_goal</th><th>winner_country</th></tr></thead><tbody><tr><td>1</td><td>A</td><td>France</td><td>Portugal</td><td>4</td><td>4</td><td>France</td></tr><tr><td>2</td><td>A</td><td>France</td><td>Belgium</td><td>1</td><td>1</td><td>Belgium</td></tr><tr><td>3</td><td>A</td><td>France</td><td>Italy</td><td>5</td><td>4</td><td>France</td></tr><tr><td>4</td><td>A</td><td>Italy</td><td>Portugal</td><td>6</td><td>5</td><td>Italy</td></tr><tr><td>5</td><td>A</td><td>Italy</td><td>Belgium</td><td>2</td><td>3</td><td>Belgium</td></tr><tr><td>6</td><td>A</td><td>Belgium</td><td>Portugal</td><td>1</td><td>5</td><td>Portugal</td></tr><tr><td>7</td><td>B</td><td>Spain</td><td>England</td><td>6</td><td>5</td><td>Spain</td></tr><tr><td>8</td><td>B</td><td>Spain</td><td>Germany</td><td>3</td><td>5</td><td>Germany</td></tr><tr><td>9</td><td>B</td><td>Spain</td><td>Netherlands</td><td>1</td><td>3</td><td>Netherlands</td></tr><tr><td>10</td><td>B</td><td>Netherlands</td><td>England</td><td>3</td><td>5</td><td>England</td></tr><tr><td>11</td><td>B</td><td>Netherlands</td><td>Germany</td><td>3</td><td>1</td><td>Netherlands</td></tr><tr><td>12</td><td>B</td><td>Germany</td><td>England</td><td>2</td><td>3</td><td>England</td></tr><tr><td>13</td><td>C</td><td>Turkey</td><td>Denmark</td><td>6</td><td>6</td><td>Turkey</td></tr><tr><td>14</td><td>C</td><td>Turkey</td><td>Switzerland</td><td>6</td><td>2</td><td>Turkey</td></tr><tr><td>15</td><td>C</td><td>Turkey</td><td>Austria</td><td>2</td><td>3</td><td>Austria</td></tr><tr><td>16</td><td>C</td><td>Austria</td><td>Denmark</td><td>4</td><td>6</td><td>Denmark</td></tr><tr><td>17</td><td>C</td><td>Austria</td><td>Switzerland</td><td>2</td><td>3</td><td>Switzerland</td></tr><tr><td>18</td><td>C</td><td>Switzerland</td><td>Denmark</td><td>5</td><td>5</td><td>Denmark</td></tr><tr><td>19</td><td>D</td><td>Croatia</td><td>Poland</td><td>1</td><td>1</td><td>Poland</td></tr><tr><td>20</td><td>D</td><td>Croatia</td><td>Sweden</td><td>3</td><td>6</td><td>Sweden</td></tr><tr><td>21</td><td>D</td><td>Croatia</td><td>Ukraine</td><td>1</td><td>4</td><td>Ukraine</td></tr><tr><td>22</td><td>D</td><td>Ukraine</td><td>Poland</td><td>6</td><td>2</td><td>Ukraine</td></tr><tr><td>23</td><td>D</td><td>Ukraine</td><td>Sweden</td><td>5</td><td>6</td><td>Sweden</td></tr><tr><td>24</td><td>D</td><td>Sweden</td><td>Poland</td><td>1</td><td>2</td><td>Poland</td></tr><tr><td>25</td><td>E</td><td>Wales</td><td>Hungary</td><td>6</td><td>3</td><td>Wales</td></tr><tr><td>26</td><td>E</td><td>Wales</td><td>Slovakia</td><td>4</td><td>5</td><td>Slovakia</td></tr><tr><td>27</td><td>E</td><td>Wales</td><td>Czech Republic</td><td>6</td><td>2</td><td>Wales</td></tr><tr><td>28</td><td>E</td><td>Czech Republic</td><td>Hungary</td><td>4</td><td>2</td><td>Czech Republic</td></tr><tr><td>29</td><td>E</td><td>Czech Republic</td><td>Slovakia</td><td>1</td><td>6</td><td>Slovakia</td></tr><tr><td>30</td><td>E</td><td>Slovakia</td><td>Hungary</td><td>3</td><td>5</td><td>Hungary</td></tr><tr><td>31</td><td>F</td><td>Finland</td><td>Russia</td><td>4</td><td>4</td><td>Finland</td></tr><tr><td>32</td><td>F</td><td>Finland</td><td>Scotland</td><td>3</td><td>2</td><td>Finland</td></tr><tr><td>33</td><td>F</td><td>Finland</td><td>North Macedonia</td><td>1</td><td>6</td><td>North Macedonia</td></tr><tr><td>34</td><td>F</td><td>North Macedonia</td><td>Russia</td><td>2</td><td>3</td><td>Russia</td></tr><tr><td>35</td><td>F</td><td>North Macedonia</td><td>Scotland</td><td>5</td><td>5</td><td>Scotland</td></tr><tr><td>36</td><td>F</td><td>Scotland</td><td>Russia</td><td>4</td><td>4</td><td>Scotland</td></tr><tr><td>37</td><td>N</td><td>France</td><td>Switzerland</td><td>5</td><td>0</td><td>France</td></tr><tr><td>38</td><td>N</td><td>Belgium</td><td>Germany</td><td>5</td><td>2</td><td>Belgium</td></tr><tr><td>39</td><td>N</td><td>Spain</td><td>Italy</td><td>1</td><td>4</td><td>Italy</td></tr><tr><td>40</td><td>N</td><td>Austria</td><td>Ukraine</td><td>5</td><td>2</td><td>Austria</td></tr><tr><td>41</td><td>N</td><td>Finland</td><td>Turkey</td><td>4</td><td>2</td><td>Finland</td></tr><tr><td>42</td><td>N</td><td>Poland</td><td>Slovakia</td><td>4</td><td>5</td><td>Slovakia</td></tr><tr><td>43</td><td>N</td><td>Hungary</td><td>Netherlands</td><td>3</td><td>0</td><td>Hungary</td></tr><tr><td>44</td><td>N</td><td>Poland</td><td>North Macedonia</td><td>3</td><td>5</td><td>North Macedonia</td></tr><tr><td>45</td><td>N</td><td>France</td><td>Belgium</td><td>4</td><td>4</td><td>France</td></tr><tr><td>46</td><td>N</td><td>Italy</td><td>Austria</td><td>1</td><td>4</td><td>Austria</td></tr><tr><td>47</td><td>N</td><td>Finland</td><td>Slovakia</td><td>5</td><td>5</td><td>Slovakia</td></tr><tr><td>48</td><td>N</td><td>Hungary</td><td>North Macedonia</td><td>5</td><td>5</td><td>North Macedonia</td></tr><tr><td>49</td><td>N</td><td>France</td><td>Austria</td><td>5</td><td>1</td><td>France</td></tr><tr><td>50</td><td>N</td><td>Slovakia</td><td>North Macedonia</td><td>4</td><td>5</td><td>North Macedonia</td></tr><tr><td>51</td><td>N</td><td>Austria</td><td>Slovakia</td><td>3</td><td>0</td><td>Austria</td></tr><tr><td>52</td><td>N</td><td>France</td><td>North Macedonia</td><td>3</td><td>3</td><td>North Macedonia</td></tr></tbody></table></div>"
      ]
     },
     "metadata": {
      "application/vnd.databricks.v1+output": {
       "addedWidgets": {},
       "aggData": [],
       "aggError": "",
       "aggOverflow": false,
       "aggSchema": [],
       "aggSeriesLimitReached": false,
       "aggType": "",
       "arguments": {},
       "columnCustomDisplayInfos": {},
       "data": [
        [
         1,
         "A",
         "France",
         "Portugal",
         4,
         4,
         "France"
        ],
        [
         2,
         "A",
         "France",
         "Belgium",
         1,
         1,
         "Belgium"
        ],
        [
         3,
         "A",
         "France",
         "Italy",
         5,
         4,
         "France"
        ],
        [
         4,
         "A",
         "Italy",
         "Portugal",
         6,
         5,
         "Italy"
        ],
        [
         5,
         "A",
         "Italy",
         "Belgium",
         2,
         3,
         "Belgium"
        ],
        [
         6,
         "A",
         "Belgium",
         "Portugal",
         1,
         5,
         "Portugal"
        ],
        [
         7,
         "B",
         "Spain",
         "England",
         6,
         5,
         "Spain"
        ],
        [
         8,
         "B",
         "Spain",
         "Germany",
         3,
         5,
         "Germany"
        ],
        [
         9,
         "B",
         "Spain",
         "Netherlands",
         1,
         3,
         "Netherlands"
        ],
        [
         10,
         "B",
         "Netherlands",
         "England",
         3,
         5,
         "England"
        ],
        [
         11,
         "B",
         "Netherlands",
         "Germany",
         3,
         1,
         "Netherlands"
        ],
        [
         12,
         "B",
         "Germany",
         "England",
         2,
         3,
         "England"
        ],
        [
         13,
         "C",
         "Turkey",
         "Denmark",
         6,
         6,
         "Turkey"
        ],
        [
         14,
         "C",
         "Turkey",
         "Switzerland",
         6,
         2,
         "Turkey"
        ],
        [
         15,
         "C",
         "Turkey",
         "Austria",
         2,
         3,
         "Austria"
        ],
        [
         16,
         "C",
         "Austria",
         "Denmark",
         4,
         6,
         "Denmark"
        ],
        [
         17,
         "C",
         "Austria",
         "Switzerland",
         2,
         3,
         "Switzerland"
        ],
        [
         18,
         "C",
         "Switzerland",
         "Denmark",
         5,
         5,
         "Denmark"
        ],
        [
         19,
         "D",
         "Croatia",
         "Poland",
         1,
         1,
         "Poland"
        ],
        [
         20,
         "D",
         "Croatia",
         "Sweden",
         3,
         6,
         "Sweden"
        ],
        [
         21,
         "D",
         "Croatia",
         "Ukraine",
         1,
         4,
         "Ukraine"
        ],
        [
         22,
         "D",
         "Ukraine",
         "Poland",
         6,
         2,
         "Ukraine"
        ],
        [
         23,
         "D",
         "Ukraine",
         "Sweden",
         5,
         6,
         "Sweden"
        ],
        [
         24,
         "D",
         "Sweden",
         "Poland",
         1,
         2,
         "Poland"
        ],
        [
         25,
         "E",
         "Wales",
         "Hungary",
         6,
         3,
         "Wales"
        ],
        [
         26,
         "E",
         "Wales",
         "Slovakia",
         4,
         5,
         "Slovakia"
        ],
        [
         27,
         "E",
         "Wales",
         "Czech Republic",
         6,
         2,
         "Wales"
        ],
        [
         28,
         "E",
         "Czech Republic",
         "Hungary",
         4,
         2,
         "Czech Republic"
        ],
        [
         29,
         "E",
         "Czech Republic",
         "Slovakia",
         1,
         6,
         "Slovakia"
        ],
        [
         30,
         "E",
         "Slovakia",
         "Hungary",
         3,
         5,
         "Hungary"
        ],
        [
         31,
         "F",
         "Finland",
         "Russia",
         4,
         4,
         "Finland"
        ],
        [
         32,
         "F",
         "Finland",
         "Scotland",
         3,
         2,
         "Finland"
        ],
        [
         33,
         "F",
         "Finland",
         "North Macedonia",
         1,
         6,
         "North Macedonia"
        ],
        [
         34,
         "F",
         "North Macedonia",
         "Russia",
         2,
         3,
         "Russia"
        ],
        [
         35,
         "F",
         "North Macedonia",
         "Scotland",
         5,
         5,
         "Scotland"
        ],
        [
         36,
         "F",
         "Scotland",
         "Russia",
         4,
         4,
         "Scotland"
        ],
        [
         37,
         "N",
         "France",
         "Switzerland",
         5,
         0,
         "France"
        ],
        [
         38,
         "N",
         "Belgium",
         "Germany",
         5,
         2,
         "Belgium"
        ],
        [
         39,
         "N",
         "Spain",
         "Italy",
         1,
         4,
         "Italy"
        ],
        [
         40,
         "N",
         "Austria",
         "Ukraine",
         5,
         2,
         "Austria"
        ],
        [
         41,
         "N",
         "Finland",
         "Turkey",
         4,
         2,
         "Finland"
        ],
        [
         42,
         "N",
         "Poland",
         "Slovakia",
         4,
         5,
         "Slovakia"
        ],
        [
         43,
         "N",
         "Hungary",
         "Netherlands",
         3,
         0,
         "Hungary"
        ],
        [
         44,
         "N",
         "Poland",
         "North Macedonia",
         3,
         5,
         "North Macedonia"
        ],
        [
         45,
         "N",
         "France",
         "Belgium",
         4,
         4,
         "France"
        ],
        [
         46,
         "N",
         "Italy",
         "Austria",
         1,
         4,
         "Austria"
        ],
        [
         47,
         "N",
         "Finland",
         "Slovakia",
         5,
         5,
         "Slovakia"
        ],
        [
         48,
         "N",
         "Hungary",
         "North Macedonia",
         5,
         5,
         "North Macedonia"
        ],
        [
         49,
         "N",
         "France",
         "Austria",
         5,
         1,
         "France"
        ],
        [
         50,
         "N",
         "Slovakia",
         "North Macedonia",
         4,
         5,
         "North Macedonia"
        ],
        [
         51,
         "N",
         "Austria",
         "Slovakia",
         3,
         0,
         "Austria"
        ],
        [
         52,
         "N",
         "France",
         "North Macedonia",
         3,
         3,
         "North Macedonia"
        ]
       ],
       "datasetInfos": [],
       "dbfsResultPath": null,
       "isJsonSchema": true,
       "metadata": {
        "isDbfsCommandResult": false
       },
       "overflow": false,
       "plotOptions": {
        "customPlotOptions": {},
        "displayType": "table",
        "pivotAggregation": null,
        "pivotColumns": null,
        "xColumns": null,
        "yColumns": null
       },
       "removedWidgets": [],
       "schema": [
        {
         "metadata": "{}",
         "name": "MatchId",
         "type": "\"integer\""
        },
        {
         "metadata": "{\"__CHAR_VARCHAR_TYPE_STRING\":\"varchar(20)\"}",
         "name": "TeamGroup",
         "type": "\"string\""
        },
        {
         "metadata": "{\"__CHAR_VARCHAR_TYPE_STRING\":\"varchar(20)\"}",
         "name": "home_country",
         "type": "\"string\""
        },
        {
         "metadata": "{\"__CHAR_VARCHAR_TYPE_STRING\":\"varchar(20)\"}",
         "name": "away_country",
         "type": "\"string\""
        },
        {
         "metadata": "{}",
         "name": "home_country_goal",
         "type": "\"integer\""
        },
        {
         "metadata": "{}",
         "name": "away_country_goal",
         "type": "\"integer\""
        },
        {
         "metadata": "{\"__CHAR_VARCHAR_TYPE_STRING\":\"varchar(20)\"}",
         "name": "winner_country",
         "type": "\"string\""
        }
       ],
       "type": "table"
      }
     },
     "output_type": "display_data"
    }
   ],
   "source": [
    "%sql\n",
    "select * from matches order by MatchId;"
   ]
  }
 ],
 "metadata": {
  "application/vnd.databricks.v1+notebook": {
   "dashboards": [],
   "language": "python",
   "notebookMetadata": {
    "pythonIndentUnit": 4
   },
   "notebookName": "Eurocup",
   "widgets": {}
  }
 },
 "nbformat": 4,
 "nbformat_minor": 0
}
