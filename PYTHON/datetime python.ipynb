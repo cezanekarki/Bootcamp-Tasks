{
 "cells": [
  {
   "cell_type": "markdown",
   "metadata": {
    "application/vnd.databricks.v1+cell": {
     "cellMetadata": {},
     "inputWidgets": {},
     "nuid": "91e66f67-fd6d-4cd7-abe3-4640f02b7de0",
     "showTitle": false,
     "title": ""
    }
   },
   "source": [
    "Write a python function to calculate someone's age using date of birth.\n",
    " \n",
    "Write another function to calculate remaining days left for the person's birthday.\n",
    " \n",
    "Write another function to calculate the number of months and weeks passed after the person was born."
   ]
  },
  {
   "cell_type": "code",
   "execution_count": 0,
   "metadata": {
    "application/vnd.databricks.v1+cell": {
     "cellMetadata": {
      "byteLimit": 2048000,
      "rowLimit": 10000
     },
     "inputWidgets": {},
     "nuid": "5b82803c-01ee-4594-9466-62a0517eb16b",
     "showTitle": false,
     "title": ""
    }
   },
   "outputs": [],
   "source": [
    "from datetime import datetime, timedelta\n",
    "\n",
    "def calculate_age(date_of_birth):\n",
    "    current_date = datetime.now()\n",
    "    birth_date = datetime.strptime(date_of_birth, '%Y-%m-%d')\n",
    "    age = current_date.year - birth_date.year - ((current_date.month, current_date.day) < (birth_date.month, birth_date.day))\n",
    "    return age\n",
    "\n",
    "def days_until_birthday(date_of_birth):\n",
    "    current_date = datetime.now()\n",
    "    birth_date = datetime.strptime(date_of_birth, '%Y-%m-%d').replace(year=current_date.year)\n",
    "    \n",
    "    if current_date > birth_date:\n",
    "        birth_date = birth_date.replace(year=current_date.year + 1)\n",
    "\n",
    "    days_left = (birth_date - current_date).days\n",
    "    return days_left\n",
    "\n",
    "def months_and_weeks_passed(date_of_birth):\n",
    "    current_date = datetime.now()\n",
    "    birth_date = datetime.strptime(date_of_birth, '%Y-%m-%d')\n",
    "    time_passed = current_date - birth_date\n",
    "\n",
    "    months_passed = time_passed.days // 30\n",
    "    weeks_passed = time_passed.days // 7\n",
    "\n",
    "    return months_passed, weeks_passed\n",
    "\n",
    "# Example usage:\n",
    "dob = '1990-05-15'\n",
    "print(f\"Age: {calculate_age(dob)}\")\n",
    "print(f\"Days until birthday: {days_until_birthday(dob)}\")\n",
    "months, weeks = months_and_weeks_passed(dob)\n",
    "print(f\"Months passed: {months}, Weeks passed: {weeks}\")\n"
   ]
  },
  {
   "cell_type": "code",
   "execution_count": 0,
   "metadata": {
    "application/vnd.databricks.v1+cell": {
     "cellMetadata": {
      "byteLimit": 2048000,
      "rowLimit": 10000
     },
     "inputWidgets": {},
     "nuid": "d137c4a7-41e2-4c83-997b-f4e2864ae1c7",
     "showTitle": false,
     "title": ""
    }
   },
   "outputs": [
    {
     "output_type": "stream",
     "name": "stdout",
     "output_type": "stream",
     "text": [
      "1000\n"
     ]
    }
   ],
   "source": []
  },
  {
   "cell_type": "code",
   "execution_count": 0,
   "metadata": {
    "application/vnd.databricks.v1+cell": {
     "cellMetadata": {},
     "inputWidgets": {},
     "nuid": "850fbbce-9805-4760-9e39-6adb1bb3b31e",
     "showTitle": false,
     "title": ""
    }
   },
   "outputs": [],
   "source": []
  },
  {
   "cell_type": "markdown",
   "metadata": {
    "application/vnd.databricks.v1+cell": {
     "cellMetadata": {},
     "inputWidgets": {},
     "nuid": "ab81d937-3854-4acf-8479-686334a04a1e",
     "showTitle": false,
     "title": ""
    }
   },
   "source": [
    "JSON"
   ]
  },
  {
   "cell_type": "markdown",
   "metadata": {
    "application/vnd.databricks.v1+cell": {
     "cellMetadata": {},
     "inputWidgets": {},
     "nuid": "f4ee2860-f243-470e-8932-874ec0387a8a",
     "showTitle": false,
     "title": ""
    }
   },
   "source": [
    "{\"name\": \"John Doe\", \"dob\": \"1990-01-01 00:00:00\", \"city\": \"Anytown\", \"email\": \"john.doe@example.com\", \"is_student\": false}"
   ]
  },
  {
   "cell_type": "code",
   "execution_count": 0,
   "metadata": {
    "application/vnd.databricks.v1+cell": {
     "cellMetadata": {
      "byteLimit": 2048000,
      "rowLimit": 10000
     },
     "inputWidgets": {},
     "nuid": "2adcf780-39c6-4e8c-af24-36fb37494dfb",
     "showTitle": false,
     "title": ""
    }
   },
   "outputs": [],
   "source": [
    "import json\n",
    "import os\n",
    "from datetime import datetime\n",
    " "
   ]
  },
  {
   "cell_type": "code",
   "execution_count": 0,
   "metadata": {
    "application/vnd.databricks.v1+cell": {
     "cellMetadata": {
      "byteLimit": 2048000,
      "rowLimit": 10000
     },
     "inputWidgets": {},
     "nuid": "be265ee7-3418-4940-812b-e3d6385db8af",
     "showTitle": false,
     "title": ""
    }
   },
   "outputs": [
    {
     "output_type": "stream",
     "name": "stdout",
     "output_type": "stream",
     "text": [
      "{\"name\": \"John Doe\", \"dob\": \"1990-01-01 00:00:00\", \"city\": \"Anytown\", \"email\": \"john.doe@example.com\", \"is_student\": false}\n"
     ]
    }
   ],
   "source": [
    "string = '{\"name\": \"John Doe\", \"dob\": \"1990-01-01 00:00:00\", \"city\": \"Anytown\", \"email\": \"john.doe@example.com\", \"is_student\": false}'\n",
    "s=json.loads(string)\n",
    "with open(\"record.json\",\"w+\") as f:\n",
    "    f.write(string)\n",
    "    f.seek(0)\n",
    "    print(f.read())\n",
    "    \n",
    "  "
   ]
  },
  {
   "cell_type": "code",
   "execution_count": 0,
   "metadata": {
    "application/vnd.databricks.v1+cell": {
     "cellMetadata": {
      "byteLimit": 2048000,
      "rowLimit": 10000
     },
     "inputWidgets": {},
     "nuid": "efb55728-25ca-4251-819f-cb72821d881a",
     "showTitle": false,
     "title": ""
    }
   },
   "outputs": [
    {
     "output_type": "stream",
     "name": "stdout",
     "output_type": "stream",
     "text": [
      "{'name': 'John Doe', 'dob': '1990-01-01 00:00:00', 'city': 'Anytown', 'email': 'john.doe@example.com', 'is_student': False}\n{'name': 'John Doe', 'dob': datetime.datetime(1990, 1, 1, 0, 0), 'city': 'Anytown', 'email': 'john.doe@example.com', 'is_student': False}\n"
     ]
    }
   ],
   "source": [
    "with open (\"record.json\",\"r\") as f:\n",
    "    json_data = json.load(f)\n",
    "    print(json_data)\n",
    "    json_data[\"dob\"] = datetime.strptime(json_data[\"dob\"], \"%Y-%m-%d %H:%M:%S\")\n",
    "    print(json_data)"
   ]
  },
  {
   "cell_type": "code",
   "execution_count": 0,
   "metadata": {
    "application/vnd.databricks.v1+cell": {
     "cellMetadata": {
      "byteLimit": 2048000,
      "rowLimit": 10000
     },
     "inputWidgets": {},
     "nuid": "d693dc2e-6cef-490e-94b3-a74277f843ab",
     "showTitle": false,
     "title": ""
    }
   },
   "outputs": [
    {
     "output_type": "stream",
     "name": "stdout",
     "output_type": "stream",
     "text": [
      "<class 'str'>\n"
     ]
    }
   ],
   "source": [
    "import requests\n",
    "\n",
    "class Session:\n",
    "    def __init__(self):\n",
    "        # Initialize any session-specific settings here\n",
    "        self.session = requests.Session()\n",
    "\n",
    "    def make_post_request(self, url, data):\n",
    "        # Use the session's post method to make a POST request\n",
    "        response = self.session.post(url, data=data)\n",
    "        return response\n",
    "\n",
    "# Assuming you have the following data to send in the POST request\n",
    "data ={\"title\":\"bmw Pencile\"}\n",
    "\n",
    "# Instantiate the Session class\n",
    "my_session = Session()\n",
    "\n",
    "# Specify the URL where you want to make the POST request\n",
    "post_url = \"https://dummyjson.com/products/add\"\n",
    "\n",
    "# Make the POST request using the session\n",
    "response = my_session.make_post_request(post_url, data=data)\n",
    "\n",
    "# Print the response content\n",
    "print(response.text)\n"
   ]
  },
  {
   "cell_type": "code",
   "execution_count": 0,
   "metadata": {
    "application/vnd.databricks.v1+cell": {
     "cellMetadata": {},
     "inputWidgets": {},
     "nuid": "903a4f51-8db0-4fc5-8a29-17cc6a91c2c2",
     "showTitle": false,
     "title": ""
    }
   },
   "outputs": [],
   "source": []
  }
 ],
 "metadata": {
  "application/vnd.databricks.v1+notebook": {
   "dashboards": [],
   "language": "python",
   "notebookMetadata": {
    "pythonIndentUnit": 4
   },
   "notebookName": "datetime python",
   "widgets": {}
  }
 },
 "nbformat": 4,
 "nbformat_minor": 0
}
