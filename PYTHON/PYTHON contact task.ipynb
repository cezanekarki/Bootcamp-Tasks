{
 "cells": [
  {
   "cell_type": "markdown",
   "metadata": {
    "application/vnd.databricks.v1+cell": {
     "cellMetadata": {
      "byteLimit": 2048000,
      "rowLimit": 10000
     },
     "inputWidgets": {},
     "nuid": "e1949bcf-c7a0-420c-96f0-5eb32cc2521f",
     "showTitle": false,
     "title": ""
    }
   },
   "source": [
    "Bootcamp Task: \n",
    "Project: Contact Book Application \n",
    "•\tObjective: Create a Python program that allows users to manage their contacts. Users should be able to add, view, search for, and delete contacts. \n",
    " \n",
    "•\tProject Steps: \n",
    "•\tInitialize the Contact Book: \n",
    "\tCreate an empty list to represent the contact book. Each contact will be a dictionary with attributes like name, phone number, and email. \n",
    "•\tCreate Functions: \n",
    "\tDefine functions for the following actions: \n",
    "•\tAdd a contact. \n",
    "•\tView all contacts. \n",
    "•\tSearch for a contact by name. \n",
    "•\tDelete a contact by name. \n",
    "•\tMain Menu: \n",
    "\tImplement a loop that displays a menu of options for the user. \n",
    "\tOptions may include adding a contact, viewing contacts, searching for a contact, deleting a contact, or quitting the program. \n",
    "•\tUser Input: \n",
    "\tDepending on the user's choice from the menu, prompt them for the necessary input (e.g., name, phone number). \n",
    "•\tPerform Actions: \n",
    "\tBased on the user's choice, call the corresponding function to perform the action. \n",
    "•\tDisplay the Updated Contact List: \n",
    "\tAfter each action, display the updated contact list to the user. \n",
    "•\tExit: \n",
    "\tAllow the user to exit the program when they are done managing their contacts. \n",
    "o\tHints: \n",
    "o\t21Use a list to store the contact dictionaries. \n",
    "o\tEach contact can be represented as a dictionary with keys like \"name,\" \"phone,\" and \"email.\" \n",
    "o\tCreate functions for adding, viewing, searching, and deleting contacts. \n",
    "o\tImplement input validation to handle different user inputs. \n",
    "o\tUtilize a lambda function for searching contacts based on name. \n",
    "o\tUse *args and **kwargs in functions to handle variable numbers of arguments for contact attributes. \n",
    " \n",
    " \n",
    " \n",
    " \n",
    " \n",
    "\n"
   ]
  },
  {
   "cell_type": "code",
   "execution_count": 0,
   "metadata": {
    "application/vnd.databricks.v1+cell": {
     "cellMetadata": {
      "byteLimit": 2048000,
      "rowLimit": 10000
     },
     "inputWidgets": {},
     "nuid": "d10a89b2-15ec-4b89-a4cb-08b55c615f23",
     "showTitle": false,
     "title": ""
    }
   },
   "outputs": [
    {
     "output_type": "stream",
     "name": "stdout",
     "output_type": "stream",
     "text": [
      "\nContact Book Application\n1. Add Contact\n2. View Contacts\n3. Search Contact\n4. Delete Contact\n5. Quit\n"
     ]
    },
    {
     "output_type": "display_data",
     "data": {
      "text/plain": [
       "Enter your choice (1-5):  1"
      ]
     },
     "metadata": {},
     "output_type": "display_data"
    },
    {
     "output_type": "display_data",
     "data": {
      "text/plain": [
       "Enter name:  vinay"
      ]
     },
     "metadata": {},
     "output_type": "display_data"
    },
    {
     "output_type": "display_data",
     "data": {
      "text/plain": [
       "Enter phone number:  7557886788"
      ]
     },
     "metadata": {},
     "output_type": "display_data"
    },
    {
     "output_type": "display_data",
     "data": {
      "text/plain": [
       "Enter email:  vsfsfsdfs"
      ]
     },
     "metadata": {},
     "output_type": "display_data"
    },
    {
     "output_type": "stream",
     "name": "stdout",
     "output_type": "stream",
     "text": [
      "Contact for vinay added successfully.\n\nContact Book Application\n1. Add Contact\n2. View Contacts\n3. Search Contact\n4. Delete Contact\n5. Quit\n"
     ]
    },
    {
     "output_type": "display_data",
     "data": {
      "text/plain": [
       "Enter your choice (1-5):  2"
      ]
     },
     "metadata": {},
     "output_type": "display_data"
    },
    {
     "output_type": "stream",
     "name": "stdout",
     "output_type": "stream",
     "text": [
      "\nContacts:\nName: vinay, Phone: 7557886788, Email: vsfsfsdfs\n\n\nContact Book Application\n1. Add Contact\n2. View Contacts\n3. Search Contact\n4. Delete Contact\n5. Quit\n"
     ]
    },
    {
     "output_type": "display_data",
     "data": {
      "text/plain": [
       "Enter your choice (1-5):  3"
      ]
     },
     "metadata": {},
     "output_type": "display_data"
    },
    {
     "output_type": "display_data",
     "data": {
      "text/plain": [
       "Enter name to search:  viany"
      ]
     },
     "metadata": {},
     "output_type": "display_data"
    },
    {
     "output_type": "stream",
     "name": "stdout",
     "output_type": "stream",
     "text": [
      "Contact with name viany not found.\n\nContact Book Application\n1. Add Contact\n2. View Contacts\n3. Search Contact\n4. Delete Contact\n5. Quit\n"
     ]
    },
    {
     "output_type": "display_data",
     "data": {
      "text/plain": [
       "Enter your choice (1-5):  3"
      ]
     },
     "metadata": {},
     "output_type": "display_data"
    },
    {
     "output_type": "display_data",
     "data": {
      "text/plain": [
       "Enter name to search:  vinay"
      ]
     },
     "metadata": {},
     "output_type": "display_data"
    },
    {
     "output_type": "stream",
     "name": "stdout",
     "output_type": "stream",
     "text": [
      "Contact found - Name: vinay, Phone: 7557886788, Email: vsfsfsdfs\n\nContact Book Application\n1. Add Contact\n2. View Contacts\n3. Search Contact\n4. Delete Contact\n5. Quit\n"
     ]
    },
    {
     "output_type": "display_data",
     "data": {
      "text/plain": [
       "Enter your choice (1-5):  "
      ]
     },
     "metadata": {},
     "output_type": "display_data"
    }
   ],
   "source": [
    "class ContactBook:\n",
    "\n",
    "    def __init__(self):\n",
    "        self.contacts = []\n",
    "\n",
    "    def add_contact(self, name, phone, email):\n",
    "        contact = {'name': name, 'phone': phone, 'email': email}\n",
    "        self.contacts.append(contact)\n",
    "        print(f\"Contact for {name} added successfully.\")\n",
    "\n",
    "    def view_contacts(self):\n",
    "        print(\"\\nContacts:\")\n",
    "        for contact in self.contacts:\n",
    "            print(f\"Name: {contact['name']}, Phone: {contact['phone']}, Email: {contact['email']}\")\n",
    "        print()\n",
    "\n",
    "    def search_contact(self, search_name):\n",
    "        matches = filter(lambda contact: contact['name'].lower() == search_name.lower(), self.contacts)\n",
    "        return next(matches, None)\n",
    "\n",
    "    def delete_contact(self, search_name):\n",
    "        contact = self.search_contact(search_name)\n",
    "        if contact:\n",
    "            self.contacts.remove(contact)\n",
    "            print(f\"Contact for {search_name} deleted successfully.\")\n",
    "        else:\n",
    "            print(f\"Contact with name {search_name} not found.\")\n",
    "\n",
    "    def main_menu(self):\n",
    "        while True:\n",
    "            print(\"\\nContact Book Application\")\n",
    "            print(\"1. Add Contact\")\n",
    "            print(\"2. View Contacts\")\n",
    "            print(\"3. Search Contact\")\n",
    "            print(\"4. Delete Contact\")\n",
    "            print(\"5. Quit\")\n",
    "\n",
    "            choice = input(\"Enter your choice (1-5): \")\n",
    "\n",
    "            if choice == '1':\n",
    "                name = input(\"Enter name: \")\n",
    "                phone = input(\"Enter phone number: \")\n",
    "                email = input(\"Enter email: \")\n",
    "                self.add_contact(name, phone, email)\n",
    "            elif choice == '2':\n",
    "                self.view_contacts()\n",
    "            elif choice == '3':\n",
    "                search_name = input(\"Enter name to search: \")\n",
    "                result = self.search_contact(search_name)\n",
    "                if result:\n",
    "                    print(f\"Contact found - Name: {result['name']}, Phone: {result['phone']}, Email: {result['email']}\")\n",
    "                else:\n",
    "                    print(f\"Contact with name {search_name} not found.\")\n",
    "            elif choice == '4':\n",
    "                search_name = input(\"Enter name to delete: \")\n",
    "                self.delete_contact(search_name)\n",
    "            elif choice == '5':\n",
    "                self.view_contacts()\n",
    "                print(\"Exiting Contact Book Application. Goodbye!\")\n",
    "                break\n",
    "            else:\n",
    "                print(\"Invalid choice. Please enter a number between 1 and 5.\")\n",
    "\n",
    "if __name__ == \"__main__\":\n",
    "    contact_book = ContactBook()\n",
    "    contact_book.main_menu()\n"
   ]
  },
  {
   "cell_type": "code",
   "execution_count": 0,
   "metadata": {
    "application/vnd.databricks.v1+cell": {
     "cellMetadata": {
      "byteLimit": 2048000,
      "rowLimit": 10000
     },
     "inputWidgets": {},
     "nuid": "7870cf46-e289-45cd-bde6-95f0a4004382",
     "showTitle": false,
     "title": ""
    }
   },
   "outputs": [],
   "source": []
  }
 ],
 "metadata": {
  "application/vnd.databricks.v1+notebook": {
   "dashboards": [],
   "language": "python",
   "notebookMetadata": {
    "pythonIndentUnit": 4
   },
   "notebookName": "PYTHON contact task",
   "widgets": {}
  }
 },
 "nbformat": 4,
 "nbformat_minor": 0
}
