{
 "cells": [
  {
   "cell_type": "markdown",
   "metadata": {
    "application/vnd.databricks.v1+cell": {
     "cellMetadata": {},
     "inputWidgets": {},
     "nuid": "0263ae52-ba4f-4e67-92bd-87f5d005f1bb",
     "showTitle": false,
     "title": ""
    }
   },
   "source": [
    "#Bootcamp python Task 1"
   ]
  },
  {
   "cell_type": "code",
   "execution_count": 0,
   "metadata": {
    "application/vnd.databricks.v1+cell": {
     "cellMetadata": {
      "byteLimit": 2048000,
      "rowLimit": 10000
     },
     "inputWidgets": {},
     "nuid": "6b628287-2cab-4bd2-8477-760495180e70",
     "showTitle": false,
     "title": ""
    }
   },
   "outputs": [
    {
     "output_type": "display_data",
     "data": {
      "text/plain": [
       "enter the string vinay "
      ]
     },
     "metadata": {},
     "output_type": "display_data"
    },
    {
     "output_type": "stream",
     "name": "stdout",
     "output_type": "stream",
     "text": [
      "Number of words present in this string are: 2\nNumber of unique words present in this string are: 2\n{'': 1, 'vinay': 1}\nLongest word in the string: vinay\n yaniv\nalphabetical: ['', 'vinay']\n"
     ]
    }
   ],
   "source": [
    "def NO_words(s):\n",
    "    words_list = s.split(\" \")\n",
    "    print(\"Number of words present in this string are:\", len(words_list))\n",
    "    print(\"Number of unique words present in this string are:\", len(set(words_list)))\n",
    "\n",
    "def frequencyOfWords(s):\n",
    "    words_list = s.split(\" \")\n",
    "    print({word: words_list.count(word) for word in set(words_list)})\n",
    "\n",
    "def longestWord(s):\n",
    "    words_list = s.split(\" \")\n",
    "    \"\"\"d={}\n",
    "    for i in set(words_list):\n",
    "        d[i]=len(i) \n",
    "    print(d)\n",
    "    max =0  \n",
    "    for key,value in d.items():\n",
    "        if value > max:\n",
    "            longest_word = key\n",
    "            max = value\n",
    "    print(\"Longest word in the string:\",longest_word ,max )\"\"\"\n",
    "    #------------------------------\n",
    "    longest_word = max(words_list,key=len)\n",
    "    print(\"Longest word in the string:\",longest_word)\n",
    "\n",
    "def sortString(s):\n",
    "    words_list = s.split(\" \")\n",
    "    sorted_list = sorted(words_list)\n",
    "    # reversed_sorted_list = sorted(words_list,reverse=True)\n",
    "    print(s[::-1])\n",
    "    print(\"alphabetical:\",sorted_list)\n",
    "    #print(\"reverse_alphabetical:\",reversed_sorted_list)\n",
    "\n",
    "\n",
    "a= input(\"enter the string\")\n",
    "NO_words(a)\n",
    "frequencyOfWords(a)\n",
    "longestWord(a)\n",
    "sortString(a)\n"
   ]
  },
  {
   "cell_type": "markdown",
   "metadata": {
    "application/vnd.databricks.v1+cell": {
     "cellMetadata": {
      "byteLimit": 2048000,
      "rowLimit": 10000
     },
     "inputWidgets": {},
     "nuid": "f6575385-5143-4b48-9769-167a1c60f963",
     "showTitle": false,
     "title": ""
    }
   },
   "source": [
    "#BootCamp Task Day 2\n",
    "\n",
    "1.\tConvert \"name:John,age:34,city:New York\" string to dictionary using python.\n"
   ]
  },
  {
   "cell_type": "code",
   "execution_count": 0,
   "metadata": {
    "application/vnd.databricks.v1+cell": {
     "cellMetadata": {
      "byteLimit": 2048000,
      "rowLimit": 10000
     },
     "inputWidgets": {},
     "nuid": "e8d51d9d-7c60-4bc2-b597-57cd8d5e70a0",
     "showTitle": false,
     "title": ""
    }
   },
   "outputs": [
    {
     "output_type": "stream",
     "name": "stdout",
     "output_type": "stream",
     "text": [
      "{'name': 'John', 'age': '34', 'city': 'New York'}\n"
     ]
    }
   ],
   "source": [
    "\n",
    "a = \"name:John,age:34,city:New York\"\n",
    "pairs = a.split(\",\")\n",
    "my_dict={}\n",
    "for pair in pairs:\n",
    "    key,value = pair.split(\":\")\n",
    "    my_dict[key]=value\n",
    "print(my_dict)"
   ]
  },
  {
   "cell_type": "markdown",
   "metadata": {
    "application/vnd.databricks.v1+cell": {
     "cellMetadata": {
      "byteLimit": 2048000,
      "rowLimit": 10000
     },
     "inputWidgets": {},
     "nuid": "0cd65820-e043-4e8f-9376-9c579a9ecc53",
     "showTitle": false,
     "title": ""
    }
   },
   "source": [
    "2.\tYou have a string that represents information about various books. Each book's information is separated by a pipe (|), and within each book's data, different attributes like title, author, and year are separated by a comma. Your task is to convert this string into a dictionary where each book's title is the key, and the value is another dictionary containing the author and year of publication.\n",
    "\n",
    "String : \"The Great Gatsby, F. Scott Fitzgerald, 1925 | To Kill a Mockingbird, Harper Lee, 1960 | 1984, George Orwell, 1949\"\n",
    "\n",
    "Convert this string into a nested dictionary with book titles as keys and another dictionary with 'author' and 'year' as keys and their respective values.\n",
    "Expected Output:\n",
    "\n",
    "{\n",
    "    \t'The Great Gatsby': {'author': 'F. Scott Fitzgerald', 'year': '1925'},\n",
    "  \t 'To Kill a Mockingbird': {'author': 'Harper Lee', 'year': '1960'},\n",
    "   \t '1984': {'author': 'George Orwell', 'year': '1949'}\n",
    "}\n"
   ]
  },
  {
   "cell_type": "code",
   "execution_count": 0,
   "metadata": {
    "application/vnd.databricks.v1+cell": {
     "cellMetadata": {
      "byteLimit": 2048000,
      "rowLimit": 10000
     },
     "inputWidgets": {},
     "nuid": "fb4d5866-4981-43a5-a0f0-cb358a843d7d",
     "showTitle": false,
     "title": ""
    }
   },
   "outputs": [
    {
     "output_type": "stream",
     "name": "stdout",
     "output_type": "stream",
     "text": [
      "{'The Great Gatsby': {'author': ' F. Scott Fitzgerald', 'year': ' 1925 '}, ' To Kill a Mockingbird': {'author': ' Harper Lee', 'year': ' 1960 '}, ' 1984': {'author': ' George Orwell', 'year': ' 1949'}}\n"
     ]
    }
   ],
   "source": [
    "b= \"The Great Gatsby, F. Scott Fitzgerald, 1925 | To Kill a Mockingbird, Harper Lee, 1960 | 1984, George Orwell, 1949\"\n",
    "my_dict = {}\n",
    "for i in b.split(\"|\"):\n",
    "    title,author,year= i.split(\",\")\n",
    "    my_dict[title] = {'author':author,'year':year}\n",
    "print(my_dict)\n",
    "\n",
    "    "
   ]
  },
  {
   "cell_type": "markdown",
   "metadata": {
    "application/vnd.databricks.v1+cell": {
     "cellMetadata": {},
     "inputWidgets": {},
     "nuid": "d8f5ee47-d22f-4889-8259-6a3bc2e1a5ff",
     "showTitle": false,
     "title": ""
    }
   },
   "source": [
    "\"\"\"3.\tMerge two different lists into dictionaries:\n",
    " names = [\"Alice\", \"Bob\", \"Charlie\"]\n",
    " grades = [\"A\", \"B\", \"C\"] \"\"\""
   ]
  },
  {
   "cell_type": "code",
   "execution_count": 0,
   "metadata": {
    "application/vnd.databricks.v1+cell": {
     "cellMetadata": {
      "byteLimit": 2048000,
      "rowLimit": 10000
     },
     "inputWidgets": {},
     "nuid": "ff2d351d-97bb-4a07-a5fd-3493a8a1b4b8",
     "showTitle": false,
     "title": ""
    }
   },
   "outputs": [
    {
     "output_type": "stream",
     "name": "stdout",
     "output_type": "stream",
     "text": [
      "{'Alice': 'A', 'Bob': 'B', 'Charlie': 'C'}\n"
     ]
    }
   ],
   "source": [
    "\n",
    "\n",
    "names = [\"Alice\", \"Bob\", \"Charlie\"]\n",
    "grades = [\"A\", \"B\", \"C\"] \n",
    "\n",
    "my_dict= dict(zip(names,grades))\n",
    "print(my_dict)\n",
    "\n",
    "\n"
   ]
  },
  {
   "cell_type": "markdown",
   "metadata": {
    "application/vnd.databricks.v1+cell": {
     "cellMetadata": {},
     "inputWidgets": {},
     "nuid": "811144a9-0d4f-4d4f-ac03-c89d959effba",
     "showTitle": false,
     "title": ""
    }
   },
   "source": [
    "\"\"\" 4.\tYou have a dictionary of stock quantities for various items and a list of items that have been sold. Update the dictionary by reducing the stock quantity for each sold item.\n",
    "\n",
    "stock = {\"apples\": 10, \"oranges\": 8, \"bananas\": 6}\n",
    "sold_items = [\"apples\", \"oranges\", \"apples\", \"bananas\"] \"\"\""
   ]
  },
  {
   "cell_type": "code",
   "execution_count": 0,
   "metadata": {
    "application/vnd.databricks.v1+cell": {
     "cellMetadata": {
      "byteLimit": 2048000,
      "rowLimit": 10000
     },
     "inputWidgets": {},
     "nuid": "dbea5589-8f16-4f73-af8d-1f9d34ab7e2e",
     "showTitle": false,
     "title": ""
    }
   },
   "outputs": [
    {
     "output_type": "stream",
     "name": "stdout",
     "output_type": "stream",
     "text": [
      "{'apples': 8, 'oranges': 7, 'bananas': 5}\n"
     ]
    }
   ],
   "source": [
    "\n",
    "\n",
    "# Initial stock dictionary\n",
    "stock = {\"apples\": 10, \"oranges\": 8, \"bananas\": 6}\n",
    "sold_items = [\"apples\", \"oranges\", \"apples\", \"bananas\"]\n",
    "\n",
    "for item in sold_items:\n",
    "    if item in stock:\n",
    "        stock[item] -= 1\n",
    "    else:\n",
    "        print(f\"Warning: Item '{item}' not found in stock.\")\n",
    "\n",
    "print(stock)\n",
    "\n"
   ]
  },
  {
   "cell_type": "markdown",
   "metadata": {
    "application/vnd.databricks.v1+cell": {
     "cellMetadata": {},
     "inputWidgets": {},
     "nuid": "51791d18-e6c0-468d-b8fb-fa33f03ed86d",
     "showTitle": false,
     "title": ""
    }
   },
   "source": [
    "\"\"\" 5.\tYou have three lists, containing names, ages, and occupations of a group of people. Combine these lists into a list of dictionaries, each dictionary containing 'name', 'age', and 'occupation' as keys.\n",
    "List:\n",
    "names = [\"Alice\", \"Bob\", \"Charlie\"]\n",
    "ages = [25, 30, 35]\n",
    "occupations = [\"Engineer\", \"Doctor\", \"Artist\"]  \"\"\"\n"
   ]
  },
  {
   "cell_type": "code",
   "execution_count": 0,
   "metadata": {
    "application/vnd.databricks.v1+cell": {
     "cellMetadata": {
      "byteLimit": 2048000,
      "rowLimit": 10000
     },
     "inputWidgets": {},
     "nuid": "7a84107f-7904-46e1-b08e-c2d40a5bca87",
     "showTitle": false,
     "title": ""
    }
   },
   "outputs": [
    {
     "output_type": "stream",
     "name": "stdout",
     "output_type": "stream",
     "text": [
      "[{'names': 'Alice', 'ages': 25, 'occupations': 'Engineer'}, {'names': 'Bob', 'ages': 30, 'occupations': 'Doctor'}, {'names': 'Charlie', 'ages': 35, 'occupations': 'Artist'}]\n[{'name': 'Alice', 'age': 25, 'occupation': 'Engineer'}, {'name': 'Bob', 'age': 30, 'occupation': 'Doctor'}, {'name': 'Charlie', 'age': 35, 'occupation': 'Artist'}]\n"
     ]
    }
   ],
   "source": [
    "\n",
    "\n",
    "names = [\"Alice\", \"Bob\", \"Charlie\"]\n",
    "ages = [25, 30, 35]\n",
    "occupations = [\"Engineer\", \"Doctor\", \"Artist\"] \n",
    "lst =[]\n",
    "for i in range(0,len(names)):\n",
    "    b={\"names\":names[i] ,\"ages\":ages[i] ,\"occupations\":occupations[i]}\n",
    "    lst.append(b)\n",
    "print(lst)\n",
    "\n",
    "\n",
    "# Example lists\n",
    "names = [\"Alice\", \"Bob\", \"Charlie\"]\n",
    "ages = [25, 30, 35]\n",
    "occupations = [\"Engineer\", \"Doctor\", \"Artist\"]\n",
    "\n",
    "# Combine lists into a list of dictionaries\n",
    "people_list = [{'name': name, 'age': age, 'occupation': occupation} for name, age, occupation in zip(names, ages, occupations)]\n",
    "\n",
    "# Print the resulting list of dictionaries\n",
    "print(people_list)\n",
    "\n",
    "\n",
    "\n"
   ]
  },
  {
   "cell_type": "markdown",
   "metadata": {
    "application/vnd.databricks.v1+cell": {
     "cellMetadata": {},
     "inputWidgets": {},
     "nuid": "ebc51e6a-0aba-4fa5-bfdd-3f652172a740",
     "showTitle": false,
     "title": ""
    }
   },
   "source": [
    "\"\"\" 6.\tYou have received a text message that contains various sentences, some of which are inquiries (ending with a question mark '?'). Your task is to analyze this message and perform several operations using Python string functions.\n",
    "\n",
    "Text :  \"Hello! How are you? I hope you're enjoying your day. Have you seen my notebook? It's important. Thanks for your help!\"\n",
    "\n",
    "Count the Questions: Determine how many sentences in the text are questions.\n",
    "Extract Questions: Create a list containing only the sentences that are questions.\n",
    "Remove Punctuation: Create a new version of the text with all punctuation removed.\n",
    "Word Count: Count how many times the word 'you' appears in the text (case-insensitive).\n",
    "Concatenate: Concatenate the first and last sentences to form a new sentence.\"\"\""
   ]
  },
  {
   "cell_type": "code",
   "execution_count": 0,
   "metadata": {
    "application/vnd.databricks.v1+cell": {
     "cellMetadata": {
      "byteLimit": 2048000,
      "rowLimit": 10000
     },
     "inputWidgets": {},
     "nuid": "23154b79-fbbf-4fd8-ad22-82fadced2f61",
     "showTitle": false,
     "title": ""
    }
   },
   "outputs": [
    {
     "output_type": "stream",
     "name": "stdout",
     "output_type": "stream",
     "text": [
      "there are  2 qustions in this sentence\nNo of qustions : 2\n2\nList of Questions: [' How are you?', ' Have you seen my notebook?']\nsentence without punctuation mark :  Hello How are you I hope youre enjoying your day Have you seen my notebook Its important Thanks for your help\ncount of YOU : 2\nHello. Thanks for your help!\n"
     ]
    }
   ],
   "source": [
    "\n",
    "\n",
    "import re\n",
    "\n",
    "\n",
    "text=\"Hello! How are you? I hope you're enjoying your day. Have you seen my notebook? It's important. Thanks for your help!\"\n",
    "# 1\n",
    "cnt=0\n",
    "for i in text:\n",
    "    if \"?\" in i:\n",
    "        cnt += 1\n",
    "    else:\n",
    "        continue\n",
    "print(\"there are \",cnt,\"qustions in this sentence\")\n",
    "\n",
    "print(\"No of qustions :\",text.count('?'))\n",
    "print(len(re.findall(r'[?]',text)))\n",
    "\n",
    "\n",
    "# 2\n",
    "question_pattern = re.compile(r'[^.!?]*\\?')\n",
    "questions = question_pattern.findall(text)\n",
    "lst2=[]\n",
    "for question in questions:\n",
    "    lst2.append(question)\n",
    "print(\"List of Questions:\",lst2)\n",
    "\n",
    "#3\n",
    "no_punctuations = re.sub(r'[^\\w\\s]', '', text)\n",
    "print(\"sentence without punctuation mark : \",no_punctuations)\n",
    "\n",
    "#4\n",
    "print(\"count of YOU :\",no_punctuations.lower().count('you '))\n",
    "\n",
    "#5\n",
    "sentences = re.split(r'[.!?]\\s* ', text)\n",
    "concatenated_sentence = sentences[0] + '. ' + sentences[-1]\n",
    "print(concatenated_sentence)\n"
   ]
  },
  {
   "cell_type": "code",
   "execution_count": 0,
   "metadata": {
    "application/vnd.databricks.v1+cell": {
     "cellMetadata": {},
     "inputWidgets": {},
     "nuid": "d76b0d2a-b693-4557-a653-7f8c1e3dd621",
     "showTitle": false,
     "title": ""
    }
   },
   "outputs": [],
   "source": [
    "text = \"Hello! How are you? I hope you're enjoying your day. Have you seen my notebook? It's important. Thanks for your help!\"\n",
    " \n",
    " \n",
    "sentences = []\n",
    "current_sentence = ''\n",
    "for char in text:\n",
    "    current_sentence += char\n",
    "    if char in '.!?':\n",
    "        sentences.append(current_sentence.strip())\n",
    "        current_sentence = ''\n",
    "if current_sentence:\n",
    "    sentences.append(current_sentence.strip())\n",
    " \n",
    "#print(sentences)\n",
    "questions = [sentence for sentence in sentences if sentence.endswith('?')]\n",
    " \n",
    "import string\n",
    "text_no_punctuation = ''.join(char for char in text if char not in string.punctuation)\n",
    "you_count = text.lower().count('you')\n",
    "first_sentence = sentences[0].split('!')[0]\n",
    "last_sentence = sentences[-1].split('!')[0] if sentences[-1].endswith('!') else sentences[-1]\n",
    "first_and_last_sentence = first_sentence + ' ' + last_sentence\n",
    " \n",
    "question_count = len(questions)\n",
    " \n",
    "#question_count, questions, text_no_punctuation, you_count, first_and_last_sentence\n",
    " \n",
    " \n",
    "concatenation_sentence = sentences[0].split('!')[0] +' '+ sentences[-1].split('!')[0]\n",
    "concatenation_sentence"
   ]
  },
  {
   "cell_type": "code",
   "execution_count": 0,
   "metadata": {
    "application/vnd.databricks.v1+cell": {
     "cellMetadata": {
      "byteLimit": 2048000,
      "rowLimit": 10000
     },
     "inputWidgets": {},
     "nuid": "a93a21ff-14cf-4a25-8977-1d4e3f5c4c98",
     "showTitle": false,
     "title": ""
    }
   },
   "outputs": [
    {
     "output_type": "stream",
     "name": "stdout",
     "output_type": "stream",
     "text": [
      "[{'name': 'Alice', 'age': 25, 'score': 92}, {'name': 'Bob', 'age': 22, 'score': 85}, {'name': 'Charlie', 'age': 27, 'score': 78}, {'name': 'David', 'age': 23, 'score': 95}, {'name': 'Eva', 'age': 24, 'score': 88}]\n"
     ]
    }
   ],
   "source": [
    "students = [\n",
    "    {\"name\": \"Alice\", \"age\": 25, \"score\": 92},\n",
    "    {\"name\": \"Bob\", \"age\": 22, \"score\": 85},\n",
    "    {\"name\": \"Charlie\", \"age\": 27, \"score\": 78},\n",
    "    {\"name\": \"David\", \"age\": 23, \"score\": 95},\n",
    "    {\"name\": \"Eva\", \"age\": 24, \"score\": 88}\n",
    "]\n",
    "\n",
    "print (students)\n"
   ]
  },
  {
   "cell_type": "code",
   "execution_count": 0,
   "metadata": {
    "application/vnd.databricks.v1+cell": {
     "cellMetadata": {
      "byteLimit": 2048000,
      "rowLimit": 10000
     },
     "inputWidgets": {},
     "nuid": "a41e8592-6bda-4097-abf4-a8e6eef539e7",
     "showTitle": false,
     "title": ""
    }
   },
   "outputs": [
    {
     "output_type": "stream",
     "name": "stdout",
     "output_type": "stream",
     "text": [
      "[{'name': 'Bob', 'age': 22, 'score': 85}, {'name': 'David', 'age': 23, 'score': 95}, {'name': 'Eva', 'age': 24, 'score': 88}, {'name': 'Alice', 'age': 25, 'score': 92}, {'name': 'Charlie', 'age': 27, 'score': 78}]\n"
     ]
    }
   ],
   "source": [
    "def get_age(student):\n",
    "   return student['age']\n",
    " \n",
    "sorted_students = sorted(students, key= get_age )\n",
    "print(sorted_students)"
   ]
  },
  {
   "cell_type": "code",
   "execution_count": 0,
   "metadata": {
    "application/vnd.databricks.v1+cell": {
     "cellMetadata": {
      "byteLimit": 2048000,
      "rowLimit": 10000
     },
     "inputWidgets": {},
     "nuid": "006971c0-fafa-4cd9-b571-cd758d917d32",
     "showTitle": false,
     "title": ""
    }
   },
   "outputs": [
    {
     "output_type": "stream",
     "name": "stdout",
     "output_type": "stream",
     "text": [
      "[{'name': 'Bob', 'age': 22, 'score': 85}, {'name': 'David', 'age': 23, 'score': 95}, {'name': 'Eva', 'age': 24, 'score': 88}, {'name': 'Alice', 'age': 25, 'score': 92}, {'name': 'Charlie', 'age': 27, 'score': 78}]\n"
     ]
    }
   ],
   "source": [
    "sort =sorted(students, key=lambda x: x[\"age\"])\n",
    "print(sort)"
   ]
  },
  {
   "cell_type": "code",
   "execution_count": 0,
   "metadata": {
    "application/vnd.databricks.v1+cell": {
     "cellMetadata": {},
     "inputWidgets": {},
     "nuid": "c245ed62-045e-46ed-bcca-cace2b38ebbb",
     "showTitle": false,
     "title": ""
    }
   },
   "outputs": [],
   "source": [
    "You have a list of numbers:\n",
    "numbers = [1, 2, 3, 4, 5, 6, 7, 8, 9, 10]\n",
    "Using a lambda function and the filter() function, filter out the even numbers from the list. Provide the code to achieve this.\n",
    "2)students = [\n",
    "    {\"name\": \"Alice\", \"score\": 85},\n",
    "    {\"name\": \"Bob\", \"score\": 92},\n",
    "    {\"name\": \"Charlie\", \"score\": 78},\n",
    "    {\"name\": \"David\", \"score\": 95},\n",
    "    {\"name\": \"Eve\", \"score\": 88}\n",
    "]\n",
    "Reverse Sort the list of students according to the score."
   ]
  },
  {
   "cell_type": "code",
   "execution_count": 0,
   "metadata": {
    "application/vnd.databricks.v1+cell": {
     "cellMetadata": {
      "byteLimit": 2048000,
      "rowLimit": 10000
     },
     "inputWidgets": {},
     "nuid": "96333816-da17-4792-a3d7-65e93d2b0cb9",
     "showTitle": false,
     "title": ""
    }
   },
   "outputs": [
    {
     "output_type": "stream",
     "name": "stdout",
     "output_type": "stream",
     "text": [
      "[2, 4, 6, 8, 10]\n"
     ]
    }
   ],
   "source": [
    "numbers = [1, 2, 3, 4, 5, 6, 7, 8, 9, 10]\n",
    "print(list(filter(lambda x: x%2 == 0 , numbers)))"
   ]
  },
  {
   "cell_type": "code",
   "execution_count": 0,
   "metadata": {
    "application/vnd.databricks.v1+cell": {
     "cellMetadata": {
      "byteLimit": 2048000,
      "rowLimit": 10000
     },
     "inputWidgets": {},
     "nuid": "a096e988-ed1e-4a6b-87f7-7ef06c8f4881",
     "showTitle": false,
     "title": ""
    }
   },
   "outputs": [
    {
     "output_type": "stream",
     "name": "stdout",
     "output_type": "stream",
     "text": [
      "[{'name': 'David', 'score': 95}, {'name': 'Bob', 'score': 92}, {'name': 'Eve', 'score': 88}, {'name': 'Alice', 'score': 85}, {'name': 'Charlie', 'score': 78}]\n"
     ]
    }
   ],
   "source": [
    "students = [\n",
    "    {\"name\": \"Alice\", \"score\": 85},\n",
    "    {\"name\": \"Bob\", \"score\": 92},\n",
    "    {\"name\": \"Charlie\", \"score\": 78},\n",
    "    {\"name\": \"David\", \"score\": 95},\n",
    "    {\"name\": \"Eve\", \"score\": 88}\n",
    "]\n",
    "rev_sorted_student =sorted(students, key=lambda student:student['score'], reverse=True)\n",
    "print(rev_sorted_student)"
   ]
  }
 ],
 "metadata": {
  "application/vnd.databricks.v1+notebook": {
   "dashboards": [],
   "language": "python",
   "notebookMetadata": {
    "pythonIndentUnit": 4
   },
   "notebookName": "Python Tasks",
   "widgets": {}
  }
 },
 "nbformat": 4,
 "nbformat_minor": 0
}
