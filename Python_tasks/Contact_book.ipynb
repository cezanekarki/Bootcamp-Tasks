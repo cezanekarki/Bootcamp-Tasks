{
 "cells": [
  {
   "cell_type": "code",
   "execution_count": 0,
   "metadata": {
    "application/vnd.databricks.v1+cell": {
     "cellMetadata": {
      "byteLimit": 2048000,
      "rowLimit": 10000
     },
     "inputWidgets": {},
     "nuid": "b3063fd1-9320-45f7-aa6d-0a4dabacf03e",
     "showTitle": false,
     "title": ""
    }
   },
   "outputs": [
    {
     "output_type": "stream",
     "name": "stdout",
     "output_type": "stream",
     "text": [
      "1. View Contacts\n2. Add Contact\n3. Search Contact\n4. Delete Contact\n5. Quit\n"
     ]
    },
    {
     "output_type": "display_data",
     "data": {
      "text/plain": [
       "Select an option (1-5):  2"
      ]
     },
     "metadata": {},
     "output_type": "display_data"
    },
    {
     "output_type": "display_data",
     "data": {
      "text/plain": [
       "Enter name:  Jayesh T"
      ]
     },
     "metadata": {},
     "output_type": "display_data"
    },
    {
     "output_type": "display_data",
     "data": {
      "text/plain": [
       "Enter phone:  8551923228"
      ]
     },
     "metadata": {},
     "output_type": "display_data"
    },
    {
     "output_type": "display_data",
     "data": {
      "text/plain": [
       "Enter email:  jt@gmail.com"
      ]
     },
     "metadata": {},
     "output_type": "display_data"
    },
    {
     "output_type": "stream",
     "name": "stdout",
     "output_type": "stream",
     "text": [
      "Contact added successfully!\n1. View Contacts\n2. Add Contact\n3. Search Contact\n4. Delete Contact\n5. Quit\n"
     ]
    },
    {
     "output_type": "display_data",
     "data": {
      "text/plain": [
       "Select an option (1-5):  1"
      ]
     },
     "metadata": {},
     "output_type": "display_data"
    },
    {
     "output_type": "stream",
     "name": "stdout",
     "output_type": "stream",
     "text": [
      "1. {'name': 'Jayesh T', 'phone': '8551923228', 'email': 'jt@gmail.com'}\n1. View Contacts\n2. Add Contact\n3. Search Contact\n4. Delete Contact\n5. Quit\n"
     ]
    },
    {
     "output_type": "display_data",
     "data": {
      "text/plain": [
       "Select an option (1-5):  "
      ]
     },
     "metadata": {},
     "output_type": "display_data"
    }
   ],
   "source": [
    "contacts = []\n",
    "\n",
    "def add_contact(*args, **kwargs):\n",
    "    contact = {}\n",
    "    \n",
    "    # Collect information from positional arguments\n",
    "    for arg in args:\n",
    "        contact[arg] = input(f\"Enter {arg}: \")\n",
    "\n",
    "    # Collect information from keyword arguments\n",
    "    for key, value in kwargs.items():\n",
    "        contact[key] = input(f\"Enter {key}: \")\n",
    "\n",
    "    contacts.append(contact)\n",
    "    print(\"Contact added successfully!\")\n",
    "\n",
    "def view_contacts():\n",
    "    if not contacts:\n",
    "        print(\"No contacts available.\")\n",
    "    else:\n",
    "        for index, contact in enumerate(contacts, start=1):\n",
    "            print(f\"{index}. {contact}\")\n",
    "\n",
    "def search_contact():\n",
    "    if not contacts:\n",
    "        print(\"No contacts available for searching.\")\n",
    "        return\n",
    "\n",
    "    search_name = input(\"Enter the name to search: \")\n",
    "    search_result = list(filter(lambda x: x.get(\"name\", \"\").lower() == search_name.lower(), contacts))\n",
    "\n",
    "    if search_result:\n",
    "        print(\"Search result:\")\n",
    "        for contact in search_result:\n",
    "            print(contact)\n",
    "    else:\n",
    "        print(f\"No contact found with the name '{search_name}'.\")\n",
    "\n",
    "def delete_contact():\n",
    "    if not contacts:\n",
    "        print(\"No contacts available for deletion.\")\n",
    "        return\n",
    "\n",
    "    view_contacts()\n",
    "    try:\n",
    "        index_to_delete = int(input(\"Enter the index of the contact to delete: \")) - 1\n",
    "        if 0 <= index_to_delete < len(contacts):\n",
    "            deleted_contact = contacts.pop(index_to_delete)\n",
    "            print(f\"Contact deleted: {deleted_contact}\")\n",
    "        else:\n",
    "            print(\"Invalid index. No contact deleted.\")\n",
    "    except ValueError:\n",
    "        print(\"Invalid input. Please enter a valid index.\")\n",
    "\n",
    "def main():\n",
    "    while True:\n",
    "        print(\"1. View Contacts\")\n",
    "        print(\"2. Add Contact\")\n",
    "        print(\"3. Search Contact\")\n",
    "        print(\"4. Delete Contact\")\n",
    "        print(\"5. Quit\")\n",
    "        user_input = input(\"Select an option (1-5): \")\n",
    "\n",
    "        if user_input == \"1\":\n",
    "            view_contacts()\n",
    "        elif user_input == \"2\":\n",
    "            add_contact(\"name\", \"phone\", \"email\")\n",
    "        elif user_input == \"3\":\n",
    "            search_contact()\n",
    "        elif user_input == \"4\":\n",
    "            delete_contact()\n",
    "        elif user_input == \"5\":\n",
    "            print(\"Exiting program\")\n",
    "            break\n",
    "        else:\n",
    "            print(\"Invalid\")\n",
    "\n",
    "if __name__ == \"__main__\":\n",
    "    main()"
   ]
  }
 ],
 "metadata": {
  "application/vnd.databricks.v1+notebook": {
   "dashboards": [],
   "language": "python",
   "notebookMetadata": {
    "pythonIndentUnit": 4
   },
   "notebookName": "Contact_book",
   "widgets": {}
  }
 },
 "nbformat": 4,
 "nbformat_minor": 0
}
