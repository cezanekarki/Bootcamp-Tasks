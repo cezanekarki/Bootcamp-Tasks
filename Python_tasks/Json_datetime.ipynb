{
 "cells": [
  {
   "cell_type": "code",
   "execution_count": 0,
   "metadata": {
    "application/vnd.databricks.v1+cell": {
     "cellMetadata": {
      "byteLimit": 2048000,
      "rowLimit": 10000
     },
     "inputWidgets": {},
     "nuid": "6b3d0edd-117a-48aa-abad-fdc4d2e566f0",
     "showTitle": false,
     "title": ""
    }
   },
   "outputs": [
    {
     "output_type": "stream",
     "name": "stdout",
     "output_type": "stream",
     "text": [
      "Out[2]: ['conf',\n 'azure',\n 'hadoop_accessed_config.lst',\n 'preload_class.lst',\n 'ganglia',\n 'metastore_db',\n 'eventlogs',\n 'logs']"
     ]
    }
   ],
   "source": [
    "import os\n",
    "os.listdir()"
   ]
  },
  {
   "cell_type": "code",
   "execution_count": 0,
   "metadata": {
    "application/vnd.databricks.v1+cell": {
     "cellMetadata": {
      "byteLimit": 2048000,
      "implicitDf": true,
      "rowLimit": 10000
     },
     "inputWidgets": {},
     "nuid": "e951414c-e2d0-4b28-b6f2-13047820b0b9",
     "showTitle": false,
     "title": ""
    }
   },
   "outputs": [],
   "source": [
    "\n",
    "import json\n",
    "from datetime import datetime\n",
    "\n",
    "json_string = '{\"name\": \"John Doe\", \"dob\": \"1990-01-01 00:00:00\", \"city\": \"Anytown\", \"email\": \"john.doe@example.com\", \"is_student\": false}'\n",
    "data = json.loads(json_string)\n",
    "data['dob'] = datetime.strptime(data['dob'], '%Y-%m-%d %H:%M:%S')"
   ]
  },
  {
   "cell_type": "code",
   "execution_count": 0,
   "metadata": {
    "application/vnd.databricks.v1+cell": {
     "cellMetadata": {
      "byteLimit": 2048000,
      "rowLimit": 10000
     },
     "inputWidgets": {},
     "nuid": "f70e37bf-2499-4dd2-be93-7add2e9152d5",
     "showTitle": false,
     "title": ""
    }
   },
   "outputs": [],
   "source": [
    "import json\n",
    "\n",
    "json_string = '{\"name\": \"John Doe\", \"dob\": \"1990-01-01 00:00:00\", \"city\": \"Anytown\", \"email\": \"john.doe@example.com\", \"is_student\": false}'\n",
    "\n",
    "# Assuming you want to write to a file named \"output.json\"\n",
    "output_file_path = 'output.json'\n",
    "\n",
    "# Parse the JSON string to a Python dictionary\n",
    "data = json.loads(json_string)\n",
    "\n",
    "# Write the dictionary to a JSON file\n",
    "with open(output_file_path, 'w') as output_file:\n",
    "    json.dump(data, output_file, indent=2)\n"
   ]
  },
  {
   "cell_type": "code",
   "execution_count": 0,
   "metadata": {
    "application/vnd.databricks.v1+cell": {
     "cellMetadata": {
      "byteLimit": 2048000,
      "rowLimit": 10000
     },
     "inputWidgets": {},
     "nuid": "b69fb106-a8f8-4d22-afb4-504cac5f1320",
     "showTitle": false,
     "title": ""
    }
   },
   "outputs": [
    {
     "output_type": "stream",
     "name": "stdout",
     "output_type": "stream",
     "text": [
      "{\n  \"name\": \"John Doe\",\n  \"dob\": \"1990-01-01 00:00:00\",\n  \"city\": \"Anytown\",\n  \"email\": \"john.doe@example.com\",\n  \"is_student\": false\n}\n"
     ]
    }
   ],
   "source": [
    "import json\n",
    "\n",
    "input_file_path = 'output.json'  # Replace with the correct file path\n",
    "\n",
    "# Read the content of the JSON file into a string\n",
    "with open(input_file_path, 'r') as input_file:\n",
    "    json_string_from_file = input_file.read()\n",
    "\n",
    "# Now, json_string_from_file contains the content of the JSON file as a string\n",
    "print(json_string_from_file)\n"
   ]
  },
  {
   "cell_type": "code",
   "execution_count": 0,
   "metadata": {
    "application/vnd.databricks.v1+cell": {
     "cellMetadata": {
      "byteLimit": 2048000,
      "rowLimit": 10000
     },
     "inputWidgets": {},
     "nuid": "0e566061-946d-431b-b659-b8943d3a26f5",
     "showTitle": false,
     "title": ""
    }
   },
   "outputs": [
    {
     "output_type": "stream",
     "name": "stdout",
     "output_type": "stream",
     "text": [
      "{'name': 'John Doe', 'dob': '1990-01-01 00:00:00', 'city': 'Anytown', 'email': 'john.doe@example.com', 'is_student': False}\n"
     ]
    }
   ],
   "source": [
    "with open (\"output.json\", \"r\") as f:\n",
    "    d= json.load(f)\n",
    "print(d)    "
   ]
  },
  {
   "cell_type": "code",
   "execution_count": 0,
   "metadata": {
    "application/vnd.databricks.v1+cell": {
     "cellMetadata": {},
     "inputWidgets": {},
     "nuid": "151ee5c7-90ce-40e9-b4cd-526a005605d5",
     "showTitle": false,
     "title": ""
    }
   },
   "outputs": [],
   "source": []
  }
 ],
 "metadata": {
  "application/vnd.databricks.v1+notebook": {
   "dashboards": [],
   "language": "python",
   "notebookMetadata": {
    "mostRecentlyExecutedCommandWithImplicitDF": {
     "commandId": -1,
     "dataframes": [
      "_sqldf"
     ]
    },
    "pythonIndentUnit": 4
   },
   "notebookName": "Json_datetime",
   "widgets": {}
  }
 },
 "nbformat": 4,
 "nbformat_minor": 0
}
