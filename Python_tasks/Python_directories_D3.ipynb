{
 "cells": [
  {
   "cell_type": "code",
   "execution_count": 0,
   "metadata": {
    "application/vnd.databricks.v1+cell": {
     "cellMetadata": {
      "byteLimit": 2048000,
      "rowLimit": 10000
     },
     "inputWidgets": {},
     "nuid": "50a34e2e-b28d-4055-84bd-176ec5105990",
     "showTitle": false,
     "title": ""
    }
   },
   "outputs": [
    {
     "output_type": "stream",
     "name": "stdout",
     "output_type": "stream",
     "text": [
      "Out[1]: ['hadoop_accessed_config.lst',\n 'azure',\n 'preload_class.lst',\n 'conf',\n 'eventlogs',\n 'logs',\n 'ganglia',\n 'metastore_db']"
     ]
    }
   ],
   "source": [
    "import os \n",
    "os.listdir()"
   ]
  },
  {
   "cell_type": "code",
   "execution_count": 0,
   "metadata": {
    "application/vnd.databricks.v1+cell": {
     "cellMetadata": {
      "byteLimit": 2048000,
      "rowLimit": 10000
     },
     "inputWidgets": {},
     "nuid": "774b90d9-bd70-4cea-8a02-07192ef3f0ba",
     "showTitle": false,
     "title": ""
    }
   },
   "outputs": [
    {
     "output_type": "stream",
     "name": "stdout",
     "output_type": "stream",
     "text": [
      "Out[2]: '/databricks/driver'"
     ]
    }
   ],
   "source": [
    "os.getcwd()"
   ]
  },
  {
   "cell_type": "code",
   "execution_count": 0,
   "metadata": {
    "application/vnd.databricks.v1+cell": {
     "cellMetadata": {},
     "inputWidgets": {},
     "nuid": "e78d8d93-b03e-4b2a-8365-1409521de9f9",
     "showTitle": false,
     "title": ""
    }
   },
   "outputs": [],
   "source": [
    "with open(\"hello.txt\",\"w\")as f:\n",
    "    f.write(\"hello world\")\n",
    "\n",
    "with open(\"hello.txt\",\"r\")as f:\n",
    "    print(f.read())"
   ]
  },
  {
   "cell_type": "code",
   "execution_count": 0,
   "metadata": {
    "application/vnd.databricks.v1+cell": {
     "cellMetadata": {},
     "inputWidgets": {},
     "nuid": "21e3e5e0-8216-4905-a9c4-3888a88a9a4e",
     "showTitle": false,
     "title": ""
    }
   },
   "outputs": [],
   "source": [
    "with open(\"hello.txt\",\"a+\")as f:\n",
    "    f.write(\"Hello there \\n new new new\")\n",
    "\n",
    "with open(\"hello.txt\",\"r\")as f:\n",
    "    print(f.read())\n"
   ]
  },
  {
   "cell_type": "code",
   "execution_count": 0,
   "metadata": {
    "application/vnd.databricks.v1+cell": {
     "cellMetadata": {},
     "inputWidgets": {},
     "nuid": "b1108050-e597-4550-b96e-e3d82d8d59e2",
     "showTitle": false,
     "title": ""
    }
   },
   "outputs": [],
   "source": [
    "with open(\"hello.txt\",\"r+\") as f:\n",
    "    # f.write(\"Hello there \\n new new new\")\n",
    "    f.seek(2)\n",
    "    print(f.read())\n"
   ]
  },
  {
   "cell_type": "code",
   "execution_count": 0,
   "metadata": {
    "application/vnd.databricks.v1+cell": {
     "cellMetadata": {},
     "inputWidgets": {},
     "nuid": "83630687-4c37-4843-9a89-6c4b5f85606a",
     "showTitle": false,
     "title": ""
    }
   },
   "outputs": [],
   "source": [
    "import requests\n",
    "data={\n",
    "    \"title\":\"BMW\",\n",
    "}\n",
    "response =requests.post(\"https://dummyjson.com/products/add\",json=data)\n",
    "print(response.text)\n"
   ]
  },
  {
   "cell_type": "code",
   "execution_count": 0,
   "metadata": {
    "application/vnd.databricks.v1+cell": {
     "cellMetadata": {},
     "inputWidgets": {},
     "nuid": "b7a83a02-5ae4-453b-b505-8879012238fa",
     "showTitle": false,
     "title": ""
    }
   },
   "outputs": [],
   "source": [
    "from requests import session\n",
    "s = session()\n",
    "# print(s)\n",
    "datas=s.post(\"https://dummyjson.com/products/add\",data)\n",
    "print(datas.text)\n"
   ]
  }
 ],
 "metadata": {
  "application/vnd.databricks.v1+notebook": {
   "dashboards": [],
   "language": "python",
   "notebookMetadata": {
    "pythonIndentUnit": 4
   },
   "notebookName": "Python_directories_D3",
   "widgets": {}
  }
 },
 "nbformat": 4,
 "nbformat_minor": 0
}
