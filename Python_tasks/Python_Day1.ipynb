{
 "cells": [
  {
   "cell_type": "code",
   "execution_count": 0,
   "metadata": {
    "application/vnd.databricks.v1+cell": {
     "cellMetadata": {
      "byteLimit": 2048000,
      "rowLimit": 10000
     },
     "inputWidgets": {},
     "nuid": "d479f465-552f-4846-9687-ce4a64584e0d",
     "showTitle": false,
     "title": ""
    }
   },
   "outputs": [
    {
     "output_type": "stream",
     "name": "stdout",
     "output_type": "stream",
     "text": [
      "{'tiher', 'lion', 'camel', 'aliphant', 'zebra'}\n5\naliphant\n{'zebra': 1, 'camel': 1, 'tiher': 2, 'lion': 1, 'aliphant': 1}\n['aliphant', 'camel', 'lion', 'tiher', 'tiher', 'zebra']\n['zebra', 'tiher', 'tiher', 'lion', 'camel', 'aliphant']\ntnahpila noil rehit rehit lemac arbez\ntnahpila noil rehit rehit lemac arbez\n"
     ]
    }
   ],
   "source": [
    "myString=\"zebra camel tiher tiher lion aliphant\"\n",
    "\n",
    "# unique word in an input\n",
    "uniqueWords = set(myString.split())\n",
    "print(uniqueWords)  \n",
    "\n",
    "# length of the input\n",
    "length = len(uniqueWords)\n",
    "print(length)  \n",
    "\n",
    "# longest word h\n",
    "longest_word = max(uniqueWords,key=len)\n",
    "print(longest_word)\n",
    "\n",
    "\n",
    "# finding frequecny of each words\n",
    "words = myString.split()\n",
    "\n",
    "dct = {} \n",
    " \n",
    "for i in words: \n",
    "    dct[i]=words.count(i) \n",
    "     \n",
    "print(dct) \n",
    "\n",
    "# sort alphabetically and reverse alphabetically \n",
    "\n",
    "sortedAlphabetically =sorted(words)\n",
    "print(sortedAlphabetically)\n",
    "\n",
    "\n",
    "sortedAlphabetically =sorted(words,reverse=True)\n",
    "print(sortedAlphabetically)\n",
    "\n",
    "\n",
    "# reverse the input\n",
    "newString=\"\"\n",
    "for i in range (len(myString)-1,-1,-1):\n",
    "  newString += myString[i]\n",
    "print(newString)\n",
    "\n",
    "print(myString[::-1])\n"
   ]
  }
 ],
 "metadata": {
  "application/vnd.databricks.v1+notebook": {
   "dashboards": [],
   "language": "python",
   "notebookMetadata": {
    "pythonIndentUnit": 4
   },
   "notebookName": "Python_Day1",
   "widgets": {}
  }
 },
 "nbformat": 4,
 "nbformat_minor": 0
}
