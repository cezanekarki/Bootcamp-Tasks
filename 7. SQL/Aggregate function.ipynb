{
 "cells": [
  {
   "cell_type": "code",
   "execution_count": 0,
   "metadata": {
    "application/vnd.databricks.v1+cell": {
     "cellMetadata": {
      "byteLimit": 2048000,
      "implicitDf": true,
      "rowLimit": 10000
     },
     "inputWidgets": {},
     "nuid": "16ff8b75-b459-4598-a0e6-a2717f076c97",
     "showTitle": false,
     "title": ""
    }
   },
   "outputs": [
    {
     "output_type": "display_data",
     "data": {
      "text/plain": [
       "\u001B[0;31m---------------------------------------------------------------------------\u001B[0m\n",
       "\u001B[0;31mAnalysisException\u001B[0m                         Traceback (most recent call last)\n",
       "File \u001B[0;32m<command-4090026368007444>:8\u001B[0m\n",
       "\u001B[1;32m      6\u001B[0m     display(df)\n",
       "\u001B[1;32m      7\u001B[0m     \u001B[38;5;28;01mreturn\u001B[39;00m df\n",
       "\u001B[0;32m----> 8\u001B[0m   _sqldf \u001B[38;5;241m=\u001B[39m \u001B[43m____databricks_percent_sql\u001B[49m\u001B[43m(\u001B[49m\u001B[43m)\u001B[49m\n",
       "\u001B[1;32m      9\u001B[0m \u001B[38;5;28;01mfinally\u001B[39;00m:\n",
       "\u001B[1;32m     10\u001B[0m   \u001B[38;5;28;01mdel\u001B[39;00m ____databricks_percent_sql\n",
       "\n",
       "File \u001B[0;32m<command-4090026368007444>:4\u001B[0m, in \u001B[0;36m____databricks_percent_sql\u001B[0;34m()\u001B[0m\n",
       "\u001B[1;32m      2\u001B[0m \u001B[38;5;28;01mdef\u001B[39;00m \u001B[38;5;21m____databricks_percent_sql\u001B[39m():\n",
       "\u001B[1;32m      3\u001B[0m   \u001B[38;5;28;01mimport\u001B[39;00m \u001B[38;5;21;01mbase64\u001B[39;00m\n",
       "\u001B[0;32m----> 4\u001B[0m   \u001B[43mspark\u001B[49m\u001B[38;5;241;43m.\u001B[39;49m\u001B[43msql\u001B[49m\u001B[43m(\u001B[49m\u001B[43mbase64\u001B[49m\u001B[38;5;241;43m.\u001B[39;49m\u001B[43mstandard_b64decode\u001B[49m\u001B[43m(\u001B[49m\u001B[38;5;124;43m\"\u001B[39;49m\u001B[38;5;124;43mQ1JFQVRFIFRBQkxFIHRyYWluaW5nX2RhdGEgKAogICAgcGFydGljaXBhbnRfaWQgSU5UICwKICAgIHBhcnRpY2lwYW50X25hbWUgVkFSQ0hBUig1MCksCiAgICB0cmFpbmluZ19zZXNzaW9uX2RhdGUgREFURSwKICAgIHRyYWluaW5nX3Nlc3Npb25fZHVyYXRpb25faG91cnMgREVDSU1BTCg1LCAyKSwKICAgIHRyYWluZXJfbmFtZSBWQVJDSEFSKDUwKSwKICAgIHRyYWluaW5nX2xvY2F0aW9uIFZBUkNIQVIoMTAwKSwKICAgIHRyYWluaW5nX3N1YmplY3QgVkFSQ0hBUigxMDApCik=\u001B[39;49m\u001B[38;5;124;43m\"\u001B[39;49m\u001B[43m)\u001B[49m\u001B[38;5;241;43m.\u001B[39;49m\u001B[43mdecode\u001B[49m\u001B[43m(\u001B[49m\u001B[43m)\u001B[49m\u001B[43m)\u001B[49m\n",
       "\u001B[1;32m      5\u001B[0m   df \u001B[38;5;241m=\u001B[39m spark\u001B[38;5;241m.\u001B[39msql(base64\u001B[38;5;241m.\u001B[39mstandard_b64decode(\u001B[38;5;124m\"\u001B[39m\u001B[38;5;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\u001B[39m\u001B[38;5;124m\"\u001B[39m)\u001B[38;5;241m.\u001B[39mdecode())\n",
       "\u001B[1;32m      6\u001B[0m   display(df)\n",
       "\n",
       "File \u001B[0;32m/databricks/spark/python/pyspark/instrumentation_utils.py:48\u001B[0m, in \u001B[0;36m_wrap_function.<locals>.wrapper\u001B[0;34m(*args, **kwargs)\u001B[0m\n",
       "\u001B[1;32m     46\u001B[0m start \u001B[38;5;241m=\u001B[39m time\u001B[38;5;241m.\u001B[39mperf_counter()\n",
       "\u001B[1;32m     47\u001B[0m \u001B[38;5;28;01mtry\u001B[39;00m:\n",
       "\u001B[0;32m---> 48\u001B[0m     res \u001B[38;5;241m=\u001B[39m \u001B[43mfunc\u001B[49m\u001B[43m(\u001B[49m\u001B[38;5;241;43m*\u001B[39;49m\u001B[43margs\u001B[49m\u001B[43m,\u001B[49m\u001B[43m \u001B[49m\u001B[38;5;241;43m*\u001B[39;49m\u001B[38;5;241;43m*\u001B[39;49m\u001B[43mkwargs\u001B[49m\u001B[43m)\u001B[49m\n",
       "\u001B[1;32m     49\u001B[0m     logger\u001B[38;5;241m.\u001B[39mlog_success(\n",
       "\u001B[1;32m     50\u001B[0m         module_name, class_name, function_name, time\u001B[38;5;241m.\u001B[39mperf_counter() \u001B[38;5;241m-\u001B[39m start, signature\n",
       "\u001B[1;32m     51\u001B[0m     )\n",
       "\u001B[1;32m     52\u001B[0m     \u001B[38;5;28;01mreturn\u001B[39;00m res\n",
       "\n",
       "File \u001B[0;32m/databricks/spark/python/pyspark/sql/session.py:1387\u001B[0m, in \u001B[0;36mSparkSession.sql\u001B[0;34m(self, sqlQuery, args, **kwargs)\u001B[0m\n",
       "\u001B[1;32m   1385\u001B[0m \u001B[38;5;28;01mtry\u001B[39;00m:\n",
       "\u001B[1;32m   1386\u001B[0m     litArgs \u001B[38;5;241m=\u001B[39m {k: _to_java_column(lit(v)) \u001B[38;5;28;01mfor\u001B[39;00m k, v \u001B[38;5;129;01min\u001B[39;00m (args \u001B[38;5;129;01mor\u001B[39;00m {})\u001B[38;5;241m.\u001B[39mitems()}\n",
       "\u001B[0;32m-> 1387\u001B[0m     \u001B[38;5;28;01mreturn\u001B[39;00m DataFrame(\u001B[38;5;28;43mself\u001B[39;49m\u001B[38;5;241;43m.\u001B[39;49m\u001B[43m_jsparkSession\u001B[49m\u001B[38;5;241;43m.\u001B[39;49m\u001B[43msql\u001B[49m\u001B[43m(\u001B[49m\u001B[43msqlQuery\u001B[49m\u001B[43m,\u001B[49m\u001B[43m \u001B[49m\u001B[43mlitArgs\u001B[49m\u001B[43m)\u001B[49m, \u001B[38;5;28mself\u001B[39m)\n",
       "\u001B[1;32m   1388\u001B[0m \u001B[38;5;28;01mfinally\u001B[39;00m:\n",
       "\u001B[1;32m   1389\u001B[0m     \u001B[38;5;28;01mif\u001B[39;00m \u001B[38;5;28mlen\u001B[39m(kwargs) \u001B[38;5;241m>\u001B[39m \u001B[38;5;241m0\u001B[39m:\n",
       "\n",
       "File \u001B[0;32m/databricks/spark/python/lib/py4j-0.10.9.5-src.zip/py4j/java_gateway.py:1321\u001B[0m, in \u001B[0;36mJavaMember.__call__\u001B[0;34m(self, *args)\u001B[0m\n",
       "\u001B[1;32m   1315\u001B[0m command \u001B[38;5;241m=\u001B[39m proto\u001B[38;5;241m.\u001B[39mCALL_COMMAND_NAME \u001B[38;5;241m+\u001B[39m\\\n",
       "\u001B[1;32m   1316\u001B[0m     \u001B[38;5;28mself\u001B[39m\u001B[38;5;241m.\u001B[39mcommand_header \u001B[38;5;241m+\u001B[39m\\\n",
       "\u001B[1;32m   1317\u001B[0m     args_command \u001B[38;5;241m+\u001B[39m\\\n",
       "\u001B[1;32m   1318\u001B[0m     proto\u001B[38;5;241m.\u001B[39mEND_COMMAND_PART\n",
       "\u001B[1;32m   1320\u001B[0m answer \u001B[38;5;241m=\u001B[39m \u001B[38;5;28mself\u001B[39m\u001B[38;5;241m.\u001B[39mgateway_client\u001B[38;5;241m.\u001B[39msend_command(command)\n",
       "\u001B[0;32m-> 1321\u001B[0m return_value \u001B[38;5;241m=\u001B[39m \u001B[43mget_return_value\u001B[49m\u001B[43m(\u001B[49m\n",
       "\u001B[1;32m   1322\u001B[0m \u001B[43m    \u001B[49m\u001B[43manswer\u001B[49m\u001B[43m,\u001B[49m\u001B[43m \u001B[49m\u001B[38;5;28;43mself\u001B[39;49m\u001B[38;5;241;43m.\u001B[39;49m\u001B[43mgateway_client\u001B[49m\u001B[43m,\u001B[49m\u001B[43m \u001B[49m\u001B[38;5;28;43mself\u001B[39;49m\u001B[38;5;241;43m.\u001B[39;49m\u001B[43mtarget_id\u001B[49m\u001B[43m,\u001B[49m\u001B[43m \u001B[49m\u001B[38;5;28;43mself\u001B[39;49m\u001B[38;5;241;43m.\u001B[39;49m\u001B[43mname\u001B[49m\u001B[43m)\u001B[49m\n",
       "\u001B[1;32m   1324\u001B[0m \u001B[38;5;28;01mfor\u001B[39;00m temp_arg \u001B[38;5;129;01min\u001B[39;00m temp_args:\n",
       "\u001B[1;32m   1325\u001B[0m     temp_arg\u001B[38;5;241m.\u001B[39m_detach()\n",
       "\n",
       "File \u001B[0;32m/databricks/spark/python/pyspark/errors/exceptions.py:234\u001B[0m, in \u001B[0;36mcapture_sql_exception.<locals>.deco\u001B[0;34m(*a, **kw)\u001B[0m\n",
       "\u001B[1;32m    230\u001B[0m converted \u001B[38;5;241m=\u001B[39m convert_exception(e\u001B[38;5;241m.\u001B[39mjava_exception)\n",
       "\u001B[1;32m    231\u001B[0m \u001B[38;5;28;01mif\u001B[39;00m \u001B[38;5;129;01mnot\u001B[39;00m \u001B[38;5;28misinstance\u001B[39m(converted, UnknownException):\n",
       "\u001B[1;32m    232\u001B[0m     \u001B[38;5;66;03m# Hide where the exception came from that shows a non-Pythonic\u001B[39;00m\n",
       "\u001B[1;32m    233\u001B[0m     \u001B[38;5;66;03m# JVM exception message.\u001B[39;00m\n",
       "\u001B[0;32m--> 234\u001B[0m     \u001B[38;5;28;01mraise\u001B[39;00m converted \u001B[38;5;28;01mfrom\u001B[39;00m \u001B[38;5;28mNone\u001B[39m\n",
       "\u001B[1;32m    235\u001B[0m \u001B[38;5;28;01melse\u001B[39;00m:\n",
       "\u001B[1;32m    236\u001B[0m     \u001B[38;5;28;01mraise\u001B[39;00m\n",
       "\n",
       "\u001B[0;31mAnalysisException\u001B[0m: [TABLE_OR_VIEW_ALREADY_EXISTS] Cannot create table or view `default`.`training_data` because it already exists.\n",
       "Choose a different name, drop or replace the existing object, add the IF NOT EXISTS clause to tolerate pre-existing objects, or add the OR REFRESH clause to refresh the existing streaming table."
      ]
     },
     "metadata": {
      "application/vnd.databricks.v1+output": {
       "arguments": {},
       "data": "\u001B[0;31m---------------------------------------------------------------------------\u001B[0m\n\u001B[0;31mAnalysisException\u001B[0m                         Traceback (most recent call last)\nFile \u001B[0;32m<command-4090026368007444>:8\u001B[0m\n\u001B[1;32m      6\u001B[0m     display(df)\n\u001B[1;32m      7\u001B[0m     \u001B[38;5;28;01mreturn\u001B[39;00m df\n\u001B[0;32m----> 8\u001B[0m   _sqldf \u001B[38;5;241m=\u001B[39m \u001B[43m____databricks_percent_sql\u001B[49m\u001B[43m(\u001B[49m\u001B[43m)\u001B[49m\n\u001B[1;32m      9\u001B[0m \u001B[38;5;28;01mfinally\u001B[39;00m:\n\u001B[1;32m     10\u001B[0m   \u001B[38;5;28;01mdel\u001B[39;00m ____databricks_percent_sql\n\nFile \u001B[0;32m<command-4090026368007444>:4\u001B[0m, in \u001B[0;36m____databricks_percent_sql\u001B[0;34m()\u001B[0m\n\u001B[1;32m      2\u001B[0m \u001B[38;5;28;01mdef\u001B[39;00m \u001B[38;5;21m____databricks_percent_sql\u001B[39m():\n\u001B[1;32m      3\u001B[0m   \u001B[38;5;28;01mimport\u001B[39;00m \u001B[38;5;21;01mbase64\u001B[39;00m\n\u001B[0;32m----> 4\u001B[0m   \u001B[43mspark\u001B[49m\u001B[38;5;241;43m.\u001B[39;49m\u001B[43msql\u001B[49m\u001B[43m(\u001B[49m\u001B[43mbase64\u001B[49m\u001B[38;5;241;43m.\u001B[39;49m\u001B[43mstandard_b64decode\u001B[49m\u001B[43m(\u001B[49m\u001B[38;5;124;43m\"\u001B[39;49m\u001B[38;5;124;43mQ1JFQVRFIFRBQkxFIHRyYWluaW5nX2RhdGEgKAogICAgcGFydGljaXBhbnRfaWQgSU5UICwKICAgIHBhcnRpY2lwYW50X25hbWUgVkFSQ0hBUig1MCksCiAgICB0cmFpbmluZ19zZXNzaW9uX2RhdGUgREFURSwKICAgIHRyYWluaW5nX3Nlc3Npb25fZHVyYXRpb25faG91cnMgREVDSU1BTCg1LCAyKSwKICAgIHRyYWluZXJfbmFtZSBWQVJDSEFSKDUwKSwKICAgIHRyYWluaW5nX2xvY2F0aW9uIFZBUkNIQVIoMTAwKSwKICAgIHRyYWluaW5nX3N1YmplY3QgVkFSQ0hBUigxMDApCik=\u001B[39;49m\u001B[38;5;124;43m\"\u001B[39;49m\u001B[43m)\u001B[49m\u001B[38;5;241;43m.\u001B[39;49m\u001B[43mdecode\u001B[49m\u001B[43m(\u001B[49m\u001B[43m)\u001B[49m\u001B[43m)\u001B[49m\n\u001B[1;32m      5\u001B[0m   df \u001B[38;5;241m=\u001B[39m spark\u001B[38;5;241m.\u001B[39msql(base64\u001B[38;5;241m.\u001B[39mstandard_b64decode(\u001B[38;5;124m\"\u001B[39m\u001B[38;5;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\u001B[39m\u001B[38;5;124m\"\u001B[39m)\u001B[38;5;241m.\u001B[39mdecode())\n\u001B[1;32m      6\u001B[0m   display(df)\n\nFile \u001B[0;32m/databricks/spark/python/pyspark/instrumentation_utils.py:48\u001B[0m, in \u001B[0;36m_wrap_function.<locals>.wrapper\u001B[0;34m(*args, **kwargs)\u001B[0m\n\u001B[1;32m     46\u001B[0m start \u001B[38;5;241m=\u001B[39m time\u001B[38;5;241m.\u001B[39mperf_counter()\n\u001B[1;32m     47\u001B[0m \u001B[38;5;28;01mtry\u001B[39;00m:\n\u001B[0;32m---> 48\u001B[0m     res \u001B[38;5;241m=\u001B[39m \u001B[43mfunc\u001B[49m\u001B[43m(\u001B[49m\u001B[38;5;241;43m*\u001B[39;49m\u001B[43margs\u001B[49m\u001B[43m,\u001B[49m\u001B[43m \u001B[49m\u001B[38;5;241;43m*\u001B[39;49m\u001B[38;5;241;43m*\u001B[39;49m\u001B[43mkwargs\u001B[49m\u001B[43m)\u001B[49m\n\u001B[1;32m     49\u001B[0m     logger\u001B[38;5;241m.\u001B[39mlog_success(\n\u001B[1;32m     50\u001B[0m         module_name, class_name, function_name, time\u001B[38;5;241m.\u001B[39mperf_counter() \u001B[38;5;241m-\u001B[39m start, signature\n\u001B[1;32m     51\u001B[0m     )\n\u001B[1;32m     52\u001B[0m     \u001B[38;5;28;01mreturn\u001B[39;00m res\n\nFile \u001B[0;32m/databricks/spark/python/pyspark/sql/session.py:1387\u001B[0m, in \u001B[0;36mSparkSession.sql\u001B[0;34m(self, sqlQuery, args, **kwargs)\u001B[0m\n\u001B[1;32m   1385\u001B[0m \u001B[38;5;28;01mtry\u001B[39;00m:\n\u001B[1;32m   1386\u001B[0m     litArgs \u001B[38;5;241m=\u001B[39m {k: _to_java_column(lit(v)) \u001B[38;5;28;01mfor\u001B[39;00m k, v \u001B[38;5;129;01min\u001B[39;00m (args \u001B[38;5;129;01mor\u001B[39;00m {})\u001B[38;5;241m.\u001B[39mitems()}\n\u001B[0;32m-> 1387\u001B[0m     \u001B[38;5;28;01mreturn\u001B[39;00m DataFrame(\u001B[38;5;28;43mself\u001B[39;49m\u001B[38;5;241;43m.\u001B[39;49m\u001B[43m_jsparkSession\u001B[49m\u001B[38;5;241;43m.\u001B[39;49m\u001B[43msql\u001B[49m\u001B[43m(\u001B[49m\u001B[43msqlQuery\u001B[49m\u001B[43m,\u001B[49m\u001B[43m \u001B[49m\u001B[43mlitArgs\u001B[49m\u001B[43m)\u001B[49m, \u001B[38;5;28mself\u001B[39m)\n\u001B[1;32m   1388\u001B[0m \u001B[38;5;28;01mfinally\u001B[39;00m:\n\u001B[1;32m   1389\u001B[0m     \u001B[38;5;28;01mif\u001B[39;00m \u001B[38;5;28mlen\u001B[39m(kwargs) \u001B[38;5;241m>\u001B[39m \u001B[38;5;241m0\u001B[39m:\n\nFile \u001B[0;32m/databricks/spark/python/lib/py4j-0.10.9.5-src.zip/py4j/java_gateway.py:1321\u001B[0m, in \u001B[0;36mJavaMember.__call__\u001B[0;34m(self, *args)\u001B[0m\n\u001B[1;32m   1315\u001B[0m command \u001B[38;5;241m=\u001B[39m proto\u001B[38;5;241m.\u001B[39mCALL_COMMAND_NAME \u001B[38;5;241m+\u001B[39m\\\n\u001B[1;32m   1316\u001B[0m     \u001B[38;5;28mself\u001B[39m\u001B[38;5;241m.\u001B[39mcommand_header \u001B[38;5;241m+\u001B[39m\\\n\u001B[1;32m   1317\u001B[0m     args_command \u001B[38;5;241m+\u001B[39m\\\n\u001B[1;32m   1318\u001B[0m     proto\u001B[38;5;241m.\u001B[39mEND_COMMAND_PART\n\u001B[1;32m   1320\u001B[0m answer \u001B[38;5;241m=\u001B[39m \u001B[38;5;28mself\u001B[39m\u001B[38;5;241m.\u001B[39mgateway_client\u001B[38;5;241m.\u001B[39msend_command(command)\n\u001B[0;32m-> 1321\u001B[0m return_value \u001B[38;5;241m=\u001B[39m \u001B[43mget_return_value\u001B[49m\u001B[43m(\u001B[49m\n\u001B[1;32m   1322\u001B[0m \u001B[43m    \u001B[49m\u001B[43manswer\u001B[49m\u001B[43m,\u001B[49m\u001B[43m \u001B[49m\u001B[38;5;28;43mself\u001B[39;49m\u001B[38;5;241;43m.\u001B[39;49m\u001B[43mgateway_client\u001B[49m\u001B[43m,\u001B[49m\u001B[43m \u001B[49m\u001B[38;5;28;43mself\u001B[39;49m\u001B[38;5;241;43m.\u001B[39;49m\u001B[43mtarget_id\u001B[49m\u001B[43m,\u001B[49m\u001B[43m \u001B[49m\u001B[38;5;28;43mself\u001B[39;49m\u001B[38;5;241;43m.\u001B[39;49m\u001B[43mname\u001B[49m\u001B[43m)\u001B[49m\n\u001B[1;32m   1324\u001B[0m \u001B[38;5;28;01mfor\u001B[39;00m temp_arg \u001B[38;5;129;01min\u001B[39;00m temp_args:\n\u001B[1;32m   1325\u001B[0m     temp_arg\u001B[38;5;241m.\u001B[39m_detach()\n\nFile \u001B[0;32m/databricks/spark/python/pyspark/errors/exceptions.py:234\u001B[0m, in \u001B[0;36mcapture_sql_exception.<locals>.deco\u001B[0;34m(*a, **kw)\u001B[0m\n\u001B[1;32m    230\u001B[0m converted \u001B[38;5;241m=\u001B[39m convert_exception(e\u001B[38;5;241m.\u001B[39mjava_exception)\n\u001B[1;32m    231\u001B[0m \u001B[38;5;28;01mif\u001B[39;00m \u001B[38;5;129;01mnot\u001B[39;00m \u001B[38;5;28misinstance\u001B[39m(converted, UnknownException):\n\u001B[1;32m    232\u001B[0m     \u001B[38;5;66;03m# Hide where the exception came from that shows a non-Pythonic\u001B[39;00m\n\u001B[1;32m    233\u001B[0m     \u001B[38;5;66;03m# JVM exception message.\u001B[39;00m\n\u001B[0;32m--> 234\u001B[0m     \u001B[38;5;28;01mraise\u001B[39;00m converted \u001B[38;5;28;01mfrom\u001B[39;00m \u001B[38;5;28mNone\u001B[39m\n\u001B[1;32m    235\u001B[0m \u001B[38;5;28;01melse\u001B[39;00m:\n\u001B[1;32m    236\u001B[0m     \u001B[38;5;28;01mraise\u001B[39;00m\n\n\u001B[0;31mAnalysisException\u001B[0m: [TABLE_OR_VIEW_ALREADY_EXISTS] Cannot create table or view `default`.`training_data` because it already exists.\nChoose a different name, drop or replace the existing object, add the IF NOT EXISTS clause to tolerate pre-existing objects, or add the OR REFRESH clause to refresh the existing streaming table.",
       "errorSummary": "<span class='ansi-red-fg'>AnalysisException</span>: [TABLE_OR_VIEW_ALREADY_EXISTS] Cannot create table or view `default`.`training_data` because it already exists.\nChoose a different name, drop or replace the existing object, add the IF NOT EXISTS clause to tolerate pre-existing objects, or add the OR REFRESH clause to refresh the existing streaming table.",
       "errorTraceType": "ansi",
       "metadata": {},
       "type": "ipynbError"
      }
     },
     "output_type": "display_data"
    }
   ],
   "source": [
    "%sql\n",
    "\n",
    "\n",
    "CREATE TABLE training_data (\n",
    "    participant_id INT ,\n",
    "    participant_name VARCHAR(50),\n",
    "    training_session_date DATE,\n",
    "    training_session_duration_hours DECIMAL(5, 2),\n",
    "    trainer_name VARCHAR(50),\n",
    "    training_location VARCHAR(100),\n",
    "    training_subject VARCHAR(100)\n",
    ");\n",
    " \n",
    "INSERT INTO training_data (participant_id, participant_name, training_session_date, training_session_duration_hours, trainer_name, training_location, training_subject)\n",
    "VALUES\n",
    "    (1, 'Alice Johnson', '2024-02-05', 2.5, 'Trainer C', 'Room 101', 'Introduction to Programming'),\n",
    "    (2, 'Bob Williams', '2024-02-06', 3.0, 'Trainer A', 'Conference Room B', 'Web Development Basics'),\n",
    "    (3, 'Charlie Davis', '2024-02-07', 2.0, 'Trainer B', 'Training Room A', 'Project Management Fundamentals'),\n",
    "    (4, 'David Smith', '2024-02-08', 1.5, 'Trainer C', 'Room 102', 'Digital Marketing Essentials'),\n",
    "    (5, 'Eva Brown', '2024-02-09', 2.0, 'Trainer A', 'Conference Room A', 'Data Visualization Techniques'),\n",
    "    (6, 'Frank Johnson', '2024-02-10', 3.5, 'Trainer B', 'Training Room B', 'Effective Leadership Skills'),\n",
    "    (7, 'Grace Miller', '2024-02-11', 2.0, 'Trainer C', 'Room 103', 'Introduction to Machine Learning'),\n",
    "    (8, 'Henry Davis', '2024-02-12', 2.5, 'Trainer A', 'Conference Room B', 'Cybersecurity Basics'),\n",
    "    (9, 'Ivy Wilson', '2024-02-13', 1.5, 'Trainer B', 'Training Room A', 'Public Speaking Techniques'),\n",
    "    (10, 'Jack White', '2024-02-14', 2.0, 'Trainer C', 'Room 104', 'Agile Project Management'),\n",
    "    (11, 'Kelly Johnson', '2024-02-15', 3.0, 'Trainer A', 'Conference Room A', 'Social Media Marketing Strategies'),\n",
    "    (12, 'Leo Brown', '2024-02-16', 2.5, 'Trainer B', 'Training Room B', 'Python Programming Basics'),\n",
    "    (13, 'Mia Davis', '2024-02-17', 1.0, 'Trainer C', 'Room 105', 'Effective Time Management'),\n",
    "    (14, 'Nathan Wilson', '2024-02-18', 2.0, 'Trainer A', 'Conference Room B', 'Customer Service Excellence'),\n",
    "    (15, 'Olivia Miller', '2024-02-19', 2.5, 'Trainer B', 'Training Room A', 'Financial Literacy')\n",
    "    ;\n"
   ]
  },
  {
   "cell_type": "code",
   "execution_count": 0,
   "metadata": {
    "application/vnd.databricks.v1+cell": {
     "cellMetadata": {
      "byteLimit": 2048000,
      "implicitDf": true,
      "rowLimit": 10000
     },
     "inputWidgets": {},
     "nuid": "35732dd6-7ada-498e-b7dd-1584e469133e",
     "showTitle": false,
     "title": ""
    }
   },
   "outputs": [
    {
     "output_type": "display_data",
     "data": {
      "text/html": [
       "<style scoped>\n",
       "  .table-result-container {\n",
       "    max-height: 300px;\n",
       "    overflow: auto;\n",
       "  }\n",
       "  table, th, td {\n",
       "    border: 1px solid black;\n",
       "    border-collapse: collapse;\n",
       "  }\n",
       "  th, td {\n",
       "    padding: 5px;\n",
       "  }\n",
       "  th {\n",
       "    text-align: left;\n",
       "  }\n",
       "</style><div class='table-result-container'><table class='table-result'><thead style='background-color: white'><tr><th>participant_id</th><th>participant_name</th><th>training_session_date</th><th>training_session_duration_hours</th><th>trainer_name</th><th>training_location</th><th>training_subject</th></tr></thead><tbody><tr><td>1</td><td>Alice Johnson</td><td>2024-02-05</td><td>2.50</td><td>Trainer C</td><td>Room 101</td><td>Introduction to Programming</td></tr><tr><td>2</td><td>Bob Williams</td><td>2024-02-06</td><td>3.00</td><td>Trainer A</td><td>Conference Room B</td><td>Web Development Basics</td></tr><tr><td>3</td><td>Charlie Davis</td><td>2024-02-07</td><td>2.00</td><td>Trainer B</td><td>Training Room A</td><td>Project Management Fundamentals</td></tr><tr><td>4</td><td>David Smith</td><td>2024-02-08</td><td>1.50</td><td>Trainer C</td><td>Room 102</td><td>Digital Marketing Essentials</td></tr><tr><td>5</td><td>Eva Brown</td><td>2024-02-09</td><td>2.00</td><td>Trainer A</td><td>Conference Room A</td><td>Data Visualization Techniques</td></tr><tr><td>6</td><td>Frank Johnson</td><td>2024-02-10</td><td>3.50</td><td>Trainer B</td><td>Training Room B</td><td>Effective Leadership Skills</td></tr><tr><td>7</td><td>Grace Miller</td><td>2024-02-11</td><td>2.00</td><td>Trainer C</td><td>Room 103</td><td>Introduction to Machine Learning</td></tr><tr><td>8</td><td>Henry Davis</td><td>2024-02-12</td><td>2.50</td><td>Trainer A</td><td>Conference Room B</td><td>Cybersecurity Basics</td></tr><tr><td>9</td><td>Ivy Wilson</td><td>2024-02-13</td><td>1.50</td><td>Trainer B</td><td>Training Room A</td><td>Public Speaking Techniques</td></tr><tr><td>10</td><td>Jack White</td><td>2024-02-14</td><td>2.00</td><td>Trainer C</td><td>Room 104</td><td>Agile Project Management</td></tr><tr><td>11</td><td>Kelly Johnson</td><td>2024-02-15</td><td>3.00</td><td>Trainer A</td><td>Conference Room A</td><td>Social Media Marketing Strategies</td></tr><tr><td>12</td><td>Leo Brown</td><td>2024-02-16</td><td>2.50</td><td>Trainer B</td><td>Training Room B</td><td>Python Programming Basics</td></tr><tr><td>13</td><td>Mia Davis</td><td>2024-02-17</td><td>1.00</td><td>Trainer C</td><td>Room 105</td><td>Effective Time Management</td></tr><tr><td>14</td><td>Nathan Wilson</td><td>2024-02-18</td><td>2.00</td><td>Trainer A</td><td>Conference Room B</td><td>Customer Service Excellence</td></tr><tr><td>15</td><td>Olivia Miller</td><td>2024-02-19</td><td>2.50</td><td>Trainer B</td><td>Training Room A</td><td>Financial Literacy</td></tr></tbody></table></div>"
      ]
     },
     "metadata": {
      "application/vnd.databricks.v1+output": {
       "addedWidgets": {},
       "aggData": [],
       "aggError": "",
       "aggOverflow": false,
       "aggSchema": [],
       "aggSeriesLimitReached": false,
       "aggType": "",
       "arguments": {},
       "columnCustomDisplayInfos": {},
       "data": [
        [
         1,
         "Alice Johnson",
         "2024-02-05",
         "2.50",
         "Trainer C",
         "Room 101",
         "Introduction to Programming"
        ],
        [
         2,
         "Bob Williams",
         "2024-02-06",
         "3.00",
         "Trainer A",
         "Conference Room B",
         "Web Development Basics"
        ],
        [
         3,
         "Charlie Davis",
         "2024-02-07",
         "2.00",
         "Trainer B",
         "Training Room A",
         "Project Management Fundamentals"
        ],
        [
         4,
         "David Smith",
         "2024-02-08",
         "1.50",
         "Trainer C",
         "Room 102",
         "Digital Marketing Essentials"
        ],
        [
         5,
         "Eva Brown",
         "2024-02-09",
         "2.00",
         "Trainer A",
         "Conference Room A",
         "Data Visualization Techniques"
        ],
        [
         6,
         "Frank Johnson",
         "2024-02-10",
         "3.50",
         "Trainer B",
         "Training Room B",
         "Effective Leadership Skills"
        ],
        [
         7,
         "Grace Miller",
         "2024-02-11",
         "2.00",
         "Trainer C",
         "Room 103",
         "Introduction to Machine Learning"
        ],
        [
         8,
         "Henry Davis",
         "2024-02-12",
         "2.50",
         "Trainer A",
         "Conference Room B",
         "Cybersecurity Basics"
        ],
        [
         9,
         "Ivy Wilson",
         "2024-02-13",
         "1.50",
         "Trainer B",
         "Training Room A",
         "Public Speaking Techniques"
        ],
        [
         10,
         "Jack White",
         "2024-02-14",
         "2.00",
         "Trainer C",
         "Room 104",
         "Agile Project Management"
        ],
        [
         11,
         "Kelly Johnson",
         "2024-02-15",
         "3.00",
         "Trainer A",
         "Conference Room A",
         "Social Media Marketing Strategies"
        ],
        [
         12,
         "Leo Brown",
         "2024-02-16",
         "2.50",
         "Trainer B",
         "Training Room B",
         "Python Programming Basics"
        ],
        [
         13,
         "Mia Davis",
         "2024-02-17",
         "1.00",
         "Trainer C",
         "Room 105",
         "Effective Time Management"
        ],
        [
         14,
         "Nathan Wilson",
         "2024-02-18",
         "2.00",
         "Trainer A",
         "Conference Room B",
         "Customer Service Excellence"
        ],
        [
         15,
         "Olivia Miller",
         "2024-02-19",
         "2.50",
         "Trainer B",
         "Training Room A",
         "Financial Literacy"
        ]
       ],
       "datasetInfos": [],
       "dbfsResultPath": null,
       "isJsonSchema": true,
       "metadata": {},
       "overflow": false,
       "plotOptions": {
        "customPlotOptions": {},
        "displayType": "table",
        "pivotAggregation": null,
        "pivotColumns": null,
        "xColumns": null,
        "yColumns": null
       },
       "removedWidgets": [],
       "schema": [
        {
         "metadata": "{}",
         "name": "participant_id",
         "type": "\"integer\""
        },
        {
         "metadata": "{\"__CHAR_VARCHAR_TYPE_STRING\":\"varchar(50)\"}",
         "name": "participant_name",
         "type": "\"string\""
        },
        {
         "metadata": "{}",
         "name": "training_session_date",
         "type": "\"date\""
        },
        {
         "metadata": "{}",
         "name": "training_session_duration_hours",
         "type": "\"decimal(5,2)\""
        },
        {
         "metadata": "{\"__CHAR_VARCHAR_TYPE_STRING\":\"varchar(50)\"}",
         "name": "trainer_name",
         "type": "\"string\""
        },
        {
         "metadata": "{\"__CHAR_VARCHAR_TYPE_STRING\":\"varchar(100)\"}",
         "name": "training_location",
         "type": "\"string\""
        },
        {
         "metadata": "{\"__CHAR_VARCHAR_TYPE_STRING\":\"varchar(100)\"}",
         "name": "training_subject",
         "type": "\"string\""
        }
       ],
       "type": "table"
      }
     },
     "output_type": "display_data"
    }
   ],
   "source": [
    "%sql\n",
    "SELECT * FROM training_data;\n"
   ]
  },
  {
   "cell_type": "code",
   "execution_count": 0,
   "metadata": {
    "application/vnd.databricks.v1+cell": {
     "cellMetadata": {
      "byteLimit": 2048000,
      "implicitDf": true,
      "rowLimit": 10000
     },
     "inputWidgets": {},
     "nuid": "6593298b-b6d1-42a3-94c7-db783ded2eff",
     "showTitle": false,
     "title": ""
    }
   },
   "outputs": [
    {
     "output_type": "display_data",
     "data": {
      "text/html": [
       "<style scoped>\n",
       "  .table-result-container {\n",
       "    max-height: 300px;\n",
       "    overflow: auto;\n",
       "  }\n",
       "  table, th, td {\n",
       "    border: 1px solid black;\n",
       "    border-collapse: collapse;\n",
       "  }\n",
       "  th, td {\n",
       "    padding: 5px;\n",
       "  }\n",
       "  th {\n",
       "    text-align: left;\n",
       "  }\n",
       "</style><div class='table-result-container'><table class='table-result'><thead style='background-color: white'><tr><th>trainer_name</th><th>count(trainer_name)</th></tr></thead><tbody><tr><td>Trainer A</td><td>5</td></tr><tr><td>Trainer B</td><td>5</td></tr><tr><td>Trainer C</td><td>5</td></tr></tbody></table></div>"
      ]
     },
     "metadata": {
      "application/vnd.databricks.v1+output": {
       "addedWidgets": {},
       "aggData": [],
       "aggError": "",
       "aggOverflow": false,
       "aggSchema": [],
       "aggSeriesLimitReached": false,
       "aggType": "",
       "arguments": {},
       "columnCustomDisplayInfos": {},
       "data": [
        [
         "Trainer A",
         5
        ],
        [
         "Trainer B",
         5
        ],
        [
         "Trainer C",
         5
        ]
       ],
       "datasetInfos": [],
       "dbfsResultPath": null,
       "isJsonSchema": true,
       "metadata": {},
       "overflow": false,
       "plotOptions": {
        "customPlotOptions": {},
        "displayType": "table",
        "pivotAggregation": null,
        "pivotColumns": null,
        "xColumns": null,
        "yColumns": null
       },
       "removedWidgets": [],
       "schema": [
        {
         "metadata": "{\"__CHAR_VARCHAR_TYPE_STRING\":\"varchar(50)\"}",
         "name": "trainer_name",
         "type": "\"string\""
        },
        {
         "metadata": "{\"__autoGeneratedAlias\":\"true\"}",
         "name": "count(trainer_name)",
         "type": "\"long\""
        }
       ],
       "type": "table"
      }
     },
     "output_type": "display_data"
    }
   ],
   "source": [
    "%sql\n",
    "select trainer_name , count(trainer_name) from training_data group by trainer_name having count(trainer_name) >3 order by trainer_name asc\n"
   ]
  },
  {
   "cell_type": "code",
   "execution_count": 0,
   "metadata": {
    "application/vnd.databricks.v1+cell": {
     "cellMetadata": {
      "byteLimit": 2048000,
      "implicitDf": true,
      "rowLimit": 10000
     },
     "inputWidgets": {},
     "nuid": "e03e7ef3-aad5-465d-81b8-845e09f3a664",
     "showTitle": false,
     "title": ""
    }
   },
   "outputs": [
    {
     "output_type": "display_data",
     "data": {
      "text/html": [
       "<style scoped>\n",
       "  .table-result-container {\n",
       "    max-height: 300px;\n",
       "    overflow: auto;\n",
       "  }\n",
       "  table, th, td {\n",
       "    border: 1px solid black;\n",
       "    border-collapse: collapse;\n",
       "  }\n",
       "  th, td {\n",
       "    padding: 5px;\n",
       "  }\n",
       "  th {\n",
       "    text-align: left;\n",
       "  }\n",
       "</style><div class='table-result-container'><table class='table-result'><thead style='background-color: white'><tr><th>count(1)</th></tr></thead><tbody><tr><td>15</td></tr></tbody></table></div>"
      ]
     },
     "metadata": {
      "application/vnd.databricks.v1+output": {
       "addedWidgets": {},
       "aggData": [],
       "aggError": "",
       "aggOverflow": false,
       "aggSchema": [],
       "aggSeriesLimitReached": false,
       "aggType": "",
       "arguments": {},
       "columnCustomDisplayInfos": {},
       "data": [
        [
         15
        ]
       ],
       "datasetInfos": [],
       "dbfsResultPath": null,
       "isJsonSchema": true,
       "metadata": {},
       "overflow": false,
       "plotOptions": {
        "customPlotOptions": {},
        "displayType": "table",
        "pivotAggregation": null,
        "pivotColumns": null,
        "xColumns": null,
        "yColumns": null
       },
       "removedWidgets": [],
       "schema": [
        {
         "metadata": "{\"__autoGeneratedAlias\":\"true\"}",
         "name": "count(1)",
         "type": "\"long\""
        }
       ],
       "type": "table"
      }
     },
     "output_type": "display_data"
    }
   ],
   "source": [
    "%sql\n",
    "SELECT COUNT(*) FROM training_data;\n",
    "\n",
    "\n"
   ]
  },
  {
   "cell_type": "code",
   "execution_count": 0,
   "metadata": {
    "application/vnd.databricks.v1+cell": {
     "cellMetadata": {
      "byteLimit": 2048000,
      "implicitDf": true,
      "rowLimit": 10000
     },
     "inputWidgets": {},
     "nuid": "2fb6e95d-ad16-401a-90fc-4b10e6b67510",
     "showTitle": false,
     "title": ""
    }
   },
   "outputs": [
    {
     "output_type": "display_data",
     "data": {
      "text/html": [
       "<style scoped>\n",
       "  .table-result-container {\n",
       "    max-height: 300px;\n",
       "    overflow: auto;\n",
       "  }\n",
       "  table, th, td {\n",
       "    border: 1px solid black;\n",
       "    border-collapse: collapse;\n",
       "  }\n",
       "  th, td {\n",
       "    padding: 5px;\n",
       "  }\n",
       "  th {\n",
       "    text-align: left;\n",
       "  }\n",
       "</style><div class='table-result-container'><table class='table-result'><thead style='background-color: white'><tr><th>sum(training_session_duration_hours)</th></tr></thead><tbody><tr><td>33.50</td></tr></tbody></table></div>"
      ]
     },
     "metadata": {
      "application/vnd.databricks.v1+output": {
       "addedWidgets": {},
       "aggData": [],
       "aggError": "",
       "aggOverflow": false,
       "aggSchema": [],
       "aggSeriesLimitReached": false,
       "aggType": "",
       "arguments": {},
       "columnCustomDisplayInfos": {},
       "data": [
        [
         "33.50"
        ]
       ],
       "datasetInfos": [],
       "dbfsResultPath": null,
       "isJsonSchema": true,
       "metadata": {},
       "overflow": false,
       "plotOptions": {
        "customPlotOptions": {},
        "displayType": "table",
        "pivotAggregation": null,
        "pivotColumns": null,
        "xColumns": null,
        "yColumns": null
       },
       "removedWidgets": [],
       "schema": [
        {
         "metadata": "{\"__autoGeneratedAlias\":\"true\"}",
         "name": "sum(training_session_duration_hours)",
         "type": "\"decimal(15,2)\""
        }
       ],
       "type": "table"
      }
     },
     "output_type": "display_data"
    }
   ],
   "source": [
    "%sql\n",
    "SELECT SUM(training_session_duration_hours) FROM training_data;"
   ]
  },
  {
   "cell_type": "code",
   "execution_count": 0,
   "metadata": {
    "application/vnd.databricks.v1+cell": {
     "cellMetadata": {
      "byteLimit": 2048000,
      "implicitDf": true,
      "rowLimit": 10000
     },
     "inputWidgets": {},
     "nuid": "fab6c463-a7a1-4729-9c33-97b83f7e8d90",
     "showTitle": false,
     "title": ""
    }
   },
   "outputs": [
    {
     "output_type": "display_data",
     "data": {
      "text/html": [
       "<style scoped>\n",
       "  .table-result-container {\n",
       "    max-height: 300px;\n",
       "    overflow: auto;\n",
       "  }\n",
       "  table, th, td {\n",
       "    border: 1px solid black;\n",
       "    border-collapse: collapse;\n",
       "  }\n",
       "  th, td {\n",
       "    padding: 5px;\n",
       "  }\n",
       "  th {\n",
       "    text-align: left;\n",
       "  }\n",
       "</style><div class='table-result-container'><table class='table-result'><thead style='background-color: white'><tr><th>trainer_name</th><th>count(1)</th></tr></thead><tbody><tr><td>Trainer C</td><td>5</td></tr><tr><td>Trainer A</td><td>5</td></tr><tr><td>Trainer B</td><td>5</td></tr></tbody></table></div>"
      ]
     },
     "metadata": {
      "application/vnd.databricks.v1+output": {
       "addedWidgets": {},
       "aggData": [],
       "aggError": "",
       "aggOverflow": false,
       "aggSchema": [],
       "aggSeriesLimitReached": false,
       "aggType": "",
       "arguments": {},
       "columnCustomDisplayInfos": {},
       "data": [
        [
         "Trainer C",
         5
        ],
        [
         "Trainer A",
         5
        ],
        [
         "Trainer B",
         5
        ]
       ],
       "datasetInfos": [],
       "dbfsResultPath": null,
       "isJsonSchema": true,
       "metadata": {},
       "overflow": false,
       "plotOptions": {
        "customPlotOptions": {},
        "displayType": "table",
        "pivotAggregation": null,
        "pivotColumns": null,
        "xColumns": null,
        "yColumns": null
       },
       "removedWidgets": [],
       "schema": [
        {
         "metadata": "{\"__CHAR_VARCHAR_TYPE_STRING\":\"varchar(50)\"}",
         "name": "trainer_name",
         "type": "\"string\""
        },
        {
         "metadata": "{\"__autoGeneratedAlias\":\"true\"}",
         "name": "count(1)",
         "type": "\"long\""
        }
       ],
       "type": "table"
      }
     },
     "output_type": "display_data"
    }
   ],
   "source": [
    "%sql\n",
    "select trainer_name,count(*) from training_data GROUP BY trainer_name;"
   ]
  },
  {
   "cell_type": "code",
   "execution_count": 0,
   "metadata": {
    "application/vnd.databricks.v1+cell": {
     "cellMetadata": {
      "byteLimit": 2048000,
      "implicitDf": true,
      "rowLimit": 10000
     },
     "inputWidgets": {},
     "nuid": "516e6eaf-d1bf-4487-8e23-c9cf371e61cd",
     "showTitle": false,
     "title": ""
    }
   },
   "outputs": [
    {
     "output_type": "display_data",
     "data": {
      "text/html": [
       "<style scoped>\n",
       "  .table-result-container {\n",
       "    max-height: 300px;\n",
       "    overflow: auto;\n",
       "  }\n",
       "  table, th, td {\n",
       "    border: 1px solid black;\n",
       "    border-collapse: collapse;\n",
       "  }\n",
       "  th, td {\n",
       "    padding: 5px;\n",
       "  }\n",
       "  th {\n",
       "    text-align: left;\n",
       "  }\n",
       "</style><div class='table-result-container'><table class='table-result'><thead style='background-color: white'><tr><th>trainer_name</th><th>participant_id</th><th>sum(training_session_duration_hours)</th><th>avg(training_session_duration_hours)</th></tr></thead><tbody><tr><td>Trainer C</td><td>1</td><td>2.50</td><td>2.500000</td></tr><tr><td>Trainer A</td><td>2</td><td>3.00</td><td>3.000000</td></tr><tr><td>Trainer B</td><td>6</td><td>3.50</td><td>3.500000</td></tr><tr><td>Trainer C</td><td>4</td><td>1.50</td><td>1.500000</td></tr><tr><td>Trainer B</td><td>9</td><td>1.50</td><td>1.500000</td></tr><tr><td>Trainer A</td><td>5</td><td>2.00</td><td>2.000000</td></tr><tr><td>Trainer A</td><td>14</td><td>2.00</td><td>2.000000</td></tr><tr><td>Trainer A</td><td>11</td><td>3.00</td><td>3.000000</td></tr><tr><td>Trainer B</td><td>15</td><td>2.50</td><td>2.500000</td></tr><tr><td>Trainer B</td><td>3</td><td>2.00</td><td>2.000000</td></tr><tr><td>Trainer C</td><td>7</td><td>2.00</td><td>2.000000</td></tr><tr><td>Trainer C</td><td>13</td><td>1.00</td><td>1.000000</td></tr><tr><td>Trainer B</td><td>12</td><td>2.50</td><td>2.500000</td></tr><tr><td>Trainer C</td><td>10</td><td>2.00</td><td>2.000000</td></tr><tr><td>Trainer A</td><td>8</td><td>2.50</td><td>2.500000</td></tr></tbody></table></div>"
      ]
     },
     "metadata": {
      "application/vnd.databricks.v1+output": {
       "addedWidgets": {},
       "aggData": [],
       "aggError": "",
       "aggOverflow": false,
       "aggSchema": [],
       "aggSeriesLimitReached": false,
       "aggType": "",
       "arguments": {},
       "columnCustomDisplayInfos": {},
       "data": [
        [
         "Trainer C",
         1,
         "2.50",
         "2.500000"
        ],
        [
         "Trainer A",
         2,
         "3.00",
         "3.000000"
        ],
        [
         "Trainer B",
         6,
         "3.50",
         "3.500000"
        ],
        [
         "Trainer C",
         4,
         "1.50",
         "1.500000"
        ],
        [
         "Trainer B",
         9,
         "1.50",
         "1.500000"
        ],
        [
         "Trainer A",
         5,
         "2.00",
         "2.000000"
        ],
        [
         "Trainer A",
         14,
         "2.00",
         "2.000000"
        ],
        [
         "Trainer A",
         11,
         "3.00",
         "3.000000"
        ],
        [
         "Trainer B",
         15,
         "2.50",
         "2.500000"
        ],
        [
         "Trainer B",
         3,
         "2.00",
         "2.000000"
        ],
        [
         "Trainer C",
         7,
         "2.00",
         "2.000000"
        ],
        [
         "Trainer C",
         13,
         "1.00",
         "1.000000"
        ],
        [
         "Trainer B",
         12,
         "2.50",
         "2.500000"
        ],
        [
         "Trainer C",
         10,
         "2.00",
         "2.000000"
        ],
        [
         "Trainer A",
         8,
         "2.50",
         "2.500000"
        ]
       ],
       "datasetInfos": [],
       "dbfsResultPath": null,
       "isJsonSchema": true,
       "metadata": {},
       "overflow": false,
       "plotOptions": {
        "customPlotOptions": {},
        "displayType": "table",
        "pivotAggregation": null,
        "pivotColumns": null,
        "xColumns": null,
        "yColumns": null
       },
       "removedWidgets": [],
       "schema": [
        {
         "metadata": "{\"__CHAR_VARCHAR_TYPE_STRING\":\"varchar(50)\"}",
         "name": "trainer_name",
         "type": "\"string\""
        },
        {
         "metadata": "{}",
         "name": "participant_id",
         "type": "\"integer\""
        },
        {
         "metadata": "{\"__autoGeneratedAlias\":\"true\"}",
         "name": "sum(training_session_duration_hours)",
         "type": "\"decimal(15,2)\""
        },
        {
         "metadata": "{\"__autoGeneratedAlias\":\"true\"}",
         "name": "avg(training_session_duration_hours)",
         "type": "\"decimal(9,6)\""
        }
       ],
       "type": "table"
      }
     },
     "output_type": "display_data"
    }
   ],
   "source": [
    "%sql\n",
    "select trainer_name,participant_id,sum(training_session_duration_hours),avg(training_session_duration_hours) from training_data group by 1,2"
   ]
  },
  {
   "cell_type": "code",
   "execution_count": 0,
   "metadata": {
    "application/vnd.databricks.v1+cell": {
     "cellMetadata": {
      "byteLimit": 2048000,
      "implicitDf": true,
      "rowLimit": 10000
     },
     "inputWidgets": {},
     "nuid": "5395208c-3941-4811-a53d-3441abbd5854",
     "showTitle": false,
     "title": ""
    }
   },
   "outputs": [
    {
     "output_type": "display_data",
     "data": {
      "text/html": [
       "<style scoped>\n",
       "  .table-result-container {\n",
       "    max-height: 300px;\n",
       "    overflow: auto;\n",
       "  }\n",
       "  table, th, td {\n",
       "    border: 1px solid black;\n",
       "    border-collapse: collapse;\n",
       "  }\n",
       "  th, td {\n",
       "    padding: 5px;\n",
       "  }\n",
       "  th {\n",
       "    text-align: left;\n",
       "  }\n",
       "</style><div class='table-result-container'><table class='table-result'><thead style='background-color: white'><tr><th>trainer_name</th><th>av</th></tr></thead><tbody><tr><td>Trainer A</td><td>2.500000</td></tr><tr><td>Trainer B</td><td>2.400000</td></tr></tbody></table></div>"
      ]
     },
     "metadata": {
      "application/vnd.databricks.v1+output": {
       "addedWidgets": {},
       "aggData": [],
       "aggError": "",
       "aggOverflow": false,
       "aggSchema": [],
       "aggSeriesLimitReached": false,
       "aggType": "",
       "arguments": {},
       "columnCustomDisplayInfos": {},
       "data": [
        [
         "Trainer A",
         "2.500000"
        ],
        [
         "Trainer B",
         "2.400000"
        ]
       ],
       "datasetInfos": [],
       "dbfsResultPath": null,
       "isJsonSchema": true,
       "metadata": {},
       "overflow": false,
       "plotOptions": {
        "customPlotOptions": {},
        "displayType": "table",
        "pivotAggregation": null,
        "pivotColumns": null,
        "xColumns": null,
        "yColumns": null
       },
       "removedWidgets": [],
       "schema": [
        {
         "metadata": "{\"__CHAR_VARCHAR_TYPE_STRING\":\"varchar(50)\"}",
         "name": "trainer_name",
         "type": "\"string\""
        },
        {
         "metadata": "{}",
         "name": "av",
         "type": "\"decimal(9,6)\""
        }
       ],
       "type": "table"
      }
     },
     "output_type": "display_data"
    }
   ],
   "source": [
    "%sql\n",
    "select trainer_name , avg(training_session_duration_hours) as av from training_data\n",
    " group by trainer_name\n",
    " having av >2"
   ]
  },
  {
   "cell_type": "code",
   "execution_count": 0,
   "metadata": {
    "application/vnd.databricks.v1+cell": {
     "cellMetadata": {
      "byteLimit": 2048000,
      "implicitDf": true,
      "rowLimit": 10000
     },
     "inputWidgets": {},
     "nuid": "6e047c33-0a06-42c0-b3a6-1c4fe3757caf",
     "showTitle": false,
     "title": ""
    }
   },
   "outputs": [
    {
     "output_type": "display_data",
     "data": {
      "text/html": [
       "<style scoped>\n",
       "  .table-result-container {\n",
       "    max-height: 300px;\n",
       "    overflow: auto;\n",
       "  }\n",
       "  table, th, td {\n",
       "    border: 1px solid black;\n",
       "    border-collapse: collapse;\n",
       "  }\n",
       "  th, td {\n",
       "    padding: 5px;\n",
       "  }\n",
       "  th {\n",
       "    text-align: left;\n",
       "  }\n",
       "</style><div class='table-result-container'><table class='table-result'><thead style='background-color: white'><tr><th>trainer_name</th><th>training_session_duration_hours</th></tr></thead><tbody><tr><td>Trainer B</td><td>3.50</td></tr></tbody></table></div>"
      ]
     },
     "metadata": {
      "application/vnd.databricks.v1+output": {
       "addedWidgets": {},
       "aggData": [],
       "aggError": "",
       "aggOverflow": false,
       "aggSchema": [],
       "aggSeriesLimitReached": false,
       "aggType": "",
       "arguments": {},
       "columnCustomDisplayInfos": {},
       "data": [
        [
         "Trainer B",
         "3.50"
        ]
       ],
       "datasetInfos": [],
       "dbfsResultPath": null,
       "isJsonSchema": true,
       "metadata": {},
       "overflow": false,
       "plotOptions": {
        "customPlotOptions": {},
        "displayType": "table",
        "pivotAggregation": null,
        "pivotColumns": null,
        "xColumns": null,
        "yColumns": null
       },
       "removedWidgets": [],
       "schema": [
        {
         "metadata": "{\"__CHAR_VARCHAR_TYPE_STRING\":\"varchar(50)\"}",
         "name": "trainer_name",
         "type": "\"string\""
        },
        {
         "metadata": "{}",
         "name": "training_session_duration_hours",
         "type": "\"decimal(5,2)\""
        }
       ],
       "type": "table"
      }
     },
     "output_type": "display_data"
    }
   ],
   "source": [
    "%sql\n",
    "select trainer_name,training_session_duration_hours from training_data where training_session_duration_hours = (select max(training_session_duration_hours) from training_data)"
   ]
  },
  {
   "cell_type": "code",
   "execution_count": 0,
   "metadata": {
    "application/vnd.databricks.v1+cell": {
     "cellMetadata": {
      "byteLimit": 2048000,
      "implicitDf": true,
      "rowLimit": 10000
     },
     "inputWidgets": {},
     "nuid": "345a8c41-26ce-4cb6-ba93-170697b3359a",
     "showTitle": false,
     "title": ""
    }
   },
   "outputs": [
    {
     "output_type": "display_data",
     "data": {
      "text/html": [
       "<style scoped>\n",
       "  .table-result-container {\n",
       "    max-height: 300px;\n",
       "    overflow: auto;\n",
       "  }\n",
       "  table, th, td {\n",
       "    border: 1px solid black;\n",
       "    border-collapse: collapse;\n",
       "  }\n",
       "  th, td {\n",
       "    padding: 5px;\n",
       "  }\n",
       "  th {\n",
       "    text-align: left;\n",
       "  }\n",
       "</style><div class='table-result-container'><table class='table-result'><thead style='background-color: white'><tr><th>trainer_name</th><th>avg(training_session_duration_hours)</th></tr></thead><tbody><tr><td>Trainer C</td><td>1.800000</td></tr><tr><td>Trainer A</td><td>2.500000</td></tr><tr><td>Trainer B</td><td>2.400000</td></tr></tbody></table></div>"
      ]
     },
     "metadata": {
      "application/vnd.databricks.v1+output": {
       "addedWidgets": {},
       "aggData": [],
       "aggError": "",
       "aggOverflow": false,
       "aggSchema": [],
       "aggSeriesLimitReached": false,
       "aggType": "",
       "arguments": {},
       "columnCustomDisplayInfos": {},
       "data": [
        [
         "Trainer C",
         "1.800000"
        ],
        [
         "Trainer A",
         "2.500000"
        ],
        [
         "Trainer B",
         "2.400000"
        ]
       ],
       "datasetInfos": [],
       "dbfsResultPath": null,
       "isJsonSchema": true,
       "metadata": {},
       "overflow": false,
       "plotOptions": {
        "customPlotOptions": {},
        "displayType": "table",
        "pivotAggregation": null,
        "pivotColumns": null,
        "xColumns": null,
        "yColumns": null
       },
       "removedWidgets": [],
       "schema": [
        {
         "metadata": "{\"__CHAR_VARCHAR_TYPE_STRING\":\"varchar(50)\"}",
         "name": "trainer_name",
         "type": "\"string\""
        },
        {
         "metadata": "{\"__autoGeneratedAlias\":\"true\"}",
         "name": "avg(training_session_duration_hours)",
         "type": "\"decimal(9,6)\""
        }
       ],
       "type": "table"
      }
     },
     "output_type": "display_data"
    }
   ],
   "source": [
    "%sql\n",
    "\n",
    "select trainer_name ,avg(training_session_duration_hours) from training_data group by trainer_name;"
   ]
  },
  {
   "cell_type": "code",
   "execution_count": 0,
   "metadata": {
    "application/vnd.databricks.v1+cell": {
     "cellMetadata": {},
     "inputWidgets": {},
     "nuid": "ab5e6f59-9c27-47ca-8f7f-c1a21ea5e076",
     "showTitle": false,
     "title": ""
    }
   },
   "outputs": [],
   "source": []
  }
 ],
 "metadata": {
  "application/vnd.databricks.v1+notebook": {
   "dashboards": [],
   "language": "python",
   "notebookMetadata": {
    "mostRecentlyExecutedCommandWithImplicitDF": {
     "commandId": 4090026368007455,
     "dataframes": [
      "_sqldf"
     ]
    },
    "pythonIndentUnit": 4
   },
   "notebookName": "Aggregate function",
   "widgets": {}
  }
 },
 "nbformat": 4,
 "nbformat_minor": 0
}
