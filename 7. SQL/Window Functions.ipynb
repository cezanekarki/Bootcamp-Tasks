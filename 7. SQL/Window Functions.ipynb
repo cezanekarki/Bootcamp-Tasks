{
 "cells": [
  {
   "cell_type": "markdown",
   "metadata": {
    "application/vnd.databricks.v1+cell": {
     "cellMetadata": {},
     "inputWidgets": {},
     "nuid": "96816ed7-b08a-4ca3-abb9-f99880c3535d",
     "showTitle": false,
     "title": ""
    }
   },
   "source": [
    "\n",
    "## Overview\n",
    "\n",
    "This notebook will show you how to create and query a table or DataFrame that you uploaded to DBFS. [DBFS](https://docs.databricks.com/user-guide/dbfs-databricks-file-system.html) is a Databricks File System that allows you to store data for querying inside of Databricks. This notebook assumes that you have a file already inside of DBFS that you would like to read from.\n",
    "\n",
    "This notebook is written in **Python** so the default cell type is Python. However, you can use different languages by using the `%LANGUAGE` syntax. Python, Scala, SQL, and R are all supported."
   ]
  },
  {
   "cell_type": "code",
   "execution_count": 0,
   "metadata": {
    "application/vnd.databricks.v1+cell": {
     "cellMetadata": {
      "byteLimit": 2048000,
      "implicitDf": true,
      "rowLimit": 10000
     },
     "inputWidgets": {},
     "nuid": "6482be4c-f067-47c9-b0ac-35c938b94601",
     "showTitle": false,
     "title": ""
    }
   },
   "outputs": [
    {
     "output_type": "display_data",
     "data": {
      "text/html": [
       "<style scoped>\n",
       "  .table-result-container {\n",
       "    max-height: 300px;\n",
       "    overflow: auto;\n",
       "  }\n",
       "  table, th, td {\n",
       "    border: 1px solid black;\n",
       "    border-collapse: collapse;\n",
       "  }\n",
       "  th, td {\n",
       "    padding: 5px;\n",
       "  }\n",
       "  th {\n",
       "    text-align: left;\n",
       "  }\n",
       "</style><div class='table-result-container'><table class='table-result'><thead style='background-color: white'><tr><th>num_affected_rows</th><th>num_inserted_rows</th></tr></thead><tbody><tr><td>8</td><td>8</td></tr></tbody></table></div>"
      ]
     },
     "metadata": {
      "application/vnd.databricks.v1+output": {
       "addedWidgets": {},
       "aggData": [],
       "aggError": "",
       "aggOverflow": false,
       "aggSchema": [],
       "aggSeriesLimitReached": false,
       "aggType": "",
       "arguments": {},
       "columnCustomDisplayInfos": {},
       "data": [
        [
         8,
         8
        ]
       ],
       "datasetInfos": [],
       "dbfsResultPath": null,
       "isJsonSchema": true,
       "metadata": {},
       "overflow": false,
       "plotOptions": {
        "customPlotOptions": {},
        "displayType": "table",
        "pivotAggregation": null,
        "pivotColumns": null,
        "xColumns": null,
        "yColumns": null
       },
       "removedWidgets": [],
       "schema": [
        {
         "metadata": "{}",
         "name": "num_affected_rows",
         "type": "\"long\""
        },
        {
         "metadata": "{}",
         "name": "num_inserted_rows",
         "type": "\"long\""
        }
       ],
       "type": "table"
      }
     },
     "output_type": "display_data"
    }
   ],
   "source": [
    "%sql\n",
    "CREATE or replace TABLE employee_data (\n",
    "    employee_id INT ,\n",
    "    department_id INT,\n",
    "    position VARCHAR(50),\n",
    "    salary INT,\n",
    "    tenure_months INT,\n",
    "    job_experience_years INT\n",
    ");\n",
    "\n",
    "INSERT INTO employee_data VALUES\n",
    "(1, 101, 'Software Engineer', 90000, 24, 2),\n",
    "(2, 102, 'Data Analyst', 60000, 18, 1),\n",
    "(3, 101, 'Project Manager', 90000, 36, 5),\n",
    "(4, 103, 'UX Designer', 75000, 27, 3),\n",
    "(5, 102, 'Business Analyst', 70000, 22, 2),\n",
    "(6, 101, 'Software Engineer', 80000, 30, 4),\n",
    "(7, 103, 'Product Manager', 95000, 42, 7),\n",
    "(8, 102, 'Data Scientist', 100000, 48, 8);"
   ]
  },
  {
   "cell_type": "code",
   "execution_count": 0,
   "metadata": {
    "application/vnd.databricks.v1+cell": {
     "cellMetadata": {
      "byteLimit": 2048000,
      "implicitDf": true,
      "rowLimit": 10000
     },
     "inputWidgets": {},
     "nuid": "dfc95de2-8624-469e-9c28-da20c9a89459",
     "showTitle": false,
     "title": ""
    }
   },
   "outputs": [
    {
     "output_type": "display_data",
     "data": {
      "text/html": [
       "<style scoped>\n",
       "  .table-result-container {\n",
       "    max-height: 300px;\n",
       "    overflow: auto;\n",
       "  }\n",
       "  table, th, td {\n",
       "    border: 1px solid black;\n",
       "    border-collapse: collapse;\n",
       "  }\n",
       "  th, td {\n",
       "    padding: 5px;\n",
       "  }\n",
       "  th {\n",
       "    text-align: left;\n",
       "  }\n",
       "</style><div class='table-result-container'><table class='table-result'><thead style='background-color: white'><tr><th>employee_id</th><th>department_id</th><th>position</th><th>salary</th><th>tenure_months</th><th>job_experience_years</th></tr></thead><tbody><tr><td>1</td><td>101</td><td>Software Engineer</td><td>90000</td><td>24</td><td>2</td></tr><tr><td>2</td><td>102</td><td>Data Analyst</td><td>60000</td><td>18</td><td>1</td></tr><tr><td>3</td><td>101</td><td>Project Manager</td><td>90000</td><td>36</td><td>5</td></tr><tr><td>4</td><td>103</td><td>UX Designer</td><td>75000</td><td>27</td><td>3</td></tr><tr><td>5</td><td>102</td><td>Business Analyst</td><td>70000</td><td>22</td><td>2</td></tr><tr><td>6</td><td>101</td><td>Software Engineer</td><td>80000</td><td>30</td><td>4</td></tr><tr><td>7</td><td>103</td><td>Product Manager</td><td>95000</td><td>42</td><td>7</td></tr><tr><td>8</td><td>102</td><td>Data Scientist</td><td>100000</td><td>48</td><td>8</td></tr></tbody></table></div>"
      ]
     },
     "metadata": {
      "application/vnd.databricks.v1+output": {
       "addedWidgets": {},
       "aggData": [],
       "aggError": "",
       "aggOverflow": false,
       "aggSchema": [],
       "aggSeriesLimitReached": false,
       "aggType": "",
       "arguments": {},
       "columnCustomDisplayInfos": {},
       "data": [
        [
         1,
         101,
         "Software Engineer",
         90000,
         24,
         2
        ],
        [
         2,
         102,
         "Data Analyst",
         60000,
         18,
         1
        ],
        [
         3,
         101,
         "Project Manager",
         90000,
         36,
         5
        ],
        [
         4,
         103,
         "UX Designer",
         75000,
         27,
         3
        ],
        [
         5,
         102,
         "Business Analyst",
         70000,
         22,
         2
        ],
        [
         6,
         101,
         "Software Engineer",
         80000,
         30,
         4
        ],
        [
         7,
         103,
         "Product Manager",
         95000,
         42,
         7
        ],
        [
         8,
         102,
         "Data Scientist",
         100000,
         48,
         8
        ]
       ],
       "datasetInfos": [],
       "dbfsResultPath": null,
       "isJsonSchema": true,
       "metadata": {},
       "overflow": false,
       "plotOptions": {
        "customPlotOptions": {},
        "displayType": "table",
        "pivotAggregation": null,
        "pivotColumns": null,
        "xColumns": null,
        "yColumns": null
       },
       "removedWidgets": [],
       "schema": [
        {
         "metadata": "{}",
         "name": "employee_id",
         "type": "\"integer\""
        },
        {
         "metadata": "{}",
         "name": "department_id",
         "type": "\"integer\""
        },
        {
         "metadata": "{\"__CHAR_VARCHAR_TYPE_STRING\":\"varchar(50)\"}",
         "name": "position",
         "type": "\"string\""
        },
        {
         "metadata": "{}",
         "name": "salary",
         "type": "\"integer\""
        },
        {
         "metadata": "{}",
         "name": "tenure_months",
         "type": "\"integer\""
        },
        {
         "metadata": "{}",
         "name": "job_experience_years",
         "type": "\"integer\""
        }
       ],
       "type": "table"
      }
     },
     "output_type": "display_data"
    }
   ],
   "source": [
    "%sql\n",
    "select * from employee_data\n"
   ]
  },
  {
   "cell_type": "code",
   "execution_count": 0,
   "metadata": {
    "application/vnd.databricks.v1+cell": {
     "cellMetadata": {
      "byteLimit": 2048000,
      "implicitDf": true,
      "rowLimit": 10000
     },
     "inputWidgets": {},
     "nuid": "32a5ce6b-2f05-499e-b244-8a650e6d9581",
     "showTitle": false,
     "title": ""
    }
   },
   "outputs": [
    {
     "output_type": "display_data",
     "data": {
      "text/html": [
       "<style scoped>\n",
       "  .table-result-container {\n",
       "    max-height: 300px;\n",
       "    overflow: auto;\n",
       "  }\n",
       "  table, th, td {\n",
       "    border: 1px solid black;\n",
       "    border-collapse: collapse;\n",
       "  }\n",
       "  th, td {\n",
       "    padding: 5px;\n",
       "  }\n",
       "  th {\n",
       "    text-align: left;\n",
       "  }\n",
       "</style><div class='table-result-container'><table class='table-result'><thead style='background-color: white'><tr><th>employee_id</th><th>department_id</th><th>position</th><th>salary</th><th>tenure_months</th><th>row_num</th></tr></thead><tbody><tr><td>1</td><td>101</td><td>Software Engineer</td><td>90000</td><td>24</td><td>1</td></tr><tr><td>3</td><td>101</td><td>Project Manager</td><td>90000</td><td>36</td><td>1</td></tr><tr><td>6</td><td>101</td><td>Software Engineer</td><td>80000</td><td>30</td><td>3</td></tr><tr><td>8</td><td>102</td><td>Data Scientist</td><td>100000</td><td>48</td><td>1</td></tr><tr><td>5</td><td>102</td><td>Business Analyst</td><td>70000</td><td>22</td><td>2</td></tr><tr><td>2</td><td>102</td><td>Data Analyst</td><td>60000</td><td>18</td><td>3</td></tr><tr><td>7</td><td>103</td><td>Product Manager</td><td>95000</td><td>42</td><td>1</td></tr><tr><td>4</td><td>103</td><td>UX Designer</td><td>75000</td><td>27</td><td>2</td></tr></tbody></table></div>"
      ]
     },
     "metadata": {
      "application/vnd.databricks.v1+output": {
       "addedWidgets": {},
       "aggData": [],
       "aggError": "",
       "aggOverflow": false,
       "aggSchema": [],
       "aggSeriesLimitReached": false,
       "aggType": "",
       "arguments": {},
       "columnCustomDisplayInfos": {},
       "data": [
        [
         1,
         101,
         "Software Engineer",
         90000,
         24,
         1
        ],
        [
         3,
         101,
         "Project Manager",
         90000,
         36,
         1
        ],
        [
         6,
         101,
         "Software Engineer",
         80000,
         30,
         3
        ],
        [
         8,
         102,
         "Data Scientist",
         100000,
         48,
         1
        ],
        [
         5,
         102,
         "Business Analyst",
         70000,
         22,
         2
        ],
        [
         2,
         102,
         "Data Analyst",
         60000,
         18,
         3
        ],
        [
         7,
         103,
         "Product Manager",
         95000,
         42,
         1
        ],
        [
         4,
         103,
         "UX Designer",
         75000,
         27,
         2
        ]
       ],
       "datasetInfos": [],
       "dbfsResultPath": null,
       "isJsonSchema": true,
       "metadata": {},
       "overflow": false,
       "plotOptions": {
        "customPlotOptions": {},
        "displayType": "table",
        "pivotAggregation": null,
        "pivotColumns": null,
        "xColumns": null,
        "yColumns": null
       },
       "removedWidgets": [],
       "schema": [
        {
         "metadata": "{}",
         "name": "employee_id",
         "type": "\"integer\""
        },
        {
         "metadata": "{}",
         "name": "department_id",
         "type": "\"integer\""
        },
        {
         "metadata": "{\"__CHAR_VARCHAR_TYPE_STRING\":\"varchar(50)\"}",
         "name": "position",
         "type": "\"string\""
        },
        {
         "metadata": "{}",
         "name": "salary",
         "type": "\"integer\""
        },
        {
         "metadata": "{}",
         "name": "tenure_months",
         "type": "\"integer\""
        },
        {
         "metadata": "{}",
         "name": "row_num",
         "type": "\"integer\""
        }
       ],
       "type": "table"
      }
     },
     "output_type": "display_data"
    }
   ],
   "source": [
    "%sql\n",
    "select employee_id,department_id,position,salary,tenure_months,\n",
    "    ROW_NUMBER() OVER(partition by department_id order by salary desc) as row_num\n",
    "    from employee_data;"
   ]
  },
  {
   "cell_type": "code",
   "execution_count": 0,
   "metadata": {
    "application/vnd.databricks.v1+cell": {
     "cellMetadata": {
      "byteLimit": 2048000,
      "implicitDf": true,
      "rowLimit": 10000
     },
     "inputWidgets": {},
     "nuid": "dac44013-1bce-46b0-a07e-c937344143d8",
     "showTitle": false,
     "title": ""
    }
   },
   "outputs": [
    {
     "output_type": "display_data",
     "data": {
      "text/html": [
       "<style scoped>\n",
       "  .table-result-container {\n",
       "    max-height: 300px;\n",
       "    overflow: auto;\n",
       "  }\n",
       "  table, th, td {\n",
       "    border: 1px solid black;\n",
       "    border-collapse: collapse;\n",
       "  }\n",
       "  th, td {\n",
       "    padding: 5px;\n",
       "  }\n",
       "  th {\n",
       "    text-align: left;\n",
       "  }\n",
       "</style><div class='table-result-container'><table class='table-result'><thead style='background-color: white'><tr><th>employee_id</th><th>department_id</th><th>position</th><th>salary</th><th>tenure_months</th><th>row_num</th></tr></thead><tbody><tr><td>1</td><td>101</td><td>Software Engineer</td><td>90000</td><td>24</td><td>1</td></tr><tr><td>3</td><td>101</td><td>Project Manager</td><td>90000</td><td>36</td><td>1</td></tr><tr><td>6</td><td>101</td><td>Software Engineer</td><td>80000</td><td>30</td><td>3</td></tr><tr><td>8</td><td>102</td><td>Data Scientist</td><td>100000</td><td>48</td><td>1</td></tr><tr><td>5</td><td>102</td><td>Business Analyst</td><td>70000</td><td>22</td><td>2</td></tr><tr><td>2</td><td>102</td><td>Data Analyst</td><td>60000</td><td>18</td><td>3</td></tr><tr><td>7</td><td>103</td><td>Product Manager</td><td>95000</td><td>42</td><td>1</td></tr><tr><td>4</td><td>103</td><td>UX Designer</td><td>75000</td><td>27</td><td>2</td></tr></tbody></table></div>"
      ]
     },
     "metadata": {
      "application/vnd.databricks.v1+output": {
       "addedWidgets": {},
       "aggData": [],
       "aggError": "",
       "aggOverflow": false,
       "aggSchema": [],
       "aggSeriesLimitReached": false,
       "aggType": "",
       "arguments": {},
       "columnCustomDisplayInfos": {},
       "data": [
        [
         1,
         101,
         "Software Engineer",
         90000,
         24,
         1
        ],
        [
         3,
         101,
         "Project Manager",
         90000,
         36,
         1
        ],
        [
         6,
         101,
         "Software Engineer",
         80000,
         30,
         3
        ],
        [
         8,
         102,
         "Data Scientist",
         100000,
         48,
         1
        ],
        [
         5,
         102,
         "Business Analyst",
         70000,
         22,
         2
        ],
        [
         2,
         102,
         "Data Analyst",
         60000,
         18,
         3
        ],
        [
         7,
         103,
         "Product Manager",
         95000,
         42,
         1
        ],
        [
         4,
         103,
         "UX Designer",
         75000,
         27,
         2
        ]
       ],
       "datasetInfos": [],
       "dbfsResultPath": null,
       "isJsonSchema": true,
       "metadata": {},
       "overflow": false,
       "plotOptions": {
        "customPlotOptions": {},
        "displayType": "table",
        "pivotAggregation": null,
        "pivotColumns": null,
        "xColumns": null,
        "yColumns": null
       },
       "removedWidgets": [],
       "schema": [
        {
         "metadata": "{}",
         "name": "employee_id",
         "type": "\"integer\""
        },
        {
         "metadata": "{}",
         "name": "department_id",
         "type": "\"integer\""
        },
        {
         "metadata": "{\"__CHAR_VARCHAR_TYPE_STRING\":\"varchar(50)\"}",
         "name": "position",
         "type": "\"string\""
        },
        {
         "metadata": "{}",
         "name": "salary",
         "type": "\"integer\""
        },
        {
         "metadata": "{}",
         "name": "tenure_months",
         "type": "\"integer\""
        },
        {
         "metadata": "{}",
         "name": "row_num",
         "type": "\"integer\""
        }
       ],
       "type": "table"
      }
     },
     "output_type": "display_data"
    }
   ],
   "source": [
    "%sql\n",
    "select employee_id,department_id,position,salary,tenure_months,\n",
    "    Rank() OVER(partition by department_id order by salary desc) as row_num\n",
    "    from employee_data;"
   ]
  },
  {
   "cell_type": "code",
   "execution_count": 0,
   "metadata": {
    "application/vnd.databricks.v1+cell": {
     "cellMetadata": {
      "byteLimit": 2048000,
      "implicitDf": true,
      "rowLimit": 10000
     },
     "inputWidgets": {},
     "nuid": "e742fdb5-2f52-499b-aeb5-0794ca589f81",
     "showTitle": false,
     "title": ""
    }
   },
   "outputs": [
    {
     "output_type": "display_data",
     "data": {
      "text/html": [
       "<style scoped>\n",
       "  .table-result-container {\n",
       "    max-height: 300px;\n",
       "    overflow: auto;\n",
       "  }\n",
       "  table, th, td {\n",
       "    border: 1px solid black;\n",
       "    border-collapse: collapse;\n",
       "  }\n",
       "  th, td {\n",
       "    padding: 5px;\n",
       "  }\n",
       "  th {\n",
       "    text-align: left;\n",
       "  }\n",
       "</style><div class='table-result-container'><table class='table-result'><thead style='background-color: white'><tr><th>employee_id</th><th>department_id</th><th>position</th><th>salary</th><th>tenure_months</th><th>row_num</th></tr></thead><tbody><tr><td>1</td><td>101</td><td>Software Engineer</td><td>90000</td><td>24</td><td>1</td></tr><tr><td>3</td><td>101</td><td>Project Manager</td><td>90000</td><td>36</td><td>1</td></tr><tr><td>6</td><td>101</td><td>Software Engineer</td><td>80000</td><td>30</td><td>2</td></tr><tr><td>8</td><td>102</td><td>Data Scientist</td><td>100000</td><td>48</td><td>1</td></tr><tr><td>5</td><td>102</td><td>Business Analyst</td><td>70000</td><td>22</td><td>2</td></tr><tr><td>2</td><td>102</td><td>Data Analyst</td><td>60000</td><td>18</td><td>3</td></tr><tr><td>7</td><td>103</td><td>Product Manager</td><td>95000</td><td>42</td><td>1</td></tr><tr><td>4</td><td>103</td><td>UX Designer</td><td>75000</td><td>27</td><td>2</td></tr></tbody></table></div>"
      ]
     },
     "metadata": {
      "application/vnd.databricks.v1+output": {
       "addedWidgets": {},
       "aggData": [],
       "aggError": "",
       "aggOverflow": false,
       "aggSchema": [],
       "aggSeriesLimitReached": false,
       "aggType": "",
       "arguments": {},
       "columnCustomDisplayInfos": {},
       "data": [
        [
         1,
         101,
         "Software Engineer",
         90000,
         24,
         1
        ],
        [
         3,
         101,
         "Project Manager",
         90000,
         36,
         1
        ],
        [
         6,
         101,
         "Software Engineer",
         80000,
         30,
         2
        ],
        [
         8,
         102,
         "Data Scientist",
         100000,
         48,
         1
        ],
        [
         5,
         102,
         "Business Analyst",
         70000,
         22,
         2
        ],
        [
         2,
         102,
         "Data Analyst",
         60000,
         18,
         3
        ],
        [
         7,
         103,
         "Product Manager",
         95000,
         42,
         1
        ],
        [
         4,
         103,
         "UX Designer",
         75000,
         27,
         2
        ]
       ],
       "datasetInfos": [],
       "dbfsResultPath": null,
       "isJsonSchema": true,
       "metadata": {},
       "overflow": false,
       "plotOptions": {
        "customPlotOptions": {},
        "displayType": "table",
        "pivotAggregation": null,
        "pivotColumns": null,
        "xColumns": null,
        "yColumns": null
       },
       "removedWidgets": [],
       "schema": [
        {
         "metadata": "{}",
         "name": "employee_id",
         "type": "\"integer\""
        },
        {
         "metadata": "{}",
         "name": "department_id",
         "type": "\"integer\""
        },
        {
         "metadata": "{\"__CHAR_VARCHAR_TYPE_STRING\":\"varchar(50)\"}",
         "name": "position",
         "type": "\"string\""
        },
        {
         "metadata": "{}",
         "name": "salary",
         "type": "\"integer\""
        },
        {
         "metadata": "{}",
         "name": "tenure_months",
         "type": "\"integer\""
        },
        {
         "metadata": "{}",
         "name": "row_num",
         "type": "\"integer\""
        }
       ],
       "type": "table"
      }
     },
     "output_type": "display_data"
    }
   ],
   "source": [
    "%sql\n",
    "select employee_id,department_id,position,salary,tenure_months,\n",
    "    dense_rank() OVER(partition by department_id order by salary desc) as row_num\n",
    "    from employee_data;"
   ]
  }
 ],
 "metadata": {
  "application/vnd.databricks.v1+notebook": {
   "dashboards": [],
   "language": "python",
   "notebookMetadata": {
    "mostRecentlyExecutedCommandWithImplicitDF": {
     "commandId": 1871431773761875,
     "dataframes": [
      "_sqldf"
     ]
    },
    "pythonIndentUnit": 4
   },
   "notebookName": "Window Functions",
   "widgets": {}
  }
 },
 "nbformat": 4,
 "nbformat_minor": 0
}
