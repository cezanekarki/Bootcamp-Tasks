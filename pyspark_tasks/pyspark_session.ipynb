{
 "cells": [
  {
   "cell_type": "code",
   "execution_count": 0,
   "metadata": {
    "application/vnd.databricks.v1+cell": {
     "cellMetadata": {
      "byteLimit": 2048000,
      "rowLimit": 10000
     },
     "inputWidgets": {},
     "nuid": "0131e59a-e3c1-4f16-9f85-e870acdaa610",
     "showTitle": false,
     "title": ""
    }
   },
   "outputs": [
    {
     "output_type": "display_data",
     "data": {
      "text/html": [
       "\n",
       "            <div>\n",
       "                <p><b>SparkSession - hive</b></p>\n",
       "                \n",
       "        <div>\n",
       "            <p><b>SparkContext</b></p>\n",
       "\n",
       "            <p><a href=\"/?o=1677813168652968#setting/sparkui/0213-045355-sgzyvsqv/driver-1674077796103409660\">Spark UI</a></p>\n",
       "\n",
       "            <dl>\n",
       "              <dt>Version</dt>\n",
       "                <dd><code>v3.3.2</code></dd>\n",
       "              <dt>Master</dt>\n",
       "                <dd><code>local[8]</code></dd>\n",
       "              <dt>AppName</dt>\n",
       "                <dd><code>Databricks Shell</code></dd>\n",
       "            </dl>\n",
       "        </div>\n",
       "        \n",
       "            </div>\n",
       "        "
      ]
     },
     "metadata": {
      "application/vnd.databricks.v1+output": {
       "addedWidgets": {},
       "arguments": {},
       "data": "\n            <div>\n                <p><b>SparkSession - hive</b></p>\n                \n        <div>\n            <p><b>SparkContext</b></p>\n\n            <p><a href=\"/?o=1677813168652968#setting/sparkui/0213-045355-sgzyvsqv/driver-1674077796103409660\">Spark UI</a></p>\n\n            <dl>\n              <dt>Version</dt>\n                <dd><code>v3.3.2</code></dd>\n              <dt>Master</dt>\n                <dd><code>local[8]</code></dd>\n              <dt>AppName</dt>\n                <dd><code>Databricks Shell</code></dd>\n            </dl>\n        </div>\n        \n            </div>\n        ",
       "datasetInfos": [],
       "metadata": {},
       "removedWidgets": [],
       "textData": null,
       "type": "htmlSandbox"
      }
     },
     "output_type": "display_data"
    }
   ],
   "source": [
    "from pyspark.sql import SparkSession\n",
    "spark = SparkSession.builder.getOrCreate()\n",
    "spark"
   ]
  },
  {
   "cell_type": "code",
   "execution_count": 0,
   "metadata": {
    "application/vnd.databricks.v1+cell": {
     "cellMetadata": {
      "byteLimit": 2048000,
      "rowLimit": 10000
     },
     "inputWidgets": {},
     "nuid": "925931e3-90d4-435c-9bf0-b5982b556ba4",
     "showTitle": false,
     "title": ""
    }
   },
   "outputs": [],
   "source": []
  },
  {
   "cell_type": "code",
   "execution_count": 0,
   "metadata": {
    "application/vnd.databricks.v1+cell": {
     "cellMetadata": {
      "byteLimit": 2048000,
      "rowLimit": 10000
     },
     "inputWidgets": {},
     "nuid": "5e042304-94cb-46a0-960b-d93bf1b410e1",
     "showTitle": false,
     "title": ""
    }
   },
   "outputs": [
    {
     "output_type": "display_data",
     "data": {
      "text/html": [
       "<style scoped>\n",
       "  .table-result-container {\n",
       "    max-height: 300px;\n",
       "    overflow: auto;\n",
       "  }\n",
       "  table, th, td {\n",
       "    border: 1px solid black;\n",
       "    border-collapse: collapse;\n",
       "  }\n",
       "  th, td {\n",
       "    padding: 5px;\n",
       "  }\n",
       "  th {\n",
       "    text-align: left;\n",
       "  }\n",
       "</style><div class='table-result-container'><table class='table-result'><thead style='background-color: white'><tr><th>path</th><th>name</th><th>size</th><th>modificationTime</th></tr></thead><tbody><tr><td>dbfs:/FileStore/tables/parquet/reference.parquet</td><td>reference.parquet</td><td>515</td><td>1707461332000</td></tr></tbody></table></div>"
      ]
     },
     "metadata": {
      "application/vnd.databricks.v1+output": {
       "addedWidgets": {},
       "aggData": [],
       "aggError": "",
       "aggOverflow": false,
       "aggSchema": [],
       "aggSeriesLimitReached": false,
       "aggType": "",
       "arguments": {},
       "columnCustomDisplayInfos": {},
       "data": [
        [
         "dbfs:/FileStore/tables/parquet/reference.parquet",
         "reference.parquet",
         515,
         1707461332000
        ]
       ],
       "datasetInfos": [],
       "dbfsResultPath": null,
       "isJsonSchema": true,
       "metadata": {
        "isDbfsCommandResult": false
       },
       "overflow": false,
       "plotOptions": {
        "customPlotOptions": {},
        "displayType": "table",
        "pivotAggregation": null,
        "pivotColumns": null,
        "xColumns": null,
        "yColumns": null
       },
       "removedWidgets": [],
       "schema": [
        {
         "metadata": "{}",
         "name": "path",
         "type": "\"string\""
        },
        {
         "metadata": "{}",
         "name": "name",
         "type": "\"string\""
        },
        {
         "metadata": "{}",
         "name": "size",
         "type": "\"long\""
        },
        {
         "metadata": "{}",
         "name": "modificationTime",
         "type": "\"long\""
        }
       ],
       "type": "table"
      }
     },
     "output_type": "display_data"
    }
   ],
   "source": [
    "%fs ls dbfs:///FileStore/tables/parquet"
   ]
  },
  {
   "cell_type": "code",
   "execution_count": 0,
   "metadata": {
    "application/vnd.databricks.v1+cell": {
     "cellMetadata": {
      "byteLimit": 2048000,
      "rowLimit": 10000
     },
     "inputWidgets": {},
     "nuid": "e2df5a98-a570-4226-abdf-eea32bf78e81",
     "showTitle": false,
     "title": ""
    }
   },
   "outputs": [],
   "source": [
    "df_csv = spark.read.format(\"csv\").load(\"dbfs:/FileStore/tables/csv/batch.csv\")"
   ]
  },
  {
   "cell_type": "code",
   "execution_count": 0,
   "metadata": {
    "application/vnd.databricks.v1+cell": {
     "cellMetadata": {
      "byteLimit": 2048000,
      "rowLimit": 10000
     },
     "inputWidgets": {},
     "nuid": "ce1c70ce-4bac-48a7-b341-e52e505277d7",
     "showTitle": false,
     "title": ""
    }
   },
   "outputs": [
    {
     "output_type": "stream",
     "name": "stdout",
     "output_type": "stream",
     "text": [
      "+---+-----+----------+----+------+----------+\n| id| name|       dob| age|salary|department|\n+---+-----+----------+----+------+----------+\n|  1| John|1992-05-12|  30| 70000|        IT|\n|  2|Alice|1997-02-28|  25| 60000|        HR|\n|  3|  Bob|      null|null| 80000|        IT|\n|  4|Emily|1994-11-22|  28| 65000|   Finance|\n+---+-----+----------+----+------+----------+\n\n"
     ]
    }
   ],
   "source": [
    "df_csv = spark.read.format(\"csv\").option(\"header\", \"true\").load(\"dbfs:/FileStore/tables/csv/batch.csv\")\n",
    "df_csv.show()"
   ]
  },
  {
   "cell_type": "code",
   "execution_count": 0,
   "metadata": {
    "application/vnd.databricks.v1+cell": {
     "cellMetadata": {
      "byteLimit": 2048000,
      "rowLimit": 10000
     },
     "inputWidgets": {},
     "nuid": "8c9fd12b-9b7c-4bcf-8eb4-b25fa69f506a",
     "showTitle": false,
     "title": ""
    }
   },
   "outputs": [
    {
     "output_type": "stream",
     "name": "stdout",
     "output_type": "stream",
     "text": [
      "root\n |-- id: string (nullable = true)\n |-- name: string (nullable = true)\n |-- dob: string (nullable = true)\n |-- age: string (nullable = true)\n |-- salary: string (nullable = true)\n |-- department: string (nullable = true)\n\n"
     ]
    }
   ],
   "source": [
    "df_csv.printSchema()"
   ]
  },
  {
   "cell_type": "code",
   "execution_count": 0,
   "metadata": {
    "application/vnd.databricks.v1+cell": {
     "cellMetadata": {
      "byteLimit": 2048000,
      "rowLimit": 10000
     },
     "inputWidgets": {},
     "nuid": "8df340e9-b089-4a10-aab5-2e3a7871f446",
     "showTitle": false,
     "title": ""
    }
   },
   "outputs": [],
   "source": [
    "from pyspark.sql.types import StructType, StructField, IntegerType, DateType, StringType"
   ]
  },
  {
   "cell_type": "code",
   "execution_count": 0,
   "metadata": {
    "application/vnd.databricks.v1+cell": {
     "cellMetadata": {
      "byteLimit": 2048000,
      "rowLimit": 10000
     },
     "inputWidgets": {},
     "nuid": "93d47ec8-6afd-42cc-a8cf-bc0d16d5458c",
     "showTitle": false,
     "title": ""
    }
   },
   "outputs": [],
   "source": [
    "sch = StructType([\n",
    "    StructField(\"id\", IntegerType()),\n",
    "    StructField(\"name\", StringType()),\n",
    "    StructField(\"dob\", DateType()),\n",
    "    StructField(\"age\", IntegerType()),\n",
    "    StructField(\"salary\", IntegerType()),\n",
    "    StructField(\"department\", StringType()),\n",
    "])"
   ]
  },
  {
   "cell_type": "code",
   "execution_count": 0,
   "metadata": {
    "application/vnd.databricks.v1+cell": {
     "cellMetadata": {
      "byteLimit": 2048000,
      "rowLimit": 10000
     },
     "inputWidgets": {},
     "nuid": "acba7700-1600-403e-b00c-592d424f67d3",
     "showTitle": false,
     "title": ""
    }
   },
   "outputs": [],
   "source": [
    "df_csv = spark.read.format(\"csv\").schema(sch).option(\"header\", True).load(\"dbfs:////FileStore/tables/csv/batch.csv\")"
   ]
  },
  {
   "cell_type": "code",
   "execution_count": 0,
   "metadata": {
    "application/vnd.databricks.v1+cell": {
     "cellMetadata": {
      "byteLimit": 2048000,
      "rowLimit": 10000
     },
     "inputWidgets": {},
     "nuid": "aeb66724-6223-49cc-9805-43c92ed6ef6c",
     "showTitle": false,
     "title": ""
    }
   },
   "outputs": [
    {
     "output_type": "stream",
     "name": "stdout",
     "output_type": "stream",
     "text": [
      "root\n |-- id: integer (nullable = true)\n |-- name: string (nullable = true)\n |-- dob: date (nullable = true)\n |-- age: integer (nullable = true)\n |-- salary: integer (nullable = true)\n |-- department: string (nullable = true)\n\n"
     ]
    }
   ],
   "source": [
    "df_csv.printSchema()"
   ]
  },
  {
   "cell_type": "code",
   "execution_count": 0,
   "metadata": {
    "application/vnd.databricks.v1+cell": {
     "cellMetadata": {
      "byteLimit": 2048000,
      "rowLimit": 10000
     },
     "inputWidgets": {},
     "nuid": "841b20b9-bb0f-47e0-ba7b-c5d122bdd841",
     "showTitle": false,
     "title": ""
    }
   },
   "outputs": [],
   "source": []
  },
  {
   "cell_type": "code",
   "execution_count": 0,
   "metadata": {
    "application/vnd.databricks.v1+cell": {
     "cellMetadata": {
      "byteLimit": 2048000,
      "rowLimit": 10000
     },
     "inputWidgets": {},
     "nuid": "6dd36336-f114-49da-8081-de9031a253f3",
     "showTitle": false,
     "title": ""
    }
   },
   "outputs": [
    {
     "output_type": "stream",
     "name": "stdout",
     "output_type": "stream",
     "text": [
      "+----+----------+----------+---+------+------+\n| age|department|       dob| id|  name|salary|\n+----+----------+----------+---+------+------+\n|  30|        IT|1992-05-12|  1|  John| 70000|\n|  25|        HR|1997-02-28|  2| Alice| 60000|\n|null|        IT|      null|  3|   Bob| 80000|\n|  28|   Finance|1994-11-22|  4| Emily| 65000|\n|  41|        HR|1981-12-18|  5| David| 90000|\n|  33|   Finance|1989-07-05|  6| Susan| 75000|\n|  46|        IT|1976-03-15|  7|  Mike| 95000|\n|  30|   Finance|1992-06-30| 10|Sophie| 62000|\n|  25|   Finance|1997-02-28|  2| Alice| 90000|\n|  28|   Finance|1994-11-22|  4| Emily| 70000|\n|  39|        IT|1983-10-14|  9| James| 87000|\n|  30|        IT|1992-05-12|  1|  John| 70000|\n|  27|        HR|1995-08-20|  8|  Lisa| 58000|\n+----+----------+----------+---+------+------+\n\n"
     ]
    }
   ],
   "source": [
    "df_json = spark.read.format(\"json\").load(\"dbfs:/FileStore/tables/json\")\n",
    "df_json.show()"
   ]
  },
  {
   "cell_type": "code",
   "execution_count": 0,
   "metadata": {
    "application/vnd.databricks.v1+cell": {
     "cellMetadata": {
      "byteLimit": 2048000,
      "rowLimit": 10000
     },
     "inputWidgets": {},
     "nuid": "00a01609-d7f9-4707-a294-b11ed55c418b",
     "showTitle": false,
     "title": ""
    }
   },
   "outputs": [
    {
     "output_type": "stream",
     "name": "stdout",
     "output_type": "stream",
     "text": [
      "root\n |-- age: long (nullable = true)\n |-- department: string (nullable = true)\n |-- dob: string (nullable = true)\n |-- id: long (nullable = true)\n |-- name: string (nullable = true)\n |-- salary: long (nullable = true)\n\n"
     ]
    }
   ],
   "source": [
    "df_json.printSchema()"
   ]
  },
  {
   "cell_type": "code",
   "execution_count": 0,
   "metadata": {
    "application/vnd.databricks.v1+cell": {
     "cellMetadata": {
      "byteLimit": 2048000,
      "rowLimit": 10000
     },
     "inputWidgets": {},
     "nuid": "6b9cecdc-0bf9-4a21-9841-41e6befbcb1e",
     "showTitle": false,
     "title": ""
    }
   },
   "outputs": [
    {
     "output_type": "stream",
     "name": "stdout",
     "output_type": "stream",
     "text": [
      "+----+----------+----------+---+------+------+\n| age|department|       dob| id|  name|salary|\n+----+----------+----------+---+------+------+\n|  30|        IT|1992-05-12|  1|  John| 70000|\n|  30|        IT|1992-05-12|  1|  John| 70000|\n|  25|   Finance|1997-02-28|  2| Alice| 90000|\n|  25|        HR|1997-02-28|  2| Alice| 60000|\n|null|        IT|      null|  3|   Bob| 80000|\n|  28|   Finance|1994-11-22|  4| Emily| 70000|\n|  28|   Finance|1994-11-22|  4| Emily| 65000|\n|  41|        HR|1981-12-18|  5| David| 90000|\n|  33|   Finance|1989-07-05|  6| Susan| 75000|\n|  46|        IT|1976-03-15|  7|  Mike| 95000|\n|  27|        HR|1995-08-20|  8|  Lisa| 58000|\n|  39|        IT|1983-10-14|  9| James| 87000|\n|  30|   Finance|1992-06-30| 10|Sophie| 62000|\n+----+----------+----------+---+------+------+\n\n"
     ]
    }
   ],
   "source": [
    "df_json = df_json.orderBy(\"id\")\n",
    "df_json.show()"
   ]
  },
  {
   "cell_type": "code",
   "execution_count": 0,
   "metadata": {
    "application/vnd.databricks.v1+cell": {
     "cellMetadata": {
      "byteLimit": 2048000,
      "rowLimit": 10000
     },
     "inputWidgets": {},
     "nuid": "9633269f-ff1e-4f99-8f7c-d07094287b3e",
     "showTitle": false,
     "title": ""
    }
   },
   "outputs": [],
   "source": []
  },
  {
   "cell_type": "code",
   "execution_count": 0,
   "metadata": {
    "application/vnd.databricks.v1+cell": {
     "cellMetadata": {
      "byteLimit": 2048000,
      "rowLimit": 10000
     },
     "inputWidgets": {},
     "nuid": "90cf20d3-2df7-4085-a1f2-f205539f8e48",
     "showTitle": false,
     "title": ""
    }
   },
   "outputs": [],
   "source": [
    "df_json = df_json.select(df_csv.columns)"
   ]
  },
  {
   "cell_type": "code",
   "execution_count": 0,
   "metadata": {
    "application/vnd.databricks.v1+cell": {
     "cellMetadata": {
      "byteLimit": 2048000,
      "rowLimit": 10000
     },
     "inputWidgets": {},
     "nuid": "51228aeb-a0d7-4e62-9e05-59f56bb9d7e1",
     "showTitle": false,
     "title": ""
    }
   },
   "outputs": [
    {
     "output_type": "stream",
     "name": "stdout",
     "output_type": "stream",
     "text": [
      "+---+------+----------+----+------+----------+\n| id|  name|       dob| age|salary|department|\n+---+------+----------+----+------+----------+\n|  1|  John|1992-05-12|  30| 70000|        IT|\n|  2| Alice|1997-02-28|  25| 60000|        HR|\n|  3|   Bob|      null|null| 80000|        IT|\n|  4| Emily|1994-11-22|  28| 65000|   Finance|\n|  1|  John|1992-05-12|  30| 70000|        IT|\n|  1|  John|1992-05-12|  30| 70000|        IT|\n|  2| Alice|1997-02-28|  25| 60000|        HR|\n|  2| Alice|1997-02-28|  25| 90000|   Finance|\n|  3|   Bob|      null|null| 80000|        IT|\n|  4| Emily|1994-11-22|  28| 65000|   Finance|\n|  4| Emily|1994-11-22|  28| 70000|   Finance|\n|  5| David|1981-12-18|  41| 90000|        HR|\n|  6| Susan|1989-07-05|  33| 75000|   Finance|\n|  7|  Mike|1976-03-15|  46| 95000|        IT|\n|  8|  Lisa|1995-08-20|  27| 58000|        HR|\n|  9| James|1983-10-14|  39| 87000|        IT|\n| 10|Sophie|1992-06-30|  30| 62000|   Finance|\n+---+------+----------+----+------+----------+\n\n"
     ]
    }
   ],
   "source": [
    "df = df_csv.union(df_json)\n",
    "df.show()"
   ]
  },
  {
   "cell_type": "code",
   "execution_count": 0,
   "metadata": {
    "application/vnd.databricks.v1+cell": {
     "cellMetadata": {
      "byteLimit": 2048000,
      "rowLimit": 10000
     },
     "inputWidgets": {},
     "nuid": "179d32cc-bf32-496e-bffd-4c96aa62d54f",
     "showTitle": false,
     "title": ""
    }
   },
   "outputs": [
    {
     "output_type": "stream",
     "name": "stdout",
     "output_type": "stream",
     "text": [
      "['id', 'name', 'dob', 'age', 'salary', 'department'] ['id', 'name', 'dob', 'age', 'salary', 'department']\n"
     ]
    }
   ],
   "source": [
    "print(df_csv.columns, df_json.columns)"
   ]
  },
  {
   "cell_type": "code",
   "execution_count": 0,
   "metadata": {
    "application/vnd.databricks.v1+cell": {
     "cellMetadata": {
      "byteLimit": 2048000,
      "rowLimit": 10000
     },
     "inputWidgets": {},
     "nuid": "8ca8eb5e-a000-4659-8f5d-20fdf3da5fb0",
     "showTitle": false,
     "title": ""
    }
   },
   "outputs": [],
   "source": []
  },
  {
   "cell_type": "code",
   "execution_count": 0,
   "metadata": {
    "application/vnd.databricks.v1+cell": {
     "cellMetadata": {
      "byteLimit": 2048000,
      "rowLimit": 10000
     },
     "inputWidgets": {},
     "nuid": "13a49873-9cc3-4f7e-9087-1e35a0d9f4c9",
     "showTitle": false,
     "title": ""
    }
   },
   "outputs": [
    {
     "output_type": "stream",
     "name": "stdout",
     "output_type": "stream",
     "text": [
      "root\n |-- id: integer (nullable = true)\n |-- name: string (nullable = true)\n |-- dob: date (nullable = true)\n |-- age: integer (nullable = true)\n |-- salary: integer (nullable = true)\n |-- department: string (nullable = true)\n\n"
     ]
    }
   ],
   "source": [
    "df_csv.printSchema()"
   ]
  },
  {
   "cell_type": "code",
   "execution_count": 0,
   "metadata": {
    "application/vnd.databricks.v1+cell": {
     "cellMetadata": {
      "byteLimit": 2048000,
      "rowLimit": 10000
     },
     "inputWidgets": {},
     "nuid": "e5f1b8b9-6fcc-444d-8eaf-e3c5b0e4e60c",
     "showTitle": false,
     "title": ""
    }
   },
   "outputs": [],
   "source": [
    "df_json = spark.read.format(\"json\").schema(sch).load(\"dbfs:///FileStore/tables/json\")"
   ]
  },
  {
   "cell_type": "code",
   "execution_count": 0,
   "metadata": {
    "application/vnd.databricks.v1+cell": {
     "cellMetadata": {
      "byteLimit": 2048000,
      "rowLimit": 10000
     },
     "inputWidgets": {},
     "nuid": "49019851-c792-4654-826a-6cffa5da97f1",
     "showTitle": false,
     "title": ""
    }
   },
   "outputs": [
    {
     "output_type": "stream",
     "name": "stdout",
     "output_type": "stream",
     "text": [
      "+---+------+----------+----+------+----------+\n| id|  name|       dob| age|salary|department|\n+---+------+----------+----+------+----------+\n|  1|  John|1992-05-12|  30| 70000|        IT|\n|  2| Alice|1997-02-28|  25| 60000|        HR|\n|  3|   Bob|      null|null| 80000|        IT|\n|  4| Emily|1994-11-22|  28| 65000|   Finance|\n|  5| David|1981-12-18|  41| 90000|        HR|\n|  6| Susan|1989-07-05|  33| 75000|   Finance|\n|  7|  Mike|1976-03-15|  46| 95000|        IT|\n| 10|Sophie|1992-06-30|  30| 62000|   Finance|\n|  2| Alice|1997-02-28|  25| 90000|   Finance|\n|  4| Emily|1994-11-22|  28| 70000|   Finance|\n|  9| James|1983-10-14|  39| 87000|        IT|\n|  1|  John|1992-05-12|  30| 70000|        IT|\n|  8|  Lisa|1995-08-20|  27| 58000|        HR|\n+---+------+----------+----+------+----------+\n\n"
     ]
    }
   ],
   "source": [
    "df_json.show()"
   ]
  },
  {
   "cell_type": "code",
   "execution_count": 0,
   "metadata": {
    "application/vnd.databricks.v1+cell": {
     "cellMetadata": {
      "byteLimit": 2048000,
      "rowLimit": 10000
     },
     "inputWidgets": {},
     "nuid": "f53ea198-7ea2-41a2-ab3d-9d1bf24bf81c",
     "showTitle": false,
     "title": ""
    }
   },
   "outputs": [],
   "source": [
    "df = df_json.dropDuplicates()"
   ]
  },
  {
   "cell_type": "code",
   "execution_count": 0,
   "metadata": {
    "application/vnd.databricks.v1+cell": {
     "cellMetadata": {
      "byteLimit": 2048000,
      "rowLimit": 10000
     },
     "inputWidgets": {},
     "nuid": "8c559e58-6333-4a56-b1a5-786cddbfe239",
     "showTitle": false,
     "title": ""
    }
   },
   "outputs": [
    {
     "output_type": "stream",
     "name": "stdout",
     "output_type": "stream",
     "text": [
      "+---+------+----------+----+------+----------+\n| id|  name|       dob| age|salary|department|\n+---+------+----------+----+------+----------+\n|  5| David|1981-12-18|  41| 90000|        HR|\n|  3|   Bob|      null|null| 80000|        IT|\n|  4| Emily|1994-11-22|  28| 65000|   Finance|\n|  2| Alice|1997-02-28|  25| 60000|        HR|\n|  1|  John|1992-05-12|  30| 70000|        IT|\n|  6| Susan|1989-07-05|  33| 75000|   Finance|\n|  7|  Mike|1976-03-15|  46| 95000|        IT|\n| 10|Sophie|1992-06-30|  30| 62000|   Finance|\n|  2| Alice|1997-02-28|  25| 90000|   Finance|\n|  4| Emily|1994-11-22|  28| 70000|   Finance|\n|  9| James|1983-10-14|  39| 87000|        IT|\n|  8|  Lisa|1995-08-20|  27| 58000|        HR|\n+---+------+----------+----+------+----------+\n\n"
     ]
    }
   ],
   "source": [
    "df.show()"
   ]
  },
  {
   "cell_type": "code",
   "execution_count": 0,
   "metadata": {
    "application/vnd.databricks.v1+cell": {
     "cellMetadata": {
      "byteLimit": 2048000,
      "rowLimit": 10000
     },
     "inputWidgets": {},
     "nuid": "254fdd6a-093e-4747-b174-9e35c50333c6",
     "showTitle": false,
     "title": ""
    }
   },
   "outputs": [
    {
     "output_type": "stream",
     "name": "stdout",
     "output_type": "stream",
     "text": [
      "Out[373]: 12"
     ]
    }
   ],
   "source": [
    "df.count()"
   ]
  },
  {
   "cell_type": "code",
   "execution_count": 0,
   "metadata": {
    "application/vnd.databricks.v1+cell": {
     "cellMetadata": {
      "byteLimit": 2048000,
      "rowLimit": 10000
     },
     "inputWidgets": {},
     "nuid": "01713d4a-0bb7-4b49-8e2b-77dc87f1c73f",
     "showTitle": false,
     "title": ""
    }
   },
   "outputs": [
    {
     "output_type": "stream",
     "name": "stdout",
     "output_type": "stream",
     "text": [
      "+------+\n|salary|\n+------+\n| 90000|\n| 80000|\n| 65000|\n| 60000|\n| 70000|\n| 75000|\n| 95000|\n| 62000|\n| 90000|\n| 70000|\n| 87000|\n| 58000|\n+------+\n\n+------+\n|salary|\n+------+\n| 90000|\n| 80000|\n| 65000|\n| 60000|\n| 70000|\n| 75000|\n| 95000|\n| 62000|\n| 90000|\n| 70000|\n| 87000|\n| 58000|\n+------+\n\n+------+----+\n|salary| age|\n+------+----+\n| 90000|  41|\n| 80000|null|\n| 65000|  28|\n| 60000|  25|\n| 70000|  30|\n| 75000|  33|\n| 95000|  46|\n| 62000|  30|\n| 90000|  25|\n| 70000|  28|\n| 87000|  39|\n| 58000|  27|\n+------+----+\n\n"
     ]
    }
   ],
   "source": [
    "df.select(\n",
    "    ['salary']\n",
    ").show()\n",
    "df.select(\n",
    "    'salary'\n",
    ").show()\n",
    "df.select(\n",
    "    df.salary,\n",
    "    df.age\n",
    ").show()"
   ]
  },
  {
   "cell_type": "markdown",
   "metadata": {
    "application/vnd.databricks.v1+cell": {
     "cellMetadata": {
      "byteLimit": 2048000,
      "rowLimit": 10000
     },
     "inputWidgets": {},
     "nuid": "23726c9f-160f-418a-8325-76b87ec81869",
     "showTitle": false,
     "title": ""
    }
   },
   "source": [
    "unionall() returns duplicate values"
   ]
  },
  {
   "cell_type": "code",
   "execution_count": 0,
   "metadata": {
    "application/vnd.databricks.v1+cell": {
     "cellMetadata": {
      "byteLimit": 2048000,
      "rowLimit": 10000
     },
     "inputWidgets": {},
     "nuid": "ebfebe6b-5ee0-4cff-9972-62e4bb3b83a8",
     "showTitle": false,
     "title": ""
    }
   },
   "outputs": [],
   "source": [
    "from pyspark.sql import functions as F"
   ]
  },
  {
   "cell_type": "code",
   "execution_count": 0,
   "metadata": {
    "application/vnd.databricks.v1+cell": {
     "cellMetadata": {
      "byteLimit": 2048000,
      "rowLimit": 10000
     },
     "inputWidgets": {},
     "nuid": "22a3b5a9-2873-4ebf-a5b0-9d2dde1ac40e",
     "showTitle": false,
     "title": ""
    }
   },
   "outputs": [
    {
     "output_type": "stream",
     "name": "stdout",
     "output_type": "stream",
     "text": [
      "+---------------+----+----+\n|adjusted_salary|age1|age2|\n+---------------+----+----+\n|        94500.0|  43|  43|\n|        84000.0|null|null|\n|        68250.0|  30|  30|\n|        63000.0|  27|  27|\n|        73500.0|  32|  32|\n|        78750.0|  35|  35|\n|        99750.0|  48|  48|\n|        65100.0|  32|  32|\n|        94500.0|  27|  27|\n|        73500.0|  30|  30|\n|        91350.0|  41|  41|\n|        60900.0|  29|  29|\n+---------------+----+----+\n\n"
     ]
    }
   ],
   "source": [
    "df.select(\n",
    "    (df.salary + .05*df.salary).alias(\"adjusted_salary\"),\n",
    "    (F.year(F.current_timestamp()) - F.year(\"dob\")).alias(\"age1\"),\n",
    "    (F.year(F.current_timestamp()) - F.year(F.col(\"dob\"))).alias(\"age2\"),\n",
    ").show()"
   ]
  },
  {
   "cell_type": "code",
   "execution_count": 0,
   "metadata": {
    "application/vnd.databricks.v1+cell": {
     "cellMetadata": {
      "byteLimit": 2048000,
      "rowLimit": 10000
     },
     "inputWidgets": {},
     "nuid": "ad8e05b4-5865-440b-9ec3-ed4a190f66bc",
     "showTitle": false,
     "title": ""
    }
   },
   "outputs": [
    {
     "output_type": "stream",
     "name": "stdout",
     "output_type": "stream",
     "text": [
      "+---+------+----------+----+------+----------+\n| id|  name|       dob| age|salary|department|\n+---+------+----------+----+------+----------+\n|  5| David|1981-12-18|  41| 90000|        HR|\n|  3|   Bob|      null|null| 80000|        IT|\n|  4| Emily|1994-11-22|  28| 65000|   Finance|\n|  2| Alice|1997-02-28|  25| 60000|        HR|\n|  1|  John|1992-05-12|  30| 70000|        IT|\n|  6| Susan|1989-07-05|  33| 75000|   Finance|\n|  7|  Mike|1976-03-15|  46| 95000|        IT|\n| 10|Sophie|1992-06-30|  30| 62000|   Finance|\n|  2| Alice|1997-02-28|  25| 90000|   Finance|\n|  4| Emily|1994-11-22|  28| 70000|   Finance|\n|  9| James|1983-10-14|  39| 87000|        IT|\n|  8|  Lisa|1995-08-20|  27| 58000|        HR|\n+---+------+----------+----+------+----------+\n\n"
     ]
    }
   ],
   "source": [
    "df.show()"
   ]
  },
  {
   "cell_type": "code",
   "execution_count": 0,
   "metadata": {
    "application/vnd.databricks.v1+cell": {
     "cellMetadata": {
      "byteLimit": 2048000,
      "rowLimit": 10000
     },
     "inputWidgets": {},
     "nuid": "1beef371-1179-422f-8207-43f395de1fc0",
     "showTitle": false,
     "title": ""
    }
   },
   "outputs": [
    {
     "output_type": "stream",
     "name": "stdout",
     "output_type": "stream",
     "text": [
      "+---+------+----------+----+------+----------+\n| id|  name|       dob| age|salary|department|\n+---+------+----------+----+------+----------+\n|  5| David|1981-12-18|  41| 90000|        HR|\n|  3|   Bob|      null|null| 80000|        IT|\n|  4| Emily|1994-11-22|  28| 65000|   Finance|\n|  2| Alice|1997-02-28|  25| 60000|        HR|\n|  1|  John|1992-05-12|  30| 70000|        IT|\n|  6| Susan|1989-07-05|  33| 75000|   Finance|\n|  7|  Mike|1976-03-15|  46| 95000|        IT|\n| 10|Sophie|1992-06-30|  30| 62000|   Finance|\n|  2| Alice|1997-02-28|  25| 90000|   Finance|\n|  4| Emily|1994-11-22|  28| 70000|   Finance|\n|  9| James|1983-10-14|  39| 87000|        IT|\n|  8|  Lisa|1995-08-20|  27| 58000|        HR|\n+---+------+----------+----+------+----------+\n\n"
     ]
    }
   ],
   "source": [
    "df.show()"
   ]
  },
  {
   "cell_type": "code",
   "execution_count": 0,
   "metadata": {
    "application/vnd.databricks.v1+cell": {
     "cellMetadata": {
      "byteLimit": 2048000,
      "rowLimit": 10000
     },
     "inputWidgets": {},
     "nuid": "99b639b6-bd53-425b-80d6-b485464b7b63",
     "showTitle": false,
     "title": ""
    }
   },
   "outputs": [],
   "source": [
    "df = df.withColumn(\n",
    "    \"salary_raise\",\n",
    "    (F.col(\"salary\")+.05*F.col(\"salary\"))\n",
    ")"
   ]
  },
  {
   "cell_type": "code",
   "execution_count": 0,
   "metadata": {
    "application/vnd.databricks.v1+cell": {
     "cellMetadata": {
      "byteLimit": 2048000,
      "rowLimit": 10000
     },
     "inputWidgets": {},
     "nuid": "c121c829-3341-4c62-b957-4173fe76c7ef",
     "showTitle": false,
     "title": ""
    }
   },
   "outputs": [
    {
     "output_type": "stream",
     "name": "stdout",
     "output_type": "stream",
     "text": [
      "+---+------+----------+----+------+----------+------------+\n| id|  name|       dob| age|salary|department|salary_raise|\n+---+------+----------+----+------+----------+------------+\n|  5| David|1981-12-18|  41| 90000|        HR|     94500.0|\n|  3|   Bob|      null|null| 80000|        IT|     84000.0|\n|  4| Emily|1994-11-22|  28| 65000|   Finance|     68250.0|\n|  2| Alice|1997-02-28|  25| 60000|        HR|     63000.0|\n|  1|  John|1992-05-12|  30| 70000|        IT|     73500.0|\n|  6| Susan|1989-07-05|  33| 75000|   Finance|     78750.0|\n|  7|  Mike|1976-03-15|  46| 95000|        IT|     99750.0|\n| 10|Sophie|1992-06-30|  30| 62000|   Finance|     65100.0|\n|  2| Alice|1997-02-28|  25| 90000|   Finance|     94500.0|\n|  4| Emily|1994-11-22|  28| 70000|   Finance|     73500.0|\n|  9| James|1983-10-14|  39| 87000|        IT|     91350.0|\n|  8|  Lisa|1995-08-20|  27| 58000|        HR|     60900.0|\n+---+------+----------+----+------+----------+------------+\n\n"
     ]
    }
   ],
   "source": [
    "df.show()"
   ]
  },
  {
   "cell_type": "code",
   "execution_count": 0,
   "metadata": {
    "application/vnd.databricks.v1+cell": {
     "cellMetadata": {
      "byteLimit": 2048000,
      "rowLimit": 10000
     },
     "inputWidgets": {},
     "nuid": "b7f892f7-9fd6-41a3-9858-179cb89c8fd8",
     "showTitle": false,
     "title": ""
    }
   },
   "outputs": [],
   "source": [
    "# df.select(\n",
    "#     (F.expr(\"salary + 0.5 * salary\")).alias(\"salary_raise\"),\n",
    "#     (F.year(F.current_timestamp()) - F.year(\"dob\")),\n",
    "#     (F.year(F.current_timestamp()) - F.year(F.col(\"dob\"))),\n",
    "# )\n",
    "# df.show()"
   ]
  },
  {
   "cell_type": "code",
   "execution_count": 0,
   "metadata": {
    "application/vnd.databricks.v1+cell": {
     "cellMetadata": {
      "byteLimit": 2048000,
      "rowLimit": 10000
     },
     "inputWidgets": {},
     "nuid": "27e8a5c6-e4a9-4f93-8536-838a09084a31",
     "showTitle": false,
     "title": ""
    }
   },
   "outputs": [
    {
     "output_type": "stream",
     "name": "stdout",
     "output_type": "stream",
     "text": [
      "+---+------+----------+----+------+----------+------------+\n| id|  name|       dob| age|salary|department|salary_raise|\n+---+------+----------+----+------+----------+------------+\n|  5| David|1981-12-18|  41| 90000|        HR|     94500.0|\n|  3|   Bob|      null|null| 80000|        IT|     84000.0|\n|  4| Emily|1994-11-22|  28| 65000|   Finance|     68250.0|\n|  2| Alice|1997-02-28|  25| 60000|        HR|     63000.0|\n|  1|  John|1992-05-12|  30| 70000|        IT|     73500.0|\n|  6| Susan|1989-07-05|  33| 75000|   Finance|     78750.0|\n|  7|  Mike|1976-03-15|  46| 95000|        IT|     99750.0|\n| 10|Sophie|1992-06-30|  30| 62000|   Finance|     65100.0|\n|  2| Alice|1997-02-28|  25| 90000|   Finance|     94500.0|\n|  4| Emily|1994-11-22|  28| 70000|   Finance|     73500.0|\n|  9| James|1983-10-14|  39| 87000|        IT|     91350.0|\n|  8|  Lisa|1995-08-20|  27| 58000|        HR|     60900.0|\n+---+------+----------+----+------+----------+------------+\n\n"
     ]
    }
   ],
   "source": [
    "df =df.withColumn(\n",
    "    \"salary_raise\",\n",
    "    (F.col(\"salary\")+.05*F.col(\"salary\"))\n",
    ")\n",
    "df.show()"
   ]
  },
  {
   "cell_type": "code",
   "execution_count": 0,
   "metadata": {
    "application/vnd.databricks.v1+cell": {
     "cellMetadata": {
      "byteLimit": 2048000,
      "rowLimit": 10000
     },
     "inputWidgets": {},
     "nuid": "eacc5d79-269c-4f1a-8e7a-782f02688d56",
     "showTitle": false,
     "title": ""
    }
   },
   "outputs": [
    {
     "output_type": "stream",
     "name": "stdout",
     "output_type": "stream",
     "text": [
      "+---+------+----------+----+------+----------+------------+--------------------+\n| id|  name|       dob| age|salary|department|salary_raise|salary_rasie_10_perc|\n+---+------+----------+----+------+----------+------------+--------------------+\n|  5| David|1981-12-18|  41| 90000|        HR|     94500.0|             99000.0|\n|  3|   Bob|      null|null| 80000|        IT|     84000.0|             88000.0|\n|  4| Emily|1994-11-22|  28| 65000|   Finance|     68250.0|             71500.0|\n|  2| Alice|1997-02-28|  25| 60000|        HR|     63000.0|             66000.0|\n|  1|  John|1992-05-12|  30| 70000|        IT|     73500.0|             77000.0|\n|  6| Susan|1989-07-05|  33| 75000|   Finance|     78750.0|             82500.0|\n|  7|  Mike|1976-03-15|  46| 95000|        IT|     99750.0|            104500.0|\n| 10|Sophie|1992-06-30|  30| 62000|   Finance|     65100.0|             68200.0|\n|  2| Alice|1997-02-28|  25| 90000|   Finance|     94500.0|             99000.0|\n|  4| Emily|1994-11-22|  28| 70000|   Finance|     73500.0|             77000.0|\n|  9| James|1983-10-14|  39| 87000|        IT|     91350.0|             95700.0|\n|  8|  Lisa|1995-08-20|  27| 58000|        HR|     60900.0|             63800.0|\n+---+------+----------+----+------+----------+------------+--------------------+\n\n"
     ]
    }
   ],
   "source": [
    "df = df.withColumn(\n",
    "    \"salary_rasie_10_perc\",\n",
    "    (F.col(\"salary\")+.1*F.col(\"salary\"))\n",
    ")\n",
    "df.show()"
   ]
  },
  {
   "cell_type": "code",
   "execution_count": 0,
   "metadata": {
    "application/vnd.databricks.v1+cell": {
     "cellMetadata": {
      "byteLimit": 2048000,
      "rowLimit": 10000
     },
     "inputWidgets": {},
     "nuid": "500461f4-9e56-4a12-b0d1-73773174bbff",
     "showTitle": false,
     "title": ""
    }
   },
   "outputs": [],
   "source": [
    "df = df.withColumns(\n",
    "    {\n",
    "        \"salary_raise\": F.col(\"salary\")+0.5*F.col(\"Salary\")\n",
    "        # \"age\": F.year(F.current_timestamp())-F.year(F.col(\"dob\"))\n",
    "        \n",
    "    }\n",
    ")"
   ]
  },
  {
   "cell_type": "code",
   "execution_count": 0,
   "metadata": {
    "application/vnd.databricks.v1+cell": {
     "cellMetadata": {
      "byteLimit": 2048000,
      "rowLimit": 10000
     },
     "inputWidgets": {},
     "nuid": "1e11bb35-a452-4d4c-ab12-c3e1aa271a85",
     "showTitle": false,
     "title": ""
    }
   },
   "outputs": [
    {
     "output_type": "stream",
     "name": "stdout",
     "output_type": "stream",
     "text": [
      "+---+------+----------+----+------+----------+------------+--------------------+\n| id|  name|       dob| age|salary|department|salary_raise|salary_rasie_10_perc|\n+---+------+----------+----+------+----------+------------+--------------------+\n|  5| David|1981-12-18|  41| 90000|        HR|    135000.0|             99000.0|\n|  3|   Bob|      null|null| 80000|        IT|    120000.0|             88000.0|\n|  4| Emily|1994-11-22|  28| 65000|   Finance|     97500.0|             71500.0|\n|  2| Alice|1997-02-28|  25| 60000|        HR|     90000.0|             66000.0|\n|  1|  John|1992-05-12|  30| 70000|        IT|    105000.0|             77000.0|\n|  6| Susan|1989-07-05|  33| 75000|   Finance|    112500.0|             82500.0|\n|  7|  Mike|1976-03-15|  46| 95000|        IT|    142500.0|            104500.0|\n| 10|Sophie|1992-06-30|  30| 62000|   Finance|     93000.0|             68200.0|\n|  2| Alice|1997-02-28|  25| 90000|   Finance|    135000.0|             99000.0|\n|  4| Emily|1994-11-22|  28| 70000|   Finance|    105000.0|             77000.0|\n|  9| James|1983-10-14|  39| 87000|        IT|    130500.0|             95700.0|\n|  8|  Lisa|1995-08-20|  27| 58000|        HR|     87000.0|             63800.0|\n+---+------+----------+----+------+----------+------------+--------------------+\n\nOut[385]: DataFrame[id: int, name: string, dob: date, age: int, salary: int, department: string, salary_raise: double, salary_rasie_10_perc: double]"
     ]
    }
   ],
   "source": [
    "df.filter(\n",
    "    F.col(\"salary_raise\")>= 75000\n",
    ").show()\n",
    "\n",
    "df.where(\n",
    "    F.col(\"salary_raise\")>= 75000\n",
    ")"
   ]
  },
  {
   "cell_type": "code",
   "execution_count": 0,
   "metadata": {
    "application/vnd.databricks.v1+cell": {
     "cellMetadata": {
      "byteLimit": 2048000,
      "rowLimit": 10000
     },
     "inputWidgets": {},
     "nuid": "05d275a7-5fc3-4133-8acc-ad3cd0d2af60",
     "showTitle": false,
     "title": ""
    }
   },
   "outputs": [],
   "source": [
    "df = df.withColumn(\n",
    "    \"age_group\",\n",
    "    F.when(\n",
    "        F.col(\"age\")<= 20,\n",
    "        \"Upto 20\"\n",
    "    ).when(\n",
    "        (\n",
    "            (F.col(\"age\")> 20)&\n",
    "            (F.col(\"age\")<= 40)\n",
    "        ),\n",
    "        \"31 to 40\"\n",
    "    ).otherwise(\n",
    "        \"More than 40\"\n",
    "    )\n",
    ")"
   ]
  },
  {
   "cell_type": "code",
   "execution_count": 0,
   "metadata": {
    "application/vnd.databricks.v1+cell": {
     "cellMetadata": {
      "byteLimit": 2048000,
      "rowLimit": 10000
     },
     "inputWidgets": {},
     "nuid": "8f8ca796-5097-4229-a7f2-77bace7a84fb",
     "showTitle": false,
     "title": ""
    }
   },
   "outputs": [],
   "source": [
    "df = df.withColumns(\n",
    "    {\n",
    "        \"age\": F.coalesce(\n",
    "            F.year(F.current_timestamp()) - F.year(F.col(\"dob\")),\n",
    "            F.lit(-1),\n",
    "        ),\n",
    "        \"has_dob_1\": ~F.isnull(\"dob\"),\n",
    "        \"has_dob_2\": F.col(\"dob\").isNotNull(),\n",
    "    }\n",
    ")"
   ]
  },
  {
   "cell_type": "markdown",
   "metadata": {
    "application/vnd.databricks.v1+cell": {
     "cellMetadata": {
      "byteLimit": 2048000,
      "rowLimit": 10000
     },
     "inputWidgets": {},
     "nuid": "cd08f89f-3ec2-42ab-83f1-3cecdb21b32d",
     "showTitle": false,
     "title": ""
    }
   },
   "source": [
    "drop column\n"
   ]
  },
  {
   "cell_type": "code",
   "execution_count": 0,
   "metadata": {
    "application/vnd.databricks.v1+cell": {
     "cellMetadata": {
      "byteLimit": 2048000,
      "rowLimit": 10000
     },
     "inputWidgets": {},
     "nuid": "85cddd95-08da-4935-baf1-12191b3b6e66",
     "showTitle": false,
     "title": ""
    }
   },
   "outputs": [],
   "source": [
    "df = df.drop(\"company\", \"has_dob_1\", \"has_dob_2\", \"salary_raise_10_perc\")"
   ]
  },
  {
   "cell_type": "code",
   "execution_count": 0,
   "metadata": {
    "application/vnd.databricks.v1+cell": {
     "cellMetadata": {
      "byteLimit": 2048000,
      "rowLimit": 10000
     },
     "inputWidgets": {},
     "nuid": "a3ce9329-39c8-4d29-bb19-ac948a9f1c25",
     "showTitle": false,
     "title": ""
    }
   },
   "outputs": [
    {
     "output_type": "stream",
     "name": "stdout",
     "output_type": "stream",
     "text": [
      "+---+------+----------+---+------+----------+------------+--------------------+------------+\n| id|  name|       dob|age|salary|department|salary_raise|salary_rasie_10_perc|   age_group|\n+---+------+----------+---+------+----------+------------+--------------------+------------+\n|  5| David|1981-12-18| 43| 90000|        HR|    135000.0|             99000.0|More than 40|\n|  3|   Bob|      null| -1| 80000|        IT|    120000.0|             88000.0|More than 40|\n|  4| Emily|1994-11-22| 30| 65000|   Finance|     97500.0|             71500.0|    31 to 40|\n|  2| Alice|1997-02-28| 27| 60000|        HR|     90000.0|             66000.0|    31 to 40|\n|  1|  John|1992-05-12| 32| 70000|        IT|    105000.0|             77000.0|    31 to 40|\n|  6| Susan|1989-07-05| 35| 75000|   Finance|    112500.0|             82500.0|    31 to 40|\n|  7|  Mike|1976-03-15| 48| 95000|        IT|    142500.0|            104500.0|More than 40|\n| 10|Sophie|1992-06-30| 32| 62000|   Finance|     93000.0|             68200.0|    31 to 40|\n|  2| Alice|1997-02-28| 27| 90000|   Finance|    135000.0|             99000.0|    31 to 40|\n|  4| Emily|1994-11-22| 30| 70000|   Finance|    105000.0|             77000.0|    31 to 40|\n|  9| James|1983-10-14| 41| 87000|        IT|    130500.0|             95700.0|    31 to 40|\n|  8|  Lisa|1995-08-20| 29| 58000|        HR|     87000.0|             63800.0|    31 to 40|\n+---+------+----------+---+------+----------+------------+--------------------+------------+\n\n"
     ]
    }
   ],
   "source": [
    "df.show()"
   ]
  },
  {
   "cell_type": "markdown",
   "metadata": {
    "application/vnd.databricks.v1+cell": {
     "cellMetadata": {
      "byteLimit": 2048000,
      "rowLimit": 10000
     },
     "inputWidgets": {},
     "nuid": "9f9bf261-8750-4b04-b19e-a323c43b3a7a",
     "showTitle": false,
     "title": ""
    }
   },
   "source": [
    "withColumnRenamed"
   ]
  },
  {
   "cell_type": "code",
   "execution_count": 0,
   "metadata": {
    "application/vnd.databricks.v1+cell": {
     "cellMetadata": {
      "byteLimit": 2048000,
      "rowLimit": 10000
     },
     "inputWidgets": {},
     "nuid": "f36dfcab-d1f7-4232-9f92-6e6da0e988b6",
     "showTitle": false,
     "title": ""
    }
   },
   "outputs": [],
   "source": [
    "df = df.withColumnRenamed(\"name\", \"first_name\")"
   ]
  },
  {
   "cell_type": "code",
   "execution_count": 0,
   "metadata": {
    "application/vnd.databricks.v1+cell": {
     "cellMetadata": {
      "byteLimit": 2048000,
      "rowLimit": 10000
     },
     "inputWidgets": {},
     "nuid": "1b8a6e5b-bf56-4878-8ee2-e24dcde530b8",
     "showTitle": false,
     "title": ""
    }
   },
   "outputs": [
    {
     "output_type": "stream",
     "name": "stdout",
     "output_type": "stream",
     "text": [
      "+---+----------+----------+---+------+----------+------------+--------------------+------------+\n| id|first_name|       dob|age|salary|department|salary_raise|salary_rasie_10_perc|   age_group|\n+---+----------+----------+---+------+----------+------------+--------------------+------------+\n|  5|     David|1981-12-18| 43| 90000|        HR|    135000.0|             99000.0|More than 40|\n|  3|       Bob|      null| -1| 80000|        IT|    120000.0|             88000.0|More than 40|\n|  4|     Emily|1994-11-22| 30| 65000|   Finance|     97500.0|             71500.0|    31 to 40|\n|  2|     Alice|1997-02-28| 27| 60000|        HR|     90000.0|             66000.0|    31 to 40|\n|  1|      John|1992-05-12| 32| 70000|        IT|    105000.0|             77000.0|    31 to 40|\n|  6|     Susan|1989-07-05| 35| 75000|   Finance|    112500.0|             82500.0|    31 to 40|\n|  7|      Mike|1976-03-15| 48| 95000|        IT|    142500.0|            104500.0|More than 40|\n| 10|    Sophie|1992-06-30| 32| 62000|   Finance|     93000.0|             68200.0|    31 to 40|\n|  2|     Alice|1997-02-28| 27| 90000|   Finance|    135000.0|             99000.0|    31 to 40|\n|  4|     Emily|1994-11-22| 30| 70000|   Finance|    105000.0|             77000.0|    31 to 40|\n|  9|     James|1983-10-14| 41| 87000|        IT|    130500.0|             95700.0|    31 to 40|\n|  8|      Lisa|1995-08-20| 29| 58000|        HR|     87000.0|             63800.0|    31 to 40|\n+---+----------+----------+---+------+----------+------------+--------------------+------------+\n\n"
     ]
    }
   ],
   "source": [
    "df.show()"
   ]
  },
  {
   "cell_type": "markdown",
   "metadata": {
    "application/vnd.databricks.v1+cell": {
     "cellMetadata": {
      "byteLimit": 2048000,
      "rowLimit": 10000
     },
     "inputWidgets": {},
     "nuid": "24adb55f-6534-4f33-9759-ed44367367a0",
     "showTitle": false,
     "title": ""
    }
   },
   "source": [
    "partition by\n"
   ]
  },
  {
   "cell_type": "code",
   "execution_count": 0,
   "metadata": {
    "application/vnd.databricks.v1+cell": {
     "cellMetadata": {
      "byteLimit": 2048000,
      "rowLimit": 10000
     },
     "inputWidgets": {},
     "nuid": "e8ebe986-09bb-468a-b345-0bedeaed682f",
     "showTitle": false,
     "title": ""
    }
   },
   "outputs": [],
   "source": [
    "from pyspark.sql import Window"
   ]
  },
  {
   "cell_type": "code",
   "execution_count": 0,
   "metadata": {
    "application/vnd.databricks.v1+cell": {
     "cellMetadata": {
      "byteLimit": 2048000,
      "rowLimit": 10000
     },
     "inputWidgets": {},
     "nuid": "a898387a-9b08-40cc-8e1d-4848e0ee1e8c",
     "showTitle": false,
     "title": ""
    }
   },
   "outputs": [
    {
     "output_type": "stream",
     "name": "stdout",
     "output_type": "stream",
     "text": [
      "Out[393]: DataFrame[id: int, first_name: string, dob: date, age: int, salary: int, department: string, salary_raise: double, salary_rasie_10_perc: double, age_group: string, min_age: int]"
     ]
    }
   ],
   "source": [
    "window = Window.partitionBy(\"age_group\")\n",
    "\n",
    "df.withColumn(\n",
    "    \"min_age\",\n",
    "    F.min(\"age\").over(window)\n",
    ")"
   ]
  },
  {
   "cell_type": "markdown",
   "metadata": {
    "application/vnd.databricks.v1+cell": {
     "cellMetadata": {
      "byteLimit": 2048000,
      "rowLimit": 10000
     },
     "inputWidgets": {},
     "nuid": "15267ad2-da3b-402d-8775-5e61d36c24d0",
     "showTitle": false,
     "title": ""
    }
   },
   "source": [
    "Calculate mean salary and check if it is greater or equal to salary of employees in each department\n",
    "Calculate mean salary and check if it is greater or equal to the salary of all employees."
   ]
  },
  {
   "cell_type": "markdown",
   "metadata": {
    "application/vnd.databricks.v1+cell": {
     "cellMetadata": {
      "byteLimit": 2048000,
      "rowLimit": 10000
     },
     "inputWidgets": {},
     "nuid": "b1859fbb-cd18-487e-8bec-d3bec327c0a0",
     "showTitle": false,
     "title": ""
    }
   },
   "source": [
    "Join"
   ]
  },
  {
   "cell_type": "code",
   "execution_count": 0,
   "metadata": {
    "application/vnd.databricks.v1+cell": {
     "cellMetadata": {
      "byteLimit": 2048000,
      "rowLimit": 10000
     },
     "inputWidgets": {},
     "nuid": "6c4bd569-20fc-42a4-acaa-44decc41c08a",
     "showTitle": false,
     "title": ""
    }
   },
   "outputs": [],
   "source": [
    "ref_df = spark.read.format(\"parquet\").load(\"dbfs:///FileStore/tables/parquet\")"
   ]
  },
  {
   "cell_type": "code",
   "execution_count": 0,
   "metadata": {
    "application/vnd.databricks.v1+cell": {
     "cellMetadata": {
      "byteLimit": 2048000,
      "rowLimit": 10000
     },
     "inputWidgets": {},
     "nuid": "e99dfd55-d387-49d6-8a5d-fdb9c0711f6e",
     "showTitle": false,
     "title": ""
    }
   },
   "outputs": [
    {
     "output_type": "stream",
     "name": "stdout",
     "output_type": "stream",
     "text": [
      "+----------+-------+--------+\n|department|manager|    lead|\n+----------+-------+--------+\n|   Finance|  Megan|   Molly|\n|        HR|   Brad|   Brian|\n|        IT|  Chris|Chandler|\n|  Delivery|   Leon|  Louise|\n+----------+-------+--------+\n\n"
     ]
    }
   ],
   "source": [
    "ref_df.show()"
   ]
  },
  {
   "cell_type": "code",
   "execution_count": 0,
   "metadata": {
    "application/vnd.databricks.v1+cell": {
     "cellMetadata": {
      "byteLimit": 2048000,
      "rowLimit": 10000
     },
     "inputWidgets": {},
     "nuid": "9ed0e53e-5c37-4d43-9957-502fd04658a3",
     "showTitle": false,
     "title": ""
    }
   },
   "outputs": [
    {
     "output_type": "stream",
     "name": "stdout",
     "output_type": "stream",
     "text": [
      "root\n |-- department: string (nullable = true)\n |-- manager: string (nullable = true)\n |-- lead: string (nullable = true)\n\n"
     ]
    }
   ],
   "source": [
    "ref_df.printSchema()"
   ]
  },
  {
   "cell_type": "code",
   "execution_count": 0,
   "metadata": {
    "application/vnd.databricks.v1+cell": {
     "cellMetadata": {
      "byteLimit": 2048000,
      "rowLimit": 10000
     },
     "inputWidgets": {},
     "nuid": "68e791f1-5b6b-4970-a630-87ef430dcc09",
     "showTitle": false,
     "title": ""
    }
   },
   "outputs": [
    {
     "output_type": "stream",
     "name": "stdout",
     "output_type": "stream",
     "text": [
      "+----------+---+----------+----------+---+------+------------+--------------------+------------+-------+--------+\n|department| id|first_name|       dob|age|salary|salary_raise|salary_rasie_10_perc|   age_group|manager|    lead|\n+----------+---+----------+----------+---+------+------------+--------------------+------------+-------+--------+\n|        HR|  5|     David|1981-12-18| 43| 90000|    135000.0|             99000.0|More than 40|   Brad|   Brian|\n|        IT|  3|       Bob|      null| -1| 80000|    120000.0|             88000.0|More than 40|  Chris|Chandler|\n|   Finance|  4|     Emily|1994-11-22| 30| 65000|     97500.0|             71500.0|    31 to 40|  Megan|   Molly|\n|        HR|  2|     Alice|1997-02-28| 27| 60000|     90000.0|             66000.0|    31 to 40|   Brad|   Brian|\n|        IT|  1|      John|1992-05-12| 32| 70000|    105000.0|             77000.0|    31 to 40|  Chris|Chandler|\n|   Finance|  6|     Susan|1989-07-05| 35| 75000|    112500.0|             82500.0|    31 to 40|  Megan|   Molly|\n|        IT|  7|      Mike|1976-03-15| 48| 95000|    142500.0|            104500.0|More than 40|  Chris|Chandler|\n|   Finance| 10|    Sophie|1992-06-30| 32| 62000|     93000.0|             68200.0|    31 to 40|  Megan|   Molly|\n|   Finance|  2|     Alice|1997-02-28| 27| 90000|    135000.0|             99000.0|    31 to 40|  Megan|   Molly|\n|   Finance|  4|     Emily|1994-11-22| 30| 70000|    105000.0|             77000.0|    31 to 40|  Megan|   Molly|\n|        IT|  9|     James|1983-10-14| 41| 87000|    130500.0|             95700.0|    31 to 40|  Chris|Chandler|\n|        HR|  8|      Lisa|1995-08-20| 29| 58000|     87000.0|             63800.0|    31 to 40|   Brad|   Brian|\n+----------+---+----------+----------+---+------+------------+--------------------+------------+-------+--------+\n\n"
     ]
    }
   ],
   "source": [
    "df.join(\n",
    "    ref_df,\n",
    "    \"department\",\n",
    "    \"left\",\n",
    ").show()"
   ]
  },
  {
   "cell_type": "code",
   "execution_count": 0,
   "metadata": {
    "application/vnd.databricks.v1+cell": {
     "cellMetadata": {
      "byteLimit": 2048000,
      "rowLimit": 10000
     },
     "inputWidgets": {},
     "nuid": "d3c6b3cf-9c16-4a23-a6ff-4193358f39a2",
     "showTitle": false,
     "title": ""
    }
   },
   "outputs": [
    {
     "output_type": "stream",
     "name": "stdout",
     "output_type": "stream",
     "text": [
      "+----------+---+----------+----------+---+------+------------+--------------------+------------+\n|department| id|first_name|       dob|age|salary|salary_raise|salary_rasie_10_perc|   age_group|\n+----------+---+----------+----------+---+------+------------+--------------------+------------+\n|        HR|  5|     David|1981-12-18| 43| 90000|    135000.0|             99000.0|More than 40|\n|        IT|  3|       Bob|      null| -1| 80000|    120000.0|             88000.0|More than 40|\n|   Finance|  4|     Emily|1994-11-22| 30| 65000|     97500.0|             71500.0|    31 to 40|\n|        HR|  2|     Alice|1997-02-28| 27| 60000|     90000.0|             66000.0|    31 to 40|\n|        IT|  1|      John|1992-05-12| 32| 70000|    105000.0|             77000.0|    31 to 40|\n|   Finance|  6|     Susan|1989-07-05| 35| 75000|    112500.0|             82500.0|    31 to 40|\n|        IT|  7|      Mike|1976-03-15| 48| 95000|    142500.0|            104500.0|More than 40|\n|   Finance| 10|    Sophie|1992-06-30| 32| 62000|     93000.0|             68200.0|    31 to 40|\n|   Finance|  2|     Alice|1997-02-28| 27| 90000|    135000.0|             99000.0|    31 to 40|\n|   Finance|  4|     Emily|1994-11-22| 30| 70000|    105000.0|             77000.0|    31 to 40|\n|        IT|  9|     James|1983-10-14| 41| 87000|    130500.0|             95700.0|    31 to 40|\n|        HR|  8|      Lisa|1995-08-20| 29| 58000|     87000.0|             63800.0|    31 to 40|\n+----------+---+----------+----------+---+------+------------+--------------------+------------+\n\n"
     ]
    }
   ],
   "source": [
    "df.join(\n",
    "    ref_df,\n",
    "    \"department\",\n",
    "    \"semi\",\n",
    ").show()"
   ]
  },
  {
   "cell_type": "code",
   "execution_count": 0,
   "metadata": {
    "application/vnd.databricks.v1+cell": {
     "cellMetadata": {
      "byteLimit": 2048000,
      "rowLimit": 10000
     },
     "inputWidgets": {},
     "nuid": "7977c9ba-049f-408a-9e91-9d88aa5676d1",
     "showTitle": false,
     "title": ""
    }
   },
   "outputs": [],
   "source": [
    "# df.join(\n",
    "#     ref_df,\n",
    "#     \"department\",\n",
    "#     \"anti\",\n",
    "# ).show()"
   ]
  },
  {
   "cell_type": "markdown",
   "metadata": {
    "application/vnd.databricks.v1+cell": {
     "cellMetadata": {
      "byteLimit": 2048000,
      "rowLimit": 10000
     },
     "inputWidgets": {},
     "nuid": "a37b3884-874a-4638-8cf9-278f0b6d44df",
     "showTitle": false,
     "title": ""
    }
   },
   "source": [
    "inner\n",
    "left, leftouter, left_outer\n",
    "right, rightouter, right_outer,\n",
    "cross,\n",
    "outer, full, full_outer,\n",
    "semi, leftsemi, left_semi,\n",
    "anti, leftanti, left_anti,\n"
   ]
  },
  {
   "cell_type": "code",
   "execution_count": 0,
   "metadata": {
    "application/vnd.databricks.v1+cell": {
     "cellMetadata": {
      "byteLimit": 2048000,
      "rowLimit": 10000
     },
     "inputWidgets": {},
     "nuid": "eec56581-c5d3-4b46-8a41-162d1452d103",
     "showTitle": false,
     "title": ""
    }
   },
   "outputs": [],
   "source": [
    "# df.join(\n",
    "#     ref_df,\n",
    "#     df.department == ref_df.department,\n",
    "#     \"left\",\n",
    "# ).show()"
   ]
  },
  {
   "cell_type": "code",
   "execution_count": 0,
   "metadata": {
    "application/vnd.databricks.v1+cell": {
     "cellMetadata": {
      "byteLimit": 2048000,
      "rowLimit": 10000
     },
     "inputWidgets": {},
     "nuid": "b3bf7481-18fc-42cd-8a6c-4f92b20abc32",
     "showTitle": false,
     "title": ""
    }
   },
   "outputs": [],
   "source": [
    "df = df.alias(\"main\")\n",
    "ref_df = ref_df.alias(\"reference\")"
   ]
  },
  {
   "cell_type": "code",
   "execution_count": 0,
   "metadata": {
    "application/vnd.databricks.v1+cell": {
     "cellMetadata": {
      "byteLimit": 2048000,
      "rowLimit": 10000
     },
     "inputWidgets": {},
     "nuid": "1936395b-d609-4ace-99fb-b33db7a8de09",
     "showTitle": false,
     "title": ""
    }
   },
   "outputs": [],
   "source": [
    "# df = df.join(\n",
    "#     ref_df,\n",
    "#     F.col(\"main.department\") == F.col(\"reference.department\"),\n",
    "#      \"left\",\n",
    "#  )"
   ]
  },
  {
   "cell_type": "code",
   "execution_count": 0,
   "metadata": {
    "application/vnd.databricks.v1+cell": {
     "cellMetadata": {
      "byteLimit": 2048000,
      "rowLimit": 10000
     },
     "inputWidgets": {},
     "nuid": "21b3a68b-ec73-4dc3-b147-00191c1f93bd",
     "showTitle": false,
     "title": ""
    }
   },
   "outputs": [
    {
     "output_type": "stream",
     "name": "stdout",
     "output_type": "stream",
     "text": [
      "+---+----------+----------+---+------+----------+------------+--------------------+------------+\n| id|first_name|       dob|age|salary|department|salary_raise|salary_rasie_10_perc|   age_group|\n+---+----------+----------+---+------+----------+------------+--------------------+------------+\n|  5|     David|1981-12-18| 43| 90000|        HR|    135000.0|             99000.0|More than 40|\n|  3|       Bob|      null| -1| 80000|        IT|    120000.0|             88000.0|More than 40|\n|  4|     Emily|1994-11-22| 30| 65000|   Finance|     97500.0|             71500.0|    31 to 40|\n|  2|     Alice|1997-02-28| 27| 60000|        HR|     90000.0|             66000.0|    31 to 40|\n|  1|      John|1992-05-12| 32| 70000|        IT|    105000.0|             77000.0|    31 to 40|\n|  6|     Susan|1989-07-05| 35| 75000|   Finance|    112500.0|             82500.0|    31 to 40|\n|  7|      Mike|1976-03-15| 48| 95000|        IT|    142500.0|            104500.0|More than 40|\n| 10|    Sophie|1992-06-30| 32| 62000|   Finance|     93000.0|             68200.0|    31 to 40|\n|  2|     Alice|1997-02-28| 27| 90000|   Finance|    135000.0|             99000.0|    31 to 40|\n|  4|     Emily|1994-11-22| 30| 70000|   Finance|    105000.0|             77000.0|    31 to 40|\n|  9|     James|1983-10-14| 41| 87000|        IT|    130500.0|             95700.0|    31 to 40|\n|  8|      Lisa|1995-08-20| 29| 58000|        HR|     87000.0|             63800.0|    31 to 40|\n+---+----------+----------+---+------+----------+------------+--------------------+------------+\n\n"
     ]
    }
   ],
   "source": [
    "df.show()"
   ]
  },
  {
   "cell_type": "markdown",
   "metadata": {
    "application/vnd.databricks.v1+cell": {
     "cellMetadata": {
      "byteLimit": 2048000,
      "rowLimit": 10000
     },
     "inputWidgets": {},
     "nuid": "92c0881a-8455-4ec5-8fa6-9c6b1e22d184",
     "showTitle": false,
     "title": ""
    }
   },
   "source": [
    "load(save) data"
   ]
  },
  {
   "cell_type": "code",
   "execution_count": 0,
   "metadata": {
    "application/vnd.databricks.v1+cell": {
     "cellMetadata": {
      "byteLimit": 2048000,
      "rowLimit": 10000
     },
     "inputWidgets": {},
     "nuid": "cd1b0375-fc51-4016-bc9c-f3b26018bd58",
     "showTitle": false,
     "title": ""
    }
   },
   "outputs": [],
   "source": [
    "df.write.mode(\"overwrite\").format(\"csv\").save(\"dbfs:///FileStore/tables/final\")"
   ]
  },
  {
   "cell_type": "code",
   "execution_count": 0,
   "metadata": {
    "application/vnd.databricks.v1+cell": {
     "cellMetadata": {
      "byteLimit": 2048000,
      "rowLimit": 10000
     },
     "inputWidgets": {},
     "nuid": "cf76a9ea-8428-406a-aad1-039a38bd8659",
     "showTitle": false,
     "title": ""
    }
   },
   "outputs": [
    {
     "output_type": "display_data",
     "data": {
      "text/html": [
       "<style scoped>\n",
       "  .table-result-container {\n",
       "    max-height: 300px;\n",
       "    overflow: auto;\n",
       "  }\n",
       "  table, th, td {\n",
       "    border: 1px solid black;\n",
       "    border-collapse: collapse;\n",
       "  }\n",
       "  th, td {\n",
       "    padding: 5px;\n",
       "  }\n",
       "  th {\n",
       "    text-align: left;\n",
       "  }\n",
       "</style><div class='table-result-container'><table class='table-result'><thead style='background-color: white'><tr><th>path</th><th>name</th><th>size</th><th>modificationTime</th></tr></thead><tbody><tr><td>dbfs:/FileStore/tables/final/_SUCCESS</td><td>_SUCCESS</td><td>0</td><td>1707805031000</td></tr><tr><td>dbfs:/FileStore/tables/final/_committed_7145688290367327973</td><td>_committed_7145688290367327973</td><td>114</td><td>1707804628000</td></tr><tr><td>dbfs:/FileStore/tables/final/_committed_859607062971485087</td><td>_committed_859607062971485087</td><td>213</td><td>1707805031000</td></tr><tr><td>dbfs:/FileStore/tables/final/_started_7145688290367327973</td><td>_started_7145688290367327973</td><td>0</td><td>1707804628000</td></tr><tr><td>dbfs:/FileStore/tables/final/_started_859607062971485087</td><td>_started_859607062971485087</td><td>0</td><td>1707805031000</td></tr><tr><td>dbfs:/FileStore/tables/final/part-00000-tid-859607062971485087-e19fbdd7-22cf-4591-94f8-175368392d36-1619-1-c000.csv</td><td>part-00000-tid-859607062971485087-e19fbdd7-22cf-4591-94f8-175368392d36-1619-1-c000.csv</td><td>705</td><td>1707805031000</td></tr></tbody></table></div>"
      ]
     },
     "metadata": {
      "application/vnd.databricks.v1+output": {
       "addedWidgets": {},
       "aggData": [],
       "aggError": "",
       "aggOverflow": false,
       "aggSchema": [],
       "aggSeriesLimitReached": false,
       "aggType": "",
       "arguments": {},
       "columnCustomDisplayInfos": {},
       "data": [
        [
         "dbfs:/FileStore/tables/final/_SUCCESS",
         "_SUCCESS",
         0,
         1707805031000
        ],
        [
         "dbfs:/FileStore/tables/final/_committed_7145688290367327973",
         "_committed_7145688290367327973",
         114,
         1707804628000
        ],
        [
         "dbfs:/FileStore/tables/final/_committed_859607062971485087",
         "_committed_859607062971485087",
         213,
         1707805031000
        ],
        [
         "dbfs:/FileStore/tables/final/_started_7145688290367327973",
         "_started_7145688290367327973",
         0,
         1707804628000
        ],
        [
         "dbfs:/FileStore/tables/final/_started_859607062971485087",
         "_started_859607062971485087",
         0,
         1707805031000
        ],
        [
         "dbfs:/FileStore/tables/final/part-00000-tid-859607062971485087-e19fbdd7-22cf-4591-94f8-175368392d36-1619-1-c000.csv",
         "part-00000-tid-859607062971485087-e19fbdd7-22cf-4591-94f8-175368392d36-1619-1-c000.csv",
         705,
         1707805031000
        ]
       ],
       "datasetInfos": [],
       "dbfsResultPath": null,
       "isJsonSchema": true,
       "metadata": {
        "isDbfsCommandResult": false
       },
       "overflow": false,
       "plotOptions": {
        "customPlotOptions": {},
        "displayType": "table",
        "pivotAggregation": null,
        "pivotColumns": null,
        "xColumns": null,
        "yColumns": null
       },
       "removedWidgets": [],
       "schema": [
        {
         "metadata": "{}",
         "name": "path",
         "type": "\"string\""
        },
        {
         "metadata": "{}",
         "name": "name",
         "type": "\"string\""
        },
        {
         "metadata": "{}",
         "name": "size",
         "type": "\"long\""
        },
        {
         "metadata": "{}",
         "name": "modificationTime",
         "type": "\"long\""
        }
       ],
       "type": "table"
      }
     },
     "output_type": "display_data"
    }
   ],
   "source": [
    "%fs ls dbfs:///FileStore/tables/final"
   ]
  },
  {
   "cell_type": "code",
   "execution_count": 0,
   "metadata": {
    "application/vnd.databricks.v1+cell": {
     "cellMetadata": {
      "byteLimit": 2048000,
      "rowLimit": 10000
     },
     "inputWidgets": {},
     "nuid": "90424c3e-51cf-4988-b3b7-eaa32e761217",
     "showTitle": false,
     "title": ""
    }
   },
   "outputs": [
    {
     "output_type": "stream",
     "name": "stdout",
     "output_type": "stream",
     "text": [
      "+--------+---------+-----------+\n|database|tableName|isTemporary|\n+--------+---------+-----------+\n+--------+---------+-----------+\n\n"
     ]
    }
   ],
   "source": [
    "spark.sql(\"show tables\").show()"
   ]
  },
  {
   "cell_type": "code",
   "execution_count": 0,
   "metadata": {
    "application/vnd.databricks.v1+cell": {
     "cellMetadata": {
      "byteLimit": 2048000,
      "rowLimit": 10000
     },
     "inputWidgets": {},
     "nuid": "4d0aa4f4-085a-41fa-8745-9a0ca6b51b20",
     "showTitle": false,
     "title": ""
    }
   },
   "outputs": [],
   "source": [
    "df.write.mode(\"overwrite\").format(\"delta\").saveAsTable(\"final\")"
   ]
  },
  {
   "cell_type": "code",
   "execution_count": 0,
   "metadata": {
    "application/vnd.databricks.v1+cell": {
     "cellMetadata": {
      "byteLimit": 2048000,
      "rowLimit": 10000
     },
     "inputWidgets": {},
     "nuid": "82c7640c-6d0c-491a-afc4-f8b7e084cbc6",
     "showTitle": false,
     "title": ""
    }
   },
   "outputs": [
    {
     "output_type": "display_data",
     "data": {
      "text/html": [
       "<style scoped>\n",
       "  .table-result-container {\n",
       "    max-height: 300px;\n",
       "    overflow: auto;\n",
       "  }\n",
       "  table, th, td {\n",
       "    border: 1px solid black;\n",
       "    border-collapse: collapse;\n",
       "  }\n",
       "  th, td {\n",
       "    padding: 5px;\n",
       "  }\n",
       "  th {\n",
       "    text-align: left;\n",
       "  }\n",
       "</style><div class='table-result-container'><table class='table-result'><thead style='background-color: white'><tr><th>path</th><th>name</th><th>size</th><th>modificationTime</th></tr></thead><tbody><tr><td>dbfs:/user/hive/warehouse/final/_delta_log/</td><td>_delta_log/</td><td>0</td><td>0</td></tr><tr><td>dbfs:/user/hive/warehouse/final/part-00000-7d1d661f-70db-4458-ac19-0b9f49e1493d-c000.snappy.parquet</td><td>part-00000-7d1d661f-70db-4458-ac19-0b9f49e1493d-c000.snappy.parquet</td><td>3208</td><td>1707806857000</td></tr></tbody></table></div>"
      ]
     },
     "metadata": {
      "application/vnd.databricks.v1+output": {
       "addedWidgets": {},
       "aggData": [],
       "aggError": "",
       "aggOverflow": false,
       "aggSchema": [],
       "aggSeriesLimitReached": false,
       "aggType": "",
       "arguments": {},
       "columnCustomDisplayInfos": {},
       "data": [
        [
         "dbfs:/user/hive/warehouse/final/_delta_log/",
         "_delta_log/",
         0,
         0
        ],
        [
         "dbfs:/user/hive/warehouse/final/part-00000-7d1d661f-70db-4458-ac19-0b9f49e1493d-c000.snappy.parquet",
         "part-00000-7d1d661f-70db-4458-ac19-0b9f49e1493d-c000.snappy.parquet",
         3208,
         1707806857000
        ]
       ],
       "datasetInfos": [],
       "dbfsResultPath": null,
       "isJsonSchema": true,
       "metadata": {
        "isDbfsCommandResult": false
       },
       "overflow": false,
       "plotOptions": {
        "customPlotOptions": {},
        "displayType": "table",
        "pivotAggregation": null,
        "pivotColumns": null,
        "xColumns": null,
        "yColumns": null
       },
       "removedWidgets": [],
       "schema": [
        {
         "metadata": "{}",
         "name": "path",
         "type": "\"string\""
        },
        {
         "metadata": "{}",
         "name": "name",
         "type": "\"string\""
        },
        {
         "metadata": "{}",
         "name": "size",
         "type": "\"long\""
        },
        {
         "metadata": "{}",
         "name": "modificationTime",
         "type": "\"long\""
        }
       ],
       "type": "table"
      }
     },
     "output_type": "display_data"
    }
   ],
   "source": [
    "%fs ls dbfs:///user/hive/warehouse/final"
   ]
  },
  {
   "cell_type": "code",
   "execution_count": 0,
   "metadata": {
    "application/vnd.databricks.v1+cell": {
     "cellMetadata": {
      "byteLimit": 2048000,
      "implicitDf": true,
      "rowLimit": 10000
     },
     "inputWidgets": {},
     "nuid": "0a21dcb2-0aa6-4bd1-a7a0-15955f4fa0b6",
     "showTitle": false,
     "title": ""
    }
   },
   "outputs": [
    {
     "output_type": "display_data",
     "data": {
      "text/html": [
       "<style scoped>\n",
       "  .table-result-container {\n",
       "    max-height: 300px;\n",
       "    overflow: auto;\n",
       "  }\n",
       "  table, th, td {\n",
       "    border: 1px solid black;\n",
       "    border-collapse: collapse;\n",
       "  }\n",
       "  th, td {\n",
       "    padding: 5px;\n",
       "  }\n",
       "  th {\n",
       "    text-align: left;\n",
       "  }\n",
       "</style><div class='table-result-container'><table class='table-result'><thead style='background-color: white'><tr><th>col_name</th><th>data_type</th><th>comment</th></tr></thead><tbody><tr><td>id</td><td>int</td><td>null</td></tr><tr><td>first_name</td><td>string</td><td>null</td></tr><tr><td>dob</td><td>date</td><td>null</td></tr><tr><td>age</td><td>int</td><td>null</td></tr><tr><td>salary</td><td>int</td><td>null</td></tr><tr><td>department</td><td>string</td><td>null</td></tr><tr><td>salary_raise</td><td>double</td><td>null</td></tr><tr><td>salary_rasie_10_perc</td><td>double</td><td>null</td></tr><tr><td>age_group</td><td>string</td><td>null</td></tr><tr><td></td><td></td><td></td></tr><tr><td># Detailed Table Information</td><td></td><td></td></tr><tr><td>Catalog</td><td>spark_catalog</td><td></td></tr><tr><td>Database</td><td>default</td><td></td></tr><tr><td>Table</td><td>final</td><td></td></tr><tr><td>Created Time</td><td>Tue Feb 13 06:47:48 UTC 2024</td><td></td></tr><tr><td>Last Access</td><td>UNKNOWN</td><td></td></tr><tr><td>Created By</td><td>Spark 3.3.2</td><td></td></tr><tr><td>Statistics</td><td>3208 bytes</td><td></td></tr><tr><td>Type</td><td>MANAGED</td><td></td></tr><tr><td>Location</td><td>dbfs:/user/hive/warehouse/final</td><td></td></tr><tr><td>Provider</td><td>delta</td><td></td></tr><tr><td>Owner</td><td>root</td><td></td></tr><tr><td>Is_managed_location</td><td>true</td><td></td></tr><tr><td>Table Properties</td><td>[delta.minReaderVersion=1,delta.minWriterVersion=2]</td><td></td></tr></tbody></table></div>"
      ]
     },
     "metadata": {
      "application/vnd.databricks.v1+output": {
       "addedWidgets": {},
       "aggData": [],
       "aggError": "",
       "aggOverflow": false,
       "aggSchema": [],
       "aggSeriesLimitReached": false,
       "aggType": "",
       "arguments": {},
       "columnCustomDisplayInfos": {},
       "data": [
        [
         "id",
         "int",
         null
        ],
        [
         "first_name",
         "string",
         null
        ],
        [
         "dob",
         "date",
         null
        ],
        [
         "age",
         "int",
         null
        ],
        [
         "salary",
         "int",
         null
        ],
        [
         "department",
         "string",
         null
        ],
        [
         "salary_raise",
         "double",
         null
        ],
        [
         "salary_rasie_10_perc",
         "double",
         null
        ],
        [
         "age_group",
         "string",
         null
        ],
        [
         "",
         "",
         ""
        ],
        [
         "# Detailed Table Information",
         "",
         ""
        ],
        [
         "Catalog",
         "spark_catalog",
         ""
        ],
        [
         "Database",
         "default",
         ""
        ],
        [
         "Table",
         "final",
         ""
        ],
        [
         "Created Time",
         "Tue Feb 13 06:47:48 UTC 2024",
         ""
        ],
        [
         "Last Access",
         "UNKNOWN",
         ""
        ],
        [
         "Created By",
         "Spark 3.3.2",
         ""
        ],
        [
         "Statistics",
         "3208 bytes",
         ""
        ],
        [
         "Type",
         "MANAGED",
         ""
        ],
        [
         "Location",
         "dbfs:/user/hive/warehouse/final",
         ""
        ],
        [
         "Provider",
         "delta",
         ""
        ],
        [
         "Owner",
         "root",
         ""
        ],
        [
         "Is_managed_location",
         "true",
         ""
        ],
        [
         "Table Properties",
         "[delta.minReaderVersion=1,delta.minWriterVersion=2]",
         ""
        ]
       ],
       "datasetInfos": [],
       "dbfsResultPath": null,
       "isJsonSchema": true,
       "metadata": {},
       "overflow": false,
       "plotOptions": {
        "customPlotOptions": {},
        "displayType": "table",
        "pivotAggregation": null,
        "pivotColumns": null,
        "xColumns": null,
        "yColumns": null
       },
       "removedWidgets": [],
       "schema": [
        {
         "metadata": "{\"comment\":\"name of the column\"}",
         "name": "col_name",
         "type": "\"string\""
        },
        {
         "metadata": "{\"comment\":\"data type of the column\"}",
         "name": "data_type",
         "type": "\"string\""
        },
        {
         "metadata": "{\"comment\":\"comment of the column\"}",
         "name": "comment",
         "type": "\"string\""
        }
       ],
       "type": "table"
      }
     },
     "output_type": "display_data"
    }
   ],
   "source": [
    "%sql\n",
    "desc table extended default.final"
   ]
  },
  {
   "cell_type": "code",
   "execution_count": 0,
   "metadata": {
    "application/vnd.databricks.v1+cell": {
     "cellMetadata": {
      "byteLimit": 2048000,
      "implicitDf": true,
      "rowLimit": 10000
     },
     "inputWidgets": {},
     "nuid": "a0e238c4-2ed2-4f36-a3a0-3ae25db4089d",
     "showTitle": false,
     "title": ""
    }
   },
   "outputs": [
    {
     "output_type": "display_data",
     "data": {
      "text/html": [
       "<style scoped>\n",
       "  .table-result-container {\n",
       "    max-height: 300px;\n",
       "    overflow: auto;\n",
       "  }\n",
       "  table, th, td {\n",
       "    border: 1px solid black;\n",
       "    border-collapse: collapse;\n",
       "  }\n",
       "  th, td {\n",
       "    padding: 5px;\n",
       "  }\n",
       "  th {\n",
       "    text-align: left;\n",
       "  }\n",
       "</style><div class='table-result-container'><table class='table-result'><thead style='background-color: white'><tr><th>format</th><th>id</th><th>name</th><th>description</th><th>location</th><th>createdAt</th><th>lastModified</th><th>partitionColumns</th><th>numFiles</th><th>sizeInBytes</th><th>properties</th><th>minReaderVersion</th><th>minWriterVersion</th><th>tableFeatures</th><th>statistics</th></tr></thead><tbody><tr><td>delta</td><td>bcf29e98-e25d-45ee-8806-aba3abc914ba</td><td>spark_catalog.default.final</td><td>null</td><td>dbfs:/user/hive/warehouse/final</td><td>2024-02-13T06:47:33.252+0000</td><td>2024-02-13T06:47:40.000+0000</td><td>List()</td><td>1</td><td>3208</td><td>Map()</td><td>1</td><td>2</td><td>List(appendOnly, invariants)</td><td>Map()</td></tr></tbody></table></div>"
      ]
     },
     "metadata": {
      "application/vnd.databricks.v1+output": {
       "addedWidgets": {},
       "aggData": [],
       "aggError": "",
       "aggOverflow": false,
       "aggSchema": [],
       "aggSeriesLimitReached": false,
       "aggType": "",
       "arguments": {},
       "columnCustomDisplayInfos": {},
       "data": [
        [
         "delta",
         "bcf29e98-e25d-45ee-8806-aba3abc914ba",
         "spark_catalog.default.final",
         null,
         "dbfs:/user/hive/warehouse/final",
         "2024-02-13T06:47:33.252+0000",
         "2024-02-13T06:47:40.000+0000",
         [],
         1,
         3208,
         {},
         1,
         2,
         [
          "appendOnly",
          "invariants"
         ],
         {}
        ]
       ],
       "datasetInfos": [],
       "dbfsResultPath": null,
       "isJsonSchema": true,
       "metadata": {},
       "overflow": false,
       "plotOptions": {
        "customPlotOptions": {},
        "displayType": "table",
        "pivotAggregation": null,
        "pivotColumns": null,
        "xColumns": null,
        "yColumns": null
       },
       "removedWidgets": [],
       "schema": [
        {
         "metadata": "{}",
         "name": "format",
         "type": "\"string\""
        },
        {
         "metadata": "{}",
         "name": "id",
         "type": "\"string\""
        },
        {
         "metadata": "{}",
         "name": "name",
         "type": "\"string\""
        },
        {
         "metadata": "{}",
         "name": "description",
         "type": "\"string\""
        },
        {
         "metadata": "{}",
         "name": "location",
         "type": "\"string\""
        },
        {
         "metadata": "{}",
         "name": "createdAt",
         "type": "\"timestamp\""
        },
        {
         "metadata": "{}",
         "name": "lastModified",
         "type": "\"timestamp\""
        },
        {
         "metadata": "{}",
         "name": "partitionColumns",
         "type": "{\"type\":\"array\",\"elementType\":\"string\",\"containsNull\":true}"
        },
        {
         "metadata": "{}",
         "name": "numFiles",
         "type": "\"long\""
        },
        {
         "metadata": "{}",
         "name": "sizeInBytes",
         "type": "\"long\""
        },
        {
         "metadata": "{}",
         "name": "properties",
         "type": "{\"type\":\"map\",\"keyType\":\"string\",\"valueType\":\"string\",\"valueContainsNull\":true}"
        },
        {
         "metadata": "{}",
         "name": "minReaderVersion",
         "type": "\"integer\""
        },
        {
         "metadata": "{}",
         "name": "minWriterVersion",
         "type": "\"integer\""
        },
        {
         "metadata": "{}",
         "name": "tableFeatures",
         "type": "{\"type\":\"array\",\"elementType\":\"string\",\"containsNull\":true}"
        },
        {
         "metadata": "{}",
         "name": "statistics",
         "type": "{\"type\":\"map\",\"keyType\":\"string\",\"valueType\":\"long\",\"valueContainsNull\":true}"
        }
       ],
       "type": "table"
      }
     },
     "output_type": "display_data"
    }
   ],
   "source": [
    "%sql\n",
    "desc detail default.final;"
   ]
  },
  {
   "cell_type": "code",
   "execution_count": 0,
   "metadata": {
    "application/vnd.databricks.v1+cell": {
     "cellMetadata": {
      "byteLimit": 2048000,
      "implicitDf": true,
      "rowLimit": 10000
     },
     "inputWidgets": {},
     "nuid": "920ff5bc-ec5b-42d8-af30-91de937cb4ca",
     "showTitle": false,
     "title": ""
    }
   },
   "outputs": [
    {
     "output_type": "display_data",
     "data": {
      "text/html": [
       "<style scoped>\n",
       "  .table-result-container {\n",
       "    max-height: 300px;\n",
       "    overflow: auto;\n",
       "  }\n",
       "  table, th, td {\n",
       "    border: 1px solid black;\n",
       "    border-collapse: collapse;\n",
       "  }\n",
       "  th, td {\n",
       "    padding: 5px;\n",
       "  }\n",
       "  th {\n",
       "    text-align: left;\n",
       "  }\n",
       "</style><div class='table-result-container'><table class='table-result'><thead style='background-color: white'><tr><th>id</th><th>first_name</th><th>dob</th><th>age</th><th>salary</th><th>department</th><th>salary_raise</th><th>salary_rasie_10_perc</th><th>age_group</th></tr></thead><tbody><tr><td>5</td><td>David</td><td>1981-12-18</td><td>43</td><td>90000</td><td>HR</td><td>135000.0</td><td>99000.0</td><td>More than 40</td></tr><tr><td>3</td><td>Bob</td><td>null</td><td>-1</td><td>80000</td><td>IT</td><td>120000.0</td><td>88000.0</td><td>More than 40</td></tr><tr><td>4</td><td>Emily</td><td>1994-11-22</td><td>30</td><td>65000</td><td>Finance</td><td>97500.0</td><td>71500.0</td><td>31 to 40</td></tr><tr><td>2</td><td>Alice</td><td>1997-02-28</td><td>27</td><td>60000</td><td>HR</td><td>90000.0</td><td>66000.0</td><td>31 to 40</td></tr><tr><td>1</td><td>John</td><td>1992-05-12</td><td>32</td><td>70000</td><td>IT</td><td>105000.0</td><td>77000.0</td><td>31 to 40</td></tr><tr><td>6</td><td>Susan</td><td>1989-07-05</td><td>35</td><td>75000</td><td>Finance</td><td>112500.0</td><td>82500.0</td><td>31 to 40</td></tr><tr><td>7</td><td>Mike</td><td>1976-03-15</td><td>48</td><td>95000</td><td>IT</td><td>142500.0</td><td>104500.0</td><td>More than 40</td></tr><tr><td>10</td><td>Sophie</td><td>1992-06-30</td><td>32</td><td>62000</td><td>Finance</td><td>93000.0</td><td>68200.0</td><td>31 to 40</td></tr><tr><td>2</td><td>Alice</td><td>1997-02-28</td><td>27</td><td>90000</td><td>Finance</td><td>135000.0</td><td>99000.0</td><td>31 to 40</td></tr><tr><td>4</td><td>Emily</td><td>1994-11-22</td><td>30</td><td>70000</td><td>Finance</td><td>105000.0</td><td>77000.0</td><td>31 to 40</td></tr><tr><td>9</td><td>James</td><td>1983-10-14</td><td>41</td><td>87000</td><td>IT</td><td>130500.0</td><td>95700.0</td><td>31 to 40</td></tr><tr><td>8</td><td>Lisa</td><td>1995-08-20</td><td>29</td><td>58000</td><td>HR</td><td>87000.0</td><td>63800.0</td><td>31 to 40</td></tr></tbody></table></div>"
      ]
     },
     "metadata": {
      "application/vnd.databricks.v1+output": {
       "addedWidgets": {},
       "aggData": [],
       "aggError": "",
       "aggOverflow": false,
       "aggSchema": [],
       "aggSeriesLimitReached": false,
       "aggType": "",
       "arguments": {},
       "columnCustomDisplayInfos": {},
       "data": [
        [
         5,
         "David",
         "1981-12-18",
         43,
         90000,
         "HR",
         135000.0,
         99000.0,
         "More than 40"
        ],
        [
         3,
         "Bob",
         null,
         -1,
         80000,
         "IT",
         120000.0,
         88000.0,
         "More than 40"
        ],
        [
         4,
         "Emily",
         "1994-11-22",
         30,
         65000,
         "Finance",
         97500.0,
         71500.0,
         "31 to 40"
        ],
        [
         2,
         "Alice",
         "1997-02-28",
         27,
         60000,
         "HR",
         90000.0,
         66000.0,
         "31 to 40"
        ],
        [
         1,
         "John",
         "1992-05-12",
         32,
         70000,
         "IT",
         105000.0,
         77000.0,
         "31 to 40"
        ],
        [
         6,
         "Susan",
         "1989-07-05",
         35,
         75000,
         "Finance",
         112500.0,
         82500.0,
         "31 to 40"
        ],
        [
         7,
         "Mike",
         "1976-03-15",
         48,
         95000,
         "IT",
         142500.0,
         104500.0,
         "More than 40"
        ],
        [
         10,
         "Sophie",
         "1992-06-30",
         32,
         62000,
         "Finance",
         93000.0,
         68200.0,
         "31 to 40"
        ],
        [
         2,
         "Alice",
         "1997-02-28",
         27,
         90000,
         "Finance",
         135000.0,
         99000.0,
         "31 to 40"
        ],
        [
         4,
         "Emily",
         "1994-11-22",
         30,
         70000,
         "Finance",
         105000.0,
         77000.0,
         "31 to 40"
        ],
        [
         9,
         "James",
         "1983-10-14",
         41,
         87000,
         "IT",
         130500.0,
         95700.0,
         "31 to 40"
        ],
        [
         8,
         "Lisa",
         "1995-08-20",
         29,
         58000,
         "HR",
         87000.0,
         63800.0,
         "31 to 40"
        ]
       ],
       "datasetInfos": [],
       "dbfsResultPath": null,
       "isJsonSchema": true,
       "metadata": {},
       "overflow": false,
       "plotOptions": {
        "customPlotOptions": {},
        "displayType": "table",
        "pivotAggregation": null,
        "pivotColumns": null,
        "xColumns": null,
        "yColumns": null
       },
       "removedWidgets": [],
       "schema": [
        {
         "metadata": "{}",
         "name": "id",
         "type": "\"integer\""
        },
        {
         "metadata": "{}",
         "name": "first_name",
         "type": "\"string\""
        },
        {
         "metadata": "{}",
         "name": "dob",
         "type": "\"date\""
        },
        {
         "metadata": "{}",
         "name": "age",
         "type": "\"integer\""
        },
        {
         "metadata": "{}",
         "name": "salary",
         "type": "\"integer\""
        },
        {
         "metadata": "{}",
         "name": "department",
         "type": "\"string\""
        },
        {
         "metadata": "{}",
         "name": "salary_raise",
         "type": "\"double\""
        },
        {
         "metadata": "{}",
         "name": "salary_rasie_10_perc",
         "type": "\"double\""
        },
        {
         "metadata": "{}",
         "name": "age_group",
         "type": "\"string\""
        }
       ],
       "type": "table"
      }
     },
     "output_type": "display_data"
    }
   ],
   "source": [
    "%sql\n",
    "select * from final"
   ]
  },
  {
   "cell_type": "code",
   "execution_count": 0,
   "metadata": {
    "application/vnd.databricks.v1+cell": {
     "cellMetadata": {},
     "inputWidgets": {},
     "nuid": "291d4ad1-8030-4aea-897a-9aa349422b5b",
     "showTitle": false,
     "title": ""
    }
   },
   "outputs": [],
   "source": []
  },
  {
   "cell_type": "code",
   "execution_count": 0,
   "metadata": {
    "application/vnd.databricks.v1+cell": {
     "cellMetadata": {},
     "inputWidgets": {},
     "nuid": "e85dd021-b06c-4e6c-9928-d715de2a6c25",
     "showTitle": false,
     "title": ""
    }
   },
   "outputs": [],
   "source": [
    "%sql\n",
    "select * except(id, )"
   ]
  },
  {
   "cell_type": "code",
   "execution_count": 0,
   "metadata": {
    "application/vnd.databricks.v1+cell": {
     "cellMetadata": {
      "byteLimit": 2048000,
      "rowLimit": 10000
     },
     "inputWidgets": {},
     "nuid": "4ef70471-6adf-46eb-9f7b-9be7a669fac3",
     "showTitle": false,
     "title": ""
    }
   },
   "outputs": [],
   "source": [
    "table_df = spark.table(\"final\")"
   ]
  },
  {
   "cell_type": "code",
   "execution_count": 0,
   "metadata": {
    "application/vnd.databricks.v1+cell": {
     "cellMetadata": {
      "byteLimit": 2048000,
      "rowLimit": 10000
     },
     "inputWidgets": {},
     "nuid": "a74cf1a0-859d-44b4-95d0-cc431b83ad09",
     "showTitle": false,
     "title": ""
    }
   },
   "outputs": [
    {
     "output_type": "stream",
     "name": "stdout",
     "output_type": "stream",
     "text": [
      "+---+----------+----------+---+------+----------+------------+--------------------+------------+\n| id|first_name|       dob|age|salary|department|salary_raise|salary_rasie_10_perc|   age_group|\n+---+----------+----------+---+------+----------+------------+--------------------+------------+\n|  5|     David|1981-12-18| 43| 90000|        HR|    135000.0|             99000.0|More than 40|\n|  3|       Bob|      null| -1| 80000|        IT|    120000.0|             88000.0|More than 40|\n|  4|     Emily|1994-11-22| 30| 65000|   Finance|     97500.0|             71500.0|    31 to 40|\n|  2|     Alice|1997-02-28| 27| 60000|        HR|     90000.0|             66000.0|    31 to 40|\n|  1|      John|1992-05-12| 32| 70000|        IT|    105000.0|             77000.0|    31 to 40|\n|  6|     Susan|1989-07-05| 35| 75000|   Finance|    112500.0|             82500.0|    31 to 40|\n|  7|      Mike|1976-03-15| 48| 95000|        IT|    142500.0|            104500.0|More than 40|\n| 10|    Sophie|1992-06-30| 32| 62000|   Finance|     93000.0|             68200.0|    31 to 40|\n|  2|     Alice|1997-02-28| 27| 90000|   Finance|    135000.0|             99000.0|    31 to 40|\n|  4|     Emily|1994-11-22| 30| 70000|   Finance|    105000.0|             77000.0|    31 to 40|\n|  9|     James|1983-10-14| 41| 87000|        IT|    130500.0|             95700.0|    31 to 40|\n|  8|      Lisa|1995-08-20| 29| 58000|        HR|     87000.0|             63800.0|    31 to 40|\n+---+----------+----------+---+------+----------+------------+--------------------+------------+\n\n"
     ]
    }
   ],
   "source": [
    "table_df.show()"
   ]
  },
  {
   "cell_type": "code",
   "execution_count": 0,
   "metadata": {
    "application/vnd.databricks.v1+cell": {
     "cellMetadata": {
      "byteLimit": 2048000,
      "rowLimit": 10000
     },
     "inputWidgets": {},
     "nuid": "ea5b2240-6f6b-4faf-871b-8d5f9591a5be",
     "showTitle": false,
     "title": ""
    }
   },
   "outputs": [
    {
     "output_type": "display_data",
     "data": {
      "text/html": [
       "<style scoped>\n",
       "  .table-result-container {\n",
       "    max-height: 300px;\n",
       "    overflow: auto;\n",
       "  }\n",
       "  table, th, td {\n",
       "    border: 1px solid black;\n",
       "    border-collapse: collapse;\n",
       "  }\n",
       "  th, td {\n",
       "    padding: 5px;\n",
       "  }\n",
       "  th {\n",
       "    text-align: left;\n",
       "  }\n",
       "</style><div class='table-result-container'><table class='table-result'><thead style='background-color: white'><tr><th>id</th><th>first_name</th><th>dob</th><th>age</th><th>salary</th><th>department</th><th>salary_raise</th><th>salary_rasie_10_perc</th><th>age_group</th></tr></thead><tbody><tr><td>5</td><td>David</td><td>1981-12-18</td><td>43</td><td>90000</td><td>HR</td><td>135000.0</td><td>99000.0</td><td>More than 40</td></tr><tr><td>3</td><td>Bob</td><td>null</td><td>-1</td><td>80000</td><td>IT</td><td>120000.0</td><td>88000.0</td><td>More than 40</td></tr><tr><td>4</td><td>Emily</td><td>1994-11-22</td><td>30</td><td>65000</td><td>Finance</td><td>97500.0</td><td>71500.0</td><td>31 to 40</td></tr><tr><td>2</td><td>Alice</td><td>1997-02-28</td><td>27</td><td>60000</td><td>HR</td><td>90000.0</td><td>66000.0</td><td>31 to 40</td></tr><tr><td>1</td><td>John</td><td>1992-05-12</td><td>32</td><td>70000</td><td>IT</td><td>105000.0</td><td>77000.0</td><td>31 to 40</td></tr><tr><td>6</td><td>Susan</td><td>1989-07-05</td><td>35</td><td>75000</td><td>Finance</td><td>112500.0</td><td>82500.0</td><td>31 to 40</td></tr><tr><td>7</td><td>Mike</td><td>1976-03-15</td><td>48</td><td>95000</td><td>IT</td><td>142500.0</td><td>104500.0</td><td>More than 40</td></tr><tr><td>10</td><td>Sophie</td><td>1992-06-30</td><td>32</td><td>62000</td><td>Finance</td><td>93000.0</td><td>68200.0</td><td>31 to 40</td></tr><tr><td>2</td><td>Alice</td><td>1997-02-28</td><td>27</td><td>90000</td><td>Finance</td><td>135000.0</td><td>99000.0</td><td>31 to 40</td></tr><tr><td>4</td><td>Emily</td><td>1994-11-22</td><td>30</td><td>70000</td><td>Finance</td><td>105000.0</td><td>77000.0</td><td>31 to 40</td></tr><tr><td>9</td><td>James</td><td>1983-10-14</td><td>41</td><td>87000</td><td>IT</td><td>130500.0</td><td>95700.0</td><td>31 to 40</td></tr><tr><td>8</td><td>Lisa</td><td>1995-08-20</td><td>29</td><td>58000</td><td>HR</td><td>87000.0</td><td>63800.0</td><td>31 to 40</td></tr></tbody></table></div>"
      ]
     },
     "metadata": {
      "application/vnd.databricks.v1+output": {
       "addedWidgets": {},
       "aggData": [],
       "aggError": "",
       "aggOverflow": false,
       "aggSchema": [],
       "aggSeriesLimitReached": false,
       "aggType": "",
       "arguments": {},
       "columnCustomDisplayInfos": {},
       "data": [
        [
         5,
         "David",
         "1981-12-18",
         43,
         90000,
         "HR",
         135000.0,
         99000.0,
         "More than 40"
        ],
        [
         3,
         "Bob",
         null,
         -1,
         80000,
         "IT",
         120000.0,
         88000.0,
         "More than 40"
        ],
        [
         4,
         "Emily",
         "1994-11-22",
         30,
         65000,
         "Finance",
         97500.0,
         71500.0,
         "31 to 40"
        ],
        [
         2,
         "Alice",
         "1997-02-28",
         27,
         60000,
         "HR",
         90000.0,
         66000.0,
         "31 to 40"
        ],
        [
         1,
         "John",
         "1992-05-12",
         32,
         70000,
         "IT",
         105000.0,
         77000.0,
         "31 to 40"
        ],
        [
         6,
         "Susan",
         "1989-07-05",
         35,
         75000,
         "Finance",
         112500.0,
         82500.0,
         "31 to 40"
        ],
        [
         7,
         "Mike",
         "1976-03-15",
         48,
         95000,
         "IT",
         142500.0,
         104500.0,
         "More than 40"
        ],
        [
         10,
         "Sophie",
         "1992-06-30",
         32,
         62000,
         "Finance",
         93000.0,
         68200.0,
         "31 to 40"
        ],
        [
         2,
         "Alice",
         "1997-02-28",
         27,
         90000,
         "Finance",
         135000.0,
         99000.0,
         "31 to 40"
        ],
        [
         4,
         "Emily",
         "1994-11-22",
         30,
         70000,
         "Finance",
         105000.0,
         77000.0,
         "31 to 40"
        ],
        [
         9,
         "James",
         "1983-10-14",
         41,
         87000,
         "IT",
         130500.0,
         95700.0,
         "31 to 40"
        ],
        [
         8,
         "Lisa",
         "1995-08-20",
         29,
         58000,
         "HR",
         87000.0,
         63800.0,
         "31 to 40"
        ]
       ],
       "datasetInfos": [],
       "dbfsResultPath": null,
       "isJsonSchema": true,
       "metadata": {},
       "overflow": false,
       "plotOptions": {
        "customPlotOptions": {},
        "displayType": "table",
        "pivotAggregation": null,
        "pivotColumns": null,
        "xColumns": null,
        "yColumns": null
       },
       "removedWidgets": [],
       "schema": [
        {
         "metadata": "{}",
         "name": "id",
         "type": "\"integer\""
        },
        {
         "metadata": "{}",
         "name": "first_name",
         "type": "\"string\""
        },
        {
         "metadata": "{}",
         "name": "dob",
         "type": "\"date\""
        },
        {
         "metadata": "{}",
         "name": "age",
         "type": "\"integer\""
        },
        {
         "metadata": "{}",
         "name": "salary",
         "type": "\"integer\""
        },
        {
         "metadata": "{}",
         "name": "department",
         "type": "\"string\""
        },
        {
         "metadata": "{}",
         "name": "salary_raise",
         "type": "\"double\""
        },
        {
         "metadata": "{}",
         "name": "salary_rasie_10_perc",
         "type": "\"double\""
        },
        {
         "metadata": "{}",
         "name": "age_group",
         "type": "\"string\""
        }
       ],
       "type": "table"
      }
     },
     "output_type": "display_data"
    }
   ],
   "source": [
    "display(table_df)"
   ]
  },
  {
   "cell_type": "code",
   "execution_count": 0,
   "metadata": {
    "application/vnd.databricks.v1+cell": {
     "cellMetadata": {},
     "inputWidgets": {},
     "nuid": "09f2af1b-3f51-4181-9a4a-69b986a5ce91",
     "showTitle": false,
     "title": ""
    }
   },
   "outputs": [],
   "source": []
  }
 ],
 "metadata": {
  "application/vnd.databricks.v1+notebook": {
   "dashboards": [],
   "language": "python",
   "notebookMetadata": {
    "mostRecentlyExecutedCommandWithImplicitDF": {
     "commandId": 1571761928794242,
     "dataframes": [
      "_sqldf"
     ]
    },
    "pythonIndentUnit": 4
   },
   "notebookName": "pyspark_session",
   "widgets": {}
  }
 },
 "nbformat": 4,
 "nbformat_minor": 0
}
