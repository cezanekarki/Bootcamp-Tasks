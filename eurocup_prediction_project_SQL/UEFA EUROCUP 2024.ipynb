{
 "cells": [
  {
   "cell_type": "markdown",
   "metadata": {
    "application/vnd.databricks.v1+cell": {
     "cellMetadata": {
      "byteLimit": 2048000,
      "rowLimit": 10000
     },
     "inputWidgets": {},
     "nuid": "b6003a99-80ad-4d82-853e-e312110cf184",
     "showTitle": false,
     "title": ""
    }
   },
   "source": [
    "Table for the Groups of Teams"
   ]
  },
  {
   "cell_type": "code",
   "execution_count": 0,
   "metadata": {
    "application/vnd.databricks.v1+cell": {
     "cellMetadata": {
      "byteLimit": 2048000,
      "rowLimit": 10000
     },
     "inputWidgets": {},
     "nuid": "cd956e9b-e268-4484-9142-c38133f4a279",
     "showTitle": false,
     "title": ""
    }
   },
   "outputs": [
    {
     "output_type": "stream",
     "name": "stdout",
     "output_type": "stream",
     "text": [
      "Out[40]: True"
     ]
    }
   ],
   "source": [
    "dbutils.fs.rm(\"dbfs:/user/hive/warehouse/teams_group\",True)"
   ]
  },
  {
   "cell_type": "code",
   "execution_count": 0,
   "metadata": {
    "application/vnd.databricks.v1+cell": {
     "cellMetadata": {
      "byteLimit": 2048000,
      "rowLimit": 10000
     },
     "inputWidgets": {},
     "nuid": "c965cbbb-92b4-4e25-9ba3-e874a76a996c",
     "showTitle": false,
     "title": ""
    }
   },
   "outputs": [
    {
     "output_type": "stream",
     "name": "stdout",
     "output_type": "stream",
     "text": [
      "Out[41]: True"
     ]
    }
   ],
   "source": [
    "dbutils.fs.rm(\"dbfs:/user/hive/warehouse/matches\",True)"
   ]
  },
  {
   "cell_type": "code",
   "execution_count": 0,
   "metadata": {
    "application/vnd.databricks.v1+cell": {
     "cellMetadata": {
      "byteLimit": 2048000,
      "rowLimit": 10000
     },
     "inputWidgets": {},
     "nuid": "31c2a47d-144f-4ac0-9661-0fd4db01ba30",
     "showTitle": false,
     "title": ""
    }
   },
   "outputs": [
    {
     "output_type": "stream",
     "name": "stdout",
     "output_type": "stream",
     "text": [
      "Out[42]: True"
     ]
    }
   ],
   "source": [
    "dbutils.fs.rm(\"dbfs:/user/hive/warehouse/third_place_combination\",True)"
   ]
  },
  {
   "cell_type": "code",
   "execution_count": 0,
   "metadata": {
    "application/vnd.databricks.v1+cell": {
     "cellMetadata": {
      "byteLimit": 2048000,
      "implicitDf": true,
      "rowLimit": 10000
     },
     "inputWidgets": {},
     "nuid": "f8efd5ab-0b27-43b6-8d57-cb22772cfe07",
     "showTitle": false,
     "title": ""
    }
   },
   "outputs": [
    {
     "output_type": "display_data",
     "data": {
      "text/html": [
       "<style scoped>\n",
       "  .table-result-container {\n",
       "    max-height: 300px;\n",
       "    overflow: auto;\n",
       "  }\n",
       "  table, th, td {\n",
       "    border: 1px solid black;\n",
       "    border-collapse: collapse;\n",
       "  }\n",
       "  th, td {\n",
       "    padding: 5px;\n",
       "  }\n",
       "  th {\n",
       "    text-align: left;\n",
       "  }\n",
       "</style><div class='table-result-container'><table class='table-result'><thead style='background-color: white'><tr></tr></thead><tbody></tbody></table></div>"
      ]
     },
     "metadata": {
      "application/vnd.databricks.v1+output": {
       "addedWidgets": {},
       "aggData": [],
       "aggError": "",
       "aggOverflow": false,
       "aggSchema": [],
       "aggSeriesLimitReached": false,
       "aggType": "",
       "arguments": {},
       "columnCustomDisplayInfos": {},
       "data": [],
       "datasetInfos": [],
       "dbfsResultPath": null,
       "isJsonSchema": true,
       "metadata": {},
       "overflow": false,
       "plotOptions": {
        "customPlotOptions": {},
        "displayType": "table",
        "pivotAggregation": null,
        "pivotColumns": null,
        "xColumns": null,
        "yColumns": null
       },
       "removedWidgets": [],
       "schema": [],
       "type": "table"
      }
     },
     "output_type": "display_data"
    }
   ],
   "source": [
    "%sql\n",
    "-- Drop the table if it exists\n",
    "DROP TABLE IF EXISTS teams_group;"
   ]
  },
  {
   "cell_type": "code",
   "execution_count": 0,
   "metadata": {
    "application/vnd.databricks.v1+cell": {
     "cellMetadata": {
      "byteLimit": 2048000,
      "implicitDf": true,
      "rowLimit": 10000
     },
     "inputWidgets": {},
     "nuid": "f5ad6a96-922a-4f22-a727-d2b66f7be579",
     "showTitle": false,
     "title": ""
    }
   },
   "outputs": [
    {
     "output_type": "display_data",
     "data": {
      "text/html": [
       "<style scoped>\n",
       "  .table-result-container {\n",
       "    max-height: 300px;\n",
       "    overflow: auto;\n",
       "  }\n",
       "  table, th, td {\n",
       "    border: 1px solid black;\n",
       "    border-collapse: collapse;\n",
       "  }\n",
       "  th, td {\n",
       "    padding: 5px;\n",
       "  }\n",
       "  th {\n",
       "    text-align: left;\n",
       "  }\n",
       "</style><div class='table-result-container'><table class='table-result'><thead style='background-color: white'><tr></tr></thead><tbody></tbody></table></div>"
      ]
     },
     "metadata": {
      "application/vnd.databricks.v1+output": {
       "addedWidgets": {},
       "aggData": [],
       "aggError": "",
       "aggOverflow": false,
       "aggSchema": [],
       "aggSeriesLimitReached": false,
       "aggType": "",
       "arguments": {},
       "columnCustomDisplayInfos": {},
       "data": [],
       "datasetInfos": [],
       "dbfsResultPath": null,
       "isJsonSchema": true,
       "metadata": {},
       "overflow": false,
       "plotOptions": {
        "customPlotOptions": {},
        "displayType": "table",
        "pivotAggregation": null,
        "pivotColumns": null,
        "xColumns": null,
        "yColumns": null
       },
       "removedWidgets": [],
       "schema": [],
       "type": "table"
      }
     },
     "output_type": "display_data"
    }
   ],
   "source": [
    "%sql\n",
    "CREATE or REPLACE TABLE teams_group (\n",
    "    team_id INTEGER,\n",
    "    team_name VARCHAR(20),\n",
    "    group_name VARCHAR(1) \n",
    ");"
   ]
  },
  {
   "cell_type": "code",
   "execution_count": 0,
   "metadata": {
    "application/vnd.databricks.v1+cell": {
     "cellMetadata": {
      "byteLimit": 2048000,
      "implicitDf": true,
      "rowLimit": 10000
     },
     "inputWidgets": {},
     "nuid": "9f7f938b-2696-4105-99a9-a312dd0a06c7",
     "showTitle": false,
     "title": ""
    }
   },
   "outputs": [
    {
     "output_type": "display_data",
     "data": {
      "text/html": [
       "<style scoped>\n",
       "  .table-result-container {\n",
       "    max-height: 300px;\n",
       "    overflow: auto;\n",
       "  }\n",
       "  table, th, td {\n",
       "    border: 1px solid black;\n",
       "    border-collapse: collapse;\n",
       "  }\n",
       "  th, td {\n",
       "    padding: 5px;\n",
       "  }\n",
       "  th {\n",
       "    text-align: left;\n",
       "  }\n",
       "</style><div class='table-result-container'><table class='table-result'><thead style='background-color: white'><tr><th>num_affected_rows</th><th>num_inserted_rows</th></tr></thead><tbody><tr><td>24</td><td>24</td></tr></tbody></table></div>"
      ]
     },
     "metadata": {
      "application/vnd.databricks.v1+output": {
       "addedWidgets": {},
       "aggData": [],
       "aggError": "",
       "aggOverflow": false,
       "aggSchema": [],
       "aggSeriesLimitReached": false,
       "aggType": "",
       "arguments": {},
       "columnCustomDisplayInfos": {},
       "data": [
        [
         24,
         24
        ]
       ],
       "datasetInfos": [],
       "dbfsResultPath": null,
       "isJsonSchema": true,
       "metadata": {},
       "overflow": false,
       "plotOptions": {
        "customPlotOptions": {},
        "displayType": "table",
        "pivotAggregation": null,
        "pivotColumns": null,
        "xColumns": null,
        "yColumns": null
       },
       "removedWidgets": [],
       "schema": [
        {
         "metadata": "{}",
         "name": "num_affected_rows",
         "type": "\"long\""
        },
        {
         "metadata": "{}",
         "name": "num_inserted_rows",
         "type": "\"long\""
        }
       ],
       "type": "table"
      }
     },
     "output_type": "display_data"
    }
   ],
   "source": [
    "%sql\n",
    "INSERT INTO teams_group (team_id,team_name,group_name) VALUES\n",
    "-- Group A\n",
    "    (1, 'Germany','A'),\n",
    "    (2, 'Scotland','A'),\n",
    "    (3, 'Hungary','A'),\n",
    "    (4, 'Switzerland','A'),\n",
    "\n",
    "-- Group B\n",
    "    (5, 'Spain','B'),\n",
    "    (6, 'Croatia','B'),\n",
    "    (7, 'Italy','B'),\n",
    "    (8, 'Albania','B'),\n",
    "\n",
    "-- Group C\n",
    "    (9, 'Slovenia','C'),\n",
    "    (10, 'Denmark','C'),\n",
    "    (11, 'Serbia','C'),\n",
    "    (12, 'England','C'),\n",
    "\n",
    "-- Group D\n",
    "    (13, 'Netherlands','D'),\n",
    "    (14, 'Austria','D'),\n",
    "    (15, 'France','D'),\n",
    "    (16, 'Play-off Winner A','D'),\n",
    "\n",
    "-- Group E\n",
    "    (17, 'Belgium','E'),\n",
    "    (18, 'Slovakia','E'),\n",
    "    (19, 'Romania','E'),\n",
    "    (20, 'Play-off Winner B','E'),\n",
    "\n",
    "-- Group F\n",
    "    (21, 'Turkey','F'),\n",
    "    (22, 'Play-off Winner C','F'),\n",
    "    (23, 'Portugal','F'),\n",
    "    (24, 'Czech Republic','F');\n"
   ]
  },
  {
   "cell_type": "markdown",
   "metadata": {
    "application/vnd.databricks.v1+cell": {
     "cellMetadata": {
      "byteLimit": 2048000,
      "rowLimit": 10000
     },
     "inputWidgets": {},
     "nuid": "6da41368-1c03-4336-9e0b-11e79e73c1b6",
     "showTitle": false,
     "title": ""
    }
   },
   "source": [
    "Table for Inserting all the matches in EuroCup2024"
   ]
  },
  {
   "cell_type": "code",
   "execution_count": 0,
   "metadata": {
    "application/vnd.databricks.v1+cell": {
     "cellMetadata": {
      "byteLimit": 2048000,
      "implicitDf": true,
      "rowLimit": 10000
     },
     "inputWidgets": {},
     "nuid": "eb1c9397-6f59-4729-b247-04dc5f78e774",
     "showTitle": false,
     "title": ""
    }
   },
   "outputs": [
    {
     "output_type": "display_data",
     "data": {
      "text/html": [
       "<style scoped>\n",
       "  .table-result-container {\n",
       "    max-height: 300px;\n",
       "    overflow: auto;\n",
       "  }\n",
       "  table, th, td {\n",
       "    border: 1px solid black;\n",
       "    border-collapse: collapse;\n",
       "  }\n",
       "  th, td {\n",
       "    padding: 5px;\n",
       "  }\n",
       "  th {\n",
       "    text-align: left;\n",
       "  }\n",
       "</style><div class='table-result-container'><table class='table-result'><thead style='background-color: white'><tr></tr></thead><tbody></tbody></table></div>"
      ]
     },
     "metadata": {
      "application/vnd.databricks.v1+output": {
       "addedWidgets": {},
       "aggData": [],
       "aggError": "",
       "aggOverflow": false,
       "aggSchema": [],
       "aggSeriesLimitReached": false,
       "aggType": "",
       "arguments": {},
       "columnCustomDisplayInfos": {},
       "data": [],
       "datasetInfos": [],
       "dbfsResultPath": null,
       "isJsonSchema": true,
       "metadata": {},
       "overflow": false,
       "plotOptions": {
        "customPlotOptions": {},
        "displayType": "table",
        "pivotAggregation": null,
        "pivotColumns": null,
        "xColumns": null,
        "yColumns": null
       },
       "removedWidgets": [],
       "schema": [],
       "type": "table"
      }
     },
     "output_type": "display_data"
    }
   ],
   "source": [
    "%sql\n",
    "-- Drop the table if it exists\n",
    "DROP TABLE IF EXISTS matches;"
   ]
  },
  {
   "cell_type": "code",
   "execution_count": 0,
   "metadata": {
    "application/vnd.databricks.v1+cell": {
     "cellMetadata": {
      "byteLimit": 2048000,
      "implicitDf": true,
      "rowLimit": 10000
     },
     "inputWidgets": {},
     "nuid": "b170fcf4-37b7-4b30-ab5c-1bcff6034f8c",
     "showTitle": false,
     "title": ""
    }
   },
   "outputs": [
    {
     "output_type": "display_data",
     "data": {
      "text/html": [
       "<style scoped>\n",
       "  .table-result-container {\n",
       "    max-height: 300px;\n",
       "    overflow: auto;\n",
       "  }\n",
       "  table, th, td {\n",
       "    border: 1px solid black;\n",
       "    border-collapse: collapse;\n",
       "  }\n",
       "  th, td {\n",
       "    padding: 5px;\n",
       "  }\n",
       "  th {\n",
       "    text-align: left;\n",
       "  }\n",
       "</style><div class='table-result-container'><table class='table-result'><thead style='background-color: white'><tr></tr></thead><tbody></tbody></table></div>"
      ]
     },
     "metadata": {
      "application/vnd.databricks.v1+output": {
       "addedWidgets": {},
       "aggData": [],
       "aggError": "",
       "aggOverflow": false,
       "aggSchema": [],
       "aggSeriesLimitReached": false,
       "aggType": "",
       "arguments": {},
       "columnCustomDisplayInfos": {},
       "data": [],
       "datasetInfos": [],
       "dbfsResultPath": null,
       "isJsonSchema": true,
       "metadata": {},
       "overflow": false,
       "plotOptions": {
        "customPlotOptions": {},
        "displayType": "table",
        "pivotAggregation": null,
        "pivotColumns": null,
        "xColumns": null,
        "yColumns": null
       },
       "removedWidgets": [],
       "schema": [],
       "type": "table"
      }
     },
     "output_type": "display_data"
    }
   ],
   "source": [
    "%sql\n",
    "CREATE OR REPLACE TABLE matches(\n",
    "    match_id integer,\n",
    "    match_fixtures VARCHAR(50),\n",
    "    group_name VARCHAR(1),\n",
    "    home_team VARCHAR(20),\n",
    "    away_team VARCHAR(20),\n",
    "    home_team_goals INTEGER,\n",
    "    away_team_goals INTEGER,\n",
    "    match_results VARCHAR(20),\n",
    "    match_stage VARCHAR(20)\n",
    ");"
   ]
  },
  {
   "cell_type": "markdown",
   "metadata": {
    "application/vnd.databricks.v1+cell": {
     "cellMetadata": {
      "byteLimit": 2048000,
      "rowLimit": 10000
     },
     "inputWidgets": {},
     "nuid": "efc735b4-de18-464b-a481-135e16011264",
     "showTitle": false,
     "title": ""
    }
   },
   "source": [
    "Create & Insert Match Fixtures of all teams & groups\n",
    "\n",
    "-- Total 36 Matches in total"
   ]
  },
  {
   "cell_type": "code",
   "execution_count": 0,
   "metadata": {
    "application/vnd.databricks.v1+cell": {
     "cellMetadata": {
      "byteLimit": 2048000,
      "implicitDf": true,
      "rowLimit": 10000
     },
     "inputWidgets": {},
     "nuid": "8dcc749d-bc32-4cd2-958d-0213c24770d5",
     "showTitle": false,
     "title": ""
    }
   },
   "outputs": [
    {
     "output_type": "display_data",
     "data": {
      "text/html": [
       "<style scoped>\n",
       "  .table-result-container {\n",
       "    max-height: 300px;\n",
       "    overflow: auto;\n",
       "  }\n",
       "  table, th, td {\n",
       "    border: 1px solid black;\n",
       "    border-collapse: collapse;\n",
       "  }\n",
       "  th, td {\n",
       "    padding: 5px;\n",
       "  }\n",
       "  th {\n",
       "    text-align: left;\n",
       "  }\n",
       "</style><div class='table-result-container'><table class='table-result'><thead style='background-color: white'><tr><th>num_affected_rows</th><th>num_inserted_rows</th></tr></thead><tbody><tr><td>36</td><td>36</td></tr></tbody></table></div>"
      ]
     },
     "metadata": {
      "application/vnd.databricks.v1+output": {
       "addedWidgets": {},
       "aggData": [],
       "aggError": "",
       "aggOverflow": false,
       "aggSchema": [],
       "aggSeriesLimitReached": false,
       "aggType": "",
       "arguments": {},
       "columnCustomDisplayInfos": {},
       "data": [
        [
         36,
         36
        ]
       ],
       "datasetInfos": [],
       "dbfsResultPath": null,
       "isJsonSchema": true,
       "metadata": {},
       "overflow": false,
       "plotOptions": {
        "customPlotOptions": {},
        "displayType": "table",
        "pivotAggregation": null,
        "pivotColumns": null,
        "xColumns": null,
        "yColumns": null
       },
       "removedWidgets": [],
       "schema": [
        {
         "metadata": "{}",
         "name": "num_affected_rows",
         "type": "\"long\""
        },
        {
         "metadata": "{}",
         "name": "num_inserted_rows",
         "type": "\"long\""
        }
       ],
       "type": "table"
      }
     },
     "output_type": "display_data"
    }
   ],
   "source": [
    "%sql\n",
    "INSERT INTO matches\n",
    "SELECT\n",
    "row_number() OVER (ORDER BY 1) as match_id,\n",
    "concat(team1.team_name, ' Vs ' , team2.team_name )AS match_fixtures,\n",
    "team1.group_name AS group_name,\n",
    "team1.team_name AS home_team,\n",
    "team2.team_name AS away_team,\n",
    "cast(rand() * 6 AS INTEGER) AS goals_scored,\n",
    "cast(rand() * 6 AS INTEGER) AS goals_allowed,\n",
    "'NONE' AS match_result,\n",
    "'Group Stage' AS match_stage\n",
    "FROM\n",
    "teams_group AS team1\n",
    "CROSS JOIN\n",
    "teams_group AS team2 \n",
    "WHERE\n",
    "team1.group_name = team2.group_name AND team1.team_id < team2.team_id;  --team2 ID should be greater than team1 ID to prevent repeatition "
   ]
  },
  {
   "cell_type": "code",
   "execution_count": 0,
   "metadata": {
    "application/vnd.databricks.v1+cell": {
     "cellMetadata": {
      "byteLimit": 2048000,
      "implicitDf": true,
      "rowLimit": 10000
     },
     "inputWidgets": {},
     "nuid": "1607cf3c-93c1-4fd0-a31f-c471ee86f2e4",
     "showTitle": false,
     "title": ""
    }
   },
   "outputs": [
    {
     "output_type": "display_data",
     "data": {
      "text/html": [
       "<style scoped>\n",
       "  .table-result-container {\n",
       "    max-height: 300px;\n",
       "    overflow: auto;\n",
       "  }\n",
       "  table, th, td {\n",
       "    border: 1px solid black;\n",
       "    border-collapse: collapse;\n",
       "  }\n",
       "  th, td {\n",
       "    padding: 5px;\n",
       "  }\n",
       "  th {\n",
       "    text-align: left;\n",
       "  }\n",
       "</style><div class='table-result-container'><table class='table-result'><thead style='background-color: white'><tr><th>match_id</th><th>match_fixtures</th><th>group_name</th><th>home_team</th><th>away_team</th><th>home_team_goals</th><th>away_team_goals</th><th>match_results</th><th>match_stage</th></tr></thead><tbody><tr><td>1</td><td>Germany Vs Switzerland</td><td>A</td><td>Germany</td><td>Switzerland</td><td>0</td><td>1</td><td>NONE</td><td>Group Stage</td></tr><tr><td>2</td><td>Germany Vs Hungary</td><td>A</td><td>Germany</td><td>Hungary</td><td>3</td><td>3</td><td>NONE</td><td>Group Stage</td></tr><tr><td>3</td><td>Germany Vs Scotland</td><td>A</td><td>Germany</td><td>Scotland</td><td>1</td><td>5</td><td>NONE</td><td>Group Stage</td></tr><tr><td>4</td><td>Scotland Vs Switzerland</td><td>A</td><td>Scotland</td><td>Switzerland</td><td>2</td><td>2</td><td>NONE</td><td>Group Stage</td></tr><tr><td>5</td><td>Scotland Vs Hungary</td><td>A</td><td>Scotland</td><td>Hungary</td><td>3</td><td>4</td><td>NONE</td><td>Group Stage</td></tr><tr><td>6</td><td>Hungary Vs Switzerland</td><td>A</td><td>Hungary</td><td>Switzerland</td><td>0</td><td>0</td><td>NONE</td><td>Group Stage</td></tr><tr><td>7</td><td>Spain Vs Albania</td><td>B</td><td>Spain</td><td>Albania</td><td>1</td><td>4</td><td>NONE</td><td>Group Stage</td></tr><tr><td>8</td><td>Spain Vs Italy</td><td>B</td><td>Spain</td><td>Italy</td><td>4</td><td>0</td><td>NONE</td><td>Group Stage</td></tr><tr><td>9</td><td>Spain Vs Croatia</td><td>B</td><td>Spain</td><td>Croatia</td><td>5</td><td>5</td><td>NONE</td><td>Group Stage</td></tr><tr><td>10</td><td>Croatia Vs Albania</td><td>B</td><td>Croatia</td><td>Albania</td><td>1</td><td>4</td><td>NONE</td><td>Group Stage</td></tr><tr><td>11</td><td>Croatia Vs Italy</td><td>B</td><td>Croatia</td><td>Italy</td><td>5</td><td>2</td><td>NONE</td><td>Group Stage</td></tr><tr><td>12</td><td>Italy Vs Albania</td><td>B</td><td>Italy</td><td>Albania</td><td>3</td><td>0</td><td>NONE</td><td>Group Stage</td></tr><tr><td>13</td><td>Slovenia Vs England</td><td>C</td><td>Slovenia</td><td>England</td><td>4</td><td>5</td><td>NONE</td><td>Group Stage</td></tr><tr><td>14</td><td>Slovenia Vs Serbia</td><td>C</td><td>Slovenia</td><td>Serbia</td><td>2</td><td>2</td><td>NONE</td><td>Group Stage</td></tr><tr><td>15</td><td>Slovenia Vs Denmark</td><td>C</td><td>Slovenia</td><td>Denmark</td><td>5</td><td>0</td><td>NONE</td><td>Group Stage</td></tr><tr><td>16</td><td>Denmark Vs England</td><td>C</td><td>Denmark</td><td>England</td><td>3</td><td>4</td><td>NONE</td><td>Group Stage</td></tr><tr><td>17</td><td>Denmark Vs Serbia</td><td>C</td><td>Denmark</td><td>Serbia</td><td>0</td><td>3</td><td>NONE</td><td>Group Stage</td></tr><tr><td>18</td><td>Serbia Vs England</td><td>C</td><td>Serbia</td><td>England</td><td>5</td><td>1</td><td>NONE</td><td>Group Stage</td></tr><tr><td>19</td><td>Netherlands Vs Play-off Winner A</td><td>D</td><td>Netherlands</td><td>Play-off Winner A</td><td>3</td><td>3</td><td>NONE</td><td>Group Stage</td></tr><tr><td>20</td><td>Netherlands Vs France</td><td>D</td><td>Netherlands</td><td>France</td><td>5</td><td>5</td><td>NONE</td><td>Group Stage</td></tr><tr><td>21</td><td>Netherlands Vs Austria</td><td>D</td><td>Netherlands</td><td>Austria</td><td>3</td><td>4</td><td>NONE</td><td>Group Stage</td></tr><tr><td>22</td><td>Austria Vs Play-off Winner A</td><td>D</td><td>Austria</td><td>Play-off Winner A</td><td>2</td><td>0</td><td>NONE</td><td>Group Stage</td></tr><tr><td>23</td><td>Austria Vs France</td><td>D</td><td>Austria</td><td>France</td><td>2</td><td>5</td><td>NONE</td><td>Group Stage</td></tr><tr><td>24</td><td>France Vs Play-off Winner A</td><td>D</td><td>France</td><td>Play-off Winner A</td><td>4</td><td>0</td><td>NONE</td><td>Group Stage</td></tr><tr><td>25</td><td>Belgium Vs Play-off Winner B</td><td>E</td><td>Belgium</td><td>Play-off Winner B</td><td>1</td><td>0</td><td>NONE</td><td>Group Stage</td></tr><tr><td>26</td><td>Belgium Vs Romania</td><td>E</td><td>Belgium</td><td>Romania</td><td>2</td><td>3</td><td>NONE</td><td>Group Stage</td></tr><tr><td>27</td><td>Belgium Vs Slovakia</td><td>E</td><td>Belgium</td><td>Slovakia</td><td>0</td><td>0</td><td>NONE</td><td>Group Stage</td></tr><tr><td>28</td><td>Slovakia Vs Play-off Winner B</td><td>E</td><td>Slovakia</td><td>Play-off Winner B</td><td>3</td><td>5</td><td>NONE</td><td>Group Stage</td></tr><tr><td>29</td><td>Slovakia Vs Romania</td><td>E</td><td>Slovakia</td><td>Romania</td><td>1</td><td>4</td><td>NONE</td><td>Group Stage</td></tr><tr><td>30</td><td>Romania Vs Play-off Winner B</td><td>E</td><td>Romania</td><td>Play-off Winner B</td><td>1</td><td>5</td><td>NONE</td><td>Group Stage</td></tr><tr><td>31</td><td>Turkey Vs Czech Republic</td><td>F</td><td>Turkey</td><td>Czech Republic</td><td>2</td><td>3</td><td>NONE</td><td>Group Stage</td></tr><tr><td>32</td><td>Turkey Vs Portugal</td><td>F</td><td>Turkey</td><td>Portugal</td><td>1</td><td>5</td><td>NONE</td><td>Group Stage</td></tr><tr><td>33</td><td>Turkey Vs Play-off Winner C</td><td>F</td><td>Turkey</td><td>Play-off Winner C</td><td>2</td><td>0</td><td>NONE</td><td>Group Stage</td></tr><tr><td>34</td><td>Play-off Winner C Vs Czech Republic</td><td>F</td><td>Play-off Winner C</td><td>Czech Republic</td><td>1</td><td>2</td><td>NONE</td><td>Group Stage</td></tr><tr><td>35</td><td>Play-off Winner C Vs Portugal</td><td>F</td><td>Play-off Winner C</td><td>Portugal</td><td>2</td><td>5</td><td>NONE</td><td>Group Stage</td></tr><tr><td>36</td><td>Portugal Vs Czech Republic</td><td>F</td><td>Portugal</td><td>Czech Republic</td><td>0</td><td>1</td><td>NONE</td><td>Group Stage</td></tr></tbody></table></div>"
      ]
     },
     "metadata": {
      "application/vnd.databricks.v1+output": {
       "addedWidgets": {},
       "aggData": [],
       "aggError": "",
       "aggOverflow": false,
       "aggSchema": [],
       "aggSeriesLimitReached": false,
       "aggType": "",
       "arguments": {},
       "columnCustomDisplayInfos": {},
       "data": [
        [
         1,
         "Germany Vs Switzerland",
         "A",
         "Germany",
         "Switzerland",
         0,
         1,
         "NONE",
         "Group Stage"
        ],
        [
         2,
         "Germany Vs Hungary",
         "A",
         "Germany",
         "Hungary",
         3,
         3,
         "NONE",
         "Group Stage"
        ],
        [
         3,
         "Germany Vs Scotland",
         "A",
         "Germany",
         "Scotland",
         1,
         5,
         "NONE",
         "Group Stage"
        ],
        [
         4,
         "Scotland Vs Switzerland",
         "A",
         "Scotland",
         "Switzerland",
         2,
         2,
         "NONE",
         "Group Stage"
        ],
        [
         5,
         "Scotland Vs Hungary",
         "A",
         "Scotland",
         "Hungary",
         3,
         4,
         "NONE",
         "Group Stage"
        ],
        [
         6,
         "Hungary Vs Switzerland",
         "A",
         "Hungary",
         "Switzerland",
         0,
         0,
         "NONE",
         "Group Stage"
        ],
        [
         7,
         "Spain Vs Albania",
         "B",
         "Spain",
         "Albania",
         1,
         4,
         "NONE",
         "Group Stage"
        ],
        [
         8,
         "Spain Vs Italy",
         "B",
         "Spain",
         "Italy",
         4,
         0,
         "NONE",
         "Group Stage"
        ],
        [
         9,
         "Spain Vs Croatia",
         "B",
         "Spain",
         "Croatia",
         5,
         5,
         "NONE",
         "Group Stage"
        ],
        [
         10,
         "Croatia Vs Albania",
         "B",
         "Croatia",
         "Albania",
         1,
         4,
         "NONE",
         "Group Stage"
        ],
        [
         11,
         "Croatia Vs Italy",
         "B",
         "Croatia",
         "Italy",
         5,
         2,
         "NONE",
         "Group Stage"
        ],
        [
         12,
         "Italy Vs Albania",
         "B",
         "Italy",
         "Albania",
         3,
         0,
         "NONE",
         "Group Stage"
        ],
        [
         13,
         "Slovenia Vs England",
         "C",
         "Slovenia",
         "England",
         4,
         5,
         "NONE",
         "Group Stage"
        ],
        [
         14,
         "Slovenia Vs Serbia",
         "C",
         "Slovenia",
         "Serbia",
         2,
         2,
         "NONE",
         "Group Stage"
        ],
        [
         15,
         "Slovenia Vs Denmark",
         "C",
         "Slovenia",
         "Denmark",
         5,
         0,
         "NONE",
         "Group Stage"
        ],
        [
         16,
         "Denmark Vs England",
         "C",
         "Denmark",
         "England",
         3,
         4,
         "NONE",
         "Group Stage"
        ],
        [
         17,
         "Denmark Vs Serbia",
         "C",
         "Denmark",
         "Serbia",
         0,
         3,
         "NONE",
         "Group Stage"
        ],
        [
         18,
         "Serbia Vs England",
         "C",
         "Serbia",
         "England",
         5,
         1,
         "NONE",
         "Group Stage"
        ],
        [
         19,
         "Netherlands Vs Play-off Winner A",
         "D",
         "Netherlands",
         "Play-off Winner A",
         3,
         3,
         "NONE",
         "Group Stage"
        ],
        [
         20,
         "Netherlands Vs France",
         "D",
         "Netherlands",
         "France",
         5,
         5,
         "NONE",
         "Group Stage"
        ],
        [
         21,
         "Netherlands Vs Austria",
         "D",
         "Netherlands",
         "Austria",
         3,
         4,
         "NONE",
         "Group Stage"
        ],
        [
         22,
         "Austria Vs Play-off Winner A",
         "D",
         "Austria",
         "Play-off Winner A",
         2,
         0,
         "NONE",
         "Group Stage"
        ],
        [
         23,
         "Austria Vs France",
         "D",
         "Austria",
         "France",
         2,
         5,
         "NONE",
         "Group Stage"
        ],
        [
         24,
         "France Vs Play-off Winner A",
         "D",
         "France",
         "Play-off Winner A",
         4,
         0,
         "NONE",
         "Group Stage"
        ],
        [
         25,
         "Belgium Vs Play-off Winner B",
         "E",
         "Belgium",
         "Play-off Winner B",
         1,
         0,
         "NONE",
         "Group Stage"
        ],
        [
         26,
         "Belgium Vs Romania",
         "E",
         "Belgium",
         "Romania",
         2,
         3,
         "NONE",
         "Group Stage"
        ],
        [
         27,
         "Belgium Vs Slovakia",
         "E",
         "Belgium",
         "Slovakia",
         0,
         0,
         "NONE",
         "Group Stage"
        ],
        [
         28,
         "Slovakia Vs Play-off Winner B",
         "E",
         "Slovakia",
         "Play-off Winner B",
         3,
         5,
         "NONE",
         "Group Stage"
        ],
        [
         29,
         "Slovakia Vs Romania",
         "E",
         "Slovakia",
         "Romania",
         1,
         4,
         "NONE",
         "Group Stage"
        ],
        [
         30,
         "Romania Vs Play-off Winner B",
         "E",
         "Romania",
         "Play-off Winner B",
         1,
         5,
         "NONE",
         "Group Stage"
        ],
        [
         31,
         "Turkey Vs Czech Republic",
         "F",
         "Turkey",
         "Czech Republic",
         2,
         3,
         "NONE",
         "Group Stage"
        ],
        [
         32,
         "Turkey Vs Portugal",
         "F",
         "Turkey",
         "Portugal",
         1,
         5,
         "NONE",
         "Group Stage"
        ],
        [
         33,
         "Turkey Vs Play-off Winner C",
         "F",
         "Turkey",
         "Play-off Winner C",
         2,
         0,
         "NONE",
         "Group Stage"
        ],
        [
         34,
         "Play-off Winner C Vs Czech Republic",
         "F",
         "Play-off Winner C",
         "Czech Republic",
         1,
         2,
         "NONE",
         "Group Stage"
        ],
        [
         35,
         "Play-off Winner C Vs Portugal",
         "F",
         "Play-off Winner C",
         "Portugal",
         2,
         5,
         "NONE",
         "Group Stage"
        ],
        [
         36,
         "Portugal Vs Czech Republic",
         "F",
         "Portugal",
         "Czech Republic",
         0,
         1,
         "NONE",
         "Group Stage"
        ]
       ],
       "datasetInfos": [],
       "dbfsResultPath": null,
       "isJsonSchema": true,
       "metadata": {},
       "overflow": false,
       "plotOptions": {
        "customPlotOptions": {},
        "displayType": "table",
        "pivotAggregation": null,
        "pivotColumns": null,
        "xColumns": null,
        "yColumns": null
       },
       "removedWidgets": [],
       "schema": [
        {
         "metadata": "{}",
         "name": "match_id",
         "type": "\"integer\""
        },
        {
         "metadata": "{\"__CHAR_VARCHAR_TYPE_STRING\":\"varchar(50)\"}",
         "name": "match_fixtures",
         "type": "\"string\""
        },
        {
         "metadata": "{\"__CHAR_VARCHAR_TYPE_STRING\":\"varchar(1)\"}",
         "name": "group_name",
         "type": "\"string\""
        },
        {
         "metadata": "{\"__CHAR_VARCHAR_TYPE_STRING\":\"varchar(20)\"}",
         "name": "home_team",
         "type": "\"string\""
        },
        {
         "metadata": "{\"__CHAR_VARCHAR_TYPE_STRING\":\"varchar(20)\"}",
         "name": "away_team",
         "type": "\"string\""
        },
        {
         "metadata": "{}",
         "name": "home_team_goals",
         "type": "\"integer\""
        },
        {
         "metadata": "{}",
         "name": "away_team_goals",
         "type": "\"integer\""
        },
        {
         "metadata": "{\"__CHAR_VARCHAR_TYPE_STRING\":\"varchar(20)\"}",
         "name": "match_results",
         "type": "\"string\""
        },
        {
         "metadata": "{\"__CHAR_VARCHAR_TYPE_STRING\":\"varchar(20)\"}",
         "name": "match_stage",
         "type": "\"string\""
        }
       ],
       "type": "table"
      }
     },
     "output_type": "display_data"
    }
   ],
   "source": [
    "%sql\n",
    "SELECT * FROM matches ORDER BY match_id;"
   ]
  },
  {
   "cell_type": "markdown",
   "metadata": {
    "application/vnd.databricks.v1+cell": {
     "cellMetadata": {
      "byteLimit": 2048000,
      "rowLimit": 10000
     },
     "inputWidgets": {},
     "nuid": "e2f57668-9b05-4a87-b398-19b5ae8c9827",
     "showTitle": false,
     "title": ""
    }
   },
   "source": [
    "Next we update Match Results.\n",
    "\n",
    "We can see in the above tabe that the match_results is set to 'NONE' by default"
   ]
  },
  {
   "cell_type": "code",
   "execution_count": 0,
   "metadata": {
    "application/vnd.databricks.v1+cell": {
     "cellMetadata": {
      "byteLimit": 2048000,
      "implicitDf": true,
      "rowLimit": 10000
     },
     "inputWidgets": {},
     "nuid": "caeaad0a-c44d-4474-a921-641746b9266a",
     "showTitle": false,
     "title": ""
    }
   },
   "outputs": [
    {
     "output_type": "display_data",
     "data": {
      "text/html": [
       "<style scoped>\n",
       "  .table-result-container {\n",
       "    max-height: 300px;\n",
       "    overflow: auto;\n",
       "  }\n",
       "  table, th, td {\n",
       "    border: 1px solid black;\n",
       "    border-collapse: collapse;\n",
       "  }\n",
       "  th, td {\n",
       "    padding: 5px;\n",
       "  }\n",
       "  th {\n",
       "    text-align: left;\n",
       "  }\n",
       "</style><div class='table-result-container'><table class='table-result'><thead style='background-color: white'><tr><th>num_affected_rows</th></tr></thead><tbody><tr><td>36</td></tr></tbody></table></div>"
      ]
     },
     "metadata": {
      "application/vnd.databricks.v1+output": {
       "addedWidgets": {},
       "aggData": [],
       "aggError": "",
       "aggOverflow": false,
       "aggSchema": [],
       "aggSeriesLimitReached": false,
       "aggType": "",
       "arguments": {},
       "columnCustomDisplayInfos": {},
       "data": [
        [
         36
        ]
       ],
       "datasetInfos": [],
       "dbfsResultPath": null,
       "isJsonSchema": true,
       "metadata": {},
       "overflow": false,
       "plotOptions": {
        "customPlotOptions": {},
        "displayType": "table",
        "pivotAggregation": null,
        "pivotColumns": null,
        "xColumns": null,
        "yColumns": null
       },
       "removedWidgets": [],
       "schema": [
        {
         "metadata": "{}",
         "name": "num_affected_rows",
         "type": "\"long\""
        }
       ],
       "type": "table"
      }
     },
     "output_type": "display_data"
    }
   ],
   "source": [
    "%sql\n",
    "UPDATE matches SET match_results = \n",
    "CASE\n",
    "WHEN home_team_goals > away_team_goals THEN home_team\n",
    "WHEN home_team_goals < away_team_goals THEN away_team\n",
    "ELSE 'DRAW'\n",
    "END;"
   ]
  },
  {
   "cell_type": "code",
   "execution_count": 0,
   "metadata": {
    "application/vnd.databricks.v1+cell": {
     "cellMetadata": {
      "byteLimit": 2048000,
      "implicitDf": true,
      "rowLimit": 10000
     },
     "inputWidgets": {},
     "nuid": "5c602b4c-90f5-416c-b6c9-16705b4a9de4",
     "showTitle": false,
     "title": ""
    }
   },
   "outputs": [
    {
     "output_type": "display_data",
     "data": {
      "text/html": [
       "<style scoped>\n",
       "  .table-result-container {\n",
       "    max-height: 300px;\n",
       "    overflow: auto;\n",
       "  }\n",
       "  table, th, td {\n",
       "    border: 1px solid black;\n",
       "    border-collapse: collapse;\n",
       "  }\n",
       "  th, td {\n",
       "    padding: 5px;\n",
       "  }\n",
       "  th {\n",
       "    text-align: left;\n",
       "  }\n",
       "</style><div class='table-result-container'><table class='table-result'><thead style='background-color: white'><tr><th>match_id</th><th>match_fixtures</th><th>group_name</th><th>home_team</th><th>away_team</th><th>home_team_goals</th><th>away_team_goals</th><th>match_results</th><th>match_stage</th></tr></thead><tbody><tr><td>1</td><td>Germany Vs Switzerland</td><td>A</td><td>Germany</td><td>Switzerland</td><td>0</td><td>1</td><td>Switzerland</td><td>Group Stage</td></tr><tr><td>2</td><td>Germany Vs Hungary</td><td>A</td><td>Germany</td><td>Hungary</td><td>3</td><td>3</td><td>DRAW</td><td>Group Stage</td></tr><tr><td>3</td><td>Germany Vs Scotland</td><td>A</td><td>Germany</td><td>Scotland</td><td>1</td><td>5</td><td>Scotland</td><td>Group Stage</td></tr><tr><td>4</td><td>Scotland Vs Switzerland</td><td>A</td><td>Scotland</td><td>Switzerland</td><td>2</td><td>2</td><td>DRAW</td><td>Group Stage</td></tr><tr><td>5</td><td>Scotland Vs Hungary</td><td>A</td><td>Scotland</td><td>Hungary</td><td>3</td><td>4</td><td>Hungary</td><td>Group Stage</td></tr><tr><td>6</td><td>Hungary Vs Switzerland</td><td>A</td><td>Hungary</td><td>Switzerland</td><td>0</td><td>0</td><td>DRAW</td><td>Group Stage</td></tr><tr><td>7</td><td>Spain Vs Albania</td><td>B</td><td>Spain</td><td>Albania</td><td>1</td><td>4</td><td>Albania</td><td>Group Stage</td></tr><tr><td>8</td><td>Spain Vs Italy</td><td>B</td><td>Spain</td><td>Italy</td><td>4</td><td>0</td><td>Spain</td><td>Group Stage</td></tr><tr><td>9</td><td>Spain Vs Croatia</td><td>B</td><td>Spain</td><td>Croatia</td><td>5</td><td>5</td><td>DRAW</td><td>Group Stage</td></tr><tr><td>10</td><td>Croatia Vs Albania</td><td>B</td><td>Croatia</td><td>Albania</td><td>1</td><td>4</td><td>Albania</td><td>Group Stage</td></tr><tr><td>11</td><td>Croatia Vs Italy</td><td>B</td><td>Croatia</td><td>Italy</td><td>5</td><td>2</td><td>Croatia</td><td>Group Stage</td></tr><tr><td>12</td><td>Italy Vs Albania</td><td>B</td><td>Italy</td><td>Albania</td><td>3</td><td>0</td><td>Italy</td><td>Group Stage</td></tr><tr><td>13</td><td>Slovenia Vs England</td><td>C</td><td>Slovenia</td><td>England</td><td>4</td><td>5</td><td>England</td><td>Group Stage</td></tr><tr><td>14</td><td>Slovenia Vs Serbia</td><td>C</td><td>Slovenia</td><td>Serbia</td><td>2</td><td>2</td><td>DRAW</td><td>Group Stage</td></tr><tr><td>15</td><td>Slovenia Vs Denmark</td><td>C</td><td>Slovenia</td><td>Denmark</td><td>5</td><td>0</td><td>Slovenia</td><td>Group Stage</td></tr><tr><td>16</td><td>Denmark Vs England</td><td>C</td><td>Denmark</td><td>England</td><td>3</td><td>4</td><td>England</td><td>Group Stage</td></tr><tr><td>17</td><td>Denmark Vs Serbia</td><td>C</td><td>Denmark</td><td>Serbia</td><td>0</td><td>3</td><td>Serbia</td><td>Group Stage</td></tr><tr><td>18</td><td>Serbia Vs England</td><td>C</td><td>Serbia</td><td>England</td><td>5</td><td>1</td><td>Serbia</td><td>Group Stage</td></tr><tr><td>19</td><td>Netherlands Vs Play-off Winner A</td><td>D</td><td>Netherlands</td><td>Play-off Winner A</td><td>3</td><td>3</td><td>DRAW</td><td>Group Stage</td></tr><tr><td>20</td><td>Netherlands Vs France</td><td>D</td><td>Netherlands</td><td>France</td><td>5</td><td>5</td><td>DRAW</td><td>Group Stage</td></tr><tr><td>21</td><td>Netherlands Vs Austria</td><td>D</td><td>Netherlands</td><td>Austria</td><td>3</td><td>4</td><td>Austria</td><td>Group Stage</td></tr><tr><td>22</td><td>Austria Vs Play-off Winner A</td><td>D</td><td>Austria</td><td>Play-off Winner A</td><td>2</td><td>0</td><td>Austria</td><td>Group Stage</td></tr><tr><td>23</td><td>Austria Vs France</td><td>D</td><td>Austria</td><td>France</td><td>2</td><td>5</td><td>France</td><td>Group Stage</td></tr><tr><td>24</td><td>France Vs Play-off Winner A</td><td>D</td><td>France</td><td>Play-off Winner A</td><td>4</td><td>0</td><td>France</td><td>Group Stage</td></tr><tr><td>25</td><td>Belgium Vs Play-off Winner B</td><td>E</td><td>Belgium</td><td>Play-off Winner B</td><td>1</td><td>0</td><td>Belgium</td><td>Group Stage</td></tr><tr><td>26</td><td>Belgium Vs Romania</td><td>E</td><td>Belgium</td><td>Romania</td><td>2</td><td>3</td><td>Romania</td><td>Group Stage</td></tr><tr><td>27</td><td>Belgium Vs Slovakia</td><td>E</td><td>Belgium</td><td>Slovakia</td><td>0</td><td>0</td><td>DRAW</td><td>Group Stage</td></tr><tr><td>28</td><td>Slovakia Vs Play-off Winner B</td><td>E</td><td>Slovakia</td><td>Play-off Winner B</td><td>3</td><td>5</td><td>Play-off Winner B</td><td>Group Stage</td></tr><tr><td>29</td><td>Slovakia Vs Romania</td><td>E</td><td>Slovakia</td><td>Romania</td><td>1</td><td>4</td><td>Romania</td><td>Group Stage</td></tr><tr><td>30</td><td>Romania Vs Play-off Winner B</td><td>E</td><td>Romania</td><td>Play-off Winner B</td><td>1</td><td>5</td><td>Play-off Winner B</td><td>Group Stage</td></tr><tr><td>31</td><td>Turkey Vs Czech Republic</td><td>F</td><td>Turkey</td><td>Czech Republic</td><td>2</td><td>3</td><td>Czech Republic</td><td>Group Stage</td></tr><tr><td>32</td><td>Turkey Vs Portugal</td><td>F</td><td>Turkey</td><td>Portugal</td><td>1</td><td>5</td><td>Portugal</td><td>Group Stage</td></tr><tr><td>33</td><td>Turkey Vs Play-off Winner C</td><td>F</td><td>Turkey</td><td>Play-off Winner C</td><td>2</td><td>0</td><td>Turkey</td><td>Group Stage</td></tr><tr><td>34</td><td>Play-off Winner C Vs Czech Republic</td><td>F</td><td>Play-off Winner C</td><td>Czech Republic</td><td>1</td><td>2</td><td>Czech Republic</td><td>Group Stage</td></tr><tr><td>35</td><td>Play-off Winner C Vs Portugal</td><td>F</td><td>Play-off Winner C</td><td>Portugal</td><td>2</td><td>5</td><td>Portugal</td><td>Group Stage</td></tr><tr><td>36</td><td>Portugal Vs Czech Republic</td><td>F</td><td>Portugal</td><td>Czech Republic</td><td>0</td><td>1</td><td>Czech Republic</td><td>Group Stage</td></tr></tbody></table></div>"
      ]
     },
     "metadata": {
      "application/vnd.databricks.v1+output": {
       "addedWidgets": {},
       "aggData": [],
       "aggError": "",
       "aggOverflow": false,
       "aggSchema": [],
       "aggSeriesLimitReached": false,
       "aggType": "",
       "arguments": {},
       "columnCustomDisplayInfos": {},
       "data": [
        [
         1,
         "Germany Vs Switzerland",
         "A",
         "Germany",
         "Switzerland",
         0,
         1,
         "Switzerland",
         "Group Stage"
        ],
        [
         2,
         "Germany Vs Hungary",
         "A",
         "Germany",
         "Hungary",
         3,
         3,
         "DRAW",
         "Group Stage"
        ],
        [
         3,
         "Germany Vs Scotland",
         "A",
         "Germany",
         "Scotland",
         1,
         5,
         "Scotland",
         "Group Stage"
        ],
        [
         4,
         "Scotland Vs Switzerland",
         "A",
         "Scotland",
         "Switzerland",
         2,
         2,
         "DRAW",
         "Group Stage"
        ],
        [
         5,
         "Scotland Vs Hungary",
         "A",
         "Scotland",
         "Hungary",
         3,
         4,
         "Hungary",
         "Group Stage"
        ],
        [
         6,
         "Hungary Vs Switzerland",
         "A",
         "Hungary",
         "Switzerland",
         0,
         0,
         "DRAW",
         "Group Stage"
        ],
        [
         7,
         "Spain Vs Albania",
         "B",
         "Spain",
         "Albania",
         1,
         4,
         "Albania",
         "Group Stage"
        ],
        [
         8,
         "Spain Vs Italy",
         "B",
         "Spain",
         "Italy",
         4,
         0,
         "Spain",
         "Group Stage"
        ],
        [
         9,
         "Spain Vs Croatia",
         "B",
         "Spain",
         "Croatia",
         5,
         5,
         "DRAW",
         "Group Stage"
        ],
        [
         10,
         "Croatia Vs Albania",
         "B",
         "Croatia",
         "Albania",
         1,
         4,
         "Albania",
         "Group Stage"
        ],
        [
         11,
         "Croatia Vs Italy",
         "B",
         "Croatia",
         "Italy",
         5,
         2,
         "Croatia",
         "Group Stage"
        ],
        [
         12,
         "Italy Vs Albania",
         "B",
         "Italy",
         "Albania",
         3,
         0,
         "Italy",
         "Group Stage"
        ],
        [
         13,
         "Slovenia Vs England",
         "C",
         "Slovenia",
         "England",
         4,
         5,
         "England",
         "Group Stage"
        ],
        [
         14,
         "Slovenia Vs Serbia",
         "C",
         "Slovenia",
         "Serbia",
         2,
         2,
         "DRAW",
         "Group Stage"
        ],
        [
         15,
         "Slovenia Vs Denmark",
         "C",
         "Slovenia",
         "Denmark",
         5,
         0,
         "Slovenia",
         "Group Stage"
        ],
        [
         16,
         "Denmark Vs England",
         "C",
         "Denmark",
         "England",
         3,
         4,
         "England",
         "Group Stage"
        ],
        [
         17,
         "Denmark Vs Serbia",
         "C",
         "Denmark",
         "Serbia",
         0,
         3,
         "Serbia",
         "Group Stage"
        ],
        [
         18,
         "Serbia Vs England",
         "C",
         "Serbia",
         "England",
         5,
         1,
         "Serbia",
         "Group Stage"
        ],
        [
         19,
         "Netherlands Vs Play-off Winner A",
         "D",
         "Netherlands",
         "Play-off Winner A",
         3,
         3,
         "DRAW",
         "Group Stage"
        ],
        [
         20,
         "Netherlands Vs France",
         "D",
         "Netherlands",
         "France",
         5,
         5,
         "DRAW",
         "Group Stage"
        ],
        [
         21,
         "Netherlands Vs Austria",
         "D",
         "Netherlands",
         "Austria",
         3,
         4,
         "Austria",
         "Group Stage"
        ],
        [
         22,
         "Austria Vs Play-off Winner A",
         "D",
         "Austria",
         "Play-off Winner A",
         2,
         0,
         "Austria",
         "Group Stage"
        ],
        [
         23,
         "Austria Vs France",
         "D",
         "Austria",
         "France",
         2,
         5,
         "France",
         "Group Stage"
        ],
        [
         24,
         "France Vs Play-off Winner A",
         "D",
         "France",
         "Play-off Winner A",
         4,
         0,
         "France",
         "Group Stage"
        ],
        [
         25,
         "Belgium Vs Play-off Winner B",
         "E",
         "Belgium",
         "Play-off Winner B",
         1,
         0,
         "Belgium",
         "Group Stage"
        ],
        [
         26,
         "Belgium Vs Romania",
         "E",
         "Belgium",
         "Romania",
         2,
         3,
         "Romania",
         "Group Stage"
        ],
        [
         27,
         "Belgium Vs Slovakia",
         "E",
         "Belgium",
         "Slovakia",
         0,
         0,
         "DRAW",
         "Group Stage"
        ],
        [
         28,
         "Slovakia Vs Play-off Winner B",
         "E",
         "Slovakia",
         "Play-off Winner B",
         3,
         5,
         "Play-off Winner B",
         "Group Stage"
        ],
        [
         29,
         "Slovakia Vs Romania",
         "E",
         "Slovakia",
         "Romania",
         1,
         4,
         "Romania",
         "Group Stage"
        ],
        [
         30,
         "Romania Vs Play-off Winner B",
         "E",
         "Romania",
         "Play-off Winner B",
         1,
         5,
         "Play-off Winner B",
         "Group Stage"
        ],
        [
         31,
         "Turkey Vs Czech Republic",
         "F",
         "Turkey",
         "Czech Republic",
         2,
         3,
         "Czech Republic",
         "Group Stage"
        ],
        [
         32,
         "Turkey Vs Portugal",
         "F",
         "Turkey",
         "Portugal",
         1,
         5,
         "Portugal",
         "Group Stage"
        ],
        [
         33,
         "Turkey Vs Play-off Winner C",
         "F",
         "Turkey",
         "Play-off Winner C",
         2,
         0,
         "Turkey",
         "Group Stage"
        ],
        [
         34,
         "Play-off Winner C Vs Czech Republic",
         "F",
         "Play-off Winner C",
         "Czech Republic",
         1,
         2,
         "Czech Republic",
         "Group Stage"
        ],
        [
         35,
         "Play-off Winner C Vs Portugal",
         "F",
         "Play-off Winner C",
         "Portugal",
         2,
         5,
         "Portugal",
         "Group Stage"
        ],
        [
         36,
         "Portugal Vs Czech Republic",
         "F",
         "Portugal",
         "Czech Republic",
         0,
         1,
         "Czech Republic",
         "Group Stage"
        ]
       ],
       "datasetInfos": [],
       "dbfsResultPath": null,
       "isJsonSchema": true,
       "metadata": {},
       "overflow": false,
       "plotOptions": {
        "customPlotOptions": {},
        "displayType": "table",
        "pivotAggregation": null,
        "pivotColumns": null,
        "xColumns": null,
        "yColumns": null
       },
       "removedWidgets": [],
       "schema": [
        {
         "metadata": "{}",
         "name": "match_id",
         "type": "\"integer\""
        },
        {
         "metadata": "{\"__CHAR_VARCHAR_TYPE_STRING\":\"varchar(50)\"}",
         "name": "match_fixtures",
         "type": "\"string\""
        },
        {
         "metadata": "{\"__CHAR_VARCHAR_TYPE_STRING\":\"varchar(1)\"}",
         "name": "group_name",
         "type": "\"string\""
        },
        {
         "metadata": "{\"__CHAR_VARCHAR_TYPE_STRING\":\"varchar(20)\"}",
         "name": "home_team",
         "type": "\"string\""
        },
        {
         "metadata": "{\"__CHAR_VARCHAR_TYPE_STRING\":\"varchar(20)\"}",
         "name": "away_team",
         "type": "\"string\""
        },
        {
         "metadata": "{}",
         "name": "home_team_goals",
         "type": "\"integer\""
        },
        {
         "metadata": "{}",
         "name": "away_team_goals",
         "type": "\"integer\""
        },
        {
         "metadata": "{\"__CHAR_VARCHAR_TYPE_STRING\":\"varchar(20)\"}",
         "name": "match_results",
         "type": "\"string\""
        },
        {
         "metadata": "{\"__CHAR_VARCHAR_TYPE_STRING\":\"varchar(20)\"}",
         "name": "match_stage",
         "type": "\"string\""
        }
       ],
       "type": "table"
      }
     },
     "output_type": "display_data"
    }
   ],
   "source": [
    "%sql\n",
    "SELECT * FROM matches ORDER BY match_id;"
   ]
  },
  {
   "cell_type": "markdown",
   "metadata": {
    "application/vnd.databricks.v1+cell": {
     "cellMetadata": {
      "byteLimit": 2048000,
      "rowLimit": 10000
     },
     "inputWidgets": {},
     "nuid": "bf13b750-4e3b-4d8e-885f-cd2626b1ae96",
     "showTitle": false,
     "title": ""
    }
   },
   "source": [
    "Create a new Table to store GroupStage matches statistics [ like WIN, LOSE, DRAW ]"
   ]
  },
  {
   "cell_type": "code",
   "execution_count": 0,
   "metadata": {
    "application/vnd.databricks.v1+cell": {
     "cellMetadata": {
      "byteLimit": 2048000,
      "implicitDf": true,
      "rowLimit": 10000
     },
     "inputWidgets": {},
     "nuid": "d0d7e9c4-1181-44fd-918e-726385e68704",
     "showTitle": false,
     "title": ""
    }
   },
   "outputs": [
    {
     "output_type": "display_data",
     "data": {
      "text/html": [
       "<style scoped>\n",
       "  .table-result-container {\n",
       "    max-height: 300px;\n",
       "    overflow: auto;\n",
       "  }\n",
       "  table, th, td {\n",
       "    border: 1px solid black;\n",
       "    border-collapse: collapse;\n",
       "  }\n",
       "  th, td {\n",
       "    padding: 5px;\n",
       "  }\n",
       "  th {\n",
       "    text-align: left;\n",
       "  }\n",
       "</style><div class='table-result-container'><table class='table-result'><thead style='background-color: white'><tr><th>num_affected_rows</th><th>num_inserted_rows</th></tr></thead><tbody></tbody></table></div>"
      ]
     },
     "metadata": {
      "application/vnd.databricks.v1+output": {
       "addedWidgets": {},
       "aggData": [],
       "aggError": "",
       "aggOverflow": false,
       "aggSchema": [],
       "aggSeriesLimitReached": false,
       "aggType": "",
       "arguments": {},
       "columnCustomDisplayInfos": {},
       "data": [],
       "datasetInfos": [],
       "dbfsResultPath": null,
       "isJsonSchema": true,
       "metadata": {},
       "overflow": false,
       "plotOptions": {
        "customPlotOptions": {},
        "displayType": "table",
        "pivotAggregation": null,
        "pivotColumns": null,
        "xColumns": null,
        "yColumns": null
       },
       "removedWidgets": [],
       "schema": [
        {
         "metadata": "{}",
         "name": "num_affected_rows",
         "type": "\"long\""
        },
        {
         "metadata": "{}",
         "name": "num_inserted_rows",
         "type": "\"long\""
        }
       ],
       "type": "table"
      }
     },
     "output_type": "display_data"
    }
   ],
   "source": [
    "%sql\n",
    "CREATE\n",
    "OR REPLACE TABLE match_stats AS\n",
    "SELECT\n",
    "  team_id,\n",
    "  group_name,\n",
    "  COUNT(*) AS matches_played,\n",
    "  SUM (\n",
    "    CASE\n",
    "      WHEN goals_scored > goals_allowed THEN 1\n",
    "      ELSE 0\n",
    "    END\n",
    "  ) AS wins,\n",
    "  SUM (\n",
    "    CASE\n",
    "      WHEN goals_scored = goals_allowed THEN 1\n",
    "      ELSE 0\n",
    "    END\n",
    "  ) AS draw,\n",
    "  SUM(\n",
    "    CASE\n",
    "      WHEN goals_scored < goals_allowed THEN 1\n",
    "      ELSE 0\n",
    "    END\n",
    "  ) AS lose,\n",
    "  SUM(goals_scored) AS goals_scored,\n",
    "  SUM(goals_allowed) AS goals_allowed,\n",
    "  SUM(goals_scored) - SUM(goals_allowed) AS goal_diff,\n",
    "  SUM(\n",
    "    CASE\n",
    "      WHEN goals_scored > goals_allowed THEN 3\n",
    "      WHEN goals_scored = goals_allowed THEN 1\n",
    "      ELSE 0\n",
    "    END\n",
    "  ) AS points\n",
    "FROM(\n",
    "    SELECT\n",
    "      group_name,\n",
    "      home_team AS team_id,\n",
    "      home_team_goals AS goals_scored,\n",
    "      away_team_goals AS goals_allowed\n",
    "    FROM\n",
    "      matches\n",
    "    UNION ALL\n",
    "    SELECT\n",
    "      group_name,\n",
    "      away_team AS team_id,\n",
    "      away_team_goals AS goals_scored,\n",
    "      home_team_goals AS goals_allowed\n",
    "    FROM\n",
    "      matches\n",
    "  ) AS group_matches\n",
    "GROUP BY\n",
    "  team_id,\n",
    "  group_name\n",
    "ORDER BY\n",
    "  group_name;"
   ]
  },
  {
   "cell_type": "markdown",
   "metadata": {
    "application/vnd.databricks.v1+cell": {
     "cellMetadata": {
      "byteLimit": 2048000,
      "rowLimit": 10000
     },
     "inputWidgets": {},
     "nuid": "c2d61ead-66c8-42b7-b254-c45be44f057a",
     "showTitle": false,
     "title": ""
    }
   },
   "source": [
    "Create new table to store all the qualifying teams from each group\n",
    "\n",
    "-TOP 2 teams from each group forwards to TOP 16\n",
    "\n",
    "-TOP 4 teams that placed 3rd from all groups (4 out of 6)"
   ]
  },
  {
   "cell_type": "code",
   "execution_count": 0,
   "metadata": {
    "application/vnd.databricks.v1+cell": {
     "cellMetadata": {
      "byteLimit": 2048000,
      "implicitDf": true,
      "rowLimit": 10000
     },
     "inputWidgets": {},
     "nuid": "53dcac3d-3bca-4324-9e84-9f108a26086d",
     "showTitle": false,
     "title": ""
    }
   },
   "outputs": [
    {
     "output_type": "display_data",
     "data": {
      "text/html": [
       "<style scoped>\n",
       "  .table-result-container {\n",
       "    max-height: 300px;\n",
       "    overflow: auto;\n",
       "  }\n",
       "  table, th, td {\n",
       "    border: 1px solid black;\n",
       "    border-collapse: collapse;\n",
       "  }\n",
       "  th, td {\n",
       "    padding: 5px;\n",
       "  }\n",
       "  th {\n",
       "    text-align: left;\n",
       "  }\n",
       "</style><div class='table-result-container'><table class='table-result'><thead style='background-color: white'><tr><th>num_affected_rows</th><th>num_inserted_rows</th></tr></thead><tbody></tbody></table></div>"
      ]
     },
     "metadata": {
      "application/vnd.databricks.v1+output": {
       "addedWidgets": {},
       "aggData": [],
       "aggError": "",
       "aggOverflow": false,
       "aggSchema": [],
       "aggSeriesLimitReached": false,
       "aggType": "",
       "arguments": {},
       "columnCustomDisplayInfos": {},
       "data": [],
       "datasetInfos": [],
       "dbfsResultPath": null,
       "isJsonSchema": true,
       "metadata": {},
       "overflow": false,
       "plotOptions": {
        "customPlotOptions": {},
        "displayType": "table",
        "pivotAggregation": null,
        "pivotColumns": null,
        "xColumns": null,
        "yColumns": null
       },
       "removedWidgets": [],
       "schema": [
        {
         "metadata": "{}",
         "name": "num_affected_rows",
         "type": "\"long\""
        },
        {
         "metadata": "{}",
         "name": "num_inserted_rows",
         "type": "\"long\""
        }
       ],
       "type": "table"
      }
     },
     "output_type": "display_data"
    }
   ],
   "source": [
    "%sql\n",
    "CREATE OR REPLACE TABLE round_of_16 AS\n",
    "SELECT * FROM(\n",
    "  SELECT team_id, group_name, points, goal_diff,\n",
    "  row_number() OVER (PARTITION BY group_name ORDER BY points DESC, goal_diff DESC, goals_scored DESC, wins DESC)AS ranks\n",
    "  FROM match_stats\n",
    ")AS top2_teams\n",
    "WHERE ranks <= 2;"
   ]
  },
  {
   "cell_type": "markdown",
   "metadata": {
    "application/vnd.databricks.v1+cell": {
     "cellMetadata": {
      "byteLimit": 2048000,
      "rowLimit": 10000
     },
     "inputWidgets": {},
     "nuid": "c8498590-c584-4343-924d-f5491242fa8c",
     "showTitle": false,
     "title": ""
    }
   },
   "source": [
    "Top 4 teams out of 3rd position teams from each groups [ 4 out of 6 ]"
   ]
  },
  {
   "cell_type": "code",
   "execution_count": 0,
   "metadata": {
    "application/vnd.databricks.v1+cell": {
     "cellMetadata": {
      "byteLimit": 2048000,
      "implicitDf": true,
      "rowLimit": 10000
     },
     "inputWidgets": {},
     "nuid": "a7f434f3-39ad-4bf7-a6e3-d79824bccd20",
     "showTitle": false,
     "title": ""
    }
   },
   "outputs": [
    {
     "output_type": "display_data",
     "data": {
      "text/html": [
       "<style scoped>\n",
       "  .table-result-container {\n",
       "    max-height: 300px;\n",
       "    overflow: auto;\n",
       "  }\n",
       "  table, th, td {\n",
       "    border: 1px solid black;\n",
       "    border-collapse: collapse;\n",
       "  }\n",
       "  th, td {\n",
       "    padding: 5px;\n",
       "  }\n",
       "  th {\n",
       "    text-align: left;\n",
       "  }\n",
       "</style><div class='table-result-container'><table class='table-result'><thead style='background-color: white'><tr><th>num_affected_rows</th><th>num_inserted_rows</th></tr></thead><tbody><tr><td>4</td><td>4</td></tr></tbody></table></div>"
      ]
     },
     "metadata": {
      "application/vnd.databricks.v1+output": {
       "addedWidgets": {},
       "aggData": [],
       "aggError": "",
       "aggOverflow": false,
       "aggSchema": [],
       "aggSeriesLimitReached": false,
       "aggType": "",
       "arguments": {},
       "columnCustomDisplayInfos": {},
       "data": [
        [
         4,
         4
        ]
       ],
       "datasetInfos": [],
       "dbfsResultPath": null,
       "isJsonSchema": true,
       "metadata": {},
       "overflow": false,
       "plotOptions": {
        "customPlotOptions": {},
        "displayType": "table",
        "pivotAggregation": null,
        "pivotColumns": null,
        "xColumns": null,
        "yColumns": null
       },
       "removedWidgets": [],
       "schema": [
        {
         "metadata": "{}",
         "name": "num_affected_rows",
         "type": "\"long\""
        },
        {
         "metadata": "{}",
         "name": "num_inserted_rows",
         "type": "\"long\""
        }
       ],
       "type": "table"
      }
     },
     "output_type": "display_data"
    }
   ],
   "source": [
    "%sql\n",
    "INSERT INTO round_of_16\n",
    "SELECT * FROM(\n",
    "  SELECT team_id, group_name, points, goal_diff,\n",
    "  row_number() OVER (PARTITION BY group_name ORDER BY points DESC, goal_diff DESC, goals_scored DESC, wins DESC) AS ranks\n",
    "  FROM match_stats\n",
    ")AS top2_teams\n",
    "WHERE ranks = 3 LIMIT 4;"
   ]
  },
  {
   "cell_type": "code",
   "execution_count": 0,
   "metadata": {
    "application/vnd.databricks.v1+cell": {
     "cellMetadata": {
      "byteLimit": 2048000,
      "implicitDf": true,
      "rowLimit": 10000
     },
     "inputWidgets": {},
     "nuid": "1f28dca7-4542-4e74-9e6e-17c5bb8afad2",
     "showTitle": false,
     "title": ""
    }
   },
   "outputs": [
    {
     "output_type": "display_data",
     "data": {
      "text/html": [
       "<style scoped>\n",
       "  .table-result-container {\n",
       "    max-height: 300px;\n",
       "    overflow: auto;\n",
       "  }\n",
       "  table, th, td {\n",
       "    border: 1px solid black;\n",
       "    border-collapse: collapse;\n",
       "  }\n",
       "  th, td {\n",
       "    padding: 5px;\n",
       "  }\n",
       "  th {\n",
       "    text-align: left;\n",
       "  }\n",
       "</style><div class='table-result-container'><table class='table-result'><thead style='background-color: white'><tr><th>team_id</th><th>group_name</th><th>points</th><th>goal_diff</th><th>ranks</th></tr></thead><tbody><tr><td>Scotland</td><td>A</td><td>4</td><td>3</td><td>3</td></tr><tr><td>Hungary</td><td>A</td><td>5</td><td>1</td><td>1</td></tr><tr><td>Switzerland</td><td>A</td><td>5</td><td>1</td><td>2</td></tr><tr><td>Croatia</td><td>B</td><td>4</td><td>0</td><td>3</td></tr><tr><td>Albania</td><td>B</td><td>6</td><td>3</td><td>1</td></tr><tr><td>Spain</td><td>B</td><td>4</td><td>1</td><td>2</td></tr><tr><td>Slovenia</td><td>C</td><td>4</td><td>4</td><td>3</td></tr><tr><td>Serbia</td><td>C</td><td>7</td><td>7</td><td>1</td></tr><tr><td>England</td><td>C</td><td>6</td><td>-2</td><td>2</td></tr><tr><td>Netherlands</td><td>D</td><td>2</td><td>-1</td><td>3</td></tr><tr><td>France</td><td>D</td><td>7</td><td>7</td><td>1</td></tr><tr><td>Austria</td><td>D</td><td>6</td><td>0</td><td>2</td></tr><tr><td>Play-off Winner B</td><td>E</td><td>6</td><td>5</td><td>1</td></tr><tr><td>Romania</td><td>E</td><td>6</td><td>0</td><td>2</td></tr><tr><td>Czech Republic</td><td>F</td><td>9</td><td>3</td><td>1</td></tr><tr><td>Portugal</td><td>F</td><td>6</td><td>6</td><td>2</td></tr></tbody></table></div>"
      ]
     },
     "metadata": {
      "application/vnd.databricks.v1+output": {
       "addedWidgets": {},
       "aggData": [],
       "aggError": "",
       "aggOverflow": false,
       "aggSchema": [],
       "aggSeriesLimitReached": false,
       "aggType": "",
       "arguments": {},
       "columnCustomDisplayInfos": {},
       "data": [
        [
         "Scotland",
         "A",
         4,
         3,
         3
        ],
        [
         "Hungary",
         "A",
         5,
         1,
         1
        ],
        [
         "Switzerland",
         "A",
         5,
         1,
         2
        ],
        [
         "Croatia",
         "B",
         4,
         0,
         3
        ],
        [
         "Albania",
         "B",
         6,
         3,
         1
        ],
        [
         "Spain",
         "B",
         4,
         1,
         2
        ],
        [
         "Slovenia",
         "C",
         4,
         4,
         3
        ],
        [
         "Serbia",
         "C",
         7,
         7,
         1
        ],
        [
         "England",
         "C",
         6,
         -2,
         2
        ],
        [
         "Netherlands",
         "D",
         2,
         -1,
         3
        ],
        [
         "France",
         "D",
         7,
         7,
         1
        ],
        [
         "Austria",
         "D",
         6,
         0,
         2
        ],
        [
         "Play-off Winner B",
         "E",
         6,
         5,
         1
        ],
        [
         "Romania",
         "E",
         6,
         0,
         2
        ],
        [
         "Czech Republic",
         "F",
         9,
         3,
         1
        ],
        [
         "Portugal",
         "F",
         6,
         6,
         2
        ]
       ],
       "datasetInfos": [],
       "dbfsResultPath": null,
       "isJsonSchema": true,
       "metadata": {},
       "overflow": false,
       "plotOptions": {
        "customPlotOptions": {},
        "displayType": "table",
        "pivotAggregation": null,
        "pivotColumns": null,
        "xColumns": null,
        "yColumns": null
       },
       "removedWidgets": [],
       "schema": [
        {
         "metadata": "{\"__CHAR_VARCHAR_TYPE_STRING\":\"varchar(20)\"}",
         "name": "team_id",
         "type": "\"string\""
        },
        {
         "metadata": "{\"__CHAR_VARCHAR_TYPE_STRING\":\"varchar(1)\"}",
         "name": "group_name",
         "type": "\"string\""
        },
        {
         "metadata": "{}",
         "name": "points",
         "type": "\"long\""
        },
        {
         "metadata": "{}",
         "name": "goal_diff",
         "type": "\"long\""
        },
        {
         "metadata": "{}",
         "name": "ranks",
         "type": "\"integer\""
        }
       ],
       "type": "table"
      }
     },
     "output_type": "display_data"
    }
   ],
   "source": [
    "%sql\n",
    "SELECT * from round_of_16 ORDER BY group_name;"
   ]
  },
  {
   "cell_type": "markdown",
   "metadata": {
    "application/vnd.databricks.v1+cell": {
     "cellMetadata": {
      "byteLimit": 2048000,
      "rowLimit": 10000
     },
     "inputWidgets": {},
     "nuid": "da7e6b52-b099-45a6-b967-c78b550023d3",
     "showTitle": false,
     "title": ""
    }
   },
   "source": [
    "Inserting Matches into Round of 16 Match Table"
   ]
  },
  {
   "cell_type": "markdown",
   "metadata": {
    "application/vnd.databricks.v1+cell": {
     "cellMetadata": {
      "byteLimit": 2048000,
      "rowLimit": 10000
     },
     "inputWidgets": {},
     "nuid": "2a42bcc1-34f3-43bb-8bbd-88b6e886c74e",
     "showTitle": false,
     "title": ""
    }
   },
   "source": [
    "Probable Combinations for the Matches in the Round of 16 Match Stage"
   ]
  },
  {
   "cell_type": "code",
   "execution_count": 0,
   "metadata": {
    "application/vnd.databricks.v1+cell": {
     "cellMetadata": {
      "byteLimit": 2048000,
      "implicitDf": true,
      "rowLimit": 10000
     },
     "inputWidgets": {},
     "nuid": "73aaf5e3-8584-4399-9c48-aed97412560c",
     "showTitle": false,
     "title": ""
    }
   },
   "outputs": [
    {
     "output_type": "display_data",
     "data": {
      "text/html": [
       "<style scoped>\n",
       "  .table-result-container {\n",
       "    max-height: 300px;\n",
       "    overflow: auto;\n",
       "  }\n",
       "  table, th, td {\n",
       "    border: 1px solid black;\n",
       "    border-collapse: collapse;\n",
       "  }\n",
       "  th, td {\n",
       "    padding: 5px;\n",
       "  }\n",
       "  th {\n",
       "    text-align: left;\n",
       "  }\n",
       "</style><div class='table-result-container'><table class='table-result'><thead style='background-color: white'><tr><th>num_affected_rows</th><th>num_inserted_rows</th></tr></thead><tbody><tr><td>15</td><td>15</td></tr></tbody></table></div>"
      ]
     },
     "metadata": {
      "application/vnd.databricks.v1+output": {
       "addedWidgets": {},
       "aggData": [],
       "aggError": "",
       "aggOverflow": false,
       "aggSchema": [],
       "aggSeriesLimitReached": false,
       "aggType": "",
       "arguments": {},
       "columnCustomDisplayInfos": {},
       "data": [
        [
         15,
         15
        ]
       ],
       "datasetInfos": [],
       "dbfsResultPath": null,
       "isJsonSchema": true,
       "metadata": {},
       "overflow": false,
       "plotOptions": {
        "customPlotOptions": {},
        "displayType": "table",
        "pivotAggregation": null,
        "pivotColumns": null,
        "xColumns": null,
        "yColumns": null
       },
       "removedWidgets": [],
       "schema": [
        {
         "metadata": "{}",
         "name": "num_affected_rows",
         "type": "\"long\""
        },
        {
         "metadata": "{}",
         "name": "num_inserted_rows",
         "type": "\"long\""
        }
       ],
       "type": "table"
      }
     },
     "output_type": "display_data"
    }
   ],
   "source": [
    "%sql\n",
    "CREATE or replace  TABLE third_place_combination(\n",
    "  ID INTEGER,\n",
    "  selected_groups VARCHAR(4),\n",
    "  Team1B CHAR(1),\n",
    "  Team1C CHAR(1),\n",
    "  Team1E CHAR(1),\n",
    "  Team1F CHAR(1)\n",
    ");\n",
    "\n",
    "-- Step 2: Insert the provided values into the \"THIRDMATCHUP\" table\n",
    "INSERT INTO  third_place_combination (ID, selected_groups, Team1B, Team1C, Team1E, Team1F) VALUES\n",
    "(1, 'ABCD', 'A', 'D', 'B', 'C'),\n",
    "(2, 'ABCE', 'A', 'E', 'B', 'C'),\n",
    "(3, 'ABCF', 'A', 'F', 'B', 'C'),\n",
    "(4, 'ABDE', 'D', 'E', 'A', 'B'),\n",
    "(5, 'ABDF', 'D', 'F', 'A', 'B'),\n",
    "(6, 'ABEF', 'E', 'F', 'B', 'A'),\n",
    "(7, 'ACDE', 'E', 'D', 'C', 'A'),\n",
    "(8, 'ACDF', 'F', 'D', 'C', 'A'),\n",
    "(9, 'ACEF', 'E', 'F', 'C', 'A'),\n",
    "(10, 'ADEF', 'E', 'F', 'D', 'A'),\n",
    "(11, 'BCDE', 'E', 'D', 'B', 'C'),\n",
    "(12, 'BCDF', 'F', 'D', 'C', 'B'),\n",
    "(13, 'BCEF', 'F', 'E', 'C', 'B'),\n",
    "(14, 'BDEF', 'F', 'E', 'D', 'B'),\n",
    "(15, 'CDEF', 'F', 'E', 'D', 'C');"
   ]
  },
  {
   "cell_type": "markdown",
   "metadata": {
    "application/vnd.databricks.v1+cell": {
     "cellMetadata": {
      "byteLimit": 2048000,
      "rowLimit": 10000
     },
     "inputWidgets": {},
     "nuid": "22891f47-6df6-4316-b7aa-f354857fb443",
     "showTitle": false,
     "title": ""
    }
   },
   "source": [
    "TOP 16  \n",
    "\n",
    "Total 8 Matches from 37 to 44"
   ]
  },
  {
   "cell_type": "code",
   "execution_count": 0,
   "metadata": {
    "application/vnd.databricks.v1+cell": {
     "cellMetadata": {
      "byteLimit": 2048000,
      "implicitDf": true,
      "rowLimit": 10000
     },
     "inputWidgets": {},
     "nuid": "479a6498-ea5c-44c5-be63-849155d44fc8",
     "showTitle": false,
     "title": ""
    }
   },
   "outputs": [
    {
     "output_type": "display_data",
     "data": {
      "text/html": [
       "<style scoped>\n",
       "  .table-result-container {\n",
       "    max-height: 300px;\n",
       "    overflow: auto;\n",
       "  }\n",
       "  table, th, td {\n",
       "    border: 1px solid black;\n",
       "    border-collapse: collapse;\n",
       "  }\n",
       "  th, td {\n",
       "    padding: 5px;\n",
       "  }\n",
       "  th {\n",
       "    text-align: left;\n",
       "  }\n",
       "</style><div class='table-result-container'><table class='table-result'><thead style='background-color: white'><tr><th>num_affected_rows</th><th>num_inserted_rows</th></tr></thead><tbody><tr><td>8</td><td>8</td></tr></tbody></table></div>"
      ]
     },
     "metadata": {
      "application/vnd.databricks.v1+output": {
       "addedWidgets": {},
       "aggData": [],
       "aggError": "",
       "aggOverflow": false,
       "aggSchema": [],
       "aggSeriesLimitReached": false,
       "aggType": "",
       "arguments": {},
       "columnCustomDisplayInfos": {},
       "data": [
        [
         8,
         8
        ]
       ],
       "datasetInfos": [],
       "dbfsResultPath": null,
       "isJsonSchema": true,
       "metadata": {},
       "overflow": false,
       "plotOptions": {
        "customPlotOptions": {},
        "displayType": "table",
        "pivotAggregation": null,
        "pivotColumns": null,
        "xColumns": null,
        "yColumns": null
       },
       "removedWidgets": [],
       "schema": [
        {
         "metadata": "{}",
         "name": "num_affected_rows",
         "type": "\"long\""
        },
        {
         "metadata": "{}",
         "name": "num_inserted_rows",
         "type": "\"long\""
        }
       ],
       "type": "table"
      }
     },
     "output_type": "display_data"
    }
   ],
   "source": [
    "%sql\n",
    "INSERT INTO matches (match_id, match_fixtures, group_name, home_team, away_team, home_team_goals, away_team_goals, match_results, match_stage)\n",
    "WITH combination AS (\n",
    "  SELECT concat_ws('', sort_array(collect_list(group_name)))AS group_combination\n",
    "  FROM round_of_16\n",
    "  WHERE ranks = 3\n",
    "),\n",
    "keys AS (\n",
    "  SELECT * FROM third_place_combination\n",
    "  WHERE selected_groups = (SELECT group_combination FROM combination)\n",
    ")\n",
    "SELECT\n",
    "row_number() OVER (ORDER BY 1) + 36 AS match_id,\n",
    "CONCAT(r1.team_id, ' VS ' ,r2.team_id)AS match_fixtures,\n",
    "'N' AS group_name,\n",
    "r1.team_id AS home_team,\n",
    "r2.team_id AS away_team,\n",
    "CAST(rand() * 6 AS INTEGER) AS goals_scored,\n",
    "CAST(rand() * 6 AS INTEGER) AS goals_allowed,\n",
    "'NONE' AS match_result,\n",
    "'R16' AS match_stage\n",
    "FROM round_of_16 r1\n",
    "JOIN round_of_16 r2 ON r1.group_name = 'A' AND r1.ranks = 1 AND r2.group_name = 'C' AND r2.ranks = 2\n",
    "\n",
    "\n",
    "UNION ALL\n",
    "\n",
    "SELECT \n",
    "    row_number() OVER (ORDER BY 1) + 37 AS match_id,\n",
    "    CONCAT(r1.team_id, ' VS ', r2.team_id) AS match_fixtures,\n",
    "    'N' AS group_name,\n",
    "    r1.team_id AS home_team,\n",
    "    r2.team_id AS away_team,\n",
    "    CAST(rand() * 6 AS INT) AS goals_scored, \n",
    "    CAST(rand() * 6 AS INT) AS goals_allowed,\n",
    "    'NONE' AS match_result,\n",
    "    'R16' AS match_stage\n",
    "FROM \n",
    "    round_of_16 r1\n",
    "JOIN \n",
    " round_of_16 r2 ON r1.group_name = 'A' AND r1.ranks = 2 AND r2.group_name = 'B' AND r2.ranks = 2\n",
    "   \n",
    "\n",
    "UNION ALL\n",
    "\n",
    "SELECT \n",
    "    row_number() OVER (ORDER BY 1) + 38 AS match_id,\n",
    "    CONCAT(r1.team_id, ' VS ', r2.team_id) AS match_fixtures,\n",
    "    'N' AS group_name,\n",
    "    r1.team_id AS home_team,\n",
    "    r2.team_id AS away_team,\n",
    "    CAST(rand() * 6 AS INT) AS goals_scored, \n",
    "    CAST(rand() * 6 AS INT) AS goals_allowed,\n",
    "    'NONE' AS match_result,\n",
    "    'R16' AS match_stage\n",
    "FROM \n",
    "    round_of_16 r1\n",
    "JOIN \n",
    "    round_of_16 r2 ON r1.group_name = 'B' AND r1.ranks = 1 AND r2.group_name = (SELECT TEAM1B FROM keys) AND r2.ranks = 3\n",
    "\n",
    "UNION ALL\n",
    "\n",
    "SELECT \n",
    "    row_number() OVER (ORDER BY 1) + 39 AS match_id,\n",
    "    CONCAT(r1.team_id, ' VS ', r2.team_id) AS match_fixtures,\n",
    "    'N' AS group_name,\n",
    "    r1.team_id AS home_team,\n",
    "    r2.team_id AS away_team,\n",
    "    CAST(rand() * 6 AS INT) AS goals_scored, \n",
    "    CAST(rand() * 6 AS INT) AS goals_allowed,\n",
    "    'NONE' AS match_result,\n",
    "    'R16' AS match_stage\n",
    "FROM \n",
    "    round_of_16 r1\n",
    "JOIN \n",
    "    round_of_16 r2 ON r1.group_name = 'C' AND r1.ranks = 1 AND r2.group_name = (select Team1C from keys) AND r2.ranks = 3\n",
    "\n",
    "UNION ALL\n",
    "\n",
    "SELECT \n",
    "    Row_Number() OVER (ORDER BY 1) + 40 AS match_id,\n",
    "    CONCAT(r1.team_id, ' VS ', r2.team_id) AS match_fixtures,\n",
    "    'N' AS group_name,\n",
    "    r1.team_id AS home_team,\n",
    "    r2.team_id AS away_team,\n",
    "    CAST(rand() * 6 AS INT) AS goals_scored, \n",
    "    CAST(rand() * 6 AS INT) AS goals_allowed,\n",
    "    'NONE' AS match_result,\n",
    "    'R16' AS match_stage\n",
    "FROM \n",
    "    round_of_16 r1\n",
    "JOIN \n",
    "     round_of_16 r2 ON r1.group_name = 'F' AND r1.ranks = 1 AND r2.group_name = (select Team1F from keys) AND r2.ranks = 3\n",
    "\n",
    "\n",
    "UNION ALL\n",
    "\n",
    "SELECT \n",
    "    Row_Number() OVER (ORDER BY 1) + 41 AS match_id,\n",
    "    CONCAT(r1.team_id, ' VS ', r2.team_id) AS match_fixtures,\n",
    "    'N' AS group_name,\n",
    "    r1.team_id AS home_team,\n",
    "    r2.team_id AS away_team,\n",
    "    CAST(rand() * 6 AS INT) AS goals_scored, \n",
    "    CAST(rand() * 6 AS INT) AS goals_allowed,\n",
    "    'NONE' AS match_result,\n",
    "    'R16' AS match_stage\n",
    "FROM \n",
    "    round_of_16 r1\n",
    "JOIN \n",
    "    round_of_16 r2 ON r1.group_name = 'D' AND r1.ranks = 2 AND r2.group_name = 'E' AND r2.ranks = 2\n",
    "   \n",
    "\n",
    "UNION ALL\n",
    "\n",
    "SELECT \n",
    "    Row_Number() OVER (ORDER BY 1) + 42 AS match_id,\n",
    "    CONCAT(r1.team_id, ' VS ', r2.team_id) AS match_fixtures,\n",
    "    'N' AS group_name,\n",
    "    r1.team_id AS home_team,\n",
    "    r2.team_id AS away_team,\n",
    "    CAST(rand() * 6 AS INT) AS goals_scored, \n",
    "    CAST(rand() * 6 AS INT) AS goals_allowed,\n",
    "    'NONE' AS match_result,\n",
    "    'R16' AS match_stage\n",
    "FROM \n",
    "    round_of_16 r1\n",
    "JOIN \n",
    "    round_of_16 r2 ON r1.group_name = 'E' AND r1.ranks = 1 AND r2.group_name = (SELECT Team1E from keys) AND r2.ranks = 3\n",
    "   \n",
    "\n",
    "UNION ALL\n",
    "\n",
    "SELECT \n",
    "    Row_Number() OVER (ORDER BY 1) + 43 AS match_id,\n",
    "    CONCAT(r1.team_id, ' VS ', r2.team_id) AS match_fixtures,\n",
    "    'N' AS group_name,\n",
    "    r1.team_id AS home_team,\n",
    "    r2.team_id AS away_team,\n",
    "    CAST(rand() * 6 AS INT) AS goals_scored, \n",
    "    CAST(rand() * 6 AS INT) AS goals_allowed,\n",
    "    'NONE' AS match_result,\n",
    "    'R16' AS match_stage\n",
    "FROM \n",
    "    round_of_16 r1\n",
    "JOIN \n",
    "    round_of_16 r2 ON r1.group_name = 'D' AND r1.ranks = 2 AND r2.group_name = 'F' AND r2.ranks = 2;"
   ]
  },
  {
   "cell_type": "code",
   "execution_count": 0,
   "metadata": {
    "application/vnd.databricks.v1+cell": {
     "cellMetadata": {
      "byteLimit": 2048000,
      "implicitDf": true,
      "rowLimit": 10000
     },
     "inputWidgets": {},
     "nuid": "798ec916-f5ac-4c25-8087-3840d86db6b7",
     "showTitle": false,
     "title": ""
    }
   },
   "outputs": [
    {
     "output_type": "display_data",
     "data": {
      "text/html": [
       "<style scoped>\n",
       "  .table-result-container {\n",
       "    max-height: 300px;\n",
       "    overflow: auto;\n",
       "  }\n",
       "  table, th, td {\n",
       "    border: 1px solid black;\n",
       "    border-collapse: collapse;\n",
       "  }\n",
       "  th, td {\n",
       "    padding: 5px;\n",
       "  }\n",
       "  th {\n",
       "    text-align: left;\n",
       "  }\n",
       "</style><div class='table-result-container'><table class='table-result'><thead style='background-color: white'><tr><th>match_id</th><th>match_fixtures</th><th>group_name</th><th>home_team</th><th>away_team</th><th>home_team_goals</th><th>away_team_goals</th><th>match_results</th><th>match_stage</th></tr></thead><tbody><tr><td>1</td><td>Germany Vs Switzerland</td><td>A</td><td>Germany</td><td>Switzerland</td><td>0</td><td>1</td><td>Switzerland</td><td>Group Stage</td></tr><tr><td>2</td><td>Germany Vs Hungary</td><td>A</td><td>Germany</td><td>Hungary</td><td>3</td><td>3</td><td>DRAW</td><td>Group Stage</td></tr><tr><td>3</td><td>Germany Vs Scotland</td><td>A</td><td>Germany</td><td>Scotland</td><td>1</td><td>5</td><td>Scotland</td><td>Group Stage</td></tr><tr><td>4</td><td>Scotland Vs Switzerland</td><td>A</td><td>Scotland</td><td>Switzerland</td><td>2</td><td>2</td><td>DRAW</td><td>Group Stage</td></tr><tr><td>5</td><td>Scotland Vs Hungary</td><td>A</td><td>Scotland</td><td>Hungary</td><td>3</td><td>4</td><td>Hungary</td><td>Group Stage</td></tr><tr><td>6</td><td>Hungary Vs Switzerland</td><td>A</td><td>Hungary</td><td>Switzerland</td><td>0</td><td>0</td><td>DRAW</td><td>Group Stage</td></tr><tr><td>7</td><td>Spain Vs Albania</td><td>B</td><td>Spain</td><td>Albania</td><td>1</td><td>4</td><td>Albania</td><td>Group Stage</td></tr><tr><td>8</td><td>Spain Vs Italy</td><td>B</td><td>Spain</td><td>Italy</td><td>4</td><td>0</td><td>Spain</td><td>Group Stage</td></tr><tr><td>9</td><td>Spain Vs Croatia</td><td>B</td><td>Spain</td><td>Croatia</td><td>5</td><td>5</td><td>DRAW</td><td>Group Stage</td></tr><tr><td>10</td><td>Croatia Vs Albania</td><td>B</td><td>Croatia</td><td>Albania</td><td>1</td><td>4</td><td>Albania</td><td>Group Stage</td></tr><tr><td>11</td><td>Croatia Vs Italy</td><td>B</td><td>Croatia</td><td>Italy</td><td>5</td><td>2</td><td>Croatia</td><td>Group Stage</td></tr><tr><td>12</td><td>Italy Vs Albania</td><td>B</td><td>Italy</td><td>Albania</td><td>3</td><td>0</td><td>Italy</td><td>Group Stage</td></tr><tr><td>13</td><td>Slovenia Vs England</td><td>C</td><td>Slovenia</td><td>England</td><td>4</td><td>5</td><td>England</td><td>Group Stage</td></tr><tr><td>14</td><td>Slovenia Vs Serbia</td><td>C</td><td>Slovenia</td><td>Serbia</td><td>2</td><td>2</td><td>DRAW</td><td>Group Stage</td></tr><tr><td>15</td><td>Slovenia Vs Denmark</td><td>C</td><td>Slovenia</td><td>Denmark</td><td>5</td><td>0</td><td>Slovenia</td><td>Group Stage</td></tr><tr><td>16</td><td>Denmark Vs England</td><td>C</td><td>Denmark</td><td>England</td><td>3</td><td>4</td><td>England</td><td>Group Stage</td></tr><tr><td>17</td><td>Denmark Vs Serbia</td><td>C</td><td>Denmark</td><td>Serbia</td><td>0</td><td>3</td><td>Serbia</td><td>Group Stage</td></tr><tr><td>18</td><td>Serbia Vs England</td><td>C</td><td>Serbia</td><td>England</td><td>5</td><td>1</td><td>Serbia</td><td>Group Stage</td></tr><tr><td>19</td><td>Netherlands Vs Play-off Winner A</td><td>D</td><td>Netherlands</td><td>Play-off Winner A</td><td>3</td><td>3</td><td>DRAW</td><td>Group Stage</td></tr><tr><td>20</td><td>Netherlands Vs France</td><td>D</td><td>Netherlands</td><td>France</td><td>5</td><td>5</td><td>DRAW</td><td>Group Stage</td></tr><tr><td>21</td><td>Netherlands Vs Austria</td><td>D</td><td>Netherlands</td><td>Austria</td><td>3</td><td>4</td><td>Austria</td><td>Group Stage</td></tr><tr><td>22</td><td>Austria Vs Play-off Winner A</td><td>D</td><td>Austria</td><td>Play-off Winner A</td><td>2</td><td>0</td><td>Austria</td><td>Group Stage</td></tr><tr><td>23</td><td>Austria Vs France</td><td>D</td><td>Austria</td><td>France</td><td>2</td><td>5</td><td>France</td><td>Group Stage</td></tr><tr><td>24</td><td>France Vs Play-off Winner A</td><td>D</td><td>France</td><td>Play-off Winner A</td><td>4</td><td>0</td><td>France</td><td>Group Stage</td></tr><tr><td>25</td><td>Belgium Vs Play-off Winner B</td><td>E</td><td>Belgium</td><td>Play-off Winner B</td><td>1</td><td>0</td><td>Belgium</td><td>Group Stage</td></tr><tr><td>26</td><td>Belgium Vs Romania</td><td>E</td><td>Belgium</td><td>Romania</td><td>2</td><td>3</td><td>Romania</td><td>Group Stage</td></tr><tr><td>27</td><td>Belgium Vs Slovakia</td><td>E</td><td>Belgium</td><td>Slovakia</td><td>0</td><td>0</td><td>DRAW</td><td>Group Stage</td></tr><tr><td>28</td><td>Slovakia Vs Play-off Winner B</td><td>E</td><td>Slovakia</td><td>Play-off Winner B</td><td>3</td><td>5</td><td>Play-off Winner B</td><td>Group Stage</td></tr><tr><td>29</td><td>Slovakia Vs Romania</td><td>E</td><td>Slovakia</td><td>Romania</td><td>1</td><td>4</td><td>Romania</td><td>Group Stage</td></tr><tr><td>30</td><td>Romania Vs Play-off Winner B</td><td>E</td><td>Romania</td><td>Play-off Winner B</td><td>1</td><td>5</td><td>Play-off Winner B</td><td>Group Stage</td></tr><tr><td>31</td><td>Turkey Vs Czech Republic</td><td>F</td><td>Turkey</td><td>Czech Republic</td><td>2</td><td>3</td><td>Czech Republic</td><td>Group Stage</td></tr><tr><td>32</td><td>Turkey Vs Portugal</td><td>F</td><td>Turkey</td><td>Portugal</td><td>1</td><td>5</td><td>Portugal</td><td>Group Stage</td></tr><tr><td>33</td><td>Turkey Vs Play-off Winner C</td><td>F</td><td>Turkey</td><td>Play-off Winner C</td><td>2</td><td>0</td><td>Turkey</td><td>Group Stage</td></tr><tr><td>34</td><td>Play-off Winner C Vs Czech Republic</td><td>F</td><td>Play-off Winner C</td><td>Czech Republic</td><td>1</td><td>2</td><td>Czech Republic</td><td>Group Stage</td></tr><tr><td>35</td><td>Play-off Winner C Vs Portugal</td><td>F</td><td>Play-off Winner C</td><td>Portugal</td><td>2</td><td>5</td><td>Portugal</td><td>Group Stage</td></tr><tr><td>36</td><td>Portugal Vs Czech Republic</td><td>F</td><td>Portugal</td><td>Czech Republic</td><td>0</td><td>1</td><td>Czech Republic</td><td>Group Stage</td></tr><tr><td>37</td><td>Hungary VS England</td><td>N</td><td>Hungary</td><td>England</td><td>3</td><td>1</td><td>NONE</td><td>R16</td></tr><tr><td>38</td><td>Switzerland VS Spain</td><td>N</td><td>Switzerland</td><td>Spain</td><td>5</td><td>0</td><td>NONE</td><td>R16</td></tr><tr><td>39</td><td>Albania VS Scotland</td><td>N</td><td>Albania</td><td>Scotland</td><td>2</td><td>4</td><td>NONE</td><td>R16</td></tr><tr><td>40</td><td>Serbia VS Netherlands</td><td>N</td><td>Serbia</td><td>Netherlands</td><td>0</td><td>0</td><td>NONE</td><td>R16</td></tr><tr><td>41</td><td>Czech Republic VS Slovenia</td><td>N</td><td>Czech Republic</td><td>Slovenia</td><td>5</td><td>2</td><td>NONE</td><td>R16</td></tr><tr><td>42</td><td>Austria VS Romania</td><td>N</td><td>Austria</td><td>Romania</td><td>0</td><td>0</td><td>NONE</td><td>R16</td></tr><tr><td>43</td><td>Play-off Winner B VS Croatia</td><td>N</td><td>Play-off Winner B</td><td>Croatia</td><td>4</td><td>4</td><td>NONE</td><td>R16</td></tr><tr><td>44</td><td>Austria VS Portugal</td><td>N</td><td>Austria</td><td>Portugal</td><td>3</td><td>2</td><td>NONE</td><td>R16</td></tr></tbody></table></div>"
      ]
     },
     "metadata": {
      "application/vnd.databricks.v1+output": {
       "addedWidgets": {},
       "aggData": [],
       "aggError": "",
       "aggOverflow": false,
       "aggSchema": [],
       "aggSeriesLimitReached": false,
       "aggType": "",
       "arguments": {},
       "columnCustomDisplayInfos": {},
       "data": [
        [
         1,
         "Germany Vs Switzerland",
         "A",
         "Germany",
         "Switzerland",
         0,
         1,
         "Switzerland",
         "Group Stage"
        ],
        [
         2,
         "Germany Vs Hungary",
         "A",
         "Germany",
         "Hungary",
         3,
         3,
         "DRAW",
         "Group Stage"
        ],
        [
         3,
         "Germany Vs Scotland",
         "A",
         "Germany",
         "Scotland",
         1,
         5,
         "Scotland",
         "Group Stage"
        ],
        [
         4,
         "Scotland Vs Switzerland",
         "A",
         "Scotland",
         "Switzerland",
         2,
         2,
         "DRAW",
         "Group Stage"
        ],
        [
         5,
         "Scotland Vs Hungary",
         "A",
         "Scotland",
         "Hungary",
         3,
         4,
         "Hungary",
         "Group Stage"
        ],
        [
         6,
         "Hungary Vs Switzerland",
         "A",
         "Hungary",
         "Switzerland",
         0,
         0,
         "DRAW",
         "Group Stage"
        ],
        [
         7,
         "Spain Vs Albania",
         "B",
         "Spain",
         "Albania",
         1,
         4,
         "Albania",
         "Group Stage"
        ],
        [
         8,
         "Spain Vs Italy",
         "B",
         "Spain",
         "Italy",
         4,
         0,
         "Spain",
         "Group Stage"
        ],
        [
         9,
         "Spain Vs Croatia",
         "B",
         "Spain",
         "Croatia",
         5,
         5,
         "DRAW",
         "Group Stage"
        ],
        [
         10,
         "Croatia Vs Albania",
         "B",
         "Croatia",
         "Albania",
         1,
         4,
         "Albania",
         "Group Stage"
        ],
        [
         11,
         "Croatia Vs Italy",
         "B",
         "Croatia",
         "Italy",
         5,
         2,
         "Croatia",
         "Group Stage"
        ],
        [
         12,
         "Italy Vs Albania",
         "B",
         "Italy",
         "Albania",
         3,
         0,
         "Italy",
         "Group Stage"
        ],
        [
         13,
         "Slovenia Vs England",
         "C",
         "Slovenia",
         "England",
         4,
         5,
         "England",
         "Group Stage"
        ],
        [
         14,
         "Slovenia Vs Serbia",
         "C",
         "Slovenia",
         "Serbia",
         2,
         2,
         "DRAW",
         "Group Stage"
        ],
        [
         15,
         "Slovenia Vs Denmark",
         "C",
         "Slovenia",
         "Denmark",
         5,
         0,
         "Slovenia",
         "Group Stage"
        ],
        [
         16,
         "Denmark Vs England",
         "C",
         "Denmark",
         "England",
         3,
         4,
         "England",
         "Group Stage"
        ],
        [
         17,
         "Denmark Vs Serbia",
         "C",
         "Denmark",
         "Serbia",
         0,
         3,
         "Serbia",
         "Group Stage"
        ],
        [
         18,
         "Serbia Vs England",
         "C",
         "Serbia",
         "England",
         5,
         1,
         "Serbia",
         "Group Stage"
        ],
        [
         19,
         "Netherlands Vs Play-off Winner A",
         "D",
         "Netherlands",
         "Play-off Winner A",
         3,
         3,
         "DRAW",
         "Group Stage"
        ],
        [
         20,
         "Netherlands Vs France",
         "D",
         "Netherlands",
         "France",
         5,
         5,
         "DRAW",
         "Group Stage"
        ],
        [
         21,
         "Netherlands Vs Austria",
         "D",
         "Netherlands",
         "Austria",
         3,
         4,
         "Austria",
         "Group Stage"
        ],
        [
         22,
         "Austria Vs Play-off Winner A",
         "D",
         "Austria",
         "Play-off Winner A",
         2,
         0,
         "Austria",
         "Group Stage"
        ],
        [
         23,
         "Austria Vs France",
         "D",
         "Austria",
         "France",
         2,
         5,
         "France",
         "Group Stage"
        ],
        [
         24,
         "France Vs Play-off Winner A",
         "D",
         "France",
         "Play-off Winner A",
         4,
         0,
         "France",
         "Group Stage"
        ],
        [
         25,
         "Belgium Vs Play-off Winner B",
         "E",
         "Belgium",
         "Play-off Winner B",
         1,
         0,
         "Belgium",
         "Group Stage"
        ],
        [
         26,
         "Belgium Vs Romania",
         "E",
         "Belgium",
         "Romania",
         2,
         3,
         "Romania",
         "Group Stage"
        ],
        [
         27,
         "Belgium Vs Slovakia",
         "E",
         "Belgium",
         "Slovakia",
         0,
         0,
         "DRAW",
         "Group Stage"
        ],
        [
         28,
         "Slovakia Vs Play-off Winner B",
         "E",
         "Slovakia",
         "Play-off Winner B",
         3,
         5,
         "Play-off Winner B",
         "Group Stage"
        ],
        [
         29,
         "Slovakia Vs Romania",
         "E",
         "Slovakia",
         "Romania",
         1,
         4,
         "Romania",
         "Group Stage"
        ],
        [
         30,
         "Romania Vs Play-off Winner B",
         "E",
         "Romania",
         "Play-off Winner B",
         1,
         5,
         "Play-off Winner B",
         "Group Stage"
        ],
        [
         31,
         "Turkey Vs Czech Republic",
         "F",
         "Turkey",
         "Czech Republic",
         2,
         3,
         "Czech Republic",
         "Group Stage"
        ],
        [
         32,
         "Turkey Vs Portugal",
         "F",
         "Turkey",
         "Portugal",
         1,
         5,
         "Portugal",
         "Group Stage"
        ],
        [
         33,
         "Turkey Vs Play-off Winner C",
         "F",
         "Turkey",
         "Play-off Winner C",
         2,
         0,
         "Turkey",
         "Group Stage"
        ],
        [
         34,
         "Play-off Winner C Vs Czech Republic",
         "F",
         "Play-off Winner C",
         "Czech Republic",
         1,
         2,
         "Czech Republic",
         "Group Stage"
        ],
        [
         35,
         "Play-off Winner C Vs Portugal",
         "F",
         "Play-off Winner C",
         "Portugal",
         2,
         5,
         "Portugal",
         "Group Stage"
        ],
        [
         36,
         "Portugal Vs Czech Republic",
         "F",
         "Portugal",
         "Czech Republic",
         0,
         1,
         "Czech Republic",
         "Group Stage"
        ],
        [
         37,
         "Hungary VS England",
         "N",
         "Hungary",
         "England",
         3,
         1,
         "NONE",
         "R16"
        ],
        [
         38,
         "Switzerland VS Spain",
         "N",
         "Switzerland",
         "Spain",
         5,
         0,
         "NONE",
         "R16"
        ],
        [
         39,
         "Albania VS Scotland",
         "N",
         "Albania",
         "Scotland",
         2,
         4,
         "NONE",
         "R16"
        ],
        [
         40,
         "Serbia VS Netherlands",
         "N",
         "Serbia",
         "Netherlands",
         0,
         0,
         "NONE",
         "R16"
        ],
        [
         41,
         "Czech Republic VS Slovenia",
         "N",
         "Czech Republic",
         "Slovenia",
         5,
         2,
         "NONE",
         "R16"
        ],
        [
         42,
         "Austria VS Romania",
         "N",
         "Austria",
         "Romania",
         0,
         0,
         "NONE",
         "R16"
        ],
        [
         43,
         "Play-off Winner B VS Croatia",
         "N",
         "Play-off Winner B",
         "Croatia",
         4,
         4,
         "NONE",
         "R16"
        ],
        [
         44,
         "Austria VS Portugal",
         "N",
         "Austria",
         "Portugal",
         3,
         2,
         "NONE",
         "R16"
        ]
       ],
       "datasetInfos": [],
       "dbfsResultPath": null,
       "isJsonSchema": true,
       "metadata": {},
       "overflow": false,
       "plotOptions": {
        "customPlotOptions": {},
        "displayType": "table",
        "pivotAggregation": null,
        "pivotColumns": null,
        "xColumns": null,
        "yColumns": null
       },
       "removedWidgets": [],
       "schema": [
        {
         "metadata": "{}",
         "name": "match_id",
         "type": "\"integer\""
        },
        {
         "metadata": "{\"__CHAR_VARCHAR_TYPE_STRING\":\"varchar(50)\"}",
         "name": "match_fixtures",
         "type": "\"string\""
        },
        {
         "metadata": "{\"__CHAR_VARCHAR_TYPE_STRING\":\"varchar(1)\"}",
         "name": "group_name",
         "type": "\"string\""
        },
        {
         "metadata": "{\"__CHAR_VARCHAR_TYPE_STRING\":\"varchar(20)\"}",
         "name": "home_team",
         "type": "\"string\""
        },
        {
         "metadata": "{\"__CHAR_VARCHAR_TYPE_STRING\":\"varchar(20)\"}",
         "name": "away_team",
         "type": "\"string\""
        },
        {
         "metadata": "{}",
         "name": "home_team_goals",
         "type": "\"integer\""
        },
        {
         "metadata": "{}",
         "name": "away_team_goals",
         "type": "\"integer\""
        },
        {
         "metadata": "{\"__CHAR_VARCHAR_TYPE_STRING\":\"varchar(20)\"}",
         "name": "match_results",
         "type": "\"string\""
        },
        {
         "metadata": "{\"__CHAR_VARCHAR_TYPE_STRING\":\"varchar(20)\"}",
         "name": "match_stage",
         "type": "\"string\""
        }
       ],
       "type": "table"
      }
     },
     "output_type": "display_data"
    }
   ],
   "source": [
    "%sql\n",
    "select * from matches order by match_id;"
   ]
  },
  {
   "cell_type": "code",
   "execution_count": 0,
   "metadata": {
    "application/vnd.databricks.v1+cell": {
     "cellMetadata": {
      "byteLimit": 2048000,
      "implicitDf": true,
      "rowLimit": 10000
     },
     "inputWidgets": {},
     "nuid": "243b8b4d-ea76-4896-ba7b-2d28f9db41ac",
     "showTitle": false,
     "title": ""
    }
   },
   "outputs": [
    {
     "output_type": "display_data",
     "data": {
      "text/html": [
       "<style scoped>\n",
       "  .table-result-container {\n",
       "    max-height: 300px;\n",
       "    overflow: auto;\n",
       "  }\n",
       "  table, th, td {\n",
       "    border: 1px solid black;\n",
       "    border-collapse: collapse;\n",
       "  }\n",
       "  th, td {\n",
       "    padding: 5px;\n",
       "  }\n",
       "  th {\n",
       "    text-align: left;\n",
       "  }\n",
       "</style><div class='table-result-container'><table class='table-result'><thead style='background-color: white'><tr><th>num_affected_rows</th></tr></thead><tbody><tr><td>8</td></tr></tbody></table></div>"
      ]
     },
     "metadata": {
      "application/vnd.databricks.v1+output": {
       "addedWidgets": {},
       "aggData": [],
       "aggError": "",
       "aggOverflow": false,
       "aggSchema": [],
       "aggSeriesLimitReached": false,
       "aggType": "",
       "arguments": {},
       "columnCustomDisplayInfos": {},
       "data": [
        [
         8
        ]
       ],
       "datasetInfos": [],
       "dbfsResultPath": null,
       "isJsonSchema": true,
       "metadata": {},
       "overflow": false,
       "plotOptions": {
        "customPlotOptions": {},
        "displayType": "table",
        "pivotAggregation": null,
        "pivotColumns": null,
        "xColumns": null,
        "yColumns": null
       },
       "removedWidgets": [],
       "schema": [
        {
         "metadata": "{}",
         "name": "num_affected_rows",
         "type": "\"long\""
        }
       ],
       "type": "table"
      }
     },
     "output_type": "display_data"
    }
   ],
   "source": [
    "%sql\n",
    "UPDATE matches\n",
    "SET match_results = \n",
    "CASE\n",
    "WHEN home_team_goals > away_team_goals THEN home_team\n",
    "WHEN home_team_goals < away_team_goals THEN away_team\n",
    "ELSE\n",
    "CASE\n",
    "WHEN (home_team_goals + 1) % 2 = 1 THEN home_team\n",
    "ELSE away_team\n",
    "END\n",
    "END\n",
    "WHERE match_stage = 'R16';"
   ]
  },
  {
   "cell_type": "markdown",
   "metadata": {
    "application/vnd.databricks.v1+cell": {
     "cellMetadata": {
      "byteLimit": 2048000,
      "rowLimit": 10000
     },
     "inputWidgets": {},
     "nuid": "a5006068-b4ff-48c9-8e78-76881b40b391",
     "showTitle": false,
     "title": ""
    }
   },
   "source": [
    "Quarter Finals"
   ]
  },
  {
   "cell_type": "code",
   "execution_count": 0,
   "metadata": {
    "application/vnd.databricks.v1+cell": {
     "cellMetadata": {
      "byteLimit": 2048000,
      "implicitDf": true,
      "rowLimit": 10000
     },
     "inputWidgets": {},
     "nuid": "68a7ec25-6fc7-48af-9d39-d7e0254510f0",
     "showTitle": false,
     "title": ""
    }
   },
   "outputs": [
    {
     "output_type": "display_data",
     "data": {
      "text/html": [
       "<style scoped>\n",
       "  .table-result-container {\n",
       "    max-height: 300px;\n",
       "    overflow: auto;\n",
       "  }\n",
       "  table, th, td {\n",
       "    border: 1px solid black;\n",
       "    border-collapse: collapse;\n",
       "  }\n",
       "  th, td {\n",
       "    padding: 5px;\n",
       "  }\n",
       "  th {\n",
       "    text-align: left;\n",
       "  }\n",
       "</style><div class='table-result-container'><table class='table-result'><thead style='background-color: white'><tr><th>num_affected_rows</th><th>num_inserted_rows</th></tr></thead><tbody><tr><td>4</td><td>4</td></tr></tbody></table></div>"
      ]
     },
     "metadata": {
      "application/vnd.databricks.v1+output": {
       "addedWidgets": {},
       "aggData": [],
       "aggError": "",
       "aggOverflow": false,
       "aggSchema": [],
       "aggSeriesLimitReached": false,
       "aggType": "",
       "arguments": {},
       "columnCustomDisplayInfos": {},
       "data": [
        [
         4,
         4
        ]
       ],
       "datasetInfos": [],
       "dbfsResultPath": null,
       "isJsonSchema": true,
       "metadata": {},
       "overflow": false,
       "plotOptions": {
        "customPlotOptions": {},
        "displayType": "table",
        "pivotAggregation": null,
        "pivotColumns": null,
        "xColumns": null,
        "yColumns": null
       },
       "removedWidgets": [],
       "schema": [
        {
         "metadata": "{}",
         "name": "num_affected_rows",
         "type": "\"long\""
        },
        {
         "metadata": "{}",
         "name": "num_inserted_rows",
         "type": "\"long\""
        }
       ],
       "type": "table"
      }
     },
     "output_type": "display_data"
    }
   ],
   "source": [
    "%sql\n",
    "INSERT INTO matches (match_id, match_fixtures,group_name, home_team, away_team, home_team_goals, away_team_goals, match_results, match_stage)\n",
    "SELECT \n",
    "    Row_Number() OVER(ORDER BY 1) + 44 AS match_id,\n",
    "    CONCAT(QF1.match_results, ' VS ', QF2.match_results) AS match_fixtures,\n",
    "    'N' as group_name,\n",
    "    QF1.match_results AS home_team,\n",
    "    QF2.match_results AS away_team,\n",
    "    CAST(rand() * 6 AS INT) AS goals_scored, \n",
    "    CAST(rand() * 6 AS INT) AS goals_allowed,\n",
    "    'NONE' AS match_results,\n",
    "    'Quarter-Final' AS match_stage\n",
    "FROM \n",
    "    matches QF1\n",
    "JOIN \n",
    "    matches QF2 ON \n",
    "        QF1.match_id = 39 AND QF2.match_id = 37\n",
    "\n",
    "UNION ALL\n",
    "\n",
    "SELECT \n",
    "    Row_Number() OVER(ORDER BY 1) + 45 AS match_id,\n",
    "    CONCAT(QF1.match_results, ' Vs. ', QF2.match_results) AS match_fixtures,\n",
    "    'N' as group_name,\n",
    "    QF1.match_results AS home_team,\n",
    "    QF2.match_results AS away_team,\n",
    "    CAST(rand() * 6 AS INT) AS goals_scored, \n",
    "    CAST(rand() * 6 AS INT) AS goals_allowed,\n",
    "    'None' AS match_results,\n",
    "    'Quarter-Final' AS match_stage\n",
    "FROM \n",
    "    matches QF1\n",
    "JOIN \n",
    "    matches QF2 ON \n",
    "        QF1.match_id = 41 AND QF2.match_id = 42\n",
    "\n",
    "UNION ALL\n",
    "\n",
    "SELECT \n",
    "    Row_Number() OVER(ORDER BY 1) + 46 AS match_id,\n",
    "    CONCAT(QF1.match_results, ' Vs. ', QF2.match_results) AS match_fixtures,\n",
    "    'N' as group_name,\n",
    "    QF1.match_results AS home_team,\n",
    "    QF2.match_results AS away_team,\n",
    "    CAST(rand() * 6 AS INT) AS goals_scored, \n",
    "    CAST(rand() * 6 AS INT) AS goals_allowed,\n",
    "    'None' AS match_results,\n",
    "    'Quarter-Final' AS match_stage\n",
    "FROM \n",
    "    matches QF1\n",
    "JOIN \n",
    "    matches QF2 ON \n",
    "        QF1.match_id = 43 AND QF2.match_id = 44\n",
    "\n",
    "UNION ALL\n",
    "\n",
    "SELECT \n",
    "    Row_Number() OVER(ORDER BY 1) + 47 AS match_id,\n",
    "    CONCAT(QF1.match_results, ' Vs. ', QF2.match_results) AS match_fixtures,\n",
    "    'N' as GroupName,\n",
    "    QF1.match_results AS home_team,\n",
    "    QF2.match_results AS away_team,\n",
    "    CAST(rand() * 6 AS INT) AS goals_scored, \n",
    "    CAST(rand() * 6 AS INT) AS goals_allowed,\n",
    "    'None' AS match_results,\n",
    "    'Quarter-Final' AS match_stage\n",
    "FROM \n",
    "    matches QF1\n",
    "JOIN \n",
    "    matches QF2 ON \n",
    "        QF1.match_id = 40 AND QF2.match_id = 38;"
   ]
  },
  {
   "cell_type": "code",
   "execution_count": 0,
   "metadata": {
    "application/vnd.databricks.v1+cell": {
     "cellMetadata": {
      "byteLimit": 2048000,
      "implicitDf": true,
      "rowLimit": 10000
     },
     "inputWidgets": {},
     "nuid": "b3e650e5-5799-43d5-9e79-a7595830637a",
     "showTitle": false,
     "title": ""
    }
   },
   "outputs": [
    {
     "output_type": "display_data",
     "data": {
      "text/html": [
       "<style scoped>\n",
       "  .table-result-container {\n",
       "    max-height: 300px;\n",
       "    overflow: auto;\n",
       "  }\n",
       "  table, th, td {\n",
       "    border: 1px solid black;\n",
       "    border-collapse: collapse;\n",
       "  }\n",
       "  th, td {\n",
       "    padding: 5px;\n",
       "  }\n",
       "  th {\n",
       "    text-align: left;\n",
       "  }\n",
       "</style><div class='table-result-container'><table class='table-result'><thead style='background-color: white'><tr><th>num_affected_rows</th></tr></thead><tbody><tr><td>4</td></tr></tbody></table></div>"
      ]
     },
     "metadata": {
      "application/vnd.databricks.v1+output": {
       "addedWidgets": {},
       "aggData": [],
       "aggError": "",
       "aggOverflow": false,
       "aggSchema": [],
       "aggSeriesLimitReached": false,
       "aggType": "",
       "arguments": {},
       "columnCustomDisplayInfos": {},
       "data": [
        [
         4
        ]
       ],
       "datasetInfos": [],
       "dbfsResultPath": null,
       "isJsonSchema": true,
       "metadata": {},
       "overflow": false,
       "plotOptions": {
        "customPlotOptions": {},
        "displayType": "table",
        "pivotAggregation": null,
        "pivotColumns": null,
        "xColumns": null,
        "yColumns": null
       },
       "removedWidgets": [],
       "schema": [
        {
         "metadata": "{}",
         "name": "num_affected_rows",
         "type": "\"long\""
        }
       ],
       "type": "table"
      }
     },
     "output_type": "display_data"
    }
   ],
   "source": [
    "%sql\n",
    "UPDATE matches\n",
    "SET match_results = \n",
    "    CASE\n",
    "        WHEN home_team_goals > away_team_goals THEN home_team\n",
    "        WHEN home_team_goals < away_team_goals THEN away_team\n",
    "        ELSE \n",
    "        CASE \n",
    "                WHEN (home_team_goals + 1) % 2 = 1 THEN home_team\n",
    "                ELSE away_team\n",
    "            END\n",
    "    END\n",
    "WHERE match_stage = 'Quarter-Final';"
   ]
  },
  {
   "cell_type": "markdown",
   "metadata": {
    "application/vnd.databricks.v1+cell": {
     "cellMetadata": {
      "byteLimit": 2048000,
      "rowLimit": 10000
     },
     "inputWidgets": {},
     "nuid": "51b15202-1996-4de1-9d10-3432338e3dd1",
     "showTitle": false,
     "title": ""
    }
   },
   "source": [
    "Semi-Final Rounds"
   ]
  },
  {
   "cell_type": "code",
   "execution_count": 0,
   "metadata": {
    "application/vnd.databricks.v1+cell": {
     "cellMetadata": {
      "byteLimit": 2048000,
      "implicitDf": true,
      "rowLimit": 10000
     },
     "inputWidgets": {},
     "nuid": "0db5670f-b199-4683-8309-43f5d032165b",
     "showTitle": false,
     "title": ""
    }
   },
   "outputs": [
    {
     "output_type": "display_data",
     "data": {
      "text/html": [
       "<style scoped>\n",
       "  .table-result-container {\n",
       "    max-height: 300px;\n",
       "    overflow: auto;\n",
       "  }\n",
       "  table, th, td {\n",
       "    border: 1px solid black;\n",
       "    border-collapse: collapse;\n",
       "  }\n",
       "  th, td {\n",
       "    padding: 5px;\n",
       "  }\n",
       "  th {\n",
       "    text-align: left;\n",
       "  }\n",
       "</style><div class='table-result-container'><table class='table-result'><thead style='background-color: white'><tr><th>num_affected_rows</th><th>num_inserted_rows</th></tr></thead><tbody><tr><td>2</td><td>2</td></tr></tbody></table></div>"
      ]
     },
     "metadata": {
      "application/vnd.databricks.v1+output": {
       "addedWidgets": {},
       "aggData": [],
       "aggError": "",
       "aggOverflow": false,
       "aggSchema": [],
       "aggSeriesLimitReached": false,
       "aggType": "",
       "arguments": {},
       "columnCustomDisplayInfos": {},
       "data": [
        [
         2,
         2
        ]
       ],
       "datasetInfos": [],
       "dbfsResultPath": null,
       "isJsonSchema": true,
       "metadata": {},
       "overflow": false,
       "plotOptions": {
        "customPlotOptions": {},
        "displayType": "table",
        "pivotAggregation": null,
        "pivotColumns": null,
        "xColumns": null,
        "yColumns": null
       },
       "removedWidgets": [],
       "schema": [
        {
         "metadata": "{}",
         "name": "num_affected_rows",
         "type": "\"long\""
        },
        {
         "metadata": "{}",
         "name": "num_inserted_rows",
         "type": "\"long\""
        }
       ],
       "type": "table"
      }
     },
     "output_type": "display_data"
    }
   ],
   "source": [
    "%sql\n",
    "INSERT INTO matches (match_id, match_fixtures,group_name, home_team, away_team, home_team_goals, away_team_goals, match_results, match_stage)\n",
    "SELECT \n",
    "    Row_Number() OVER(ORDER BY 1) + 48 AS match_id,\n",
    "    CONCAT(SF1.match_results, ' Vs. ', SF2.match_results) AS fixture,\n",
    "    'N' as GroupName,\n",
    "    SF1.match_results AS home_team,\n",
    "    SF2.match_results AS away_team,\n",
    "    CAST(rand() * 6 AS INT) AS goals_scored, \n",
    "    CAST(rand() * 6 AS INT) AS goals_scored,\n",
    "    'NONE' AS match_results,\n",
    "    'Semi-Final' AS match_stage\n",
    "FROM \n",
    "    matches SF1\n",
    "JOIN \n",
    "    matches SF2 ON (\n",
    "        (SF1.match_id = 45 AND SF2.match_id = 46) OR\n",
    "        (SF1.match_id = 47 AND SF2.match_id = 48)\n",
    "    );"
   ]
  },
  {
   "cell_type": "code",
   "execution_count": 0,
   "metadata": {
    "application/vnd.databricks.v1+cell": {
     "cellMetadata": {
      "byteLimit": 2048000,
      "implicitDf": true,
      "rowLimit": 10000
     },
     "inputWidgets": {},
     "nuid": "92f70844-fad3-4516-9c54-65f0dbdedfd3",
     "showTitle": false,
     "title": ""
    }
   },
   "outputs": [
    {
     "output_type": "display_data",
     "data": {
      "text/html": [
       "<style scoped>\n",
       "  .table-result-container {\n",
       "    max-height: 300px;\n",
       "    overflow: auto;\n",
       "  }\n",
       "  table, th, td {\n",
       "    border: 1px solid black;\n",
       "    border-collapse: collapse;\n",
       "  }\n",
       "  th, td {\n",
       "    padding: 5px;\n",
       "  }\n",
       "  th {\n",
       "    text-align: left;\n",
       "  }\n",
       "</style><div class='table-result-container'><table class='table-result'><thead style='background-color: white'><tr><th>num_affected_rows</th></tr></thead><tbody><tr><td>2</td></tr></tbody></table></div>"
      ]
     },
     "metadata": {
      "application/vnd.databricks.v1+output": {
       "addedWidgets": {},
       "aggData": [],
       "aggError": "",
       "aggOverflow": false,
       "aggSchema": [],
       "aggSeriesLimitReached": false,
       "aggType": "",
       "arguments": {},
       "columnCustomDisplayInfos": {},
       "data": [
        [
         2
        ]
       ],
       "datasetInfos": [],
       "dbfsResultPath": null,
       "isJsonSchema": true,
       "metadata": {},
       "overflow": false,
       "plotOptions": {
        "customPlotOptions": {},
        "displayType": "table",
        "pivotAggregation": null,
        "pivotColumns": null,
        "xColumns": null,
        "yColumns": null
       },
       "removedWidgets": [],
       "schema": [
        {
         "metadata": "{}",
         "name": "num_affected_rows",
         "type": "\"long\""
        }
       ],
       "type": "table"
      }
     },
     "output_type": "display_data"
    }
   ],
   "source": [
    "%sql\n",
    "UPDATE matches\n",
    "SET match_results = \n",
    "    CASE\n",
    "        WHEN home_team_goals > away_team_goals THEN home_team\n",
    "        WHEN home_team_goals < away_team_goals THEN away_team\n",
    "        ELSE \n",
    "          CASE \n",
    "                  WHEN (home_team_goals + 1) % 2 = 1 THEN home_team\n",
    "                  ELSE away_team\n",
    "              END\n",
    "    END\n",
    "WHERE match_stage = 'Semi-Final';"
   ]
  },
  {
   "cell_type": "markdown",
   "metadata": {
    "application/vnd.databricks.v1+cell": {
     "cellMetadata": {
      "byteLimit": 2048000,
      "rowLimit": 10000
     },
     "inputWidgets": {},
     "nuid": "21f4542e-1ed1-481b-a633-80731ff9231a",
     "showTitle": false,
     "title": ""
    }
   },
   "source": [
    "Match for Third Place"
   ]
  },
  {
   "cell_type": "code",
   "execution_count": 0,
   "metadata": {
    "application/vnd.databricks.v1+cell": {
     "cellMetadata": {
      "byteLimit": 2048000,
      "implicitDf": true,
      "rowLimit": 10000
     },
     "inputWidgets": {},
     "nuid": "dabbc7fc-268f-467e-bf78-5390be6125c0",
     "showTitle": false,
     "title": ""
    }
   },
   "outputs": [
    {
     "output_type": "display_data",
     "data": {
      "text/html": [
       "<style scoped>\n",
       "  .table-result-container {\n",
       "    max-height: 300px;\n",
       "    overflow: auto;\n",
       "  }\n",
       "  table, th, td {\n",
       "    border: 1px solid black;\n",
       "    border-collapse: collapse;\n",
       "  }\n",
       "  th, td {\n",
       "    padding: 5px;\n",
       "  }\n",
       "  th {\n",
       "    text-align: left;\n",
       "  }\n",
       "</style><div class='table-result-container'><table class='table-result'><thead style='background-color: white'><tr><th>num_affected_rows</th><th>num_inserted_rows</th></tr></thead><tbody><tr><td>1</td><td>1</td></tr></tbody></table></div>"
      ]
     },
     "metadata": {
      "application/vnd.databricks.v1+output": {
       "addedWidgets": {},
       "aggData": [],
       "aggError": "",
       "aggOverflow": false,
       "aggSchema": [],
       "aggSeriesLimitReached": false,
       "aggType": "",
       "arguments": {},
       "columnCustomDisplayInfos": {},
       "data": [
        [
         1,
         1
        ]
       ],
       "datasetInfos": [],
       "dbfsResultPath": null,
       "isJsonSchema": true,
       "metadata": {},
       "overflow": false,
       "plotOptions": {
        "customPlotOptions": {},
        "displayType": "table",
        "pivotAggregation": null,
        "pivotColumns": null,
        "xColumns": null,
        "yColumns": null
       },
       "removedWidgets": [],
       "schema": [
        {
         "metadata": "{}",
         "name": "num_affected_rows",
         "type": "\"long\""
        },
        {
         "metadata": "{}",
         "name": "num_inserted_rows",
         "type": "\"long\""
        }
       ],
       "type": "table"
      }
     },
     "output_type": "display_data"
    }
   ],
   "source": [
    "%sql\n",
    "INSERT INTO matches (match_id, match_fixtures,group_name, home_team, away_team, home_team_goals, away_team_goals, match_results, match_stage)\n",
    "WITH losing_teams AS (\n",
    "    SELECT\n",
    "        CASE\n",
    "            WHEN match_results != home_team THEN home_team\n",
    "            ELSE away_team\n",
    "        END AS losing_teams\n",
    "    FROM\n",
    "        matches\n",
    "    WHERE \n",
    "        match_stage = 'Semi-Final'\n",
    ")\n",
    "\n",
    "SELECT \n",
    "    Row_Number() OVER(ORDER BY 1) + 50 AS match_id,\n",
    "    CONCAT(T1.losing_teams, ' Vs. ', T2.losing_teams) AS fixture,\n",
    "    'N' as GroupName,\n",
    "    T1.losing_teams AS home_team,\n",
    "    T2.losing_teams AS away_team,\n",
    "    CAST(rand() * 6 AS INTEGER) AS goals_scored, \n",
    "    CAST(rand() * 6 AS INTEGER) AS goals_allowed,\n",
    "    'None' AS match_results,\n",
    "    'Third-Place' AS match_stage\n",
    "FROM \n",
    "    losing_teams T1\n",
    "JOIN \n",
    "    losing_teams T2 ON T1.losing_teams < T2.losing_teams;\n"
   ]
  },
  {
   "cell_type": "code",
   "execution_count": 0,
   "metadata": {
    "application/vnd.databricks.v1+cell": {
     "cellMetadata": {
      "byteLimit": 2048000,
      "implicitDf": true,
      "rowLimit": 10000
     },
     "inputWidgets": {},
     "nuid": "51927f74-04c2-4ca7-83e2-01a3b2b88225",
     "showTitle": false,
     "title": ""
    }
   },
   "outputs": [
    {
     "output_type": "display_data",
     "data": {
      "text/html": [
       "<style scoped>\n",
       "  .table-result-container {\n",
       "    max-height: 300px;\n",
       "    overflow: auto;\n",
       "  }\n",
       "  table, th, td {\n",
       "    border: 1px solid black;\n",
       "    border-collapse: collapse;\n",
       "  }\n",
       "  th, td {\n",
       "    padding: 5px;\n",
       "  }\n",
       "  th {\n",
       "    text-align: left;\n",
       "  }\n",
       "</style><div class='table-result-container'><table class='table-result'><thead style='background-color: white'><tr><th>num_affected_rows</th></tr></thead><tbody><tr><td>1</td></tr></tbody></table></div>"
      ]
     },
     "metadata": {
      "application/vnd.databricks.v1+output": {
       "addedWidgets": {},
       "aggData": [],
       "aggError": "",
       "aggOverflow": false,
       "aggSchema": [],
       "aggSeriesLimitReached": false,
       "aggType": "",
       "arguments": {},
       "columnCustomDisplayInfos": {},
       "data": [
        [
         1
        ]
       ],
       "datasetInfos": [],
       "dbfsResultPath": null,
       "isJsonSchema": true,
       "metadata": {},
       "overflow": false,
       "plotOptions": {
        "customPlotOptions": {},
        "displayType": "table",
        "pivotAggregation": null,
        "pivotColumns": null,
        "xColumns": null,
        "yColumns": null
       },
       "removedWidgets": [],
       "schema": [
        {
         "metadata": "{}",
         "name": "num_affected_rows",
         "type": "\"long\""
        }
       ],
       "type": "table"
      }
     },
     "output_type": "display_data"
    }
   ],
   "source": [
    "%sql\n",
    "UPDATE matches\n",
    "SET match_results = \n",
    "    CASE\n",
    "        WHEN home_team_goals > away_team_goals THEN home_team\n",
    "        WHEN home_team_goals < away_team_goals THEN away_team\n",
    "        ELSE \n",
    "          CASE \n",
    "                  WHEN (home_team_goals + 1) % 2 = 1 THEN home_team\n",
    "                  ELSE away_team\n",
    "              END\n",
    "    END\n",
    "WHERE match_stage = 'Third-Place';"
   ]
  },
  {
   "cell_type": "markdown",
   "metadata": {
    "application/vnd.databricks.v1+cell": {
     "cellMetadata": {
      "byteLimit": 2048000,
      "rowLimit": 10000
     },
     "inputWidgets": {},
     "nuid": "11634b49-c69f-49fa-a02e-a3b5a331bcce",
     "showTitle": false,
     "title": ""
    }
   },
   "source": [
    "Final Match"
   ]
  },
  {
   "cell_type": "code",
   "execution_count": 0,
   "metadata": {
    "application/vnd.databricks.v1+cell": {
     "cellMetadata": {
      "byteLimit": 2048000,
      "implicitDf": true,
      "rowLimit": 10000
     },
     "inputWidgets": {},
     "nuid": "0edc0fe1-3c44-44ad-a36a-e47b8bc20782",
     "showTitle": false,
     "title": ""
    }
   },
   "outputs": [
    {
     "output_type": "display_data",
     "data": {
      "text/html": [
       "<style scoped>\n",
       "  .table-result-container {\n",
       "    max-height: 300px;\n",
       "    overflow: auto;\n",
       "  }\n",
       "  table, th, td {\n",
       "    border: 1px solid black;\n",
       "    border-collapse: collapse;\n",
       "  }\n",
       "  th, td {\n",
       "    padding: 5px;\n",
       "  }\n",
       "  th {\n",
       "    text-align: left;\n",
       "  }\n",
       "</style><div class='table-result-container'><table class='table-result'><thead style='background-color: white'><tr><th>num_affected_rows</th><th>num_inserted_rows</th></tr></thead><tbody><tr><td>1</td><td>1</td></tr></tbody></table></div>"
      ]
     },
     "metadata": {
      "application/vnd.databricks.v1+output": {
       "addedWidgets": {},
       "aggData": [],
       "aggError": "",
       "aggOverflow": false,
       "aggSchema": [],
       "aggSeriesLimitReached": false,
       "aggType": "",
       "arguments": {},
       "columnCustomDisplayInfos": {},
       "data": [
        [
         1,
         1
        ]
       ],
       "datasetInfos": [],
       "dbfsResultPath": null,
       "isJsonSchema": true,
       "metadata": {},
       "overflow": false,
       "plotOptions": {
        "customPlotOptions": {},
        "displayType": "table",
        "pivotAggregation": null,
        "pivotColumns": null,
        "xColumns": null,
        "yColumns": null
       },
       "removedWidgets": [],
       "schema": [
        {
         "metadata": "{}",
         "name": "num_affected_rows",
         "type": "\"long\""
        },
        {
         "metadata": "{}",
         "name": "num_inserted_rows",
         "type": "\"long\""
        }
       ],
       "type": "table"
      }
     },
     "output_type": "display_data"
    }
   ],
   "source": [
    "%sql\n",
    "INSERT INTO matches (match_id, match_fixtures,group_name, home_team, away_team, home_team_goals, away_team_goals, match_results, match_stage)\n",
    "SELECT \n",
    "    Row_Number() OVER(ORDER BY 1) + 52 AS match_id,\n",
    "    CONCAT(F1.match_results, ' Vs. ', F2.match_results) AS fixture,\n",
    "    'N' as GroupName,\n",
    "    F1.match_results AS home_team,\n",
    "    F2.match_results AS AwayTeam,\n",
    "    CAST(rand() * 6 AS INT) AS goals_scored, \n",
    "    CAST(rand() * 6 AS INT) AS goals_allowed,\n",
    "    'None' AS match_results,\n",
    "    'Final' AS match_stage\n",
    "FROM \n",
    "    matches F1\n",
    "JOIN \n",
    "    matches F2 ON \n",
    "        F1.match_id = 49 AND F2.match_id = 50;"
   ]
  },
  {
   "cell_type": "code",
   "execution_count": 0,
   "metadata": {
    "application/vnd.databricks.v1+cell": {
     "cellMetadata": {
      "byteLimit": 2048000,
      "implicitDf": true,
      "rowLimit": 10000
     },
     "inputWidgets": {},
     "nuid": "717e9eb5-7085-48c0-bb0a-d7263bc9f88c",
     "showTitle": false,
     "title": ""
    }
   },
   "outputs": [
    {
     "output_type": "display_data",
     "data": {
      "text/html": [
       "<style scoped>\n",
       "  .table-result-container {\n",
       "    max-height: 300px;\n",
       "    overflow: auto;\n",
       "  }\n",
       "  table, th, td {\n",
       "    border: 1px solid black;\n",
       "    border-collapse: collapse;\n",
       "  }\n",
       "  th, td {\n",
       "    padding: 5px;\n",
       "  }\n",
       "  th {\n",
       "    text-align: left;\n",
       "  }\n",
       "</style><div class='table-result-container'><table class='table-result'><thead style='background-color: white'><tr><th>num_affected_rows</th></tr></thead><tbody><tr><td>1</td></tr></tbody></table></div>"
      ]
     },
     "metadata": {
      "application/vnd.databricks.v1+output": {
       "addedWidgets": {},
       "aggData": [],
       "aggError": "",
       "aggOverflow": false,
       "aggSchema": [],
       "aggSeriesLimitReached": false,
       "aggType": "",
       "arguments": {},
       "columnCustomDisplayInfos": {},
       "data": [
        [
         1
        ]
       ],
       "datasetInfos": [],
       "dbfsResultPath": null,
       "isJsonSchema": true,
       "metadata": {},
       "overflow": false,
       "plotOptions": {
        "customPlotOptions": {},
        "displayType": "table",
        "pivotAggregation": null,
        "pivotColumns": null,
        "xColumns": null,
        "yColumns": null
       },
       "removedWidgets": [],
       "schema": [
        {
         "metadata": "{}",
         "name": "num_affected_rows",
         "type": "\"long\""
        }
       ],
       "type": "table"
      }
     },
     "output_type": "display_data"
    }
   ],
   "source": [
    "%sql\n",
    "UPDATE matches\n",
    "SET match_results = \n",
    "    CASE\n",
    "        WHEN home_team_goals > away_team_goals THEN home_team\n",
    "        WHEN home_team_goals < away_team_goals THEN away_team\n",
    "        ELSE \n",
    "          CASE \n",
    "                WHEN (home_team_goals + 1) % 2 = 1 THEN home_team\n",
    "                ELSE away_team\n",
    "            END\n",
    "    END\n",
    "WHERE match_stage = 'Final';"
   ]
  },
  {
   "cell_type": "code",
   "execution_count": 0,
   "metadata": {
    "application/vnd.databricks.v1+cell": {
     "cellMetadata": {
      "byteLimit": 2048000,
      "implicitDf": true,
      "rowLimit": 10000
     },
     "inputWidgets": {},
     "nuid": "596927b9-af98-49d8-aa6e-1cdf71c565c7",
     "showTitle": false,
     "title": ""
    }
   },
   "outputs": [
    {
     "output_type": "display_data",
     "data": {
      "text/html": [
       "<style scoped>\n",
       "  .table-result-container {\n",
       "    max-height: 300px;\n",
       "    overflow: auto;\n",
       "  }\n",
       "  table, th, td {\n",
       "    border: 1px solid black;\n",
       "    border-collapse: collapse;\n",
       "  }\n",
       "  th, td {\n",
       "    padding: 5px;\n",
       "  }\n",
       "  th {\n",
       "    text-align: left;\n",
       "  }\n",
       "</style><div class='table-result-container'><table class='table-result'><thead style='background-color: white'><tr><th>match_id</th><th>match_fixtures</th><th>group_name</th><th>home_team</th><th>away_team</th><th>home_team_goals</th><th>away_team_goals</th><th>match_results</th><th>match_stage</th></tr></thead><tbody><tr><td>37</td><td>Hungary VS England</td><td>N</td><td>Hungary</td><td>England</td><td>3</td><td>1</td><td>Hungary</td><td>R16</td></tr><tr><td>38</td><td>Switzerland VS Spain</td><td>N</td><td>Switzerland</td><td>Spain</td><td>5</td><td>0</td><td>Switzerland</td><td>R16</td></tr><tr><td>39</td><td>Albania VS Scotland</td><td>N</td><td>Albania</td><td>Scotland</td><td>2</td><td>4</td><td>Scotland</td><td>R16</td></tr><tr><td>40</td><td>Serbia VS Netherlands</td><td>N</td><td>Serbia</td><td>Netherlands</td><td>0</td><td>0</td><td>Serbia</td><td>R16</td></tr><tr><td>41</td><td>Czech Republic VS Slovenia</td><td>N</td><td>Czech Republic</td><td>Slovenia</td><td>5</td><td>2</td><td>Czech Republic</td><td>R16</td></tr><tr><td>42</td><td>Austria VS Romania</td><td>N</td><td>Austria</td><td>Romania</td><td>0</td><td>0</td><td>Austria</td><td>R16</td></tr><tr><td>43</td><td>Play-off Winner B VS Croatia</td><td>N</td><td>Play-off Winner B</td><td>Croatia</td><td>4</td><td>4</td><td>Play-off Winner B</td><td>R16</td></tr><tr><td>44</td><td>Austria VS Portugal</td><td>N</td><td>Austria</td><td>Portugal</td><td>3</td><td>2</td><td>Austria</td><td>R16</td></tr></tbody></table></div>"
      ]
     },
     "metadata": {
      "application/vnd.databricks.v1+output": {
       "addedWidgets": {},
       "aggData": [],
       "aggError": "",
       "aggOverflow": false,
       "aggSchema": [],
       "aggSeriesLimitReached": false,
       "aggType": "",
       "arguments": {},
       "columnCustomDisplayInfos": {},
       "data": [
        [
         37,
         "Hungary VS England",
         "N",
         "Hungary",
         "England",
         3,
         1,
         "Hungary",
         "R16"
        ],
        [
         38,
         "Switzerland VS Spain",
         "N",
         "Switzerland",
         "Spain",
         5,
         0,
         "Switzerland",
         "R16"
        ],
        [
         39,
         "Albania VS Scotland",
         "N",
         "Albania",
         "Scotland",
         2,
         4,
         "Scotland",
         "R16"
        ],
        [
         40,
         "Serbia VS Netherlands",
         "N",
         "Serbia",
         "Netherlands",
         0,
         0,
         "Serbia",
         "R16"
        ],
        [
         41,
         "Czech Republic VS Slovenia",
         "N",
         "Czech Republic",
         "Slovenia",
         5,
         2,
         "Czech Republic",
         "R16"
        ],
        [
         42,
         "Austria VS Romania",
         "N",
         "Austria",
         "Romania",
         0,
         0,
         "Austria",
         "R16"
        ],
        [
         43,
         "Play-off Winner B VS Croatia",
         "N",
         "Play-off Winner B",
         "Croatia",
         4,
         4,
         "Play-off Winner B",
         "R16"
        ],
        [
         44,
         "Austria VS Portugal",
         "N",
         "Austria",
         "Portugal",
         3,
         2,
         "Austria",
         "R16"
        ]
       ],
       "datasetInfos": [],
       "dbfsResultPath": null,
       "isJsonSchema": true,
       "metadata": {},
       "overflow": false,
       "plotOptions": {
        "customPlotOptions": {},
        "displayType": "table",
        "pivotAggregation": null,
        "pivotColumns": null,
        "xColumns": null,
        "yColumns": null
       },
       "removedWidgets": [],
       "schema": [
        {
         "metadata": "{}",
         "name": "match_id",
         "type": "\"integer\""
        },
        {
         "metadata": "{\"__CHAR_VARCHAR_TYPE_STRING\":\"varchar(50)\"}",
         "name": "match_fixtures",
         "type": "\"string\""
        },
        {
         "metadata": "{\"__CHAR_VARCHAR_TYPE_STRING\":\"varchar(1)\"}",
         "name": "group_name",
         "type": "\"string\""
        },
        {
         "metadata": "{\"__CHAR_VARCHAR_TYPE_STRING\":\"varchar(20)\"}",
         "name": "home_team",
         "type": "\"string\""
        },
        {
         "metadata": "{\"__CHAR_VARCHAR_TYPE_STRING\":\"varchar(20)\"}",
         "name": "away_team",
         "type": "\"string\""
        },
        {
         "metadata": "{}",
         "name": "home_team_goals",
         "type": "\"integer\""
        },
        {
         "metadata": "{}",
         "name": "away_team_goals",
         "type": "\"integer\""
        },
        {
         "metadata": "{\"__CHAR_VARCHAR_TYPE_STRING\":\"varchar(20)\"}",
         "name": "match_results",
         "type": "\"string\""
        },
        {
         "metadata": "{\"__CHAR_VARCHAR_TYPE_STRING\":\"varchar(20)\"}",
         "name": "match_stage",
         "type": "\"string\""
        }
       ],
       "type": "table"
      }
     },
     "output_type": "display_data"
    }
   ],
   "source": [
    "%sql\n",
    "SELECT * FROM matches where match_stage = 'R16' ORDER BY match_id;"
   ]
  },
  {
   "cell_type": "code",
   "execution_count": 0,
   "metadata": {
    "application/vnd.databricks.v1+cell": {
     "cellMetadata": {
      "byteLimit": 2048000,
      "implicitDf": true,
      "rowLimit": 10000
     },
     "inputWidgets": {},
     "nuid": "523ce5ee-6b64-49c0-b9ce-c268a803430d",
     "showTitle": false,
     "title": ""
    }
   },
   "outputs": [
    {
     "output_type": "display_data",
     "data": {
      "text/html": [
       "<style scoped>\n",
       "  .table-result-container {\n",
       "    max-height: 300px;\n",
       "    overflow: auto;\n",
       "  }\n",
       "  table, th, td {\n",
       "    border: 1px solid black;\n",
       "    border-collapse: collapse;\n",
       "  }\n",
       "  th, td {\n",
       "    padding: 5px;\n",
       "  }\n",
       "  th {\n",
       "    text-align: left;\n",
       "  }\n",
       "</style><div class='table-result-container'><table class='table-result'><thead style='background-color: white'><tr><th>match_id</th><th>match_fixtures</th><th>group_name</th><th>home_team</th><th>away_team</th><th>home_team_goals</th><th>away_team_goals</th><th>match_results</th><th>match_stage</th></tr></thead><tbody><tr><td>45</td><td>Scotland VS Hungary</td><td>N</td><td>Scotland</td><td>Hungary</td><td>2</td><td>1</td><td>Scotland</td><td>Quarter-Final</td></tr><tr><td>46</td><td>Czech Republic Vs. Austria</td><td>N</td><td>Czech Republic</td><td>Austria</td><td>0</td><td>4</td><td>Austria</td><td>Quarter-Final</td></tr><tr><td>47</td><td>Play-off Winner B Vs. Austria</td><td>N</td><td>Play-off Winner B</td><td>Austria</td><td>3</td><td>1</td><td>Play-off Winner B</td><td>Quarter-Final</td></tr><tr><td>48</td><td>Serbia Vs. Switzerland</td><td>N</td><td>Serbia</td><td>Switzerland</td><td>3</td><td>1</td><td>Serbia</td><td>Quarter-Final</td></tr></tbody></table></div>"
      ]
     },
     "metadata": {
      "application/vnd.databricks.v1+output": {
       "addedWidgets": {},
       "aggData": [],
       "aggError": "",
       "aggOverflow": false,
       "aggSchema": [],
       "aggSeriesLimitReached": false,
       "aggType": "",
       "arguments": {},
       "columnCustomDisplayInfos": {},
       "data": [
        [
         45,
         "Scotland VS Hungary",
         "N",
         "Scotland",
         "Hungary",
         2,
         1,
         "Scotland",
         "Quarter-Final"
        ],
        [
         46,
         "Czech Republic Vs. Austria",
         "N",
         "Czech Republic",
         "Austria",
         0,
         4,
         "Austria",
         "Quarter-Final"
        ],
        [
         47,
         "Play-off Winner B Vs. Austria",
         "N",
         "Play-off Winner B",
         "Austria",
         3,
         1,
         "Play-off Winner B",
         "Quarter-Final"
        ],
        [
         48,
         "Serbia Vs. Switzerland",
         "N",
         "Serbia",
         "Switzerland",
         3,
         1,
         "Serbia",
         "Quarter-Final"
        ]
       ],
       "datasetInfos": [],
       "dbfsResultPath": null,
       "isJsonSchema": true,
       "metadata": {},
       "overflow": false,
       "plotOptions": {
        "customPlotOptions": {},
        "displayType": "table",
        "pivotAggregation": null,
        "pivotColumns": null,
        "xColumns": null,
        "yColumns": null
       },
       "removedWidgets": [],
       "schema": [
        {
         "metadata": "{}",
         "name": "match_id",
         "type": "\"integer\""
        },
        {
         "metadata": "{\"__CHAR_VARCHAR_TYPE_STRING\":\"varchar(50)\"}",
         "name": "match_fixtures",
         "type": "\"string\""
        },
        {
         "metadata": "{\"__CHAR_VARCHAR_TYPE_STRING\":\"varchar(1)\"}",
         "name": "group_name",
         "type": "\"string\""
        },
        {
         "metadata": "{\"__CHAR_VARCHAR_TYPE_STRING\":\"varchar(20)\"}",
         "name": "home_team",
         "type": "\"string\""
        },
        {
         "metadata": "{\"__CHAR_VARCHAR_TYPE_STRING\":\"varchar(20)\"}",
         "name": "away_team",
         "type": "\"string\""
        },
        {
         "metadata": "{}",
         "name": "home_team_goals",
         "type": "\"integer\""
        },
        {
         "metadata": "{}",
         "name": "away_team_goals",
         "type": "\"integer\""
        },
        {
         "metadata": "{\"__CHAR_VARCHAR_TYPE_STRING\":\"varchar(20)\"}",
         "name": "match_results",
         "type": "\"string\""
        },
        {
         "metadata": "{\"__CHAR_VARCHAR_TYPE_STRING\":\"varchar(20)\"}",
         "name": "match_stage",
         "type": "\"string\""
        }
       ],
       "type": "table"
      }
     },
     "output_type": "display_data"
    }
   ],
   "source": [
    "%sql\n",
    "SELECT * FROM matches where match_stage = 'Quarter-Final' ORDER BY match_id;"
   ]
  },
  {
   "cell_type": "code",
   "execution_count": 0,
   "metadata": {
    "application/vnd.databricks.v1+cell": {
     "cellMetadata": {
      "byteLimit": 2048000,
      "implicitDf": true,
      "rowLimit": 10000
     },
     "inputWidgets": {},
     "nuid": "69d4768f-511a-4758-ac78-da02ffb96344",
     "showTitle": false,
     "title": ""
    }
   },
   "outputs": [
    {
     "output_type": "display_data",
     "data": {
      "text/html": [
       "<style scoped>\n",
       "  .table-result-container {\n",
       "    max-height: 300px;\n",
       "    overflow: auto;\n",
       "  }\n",
       "  table, th, td {\n",
       "    border: 1px solid black;\n",
       "    border-collapse: collapse;\n",
       "  }\n",
       "  th, td {\n",
       "    padding: 5px;\n",
       "  }\n",
       "  th {\n",
       "    text-align: left;\n",
       "  }\n",
       "</style><div class='table-result-container'><table class='table-result'><thead style='background-color: white'><tr><th>match_id</th><th>match_fixtures</th><th>group_name</th><th>home_team</th><th>away_team</th><th>home_team_goals</th><th>away_team_goals</th><th>match_results</th><th>match_stage</th></tr></thead><tbody><tr><td>49</td><td>Play-off Winner B Vs. Serbia</td><td>N</td><td>Play-off Winner B</td><td>Serbia</td><td>4</td><td>4</td><td>Play-off Winner B</td><td>Semi-Final</td></tr><tr><td>50</td><td>Scotland Vs. Austria</td><td>N</td><td>Scotland</td><td>Austria</td><td>3</td><td>1</td><td>Scotland</td><td>Semi-Final</td></tr></tbody></table></div>"
      ]
     },
     "metadata": {
      "application/vnd.databricks.v1+output": {
       "addedWidgets": {},
       "aggData": [],
       "aggError": "",
       "aggOverflow": false,
       "aggSchema": [],
       "aggSeriesLimitReached": false,
       "aggType": "",
       "arguments": {},
       "columnCustomDisplayInfos": {},
       "data": [
        [
         49,
         "Play-off Winner B Vs. Serbia",
         "N",
         "Play-off Winner B",
         "Serbia",
         4,
         4,
         "Play-off Winner B",
         "Semi-Final"
        ],
        [
         50,
         "Scotland Vs. Austria",
         "N",
         "Scotland",
         "Austria",
         3,
         1,
         "Scotland",
         "Semi-Final"
        ]
       ],
       "datasetInfos": [],
       "dbfsResultPath": null,
       "isJsonSchema": true,
       "metadata": {},
       "overflow": false,
       "plotOptions": {
        "customPlotOptions": {},
        "displayType": "table",
        "pivotAggregation": null,
        "pivotColumns": null,
        "xColumns": null,
        "yColumns": null
       },
       "removedWidgets": [],
       "schema": [
        {
         "metadata": "{}",
         "name": "match_id",
         "type": "\"integer\""
        },
        {
         "metadata": "{\"__CHAR_VARCHAR_TYPE_STRING\":\"varchar(50)\"}",
         "name": "match_fixtures",
         "type": "\"string\""
        },
        {
         "metadata": "{\"__CHAR_VARCHAR_TYPE_STRING\":\"varchar(1)\"}",
         "name": "group_name",
         "type": "\"string\""
        },
        {
         "metadata": "{\"__CHAR_VARCHAR_TYPE_STRING\":\"varchar(20)\"}",
         "name": "home_team",
         "type": "\"string\""
        },
        {
         "metadata": "{\"__CHAR_VARCHAR_TYPE_STRING\":\"varchar(20)\"}",
         "name": "away_team",
         "type": "\"string\""
        },
        {
         "metadata": "{}",
         "name": "home_team_goals",
         "type": "\"integer\""
        },
        {
         "metadata": "{}",
         "name": "away_team_goals",
         "type": "\"integer\""
        },
        {
         "metadata": "{\"__CHAR_VARCHAR_TYPE_STRING\":\"varchar(20)\"}",
         "name": "match_results",
         "type": "\"string\""
        },
        {
         "metadata": "{\"__CHAR_VARCHAR_TYPE_STRING\":\"varchar(20)\"}",
         "name": "match_stage",
         "type": "\"string\""
        }
       ],
       "type": "table"
      }
     },
     "output_type": "display_data"
    }
   ],
   "source": [
    "%sql\n",
    "SELECT * FROM matches WHERE match_stage = 'Semi-Final' ORDER BY match_id;"
   ]
  },
  {
   "cell_type": "code",
   "execution_count": 0,
   "metadata": {
    "application/vnd.databricks.v1+cell": {
     "cellMetadata": {
      "byteLimit": 2048000,
      "implicitDf": true,
      "rowLimit": 10000
     },
     "inputWidgets": {},
     "nuid": "09df5420-dd31-4227-a5f7-74eee2e7dcb7",
     "showTitle": false,
     "title": ""
    }
   },
   "outputs": [
    {
     "output_type": "display_data",
     "data": {
      "text/html": [
       "<style scoped>\n",
       "  .table-result-container {\n",
       "    max-height: 300px;\n",
       "    overflow: auto;\n",
       "  }\n",
       "  table, th, td {\n",
       "    border: 1px solid black;\n",
       "    border-collapse: collapse;\n",
       "  }\n",
       "  th, td {\n",
       "    padding: 5px;\n",
       "  }\n",
       "  th {\n",
       "    text-align: left;\n",
       "  }\n",
       "</style><div class='table-result-container'><table class='table-result'><thead style='background-color: white'><tr><th>match_id</th><th>match_fixtures</th><th>group_name</th><th>home_team</th><th>away_team</th><th>home_team_goals</th><th>away_team_goals</th><th>match_results</th><th>match_stage</th></tr></thead><tbody><tr><td>51</td><td>Austria Vs. Serbia</td><td>N</td><td>Austria</td><td>Serbia</td><td>3</td><td>0</td><td>Austria</td><td>Third-Place</td></tr></tbody></table></div>"
      ]
     },
     "metadata": {
      "application/vnd.databricks.v1+output": {
       "addedWidgets": {},
       "aggData": [],
       "aggError": "",
       "aggOverflow": false,
       "aggSchema": [],
       "aggSeriesLimitReached": false,
       "aggType": "",
       "arguments": {},
       "columnCustomDisplayInfos": {},
       "data": [
        [
         51,
         "Austria Vs. Serbia",
         "N",
         "Austria",
         "Serbia",
         3,
         0,
         "Austria",
         "Third-Place"
        ]
       ],
       "datasetInfos": [],
       "dbfsResultPath": null,
       "isJsonSchema": true,
       "metadata": {},
       "overflow": false,
       "plotOptions": {
        "customPlotOptions": {},
        "displayType": "table",
        "pivotAggregation": null,
        "pivotColumns": null,
        "xColumns": null,
        "yColumns": null
       },
       "removedWidgets": [],
       "schema": [
        {
         "metadata": "{}",
         "name": "match_id",
         "type": "\"integer\""
        },
        {
         "metadata": "{\"__CHAR_VARCHAR_TYPE_STRING\":\"varchar(50)\"}",
         "name": "match_fixtures",
         "type": "\"string\""
        },
        {
         "metadata": "{\"__CHAR_VARCHAR_TYPE_STRING\":\"varchar(1)\"}",
         "name": "group_name",
         "type": "\"string\""
        },
        {
         "metadata": "{\"__CHAR_VARCHAR_TYPE_STRING\":\"varchar(20)\"}",
         "name": "home_team",
         "type": "\"string\""
        },
        {
         "metadata": "{\"__CHAR_VARCHAR_TYPE_STRING\":\"varchar(20)\"}",
         "name": "away_team",
         "type": "\"string\""
        },
        {
         "metadata": "{}",
         "name": "home_team_goals",
         "type": "\"integer\""
        },
        {
         "metadata": "{}",
         "name": "away_team_goals",
         "type": "\"integer\""
        },
        {
         "metadata": "{\"__CHAR_VARCHAR_TYPE_STRING\":\"varchar(20)\"}",
         "name": "match_results",
         "type": "\"string\""
        },
        {
         "metadata": "{\"__CHAR_VARCHAR_TYPE_STRING\":\"varchar(20)\"}",
         "name": "match_stage",
         "type": "\"string\""
        }
       ],
       "type": "table"
      }
     },
     "output_type": "display_data"
    }
   ],
   "source": [
    "%sql\n",
    "SELECT * FROM matches where match_stage = 'Third-Place' ORDER BY match_id;"
   ]
  },
  {
   "cell_type": "code",
   "execution_count": 0,
   "metadata": {
    "application/vnd.databricks.v1+cell": {
     "cellMetadata": {
      "byteLimit": 2048000,
      "implicitDf": true,
      "rowLimit": 10000
     },
     "inputWidgets": {},
     "nuid": "647db820-25dc-403d-a654-717e31aa770c",
     "showTitle": false,
     "title": ""
    }
   },
   "outputs": [
    {
     "output_type": "display_data",
     "data": {
      "text/html": [
       "<style scoped>\n",
       "  .table-result-container {\n",
       "    max-height: 300px;\n",
       "    overflow: auto;\n",
       "  }\n",
       "  table, th, td {\n",
       "    border: 1px solid black;\n",
       "    border-collapse: collapse;\n",
       "  }\n",
       "  th, td {\n",
       "    padding: 5px;\n",
       "  }\n",
       "  th {\n",
       "    text-align: left;\n",
       "  }\n",
       "</style><div class='table-result-container'><table class='table-result'><thead style='background-color: white'><tr><th>match_id</th><th>match_fixtures</th><th>group_name</th><th>home_team</th><th>away_team</th><th>home_team_goals</th><th>away_team_goals</th><th>match_results</th><th>match_stage</th></tr></thead><tbody><tr><td>53</td><td>Play-off Winner B Vs. Scotland</td><td>N</td><td>Play-off Winner B</td><td>Scotland</td><td>0</td><td>1</td><td>Scotland</td><td>Final</td></tr></tbody></table></div>"
      ]
     },
     "metadata": {
      "application/vnd.databricks.v1+output": {
       "addedWidgets": {},
       "aggData": [],
       "aggError": "",
       "aggOverflow": false,
       "aggSchema": [],
       "aggSeriesLimitReached": false,
       "aggType": "",
       "arguments": {},
       "columnCustomDisplayInfos": {},
       "data": [
        [
         53,
         "Play-off Winner B Vs. Scotland",
         "N",
         "Play-off Winner B",
         "Scotland",
         0,
         1,
         "Scotland",
         "Final"
        ]
       ],
       "datasetInfos": [],
       "dbfsResultPath": null,
       "isJsonSchema": true,
       "metadata": {},
       "overflow": false,
       "plotOptions": {
        "customPlotOptions": {},
        "displayType": "table",
        "pivotAggregation": null,
        "pivotColumns": null,
        "xColumns": null,
        "yColumns": null
       },
       "removedWidgets": [],
       "schema": [
        {
         "metadata": "{}",
         "name": "match_id",
         "type": "\"integer\""
        },
        {
         "metadata": "{\"__CHAR_VARCHAR_TYPE_STRING\":\"varchar(50)\"}",
         "name": "match_fixtures",
         "type": "\"string\""
        },
        {
         "metadata": "{\"__CHAR_VARCHAR_TYPE_STRING\":\"varchar(1)\"}",
         "name": "group_name",
         "type": "\"string\""
        },
        {
         "metadata": "{\"__CHAR_VARCHAR_TYPE_STRING\":\"varchar(20)\"}",
         "name": "home_team",
         "type": "\"string\""
        },
        {
         "metadata": "{\"__CHAR_VARCHAR_TYPE_STRING\":\"varchar(20)\"}",
         "name": "away_team",
         "type": "\"string\""
        },
        {
         "metadata": "{}",
         "name": "home_team_goals",
         "type": "\"integer\""
        },
        {
         "metadata": "{}",
         "name": "away_team_goals",
         "type": "\"integer\""
        },
        {
         "metadata": "{\"__CHAR_VARCHAR_TYPE_STRING\":\"varchar(20)\"}",
         "name": "match_results",
         "type": "\"string\""
        },
        {
         "metadata": "{\"__CHAR_VARCHAR_TYPE_STRING\":\"varchar(20)\"}",
         "name": "match_stage",
         "type": "\"string\""
        }
       ],
       "type": "table"
      }
     },
     "output_type": "display_data"
    }
   ],
   "source": [
    "%sql\n",
    "SELECT * FROM matches where match_stage = 'Final' ORDER BY match_id;"
   ]
  },
  {
   "cell_type": "markdown",
   "metadata": {
    "application/vnd.databricks.v1+cell": {
     "cellMetadata": {
      "byteLimit": 2048000,
      "rowLimit": 10000
     },
     "inputWidgets": {},
     "nuid": "3b89317e-a87e-4991-8d2d-4db86f96007c",
     "showTitle": false,
     "title": ""
    }
   },
   "source": [
    "Tie-Sheet Visualization"
   ]
  },
  {
   "cell_type": "code",
   "execution_count": 0,
   "metadata": {
    "application/vnd.databricks.v1+cell": {
     "cellMetadata": {
      "byteLimit": 2048000,
      "rowLimit": 10000
     },
     "inputWidgets": {},
     "nuid": "19ebef6d-0e7e-4ade-b053-a02bed3add23",
     "showTitle": false,
     "title": ""
    }
   },
   "outputs": [],
   "source": [
    "#import libraries\n",
    "import pandas as pd\n",
    "from pyspark.sql import SparkSession"
   ]
  },
  {
   "cell_type": "code",
   "execution_count": 0,
   "metadata": {
    "application/vnd.databricks.v1+cell": {
     "cellMetadata": {
      "byteLimit": 2048000,
      "rowLimit": 10000
     },
     "inputWidgets": {},
     "nuid": "1ecd1340-d624-4051-9403-49b1468088d7",
     "showTitle": false,
     "title": ""
    }
   },
   "outputs": [],
   "source": [
    "#Spark Session\n",
    "spark = SparkSession.builder.appName(\"Visualization\").getOrCreate()"
   ]
  },
  {
   "cell_type": "markdown",
   "metadata": {
    "application/vnd.databricks.v1+cell": {
     "cellMetadata": {
      "byteLimit": 2048000,
      "rowLimit": 10000
     },
     "inputWidgets": {},
     "nuid": "faa972d7-cdc2-4362-b869-88805dd58a07",
     "showTitle": false,
     "title": ""
    }
   },
   "source": [
    "Group Stage Visualization\n",
    "\n",
    "-Loading the Dataset using Spark"
   ]
  },
  {
   "cell_type": "code",
   "execution_count": 0,
   "metadata": {
    "application/vnd.databricks.v1+cell": {
     "cellMetadata": {
      "byteLimit": 2048000,
      "rowLimit": 10000
     },
     "inputWidgets": {},
     "nuid": "24221c66-997e-4971-a3ad-c420dc381adf",
     "showTitle": false,
     "title": ""
    }
   },
   "outputs": [],
   "source": [
    "# Query from spark sql for different stages\n",
    "all_teams_stats = spark.sql(\"SELECT * from match_stats\")\n",
    "round_of_16 = spark.sql(\"\"\"\n",
    "                        SELECT \n",
    "    CASE WHEN match_id IN (39,37,41,42) THEN 'left' ELSE 'right' END AS side,\n",
    "    match_id,\n",
    "    home_team, \n",
    "    away_team, \n",
    "    home_team_goals, \n",
    "    away_team_goals \n",
    "FROM \n",
    "    matches \n",
    "WHERE \n",
    "    match_id IN (39,37,41,42,43,44,40,38) \n",
    "    AND match_stage = 'R16' \n",
    "ORDER BY \n",
    "    CASE \n",
    "        WHEN match_id = 39 THEN 1\n",
    "        WHEN match_id = 37 THEN 2\n",
    "        WHEN match_id = 41 THEN 3\n",
    "        WHEN match_id = 42 THEN 4\n",
    "        WHEN match_id = 43 THEN 5\n",
    "        WHEN match_id = 44 THEN 6\n",
    "        WHEN match_id = 40 THEN 7\n",
    "        WHEN match_id = 38 THEN 8\n",
    "    END;\n",
    "\n",
    "                        \"\"\")\n",
    "quarter_final = spark.sql(\"SELECT home_team, away_team, home_team_goals, away_team_goals FROM matches WHERE match_stage = 'Quarter-Final' ORDER BY match_id\")\n",
    "semi_final = spark.sql(\"SELECT home_team, away_team, home_team_goals, away_team_goals FROM matches WHERE match_stage = 'Semi-Final' ORDER BY match_id DESC\")\n",
    "final = spark.sql(\"SELECT home_team, away_team, home_team_goals, away_team_goals FROM matches WHERE match_stage = 'Final' ORDER BY match_id\")\n",
    "third_place = spark.sql(\"SELECT match_id FROM matches WHERE match_stage = 'Third-Place' ORDER BY match_id\")\n"
   ]
  },
  {
   "cell_type": "markdown",
   "metadata": {
    "application/vnd.databricks.v1+cell": {
     "cellMetadata": {
      "byteLimit": 2048000,
      "rowLimit": 10000
     },
     "inputWidgets": {},
     "nuid": "9dabaa52-7718-4f71-ad76-19cc391e1d3e",
     "showTitle": false,
     "title": ""
    }
   },
   "source": [
    "Converting Spark dataframe to Pandas Dataframe"
   ]
  },
  {
   "cell_type": "code",
   "execution_count": 0,
   "metadata": {
    "application/vnd.databricks.v1+cell": {
     "cellMetadata": {
      "byteLimit": 2048000,
      "rowLimit": 10000
     },
     "inputWidgets": {},
     "nuid": "3b14a7a2-e94d-4cb6-a707-f8c2a09b0050",
     "showTitle": false,
     "title": ""
    }
   },
   "outputs": [],
   "source": [
    "all_teams_stats_df = all_teams_stats.toPandas()\n",
    "round_of_16_df = round_of_16.toPandas()\n",
    "quarter_final_df = quarter_final.toPandas()\n",
    "semi_final_df = semi_final.toPandas()\n",
    "final_df = final.toPandas()\n",
    "third_place_df = third_place.toPandas()"
   ]
  },
  {
   "cell_type": "code",
   "execution_count": 0,
   "metadata": {
    "application/vnd.databricks.v1+cell": {
     "cellMetadata": {
      "byteLimit": 2048000,
      "rowLimit": 10000
     },
     "inputWidgets": {},
     "nuid": "49e7c172-db07-4b92-92de-a63f0cf8d31b",
     "showTitle": false,
     "title": ""
    }
   },
   "outputs": [
    {
     "output_type": "display_data",
     "data": {
      "text/html": [
       "<style scoped>\n",
       "  .table-result-container {\n",
       "    max-height: 300px;\n",
       "    overflow: auto;\n",
       "  }\n",
       "  table, th, td {\n",
       "    border: 1px solid black;\n",
       "    border-collapse: collapse;\n",
       "  }\n",
       "  th, td {\n",
       "    padding: 5px;\n",
       "  }\n",
       "  th {\n",
       "    text-align: left;\n",
       "  }\n",
       "</style><div class='table-result-container'><table class='table-result'><thead style='background-color: white'><tr><th>Teams</th><th>Group</th><th>Pld</th><th>W</th><th>D</th><th>L</th><th>GF</th><th>GA</th><th>GD</th><th>Pts</th></tr></thead><tbody><tr><td>Germany</td><td>A</td><td>3</td><td>0</td><td>1</td><td>2</td><td>4</td><td>9</td><td>-5</td><td>1</td></tr><tr><td>Scotland</td><td>A</td><td>3</td><td>1</td><td>1</td><td>1</td><td>10</td><td>7</td><td>3</td><td>4</td></tr><tr><td>Hungary</td><td>A</td><td>3</td><td>1</td><td>2</td><td>0</td><td>7</td><td>6</td><td>1</td><td>5</td></tr><tr><td>Switzerland</td><td>A</td><td>3</td><td>1</td><td>2</td><td>0</td><td>3</td><td>2</td><td>1</td><td>5</td></tr><tr><td></td><td></td><td></td><td></td><td></td><td></td><td></td><td></td><td></td><td></td></tr><tr><td>Italy</td><td>B</td><td>3</td><td>1</td><td>0</td><td>2</td><td>5</td><td>9</td><td>-4</td><td>3</td></tr><tr><td>Croatia</td><td>B</td><td>3</td><td>1</td><td>1</td><td>1</td><td>11</td><td>11</td><td>0</td><td>4</td></tr><tr><td>Spain</td><td>B</td><td>3</td><td>1</td><td>1</td><td>1</td><td>10</td><td>9</td><td>1</td><td>4</td></tr><tr><td>Albania</td><td>B</td><td>3</td><td>2</td><td>0</td><td>1</td><td>8</td><td>5</td><td>3</td><td>6</td></tr><tr><td></td><td></td><td></td><td></td><td></td><td></td><td></td><td></td><td></td><td></td></tr><tr><td>Serbia</td><td>C</td><td>3</td><td>2</td><td>1</td><td>0</td><td>10</td><td>3</td><td>7</td><td>7</td></tr><tr><td>Denmark</td><td>C</td><td>3</td><td>0</td><td>0</td><td>3</td><td>3</td><td>12</td><td>-9</td><td>0</td></tr><tr><td>Slovenia</td><td>C</td><td>3</td><td>1</td><td>1</td><td>1</td><td>11</td><td>7</td><td>4</td><td>4</td></tr><tr><td>England</td><td>C</td><td>3</td><td>2</td><td>0</td><td>1</td><td>10</td><td>12</td><td>-2</td><td>6</td></tr><tr><td></td><td></td><td></td><td></td><td></td><td></td><td></td><td></td><td></td><td></td></tr><tr><td>France</td><td>D</td><td>3</td><td>2</td><td>1</td><td>0</td><td>14</td><td>7</td><td>7</td><td>7</td></tr><tr><td>Austria</td><td>D</td><td>3</td><td>2</td><td>0</td><td>1</td><td>8</td><td>8</td><td>0</td><td>6</td></tr><tr><td>Netherlands</td><td>D</td><td>3</td><td>0</td><td>2</td><td>1</td><td>11</td><td>12</td><td>-1</td><td>2</td></tr><tr><td>Play-off Winner A</td><td>D</td><td>3</td><td>0</td><td>1</td><td>2</td><td>3</td><td>9</td><td>-6</td><td>1</td></tr><tr><td></td><td></td><td></td><td></td><td></td><td></td><td></td><td></td><td></td><td></td></tr><tr><td>Slovakia</td><td>E</td><td>3</td><td>0</td><td>1</td><td>2</td><td>4</td><td>9</td><td>-5</td><td>1</td></tr><tr><td>Belgium</td><td>E</td><td>3</td><td>1</td><td>1</td><td>1</td><td>3</td><td>3</td><td>0</td><td>4</td></tr><tr><td>Romania</td><td>E</td><td>3</td><td>2</td><td>0</td><td>1</td><td>8</td><td>8</td><td>0</td><td>6</td></tr><tr><td>Play-off Winner B</td><td>E</td><td>3</td><td>2</td><td>0</td><td>1</td><td>10</td><td>5</td><td>5</td><td>6</td></tr><tr><td></td><td></td><td></td><td></td><td></td><td></td><td></td><td></td><td></td><td></td></tr><tr><td>Play-off Winner C</td><td>F</td><td>3</td><td>0</td><td>0</td><td>3</td><td>3</td><td>9</td><td>-6</td><td>0</td></tr><tr><td>Portugal</td><td>F</td><td>3</td><td>2</td><td>0</td><td>1</td><td>10</td><td>4</td><td>6</td><td>6</td></tr><tr><td>Turkey</td><td>F</td><td>3</td><td>1</td><td>0</td><td>2</td><td>5</td><td>8</td><td>-3</td><td>3</td></tr><tr><td>Czech Republic</td><td>F</td><td>3</td><td>3</td><td>0</td><td>0</td><td>6</td><td>3</td><td>3</td><td>9</td></tr></tbody></table></div>"
      ]
     },
     "metadata": {
      "application/vnd.databricks.v1+output": {
       "addedWidgets": {},
       "aggData": [],
       "aggError": "",
       "aggOverflow": false,
       "aggSchema": [],
       "aggSeriesLimitReached": false,
       "aggType": "",
       "arguments": {},
       "columnCustomDisplayInfos": {},
       "data": [
        [
         "Germany",
         "A",
         "3",
         "0",
         "1",
         "2",
         "4",
         "9",
         "-5",
         "1"
        ],
        [
         "Scotland",
         "A",
         "3",
         "1",
         "1",
         "1",
         "10",
         "7",
         "3",
         "4"
        ],
        [
         "Hungary",
         "A",
         "3",
         "1",
         "2",
         "0",
         "7",
         "6",
         "1",
         "5"
        ],
        [
         "Switzerland",
         "A",
         "3",
         "1",
         "2",
         "0",
         "3",
         "2",
         "1",
         "5"
        ],
        [
         "",
         "",
         "",
         "",
         "",
         "",
         "",
         "",
         "",
         ""
        ],
        [
         "Italy",
         "B",
         "3",
         "1",
         "0",
         "2",
         "5",
         "9",
         "-4",
         "3"
        ],
        [
         "Croatia",
         "B",
         "3",
         "1",
         "1",
         "1",
         "11",
         "11",
         "0",
         "4"
        ],
        [
         "Spain",
         "B",
         "3",
         "1",
         "1",
         "1",
         "10",
         "9",
         "1",
         "4"
        ],
        [
         "Albania",
         "B",
         "3",
         "2",
         "0",
         "1",
         "8",
         "5",
         "3",
         "6"
        ],
        [
         "",
         "",
         "",
         "",
         "",
         "",
         "",
         "",
         "",
         ""
        ],
        [
         "Serbia",
         "C",
         "3",
         "2",
         "1",
         "0",
         "10",
         "3",
         "7",
         "7"
        ],
        [
         "Denmark",
         "C",
         "3",
         "0",
         "0",
         "3",
         "3",
         "12",
         "-9",
         "0"
        ],
        [
         "Slovenia",
         "C",
         "3",
         "1",
         "1",
         "1",
         "11",
         "7",
         "4",
         "4"
        ],
        [
         "England",
         "C",
         "3",
         "2",
         "0",
         "1",
         "10",
         "12",
         "-2",
         "6"
        ],
        [
         "",
         "",
         "",
         "",
         "",
         "",
         "",
         "",
         "",
         ""
        ],
        [
         "France",
         "D",
         "3",
         "2",
         "1",
         "0",
         "14",
         "7",
         "7",
         "7"
        ],
        [
         "Austria",
         "D",
         "3",
         "2",
         "0",
         "1",
         "8",
         "8",
         "0",
         "6"
        ],
        [
         "Netherlands",
         "D",
         "3",
         "0",
         "2",
         "1",
         "11",
         "12",
         "-1",
         "2"
        ],
        [
         "Play-off Winner A",
         "D",
         "3",
         "0",
         "1",
         "2",
         "3",
         "9",
         "-6",
         "1"
        ],
        [
         "",
         "",
         "",
         "",
         "",
         "",
         "",
         "",
         "",
         ""
        ],
        [
         "Slovakia",
         "E",
         "3",
         "0",
         "1",
         "2",
         "4",
         "9",
         "-5",
         "1"
        ],
        [
         "Belgium",
         "E",
         "3",
         "1",
         "1",
         "1",
         "3",
         "3",
         "0",
         "4"
        ],
        [
         "Romania",
         "E",
         "3",
         "2",
         "0",
         "1",
         "8",
         "8",
         "0",
         "6"
        ],
        [
         "Play-off Winner B",
         "E",
         "3",
         "2",
         "0",
         "1",
         "10",
         "5",
         "5",
         "6"
        ],
        [
         "",
         "",
         "",
         "",
         "",
         "",
         "",
         "",
         "",
         ""
        ],
        [
         "Play-off Winner C",
         "F",
         "3",
         "0",
         "0",
         "3",
         "3",
         "9",
         "-6",
         "0"
        ],
        [
         "Portugal",
         "F",
         "3",
         "2",
         "0",
         "1",
         "10",
         "4",
         "6",
         "6"
        ],
        [
         "Turkey",
         "F",
         "3",
         "1",
         "0",
         "2",
         "5",
         "8",
         "-3",
         "3"
        ],
        [
         "Czech Republic",
         "F",
         "3",
         "3",
         "0",
         "0",
         "6",
         "3",
         "3",
         "9"
        ]
       ],
       "datasetInfos": [],
       "dbfsResultPath": null,
       "isJsonSchema": true,
       "metadata": {},
       "overflow": false,
       "plotOptions": {
        "customPlotOptions": {},
        "displayType": "table",
        "pivotAggregation": null,
        "pivotColumns": null,
        "xColumns": null,
        "yColumns": null
       },
       "removedWidgets": [],
       "schema": [
        {
         "metadata": "{}",
         "name": "Teams",
         "type": "\"string\""
        },
        {
         "metadata": "{}",
         "name": "Group",
         "type": "\"string\""
        },
        {
         "metadata": "{}",
         "name": "Pld",
         "type": "\"string\""
        },
        {
         "metadata": "{}",
         "name": "W",
         "type": "\"string\""
        },
        {
         "metadata": "{}",
         "name": "D",
         "type": "\"string\""
        },
        {
         "metadata": "{}",
         "name": "L",
         "type": "\"string\""
        },
        {
         "metadata": "{}",
         "name": "GF",
         "type": "\"string\""
        },
        {
         "metadata": "{}",
         "name": "GA",
         "type": "\"string\""
        },
        {
         "metadata": "{}",
         "name": "GD",
         "type": "\"string\""
        },
        {
         "metadata": "{}",
         "name": "Pts",
         "type": "\"string\""
        }
       ],
       "type": "table"
      }
     },
     "output_type": "display_data"
    },
    {
     "output_type": "stream",
     "name": "stdout",
     "output_type": "stream",
     "text": [
      "14\n"
     ]
    }
   ],
   "source": [
    "# Create table visualization DataFrame\n",
    "table_visualization = pd.DataFrame({\n",
    "    'Teams': all_teams_stats_df['team_id'],\n",
    "    'Group': all_teams_stats_df['group_name'],\n",
    "    'Pld': all_teams_stats_df['matches_played'],\n",
    "    'W': all_teams_stats_df['wins'],\n",
    "    'D': all_teams_stats_df['draw'],\n",
    "    'L': all_teams_stats_df['lose'],\n",
    "    'GF': all_teams_stats_df['goals_scored'],\n",
    "    'GA': all_teams_stats_df['goals_allowed'],\n",
    "    'GD': all_teams_stats_df['goal_diff'],\n",
    "    'Pts': all_teams_stats_df['points']\n",
    "})\n",
    "\n",
    "# Create blank row as a dictionary to add one blank row for each group\n",
    "blank_row = {\n",
    "    'Teams': '', \n",
    "    'Group': '', \n",
    "    'Pld': '', \n",
    "    'W': '',\n",
    "    'D': '',\n",
    "    'L': '',\n",
    "    'GF': '',\n",
    "    'GA': '',\n",
    "    'GD': '',\n",
    "    'Pts': ''\n",
    "}\n",
    "\n",
    "groups = []\n",
    "for i in range(0, len(table_visualization), 4):\n",
    "    group = table_visualization.iloc[i:i+4]  \n",
    "    groups.append(group) \n",
    "    if i < len(table_visualization) - 4:\n",
    "        groups.append(pd.DataFrame([blank_row])) \n",
    "\n",
    "visualization_with_space = pd.concat(groups).reset_index(drop=True)\n",
    "half_table_index = len(visualization_with_space) // 2\n",
    "spark.conf.set(\"spark.sql.execution.arrow.pyspark.enabled\", \"false\")\n",
    "display(visualization_with_space)\n",
    "print(half_table_index)\n"
   ]
  },
  {
   "cell_type": "code",
   "execution_count": 0,
   "metadata": {
    "application/vnd.databricks.v1+cell": {
     "cellMetadata": {
      "byteLimit": 2048000,
      "rowLimit": 10000
     },
     "inputWidgets": {},
     "nuid": "8a9ae514-4e8e-4648-a583-929d8c99bac4",
     "showTitle": false,
     "title": ""
    }
   },
   "outputs": [
    {
     "output_type": "display_data",
     "data": {
      "text/html": [
       "<style scoped>\n",
       "  .table-result-container {\n",
       "    max-height: 300px;\n",
       "    overflow: auto;\n",
       "  }\n",
       "  table, th, td {\n",
       "    border: 1px solid black;\n",
       "    border-collapse: collapse;\n",
       "  }\n",
       "  th, td {\n",
       "    padding: 5px;\n",
       "  }\n",
       "  th {\n",
       "    text-align: left;\n",
       "  }\n",
       "</style><div class='table-result-container'><table class='table-result'><thead style='background-color: white'><tr><th>Teams</th><th>Group</th><th>Pld</th><th>W</th><th>D</th><th>L</th><th>GF</th><th>GA</th><th>GD</th><th>Pts</th></tr></thead><tbody><tr><td></td><td></td><td></td><td></td><td></td><td></td><td></td><td></td><td></td><td></td></tr><tr><td>Germany</td><td>A</td><td>3</td><td>0</td><td>1</td><td>2</td><td>4</td><td>9</td><td>-5</td><td>1</td></tr><tr><td>Scotland</td><td>A</td><td>3</td><td>1</td><td>1</td><td>1</td><td>10</td><td>7</td><td>3</td><td>4</td></tr><tr><td>Hungary</td><td>A</td><td>3</td><td>1</td><td>2</td><td>0</td><td>7</td><td>6</td><td>1</td><td>5</td></tr><tr><td>Switzerland</td><td>A</td><td>3</td><td>1</td><td>2</td><td>0</td><td>3</td><td>2</td><td>1</td><td>5</td></tr><tr><td></td><td></td><td></td><td></td><td></td><td></td><td></td><td></td><td></td><td></td></tr><tr><td>Italy</td><td>B</td><td>3</td><td>1</td><td>0</td><td>2</td><td>5</td><td>9</td><td>-4</td><td>3</td></tr><tr><td>Croatia</td><td>B</td><td>3</td><td>1</td><td>1</td><td>1</td><td>11</td><td>11</td><td>0</td><td>4</td></tr><tr><td>Spain</td><td>B</td><td>3</td><td>1</td><td>1</td><td>1</td><td>10</td><td>9</td><td>1</td><td>4</td></tr><tr><td>Albania</td><td>B</td><td>3</td><td>2</td><td>0</td><td>1</td><td>8</td><td>5</td><td>3</td><td>6</td></tr><tr><td></td><td></td><td></td><td></td><td></td><td></td><td></td><td></td><td></td><td></td></tr><tr><td>Serbia</td><td>C</td><td>3</td><td>2</td><td>1</td><td>0</td><td>10</td><td>3</td><td>7</td><td>7</td></tr><tr><td>Denmark</td><td>C</td><td>3</td><td>0</td><td>0</td><td>3</td><td>3</td><td>12</td><td>-9</td><td>0</td></tr><tr><td>Slovenia</td><td>C</td><td>3</td><td>1</td><td>1</td><td>1</td><td>11</td><td>7</td><td>4</td><td>4</td></tr><tr><td>England</td><td>C</td><td>3</td><td>2</td><td>0</td><td>1</td><td>10</td><td>12</td><td>-2</td><td>6</td></tr></tbody></table></div>"
      ]
     },
     "metadata": {
      "application/vnd.databricks.v1+output": {
       "addedWidgets": {},
       "aggData": [],
       "aggError": "",
       "aggOverflow": false,
       "aggSchema": [],
       "aggSeriesLimitReached": false,
       "aggType": "",
       "arguments": {},
       "columnCustomDisplayInfos": {},
       "data": [
        [
         "",
         "",
         "",
         "",
         "",
         "",
         "",
         "",
         "",
         ""
        ],
        [
         "Germany",
         "A",
         "3",
         "0",
         "1",
         "2",
         "4",
         "9",
         "-5",
         "1"
        ],
        [
         "Scotland",
         "A",
         "3",
         "1",
         "1",
         "1",
         "10",
         "7",
         "3",
         "4"
        ],
        [
         "Hungary",
         "A",
         "3",
         "1",
         "2",
         "0",
         "7",
         "6",
         "1",
         "5"
        ],
        [
         "Switzerland",
         "A",
         "3",
         "1",
         "2",
         "0",
         "3",
         "2",
         "1",
         "5"
        ],
        [
         "",
         "",
         "",
         "",
         "",
         "",
         "",
         "",
         "",
         ""
        ],
        [
         "Italy",
         "B",
         "3",
         "1",
         "0",
         "2",
         "5",
         "9",
         "-4",
         "3"
        ],
        [
         "Croatia",
         "B",
         "3",
         "1",
         "1",
         "1",
         "11",
         "11",
         "0",
         "4"
        ],
        [
         "Spain",
         "B",
         "3",
         "1",
         "1",
         "1",
         "10",
         "9",
         "1",
         "4"
        ],
        [
         "Albania",
         "B",
         "3",
         "2",
         "0",
         "1",
         "8",
         "5",
         "3",
         "6"
        ],
        [
         "",
         "",
         "",
         "",
         "",
         "",
         "",
         "",
         "",
         ""
        ],
        [
         "Serbia",
         "C",
         "3",
         "2",
         "1",
         "0",
         "10",
         "3",
         "7",
         "7"
        ],
        [
         "Denmark",
         "C",
         "3",
         "0",
         "0",
         "3",
         "3",
         "12",
         "-9",
         "0"
        ],
        [
         "Slovenia",
         "C",
         "3",
         "1",
         "1",
         "1",
         "11",
         "7",
         "4",
         "4"
        ],
        [
         "England",
         "C",
         "3",
         "2",
         "0",
         "1",
         "10",
         "12",
         "-2",
         "6"
        ]
       ],
       "datasetInfos": [],
       "dbfsResultPath": null,
       "isJsonSchema": true,
       "metadata": {},
       "overflow": false,
       "plotOptions": {
        "customPlotOptions": {},
        "displayType": "table",
        "pivotAggregation": null,
        "pivotColumns": null,
        "xColumns": null,
        "yColumns": null
       },
       "removedWidgets": [],
       "schema": [
        {
         "metadata": "{}",
         "name": "Teams",
         "type": "\"string\""
        },
        {
         "metadata": "{}",
         "name": "Group",
         "type": "\"string\""
        },
        {
         "metadata": "{}",
         "name": "Pld",
         "type": "\"string\""
        },
        {
         "metadata": "{}",
         "name": "W",
         "type": "\"string\""
        },
        {
         "metadata": "{}",
         "name": "D",
         "type": "\"string\""
        },
        {
         "metadata": "{}",
         "name": "L",
         "type": "\"string\""
        },
        {
         "metadata": "{}",
         "name": "GF",
         "type": "\"string\""
        },
        {
         "metadata": "{}",
         "name": "GA",
         "type": "\"string\""
        },
        {
         "metadata": "{}",
         "name": "GD",
         "type": "\"string\""
        },
        {
         "metadata": "{}",
         "name": "Pts",
         "type": "\"string\""
        }
       ],
       "type": "table"
      }
     },
     "output_type": "display_data"
    },
    {
     "output_type": "display_data",
     "data": {
      "text/html": [
       "<style scoped>\n",
       "  .table-result-container {\n",
       "    max-height: 300px;\n",
       "    overflow: auto;\n",
       "  }\n",
       "  table, th, td {\n",
       "    border: 1px solid black;\n",
       "    border-collapse: collapse;\n",
       "  }\n",
       "  th, td {\n",
       "    padding: 5px;\n",
       "  }\n",
       "  th {\n",
       "    text-align: left;\n",
       "  }\n",
       "</style><div class='table-result-container'><table class='table-result'><thead style='background-color: white'><tr><th>Teams</th><th>Group</th><th>Pld</th><th>W</th><th>D</th><th>L</th><th>GF</th><th>GA</th><th>GD</th><th>Pts</th></tr></thead><tbody><tr><td></td><td></td><td></td><td></td><td></td><td></td><td></td><td></td><td></td><td></td></tr><tr><td>France</td><td>D</td><td>3</td><td>2</td><td>1</td><td>0</td><td>14</td><td>7</td><td>7</td><td>7</td></tr><tr><td>Austria</td><td>D</td><td>3</td><td>2</td><td>0</td><td>1</td><td>8</td><td>8</td><td>0</td><td>6</td></tr><tr><td>Netherlands</td><td>D</td><td>3</td><td>0</td><td>2</td><td>1</td><td>11</td><td>12</td><td>-1</td><td>2</td></tr><tr><td>Play-off Winner A</td><td>D</td><td>3</td><td>0</td><td>1</td><td>2</td><td>3</td><td>9</td><td>-6</td><td>1</td></tr><tr><td></td><td></td><td></td><td></td><td></td><td></td><td></td><td></td><td></td><td></td></tr><tr><td>Slovakia</td><td>E</td><td>3</td><td>0</td><td>1</td><td>2</td><td>4</td><td>9</td><td>-5</td><td>1</td></tr><tr><td>Belgium</td><td>E</td><td>3</td><td>1</td><td>1</td><td>1</td><td>3</td><td>3</td><td>0</td><td>4</td></tr><tr><td>Romania</td><td>E</td><td>3</td><td>2</td><td>0</td><td>1</td><td>8</td><td>8</td><td>0</td><td>6</td></tr><tr><td>Play-off Winner B</td><td>E</td><td>3</td><td>2</td><td>0</td><td>1</td><td>10</td><td>5</td><td>5</td><td>6</td></tr><tr><td></td><td></td><td></td><td></td><td></td><td></td><td></td><td></td><td></td><td></td></tr><tr><td>Play-off Winner C</td><td>F</td><td>3</td><td>0</td><td>0</td><td>3</td><td>3</td><td>9</td><td>-6</td><td>0</td></tr><tr><td>Portugal</td><td>F</td><td>3</td><td>2</td><td>0</td><td>1</td><td>10</td><td>4</td><td>6</td><td>6</td></tr><tr><td>Turkey</td><td>F</td><td>3</td><td>1</td><td>0</td><td>2</td><td>5</td><td>8</td><td>-3</td><td>3</td></tr><tr><td>Czech Republic</td><td>F</td><td>3</td><td>3</td><td>0</td><td>0</td><td>6</td><td>3</td><td>3</td><td>9</td></tr></tbody></table></div>"
      ]
     },
     "metadata": {
      "application/vnd.databricks.v1+output": {
       "addedWidgets": {},
       "aggData": [],
       "aggError": "",
       "aggOverflow": false,
       "aggSchema": [],
       "aggSeriesLimitReached": false,
       "aggType": "",
       "arguments": {},
       "columnCustomDisplayInfos": {},
       "data": [
        [
         "",
         "",
         "",
         "",
         "",
         "",
         "",
         "",
         "",
         ""
        ],
        [
         "France",
         "D",
         "3",
         "2",
         "1",
         "0",
         "14",
         "7",
         "7",
         "7"
        ],
        [
         "Austria",
         "D",
         "3",
         "2",
         "0",
         "1",
         "8",
         "8",
         "0",
         "6"
        ],
        [
         "Netherlands",
         "D",
         "3",
         "0",
         "2",
         "1",
         "11",
         "12",
         "-1",
         "2"
        ],
        [
         "Play-off Winner A",
         "D",
         "3",
         "0",
         "1",
         "2",
         "3",
         "9",
         "-6",
         "1"
        ],
        [
         "",
         "",
         "",
         "",
         "",
         "",
         "",
         "",
         "",
         ""
        ],
        [
         "Slovakia",
         "E",
         "3",
         "0",
         "1",
         "2",
         "4",
         "9",
         "-5",
         "1"
        ],
        [
         "Belgium",
         "E",
         "3",
         "1",
         "1",
         "1",
         "3",
         "3",
         "0",
         "4"
        ],
        [
         "Romania",
         "E",
         "3",
         "2",
         "0",
         "1",
         "8",
         "8",
         "0",
         "6"
        ],
        [
         "Play-off Winner B",
         "E",
         "3",
         "2",
         "0",
         "1",
         "10",
         "5",
         "5",
         "6"
        ],
        [
         "",
         "",
         "",
         "",
         "",
         "",
         "",
         "",
         "",
         ""
        ],
        [
         "Play-off Winner C",
         "F",
         "3",
         "0",
         "0",
         "3",
         "3",
         "9",
         "-6",
         "0"
        ],
        [
         "Portugal",
         "F",
         "3",
         "2",
         "0",
         "1",
         "10",
         "4",
         "6",
         "6"
        ],
        [
         "Turkey",
         "F",
         "3",
         "1",
         "0",
         "2",
         "5",
         "8",
         "-3",
         "3"
        ],
        [
         "Czech Republic",
         "F",
         "3",
         "3",
         "0",
         "0",
         "6",
         "3",
         "3",
         "9"
        ]
       ],
       "datasetInfos": [],
       "dbfsResultPath": null,
       "isJsonSchema": true,
       "metadata": {},
       "overflow": false,
       "plotOptions": {
        "customPlotOptions": {},
        "displayType": "table",
        "pivotAggregation": null,
        "pivotColumns": null,
        "xColumns": null,
        "yColumns": null
       },
       "removedWidgets": [],
       "schema": [
        {
         "metadata": "{}",
         "name": "Teams",
         "type": "\"string\""
        },
        {
         "metadata": "{}",
         "name": "Group",
         "type": "\"string\""
        },
        {
         "metadata": "{}",
         "name": "Pld",
         "type": "\"string\""
        },
        {
         "metadata": "{}",
         "name": "W",
         "type": "\"string\""
        },
        {
         "metadata": "{}",
         "name": "D",
         "type": "\"string\""
        },
        {
         "metadata": "{}",
         "name": "L",
         "type": "\"string\""
        },
        {
         "metadata": "{}",
         "name": "GF",
         "type": "\"string\""
        },
        {
         "metadata": "{}",
         "name": "GA",
         "type": "\"string\""
        },
        {
         "metadata": "{}",
         "name": "GD",
         "type": "\"string\""
        },
        {
         "metadata": "{}",
         "name": "Pts",
         "type": "\"string\""
        }
       ],
       "type": "table"
      }
     },
     "output_type": "display_data"
    }
   ],
   "source": [
    "#Table information for the Group A,B,C\n",
    "left_table = pd.DataFrame(columns=['Teams','Group','Pld','W','D','L','GF','GA','GD','Pts'])\n",
    "left_table = pd.concat([left_table, pd.DataFrame([blank_row])], ignore_index=True)\n",
    "left_table = pd.concat([left_table, visualization_with_space.iloc[:half_table_index]]).reset_index(drop=True)\n",
    "\n",
    "#Table information for the group C,D,E\n",
    "right_table = pd.DataFrame(columns=['Teams','Group','Pld','W','D','L','GF','GA','GD','Pts'])\n",
    "right_table = pd.concat([right_table, visualization_with_space.iloc[half_table_index +1:]]).reset_index(drop=True)\n",
    "right_table = pd.concat([pd.DataFrame([blank_row]), right_table], ignore_index=True)\n",
    "\n",
    "display(left_table)\n",
    "display(right_table)"
   ]
  },
  {
   "cell_type": "markdown",
   "metadata": {
    "application/vnd.databricks.v1+cell": {
     "cellMetadata": {
      "byteLimit": 2048000,
      "rowLimit": 10000
     },
     "inputWidgets": {},
     "nuid": "b6f77af0-f0a3-4bcd-b41e-a02e82d33c32",
     "showTitle": false,
     "title": ""
    }
   },
   "source": [
    "Splitting the Round of 16 tp Left and Right for Visualization"
   ]
  },
  {
   "cell_type": "code",
   "execution_count": 0,
   "metadata": {
    "application/vnd.databricks.v1+cell": {
     "cellMetadata": {
      "byteLimit": 2048000,
      "rowLimit": 10000
     },
     "inputWidgets": {},
     "nuid": "01994e7f-cf5e-44a4-aa40-416f2cfc3ca3",
     "showTitle": false,
     "title": ""
    }
   },
   "outputs": [
    {
     "output_type": "stream",
     "name": "stdout",
     "output_type": "stream",
     "text": [
      "17\n"
     ]
    },
    {
     "output_type": "display_data",
     "data": {
      "text/html": [
       "<style scoped>\n",
       "  .table-result-container {\n",
       "    max-height: 300px;\n",
       "    overflow: auto;\n",
       "  }\n",
       "  table, th, td {\n",
       "    border: 1px solid black;\n",
       "    border-collapse: collapse;\n",
       "  }\n",
       "  th, td {\n",
       "    padding: 5px;\n",
       "  }\n",
       "  th {\n",
       "    text-align: left;\n",
       "  }\n",
       "</style><div class='table-result-container'><table class='table-result'><thead style='background-color: white'><tr><th>Round_of_16</th><th>rest</th></tr></thead><tbody><tr><td></td><td></td></tr><tr><td></td><td></td></tr><tr><td>Albania (2)</td><td></td></tr><tr><td>Scotland (4)</td><td></td></tr><tr><td></td><td></td></tr><tr><td></td><td></td></tr><tr><td>Hungary (3)</td><td></td></tr><tr><td>England (1)</td><td></td></tr><tr><td></td><td></td></tr><tr><td></td><td></td></tr><tr><td>Czech Republic (5)</td><td></td></tr><tr><td>Slovenia (2)</td><td></td></tr><tr><td></td><td></td></tr><tr><td></td><td></td></tr><tr><td>Austria (0)</td><td></td></tr><tr><td>Romania (0)</td><td></td></tr><tr><td></td><td></td></tr><tr><td></td><td></td></tr><tr><td>Play-off Winner B (4)</td><td></td></tr><tr><td>Croatia (4)</td><td></td></tr><tr><td></td><td></td></tr><tr><td></td><td></td></tr><tr><td>Austria (3)</td><td></td></tr><tr><td>Portugal (2)</td><td></td></tr><tr><td></td><td></td></tr><tr><td></td><td></td></tr><tr><td>Serbia (0)</td><td></td></tr><tr><td>Netherlands (0)</td><td></td></tr><tr><td></td><td></td></tr><tr><td></td><td></td></tr><tr><td>Switzerland (5)</td><td></td></tr><tr><td>Spain (0)</td><td></td></tr><tr><td></td><td></td></tr><tr><td></td><td></td></tr></tbody></table></div>"
      ]
     },
     "metadata": {
      "application/vnd.databricks.v1+output": {
       "addedWidgets": {},
       "aggData": [],
       "aggError": "",
       "aggOverflow": false,
       "aggSchema": [],
       "aggSeriesLimitReached": false,
       "aggType": "",
       "arguments": {},
       "columnCustomDisplayInfos": {},
       "data": [
        [
         "",
         ""
        ],
        [
         "",
         ""
        ],
        [
         "Albania (2)",
         ""
        ],
        [
         "Scotland (4)",
         ""
        ],
        [
         "",
         ""
        ],
        [
         "",
         ""
        ],
        [
         "Hungary (3)",
         ""
        ],
        [
         "England (1)",
         ""
        ],
        [
         "",
         ""
        ],
        [
         "",
         ""
        ],
        [
         "Czech Republic (5)",
         ""
        ],
        [
         "Slovenia (2)",
         ""
        ],
        [
         "",
         ""
        ],
        [
         "",
         ""
        ],
        [
         "Austria (0)",
         ""
        ],
        [
         "Romania (0)",
         ""
        ],
        [
         "",
         ""
        ],
        [
         "",
         ""
        ],
        [
         "Play-off Winner B (4)",
         ""
        ],
        [
         "Croatia (4)",
         ""
        ],
        [
         "",
         ""
        ],
        [
         "",
         ""
        ],
        [
         "Austria (3)",
         ""
        ],
        [
         "Portugal (2)",
         ""
        ],
        [
         "",
         ""
        ],
        [
         "",
         ""
        ],
        [
         "Serbia (0)",
         ""
        ],
        [
         "Netherlands (0)",
         ""
        ],
        [
         "",
         ""
        ],
        [
         "",
         ""
        ],
        [
         "Switzerland (5)",
         ""
        ],
        [
         "Spain (0)",
         ""
        ],
        [
         "",
         ""
        ],
        [
         "",
         ""
        ]
       ],
       "datasetInfos": [],
       "dbfsResultPath": null,
       "isJsonSchema": true,
       "metadata": {},
       "overflow": false,
       "plotOptions": {
        "customPlotOptions": {},
        "displayType": "table",
        "pivotAggregation": null,
        "pivotColumns": null,
        "xColumns": null,
        "yColumns": null
       },
       "removedWidgets": [],
       "schema": [
        {
         "metadata": "{}",
         "name": "Round_of_16",
         "type": "\"string\""
        },
        {
         "metadata": "{}",
         "name": "rest",
         "type": "\"string\""
        }
       ],
       "type": "table"
      }
     },
     "output_type": "display_data"
    }
   ],
   "source": [
    "# Create an empty DataFrame for round of sixteen\n",
    "visualize_r16 = pd.DataFrame(columns=['Round_of_16', 'rest'])\n",
    "\n",
    "for _ in range(2):\n",
    "    visualize_r16 = pd.concat([visualize_r16, pd.DataFrame({'Round_of_16': ['']})], ignore_index=True)\n",
    "\n",
    "for index, row in round_of_16_df.iterrows():\n",
    "    visualize_r16 = pd.concat([visualize_r16, pd.DataFrame({'Round_of_16': [f\"{row['home_team']} ({row['home_team_goals']})\"]})], ignore_index=True)\n",
    "    visualize_r16 = pd.concat([visualize_r16, pd.DataFrame({'Round_of_16': [f\"{row['away_team']} ({row['away_team_goals']})\"]})], ignore_index=True)\n",
    "\n",
    "    for _ in range(2):\n",
    "        visualize_r16 = pd.concat([visualize_r16, pd.DataFrame({'Round_of_16': ['']})], ignore_index=True)\n",
    "\n",
    "visualize_r16['rest'] = ''\n",
    "\n",
    "splited_r16_index = len(visualize_r16) // 2\n",
    "print(splited_r16_index)\n",
    "display(visualize_r16)\n"
   ]
  },
  {
   "cell_type": "code",
   "execution_count": 0,
   "metadata": {
    "application/vnd.databricks.v1+cell": {
     "cellMetadata": {
      "byteLimit": 2048000,
      "rowLimit": 10000
     },
     "inputWidgets": {},
     "nuid": "20541a8a-27e3-498b-a107-94896f2440d9",
     "showTitle": false,
     "title": ""
    }
   },
   "outputs": [
    {
     "output_type": "display_data",
     "data": {
      "text/html": [
       "<style scoped>\n",
       "  .table-result-container {\n",
       "    max-height: 300px;\n",
       "    overflow: auto;\n",
       "  }\n",
       "  table, th, td {\n",
       "    border: 1px solid black;\n",
       "    border-collapse: collapse;\n",
       "  }\n",
       "  th, td {\n",
       "    padding: 5px;\n",
       "  }\n",
       "  th {\n",
       "    text-align: left;\n",
       "  }\n",
       "</style><div class='table-result-container'><table class='table-result'><thead style='background-color: white'><tr><th>Round_of_16</th><th>rest</th></tr></thead><tbody><tr><td></td><td></td></tr><tr><td></td><td></td></tr><tr><td>Albania (2)</td><td></td></tr><tr><td>Scotland (4)</td><td></td></tr><tr><td></td><td></td></tr><tr><td></td><td></td></tr><tr><td>Hungary (3)</td><td></td></tr><tr><td>England (1)</td><td></td></tr><tr><td></td><td></td></tr><tr><td></td><td></td></tr><tr><td>Czech Republic (5)</td><td></td></tr><tr><td>Slovenia (2)</td><td></td></tr><tr><td></td><td></td></tr><tr><td></td><td></td></tr><tr><td>Austria (0)</td><td></td></tr><tr><td>Romania (0)</td><td></td></tr><tr><td></td><td></td></tr><tr><td></td><td></td></tr></tbody></table></div>"
      ]
     },
     "metadata": {
      "application/vnd.databricks.v1+output": {
       "addedWidgets": {},
       "aggData": [],
       "aggError": "",
       "aggOverflow": false,
       "aggSchema": [],
       "aggSeriesLimitReached": false,
       "aggType": "",
       "arguments": {},
       "columnCustomDisplayInfos": {},
       "data": [
        [
         "",
         ""
        ],
        [
         "",
         ""
        ],
        [
         "Albania (2)",
         ""
        ],
        [
         "Scotland (4)",
         ""
        ],
        [
         "",
         ""
        ],
        [
         "",
         ""
        ],
        [
         "Hungary (3)",
         ""
        ],
        [
         "England (1)",
         ""
        ],
        [
         "",
         ""
        ],
        [
         "",
         ""
        ],
        [
         "Czech Republic (5)",
         ""
        ],
        [
         "Slovenia (2)",
         ""
        ],
        [
         "",
         ""
        ],
        [
         "",
         ""
        ],
        [
         "Austria (0)",
         ""
        ],
        [
         "Romania (0)",
         ""
        ],
        [
         "",
         ""
        ],
        [
         "",
         ""
        ]
       ],
       "datasetInfos": [],
       "dbfsResultPath": null,
       "isJsonSchema": true,
       "metadata": {},
       "overflow": false,
       "plotOptions": {
        "customPlotOptions": {},
        "displayType": "table",
        "pivotAggregation": null,
        "pivotColumns": null,
        "xColumns": null,
        "yColumns": null
       },
       "removedWidgets": [],
       "schema": [
        {
         "metadata": "{}",
         "name": "Round_of_16",
         "type": "\"string\""
        },
        {
         "metadata": "{}",
         "name": "rest",
         "type": "\"string\""
        }
       ],
       "type": "table"
      }
     },
     "output_type": "display_data"
    },
    {
     "output_type": "display_data",
     "data": {
      "text/html": [
       "<style scoped>\n",
       "  .table-result-container {\n",
       "    max-height: 300px;\n",
       "    overflow: auto;\n",
       "  }\n",
       "  table, th, td {\n",
       "    border: 1px solid black;\n",
       "    border-collapse: collapse;\n",
       "  }\n",
       "  th, td {\n",
       "    padding: 5px;\n",
       "  }\n",
       "  th {\n",
       "    text-align: left;\n",
       "  }\n",
       "</style><div class='table-result-container'><table class='table-result'><thead style='background-color: white'><tr><th>Round_of_16</th><th>rest</th></tr></thead><tbody><tr><td></td><td></td></tr><tr><td></td><td></td></tr><tr><td>Play-off Winner B (4)</td><td></td></tr><tr><td>Croatia (4)</td><td></td></tr><tr><td></td><td></td></tr><tr><td></td><td></td></tr><tr><td>Austria (3)</td><td></td></tr><tr><td>Portugal (2)</td><td></td></tr><tr><td></td><td></td></tr><tr><td></td><td></td></tr><tr><td>Serbia (0)</td><td></td></tr><tr><td>Netherlands (0)</td><td></td></tr><tr><td></td><td></td></tr><tr><td></td><td></td></tr><tr><td>Switzerland (5)</td><td></td></tr><tr><td>Spain (0)</td><td></td></tr><tr><td></td><td></td></tr><tr><td></td><td></td></tr></tbody></table></div>"
      ]
     },
     "metadata": {
      "application/vnd.databricks.v1+output": {
       "addedWidgets": {},
       "aggData": [],
       "aggError": "",
       "aggOverflow": false,
       "aggSchema": [],
       "aggSeriesLimitReached": false,
       "aggType": "",
       "arguments": {},
       "columnCustomDisplayInfos": {},
       "data": [
        [
         "",
         ""
        ],
        [
         "",
         ""
        ],
        [
         "Play-off Winner B (4)",
         ""
        ],
        [
         "Croatia (4)",
         ""
        ],
        [
         "",
         ""
        ],
        [
         "",
         ""
        ],
        [
         "Austria (3)",
         ""
        ],
        [
         "Portugal (2)",
         ""
        ],
        [
         "",
         ""
        ],
        [
         "",
         ""
        ],
        [
         "Serbia (0)",
         ""
        ],
        [
         "Netherlands (0)",
         ""
        ],
        [
         "",
         ""
        ],
        [
         "",
         ""
        ],
        [
         "Switzerland (5)",
         ""
        ],
        [
         "Spain (0)",
         ""
        ],
        [
         "",
         ""
        ],
        [
         "",
         ""
        ]
       ],
       "datasetInfos": [],
       "dbfsResultPath": null,
       "isJsonSchema": true,
       "metadata": {},
       "overflow": false,
       "plotOptions": {
        "customPlotOptions": {},
        "displayType": "table",
        "pivotAggregation": null,
        "pivotColumns": null,
        "xColumns": null,
        "yColumns": null
       },
       "removedWidgets": [],
       "schema": [
        {
         "metadata": "{}",
         "name": "Round_of_16",
         "type": "\"string\""
        },
        {
         "metadata": "{}",
         "name": "rest",
         "type": "\"string\""
        }
       ],
       "type": "table"
      }
     },
     "output_type": "display_data"
    }
   ],
   "source": [
    "left_side_r16 = visualize_r16.iloc[:splited_r16_index + 1].reset_index(drop = True)\n",
    "right_side_r16 = visualize_r16.iloc[splited_r16_index - 1:].reset_index(drop = True)\n",
    "display(left_side_r16)\n",
    "display(right_side_r16)"
   ]
  },
  {
   "cell_type": "markdown",
   "metadata": {
    "application/vnd.databricks.v1+cell": {
     "cellMetadata": {
      "byteLimit": 2048000,
      "rowLimit": 10000
     },
     "inputWidgets": {},
     "nuid": "250aece8-8afc-4d5a-9565-44584770b7bf",
     "showTitle": false,
     "title": ""
    }
   },
   "source": [
    "Quarter Final Visualization"
   ]
  },
  {
   "cell_type": "code",
   "execution_count": 0,
   "metadata": {
    "application/vnd.databricks.v1+cell": {
     "cellMetadata": {
      "byteLimit": 2048000,
      "rowLimit": 10000
     },
     "inputWidgets": {},
     "nuid": "3d008aeb-483c-40b4-b16c-8a99a00b77f8",
     "showTitle": false,
     "title": ""
    }
   },
   "outputs": [
    {
     "output_type": "display_data",
     "data": {
      "text/html": [
       "<style scoped>\n",
       "  .table-result-container {\n",
       "    max-height: 300px;\n",
       "    overflow: auto;\n",
       "  }\n",
       "  table, th, td {\n",
       "    border: 1px solid black;\n",
       "    border-collapse: collapse;\n",
       "  }\n",
       "  th, td {\n",
       "    padding: 5px;\n",
       "  }\n",
       "  th {\n",
       "    text-align: left;\n",
       "  }\n",
       "</style><div class='table-result-container'><table class='table-result'><thead style='background-color: white'><tr><th>quarter_final</th><th>rest</th></tr></thead><tbody><tr><td></td><td></td></tr><tr><td></td><td></td></tr><tr><td></td><td></td></tr><tr><td></td><td></td></tr><tr><td>Scotland (2)</td><td></td></tr><tr><td>Hungary (1)</td><td></td></tr><tr><td></td><td></td></tr><tr><td></td><td></td></tr><tr><td></td><td></td></tr><tr><td></td><td></td></tr><tr><td></td><td></td></tr><tr><td></td><td></td></tr><tr><td>Czech Republic (0)</td><td></td></tr><tr><td>Austria (4)</td><td></td></tr><tr><td></td><td></td></tr><tr><td></td><td></td></tr><tr><td></td><td></td></tr><tr><td></td><td></td></tr><tr><td></td><td></td></tr><tr><td></td><td></td></tr><tr><td>Play-off Winner B (3)</td><td></td></tr><tr><td>Austria (1)</td><td></td></tr><tr><td></td><td></td></tr><tr><td></td><td></td></tr><tr><td></td><td></td></tr><tr><td></td><td></td></tr><tr><td></td><td></td></tr><tr><td></td><td></td></tr><tr><td>Serbia (3)</td><td></td></tr><tr><td>Switzerland (1)</td><td></td></tr><tr><td></td><td></td></tr><tr><td></td><td></td></tr><tr><td></td><td></td></tr><tr><td></td><td></td></tr><tr><td></td><td></td></tr><tr><td></td><td></td></tr></tbody></table></div>"
      ]
     },
     "metadata": {
      "application/vnd.databricks.v1+output": {
       "addedWidgets": {},
       "aggData": [],
       "aggError": "",
       "aggOverflow": false,
       "aggSchema": [],
       "aggSeriesLimitReached": false,
       "aggType": "",
       "arguments": {},
       "columnCustomDisplayInfos": {},
       "data": [
        [
         "",
         ""
        ],
        [
         "",
         ""
        ],
        [
         "",
         ""
        ],
        [
         "",
         ""
        ],
        [
         "Scotland (2)",
         ""
        ],
        [
         "Hungary (1)",
         ""
        ],
        [
         "",
         ""
        ],
        [
         "",
         ""
        ],
        [
         "",
         ""
        ],
        [
         "",
         ""
        ],
        [
         "",
         ""
        ],
        [
         "",
         ""
        ],
        [
         "Czech Republic (0)",
         ""
        ],
        [
         "Austria (4)",
         ""
        ],
        [
         "",
         ""
        ],
        [
         "",
         ""
        ],
        [
         "",
         ""
        ],
        [
         "",
         ""
        ],
        [
         "",
         ""
        ],
        [
         "",
         ""
        ],
        [
         "Play-off Winner B (3)",
         ""
        ],
        [
         "Austria (1)",
         ""
        ],
        [
         "",
         ""
        ],
        [
         "",
         ""
        ],
        [
         "",
         ""
        ],
        [
         "",
         ""
        ],
        [
         "",
         ""
        ],
        [
         "",
         ""
        ],
        [
         "Serbia (3)",
         ""
        ],
        [
         "Switzerland (1)",
         ""
        ],
        [
         "",
         ""
        ],
        [
         "",
         ""
        ],
        [
         "",
         ""
        ],
        [
         "",
         ""
        ],
        [
         "",
         ""
        ],
        [
         "",
         ""
        ]
       ],
       "datasetInfos": [],
       "dbfsResultPath": null,
       "isJsonSchema": true,
       "metadata": {},
       "overflow": false,
       "plotOptions": {
        "customPlotOptions": {},
        "displayType": "table",
        "pivotAggregation": null,
        "pivotColumns": null,
        "xColumns": null,
        "yColumns": null
       },
       "removedWidgets": [],
       "schema": [
        {
         "metadata": "{}",
         "name": "quarter_final",
         "type": "\"string\""
        },
        {
         "metadata": "{}",
         "name": "rest",
         "type": "\"string\""
        }
       ],
       "type": "table"
      }
     },
     "output_type": "display_data"
    }
   ],
   "source": [
    "# Dataframe for quarter final\n",
    "visualize_qf = pd.DataFrame(columns=['quarter_final'])\n",
    "\n",
    "for _ in range(4):\n",
    "    visualize_qf = pd.concat([visualize_qf, pd.DataFrame({'quarter_final': ['']})], ignore_index=True)\n",
    "\n",
    "for index, row in quarter_final_df.iterrows():\n",
    "    visualize_qf = pd.concat([visualize_qf, pd.DataFrame({'quarter_final': [f\"{row['home_team']} ({row['home_team_goals']})\"]})], ignore_index=True)\n",
    "    visualize_qf = pd.concat([visualize_qf, pd.DataFrame({'quarter_final': [f\"{row['away_team']} ({row['away_team_goals']})\"]})], ignore_index=True)\n",
    "\n",
    "    for _ in range(6):\n",
    "        visualize_qf = pd.concat([visualize_qf, pd.DataFrame({'quarter_final': ['']})], ignore_index=True)\n",
    "visualize_qf['rest'] = ''\n",
    "splited_qf_index = len(visualize_qf) // 2\n",
    "display(visualize_qf)\n"
   ]
  },
  {
   "cell_type": "code",
   "execution_count": 0,
   "metadata": {
    "application/vnd.databricks.v1+cell": {
     "cellMetadata": {
      "byteLimit": 2048000,
      "rowLimit": 10000
     },
     "inputWidgets": {},
     "nuid": "0fa6dec4-8eb4-48bd-b66f-7878a455130b",
     "showTitle": false,
     "title": ""
    }
   },
   "outputs": [
    {
     "output_type": "display_data",
     "data": {
      "text/html": [
       "<style scoped>\n",
       "  .table-result-container {\n",
       "    max-height: 300px;\n",
       "    overflow: auto;\n",
       "  }\n",
       "  table, th, td {\n",
       "    border: 1px solid black;\n",
       "    border-collapse: collapse;\n",
       "  }\n",
       "  th, td {\n",
       "    padding: 5px;\n",
       "  }\n",
       "  th {\n",
       "    text-align: left;\n",
       "  }\n",
       "</style><div class='table-result-container'><table class='table-result'><thead style='background-color: white'><tr><th>Quater_Final</th><th>quarter_final</th><th>rest</th></tr></thead><tbody><tr><td>NaN</td><td></td><td></td></tr><tr><td>NaN</td><td></td><td></td></tr><tr><td>NaN</td><td></td><td></td></tr><tr><td>NaN</td><td></td><td></td></tr><tr><td>NaN</td><td>Scotland (2)</td><td></td></tr><tr><td>NaN</td><td>Hungary (1)</td><td></td></tr><tr><td>NaN</td><td></td><td></td></tr><tr><td>NaN</td><td></td><td></td></tr><tr><td>NaN</td><td></td><td></td></tr><tr><td>NaN</td><td></td><td></td></tr><tr><td>NaN</td><td></td><td></td></tr><tr><td>NaN</td><td></td><td></td></tr><tr><td>NaN</td><td>Czech Republic (0)</td><td></td></tr><tr><td>NaN</td><td>Austria (4)</td><td></td></tr><tr><td>NaN</td><td></td><td></td></tr><tr><td>NaN</td><td></td><td></td></tr><tr><td>NaN</td><td></td><td></td></tr><tr><td>NaN</td><td></td><td></td></tr></tbody></table></div>"
      ]
     },
     "metadata": {
      "application/vnd.databricks.v1+output": {
       "addedWidgets": {},
       "aggData": [],
       "aggError": "",
       "aggOverflow": false,
       "aggSchema": [],
       "aggSeriesLimitReached": false,
       "aggType": "",
       "arguments": {},
       "columnCustomDisplayInfos": {},
       "data": [
        [
         "NaN",
         "",
         ""
        ],
        [
         "NaN",
         "",
         ""
        ],
        [
         "NaN",
         "",
         ""
        ],
        [
         "NaN",
         "",
         ""
        ],
        [
         "NaN",
         "Scotland (2)",
         ""
        ],
        [
         "NaN",
         "Hungary (1)",
         ""
        ],
        [
         "NaN",
         "",
         ""
        ],
        [
         "NaN",
         "",
         ""
        ],
        [
         "NaN",
         "",
         ""
        ],
        [
         "NaN",
         "",
         ""
        ],
        [
         "NaN",
         "",
         ""
        ],
        [
         "NaN",
         "",
         ""
        ],
        [
         "NaN",
         "Czech Republic (0)",
         ""
        ],
        [
         "NaN",
         "Austria (4)",
         ""
        ],
        [
         "NaN",
         "",
         ""
        ],
        [
         "NaN",
         "",
         ""
        ],
        [
         "NaN",
         "",
         ""
        ],
        [
         "NaN",
         "",
         ""
        ]
       ],
       "datasetInfos": [],
       "dbfsResultPath": null,
       "isJsonSchema": true,
       "metadata": {},
       "overflow": false,
       "plotOptions": {
        "customPlotOptions": {},
        "displayType": "table",
        "pivotAggregation": null,
        "pivotColumns": null,
        "xColumns": null,
        "yColumns": null
       },
       "removedWidgets": [],
       "schema": [
        {
         "metadata": "{}",
         "name": "Quater_Final",
         "type": "\"double\""
        },
        {
         "metadata": "{}",
         "name": "quarter_final",
         "type": "\"string\""
        },
        {
         "metadata": "{}",
         "name": "rest",
         "type": "\"string\""
        }
       ],
       "type": "table"
      }
     },
     "output_type": "display_data"
    },
    {
     "output_type": "display_data",
     "data": {
      "text/html": [
       "<style scoped>\n",
       "  .table-result-container {\n",
       "    max-height: 300px;\n",
       "    overflow: auto;\n",
       "  }\n",
       "  table, th, td {\n",
       "    border: 1px solid black;\n",
       "    border-collapse: collapse;\n",
       "  }\n",
       "  th, td {\n",
       "    padding: 5px;\n",
       "  }\n",
       "  th {\n",
       "    text-align: left;\n",
       "  }\n",
       "</style><div class='table-result-container'><table class='table-result'><thead style='background-color: white'><tr><th>Quater_Final</th><th>quarter_final</th><th>rest</th></tr></thead><tbody><tr><td>NaN</td><td></td><td></td></tr><tr><td>NaN</td><td></td><td></td></tr><tr><td>NaN</td><td></td><td></td></tr><tr><td>NaN</td><td></td><td></td></tr><tr><td>NaN</td><td>Play-off Winner B (3)</td><td></td></tr><tr><td>NaN</td><td>Austria (1)</td><td></td></tr><tr><td>NaN</td><td></td><td></td></tr><tr><td>NaN</td><td></td><td></td></tr><tr><td>NaN</td><td></td><td></td></tr><tr><td>NaN</td><td></td><td></td></tr><tr><td>NaN</td><td></td><td></td></tr><tr><td>NaN</td><td></td><td></td></tr><tr><td>NaN</td><td>Serbia (3)</td><td></td></tr><tr><td>NaN</td><td>Switzerland (1)</td><td></td></tr><tr><td>NaN</td><td></td><td></td></tr><tr><td>NaN</td><td></td><td></td></tr><tr><td>NaN</td><td></td><td></td></tr><tr><td>NaN</td><td></td><td></td></tr><tr><td>NaN</td><td></td><td></td></tr><tr><td>NaN</td><td></td><td></td></tr></tbody></table></div>"
      ]
     },
     "metadata": {
      "application/vnd.databricks.v1+output": {
       "addedWidgets": {},
       "aggData": [],
       "aggError": "",
       "aggOverflow": false,
       "aggSchema": [],
       "aggSeriesLimitReached": false,
       "aggType": "",
       "arguments": {},
       "columnCustomDisplayInfos": {},
       "data": [
        [
         "NaN",
         "",
         ""
        ],
        [
         "NaN",
         "",
         ""
        ],
        [
         "NaN",
         "",
         ""
        ],
        [
         "NaN",
         "",
         ""
        ],
        [
         "NaN",
         "Play-off Winner B (3)",
         ""
        ],
        [
         "NaN",
         "Austria (1)",
         ""
        ],
        [
         "NaN",
         "",
         ""
        ],
        [
         "NaN",
         "",
         ""
        ],
        [
         "NaN",
         "",
         ""
        ],
        [
         "NaN",
         "",
         ""
        ],
        [
         "NaN",
         "",
         ""
        ],
        [
         "NaN",
         "",
         ""
        ],
        [
         "NaN",
         "Serbia (3)",
         ""
        ],
        [
         "NaN",
         "Switzerland (1)",
         ""
        ],
        [
         "NaN",
         "",
         ""
        ],
        [
         "NaN",
         "",
         ""
        ],
        [
         "NaN",
         "",
         ""
        ],
        [
         "NaN",
         "",
         ""
        ],
        [
         "NaN",
         "",
         ""
        ],
        [
         "NaN",
         "",
         ""
        ]
       ],
       "datasetInfos": [],
       "dbfsResultPath": null,
       "isJsonSchema": true,
       "metadata": {},
       "overflow": false,
       "plotOptions": {
        "customPlotOptions": {},
        "displayType": "table",
        "pivotAggregation": null,
        "pivotColumns": null,
        "xColumns": null,
        "yColumns": null
       },
       "removedWidgets": [],
       "schema": [
        {
         "metadata": "{}",
         "name": "Quater_Final",
         "type": "\"double\""
        },
        {
         "metadata": "{}",
         "name": "quarter_final",
         "type": "\"string\""
        },
        {
         "metadata": "{}",
         "name": "rest",
         "type": "\"string\""
        }
       ],
       "type": "table"
      }
     },
     "output_type": "display_data"
    }
   ],
   "source": [
    "left_side_qf = pd.DataFrame(columns=['Quater_Final'])\n",
    "left_side_qf = pd.concat([left_side_qf,visualize_qf.iloc[:splited_qf_index]]).reset_index(drop=True)\n",
    "right_side_qf = pd.DataFrame(columns=['Quater_Final'])\n",
    "right_side_qf = pd.concat([right_side_qf,visualize_qf.iloc[splited_qf_index-2:]]).reset_index(drop=True)\n",
    "\n",
    "\n",
    "display(left_side_qf)\n",
    "display(right_side_qf)"
   ]
  },
  {
   "cell_type": "markdown",
   "metadata": {
    "application/vnd.databricks.v1+cell": {
     "cellMetadata": {
      "byteLimit": 2048000,
      "rowLimit": 10000
     },
     "inputWidgets": {},
     "nuid": "ab6b676f-d845-4890-88ff-6703dcaa111a",
     "showTitle": false,
     "title": ""
    }
   },
   "source": [
    "SemiFinal Visualization"
   ]
  },
  {
   "cell_type": "code",
   "execution_count": 0,
   "metadata": {
    "application/vnd.databricks.v1+cell": {
     "cellMetadata": {
      "byteLimit": 2048000,
      "rowLimit": 10000
     },
     "inputWidgets": {},
     "nuid": "2d63e2bc-6b2a-435c-9b46-33e2d3755589",
     "showTitle": false,
     "title": ""
    }
   },
   "outputs": [
    {
     "output_type": "stream",
     "name": "stdout",
     "output_type": "stream",
     "text": [
      "12\n"
     ]
    },
    {
     "output_type": "display_data",
     "data": {
      "text/html": [
       "<style scoped>\n",
       "  .table-result-container {\n",
       "    max-height: 300px;\n",
       "    overflow: auto;\n",
       "  }\n",
       "  table, th, td {\n",
       "    border: 1px solid black;\n",
       "    border-collapse: collapse;\n",
       "  }\n",
       "  th, td {\n",
       "    padding: 5px;\n",
       "  }\n",
       "  th {\n",
       "    text-align: left;\n",
       "  }\n",
       "</style><div class='table-result-container'><table class='table-result'><thead style='background-color: white'><tr><th>semi_final</th><th>rest</th></tr></thead><tbody><tr><td></td><td></td></tr><tr><td></td><td></td></tr><tr><td></td><td></td></tr><tr><td></td><td></td></tr><tr><td></td><td></td></tr><tr><td></td><td></td></tr><tr><td></td><td></td></tr><tr><td></td><td></td></tr><tr><td>Scotland (3)</td><td></td></tr><tr><td>Austria (1)</td><td></td></tr><tr><td></td><td></td></tr><tr><td></td><td></td></tr><tr><td></td><td></td></tr><tr><td></td><td></td></tr><tr><td></td><td></td></tr><tr><td></td><td></td></tr><tr><td>Play-off Winner B (4)</td><td></td></tr><tr><td>Serbia (4)</td><td></td></tr><tr><td></td><td></td></tr><tr><td></td><td></td></tr><tr><td></td><td></td></tr><tr><td></td><td></td></tr><tr><td></td><td></td></tr><tr><td></td><td></td></tr></tbody></table></div>"
      ]
     },
     "metadata": {
      "application/vnd.databricks.v1+output": {
       "addedWidgets": {},
       "aggData": [],
       "aggError": "",
       "aggOverflow": false,
       "aggSchema": [],
       "aggSeriesLimitReached": false,
       "aggType": "",
       "arguments": {},
       "columnCustomDisplayInfos": {},
       "data": [
        [
         "",
         ""
        ],
        [
         "",
         ""
        ],
        [
         "",
         ""
        ],
        [
         "",
         ""
        ],
        [
         "",
         ""
        ],
        [
         "",
         ""
        ],
        [
         "",
         ""
        ],
        [
         "",
         ""
        ],
        [
         "Scotland (3)",
         ""
        ],
        [
         "Austria (1)",
         ""
        ],
        [
         "",
         ""
        ],
        [
         "",
         ""
        ],
        [
         "",
         ""
        ],
        [
         "",
         ""
        ],
        [
         "",
         ""
        ],
        [
         "",
         ""
        ],
        [
         "Play-off Winner B (4)",
         ""
        ],
        [
         "Serbia (4)",
         ""
        ],
        [
         "",
         ""
        ],
        [
         "",
         ""
        ],
        [
         "",
         ""
        ],
        [
         "",
         ""
        ],
        [
         "",
         ""
        ],
        [
         "",
         ""
        ]
       ],
       "datasetInfos": [],
       "dbfsResultPath": null,
       "isJsonSchema": true,
       "metadata": {},
       "overflow": false,
       "plotOptions": {
        "customPlotOptions": {},
        "displayType": "table",
        "pivotAggregation": null,
        "pivotColumns": null,
        "xColumns": null,
        "yColumns": null
       },
       "removedWidgets": [],
       "schema": [
        {
         "metadata": "{}",
         "name": "semi_final",
         "type": "\"string\""
        },
        {
         "metadata": "{}",
         "name": "rest",
         "type": "\"string\""
        }
       ],
       "type": "table"
      }
     },
     "output_type": "display_data"
    }
   ],
   "source": [
    "import pandas as pd\n",
    "\n",
    "visualize_sf = pd.DataFrame(columns=['semi_final'])\n",
    "\n",
    "for _ in range(8):\n",
    "    visualize_sf = pd.concat([visualize_sf, pd.DataFrame({'semi_final': ['']})], ignore_index=True)\n",
    "\n",
    "for index, row in semi_final_df.iterrows():\n",
    "    visualize_sf = pd.concat([visualize_sf, pd.DataFrame({'semi_final': [f\"{row['home_team']} ({row['home_team_goals']})\"]})], ignore_index=True)\n",
    "    visualize_sf = pd.concat([visualize_sf, pd.DataFrame({'semi_final': [f\"{row['away_team']} ({row['away_team_goals']})\"]})], ignore_index=True)\n",
    "    for _ in range(6):\n",
    "        visualize_sf = pd.concat([visualize_sf, pd.DataFrame({'semi_final': ['']})], ignore_index=True)\n",
    "visualize_sf['rest'] = ''\n",
    "splited_sf_index = len(visualize_sf) // 2\n",
    "print(splited_sf_index)\n",
    "display(visualize_sf)\n"
   ]
  },
  {
   "cell_type": "code",
   "execution_count": 0,
   "metadata": {
    "application/vnd.databricks.v1+cell": {
     "cellMetadata": {
      "byteLimit": 2048000,
      "rowLimit": 10000
     },
     "inputWidgets": {},
     "nuid": "9530e2c6-77e1-4b51-9874-1e6033712d92",
     "showTitle": false,
     "title": ""
    }
   },
   "outputs": [
    {
     "output_type": "display_data",
     "data": {
      "text/html": [
       "<style scoped>\n",
       "  .table-result-container {\n",
       "    max-height: 300px;\n",
       "    overflow: auto;\n",
       "  }\n",
       "  table, th, td {\n",
       "    border: 1px solid black;\n",
       "    border-collapse: collapse;\n",
       "  }\n",
       "  th, td {\n",
       "    padding: 5px;\n",
       "  }\n",
       "  th {\n",
       "    text-align: left;\n",
       "  }\n",
       "</style><div class='table-result-container'><table class='table-result'><thead style='background-color: white'><tr><th>Semi_Final</th><th>semi_final</th><th>rest</th></tr></thead><tbody><tr><td>NaN</td><td></td><td></td></tr><tr><td>NaN</td><td></td><td></td></tr><tr><td>NaN</td><td></td><td></td></tr><tr><td>NaN</td><td></td><td></td></tr><tr><td>NaN</td><td></td><td></td></tr><tr><td>NaN</td><td></td><td></td></tr><tr><td>NaN</td><td></td><td></td></tr><tr><td>NaN</td><td></td><td></td></tr><tr><td>NaN</td><td>Scotland (3)</td><td></td></tr><tr><td>NaN</td><td>Austria (1)</td><td></td></tr><tr><td>NaN</td><td></td><td></td></tr><tr><td>NaN</td><td></td><td></td></tr><tr><td></td><td>NaN</td><td></td></tr><tr><td></td><td>NaN</td><td></td></tr><tr><td></td><td>NaN</td><td></td></tr><tr><td></td><td>NaN</td><td></td></tr><tr><td></td><td>NaN</td><td></td></tr></tbody></table></div>"
      ]
     },
     "metadata": {
      "application/vnd.databricks.v1+output": {
       "addedWidgets": {},
       "aggData": [],
       "aggError": "",
       "aggOverflow": false,
       "aggSchema": [],
       "aggSeriesLimitReached": false,
       "aggType": "",
       "arguments": {},
       "columnCustomDisplayInfos": {},
       "data": [
        [
         "NaN",
         "",
         ""
        ],
        [
         "NaN",
         "",
         ""
        ],
        [
         "NaN",
         "",
         ""
        ],
        [
         "NaN",
         "",
         ""
        ],
        [
         "NaN",
         "",
         ""
        ],
        [
         "NaN",
         "",
         ""
        ],
        [
         "NaN",
         "",
         ""
        ],
        [
         "NaN",
         "",
         ""
        ],
        [
         "NaN",
         "Scotland (3)",
         ""
        ],
        [
         "NaN",
         "Austria (1)",
         ""
        ],
        [
         "NaN",
         "",
         ""
        ],
        [
         "NaN",
         "",
         ""
        ],
        [
         "",
         "NaN",
         ""
        ],
        [
         "",
         "NaN",
         ""
        ],
        [
         "",
         "NaN",
         ""
        ],
        [
         "",
         "NaN",
         ""
        ],
        [
         "",
         "NaN",
         ""
        ]
       ],
       "datasetInfos": [],
       "dbfsResultPath": null,
       "isJsonSchema": true,
       "metadata": {},
       "overflow": false,
       "plotOptions": {
        "customPlotOptions": {},
        "displayType": "table",
        "pivotAggregation": null,
        "pivotColumns": null,
        "xColumns": null,
        "yColumns": null
       },
       "removedWidgets": [],
       "schema": [
        {
         "metadata": "{}",
         "name": "Semi_Final",
         "type": "\"string\""
        },
        {
         "metadata": "{}",
         "name": "semi_final",
         "type": "\"string\""
        },
        {
         "metadata": "{}",
         "name": "rest",
         "type": "\"string\""
        }
       ],
       "type": "table"
      }
     },
     "output_type": "display_data"
    },
    {
     "output_type": "display_data",
     "data": {
      "text/html": [
       "<style scoped>\n",
       "  .table-result-container {\n",
       "    max-height: 300px;\n",
       "    overflow: auto;\n",
       "  }\n",
       "  table, th, td {\n",
       "    border: 1px solid black;\n",
       "    border-collapse: collapse;\n",
       "  }\n",
       "  th, td {\n",
       "    padding: 5px;\n",
       "  }\n",
       "  th {\n",
       "    text-align: left;\n",
       "  }\n",
       "</style><div class='table-result-container'><table class='table-result'><thead style='background-color: white'><tr><th>Semi_Final</th><th>rest</th><th>semi_final</th></tr></thead><tbody><tr><td></td><td></td><td>NaN</td></tr><tr><td></td><td></td><td>NaN</td></tr><tr><td></td><td></td><td>NaN</td></tr><tr><td></td><td></td><td>NaN</td></tr><tr><td></td><td></td><td>NaN</td></tr><tr><td></td><td></td><td>NaN</td></tr><tr><td></td><td></td><td>NaN</td></tr><tr><td>NaN</td><td></td><td></td></tr><tr><td>NaN</td><td></td><td></td></tr><tr><td>NaN</td><td></td><td></td></tr><tr><td>NaN</td><td></td><td></td></tr><tr><td>NaN</td><td></td><td>Play-off Winner B (4)</td></tr><tr><td>NaN</td><td></td><td>Serbia (4)</td></tr><tr><td>NaN</td><td></td><td></td></tr><tr><td>NaN</td><td></td><td></td></tr><tr><td>NaN</td><td></td><td></td></tr><tr><td>NaN</td><td></td><td></td></tr><tr><td>NaN</td><td></td><td></td></tr><tr><td>NaN</td><td></td><td></td></tr></tbody></table></div>"
      ]
     },
     "metadata": {
      "application/vnd.databricks.v1+output": {
       "addedWidgets": {},
       "aggData": [],
       "aggError": "",
       "aggOverflow": false,
       "aggSchema": [],
       "aggSeriesLimitReached": false,
       "aggType": "",
       "arguments": {},
       "columnCustomDisplayInfos": {},
       "data": [
        [
         "",
         "",
         "NaN"
        ],
        [
         "",
         "",
         "NaN"
        ],
        [
         "",
         "",
         "NaN"
        ],
        [
         "",
         "",
         "NaN"
        ],
        [
         "",
         "",
         "NaN"
        ],
        [
         "",
         "",
         "NaN"
        ],
        [
         "",
         "",
         "NaN"
        ],
        [
         "NaN",
         "",
         ""
        ],
        [
         "NaN",
         "",
         ""
        ],
        [
         "NaN",
         "",
         ""
        ],
        [
         "NaN",
         "",
         ""
        ],
        [
         "NaN",
         "",
         "Play-off Winner B (4)"
        ],
        [
         "NaN",
         "",
         "Serbia (4)"
        ],
        [
         "NaN",
         "",
         ""
        ],
        [
         "NaN",
         "",
         ""
        ],
        [
         "NaN",
         "",
         ""
        ],
        [
         "NaN",
         "",
         ""
        ],
        [
         "NaN",
         "",
         ""
        ],
        [
         "NaN",
         "",
         ""
        ]
       ],
       "datasetInfos": [],
       "dbfsResultPath": null,
       "isJsonSchema": true,
       "metadata": {},
       "overflow": false,
       "plotOptions": {
        "customPlotOptions": {},
        "displayType": "table",
        "pivotAggregation": null,
        "pivotColumns": null,
        "xColumns": null,
        "yColumns": null
       },
       "removedWidgets": [],
       "schema": [
        {
         "metadata": "{}",
         "name": "Semi_Final",
         "type": "\"string\""
        },
        {
         "metadata": "{}",
         "name": "rest",
         "type": "\"string\""
        },
        {
         "metadata": "{}",
         "name": "semi_final",
         "type": "\"string\""
        }
       ],
       "type": "table"
      }
     },
     "output_type": "display_data"
    }
   ],
   "source": [
    "left_side_sf = pd.DataFrame(columns=['Semi_Final'])\n",
    "left_side_sf = pd.concat([left_side_sf, visualize_sf.iloc[:splited_sf_index]]).reset_index(drop=True)\n",
    "\n",
    "for _ in range(5):\n",
    "    left_side_sf = pd.concat([left_side_sf, pd.DataFrame({'Semi_Final': [''], 'rest': ['']})], ignore_index=True)\n",
    "\n",
    "right_side_sf = pd.DataFrame({'Semi_Final': [''] * 7, 'rest': [''] * 7})\n",
    "right_side_sf = pd.concat([right_side_sf, visualize_sf.iloc[splited_sf_index:]]).reset_index(drop=True)\n",
    "\n",
    "display(left_side_sf)\n",
    "display(right_side_sf)"
   ]
  },
  {
   "cell_type": "markdown",
   "metadata": {
    "application/vnd.databricks.v1+cell": {
     "cellMetadata": {
      "byteLimit": 2048000,
      "rowLimit": 10000
     },
     "inputWidgets": {},
     "nuid": "78618be5-8769-4dda-9e09-eed1bc22a799",
     "showTitle": false,
     "title": ""
    }
   },
   "source": [
    "Final Match Visualization"
   ]
  },
  {
   "cell_type": "code",
   "execution_count": 0,
   "metadata": {
    "application/vnd.databricks.v1+cell": {
     "cellMetadata": {
      "byteLimit": 2048000,
      "rowLimit": 10000
     },
     "inputWidgets": {},
     "nuid": "b91d34ff-8146-4d5c-ac8d-ac246113e531",
     "showTitle": false,
     "title": ""
    }
   },
   "outputs": [
    {
     "output_type": "display_data",
     "data": {
      "text/html": [
       "<style scoped>\n",
       "  .table-result-container {\n",
       "    max-height: 300px;\n",
       "    overflow: auto;\n",
       "  }\n",
       "  table, th, td {\n",
       "    border: 1px solid black;\n",
       "    border-collapse: collapse;\n",
       "  }\n",
       "  th, td {\n",
       "    padding: 5px;\n",
       "  }\n",
       "  th {\n",
       "    text-align: left;\n",
       "  }\n",
       "</style><div class='table-result-container'><table class='table-result'><thead style='background-color: white'><tr><th>Final</th><th>space</th></tr></thead><tbody><tr><td></td><td></td></tr><tr><td></td><td></td></tr><tr><td></td><td></td></tr><tr><td></td><td></td></tr><tr><td></td><td></td></tr><tr><td></td><td></td></tr><tr><td>Play-off Winner B (0)</td><td></td></tr><tr><td>Scotland (1)</td><td></td></tr><tr><td></td><td></td></tr><tr><td></td><td></td></tr></tbody></table></div>"
      ]
     },
     "metadata": {
      "application/vnd.databricks.v1+output": {
       "addedWidgets": {},
       "aggData": [],
       "aggError": "",
       "aggOverflow": false,
       "aggSchema": [],
       "aggSeriesLimitReached": false,
       "aggType": "",
       "arguments": {},
       "columnCustomDisplayInfos": {},
       "data": [
        [
         "",
         ""
        ],
        [
         "",
         ""
        ],
        [
         "",
         ""
        ],
        [
         "",
         ""
        ],
        [
         "",
         ""
        ],
        [
         "",
         ""
        ],
        [
         "Play-off Winner B (0)",
         ""
        ],
        [
         "Scotland (1)",
         ""
        ],
        [
         "",
         ""
        ],
        [
         "",
         ""
        ]
       ],
       "datasetInfos": [],
       "dbfsResultPath": null,
       "isJsonSchema": true,
       "metadata": {},
       "overflow": false,
       "plotOptions": {
        "customPlotOptions": {},
        "displayType": "table",
        "pivotAggregation": null,
        "pivotColumns": null,
        "xColumns": null,
        "yColumns": null
       },
       "removedWidgets": [],
       "schema": [
        {
         "metadata": "{}",
         "name": "Final",
         "type": "\"string\""
        },
        {
         "metadata": "{}",
         "name": "space",
         "type": "\"string\""
        }
       ],
       "type": "table"
      }
     },
     "output_type": "display_data"
    }
   ],
   "source": [
    "visualize_final = pd.DataFrame(columns=['Final'])\n",
    "for _ in range(6):\n",
    "    visualize_final = pd.concat([visualize_final, pd.DataFrame({'Final': ['']})], ignore_index=True)\n",
    "\n",
    "for index,row in final_df.iterrows():\n",
    "    visualize_final = pd.concat([visualize_final, pd.DataFrame({'Final': [f\"{row['home_team']} ({row['home_team_goals']})\"]})], ignore_index=True)\n",
    "    visualize_final = pd.concat([visualize_final, pd.DataFrame({'Final': [f\"{row['away_team']} ({row['away_team_goals']})\"]})], ignore_index=True)\n",
    "\n",
    "    if (index + 1) %2 == 0:\n",
    "        visualize_final = pd.concat([visualize_final, pd.DataFrame({'Final': ['']})], ignore_index=True)\n",
    "        visualize_final = pd.concat([visualize_final, pd.DataFrame({'Final': ['']})], ignore_index=True)\n",
    "    for _ in range(2):\n",
    "        visualize_final = pd.concat([visualize_final, pd.DataFrame({'Final': ['']})], ignore_index=True)\n",
    "visualize_final['space'] = ''\n",
    "display(visualize_final)\n"
   ]
  },
  {
   "cell_type": "code",
   "execution_count": 0,
   "metadata": {
    "application/vnd.databricks.v1+cell": {
     "cellMetadata": {
      "byteLimit": 2048000,
      "rowLimit": 10000
     },
     "inputWidgets": {},
     "nuid": "615f1a3d-7e72-42a1-a886-d8060052c6c6",
     "showTitle": false,
     "title": ""
    }
   },
   "outputs": [
    {
     "output_type": "display_data",
     "data": {
      "text/html": [
       "<style scoped>\n",
       "  .table-result-container {\n",
       "    max-height: 300px;\n",
       "    overflow: auto;\n",
       "  }\n",
       "  table, th, td {\n",
       "    border: 1px solid black;\n",
       "    border-collapse: collapse;\n",
       "  }\n",
       "  th, td {\n",
       "    padding: 5px;\n",
       "  }\n",
       "  th {\n",
       "    text-align: left;\n",
       "  }\n",
       "</style><div class='table-result-container'><table class='table-result'><thead style='background-color: white'><tr><th>Teamsg1</th><th>Groupg1</th><th>Pldg1</th><th>Wg1</th><th>Dg1</th><th>Lg1</th><th>GFg1</th><th>GAg1</th><th>GDg1</th><th>Ptsg1</th><th>Round_of_16</th><th>rest</th><th>Quater_Finalq2</th><th>quarter_finalq2</th><th>restq2</th><th>Semi_Finals1</th><th>semi_finals1</th><th>rests1</th><th>Finalf</th><th>spacef</th><th>Semi_Finals2</th><th>rests2</th><th>semi_finals2</th><th>Quater_Finalq1</th><th>quarter_finalq1</th><th>restq1</th><th>Round_of_16r2</th><th>restr2</th><th>Teamsg2</th><th>Groupg2</th><th>Pldg2</th><th>Wg2</th><th>Dg2</th><th>Lg2</th><th>GFg2</th><th>GAg2</th><th>GDg2</th><th>Ptsg2</th></tr></thead><tbody><tr><td></td><td></td><td></td><td></td><td></td><td></td><td></td><td></td><td></td><td></td><td></td><td></td><td></td><td></td><td></td><td></td><td></td><td></td><td></td><td></td><td></td><td></td><td></td><td></td><td></td><td></td><td></td><td></td><td></td><td></td><td></td><td></td><td></td><td></td><td></td><td></td><td></td><td></td></tr><tr><td>Germany</td><td>A</td><td>3</td><td>0</td><td>1</td><td>2</td><td>4</td><td>9</td><td>-5</td><td>1</td><td></td><td></td><td></td><td></td><td></td><td></td><td></td><td></td><td></td><td></td><td></td><td></td><td></td><td></td><td></td><td></td><td></td><td></td><td>France</td><td>D</td><td>3</td><td>2</td><td>1</td><td>0</td><td>14</td><td>7</td><td>7</td><td>7</td></tr><tr><td>Scotland</td><td>A</td><td>3</td><td>1</td><td>1</td><td>1</td><td>10</td><td>7</td><td>3</td><td>4</td><td>Albania (2)</td><td></td><td></td><td></td><td></td><td></td><td></td><td></td><td></td><td></td><td></td><td></td><td></td><td></td><td></td><td></td><td>Play-off Winner B (4)</td><td></td><td>Austria</td><td>D</td><td>3</td><td>2</td><td>0</td><td>1</td><td>8</td><td>8</td><td>0</td><td>6</td></tr><tr><td>Hungary</td><td>A</td><td>3</td><td>1</td><td>2</td><td>0</td><td>7</td><td>6</td><td>1</td><td>5</td><td>Scotland (4)</td><td></td><td></td><td></td><td></td><td></td><td></td><td></td><td></td><td></td><td></td><td></td><td></td><td></td><td></td><td></td><td>Croatia (4)</td><td></td><td>Netherlands</td><td>D</td><td>3</td><td>0</td><td>2</td><td>1</td><td>11</td><td>12</td><td>-1</td><td>2</td></tr><tr><td>Switzerland</td><td>A</td><td>3</td><td>1</td><td>2</td><td>0</td><td>3</td><td>2</td><td>1</td><td>5</td><td></td><td></td><td></td><td>Scotland (2)</td><td></td><td></td><td></td><td></td><td></td><td></td><td></td><td></td><td></td><td></td><td>Play-off Winner B (3)</td><td></td><td></td><td></td><td>Play-off Winner A</td><td>D</td><td>3</td><td>0</td><td>1</td><td>2</td><td>3</td><td>9</td><td>-6</td><td>1</td></tr><tr><td></td><td></td><td></td><td></td><td></td><td></td><td></td><td></td><td></td><td></td><td></td><td></td><td></td><td>Hungary (1)</td><td></td><td></td><td></td><td></td><td></td><td></td><td></td><td></td><td></td><td></td><td>Austria (1)</td><td></td><td></td><td></td><td></td><td></td><td></td><td></td><td></td><td></td><td></td><td></td><td></td><td></td></tr><tr><td>Italy</td><td>B</td><td>3</td><td>1</td><td>0</td><td>2</td><td>5</td><td>9</td><td>-4</td><td>3</td><td>Hungary (3)</td><td></td><td></td><td></td><td></td><td></td><td></td><td></td><td>Play-off Winner B (0)</td><td></td><td></td><td></td><td></td><td></td><td></td><td></td><td>Austria (3)</td><td></td><td>Slovakia</td><td>E</td><td>3</td><td>0</td><td>1</td><td>2</td><td>4</td><td>9</td><td>-5</td><td>1</td></tr><tr><td>Croatia</td><td>B</td><td>3</td><td>1</td><td>1</td><td>1</td><td>11</td><td>11</td><td>0</td><td>4</td><td>England (1)</td><td></td><td></td><td></td><td></td><td></td><td></td><td></td><td>Scotland (1)</td><td></td><td></td><td></td><td></td><td></td><td></td><td></td><td>Portugal (2)</td><td></td><td>Belgium</td><td>E</td><td>3</td><td>1</td><td>1</td><td>1</td><td>3</td><td>3</td><td>0</td><td>4</td></tr><tr><td>Spain</td><td>B</td><td>3</td><td>1</td><td>1</td><td>1</td><td>10</td><td>9</td><td>1</td><td>4</td><td></td><td></td><td></td><td></td><td></td><td></td><td>Scotland (3)</td><td></td><td></td><td></td><td></td><td></td><td></td><td></td><td></td><td></td><td></td><td></td><td>Romania</td><td>E</td><td>3</td><td>2</td><td>0</td><td>1</td><td>8</td><td>8</td><td>0</td><td>6</td></tr><tr><td>Albania</td><td>B</td><td>3</td><td>2</td><td>0</td><td>1</td><td>8</td><td>5</td><td>3</td><td>6</td><td></td><td></td><td></td><td></td><td></td><td></td><td>Austria (1)</td><td></td><td></td><td></td><td></td><td></td><td></td><td></td><td></td><td></td><td></td><td></td><td>Play-off Winner B</td><td>E</td><td>3</td><td>2</td><td>0</td><td>1</td><td>10</td><td>5</td><td>5</td><td>6</td></tr><tr><td></td><td></td><td></td><td></td><td></td><td></td><td></td><td></td><td></td><td></td><td>Czech Republic (5)</td><td></td><td></td><td></td><td></td><td></td><td></td><td></td><td></td><td></td><td></td><td></td><td></td><td></td><td></td><td></td><td>Serbia (0)</td><td></td><td></td><td></td><td></td><td></td><td></td><td></td><td></td><td></td><td></td><td></td></tr><tr><td>Serbia</td><td>C</td><td>3</td><td>2</td><td>1</td><td>0</td><td>10</td><td>3</td><td>7</td><td>7</td><td>Slovenia (2)</td><td></td><td></td><td></td><td></td><td></td><td></td><td></td><td></td><td></td><td></td><td></td><td>Play-off Winner B (4)</td><td></td><td></td><td></td><td>Netherlands (0)</td><td></td><td>Play-off Winner C</td><td>F</td><td>3</td><td>0</td><td>0</td><td>3</td><td>3</td><td>9</td><td>-6</td><td>0</td></tr><tr><td>Denmark</td><td>C</td><td>3</td><td>0</td><td>0</td><td>3</td><td>3</td><td>12</td><td>-9</td><td>0</td><td></td><td></td><td></td><td>Czech Republic (0)</td><td></td><td></td><td></td><td></td><td></td><td></td><td></td><td></td><td>Serbia (4)</td><td></td><td>Serbia (3)</td><td></td><td></td><td></td><td>Portugal</td><td>F</td><td>3</td><td>2</td><td>0</td><td>1</td><td>10</td><td>4</td><td>6</td><td>6</td></tr><tr><td>Slovenia</td><td>C</td><td>3</td><td>1</td><td>1</td><td>1</td><td>11</td><td>7</td><td>4</td><td>4</td><td></td><td></td><td></td><td>Austria (4)</td><td></td><td></td><td></td><td></td><td></td><td></td><td></td><td></td><td></td><td></td><td>Switzerland (1)</td><td></td><td></td><td></td><td>Turkey</td><td>F</td><td>3</td><td>1</td><td>0</td><td>2</td><td>5</td><td>8</td><td>-3</td><td>3</td></tr><tr><td>England</td><td>C</td><td>3</td><td>2</td><td>0</td><td>1</td><td>10</td><td>12</td><td>-2</td><td>6</td><td>Austria (0)</td><td></td><td></td><td></td><td></td><td></td><td></td><td></td><td></td><td></td><td></td><td></td><td></td><td></td><td></td><td></td><td>Switzerland (5)</td><td></td><td>Czech Republic</td><td>F</td><td>3</td><td>3</td><td>0</td><td>0</td><td>6</td><td>3</td><td>3</td><td>9</td></tr><tr><td></td><td></td><td></td><td></td><td></td><td></td><td></td><td></td><td></td><td></td><td>Romania (0)</td><td></td><td></td><td></td><td></td><td></td><td></td><td></td><td></td><td></td><td></td><td></td><td></td><td></td><td></td><td></td><td>Spain (0)</td><td></td><td></td><td></td><td></td><td></td><td></td><td></td><td></td><td></td><td></td><td></td></tr><tr><td></td><td></td><td></td><td></td><td></td><td></td><td></td><td></td><td></td><td></td><td></td><td></td><td></td><td></td><td></td><td></td><td></td><td></td><td></td><td></td><td></td><td></td><td></td><td></td><td></td><td></td><td></td><td></td><td></td><td></td><td></td><td></td><td></td><td></td><td></td><td></td><td></td><td></td></tr><tr><td></td><td></td><td></td><td></td><td></td><td></td><td></td><td></td><td></td><td></td><td></td><td></td><td></td><td></td><td></td><td></td><td></td><td></td><td></td><td></td><td></td><td></td><td></td><td></td><td></td><td></td><td></td><td></td><td></td><td></td><td></td><td></td><td></td><td></td><td></td><td></td><td></td><td></td></tr><tr><td></td><td></td><td></td><td></td><td></td><td></td><td></td><td></td><td></td><td></td><td></td><td></td><td></td><td></td><td></td><td></td><td></td><td></td><td></td><td></td><td></td><td></td><td></td><td></td><td></td><td></td><td></td><td></td><td></td><td></td><td></td><td></td><td></td><td></td><td></td><td></td><td></td><td></td></tr><tr><td></td><td></td><td></td><td></td><td></td><td></td><td></td><td></td><td></td><td></td><td></td><td></td><td></td><td></td><td></td><td></td><td></td><td></td><td></td><td></td><td></td><td></td><td></td><td></td><td></td><td></td><td></td><td></td><td></td><td></td><td></td><td></td><td></td><td></td><td></td><td></td><td></td><td></td></tr></tbody></table></div>"
      ]
     },
     "metadata": {
      "application/vnd.databricks.v1+output": {
       "addedWidgets": {},
       "aggData": [],
       "aggError": "",
       "aggOverflow": false,
       "aggSchema": [],
       "aggSeriesLimitReached": false,
       "aggType": "",
       "arguments": {},
       "columnCustomDisplayInfos": {},
       "data": [
        [
         "",
         "",
         "",
         "",
         "",
         "",
         "",
         "",
         "",
         "",
         "",
         "",
         "",
         "",
         "",
         "",
         "",
         "",
         "",
         "",
         "",
         "",
         "",
         "",
         "",
         "",
         "",
         "",
         "",
         "",
         "",
         "",
         "",
         "",
         "",
         "",
         "",
         ""
        ],
        [
         "Germany",
         "A",
         "3",
         "0",
         "1",
         "2",
         "4",
         "9",
         "-5",
         "1",
         "",
         "",
         "",
         "",
         "",
         "",
         "",
         "",
         "",
         "",
         "",
         "",
         "",
         "",
         "",
         "",
         "",
         "",
         "France",
         "D",
         "3",
         "2",
         "1",
         "0",
         "14",
         "7",
         "7",
         "7"
        ],
        [
         "Scotland",
         "A",
         "3",
         "1",
         "1",
         "1",
         "10",
         "7",
         "3",
         "4",
         "Albania (2)",
         "",
         "",
         "",
         "",
         "",
         "",
         "",
         "",
         "",
         "",
         "",
         "",
         "",
         "",
         "",
         "Play-off Winner B (4)",
         "",
         "Austria",
         "D",
         "3",
         "2",
         "0",
         "1",
         "8",
         "8",
         "0",
         "6"
        ],
        [
         "Hungary",
         "A",
         "3",
         "1",
         "2",
         "0",
         "7",
         "6",
         "1",
         "5",
         "Scotland (4)",
         "",
         "",
         "",
         "",
         "",
         "",
         "",
         "",
         "",
         "",
         "",
         "",
         "",
         "",
         "",
         "Croatia (4)",
         "",
         "Netherlands",
         "D",
         "3",
         "0",
         "2",
         "1",
         "11",
         "12",
         "-1",
         "2"
        ],
        [
         "Switzerland",
         "A",
         "3",
         "1",
         "2",
         "0",
         "3",
         "2",
         "1",
         "5",
         "",
         "",
         "",
         "Scotland (2)",
         "",
         "",
         "",
         "",
         "",
         "",
         "",
         "",
         "",
         "",
         "Play-off Winner B (3)",
         "",
         "",
         "",
         "Play-off Winner A",
         "D",
         "3",
         "0",
         "1",
         "2",
         "3",
         "9",
         "-6",
         "1"
        ],
        [
         "",
         "",
         "",
         "",
         "",
         "",
         "",
         "",
         "",
         "",
         "",
         "",
         "",
         "Hungary (1)",
         "",
         "",
         "",
         "",
         "",
         "",
         "",
         "",
         "",
         "",
         "Austria (1)",
         "",
         "",
         "",
         "",
         "",
         "",
         "",
         "",
         "",
         "",
         "",
         "",
         ""
        ],
        [
         "Italy",
         "B",
         "3",
         "1",
         "0",
         "2",
         "5",
         "9",
         "-4",
         "3",
         "Hungary (3)",
         "",
         "",
         "",
         "",
         "",
         "",
         "",
         "Play-off Winner B (0)",
         "",
         "",
         "",
         "",
         "",
         "",
         "",
         "Austria (3)",
         "",
         "Slovakia",
         "E",
         "3",
         "0",
         "1",
         "2",
         "4",
         "9",
         "-5",
         "1"
        ],
        [
         "Croatia",
         "B",
         "3",
         "1",
         "1",
         "1",
         "11",
         "11",
         "0",
         "4",
         "England (1)",
         "",
         "",
         "",
         "",
         "",
         "",
         "",
         "Scotland (1)",
         "",
         "",
         "",
         "",
         "",
         "",
         "",
         "Portugal (2)",
         "",
         "Belgium",
         "E",
         "3",
         "1",
         "1",
         "1",
         "3",
         "3",
         "0",
         "4"
        ],
        [
         "Spain",
         "B",
         "3",
         "1",
         "1",
         "1",
         "10",
         "9",
         "1",
         "4",
         "",
         "",
         "",
         "",
         "",
         "",
         "Scotland (3)",
         "",
         "",
         "",
         "",
         "",
         "",
         "",
         "",
         "",
         "",
         "",
         "Romania",
         "E",
         "3",
         "2",
         "0",
         "1",
         "8",
         "8",
         "0",
         "6"
        ],
        [
         "Albania",
         "B",
         "3",
         "2",
         "0",
         "1",
         "8",
         "5",
         "3",
         "6",
         "",
         "",
         "",
         "",
         "",
         "",
         "Austria (1)",
         "",
         "",
         "",
         "",
         "",
         "",
         "",
         "",
         "",
         "",
         "",
         "Play-off Winner B",
         "E",
         "3",
         "2",
         "0",
         "1",
         "10",
         "5",
         "5",
         "6"
        ],
        [
         "",
         "",
         "",
         "",
         "",
         "",
         "",
         "",
         "",
         "",
         "Czech Republic (5)",
         "",
         "",
         "",
         "",
         "",
         "",
         "",
         "",
         "",
         "",
         "",
         "",
         "",
         "",
         "",
         "Serbia (0)",
         "",
         "",
         "",
         "",
         "",
         "",
         "",
         "",
         "",
         "",
         ""
        ],
        [
         "Serbia",
         "C",
         "3",
         "2",
         "1",
         "0",
         "10",
         "3",
         "7",
         "7",
         "Slovenia (2)",
         "",
         "",
         "",
         "",
         "",
         "",
         "",
         "",
         "",
         "",
         "",
         "Play-off Winner B (4)",
         "",
         "",
         "",
         "Netherlands (0)",
         "",
         "Play-off Winner C",
         "F",
         "3",
         "0",
         "0",
         "3",
         "3",
         "9",
         "-6",
         "0"
        ],
        [
         "Denmark",
         "C",
         "3",
         "0",
         "0",
         "3",
         "3",
         "12",
         "-9",
         "0",
         "",
         "",
         "",
         "Czech Republic (0)",
         "",
         "",
         "",
         "",
         "",
         "",
         "",
         "",
         "Serbia (4)",
         "",
         "Serbia (3)",
         "",
         "",
         "",
         "Portugal",
         "F",
         "3",
         "2",
         "0",
         "1",
         "10",
         "4",
         "6",
         "6"
        ],
        [
         "Slovenia",
         "C",
         "3",
         "1",
         "1",
         "1",
         "11",
         "7",
         "4",
         "4",
         "",
         "",
         "",
         "Austria (4)",
         "",
         "",
         "",
         "",
         "",
         "",
         "",
         "",
         "",
         "",
         "Switzerland (1)",
         "",
         "",
         "",
         "Turkey",
         "F",
         "3",
         "1",
         "0",
         "2",
         "5",
         "8",
         "-3",
         "3"
        ],
        [
         "England",
         "C",
         "3",
         "2",
         "0",
         "1",
         "10",
         "12",
         "-2",
         "6",
         "Austria (0)",
         "",
         "",
         "",
         "",
         "",
         "",
         "",
         "",
         "",
         "",
         "",
         "",
         "",
         "",
         "",
         "Switzerland (5)",
         "",
         "Czech Republic",
         "F",
         "3",
         "3",
         "0",
         "0",
         "6",
         "3",
         "3",
         "9"
        ],
        [
         "",
         "",
         "",
         "",
         "",
         "",
         "",
         "",
         "",
         "",
         "Romania (0)",
         "",
         "",
         "",
         "",
         "",
         "",
         "",
         "",
         "",
         "",
         "",
         "",
         "",
         "",
         "",
         "Spain (0)",
         "",
         "",
         "",
         "",
         "",
         "",
         "",
         "",
         "",
         "",
         ""
        ],
        [
         "",
         "",
         "",
         "",
         "",
         "",
         "",
         "",
         "",
         "",
         "",
         "",
         "",
         "",
         "",
         "",
         "",
         "",
         "",
         "",
         "",
         "",
         "",
         "",
         "",
         "",
         "",
         "",
         "",
         "",
         "",
         "",
         "",
         "",
         "",
         "",
         "",
         ""
        ],
        [
         "",
         "",
         "",
         "",
         "",
         "",
         "",
         "",
         "",
         "",
         "",
         "",
         "",
         "",
         "",
         "",
         "",
         "",
         "",
         "",
         "",
         "",
         "",
         "",
         "",
         "",
         "",
         "",
         "",
         "",
         "",
         "",
         "",
         "",
         "",
         "",
         "",
         ""
        ],
        [
         "",
         "",
         "",
         "",
         "",
         "",
         "",
         "",
         "",
         "",
         "",
         "",
         "",
         "",
         "",
         "",
         "",
         "",
         "",
         "",
         "",
         "",
         "",
         "",
         "",
         "",
         "",
         "",
         "",
         "",
         "",
         "",
         "",
         "",
         "",
         "",
         "",
         ""
        ],
        [
         "",
         "",
         "",
         "",
         "",
         "",
         "",
         "",
         "",
         "",
         "",
         "",
         "",
         "",
         "",
         "",
         "",
         "",
         "",
         "",
         "",
         "",
         "",
         "",
         "",
         "",
         "",
         "",
         "",
         "",
         "",
         "",
         "",
         "",
         "",
         "",
         "",
         ""
        ]
       ],
       "datasetInfos": [],
       "dbfsResultPath": null,
       "isJsonSchema": true,
       "metadata": {},
       "overflow": false,
       "plotOptions": {
        "customPlotOptions": {},
        "displayType": "table",
        "pivotAggregation": null,
        "pivotColumns": null,
        "xColumns": null,
        "yColumns": null
       },
       "removedWidgets": [],
       "schema": [
        {
         "metadata": "{}",
         "name": "Teamsg1",
         "type": "\"string\""
        },
        {
         "metadata": "{}",
         "name": "Groupg1",
         "type": "\"string\""
        },
        {
         "metadata": "{}",
         "name": "Pldg1",
         "type": "\"string\""
        },
        {
         "metadata": "{}",
         "name": "Wg1",
         "type": "\"string\""
        },
        {
         "metadata": "{}",
         "name": "Dg1",
         "type": "\"string\""
        },
        {
         "metadata": "{}",
         "name": "Lg1",
         "type": "\"string\""
        },
        {
         "metadata": "{}",
         "name": "GFg1",
         "type": "\"string\""
        },
        {
         "metadata": "{}",
         "name": "GAg1",
         "type": "\"string\""
        },
        {
         "metadata": "{}",
         "name": "GDg1",
         "type": "\"string\""
        },
        {
         "metadata": "{}",
         "name": "Ptsg1",
         "type": "\"string\""
        },
        {
         "metadata": "{}",
         "name": "Round_of_16",
         "type": "\"string\""
        },
        {
         "metadata": "{}",
         "name": "rest",
         "type": "\"string\""
        },
        {
         "metadata": "{}",
         "name": "Quater_Finalq2",
         "type": "\"string\""
        },
        {
         "metadata": "{}",
         "name": "quarter_finalq2",
         "type": "\"string\""
        },
        {
         "metadata": "{}",
         "name": "restq2",
         "type": "\"string\""
        },
        {
         "metadata": "{}",
         "name": "Semi_Finals1",
         "type": "\"string\""
        },
        {
         "metadata": "{}",
         "name": "semi_finals1",
         "type": "\"string\""
        },
        {
         "metadata": "{}",
         "name": "rests1",
         "type": "\"string\""
        },
        {
         "metadata": "{}",
         "name": "Finalf",
         "type": "\"string\""
        },
        {
         "metadata": "{}",
         "name": "spacef",
         "type": "\"string\""
        },
        {
         "metadata": "{}",
         "name": "Semi_Finals2",
         "type": "\"string\""
        },
        {
         "metadata": "{}",
         "name": "rests2",
         "type": "\"string\""
        },
        {
         "metadata": "{}",
         "name": "semi_finals2",
         "type": "\"string\""
        },
        {
         "metadata": "{}",
         "name": "Quater_Finalq1",
         "type": "\"string\""
        },
        {
         "metadata": "{}",
         "name": "quarter_finalq1",
         "type": "\"string\""
        },
        {
         "metadata": "{}",
         "name": "restq1",
         "type": "\"string\""
        },
        {
         "metadata": "{}",
         "name": "Round_of_16r2",
         "type": "\"string\""
        },
        {
         "metadata": "{}",
         "name": "restr2",
         "type": "\"string\""
        },
        {
         "metadata": "{}",
         "name": "Teamsg2",
         "type": "\"string\""
        },
        {
         "metadata": "{}",
         "name": "Groupg2",
         "type": "\"string\""
        },
        {
         "metadata": "{}",
         "name": "Pldg2",
         "type": "\"string\""
        },
        {
         "metadata": "{}",
         "name": "Wg2",
         "type": "\"string\""
        },
        {
         "metadata": "{}",
         "name": "Dg2",
         "type": "\"string\""
        },
        {
         "metadata": "{}",
         "name": "Lg2",
         "type": "\"string\""
        },
        {
         "metadata": "{}",
         "name": "GFg2",
         "type": "\"string\""
        },
        {
         "metadata": "{}",
         "name": "GAg2",
         "type": "\"string\""
        },
        {
         "metadata": "{}",
         "name": "GDg2",
         "type": "\"string\""
        },
        {
         "metadata": "{}",
         "name": "Ptsg2",
         "type": "\"string\""
        }
       ],
       "type": "table"
      }
     },
     "output_type": "display_data"
    }
   ],
   "source": [
    "left_side_qf.columns = [f\"{col}q2\" for col in left_side_qf.columns]\n",
    "\n",
    "merged_df = pd.concat([left_side_r16, left_side_qf], axis=1)\n",
    "\n",
    "left_side_sf.columns = [f\"{col}s1\" for col in left_side_sf.columns]\n",
    "merged_df = pd.concat([merged_df, left_side_sf], axis=1)\n",
    "\n",
    "visualize_final.columns = [f\"{col}f\" for col in visualize_final.columns]\n",
    "merged_df = pd.concat([merged_df, visualize_final], axis=1)\n",
    "\n",
    "right_side_sf.columns = [f\"{col}s2\" for col in right_side_sf.columns]\n",
    "\n",
    "merged_df = pd.concat([merged_df, right_side_sf], axis=1)\n",
    "\n",
    "\n",
    "\n",
    "right_side_qf.columns = [f\"{col}q1\" for col in right_side_qf.columns]\n",
    "# Concatenate the DataFrames\n",
    "merged_df = pd.concat([merged_df, right_side_qf], axis=1)\n",
    "\n",
    "right_side_r16.columns = [f\"{col}r2\" for col in right_side_r16.columns]\n",
    "\n",
    "# Concatenate the DataFrames\n",
    "merged_df = pd.concat([merged_df,right_side_r16], axis=1)\n",
    "\n",
    "left_table.columns = [f\"{col}g1\" for col in left_table.columns]\n",
    "right_table.columns = [f\"{col}g2\" for col in right_table.columns]\n",
    "\n",
    "# Concatenate the DataFrames\n",
    "merged_df = pd.concat([left_table,merged_df, right_table], axis=1)\n",
    "\n",
    "merged_df.fillna('', inplace=True)\n",
    "\n",
    "display(merged_df)"
   ]
  },
  {
   "cell_type": "code",
   "execution_count": 0,
   "metadata": {
    "application/vnd.databricks.v1+cell": {
     "cellMetadata": {
      "byteLimit": 2048000,
      "rowLimit": 10000
     },
     "inputWidgets": {},
     "nuid": "6cadfc44-dbd4-453b-9119-174b171ca861",
     "showTitle": false,
     "title": ""
    }
   },
   "outputs": [],
   "source": []
  }
 ],
 "metadata": {
  "application/vnd.databricks.v1+notebook": {
   "dashboards": [],
   "language": "python",
   "notebookMetadata": {
    "mostRecentlyExecutedCommandWithImplicitDF": {
     "commandId": 3702299297196484,
     "dataframes": [
      "_sqldf"
     ]
    },
    "pythonIndentUnit": 4
   },
   "notebookName": "UEFA EUROCUP 2024",
   "widgets": {}
  }
 },
 "nbformat": 4,
 "nbformat_minor": 0
}
