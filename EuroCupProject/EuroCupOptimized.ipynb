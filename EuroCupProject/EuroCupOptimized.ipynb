{
 "cells": [
  {
   "cell_type": "markdown",
   "metadata": {
    "application/vnd.databricks.v1+cell": {
     "cellMetadata": {
      "byteLimit": 2048000,
      "rowLimit": 10000
     },
     "inputWidgets": {},
     "nuid": "a2aa7a24-3db9-4734-a6df-5fb9de145383",
     "showTitle": false,
     "title": ""
    }
   },
   "source": [
    "# 1. Initials imports and sessions"
   ]
  },
  {
   "cell_type": "code",
   "execution_count": 0,
   "metadata": {
    "application/vnd.databricks.v1+cell": {
     "cellMetadata": {
      "byteLimit": 2048000,
      "rowLimit": 10000
     },
     "inputWidgets": {},
     "nuid": "a5264147-ab96-4f12-bd14-b6e542bfb9c2",
     "showTitle": false,
     "title": ""
    }
   },
   "outputs": [
    {
     "output_type": "stream",
     "name": "stdout",
     "output_type": "stream",
     "text": [
      "Out[42]: False"
     ]
    }
   ],
   "source": [
    "%python\n",
    "dbutils.fs.rm(\"dbfs:/user/hive/warehouse/combinations1\", True)\n",
    "dbutils.fs.rm(\"dbfs:/user/hive/warehouse/teams\", True)\n",
    "dbutils.fs.rm(\"dbfs:/user/hive/warehouse/ro16\", True)\n",
    "dbutils.fs.rm(\"dbfs:/user/hive/warehouse/pgs_matches\", True)"
   ]
  },
  {
   "cell_type": "code",
   "execution_count": 0,
   "metadata": {
    "application/vnd.databricks.v1+cell": {
     "cellMetadata": {
      "byteLimit": 2048000,
      "rowLimit": 10000
     },
     "inputWidgets": {},
     "nuid": "3ac69874-0194-46a6-9a9d-1b3e70e6ffd0",
     "showTitle": false,
     "title": ""
    }
   },
   "outputs": [],
   "source": [
    "%python\n",
    "from pyspark.sql import SparkSession\n",
    "from pyspark.sql.functions import lit, rand, when\n",
    "from pyspark.sql.window import Window\n",
    "from pyspark.sql.functions import row_number\n",
    "import random"
   ]
  },
  {
   "cell_type": "code",
   "execution_count": 0,
   "metadata": {
    "application/vnd.databricks.v1+cell": {
     "cellMetadata": {
      "byteLimit": 2048000,
      "rowLimit": 10000
     },
     "inputWidgets": {},
     "nuid": "5448ec10-c5fb-457d-9bc8-ae164f28cdc7",
     "showTitle": false,
     "title": ""
    }
   },
   "outputs": [],
   "source": [
    "%python\n",
    "from pyspark.sql import SparkSession\n",
    "\n",
    "spark = SparkSession.builder \\\n",
    "    .appName(\"EuroCup\") \\\n",
    "    .getOrCreate()"
   ]
  },
  {
   "cell_type": "markdown",
   "metadata": {
    "application/vnd.databricks.v1+cell": {
     "cellMetadata": {
      "byteLimit": 2048000,
      "rowLimit": 10000
     },
     "inputWidgets": {},
     "nuid": "19d5c74a-284f-4ef2-9230-6e2973d5612b",
     "showTitle": false,
     "title": ""
    }
   },
   "source": [
    "# 2. First table: Teams according to EURO 2024\n"
   ]
  },
  {
   "cell_type": "code",
   "execution_count": 0,
   "metadata": {
    "application/vnd.databricks.v1+cell": {
     "cellMetadata": {
      "byteLimit": 2048000,
      "rowLimit": 10000
     },
     "inputWidgets": {},
     "nuid": "621e803b-7ec9-4896-9969-2e7d0cdb216e",
     "showTitle": false,
     "title": ""
    }
   },
   "outputs": [],
   "source": [
    "%python\n",
    "teams_data = [\n",
    "    # Group A\n",
    "    (1, \"Germany\", \"A\"),\n",
    "    (2, \"Hungary\", \"A\"),\n",
    "    (3, \"Scotland\", \"A\"),\n",
    "    (4, \"Switzerland\", \"A\"),\n",
    "\n",
    "    # Group B\n",
    "    (5, \"Albania\", \"B\"),\n",
    "    (6, \"Croatia\", \"B\"),\n",
    "    (7, \"Italy\", \"B\"),\n",
    "    (8, \"Spain\", \"B\"),\n",
    "\n",
    "    # Group C\n",
    "    (9, \"Denmark\", \"C\"),\n",
    "    (10, \"England\", \"C\"),\n",
    "    (11, \"Slovenia\", \"C\"),\n",
    "    (12, \"Serbia\", \"C\"),\n",
    "\n",
    "    # Group D\n",
    "    (13, \"Austria\", \"D\"),\n",
    "    (14, \"France\", \"D\"),\n",
    "    (15, \"Netherlands\", \"D\"),\n",
    "    (16, \"Playoff Winner 1\", \"D\"),\n",
    "\n",
    "    # Group E\n",
    "    (17, \"Belgium\", \"E\"),\n",
    "    (18, \"Romania\", \"E\"),\n",
    "    (19, \"Slovakia\", \"E\"),\n",
    "    (20, \"Playoff Winner 2\", \"E\"),\n",
    "\n",
    "    # Group F\n",
    "    (21, \"Czech Republic\", \"F\"),\n",
    "    (22, \"Portugal\", \"F\"),\n",
    "    (23, \"Turkey\", \"F\"),\n",
    "    (24, \"Playoff Winner 3\", \"F\")\n",
    "]"
   ]
  },
  {
   "cell_type": "code",
   "execution_count": 0,
   "metadata": {
    "application/vnd.databricks.v1+cell": {
     "cellMetadata": {
      "byteLimit": 2048000,
      "rowLimit": 10000
     },
     "inputWidgets": {},
     "nuid": "88139d8e-9fad-427a-8be4-c60b57cda703",
     "showTitle": false,
     "title": ""
    }
   },
   "outputs": [],
   "source": [
    "%python\n",
    "teams_columns = [\"TeamID\", \"TeamName\", \"TeamGroup\"]\n",
    "teams_df = spark.createDataFrame(teams_data, teams_columns)\n",
    "teams_df.write.saveAsTable(\"teams\")\n",
    "\n",
    "# spark.sql(\"SELECT * FROM teams\").show()"
   ]
  },
  {
   "cell_type": "markdown",
   "metadata": {
    "application/vnd.databricks.v1+cell": {
     "cellMetadata": {
      "byteLimit": 2048000,
      "rowLimit": 10000
     },
     "inputWidgets": {},
     "nuid": "13f94102-dcf5-4a17-b816-8269ec0ab8b5",
     "showTitle": false,
     "title": ""
    }
   },
   "source": [
    "# 3. Preparing for GroupStages"
   ]
  },
  {
   "cell_type": "code",
   "execution_count": 0,
   "metadata": {
    "application/vnd.databricks.v1+cell": {
     "cellMetadata": {
      "byteLimit": 2048000,
      "rowLimit": 10000
     },
     "inputWidgets": {},
     "nuid": "69159043-8615-4733-b28a-efba348d5c38",
     "showTitle": false,
     "title": ""
    }
   },
   "outputs": [],
   "source": [
    "%python\n",
    "matches_df = spark.sql(\"\"\"\n",
    "    SELECT  t1.TeamName AS HomeTeam, t2.TeamName AS AwayTeam, t1.TeamGroup AS HomeTeamGroup, t2.TeamGroup AS AwayTeamGroup\n",
    "    FROM teams t1\n",
    "    JOIN teams t2 ON t1.TeamGroup = t2.TeamGroup AND t1.TeamID < t2.TeamID  /*(TeamA, TeamB) != (TeamB, TeamA)*/\n",
    "\"\"\")"
   ]
  },
  {
   "cell_type": "code",
   "execution_count": 0,
   "metadata": {
    "application/vnd.databricks.v1+cell": {
     "cellMetadata": {
      "byteLimit": 2048000,
      "rowLimit": 10000
     },
     "inputWidgets": {},
     "nuid": "d66840b4-9788-486e-8bfe-805c0c3b0a07",
     "showTitle": false,
     "title": ""
    }
   },
   "outputs": [],
   "source": [
    "%python\n",
    "matches_df = matches_df.withColumn(\"HomeTeamGoals\", (rand() * 6).cast(\"int\")) \n",
    "matches_df = matches_df.withColumn(\"AwayTeamGoals\", (rand() * 6).cast(\"int\")) \n",
    "\n",
    "\n",
    "matches_df.createOrReplaceTempView(\"matches_with_goals\")"
   ]
  },
  {
   "cell_type": "code",
   "execution_count": 0,
   "metadata": {
    "application/vnd.databricks.v1+cell": {
     "cellMetadata": {
      "byteLimit": 2048000,
      "rowLimit": 10000
     },
     "inputWidgets": {},
     "nuid": "61eba864-6af4-4269-93b6-f92c7eb31012",
     "showTitle": false,
     "title": ""
    }
   },
   "outputs": [
    {
     "output_type": "stream",
     "name": "stdout",
     "output_type": "stream",
     "text": [
      "+--------------+----------------+-------------+-------------+-------------+-------------+\n|      HomeTeam|        AwayTeam|HomeTeamGroup|AwayTeamGroup|HomeTeamGoals|AwayTeamGoals|\n+--------------+----------------+-------------+-------------+-------------+-------------+\n|      Slovakia|Playoff Winner 2|            E|            E|            4|            1|\n|Czech Republic|Playoff Winner 3|            F|            F|            5|            5|\n|Czech Republic|          Turkey|            F|            F|            3|            5|\n|Czech Republic|        Portugal|            F|            F|            2|            3|\n|      Portugal|Playoff Winner 3|            F|            F|            2|            1|\n|      Portugal|          Turkey|            F|            F|            5|            1|\n|        Turkey|Playoff Winner 3|            F|            F|            4|            2|\n|       Albania|           Spain|            B|            B|            3|            4|\n|       Albania|           Italy|            B|            B|            2|            0|\n|       Albania|         Croatia|            B|            B|            3|            2|\n|       Croatia|           Spain|            B|            B|            5|            1|\n|       Croatia|           Italy|            B|            B|            5|            0|\n|       Austria|Playoff Winner 1|            D|            D|            0|            3|\n|       Austria|     Netherlands|            D|            D|            0|            2|\n|       Austria|          France|            D|            D|            5|            0|\n|        France|Playoff Winner 1|            D|            D|            4|            5|\n|        France|     Netherlands|            D|            D|            5|            3|\n|   Netherlands|Playoff Winner 1|            D|            D|            3|            2|\n|       Belgium|         Romania|            E|            E|            0|            5|\n|       Belgium|Playoff Winner 2|            E|            E|            2|            0|\n+--------------+----------------+-------------+-------------+-------------+-------------+\nonly showing top 20 rows\n\n"
     ]
    }
   ],
   "source": [
    "%python\n",
    "matches_df.show()"
   ]
  },
  {
   "cell_type": "code",
   "execution_count": 0,
   "metadata": {
    "application/vnd.databricks.v1+cell": {
     "cellMetadata": {
      "byteLimit": 2048000,
      "rowLimit": 10000
     },
     "inputWidgets": {},
     "nuid": "4eab290f-0943-4cbc-88e9-d6ceb05722c2",
     "showTitle": false,
     "title": ""
    }
   },
   "outputs": [],
   "source": [
    "%python\n",
    "\n",
    "\n",
    "## Calculate additional match statistics\n",
    "matches_with_stats_df = spark.sql(\"\"\"\n",
    "    SELECT \n",
    "        TeamName AS Team,\n",
    "        TeamGroup,\n",
    "        COUNT(*) AS Pld,\n",
    "        SUM(CASE WHEN HomeTeamGoals = AwayTeamGoals THEN 1 ELSE 0 END) AS D,\n",
    "        SUM(CASE WHEN HomeTeamGoals > AwayTeamGoals THEN 1 ELSE 0 END) AS W,\n",
    "        SUM(CASE WHEN HomeTeamGoals < AwayTeamGoals THEN 1 ELSE 0 END) AS L,\n",
    "        SUM(HomeTeamGoals) AS GF,\n",
    "        SUM(AwayTeamGoals) AS GA,\n",
    "        SUM(HomeTeamGoals) - SUM(AwayTeamGoals) AS GD,\n",
    "        SUM(\n",
    "            CASE \n",
    "                WHEN HomeTeamGoals > AwayTeamGoals THEN 3\n",
    "                WHEN HomeTeamGoals = AwayTeamGoals THEN 1\n",
    "                ELSE 0 \n",
    "            END\n",
    "        ) AS Pts\n",
    "      \n",
    "    FROM (\n",
    "        SELECT HomeTeam AS TeamName, HomeTeamGoals, AwayTeamGoals, HomeTeamGroup AS TeamGroup FROM matches_with_goals\n",
    "        UNION ALL\n",
    "        SELECT AwayTeam AS TeamName, AwayTeamGoals, HomeTeamGoals, AwayTeamGroup AS TeamGroup FROM matches_with_goals\n",
    "    )\n",
    "    GROUP BY TeamName, TeamGroup\n",
    "    ORDER BY Pts DESC, GD DESC\n",
    "\"\"\")\n"
   ]
  },
  {
   "cell_type": "code",
   "execution_count": 0,
   "metadata": {
    "application/vnd.databricks.v1+cell": {
     "cellMetadata": {
      "byteLimit": 2048000,
      "rowLimit": 10000
     },
     "inputWidgets": {},
     "nuid": "8deb4fda-6a10-40b0-bbb1-497e484f4b30",
     "showTitle": false,
     "title": ""
    }
   },
   "outputs": [
    {
     "output_type": "stream",
     "name": "stdout",
     "output_type": "stream",
     "text": [
      "+--------------+----------------+-------------+-------------+-------------+-------------+\n|      HomeTeam|        AwayTeam|HomeTeamGroup|AwayTeamGroup|HomeTeamGoals|AwayTeamGoals|\n+--------------+----------------+-------------+-------------+-------------+-------------+\n|      Slovakia|Playoff Winner 2|            E|            E|            4|            1|\n|Czech Republic|Playoff Winner 3|            F|            F|            5|            5|\n|Czech Republic|          Turkey|            F|            F|            3|            5|\n|Czech Republic|        Portugal|            F|            F|            2|            3|\n|      Portugal|Playoff Winner 3|            F|            F|            2|            1|\n|      Portugal|          Turkey|            F|            F|            5|            1|\n|        Turkey|Playoff Winner 3|            F|            F|            4|            2|\n|       Albania|           Spain|            B|            B|            3|            4|\n|       Albania|           Italy|            B|            B|            2|            0|\n|       Albania|         Croatia|            B|            B|            3|            2|\n|       Croatia|           Spain|            B|            B|            5|            1|\n|       Croatia|           Italy|            B|            B|            5|            0|\n|       Austria|Playoff Winner 1|            D|            D|            0|            3|\n|       Austria|     Netherlands|            D|            D|            0|            2|\n|       Austria|          France|            D|            D|            5|            0|\n|        France|Playoff Winner 1|            D|            D|            4|            5|\n|        France|     Netherlands|            D|            D|            5|            3|\n|   Netherlands|Playoff Winner 1|            D|            D|            3|            2|\n|       Belgium|         Romania|            E|            E|            0|            5|\n|       Belgium|Playoff Winner 2|            E|            E|            2|            0|\n+--------------+----------------+-------------+-------------+-------------+-------------+\nonly showing top 20 rows\n\n"
     ]
    }
   ],
   "source": [
    "%python\n",
    "matches_df.show()"
   ]
  },
  {
   "cell_type": "code",
   "execution_count": 0,
   "metadata": {
    "application/vnd.databricks.v1+cell": {
     "cellMetadata": {
      "byteLimit": 2048000,
      "rowLimit": 10000
     },
     "inputWidgets": {},
     "nuid": "af56a261-f3c7-4e75-9476-888d4c99a6d4",
     "showTitle": false,
     "title": ""
    }
   },
   "outputs": [],
   "source": [
    "%python\n",
    "# Create a window specification to partition by Group and order by Points and Goal Difference\n",
    "windowSpec = Window.partitionBy(matches_with_stats_df[\"TeamGroup\"]).orderBy(matches_with_stats_df[\"Pts\"].desc(), matches_with_stats_df[\"GD\"].desc())\n",
    "\n",
    "# Assign positions within each group\n",
    "matches_with_stats_df = matches_with_stats_df.withColumn(\"Pos\", row_number().over(windowSpec))\n",
    "\n",
    "# Display matches table with statistics and positions within each group\n",
    "# matches_with_stats_df.show()"
   ]
  },
  {
   "cell_type": "code",
   "execution_count": 0,
   "metadata": {
    "application/vnd.databricks.v1+cell": {
     "cellMetadata": {
      "byteLimit": 2048000,
      "rowLimit": 10000
     },
     "inputWidgets": {},
     "nuid": "79d333c9-8e49-4888-9178-6bfef98f4a11",
     "showTitle": false,
     "title": ""
    }
   },
   "outputs": [],
   "source": [
    "%python \n",
    "matches_with_stats_df.createOrReplaceTempView(\"match_table\");"
   ]
  },
  {
   "cell_type": "code",
   "execution_count": 0,
   "metadata": {
    "application/vnd.databricks.v1+cell": {
     "cellMetadata": {
      "byteLimit": 2048000,
      "implicitDf": true,
      "rowLimit": 10000
     },
     "inputWidgets": {},
     "nuid": "6829e1cb-5a8f-4162-bc47-39ab5fe015e8",
     "showTitle": false,
     "title": ""
    }
   },
   "outputs": [
    {
     "output_type": "display_data",
     "data": {
      "text/html": [
       "<style scoped>\n",
       "  .table-result-container {\n",
       "    max-height: 300px;\n",
       "    overflow: auto;\n",
       "  }\n",
       "  table, th, td {\n",
       "    border: 1px solid black;\n",
       "    border-collapse: collapse;\n",
       "  }\n",
       "  th, td {\n",
       "    padding: 5px;\n",
       "  }\n",
       "  th {\n",
       "    text-align: left;\n",
       "  }\n",
       "</style><div class='table-result-container'><table class='table-result'><thead style='background-color: white'><tr><th>Team</th><th>TeamGroup</th><th>Pld</th><th>D</th><th>W</th><th>L</th><th>GF</th><th>GA</th><th>GD</th><th>Pts</th><th>Pos</th></tr></thead><tbody><tr><td>Germany</td><td>A</td><td>3</td><td>0</td><td>2</td><td>1</td><td>7</td><td>6</td><td>1</td><td>6</td><td>1</td></tr><tr><td>Switzerland</td><td>A</td><td>3</td><td>0</td><td>1</td><td>2</td><td>6</td><td>8</td><td>-2</td><td>3</td><td>2</td></tr><tr><td>Scotland</td><td>A</td><td>3</td><td>0</td><td>1</td><td>2</td><td>4</td><td>8</td><td>-4</td><td>3</td><td>3</td></tr><tr><td>Hungary</td><td>A</td><td>3</td><td>1</td><td>0</td><td>2</td><td>5</td><td>10</td><td>-5</td><td>1</td><td>4</td></tr><tr><td>Croatia</td><td>B</td><td>3</td><td>0</td><td>2</td><td>1</td><td>11</td><td>6</td><td>5</td><td>6</td><td>1</td></tr><tr><td>Albania</td><td>B</td><td>3</td><td>0</td><td>2</td><td>1</td><td>8</td><td>6</td><td>2</td><td>6</td><td>2</td></tr><tr><td>Italy</td><td>B</td><td>3</td><td>0</td><td>1</td><td>2</td><td>4</td><td>5</td><td>-1</td><td>3</td><td>3</td></tr><tr><td>Spain</td><td>B</td><td>3</td><td>0</td><td>1</td><td>2</td><td>6</td><td>11</td><td>-5</td><td>3</td><td>4</td></tr><tr><td>Denmark</td><td>C</td><td>3</td><td>0</td><td>3</td><td>0</td><td>11</td><td>3</td><td>8</td><td>9</td><td>1</td></tr><tr><td>England</td><td>C</td><td>3</td><td>0</td><td>2</td><td>1</td><td>7</td><td>4</td><td>3</td><td>6</td><td>2</td></tr><tr><td>Serbia</td><td>C</td><td>3</td><td>0</td><td>2</td><td>1</td><td>7</td><td>7</td><td>0</td><td>6</td><td>3</td></tr><tr><td>Slovenia</td><td>C</td><td>3</td><td>0</td><td>1</td><td>2</td><td>3</td><td>6</td><td>-3</td><td>3</td><td>4</td></tr><tr><td>France</td><td>D</td><td>3</td><td>0</td><td>2</td><td>1</td><td>12</td><td>8</td><td>4</td><td>6</td><td>1</td></tr><tr><td>Netherlands</td><td>D</td><td>3</td><td>0</td><td>2</td><td>1</td><td>5</td><td>7</td><td>-2</td><td>6</td><td>2</td></tr><tr><td>Playoff Winner 1</td><td>D</td><td>3</td><td>0</td><td>1</td><td>2</td><td>5</td><td>4</td><td>1</td><td>3</td><td>3</td></tr><tr><td>Austria</td><td>D</td><td>3</td><td>0</td><td>1</td><td>2</td><td>5</td><td>5</td><td>0</td><td>3</td><td>4</td></tr><tr><td>Playoff Winner 2</td><td>E</td><td>3</td><td>0</td><td>3</td><td>0</td><td>10</td><td>6</td><td>4</td><td>9</td><td>1</td></tr><tr><td>Romania</td><td>E</td><td>3</td><td>0</td><td>2</td><td>1</td><td>7</td><td>6</td><td>1</td><td>6</td><td>2</td></tr><tr><td>Belgium</td><td>E</td><td>3</td><td>0</td><td>2</td><td>1</td><td>4</td><td>5</td><td>-1</td><td>6</td><td>3</td></tr><tr><td>Slovakia</td><td>E</td><td>3</td><td>1</td><td>1</td><td>1</td><td>10</td><td>10</td><td>0</td><td>4</td><td>4</td></tr><tr><td>Portugal</td><td>F</td><td>3</td><td>0</td><td>2</td><td>1</td><td>8</td><td>4</td><td>4</td><td>6</td><td>1</td></tr><tr><td>Playoff Winner 3</td><td>F</td><td>3</td><td>0</td><td>1</td><td>2</td><td>8</td><td>9</td><td>-1</td><td>3</td><td>2</td></tr><tr><td>Turkey</td><td>F</td><td>3</td><td>0</td><td>1</td><td>2</td><td>7</td><td>11</td><td>-4</td><td>3</td><td>3</td></tr><tr><td>Czech Republic</td><td>F</td><td>3</td><td>1</td><td>0</td><td>2</td><td>10</td><td>13</td><td>-3</td><td>1</td><td>4</td></tr></tbody></table></div>"
      ]
     },
     "metadata": {
      "application/vnd.databricks.v1+output": {
       "addedWidgets": {},
       "aggData": [],
       "aggError": "",
       "aggOverflow": false,
       "aggSchema": [],
       "aggSeriesLimitReached": false,
       "aggType": "",
       "arguments": {},
       "columnCustomDisplayInfos": {},
       "data": [
        [
         "Germany",
         "A",
         3,
         0,
         2,
         1,
         7,
         6,
         1,
         6,
         1
        ],
        [
         "Switzerland",
         "A",
         3,
         0,
         1,
         2,
         6,
         8,
         -2,
         3,
         2
        ],
        [
         "Scotland",
         "A",
         3,
         0,
         1,
         2,
         4,
         8,
         -4,
         3,
         3
        ],
        [
         "Hungary",
         "A",
         3,
         1,
         0,
         2,
         5,
         10,
         -5,
         1,
         4
        ],
        [
         "Croatia",
         "B",
         3,
         0,
         2,
         1,
         11,
         6,
         5,
         6,
         1
        ],
        [
         "Albania",
         "B",
         3,
         0,
         2,
         1,
         8,
         6,
         2,
         6,
         2
        ],
        [
         "Italy",
         "B",
         3,
         0,
         1,
         2,
         4,
         5,
         -1,
         3,
         3
        ],
        [
         "Spain",
         "B",
         3,
         0,
         1,
         2,
         6,
         11,
         -5,
         3,
         4
        ],
        [
         "Denmark",
         "C",
         3,
         0,
         3,
         0,
         11,
         3,
         8,
         9,
         1
        ],
        [
         "England",
         "C",
         3,
         0,
         2,
         1,
         7,
         4,
         3,
         6,
         2
        ],
        [
         "Serbia",
         "C",
         3,
         0,
         2,
         1,
         7,
         7,
         0,
         6,
         3
        ],
        [
         "Slovenia",
         "C",
         3,
         0,
         1,
         2,
         3,
         6,
         -3,
         3,
         4
        ],
        [
         "France",
         "D",
         3,
         0,
         2,
         1,
         12,
         8,
         4,
         6,
         1
        ],
        [
         "Netherlands",
         "D",
         3,
         0,
         2,
         1,
         5,
         7,
         -2,
         6,
         2
        ],
        [
         "Playoff Winner 1",
         "D",
         3,
         0,
         1,
         2,
         5,
         4,
         1,
         3,
         3
        ],
        [
         "Austria",
         "D",
         3,
         0,
         1,
         2,
         5,
         5,
         0,
         3,
         4
        ],
        [
         "Playoff Winner 2",
         "E",
         3,
         0,
         3,
         0,
         10,
         6,
         4,
         9,
         1
        ],
        [
         "Romania",
         "E",
         3,
         0,
         2,
         1,
         7,
         6,
         1,
         6,
         2
        ],
        [
         "Belgium",
         "E",
         3,
         0,
         2,
         1,
         4,
         5,
         -1,
         6,
         3
        ],
        [
         "Slovakia",
         "E",
         3,
         1,
         1,
         1,
         10,
         10,
         0,
         4,
         4
        ],
        [
         "Portugal",
         "F",
         3,
         0,
         2,
         1,
         8,
         4,
         4,
         6,
         1
        ],
        [
         "Playoff Winner 3",
         "F",
         3,
         0,
         1,
         2,
         8,
         9,
         -1,
         3,
         2
        ],
        [
         "Turkey",
         "F",
         3,
         0,
         1,
         2,
         7,
         11,
         -4,
         3,
         3
        ],
        [
         "Czech Republic",
         "F",
         3,
         1,
         0,
         2,
         10,
         13,
         -3,
         1,
         4
        ]
       ],
       "datasetInfos": [],
       "dbfsResultPath": null,
       "isJsonSchema": true,
       "metadata": {
        "isDbfsCommandResult": false
       },
       "overflow": false,
       "plotOptions": {
        "customPlotOptions": {},
        "displayType": "table",
        "pivotAggregation": null,
        "pivotColumns": null,
        "xColumns": null,
        "yColumns": null
       },
       "removedWidgets": [],
       "schema": [
        {
         "metadata": "{}",
         "name": "Team",
         "type": "\"string\""
        },
        {
         "metadata": "{}",
         "name": "TeamGroup",
         "type": "\"string\""
        },
        {
         "metadata": "{}",
         "name": "Pld",
         "type": "\"long\""
        },
        {
         "metadata": "{}",
         "name": "D",
         "type": "\"long\""
        },
        {
         "metadata": "{}",
         "name": "W",
         "type": "\"long\""
        },
        {
         "metadata": "{}",
         "name": "L",
         "type": "\"long\""
        },
        {
         "metadata": "{}",
         "name": "GF",
         "type": "\"long\""
        },
        {
         "metadata": "{}",
         "name": "GA",
         "type": "\"long\""
        },
        {
         "metadata": "{}",
         "name": "GD",
         "type": "\"long\""
        },
        {
         "metadata": "{}",
         "name": "Pts",
         "type": "\"long\""
        },
        {
         "metadata": "{}",
         "name": "Pos",
         "type": "\"integer\""
        }
       ],
       "type": "table"
      }
     },
     "output_type": "display_data"
    }
   ],
   "source": [
    "%sql\n",
    "SELECT * FROM match_table"
   ]
  },
  {
   "cell_type": "markdown",
   "metadata": {
    "application/vnd.databricks.v1+cell": {
     "cellMetadata": {
      "byteLimit": 2048000,
      "rowLimit": 10000
     },
     "inputWidgets": {},
     "nuid": "4bbdc3fe-4e0d-487b-ba26-90d68a364fbb",
     "showTitle": false,
     "title": ""
    }
   },
   "source": [
    "# Round of 16"
   ]
  },
  {
   "cell_type": "code",
   "execution_count": 0,
   "metadata": {
    "application/vnd.databricks.v1+cell": {
     "cellMetadata": {
      "byteLimit": 2048000,
      "implicitDf": true,
      "rowLimit": 10000
     },
     "inputWidgets": {},
     "nuid": "c7980f99-d9a8-47af-bc68-cedce8ad25f2",
     "showTitle": false,
     "title": ""
    }
   },
   "outputs": [
    {
     "output_type": "display_data",
     "data": {
      "text/html": [
       "<style scoped>\n",
       "  .table-result-container {\n",
       "    max-height: 300px;\n",
       "    overflow: auto;\n",
       "  }\n",
       "  table, th, td {\n",
       "    border: 1px solid black;\n",
       "    border-collapse: collapse;\n",
       "  }\n",
       "  th, td {\n",
       "    padding: 5px;\n",
       "  }\n",
       "  th {\n",
       "    text-align: left;\n",
       "  }\n",
       "</style><div class='table-result-container'><table class='table-result'><thead style='background-color: white'><tr></tr></thead><tbody></tbody></table></div>"
      ]
     },
     "metadata": {
      "application/vnd.databricks.v1+output": {
       "addedWidgets": {},
       "aggData": [],
       "aggError": "",
       "aggOverflow": false,
       "aggSchema": [],
       "aggSeriesLimitReached": false,
       "aggType": "",
       "arguments": {},
       "columnCustomDisplayInfos": {},
       "data": [],
       "datasetInfos": [],
       "dbfsResultPath": null,
       "isJsonSchema": true,
       "metadata": {
        "isDbfsCommandResult": false
       },
       "overflow": false,
       "plotOptions": {
        "customPlotOptions": {},
        "displayType": "table",
        "pivotAggregation": null,
        "pivotColumns": null,
        "xColumns": null,
        "yColumns": null
       },
       "removedWidgets": [],
       "schema": [],
       "type": "table"
      }
     },
     "output_type": "display_data"
    }
   ],
   "source": [
    "%sql\n",
    "CREATE TABLE Combinations1 (\n",
    "  ID INTEGER,\n",
    "  GroupId VARCHAR(4),\n",
    "  Team1B CHAR(1),\n",
    "  Team1C CHAR(1),\n",
    "  Team1E CHAR(1),\n",
    "  Team1F CHAR(1)\n",
    ");"
   ]
  },
  {
   "cell_type": "code",
   "execution_count": 0,
   "metadata": {
    "application/vnd.databricks.v1+cell": {
     "cellMetadata": {
      "byteLimit": 2048000,
      "implicitDf": true,
      "rowLimit": 10000
     },
     "inputWidgets": {},
     "nuid": "a908c559-7eac-4958-8bd2-af4931e01043",
     "showTitle": false,
     "title": ""
    }
   },
   "outputs": [
    {
     "output_type": "display_data",
     "data": {
      "text/html": [
       "<style scoped>\n",
       "  .table-result-container {\n",
       "    max-height: 300px;\n",
       "    overflow: auto;\n",
       "  }\n",
       "  table, th, td {\n",
       "    border: 1px solid black;\n",
       "    border-collapse: collapse;\n",
       "  }\n",
       "  th, td {\n",
       "    padding: 5px;\n",
       "  }\n",
       "  th {\n",
       "    text-align: left;\n",
       "  }\n",
       "</style><div class='table-result-container'><table class='table-result'><thead style='background-color: white'><tr><th>num_affected_rows</th><th>num_inserted_rows</th></tr></thead><tbody><tr><td>15</td><td>15</td></tr></tbody></table></div>"
      ]
     },
     "metadata": {
      "application/vnd.databricks.v1+output": {
       "addedWidgets": {},
       "aggData": [],
       "aggError": "",
       "aggOverflow": false,
       "aggSchema": [],
       "aggSeriesLimitReached": false,
       "aggType": "",
       "arguments": {},
       "columnCustomDisplayInfos": {},
       "data": [
        [
         15,
         15
        ]
       ],
       "datasetInfos": [],
       "dbfsResultPath": null,
       "isJsonSchema": true,
       "metadata": {
        "isDbfsCommandResult": false
       },
       "overflow": false,
       "plotOptions": {
        "customPlotOptions": {},
        "displayType": "table",
        "pivotAggregation": null,
        "pivotColumns": null,
        "xColumns": null,
        "yColumns": null
       },
       "removedWidgets": [],
       "schema": [
        {
         "metadata": "{}",
         "name": "num_affected_rows",
         "type": "\"long\""
        },
        {
         "metadata": "{}",
         "name": "num_inserted_rows",
         "type": "\"long\""
        }
       ],
       "type": "table"
      }
     },
     "output_type": "display_data"
    }
   ],
   "source": [
    "%sql\n",
    "\n",
    "\n",
    "INSERT INTO Combinations1 (ID, GroupId, Team1B, Team1C, Team1E, Team1F) VALUES\n",
    "(1, 'ABCD', 'A', 'D', 'B', 'C'),\n",
    "(2, 'ABCE', 'A', 'E', 'B', 'C'),\n",
    "(3, 'ABCF', 'A', 'F', 'B', 'C'),\n",
    "(4, 'ABDE', 'D', 'E', 'A', 'B'),\n",
    "(5, 'ABDF', 'D', 'F', 'A', 'B'),\n",
    "(6, 'ABEF', 'E', 'F', 'B', 'A'),\n",
    "(7, 'ACDE', 'E', 'D', 'C', 'A'),\n",
    "(8, 'ACDF', 'F', 'D', 'C', 'A'),\n",
    "(9, 'ACEF', 'E', 'F', 'C', 'A'),\n",
    "(10, 'ADEF', 'E', 'F', 'D', 'A'),\n",
    "(11, 'BCDE', 'E', 'D', 'B', 'C'),\n",
    "(12, 'BCDF', 'F', 'D', 'C', 'B'),\n",
    "(13, 'BCEF', 'F', 'E', 'C', 'B'),\n",
    "(14, 'BDEF', 'F', 'E', 'D', 'B'),\n",
    "(15, 'CDEF', 'F', 'E', 'D', 'C');\n",
    "\n",
    "\n",
    "-- select * from Combinations1"
   ]
  },
  {
   "cell_type": "code",
   "execution_count": 0,
   "metadata": {
    "application/vnd.databricks.v1+cell": {
     "cellMetadata": {
      "byteLimit": 2048000,
      "implicitDf": true,
      "rowLimit": 10000
     },
     "inputWidgets": {},
     "nuid": "5cdc03db-8a59-4eb4-9b30-a08ce67899c6",
     "showTitle": false,
     "title": ""
    }
   },
   "outputs": [
    {
     "output_type": "display_data",
     "data": {
      "text/html": [
       "<style scoped>\n",
       "  .table-result-container {\n",
       "    max-height: 300px;\n",
       "    overflow: auto;\n",
       "  }\n",
       "  table, th, td {\n",
       "    border: 1px solid black;\n",
       "    border-collapse: collapse;\n",
       "  }\n",
       "  th, td {\n",
       "    padding: 5px;\n",
       "  }\n",
       "  th {\n",
       "    text-align: left;\n",
       "  }\n",
       "</style><div class='table-result-container'><table class='table-result'><thead style='background-color: white'><tr><th>Team</th><th>TeamGroup</th><th>Pld</th><th>D</th><th>W</th><th>L</th><th>GF</th><th>GA</th><th>GD</th><th>Pts</th><th>Pos</th></tr></thead><tbody><tr><td>Germany</td><td>A</td><td>3</td><td>0</td><td>2</td><td>1</td><td>7</td><td>6</td><td>1</td><td>6</td><td>1</td></tr><tr><td>Switzerland</td><td>A</td><td>3</td><td>0</td><td>1</td><td>2</td><td>6</td><td>8</td><td>-2</td><td>3</td><td>2</td></tr><tr><td>Scotland</td><td>A</td><td>3</td><td>0</td><td>1</td><td>2</td><td>4</td><td>8</td><td>-4</td><td>3</td><td>3</td></tr><tr><td>Hungary</td><td>A</td><td>3</td><td>1</td><td>0</td><td>2</td><td>5</td><td>10</td><td>-5</td><td>1</td><td>4</td></tr><tr><td>Croatia</td><td>B</td><td>3</td><td>0</td><td>2</td><td>1</td><td>11</td><td>6</td><td>5</td><td>6</td><td>1</td></tr><tr><td>Albania</td><td>B</td><td>3</td><td>0</td><td>2</td><td>1</td><td>8</td><td>6</td><td>2</td><td>6</td><td>2</td></tr><tr><td>Italy</td><td>B</td><td>3</td><td>0</td><td>1</td><td>2</td><td>4</td><td>5</td><td>-1</td><td>3</td><td>3</td></tr><tr><td>Spain</td><td>B</td><td>3</td><td>0</td><td>1</td><td>2</td><td>6</td><td>11</td><td>-5</td><td>3</td><td>4</td></tr><tr><td>Denmark</td><td>C</td><td>3</td><td>0</td><td>3</td><td>0</td><td>11</td><td>3</td><td>8</td><td>9</td><td>1</td></tr><tr><td>England</td><td>C</td><td>3</td><td>0</td><td>2</td><td>1</td><td>7</td><td>4</td><td>3</td><td>6</td><td>2</td></tr><tr><td>Serbia</td><td>C</td><td>3</td><td>0</td><td>2</td><td>1</td><td>7</td><td>7</td><td>0</td><td>6</td><td>3</td></tr><tr><td>Slovenia</td><td>C</td><td>3</td><td>0</td><td>1</td><td>2</td><td>3</td><td>6</td><td>-3</td><td>3</td><td>4</td></tr><tr><td>France</td><td>D</td><td>3</td><td>0</td><td>2</td><td>1</td><td>12</td><td>8</td><td>4</td><td>6</td><td>1</td></tr><tr><td>Netherlands</td><td>D</td><td>3</td><td>0</td><td>2</td><td>1</td><td>5</td><td>7</td><td>-2</td><td>6</td><td>2</td></tr><tr><td>Playoff Winner 1</td><td>D</td><td>3</td><td>0</td><td>1</td><td>2</td><td>5</td><td>4</td><td>1</td><td>3</td><td>3</td></tr><tr><td>Austria</td><td>D</td><td>3</td><td>0</td><td>1</td><td>2</td><td>5</td><td>5</td><td>0</td><td>3</td><td>4</td></tr><tr><td>Playoff Winner 2</td><td>E</td><td>3</td><td>0</td><td>3</td><td>0</td><td>10</td><td>6</td><td>4</td><td>9</td><td>1</td></tr><tr><td>Romania</td><td>E</td><td>3</td><td>0</td><td>2</td><td>1</td><td>7</td><td>6</td><td>1</td><td>6</td><td>2</td></tr><tr><td>Belgium</td><td>E</td><td>3</td><td>0</td><td>2</td><td>1</td><td>4</td><td>5</td><td>-1</td><td>6</td><td>3</td></tr><tr><td>Slovakia</td><td>E</td><td>3</td><td>1</td><td>1</td><td>1</td><td>10</td><td>10</td><td>0</td><td>4</td><td>4</td></tr><tr><td>Portugal</td><td>F</td><td>3</td><td>0</td><td>2</td><td>1</td><td>8</td><td>4</td><td>4</td><td>6</td><td>1</td></tr><tr><td>Playoff Winner 3</td><td>F</td><td>3</td><td>0</td><td>1</td><td>2</td><td>8</td><td>9</td><td>-1</td><td>3</td><td>2</td></tr><tr><td>Turkey</td><td>F</td><td>3</td><td>0</td><td>1</td><td>2</td><td>7</td><td>11</td><td>-4</td><td>3</td><td>3</td></tr><tr><td>Czech Republic</td><td>F</td><td>3</td><td>1</td><td>0</td><td>2</td><td>10</td><td>13</td><td>-3</td><td>1</td><td>4</td></tr></tbody></table></div>"
      ]
     },
     "metadata": {
      "application/vnd.databricks.v1+output": {
       "addedWidgets": {},
       "aggData": [],
       "aggError": "",
       "aggOverflow": false,
       "aggSchema": [],
       "aggSeriesLimitReached": false,
       "aggType": "",
       "arguments": {},
       "columnCustomDisplayInfos": {},
       "data": [
        [
         "Germany",
         "A",
         3,
         0,
         2,
         1,
         7,
         6,
         1,
         6,
         1
        ],
        [
         "Switzerland",
         "A",
         3,
         0,
         1,
         2,
         6,
         8,
         -2,
         3,
         2
        ],
        [
         "Scotland",
         "A",
         3,
         0,
         1,
         2,
         4,
         8,
         -4,
         3,
         3
        ],
        [
         "Hungary",
         "A",
         3,
         1,
         0,
         2,
         5,
         10,
         -5,
         1,
         4
        ],
        [
         "Croatia",
         "B",
         3,
         0,
         2,
         1,
         11,
         6,
         5,
         6,
         1
        ],
        [
         "Albania",
         "B",
         3,
         0,
         2,
         1,
         8,
         6,
         2,
         6,
         2
        ],
        [
         "Italy",
         "B",
         3,
         0,
         1,
         2,
         4,
         5,
         -1,
         3,
         3
        ],
        [
         "Spain",
         "B",
         3,
         0,
         1,
         2,
         6,
         11,
         -5,
         3,
         4
        ],
        [
         "Denmark",
         "C",
         3,
         0,
         3,
         0,
         11,
         3,
         8,
         9,
         1
        ],
        [
         "England",
         "C",
         3,
         0,
         2,
         1,
         7,
         4,
         3,
         6,
         2
        ],
        [
         "Serbia",
         "C",
         3,
         0,
         2,
         1,
         7,
         7,
         0,
         6,
         3
        ],
        [
         "Slovenia",
         "C",
         3,
         0,
         1,
         2,
         3,
         6,
         -3,
         3,
         4
        ],
        [
         "France",
         "D",
         3,
         0,
         2,
         1,
         12,
         8,
         4,
         6,
         1
        ],
        [
         "Netherlands",
         "D",
         3,
         0,
         2,
         1,
         5,
         7,
         -2,
         6,
         2
        ],
        [
         "Playoff Winner 1",
         "D",
         3,
         0,
         1,
         2,
         5,
         4,
         1,
         3,
         3
        ],
        [
         "Austria",
         "D",
         3,
         0,
         1,
         2,
         5,
         5,
         0,
         3,
         4
        ],
        [
         "Playoff Winner 2",
         "E",
         3,
         0,
         3,
         0,
         10,
         6,
         4,
         9,
         1
        ],
        [
         "Romania",
         "E",
         3,
         0,
         2,
         1,
         7,
         6,
         1,
         6,
         2
        ],
        [
         "Belgium",
         "E",
         3,
         0,
         2,
         1,
         4,
         5,
         -1,
         6,
         3
        ],
        [
         "Slovakia",
         "E",
         3,
         1,
         1,
         1,
         10,
         10,
         0,
         4,
         4
        ],
        [
         "Portugal",
         "F",
         3,
         0,
         2,
         1,
         8,
         4,
         4,
         6,
         1
        ],
        [
         "Playoff Winner 3",
         "F",
         3,
         0,
         1,
         2,
         8,
         9,
         -1,
         3,
         2
        ],
        [
         "Turkey",
         "F",
         3,
         0,
         1,
         2,
         7,
         11,
         -4,
         3,
         3
        ],
        [
         "Czech Republic",
         "F",
         3,
         1,
         0,
         2,
         10,
         13,
         -3,
         1,
         4
        ]
       ],
       "datasetInfos": [],
       "dbfsResultPath": null,
       "isJsonSchema": true,
       "metadata": {
        "isDbfsCommandResult": false
       },
       "overflow": false,
       "plotOptions": {
        "customPlotOptions": {},
        "displayType": "table",
        "pivotAggregation": null,
        "pivotColumns": null,
        "xColumns": null,
        "yColumns": null
       },
       "removedWidgets": [],
       "schema": [
        {
         "metadata": "{}",
         "name": "Team",
         "type": "\"string\""
        },
        {
         "metadata": "{}",
         "name": "TeamGroup",
         "type": "\"string\""
        },
        {
         "metadata": "{}",
         "name": "Pld",
         "type": "\"long\""
        },
        {
         "metadata": "{}",
         "name": "D",
         "type": "\"long\""
        },
        {
         "metadata": "{}",
         "name": "W",
         "type": "\"long\""
        },
        {
         "metadata": "{}",
         "name": "L",
         "type": "\"long\""
        },
        {
         "metadata": "{}",
         "name": "GF",
         "type": "\"long\""
        },
        {
         "metadata": "{}",
         "name": "GA",
         "type": "\"long\""
        },
        {
         "metadata": "{}",
         "name": "GD",
         "type": "\"long\""
        },
        {
         "metadata": "{}",
         "name": "Pts",
         "type": "\"long\""
        },
        {
         "metadata": "{}",
         "name": "Pos",
         "type": "\"integer\""
        }
       ],
       "type": "table"
      }
     },
     "output_type": "display_data"
    }
   ],
   "source": [
    "%sql\n",
    "SELECT * FROM match_table"
   ]
  },
  {
   "cell_type": "code",
   "execution_count": 0,
   "metadata": {
    "application/vnd.databricks.v1+cell": {
     "cellMetadata": {
      "byteLimit": 2048000,
      "implicitDf": true,
      "rowLimit": 10000
     },
     "inputWidgets": {},
     "nuid": "2a9405d1-af08-44b9-8492-7b784f08c017",
     "showTitle": false,
     "title": ""
    }
   },
   "outputs": [
    {
     "output_type": "display_data",
     "data": {
      "text/html": [
       "<style scoped>\n",
       "  .table-result-container {\n",
       "    max-height: 300px;\n",
       "    overflow: auto;\n",
       "  }\n",
       "  table, th, td {\n",
       "    border: 1px solid black;\n",
       "    border-collapse: collapse;\n",
       "  }\n",
       "  th, td {\n",
       "    padding: 5px;\n",
       "  }\n",
       "  th {\n",
       "    text-align: left;\n",
       "  }\n",
       "</style><div class='table-result-container'><table class='table-result'><thead style='background-color: white'><tr></tr></thead><tbody></tbody></table></div>"
      ]
     },
     "metadata": {
      "application/vnd.databricks.v1+output": {
       "addedWidgets": {},
       "aggData": [],
       "aggError": "",
       "aggOverflow": false,
       "aggSchema": [],
       "aggSeriesLimitReached": false,
       "aggType": "",
       "arguments": {},
       "columnCustomDisplayInfos": {},
       "data": [],
       "datasetInfos": [],
       "dbfsResultPath": null,
       "isJsonSchema": true,
       "metadata": {
        "isDbfsCommandResult": false
       },
       "overflow": false,
       "plotOptions": {
        "customPlotOptions": {},
        "displayType": "table",
        "pivotAggregation": null,
        "pivotColumns": null,
        "xColumns": null,
        "yColumns": null
       },
       "removedWidgets": [],
       "schema": [],
       "type": "table"
      }
     },
     "output_type": "display_data"
    }
   ],
   "source": [
    "%sql\n",
    "CREATE TABLE ro16(\n",
    "  MID INT,\n",
    "  Team1 VARCHAR(25),\n",
    "  Team2 VARCHAR(25)\n",
    ");\n"
   ]
  },
  {
   "cell_type": "code",
   "execution_count": 0,
   "metadata": {
    "application/vnd.databricks.v1+cell": {
     "cellMetadata": {
      "byteLimit": 2048000,
      "implicitDf": true,
      "rowLimit": 10000
     },
     "inputWidgets": {},
     "nuid": "e15e133f-cd11-4fae-accc-0c1d9f8e9f73",
     "showTitle": false,
     "title": ""
    }
   },
   "outputs": [
    {
     "output_type": "display_data",
     "data": {
      "text/html": [
       "<style scoped>\n",
       "  .table-result-container {\n",
       "    max-height: 300px;\n",
       "    overflow: auto;\n",
       "  }\n",
       "  table, th, td {\n",
       "    border: 1px solid black;\n",
       "    border-collapse: collapse;\n",
       "  }\n",
       "  th, td {\n",
       "    padding: 5px;\n",
       "  }\n",
       "  th {\n",
       "    text-align: left;\n",
       "  }\n",
       "</style><div class='table-result-container'><table class='table-result'><thead style='background-color: white'><tr><th>num_affected_rows</th><th>num_inserted_rows</th></tr></thead><tbody><tr><td>8</td><td>8</td></tr></tbody></table></div>"
      ]
     },
     "metadata": {
      "application/vnd.databricks.v1+output": {
       "addedWidgets": {},
       "aggData": [],
       "aggError": "",
       "aggOverflow": false,
       "aggSchema": [],
       "aggSeriesLimitReached": false,
       "aggType": "",
       "arguments": {},
       "columnCustomDisplayInfos": {},
       "data": [
        [
         8,
         8
        ]
       ],
       "datasetInfos": [],
       "dbfsResultPath": null,
       "isJsonSchema": true,
       "metadata": {
        "isDbfsCommandResult": false
       },
       "overflow": false,
       "plotOptions": {
        "customPlotOptions": {},
        "displayType": "table",
        "pivotAggregation": null,
        "pivotColumns": null,
        "xColumns": null,
        "yColumns": null
       },
       "removedWidgets": [],
       "schema": [
        {
         "metadata": "{}",
         "name": "num_affected_rows",
         "type": "\"long\""
        },
        {
         "metadata": "{}",
         "name": "num_inserted_rows",
         "type": "\"long\""
        }
       ],
       "type": "table"
      }
     },
     "output_type": "display_data"
    }
   ],
   "source": [
    "%sql\n",
    "WITH third_guys AS (\n",
    "    SELECT \n",
    "        TeamGroup,\n",
    "        ROW_NUMBER() OVER (ORDER BY Pts, GD) AS rank \n",
    "    FROM \n",
    "        match_table \n",
    "    WHERE \n",
    "        pos = 3 \n",
    "    LIMIT 4\n",
    "),\n",
    "GrpConcat AS (\n",
    "    SELECT \n",
    "         CONCAT_WS('', sort_array(COLLECT_LIST(TeamGroup))) AS grp\n",
    "    FROM \n",
    "        third_guys \n",
    "),\n",
    "combo AS (\n",
    "    SELECT * \n",
    "    FROM combinations1 \n",
    "    WHERE GroupId = (SELECT grp FROM GrpConcat)\n",
    ")\n",
    "\n",
    "INSERT INTO ro16 (\n",
    "    SELECT 1 AS Mid,\n",
    "        (SELECT Team FROM match_table WHERE Pos = 1 AND TeamGroup = 'B') as Team1B,\n",
    "        (SELECT Team FROM match_table WHERE Pos = 3 AND TeamGroup = (SELECT Team1B FROM combo)) as Team2B\n",
    "    UNION ALL\n",
    "    SELECT 2 as Mid,\n",
    "        (SELECT Team FROM match_table WHERE Pos = 1 AND TeamGroup = 'A') as Team1A,\n",
    "        (SELECT Team FROM match_table WHERE Pos = 2 AND TeamGroup = 'C') as Team2C\n",
    "    UNION ALL\n",
    "    SELECT 3 AS Mid,\n",
    "        (SELECT Team FROM match_table WHERE Pos = 1 AND TeamGroup = 'F') as Team1F,\n",
    "        (SELECT Team FROM match_table WHERE Pos = 3 AND TeamGroup = (SELECT Team1F FROM combo)) as Team2F\n",
    "    UNION ALL\n",
    "    SELECT 4 as Mid,\n",
    "        (SELECT Team FROM match_table WHERE Pos = 2 AND TeamGroup = 'D') as Team1D,\n",
    "        (SELECT Team FROM match_table WHERE Pos = 2 AND TeamGroup = 'E') as Team2E\n",
    "    UNION ALL\n",
    "    SELECT 5 AS Mid,\n",
    "        (SELECT Team FROM match_table WHERE Pos = 1 AND TeamGroup = 'E') as Team1E,\n",
    "        (SELECT Team FROM match_table WHERE Pos = 3 AND TeamGroup = (SELECT Team1E FROM combo)) as Team2E\n",
    "    UNION ALL\n",
    "    SELECT 6 as Mid,\n",
    "        (SELECT Team FROM match_table WHERE Pos = 1 AND TeamGroup = 'D') as Team1D,\n",
    "        (SELECT Team FROM match_table WHERE Pos = 2 AND TeamGroup = 'F') as Team2F\n",
    "    UNION ALL\n",
    "    SELECT 7 AS Mid,\n",
    "        (SELECT Team FROM match_table WHERE Pos = 1 AND TeamGroup = 'C') as Team1C,\n",
    "        (SELECT Team FROM match_table WHERE Pos = 3 AND TeamGroup = (SELECT Team1C FROM combo)) as Team2C\n",
    "    UNION ALL\n",
    "    SELECT 8 as Mid,\n",
    "        (SELECT Team FROM match_table WHERE Pos = 2 AND TeamGroup = 'A') as Team2A,\n",
    "        (SELECT Team FROM match_table WHERE Pos = 2 AND TeamGroup = 'B') as Team2B\n",
    "    FROM combo\n",
    ");\n"
   ]
  },
  {
   "cell_type": "code",
   "execution_count": 0,
   "metadata": {
    "application/vnd.databricks.v1+cell": {
     "cellMetadata": {
      "byteLimit": 2048000,
      "implicitDf": true,
      "rowLimit": 10000
     },
     "inputWidgets": {},
     "nuid": "67463cf4-4e5a-4c44-8f15-f53fea189ef4",
     "showTitle": false,
     "title": ""
    }
   },
   "outputs": [
    {
     "output_type": "display_data",
     "data": {
      "text/html": [
       "<style scoped>\n",
       "  .table-result-container {\n",
       "    max-height: 300px;\n",
       "    overflow: auto;\n",
       "  }\n",
       "  table, th, td {\n",
       "    border: 1px solid black;\n",
       "    border-collapse: collapse;\n",
       "  }\n",
       "  th, td {\n",
       "    padding: 5px;\n",
       "  }\n",
       "  th {\n",
       "    text-align: left;\n",
       "  }\n",
       "</style><div class='table-result-container'><table class='table-result'><thead style='background-color: white'><tr><th>MID</th><th>Team1</th><th>Team2</th></tr></thead><tbody><tr><td>1</td><td>Croatia</td><td>Playoff Winner 1</td></tr><tr><td>2</td><td>Germany</td><td>England</td></tr><tr><td>3</td><td>Portugal</td><td>Italy</td></tr><tr><td>4</td><td>Netherlands</td><td>Romania</td></tr><tr><td>5</td><td>Playoff Winner 2</td><td>Scotland</td></tr><tr><td>6</td><td>France</td><td>Playoff Winner 3</td></tr><tr><td>7</td><td>Denmark</td><td>Turkey</td></tr><tr><td>8</td><td>Switzerland</td><td>Albania</td></tr></tbody></table></div>"
      ]
     },
     "metadata": {
      "application/vnd.databricks.v1+output": {
       "addedWidgets": {},
       "aggData": [],
       "aggError": "",
       "aggOverflow": false,
       "aggSchema": [],
       "aggSeriesLimitReached": false,
       "aggType": "",
       "arguments": {},
       "columnCustomDisplayInfos": {},
       "data": [
        [
         1,
         "Croatia",
         "Playoff Winner 1"
        ],
        [
         2,
         "Germany",
         "England"
        ],
        [
         3,
         "Portugal",
         "Italy"
        ],
        [
         4,
         "Netherlands",
         "Romania"
        ],
        [
         5,
         "Playoff Winner 2",
         "Scotland"
        ],
        [
         6,
         "France",
         "Playoff Winner 3"
        ],
        [
         7,
         "Denmark",
         "Turkey"
        ],
        [
         8,
         "Switzerland",
         "Albania"
        ]
       ],
       "datasetInfos": [],
       "dbfsResultPath": null,
       "isJsonSchema": true,
       "metadata": {
        "isDbfsCommandResult": false
       },
       "overflow": false,
       "plotOptions": {
        "customPlotOptions": {},
        "displayType": "table",
        "pivotAggregation": null,
        "pivotColumns": null,
        "xColumns": null,
        "yColumns": null
       },
       "removedWidgets": [],
       "schema": [
        {
         "metadata": "{}",
         "name": "MID",
         "type": "\"integer\""
        },
        {
         "metadata": "{\"__CHAR_VARCHAR_TYPE_STRING\":\"varchar(25)\"}",
         "name": "Team1",
         "type": "\"string\""
        },
        {
         "metadata": "{\"__CHAR_VARCHAR_TYPE_STRING\":\"varchar(25)\"}",
         "name": "Team2",
         "type": "\"string\""
        }
       ],
       "type": "table"
      }
     },
     "output_type": "display_data"
    }
   ],
   "source": [
    "%sql\n",
    "SELECT * FROM ro16 ORDER BY MID"
   ]
  },
  {
   "cell_type": "code",
   "execution_count": 0,
   "metadata": {
    "application/vnd.databricks.v1+cell": {
     "cellMetadata": {
      "byteLimit": 2048000,
      "implicitDf": true,
      "rowLimit": 10000
     },
     "inputWidgets": {},
     "nuid": "dc0af817-dff8-44dd-aa0b-547e87c6de13",
     "showTitle": false,
     "title": ""
    }
   },
   "outputs": [
    {
     "output_type": "display_data",
     "data": {
      "text/html": [
       "<style scoped>\n",
       "  .table-result-container {\n",
       "    max-height: 300px;\n",
       "    overflow: auto;\n",
       "  }\n",
       "  table, th, td {\n",
       "    border: 1px solid black;\n",
       "    border-collapse: collapse;\n",
       "  }\n",
       "  th, td {\n",
       "    padding: 5px;\n",
       "  }\n",
       "  th {\n",
       "    text-align: left;\n",
       "  }\n",
       "</style><div class='table-result-container'><table class='table-result'><thead style='background-color: white'><tr></tr></thead><tbody></tbody></table></div>"
      ]
     },
     "metadata": {
      "application/vnd.databricks.v1+output": {
       "addedWidgets": {},
       "aggData": [],
       "aggError": "",
       "aggOverflow": false,
       "aggSchema": [],
       "aggSeriesLimitReached": false,
       "aggType": "",
       "arguments": {},
       "columnCustomDisplayInfos": {},
       "data": [],
       "datasetInfos": [],
       "dbfsResultPath": null,
       "isJsonSchema": true,
       "metadata": {
        "isDbfsCommandResult": false
       },
       "overflow": false,
       "plotOptions": {
        "customPlotOptions": {},
        "displayType": "table",
        "pivotAggregation": null,
        "pivotColumns": null,
        "xColumns": null,
        "yColumns": null
       },
       "removedWidgets": [],
       "schema": [],
       "type": "table"
      }
     },
     "output_type": "display_data"
    }
   ],
   "source": [
    "%sql\n",
    "\n",
    "CREATE TABLE pgs_matches (\n",
    "    Match STRING,\n",
    "    Team1 VARCHAR(50),\n",
    "    Team2 VARCHAR(50),\n",
    "    Team1Goals INT,\n",
    "    Team2Goals INT,\n",
    "    Winner VARCHAR(50)\n",
    ");"
   ]
  },
  {
   "cell_type": "code",
   "execution_count": 0,
   "metadata": {
    "application/vnd.databricks.v1+cell": {
     "cellMetadata": {
      "byteLimit": 2048000,
      "implicitDf": true,
      "rowLimit": 10000
     },
     "inputWidgets": {},
     "nuid": "015af733-b684-4ec6-a404-b884283e261e",
     "showTitle": false,
     "title": ""
    }
   },
   "outputs": [
    {
     "output_type": "display_data",
     "data": {
      "text/html": [
       "<style scoped>\n",
       "  .table-result-container {\n",
       "    max-height: 300px;\n",
       "    overflow: auto;\n",
       "  }\n",
       "  table, th, td {\n",
       "    border: 1px solid black;\n",
       "    border-collapse: collapse;\n",
       "  }\n",
       "  th, td {\n",
       "    padding: 5px;\n",
       "  }\n",
       "  th {\n",
       "    text-align: left;\n",
       "  }\n",
       "</style><div class='table-result-container'><table class='table-result'><thead style='background-color: white'><tr><th>num_affected_rows</th><th>num_inserted_rows</th></tr></thead><tbody><tr><td>8</td><td>8</td></tr></tbody></table></div>"
      ]
     },
     "metadata": {
      "application/vnd.databricks.v1+output": {
       "addedWidgets": {},
       "aggData": [],
       "aggError": "",
       "aggOverflow": false,
       "aggSchema": [],
       "aggSeriesLimitReached": false,
       "aggType": "",
       "arguments": {},
       "columnCustomDisplayInfos": {},
       "data": [
        [
         8,
         8
        ]
       ],
       "datasetInfos": [],
       "dbfsResultPath": null,
       "isJsonSchema": true,
       "metadata": {
        "isDbfsCommandResult": false
       },
       "overflow": false,
       "plotOptions": {
        "customPlotOptions": {},
        "displayType": "table",
        "pivotAggregation": null,
        "pivotColumns": null,
        "xColumns": null,
        "yColumns": null
       },
       "removedWidgets": [],
       "schema": [
        {
         "metadata": "{}",
         "name": "num_affected_rows",
         "type": "\"long\""
        },
        {
         "metadata": "{}",
         "name": "num_inserted_rows",
         "type": "\"long\""
        }
       ],
       "type": "table"
      }
     },
     "output_type": "display_data"
    }
   ],
   "source": [
    "%sql\n",
    "\n",
    "INSERT INTO pgs_matches (\n",
    "    SELECT\n",
    "        \"RS \" || ROW_NUMBER() OVER (ORDER BY MID) AS Match,\n",
    "        Team1 AS Team1,\n",
    "        Team2 AS Team2,\n",
    "        FLOOR(rand() * 5) AS Team1Goals,\n",
    "        FLOOR(rand() * 5) AS Team2Goals,\n",
    "        CASE\n",
    "            WHEN Team1Goals > Team2Goals THEN Team1\n",
    "            WHEN Team2Goals > Team1Goals THEN Team2\n",
    "            ELSE CASE WHEN rand() > 0.5 THEN Team1 ELSE Team2 END\n",
    "        END AS Winner\n",
    "    FROM ro16\n",
    ");\n"
   ]
  },
  {
   "cell_type": "code",
   "execution_count": 0,
   "metadata": {
    "application/vnd.databricks.v1+cell": {
     "cellMetadata": {
      "byteLimit": 2048000,
      "implicitDf": true,
      "rowLimit": 10000
     },
     "inputWidgets": {},
     "nuid": "11c8f177-191c-4bbb-b3f1-84e0a2e5ff19",
     "showTitle": false,
     "title": ""
    }
   },
   "outputs": [
    {
     "output_type": "display_data",
     "data": {
      "text/html": [
       "<style scoped>\n",
       "  .table-result-container {\n",
       "    max-height: 300px;\n",
       "    overflow: auto;\n",
       "  }\n",
       "  table, th, td {\n",
       "    border: 1px solid black;\n",
       "    border-collapse: collapse;\n",
       "  }\n",
       "  th, td {\n",
       "    padding: 5px;\n",
       "  }\n",
       "  th {\n",
       "    text-align: left;\n",
       "  }\n",
       "</style><div class='table-result-container'><table class='table-result'><thead style='background-color: white'><tr><th>num_affected_rows</th><th>num_inserted_rows</th></tr></thead><tbody><tr><td>4</td><td>4</td></tr></tbody></table></div>"
      ]
     },
     "metadata": {
      "application/vnd.databricks.v1+output": {
       "addedWidgets": {},
       "aggData": [],
       "aggError": "",
       "aggOverflow": false,
       "aggSchema": [],
       "aggSeriesLimitReached": false,
       "aggType": "",
       "arguments": {},
       "columnCustomDisplayInfos": {},
       "data": [
        [
         4,
         4
        ]
       ],
       "datasetInfos": [],
       "dbfsResultPath": null,
       "isJsonSchema": true,
       "metadata": {
        "isDbfsCommandResult": false
       },
       "overflow": false,
       "plotOptions": {
        "customPlotOptions": {},
        "displayType": "table",
        "pivotAggregation": null,
        "pivotColumns": null,
        "xColumns": null,
        "yColumns": null
       },
       "removedWidgets": [],
       "schema": [
        {
         "metadata": "{}",
         "name": "num_affected_rows",
         "type": "\"long\""
        },
        {
         "metadata": "{}",
         "name": "num_inserted_rows",
         "type": "\"long\""
        }
       ],
       "type": "table"
      }
     },
     "output_type": "display_data"
    }
   ],
   "source": [
    "%sql\n",
    "-- Insert quarter-final matches into pgs_matches table\n",
    "INSERT INTO pgs_matches (\n",
    "    WITH QuarterFinal AS (\n",
    "        SELECT 'QF 1' AS QuarterFinalMatch, \n",
    "               (SELECT Winner FROM pgs_matches WHERE Match = 'RS 1') AS Team1,\n",
    "               (SELECT Winner FROM pgs_matches WHERE Match = 'RS 2') AS Team2\n",
    "        UNION ALL\n",
    "        SELECT 'QF 2' AS QuarterFinalMatch, \n",
    "               (SELECT Winner FROM pgs_matches WHERE Match = 'RS 3') AS Team1,\n",
    "               (SELECT Winner FROM pgs_matches WHERE Match = 'RS 4') AS Team2\n",
    "        UNION ALL\n",
    "        SELECT 'QF 3' AS QuarterFinalMatch, \n",
    "               (SELECT Winner FROM pgs_matches WHERE Match = 'RS 5') AS Team1,\n",
    "               (SELECT Winner FROM pgs_matches WHERE Match = 'RS 6') AS Team2\n",
    "        UNION ALL\n",
    "        SELECT 'QF 4' AS QuarterFinalMatch, \n",
    "               (SELECT Winner FROM pgs_matches WHERE Match = 'RS 7') AS Team1,\n",
    "               (SELECT Winner FROM pgs_matches WHERE Match = 'RS 8') AS Team2\n",
    "    )\n",
    "    SELECT\n",
    "        QuarterFinalMatch,\n",
    "        Team1 AS Team1Name,\n",
    "        Team2 AS Team2Name,\n",
    "        ROUND(RAND() * 5) AS Team1Goals,\n",
    "        ROUND(RAND() * 5) AS Team2Goals,\n",
    "        CASE\n",
    "            WHEN ROUND(RAND()) = 1 THEN Team1\n",
    "            ELSE Team2\n",
    "        END AS Winner\n",
    "    FROM QuarterFinal\n",
    ");\n"
   ]
  },
  {
   "cell_type": "code",
   "execution_count": 0,
   "metadata": {
    "application/vnd.databricks.v1+cell": {
     "cellMetadata": {
      "byteLimit": 2048000,
      "implicitDf": true,
      "rowLimit": 10000
     },
     "inputWidgets": {},
     "nuid": "5eb2d93d-5672-414d-8b0b-2ace9d8e9887",
     "showTitle": false,
     "title": ""
    }
   },
   "outputs": [
    {
     "output_type": "display_data",
     "data": {
      "text/html": [
       "<style scoped>\n",
       "  .table-result-container {\n",
       "    max-height: 300px;\n",
       "    overflow: auto;\n",
       "  }\n",
       "  table, th, td {\n",
       "    border: 1px solid black;\n",
       "    border-collapse: collapse;\n",
       "  }\n",
       "  th, td {\n",
       "    padding: 5px;\n",
       "  }\n",
       "  th {\n",
       "    text-align: left;\n",
       "  }\n",
       "</style><div class='table-result-container'><table class='table-result'><thead style='background-color: white'><tr><th>num_affected_rows</th><th>num_inserted_rows</th></tr></thead><tbody><tr><td>2</td><td>2</td></tr></tbody></table></div>"
      ]
     },
     "metadata": {
      "application/vnd.databricks.v1+output": {
       "addedWidgets": {},
       "aggData": [],
       "aggError": "",
       "aggOverflow": false,
       "aggSchema": [],
       "aggSeriesLimitReached": false,
       "aggType": "",
       "arguments": {},
       "columnCustomDisplayInfos": {},
       "data": [
        [
         2,
         2
        ]
       ],
       "datasetInfos": [],
       "dbfsResultPath": null,
       "isJsonSchema": true,
       "metadata": {
        "isDbfsCommandResult": false
       },
       "overflow": false,
       "plotOptions": {
        "customPlotOptions": {},
        "displayType": "table",
        "pivotAggregation": null,
        "pivotColumns": null,
        "xColumns": null,
        "yColumns": null
       },
       "removedWidgets": [],
       "schema": [
        {
         "metadata": "{}",
         "name": "num_affected_rows",
         "type": "\"long\""
        },
        {
         "metadata": "{}",
         "name": "num_inserted_rows",
         "type": "\"long\""
        }
       ],
       "type": "table"
      }
     },
     "output_type": "display_data"
    }
   ],
   "source": [
    "%sql\n",
    "INSERT INTO pgs_matches (\n",
    "    WITH SemiFinal AS (\n",
    "        SELECT 'SF 1' AS SemiFinalMatch, \n",
    "               (SELECT Winner FROM pgs_matches WHERE Match = 'QF 1') AS Team1,\n",
    "               (SELECT Winner FROM pgs_matches WHERE Match = 'QF 2') AS Team2\n",
    "        UNION ALL\n",
    "        SELECT 'SF 2' AS SemiFinalMatch, \n",
    "               (SELECT Winner FROM pgs_matches WHERE Match = 'QF 3') AS Team1,\n",
    "               (SELECT Winner FROM pgs_matches WHERE Match = 'QF 4') AS Team2\n",
    "    )\n",
    "    SELECT\n",
    "        SemiFinalMatch,\n",
    "        Team1 AS Team1Name,\n",
    "        Team2 AS Team2Name,\n",
    "        ROUND(RAND() * 5) AS Team1Goals,\n",
    "        ROUND(RAND() * 5) AS Team2Goals,\n",
    "        CASE\n",
    "            WHEN ROUND(RAND()) = 1 THEN Team1\n",
    "            ELSE Team2\n",
    "        END AS Winner\n",
    "    FROM SemiFinal\n",
    ");\n"
   ]
  },
  {
   "cell_type": "code",
   "execution_count": 0,
   "metadata": {
    "application/vnd.databricks.v1+cell": {
     "cellMetadata": {
      "byteLimit": 2048000,
      "implicitDf": true,
      "rowLimit": 10000
     },
     "inputWidgets": {},
     "nuid": "59e9299e-3bb8-4045-9aed-d099bbbbda59",
     "showTitle": false,
     "title": ""
    }
   },
   "outputs": [
    {
     "output_type": "display_data",
     "data": {
      "text/html": [
       "<style scoped>\n",
       "  .table-result-container {\n",
       "    max-height: 300px;\n",
       "    overflow: auto;\n",
       "  }\n",
       "  table, th, td {\n",
       "    border: 1px solid black;\n",
       "    border-collapse: collapse;\n",
       "  }\n",
       "  th, td {\n",
       "    padding: 5px;\n",
       "  }\n",
       "  th {\n",
       "    text-align: left;\n",
       "  }\n",
       "</style><div class='table-result-container'><table class='table-result'><thead style='background-color: white'><tr><th>num_affected_rows</th><th>num_inserted_rows</th></tr></thead><tbody><tr><td>1</td><td>1</td></tr></tbody></table></div>"
      ]
     },
     "metadata": {
      "application/vnd.databricks.v1+output": {
       "addedWidgets": {},
       "aggData": [],
       "aggError": "",
       "aggOverflow": false,
       "aggSchema": [],
       "aggSeriesLimitReached": false,
       "aggType": "",
       "arguments": {},
       "columnCustomDisplayInfos": {},
       "data": [
        [
         1,
         1
        ]
       ],
       "datasetInfos": [],
       "dbfsResultPath": null,
       "isJsonSchema": true,
       "metadata": {
        "isDbfsCommandResult": false
       },
       "overflow": false,
       "plotOptions": {
        "customPlotOptions": {},
        "displayType": "table",
        "pivotAggregation": null,
        "pivotColumns": null,
        "xColumns": null,
        "yColumns": null
       },
       "removedWidgets": [],
       "schema": [
        {
         "metadata": "{}",
         "name": "num_affected_rows",
         "type": "\"long\""
        },
        {
         "metadata": "{}",
         "name": "num_inserted_rows",
         "type": "\"long\""
        }
       ],
       "type": "table"
      }
     },
     "output_type": "display_data"
    }
   ],
   "source": [
    "%sql\n",
    "-- Insert third-place match into pgs_matches table\n",
    "INSERT INTO pgs_matches (\n",
    "    WITH SemiFinalLosers AS (\n",
    "        SELECT 'SF 1' AS SemiFinalMatch, \n",
    "               (SELECT CASE WHEN Winner = Team1 THEN Team2 ELSE Team1 END FROM pgs_matches WHERE Match = 'SF 1') AS Loser1,\n",
    "               (SELECT CASE WHEN Winner = Team1 THEN Team2 ELSE Team1 END FROM pgs_matches WHERE Match = 'SF 2') AS Loser2\n",
    "    ),\n",
    "    ThirdPlace AS (\n",
    "        SELECT\n",
    "            'Third Place' AS ThirdPlaceMatch,\n",
    "            Loser1 AS Team1Name,\n",
    "            Loser2 AS Team2Name,\n",
    "            ROUND(RAND() * 5) AS Team1Goals,\n",
    "            ROUND(RAND() * 5) AS Team2Goals,\n",
    "            CASE\n",
    "                WHEN ROUND(RAND()) = 1 THEN Loser1\n",
    "                ELSE Loser2\n",
    "            END AS Winner\n",
    "        FROM SemiFinalLosers\n",
    "    )\n",
    "    SELECT * FROM ThirdPlace\n",
    ");\n"
   ]
  },
  {
   "cell_type": "code",
   "execution_count": 0,
   "metadata": {
    "application/vnd.databricks.v1+cell": {
     "cellMetadata": {
      "byteLimit": 2048000,
      "implicitDf": true,
      "rowLimit": 10000
     },
     "inputWidgets": {},
     "nuid": "16add5f6-2c1e-45a8-bf81-7b015b5a7b08",
     "showTitle": false,
     "title": ""
    }
   },
   "outputs": [
    {
     "output_type": "display_data",
     "data": {
      "text/html": [
       "<style scoped>\n",
       "  .table-result-container {\n",
       "    max-height: 300px;\n",
       "    overflow: auto;\n",
       "  }\n",
       "  table, th, td {\n",
       "    border: 1px solid black;\n",
       "    border-collapse: collapse;\n",
       "  }\n",
       "  th, td {\n",
       "    padding: 5px;\n",
       "  }\n",
       "  th {\n",
       "    text-align: left;\n",
       "  }\n",
       "</style><div class='table-result-container'><table class='table-result'><thead style='background-color: white'><tr><th>num_affected_rows</th><th>num_inserted_rows</th></tr></thead><tbody><tr><td>1</td><td>1</td></tr></tbody></table></div>"
      ]
     },
     "metadata": {
      "application/vnd.databricks.v1+output": {
       "addedWidgets": {},
       "aggData": [],
       "aggError": "",
       "aggOverflow": false,
       "aggSchema": [],
       "aggSeriesLimitReached": false,
       "aggType": "",
       "arguments": {},
       "columnCustomDisplayInfos": {},
       "data": [
        [
         1,
         1
        ]
       ],
       "datasetInfos": [],
       "dbfsResultPath": null,
       "isJsonSchema": true,
       "metadata": {
        "isDbfsCommandResult": false
       },
       "overflow": false,
       "plotOptions": {
        "customPlotOptions": {},
        "displayType": "table",
        "pivotAggregation": null,
        "pivotColumns": null,
        "xColumns": null,
        "yColumns": null
       },
       "removedWidgets": [],
       "schema": [
        {
         "metadata": "{}",
         "name": "num_affected_rows",
         "type": "\"long\""
        },
        {
         "metadata": "{}",
         "name": "num_inserted_rows",
         "type": "\"long\""
        }
       ],
       "type": "table"
      }
     },
     "output_type": "display_data"
    }
   ],
   "source": [
    "%sql\n",
    "-- Insert final match into pgs_matches table\n",
    "INSERT INTO pgs_matches (\n",
    "    WITH FinalMatch AS (\n",
    "        SELECT 'Final' AS FinalMatch,\n",
    "               (SELECT Winner FROM pgs_matches WHERE Match = 'SF 1') AS Team1,\n",
    "               (SELECT Winner FROM pgs_matches WHERE Match = 'SF 2') AS Team2\n",
    "    )\n",
    "    SELECT\n",
    "        FinalMatch,\n",
    "        Team1 AS Team1Name,\n",
    "        Team2 AS Team2Name,\n",
    "        ROUND(RAND() * 5) AS Team1Goals,\n",
    "        ROUND(RAND() * 5) AS Team2Goals,\n",
    "        CASE\n",
    "            WHEN ROUND(RAND()) = 1 THEN Team1\n",
    "            ELSE Team2\n",
    "        END AS Winner\n",
    "    FROM FinalMatch\n",
    ");\n"
   ]
  },
  {
   "cell_type": "code",
   "execution_count": 0,
   "metadata": {
    "application/vnd.databricks.v1+cell": {
     "cellMetadata": {
      "byteLimit": 2048000,
      "implicitDf": true,
      "rowLimit": 10000
     },
     "inputWidgets": {},
     "nuid": "0a97fb93-5354-40b6-b56c-ef998524a488",
     "showTitle": false,
     "title": ""
    }
   },
   "outputs": [
    {
     "output_type": "display_data",
     "data": {
      "text/html": [
       "<style scoped>\n",
       "  .table-result-container {\n",
       "    max-height: 300px;\n",
       "    overflow: auto;\n",
       "  }\n",
       "  table, th, td {\n",
       "    border: 1px solid black;\n",
       "    border-collapse: collapse;\n",
       "  }\n",
       "  th, td {\n",
       "    padding: 5px;\n",
       "  }\n",
       "  th {\n",
       "    text-align: left;\n",
       "  }\n",
       "</style><div class='table-result-container'><table class='table-result'><thead style='background-color: white'><tr><th>Match</th><th>Team1</th><th>Team2</th><th>Team1Goals</th><th>Team2Goals</th><th>Winner</th></tr></thead><tbody><tr><td>RS 1</td><td>Croatia</td><td>Playoff Winner 1</td><td>2</td><td>4</td><td>Playoff Winner 1</td></tr><tr><td>RS 2</td><td>Germany</td><td>England</td><td>2</td><td>2</td><td>Germany</td></tr><tr><td>RS 3</td><td>Portugal</td><td>Italy</td><td>2</td><td>4</td><td>Italy</td></tr><tr><td>RS 4</td><td>Netherlands</td><td>Romania</td><td>0</td><td>0</td><td>Netherlands</td></tr><tr><td>RS 5</td><td>Playoff Winner 2</td><td>Scotland</td><td>3</td><td>4</td><td>Scotland</td></tr><tr><td>RS 6</td><td>France</td><td>Playoff Winner 3</td><td>2</td><td>1</td><td>France</td></tr><tr><td>RS 7</td><td>Denmark</td><td>Turkey</td><td>3</td><td>2</td><td>Denmark</td></tr><tr><td>RS 8</td><td>Switzerland</td><td>Albania</td><td>1</td><td>4</td><td>Albania</td></tr><tr><td>QF 1</td><td>Playoff Winner 1</td><td>Germany</td><td>5</td><td>2</td><td>Germany</td></tr><tr><td>Third Place</td><td>Germany</td><td>Albania</td><td>2</td><td>2</td><td>Albania</td></tr><tr><td>SF 2</td><td>Scotland</td><td>Albania</td><td>4</td><td>3</td><td>Scotland</td></tr><tr><td>QF 3</td><td>Scotland</td><td>France</td><td>5</td><td>1</td><td>Scotland</td></tr><tr><td>Final</td><td>Italy</td><td>Scotland</td><td>5</td><td>2</td><td>Scotland</td></tr><tr><td>QF 4</td><td>Denmark</td><td>Albania</td><td>1</td><td>2</td><td>Albania</td></tr><tr><td>QF 2</td><td>Italy</td><td>Netherlands</td><td>1</td><td>4</td><td>Italy</td></tr><tr><td>SF 1</td><td>Germany</td><td>Italy</td><td>5</td><td>1</td><td>Italy</td></tr></tbody></table></div>"
      ]
     },
     "metadata": {
      "application/vnd.databricks.v1+output": {
       "addedWidgets": {},
       "aggData": [],
       "aggError": "",
       "aggOverflow": false,
       "aggSchema": [],
       "aggSeriesLimitReached": false,
       "aggType": "",
       "arguments": {},
       "columnCustomDisplayInfos": {},
       "data": [
        [
         "RS 1",
         "Croatia",
         "Playoff Winner 1",
         2,
         4,
         "Playoff Winner 1"
        ],
        [
         "RS 2",
         "Germany",
         "England",
         2,
         2,
         "Germany"
        ],
        [
         "RS 3",
         "Portugal",
         "Italy",
         2,
         4,
         "Italy"
        ],
        [
         "RS 4",
         "Netherlands",
         "Romania",
         0,
         0,
         "Netherlands"
        ],
        [
         "RS 5",
         "Playoff Winner 2",
         "Scotland",
         3,
         4,
         "Scotland"
        ],
        [
         "RS 6",
         "France",
         "Playoff Winner 3",
         2,
         1,
         "France"
        ],
        [
         "RS 7",
         "Denmark",
         "Turkey",
         3,
         2,
         "Denmark"
        ],
        [
         "RS 8",
         "Switzerland",
         "Albania",
         1,
         4,
         "Albania"
        ],
        [
         "QF 1",
         "Playoff Winner 1",
         "Germany",
         5,
         2,
         "Germany"
        ],
        [
         "Third Place",
         "Germany",
         "Albania",
         2,
         2,
         "Albania"
        ],
        [
         "SF 2",
         "Scotland",
         "Albania",
         4,
         3,
         "Scotland"
        ],
        [
         "QF 3",
         "Scotland",
         "France",
         5,
         1,
         "Scotland"
        ],
        [
         "Final",
         "Italy",
         "Scotland",
         5,
         2,
         "Scotland"
        ],
        [
         "QF 4",
         "Denmark",
         "Albania",
         1,
         2,
         "Albania"
        ],
        [
         "QF 2",
         "Italy",
         "Netherlands",
         1,
         4,
         "Italy"
        ],
        [
         "SF 1",
         "Germany",
         "Italy",
         5,
         1,
         "Italy"
        ]
       ],
       "datasetInfos": [],
       "dbfsResultPath": null,
       "isJsonSchema": true,
       "metadata": {
        "isDbfsCommandResult": false
       },
       "overflow": false,
       "plotOptions": {
        "customPlotOptions": {},
        "displayType": "table",
        "pivotAggregation": null,
        "pivotColumns": null,
        "xColumns": null,
        "yColumns": null
       },
       "removedWidgets": [],
       "schema": [
        {
         "metadata": "{}",
         "name": "Match",
         "type": "\"string\""
        },
        {
         "metadata": "{\"__CHAR_VARCHAR_TYPE_STRING\":\"varchar(50)\"}",
         "name": "Team1",
         "type": "\"string\""
        },
        {
         "metadata": "{\"__CHAR_VARCHAR_TYPE_STRING\":\"varchar(50)\"}",
         "name": "Team2",
         "type": "\"string\""
        },
        {
         "metadata": "{}",
         "name": "Team1Goals",
         "type": "\"integer\""
        },
        {
         "metadata": "{}",
         "name": "Team2Goals",
         "type": "\"integer\""
        },
        {
         "metadata": "{\"__CHAR_VARCHAR_TYPE_STRING\":\"varchar(50)\"}",
         "name": "Winner",
         "type": "\"string\""
        }
       ],
       "type": "table"
      }
     },
     "output_type": "display_data"
    }
   ],
   "source": [
    "%sql\n",
    "SELECT * From pgs_matches"
   ]
  },
  {
   "cell_type": "code",
   "execution_count": 0,
   "metadata": {
    "application/vnd.databricks.v1+cell": {
     "cellMetadata": {
      "byteLimit": 2048000,
      "implicitDf": true,
      "rowLimit": 10000
     },
     "inputWidgets": {},
     "nuid": "ea84fdfb-3879-428e-9b22-7ebeea0a6f83",
     "showTitle": false,
     "title": ""
    }
   },
   "outputs": [
    {
     "output_type": "display_data",
     "data": {
      "text/html": [
       "<style scoped>\n",
       "  .table-result-container {\n",
       "    max-height: 300px;\n",
       "    overflow: auto;\n",
       "  }\n",
       "  table, th, td {\n",
       "    border: 1px solid black;\n",
       "    border-collapse: collapse;\n",
       "  }\n",
       "  th, td {\n",
       "    padding: 5px;\n",
       "  }\n",
       "  th {\n",
       "    text-align: left;\n",
       "  }\n",
       "</style><div class='table-result-container'><table class='table-result'><thead style='background-color: white'><tr><th>Team</th><th>TeamGroup</th><th>Pld</th><th>D</th><th>W</th><th>L</th><th>GF</th><th>GA</th><th>GD</th><th>Pts</th><th>Pos</th></tr></thead><tbody><tr><td>Germany</td><td>A</td><td>3</td><td>0</td><td>2</td><td>1</td><td>7</td><td>6</td><td>1</td><td>6</td><td>1</td></tr><tr><td>Switzerland</td><td>A</td><td>3</td><td>0</td><td>1</td><td>2</td><td>6</td><td>8</td><td>-2</td><td>3</td><td>2</td></tr><tr><td>Scotland</td><td>A</td><td>3</td><td>0</td><td>1</td><td>2</td><td>4</td><td>8</td><td>-4</td><td>3</td><td>3</td></tr><tr><td>Hungary</td><td>A</td><td>3</td><td>1</td><td>0</td><td>2</td><td>5</td><td>10</td><td>-5</td><td>1</td><td>4</td></tr><tr><td>Croatia</td><td>B</td><td>3</td><td>0</td><td>2</td><td>1</td><td>11</td><td>6</td><td>5</td><td>6</td><td>1</td></tr><tr><td>Albania</td><td>B</td><td>3</td><td>0</td><td>2</td><td>1</td><td>8</td><td>6</td><td>2</td><td>6</td><td>2</td></tr><tr><td>Italy</td><td>B</td><td>3</td><td>0</td><td>1</td><td>2</td><td>4</td><td>5</td><td>-1</td><td>3</td><td>3</td></tr><tr><td>Spain</td><td>B</td><td>3</td><td>0</td><td>1</td><td>2</td><td>6</td><td>11</td><td>-5</td><td>3</td><td>4</td></tr><tr><td>Denmark</td><td>C</td><td>3</td><td>0</td><td>3</td><td>0</td><td>11</td><td>3</td><td>8</td><td>9</td><td>1</td></tr><tr><td>England</td><td>C</td><td>3</td><td>0</td><td>2</td><td>1</td><td>7</td><td>4</td><td>3</td><td>6</td><td>2</td></tr><tr><td>Serbia</td><td>C</td><td>3</td><td>0</td><td>2</td><td>1</td><td>7</td><td>7</td><td>0</td><td>6</td><td>3</td></tr><tr><td>Slovenia</td><td>C</td><td>3</td><td>0</td><td>1</td><td>2</td><td>3</td><td>6</td><td>-3</td><td>3</td><td>4</td></tr><tr><td>France</td><td>D</td><td>3</td><td>0</td><td>2</td><td>1</td><td>12</td><td>8</td><td>4</td><td>6</td><td>1</td></tr><tr><td>Netherlands</td><td>D</td><td>3</td><td>0</td><td>2</td><td>1</td><td>5</td><td>7</td><td>-2</td><td>6</td><td>2</td></tr><tr><td>Playoff Winner 1</td><td>D</td><td>3</td><td>0</td><td>1</td><td>2</td><td>5</td><td>4</td><td>1</td><td>3</td><td>3</td></tr><tr><td>Austria</td><td>D</td><td>3</td><td>0</td><td>1</td><td>2</td><td>5</td><td>5</td><td>0</td><td>3</td><td>4</td></tr><tr><td>Playoff Winner 2</td><td>E</td><td>3</td><td>0</td><td>3</td><td>0</td><td>10</td><td>6</td><td>4</td><td>9</td><td>1</td></tr><tr><td>Romania</td><td>E</td><td>3</td><td>0</td><td>2</td><td>1</td><td>7</td><td>6</td><td>1</td><td>6</td><td>2</td></tr><tr><td>Belgium</td><td>E</td><td>3</td><td>0</td><td>2</td><td>1</td><td>4</td><td>5</td><td>-1</td><td>6</td><td>3</td></tr><tr><td>Slovakia</td><td>E</td><td>3</td><td>1</td><td>1</td><td>1</td><td>10</td><td>10</td><td>0</td><td>4</td><td>4</td></tr><tr><td>Portugal</td><td>F</td><td>3</td><td>0</td><td>2</td><td>1</td><td>8</td><td>4</td><td>4</td><td>6</td><td>1</td></tr><tr><td>Playoff Winner 3</td><td>F</td><td>3</td><td>0</td><td>1</td><td>2</td><td>8</td><td>9</td><td>-1</td><td>3</td><td>2</td></tr><tr><td>Turkey</td><td>F</td><td>3</td><td>0</td><td>1</td><td>2</td><td>7</td><td>11</td><td>-4</td><td>3</td><td>3</td></tr><tr><td>Czech Republic</td><td>F</td><td>3</td><td>1</td><td>0</td><td>2</td><td>10</td><td>13</td><td>-3</td><td>1</td><td>4</td></tr></tbody></table></div>"
      ]
     },
     "metadata": {
      "application/vnd.databricks.v1+output": {
       "addedWidgets": {},
       "aggData": [],
       "aggError": "",
       "aggOverflow": false,
       "aggSchema": [],
       "aggSeriesLimitReached": false,
       "aggType": "",
       "arguments": {},
       "columnCustomDisplayInfos": {},
       "data": [
        [
         "Germany",
         "A",
         3,
         0,
         2,
         1,
         7,
         6,
         1,
         6,
         1
        ],
        [
         "Switzerland",
         "A",
         3,
         0,
         1,
         2,
         6,
         8,
         -2,
         3,
         2
        ],
        [
         "Scotland",
         "A",
         3,
         0,
         1,
         2,
         4,
         8,
         -4,
         3,
         3
        ],
        [
         "Hungary",
         "A",
         3,
         1,
         0,
         2,
         5,
         10,
         -5,
         1,
         4
        ],
        [
         "Croatia",
         "B",
         3,
         0,
         2,
         1,
         11,
         6,
         5,
         6,
         1
        ],
        [
         "Albania",
         "B",
         3,
         0,
         2,
         1,
         8,
         6,
         2,
         6,
         2
        ],
        [
         "Italy",
         "B",
         3,
         0,
         1,
         2,
         4,
         5,
         -1,
         3,
         3
        ],
        [
         "Spain",
         "B",
         3,
         0,
         1,
         2,
         6,
         11,
         -5,
         3,
         4
        ],
        [
         "Denmark",
         "C",
         3,
         0,
         3,
         0,
         11,
         3,
         8,
         9,
         1
        ],
        [
         "England",
         "C",
         3,
         0,
         2,
         1,
         7,
         4,
         3,
         6,
         2
        ],
        [
         "Serbia",
         "C",
         3,
         0,
         2,
         1,
         7,
         7,
         0,
         6,
         3
        ],
        [
         "Slovenia",
         "C",
         3,
         0,
         1,
         2,
         3,
         6,
         -3,
         3,
         4
        ],
        [
         "France",
         "D",
         3,
         0,
         2,
         1,
         12,
         8,
         4,
         6,
         1
        ],
        [
         "Netherlands",
         "D",
         3,
         0,
         2,
         1,
         5,
         7,
         -2,
         6,
         2
        ],
        [
         "Playoff Winner 1",
         "D",
         3,
         0,
         1,
         2,
         5,
         4,
         1,
         3,
         3
        ],
        [
         "Austria",
         "D",
         3,
         0,
         1,
         2,
         5,
         5,
         0,
         3,
         4
        ],
        [
         "Playoff Winner 2",
         "E",
         3,
         0,
         3,
         0,
         10,
         6,
         4,
         9,
         1
        ],
        [
         "Romania",
         "E",
         3,
         0,
         2,
         1,
         7,
         6,
         1,
         6,
         2
        ],
        [
         "Belgium",
         "E",
         3,
         0,
         2,
         1,
         4,
         5,
         -1,
         6,
         3
        ],
        [
         "Slovakia",
         "E",
         3,
         1,
         1,
         1,
         10,
         10,
         0,
         4,
         4
        ],
        [
         "Portugal",
         "F",
         3,
         0,
         2,
         1,
         8,
         4,
         4,
         6,
         1
        ],
        [
         "Playoff Winner 3",
         "F",
         3,
         0,
         1,
         2,
         8,
         9,
         -1,
         3,
         2
        ],
        [
         "Turkey",
         "F",
         3,
         0,
         1,
         2,
         7,
         11,
         -4,
         3,
         3
        ],
        [
         "Czech Republic",
         "F",
         3,
         1,
         0,
         2,
         10,
         13,
         -3,
         1,
         4
        ]
       ],
       "datasetInfos": [],
       "dbfsResultPath": null,
       "isJsonSchema": true,
       "metadata": {
        "isDbfsCommandResult": false
       },
       "overflow": false,
       "plotOptions": {
        "customPlotOptions": {},
        "displayType": "table",
        "pivotAggregation": null,
        "pivotColumns": null,
        "xColumns": null,
        "yColumns": null
       },
       "removedWidgets": [],
       "schema": [
        {
         "metadata": "{}",
         "name": "Team",
         "type": "\"string\""
        },
        {
         "metadata": "{}",
         "name": "TeamGroup",
         "type": "\"string\""
        },
        {
         "metadata": "{}",
         "name": "Pld",
         "type": "\"long\""
        },
        {
         "metadata": "{}",
         "name": "D",
         "type": "\"long\""
        },
        {
         "metadata": "{}",
         "name": "W",
         "type": "\"long\""
        },
        {
         "metadata": "{}",
         "name": "L",
         "type": "\"long\""
        },
        {
         "metadata": "{}",
         "name": "GF",
         "type": "\"long\""
        },
        {
         "metadata": "{}",
         "name": "GA",
         "type": "\"long\""
        },
        {
         "metadata": "{}",
         "name": "GD",
         "type": "\"long\""
        },
        {
         "metadata": "{}",
         "name": "Pts",
         "type": "\"long\""
        },
        {
         "metadata": "{}",
         "name": "Pos",
         "type": "\"integer\""
        }
       ],
       "type": "table"
      }
     },
     "output_type": "display_data"
    }
   ],
   "source": [
    "%sql\n",
    "SELECT * FROM match_table"
   ]
  },
  {
   "cell_type": "code",
   "execution_count": 0,
   "metadata": {
    "application/vnd.databricks.v1+cell": {
     "cellMetadata": {
      "byteLimit": 2048000,
      "implicitDf": true,
      "rowLimit": 10000
     },
     "inputWidgets": {},
     "nuid": "3fb9ec31-27f9-4046-9477-4682803eb457",
     "showTitle": false,
     "title": ""
    }
   },
   "outputs": [
    {
     "output_type": "display_data",
     "data": {
      "text/html": [
       "<style scoped>\n",
       "  .table-result-container {\n",
       "    max-height: 300px;\n",
       "    overflow: auto;\n",
       "  }\n",
       "  table, th, td {\n",
       "    border: 1px solid black;\n",
       "    border-collapse: collapse;\n",
       "  }\n",
       "  th, td {\n",
       "    padding: 5px;\n",
       "  }\n",
       "  th {\n",
       "    text-align: left;\n",
       "  }\n",
       "</style><div class='table-result-container'><table class='table-result'><thead style='background-color: white'><tr><th>PoolA</th><th>QFA</th><th>Semi_Final_1</th><th>Final</th><th>Semi_Final_2</th><th>QFB</th><th>PoolB</th></tr></thead><tbody><tr><td>RS 1: Croatia vs Playoff Winner 1, 2-4, Winner: Playoff Winner 1</td><td></td><td></td><td></td><td></td><td></td><td></td></tr><tr><td></td><td></td><td></td><td></td><td></td><td></td><td>RS 5: Playoff Winner 2 vs Scotland, 3-4, Winner: Scotland</td></tr><tr><td></td><td></td><td></td><td></td><td></td><td>QF 3: Scotland vs France, 5-1, Winner: Scotland</td><td></td></tr><tr><td></td><td>QF 1: Playoff Winner 1 vs Germany, 5-2, Winner: Germany</td><td></td><td></td><td></td><td></td><td></td></tr><tr><td>RS 2: Germany vs England, 2-2, Winner: Germany</td><td></td><td></td><td></td><td></td><td></td><td></td></tr><tr><td></td><td></td><td></td><td></td><td></td><td></td><td>RS 6: France vs Playoff Winner 3, 2-1, Winner: France</td></tr><tr><td></td><td></td><td></td><td>Final: Italy vs Scotland, 5-2, Winner: Scotland</td><td></td><td></td><td></td></tr><tr><td></td><td></td><td></td><td></td><td>SF 2: Scotland vs Albania, 4-3, Winner: Scotland</td><td></td><td></td></tr><tr><td></td><td></td><td>SF 1: Germany vs Italy, 5-1, Winner: Italy</td><td></td><td></td><td></td><td></td></tr><tr><td>RS 3: Portugal vs Italy, 2-4, Winner: Italy</td><td></td><td></td><td></td><td></td><td></td><td></td></tr><tr><td></td><td></td><td></td><td></td><td></td><td></td><td>RS 7: Denmark vs Turkey, 3-2, Winner: Denmark</td></tr><tr><td></td><td></td><td></td><td>Third: Germany vs Albania, 2-2, Winner: Albania</td><td></td><td></td><td></td></tr><tr><td></td><td></td><td></td><td></td><td></td><td>QF 4: Denmark vs Albania, 1-2, Winner: Albania</td><td></td></tr><tr><td></td><td>QF 2: Italy vs Netherlands, 1-4, Winner: Italy</td><td></td><td></td><td></td><td></td><td></td></tr><tr><td>RS 4: Netherlands vs Romania, 0-0, Winner: Netherlands</td><td></td><td></td><td></td><td></td><td></td><td></td></tr><tr><td></td><td></td><td></td><td></td><td></td><td></td><td>RS 8: Switzerland vs Albania, 1-4, Winner: Albania</td></tr></tbody></table></div>"
      ]
     },
     "metadata": {
      "application/vnd.databricks.v1+output": {
       "addedWidgets": {},
       "aggData": [],
       "aggError": "",
       "aggOverflow": false,
       "aggSchema": [],
       "aggSeriesLimitReached": false,
       "aggType": "",
       "arguments": {},
       "columnCustomDisplayInfos": {},
       "data": [
        [
         "RS 1: Croatia vs Playoff Winner 1, 2-4, Winner: Playoff Winner 1",
         "",
         "",
         "",
         "",
         "",
         ""
        ],
        [
         "",
         "",
         "",
         "",
         "",
         "",
         "RS 5: Playoff Winner 2 vs Scotland, 3-4, Winner: Scotland"
        ],
        [
         "",
         "",
         "",
         "",
         "",
         "QF 3: Scotland vs France, 5-1, Winner: Scotland",
         ""
        ],
        [
         "",
         "QF 1: Playoff Winner 1 vs Germany, 5-2, Winner: Germany",
         "",
         "",
         "",
         "",
         ""
        ],
        [
         "RS 2: Germany vs England, 2-2, Winner: Germany",
         "",
         "",
         "",
         "",
         "",
         ""
        ],
        [
         "",
         "",
         "",
         "",
         "",
         "",
         "RS 6: France vs Playoff Winner 3, 2-1, Winner: France"
        ],
        [
         "",
         "",
         "",
         "Final: Italy vs Scotland, 5-2, Winner: Scotland",
         "",
         "",
         ""
        ],
        [
         "",
         "",
         "",
         "",
         "SF 2: Scotland vs Albania, 4-3, Winner: Scotland",
         "",
         ""
        ],
        [
         "",
         "",
         "SF 1: Germany vs Italy, 5-1, Winner: Italy",
         "",
         "",
         "",
         ""
        ],
        [
         "RS 3: Portugal vs Italy, 2-4, Winner: Italy",
         "",
         "",
         "",
         "",
         "",
         ""
        ],
        [
         "",
         "",
         "",
         "",
         "",
         "",
         "RS 7: Denmark vs Turkey, 3-2, Winner: Denmark"
        ],
        [
         "",
         "",
         "",
         "Third: Germany vs Albania, 2-2, Winner: Albania",
         "",
         "",
         ""
        ],
        [
         "",
         "",
         "",
         "",
         "",
         "QF 4: Denmark vs Albania, 1-2, Winner: Albania",
         ""
        ],
        [
         "",
         "QF 2: Italy vs Netherlands, 1-4, Winner: Italy",
         "",
         "",
         "",
         "",
         ""
        ],
        [
         "RS 4: Netherlands vs Romania, 0-0, Winner: Netherlands",
         "",
         "",
         "",
         "",
         "",
         ""
        ],
        [
         "",
         "",
         "",
         "",
         "",
         "",
         "RS 8: Switzerland vs Albania, 1-4, Winner: Albania"
        ]
       ],
       "datasetInfos": [],
       "dbfsResultPath": null,
       "isJsonSchema": true,
       "metadata": {
        "isDbfsCommandResult": false
       },
       "overflow": false,
       "plotOptions": {
        "customPlotOptions": {},
        "displayType": "table",
        "pivotAggregation": null,
        "pivotColumns": null,
        "xColumns": null,
        "yColumns": null
       },
       "removedWidgets": [],
       "schema": [
        {
         "metadata": "{}",
         "name": "PoolA",
         "type": "\"string\""
        },
        {
         "metadata": "{}",
         "name": "QFA",
         "type": "\"string\""
        },
        {
         "metadata": "{}",
         "name": "Semi_Final_1",
         "type": "\"string\""
        },
        {
         "metadata": "{}",
         "name": "Final",
         "type": "\"string\""
        },
        {
         "metadata": "{}",
         "name": "Semi_Final_2",
         "type": "\"string\""
        },
        {
         "metadata": "{}",
         "name": "QFB",
         "type": "\"string\""
        },
        {
         "metadata": "{}",
         "name": "PoolB",
         "type": "\"string\""
        }
       ],
       "type": "table"
      }
     },
     "output_type": "display_data"
    }
   ],
   "source": [
    "%sql\n",
    "WITH MatchDetails AS (\n",
    "    SELECT \n",
    "    CASE \n",
    "        WHEN Match IN ('RS 1', 'RS 5') THEN 3\n",
    "        WHEN Match IN ('QF 1', 'QF 3') THEN 4\n",
    "        WHEN Match IN ('RS 2', 'RS 6') THEN 5\n",
    "        WHEN Match IN ('RS 3', 'RS 7') THEN 7\n",
    "        WHEN Match IN ('QF 2', 'QF 4') THEN 8\n",
    "        WHEN Match IN ('RS 4', 'RS 8') THEN 9\n",
    "        WHEN Match = 'SF 1' THEN 6\n",
    "        WHEN Match = 'SF 2' THEN 6\n",
    "        WHEN Match = 'Final' THEN 6\n",
    "        WHEN Match = 'Third Place' THEN 8\n",
    "    END AS RowNum,\n",
    "        \n",
    "\n",
    "   \n",
    "\n",
    "    \n",
    "\n",
    "        CASE \n",
    "            WHEN Match = 'RS 1' THEN CONCAT('RS 1: ', Team1, ' vs ', Team2, ', ', Team1Goals, '-', Team2Goals, ', Winner: ', Winner)\n",
    "            WHEN Match = 'RS 2' THEN CONCAT('RS 2: ', Team1, ' vs ', Team2, ', ', Team1Goals, '-', Team2Goals, ', Winner: ', Winner)\n",
    "            WHEN Match = 'RS 3' THEN CONCAT('RS 3: ', Team1, ' vs ', Team2, ', ', Team1Goals, '-', Team2Goals, ', Winner: ', Winner)\n",
    "            WHEN Match = 'RS 4' THEN CONCAT('RS 4: ', Team1, ' vs ', Team2, ', ', Team1Goals, '-', Team2Goals, ', Winner: ', Winner)\n",
    "            ELSE '' \n",
    "        END AS PoolA,\n",
    "        CASE \n",
    "            WHEN Match = 'QF 1' THEN CONCAT('QF 1: ', Team1, ' vs ', Team2, ', ', Team1Goals, '-', Team2Goals, ', Winner: ', Winner)\n",
    "            WHEN Match = 'QF 2' THEN CONCAT('QF 2: ', Team1, ' vs ', Team2, ', ', Team1Goals, '-', Team2Goals, ', Winner: ', Winner)\n",
    "            ELSE '' \n",
    "        END AS QFA,\n",
    "        CASE \n",
    "            WHEN Match = 'SF 1' THEN CONCAT('SF 1: ', Team1, ' vs ', Team2, ', ', Team1Goals, '-', Team2Goals, ', Winner: ', Winner)\n",
    "            ELSE '' \n",
    "        END AS Semi_Final_1,\n",
    "        CASE \n",
    "            WHEN Match = 'Final' THEN CONCAT('Final: ', Team1, ' vs ', Team2, ', ', Team1Goals, '-', Team2Goals, ', Winner: ', Winner)\n",
    "            WHEN Match = 'Third Place' THEN CONCAT('Third: ', Team1, ' vs ', Team2, ', ', Team1Goals, '-', Team2Goals, ', Winner: ', Winner)\n",
    "            ELSE '' \n",
    "        END AS Final,\n",
    "        CASE \n",
    "            WHEN Match = 'SF 2' THEN CONCAT('SF 2: ', Team1, ' vs ', Team2, ', ', Team1Goals, '-', Team2Goals, ', Winner: ', Winner)\n",
    "            ELSE '' \n",
    "        END AS Semi_Final_2,\n",
    "        CASE \n",
    "            WHEN Match = 'QF 3' THEN CONCAT('QF 3: ', Team1, ' vs ', Team2, ', ', Team1Goals, '-', Team2Goals, ', Winner: ', Winner)\n",
    "            WHEN Match = 'QF 4' THEN CONCAT('QF 4: ', Team1, ' vs ', Team2, ', ', Team1Goals, '-', Team2Goals, ', Winner: ', Winner)\n",
    "            ELSE '' \n",
    "        END AS QFB,\n",
    "        CASE \n",
    "            WHEN Match = 'RS 5' THEN CONCAT('RS 5: ', Team1, ' vs ', Team2, ', ', Team1Goals, '-', Team2Goals, ', Winner: ', Winner)\n",
    "            WHEN Match = 'RS 6' THEN CONCAT('RS 6: ', Team1, ' vs ', Team2, ', ', Team1Goals, '-', Team2Goals, ', Winner: ', Winner)\n",
    "            WHEN Match = 'RS 7' THEN CONCAT('RS 7: ', Team1, ' vs ', Team2, ', ', Team1Goals, '-', Team2Goals, ', Winner: ', Winner)\n",
    "            WHEN Match = 'RS 8' THEN CONCAT('RS 8: ', Team1, ' vs ', Team2, ', ', Team1Goals, '-', Team2Goals, ', Winner: ', Winner)\n",
    "            ELSE '' \n",
    "        END AS PoolB\n",
    "\n",
    "\n",
    "    FROM \n",
    "        pgs_matches\n",
    "      \n",
    ")\n",
    "\n",
    "SELECT \n",
    " \n",
    "\n",
    "    \n",
    "    PoolA,\n",
    "    QFA,\n",
    "    Semi_Final_1,\n",
    "    Final,\n",
    "    Semi_Final_2,\n",
    "    QFB,\n",
    "    PoolB\n",
    "FROM \n",
    "    MatchDetails\n",
    "WHERE \n",
    "    RowNum IS NOT NULL\n",
    "ORDER BY \n",
    "    RowNum;\n"
   ]
  }
 ],
 "metadata": {
  "application/vnd.databricks.v1+notebook": {
   "dashboards": [],
   "language": "python",
   "notebookMetadata": {
    "mostRecentlyExecutedCommandWithImplicitDF": {
     "commandId": 3326222084265101,
     "dataframes": [
      "_sqldf"
     ]
    },
    "pythonIndentUnit": 4
   },
   "notebookName": "EuroCupOptimized",
   "widgets": {}
  }
 },
 "nbformat": 4,
 "nbformat_minor": 0
}
