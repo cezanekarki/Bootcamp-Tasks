{
 "cells": [
  {
   "cell_type": "markdown",
   "metadata": {
    "application/vnd.databricks.v1+cell": {
     "cellMetadata": {
      "byteLimit": 2048000,
      "rowLimit": 10000
     },
     "inputWidgets": {},
     "nuid": "b596482f-9b06-49ae-9c42-d93404d4b8d0",
     "showTitle": false,
     "title": ""
    }
   },
   "source": [
    "ways of transforming: using data frames /data sets or rdds(quicker)"
   ]
  },
  {
   "cell_type": "code",
   "execution_count": 0,
   "metadata": {
    "application/vnd.databricks.v1+cell": {
     "cellMetadata": {
      "byteLimit": 2048000,
      "rowLimit": 10000
     },
     "inputWidgets": {},
     "nuid": "3a5a13f1-6d44-4fd1-8daf-b4c90c71f056",
     "showTitle": false,
     "title": ""
    }
   },
   "outputs": [
    {
     "output_type": "display_data",
     "data": {
      "text/html": [
       "\n",
       "            <div>\n",
       "                <p><b>SparkSession - hive</b></p>\n",
       "                \n",
       "        <div>\n",
       "            <p><b>SparkContext</b></p>\n",
       "\n",
       "            <p><a href=\"/?o=6189708248907713#setting/sparkui/0218-145133-tv1yuqrb/driver-7627530967529551718\">Spark UI</a></p>\n",
       "\n",
       "            <dl>\n",
       "              <dt>Version</dt>\n",
       "                <dd><code>v3.3.2</code></dd>\n",
       "              <dt>Master</dt>\n",
       "                <dd><code>local[8]</code></dd>\n",
       "              <dt>AppName</dt>\n",
       "                <dd><code>Databricks Shell</code></dd>\n",
       "            </dl>\n",
       "        </div>\n",
       "        \n",
       "            </div>\n",
       "        "
      ]
     },
     "metadata": {
      "application/vnd.databricks.v1+output": {
       "addedWidgets": {},
       "arguments": {},
       "data": "\n            <div>\n                <p><b>SparkSession - hive</b></p>\n                \n        <div>\n            <p><b>SparkContext</b></p>\n\n            <p><a href=\"/?o=6189708248907713#setting/sparkui/0218-145133-tv1yuqrb/driver-7627530967529551718\">Spark UI</a></p>\n\n            <dl>\n              <dt>Version</dt>\n                <dd><code>v3.3.2</code></dd>\n              <dt>Master</dt>\n                <dd><code>local[8]</code></dd>\n              <dt>AppName</dt>\n                <dd><code>Databricks Shell</code></dd>\n            </dl>\n        </div>\n        \n            </div>\n        ",
       "datasetInfos": [],
       "metadata": {},
       "removedWidgets": [],
       "textData": null,
       "type": "htmlSandbox"
      }
     },
     "output_type": "display_data"
    }
   ],
   "source": [
    "from pyspark.sql import SparkSession\n",
    "spark = SparkSession.builder.getOrCreate()\n",
    "spark"
   ]
  },
  {
   "cell_type": "code",
   "execution_count": 0,
   "metadata": {
    "application/vnd.databricks.v1+cell": {
     "cellMetadata": {
      "byteLimit": 2048000,
      "rowLimit": 10000
     },
     "inputWidgets": {},
     "nuid": "8d831e86-fd43-474c-8451-8159a607cc49",
     "showTitle": false,
     "title": ""
    }
   },
   "outputs": [
    {
     "output_type": "display_data",
     "data": {
      "text/html": [
       "<style scoped>\n",
       "  .table-result-container {\n",
       "    max-height: 300px;\n",
       "    overflow: auto;\n",
       "  }\n",
       "  table, th, td {\n",
       "    border: 1px solid black;\n",
       "    border-collapse: collapse;\n",
       "  }\n",
       "  th, td {\n",
       "    padding: 5px;\n",
       "  }\n",
       "  th {\n",
       "    text-align: left;\n",
       "  }\n",
       "</style><div class='table-result-container'><table class='table-result'><thead style='background-color: white'><tr><th>path</th><th>name</th><th>size</th><th>modificationTime</th></tr></thead><tbody><tr><td>dbfs:/FileStore/tables/Address-1.xlsx</td><td>Address-1.xlsx</td><td>151315</td><td>1706076528000</td></tr><tr><td>dbfs:/FileStore/tables/Address-2.xlsx</td><td>Address-2.xlsx</td><td>151315</td><td>1706078350000</td></tr><tr><td>dbfs:/FileStore/tables/Address-3.xlsx</td><td>Address-3.xlsx</td><td>151315</td><td>1706078995000</td></tr><tr><td>dbfs:/FileStore/tables/Address-4.xlsx</td><td>Address-4.xlsx</td><td>151315</td><td>1706117061000</td></tr><tr><td>dbfs:/FileStore/tables/Address.xlsx</td><td>Address.xlsx</td><td>151315</td><td>1706073398000</td></tr><tr><td>dbfs:/FileStore/tables/Detail.csv</td><td>Detail.csv</td><td>208476</td><td>1706073642000</td></tr><tr><td>dbfs:/FileStore/tables/Drugs_package.csv</td><td>Drugs_package.csv</td><td>27234691</td><td>1707889055000</td></tr><tr><td>dbfs:/FileStore/tables/Drugs_product.csv</td><td>Drugs_product.csv</td><td>38743242</td><td>1707889061000</td></tr><tr><td>dbfs:/FileStore/tables/contactinfo-1.txt</td><td>contactinfo-1.txt</td><td>49969</td><td>1706078039000</td></tr><tr><td>dbfs:/FileStore/tables/contactinfo.txt</td><td>contactinfo.txt</td><td>49969</td><td>1706077759000</td></tr><tr><td>dbfs:/FileStore/tables/csv/</td><td>csv/</td><td>0</td><td>0</td></tr><tr><td>dbfs:/FileStore/tables/final/</td><td>final/</td><td>0</td><td>0</td></tr><tr><td>dbfs:/FileStore/tables/header.json</td><td>header.json</td><td>115560</td><td>1706116942000</td></tr><tr><td>dbfs:/FileStore/tables/json/</td><td>json/</td><td>0</td><td>0</td></tr><tr><td>dbfs:/FileStore/tables/parquet/</td><td>parquet/</td><td>0</td><td>0</td></tr></tbody></table></div>"
      ]
     },
     "metadata": {
      "application/vnd.databricks.v1+output": {
       "addedWidgets": {},
       "aggData": [],
       "aggError": "",
       "aggOverflow": false,
       "aggSchema": [],
       "aggSeriesLimitReached": false,
       "aggType": "",
       "arguments": {},
       "columnCustomDisplayInfos": {},
       "data": [
        [
         "dbfs:/FileStore/tables/Address-1.xlsx",
         "Address-1.xlsx",
         151315,
         1706076528000
        ],
        [
         "dbfs:/FileStore/tables/Address-2.xlsx",
         "Address-2.xlsx",
         151315,
         1706078350000
        ],
        [
         "dbfs:/FileStore/tables/Address-3.xlsx",
         "Address-3.xlsx",
         151315,
         1706078995000
        ],
        [
         "dbfs:/FileStore/tables/Address-4.xlsx",
         "Address-4.xlsx",
         151315,
         1706117061000
        ],
        [
         "dbfs:/FileStore/tables/Address.xlsx",
         "Address.xlsx",
         151315,
         1706073398000
        ],
        [
         "dbfs:/FileStore/tables/Detail.csv",
         "Detail.csv",
         208476,
         1706073642000
        ],
        [
         "dbfs:/FileStore/tables/Drugs_package.csv",
         "Drugs_package.csv",
         27234691,
         1707889055000
        ],
        [
         "dbfs:/FileStore/tables/Drugs_product.csv",
         "Drugs_product.csv",
         38743242,
         1707889061000
        ],
        [
         "dbfs:/FileStore/tables/contactinfo-1.txt",
         "contactinfo-1.txt",
         49969,
         1706078039000
        ],
        [
         "dbfs:/FileStore/tables/contactinfo.txt",
         "contactinfo.txt",
         49969,
         1706077759000
        ],
        [
         "dbfs:/FileStore/tables/csv/",
         "csv/",
         0,
         0
        ],
        [
         "dbfs:/FileStore/tables/final/",
         "final/",
         0,
         0
        ],
        [
         "dbfs:/FileStore/tables/header.json",
         "header.json",
         115560,
         1706116942000
        ],
        [
         "dbfs:/FileStore/tables/json/",
         "json/",
         0,
         0
        ],
        [
         "dbfs:/FileStore/tables/parquet/",
         "parquet/",
         0,
         0
        ]
       ],
       "datasetInfos": [],
       "dbfsResultPath": null,
       "isJsonSchema": true,
       "metadata": {
        "isDbfsCommandResult": false
       },
       "overflow": false,
       "plotOptions": {
        "customPlotOptions": {},
        "displayType": "table",
        "pivotAggregation": null,
        "pivotColumns": null,
        "xColumns": null,
        "yColumns": null
       },
       "removedWidgets": [],
       "schema": [
        {
         "metadata": "{}",
         "name": "path",
         "type": "\"string\""
        },
        {
         "metadata": "{}",
         "name": "name",
         "type": "\"string\""
        },
        {
         "metadata": "{}",
         "name": "size",
         "type": "\"long\""
        },
        {
         "metadata": "{}",
         "name": "modificationTime",
         "type": "\"long\""
        }
       ],
       "type": "table"
      }
     },
     "output_type": "display_data"
    }
   ],
   "source": [
    "%fs ls dbfs:///FileStore/tables\n"
   ]
  },
  {
   "cell_type": "code",
   "execution_count": 0,
   "metadata": {
    "application/vnd.databricks.v1+cell": {
     "cellMetadata": {
      "byteLimit": 2048000,
      "rowLimit": 10000
     },
     "inputWidgets": {},
     "nuid": "17aa9aff-dadd-489c-ae2a-e6dce7ffdd40",
     "showTitle": false,
     "title": ""
    }
   },
   "outputs": [],
   "source": [
    "df_csv = spark.read.format(\"csv\").load(\"dbfs:///FileStore/tables/csv/batch.csv\")"
   ]
  },
  {
   "cell_type": "code",
   "execution_count": 0,
   "metadata": {
    "application/vnd.databricks.v1+cell": {
     "cellMetadata": {
      "byteLimit": 2048000,
      "rowLimit": 10000
     },
     "inputWidgets": {},
     "nuid": "788213c1-03e8-4b77-bfb3-54b897edf009",
     "showTitle": false,
     "title": ""
    }
   },
   "outputs": [
    {
     "output_type": "stream",
     "name": "stdout",
     "output_type": "stream",
     "text": [
      "Out[4]: pyspark.sql.dataframe.DataFrame"
     ]
    }
   ],
   "source": [
    "type(df_csv)"
   ]
  },
  {
   "cell_type": "code",
   "execution_count": 0,
   "metadata": {
    "application/vnd.databricks.v1+cell": {
     "cellMetadata": {
      "byteLimit": 2048000,
      "rowLimit": 10000
     },
     "inputWidgets": {},
     "nuid": "d845d4fb-a49a-4c26-9547-3cfd468843ab",
     "showTitle": false,
     "title": ""
    }
   },
   "outputs": [
    {
     "output_type": "stream",
     "name": "stdout",
     "output_type": "stream",
     "text": [
      "+---+-----+----------+----+------+----------+\n|_c0|  _c1|       _c2| _c3|   _c4|       _c5|\n+---+-----+----------+----+------+----------+\n| id| name|       dob| age|salary|department|\n|  1| John|1992-05-12|  30| 70000|        IT|\n|  2|Alice|1997-02-28|  25| 60000|        HR|\n|  3|  Bob|      null|null| 80000|        IT|\n|  4|Emily|1994-11-22|  28| 65000|   Finance|\n+---+-----+----------+----+------+----------+\n\n"
     ]
    }
   ],
   "source": [
    "df_csv.show()"
   ]
  },
  {
   "cell_type": "markdown",
   "metadata": {
    "application/vnd.databricks.v1+cell": {
     "cellMetadata": {
      "byteLimit": 2048000,
      "rowLimit": 10000
     },
     "inputWidgets": {},
     "nuid": "81826a53-cffe-4fbc-9fc0-b45e441a365e",
     "showTitle": false,
     "title": ""
    },
    "jupyter": {
     "outputs_hidden": true
    }
   },
   "source": [
    "for displaying header"
   ]
  },
  {
   "cell_type": "code",
   "execution_count": 0,
   "metadata": {
    "application/vnd.databricks.v1+cell": {
     "cellMetadata": {
      "byteLimit": 2048000,
      "rowLimit": 10000
     },
     "inputWidgets": {},
     "nuid": "061bfc05-5acd-4ffe-9b48-96c4c78082e1",
     "showTitle": false,
     "title": ""
    }
   },
   "outputs": [],
   "source": [
    "df_csv = spark.read.format(\"csv\").option(\"header\", True).load(\"dbfs:///FileStore/tables/csv/batch.csv\")"
   ]
  },
  {
   "cell_type": "code",
   "execution_count": 0,
   "metadata": {
    "application/vnd.databricks.v1+cell": {
     "cellMetadata": {
      "byteLimit": 2048000,
      "rowLimit": 10000
     },
     "inputWidgets": {},
     "nuid": "99b37f47-be64-41f5-9d70-d7bf190d185e",
     "showTitle": false,
     "title": ""
    }
   },
   "outputs": [
    {
     "output_type": "stream",
     "name": "stdout",
     "output_type": "stream",
     "text": [
      "+---+-----+----------+----+------+----------+\n| id| name|       dob| age|salary|department|\n+---+-----+----------+----+------+----------+\n|  1| John|1992-05-12|  30| 70000|        IT|\n|  2|Alice|1997-02-28|  25| 60000|        HR|\n|  3|  Bob|      null|null| 80000|        IT|\n|  4|Emily|1994-11-22|  28| 65000|   Finance|\n+---+-----+----------+----+------+----------+\n\n"
     ]
    }
   ],
   "source": [
    "df_csv.show()"
   ]
  },
  {
   "cell_type": "markdown",
   "metadata": {
    "application/vnd.databricks.v1+cell": {
     "cellMetadata": {
      "byteLimit": 2048000,
      "rowLimit": 10000
     },
     "inputWidgets": {},
     "nuid": "0fbe999f-508b-46f8-895b-cf5ce397cd5d",
     "showTitle": false,
     "title": ""
    }
   },
   "source": [
    "order of the data is acc to rows in CSV file"
   ]
  },
  {
   "cell_type": "code",
   "execution_count": 0,
   "metadata": {
    "application/vnd.databricks.v1+cell": {
     "cellMetadata": {
      "byteLimit": 2048000,
      "rowLimit": 10000
     },
     "inputWidgets": {},
     "nuid": "a30e34ae-a733-45eb-a68c-95df7ed97a5d",
     "showTitle": false,
     "title": ""
    }
   },
   "outputs": [
    {
     "output_type": "stream",
     "name": "stdout",
     "output_type": "stream",
     "text": [
      "root\n |-- id: string (nullable = true)\n |-- name: string (nullable = true)\n |-- dob: string (nullable = true)\n |-- age: string (nullable = true)\n |-- salary: string (nullable = true)\n |-- department: string (nullable = true)\n\n"
     ]
    }
   ],
   "source": [
    "df_csv.printSchema()"
   ]
  },
  {
   "cell_type": "markdown",
   "metadata": {
    "application/vnd.databricks.v1+cell": {
     "cellMetadata": {
      "byteLimit": 2048000,
      "rowLimit": 10000
     },
     "inputWidgets": {},
     "nuid": "a24b7ec8-7c68-4cc0-b2a7-a96f321fea3b",
     "showTitle": false,
     "title": ""
    }
   },
   "source": [
    "for specifying data type "
   ]
  },
  {
   "cell_type": "code",
   "execution_count": 0,
   "metadata": {
    "application/vnd.databricks.v1+cell": {
     "cellMetadata": {
      "byteLimit": 2048000,
      "rowLimit": 10000
     },
     "inputWidgets": {},
     "nuid": "d8ee5049-b611-43ef-adbb-f4f7bca73c53",
     "showTitle": false,
     "title": ""
    }
   },
   "outputs": [],
   "source": [
    "from pyspark.sql.types import StructType, StructField, IntegerType, StringType, DateType"
   ]
  },
  {
   "cell_type": "code",
   "execution_count": 0,
   "metadata": {
    "application/vnd.databricks.v1+cell": {
     "cellMetadata": {
      "byteLimit": 2048000,
      "rowLimit": 10000
     },
     "inputWidgets": {},
     "nuid": "d676346b-c77d-4b5c-93b1-b0cde36ac8c5",
     "showTitle": false,
     "title": ""
    }
   },
   "outputs": [],
   "source": [
    "schema = StructType(\n",
    "    [\n",
    "        StructField(\"id\", IntegerType()),\n",
    "        StructField(\"name\", StringType()),\n",
    "        StructField(\"dob\", DateType()),\n",
    "        StructField(\"age\", IntegerType()),\n",
    "        StructField(\"salary\", IntegerType()),\n",
    "        StructField(\"department\", StringType()),\n",
    "    ]\n",
    ")"
   ]
  },
  {
   "cell_type": "code",
   "execution_count": 0,
   "metadata": {
    "application/vnd.databricks.v1+cell": {
     "cellMetadata": {
      "byteLimit": 2048000,
      "rowLimit": 10000
     },
     "inputWidgets": {},
     "nuid": "ac351e87-2b46-4cd9-bfc3-919e1bf86ef3",
     "showTitle": false,
     "title": ""
    }
   },
   "outputs": [],
   "source": [
    "df_csv = spark.read.format(\"csv\").schema(schema).option(\"header\", True).load(\"dbfs:///FileStore/tables/csv/batch.csv\")"
   ]
  },
  {
   "cell_type": "code",
   "execution_count": 0,
   "metadata": {
    "application/vnd.databricks.v1+cell": {
     "cellMetadata": {
      "byteLimit": 2048000,
      "rowLimit": 10000
     },
     "inputWidgets": {},
     "nuid": "d19cc93b-5e5f-41e7-8819-f4f0babffed8",
     "showTitle": false,
     "title": ""
    }
   },
   "outputs": [
    {
     "output_type": "stream",
     "name": "stdout",
     "output_type": "stream",
     "text": [
      "root\n |-- id: integer (nullable = true)\n |-- name: string (nullable = true)\n |-- dob: date (nullable = true)\n |-- age: integer (nullable = true)\n |-- salary: integer (nullable = true)\n |-- department: string (nullable = true)\n\n+---+-----+----------+----+------+----------+\n| id| name|       dob| age|salary|department|\n+---+-----+----------+----+------+----------+\n|  1| John|1992-05-12|  30| 70000|        IT|\n|  2|Alice|1997-02-28|  25| 60000|        HR|\n|  3|  Bob|      null|null| 80000|        IT|\n|  4|Emily|1994-11-22|  28| 65000|   Finance|\n+---+-----+----------+----+------+----------+\n\n"
     ]
    }
   ],
   "source": [
    "df_csv.printSchema()\n",
    "df_csv.show()"
   ]
  },
  {
   "cell_type": "code",
   "execution_count": 0,
   "metadata": {
    "application/vnd.databricks.v1+cell": {
     "cellMetadata": {
      "byteLimit": 2048000,
      "rowLimit": 10000
     },
     "inputWidgets": {},
     "nuid": "869ca676-2e5c-429e-b1fb-0deb77dd93e8",
     "showTitle": false,
     "title": ""
    }
   },
   "outputs": [],
   "source": [
    "df_csv = spark.read.format(\"csv\").schema(schema).option(\"header\", True).option(\"inferSchema\", True).load(\"dbfs:///FileStore/tables/csv/batch.csv\")"
   ]
  },
  {
   "cell_type": "code",
   "execution_count": 0,
   "metadata": {
    "application/vnd.databricks.v1+cell": {
     "cellMetadata": {
      "byteLimit": 2048000,
      "rowLimit": 10000
     },
     "inputWidgets": {},
     "nuid": "1f1df421-f59c-4d1a-9624-0d666ceb1a8f",
     "showTitle": false,
     "title": ""
    }
   },
   "outputs": [
    {
     "output_type": "stream",
     "name": "stdout",
     "output_type": "stream",
     "text": [
      "+---+-----+----------+----+------+----------+\n| id| name|       dob| age|salary|department|\n+---+-----+----------+----+------+----------+\n|  1| John|1992-05-12|  30| 70000|        IT|\n|  2|Alice|1997-02-28|  25| 60000|        HR|\n|  3|  Bob|      null|null| 80000|        IT|\n|  4|Emily|1994-11-22|  28| 65000|   Finance|\n+---+-----+----------+----+------+----------+\n\n"
     ]
    }
   ],
   "source": [
    "df_csv.show()"
   ]
  },
  {
   "cell_type": "markdown",
   "metadata": {
    "application/vnd.databricks.v1+cell": {
     "cellMetadata": {
      "byteLimit": 2048000,
      "rowLimit": 10000
     },
     "inputWidgets": {},
     "nuid": "f322d93e-fd23-408a-ba88-fdccf0cc5e44",
     "showTitle": false,
     "title": ""
    }
   },
   "source": [
    "Extact json"
   ]
  },
  {
   "cell_type": "code",
   "execution_count": 0,
   "metadata": {
    "application/vnd.databricks.v1+cell": {
     "cellMetadata": {
      "byteLimit": 2048000,
      "rowLimit": 10000
     },
     "inputWidgets": {},
     "nuid": "d2ffe2dd-aaf8-4a86-a70a-11d677e514e2",
     "showTitle": false,
     "title": ""
    }
   },
   "outputs": [],
   "source": []
  },
  {
   "cell_type": "code",
   "execution_count": 0,
   "metadata": {
    "application/vnd.databricks.v1+cell": {
     "cellMetadata": {
      "byteLimit": 2048000,
      "rowLimit": 10000
     },
     "inputWidgets": {},
     "nuid": "cbce13a9-ac8b-4300-b33e-a545cdc5a276",
     "showTitle": false,
     "title": ""
    }
   },
   "outputs": [
    {
     "output_type": "stream",
     "name": "stdout",
     "output_type": "stream",
     "text": [
      "root\n |-- id: integer (nullable = true)\n |-- name: string (nullable = true)\n |-- dob: date (nullable = true)\n |-- age: integer (nullable = true)\n |-- salary: integer (nullable = true)\n |-- department: string (nullable = true)\n\n"
     ]
    }
   ],
   "source": [
    "df_json = spark.read.format(\"json\").schema(schema).load(\"dbfs:///FileStore/tables/json\").orderBy(\"id\") #sets header auto no order of data, \n",
    "df_json.printSchema()"
   ]
  },
  {
   "cell_type": "code",
   "execution_count": 0,
   "metadata": {
    "application/vnd.databricks.v1+cell": {
     "cellMetadata": {
      "byteLimit": 2048000,
      "rowLimit": 10000
     },
     "inputWidgets": {},
     "nuid": "840f3f3b-9fe2-4d37-bea4-bb9a0f3ffa15",
     "showTitle": false,
     "title": ""
    }
   },
   "outputs": [
    {
     "output_type": "stream",
     "name": "stdout",
     "output_type": "stream",
     "text": [
      "+---+------+----------+----+------+----------+\n| id|  name|       dob| age|salary|department|\n+---+------+----------+----+------+----------+\n|  1|  John|1992-05-12|  30| 70000|        IT|\n|  1|  John|1992-05-12|  30| 70000|        IT|\n|  2| Alice|1997-02-28|  25| 90000|   Finance|\n|  2| Alice|1997-02-28|  25| 60000|        HR|\n|  3|   Bob|      null|null| 80000|        IT|\n|  4| Emily|1994-11-22|  28| 70000|   Finance|\n|  4| Emily|1994-11-22|  28| 65000|   Finance|\n|  5| David|1981-12-18|  41| 90000|        HR|\n|  6| Susan|1989-07-05|  33| 75000|   Finance|\n|  7|  Mike|1976-03-15|  46| 95000|        IT|\n|  8|  Lisa|1995-08-20|  27| 58000|        HR|\n|  9| James|1983-10-14|  39| 87000|        IT|\n| 10|Sophie|1992-06-30|  30| 62000|   Finance|\n+---+------+----------+----+------+----------+\n\n"
     ]
    }
   ],
   "source": [
    "df_json.show()"
   ]
  },
  {
   "cell_type": "code",
   "execution_count": 0,
   "metadata": {
    "application/vnd.databricks.v1+cell": {
     "cellMetadata": {
      "byteLimit": 2048000,
      "rowLimit": 10000
     },
     "inputWidgets": {},
     "nuid": "51216edc-a087-4448-b9ba-fdbcef9594d9",
     "showTitle": false,
     "title": ""
    }
   },
   "outputs": [
    {
     "output_type": "stream",
     "name": "stdout",
     "output_type": "stream",
     "text": [
      "root\n |-- id: integer (nullable = true)\n |-- name: string (nullable = true)\n |-- dob: date (nullable = true)\n |-- age: integer (nullable = true)\n |-- salary: integer (nullable = true)\n |-- department: string (nullable = true)\n\n"
     ]
    }
   ],
   "source": [
    "df_json.printSchema()"
   ]
  },
  {
   "cell_type": "code",
   "execution_count": 0,
   "metadata": {
    "application/vnd.databricks.v1+cell": {
     "cellMetadata": {
      "byteLimit": 2048000,
      "rowLimit": 10000
     },
     "inputWidgets": {},
     "nuid": "b1242ab3-f990-4687-ad29-71efe71d616f",
     "showTitle": false,
     "title": ""
    }
   },
   "outputs": [
    {
     "output_type": "stream",
     "name": "stdout",
     "output_type": "stream",
     "text": [
      "+---+------+----------+----+------+----------+\n| id|  name|       dob| age|salary|department|\n+---+------+----------+----+------+----------+\n|  1|  John|1992-05-12|  30| 70000|        IT|\n|  2| Alice|1997-02-28|  25| 60000|        HR|\n|  3|   Bob|      null|null| 80000|        IT|\n|  4| Emily|1994-11-22|  28| 65000|   Finance|\n|  1|  John|1992-05-12|  30| 70000|        IT|\n|  1|  John|1992-05-12|  30| 70000|        IT|\n|  2| Alice|1997-02-28|  25| 60000|        HR|\n|  2| Alice|1997-02-28|  25| 90000|   Finance|\n|  3|   Bob|      null|null| 80000|        IT|\n|  4| Emily|1994-11-22|  28| 65000|   Finance|\n|  4| Emily|1994-11-22|  28| 70000|   Finance|\n|  5| David|1981-12-18|  41| 90000|        HR|\n|  6| Susan|1989-07-05|  33| 75000|   Finance|\n|  7|  Mike|1976-03-15|  46| 95000|        IT|\n|  8|  Lisa|1995-08-20|  27| 58000|        HR|\n|  9| James|1983-10-14|  39| 87000|        IT|\n| 10|Sophie|1992-06-30|  30| 62000|   Finance|\n+---+------+----------+----+------+----------+\n\n"
     ]
    }
   ],
   "source": [
    "df = df_csv.union(df_json)\n",
    "df.show()\n",
    "\n",
    "# issue in data"
   ]
  },
  {
   "cell_type": "code",
   "execution_count": 0,
   "metadata": {
    "application/vnd.databricks.v1+cell": {
     "cellMetadata": {
      "byteLimit": 2048000,
      "rowLimit": 10000
     },
     "inputWidgets": {},
     "nuid": "dc083d0d-5b87-4489-9e6c-802d313ee742",
     "showTitle": false,
     "title": ""
    }
   },
   "outputs": [
    {
     "output_type": "stream",
     "name": "stdout",
     "output_type": "stream",
     "text": [
      "17\n"
     ]
    }
   ],
   "source": [
    "print(df.count())"
   ]
  },
  {
   "cell_type": "code",
   "execution_count": 0,
   "metadata": {
    "application/vnd.databricks.v1+cell": {
     "cellMetadata": {
      "byteLimit": 2048000,
      "rowLimit": 10000
     },
     "inputWidgets": {},
     "nuid": "ca057745-4dac-4bd3-9798-da366451a379",
     "showTitle": false,
     "title": ""
    }
   },
   "outputs": [
    {
     "output_type": "stream",
     "name": "stdout",
     "output_type": "stream",
     "text": [
      "root\n |-- id: integer (nullable = true)\n |-- name: string (nullable = true)\n |-- dob: date (nullable = true)\n |-- age: integer (nullable = true)\n |-- salary: integer (nullable = true)\n |-- department: string (nullable = true)\n\n"
     ]
    }
   ],
   "source": [
    "df.printSchema()"
   ]
  },
  {
   "cell_type": "code",
   "execution_count": 0,
   "metadata": {
    "application/vnd.databricks.v1+cell": {
     "cellMetadata": {
      "byteLimit": 2048000,
      "rowLimit": 10000
     },
     "inputWidgets": {},
     "nuid": "3566d0d0-d24a-4d7b-8ca4-120437bd4ed5",
     "showTitle": false,
     "title": ""
    }
   },
   "outputs": [
    {
     "output_type": "stream",
     "name": "stdout",
     "output_type": "stream",
     "text": [
      "['id', 'name', 'dob', 'age', 'salary', 'department'] ['id', 'name', 'dob', 'age', 'salary', 'department']\n"
     ]
    }
   ],
   "source": [
    "print(df_csv.columns, df_json.columns) #to prints columns list"
   ]
  },
  {
   "cell_type": "code",
   "execution_count": 0,
   "metadata": {
    "application/vnd.databricks.v1+cell": {
     "cellMetadata": {
      "byteLimit": 2048000,
      "rowLimit": 10000
     },
     "inputWidgets": {},
     "nuid": "fe739247-b477-4faf-af20-5d35015fa849",
     "showTitle": false,
     "title": ""
    }
   },
   "outputs": [
    {
     "output_type": "stream",
     "name": "stdout",
     "output_type": "stream",
     "text": [
      "+---+------+----------+----+------+----------+\n| id|  name|       dob| age|salary|department|\n+---+------+----------+----+------+----------+\n|  1|  John|1992-05-12|  30| 70000|        IT|\n|  1|  John|1992-05-12|  30| 70000|        IT|\n|  2| Alice|1997-02-28|  25| 90000|   Finance|\n|  2| Alice|1997-02-28|  25| 60000|        HR|\n|  3|   Bob|      null|null| 80000|        IT|\n|  4| Emily|1994-11-22|  28| 70000|   Finance|\n|  4| Emily|1994-11-22|  28| 65000|   Finance|\n|  5| David|1981-12-18|  41| 90000|        HR|\n|  6| Susan|1989-07-05|  33| 75000|   Finance|\n|  7|  Mike|1976-03-15|  46| 95000|        IT|\n|  8|  Lisa|1995-08-20|  27| 58000|        HR|\n|  9| James|1983-10-14|  39| 87000|        IT|\n| 10|Sophie|1992-06-30|  30| 62000|   Finance|\n+---+------+----------+----+------+----------+\n\n"
     ]
    }
   ],
   "source": [
    "# for seting columns order of df_json same as df_csv \n",
    "df_json = df_json.select(df_csv.columns)\n",
    "df_json.show()"
   ]
  },
  {
   "cell_type": "code",
   "execution_count": 0,
   "metadata": {
    "application/vnd.databricks.v1+cell": {
     "cellMetadata": {
      "byteLimit": 2048000,
      "rowLimit": 10000
     },
     "inputWidgets": {},
     "nuid": "07b92023-23ac-46b8-aa2b-bdc6f35fc118",
     "showTitle": false,
     "title": ""
    }
   },
   "outputs": [
    {
     "output_type": "stream",
     "name": "stdout",
     "output_type": "stream",
     "text": [
      "['id', 'name', 'dob', 'age', 'salary', 'department'] ['id', 'name', 'dob', 'age', 'salary', 'department']\n"
     ]
    }
   ],
   "source": [
    "print(df_csv.columns, df_json.columns) #to prints columns list"
   ]
  },
  {
   "cell_type": "code",
   "execution_count": 0,
   "metadata": {
    "application/vnd.databricks.v1+cell": {
     "cellMetadata": {
      "byteLimit": 2048000,
      "rowLimit": 10000
     },
     "inputWidgets": {},
     "nuid": "a5f00c44-42a2-49da-81cc-1e7a8f5068c0",
     "showTitle": false,
     "title": ""
    }
   },
   "outputs": [
    {
     "output_type": "stream",
     "name": "stdout",
     "output_type": "stream",
     "text": [
      "+---+------+----------+----+------+----------+\n| id|  name|       dob| age|salary|department|\n+---+------+----------+----+------+----------+\n|  1|  John|1992-05-12|  30| 70000|        IT|\n|  2| Alice|1997-02-28|  25| 60000|        HR|\n|  3|   Bob|      null|null| 80000|        IT|\n|  4| Emily|1994-11-22|  28| 65000|   Finance|\n|  1|  John|1992-05-12|  30| 70000|        IT|\n|  1|  John|1992-05-12|  30| 70000|        IT|\n|  2| Alice|1997-02-28|  25| 60000|        HR|\n|  2| Alice|1997-02-28|  25| 90000|   Finance|\n|  3|   Bob|      null|null| 80000|        IT|\n|  4| Emily|1994-11-22|  28| 65000|   Finance|\n|  4| Emily|1994-11-22|  28| 70000|   Finance|\n|  5| David|1981-12-18|  41| 90000|        HR|\n|  6| Susan|1989-07-05|  33| 75000|   Finance|\n|  7|  Mike|1976-03-15|  46| 95000|        IT|\n|  8|  Lisa|1995-08-20|  27| 58000|        HR|\n|  9| James|1983-10-14|  39| 87000|        IT|\n| 10|Sophie|1992-06-30|  30| 62000|   Finance|\n+---+------+----------+----+------+----------+\n\n"
     ]
    }
   ],
   "source": [
    "df = df_csv.union(df_json)\n",
    "df.show()"
   ]
  },
  {
   "cell_type": "code",
   "execution_count": 0,
   "metadata": {
    "application/vnd.databricks.v1+cell": {
     "cellMetadata": {
      "byteLimit": 2048000,
      "rowLimit": 10000
     },
     "inputWidgets": {},
     "nuid": "2da1fdfa-b1c8-479d-b8ec-0b17d0f3ca7e",
     "showTitle": false,
     "title": ""
    }
   },
   "outputs": [],
   "source": [
    "from pyspark.sql import SparkSession\n",
    "spark = SparkSession.builder.getOrCreate()\n",
    "df_parquet = spark.read.format(\"parquet\").load('dbfs:///FileStore/tables/parquet')\n",
    "\n",
    "# spark.read.parquet('dbfs:///FileStore/tables/parquet')"
   ]
  },
  {
   "cell_type": "code",
   "execution_count": 0,
   "metadata": {
    "application/vnd.databricks.v1+cell": {
     "cellMetadata": {
      "byteLimit": 2048000,
      "rowLimit": 10000
     },
     "collapsed": true,
     "inputWidgets": {},
     "nuid": "25389620-23b2-4239-962d-49a712a8b637",
     "showTitle": false,
     "title": ""
    }
   },
   "outputs": [
    {
     "output_type": "stream",
     "name": "stdout",
     "output_type": "stream",
     "text": [
      "+----------+-------+--------+\n|department|manager|    lead|\n+----------+-------+--------+\n|   Finance|  Megan|   Molly|\n|        HR|   Brad|   Brian|\n|        IT|  Chris|Chandler|\n|  Delivery|   Leon|  Louise|\n+----------+-------+--------+\n\n"
     ]
    }
   ],
   "source": [
    "df_parquet.show()"
   ]
  },
  {
   "cell_type": "markdown",
   "metadata": {
    "application/vnd.databricks.v1+cell": {
     "cellMetadata": {
      "byteLimit": 2048000,
      "rowLimit": 10000
     },
     "inputWidgets": {},
     "nuid": "0dc13b42-a068-4fe2-8131-c33cfc72c048",
     "showTitle": false,
     "title": ""
    }
   },
   "source": [
    "in pyspark UnionAll() is depricated . UnionAll() and Union() both act as UnionAll(), duplicates are not truncated. "
   ]
  },
  {
   "cell_type": "code",
   "execution_count": 0,
   "metadata": {
    "application/vnd.databricks.v1+cell": {
     "cellMetadata": {
      "byteLimit": 2048000,
      "rowLimit": 10000
     },
     "inputWidgets": {},
     "nuid": "26e8d369-fd47-4593-b800-a0f8060d76fd",
     "showTitle": false,
     "title": ""
    }
   },
   "outputs": [
    {
     "output_type": "stream",
     "name": "stdout",
     "output_type": "stream",
     "text": [
      "12\n"
     ]
    }
   ],
   "source": [
    "df = df.dropDuplicates()\n",
    "print(df.count())"
   ]
  },
  {
   "cell_type": "code",
   "execution_count": 0,
   "metadata": {
    "application/vnd.databricks.v1+cell": {
     "cellMetadata": {
      "byteLimit": 2048000,
      "rowLimit": 10000
     },
     "inputWidgets": {},
     "nuid": "03f4734c-2dcf-469a-988f-7f1d88809246",
     "showTitle": false,
     "title": ""
    }
   },
   "outputs": [
    {
     "output_type": "stream",
     "name": "stdout",
     "output_type": "stream",
     "text": [
      "+---+------+----------+----+------+----------+\n| id|  name|       dob| age|salary|department|\n+---+------+----------+----+------+----------+\n|  3|   Bob|      null|null| 80000|        IT|\n|  4| Emily|1994-11-22|  28| 65000|   Finance|\n|  2| Alice|1997-02-28|  25| 60000|        HR|\n|  1|  John|1992-05-12|  30| 70000|        IT|\n|  5| David|1981-12-18|  41| 90000|        HR|\n|  6| Susan|1989-07-05|  33| 75000|   Finance|\n|  7|  Mike|1976-03-15|  46| 95000|        IT|\n| 10|Sophie|1992-06-30|  30| 62000|   Finance|\n|  2| Alice|1997-02-28|  25| 90000|   Finance|\n|  4| Emily|1994-11-22|  28| 70000|   Finance|\n|  9| James|1983-10-14|  39| 87000|        IT|\n|  8|  Lisa|1995-08-20|  27| 58000|        HR|\n+---+------+----------+----+------+----------+\n\n"
     ]
    }
   ],
   "source": [
    "df.show()"
   ]
  },
  {
   "cell_type": "markdown",
   "metadata": {
    "application/vnd.databricks.v1+cell": {
     "cellMetadata": {
      "byteLimit": 2048000,
      "rowLimit": 10000
     },
     "inputWidgets": {},
     "nuid": "080659fe-9f06-4b1d-902c-2aeed167fa4d",
     "showTitle": false,
     "title": ""
    }
   },
   "source": [
    "Trasformation"
   ]
  },
  {
   "cell_type": "markdown",
   "metadata": {
    "application/vnd.databricks.v1+cell": {
     "cellMetadata": {
      "byteLimit": 2048000,
      "rowLimit": 10000
     },
     "inputWidgets": {},
     "nuid": "4ffe7cd7-a155-4809-8fec-f21d60ad3d20",
     "showTitle": false,
     "title": ""
    }
   },
   "source": [
    "SELECT"
   ]
  },
  {
   "cell_type": "code",
   "execution_count": 0,
   "metadata": {
    "application/vnd.databricks.v1+cell": {
     "cellMetadata": {
      "byteLimit": 2048000,
      "rowLimit": 10000
     },
     "inputWidgets": {},
     "nuid": "ea932a22-6833-4169-8570-0c11b1508369",
     "showTitle": false,
     "title": ""
    }
   },
   "outputs": [],
   "source": [
    "from pyspark.sql import functions as F #F.col(), F.max(), F.min()\n",
    "# from pyspark.sql.functions import *\n",
    "# from pyspark.sql.functions import col, max, min\n"
   ]
  },
  {
   "cell_type": "code",
   "execution_count": 0,
   "metadata": {
    "application/vnd.databricks.v1+cell": {
     "cellMetadata": {
      "byteLimit": 2048000,
      "rowLimit": 10000
     },
     "inputWidgets": {},
     "nuid": "e48cf2af-39b7-4be1-9a46-031d936ff46e",
     "showTitle": false,
     "title": ""
    }
   },
   "outputs": [
    {
     "output_type": "stream",
     "name": "stdout",
     "output_type": "stream",
     "text": [
      "+------+----+\n|salary| age|\n+------+----+\n| 80000|null|\n| 65000|  28|\n| 60000|  25|\n| 70000|  30|\n| 90000|  41|\n| 75000|  33|\n| 95000|  46|\n| 62000|  30|\n| 90000|  25|\n| 70000|  28|\n| 87000|  39|\n| 58000|  27|\n+------+----+\n\n+------+----+\n|salary| age|\n+------+----+\n| 80000|null|\n| 65000|  28|\n| 60000|  25|\n| 70000|  30|\n| 90000|  41|\n| 75000|  33|\n| 95000|  46|\n| 62000|  30|\n| 90000|  25|\n| 70000|  28|\n| 87000|  39|\n| 58000|  27|\n+------+----+\n\n+------+----+\n|salary| age|\n+------+----+\n| 80000|null|\n| 65000|  28|\n| 60000|  25|\n| 70000|  30|\n| 90000|  41|\n| 75000|  33|\n| 95000|  46|\n| 62000|  30|\n| 90000|  25|\n| 70000|  28|\n| 87000|  39|\n| 58000|  27|\n+------+----+\n\nOut[30]: DataFrame[salary: int, age: int]"
     ]
    }
   ],
   "source": [
    "df.select(\n",
    "    \"salary\",\n",
    "    \"age\"\n",
    ").show()\n",
    "df.select(\n",
    "    [\"salary\", \"age\"]\n",
    ").show()\n",
    "\n",
    "df.select(\n",
    "    df.salary,\n",
    "    df.age\n",
    ").show()\n",
    "\n",
    "df.select(\n",
    "    F.col(\"salary\"),\n",
    "    F.col(\"age\")\n",
    ")"
   ]
  },
  {
   "cell_type": "code",
   "execution_count": 0,
   "metadata": {
    "application/vnd.databricks.v1+cell": {
     "cellMetadata": {
      "byteLimit": 2048000,
      "rowLimit": 10000
     },
     "inputWidgets": {},
     "nuid": "d4fb4b80-2220-49f0-b841-9356c7a34bce",
     "showTitle": false,
     "title": ""
    }
   },
   "outputs": [
    {
     "output_type": "stream",
     "name": "stdout",
     "output_type": "stream",
     "text": [
      "+--------------------------+---------------------------------------+---------------------------------------+\n|(salary + (salary * 0.05))|(year(current_timestamp()) - year(dob))|(year(current_timestamp()) - year(dob))|\n+--------------------------+---------------------------------------+---------------------------------------+\n|                   84000.0|                                   null|                                   null|\n|                   68250.0|                                     30|                                     30|\n|                   63000.0|                                     27|                                     27|\n|                   73500.0|                                     32|                                     32|\n|                   94500.0|                                     43|                                     43|\n|                   78750.0|                                     35|                                     35|\n|                   99750.0|                                     48|                                     48|\n|                   65100.0|                                     32|                                     32|\n|                   94500.0|                                     27|                                     27|\n|                   73500.0|                                     30|                                     30|\n|                   91350.0|                                     41|                                     41|\n|                   60900.0|                                     29|                                     29|\n+--------------------------+---------------------------------------+---------------------------------------+\n\n"
     ]
    }
   ],
   "source": [
    "\n",
    "df.select(\n",
    "    df.salary +.05 *df.salary,\n",
    "    F.year(F.current_timestamp())- F.year(F.col(\"dob\")),\n",
    "    F.year(F.current_timestamp())- F.year(\"dob\")\n",
    ").show()"
   ]
  },
  {
   "cell_type": "code",
   "execution_count": 0,
   "metadata": {
    "application/vnd.databricks.v1+cell": {
     "cellMetadata": {
      "byteLimit": 2048000,
      "rowLimit": 10000
     },
     "inputWidgets": {},
     "nuid": "03449157-32b8-445c-8db7-8a8303653e53",
     "showTitle": false,
     "title": ""
    }
   },
   "outputs": [
    {
     "output_type": "stream",
     "name": "stdout",
     "output_type": "stream",
     "text": [
      "Column<'year(current_timestamp())'>\n"
     ]
    }
   ],
   "source": [
    "print(F.year(F.current_timestamp()))"
   ]
  },
  {
   "cell_type": "markdown",
   "metadata": {
    "application/vnd.databricks.v1+cell": {
     "cellMetadata": {
      "byteLimit": 2048000,
      "rowLimit": 10000
     },
     "inputWidgets": {},
     "nuid": "026dec9d-f116-4f8d-a8bb-8747ee1360d2",
     "showTitle": false,
     "title": ""
    }
   },
   "source": [
    "Alias, select, expr"
   ]
  },
  {
   "cell_type": "code",
   "execution_count": 0,
   "metadata": {
    "application/vnd.databricks.v1+cell": {
     "cellMetadata": {
      "byteLimit": 2048000,
      "rowLimit": 10000
     },
     "inputWidgets": {},
     "nuid": "38b92d7f-be2d-4fa4-8bbe-143e77e81f7f",
     "showTitle": false,
     "title": ""
    }
   },
   "outputs": [
    {
     "output_type": "stream",
     "name": "stdout",
     "output_type": "stream",
     "text": [
      "+---+------+----------+----+------+----------+--------------------------+------------+--------+----+\n| id|  name|       dob| age|salary|department|(salary + (salary * 0.05))|salary_raise|  salary| age|\n+---+------+----------+----+------+----------+--------------------------+------------+--------+----+\n|  3|   Bob|      null|null| 80000|        IT|                   84000.0|     84000.0|84000.00|null|\n|  4| Emily|1994-11-22|  28| 65000|   Finance|                   68250.0|     68250.0|68250.00|  30|\n|  2| Alice|1997-02-28|  25| 60000|        HR|                   63000.0|     63000.0|63000.00|  27|\n|  1|  John|1992-05-12|  30| 70000|        IT|                   73500.0|     73500.0|73500.00|  32|\n|  5| David|1981-12-18|  41| 90000|        HR|                   94500.0|     94500.0|94500.00|  43|\n|  6| Susan|1989-07-05|  33| 75000|   Finance|                   78750.0|     78750.0|78750.00|  35|\n|  7|  Mike|1976-03-15|  46| 95000|        IT|                   99750.0|     99750.0|99750.00|  48|\n| 10|Sophie|1992-06-30|  30| 62000|   Finance|                   65100.0|     65100.0|65100.00|  32|\n|  2| Alice|1997-02-28|  25| 90000|   Finance|                   94500.0|     94500.0|94500.00|  27|\n|  4| Emily|1994-11-22|  28| 70000|   Finance|                   73500.0|     73500.0|73500.00|  30|\n|  9| James|1983-10-14|  39| 87000|        IT|                   91350.0|     91350.0|91350.00|  41|\n|  8|  Lisa|1995-08-20|  27| 58000|        HR|                   60900.0|     60900.0|60900.00|  29|\n+---+------+----------+----+------+----------+--------------------------+------------+--------+----+\n\n"
     ]
    }
   ],
   "source": [
    "df.select(\n",
    "    # \"*\",\n",
    "    F.col(\"*\"),\n",
    "    df.salary +.05 *df.salary,\n",
    "    (df.salary +.05 *df.salary).alias(\"salary_raise\"),\n",
    "    F.expr(\"salary +.05 * salary\").alias(\"salary\"),\n",
    "    (\n",
    "        F.year(F.current_timestamp())- F.year(F.col(\"dob\"))\n",
    "    ).alias(\"age\"),\n",
    ").show()"
   ]
  },
  {
   "cell_type": "code",
   "execution_count": 0,
   "metadata": {
    "application/vnd.databricks.v1+cell": {
     "cellMetadata": {
      "byteLimit": 2048000,
      "rowLimit": 10000
     },
     "inputWidgets": {},
     "nuid": "c614c438-b30a-475b-9635-045ad69cf2fa",
     "showTitle": false,
     "title": ""
    }
   },
   "outputs": [
    {
     "output_type": "stream",
     "name": "stdout",
     "output_type": "stream",
     "text": [
      "+--------------------------+------------+--------+----+\n|(salary + (salary * 0.05))|salary_raise|  salary| age|\n+--------------------------+------------+--------+----+\n|                   84000.0|     84000.0|84000.00|null|\n|                   68250.0|     68250.0|68250.00|  30|\n|                   63000.0|     63000.0|63000.00|  27|\n|                   73500.0|     73500.0|73500.00|  32|\n|                   94500.0|     94500.0|94500.00|  43|\n|                   78750.0|     78750.0|78750.00|  35|\n|                   99750.0|     99750.0|99750.00|  48|\n|                   65100.0|     65100.0|65100.00|  32|\n|                   94500.0|     94500.0|94500.00|  27|\n|                   73500.0|     73500.0|73500.00|  30|\n|                   91350.0|     91350.0|91350.00|  41|\n|                   60900.0|     60900.0|60900.00|  29|\n+--------------------------+------------+--------+----+\n\n"
     ]
    }
   ],
   "source": [
    "df.select(\n",
    "    df.salary +.05 *df.salary,\n",
    "    (df.salary +.05 *df.salary).alias(\"salary_raise\"),\n",
    "    F.expr(\"salary +.05 * salary\").alias(\"salary\"),\n",
    "    (\n",
    "        F.year(F.current_timestamp())- F.year(F.col(\"dob\"))\n",
    "    ).alias(\"age\"),\n",
    ").show()"
   ]
  },
  {
   "cell_type": "markdown",
   "metadata": {
    "application/vnd.databricks.v1+cell": {
     "cellMetadata": {
      "byteLimit": 2048000,
      "rowLimit": 10000
     },
     "inputWidgets": {},
     "nuid": "fda2f678-ef30-45b4-a5f6-dfb5cd0152e2",
     "showTitle": false,
     "title": ""
    }
   },
   "source": [
    "withcolumns: appends column"
   ]
  },
  {
   "cell_type": "code",
   "execution_count": 0,
   "metadata": {
    "application/vnd.databricks.v1+cell": {
     "cellMetadata": {
      "byteLimit": 2048000,
      "rowLimit": 10000
     },
     "inputWidgets": {},
     "nuid": "bacd5039-35b9-4ae3-933c-b783571f32a2",
     "showTitle": false,
     "title": ""
    }
   },
   "outputs": [
    {
     "output_type": "stream",
     "name": "stdout",
     "output_type": "stream",
     "text": [
      "+---+------+----------+----+------+----------+------------+--------------------+-------------------+\n| id|  name|       dob| age|salary|department|salary_raise|salary_raise_10_pers|salary_raise_7_pers|\n+---+------+----------+----+------+----------+------------+--------------------+-------------------+\n|  3|   Bob|      null|null| 80000|        IT|    120000.0|             88000.0|           136000.0|\n|  4| Emily|1994-11-22|  28| 65000|   Finance|     97500.0|             71500.0|           110500.0|\n|  2| Alice|1997-02-28|  25| 60000|        HR|     90000.0|             66000.0|           102000.0|\n|  1|  John|1992-05-12|  30| 70000|        IT|    105000.0|             77000.0|           119000.0|\n|  5| David|1981-12-18|  41| 90000|        HR|    135000.0|             99000.0|           153000.0|\n|  6| Susan|1989-07-05|  33| 75000|   Finance|    112500.0|             82500.0|           127500.0|\n|  7|  Mike|1976-03-15|  46| 95000|        IT|    142500.0|            104500.0|           161500.0|\n| 10|Sophie|1992-06-30|  30| 62000|   Finance|     93000.0|             68200.0|           105400.0|\n|  2| Alice|1997-02-28|  25| 90000|   Finance|    135000.0|             99000.0|           153000.0|\n|  4| Emily|1994-11-22|  28| 70000|   Finance|    105000.0|             77000.0|           119000.0|\n|  9| James|1983-10-14|  39| 87000|        IT|    130500.0|             95700.0|           147900.0|\n|  8|  Lisa|1995-08-20|  27| 58000|        HR|     87000.0|             63800.0|            98600.0|\n+---+------+----------+----+------+----------+------------+--------------------+-------------------+\n\n"
     ]
    }
   ],
   "source": [
    "#either\n",
    "\n",
    "# df=df.withColumn(\n",
    "#     \"salary_raise\",\n",
    "#     (F.col(\"salary\") +0.5 *F.col(\"salary\"))\n",
    "# )\n",
    "# df=df.withColumn(\n",
    "#     \"salary_raise_10_pers\",\n",
    "#     (F.col(\"salary\") +.1 *F.col(\"salary\"))\n",
    "# )\n",
    "\n",
    "#or\n",
    "df = df.withColumn(\n",
    "    \"salary_raise\",\n",
    "    (F.col(\"salary\") +0.5 *F.col(\"salary\"))\n",
    ").withColumn(\n",
    "    \"salary_raise_10_pers\",\n",
    "    (F.col(\"salary\") +.1 *F.col(\"salary\"))\n",
    ").withColumn(\n",
    "    \"salary_raise_7_pers\",\n",
    "    (F.col(\"salary\") +.7 *F.col(\"salary\"))\n",
    ")\n",
    "df.show()"
   ]
  },
  {
   "cell_type": "markdown",
   "metadata": {
    "application/vnd.databricks.v1+cell": {
     "cellMetadata": {
      "byteLimit": 2048000,
      "implicitDf": true,
      "rowLimit": 10000
     },
     "inputWidgets": {},
     "nuid": "6180b83a-fe90-4796-892a-1e0c061f4b99",
     "showTitle": false,
     "title": ""
    }
   },
   "source": [
    "with columns used for reaplcing existing columns and append multiple columns"
   ]
  },
  {
   "cell_type": "code",
   "execution_count": 0,
   "metadata": {
    "application/vnd.databricks.v1+cell": {
     "cellMetadata": {
      "byteLimit": 2048000,
      "rowLimit": 10000
     },
     "inputWidgets": {},
     "nuid": "cfbc77d2-15b7-4d80-8981-421ae4bb1f2d",
     "showTitle": false,
     "title": ""
    }
   },
   "outputs": [],
   "source": [
    "df = df.withColumns(\n",
    "    {\n",
    "        \"salary_raise\": F.col(\"salary\") + .05*F.col(\"salary\"),\n",
    "        \"age\":   F.year(F.current_timestamp())- F.year(F.col(\"dob\"))\n",
    "    }\n",
    ")"
   ]
  },
  {
   "cell_type": "code",
   "execution_count": 0,
   "metadata": {
    "application/vnd.databricks.v1+cell": {
     "cellMetadata": {
      "byteLimit": 2048000,
      "rowLimit": 10000
     },
     "inputWidgets": {},
     "nuid": "55d27774-a1b8-417d-9f73-df4f2954a1ea",
     "showTitle": false,
     "title": ""
    }
   },
   "outputs": [
    {
     "output_type": "stream",
     "name": "stdout",
     "output_type": "stream",
     "text": [
      "+---+------+----------+----+------+----------+------------+--------------------+-------------------+\n| id|  name|       dob| age|salary|department|salary_raise|salary_raise_10_pers|salary_raise_7_pers|\n+---+------+----------+----+------+----------+------------+--------------------+-------------------+\n|  3|   Bob|      null|null| 80000|        IT|     84000.0|             88000.0|           136000.0|\n|  4| Emily|1994-11-22|  30| 65000|   Finance|     68250.0|             71500.0|           110500.0|\n|  2| Alice|1997-02-28|  27| 60000|        HR|     63000.0|             66000.0|           102000.0|\n|  1|  John|1992-05-12|  32| 70000|        IT|     73500.0|             77000.0|           119000.0|\n|  5| David|1981-12-18|  43| 90000|        HR|     94500.0|             99000.0|           153000.0|\n|  6| Susan|1989-07-05|  35| 75000|   Finance|     78750.0|             82500.0|           127500.0|\n|  7|  Mike|1976-03-15|  48| 95000|        IT|     99750.0|            104500.0|           161500.0|\n| 10|Sophie|1992-06-30|  32| 62000|   Finance|     65100.0|             68200.0|           105400.0|\n|  2| Alice|1997-02-28|  27| 90000|   Finance|     94500.0|             99000.0|           153000.0|\n|  4| Emily|1994-11-22|  30| 70000|   Finance|     73500.0|             77000.0|           119000.0|\n|  9| James|1983-10-14|  41| 87000|        IT|     91350.0|             95700.0|           147900.0|\n|  8|  Lisa|1995-08-20|  29| 58000|        HR|     60900.0|             63800.0|            98600.0|\n+---+------+----------+----+------+----------+------------+--------------------+-------------------+\n\n"
     ]
    }
   ],
   "source": [
    "df.show()"
   ]
  },
  {
   "cell_type": "markdown",
   "metadata": {
    "application/vnd.databricks.v1+cell": {
     "cellMetadata": {
      "byteLimit": 2048000,
      "rowLimit": 10000
     },
     "inputWidgets": {},
     "nuid": "d93fc05f-225b-4c15-b741-142a9d60bff9",
     "showTitle": false,
     "title": ""
    }
   },
   "source": [
    "Filter : equivalnet to where"
   ]
  },
  {
   "cell_type": "code",
   "execution_count": 0,
   "metadata": {
    "application/vnd.databricks.v1+cell": {
     "cellMetadata": {
      "byteLimit": 2048000,
      "rowLimit": 10000
     },
     "inputWidgets": {},
     "nuid": "82548fae-5f82-4278-851e-3b05f7dcf390",
     "showTitle": false,
     "title": ""
    }
   },
   "outputs": [
    {
     "output_type": "stream",
     "name": "stdout",
     "output_type": "stream",
     "text": [
      "+---+-----+----------+----+------+----------+------------+--------------------+-------------------+\n| id| name|       dob| age|salary|department|salary_raise|salary_raise_10_pers|salary_raise_7_pers|\n+---+-----+----------+----+------+----------+------------+--------------------+-------------------+\n|  3|  Bob|      null|null| 80000|        IT|     84000.0|             88000.0|           136000.0|\n|  5|David|1981-12-18|  43| 90000|        HR|     94500.0|             99000.0|           153000.0|\n|  6|Susan|1989-07-05|  35| 75000|   Finance|     78750.0|             82500.0|           127500.0|\n|  7| Mike|1976-03-15|  48| 95000|        IT|     99750.0|            104500.0|           161500.0|\n|  2|Alice|1997-02-28|  27| 90000|   Finance|     94500.0|             99000.0|           153000.0|\n|  9|James|1983-10-14|  41| 87000|        IT|     91350.0|             95700.0|           147900.0|\n+---+-----+----------+----+------+----------+------------+--------------------+-------------------+\n\n"
     ]
    }
   ],
   "source": [
    "df.filter(\n",
    "    F.col(\"salary_raise\")>=75000\n",
    ").show()"
   ]
  },
  {
   "cell_type": "code",
   "execution_count": 0,
   "metadata": {
    "application/vnd.databricks.v1+cell": {
     "cellMetadata": {
      "byteLimit": 2048000,
      "rowLimit": 10000
     },
     "inputWidgets": {},
     "nuid": "e3ede5dd-a8c1-4b93-b12b-2bda67f68fa7",
     "showTitle": false,
     "title": ""
    }
   },
   "outputs": [
    {
     "output_type": "stream",
     "name": "stdout",
     "output_type": "stream",
     "text": [
      "+---+-----+----------+----+------+----------+------------+--------------------+-------------------+\n| id| name|       dob| age|salary|department|salary_raise|salary_raise_10_pers|salary_raise_7_pers|\n+---+-----+----------+----+------+----------+------------+--------------------+-------------------+\n|  3|  Bob|      null|null| 80000|        IT|     84000.0|             88000.0|           136000.0|\n|  5|David|1981-12-18|  43| 90000|        HR|     94500.0|             99000.0|           153000.0|\n|  6|Susan|1989-07-05|  35| 75000|   Finance|     78750.0|             82500.0|           127500.0|\n|  7| Mike|1976-03-15|  48| 95000|        IT|     99750.0|            104500.0|           161500.0|\n|  2|Alice|1997-02-28|  27| 90000|   Finance|     94500.0|             99000.0|           153000.0|\n|  9|James|1983-10-14|  41| 87000|        IT|     91350.0|             95700.0|           147900.0|\n+---+-----+----------+----+------+----------+------------+--------------------+-------------------+\n\n"
     ]
    }
   ],
   "source": [
    "df.where(\n",
    "    F.col(\"salary_raise\")>=75000\n",
    ").show()"
   ]
  },
  {
   "cell_type": "markdown",
   "metadata": {
    "application/vnd.databricks.v1+cell": {
     "cellMetadata": {
      "byteLimit": 2048000,
      "rowLimit": 10000
     },
     "inputWidgets": {},
     "nuid": "f020508f-fb28-44b6-adab-92f5d0505945",
     "showTitle": false,
     "title": ""
    }
   },
   "source": [
    "wehn otherwsie\n"
   ]
  },
  {
   "cell_type": "code",
   "execution_count": 0,
   "metadata": {
    "application/vnd.databricks.v1+cell": {
     "cellMetadata": {
      "byteLimit": 2048000,
      "rowLimit": 10000
     },
     "inputWidgets": {},
     "nuid": "0f75a206-ef9f-4f09-b7b4-c1c86f13b886",
     "showTitle": false,
     "title": ""
    }
   },
   "outputs": [],
   "source": [
    "df = df.withColumn(\n",
    "    \"age_group\",\n",
    "    F.when(\n",
    "        F.col(\"age\") <=20,\n",
    "        \"Upto 20\"\n",
    "    ).when(\n",
    "        (\n",
    "            (F.col(\"age\") >20) &\n",
    "            (F.col(\"age\") <=30)\n",
    "        ),\n",
    "        \"21 to 30\"\n",
    "    ).when (\n",
    "        (\n",
    "            (F.col(\"age\") > 30) &\n",
    "            (F.col(\"age\") <= 40)\n",
    "        ),\n",
    "        \"31 to 40\"\n",
    "    ).otherwise(\n",
    "        \"More than 40\"\n",
    "    )\n",
    ")"
   ]
  },
  {
   "cell_type": "code",
   "execution_count": 0,
   "metadata": {
    "application/vnd.databricks.v1+cell": {
     "cellMetadata": {
      "byteLimit": 2048000,
      "rowLimit": 10000
     },
     "inputWidgets": {},
     "nuid": "4515e556-a3e4-48e9-9ecb-3c5fe055d596",
     "showTitle": false,
     "title": ""
    }
   },
   "outputs": [],
   "source": [
    "df = df.withColumn(\n",
    "    \"age_group\",\n",
    "    F.when(\n",
    "        F.col(\"age\") <=20,\n",
    "        \"Upto 20\"\n",
    "    ).when(\n",
    "        (\n",
    "            (F.col(\"age\") >20) &\n",
    "            (F.col(\"age\") <=30)\n",
    "        ),\n",
    "        \"21 to 30\"\n",
    "    ).when (\n",
    "        (\n",
    "            (F.col(\"age\") > 30) &\n",
    "            (F.col(\"age\") <= 40)\n",
    "        ),\n",
    "        F.col(\"name\") #col value can be assign instead of contant value\n",
    "    ).otherwise(\n",
    "        \"More than 40\"\n",
    "    )\n",
    ")"
   ]
  },
  {
   "cell_type": "code",
   "execution_count": 0,
   "metadata": {
    "application/vnd.databricks.v1+cell": {
     "cellMetadata": {
      "byteLimit": 2048000,
      "rowLimit": 10000
     },
     "inputWidgets": {},
     "nuid": "298ee69c-9295-4df5-8006-cfd864eee6bc",
     "showTitle": false,
     "title": ""
    }
   },
   "outputs": [
    {
     "output_type": "stream",
     "name": "stdout",
     "output_type": "stream",
     "text": [
      "+---+------+----------+----+------+----------+------------+--------------------+-------------------+------------+\n| id|  name|       dob| age|salary|department|salary_raise|salary_raise_10_pers|salary_raise_7_pers|   age_group|\n+---+------+----------+----+------+----------+------------+--------------------+-------------------+------------+\n|  3|   Bob|      null|null| 80000|        IT|     84000.0|             88000.0|           136000.0|More than 40|\n|  4| Emily|1994-11-22|  30| 65000|   Finance|     68250.0|             71500.0|           110500.0|    21 to 30|\n|  2| Alice|1997-02-28|  27| 60000|        HR|     63000.0|             66000.0|           102000.0|    21 to 30|\n|  1|  John|1992-05-12|  32| 70000|        IT|     73500.0|             77000.0|           119000.0|        John|\n|  5| David|1981-12-18|  43| 90000|        HR|     94500.0|             99000.0|           153000.0|More than 40|\n|  6| Susan|1989-07-05|  35| 75000|   Finance|     78750.0|             82500.0|           127500.0|       Susan|\n|  7|  Mike|1976-03-15|  48| 95000|        IT|     99750.0|            104500.0|           161500.0|More than 40|\n| 10|Sophie|1992-06-30|  32| 62000|   Finance|     65100.0|             68200.0|           105400.0|      Sophie|\n|  2| Alice|1997-02-28|  27| 90000|   Finance|     94500.0|             99000.0|           153000.0|    21 to 30|\n|  4| Emily|1994-11-22|  30| 70000|   Finance|     73500.0|             77000.0|           119000.0|    21 to 30|\n|  9| James|1983-10-14|  41| 87000|        IT|     91350.0|             95700.0|           147900.0|More than 40|\n|  8|  Lisa|1995-08-20|  29| 58000|        HR|     60900.0|             63800.0|            98600.0|    21 to 30|\n+---+------+----------+----+------+----------+------------+--------------------+-------------------+------------+\n\n"
     ]
    }
   ],
   "source": [
    "df.show()"
   ]
  },
  {
   "cell_type": "code",
   "execution_count": 0,
   "metadata": {
    "application/vnd.databricks.v1+cell": {
     "cellMetadata": {
      "byteLimit": 2048000,
      "rowLimit": 10000
     },
     "inputWidgets": {},
     "nuid": "805b4dd8-4347-4328-b818-513586f7f626",
     "showTitle": false,
     "title": ""
    }
   },
   "outputs": [
    {
     "output_type": "stream",
     "name": "stdout",
     "output_type": "stream",
     "text": [
      "+---+------+----------+----+------+----------+------------+--------------------+-------------------+------------+---------------+\n| id|  name|       dob| age|salary|department|salary_raise|salary_raise_10_pers|salary_raise_7_pers|   age_group|        company|\n+---+------+----------+----+------+----------+------------+--------------------+-------------------+------------+---------------+\n|  3|   Bob|      null|null| 80000|        IT|     84000.0|             88000.0|           136000.0|More than 40|Abacus Insights|\n|  4| Emily|1994-11-22|  30| 65000|   Finance|     68250.0|             71500.0|           110500.0|    21 to 30|Abacus Insights|\n|  2| Alice|1997-02-28|  27| 60000|        HR|     63000.0|             66000.0|           102000.0|    21 to 30|Abacus Insights|\n|  1|  John|1992-05-12|  32| 70000|        IT|     73500.0|             77000.0|           119000.0|        John|Abacus Insights|\n|  5| David|1981-12-18|  43| 90000|        HR|     94500.0|             99000.0|           153000.0|More than 40|Abacus Insights|\n|  6| Susan|1989-07-05|  35| 75000|   Finance|     78750.0|             82500.0|           127500.0|       Susan|Abacus Insights|\n|  7|  Mike|1976-03-15|  48| 95000|        IT|     99750.0|            104500.0|           161500.0|More than 40|Abacus Insights|\n| 10|Sophie|1992-06-30|  32| 62000|   Finance|     65100.0|             68200.0|           105400.0|      Sophie|Abacus Insights|\n|  2| Alice|1997-02-28|  27| 90000|   Finance|     94500.0|             99000.0|           153000.0|    21 to 30|Abacus Insights|\n|  4| Emily|1994-11-22|  30| 70000|   Finance|     73500.0|             77000.0|           119000.0|    21 to 30|Abacus Insights|\n|  9| James|1983-10-14|  41| 87000|        IT|     91350.0|             95700.0|           147900.0|More than 40|Abacus Insights|\n|  8|  Lisa|1995-08-20|  29| 58000|        HR|     60900.0|             63800.0|            98600.0|    21 to 30|Abacus Insights|\n+---+------+----------+----+------+----------+------------+--------------------+-------------------+------------+---------------+\n\n"
     ]
    }
   ],
   "source": [
    "df.withColumns(\n",
    "    {\n",
    "        \"company\": F.lit(\"Abacus Insights\")\n",
    "    }\n",
    ").show()"
   ]
  },
  {
   "cell_type": "markdown",
   "metadata": {
    "application/vnd.databricks.v1+cell": {
     "cellMetadata": {
      "byteLimit": 2048000,
      "rowLimit": 10000
     },
     "inputWidgets": {},
     "nuid": "80231e73-52bc-4255-b71d-6666d802e604",
     "showTitle": false,
     "title": ""
    }
   },
   "source": [
    "nulls"
   ]
  },
  {
   "cell_type": "code",
   "execution_count": 0,
   "metadata": {
    "application/vnd.databricks.v1+cell": {
     "cellMetadata": {
      "byteLimit": 2048000,
      "rowLimit": 10000
     },
     "inputWidgets": {},
     "nuid": "ce87db45-101c-413b-aa1b-4bb172efffad",
     "showTitle": false,
     "title": ""
    }
   },
   "outputs": [],
   "source": [
    "df = df.withColumns(\n",
    "    {\n",
    "        \"age\":F.coalesce(\n",
    "            F.year(F.current_timestamp()) - F.year(F.col(\"dob\")),\n",
    "            F.lit(0),\n",
    "        ),\n",
    "        \"has_dob_1\": ~(F.isnull(\"dob\")),\n",
    "        \"has_dob_2\":F.col(\"dob\").isNotNull(),\n",
    "    }\n",
    ")\n",
    "\n",
    "# ~ => !="
   ]
  },
  {
   "cell_type": "code",
   "execution_count": 0,
   "metadata": {
    "application/vnd.databricks.v1+cell": {
     "cellMetadata": {
      "byteLimit": 2048000,
      "rowLimit": 10000
     },
     "inputWidgets": {},
     "nuid": "4ee2c8e5-190b-44e3-a070-8db1e6f7434b",
     "showTitle": false,
     "title": ""
    }
   },
   "outputs": [
    {
     "output_type": "stream",
     "name": "stdout",
     "output_type": "stream",
     "text": [
      "+---+------+----------+---+------+----------+------------+--------------------+-------------------+------------+---------+---------+\n| id|  name|       dob|age|salary|department|salary_raise|salary_raise_10_pers|salary_raise_7_pers|   age_group|has_dob_1|has_dob_2|\n+---+------+----------+---+------+----------+------------+--------------------+-------------------+------------+---------+---------+\n|  3|   Bob|      null|  0| 80000|        IT|     84000.0|             88000.0|           136000.0|More than 40|    false|    false|\n|  4| Emily|1994-11-22| 30| 65000|   Finance|     68250.0|             71500.0|           110500.0|    21 to 30|     true|     true|\n|  2| Alice|1997-02-28| 27| 60000|        HR|     63000.0|             66000.0|           102000.0|    21 to 30|     true|     true|\n|  1|  John|1992-05-12| 32| 70000|        IT|     73500.0|             77000.0|           119000.0|        John|     true|     true|\n|  5| David|1981-12-18| 43| 90000|        HR|     94500.0|             99000.0|           153000.0|More than 40|     true|     true|\n|  6| Susan|1989-07-05| 35| 75000|   Finance|     78750.0|             82500.0|           127500.0|       Susan|     true|     true|\n|  7|  Mike|1976-03-15| 48| 95000|        IT|     99750.0|            104500.0|           161500.0|More than 40|     true|     true|\n| 10|Sophie|1992-06-30| 32| 62000|   Finance|     65100.0|             68200.0|           105400.0|      Sophie|     true|     true|\n|  2| Alice|1997-02-28| 27| 90000|   Finance|     94500.0|             99000.0|           153000.0|    21 to 30|     true|     true|\n|  4| Emily|1994-11-22| 30| 70000|   Finance|     73500.0|             77000.0|           119000.0|    21 to 30|     true|     true|\n|  9| James|1983-10-14| 41| 87000|        IT|     91350.0|             95700.0|           147900.0|More than 40|     true|     true|\n|  8|  Lisa|1995-08-20| 29| 58000|        HR|     60900.0|             63800.0|            98600.0|    21 to 30|     true|     true|\n+---+------+----------+---+------+----------+------------+--------------------+-------------------+------------+---------+---------+\n\n"
     ]
    }
   ],
   "source": [
    "df.show()"
   ]
  },
  {
   "cell_type": "markdown",
   "metadata": {
    "application/vnd.databricks.v1+cell": {
     "cellMetadata": {
      "byteLimit": 2048000,
      "rowLimit": 10000
     },
     "inputWidgets": {},
     "nuid": "417c2ff8-395f-4c46-a3b6-90a54c49b0d8",
     "showTitle": false,
     "title": ""
    }
   },
   "source": [
    "drop columns"
   ]
  },
  {
   "cell_type": "code",
   "execution_count": 0,
   "metadata": {
    "application/vnd.databricks.v1+cell": {
     "cellMetadata": {
      "byteLimit": 2048000,
      "rowLimit": 10000
     },
     "inputWidgets": {},
     "nuid": "a205bbf5-240b-4804-bf27-d2e5842b0f61",
     "showTitle": false,
     "title": ""
    }
   },
   "outputs": [],
   "source": [
    "df =df.drop(\"salary_raise_7_pers\", \"salary_raise_10_pers\")"
   ]
  },
  {
   "cell_type": "code",
   "execution_count": 0,
   "metadata": {
    "application/vnd.databricks.v1+cell": {
     "cellMetadata": {
      "byteLimit": 2048000,
      "rowLimit": 10000
     },
     "inputWidgets": {},
     "nuid": "fd931ece-03b1-48f4-920c-909b97f4111e",
     "showTitle": false,
     "title": ""
    }
   },
   "outputs": [
    {
     "output_type": "stream",
     "name": "stdout",
     "output_type": "stream",
     "text": [
      "+---+------+----------+---+------+----------+------------+------------+---------+---------+\n| id|  name|       dob|age|salary|department|salary_raise|   age_group|has_dob_1|has_dob_2|\n+---+------+----------+---+------+----------+------------+------------+---------+---------+\n|  3|   Bob|      null|  0| 80000|        IT|     84000.0|More than 40|    false|    false|\n|  4| Emily|1994-11-22| 30| 65000|   Finance|     68250.0|    21 to 30|     true|     true|\n|  2| Alice|1997-02-28| 27| 60000|        HR|     63000.0|    21 to 30|     true|     true|\n|  1|  John|1992-05-12| 32| 70000|        IT|     73500.0|        John|     true|     true|\n|  5| David|1981-12-18| 43| 90000|        HR|     94500.0|More than 40|     true|     true|\n|  6| Susan|1989-07-05| 35| 75000|   Finance|     78750.0|       Susan|     true|     true|\n|  7|  Mike|1976-03-15| 48| 95000|        IT|     99750.0|More than 40|     true|     true|\n| 10|Sophie|1992-06-30| 32| 62000|   Finance|     65100.0|      Sophie|     true|     true|\n|  2| Alice|1997-02-28| 27| 90000|   Finance|     94500.0|    21 to 30|     true|     true|\n|  4| Emily|1994-11-22| 30| 70000|   Finance|     73500.0|    21 to 30|     true|     true|\n|  9| James|1983-10-14| 41| 87000|        IT|     91350.0|More than 40|     true|     true|\n|  8|  Lisa|1995-08-20| 29| 58000|        HR|     60900.0|    21 to 30|     true|     true|\n+---+------+----------+---+------+----------+------------+------------+---------+---------+\n\n"
     ]
    }
   ],
   "source": [
    "df.show()"
   ]
  },
  {
   "cell_type": "code",
   "execution_count": 0,
   "metadata": {
    "application/vnd.databricks.v1+cell": {
     "cellMetadata": {
      "byteLimit": 2048000,
      "rowLimit": 10000
     },
     "inputWidgets": {},
     "nuid": "4bb02800-c7e2-4887-a4d3-937c37eaa241",
     "showTitle": false,
     "title": ""
    }
   },
   "outputs": [],
   "source": [
    "df=df.withColumnRenamed(\"name\", \"first_name\")"
   ]
  },
  {
   "cell_type": "code",
   "execution_count": 0,
   "metadata": {
    "application/vnd.databricks.v1+cell": {
     "cellMetadata": {
      "byteLimit": 2048000,
      "rowLimit": 10000
     },
     "inputWidgets": {},
     "nuid": "5042249f-861b-45c8-b059-73ffd0ee1340",
     "showTitle": false,
     "title": ""
    }
   },
   "outputs": [
    {
     "output_type": "stream",
     "name": "stdout",
     "output_type": "stream",
     "text": [
      "+---+----------+----------+---+------+----------+------------+------------+---------+---------+\n| id|first_name|       dob|age|salary|department|salary_raise|   age_group|has_dob_1|has_dob_2|\n+---+----------+----------+---+------+----------+------------+------------+---------+---------+\n|  3|       Bob|      null|  0| 80000|        IT|     84000.0|More than 40|    false|    false|\n|  4|     Emily|1994-11-22| 30| 65000|   Finance|     68250.0|    21 to 30|     true|     true|\n|  2|     Alice|1997-02-28| 27| 60000|        HR|     63000.0|    21 to 30|     true|     true|\n|  1|      John|1992-05-12| 32| 70000|        IT|     73500.0|        John|     true|     true|\n|  5|     David|1981-12-18| 43| 90000|        HR|     94500.0|More than 40|     true|     true|\n|  6|     Susan|1989-07-05| 35| 75000|   Finance|     78750.0|       Susan|     true|     true|\n|  7|      Mike|1976-03-15| 48| 95000|        IT|     99750.0|More than 40|     true|     true|\n| 10|    Sophie|1992-06-30| 32| 62000|   Finance|     65100.0|      Sophie|     true|     true|\n|  2|     Alice|1997-02-28| 27| 90000|   Finance|     94500.0|    21 to 30|     true|     true|\n|  4|     Emily|1994-11-22| 30| 70000|   Finance|     73500.0|    21 to 30|     true|     true|\n|  9|     James|1983-10-14| 41| 87000|        IT|     91350.0|More than 40|     true|     true|\n|  8|      Lisa|1995-08-20| 29| 58000|        HR|     60900.0|    21 to 30|     true|     true|\n+---+----------+----------+---+------+----------+------------+------------+---------+---------+\n\n"
     ]
    }
   ],
   "source": [
    "df.show()"
   ]
  },
  {
   "cell_type": "markdown",
   "metadata": {
    "application/vnd.databricks.v1+cell": {
     "cellMetadata": {
      "byteLimit": 2048000,
      "rowLimit": 10000
     },
     "inputWidgets": {},
     "nuid": "345467b0-304e-455a-b04a-8cccd3b99953",
     "showTitle": false,
     "title": ""
    }
   },
   "source": [
    "partition by "
   ]
  },
  {
   "cell_type": "code",
   "execution_count": 0,
   "metadata": {
    "application/vnd.databricks.v1+cell": {
     "cellMetadata": {
      "byteLimit": 2048000,
      "rowLimit": 10000
     },
     "inputWidgets": {},
     "nuid": "7f1af16c-6d78-466b-b893-055d0e6a23ad",
     "showTitle": false,
     "title": ""
    }
   },
   "outputs": [],
   "source": [
    "from pyspark.sql import Window"
   ]
  },
  {
   "cell_type": "code",
   "execution_count": 0,
   "metadata": {
    "application/vnd.databricks.v1+cell": {
     "cellMetadata": {
      "byteLimit": 2048000,
      "rowLimit": 10000
     },
     "inputWidgets": {},
     "nuid": "3ad96abb-415e-4bf4-b45f-1dfd7fd79639",
     "showTitle": false,
     "title": ""
    }
   },
   "outputs": [
    {
     "output_type": "stream",
     "name": "stdout",
     "output_type": "stream",
     "text": [
      "+---+----------+----------+---+------+----------+------------+------------+---------+---------+----------------+\n| id|first_name|       dob|age|salary|department|salary_raise|   age_group|has_dob_1|has_dob_2|min_age_in_group|\n+---+----------+----------+---+------+----------+------------+------------+---------+---------+----------------+\n|  4|     Emily|1994-11-22| 30| 65000|   Finance|     68250.0|    21 to 30|     true|     true|              27|\n|  2|     Alice|1997-02-28| 27| 60000|        HR|     63000.0|    21 to 30|     true|     true|              27|\n|  2|     Alice|1997-02-28| 27| 90000|   Finance|     94500.0|    21 to 30|     true|     true|              27|\n|  4|     Emily|1994-11-22| 30| 70000|   Finance|     73500.0|    21 to 30|     true|     true|              27|\n|  8|      Lisa|1995-08-20| 29| 58000|        HR|     60900.0|    21 to 30|     true|     true|              27|\n|  1|      John|1992-05-12| 32| 70000|        IT|     73500.0|        John|     true|     true|              32|\n|  3|       Bob|      null|  0| 80000|        IT|     84000.0|More than 40|    false|    false|               0|\n|  5|     David|1981-12-18| 43| 90000|        HR|     94500.0|More than 40|     true|     true|               0|\n|  7|      Mike|1976-03-15| 48| 95000|        IT|     99750.0|More than 40|     true|     true|               0|\n|  9|     James|1983-10-14| 41| 87000|        IT|     91350.0|More than 40|     true|     true|               0|\n| 10|    Sophie|1992-06-30| 32| 62000|   Finance|     65100.0|      Sophie|     true|     true|              32|\n|  6|     Susan|1989-07-05| 35| 75000|   Finance|     78750.0|       Susan|     true|     true|              35|\n+---+----------+----------+---+------+----------+------------+------------+---------+---------+----------------+\n\n"
     ]
    }
   ],
   "source": [
    "window =Window.partitionBy(\"age_group\")\n",
    "df.withColumn(\n",
    "    \"min_age_in_group\",\n",
    "    F.min(\"age\").over(window)\n",
    ").show()"
   ]
  },
  {
   "cell_type": "code",
   "execution_count": 0,
   "metadata": {
    "application/vnd.databricks.v1+cell": {
     "cellMetadata": {
      "byteLimit": 2048000,
      "rowLimit": 10000
     },
     "inputWidgets": {},
     "nuid": "78c5f12d-2347-454f-a9c9-2066a38691a2",
     "showTitle": false,
     "title": ""
    }
   },
   "outputs": [
    {
     "output_type": "stream",
     "name": "stdout",
     "output_type": "stream",
     "text": [
      "+---+----------+----------+---+------+----------+------------+------------+---------+---------+\n| id|first_name|       dob|age|salary|department|salary_raise|   age_group|has_dob_1|has_dob_2|\n+---+----------+----------+---+------+----------+------------+------------+---------+---------+\n|  3|       Bob|      null|  0| 80000|        IT|     84000.0|More than 40|    false|    false|\n|  4|     Emily|1994-11-22| 30| 65000|   Finance|     68250.0|    21 to 30|     true|     true|\n|  2|     Alice|1997-02-28| 27| 60000|        HR|     63000.0|    21 to 30|     true|     true|\n|  1|      John|1992-05-12| 32| 70000|        IT|     73500.0|        John|     true|     true|\n|  5|     David|1981-12-18| 43| 90000|        HR|     94500.0|More than 40|     true|     true|\n|  6|     Susan|1989-07-05| 35| 75000|   Finance|     78750.0|       Susan|     true|     true|\n|  7|      Mike|1976-03-15| 48| 95000|        IT|     99750.0|More than 40|     true|     true|\n| 10|    Sophie|1992-06-30| 32| 62000|   Finance|     65100.0|      Sophie|     true|     true|\n|  2|     Alice|1997-02-28| 27| 90000|   Finance|     94500.0|    21 to 30|     true|     true|\n|  4|     Emily|1994-11-22| 30| 70000|   Finance|     73500.0|    21 to 30|     true|     true|\n|  9|     James|1983-10-14| 41| 87000|        IT|     91350.0|More than 40|     true|     true|\n|  8|      Lisa|1995-08-20| 29| 58000|        HR|     60900.0|    21 to 30|     true|     true|\n+---+----------+----------+---+------+----------+------------+------------+---------+---------+\n\n"
     ]
    }
   ],
   "source": [
    "df.show()"
   ]
  },
  {
   "cell_type": "markdown",
   "metadata": {
    "application/vnd.databricks.v1+cell": {
     "cellMetadata": {
      "byteLimit": 2048000,
      "rowLimit": 10000
     },
     "inputWidgets": {},
     "nuid": "fa8f72af-e0e7-4dd4-994b-f18d9973a6e0",
     "showTitle": false,
     "title": ""
    }
   },
   "source": [
    "sql lower_case, tables, column name, schemas, datbase names\n",
    "\n"
   ]
  },
  {
   "cell_type": "code",
   "execution_count": 0,
   "metadata": {
    "application/vnd.databricks.v1+cell": {
     "cellMetadata": {
      "byteLimit": 2048000,
      "rowLimit": 10000
     },
     "inputWidgets": {},
     "nuid": "4d588dc5-85a5-43c4-bbec-334dd38f6622",
     "showTitle": false,
     "title": ""
    }
   },
   "outputs": [],
   "source": [
    "from pyspark.sql import SparkSession\n",
    "spark = SparkSession.builder.getOrCreate()\n",
    "ref_def = spark.read.format(\"parquet\").load('dbfs:///FileStore/tables/parquet')"
   ]
  },
  {
   "cell_type": "code",
   "execution_count": 0,
   "metadata": {
    "application/vnd.databricks.v1+cell": {
     "cellMetadata": {
      "byteLimit": 2048000,
      "rowLimit": 10000
     },
     "inputWidgets": {},
     "nuid": "b4734a98-362f-4bee-b25a-f1611b219fe4",
     "showTitle": false,
     "title": ""
    }
   },
   "outputs": [
    {
     "output_type": "stream",
     "name": "stdout",
     "output_type": "stream",
     "text": [
      "+----------+-------+--------+\n|department|manager|    lead|\n+----------+-------+--------+\n|   Finance|  Megan|   Molly|\n|        HR|   Brad|   Brian|\n|        IT|  Chris|Chandler|\n|  Delivery|   Leon|  Louise|\n+----------+-------+--------+\n\n"
     ]
    }
   ],
   "source": [
    "ref_def.show()"
   ]
  },
  {
   "cell_type": "markdown",
   "metadata": {
    "application/vnd.databricks.v1+cell": {
     "cellMetadata": {
      "byteLimit": 2048000,
      "rowLimit": 10000
     },
     "inputWidgets": {},
     "nuid": "7b74196d-4df2-4e55-86da-0689b5743fe7",
     "showTitle": false,
     "title": ""
    }
   },
   "source": [
    "Join"
   ]
  },
  {
   "cell_type": "code",
   "execution_count": 0,
   "metadata": {
    "application/vnd.databricks.v1+cell": {
     "cellMetadata": {
      "byteLimit": 2048000,
      "rowLimit": 10000
     },
     "inputWidgets": {},
     "nuid": "5e9bc4f3-5fe1-4fd6-9686-cad20b07e577",
     "showTitle": false,
     "title": ""
    }
   },
   "outputs": [
    {
     "output_type": "stream",
     "name": "stdout",
     "output_type": "stream",
     "text": [
      "+----------+---+----------+----------+---+------+------------+------------+---------+---------+-------+--------+\n|department| id|first_name|       dob|age|salary|salary_raise|   age_group|has_dob_1|has_dob_2|manager|    lead|\n+----------+---+----------+----------+---+------+------------+------------+---------+---------+-------+--------+\n|        IT|  3|       Bob|      null|  0| 80000|     84000.0|More than 40|    false|    false|  Chris|Chandler|\n|   Finance|  4|     Emily|1994-11-22| 30| 65000|     68250.0|    21 to 30|     true|     true|  Megan|   Molly|\n|        HR|  2|     Alice|1997-02-28| 27| 60000|     63000.0|    21 to 30|     true|     true|   Brad|   Brian|\n|        IT|  1|      John|1992-05-12| 32| 70000|     73500.0|        John|     true|     true|  Chris|Chandler|\n|        HR|  5|     David|1981-12-18| 43| 90000|     94500.0|More than 40|     true|     true|   Brad|   Brian|\n|   Finance|  6|     Susan|1989-07-05| 35| 75000|     78750.0|       Susan|     true|     true|  Megan|   Molly|\n|        IT|  7|      Mike|1976-03-15| 48| 95000|     99750.0|More than 40|     true|     true|  Chris|Chandler|\n|   Finance| 10|    Sophie|1992-06-30| 32| 62000|     65100.0|      Sophie|     true|     true|  Megan|   Molly|\n|   Finance|  2|     Alice|1997-02-28| 27| 90000|     94500.0|    21 to 30|     true|     true|  Megan|   Molly|\n|   Finance|  4|     Emily|1994-11-22| 30| 70000|     73500.0|    21 to 30|     true|     true|  Megan|   Molly|\n|        IT|  9|     James|1983-10-14| 41| 87000|     91350.0|More than 40|     true|     true|  Chris|Chandler|\n|        HR|  8|      Lisa|1995-08-20| 29| 58000|     60900.0|    21 to 30|     true|     true|   Brad|   Brian|\n+----------+---+----------+----------+---+------+------------+------------+---------+---------+-------+--------+\n\n"
     ]
    }
   ],
   "source": [
    "df.join(\n",
    "    ref_def,\n",
    "    \"department\",\n",
    "    \"left\",\n",
    ").show()"
   ]
  },
  {
   "cell_type": "code",
   "execution_count": 0,
   "metadata": {
    "application/vnd.databricks.v1+cell": {
     "cellMetadata": {
      "byteLimit": 2048000,
      "rowLimit": 10000
     },
     "inputWidgets": {},
     "nuid": "cf716a0c-df84-404f-bf24-6e7584950c2f",
     "showTitle": false,
     "title": ""
    }
   },
   "outputs": [
    {
     "output_type": "stream",
     "name": "stdout",
     "output_type": "stream",
     "text": [
      "+---+----------+----------+---+------+----------+------------+------------+---------+---------+----------+-------+--------+\n| id|first_name|       dob|age|salary|department|salary_raise|   age_group|has_dob_1|has_dob_2|department|manager|    lead|\n+---+----------+----------+---+------+----------+------------+------------+---------+---------+----------+-------+--------+\n|  3|       Bob|      null|  0| 80000|        IT|     84000.0|More than 40|    false|    false|        IT|  Chris|Chandler|\n|  4|     Emily|1994-11-22| 30| 65000|   Finance|     68250.0|    21 to 30|     true|     true|   Finance|  Megan|   Molly|\n|  2|     Alice|1997-02-28| 27| 60000|        HR|     63000.0|    21 to 30|     true|     true|        HR|   Brad|   Brian|\n|  1|      John|1992-05-12| 32| 70000|        IT|     73500.0|        John|     true|     true|        IT|  Chris|Chandler|\n|  5|     David|1981-12-18| 43| 90000|        HR|     94500.0|More than 40|     true|     true|        HR|   Brad|   Brian|\n|  6|     Susan|1989-07-05| 35| 75000|   Finance|     78750.0|       Susan|     true|     true|   Finance|  Megan|   Molly|\n|  7|      Mike|1976-03-15| 48| 95000|        IT|     99750.0|More than 40|     true|     true|        IT|  Chris|Chandler|\n| 10|    Sophie|1992-06-30| 32| 62000|   Finance|     65100.0|      Sophie|     true|     true|   Finance|  Megan|   Molly|\n|  2|     Alice|1997-02-28| 27| 90000|   Finance|     94500.0|    21 to 30|     true|     true|   Finance|  Megan|   Molly|\n|  4|     Emily|1994-11-22| 30| 70000|   Finance|     73500.0|    21 to 30|     true|     true|   Finance|  Megan|   Molly|\n|  9|     James|1983-10-14| 41| 87000|        IT|     91350.0|More than 40|     true|     true|        IT|  Chris|Chandler|\n|  8|      Lisa|1995-08-20| 29| 58000|        HR|     60900.0|    21 to 30|     true|     true|        HR|   Brad|   Brian|\n+---+----------+----------+---+------+----------+------------+------------+---------+---------+----------+-------+--------+\n\n"
     ]
    }
   ],
   "source": [
    "df.join(\n",
    "    ref_def,\n",
    "    df.department == ref_def.department,\n",
    "    \"left\",\n",
    ").show()"
   ]
  },
  {
   "cell_type": "code",
   "execution_count": 0,
   "metadata": {
    "application/vnd.databricks.v1+cell": {
     "cellMetadata": {
      "byteLimit": 2048000,
      "rowLimit": 10000
     },
     "inputWidgets": {},
     "nuid": "fd391e81-b8f1-420f-8ca8-05eb352e205a",
     "showTitle": false,
     "title": ""
    }
   },
   "outputs": [],
   "source": [
    "df = df.alias(\"main\")\n",
    "ref_def =ref_def.alias(\"references\")"
   ]
  },
  {
   "cell_type": "code",
   "execution_count": 0,
   "metadata": {
    "application/vnd.databricks.v1+cell": {
     "cellMetadata": {
      "byteLimit": 2048000,
      "rowLimit": 10000
     },
     "inputWidgets": {},
     "nuid": "be1d9e37-68c9-4829-95d6-41571e699eb0",
     "showTitle": false,
     "title": ""
    }
   },
   "outputs": [
    {
     "output_type": "stream",
     "name": "stdout",
     "output_type": "stream",
     "text": [
      "+---+----------+----------+---+------+----------+------------+------------+---------+---------+----------+-------+--------+\n| id|first_name|       dob|age|salary|department|salary_raise|   age_group|has_dob_1|has_dob_2|department|manager|    lead|\n+---+----------+----------+---+------+----------+------------+------------+---------+---------+----------+-------+--------+\n|  3|       Bob|      null|  0| 80000|        IT|     84000.0|More than 40|    false|    false|        IT|  Chris|Chandler|\n|  4|     Emily|1994-11-22| 30| 65000|   Finance|     68250.0|    21 to 30|     true|     true|   Finance|  Megan|   Molly|\n|  2|     Alice|1997-02-28| 27| 60000|        HR|     63000.0|    21 to 30|     true|     true|        HR|   Brad|   Brian|\n|  1|      John|1992-05-12| 32| 70000|        IT|     73500.0|        John|     true|     true|        IT|  Chris|Chandler|\n|  5|     David|1981-12-18| 43| 90000|        HR|     94500.0|More than 40|     true|     true|        HR|   Brad|   Brian|\n|  6|     Susan|1989-07-05| 35| 75000|   Finance|     78750.0|       Susan|     true|     true|   Finance|  Megan|   Molly|\n|  7|      Mike|1976-03-15| 48| 95000|        IT|     99750.0|More than 40|     true|     true|        IT|  Chris|Chandler|\n| 10|    Sophie|1992-06-30| 32| 62000|   Finance|     65100.0|      Sophie|     true|     true|   Finance|  Megan|   Molly|\n|  2|     Alice|1997-02-28| 27| 90000|   Finance|     94500.0|    21 to 30|     true|     true|   Finance|  Megan|   Molly|\n|  4|     Emily|1994-11-22| 30| 70000|   Finance|     73500.0|    21 to 30|     true|     true|   Finance|  Megan|   Molly|\n|  9|     James|1983-10-14| 41| 87000|        IT|     91350.0|More than 40|     true|     true|        IT|  Chris|Chandler|\n|  8|      Lisa|1995-08-20| 29| 58000|        HR|     60900.0|    21 to 30|     true|     true|        HR|   Brad|   Brian|\n+---+----------+----------+---+------+----------+------------+------------+---------+---------+----------+-------+--------+\n\n"
     ]
    }
   ],
   "source": [
    "df.join(\n",
    "    ref_def,\n",
    "    F.col(\"main.department\") == F.col(\"references.department\"),\n",
    "    \"left\",\n",
    ").show()"
   ]
  },
  {
   "cell_type": "code",
   "execution_count": 0,
   "metadata": {
    "application/vnd.databricks.v1+cell": {
     "cellMetadata": {
      "byteLimit": 2048000,
      "rowLimit": 10000
     },
     "inputWidgets": {},
     "nuid": "28afe37f-3bb1-4788-bc82-e0b07c2b298a",
     "showTitle": false,
     "title": ""
    }
   },
   "outputs": [
    {
     "output_type": "stream",
     "name": "stdout",
     "output_type": "stream",
     "text": [
      "+---+----------+----------+---+------+----------+------------+------------+---------+---------+-------+--------+--------------------+\n| id|first_name|       dob|age|salary|department|salary_raise|   age_group|has_dob_1|has_dob_2|manager|    lead|reference_department|\n+---+----------+----------+---+------+----------+------------+------------+---------+---------+-------+--------+--------------------+\n|  3|       Bob|      null|  0| 80000|        IT|     84000.0|More than 40|    false|    false|  Chris|Chandler|                  IT|\n|  4|     Emily|1994-11-22| 30| 65000|   Finance|     68250.0|    21 to 30|     true|     true|  Megan|   Molly|             Finance|\n|  2|     Alice|1997-02-28| 27| 60000|        HR|     63000.0|    21 to 30|     true|     true|   Brad|   Brian|                  HR|\n|  1|      John|1992-05-12| 32| 70000|        IT|     73500.0|        John|     true|     true|  Chris|Chandler|                  IT|\n|  5|     David|1981-12-18| 43| 90000|        HR|     94500.0|More than 40|     true|     true|   Brad|   Brian|                  HR|\n|  6|     Susan|1989-07-05| 35| 75000|   Finance|     78750.0|       Susan|     true|     true|  Megan|   Molly|             Finance|\n|  7|      Mike|1976-03-15| 48| 95000|        IT|     99750.0|More than 40|     true|     true|  Chris|Chandler|                  IT|\n| 10|    Sophie|1992-06-30| 32| 62000|   Finance|     65100.0|      Sophie|     true|     true|  Megan|   Molly|             Finance|\n|  2|     Alice|1997-02-28| 27| 90000|   Finance|     94500.0|    21 to 30|     true|     true|  Megan|   Molly|             Finance|\n|  4|     Emily|1994-11-22| 30| 70000|   Finance|     73500.0|    21 to 30|     true|     true|  Megan|   Molly|             Finance|\n|  9|     James|1983-10-14| 41| 87000|        IT|     91350.0|More than 40|     true|     true|  Chris|Chandler|                  IT|\n|  8|      Lisa|1995-08-20| 29| 58000|        HR|     60900.0|    21 to 30|     true|     true|   Brad|   Brian|                  HR|\n+---+----------+----------+---+------+----------+------------+------------+---------+---------+-------+--------+--------------------+\n\n"
     ]
    }
   ],
   "source": [
    "df.join(\n",
    "    ref_def.select(\n",
    "        \"manager\",\n",
    "        \"lead\",\n",
    "        F.col(\"department\").alias(\"reference_department\")\n",
    "    ).alias(\"reference\"),\n",
    "    F.col(\"main.department\") == F.col(\"reference.reference_department\"),\n",
    "    \"left\",\n",
    ").show()"
   ]
  },
  {
   "cell_type": "code",
   "execution_count": 0,
   "metadata": {
    "application/vnd.databricks.v1+cell": {
     "cellMetadata": {
      "byteLimit": 2048000,
      "rowLimit": 10000
     },
     "inputWidgets": {},
     "nuid": "0a11b533-9b8a-4ff6-a578-219369bd72bb",
     "showTitle": false,
     "title": ""
    }
   },
   "outputs": [
    {
     "output_type": "stream",
     "name": "stdout",
     "output_type": "stream",
     "text": [
      "+---+----------+----------+---+------+----------+------------+------------+---------+---------+-------+--------+--------------------+\n| id|first_name|       dob|age|salary|department|salary_raise|   age_group|has_dob_1|has_dob_2|manager|    lead|reference_department|\n+---+----------+----------+---+------+----------+------------+------------+---------+---------+-------+--------+--------------------+\n|  3|       Bob|      null|  0| 80000|        IT|     84000.0|More than 40|    false|    false|  Chris|Chandler|                  IT|\n|  4|     Emily|1994-11-22| 30| 65000|   Finance|     68250.0|    21 to 30|     true|     true|  Megan|   Molly|             Finance|\n|  2|     Alice|1997-02-28| 27| 60000|        HR|     63000.0|    21 to 30|     true|     true|   Brad|   Brian|                  HR|\n|  1|      John|1992-05-12| 32| 70000|        IT|     73500.0|        John|     true|     true|  Chris|Chandler|                  IT|\n|  5|     David|1981-12-18| 43| 90000|        HR|     94500.0|More than 40|     true|     true|   Brad|   Brian|                  HR|\n|  6|     Susan|1989-07-05| 35| 75000|   Finance|     78750.0|       Susan|     true|     true|  Megan|   Molly|             Finance|\n|  7|      Mike|1976-03-15| 48| 95000|        IT|     99750.0|More than 40|     true|     true|  Chris|Chandler|                  IT|\n| 10|    Sophie|1992-06-30| 32| 62000|   Finance|     65100.0|      Sophie|     true|     true|  Megan|   Molly|             Finance|\n|  2|     Alice|1997-02-28| 27| 90000|   Finance|     94500.0|    21 to 30|     true|     true|  Megan|   Molly|             Finance|\n|  4|     Emily|1994-11-22| 30| 70000|   Finance|     73500.0|    21 to 30|     true|     true|  Megan|   Molly|             Finance|\n|  9|     James|1983-10-14| 41| 87000|        IT|     91350.0|More than 40|     true|     true|  Chris|Chandler|                  IT|\n|  8|      Lisa|1995-08-20| 29| 58000|        HR|     60900.0|    21 to 30|     true|     true|   Brad|   Brian|                  HR|\n+---+----------+----------+---+------+----------+------------+------------+---------+---------+-------+--------+--------------------+\n\n"
     ]
    }
   ],
   "source": [
    "df.join(\n",
    "    ref_def.select(\n",
    "        \"manager\",\n",
    "        \"lead\",\n",
    "        F.col(\"department\").alias(\"reference_department\")\n",
    "    ).alias(\"reference\"),\n",
    "    F.col(\"main.department\") == F.col(\"reference.reference_department\"),\n",
    "    \"left\",\n",
    ").show()"
   ]
  },
  {
   "cell_type": "markdown",
   "metadata": {
    "application/vnd.databricks.v1+cell": {
     "cellMetadata": {
      "byteLimit": 2048000,
      "rowLimit": 10000
     },
     "inputWidgets": {},
     "nuid": "ec503d72-e3cf-4bc1-af06-e7ed2e7db6cd",
     "showTitle": false,
     "title": ""
    }
   },
   "source": [
    "Load(Save) Data"
   ]
  },
  {
   "cell_type": "code",
   "execution_count": 0,
   "metadata": {
    "application/vnd.databricks.v1+cell": {
     "cellMetadata": {
      "byteLimit": 2048000,
      "rowLimit": 10000
     },
     "inputWidgets": {},
     "nuid": "a3c823b4-21b6-4625-956e-db8419b9b5c2",
     "showTitle": false,
     "title": ""
    }
   },
   "outputs": [],
   "source": [
    "df.write.mode(\"overwrite\").format(\"csv\").save(\"dbfs:///FileStore/tables/final\")"
   ]
  },
  {
   "cell_type": "code",
   "execution_count": 0,
   "metadata": {
    "application/vnd.databricks.v1+cell": {
     "cellMetadata": {
      "byteLimit": 2048000,
      "rowLimit": 10000
     },
     "inputWidgets": {},
     "nuid": "9cdd5aa1-afdc-48d2-be84-b2bc5dbffce7",
     "showTitle": false,
     "title": ""
    }
   },
   "outputs": [
    {
     "output_type": "display_data",
     "data": {
      "text/html": [
       "<style scoped>\n",
       "  .table-result-container {\n",
       "    max-height: 300px;\n",
       "    overflow: auto;\n",
       "  }\n",
       "  table, th, td {\n",
       "    border: 1px solid black;\n",
       "    border-collapse: collapse;\n",
       "  }\n",
       "  th, td {\n",
       "    padding: 5px;\n",
       "  }\n",
       "  th {\n",
       "    text-align: left;\n",
       "  }\n",
       "</style><div class='table-result-container'><table class='table-result'><thead style='background-color: white'><tr><th>path</th><th>name</th><th>size</th><th>modificationTime</th></tr></thead><tbody><tr><td>dbfs:/FileStore/tables/final/_SUCCESS</td><td>_SUCCESS</td><td>0</td><td>1708269700000</td></tr><tr><td>dbfs:/FileStore/tables/final/_committed_3623868331512841782</td><td>_committed_3623868331512841782</td><td>201</td><td>1708269259000</td></tr><tr><td>dbfs:/FileStore/tables/final/_committed_4247167990502818000</td><td>_committed_4247167990502818000</td><td>201</td><td>1708269700000</td></tr><tr><td>dbfs:/FileStore/tables/final/_committed_6046920417504358138</td><td>_committed_6046920417504358138</td><td>301</td><td>1708268482000</td></tr><tr><td>dbfs:/FileStore/tables/final/_committed_7451016719198375504</td><td>_committed_7451016719198375504</td><td>202</td><td>1707804194000</td></tr><tr><td>dbfs:/FileStore/tables/final/_committed_vacuum4410862666706982587</td><td>_committed_vacuum4410862666706982587</td><td>96</td><td>1708268483000</td></tr><tr><td>dbfs:/FileStore/tables/final/_started_3623868331512841782</td><td>_started_3623868331512841782</td><td>0</td><td>1708269259000</td></tr><tr><td>dbfs:/FileStore/tables/final/_started_4247167990502818000</td><td>_started_4247167990502818000</td><td>0</td><td>1708269700000</td></tr><tr><td>dbfs:/FileStore/tables/final/_started_6046920417504358138</td><td>_started_6046920417504358138</td><td>0</td><td>1708268482000</td></tr><tr><td>dbfs:/FileStore/tables/final/part-00000-tid-4247167990502818000-f26a6208-a158-4ef9-964e-cf654ca545fa-321-1-c000.csv</td><td>part-00000-tid-4247167990502818000-f26a6208-a158-4ef9-964e-cf654ca545fa-321-1-c000.csv</td><td>716</td><td>1708269700000</td></tr></tbody></table></div>"
      ]
     },
     "metadata": {
      "application/vnd.databricks.v1+output": {
       "addedWidgets": {},
       "aggData": [],
       "aggError": "",
       "aggOverflow": false,
       "aggSchema": [],
       "aggSeriesLimitReached": false,
       "aggType": "",
       "arguments": {},
       "columnCustomDisplayInfos": {},
       "data": [
        [
         "dbfs:/FileStore/tables/final/_SUCCESS",
         "_SUCCESS",
         0,
         1708269700000
        ],
        [
         "dbfs:/FileStore/tables/final/_committed_3623868331512841782",
         "_committed_3623868331512841782",
         201,
         1708269259000
        ],
        [
         "dbfs:/FileStore/tables/final/_committed_4247167990502818000",
         "_committed_4247167990502818000",
         201,
         1708269700000
        ],
        [
         "dbfs:/FileStore/tables/final/_committed_6046920417504358138",
         "_committed_6046920417504358138",
         301,
         1708268482000
        ],
        [
         "dbfs:/FileStore/tables/final/_committed_7451016719198375504",
         "_committed_7451016719198375504",
         202,
         1707804194000
        ],
        [
         "dbfs:/FileStore/tables/final/_committed_vacuum4410862666706982587",
         "_committed_vacuum4410862666706982587",
         96,
         1708268483000
        ],
        [
         "dbfs:/FileStore/tables/final/_started_3623868331512841782",
         "_started_3623868331512841782",
         0,
         1708269259000
        ],
        [
         "dbfs:/FileStore/tables/final/_started_4247167990502818000",
         "_started_4247167990502818000",
         0,
         1708269700000
        ],
        [
         "dbfs:/FileStore/tables/final/_started_6046920417504358138",
         "_started_6046920417504358138",
         0,
         1708268482000
        ],
        [
         "dbfs:/FileStore/tables/final/part-00000-tid-4247167990502818000-f26a6208-a158-4ef9-964e-cf654ca545fa-321-1-c000.csv",
         "part-00000-tid-4247167990502818000-f26a6208-a158-4ef9-964e-cf654ca545fa-321-1-c000.csv",
         716,
         1708269700000
        ]
       ],
       "datasetInfos": [],
       "dbfsResultPath": null,
       "isJsonSchema": true,
       "metadata": {
        "isDbfsCommandResult": false
       },
       "overflow": false,
       "plotOptions": {
        "customPlotOptions": {},
        "displayType": "table",
        "pivotAggregation": null,
        "pivotColumns": null,
        "xColumns": null,
        "yColumns": null
       },
       "removedWidgets": [],
       "schema": [
        {
         "metadata": "{}",
         "name": "path",
         "type": "\"string\""
        },
        {
         "metadata": "{}",
         "name": "name",
         "type": "\"string\""
        },
        {
         "metadata": "{}",
         "name": "size",
         "type": "\"long\""
        },
        {
         "metadata": "{}",
         "name": "modificationTime",
         "type": "\"long\""
        }
       ],
       "type": "table"
      }
     },
     "output_type": "display_data"
    }
   ],
   "source": [
    "%fs ls dbfs:///FileStore/tables/final"
   ]
  },
  {
   "cell_type": "code",
   "execution_count": 0,
   "metadata": {
    "application/vnd.databricks.v1+cell": {
     "cellMetadata": {
      "byteLimit": 2048000,
      "rowLimit": 10000
     },
     "inputWidgets": {},
     "nuid": "89669c78-dbd0-433c-b99f-10ad295fb0dd",
     "showTitle": false,
     "title": ""
    }
   },
   "outputs": [
    {
     "output_type": "stream",
     "name": "stdout",
     "output_type": "stream",
     "text": [
      "+--------+---------+-----------+\n|database|tableName|isTemporary|\n+--------+---------+-----------+\n+--------+---------+-----------+\n\n"
     ]
    }
   ],
   "source": [
    "spark.sql(\"show tables\").show()"
   ]
  },
  {
   "cell_type": "code",
   "execution_count": 0,
   "metadata": {
    "application/vnd.databricks.v1+cell": {
     "cellMetadata": {
      "byteLimit": 2048000,
      "rowLimit": 10000
     },
     "inputWidgets": {},
     "nuid": "f7dc09e9-55d4-4e2d-86eb-b59d346e8e1b",
     "showTitle": false,
     "title": ""
    }
   },
   "outputs": [
    {
     "output_type": "display_data",
     "data": {
      "text/html": [
       "<style scoped>\n",
       "  .ansiout {\n",
       "    display: block;\n",
       "    unicode-bidi: embed;\n",
       "    white-space: pre-wrap;\n",
       "    word-wrap: break-word;\n",
       "    word-break: break-all;\n",
       "    font-family: \"Menlo\", \"Monaco\", \"Consolas\", \"Ubuntu Mono\", \"Source Code Pro\", monospace;\n",
       "    font-size: 13px;\n",
       "    color: #555;\n",
       "    margin-left: 4px;\n",
       "    line-height: 19px;\n",
       "  }\n",
       "</style>\n",
       "<div class=\"ansiout\">res5: Boolean = true\n",
       "</div>"
      ]
     },
     "metadata": {
      "application/vnd.databricks.v1+output": {
       "addedWidgets": {},
       "arguments": {},
       "data": "<div class=\"ansiout\">res5: Boolean = true\n</div>",
       "datasetInfos": [],
       "metadata": {
        "isDbfsCommandResult": false
       },
       "removedWidgets": [],
       "type": "html"
      }
     },
     "output_type": "display_data"
    }
   ],
   "source": [
    "%fs rm -r dbfs:/user/hive/warehouse/final"
   ]
  },
  {
   "cell_type": "code",
   "execution_count": 0,
   "metadata": {
    "application/vnd.databricks.v1+cell": {
     "cellMetadata": {
      "byteLimit": 2048000,
      "rowLimit": 10000
     },
     "inputWidgets": {},
     "nuid": "0a5681cb-73c9-44d4-99be-9c124f4f85b9",
     "showTitle": false,
     "title": ""
    }
   },
   "outputs": [],
   "source": [
    "df.write.mode(\"overwrite\").format(\"delta\").saveAsTable(\"final\")"
   ]
  },
  {
   "cell_type": "code",
   "execution_count": 0,
   "metadata": {
    "application/vnd.databricks.v1+cell": {
     "cellMetadata": {
      "byteLimit": 2048000,
      "rowLimit": 10000
     },
     "inputWidgets": {},
     "nuid": "c88d6937-2d47-43a7-b1db-875a0ea756b2",
     "showTitle": false,
     "title": ""
    }
   },
   "outputs": [
    {
     "output_type": "stream",
     "name": "stdout",
     "output_type": "stream",
     "text": [
      "+--------+---------+-----------+\n|database|tableName|isTemporary|\n+--------+---------+-----------+\n| default|    final|      false|\n+--------+---------+-----------+\n\n"
     ]
    }
   ],
   "source": [
    "spark.sql(\"show tables\").show()"
   ]
  },
  {
   "cell_type": "code",
   "execution_count": 0,
   "metadata": {
    "application/vnd.databricks.v1+cell": {
     "cellMetadata": {
      "byteLimit": 2048000,
      "rowLimit": 10000
     },
     "inputWidgets": {},
     "nuid": "d409edf9-c12a-47e9-9656-fa15943b4976",
     "showTitle": false,
     "title": ""
    }
   },
   "outputs": [
    {
     "output_type": "display_data",
     "data": {
      "text/html": [
       "<style scoped>\n",
       "  .table-result-container {\n",
       "    max-height: 300px;\n",
       "    overflow: auto;\n",
       "  }\n",
       "  table, th, td {\n",
       "    border: 1px solid black;\n",
       "    border-collapse: collapse;\n",
       "  }\n",
       "  th, td {\n",
       "    padding: 5px;\n",
       "  }\n",
       "  th {\n",
       "    text-align: left;\n",
       "  }\n",
       "</style><div class='table-result-container'><table class='table-result'><thead style='background-color: white'><tr><th>path</th><th>name</th><th>size</th><th>modificationTime</th></tr></thead><tbody><tr><td>dbfs:/user/hive/warehouse/final/_delta_log/</td><td>_delta_log/</td><td>0</td><td>0</td></tr><tr><td>dbfs:/user/hive/warehouse/final/part-00000-ae228bf0-db04-42e5-8826-d6b07cd7482f-c000.snappy.parquet</td><td>part-00000-ae228bf0-db04-42e5-8826-d6b07cd7482f-c000.snappy.parquet</td><td>3260</td><td>1708269716000</td></tr></tbody></table></div>"
      ]
     },
     "metadata": {
      "application/vnd.databricks.v1+output": {
       "addedWidgets": {},
       "aggData": [],
       "aggError": "",
       "aggOverflow": false,
       "aggSchema": [],
       "aggSeriesLimitReached": false,
       "aggType": "",
       "arguments": {},
       "columnCustomDisplayInfos": {},
       "data": [
        [
         "dbfs:/user/hive/warehouse/final/_delta_log/",
         "_delta_log/",
         0,
         0
        ],
        [
         "dbfs:/user/hive/warehouse/final/part-00000-ae228bf0-db04-42e5-8826-d6b07cd7482f-c000.snappy.parquet",
         "part-00000-ae228bf0-db04-42e5-8826-d6b07cd7482f-c000.snappy.parquet",
         3260,
         1708269716000
        ]
       ],
       "datasetInfos": [],
       "dbfsResultPath": null,
       "isJsonSchema": true,
       "metadata": {
        "isDbfsCommandResult": false
       },
       "overflow": false,
       "plotOptions": {
        "customPlotOptions": {},
        "displayType": "table",
        "pivotAggregation": null,
        "pivotColumns": null,
        "xColumns": null,
        "yColumns": null
       },
       "removedWidgets": [],
       "schema": [
        {
         "metadata": "{}",
         "name": "path",
         "type": "\"string\""
        },
        {
         "metadata": "{}",
         "name": "name",
         "type": "\"string\""
        },
        {
         "metadata": "{}",
         "name": "size",
         "type": "\"long\""
        },
        {
         "metadata": "{}",
         "name": "modificationTime",
         "type": "\"long\""
        }
       ],
       "type": "table"
      }
     },
     "output_type": "display_data"
    }
   ],
   "source": [
    "%fs ls dbfs:/user/hive/warehouse/final"
   ]
  },
  {
   "cell_type": "code",
   "execution_count": 0,
   "metadata": {
    "application/vnd.databricks.v1+cell": {
     "cellMetadata": {
      "byteLimit": 2048000,
      "implicitDf": true,
      "rowLimit": 10000
     },
     "inputWidgets": {},
     "nuid": "62ecd8a4-cc01-4ca9-b572-67fbb9e9d06f",
     "showTitle": false,
     "title": ""
    }
   },
   "outputs": [
    {
     "output_type": "display_data",
     "data": {
      "text/html": [
       "<style scoped>\n",
       "  .table-result-container {\n",
       "    max-height: 300px;\n",
       "    overflow: auto;\n",
       "  }\n",
       "  table, th, td {\n",
       "    border: 1px solid black;\n",
       "    border-collapse: collapse;\n",
       "  }\n",
       "  th, td {\n",
       "    padding: 5px;\n",
       "  }\n",
       "  th {\n",
       "    text-align: left;\n",
       "  }\n",
       "</style><div class='table-result-container'><table class='table-result'><thead style='background-color: white'><tr><th>col_name</th><th>data_type</th><th>comment</th></tr></thead><tbody><tr><td>id</td><td>int</td><td>null</td></tr><tr><td>first_name</td><td>string</td><td>null</td></tr><tr><td>dob</td><td>date</td><td>null</td></tr><tr><td>age</td><td>int</td><td>null</td></tr><tr><td>salary</td><td>int</td><td>null</td></tr><tr><td>department</td><td>string</td><td>null</td></tr><tr><td>salary_raise</td><td>double</td><td>null</td></tr><tr><td>age_group</td><td>string</td><td>null</td></tr><tr><td>has_dob_1</td><td>boolean</td><td>null</td></tr><tr><td>has_dob_2</td><td>boolean</td><td>null</td></tr></tbody></table></div>"
      ]
     },
     "metadata": {
      "application/vnd.databricks.v1+output": {
       "addedWidgets": {},
       "aggData": [],
       "aggError": "",
       "aggOverflow": false,
       "aggSchema": [],
       "aggSeriesLimitReached": false,
       "aggType": "",
       "arguments": {},
       "columnCustomDisplayInfos": {},
       "data": [
        [
         "id",
         "int",
         null
        ],
        [
         "first_name",
         "string",
         null
        ],
        [
         "dob",
         "date",
         null
        ],
        [
         "age",
         "int",
         null
        ],
        [
         "salary",
         "int",
         null
        ],
        [
         "department",
         "string",
         null
        ],
        [
         "salary_raise",
         "double",
         null
        ],
        [
         "age_group",
         "string",
         null
        ],
        [
         "has_dob_1",
         "boolean",
         null
        ],
        [
         "has_dob_2",
         "boolean",
         null
        ]
       ],
       "datasetInfos": [],
       "dbfsResultPath": null,
       "isJsonSchema": true,
       "metadata": {},
       "overflow": false,
       "plotOptions": {
        "customPlotOptions": {},
        "displayType": "table",
        "pivotAggregation": null,
        "pivotColumns": null,
        "xColumns": null,
        "yColumns": null
       },
       "removedWidgets": [],
       "schema": [
        {
         "metadata": "{\"comment\":\"name of the column\"}",
         "name": "col_name",
         "type": "\"string\""
        },
        {
         "metadata": "{\"comment\":\"data type of the column\"}",
         "name": "data_type",
         "type": "\"string\""
        },
        {
         "metadata": "{\"comment\":\"comment of the column\"}",
         "name": "comment",
         "type": "\"string\""
        }
       ],
       "type": "table"
      }
     },
     "output_type": "display_data"
    }
   ],
   "source": [
    "%sql\n",
    "desc table default.final;"
   ]
  },
  {
   "cell_type": "code",
   "execution_count": 0,
   "metadata": {
    "application/vnd.databricks.v1+cell": {
     "cellMetadata": {
      "byteLimit": 2048000,
      "implicitDf": true,
      "rowLimit": 10000
     },
     "inputWidgets": {},
     "nuid": "4e1d10c5-de4d-4aa7-a836-8102ca7d37d3",
     "showTitle": false,
     "title": ""
    }
   },
   "outputs": [
    {
     "output_type": "display_data",
     "data": {
      "text/html": [
       "<style scoped>\n",
       "  .table-result-container {\n",
       "    max-height: 300px;\n",
       "    overflow: auto;\n",
       "  }\n",
       "  table, th, td {\n",
       "    border: 1px solid black;\n",
       "    border-collapse: collapse;\n",
       "  }\n",
       "  th, td {\n",
       "    padding: 5px;\n",
       "  }\n",
       "  th {\n",
       "    text-align: left;\n",
       "  }\n",
       "</style><div class='table-result-container'><table class='table-result'><thead style='background-color: white'><tr><th>col_name</th><th>data_type</th><th>comment</th></tr></thead><tbody><tr><td>id</td><td>int</td><td>null</td></tr><tr><td>first_name</td><td>string</td><td>null</td></tr><tr><td>dob</td><td>date</td><td>null</td></tr><tr><td>age</td><td>int</td><td>null</td></tr><tr><td>salary</td><td>int</td><td>null</td></tr><tr><td>department</td><td>string</td><td>null</td></tr><tr><td>salary_raise</td><td>double</td><td>null</td></tr><tr><td>age_group</td><td>string</td><td>null</td></tr><tr><td>has_dob_1</td><td>boolean</td><td>null</td></tr><tr><td>has_dob_2</td><td>boolean</td><td>null</td></tr><tr><td></td><td></td><td></td></tr><tr><td># Detailed Table Information</td><td></td><td></td></tr><tr><td>Catalog</td><td>spark_catalog</td><td></td></tr><tr><td>Database</td><td>default</td><td></td></tr><tr><td>Table</td><td>final</td><td></td></tr><tr><td>Created Time</td><td>Sun Feb 18 15:22:05 UTC 2024</td><td></td></tr><tr><td>Last Access</td><td>UNKNOWN</td><td></td></tr><tr><td>Created By</td><td>Spark 3.3.2</td><td></td></tr><tr><td>Statistics</td><td>3260 bytes</td><td></td></tr><tr><td>Type</td><td>MANAGED</td><td></td></tr><tr><td>Location</td><td>dbfs:/user/hive/warehouse/final</td><td></td></tr><tr><td>Provider</td><td>delta</td><td></td></tr><tr><td>Owner</td><td>root</td><td></td></tr><tr><td>Is_managed_location</td><td>true</td><td></td></tr><tr><td>Table Properties</td><td>[delta.minReaderVersion=1,delta.minWriterVersion=2]</td><td></td></tr></tbody></table></div>"
      ]
     },
     "metadata": {
      "application/vnd.databricks.v1+output": {
       "addedWidgets": {},
       "aggData": [],
       "aggError": "",
       "aggOverflow": false,
       "aggSchema": [],
       "aggSeriesLimitReached": false,
       "aggType": "",
       "arguments": {},
       "columnCustomDisplayInfos": {},
       "data": [
        [
         "id",
         "int",
         null
        ],
        [
         "first_name",
         "string",
         null
        ],
        [
         "dob",
         "date",
         null
        ],
        [
         "age",
         "int",
         null
        ],
        [
         "salary",
         "int",
         null
        ],
        [
         "department",
         "string",
         null
        ],
        [
         "salary_raise",
         "double",
         null
        ],
        [
         "age_group",
         "string",
         null
        ],
        [
         "has_dob_1",
         "boolean",
         null
        ],
        [
         "has_dob_2",
         "boolean",
         null
        ],
        [
         "",
         "",
         ""
        ],
        [
         "# Detailed Table Information",
         "",
         ""
        ],
        [
         "Catalog",
         "spark_catalog",
         ""
        ],
        [
         "Database",
         "default",
         ""
        ],
        [
         "Table",
         "final",
         ""
        ],
        [
         "Created Time",
         "Sun Feb 18 15:22:05 UTC 2024",
         ""
        ],
        [
         "Last Access",
         "UNKNOWN",
         ""
        ],
        [
         "Created By",
         "Spark 3.3.2",
         ""
        ],
        [
         "Statistics",
         "3260 bytes",
         ""
        ],
        [
         "Type",
         "MANAGED",
         ""
        ],
        [
         "Location",
         "dbfs:/user/hive/warehouse/final",
         ""
        ],
        [
         "Provider",
         "delta",
         ""
        ],
        [
         "Owner",
         "root",
         ""
        ],
        [
         "Is_managed_location",
         "true",
         ""
        ],
        [
         "Table Properties",
         "[delta.minReaderVersion=1,delta.minWriterVersion=2]",
         ""
        ]
       ],
       "datasetInfos": [],
       "dbfsResultPath": null,
       "isJsonSchema": true,
       "metadata": {},
       "overflow": false,
       "plotOptions": {
        "customPlotOptions": {},
        "displayType": "table",
        "pivotAggregation": null,
        "pivotColumns": null,
        "xColumns": null,
        "yColumns": null
       },
       "removedWidgets": [],
       "schema": [
        {
         "metadata": "{\"comment\":\"name of the column\"}",
         "name": "col_name",
         "type": "\"string\""
        },
        {
         "metadata": "{\"comment\":\"data type of the column\"}",
         "name": "data_type",
         "type": "\"string\""
        },
        {
         "metadata": "{\"comment\":\"comment of the column\"}",
         "name": "comment",
         "type": "\"string\""
        }
       ],
       "type": "table"
      }
     },
     "output_type": "display_data"
    }
   ],
   "source": [
    "%sql\n",
    "desc table extended default.final;"
   ]
  },
  {
   "cell_type": "code",
   "execution_count": 0,
   "metadata": {
    "application/vnd.databricks.v1+cell": {
     "cellMetadata": {
      "byteLimit": 2048000,
      "implicitDf": true,
      "rowLimit": 10000
     },
     "inputWidgets": {},
     "nuid": "7c0fb38c-af03-4083-993b-01e1c661f563",
     "showTitle": false,
     "title": ""
    }
   },
   "outputs": [
    {
     "output_type": "display_data",
     "data": {
      "text/html": [
       "<style scoped>\n",
       "  .table-result-container {\n",
       "    max-height: 300px;\n",
       "    overflow: auto;\n",
       "  }\n",
       "  table, th, td {\n",
       "    border: 1px solid black;\n",
       "    border-collapse: collapse;\n",
       "  }\n",
       "  th, td {\n",
       "    padding: 5px;\n",
       "  }\n",
       "  th {\n",
       "    text-align: left;\n",
       "  }\n",
       "</style><div class='table-result-container'><table class='table-result'><thead style='background-color: white'><tr><th>format</th><th>id</th><th>name</th><th>description</th><th>location</th><th>createdAt</th><th>lastModified</th><th>partitionColumns</th><th>numFiles</th><th>sizeInBytes</th><th>properties</th><th>minReaderVersion</th><th>minWriterVersion</th><th>tableFeatures</th><th>statistics</th></tr></thead><tbody><tr><td>delta</td><td>53506fb6-f9c3-4bd1-9945-dcc34ba7c4cc</td><td>spark_catalog.default.final</td><td>null</td><td>dbfs:/user/hive/warehouse/final</td><td>2024-02-18T15:21:52.952+0000</td><td>2024-02-18T15:21:59.000+0000</td><td>List()</td><td>1</td><td>3260</td><td>Map()</td><td>1</td><td>2</td><td>List(appendOnly, invariants)</td><td>Map()</td></tr></tbody></table></div>"
      ]
     },
     "metadata": {
      "application/vnd.databricks.v1+output": {
       "addedWidgets": {},
       "aggData": [],
       "aggError": "",
       "aggOverflow": false,
       "aggSchema": [],
       "aggSeriesLimitReached": false,
       "aggType": "",
       "arguments": {},
       "columnCustomDisplayInfos": {},
       "data": [
        [
         "delta",
         "53506fb6-f9c3-4bd1-9945-dcc34ba7c4cc",
         "spark_catalog.default.final",
         null,
         "dbfs:/user/hive/warehouse/final",
         "2024-02-18T15:21:52.952+0000",
         "2024-02-18T15:21:59.000+0000",
         [],
         1,
         3260,
         {},
         1,
         2,
         [
          "appendOnly",
          "invariants"
         ],
         {}
        ]
       ],
       "datasetInfos": [],
       "dbfsResultPath": null,
       "isJsonSchema": true,
       "metadata": {},
       "overflow": false,
       "plotOptions": {
        "customPlotOptions": {},
        "displayType": "table",
        "pivotAggregation": null,
        "pivotColumns": null,
        "xColumns": null,
        "yColumns": null
       },
       "removedWidgets": [],
       "schema": [
        {
         "metadata": "{}",
         "name": "format",
         "type": "\"string\""
        },
        {
         "metadata": "{}",
         "name": "id",
         "type": "\"string\""
        },
        {
         "metadata": "{}",
         "name": "name",
         "type": "\"string\""
        },
        {
         "metadata": "{}",
         "name": "description",
         "type": "\"string\""
        },
        {
         "metadata": "{}",
         "name": "location",
         "type": "\"string\""
        },
        {
         "metadata": "{}",
         "name": "createdAt",
         "type": "\"timestamp\""
        },
        {
         "metadata": "{}",
         "name": "lastModified",
         "type": "\"timestamp\""
        },
        {
         "metadata": "{}",
         "name": "partitionColumns",
         "type": "{\"type\":\"array\",\"elementType\":\"string\",\"containsNull\":true}"
        },
        {
         "metadata": "{}",
         "name": "numFiles",
         "type": "\"long\""
        },
        {
         "metadata": "{}",
         "name": "sizeInBytes",
         "type": "\"long\""
        },
        {
         "metadata": "{}",
         "name": "properties",
         "type": "{\"type\":\"map\",\"keyType\":\"string\",\"valueType\":\"string\",\"valueContainsNull\":true}"
        },
        {
         "metadata": "{}",
         "name": "minReaderVersion",
         "type": "\"integer\""
        },
        {
         "metadata": "{}",
         "name": "minWriterVersion",
         "type": "\"integer\""
        },
        {
         "metadata": "{}",
         "name": "tableFeatures",
         "type": "{\"type\":\"array\",\"elementType\":\"string\",\"containsNull\":true}"
        },
        {
         "metadata": "{}",
         "name": "statistics",
         "type": "{\"type\":\"map\",\"keyType\":\"string\",\"valueType\":\"long\",\"valueContainsNull\":true}"
        }
       ],
       "type": "table"
      }
     },
     "output_type": "display_data"
    }
   ],
   "source": [
    "%sql\n",
    "desc detail default.final;"
   ]
  },
  {
   "cell_type": "code",
   "execution_count": 0,
   "metadata": {
    "application/vnd.databricks.v1+cell": {
     "cellMetadata": {
      "byteLimit": 2048000,
      "implicitDf": true,
      "rowLimit": 10000
     },
     "inputWidgets": {},
     "nuid": "37e476c5-e04e-49c3-a6de-02c0523efeae",
     "showTitle": false,
     "title": ""
    }
   },
   "outputs": [
    {
     "output_type": "display_data",
     "data": {
      "text/html": [
       "<style scoped>\n",
       "  .table-result-container {\n",
       "    max-height: 300px;\n",
       "    overflow: auto;\n",
       "  }\n",
       "  table, th, td {\n",
       "    border: 1px solid black;\n",
       "    border-collapse: collapse;\n",
       "  }\n",
       "  th, td {\n",
       "    padding: 5px;\n",
       "  }\n",
       "  th {\n",
       "    text-align: left;\n",
       "  }\n",
       "</style><div class='table-result-container'><table class='table-result'><thead style='background-color: white'><tr><th>id</th><th>first_name</th><th>dob</th><th>age</th><th>salary</th><th>department</th><th>salary_raise</th><th>age_group</th><th>has_dob_1</th><th>has_dob_2</th></tr></thead><tbody><tr><td>3</td><td>Bob</td><td>null</td><td>0</td><td>80000</td><td>IT</td><td>84000.0</td><td>More than 40</td><td>false</td><td>false</td></tr><tr><td>4</td><td>Emily</td><td>1994-11-22</td><td>30</td><td>65000</td><td>Finance</td><td>68250.0</td><td>21 to 30</td><td>true</td><td>true</td></tr><tr><td>2</td><td>Alice</td><td>1997-02-28</td><td>27</td><td>60000</td><td>HR</td><td>63000.0</td><td>21 to 30</td><td>true</td><td>true</td></tr><tr><td>1</td><td>John</td><td>1992-05-12</td><td>32</td><td>70000</td><td>IT</td><td>73500.0</td><td>John</td><td>true</td><td>true</td></tr><tr><td>5</td><td>David</td><td>1981-12-18</td><td>43</td><td>90000</td><td>HR</td><td>94500.0</td><td>More than 40</td><td>true</td><td>true</td></tr><tr><td>6</td><td>Susan</td><td>1989-07-05</td><td>35</td><td>75000</td><td>Finance</td><td>78750.0</td><td>Susan</td><td>true</td><td>true</td></tr><tr><td>7</td><td>Mike</td><td>1976-03-15</td><td>48</td><td>95000</td><td>IT</td><td>99750.0</td><td>More than 40</td><td>true</td><td>true</td></tr><tr><td>10</td><td>Sophie</td><td>1992-06-30</td><td>32</td><td>62000</td><td>Finance</td><td>65100.0</td><td>Sophie</td><td>true</td><td>true</td></tr><tr><td>2</td><td>Alice</td><td>1997-02-28</td><td>27</td><td>90000</td><td>Finance</td><td>94500.0</td><td>21 to 30</td><td>true</td><td>true</td></tr><tr><td>4</td><td>Emily</td><td>1994-11-22</td><td>30</td><td>70000</td><td>Finance</td><td>73500.0</td><td>21 to 30</td><td>true</td><td>true</td></tr><tr><td>9</td><td>James</td><td>1983-10-14</td><td>41</td><td>87000</td><td>IT</td><td>91350.0</td><td>More than 40</td><td>true</td><td>true</td></tr><tr><td>8</td><td>Lisa</td><td>1995-08-20</td><td>29</td><td>58000</td><td>HR</td><td>60900.0</td><td>21 to 30</td><td>true</td><td>true</td></tr></tbody></table></div>"
      ]
     },
     "metadata": {
      "application/vnd.databricks.v1+output": {
       "addedWidgets": {},
       "aggData": [],
       "aggError": "",
       "aggOverflow": false,
       "aggSchema": [],
       "aggSeriesLimitReached": false,
       "aggType": "",
       "arguments": {},
       "columnCustomDisplayInfos": {},
       "data": [
        [
         3,
         "Bob",
         null,
         0,
         80000,
         "IT",
         84000.0,
         "More than 40",
         false,
         false
        ],
        [
         4,
         "Emily",
         "1994-11-22",
         30,
         65000,
         "Finance",
         68250.0,
         "21 to 30",
         true,
         true
        ],
        [
         2,
         "Alice",
         "1997-02-28",
         27,
         60000,
         "HR",
         63000.0,
         "21 to 30",
         true,
         true
        ],
        [
         1,
         "John",
         "1992-05-12",
         32,
         70000,
         "IT",
         73500.0,
         "John",
         true,
         true
        ],
        [
         5,
         "David",
         "1981-12-18",
         43,
         90000,
         "HR",
         94500.0,
         "More than 40",
         true,
         true
        ],
        [
         6,
         "Susan",
         "1989-07-05",
         35,
         75000,
         "Finance",
         78750.0,
         "Susan",
         true,
         true
        ],
        [
         7,
         "Mike",
         "1976-03-15",
         48,
         95000,
         "IT",
         99750.0,
         "More than 40",
         true,
         true
        ],
        [
         10,
         "Sophie",
         "1992-06-30",
         32,
         62000,
         "Finance",
         65100.0,
         "Sophie",
         true,
         true
        ],
        [
         2,
         "Alice",
         "1997-02-28",
         27,
         90000,
         "Finance",
         94500.0,
         "21 to 30",
         true,
         true
        ],
        [
         4,
         "Emily",
         "1994-11-22",
         30,
         70000,
         "Finance",
         73500.0,
         "21 to 30",
         true,
         true
        ],
        [
         9,
         "James",
         "1983-10-14",
         41,
         87000,
         "IT",
         91350.0,
         "More than 40",
         true,
         true
        ],
        [
         8,
         "Lisa",
         "1995-08-20",
         29,
         58000,
         "HR",
         60900.0,
         "21 to 30",
         true,
         true
        ]
       ],
       "datasetInfos": [],
       "dbfsResultPath": null,
       "isJsonSchema": true,
       "metadata": {},
       "overflow": false,
       "plotOptions": {
        "customPlotOptions": {},
        "displayType": "table",
        "pivotAggregation": null,
        "pivotColumns": null,
        "xColumns": null,
        "yColumns": null
       },
       "removedWidgets": [],
       "schema": [
        {
         "metadata": "{}",
         "name": "id",
         "type": "\"integer\""
        },
        {
         "metadata": "{}",
         "name": "first_name",
         "type": "\"string\""
        },
        {
         "metadata": "{}",
         "name": "dob",
         "type": "\"date\""
        },
        {
         "metadata": "{}",
         "name": "age",
         "type": "\"integer\""
        },
        {
         "metadata": "{}",
         "name": "salary",
         "type": "\"integer\""
        },
        {
         "metadata": "{}",
         "name": "department",
         "type": "\"string\""
        },
        {
         "metadata": "{}",
         "name": "salary_raise",
         "type": "\"double\""
        },
        {
         "metadata": "{}",
         "name": "age_group",
         "type": "\"string\""
        },
        {
         "metadata": "{}",
         "name": "has_dob_1",
         "type": "\"boolean\""
        },
        {
         "metadata": "{}",
         "name": "has_dob_2",
         "type": "\"boolean\""
        }
       ],
       "type": "table"
      }
     },
     "output_type": "display_data"
    }
   ],
   "source": [
    "%sql\n",
    "SELECT * from default.final"
   ]
  },
  {
   "cell_type": "code",
   "execution_count": 0,
   "metadata": {
    "application/vnd.databricks.v1+cell": {
     "cellMetadata": {
      "byteLimit": 2048000,
      "implicitDf": true,
      "rowLimit": 10000
     },
     "inputWidgets": {},
     "nuid": "18862128-cd7f-4f98-816a-5d6a04a3a54f",
     "showTitle": false,
     "title": ""
    }
   },
   "outputs": [
    {
     "output_type": "display_data",
     "data": {
      "text/html": [
       "<style scoped>\n",
       "  .table-result-container {\n",
       "    max-height: 300px;\n",
       "    overflow: auto;\n",
       "  }\n",
       "  table, th, td {\n",
       "    border: 1px solid black;\n",
       "    border-collapse: collapse;\n",
       "  }\n",
       "  th, td {\n",
       "    padding: 5px;\n",
       "  }\n",
       "  th {\n",
       "    text-align: left;\n",
       "  }\n",
       "</style><div class='table-result-container'><table class='table-result'><thead style='background-color: white'><tr><th>first_name</th><th>salary</th><th>department</th><th>salary_raise</th><th>age_group</th><th>has_dob_1</th><th>has_dob_2</th></tr></thead><tbody><tr><td>Bob</td><td>80000</td><td>IT</td><td>84000.0</td><td>More than 40</td><td>false</td><td>false</td></tr><tr><td>Emily</td><td>65000</td><td>Finance</td><td>68250.0</td><td>21 to 30</td><td>true</td><td>true</td></tr><tr><td>Alice</td><td>60000</td><td>HR</td><td>63000.0</td><td>21 to 30</td><td>true</td><td>true</td></tr><tr><td>John</td><td>70000</td><td>IT</td><td>73500.0</td><td>John</td><td>true</td><td>true</td></tr><tr><td>David</td><td>90000</td><td>HR</td><td>94500.0</td><td>More than 40</td><td>true</td><td>true</td></tr><tr><td>Susan</td><td>75000</td><td>Finance</td><td>78750.0</td><td>Susan</td><td>true</td><td>true</td></tr><tr><td>Mike</td><td>95000</td><td>IT</td><td>99750.0</td><td>More than 40</td><td>true</td><td>true</td></tr><tr><td>Sophie</td><td>62000</td><td>Finance</td><td>65100.0</td><td>Sophie</td><td>true</td><td>true</td></tr><tr><td>Alice</td><td>90000</td><td>Finance</td><td>94500.0</td><td>21 to 30</td><td>true</td><td>true</td></tr><tr><td>Emily</td><td>70000</td><td>Finance</td><td>73500.0</td><td>21 to 30</td><td>true</td><td>true</td></tr><tr><td>James</td><td>87000</td><td>IT</td><td>91350.0</td><td>More than 40</td><td>true</td><td>true</td></tr><tr><td>Lisa</td><td>58000</td><td>HR</td><td>60900.0</td><td>21 to 30</td><td>true</td><td>true</td></tr></tbody></table></div>"
      ]
     },
     "metadata": {
      "application/vnd.databricks.v1+output": {
       "addedWidgets": {},
       "aggData": [],
       "aggError": "",
       "aggOverflow": false,
       "aggSchema": [],
       "aggSeriesLimitReached": false,
       "aggType": "",
       "arguments": {},
       "columnCustomDisplayInfos": {},
       "data": [
        [
         "Bob",
         80000,
         "IT",
         84000.0,
         "More than 40",
         false,
         false
        ],
        [
         "Emily",
         65000,
         "Finance",
         68250.0,
         "21 to 30",
         true,
         true
        ],
        [
         "Alice",
         60000,
         "HR",
         63000.0,
         "21 to 30",
         true,
         true
        ],
        [
         "John",
         70000,
         "IT",
         73500.0,
         "John",
         true,
         true
        ],
        [
         "David",
         90000,
         "HR",
         94500.0,
         "More than 40",
         true,
         true
        ],
        [
         "Susan",
         75000,
         "Finance",
         78750.0,
         "Susan",
         true,
         true
        ],
        [
         "Mike",
         95000,
         "IT",
         99750.0,
         "More than 40",
         true,
         true
        ],
        [
         "Sophie",
         62000,
         "Finance",
         65100.0,
         "Sophie",
         true,
         true
        ],
        [
         "Alice",
         90000,
         "Finance",
         94500.0,
         "21 to 30",
         true,
         true
        ],
        [
         "Emily",
         70000,
         "Finance",
         73500.0,
         "21 to 30",
         true,
         true
        ],
        [
         "James",
         87000,
         "IT",
         91350.0,
         "More than 40",
         true,
         true
        ],
        [
         "Lisa",
         58000,
         "HR",
         60900.0,
         "21 to 30",
         true,
         true
        ]
       ],
       "datasetInfos": [],
       "dbfsResultPath": null,
       "isJsonSchema": true,
       "metadata": {},
       "overflow": false,
       "plotOptions": {
        "customPlotOptions": {},
        "displayType": "table",
        "pivotAggregation": null,
        "pivotColumns": null,
        "xColumns": null,
        "yColumns": null
       },
       "removedWidgets": [],
       "schema": [
        {
         "metadata": "{}",
         "name": "first_name",
         "type": "\"string\""
        },
        {
         "metadata": "{}",
         "name": "salary",
         "type": "\"integer\""
        },
        {
         "metadata": "{}",
         "name": "department",
         "type": "\"string\""
        },
        {
         "metadata": "{}",
         "name": "salary_raise",
         "type": "\"double\""
        },
        {
         "metadata": "{}",
         "name": "age_group",
         "type": "\"string\""
        },
        {
         "metadata": "{}",
         "name": "has_dob_1",
         "type": "\"boolean\""
        },
        {
         "metadata": "{}",
         "name": "has_dob_2",
         "type": "\"boolean\""
        }
       ],
       "type": "table"
      }
     },
     "output_type": "display_data"
    }
   ],
   "source": [
    "%sql\n",
    "select * except(id, dob, age) from default.final;"
   ]
  },
  {
   "cell_type": "code",
   "execution_count": 0,
   "metadata": {
    "application/vnd.databricks.v1+cell": {
     "cellMetadata": {
      "byteLimit": 2048000,
      "rowLimit": 10000
     },
     "inputWidgets": {},
     "nuid": "508a4b34-2878-4799-ae89-21578e2e0426",
     "showTitle": false,
     "title": ""
    }
   },
   "outputs": [
    {
     "output_type": "display_data",
     "data": {
      "text/html": [
       "<style scoped>\n",
       "  .table-result-container {\n",
       "    max-height: 300px;\n",
       "    overflow: auto;\n",
       "  }\n",
       "  table, th, td {\n",
       "    border: 1px solid black;\n",
       "    border-collapse: collapse;\n",
       "  }\n",
       "  th, td {\n",
       "    padding: 5px;\n",
       "  }\n",
       "  th {\n",
       "    text-align: left;\n",
       "  }\n",
       "</style><div class='table-result-container'><table class='table-result'><thead style='background-color: white'><tr><th>id</th><th>first_name</th><th>dob</th><th>age</th><th>salary</th><th>department</th><th>salary_raise</th><th>age_group</th><th>has_dob_1</th><th>has_dob_2</th></tr></thead><tbody><tr><td>3</td><td>Bob</td><td>null</td><td>0</td><td>80000</td><td>IT</td><td>84000.0</td><td>More than 40</td><td>false</td><td>false</td></tr><tr><td>4</td><td>Emily</td><td>1994-11-22</td><td>30</td><td>65000</td><td>Finance</td><td>68250.0</td><td>21 to 30</td><td>true</td><td>true</td></tr><tr><td>2</td><td>Alice</td><td>1997-02-28</td><td>27</td><td>60000</td><td>HR</td><td>63000.0</td><td>21 to 30</td><td>true</td><td>true</td></tr><tr><td>1</td><td>John</td><td>1992-05-12</td><td>32</td><td>70000</td><td>IT</td><td>73500.0</td><td>John</td><td>true</td><td>true</td></tr><tr><td>5</td><td>David</td><td>1981-12-18</td><td>43</td><td>90000</td><td>HR</td><td>94500.0</td><td>More than 40</td><td>true</td><td>true</td></tr><tr><td>6</td><td>Susan</td><td>1989-07-05</td><td>35</td><td>75000</td><td>Finance</td><td>78750.0</td><td>Susan</td><td>true</td><td>true</td></tr><tr><td>7</td><td>Mike</td><td>1976-03-15</td><td>48</td><td>95000</td><td>IT</td><td>99750.0</td><td>More than 40</td><td>true</td><td>true</td></tr><tr><td>10</td><td>Sophie</td><td>1992-06-30</td><td>32</td><td>62000</td><td>Finance</td><td>65100.0</td><td>Sophie</td><td>true</td><td>true</td></tr><tr><td>2</td><td>Alice</td><td>1997-02-28</td><td>27</td><td>90000</td><td>Finance</td><td>94500.0</td><td>21 to 30</td><td>true</td><td>true</td></tr><tr><td>4</td><td>Emily</td><td>1994-11-22</td><td>30</td><td>70000</td><td>Finance</td><td>73500.0</td><td>21 to 30</td><td>true</td><td>true</td></tr><tr><td>9</td><td>James</td><td>1983-10-14</td><td>41</td><td>87000</td><td>IT</td><td>91350.0</td><td>More than 40</td><td>true</td><td>true</td></tr><tr><td>8</td><td>Lisa</td><td>1995-08-20</td><td>29</td><td>58000</td><td>HR</td><td>60900.0</td><td>21 to 30</td><td>true</td><td>true</td></tr></tbody></table></div>"
      ]
     },
     "metadata": {
      "application/vnd.databricks.v1+output": {
       "addedWidgets": {},
       "aggData": [],
       "aggError": "",
       "aggOverflow": false,
       "aggSchema": [],
       "aggSeriesLimitReached": false,
       "aggType": "",
       "arguments": {},
       "columnCustomDisplayInfos": {},
       "data": [
        [
         3,
         "Bob",
         null,
         0,
         80000,
         "IT",
         84000.0,
         "More than 40",
         false,
         false
        ],
        [
         4,
         "Emily",
         "1994-11-22",
         30,
         65000,
         "Finance",
         68250.0,
         "21 to 30",
         true,
         true
        ],
        [
         2,
         "Alice",
         "1997-02-28",
         27,
         60000,
         "HR",
         63000.0,
         "21 to 30",
         true,
         true
        ],
        [
         1,
         "John",
         "1992-05-12",
         32,
         70000,
         "IT",
         73500.0,
         "John",
         true,
         true
        ],
        [
         5,
         "David",
         "1981-12-18",
         43,
         90000,
         "HR",
         94500.0,
         "More than 40",
         true,
         true
        ],
        [
         6,
         "Susan",
         "1989-07-05",
         35,
         75000,
         "Finance",
         78750.0,
         "Susan",
         true,
         true
        ],
        [
         7,
         "Mike",
         "1976-03-15",
         48,
         95000,
         "IT",
         99750.0,
         "More than 40",
         true,
         true
        ],
        [
         10,
         "Sophie",
         "1992-06-30",
         32,
         62000,
         "Finance",
         65100.0,
         "Sophie",
         true,
         true
        ],
        [
         2,
         "Alice",
         "1997-02-28",
         27,
         90000,
         "Finance",
         94500.0,
         "21 to 30",
         true,
         true
        ],
        [
         4,
         "Emily",
         "1994-11-22",
         30,
         70000,
         "Finance",
         73500.0,
         "21 to 30",
         true,
         true
        ],
        [
         9,
         "James",
         "1983-10-14",
         41,
         87000,
         "IT",
         91350.0,
         "More than 40",
         true,
         true
        ],
        [
         8,
         "Lisa",
         "1995-08-20",
         29,
         58000,
         "HR",
         60900.0,
         "21 to 30",
         true,
         true
        ]
       ],
       "datasetInfos": [],
       "dbfsResultPath": null,
       "isJsonSchema": true,
       "metadata": {},
       "overflow": false,
       "plotOptions": {
        "customPlotOptions": {},
        "displayType": "table",
        "pivotAggregation": null,
        "pivotColumns": null,
        "xColumns": null,
        "yColumns": null
       },
       "removedWidgets": [],
       "schema": [
        {
         "metadata": "{}",
         "name": "id",
         "type": "\"integer\""
        },
        {
         "metadata": "{}",
         "name": "first_name",
         "type": "\"string\""
        },
        {
         "metadata": "{}",
         "name": "dob",
         "type": "\"date\""
        },
        {
         "metadata": "{}",
         "name": "age",
         "type": "\"integer\""
        },
        {
         "metadata": "{}",
         "name": "salary",
         "type": "\"integer\""
        },
        {
         "metadata": "{}",
         "name": "department",
         "type": "\"string\""
        },
        {
         "metadata": "{}",
         "name": "salary_raise",
         "type": "\"double\""
        },
        {
         "metadata": "{}",
         "name": "age_group",
         "type": "\"string\""
        },
        {
         "metadata": "{}",
         "name": "has_dob_1",
         "type": "\"boolean\""
        },
        {
         "metadata": "{}",
         "name": "has_dob_2",
         "type": "\"boolean\""
        }
       ],
       "type": "table"
      }
     },
     "output_type": "display_data"
    }
   ],
   "source": [
    "table_df = spark.table(\"final\")\n",
    "\n",
    "display(table_df)"
   ]
  }
 ],
 "metadata": {
  "application/vnd.databricks.v1+notebook": {
   "dashboards": [],
   "language": "python",
   "notebookMetadata": {
    "mostRecentlyExecutedCommandWithImplicitDF": {
     "commandId": 1471142375515662,
     "dataframes": [
      "_sqldf"
     ]
    },
    "pythonIndentUnit": 4
   },
   "notebookName": "pyspark_session",
   "widgets": {}
  }
 },
 "nbformat": 4,
 "nbformat_minor": 0
}
