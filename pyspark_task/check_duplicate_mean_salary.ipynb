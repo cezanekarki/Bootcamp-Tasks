{
 "cells": [
  {
   "cell_type": "markdown",
   "metadata": {
    "application/vnd.databricks.v1+cell": {
     "cellMetadata": {},
     "inputWidgets": {},
     "nuid": "260366b0-4c04-49d7-ae4a-68f63e0d5b5a",
     "showTitle": false,
     "title": ""
    }
   },
   "source": [
    "Create a new notebook\n",
    "Load both csv and json file. Union them properly.\n",
    "Instead of dropping the duplicates, create a boolean column is_duplicate and set False to only one row and set False to only one row and True to the rest of them"
   ]
  },
  {
   "cell_type": "code",
   "execution_count": 0,
   "metadata": {
    "application/vnd.databricks.v1+cell": {
     "cellMetadata": {
      "byteLimit": 2048000,
      "rowLimit": 10000
     },
     "inputWidgets": {},
     "nuid": "17bcc9c4-443c-40e2-9552-5e9b896d8a97",
     "showTitle": false,
     "title": ""
    }
   },
   "outputs": [],
   "source": [
    "from pyspark.sql.types import StructType, StructField, IntegerType, StringType, DateType"
   ]
  },
  {
   "cell_type": "code",
   "execution_count": 0,
   "metadata": {
    "application/vnd.databricks.v1+cell": {
     "cellMetadata": {
      "byteLimit": 2048000,
      "rowLimit": 10000
     },
     "inputWidgets": {},
     "nuid": "a686160d-e456-4a0b-b4dc-250e4522c090",
     "showTitle": false,
     "title": ""
    }
   },
   "outputs": [],
   "source": [
    "schema = StructType(\n",
    "    [\n",
    "        StructField(\"id\", IntegerType()),\n",
    "        StructField(\"name\", StringType()),\n",
    "        StructField(\"dob\", DateType()),\n",
    "        StructField(\"age\", IntegerType()),\n",
    "        StructField(\"salary\", IntegerType()),\n",
    "        StructField(\"department\", StringType()),\n",
    "    ]\n",
    ")"
   ]
  },
  {
   "cell_type": "code",
   "execution_count": 0,
   "metadata": {
    "application/vnd.databricks.v1+cell": {
     "cellMetadata": {
      "byteLimit": 2048000,
      "rowLimit": 10000
     },
     "inputWidgets": {},
     "nuid": "08c38d1a-b990-4d1f-9c82-702cb051961d",
     "showTitle": false,
     "title": ""
    }
   },
   "outputs": [],
   "source": [
    "df_csv = spark.read.format(\"csv\").schema(schema).option(\"header\", True).option(\"inferSchema\", True).load(\"dbfs:///FileStore/tables/csv/batch.csv\")"
   ]
  },
  {
   "cell_type": "code",
   "execution_count": 0,
   "metadata": {
    "application/vnd.databricks.v1+cell": {
     "cellMetadata": {
      "byteLimit": 2048000,
      "rowLimit": 10000
     },
     "inputWidgets": {},
     "nuid": "c00e506c-3eba-4779-8531-512c6c9c4b88",
     "showTitle": false,
     "title": ""
    }
   },
   "outputs": [
    {
     "output_type": "stream",
     "name": "stdout",
     "output_type": "stream",
     "text": [
      "root\n |-- id: integer (nullable = true)\n |-- name: string (nullable = true)\n |-- dob: date (nullable = true)\n |-- age: integer (nullable = true)\n |-- salary: integer (nullable = true)\n |-- department: string (nullable = true)\n\n"
     ]
    }
   ],
   "source": [
    "df_csv.printSchema()"
   ]
  },
  {
   "cell_type": "code",
   "execution_count": 0,
   "metadata": {
    "application/vnd.databricks.v1+cell": {
     "cellMetadata": {
      "byteLimit": 2048000,
      "rowLimit": 10000
     },
     "inputWidgets": {},
     "nuid": "ee61f697-1ff7-466a-8393-8abe95580fee",
     "showTitle": false,
     "title": ""
    }
   },
   "outputs": [],
   "source": [
    "df_json = spark.read.format(\"json\").schema(schema).load(\"dbfs:///FileStore/tables/json\").orderBy(\"id\") #sets header auto no order of data, \n"
   ]
  },
  {
   "cell_type": "code",
   "execution_count": 0,
   "metadata": {
    "application/vnd.databricks.v1+cell": {
     "cellMetadata": {
      "byteLimit": 2048000,
      "rowLimit": 10000
     },
     "inputWidgets": {},
     "nuid": "78e19ba7-f332-400c-96b1-36e2ce190fbe",
     "showTitle": false,
     "title": ""
    }
   },
   "outputs": [
    {
     "output_type": "stream",
     "name": "stdout",
     "output_type": "stream",
     "text": [
      "root\n |-- id: integer (nullable = true)\n |-- name: string (nullable = true)\n |-- dob: date (nullable = true)\n |-- age: integer (nullable = true)\n |-- salary: integer (nullable = true)\n |-- department: string (nullable = true)\n\n"
     ]
    }
   ],
   "source": [
    "df_json.printSchema()"
   ]
  },
  {
   "cell_type": "code",
   "execution_count": 0,
   "metadata": {
    "application/vnd.databricks.v1+cell": {
     "cellMetadata": {
      "byteLimit": 2048000,
      "rowLimit": 10000
     },
     "inputWidgets": {},
     "nuid": "52e11030-3cec-4e53-b8d5-5225290ad205",
     "showTitle": false,
     "title": ""
    }
   },
   "outputs": [],
   "source": [
    "from pyspark.sql import functions as F\n",
    "from pyspark.sql import Window"
   ]
  },
  {
   "cell_type": "code",
   "execution_count": 0,
   "metadata": {
    "application/vnd.databricks.v1+cell": {
     "cellMetadata": {
      "byteLimit": 2048000,
      "rowLimit": 10000
     },
     "inputWidgets": {},
     "nuid": "e999bc6f-f877-47b2-8299-aa7b8d9a3e65",
     "showTitle": false,
     "title": ""
    }
   },
   "outputs": [
    {
     "output_type": "stream",
     "name": "stdout",
     "output_type": "stream",
     "text": [
      "+---+------+----------+----+------+----------+\n| id|  name|       dob| age|salary|department|\n+---+------+----------+----+------+----------+\n|  1|  John|1992-05-12|  30| 70000|        IT|\n|  2| Alice|1997-02-28|  25| 60000|        HR|\n|  3|   Bob|      null|null| 80000|        IT|\n|  4| Emily|1994-11-22|  28| 65000|   Finance|\n|  1|  John|1992-05-12|  30| 70000|        IT|\n|  1|  John|1992-05-12|  30| 70000|        IT|\n|  2| Alice|1997-02-28|  25| 60000|        HR|\n|  2| Alice|1997-02-28|  25| 90000|   Finance|\n|  3|   Bob|      null|null| 80000|        IT|\n|  4| Emily|1994-11-22|  28| 65000|   Finance|\n|  4| Emily|1994-11-22|  28| 70000|   Finance|\n|  5| David|1981-12-18|  41| 90000|        HR|\n|  6| Susan|1989-07-05|  33| 75000|   Finance|\n|  7|  Mike|1976-03-15|  46| 95000|        IT|\n|  8|  Lisa|1995-08-20|  27| 58000|        HR|\n|  9| James|1983-10-14|  39| 87000|        IT|\n| 10|Sophie|1992-06-30|  30| 62000|   Finance|\n+---+------+----------+----+------+----------+\n\n"
     ]
    }
   ],
   "source": [
    "df = df_csv.union(df_json)\n",
    "df.show()"
   ]
  },
  {
   "cell_type": "code",
   "execution_count": 0,
   "metadata": {
    "application/vnd.databricks.v1+cell": {
     "cellMetadata": {
      "byteLimit": 2048000,
      "rowLimit": 10000
     },
     "inputWidgets": {},
     "nuid": "b304ac6f-fadb-49db-a4be-42c09dbd53d1",
     "showTitle": false,
     "title": ""
    }
   },
   "outputs": [],
   "source": [
    "from pyspark.sql.functions import row_number"
   ]
  },
  {
   "cell_type": "code",
   "execution_count": 0,
   "metadata": {
    "application/vnd.databricks.v1+cell": {
     "cellMetadata": {
      "byteLimit": 2048000,
      "rowLimit": 10000
     },
     "inputWidgets": {},
     "nuid": "fa1100fd-675c-43f0-abe3-c640dcd976d5",
     "showTitle": false,
     "title": ""
    }
   },
   "outputs": [
    {
     "output_type": "stream",
     "name": "stdout",
     "output_type": "stream",
     "text": [
      "+---+------+----------+----+------+----------+------------+\n| id|  name|       dob| age|salary|department|is_duplicate|\n+---+------+----------+----+------+----------+------------+\n|  1|  John|1992-05-12|  30| 70000|        IT|       false|\n|  1|  John|1992-05-12|  30| 70000|        IT|        true|\n|  1|  John|1992-05-12|  30| 70000|        IT|        true|\n|  2| Alice|1997-02-28|  25| 60000|        HR|       false|\n|  2| Alice|1997-02-28|  25| 60000|        HR|        true|\n|  2| Alice|1997-02-28|  25| 90000|   Finance|       false|\n|  3|   Bob|      null|null| 80000|        IT|       false|\n|  3|   Bob|      null|null| 80000|        IT|        true|\n|  4| Emily|1994-11-22|  28| 65000|   Finance|       false|\n|  4| Emily|1994-11-22|  28| 65000|   Finance|        true|\n|  4| Emily|1994-11-22|  28| 70000|   Finance|       false|\n|  5| David|1981-12-18|  41| 90000|        HR|       false|\n|  6| Susan|1989-07-05|  33| 75000|   Finance|       false|\n|  7|  Mike|1976-03-15|  46| 95000|        IT|       false|\n|  8|  Lisa|1995-08-20|  27| 58000|        HR|       false|\n|  9| James|1983-10-14|  39| 87000|        IT|       false|\n| 10|Sophie|1992-06-30|  30| 62000|   Finance|       false|\n+---+------+----------+----+------+----------+------------+\n\n"
     ]
    }
   ],
   "source": [
    "window =Window.partitionBy(*df.columns).orderBy(\"id\")\n",
    "# next approach\n",
    "# df.withColumn(\"is_duplicate\", \n",
    "#     F.when(\n",
    "#         row_number().over(window) == 1,\n",
    "#         False\n",
    "#     ).otherwise(\n",
    "#         True\n",
    "#     )\n",
    "# ).show()\n",
    "\n",
    "df.withColumn(\"is_duplicate\", \n",
    "    F.row_number().over(window) != 1,      \n",
    ").show()\n"
   ]
  },
  {
   "cell_type": "markdown",
   "metadata": {
    "application/vnd.databricks.v1+cell": {
     "cellMetadata": {
      "byteLimit": 2048000,
      "rowLimit": 10000
     },
     "inputWidgets": {},
     "nuid": "5902449e-ef4d-4306-a595-e2e1a886d657",
     "showTitle": false,
     "title": ""
    }
   },
   "source": [
    "Calculate mean salary and check if it is greater or equal to the salary of employees in each department.\n",
    " \n",
    "Calculate mean salary and check if it is greater or equal to the salary of all employees."
   ]
  },
  {
   "cell_type": "code",
   "execution_count": 0,
   "metadata": {
    "application/vnd.databricks.v1+cell": {
     "cellMetadata": {
      "byteLimit": 2048000,
      "rowLimit": 10000
     },
     "inputWidgets": {},
     "nuid": "58ec5e09-373a-4c05-9246-1295f60ace76",
     "showTitle": false,
     "title": ""
    }
   },
   "outputs": [],
   "source": [
    "# department_window =Window.partitionBy(\"department\")\n",
    "# df = df.dropDuplicates()\n",
    "# df=df.withColumn(\n",
    "#     \"mean_salary\",\n",
    "#     F.mean(\"salary\").over(department_window)\n",
    "# )"
   ]
  },
  {
   "cell_type": "code",
   "execution_count": 0,
   "metadata": {
    "application/vnd.databricks.v1+cell": {
     "cellMetadata": {
      "byteLimit": 2048000,
      "rowLimit": 10000
     },
     "inputWidgets": {},
     "nuid": "684b5e18-26e2-4890-a1ba-83b87ec52f9e",
     "showTitle": false,
     "title": ""
    }
   },
   "outputs": [
    {
     "output_type": "stream",
     "name": "stdout",
     "output_type": "stream",
     "text": [
      "+---+------+----------+----+------+----------+\n| id|  name|       dob| age|salary|department|\n+---+------+----------+----+------+----------+\n|  1|  John|1992-05-12|  30| 70000|        IT|\n|  2| Alice|1997-02-28|  25| 60000|        HR|\n|  3|   Bob|      null|null| 80000|        IT|\n|  4| Emily|1994-11-22|  28| 65000|   Finance|\n|  1|  John|1992-05-12|  30| 70000|        IT|\n|  1|  John|1992-05-12|  30| 70000|        IT|\n|  2| Alice|1997-02-28|  25| 60000|        HR|\n|  2| Alice|1997-02-28|  25| 90000|   Finance|\n|  3|   Bob|      null|null| 80000|        IT|\n|  4| Emily|1994-11-22|  28| 65000|   Finance|\n|  4| Emily|1994-11-22|  28| 70000|   Finance|\n|  5| David|1981-12-18|  41| 90000|        HR|\n|  6| Susan|1989-07-05|  33| 75000|   Finance|\n|  7|  Mike|1976-03-15|  46| 95000|        IT|\n|  8|  Lisa|1995-08-20|  27| 58000|        HR|\n|  9| James|1983-10-14|  39| 87000|        IT|\n| 10|Sophie|1992-06-30|  30| 62000|   Finance|\n+---+------+----------+----+------+----------+\n\n"
     ]
    }
   ],
   "source": [
    "df.show()"
   ]
  },
  {
   "cell_type": "code",
   "execution_count": 0,
   "metadata": {
    "application/vnd.databricks.v1+cell": {
     "cellMetadata": {
      "byteLimit": 2048000,
      "rowLimit": 10000
     },
     "inputWidgets": {},
     "nuid": "4c1922c1-ec91-4755-a2e5-1be07ca535a9",
     "showTitle": false,
     "title": ""
    }
   },
   "outputs": [],
   "source": [
    "department_window =Window.partitionBy(\"department\")\n"
   ]
  },
  {
   "cell_type": "code",
   "execution_count": 0,
   "metadata": {
    "application/vnd.databricks.v1+cell": {
     "cellMetadata": {
      "byteLimit": 2048000,
      "rowLimit": 10000
     },
     "inputWidgets": {},
     "nuid": "8d3f1b6d-bfb8-4b82-ae23-98cb366d596d",
     "showTitle": false,
     "title": ""
    }
   },
   "outputs": [
    {
     "output_type": "stream",
     "name": "stdout",
     "output_type": "stream",
     "text": [
      "+---+------+----------+----+------+----------+-----------------+---------------------------------+\n| id|  name|       dob| age|salary|department|      mean_salary|is_salary_greater_department_mean|\n+---+------+----------+----+------+----------+-----------------+---------------------------------+\n|  4| Emily|1994-11-22|  28| 65000|   Finance|71166.66666666667|                            false|\n|  2| Alice|1997-02-28|  25| 90000|   Finance|71166.66666666667|                             true|\n|  4| Emily|1994-11-22|  28| 65000|   Finance|71166.66666666667|                            false|\n|  4| Emily|1994-11-22|  28| 70000|   Finance|71166.66666666667|                            false|\n|  6| Susan|1989-07-05|  33| 75000|   Finance|71166.66666666667|                             true|\n| 10|Sophie|1992-06-30|  30| 62000|   Finance|71166.66666666667|                            false|\n|  2| Alice|1997-02-28|  25| 60000|        HR|          67000.0|                            false|\n|  2| Alice|1997-02-28|  25| 60000|        HR|          67000.0|                            false|\n|  5| David|1981-12-18|  41| 90000|        HR|          67000.0|                             true|\n|  8|  Lisa|1995-08-20|  27| 58000|        HR|          67000.0|                            false|\n|  1|  John|1992-05-12|  30| 70000|        IT|78857.14285714286|                            false|\n|  3|   Bob|      null|null| 80000|        IT|78857.14285714286|                             true|\n|  1|  John|1992-05-12|  30| 70000|        IT|78857.14285714286|                            false|\n|  1|  John|1992-05-12|  30| 70000|        IT|78857.14285714286|                            false|\n|  3|   Bob|      null|null| 80000|        IT|78857.14285714286|                             true|\n|  7|  Mike|1976-03-15|  46| 95000|        IT|78857.14285714286|                             true|\n|  9| James|1983-10-14|  39| 87000|        IT|78857.14285714286|                             true|\n+---+------+----------+----+------+----------+-----------------+---------------------------------+\n\n"
     ]
    }
   ],
   "source": [
    "\n",
    "df.withColumns(\n",
    "    {\n",
    "        \"mean_salary\":F.mean(\"salary\").over(department_window),\n",
    "        \"is_salary_greater_department_mean\":F.col(\"salary\") >= F.col(\"mean_salary\"),\n",
    "    }\n",
    ").show()"
   ]
  },
  {
   "cell_type": "code",
   "execution_count": 0,
   "metadata": {
    "application/vnd.databricks.v1+cell": {
     "cellMetadata": {
      "byteLimit": 2048000,
      "rowLimit": 10000
     },
     "inputWidgets": {},
     "nuid": "eb03cf1c-644e-4554-abd5-bcb1f311a75f",
     "showTitle": false,
     "title": ""
    }
   },
   "outputs": [
    {
     "output_type": "stream",
     "name": "stdout",
     "output_type": "stream",
     "text": [
      "+---+------+----------+----+------+----------+-----------------+--------------------+\n| id|  name|       dob| age|salary|department|             mean|is_salary_above_mean|\n+---+------+----------+----+------+----------+-----------------+--------------------+\n|  1|  John|1992-05-12|  30| 70000|        IT|73352.94117647059|               false|\n|  2| Alice|1997-02-28|  25| 60000|        HR|73352.94117647059|               false|\n|  3|   Bob|      null|null| 80000|        IT|73352.94117647059|                true|\n|  4| Emily|1994-11-22|  28| 65000|   Finance|73352.94117647059|               false|\n|  1|  John|1992-05-12|  30| 70000|        IT|73352.94117647059|               false|\n|  1|  John|1992-05-12|  30| 70000|        IT|73352.94117647059|               false|\n|  2| Alice|1997-02-28|  25| 60000|        HR|73352.94117647059|               false|\n|  2| Alice|1997-02-28|  25| 90000|   Finance|73352.94117647059|                true|\n|  3|   Bob|      null|null| 80000|        IT|73352.94117647059|                true|\n|  4| Emily|1994-11-22|  28| 65000|   Finance|73352.94117647059|               false|\n|  4| Emily|1994-11-22|  28| 70000|   Finance|73352.94117647059|               false|\n|  5| David|1981-12-18|  41| 90000|        HR|73352.94117647059|                true|\n|  6| Susan|1989-07-05|  33| 75000|   Finance|73352.94117647059|                true|\n|  7|  Mike|1976-03-15|  46| 95000|        IT|73352.94117647059|                true|\n|  8|  Lisa|1995-08-20|  27| 58000|        HR|73352.94117647059|               false|\n|  9| James|1983-10-14|  39| 87000|        IT|73352.94117647059|                true|\n| 10|Sophie|1992-06-30|  30| 62000|   Finance|73352.94117647059|               false|\n+---+------+----------+----+------+----------+-----------------+--------------------+\n\n"
     ]
    }
   ],
   "source": [
    "window_spec =Window.partitionBy()\n",
    "\n",
    "df.withColumns(\n",
    "    {\n",
    "        \"mean\": F.mean(\"salary\").over(window_spec),\n",
    "        \"is_salary_above_mean\":\n",
    "        F.col(\"salary\")>=F.mean(\"salary\").over(window_spec)\n",
    "    }\n",
    ").show()\n"
   ]
  }
 ],
 "metadata": {
  "application/vnd.databricks.v1+notebook": {
   "dashboards": [],
   "language": "python",
   "notebookMetadata": {
    "pythonIndentUnit": 4
   },
   "notebookName": "check_duplicate_mean_salary",
   "widgets": {}
  }
 },
 "nbformat": 4,
 "nbformat_minor": 0
}
