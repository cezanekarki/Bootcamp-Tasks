{
 "cells": [
  {
   "cell_type": "code",
   "execution_count": 0,
   "metadata": {
    "application/vnd.databricks.v1+cell": {
     "cellMetadata": {
      "byteLimit": 2048000,
      "rowLimit": 10000
     },
     "inputWidgets": {},
     "nuid": "6ae0bc79-acec-4edb-af01-dd400cbe219a",
     "showTitle": false,
     "title": ""
    }
   },
   "outputs": [
    {
     "output_type": "stream",
     "name": "stdout",
     "output_type": "stream",
     "text": [
      "Table 1: Group Stage\n+------------+-----+\n|    teamname|group|\n+------------+-----+\n|       Czech|    A|\n|     Croatia|    A|\n|     Hungary|    A|\n|      Serbia|    A|\n|     England|    B|\n|    Scotland|    B|\n|       Italy|    B|\n|      Greece|    B|\n|    Slovenia|    C|\n|     Denmark|    C|\n| Switzerland|    C|\n|       Spain|    C|\n|     Finland|    D|\n|Nether lands|    D|\n|     Austria|    D|\n|      France|    D|\n|     Belgium|    E|\n|    Slovakia|    E|\n|     Romania|    E|\n|     Iceland|    E|\n+------------+-----+\nonly showing top 20 rows\n\n"
     ]
    }
   ],
   "source": [
    "from pyspark.sql import SparkSession\n",
    "from pyspark.sql.functions import col, rand, row_number\n",
    "from pyspark.sql import functions as F \n",
    "from pyspark.sql.window import Window\n",
    "import random\n",
    "\n",
    "\n",
    "spark = SparkSession.builder \\\n",
    "    .appName(\"EuroCup2024\") \\\n",
    "    .getOrCreate()\n",
    "\n",
    "# Team names\n",
    "european_teams = [\n",
    "    (\"Czech\", \"A\"), (\"Croatia\", \"A\"), (\"Hungary\", \"A\"), (\"Serbia\", \"A\"),\n",
    "    (\"England\", \"B\"), (\"Scotland\", \"B\"), (\"Italy\", \"B\"), (\"Greece\", \"B\"),\n",
    "    (\"Slovenia\", \"C\"), (\"Denmark\", \"C\"), (\"Switzerland\", \"C\"), (\"Spain\", \"C\"), \n",
    "    (\"Finland\", \"D\"), (\"Nether lands\", \"D\"), (\"Austria\", \"D\"),(\"France\", \"D\"),\n",
    "    (\"Belgium\", \"E\"),(\"Slovakia\", \"E\"), (\"Romania\", \"E\"),(\"Iceland\", \"E\"),\n",
    "    (\"Türkiye\", \"F\"), (\"Albania\", \"F\"), (\"Portugal\", \"F\"), (\"Germany\", \"F\")\n",
    "]\n",
    "\n",
    "group_stage_df = spark.createDataFrame(european_teams, [\"teamname\", \"group\"])\n",
    "\n",
    "\n",
    "print(\"Table 1: Grouping\")\n",
    "group_stage_df.show()\n"
   ]
  },
  {
   "cell_type": "code",
   "execution_count": 0,
   "metadata": {
    "application/vnd.databricks.v1+cell": {
     "cellMetadata": {
      "byteLimit": 2048000,
      "rowLimit": 10000
     },
     "inputWidgets": {},
     "nuid": "00584f40-7b6c-4408-9ea4-d7c3401a1b85",
     "showTitle": false,
     "title": ""
    }
   },
   "outputs": [
    {
     "output_type": "stream",
     "name": "stdout",
     "output_type": "stream",
     "text": [
      "+----------------------------+---+---+---+---+\n|Third_placed_qualified_teams|  B|  C|  E|  F|\n+----------------------------+---+---+---+---+\n|                        ABCD|  A|  D|  B|  C|\n|                        ABCE|  A|  E|  B|  C|\n|                        ABCF|  A|  F|  B|  C|\n|                        ABDE|  D|  E|  A|  B|\n|                        ABDF|  D|  F|  A|  B|\n|                        ABEF|  E|  F|  B|  A|\n|                        ACDE|  E|  D|  C|  A|\n|                        ACDF|  F|  D|  C|  A|\n|                        ACEF|  E|  F|  C|  A|\n|                        ADEF|  E|  F|  D|  A|\n|                        BCDE|  E|  D|  B|  C|\n|                        BCDF|  F|  D|  C|  B|\n|                        BCEF|  F|  E|  C|  B|\n|                        BDEF|  F|  E|  D|  B|\n|                        CDEF|  F|  E|  D|  C|\n+----------------------------+---+---+---+---+\n\n"
     ]
    }
   ],
   "source": [
    "#Knock out Phase according to rules\n",
    "values = [\n",
    "    ('ABCD', 'A', 'D', 'B', 'C'),\n",
    "    ( 'ABCE', 'A', 'E', 'B', 'C'),\n",
    "    ( 'ABCF', 'A', 'F', 'B', 'C'),\n",
    "    ( 'ABDE', 'D', 'E', 'A', 'B'),\n",
    "    ( 'ABDF', 'D', 'F', 'A', 'B'),\n",
    "    ( 'ABEF', 'E', 'F', 'B', 'A'),\n",
    "    ( 'ACDE', 'E', 'D', 'C', 'A'),\n",
    "    ( 'ACDF', 'F', 'D', 'C', 'A'),\n",
    "    ( 'ACEF', 'E', 'F', 'C', 'A'),\n",
    "    ( 'ADEF', 'E', 'F', 'D', 'A'),\n",
    "    ( 'BCDE', 'E', 'D', 'B', 'C'),\n",
    "    ( 'BCDF', 'F', 'D', 'C', 'B'),\n",
    "    ( 'BCEF', 'F', 'E', 'C', 'B'),\n",
    "    ( 'BDEF', 'F', 'E', 'D', 'B'),\n",
    "    ( 'CDEF', 'F', 'E', 'D', 'C')\n",
    "]\n",
    "\n",
    "df_knockout_phase = spark.createDataFrame(values, [\"Third_placed_qualified_teams\", \"B\", \"C\", \"E\", \"F\"])\n",
    "df_knockout_phase.show()\n",
    "\n"
   ]
  },
  {
   "cell_type": "code",
   "execution_count": 0,
   "metadata": {
    "application/vnd.databricks.v1+cell": {
     "cellMetadata": {
      "byteLimit": 2048000,
      "rowLimit": 10000
     },
     "inputWidgets": {},
     "nuid": "e3dcce55-f23d-4f41-a66f-fd83c5f64b33",
     "showTitle": false,
     "title": ""
    }
   },
   "outputs": [
    {
     "output_type": "display_data",
     "data": {
      "text/html": [
       "<style scoped>\n",
       "  .table-result-container {\n",
       "    max-height: 300px;\n",
       "    overflow: auto;\n",
       "  }\n",
       "  table, th, td {\n",
       "    border: 1px solid black;\n",
       "    border-collapse: collapse;\n",
       "  }\n",
       "  th, td {\n",
       "    padding: 5px;\n",
       "  }\n",
       "  th {\n",
       "    text-align: left;\n",
       "  }\n",
       "</style><div class='table-result-container'><table class='table-result'><thead style='background-color: white'><tr><th>Team</th><th>Groups</th><th>Wins</th><th>Draws</th><th>Losses</th><th>MatchesPlayed</th><th>GoalsFor</th><th>GoalsAgainst</th><th>GoalDifference</th><th>Points</th><th>rank</th></tr></thead><tbody><tr><td>Scotland</td><td>B</td><td>3</td><td>0</td><td>0</td><td>3</td><td>9</td><td>1</td><td>8</td><td>9</td><td>1</td></tr><tr><td>Romania</td><td>E</td><td>3</td><td>0</td><td>0</td><td>3</td><td>9</td><td>3</td><td>6</td><td>9</td><td>1</td></tr><tr><td>France</td><td>D</td><td>2</td><td>1</td><td>0</td><td>3</td><td>8</td><td>6</td><td>2</td><td>7</td><td>1</td></tr><tr><td>Hungary</td><td>A</td><td>2</td><td>0</td><td>1</td><td>3</td><td>8</td><td>4</td><td>4</td><td>6</td><td>1</td></tr><tr><td>Germany</td><td>F</td><td>2</td><td>0</td><td>1</td><td>3</td><td>7</td><td>4</td><td>3</td><td>6</td><td>1</td></tr><tr><td>Spain</td><td>C</td><td>1</td><td>2</td><td>0</td><td>3</td><td>7</td><td>3</td><td>4</td><td>5</td><td>1</td></tr><tr><td>Serbia</td><td>A</td><td>2</td><td>0</td><td>1</td><td>3</td><td>8</td><td>5</td><td>3</td><td>6</td><td>2</td></tr><tr><td>Finland</td><td>D</td><td>2</td><td>0</td><td>1</td><td>3</td><td>8</td><td>5</td><td>3</td><td>6</td><td>2</td></tr><tr><td>Portugal</td><td>F</td><td>2</td><td>0</td><td>1</td><td>3</td><td>6</td><td>4</td><td>2</td><td>6</td><td>2</td></tr><tr><td>England</td><td>B</td><td>2</td><td>0</td><td>1</td><td>3</td><td>4</td><td>3</td><td>1</td><td>6</td><td>2</td></tr><tr><td>Switzerland</td><td>C</td><td>1</td><td>1</td><td>1</td><td>3</td><td>4</td><td>5</td><td>-1</td><td>4</td><td>2</td></tr><tr><td>Slovakia</td><td>E</td><td>1</td><td>1</td><td>1</td><td>3</td><td>4</td><td>5</td><td>-1</td><td>4</td><td>2</td></tr><tr><td>Türkiye</td><td>F</td><td>2</td><td>0</td><td>1</td><td>3</td><td>7</td><td>7</td><td>0</td><td>6</td><td>3</td></tr><tr><td>Denmark</td><td>C</td><td>1</td><td>1</td><td>1</td><td>3</td><td>4</td><td>6</td><td>-2</td><td>4</td><td>3</td></tr><tr><td>Czech</td><td>A</td><td>1</td><td>1</td><td>1</td><td>3</td><td>6</td><td>9</td><td>-3</td><td>4</td><td>3</td></tr><tr><td>Greece</td><td>B</td><td>1</td><td>0</td><td>2</td><td>3</td><td>6</td><td>8</td><td>-2</td><td>3</td><td>3</td></tr></tbody></table></div>"
      ]
     },
     "metadata": {
      "application/vnd.databricks.v1+output": {
       "addedWidgets": {},
       "aggData": [],
       "aggError": "",
       "aggOverflow": false,
       "aggSchema": [],
       "aggSeriesLimitReached": false,
       "aggType": "",
       "arguments": {},
       "columnCustomDisplayInfos": {},
       "data": [
        [
         "Scotland",
         "B",
         3,
         0,
         0,
         3,
         9,
         1,
         8,
         9,
         1
        ],
        [
         "Romania",
         "E",
         3,
         0,
         0,
         3,
         9,
         3,
         6,
         9,
         1
        ],
        [
         "France",
         "D",
         2,
         1,
         0,
         3,
         8,
         6,
         2,
         7,
         1
        ],
        [
         "Hungary",
         "A",
         2,
         0,
         1,
         3,
         8,
         4,
         4,
         6,
         1
        ],
        [
         "Germany",
         "F",
         2,
         0,
         1,
         3,
         7,
         4,
         3,
         6,
         1
        ],
        [
         "Spain",
         "C",
         1,
         2,
         0,
         3,
         7,
         3,
         4,
         5,
         1
        ],
        [
         "Serbia",
         "A",
         2,
         0,
         1,
         3,
         8,
         5,
         3,
         6,
         2
        ],
        [
         "Finland",
         "D",
         2,
         0,
         1,
         3,
         8,
         5,
         3,
         6,
         2
        ],
        [
         "Portugal",
         "F",
         2,
         0,
         1,
         3,
         6,
         4,
         2,
         6,
         2
        ],
        [
         "England",
         "B",
         2,
         0,
         1,
         3,
         4,
         3,
         1,
         6,
         2
        ],
        [
         "Switzerland",
         "C",
         1,
         1,
         1,
         3,
         4,
         5,
         -1,
         4,
         2
        ],
        [
         "Slovakia",
         "E",
         1,
         1,
         1,
         3,
         4,
         5,
         -1,
         4,
         2
        ],
        [
         "Türkiye",
         "F",
         2,
         0,
         1,
         3,
         7,
         7,
         0,
         6,
         3
        ],
        [
         "Denmark",
         "C",
         1,
         1,
         1,
         3,
         4,
         6,
         -2,
         4,
         3
        ],
        [
         "Czech",
         "A",
         1,
         1,
         1,
         3,
         6,
         9,
         -3,
         4,
         3
        ],
        [
         "Greece",
         "B",
         1,
         0,
         2,
         3,
         6,
         8,
         -2,
         3,
         3
        ]
       ],
       "datasetInfos": [],
       "dbfsResultPath": null,
       "isJsonSchema": true,
       "metadata": {},
       "overflow": false,
       "plotOptions": {
        "customPlotOptions": {},
        "displayType": "table",
        "pivotAggregation": null,
        "pivotColumns": null,
        "xColumns": null,
        "yColumns": null
       },
       "removedWidgets": [],
       "schema": [
        {
         "metadata": "{}",
         "name": "Team",
         "type": "\"string\""
        },
        {
         "metadata": "{}",
         "name": "Groups",
         "type": "\"string\""
        },
        {
         "metadata": "{}",
         "name": "Wins",
         "type": "\"long\""
        },
        {
         "metadata": "{}",
         "name": "Draws",
         "type": "\"long\""
        },
        {
         "metadata": "{}",
         "name": "Losses",
         "type": "\"long\""
        },
        {
         "metadata": "{}",
         "name": "MatchesPlayed",
         "type": "\"long\""
        },
        {
         "metadata": "{}",
         "name": "GoalsFor",
         "type": "\"long\""
        },
        {
         "metadata": "{}",
         "name": "GoalsAgainst",
         "type": "\"long\""
        },
        {
         "metadata": "{}",
         "name": "GoalDifference",
         "type": "\"long\""
        },
        {
         "metadata": "{}",
         "name": "Points",
         "type": "\"long\""
        },
        {
         "metadata": "{}",
         "name": "rank",
         "type": "\"integer\""
        }
       ],
       "type": "table"
      }
     },
     "output_type": "display_data"
    }
   ],
   "source": [
    "#DataFrame as temporary view\n",
    "group_stage_df.createOrReplaceTempView(\"group_of_24\")\n",
    "\n",
    "# Executing the SQL query\n",
    "group_of_16 = spark.sql(\"\"\"\n",
    "WITH cte4 AS (\n",
    "WITH cte3 AS (\n",
    "WITH cte2 AS (\n",
    "WITH cte1 AS (\n",
    "WITH cte AS (\n",
    "SELECT\n",
    "  a.teamname AS team1,\n",
    "  a.group AS group1,\n",
    "  1 AS mp ,\n",
    "  b.teamname AS team2,\n",
    "  b.group AS group2,\n",
    "  FLOOR(RAND() * 5) AS goals1,\n",
    "  FLOOR(RAND() * 5) AS goals2,\n",
    "  CASE \n",
    "    WHEN goals1 > goals2 THEN 3\n",
    "    WHEN goals1 == goals2 THEN 1\n",
    "    ELSE 0\n",
    "    END as point1,\n",
    "  CASE\n",
    "    WHEN goals2 > goals1 THEN 3\n",
    "    WHEN goals2 == goals1 THEN 1\n",
    "    ELSE 0\n",
    "    END as point2 ,\n",
    "  CASE\n",
    "    WHEN point1 == 3 THEN 1\n",
    "    ELSE 0\n",
    "    END as w1,\n",
    "  CASE\n",
    "    WHEN point2 == 3 THEN 1\n",
    "    ELSE 0\n",
    "    END as w2, \n",
    " CASE\n",
    "    WHEN point1 == 1 THEN 1\n",
    "    ELSE 0\n",
    "    END as d1,\n",
    "  CASE\n",
    "    WHEN point2 == 1 THEN 1\n",
    "    ELSE 0\n",
    "    END as d2,  \n",
    "  CASE\n",
    "    WHEN point1 == 0 THEN 1\n",
    "    ELSE 0\n",
    "    END as l1,\n",
    "  CASE\n",
    "    WHEN point2 == 0 THEN 1\n",
    "    ELSE 0\n",
    "    END as l2\n",
    "FROM\n",
    "  group_of_24 a\n",
    "CROSS JOIN\n",
    "  group_of_24 b\n",
    "ON\n",
    "  a.group = b.group AND a.teamname < b.teamname\n",
    ")\n",
    "select team1 as team,group1 as groups ,mp,goals1 as gf, goals2 as ga,point1 as pts ,w1 as w,d1 as d,l1 as l from cte \n",
    "union all\n",
    "select team2 as team,group2 as groups,mp,goals2 as gf, goals1 as ga,point2 as pts ,w2 as w,d2 as d,l2 as l from cte \n",
    ")\n",
    "select team, groups , sum(w) as w, sum(d) as d, sum(l) as l, sum(mp) as mp,sum(gf) as gf,sum(ga) as ga,sum(gf -ga) as gd,sum(pts) as pts \n",
    "from cte1 \n",
    "group by team,groups\n",
    "order by groups, pts desc, gd desc, gf desc\n",
    ")\n",
    "select *,\n",
    "row_number() over(partition by groups order by pts desc, gd desc, gf desc) as rank\n",
    "from cte2\n",
    ")\n",
    "\n",
    "select * \n",
    "from cte3\n",
    "where rank <= 3\n",
    "order by rank,pts desc,gd desc, gf desc\n",
    "limit 16\n",
    ")\n",
    "select * from cte4\"\"\")\n",
    "\n",
    "# Assume df is your DataFrame\n",
    "group_of_16 = group_of_16.withColumnRenamed(\"team\", \"Team\") \\\n",
    "       .withColumnRenamed(\"groups\", \"Groups\") \\\n",
    "       .withColumnRenamed(\"w\", \"Wins\") \\\n",
    "       .withColumnRenamed(\"d\", \"Draws\") \\\n",
    "       .withColumnRenamed(\"l\", \"Losses\") \\\n",
    "       .withColumnRenamed(\"mp\", \"MatchesPlayed\") \\\n",
    "       .withColumnRenamed(\"gf\", \"GoalsFor\") \\\n",
    "       .withColumnRenamed(\"ga\", \"GoalsAgainst\") \\\n",
    "       .withColumnRenamed(\"gd\", \"GoalDifference\") \\\n",
    "       .withColumnRenamed(\"pts\", \"Points\")\n",
    "\n",
    "group_of_16.display()"
   ]
  },
  {
   "cell_type": "code",
   "execution_count": 0,
   "metadata": {
    "application/vnd.databricks.v1+cell": {
     "cellMetadata": {
      "byteLimit": 2048000,
      "rowLimit": 10000
     },
     "inputWidgets": {},
     "nuid": "d836fa45-c313-4775-b6da-2c91ac1f9846",
     "showTitle": false,
     "title": ""
    }
   },
   "outputs": [],
   "source": [
    "group_of_16.createOrReplaceTempView(\"group_of_16\")\n",
    "df_knockout_phase.createOrReplaceTempView(\"df_knockout_phase\")"
   ]
  },
  {
   "cell_type": "code",
   "execution_count": 0,
   "metadata": {
    "application/vnd.databricks.v1+cell": {
     "cellMetadata": {
      "byteLimit": 2048000,
      "implicitDf": true,
      "rowLimit": 10000
     },
     "inputWidgets": {},
     "nuid": "58ba3053-e370-4e6b-956d-bccbe754683e",
     "showTitle": false,
     "title": ""
    }
   },
   "outputs": [
    {
     "output_type": "display_data",
     "data": {
      "text/html": [
       "<style scoped>\n",
       "  .table-result-container {\n",
       "    max-height: 300px;\n",
       "    overflow: auto;\n",
       "  }\n",
       "  table, th, td {\n",
       "    border: 1px solid black;\n",
       "    border-collapse: collapse;\n",
       "  }\n",
       "  th, td {\n",
       "    padding: 5px;\n",
       "  }\n",
       "  th {\n",
       "    text-align: left;\n",
       "  }\n",
       "</style><div class='table-result-container'><table class='table-result'><thead style='background-color: white'><tr><th>pattern</th><th>Third_placed_qualified_teams</th><th>B</th><th>C</th><th>E</th><th>F</th></tr></thead><tbody><tr><td>ABCF</td><td>ABCF</td><td>A</td><td>F</td><td>B</td><td>C</td></tr></tbody></table></div>"
      ]
     },
     "metadata": {
      "application/vnd.databricks.v1+output": {
       "addedWidgets": {},
       "aggData": [],
       "aggError": "",
       "aggOverflow": false,
       "aggSchema": [],
       "aggSeriesLimitReached": false,
       "aggType": "",
       "arguments": {},
       "columnCustomDisplayInfos": {},
       "data": [
        [
         "ABCF",
         "ABCF",
         "A",
         "F",
         "B",
         "C"
        ]
       ],
       "datasetInfos": [],
       "dbfsResultPath": null,
       "isJsonSchema": true,
       "metadata": {},
       "overflow": false,
       "plotOptions": {
        "customPlotOptions": {},
        "displayType": "table",
        "pivotAggregation": null,
        "pivotColumns": null,
        "xColumns": null,
        "yColumns": null
       },
       "removedWidgets": [],
       "schema": [
        {
         "metadata": "{}",
         "name": "pattern",
         "type": "\"string\""
        },
        {
         "metadata": "{}",
         "name": "Third_placed_qualified_teams",
         "type": "\"string\""
        },
        {
         "metadata": "{}",
         "name": "B",
         "type": "\"string\""
        },
        {
         "metadata": "{}",
         "name": "C",
         "type": "\"string\""
        },
        {
         "metadata": "{}",
         "name": "E",
         "type": "\"string\""
        },
        {
         "metadata": "{}",
         "name": "F",
         "type": "\"string\""
        }
       ],
       "type": "table"
      }
     },
     "output_type": "display_data"
    }
   ],
   "source": [
    "%sql\n",
    "WITH combo AS (\n",
    "WITH group_of_16_ordered AS (\n",
    "  SELECT * FROM group_of_16\n",
    "  WHERE rank = 3\n",
    "  ORDER BY groups\n",
    "  limit 4\n",
    ")\n",
    "SELECT  concat_ws('',array_agg(groups) )AS pattern\n",
    "FROM group_of_16_ordered\n",
    ")\n",
    "select * from\n",
    "combo\n",
    "left join df_knockout_phase\n",
    "on pattern = Third_placed_qualified_teams"
   ]
  },
  {
   "cell_type": "code",
   "execution_count": 0,
   "metadata": {
    "application/vnd.databricks.v1+cell": {
     "cellMetadata": {
      "byteLimit": 2048000,
      "implicitDf": true,
      "rowLimit": 10000
     },
     "inputWidgets": {},
     "nuid": "25b043b3-c1ec-48a3-bc3e-6e373fb43d57",
     "showTitle": false,
     "title": ""
    }
   },
   "outputs": [
    {
     "output_type": "display_data",
     "data": {
      "text/html": [
       "<style scoped>\n",
       "  .table-result-container {\n",
       "    max-height: 300px;\n",
       "    overflow: auto;\n",
       "  }\n",
       "  table, th, td {\n",
       "    border: 1px solid black;\n",
       "    border-collapse: collapse;\n",
       "  }\n",
       "  th, td {\n",
       "    padding: 5px;\n",
       "  }\n",
       "  th {\n",
       "    text-align: left;\n",
       "  }\n",
       "</style><div class='table-result-container'><table class='table-result'><thead style='background-color: white'><tr><th>num_affected_rows</th><th>num_inserted_rows</th></tr></thead><tbody></tbody></table></div>"
      ]
     },
     "metadata": {
      "application/vnd.databricks.v1+output": {
       "addedWidgets": {},
       "aggData": [],
       "aggError": "",
       "aggOverflow": false,
       "aggSchema": [],
       "aggSeriesLimitReached": false,
       "aggType": "",
       "arguments": {},
       "columnCustomDisplayInfos": {},
       "data": [],
       "datasetInfos": [],
       "dbfsResultPath": null,
       "isJsonSchema": true,
       "metadata": {},
       "overflow": false,
       "plotOptions": {
        "customPlotOptions": {},
        "displayType": "table",
        "pivotAggregation": null,
        "pivotColumns": null,
        "xColumns": null,
        "yColumns": null
       },
       "removedWidgets": [],
       "schema": [
        {
         "metadata": "{}",
         "name": "num_affected_rows",
         "type": "\"long\""
        },
        {
         "metadata": "{}",
         "name": "num_inserted_rows",
         "type": "\"long\""
        }
       ],
       "type": "table"
      }
     },
     "output_type": "display_data"
    }
   ],
   "source": [
    "%sql\n",
    "CREATE or replace table group_of_16_brackets as(\n",
    "WITH combination AS (\n",
    "WITH pattern AS (\n",
    "WITH group_of_16_ordered AS (\n",
    "  SELECT * FROM group_of_16\n",
    "  WHERE rank = 3\n",
    "  ORDER BY groups\n",
    "  limit 4\n",
    ")\n",
    "SELECT  concat_ws('',array_agg( groups) )AS pattern\n",
    "FROM group_of_16_ordered \n",
    ")\n",
    "select * from\n",
    "pattern\n",
    "left join df_knockout_phase\n",
    "on pattern = Third_placed_qualified_teams\n",
    ")\n",
    "select team, groups,rank, 1 as row_num from group_of_16 where rank = 1 and groups ='B'\n",
    "union all\n",
    "select team, groups,rank , 2 as row_num from group_of_16 where rank = 3 and groups =  (select B from combination)\n",
    "union all\n",
    "select team,groups,rank, 3 as row_num from group_of_16 where rank = 1 and groups ='A'\n",
    "union all\n",
    "select team,groups,rank, 4 as row_num from group_of_16 where rank = 2 and groups ='C'\n",
    "union all\n",
    "select team,groups,rank, 5 as row_num from group_of_16 where rank = 1 and groups ='F'\n",
    "union all\n",
    "select team,groups,rank, 6 as row_num from group_of_16 where rank = 3 and groups =(select E from combination)\n",
    "union all\n",
    "select team,groups,rank, 7 as row_num from group_of_16 where rank = 2 and groups ='D'\n",
    "union all\n",
    "select team,groups,rank, 8 as row_num from group_of_16 where rank = 2 and groups ='E'\n",
    "union all\n",
    "select team,groups,rank, 9 as row_num from group_of_16 where rank = 1 and groups ='E'\n",
    "union all\n",
    "select team,groups,rank, 10 as row_num from group_of_16 where rank = 3 and groups =(select F from combination)\n",
    "union all\n",
    "select team,groups,rank, 11 as row_num from group_of_16 where rank = 1 and groups ='D'\n",
    "union all\n",
    "select team,groups,rank, 12 as row_num from group_of_16 where rank = 2 and groups ='F'\n",
    "union all\n",
    "select team,groups,rank, 13 as row_num from group_of_16 where rank = 1 and groups ='C'\n",
    "union  all\n",
    "select team,groups,rank, 14 as row_num from group_of_16 where rank = 3 and groups =(select C from combination)\n",
    "union all\n",
    "select team,groups,rank, 15 as row_num from group_of_16 where rank = 2 and groups ='A'\n",
    "union all\n",
    "select team,groups,rank, 16 as row_num from group_of_16 where rank = 2 and groups ='B'\n",
    ")"
   ]
  },
  {
   "cell_type": "code",
   "execution_count": 0,
   "metadata": {
    "application/vnd.databricks.v1+cell": {
     "cellMetadata": {
      "byteLimit": 2048000,
      "implicitDf": true,
      "rowLimit": 10000
     },
     "inputWidgets": {},
     "nuid": "7618d894-b0a5-4280-8328-23cdd0f2b918",
     "showTitle": false,
     "title": ""
    }
   },
   "outputs": [
    {
     "output_type": "display_data",
     "data": {
      "text/html": [
       "<style scoped>\n",
       "  .table-result-container {\n",
       "    max-height: 300px;\n",
       "    overflow: auto;\n",
       "  }\n",
       "  table, th, td {\n",
       "    border: 1px solid black;\n",
       "    border-collapse: collapse;\n",
       "  }\n",
       "  th, td {\n",
       "    padding: 5px;\n",
       "  }\n",
       "  th {\n",
       "    text-align: left;\n",
       "  }\n",
       "</style><div class='table-result-container'><table class='table-result'><thead style='background-color: white'><tr><th>team</th><th>groups</th><th>rank</th><th>row_num</th></tr></thead><tbody><tr><td>Scotland</td><td>B</td><td>1</td><td>1</td></tr><tr><td>Czech</td><td>A</td><td>3</td><td>2</td></tr><tr><td>Hungary</td><td>A</td><td>1</td><td>3</td></tr><tr><td>Switzerland</td><td>C</td><td>2</td><td>4</td></tr><tr><td>Germany</td><td>F</td><td>1</td><td>5</td></tr><tr><td>Greece</td><td>B</td><td>3</td><td>6</td></tr><tr><td>Finland</td><td>D</td><td>2</td><td>7</td></tr><tr><td>Slovakia</td><td>E</td><td>2</td><td>8</td></tr><tr><td>Romania</td><td>E</td><td>1</td><td>9</td></tr><tr><td>Denmark</td><td>C</td><td>3</td><td>10</td></tr><tr><td>France</td><td>D</td><td>1</td><td>11</td></tr><tr><td>Portugal</td><td>F</td><td>2</td><td>12</td></tr><tr><td>Spain</td><td>C</td><td>1</td><td>13</td></tr><tr><td>Türkiye</td><td>F</td><td>3</td><td>14</td></tr><tr><td>Serbia</td><td>A</td><td>2</td><td>15</td></tr><tr><td>England</td><td>B</td><td>2</td><td>16</td></tr></tbody></table></div>"
      ]
     },
     "metadata": {
      "application/vnd.databricks.v1+output": {
       "addedWidgets": {},
       "aggData": [],
       "aggError": "",
       "aggOverflow": false,
       "aggSchema": [],
       "aggSeriesLimitReached": false,
       "aggType": "",
       "arguments": {},
       "columnCustomDisplayInfos": {},
       "data": [
        [
         "Scotland",
         "B",
         1,
         1
        ],
        [
         "Czech",
         "A",
         3,
         2
        ],
        [
         "Hungary",
         "A",
         1,
         3
        ],
        [
         "Switzerland",
         "C",
         2,
         4
        ],
        [
         "Germany",
         "F",
         1,
         5
        ],
        [
         "Greece",
         "B",
         3,
         6
        ],
        [
         "Finland",
         "D",
         2,
         7
        ],
        [
         "Slovakia",
         "E",
         2,
         8
        ],
        [
         "Romania",
         "E",
         1,
         9
        ],
        [
         "Denmark",
         "C",
         3,
         10
        ],
        [
         "France",
         "D",
         1,
         11
        ],
        [
         "Portugal",
         "F",
         2,
         12
        ],
        [
         "Spain",
         "C",
         1,
         13
        ],
        [
         "Türkiye",
         "F",
         3,
         14
        ],
        [
         "Serbia",
         "A",
         2,
         15
        ],
        [
         "England",
         "B",
         2,
         16
        ]
       ],
       "datasetInfos": [],
       "dbfsResultPath": null,
       "isJsonSchema": true,
       "metadata": {},
       "overflow": false,
       "plotOptions": {
        "customPlotOptions": {},
        "displayType": "table",
        "pivotAggregation": null,
        "pivotColumns": null,
        "xColumns": null,
        "yColumns": null
       },
       "removedWidgets": [],
       "schema": [
        {
         "metadata": "{}",
         "name": "team",
         "type": "\"string\""
        },
        {
         "metadata": "{}",
         "name": "groups",
         "type": "\"string\""
        },
        {
         "metadata": "{}",
         "name": "rank",
         "type": "\"integer\""
        },
        {
         "metadata": "{}",
         "name": "row_num",
         "type": "\"integer\""
        }
       ],
       "type": "table"
      }
     },
     "output_type": "display_data"
    }
   ],
   "source": [
    "%sql\n",
    "select * from group_of_16_brackets\n",
    "order by row_num"
   ]
  },
  {
   "cell_type": "code",
   "execution_count": 0,
   "metadata": {
    "application/vnd.databricks.v1+cell": {
     "cellMetadata": {
      "byteLimit": 2048000,
      "implicitDf": true,
      "rowLimit": 10000
     },
     "inputWidgets": {},
     "nuid": "588e53cb-f1e4-4a3d-a2aa-6c129c48e97b",
     "showTitle": false,
     "title": ""
    }
   },
   "outputs": [
    {
     "output_type": "display_data",
     "data": {
      "text/html": [
       "<style scoped>\n",
       "  .table-result-container {\n",
       "    max-height: 300px;\n",
       "    overflow: auto;\n",
       "  }\n",
       "  table, th, td {\n",
       "    border: 1px solid black;\n",
       "    border-collapse: collapse;\n",
       "  }\n",
       "  th, td {\n",
       "    padding: 5px;\n",
       "  }\n",
       "  th {\n",
       "    text-align: left;\n",
       "  }\n",
       "</style><div class='table-result-container'><table class='table-result'><thead style='background-color: white'><tr><th>Team</th><th>Groups</th><th>Wins</th><th>Draws</th><th>Losses</th><th>MatchesPlayed</th><th>GoalsFor</th><th>GoalsAgainst</th><th>GoalDifference</th><th>Points</th><th>rank</th></tr></thead><tbody><tr><td>Czech</td><td>A</td><td>1</td><td>1</td><td>1</td><td>3</td><td>6</td><td>9</td><td>-3</td><td>4</td><td>3</td></tr><tr><td>Greece</td><td>B</td><td>1</td><td>0</td><td>2</td><td>3</td><td>6</td><td>8</td><td>-2</td><td>3</td><td>3</td></tr><tr><td>Denmark</td><td>C</td><td>1</td><td>1</td><td>1</td><td>3</td><td>4</td><td>6</td><td>-2</td><td>4</td><td>3</td></tr><tr><td>Türkiye</td><td>F</td><td>2</td><td>0</td><td>1</td><td>3</td><td>7</td><td>7</td><td>0</td><td>6</td><td>3</td></tr></tbody></table></div>"
      ]
     },
     "metadata": {
      "application/vnd.databricks.v1+output": {
       "addedWidgets": {},
       "aggData": [],
       "aggError": "",
       "aggOverflow": false,
       "aggSchema": [],
       "aggSeriesLimitReached": false,
       "aggType": "",
       "arguments": {},
       "columnCustomDisplayInfos": {},
       "data": [
        [
         "Czech",
         "A",
         1,
         1,
         1,
         3,
         6,
         9,
         -3,
         4,
         3
        ],
        [
         "Greece",
         "B",
         1,
         0,
         2,
         3,
         6,
         8,
         -2,
         3,
         3
        ],
        [
         "Denmark",
         "C",
         1,
         1,
         1,
         3,
         4,
         6,
         -2,
         4,
         3
        ],
        [
         "Türkiye",
         "F",
         2,
         0,
         1,
         3,
         7,
         7,
         0,
         6,
         3
        ]
       ],
       "datasetInfos": [],
       "dbfsResultPath": null,
       "isJsonSchema": true,
       "metadata": {},
       "overflow": false,
       "plotOptions": {
        "customPlotOptions": {},
        "displayType": "table",
        "pivotAggregation": null,
        "pivotColumns": null,
        "xColumns": null,
        "yColumns": null
       },
       "removedWidgets": [],
       "schema": [
        {
         "metadata": "{}",
         "name": "Team",
         "type": "\"string\""
        },
        {
         "metadata": "{}",
         "name": "Groups",
         "type": "\"string\""
        },
        {
         "metadata": "{}",
         "name": "Wins",
         "type": "\"long\""
        },
        {
         "metadata": "{}",
         "name": "Draws",
         "type": "\"long\""
        },
        {
         "metadata": "{}",
         "name": "Losses",
         "type": "\"long\""
        },
        {
         "metadata": "{}",
         "name": "MatchesPlayed",
         "type": "\"long\""
        },
        {
         "metadata": "{}",
         "name": "GoalsFor",
         "type": "\"long\""
        },
        {
         "metadata": "{}",
         "name": "GoalsAgainst",
         "type": "\"long\""
        },
        {
         "metadata": "{}",
         "name": "GoalDifference",
         "type": "\"long\""
        },
        {
         "metadata": "{}",
         "name": "Points",
         "type": "\"long\""
        },
        {
         "metadata": "{}",
         "name": "rank",
         "type": "\"integer\""
        }
       ],
       "type": "table"
      }
     },
     "output_type": "display_data"
    }
   ],
   "source": [
    "%sql\n",
    "WITH group_of_16_ordered AS (\n",
    "  SELECT * FROM group_of_16\n",
    "  WHERE rank = 3\n",
    "  ORDER BY groups\n",
    "  limit 4\n",
    ") \n",
    "select * FROM group_of_16_ordered"
   ]
  },
  {
   "cell_type": "code",
   "execution_count": 0,
   "metadata": {
    "application/vnd.databricks.v1+cell": {
     "cellMetadata": {
      "byteLimit": 2048000,
      "implicitDf": true,
      "rowLimit": 10000
     },
     "inputWidgets": {},
     "nuid": "a1c2f779-6036-43a2-8570-da1891624503",
     "showTitle": false,
     "title": ""
    }
   },
   "outputs": [
    {
     "output_type": "display_data",
     "data": {
      "text/html": [
       "<style scoped>\n",
       "  .table-result-container {\n",
       "    max-height: 300px;\n",
       "    overflow: auto;\n",
       "  }\n",
       "  table, th, td {\n",
       "    border: 1px solid black;\n",
       "    border-collapse: collapse;\n",
       "  }\n",
       "  th, td {\n",
       "    padding: 5px;\n",
       "  }\n",
       "  th {\n",
       "    text-align: left;\n",
       "  }\n",
       "</style><div class='table-result-container'><table class='table-result'><thead style='background-color: white'><tr><th>pattern</th><th>Third_placed_qualified_teams</th><th>B</th><th>C</th><th>E</th><th>F</th></tr></thead><tbody><tr><td>ABCF</td><td>ABCF</td><td>A</td><td>F</td><td>B</td><td>C</td></tr></tbody></table></div>"
      ]
     },
     "metadata": {
      "application/vnd.databricks.v1+output": {
       "addedWidgets": {},
       "aggData": [],
       "aggError": "",
       "aggOverflow": false,
       "aggSchema": [],
       "aggSeriesLimitReached": false,
       "aggType": "",
       "arguments": {},
       "columnCustomDisplayInfos": {},
       "data": [
        [
         "ABCF",
         "ABCF",
         "A",
         "F",
         "B",
         "C"
        ]
       ],
       "datasetInfos": [],
       "dbfsResultPath": null,
       "isJsonSchema": true,
       "metadata": {},
       "overflow": false,
       "plotOptions": {
        "customPlotOptions": {},
        "displayType": "table",
        "pivotAggregation": null,
        "pivotColumns": null,
        "xColumns": null,
        "yColumns": null
       },
       "removedWidgets": [],
       "schema": [
        {
         "metadata": "{}",
         "name": "pattern",
         "type": "\"string\""
        },
        {
         "metadata": "{}",
         "name": "Third_placed_qualified_teams",
         "type": "\"string\""
        },
        {
         "metadata": "{}",
         "name": "B",
         "type": "\"string\""
        },
        {
         "metadata": "{}",
         "name": "C",
         "type": "\"string\""
        },
        {
         "metadata": "{}",
         "name": "E",
         "type": "\"string\""
        },
        {
         "metadata": "{}",
         "name": "F",
         "type": "\"string\""
        }
       ],
       "type": "table"
      }
     },
     "output_type": "display_data"
    }
   ],
   "source": [
    "%sql\n",
    "WITH combination AS (\n",
    "WITH pattern AS (\n",
    "WITH group_of_16_ordered AS (\n",
    "  SELECT * FROM group_of_16\n",
    "  WHERE rank = 3\n",
    "  ORDER BY groups\n",
    "  limit 4\n",
    ")\n",
    "SELECT  concat_ws('',array_agg( groups) )AS pattern\n",
    "FROM group_of_16_ordered \n",
    ")\n",
    "select * from\n",
    "pattern\n",
    "left join df_knockout_phase\n",
    "on pattern = Third_placed_qualified_teams)\n",
    "select * from combination"
   ]
  },
  {
   "cell_type": "code",
   "execution_count": 0,
   "metadata": {
    "application/vnd.databricks.v1+cell": {
     "cellMetadata": {
      "byteLimit": 2048000,
      "rowLimit": 10000
     },
     "inputWidgets": {},
     "nuid": "abddd02c-bb24-402f-babf-92578c2180e4",
     "showTitle": true,
     "title": "Group 16 Matches"
    }
   },
   "outputs": [
    {
     "output_type": "stream",
     "name": "stdout",
     "output_type": "stream",
     "text": [
      "+--------+------+-----+----+-----------+------+-----+----+-----------+\n|   team1|group1|rank1|row1|      team2|group2|rank2|row2|        won|\n+--------+------+-----+----+-----------+------+-----+----+-----------+\n|Scotland|     B|    1|   1|      Czech|     A|    3|   2|      Czech|\n| Finland|     D|    2|   7|   Slovakia|     E|    2|   8|   Slovakia|\n| Germany|     F|    1|   5|     Greece|     B|    3|   6|    Germany|\n| Romania|     E|    1|   9|    Denmark|     C|    3|  10|    Romania|\n| Hungary|     A|    1|   3|Switzerland|     C|    2|   4|Switzerland|\n|  France|     D|    1|  11|   Portugal|     F|    2|  12|     France|\n|  Serbia|     A|    2|  15|    England|     B|    2|  16|     Serbia|\n|   Spain|     C|    1|  13|    Türkiye|     F|    3|  14|      Spain|\n+--------+------+-----+----+-----------+------+-----+----+-----------+\n\n"
     ]
    }
   ],
   "source": [
    "group16 = spark.sql(\"\"\"SELECT\n",
    "    t1.team AS team1,\n",
    "    t1.groups AS group1,\n",
    "    t1.rank AS rank1,\n",
    "    t1.row_num AS row1,\n",
    "    t2.team AS team2,\n",
    "    t2.groups AS group2,\n",
    "    t2.rank AS rank2,\n",
    "    t2.row_num AS row2,\n",
    "    CASE WHEN FLOOR(RAND() * 10) > 5 then team1 else team2 end as won\n",
    "FROM\n",
    "    group_of_16_brackets t1\n",
    "JOIN\n",
    "    group_of_16_brackets t2\n",
    "ON\n",
    "    t1.row_num % 2 = 1 AND t2.row_num % 2 = 0 AND t1.row_num + 1 = t2.row_num\n",
    "\"\"\")\n",
    "\n",
    "group16.show()"
   ]
  },
  {
   "cell_type": "code",
   "execution_count": 0,
   "metadata": {
    "application/vnd.databricks.v1+cell": {
     "cellMetadata": {
      "byteLimit": 2048000,
      "rowLimit": 10000
     },
     "inputWidgets": {},
     "nuid": "5d64a393-5309-40f3-8fff-c4b023fd48e4",
     "showTitle": false,
     "title": ""
    }
   },
   "outputs": [
    {
     "output_type": "stream",
     "name": "stdout",
     "output_type": "stream",
     "text": [
      "+-----------+\n|        won|\n+-----------+\n|      Czech|\n|   Slovakia|\n|    Germany|\n|    Romania|\n|Switzerland|\n|     France|\n|     Serbia|\n|      Spain|\n+-----------+\n\n+-----------+------+\n|      team1|teamId|\n+-----------+------+\n|      Czech|     1|\n|    Germany|     2|\n|Switzerland|     3|\n|     Serbia|     4|\n+-----------+------+\n\n+--------+------+\n|   team2|teamId|\n+--------+------+\n|Slovakia|     1|\n| Romania|     2|\n|  France|     3|\n|   Spain|     4|\n+--------+------+\n\n+-----------+--------+-------+\n|      team1|   team2| winner|\n+-----------+--------+-------+\n|      Czech|Slovakia|  Czech|\n|    Germany| Romania|Germany|\n|Switzerland|  France| France|\n|     Serbia|   Spain| Serbia|\n+-----------+--------+-------+\n\n"
     ]
    }
   ],
   "source": [
    "group16_winner = group16.select(\"won\")\n",
    "group16_winner.show()\n",
    "\n",
    "window_spec = Window.orderBy(F.monotonically_increasing_id())\n",
    "group16_winner = group16_winner.withColumn(\"teamId\", F.row_number().over(window_spec))\n",
    "\n",
    "# Create a DataFrame with odd teamId teams as team1 and even teamId teams as team2\n",
    "team1_df = group16_winner.filter((F.col(\"teamId\") % 2) != 0).withColumnRenamed(\"teamId\", \"team1_id\").withColumnRenamed(\"won\", \"team1\")\n",
    "team1_df = team1_df.withColumn(\"teamId\", F.row_number().over(window_spec)).drop('team1_id')\n",
    "team2_df = group16_winner.filter((F.col(\"teamId\") % 2) == 0).withColumnRenamed(\"teamId\", \"team2_id\").withColumnRenamed(\"won\", \"team2\")\n",
    "team2_df = team2_df.withColumn(\"teamId\", F.row_number().over(window_spec)).drop('team2_id')\n",
    "team1_df.show()\n",
    "team2_df.show()\n",
    "\n",
    "# Join team1 and team2 DataFrames to get the final DataFrame\n",
    "quarterfinals_df = team1_df.join(team2_df, [\"teamId\"], \"inner\")\n",
    "# Add a column for winner (randomly chosen between team1 and team2)\n",
    "quarterfinals_df = quarterfinals_df.withColumn(\"winner\", F.when(F.rand() > 0.5, quarterfinals_df[\"team1\"]).otherwise(quarterfinals_df[\"team2\"]))\n",
    "\n",
    "# Select necessary columns\n",
    "quarterfinals_df = quarterfinals_df.select(\"team1\", \"team2\", \"winner\")\n",
    "\n",
    "quarterfinals_df.show()"
   ]
  },
  {
   "cell_type": "code",
   "execution_count": 0,
   "metadata": {
    "application/vnd.databricks.v1+cell": {
     "cellMetadata": {
      "byteLimit": 2048000,
      "rowLimit": 10000
     },
     "inputWidgets": {},
     "nuid": "9622b74f-e004-4f93-b86d-5cd99e5daeb9",
     "showTitle": true,
     "title": "Semifinal"
    }
   },
   "outputs": [
    {
     "output_type": "stream",
     "name": "stdout",
     "output_type": "stream",
     "text": [
      "+-------+\n| winner|\n+-------+\n|  Czech|\n|Germany|\n| France|\n| Serbia|\n+-------+\n\n+------+------+\n| team1|teamId|\n+------+------+\n| Czech|     1|\n|France|     2|\n+------+------+\n\n+-------+------+\n|  team2|teamId|\n+-------+------+\n|Germany|     1|\n| Serbia|     2|\n+-------+------+\n\n+------+-------+------+\n| team1|  team2|winner|\n+------+-------+------+\n| Czech|Germany| Czech|\n|France| Serbia|France|\n+------+-------+------+\n\n"
     ]
    }
   ],
   "source": [
    "quarterfinals_df = quarterfinals_df.select(\"winner\")\n",
    "quarterfinals_df.show()\n",
    "\n",
    "window_spec = Window.orderBy(F.monotonically_increasing_id())\n",
    "quarterfinals_df = quarterfinals_df.withColumn(\"teamId\", F.row_number().over(window_spec))\n",
    "\n",
    "# Create a DataFrame with odd teamId teams as team1 and even teamId teams as team2\n",
    "team1_df = quarterfinals_df.filter((F.col(\"teamId\") % 2) != 0).withColumnRenamed(\"teamId\", \"team1_id\").withColumnRenamed(\"winner\", \"team1\")\n",
    "team1_df = team1_df.withColumn(\"teamId\", F.row_number().over(window_spec)).drop('team1_id')\n",
    "team2_df = quarterfinals_df.filter((F.col(\"teamId\") % 2) == 0).withColumnRenamed(\"teamId\", \"team2_id\").withColumnRenamed(\"winner\", \"team2\")\n",
    "team2_df = team2_df.withColumn(\"teamId\", F.row_number().over(window_spec)).drop('team2_id')\n",
    "team1_df.show()\n",
    "team2_df.show()\n",
    "\n",
    "# Join team1 and team2 DataFrames to get the final DataFrame\n",
    "semifinals_df = team1_df.join(team2_df, [\"teamId\"], \"inner\")\n",
    "# Add a column for winner (randomly chosen between team1 and team2)\n",
    "semifinals_df = semifinals_df.withColumn(\"winner\", F.when(F.rand() > 0.5, semifinals_df[\"team1\"]).otherwise(semifinals_df[\"team2\"]))\n",
    "\n",
    "# Select necessary columns\n",
    "semifinals_df = semifinals_df.select(\"team1\", \"team2\", \"winner\")\n",
    "\n",
    "semifinals_df.show()"
   ]
  },
  {
   "cell_type": "code",
   "execution_count": 0,
   "metadata": {
    "application/vnd.databricks.v1+cell": {
     "cellMetadata": {
      "byteLimit": 2048000,
      "rowLimit": 10000
     },
     "inputWidgets": {},
     "nuid": "b96f9247-b1b8-4209-bc41-7f19e1b7c2cd",
     "showTitle": true,
     "title": "Final"
    }
   },
   "outputs": [
    {
     "output_type": "stream",
     "name": "stdout",
     "output_type": "stream",
     "text": [
      "Winner: Czech\n"
     ]
    }
   ],
   "source": [
    "semifinals_df = semifinals_df.withColumn(\"random_number\", F.rand())\n",
    "winner = semifinals_df.select(F.when(F.col(\"random_number\") > 0.5, semifinals_df[\"winner\"]).otherwise(semifinals_df[\"winner\"])).first()[0]\n",
    "\n",
    "print(\"Winner:\", winner)"
   ]
  },
  {
   "cell_type": "code",
   "execution_count": 0,
   "metadata": {
    "application/vnd.databricks.v1+cell": {
     "cellMetadata": {},
     "inputWidgets": {},
     "nuid": "5018b3c8-4ad2-4ea4-ae14-e55fe1b6e8f0",
     "showTitle": false,
     "title": ""
    }
   },
   "outputs": [],
   "source": []
  }
 ],
 "metadata": {
  "application/vnd.databricks.v1+notebook": {
   "dashboards": [],
   "language": "python",
   "notebookMetadata": {
    "mostRecentlyExecutedCommandWithImplicitDF": {
     "commandId": 3246891214704423,
     "dataframes": [
      "_sqldf"
     ]
    },
    "pythonIndentUnit": 4
   },
   "notebookName": "EuroCup'24",
   "widgets": {}
  }
 },
 "nbformat": 4,
 "nbformat_minor": 0
}
