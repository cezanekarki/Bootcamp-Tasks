{
 "cells": [
  {
   "cell_type": "code",
   "execution_count": 0,
   "metadata": {
    "application/vnd.databricks.v1+cell": {
     "cellMetadata": {
      "byteLimit": 2048000,
      "rowLimit": 10000
     },
     "inputWidgets": {},
     "nuid": "0aafca53-f898-489c-955f-dbed0d143b97",
     "showTitle": false,
     "title": ""
    }
   },
   "outputs": [
    {
     "output_type": "stream",
     "name": "stdout",
     "output_type": "stream",
     "text": [
      "Out[117]: True"
     ]
    }
   ],
   "source": [
    "%python\n",
    "\n",
    "# Ensure that the specified directory is empty. \n",
    "dbutils.fs.rm(\"dbfs:/user/hive/warehouse/euroteams\", recurse=True)\n",
    "dbutils.fs.rm(\"dbfs:/user/hive/warehouse//groupstage_match\", recurse=True)\n",
    "dbutils.fs.rm(\"dbfs:/user/hive/warehouse/groupstandings\", recurse=True)\n",
    "dbutils.fs.rm(\"dbfs:/user/hive/warehouse/combinationforthirdplace\", recurse=True)\n",
    "dbutils.fs.rm(\"dbfs:/user/hive/warehouse/matchesfixtures\",recurse=True)"
   ]
  },
  {
   "cell_type": "code",
   "execution_count": 0,
   "metadata": {
    "application/vnd.databricks.v1+cell": {
     "cellMetadata": {
      "byteLimit": 2048000,
      "implicitDf": true,
      "rowLimit": 10000
     },
     "inputWidgets": {},
     "nuid": "c9b72749-6d1b-44ef-9c79-cfc4903c2009",
     "showTitle": false,
     "title": ""
    }
   },
   "outputs": [
    {
     "output_type": "display_data",
     "data": {
      "text/html": [
       "<style scoped>\n",
       "  .table-result-container {\n",
       "    max-height: 300px;\n",
       "    overflow: auto;\n",
       "  }\n",
       "  table, th, td {\n",
       "    border: 1px solid black;\n",
       "    border-collapse: collapse;\n",
       "  }\n",
       "  th, td {\n",
       "    padding: 5px;\n",
       "  }\n",
       "  th {\n",
       "    text-align: left;\n",
       "  }\n",
       "</style><div class='table-result-container'><table class='table-result'><thead style='background-color: white'><tr></tr></thead><tbody></tbody></table></div>"
      ]
     },
     "metadata": {
      "application/vnd.databricks.v1+output": {
       "addedWidgets": {},
       "aggData": [],
       "aggError": "",
       "aggOverflow": false,
       "aggSchema": [],
       "aggSeriesLimitReached": false,
       "aggType": "",
       "arguments": {},
       "columnCustomDisplayInfos": {},
       "data": [],
       "datasetInfos": [],
       "dbfsResultPath": null,
       "isJsonSchema": true,
       "metadata": {},
       "overflow": false,
       "plotOptions": {
        "customPlotOptions": {},
        "displayType": "table",
        "pivotAggregation": null,
        "pivotColumns": null,
        "xColumns": null,
        "yColumns": null
       },
       "removedWidgets": [],
       "schema": [],
       "type": "table"
      }
     },
     "output_type": "display_data"
    }
   ],
   "source": [
    "%sql\n",
    "DROP table if exists EuroTeams;\n",
    "DROP table if exists GroupStage_match;\n",
    "DROP table if exists GroupStandings;\n",
    "DROP table if exists CombinationforThirdPlace;\n",
    "DROP table if exists MatchesFixtures;"
   ]
  },
  {
   "cell_type": "code",
   "execution_count": 0,
   "metadata": {
    "application/vnd.databricks.v1+cell": {
     "cellMetadata": {
      "byteLimit": 2048000,
      "implicitDf": true,
      "rowLimit": 10000
     },
     "inputWidgets": {},
     "nuid": "9e92faeb-4195-4442-8132-a3af74239192",
     "showTitle": false,
     "title": ""
    }
   },
   "outputs": [
    {
     "output_type": "display_data",
     "data": {
      "text/html": [
       "<style scoped>\n",
       "  .table-result-container {\n",
       "    max-height: 300px;\n",
       "    overflow: auto;\n",
       "  }\n",
       "  table, th, td {\n",
       "    border: 1px solid black;\n",
       "    border-collapse: collapse;\n",
       "  }\n",
       "  th, td {\n",
       "    padding: 5px;\n",
       "  }\n",
       "  th {\n",
       "    text-align: left;\n",
       "  }\n",
       "</style><div class='table-result-container'><table class='table-result'><thead style='background-color: white'><tr><th>num_affected_rows</th><th>num_inserted_rows</th></tr></thead><tbody><tr><td>24</td><td>24</td></tr></tbody></table></div>"
      ]
     },
     "metadata": {
      "application/vnd.databricks.v1+output": {
       "addedWidgets": {},
       "aggData": [],
       "aggError": "",
       "aggOverflow": false,
       "aggSchema": [],
       "aggSeriesLimitReached": false,
       "aggType": "",
       "arguments": {},
       "columnCustomDisplayInfos": {},
       "data": [
        [
         24,
         24
        ]
       ],
       "datasetInfos": [],
       "dbfsResultPath": null,
       "isJsonSchema": true,
       "metadata": {},
       "overflow": false,
       "plotOptions": {
        "customPlotOptions": {},
        "displayType": "table",
        "pivotAggregation": null,
        "pivotColumns": null,
        "xColumns": null,
        "yColumns": null
       },
       "removedWidgets": [],
       "schema": [
        {
         "metadata": "{}",
         "name": "num_affected_rows",
         "type": "\"long\""
        },
        {
         "metadata": "{}",
         "name": "num_inserted_rows",
         "type": "\"long\""
        }
       ],
       "type": "table"
      }
     },
     "output_type": "display_data"
    }
   ],
   "source": [
    "%sql\n",
    "CREATE OR REPLACE TABLE EuroTeams(\n",
    "TeamId INTEGER,\n",
    "TeamName VARCHAR(255),\n",
    "GroupName VARCHAR(255)\n",
    ");\n",
    "\n",
    "INSERT INTO EuroTeams(TeamId, TeamName, GroupName)\n",
    "SELECT\n",
    "    TeamId,\n",
    "    TeamName,\n",
    "    CASE\n",
    "        WHEN TeamId <= 4 THEN 'A'\n",
    "        WHEN TeamId <= 8 THEN 'B'\n",
    "        WHEN TeamId <= 12 THEN 'C'\n",
    "        WHEN TeamId <= 16 THEN 'D'\n",
    "        WHEN TeamId <= 20 THEN 'E'\n",
    "        ELSE 'F'\n",
    "    END AS GroupName\n",
    "FROM (\n",
    "    VALUES\n",
    "    (1, 'Germany'),\n",
    "    (2, 'Scotland'),\n",
    "    (3, 'Hungary'),\n",
    "    (4, 'Switzerland'),\n",
    "    (5, 'Spain'),\n",
    "    (6, 'Croatia'),\n",
    "    (7, 'Italy'),\n",
    "    (8, 'Albania'),\n",
    "    (9, 'Slovenia'),\n",
    "    (10, 'Denmark'),\n",
    "    (11, 'Serbia'),\n",
    "    (12, 'England'),\n",
    "    (13, 'Finland'),\n",
    "    (14, 'Netherlands'),\n",
    "    (15, 'Austria'),\n",
    "    (16, 'France'),\n",
    "    (17, 'Belgium'),\n",
    "    (18, 'Slovakia'),\n",
    "    (19, 'Romania'),\n",
    "    (20, 'Ukraine'),\n",
    "    (21, 'Türkiye'),\n",
    "    (22, 'Greece'),\n",
    "    (23, 'Portugal'),\n",
    "    (24, 'Czech')\n",
    ") AS Teams (TeamId, TeamName);\n"
   ]
  },
  {
   "cell_type": "code",
   "execution_count": 0,
   "metadata": {
    "application/vnd.databricks.v1+cell": {
     "cellMetadata": {
      "byteLimit": 2048000,
      "implicitDf": true,
      "rowLimit": 10000
     },
     "inputWidgets": {},
     "nuid": "36a8dda3-d24b-4c07-b85a-b0b2599dd956",
     "showTitle": false,
     "title": ""
    }
   },
   "outputs": [
    {
     "output_type": "display_data",
     "data": {
      "text/html": [
       "<style scoped>\n",
       "  .table-result-container {\n",
       "    max-height: 300px;\n",
       "    overflow: auto;\n",
       "  }\n",
       "  table, th, td {\n",
       "    border: 1px solid black;\n",
       "    border-collapse: collapse;\n",
       "  }\n",
       "  th, td {\n",
       "    padding: 5px;\n",
       "  }\n",
       "  th {\n",
       "    text-align: left;\n",
       "  }\n",
       "</style><div class='table-result-container'><table class='table-result'><thead style='background-color: white'><tr><th>TeamId</th><th>TeamName</th><th>GroupName</th></tr></thead><tbody><tr><td>1</td><td>Germany</td><td>A</td></tr><tr><td>2</td><td>Scotland</td><td>A</td></tr><tr><td>3</td><td>Hungary</td><td>A</td></tr><tr><td>4</td><td>Switzerland</td><td>A</td></tr><tr><td>5</td><td>Spain</td><td>B</td></tr><tr><td>6</td><td>Croatia</td><td>B</td></tr><tr><td>7</td><td>Italy</td><td>B</td></tr><tr><td>8</td><td>Albania</td><td>B</td></tr><tr><td>9</td><td>Slovenia</td><td>C</td></tr><tr><td>10</td><td>Denmark</td><td>C</td></tr><tr><td>11</td><td>Serbia</td><td>C</td></tr><tr><td>12</td><td>England</td><td>C</td></tr><tr><td>13</td><td>Finland</td><td>D</td></tr><tr><td>14</td><td>Netherlands</td><td>D</td></tr><tr><td>15</td><td>Austria</td><td>D</td></tr><tr><td>16</td><td>France</td><td>D</td></tr><tr><td>17</td><td>Belgium</td><td>E</td></tr><tr><td>18</td><td>Slovakia</td><td>E</td></tr><tr><td>19</td><td>Romania</td><td>E</td></tr><tr><td>20</td><td>Ukraine</td><td>E</td></tr><tr><td>21</td><td>Türkiye</td><td>F</td></tr><tr><td>22</td><td>Greece</td><td>F</td></tr><tr><td>23</td><td>Portugal</td><td>F</td></tr><tr><td>24</td><td>Czech</td><td>F</td></tr></tbody></table></div>"
      ]
     },
     "metadata": {
      "application/vnd.databricks.v1+output": {
       "addedWidgets": {},
       "aggData": [],
       "aggError": "",
       "aggOverflow": false,
       "aggSchema": [],
       "aggSeriesLimitReached": false,
       "aggType": "",
       "arguments": {},
       "columnCustomDisplayInfos": {},
       "data": [
        [
         1,
         "Germany",
         "A"
        ],
        [
         2,
         "Scotland",
         "A"
        ],
        [
         3,
         "Hungary",
         "A"
        ],
        [
         4,
         "Switzerland",
         "A"
        ],
        [
         5,
         "Spain",
         "B"
        ],
        [
         6,
         "Croatia",
         "B"
        ],
        [
         7,
         "Italy",
         "B"
        ],
        [
         8,
         "Albania",
         "B"
        ],
        [
         9,
         "Slovenia",
         "C"
        ],
        [
         10,
         "Denmark",
         "C"
        ],
        [
         11,
         "Serbia",
         "C"
        ],
        [
         12,
         "England",
         "C"
        ],
        [
         13,
         "Finland",
         "D"
        ],
        [
         14,
         "Netherlands",
         "D"
        ],
        [
         15,
         "Austria",
         "D"
        ],
        [
         16,
         "France",
         "D"
        ],
        [
         17,
         "Belgium",
         "E"
        ],
        [
         18,
         "Slovakia",
         "E"
        ],
        [
         19,
         "Romania",
         "E"
        ],
        [
         20,
         "Ukraine",
         "E"
        ],
        [
         21,
         "Türkiye",
         "F"
        ],
        [
         22,
         "Greece",
         "F"
        ],
        [
         23,
         "Portugal",
         "F"
        ],
        [
         24,
         "Czech",
         "F"
        ]
       ],
       "datasetInfos": [],
       "dbfsResultPath": null,
       "isJsonSchema": true,
       "metadata": {},
       "overflow": false,
       "plotOptions": {
        "customPlotOptions": {},
        "displayType": "table",
        "pivotAggregation": null,
        "pivotColumns": null,
        "xColumns": null,
        "yColumns": null
       },
       "removedWidgets": [],
       "schema": [
        {
         "metadata": "{}",
         "name": "TeamId",
         "type": "\"integer\""
        },
        {
         "metadata": "{\"__CHAR_VARCHAR_TYPE_STRING\":\"varchar(255)\"}",
         "name": "TeamName",
         "type": "\"string\""
        },
        {
         "metadata": "{\"__CHAR_VARCHAR_TYPE_STRING\":\"varchar(255)\"}",
         "name": "GroupName",
         "type": "\"string\""
        }
       ],
       "type": "table"
      }
     },
     "output_type": "display_data"
    }
   ],
   "source": [
    "%sql\n",
    "Select * from Euroteams"
   ]
  },
  {
   "cell_type": "code",
   "execution_count": 0,
   "metadata": {
    "application/vnd.databricks.v1+cell": {
     "cellMetadata": {
      "byteLimit": 2048000,
      "implicitDf": true,
      "rowLimit": 10000
     },
     "inputWidgets": {},
     "nuid": "d896634e-8d9a-4970-8c5d-73b55f3ed9b7",
     "showTitle": false,
     "title": ""
    }
   },
   "outputs": [
    {
     "output_type": "display_data",
     "data": {
      "text/html": [
       "<style scoped>\n",
       "  .table-result-container {\n",
       "    max-height: 300px;\n",
       "    overflow: auto;\n",
       "  }\n",
       "  table, th, td {\n",
       "    border: 1px solid black;\n",
       "    border-collapse: collapse;\n",
       "  }\n",
       "  th, td {\n",
       "    padding: 5px;\n",
       "  }\n",
       "  th {\n",
       "    text-align: left;\n",
       "  }\n",
       "</style><div class='table-result-container'><table class='table-result'><thead style='background-color: white'><tr><th>TeamId</th><th>TeamName</th><th>GroupName</th></tr></thead><tbody><tr><td>1</td><td>Germany</td><td>A</td></tr><tr><td>2</td><td>Scotland</td><td>A</td></tr><tr><td>3</td><td>Hungary</td><td>A</td></tr><tr><td>4</td><td>Switzerland</td><td>A</td></tr></tbody></table></div>"
      ]
     },
     "metadata": {
      "application/vnd.databricks.v1+output": {
       "addedWidgets": {},
       "aggData": [],
       "aggError": "",
       "aggOverflow": false,
       "aggSchema": [],
       "aggSeriesLimitReached": false,
       "aggType": "",
       "arguments": {},
       "columnCustomDisplayInfos": {},
       "data": [
        [
         1,
         "Germany",
         "A"
        ],
        [
         2,
         "Scotland",
         "A"
        ],
        [
         3,
         "Hungary",
         "A"
        ],
        [
         4,
         "Switzerland",
         "A"
        ]
       ],
       "datasetInfos": [],
       "dbfsResultPath": null,
       "isJsonSchema": true,
       "metadata": {},
       "overflow": false,
       "plotOptions": {
        "customPlotOptions": {},
        "displayType": "table",
        "pivotAggregation": null,
        "pivotColumns": null,
        "xColumns": null,
        "yColumns": null
       },
       "removedWidgets": [],
       "schema": [
        {
         "metadata": "{}",
         "name": "TeamId",
         "type": "\"integer\""
        },
        {
         "metadata": "{\"__CHAR_VARCHAR_TYPE_STRING\":\"varchar(255)\"}",
         "name": "TeamName",
         "type": "\"string\""
        },
        {
         "metadata": "{\"__CHAR_VARCHAR_TYPE_STRING\":\"varchar(255)\"}",
         "name": "GroupName",
         "type": "\"string\""
        }
       ],
       "type": "table"
      }
     },
     "output_type": "display_data"
    }
   ],
   "source": [
    "%sql\n",
    "SELECT *\n",
    "FROM Euroteams\n",
    "WHERE GroupName = 'A';"
   ]
  },
  {
   "cell_type": "code",
   "execution_count": 0,
   "metadata": {
    "application/vnd.databricks.v1+cell": {
     "cellMetadata": {
      "byteLimit": 2048000,
      "implicitDf": true,
      "rowLimit": 10000
     },
     "inputWidgets": {},
     "nuid": "1b56eb96-84cc-42f8-a25d-abfe927a1c58",
     "showTitle": false,
     "title": ""
    }
   },
   "outputs": [
    {
     "output_type": "display_data",
     "data": {
      "text/html": [
       "<style scoped>\n",
       "  .table-result-container {\n",
       "    max-height: 300px;\n",
       "    overflow: auto;\n",
       "  }\n",
       "  table, th, td {\n",
       "    border: 1px solid black;\n",
       "    border-collapse: collapse;\n",
       "  }\n",
       "  th, td {\n",
       "    padding: 5px;\n",
       "  }\n",
       "  th {\n",
       "    text-align: left;\n",
       "  }\n",
       "</style><div class='table-result-container'><table class='table-result'><thead style='background-color: white'><tr><th>num_affected_rows</th><th>num_inserted_rows</th></tr></thead><tbody><tr><td>36</td><td>36</td></tr></tbody></table></div>"
      ]
     },
     "metadata": {
      "application/vnd.databricks.v1+output": {
       "addedWidgets": {},
       "aggData": [],
       "aggError": "",
       "aggOverflow": false,
       "aggSchema": [],
       "aggSeriesLimitReached": false,
       "aggType": "",
       "arguments": {},
       "columnCustomDisplayInfos": {},
       "data": [
        [
         36,
         36
        ]
       ],
       "datasetInfos": [],
       "dbfsResultPath": null,
       "isJsonSchema": true,
       "metadata": {},
       "overflow": false,
       "plotOptions": {
        "customPlotOptions": {},
        "displayType": "table",
        "pivotAggregation": null,
        "pivotColumns": null,
        "xColumns": null,
        "yColumns": null
       },
       "removedWidgets": [],
       "schema": [
        {
         "metadata": "{}",
         "name": "num_affected_rows",
         "type": "\"long\""
        },
        {
         "metadata": "{}",
         "name": "num_inserted_rows",
         "type": "\"long\""
        }
       ],
       "type": "table"
      }
     },
     "output_type": "display_data"
    }
   ],
   "source": [
    "%sql\n",
    "-- Create the GroupStageMatch table\n",
    "CREATE OR REPLACE TABLE GroupStage_match(\n",
    "    MatchId INTEGER,\n",
    "    Team1 VARCHAR(255),\n",
    "    Team2 VARCHAR(255),\n",
    "    Team1Score INTEGER,\n",
    "    Team2Score INTEGER,\n",
    "    Result VARCHAR(5),\n",
    "    MatchWinner VARCHAR(255),\n",
    "    MatchStatus VARCHAR(20)\n",
    ");\n",
    "\n",
    "-- Insert data into the GroupStageMatch table\n",
    "INSERT INTO GroupStage_match (MatchId, Team1, Team2, Team1Score, Team2Score, Result, MatchWinner, MatchStatus)\n",
    "SELECT DISTINCT\n",
    "    ROW_NUMBER() OVER (ORDER BY t1.TeamId) AS MatchId,\n",
    "    t1.TeamName AS Team1,\n",
    "    t2.TeamName AS Team2,\n",
    "    (SELECT FLOOR(RAND() * 6) + 1) AS Team1Score,\n",
    "    (SELECT FLOOR(RAND() * 6) + 1) AS Team2Score,\n",
    "    CONCAT(Team1Score, '-', Team2Score) AS Result,\n",
    "    CASE\n",
    "        WHEN Team1Score > Team2Score THEN t1.TeamName\n",
    "        WHEN Team1Score < Team2Score THEN t2.TeamName\n",
    "        ELSE 'draw'\n",
    "    END AS MatchWinner,\n",
    "    'completed' AS MatchStatus\n",
    "FROM\n",
    "    Euroteams t1\n",
    "JOIN\n",
    "    Euroteams t2 ON t1.GroupName = t2.GroupName AND t1.TeamId < t2.TeamId\n",
    "ORDER BY MatchId; \n"
   ]
  },
  {
   "cell_type": "code",
   "execution_count": 0,
   "metadata": {
    "application/vnd.databricks.v1+cell": {
     "cellMetadata": {
      "byteLimit": 2048000,
      "implicitDf": true,
      "rowLimit": 10000
     },
     "inputWidgets": {},
     "nuid": "78f0ece9-14af-4f5f-8550-7c2d46d4d551",
     "showTitle": false,
     "title": ""
    }
   },
   "outputs": [
    {
     "output_type": "display_data",
     "data": {
      "text/html": [
       "<style scoped>\n",
       "  .table-result-container {\n",
       "    max-height: 300px;\n",
       "    overflow: auto;\n",
       "  }\n",
       "  table, th, td {\n",
       "    border: 1px solid black;\n",
       "    border-collapse: collapse;\n",
       "  }\n",
       "  th, td {\n",
       "    padding: 5px;\n",
       "  }\n",
       "  th {\n",
       "    text-align: left;\n",
       "  }\n",
       "</style><div class='table-result-container'><table class='table-result'><thead style='background-color: white'><tr><th>MatchId</th><th>Team1</th><th>Team2</th><th>Team1Score</th><th>Team2Score</th><th>Result</th><th>MatchWinner</th><th>MatchStatus</th></tr></thead><tbody><tr><td>1</td><td>Germany</td><td>Switzerland</td><td>2</td><td>4</td><td>2-4</td><td>Switzerland</td><td>completed</td></tr><tr><td>2</td><td>Germany</td><td>Hungary</td><td>4</td><td>5</td><td>4-5</td><td>Hungary</td><td>completed</td></tr><tr><td>3</td><td>Germany</td><td>Scotland</td><td>2</td><td>3</td><td>2-3</td><td>Scotland</td><td>completed</td></tr><tr><td>4</td><td>Scotland</td><td>Switzerland</td><td>3</td><td>3</td><td>3-3</td><td>draw</td><td>completed</td></tr><tr><td>5</td><td>Scotland</td><td>Hungary</td><td>6</td><td>3</td><td>6-3</td><td>Scotland</td><td>completed</td></tr><tr><td>6</td><td>Hungary</td><td>Switzerland</td><td>6</td><td>2</td><td>6-2</td><td>Hungary</td><td>completed</td></tr><tr><td>7</td><td>Spain</td><td>Albania</td><td>4</td><td>5</td><td>4-5</td><td>Albania</td><td>completed</td></tr><tr><td>8</td><td>Spain</td><td>Italy</td><td>6</td><td>5</td><td>6-5</td><td>Spain</td><td>completed</td></tr><tr><td>9</td><td>Spain</td><td>Croatia</td><td>2</td><td>5</td><td>2-5</td><td>Croatia</td><td>completed</td></tr><tr><td>10</td><td>Croatia</td><td>Albania</td><td>2</td><td>6</td><td>2-6</td><td>Albania</td><td>completed</td></tr><tr><td>11</td><td>Croatia</td><td>Italy</td><td>3</td><td>4</td><td>3-4</td><td>Italy</td><td>completed</td></tr><tr><td>12</td><td>Italy</td><td>Albania</td><td>3</td><td>2</td><td>3-2</td><td>Italy</td><td>completed</td></tr><tr><td>13</td><td>Slovenia</td><td>England</td><td>1</td><td>1</td><td>1-1</td><td>draw</td><td>completed</td></tr><tr><td>14</td><td>Slovenia</td><td>Serbia</td><td>1</td><td>1</td><td>1-1</td><td>draw</td><td>completed</td></tr><tr><td>15</td><td>Slovenia</td><td>Denmark</td><td>6</td><td>6</td><td>6-6</td><td>draw</td><td>completed</td></tr><tr><td>16</td><td>Denmark</td><td>England</td><td>4</td><td>3</td><td>4-3</td><td>Denmark</td><td>completed</td></tr><tr><td>17</td><td>Denmark</td><td>Serbia</td><td>3</td><td>3</td><td>3-3</td><td>draw</td><td>completed</td></tr><tr><td>18</td><td>Serbia</td><td>England</td><td>4</td><td>1</td><td>4-1</td><td>Serbia</td><td>completed</td></tr><tr><td>19</td><td>Finland</td><td>France</td><td>5</td><td>4</td><td>5-4</td><td>Finland</td><td>completed</td></tr><tr><td>20</td><td>Finland</td><td>Austria</td><td>1</td><td>4</td><td>1-4</td><td>Austria</td><td>completed</td></tr><tr><td>21</td><td>Finland</td><td>Netherlands</td><td>3</td><td>6</td><td>3-6</td><td>Netherlands</td><td>completed</td></tr><tr><td>22</td><td>Netherlands</td><td>France</td><td>2</td><td>1</td><td>2-1</td><td>Netherlands</td><td>completed</td></tr><tr><td>23</td><td>Netherlands</td><td>Austria</td><td>4</td><td>5</td><td>4-5</td><td>Austria</td><td>completed</td></tr><tr><td>24</td><td>Austria</td><td>France</td><td>1</td><td>1</td><td>1-1</td><td>draw</td><td>completed</td></tr><tr><td>25</td><td>Belgium</td><td>Ukraine</td><td>3</td><td>1</td><td>3-1</td><td>Belgium</td><td>completed</td></tr><tr><td>26</td><td>Belgium</td><td>Romania</td><td>3</td><td>5</td><td>3-5</td><td>Romania</td><td>completed</td></tr><tr><td>27</td><td>Belgium</td><td>Slovakia</td><td>2</td><td>6</td><td>2-6</td><td>Slovakia</td><td>completed</td></tr><tr><td>28</td><td>Slovakia</td><td>Ukraine</td><td>2</td><td>2</td><td>2-2</td><td>draw</td><td>completed</td></tr><tr><td>29</td><td>Slovakia</td><td>Romania</td><td>5</td><td>1</td><td>5-1</td><td>Slovakia</td><td>completed</td></tr><tr><td>30</td><td>Romania</td><td>Ukraine</td><td>2</td><td>5</td><td>2-5</td><td>Ukraine</td><td>completed</td></tr><tr><td>31</td><td>Türkiye</td><td>Czech</td><td>1</td><td>3</td><td>1-3</td><td>Czech</td><td>completed</td></tr><tr><td>32</td><td>Türkiye</td><td>Portugal</td><td>4</td><td>1</td><td>4-1</td><td>Türkiye</td><td>completed</td></tr><tr><td>33</td><td>Türkiye</td><td>Greece</td><td>6</td><td>3</td><td>6-3</td><td>Türkiye</td><td>completed</td></tr><tr><td>34</td><td>Greece</td><td>Czech</td><td>4</td><td>5</td><td>4-5</td><td>Czech</td><td>completed</td></tr><tr><td>35</td><td>Greece</td><td>Portugal</td><td>5</td><td>4</td><td>5-4</td><td>Greece</td><td>completed</td></tr><tr><td>36</td><td>Portugal</td><td>Czech</td><td>1</td><td>6</td><td>1-6</td><td>Czech</td><td>completed</td></tr></tbody></table></div>"
      ]
     },
     "metadata": {
      "application/vnd.databricks.v1+output": {
       "addedWidgets": {},
       "aggData": [],
       "aggError": "",
       "aggOverflow": false,
       "aggSchema": [],
       "aggSeriesLimitReached": false,
       "aggType": "",
       "arguments": {},
       "columnCustomDisplayInfos": {},
       "data": [
        [
         1,
         "Germany",
         "Switzerland",
         2,
         4,
         "2-4",
         "Switzerland",
         "completed"
        ],
        [
         2,
         "Germany",
         "Hungary",
         4,
         5,
         "4-5",
         "Hungary",
         "completed"
        ],
        [
         3,
         "Germany",
         "Scotland",
         2,
         3,
         "2-3",
         "Scotland",
         "completed"
        ],
        [
         4,
         "Scotland",
         "Switzerland",
         3,
         3,
         "3-3",
         "draw",
         "completed"
        ],
        [
         5,
         "Scotland",
         "Hungary",
         6,
         3,
         "6-3",
         "Scotland",
         "completed"
        ],
        [
         6,
         "Hungary",
         "Switzerland",
         6,
         2,
         "6-2",
         "Hungary",
         "completed"
        ],
        [
         7,
         "Spain",
         "Albania",
         4,
         5,
         "4-5",
         "Albania",
         "completed"
        ],
        [
         8,
         "Spain",
         "Italy",
         6,
         5,
         "6-5",
         "Spain",
         "completed"
        ],
        [
         9,
         "Spain",
         "Croatia",
         2,
         5,
         "2-5",
         "Croatia",
         "completed"
        ],
        [
         10,
         "Croatia",
         "Albania",
         2,
         6,
         "2-6",
         "Albania",
         "completed"
        ],
        [
         11,
         "Croatia",
         "Italy",
         3,
         4,
         "3-4",
         "Italy",
         "completed"
        ],
        [
         12,
         "Italy",
         "Albania",
         3,
         2,
         "3-2",
         "Italy",
         "completed"
        ],
        [
         13,
         "Slovenia",
         "England",
         1,
         1,
         "1-1",
         "draw",
         "completed"
        ],
        [
         14,
         "Slovenia",
         "Serbia",
         1,
         1,
         "1-1",
         "draw",
         "completed"
        ],
        [
         15,
         "Slovenia",
         "Denmark",
         6,
         6,
         "6-6",
         "draw",
         "completed"
        ],
        [
         16,
         "Denmark",
         "England",
         4,
         3,
         "4-3",
         "Denmark",
         "completed"
        ],
        [
         17,
         "Denmark",
         "Serbia",
         3,
         3,
         "3-3",
         "draw",
         "completed"
        ],
        [
         18,
         "Serbia",
         "England",
         4,
         1,
         "4-1",
         "Serbia",
         "completed"
        ],
        [
         19,
         "Finland",
         "France",
         5,
         4,
         "5-4",
         "Finland",
         "completed"
        ],
        [
         20,
         "Finland",
         "Austria",
         1,
         4,
         "1-4",
         "Austria",
         "completed"
        ],
        [
         21,
         "Finland",
         "Netherlands",
         3,
         6,
         "3-6",
         "Netherlands",
         "completed"
        ],
        [
         22,
         "Netherlands",
         "France",
         2,
         1,
         "2-1",
         "Netherlands",
         "completed"
        ],
        [
         23,
         "Netherlands",
         "Austria",
         4,
         5,
         "4-5",
         "Austria",
         "completed"
        ],
        [
         24,
         "Austria",
         "France",
         1,
         1,
         "1-1",
         "draw",
         "completed"
        ],
        [
         25,
         "Belgium",
         "Ukraine",
         3,
         1,
         "3-1",
         "Belgium",
         "completed"
        ],
        [
         26,
         "Belgium",
         "Romania",
         3,
         5,
         "3-5",
         "Romania",
         "completed"
        ],
        [
         27,
         "Belgium",
         "Slovakia",
         2,
         6,
         "2-6",
         "Slovakia",
         "completed"
        ],
        [
         28,
         "Slovakia",
         "Ukraine",
         2,
         2,
         "2-2",
         "draw",
         "completed"
        ],
        [
         29,
         "Slovakia",
         "Romania",
         5,
         1,
         "5-1",
         "Slovakia",
         "completed"
        ],
        [
         30,
         "Romania",
         "Ukraine",
         2,
         5,
         "2-5",
         "Ukraine",
         "completed"
        ],
        [
         31,
         "Türkiye",
         "Czech",
         1,
         3,
         "1-3",
         "Czech",
         "completed"
        ],
        [
         32,
         "Türkiye",
         "Portugal",
         4,
         1,
         "4-1",
         "Türkiye",
         "completed"
        ],
        [
         33,
         "Türkiye",
         "Greece",
         6,
         3,
         "6-3",
         "Türkiye",
         "completed"
        ],
        [
         34,
         "Greece",
         "Czech",
         4,
         5,
         "4-5",
         "Czech",
         "completed"
        ],
        [
         35,
         "Greece",
         "Portugal",
         5,
         4,
         "5-4",
         "Greece",
         "completed"
        ],
        [
         36,
         "Portugal",
         "Czech",
         1,
         6,
         "1-6",
         "Czech",
         "completed"
        ]
       ],
       "datasetInfos": [],
       "dbfsResultPath": null,
       "isJsonSchema": true,
       "metadata": {},
       "overflow": false,
       "plotOptions": {
        "customPlotOptions": {},
        "displayType": "table",
        "pivotAggregation": null,
        "pivotColumns": null,
        "xColumns": null,
        "yColumns": null
       },
       "removedWidgets": [],
       "schema": [
        {
         "metadata": "{}",
         "name": "MatchId",
         "type": "\"integer\""
        },
        {
         "metadata": "{\"__CHAR_VARCHAR_TYPE_STRING\":\"varchar(255)\"}",
         "name": "Team1",
         "type": "\"string\""
        },
        {
         "metadata": "{\"__CHAR_VARCHAR_TYPE_STRING\":\"varchar(255)\"}",
         "name": "Team2",
         "type": "\"string\""
        },
        {
         "metadata": "{}",
         "name": "Team1Score",
         "type": "\"integer\""
        },
        {
         "metadata": "{}",
         "name": "Team2Score",
         "type": "\"integer\""
        },
        {
         "metadata": "{\"__CHAR_VARCHAR_TYPE_STRING\":\"varchar(5)\"}",
         "name": "Result",
         "type": "\"string\""
        },
        {
         "metadata": "{\"__CHAR_VARCHAR_TYPE_STRING\":\"varchar(255)\"}",
         "name": "MatchWinner",
         "type": "\"string\""
        },
        {
         "metadata": "{\"__CHAR_VARCHAR_TYPE_STRING\":\"varchar(20)\"}",
         "name": "MatchStatus",
         "type": "\"string\""
        }
       ],
       "type": "table"
      }
     },
     "output_type": "display_data"
    }
   ],
   "source": [
    "%sql\n",
    "Select * from  GroupStage_match"
   ]
  },
  {
   "cell_type": "markdown",
   "metadata": {
    "application/vnd.databricks.v1+cell": {
     "cellMetadata": {
      "byteLimit": 2048000,
      "rowLimit": 10000
     },
     "inputWidgets": {},
     "nuid": "5d931095-cf07-4f55-abec-138f4e65eb20",
     "showTitle": false,
     "title": ""
    }
   },
   "source": [
    "Creating the group standings or rankings"
   ]
  },
  {
   "cell_type": "code",
   "execution_count": 0,
   "metadata": {
    "application/vnd.databricks.v1+cell": {
     "cellMetadata": {
      "byteLimit": 2048000,
      "implicitDf": true,
      "rowLimit": 10000
     },
     "inputWidgets": {},
     "nuid": "709c6783-32b1-47de-a989-7d6cea5981f6",
     "showTitle": false,
     "title": ""
    }
   },
   "outputs": [
    {
     "output_type": "display_data",
     "data": {
      "text/html": [
       "<style scoped>\n",
       "  .table-result-container {\n",
       "    max-height: 300px;\n",
       "    overflow: auto;\n",
       "  }\n",
       "  table, th, td {\n",
       "    border: 1px solid black;\n",
       "    border-collapse: collapse;\n",
       "  }\n",
       "  th, td {\n",
       "    padding: 5px;\n",
       "  }\n",
       "  th {\n",
       "    text-align: left;\n",
       "  }\n",
       "</style><div class='table-result-container'><table class='table-result'><thead style='background-color: white'><tr><th>num_affected_rows</th><th>num_updated_rows</th><th>num_deleted_rows</th><th>num_inserted_rows</th></tr></thead><tbody><tr><td>24</td><td>24</td><td>0</td><td>0</td></tr></tbody></table></div>"
      ]
     },
     "metadata": {
      "application/vnd.databricks.v1+output": {
       "addedWidgets": {},
       "aggData": [],
       "aggError": "",
       "aggOverflow": false,
       "aggSchema": [],
       "aggSeriesLimitReached": false,
       "aggType": "",
       "arguments": {},
       "columnCustomDisplayInfos": {},
       "data": [
        [
         24,
         24,
         0,
         0
        ]
       ],
       "datasetInfos": [],
       "dbfsResultPath": null,
       "isJsonSchema": true,
       "metadata": {},
       "overflow": false,
       "plotOptions": {
        "customPlotOptions": {},
        "displayType": "table",
        "pivotAggregation": null,
        "pivotColumns": null,
        "xColumns": null,
        "yColumns": null
       },
       "removedWidgets": [],
       "schema": [
        {
         "metadata": "{}",
         "name": "num_affected_rows",
         "type": "\"long\""
        },
        {
         "metadata": "{}",
         "name": "num_updated_rows",
         "type": "\"long\""
        },
        {
         "metadata": "{}",
         "name": "num_deleted_rows",
         "type": "\"long\""
        },
        {
         "metadata": "{}",
         "name": "num_inserted_rows",
         "type": "\"long\""
        }
       ],
       "type": "table"
      }
     },
     "output_type": "display_data"
    }
   ],
   "source": [
    "%sql\n",
    "-- Ensure that the table exists with the correct schema\n",
    "CREATE or REPLACE TABLE GroupStandings (\n",
    "    TeamId INTEGER,\n",
    "    TeamName VARCHAR(255),\n",
    "    GroupName VARCHAR(255),\n",
    "    MatchesPlayed INTEGER, \n",
    "    Wins INTEGER, \n",
    "    Draws INTEGER, \n",
    "    Losses INTEGER,\n",
    "    GoalsFor INTEGER, \n",
    "    GoalsAgainst INTEGER, \n",
    "    GoalDifference INTEGER, \n",
    "    Points INTEGER,\n",
    "    Rankings INTEGER\n",
    ");\n",
    "\n",
    "-- Calculate wins, draws, and losses for each team\n",
    "WITH MatchResults AS (\n",
    "    SELECT\n",
    "        Team1 AS TeamName,\n",
    "        CASE\n",
    "            WHEN MatchWinner = Team1 THEN 1 \n",
    "            ELSE 0\n",
    "        END AS Wins,\n",
    "        CASE\n",
    "            WHEN MatchWinner = 'draw' THEN 1\n",
    "            ELSE 0 \n",
    "        END AS Draws,\n",
    "        Team1Score AS GoalsFor,\n",
    "        Team2Score AS GoalsAgainst\n",
    "    FROM GroupStage_match\n",
    "    UNION ALL\n",
    "    SELECT\n",
    "        Team2 AS TeamName,\n",
    "        CASE\n",
    "            WHEN MatchWinner = Team2 THEN 1\n",
    "            ELSE 0 \n",
    "        END AS Wins,\n",
    "        CASE\n",
    "            WHEN MatchWinner = 'draw' THEN 1\n",
    "            ELSE 0 \n",
    "        END AS Draws,\n",
    "        Team2Score AS GoalsFor,\n",
    "        Team1Score AS GoalsAgainst\n",
    "    FROM GroupStage_match\n",
    ")\n",
    "INSERT INTO GroupStandings (TeamId, TeamName, GroupName, MatchesPlayed, Wins, Draws, Losses, GoalsFor, GoalsAgainst, GoalDifference, Points, Rankings)\n",
    "SELECT\n",
    "    t.TeamId,\n",
    "    t.TeamName,\n",
    "    t.GroupName,\n",
    "    COUNT(M.Wins) AS MatchesPlayed,\n",
    "    SUM(M.Wins) AS Wins,\n",
    "    SUM(M.Draws) AS Draws,\n",
    "    COUNT(*) - SUM(M.Wins) - SUM(M.Draws) AS Losses,\n",
    "    SUM(M.GoalsFor) AS GoalsFor,\n",
    "    SUM(M.GoalsAgainst) AS GoalsAgainst,\n",
    "    SUM(M.GoalsFor - M.GoalsAgainst) AS GoalDifference,\n",
    "    (SUM(M.Wins) * 3) + SUM(M.Draws) AS Points,\n",
    "    0 as Rankings\n",
    "FROM Euroteams t\n",
    "LEFT JOIN MatchResults M ON t.TeamName = M.TeamName\n",
    "GROUP BY t.TeamId, t.TeamName, t.GroupName;\n",
    "\n",
    "\n",
    "WITH RankedTeams AS (\n",
    "SELECT\n",
    "TeamName,\n",
    "row_number() OVER (PARTITION BY GroupName ORDER BY Points DESC, GoalDifference DESC, GoalsFor DESC, Wins DESC) AS GroupRank\n",
    "FROM GroupStandings\n",
    ")\n",
    "MERGE INTO GroupStandings gs\n",
    "USING RankedTeams rt\n",
    "ON gs. TeamName = rt. TeamName\n",
    "WHEN MATCHED THEN UPDATE SET gs.Rankings = rt.GroupRank;"
   ]
  },
  {
   "cell_type": "code",
   "execution_count": 0,
   "metadata": {
    "application/vnd.databricks.v1+cell": {
     "cellMetadata": {
      "byteLimit": 2048000,
      "implicitDf": true,
      "rowLimit": 10000
     },
     "inputWidgets": {},
     "nuid": "f1205121-156d-4151-9d5e-58007d5e9cf4",
     "showTitle": false,
     "title": ""
    }
   },
   "outputs": [
    {
     "output_type": "display_data",
     "data": {
      "text/html": [
       "<style scoped>\n",
       "  .table-result-container {\n",
       "    max-height: 300px;\n",
       "    overflow: auto;\n",
       "  }\n",
       "  table, th, td {\n",
       "    border: 1px solid black;\n",
       "    border-collapse: collapse;\n",
       "  }\n",
       "  th, td {\n",
       "    padding: 5px;\n",
       "  }\n",
       "  th {\n",
       "    text-align: left;\n",
       "  }\n",
       "</style><div class='table-result-container'><table class='table-result'><thead style='background-color: white'><tr><th>TeamId</th><th>TeamName</th><th>GroupName</th><th>MatchesPlayed</th><th>Wins</th><th>Draws</th><th>Losses</th><th>GoalsFor</th><th>GoalsAgainst</th><th>GoalDifference</th><th>Points</th><th>Rankings</th></tr></thead><tbody><tr><td>2</td><td>Scotland</td><td>A</td><td>3</td><td>2</td><td>1</td><td>0</td><td>12</td><td>8</td><td>4</td><td>7</td><td>1</td></tr><tr><td>3</td><td>Hungary</td><td>A</td><td>3</td><td>2</td><td>0</td><td>1</td><td>14</td><td>12</td><td>2</td><td>6</td><td>2</td></tr><tr><td>4</td><td>Switzerland</td><td>A</td><td>3</td><td>1</td><td>1</td><td>1</td><td>9</td><td>11</td><td>-2</td><td>4</td><td>3</td></tr><tr><td>1</td><td>Germany</td><td>A</td><td>3</td><td>0</td><td>0</td><td>3</td><td>8</td><td>12</td><td>-4</td><td>0</td><td>4</td></tr><tr><td>8</td><td>Albania</td><td>B</td><td>3</td><td>2</td><td>0</td><td>1</td><td>13</td><td>9</td><td>4</td><td>6</td><td>1</td></tr><tr><td>7</td><td>Italy</td><td>B</td><td>3</td><td>2</td><td>0</td><td>1</td><td>12</td><td>11</td><td>1</td><td>6</td><td>2</td></tr><tr><td>6</td><td>Croatia</td><td>B</td><td>3</td><td>1</td><td>0</td><td>2</td><td>10</td><td>12</td><td>-2</td><td>3</td><td>3</td></tr><tr><td>5</td><td>Spain</td><td>B</td><td>3</td><td>1</td><td>0</td><td>2</td><td>12</td><td>15</td><td>-3</td><td>3</td><td>4</td></tr><tr><td>11</td><td>Serbia</td><td>C</td><td>3</td><td>1</td><td>2</td><td>0</td><td>8</td><td>5</td><td>3</td><td>5</td><td>1</td></tr><tr><td>10</td><td>Denmark</td><td>C</td><td>3</td><td>1</td><td>2</td><td>0</td><td>13</td><td>12</td><td>1</td><td>5</td><td>2</td></tr><tr><td>9</td><td>Slovenia</td><td>C</td><td>3</td><td>0</td><td>3</td><td>0</td><td>8</td><td>8</td><td>0</td><td>3</td><td>3</td></tr><tr><td>12</td><td>England</td><td>C</td><td>3</td><td>0</td><td>1</td><td>2</td><td>5</td><td>9</td><td>-4</td><td>1</td><td>4</td></tr><tr><td>15</td><td>Austria</td><td>D</td><td>3</td><td>2</td><td>1</td><td>0</td><td>10</td><td>6</td><td>4</td><td>7</td><td>1</td></tr><tr><td>14</td><td>Netherlands</td><td>D</td><td>3</td><td>2</td><td>0</td><td>1</td><td>12</td><td>9</td><td>3</td><td>6</td><td>2</td></tr><tr><td>13</td><td>Finland</td><td>D</td><td>3</td><td>1</td><td>0</td><td>2</td><td>9</td><td>14</td><td>-5</td><td>3</td><td>3</td></tr><tr><td>16</td><td>France</td><td>D</td><td>3</td><td>0</td><td>1</td><td>2</td><td>6</td><td>8</td><td>-2</td><td>1</td><td>4</td></tr><tr><td>18</td><td>Slovakia</td><td>E</td><td>3</td><td>2</td><td>1</td><td>0</td><td>13</td><td>5</td><td>8</td><td>7</td><td>1</td></tr><tr><td>20</td><td>Ukraine</td><td>E</td><td>3</td><td>1</td><td>1</td><td>1</td><td>8</td><td>7</td><td>1</td><td>4</td><td>2</td></tr><tr><td>17</td><td>Belgium</td><td>E</td><td>3</td><td>1</td><td>0</td><td>2</td><td>8</td><td>12</td><td>-4</td><td>3</td><td>3</td></tr><tr><td>19</td><td>Romania</td><td>E</td><td>3</td><td>1</td><td>0</td><td>2</td><td>8</td><td>13</td><td>-5</td><td>3</td><td>4</td></tr><tr><td>24</td><td>Czech</td><td>F</td><td>3</td><td>3</td><td>0</td><td>0</td><td>14</td><td>6</td><td>8</td><td>9</td><td>1</td></tr><tr><td>21</td><td>Türkiye</td><td>F</td><td>3</td><td>2</td><td>0</td><td>1</td><td>11</td><td>7</td><td>4</td><td>6</td><td>2</td></tr><tr><td>22</td><td>Greece</td><td>F</td><td>3</td><td>1</td><td>0</td><td>2</td><td>12</td><td>15</td><td>-3</td><td>3</td><td>3</td></tr><tr><td>23</td><td>Portugal</td><td>F</td><td>3</td><td>0</td><td>0</td><td>3</td><td>6</td><td>15</td><td>-9</td><td>0</td><td>4</td></tr></tbody></table></div>"
      ]
     },
     "metadata": {
      "application/vnd.databricks.v1+output": {
       "addedWidgets": {},
       "aggData": [],
       "aggError": "",
       "aggOverflow": false,
       "aggSchema": [],
       "aggSeriesLimitReached": false,
       "aggType": "",
       "arguments": {},
       "columnCustomDisplayInfos": {},
       "data": [
        [
         2,
         "Scotland",
         "A",
         3,
         2,
         1,
         0,
         12,
         8,
         4,
         7,
         1
        ],
        [
         3,
         "Hungary",
         "A",
         3,
         2,
         0,
         1,
         14,
         12,
         2,
         6,
         2
        ],
        [
         4,
         "Switzerland",
         "A",
         3,
         1,
         1,
         1,
         9,
         11,
         -2,
         4,
         3
        ],
        [
         1,
         "Germany",
         "A",
         3,
         0,
         0,
         3,
         8,
         12,
         -4,
         0,
         4
        ],
        [
         8,
         "Albania",
         "B",
         3,
         2,
         0,
         1,
         13,
         9,
         4,
         6,
         1
        ],
        [
         7,
         "Italy",
         "B",
         3,
         2,
         0,
         1,
         12,
         11,
         1,
         6,
         2
        ],
        [
         6,
         "Croatia",
         "B",
         3,
         1,
         0,
         2,
         10,
         12,
         -2,
         3,
         3
        ],
        [
         5,
         "Spain",
         "B",
         3,
         1,
         0,
         2,
         12,
         15,
         -3,
         3,
         4
        ],
        [
         11,
         "Serbia",
         "C",
         3,
         1,
         2,
         0,
         8,
         5,
         3,
         5,
         1
        ],
        [
         10,
         "Denmark",
         "C",
         3,
         1,
         2,
         0,
         13,
         12,
         1,
         5,
         2
        ],
        [
         9,
         "Slovenia",
         "C",
         3,
         0,
         3,
         0,
         8,
         8,
         0,
         3,
         3
        ],
        [
         12,
         "England",
         "C",
         3,
         0,
         1,
         2,
         5,
         9,
         -4,
         1,
         4
        ],
        [
         15,
         "Austria",
         "D",
         3,
         2,
         1,
         0,
         10,
         6,
         4,
         7,
         1
        ],
        [
         14,
         "Netherlands",
         "D",
         3,
         2,
         0,
         1,
         12,
         9,
         3,
         6,
         2
        ],
        [
         13,
         "Finland",
         "D",
         3,
         1,
         0,
         2,
         9,
         14,
         -5,
         3,
         3
        ],
        [
         16,
         "France",
         "D",
         3,
         0,
         1,
         2,
         6,
         8,
         -2,
         1,
         4
        ],
        [
         18,
         "Slovakia",
         "E",
         3,
         2,
         1,
         0,
         13,
         5,
         8,
         7,
         1
        ],
        [
         20,
         "Ukraine",
         "E",
         3,
         1,
         1,
         1,
         8,
         7,
         1,
         4,
         2
        ],
        [
         17,
         "Belgium",
         "E",
         3,
         1,
         0,
         2,
         8,
         12,
         -4,
         3,
         3
        ],
        [
         19,
         "Romania",
         "E",
         3,
         1,
         0,
         2,
         8,
         13,
         -5,
         3,
         4
        ],
        [
         24,
         "Czech",
         "F",
         3,
         3,
         0,
         0,
         14,
         6,
         8,
         9,
         1
        ],
        [
         21,
         "Türkiye",
         "F",
         3,
         2,
         0,
         1,
         11,
         7,
         4,
         6,
         2
        ],
        [
         22,
         "Greece",
         "F",
         3,
         1,
         0,
         2,
         12,
         15,
         -3,
         3,
         3
        ],
        [
         23,
         "Portugal",
         "F",
         3,
         0,
         0,
         3,
         6,
         15,
         -9,
         0,
         4
        ]
       ],
       "datasetInfos": [],
       "dbfsResultPath": null,
       "isJsonSchema": true,
       "metadata": {},
       "overflow": false,
       "plotOptions": {
        "customPlotOptions": {},
        "displayType": "table",
        "pivotAggregation": null,
        "pivotColumns": null,
        "xColumns": null,
        "yColumns": null
       },
       "removedWidgets": [],
       "schema": [
        {
         "metadata": "{}",
         "name": "TeamId",
         "type": "\"integer\""
        },
        {
         "metadata": "{\"__CHAR_VARCHAR_TYPE_STRING\":\"varchar(255)\"}",
         "name": "TeamName",
         "type": "\"string\""
        },
        {
         "metadata": "{\"__CHAR_VARCHAR_TYPE_STRING\":\"varchar(255)\"}",
         "name": "GroupName",
         "type": "\"string\""
        },
        {
         "metadata": "{}",
         "name": "MatchesPlayed",
         "type": "\"integer\""
        },
        {
         "metadata": "{}",
         "name": "Wins",
         "type": "\"integer\""
        },
        {
         "metadata": "{}",
         "name": "Draws",
         "type": "\"integer\""
        },
        {
         "metadata": "{}",
         "name": "Losses",
         "type": "\"integer\""
        },
        {
         "metadata": "{}",
         "name": "GoalsFor",
         "type": "\"integer\""
        },
        {
         "metadata": "{}",
         "name": "GoalsAgainst",
         "type": "\"integer\""
        },
        {
         "metadata": "{}",
         "name": "GoalDifference",
         "type": "\"integer\""
        },
        {
         "metadata": "{}",
         "name": "Points",
         "type": "\"integer\""
        },
        {
         "metadata": "{}",
         "name": "Rankings",
         "type": "\"integer\""
        }
       ],
       "type": "table"
      }
     },
     "output_type": "display_data"
    }
   ],
   "source": [
    "%sql\n",
    "-- Select and display the final GroupStandings table with rankings\n",
    "SELECT * FROM GroupStandings\n",
    "ORDER BY GroupName, Rankings;\n"
   ]
  },
  {
   "cell_type": "markdown",
   "metadata": {
    "application/vnd.databricks.v1+cell": {
     "cellMetadata": {
      "byteLimit": 2048000,
      "rowLimit": 10000
     },
     "inputWidgets": {},
     "nuid": "75746677-8e5e-4fb6-b428-74de7526defb",
     "showTitle": false,
     "title": ""
    }
   },
   "source": [
    "\n",
    "The criteria for determining the best third-placed teams are as follows:\n",
    "\n",
    "-Points: The teams are ranked based on the number of points earned in the group stage matches (3 points for a win, 1 point for a draw).\n",
    "\n",
    "-Goal Difference: If two or more teams have the same number of points, their goal difference is considered. Goal difference is calculated by subtracting the total number of goals conceded from the total number of goals scored.\n",
    "\n",
    "-Goals Scored: If teams still cannot be separated after goal difference, the number of goals scored in all group stage matches is used as the next tiebreaker.\n",
    "\n",
    "-Fair Play: If teams are still equal, fair play conduct during the tournament is considered. This includes the number of yellow and red cards. The team with fewer disciplinary points advances.\n",
    "\n",
    "-Drawing of Lots: As a last resort, if teams are still tied after the above criteria, a draw of lots may be used to determine the final rankings."
   ]
  },
  {
   "cell_type": "markdown",
   "metadata": {
    "application/vnd.databricks.v1+cell": {
     "cellMetadata": {
      "byteLimit": 2048000,
      "rowLimit": 10000
     },
     "inputWidgets": {},
     "nuid": "7d4bd797-f811-4508-800d-f9ff2c6f2c8b",
     "showTitle": false,
     "title": ""
    }
   },
   "source": [
    "Positive Goal Difference:\n",
    "\n",
    " A team with a positive goal difference (having scored more goals than conceded) is generally considered more favorably than a team with a lower or negative goal difference.\n",
    "For example, if Team A has a goal difference of +5 (scored 10, conceded 5), and Team B has a goal difference of +2 (scored 8, conceded 6), Team A would be ranked higher in the standings."
   ]
  },
  {
   "cell_type": "markdown",
   "metadata": {
    "application/vnd.databricks.v1+cell": {
     "cellMetadata": {
      "byteLimit": 2048000,
      "rowLimit": 10000
     },
     "inputWidgets": {},
     "nuid": "9f72f5ee-175f-4e39-91e4-720858d7d1d8",
     "showTitle": false,
     "title": ""
    }
   },
   "source": [
    "\n",
    "Some important points\n",
    "It is not allowed to use window functions inside WHERE clause."
   ]
  },
  {
   "cell_type": "markdown",
   "metadata": {
    "application/vnd.databricks.v1+cell": {
     "cellMetadata": {
      "byteLimit": 2048000,
      "rowLimit": 10000
     },
     "inputWidgets": {},
     "nuid": "fe23763e-0e79-433e-9859-2dbbb8959071",
     "showTitle": false,
     "title": ""
    }
   },
   "source": [
    "Round of 16\n",
    "\n",
    " Rank all teams within each group based on points, goal difference, goals for, and wins"
   ]
  },
  {
   "cell_type": "code",
   "execution_count": 0,
   "metadata": {
    "application/vnd.databricks.v1+cell": {
     "cellMetadata": {
      "byteLimit": 2048000,
      "implicitDf": true,
      "rowLimit": 10000
     },
     "inputWidgets": {},
     "nuid": "74fc4b3c-cb6b-435d-800b-d33d89406b52",
     "showTitle": false,
     "title": ""
    }
   },
   "outputs": [
    {
     "output_type": "display_data",
     "data": {
      "text/html": [
       "<style scoped>\n",
       "  .table-result-container {\n",
       "    max-height: 300px;\n",
       "    overflow: auto;\n",
       "  }\n",
       "  table, th, td {\n",
       "    border: 1px solid black;\n",
       "    border-collapse: collapse;\n",
       "  }\n",
       "  th, td {\n",
       "    padding: 5px;\n",
       "  }\n",
       "  th {\n",
       "    text-align: left;\n",
       "  }\n",
       "</style><div class='table-result-container'><table class='table-result'><thead style='background-color: white'><tr></tr></thead><tbody></tbody></table></div>"
      ]
     },
     "metadata": {
      "application/vnd.databricks.v1+output": {
       "addedWidgets": {},
       "aggData": [],
       "aggError": "",
       "aggOverflow": false,
       "aggSchema": [],
       "aggSeriesLimitReached": false,
       "aggType": "",
       "arguments": {},
       "columnCustomDisplayInfos": {},
       "data": [],
       "datasetInfos": [],
       "dbfsResultPath": null,
       "isJsonSchema": true,
       "metadata": {},
       "overflow": false,
       "plotOptions": {
        "customPlotOptions": {},
        "displayType": "table",
        "pivotAggregation": null,
        "pivotColumns": null,
        "xColumns": null,
        "yColumns": null
       },
       "removedWidgets": [],
       "schema": [],
       "type": "table"
      }
     },
     "output_type": "display_data"
    }
   ],
   "source": [
    "%sql\n",
    "CREATE OR REPLACE VIEW Roundof16 AS\n",
    "WITH CombinedTeams AS (\n",
    "    (\n",
    "        SELECT\n",
    "            Rankings,\n",
    "            TeamName,\n",
    "            GroupName\n",
    "        FROM\n",
    "           GroupStandings\n",
    "        WHERE\n",
    "            Rankings LIKE '1' OR Rankings LIKE '2'\n",
    "    )\n",
    "    UNION ALL\n",
    "    (\n",
    "        SELECT\n",
    "            Rankings,\n",
    "            TeamName,\n",
    "            GroupName\n",
    "        FROM\n",
    "            GroupStandings\n",
    "        WHERE\n",
    "            Rankings LIKE '3'\n",
    "        ORDER BY Points DESC, GoalDifference DESC, GoalsFor DESC, Wins DESC, GoalsAgainst ASC, TeamName\n",
    "        LIMIT 4\n",
    "    )\n",
    ")\n",
    "SELECT * FROM CombinedTeams\n",
    "ORDER BY Rankings, GroupName;\n",
    "\n",
    "\n"
   ]
  },
  {
   "cell_type": "code",
   "execution_count": 0,
   "metadata": {
    "application/vnd.databricks.v1+cell": {
     "cellMetadata": {
      "byteLimit": 2048000,
      "implicitDf": true,
      "rowLimit": 10000
     },
     "inputWidgets": {},
     "nuid": "f0c18df1-3ca8-4c82-969e-48e6684eafe4",
     "showTitle": false,
     "title": ""
    }
   },
   "outputs": [
    {
     "output_type": "display_data",
     "data": {
      "text/html": [
       "<style scoped>\n",
       "  .table-result-container {\n",
       "    max-height: 300px;\n",
       "    overflow: auto;\n",
       "  }\n",
       "  table, th, td {\n",
       "    border: 1px solid black;\n",
       "    border-collapse: collapse;\n",
       "  }\n",
       "  th, td {\n",
       "    padding: 5px;\n",
       "  }\n",
       "  th {\n",
       "    text-align: left;\n",
       "  }\n",
       "</style><div class='table-result-container'><table class='table-result'><thead style='background-color: white'><tr><th>Rankings</th><th>TeamName</th><th>GroupName</th></tr></thead><tbody><tr><td>1</td><td>Scotland</td><td>A</td></tr><tr><td>1</td><td>Albania</td><td>B</td></tr><tr><td>1</td><td>Serbia</td><td>C</td></tr><tr><td>1</td><td>Austria</td><td>D</td></tr><tr><td>1</td><td>Slovakia</td><td>E</td></tr><tr><td>1</td><td>Czech</td><td>F</td></tr><tr><td>2</td><td>Hungary</td><td>A</td></tr><tr><td>2</td><td>Italy</td><td>B</td></tr><tr><td>2</td><td>Denmark</td><td>C</td></tr><tr><td>2</td><td>Netherlands</td><td>D</td></tr><tr><td>2</td><td>Ukraine</td><td>E</td></tr><tr><td>2</td><td>Türkiye</td><td>F</td></tr><tr><td>3</td><td>Switzerland</td><td>A</td></tr><tr><td>3</td><td>Croatia</td><td>B</td></tr><tr><td>3</td><td>Slovenia</td><td>C</td></tr><tr><td>3</td><td>Greece</td><td>F</td></tr></tbody></table></div>"
      ]
     },
     "metadata": {
      "application/vnd.databricks.v1+output": {
       "addedWidgets": {},
       "aggData": [],
       "aggError": "",
       "aggOverflow": false,
       "aggSchema": [],
       "aggSeriesLimitReached": false,
       "aggType": "",
       "arguments": {},
       "columnCustomDisplayInfos": {},
       "data": [
        [
         1,
         "Scotland",
         "A"
        ],
        [
         1,
         "Albania",
         "B"
        ],
        [
         1,
         "Serbia",
         "C"
        ],
        [
         1,
         "Austria",
         "D"
        ],
        [
         1,
         "Slovakia",
         "E"
        ],
        [
         1,
         "Czech",
         "F"
        ],
        [
         2,
         "Hungary",
         "A"
        ],
        [
         2,
         "Italy",
         "B"
        ],
        [
         2,
         "Denmark",
         "C"
        ],
        [
         2,
         "Netherlands",
         "D"
        ],
        [
         2,
         "Ukraine",
         "E"
        ],
        [
         2,
         "Türkiye",
         "F"
        ],
        [
         3,
         "Switzerland",
         "A"
        ],
        [
         3,
         "Croatia",
         "B"
        ],
        [
         3,
         "Slovenia",
         "C"
        ],
        [
         3,
         "Greece",
         "F"
        ]
       ],
       "datasetInfos": [],
       "dbfsResultPath": null,
       "isJsonSchema": true,
       "metadata": {},
       "overflow": false,
       "plotOptions": {
        "customPlotOptions": {},
        "displayType": "table",
        "pivotAggregation": null,
        "pivotColumns": null,
        "xColumns": null,
        "yColumns": null
       },
       "removedWidgets": [],
       "schema": [
        {
         "metadata": "{}",
         "name": "Rankings",
         "type": "\"integer\""
        },
        {
         "metadata": "{\"__CHAR_VARCHAR_TYPE_STRING\":\"varchar(255)\"}",
         "name": "TeamName",
         "type": "\"string\""
        },
        {
         "metadata": "{\"__CHAR_VARCHAR_TYPE_STRING\":\"varchar(255)\"}",
         "name": "GroupName",
         "type": "\"string\""
        }
       ],
       "type": "table"
      }
     },
     "output_type": "display_data"
    }
   ],
   "source": [
    "%sql\n",
    "Select * from RoundOf16"
   ]
  },
  {
   "cell_type": "code",
   "execution_count": 0,
   "metadata": {
    "application/vnd.databricks.v1+cell": {
     "cellMetadata": {
      "byteLimit": 2048000,
      "implicitDf": true,
      "rowLimit": 10000
     },
     "inputWidgets": {},
     "nuid": "62d033ea-ebd6-4de3-98e5-685071c66842",
     "showTitle": false,
     "title": ""
    }
   },
   "outputs": [],
   "source": [
    "%sql\n",
    "-- %sql\n",
    "-- DROP VIEW IF EXISTS RoundOf16;"
   ]
  },
  {
   "cell_type": "markdown",
   "metadata": {
    "application/vnd.databricks.v1+cell": {
     "cellMetadata": {
      "byteLimit": 2048000,
      "rowLimit": 10000
     },
     "inputWidgets": {},
     "nuid": "0f639035-e18c-452f-a104-9305aa3c3cf4",
     "showTitle": false,
     "title": ""
    }
   },
   "source": [
    "COMBINATION TABLE"
   ]
  },
  {
   "cell_type": "code",
   "execution_count": 0,
   "metadata": {
    "application/vnd.databricks.v1+cell": {
     "cellMetadata": {
      "byteLimit": 2048000,
      "implicitDf": true,
      "rowLimit": 10000
     },
     "inputWidgets": {},
     "nuid": "acd07dd5-c840-4b41-904d-d8b0394a023e",
     "showTitle": false,
     "title": ""
    }
   },
   "outputs": [
    {
     "output_type": "display_data",
     "data": {
      "text/html": [
       "<style scoped>\n",
       "  .table-result-container {\n",
       "    max-height: 300px;\n",
       "    overflow: auto;\n",
       "  }\n",
       "  table, th, td {\n",
       "    border: 1px solid black;\n",
       "    border-collapse: collapse;\n",
       "  }\n",
       "  th, td {\n",
       "    padding: 5px;\n",
       "  }\n",
       "  th {\n",
       "    text-align: left;\n",
       "  }\n",
       "</style><div class='table-result-container'><table class='table-result'><thead style='background-color: white'><tr><th>num_affected_rows</th><th>num_inserted_rows</th></tr></thead><tbody><tr><td>15</td><td>15</td></tr></tbody></table></div>"
      ]
     },
     "metadata": {
      "application/vnd.databricks.v1+output": {
       "addedWidgets": {},
       "aggData": [],
       "aggError": "",
       "aggOverflow": false,
       "aggSchema": [],
       "aggSeriesLimitReached": false,
       "aggType": "",
       "arguments": {},
       "columnCustomDisplayInfos": {},
       "data": [
        [
         15,
         15
        ]
       ],
       "datasetInfos": [],
       "dbfsResultPath": null,
       "isJsonSchema": true,
       "metadata": {},
       "overflow": false,
       "plotOptions": {
        "customPlotOptions": {},
        "displayType": "table",
        "pivotAggregation": null,
        "pivotColumns": null,
        "xColumns": null,
        "yColumns": null
       },
       "removedWidgets": [],
       "schema": [
        {
         "metadata": "{}",
         "name": "num_affected_rows",
         "type": "\"long\""
        },
        {
         "metadata": "{}",
         "name": "num_inserted_rows",
         "type": "\"long\""
        }
       ],
       "type": "table"
      }
     },
     "output_type": "display_data"
    }
   ],
   "source": [
    "%sql\n",
    "CREATE or replace  TABLE CombinationforThirdPlace(\n",
    "  ID INTEGER,\n",
    "  SELECTEDGROUPS VARCHAR(4),\n",
    "  TeamB1 CHAR(1),\n",
    "  TeamC1 CHAR(1),\n",
    "  TeamE1 CHAR(1),\n",
    "  TeamF1 CHAR(1)\n",
    ");\n",
    "\n",
    "-- Step 2: Insert the provided values into the \"THIRDMATCHUP\" table\n",
    "INSERT INTO  CombinationForThirdPlace (ID, SELECTEDGROUPS, TeamB1, TeamC1, TeamE1, TeamF1) VALUES\n",
    "(1, 'ABCD', 'A', 'D', 'B', 'C'),\n",
    "(2, 'ABCE', 'A', 'E', 'B', 'C'),\n",
    "(3, 'ABCF', 'A', 'F', 'B', 'C'),\n",
    "(4, 'ABDE', 'D', 'E', 'A', 'B'),\n",
    "(5, 'ABDF', 'D', 'F', 'A', 'B'),\n",
    "(6, 'ABEF', 'E', 'F', 'B', 'A'),\n",
    "(7, 'ACDE', 'E', 'D', 'C', 'A'),\n",
    "(8, 'ACDF', 'F', 'D', 'C', 'A'),\n",
    "(9, 'ACEF', 'E', 'F', 'C', 'A'),\n",
    "(10, 'ADEF', 'E', 'F', 'D', 'A'),\n",
    "(11, 'BCDE', 'E', 'D', 'B', 'C'),\n",
    "(12, 'BCDF', 'F', 'D', 'C', 'B'),\n",
    "(13, 'BCEF', 'F', 'E', 'C', 'B'),\n",
    "(14, 'BDEF', 'F', 'E', 'D', 'B'),\n",
    "(15, 'CDEF', 'F', 'E', 'D', 'C');"
   ]
  },
  {
   "cell_type": "code",
   "execution_count": 0,
   "metadata": {
    "application/vnd.databricks.v1+cell": {
     "cellMetadata": {
      "byteLimit": 2048000,
      "implicitDf": true,
      "rowLimit": 10000
     },
     "inputWidgets": {},
     "nuid": "d4c91401-4e3b-44bf-86ba-144f1afe2194",
     "showTitle": false,
     "title": ""
    }
   },
   "outputs": [
    {
     "output_type": "display_data",
     "data": {
      "text/html": [
       "<style scoped>\n",
       "  .table-result-container {\n",
       "    max-height: 300px;\n",
       "    overflow: auto;\n",
       "  }\n",
       "  table, th, td {\n",
       "    border: 1px solid black;\n",
       "    border-collapse: collapse;\n",
       "  }\n",
       "  th, td {\n",
       "    padding: 5px;\n",
       "  }\n",
       "  th {\n",
       "    text-align: left;\n",
       "  }\n",
       "</style><div class='table-result-container'><table class='table-result'><thead style='background-color: white'><tr><th>ID</th><th>SELECTEDGROUPS</th><th>TeamB1</th><th>TeamC1</th><th>TeamE1</th><th>TeamF1</th></tr></thead><tbody><tr><td>1</td><td>ABCD</td><td>A</td><td>D</td><td>B</td><td>C</td></tr><tr><td>2</td><td>ABCE</td><td>A</td><td>E</td><td>B</td><td>C</td></tr><tr><td>3</td><td>ABCF</td><td>A</td><td>F</td><td>B</td><td>C</td></tr><tr><td>4</td><td>ABDE</td><td>D</td><td>E</td><td>A</td><td>B</td></tr><tr><td>5</td><td>ABDF</td><td>D</td><td>F</td><td>A</td><td>B</td></tr><tr><td>6</td><td>ABEF</td><td>E</td><td>F</td><td>B</td><td>A</td></tr><tr><td>7</td><td>ACDE</td><td>E</td><td>D</td><td>C</td><td>A</td></tr><tr><td>8</td><td>ACDF</td><td>F</td><td>D</td><td>C</td><td>A</td></tr><tr><td>9</td><td>ACEF</td><td>E</td><td>F</td><td>C</td><td>A</td></tr><tr><td>10</td><td>ADEF</td><td>E</td><td>F</td><td>D</td><td>A</td></tr><tr><td>11</td><td>BCDE</td><td>E</td><td>D</td><td>B</td><td>C</td></tr><tr><td>12</td><td>BCDF</td><td>F</td><td>D</td><td>C</td><td>B</td></tr><tr><td>13</td><td>BCEF</td><td>F</td><td>E</td><td>C</td><td>B</td></tr><tr><td>14</td><td>BDEF</td><td>F</td><td>E</td><td>D</td><td>B</td></tr><tr><td>15</td><td>CDEF</td><td>F</td><td>E</td><td>D</td><td>C</td></tr></tbody></table></div>"
      ]
     },
     "metadata": {
      "application/vnd.databricks.v1+output": {
       "addedWidgets": {},
       "aggData": [],
       "aggError": "",
       "aggOverflow": false,
       "aggSchema": [],
       "aggSeriesLimitReached": false,
       "aggType": "",
       "arguments": {},
       "columnCustomDisplayInfos": {},
       "data": [
        [
         1,
         "ABCD",
         "A",
         "D",
         "B",
         "C"
        ],
        [
         2,
         "ABCE",
         "A",
         "E",
         "B",
         "C"
        ],
        [
         3,
         "ABCF",
         "A",
         "F",
         "B",
         "C"
        ],
        [
         4,
         "ABDE",
         "D",
         "E",
         "A",
         "B"
        ],
        [
         5,
         "ABDF",
         "D",
         "F",
         "A",
         "B"
        ],
        [
         6,
         "ABEF",
         "E",
         "F",
         "B",
         "A"
        ],
        [
         7,
         "ACDE",
         "E",
         "D",
         "C",
         "A"
        ],
        [
         8,
         "ACDF",
         "F",
         "D",
         "C",
         "A"
        ],
        [
         9,
         "ACEF",
         "E",
         "F",
         "C",
         "A"
        ],
        [
         10,
         "ADEF",
         "E",
         "F",
         "D",
         "A"
        ],
        [
         11,
         "BCDE",
         "E",
         "D",
         "B",
         "C"
        ],
        [
         12,
         "BCDF",
         "F",
         "D",
         "C",
         "B"
        ],
        [
         13,
         "BCEF",
         "F",
         "E",
         "C",
         "B"
        ],
        [
         14,
         "BDEF",
         "F",
         "E",
         "D",
         "B"
        ],
        [
         15,
         "CDEF",
         "F",
         "E",
         "D",
         "C"
        ]
       ],
       "datasetInfos": [],
       "dbfsResultPath": null,
       "isJsonSchema": true,
       "metadata": {},
       "overflow": false,
       "plotOptions": {
        "customPlotOptions": {},
        "displayType": "table",
        "pivotAggregation": null,
        "pivotColumns": null,
        "xColumns": null,
        "yColumns": null
       },
       "removedWidgets": [],
       "schema": [
        {
         "metadata": "{}",
         "name": "ID",
         "type": "\"integer\""
        },
        {
         "metadata": "{\"__CHAR_VARCHAR_TYPE_STRING\":\"varchar(4)\"}",
         "name": "SELECTEDGROUPS",
         "type": "\"string\""
        },
        {
         "metadata": "{\"__CHAR_VARCHAR_TYPE_STRING\":\"char(1)\"}",
         "name": "TeamB1",
         "type": "\"string\""
        },
        {
         "metadata": "{\"__CHAR_VARCHAR_TYPE_STRING\":\"char(1)\"}",
         "name": "TeamC1",
         "type": "\"string\""
        },
        {
         "metadata": "{\"__CHAR_VARCHAR_TYPE_STRING\":\"char(1)\"}",
         "name": "TeamE1",
         "type": "\"string\""
        },
        {
         "metadata": "{\"__CHAR_VARCHAR_TYPE_STRING\":\"char(1)\"}",
         "name": "TeamF1",
         "type": "\"string\""
        }
       ],
       "type": "table"
      }
     },
     "output_type": "display_data"
    }
   ],
   "source": [
    "%sql\n",
    "select * from CombinationforThirdPlace"
   ]
  },
  {
   "cell_type": "code",
   "execution_count": 0,
   "metadata": {
    "application/vnd.databricks.v1+cell": {
     "cellMetadata": {
      "byteLimit": 2048000,
      "implicitDf": true,
      "rowLimit": 10000
     },
     "inputWidgets": {},
     "nuid": "c58f3615-9fbc-47ec-9448-cd9b4a0a1f45",
     "showTitle": false,
     "title": ""
    }
   },
   "outputs": [
    {
     "output_type": "display_data",
     "data": {
      "text/html": [
       "<style scoped>\n",
       "  .table-result-container {\n",
       "    max-height: 300px;\n",
       "    overflow: auto;\n",
       "  }\n",
       "  table, th, td {\n",
       "    border: 1px solid black;\n",
       "    border-collapse: collapse;\n",
       "  }\n",
       "  th, td {\n",
       "    padding: 5px;\n",
       "  }\n",
       "  th {\n",
       "    text-align: left;\n",
       "  }\n",
       "</style><div class='table-result-container'><table class='table-result'><thead style='background-color: white'><tr><th>TeamName</th><th>FinalCombination</th></tr></thead><tbody><tr><td>Switzerland</td><td>A</td></tr><tr><td>Croatia</td><td>B</td></tr><tr><td>Slovenia</td><td>C</td></tr><tr><td>Greece</td><td>F</td></tr></tbody></table></div>"
      ]
     },
     "metadata": {
      "application/vnd.databricks.v1+output": {
       "addedWidgets": {},
       "aggData": [],
       "aggError": "",
       "aggOverflow": false,
       "aggSchema": [],
       "aggSeriesLimitReached": false,
       "aggType": "",
       "arguments": {},
       "columnCustomDisplayInfos": {},
       "data": [
        [
         "Switzerland",
         "A"
        ],
        [
         "Croatia",
         "B"
        ],
        [
         "Slovenia",
         "C"
        ],
        [
         "Greece",
         "F"
        ]
       ],
       "datasetInfos": [],
       "dbfsResultPath": null,
       "isJsonSchema": true,
       "metadata": {},
       "overflow": false,
       "plotOptions": {
        "customPlotOptions": {},
        "displayType": "table",
        "pivotAggregation": null,
        "pivotColumns": null,
        "xColumns": null,
        "yColumns": null
       },
       "removedWidgets": [],
       "schema": [
        {
         "metadata": "{\"__CHAR_VARCHAR_TYPE_STRING\":\"varchar(255)\"}",
         "name": "TeamName",
         "type": "\"string\""
        },
        {
         "metadata": "{}",
         "name": "FinalCombination",
         "type": "\"string\""
        }
       ],
       "type": "table"
      }
     },
     "output_type": "display_data"
    }
   ],
   "source": [
    "%sql\n",
    "SELECT\n",
    "    TeamName,\n",
    "    CONCAT_WS('', COLLECT_LIST(GroupCombination[0])) AS FinalCombination\n",
    "FROM (\n",
    "    SELECT\n",
    "        TeamName,\n",
    "        COLLECT_LIST(GroupName) AS GroupCombination\n",
    "    FROM\n",
    "        RoundOf16\n",
    "    WHERE\n",
    "        Rankings = 3\n",
    "    GROUP BY\n",
    "        TeamName\n",
    ")\n",
    "GROUP BY\n",
    "    TeamName;\n"
   ]
  },
  {
   "cell_type": "code",
   "execution_count": 0,
   "metadata": {
    "application/vnd.databricks.v1+cell": {
     "cellMetadata": {
      "byteLimit": 2048000,
      "implicitDf": true,
      "rowLimit": 10000
     },
     "inputWidgets": {},
     "nuid": "850a23ce-da7a-40be-b65b-1926b66596da",
     "showTitle": false,
     "title": ""
    }
   },
   "outputs": [
    {
     "output_type": "display_data",
     "data": {
      "text/html": [
       "<style scoped>\n",
       "  .table-result-container {\n",
       "    max-height: 300px;\n",
       "    overflow: auto;\n",
       "  }\n",
       "  table, th, td {\n",
       "    border: 1px solid black;\n",
       "    border-collapse: collapse;\n",
       "  }\n",
       "  th, td {\n",
       "    padding: 5px;\n",
       "  }\n",
       "  th {\n",
       "    text-align: left;\n",
       "  }\n",
       "</style><div class='table-result-container'><table class='table-result'><thead style='background-color: white'><tr></tr></thead><tbody></tbody></table></div>"
      ]
     },
     "metadata": {
      "application/vnd.databricks.v1+output": {
       "addedWidgets": {},
       "aggData": [],
       "aggError": "",
       "aggOverflow": false,
       "aggSchema": [],
       "aggSeriesLimitReached": false,
       "aggType": "",
       "arguments": {},
       "columnCustomDisplayInfos": {},
       "data": [],
       "datasetInfos": [],
       "dbfsResultPath": null,
       "isJsonSchema": true,
       "metadata": {},
       "overflow": false,
       "plotOptions": {
        "customPlotOptions": {},
        "displayType": "table",
        "pivotAggregation": null,
        "pivotColumns": null,
        "xColumns": null,
        "yColumns": null
       },
       "removedWidgets": [],
       "schema": [],
       "type": "table"
      }
     },
     "output_type": "display_data"
    }
   ],
   "source": [
    "%sql\n",
    "CREATE OR REPLACE VIEW MatchedCombinations AS\n",
    "SELECT\n",
    "    c.ID,\n",
    "    c.SELECTEDGROUPS,\n",
    "    c.TeamB1,\n",
    "    c.TeamC1,\n",
    "    c.TeamE1,\n",
    "    c.TeamF1,\n",
    "    r.FinalCombination\n",
    "FROM\n",
    "    CombinationForThirdPlace c\n",
    "JOIN (\n",
    "    SELECT\n",
    "        REGEXP_REPLACE(CONCAT_WS('', COLLECT_LIST(SUBSTRING(GroupName, 1))), '\\\\s', '') AS FinalCombination\n",
    "    FROM\n",
    "        RoundOf16\n",
    "    WHERE\n",
    "        Rankings = 3\n",
    ") r ON c.SELECTEDGROUPS = r.FinalCombination;\n"
   ]
  },
  {
   "cell_type": "code",
   "execution_count": 0,
   "metadata": {
    "application/vnd.databricks.v1+cell": {
     "cellMetadata": {
      "byteLimit": 2048000,
      "implicitDf": true,
      "rowLimit": 10000
     },
     "inputWidgets": {},
     "nuid": "fe494919-8f0a-490f-8b06-a542e84b0c66",
     "showTitle": false,
     "title": ""
    }
   },
   "outputs": [
    {
     "output_type": "display_data",
     "data": {
      "text/html": [
       "<style scoped>\n",
       "  .table-result-container {\n",
       "    max-height: 300px;\n",
       "    overflow: auto;\n",
       "  }\n",
       "  table, th, td {\n",
       "    border: 1px solid black;\n",
       "    border-collapse: collapse;\n",
       "  }\n",
       "  th, td {\n",
       "    padding: 5px;\n",
       "  }\n",
       "  th {\n",
       "    text-align: left;\n",
       "  }\n",
       "</style><div class='table-result-container'><table class='table-result'><thead style='background-color: white'><tr><th>FinalCombination</th></tr></thead><tbody><tr><td>ABCF</td></tr></tbody></table></div>"
      ]
     },
     "metadata": {
      "application/vnd.databricks.v1+output": {
       "addedWidgets": {},
       "aggData": [],
       "aggError": "",
       "aggOverflow": false,
       "aggSchema": [],
       "aggSeriesLimitReached": false,
       "aggType": "",
       "arguments": {},
       "columnCustomDisplayInfos": {},
       "data": [
        [
         "ABCF"
        ]
       ],
       "datasetInfos": [],
       "dbfsResultPath": null,
       "isJsonSchema": true,
       "metadata": {},
       "overflow": false,
       "plotOptions": {
        "customPlotOptions": {},
        "displayType": "table",
        "pivotAggregation": null,
        "pivotColumns": null,
        "xColumns": null,
        "yColumns": null
       },
       "removedWidgets": [],
       "schema": [
        {
         "metadata": "{}",
         "name": "FinalCombination",
         "type": "\"string\""
        }
       ],
       "type": "table"
      }
     },
     "output_type": "display_data"
    }
   ],
   "source": [
    "%sql\n",
    "SELECT\n",
    "        REGEXP_REPLACE(CONCAT_WS('', COLLECT_LIST(SUBSTRING(GroupName, 1))), '\\\\s', '') AS FinalCombination\n",
    "\n",
    "    FROM\n",
    "        RoundOf16\n",
    "    WHERE\n",
    "        Rankings = 3"
   ]
  },
  {
   "cell_type": "code",
   "execution_count": 0,
   "metadata": {
    "application/vnd.databricks.v1+cell": {
     "cellMetadata": {
      "byteLimit": 2048000,
      "implicitDf": true,
      "rowLimit": 10000
     },
     "inputWidgets": {},
     "nuid": "3292addf-3cef-4fc5-8560-845b51948a7c",
     "showTitle": false,
     "title": ""
    }
   },
   "outputs": [
    {
     "output_type": "display_data",
     "data": {
      "text/html": [
       "<style scoped>\n",
       "  .table-result-container {\n",
       "    max-height: 300px;\n",
       "    overflow: auto;\n",
       "  }\n",
       "  table, th, td {\n",
       "    border: 1px solid black;\n",
       "    border-collapse: collapse;\n",
       "  }\n",
       "  th, td {\n",
       "    padding: 5px;\n",
       "  }\n",
       "  th {\n",
       "    text-align: left;\n",
       "  }\n",
       "</style><div class='table-result-container'><table class='table-result'><thead style='background-color: white'><tr><th>ID</th><th>SELECTEDGROUPS</th><th>TeamB1</th><th>TeamC1</th><th>TeamE1</th><th>TeamF1</th><th>FinalCombination</th></tr></thead><tbody><tr><td>3</td><td>ABCF</td><td>A</td><td>F</td><td>B</td><td>C</td><td>ABCF</td></tr></tbody></table></div>"
      ]
     },
     "metadata": {
      "application/vnd.databricks.v1+output": {
       "addedWidgets": {},
       "aggData": [],
       "aggError": "",
       "aggOverflow": false,
       "aggSchema": [],
       "aggSeriesLimitReached": false,
       "aggType": "",
       "arguments": {},
       "columnCustomDisplayInfos": {},
       "data": [
        [
         3,
         "ABCF",
         "A",
         "F",
         "B",
         "C",
         "ABCF"
        ]
       ],
       "datasetInfos": [],
       "dbfsResultPath": null,
       "isJsonSchema": true,
       "metadata": {},
       "overflow": false,
       "plotOptions": {
        "customPlotOptions": {},
        "displayType": "table",
        "pivotAggregation": null,
        "pivotColumns": null,
        "xColumns": null,
        "yColumns": null
       },
       "removedWidgets": [],
       "schema": [
        {
         "metadata": "{}",
         "name": "ID",
         "type": "\"integer\""
        },
        {
         "metadata": "{\"__CHAR_VARCHAR_TYPE_STRING\":\"varchar(4)\"}",
         "name": "SELECTEDGROUPS",
         "type": "\"string\""
        },
        {
         "metadata": "{\"__CHAR_VARCHAR_TYPE_STRING\":\"char(1)\"}",
         "name": "TeamB1",
         "type": "\"string\""
        },
        {
         "metadata": "{\"__CHAR_VARCHAR_TYPE_STRING\":\"char(1)\"}",
         "name": "TeamC1",
         "type": "\"string\""
        },
        {
         "metadata": "{\"__CHAR_VARCHAR_TYPE_STRING\":\"char(1)\"}",
         "name": "TeamE1",
         "type": "\"string\""
        },
        {
         "metadata": "{\"__CHAR_VARCHAR_TYPE_STRING\":\"char(1)\"}",
         "name": "TeamF1",
         "type": "\"string\""
        },
        {
         "metadata": "{}",
         "name": "FinalCombination",
         "type": "\"string\""
        }
       ],
       "type": "table"
      }
     },
     "output_type": "display_data"
    }
   ],
   "source": [
    "%sql\n",
    "SELECT * FROM MatchedCombinations "
   ]
  },
  {
   "cell_type": "markdown",
   "metadata": {
    "application/vnd.databricks.v1+cell": {
     "cellMetadata": {
      "byteLimit": 2048000,
      "rowLimit": 10000
     },
     "inputWidgets": {},
     "nuid": "a6b4d250-c7d7-47a8-b55c-df5369209e33",
     "showTitle": false,
     "title": ""
    }
   },
   "source": [
    "UEFA set out the following schedule for the round of 16:\n",
    "- Match 1: Winner of Group B vs. 3rd-placed team from Group A/D/E/F\n",
    "\n",
    "- Match 2: Winner of Group A vs. Runner-up of Group C\n",
    "\n",
    "- Match 3: Winner of Group F vs. 3rd-placed team from Group A/B/C\n",
    "\n",
    "- Match 4: Runner-up of Group D vs. Runner-up of Group E\n",
    "\n",
    "- Match 5: Winner of Group E vs. 3rd-placed team from Group A/B/C/D\n",
    "\n",
    "- Match 6: Winner of Group D vs. Runner-up of Group F\n",
    "\n",
    "- Match 7: Winner of Group C vs. 3rd-placed team from Group D/E/F\n",
    "\n",
    "- Match 8: Runner-up of Group A vs. Runner-up of Group B"
   ]
  },
  {
   "cell_type": "code",
   "execution_count": 0,
   "metadata": {
    "application/vnd.databricks.v1+cell": {
     "cellMetadata": {
      "byteLimit": 2048000,
      "implicitDf": true,
      "rowLimit": 10000
     },
     "inputWidgets": {},
     "nuid": "92c61982-a5e9-4df2-80d7-5221b51fc09a",
     "showTitle": false,
     "title": ""
    }
   },
   "outputs": [
    {
     "output_type": "display_data",
     "data": {
      "text/html": [
       "<style scoped>\n",
       "  .table-result-container {\n",
       "    max-height: 300px;\n",
       "    overflow: auto;\n",
       "  }\n",
       "  table, th, td {\n",
       "    border: 1px solid black;\n",
       "    border-collapse: collapse;\n",
       "  }\n",
       "  th, td {\n",
       "    padding: 5px;\n",
       "  }\n",
       "  th {\n",
       "    text-align: left;\n",
       "  }\n",
       "</style><div class='table-result-container'><table class='table-result'><thead style='background-color: white'><tr></tr></thead><tbody></tbody></table></div>"
      ]
     },
     "metadata": {
      "application/vnd.databricks.v1+output": {
       "addedWidgets": {},
       "aggData": [],
       "aggError": "",
       "aggOverflow": false,
       "aggSchema": [],
       "aggSeriesLimitReached": false,
       "aggType": "",
       "arguments": {},
       "columnCustomDisplayInfos": {},
       "data": [],
       "datasetInfos": [],
       "dbfsResultPath": null,
       "isJsonSchema": true,
       "metadata": {},
       "overflow": false,
       "plotOptions": {
        "customPlotOptions": {},
        "displayType": "table",
        "pivotAggregation": null,
        "pivotColumns": null,
        "xColumns": null,
        "yColumns": null
       },
       "removedWidgets": [],
       "schema": [],
       "type": "table"
      }
     },
     "output_type": "display_data"
    }
   ],
   "source": [
    "%sql\n",
    "CREATE OR REPLACE TABLE MatchesFixtures (\n",
    "    MatchID INT,\n",
    "    Team1 VARCHAR(53),\n",
    "    Team1Goals INT,\n",
    "    Team2 VARCHAR(53),\n",
    "    Team2Goals INT,\n",
    "    Result VARCHAR(53),\n",
    "    MatchWinner VARCHAR(53),\n",
    "    MatchStage VARCHAR(53)\n",
    ");\n"
   ]
  },
  {
   "cell_type": "markdown",
   "metadata": {
    "application/vnd.databricks.v1+cell": {
     "cellMetadata": {
      "byteLimit": 2048000,
      "rowLimit": 10000
     },
     "inputWidgets": {},
     "nuid": "41d502eb-5c14-4ea3-bd0f-02a7d3779f0a",
     "showTitle": false,
     "title": ""
    }
   },
   "source": [
    "Creating a new table matchfixtures for inserting data from the quarterfinals\n"
   ]
  },
  {
   "cell_type": "code",
   "execution_count": 0,
   "metadata": {
    "application/vnd.databricks.v1+cell": {
     "cellMetadata": {
      "byteLimit": 2048000,
      "implicitDf": true,
      "rowLimit": 10000
     },
     "inputWidgets": {},
     "nuid": "1f4f78a1-67ba-47c8-9234-1e5a65e87e31",
     "showTitle": false,
     "title": ""
    }
   },
   "outputs": [
    {
     "output_type": "display_data",
     "data": {
      "text/html": [
       "<style scoped>\n",
       "  .table-result-container {\n",
       "    max-height: 300px;\n",
       "    overflow: auto;\n",
       "  }\n",
       "  table, th, td {\n",
       "    border: 1px solid black;\n",
       "    border-collapse: collapse;\n",
       "  }\n",
       "  th, td {\n",
       "    padding: 5px;\n",
       "  }\n",
       "  th {\n",
       "    text-align: left;\n",
       "  }\n",
       "</style><div class='table-result-container'><table class='table-result'><thead style='background-color: white'><tr><th>num_affected_rows</th><th>num_inserted_rows</th></tr></thead><tbody><tr><td>8</td><td>8</td></tr></tbody></table></div>"
      ]
     },
     "metadata": {
      "application/vnd.databricks.v1+output": {
       "addedWidgets": {},
       "aggData": [],
       "aggError": "",
       "aggOverflow": false,
       "aggSchema": [],
       "aggSeriesLimitReached": false,
       "aggType": "",
       "arguments": {},
       "columnCustomDisplayInfos": {},
       "data": [
        [
         8,
         8
        ]
       ],
       "datasetInfos": [],
       "dbfsResultPath": null,
       "isJsonSchema": true,
       "metadata": {},
       "overflow": false,
       "plotOptions": {
        "customPlotOptions": {},
        "displayType": "table",
        "pivotAggregation": null,
        "pivotColumns": null,
        "xColumns": null,
        "yColumns": null
       },
       "removedWidgets": [],
       "schema": [
        {
         "metadata": "{}",
         "name": "num_affected_rows",
         "type": "\"long\""
        },
        {
         "metadata": "{}",
         "name": "num_inserted_rows",
         "type": "\"long\""
        }
       ],
       "type": "table"
      }
     },
     "output_type": "display_data"
    }
   ],
   "source": [
    "%sql\n",
    "-- Insert match fixtures data\n",
    "INSERT INTO MatchesFixtures (MatchID, Team1, Team1Goals, Team2, Team2Goals, Result, MatchWinner, MatchStage)\n",
    "SELECT\n",
    "    ROW_NUMBER() OVER (ORDER BY \n",
    "      CASE\n",
    "        WHEN t1.Rankings = 1 AND t1.GroupName = 'B' THEN 1\n",
    "        WHEN t1.Rankings = 1 AND t1.GroupName = 'A' THEN 2\n",
    "        WHEN t1.Rankings = 1 AND t1.GroupName = 'F' THEN 3\n",
    "        WHEN t1.Rankings = 2 AND t1.GroupName = 'D' THEN 4\n",
    "        WHEN t1.Rankings = 1 AND t1.GroupName = 'E' THEN 5\n",
    "        WHEN t1.Rankings = 1 AND t1.GroupName = 'D' THEN 6\n",
    "        WHEN t1.Rankings = 1 AND t1.GroupName = 'C' THEN 7\n",
    "        WHEN t1.Rankings = 2 AND t1.GroupName = 'A' THEN 8\n",
    "\n",
    "      END\n",
    "    ) AS MatchID,\n",
    "    t1.TeamName AS Team1,\n",
    "    ROUND(RAND() * 6) AS Team1Goals,\n",
    "    t2.TeamName AS Team2,\n",
    "    ROUND(RAND() * 6) AS Team2Goals,\n",
    "    CONCAT(Team1Goals, '-', Team2Goals) AS Result,\n",
    "    CASE\n",
    "        WHEN Team1Goals > Team2Goals THEN t1.TeamName\n",
    "        WHEN Team2Goals > Team1Goals THEN t2.TeamName\n",
    "        ELSE\n",
    "          CASE\n",
    "            WHEN Team1 < Team2 THEN Team1\n",
    "            ELSE Team2\n",
    "          END\n",
    "    END AS MatchWinner,\n",
    "    'R16' AS MatchStage\n",
    "FROM RoundOf16 t1\n",
    "JOIN RoundOf16 t2 ON (\n",
    "    (t1.Rankings = 1 AND t1.GroupName = 'B' AND t2.Rankings = 3 AND t2.GroupName = (SELECT TeamB1 FROM MatchedCombinations)) OR\n",
    "    (t1.Rankings = 1 AND t1.GroupName = 'A' AND t2.Rankings = 2 AND t2.GroupName = 'C') OR\n",
    "    (t1.Rankings = 1 AND t1.GroupName = 'F' AND t2.Rankings = 3 AND t2.GroupName = (SELECT TeamF1 FROM MatchedCombinations)) OR\n",
    "    (t1.Rankings = 2 AND t1.GroupName = 'D' AND t2.Rankings = 2 AND t2.GroupName = 'E') OR\n",
    "    (t1.Rankings = 1 AND t1.GroupName = 'E' AND t2.Rankings = 3 AND t2.GroupName = (SELECT TeamE1 FROM MatchedCombinations)) OR\n",
    "    (t1.Rankings = 1 AND t1.GroupName = 'D' AND t2.Rankings = 2 AND t2.GroupName = 'F') OR\n",
    "    (t1.Rankings = 1 AND t1.GroupName = 'C' AND t2.Rankings = 3 AND t2.GroupName = (SELECT TeamC1 FROM MatchedCombinations)) OR\n",
    "    (t1.Rankings = 2 AND t1.GroupName = 'A' AND t2.Rankings = 2 AND t2.GroupName = 'B')\n",
    ");"
   ]
  },
  {
   "cell_type": "code",
   "execution_count": 0,
   "metadata": {
    "application/vnd.databricks.v1+cell": {
     "cellMetadata": {
      "byteLimit": 2048000,
      "implicitDf": true,
      "rowLimit": 10000
     },
     "inputWidgets": {},
     "nuid": "efb89085-709e-4312-98c9-b0ef213ff8f5",
     "showTitle": false,
     "title": ""
    }
   },
   "outputs": [
    {
     "output_type": "display_data",
     "data": {
      "text/html": [
       "<style scoped>\n",
       "  .table-result-container {\n",
       "    max-height: 300px;\n",
       "    overflow: auto;\n",
       "  }\n",
       "  table, th, td {\n",
       "    border: 1px solid black;\n",
       "    border-collapse: collapse;\n",
       "  }\n",
       "  th, td {\n",
       "    padding: 5px;\n",
       "  }\n",
       "  th {\n",
       "    text-align: left;\n",
       "  }\n",
       "</style><div class='table-result-container'><table class='table-result'><thead style='background-color: white'><tr><th>MatchID</th><th>Team1</th><th>Team1Goals</th><th>Team2</th><th>Team2Goals</th><th>Result</th><th>MatchWinner</th><th>MatchStage</th></tr></thead><tbody><tr><td>1</td><td>Albania</td><td>4</td><td>Switzerland</td><td>6</td><td>4.0-6.0</td><td>Switzerland</td><td>R16</td></tr><tr><td>2</td><td>Scotland</td><td>4</td><td>Denmark</td><td>3</td><td>4.0-3.0</td><td>Scotland</td><td>R16</td></tr><tr><td>3</td><td>Czech</td><td>5</td><td>Slovenia</td><td>4</td><td>5.0-4.0</td><td>Czech</td><td>R16</td></tr><tr><td>4</td><td>Netherlands</td><td>2</td><td>Ukraine</td><td>3</td><td>2.0-3.0</td><td>Ukraine</td><td>R16</td></tr><tr><td>5</td><td>Slovakia</td><td>3</td><td>Croatia</td><td>5</td><td>3.0-5.0</td><td>Croatia</td><td>R16</td></tr><tr><td>6</td><td>Austria</td><td>3</td><td>Türkiye</td><td>4</td><td>3.0-4.0</td><td>Türkiye</td><td>R16</td></tr><tr><td>7</td><td>Serbia</td><td>3</td><td>Greece</td><td>5</td><td>3.0-5.0</td><td>Greece</td><td>R16</td></tr><tr><td>8</td><td>Hungary</td><td>0</td><td>Italy</td><td>2</td><td>0.0-2.0</td><td>Italy</td><td>R16</td></tr></tbody></table></div>"
      ]
     },
     "metadata": {
      "application/vnd.databricks.v1+output": {
       "addedWidgets": {},
       "aggData": [],
       "aggError": "",
       "aggOverflow": false,
       "aggSchema": [],
       "aggSeriesLimitReached": false,
       "aggType": "",
       "arguments": {},
       "columnCustomDisplayInfos": {},
       "data": [
        [
         1,
         "Albania",
         4,
         "Switzerland",
         6,
         "4.0-6.0",
         "Switzerland",
         "R16"
        ],
        [
         2,
         "Scotland",
         4,
         "Denmark",
         3,
         "4.0-3.0",
         "Scotland",
         "R16"
        ],
        [
         3,
         "Czech",
         5,
         "Slovenia",
         4,
         "5.0-4.0",
         "Czech",
         "R16"
        ],
        [
         4,
         "Netherlands",
         2,
         "Ukraine",
         3,
         "2.0-3.0",
         "Ukraine",
         "R16"
        ],
        [
         5,
         "Slovakia",
         3,
         "Croatia",
         5,
         "3.0-5.0",
         "Croatia",
         "R16"
        ],
        [
         6,
         "Austria",
         3,
         "Türkiye",
         4,
         "3.0-4.0",
         "Türkiye",
         "R16"
        ],
        [
         7,
         "Serbia",
         3,
         "Greece",
         5,
         "3.0-5.0",
         "Greece",
         "R16"
        ],
        [
         8,
         "Hungary",
         0,
         "Italy",
         2,
         "0.0-2.0",
         "Italy",
         "R16"
        ]
       ],
       "datasetInfos": [],
       "dbfsResultPath": null,
       "isJsonSchema": true,
       "metadata": {},
       "overflow": false,
       "plotOptions": {
        "customPlotOptions": {},
        "displayType": "table",
        "pivotAggregation": null,
        "pivotColumns": null,
        "xColumns": null,
        "yColumns": null
       },
       "removedWidgets": [],
       "schema": [
        {
         "metadata": "{}",
         "name": "MatchID",
         "type": "\"integer\""
        },
        {
         "metadata": "{\"__CHAR_VARCHAR_TYPE_STRING\":\"varchar(53)\"}",
         "name": "Team1",
         "type": "\"string\""
        },
        {
         "metadata": "{}",
         "name": "Team1Goals",
         "type": "\"integer\""
        },
        {
         "metadata": "{\"__CHAR_VARCHAR_TYPE_STRING\":\"varchar(53)\"}",
         "name": "Team2",
         "type": "\"string\""
        },
        {
         "metadata": "{}",
         "name": "Team2Goals",
         "type": "\"integer\""
        },
        {
         "metadata": "{\"__CHAR_VARCHAR_TYPE_STRING\":\"varchar(53)\"}",
         "name": "Result",
         "type": "\"string\""
        },
        {
         "metadata": "{\"__CHAR_VARCHAR_TYPE_STRING\":\"varchar(53)\"}",
         "name": "MatchWinner",
         "type": "\"string\""
        },
        {
         "metadata": "{\"__CHAR_VARCHAR_TYPE_STRING\":\"varchar(53)\"}",
         "name": "MatchStage",
         "type": "\"string\""
        }
       ],
       "type": "table"
      }
     },
     "output_type": "display_data"
    }
   ],
   "source": [
    "%sql\n",
    "select * from MatchesFixtures "
   ]
  },
  {
   "cell_type": "code",
   "execution_count": 0,
   "metadata": {
    "application/vnd.databricks.v1+cell": {
     "cellMetadata": {
      "byteLimit": 2048000,
      "implicitDf": true,
      "rowLimit": 10000
     },
     "inputWidgets": {},
     "nuid": "0d79fea8-e021-4b38-9159-50d954e1e40e",
     "showTitle": false,
     "title": ""
    }
   },
   "outputs": [
    {
     "output_type": "display_data",
     "data": {
      "text/html": [
       "<style scoped>\n",
       "  .table-result-container {\n",
       "    max-height: 300px;\n",
       "    overflow: auto;\n",
       "  }\n",
       "  table, th, td {\n",
       "    border: 1px solid black;\n",
       "    border-collapse: collapse;\n",
       "  }\n",
       "  th, td {\n",
       "    padding: 5px;\n",
       "  }\n",
       "  th {\n",
       "    text-align: left;\n",
       "  }\n",
       "</style><div class='table-result-container'><table class='table-result'><thead style='background-color: white'><tr><th>num_affected_rows</th></tr></thead><tbody><tr><td>4</td></tr></tbody></table></div>"
      ]
     },
     "metadata": {
      "application/vnd.databricks.v1+output": {
       "addedWidgets": {},
       "aggData": [],
       "aggError": "",
       "aggOverflow": false,
       "aggSchema": [],
       "aggSeriesLimitReached": false,
       "aggType": "",
       "arguments": {},
       "columnCustomDisplayInfos": {},
       "data": [
        [
         4
        ]
       ],
       "datasetInfos": [],
       "dbfsResultPath": null,
       "isJsonSchema": true,
       "metadata": {},
       "overflow": false,
       "plotOptions": {
        "customPlotOptions": {},
        "displayType": "table",
        "pivotAggregation": null,
        "pivotColumns": null,
        "xColumns": null,
        "yColumns": null
       },
       "removedWidgets": [],
       "schema": [
        {
         "metadata": "{}",
         "name": "num_affected_rows",
         "type": "\"long\""
        }
       ],
       "type": "table"
      }
     },
     "output_type": "display_data"
    }
   ],
   "source": [
    "%sql\n",
    "INSERT INTO MatchesFixtures (MatchID, Team1, Team1Goals,Team2,Team2Goals, Result, MatchWinner, MatchStage)\n",
    "SELECT\n",
    "    ROW_NUMBER() OVER (ORDER BY 1) + 8 AS MatchID,\n",
    "    t1.MatchWinner AS Team1,\n",
    "    ROUND(RAND() * 6) AS Team1Goals,\n",
    "    t2.MatchWinner AS Team2,\n",
    "    ROUND(RAND() * 6) AS Team2Goals,\n",
    "    CONCAT(t1.Team1Goals, '-', t2.Team2Goals) AS Result,\n",
    "    'Not played' AS MatchWinner,\n",
    "    'QuarterFinals' AS MatchStage\n",
    "\n",
    "FROM MatchesFixtures t1\n",
    "CROSS JOIN MatchesFixtures t2\n",
    "ON\n",
    "  (t1.MatchID = 1 AND t2.MatchId = 2) OR\n",
    "  (t1.MatchID = 3 AND t2.MatchId = 4) OR\n",
    "  (t1.MatchID = 5 AND t2.MatchId = 6) OR\n",
    "  (t1.MatchID = 7 AND t2.MatchId = 8);\n",
    "\n",
    "UPDATE MatchesFixtures\n",
    "SET MatchWinner = \n",
    "    CASE\n",
    "        WHEN Team1Goals > Team2Goals THEN Team1\n",
    "        WHEN Team1Goals < Team2Goals THEN Team2\n",
    "        ELSE\n",
    "            CASE\n",
    "                WHEN Team1 < Team2 THEN Team1\n",
    "                ELSE Team2\n",
    "            END\n",
    "    END\n",
    "WHERE MatchStage = 'QuarterFinals';"
   ]
  },
  {
   "cell_type": "code",
   "execution_count": 0,
   "metadata": {
    "application/vnd.databricks.v1+cell": {
     "cellMetadata": {
      "byteLimit": 2048000,
      "implicitDf": true,
      "rowLimit": 10000
     },
     "inputWidgets": {},
     "nuid": "9340c525-9a4e-46fb-ab0f-d7b201705638",
     "showTitle": false,
     "title": ""
    }
   },
   "outputs": [
    {
     "output_type": "display_data",
     "data": {
      "text/html": [
       "<style scoped>\n",
       "  .table-result-container {\n",
       "    max-height: 300px;\n",
       "    overflow: auto;\n",
       "  }\n",
       "  table, th, td {\n",
       "    border: 1px solid black;\n",
       "    border-collapse: collapse;\n",
       "  }\n",
       "  th, td {\n",
       "    padding: 5px;\n",
       "  }\n",
       "  th {\n",
       "    text-align: left;\n",
       "  }\n",
       "</style><div class='table-result-container'><table class='table-result'><thead style='background-color: white'><tr><th>MatchID</th><th>Team1</th><th>Team1Goals</th><th>Team2</th><th>Team2Goals</th><th>Result</th><th>MatchWinner</th><th>MatchStage</th></tr></thead><tbody><tr><td>1</td><td>Albania</td><td>4</td><td>Switzerland</td><td>6</td><td>4.0-6.0</td><td>Switzerland</td><td>R16</td></tr><tr><td>2</td><td>Scotland</td><td>4</td><td>Denmark</td><td>3</td><td>4.0-3.0</td><td>Scotland</td><td>R16</td></tr><tr><td>3</td><td>Czech</td><td>5</td><td>Slovenia</td><td>4</td><td>5.0-4.0</td><td>Czech</td><td>R16</td></tr><tr><td>4</td><td>Netherlands</td><td>2</td><td>Ukraine</td><td>3</td><td>2.0-3.0</td><td>Ukraine</td><td>R16</td></tr><tr><td>5</td><td>Slovakia</td><td>3</td><td>Croatia</td><td>5</td><td>3.0-5.0</td><td>Croatia</td><td>R16</td></tr><tr><td>6</td><td>Austria</td><td>3</td><td>Türkiye</td><td>4</td><td>3.0-4.0</td><td>Türkiye</td><td>R16</td></tr><tr><td>7</td><td>Serbia</td><td>3</td><td>Greece</td><td>5</td><td>3.0-5.0</td><td>Greece</td><td>R16</td></tr><tr><td>8</td><td>Hungary</td><td>0</td><td>Italy</td><td>2</td><td>0.0-2.0</td><td>Italy</td><td>R16</td></tr><tr><td>9</td><td>Switzerland</td><td>1</td><td>Scotland</td><td>2</td><td>4-3</td><td>Scotland</td><td>QuarterFinals</td></tr><tr><td>10</td><td>Czech</td><td>5</td><td>Ukraine</td><td>3</td><td>5-3</td><td>Czech</td><td>QuarterFinals</td></tr><tr><td>11</td><td>Croatia</td><td>2</td><td>Türkiye</td><td>4</td><td>3-4</td><td>Türkiye</td><td>QuarterFinals</td></tr><tr><td>12</td><td>Greece</td><td>5</td><td>Italy</td><td>6</td><td>3-2</td><td>Italy</td><td>QuarterFinals</td></tr></tbody></table></div>"
      ]
     },
     "metadata": {
      "application/vnd.databricks.v1+output": {
       "addedWidgets": {},
       "aggData": [],
       "aggError": "",
       "aggOverflow": false,
       "aggSchema": [],
       "aggSeriesLimitReached": false,
       "aggType": "",
       "arguments": {},
       "columnCustomDisplayInfos": {},
       "data": [
        [
         1,
         "Albania",
         4,
         "Switzerland",
         6,
         "4.0-6.0",
         "Switzerland",
         "R16"
        ],
        [
         2,
         "Scotland",
         4,
         "Denmark",
         3,
         "4.0-3.0",
         "Scotland",
         "R16"
        ],
        [
         3,
         "Czech",
         5,
         "Slovenia",
         4,
         "5.0-4.0",
         "Czech",
         "R16"
        ],
        [
         4,
         "Netherlands",
         2,
         "Ukraine",
         3,
         "2.0-3.0",
         "Ukraine",
         "R16"
        ],
        [
         5,
         "Slovakia",
         3,
         "Croatia",
         5,
         "3.0-5.0",
         "Croatia",
         "R16"
        ],
        [
         6,
         "Austria",
         3,
         "Türkiye",
         4,
         "3.0-4.0",
         "Türkiye",
         "R16"
        ],
        [
         7,
         "Serbia",
         3,
         "Greece",
         5,
         "3.0-5.0",
         "Greece",
         "R16"
        ],
        [
         8,
         "Hungary",
         0,
         "Italy",
         2,
         "0.0-2.0",
         "Italy",
         "R16"
        ],
        [
         9,
         "Switzerland",
         1,
         "Scotland",
         2,
         "4-3",
         "Scotland",
         "QuarterFinals"
        ],
        [
         10,
         "Czech",
         5,
         "Ukraine",
         3,
         "5-3",
         "Czech",
         "QuarterFinals"
        ],
        [
         11,
         "Croatia",
         2,
         "Türkiye",
         4,
         "3-4",
         "Türkiye",
         "QuarterFinals"
        ],
        [
         12,
         "Greece",
         5,
         "Italy",
         6,
         "3-2",
         "Italy",
         "QuarterFinals"
        ]
       ],
       "datasetInfos": [],
       "dbfsResultPath": null,
       "isJsonSchema": true,
       "metadata": {},
       "overflow": false,
       "plotOptions": {
        "customPlotOptions": {},
        "displayType": "table",
        "pivotAggregation": null,
        "pivotColumns": null,
        "xColumns": null,
        "yColumns": null
       },
       "removedWidgets": [],
       "schema": [
        {
         "metadata": "{}",
         "name": "MatchID",
         "type": "\"integer\""
        },
        {
         "metadata": "{\"__CHAR_VARCHAR_TYPE_STRING\":\"varchar(53)\"}",
         "name": "Team1",
         "type": "\"string\""
        },
        {
         "metadata": "{}",
         "name": "Team1Goals",
         "type": "\"integer\""
        },
        {
         "metadata": "{\"__CHAR_VARCHAR_TYPE_STRING\":\"varchar(53)\"}",
         "name": "Team2",
         "type": "\"string\""
        },
        {
         "metadata": "{}",
         "name": "Team2Goals",
         "type": "\"integer\""
        },
        {
         "metadata": "{\"__CHAR_VARCHAR_TYPE_STRING\":\"varchar(53)\"}",
         "name": "Result",
         "type": "\"string\""
        },
        {
         "metadata": "{\"__CHAR_VARCHAR_TYPE_STRING\":\"varchar(53)\"}",
         "name": "MatchWinner",
         "type": "\"string\""
        },
        {
         "metadata": "{\"__CHAR_VARCHAR_TYPE_STRING\":\"varchar(53)\"}",
         "name": "MatchStage",
         "type": "\"string\""
        }
       ],
       "type": "table"
      }
     },
     "output_type": "display_data"
    }
   ],
   "source": [
    "%sql\n",
    "select * from MatchesFixtures"
   ]
  },
  {
   "cell_type": "markdown",
   "metadata": {
    "application/vnd.databricks.v1+cell": {
     "cellMetadata": {
      "byteLimit": 2048000,
      "rowLimit": 10000
     },
     "inputWidgets": {},
     "nuid": "33e2afb9-9cdb-4e4c-929b-9657a4c912ba",
     "showTitle": false,
     "title": ""
    }
   },
   "source": [
    "Semi-Finale\n"
   ]
  },
  {
   "cell_type": "code",
   "execution_count": 0,
   "metadata": {
    "application/vnd.databricks.v1+cell": {
     "cellMetadata": {
      "byteLimit": 2048000,
      "implicitDf": true,
      "rowLimit": 10000
     },
     "inputWidgets": {},
     "nuid": "f2c38cce-a37b-4d7d-b1bb-68dfc9f0e6b1",
     "showTitle": false,
     "title": ""
    }
   },
   "outputs": [
    {
     "output_type": "display_data",
     "data": {
      "text/html": [
       "<style scoped>\n",
       "  .table-result-container {\n",
       "    max-height: 300px;\n",
       "    overflow: auto;\n",
       "  }\n",
       "  table, th, td {\n",
       "    border: 1px solid black;\n",
       "    border-collapse: collapse;\n",
       "  }\n",
       "  th, td {\n",
       "    padding: 5px;\n",
       "  }\n",
       "  th {\n",
       "    text-align: left;\n",
       "  }\n",
       "</style><div class='table-result-container'><table class='table-result'><thead style='background-color: white'><tr><th>num_affected_rows</th></tr></thead><tbody><tr><td>2</td></tr></tbody></table></div>"
      ]
     },
     "metadata": {
      "application/vnd.databricks.v1+output": {
       "addedWidgets": {},
       "aggData": [],
       "aggError": "",
       "aggOverflow": false,
       "aggSchema": [],
       "aggSeriesLimitReached": false,
       "aggType": "",
       "arguments": {},
       "columnCustomDisplayInfos": {},
       "data": [
        [
         2
        ]
       ],
       "datasetInfos": [],
       "dbfsResultPath": null,
       "isJsonSchema": true,
       "metadata": {},
       "overflow": false,
       "plotOptions": {
        "customPlotOptions": {},
        "displayType": "table",
        "pivotAggregation": null,
        "pivotColumns": null,
        "xColumns": null,
        "yColumns": null
       },
       "removedWidgets": [],
       "schema": [
        {
         "metadata": "{}",
         "name": "num_affected_rows",
         "type": "\"long\""
        }
       ],
       "type": "table"
      }
     },
     "output_type": "display_data"
    }
   ],
   "source": [
    "%sql\n",
    "INSERT INTO MatchesFixtures (MatchID, Team1, Team1Goals,Team2,Team2Goals, Result, MatchWinner, MatchStage)\n",
    "SELECT\n",
    "    ROW_NUMBER() OVER (ORDER BY 1) + 12 AS MatchID,\n",
    "    t1.MatchWinner AS Team1,\n",
    "    ROUND(RAND() * 6) AS Team1Goals,\n",
    "    t2.MatchWinner AS Team2,\n",
    "    ROUND(RAND() * 6) AS Team2Goals,\n",
    "    CONCAT(t1.Team1Goals, '-', t2.Team2Goals) AS Result,\n",
    "    'Not played' AS MatchWinner,\n",
    "    'SemiFinals' AS MatchStage\n",
    "\n",
    "FROM MatchesFixtures t1\n",
    "CROSS JOIN MatchesFixtures t2\n",
    "ON\n",
    "  (t1.MatchID = 9 AND t2.MatchId = 10) OR\n",
    "  (t1.MatchID = 11 AND t2.MatchId = 12);\n",
    "\n",
    "UPDATE MatchesFixtures\n",
    "SET MatchWinner = \n",
    "    CASE\n",
    "        WHEN Team1Goals > Team2Goals THEN Team1\n",
    "        WHEN Team1Goals < Team2Goals THEN Team2\n",
    "        ELSE\n",
    "            CASE\n",
    "                WHEN Team1 < Team2 THEN Team1\n",
    "                ELSE Team2\n",
    "            END\n",
    "    END\n",
    "WHERE MatchStage = 'SemiFinals';"
   ]
  },
  {
   "cell_type": "code",
   "execution_count": 0,
   "metadata": {
    "application/vnd.databricks.v1+cell": {
     "cellMetadata": {
      "byteLimit": 2048000,
      "implicitDf": true,
      "rowLimit": 10000
     },
     "inputWidgets": {},
     "nuid": "bcb6119a-f4a2-4a6a-af15-c1a49078b9ae",
     "showTitle": false,
     "title": ""
    }
   },
   "outputs": [
    {
     "output_type": "display_data",
     "data": {
      "text/html": [
       "<style scoped>\n",
       "  .table-result-container {\n",
       "    max-height: 300px;\n",
       "    overflow: auto;\n",
       "  }\n",
       "  table, th, td {\n",
       "    border: 1px solid black;\n",
       "    border-collapse: collapse;\n",
       "  }\n",
       "  th, td {\n",
       "    padding: 5px;\n",
       "  }\n",
       "  th {\n",
       "    text-align: left;\n",
       "  }\n",
       "</style><div class='table-result-container'><table class='table-result'><thead style='background-color: white'><tr><th>MatchID</th><th>Team1</th><th>Team1Goals</th><th>Team2</th><th>Team2Goals</th><th>Result</th><th>MatchWinner</th><th>MatchStage</th></tr></thead><tbody><tr><td>1</td><td>Albania</td><td>4</td><td>Switzerland</td><td>6</td><td>4.0-6.0</td><td>Switzerland</td><td>R16</td></tr><tr><td>2</td><td>Scotland</td><td>4</td><td>Denmark</td><td>3</td><td>4.0-3.0</td><td>Scotland</td><td>R16</td></tr><tr><td>3</td><td>Czech</td><td>5</td><td>Slovenia</td><td>4</td><td>5.0-4.0</td><td>Czech</td><td>R16</td></tr><tr><td>4</td><td>Netherlands</td><td>2</td><td>Ukraine</td><td>3</td><td>2.0-3.0</td><td>Ukraine</td><td>R16</td></tr><tr><td>5</td><td>Slovakia</td><td>3</td><td>Croatia</td><td>5</td><td>3.0-5.0</td><td>Croatia</td><td>R16</td></tr><tr><td>6</td><td>Austria</td><td>3</td><td>Türkiye</td><td>4</td><td>3.0-4.0</td><td>Türkiye</td><td>R16</td></tr><tr><td>7</td><td>Serbia</td><td>3</td><td>Greece</td><td>5</td><td>3.0-5.0</td><td>Greece</td><td>R16</td></tr><tr><td>8</td><td>Hungary</td><td>0</td><td>Italy</td><td>2</td><td>0.0-2.0</td><td>Italy</td><td>R16</td></tr><tr><td>9</td><td>Switzerland</td><td>1</td><td>Scotland</td><td>2</td><td>4-3</td><td>Scotland</td><td>QuarterFinals</td></tr><tr><td>10</td><td>Czech</td><td>5</td><td>Ukraine</td><td>3</td><td>5-3</td><td>Czech</td><td>QuarterFinals</td></tr><tr><td>11</td><td>Croatia</td><td>2</td><td>Türkiye</td><td>4</td><td>3-4</td><td>Türkiye</td><td>QuarterFinals</td></tr><tr><td>12</td><td>Greece</td><td>5</td><td>Italy</td><td>6</td><td>3-2</td><td>Italy</td><td>QuarterFinals</td></tr><tr><td>13</td><td>Scotland</td><td>4</td><td>Czech</td><td>1</td><td>1-3</td><td>Scotland</td><td>SemiFinals</td></tr><tr><td>14</td><td>Türkiye</td><td>3</td><td>Italy</td><td>1</td><td>2-6</td><td>Türkiye</td><td>SemiFinals</td></tr></tbody></table></div>"
      ]
     },
     "metadata": {
      "application/vnd.databricks.v1+output": {
       "addedWidgets": {},
       "aggData": [],
       "aggError": "",
       "aggOverflow": false,
       "aggSchema": [],
       "aggSeriesLimitReached": false,
       "aggType": "",
       "arguments": {},
       "columnCustomDisplayInfos": {},
       "data": [
        [
         1,
         "Albania",
         4,
         "Switzerland",
         6,
         "4.0-6.0",
         "Switzerland",
         "R16"
        ],
        [
         2,
         "Scotland",
         4,
         "Denmark",
         3,
         "4.0-3.0",
         "Scotland",
         "R16"
        ],
        [
         3,
         "Czech",
         5,
         "Slovenia",
         4,
         "5.0-4.0",
         "Czech",
         "R16"
        ],
        [
         4,
         "Netherlands",
         2,
         "Ukraine",
         3,
         "2.0-3.0",
         "Ukraine",
         "R16"
        ],
        [
         5,
         "Slovakia",
         3,
         "Croatia",
         5,
         "3.0-5.0",
         "Croatia",
         "R16"
        ],
        [
         6,
         "Austria",
         3,
         "Türkiye",
         4,
         "3.0-4.0",
         "Türkiye",
         "R16"
        ],
        [
         7,
         "Serbia",
         3,
         "Greece",
         5,
         "3.0-5.0",
         "Greece",
         "R16"
        ],
        [
         8,
         "Hungary",
         0,
         "Italy",
         2,
         "0.0-2.0",
         "Italy",
         "R16"
        ],
        [
         9,
         "Switzerland",
         1,
         "Scotland",
         2,
         "4-3",
         "Scotland",
         "QuarterFinals"
        ],
        [
         10,
         "Czech",
         5,
         "Ukraine",
         3,
         "5-3",
         "Czech",
         "QuarterFinals"
        ],
        [
         11,
         "Croatia",
         2,
         "Türkiye",
         4,
         "3-4",
         "Türkiye",
         "QuarterFinals"
        ],
        [
         12,
         "Greece",
         5,
         "Italy",
         6,
         "3-2",
         "Italy",
         "QuarterFinals"
        ],
        [
         13,
         "Scotland",
         4,
         "Czech",
         1,
         "1-3",
         "Scotland",
         "SemiFinals"
        ],
        [
         14,
         "Türkiye",
         3,
         "Italy",
         1,
         "2-6",
         "Türkiye",
         "SemiFinals"
        ]
       ],
       "datasetInfos": [],
       "dbfsResultPath": null,
       "isJsonSchema": true,
       "metadata": {},
       "overflow": false,
       "plotOptions": {
        "customPlotOptions": {},
        "displayType": "table",
        "pivotAggregation": null,
        "pivotColumns": null,
        "xColumns": null,
        "yColumns": null
       },
       "removedWidgets": [],
       "schema": [
        {
         "metadata": "{}",
         "name": "MatchID",
         "type": "\"integer\""
        },
        {
         "metadata": "{\"__CHAR_VARCHAR_TYPE_STRING\":\"varchar(53)\"}",
         "name": "Team1",
         "type": "\"string\""
        },
        {
         "metadata": "{}",
         "name": "Team1Goals",
         "type": "\"integer\""
        },
        {
         "metadata": "{\"__CHAR_VARCHAR_TYPE_STRING\":\"varchar(53)\"}",
         "name": "Team2",
         "type": "\"string\""
        },
        {
         "metadata": "{}",
         "name": "Team2Goals",
         "type": "\"integer\""
        },
        {
         "metadata": "{\"__CHAR_VARCHAR_TYPE_STRING\":\"varchar(53)\"}",
         "name": "Result",
         "type": "\"string\""
        },
        {
         "metadata": "{\"__CHAR_VARCHAR_TYPE_STRING\":\"varchar(53)\"}",
         "name": "MatchWinner",
         "type": "\"string\""
        },
        {
         "metadata": "{\"__CHAR_VARCHAR_TYPE_STRING\":\"varchar(53)\"}",
         "name": "MatchStage",
         "type": "\"string\""
        }
       ],
       "type": "table"
      }
     },
     "output_type": "display_data"
    }
   ],
   "source": [
    "%sql\n",
    "select * from MatchesFixtures"
   ]
  },
  {
   "cell_type": "markdown",
   "metadata": {
    "application/vnd.databricks.v1+cell": {
     "cellMetadata": {
      "byteLimit": 2048000,
      "rowLimit": 10000
     },
     "inputWidgets": {},
     "nuid": "1f71a726-2a27-4979-8dbc-26d172914173",
     "showTitle": false,
     "title": ""
    }
   },
   "source": [
    "#Third place"
   ]
  },
  {
   "cell_type": "code",
   "execution_count": 0,
   "metadata": {
    "application/vnd.databricks.v1+cell": {
     "cellMetadata": {
      "byteLimit": 2048000,
      "implicitDf": true,
      "rowLimit": 10000
     },
     "inputWidgets": {},
     "nuid": "aff05ad6-5add-41b5-b90e-7274a63574d0",
     "showTitle": false,
     "title": ""
    }
   },
   "outputs": [
    {
     "output_type": "display_data",
     "data": {
      "text/html": [
       "<style scoped>\n",
       "  .table-result-container {\n",
       "    max-height: 300px;\n",
       "    overflow: auto;\n",
       "  }\n",
       "  table, th, td {\n",
       "    border: 1px solid black;\n",
       "    border-collapse: collapse;\n",
       "  }\n",
       "  th, td {\n",
       "    padding: 5px;\n",
       "  }\n",
       "  th {\n",
       "    text-align: left;\n",
       "  }\n",
       "</style><div class='table-result-container'><table class='table-result'><thead style='background-color: white'><tr><th>num_affected_rows</th></tr></thead><tbody><tr><td>1</td></tr></tbody></table></div>"
      ]
     },
     "metadata": {
      "application/vnd.databricks.v1+output": {
       "addedWidgets": {},
       "aggData": [],
       "aggError": "",
       "aggOverflow": false,
       "aggSchema": [],
       "aggSeriesLimitReached": false,
       "aggType": "",
       "arguments": {},
       "columnCustomDisplayInfos": {},
       "data": [
        [
         1
        ]
       ],
       "datasetInfos": [],
       "dbfsResultPath": null,
       "isJsonSchema": true,
       "metadata": {},
       "overflow": false,
       "plotOptions": {
        "customPlotOptions": {},
        "displayType": "table",
        "pivotAggregation": null,
        "pivotColumns": null,
        "xColumns": null,
        "yColumns": null
       },
       "removedWidgets": [],
       "schema": [
        {
         "metadata": "{}",
         "name": "num_affected_rows",
         "type": "\"long\""
        }
       ],
       "type": "table"
      }
     },
     "output_type": "display_data"
    }
   ],
   "source": [
    "%sql\n",
    "INSERT INTO MatchesFixtures (MatchID, Team1, Team1Goals,Team2,Team2Goals, Result, MatchWinner, MatchStage)\n",
    "SELECT\n",
    "    ROW_NUMBER() OVER (ORDER BY 1) + 14 AS MatchID,\n",
    "    CASE\n",
    "      WHEN\n",
    "        t1.MatchWinner!= t1.Team1 THEN t1.Team1 ELSE t1.Team2\n",
    "        END AS Team1,\n",
    "    ROUND(RAND() * 6) AS Team1Goals,\n",
    "    CASE\n",
    "      WHEN\n",
    "        t2.MatchWinner!= t2.Team2 THEN t2.Team2 ELSE t2.Team1\n",
    "        END AS Team2,\n",
    "    ROUND(RAND() * 6) AS Team2Goals,\n",
    "    CONCAT(t1.Team1Goals, '-', t2.Team2Goals) AS Result,\n",
    "    'Not Played' AS MatchWinner,\n",
    "    'ThirdPlace' AS MatchStage\n",
    "FROM MatchesFixtures t1\n",
    "CROSS JOIN MatchesFixtures t2\n",
    "ON\n",
    "  (t1.MatchID = 13 AND t2.MatchId = 14);\n",
    "\n",
    "UPDATE MatchesFixtures\n",
    "SET MatchWinner = \n",
    "    CASE\n",
    "        WHEN Team1Goals > Team2Goals THEN Team1\n",
    "        WHEN Team1Goals < Team2Goals THEN Team2\n",
    "        ELSE\n",
    "            CASE\n",
    "                WHEN Team1 < Team2 THEN Team1\n",
    "                ELSE Team2\n",
    "            END\n",
    "    END\n",
    "WHERE MatchStage = 'ThirdPlace';\n"
   ]
  },
  {
   "cell_type": "code",
   "execution_count": 0,
   "metadata": {
    "application/vnd.databricks.v1+cell": {
     "cellMetadata": {
      "byteLimit": 2048000,
      "implicitDf": true,
      "rowLimit": 10000
     },
     "inputWidgets": {},
     "nuid": "140c0247-26c1-4596-b2a5-494c38541a86",
     "showTitle": false,
     "title": ""
    }
   },
   "outputs": [
    {
     "output_type": "display_data",
     "data": {
      "text/html": [
       "<style scoped>\n",
       "  .table-result-container {\n",
       "    max-height: 300px;\n",
       "    overflow: auto;\n",
       "  }\n",
       "  table, th, td {\n",
       "    border: 1px solid black;\n",
       "    border-collapse: collapse;\n",
       "  }\n",
       "  th, td {\n",
       "    padding: 5px;\n",
       "  }\n",
       "  th {\n",
       "    text-align: left;\n",
       "  }\n",
       "</style><div class='table-result-container'><table class='table-result'><thead style='background-color: white'><tr><th>MatchID</th><th>Team1</th><th>Team1Goals</th><th>Team2</th><th>Team2Goals</th><th>Result</th><th>MatchWinner</th><th>MatchStage</th></tr></thead><tbody><tr><td>1</td><td>Albania</td><td>4</td><td>Switzerland</td><td>6</td><td>4.0-6.0</td><td>Switzerland</td><td>R16</td></tr><tr><td>2</td><td>Scotland</td><td>4</td><td>Denmark</td><td>3</td><td>4.0-3.0</td><td>Scotland</td><td>R16</td></tr><tr><td>3</td><td>Czech</td><td>5</td><td>Slovenia</td><td>4</td><td>5.0-4.0</td><td>Czech</td><td>R16</td></tr><tr><td>4</td><td>Netherlands</td><td>2</td><td>Ukraine</td><td>3</td><td>2.0-3.0</td><td>Ukraine</td><td>R16</td></tr><tr><td>5</td><td>Slovakia</td><td>3</td><td>Croatia</td><td>5</td><td>3.0-5.0</td><td>Croatia</td><td>R16</td></tr><tr><td>6</td><td>Austria</td><td>3</td><td>Türkiye</td><td>4</td><td>3.0-4.0</td><td>Türkiye</td><td>R16</td></tr><tr><td>7</td><td>Serbia</td><td>3</td><td>Greece</td><td>5</td><td>3.0-5.0</td><td>Greece</td><td>R16</td></tr><tr><td>8</td><td>Hungary</td><td>0</td><td>Italy</td><td>2</td><td>0.0-2.0</td><td>Italy</td><td>R16</td></tr><tr><td>9</td><td>Switzerland</td><td>1</td><td>Scotland</td><td>2</td><td>4-3</td><td>Scotland</td><td>QuarterFinals</td></tr><tr><td>10</td><td>Czech</td><td>5</td><td>Ukraine</td><td>3</td><td>5-3</td><td>Czech</td><td>QuarterFinals</td></tr><tr><td>11</td><td>Croatia</td><td>2</td><td>Türkiye</td><td>4</td><td>3-4</td><td>Türkiye</td><td>QuarterFinals</td></tr><tr><td>12</td><td>Greece</td><td>5</td><td>Italy</td><td>6</td><td>3-2</td><td>Italy</td><td>QuarterFinals</td></tr><tr><td>13</td><td>Scotland</td><td>4</td><td>Czech</td><td>1</td><td>1-3</td><td>Scotland</td><td>SemiFinals</td></tr><tr><td>14</td><td>Türkiye</td><td>3</td><td>Italy</td><td>1</td><td>2-6</td><td>Türkiye</td><td>SemiFinals</td></tr><tr><td>15</td><td>Czech</td><td>5</td><td>Italy</td><td>5</td><td>4-1</td><td>Czech</td><td>ThirdPlace</td></tr></tbody></table></div>"
      ]
     },
     "metadata": {
      "application/vnd.databricks.v1+output": {
       "addedWidgets": {},
       "aggData": [],
       "aggError": "",
       "aggOverflow": false,
       "aggSchema": [],
       "aggSeriesLimitReached": false,
       "aggType": "",
       "arguments": {},
       "columnCustomDisplayInfos": {},
       "data": [
        [
         1,
         "Albania",
         4,
         "Switzerland",
         6,
         "4.0-6.0",
         "Switzerland",
         "R16"
        ],
        [
         2,
         "Scotland",
         4,
         "Denmark",
         3,
         "4.0-3.0",
         "Scotland",
         "R16"
        ],
        [
         3,
         "Czech",
         5,
         "Slovenia",
         4,
         "5.0-4.0",
         "Czech",
         "R16"
        ],
        [
         4,
         "Netherlands",
         2,
         "Ukraine",
         3,
         "2.0-3.0",
         "Ukraine",
         "R16"
        ],
        [
         5,
         "Slovakia",
         3,
         "Croatia",
         5,
         "3.0-5.0",
         "Croatia",
         "R16"
        ],
        [
         6,
         "Austria",
         3,
         "Türkiye",
         4,
         "3.0-4.0",
         "Türkiye",
         "R16"
        ],
        [
         7,
         "Serbia",
         3,
         "Greece",
         5,
         "3.0-5.0",
         "Greece",
         "R16"
        ],
        [
         8,
         "Hungary",
         0,
         "Italy",
         2,
         "0.0-2.0",
         "Italy",
         "R16"
        ],
        [
         9,
         "Switzerland",
         1,
         "Scotland",
         2,
         "4-3",
         "Scotland",
         "QuarterFinals"
        ],
        [
         10,
         "Czech",
         5,
         "Ukraine",
         3,
         "5-3",
         "Czech",
         "QuarterFinals"
        ],
        [
         11,
         "Croatia",
         2,
         "Türkiye",
         4,
         "3-4",
         "Türkiye",
         "QuarterFinals"
        ],
        [
         12,
         "Greece",
         5,
         "Italy",
         6,
         "3-2",
         "Italy",
         "QuarterFinals"
        ],
        [
         13,
         "Scotland",
         4,
         "Czech",
         1,
         "1-3",
         "Scotland",
         "SemiFinals"
        ],
        [
         14,
         "Türkiye",
         3,
         "Italy",
         1,
         "2-6",
         "Türkiye",
         "SemiFinals"
        ],
        [
         15,
         "Czech",
         5,
         "Italy",
         5,
         "4-1",
         "Czech",
         "ThirdPlace"
        ]
       ],
       "datasetInfos": [],
       "dbfsResultPath": null,
       "isJsonSchema": true,
       "metadata": {},
       "overflow": false,
       "plotOptions": {
        "customPlotOptions": {},
        "displayType": "table",
        "pivotAggregation": null,
        "pivotColumns": null,
        "xColumns": null,
        "yColumns": null
       },
       "removedWidgets": [],
       "schema": [
        {
         "metadata": "{}",
         "name": "MatchID",
         "type": "\"integer\""
        },
        {
         "metadata": "{\"__CHAR_VARCHAR_TYPE_STRING\":\"varchar(53)\"}",
         "name": "Team1",
         "type": "\"string\""
        },
        {
         "metadata": "{}",
         "name": "Team1Goals",
         "type": "\"integer\""
        },
        {
         "metadata": "{\"__CHAR_VARCHAR_TYPE_STRING\":\"varchar(53)\"}",
         "name": "Team2",
         "type": "\"string\""
        },
        {
         "metadata": "{}",
         "name": "Team2Goals",
         "type": "\"integer\""
        },
        {
         "metadata": "{\"__CHAR_VARCHAR_TYPE_STRING\":\"varchar(53)\"}",
         "name": "Result",
         "type": "\"string\""
        },
        {
         "metadata": "{\"__CHAR_VARCHAR_TYPE_STRING\":\"varchar(53)\"}",
         "name": "MatchWinner",
         "type": "\"string\""
        },
        {
         "metadata": "{\"__CHAR_VARCHAR_TYPE_STRING\":\"varchar(53)\"}",
         "name": "MatchStage",
         "type": "\"string\""
        }
       ],
       "type": "table"
      }
     },
     "output_type": "display_data"
    }
   ],
   "source": [
    "%sql\n",
    "select * from MatchesFixtures"
   ]
  },
  {
   "cell_type": "markdown",
   "metadata": {
    "application/vnd.databricks.v1+cell": {
     "cellMetadata": {
      "byteLimit": 2048000,
      "rowLimit": 10000
     },
     "inputWidgets": {},
     "nuid": "e16995a8-8e60-47f6-82fa-0a29132e6b48",
     "showTitle": false,
     "title": ""
    }
   },
   "source": [
    "#Finals"
   ]
  },
  {
   "cell_type": "code",
   "execution_count": 0,
   "metadata": {
    "application/vnd.databricks.v1+cell": {
     "cellMetadata": {
      "byteLimit": 2048000,
      "implicitDf": true,
      "rowLimit": 10000
     },
     "inputWidgets": {},
     "nuid": "4ab1769c-b2a8-4686-8082-379151916b64",
     "showTitle": false,
     "title": ""
    }
   },
   "outputs": [
    {
     "output_type": "display_data",
     "data": {
      "text/html": [
       "<style scoped>\n",
       "  .table-result-container {\n",
       "    max-height: 300px;\n",
       "    overflow: auto;\n",
       "  }\n",
       "  table, th, td {\n",
       "    border: 1px solid black;\n",
       "    border-collapse: collapse;\n",
       "  }\n",
       "  th, td {\n",
       "    padding: 5px;\n",
       "  }\n",
       "  th {\n",
       "    text-align: left;\n",
       "  }\n",
       "</style><div class='table-result-container'><table class='table-result'><thead style='background-color: white'><tr><th>num_affected_rows</th></tr></thead><tbody><tr><td>1</td></tr></tbody></table></div>"
      ]
     },
     "metadata": {
      "application/vnd.databricks.v1+output": {
       "addedWidgets": {},
       "aggData": [],
       "aggError": "",
       "aggOverflow": false,
       "aggSchema": [],
       "aggSeriesLimitReached": false,
       "aggType": "",
       "arguments": {},
       "columnCustomDisplayInfos": {},
       "data": [
        [
         1
        ]
       ],
       "datasetInfos": [],
       "dbfsResultPath": null,
       "isJsonSchema": true,
       "metadata": {},
       "overflow": false,
       "plotOptions": {
        "customPlotOptions": {},
        "displayType": "table",
        "pivotAggregation": null,
        "pivotColumns": null,
        "xColumns": null,
        "yColumns": null
       },
       "removedWidgets": [],
       "schema": [
        {
         "metadata": "{}",
         "name": "num_affected_rows",
         "type": "\"long\""
        }
       ],
       "type": "table"
      }
     },
     "output_type": "display_data"
    }
   ],
   "source": [
    "%sql\n",
    "INSERT INTO MatchesFixtures (MatchID, Team1, Team1Goals,Team2,Team2Goals, Result, MatchWinner, MatchStage)\n",
    "SELECT\n",
    "    ROW_NUMBER() OVER (ORDER BY 1) + 15 AS MatchID,\n",
    "    t1.MatchWinner AS Team1,\n",
    "    ROUND(RAND() * 6) AS Team1Goals,\n",
    "    t2.MatchWinner AS Team2,\n",
    "    ROUND(RAND() * 6) AS Team2Goals,\n",
    "    CONCAT(t1.Team1Goals, '-', t2.Team2Goals) AS Result,\n",
    "    'Not played' AS MatchWinner,\n",
    "    'Finals' AS MatchStage\n",
    "\n",
    "FROM MatchesFixtures t1\n",
    "CROSS JOIN MatchesFixtures t2\n",
    "ON\n",
    "  (t1.MatchID = 13 AND t2.MatchId = 14);\n",
    "\n",
    "UPDATE MatchesFixtures\n",
    "SET MatchWinner = \n",
    "    CASE\n",
    "        WHEN Team1Goals > Team2Goals THEN Team1\n",
    "        WHEN Team1Goals < Team2Goals THEN Team2\n",
    "        ELSE\n",
    "            CASE\n",
    "                WHEN Team1 < Team2 THEN Team1\n",
    "                ELSE Team2\n",
    "            END\n",
    "    END\n",
    "WHERE MatchStage = 'Finals';"
   ]
  },
  {
   "cell_type": "code",
   "execution_count": 0,
   "metadata": {
    "application/vnd.databricks.v1+cell": {
     "cellMetadata": {
      "byteLimit": 2048000,
      "implicitDf": true,
      "rowLimit": 10000
     },
     "inputWidgets": {},
     "nuid": "387f96a9-1634-405b-9386-0622b5345e1f",
     "showTitle": false,
     "title": ""
    }
   },
   "outputs": [
    {
     "output_type": "display_data",
     "data": {
      "text/html": [
       "<style scoped>\n",
       "  .table-result-container {\n",
       "    max-height: 300px;\n",
       "    overflow: auto;\n",
       "  }\n",
       "  table, th, td {\n",
       "    border: 1px solid black;\n",
       "    border-collapse: collapse;\n",
       "  }\n",
       "  th, td {\n",
       "    padding: 5px;\n",
       "  }\n",
       "  th {\n",
       "    text-align: left;\n",
       "  }\n",
       "</style><div class='table-result-container'><table class='table-result'><thead style='background-color: white'><tr><th>MatchID</th><th>Team1</th><th>Team1Goals</th><th>Team2</th><th>Team2Goals</th><th>Result</th><th>MatchWinner</th><th>MatchStage</th></tr></thead><tbody><tr><td>1</td><td>Albania</td><td>4</td><td>Switzerland</td><td>6</td><td>4.0-6.0</td><td>Switzerland</td><td>R16</td></tr><tr><td>2</td><td>Scotland</td><td>4</td><td>Denmark</td><td>3</td><td>4.0-3.0</td><td>Scotland</td><td>R16</td></tr><tr><td>3</td><td>Czech</td><td>5</td><td>Slovenia</td><td>4</td><td>5.0-4.0</td><td>Czech</td><td>R16</td></tr><tr><td>4</td><td>Netherlands</td><td>2</td><td>Ukraine</td><td>3</td><td>2.0-3.0</td><td>Ukraine</td><td>R16</td></tr><tr><td>5</td><td>Slovakia</td><td>3</td><td>Croatia</td><td>5</td><td>3.0-5.0</td><td>Croatia</td><td>R16</td></tr><tr><td>6</td><td>Austria</td><td>3</td><td>Türkiye</td><td>4</td><td>3.0-4.0</td><td>Türkiye</td><td>R16</td></tr><tr><td>7</td><td>Serbia</td><td>3</td><td>Greece</td><td>5</td><td>3.0-5.0</td><td>Greece</td><td>R16</td></tr><tr><td>8</td><td>Hungary</td><td>0</td><td>Italy</td><td>2</td><td>0.0-2.0</td><td>Italy</td><td>R16</td></tr><tr><td>9</td><td>Switzerland</td><td>1</td><td>Scotland</td><td>2</td><td>4-3</td><td>Scotland</td><td>QuarterFinals</td></tr><tr><td>10</td><td>Czech</td><td>5</td><td>Ukraine</td><td>3</td><td>5-3</td><td>Czech</td><td>QuarterFinals</td></tr><tr><td>11</td><td>Croatia</td><td>2</td><td>Türkiye</td><td>4</td><td>3-4</td><td>Türkiye</td><td>QuarterFinals</td></tr><tr><td>12</td><td>Greece</td><td>5</td><td>Italy</td><td>6</td><td>3-2</td><td>Italy</td><td>QuarterFinals</td></tr><tr><td>13</td><td>Scotland</td><td>4</td><td>Czech</td><td>1</td><td>1-3</td><td>Scotland</td><td>SemiFinals</td></tr><tr><td>14</td><td>Türkiye</td><td>3</td><td>Italy</td><td>1</td><td>2-6</td><td>Türkiye</td><td>SemiFinals</td></tr><tr><td>16</td><td>Scotland</td><td>2</td><td>Türkiye</td><td>3</td><td>4-1</td><td>Türkiye</td><td>Finals</td></tr><tr><td>15</td><td>Czech</td><td>5</td><td>Italy</td><td>5</td><td>4-1</td><td>Czech</td><td>ThirdPlace</td></tr></tbody></table></div>"
      ]
     },
     "metadata": {
      "application/vnd.databricks.v1+output": {
       "addedWidgets": {},
       "aggData": [],
       "aggError": "",
       "aggOverflow": false,
       "aggSchema": [],
       "aggSeriesLimitReached": false,
       "aggType": "",
       "arguments": {},
       "columnCustomDisplayInfos": {},
       "data": [
        [
         1,
         "Albania",
         4,
         "Switzerland",
         6,
         "4.0-6.0",
         "Switzerland",
         "R16"
        ],
        [
         2,
         "Scotland",
         4,
         "Denmark",
         3,
         "4.0-3.0",
         "Scotland",
         "R16"
        ],
        [
         3,
         "Czech",
         5,
         "Slovenia",
         4,
         "5.0-4.0",
         "Czech",
         "R16"
        ],
        [
         4,
         "Netherlands",
         2,
         "Ukraine",
         3,
         "2.0-3.0",
         "Ukraine",
         "R16"
        ],
        [
         5,
         "Slovakia",
         3,
         "Croatia",
         5,
         "3.0-5.0",
         "Croatia",
         "R16"
        ],
        [
         6,
         "Austria",
         3,
         "Türkiye",
         4,
         "3.0-4.0",
         "Türkiye",
         "R16"
        ],
        [
         7,
         "Serbia",
         3,
         "Greece",
         5,
         "3.0-5.0",
         "Greece",
         "R16"
        ],
        [
         8,
         "Hungary",
         0,
         "Italy",
         2,
         "0.0-2.0",
         "Italy",
         "R16"
        ],
        [
         9,
         "Switzerland",
         1,
         "Scotland",
         2,
         "4-3",
         "Scotland",
         "QuarterFinals"
        ],
        [
         10,
         "Czech",
         5,
         "Ukraine",
         3,
         "5-3",
         "Czech",
         "QuarterFinals"
        ],
        [
         11,
         "Croatia",
         2,
         "Türkiye",
         4,
         "3-4",
         "Türkiye",
         "QuarterFinals"
        ],
        [
         12,
         "Greece",
         5,
         "Italy",
         6,
         "3-2",
         "Italy",
         "QuarterFinals"
        ],
        [
         13,
         "Scotland",
         4,
         "Czech",
         1,
         "1-3",
         "Scotland",
         "SemiFinals"
        ],
        [
         14,
         "Türkiye",
         3,
         "Italy",
         1,
         "2-6",
         "Türkiye",
         "SemiFinals"
        ],
        [
         16,
         "Scotland",
         2,
         "Türkiye",
         3,
         "4-1",
         "Türkiye",
         "Finals"
        ],
        [
         15,
         "Czech",
         5,
         "Italy",
         5,
         "4-1",
         "Czech",
         "ThirdPlace"
        ]
       ],
       "datasetInfos": [],
       "dbfsResultPath": null,
       "isJsonSchema": true,
       "metadata": {},
       "overflow": false,
       "plotOptions": {
        "customPlotOptions": {},
        "displayType": "table",
        "pivotAggregation": null,
        "pivotColumns": null,
        "xColumns": null,
        "yColumns": null
       },
       "removedWidgets": [],
       "schema": [
        {
         "metadata": "{}",
         "name": "MatchID",
         "type": "\"integer\""
        },
        {
         "metadata": "{\"__CHAR_VARCHAR_TYPE_STRING\":\"varchar(53)\"}",
         "name": "Team1",
         "type": "\"string\""
        },
        {
         "metadata": "{}",
         "name": "Team1Goals",
         "type": "\"integer\""
        },
        {
         "metadata": "{\"__CHAR_VARCHAR_TYPE_STRING\":\"varchar(53)\"}",
         "name": "Team2",
         "type": "\"string\""
        },
        {
         "metadata": "{}",
         "name": "Team2Goals",
         "type": "\"integer\""
        },
        {
         "metadata": "{\"__CHAR_VARCHAR_TYPE_STRING\":\"varchar(53)\"}",
         "name": "Result",
         "type": "\"string\""
        },
        {
         "metadata": "{\"__CHAR_VARCHAR_TYPE_STRING\":\"varchar(53)\"}",
         "name": "MatchWinner",
         "type": "\"string\""
        },
        {
         "metadata": "{\"__CHAR_VARCHAR_TYPE_STRING\":\"varchar(53)\"}",
         "name": "MatchStage",
         "type": "\"string\""
        }
       ],
       "type": "table"
      }
     },
     "output_type": "display_data"
    }
   ],
   "source": [
    "%sql\n",
    "select * from MatchesFixtures"
   ]
  },
  {
   "cell_type": "code",
   "execution_count": 0,
   "metadata": {
    "application/vnd.databricks.v1+cell": {
     "cellMetadata": {
      "byteLimit": 2048000,
      "rowLimit": 10000
     },
     "inputWidgets": {},
     "nuid": "82c1a655-d357-4c78-b30b-50312d26784e",
     "showTitle": false,
     "title": ""
    }
   },
   "outputs": [],
   "source": [
    "import pandas as pd\n",
    "from pyspark.sql import SparkSession"
   ]
  },
  {
   "cell_type": "code",
   "execution_count": 0,
   "metadata": {
    "application/vnd.databricks.v1+cell": {
     "cellMetadata": {
      "byteLimit": 2048000,
      "rowLimit": 10000
     },
     "inputWidgets": {},
     "nuid": "5ff51dd0-1773-4511-8236-69a125009f68",
     "showTitle": false,
     "title": ""
    }
   },
   "outputs": [],
   "source": [
    "spark = SparkSession.builder \\\n",
    "    .appName(\"Visualizing_Euro_Cup\") \\\n",
    "    .getOrCreate()"
   ]
  },
  {
   "cell_type": "markdown",
   "metadata": {
    "application/vnd.databricks.v1+cell": {
     "cellMetadata": {
      "byteLimit": 2048000,
      "rowLimit": 10000
     },
     "inputWidgets": {},
     "nuid": "27989a6f-fde3-448a-a011-f44516db1f5f",
     "showTitle": false,
     "title": ""
    }
   },
   "source": [
    "Group Stage Visulaization"
   ]
  },
  {
   "cell_type": "code",
   "execution_count": 0,
   "metadata": {
    "application/vnd.databricks.v1+cell": {
     "cellMetadata": {
      "byteLimit": 2048000,
      "rowLimit": 10000
     },
     "inputWidgets": {},
     "nuid": "49c65780-ea2d-4463-8dbe-709c64c1db7f",
     "showTitle": false,
     "title": ""
    }
   },
   "outputs": [],
   "source": [
    "Groupstage = spark.sql(\"SELECT * FROM GroupStandings ORDER BY GroupName,Rankings\") \n",
    "Groupstage_pd = Groupstage.toPandas()\n"
   ]
  },
  {
   "cell_type": "code",
   "execution_count": 0,
   "metadata": {
    "application/vnd.databricks.v1+cell": {
     "cellMetadata": {
      "byteLimit": 2048000,
      "rowLimit": 10000
     },
     "inputWidgets": {},
     "nuid": "8e12a9b4-2ee2-4209-8c60-30d54adc854c",
     "showTitle": false,
     "title": ""
    }
   },
   "outputs": [
    {
     "output_type": "display_data",
     "data": {
      "text/html": [
       "<style scoped>\n",
       "  .table-result-container {\n",
       "    max-height: 300px;\n",
       "    overflow: auto;\n",
       "  }\n",
       "  table, th, td {\n",
       "    border: 1px solid black;\n",
       "    border-collapse: collapse;\n",
       "  }\n",
       "  th, td {\n",
       "    padding: 5px;\n",
       "  }\n",
       "  th {\n",
       "    text-align: left;\n",
       "  }\n",
       "</style><div class='table-result-container'><table class='table-result'><thead style='background-color: white'><tr><th>TeamId</th><th>TeamName</th><th>GroupName</th><th>MatchesPlayed</th><th>Wins</th><th>Draws</th><th>Losses</th><th>GoalsFor</th><th>GoalsAgainst</th><th>GoalDifference</th><th>Points</th><th>Rankings</th></tr></thead><tbody><tr><td>2</td><td>Scotland</td><td>A</td><td>3</td><td>2</td><td>1</td><td>0</td><td>12</td><td>8</td><td>4</td><td>7</td><td>1</td></tr><tr><td>3</td><td>Hungary</td><td>A</td><td>3</td><td>2</td><td>0</td><td>1</td><td>14</td><td>12</td><td>2</td><td>6</td><td>2</td></tr><tr><td>4</td><td>Switzerland</td><td>A</td><td>3</td><td>1</td><td>1</td><td>1</td><td>9</td><td>11</td><td>-2</td><td>4</td><td>3</td></tr><tr><td>1</td><td>Germany</td><td>A</td><td>3</td><td>0</td><td>0</td><td>3</td><td>8</td><td>12</td><td>-4</td><td>0</td><td>4</td></tr><tr><td>8</td><td>Albania</td><td>B</td><td>3</td><td>2</td><td>0</td><td>1</td><td>13</td><td>9</td><td>4</td><td>6</td><td>1</td></tr><tr><td>7</td><td>Italy</td><td>B</td><td>3</td><td>2</td><td>0</td><td>1</td><td>12</td><td>11</td><td>1</td><td>6</td><td>2</td></tr><tr><td>6</td><td>Croatia</td><td>B</td><td>3</td><td>1</td><td>0</td><td>2</td><td>10</td><td>12</td><td>-2</td><td>3</td><td>3</td></tr><tr><td>5</td><td>Spain</td><td>B</td><td>3</td><td>1</td><td>0</td><td>2</td><td>12</td><td>15</td><td>-3</td><td>3</td><td>4</td></tr><tr><td>11</td><td>Serbia</td><td>C</td><td>3</td><td>1</td><td>2</td><td>0</td><td>8</td><td>5</td><td>3</td><td>5</td><td>1</td></tr><tr><td>10</td><td>Denmark</td><td>C</td><td>3</td><td>1</td><td>2</td><td>0</td><td>13</td><td>12</td><td>1</td><td>5</td><td>2</td></tr><tr><td>9</td><td>Slovenia</td><td>C</td><td>3</td><td>0</td><td>3</td><td>0</td><td>8</td><td>8</td><td>0</td><td>3</td><td>3</td></tr><tr><td>12</td><td>England</td><td>C</td><td>3</td><td>0</td><td>1</td><td>2</td><td>5</td><td>9</td><td>-4</td><td>1</td><td>4</td></tr><tr><td>15</td><td>Austria</td><td>D</td><td>3</td><td>2</td><td>1</td><td>0</td><td>10</td><td>6</td><td>4</td><td>7</td><td>1</td></tr><tr><td>14</td><td>Netherlands</td><td>D</td><td>3</td><td>2</td><td>0</td><td>1</td><td>12</td><td>9</td><td>3</td><td>6</td><td>2</td></tr><tr><td>13</td><td>Finland</td><td>D</td><td>3</td><td>1</td><td>0</td><td>2</td><td>9</td><td>14</td><td>-5</td><td>3</td><td>3</td></tr><tr><td>16</td><td>France</td><td>D</td><td>3</td><td>0</td><td>1</td><td>2</td><td>6</td><td>8</td><td>-2</td><td>1</td><td>4</td></tr><tr><td>18</td><td>Slovakia</td><td>E</td><td>3</td><td>2</td><td>1</td><td>0</td><td>13</td><td>5</td><td>8</td><td>7</td><td>1</td></tr><tr><td>20</td><td>Ukraine</td><td>E</td><td>3</td><td>1</td><td>1</td><td>1</td><td>8</td><td>7</td><td>1</td><td>4</td><td>2</td></tr><tr><td>17</td><td>Belgium</td><td>E</td><td>3</td><td>1</td><td>0</td><td>2</td><td>8</td><td>12</td><td>-4</td><td>3</td><td>3</td></tr><tr><td>19</td><td>Romania</td><td>E</td><td>3</td><td>1</td><td>0</td><td>2</td><td>8</td><td>13</td><td>-5</td><td>3</td><td>4</td></tr><tr><td>24</td><td>Czech</td><td>F</td><td>3</td><td>3</td><td>0</td><td>0</td><td>14</td><td>6</td><td>8</td><td>9</td><td>1</td></tr><tr><td>21</td><td>Türkiye</td><td>F</td><td>3</td><td>2</td><td>0</td><td>1</td><td>11</td><td>7</td><td>4</td><td>6</td><td>2</td></tr><tr><td>22</td><td>Greece</td><td>F</td><td>3</td><td>1</td><td>0</td><td>2</td><td>12</td><td>15</td><td>-3</td><td>3</td><td>3</td></tr><tr><td>23</td><td>Portugal</td><td>F</td><td>3</td><td>0</td><td>0</td><td>3</td><td>6</td><td>15</td><td>-9</td><td>0</td><td>4</td></tr></tbody></table></div>"
      ]
     },
     "metadata": {
      "application/vnd.databricks.v1+output": {
       "addedWidgets": {},
       "aggData": [],
       "aggError": "",
       "aggOverflow": false,
       "aggSchema": [],
       "aggSeriesLimitReached": false,
       "aggType": "",
       "arguments": {},
       "columnCustomDisplayInfos": {},
       "data": [
        [
         2,
         "Scotland",
         "A",
         3,
         2,
         1,
         0,
         12,
         8,
         4,
         7,
         1
        ],
        [
         3,
         "Hungary",
         "A",
         3,
         2,
         0,
         1,
         14,
         12,
         2,
         6,
         2
        ],
        [
         4,
         "Switzerland",
         "A",
         3,
         1,
         1,
         1,
         9,
         11,
         -2,
         4,
         3
        ],
        [
         1,
         "Germany",
         "A",
         3,
         0,
         0,
         3,
         8,
         12,
         -4,
         0,
         4
        ],
        [
         8,
         "Albania",
         "B",
         3,
         2,
         0,
         1,
         13,
         9,
         4,
         6,
         1
        ],
        [
         7,
         "Italy",
         "B",
         3,
         2,
         0,
         1,
         12,
         11,
         1,
         6,
         2
        ],
        [
         6,
         "Croatia",
         "B",
         3,
         1,
         0,
         2,
         10,
         12,
         -2,
         3,
         3
        ],
        [
         5,
         "Spain",
         "B",
         3,
         1,
         0,
         2,
         12,
         15,
         -3,
         3,
         4
        ],
        [
         11,
         "Serbia",
         "C",
         3,
         1,
         2,
         0,
         8,
         5,
         3,
         5,
         1
        ],
        [
         10,
         "Denmark",
         "C",
         3,
         1,
         2,
         0,
         13,
         12,
         1,
         5,
         2
        ],
        [
         9,
         "Slovenia",
         "C",
         3,
         0,
         3,
         0,
         8,
         8,
         0,
         3,
         3
        ],
        [
         12,
         "England",
         "C",
         3,
         0,
         1,
         2,
         5,
         9,
         -4,
         1,
         4
        ],
        [
         15,
         "Austria",
         "D",
         3,
         2,
         1,
         0,
         10,
         6,
         4,
         7,
         1
        ],
        [
         14,
         "Netherlands",
         "D",
         3,
         2,
         0,
         1,
         12,
         9,
         3,
         6,
         2
        ],
        [
         13,
         "Finland",
         "D",
         3,
         1,
         0,
         2,
         9,
         14,
         -5,
         3,
         3
        ],
        [
         16,
         "France",
         "D",
         3,
         0,
         1,
         2,
         6,
         8,
         -2,
         1,
         4
        ],
        [
         18,
         "Slovakia",
         "E",
         3,
         2,
         1,
         0,
         13,
         5,
         8,
         7,
         1
        ],
        [
         20,
         "Ukraine",
         "E",
         3,
         1,
         1,
         1,
         8,
         7,
         1,
         4,
         2
        ],
        [
         17,
         "Belgium",
         "E",
         3,
         1,
         0,
         2,
         8,
         12,
         -4,
         3,
         3
        ],
        [
         19,
         "Romania",
         "E",
         3,
         1,
         0,
         2,
         8,
         13,
         -5,
         3,
         4
        ],
        [
         24,
         "Czech",
         "F",
         3,
         3,
         0,
         0,
         14,
         6,
         8,
         9,
         1
        ],
        [
         21,
         "Türkiye",
         "F",
         3,
         2,
         0,
         1,
         11,
         7,
         4,
         6,
         2
        ],
        [
         22,
         "Greece",
         "F",
         3,
         1,
         0,
         2,
         12,
         15,
         -3,
         3,
         3
        ],
        [
         23,
         "Portugal",
         "F",
         3,
         0,
         0,
         3,
         6,
         15,
         -9,
         0,
         4
        ]
       ],
       "datasetInfos": [],
       "dbfsResultPath": null,
       "isJsonSchema": true,
       "metadata": {},
       "overflow": false,
       "plotOptions": {
        "customPlotOptions": {},
        "displayType": "table",
        "pivotAggregation": null,
        "pivotColumns": null,
        "xColumns": null,
        "yColumns": null
       },
       "removedWidgets": [],
       "schema": [
        {
         "metadata": "{}",
         "name": "TeamId",
         "type": "\"integer\""
        },
        {
         "metadata": "{}",
         "name": "TeamName",
         "type": "\"string\""
        },
        {
         "metadata": "{}",
         "name": "GroupName",
         "type": "\"string\""
        },
        {
         "metadata": "{}",
         "name": "MatchesPlayed",
         "type": "\"integer\""
        },
        {
         "metadata": "{}",
         "name": "Wins",
         "type": "\"integer\""
        },
        {
         "metadata": "{}",
         "name": "Draws",
         "type": "\"integer\""
        },
        {
         "metadata": "{}",
         "name": "Losses",
         "type": "\"integer\""
        },
        {
         "metadata": "{}",
         "name": "GoalsFor",
         "type": "\"integer\""
        },
        {
         "metadata": "{}",
         "name": "GoalsAgainst",
         "type": "\"integer\""
        },
        {
         "metadata": "{}",
         "name": "GoalDifference",
         "type": "\"integer\""
        },
        {
         "metadata": "{}",
         "name": "Points",
         "type": "\"integer\""
        },
        {
         "metadata": "{}",
         "name": "Rankings",
         "type": "\"integer\""
        }
       ],
       "type": "table"
      }
     },
     "output_type": "display_data"
    }
   ],
   "source": [
    "display(Groupstage_pd)"
   ]
  },
  {
   "cell_type": "markdown",
   "metadata": {
    "application/vnd.databricks.v1+cell": {
     "cellMetadata": {
      "byteLimit": 2048000,
      "rowLimit": 10000
     },
     "inputWidgets": {},
     "nuid": "1a00f70f-6d21-4734-ae23-3b750013812d",
     "showTitle": false,
     "title": ""
    }
   },
   "source": [
    "Groupstage visualization"
   ]
  },
  {
   "cell_type": "code",
   "execution_count": 0,
   "metadata": {
    "application/vnd.databricks.v1+cell": {
     "cellMetadata": {
      "byteLimit": 2048000,
      "rowLimit": 10000
     },
     "inputWidgets": {},
     "nuid": "fb3e613d-1f19-462b-a829-3a1c636d9517",
     "showTitle": false,
     "title": ""
    }
   },
   "outputs": [],
   "source": [
    "visualization = pd.DataFrame({\n",
    "    'Rank': Groupstage_pd ['Rankings'],\n",
    "    'Teams': Groupstage_pd ['TeamName'],\n",
    "    'Group': Groupstage_pd ['GroupName'],\n",
    "    'played_games':Groupstage_pd ['MatchesPlayed'],\n",
    "    'W':  Groupstage_pd ['Wins'],\n",
    "    'D': Groupstage_pd ['Draws'],\n",
    "    'L':  Groupstage_pd ['Losses'],\n",
    "    'GF':  Groupstage_pd ['GoalsFor'],\n",
    "    'GA': Groupstage_pd ['GoalsAgainst'],\n",
    "    'GD':  Groupstage_pd ['GoalDifference'],\n",
    "    'Pts':  Groupstage_pd ['Points']\n",
    "})\n",
    "\n",
    "\n",
    "#empty row for group stage\n",
    "empty_row = pd.DataFrame({col: [''] for col in visualization.columns})"
   ]
  },
  {
   "cell_type": "code",
   "execution_count": 0,
   "metadata": {
    "application/vnd.databricks.v1+cell": {
     "cellMetadata": {
      "byteLimit": 2048000,
      "rowLimit": 10000
     },
     "inputWidgets": {},
     "nuid": "09601d1b-505b-4879-8370-1bbf53e55216",
     "showTitle": false,
     "title": ""
    }
   },
   "outputs": [
    {
     "output_type": "display_data",
     "data": {
      "text/html": [
       "<style scoped>\n",
       "  .table-result-container {\n",
       "    max-height: 300px;\n",
       "    overflow: auto;\n",
       "  }\n",
       "  table, th, td {\n",
       "    border: 1px solid black;\n",
       "    border-collapse: collapse;\n",
       "  }\n",
       "  th, td {\n",
       "    padding: 5px;\n",
       "  }\n",
       "  th {\n",
       "    text-align: left;\n",
       "  }\n",
       "</style><div class='table-result-container'><table class='table-result'><thead style='background-color: white'><tr><th>Rank</th><th>Teams</th><th>Group</th><th>played_games</th><th>W</th><th>D</th><th>L</th><th>GF</th><th>GA</th><th>GD</th><th>Pts</th></tr></thead><tbody><tr><td>1</td><td>Scotland</td><td>A</td><td>3</td><td>2</td><td>1</td><td>0</td><td>12</td><td>8</td><td>4</td><td>7</td></tr><tr><td>2</td><td>Hungary</td><td>A</td><td>3</td><td>2</td><td>0</td><td>1</td><td>14</td><td>12</td><td>2</td><td>6</td></tr><tr><td>3</td><td>Switzerland</td><td>A</td><td>3</td><td>1</td><td>1</td><td>1</td><td>9</td><td>11</td><td>-2</td><td>4</td></tr><tr><td>4</td><td>Germany</td><td>A</td><td>3</td><td>0</td><td>0</td><td>3</td><td>8</td><td>12</td><td>-4</td><td>0</td></tr><tr><td>1</td><td>Albania</td><td>B</td><td>3</td><td>2</td><td>0</td><td>1</td><td>13</td><td>9</td><td>4</td><td>6</td></tr><tr><td>2</td><td>Italy</td><td>B</td><td>3</td><td>2</td><td>0</td><td>1</td><td>12</td><td>11</td><td>1</td><td>6</td></tr><tr><td>3</td><td>Croatia</td><td>B</td><td>3</td><td>1</td><td>0</td><td>2</td><td>10</td><td>12</td><td>-2</td><td>3</td></tr><tr><td>4</td><td>Spain</td><td>B</td><td>3</td><td>1</td><td>0</td><td>2</td><td>12</td><td>15</td><td>-3</td><td>3</td></tr><tr><td>1</td><td>Serbia</td><td>C</td><td>3</td><td>1</td><td>2</td><td>0</td><td>8</td><td>5</td><td>3</td><td>5</td></tr><tr><td>2</td><td>Denmark</td><td>C</td><td>3</td><td>1</td><td>2</td><td>0</td><td>13</td><td>12</td><td>1</td><td>5</td></tr><tr><td>3</td><td>Slovenia</td><td>C</td><td>3</td><td>0</td><td>3</td><td>0</td><td>8</td><td>8</td><td>0</td><td>3</td></tr><tr><td>4</td><td>England</td><td>C</td><td>3</td><td>0</td><td>1</td><td>2</td><td>5</td><td>9</td><td>-4</td><td>1</td></tr></tbody></table></div>"
      ]
     },
     "metadata": {
      "application/vnd.databricks.v1+output": {
       "addedWidgets": {},
       "aggData": [],
       "aggError": "",
       "aggOverflow": false,
       "aggSchema": [],
       "aggSeriesLimitReached": false,
       "aggType": "",
       "arguments": {},
       "columnCustomDisplayInfos": {},
       "data": [
        [
         1,
         "Scotland",
         "A",
         3,
         2,
         1,
         0,
         12,
         8,
         4,
         7
        ],
        [
         2,
         "Hungary",
         "A",
         3,
         2,
         0,
         1,
         14,
         12,
         2,
         6
        ],
        [
         3,
         "Switzerland",
         "A",
         3,
         1,
         1,
         1,
         9,
         11,
         -2,
         4
        ],
        [
         4,
         "Germany",
         "A",
         3,
         0,
         0,
         3,
         8,
         12,
         -4,
         0
        ],
        [
         1,
         "Albania",
         "B",
         3,
         2,
         0,
         1,
         13,
         9,
         4,
         6
        ],
        [
         2,
         "Italy",
         "B",
         3,
         2,
         0,
         1,
         12,
         11,
         1,
         6
        ],
        [
         3,
         "Croatia",
         "B",
         3,
         1,
         0,
         2,
         10,
         12,
         -2,
         3
        ],
        [
         4,
         "Spain",
         "B",
         3,
         1,
         0,
         2,
         12,
         15,
         -3,
         3
        ],
        [
         1,
         "Serbia",
         "C",
         3,
         1,
         2,
         0,
         8,
         5,
         3,
         5
        ],
        [
         2,
         "Denmark",
         "C",
         3,
         1,
         2,
         0,
         13,
         12,
         1,
         5
        ],
        [
         3,
         "Slovenia",
         "C",
         3,
         0,
         3,
         0,
         8,
         8,
         0,
         3
        ],
        [
         4,
         "England",
         "C",
         3,
         0,
         1,
         2,
         5,
         9,
         -4,
         1
        ]
       ],
       "datasetInfos": [],
       "dbfsResultPath": null,
       "isJsonSchema": true,
       "metadata": {},
       "overflow": false,
       "plotOptions": {
        "customPlotOptions": {},
        "displayType": "table",
        "pivotAggregation": null,
        "pivotColumns": null,
        "xColumns": null,
        "yColumns": null
       },
       "removedWidgets": [],
       "schema": [
        {
         "metadata": "{}",
         "name": "Rank",
         "type": "\"integer\""
        },
        {
         "metadata": "{}",
         "name": "Teams",
         "type": "\"string\""
        },
        {
         "metadata": "{}",
         "name": "Group",
         "type": "\"string\""
        },
        {
         "metadata": "{}",
         "name": "played_games",
         "type": "\"integer\""
        },
        {
         "metadata": "{}",
         "name": "W",
         "type": "\"integer\""
        },
        {
         "metadata": "{}",
         "name": "D",
         "type": "\"integer\""
        },
        {
         "metadata": "{}",
         "name": "L",
         "type": "\"integer\""
        },
        {
         "metadata": "{}",
         "name": "GF",
         "type": "\"integer\""
        },
        {
         "metadata": "{}",
         "name": "GA",
         "type": "\"integer\""
        },
        {
         "metadata": "{}",
         "name": "GD",
         "type": "\"integer\""
        },
        {
         "metadata": "{}",
         "name": "Pts",
         "type": "\"integer\""
        }
       ],
       "type": "table"
      }
     },
     "output_type": "display_data"
    },
    {
     "output_type": "display_data",
     "data": {
      "text/html": [
       "<style scoped>\n",
       "  .table-result-container {\n",
       "    max-height: 300px;\n",
       "    overflow: auto;\n",
       "  }\n",
       "  table, th, td {\n",
       "    border: 1px solid black;\n",
       "    border-collapse: collapse;\n",
       "  }\n",
       "  th, td {\n",
       "    padding: 5px;\n",
       "  }\n",
       "  th {\n",
       "    text-align: left;\n",
       "  }\n",
       "</style><div class='table-result-container'><table class='table-result'><thead style='background-color: white'><tr><th>Rank</th><th>Teams</th><th>Group</th><th>played_games</th><th>W</th><th>D</th><th>L</th><th>GF</th><th>GA</th><th>GD</th><th>Pts</th></tr></thead><tbody><tr><td>1</td><td>Austria</td><td>D</td><td>3</td><td>2</td><td>1</td><td>0</td><td>10</td><td>6</td><td>4</td><td>7</td></tr><tr><td>2</td><td>Netherlands</td><td>D</td><td>3</td><td>2</td><td>0</td><td>1</td><td>12</td><td>9</td><td>3</td><td>6</td></tr><tr><td>3</td><td>Finland</td><td>D</td><td>3</td><td>1</td><td>0</td><td>2</td><td>9</td><td>14</td><td>-5</td><td>3</td></tr><tr><td>4</td><td>France</td><td>D</td><td>3</td><td>0</td><td>1</td><td>2</td><td>6</td><td>8</td><td>-2</td><td>1</td></tr><tr><td>1</td><td>Slovakia</td><td>E</td><td>3</td><td>2</td><td>1</td><td>0</td><td>13</td><td>5</td><td>8</td><td>7</td></tr><tr><td>2</td><td>Ukraine</td><td>E</td><td>3</td><td>1</td><td>1</td><td>1</td><td>8</td><td>7</td><td>1</td><td>4</td></tr><tr><td>3</td><td>Belgium</td><td>E</td><td>3</td><td>1</td><td>0</td><td>2</td><td>8</td><td>12</td><td>-4</td><td>3</td></tr><tr><td>4</td><td>Romania</td><td>E</td><td>3</td><td>1</td><td>0</td><td>2</td><td>8</td><td>13</td><td>-5</td><td>3</td></tr><tr><td>1</td><td>Czech</td><td>F</td><td>3</td><td>3</td><td>0</td><td>0</td><td>14</td><td>6</td><td>8</td><td>9</td></tr><tr><td>2</td><td>Türkiye</td><td>F</td><td>3</td><td>2</td><td>0</td><td>1</td><td>11</td><td>7</td><td>4</td><td>6</td></tr><tr><td>3</td><td>Greece</td><td>F</td><td>3</td><td>1</td><td>0</td><td>2</td><td>12</td><td>15</td><td>-3</td><td>3</td></tr><tr><td>4</td><td>Portugal</td><td>F</td><td>3</td><td>0</td><td>0</td><td>3</td><td>6</td><td>15</td><td>-9</td><td>0</td></tr></tbody></table></div>"
      ]
     },
     "metadata": {
      "application/vnd.databricks.v1+output": {
       "addedWidgets": {},
       "aggData": [],
       "aggError": "",
       "aggOverflow": false,
       "aggSchema": [],
       "aggSeriesLimitReached": false,
       "aggType": "",
       "arguments": {},
       "columnCustomDisplayInfos": {},
       "data": [
        [
         1,
         "Austria",
         "D",
         3,
         2,
         1,
         0,
         10,
         6,
         4,
         7
        ],
        [
         2,
         "Netherlands",
         "D",
         3,
         2,
         0,
         1,
         12,
         9,
         3,
         6
        ],
        [
         3,
         "Finland",
         "D",
         3,
         1,
         0,
         2,
         9,
         14,
         -5,
         3
        ],
        [
         4,
         "France",
         "D",
         3,
         0,
         1,
         2,
         6,
         8,
         -2,
         1
        ],
        [
         1,
         "Slovakia",
         "E",
         3,
         2,
         1,
         0,
         13,
         5,
         8,
         7
        ],
        [
         2,
         "Ukraine",
         "E",
         3,
         1,
         1,
         1,
         8,
         7,
         1,
         4
        ],
        [
         3,
         "Belgium",
         "E",
         3,
         1,
         0,
         2,
         8,
         12,
         -4,
         3
        ],
        [
         4,
         "Romania",
         "E",
         3,
         1,
         0,
         2,
         8,
         13,
         -5,
         3
        ],
        [
         1,
         "Czech",
         "F",
         3,
         3,
         0,
         0,
         14,
         6,
         8,
         9
        ],
        [
         2,
         "Türkiye",
         "F",
         3,
         2,
         0,
         1,
         11,
         7,
         4,
         6
        ],
        [
         3,
         "Greece",
         "F",
         3,
         1,
         0,
         2,
         12,
         15,
         -3,
         3
        ],
        [
         4,
         "Portugal",
         "F",
         3,
         0,
         0,
         3,
         6,
         15,
         -9,
         0
        ]
       ],
       "datasetInfos": [],
       "dbfsResultPath": null,
       "isJsonSchema": true,
       "metadata": {},
       "overflow": false,
       "plotOptions": {
        "customPlotOptions": {},
        "displayType": "table",
        "pivotAggregation": null,
        "pivotColumns": null,
        "xColumns": null,
        "yColumns": null
       },
       "removedWidgets": [],
       "schema": [
        {
         "metadata": "{}",
         "name": "Rank",
         "type": "\"integer\""
        },
        {
         "metadata": "{}",
         "name": "Teams",
         "type": "\"string\""
        },
        {
         "metadata": "{}",
         "name": "Group",
         "type": "\"string\""
        },
        {
         "metadata": "{}",
         "name": "played_games",
         "type": "\"integer\""
        },
        {
         "metadata": "{}",
         "name": "W",
         "type": "\"integer\""
        },
        {
         "metadata": "{}",
         "name": "D",
         "type": "\"integer\""
        },
        {
         "metadata": "{}",
         "name": "L",
         "type": "\"integer\""
        },
        {
         "metadata": "{}",
         "name": "GF",
         "type": "\"integer\""
        },
        {
         "metadata": "{}",
         "name": "GA",
         "type": "\"integer\""
        },
        {
         "metadata": "{}",
         "name": "GD",
         "type": "\"integer\""
        },
        {
         "metadata": "{}",
         "name": "Pts",
         "type": "\"integer\""
        }
       ],
       "type": "table"
      }
     },
     "output_type": "display_data"
    }
   ],
   "source": [
    "left_table = visualization[visualization['Group'].str.contains('^[ABC]')]\n",
    "\n",
    "right_table = visualization[visualization['Group'].str.contains('^[DEF]')]\n",
    "\n",
    "left_table.reset_index(drop=True, inplace=True)\n",
    "right_table.reset_index(drop=True, inplace=True)\n",
    "\n",
    "display(left_table)\n",
    "display(right_table)"
   ]
  },
  {
   "cell_type": "code",
   "execution_count": 0,
   "metadata": {
    "application/vnd.databricks.v1+cell": {
     "cellMetadata": {
      "byteLimit": 2048000,
      "rowLimit": 10000
     },
     "inputWidgets": {},
     "nuid": "1f720798-f181-454c-8560-d9fe12467c22",
     "showTitle": false,
     "title": ""
    }
   },
   "outputs": [],
   "source": [
    "import numpy as np"
   ]
  },
  {
   "cell_type": "markdown",
   "metadata": {
    "application/vnd.databricks.v1+cell": {
     "cellMetadata": {
      "byteLimit": 2048000,
      "rowLimit": 10000
     },
     "inputWidgets": {},
     "nuid": "e614cdc7-f839-4907-a259-ee25ad9b8fe6",
     "showTitle": false,
     "title": ""
    }
   },
   "source": [
    "Displaying Left Table"
   ]
  },
  {
   "cell_type": "code",
   "execution_count": 0,
   "metadata": {
    "application/vnd.databricks.v1+cell": {
     "cellMetadata": {
      "byteLimit": 2048000,
      "rowLimit": 10000
     },
     "inputWidgets": {},
     "nuid": "45af0df1-a2b0-4638-a763-b4866cc31dc3",
     "showTitle": false,
     "title": ""
    }
   },
   "outputs": [
    {
     "output_type": "stream",
     "name": "stderr",
     "output_type": "stream",
     "text": [
      "/databricks/spark/python/pyspark/sql/pandas/conversion.py:467: UserWarning: createDataFrame attempted Arrow optimization because 'spark.sql.execution.arrow.pyspark.enabled' is set to true; however, failed by the reason below:\n  Could not convert '' with type str: tried to convert to int64\nAttempting non-optimization as 'spark.sql.execution.arrow.pyspark.fallback.enabled' is set to true.\n  warn(msg)\n"
     ]
    },
    {
     "output_type": "display_data",
     "data": {
      "text/html": [
       "<style scoped>\n",
       "  .table-result-container {\n",
       "    max-height: 300px;\n",
       "    overflow: auto;\n",
       "  }\n",
       "  table, th, td {\n",
       "    border: 1px solid black;\n",
       "    border-collapse: collapse;\n",
       "  }\n",
       "  th, td {\n",
       "    padding: 5px;\n",
       "  }\n",
       "  th {\n",
       "    text-align: left;\n",
       "  }\n",
       "</style><div class='table-result-container'><table class='table-result'><thead style='background-color: white'><tr><th>L_Rank</th><th>L_Teams</th><th>L_Group</th><th>L_MP</th><th>L_W</th><th>L_D</th><th>L_L</th><th>L_GF</th><th>L_GA</th><th>L_GD</th><th>L_Pts</th></tr></thead><tbody><tr><td>1</td><td>Scotland</td><td>A</td><td>3</td><td>2</td><td>1</td><td>0</td><td>12</td><td>8</td><td>4</td><td>7</td></tr><tr><td>2</td><td>Hungary</td><td>A</td><td>3</td><td>2</td><td>0</td><td>1</td><td>14</td><td>12</td><td>2</td><td>6</td></tr><tr><td>3</td><td>Switzerland</td><td>A</td><td>3</td><td>1</td><td>1</td><td>1</td><td>9</td><td>11</td><td>-2</td><td>4</td></tr><tr><td>4</td><td>Germany</td><td>A</td><td>3</td><td>0</td><td>0</td><td>3</td><td>8</td><td>12</td><td>-4</td><td>0</td></tr><tr><td></td><td></td><td></td><td></td><td></td><td></td><td></td><td></td><td></td><td></td><td></td></tr><tr><td>1</td><td>Albania</td><td>B</td><td>3</td><td>2</td><td>0</td><td>1</td><td>13</td><td>9</td><td>4</td><td>6</td></tr><tr><td>2</td><td>Italy</td><td>B</td><td>3</td><td>2</td><td>0</td><td>1</td><td>12</td><td>11</td><td>1</td><td>6</td></tr><tr><td>3</td><td>Croatia</td><td>B</td><td>3</td><td>1</td><td>0</td><td>2</td><td>10</td><td>12</td><td>-2</td><td>3</td></tr><tr><td>4</td><td>Spain</td><td>B</td><td>3</td><td>1</td><td>0</td><td>2</td><td>12</td><td>15</td><td>-3</td><td>3</td></tr><tr><td></td><td></td><td></td><td></td><td></td><td></td><td></td><td></td><td></td><td></td><td></td></tr><tr><td>1</td><td>Serbia</td><td>C</td><td>3</td><td>1</td><td>2</td><td>0</td><td>8</td><td>5</td><td>3</td><td>5</td></tr><tr><td>2</td><td>Denmark</td><td>C</td><td>3</td><td>1</td><td>2</td><td>0</td><td>13</td><td>12</td><td>1</td><td>5</td></tr><tr><td>3</td><td>Slovenia</td><td>C</td><td>3</td><td>0</td><td>3</td><td>0</td><td>8</td><td>8</td><td>0</td><td>3</td></tr><tr><td>4</td><td>England</td><td>C</td><td>3</td><td>0</td><td>1</td><td>2</td><td>5</td><td>9</td><td>-4</td><td>1</td></tr></tbody></table></div>"
      ]
     },
     "metadata": {
      "application/vnd.databricks.v1+output": {
       "addedWidgets": {},
       "aggData": [],
       "aggError": "",
       "aggOverflow": false,
       "aggSchema": [],
       "aggSeriesLimitReached": false,
       "aggType": "",
       "arguments": {},
       "columnCustomDisplayInfos": {},
       "data": [
        [
         "1",
         "Scotland",
         "A",
         "3",
         "2",
         "1",
         "0",
         "12",
         "8",
         "4",
         "7"
        ],
        [
         "2",
         "Hungary",
         "A",
         "3",
         "2",
         "0",
         "1",
         "14",
         "12",
         "2",
         "6"
        ],
        [
         "3",
         "Switzerland",
         "A",
         "3",
         "1",
         "1",
         "1",
         "9",
         "11",
         "-2",
         "4"
        ],
        [
         "4",
         "Germany",
         "A",
         "3",
         "0",
         "0",
         "3",
         "8",
         "12",
         "-4",
         "0"
        ],
        [
         "",
         "",
         "",
         "",
         "",
         "",
         "",
         "",
         "",
         "",
         ""
        ],
        [
         "1",
         "Albania",
         "B",
         "3",
         "2",
         "0",
         "1",
         "13",
         "9",
         "4",
         "6"
        ],
        [
         "2",
         "Italy",
         "B",
         "3",
         "2",
         "0",
         "1",
         "12",
         "11",
         "1",
         "6"
        ],
        [
         "3",
         "Croatia",
         "B",
         "3",
         "1",
         "0",
         "2",
         "10",
         "12",
         "-2",
         "3"
        ],
        [
         "4",
         "Spain",
         "B",
         "3",
         "1",
         "0",
         "2",
         "12",
         "15",
         "-3",
         "3"
        ],
        [
         "",
         "",
         "",
         "",
         "",
         "",
         "",
         "",
         "",
         "",
         ""
        ],
        [
         "1",
         "Serbia",
         "C",
         "3",
         "1",
         "2",
         "0",
         "8",
         "5",
         "3",
         "5"
        ],
        [
         "2",
         "Denmark",
         "C",
         "3",
         "1",
         "2",
         "0",
         "13",
         "12",
         "1",
         "5"
        ],
        [
         "3",
         "Slovenia",
         "C",
         "3",
         "0",
         "3",
         "0",
         "8",
         "8",
         "0",
         "3"
        ],
        [
         "4",
         "England",
         "C",
         "3",
         "0",
         "1",
         "2",
         "5",
         "9",
         "-4",
         "1"
        ]
       ],
       "datasetInfos": [],
       "dbfsResultPath": null,
       "isJsonSchema": true,
       "metadata": {},
       "overflow": false,
       "plotOptions": {
        "customPlotOptions": {},
        "displayType": "table",
        "pivotAggregation": null,
        "pivotColumns": null,
        "xColumns": null,
        "yColumns": null
       },
       "removedWidgets": [],
       "schema": [
        {
         "metadata": "{}",
         "name": "L_Rank",
         "type": "\"string\""
        },
        {
         "metadata": "{}",
         "name": "L_Teams",
         "type": "\"string\""
        },
        {
         "metadata": "{}",
         "name": "L_Group",
         "type": "\"string\""
        },
        {
         "metadata": "{}",
         "name": "L_MP",
         "type": "\"string\""
        },
        {
         "metadata": "{}",
         "name": "L_W",
         "type": "\"string\""
        },
        {
         "metadata": "{}",
         "name": "L_D",
         "type": "\"string\""
        },
        {
         "metadata": "{}",
         "name": "L_L",
         "type": "\"string\""
        },
        {
         "metadata": "{}",
         "name": "L_GF",
         "type": "\"string\""
        },
        {
         "metadata": "{}",
         "name": "L_GA",
         "type": "\"string\""
        },
        {
         "metadata": "{}",
         "name": "L_GD",
         "type": "\"string\""
        },
        {
         "metadata": "{}",
         "name": "L_Pts",
         "type": "\"string\""
        }
       ],
       "type": "table"
      }
     },
     "output_type": "display_data"
    },
    {
     "output_type": "stream",
     "name": "stdout",
     "output_type": "stream",
     "text": [
      "7\n"
     ]
    }
   ],
   "source": [
    "blank_row = {col: '' for col in visualization.columns}\n",
    "\n",
    "blank_row_df = pd.DataFrame([blank_row])\n",
    "\n",
    "# Divide the teams into groups of four\n",
    "groups = [left_table.iloc[i:i+4] for i in range(0, len(left_table), 4)]\n",
    "\n",
    "# Iterate over the groups and add a blank row except for the last one\n",
    "for i in range(len(groups)):\n",
    "    if i < len(groups) - 1:\n",
    "        groups[i] = pd.concat([groups[i], blank_row_df], ignore_index=True)\n",
    "\n",
    "# Concatenate the groups to form the final table with spacing\n",
    "left_table_with_space = pd.concat(groups).reset_index(drop=True)\n",
    "\n",
    "# Rename the columns with the new names\n",
    "left_table_with_space = left_table_with_space.rename(columns={\n",
    "    'Rank': 'L_Rank',\n",
    "    'Teams': 'L_Teams',\n",
    "    'Group': 'L_Group',\n",
    "    'played_games': 'L_MP',\n",
    "    'W': 'L_W',\n",
    "    'D': 'L_D',\n",
    "    'L': 'L_L',\n",
    "    'GF': 'L_GF',\n",
    "    'GA': 'L_GA',\n",
    "    'GD': 'L_GD',\n",
    "    'Pts': 'L_Pts'\n",
    "})\n",
    "\n",
    "# Calculate the middle part of the full table\n",
    "half_table_index = len(left_table_with_space) // 2\n",
    "\n",
    "# Display the table with spacing\n",
    "display(left_table_with_space)\n",
    "print(half_table_index)\n"
   ]
  },
  {
   "cell_type": "code",
   "execution_count": 0,
   "metadata": {
    "application/vnd.databricks.v1+cell": {
     "cellMetadata": {
      "byteLimit": 2048000,
      "rowLimit": 10000
     },
     "inputWidgets": {},
     "nuid": "c2b17779-5f98-4b66-8703-5df3890956bd",
     "showTitle": false,
     "title": ""
    }
   },
   "outputs": [
    {
     "output_type": "stream",
     "name": "stdout",
     "output_type": "stream",
     "text": [
      "(14, 11)\n"
     ]
    }
   ],
   "source": [
    "print(left_table_with_space.shape)\n"
   ]
  },
  {
   "cell_type": "markdown",
   "metadata": {
    "application/vnd.databricks.v1+cell": {
     "cellMetadata": {
      "byteLimit": 2048000,
      "rowLimit": 10000
     },
     "inputWidgets": {},
     "nuid": "ff263296-be6c-4044-bfa9-159b243bd0cd",
     "showTitle": false,
     "title": ""
    }
   },
   "source": [
    "Displaying Right Table"
   ]
  },
  {
   "cell_type": "code",
   "execution_count": 0,
   "metadata": {
    "application/vnd.databricks.v1+cell": {
     "cellMetadata": {
      "byteLimit": 2048000,
      "rowLimit": 10000
     },
     "inputWidgets": {},
     "nuid": "d6928217-28ee-496d-a32b-ab6092242ebf",
     "showTitle": false,
     "title": ""
    }
   },
   "outputs": [
    {
     "output_type": "stream",
     "name": "stderr",
     "output_type": "stream",
     "text": [
      "/databricks/spark/python/pyspark/sql/pandas/conversion.py:467: UserWarning: createDataFrame attempted Arrow optimization because 'spark.sql.execution.arrow.pyspark.enabled' is set to true; however, failed by the reason below:\n  Could not convert '' with type str: tried to convert to int64\nAttempting non-optimization as 'spark.sql.execution.arrow.pyspark.fallback.enabled' is set to true.\n  warn(msg)\n"
     ]
    },
    {
     "output_type": "display_data",
     "data": {
      "text/html": [
       "<style scoped>\n",
       "  .table-result-container {\n",
       "    max-height: 300px;\n",
       "    overflow: auto;\n",
       "  }\n",
       "  table, th, td {\n",
       "    border: 1px solid black;\n",
       "    border-collapse: collapse;\n",
       "  }\n",
       "  th, td {\n",
       "    padding: 5px;\n",
       "  }\n",
       "  th {\n",
       "    text-align: left;\n",
       "  }\n",
       "</style><div class='table-result-container'><table class='table-result'><thead style='background-color: white'><tr><th>R_Rank</th><th>R_Teams</th><th>R_Group</th><th>R_MP</th><th>R_W</th><th>R_D</th><th>R_L</th><th>R_GF</th><th>R_GA</th><th>R_GD</th><th>R_Pts</th></tr></thead><tbody><tr><td>1</td><td>Austria</td><td>D</td><td>3</td><td>2</td><td>1</td><td>0</td><td>10</td><td>6</td><td>4</td><td>7</td></tr><tr><td>2</td><td>Netherlands</td><td>D</td><td>3</td><td>2</td><td>0</td><td>1</td><td>12</td><td>9</td><td>3</td><td>6</td></tr><tr><td>3</td><td>Finland</td><td>D</td><td>3</td><td>1</td><td>0</td><td>2</td><td>9</td><td>14</td><td>-5</td><td>3</td></tr><tr><td>4</td><td>France</td><td>D</td><td>3</td><td>0</td><td>1</td><td>2</td><td>6</td><td>8</td><td>-2</td><td>1</td></tr><tr><td></td><td></td><td></td><td></td><td></td><td></td><td></td><td></td><td></td><td></td><td></td></tr><tr><td>1</td><td>Slovakia</td><td>E</td><td>3</td><td>2</td><td>1</td><td>0</td><td>13</td><td>5</td><td>8</td><td>7</td></tr><tr><td>2</td><td>Ukraine</td><td>E</td><td>3</td><td>1</td><td>1</td><td>1</td><td>8</td><td>7</td><td>1</td><td>4</td></tr><tr><td>3</td><td>Belgium</td><td>E</td><td>3</td><td>1</td><td>0</td><td>2</td><td>8</td><td>12</td><td>-4</td><td>3</td></tr><tr><td>4</td><td>Romania</td><td>E</td><td>3</td><td>1</td><td>0</td><td>2</td><td>8</td><td>13</td><td>-5</td><td>3</td></tr><tr><td></td><td></td><td></td><td></td><td></td><td></td><td></td><td></td><td></td><td></td><td></td></tr><tr><td>1</td><td>Czech</td><td>F</td><td>3</td><td>3</td><td>0</td><td>0</td><td>14</td><td>6</td><td>8</td><td>9</td></tr><tr><td>2</td><td>Türkiye</td><td>F</td><td>3</td><td>2</td><td>0</td><td>1</td><td>11</td><td>7</td><td>4</td><td>6</td></tr><tr><td>3</td><td>Greece</td><td>F</td><td>3</td><td>1</td><td>0</td><td>2</td><td>12</td><td>15</td><td>-3</td><td>3</td></tr><tr><td>4</td><td>Portugal</td><td>F</td><td>3</td><td>0</td><td>0</td><td>3</td><td>6</td><td>15</td><td>-9</td><td>0</td></tr></tbody></table></div>"
      ]
     },
     "metadata": {
      "application/vnd.databricks.v1+output": {
       "addedWidgets": {},
       "aggData": [],
       "aggError": "",
       "aggOverflow": false,
       "aggSchema": [],
       "aggSeriesLimitReached": false,
       "aggType": "",
       "arguments": {},
       "columnCustomDisplayInfos": {},
       "data": [
        [
         "1",
         "Austria",
         "D",
         "3",
         "2",
         "1",
         "0",
         "10",
         "6",
         "4",
         "7"
        ],
        [
         "2",
         "Netherlands",
         "D",
         "3",
         "2",
         "0",
         "1",
         "12",
         "9",
         "3",
         "6"
        ],
        [
         "3",
         "Finland",
         "D",
         "3",
         "1",
         "0",
         "2",
         "9",
         "14",
         "-5",
         "3"
        ],
        [
         "4",
         "France",
         "D",
         "3",
         "0",
         "1",
         "2",
         "6",
         "8",
         "-2",
         "1"
        ],
        [
         "",
         "",
         "",
         "",
         "",
         "",
         "",
         "",
         "",
         "",
         ""
        ],
        [
         "1",
         "Slovakia",
         "E",
         "3",
         "2",
         "1",
         "0",
         "13",
         "5",
         "8",
         "7"
        ],
        [
         "2",
         "Ukraine",
         "E",
         "3",
         "1",
         "1",
         "1",
         "8",
         "7",
         "1",
         "4"
        ],
        [
         "3",
         "Belgium",
         "E",
         "3",
         "1",
         "0",
         "2",
         "8",
         "12",
         "-4",
         "3"
        ],
        [
         "4",
         "Romania",
         "E",
         "3",
         "1",
         "0",
         "2",
         "8",
         "13",
         "-5",
         "3"
        ],
        [
         "",
         "",
         "",
         "",
         "",
         "",
         "",
         "",
         "",
         "",
         ""
        ],
        [
         "1",
         "Czech",
         "F",
         "3",
         "3",
         "0",
         "0",
         "14",
         "6",
         "8",
         "9"
        ],
        [
         "2",
         "Türkiye",
         "F",
         "3",
         "2",
         "0",
         "1",
         "11",
         "7",
         "4",
         "6"
        ],
        [
         "3",
         "Greece",
         "F",
         "3",
         "1",
         "0",
         "2",
         "12",
         "15",
         "-3",
         "3"
        ],
        [
         "4",
         "Portugal",
         "F",
         "3",
         "0",
         "0",
         "3",
         "6",
         "15",
         "-9",
         "0"
        ]
       ],
       "datasetInfos": [],
       "dbfsResultPath": null,
       "isJsonSchema": true,
       "metadata": {},
       "overflow": false,
       "plotOptions": {
        "customPlotOptions": {},
        "displayType": "table",
        "pivotAggregation": null,
        "pivotColumns": null,
        "xColumns": null,
        "yColumns": null
       },
       "removedWidgets": [],
       "schema": [
        {
         "metadata": "{}",
         "name": "R_Rank",
         "type": "\"string\""
        },
        {
         "metadata": "{}",
         "name": "R_Teams",
         "type": "\"string\""
        },
        {
         "metadata": "{}",
         "name": "R_Group",
         "type": "\"string\""
        },
        {
         "metadata": "{}",
         "name": "R_MP",
         "type": "\"string\""
        },
        {
         "metadata": "{}",
         "name": "R_W",
         "type": "\"string\""
        },
        {
         "metadata": "{}",
         "name": "R_D",
         "type": "\"string\""
        },
        {
         "metadata": "{}",
         "name": "R_L",
         "type": "\"string\""
        },
        {
         "metadata": "{}",
         "name": "R_GF",
         "type": "\"string\""
        },
        {
         "metadata": "{}",
         "name": "R_GA",
         "type": "\"string\""
        },
        {
         "metadata": "{}",
         "name": "R_GD",
         "type": "\"string\""
        },
        {
         "metadata": "{}",
         "name": "R_Pts",
         "type": "\"string\""
        }
       ],
       "type": "table"
      }
     },
     "output_type": "display_data"
    }
   ],
   "source": [
    "# Divide the teams into groups of four\n",
    "groups = [right_table.iloc[i:i+4] for i in range(0, len(right_table), 4)]\n",
    "\n",
    "for i in range(len(groups)):\n",
    "    if i < len(groups) - 1:\n",
    "        groups[i] = pd.concat([groups[i], blank_row_df], ignore_index=True)\n",
    "\n",
    "right_table_with_space = pd.concat(groups).reset_index(drop=True)\n",
    "\n",
    "right_table_with_space = right_table_with_space.rename(columns={\n",
    "    'Rank': 'R_Rank',\n",
    "    'Teams': 'R_Teams',\n",
    "    'Group': 'R_Group',\n",
    "    'played_games': 'R_MP',\n",
    "    'W': 'R_W',\n",
    "    'D': 'R_D',\n",
    "    'L': 'R_L',\n",
    "    'GF': 'R_GF',\n",
    "    'GA': 'R_GA',\n",
    "    'GD': 'R_GD',\n",
    "    'Pts': 'R_Pts'\n",
    "})\n",
    "\n",
    "display(right_table_with_space)\n"
   ]
  },
  {
   "cell_type": "code",
   "execution_count": 0,
   "metadata": {
    "application/vnd.databricks.v1+cell": {
     "cellMetadata": {
      "byteLimit": 2048000,
      "rowLimit": 10000
     },
     "inputWidgets": {},
     "nuid": "29d6b409-90b7-49ac-8bd0-bf6cfd2f345e",
     "showTitle": false,
     "title": ""
    }
   },
   "outputs": [
    {
     "output_type": "stream",
     "name": "stdout",
     "output_type": "stream",
     "text": [
      "(14, 11)\n"
     ]
    }
   ],
   "source": [
    "print(right_table_with_space.shape)\n"
   ]
  },
  {
   "cell_type": "markdown",
   "metadata": {
    "application/vnd.databricks.v1+cell": {
     "cellMetadata": {
      "byteLimit": 2048000,
      "rowLimit": 10000
     },
     "inputWidgets": {},
     "nuid": "42992ecf-4699-49e9-9448-a73418538bd0",
     "showTitle": false,
     "title": ""
    }
   },
   "source": [
    "Displaying Round of 16"
   ]
  },
  {
   "cell_type": "code",
   "execution_count": 0,
   "metadata": {
    "application/vnd.databricks.v1+cell": {
     "cellMetadata": {
      "byteLimit": 2048000,
      "rowLimit": 10000
     },
     "inputWidgets": {},
     "nuid": "ffa07436-d124-4f56-8651-afae65f806e4",
     "showTitle": false,
     "title": ""
    }
   },
   "outputs": [
    {
     "output_type": "display_data",
     "data": {
      "text/html": [
       "<style scoped>\n",
       "  .table-result-container {\n",
       "    max-height: 300px;\n",
       "    overflow: auto;\n",
       "  }\n",
       "  table, th, td {\n",
       "    border: 1px solid black;\n",
       "    border-collapse: collapse;\n",
       "  }\n",
       "  th, td {\n",
       "    padding: 5px;\n",
       "  }\n",
       "  th {\n",
       "    text-align: left;\n",
       "  }\n",
       "</style><div class='table-result-container'><table class='table-result'><thead style='background-color: white'><tr><th>MatchID</th><th>Team1</th><th>Team1Goals</th><th>Team2</th><th>Team2Goals</th><th>Result</th><th>MatchWinner</th><th>MatchStage</th></tr></thead><tbody><tr><td>1</td><td>Albania</td><td>4</td><td>Switzerland</td><td>6</td><td>4</td><td>Switzerland</td><td>R16</td></tr><tr><td>2</td><td>Scotland</td><td>4</td><td>Denmark</td><td>3</td><td>4</td><td>Scotland</td><td>R16</td></tr><tr><td>3</td><td>Czech</td><td>5</td><td>Slovenia</td><td>4</td><td>5</td><td>Czech</td><td>R16</td></tr><tr><td>4</td><td>Netherlands</td><td>2</td><td>Ukraine</td><td>3</td><td>2</td><td>Ukraine</td><td>R16</td></tr><tr><td>5</td><td>Slovakia</td><td>3</td><td>Croatia</td><td>5</td><td>3</td><td>Croatia</td><td>R16</td></tr><tr><td>6</td><td>Austria</td><td>3</td><td>Türkiye</td><td>4</td><td>3</td><td>Türkiye</td><td>R16</td></tr><tr><td>7</td><td>Serbia</td><td>3</td><td>Greece</td><td>5</td><td>3</td><td>Greece</td><td>R16</td></tr><tr><td>8</td><td>Hungary</td><td>0</td><td>Italy</td><td>2</td><td>0</td><td>Italy</td><td>R16</td></tr></tbody></table></div>"
      ]
     },
     "metadata": {
      "application/vnd.databricks.v1+output": {
       "addedWidgets": {},
       "aggData": [],
       "aggError": "",
       "aggOverflow": false,
       "aggSchema": [],
       "aggSeriesLimitReached": false,
       "aggType": "",
       "arguments": {},
       "columnCustomDisplayInfos": {},
       "data": [
        [
         "1",
         "Albania",
         "4",
         "Switzerland",
         "6",
         "4",
         "Switzerland",
         "R16"
        ],
        [
         "2",
         "Scotland",
         "4",
         "Denmark",
         "3",
         "4",
         "Scotland",
         "R16"
        ],
        [
         "3",
         "Czech",
         "5",
         "Slovenia",
         "4",
         "5",
         "Czech",
         "R16"
        ],
        [
         "4",
         "Netherlands",
         "2",
         "Ukraine",
         "3",
         "2",
         "Ukraine",
         "R16"
        ],
        [
         "5",
         "Slovakia",
         "3",
         "Croatia",
         "5",
         "3",
         "Croatia",
         "R16"
        ],
        [
         "6",
         "Austria",
         "3",
         "Türkiye",
         "4",
         "3",
         "Türkiye",
         "R16"
        ],
        [
         "7",
         "Serbia",
         "3",
         "Greece",
         "5",
         "3",
         "Greece",
         "R16"
        ],
        [
         "8",
         "Hungary",
         "0",
         "Italy",
         "2",
         "0",
         "Italy",
         "R16"
        ]
       ],
       "datasetInfos": [],
       "dbfsResultPath": null,
       "isJsonSchema": true,
       "metadata": {},
       "overflow": false,
       "plotOptions": {
        "customPlotOptions": {},
        "displayType": "table",
        "pivotAggregation": null,
        "pivotColumns": null,
        "xColumns": null,
        "yColumns": null
       },
       "removedWidgets": [],
       "schema": [
        {
         "metadata": "{}",
         "name": "MatchID",
         "type": "\"string\""
        },
        {
         "metadata": "{}",
         "name": "Team1",
         "type": "\"string\""
        },
        {
         "metadata": "{}",
         "name": "Team1Goals",
         "type": "\"string\""
        },
        {
         "metadata": "{}",
         "name": "Team2",
         "type": "\"string\""
        },
        {
         "metadata": "{}",
         "name": "Team2Goals",
         "type": "\"string\""
        },
        {
         "metadata": "{}",
         "name": "Result",
         "type": "\"string\""
        },
        {
         "metadata": "{}",
         "name": "MatchWinner",
         "type": "\"string\""
        },
        {
         "metadata": "{}",
         "name": "MatchStage",
         "type": "\"string\""
        }
       ],
       "type": "table"
      }
     },
     "output_type": "display_data"
    }
   ],
   "source": [
    "#getting data from sql table and into pandas dataframe\n",
    "round_of_16 = spark.sql(\"SELECT * FROM MatchesFixtures WHERE MatchStage = 'R16'\")\n",
    "round_of_16_pd = round_of_16.toPandas()\n",
    "\n",
    "#converting to string and removing .0 from floats occuring after conversion\n",
    "round_of_16_pd = round_of_16_pd.applymap(lambda x: str(x).split(\".\")[0])\n",
    "\n",
    "display(round_of_16_pd)"
   ]
  },
  {
   "cell_type": "code",
   "execution_count": 0,
   "metadata": {
    "application/vnd.databricks.v1+cell": {
     "cellMetadata": {
      "byteLimit": 2048000,
      "rowLimit": 10000
     },
     "inputWidgets": {},
     "nuid": "120409d5-170c-47ed-b258-57074318d31c",
     "showTitle": false,
     "title": ""
    }
   },
   "outputs": [
    {
     "output_type": "display_data",
     "data": {
      "text/html": [
       "<style scoped>\n",
       "  .table-result-container {\n",
       "    max-height: 300px;\n",
       "    overflow: auto;\n",
       "  }\n",
       "  table, th, td {\n",
       "    border: 1px solid black;\n",
       "    border-collapse: collapse;\n",
       "  }\n",
       "  th, td {\n",
       "    padding: 5px;\n",
       "  }\n",
       "  th {\n",
       "    text-align: left;\n",
       "  }\n",
       "</style><div class='table-result-container'><table class='table-result'><thead style='background-color: white'><tr><th>R16_Teams</th><th>R16_Score</th></tr></thead><tbody><tr><td>Albania</td><td>4</td></tr><tr><td>Switzerland</td><td>6</td></tr><tr><td>Scotland</td><td>4</td></tr><tr><td>Denmark</td><td>3</td></tr><tr><td>Czech</td><td>5</td></tr><tr><td>Slovenia</td><td>4</td></tr><tr><td>Netherlands</td><td>2</td></tr><tr><td>Ukraine</td><td>3</td></tr><tr><td>Slovakia</td><td>3</td></tr><tr><td>Croatia</td><td>5</td></tr><tr><td>Austria</td><td>3</td></tr><tr><td>Türkiye</td><td>4</td></tr><tr><td>Serbia</td><td>3</td></tr><tr><td>Greece</td><td>5</td></tr><tr><td>Hungary</td><td>0</td></tr><tr><td>Italy</td><td>2</td></tr></tbody></table></div>"
      ]
     },
     "metadata": {
      "application/vnd.databricks.v1+output": {
       "addedWidgets": {},
       "aggData": [],
       "aggError": "",
       "aggOverflow": false,
       "aggSchema": [],
       "aggSeriesLimitReached": false,
       "aggType": "",
       "arguments": {},
       "columnCustomDisplayInfos": {},
       "data": [
        [
         "Albania",
         "4"
        ],
        [
         "Switzerland",
         "6"
        ],
        [
         "Scotland",
         "4"
        ],
        [
         "Denmark",
         "3"
        ],
        [
         "Czech",
         "5"
        ],
        [
         "Slovenia",
         "4"
        ],
        [
         "Netherlands",
         "2"
        ],
        [
         "Ukraine",
         "3"
        ],
        [
         "Slovakia",
         "3"
        ],
        [
         "Croatia",
         "5"
        ],
        [
         "Austria",
         "3"
        ],
        [
         "Türkiye",
         "4"
        ],
        [
         "Serbia",
         "3"
        ],
        [
         "Greece",
         "5"
        ],
        [
         "Hungary",
         "0"
        ],
        [
         "Italy",
         "2"
        ]
       ],
       "datasetInfos": [],
       "dbfsResultPath": null,
       "isJsonSchema": true,
       "metadata": {},
       "overflow": false,
       "plotOptions": {
        "customPlotOptions": {},
        "displayType": "table",
        "pivotAggregation": null,
        "pivotColumns": null,
        "xColumns": null,
        "yColumns": null
       },
       "removedWidgets": [],
       "schema": [
        {
         "metadata": "{}",
         "name": "R16_Teams",
         "type": "\"string\""
        },
        {
         "metadata": "{}",
         "name": "R16_Score",
         "type": "\"string\""
        }
       ],
       "type": "table"
      }
     },
     "output_type": "display_data"
    }
   ],
   "source": [
    "#storing required data in df\n",
    "r16_df = pd.DataFrame(columns=['R16_Teams', 'R16_Score'])\n",
    "\n",
    "#displaying all teams and respective scores in columns\n",
    "for index, row in round_of_16_pd.iterrows():\n",
    "    team1 = row['Team1']\n",
    "    team1goals = row['Team1Goals']\n",
    "    team2 = row['Team2']\n",
    "    team2goals = row['Team2Goals']\n",
    "    r16_df = pd.concat([r16_df, pd.DataFrame({'R16_Score': [team1goals], 'R16_Teams': [team1]})], ignore_index=True)\n",
    "    r16_df = pd.concat([r16_df, pd.DataFrame({'R16_Score': [team2goals], 'R16_Teams': [team2]})], ignore_index=True)\n",
    "\n",
    "display(r16_df)\n"
   ]
  },
  {
   "cell_type": "code",
   "execution_count": 0,
   "metadata": {
    "application/vnd.databricks.v1+cell": {
     "cellMetadata": {
      "byteLimit": 2048000,
      "rowLimit": 10000
     },
     "inputWidgets": {},
     "nuid": "38f3b002-358b-4447-90c6-9a4b4b685203",
     "showTitle": false,
     "title": ""
    }
   },
   "outputs": [
    {
     "output_type": "display_data",
     "data": {
      "text/html": [
       "<style scoped>\n",
       "  .table-result-container {\n",
       "    max-height: 300px;\n",
       "    overflow: auto;\n",
       "  }\n",
       "  table, th, td {\n",
       "    border: 1px solid black;\n",
       "    border-collapse: collapse;\n",
       "  }\n",
       "  th, td {\n",
       "    padding: 5px;\n",
       "  }\n",
       "  th {\n",
       "    text-align: left;\n",
       "  }\n",
       "</style><div class='table-result-container'><table class='table-result'><thead style='background-color: white'><tr><th>R16_Teams</th><th>R16_Score</th></tr></thead><tbody><tr><td>Albania</td><td>4</td></tr><tr><td>Switzerland</td><td>6</td></tr><tr><td>Scotland</td><td>4</td></tr><tr><td>Denmark</td><td>3</td></tr><tr><td>Czech</td><td>5</td></tr><tr><td>Slovenia</td><td>4</td></tr><tr><td>Netherlands</td><td>2</td></tr><tr><td>Ukraine</td><td>3</td></tr></tbody></table></div>"
      ]
     },
     "metadata": {
      "application/vnd.databricks.v1+output": {
       "addedWidgets": {},
       "aggData": [],
       "aggError": "",
       "aggOverflow": false,
       "aggSchema": [],
       "aggSeriesLimitReached": false,
       "aggType": "",
       "arguments": {},
       "columnCustomDisplayInfos": {},
       "data": [
        [
         "Albania",
         "4"
        ],
        [
         "Switzerland",
         "6"
        ],
        [
         "Scotland",
         "4"
        ],
        [
         "Denmark",
         "3"
        ],
        [
         "Czech",
         "5"
        ],
        [
         "Slovenia",
         "4"
        ],
        [
         "Netherlands",
         "2"
        ],
        [
         "Ukraine",
         "3"
        ]
       ],
       "datasetInfos": [],
       "dbfsResultPath": null,
       "isJsonSchema": true,
       "metadata": {},
       "overflow": false,
       "plotOptions": {
        "customPlotOptions": {},
        "displayType": "table",
        "pivotAggregation": null,
        "pivotColumns": null,
        "xColumns": null,
        "yColumns": null
       },
       "removedWidgets": [],
       "schema": [
        {
         "metadata": "{}",
         "name": "R16_Teams",
         "type": "\"string\""
        },
        {
         "metadata": "{}",
         "name": "R16_Score",
         "type": "\"string\""
        }
       ],
       "type": "table"
      }
     },
     "output_type": "display_data"
    },
    {
     "output_type": "display_data",
     "data": {
      "text/html": [
       "<style scoped>\n",
       "  .table-result-container {\n",
       "    max-height: 300px;\n",
       "    overflow: auto;\n",
       "  }\n",
       "  table, th, td {\n",
       "    border: 1px solid black;\n",
       "    border-collapse: collapse;\n",
       "  }\n",
       "  th, td {\n",
       "    padding: 5px;\n",
       "  }\n",
       "  th {\n",
       "    text-align: left;\n",
       "  }\n",
       "</style><div class='table-result-container'><table class='table-result'><thead style='background-color: white'><tr><th>R16_Teams</th><th>R16_Score</th></tr></thead><tbody><tr><td>Slovakia</td><td>3</td></tr><tr><td>Croatia</td><td>5</td></tr><tr><td>Austria</td><td>3</td></tr><tr><td>Türkiye</td><td>4</td></tr><tr><td>Serbia</td><td>3</td></tr><tr><td>Greece</td><td>5</td></tr><tr><td>Hungary</td><td>0</td></tr><tr><td>Italy</td><td>2</td></tr></tbody></table></div>"
      ]
     },
     "metadata": {
      "application/vnd.databricks.v1+output": {
       "addedWidgets": {},
       "aggData": [],
       "aggError": "",
       "aggOverflow": false,
       "aggSchema": [],
       "aggSeriesLimitReached": false,
       "aggType": "",
       "arguments": {},
       "columnCustomDisplayInfos": {},
       "data": [
        [
         "Slovakia",
         "3"
        ],
        [
         "Croatia",
         "5"
        ],
        [
         "Austria",
         "3"
        ],
        [
         "Türkiye",
         "4"
        ],
        [
         "Serbia",
         "3"
        ],
        [
         "Greece",
         "5"
        ],
        [
         "Hungary",
         "0"
        ],
        [
         "Italy",
         "2"
        ]
       ],
       "datasetInfos": [],
       "dbfsResultPath": null,
       "isJsonSchema": true,
       "metadata": {},
       "overflow": false,
       "plotOptions": {
        "customPlotOptions": {},
        "displayType": "table",
        "pivotAggregation": null,
        "pivotColumns": null,
        "xColumns": null,
        "yColumns": null
       },
       "removedWidgets": [],
       "schema": [
        {
         "metadata": "{}",
         "name": "R16_Teams",
         "type": "\"string\""
        },
        {
         "metadata": "{}",
         "name": "R16_Score",
         "type": "\"string\""
        }
       ],
       "type": "table"
      }
     },
     "output_type": "display_data"
    }
   ],
   "source": [
    "# calculating midpoint of the DataFrame\n",
    "midpoint_index = len(r16_df) // 2\n",
    "\n",
    "# splitting DataFrame into two equal halves\n",
    "left_r16 = r16_df.iloc[:midpoint_index].reset_index(drop=True)\n",
    "right_r16 = r16_df.iloc[midpoint_index:].reset_index(drop=True)\n",
    "\n",
    "# displaying the split DataFrames\n",
    "display(left_r16)\n",
    "display(right_r16)\n"
   ]
  },
  {
   "cell_type": "code",
   "execution_count": 0,
   "metadata": {
    "application/vnd.databricks.v1+cell": {
     "cellMetadata": {
      "byteLimit": 2048000,
      "rowLimit": 10000
     },
     "inputWidgets": {},
     "nuid": "6285c1d3-3d93-463b-98c6-432aff3eaad6",
     "showTitle": false,
     "title": ""
    }
   },
   "outputs": [
    {
     "output_type": "display_data",
     "data": {
      "text/html": [
       "<style scoped>\n",
       "  .table-result-container {\n",
       "    max-height: 300px;\n",
       "    overflow: auto;\n",
       "  }\n",
       "  table, th, td {\n",
       "    border: 1px solid black;\n",
       "    border-collapse: collapse;\n",
       "  }\n",
       "  th, td {\n",
       "    padding: 5px;\n",
       "  }\n",
       "  th {\n",
       "    text-align: left;\n",
       "  }\n",
       "</style><div class='table-result-container'><table class='table-result'><thead style='background-color: white'><tr><th>L_R16_Teams</th><th>L_R16_Score</th></tr></thead><tbody><tr><td></td><td></td></tr><tr><td>Albania</td><td>4</td></tr><tr><td>Switzerland</td><td>6</td></tr><tr><td></td><td></td></tr><tr><td></td><td></td></tr><tr><td>Scotland</td><td>4</td></tr><tr><td>Denmark</td><td>3</td></tr><tr><td></td><td></td></tr><tr><td></td><td></td></tr><tr><td>Czech</td><td>5</td></tr><tr><td>Slovenia</td><td>4</td></tr><tr><td></td><td></td></tr><tr><td></td><td></td></tr><tr><td>Netherlands</td><td>2</td></tr><tr><td>Ukraine</td><td>3</td></tr><tr><td></td><td></td></tr></tbody></table></div>"
      ]
     },
     "metadata": {
      "application/vnd.databricks.v1+output": {
       "addedWidgets": {},
       "aggData": [],
       "aggError": "",
       "aggOverflow": false,
       "aggSchema": [],
       "aggSeriesLimitReached": false,
       "aggType": "",
       "arguments": {},
       "columnCustomDisplayInfos": {},
       "data": [
        [
         "",
         ""
        ],
        [
         "Albania",
         "4"
        ],
        [
         "Switzerland",
         "6"
        ],
        [
         "",
         ""
        ],
        [
         "",
         ""
        ],
        [
         "Scotland",
         "4"
        ],
        [
         "Denmark",
         "3"
        ],
        [
         "",
         ""
        ],
        [
         "",
         ""
        ],
        [
         "Czech",
         "5"
        ],
        [
         "Slovenia",
         "4"
        ],
        [
         "",
         ""
        ],
        [
         "",
         ""
        ],
        [
         "Netherlands",
         "2"
        ],
        [
         "Ukraine",
         "3"
        ],
        [
         "",
         ""
        ]
       ],
       "datasetInfos": [],
       "dbfsResultPath": null,
       "isJsonSchema": true,
       "metadata": {},
       "overflow": false,
       "plotOptions": {
        "customPlotOptions": {},
        "displayType": "table",
        "pivotAggregation": null,
        "pivotColumns": null,
        "xColumns": null,
        "yColumns": null
       },
       "removedWidgets": [],
       "schema": [
        {
         "metadata": "{}",
         "name": "L_R16_Teams",
         "type": "\"string\""
        },
        {
         "metadata": "{}",
         "name": "L_R16_Score",
         "type": "\"string\""
        }
       ],
       "type": "table"
      }
     },
     "output_type": "display_data"
    }
   ],
   "source": [
    "\n",
    "empty_row_r16 = pd.DataFrame({col: [''] for col in r16_df.columns})\n",
    "\n",
    "\n",
    "grouped_r16_left = [left_r16.iloc[i:i+2] for i in range(0, len(left_r16), 2)]\n",
    "\n",
    "for i in range(len(grouped_r16_left)):\n",
    "    if i < len(grouped_r16_left):\n",
    "        grouped_r16_left[i] = pd.concat([empty_row_r16, grouped_r16_left[i], empty_row_r16], ignore_index=True)\n",
    "\n",
    "\n",
    "spaced_r16_left = pd.concat(grouped_r16_left).reset_index(drop=True)\n",
    "\n",
    "\n",
    "new_column_names_r16_left = {'R16_Teams': 'L_R16_Teams',\n",
    "                              'R16_Score': 'L_R16_Score'}\n",
    "spaced_r16_left = spaced_r16_left.rename(columns=new_column_names_r16_left)\n",
    "\n",
    "\n",
    "display(spaced_r16_left)\n"
   ]
  },
  {
   "cell_type": "code",
   "execution_count": 0,
   "metadata": {
    "application/vnd.databricks.v1+cell": {
     "cellMetadata": {
      "byteLimit": 2048000,
      "rowLimit": 10000
     },
     "inputWidgets": {},
     "nuid": "b4cc93f9-d407-4e0a-8488-7297da766ba9",
     "showTitle": false,
     "title": ""
    }
   },
   "outputs": [
    {
     "output_type": "display_data",
     "data": {
      "text/html": [
       "<style scoped>\n",
       "  .table-result-container {\n",
       "    max-height: 300px;\n",
       "    overflow: auto;\n",
       "  }\n",
       "  table, th, td {\n",
       "    border: 1px solid black;\n",
       "    border-collapse: collapse;\n",
       "  }\n",
       "  th, td {\n",
       "    padding: 5px;\n",
       "  }\n",
       "  th {\n",
       "    text-align: left;\n",
       "  }\n",
       "</style><div class='table-result-container'><table class='table-result'><thead style='background-color: white'><tr><th>R_R16_Teams</th><th>R_R16_Score</th></tr></thead><tbody><tr><td></td><td></td></tr><tr><td>Slovakia</td><td>3</td></tr><tr><td>Croatia</td><td>5</td></tr><tr><td></td><td></td></tr><tr><td></td><td></td></tr><tr><td>Austria</td><td>3</td></tr><tr><td>Türkiye</td><td>4</td></tr><tr><td></td><td></td></tr><tr><td></td><td></td></tr><tr><td>Serbia</td><td>3</td></tr><tr><td>Greece</td><td>5</td></tr><tr><td></td><td></td></tr><tr><td></td><td></td></tr><tr><td>Hungary</td><td>0</td></tr><tr><td>Italy</td><td>2</td></tr><tr><td></td><td></td></tr></tbody></table></div>"
      ]
     },
     "metadata": {
      "application/vnd.databricks.v1+output": {
       "addedWidgets": {},
       "aggData": [],
       "aggError": "",
       "aggOverflow": false,
       "aggSchema": [],
       "aggSeriesLimitReached": false,
       "aggType": "",
       "arguments": {},
       "columnCustomDisplayInfos": {},
       "data": [
        [
         "",
         ""
        ],
        [
         "Slovakia",
         "3"
        ],
        [
         "Croatia",
         "5"
        ],
        [
         "",
         ""
        ],
        [
         "",
         ""
        ],
        [
         "Austria",
         "3"
        ],
        [
         "Türkiye",
         "4"
        ],
        [
         "",
         ""
        ],
        [
         "",
         ""
        ],
        [
         "Serbia",
         "3"
        ],
        [
         "Greece",
         "5"
        ],
        [
         "",
         ""
        ],
        [
         "",
         ""
        ],
        [
         "Hungary",
         "0"
        ],
        [
         "Italy",
         "2"
        ],
        [
         "",
         ""
        ]
       ],
       "datasetInfos": [],
       "dbfsResultPath": null,
       "isJsonSchema": true,
       "metadata": {},
       "overflow": false,
       "plotOptions": {
        "customPlotOptions": {},
        "displayType": "table",
        "pivotAggregation": null,
        "pivotColumns": null,
        "xColumns": null,
        "yColumns": null
       },
       "removedWidgets": [],
       "schema": [
        {
         "metadata": "{}",
         "name": "R_R16_Teams",
         "type": "\"string\""
        },
        {
         "metadata": "{}",
         "name": "R_R16_Score",
         "type": "\"string\""
        }
       ],
       "type": "table"
      }
     },
     "output_type": "display_data"
    }
   ],
   "source": [
    "# Group the right_r16 DataFrame into pairs\n",
    "grouped_r16_right = [right_r16.iloc[i:i+2] for i in range(0, len(right_r16), 2)]\n",
    "\n",
    "for i in range(len(grouped_r16_right)):\n",
    "    if i < len(grouped_r16_right):\n",
    "        grouped_r16_right[i] = pd.concat([empty_row_r16, grouped_r16_right[i], empty_row_r16], ignore_index=True)\n",
    "\n",
    "\n",
    "spaced_r16_right = pd.concat(grouped_r16_right).reset_index(drop=True)\n",
    "\n",
    "\n",
    "new_column_names_r16_right = {'R16_Teams': 'R_R16_Teams',\n",
    "                               'R16_Score': 'R_R16_Score'}\n",
    "spaced_r16_right = spaced_r16_right.rename(columns=new_column_names_r16_right)\n",
    "\n",
    "\n",
    "display(spaced_r16_right)\n"
   ]
  },
  {
   "cell_type": "markdown",
   "metadata": {
    "application/vnd.databricks.v1+cell": {
     "cellMetadata": {
      "byteLimit": 2048000,
      "rowLimit": 10000
     },
     "inputWidgets": {},
     "nuid": "a4b6f4be-d388-404d-b4a2-9f712441438c",
     "showTitle": false,
     "title": ""
    }
   },
   "source": [
    "Displaying Quarter Finals"
   ]
  },
  {
   "cell_type": "code",
   "execution_count": 0,
   "metadata": {
    "application/vnd.databricks.v1+cell": {
     "cellMetadata": {
      "byteLimit": 2048000,
      "rowLimit": 10000
     },
     "inputWidgets": {},
     "nuid": "e65d9894-1be8-4604-a427-9468a1beb215",
     "showTitle": false,
     "title": ""
    }
   },
   "outputs": [
    {
     "output_type": "display_data",
     "data": {
      "text/html": [
       "<style scoped>\n",
       "  .table-result-container {\n",
       "    max-height: 300px;\n",
       "    overflow: auto;\n",
       "  }\n",
       "  table, th, td {\n",
       "    border: 1px solid black;\n",
       "    border-collapse: collapse;\n",
       "  }\n",
       "  th, td {\n",
       "    padding: 5px;\n",
       "  }\n",
       "  th {\n",
       "    text-align: left;\n",
       "  }\n",
       "</style><div class='table-result-container'><table class='table-result'><thead style='background-color: white'><tr><th>MatchID</th><th>Team1</th><th>Team1Goals</th><th>Team2</th><th>Team2Goals</th><th>Result</th><th>MatchWinner</th><th>MatchStage</th></tr></thead><tbody><tr><td>9</td><td>Switzerland</td><td>1</td><td>Scotland</td><td>2</td><td>4-3</td><td>Scotland</td><td>QuarterFinals</td></tr><tr><td>10</td><td>Czech</td><td>5</td><td>Ukraine</td><td>3</td><td>5-3</td><td>Czech</td><td>QuarterFinals</td></tr><tr><td>11</td><td>Croatia</td><td>2</td><td>Türkiye</td><td>4</td><td>3-4</td><td>Türkiye</td><td>QuarterFinals</td></tr><tr><td>12</td><td>Greece</td><td>5</td><td>Italy</td><td>6</td><td>3-2</td><td>Italy</td><td>QuarterFinals</td></tr></tbody></table></div>"
      ]
     },
     "metadata": {
      "application/vnd.databricks.v1+output": {
       "addedWidgets": {},
       "aggData": [],
       "aggError": "",
       "aggOverflow": false,
       "aggSchema": [],
       "aggSeriesLimitReached": false,
       "aggType": "",
       "arguments": {},
       "columnCustomDisplayInfos": {},
       "data": [
        [
         "9",
         "Switzerland",
         "1",
         "Scotland",
         "2",
         "4-3",
         "Scotland",
         "QuarterFinals"
        ],
        [
         "10",
         "Czech",
         "5",
         "Ukraine",
         "3",
         "5-3",
         "Czech",
         "QuarterFinals"
        ],
        [
         "11",
         "Croatia",
         "2",
         "Türkiye",
         "4",
         "3-4",
         "Türkiye",
         "QuarterFinals"
        ],
        [
         "12",
         "Greece",
         "5",
         "Italy",
         "6",
         "3-2",
         "Italy",
         "QuarterFinals"
        ]
       ],
       "datasetInfos": [],
       "dbfsResultPath": null,
       "isJsonSchema": true,
       "metadata": {},
       "overflow": false,
       "plotOptions": {
        "customPlotOptions": {},
        "displayType": "table",
        "pivotAggregation": null,
        "pivotColumns": null,
        "xColumns": null,
        "yColumns": null
       },
       "removedWidgets": [],
       "schema": [
        {
         "metadata": "{}",
         "name": "MatchID",
         "type": "\"string\""
        },
        {
         "metadata": "{}",
         "name": "Team1",
         "type": "\"string\""
        },
        {
         "metadata": "{}",
         "name": "Team1Goals",
         "type": "\"string\""
        },
        {
         "metadata": "{}",
         "name": "Team2",
         "type": "\"string\""
        },
        {
         "metadata": "{}",
         "name": "Team2Goals",
         "type": "\"string\""
        },
        {
         "metadata": "{}",
         "name": "Result",
         "type": "\"string\""
        },
        {
         "metadata": "{}",
         "name": "MatchWinner",
         "type": "\"string\""
        },
        {
         "metadata": "{}",
         "name": "MatchStage",
         "type": "\"string\""
        }
       ],
       "type": "table"
      }
     },
     "output_type": "display_data"
    }
   ],
   "source": [
    "# Getting data from SQL table and into Pandas DataFrame for quarter finals\n",
    "quarter_finals_df = spark.sql(\"SELECT * FROM MatchesFixtures WHERE MatchStage = 'QuarterFinals'\")\n",
    "quarter_finals_df_pd = quarter_finals_df.toPandas()\n",
    "\n",
    "# Converting to string and removing .0 from floats occurring after conversion\n",
    "quarter_finals_df_pd = quarter_finals_df_pd.applymap(lambda x: str(x).split(\".\")[0])\n",
    "\n",
    "display(quarter_finals_df_pd)\n"
   ]
  },
  {
   "cell_type": "code",
   "execution_count": 0,
   "metadata": {
    "application/vnd.databricks.v1+cell": {
     "cellMetadata": {
      "byteLimit": 2048000,
      "rowLimit": 10000
     },
     "inputWidgets": {},
     "nuid": "81dd097e-e11b-476d-aa63-c5ad1e283a1d",
     "showTitle": false,
     "title": ""
    }
   },
   "outputs": [
    {
     "output_type": "display_data",
     "data": {
      "text/html": [
       "<style scoped>\n",
       "  .table-result-container {\n",
       "    max-height: 300px;\n",
       "    overflow: auto;\n",
       "  }\n",
       "  table, th, td {\n",
       "    border: 1px solid black;\n",
       "    border-collapse: collapse;\n",
       "  }\n",
       "  th, td {\n",
       "    padding: 5px;\n",
       "  }\n",
       "  th {\n",
       "    text-align: left;\n",
       "  }\n",
       "</style><div class='table-result-container'><table class='table-result'><thead style='background-color: white'><tr><th>QF_Teams</th><th>QF_Score</th></tr></thead><tbody><tr><td>Switzerland</td><td>1</td></tr><tr><td>Scotland</td><td>2</td></tr><tr><td>Czech</td><td>5</td></tr><tr><td>Ukraine</td><td>3</td></tr><tr><td>Croatia</td><td>2</td></tr><tr><td>Türkiye</td><td>4</td></tr><tr><td>Greece</td><td>5</td></tr><tr><td>Italy</td><td>6</td></tr></tbody></table></div>"
      ]
     },
     "metadata": {
      "application/vnd.databricks.v1+output": {
       "addedWidgets": {},
       "aggData": [],
       "aggError": "",
       "aggOverflow": false,
       "aggSchema": [],
       "aggSeriesLimitReached": false,
       "aggType": "",
       "arguments": {},
       "columnCustomDisplayInfos": {},
       "data": [
        [
         "Switzerland",
         "1"
        ],
        [
         "Scotland",
         "2"
        ],
        [
         "Czech",
         "5"
        ],
        [
         "Ukraine",
         "3"
        ],
        [
         "Croatia",
         "2"
        ],
        [
         "Türkiye",
         "4"
        ],
        [
         "Greece",
         "5"
        ],
        [
         "Italy",
         "6"
        ]
       ],
       "datasetInfos": [],
       "dbfsResultPath": null,
       "isJsonSchema": true,
       "metadata": {},
       "overflow": false,
       "plotOptions": {
        "customPlotOptions": {},
        "displayType": "table",
        "pivotAggregation": null,
        "pivotColumns": null,
        "xColumns": null,
        "yColumns": null
       },
       "removedWidgets": [],
       "schema": [
        {
         "metadata": "{}",
         "name": "QF_Teams",
         "type": "\"string\""
        },
        {
         "metadata": "{}",
         "name": "QF_Score",
         "type": "\"string\""
        }
       ],
       "type": "table"
      }
     },
     "output_type": "display_data"
    }
   ],
   "source": [
    "# Storing required data in a DataFrame for quarter finals visualization\n",
    "qf_visualization = pd.DataFrame(columns=['QF_Teams', 'QF_Score'])\n",
    "\n",
    "# Displaying all teams and respective scores in columns\n",
    "for index, row in quarter_finals_df_pd.iterrows():\n",
    "    team1 = row['Team1']\n",
    "    team1_goals = row['Team1Goals']\n",
    "    team2 = row['Team2']\n",
    "    team2_goals = row['Team2Goals']\n",
    "    qf_visualization = pd.concat([qf_visualization, pd.DataFrame({'QF_Teams': [team1], 'QF_Score': [team1_goals]})], ignore_index=True)\n",
    "    qf_visualization = pd.concat([qf_visualization, pd.DataFrame({'QF_Teams': [team2], 'QF_Score': [team2_goals]})], ignore_index=True)\n",
    "\n",
    "display(qf_visualization)\n"
   ]
  },
  {
   "cell_type": "code",
   "execution_count": 0,
   "metadata": {
    "application/vnd.databricks.v1+cell": {
     "cellMetadata": {
      "byteLimit": 2048000,
      "rowLimit": 10000
     },
     "inputWidgets": {},
     "nuid": "54d59c29-a101-44ca-a45f-2ab2c091d757",
     "showTitle": false,
     "title": ""
    }
   },
   "outputs": [
    {
     "output_type": "display_data",
     "data": {
      "text/html": [
       "<style scoped>\n",
       "  .table-result-container {\n",
       "    max-height: 300px;\n",
       "    overflow: auto;\n",
       "  }\n",
       "  table, th, td {\n",
       "    border: 1px solid black;\n",
       "    border-collapse: collapse;\n",
       "  }\n",
       "  th, td {\n",
       "    padding: 5px;\n",
       "  }\n",
       "  th {\n",
       "    text-align: left;\n",
       "  }\n",
       "</style><div class='table-result-container'><table class='table-result'><thead style='background-color: white'><tr><th>QF_Teams</th><th>QF_Score</th></tr></thead><tbody><tr><td>Switzerland</td><td>1</td></tr><tr><td>Scotland</td><td>2</td></tr><tr><td>Czech</td><td>5</td></tr><tr><td>Ukraine</td><td>3</td></tr></tbody></table></div>"
      ]
     },
     "metadata": {
      "application/vnd.databricks.v1+output": {
       "addedWidgets": {},
       "aggData": [],
       "aggError": "",
       "aggOverflow": false,
       "aggSchema": [],
       "aggSeriesLimitReached": false,
       "aggType": "",
       "arguments": {},
       "columnCustomDisplayInfos": {},
       "data": [
        [
         "Switzerland",
         "1"
        ],
        [
         "Scotland",
         "2"
        ],
        [
         "Czech",
         "5"
        ],
        [
         "Ukraine",
         "3"
        ]
       ],
       "datasetInfos": [],
       "dbfsResultPath": null,
       "isJsonSchema": true,
       "metadata": {},
       "overflow": false,
       "plotOptions": {
        "customPlotOptions": {},
        "displayType": "table",
        "pivotAggregation": null,
        "pivotColumns": null,
        "xColumns": null,
        "yColumns": null
       },
       "removedWidgets": [],
       "schema": [
        {
         "metadata": "{}",
         "name": "QF_Teams",
         "type": "\"string\""
        },
        {
         "metadata": "{}",
         "name": "QF_Score",
         "type": "\"string\""
        }
       ],
       "type": "table"
      }
     },
     "output_type": "display_data"
    },
    {
     "output_type": "display_data",
     "data": {
      "text/html": [
       "<style scoped>\n",
       "  .table-result-container {\n",
       "    max-height: 300px;\n",
       "    overflow: auto;\n",
       "  }\n",
       "  table, th, td {\n",
       "    border: 1px solid black;\n",
       "    border-collapse: collapse;\n",
       "  }\n",
       "  th, td {\n",
       "    padding: 5px;\n",
       "  }\n",
       "  th {\n",
       "    text-align: left;\n",
       "  }\n",
       "</style><div class='table-result-container'><table class='table-result'><thead style='background-color: white'><tr><th>QF_Teams</th><th>QF_Score</th></tr></thead><tbody><tr><td>Croatia</td><td>2</td></tr><tr><td>Türkiye</td><td>4</td></tr><tr><td>Greece</td><td>5</td></tr><tr><td>Italy</td><td>6</td></tr></tbody></table></div>"
      ]
     },
     "metadata": {
      "application/vnd.databricks.v1+output": {
       "addedWidgets": {},
       "aggData": [],
       "aggError": "",
       "aggOverflow": false,
       "aggSchema": [],
       "aggSeriesLimitReached": false,
       "aggType": "",
       "arguments": {},
       "columnCustomDisplayInfos": {},
       "data": [
        [
         "Croatia",
         "2"
        ],
        [
         "Türkiye",
         "4"
        ],
        [
         "Greece",
         "5"
        ],
        [
         "Italy",
         "6"
        ]
       ],
       "datasetInfos": [],
       "dbfsResultPath": null,
       "isJsonSchema": true,
       "metadata": {},
       "overflow": false,
       "plotOptions": {
        "customPlotOptions": {},
        "displayType": "table",
        "pivotAggregation": null,
        "pivotColumns": null,
        "xColumns": null,
        "yColumns": null
       },
       "removedWidgets": [],
       "schema": [
        {
         "metadata": "{}",
         "name": "QF_Teams",
         "type": "\"string\""
        },
        {
         "metadata": "{}",
         "name": "QF_Score",
         "type": "\"string\""
        }
       ],
       "type": "table"
      }
     },
     "output_type": "display_data"
    }
   ],
   "source": [
    "\n",
    "midpoint_qf = len(qf_visualization) // 2\n",
    "\n",
    "\n",
    "left_qf_visualization = qf_visualization.iloc[:midpoint_qf]\n",
    "right_qf_visualization = qf_visualization.iloc[midpoint_qf:]\n",
    "\n",
    "\n",
    "left_qf_visualization.reset_index(drop=True, inplace=True)\n",
    "right_qf_visualization.reset_index(drop=True, inplace=True)\n",
    "\n",
    "\n",
    "display(left_qf_visualization)\n",
    "display(right_qf_visualization)\n"
   ]
  },
  {
   "cell_type": "code",
   "execution_count": 0,
   "metadata": {
    "application/vnd.databricks.v1+cell": {
     "cellMetadata": {
      "byteLimit": 2048000,
      "rowLimit": 10000
     },
     "inputWidgets": {},
     "nuid": "6a8d4b2e-26f7-4e6d-9a2c-85c3008ffa61",
     "showTitle": false,
     "title": ""
    }
   },
   "outputs": [
    {
     "output_type": "display_data",
     "data": {
      "text/html": [
       "<style scoped>\n",
       "  .table-result-container {\n",
       "    max-height: 300px;\n",
       "    overflow: auto;\n",
       "  }\n",
       "  table, th, td {\n",
       "    border: 1px solid black;\n",
       "    border-collapse: collapse;\n",
       "  }\n",
       "  th, td {\n",
       "    padding: 5px;\n",
       "  }\n",
       "  th {\n",
       "    text-align: left;\n",
       "  }\n",
       "</style><div class='table-result-container'><table class='table-result'><thead style='background-color: white'><tr><th>L_QF_Teams</th><th>L_QF_Score</th></tr></thead><tbody><tr><td></td><td></td></tr><tr><td></td><td></td></tr><tr><td></td><td></td></tr><tr><td></td><td></td></tr><tr><td>Switzerland</td><td>1</td></tr><tr><td>Scotland</td><td>2</td></tr><tr><td></td><td></td></tr><tr><td></td><td></td></tr><tr><td></td><td></td></tr><tr><td></td><td></td></tr><tr><td>Czech</td><td>5</td></tr><tr><td>Ukraine</td><td>3</td></tr><tr><td></td><td></td></tr><tr><td></td><td></td></tr><tr><td></td><td></td></tr><tr><td></td><td></td></tr></tbody></table></div>"
      ]
     },
     "metadata": {
      "application/vnd.databricks.v1+output": {
       "addedWidgets": {},
       "aggData": [],
       "aggError": "",
       "aggOverflow": false,
       "aggSchema": [],
       "aggSeriesLimitReached": false,
       "aggType": "",
       "arguments": {},
       "columnCustomDisplayInfos": {},
       "data": [
        [
         "",
         ""
        ],
        [
         "",
         ""
        ],
        [
         "",
         ""
        ],
        [
         "",
         ""
        ],
        [
         "Switzerland",
         "1"
        ],
        [
         "Scotland",
         "2"
        ],
        [
         "",
         ""
        ],
        [
         "",
         ""
        ],
        [
         "",
         ""
        ],
        [
         "",
         ""
        ],
        [
         "Czech",
         "5"
        ],
        [
         "Ukraine",
         "3"
        ],
        [
         "",
         ""
        ],
        [
         "",
         ""
        ],
        [
         "",
         ""
        ],
        [
         "",
         ""
        ]
       ],
       "datasetInfos": [],
       "dbfsResultPath": null,
       "isJsonSchema": true,
       "metadata": {},
       "overflow": false,
       "plotOptions": {
        "customPlotOptions": {},
        "displayType": "table",
        "pivotAggregation": null,
        "pivotColumns": null,
        "xColumns": null,
        "yColumns": null
       },
       "removedWidgets": [],
       "schema": [
        {
         "metadata": "{}",
         "name": "L_QF_Teams",
         "type": "\"string\""
        },
        {
         "metadata": "{}",
         "name": "L_QF_Score",
         "type": "\"string\""
        }
       ],
       "type": "table"
      }
     },
     "output_type": "display_data"
    }
   ],
   "source": [
    "# Creating an empty row for quarter finals\n",
    "empty_row_qf = pd.DataFrame({col: [''] for col in qf_visualization.columns})\n",
    "\n",
    "# Grouping left quarter finals DataFrame into pairs\n",
    "grouped_qf_left = [left_qf_visualization.iloc[i:i+2] for i in range(0, len(left_qf_visualization), 2)]\n",
    "\n",
    "# Adding empty rows between the grouped pairs\n",
    "for i in range(len(grouped_qf_left)):\n",
    "    if i < len(grouped_qf_left):\n",
    "        grouped_qf_left[i] = pd.concat([empty_row_qf, empty_row_qf, empty_row_qf, empty_row_qf, grouped_qf_left[i]], ignore_index=True)\n",
    "\n",
    "# Concatenating the modified groups back into a DataFrame\n",
    "spaced_qf_left = pd.concat(grouped_qf_left).reset_index(drop=True)\n",
    "\n",
    "# Adding additional empty rows at the bottom\n",
    "for _ in range(4):\n",
    "    spaced_qf_left = pd.concat([spaced_qf_left, empty_row_qf], ignore_index=True)\n",
    "\n",
    "# Renaming the columns with new names\n",
    "new_column_names_qf_left = {'QF_Teams': 'L_QF_Teams',\n",
    "                             'QF_Score': 'L_QF_Score'}\n",
    "spaced_qf_left = spaced_qf_left.rename(columns=new_column_names_qf_left)\n",
    "\n",
    "# Displaying the spaced quarter finals DataFrame for the left side\n",
    "display(spaced_qf_left)\n"
   ]
  },
  {
   "cell_type": "code",
   "execution_count": 0,
   "metadata": {
    "application/vnd.databricks.v1+cell": {
     "cellMetadata": {
      "byteLimit": 2048000,
      "rowLimit": 10000
     },
     "inputWidgets": {},
     "nuid": "1c2e7f48-b25d-4c71-b41f-da7b966d887b",
     "showTitle": false,
     "title": ""
    }
   },
   "outputs": [
    {
     "output_type": "display_data",
     "data": {
      "text/html": [
       "<style scoped>\n",
       "  .table-result-container {\n",
       "    max-height: 300px;\n",
       "    overflow: auto;\n",
       "  }\n",
       "  table, th, td {\n",
       "    border: 1px solid black;\n",
       "    border-collapse: collapse;\n",
       "  }\n",
       "  th, td {\n",
       "    padding: 5px;\n",
       "  }\n",
       "  th {\n",
       "    text-align: left;\n",
       "  }\n",
       "</style><div class='table-result-container'><table class='table-result'><thead style='background-color: white'><tr><th>R_QF_Teams</th><th>R_QF_Score</th></tr></thead><tbody><tr><td></td><td></td></tr><tr><td></td><td></td></tr><tr><td></td><td></td></tr><tr><td></td><td></td></tr><tr><td>Croatia</td><td>2</td></tr><tr><td>Türkiye</td><td>4</td></tr><tr><td></td><td></td></tr><tr><td></td><td></td></tr><tr><td></td><td></td></tr><tr><td></td><td></td></tr><tr><td>Greece</td><td>5</td></tr><tr><td>Italy</td><td>6</td></tr><tr><td></td><td></td></tr><tr><td></td><td></td></tr><tr><td></td><td></td></tr><tr><td></td><td></td></tr></tbody></table></div>"
      ]
     },
     "metadata": {
      "application/vnd.databricks.v1+output": {
       "addedWidgets": {},
       "aggData": [],
       "aggError": "",
       "aggOverflow": false,
       "aggSchema": [],
       "aggSeriesLimitReached": false,
       "aggType": "",
       "arguments": {},
       "columnCustomDisplayInfos": {},
       "data": [
        [
         "",
         ""
        ],
        [
         "",
         ""
        ],
        [
         "",
         ""
        ],
        [
         "",
         ""
        ],
        [
         "Croatia",
         "2"
        ],
        [
         "Türkiye",
         "4"
        ],
        [
         "",
         ""
        ],
        [
         "",
         ""
        ],
        [
         "",
         ""
        ],
        [
         "",
         ""
        ],
        [
         "Greece",
         "5"
        ],
        [
         "Italy",
         "6"
        ],
        [
         "",
         ""
        ],
        [
         "",
         ""
        ],
        [
         "",
         ""
        ],
        [
         "",
         ""
        ]
       ],
       "datasetInfos": [],
       "dbfsResultPath": null,
       "isJsonSchema": true,
       "metadata": {},
       "overflow": false,
       "plotOptions": {
        "customPlotOptions": {},
        "displayType": "table",
        "pivotAggregation": null,
        "pivotColumns": null,
        "xColumns": null,
        "yColumns": null
       },
       "removedWidgets": [],
       "schema": [
        {
         "metadata": "{}",
         "name": "R_QF_Teams",
         "type": "\"string\""
        },
        {
         "metadata": "{}",
         "name": "R_QF_Score",
         "type": "\"string\""
        }
       ],
       "type": "table"
      }
     },
     "output_type": "display_data"
    }
   ],
   "source": [
    "\n",
    "empty_row_qf = pd.DataFrame({col: [''] for col in qf_visualization.columns})\n",
    "\n",
    "\n",
    "grouped_qf_right = [right_qf_visualization.iloc[i:i+2] for i in range(0, len(right_qf_visualization), 2)]\n",
    "\n",
    "for i in range(len(grouped_qf_right)):\n",
    "    if i < len(grouped_qf_right):\n",
    "        grouped_qf_right[i] = pd.concat([empty_row_qf, empty_row_qf, empty_row_qf, empty_row_qf, grouped_qf_right[i]], ignore_index=True)\n",
    "\n",
    "\n",
    "spaced_qf_right = pd.concat(grouped_qf_right).reset_index(drop=True)\n",
    "\n",
    "\n",
    "for _ in range(4):\n",
    "    spaced_qf_right = pd.concat([spaced_qf_right, empty_row_qf], ignore_index=True)\n",
    "\n",
    "\n",
    "new_column_names_qf_right = {'QF_Teams': 'R_QF_Teams',\n",
    "                              'QF_Score': 'R_QF_Score'}\n",
    "spaced_qf_right = spaced_qf_right.rename(columns=new_column_names_qf_right)\n",
    "\n",
    "display(spaced_qf_right)\n"
   ]
  },
  {
   "cell_type": "markdown",
   "metadata": {
    "application/vnd.databricks.v1+cell": {
     "cellMetadata": {
      "byteLimit": 2048000,
      "rowLimit": 10000
     },
     "inputWidgets": {},
     "nuid": "811a0ef6-eab0-4f8b-b411-8f5fbefb9bb8",
     "showTitle": false,
     "title": ""
    }
   },
   "source": [
    "Displaying semi-finals"
   ]
  },
  {
   "cell_type": "code",
   "execution_count": 0,
   "metadata": {
    "application/vnd.databricks.v1+cell": {
     "cellMetadata": {
      "byteLimit": 2048000,
      "rowLimit": 10000
     },
     "inputWidgets": {},
     "nuid": "da7e902d-62ae-4141-8117-5ab632df2db6",
     "showTitle": false,
     "title": ""
    }
   },
   "outputs": [
    {
     "output_type": "display_data",
     "data": {
      "text/html": [
       "<style scoped>\n",
       "  .table-result-container {\n",
       "    max-height: 300px;\n",
       "    overflow: auto;\n",
       "  }\n",
       "  table, th, td {\n",
       "    border: 1px solid black;\n",
       "    border-collapse: collapse;\n",
       "  }\n",
       "  th, td {\n",
       "    padding: 5px;\n",
       "  }\n",
       "  th {\n",
       "    text-align: left;\n",
       "  }\n",
       "</style><div class='table-result-container'><table class='table-result'><thead style='background-color: white'><tr><th>MatchID</th><th>Team1</th><th>Team1Goals</th><th>Team2</th><th>Team2Goals</th><th>Result</th><th>MatchWinner</th><th>MatchStage</th></tr></thead><tbody><tr><td>13</td><td>Scotland</td><td>4</td><td>Czech</td><td>1</td><td>1-3</td><td>Scotland</td><td>SemiFinals</td></tr><tr><td>14</td><td>Türkiye</td><td>3</td><td>Italy</td><td>1</td><td>2-6</td><td>Türkiye</td><td>SemiFinals</td></tr></tbody></table></div>"
      ]
     },
     "metadata": {
      "application/vnd.databricks.v1+output": {
       "addedWidgets": {},
       "aggData": [],
       "aggError": "",
       "aggOverflow": false,
       "aggSchema": [],
       "aggSeriesLimitReached": false,
       "aggType": "",
       "arguments": {},
       "columnCustomDisplayInfos": {},
       "data": [
        [
         "13",
         "Scotland",
         "4",
         "Czech",
         "1",
         "1-3",
         "Scotland",
         "SemiFinals"
        ],
        [
         "14",
         "Türkiye",
         "3",
         "Italy",
         "1",
         "2-6",
         "Türkiye",
         "SemiFinals"
        ]
       ],
       "datasetInfos": [],
       "dbfsResultPath": null,
       "isJsonSchema": true,
       "metadata": {},
       "overflow": false,
       "plotOptions": {
        "customPlotOptions": {},
        "displayType": "table",
        "pivotAggregation": null,
        "pivotColumns": null,
        "xColumns": null,
        "yColumns": null
       },
       "removedWidgets": [],
       "schema": [
        {
         "metadata": "{}",
         "name": "MatchID",
         "type": "\"string\""
        },
        {
         "metadata": "{}",
         "name": "Team1",
         "type": "\"string\""
        },
        {
         "metadata": "{}",
         "name": "Team1Goals",
         "type": "\"string\""
        },
        {
         "metadata": "{}",
         "name": "Team2",
         "type": "\"string\""
        },
        {
         "metadata": "{}",
         "name": "Team2Goals",
         "type": "\"string\""
        },
        {
         "metadata": "{}",
         "name": "Result",
         "type": "\"string\""
        },
        {
         "metadata": "{}",
         "name": "MatchWinner",
         "type": "\"string\""
        },
        {
         "metadata": "{}",
         "name": "MatchStage",
         "type": "\"string\""
        }
       ],
       "type": "table"
      }
     },
     "output_type": "display_data"
    },
    {
     "output_type": "display_data",
     "data": {
      "text/html": [
       "<style scoped>\n",
       "  .table-result-container {\n",
       "    max-height: 300px;\n",
       "    overflow: auto;\n",
       "  }\n",
       "  table, th, td {\n",
       "    border: 1px solid black;\n",
       "    border-collapse: collapse;\n",
       "  }\n",
       "  th, td {\n",
       "    padding: 5px;\n",
       "  }\n",
       "  th {\n",
       "    text-align: left;\n",
       "  }\n",
       "</style><div class='table-result-container'><table class='table-result'><thead style='background-color: white'><tr><th>SF_Teams</th><th>SF_Score</th></tr></thead><tbody><tr><td>Scotland</td><td>4</td></tr><tr><td>Czech</td><td>1</td></tr><tr><td>Türkiye</td><td>3</td></tr><tr><td>Italy</td><td>1</td></tr></tbody></table></div>"
      ]
     },
     "metadata": {
      "application/vnd.databricks.v1+output": {
       "addedWidgets": {},
       "aggData": [],
       "aggError": "",
       "aggOverflow": false,
       "aggSchema": [],
       "aggSeriesLimitReached": false,
       "aggType": "",
       "arguments": {},
       "columnCustomDisplayInfos": {},
       "data": [
        [
         "Scotland",
         "4"
        ],
        [
         "Czech",
         "1"
        ],
        [
         "Türkiye",
         "3"
        ],
        [
         "Italy",
         "1"
        ]
       ],
       "datasetInfos": [],
       "dbfsResultPath": null,
       "isJsonSchema": true,
       "metadata": {},
       "overflow": false,
       "plotOptions": {
        "customPlotOptions": {},
        "displayType": "table",
        "pivotAggregation": null,
        "pivotColumns": null,
        "xColumns": null,
        "yColumns": null
       },
       "removedWidgets": [],
       "schema": [
        {
         "metadata": "{}",
         "name": "SF_Teams",
         "type": "\"string\""
        },
        {
         "metadata": "{}",
         "name": "SF_Score",
         "type": "\"string\""
        }
       ],
       "type": "table"
      }
     },
     "output_type": "display_data"
    }
   ],
   "source": [
    "sf = spark.sql(\"SELECT * FROM MatchesFixtures WHERE MatchStage = 'SemiFinals'\")\n",
    "sf_pd = sf.toPandas()\n",
    "sf_pd = sf_pd.applymap(lambda x: str(x).split(\".\")[0])\n",
    "\n",
    "# Storing required data in a DataFrame for semi-finals\n",
    "sf_visualization = pd.DataFrame(columns=['SF_Teams', 'SF_Score'])\n",
    "\n",
    "# Displaying all teams and respective scores in columns\n",
    "for index, row in sf_pd.iterrows():\n",
    "    team1 = row['Team1']\n",
    "    team1_goals = row['Team1Goals']\n",
    "    team2 = row['Team2']\n",
    "    team2_goals = row['Team2Goals']\n",
    "    sf_visualization = pd.concat([sf_visualization, pd.DataFrame({'SF_Teams': [team1], 'SF_Score': [team1_goals]})], ignore_index=True)\n",
    "    sf_visualization = pd.concat([sf_visualization, pd.DataFrame({'SF_Teams': [team2], 'SF_Score': [team2_goals]})], ignore_index=True)\n",
    "\n",
    "display(sf_pd)\n",
    "display(sf_visualization)\n"
   ]
  },
  {
   "cell_type": "code",
   "execution_count": 0,
   "metadata": {
    "application/vnd.databricks.v1+cell": {
     "cellMetadata": {
      "byteLimit": 2048000,
      "rowLimit": 10000
     },
     "inputWidgets": {},
     "nuid": "f9f849d6-6145-4433-8ce6-c46b1c4187c3",
     "showTitle": false,
     "title": ""
    }
   },
   "outputs": [
    {
     "output_type": "display_data",
     "data": {
      "text/html": [
       "<style scoped>\n",
       "  .table-result-container {\n",
       "    max-height: 300px;\n",
       "    overflow: auto;\n",
       "  }\n",
       "  table, th, td {\n",
       "    border: 1px solid black;\n",
       "    border-collapse: collapse;\n",
       "  }\n",
       "  th, td {\n",
       "    padding: 5px;\n",
       "  }\n",
       "  th {\n",
       "    text-align: left;\n",
       "  }\n",
       "</style><div class='table-result-container'><table class='table-result'><thead style='background-color: white'><tr><th>SF_Teams</th><th>SF_Score</th></tr></thead><tbody><tr><td>Scotland</td><td>4</td></tr><tr><td>Czech</td><td>1</td></tr></tbody></table></div>"
      ]
     },
     "metadata": {
      "application/vnd.databricks.v1+output": {
       "addedWidgets": {},
       "aggData": [],
       "aggError": "",
       "aggOverflow": false,
       "aggSchema": [],
       "aggSeriesLimitReached": false,
       "aggType": "",
       "arguments": {},
       "columnCustomDisplayInfos": {},
       "data": [
        [
         "Scotland",
         "4"
        ],
        [
         "Czech",
         "1"
        ]
       ],
       "datasetInfos": [],
       "dbfsResultPath": null,
       "isJsonSchema": true,
       "metadata": {},
       "overflow": false,
       "plotOptions": {
        "customPlotOptions": {},
        "displayType": "table",
        "pivotAggregation": null,
        "pivotColumns": null,
        "xColumns": null,
        "yColumns": null
       },
       "removedWidgets": [],
       "schema": [
        {
         "metadata": "{}",
         "name": "SF_Teams",
         "type": "\"string\""
        },
        {
         "metadata": "{}",
         "name": "SF_Score",
         "type": "\"string\""
        }
       ],
       "type": "table"
      }
     },
     "output_type": "display_data"
    },
    {
     "output_type": "display_data",
     "data": {
      "text/html": [
       "<style scoped>\n",
       "  .table-result-container {\n",
       "    max-height: 300px;\n",
       "    overflow: auto;\n",
       "  }\n",
       "  table, th, td {\n",
       "    border: 1px solid black;\n",
       "    border-collapse: collapse;\n",
       "  }\n",
       "  th, td {\n",
       "    padding: 5px;\n",
       "  }\n",
       "  th {\n",
       "    text-align: left;\n",
       "  }\n",
       "</style><div class='table-result-container'><table class='table-result'><thead style='background-color: white'><tr><th>SF_Teams</th><th>SF_Score</th></tr></thead><tbody><tr><td>Türkiye</td><td>3</td></tr><tr><td>Italy</td><td>1</td></tr></tbody></table></div>"
      ]
     },
     "metadata": {
      "application/vnd.databricks.v1+output": {
       "addedWidgets": {},
       "aggData": [],
       "aggError": "",
       "aggOverflow": false,
       "aggSchema": [],
       "aggSeriesLimitReached": false,
       "aggType": "",
       "arguments": {},
       "columnCustomDisplayInfos": {},
       "data": [
        [
         "Türkiye",
         "3"
        ],
        [
         "Italy",
         "1"
        ]
       ],
       "datasetInfos": [],
       "dbfsResultPath": null,
       "isJsonSchema": true,
       "metadata": {},
       "overflow": false,
       "plotOptions": {
        "customPlotOptions": {},
        "displayType": "table",
        "pivotAggregation": null,
        "pivotColumns": null,
        "xColumns": null,
        "yColumns": null
       },
       "removedWidgets": [],
       "schema": [
        {
         "metadata": "{}",
         "name": "SF_Teams",
         "type": "\"string\""
        },
        {
         "metadata": "{}",
         "name": "SF_Score",
         "type": "\"string\""
        }
       ],
       "type": "table"
      }
     },
     "output_type": "display_data"
    }
   ],
   "source": [
    "# calculating midpoint of the dataFrame\n",
    "midpoint_index2 = len(sf_visualization) // 2\n",
    "\n",
    "# splitting dataFrame into two equal halves\n",
    "left_sf_visualization = sf_visualization.iloc[:midpoint_index2]\n",
    "right_sf_visualization = sf_visualization.iloc[midpoint_index2:]\n",
    "\n",
    "# index reset\n",
    "left_sf_visualization.reset_index(drop=True, inplace=True)\n",
    "right_sf_visualization.reset_index(drop=True, inplace=True)\n",
    "\n",
    "# displaying the split DataFrames\n",
    "display(left_sf_visualization)\n",
    "display(right_sf_visualization)\n"
   ]
  },
  {
   "cell_type": "code",
   "execution_count": 0,
   "metadata": {
    "application/vnd.databricks.v1+cell": {
     "cellMetadata": {
      "byteLimit": 2048000,
      "rowLimit": 10000
     },
     "inputWidgets": {},
     "nuid": "7ed83392-1d0d-41aa-855d-e3318b768507",
     "showTitle": false,
     "title": ""
    }
   },
   "outputs": [
    {
     "output_type": "display_data",
     "data": {
      "text/html": [
       "<style scoped>\n",
       "  .table-result-container {\n",
       "    max-height: 300px;\n",
       "    overflow: auto;\n",
       "  }\n",
       "  table, th, td {\n",
       "    border: 1px solid black;\n",
       "    border-collapse: collapse;\n",
       "  }\n",
       "  th, td {\n",
       "    padding: 5px;\n",
       "  }\n",
       "  th {\n",
       "    text-align: left;\n",
       "  }\n",
       "</style><div class='table-result-container'><table class='table-result'><thead style='background-color: white'><tr><th>L_SF_Teams</th><th>L_SF_Score</th></tr></thead><tbody><tr><td></td><td></td></tr><tr><td></td><td></td></tr><tr><td></td><td></td></tr><tr><td></td><td></td></tr><tr><td></td><td></td></tr><tr><td></td><td></td></tr><tr><td>Scotland</td><td>4</td></tr><tr><td></td><td></td></tr><tr><td></td><td></td></tr><tr><td>Czech</td><td>1</td></tr><tr><td></td><td></td></tr><tr><td></td><td></td></tr><tr><td></td><td></td></tr><tr><td></td><td></td></tr><tr><td></td><td></td></tr><tr><td></td><td></td></tr></tbody></table></div>"
      ]
     },
     "metadata": {
      "application/vnd.databricks.v1+output": {
       "addedWidgets": {},
       "aggData": [],
       "aggError": "",
       "aggOverflow": false,
       "aggSchema": [],
       "aggSeriesLimitReached": false,
       "aggType": "",
       "arguments": {},
       "columnCustomDisplayInfos": {},
       "data": [
        [
         "",
         ""
        ],
        [
         "",
         ""
        ],
        [
         "",
         ""
        ],
        [
         "",
         ""
        ],
        [
         "",
         ""
        ],
        [
         "",
         ""
        ],
        [
         "Scotland",
         "4"
        ],
        [
         "",
         ""
        ],
        [
         "",
         ""
        ],
        [
         "Czech",
         "1"
        ],
        [
         "",
         ""
        ],
        [
         "",
         ""
        ],
        [
         "",
         ""
        ],
        [
         "",
         ""
        ],
        [
         "",
         ""
        ],
        [
         "",
         ""
        ]
       ],
       "datasetInfos": [],
       "dbfsResultPath": null,
       "isJsonSchema": true,
       "metadata": {},
       "overflow": false,
       "plotOptions": {
        "customPlotOptions": {},
        "displayType": "table",
        "pivotAggregation": null,
        "pivotColumns": null,
        "xColumns": null,
        "yColumns": null
       },
       "removedWidgets": [],
       "schema": [
        {
         "metadata": "{}",
         "name": "L_SF_Teams",
         "type": "\"string\""
        },
        {
         "metadata": "{}",
         "name": "L_SF_Score",
         "type": "\"string\""
        }
       ],
       "type": "table"
      }
     },
     "output_type": "display_data"
    }
   ],
   "source": [
    "# Creating an empty row for semi-finals\n",
    "empty_row_sf = pd.DataFrame({col: [''] for col in sf_visualization.columns})\n",
    "\n",
    "# Grouping left semi-finals DataFrame into individual rows\n",
    "grouped_sf_left = [left_sf_visualization.iloc[i:i+1] for i in range(0, len(left_sf_visualization), 1)]\n",
    "\n",
    "# Adding empty rows between the grouped rows\n",
    "for i in range(len(grouped_sf_left)):\n",
    "    if i < len(grouped_sf_left):\n",
    "        grouped_sf_left[i] = pd.concat([grouped_sf_left[i], empty_row_sf, empty_row_sf], ignore_index=True)\n",
    "\n",
    "# Concatenating the modified groups back into a DataFrame\n",
    "spaced_sf_left = pd.concat(grouped_sf_left).reset_index(drop=True)\n",
    "\n",
    "# Adding additional empty rows at the bottom\n",
    "for _ in range(6):\n",
    "    spaced_sf_left = pd.concat([empty_row_sf, spaced_sf_left], ignore_index=True)\n",
    "\n",
    "for _ in range(4):\n",
    "    spaced_sf_left = pd.concat([spaced_sf_left, empty_row_sf], ignore_index=True)\n",
    "\n",
    "# Renaming the columns with new names\n",
    "new_column_names_sf_left = {'SF_Teams': 'L_SF_Teams',\n",
    "                             'SF_Score': 'L_SF_Score'}\n",
    "\n",
    "spaced_sf_left = spaced_sf_left.rename(columns=new_column_names_sf_left)\n",
    "display(spaced_sf_left)\n"
   ]
  },
  {
   "cell_type": "code",
   "execution_count": 0,
   "metadata": {
    "application/vnd.databricks.v1+cell": {
     "cellMetadata": {
      "byteLimit": 2048000,
      "rowLimit": 10000
     },
     "inputWidgets": {},
     "nuid": "c2372c39-f6b1-4b0a-8390-0532b08a0605",
     "showTitle": false,
     "title": ""
    }
   },
   "outputs": [
    {
     "output_type": "display_data",
     "data": {
      "text/html": [
       "<style scoped>\n",
       "  .table-result-container {\n",
       "    max-height: 300px;\n",
       "    overflow: auto;\n",
       "  }\n",
       "  table, th, td {\n",
       "    border: 1px solid black;\n",
       "    border-collapse: collapse;\n",
       "  }\n",
       "  th, td {\n",
       "    padding: 5px;\n",
       "  }\n",
       "  th {\n",
       "    text-align: left;\n",
       "  }\n",
       "</style><div class='table-result-container'><table class='table-result'><thead style='background-color: white'><tr><th>R_SF_Teams</th><th>R_SF_Score</th></tr></thead><tbody><tr><td></td><td></td></tr><tr><td></td><td></td></tr><tr><td></td><td></td></tr><tr><td></td><td></td></tr><tr><td></td><td></td></tr><tr><td></td><td></td></tr><tr><td>Türkiye</td><td>3</td></tr><tr><td></td><td></td></tr><tr><td></td><td></td></tr><tr><td>Italy</td><td>1</td></tr><tr><td></td><td></td></tr><tr><td></td><td></td></tr><tr><td></td><td></td></tr><tr><td></td><td></td></tr><tr><td></td><td></td></tr><tr><td></td><td></td></tr></tbody></table></div>"
      ]
     },
     "metadata": {
      "application/vnd.databricks.v1+output": {
       "addedWidgets": {},
       "aggData": [],
       "aggError": "",
       "aggOverflow": false,
       "aggSchema": [],
       "aggSeriesLimitReached": false,
       "aggType": "",
       "arguments": {},
       "columnCustomDisplayInfos": {},
       "data": [
        [
         "",
         ""
        ],
        [
         "",
         ""
        ],
        [
         "",
         ""
        ],
        [
         "",
         ""
        ],
        [
         "",
         ""
        ],
        [
         "",
         ""
        ],
        [
         "Türkiye",
         "3"
        ],
        [
         "",
         ""
        ],
        [
         "",
         ""
        ],
        [
         "Italy",
         "1"
        ],
        [
         "",
         ""
        ],
        [
         "",
         ""
        ],
        [
         "",
         ""
        ],
        [
         "",
         ""
        ],
        [
         "",
         ""
        ],
        [
         "",
         ""
        ]
       ],
       "datasetInfos": [],
       "dbfsResultPath": null,
       "isJsonSchema": true,
       "metadata": {},
       "overflow": false,
       "plotOptions": {
        "customPlotOptions": {},
        "displayType": "table",
        "pivotAggregation": null,
        "pivotColumns": null,
        "xColumns": null,
        "yColumns": null
       },
       "removedWidgets": [],
       "schema": [
        {
         "metadata": "{}",
         "name": "R_SF_Teams",
         "type": "\"string\""
        },
        {
         "metadata": "{}",
         "name": "R_SF_Score",
         "type": "\"string\""
        }
       ],
       "type": "table"
      }
     },
     "output_type": "display_data"
    }
   ],
   "source": [
    "# Grouping right semi-finals DataFrame into individual rows\n",
    "grouped_sf_right = [right_sf_visualization.iloc[i:i+1] for i in range(0, len(right_sf_visualization), 1)]\n",
    "\n",
    "\n",
    "for i in range(len(grouped_sf_right)):\n",
    "    if i < len(grouped_sf_right):\n",
    "        grouped_sf_right[i] = pd.concat([grouped_sf_right[i], empty_row_sf, empty_row_sf], ignore_index=True)\n",
    "\n",
    "\n",
    "spaced_sf_right = pd.concat(grouped_sf_right).reset_index(drop=True)\n",
    "\n",
    "\n",
    "for _ in range(6):\n",
    "    spaced_sf_right = pd.concat([empty_row_sf, spaced_sf_right], ignore_index=True)\n",
    "\n",
    "for _ in range(4):\n",
    "    spaced_sf_right = pd.concat([spaced_sf_right, empty_row_sf], ignore_index=True)\n",
    "\n",
    "\n",
    "new_column_names_sf_right = {'SF_Teams': 'R_SF_Teams',\n",
    "                              'SF_Score': 'R_SF_Score'}\n",
    "\n",
    "spaced_sf_right = spaced_sf_right.rename(columns=new_column_names_sf_right)\n",
    "\n",
    "display(spaced_sf_right)\n"
   ]
  },
  {
   "cell_type": "markdown",
   "metadata": {
    "application/vnd.databricks.v1+cell": {
     "cellMetadata": {
      "byteLimit": 2048000,
      "rowLimit": 10000
     },
     "inputWidgets": {},
     "nuid": "7fe4ba08-8ffe-4dff-b0ac-c5fbfe4b0c3b",
     "showTitle": false,
     "title": ""
    }
   },
   "source": [
    "Displaying Final Match"
   ]
  },
  {
   "cell_type": "code",
   "execution_count": 0,
   "metadata": {
    "application/vnd.databricks.v1+cell": {
     "cellMetadata": {
      "byteLimit": 2048000,
      "rowLimit": 10000
     },
     "inputWidgets": {},
     "nuid": "2d9998ce-36f1-4e3d-ac77-bdaf76efecba",
     "showTitle": false,
     "title": ""
    }
   },
   "outputs": [
    {
     "output_type": "display_data",
     "data": {
      "text/html": [
       "<style scoped>\n",
       "  .table-result-container {\n",
       "    max-height: 300px;\n",
       "    overflow: auto;\n",
       "  }\n",
       "  table, th, td {\n",
       "    border: 1px solid black;\n",
       "    border-collapse: collapse;\n",
       "  }\n",
       "  th, td {\n",
       "    padding: 5px;\n",
       "  }\n",
       "  th {\n",
       "    text-align: left;\n",
       "  }\n",
       "</style><div class='table-result-container'><table class='table-result'><thead style='background-color: white'><tr><th>MatchID</th><th>Team1</th><th>Team1Goals</th><th>Team2</th><th>Team2Goals</th><th>Result</th><th>MatchWinner</th><th>MatchStage</th></tr></thead><tbody><tr><td>16</td><td>Scotland</td><td>2</td><td>Türkiye</td><td>3</td><td>4-1</td><td>Türkiye</td><td>Finals</td></tr></tbody></table></div>"
      ]
     },
     "metadata": {
      "application/vnd.databricks.v1+output": {
       "addedWidgets": {},
       "aggData": [],
       "aggError": "",
       "aggOverflow": false,
       "aggSchema": [],
       "aggSeriesLimitReached": false,
       "aggType": "",
       "arguments": {},
       "columnCustomDisplayInfos": {},
       "data": [
        [
         "16",
         "Scotland",
         "2",
         "Türkiye",
         "3",
         "4-1",
         "Türkiye",
         "Finals"
        ]
       ],
       "datasetInfos": [],
       "dbfsResultPath": null,
       "isJsonSchema": true,
       "metadata": {},
       "overflow": false,
       "plotOptions": {
        "customPlotOptions": {},
        "displayType": "table",
        "pivotAggregation": null,
        "pivotColumns": null,
        "xColumns": null,
        "yColumns": null
       },
       "removedWidgets": [],
       "schema": [
        {
         "metadata": "{}",
         "name": "MatchID",
         "type": "\"string\""
        },
        {
         "metadata": "{}",
         "name": "Team1",
         "type": "\"string\""
        },
        {
         "metadata": "{}",
         "name": "Team1Goals",
         "type": "\"string\""
        },
        {
         "metadata": "{}",
         "name": "Team2",
         "type": "\"string\""
        },
        {
         "metadata": "{}",
         "name": "Team2Goals",
         "type": "\"string\""
        },
        {
         "metadata": "{}",
         "name": "Result",
         "type": "\"string\""
        },
        {
         "metadata": "{}",
         "name": "MatchWinner",
         "type": "\"string\""
        },
        {
         "metadata": "{}",
         "name": "MatchStage",
         "type": "\"string\""
        }
       ],
       "type": "table"
      }
     },
     "output_type": "display_data"
    },
    {
     "output_type": "display_data",
     "data": {
      "text/html": [
       "<style scoped>\n",
       "  .table-result-container {\n",
       "    max-height: 300px;\n",
       "    overflow: auto;\n",
       "  }\n",
       "  table, th, td {\n",
       "    border: 1px solid black;\n",
       "    border-collapse: collapse;\n",
       "  }\n",
       "  th, td {\n",
       "    padding: 5px;\n",
       "  }\n",
       "  th {\n",
       "    text-align: left;\n",
       "  }\n",
       "</style><div class='table-result-container'><table class='table-result'><thead style='background-color: white'><tr><th>Fin_Teams</th><th>Fin_Score</th></tr></thead><tbody><tr><td>Scotland</td><td>2</td></tr><tr><td>Türkiye</td><td>3</td></tr></tbody></table></div>"
      ]
     },
     "metadata": {
      "application/vnd.databricks.v1+output": {
       "addedWidgets": {},
       "aggData": [],
       "aggError": "",
       "aggOverflow": false,
       "aggSchema": [],
       "aggSeriesLimitReached": false,
       "aggType": "",
       "arguments": {},
       "columnCustomDisplayInfos": {},
       "data": [
        [
         "Scotland",
         "2"
        ],
        [
         "Türkiye",
         "3"
        ]
       ],
       "datasetInfos": [],
       "dbfsResultPath": null,
       "isJsonSchema": true,
       "metadata": {},
       "overflow": false,
       "plotOptions": {
        "customPlotOptions": {},
        "displayType": "table",
        "pivotAggregation": null,
        "pivotColumns": null,
        "xColumns": null,
        "yColumns": null
       },
       "removedWidgets": [],
       "schema": [
        {
         "metadata": "{}",
         "name": "Fin_Teams",
         "type": "\"string\""
        },
        {
         "metadata": "{}",
         "name": "Fin_Score",
         "type": "\"string\""
        }
       ],
       "type": "table"
      }
     },
     "output_type": "display_data"
    }
   ],
   "source": [
    "\n",
    "fin_df = spark.sql(\"SELECT * FROM MatchesFixtures WHERE MatchStage = 'Finals'\")\n",
    "fin_pd = fin_df.toPandas()\n",
    "fin_pd = fin_pd.applymap(lambda x: str(x).split(\".\")[0])\n",
    "\n",
    "fin_visualization = pd.DataFrame(columns=['Fin_Teams', 'Fin_Score'])\n",
    "\n",
    "for index, row in fin_pd.iterrows():\n",
    "    team1 = row['Team1']\n",
    "    team1_goals = row['Team1Goals']\n",
    "    team2 = row['Team2']\n",
    "    team2_goals = row['Team2Goals']\n",
    "    fin_visualization = pd.concat([fin_visualization, pd.DataFrame({'Fin_Teams': [team1], 'Fin_Score': [team1_goals]})], ignore_index=True)\n",
    "    fin_visualization = pd.concat([fin_visualization, pd.DataFrame({'Fin_Teams': [team2], 'Fin_Score': [team2_goals]})], ignore_index=True)\n",
    "\n",
    "display(fin_pd)\n",
    "display(fin_visualization)\n"
   ]
  },
  {
   "cell_type": "code",
   "execution_count": 0,
   "metadata": {
    "application/vnd.databricks.v1+cell": {
     "cellMetadata": {
      "byteLimit": 2048000,
      "rowLimit": 10000
     },
     "inputWidgets": {},
     "nuid": "8fce7d29-c817-4412-97c9-f08cc42e4387",
     "showTitle": false,
     "title": ""
    }
   },
   "outputs": [
    {
     "output_type": "display_data",
     "data": {
      "text/html": [
       "<style scoped>\n",
       "  .table-result-container {\n",
       "    max-height: 300px;\n",
       "    overflow: auto;\n",
       "  }\n",
       "  table, th, td {\n",
       "    border: 1px solid black;\n",
       "    border-collapse: collapse;\n",
       "  }\n",
       "  th, td {\n",
       "    padding: 5px;\n",
       "  }\n",
       "  th {\n",
       "    text-align: left;\n",
       "  }\n",
       "</style><div class='table-result-container'><table class='table-result'><thead style='background-color: white'><tr><th>L_Fin_Teams</th><th>L_Fin_Score</th></tr></thead><tbody><tr><td></td><td></td></tr><tr><td></td><td></td></tr><tr><td></td><td></td></tr><tr><td></td><td></td></tr><tr><td></td><td></td></tr><tr><td></td><td></td></tr><tr><td></td><td></td></tr><tr><td></td><td></td></tr><tr><td>Scotland</td><td>2</td></tr><tr><td></td><td></td></tr><tr><td></td><td></td></tr><tr><td></td><td></td></tr><tr><td></td><td></td></tr><tr><td></td><td></td></tr><tr><td></td><td></td></tr><tr><td></td><td></td></tr></tbody></table></div>"
      ]
     },
     "metadata": {
      "application/vnd.databricks.v1+output": {
       "addedWidgets": {},
       "aggData": [],
       "aggError": "",
       "aggOverflow": false,
       "aggSchema": [],
       "aggSeriesLimitReached": false,
       "aggType": "",
       "arguments": {},
       "columnCustomDisplayInfos": {},
       "data": [
        [
         "",
         ""
        ],
        [
         "",
         ""
        ],
        [
         "",
         ""
        ],
        [
         "",
         ""
        ],
        [
         "",
         ""
        ],
        [
         "",
         ""
        ],
        [
         "",
         ""
        ],
        [
         "",
         ""
        ],
        [
         "Scotland",
         "2"
        ],
        [
         "",
         ""
        ],
        [
         "",
         ""
        ],
        [
         "",
         ""
        ],
        [
         "",
         ""
        ],
        [
         "",
         ""
        ],
        [
         "",
         ""
        ],
        [
         "",
         ""
        ]
       ],
       "datasetInfos": [],
       "dbfsResultPath": null,
       "isJsonSchema": true,
       "metadata": {},
       "overflow": false,
       "plotOptions": {
        "customPlotOptions": {},
        "displayType": "table",
        "pivotAggregation": null,
        "pivotColumns": null,
        "xColumns": null,
        "yColumns": null
       },
       "removedWidgets": [],
       "schema": [
        {
         "metadata": "{}",
         "name": "L_Fin_Teams",
         "type": "\"string\""
        },
        {
         "metadata": "{}",
         "name": "L_Fin_Score",
         "type": "\"string\""
        }
       ],
       "type": "table"
      }
     },
     "output_type": "display_data"
    },
    {
     "output_type": "display_data",
     "data": {
      "text/html": [
       "<style scoped>\n",
       "  .table-result-container {\n",
       "    max-height: 300px;\n",
       "    overflow: auto;\n",
       "  }\n",
       "  table, th, td {\n",
       "    border: 1px solid black;\n",
       "    border-collapse: collapse;\n",
       "  }\n",
       "  th, td {\n",
       "    padding: 5px;\n",
       "  }\n",
       "  th {\n",
       "    text-align: left;\n",
       "  }\n",
       "</style><div class='table-result-container'><table class='table-result'><thead style='background-color: white'><tr><th>R_Fin_Score</th><th>R_Fin_Teams</th></tr></thead><tbody><tr><td></td><td></td></tr><tr><td></td><td></td></tr><tr><td></td><td></td></tr><tr><td></td><td></td></tr><tr><td></td><td></td></tr><tr><td></td><td></td></tr><tr><td></td><td></td></tr><tr><td></td><td></td></tr><tr><td>3</td><td>Türkiye</td></tr><tr><td></td><td></td></tr><tr><td></td><td></td></tr><tr><td></td><td></td></tr><tr><td></td><td></td></tr><tr><td></td><td></td></tr><tr><td></td><td></td></tr><tr><td></td><td></td></tr></tbody></table></div>"
      ]
     },
     "metadata": {
      "application/vnd.databricks.v1+output": {
       "addedWidgets": {},
       "aggData": [],
       "aggError": "",
       "aggOverflow": false,
       "aggSchema": [],
       "aggSeriesLimitReached": false,
       "aggType": "",
       "arguments": {},
       "columnCustomDisplayInfos": {},
       "data": [
        [
         "",
         ""
        ],
        [
         "",
         ""
        ],
        [
         "",
         ""
        ],
        [
         "",
         ""
        ],
        [
         "",
         ""
        ],
        [
         "",
         ""
        ],
        [
         "",
         ""
        ],
        [
         "",
         ""
        ],
        [
         "3",
         "Türkiye"
        ],
        [
         "",
         ""
        ],
        [
         "",
         ""
        ],
        [
         "",
         ""
        ],
        [
         "",
         ""
        ],
        [
         "",
         ""
        ],
        [
         "",
         ""
        ],
        [
         "",
         ""
        ]
       ],
       "datasetInfos": [],
       "dbfsResultPath": null,
       "isJsonSchema": true,
       "metadata": {},
       "overflow": false,
       "plotOptions": {
        "customPlotOptions": {},
        "displayType": "table",
        "pivotAggregation": null,
        "pivotColumns": null,
        "xColumns": null,
        "yColumns": null
       },
       "removedWidgets": [],
       "schema": [
        {
         "metadata": "{}",
         "name": "R_Fin_Score",
         "type": "\"string\""
        },
        {
         "metadata": "{}",
         "name": "R_Fin_Teams",
         "type": "\"string\""
        }
       ],
       "type": "table"
      }
     },
     "output_type": "display_data"
    }
   ],
   "source": [
    "fin_row_pd = pd.DataFrame({col: [''] for col in fin_visualization.columns})\n",
    "\n",
    "fin1 = fin_visualization.iloc[:1]  \n",
    "fin2 = fin_visualization.iloc[1:]  \n",
    "\n",
    "for _ in range(8):\n",
    "    fin1 = pd.concat([fin_row_pd, fin1], ignore_index=True)\n",
    "    fin2 = pd.concat([fin_row_pd, fin2], ignore_index=True)\n",
    "\n",
    "for _ in range(7):\n",
    "    fin1 = pd.concat([fin1, fin_row_pd], ignore_index=True)\n",
    "    fin2 = pd.concat([fin2, fin_row_pd], ignore_index=True)\n",
    "\n",
    "lfin_new_column_name = {'Fin_Teams': 'L_Fin_Teams',\n",
    "                        'Fin_Score': 'L_Fin_Score'}\n",
    "rfin_new_column_name = {'Fin_Teams': 'R_Fin_Teams',\n",
    "                        'Fin_Score': 'R_Fin_Score'}\n",
    "\n",
    "fin1 = fin1.rename(columns=lfin_new_column_name)\n",
    "fin2 = fin2.rename(columns=rfin_new_column_name)\n",
    "\n",
    "rfin_new_column_order = ['R_Fin_Score', 'R_Fin_Teams']\n",
    "fin2 = fin2[rfin_new_column_order]\n",
    "\n",
    "display(fin1)\n",
    "display(fin2)\n"
   ]
  },
  {
   "cell_type": "code",
   "execution_count": 0,
   "metadata": {
    "application/vnd.databricks.v1+cell": {
     "cellMetadata": {
      "byteLimit": 2048000,
      "rowLimit": 10000
     },
     "inputWidgets": {},
     "nuid": "b5eb325b-6ca0-4807-98e9-97dd6506bd09",
     "showTitle": false,
     "title": ""
    }
   },
   "outputs": [
    {
     "output_type": "display_data",
     "data": {
      "text/html": [
       "<style scoped>\n",
       "  .table-result-container {\n",
       "    max-height: 300px;\n",
       "    overflow: auto;\n",
       "  }\n",
       "  table, th, td {\n",
       "    border: 1px solid black;\n",
       "    border-collapse: collapse;\n",
       "  }\n",
       "  th, td {\n",
       "    padding: 5px;\n",
       "  }\n",
       "  th {\n",
       "    text-align: left;\n",
       "  }\n",
       "</style><div class='table-result-container'><table class='table-result'><thead style='background-color: white'><tr><th>EuroCupWinner</th></tr></thead><tbody><tr><td></td></tr><tr><td></td></tr><tr><td></td></tr><tr><td></td></tr><tr><td></td></tr><tr><td></td></tr><tr><td></td></tr><tr><td>Türkiye</td></tr><tr><td></td></tr><tr><td></td></tr><tr><td></td></tr><tr><td></td></tr><tr><td></td></tr><tr><td></td></tr><tr><td></td></tr><tr><td></td></tr></tbody></table></div>"
      ]
     },
     "metadata": {
      "application/vnd.databricks.v1+output": {
       "addedWidgets": {},
       "aggData": [],
       "aggError": "",
       "aggOverflow": false,
       "aggSchema": [],
       "aggSeriesLimitReached": false,
       "aggType": "",
       "arguments": {},
       "columnCustomDisplayInfos": {},
       "data": [
        [
         ""
        ],
        [
         ""
        ],
        [
         ""
        ],
        [
         ""
        ],
        [
         ""
        ],
        [
         ""
        ],
        [
         ""
        ],
        [
         "Türkiye"
        ],
        [
         ""
        ],
        [
         ""
        ],
        [
         ""
        ],
        [
         ""
        ],
        [
         ""
        ],
        [
         ""
        ],
        [
         ""
        ],
        [
         ""
        ]
       ],
       "datasetInfos": [],
       "dbfsResultPath": null,
       "isJsonSchema": true,
       "metadata": {},
       "overflow": false,
       "plotOptions": {
        "customPlotOptions": {},
        "displayType": "table",
        "pivotAggregation": null,
        "pivotColumns": null,
        "xColumns": null,
        "yColumns": null
       },
       "removedWidgets": [],
       "schema": [
        {
         "metadata": "{}",
         "name": "EuroCupWinner",
         "type": "\"string\""
        }
       ],
       "type": "table"
      }
     },
     "output_type": "display_data"
    }
   ],
   "source": [
    "winner = spark.sql(\"SELECT MatchWinner FROM MatchesFixtures WHERE MatchStage = 'Finals'\")\n",
    "winner_pd = winner.toPandas()\n",
    "winner_pd = winner_pd.applymap(lambda x: str(x).split(\".\")[0])\n",
    "\n",
    "win_row_pd = pd.DataFrame({col: [''] for col in winner_pd.columns})\n",
    "\n",
    "for _ in range(7):\n",
    "    winner_pd = pd.concat([win_row_pd, winner_pd], ignore_index=True)\n",
    "\n",
    "for _ in range(8):\n",
    "    winner_pd = pd.concat([winner_pd, win_row_pd], ignore_index=True)\n",
    "\n",
    "fin_col = {\"MatchWinner\": \"EuroCupWinner\"}\n",
    "winner_pd = winner_pd.rename(columns=fin_col)\n",
    "display(winner_pd)\n"
   ]
  },
  {
   "cell_type": "code",
   "execution_count": 0,
   "metadata": {
    "application/vnd.databricks.v1+cell": {
     "cellMetadata": {
      "byteLimit": 2048000,
      "rowLimit": 10000
     },
     "inputWidgets": {},
     "nuid": "48c31add-ea38-44f8-8da6-533522392254",
     "showTitle": false,
     "title": ""
    }
   },
   "outputs": [],
   "source": [
    "# Concatenating DataFrames with keys\n",
    "concatenated_df = pd.concat([left_table_with_space,\n",
    "                        spaced_r16_left, \n",
    "                        spaced_qf_left, \n",
    "                        spaced_sf_left,\n",
    "                        fin1,\n",
    "                        winner_pd,\n",
    "                        fin2,\n",
    "                        spaced_sf_right,\n",
    "                        spaced_qf_right,\n",
    "                        spaced_r16_right,\n",
    "                        right_table_with_space\n",
    "                         ], \n",
    "                        axis=1, \n",
    "                        )\n",
    "\n",
    "# Displaying the concatenated DataFrame\n",
    "\n",
    "\n",
    "\n",
    "\n",
    "     "
   ]
  },
  {
   "cell_type": "code",
   "execution_count": 0,
   "metadata": {
    "application/vnd.databricks.v1+cell": {
     "cellMetadata": {
      "byteLimit": 2048000,
      "rowLimit": 10000
     },
     "inputWidgets": {},
     "nuid": "075ce374-b3a6-4338-b894-c1a537507746",
     "showTitle": false,
     "title": ""
    }
   },
   "outputs": [
    {
     "output_type": "stream",
     "name": "stderr",
     "output_type": "stream",
     "text": [
      "/databricks/spark/python/pyspark/sql/pandas/conversion.py:467: UserWarning: createDataFrame attempted Arrow optimization because 'spark.sql.execution.arrow.pyspark.enabled' is set to true; however, failed by the reason below:\n  Could not convert '' with type str: tried to convert to int64\nAttempting non-optimization as 'spark.sql.execution.arrow.pyspark.fallback.enabled' is set to true.\n  warn(msg)\n"
     ]
    },
    {
     "output_type": "display_data",
     "data": {
      "text/html": [
       "<style scoped>\n",
       "  .table-result-container {\n",
       "    max-height: 300px;\n",
       "    overflow: auto;\n",
       "  }\n",
       "  table, th, td {\n",
       "    border: 1px solid black;\n",
       "    border-collapse: collapse;\n",
       "  }\n",
       "  th, td {\n",
       "    padding: 5px;\n",
       "  }\n",
       "  th {\n",
       "    text-align: left;\n",
       "  }\n",
       "</style><div class='table-result-container'><table class='table-result'><thead style='background-color: white'><tr><th>L_Rank</th><th>L_Teams</th><th>L_Group</th><th>L_MP</th><th>L_W</th><th>L_D</th><th>L_L</th><th>L_GF</th><th>L_GA</th><th>L_GD</th><th>L_Pts</th><th>L_R16_Teams</th><th>L_R16_Score</th><th>L_QF_Teams</th><th>L_QF_Score</th><th>L_SF_Teams</th><th>L_SF_Score</th><th>L_Fin_Teams</th><th>L_Fin_Score</th><th>EuroCupWinner</th><th>R_Fin_Score</th><th>R_Fin_Teams</th><th>R_SF_Teams</th><th>R_SF_Score</th><th>R_QF_Teams</th><th>R_QF_Score</th><th>R_R16_Teams</th><th>R_R16_Score</th><th>R_Rank</th><th>R_Teams</th><th>R_Group</th><th>R_MP</th><th>R_W</th><th>R_D</th><th>R_L</th><th>R_GF</th><th>R_GA</th><th>R_GD</th><th>R_Pts</th></tr></thead><tbody><tr><td>1</td><td>Scotland</td><td>A</td><td>3</td><td>2</td><td>1</td><td>0</td><td>12</td><td>8</td><td>4</td><td>7</td><td></td><td></td><td></td><td></td><td></td><td></td><td></td><td></td><td></td><td></td><td></td><td></td><td></td><td></td><td></td><td></td><td></td><td>1</td><td>Austria</td><td>D</td><td>3</td><td>2</td><td>1</td><td>0</td><td>10</td><td>6</td><td>4</td><td>7</td></tr><tr><td>2</td><td>Hungary</td><td>A</td><td>3</td><td>2</td><td>0</td><td>1</td><td>14</td><td>12</td><td>2</td><td>6</td><td>Albania</td><td>4</td><td></td><td></td><td></td><td></td><td></td><td></td><td></td><td></td><td></td><td></td><td></td><td></td><td></td><td>Slovakia</td><td>3</td><td>2</td><td>Netherlands</td><td>D</td><td>3</td><td>2</td><td>0</td><td>1</td><td>12</td><td>9</td><td>3</td><td>6</td></tr><tr><td>3</td><td>Switzerland</td><td>A</td><td>3</td><td>1</td><td>1</td><td>1</td><td>9</td><td>11</td><td>-2</td><td>4</td><td>Switzerland</td><td>6</td><td></td><td></td><td></td><td></td><td></td><td></td><td></td><td></td><td></td><td></td><td></td><td></td><td></td><td>Croatia</td><td>5</td><td>3</td><td>Finland</td><td>D</td><td>3</td><td>1</td><td>0</td><td>2</td><td>9</td><td>14</td><td>-5</td><td>3</td></tr><tr><td>4</td><td>Germany</td><td>A</td><td>3</td><td>0</td><td>0</td><td>3</td><td>8</td><td>12</td><td>-4</td><td>0</td><td></td><td></td><td></td><td></td><td></td><td></td><td></td><td></td><td></td><td></td><td></td><td></td><td></td><td></td><td></td><td></td><td></td><td>4</td><td>France</td><td>D</td><td>3</td><td>0</td><td>1</td><td>2</td><td>6</td><td>8</td><td>-2</td><td>1</td></tr><tr><td></td><td></td><td></td><td></td><td></td><td></td><td></td><td></td><td></td><td></td><td></td><td></td><td></td><td>Switzerland</td><td>1</td><td></td><td></td><td></td><td></td><td></td><td></td><td></td><td></td><td></td><td>Croatia</td><td>2</td><td></td><td></td><td></td><td></td><td></td><td></td><td></td><td></td><td></td><td></td><td></td><td></td><td></td></tr><tr><td>1</td><td>Albania</td><td>B</td><td>3</td><td>2</td><td>0</td><td>1</td><td>13</td><td>9</td><td>4</td><td>6</td><td>Scotland</td><td>4</td><td>Scotland</td><td>2</td><td></td><td></td><td></td><td></td><td></td><td></td><td></td><td></td><td></td><td>Türkiye</td><td>4</td><td>Austria</td><td>3</td><td>1</td><td>Slovakia</td><td>E</td><td>3</td><td>2</td><td>1</td><td>0</td><td>13</td><td>5</td><td>8</td><td>7</td></tr><tr><td>2</td><td>Italy</td><td>B</td><td>3</td><td>2</td><td>0</td><td>1</td><td>12</td><td>11</td><td>1</td><td>6</td><td>Denmark</td><td>3</td><td></td><td></td><td>Scotland</td><td>4</td><td></td><td></td><td></td><td></td><td></td><td>Türkiye</td><td>3</td><td></td><td></td><td>Türkiye</td><td>4</td><td>2</td><td>Ukraine</td><td>E</td><td>3</td><td>1</td><td>1</td><td>1</td><td>8</td><td>7</td><td>1</td><td>4</td></tr><tr><td>3</td><td>Croatia</td><td>B</td><td>3</td><td>1</td><td>0</td><td>2</td><td>10</td><td>12</td><td>-2</td><td>3</td><td></td><td></td><td></td><td></td><td></td><td></td><td></td><td></td><td>Türkiye</td><td></td><td></td><td></td><td></td><td></td><td></td><td></td><td></td><td>3</td><td>Belgium</td><td>E</td><td>3</td><td>1</td><td>0</td><td>2</td><td>8</td><td>12</td><td>-4</td><td>3</td></tr><tr><td>4</td><td>Spain</td><td>B</td><td>3</td><td>1</td><td>0</td><td>2</td><td>12</td><td>15</td><td>-3</td><td>3</td><td></td><td></td><td></td><td></td><td></td><td></td><td>Scotland</td><td>2</td><td></td><td>3</td><td>Türkiye</td><td></td><td></td><td></td><td></td><td></td><td></td><td>4</td><td>Romania</td><td>E</td><td>3</td><td>1</td><td>0</td><td>2</td><td>8</td><td>13</td><td>-5</td><td>3</td></tr><tr><td></td><td></td><td></td><td></td><td></td><td></td><td></td><td></td><td></td><td></td><td></td><td>Czech</td><td>5</td><td></td><td></td><td>Czech</td><td>1</td><td></td><td></td><td></td><td></td><td></td><td>Italy</td><td>1</td><td></td><td></td><td>Serbia</td><td>3</td><td></td><td></td><td></td><td></td><td></td><td></td><td></td><td></td><td></td><td></td><td></td></tr><tr><td>1</td><td>Serbia</td><td>C</td><td>3</td><td>1</td><td>2</td><td>0</td><td>8</td><td>5</td><td>3</td><td>5</td><td>Slovenia</td><td>4</td><td>Czech</td><td>5</td><td></td><td></td><td></td><td></td><td></td><td></td><td></td><td></td><td></td><td>Greece</td><td>5</td><td>Greece</td><td>5</td><td>1</td><td>Czech</td><td>F</td><td>3</td><td>3</td><td>0</td><td>0</td><td>14</td><td>6</td><td>8</td><td>9</td></tr><tr><td>2</td><td>Denmark</td><td>C</td><td>3</td><td>1</td><td>2</td><td>0</td><td>13</td><td>12</td><td>1</td><td>5</td><td></td><td></td><td>Ukraine</td><td>3</td><td></td><td></td><td></td><td></td><td></td><td></td><td></td><td></td><td></td><td>Italy</td><td>6</td><td></td><td></td><td>2</td><td>Türkiye</td><td>F</td><td>3</td><td>2</td><td>0</td><td>1</td><td>11</td><td>7</td><td>4</td><td>6</td></tr><tr><td>3</td><td>Slovenia</td><td>C</td><td>3</td><td>0</td><td>3</td><td>0</td><td>8</td><td>8</td><td>0</td><td>3</td><td></td><td></td><td></td><td></td><td></td><td></td><td></td><td></td><td></td><td></td><td></td><td></td><td></td><td></td><td></td><td></td><td></td><td>3</td><td>Greece</td><td>F</td><td>3</td><td>1</td><td>0</td><td>2</td><td>12</td><td>15</td><td>-3</td><td>3</td></tr><tr><td>4</td><td>England</td><td>C</td><td>3</td><td>0</td><td>1</td><td>2</td><td>5</td><td>9</td><td>-4</td><td>1</td><td>Netherlands</td><td>2</td><td></td><td></td><td></td><td></td><td></td><td></td><td></td><td></td><td></td><td></td><td></td><td></td><td></td><td>Hungary</td><td>0</td><td>4</td><td>Portugal</td><td>F</td><td>3</td><td>0</td><td>0</td><td>3</td><td>6</td><td>15</td><td>-9</td><td>0</td></tr><tr><td>NaN</td><td>NaN</td><td>NaN</td><td>NaN</td><td>NaN</td><td>NaN</td><td>NaN</td><td>NaN</td><td>NaN</td><td>NaN</td><td>NaN</td><td>Ukraine</td><td>3</td><td></td><td></td><td></td><td></td><td></td><td></td><td></td><td></td><td></td><td></td><td></td><td></td><td></td><td>Italy</td><td>2</td><td>NaN</td><td>NaN</td><td>NaN</td><td>NaN</td><td>NaN</td><td>NaN</td><td>NaN</td><td>NaN</td><td>NaN</td><td>NaN</td><td>NaN</td></tr><tr><td>NaN</td><td>NaN</td><td>NaN</td><td>NaN</td><td>NaN</td><td>NaN</td><td>NaN</td><td>NaN</td><td>NaN</td><td>NaN</td><td>NaN</td><td></td><td></td><td></td><td></td><td></td><td></td><td></td><td></td><td></td><td></td><td></td><td></td><td></td><td></td><td></td><td></td><td></td><td>NaN</td><td>NaN</td><td>NaN</td><td>NaN</td><td>NaN</td><td>NaN</td><td>NaN</td><td>NaN</td><td>NaN</td><td>NaN</td><td>NaN</td></tr></tbody></table></div>"
      ]
     },
     "metadata": {
      "application/vnd.databricks.v1+output": {
       "addedWidgets": {},
       "aggData": [],
       "aggError": "",
       "aggOverflow": false,
       "aggSchema": [],
       "aggSeriesLimitReached": false,
       "aggType": "",
       "arguments": {},
       "columnCustomDisplayInfos": {},
       "data": [
        [
         "1",
         "Scotland",
         "A",
         "3",
         "2",
         "1",
         "0",
         "12",
         "8",
         "4",
         "7",
         "",
         "",
         "",
         "",
         "",
         "",
         "",
         "",
         "",
         "",
         "",
         "",
         "",
         "",
         "",
         "",
         "",
         "1",
         "Austria",
         "D",
         "3",
         "2",
         "1",
         "0",
         "10",
         "6",
         "4",
         "7"
        ],
        [
         "2",
         "Hungary",
         "A",
         "3",
         "2",
         "0",
         "1",
         "14",
         "12",
         "2",
         "6",
         "Albania",
         "4",
         "",
         "",
         "",
         "",
         "",
         "",
         "",
         "",
         "",
         "",
         "",
         "",
         "",
         "Slovakia",
         "3",
         "2",
         "Netherlands",
         "D",
         "3",
         "2",
         "0",
         "1",
         "12",
         "9",
         "3",
         "6"
        ],
        [
         "3",
         "Switzerland",
         "A",
         "3",
         "1",
         "1",
         "1",
         "9",
         "11",
         "-2",
         "4",
         "Switzerland",
         "6",
         "",
         "",
         "",
         "",
         "",
         "",
         "",
         "",
         "",
         "",
         "",
         "",
         "",
         "Croatia",
         "5",
         "3",
         "Finland",
         "D",
         "3",
         "1",
         "0",
         "2",
         "9",
         "14",
         "-5",
         "3"
        ],
        [
         "4",
         "Germany",
         "A",
         "3",
         "0",
         "0",
         "3",
         "8",
         "12",
         "-4",
         "0",
         "",
         "",
         "",
         "",
         "",
         "",
         "",
         "",
         "",
         "",
         "",
         "",
         "",
         "",
         "",
         "",
         "",
         "4",
         "France",
         "D",
         "3",
         "0",
         "1",
         "2",
         "6",
         "8",
         "-2",
         "1"
        ],
        [
         "",
         "",
         "",
         "",
         "",
         "",
         "",
         "",
         "",
         "",
         "",
         "",
         "",
         "Switzerland",
         "1",
         "",
         "",
         "",
         "",
         "",
         "",
         "",
         "",
         "",
         "Croatia",
         "2",
         "",
         "",
         "",
         "",
         "",
         "",
         "",
         "",
         "",
         "",
         "",
         "",
         ""
        ],
        [
         "1",
         "Albania",
         "B",
         "3",
         "2",
         "0",
         "1",
         "13",
         "9",
         "4",
         "6",
         "Scotland",
         "4",
         "Scotland",
         "2",
         "",
         "",
         "",
         "",
         "",
         "",
         "",
         "",
         "",
         "Türkiye",
         "4",
         "Austria",
         "3",
         "1",
         "Slovakia",
         "E",
         "3",
         "2",
         "1",
         "0",
         "13",
         "5",
         "8",
         "7"
        ],
        [
         "2",
         "Italy",
         "B",
         "3",
         "2",
         "0",
         "1",
         "12",
         "11",
         "1",
         "6",
         "Denmark",
         "3",
         "",
         "",
         "Scotland",
         "4",
         "",
         "",
         "",
         "",
         "",
         "Türkiye",
         "3",
         "",
         "",
         "Türkiye",
         "4",
         "2",
         "Ukraine",
         "E",
         "3",
         "1",
         "1",
         "1",
         "8",
         "7",
         "1",
         "4"
        ],
        [
         "3",
         "Croatia",
         "B",
         "3",
         "1",
         "0",
         "2",
         "10",
         "12",
         "-2",
         "3",
         "",
         "",
         "",
         "",
         "",
         "",
         "",
         "",
         "Türkiye",
         "",
         "",
         "",
         "",
         "",
         "",
         "",
         "",
         "3",
         "Belgium",
         "E",
         "3",
         "1",
         "0",
         "2",
         "8",
         "12",
         "-4",
         "3"
        ],
        [
         "4",
         "Spain",
         "B",
         "3",
         "1",
         "0",
         "2",
         "12",
         "15",
         "-3",
         "3",
         "",
         "",
         "",
         "",
         "",
         "",
         "Scotland",
         "2",
         "",
         "3",
         "Türkiye",
         "",
         "",
         "",
         "",
         "",
         "",
         "4",
         "Romania",
         "E",
         "3",
         "1",
         "0",
         "2",
         "8",
         "13",
         "-5",
         "3"
        ],
        [
         "",
         "",
         "",
         "",
         "",
         "",
         "",
         "",
         "",
         "",
         "",
         "Czech",
         "5",
         "",
         "",
         "Czech",
         "1",
         "",
         "",
         "",
         "",
         "",
         "Italy",
         "1",
         "",
         "",
         "Serbia",
         "3",
         "",
         "",
         "",
         "",
         "",
         "",
         "",
         "",
         "",
         "",
         ""
        ],
        [
         "1",
         "Serbia",
         "C",
         "3",
         "1",
         "2",
         "0",
         "8",
         "5",
         "3",
         "5",
         "Slovenia",
         "4",
         "Czech",
         "5",
         "",
         "",
         "",
         "",
         "",
         "",
         "",
         "",
         "",
         "Greece",
         "5",
         "Greece",
         "5",
         "1",
         "Czech",
         "F",
         "3",
         "3",
         "0",
         "0",
         "14",
         "6",
         "8",
         "9"
        ],
        [
         "2",
         "Denmark",
         "C",
         "3",
         "1",
         "2",
         "0",
         "13",
         "12",
         "1",
         "5",
         "",
         "",
         "Ukraine",
         "3",
         "",
         "",
         "",
         "",
         "",
         "",
         "",
         "",
         "",
         "Italy",
         "6",
         "",
         "",
         "2",
         "Türkiye",
         "F",
         "3",
         "2",
         "0",
         "1",
         "11",
         "7",
         "4",
         "6"
        ],
        [
         "3",
         "Slovenia",
         "C",
         "3",
         "0",
         "3",
         "0",
         "8",
         "8",
         "0",
         "3",
         "",
         "",
         "",
         "",
         "",
         "",
         "",
         "",
         "",
         "",
         "",
         "",
         "",
         "",
         "",
         "",
         "",
         "3",
         "Greece",
         "F",
         "3",
         "1",
         "0",
         "2",
         "12",
         "15",
         "-3",
         "3"
        ],
        [
         "4",
         "England",
         "C",
         "3",
         "0",
         "1",
         "2",
         "5",
         "9",
         "-4",
         "1",
         "Netherlands",
         "2",
         "",
         "",
         "",
         "",
         "",
         "",
         "",
         "",
         "",
         "",
         "",
         "",
         "",
         "Hungary",
         "0",
         "4",
         "Portugal",
         "F",
         "3",
         "0",
         "0",
         "3",
         "6",
         "15",
         "-9",
         "0"
        ],
        [
         "NaN",
         "NaN",
         "NaN",
         "NaN",
         "NaN",
         "NaN",
         "NaN",
         "NaN",
         "NaN",
         "NaN",
         "NaN",
         "Ukraine",
         "3",
         "",
         "",
         "",
         "",
         "",
         "",
         "",
         "",
         "",
         "",
         "",
         "",
         "",
         "Italy",
         "2",
         "NaN",
         "NaN",
         "NaN",
         "NaN",
         "NaN",
         "NaN",
         "NaN",
         "NaN",
         "NaN",
         "NaN",
         "NaN"
        ],
        [
         "NaN",
         "NaN",
         "NaN",
         "NaN",
         "NaN",
         "NaN",
         "NaN",
         "NaN",
         "NaN",
         "NaN",
         "NaN",
         "",
         "",
         "",
         "",
         "",
         "",
         "",
         "",
         "",
         "",
         "",
         "",
         "",
         "",
         "",
         "",
         "",
         "NaN",
         "NaN",
         "NaN",
         "NaN",
         "NaN",
         "NaN",
         "NaN",
         "NaN",
         "NaN",
         "NaN",
         "NaN"
        ]
       ],
       "datasetInfos": [],
       "dbfsResultPath": null,
       "isJsonSchema": true,
       "metadata": {},
       "overflow": false,
       "plotOptions": {
        "customPlotOptions": {},
        "displayType": "table",
        "pivotAggregation": null,
        "pivotColumns": null,
        "xColumns": null,
        "yColumns": null
       },
       "removedWidgets": [],
       "schema": [
        {
         "metadata": "{}",
         "name": "L_Rank",
         "type": "\"string\""
        },
        {
         "metadata": "{}",
         "name": "L_Teams",
         "type": "\"string\""
        },
        {
         "metadata": "{}",
         "name": "L_Group",
         "type": "\"string\""
        },
        {
         "metadata": "{}",
         "name": "L_MP",
         "type": "\"string\""
        },
        {
         "metadata": "{}",
         "name": "L_W",
         "type": "\"string\""
        },
        {
         "metadata": "{}",
         "name": "L_D",
         "type": "\"string\""
        },
        {
         "metadata": "{}",
         "name": "L_L",
         "type": "\"string\""
        },
        {
         "metadata": "{}",
         "name": "L_GF",
         "type": "\"string\""
        },
        {
         "metadata": "{}",
         "name": "L_GA",
         "type": "\"string\""
        },
        {
         "metadata": "{}",
         "name": "L_GD",
         "type": "\"string\""
        },
        {
         "metadata": "{}",
         "name": "L_Pts",
         "type": "\"string\""
        },
        {
         "metadata": "{}",
         "name": "L_R16_Teams",
         "type": "\"string\""
        },
        {
         "metadata": "{}",
         "name": "L_R16_Score",
         "type": "\"string\""
        },
        {
         "metadata": "{}",
         "name": "L_QF_Teams",
         "type": "\"string\""
        },
        {
         "metadata": "{}",
         "name": "L_QF_Score",
         "type": "\"string\""
        },
        {
         "metadata": "{}",
         "name": "L_SF_Teams",
         "type": "\"string\""
        },
        {
         "metadata": "{}",
         "name": "L_SF_Score",
         "type": "\"string\""
        },
        {
         "metadata": "{}",
         "name": "L_Fin_Teams",
         "type": "\"string\""
        },
        {
         "metadata": "{}",
         "name": "L_Fin_Score",
         "type": "\"string\""
        },
        {
         "metadata": "{}",
         "name": "EuroCupWinner",
         "type": "\"string\""
        },
        {
         "metadata": "{}",
         "name": "R_Fin_Score",
         "type": "\"string\""
        },
        {
         "metadata": "{}",
         "name": "R_Fin_Teams",
         "type": "\"string\""
        },
        {
         "metadata": "{}",
         "name": "R_SF_Teams",
         "type": "\"string\""
        },
        {
         "metadata": "{}",
         "name": "R_SF_Score",
         "type": "\"string\""
        },
        {
         "metadata": "{}",
         "name": "R_QF_Teams",
         "type": "\"string\""
        },
        {
         "metadata": "{}",
         "name": "R_QF_Score",
         "type": "\"string\""
        },
        {
         "metadata": "{}",
         "name": "R_R16_Teams",
         "type": "\"string\""
        },
        {
         "metadata": "{}",
         "name": "R_R16_Score",
         "type": "\"string\""
        },
        {
         "metadata": "{}",
         "name": "R_Rank",
         "type": "\"string\""
        },
        {
         "metadata": "{}",
         "name": "R_Teams",
         "type": "\"string\""
        },
        {
         "metadata": "{}",
         "name": "R_Group",
         "type": "\"string\""
        },
        {
         "metadata": "{}",
         "name": "R_MP",
         "type": "\"string\""
        },
        {
         "metadata": "{}",
         "name": "R_W",
         "type": "\"string\""
        },
        {
         "metadata": "{}",
         "name": "R_D",
         "type": "\"string\""
        },
        {
         "metadata": "{}",
         "name": "R_L",
         "type": "\"string\""
        },
        {
         "metadata": "{}",
         "name": "R_GF",
         "type": "\"string\""
        },
        {
         "metadata": "{}",
         "name": "R_GA",
         "type": "\"string\""
        },
        {
         "metadata": "{}",
         "name": "R_GD",
         "type": "\"string\""
        },
        {
         "metadata": "{}",
         "name": "R_Pts",
         "type": "\"string\""
        }
       ],
       "type": "table"
      }
     },
     "output_type": "display_data"
    }
   ],
   "source": [
    "display(concatenated_df)"
   ]
  },
  {
   "cell_type": "code",
   "execution_count": 0,
   "metadata": {
    "application/vnd.databricks.v1+cell": {
     "cellMetadata": {
      "byteLimit": 2048000,
      "rowLimit": 10000
     },
     "inputWidgets": {},
     "nuid": "c7e02d2b-a2f9-4298-b699-4e9e2ad8f56c",
     "showTitle": false,
     "title": ""
    }
   },
   "outputs": [],
   "source": []
  }
 ],
 "metadata": {
  "application/vnd.databricks.v1+notebook": {
   "dashboards": [
    {
     "elements": [],
     "globalVars": {},
     "guid": "",
     "layoutOption": {
      "grid": true,
      "stack": true
     },
     "nuid": "ba88a1b4-3d6e-4532-a28c-bf8084eb24bc",
     "origId": 1490804444597876,
     "title": "Untitled",
     "version": "DashboardViewV1",
     "width": 1024
    }
   ],
   "language": "python",
   "notebookMetadata": {
    "mostRecentlyExecutedCommandWithImplicitDF": {
     "commandId": 3800936424629959,
     "dataframes": [
      "_sqldf"
     ]
    },
    "pythonIndentUnit": 4
   },
   "notebookName": "Euro CUP 2024",
   "widgets": {}
  }
 },
 "nbformat": 4,
 "nbformat_minor": 0
}
