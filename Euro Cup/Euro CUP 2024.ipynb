{
 "cells": [
  {
   "cell_type": "code",
   "execution_count": 0,
   "metadata": {
    "application/vnd.databricks.v1+cell": {
     "cellMetadata": {
      "byteLimit": 2048000,
      "rowLimit": 10000
     },
     "inputWidgets": {},
     "nuid": "0aafca53-f898-489c-955f-dbed0d143b97",
     "showTitle": false,
     "title": ""
    }
   },
   "outputs": [
    {
     "output_type": "stream",
     "name": "stdout",
     "output_type": "stream",
     "text": [
      "Out[3]: False"
     ]
    }
   ],
   "source": [
    "%python\n",
    "\n",
    "# Ensure that the specified directory (dbfs:/user/hive/warehouse/euroteams) is empty. \n",
    "dbutils.fs.rm(\"dbfs:/user/hive/warehouse/euroteams\", recurse=True)\n",
    "dbutils.fs.rm(\"dbfs:/user/hive/warehouse//groupstage_match\", recurse=True)\n",
    "dbutils.fs.rm(\"dbfs:/user/hive/warehouse/groupstandings\", recurse=True)"
   ]
  },
  {
   "cell_type": "code",
   "execution_count": 0,
   "metadata": {
    "application/vnd.databricks.v1+cell": {
     "cellMetadata": {
      "byteLimit": 2048000,
      "implicitDf": true,
      "rowLimit": 10000
     },
     "inputWidgets": {},
     "nuid": "9e92faeb-4195-4442-8132-a3af74239192",
     "showTitle": false,
     "title": ""
    }
   },
   "outputs": [
    {
     "output_type": "display_data",
     "data": {
      "text/html": [
       "<style scoped>\n",
       "  .table-result-container {\n",
       "    max-height: 300px;\n",
       "    overflow: auto;\n",
       "  }\n",
       "  table, th, td {\n",
       "    border: 1px solid black;\n",
       "    border-collapse: collapse;\n",
       "  }\n",
       "  th, td {\n",
       "    padding: 5px;\n",
       "  }\n",
       "  th {\n",
       "    text-align: left;\n",
       "  }\n",
       "</style><div class='table-result-container'><table class='table-result'><thead style='background-color: white'><tr><th>num_affected_rows</th><th>num_inserted_rows</th></tr></thead><tbody><tr><td>24</td><td>24</td></tr></tbody></table></div>"
      ]
     },
     "metadata": {
      "application/vnd.databricks.v1+output": {
       "addedWidgets": {},
       "aggData": [],
       "aggError": "",
       "aggOverflow": false,
       "aggSchema": [],
       "aggSeriesLimitReached": false,
       "aggType": "",
       "arguments": {},
       "columnCustomDisplayInfos": {},
       "data": [
        [
         24,
         24
        ]
       ],
       "datasetInfos": [],
       "dbfsResultPath": null,
       "isJsonSchema": true,
       "metadata": {
        "isDbfsCommandResult": false
       },
       "overflow": false,
       "plotOptions": {
        "customPlotOptions": {},
        "displayType": "table",
        "pivotAggregation": null,
        "pivotColumns": null,
        "xColumns": null,
        "yColumns": null
       },
       "removedWidgets": [],
       "schema": [
        {
         "metadata": "{}",
         "name": "num_affected_rows",
         "type": "\"long\""
        },
        {
         "metadata": "{}",
         "name": "num_inserted_rows",
         "type": "\"long\""
        }
       ],
       "type": "table"
      }
     },
     "output_type": "display_data"
    }
   ],
   "source": [
    "%sql\n",
    "CREATE OR REPLACE TABLE EuroTeams(\n",
    "TeamId INTEGER,\n",
    "TeamName VARCHAR(255),\n",
    "GroupName VARCHAR(255)\n",
    ");\n",
    "\n",
    "INSERT INTO EuroTeams(TeamId, TeamName, GroupName)\n",
    "SELECT\n",
    "    TeamId,\n",
    "    TeamName,\n",
    "    CASE\n",
    "        WHEN TeamId <= 4 THEN 'A'\n",
    "        WHEN TeamId <= 8 THEN 'B'\n",
    "        WHEN TeamId <= 12 THEN 'C'\n",
    "        WHEN TeamId <= 16 THEN 'D'\n",
    "        WHEN TeamId <= 20 THEN 'E'\n",
    "        ELSE 'F'\n",
    "    END AS GroupName\n",
    "FROM (\n",
    "    VALUES\n",
    "    (1, 'Germany'),\n",
    "    (2, 'Scotland'),\n",
    "    (3, 'Hungary'),\n",
    "    (4, 'Switzerland'),\n",
    "    (5, 'Spain'),\n",
    "    (6, 'Croatia'),\n",
    "    (7, 'Italy'),\n",
    "    (8, 'Albania'),\n",
    "    (9, 'Slovenia'),\n",
    "    (10, 'Denmark'),\n",
    "    (11, 'Serbia'),\n",
    "    (12, 'England'),\n",
    "    (13, 'Finland'),\n",
    "    (14, 'Netherlands'),\n",
    "    (15, 'Austria'),\n",
    "    (16, 'France'),\n",
    "    (17, 'Belgium'),\n",
    "    (18, 'Slovakia'),\n",
    "    (19, 'Romania'),\n",
    "    (20, 'Ukraine'),\n",
    "    (21, 'Türkiye'),\n",
    "    (22, 'Greece'),\n",
    "    (23, 'Portugal'),\n",
    "    (24, 'Czech')\n",
    ") AS Teams (TeamId, TeamName);\n"
   ]
  },
  {
   "cell_type": "code",
   "execution_count": 0,
   "metadata": {
    "application/vnd.databricks.v1+cell": {
     "cellMetadata": {
      "byteLimit": 2048000,
      "implicitDf": true,
      "rowLimit": 10000
     },
     "inputWidgets": {},
     "nuid": "36a8dda3-d24b-4c07-b85a-b0b2599dd956",
     "showTitle": false,
     "title": ""
    }
   },
   "outputs": [
    {
     "output_type": "display_data",
     "data": {
      "text/html": [
       "<style scoped>\n",
       "  .table-result-container {\n",
       "    max-height: 300px;\n",
       "    overflow: auto;\n",
       "  }\n",
       "  table, th, td {\n",
       "    border: 1px solid black;\n",
       "    border-collapse: collapse;\n",
       "  }\n",
       "  th, td {\n",
       "    padding: 5px;\n",
       "  }\n",
       "  th {\n",
       "    text-align: left;\n",
       "  }\n",
       "</style><div class='table-result-container'><table class='table-result'><thead style='background-color: white'><tr><th>TeamId</th><th>TeamName</th><th>GroupName</th></tr></thead><tbody><tr><td>1</td><td>Germany</td><td>A</td></tr><tr><td>2</td><td>Scotland</td><td>A</td></tr><tr><td>3</td><td>Hungary</td><td>A</td></tr><tr><td>4</td><td>Switzerland</td><td>A</td></tr><tr><td>5</td><td>Spain</td><td>B</td></tr><tr><td>6</td><td>Croatia</td><td>B</td></tr><tr><td>7</td><td>Italy</td><td>B</td></tr><tr><td>8</td><td>Albania</td><td>B</td></tr><tr><td>9</td><td>Slovenia</td><td>C</td></tr><tr><td>10</td><td>Denmark</td><td>C</td></tr><tr><td>11</td><td>Serbia</td><td>C</td></tr><tr><td>12</td><td>England</td><td>C</td></tr><tr><td>13</td><td>Finland</td><td>D</td></tr><tr><td>14</td><td>Netherlands</td><td>D</td></tr><tr><td>15</td><td>Austria</td><td>D</td></tr><tr><td>16</td><td>France</td><td>D</td></tr><tr><td>17</td><td>Belgium</td><td>E</td></tr><tr><td>18</td><td>Slovakia</td><td>E</td></tr><tr><td>19</td><td>Romania</td><td>E</td></tr><tr><td>20</td><td>Ukraine</td><td>E</td></tr><tr><td>21</td><td>Türkiye</td><td>F</td></tr><tr><td>22</td><td>Greece</td><td>F</td></tr><tr><td>23</td><td>Portugal</td><td>F</td></tr><tr><td>24</td><td>Czech</td><td>F</td></tr></tbody></table></div>"
      ]
     },
     "metadata": {
      "application/vnd.databricks.v1+output": {
       "addedWidgets": {},
       "aggData": [],
       "aggError": "",
       "aggOverflow": false,
       "aggSchema": [],
       "aggSeriesLimitReached": false,
       "aggType": "",
       "arguments": {},
       "columnCustomDisplayInfos": {},
       "data": [
        [
         1,
         "Germany",
         "A"
        ],
        [
         2,
         "Scotland",
         "A"
        ],
        [
         3,
         "Hungary",
         "A"
        ],
        [
         4,
         "Switzerland",
         "A"
        ],
        [
         5,
         "Spain",
         "B"
        ],
        [
         6,
         "Croatia",
         "B"
        ],
        [
         7,
         "Italy",
         "B"
        ],
        [
         8,
         "Albania",
         "B"
        ],
        [
         9,
         "Slovenia",
         "C"
        ],
        [
         10,
         "Denmark",
         "C"
        ],
        [
         11,
         "Serbia",
         "C"
        ],
        [
         12,
         "England",
         "C"
        ],
        [
         13,
         "Finland",
         "D"
        ],
        [
         14,
         "Netherlands",
         "D"
        ],
        [
         15,
         "Austria",
         "D"
        ],
        [
         16,
         "France",
         "D"
        ],
        [
         17,
         "Belgium",
         "E"
        ],
        [
         18,
         "Slovakia",
         "E"
        ],
        [
         19,
         "Romania",
         "E"
        ],
        [
         20,
         "Ukraine",
         "E"
        ],
        [
         21,
         "Türkiye",
         "F"
        ],
        [
         22,
         "Greece",
         "F"
        ],
        [
         23,
         "Portugal",
         "F"
        ],
        [
         24,
         "Czech",
         "F"
        ]
       ],
       "datasetInfos": [],
       "dbfsResultPath": null,
       "isJsonSchema": true,
       "metadata": {
        "isDbfsCommandResult": false
       },
       "overflow": false,
       "plotOptions": {
        "customPlotOptions": {},
        "displayType": "table",
        "pivotAggregation": null,
        "pivotColumns": null,
        "xColumns": null,
        "yColumns": null
       },
       "removedWidgets": [],
       "schema": [
        {
         "metadata": "{}",
         "name": "TeamId",
         "type": "\"integer\""
        },
        {
         "metadata": "{\"__CHAR_VARCHAR_TYPE_STRING\":\"varchar(255)\"}",
         "name": "TeamName",
         "type": "\"string\""
        },
        {
         "metadata": "{\"__CHAR_VARCHAR_TYPE_STRING\":\"varchar(255)\"}",
         "name": "GroupName",
         "type": "\"string\""
        }
       ],
       "type": "table"
      }
     },
     "output_type": "display_data"
    }
   ],
   "source": [
    "%sql\n",
    "Select * from Euroteams"
   ]
  },
  {
   "cell_type": "code",
   "execution_count": 0,
   "metadata": {
    "application/vnd.databricks.v1+cell": {
     "cellMetadata": {
      "byteLimit": 2048000,
      "implicitDf": true,
      "rowLimit": 10000
     },
     "inputWidgets": {},
     "nuid": "d896634e-8d9a-4970-8c5d-73b55f3ed9b7",
     "showTitle": false,
     "title": ""
    }
   },
   "outputs": [
    {
     "output_type": "display_data",
     "data": {
      "text/html": [
       "<style scoped>\n",
       "  .table-result-container {\n",
       "    max-height: 300px;\n",
       "    overflow: auto;\n",
       "  }\n",
       "  table, th, td {\n",
       "    border: 1px solid black;\n",
       "    border-collapse: collapse;\n",
       "  }\n",
       "  th, td {\n",
       "    padding: 5px;\n",
       "  }\n",
       "  th {\n",
       "    text-align: left;\n",
       "  }\n",
       "</style><div class='table-result-container'><table class='table-result'><thead style='background-color: white'><tr><th>TeamId</th><th>TeamName</th><th>GroupName</th></tr></thead><tbody><tr><td>1</td><td>Germany</td><td>A</td></tr><tr><td>2</td><td>Scotland</td><td>A</td></tr><tr><td>3</td><td>Hungary</td><td>A</td></tr><tr><td>4</td><td>Switzerland</td><td>A</td></tr></tbody></table></div>"
      ]
     },
     "metadata": {
      "application/vnd.databricks.v1+output": {
       "addedWidgets": {},
       "aggData": [],
       "aggError": "",
       "aggOverflow": false,
       "aggSchema": [],
       "aggSeriesLimitReached": false,
       "aggType": "",
       "arguments": {},
       "columnCustomDisplayInfos": {},
       "data": [
        [
         1,
         "Germany",
         "A"
        ],
        [
         2,
         "Scotland",
         "A"
        ],
        [
         3,
         "Hungary",
         "A"
        ],
        [
         4,
         "Switzerland",
         "A"
        ]
       ],
       "datasetInfos": [],
       "dbfsResultPath": null,
       "isJsonSchema": true,
       "metadata": {
        "isDbfsCommandResult": false
       },
       "overflow": false,
       "plotOptions": {
        "customPlotOptions": {},
        "displayType": "table",
        "pivotAggregation": null,
        "pivotColumns": null,
        "xColumns": null,
        "yColumns": null
       },
       "removedWidgets": [],
       "schema": [
        {
         "metadata": "{}",
         "name": "TeamId",
         "type": "\"integer\""
        },
        {
         "metadata": "{\"__CHAR_VARCHAR_TYPE_STRING\":\"varchar(255)\"}",
         "name": "TeamName",
         "type": "\"string\""
        },
        {
         "metadata": "{\"__CHAR_VARCHAR_TYPE_STRING\":\"varchar(255)\"}",
         "name": "GroupName",
         "type": "\"string\""
        }
       ],
       "type": "table"
      }
     },
     "output_type": "display_data"
    }
   ],
   "source": [
    "%sql\n",
    "SELECT *\n",
    "FROM Euroteams\n",
    "WHERE GroupName = 'A';"
   ]
  },
  {
   "cell_type": "code",
   "execution_count": 0,
   "metadata": {
    "application/vnd.databricks.v1+cell": {
     "cellMetadata": {
      "byteLimit": 2048000,
      "implicitDf": true,
      "rowLimit": 10000
     },
     "inputWidgets": {},
     "nuid": "1b56eb96-84cc-42f8-a25d-abfe927a1c58",
     "showTitle": false,
     "title": ""
    }
   },
   "outputs": [
    {
     "output_type": "display_data",
     "data": {
      "text/html": [
       "<style scoped>\n",
       "  .table-result-container {\n",
       "    max-height: 300px;\n",
       "    overflow: auto;\n",
       "  }\n",
       "  table, th, td {\n",
       "    border: 1px solid black;\n",
       "    border-collapse: collapse;\n",
       "  }\n",
       "  th, td {\n",
       "    padding: 5px;\n",
       "  }\n",
       "  th {\n",
       "    text-align: left;\n",
       "  }\n",
       "</style><div class='table-result-container'><table class='table-result'><thead style='background-color: white'><tr><th>num_affected_rows</th><th>num_inserted_rows</th></tr></thead><tbody><tr><td>36</td><td>36</td></tr></tbody></table></div>"
      ]
     },
     "metadata": {
      "application/vnd.databricks.v1+output": {
       "addedWidgets": {},
       "aggData": [],
       "aggError": "",
       "aggOverflow": false,
       "aggSchema": [],
       "aggSeriesLimitReached": false,
       "aggType": "",
       "arguments": {},
       "columnCustomDisplayInfos": {},
       "data": [
        [
         36,
         36
        ]
       ],
       "datasetInfos": [],
       "dbfsResultPath": null,
       "isJsonSchema": true,
       "metadata": {
        "isDbfsCommandResult": false
       },
       "overflow": false,
       "plotOptions": {
        "customPlotOptions": {},
        "displayType": "table",
        "pivotAggregation": null,
        "pivotColumns": null,
        "xColumns": null,
        "yColumns": null
       },
       "removedWidgets": [],
       "schema": [
        {
         "metadata": "{}",
         "name": "num_affected_rows",
         "type": "\"long\""
        },
        {
         "metadata": "{}",
         "name": "num_inserted_rows",
         "type": "\"long\""
        }
       ],
       "type": "table"
      }
     },
     "output_type": "display_data"
    }
   ],
   "source": [
    "%sql\n",
    "-- Create the GroupStageMatch table\n",
    "CREATE OR REPLACE TABLE GroupStage_match(\n",
    "    MatchId INTEGER,\n",
    "    Team1 VARCHAR(255),\n",
    "    Team2 VARCHAR(255),\n",
    "    Team1Score INTEGER,\n",
    "    Team2Score INTEGER,\n",
    "    Result VARCHAR(5),\n",
    "    MatchWinner VARCHAR(255),\n",
    "    MatchStatus VARCHAR(20)\n",
    ");\n",
    "\n",
    "-- Insert data into the GroupStageMatch table\n",
    "INSERT INTO GroupStage_match (MatchId, Team1, Team2, Team1Score, Team2Score, Result, MatchWinner, MatchStatus)\n",
    "SELECT DISTINCT\n",
    "    ROW_NUMBER() OVER (ORDER BY t1.TeamId) AS MatchId,\n",
    "    t1.TeamName AS Team1,\n",
    "    t2.TeamName AS Team2,\n",
    "    (SELECT FLOOR(RAND() * 6) + 1) AS Team1Score,\n",
    "    (SELECT FLOOR(RAND() * 6) + 1) AS Team2Score,\n",
    "    CONCAT(Team1Score, '-', Team2Score) AS Result,\n",
    "    CASE\n",
    "        WHEN Team1Score > Team2Score THEN t1.TeamName\n",
    "        WHEN Team1Score < Team2Score THEN t2.TeamName\n",
    "        ELSE 'draw'\n",
    "    END AS MatchWinner,\n",
    "    'completed' AS MatchStatus\n",
    "FROM\n",
    "    Euroteams t1\n",
    "JOIN\n",
    "    Euroteams t2 ON t1.GroupName = t2.GroupName AND t1.TeamId < t2.TeamId\n",
    "ORDER BY MatchId; \n"
   ]
  },
  {
   "cell_type": "code",
   "execution_count": 0,
   "metadata": {
    "application/vnd.databricks.v1+cell": {
     "cellMetadata": {
      "byteLimit": 2048000,
      "implicitDf": true,
      "rowLimit": 10000
     },
     "inputWidgets": {},
     "nuid": "78f0ece9-14af-4f5f-8550-7c2d46d4d551",
     "showTitle": false,
     "title": ""
    }
   },
   "outputs": [
    {
     "output_type": "display_data",
     "data": {
      "text/html": [
       "<style scoped>\n",
       "  .table-result-container {\n",
       "    max-height: 300px;\n",
       "    overflow: auto;\n",
       "  }\n",
       "  table, th, td {\n",
       "    border: 1px solid black;\n",
       "    border-collapse: collapse;\n",
       "  }\n",
       "  th, td {\n",
       "    padding: 5px;\n",
       "  }\n",
       "  th {\n",
       "    text-align: left;\n",
       "  }\n",
       "</style><div class='table-result-container'><table class='table-result'><thead style='background-color: white'><tr><th>MatchId</th><th>Team1</th><th>Team2</th><th>Team1Score</th><th>Team2Score</th><th>Result</th><th>MatchWinner</th><th>MatchStatus</th></tr></thead><tbody><tr><td>1</td><td>Germany</td><td>Switzerland</td><td>5</td><td>4</td><td>5-4</td><td>Germany</td><td>completed</td></tr><tr><td>2</td><td>Germany</td><td>Hungary</td><td>1</td><td>5</td><td>1-5</td><td>Hungary</td><td>completed</td></tr><tr><td>3</td><td>Germany</td><td>Scotland</td><td>1</td><td>4</td><td>1-4</td><td>Scotland</td><td>completed</td></tr><tr><td>4</td><td>Scotland</td><td>Switzerland</td><td>4</td><td>4</td><td>4-4</td><td>draw</td><td>completed</td></tr><tr><td>5</td><td>Scotland</td><td>Hungary</td><td>1</td><td>1</td><td>1-1</td><td>draw</td><td>completed</td></tr><tr><td>6</td><td>Hungary</td><td>Switzerland</td><td>6</td><td>3</td><td>6-3</td><td>Hungary</td><td>completed</td></tr><tr><td>7</td><td>Spain</td><td>Albania</td><td>6</td><td>6</td><td>6-6</td><td>draw</td><td>completed</td></tr><tr><td>8</td><td>Spain</td><td>Italy</td><td>2</td><td>1</td><td>2-1</td><td>Spain</td><td>completed</td></tr><tr><td>9</td><td>Spain</td><td>Croatia</td><td>1</td><td>5</td><td>1-5</td><td>Croatia</td><td>completed</td></tr><tr><td>10</td><td>Croatia</td><td>Albania</td><td>5</td><td>3</td><td>5-3</td><td>Croatia</td><td>completed</td></tr><tr><td>11</td><td>Croatia</td><td>Italy</td><td>4</td><td>2</td><td>4-2</td><td>Croatia</td><td>completed</td></tr><tr><td>12</td><td>Italy</td><td>Albania</td><td>3</td><td>6</td><td>3-6</td><td>Albania</td><td>completed</td></tr><tr><td>13</td><td>Slovenia</td><td>England</td><td>6</td><td>5</td><td>6-5</td><td>Slovenia</td><td>completed</td></tr><tr><td>14</td><td>Slovenia</td><td>Serbia</td><td>4</td><td>3</td><td>4-3</td><td>Slovenia</td><td>completed</td></tr><tr><td>15</td><td>Slovenia</td><td>Denmark</td><td>5</td><td>4</td><td>5-4</td><td>Slovenia</td><td>completed</td></tr><tr><td>16</td><td>Denmark</td><td>England</td><td>2</td><td>4</td><td>2-4</td><td>England</td><td>completed</td></tr><tr><td>17</td><td>Denmark</td><td>Serbia</td><td>1</td><td>3</td><td>1-3</td><td>Serbia</td><td>completed</td></tr><tr><td>18</td><td>Serbia</td><td>England</td><td>2</td><td>3</td><td>2-3</td><td>England</td><td>completed</td></tr><tr><td>19</td><td>Finland</td><td>France</td><td>3</td><td>4</td><td>3-4</td><td>France</td><td>completed</td></tr><tr><td>20</td><td>Finland</td><td>Austria</td><td>2</td><td>2</td><td>2-2</td><td>draw</td><td>completed</td></tr><tr><td>21</td><td>Finland</td><td>Netherlands</td><td>1</td><td>2</td><td>1-2</td><td>Netherlands</td><td>completed</td></tr><tr><td>22</td><td>Netherlands</td><td>France</td><td>3</td><td>1</td><td>3-1</td><td>Netherlands</td><td>completed</td></tr><tr><td>23</td><td>Netherlands</td><td>Austria</td><td>1</td><td>5</td><td>1-5</td><td>Austria</td><td>completed</td></tr><tr><td>24</td><td>Austria</td><td>France</td><td>4</td><td>1</td><td>4-1</td><td>Austria</td><td>completed</td></tr><tr><td>25</td><td>Belgium</td><td>Ukraine</td><td>2</td><td>4</td><td>2-4</td><td>Ukraine</td><td>completed</td></tr><tr><td>26</td><td>Belgium</td><td>Romania</td><td>3</td><td>6</td><td>3-6</td><td>Romania</td><td>completed</td></tr><tr><td>27</td><td>Belgium</td><td>Slovakia</td><td>6</td><td>3</td><td>6-3</td><td>Belgium</td><td>completed</td></tr><tr><td>28</td><td>Slovakia</td><td>Ukraine</td><td>1</td><td>1</td><td>1-1</td><td>draw</td><td>completed</td></tr><tr><td>29</td><td>Slovakia</td><td>Romania</td><td>4</td><td>5</td><td>4-5</td><td>Romania</td><td>completed</td></tr><tr><td>30</td><td>Romania</td><td>Ukraine</td><td>4</td><td>6</td><td>4-6</td><td>Ukraine</td><td>completed</td></tr><tr><td>31</td><td>Türkiye</td><td>Czech</td><td>2</td><td>3</td><td>2-3</td><td>Czech</td><td>completed</td></tr><tr><td>32</td><td>Türkiye</td><td>Portugal</td><td>6</td><td>6</td><td>6-6</td><td>draw</td><td>completed</td></tr><tr><td>33</td><td>Türkiye</td><td>Greece</td><td>5</td><td>4</td><td>5-4</td><td>Türkiye</td><td>completed</td></tr><tr><td>34</td><td>Greece</td><td>Czech</td><td>3</td><td>5</td><td>3-5</td><td>Czech</td><td>completed</td></tr><tr><td>35</td><td>Greece</td><td>Portugal</td><td>6</td><td>1</td><td>6-1</td><td>Greece</td><td>completed</td></tr><tr><td>36</td><td>Portugal</td><td>Czech</td><td>5</td><td>2</td><td>5-2</td><td>Portugal</td><td>completed</td></tr></tbody></table></div>"
      ]
     },
     "metadata": {
      "application/vnd.databricks.v1+output": {
       "addedWidgets": {},
       "aggData": [],
       "aggError": "",
       "aggOverflow": false,
       "aggSchema": [],
       "aggSeriesLimitReached": false,
       "aggType": "",
       "arguments": {},
       "columnCustomDisplayInfos": {},
       "data": [
        [
         1,
         "Germany",
         "Switzerland",
         5,
         4,
         "5-4",
         "Germany",
         "completed"
        ],
        [
         2,
         "Germany",
         "Hungary",
         1,
         5,
         "1-5",
         "Hungary",
         "completed"
        ],
        [
         3,
         "Germany",
         "Scotland",
         1,
         4,
         "1-4",
         "Scotland",
         "completed"
        ],
        [
         4,
         "Scotland",
         "Switzerland",
         4,
         4,
         "4-4",
         "draw",
         "completed"
        ],
        [
         5,
         "Scotland",
         "Hungary",
         1,
         1,
         "1-1",
         "draw",
         "completed"
        ],
        [
         6,
         "Hungary",
         "Switzerland",
         6,
         3,
         "6-3",
         "Hungary",
         "completed"
        ],
        [
         7,
         "Spain",
         "Albania",
         6,
         6,
         "6-6",
         "draw",
         "completed"
        ],
        [
         8,
         "Spain",
         "Italy",
         2,
         1,
         "2-1",
         "Spain",
         "completed"
        ],
        [
         9,
         "Spain",
         "Croatia",
         1,
         5,
         "1-5",
         "Croatia",
         "completed"
        ],
        [
         10,
         "Croatia",
         "Albania",
         5,
         3,
         "5-3",
         "Croatia",
         "completed"
        ],
        [
         11,
         "Croatia",
         "Italy",
         4,
         2,
         "4-2",
         "Croatia",
         "completed"
        ],
        [
         12,
         "Italy",
         "Albania",
         3,
         6,
         "3-6",
         "Albania",
         "completed"
        ],
        [
         13,
         "Slovenia",
         "England",
         6,
         5,
         "6-5",
         "Slovenia",
         "completed"
        ],
        [
         14,
         "Slovenia",
         "Serbia",
         4,
         3,
         "4-3",
         "Slovenia",
         "completed"
        ],
        [
         15,
         "Slovenia",
         "Denmark",
         5,
         4,
         "5-4",
         "Slovenia",
         "completed"
        ],
        [
         16,
         "Denmark",
         "England",
         2,
         4,
         "2-4",
         "England",
         "completed"
        ],
        [
         17,
         "Denmark",
         "Serbia",
         1,
         3,
         "1-3",
         "Serbia",
         "completed"
        ],
        [
         18,
         "Serbia",
         "England",
         2,
         3,
         "2-3",
         "England",
         "completed"
        ],
        [
         19,
         "Finland",
         "France",
         3,
         4,
         "3-4",
         "France",
         "completed"
        ],
        [
         20,
         "Finland",
         "Austria",
         2,
         2,
         "2-2",
         "draw",
         "completed"
        ],
        [
         21,
         "Finland",
         "Netherlands",
         1,
         2,
         "1-2",
         "Netherlands",
         "completed"
        ],
        [
         22,
         "Netherlands",
         "France",
         3,
         1,
         "3-1",
         "Netherlands",
         "completed"
        ],
        [
         23,
         "Netherlands",
         "Austria",
         1,
         5,
         "1-5",
         "Austria",
         "completed"
        ],
        [
         24,
         "Austria",
         "France",
         4,
         1,
         "4-1",
         "Austria",
         "completed"
        ],
        [
         25,
         "Belgium",
         "Ukraine",
         2,
         4,
         "2-4",
         "Ukraine",
         "completed"
        ],
        [
         26,
         "Belgium",
         "Romania",
         3,
         6,
         "3-6",
         "Romania",
         "completed"
        ],
        [
         27,
         "Belgium",
         "Slovakia",
         6,
         3,
         "6-3",
         "Belgium",
         "completed"
        ],
        [
         28,
         "Slovakia",
         "Ukraine",
         1,
         1,
         "1-1",
         "draw",
         "completed"
        ],
        [
         29,
         "Slovakia",
         "Romania",
         4,
         5,
         "4-5",
         "Romania",
         "completed"
        ],
        [
         30,
         "Romania",
         "Ukraine",
         4,
         6,
         "4-6",
         "Ukraine",
         "completed"
        ],
        [
         31,
         "Türkiye",
         "Czech",
         2,
         3,
         "2-3",
         "Czech",
         "completed"
        ],
        [
         32,
         "Türkiye",
         "Portugal",
         6,
         6,
         "6-6",
         "draw",
         "completed"
        ],
        [
         33,
         "Türkiye",
         "Greece",
         5,
         4,
         "5-4",
         "Türkiye",
         "completed"
        ],
        [
         34,
         "Greece",
         "Czech",
         3,
         5,
         "3-5",
         "Czech",
         "completed"
        ],
        [
         35,
         "Greece",
         "Portugal",
         6,
         1,
         "6-1",
         "Greece",
         "completed"
        ],
        [
         36,
         "Portugal",
         "Czech",
         5,
         2,
         "5-2",
         "Portugal",
         "completed"
        ]
       ],
       "datasetInfos": [],
       "dbfsResultPath": null,
       "isJsonSchema": true,
       "metadata": {
        "isDbfsCommandResult": false
       },
       "overflow": false,
       "plotOptions": {
        "customPlotOptions": {},
        "displayType": "table",
        "pivotAggregation": null,
        "pivotColumns": null,
        "xColumns": null,
        "yColumns": null
       },
       "removedWidgets": [],
       "schema": [
        {
         "metadata": "{}",
         "name": "MatchId",
         "type": "\"integer\""
        },
        {
         "metadata": "{\"__CHAR_VARCHAR_TYPE_STRING\":\"varchar(255)\"}",
         "name": "Team1",
         "type": "\"string\""
        },
        {
         "metadata": "{\"__CHAR_VARCHAR_TYPE_STRING\":\"varchar(255)\"}",
         "name": "Team2",
         "type": "\"string\""
        },
        {
         "metadata": "{}",
         "name": "Team1Score",
         "type": "\"integer\""
        },
        {
         "metadata": "{}",
         "name": "Team2Score",
         "type": "\"integer\""
        },
        {
         "metadata": "{\"__CHAR_VARCHAR_TYPE_STRING\":\"varchar(5)\"}",
         "name": "Result",
         "type": "\"string\""
        },
        {
         "metadata": "{\"__CHAR_VARCHAR_TYPE_STRING\":\"varchar(255)\"}",
         "name": "MatchWinner",
         "type": "\"string\""
        },
        {
         "metadata": "{\"__CHAR_VARCHAR_TYPE_STRING\":\"varchar(20)\"}",
         "name": "MatchStatus",
         "type": "\"string\""
        }
       ],
       "type": "table"
      }
     },
     "output_type": "display_data"
    }
   ],
   "source": [
    "%sql\n",
    "Select * from  GroupStage_match"
   ]
  },
  {
   "cell_type": "markdown",
   "metadata": {
    "application/vnd.databricks.v1+cell": {
     "cellMetadata": {
      "byteLimit": 2048000,
      "rowLimit": 10000
     },
     "inputWidgets": {},
     "nuid": "5d931095-cf07-4f55-abec-138f4e65eb20",
     "showTitle": false,
     "title": ""
    }
   },
   "source": [
    "Creating the group standings or rankings"
   ]
  },
  {
   "cell_type": "code",
   "execution_count": 0,
   "metadata": {
    "application/vnd.databricks.v1+cell": {
     "cellMetadata": {
      "byteLimit": 2048000,
      "implicitDf": true,
      "rowLimit": 10000
     },
     "inputWidgets": {},
     "nuid": "709c6783-32b1-47de-a989-7d6cea5981f6",
     "showTitle": false,
     "title": ""
    }
   },
   "outputs": [
    {
     "output_type": "display_data",
     "data": {
      "text/html": [
       "<style scoped>\n",
       "  .table-result-container {\n",
       "    max-height: 300px;\n",
       "    overflow: auto;\n",
       "  }\n",
       "  table, th, td {\n",
       "    border: 1px solid black;\n",
       "    border-collapse: collapse;\n",
       "  }\n",
       "  th, td {\n",
       "    padding: 5px;\n",
       "  }\n",
       "  th {\n",
       "    text-align: left;\n",
       "  }\n",
       "</style><div class='table-result-container'><table class='table-result'><thead style='background-color: white'><tr><th>num_affected_rows</th><th>num_updated_rows</th><th>num_deleted_rows</th><th>num_inserted_rows</th></tr></thead><tbody><tr><td>24</td><td>24</td><td>0</td><td>0</td></tr></tbody></table></div>"
      ]
     },
     "metadata": {
      "application/vnd.databricks.v1+output": {
       "addedWidgets": {},
       "aggData": [],
       "aggError": "",
       "aggOverflow": false,
       "aggSchema": [],
       "aggSeriesLimitReached": false,
       "aggType": "",
       "arguments": {},
       "columnCustomDisplayInfos": {},
       "data": [
        [
         24,
         24,
         0,
         0
        ]
       ],
       "datasetInfos": [],
       "dbfsResultPath": null,
       "isJsonSchema": true,
       "metadata": {
        "isDbfsCommandResult": false
       },
       "overflow": false,
       "plotOptions": {
        "customPlotOptions": {},
        "displayType": "table",
        "pivotAggregation": null,
        "pivotColumns": null,
        "xColumns": null,
        "yColumns": null
       },
       "removedWidgets": [],
       "schema": [
        {
         "metadata": "{}",
         "name": "num_affected_rows",
         "type": "\"long\""
        },
        {
         "metadata": "{}",
         "name": "num_updated_rows",
         "type": "\"long\""
        },
        {
         "metadata": "{}",
         "name": "num_deleted_rows",
         "type": "\"long\""
        },
        {
         "metadata": "{}",
         "name": "num_inserted_rows",
         "type": "\"long\""
        }
       ],
       "type": "table"
      }
     },
     "output_type": "display_data"
    }
   ],
   "source": [
    "%sql\n",
    "-- Ensure that the table exists with the correct schema\n",
    "CREATE or REPLACE TABLE GroupStandings (\n",
    "    TeamId INTEGER,\n",
    "    TeamName VARCHAR(255),\n",
    "    GroupName VARCHAR(255),\n",
    "    MatchesPlayed INTEGER, \n",
    "    Wins INTEGER, \n",
    "    Draws INTEGER, \n",
    "    Losses INTEGER,\n",
    "    GoalsFor INTEGER, \n",
    "    GoalsAgainst INTEGER, \n",
    "    GoalDifference INTEGER, \n",
    "    Points INTEGER,\n",
    "    Rankings INTEGER\n",
    ");\n",
    "\n",
    "-- Calculate wins, draws, and losses for each team\n",
    "WITH MatchResults AS (\n",
    "    SELECT\n",
    "        Team1 AS TeamName,\n",
    "        CASE\n",
    "            WHEN MatchWinner = Team1 THEN 1 \n",
    "            ELSE 0\n",
    "        END AS Wins,\n",
    "        CASE\n",
    "            WHEN MatchWinner = 'draw' THEN 1\n",
    "            ELSE 0 \n",
    "        END AS Draws,\n",
    "        Team1Score AS GoalsFor,\n",
    "        Team2Score AS GoalsAgainst\n",
    "    FROM GroupStage_match\n",
    "    UNION ALL\n",
    "    SELECT\n",
    "        Team2 AS TeamName,\n",
    "        CASE\n",
    "            WHEN MatchWinner = Team2 THEN 1\n",
    "            ELSE 0 \n",
    "        END AS Wins,\n",
    "        CASE\n",
    "            WHEN MatchWinner = 'draw' THEN 1\n",
    "            ELSE 0 \n",
    "        END AS Draws,\n",
    "        Team2Score AS GoalsFor,\n",
    "        Team1Score AS GoalsAgainst\n",
    "    FROM GroupStage_match\n",
    ")\n",
    "INSERT INTO GroupStandings (TeamId, TeamName, GroupName, MatchesPlayed, Wins, Draws, Losses, GoalsFor, GoalsAgainst, GoalDifference, Points, Rankings)\n",
    "SELECT\n",
    "    t.TeamId,\n",
    "    t.TeamName,\n",
    "    t.GroupName,\n",
    "    COUNT(M.Wins) AS MatchesPlayed,\n",
    "    SUM(M.Wins) AS Wins,\n",
    "    SUM(M.Draws) AS Draws,\n",
    "    COUNT(*) - SUM(M.Wins) - SUM(M.Draws) AS Losses,\n",
    "    SUM(M.GoalsFor) AS GoalsFor,\n",
    "    SUM(M.GoalsAgainst) AS GoalsAgainst,\n",
    "    SUM(M.GoalsFor - M.GoalsAgainst) AS GoalDifference,\n",
    "    (SUM(M.Wins) * 3) + SUM(M.Draws) AS Points,\n",
    "    0 as Rankings\n",
    "FROM Euroteams t\n",
    "LEFT JOIN MatchResults M ON t.TeamName = M.TeamName\n",
    "GROUP BY t.TeamId, t.TeamName, t.GroupName;\n",
    "\n",
    "\n",
    "WITH RankedTeams AS (\n",
    "SELECT\n",
    "TeamName,\n",
    "row_number() OVER (PARTITION BY GroupName ORDER BY Points DESC, GoalDifference DESC, GoalsFor DESC, Wins DESC) AS GroupRank\n",
    "FROM GroupStandings\n",
    ")\n",
    "MERGE INTO GroupStandings gs\n",
    "USING RankedTeams rt\n",
    "ON gs. TeamName = rt. TeamName\n",
    "WHEN MATCHED THEN UPDATE SET gs.Rankings = rt.GroupRank;"
   ]
  },
  {
   "cell_type": "code",
   "execution_count": 0,
   "metadata": {
    "application/vnd.databricks.v1+cell": {
     "cellMetadata": {
      "byteLimit": 2048000,
      "implicitDf": true,
      "rowLimit": 10000
     },
     "inputWidgets": {},
     "nuid": "f1205121-156d-4151-9d5e-58007d5e9cf4",
     "showTitle": false,
     "title": ""
    }
   },
   "outputs": [
    {
     "output_type": "display_data",
     "data": {
      "text/html": [
       "<style scoped>\n",
       "  .table-result-container {\n",
       "    max-height: 300px;\n",
       "    overflow: auto;\n",
       "  }\n",
       "  table, th, td {\n",
       "    border: 1px solid black;\n",
       "    border-collapse: collapse;\n",
       "  }\n",
       "  th, td {\n",
       "    padding: 5px;\n",
       "  }\n",
       "  th {\n",
       "    text-align: left;\n",
       "  }\n",
       "</style><div class='table-result-container'><table class='table-result'><thead style='background-color: white'><tr><th>TeamId</th><th>TeamName</th><th>GroupName</th><th>MatchesPlayed</th><th>Wins</th><th>Draws</th><th>Losses</th><th>GoalsFor</th><th>GoalsAgainst</th><th>GoalDifference</th><th>Points</th><th>Rankings</th></tr></thead><tbody><tr><td>3</td><td>Hungary</td><td>A</td><td>3</td><td>2</td><td>1</td><td>0</td><td>12</td><td>5</td><td>7</td><td>7</td><td>1</td></tr><tr><td>2</td><td>Scotland</td><td>A</td><td>3</td><td>1</td><td>2</td><td>0</td><td>9</td><td>6</td><td>3</td><td>5</td><td>2</td></tr><tr><td>1</td><td>Germany</td><td>A</td><td>3</td><td>1</td><td>0</td><td>2</td><td>7</td><td>13</td><td>-6</td><td>3</td><td>3</td></tr><tr><td>4</td><td>Switzerland</td><td>A</td><td>3</td><td>0</td><td>1</td><td>2</td><td>11</td><td>15</td><td>-4</td><td>1</td><td>4</td></tr><tr><td>6</td><td>Croatia</td><td>B</td><td>3</td><td>3</td><td>0</td><td>0</td><td>14</td><td>6</td><td>8</td><td>9</td><td>1</td></tr><tr><td>8</td><td>Albania</td><td>B</td><td>3</td><td>1</td><td>1</td><td>1</td><td>15</td><td>14</td><td>1</td><td>4</td><td>2</td></tr><tr><td>5</td><td>Spain</td><td>B</td><td>3</td><td>1</td><td>1</td><td>1</td><td>9</td><td>12</td><td>-3</td><td>4</td><td>3</td></tr><tr><td>7</td><td>Italy</td><td>B</td><td>3</td><td>0</td><td>0</td><td>3</td><td>6</td><td>12</td><td>-6</td><td>0</td><td>4</td></tr><tr><td>9</td><td>Slovenia</td><td>C</td><td>3</td><td>3</td><td>0</td><td>0</td><td>15</td><td>12</td><td>3</td><td>9</td><td>1</td></tr><tr><td>12</td><td>England</td><td>C</td><td>3</td><td>2</td><td>0</td><td>1</td><td>12</td><td>10</td><td>2</td><td>6</td><td>2</td></tr><tr><td>11</td><td>Serbia</td><td>C</td><td>3</td><td>1</td><td>0</td><td>2</td><td>8</td><td>8</td><td>0</td><td>3</td><td>3</td></tr><tr><td>10</td><td>Denmark</td><td>C</td><td>3</td><td>0</td><td>0</td><td>3</td><td>7</td><td>12</td><td>-5</td><td>0</td><td>4</td></tr><tr><td>15</td><td>Austria</td><td>D</td><td>3</td><td>2</td><td>1</td><td>0</td><td>11</td><td>4</td><td>7</td><td>7</td><td>1</td></tr><tr><td>14</td><td>Netherlands</td><td>D</td><td>3</td><td>2</td><td>0</td><td>1</td><td>6</td><td>7</td><td>-1</td><td>6</td><td>2</td></tr><tr><td>16</td><td>France</td><td>D</td><td>3</td><td>1</td><td>0</td><td>2</td><td>6</td><td>10</td><td>-4</td><td>3</td><td>3</td></tr><tr><td>13</td><td>Finland</td><td>D</td><td>3</td><td>0</td><td>1</td><td>2</td><td>6</td><td>8</td><td>-2</td><td>1</td><td>4</td></tr><tr><td>20</td><td>Ukraine</td><td>E</td><td>3</td><td>2</td><td>1</td><td>0</td><td>11</td><td>7</td><td>4</td><td>7</td><td>1</td></tr><tr><td>19</td><td>Romania</td><td>E</td><td>3</td><td>2</td><td>0</td><td>1</td><td>15</td><td>13</td><td>2</td><td>6</td><td>2</td></tr><tr><td>17</td><td>Belgium</td><td>E</td><td>3</td><td>1</td><td>0</td><td>2</td><td>11</td><td>13</td><td>-2</td><td>3</td><td>3</td></tr><tr><td>18</td><td>Slovakia</td><td>E</td><td>3</td><td>0</td><td>1</td><td>2</td><td>8</td><td>12</td><td>-4</td><td>1</td><td>4</td></tr><tr><td>24</td><td>Czech</td><td>F</td><td>3</td><td>2</td><td>0</td><td>1</td><td>10</td><td>10</td><td>0</td><td>6</td><td>1</td></tr><tr><td>21</td><td>Türkiye</td><td>F</td><td>3</td><td>1</td><td>1</td><td>1</td><td>13</td><td>13</td><td>0</td><td>4</td><td>2</td></tr><tr><td>23</td><td>Portugal</td><td>F</td><td>3</td><td>1</td><td>1</td><td>1</td><td>12</td><td>14</td><td>-2</td><td>4</td><td>3</td></tr><tr><td>22</td><td>Greece</td><td>F</td><td>3</td><td>1</td><td>0</td><td>2</td><td>13</td><td>11</td><td>2</td><td>3</td><td>4</td></tr></tbody></table></div>"
      ]
     },
     "metadata": {
      "application/vnd.databricks.v1+output": {
       "addedWidgets": {},
       "aggData": [],
       "aggError": "",
       "aggOverflow": false,
       "aggSchema": [],
       "aggSeriesLimitReached": false,
       "aggType": "",
       "arguments": {},
       "columnCustomDisplayInfos": {},
       "data": [
        [
         3,
         "Hungary",
         "A",
         3,
         2,
         1,
         0,
         12,
         5,
         7,
         7,
         1
        ],
        [
         2,
         "Scotland",
         "A",
         3,
         1,
         2,
         0,
         9,
         6,
         3,
         5,
         2
        ],
        [
         1,
         "Germany",
         "A",
         3,
         1,
         0,
         2,
         7,
         13,
         -6,
         3,
         3
        ],
        [
         4,
         "Switzerland",
         "A",
         3,
         0,
         1,
         2,
         11,
         15,
         -4,
         1,
         4
        ],
        [
         6,
         "Croatia",
         "B",
         3,
         3,
         0,
         0,
         14,
         6,
         8,
         9,
         1
        ],
        [
         8,
         "Albania",
         "B",
         3,
         1,
         1,
         1,
         15,
         14,
         1,
         4,
         2
        ],
        [
         5,
         "Spain",
         "B",
         3,
         1,
         1,
         1,
         9,
         12,
         -3,
         4,
         3
        ],
        [
         7,
         "Italy",
         "B",
         3,
         0,
         0,
         3,
         6,
         12,
         -6,
         0,
         4
        ],
        [
         9,
         "Slovenia",
         "C",
         3,
         3,
         0,
         0,
         15,
         12,
         3,
         9,
         1
        ],
        [
         12,
         "England",
         "C",
         3,
         2,
         0,
         1,
         12,
         10,
         2,
         6,
         2
        ],
        [
         11,
         "Serbia",
         "C",
         3,
         1,
         0,
         2,
         8,
         8,
         0,
         3,
         3
        ],
        [
         10,
         "Denmark",
         "C",
         3,
         0,
         0,
         3,
         7,
         12,
         -5,
         0,
         4
        ],
        [
         15,
         "Austria",
         "D",
         3,
         2,
         1,
         0,
         11,
         4,
         7,
         7,
         1
        ],
        [
         14,
         "Netherlands",
         "D",
         3,
         2,
         0,
         1,
         6,
         7,
         -1,
         6,
         2
        ],
        [
         16,
         "France",
         "D",
         3,
         1,
         0,
         2,
         6,
         10,
         -4,
         3,
         3
        ],
        [
         13,
         "Finland",
         "D",
         3,
         0,
         1,
         2,
         6,
         8,
         -2,
         1,
         4
        ],
        [
         20,
         "Ukraine",
         "E",
         3,
         2,
         1,
         0,
         11,
         7,
         4,
         7,
         1
        ],
        [
         19,
         "Romania",
         "E",
         3,
         2,
         0,
         1,
         15,
         13,
         2,
         6,
         2
        ],
        [
         17,
         "Belgium",
         "E",
         3,
         1,
         0,
         2,
         11,
         13,
         -2,
         3,
         3
        ],
        [
         18,
         "Slovakia",
         "E",
         3,
         0,
         1,
         2,
         8,
         12,
         -4,
         1,
         4
        ],
        [
         24,
         "Czech",
         "F",
         3,
         2,
         0,
         1,
         10,
         10,
         0,
         6,
         1
        ],
        [
         21,
         "Türkiye",
         "F",
         3,
         1,
         1,
         1,
         13,
         13,
         0,
         4,
         2
        ],
        [
         23,
         "Portugal",
         "F",
         3,
         1,
         1,
         1,
         12,
         14,
         -2,
         4,
         3
        ],
        [
         22,
         "Greece",
         "F",
         3,
         1,
         0,
         2,
         13,
         11,
         2,
         3,
         4
        ]
       ],
       "datasetInfos": [],
       "dbfsResultPath": null,
       "isJsonSchema": true,
       "metadata": {
        "isDbfsCommandResult": false
       },
       "overflow": false,
       "plotOptions": {
        "customPlotOptions": {},
        "displayType": "table",
        "pivotAggregation": null,
        "pivotColumns": null,
        "xColumns": null,
        "yColumns": null
       },
       "removedWidgets": [],
       "schema": [
        {
         "metadata": "{}",
         "name": "TeamId",
         "type": "\"integer\""
        },
        {
         "metadata": "{\"__CHAR_VARCHAR_TYPE_STRING\":\"varchar(255)\"}",
         "name": "TeamName",
         "type": "\"string\""
        },
        {
         "metadata": "{\"__CHAR_VARCHAR_TYPE_STRING\":\"varchar(255)\"}",
         "name": "GroupName",
         "type": "\"string\""
        },
        {
         "metadata": "{}",
         "name": "MatchesPlayed",
         "type": "\"integer\""
        },
        {
         "metadata": "{}",
         "name": "Wins",
         "type": "\"integer\""
        },
        {
         "metadata": "{}",
         "name": "Draws",
         "type": "\"integer\""
        },
        {
         "metadata": "{}",
         "name": "Losses",
         "type": "\"integer\""
        },
        {
         "metadata": "{}",
         "name": "GoalsFor",
         "type": "\"integer\""
        },
        {
         "metadata": "{}",
         "name": "GoalsAgainst",
         "type": "\"integer\""
        },
        {
         "metadata": "{}",
         "name": "GoalDifference",
         "type": "\"integer\""
        },
        {
         "metadata": "{}",
         "name": "Points",
         "type": "\"integer\""
        },
        {
         "metadata": "{}",
         "name": "Rankings",
         "type": "\"integer\""
        }
       ],
       "type": "table"
      }
     },
     "output_type": "display_data"
    }
   ],
   "source": [
    "%sql\n",
    "-- Select and display the final GroupStandings table with rankings\n",
    "SELECT * FROM GroupStandings\n",
    "ORDER BY GroupName, Rankings;\n"
   ]
  },
  {
   "cell_type": "markdown",
   "metadata": {
    "application/vnd.databricks.v1+cell": {
     "cellMetadata": {
      "byteLimit": 2048000,
      "rowLimit": 10000
     },
     "inputWidgets": {},
     "nuid": "75746677-8e5e-4fb6-b428-74de7526defb",
     "showTitle": false,
     "title": ""
    }
   },
   "source": [
    "\n",
    "The criteria for determining the best third-placed teams are as follows:\n",
    "\n",
    "-Points: The teams are ranked based on the number of points earned in the group stage matches (3 points for a win, 1 point for a draw).\n",
    "\n",
    "-Goal Difference: If two or more teams have the same number of points, their goal difference is considered. Goal difference is calculated by subtracting the total number of goals conceded from the total number of goals scored.\n",
    "\n",
    "-Goals Scored: If teams still cannot be separated after goal difference, the number of goals scored in all group stage matches is used as the next tiebreaker.\n",
    "\n",
    "-Fair Play: If teams are still equal, fair play conduct during the tournament is considered. This includes the number of yellow and red cards. The team with fewer disciplinary points advances.\n",
    "\n",
    "-Drawing of Lots: As a last resort, if teams are still tied after the above criteria, a draw of lots may be used to determine the final rankings."
   ]
  },
  {
   "cell_type": "markdown",
   "metadata": {
    "application/vnd.databricks.v1+cell": {
     "cellMetadata": {
      "byteLimit": 2048000,
      "rowLimit": 10000
     },
     "inputWidgets": {},
     "nuid": "7d4bd797-f811-4508-800d-f9ff2c6f2c8b",
     "showTitle": false,
     "title": ""
    }
   },
   "source": [
    "Positive Goal Difference:\n",
    "\n",
    " A team with a positive goal difference (having scored more goals than conceded) is generally considered more favorably than a team with a lower or negative goal difference.\n",
    "For example, if Team A has a goal difference of +5 (scored 10, conceded 5), and Team B has a goal difference of +2 (scored 8, conceded 6), Team A would be ranked higher in the standings."
   ]
  },
  {
   "cell_type": "markdown",
   "metadata": {
    "application/vnd.databricks.v1+cell": {
     "cellMetadata": {
      "byteLimit": 2048000,
      "rowLimit": 10000
     },
     "inputWidgets": {},
     "nuid": "9f72f5ee-175f-4e39-91e4-720858d7d1d8",
     "showTitle": false,
     "title": ""
    }
   },
   "source": [
    "\n",
    "Some important points\n",
    "It is not allowed to use window functions inside WHERE clause."
   ]
  },
  {
   "cell_type": "markdown",
   "metadata": {
    "application/vnd.databricks.v1+cell": {
     "cellMetadata": {
      "byteLimit": 2048000,
      "rowLimit": 10000
     },
     "inputWidgets": {},
     "nuid": "fe23763e-0e79-433e-9859-2dbbb8959071",
     "showTitle": false,
     "title": ""
    }
   },
   "source": [
    "Round of 16\n",
    "\n",
    " Rank all teams within each group based on points, goal difference, goals for, and wins"
   ]
  },
  {
   "cell_type": "code",
   "execution_count": 0,
   "metadata": {
    "application/vnd.databricks.v1+cell": {
     "cellMetadata": {
      "byteLimit": 2048000,
      "implicitDf": true,
      "rowLimit": 10000
     },
     "inputWidgets": {},
     "nuid": "74fc4b3c-cb6b-435d-800b-d33d89406b52",
     "showTitle": false,
     "title": ""
    }
   },
   "outputs": [
    {
     "output_type": "display_data",
     "data": {
      "text/html": [
       "<style scoped>\n",
       "  .table-result-container {\n",
       "    max-height: 300px;\n",
       "    overflow: auto;\n",
       "  }\n",
       "  table, th, td {\n",
       "    border: 1px solid black;\n",
       "    border-collapse: collapse;\n",
       "  }\n",
       "  th, td {\n",
       "    padding: 5px;\n",
       "  }\n",
       "  th {\n",
       "    text-align: left;\n",
       "  }\n",
       "</style><div class='table-result-container'><table class='table-result'><thead style='background-color: white'><tr></tr></thead><tbody></tbody></table></div>"
      ]
     },
     "metadata": {
      "application/vnd.databricks.v1+output": {
       "addedWidgets": {},
       "aggData": [],
       "aggError": "",
       "aggOverflow": false,
       "aggSchema": [],
       "aggSeriesLimitReached": false,
       "aggType": "",
       "arguments": {},
       "columnCustomDisplayInfos": {},
       "data": [],
       "datasetInfos": [],
       "dbfsResultPath": null,
       "isJsonSchema": true,
       "metadata": {
        "isDbfsCommandResult": false
       },
       "overflow": false,
       "plotOptions": {
        "customPlotOptions": {},
        "displayType": "table",
        "pivotAggregation": null,
        "pivotColumns": null,
        "xColumns": null,
        "yColumns": null
       },
       "removedWidgets": [],
       "schema": [],
       "type": "table"
      }
     },
     "output_type": "display_data"
    }
   ],
   "source": [
    "%sql\n",
    "CREATE OR REPLACE VIEW Roundof16 AS\n",
    "WITH CombinedTeams AS (\n",
    "    (\n",
    "        SELECT\n",
    "            Rankings,\n",
    "            TeamName,\n",
    "            GroupName\n",
    "        FROM\n",
    "           GroupStandings\n",
    "        WHERE\n",
    "            Rankings LIKE '1' OR Rankings LIKE '2'\n",
    "    )\n",
    "    UNION ALL\n",
    "    (\n",
    "        SELECT\n",
    "            Rankings,\n",
    "            TeamName,\n",
    "            GroupName\n",
    "        FROM\n",
    "            GroupStandings\n",
    "        WHERE\n",
    "            Rankings LIKE '3'\n",
    "        ORDER BY Points DESC, GoalDifference DESC, GoalsFor DESC, Wins DESC, GoalsAgainst ASC, TeamName\n",
    "        LIMIT 4\n",
    "    )\n",
    ")\n",
    "SELECT * FROM CombinedTeams\n",
    "ORDER BY Rankings, GroupName;\n",
    "\n",
    "\n"
   ]
  },
  {
   "cell_type": "code",
   "execution_count": 0,
   "metadata": {
    "application/vnd.databricks.v1+cell": {
     "cellMetadata": {
      "byteLimit": 2048000,
      "implicitDf": true,
      "rowLimit": 10000
     },
     "inputWidgets": {},
     "nuid": "f0c18df1-3ca8-4c82-969e-48e6684eafe4",
     "showTitle": false,
     "title": ""
    }
   },
   "outputs": [
    {
     "output_type": "display_data",
     "data": {
      "text/html": [
       "<style scoped>\n",
       "  .table-result-container {\n",
       "    max-height: 300px;\n",
       "    overflow: auto;\n",
       "  }\n",
       "  table, th, td {\n",
       "    border: 1px solid black;\n",
       "    border-collapse: collapse;\n",
       "  }\n",
       "  th, td {\n",
       "    padding: 5px;\n",
       "  }\n",
       "  th {\n",
       "    text-align: left;\n",
       "  }\n",
       "</style><div class='table-result-container'><table class='table-result'><thead style='background-color: white'><tr><th>Rankings</th><th>TeamName</th><th>GroupName</th></tr></thead><tbody><tr><td>1</td><td>Hungary</td><td>A</td></tr><tr><td>1</td><td>Croatia</td><td>B</td></tr><tr><td>1</td><td>Slovenia</td><td>C</td></tr><tr><td>1</td><td>Austria</td><td>D</td></tr><tr><td>1</td><td>Ukraine</td><td>E</td></tr><tr><td>1</td><td>Czech</td><td>F</td></tr><tr><td>2</td><td>Scotland</td><td>A</td></tr><tr><td>2</td><td>Albania</td><td>B</td></tr><tr><td>2</td><td>England</td><td>C</td></tr><tr><td>2</td><td>Netherlands</td><td>D</td></tr><tr><td>2</td><td>Romania</td><td>E</td></tr><tr><td>2</td><td>Türkiye</td><td>F</td></tr><tr><td>3</td><td>Spain</td><td>B</td></tr><tr><td>3</td><td>Serbia</td><td>C</td></tr><tr><td>3</td><td>Belgium</td><td>E</td></tr><tr><td>3</td><td>Portugal</td><td>F</td></tr></tbody></table></div>"
      ]
     },
     "metadata": {
      "application/vnd.databricks.v1+output": {
       "addedWidgets": {},
       "aggData": [],
       "aggError": "",
       "aggOverflow": false,
       "aggSchema": [],
       "aggSeriesLimitReached": false,
       "aggType": "",
       "arguments": {},
       "columnCustomDisplayInfos": {},
       "data": [
        [
         1,
         "Hungary",
         "A"
        ],
        [
         1,
         "Croatia",
         "B"
        ],
        [
         1,
         "Slovenia",
         "C"
        ],
        [
         1,
         "Austria",
         "D"
        ],
        [
         1,
         "Ukraine",
         "E"
        ],
        [
         1,
         "Czech",
         "F"
        ],
        [
         2,
         "Scotland",
         "A"
        ],
        [
         2,
         "Albania",
         "B"
        ],
        [
         2,
         "England",
         "C"
        ],
        [
         2,
         "Netherlands",
         "D"
        ],
        [
         2,
         "Romania",
         "E"
        ],
        [
         2,
         "Türkiye",
         "F"
        ],
        [
         3,
         "Spain",
         "B"
        ],
        [
         3,
         "Serbia",
         "C"
        ],
        [
         3,
         "Belgium",
         "E"
        ],
        [
         3,
         "Portugal",
         "F"
        ]
       ],
       "datasetInfos": [],
       "dbfsResultPath": null,
       "isJsonSchema": true,
       "metadata": {
        "isDbfsCommandResult": false
       },
       "overflow": false,
       "plotOptions": {
        "customPlotOptions": {},
        "displayType": "table",
        "pivotAggregation": null,
        "pivotColumns": null,
        "xColumns": null,
        "yColumns": null
       },
       "removedWidgets": [],
       "schema": [
        {
         "metadata": "{}",
         "name": "Rankings",
         "type": "\"integer\""
        },
        {
         "metadata": "{\"__CHAR_VARCHAR_TYPE_STRING\":\"varchar(255)\"}",
         "name": "TeamName",
         "type": "\"string\""
        },
        {
         "metadata": "{\"__CHAR_VARCHAR_TYPE_STRING\":\"varchar(255)\"}",
         "name": "GroupName",
         "type": "\"string\""
        }
       ],
       "type": "table"
      }
     },
     "output_type": "display_data"
    }
   ],
   "source": [
    "%sql\n",
    "Select * from RoundOf16"
   ]
  },
  {
   "cell_type": "code",
   "execution_count": 0,
   "metadata": {
    "application/vnd.databricks.v1+cell": {
     "cellMetadata": {
      "byteLimit": 2048000,
      "implicitDf": true,
      "rowLimit": 10000
     },
     "inputWidgets": {},
     "nuid": "62d033ea-ebd6-4de3-98e5-685071c66842",
     "showTitle": false,
     "title": ""
    }
   },
   "outputs": [
    {
     "output_type": "display_data",
     "data": {
      "text/html": [
       "<style scoped>\n",
       "  .ansiout {\n",
       "    display: block;\n",
       "    unicode-bidi: embed;\n",
       "    white-space: pre-wrap;\n",
       "    word-wrap: break-word;\n",
       "    word-break: break-all;\n",
       "    font-family: \"Menlo\", \"Monaco\", \"Consolas\", \"Ubuntu Mono\", \"Source Code Pro\", monospace;\n",
       "    font-size: 13px;\n",
       "    color: #555;\n",
       "    margin-left: 4px;\n",
       "    line-height: 19px;\n",
       "  }\n",
       "</style>"
      ]
     },
     "metadata": {
      "application/vnd.databricks.v1+output": {
       "arguments": {},
       "data": "",
       "errorSummary": "Command skipped",
       "errorTraceType": "html",
       "metadata": {},
       "type": "ipynbError"
      }
     },
     "output_type": "display_data"
    }
   ],
   "source": [
    "%sql\n",
    "-- %sql\n",
    "-- DROP VIEW IF EXISTS RoundOf16;"
   ]
  },
  {
   "cell_type": "markdown",
   "metadata": {
    "application/vnd.databricks.v1+cell": {
     "cellMetadata": {
      "byteLimit": 2048000,
      "rowLimit": 10000
     },
     "inputWidgets": {},
     "nuid": "0f639035-e18c-452f-a104-9305aa3c3cf4",
     "showTitle": false,
     "title": ""
    }
   },
   "source": [
    "COMBINATION TABLE"
   ]
  },
  {
   "cell_type": "code",
   "execution_count": 0,
   "metadata": {
    "application/vnd.databricks.v1+cell": {
     "cellMetadata": {
      "byteLimit": 2048000,
      "rowLimit": 10000
     },
     "inputWidgets": {},
     "nuid": "f45df969-3ed8-4a3e-87ff-af5f6da08d9e",
     "showTitle": false,
     "title": ""
    }
   },
   "outputs": [
    {
     "output_type": "stream",
     "name": "stdout",
     "output_type": "stream",
     "text": [
      "Out[5]: True"
     ]
    }
   ],
   "source": [
    "%python\n",
    "dbutils.fs.rm(\"dbfs:/user/hive/warehouse/combinationforthirdplace\", recurse=True)\n",
    "dbutils.fs.rm(\"dbfs:/user/hive/warehouse/matchesfixtures\",recurse=True)"
   ]
  },
  {
   "cell_type": "code",
   "execution_count": 0,
   "metadata": {
    "application/vnd.databricks.v1+cell": {
     "cellMetadata": {
      "byteLimit": 2048000,
      "rowLimit": 10000
     },
     "inputWidgets": {},
     "nuid": "8adde87d-63d7-4447-b9e9-6e6c320df697",
     "showTitle": false,
     "title": ""
    }
   },
   "outputs": [
    {
     "output_type": "display_data",
     "data": {
      "text/html": [
       "<style scoped>\n",
       "  .table-result-container {\n",
       "    max-height: 300px;\n",
       "    overflow: auto;\n",
       "  }\n",
       "  table, th, td {\n",
       "    border: 1px solid black;\n",
       "    border-collapse: collapse;\n",
       "  }\n",
       "  th, td {\n",
       "    padding: 5px;\n",
       "  }\n",
       "  th {\n",
       "    text-align: left;\n",
       "  }\n",
       "</style><div class='table-result-container'><table class='table-result'><thead style='background-color: white'><tr></tr></thead><tbody></tbody></table></div>"
      ]
     },
     "metadata": {
      "application/vnd.databricks.v1+output": {
       "addedWidgets": {},
       "aggData": [],
       "aggError": "",
       "aggOverflow": false,
       "aggSchema": [],
       "aggSeriesLimitReached": false,
       "aggType": "",
       "arguments": {},
       "columnCustomDisplayInfos": {},
       "data": [],
       "datasetInfos": [],
       "dbfsResultPath": null,
       "isJsonSchema": true,
       "metadata": {
        "isDbfsCommandResult": false
       },
       "overflow": false,
       "plotOptions": {
        "customPlotOptions": {},
        "displayType": "table",
        "pivotAggregation": null,
        "pivotColumns": null,
        "xColumns": null,
        "yColumns": null
       },
       "removedWidgets": [],
       "schema": [],
       "type": "table"
      }
     },
     "output_type": "display_data"
    }
   ],
   "source": [
    "%sql\n",
    "DROP TABLE if exists CombinationforThirdPlace"
   ]
  },
  {
   "cell_type": "code",
   "execution_count": 0,
   "metadata": {
    "application/vnd.databricks.v1+cell": {
     "cellMetadata": {
      "byteLimit": 2048000,
      "implicitDf": true,
      "rowLimit": 10000
     },
     "inputWidgets": {},
     "nuid": "acd07dd5-c840-4b41-904d-d8b0394a023e",
     "showTitle": false,
     "title": ""
    }
   },
   "outputs": [
    {
     "output_type": "display_data",
     "data": {
      "text/html": [
       "<style scoped>\n",
       "  .table-result-container {\n",
       "    max-height: 300px;\n",
       "    overflow: auto;\n",
       "  }\n",
       "  table, th, td {\n",
       "    border: 1px solid black;\n",
       "    border-collapse: collapse;\n",
       "  }\n",
       "  th, td {\n",
       "    padding: 5px;\n",
       "  }\n",
       "  th {\n",
       "    text-align: left;\n",
       "  }\n",
       "</style><div class='table-result-container'><table class='table-result'><thead style='background-color: white'><tr><th>num_affected_rows</th><th>num_inserted_rows</th></tr></thead><tbody><tr><td>15</td><td>15</td></tr></tbody></table></div>"
      ]
     },
     "metadata": {
      "application/vnd.databricks.v1+output": {
       "addedWidgets": {},
       "aggData": [],
       "aggError": "",
       "aggOverflow": false,
       "aggSchema": [],
       "aggSeriesLimitReached": false,
       "aggType": "",
       "arguments": {},
       "columnCustomDisplayInfos": {},
       "data": [
        [
         15,
         15
        ]
       ],
       "datasetInfos": [],
       "dbfsResultPath": null,
       "isJsonSchema": true,
       "metadata": {
        "isDbfsCommandResult": false
       },
       "overflow": false,
       "plotOptions": {
        "customPlotOptions": {},
        "displayType": "table",
        "pivotAggregation": null,
        "pivotColumns": null,
        "xColumns": null,
        "yColumns": null
       },
       "removedWidgets": [],
       "schema": [
        {
         "metadata": "{}",
         "name": "num_affected_rows",
         "type": "\"long\""
        },
        {
         "metadata": "{}",
         "name": "num_inserted_rows",
         "type": "\"long\""
        }
       ],
       "type": "table"
      }
     },
     "output_type": "display_data"
    }
   ],
   "source": [
    "%sql\n",
    "CREATE or replace  TABLE CombinationforThirdPlace(\n",
    "  ID INTEGER,\n",
    "  SELECTEDGROUPS VARCHAR(4),\n",
    "  TeamB1 CHAR(1),\n",
    "  TeamC1 CHAR(1),\n",
    "  TeamE1 CHAR(1),\n",
    "  TeamF1 CHAR(1)\n",
    ");\n",
    "\n",
    "-- Step 2: Insert the provided values into the \"THIRDMATCHUP\" table\n",
    "INSERT INTO  CombinationForThirdPlace (ID, SELECTEDGROUPS, TeamB1, TeamC1, TeamE1, TeamF1) VALUES\n",
    "(1, 'ABCD', 'A', 'D', 'B', 'C'),\n",
    "(2, 'ABCE', 'A', 'E', 'B', 'C'),\n",
    "(3, 'ABCF', 'A', 'F', 'B', 'C'),\n",
    "(4, 'ABDE', 'D', 'E', 'A', 'B'),\n",
    "(5, 'ABDF', 'D', 'F', 'A', 'B'),\n",
    "(6, 'ABEF', 'E', 'F', 'B', 'A'),\n",
    "(7, 'ACDE', 'E', 'D', 'C', 'A'),\n",
    "(8, 'ACDF', 'F', 'D', 'C', 'A'),\n",
    "(9, 'ACEF', 'E', 'F', 'C', 'A'),\n",
    "(10, 'ADEF', 'E', 'F', 'D', 'A'),\n",
    "(11, 'BCDE', 'E', 'D', 'B', 'C'),\n",
    "(12, 'BCDF', 'F', 'D', 'C', 'B'),\n",
    "(13, 'BCEF', 'F', 'E', 'C', 'B'),\n",
    "(14, 'BDEF', 'F', 'E', 'D', 'B'),\n",
    "(15, 'CDEF', 'F', 'E', 'D', 'C');"
   ]
  },
  {
   "cell_type": "code",
   "execution_count": 0,
   "metadata": {
    "application/vnd.databricks.v1+cell": {
     "cellMetadata": {
      "byteLimit": 2048000,
      "implicitDf": true,
      "rowLimit": 10000
     },
     "inputWidgets": {},
     "nuid": "d4c91401-4e3b-44bf-86ba-144f1afe2194",
     "showTitle": false,
     "title": ""
    }
   },
   "outputs": [
    {
     "output_type": "display_data",
     "data": {
      "text/html": [
       "<style scoped>\n",
       "  .table-result-container {\n",
       "    max-height: 300px;\n",
       "    overflow: auto;\n",
       "  }\n",
       "  table, th, td {\n",
       "    border: 1px solid black;\n",
       "    border-collapse: collapse;\n",
       "  }\n",
       "  th, td {\n",
       "    padding: 5px;\n",
       "  }\n",
       "  th {\n",
       "    text-align: left;\n",
       "  }\n",
       "</style><div class='table-result-container'><table class='table-result'><thead style='background-color: white'><tr><th>ID</th><th>SELECTEDGROUPS</th><th>TeamB1</th><th>TeamC1</th><th>TeamE1</th><th>TeamF1</th></tr></thead><tbody><tr><td>1</td><td>ABCD</td><td>A</td><td>D</td><td>B</td><td>C</td></tr><tr><td>2</td><td>ABCE</td><td>A</td><td>E</td><td>B</td><td>C</td></tr><tr><td>3</td><td>ABCF</td><td>A</td><td>F</td><td>B</td><td>C</td></tr><tr><td>4</td><td>ABDE</td><td>D</td><td>E</td><td>A</td><td>B</td></tr><tr><td>5</td><td>ABDF</td><td>D</td><td>F</td><td>A</td><td>B</td></tr><tr><td>6</td><td>ABEF</td><td>E</td><td>F</td><td>B</td><td>A</td></tr><tr><td>7</td><td>ACDE</td><td>E</td><td>D</td><td>C</td><td>A</td></tr><tr><td>8</td><td>ACDF</td><td>F</td><td>D</td><td>C</td><td>A</td></tr><tr><td>9</td><td>ACEF</td><td>E</td><td>F</td><td>C</td><td>A</td></tr><tr><td>10</td><td>ADEF</td><td>E</td><td>F</td><td>D</td><td>A</td></tr><tr><td>11</td><td>BCDE</td><td>E</td><td>D</td><td>B</td><td>C</td></tr><tr><td>12</td><td>BCDF</td><td>F</td><td>D</td><td>C</td><td>B</td></tr><tr><td>13</td><td>BCEF</td><td>F</td><td>E</td><td>C</td><td>B</td></tr><tr><td>14</td><td>BDEF</td><td>F</td><td>E</td><td>D</td><td>B</td></tr><tr><td>15</td><td>CDEF</td><td>F</td><td>E</td><td>D</td><td>C</td></tr></tbody></table></div>"
      ]
     },
     "metadata": {
      "application/vnd.databricks.v1+output": {
       "addedWidgets": {},
       "aggData": [],
       "aggError": "",
       "aggOverflow": false,
       "aggSchema": [],
       "aggSeriesLimitReached": false,
       "aggType": "",
       "arguments": {},
       "columnCustomDisplayInfos": {},
       "data": [
        [
         1,
         "ABCD",
         "A",
         "D",
         "B",
         "C"
        ],
        [
         2,
         "ABCE",
         "A",
         "E",
         "B",
         "C"
        ],
        [
         3,
         "ABCF",
         "A",
         "F",
         "B",
         "C"
        ],
        [
         4,
         "ABDE",
         "D",
         "E",
         "A",
         "B"
        ],
        [
         5,
         "ABDF",
         "D",
         "F",
         "A",
         "B"
        ],
        [
         6,
         "ABEF",
         "E",
         "F",
         "B",
         "A"
        ],
        [
         7,
         "ACDE",
         "E",
         "D",
         "C",
         "A"
        ],
        [
         8,
         "ACDF",
         "F",
         "D",
         "C",
         "A"
        ],
        [
         9,
         "ACEF",
         "E",
         "F",
         "C",
         "A"
        ],
        [
         10,
         "ADEF",
         "E",
         "F",
         "D",
         "A"
        ],
        [
         11,
         "BCDE",
         "E",
         "D",
         "B",
         "C"
        ],
        [
         12,
         "BCDF",
         "F",
         "D",
         "C",
         "B"
        ],
        [
         13,
         "BCEF",
         "F",
         "E",
         "C",
         "B"
        ],
        [
         14,
         "BDEF",
         "F",
         "E",
         "D",
         "B"
        ],
        [
         15,
         "CDEF",
         "F",
         "E",
         "D",
         "C"
        ]
       ],
       "datasetInfos": [],
       "dbfsResultPath": null,
       "isJsonSchema": true,
       "metadata": {
        "isDbfsCommandResult": false
       },
       "overflow": false,
       "plotOptions": {
        "customPlotOptions": {},
        "displayType": "table",
        "pivotAggregation": null,
        "pivotColumns": null,
        "xColumns": null,
        "yColumns": null
       },
       "removedWidgets": [],
       "schema": [
        {
         "metadata": "{}",
         "name": "ID",
         "type": "\"integer\""
        },
        {
         "metadata": "{\"__CHAR_VARCHAR_TYPE_STRING\":\"varchar(4)\"}",
         "name": "SELECTEDGROUPS",
         "type": "\"string\""
        },
        {
         "metadata": "{\"__CHAR_VARCHAR_TYPE_STRING\":\"char(1)\"}",
         "name": "TeamB1",
         "type": "\"string\""
        },
        {
         "metadata": "{\"__CHAR_VARCHAR_TYPE_STRING\":\"char(1)\"}",
         "name": "TeamC1",
         "type": "\"string\""
        },
        {
         "metadata": "{\"__CHAR_VARCHAR_TYPE_STRING\":\"char(1)\"}",
         "name": "TeamE1",
         "type": "\"string\""
        },
        {
         "metadata": "{\"__CHAR_VARCHAR_TYPE_STRING\":\"char(1)\"}",
         "name": "TeamF1",
         "type": "\"string\""
        }
       ],
       "type": "table"
      }
     },
     "output_type": "display_data"
    }
   ],
   "source": [
    "%sql\n",
    "select * from CombinationforThirdPlace"
   ]
  },
  {
   "cell_type": "code",
   "execution_count": 0,
   "metadata": {
    "application/vnd.databricks.v1+cell": {
     "cellMetadata": {
      "byteLimit": 2048000,
      "implicitDf": true,
      "rowLimit": 10000
     },
     "inputWidgets": {},
     "nuid": "c58f3615-9fbc-47ec-9448-cd9b4a0a1f45",
     "showTitle": false,
     "title": ""
    }
   },
   "outputs": [
    {
     "output_type": "display_data",
     "data": {
      "text/html": [
       "<style scoped>\n",
       "  .table-result-container {\n",
       "    max-height: 300px;\n",
       "    overflow: auto;\n",
       "  }\n",
       "  table, th, td {\n",
       "    border: 1px solid black;\n",
       "    border-collapse: collapse;\n",
       "  }\n",
       "  th, td {\n",
       "    padding: 5px;\n",
       "  }\n",
       "  th {\n",
       "    text-align: left;\n",
       "  }\n",
       "</style><div class='table-result-container'><table class='table-result'><thead style='background-color: white'><tr><th>TeamName</th><th>FinalCombination</th></tr></thead><tbody><tr><td>Spain</td><td>B</td></tr><tr><td>Serbia</td><td>C</td></tr><tr><td>Belgium</td><td>E</td></tr><tr><td>Portugal</td><td>F</td></tr></tbody></table></div>"
      ]
     },
     "metadata": {
      "application/vnd.databricks.v1+output": {
       "addedWidgets": {},
       "aggData": [],
       "aggError": "",
       "aggOverflow": false,
       "aggSchema": [],
       "aggSeriesLimitReached": false,
       "aggType": "",
       "arguments": {},
       "columnCustomDisplayInfos": {},
       "data": [
        [
         "Spain",
         "B"
        ],
        [
         "Serbia",
         "C"
        ],
        [
         "Belgium",
         "E"
        ],
        [
         "Portugal",
         "F"
        ]
       ],
       "datasetInfos": [],
       "dbfsResultPath": null,
       "isJsonSchema": true,
       "metadata": {
        "isDbfsCommandResult": false
       },
       "overflow": false,
       "plotOptions": {
        "customPlotOptions": {},
        "displayType": "table",
        "pivotAggregation": null,
        "pivotColumns": null,
        "xColumns": null,
        "yColumns": null
       },
       "removedWidgets": [],
       "schema": [
        {
         "metadata": "{\"__CHAR_VARCHAR_TYPE_STRING\":\"varchar(255)\"}",
         "name": "TeamName",
         "type": "\"string\""
        },
        {
         "metadata": "{}",
         "name": "FinalCombination",
         "type": "\"string\""
        }
       ],
       "type": "table"
      }
     },
     "output_type": "display_data"
    }
   ],
   "source": [
    "%sql\n",
    "SELECT\n",
    "    TeamName,\n",
    "    CONCAT_WS('', COLLECT_LIST(GroupCombination[0])) AS FinalCombination\n",
    "FROM (\n",
    "    SELECT\n",
    "        TeamName,\n",
    "        COLLECT_LIST(GroupName) AS GroupCombination\n",
    "    FROM\n",
    "        RoundOf16\n",
    "    WHERE\n",
    "        Rankings = 3\n",
    "    GROUP BY\n",
    "        TeamName\n",
    ")\n",
    "GROUP BY\n",
    "    TeamName;\n"
   ]
  },
  {
   "cell_type": "code",
   "execution_count": 0,
   "metadata": {
    "application/vnd.databricks.v1+cell": {
     "cellMetadata": {
      "byteLimit": 2048000,
      "rowLimit": 10000
     },
     "inputWidgets": {},
     "nuid": "850a23ce-da7a-40be-b65b-1926b66596da",
     "showTitle": false,
     "title": ""
    }
   },
   "outputs": [
    {
     "output_type": "display_data",
     "data": {
      "text/html": [
       "<style scoped>\n",
       "  .table-result-container {\n",
       "    max-height: 300px;\n",
       "    overflow: auto;\n",
       "  }\n",
       "  table, th, td {\n",
       "    border: 1px solid black;\n",
       "    border-collapse: collapse;\n",
       "  }\n",
       "  th, td {\n",
       "    padding: 5px;\n",
       "  }\n",
       "  th {\n",
       "    text-align: left;\n",
       "  }\n",
       "</style><div class='table-result-container'><table class='table-result'><thead style='background-color: white'><tr></tr></thead><tbody></tbody></table></div>"
      ]
     },
     "metadata": {
      "application/vnd.databricks.v1+output": {
       "addedWidgets": {},
       "aggData": [],
       "aggError": "",
       "aggOverflow": false,
       "aggSchema": [],
       "aggSeriesLimitReached": false,
       "aggType": "",
       "arguments": {},
       "columnCustomDisplayInfos": {},
       "data": [],
       "datasetInfos": [],
       "dbfsResultPath": null,
       "isJsonSchema": true,
       "metadata": {
        "isDbfsCommandResult": false
       },
       "overflow": false,
       "plotOptions": {
        "customPlotOptions": {},
        "displayType": "table",
        "pivotAggregation": null,
        "pivotColumns": null,
        "xColumns": null,
        "yColumns": null
       },
       "removedWidgets": [],
       "schema": [],
       "type": "table"
      }
     },
     "output_type": "display_data"
    }
   ],
   "source": [
    "%sql\n",
    "CREATE OR REPLACE VIEW MatchedCombinations AS\n",
    "SELECT\n",
    "    c.ID,\n",
    "    c.SELECTEDGROUPS,\n",
    "    c.TeamB1,\n",
    "    c.TeamC1,\n",
    "    c.TeamE1,\n",
    "    c.TeamF1,\n",
    "    r.FinalCombination\n",
    "FROM\n",
    "    CombinationForThirdPlace c\n",
    "JOIN (\n",
    "    SELECT\n",
    "        REGEXP_REPLACE(CONCAT_WS('', COLLECT_LIST(SUBSTRING(GroupName, 1))), '\\\\s', '') AS FinalCombination\n",
    "    FROM\n",
    "        RoundOf16\n",
    "    WHERE\n",
    "        Rankings = 3\n",
    ") r ON c.SELECTEDGROUPS = r.FinalCombination;\n"
   ]
  },
  {
   "cell_type": "code",
   "execution_count": 0,
   "metadata": {
    "application/vnd.databricks.v1+cell": {
     "cellMetadata": {
      "byteLimit": 2048000,
      "rowLimit": 10000
     },
     "inputWidgets": {},
     "nuid": "fe494919-8f0a-490f-8b06-a542e84b0c66",
     "showTitle": false,
     "title": ""
    }
   },
   "outputs": [
    {
     "output_type": "display_data",
     "data": {
      "text/html": [
       "<style scoped>\n",
       "  .table-result-container {\n",
       "    max-height: 300px;\n",
       "    overflow: auto;\n",
       "  }\n",
       "  table, th, td {\n",
       "    border: 1px solid black;\n",
       "    border-collapse: collapse;\n",
       "  }\n",
       "  th, td {\n",
       "    padding: 5px;\n",
       "  }\n",
       "  th {\n",
       "    text-align: left;\n",
       "  }\n",
       "</style><div class='table-result-container'><table class='table-result'><thead style='background-color: white'><tr><th>FinalCombination</th></tr></thead><tbody><tr><td>BCEF</td></tr></tbody></table></div>"
      ]
     },
     "metadata": {
      "application/vnd.databricks.v1+output": {
       "addedWidgets": {},
       "aggData": [],
       "aggError": "",
       "aggOverflow": false,
       "aggSchema": [],
       "aggSeriesLimitReached": false,
       "aggType": "",
       "arguments": {},
       "columnCustomDisplayInfos": {},
       "data": [
        [
         "BCEF"
        ]
       ],
       "datasetInfos": [],
       "dbfsResultPath": null,
       "isJsonSchema": true,
       "metadata": {
        "isDbfsCommandResult": false
       },
       "overflow": false,
       "plotOptions": {
        "customPlotOptions": {},
        "displayType": "table",
        "pivotAggregation": null,
        "pivotColumns": null,
        "xColumns": null,
        "yColumns": null
       },
       "removedWidgets": [],
       "schema": [
        {
         "metadata": "{}",
         "name": "FinalCombination",
         "type": "\"string\""
        }
       ],
       "type": "table"
      }
     },
     "output_type": "display_data"
    }
   ],
   "source": [
    "%sql\n",
    "SELECT\n",
    "        REGEXP_REPLACE(CONCAT_WS('', COLLECT_LIST(SUBSTRING(GroupName, 1))), '\\\\s', '') AS FinalCombination\n",
    "\n",
    "    FROM\n",
    "        RoundOf16\n",
    "    WHERE\n",
    "        Rankings = 3"
   ]
  },
  {
   "cell_type": "code",
   "execution_count": 0,
   "metadata": {
    "application/vnd.databricks.v1+cell": {
     "cellMetadata": {
      "byteLimit": 2048000,
      "rowLimit": 10000
     },
     "inputWidgets": {},
     "nuid": "3292addf-3cef-4fc5-8560-845b51948a7c",
     "showTitle": false,
     "title": ""
    }
   },
   "outputs": [
    {
     "output_type": "display_data",
     "data": {
      "text/html": [
       "<style scoped>\n",
       "  .table-result-container {\n",
       "    max-height: 300px;\n",
       "    overflow: auto;\n",
       "  }\n",
       "  table, th, td {\n",
       "    border: 1px solid black;\n",
       "    border-collapse: collapse;\n",
       "  }\n",
       "  th, td {\n",
       "    padding: 5px;\n",
       "  }\n",
       "  th {\n",
       "    text-align: left;\n",
       "  }\n",
       "</style><div class='table-result-container'><table class='table-result'><thead style='background-color: white'><tr><th>ID</th><th>SELECTEDGROUPS</th><th>TeamB1</th><th>TeamC1</th><th>TeamE1</th><th>TeamF1</th><th>FinalCombination</th></tr></thead><tbody><tr><td>13</td><td>BCEF</td><td>F</td><td>E</td><td>C</td><td>B</td><td>BCEF</td></tr></tbody></table></div>"
      ]
     },
     "metadata": {
      "application/vnd.databricks.v1+output": {
       "addedWidgets": {},
       "aggData": [],
       "aggError": "",
       "aggOverflow": false,
       "aggSchema": [],
       "aggSeriesLimitReached": false,
       "aggType": "",
       "arguments": {},
       "columnCustomDisplayInfos": {},
       "data": [
        [
         13,
         "BCEF",
         "F",
         "E",
         "C",
         "B",
         "BCEF"
        ]
       ],
       "datasetInfos": [],
       "dbfsResultPath": null,
       "isJsonSchema": true,
       "metadata": {
        "isDbfsCommandResult": false
       },
       "overflow": false,
       "plotOptions": {
        "customPlotOptions": {},
        "displayType": "table",
        "pivotAggregation": null,
        "pivotColumns": null,
        "xColumns": null,
        "yColumns": null
       },
       "removedWidgets": [],
       "schema": [
        {
         "metadata": "{}",
         "name": "ID",
         "type": "\"integer\""
        },
        {
         "metadata": "{\"__CHAR_VARCHAR_TYPE_STRING\":\"varchar(4)\"}",
         "name": "SELECTEDGROUPS",
         "type": "\"string\""
        },
        {
         "metadata": "{\"__CHAR_VARCHAR_TYPE_STRING\":\"char(1)\"}",
         "name": "TeamB1",
         "type": "\"string\""
        },
        {
         "metadata": "{\"__CHAR_VARCHAR_TYPE_STRING\":\"char(1)\"}",
         "name": "TeamC1",
         "type": "\"string\""
        },
        {
         "metadata": "{\"__CHAR_VARCHAR_TYPE_STRING\":\"char(1)\"}",
         "name": "TeamE1",
         "type": "\"string\""
        },
        {
         "metadata": "{\"__CHAR_VARCHAR_TYPE_STRING\":\"char(1)\"}",
         "name": "TeamF1",
         "type": "\"string\""
        },
        {
         "metadata": "{}",
         "name": "FinalCombination",
         "type": "\"string\""
        }
       ],
       "type": "table"
      }
     },
     "output_type": "display_data"
    }
   ],
   "source": [
    "%sql\n",
    "SELECT * FROM MatchedCombinations "
   ]
  },
  {
   "cell_type": "markdown",
   "metadata": {
    "application/vnd.databricks.v1+cell": {
     "cellMetadata": {
      "byteLimit": 2048000,
      "rowLimit": 10000
     },
     "inputWidgets": {},
     "nuid": "a6b4d250-c7d7-47a8-b55c-df5369209e33",
     "showTitle": false,
     "title": ""
    }
   },
   "source": [
    "UEFA set out the following schedule for the round of 16:\n",
    "- Match 1: Winner of Group B vs. 3rd-placed team from Group A/D/E/F\n",
    "\n",
    "- Match 2: Winner of Group A vs. Runner-up of Group C\n",
    "\n",
    "- Match 3: Winner of Group F vs. 3rd-placed team from Group A/B/C\n",
    "\n",
    "- Match 4: Runner-up of Group D vs. Runner-up of Group E\n",
    "\n",
    "- Match 5: Winner of Group E vs. 3rd-placed team from Group A/B/C/D\n",
    "\n",
    "- Match 6: Winner of Group D vs. Runner-up of Group F\n",
    "\n",
    "- Match 7: Winner of Group C vs. 3rd-placed team from Group D/E/F\n",
    "\n",
    "- Match 8: Runner-up of Group A vs. Runner-up of Group B"
   ]
  },
  {
   "cell_type": "code",
   "execution_count": 0,
   "metadata": {
    "application/vnd.databricks.v1+cell": {
     "cellMetadata": {
      "byteLimit": 2048000,
      "rowLimit": 10000
     },
     "inputWidgets": {},
     "nuid": "92c61982-a5e9-4df2-80d7-5221b51fc09a",
     "showTitle": false,
     "title": ""
    }
   },
   "outputs": [
    {
     "output_type": "display_data",
     "data": {
      "text/html": [
       "<style scoped>\n",
       "  .table-result-container {\n",
       "    max-height: 300px;\n",
       "    overflow: auto;\n",
       "  }\n",
       "  table, th, td {\n",
       "    border: 1px solid black;\n",
       "    border-collapse: collapse;\n",
       "  }\n",
       "  th, td {\n",
       "    padding: 5px;\n",
       "  }\n",
       "  th {\n",
       "    text-align: left;\n",
       "  }\n",
       "</style><div class='table-result-container'><table class='table-result'><thead style='background-color: white'><tr></tr></thead><tbody></tbody></table></div>"
      ]
     },
     "metadata": {
      "application/vnd.databricks.v1+output": {
       "addedWidgets": {},
       "aggData": [],
       "aggError": "",
       "aggOverflow": false,
       "aggSchema": [],
       "aggSeriesLimitReached": false,
       "aggType": "",
       "arguments": {},
       "columnCustomDisplayInfos": {},
       "data": [],
       "datasetInfos": [],
       "dbfsResultPath": null,
       "isJsonSchema": true,
       "metadata": {
        "isDbfsCommandResult": false
       },
       "overflow": false,
       "plotOptions": {
        "customPlotOptions": {},
        "displayType": "table",
        "pivotAggregation": null,
        "pivotColumns": null,
        "xColumns": null,
        "yColumns": null
       },
       "removedWidgets": [],
       "schema": [],
       "type": "table"
      }
     },
     "output_type": "display_data"
    }
   ],
   "source": [
    "%sql\n",
    "CREATE OR REPLACE TABLE MatchesFixtures (\n",
    "    MatchID INT,\n",
    "    Team1 VARCHAR(53),\n",
    "    Team1Goals INT,\n",
    "    Team2 VARCHAR(53),\n",
    "    Team2Goals INT,\n",
    "    Result VARCHAR(53),\n",
    "    MatchWinner VARCHAR(53),\n",
    "    MatchStage VARCHAR(53)\n",
    ");\n"
   ]
  },
  {
   "cell_type": "markdown",
   "metadata": {
    "application/vnd.databricks.v1+cell": {
     "cellMetadata": {
      "byteLimit": 2048000,
      "rowLimit": 10000
     },
     "inputWidgets": {},
     "nuid": "41d502eb-5c14-4ea3-bd0f-02a7d3779f0a",
     "showTitle": false,
     "title": ""
    }
   },
   "source": [
    "Creating a new table matchfixtures for inserting data from the quarterfinals\n"
   ]
  },
  {
   "cell_type": "code",
   "execution_count": 0,
   "metadata": {
    "application/vnd.databricks.v1+cell": {
     "cellMetadata": {
      "byteLimit": 2048000,
      "rowLimit": 10000
     },
     "inputWidgets": {},
     "nuid": "1f4f78a1-67ba-47c8-9234-1e5a65e87e31",
     "showTitle": false,
     "title": ""
    }
   },
   "outputs": [
    {
     "output_type": "display_data",
     "data": {
      "text/html": [
       "<style scoped>\n",
       "  .table-result-container {\n",
       "    max-height: 300px;\n",
       "    overflow: auto;\n",
       "  }\n",
       "  table, th, td {\n",
       "    border: 1px solid black;\n",
       "    border-collapse: collapse;\n",
       "  }\n",
       "  th, td {\n",
       "    padding: 5px;\n",
       "  }\n",
       "  th {\n",
       "    text-align: left;\n",
       "  }\n",
       "</style><div class='table-result-container'><table class='table-result'><thead style='background-color: white'><tr><th>num_affected_rows</th><th>num_inserted_rows</th></tr></thead><tbody><tr><td>8</td><td>8</td></tr></tbody></table></div>"
      ]
     },
     "metadata": {
      "application/vnd.databricks.v1+output": {
       "addedWidgets": {},
       "aggData": [],
       "aggError": "",
       "aggOverflow": false,
       "aggSchema": [],
       "aggSeriesLimitReached": false,
       "aggType": "",
       "arguments": {},
       "columnCustomDisplayInfos": {},
       "data": [
        [
         8,
         8
        ]
       ],
       "datasetInfos": [],
       "dbfsResultPath": null,
       "isJsonSchema": true,
       "metadata": {
        "isDbfsCommandResult": false
       },
       "overflow": false,
       "plotOptions": {
        "customPlotOptions": {},
        "displayType": "table",
        "pivotAggregation": null,
        "pivotColumns": null,
        "xColumns": null,
        "yColumns": null
       },
       "removedWidgets": [],
       "schema": [
        {
         "metadata": "{}",
         "name": "num_affected_rows",
         "type": "\"long\""
        },
        {
         "metadata": "{}",
         "name": "num_inserted_rows",
         "type": "\"long\""
        }
       ],
       "type": "table"
      }
     },
     "output_type": "display_data"
    }
   ],
   "source": [
    "%sql\n",
    "-- Insert match fixtures data\n",
    "INSERT INTO MatchesFixtures (MatchID, Team1, Team1Goals, Team2, Team2Goals, Result, MatchWinner, MatchStage)\n",
    "SELECT\n",
    "    ROW_NUMBER() OVER (ORDER BY \n",
    "      CASE\n",
    "        WHEN t1.Rankings = 1 AND t1.GroupName = 'B' THEN 1\n",
    "        WHEN t1.Rankings = 1 AND t1.GroupName = 'A' THEN 2\n",
    "        WHEN t1.Rankings = 1 AND t1.GroupName = 'F' THEN 3\n",
    "        WHEN t1.Rankings = 2 AND t1.GroupName = 'D' THEN 4\n",
    "        WHEN t1.Rankings = 1 AND t1.GroupName = 'E' THEN 5\n",
    "        WHEN t1.Rankings = 1 AND t1.GroupName = 'D' THEN 6\n",
    "        WHEN t1.Rankings = 1 AND t1.GroupName = 'C' THEN 7\n",
    "        WHEN t1.Rankings = 2 AND t1.GroupName = 'A' THEN 8\n",
    "\n",
    "      END\n",
    "    ) AS MatchID,\n",
    "    t1.TeamName AS Team1,\n",
    "    ROUND(RAND() * 6) AS Team1Goals,\n",
    "    t2.TeamName AS Team2,\n",
    "    ROUND(RAND() * 6) AS Team2Goals,\n",
    "    CONCAT(Team1Goals, '-', Team2Goals) AS Result,\n",
    "    CASE\n",
    "        WHEN Team1Goals > Team2Goals THEN t1.TeamName\n",
    "        WHEN Team2Goals > Team1Goals THEN t2.TeamName\n",
    "        ELSE\n",
    "          CASE\n",
    "            WHEN Team1 < Team2 THEN Team1\n",
    "            ELSE Team2\n",
    "          END\n",
    "    END AS MatchWinner,\n",
    "    'R16' AS MatchStage\n",
    "FROM RoundOf16 t1\n",
    "JOIN RoundOf16 t2 ON (\n",
    "    (t1.Rankings = 1 AND t1.GroupName = 'B' AND t2.Rankings = 3 AND t2.GroupName = (SELECT TeamB1 FROM MatchedCombinations)) OR\n",
    "    (t1.Rankings = 1 AND t1.GroupName = 'A' AND t2.Rankings = 2 AND t2.GroupName = 'C') OR\n",
    "    (t1.Rankings = 1 AND t1.GroupName = 'F' AND t2.Rankings = 3 AND t2.GroupName = (SELECT TeamF1 FROM MatchedCombinations)) OR\n",
    "    (t1.Rankings = 2 AND t1.GroupName = 'D' AND t2.Rankings = 2 AND t2.GroupName = 'E') OR\n",
    "    (t1.Rankings = 1 AND t1.GroupName = 'E' AND t2.Rankings = 3 AND t2.GroupName = (SELECT TeamE1 FROM MatchedCombinations)) OR\n",
    "    (t1.Rankings = 1 AND t1.GroupName = 'D' AND t2.Rankings = 2 AND t2.GroupName = 'F') OR\n",
    "    (t1.Rankings = 1 AND t1.GroupName = 'C' AND t2.Rankings = 3 AND t2.GroupName = (SELECT TeamC1 FROM MatchedCombinations)) OR\n",
    "    (t1.Rankings = 2 AND t1.GroupName = 'A' AND t2.Rankings = 2 AND t2.GroupName = 'B')\n",
    ");"
   ]
  },
  {
   "cell_type": "code",
   "execution_count": 0,
   "metadata": {
    "application/vnd.databricks.v1+cell": {
     "cellMetadata": {
      "byteLimit": 2048000,
      "rowLimit": 10000
     },
     "inputWidgets": {},
     "nuid": "efb89085-709e-4312-98c9-b0ef213ff8f5",
     "showTitle": false,
     "title": ""
    }
   },
   "outputs": [
    {
     "output_type": "display_data",
     "data": {
      "text/html": [
       "<style scoped>\n",
       "  .table-result-container {\n",
       "    max-height: 300px;\n",
       "    overflow: auto;\n",
       "  }\n",
       "  table, th, td {\n",
       "    border: 1px solid black;\n",
       "    border-collapse: collapse;\n",
       "  }\n",
       "  th, td {\n",
       "    padding: 5px;\n",
       "  }\n",
       "  th {\n",
       "    text-align: left;\n",
       "  }\n",
       "</style><div class='table-result-container'><table class='table-result'><thead style='background-color: white'><tr><th>MatchID</th><th>Team1</th><th>Team1Goals</th><th>Team2</th><th>Team2Goals</th><th>Result</th><th>MatchWinner</th><th>MatchStage</th></tr></thead><tbody><tr><td>1</td><td>Croatia</td><td>5</td><td>Portugal</td><td>5</td><td>5.0-5.0</td><td>Croatia</td><td>R16</td></tr><tr><td>2</td><td>Hungary</td><td>1</td><td>England</td><td>3</td><td>1.0-3.0</td><td>England</td><td>R16</td></tr><tr><td>3</td><td>Czech</td><td>1</td><td>Spain</td><td>1</td><td>1.0-1.0</td><td>Czech</td><td>R16</td></tr><tr><td>4</td><td>Netherlands</td><td>1</td><td>Romania</td><td>3</td><td>1.0-3.0</td><td>Romania</td><td>R16</td></tr><tr><td>5</td><td>Ukraine</td><td>6</td><td>Serbia</td><td>3</td><td>6.0-3.0</td><td>Ukraine</td><td>R16</td></tr><tr><td>6</td><td>Austria</td><td>4</td><td>Türkiye</td><td>3</td><td>4.0-3.0</td><td>Austria</td><td>R16</td></tr><tr><td>7</td><td>Slovenia</td><td>5</td><td>Belgium</td><td>4</td><td>5.0-4.0</td><td>Slovenia</td><td>R16</td></tr><tr><td>8</td><td>Scotland</td><td>2</td><td>Albania</td><td>4</td><td>2.0-4.0</td><td>Albania</td><td>R16</td></tr></tbody></table></div>"
      ]
     },
     "metadata": {
      "application/vnd.databricks.v1+output": {
       "addedWidgets": {},
       "aggData": [],
       "aggError": "",
       "aggOverflow": false,
       "aggSchema": [],
       "aggSeriesLimitReached": false,
       "aggType": "",
       "arguments": {},
       "columnCustomDisplayInfos": {},
       "data": [
        [
         1,
         "Croatia",
         5,
         "Portugal",
         5,
         "5.0-5.0",
         "Croatia",
         "R16"
        ],
        [
         2,
         "Hungary",
         1,
         "England",
         3,
         "1.0-3.0",
         "England",
         "R16"
        ],
        [
         3,
         "Czech",
         1,
         "Spain",
         1,
         "1.0-1.0",
         "Czech",
         "R16"
        ],
        [
         4,
         "Netherlands",
         1,
         "Romania",
         3,
         "1.0-3.0",
         "Romania",
         "R16"
        ],
        [
         5,
         "Ukraine",
         6,
         "Serbia",
         3,
         "6.0-3.0",
         "Ukraine",
         "R16"
        ],
        [
         6,
         "Austria",
         4,
         "Türkiye",
         3,
         "4.0-3.0",
         "Austria",
         "R16"
        ],
        [
         7,
         "Slovenia",
         5,
         "Belgium",
         4,
         "5.0-4.0",
         "Slovenia",
         "R16"
        ],
        [
         8,
         "Scotland",
         2,
         "Albania",
         4,
         "2.0-4.0",
         "Albania",
         "R16"
        ]
       ],
       "datasetInfos": [],
       "dbfsResultPath": null,
       "isJsonSchema": true,
       "metadata": {
        "isDbfsCommandResult": false
       },
       "overflow": false,
       "plotOptions": {
        "customPlotOptions": {},
        "displayType": "table",
        "pivotAggregation": null,
        "pivotColumns": null,
        "xColumns": null,
        "yColumns": null
       },
       "removedWidgets": [],
       "schema": [
        {
         "metadata": "{}",
         "name": "MatchID",
         "type": "\"integer\""
        },
        {
         "metadata": "{\"__CHAR_VARCHAR_TYPE_STRING\":\"varchar(53)\"}",
         "name": "Team1",
         "type": "\"string\""
        },
        {
         "metadata": "{}",
         "name": "Team1Goals",
         "type": "\"integer\""
        },
        {
         "metadata": "{\"__CHAR_VARCHAR_TYPE_STRING\":\"varchar(53)\"}",
         "name": "Team2",
         "type": "\"string\""
        },
        {
         "metadata": "{}",
         "name": "Team2Goals",
         "type": "\"integer\""
        },
        {
         "metadata": "{\"__CHAR_VARCHAR_TYPE_STRING\":\"varchar(53)\"}",
         "name": "Result",
         "type": "\"string\""
        },
        {
         "metadata": "{\"__CHAR_VARCHAR_TYPE_STRING\":\"varchar(53)\"}",
         "name": "MatchWinner",
         "type": "\"string\""
        },
        {
         "metadata": "{\"__CHAR_VARCHAR_TYPE_STRING\":\"varchar(53)\"}",
         "name": "MatchStage",
         "type": "\"string\""
        }
       ],
       "type": "table"
      }
     },
     "output_type": "display_data"
    }
   ],
   "source": [
    "%sql\n",
    "select * from MatchesFixtures "
   ]
  },
  {
   "cell_type": "code",
   "execution_count": 0,
   "metadata": {
    "application/vnd.databricks.v1+cell": {
     "cellMetadata": {
      "byteLimit": 2048000,
      "rowLimit": 10000
     },
     "inputWidgets": {},
     "nuid": "0d79fea8-e021-4b38-9159-50d954e1e40e",
     "showTitle": false,
     "title": ""
    }
   },
   "outputs": [
    {
     "output_type": "display_data",
     "data": {
      "text/html": [
       "<style scoped>\n",
       "  .table-result-container {\n",
       "    max-height: 300px;\n",
       "    overflow: auto;\n",
       "  }\n",
       "  table, th, td {\n",
       "    border: 1px solid black;\n",
       "    border-collapse: collapse;\n",
       "  }\n",
       "  th, td {\n",
       "    padding: 5px;\n",
       "  }\n",
       "  th {\n",
       "    text-align: left;\n",
       "  }\n",
       "</style><div class='table-result-container'><table class='table-result'><thead style='background-color: white'><tr><th>num_affected_rows</th></tr></thead><tbody><tr><td>4</td></tr></tbody></table></div>"
      ]
     },
     "metadata": {
      "application/vnd.databricks.v1+output": {
       "addedWidgets": {},
       "aggData": [],
       "aggError": "",
       "aggOverflow": false,
       "aggSchema": [],
       "aggSeriesLimitReached": false,
       "aggType": "",
       "arguments": {},
       "columnCustomDisplayInfos": {},
       "data": [
        [
         4
        ]
       ],
       "datasetInfos": [],
       "dbfsResultPath": null,
       "isJsonSchema": true,
       "metadata": {
        "isDbfsCommandResult": false
       },
       "overflow": false,
       "plotOptions": {
        "customPlotOptions": {},
        "displayType": "table",
        "pivotAggregation": null,
        "pivotColumns": null,
        "xColumns": null,
        "yColumns": null
       },
       "removedWidgets": [],
       "schema": [
        {
         "metadata": "{}",
         "name": "num_affected_rows",
         "type": "\"long\""
        }
       ],
       "type": "table"
      }
     },
     "output_type": "display_data"
    }
   ],
   "source": [
    "%sql\n",
    "INSERT INTO MatchesFixtures (MatchID, Team1, Team1Goals,Team2,Team2Goals, Result, MatchWinner, MatchStage)\n",
    "SELECT\n",
    "    ROW_NUMBER() OVER (ORDER BY 1) + 8 AS MatchID,\n",
    "    t1.MatchWinner AS Team1,\n",
    "    ROUND(RAND() * 6) AS Team1Goals,\n",
    "    t2.MatchWinner AS Team2,\n",
    "    ROUND(RAND() * 6) AS Team2Goals,\n",
    "    CONCAT(t1.Team1Goals, '-', t2.Team2Goals) AS Result,\n",
    "    'Not played' AS MatchWinner,\n",
    "    'QuarterFinals' AS MatchStage\n",
    "\n",
    "FROM MatchesFixtures t1\n",
    "CROSS JOIN MatchesFixtures t2\n",
    "ON\n",
    "  (t1.MatchID = 1 AND t2.MatchId = 2) OR\n",
    "  (t1.MatchID = 3 AND t2.MatchId = 4) OR\n",
    "  (t1.MatchID = 5 AND t2.MatchId = 6) OR\n",
    "  (t1.MatchID = 7 AND t2.MatchId = 8);\n",
    "\n",
    "UPDATE MatchesFixtures\n",
    "SET MatchWinner = \n",
    "    CASE\n",
    "        WHEN Team1Goals > Team2Goals THEN Team1\n",
    "        WHEN Team1Goals < Team2Goals THEN Team2\n",
    "        ELSE\n",
    "            CASE\n",
    "                WHEN Team1 < Team2 THEN Team1\n",
    "                ELSE Team2\n",
    "            END\n",
    "    END\n",
    "WHERE MatchStage = 'QuarterFinals';"
   ]
  },
  {
   "cell_type": "code",
   "execution_count": 0,
   "metadata": {
    "application/vnd.databricks.v1+cell": {
     "cellMetadata": {
      "byteLimit": 2048000,
      "rowLimit": 10000
     },
     "inputWidgets": {},
     "nuid": "9340c525-9a4e-46fb-ab0f-d7b201705638",
     "showTitle": false,
     "title": ""
    }
   },
   "outputs": [
    {
     "output_type": "display_data",
     "data": {
      "text/html": [
       "<style scoped>\n",
       "  .table-result-container {\n",
       "    max-height: 300px;\n",
       "    overflow: auto;\n",
       "  }\n",
       "  table, th, td {\n",
       "    border: 1px solid black;\n",
       "    border-collapse: collapse;\n",
       "  }\n",
       "  th, td {\n",
       "    padding: 5px;\n",
       "  }\n",
       "  th {\n",
       "    text-align: left;\n",
       "  }\n",
       "</style><div class='table-result-container'><table class='table-result'><thead style='background-color: white'><tr><th>MatchID</th><th>Team1</th><th>Team1Goals</th><th>Team2</th><th>Team2Goals</th><th>Result</th><th>MatchWinner</th><th>MatchStage</th></tr></thead><tbody><tr><td>1</td><td>Croatia</td><td>5</td><td>Portugal</td><td>5</td><td>5.0-5.0</td><td>Croatia</td><td>R16</td></tr><tr><td>2</td><td>Hungary</td><td>1</td><td>England</td><td>3</td><td>1.0-3.0</td><td>England</td><td>R16</td></tr><tr><td>3</td><td>Czech</td><td>1</td><td>Spain</td><td>1</td><td>1.0-1.0</td><td>Czech</td><td>R16</td></tr><tr><td>4</td><td>Netherlands</td><td>1</td><td>Romania</td><td>3</td><td>1.0-3.0</td><td>Romania</td><td>R16</td></tr><tr><td>5</td><td>Ukraine</td><td>6</td><td>Serbia</td><td>3</td><td>6.0-3.0</td><td>Ukraine</td><td>R16</td></tr><tr><td>6</td><td>Austria</td><td>4</td><td>Türkiye</td><td>3</td><td>4.0-3.0</td><td>Austria</td><td>R16</td></tr><tr><td>7</td><td>Slovenia</td><td>5</td><td>Belgium</td><td>4</td><td>5.0-4.0</td><td>Slovenia</td><td>R16</td></tr><tr><td>8</td><td>Scotland</td><td>2</td><td>Albania</td><td>4</td><td>2.0-4.0</td><td>Albania</td><td>R16</td></tr><tr><td>9</td><td>Croatia</td><td>5</td><td>England</td><td>2</td><td>5-3</td><td>Croatia</td><td>QuarterFinals</td></tr><tr><td>10</td><td>Czech</td><td>1</td><td>Romania</td><td>6</td><td>1-3</td><td>Romania</td><td>QuarterFinals</td></tr><tr><td>11</td><td>Ukraine</td><td>5</td><td>Austria</td><td>6</td><td>6-3</td><td>Austria</td><td>QuarterFinals</td></tr><tr><td>12</td><td>Slovenia</td><td>5</td><td>Albania</td><td>4</td><td>5-4</td><td>Slovenia</td><td>QuarterFinals</td></tr></tbody></table></div>"
      ]
     },
     "metadata": {
      "application/vnd.databricks.v1+output": {
       "addedWidgets": {},
       "aggData": [],
       "aggError": "",
       "aggOverflow": false,
       "aggSchema": [],
       "aggSeriesLimitReached": false,
       "aggType": "",
       "arguments": {},
       "columnCustomDisplayInfos": {},
       "data": [
        [
         1,
         "Croatia",
         5,
         "Portugal",
         5,
         "5.0-5.0",
         "Croatia",
         "R16"
        ],
        [
         2,
         "Hungary",
         1,
         "England",
         3,
         "1.0-3.0",
         "England",
         "R16"
        ],
        [
         3,
         "Czech",
         1,
         "Spain",
         1,
         "1.0-1.0",
         "Czech",
         "R16"
        ],
        [
         4,
         "Netherlands",
         1,
         "Romania",
         3,
         "1.0-3.0",
         "Romania",
         "R16"
        ],
        [
         5,
         "Ukraine",
         6,
         "Serbia",
         3,
         "6.0-3.0",
         "Ukraine",
         "R16"
        ],
        [
         6,
         "Austria",
         4,
         "Türkiye",
         3,
         "4.0-3.0",
         "Austria",
         "R16"
        ],
        [
         7,
         "Slovenia",
         5,
         "Belgium",
         4,
         "5.0-4.0",
         "Slovenia",
         "R16"
        ],
        [
         8,
         "Scotland",
         2,
         "Albania",
         4,
         "2.0-4.0",
         "Albania",
         "R16"
        ],
        [
         9,
         "Croatia",
         5,
         "England",
         2,
         "5-3",
         "Croatia",
         "QuarterFinals"
        ],
        [
         10,
         "Czech",
         1,
         "Romania",
         6,
         "1-3",
         "Romania",
         "QuarterFinals"
        ],
        [
         11,
         "Ukraine",
         5,
         "Austria",
         6,
         "6-3",
         "Austria",
         "QuarterFinals"
        ],
        [
         12,
         "Slovenia",
         5,
         "Albania",
         4,
         "5-4",
         "Slovenia",
         "QuarterFinals"
        ]
       ],
       "datasetInfos": [],
       "dbfsResultPath": null,
       "isJsonSchema": true,
       "metadata": {
        "isDbfsCommandResult": false
       },
       "overflow": false,
       "plotOptions": {
        "customPlotOptions": {},
        "displayType": "table",
        "pivotAggregation": null,
        "pivotColumns": null,
        "xColumns": null,
        "yColumns": null
       },
       "removedWidgets": [],
       "schema": [
        {
         "metadata": "{}",
         "name": "MatchID",
         "type": "\"integer\""
        },
        {
         "metadata": "{\"__CHAR_VARCHAR_TYPE_STRING\":\"varchar(53)\"}",
         "name": "Team1",
         "type": "\"string\""
        },
        {
         "metadata": "{}",
         "name": "Team1Goals",
         "type": "\"integer\""
        },
        {
         "metadata": "{\"__CHAR_VARCHAR_TYPE_STRING\":\"varchar(53)\"}",
         "name": "Team2",
         "type": "\"string\""
        },
        {
         "metadata": "{}",
         "name": "Team2Goals",
         "type": "\"integer\""
        },
        {
         "metadata": "{\"__CHAR_VARCHAR_TYPE_STRING\":\"varchar(53)\"}",
         "name": "Result",
         "type": "\"string\""
        },
        {
         "metadata": "{\"__CHAR_VARCHAR_TYPE_STRING\":\"varchar(53)\"}",
         "name": "MatchWinner",
         "type": "\"string\""
        },
        {
         "metadata": "{\"__CHAR_VARCHAR_TYPE_STRING\":\"varchar(53)\"}",
         "name": "MatchStage",
         "type": "\"string\""
        }
       ],
       "type": "table"
      }
     },
     "output_type": "display_data"
    }
   ],
   "source": [
    "%sql\n",
    "select * from MatchesFixtures"
   ]
  },
  {
   "cell_type": "markdown",
   "metadata": {
    "application/vnd.databricks.v1+cell": {
     "cellMetadata": {
      "byteLimit": 2048000,
      "rowLimit": 10000
     },
     "inputWidgets": {},
     "nuid": "33e2afb9-9cdb-4e4c-929b-9657a4c912ba",
     "showTitle": false,
     "title": ""
    }
   },
   "source": [
    "Semi-Finale\n"
   ]
  },
  {
   "cell_type": "code",
   "execution_count": 0,
   "metadata": {
    "application/vnd.databricks.v1+cell": {
     "cellMetadata": {
      "byteLimit": 2048000,
      "rowLimit": 10000
     },
     "inputWidgets": {},
     "nuid": "f2c38cce-a37b-4d7d-b1bb-68dfc9f0e6b1",
     "showTitle": false,
     "title": ""
    }
   },
   "outputs": [
    {
     "output_type": "display_data",
     "data": {
      "text/html": [
       "<style scoped>\n",
       "  .table-result-container {\n",
       "    max-height: 300px;\n",
       "    overflow: auto;\n",
       "  }\n",
       "  table, th, td {\n",
       "    border: 1px solid black;\n",
       "    border-collapse: collapse;\n",
       "  }\n",
       "  th, td {\n",
       "    padding: 5px;\n",
       "  }\n",
       "  th {\n",
       "    text-align: left;\n",
       "  }\n",
       "</style><div class='table-result-container'><table class='table-result'><thead style='background-color: white'><tr><th>num_affected_rows</th></tr></thead><tbody><tr><td>2</td></tr></tbody></table></div>"
      ]
     },
     "metadata": {
      "application/vnd.databricks.v1+output": {
       "addedWidgets": {},
       "aggData": [],
       "aggError": "",
       "aggOverflow": false,
       "aggSchema": [],
       "aggSeriesLimitReached": false,
       "aggType": "",
       "arguments": {},
       "columnCustomDisplayInfos": {},
       "data": [
        [
         2
        ]
       ],
       "datasetInfos": [],
       "dbfsResultPath": null,
       "isJsonSchema": true,
       "metadata": {
        "isDbfsCommandResult": false
       },
       "overflow": false,
       "plotOptions": {
        "customPlotOptions": {},
        "displayType": "table",
        "pivotAggregation": null,
        "pivotColumns": null,
        "xColumns": null,
        "yColumns": null
       },
       "removedWidgets": [],
       "schema": [
        {
         "metadata": "{}",
         "name": "num_affected_rows",
         "type": "\"long\""
        }
       ],
       "type": "table"
      }
     },
     "output_type": "display_data"
    }
   ],
   "source": [
    "%sql\n",
    "INSERT INTO MatchesFixtures (MatchID, Team1, Team1Goals,Team2,Team2Goals, Result, MatchWinner, MatchStage)\n",
    "SELECT\n",
    "    ROW_NUMBER() OVER (ORDER BY 1) + 12 AS MatchID,\n",
    "    t1.MatchWinner AS Team1,\n",
    "    ROUND(RAND() * 6) AS Team1Goals,\n",
    "    t2.MatchWinner AS Team2,\n",
    "    ROUND(RAND() * 6) AS Team2Goals,\n",
    "    CONCAT(t1.Team1Goals, '-', t2.Team2Goals) AS Result,\n",
    "    'Not played' AS MatchWinner,\n",
    "    'SemiFinals' AS MatchStage\n",
    "\n",
    "FROM MatchesFixtures t1\n",
    "CROSS JOIN MatchesFixtures t2\n",
    "ON\n",
    "  (t1.MatchID = 9 AND t2.MatchId = 10) OR\n",
    "  (t1.MatchID = 11 AND t2.MatchId = 12);\n",
    "\n",
    "UPDATE MatchesFixtures\n",
    "SET MatchWinner = \n",
    "    CASE\n",
    "        WHEN Team1Goals > Team2Goals THEN Team1\n",
    "        WHEN Team1Goals < Team2Goals THEN Team2\n",
    "        ELSE\n",
    "            CASE\n",
    "                WHEN Team1 < Team2 THEN Team1\n",
    "                ELSE Team2\n",
    "            END\n",
    "    END\n",
    "WHERE MatchStage = 'SemiFinals';"
   ]
  },
  {
   "cell_type": "code",
   "execution_count": 0,
   "metadata": {
    "application/vnd.databricks.v1+cell": {
     "cellMetadata": {
      "byteLimit": 2048000,
      "rowLimit": 10000
     },
     "inputWidgets": {},
     "nuid": "bcb6119a-f4a2-4a6a-af15-c1a49078b9ae",
     "showTitle": false,
     "title": ""
    }
   },
   "outputs": [
    {
     "output_type": "display_data",
     "data": {
      "text/html": [
       "<style scoped>\n",
       "  .table-result-container {\n",
       "    max-height: 300px;\n",
       "    overflow: auto;\n",
       "  }\n",
       "  table, th, td {\n",
       "    border: 1px solid black;\n",
       "    border-collapse: collapse;\n",
       "  }\n",
       "  th, td {\n",
       "    padding: 5px;\n",
       "  }\n",
       "  th {\n",
       "    text-align: left;\n",
       "  }\n",
       "</style><div class='table-result-container'><table class='table-result'><thead style='background-color: white'><tr><th>MatchID</th><th>Team1</th><th>Team1Goals</th><th>Team2</th><th>Team2Goals</th><th>Result</th><th>MatchWinner</th><th>MatchStage</th></tr></thead><tbody><tr><td>1</td><td>Croatia</td><td>5</td><td>Portugal</td><td>5</td><td>5.0-5.0</td><td>Croatia</td><td>R16</td></tr><tr><td>2</td><td>Hungary</td><td>1</td><td>England</td><td>3</td><td>1.0-3.0</td><td>England</td><td>R16</td></tr><tr><td>3</td><td>Czech</td><td>1</td><td>Spain</td><td>1</td><td>1.0-1.0</td><td>Czech</td><td>R16</td></tr><tr><td>4</td><td>Netherlands</td><td>1</td><td>Romania</td><td>3</td><td>1.0-3.0</td><td>Romania</td><td>R16</td></tr><tr><td>5</td><td>Ukraine</td><td>6</td><td>Serbia</td><td>3</td><td>6.0-3.0</td><td>Ukraine</td><td>R16</td></tr><tr><td>6</td><td>Austria</td><td>4</td><td>Türkiye</td><td>3</td><td>4.0-3.0</td><td>Austria</td><td>R16</td></tr><tr><td>7</td><td>Slovenia</td><td>5</td><td>Belgium</td><td>4</td><td>5.0-4.0</td><td>Slovenia</td><td>R16</td></tr><tr><td>8</td><td>Scotland</td><td>2</td><td>Albania</td><td>4</td><td>2.0-4.0</td><td>Albania</td><td>R16</td></tr><tr><td>9</td><td>Croatia</td><td>5</td><td>England</td><td>2</td><td>5-3</td><td>Croatia</td><td>QuarterFinals</td></tr><tr><td>10</td><td>Czech</td><td>1</td><td>Romania</td><td>6</td><td>1-3</td><td>Romania</td><td>QuarterFinals</td></tr><tr><td>11</td><td>Ukraine</td><td>5</td><td>Austria</td><td>6</td><td>6-3</td><td>Austria</td><td>QuarterFinals</td></tr><tr><td>12</td><td>Slovenia</td><td>5</td><td>Albania</td><td>4</td><td>5-4</td><td>Slovenia</td><td>QuarterFinals</td></tr><tr><td>13</td><td>Croatia</td><td>3</td><td>Romania</td><td>2</td><td>5-6</td><td>Croatia</td><td>SemiFinals</td></tr><tr><td>14</td><td>Austria</td><td>4</td><td>Slovenia</td><td>0</td><td>5-4</td><td>Austria</td><td>SemiFinals</td></tr></tbody></table></div>"
      ]
     },
     "metadata": {
      "application/vnd.databricks.v1+output": {
       "addedWidgets": {},
       "aggData": [],
       "aggError": "",
       "aggOverflow": false,
       "aggSchema": [],
       "aggSeriesLimitReached": false,
       "aggType": "",
       "arguments": {},
       "columnCustomDisplayInfos": {},
       "data": [
        [
         1,
         "Croatia",
         5,
         "Portugal",
         5,
         "5.0-5.0",
         "Croatia",
         "R16"
        ],
        [
         2,
         "Hungary",
         1,
         "England",
         3,
         "1.0-3.0",
         "England",
         "R16"
        ],
        [
         3,
         "Czech",
         1,
         "Spain",
         1,
         "1.0-1.0",
         "Czech",
         "R16"
        ],
        [
         4,
         "Netherlands",
         1,
         "Romania",
         3,
         "1.0-3.0",
         "Romania",
         "R16"
        ],
        [
         5,
         "Ukraine",
         6,
         "Serbia",
         3,
         "6.0-3.0",
         "Ukraine",
         "R16"
        ],
        [
         6,
         "Austria",
         4,
         "Türkiye",
         3,
         "4.0-3.0",
         "Austria",
         "R16"
        ],
        [
         7,
         "Slovenia",
         5,
         "Belgium",
         4,
         "5.0-4.0",
         "Slovenia",
         "R16"
        ],
        [
         8,
         "Scotland",
         2,
         "Albania",
         4,
         "2.0-4.0",
         "Albania",
         "R16"
        ],
        [
         9,
         "Croatia",
         5,
         "England",
         2,
         "5-3",
         "Croatia",
         "QuarterFinals"
        ],
        [
         10,
         "Czech",
         1,
         "Romania",
         6,
         "1-3",
         "Romania",
         "QuarterFinals"
        ],
        [
         11,
         "Ukraine",
         5,
         "Austria",
         6,
         "6-3",
         "Austria",
         "QuarterFinals"
        ],
        [
         12,
         "Slovenia",
         5,
         "Albania",
         4,
         "5-4",
         "Slovenia",
         "QuarterFinals"
        ],
        [
         13,
         "Croatia",
         3,
         "Romania",
         2,
         "5-6",
         "Croatia",
         "SemiFinals"
        ],
        [
         14,
         "Austria",
         4,
         "Slovenia",
         0,
         "5-4",
         "Austria",
         "SemiFinals"
        ]
       ],
       "datasetInfos": [],
       "dbfsResultPath": null,
       "isJsonSchema": true,
       "metadata": {
        "isDbfsCommandResult": false
       },
       "overflow": false,
       "plotOptions": {
        "customPlotOptions": {},
        "displayType": "table",
        "pivotAggregation": null,
        "pivotColumns": null,
        "xColumns": null,
        "yColumns": null
       },
       "removedWidgets": [],
       "schema": [
        {
         "metadata": "{}",
         "name": "MatchID",
         "type": "\"integer\""
        },
        {
         "metadata": "{\"__CHAR_VARCHAR_TYPE_STRING\":\"varchar(53)\"}",
         "name": "Team1",
         "type": "\"string\""
        },
        {
         "metadata": "{}",
         "name": "Team1Goals",
         "type": "\"integer\""
        },
        {
         "metadata": "{\"__CHAR_VARCHAR_TYPE_STRING\":\"varchar(53)\"}",
         "name": "Team2",
         "type": "\"string\""
        },
        {
         "metadata": "{}",
         "name": "Team2Goals",
         "type": "\"integer\""
        },
        {
         "metadata": "{\"__CHAR_VARCHAR_TYPE_STRING\":\"varchar(53)\"}",
         "name": "Result",
         "type": "\"string\""
        },
        {
         "metadata": "{\"__CHAR_VARCHAR_TYPE_STRING\":\"varchar(53)\"}",
         "name": "MatchWinner",
         "type": "\"string\""
        },
        {
         "metadata": "{\"__CHAR_VARCHAR_TYPE_STRING\":\"varchar(53)\"}",
         "name": "MatchStage",
         "type": "\"string\""
        }
       ],
       "type": "table"
      }
     },
     "output_type": "display_data"
    }
   ],
   "source": [
    "%sql\n",
    "select * from MatchesFixtures"
   ]
  },
  {
   "cell_type": "markdown",
   "metadata": {
    "application/vnd.databricks.v1+cell": {
     "cellMetadata": {
      "byteLimit": 2048000,
      "rowLimit": 10000
     },
     "inputWidgets": {},
     "nuid": "1f71a726-2a27-4979-8dbc-26d172914173",
     "showTitle": false,
     "title": ""
    }
   },
   "source": [
    "Third place"
   ]
  },
  {
   "cell_type": "code",
   "execution_count": 0,
   "metadata": {
    "application/vnd.databricks.v1+cell": {
     "cellMetadata": {
      "byteLimit": 2048000,
      "rowLimit": 10000
     },
     "inputWidgets": {},
     "nuid": "aff05ad6-5add-41b5-b90e-7274a63574d0",
     "showTitle": false,
     "title": ""
    }
   },
   "outputs": [
    {
     "output_type": "display_data",
     "data": {
      "text/html": [
       "<style scoped>\n",
       "  .table-result-container {\n",
       "    max-height: 300px;\n",
       "    overflow: auto;\n",
       "  }\n",
       "  table, th, td {\n",
       "    border: 1px solid black;\n",
       "    border-collapse: collapse;\n",
       "  }\n",
       "  th, td {\n",
       "    padding: 5px;\n",
       "  }\n",
       "  th {\n",
       "    text-align: left;\n",
       "  }\n",
       "</style><div class='table-result-container'><table class='table-result'><thead style='background-color: white'><tr><th>num_affected_rows</th></tr></thead><tbody><tr><td>1</td></tr></tbody></table></div>"
      ]
     },
     "metadata": {
      "application/vnd.databricks.v1+output": {
       "addedWidgets": {},
       "aggData": [],
       "aggError": "",
       "aggOverflow": false,
       "aggSchema": [],
       "aggSeriesLimitReached": false,
       "aggType": "",
       "arguments": {},
       "columnCustomDisplayInfos": {},
       "data": [
        [
         1
        ]
       ],
       "datasetInfos": [],
       "dbfsResultPath": null,
       "isJsonSchema": true,
       "metadata": {
        "isDbfsCommandResult": false
       },
       "overflow": false,
       "plotOptions": {
        "customPlotOptions": {},
        "displayType": "table",
        "pivotAggregation": null,
        "pivotColumns": null,
        "xColumns": null,
        "yColumns": null
       },
       "removedWidgets": [],
       "schema": [
        {
         "metadata": "{}",
         "name": "num_affected_rows",
         "type": "\"long\""
        }
       ],
       "type": "table"
      }
     },
     "output_type": "display_data"
    }
   ],
   "source": [
    "%sql\n",
    "INSERT INTO MatchesFixtures (MatchID, Team1, Team1Goals,Team2,Team2Goals, Result, MatchWinner, MatchStage)\n",
    "SELECT\n",
    "    ROW_NUMBER() OVER (ORDER BY 1) + 14 AS MatchID,\n",
    "    CASE\n",
    "      WHEN\n",
    "        t1.MatchWinner!= t1.Team1 THEN t1.Team1 ELSE t1.Team2\n",
    "        END AS Team1,\n",
    "    ROUND(RAND() * 6) AS Team1Goals,\n",
    "    CASE\n",
    "      WHEN\n",
    "        t2.MatchWinner!= t2.Team2 THEN t2.Team2 ELSE t2.Team1\n",
    "        END AS Team2,\n",
    "    ROUND(RAND() * 6) AS Team2Goals,\n",
    "    CONCAT(t1.Team1Goals, '-', t2.Team2Goals) AS Result,\n",
    "    'Not Played' AS MatchWinner,\n",
    "    'ThirdPlace' AS MatchStage\n",
    "FROM MatchesFixtures t1\n",
    "CROSS JOIN MatchesFixtures t2\n",
    "ON\n",
    "  (t1.MatchID = 13 AND t2.MatchId = 14);\n",
    "\n",
    "UPDATE MatchesFixtures\n",
    "SET MatchWinner = \n",
    "    CASE\n",
    "        WHEN Team1Goals > Team2Goals THEN Team1\n",
    "        WHEN Team1Goals < Team2Goals THEN Team2\n",
    "        ELSE\n",
    "            CASE\n",
    "                WHEN Team1 < Team2 THEN Team1\n",
    "                ELSE Team2\n",
    "            END\n",
    "    END\n",
    "WHERE MatchStage = 'ThirdPlace';\n"
   ]
  },
  {
   "cell_type": "code",
   "execution_count": 0,
   "metadata": {
    "application/vnd.databricks.v1+cell": {
     "cellMetadata": {
      "byteLimit": 2048000,
      "rowLimit": 10000
     },
     "inputWidgets": {},
     "nuid": "140c0247-26c1-4596-b2a5-494c38541a86",
     "showTitle": false,
     "title": ""
    }
   },
   "outputs": [
    {
     "output_type": "display_data",
     "data": {
      "text/html": [
       "<style scoped>\n",
       "  .table-result-container {\n",
       "    max-height: 300px;\n",
       "    overflow: auto;\n",
       "  }\n",
       "  table, th, td {\n",
       "    border: 1px solid black;\n",
       "    border-collapse: collapse;\n",
       "  }\n",
       "  th, td {\n",
       "    padding: 5px;\n",
       "  }\n",
       "  th {\n",
       "    text-align: left;\n",
       "  }\n",
       "</style><div class='table-result-container'><table class='table-result'><thead style='background-color: white'><tr><th>MatchID</th><th>Team1</th><th>Team1Goals</th><th>Team2</th><th>Team2Goals</th><th>Result</th><th>MatchWinner</th><th>MatchStage</th></tr></thead><tbody><tr><td>1</td><td>Croatia</td><td>5</td><td>Portugal</td><td>5</td><td>5.0-5.0</td><td>Croatia</td><td>R16</td></tr><tr><td>2</td><td>Hungary</td><td>1</td><td>England</td><td>3</td><td>1.0-3.0</td><td>England</td><td>R16</td></tr><tr><td>3</td><td>Czech</td><td>1</td><td>Spain</td><td>1</td><td>1.0-1.0</td><td>Czech</td><td>R16</td></tr><tr><td>4</td><td>Netherlands</td><td>1</td><td>Romania</td><td>3</td><td>1.0-3.0</td><td>Romania</td><td>R16</td></tr><tr><td>5</td><td>Ukraine</td><td>6</td><td>Serbia</td><td>3</td><td>6.0-3.0</td><td>Ukraine</td><td>R16</td></tr><tr><td>6</td><td>Austria</td><td>4</td><td>Türkiye</td><td>3</td><td>4.0-3.0</td><td>Austria</td><td>R16</td></tr><tr><td>7</td><td>Slovenia</td><td>5</td><td>Belgium</td><td>4</td><td>5.0-4.0</td><td>Slovenia</td><td>R16</td></tr><tr><td>8</td><td>Scotland</td><td>2</td><td>Albania</td><td>4</td><td>2.0-4.0</td><td>Albania</td><td>R16</td></tr><tr><td>9</td><td>Croatia</td><td>5</td><td>England</td><td>2</td><td>5-3</td><td>Croatia</td><td>QuarterFinals</td></tr><tr><td>10</td><td>Czech</td><td>1</td><td>Romania</td><td>6</td><td>1-3</td><td>Romania</td><td>QuarterFinals</td></tr><tr><td>11</td><td>Ukraine</td><td>5</td><td>Austria</td><td>6</td><td>6-3</td><td>Austria</td><td>QuarterFinals</td></tr><tr><td>12</td><td>Slovenia</td><td>5</td><td>Albania</td><td>4</td><td>5-4</td><td>Slovenia</td><td>QuarterFinals</td></tr><tr><td>13</td><td>Croatia</td><td>3</td><td>Romania</td><td>2</td><td>5-6</td><td>Croatia</td><td>SemiFinals</td></tr><tr><td>14</td><td>Austria</td><td>4</td><td>Slovenia</td><td>0</td><td>5-4</td><td>Austria</td><td>SemiFinals</td></tr><tr><td>15</td><td>Romania</td><td>5</td><td>Slovenia</td><td>3</td><td>3-0</td><td>Romania</td><td>ThirdPlace</td></tr></tbody></table></div>"
      ]
     },
     "metadata": {
      "application/vnd.databricks.v1+output": {
       "addedWidgets": {},
       "aggData": [],
       "aggError": "",
       "aggOverflow": false,
       "aggSchema": [],
       "aggSeriesLimitReached": false,
       "aggType": "",
       "arguments": {},
       "columnCustomDisplayInfos": {},
       "data": [
        [
         1,
         "Croatia",
         5,
         "Portugal",
         5,
         "5.0-5.0",
         "Croatia",
         "R16"
        ],
        [
         2,
         "Hungary",
         1,
         "England",
         3,
         "1.0-3.0",
         "England",
         "R16"
        ],
        [
         3,
         "Czech",
         1,
         "Spain",
         1,
         "1.0-1.0",
         "Czech",
         "R16"
        ],
        [
         4,
         "Netherlands",
         1,
         "Romania",
         3,
         "1.0-3.0",
         "Romania",
         "R16"
        ],
        [
         5,
         "Ukraine",
         6,
         "Serbia",
         3,
         "6.0-3.0",
         "Ukraine",
         "R16"
        ],
        [
         6,
         "Austria",
         4,
         "Türkiye",
         3,
         "4.0-3.0",
         "Austria",
         "R16"
        ],
        [
         7,
         "Slovenia",
         5,
         "Belgium",
         4,
         "5.0-4.0",
         "Slovenia",
         "R16"
        ],
        [
         8,
         "Scotland",
         2,
         "Albania",
         4,
         "2.0-4.0",
         "Albania",
         "R16"
        ],
        [
         9,
         "Croatia",
         5,
         "England",
         2,
         "5-3",
         "Croatia",
         "QuarterFinals"
        ],
        [
         10,
         "Czech",
         1,
         "Romania",
         6,
         "1-3",
         "Romania",
         "QuarterFinals"
        ],
        [
         11,
         "Ukraine",
         5,
         "Austria",
         6,
         "6-3",
         "Austria",
         "QuarterFinals"
        ],
        [
         12,
         "Slovenia",
         5,
         "Albania",
         4,
         "5-4",
         "Slovenia",
         "QuarterFinals"
        ],
        [
         13,
         "Croatia",
         3,
         "Romania",
         2,
         "5-6",
         "Croatia",
         "SemiFinals"
        ],
        [
         14,
         "Austria",
         4,
         "Slovenia",
         0,
         "5-4",
         "Austria",
         "SemiFinals"
        ],
        [
         15,
         "Romania",
         5,
         "Slovenia",
         3,
         "3-0",
         "Romania",
         "ThirdPlace"
        ]
       ],
       "datasetInfos": [],
       "dbfsResultPath": null,
       "isJsonSchema": true,
       "metadata": {
        "isDbfsCommandResult": false
       },
       "overflow": false,
       "plotOptions": {
        "customPlotOptions": {},
        "displayType": "table",
        "pivotAggregation": null,
        "pivotColumns": null,
        "xColumns": null,
        "yColumns": null
       },
       "removedWidgets": [],
       "schema": [
        {
         "metadata": "{}",
         "name": "MatchID",
         "type": "\"integer\""
        },
        {
         "metadata": "{\"__CHAR_VARCHAR_TYPE_STRING\":\"varchar(53)\"}",
         "name": "Team1",
         "type": "\"string\""
        },
        {
         "metadata": "{}",
         "name": "Team1Goals",
         "type": "\"integer\""
        },
        {
         "metadata": "{\"__CHAR_VARCHAR_TYPE_STRING\":\"varchar(53)\"}",
         "name": "Team2",
         "type": "\"string\""
        },
        {
         "metadata": "{}",
         "name": "Team2Goals",
         "type": "\"integer\""
        },
        {
         "metadata": "{\"__CHAR_VARCHAR_TYPE_STRING\":\"varchar(53)\"}",
         "name": "Result",
         "type": "\"string\""
        },
        {
         "metadata": "{\"__CHAR_VARCHAR_TYPE_STRING\":\"varchar(53)\"}",
         "name": "MatchWinner",
         "type": "\"string\""
        },
        {
         "metadata": "{\"__CHAR_VARCHAR_TYPE_STRING\":\"varchar(53)\"}",
         "name": "MatchStage",
         "type": "\"string\""
        }
       ],
       "type": "table"
      }
     },
     "output_type": "display_data"
    }
   ],
   "source": [
    "%sql\n",
    "select * from MatchesFixtures"
   ]
  },
  {
   "cell_type": "markdown",
   "metadata": {
    "application/vnd.databricks.v1+cell": {
     "cellMetadata": {
      "byteLimit": 2048000,
      "rowLimit": 10000
     },
     "inputWidgets": {},
     "nuid": "e16995a8-8e60-47f6-82fa-0a29132e6b48",
     "showTitle": false,
     "title": ""
    }
   },
   "source": [
    "Finals"
   ]
  },
  {
   "cell_type": "code",
   "execution_count": 0,
   "metadata": {
    "application/vnd.databricks.v1+cell": {
     "cellMetadata": {
      "byteLimit": 2048000,
      "rowLimit": 10000
     },
     "inputWidgets": {},
     "nuid": "4ab1769c-b2a8-4686-8082-379151916b64",
     "showTitle": false,
     "title": ""
    }
   },
   "outputs": [
    {
     "output_type": "display_data",
     "data": {
      "text/html": [
       "<style scoped>\n",
       "  .table-result-container {\n",
       "    max-height: 300px;\n",
       "    overflow: auto;\n",
       "  }\n",
       "  table, th, td {\n",
       "    border: 1px solid black;\n",
       "    border-collapse: collapse;\n",
       "  }\n",
       "  th, td {\n",
       "    padding: 5px;\n",
       "  }\n",
       "  th {\n",
       "    text-align: left;\n",
       "  }\n",
       "</style><div class='table-result-container'><table class='table-result'><thead style='background-color: white'><tr><th>num_affected_rows</th></tr></thead><tbody><tr><td>1</td></tr></tbody></table></div>"
      ]
     },
     "metadata": {
      "application/vnd.databricks.v1+output": {
       "addedWidgets": {},
       "aggData": [],
       "aggError": "",
       "aggOverflow": false,
       "aggSchema": [],
       "aggSeriesLimitReached": false,
       "aggType": "",
       "arguments": {},
       "columnCustomDisplayInfos": {},
       "data": [
        [
         1
        ]
       ],
       "datasetInfos": [],
       "dbfsResultPath": null,
       "isJsonSchema": true,
       "metadata": {
        "isDbfsCommandResult": false
       },
       "overflow": false,
       "plotOptions": {
        "customPlotOptions": {},
        "displayType": "table",
        "pivotAggregation": null,
        "pivotColumns": null,
        "xColumns": null,
        "yColumns": null
       },
       "removedWidgets": [],
       "schema": [
        {
         "metadata": "{}",
         "name": "num_affected_rows",
         "type": "\"long\""
        }
       ],
       "type": "table"
      }
     },
     "output_type": "display_data"
    }
   ],
   "source": [
    "%sql\n",
    "INSERT INTO MatchesFixtures (MatchID, Team1, Team1Goals,Team2,Team2Goals, Result, MatchWinner, MatchStage)\n",
    "SELECT\n",
    "    ROW_NUMBER() OVER (ORDER BY 1) + 15 AS MatchID,\n",
    "    t1.MatchWinner AS Team1,\n",
    "    ROUND(RAND() * 6) AS Team1Goals,\n",
    "    t2.MatchWinner AS Team2,\n",
    "    ROUND(RAND() * 6) AS Team2Goals,\n",
    "    CONCAT(t1.Team1Goals, '-', t2.Team2Goals) AS Result,\n",
    "    'Not played' AS MatchWinner,\n",
    "    'Finals' AS MatchStage\n",
    "\n",
    "FROM MatchesFixtures t1\n",
    "CROSS JOIN MatchesFixtures t2\n",
    "ON\n",
    "  (t1.MatchID = 13 AND t2.MatchId = 14);\n",
    "\n",
    "UPDATE MatchesFixtures\n",
    "SET MatchWinner = \n",
    "    CASE\n",
    "        WHEN Team1Goals > Team2Goals THEN Team1\n",
    "        WHEN Team1Goals < Team2Goals THEN Team2\n",
    "        ELSE\n",
    "            CASE\n",
    "                WHEN Team1 < Team2 THEN Team1\n",
    "                ELSE Team2\n",
    "            END\n",
    "    END\n",
    "WHERE MatchStage = 'Finals';"
   ]
  },
  {
   "cell_type": "code",
   "execution_count": 0,
   "metadata": {
    "application/vnd.databricks.v1+cell": {
     "cellMetadata": {
      "byteLimit": 2048000,
      "rowLimit": 10000
     },
     "inputWidgets": {},
     "nuid": "387f96a9-1634-405b-9386-0622b5345e1f",
     "showTitle": false,
     "title": ""
    }
   },
   "outputs": [
    {
     "output_type": "display_data",
     "data": {
      "text/html": [
       "<style scoped>\n",
       "  .table-result-container {\n",
       "    max-height: 300px;\n",
       "    overflow: auto;\n",
       "  }\n",
       "  table, th, td {\n",
       "    border: 1px solid black;\n",
       "    border-collapse: collapse;\n",
       "  }\n",
       "  th, td {\n",
       "    padding: 5px;\n",
       "  }\n",
       "  th {\n",
       "    text-align: left;\n",
       "  }\n",
       "</style><div class='table-result-container'><table class='table-result'><thead style='background-color: white'><tr><th>MatchID</th><th>Team1</th><th>Team1Goals</th><th>Team2</th><th>Team2Goals</th><th>Result</th><th>MatchWinner</th><th>MatchStage</th></tr></thead><tbody><tr><td>1</td><td>Croatia</td><td>5</td><td>Portugal</td><td>5</td><td>5.0-5.0</td><td>Croatia</td><td>R16</td></tr><tr><td>2</td><td>Hungary</td><td>1</td><td>England</td><td>3</td><td>1.0-3.0</td><td>England</td><td>R16</td></tr><tr><td>3</td><td>Czech</td><td>1</td><td>Spain</td><td>1</td><td>1.0-1.0</td><td>Czech</td><td>R16</td></tr><tr><td>4</td><td>Netherlands</td><td>1</td><td>Romania</td><td>3</td><td>1.0-3.0</td><td>Romania</td><td>R16</td></tr><tr><td>5</td><td>Ukraine</td><td>6</td><td>Serbia</td><td>3</td><td>6.0-3.0</td><td>Ukraine</td><td>R16</td></tr><tr><td>6</td><td>Austria</td><td>4</td><td>Türkiye</td><td>3</td><td>4.0-3.0</td><td>Austria</td><td>R16</td></tr><tr><td>7</td><td>Slovenia</td><td>5</td><td>Belgium</td><td>4</td><td>5.0-4.0</td><td>Slovenia</td><td>R16</td></tr><tr><td>8</td><td>Scotland</td><td>2</td><td>Albania</td><td>4</td><td>2.0-4.0</td><td>Albania</td><td>R16</td></tr><tr><td>9</td><td>Croatia</td><td>5</td><td>England</td><td>2</td><td>5-3</td><td>Croatia</td><td>QuarterFinals</td></tr><tr><td>10</td><td>Czech</td><td>1</td><td>Romania</td><td>6</td><td>1-3</td><td>Romania</td><td>QuarterFinals</td></tr><tr><td>11</td><td>Ukraine</td><td>5</td><td>Austria</td><td>6</td><td>6-3</td><td>Austria</td><td>QuarterFinals</td></tr><tr><td>12</td><td>Slovenia</td><td>5</td><td>Albania</td><td>4</td><td>5-4</td><td>Slovenia</td><td>QuarterFinals</td></tr><tr><td>13</td><td>Croatia</td><td>3</td><td>Romania</td><td>2</td><td>5-6</td><td>Croatia</td><td>SemiFinals</td></tr><tr><td>14</td><td>Austria</td><td>4</td><td>Slovenia</td><td>0</td><td>5-4</td><td>Austria</td><td>SemiFinals</td></tr><tr><td>15</td><td>Romania</td><td>5</td><td>Slovenia</td><td>3</td><td>3-0</td><td>Romania</td><td>ThirdPlace</td></tr><tr><td>16</td><td>Croatia</td><td>6</td><td>Austria</td><td>5</td><td>3-0</td><td>Croatia</td><td>Finals</td></tr></tbody></table></div>"
      ]
     },
     "metadata": {
      "application/vnd.databricks.v1+output": {
       "addedWidgets": {},
       "aggData": [],
       "aggError": "",
       "aggOverflow": false,
       "aggSchema": [],
       "aggSeriesLimitReached": false,
       "aggType": "",
       "arguments": {},
       "columnCustomDisplayInfos": {},
       "data": [
        [
         1,
         "Croatia",
         5,
         "Portugal",
         5,
         "5.0-5.0",
         "Croatia",
         "R16"
        ],
        [
         2,
         "Hungary",
         1,
         "England",
         3,
         "1.0-3.0",
         "England",
         "R16"
        ],
        [
         3,
         "Czech",
         1,
         "Spain",
         1,
         "1.0-1.0",
         "Czech",
         "R16"
        ],
        [
         4,
         "Netherlands",
         1,
         "Romania",
         3,
         "1.0-3.0",
         "Romania",
         "R16"
        ],
        [
         5,
         "Ukraine",
         6,
         "Serbia",
         3,
         "6.0-3.0",
         "Ukraine",
         "R16"
        ],
        [
         6,
         "Austria",
         4,
         "Türkiye",
         3,
         "4.0-3.0",
         "Austria",
         "R16"
        ],
        [
         7,
         "Slovenia",
         5,
         "Belgium",
         4,
         "5.0-4.0",
         "Slovenia",
         "R16"
        ],
        [
         8,
         "Scotland",
         2,
         "Albania",
         4,
         "2.0-4.0",
         "Albania",
         "R16"
        ],
        [
         9,
         "Croatia",
         5,
         "England",
         2,
         "5-3",
         "Croatia",
         "QuarterFinals"
        ],
        [
         10,
         "Czech",
         1,
         "Romania",
         6,
         "1-3",
         "Romania",
         "QuarterFinals"
        ],
        [
         11,
         "Ukraine",
         5,
         "Austria",
         6,
         "6-3",
         "Austria",
         "QuarterFinals"
        ],
        [
         12,
         "Slovenia",
         5,
         "Albania",
         4,
         "5-4",
         "Slovenia",
         "QuarterFinals"
        ],
        [
         13,
         "Croatia",
         3,
         "Romania",
         2,
         "5-6",
         "Croatia",
         "SemiFinals"
        ],
        [
         14,
         "Austria",
         4,
         "Slovenia",
         0,
         "5-4",
         "Austria",
         "SemiFinals"
        ],
        [
         15,
         "Romania",
         5,
         "Slovenia",
         3,
         "3-0",
         "Romania",
         "ThirdPlace"
        ],
        [
         16,
         "Croatia",
         6,
         "Austria",
         5,
         "3-0",
         "Croatia",
         "Finals"
        ]
       ],
       "datasetInfos": [],
       "dbfsResultPath": null,
       "isJsonSchema": true,
       "metadata": {
        "isDbfsCommandResult": false
       },
       "overflow": false,
       "plotOptions": {
        "customPlotOptions": {},
        "displayType": "table",
        "pivotAggregation": null,
        "pivotColumns": null,
        "xColumns": null,
        "yColumns": null
       },
       "removedWidgets": [],
       "schema": [
        {
         "metadata": "{}",
         "name": "MatchID",
         "type": "\"integer\""
        },
        {
         "metadata": "{\"__CHAR_VARCHAR_TYPE_STRING\":\"varchar(53)\"}",
         "name": "Team1",
         "type": "\"string\""
        },
        {
         "metadata": "{}",
         "name": "Team1Goals",
         "type": "\"integer\""
        },
        {
         "metadata": "{\"__CHAR_VARCHAR_TYPE_STRING\":\"varchar(53)\"}",
         "name": "Team2",
         "type": "\"string\""
        },
        {
         "metadata": "{}",
         "name": "Team2Goals",
         "type": "\"integer\""
        },
        {
         "metadata": "{\"__CHAR_VARCHAR_TYPE_STRING\":\"varchar(53)\"}",
         "name": "Result",
         "type": "\"string\""
        },
        {
         "metadata": "{\"__CHAR_VARCHAR_TYPE_STRING\":\"varchar(53)\"}",
         "name": "MatchWinner",
         "type": "\"string\""
        },
        {
         "metadata": "{\"__CHAR_VARCHAR_TYPE_STRING\":\"varchar(53)\"}",
         "name": "MatchStage",
         "type": "\"string\""
        }
       ],
       "type": "table"
      }
     },
     "output_type": "display_data"
    }
   ],
   "source": [
    "%sql\n",
    "select * from MatchesFixtures"
   ]
  },
  {
   "cell_type": "code",
   "execution_count": 0,
   "metadata": {
    "application/vnd.databricks.v1+cell": {
     "cellMetadata": {
      "byteLimit": 2048000,
      "rowLimit": 10000
     },
     "inputWidgets": {},
     "nuid": "82c1a655-d357-4c78-b30b-50312d26784e",
     "showTitle": false,
     "title": ""
    }
   },
   "outputs": [],
   "source": []
  }
 ],
 "metadata": {
  "application/vnd.databricks.v1+notebook": {
   "dashboards": [
    {
     "elements": [],
     "globalVars": {},
     "guid": "",
     "layoutOption": {
      "grid": true,
      "stack": true
     },
     "nuid": "ba88a1b4-3d6e-4532-a28c-bf8084eb24bc",
     "origId": 1490804444597876,
     "title": "Untitled",
     "version": "DashboardViewV1",
     "width": 1024
    }
   ],
   "language": "python",
   "notebookMetadata": {
    "mostRecentlyExecutedCommandWithImplicitDF": {
     "commandId": -1,
     "dataframes": [
      "_sqldf"
     ]
    },
    "pythonIndentUnit": 4
   },
   "notebookName": "Euro CUP 2024",
   "widgets": {}
  }
 },
 "nbformat": 4,
 "nbformat_minor": 0
}
