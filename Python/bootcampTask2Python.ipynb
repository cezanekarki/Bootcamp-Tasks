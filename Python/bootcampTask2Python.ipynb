{
 "cells": [
  {
   "cell_type": "code",
   "execution_count": 0,
   "metadata": {
    "application/vnd.databricks.v1+cell": {
     "cellMetadata": {
      "byteLimit": 2048000,
      "rowLimit": 10000
     },
     "inputWidgets": {},
     "nuid": "24b19e5b-9577-4370-932e-9a7184561f92",
     "showTitle": false,
     "title": ""
    }
   },
   "outputs": [
    {
     "output_type": "stream",
     "name": "stdout",
     "output_type": "stream",
     "text": [
      "['name:John', 'age:34', 'city:New York']\n{'name': 'John', 'age': '34', 'city': 'New York'}\n<class 'dict'>\n"
     ]
    }
   ],
   "source": [
    "# convert string to dictionary\n",
    "#Task-1\n",
    "given_string = \"name:John,age:34,city:New York\"\n",
    "my_list = given_string.split(\",\")\n",
    "print(my_list)\n",
    "my_dict = {}\n",
    "for element in ['name:John', 'age:34', 'city:New York']:\n",
    "  key, value = element.split(':')\n",
    "  my_dict[key] = value\n",
    "\n",
    "print(my_dict)\n",
    "print(type(my_dict))\n"
   ]
  },
  {
   "cell_type": "code",
   "execution_count": 0,
   "metadata": {
    "application/vnd.databricks.v1+cell": {
     "cellMetadata": {
      "byteLimit": 2048000,
      "rowLimit": 10000
     },
     "inputWidgets": {},
     "nuid": "d655c802-7f11-4e2f-a87d-f3ea2d8a63be",
     "showTitle": false,
     "title": ""
    }
   },
   "outputs": [
    {
     "output_type": "stream",
     "name": "stdout",
     "output_type": "stream",
     "text": [
      "The original text is: name:John,age:34,city:New York\n{'name': 'John', 'age': '34', 'city': 'New York'}\n<class 'dict'>\n"
     ]
    }
   ],
   "source": [
    "txt = \"name:John,age:34,city:New York\"\n",
    "print(f'The original text is: {txt}')\n",
    "#using strip and split method\n",
    "result = dict((a.strip(), b.strip())\n",
    "    for a,b in (element.split(':')\n",
    "            for element in txt.split(',')))\n",
    "print(result)\n",
    "print(type(result))"
   ]
  },
  {
   "cell_type": "code",
   "execution_count": 0,
   "metadata": {
    "application/vnd.databricks.v1+cell": {
     "cellMetadata": {
      "byteLimit": 2048000,
      "rowLimit": 10000
     },
     "inputWidgets": {},
     "nuid": "e433b6d8-37e6-44ad-b0fc-a90c632d1302",
     "showTitle": false,
     "title": ""
    }
   },
   "outputs": [
    {
     "output_type": "stream",
     "name": "stdout",
     "output_type": "stream",
     "text": [
      "['The Great Gatsby, F. Scott Fitzgerald, 1925 ', ' To Kill a Mockingbird, Harper Lee, 1960 ', ' 1984, George Orwell, 1949']\n{'The Great Gatsby': {'Author': ' F. Scott Fitzgerald', 'Year of Publication': ' 1925 '}, ' To Kill a Mockingbird': {'Author': ' Harper Lee', 'Year of Publication': ' 1960 '}, ' 1984': {'Author': ' George Orwell', 'Year of Publication': ' 1949'}}\n<class 'dict'>\n"
     ]
    }
   ],
   "source": [
    "#Task-2\n",
    "# nested dictionary from string\n",
    "\n",
    "test_string = \"The Great Gatsby, F. Scott Fitzgerald, 1925 | To Kill a Mockingbird, Harper Lee, 1960 | 1984, George Orwell, 1949\"\n",
    "generated_list = test_string.split(\"|\")\n",
    "print(generated_list)\n",
    "generated_dict = {}\n",
    "for item in generated_list:\n",
    "    first_dict, Author, year_of_publication = item.split(\",\")\n",
    "  \n",
    "    generated_dict[first_dict] = {\"Author\":Author, \"Year of Publication\" : year_of_publication}\n",
    "print(generated_dict)\n",
    "print(type(generated_dict))\n"
   ]
  },
  {
   "cell_type": "code",
   "execution_count": 0,
   "metadata": {
    "application/vnd.databricks.v1+cell": {
     "cellMetadata": {
      "byteLimit": 2048000,
      "rowLimit": 10000
     },
     "inputWidgets": {},
     "nuid": "a82faa51-2d90-4dcd-89b3-632fdd61da68",
     "showTitle": false,
     "title": ""
    }
   },
   "outputs": [
    {
     "output_type": "stream",
     "name": "stdout",
     "output_type": "stream",
     "text": [
      "{'Alice': 'A', 'Bob': 'B', 'Charlie': 'C'}\n<class 'dict'>\n"
     ]
    }
   ],
   "source": [
    "# Task-3\n",
    "# merge two list into dictionary\n",
    "\n",
    "names = [\"Alice\", \"Bob\", \"Charlie\"] \n",
    "grades = [\"A\", \"B\", \"C\"]\n",
    "\n",
    "result_dict = {}\n",
    "\n",
    "result_dict = {names[i]:grades[i] for i in range(len(names))} #list comprehension\n",
    "\n",
    "print(result_dict)\n",
    "print(type(result_dict))\n"
   ]
  },
  {
   "cell_type": "code",
   "execution_count": 0,
   "metadata": {
    "application/vnd.databricks.v1+cell": {
     "cellMetadata": {
      "byteLimit": 2048000,
      "rowLimit": 10000
     },
     "inputWidgets": {},
     "nuid": "9a8aa9f8-5531-4df4-a9d5-72f9fe4fbbee",
     "showTitle": false,
     "title": ""
    }
   },
   "outputs": [
    {
     "output_type": "stream",
     "name": "stdout",
     "output_type": "stream",
     "text": [
      "Original stock:{'apples': 10, 'oranges': 8, 'bananas': 6}\n{'apples': 8, 'oranges': 7, 'bananas': 5}\n"
     ]
    }
   ],
   "source": [
    "# Task-4\n",
    "#dictionary manipulation using item in list\n",
    "\n",
    " \n",
    "stock = {\"apples\": 10, \"oranges\": 8, \"bananas\": 6} \n",
    "sold_items = [\"apples\", \"oranges\", \"apples\", \"bananas\"]\n",
    "print(f\"Original stock:{stock}\")\n",
    "\n",
    "for item in sold_items:\n",
    "    if stock[item]:\n",
    "        stock[item] = stock[item]-1        \n",
    "\n",
    "print(stock)"
   ]
  },
  {
   "cell_type": "code",
   "execution_count": 0,
   "metadata": {
    "application/vnd.databricks.v1+cell": {
     "cellMetadata": {
      "byteLimit": 2048000,
      "rowLimit": 10000
     },
     "inputWidgets": {},
     "nuid": "d87174bc-2f43-4cf4-8074-991a7f92607e",
     "showTitle": false,
     "title": ""
    }
   },
   "outputs": [
    {
     "output_type": "stream",
     "name": "stdout",
     "output_type": "stream",
     "text": [
      "[{'Names': 'Alice', 'ages': 25, 'Occupation': 'Engineer'}, {'Names': 'Bob', 'ages': 30, 'Occupation': 'Doctor'}, {'Names': 'Charlie', 'ages': 35, 'Occupation': 'Artist'}]\n"
     ]
    }
   ],
   "source": [
    "# Task-5\n",
    "#You have three lists, containing names, ages, and occupations of a group of people. Combine these lists into a list of dictionaries, each dictionary containing 'name', 'age', and 'occupation' as keys. ##\n",
    "\n",
    "names = [\"Alice\", \"Bob\", \"Charlie\"] \n",
    "ages = [25, 30, 35] \n",
    "occupations = [\"Engineer\", \"Doctor\", \"Artist\"] \n",
    "\n",
    "final_list = []\n",
    "my_dict = {}\n",
    "for i in range(len(names)):\n",
    "    my_dict = {\"Name\":names[i], \"age\": ages[i], \"Occupation\":occupations[i]}\n",
    "    final_list.append(my_dict)\n",
    "\n",
    "\n",
    "print(final_list)\n",
    "\n",
    " \n",
    "\n"
   ]
  },
  {
   "cell_type": "code",
   "execution_count": 0,
   "metadata": {
    "application/vnd.databricks.v1+cell": {
     "cellMetadata": {
      "byteLimit": 2048000,
      "rowLimit": 10000
     },
     "inputWidgets": {},
     "nuid": "456e6e58-2748-4613-be07-e1803be491ed",
     "showTitle": false,
     "title": ""
    }
   },
   "outputs": [
    {
     "output_type": "stream",
     "name": "stdout",
     "output_type": "stream",
     "text": [
      "Total questions:2\n['How are you?', 'Have you seen my notebook?']\nHello How are you I hope youre enjoying your day Have you seen my notebook Its important Thanks for your help\nCount of 'you':3\nHello! Thanks for your help!\n"
     ]
    }
   ],
   "source": [
    "#Task-6\n",
    "##    You have received a text message that contains various sentences, some of which are inquiries (ending with a question mark '?'). Your task is to analyze this message and perform several operations using Python string functions. \n",
    "     \n",
    "     \n",
    "    ##Count the Questions: Determine how many sentences in the text are questions. \n",
    "    #Extract Questions: Create a list containing only the sentences that are questions. \n",
    "    #Remove Punctuation: Create a new version of the text with all punctuation removed. \n",
    "    \n",
    "     \n",
    "\n",
    "Text = \"Hello! How are you? I hope you're enjoying your day. Have you seen my notebook? It's important. Thanks for your help!\" \n",
    "# count no of questions\n",
    "print(f\"Total questions:{Text.count('?')}\")\n",
    "\n",
    "#list of only qurestion\n",
    "text_splitted_list = Text.split(\"?\")\n",
    "quesions_list = [question.split(\"!\")[-1].split(\".\")[-1].strip() + \"?\" for question in text_splitted_list \n",
    "                 if question.split(\"!\")[-1].split(\".\")[-1].strip() != \"\"]\n",
    "print(quesions_list)\n",
    "\n",
    "# Remove punctuation using a single loop and string comprehension\n",
    "cleaned_text = \"\".join(char for char in Text if char not in \"?!,.'\")\n",
    "print(cleaned_text)\n",
    "\n",
    "#Word Count: Count how many times the word 'you' appears in the text (case-insensitive). \n",
    "you_count = len([word.strip(\"?\").strip(\"!\").strip(\".\").split(\"'\")[0] for word in Text.lower().split(\" \") \n",
    "                 if word.strip(\"?\").strip(\"!\").strip(\".\").split(\"'\")[0] == \"you\"])\n",
    "print(f\"Count of 'you':{you_count}\")\n",
    "\n",
    "#Concatenate: Concatenate the first and last sentences to form a new sentence.\n",
    "first_sentence = Text.split(\".\")[0].split(\"!\")[0].split(\"?\")[0]\n",
    "first_punctuaion = Text.strip(first_sentence)[0]\n",
    "last_sentence = Text[:-1].split(\".\")[-1].split(\"!\")[-1].split(\"?\")[-1]\n",
    "last_punctuaion = Text[-1]\n",
    "first_last_concatenated_sentence = first_sentence + first_punctuaion + last_sentence + last_punctuaion \n",
    "print(first_last_concatenated_sentence)\n"
   ]
  },
  {
   "cell_type": "code",
   "execution_count": 0,
   "metadata": {
    "application/vnd.databricks.v1+cell": {
     "cellMetadata": {},
     "inputWidgets": {},
     "nuid": "91f74625-2e27-4f05-9873-ea198ebb6996",
     "showTitle": false,
     "title": ""
    }
   },
   "outputs": [],
   "source": []
  }
 ],
 "metadata": {
  "application/vnd.databricks.v1+notebook": {
   "dashboards": [],
   "language": "python",
   "notebookMetadata": {
    "pythonIndentUnit": 4
   },
   "notebookName": "bootcampTask2Python",
   "widgets": {}
  }
 },
 "nbformat": 4,
 "nbformat_minor": 0
}
