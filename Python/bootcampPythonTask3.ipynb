{
 "cells": [
  {
   "cell_type": "code",
   "execution_count": 0,
   "metadata": {
    "application/vnd.databricks.v1+cell": {
     "cellMetadata": {
      "byteLimit": 2048000,
      "rowLimit": 10000
     },
     "inputWidgets": {},
     "nuid": "68a4b12b-2911-454c-8256-bec01966ab9d",
     "showTitle": false,
     "title": ""
    }
   },
   "outputs": [
    {
     "output_type": "stream",
     "name": "stdout",
     "output_type": "stream",
     "text": [
      "Sorted student based upon name:  [{'name': 'Eve', 'score': 88}, {'name': 'David', 'score': 95}, {'name': 'Charlie', 'score': 78}, {'name': 'Bob', 'score': 92}, {'name': 'Alice', 'score': 85}]\nSorted students based on score: \n [{'name': 'David', 'score': 95}, {'name': 'Bob', 'score': 92}, {'name': 'Eve', 'score': 88}, {'name': 'Alice', 'score': 85}, {'name': 'Charlie', 'score': 78}]\n"
     ]
    }
   ],
   "source": [
    "\n",
    "# Initialize the list of dictionary of students\n",
    "students = [\n",
    "    {\"name\": \"Alice\", \"score\": 85},\n",
    "    {\"name\": \"Bob\", \"score\": 92},\n",
    "    {\"name\": \"Charlie\", \"score\": 78},\n",
    "    {\"name\": \"David\", \"score\": 95},\n",
    "    {\"name\": \"Eve\", \"score\": 88}\n",
    "]\n",
    "\n",
    "#function to sort baseed upon name and score\n",
    "def sort_func( students):\n",
    "    sorted_students = sorted(students, key=lambda student: student[\"name\"],reverse=True)\n",
    "    print(\"Sorted student based upon name: \",sorted_students)\n",
    "\n",
    "    sorted_std_score = sorted(students, key=lambda student: student[\"score\"], reverse=True)\n",
    "    print(\"Sorted students based on score: \\n\", sorted_std_score)\n",
    "\n",
    "sort_func(students)\n",
    " \n"
   ]
  },
  {
   "cell_type": "code",
   "execution_count": 0,
   "metadata": {
    "application/vnd.databricks.v1+cell": {
     "cellMetadata": {
      "byteLimit": 2048000,
      "rowLimit": 10000
     },
     "inputWidgets": {},
     "nuid": "bb348d88-f6f4-434e-abff-8280f09ae874",
     "showTitle": false,
     "title": ""
    }
   },
   "outputs": [
    {
     "output_type": "stream",
     "name": "stdout",
     "output_type": "stream",
     "text": [
      "<filter object at 0x7fcdc8186ca0>\n[2, 4, 6, 8, 10]\n"
     ]
    }
   ],
   "source": [
    "numbers = [1, 2, 3, 4, 5, 6, 7, 8, 9, 10]\n",
    "filtered_number= filter( lambda num:num%2==0 ,numbers)\n",
    "\n",
    "# shows object type at memory\n",
    "print(filtered_number)\n",
    "\n",
    "# print even numbers\n",
    "print(list(filtered_number))"
   ]
  },
  {
   "cell_type": "code",
   "execution_count": 0,
   "metadata": {
    "application/vnd.databricks.v1+cell": {
     "cellMetadata": {
      "byteLimit": 2048000,
      "rowLimit": 10000
     },
     "inputWidgets": {},
     "nuid": "0e519d67-c2e2-4876-a3f6-6abe5ebb94a8",
     "showTitle": false,
     "title": ""
    }
   },
   "outputs": [],
   "source": []
  }
 ],
 "metadata": {
  "application/vnd.databricks.v1+notebook": {
   "dashboards": [],
   "language": "python",
   "notebookMetadata": {
    "pythonIndentUnit": 4
   },
   "notebookName": "bootcampPythonTask3",
   "widgets": {}
  }
 },
 "nbformat": 4,
 "nbformat_minor": 0
}
