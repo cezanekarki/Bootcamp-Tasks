{
 "cells": [
  {
   "cell_type": "code",
   "execution_count": 0,
   "metadata": {
    "application/vnd.databricks.v1+cell": {
     "cellMetadata": {},
     "inputWidgets": {},
     "nuid": "ae0818b7-4976-4a51-bdc7-af8c9a30ac9a",
     "showTitle": false,
     "title": ""
    }
   },
   "outputs": [],
   "source": [
    "# • The program takes a string input from the user.\n",
    "# • It analyzes the text to provide the following information:\n",
    "# • The number of words and unique words.\n",
    "# • The frequency of each word (using a dictionary).\n",
    "# • The longest word in the text.\n",
    "# • A list of all words in alphabetical order and reverse alphabetical order.\n",
    "# • A reversed version of the original text.\n",
    "# • Use string manipulation methods, loops, conditional statements, and data structures (list, set, and dictionary) to accomplish the tasks."
   ]
  },
  {
   "cell_type": "code",
   "execution_count": 0,
   "metadata": {
    "application/vnd.databricks.v1+cell": {
     "cellMetadata": {
      "byteLimit": 2048000,
      "rowLimit": 10000
     },
     "inputWidgets": {},
     "nuid": "1c149174-096c-4581-970f-360179720506",
     "showTitle": false,
     "title": ""
    }
   },
   "outputs": [
    {
     "output_type": "display_data",
     "data": {
      "text/plain": [
       "Enter the sentence to be Analyzed:\n",
       " what up guys "
      ]
     },
     "metadata": {},
     "output_type": "display_data"
    },
    {
     "output_type": "stream",
     "name": "stdout",
     "output_type": "stream",
     "text": [
      "The reversed input text is  syug pu tahw\n['what', 'up', 'guys']\nTotal words: 3\nunique count =3\nduplicate count: 0\nthe sorted list of words are:  ['guys', 'up', 'what']\n['what', 'up', 'guys']\nThe longest word is what\nthe length of longest word is 4\nMost repeated word: what (1 times)\nMost repeated word: up (1 times)\nMost repeated word: guys (1 times)\n{'what': 1, 'up': 1, 'guys': 1}\n"
     ]
    }
   ],
   "source": [
    "user_input = input(\"Enter the sentence to be Analyzed:\\n\")\n",
    "# user_input = user_input.strip(\".\")\n",
    "\n",
    "#  A reversed version of the original text.\n",
    "reveresed_input = user_input[::-1]\n",
    "print(\"The reversed input text is\",reveresed_input)\n",
    "\n",
    "\n",
    "words = user_input.lower().split()\n",
    "unique_words = set(words)\n",
    "\n",
    "print(words)\n",
    "word_count = len(words)\n",
    "unique_word_count = len(unique_words)\n",
    "dupli_count = word_count - unique_word_count\n",
    "\n",
    "print(\"Total words:\", word_count)\n",
    "print(f\"unique count ={len(unique_words)}\")\n",
    "print(f\"duplicate count: {dupli_count}\")\n",
    "\n",
    "# sorted words \n",
    "sorted_words =  sorted(words)\n",
    "print(\"the sorted list of words are: \", sorted_words)\n",
    "\n",
    "# sorted in reverse order\n",
    "rev_sorted = sorted(words, reverse = True)\n",
    "print(rev_sorted)\n",
    "\n",
    "# Find the longest word using a loop and conditional statement.\n",
    "longest = \"\"\n",
    "for word in words:\n",
    "    if len(word) > len(longest):\n",
    "        longest = word\n",
    "\n",
    "print(f\"The longest word is {longest}\")\n",
    "print(f\"the length of longest word is {len(longest)}\")\n",
    "\n",
    "# The frequency of each word (using a dictionary).\n",
    "word_counts = {}\n",
    "\n",
    "# Word count\n",
    "for word in words:\n",
    "    if word in word_counts:\n",
    "      word_counts[word] += 1\n",
    "    else:\n",
    "      word_counts[word] = 1\n",
    "\n",
    "max_count = max(word_counts.values())\n",
    "\n",
    "for word, count in word_counts.items():\n",
    "  if count == max_count:\n",
    "      print(f\"Most repeated word: {word} ({count} times)\")\n",
    "\n",
    "print(word_counts)\n",
    "\n"
   ]
  },
  {
   "cell_type": "code",
   "execution_count": 0,
   "metadata": {
    "application/vnd.databricks.v1+cell": {
     "cellMetadata": {},
     "inputWidgets": {},
     "nuid": "6e109162-5192-485d-a10c-a112309fd06d",
     "showTitle": false,
     "title": ""
    }
   },
   "outputs": [],
   "source": []
  }
 ],
 "metadata": {
  "application/vnd.databricks.v1+notebook": {
   "dashboards": [],
   "language": "python",
   "notebookMetadata": {
    "pythonIndentUnit": 4
   },
   "notebookName": "python task",
   "widgets": {}
  }
 },
 "nbformat": 4,
 "nbformat_minor": 0
}
