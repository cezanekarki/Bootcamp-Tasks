{
 "cells": [
  {
   "cell_type": "code",
   "execution_count": 0,
   "metadata": {
    "application/vnd.databricks.v1+cell": {
     "cellMetadata": {
      "byteLimit": 2048000,
      "rowLimit": 10000
     },
     "inputWidgets": {},
     "nuid": "23295493-b2ca-485c-b581-3c5839e23bd8",
     "showTitle": false,
     "title": ""
    }
   },
   "outputs": [
    {
     "output_type": "stream",
     "name": "stdout",
     "output_type": "stream",
     "text": [
      "<class 'dict'>\n<class 'str'>\n"
     ]
    }
   ],
   "source": [
    "# Create a string variable with the below value\n",
    "\n",
    "# {\"name\": \"John Doe\", \"dob\": \"1990-01-01 00:00:00\", \"city\": \"Anytown\", \"email\": \"john.doe@example.com\", \"is_student\": false}\n",
    "\n",
    "# Parse the string with json.loads()\n",
    "import json\n",
    "import os\n",
    "string = '{\"name\": \"John Doe\", \"dob\": \"1990-01-01 00:00:00\", \"city\": \"Anytown\", \"email\": \"john.doe@example.com\", \"is_student\": false}'\n",
    "print(type(json.loads(string)))\n",
    "dct = {\"name\": \"John Doe\", \"dob\": \"1990-01-01 00:00:00\", \"city\": \"Anytown\", \"email\": \"john.doe@example.com\", \"is_student\": False}\n",
    "print(type(json.dumps(dct)))"
   ]
  },
  {
   "cell_type": "code",
   "execution_count": 0,
   "metadata": {
    "application/vnd.databricks.v1+cell": {
     "cellMetadata": {
      "byteLimit": 2048000,
      "rowLimit": 10000
     },
     "inputWidgets": {},
     "nuid": "238ce062-bfc8-40cc-a49c-b7acd7369acd",
     "showTitle": false,
     "title": ""
    }
   },
   "outputs": [
    {
     "output_type": "stream",
     "name": "stdout",
     "output_type": "stream",
     "text": [
      "{'name': 'John Doe', 'dob': '1990-01-01 00:00:00', 'city': 'Anytown', 'email': 'john.doe@example.com', 'is_student': False}\n{'name': 'John Doe', 'dob': datetime.datetime(1990, 1, 1, 0, 0), 'city': 'Anytown', 'email': 'john.doe@example.com', 'is_student': False}\n"
     ]
    }
   ],
   "source": [
    "# Create a string variable with the below value\n",
    "\n",
    "# {\"name\": \"John Doe\", \"dob\": \"1990-01-01 00:00:00\", \"city\": \"Anytown\", \"email\": \"john.doe@example.com\", \"is_student\": false}\n",
    "\n",
    "# Parse the string with json.loads()\n",
    "\n",
    "# Repeat the same work but this time read the data from the json file record.json that you just created. This time the dob should be datetime object.\n",
    "\n",
    "import json\n",
    "import os\n",
    "from datetime import datetime\n",
    "string = '{\"name\": \"John Doe\", \"dob\": \"1990-01-01 00:00:00\", \"city\": \"Anytown\", \"email\": \"john.doe@example.com\", \"is_student\": false}'\n",
    "\n",
    "d = json.loads(string)\n",
    "# d['dob'] = datetime.strptime(d[\"dob\"],\"%Y-%m-%d %H:%M:%S\")\n",
    "\n",
    "# print(d)\n",
    "\n",
    "with open(\"records.json\",\"w\") as f:\n",
    "     json.dump(d,f,default=str)\n",
    "\n",
    "\n",
    "with open(\"records.json\",\"r\") as f:\n",
    "    # print(f.read())\n",
    "    k = json.load(f)\n",
    "    print(k)\n",
    "    k['dob'] = datetime.strptime(k[\"dob\"],\"%Y-%m-%d %H:%M:%S\")\n",
    "    \n",
    "print(k)\n",
    "\n",
    "# print(records.json)\n",
    "\n",
    "\n",
    "\n",
    "\n",
    "\n",
    "\n",
    "\n"
   ]
  }
 ],
 "metadata": {
  "application/vnd.databricks.v1+notebook": {
   "dashboards": [],
   "language": "python",
   "notebookMetadata": {
    "pythonIndentUnit": 4
   },
   "notebookName": "Python_day5_json_program",
   "widgets": {}
  }
 },
 "nbformat": 4,
 "nbformat_minor": 0
}
