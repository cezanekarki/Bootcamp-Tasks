{
 "cells": [
  {
   "cell_type": "code",
   "execution_count": 0,
   "metadata": {
    "application/vnd.databricks.v1+cell": {
     "cellMetadata": {
      "byteLimit": 2048000,
      "rowLimit": 10000
     },
     "inputWidgets": {},
     "nuid": "c0263bf2-43d2-48a0-9329-a9c2e8316e74",
     "showTitle": false,
     "title": ""
    }
   },
   "outputs": [
    {
     "output_type": "display_data",
     "data": {
      "text/plain": [
       "give the input "
      ]
     },
     "metadata": {},
     "output_type": "display_data"
    }
   ],
   "source": [
    "%python\n",
    "# number of words and unique words\n",
    "s = input(\"give the input\")\n",
    "r = s.split()\n",
    "# print(r)\n",
    "# r = len(r)\n",
    "print(\"the number of words:\",len(r))\n",
    "# count = 0\n",
    "# x = []\n",
    "# for word in s:\n",
    "#     if count[word]>1:\n",
    "#        break\n",
    "#     else:\n",
    "#        x.append(word)\n",
    "#     count += 1\n",
    "# u = set(s)\n",
    "u = set(r)\n",
    "# print(u)\n",
    "# x = [i if i not in r]\n",
    "print(\"unique words :\",len(u))"
   ]
  },
  {
   "cell_type": "code",
   "execution_count": 0,
   "metadata": {
    "application/vnd.databricks.v1+cell": {
     "cellMetadata": {
      "byteLimit": 2048000,
      "rowLimit": 10000
     },
     "inputWidgets": {},
     "nuid": "73ba726d-fe22-4176-bb30-54ab321133f4",
     "showTitle": false,
     "title": ""
    }
   },
   "outputs": [
    {
     "output_type": "display_data",
     "data": {
      "text/plain": [
       "enter the text hello ketan ketan"
      ]
     },
     "metadata": {},
     "output_type": "display_data"
    },
    {
     "output_type": "stream",
     "name": "stdout",
     "output_type": "stream",
     "text": [
      "{'hello': 1, 'ketan': 2}\n"
     ]
    }
   ],
   "source": [
    "%python\n",
    "# frequency of each word using dictionary\n",
    "w = input(\"enter the text\")\n",
    "f = w.split()\n",
    "d = {}\n",
    "# count = 1\n",
    "for i in f:\n",
    "    if i not in d.keys():\n",
    "        d[i] = 1\n",
    "    else:\n",
    "        d[i] += 1 \n",
    "print(d)\n",
    "\n"
   ]
  },
  {
   "cell_type": "code",
   "execution_count": 0,
   "metadata": {
    "application/vnd.databricks.v1+cell": {
     "cellMetadata": {
      "byteLimit": 2048000,
      "rowLimit": 10000
     },
     "inputWidgets": {},
     "nuid": "46719f23-b855-4128-a188-b1a866480010",
     "showTitle": false,
     "title": ""
    }
   },
   "outputs": [
    {
     "output_type": "display_data",
     "data": {
      "text/plain": [
       "enter the text hey xyz lmn qwrts"
      ]
     },
     "metadata": {},
     "output_type": "display_data"
    },
    {
     "output_type": "stream",
     "name": "stdout",
     "output_type": "stream",
     "text": [
      "qwrts\n"
     ]
    }
   ],
   "source": [
    "%python\n",
    "# longest word in the text\n",
    "lw = input(\"enter the text\")\n",
    "lwl = lw.split()\n",
    "max = ''\n",
    "for i in lwl:\n",
    "  if len(i) > len(max):\n",
    "      max = i\n",
    "\n",
    "      \n",
    "print(max)\n",
    "\n",
    "    "
   ]
  },
  {
   "cell_type": "code",
   "execution_count": 0,
   "metadata": {
    "application/vnd.databricks.v1+cell": {
     "cellMetadata": {
      "byteLimit": 2048000,
      "rowLimit": 10000
     },
     "inputWidgets": {},
     "nuid": "79589d93-ca13-4b04-be6d-1c59b897bfa9",
     "showTitle": false,
     "title": ""
    }
   },
   "outputs": [
    {
     "output_type": "display_data",
     "data": {
      "text/plain": [
       "enter abc xyz tuv"
      ]
     },
     "metadata": {},
     "output_type": "display_data"
    },
    {
     "output_type": "stream",
     "name": "stdout",
     "output_type": "stream",
     "text": [
      "['abc', 'tuv', 'xyz']\n['xyz', 'tuv', 'abc']\nzyx vut cba\n"
     ]
    }
   ],
   "source": [
    "%python\n",
    "# a list of all words in alphabetical and reverse alphabetical order\n",
    "t = input(\"enter\")\n",
    "t = t.lower()\n",
    "z = t.split()\n",
    "f = sorted(z)\n",
    "r = ' '.join(f)\n",
    "print(f)\n",
    "rev_f = []\n",
    "for i in range(len(f)-1,-1,-1):\n",
    "    rev_f.append(f[i])\n",
    "\n",
    "# rev_f = sorted(z,reverse = True)\n",
    "print(rev_f)\n",
    "\n",
    "# reversed version of original text\n",
    "k = ' '.join(f)\n",
    "k = k[::-1]\n",
    "print(k)\n",
    "\n"
   ]
  },
  {
   "cell_type": "code",
   "execution_count": 0,
   "metadata": {
    "application/vnd.databricks.v1+cell": {
     "cellMetadata": {},
     "inputWidgets": {},
     "nuid": "e05e2faf-d620-4fc8-8903-1d0124c59d7c",
     "showTitle": false,
     "title": ""
    }
   },
   "outputs": [],
   "source": []
  }
 ],
 "metadata": {
  "application/vnd.databricks.v1+notebook": {
   "dashboards": [],
   "language": "python",
   "notebookMetadata": {
    "pythonIndentUnit": 4
   },
   "notebookName": "python_task1_string_programs",
   "widgets": {}
  }
 },
 "nbformat": 4,
 "nbformat_minor": 0
}
