{
 "cells": [
  {
   "cell_type": "code",
   "execution_count": 0,
   "metadata": {
    "application/vnd.databricks.v1+cell": {
     "cellMetadata": {
      "byteLimit": 2048000,
      "rowLimit": 10000
     },
     "inputWidgets": {},
     "nuid": "b26486a0-2566-48cf-9c17-c8164e2d16c7",
     "showTitle": false,
     "title": ""
    }
   },
   "outputs": [
    {
     "output_type": "stream",
     "name": "stdout",
     "output_type": "stream",
     "text": [
      "1. Add a contact\n2. View all contacts\n3. Search for a contact\n4. Delete a contact by name\n5. Exit\n"
     ]
    },
    {
     "output_type": "display_data",
     "data": {
      "text/plain": [
       "Enter your choice :  1"
      ]
     },
     "metadata": {},
     "output_type": "display_data"
    },
    {
     "output_type": "display_data",
     "data": {
      "text/plain": [
       "Enter your name : Sumedh"
      ]
     },
     "metadata": {},
     "output_type": "display_data"
    },
    {
     "output_type": "display_data",
     "data": {
      "text/plain": [
       "Enter your mobile_no :  8761365e816"
      ]
     },
     "metadata": {},
     "output_type": "display_data"
    },
    {
     "output_type": "display_data",
     "data": {
      "text/plain": [
       "Enter your email :  sumedh@kjdank"
      ]
     },
     "metadata": {},
     "output_type": "display_data"
    },
    {
     "output_type": "stream",
     "name": "stdout",
     "output_type": "stream",
     "text": [
      "PLease enter a valid choice \n1. Add a contact\n2. View all contacts\n3. Search for a contact\n4. Delete a contact by name\n5. Exit\n"
     ]
    },
    {
     "output_type": "display_data",
     "data": {
      "text/plain": [
       "Enter your choice :  1"
      ]
     },
     "metadata": {},
     "output_type": "display_data"
    },
    {
     "output_type": "display_data",
     "data": {
      "text/plain": [
       "Enter your name : abc"
      ]
     },
     "metadata": {},
     "output_type": "display_data"
    },
    {
     "output_type": "display_data",
     "data": {
      "text/plain": [
       "Enter your mobile_no :  17936197619"
      ]
     },
     "metadata": {},
     "output_type": "display_data"
    },
    {
     "output_type": "display_data",
     "data": {
      "text/plain": [
       "Enter your email :  abc@xyz"
      ]
     },
     "metadata": {},
     "output_type": "display_data"
    },
    {
     "output_type": "stream",
     "name": "stdout",
     "output_type": "stream",
     "text": [
      "PLease enter a valid choice \n1. Add a contact\n2. View all contacts\n3. Search for a contact\n4. Delete a contact by name\n5. Exit\n"
     ]
    },
    {
     "output_type": "display_data",
     "data": {
      "text/plain": [
       "Enter your choice :  1"
      ]
     },
     "metadata": {},
     "output_type": "display_data"
    },
    {
     "output_type": "display_data",
     "data": {
      "text/plain": [
       "Enter your name : xyz"
      ]
     },
     "metadata": {},
     "output_type": "display_data"
    },
    {
     "output_type": "display_data",
     "data": {
      "text/plain": [
       "Enter your mobile_no :  17368135"
      ]
     },
     "metadata": {},
     "output_type": "display_data"
    },
    {
     "output_type": "display_data",
     "data": {
      "text/plain": [
       "Enter your email :  hackahb@xyz"
      ]
     },
     "metadata": {},
     "output_type": "display_data"
    },
    {
     "output_type": "stream",
     "name": "stdout",
     "output_type": "stream",
     "text": [
      "PLease enter a valid choice \n1. Add a contact\n2. View all contacts\n3. Search for a contact\n4. Delete a contact by name\n5. Exit\n"
     ]
    },
    {
     "output_type": "display_data",
     "data": {
      "text/plain": [
       "Enter your choice :  2"
      ]
     },
     "metadata": {},
     "output_type": "display_data"
    },
    {
     "output_type": "stream",
     "name": "stdout",
     "output_type": "stream",
     "text": [
      "{'name': 'Sumedh', 'mobile': '8761365e816', 'email': 'sumedh@kjdank'}\n{'name': 'abc', 'mobile': '17936197619', 'email': 'abc@xyz'}\n{'name': 'xyz', 'mobile': '17368135', 'email': 'hackahb@xyz'}\nPLease enter a valid choice \n1. Add a contact\n2. View all contacts\n3. Search for a contact\n4. Delete a contact by name\n5. Exit\n"
     ]
    },
    {
     "output_type": "display_data",
     "data": {
      "text/plain": [
       "Enter your choice :  "
      ]
     },
     "metadata": {},
     "output_type": "display_data"
    }
   ],
   "source": [
    "\n",
    "contact_list=[]\n",
    "def menu():\n",
    "    print(\"1. Add a contact\")\n",
    "    print(\"2. View all contacts\")\n",
    "    print(\"3. Search for a contact\")\n",
    "    print(\"4. Delete a contact by name\")\n",
    "    print(\"5. Exit\")\n",
    "    choice = int(input(\"Enter your choice : \"))\n",
    "    return choice\n",
    "\n",
    "\n",
    "def add_contact():\n",
    "    record_dict = {}\n",
    "    name        = input(\"Enter your name :\")\n",
    "    mobile   = input(\"Enter your mobile_no : \")\n",
    "    email       = input(\"Enter your email : \")\n",
    "    record_dict['name']   = name\n",
    "    record_dict['mobile'] = mobile\n",
    "    record_dict['email']  = email\n",
    "    contact_list.append(record_dict)\n",
    "\n",
    "def view_all_contacts():\n",
    "    for each_record in contact_list:\n",
    "        print(each_record)\n",
    "\n",
    "def delete_contact_by_name():\n",
    "    person_name = input(\"Enter the person name to search \")\n",
    "    index=0\n",
    "    for each_record in contact_list:\n",
    "        \n",
    "         if each_record['name']==person_name:\n",
    "            del contact_list[index]\n",
    "         else:\n",
    "            index+=1\n",
    "    print(f\"The contact with the name {person_name} has been deleted from the record \")\n",
    "    \n",
    "\n",
    "\n",
    "def search_contact():\n",
    "    search_flag=None\n",
    "    record_name = input(\"Enter the name of the person you wish to search :\")\n",
    "    for each_record in contact_list:\n",
    "        if each_record['name']==record_name:\n",
    "            search_flag=1\n",
    "            print(each_record)\n",
    "    else:\n",
    "        if search_flag==None:\n",
    "            print(\"Contact not found in the record \")\n",
    "\n",
    "\n",
    "while True:\n",
    "    choice = menu()\n",
    "    if choice == 1:\n",
    "        add_contact()\n",
    "    \n",
    "    if choice == 2:\n",
    "        view_all_contacts()\n",
    "\n",
    "    if choice == 3:\n",
    "        if len(contact_list)>0:\n",
    "            search_contact()\n",
    "        else : \n",
    "            print(\"There are no records in the contact list \")\n",
    "    \n",
    "    if choice ==4 :\n",
    "        if len(contact_list)>0:\n",
    "            delete_contact_by_name()\n",
    "        else : \n",
    "            print(\"There are no records in the contact list \")\n",
    "   \n",
    "    if choice ==5 :\n",
    "        print(\"Thanks for visiting \")\n",
    "        break\n",
    "    else:\n",
    "        print(\"PLease enter a valid choice \")\n"
   ]
  },
  {
   "cell_type": "code",
   "execution_count": 0,
   "metadata": {
    "application/vnd.databricks.v1+cell": {
     "cellMetadata": {
      "byteLimit": 2048000,
      "rowLimit": 10000
     },
     "inputWidgets": {},
     "nuid": "630976aa-7395-42d4-8ee9-04acb7840052",
     "showTitle": false,
     "title": ""
    }
   },
   "outputs": [
    {
     "output_type": "stream",
     "name": "stdout",
     "output_type": "stream",
     "text": [
      "1. Add a contact\n2. View all contacts\n3. Search for a contact\n4. Delete a contact by name\n5. Exit\n"
     ]
    },
    {
     "output_type": "display_data",
     "data": {
      "text/plain": [
       "Enter your choice:  3"
      ]
     },
     "metadata": {},
     "output_type": "display_data"
    },
    {
     "output_type": "stream",
     "name": "stdout",
     "output_type": "stream",
     "text": [
      "There are no records in the contact list.\n1. Add a contact\n2. View all contacts\n3. Search for a contact\n4. Delete a contact by name\n5. Exit\n"
     ]
    },
    {
     "output_type": "display_data",
     "data": {
      "text/plain": [
       "Enter your choice:  4"
      ]
     },
     "metadata": {},
     "output_type": "display_data"
    },
    {
     "output_type": "stream",
     "name": "stdout",
     "output_type": "stream",
     "text": [
      "There are no records in the contact list.\n1. Add a contact\n2. View all contacts\n3. Search for a contact\n4. Delete a contact by name\n5. Exit\n"
     ]
    },
    {
     "output_type": "display_data",
     "data": {
      "text/plain": [
       "Enter your choice:  1"
      ]
     },
     "metadata": {},
     "output_type": "display_data"
    },
    {
     "output_type": "display_data",
     "data": {
      "text/plain": [
       "Enter your name:  A"
      ]
     },
     "metadata": {},
     "output_type": "display_data"
    },
    {
     "output_type": "display_data",
     "data": {
      "text/plain": [
       "Enter your mobile_no:  759846958"
      ]
     },
     "metadata": {},
     "output_type": "display_data"
    },
    {
     "output_type": "display_data",
     "data": {
      "text/plain": [
       "Enter your email:  aaa@xyz"
      ]
     },
     "metadata": {},
     "output_type": "display_data"
    },
    {
     "output_type": "stream",
     "name": "stdout",
     "output_type": "stream",
     "text": [
      "1. Add a contact\n2. View all contacts\n3. Search for a contact\n4. Delete a contact by name\n5. Exit\n"
     ]
    },
    {
     "output_type": "display_data",
     "data": {
      "text/plain": [
       "Enter your choice:  1"
      ]
     },
     "metadata": {},
     "output_type": "display_data"
    },
    {
     "output_type": "display_data",
     "data": {
      "text/plain": [
       "Enter your name:  B"
      ]
     },
     "metadata": {},
     "output_type": "display_data"
    },
    {
     "output_type": "display_data",
     "data": {
      "text/plain": [
       "Enter your mobile_no:  659847563"
      ]
     },
     "metadata": {},
     "output_type": "display_data"
    },
    {
     "output_type": "display_data",
     "data": {
      "text/plain": [
       "Enter your email:  b@xyz"
      ]
     },
     "metadata": {},
     "output_type": "display_data"
    },
    {
     "output_type": "stream",
     "name": "stdout",
     "output_type": "stream",
     "text": [
      "1. Add a contact\n2. View all contacts\n3. Search for a contact\n4. Delete a contact by name\n5. Exit\n"
     ]
    },
    {
     "output_type": "display_data",
     "data": {
      "text/plain": [
       "Enter your choice:  1"
      ]
     },
     "metadata": {},
     "output_type": "display_data"
    },
    {
     "output_type": "display_data",
     "data": {
      "text/plain": [
       "Enter your name:  C"
      ]
     },
     "metadata": {},
     "output_type": "display_data"
    },
    {
     "output_type": "display_data",
     "data": {
      "text/plain": [
       "Enter your mobile_no:  745844635"
      ]
     },
     "metadata": {},
     "output_type": "display_data"
    },
    {
     "output_type": "display_data",
     "data": {
      "text/plain": [
       "Enter your email:  c@xyz"
      ]
     },
     "metadata": {},
     "output_type": "display_data"
    },
    {
     "output_type": "stream",
     "name": "stdout",
     "output_type": "stream",
     "text": [
      "1. Add a contact\n2. View all contacts\n3. Search for a contact\n4. Delete a contact by name\n5. Exit\n"
     ]
    },
    {
     "output_type": "display_data",
     "data": {
      "text/plain": [
       "Enter your choice:  2"
      ]
     },
     "metadata": {},
     "output_type": "display_data"
    },
    {
     "output_type": "stream",
     "name": "stdout",
     "output_type": "stream",
     "text": [
      "{'name': 'A', 'mobile': '759846958', 'email': 'aaa@xyz'}\n{'name': 'B', 'mobile': '659847563', 'email': 'b@xyz'}\n{'name': 'C', 'mobile': '745844635', 'email': 'c@xyz'}\n1. Add a contact\n2. View all contacts\n3. Search for a contact\n4. Delete a contact by name\n5. Exit\n"
     ]
    },
    {
     "output_type": "display_data",
     "data": {
      "text/plain": [
       "Enter your choice:  3"
      ]
     },
     "metadata": {},
     "output_type": "display_data"
    },
    {
     "output_type": "display_data",
     "data": {
      "text/plain": [
       "Enter the name of the person you wish to search :  A"
      ]
     },
     "metadata": {},
     "output_type": "display_data"
    },
    {
     "output_type": "stream",
     "name": "stdout",
     "output_type": "stream",
     "text": [
      "{'name': 'A', 'mobile': '759846958', 'email': 'aaa@xyz'}\n1. Add a contact\n2. View all contacts\n3. Search for a contact\n4. Delete a contact by name\n5. Exit\n"
     ]
    },
    {
     "output_type": "display_data",
     "data": {
      "text/plain": [
       "Enter your choice:  4"
      ]
     },
     "metadata": {},
     "output_type": "display_data"
    },
    {
     "output_type": "display_data",
     "data": {
      "text/plain": [
       "Enter the person name to search:  A"
      ]
     },
     "metadata": {},
     "output_type": "display_data"
    },
    {
     "output_type": "stream",
     "name": "stdout",
     "output_type": "stream",
     "text": [
      "The contact with the name A has been deleted from the record.\n1. Add a contact\n2. View all contacts\n3. Search for a contact\n4. Delete a contact by name\n5. Exit\n"
     ]
    },
    {
     "output_type": "display_data",
     "data": {
      "text/plain": [
       "Enter your choice:  2"
      ]
     },
     "metadata": {},
     "output_type": "display_data"
    },
    {
     "output_type": "stream",
     "name": "stdout",
     "output_type": "stream",
     "text": [
      "{'name': 'B', 'mobile': '659847563', 'email': 'b@xyz'}\n{'name': 'C', 'mobile': '745844635', 'email': 'c@xyz'}\n1. Add a contact\n2. View all contacts\n3. Search for a contact\n4. Delete a contact by name\n5. Exit\n"
     ]
    },
    {
     "output_type": "display_data",
     "data": {
      "text/plain": [
       "Enter your choice:  5"
      ]
     },
     "metadata": {},
     "output_type": "display_data"
    },
    {
     "output_type": "stream",
     "name": "stdout",
     "output_type": "stream",
     "text": [
      "Thanks for visiting.\n"
     ]
    },
    {
     "output_type": "display_data",
     "data": {
      "text/html": [
       "<style scoped>\n",
       "  .ansiout {\n",
       "    display: block;\n",
       "    unicode-bidi: embed;\n",
       "    white-space: pre-wrap;\n",
       "    word-wrap: break-word;\n",
       "    word-break: break-all;\n",
       "    font-family: \"Menlo\", \"Monaco\", \"Consolas\", \"Ubuntu Mono\", \"Source Code Pro\", monospace;\n",
       "    font-size: 13px;\n",
       "    color: #555;\n",
       "    margin-left: 4px;\n",
       "    line-height: 19px;\n",
       "  }\n",
       "</style>"
      ]
     },
     "metadata": {
      "application/vnd.databricks.v1+output": {
       "arguments": {},
       "data": "",
       "errorSummary": "",
       "errorTraceType": null,
       "metadata": {},
       "type": "ipynbError"
      }
     },
     "output_type": "display_data"
    }
   ],
   "source": [
    "class ContactManager:\n",
    "    def __init__(self):\n",
    "        self.contact_list = []\n",
    "\n",
    "    def menu(self):\n",
    "        print(\"1. Add a contact\")\n",
    "        print(\"2. View all contacts\")\n",
    "        print(\"3. Search for a contact\")\n",
    "        print(\"4. Delete a contact by name\")\n",
    "        print(\"5. Exit\")\n",
    "        choice = int(input(\"Enter your choice: \"))\n",
    "        return choice\n",
    "\n",
    "    def add_contact(self):\n",
    "        record_dict = {}\n",
    "        name = input(\"Enter your name: \")\n",
    "        mobile = input(\"Enter your mobile_no: \")\n",
    "        email = input(\"Enter your email: \")\n",
    "        record_dict['name'] = name\n",
    "        record_dict['mobile'] = mobile\n",
    "        record_dict['email'] = email\n",
    "        self.contact_list.append(record_dict)\n",
    "\n",
    "    def view_all_contacts(self):\n",
    "        for each_record in self.contact_list:\n",
    "            print(each_record)\n",
    "\n",
    "    def delete_contact_by_name(self):\n",
    "        person_name = input(\"Enter the person name to search: \")\n",
    "        for index, each_record in enumerate(self.contact_list):\n",
    "            if each_record['name'] == person_name:\n",
    "                del self.contact_list[index]\n",
    "                print(f\"The contact with the name {person_name} has been deleted from the record.\")\n",
    "                return\n",
    "        else:\n",
    "            print(f\"No contact found with the name {person_name}.\")\n",
    "\n",
    "    def search_contact(self):\n",
    "        record_name = input(\"Enter the name of the person you wish to search : \")\n",
    "        found_contacts = [record for record in self.contact_list if record['name'] == record_name]\n",
    "\n",
    "        if found_contacts:\n",
    "            for each_record in found_contacts:\n",
    "                print(each_record)\n",
    "        else:\n",
    "            print(f\"No contact found with the name {record_name}.\")\n",
    "\n",
    "    def run_contact_manager(self):\n",
    "        while True:\n",
    "            choice = self.menu()\n",
    "            if choice == 1:\n",
    "                self.add_contact()\n",
    "            elif choice == 2:\n",
    "                self.view_all_contacts()\n",
    "            elif choice == 3:\n",
    "                if len(self.contact_list) > 0:\n",
    "                    self.search_contact()\n",
    "                else:\n",
    "                    print(\"There are no records in the contact list.\")\n",
    "            elif choice == 4:\n",
    "                if len(self.contact_list) > 0:\n",
    "                    self.delete_contact_by_name()\n",
    "                else:\n",
    "                    print(\"There are no records in the contact list.\")\n",
    "            elif choice == 5:\n",
    "                print(\"Thanks for visiting.\")\n",
    "                break\n",
    "            else:\n",
    "                print(\"Please enter a valid choice.\")\n",
    "\n",
    "\n",
    "\n",
    "contact_manager = ContactManager()\n",
    "\n",
    "\n",
    "contact_manager.run_contact_manager()\n"
   ]
  },
  {
   "cell_type": "code",
   "execution_count": 0,
   "metadata": {
    "application/vnd.databricks.v1+cell": {
     "cellMetadata": {
      "byteLimit": 2048000,
      "rowLimit": 10000
     },
     "inputWidgets": {},
     "nuid": "a7802250-4d6b-4d39-8097-a553cb04f18c",
     "showTitle": false,
     "title": ""
    }
   },
   "outputs": [],
   "source": []
  }
 ],
 "metadata": {
  "application/vnd.databricks.v1+notebook": {
   "dashboards": [],
   "language": "python",
   "notebookMetadata": {
    "pythonIndentUnit": 4
   },
   "notebookName": "Sumedh Contact Menu Driven",
   "widgets": {}
  }
 },
 "nbformat": 4,
 "nbformat_minor": 0
}
