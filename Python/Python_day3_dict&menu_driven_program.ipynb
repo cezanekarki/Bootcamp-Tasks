{
 "cells": [
  {
   "cell_type": "code",
   "execution_count": 0,
   "metadata": {
    "application/vnd.databricks.v1+cell": {
     "cellMetadata": {
      "byteLimit": 2048000,
      "rowLimit": 10000
     },
     "inputWidgets": {},
     "nuid": "bf5f6be9-d041-4bbe-b2a9-0f05e9eac510",
     "showTitle": false,
     "title": ""
    }
   },
   "outputs": [
    {
     "output_type": "stream",
     "name": "stdout",
     "output_type": "stream",
     "text": [
      "[{'name': 'Bob', 'age': 22, 'score': 85}, {'name': 'David', 'age': 23, 'score': 95}, {'name': 'Eva', 'age': 24, 'score': 88}, {'name': 'Alice', 'age': 25, 'score': 92}, {'name': 'Charlie', 'age': 27, 'score': 78}]\n"
     ]
    }
   ],
   "source": [
    "students = [\n",
    "    {\"name\": \"Alice\", \"age\": 25, \"score\": 92},\n",
    "    {\"name\": \"Bob\", \"age\": 22, \"score\": 85},\n",
    "    {\"name\": \"Charlie\", \"age\": 27, \"score\": 78},\n",
    "    {\"name\": \"David\", \"age\": 23, \"score\": 95},\n",
    "    {\"name\": \"Eva\", \"age\": 24, \"score\": 88}\n",
    "]\n",
    "def get_age(student):\n",
    "    return student['age']\n",
    " \n",
    "sorted_students = sorted(students, key=get_age)\n",
    "# print(sorted_students)\n",
    "\n",
    "#second method\n",
    "sorted_students = sorted(students, key=lambda student: student['age'])\n",
    "print(sorted_students)\n"
   ]
  },
  {
   "cell_type": "code",
   "execution_count": 0,
   "metadata": {
    "application/vnd.databricks.v1+cell": {
     "cellMetadata": {
      "byteLimit": 2048000,
      "rowLimit": 10000
     },
     "inputWidgets": {},
     "nuid": "eb799817-1679-4aa6-9a4a-e8d5cda67b83",
     "showTitle": false,
     "title": ""
    }
   },
   "outputs": [
    {
     "output_type": "stream",
     "name": "stdout",
     "output_type": "stream",
     "text": [
      "[2, 4, 6, 8, 10]\n[{'name': 'David', 'score': 95}, {'name': 'Bob', 'score': 92}, {'name': 'Eve', 'score': 88}, {'name': 'Alice', 'score': 85}, {'name': 'Charlie', 'score': 78}]\n"
     ]
    }
   ],
   "source": [
    "# You have a list of numbers:\n",
    "numbers = [1, 2, 3, 4, 5, 6, 7, 8, 9, 10]\n",
    "\n",
    "even_num = list(filter(lambda x : x%2==0,numbers))\n",
    "print(even_num)\n",
    "# Using a lambda function and the filter() function, filter out the even numbers from the list. Provide the code to achieve this.\n",
    "students = [\n",
    "    {\"name\": \"Alice\", \"score\": 85},\n",
    "    {\"name\": \"Bob\", \"score\": 92},\n",
    "    {\"name\": \"Charlie\", \"score\": 78},\n",
    "    {\"name\": \"David\", \"score\": 95},\n",
    "    {\"name\": \"Eve\", \"score\": 88}\n",
    "]\n",
    "# Reverse Sort the list of students according to the score.\n",
    "# def get_score(student):\n",
    "#     return student['score']\n",
    "score_sort = sorted(students, key = lambda student : student['score'],reverse = True)\n",
    "print(score_sort)"
   ]
  },
  {
   "cell_type": "code",
   "execution_count": 0,
   "metadata": {
    "application/vnd.databricks.v1+cell": {
     "cellMetadata": {},
     "inputWidgets": {},
     "nuid": "cf57cc36-0a81-4499-b7f4-fed8880dfd1c",
     "showTitle": false,
     "title": ""
    }
   },
   "outputs": [],
   "source": [
    "# # Bootcamp Task:\n",
    "# Project: Contact Book Application\n",
    "# •   Objective: Create a Python program that allows users to manage their contacts. Users should be able to add, view, search for, and delete contacts.\n",
    " \n",
    "# •   Project Steps:\n",
    "# •   Initialize the Contact Book:\n",
    "#    Create an empty list to represent the contact book. Each contact will be a dictionary with attributes like name, phone number, and email.\n",
    "# •   Create Functions:\n",
    "#    Define functions for the following actions:\n",
    "# •   Add a contact.\n",
    "# •   View all contacts.\n",
    "# •   Search for a contact by name.\n",
    "# •   Delete a contact by name.\n",
    "# •   Main Menu:\n",
    "#    Implement a loop that displays a menu of options for the user.\n",
    "#    Options may include adding a contact, viewing contacts, searching for a contact, deleting a contact, or quitting the program.\n",
    "# •   User Input:\n",
    "#    Depending on the user's choice from the menu, prompt them for the necessary input (e.g., name, phone number).\n",
    "# •   Perform Actions:\n",
    "#    Based on the user's choice, call the corresponding function to perform the action.\n",
    "# •   Display the Updated Contact List:\n",
    "#    After each action, display the updated contact list to the user.\n",
    "# •   Exit:\n",
    "#    Allow the user to exit the program when they are done managing their contacts.\n",
    "# o   Hints:\n",
    "# o   Use a list to store the contact dictionaries.\n",
    "# o   Each contact can be represented as a dictionary with keys like \"name,\" \"phone,\" and \"email.\"\n",
    "# o   Create functions for adding, viewing, searching, and deleting contacts.\n",
    "# o   Implement input validation to handle different user inputs.\n",
    "# o   Utilize a lambda function for searching contacts based on name.\n",
    "# o   Use *args and **kwargs in functions to handle variable numbers of arguments for contact attributes.\n",
    " \n",
    "# has context menu"
   ]
  },
  {
   "cell_type": "code",
   "execution_count": 0,
   "metadata": {
    "application/vnd.databricks.v1+cell": {
     "cellMetadata": {
      "byteLimit": 2048000,
      "rowLimit": 10000
     },
     "inputWidgets": {},
     "nuid": "db20e8f1-c820-4ac6-b116-85a2790d60b1",
     "showTitle": false,
     "title": ""
    }
   },
   "outputs": [
    {
     "output_type": "stream",
     "name": "stdout",
     "output_type": "stream",
     "text": [
      "Personal Contact book\n1.Add a contact\n2.View Contact\n3.Search Contact\n4.Delete a contact\n5.Exit\n"
     ]
    },
    {
     "output_type": "display_data",
     "data": {
      "text/plain": [
       "Enter your choice 2"
      ]
     },
     "metadata": {},
     "output_type": "display_data"
    },
    {
     "output_type": "stream",
     "name": "stdout",
     "output_type": "stream",
     "text": [
      "default 0000000 xxxx@yyy\npresent contact book entries\ndefault 0000000 xxxx@yyy\nPersonal Contact book\n1.Add a contact\n2.View Contact\n3.Search Contact\n4.Delete a contact\n5.Exit\n"
     ]
    },
    {
     "output_type": "display_data",
     "data": {
      "text/plain": [
       "Enter your choice 1"
      ]
     },
     "metadata": {},
     "output_type": "display_data"
    },
    {
     "output_type": "display_data",
     "data": {
      "text/plain": [
       "enter the name xyz"
      ]
     },
     "metadata": {},
     "output_type": "display_data"
    },
    {
     "output_type": "display_data",
     "data": {
      "text/plain": [
       "enter phone number 12345678"
      ]
     },
     "metadata": {},
     "output_type": "display_data"
    },
    {
     "output_type": "display_data",
     "data": {
      "text/plain": [
       "Enter the email abc@def.com"
      ]
     },
     "metadata": {},
     "output_type": "display_data"
    },
    {
     "output_type": "stream",
     "name": "stdout",
     "output_type": "stream",
     "text": [
      "contact added\npresent contact book entries\ndefault 0000000 xxxx@yyy\nxyz 12345678 abc@def.com\nPersonal Contact book\n1.Add a contact\n2.View Contact\n3.Search Contact\n4.Delete a contact\n5.Exit\n"
     ]
    },
    {
     "output_type": "display_data",
     "data": {
      "text/plain": [
       "Enter your choice 1"
      ]
     },
     "metadata": {},
     "output_type": "display_data"
    },
    {
     "output_type": "display_data",
     "data": {
      "text/plain": [
       "enter the name abc"
      ]
     },
     "metadata": {},
     "output_type": "display_data"
    },
    {
     "output_type": "display_data",
     "data": {
      "text/plain": [
       "enter phone number 9876543"
      ]
     },
     "metadata": {},
     "output_type": "display_data"
    },
    {
     "output_type": "display_data",
     "data": {
      "text/plain": [
       "Enter the email xyz@uvw.com"
      ]
     },
     "metadata": {},
     "output_type": "display_data"
    },
    {
     "output_type": "stream",
     "name": "stdout",
     "output_type": "stream",
     "text": [
      "contact added\npresent contact book entries\ndefault 0000000 xxxx@yyy\nxyz 12345678 abc@def.com\nabc 9876543 xyz@uvw.com\nPersonal Contact book\n1.Add a contact\n2.View Contact\n3.Search Contact\n4.Delete a contact\n5.Exit\n"
     ]
    },
    {
     "output_type": "display_data",
     "data": {
      "text/plain": [
       "Enter your choice 3"
      ]
     },
     "metadata": {},
     "output_type": "display_data"
    },
    {
     "output_type": "display_data",
     "data": {
      "text/plain": [
       "enter the name to search qwe"
      ]
     },
     "metadata": {},
     "output_type": "display_data"
    },
    {
     "output_type": "stream",
     "name": "stdout",
     "output_type": "stream",
     "text": [
      "name not found\npresent contact book entries\ndefault 0000000 xxxx@yyy\nxyz 12345678 abc@def.com\nabc 9876543 xyz@uvw.com\nPersonal Contact book\n1.Add a contact\n2.View Contact\n3.Search Contact\n4.Delete a contact\n5.Exit\n"
     ]
    },
    {
     "output_type": "display_data",
     "data": {
      "text/plain": [
       "Enter your choice 3"
      ]
     },
     "metadata": {},
     "output_type": "display_data"
    },
    {
     "output_type": "display_data",
     "data": {
      "text/plain": [
       "enter the name to search xyz"
      ]
     },
     "metadata": {},
     "output_type": "display_data"
    },
    {
     "output_type": "stream",
     "name": "stdout",
     "output_type": "stream",
     "text": [
      "xyz 12345678 abc@def.com\npresent contact book entries\ndefault 0000000 xxxx@yyy\nxyz 12345678 abc@def.com\nabc 9876543 xyz@uvw.com\nPersonal Contact book\n1.Add a contact\n2.View Contact\n3.Search Contact\n4.Delete a contact\n5.Exit\n"
     ]
    },
    {
     "output_type": "display_data",
     "data": {
      "text/plain": [
       "Enter your choice 4"
      ]
     },
     "metadata": {},
     "output_type": "display_data"
    },
    {
     "output_type": "display_data",
     "data": {
      "text/plain": [
       "enter the contact name to delete kkk"
      ]
     },
     "metadata": {},
     "output_type": "display_data"
    },
    {
     "output_type": "stream",
     "name": "stdout",
     "output_type": "stream",
     "text": [
      "contact not found\nupdated contact book\npresent contact book entries\ndefault 0000000 xxxx@yyy\nxyz 12345678 abc@def.com\nabc 9876543 xyz@uvw.com\nPersonal Contact book\n1.Add a contact\n2.View Contact\n3.Search Contact\n4.Delete a contact\n5.Exit\n"
     ]
    },
    {
     "output_type": "display_data",
     "data": {
      "text/plain": [
       "Enter your choice 4"
      ]
     },
     "metadata": {},
     "output_type": "display_data"
    },
    {
     "output_type": "display_data",
     "data": {
      "text/plain": [
       "enter the contact name to delete xyz"
      ]
     },
     "metadata": {},
     "output_type": "display_data"
    },
    {
     "output_type": "stream",
     "name": "stdout",
     "output_type": "stream",
     "text": [
      "Contact deleted\nupdated contact book\npresent contact book entries\ndefault 0000000 xxxx@yyy\nabc 9876543 xyz@uvw.com\nPersonal Contact book\n1.Add a contact\n2.View Contact\n3.Search Contact\n4.Delete a contact\n5.Exit\n"
     ]
    },
    {
     "output_type": "display_data",
     "data": {
      "text/plain": [
       "Enter your choice 7"
      ]
     },
     "metadata": {},
     "output_type": "display_data"
    },
    {
     "output_type": "stream",
     "name": "stdout",
     "output_type": "stream",
     "text": [
      "Invalid choice.Enter choice again\npresent contact book entries\ndefault 0000000 xxxx@yyy\nabc 9876543 xyz@uvw.com\nPersonal Contact book\n1.Add a contact\n2.View Contact\n3.Search Contact\n4.Delete a contact\n5.Exit\n"
     ]
    },
    {
     "output_type": "display_data",
     "data": {
      "text/plain": [
       "Enter your choice xyz"
      ]
     },
     "metadata": {},
     "output_type": "display_data"
    },
    {
     "output_type": "display_data",
     "data": {
      "text/plain": [
       "\u001B[0;31m---------------------------------------------------------------------------\u001B[0m\n",
       "\u001B[0;31mValueError\u001B[0m                                Traceback (most recent call last)\n",
       "File \u001B[0;32m<command-2597850514734774>:49\u001B[0m\n",
       "\u001B[1;32m     47\u001B[0m choice \u001B[38;5;241m=\u001B[39m \u001B[38;5;241m0\u001B[39m\n",
       "\u001B[1;32m     48\u001B[0m \u001B[38;5;28;01mwhile\u001B[39;00m choice\u001B[38;5;241m!=\u001B[39m \u001B[38;5;241m5\u001B[39m:\n",
       "\u001B[0;32m---> 49\u001B[0m     choice \u001B[38;5;241m=\u001B[39m menu()\n",
       "\u001B[1;32m     50\u001B[0m     \u001B[38;5;28;01mif\u001B[39;00m choice \u001B[38;5;241m==\u001B[39m \u001B[38;5;241m1\u001B[39m:\n",
       "\u001B[1;32m     51\u001B[0m         add_contact()\n",
       "\n",
       "File \u001B[0;32m<command-2597850514734774>:45\u001B[0m, in \u001B[0;36mmenu\u001B[0;34m()\u001B[0m\n",
       "\u001B[1;32m     43\u001B[0m \u001B[38;5;28mprint\u001B[39m(\u001B[38;5;124m\"\u001B[39m\u001B[38;5;124m4.Delete a contact\u001B[39m\u001B[38;5;124m\"\u001B[39m)\n",
       "\u001B[1;32m     44\u001B[0m \u001B[38;5;28mprint\u001B[39m(\u001B[38;5;124m\"\u001B[39m\u001B[38;5;124m5.Exit\u001B[39m\u001B[38;5;124m\"\u001B[39m)\n",
       "\u001B[0;32m---> 45\u001B[0m \u001B[38;5;28;01mreturn\u001B[39;00m \u001B[38;5;28;43mint\u001B[39;49m\u001B[43m(\u001B[49m\u001B[38;5;28;43minput\u001B[39;49m\u001B[43m(\u001B[49m\u001B[38;5;124;43m\"\u001B[39;49m\u001B[38;5;124;43mEnter your choice\u001B[39;49m\u001B[38;5;124;43m\"\u001B[39;49m\u001B[43m)\u001B[49m\u001B[43m)\u001B[49m\n",
       "\n",
       "\u001B[0;31mValueError\u001B[0m: invalid literal for int() with base 10: 'xyz'"
      ]
     },
     "metadata": {
      "application/vnd.databricks.v1+output": {
       "arguments": {},
       "data": "\u001B[0;31m---------------------------------------------------------------------------\u001B[0m\n\u001B[0;31mValueError\u001B[0m                                Traceback (most recent call last)\nFile \u001B[0;32m<command-2597850514734774>:49\u001B[0m\n\u001B[1;32m     47\u001B[0m choice \u001B[38;5;241m=\u001B[39m \u001B[38;5;241m0\u001B[39m\n\u001B[1;32m     48\u001B[0m \u001B[38;5;28;01mwhile\u001B[39;00m choice\u001B[38;5;241m!=\u001B[39m \u001B[38;5;241m5\u001B[39m:\n\u001B[0;32m---> 49\u001B[0m     choice \u001B[38;5;241m=\u001B[39m menu()\n\u001B[1;32m     50\u001B[0m     \u001B[38;5;28;01mif\u001B[39;00m choice \u001B[38;5;241m==\u001B[39m \u001B[38;5;241m1\u001B[39m:\n\u001B[1;32m     51\u001B[0m         add_contact()\n\nFile \u001B[0;32m<command-2597850514734774>:45\u001B[0m, in \u001B[0;36mmenu\u001B[0;34m()\u001B[0m\n\u001B[1;32m     43\u001B[0m \u001B[38;5;28mprint\u001B[39m(\u001B[38;5;124m\"\u001B[39m\u001B[38;5;124m4.Delete a contact\u001B[39m\u001B[38;5;124m\"\u001B[39m)\n\u001B[1;32m     44\u001B[0m \u001B[38;5;28mprint\u001B[39m(\u001B[38;5;124m\"\u001B[39m\u001B[38;5;124m5.Exit\u001B[39m\u001B[38;5;124m\"\u001B[39m)\n\u001B[0;32m---> 45\u001B[0m \u001B[38;5;28;01mreturn\u001B[39;00m \u001B[38;5;28;43mint\u001B[39;49m\u001B[43m(\u001B[49m\u001B[38;5;28;43minput\u001B[39;49m\u001B[43m(\u001B[49m\u001B[38;5;124;43m\"\u001B[39;49m\u001B[38;5;124;43mEnter your choice\u001B[39;49m\u001B[38;5;124;43m\"\u001B[39;49m\u001B[43m)\u001B[49m\u001B[43m)\u001B[49m\n\n\u001B[0;31mValueError\u001B[0m: invalid literal for int() with base 10: 'xyz'",
       "errorSummary": "<span class='ansi-red-fg'>ValueError</span>: invalid literal for int() with base 10: 'xyz'",
       "errorTraceType": "ansi",
       "metadata": {},
       "type": "ipynbError"
      }
     },
     "output_type": "display_data"
    }
   ],
   "source": [
    "contact_book = [{'name':'default','phone number':'0000000','email':'xxxx@yyy'}]\n",
    "\n",
    "def add_contact():\n",
    "    name = input(\"enter the name\")\n",
    "    phone_number = input(\"enter phone number\")\n",
    "    email = input(\"Enter the email\")\n",
    "    dict_add = {'name':name,'phone number':phone_number,'email':email}\n",
    "    contact_book.append(dict_add)\n",
    "    print(\"contact added\")\n",
    "    \n",
    "\n",
    "def view_contact():\n",
    "    for contact in contact_book:\n",
    "        print(contact['name'],contact['phone number'],contact['email'])\n",
    "\n",
    "def search_contact():\n",
    "    search_name = input(\"enter the name to search\")\n",
    "    for contact in contact_book:\n",
    "        if contact['name'] == search_name:\n",
    "            print(contact['name'],contact['phone number'],contact['email'])\n",
    "            break\n",
    "    else:\n",
    "        print(\"name not found\")\n",
    "\n",
    "def delete_contact():\n",
    "    del_name = input(\"enter the contact name to delete\")\n",
    "    for contact in contact_book:\n",
    "        if contact['name'] == del_name:\n",
    "            contact_book.remove(contact)\n",
    "            print(\"Contact deleted\")\n",
    "            print(\"updated contact book\")\n",
    "            break\n",
    "    else:\n",
    "        print(\"contact not found\")\n",
    "    \n",
    "\n",
    "    \n",
    "\n",
    "def menu():\n",
    "    print(\"Personal Contact book\")\n",
    "    print(\"1.Add a contact\")\n",
    "    print(\"2.View Contact\")\n",
    "    print(\"3.Search Contact\")\n",
    "    print(\"4.Delete a contact\")\n",
    "    print(\"5.Exit\")\n",
    "    return int(input(\"Enter your choice\"))\n",
    "\n",
    "choice = 0\n",
    "while choice!= 5:\n",
    "    choice = menu()\n",
    "    if choice == 1:\n",
    "        add_contact()\n",
    "    elif choice == 2:\n",
    "        view_contact()\n",
    "    elif choice == 3:\n",
    "        search_contact()\n",
    "    elif choice == 4:\n",
    "        delete_contact()\n",
    "    elif choice == 5:\n",
    "        print(\"Exit the program\")\n",
    "    else:\n",
    "        print(\"Invalid choice.Enter choice again\")\n",
    "\n",
    "    print(\"present contact book entries\")\n",
    "    for contact in contact_book:\n",
    "        print(contact['name'],contact['phone number'],contact['email'])\n",
    "    "
   ]
  },
  {
   "cell_type": "code",
   "execution_count": 0,
   "metadata": {
    "application/vnd.databricks.v1+cell": {
     "cellMetadata": {
      "byteLimit": 2048000,
      "rowLimit": 10000
     },
     "inputWidgets": {},
     "nuid": "0331cd75-3712-46dd-9a0f-e6b6e5de966a",
     "showTitle": false,
     "title": ""
    }
   },
   "outputs": [
    {
     "output_type": "stream",
     "name": "stdout",
     "output_type": "stream",
     "text": [
      "\nPersonal Contact Book\n1. Add a contact\n2. View Contacts\n3. Search Contact\n4. Delete a contact\n5. Exit\n"
     ]
    },
    {
     "output_type": "display_data",
     "data": {
      "text/plain": [
       "Enter your choice:  "
      ]
     },
     "metadata": {},
     "output_type": "display_data"
    },
    {
     "output_type": "display_data",
     "data": {
      "text/html": [
       "<style scoped>\n",
       "  .ansiout {\n",
       "    display: block;\n",
       "    unicode-bidi: embed;\n",
       "    white-space: pre-wrap;\n",
       "    word-wrap: break-word;\n",
       "    word-break: break-all;\n",
       "    font-family: \"Menlo\", \"Monaco\", \"Consolas\", \"Ubuntu Mono\", \"Source Code Pro\", monospace;\n",
       "    font-size: 13px;\n",
       "    color: #555;\n",
       "    margin-left: 4px;\n",
       "    line-height: 19px;\n",
       "  }\n",
       "</style>"
      ]
     },
     "metadata": {
      "application/vnd.databricks.v1+output": {
       "arguments": {},
       "data": "",
       "errorSummary": "Cancelled",
       "errorTraceType": "html",
       "metadata": {},
       "type": "ipynbError"
      }
     },
     "output_type": "display_data"
    }
   ],
   "source": [
    "# contact_book using oop concept\n",
    "\n",
    "class ContactBook:\n",
    "    def __init__(self):\n",
    "        self.contacts = [{'name': 'default', 'phone number': '0000000', 'email': 'xxxx@yyy'}]\n",
    "\n",
    "    def add_contact(self):\n",
    "        name = input(\"Enter the name: \")\n",
    "        phone_number = input(\"Enter the phone number: \")\n",
    "        email = input(\"Enter the email: \")\n",
    "        new_contact = {'name': name, 'phone number': phone_number, 'email': email}\n",
    "        self.contacts.append(new_contact)\n",
    "        print(\"Contact added.\")\n",
    "\n",
    "    def view_contacts(self):\n",
    "        for i, contact in enumerate(self.contacts, start=1):\n",
    "            print(f\"Contact {i}: Name: {contact['name']}, Phone: {contact['phone number']}, Email: {contact['email']}\")\n",
    "        else:\n",
    "            print(\"Contact book is empty.\")\n",
    "    def search_contact(self):\n",
    "        search_name = input(\"Enter the name to search: \").lower()\n",
    "        for contact in self.contacts:\n",
    "            if contact['name'].lower() == search_name:\n",
    "                print(f\"Name: {contact['name']}, Phone: {contact['phone number']}, Email: {contact['email']}\")\n",
    "                break\n",
    "        else:\n",
    "            print(\"Contact not found.\")\n",
    "\n",
    "    def delete_contact(self):\n",
    "        del_name = input(\"Enter the contact name to delete: \")\n",
    "        for i, contact in enumerate(self.contacts):\n",
    "            if contact['name'] == del_name:\n",
    "                del self.contacts[i]\n",
    "                print(\"Contact deleted.\")\n",
    "                break\n",
    "        else:\n",
    "            print(\"Contact not found.\")\n",
    "\n",
    "    def display_menu(self):\n",
    "        print(\"\\nPersonal Contact Book\")\n",
    "        print(\"1. Add a contact\")\n",
    "        print(\"2. View Contacts\")\n",
    "        print(\"3. Search Contact\")\n",
    "        print(\"4. Delete a contact\")\n",
    "        print(\"5. Exit\")\n",
    "\n",
    "    def run(self):\n",
    "        while True:\n",
    "            self.display_menu()\n",
    "            choice = input(\"Enter your choice: \")\n",
    "            if choice == '1':\n",
    "                self.add_contact()\n",
    "            elif choice == '2':\n",
    "                self.view_contacts()\n",
    "            elif choice == '3':\n",
    "                self.search_contact()\n",
    "            elif choice == '4':\n",
    "                self.delete_contact()\n",
    "            elif choice == '5':\n",
    "                print(\"Exiting the program...\")\n",
    "                break\n",
    "            else:\n",
    "                print(\"Invalid choice. Enter choice again.\")\n",
    "            \n",
    "            print(\"present contact book entries\")\n",
    "                for i,contact in enumerate(self.contacts):\n",
    "                    print(contact['name'],contact['phone number'],contact['email'])\n",
    "\n",
    "\n",
    "\n",
    "contact_book = ContactBook()\n",
    "contact_book.run()\n"
   ]
  },
  {
   "cell_type": "code",
   "execution_count": 0,
   "metadata": {
    "application/vnd.databricks.v1+cell": {
     "cellMetadata": {},
     "inputWidgets": {},
     "nuid": "11e55518-a49b-43c6-91ee-245ffaccc233",
     "showTitle": false,
     "title": ""
    }
   },
   "outputs": [],
   "source": [
    "#contact_book with lambda functions and kwargs\n"
   ]
  },
  {
   "cell_type": "code",
   "execution_count": 0,
   "metadata": {
    "application/vnd.databricks.v1+cell": {
     "cellMetadata": {},
     "inputWidgets": {},
     "nuid": "b5eef0af-3ed4-4589-993a-9f4eb6fbff54",
     "showTitle": false,
     "title": ""
    }
   },
   "outputs": [],
   "source": []
  }
 ],
 "metadata": {
  "application/vnd.databricks.v1+notebook": {
   "dashboards": [],
   "language": "python",
   "notebookMetadata": {
    "pythonIndentUnit": 4
   },
   "notebookName": "Python_day_3_dict&menu_driven_program",
   "widgets": {}
  }
 },
 "nbformat": 4,
 "nbformat_minor": 0
}
