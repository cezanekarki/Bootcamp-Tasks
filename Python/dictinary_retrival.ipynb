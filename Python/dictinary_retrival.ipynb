{
 "cells": [
  {
   "cell_type": "code",
   "execution_count": 0,
   "metadata": {
    "application/vnd.databricks.v1+cell": {
     "cellMetadata": {
      "byteLimit": 2048000,
      "rowLimit": 10000
     },
     "inputWidgets": {},
     "nuid": "9c338332-c3a7-4237-817c-f8b5cb35d829",
     "showTitle": false,
     "title": ""
    }
   },
   "outputs": [
    {
     "output_type": "stream",
     "name": "stdout",
     "output_type": "stream",
     "text": [
      "Name of the company:  TechGiant\nNumber of employees in the development department:  120\nEmerging market trend:  Quantum Computing\nBranch locations of company:  ['San Francisco', 'Berlin', 'Tokyo']\nProjects under the marketing departments:  ['Brand Campaign', 'Social Media']\nCompetitors of the company:  ['DataCorp', 'InnovaCon', 'NextGenTech']\nCompany headquarter is located in:  New York\nThe company is in Technology industry\n"
     ]
    }
   ],
   "source": [
    "# available dictionary of dictionary storing companyy details\n",
    "\n",
    "data_dictionary = {\n",
    "    \"company\": {\n",
    "        \"name\": \"TechGiant\",\n",
    "        \"industry\": \"Technology\",\n",
    "        \"locations\": {\n",
    "            \"headquarters\": \"New York\",\n",
    "            \"branches\": [\"San Francisco\", \"Berlin\", \"Tokyo\"]\n",
    "        },\n",
    "        \"departments\": {\n",
    "            \"development\": {\n",
    "                \"employees\": 120,\n",
    "                \"projects\": [\"App Development\", \"Software Maintenance\"]\n",
    "            },\n",
    "            \"marketing\": {\n",
    "                \"employees\": 45,\n",
    "                \"projects\": [\"Brand Campaign\", \"Social Media\"]\n",
    "            },\n",
    "            \"sales\": {\n",
    "                \"employees\": 70,\n",
    "                \"projects\": [\"Domestic Sales\", \"International Sales\"]\n",
    "            }\n",
    "        }\n",
    "    },\n",
    "    \"market_info\": {\n",
    "        \"competitors\": [\"DataCorp\", \"InnovaCon\", \"NextGenTech\"],\n",
    "        \"market_trends\": {\n",
    "            \"current\": \"AI and Machine Learning\",\n",
    "            \"emerging\": \"Quantum Computing\"\n",
    "        }\n",
    "    }\n",
    "}\n",
    "\n",
    "print('Name of the company: ', data_dictionary['company']['name'])\n",
    "\n",
    "print('Number of employees in the development department: ', data_dictionary['company']['departments']['development']['employees'])\n",
    "\n",
    "print('Emerging market trend: ', data_dictionary['market_info']['market_trends']['emerging'])\n",
    "\n",
    "print('Branch locations of company: ', data_dictionary['company']['locations']['branches'])\n",
    "\n",
    "print('Projects under the marketing departments: ', data_dictionary['company']['departments']['marketing']['projects'])\n",
    "\n",
    "print('Competitors of the company: ', data_dictionary['market_info']['competitors'])\n",
    "\n",
    "print('Company headquarter is located in: ', data_dictionary['company']['locations']['headquarters'])\n",
    "\n",
    "print('The company is in {} industry'.format(data_dictionary['company']['industry']))"
   ]
  },
  {
   "cell_type": "code",
   "execution_count": 0,
   "metadata": {
    "application/vnd.databricks.v1+cell": {
     "cellMetadata": {},
     "inputWidgets": {},
     "nuid": "b51b3578-b4ee-41a2-b42e-ea5c61925f5a",
     "showTitle": false,
     "title": ""
    }
   },
   "outputs": [],
   "source": []
  }
 ],
 "metadata": {
  "application/vnd.databricks.v1+notebook": {
   "dashboards": [],
   "language": "python",
   "notebookMetadata": {
    "pythonIndentUnit": 4
   },
   "notebookName": "dictinary_retrival",
   "widgets": {}
  }
 },
 "nbformat": 4,
 "nbformat_minor": 0
}
