{
 "cells": [
  {
   "cell_type": "code",
   "execution_count": 0,
   "metadata": {
    "application/vnd.databricks.v1+cell": {
     "cellMetadata": {},
     "inputWidgets": {},
     "nuid": "3ddf0e39-3e08-4b96-a566-e127d4b432c8",
     "showTitle": false,
     "title": ""
    }
   },
   "outputs": [],
   "source": [
    "# BootCamp Task Day 2:\n",
    "\n",
    "# 1.\tConvert \"name:John,age:34,city:New York\" string to dictionary using python.\n",
    "\n",
    "# 2.\tYou have a string that represents information about various books. Each book's information is separated by a pipe (|), and within each book's data, different attributes like title, author, and year are separated by a comma. Your task is to convert this string into a dictionary where each book's title is the key, and the value is another dictionary containing the author and year of publication.\n",
    "\n",
    "# String : \"The Great Gatsby, F. Scott Fitzgerald, 1925 | To Kill a Mockingbird, Harper Lee, 1960 | 1984, George Orwell, 1949\"\n",
    "\n",
    "# Convert this string into a nested dictionary with book titles as keys and another dictionary with 'author' and 'year' as keys and their respective values.\n",
    "# Expected Output:\n",
    "\n",
    "# {\n",
    "#     \t'The Great Gatsby': {'author': 'F. Scott Fitzgerald', 'year': '1925'},\n",
    "#   \t 'To Kill a Mockingbird': {'author': 'Harper Lee', 'year': '1960'},\n",
    "#    \t '1984': {'author': 'George Orwell', 'year': '1949'}\n",
    "# }\n",
    "# 3.\tMerge two different lists into dictionaries:\n",
    "# names = [\"Alice\", \"Bob\", \"Charlie\"]\n",
    "# grades = [\"A\", \"B\", \"C\"]\n",
    "\n",
    "# 4.\tYou have a dictionary of stock quantities for various items and a list of items that have been sold. Update the dictionary by reducing the stock quantity for each sold item.\n",
    "\n",
    "# stock = {\"apples\": 10, \"oranges\": 8, \"bananas\": 6}\n",
    "# sold_items = [\"apples\", \"oranges\", \"apples\", \"bananas\"]\n",
    "\n",
    "# 5.\tYou have three lists, containing names, ages, and occupations of a group of people. Combine these lists into a list of dictionaries, each dictionary containing 'name', 'age', and 'occupation' as keys.\n",
    "# List:\n",
    "# names = [\"Alice\", \"Bob\", \"Charlie\"]\n",
    "# ages = [25, 30, 35]\n",
    "# occupations = [\"Engineer\", \"Doctor\", \"Artist\"]\n",
    "\n",
    "# 6.\tYou have received a text message that contains various sentences, some of which are inquiries (ending with a question mark '?'). Your task is to analyze this message and perform several operations using Python string functions.\n",
    "\n",
    "# Text :  \"Hello! How are you? I hope you're enjoying your day. Have you seen my notebook? It's important. Thanks for your help!\"\n",
    "\n",
    "# Count the Questions: Determine how many sentences in the text are questions.\n",
    "# Extract Questions: Create a list containing only the sentences that are questions.\n",
    "# Remove Punctuation: Create a new version of the text with all punctuation removed.\n",
    "# Word Count: Count how many times the word 'you' appears in the text (case-insensitive).\n",
    "# Concatenate: Concatenate the first and last sentences to form a new sentence.\n",
    "\n",
    "\n",
    "\n",
    "\n",
    "\n",
    "\n",
    "\n",
    "\n",
    "\n"
   ]
  },
  {
   "cell_type": "code",
   "execution_count": 0,
   "metadata": {
    "application/vnd.databricks.v1+cell": {
     "cellMetadata": {
      "byteLimit": 2048000,
      "implicitDf": true,
      "rowLimit": 10000
     },
     "inputWidgets": {},
     "nuid": "de9ccd2a-4e97-4b04-8f1f-b8e6d0fe0ce2",
     "showTitle": false,
     "title": ""
    }
   },
   "outputs": [
    {
     "output_type": "stream",
     "name": "stdout",
     "output_type": "stream",
     "text": [
      "['name:John', 'age:34', 'city:New York']\n{'name': 'John', 'age': '34', 'city': 'New York'}\n"
     ]
    }
   ],
   "source": [
    "# Convert \"name:John,age:34,city:New York\" string to dictionary using python\n",
    "\n",
    "datainput =\"name:John,age:34,city:New York\"\n",
    "cleaned_data = datainput.split(',')\n",
    "print(cleaned_data)\n",
    "my_dict = {}\n",
    "for item in cleaned_data:\n",
    "    key,value = item.split(':')\n",
    "    my_dict[key] = value\n",
    "print(my_dict)\n"
   ]
  },
  {
   "cell_type": "code",
   "execution_count": 0,
   "metadata": {
    "application/vnd.databricks.v1+cell": {
     "cellMetadata": {
      "byteLimit": 2048000,
      "rowLimit": 10000
     },
     "inputWidgets": {},
     "nuid": "c3106f81-2f2f-400a-a6b5-633c9ec27759",
     "showTitle": false,
     "title": ""
    }
   },
   "outputs": [
    {
     "output_type": "stream",
     "name": "stdout",
     "output_type": "stream",
     "text": [
      "{'The Great Gatsby': {'author': ' F. Scott Fitzgerald', 'year': ' 1925 '}, ' To Kill a Mockingbird': {'author': ' Harper Lee', 'year': ' 1960 '}, ' 1984': {'author': ' George Orwell', 'year': ' 1949'}}\n"
     ]
    }
   ],
   "source": [
    "# \tYou have a string that represents information about various books. Each book's information is separated by a pipe (|), and within each book's data, different attributes like title, author, and year are separated by a comma. Your task is to convert this string into a dictionary where each book's title is the key, and the value is another dictionary containing the author and year of publication.\n",
    "# String : \"The Great Gatsby, F. Scott Fitzgerald, 1925 | To Kill a Mockingbird, Harper Lee, 1960 | 1984, George Orwell, 1949\"\n",
    "\n",
    "strinput = \"The Great Gatsby, F. Scott Fitzgerald, 1925 | To Kill a Mockingbird, Harper Lee, 1960 | 1984, George Orwell, 1949\"\n",
    "# pro_str = stringinput.split('|')\n",
    "# print(pro_str)\n",
    "dict1 = {}\n",
    "\n",
    "\n",
    "for item in strinput.split('|'):\n",
    "    book,author,year = item.split(',')\n",
    "    dict1[book] = {\"author\":author,\"year\":year}\n",
    "print(dict1)\n"
   ]
  },
  {
   "cell_type": "code",
   "execution_count": 0,
   "metadata": {
    "application/vnd.databricks.v1+cell": {
     "cellMetadata": {
      "byteLimit": 2048000,
      "rowLimit": 10000
     },
     "inputWidgets": {},
     "nuid": "9d140d65-b324-4a7f-bb05-47612ae6ac48",
     "showTitle": false,
     "title": ""
    }
   },
   "outputs": [
    {
     "output_type": "stream",
     "name": "stdout",
     "output_type": "stream",
     "text": [
      "{'Alice': 'A', 'Bob': 'B', 'Charlie': 'C'}\n"
     ]
    }
   ],
   "source": [
    "# 3.\tMerge two different lists into dictionaries:\n",
    "# names = [\"Alice\", \"Bob\", \"Charlie\"]\n",
    "# grades = [\"A\", \"B\", \"C\"]\n",
    "\n",
    "names = [\"Alice\", \"Bob\", \"Charlie\"]\n",
    "grades = [\"A\", \"B\", \"C\"]\n",
    "dict1 = dict(zip(names,grades))\n",
    "print(dict1)\n",
    "\n",
    "\n"
   ]
  },
  {
   "cell_type": "code",
   "execution_count": 0,
   "metadata": {
    "application/vnd.databricks.v1+cell": {
     "cellMetadata": {
      "byteLimit": 2048000,
      "rowLimit": 10000
     },
     "inputWidgets": {},
     "nuid": "71271f8b-b360-4437-87fa-5e5dc50545c5",
     "showTitle": false,
     "title": ""
    }
   },
   "outputs": [
    {
     "output_type": "stream",
     "name": "stdout",
     "output_type": "stream",
     "text": [
      "updated dictionary is: {'apples': 8, 'oranges': 7, 'bananas': 5}\n"
     ]
    }
   ],
   "source": [
    "# 4.You have a dictionary of stock quantities for various items and a list of items that have been sold. Update the dictionary by reducing the stock quantity for each sold item.\n",
    "\n",
    "stock = {\"apples\": 10, \"oranges\": 8, \"bananas\": 6}\n",
    "sold_items = [\"apples\", \"oranges\", \"apples\", \"bananas\"]\n",
    "\n",
    "for item in sold_items:\n",
    "    stock[item] -= 1\n",
    "print(\"updated dictionary is:\",stock)\n"
   ]
  },
  {
   "cell_type": "code",
   "execution_count": 0,
   "metadata": {
    "application/vnd.databricks.v1+cell": {
     "cellMetadata": {
      "byteLimit": 2048000,
      "rowLimit": 10000
     },
     "inputWidgets": {},
     "nuid": "b1bee778-976c-472d-95bf-005512ddd19b",
     "showTitle": false,
     "title": ""
    }
   },
   "outputs": [
    {
     "output_type": "stream",
     "name": "stdout",
     "output_type": "stream",
     "text": [
      "[{'name': 'Alice', 'age': 25, 'occupation': 'Engineer'}, {'name': 'Bob', 'age': 30, 'occupation': 'Doctor'}, {'name': 'Charlie', 'age': 35, 'occupation': 'Artist'}]\n"
     ]
    }
   ],
   "source": [
    "# 5.\tYou have three lists, containing names, ages, and occupations of a group of people. Combine these lists into a list of dictionaries, each dictionary containing 'name', 'age', and 'occupation' as keys.\n",
    "# List:\n",
    "names = [\"Alice\", \"Bob\", \"Charlie\"]\n",
    "ages = [25, 30, 35]\n",
    "occupations = [\"Engineer\", \"Doctor\", \"Artist\"]\n",
    "list1 =[]\n",
    "for i in range(0,len(names)):\n",
    "    x = {'name':names[i],'age':ages[i],'occupation':occupations[i]}\n",
    "    list1.append(x)\n",
    "print(list1)\n"
   ]
  },
  {
   "cell_type": "code",
   "execution_count": 0,
   "metadata": {
    "application/vnd.databricks.v1+cell": {
     "cellMetadata": {
      "byteLimit": 2048000,
      "rowLimit": 10000
     },
     "inputWidgets": {},
     "nuid": "4d758612-09b4-4257-b130-9c2caf83f245",
     "showTitle": false,
     "title": ""
    }
   },
   "outputs": [
    {
     "output_type": "stream",
     "name": "stdout",
     "output_type": "stream",
     "text": [
      "number of questions: 2\ntext without punctuation : Hello How are you I hope youre enjoying your day Have you seen my notebook Its important Thanks for your help\ncount of 'you': 2\nHello! How are you? I hope you're enjoying your day. Have you seen my notebook? It's important. Thanks for your help!\n"
     ]
    }
   ],
   "source": [
    "# 6.\tYou have received a text message that contains various sentences, some of which are inquiries (ending with a question mark '?'). Your task is to analyze this message and perform several operations using Python string functions.\n",
    "\n",
    "# Text :  \"Hello! How are you? I hope you're enjoying your day. Have you seen my notebook? It's important. Thanks for your help!\"\n",
    "\n",
    "# Count the Questions: Determine how many sentences in the text are questions.\n",
    "# Extract Questions: Create a list containing only the sentences that are questions.\n",
    "# Remove Punctuation: Create a new version of the text with all punctuation removed.\n",
    "# Word Count: Count how many times the word 'you' appears in the text (case-insensitive).\n",
    "# Concatenate: Concatenate the first and last sentences to form a new sentence.\n",
    "import string\n",
    "text = \"Hello! How are you? I hope you're enjoying your day. Have you seen my notebook? It's important. Thanks for your help!\"\n",
    "#count the questions\n",
    "\n",
    "count = text.count('?')\n",
    "print(\"number of questions:\",count)\n",
    "\n",
    "#extract questions\n",
    "\n",
    "# import re\n",
    "# pattern = re.compile(r'[^.!?]*\\?')\n",
    "# q = pattern.findall(text)\n",
    "# print(f\"List of Questions: {q}\")\n",
    " \n",
    "# for i in q:\n",
    "#     print(i)\n",
    "# #question_count, questions, text_no_punctuation, you_count, first_and_last_sentence concatenation_sentence = sentences[0].split('!')[0] +' '+ sentences[-1].split('!')[0] concatenation_sentence\n",
    "\n",
    "\n",
    "sentences = [] \n",
    "current_sentence = '' \n",
    "for char in text: \n",
    "    current_sentence += char \n",
    "    if char in '.!?': \n",
    "        sentences.append(current_sentence.strip()) \n",
    "        current_sentence = '' \n",
    "        if current_sentence: \n",
    "            sentences.append(current_sentence.strip()) \n",
    "print(sentences)\n",
    "questions = [sentence for sentence in sentences if sentence.endswith('?')]\n",
    "question_count = len(questions)\n",
    "\n",
    "# new_txt = text.split('!')\n",
    "# new_txt = text.split('.')\n",
    "# new_txt1 = new_txt.split('.')\n",
    "# print(new_txt1)\n",
    "\n",
    "#remove punctuation\n",
    "\n",
    "new_txt = ''\n",
    "for word in text:\n",
    "    if word.isalnum() or word.isspace():\n",
    "        new_txt += word\n",
    "    else:\n",
    "        continue\n",
    "print(\"text without punctuation :\",new_txt)\n",
    "\n",
    "#second method using string module and functions\n",
    "# for punctuation in string.punctuation:\n",
    "#     text = text.replace(punctuation, \"\")\n",
    "# print(text)\n",
    "\n",
    "#word count\n",
    "\n",
    "count_you = new_txt.lower().count(\"you \")\n",
    "print(\"count of 'you':\",count_you)\n",
    "print(text)\n",
    "\n",
    "#concatenate\n",
    "\n",
    "first_sentence = sentences[0].split('!')[0] \n",
    "last_sentence = sentences[-1].split('!')[0] \n",
    "# if sentences[-1].endswith('!') else sentences[-1] \n",
    "first_and_last_sentence = first_sentence + ' ' + last_sentence  \n",
    "\n",
    "print(first_and_last_sentence)\n"
   ]
  },
  {
   "cell_type": "code",
   "execution_count": 0,
   "metadata": {
    "application/vnd.databricks.v1+cell": {
     "cellMetadata": {},
     "inputWidgets": {},
     "nuid": "e4fa2ddf-168f-440a-b932-9e20cb14e818",
     "showTitle": false,
     "title": ""
    }
   },
   "outputs": [],
   "source": []
  }
 ],
 "metadata": {
  "application/vnd.databricks.v1+notebook": {
   "dashboards": [],
   "language": "python",
   "notebookMetadata": {
    "mostRecentlyExecutedCommandWithImplicitDF": {
     "commandId": -1,
     "dataframes": [
      "_sqldf"
     ]
    },
    "pythonIndentUnit": 4
   },
   "notebookName": "python_task_day2_listDict_programs",
   "widgets": {}
  }
 },
 "nbformat": 4,
 "nbformat_minor": 0
}
