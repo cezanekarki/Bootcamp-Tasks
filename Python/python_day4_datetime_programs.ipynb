{
 "cells": [
  {
   "cell_type": "code",
   "execution_count": 0,
   "metadata": {
    "application/vnd.databricks.v1+cell": {
     "cellMetadata": {
      "byteLimit": 2048000,
      "rowLimit": 10000
     },
     "inputWidgets": {},
     "nuid": "34a8ea91-c35f-401f-a457-87d17c74d4f8",
     "showTitle": true,
     "title": "datetime problems"
    }
   },
   "outputs": [],
   "source": [
    "# pip install python-dateutil\n",
    "\n",
    "\n",
    "from datetime import datetime\n",
    "from dateutil.relativedelta import relativedelta\n"
   ]
  },
  {
   "cell_type": "code",
   "execution_count": 0,
   "metadata": {
    "application/vnd.databricks.v1+cell": {
     "cellMetadata": {
      "byteLimit": 2048000,
      "rowLimit": 10000
     },
     "inputWidgets": {},
     "nuid": "66f2b9dd-c9db-4095-8bce-5e6c9ba32b8f",
     "showTitle": false,
     "title": ""
    }
   },
   "outputs": [
    {
     "output_type": "display_data",
     "data": {
      "text/plain": [
       "enter the date of birth in format dd-mm-yyyy 07-01-1997"
      ]
     },
     "metadata": {},
     "output_type": "display_data"
    },
    {
     "output_type": "stream",
     "name": "stdout",
     "output_type": "stream",
     "text": [
      "the age of person is 27\nremaining days left for birthday are 335\nnumber of months passed are 324 and number of weeks passed are 1408\n"
     ]
    }
   ],
   "source": [
    "# write a python function to calculate age using date of birth\n",
    "def calculate_age(date): \n",
    "    dob = datetime.strptime(date,\"%d-%m-%Y\") \n",
    "    cur_year = datetime.now().year \n",
    "    print(\"the age of person is\",cur_year-dob.year) \n",
    "    \n",
    "date = input(\"enter the date of birth in format dd-mm-yyyy\")\n",
    "calculate_age(date) \n",
    "\n",
    "# Write another function to calculate remaining days left for the person's birthday.\n",
    "\n",
    "def days_to_birthday(date): \n",
    "    dob = datetime.strptime(date,\"%d-%m-%Y\") \n",
    "    cur_date = datetime.now()\n",
    "    next_dob = dob.replace(year = cur_date.year) \n",
    "    # print(next_dob) \n",
    "    if cur_date.month > next_dob.month or cur_date.day > next_dob.day: \n",
    "        next_dob=next_dob.replace(year = cur_date.year+1) \n",
    "    # print(next_dob) \n",
    "    print(\"remaining days left for birthday are\",(next_dob-cur_date).days) \n",
    "        \n",
    "days_to_birthday(date) \n",
    "\n",
    "# Write another function to calculate the number of months and weeks passed after the person was born.\n",
    "def month_week(date): \n",
    "    dob = datetime.strptime(date,\"%d-%m-%Y\") \n",
    "    cur_date = datetime.now() \n",
    "    delta = relativedelta(cur_date,dob) \n",
    "    months = delta.years*12+delta.months \n",
    "    weeks = delta.years*52+ delta.months * 4 + delta.days // 7 \n",
    "    print(f\"number of months passed are {months} and number of weeks passed are {weeks}\") \n",
    "month_week(date)\n"
   ]
  },
  {
   "cell_type": "code",
   "execution_count": 0,
   "metadata": {
    "application/vnd.databricks.v1+cell": {
     "cellMetadata": {
      "byteLimit": 2048000,
      "rowLimit": 10000
     },
     "inputWidgets": {},
     "nuid": "aa556975-a66b-408d-8872-e80a30398c24",
     "showTitle": false,
     "title": ""
    }
   },
   "outputs": [
    {
     "output_type": "stream",
     "name": "stdout",
     "output_type": "stream",
     "text": [
      "100\n40\nTrue\n"
     ]
    }
   ],
   "source": [
    "# Create a Python class named Rectangle to represent rectangles. The class should have the following attributes and methods:\n",
    "\n",
    "# Attributes:\n",
    "\n",
    "# length (positive float): Length of the rectangle.\n",
    "\n",
    "# width (positive float): Width of the rectangle.\n",
    "\n",
    "# Methods:\n",
    "\n",
    "# __init__(self, length, width): Constructor method to initialize the length and width attributes.\n",
    "# calculate_area(self): Method that calculates and returns the area of the rectangle.\n",
    "# calculate_perimeter(self): Method that calculates and returns the perimeter of the rectangle.\n",
    "# is_square(self): Method that returns True if the rectangle is a square (length equals width), otherwise returns False.\n",
    "\n",
    "\n",
    "class rectangle():\n",
    "    def __init__(self,length,width):\n",
    "        self.length = length\n",
    "        self.width = width\n",
    "    \n",
    "    def calculate_area(self):\n",
    "        area = self.length * self.width\n",
    "        return area\n",
    "\n",
    "    def calculate_perimeter(self):\n",
    "        perimeter = 2 * (self.length + self.width)\n",
    "        return perimeter\n",
    "    \n",
    "    def is_square(self):\n",
    "        if self.length == self.width:\n",
    "            return True\n",
    "        else:\n",
    "            return False\n",
    "\n",
    "r1 = rectangle(10,10)\n",
    "print(r1.calculate_area())\n",
    "print(r1.calculate_perimeter())\n",
    "print(r1.is_square())\n"
   ]
  },
  {
   "cell_type": "code",
   "execution_count": 0,
   "metadata": {
    "application/vnd.databricks.v1+cell": {
     "cellMetadata": {
      "byteLimit": 2048000,
      "rowLimit": 10000
     },
     "inputWidgets": {},
     "nuid": "e3d63e5f-c512-4b9e-833f-6bef028f9f6c",
     "showTitle": false,
     "title": ""
    }
   },
   "outputs": [
    {
     "output_type": "stream",
     "name": "stdout",
     "output_type": "stream",
     "text": [
      "2024-02-06 14:12:43.596035\n2024-06-01 00:00:00\n2025-06-01 00:00:00\n480\n"
     ]
    }
   ],
   "source": [
    "# def days_to_birthday(date): \n",
    "#     dob = datetime.strptime(date,\"%Y-%m-%d\") \n",
    "#     cur_date = datetime.now()\n",
    "#     print(cur_date)\n",
    "#     next_dob = dob.replace(year = cur_date.year) \n",
    "#     print(next_dob) \n",
    "#     if cur_date.month > next_dob.month or cur_date.day > next_dob.day: \n",
    "#         next_dob=next_dob.replace(year = cur_date.year+1) \n",
    "#     print(next_dob) \n",
    "#     print((next_dob-cur_date).days) \n",
    "        \n",
    "# days_to_birthday(date)"
   ]
  },
  {
   "cell_type": "code",
   "execution_count": 0,
   "metadata": {
    "application/vnd.databricks.v1+cell": {
     "cellMetadata": {},
     "inputWidgets": {},
     "nuid": "ba2dd0ed-e824-4db8-b756-da41a58b02c6",
     "showTitle": false,
     "title": ""
    }
   },
   "outputs": [],
   "source": []
  }
 ],
 "metadata": {
  "application/vnd.databricks.v1+notebook": {
   "dashboards": [],
   "language": "python",
   "notebookMetadata": {
    "pythonIndentUnit": 4
   },
   "notebookName": "python_day4_datetime_programs",
   "widgets": {}
  }
 },
 "nbformat": 4,
 "nbformat_minor": 0
}
