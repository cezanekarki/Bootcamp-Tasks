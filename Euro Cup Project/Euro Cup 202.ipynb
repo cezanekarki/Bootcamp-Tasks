{
 "cells": [
  {
   "cell_type": "code",
   "execution_count": 0,
   "metadata": {
    "application/vnd.databricks.v1+cell": {
     "cellMetadata": {
      "byteLimit": 2048000,
      "rowLimit": 10000
     },
     "inputWidgets": {},
     "nuid": "fbcd7762-9fee-41d2-b66d-00509687c2cb",
     "showTitle": false,
     "title": ""
    }
   },
   "outputs": [],
   "source": [
    "from pyspark.sql.functions import *"
   ]
  },
  {
   "cell_type": "code",
   "execution_count": 0,
   "metadata": {
    "application/vnd.databricks.v1+cell": {
     "cellMetadata": {
      "byteLimit": 2048000,
      "rowLimit": 10000
     },
     "inputWidgets": {},
     "nuid": "5c5c5203-d1d6-402a-8863-f173550ff409",
     "showTitle": false,
     "title": ""
    }
   },
   "outputs": [
    {
     "output_type": "display_data",
     "data": {
      "text/html": [
       "<style scoped>\n",
       "  .table-result-container {\n",
       "    max-height: 300px;\n",
       "    overflow: auto;\n",
       "  }\n",
       "  table, th, td {\n",
       "    border: 1px solid black;\n",
       "    border-collapse: collapse;\n",
       "  }\n",
       "  th, td {\n",
       "    padding: 5px;\n",
       "  }\n",
       "  th {\n",
       "    text-align: left;\n",
       "  }\n",
       "</style><div class='table-result-container'><table class='table-result'><thead style='background-color: white'><tr><th>team </th><th>group</th><th>matches</th><th>win</th><th>draw</th><th>lose</th><th>gf</th><th>ga</th><th>gd</th><th>pts</th></tr></thead><tbody><tr><td>Turkey</td><td>A</td><td>3.0</td><td>1.0</td><td>1.0</td><td>1.0</td><td>5.0</td><td>5.0</td><td>0.0</td><td>4.0</td></tr><tr><td>Italy</td><td>A</td><td>3.0</td><td>2.0</td><td>1.0</td><td>0.0</td><td>2.0</td><td>6.0</td><td>-4.0</td><td>7.0</td></tr><tr><td>Wales </td><td>A</td><td>3.0</td><td>1.0</td><td>0.0</td><td>2.0</td><td>3.0</td><td>0.0</td><td>3.0</td><td>3.0</td></tr><tr><td>Switzerland</td><td>A</td><td>3.0</td><td>1.0</td><td>1.0</td><td>1.0</td><td>6.0</td><td>3.0</td><td>3.0</td><td>4.0</td></tr><tr><td>Denmark</td><td>B</td><td>3.0</td><td>2.0</td><td>0.0</td><td>1.0</td><td>6.0</td><td>6.0</td><td>0.0</td><td>6.0</td></tr><tr><td>Finland</td><td>B</td><td>3.0</td><td>2.0</td><td>0.0</td><td>1.0</td><td>0.0</td><td>5.0</td><td>-5.0</td><td>6.0</td></tr><tr><td>Belgium</td><td>B</td><td>3.0</td><td>2.0</td><td>1.0</td><td>0.0</td><td>2.0</td><td>5.0</td><td>-3.0</td><td>7.0</td></tr><tr><td>Russia</td><td>B</td><td>3.0</td><td>1.0</td><td>1.0</td><td>1.0</td><td>0.0</td><td>2.0</td><td>-2.0</td><td>4.0</td></tr><tr><td>Netherlands</td><td>C</td><td>3.0</td><td>1.0</td><td>1.0</td><td>1.0</td><td>1.0</td><td>4.0</td><td>-3.0</td><td>4.0</td></tr><tr><td>Ukraine</td><td>C</td><td>3.0</td><td>1.0</td><td>0.0</td><td>2.0</td><td>6.0</td><td>1.0</td><td>5.0</td><td>3.0</td></tr><tr><td>Austria</td><td>C</td><td>3.0</td><td>1.0</td><td>0.0</td><td>2.0</td><td>6.0</td><td>1.0</td><td>5.0</td><td>3.0</td></tr><tr><td>North Macedonia</td><td>C</td><td>3.0</td><td>0.0</td><td>1.0</td><td>2.0</td><td>6.0</td><td>5.0</td><td>1.0</td><td>1.0</td></tr><tr><td>England</td><td>D</td><td>3.0</td><td>2.0</td><td>0.0</td><td>1.0</td><td>2.0</td><td>5.0</td><td>-3.0</td><td>6.0</td></tr><tr><td>Croatia</td><td>D</td><td>3.0</td><td>1.0</td><td>1.0</td><td>1.0</td><td>0.0</td><td>5.0</td><td>-5.0</td><td>4.0</td></tr><tr><td>Scotland</td><td>D</td><td>3.0</td><td>2.0</td><td>0.0</td><td>1.0</td><td>3.0</td><td>3.0</td><td>0.0</td><td>6.0</td></tr><tr><td>Checz Republic</td><td>D</td><td>3.0</td><td>2.0</td><td>0.0</td><td>1.0</td><td>3.0</td><td>0.0</td><td>3.0</td><td>6.0</td></tr><tr><td>Spain</td><td>E</td><td>3.0</td><td>1.0</td><td>1.0</td><td>1.0</td><td>3.0</td><td>6.0</td><td>-3.0</td><td>4.0</td></tr><tr><td>Sweden</td><td>E</td><td>3.0</td><td>2.0</td><td>0.0</td><td>1.0</td><td>1.0</td><td>4.0</td><td>-3.0</td><td>6.0</td></tr><tr><td>Poland</td><td>E</td><td>3.0</td><td>1.0</td><td>0.0</td><td>2.0</td><td>2.0</td><td>6.0</td><td>-4.0</td><td>3.0</td></tr><tr><td>Slovakia</td><td>E</td><td>3.0</td><td>2.0</td><td>1.0</td><td>0.0</td><td>2.0</td><td>2.0</td><td>0.0</td><td>7.0</td></tr><tr><td>Hungary</td><td>F</td><td>3.0</td><td>1.0</td><td>1.0</td><td>1.0</td><td>2.0</td><td>0.0</td><td>2.0</td><td>4.0</td></tr><tr><td>Portugal</td><td>F</td><td>3.0</td><td>1.0</td><td>0.0</td><td>2.0</td><td>0.0</td><td>3.0</td><td>-3.0</td><td>3.0</td></tr><tr><td>France</td><td>F</td><td>3.0</td><td>2.0</td><td>1.0</td><td>0.0</td><td>4.0</td><td>6.0</td><td>-2.0</td><td>7.0</td></tr><tr><td>Germany</td><td>F</td><td>3.0</td><td>2.0</td><td>1.0</td><td>0.0</td><td>5.0</td><td>5.0</td><td>0.0</td><td>7.0</td></tr></tbody></table></div>"
      ]
     },
     "metadata": {
      "application/vnd.databricks.v1+output": {
       "addedWidgets": {},
       "aggData": [],
       "aggError": "",
       "aggOverflow": false,
       "aggSchema": [],
       "aggSeriesLimitReached": false,
       "aggType": "",
       "arguments": {},
       "columnCustomDisplayInfos": {},
       "data": [
        [
         "Turkey",
         "A",
         3.0,
         1.0,
         1.0,
         1.0,
         5.0,
         5.0,
         0.0,
         4.0
        ],
        [
         "Italy",
         "A",
         3.0,
         2.0,
         1.0,
         0.0,
         2.0,
         6.0,
         -4.0,
         7.0
        ],
        [
         "Wales ",
         "A",
         3.0,
         1.0,
         0.0,
         2.0,
         3.0,
         0.0,
         3.0,
         3.0
        ],
        [
         "Switzerland",
         "A",
         3.0,
         1.0,
         1.0,
         1.0,
         6.0,
         3.0,
         3.0,
         4.0
        ],
        [
         "Denmark",
         "B",
         3.0,
         2.0,
         0.0,
         1.0,
         6.0,
         6.0,
         0.0,
         6.0
        ],
        [
         "Finland",
         "B",
         3.0,
         2.0,
         0.0,
         1.0,
         0.0,
         5.0,
         -5.0,
         6.0
        ],
        [
         "Belgium",
         "B",
         3.0,
         2.0,
         1.0,
         0.0,
         2.0,
         5.0,
         -3.0,
         7.0
        ],
        [
         "Russia",
         "B",
         3.0,
         1.0,
         1.0,
         1.0,
         0.0,
         2.0,
         -2.0,
         4.0
        ],
        [
         "Netherlands",
         "C",
         3.0,
         1.0,
         1.0,
         1.0,
         1.0,
         4.0,
         -3.0,
         4.0
        ],
        [
         "Ukraine",
         "C",
         3.0,
         1.0,
         0.0,
         2.0,
         6.0,
         1.0,
         5.0,
         3.0
        ],
        [
         "Austria",
         "C",
         3.0,
         1.0,
         0.0,
         2.0,
         6.0,
         1.0,
         5.0,
         3.0
        ],
        [
         "North Macedonia",
         "C",
         3.0,
         0.0,
         1.0,
         2.0,
         6.0,
         5.0,
         1.0,
         1.0
        ],
        [
         "England",
         "D",
         3.0,
         2.0,
         0.0,
         1.0,
         2.0,
         5.0,
         -3.0,
         6.0
        ],
        [
         "Croatia",
         "D",
         3.0,
         1.0,
         1.0,
         1.0,
         0.0,
         5.0,
         -5.0,
         4.0
        ],
        [
         "Scotland",
         "D",
         3.0,
         2.0,
         0.0,
         1.0,
         3.0,
         3.0,
         0.0,
         6.0
        ],
        [
         "Checz Republic",
         "D",
         3.0,
         2.0,
         0.0,
         1.0,
         3.0,
         0.0,
         3.0,
         6.0
        ],
        [
         "Spain",
         "E",
         3.0,
         1.0,
         1.0,
         1.0,
         3.0,
         6.0,
         -3.0,
         4.0
        ],
        [
         "Sweden",
         "E",
         3.0,
         2.0,
         0.0,
         1.0,
         1.0,
         4.0,
         -3.0,
         6.0
        ],
        [
         "Poland",
         "E",
         3.0,
         1.0,
         0.0,
         2.0,
         2.0,
         6.0,
         -4.0,
         3.0
        ],
        [
         "Slovakia",
         "E",
         3.0,
         2.0,
         1.0,
         0.0,
         2.0,
         2.0,
         0.0,
         7.0
        ],
        [
         "Hungary",
         "F",
         3.0,
         1.0,
         1.0,
         1.0,
         2.0,
         0.0,
         2.0,
         4.0
        ],
        [
         "Portugal",
         "F",
         3.0,
         1.0,
         0.0,
         2.0,
         0.0,
         3.0,
         -3.0,
         3.0
        ],
        [
         "France",
         "F",
         3.0,
         2.0,
         1.0,
         0.0,
         4.0,
         6.0,
         -2.0,
         7.0
        ],
        [
         "Germany",
         "F",
         3.0,
         2.0,
         1.0,
         0.0,
         5.0,
         5.0,
         0.0,
         7.0
        ]
       ],
       "datasetInfos": [],
       "dbfsResultPath": null,
       "isJsonSchema": true,
       "metadata": {},
       "overflow": false,
       "plotOptions": {
        "customPlotOptions": {},
        "displayType": "table",
        "pivotAggregation": null,
        "pivotColumns": null,
        "xColumns": null,
        "yColumns": null
       },
       "removedWidgets": [],
       "schema": [
        {
         "metadata": "{}",
         "name": "team ",
         "type": "\"string\""
        },
        {
         "metadata": "{}",
         "name": "group",
         "type": "\"string\""
        },
        {
         "metadata": "{}",
         "name": "matches",
         "type": "\"double\""
        },
        {
         "metadata": "{}",
         "name": "win",
         "type": "\"double\""
        },
        {
         "metadata": "{}",
         "name": "draw",
         "type": "\"double\""
        },
        {
         "metadata": "{}",
         "name": "lose",
         "type": "\"double\""
        },
        {
         "metadata": "{}",
         "name": "gf",
         "type": "\"double\""
        },
        {
         "metadata": "{}",
         "name": "ga",
         "type": "\"double\""
        },
        {
         "metadata": "{}",
         "name": "gd",
         "type": "\"double\""
        },
        {
         "metadata": "{}",
         "name": "pts",
         "type": "\"double\""
        }
       ],
       "type": "table"
      }
     },
     "output_type": "display_data"
    }
   ],
   "source": [
    "# File location and type\n",
    "file_location = \"dbfs:/FileStore/tables/data.xlsx\"\n",
    "file_type = \"com.crealytics.spark.excel\"\n",
    "\n",
    "# CSV options\n",
    "infer_schema = \"true\"\n",
    "first_row_is_header = \"true\"\n",
    "delimiter = \",\"\n",
    "\n",
    "# The applied options are for CSV files. For other file types, these will be ignored.\n",
    "teams_df = spark.read.format(file_type) \\\n",
    "  .option(\"inferSchema\", infer_schema) \\\n",
    "  .option(\"header\", first_row_is_header) \\\n",
    "  .option(\"sep\", delimiter) \\\n",
    "  .load(file_location)\n",
    "\n",
    "display(teams_df)"
   ]
  },
  {
   "cell_type": "code",
   "execution_count": 0,
   "metadata": {
    "application/vnd.databricks.v1+cell": {
     "cellMetadata": {
      "byteLimit": 2048000,
      "rowLimit": 10000
     },
     "inputWidgets": {},
     "nuid": "38b620ac-ee11-48e4-b9e2-cf51214a032f",
     "showTitle": false,
     "title": ""
    }
   },
   "outputs": [],
   "source": [
    "# Create a view or table\n",
    "temp_table_name = \"group_stage\"\n",
    "teams_df.createOrReplaceTempView(temp_table_name)"
   ]
  },
  {
   "cell_type": "code",
   "execution_count": 0,
   "metadata": {
    "application/vnd.databricks.v1+cell": {
     "cellMetadata": {
      "byteLimit": 2048000,
      "implicitDf": true,
      "rowLimit": 10000
     },
     "inputWidgets": {},
     "nuid": "2d0563b2-0b53-448a-9c90-8f7d0f1e3b7f",
     "showTitle": false,
     "title": ""
    }
   },
   "outputs": [
    {
     "output_type": "display_data",
     "data": {
      "text/html": [
       "<style scoped>\n",
       "  .table-result-container {\n",
       "    max-height: 300px;\n",
       "    overflow: auto;\n",
       "  }\n",
       "  table, th, td {\n",
       "    border: 1px solid black;\n",
       "    border-collapse: collapse;\n",
       "  }\n",
       "  th, td {\n",
       "    padding: 5px;\n",
       "  }\n",
       "  th {\n",
       "    text-align: left;\n",
       "  }\n",
       "</style><div class='table-result-container'><table class='table-result'><thead style='background-color: white'><tr><th>team </th><th>group</th><th>matches</th><th>win</th><th>draw</th><th>lose</th><th>gf</th><th>ga</th><th>gd</th><th>pts</th></tr></thead><tbody><tr><td>Turkey</td><td>A</td><td>3.0</td><td>1.0</td><td>1.0</td><td>1.0</td><td>5.0</td><td>5.0</td><td>0.0</td><td>4.0</td></tr><tr><td>Italy</td><td>A</td><td>3.0</td><td>2.0</td><td>1.0</td><td>0.0</td><td>2.0</td><td>6.0</td><td>-4.0</td><td>7.0</td></tr><tr><td>Wales </td><td>A</td><td>3.0</td><td>1.0</td><td>0.0</td><td>2.0</td><td>3.0</td><td>0.0</td><td>3.0</td><td>3.0</td></tr><tr><td>Switzerland</td><td>A</td><td>3.0</td><td>1.0</td><td>1.0</td><td>1.0</td><td>6.0</td><td>3.0</td><td>3.0</td><td>4.0</td></tr><tr><td>Denmark</td><td>B</td><td>3.0</td><td>2.0</td><td>0.0</td><td>1.0</td><td>6.0</td><td>6.0</td><td>0.0</td><td>6.0</td></tr><tr><td>Finland</td><td>B</td><td>3.0</td><td>2.0</td><td>0.0</td><td>1.0</td><td>0.0</td><td>5.0</td><td>-5.0</td><td>6.0</td></tr><tr><td>Belgium</td><td>B</td><td>3.0</td><td>2.0</td><td>1.0</td><td>0.0</td><td>2.0</td><td>5.0</td><td>-3.0</td><td>7.0</td></tr><tr><td>Russia</td><td>B</td><td>3.0</td><td>1.0</td><td>1.0</td><td>1.0</td><td>0.0</td><td>2.0</td><td>-2.0</td><td>4.0</td></tr><tr><td>Netherlands</td><td>C</td><td>3.0</td><td>1.0</td><td>1.0</td><td>1.0</td><td>1.0</td><td>4.0</td><td>-3.0</td><td>4.0</td></tr><tr><td>Ukraine</td><td>C</td><td>3.0</td><td>1.0</td><td>0.0</td><td>2.0</td><td>6.0</td><td>1.0</td><td>5.0</td><td>3.0</td></tr><tr><td>Austria</td><td>C</td><td>3.0</td><td>1.0</td><td>0.0</td><td>2.0</td><td>6.0</td><td>1.0</td><td>5.0</td><td>3.0</td></tr><tr><td>North Macedonia</td><td>C</td><td>3.0</td><td>0.0</td><td>1.0</td><td>2.0</td><td>6.0</td><td>5.0</td><td>1.0</td><td>1.0</td></tr><tr><td>England</td><td>D</td><td>3.0</td><td>2.0</td><td>0.0</td><td>1.0</td><td>2.0</td><td>5.0</td><td>-3.0</td><td>6.0</td></tr><tr><td>Croatia</td><td>D</td><td>3.0</td><td>1.0</td><td>1.0</td><td>1.0</td><td>0.0</td><td>5.0</td><td>-5.0</td><td>4.0</td></tr><tr><td>Scotland</td><td>D</td><td>3.0</td><td>2.0</td><td>0.0</td><td>1.0</td><td>3.0</td><td>3.0</td><td>0.0</td><td>6.0</td></tr><tr><td>Checz Republic</td><td>D</td><td>3.0</td><td>2.0</td><td>0.0</td><td>1.0</td><td>3.0</td><td>0.0</td><td>3.0</td><td>6.0</td></tr><tr><td>Spain</td><td>E</td><td>3.0</td><td>1.0</td><td>1.0</td><td>1.0</td><td>3.0</td><td>6.0</td><td>-3.0</td><td>4.0</td></tr><tr><td>Sweden</td><td>E</td><td>3.0</td><td>2.0</td><td>0.0</td><td>1.0</td><td>1.0</td><td>4.0</td><td>-3.0</td><td>6.0</td></tr><tr><td>Poland</td><td>E</td><td>3.0</td><td>1.0</td><td>0.0</td><td>2.0</td><td>2.0</td><td>6.0</td><td>-4.0</td><td>3.0</td></tr><tr><td>Slovakia</td><td>E</td><td>3.0</td><td>2.0</td><td>1.0</td><td>0.0</td><td>2.0</td><td>2.0</td><td>0.0</td><td>7.0</td></tr><tr><td>Hungary</td><td>F</td><td>3.0</td><td>1.0</td><td>1.0</td><td>1.0</td><td>2.0</td><td>0.0</td><td>2.0</td><td>4.0</td></tr><tr><td>Portugal</td><td>F</td><td>3.0</td><td>1.0</td><td>0.0</td><td>2.0</td><td>0.0</td><td>3.0</td><td>-3.0</td><td>3.0</td></tr><tr><td>France</td><td>F</td><td>3.0</td><td>2.0</td><td>1.0</td><td>0.0</td><td>4.0</td><td>6.0</td><td>-2.0</td><td>7.0</td></tr><tr><td>Germany</td><td>F</td><td>3.0</td><td>2.0</td><td>1.0</td><td>0.0</td><td>5.0</td><td>5.0</td><td>0.0</td><td>7.0</td></tr></tbody></table></div>"
      ]
     },
     "metadata": {
      "application/vnd.databricks.v1+output": {
       "addedWidgets": {},
       "aggData": [],
       "aggError": "",
       "aggOverflow": false,
       "aggSchema": [],
       "aggSeriesLimitReached": false,
       "aggType": "",
       "arguments": {},
       "columnCustomDisplayInfos": {},
       "data": [
        [
         "Turkey",
         "A",
         3.0,
         1.0,
         1.0,
         1.0,
         5.0,
         5.0,
         0.0,
         4.0
        ],
        [
         "Italy",
         "A",
         3.0,
         2.0,
         1.0,
         0.0,
         2.0,
         6.0,
         -4.0,
         7.0
        ],
        [
         "Wales ",
         "A",
         3.0,
         1.0,
         0.0,
         2.0,
         3.0,
         0.0,
         3.0,
         3.0
        ],
        [
         "Switzerland",
         "A",
         3.0,
         1.0,
         1.0,
         1.0,
         6.0,
         3.0,
         3.0,
         4.0
        ],
        [
         "Denmark",
         "B",
         3.0,
         2.0,
         0.0,
         1.0,
         6.0,
         6.0,
         0.0,
         6.0
        ],
        [
         "Finland",
         "B",
         3.0,
         2.0,
         0.0,
         1.0,
         0.0,
         5.0,
         -5.0,
         6.0
        ],
        [
         "Belgium",
         "B",
         3.0,
         2.0,
         1.0,
         0.0,
         2.0,
         5.0,
         -3.0,
         7.0
        ],
        [
         "Russia",
         "B",
         3.0,
         1.0,
         1.0,
         1.0,
         0.0,
         2.0,
         -2.0,
         4.0
        ],
        [
         "Netherlands",
         "C",
         3.0,
         1.0,
         1.0,
         1.0,
         1.0,
         4.0,
         -3.0,
         4.0
        ],
        [
         "Ukraine",
         "C",
         3.0,
         1.0,
         0.0,
         2.0,
         6.0,
         1.0,
         5.0,
         3.0
        ],
        [
         "Austria",
         "C",
         3.0,
         1.0,
         0.0,
         2.0,
         6.0,
         1.0,
         5.0,
         3.0
        ],
        [
         "North Macedonia",
         "C",
         3.0,
         0.0,
         1.0,
         2.0,
         6.0,
         5.0,
         1.0,
         1.0
        ],
        [
         "England",
         "D",
         3.0,
         2.0,
         0.0,
         1.0,
         2.0,
         5.0,
         -3.0,
         6.0
        ],
        [
         "Croatia",
         "D",
         3.0,
         1.0,
         1.0,
         1.0,
         0.0,
         5.0,
         -5.0,
         4.0
        ],
        [
         "Scotland",
         "D",
         3.0,
         2.0,
         0.0,
         1.0,
         3.0,
         3.0,
         0.0,
         6.0
        ],
        [
         "Checz Republic",
         "D",
         3.0,
         2.0,
         0.0,
         1.0,
         3.0,
         0.0,
         3.0,
         6.0
        ],
        [
         "Spain",
         "E",
         3.0,
         1.0,
         1.0,
         1.0,
         3.0,
         6.0,
         -3.0,
         4.0
        ],
        [
         "Sweden",
         "E",
         3.0,
         2.0,
         0.0,
         1.0,
         1.0,
         4.0,
         -3.0,
         6.0
        ],
        [
         "Poland",
         "E",
         3.0,
         1.0,
         0.0,
         2.0,
         2.0,
         6.0,
         -4.0,
         3.0
        ],
        [
         "Slovakia",
         "E",
         3.0,
         2.0,
         1.0,
         0.0,
         2.0,
         2.0,
         0.0,
         7.0
        ],
        [
         "Hungary",
         "F",
         3.0,
         1.0,
         1.0,
         1.0,
         2.0,
         0.0,
         2.0,
         4.0
        ],
        [
         "Portugal",
         "F",
         3.0,
         1.0,
         0.0,
         2.0,
         0.0,
         3.0,
         -3.0,
         3.0
        ],
        [
         "France",
         "F",
         3.0,
         2.0,
         1.0,
         0.0,
         4.0,
         6.0,
         -2.0,
         7.0
        ],
        [
         "Germany",
         "F",
         3.0,
         2.0,
         1.0,
         0.0,
         5.0,
         5.0,
         0.0,
         7.0
        ]
       ],
       "datasetInfos": [],
       "dbfsResultPath": null,
       "isJsonSchema": true,
       "metadata": {},
       "overflow": false,
       "plotOptions": {
        "customPlotOptions": {},
        "displayType": "table",
        "pivotAggregation": null,
        "pivotColumns": null,
        "xColumns": null,
        "yColumns": null
       },
       "removedWidgets": [],
       "schema": [
        {
         "metadata": "{}",
         "name": "team ",
         "type": "\"string\""
        },
        {
         "metadata": "{}",
         "name": "group",
         "type": "\"string\""
        },
        {
         "metadata": "{}",
         "name": "matches",
         "type": "\"double\""
        },
        {
         "metadata": "{}",
         "name": "win",
         "type": "\"double\""
        },
        {
         "metadata": "{}",
         "name": "draw",
         "type": "\"double\""
        },
        {
         "metadata": "{}",
         "name": "lose",
         "type": "\"double\""
        },
        {
         "metadata": "{}",
         "name": "gf",
         "type": "\"double\""
        },
        {
         "metadata": "{}",
         "name": "ga",
         "type": "\"double\""
        },
        {
         "metadata": "{}",
         "name": "gd",
         "type": "\"double\""
        },
        {
         "metadata": "{}",
         "name": "pts",
         "type": "\"double\""
        }
       ],
       "type": "table"
      }
     },
     "output_type": "display_data"
    }
   ],
   "source": [
    "%sql\n",
    "SELECT * FROM group_stage;"
   ]
  },
  {
   "cell_type": "code",
   "execution_count": 0,
   "metadata": {
    "application/vnd.databricks.v1+cell": {
     "cellMetadata": {
      "byteLimit": 2048000,
      "implicitDf": true,
      "rowLimit": 10000
     },
     "inputWidgets": {},
     "nuid": "d5e77d31-d175-4e93-87da-0fb129db9845",
     "showTitle": false,
     "title": ""
    }
   },
   "outputs": [
    {
     "output_type": "stream",
     "name": "stdout",
     "output_type": "stream",
     "text": [
      "+--------------+-----+-------+---+----+----+---+---+----+---+---+\n|         team |group|matches|win|draw|lose| gf| ga|  gd|pts| rn|\n+--------------+-----+-------+---+----+----+---+---+----+---+---+\n|         Italy|    A|    3.0|2.0| 1.0| 0.0|2.0|6.0|-4.0|7.0|  1|\n|   Switzerland|    A|    3.0|1.0| 1.0| 1.0|6.0|3.0| 3.0|4.0|  2|\n|       Belgium|    B|    3.0|2.0| 1.0| 0.0|2.0|5.0|-3.0|7.0|  1|\n|       Denmark|    B|    3.0|2.0| 0.0| 1.0|6.0|6.0| 0.0|6.0|  2|\n|   Netherlands|    C|    3.0|1.0| 1.0| 1.0|1.0|4.0|-3.0|4.0|  1|\n|       Ukraine|    C|    3.0|1.0| 0.0| 2.0|6.0|1.0| 5.0|3.0|  2|\n|Checz Republic|    D|    3.0|2.0| 0.0| 1.0|3.0|0.0| 3.0|6.0|  1|\n|      Scotland|    D|    3.0|2.0| 0.0| 1.0|3.0|3.0| 0.0|6.0|  2|\n|      Slovakia|    E|    3.0|2.0| 1.0| 0.0|2.0|2.0| 0.0|7.0|  1|\n|        Sweden|    E|    3.0|2.0| 0.0| 1.0|1.0|4.0|-3.0|6.0|  2|\n|       Germany|    F|    3.0|2.0| 1.0| 0.0|5.0|5.0| 0.0|7.0|  1|\n|        France|    F|    3.0|2.0| 1.0| 0.0|4.0|6.0|-2.0|7.0|  2|\n+--------------+-----+-------+---+----+----+---+---+----+---+---+\n\n"
     ]
    }
   ],
   "source": [
    "\n",
    "top_2_teams_per_group =spark.sql(\"\"\"SELECT *\n",
    "                    FROM \n",
    "                        (SELECT *,\n",
    "                                ROW_NUMBER() OVER(PARTITION BY group ORDER BY pts DESC, gd DESC) AS rn \n",
    "                        FROM group_stage) AS qualifer \n",
    "                    WHERE rn <= 2\"\"\")\n",
    "top_2_teams_per_group.show()"
   ]
  },
  {
   "cell_type": "code",
   "execution_count": 0,
   "metadata": {
    "application/vnd.databricks.v1+cell": {
     "cellMetadata": {
      "byteLimit": 2048000,
      "rowLimit": 10000
     },
     "inputWidgets": {},
     "nuid": "5b9e2a3b-676e-4593-9bf8-9638b8a0ccd6",
     "showTitle": false,
     "title": ""
    }
   },
   "outputs": [
    {
     "output_type": "stream",
     "name": "stdout",
     "output_type": "stream",
     "text": [
      "+-------+-----+-------+---+----+----+---+---+----+---+---+\n|  team |group|matches|win|draw|lose| gf| ga|  gd|pts| rn|\n+-------+-----+-------+---+----+----+---+---+----+---+---+\n|England|    D|    3.0|2.0| 0.0| 1.0|2.0|5.0|-3.0|6.0|  3|\n|Finland|    B|    3.0|2.0| 0.0| 1.0|0.0|5.0|-5.0|6.0|  3|\n|Hungary|    F|    3.0|1.0| 1.0| 1.0|2.0|0.0| 2.0|4.0|  3|\n| Turkey|    A|    3.0|1.0| 1.0| 1.0|5.0|5.0| 0.0|4.0|  3|\n+-------+-----+-------+---+----+----+---+---+----+---+---+\n\n"
     ]
    }
   ],
   "source": [
    "four_teams =spark.sql(\"\"\"SELECT *\n",
    "                    FROM \n",
    "                        (SELECT *,\n",
    "                                ROW_NUMBER() OVER(PARTITION BY group ORDER BY pts DESC, gd DESC) AS rn \n",
    "                        FROM group_stage) AS qualifer \n",
    "                    WHERE rn = 3 ORDER BY pts DESC,gd DESC LIMIT 4 \"\"\")\n",
    "four_teams.show()"
   ]
  },
  {
   "cell_type": "code",
   "execution_count": 0,
   "metadata": {
    "application/vnd.databricks.v1+cell": {
     "cellMetadata": {
      "byteLimit": 2048000,
      "rowLimit": 10000
     },
     "inputWidgets": {},
     "nuid": "0cd05ba8-7f5f-4717-a3e8-ce6d85bc228c",
     "showTitle": false,
     "title": ""
    }
   },
   "outputs": [
    {
     "output_type": "stream",
     "name": "stdout",
     "output_type": "stream",
     "text": [
      "+--------------+-----+-------+---+----+----+---+---+----+---+---+\n|         team |group|matches|win|draw|lose| gf| ga|  gd|pts| rn|\n+--------------+-----+-------+---+----+----+---+---+----+---+---+\n|         Italy|    A|    3.0|2.0| 1.0| 0.0|2.0|6.0|-4.0|7.0|  1|\n|   Switzerland|    A|    3.0|1.0| 1.0| 1.0|6.0|3.0| 3.0|4.0|  2|\n|       Belgium|    B|    3.0|2.0| 1.0| 0.0|2.0|5.0|-3.0|7.0|  1|\n|       Denmark|    B|    3.0|2.0| 0.0| 1.0|6.0|6.0| 0.0|6.0|  2|\n|   Netherlands|    C|    3.0|1.0| 1.0| 1.0|1.0|4.0|-3.0|4.0|  1|\n|       Ukraine|    C|    3.0|1.0| 0.0| 2.0|6.0|1.0| 5.0|3.0|  2|\n|Checz Republic|    D|    3.0|2.0| 0.0| 1.0|3.0|0.0| 3.0|6.0|  1|\n|      Scotland|    D|    3.0|2.0| 0.0| 1.0|3.0|3.0| 0.0|6.0|  2|\n|      Slovakia|    E|    3.0|2.0| 1.0| 0.0|2.0|2.0| 0.0|7.0|  1|\n|        Sweden|    E|    3.0|2.0| 0.0| 1.0|1.0|4.0|-3.0|6.0|  2|\n|       Germany|    F|    3.0|2.0| 1.0| 0.0|5.0|5.0| 0.0|7.0|  1|\n|        France|    F|    3.0|2.0| 1.0| 0.0|4.0|6.0|-2.0|7.0|  2|\n|       England|    D|    3.0|2.0| 0.0| 1.0|2.0|5.0|-3.0|6.0|  3|\n|       Finland|    B|    3.0|2.0| 0.0| 1.0|0.0|5.0|-5.0|6.0|  3|\n|       Hungary|    F|    3.0|1.0| 1.0| 1.0|2.0|0.0| 2.0|4.0|  3|\n|        Turkey|    A|    3.0|1.0| 1.0| 1.0|5.0|5.0| 0.0|4.0|  3|\n+--------------+-----+-------+---+----+----+---+---+----+---+---+\n\n"
     ]
    }
   ],
   "source": [
    "knockout_16 =  top_2_teams_per_group.union(four_teams)\n",
    "knockout_16.show()"
   ]
  },
  {
   "cell_type": "code",
   "execution_count": 0,
   "metadata": {
    "application/vnd.databricks.v1+cell": {
     "cellMetadata": {
      "byteLimit": 2048000,
      "rowLimit": 10000
     },
     "inputWidgets": {},
     "nuid": "b7ebb842-ddf0-4bbf-a915-311092131fd3",
     "showTitle": false,
     "title": ""
    }
   },
   "outputs": [
    {
     "output_type": "stream",
     "name": "stdout",
     "output_type": "stream",
     "text": [
      "+--------------+-----+-------+---+----+----+---+---+----+---+-----------+\n|         team |group|matches|win|draw|lose| gf| ga|  gd|pts|group_stage|\n+--------------+-----+-------+---+----+----+---+---+----+---+-----------+\n|         Italy|    A|    3.0|2.0| 1.0| 0.0|2.0|6.0|-4.0|7.0|        win|\n|   Switzerland|    A|    3.0|1.0| 1.0| 1.0|6.0|3.0| 3.0|4.0|        win|\n|       Belgium|    B|    3.0|2.0| 1.0| 0.0|2.0|5.0|-3.0|7.0|        win|\n|       Denmark|    B|    3.0|2.0| 0.0| 1.0|6.0|6.0| 0.0|6.0|        win|\n|   Netherlands|    C|    3.0|1.0| 1.0| 1.0|1.0|4.0|-3.0|4.0|        win|\n|       Ukraine|    C|    3.0|1.0| 0.0| 2.0|6.0|1.0| 5.0|3.0|        win|\n|Checz Republic|    D|    3.0|2.0| 0.0| 1.0|3.0|0.0| 3.0|6.0|        win|\n|      Scotland|    D|    3.0|2.0| 0.0| 1.0|3.0|3.0| 0.0|6.0|        win|\n|      Slovakia|    E|    3.0|2.0| 1.0| 0.0|2.0|2.0| 0.0|7.0|        win|\n|        Sweden|    E|    3.0|2.0| 0.0| 1.0|1.0|4.0|-3.0|6.0|        win|\n|       Germany|    F|    3.0|2.0| 1.0| 0.0|5.0|5.0| 0.0|7.0|        win|\n|        France|    F|    3.0|2.0| 1.0| 0.0|4.0|6.0|-2.0|7.0|        win|\n|       England|    D|    3.0|2.0| 0.0| 1.0|2.0|5.0|-3.0|6.0|        win|\n|       Finland|    B|    3.0|2.0| 0.0| 1.0|0.0|5.0|-5.0|6.0|        win|\n|       Hungary|    F|    3.0|1.0| 1.0| 1.0|2.0|0.0| 2.0|4.0|        win|\n|        Turkey|    A|    3.0|1.0| 1.0| 1.0|5.0|5.0| 0.0|4.0|        win|\n+--------------+-----+-------+---+----+----+---+---+----+---+-----------+\n\n"
     ]
    }
   ],
   "source": [
    "knockout_16 = knockout_16.drop('rn').withColumn('group_stage',lit('win')) \n",
    "knockout_16.show()"
   ]
  },
  {
   "cell_type": "markdown",
   "metadata": {
    "application/vnd.databricks.v1+cell": {
     "cellMetadata": {
      "byteLimit": 2048000,
      "rowLimit": 10000
     },
     "inputWidgets": {},
     "nuid": "a5789e85-d055-4670-92f4-92b29b9b43ae",
     "showTitle": false,
     "title": ""
    }
   },
   "source": [
    "#Function"
   ]
  },
  {
   "cell_type": "code",
   "execution_count": 0,
   "metadata": {
    "application/vnd.databricks.v1+cell": {
     "cellMetadata": {
      "byteLimit": 2048000,
      "rowLimit": 10000
     },
     "inputWidgets": {},
     "nuid": "4d3e6c47-1a1f-4608-ac31-87de913d5216",
     "showTitle": false,
     "title": ""
    }
   },
   "outputs": [],
   "source": [
    "def get_round_of_8(df, table_name, column_name):\n",
    "    \n",
    "    sql_query = f\"\"\"\n",
    "    WITH ShuffledRows AS (\n",
    "        SELECT *, ROW_NUMBER() OVER (ORDER BY RAND()) AS rn\n",
    "        FROM {table_name}\n",
    "    )\n",
    "    SELECT *\n",
    "    FROM ShuffledRows\n",
    "    WHERE rn <= (SELECT COUNT(*)/2 FROM ShuffledRows)\n",
    "    ORDER BY rn\n",
    "    \"\"\"\n",
    "    \n",
    "    # Execute the SQL query\n",
    "    result = spark.sql(sql_query)\n",
    "    \n",
    "    # Add 'round_of_8' column and drop 'rn' column\n",
    "    result = result.drop('rn').withColumn(column_name, lit('win'))\n",
    "    \n",
    "    return result\n",
    "\n"
   ]
  },
  {
   "cell_type": "code",
   "execution_count": 0,
   "metadata": {
    "application/vnd.databricks.v1+cell": {
     "cellMetadata": {
      "byteLimit": 2048000,
      "rowLimit": 10000
     },
     "inputWidgets": {},
     "nuid": "e87ea793-988f-42de-8b35-6d8b5661e340",
     "showTitle": false,
     "title": ""
    }
   },
   "outputs": [],
   "source": [
    "# Create a view or table\n",
    "\n",
    "temp_table_name = \"knockout_16\"\n",
    "knockout_16.createOrReplaceTempView(temp_table_name)"
   ]
  },
  {
   "cell_type": "code",
   "execution_count": 0,
   "metadata": {
    "application/vnd.databricks.v1+cell": {
     "cellMetadata": {
      "byteLimit": 2048000,
      "rowLimit": 10000
     },
     "inputWidgets": {},
     "nuid": "c9d6d2e8-0c4a-45fb-a722-a3ea11b1ac82",
     "showTitle": false,
     "title": ""
    }
   },
   "outputs": [
    {
     "output_type": "stream",
     "name": "stdout",
     "output_type": "stream",
     "text": [
      "+--------------+-----+-------+---+----+----+---+---+----+---+-----------+----------+\n|         team |group|matches|win|draw|lose| gf| ga|  gd|pts|group_stage|round_of_8|\n+--------------+-----+-------+---+----+----+---+---+----+---+-----------+----------+\n|       Finland|    B|    3.0|2.0| 0.0| 1.0|0.0|5.0|-5.0|6.0|        win|       win|\n|       Germany|    F|    3.0|2.0| 1.0| 0.0|5.0|5.0| 0.0|7.0|        win|       win|\n|       England|    D|    3.0|2.0| 0.0| 1.0|2.0|5.0|-3.0|6.0|        win|       win|\n|       Denmark|    B|    3.0|2.0| 0.0| 1.0|6.0|6.0| 0.0|6.0|        win|       win|\n|Checz Republic|    D|    3.0|2.0| 0.0| 1.0|3.0|0.0| 3.0|6.0|        win|       win|\n|      Scotland|    D|    3.0|2.0| 0.0| 1.0|3.0|3.0| 0.0|6.0|        win|       win|\n|       Ukraine|    C|    3.0|1.0| 0.0| 2.0|6.0|1.0| 5.0|3.0|        win|       win|\n|        Sweden|    E|    3.0|2.0| 0.0| 1.0|1.0|4.0|-3.0|6.0|        win|       win|\n+--------------+-----+-------+---+----+----+---+---+----+---+-----------+----------+\n\n"
     ]
    }
   ],
   "source": [
    "knockout_8 = get_round_of_8(knockout_16,\"knockout_16\", \"round_of_8\")\n",
    "knockout_8.show()"
   ]
  },
  {
   "cell_type": "code",
   "execution_count": 0,
   "metadata": {
    "application/vnd.databricks.v1+cell": {
     "cellMetadata": {
      "byteLimit": 2048000,
      "rowLimit": 10000
     },
     "inputWidgets": {},
     "nuid": "f8eeb0c1-3349-4b52-a8f1-e9a6c79a2e4d",
     "showTitle": false,
     "title": ""
    }
   },
   "outputs": [],
   "source": [
    "# Create a view or table\n",
    "temp_table_name = \"knockout_8\"\n",
    "knockout_8.createOrReplaceTempView(temp_table_name)"
   ]
  },
  {
   "cell_type": "code",
   "execution_count": 0,
   "metadata": {
    "application/vnd.databricks.v1+cell": {
     "cellMetadata": {
      "byteLimit": 2048000,
      "rowLimit": 10000
     },
     "inputWidgets": {},
     "nuid": "e08f94a2-def4-4e80-9ea2-986e63ae4643",
     "showTitle": false,
     "title": ""
    }
   },
   "outputs": [
    {
     "output_type": "stream",
     "name": "stdout",
     "output_type": "stream",
     "text": [
      "+--------------+-----+-------+---+----+----+---+---+----+---+-----------+----------+------------+\n|         team |group|matches|win|draw|lose| gf| ga|  gd|pts|group_stage|round_of_8|Quater-Final|\n+--------------+-----+-------+---+----+----+---+---+----+---+-----------+----------+------------+\n|       Denmark|    B|    3.0|2.0| 0.0| 1.0|6.0|6.0| 0.0|6.0|        win|       win|         win|\n|Checz Republic|    D|    3.0|2.0| 0.0| 1.0|3.0|0.0| 3.0|6.0|        win|       win|         win|\n|        Sweden|    E|    3.0|2.0| 0.0| 1.0|1.0|4.0|-3.0|6.0|        win|       win|         win|\n|       Finland|    B|    3.0|2.0| 0.0| 1.0|0.0|5.0|-5.0|6.0|        win|       win|         win|\n+--------------+-----+-------+---+----+----+---+---+----+---+-----------+----------+------------+\n\n"
     ]
    }
   ],
   "source": [
    "# Example usage:\n",
    "knockout_4 = get_round_of_8(knockout_8,\"knockout_8\", \"Quater-Final\")\n",
    "knockout_4.show()"
   ]
  },
  {
   "cell_type": "code",
   "execution_count": 0,
   "metadata": {
    "application/vnd.databricks.v1+cell": {
     "cellMetadata": {
      "byteLimit": 2048000,
      "rowLimit": 10000
     },
     "inputWidgets": {},
     "nuid": "d84ed213-33c3-4cf4-a245-daa9fb0b9775",
     "showTitle": false,
     "title": ""
    }
   },
   "outputs": [],
   "source": [
    "# Create a view or table\n",
    "temp_table_name = \"knockout_4\"\n",
    "knockout_4.createOrReplaceTempView(temp_table_name)\n"
   ]
  },
  {
   "cell_type": "code",
   "execution_count": 0,
   "metadata": {
    "application/vnd.databricks.v1+cell": {
     "cellMetadata": {
      "byteLimit": 2048000,
      "rowLimit": 10000
     },
     "inputWidgets": {},
     "nuid": "0340f2c9-b2a6-434d-9eb1-9cc8f9c3741b",
     "showTitle": false,
     "title": ""
    }
   },
   "outputs": [
    {
     "output_type": "stream",
     "name": "stdout",
     "output_type": "stream",
     "text": [
      "+-------+-----+-------+---+----+----+---+---+----+---+-----------+----------+------------+---------+\n|  team |group|matches|win|draw|lose| gf| ga|  gd|pts|group_stage|round_of_8|Quater-Final|Semifinal|\n+-------+-----+-------+---+----+----+---+---+----+---+-----------+----------+------------+---------+\n|Finland|    B|    3.0|2.0| 0.0| 1.0|0.0|5.0|-5.0|6.0|        win|       win|         win|      win|\n|Denmark|    B|    3.0|2.0| 0.0| 1.0|6.0|6.0| 0.0|6.0|        win|       win|         win|      win|\n+-------+-----+-------+---+----+----+---+---+----+---+-----------+----------+------------+---------+\n\n"
     ]
    }
   ],
   "source": [
    "# Example usage:\n",
    "knockout_2 = get_round_of_8(knockout_4,\"knockout_4\", \"Semifinal\")\n",
    "knockout_2.show()\n"
   ]
  },
  {
   "cell_type": "code",
   "execution_count": 0,
   "metadata": {
    "application/vnd.databricks.v1+cell": {
     "cellMetadata": {
      "byteLimit": 2048000,
      "rowLimit": 10000
     },
     "inputWidgets": {},
     "nuid": "184a7347-cdbb-4e43-9073-93aa2e9e82a8",
     "showTitle": false,
     "title": ""
    }
   },
   "outputs": [],
   "source": [
    "# Create a view or table\n",
    "temp_table_name = \"knockout_2\"\n",
    "knockout_2.createOrReplaceTempView(temp_table_name)\n"
   ]
  },
  {
   "cell_type": "code",
   "execution_count": 0,
   "metadata": {
    "application/vnd.databricks.v1+cell": {
     "cellMetadata": {
      "byteLimit": 2048000,
      "rowLimit": 10000
     },
     "inputWidgets": {},
     "nuid": "4519e637-7a24-4f45-bde2-b2ec04a3df64",
     "showTitle": false,
     "title": ""
    }
   },
   "outputs": [
    {
     "output_type": "stream",
     "name": "stdout",
     "output_type": "stream",
     "text": [
      "+-------+-----+-------+---+----+----+---+---+----+---+-----------+----------+------------+---------+-----+\n|  team |group|matches|win|draw|lose| gf| ga|  gd|pts|group_stage|round_of_8|Quater-Final|Semifinal|Final|\n+-------+-----+-------+---+----+----+---+---+----+---+-----------+----------+------------+---------+-----+\n|Finland|    B|    3.0|2.0| 0.0| 1.0|0.0|5.0|-5.0|6.0|        win|       win|         win|      win|  win|\n+-------+-----+-------+---+----+----+---+---+----+---+-----------+----------+------------+---------+-----+\n\n"
     ]
    }
   ],
   "source": [
    "final = get_round_of_8(knockout_2,\"knockout_2\", \"Final\")\n",
    "final.show()\n"
   ]
  },
  {
   "cell_type": "code",
   "execution_count": 0,
   "metadata": {
    "application/vnd.databricks.v1+cell": {
     "cellMetadata": {
      "byteLimit": 2048000,
      "rowLimit": 10000
     },
     "inputWidgets": {},
     "nuid": "40e7ce19-5c5b-4d95-8db6-c27b949235cb",
     "showTitle": false,
     "title": ""
    }
   },
   "outputs": [],
   "source": []
  }
 ],
 "metadata": {
  "application/vnd.databricks.v1+notebook": {
   "dashboards": [],
   "language": "python",
   "notebookMetadata": {
    "mostRecentlyExecutedCommandWithImplicitDF": {
     "commandId": 1599400796286753,
     "dataframes": [
      "_sqldf"
     ]
    },
    "pythonIndentUnit": 4
   },
   "notebookName": "Euro Cup 202",
   "widgets": {}
  }
 },
 "nbformat": 4,
 "nbformat_minor": 0
}
