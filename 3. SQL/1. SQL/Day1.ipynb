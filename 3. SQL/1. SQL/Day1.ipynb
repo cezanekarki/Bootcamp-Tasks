{
 "cells": [
  {
   "cell_type": "code",
   "execution_count": 0,
   "metadata": {
    "application/vnd.databricks.v1+cell": {
     "cellMetadata": {
      "byteLimit": 2048000,
      "implicitDf": true,
      "rowLimit": 10000
     },
     "inputWidgets": {},
     "nuid": "dd552b97-bc8a-43ef-9cf1-e70485f4e5a9",
     "showTitle": false,
     "title": ""
    }
   },
   "outputs": [
    {
     "output_type": "display_data",
     "data": {
      "text/html": [
       "<style scoped>\n",
       "  .table-result-container {\n",
       "    max-height: 300px;\n",
       "    overflow: auto;\n",
       "  }\n",
       "  table, th, td {\n",
       "    border: 1px solid black;\n",
       "    border-collapse: collapse;\n",
       "  }\n",
       "  th, td {\n",
       "    padding: 5px;\n",
       "  }\n",
       "  th {\n",
       "    text-align: left;\n",
       "  }\n",
       "</style><div class='table-result-container'><table class='table-result'><thead style='background-color: white'><tr></tr></thead><tbody></tbody></table></div>"
      ]
     },
     "metadata": {
      "application/vnd.databricks.v1+output": {
       "addedWidgets": {},
       "aggData": [],
       "aggError": "",
       "aggOverflow": false,
       "aggSchema": [],
       "aggSeriesLimitReached": false,
       "aggType": "",
       "arguments": {},
       "columnCustomDisplayInfos": {},
       "data": [],
       "datasetInfos": [],
       "dbfsResultPath": null,
       "isJsonSchema": true,
       "metadata": {},
       "overflow": false,
       "plotOptions": {
        "customPlotOptions": {},
        "displayType": "table",
        "pivotAggregation": null,
        "pivotColumns": null,
        "xColumns": null,
        "yColumns": null
       },
       "removedWidgets": [],
       "schema": [],
       "type": "table"
      }
     },
     "output_type": "display_data"
    }
   ],
   "source": [
    "%sql\n",
    "\n",
    "CREATE TABLE attempt2(\n",
    "  id_no BIGINT,\n",
    "  first_name VARCHAR(255),\n",
    "  last_Name VARCHAR(255),\n",
    "  address VARCHAR(255),\n",
    "  phone_number BIGINT,\n",
    "  department VARCHAR(255),\n",
    "  joined_date DATE\n",
    ")"
   ]
  },
  {
   "cell_type": "code",
   "execution_count": 0,
   "metadata": {
    "application/vnd.databricks.v1+cell": {
     "cellMetadata": {
      "byteLimit": 2048000,
      "implicitDf": true,
      "rowLimit": 10000
     },
     "inputWidgets": {},
     "nuid": "ad7e4971-c83d-40c4-9836-78a738d2f586",
     "showTitle": false,
     "title": ""
    }
   },
   "outputs": [
    {
     "output_type": "display_data",
     "data": {
      "text/html": [
       "<style scoped>\n",
       "  .table-result-container {\n",
       "    max-height: 300px;\n",
       "    overflow: auto;\n",
       "  }\n",
       "  table, th, td {\n",
       "    border: 1px solid black;\n",
       "    border-collapse: collapse;\n",
       "  }\n",
       "  th, td {\n",
       "    padding: 5px;\n",
       "  }\n",
       "  th {\n",
       "    text-align: left;\n",
       "  }\n",
       "</style><div class='table-result-container'><table class='table-result'><thead style='background-color: white'><tr><th>num_affected_rows</th><th>num_inserted_rows</th></tr></thead><tbody><tr><td>15</td><td>15</td></tr></tbody></table></div>"
      ]
     },
     "metadata": {
      "application/vnd.databricks.v1+output": {
       "addedWidgets": {},
       "aggData": [],
       "aggError": "",
       "aggOverflow": false,
       "aggSchema": [],
       "aggSeriesLimitReached": false,
       "aggType": "",
       "arguments": {},
       "columnCustomDisplayInfos": {},
       "data": [
        [
         15,
         15
        ]
       ],
       "datasetInfos": [],
       "dbfsResultPath": null,
       "isJsonSchema": true,
       "metadata": {},
       "overflow": false,
       "plotOptions": {
        "customPlotOptions": {},
        "displayType": "table",
        "pivotAggregation": null,
        "pivotColumns": null,
        "xColumns": null,
        "yColumns": null
       },
       "removedWidgets": [],
       "schema": [
        {
         "metadata": "{}",
         "name": "num_affected_rows",
         "type": "\"long\""
        },
        {
         "metadata": "{}",
         "name": "num_inserted_rows",
         "type": "\"long\""
        }
       ],
       "type": "table"
      }
     },
     "output_type": "display_data"
    }
   ],
   "source": [
    "%sql\n",
    "\n",
    "INSERT INTO attempt2 (id_no, first_name, last_name, address, phone_number, department, joined_date)\n",
    "VALUES\n",
    "  (1, 'John', 'Doe', '123 Main St', 1234567890, 'HR', '2024-01-25'),\n",
    "  (2, 'Jane', 'Smith', '456 Oak St', 9876543210, 'IT', '2024-01-26'),\n",
    "  (3, 'Bob', 'Johnson', '789 Pine St', 5551234567, 'Finance', '2024-01-27'),\n",
    "  (4, 'Alice', 'Williams', '321 Birch St', 5559876543, 'Marketing', '2024-01-28'),\n",
    "  (5, 'Charlie', 'Brown', '654 Maple St', 5555555555, 'Sales', '2024-01-29'),\n",
    "  (6, 'Eva', 'Miller', '987 Cedar St', 5551112233, 'Engineering', '2024-02-02'),\n",
    "  (7, 'David', 'Jones', '234 Pine St', 5553334444, 'HR', '2024-02-03'),\n",
    "  (8, 'Grace', 'Clark', '567 Oak St', 5556667777, 'IT', '2024-02-04'),\n",
    "  (9, 'Sam', 'White', '890 Elm St', 5559990000, 'Marketing', '2024-02-05'),\n",
    "  (10, 'Lily', 'Brown', '123 Birch St', 5554445555, 'Engineering', '2024-02-06'),\n",
    "  (11, 'Mike', 'Smith', '456 Cedar St', 5557778888, 'Sales', '2024-02-07'),\n",
    "  (12, 'Olivia', 'Miller', '789 Maple St', 5552223333, 'Finance', '2024-02-08'),\n",
    "  (13, 'Daniel', 'Clark', '987 Elm St', 5551110000, 'IT', '2024-02-09'),\n",
    "  (14, 'Sophia', 'Jones', '345 Pine St', 5556669999, 'Engineering', '2024-02-10'),\n",
    "  (15, 'Henry', 'Wilson', '678 Oak St', 5553332222, 'Marketing', '2024-02-11');\n"
   ]
  },
  {
   "cell_type": "code",
   "execution_count": 0,
   "metadata": {
    "application/vnd.databricks.v1+cell": {
     "cellMetadata": {
      "byteLimit": 2048000,
      "implicitDf": true,
      "rowLimit": 10000
     },
     "inputWidgets": {},
     "nuid": "f8791f5c-f3d1-4967-b19b-f46f5c5f59f2",
     "showTitle": false,
     "title": ""
    }
   },
   "outputs": [
    {
     "output_type": "display_data",
     "data": {
      "text/html": [
       "<style scoped>\n",
       "  .table-result-container {\n",
       "    max-height: 300px;\n",
       "    overflow: auto;\n",
       "  }\n",
       "  table, th, td {\n",
       "    border: 1px solid black;\n",
       "    border-collapse: collapse;\n",
       "  }\n",
       "  th, td {\n",
       "    padding: 5px;\n",
       "  }\n",
       "  th {\n",
       "    text-align: left;\n",
       "  }\n",
       "</style><div class='table-result-container'><table class='table-result'><thead style='background-color: white'><tr><th>id_no</th><th>first_name</th><th>last_Name</th><th>address</th><th>phone_number</th><th>department</th><th>joined_date</th></tr></thead><tbody><tr><td>1</td><td>John</td><td>Doe</td><td>123 Main St</td><td>1234567890</td><td>HR</td><td>2024-01-25</td></tr><tr><td>2</td><td>Jane</td><td>Smith</td><td>456 Oak St</td><td>9876543210</td><td>IT</td><td>2024-01-26</td></tr><tr><td>3</td><td>Bob</td><td>Johnson</td><td>789 Pine St</td><td>5551234567</td><td>Finance</td><td>2024-01-27</td></tr><tr><td>4</td><td>Alice</td><td>Williams</td><td>321 Birch St</td><td>5559876543</td><td>Marketing</td><td>2024-01-28</td></tr><tr><td>5</td><td>Charlie</td><td>Brown</td><td>654 Maple St</td><td>5555555555</td><td>Sales</td><td>2024-01-29</td></tr><tr><td>6</td><td>Eva</td><td>Miller</td><td>987 Cedar St</td><td>5551112233</td><td>Engineering</td><td>2024-02-02</td></tr><tr><td>7</td><td>David</td><td>Jones</td><td>234 Pine St</td><td>5553334444</td><td>HR</td><td>2024-02-03</td></tr><tr><td>8</td><td>Grace</td><td>Clark</td><td>567 Oak St</td><td>5556667777</td><td>IT</td><td>2024-02-04</td></tr><tr><td>9</td><td>Sam</td><td>White</td><td>890 Elm St</td><td>5559990000</td><td>Marketing</td><td>2024-02-05</td></tr><tr><td>10</td><td>Lily</td><td>Brown</td><td>123 Birch St</td><td>5554445555</td><td>Engineering</td><td>2024-02-06</td></tr><tr><td>11</td><td>Mike</td><td>Smith</td><td>456 Cedar St</td><td>5557778888</td><td>Sales</td><td>2024-02-07</td></tr><tr><td>12</td><td>Olivia</td><td>Miller</td><td>789 Maple St</td><td>5552223333</td><td>Finance</td><td>2024-02-08</td></tr><tr><td>13</td><td>Daniel</td><td>Clark</td><td>987 Elm St</td><td>5551110000</td><td>IT</td><td>2024-02-09</td></tr><tr><td>14</td><td>Sophia</td><td>Jones</td><td>345 Pine St</td><td>5556669999</td><td>Engineering</td><td>2024-02-10</td></tr><tr><td>15</td><td>Henry</td><td>Wilson</td><td>678 Oak St</td><td>5553332222</td><td>Marketing</td><td>2024-02-11</td></tr></tbody></table></div>"
      ]
     },
     "metadata": {
      "application/vnd.databricks.v1+output": {
       "addedWidgets": {},
       "aggData": [],
       "aggError": "",
       "aggOverflow": false,
       "aggSchema": [],
       "aggSeriesLimitReached": false,
       "aggType": "",
       "arguments": {},
       "columnCustomDisplayInfos": {},
       "data": [
        [
         1,
         "John",
         "Doe",
         "123 Main St",
         1234567890,
         "HR",
         "2024-01-25"
        ],
        [
         2,
         "Jane",
         "Smith",
         "456 Oak St",
         9876543210,
         "IT",
         "2024-01-26"
        ],
        [
         3,
         "Bob",
         "Johnson",
         "789 Pine St",
         5551234567,
         "Finance",
         "2024-01-27"
        ],
        [
         4,
         "Alice",
         "Williams",
         "321 Birch St",
         5559876543,
         "Marketing",
         "2024-01-28"
        ],
        [
         5,
         "Charlie",
         "Brown",
         "654 Maple St",
         5555555555,
         "Sales",
         "2024-01-29"
        ],
        [
         6,
         "Eva",
         "Miller",
         "987 Cedar St",
         5551112233,
         "Engineering",
         "2024-02-02"
        ],
        [
         7,
         "David",
         "Jones",
         "234 Pine St",
         5553334444,
         "HR",
         "2024-02-03"
        ],
        [
         8,
         "Grace",
         "Clark",
         "567 Oak St",
         5556667777,
         "IT",
         "2024-02-04"
        ],
        [
         9,
         "Sam",
         "White",
         "890 Elm St",
         5559990000,
         "Marketing",
         "2024-02-05"
        ],
        [
         10,
         "Lily",
         "Brown",
         "123 Birch St",
         5554445555,
         "Engineering",
         "2024-02-06"
        ],
        [
         11,
         "Mike",
         "Smith",
         "456 Cedar St",
         5557778888,
         "Sales",
         "2024-02-07"
        ],
        [
         12,
         "Olivia",
         "Miller",
         "789 Maple St",
         5552223333,
         "Finance",
         "2024-02-08"
        ],
        [
         13,
         "Daniel",
         "Clark",
         "987 Elm St",
         5551110000,
         "IT",
         "2024-02-09"
        ],
        [
         14,
         "Sophia",
         "Jones",
         "345 Pine St",
         5556669999,
         "Engineering",
         "2024-02-10"
        ],
        [
         15,
         "Henry",
         "Wilson",
         "678 Oak St",
         5553332222,
         "Marketing",
         "2024-02-11"
        ]
       ],
       "datasetInfos": [],
       "dbfsResultPath": null,
       "isJsonSchema": true,
       "metadata": {},
       "overflow": false,
       "plotOptions": {
        "customPlotOptions": {},
        "displayType": "table",
        "pivotAggregation": null,
        "pivotColumns": null,
        "xColumns": null,
        "yColumns": null
       },
       "removedWidgets": [],
       "schema": [
        {
         "metadata": "{}",
         "name": "id_no",
         "type": "\"long\""
        },
        {
         "metadata": "{\"__CHAR_VARCHAR_TYPE_STRING\":\"varchar(255)\"}",
         "name": "first_name",
         "type": "\"string\""
        },
        {
         "metadata": "{\"__CHAR_VARCHAR_TYPE_STRING\":\"varchar(255)\"}",
         "name": "last_Name",
         "type": "\"string\""
        },
        {
         "metadata": "{\"__CHAR_VARCHAR_TYPE_STRING\":\"varchar(255)\"}",
         "name": "address",
         "type": "\"string\""
        },
        {
         "metadata": "{}",
         "name": "phone_number",
         "type": "\"long\""
        },
        {
         "metadata": "{\"__CHAR_VARCHAR_TYPE_STRING\":\"varchar(255)\"}",
         "name": "department",
         "type": "\"string\""
        },
        {
         "metadata": "{}",
         "name": "joined_date",
         "type": "\"date\""
        }
       ],
       "type": "table"
      }
     },
     "output_type": "display_data"
    }
   ],
   "source": [
    "%sql\n",
    "\n",
    "SELECT * FROM attempt2;"
   ]
  },
  {
   "cell_type": "code",
   "execution_count": 0,
   "metadata": {
    "application/vnd.databricks.v1+cell": {
     "cellMetadata": {
      "byteLimit": 2048000,
      "implicitDf": true,
      "rowLimit": 10000
     },
     "inputWidgets": {},
     "nuid": "e60289d5-91a6-4c5e-9dbd-e9b64fb6af77",
     "showTitle": false,
     "title": ""
    }
   },
   "outputs": [
    {
     "output_type": "display_data",
     "data": {
      "text/html": [
       "<style scoped>\n",
       "  .table-result-container {\n",
       "    max-height: 300px;\n",
       "    overflow: auto;\n",
       "  }\n",
       "  table, th, td {\n",
       "    border: 1px solid black;\n",
       "    border-collapse: collapse;\n",
       "  }\n",
       "  th, td {\n",
       "    padding: 5px;\n",
       "  }\n",
       "  th {\n",
       "    text-align: left;\n",
       "  }\n",
       "</style><div class='table-result-container'><table class='table-result'><thead style='background-color: white'><tr><th>id_no</th><th>first_name</th><th>last_Name</th><th>address</th><th>phone_number</th><th>department</th><th>joined_date</th></tr></thead><tbody><tr><td>1</td><td>John</td><td>Doe</td><td>123 Main St</td><td>1234567890</td><td>People Ops</td><td>2024-01-25</td></tr><tr><td>2</td><td>Jane</td><td>Smith</td><td>456 Oak St</td><td>9876543210</td><td>IT</td><td>2024-01-26</td></tr><tr><td>3</td><td>Bob</td><td>Johnson</td><td>789 Pine St</td><td>5551234567</td><td>Finance</td><td>2024-01-27</td></tr><tr><td>4</td><td>Alice</td><td>Williams</td><td>321 Birch St</td><td>5559876543</td><td>Marketing</td><td>2024-01-28</td></tr><tr><td>5</td><td>Charlie</td><td>Brown</td><td>654 Maple St</td><td>5555555555</td><td>Sales</td><td>2024-01-29</td></tr><tr><td>6</td><td>Eva</td><td>Miller</td><td>987 Cedar St</td><td>5551112233</td><td>Engineering</td><td>2024-02-02</td></tr><tr><td>7</td><td>David</td><td>Jones</td><td>234 Pine St</td><td>5553334444</td><td>People Ops</td><td>2024-02-03</td></tr><tr><td>8</td><td>Grace</td><td>Clark</td><td>567 Oak St</td><td>5556667777</td><td>IT</td><td>2024-02-04</td></tr><tr><td>9</td><td>Sam</td><td>White</td><td>890 Elm St</td><td>5559990000</td><td>Marketing</td><td>2024-02-05</td></tr><tr><td>10</td><td>Lily</td><td>Brown</td><td>123 Birch St</td><td>5554445555</td><td>Engineering</td><td>2024-02-06</td></tr><tr><td>11</td><td>Mike</td><td>Smith</td><td>456 Cedar St</td><td>5557778888</td><td>Sales</td><td>2024-02-07</td></tr><tr><td>12</td><td>Olivia</td><td>Miller</td><td>789 Maple St</td><td>5552223333</td><td>Finance</td><td>2024-02-08</td></tr><tr><td>13</td><td>Daniel</td><td>Clark</td><td>987 Elm St</td><td>5551110000</td><td>IT</td><td>2024-02-09</td></tr><tr><td>14</td><td>Sophia</td><td>Jones</td><td>345 Pine St</td><td>5556669999</td><td>Engineering</td><td>2024-02-10</td></tr><tr><td>15</td><td>Henry</td><td>Wilson</td><td>678 Oak St</td><td>5553332222</td><td>Marketing</td><td>2024-02-11</td></tr></tbody></table></div>"
      ]
     },
     "metadata": {
      "application/vnd.databricks.v1+output": {
       "addedWidgets": {},
       "aggData": [],
       "aggError": "",
       "aggOverflow": false,
       "aggSchema": [],
       "aggSeriesLimitReached": false,
       "aggType": "",
       "arguments": {},
       "columnCustomDisplayInfos": {},
       "data": [
        [
         1,
         "John",
         "Doe",
         "123 Main St",
         1234567890,
         "People Ops",
         "2024-01-25"
        ],
        [
         2,
         "Jane",
         "Smith",
         "456 Oak St",
         9876543210,
         "IT",
         "2024-01-26"
        ],
        [
         3,
         "Bob",
         "Johnson",
         "789 Pine St",
         5551234567,
         "Finance",
         "2024-01-27"
        ],
        [
         4,
         "Alice",
         "Williams",
         "321 Birch St",
         5559876543,
         "Marketing",
         "2024-01-28"
        ],
        [
         5,
         "Charlie",
         "Brown",
         "654 Maple St",
         5555555555,
         "Sales",
         "2024-01-29"
        ],
        [
         6,
         "Eva",
         "Miller",
         "987 Cedar St",
         5551112233,
         "Engineering",
         "2024-02-02"
        ],
        [
         7,
         "David",
         "Jones",
         "234 Pine St",
         5553334444,
         "People Ops",
         "2024-02-03"
        ],
        [
         8,
         "Grace",
         "Clark",
         "567 Oak St",
         5556667777,
         "IT",
         "2024-02-04"
        ],
        [
         9,
         "Sam",
         "White",
         "890 Elm St",
         5559990000,
         "Marketing",
         "2024-02-05"
        ],
        [
         10,
         "Lily",
         "Brown",
         "123 Birch St",
         5554445555,
         "Engineering",
         "2024-02-06"
        ],
        [
         11,
         "Mike",
         "Smith",
         "456 Cedar St",
         5557778888,
         "Sales",
         "2024-02-07"
        ],
        [
         12,
         "Olivia",
         "Miller",
         "789 Maple St",
         5552223333,
         "Finance",
         "2024-02-08"
        ],
        [
         13,
         "Daniel",
         "Clark",
         "987 Elm St",
         5551110000,
         "IT",
         "2024-02-09"
        ],
        [
         14,
         "Sophia",
         "Jones",
         "345 Pine St",
         5556669999,
         "Engineering",
         "2024-02-10"
        ],
        [
         15,
         "Henry",
         "Wilson",
         "678 Oak St",
         5553332222,
         "Marketing",
         "2024-02-11"
        ]
       ],
       "datasetInfos": [],
       "dbfsResultPath": null,
       "isJsonSchema": true,
       "metadata": {},
       "overflow": false,
       "plotOptions": {
        "customPlotOptions": {},
        "displayType": "table",
        "pivotAggregation": null,
        "pivotColumns": null,
        "xColumns": null,
        "yColumns": null
       },
       "removedWidgets": [],
       "schema": [
        {
         "metadata": "{}",
         "name": "id_no",
         "type": "\"long\""
        },
        {
         "metadata": "{\"__CHAR_VARCHAR_TYPE_STRING\":\"varchar(255)\"}",
         "name": "first_name",
         "type": "\"string\""
        },
        {
         "metadata": "{\"__CHAR_VARCHAR_TYPE_STRING\":\"varchar(255)\"}",
         "name": "last_Name",
         "type": "\"string\""
        },
        {
         "metadata": "{\"__CHAR_VARCHAR_TYPE_STRING\":\"varchar(255)\"}",
         "name": "address",
         "type": "\"string\""
        },
        {
         "metadata": "{}",
         "name": "phone_number",
         "type": "\"long\""
        },
        {
         "metadata": "{\"__CHAR_VARCHAR_TYPE_STRING\":\"varchar(255)\"}",
         "name": "department",
         "type": "\"string\""
        },
        {
         "metadata": "{}",
         "name": "joined_date",
         "type": "\"date\""
        }
       ],
       "type": "table"
      }
     },
     "output_type": "display_data"
    }
   ],
   "source": [
    "%sql\n",
    "\n",
    "UPDATE attempt2\n",
    "SET department = 'People Ops'\n",
    "WHERE department = 'HR';\n",
    "\n",
    "\n",
    "SELECT * FROM attempt2;"
   ]
  },
  {
   "cell_type": "code",
   "execution_count": 0,
   "metadata": {
    "application/vnd.databricks.v1+cell": {
     "cellMetadata": {
      "byteLimit": 2048000,
      "implicitDf": true,
      "rowLimit": 10000
     },
     "inputWidgets": {},
     "nuid": "e52aa38a-4568-4141-a1cd-6779168d7a88",
     "showTitle": false,
     "title": ""
    }
   },
   "outputs": [
    {
     "output_type": "display_data",
     "data": {
      "text/html": [
       "<style scoped>\n",
       "  .table-result-container {\n",
       "    max-height: 300px;\n",
       "    overflow: auto;\n",
       "  }\n",
       "  table, th, td {\n",
       "    border: 1px solid black;\n",
       "    border-collapse: collapse;\n",
       "  }\n",
       "  th, td {\n",
       "    padding: 5px;\n",
       "  }\n",
       "  th {\n",
       "    text-align: left;\n",
       "  }\n",
       "</style><div class='table-result-container'><table class='table-result'><thead style='background-color: white'><tr><th>num_affected_rows</th></tr></thead><tbody><tr><td>15</td></tr></tbody></table></div>"
      ]
     },
     "metadata": {
      "application/vnd.databricks.v1+output": {
       "addedWidgets": {},
       "aggData": [],
       "aggError": "",
       "aggOverflow": false,
       "aggSchema": [],
       "aggSeriesLimitReached": false,
       "aggType": "",
       "arguments": {},
       "columnCustomDisplayInfos": {},
       "data": [
        [
         15
        ]
       ],
       "datasetInfos": [],
       "dbfsResultPath": null,
       "isJsonSchema": true,
       "metadata": {},
       "overflow": false,
       "plotOptions": {
        "customPlotOptions": {},
        "displayType": "table",
        "pivotAggregation": null,
        "pivotColumns": null,
        "xColumns": null,
        "yColumns": null
       },
       "removedWidgets": [],
       "schema": [
        {
         "metadata": "{}",
         "name": "num_affected_rows",
         "type": "\"long\""
        }
       ],
       "type": "table"
      }
     },
     "output_type": "display_data"
    }
   ],
   "source": [
    "%sql\n",
    "\n",
    "UPDATE attempt2\n",
    "SET joined_date = CASE\n",
    "WHEN id_no = 1 THEN '2023-05-16'\n",
    "WHEN id_no = 2 THEN '2016-06-15'\n",
    "ELSE joined_date\n",
    "END;"
   ]
  },
  {
   "cell_type": "code",
   "execution_count": 0,
   "metadata": {
    "application/vnd.databricks.v1+cell": {
     "cellMetadata": {
      "byteLimit": 2048000,
      "implicitDf": true,
      "rowLimit": 10000
     },
     "inputWidgets": {},
     "nuid": "73272803-ccf4-4130-9411-e14a497c652e",
     "showTitle": false,
     "title": ""
    }
   },
   "outputs": [
    {
     "output_type": "display_data",
     "data": {
      "text/html": [
       "<style scoped>\n",
       "  .table-result-container {\n",
       "    max-height: 300px;\n",
       "    overflow: auto;\n",
       "  }\n",
       "  table, th, td {\n",
       "    border: 1px solid black;\n",
       "    border-collapse: collapse;\n",
       "  }\n",
       "  th, td {\n",
       "    padding: 5px;\n",
       "  }\n",
       "  th {\n",
       "    text-align: left;\n",
       "  }\n",
       "</style><div class='table-result-container'><table class='table-result'><thead style='background-color: white'><tr><th>id_no</th><th>first_name</th><th>last_Name</th><th>address</th><th>phone_number</th><th>department</th><th>joined_date</th></tr></thead><tbody><tr><td>1</td><td>John</td><td>Doe</td><td>123 Main St</td><td>1234567890</td><td>People Ops</td><td>2023-05-16</td></tr><tr><td>2</td><td>Jane</td><td>Smith</td><td>456 Oak St</td><td>9876543210</td><td>IT</td><td>2016-06-15</td></tr><tr><td>3</td><td>Bob</td><td>Johnson</td><td>789 Pine St</td><td>5551234567</td><td>Finance</td><td>2024-01-27</td></tr><tr><td>4</td><td>Alice</td><td>Williams</td><td>321 Birch St</td><td>5559876543</td><td>Marketing</td><td>2024-01-28</td></tr><tr><td>5</td><td>Charlie</td><td>Brown</td><td>654 Maple St</td><td>5555555555</td><td>Sales</td><td>2024-01-29</td></tr><tr><td>6</td><td>Eva</td><td>Miller</td><td>987 Cedar St</td><td>5551112233</td><td>Engineering</td><td>2024-02-02</td></tr><tr><td>7</td><td>David</td><td>Jones</td><td>234 Pine St</td><td>5553334444</td><td>People Ops</td><td>2024-02-03</td></tr><tr><td>8</td><td>Grace</td><td>Clark</td><td>567 Oak St</td><td>5556667777</td><td>IT</td><td>2024-02-04</td></tr><tr><td>9</td><td>Sam</td><td>White</td><td>890 Elm St</td><td>5559990000</td><td>Marketing</td><td>2024-02-05</td></tr><tr><td>10</td><td>Lily</td><td>Brown</td><td>123 Birch St</td><td>5554445555</td><td>Engineering</td><td>2024-02-06</td></tr><tr><td>11</td><td>Mike</td><td>Smith</td><td>456 Cedar St</td><td>5557778888</td><td>Sales</td><td>2024-02-07</td></tr><tr><td>12</td><td>Olivia</td><td>Miller</td><td>789 Maple St</td><td>5552223333</td><td>Finance</td><td>2024-02-08</td></tr><tr><td>13</td><td>Daniel</td><td>Clark</td><td>987 Elm St</td><td>5551110000</td><td>IT</td><td>2024-02-09</td></tr><tr><td>14</td><td>Sophia</td><td>Jones</td><td>345 Pine St</td><td>5556669999</td><td>Engineering</td><td>2024-02-10</td></tr><tr><td>15</td><td>Henry</td><td>Wilson</td><td>678 Oak St</td><td>5553332222</td><td>Marketing</td><td>2024-02-11</td></tr></tbody></table></div>"
      ]
     },
     "metadata": {
      "application/vnd.databricks.v1+output": {
       "addedWidgets": {},
       "aggData": [],
       "aggError": "",
       "aggOverflow": false,
       "aggSchema": [],
       "aggSeriesLimitReached": false,
       "aggType": "",
       "arguments": {},
       "columnCustomDisplayInfos": {},
       "data": [
        [
         1,
         "John",
         "Doe",
         "123 Main St",
         1234567890,
         "People Ops",
         "2023-05-16"
        ],
        [
         2,
         "Jane",
         "Smith",
         "456 Oak St",
         9876543210,
         "IT",
         "2016-06-15"
        ],
        [
         3,
         "Bob",
         "Johnson",
         "789 Pine St",
         5551234567,
         "Finance",
         "2024-01-27"
        ],
        [
         4,
         "Alice",
         "Williams",
         "321 Birch St",
         5559876543,
         "Marketing",
         "2024-01-28"
        ],
        [
         5,
         "Charlie",
         "Brown",
         "654 Maple St",
         5555555555,
         "Sales",
         "2024-01-29"
        ],
        [
         6,
         "Eva",
         "Miller",
         "987 Cedar St",
         5551112233,
         "Engineering",
         "2024-02-02"
        ],
        [
         7,
         "David",
         "Jones",
         "234 Pine St",
         5553334444,
         "People Ops",
         "2024-02-03"
        ],
        [
         8,
         "Grace",
         "Clark",
         "567 Oak St",
         5556667777,
         "IT",
         "2024-02-04"
        ],
        [
         9,
         "Sam",
         "White",
         "890 Elm St",
         5559990000,
         "Marketing",
         "2024-02-05"
        ],
        [
         10,
         "Lily",
         "Brown",
         "123 Birch St",
         5554445555,
         "Engineering",
         "2024-02-06"
        ],
        [
         11,
         "Mike",
         "Smith",
         "456 Cedar St",
         5557778888,
         "Sales",
         "2024-02-07"
        ],
        [
         12,
         "Olivia",
         "Miller",
         "789 Maple St",
         5552223333,
         "Finance",
         "2024-02-08"
        ],
        [
         13,
         "Daniel",
         "Clark",
         "987 Elm St",
         5551110000,
         "IT",
         "2024-02-09"
        ],
        [
         14,
         "Sophia",
         "Jones",
         "345 Pine St",
         5556669999,
         "Engineering",
         "2024-02-10"
        ],
        [
         15,
         "Henry",
         "Wilson",
         "678 Oak St",
         5553332222,
         "Marketing",
         "2024-02-11"
        ]
       ],
       "datasetInfos": [],
       "dbfsResultPath": null,
       "isJsonSchema": true,
       "metadata": {},
       "overflow": false,
       "plotOptions": {
        "customPlotOptions": {},
        "displayType": "table",
        "pivotAggregation": null,
        "pivotColumns": null,
        "xColumns": null,
        "yColumns": null
       },
       "removedWidgets": [],
       "schema": [
        {
         "metadata": "{}",
         "name": "id_no",
         "type": "\"long\""
        },
        {
         "metadata": "{\"__CHAR_VARCHAR_TYPE_STRING\":\"varchar(255)\"}",
         "name": "first_name",
         "type": "\"string\""
        },
        {
         "metadata": "{\"__CHAR_VARCHAR_TYPE_STRING\":\"varchar(255)\"}",
         "name": "last_Name",
         "type": "\"string\""
        },
        {
         "metadata": "{\"__CHAR_VARCHAR_TYPE_STRING\":\"varchar(255)\"}",
         "name": "address",
         "type": "\"string\""
        },
        {
         "metadata": "{}",
         "name": "phone_number",
         "type": "\"long\""
        },
        {
         "metadata": "{\"__CHAR_VARCHAR_TYPE_STRING\":\"varchar(255)\"}",
         "name": "department",
         "type": "\"string\""
        },
        {
         "metadata": "{}",
         "name": "joined_date",
         "type": "\"date\""
        }
       ],
       "type": "table"
      }
     },
     "output_type": "display_data"
    }
   ],
   "source": [
    "%sql\n",
    "\n",
    "SELECT * FROM attempt2;"
   ]
  },
  {
   "cell_type": "code",
   "execution_count": 0,
   "metadata": {
    "application/vnd.databricks.v1+cell": {
     "cellMetadata": {
      "byteLimit": 2048000,
      "implicitDf": true,
      "rowLimit": 10000
     },
     "inputWidgets": {},
     "nuid": "bd766a16-cd7d-4d40-af72-6fa1ca0b1c26",
     "showTitle": false,
     "title": ""
    }
   },
   "outputs": [
    {
     "output_type": "display_data",
     "data": {
      "text/html": [
       "<style scoped>\n",
       "  .table-result-container {\n",
       "    max-height: 300px;\n",
       "    overflow: auto;\n",
       "  }\n",
       "  table, th, td {\n",
       "    border: 1px solid black;\n",
       "    border-collapse: collapse;\n",
       "  }\n",
       "  th, td {\n",
       "    padding: 5px;\n",
       "  }\n",
       "  th {\n",
       "    text-align: left;\n",
       "  }\n",
       "</style><div class='table-result-container'><table class='table-result'><thead style='background-color: white'><tr></tr></thead><tbody></tbody></table></div>"
      ]
     },
     "metadata": {
      "application/vnd.databricks.v1+output": {
       "addedWidgets": {},
       "aggData": [],
       "aggError": "",
       "aggOverflow": false,
       "aggSchema": [],
       "aggSeriesLimitReached": false,
       "aggType": "",
       "arguments": {},
       "columnCustomDisplayInfos": {},
       "data": [],
       "datasetInfos": [],
       "dbfsResultPath": null,
       "isJsonSchema": true,
       "metadata": {},
       "overflow": false,
       "plotOptions": {
        "customPlotOptions": {},
        "displayType": "table",
        "pivotAggregation": null,
        "pivotColumns": null,
        "xColumns": null,
        "yColumns": null
       },
       "removedWidgets": [],
       "schema": [],
       "type": "table"
      }
     },
     "output_type": "display_data"
    }
   ],
   "source": [
    "%sql\n",
    "\n",
    "CREATE TABLE department_info (\n",
    "  department_id INT,\n",
    "  department_name VARCHAR(255),\n",
    "  department_head VARCHAR(255)\n",
    ");\n"
   ]
  },
  {
   "cell_type": "code",
   "execution_count": 0,
   "metadata": {
    "application/vnd.databricks.v1+cell": {
     "cellMetadata": {
      "byteLimit": 2048000,
      "implicitDf": true,
      "rowLimit": 10000
     },
     "inputWidgets": {},
     "nuid": "f5aa8ad4-8c56-4c86-ba28-1901c5bce882",
     "showTitle": false,
     "title": ""
    }
   },
   "outputs": [
    {
     "output_type": "display_data",
     "data": {
      "text/html": [
       "<style scoped>\n",
       "  .table-result-container {\n",
       "    max-height: 300px;\n",
       "    overflow: auto;\n",
       "  }\n",
       "  table, th, td {\n",
       "    border: 1px solid black;\n",
       "    border-collapse: collapse;\n",
       "  }\n",
       "  th, td {\n",
       "    padding: 5px;\n",
       "  }\n",
       "  th {\n",
       "    text-align: left;\n",
       "  }\n",
       "</style><div class='table-result-container'><table class='table-result'><thead style='background-color: white'><tr><th>num_affected_rows</th><th>num_inserted_rows</th></tr></thead><tbody><tr><td>6</td><td>6</td></tr></tbody></table></div>"
      ]
     },
     "metadata": {
      "application/vnd.databricks.v1+output": {
       "addedWidgets": {},
       "aggData": [],
       "aggError": "",
       "aggOverflow": false,
       "aggSchema": [],
       "aggSeriesLimitReached": false,
       "aggType": "",
       "arguments": {},
       "columnCustomDisplayInfos": {},
       "data": [
        [
         6,
         6
        ]
       ],
       "datasetInfos": [],
       "dbfsResultPath": null,
       "isJsonSchema": true,
       "metadata": {},
       "overflow": false,
       "plotOptions": {
        "customPlotOptions": {},
        "displayType": "table",
        "pivotAggregation": null,
        "pivotColumns": null,
        "xColumns": null,
        "yColumns": null
       },
       "removedWidgets": [],
       "schema": [
        {
         "metadata": "{}",
         "name": "num_affected_rows",
         "type": "\"long\""
        },
        {
         "metadata": "{}",
         "name": "num_inserted_rows",
         "type": "\"long\""
        }
       ],
       "type": "table"
      }
     },
     "output_type": "display_data"
    }
   ],
   "source": [
    "%sql\n",
    "\n",
    "INSERT INTO department_info (department_id, department_name, department_head)\n",
    "VALUES\n",
    "  (1, 'HR', 'John HRHead'),\n",
    "  (2, 'IT', 'Jane ITHead'),\n",
    "  (3, 'Finance', 'Bob FinanceHead'),\n",
    "  (4, 'Marketing', 'Alice MarketingHead'),\n",
    "  (5, 'Sales', 'Charlie SalesHead'),\n",
    "  (6, 'Engineering', 'Eva EngineeringHead');\n"
   ]
  },
  {
   "cell_type": "code",
   "execution_count": 0,
   "metadata": {
    "application/vnd.databricks.v1+cell": {
     "cellMetadata": {
      "byteLimit": 2048000,
      "rowLimit": 10000
     },
     "inputWidgets": {},
     "nuid": "92253367-2228-4a5f-8500-5274463c8673",
     "showTitle": false,
     "title": ""
    }
   },
   "outputs": [
    {
     "output_type": "stream",
     "name": "stdout",
     "output_type": "stream",
     "text": [
      "apple\n"
     ]
    }
   ],
   "source": [
    "print('apple')"
   ]
  },
  {
   "cell_type": "code",
   "execution_count": 0,
   "metadata": {
    "application/vnd.databricks.v1+cell": {
     "cellMetadata": {},
     "inputWidgets": {},
     "nuid": "2116d45a-ede9-4243-a1f9-6ff6b003c0f0",
     "showTitle": false,
     "title": ""
    }
   },
   "outputs": [],
   "source": []
  }
 ],
 "metadata": {
  "application/vnd.databricks.v1+notebook": {
   "dashboards": [],
   "language": "python",
   "notebookMetadata": {
    "mostRecentlyExecutedCommandWithImplicitDF": {
     "commandId": 1685444023894572,
     "dataframes": [
      "_sqldf"
     ]
    },
    "pythonIndentUnit": 4
   },
   "notebookName": "Day1",
   "widgets": {}
  }
 },
 "nbformat": 4,
 "nbformat_minor": 0
}
