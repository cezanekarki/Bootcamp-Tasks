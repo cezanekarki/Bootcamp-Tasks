{
 "cells": [
  {
   "cell_type": "code",
   "execution_count": 0,
   "metadata": {
    "application/vnd.databricks.v1+cell": {
     "cellMetadata": {
      "byteLimit": 2048000,
      "rowLimit": 10000
     },
     "inputWidgets": {},
     "nuid": "e6341e11-3a5d-4547-812b-3c4fda60bac1",
     "showTitle": false,
     "title": ""
    }
   },
   "outputs": [
    {
     "output_type": "display_data",
     "data": {
      "text/html": [
       "\n",
       "            <div>\n",
       "                <p><b>SparkSession - hive</b></p>\n",
       "                \n",
       "        <div>\n",
       "            <p><b>SparkContext</b></p>\n",
       "\n",
       "            <p><a href=\"/?o=8406473031038401#setting/sparkui/0212-044848-cs8rmttn/driver-6538051833581460602\">Spark UI</a></p>\n",
       "\n",
       "            <dl>\n",
       "              <dt>Version</dt>\n",
       "                <dd><code>v3.3.2</code></dd>\n",
       "              <dt>Master</dt>\n",
       "                <dd><code>local[8]</code></dd>\n",
       "              <dt>AppName</dt>\n",
       "                <dd><code>Databricks Shell</code></dd>\n",
       "            </dl>\n",
       "        </div>\n",
       "        \n",
       "            </div>\n",
       "        "
      ]
     },
     "metadata": {
      "application/vnd.databricks.v1+output": {
       "addedWidgets": {},
       "arguments": {},
       "data": "\n            <div>\n                <p><b>SparkSession - hive</b></p>\n                \n        <div>\n            <p><b>SparkContext</b></p>\n\n            <p><a href=\"/?o=8406473031038401#setting/sparkui/0212-044848-cs8rmttn/driver-6538051833581460602\">Spark UI</a></p>\n\n            <dl>\n              <dt>Version</dt>\n                <dd><code>v3.3.2</code></dd>\n              <dt>Master</dt>\n                <dd><code>local[8]</code></dd>\n              <dt>AppName</dt>\n                <dd><code>Databricks Shell</code></dd>\n            </dl>\n        </div>\n        \n            </div>\n        ",
       "datasetInfos": [],
       "metadata": {},
       "removedWidgets": [],
       "textData": null,
       "type": "htmlSandbox"
      }
     },
     "output_type": "display_data"
    }
   ],
   "source": [
    "from pyspark.sql import SparkSession\n",
    "spark = SparkSession.builder.getOrCreate()\n",
    "spark "
   ]
  },
  {
   "cell_type": "code",
   "execution_count": 0,
   "metadata": {
    "application/vnd.databricks.v1+cell": {
     "cellMetadata": {
      "byteLimit": 2048000,
      "rowLimit": 10000
     },
     "inputWidgets": {},
     "nuid": "a98272fe-63d5-48a5-b687-75a1e9551c4f",
     "showTitle": false,
     "title": ""
    }
   },
   "outputs": [
    {
     "output_type": "display_data",
     "data": {
      "text/html": [
       "<style scoped>\n",
       "  .table-result-container {\n",
       "    max-height: 300px;\n",
       "    overflow: auto;\n",
       "  }\n",
       "  table, th, td {\n",
       "    border: 1px solid black;\n",
       "    border-collapse: collapse;\n",
       "  }\n",
       "  th, td {\n",
       "    padding: 5px;\n",
       "  }\n",
       "  th {\n",
       "    text-align: left;\n",
       "  }\n",
       "</style><div class='table-result-container'><table class='table-result'><thead style='background-color: white'><tr><th>path</th><th>name</th><th>size</th><th>modificationTime</th></tr></thead><tbody><tr><td>dbfs:/FileStore/tables/Address-1.xlsx</td><td>Address-1.xlsx</td><td>151315</td><td>1706935437000</td></tr><tr><td>dbfs:/FileStore/tables/Address.xlsx</td><td>Address.xlsx</td><td>151315</td><td>1706076818000</td></tr><tr><td>dbfs:/FileStore/tables/Detail.csv</td><td>Detail.csv</td><td>208476</td><td>1706073616000</td></tr><tr><td>dbfs:/FileStore/tables/Project_1-1.xlsx</td><td>Project_1-1.xlsx</td><td>422501</td><td>1706605367000</td></tr><tr><td>dbfs:/FileStore/tables/Project_1.xlsx</td><td>Project_1.xlsx</td><td>422501</td><td>1706605307000</td></tr><tr><td>dbfs:/FileStore/tables/contactinfo-1.txt</td><td>contactinfo-1.txt</td><td>49969</td><td>1706935632000</td></tr><tr><td>dbfs:/FileStore/tables/contactinfo.txt</td><td>contactinfo.txt</td><td>49969</td><td>1706076166000</td></tr><tr><td>dbfs:/FileStore/tables/csv/</td><td>csv/</td><td>0</td><td>0</td></tr><tr><td>dbfs:/FileStore/tables/dummy_data_2.sql</td><td>dummy_data_2.sql</td><td>574</td><td>1706609575000</td></tr><tr><td>dbfs:/FileStore/tables/header.json</td><td>header.json</td><td>115560</td><td>1706518881000</td></tr><tr><td>dbfs:/FileStore/tables/json/</td><td>json/</td><td>0</td><td>0</td></tr><tr><td>dbfs:/FileStore/tables/parquet/</td><td>parquet/</td><td>0</td><td>0</td></tr></tbody></table></div>"
      ]
     },
     "metadata": {
      "application/vnd.databricks.v1+output": {
       "addedWidgets": {},
       "aggData": [],
       "aggError": "",
       "aggOverflow": false,
       "aggSchema": [],
       "aggSeriesLimitReached": false,
       "aggType": "",
       "arguments": {},
       "columnCustomDisplayInfos": {},
       "data": [
        [
         "dbfs:/FileStore/tables/Address-1.xlsx",
         "Address-1.xlsx",
         151315,
         1706935437000
        ],
        [
         "dbfs:/FileStore/tables/Address.xlsx",
         "Address.xlsx",
         151315,
         1706076818000
        ],
        [
         "dbfs:/FileStore/tables/Detail.csv",
         "Detail.csv",
         208476,
         1706073616000
        ],
        [
         "dbfs:/FileStore/tables/Project_1-1.xlsx",
         "Project_1-1.xlsx",
         422501,
         1706605367000
        ],
        [
         "dbfs:/FileStore/tables/Project_1.xlsx",
         "Project_1.xlsx",
         422501,
         1706605307000
        ],
        [
         "dbfs:/FileStore/tables/contactinfo-1.txt",
         "contactinfo-1.txt",
         49969,
         1706935632000
        ],
        [
         "dbfs:/FileStore/tables/contactinfo.txt",
         "contactinfo.txt",
         49969,
         1706076166000
        ],
        [
         "dbfs:/FileStore/tables/csv/",
         "csv/",
         0,
         0
        ],
        [
         "dbfs:/FileStore/tables/dummy_data_2.sql",
         "dummy_data_2.sql",
         574,
         1706609575000
        ],
        [
         "dbfs:/FileStore/tables/header.json",
         "header.json",
         115560,
         1706518881000
        ],
        [
         "dbfs:/FileStore/tables/json/",
         "json/",
         0,
         0
        ],
        [
         "dbfs:/FileStore/tables/parquet/",
         "parquet/",
         0,
         0
        ]
       ],
       "datasetInfos": [],
       "dbfsResultPath": null,
       "isJsonSchema": true,
       "metadata": {
        "isDbfsCommandResult": false
       },
       "overflow": false,
       "plotOptions": {
        "customPlotOptions": {},
        "displayType": "table",
        "pivotAggregation": null,
        "pivotColumns": null,
        "xColumns": null,
        "yColumns": null
       },
       "removedWidgets": [],
       "schema": [
        {
         "metadata": "{}",
         "name": "path",
         "type": "\"string\""
        },
        {
         "metadata": "{}",
         "name": "name",
         "type": "\"string\""
        },
        {
         "metadata": "{}",
         "name": "size",
         "type": "\"long\""
        },
        {
         "metadata": "{}",
         "name": "modificationTime",
         "type": "\"long\""
        }
       ],
       "type": "table"
      }
     },
     "output_type": "display_data"
    }
   ],
   "source": [
    "%fs ls dbfs:////FileStore/tables\n"
   ]
  },
  {
   "cell_type": "code",
   "execution_count": 0,
   "metadata": {
    "application/vnd.databricks.v1+cell": {
     "cellMetadata": {
      "byteLimit": 2048000,
      "rowLimit": 10000
     },
     "inputWidgets": {},
     "nuid": "485e47fd-a1e4-4ce6-83d4-9e3bb087eb8a",
     "showTitle": false,
     "title": ""
    }
   },
   "outputs": [],
   "source": [
    "df_csv=spark.read.format(\"csv\").load(\"dbfs:////FileStore/tables/csv/batch.csv\")"
   ]
  },
  {
   "cell_type": "code",
   "execution_count": 0,
   "metadata": {
    "application/vnd.databricks.v1+cell": {
     "cellMetadata": {
      "byteLimit": 2048000,
      "rowLimit": 10000
     },
     "inputWidgets": {},
     "nuid": "43b5c620-185c-4b25-9b41-fbf7b2f6d514",
     "showTitle": false,
     "title": ""
    }
   },
   "outputs": [
    {
     "output_type": "stream",
     "name": "stdout",
     "output_type": "stream",
     "text": [
      "Out[62]: pyspark.sql.dataframe.DataFrame"
     ]
    }
   ],
   "source": [
    "type(df_csv)"
   ]
  },
  {
   "cell_type": "code",
   "execution_count": 0,
   "metadata": {
    "application/vnd.databricks.v1+cell": {
     "cellMetadata": {
      "byteLimit": 2048000,
      "rowLimit": 10000
     },
     "inputWidgets": {},
     "nuid": "05a416fe-e51e-4180-8f1d-a4c168e9d14a",
     "showTitle": false,
     "title": ""
    }
   },
   "outputs": [
    {
     "output_type": "stream",
     "name": "stdout",
     "output_type": "stream",
     "text": [
      "+---+-----+----------+----+------+----------+\n|_c0|  _c1|       _c2| _c3|   _c4|       _c5|\n+---+-----+----------+----+------+----------+\n| id| name|       dob| age|salary|department|\n|  1| John|1992-05-12|  30| 70000|        IT|\n|  2|Alice|1997-02-28|  25| 60000|        HR|\n|  3|  Bob|      null|null| 80000|        IT|\n|  4|Emily|1994-11-22|  28| 65000|   Finance|\n+---+-----+----------+----+------+----------+\n\n"
     ]
    }
   ],
   "source": [
    "df_csv.show()"
   ]
  },
  {
   "cell_type": "code",
   "execution_count": 0,
   "metadata": {
    "application/vnd.databricks.v1+cell": {
     "cellMetadata": {
      "byteLimit": 2048000,
      "implicitDf": true,
      "rowLimit": 10000
     },
     "inputWidgets": {},
     "nuid": "d35a6e22-4307-4d6c-b9ba-f262ce5b910c",
     "showTitle": false,
     "title": ""
    }
   },
   "outputs": [
    {
     "output_type": "stream",
     "name": "stdout",
     "output_type": "stream",
     "text": [
      "root\n |-- id: string (nullable = true)\n |-- name: string (nullable = true)\n |-- dob: string (nullable = true)\n |-- age: string (nullable = true)\n |-- salary: string (nullable = true)\n |-- department: string (nullable = true)\n\n"
     ]
    }
   ],
   "source": [
    "df_csv =spark.read.format(\"csv\").option(\"header\",True).load(\"dbfs:////FileStore/tables/csv/batch.csv\")\n",
    "df_csv.printSchema()"
   ]
  },
  {
   "cell_type": "code",
   "execution_count": 0,
   "metadata": {
    "application/vnd.databricks.v1+cell": {
     "cellMetadata": {
      "byteLimit": 2048000,
      "rowLimit": 10000
     },
     "inputWidgets": {},
     "nuid": "e3d5c33d-4a94-4d3e-94c9-dee1195525f3",
     "showTitle": false,
     "title": ""
    }
   },
   "outputs": [],
   "source": [
    "from pyspark.sql.types import StructType,StructField,IntegerType,StringType,DateType"
   ]
  },
  {
   "cell_type": "code",
   "execution_count": 0,
   "metadata": {
    "application/vnd.databricks.v1+cell": {
     "cellMetadata": {
      "byteLimit": 2048000,
      "rowLimit": 10000
     },
     "inputWidgets": {},
     "nuid": "a70d438c-40f3-48cf-9d9e-bba3b8a6b7b6",
     "showTitle": false,
     "title": ""
    }
   },
   "outputs": [],
   "source": [
    "schema =StructType([\n",
    "    StructField(\"id\",IntegerType()),\n",
    "    StructField(\"name\",StringType()),\n",
    "    StructField(\"dob\",DateType()),\n",
    "    StructField(\"age\",IntegerType()),\n",
    "    StructField(\"salary\",IntegerType()),\n",
    "    StructField(\"department\",StringType()),\n",
    "\n",
    "])"
   ]
  },
  {
   "cell_type": "code",
   "execution_count": 0,
   "metadata": {
    "application/vnd.databricks.v1+cell": {
     "cellMetadata": {
      "byteLimit": 2048000,
      "rowLimit": 10000
     },
     "inputWidgets": {},
     "nuid": "c7525fa8-a8a6-4b49-8133-8ab2217d3040",
     "showTitle": false,
     "title": ""
    }
   },
   "outputs": [],
   "source": [
    "df_csv=spark.read.format(\"csv\").schema(schema).option(\"header\",True).load(\"dbfs:////FileStore/tables/csv/batch.csv\")"
   ]
  },
  {
   "cell_type": "code",
   "execution_count": 0,
   "metadata": {
    "application/vnd.databricks.v1+cell": {
     "cellMetadata": {
      "byteLimit": 2048000,
      "rowLimit": 10000
     },
     "inputWidgets": {},
     "nuid": "8515f850-bece-41ae-a2c7-ab95031bdcab",
     "showTitle": false,
     "title": ""
    }
   },
   "outputs": [
    {
     "output_type": "stream",
     "name": "stdout",
     "output_type": "stream",
     "text": [
      "root\n |-- id: integer (nullable = true)\n |-- name: string (nullable = true)\n |-- dob: date (nullable = true)\n |-- age: integer (nullable = true)\n |-- salary: integer (nullable = true)\n |-- department: string (nullable = true)\n\n"
     ]
    }
   ],
   "source": [
    "df_csv.printSchema()"
   ]
  },
  {
   "cell_type": "code",
   "execution_count": 0,
   "metadata": {
    "application/vnd.databricks.v1+cell": {
     "cellMetadata": {
      "byteLimit": 2048000,
      "rowLimit": 10000
     },
     "inputWidgets": {},
     "nuid": "3ef8b02a-e22c-4815-aade-0cecb895793d",
     "showTitle": false,
     "title": ""
    }
   },
   "outputs": [],
   "source": [
    "df_json=spark.read.format(\"json\").load(\"dbfs:/FileStore/tables/json\")\n"
   ]
  },
  {
   "cell_type": "code",
   "execution_count": 0,
   "metadata": {
    "application/vnd.databricks.v1+cell": {
     "cellMetadata": {
      "byteLimit": 2048000,
      "rowLimit": 10000
     },
     "inputWidgets": {},
     "nuid": "07a73daf-6f0d-4cca-958e-0ceb99e079b1",
     "showTitle": false,
     "title": ""
    }
   },
   "outputs": [
    {
     "output_type": "stream",
     "name": "stdout",
     "output_type": "stream",
     "text": [
      "+----+----------+----------+---+------+------+\n| age|department|       dob| id|  name|salary|\n+----+----------+----------+---+------+------+\n|  30|        IT|1992-05-12|  1|  John| 70000|\n|  25|        HR|1997-02-28|  2| Alice| 60000|\n|null|        IT|      null|  3|   Bob| 80000|\n|  28|   Finance|1994-11-22|  4| Emily| 65000|\n|  41|        HR|1981-12-18|  5| David| 90000|\n|  33|   Finance|1989-07-05|  6| Susan| 75000|\n|  46|        IT|1976-03-15|  7|  Mike| 95000|\n|  30|   Finance|1992-06-30| 10|Sophie| 62000|\n|  25|   Finance|1997-02-28|  2| Alice| 90000|\n|  28|   Finance|1994-11-22|  4| Emily| 70000|\n|  39|        IT|1983-10-14|  9| James| 87000|\n|  30|        IT|1992-05-12|  1|  John| 70000|\n|  27|        HR|1995-08-20|  8|  Lisa| 58000|\n+----+----------+----------+---+------+------+\n\n"
     ]
    }
   ],
   "source": [
    "df_json.show()"
   ]
  },
  {
   "cell_type": "code",
   "execution_count": 0,
   "metadata": {
    "application/vnd.databricks.v1+cell": {
     "cellMetadata": {
      "byteLimit": 2048000,
      "rowLimit": 10000
     },
     "inputWidgets": {},
     "nuid": "8c1e296f-3022-465c-83d8-b86567277698",
     "showTitle": false,
     "title": ""
    }
   },
   "outputs": [
    {
     "output_type": "stream",
     "name": "stdout",
     "output_type": "stream",
     "text": [
      "root\n |-- age: long (nullable = true)\n |-- department: string (nullable = true)\n |-- dob: string (nullable = true)\n |-- id: long (nullable = true)\n |-- name: string (nullable = true)\n |-- salary: long (nullable = true)\n\n"
     ]
    }
   ],
   "source": [
    "df_json.printSchema()"
   ]
  },
  {
   "cell_type": "code",
   "execution_count": 0,
   "metadata": {
    "application/vnd.databricks.v1+cell": {
     "cellMetadata": {
      "byteLimit": 2048000,
      "rowLimit": 10000
     },
     "inputWidgets": {},
     "nuid": "072277a2-e708-4081-aacd-8c98d0dc1626",
     "showTitle": true,
     "title": "Day 2 "
    }
   },
   "outputs": [],
   "source": [
    "df=df_csv.union(df_json)"
   ]
  },
  {
   "cell_type": "code",
   "execution_count": 0,
   "metadata": {
    "application/vnd.databricks.v1+cell": {
     "cellMetadata": {
      "byteLimit": 2048000,
      "rowLimit": 10000
     },
     "inputWidgets": {},
     "nuid": "3264af7e-26d1-42de-978c-4100b162f5b9",
     "showTitle": false,
     "title": ""
    }
   },
   "outputs": [
    {
     "output_type": "stream",
     "name": "stdout",
     "output_type": "stream",
     "text": [
      "+----+-------+----------+----+------+----------+\n|  id|   name|       dob| age|salary|department|\n+----+-------+----------+----+------+----------+\n|   1|   John|1992-05-12|  30| 70000|        IT|\n|   2|  Alice|1997-02-28|  25| 60000|        HR|\n|   3|    Bob|      null|null| 80000|        IT|\n|   4|  Emily|1994-11-22|  28| 65000|   Finance|\n|  30|     IT|1992-05-12|   1|  John|     70000|\n|  25|     HR|1997-02-28|   2| Alice|     60000|\n|null|     IT|      null|   3|   Bob|     80000|\n|  28|Finance|1994-11-22|   4| Emily|     65000|\n|  41|     HR|1981-12-18|   5| David|     90000|\n|  33|Finance|1989-07-05|   6| Susan|     75000|\n|  46|     IT|1976-03-15|   7|  Mike|     95000|\n|  30|Finance|1992-06-30|  10|Sophie|     62000|\n|  25|Finance|1997-02-28|   2| Alice|     90000|\n|  28|Finance|1994-11-22|   4| Emily|     70000|\n|  39|     IT|1983-10-14|   9| James|     87000|\n|  30|     IT|1992-05-12|   1|  John|     70000|\n|  27|     HR|1995-08-20|   8|  Lisa|     58000|\n+----+-------+----------+----+------+----------+\n\n"
     ]
    }
   ],
   "source": [
    "df.show()"
   ]
  },
  {
   "cell_type": "code",
   "execution_count": 0,
   "metadata": {
    "application/vnd.databricks.v1+cell": {
     "cellMetadata": {
      "byteLimit": 2048000,
      "rowLimit": 10000
     },
     "inputWidgets": {},
     "nuid": "d6976665-cc85-4ce2-a064-fefac635f737",
     "showTitle": false,
     "title": ""
    }
   },
   "outputs": [
    {
     "output_type": "stream",
     "name": "stdout",
     "output_type": "stream",
     "text": [
      "['id', 'name', 'dob', 'age', 'salary', 'department'] ['age', 'department', 'dob', 'id', 'name', 'salary']\n"
     ]
    }
   ],
   "source": [
    "print(df_csv.columns,df_json.columns)"
   ]
  },
  {
   "cell_type": "code",
   "execution_count": 0,
   "metadata": {
    "application/vnd.databricks.v1+cell": {
     "cellMetadata": {
      "byteLimit": 2048000,
      "rowLimit": 10000
     },
     "inputWidgets": {},
     "nuid": "4add8b8c-fe23-40c9-b763-bc00e4b8e7b9",
     "showTitle": false,
     "title": ""
    }
   },
   "outputs": [
    {
     "output_type": "stream",
     "name": "stdout",
     "output_type": "stream",
     "text": [
      "['id', 'name', 'dob', 'age', 'salary', 'department'] ['id', 'name', 'dob', 'age', 'salary', 'department']\n"
     ]
    }
   ],
   "source": [
    "df_json=df_json.select(df_csv.columns)\n",
    "print(df_csv.columns,df_json.columns)"
   ]
  },
  {
   "cell_type": "code",
   "execution_count": 0,
   "metadata": {
    "application/vnd.databricks.v1+cell": {
     "cellMetadata": {
      "byteLimit": 2048000,
      "rowLimit": 10000
     },
     "inputWidgets": {},
     "nuid": "e48a3a3e-9ed2-4eab-81ba-ceeb716bae20",
     "showTitle": false,
     "title": ""
    }
   },
   "outputs": [
    {
     "output_type": "stream",
     "name": "stdout",
     "output_type": "stream",
     "text": [
      "root\n |-- id: integer (nullable = true)\n |-- name: string (nullable = true)\n |-- dob: date (nullable = true)\n |-- age: integer (nullable = true)\n |-- salary: integer (nullable = true)\n |-- department: string (nullable = true)\n\n"
     ]
    }
   ],
   "source": [
    "df_json=spark.read.format(\"json\").schema(schema).load(\"dbfs:/FileStore/tables/json\").orderBy(\"id\")\n",
    "df_json.printSchema()"
   ]
  },
  {
   "cell_type": "code",
   "execution_count": 0,
   "metadata": {
    "application/vnd.databricks.v1+cell": {
     "cellMetadata": {
      "byteLimit": 2048000,
      "rowLimit": 10000
     },
     "inputWidgets": {},
     "nuid": "106e34bb-f7d8-4a91-a230-813b80cfccc5",
     "showTitle": false,
     "title": ""
    }
   },
   "outputs": [],
   "source": []
  },
  {
   "cell_type": "code",
   "execution_count": 0,
   "metadata": {
    "application/vnd.databricks.v1+cell": {
     "cellMetadata": {
      "byteLimit": 2048000,
      "rowLimit": 10000
     },
     "inputWidgets": {},
     "nuid": "0f815efb-57ef-46b0-9bf8-a8955a94ccc3",
     "showTitle": false,
     "title": ""
    }
   },
   "outputs": [],
   "source": [
    "df=df.dropDuplicates()"
   ]
  },
  {
   "cell_type": "code",
   "execution_count": 0,
   "metadata": {
    "application/vnd.databricks.v1+cell": {
     "cellMetadata": {
      "byteLimit": 2048000,
      "rowLimit": 10000
     },
     "inputWidgets": {},
     "nuid": "047a4249-50fd-4b28-9fed-89fe44cf1ac9",
     "showTitle": false,
     "title": ""
    }
   },
   "outputs": [
    {
     "output_type": "stream",
     "name": "stdout",
     "output_type": "stream",
     "text": [
      "+----+-------+----------+----+------+----------+\n|  id|   name|       dob| age|salary|department|\n+----+-------+----------+----+------+----------+\n|   2|  Alice|1997-02-28|  25| 60000|        HR|\n|   3|    Bob|      null|null| 80000|        IT|\n|   4|  Emily|1994-11-22|  28| 65000|   Finance|\n|   1|   John|1992-05-12|  30| 70000|        IT|\n|null|     IT|      null|   3|   Bob|     80000|\n|  33|Finance|1989-07-05|   6| Susan|     75000|\n|  41|     HR|1981-12-18|   5| David|     90000|\n|  25|     HR|1997-02-28|   2| Alice|     60000|\n|  30|     IT|1992-05-12|   1|  John|     70000|\n|  28|Finance|1994-11-22|   4| Emily|     65000|\n|  46|     IT|1976-03-15|   7|  Mike|     95000|\n|  30|Finance|1992-06-30|  10|Sophie|     62000|\n|  25|Finance|1997-02-28|   2| Alice|     90000|\n|  28|Finance|1994-11-22|   4| Emily|     70000|\n|  39|     IT|1983-10-14|   9| James|     87000|\n|  27|     HR|1995-08-20|   8|  Lisa|     58000|\n+----+-------+----------+----+------+----------+\n\n"
     ]
    }
   ],
   "source": [
    "df.show()"
   ]
  },
  {
   "cell_type": "code",
   "execution_count": 0,
   "metadata": {
    "application/vnd.databricks.v1+cell": {
     "cellMetadata": {
      "byteLimit": 2048000,
      "rowLimit": 10000
     },
     "inputWidgets": {},
     "nuid": "1529d25c-115b-4ff3-8b9c-e6e62b210dde",
     "showTitle": true,
     "title": "Task"
    }
   },
   "outputs": [],
   "source": []
  },
  {
   "cell_type": "code",
   "execution_count": 0,
   "metadata": {
    "application/vnd.databricks.v1+cell": {
     "cellMetadata": {
      "byteLimit": 2048000,
      "rowLimit": 10000
     },
     "inputWidgets": {},
     "nuid": "369b014f-17c5-48e4-bfca-a1e8242b3a60",
     "showTitle": true,
     "title": "Transformation"
    }
   },
   "outputs": [
    {
     "output_type": "stream",
     "name": "stdout",
     "output_type": "stream",
     "text": [
      "+----+-------+----------+----+------+----------+\n|  id|   name|       dob| age|salary|department|\n+----+-------+----------+----+------+----------+\n|   2|  Alice|1997-02-28|  25| 60000|        HR|\n|   3|    Bob|      null|null| 80000|        IT|\n|   4|  Emily|1994-11-22|  28| 65000|   Finance|\n|   1|   John|1992-05-12|  30| 70000|        IT|\n|null|     IT|      null|   3|   Bob|     80000|\n|  33|Finance|1989-07-05|   6| Susan|     75000|\n|  41|     HR|1981-12-18|   5| David|     90000|\n|  25|     HR|1997-02-28|   2| Alice|     60000|\n|  30|     IT|1992-05-12|   1|  John|     70000|\n|  28|Finance|1994-11-22|   4| Emily|     65000|\n|  46|     IT|1976-03-15|   7|  Mike|     95000|\n|  30|Finance|1992-06-30|  10|Sophie|     62000|\n|  25|Finance|1997-02-28|   2| Alice|     90000|\n|  28|Finance|1994-11-22|   4| Emily|     70000|\n|  39|     IT|1983-10-14|   9| James|     87000|\n|  27|     HR|1995-08-20|   8|  Lisa|     58000|\n+----+-------+----------+----+------+----------+\n\n"
     ]
    }
   ],
   "source": [
    "from pyspark.sql import functions as F\n",
    "from pyspark.sql.functions import *\n",
    "from pyspark.sql.functions import col,max,min\n",
    "df.show()\n"
   ]
  },
  {
   "cell_type": "code",
   "execution_count": 0,
   "metadata": {
    "application/vnd.databricks.v1+cell": {
     "cellMetadata": {
      "byteLimit": 2048000,
      "rowLimit": 10000
     },
     "inputWidgets": {},
     "nuid": "6644190c-5aed-4e5d-a4a1-a6bcf5de4585",
     "showTitle": false,
     "title": ""
    }
   },
   "outputs": [
    {
     "output_type": "stream",
     "name": "stdout",
     "output_type": "stream",
     "text": [
      "+-------+------+\n|   name|salary|\n+-------+------+\n|  Alice| 60000|\n|    Bob| 80000|\n|  Emily| 65000|\n|   John| 70000|\n|     IT|   Bob|\n|Finance| Susan|\n|     HR| David|\n|     HR| Alice|\n|     IT|  John|\n|Finance| Emily|\n|     IT|  Mike|\n|Finance|Sophie|\n|Finance| Alice|\n|Finance| Emily|\n|     IT| James|\n|     HR|  Lisa|\n+-------+------+\n\n+------+\n|salary|\n+------+\n| 60000|\n| 80000|\n| 65000|\n| 70000|\n|   Bob|\n| Susan|\n| David|\n| Alice|\n|  John|\n| Emily|\n|  Mike|\n|Sophie|\n| Alice|\n| Emily|\n| James|\n|  Lisa|\n+------+\n\n"
     ]
    }
   ],
   "source": [
    "df.select(\n",
    "    df.name,df.salary\n",
    ").show()\n",
    "\n",
    "df.select(\n",
    "    F.col(\"salary\")\n",
    ").show()"
   ]
  },
  {
   "cell_type": "code",
   "execution_count": 0,
   "metadata": {
    "application/vnd.databricks.v1+cell": {
     "cellMetadata": {
      "byteLimit": 2048000,
      "rowLimit": 10000
     },
     "inputWidgets": {},
     "nuid": "2b10d917-2b36-4d6c-9263-98e713b4f0a3",
     "showTitle": false,
     "title": ""
    }
   },
   "outputs": [
    {
     "output_type": "stream",
     "name": "stdout",
     "output_type": "stream",
     "text": [
      "+-------+----+---------------------------------------+\n|SAALRYY| age|(year(current_timestamp()) - year(dob))|\n+-------+----+---------------------------------------+\n|63000.0|  27|                                     27|\n|84000.0|null|                                   null|\n|68250.0|  30|                                     30|\n|73500.0|  32|                                     32|\n|   null|null|                                   null|\n|   null|  35|                                     35|\n|   null|  43|                                     43|\n|   null|  27|                                     27|\n|   null|  32|                                     32|\n|   null|  30|                                     30|\n|   null|  48|                                     48|\n|   null|  32|                                     32|\n|   null|  27|                                     27|\n|   null|  30|                                     30|\n|   null|  41|                                     41|\n|   null|  29|                                     29|\n+-------+----+---------------------------------------+\n\n"
     ]
    }
   ],
   "source": [
    "df.select(\n",
    "    (df.salary + .05 * df.salary).alias(\"SAALRYY\"),\n",
    "    (F.year(F.current_timestamp()) -F.year(F.col(\"dob\"))).alias(\"age\"),\n",
    "    F.year(F.current_timestamp()) - F.year(\"dob\")\n",
    "\n",
    "     ).show()"
   ]
  },
  {
   "cell_type": "code",
   "execution_count": 0,
   "metadata": {
    "application/vnd.databricks.v1+cell": {
     "cellMetadata": {
      "byteLimit": 2048000,
      "rowLimit": 10000
     },
     "inputWidgets": {},
     "nuid": "698903ed-a570-475a-895b-805f9c554961",
     "showTitle": true,
     "title": "alias"
    }
   },
   "outputs": [
    {
     "output_type": "stream",
     "name": "stdout",
     "output_type": "stream",
     "text": [
      "+-------+----+-----------+------------+\n|SAALRYY| age|another age|salary raize|\n+-------+----+-----------+------------+\n|63000.0|  27|         27|     90000.0|\n|84000.0|null|       null|    120000.0|\n|68250.0|  30|         30|     97500.0|\n|73500.0|  32|         32|    105000.0|\n|   null|null|       null|        null|\n|   null|  35|         35|        null|\n|   null|  43|         43|        null|\n|   null|  27|         27|        null|\n|   null|  32|         32|        null|\n|   null|  30|         30|        null|\n|   null|  48|         48|        null|\n|   null|  32|         32|        null|\n|   null|  27|         27|        null|\n|   null|  30|         30|        null|\n|   null|  41|         41|        null|\n|   null|  29|         29|        null|\n+-------+----+-----------+------------+\n\n"
     ]
    }
   ],
   "source": [
    "df.select(\n",
    "    (df.salary + .05 * df.salary).alias(\"SAALRYY\"),\n",
    "    (F.year(F.current_timestamp()) -F.year(F.col(\"dob\"))).alias(\"age\"),\n",
    "    (F.year(F.current_timestamp()) - F.year(\"dob\")).alias(\"another age\"),\n",
    "     F.expr(\"salary + 0.5 * salary\").alias(\"salary raize\")\n",
    "\n",
    "     ).show()"
   ]
  },
  {
   "cell_type": "code",
   "execution_count": 0,
   "metadata": {
    "application/vnd.databricks.v1+cell": {
     "cellMetadata": {
      "byteLimit": 2048000,
      "rowLimit": 10000
     },
     "inputWidgets": {},
     "nuid": "665d52af-5fdb-4e0b-852c-390f5ddab9c1",
     "showTitle": false,
     "title": ""
    }
   },
   "outputs": [],
   "source": [
    "df=df.withColumn(\n",
    "    \"salary_raise\",(F.col(\"salary\")+ 0.05 * F.col(\"salary\")) \n",
    ")\n",
    "\n",
    "df=df.withColumn(\n",
    "    \"salary_raise_10_perc\",\n",
    "    (F.col(\"salary\")+.1 * F.col(\"salary\"))\n",
    ")"
   ]
  },
  {
   "cell_type": "code",
   "execution_count": 0,
   "metadata": {
    "application/vnd.databricks.v1+cell": {
     "cellMetadata": {
      "byteLimit": 2048000,
      "rowLimit": 10000
     },
     "inputWidgets": {},
     "nuid": "19aa9d37-236e-4afe-a05f-ff2ffd981a7f",
     "showTitle": false,
     "title": ""
    }
   },
   "outputs": [
    {
     "output_type": "stream",
     "name": "stdout",
     "output_type": "stream",
     "text": [
      "+----+-------+----------+----+------+----------+------------+--------------------+\n|  id|   name|       dob| age|salary|department|salary_raise|salary_raise_10_perc|\n+----+-------+----------+----+------+----------+------------+--------------------+\n|   2|  Alice|1997-02-28|  25| 60000|        HR|     63000.0|             66000.0|\n|   3|    Bob|      null|null| 80000|        IT|     84000.0|             88000.0|\n|   4|  Emily|1994-11-22|  28| 65000|   Finance|     68250.0|             71500.0|\n|   1|   John|1992-05-12|  30| 70000|        IT|     73500.0|             77000.0|\n|null|     IT|      null|   3|   Bob|     80000|        null|                null|\n|  33|Finance|1989-07-05|   6| Susan|     75000|        null|                null|\n|  41|     HR|1981-12-18|   5| David|     90000|        null|                null|\n|  25|     HR|1997-02-28|   2| Alice|     60000|        null|                null|\n|  30|     IT|1992-05-12|   1|  John|     70000|        null|                null|\n|  28|Finance|1994-11-22|   4| Emily|     65000|        null|                null|\n|  46|     IT|1976-03-15|   7|  Mike|     95000|        null|                null|\n|  30|Finance|1992-06-30|  10|Sophie|     62000|        null|                null|\n|  25|Finance|1997-02-28|   2| Alice|     90000|        null|                null|\n|  28|Finance|1994-11-22|   4| Emily|     70000|        null|                null|\n|  39|     IT|1983-10-14|   9| James|     87000|        null|                null|\n|  27|     HR|1995-08-20|   8|  Lisa|     58000|        null|                null|\n+----+-------+----------+----+------+----------+------------+--------------------+\n\n"
     ]
    }
   ],
   "source": [
    "df.show()"
   ]
  },
  {
   "cell_type": "code",
   "execution_count": 0,
   "metadata": {
    "application/vnd.databricks.v1+cell": {
     "cellMetadata": {
      "byteLimit": 2048000,
      "rowLimit": 10000
     },
     "inputWidgets": {},
     "nuid": "97420544-b2c3-4378-9f7b-ad8f5b77a6da",
     "showTitle": true,
     "title": "LIT"
    }
   },
   "outputs": [],
   "source": [
    "\n",
    "df = df.withColumn(\n",
    "    \"age_group\",\n",
    "    F.when(\n",
    "        F.col(\"age\") <=20,\n",
    "        \"Upto 20\"\n",
    "    ).when(\n",
    "        (\n",
    "            (F.col(\"age\") >20) &\n",
    "            (F.col(\"age\") <=30)\n",
    "        ),\n",
    "        \"21 to 30\"\n",
    "    ).when (\n",
    "        (\n",
    "            (F.col(\"age\") > 30) &\n",
    "            (F.col(\"age\") <= 40)\n",
    "        ),\n",
    "        \"31 to 40\"\n",
    "    ).otherwise(\n",
    "        \"More than 40\"\n",
    "    )\n",
    ")"
   ]
  },
  {
   "cell_type": "code",
   "execution_count": 0,
   "metadata": {
    "application/vnd.databricks.v1+cell": {
     "cellMetadata": {
      "byteLimit": 2048000,
      "rowLimit": 10000
     },
     "inputWidgets": {},
     "nuid": "7d130956-98d6-4c68-981c-5626f4623d8a",
     "showTitle": false,
     "title": ""
    }
   },
   "outputs": [
    {
     "output_type": "stream",
     "name": "stdout",
     "output_type": "stream",
     "text": [
      "+----+-------+----------+----+------+----------+------------+--------------------+------------+\n|  id|   name|       dob| age|salary|department|salary_raise|salary_raise_10_perc|   age_group|\n+----+-------+----------+----+------+----------+------------+--------------------+------------+\n|   2|  Alice|1997-02-28|  25| 60000|        HR|     63000.0|             66000.0|    21 to 30|\n|   3|    Bob|      null|null| 80000|        IT|     84000.0|             88000.0|More than 40|\n|   4|  Emily|1994-11-22|  28| 65000|   Finance|     68250.0|             71500.0|    21 to 30|\n|   1|   John|1992-05-12|  30| 70000|        IT|     73500.0|             77000.0|    21 to 30|\n|null|     IT|      null|   3|   Bob|     80000|        null|                null|     Upto 20|\n|  33|Finance|1989-07-05|   6| Susan|     75000|        null|                null|     Upto 20|\n|  41|     HR|1981-12-18|   5| David|     90000|        null|                null|     Upto 20|\n|  25|     HR|1997-02-28|   2| Alice|     60000|        null|                null|     Upto 20|\n|  30|     IT|1992-05-12|   1|  John|     70000|        null|                null|     Upto 20|\n|  28|Finance|1994-11-22|   4| Emily|     65000|        null|                null|     Upto 20|\n|  46|     IT|1976-03-15|   7|  Mike|     95000|        null|                null|     Upto 20|\n|  30|Finance|1992-06-30|  10|Sophie|     62000|        null|                null|     Upto 20|\n|  25|Finance|1997-02-28|   2| Alice|     90000|        null|                null|     Upto 20|\n|  28|Finance|1994-11-22|   4| Emily|     70000|        null|                null|     Upto 20|\n|  39|     IT|1983-10-14|   9| James|     87000|        null|                null|     Upto 20|\n|  27|     HR|1995-08-20|   8|  Lisa|     58000|        null|                null|     Upto 20|\n+----+-------+----------+----+------+----------+------------+--------------------+------------+\n\n"
     ]
    }
   ],
   "source": [
    "df.show()"
   ]
  },
  {
   "cell_type": "code",
   "execution_count": 0,
   "metadata": {
    "application/vnd.databricks.v1+cell": {
     "cellMetadata": {
      "byteLimit": 2048000,
      "rowLimit": 10000
     },
     "inputWidgets": {},
     "nuid": "4c34c165-12da-41ad-8692-821ce794ff72",
     "showTitle": true,
     "title": "NULLS"
    }
   },
   "outputs": [],
   "source": [
    "df = df.withColumns(\n",
    "    {\n",
    "        \"age\": F.coalesce(\n",
    "            F.year (F.current_timestamp()) - F.year(F.col(\"dob\")),\n",
    "            F.lit(-1),\n",
    "        ) ,\n",
    "        \"has_dob_1\": ~(F.isnull(\"dob\")),\n",
    "        \"has_dob_2\": F.col(\"dob\").isNotNull(),\n",
    "    }\n",
    "\n",
    ")"
   ]
  },
  {
   "cell_type": "code",
   "execution_count": 0,
   "metadata": {
    "application/vnd.databricks.v1+cell": {
     "cellMetadata": {
      "byteLimit": 2048000,
      "rowLimit": 10000
     },
     "inputWidgets": {},
     "nuid": "69a8997d-ede3-4fc3-b625-d4195e60bf24",
     "showTitle": false,
     "title": ""
    }
   },
   "outputs": [
    {
     "output_type": "stream",
     "name": "stdout",
     "output_type": "stream",
     "text": [
      "+----+-------+----------+---+------+----------+------------+--------------------+------------+---------+---------+\n|  id|   name|       dob|age|salary|department|salary_raise|salary_raise_10_perc|   age_group|has_dob_1|has_dob_2|\n+----+-------+----------+---+------+----------+------------+--------------------+------------+---------+---------+\n|   2|  Alice|1997-02-28| 27| 60000|        HR|     63000.0|             66000.0|    21 to 30|     true|     true|\n|   3|    Bob|      null| -1| 80000|        IT|     84000.0|             88000.0|More than 40|    false|    false|\n|   4|  Emily|1994-11-22| 30| 65000|   Finance|     68250.0|             71500.0|    21 to 30|     true|     true|\n|   1|   John|1992-05-12| 32| 70000|        IT|     73500.0|             77000.0|    21 to 30|     true|     true|\n|null|     IT|      null| -1|   Bob|     80000|        null|                null|     Upto 20|    false|    false|\n|  33|Finance|1989-07-05| 35| Susan|     75000|        null|                null|     Upto 20|     true|     true|\n|  41|     HR|1981-12-18| 43| David|     90000|        null|                null|     Upto 20|     true|     true|\n|  25|     HR|1997-02-28| 27| Alice|     60000|        null|                null|     Upto 20|     true|     true|\n|  30|     IT|1992-05-12| 32|  John|     70000|        null|                null|     Upto 20|     true|     true|\n|  28|Finance|1994-11-22| 30| Emily|     65000|        null|                null|     Upto 20|     true|     true|\n|  46|     IT|1976-03-15| 48|  Mike|     95000|        null|                null|     Upto 20|     true|     true|\n|  30|Finance|1992-06-30| 32|Sophie|     62000|        null|                null|     Upto 20|     true|     true|\n|  25|Finance|1997-02-28| 27| Alice|     90000|        null|                null|     Upto 20|     true|     true|\n|  28|Finance|1994-11-22| 30| Emily|     70000|        null|                null|     Upto 20|     true|     true|\n|  39|     IT|1983-10-14| 41| James|     87000|        null|                null|     Upto 20|     true|     true|\n|  27|     HR|1995-08-20| 29|  Lisa|     58000|        null|                null|     Upto 20|     true|     true|\n+----+-------+----------+---+------+----------+------------+--------------------+------------+---------+---------+\n\n"
     ]
    }
   ],
   "source": [
    "df.show()"
   ]
  },
  {
   "cell_type": "code",
   "execution_count": 0,
   "metadata": {
    "application/vnd.databricks.v1+cell": {
     "cellMetadata": {
      "byteLimit": 2048000,
      "rowLimit": 10000
     },
     "inputWidgets": {},
     "nuid": "70a6bb3c-55f0-41fe-8e85-fe9c660e220c",
     "showTitle": false,
     "title": ""
    }
   },
   "outputs": [],
   "source": [
    "df=df.withColumn(\n",
    "    \"company\",F.lit(\"ABACUS INSIGHTS\")\n",
    ")"
   ]
  },
  {
   "cell_type": "code",
   "execution_count": 0,
   "metadata": {
    "application/vnd.databricks.v1+cell": {
     "cellMetadata": {
      "byteLimit": 2048000,
      "rowLimit": 10000
     },
     "inputWidgets": {},
     "nuid": "06da459a-d7b2-4936-ae9f-5f01a475debe",
     "showTitle": false,
     "title": ""
    }
   },
   "outputs": [
    {
     "output_type": "stream",
     "name": "stdout",
     "output_type": "stream",
     "text": [
      "+----+-------+----------+---+------+----------+------------+--------------------+------------+---------+---------+---------------+\n|  id|   name|       dob|age|salary|department|salary_raise|salary_raise_10_perc|   age_group|has_dob_1|has_dob_2|        company|\n+----+-------+----------+---+------+----------+------------+--------------------+------------+---------+---------+---------------+\n|   2|  Alice|1997-02-28| 27| 60000|        HR|     63000.0|             66000.0|    21 to 30|     true|     true|ABACUS INSIGHTS|\n|   3|    Bob|      null| -1| 80000|        IT|     84000.0|             88000.0|More than 40|    false|    false|ABACUS INSIGHTS|\n|   4|  Emily|1994-11-22| 30| 65000|   Finance|     68250.0|             71500.0|    21 to 30|     true|     true|ABACUS INSIGHTS|\n|   1|   John|1992-05-12| 32| 70000|        IT|     73500.0|             77000.0|    21 to 30|     true|     true|ABACUS INSIGHTS|\n|null|     IT|      null| -1|   Bob|     80000|        null|                null|     Upto 20|    false|    false|ABACUS INSIGHTS|\n|  33|Finance|1989-07-05| 35| Susan|     75000|        null|                null|     Upto 20|     true|     true|ABACUS INSIGHTS|\n|  41|     HR|1981-12-18| 43| David|     90000|        null|                null|     Upto 20|     true|     true|ABACUS INSIGHTS|\n|  25|     HR|1997-02-28| 27| Alice|     60000|        null|                null|     Upto 20|     true|     true|ABACUS INSIGHTS|\n|  30|     IT|1992-05-12| 32|  John|     70000|        null|                null|     Upto 20|     true|     true|ABACUS INSIGHTS|\n|  28|Finance|1994-11-22| 30| Emily|     65000|        null|                null|     Upto 20|     true|     true|ABACUS INSIGHTS|\n|  46|     IT|1976-03-15| 48|  Mike|     95000|        null|                null|     Upto 20|     true|     true|ABACUS INSIGHTS|\n|  30|Finance|1992-06-30| 32|Sophie|     62000|        null|                null|     Upto 20|     true|     true|ABACUS INSIGHTS|\n|  25|Finance|1997-02-28| 27| Alice|     90000|        null|                null|     Upto 20|     true|     true|ABACUS INSIGHTS|\n|  28|Finance|1994-11-22| 30| Emily|     70000|        null|                null|     Upto 20|     true|     true|ABACUS INSIGHTS|\n|  39|     IT|1983-10-14| 41| James|     87000|        null|                null|     Upto 20|     true|     true|ABACUS INSIGHTS|\n|  27|     HR|1995-08-20| 29|  Lisa|     58000|        null|                null|     Upto 20|     true|     true|ABACUS INSIGHTS|\n+----+-------+----------+---+------+----------+------------+--------------------+------------+---------+---------+---------------+\n\n"
     ]
    }
   ],
   "source": [
    "df.show()"
   ]
  },
  {
   "cell_type": "code",
   "execution_count": 0,
   "metadata": {
    "application/vnd.databricks.v1+cell": {
     "cellMetadata": {},
     "inputWidgets": {},
     "nuid": "0000fa7e-f7e2-4878-bb75-7a0dce25fc4e",
     "showTitle": true,
     "title": "Drop "
    }
   },
   "outputs": [],
   "source": []
  },
  {
   "cell_type": "code",
   "execution_count": 0,
   "metadata": {
    "application/vnd.databricks.v1+cell": {
     "cellMetadata": {
      "byteLimit": 2048000,
      "rowLimit": 10000
     },
     "inputWidgets": {},
     "nuid": "0022bae8-2d7c-4b3d-8c0b-138070e803e0",
     "showTitle": false,
     "title": ""
    }
   },
   "outputs": [],
   "source": [
    "df = df.drop( \"company\", \"has_dob_1\", \"has_dob_2\", \"salary_raise_10_perc\")"
   ]
  },
  {
   "cell_type": "code",
   "execution_count": 0,
   "metadata": {
    "application/vnd.databricks.v1+cell": {
     "cellMetadata": {
      "byteLimit": 2048000,
      "rowLimit": 10000
     },
     "inputWidgets": {},
     "nuid": "0498896d-3612-4f05-9dd9-1dcf352fbe43",
     "showTitle": true,
     "title": "With column Remanmed"
    }
   },
   "outputs": [],
   "source": [
    "df=df.withColumnRenamed(\"name\",\"firstName\")"
   ]
  },
  {
   "cell_type": "code",
   "execution_count": 0,
   "metadata": {
    "application/vnd.databricks.v1+cell": {
     "cellMetadata": {
      "byteLimit": 2048000,
      "rowLimit": 10000
     },
     "inputWidgets": {},
     "nuid": "87abeee5-74db-4636-93f8-d57f9a9aea3c",
     "showTitle": false,
     "title": ""
    }
   },
   "outputs": [
    {
     "output_type": "stream",
     "name": "stdout",
     "output_type": "stream",
     "text": [
      "+----+---------+----------+---+------+----------+------------+------------+\n|  id|firstName|       dob|age|salary|department|salary_raise|   age_group|\n+----+---------+----------+---+------+----------+------------+------------+\n|   2|    Alice|1997-02-28| 27| 60000|        HR|     63000.0|    21 to 30|\n|   3|      Bob|      null| -1| 80000|        IT|     84000.0|More than 40|\n|   4|    Emily|1994-11-22| 30| 65000|   Finance|     68250.0|    21 to 30|\n|   1|     John|1992-05-12| 32| 70000|        IT|     73500.0|    21 to 30|\n|null|       IT|      null| -1|   Bob|     80000|        null|     Upto 20|\n|  33|  Finance|1989-07-05| 35| Susan|     75000|        null|     Upto 20|\n|  41|       HR|1981-12-18| 43| David|     90000|        null|     Upto 20|\n|  25|       HR|1997-02-28| 27| Alice|     60000|        null|     Upto 20|\n|  30|       IT|1992-05-12| 32|  John|     70000|        null|     Upto 20|\n|  28|  Finance|1994-11-22| 30| Emily|     65000|        null|     Upto 20|\n|  46|       IT|1976-03-15| 48|  Mike|     95000|        null|     Upto 20|\n|  30|  Finance|1992-06-30| 32|Sophie|     62000|        null|     Upto 20|\n|  25|  Finance|1997-02-28| 27| Alice|     90000|        null|     Upto 20|\n|  28|  Finance|1994-11-22| 30| Emily|     70000|        null|     Upto 20|\n|  39|       IT|1983-10-14| 41| James|     87000|        null|     Upto 20|\n|  27|       HR|1995-08-20| 29|  Lisa|     58000|        null|     Upto 20|\n+----+---------+----------+---+------+----------+------------+------------+\n\n"
     ]
    }
   ],
   "source": [
    "df.show()"
   ]
  },
  {
   "cell_type": "code",
   "execution_count": 0,
   "metadata": {
    "application/vnd.databricks.v1+cell": {
     "cellMetadata": {},
     "inputWidgets": {},
     "nuid": "f34b0fc5-21bb-4f62-8a37-84f62821e090",
     "showTitle": false,
     "title": ""
    }
   },
   "outputs": [],
   "source": []
  }
 ],
 "metadata": {
  "application/vnd.databricks.v1+notebook": {
   "dashboards": [],
   "language": "python",
   "notebookMetadata": {
    "mostRecentlyExecutedCommandWithImplicitDF": {
     "commandId": 4024506634288333,
     "dataframes": [
      "_sqldf"
     ]
    },
    "pythonIndentUnit": 4
   },
   "notebookName": "Pyspark workshop",
   "widgets": {}
  }
 },
 "nbformat": 4,
 "nbformat_minor": 0
}
