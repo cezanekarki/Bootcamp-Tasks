{
 "cells": [
  {
   "cell_type": "code",
   "execution_count": 0,
   "metadata": {
    "application/vnd.databricks.v1+cell": {
     "cellMetadata": {
      "byteLimit": 2048000,
      "rowLimit": 10000
     },
     "inputWidgets": {},
     "nuid": "76efccc8-aa8e-4ca2-9818-9b0adc7081f1",
     "showTitle": false,
     "title": ""
    }
   },
   "outputs": [
    {
     "output_type": "display_data",
     "data": {
      "text/plain": [
       "enetr any string i am vijay and i love my country indiaaaaaaa"
      ]
     },
     "metadata": {},
     "output_type": "display_data"
    },
    {
     "output_type": "stream",
     "name": "stdout",
     "output_type": "stream",
     "text": [
      "Out[8]: 9"
     ]
    }
   ],
   "source": [
    "# the programe takes string input from user\n",
    "# and analyzes the txt to provide following information following \n",
    "#1)number of words and unique words\n",
    "x = input(\"enetr any string\")\n",
    "x\n",
    "x= x.split()\n",
    "x\n",
    "total_words = len(x)\n",
    "total_words\n"
   ]
  },
  {
   "cell_type": "code",
   "execution_count": 0,
   "metadata": {
    "application/vnd.databricks.v1+cell": {
     "cellMetadata": {
      "byteLimit": 2048000,
      "rowLimit": 10000
     },
     "inputWidgets": {},
     "nuid": "b3220e0c-abcb-4922-aa99-725335fb2b0f",
     "showTitle": false,
     "title": ""
    }
   },
   "outputs": [
    {
     "output_type": "stream",
     "name": "stdout",
     "output_type": "stream",
     "text": [
      "Out[9]: 8"
     ]
    }
   ],
   "source": [
    "unique_words = set(x)\n",
    "unique_words\n",
    "count_unique =len(unique_words)\n",
    "count_unique\n",
    "\n",
    "\n"
   ]
  },
  {
   "cell_type": "code",
   "execution_count": 0,
   "metadata": {
    "application/vnd.databricks.v1+cell": {
     "cellMetadata": {
      "byteLimit": 2048000,
      "rowLimit": 10000
     },
     "inputWidgets": {},
     "nuid": "6634e531-7086-43e7-bd85-6f6ca80a57e3",
     "showTitle": false,
     "title": ""
    }
   },
   "outputs": [
    {
     "output_type": "stream",
     "name": "stdout",
     "output_type": "stream",
     "text": [
      "Out[10]: ['indiaaaaaaa', 'country', 'my', 'love', 'i', 'and', 'vijay', 'am', 'i']"
     ]
    }
   ],
   "source": [
    "# reverse\n",
    "reverse_x = x[::-1]\n",
    "reverse_x\n"
   ]
  },
  {
   "cell_type": "code",
   "execution_count": 0,
   "metadata": {
    "application/vnd.databricks.v1+cell": {
     "cellMetadata": {
      "byteLimit": 2048000,
      "rowLimit": 10000
     },
     "inputWidgets": {},
     "nuid": "659a7b08-9125-41b4-9ab0-951fa0c80b30",
     "showTitle": false,
     "title": ""
    }
   },
   "outputs": [
    {
     "output_type": "stream",
     "name": "stdout",
     "output_type": "stream",
     "text": [
      "Out[13]: 'indiaaaaaaa'"
     ]
    }
   ],
   "source": [
    "# longest word in string\n",
    "long_word = \"\"\n",
    "for i in x:\n",
    "    if len(i) > len(long_word):\n",
    "        long_word = i\n",
    "long_word"
   ]
  },
  {
   "cell_type": "code",
   "execution_count": 0,
   "metadata": {
    "application/vnd.databricks.v1+cell": {
     "cellMetadata": {
      "byteLimit": 2048000,
      "rowLimit": 10000
     },
     "inputWidgets": {},
     "nuid": "c65bcd00-2145-44d1-abec-cd87bcd817ad",
     "showTitle": false,
     "title": ""
    }
   },
   "outputs": [
    {
     "output_type": "stream",
     "name": "stdout",
     "output_type": "stream",
     "text": [
      "Out[12]: 'vijay my love indiaaaaaaa i i country and am'"
     ]
    }
   ],
   "source": [
    "# sort string in alphabetical order\n",
    "type(x)\n",
    "x_alpha = sorted(x)\n",
    "x_alpha\n",
    "x_alpha_reverse = x_alpha[::-1]\n",
    "\n",
    "x_alpha_reverse = \" \".join(x_alpha_reverse)\n",
    "x_alpha_reverse"
   ]
  },
  {
   "cell_type": "code",
   "execution_count": 0,
   "metadata": {
    "application/vnd.databricks.v1+cell": {
     "cellMetadata": {
      "byteLimit": 2048000,
      "rowLimit": 10000
     },
     "inputWidgets": {},
     "nuid": "0313c1d9-6f52-49e0-adc1-feb370d58f4f",
     "showTitle": false,
     "title": ""
    }
   },
   "outputs": [
    {
     "output_type": "stream",
     "name": "stdout",
     "output_type": "stream",
     "text": [
      "Out[15]: {'i': 2,\n 'am': 1,\n 'vijay': 1,\n 'and': 1,\n 'love': 1,\n 'my': 1,\n 'country': 1,\n 'indiaaaaaaa': 1}"
     ]
    }
   ],
   "source": [
    "# frequency of each element in given string\n",
    "dict1 = {}\n",
    "frequency = 1\n",
    "for i in x:\n",
    "    if i in dict1:\n",
    "        dict1[i] += 1\n",
    "    else:\n",
    "        dict1[i] = 1\n",
    "dict1\n"
   ]
  },
  {
   "cell_type": "code",
   "execution_count": 0,
   "metadata": {
    "application/vnd.databricks.v1+cell": {
     "cellMetadata": {},
     "inputWidgets": {},
     "nuid": "6263c0f5-1d6a-4f0d-b5c8-702e60791329",
     "showTitle": false,
     "title": ""
    }
   },
   "outputs": [],
   "source": []
  }
 ],
 "metadata": {
  "application/vnd.databricks.v1+notebook": {
   "dashboards": [],
   "language": "python",
   "notebookMetadata": {
    "pythonIndentUnit": 4
   },
   "notebookName": "Python1",
   "widgets": {}
  }
 },
 "nbformat": 4,
 "nbformat_minor": 0
}
