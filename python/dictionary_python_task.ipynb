{
 "cells": [
  {
   "cell_type": "code",
   "execution_count": 0,
   "metadata": {
    "application/vnd.databricks.v1+cell": {
     "cellMetadata": {
      "byteLimit": 2048000,
      "rowLimit": 10000
     },
     "inputWidgets": {},
     "nuid": "8016cd66-e004-496e-8b1b-25b2eba52f5d",
     "showTitle": false,
     "title": ""
    }
   },
   "outputs": [
    {
     "output_type": "stream",
     "name": "stdout",
     "output_type": "stream",
     "text": [
      "Out[22]: {'name': 'jhon ', 'age': '34', 'city': 'newyork'}"
     ]
    }
   ],
   "source": [
    "\n",
    "# convert given string into dictionary\n",
    "str1 = \"name:jhon ,age:34,city:newyork\"\n",
    " #dict1 = dict(substring.split(\";\") for substring in str.split(\";\"))\n",
    "dict1 = dict()\n",
    "items = str1.split(\",\")\n",
    " \n",
    "for item in items:\n",
    "     key,value = item.split(\":\")\n",
    "     dict1[key] = value\n",
    "dict1"
   ]
  },
  {
   "cell_type": "code",
   "execution_count": 0,
   "metadata": {
    "application/vnd.databricks.v1+cell": {
     "cellMetadata": {
      "byteLimit": 2048000,
      "rowLimit": 10000
     },
     "inputWidgets": {},
     "nuid": "f8a85103-1d3c-4d99-98da-88801c672823",
     "showTitle": false,
     "title": ""
    }
   },
   "outputs": [
    {
     "output_type": "stream",
     "name": "stdout",
     "output_type": "stream",
     "text": [
      "Out[23]: {'The Great Gatsby': (' F. Scott Fitzgerald', 1925),\n ' To Kill a Mockingbird': (' Harper Lee', 1960),\n ' 1984': (' George Orwell', 1949)}"
     ]
    }
   ],
   "source": [
    "# convert string into dictionary\n",
    "str1 = \"The Great Gatsby, F. Scott Fitzgerald, 1925 | To Kill a Mockingbird, Harper Lee, 1960 | 1984, George Orwell, 1949\"\n",
    "books_info = str1.split(\"|\")\n",
    "books_info\n",
    "book_dict = {}\n",
    "books_info\n",
    "for book_info in books_info:\n",
    "    book = book_info.split(\",\")\n",
    "    title = book[0]\n",
    "    auther = book[1]\n",
    "    year = int(book[2])\n",
    "    book_dict[title] = auther,year\n",
    "book_dict"
   ]
  },
  {
   "cell_type": "code",
   "execution_count": 0,
   "metadata": {
    "application/vnd.databricks.v1+cell": {
     "cellMetadata": {
      "byteLimit": 2048000,
      "rowLimit": 10000
     },
     "inputWidgets": {},
     "nuid": "12ddbffe-70be-43fc-a246-7ee655e7b37e",
     "showTitle": false,
     "title": ""
    }
   },
   "outputs": [
    {
     "output_type": "stream",
     "name": "stdout",
     "output_type": "stream",
     "text": [
      "Out[24]: {'alice': 'a', 'bob': 'b', 'charlie': 'c'}"
     ]
    }
   ],
   "source": [
    "# mrege two list into dictionary\n",
    "names = [\"alice\",'bob','charlie']\n",
    "grades = [\"a\",'b','c']\n",
    "m_dict = dict(zip(names,grades))\n",
    "m_dict"
   ]
  },
  {
   "cell_type": "code",
   "execution_count": 0,
   "metadata": {
    "application/vnd.databricks.v1+cell": {
     "cellMetadata": {
      "byteLimit": 2048000,
      "rowLimit": 10000
     },
     "inputWidgets": {},
     "nuid": "e92e4e18-7e79-4633-ad45-e9a2a4cfd1e3",
     "showTitle": false,
     "title": ""
    }
   },
   "outputs": [],
   "source": []
  },
  {
   "cell_type": "code",
   "execution_count": 0,
   "metadata": {
    "application/vnd.databricks.v1+cell": {
     "cellMetadata": {
      "byteLimit": 2048000,
      "rowLimit": 10000
     },
     "inputWidgets": {},
     "nuid": "d71f52ea-2e86-497b-b0d3-e3c805b232be",
     "showTitle": false,
     "title": ""
    }
   },
   "outputs": [
    {
     "output_type": "display_data",
     "data": {
      "text/plain": [
       "\u001B[0;31m---------------------------------------------------------------------------\u001B[0m\n",
       "\u001B[0;31mNameError\u001B[0m                                 Traceback (most recent call last)\n",
       "File \u001B[0;32m<command-2296276059822538>:6\u001B[0m\n",
       "\u001B[1;32m      4\u001B[0m books1_info1\u001B[38;5;66;03m# = str(books1_info1)\u001B[39;00m\n",
       "\u001B[1;32m      5\u001B[0m book1_dict \u001B[38;5;241m=\u001B[39m {}\n",
       "\u001B[0;32m----> 6\u001B[0m \u001B[38;5;28mtype\u001B[39m(books_info1)\n",
       "\n",
       "\u001B[0;31mNameError\u001B[0m: name 'books_info1' is not defined"
      ]
     },
     "metadata": {
      "application/vnd.databricks.v1+output": {
       "arguments": {},
       "data": "\u001B[0;31m---------------------------------------------------------------------------\u001B[0m\n\u001B[0;31mNameError\u001B[0m                                 Traceback (most recent call last)\nFile \u001B[0;32m<command-2296276059822538>:6\u001B[0m\n\u001B[1;32m      4\u001B[0m books1_info1\u001B[38;5;66;03m# = str(books1_info1)\u001B[39;00m\n\u001B[1;32m      5\u001B[0m book1_dict \u001B[38;5;241m=\u001B[39m {}\n\u001B[0;32m----> 6\u001B[0m \u001B[38;5;28mtype\u001B[39m(books_info1)\n\n\u001B[0;31mNameError\u001B[0m: name 'books_info1' is not defined",
       "errorSummary": "<span class='ansi-red-fg'>NameError</span>: name 'books_info1' is not defined",
       "errorTraceType": "ansi",
       "metadata": {},
       "type": "ipynbError"
      }
     },
     "output_type": "display_data"
    }
   ],
   "source": [
    "# convert string into dictionary\n",
    "str1 = \"The Great Gatsby, F. Scott Fitzgerald, 1925 | To Kill a Mockingbird, Harper Lee, 1960 | 1984, George Orwell, 1949\"\n",
    "books1_info1 = str1.split(\"|\")\n",
    "books1_info1# = str(books1_info1)\n",
    "book1_dict = {}\n",
    "type(books_info1)\n",
    "\n"
   ]
  },
  {
   "cell_type": "code",
   "execution_count": 0,
   "metadata": {
    "application/vnd.databricks.v1+cell": {
     "cellMetadata": {
      "byteLimit": 2048000,
      "rowLimit": 10000
     },
     "inputWidgets": {},
     "nuid": "14244859-85e3-4646-9be2-d99c81ffd981",
     "showTitle": false,
     "title": ""
    }
   },
   "outputs": [
    {
     "output_type": "stream",
     "name": "stdout",
     "output_type": "stream",
     "text": [
      "Out[26]: list"
     ]
    }
   ],
   "source": [
    "str1 = \"The Great Gatsby, F. Scott Fitzgerald, 1925 | To Kill a Mockingbird, Harper Lee, 1960 | 1984, George Orwell, 1949\"\n",
    "type(str1)\n",
    "b_info = str1.split(\"|\")\n",
    "\n",
    "\n",
    "type(b_info) "
   ]
  },
  {
   "cell_type": "code",
   "execution_count": 0,
   "metadata": {
    "application/vnd.databricks.v1+cell": {
     "cellMetadata": {
      "byteLimit": 2048000,
      "rowLimit": 10000
     },
     "inputWidgets": {},
     "nuid": "bea88e44-58c2-4e36-ba33-16d91d9c35fc",
     "showTitle": false,
     "title": ""
    }
   },
   "outputs": [
    {
     "output_type": "stream",
     "name": "stdout",
     "output_type": "stream",
     "text": [
      "Out[30]: {'apples': 8, 'oranges': 7, 'bananas': 5}"
     ]
    }
   ],
   "source": [
    "stock = {\"apples\": 10, \"oranges\": 8, \"bananas\": 6}\n",
    "sold_items = [\"apples\", \"oranges\", \"apples\", \"bananas\"]\n",
    "#for key,value in stock.items():\n",
    "   # print(key,value)\n",
    "for i in sold_items:\n",
    "    if i in stock:\n",
    "        stock[i] -= 1\n",
    "stock\n"
   ]
  },
  {
   "cell_type": "code",
   "execution_count": 0,
   "metadata": {
    "application/vnd.databricks.v1+cell": {
     "cellMetadata": {
      "byteLimit": 2048000,
      "rowLimit": 10000
     },
     "inputWidgets": {},
     "nuid": "81ab3134-4709-4e57-b6a0-c4c0205ff63f",
     "showTitle": false,
     "title": ""
    }
   },
   "outputs": [
    {
     "output_type": "stream",
     "name": "stdout",
     "output_type": "stream",
     "text": [
      "Out[28]: {'name': ['Alice', 'Bob', 'Charlie'],\n 'age': [25, 30, 35],\n 'occupation': ['Engineer', 'Doctor', 'Artist']}"
     ]
    }
   ],
   "source": [
    "names = [\"Alice\", \"Bob\", \"Charlie\"]\n",
    "ages = [25, 30, 35]\n",
    "occupations = [\"Engineer\", \"Doctor\", \"Artist\"]\n",
    "# convert these lists into dictionary having name,age AND occuptions as keys\n",
    "dict2 = {}\n",
    "dict2['name'] = names\n",
    "dict2[\"age\"] = ages\n",
    "dict2['occupation'] = occupations\n",
    "dict2"
   ]
  },
  {
   "cell_type": "markdown",
   "metadata": {
    "application/vnd.databricks.v1+cell": {
     "cellMetadata": {
      "byteLimit": 2048000,
      "rowLimit": 10000
     },
     "inputWidgets": {},
     "nuid": "135d5b64-b020-44de-96d8-53ff648f3c0d",
     "showTitle": false,
     "title": ""
    }
   },
   "source": [
    "'''6.\tYou have received a text message that contains various sentences, some of which are inquiries (ending with a question mark '?'). Your task is to analyze this message and perform several operations using Python string functions.\n",
    "\n",
    "Text :  \"Hello! How are you? I hope you're enjoying your day. Have you seen my notebook? It's important. Thanks for your help!\"\n",
    "\n",
    "Count the Questions: Determine how many sentences in the text are questions.\n",
    "Extract Questions: Create a list containing only the sentences that are questions.\n",
    "Remove Punctuation: Create a new version of the text with all punctuation removed.\n",
    "Word Count: Count how many times the word 'you' appears in the text (case-insensitive).\n",
    "Concatenate: Concatenate the first and last sentences to form a new sentence.\n",
    "\n",
    "'''\n"
   ]
  },
  {
   "cell_type": "code",
   "execution_count": 0,
   "metadata": {
    "application/vnd.databricks.v1+cell": {
     "cellMetadata": {
      "byteLimit": 2048000,
      "rowLimit": 10000
     },
     "inputWidgets": {},
     "nuid": "8155652b-c0bc-4d16-ac9e-f9e398d400c6",
     "showTitle": false,
     "title": ""
    }
   },
   "outputs": [
    {
     "output_type": "display_data",
     "data": {
      "text/plain": [
       ""
      ]
     },
     "metadata": {
      "application/vnd.databricks.v1+output": {
       "arguments": {},
       "data": "",
       "errorSummary": "Command skipped",
       "errorTraceType": "ansi",
       "metadata": {},
       "type": "ipynbError"
      }
     },
     "output_type": "display_data"
    }
   ],
   "source": [
    "# Determine how many sentences in the text are questions.\n",
    "txt = 'Hello! How are you? I hope you re enjoying your day. Have you seen my notebook? It s important. Thanks for your help!'\n",
    "cnt_que = txt.count(\"?\")\n",
    "cnt_que\n",
    "\n",
    "#Extract Questions: Create a list containing only the sentences that are questions."
   ]
  },
  {
   "cell_type": "code",
   "execution_count": 0,
   "metadata": {
    "application/vnd.databricks.v1+cell": {
     "cellMetadata": {
      "byteLimit": 2048000,
      "rowLimit": 10000
     },
     "inputWidgets": {},
     "nuid": "ff9dd4db-a700-42ce-9d41-388e05f0379a",
     "showTitle": false,
     "title": ""
    }
   },
   "outputs": [
    {
     "output_type": "display_data",
     "data": {
      "text/plain": [
       ""
      ]
     },
     "metadata": {
      "application/vnd.databricks.v1+output": {
       "arguments": {},
       "data": "",
       "errorSummary": "Command skipped",
       "errorTraceType": "ansi",
       "metadata": {},
       "type": "ipynbError"
      }
     },
     "output_type": "display_data"
    }
   ],
   "source": [
    "txt = 'Hello! How are you? I hope you re enjoying your day. Have you seen my notebook? It s important. Thanks for your help!'\n",
    "sentences = txt.split(\".\")\n",
    "sentences\n",
    "question =  [sentence for sentence in sentences if '?' in sentence]\n",
    "question"
   ]
  },
  {
   "cell_type": "code",
   "execution_count": 0,
   "metadata": {
    "application/vnd.databricks.v1+cell": {
     "cellMetadata": {
      "byteLimit": 2048000,
      "rowLimit": 10000
     },
     "inputWidgets": {},
     "nuid": "9694be76-4228-4876-848d-c764bf024940",
     "showTitle": false,
     "title": ""
    }
   },
   "outputs": [
    {
     "output_type": "display_data",
     "data": {
      "text/plain": [
       ""
      ]
     },
     "metadata": {
      "application/vnd.databricks.v1+output": {
       "arguments": {},
       "data": "",
       "errorSummary": "Command skipped",
       "errorTraceType": "ansi",
       "metadata": {},
       "type": "ipynbError"
      }
     },
     "output_type": "display_data"
    }
   ],
   "source": [
    "txt = txt.lower()\n",
    "count_you = txt.count(\"you\")\n",
    "count_you"
   ]
  },
  {
   "cell_type": "code",
   "execution_count": 0,
   "metadata": {
    "application/vnd.databricks.v1+cell": {
     "cellMetadata": {
      "byteLimit": 2048000,
      "rowLimit": 10000
     },
     "inputWidgets": {},
     "nuid": "aaa0df2b-54a9-4b64-8d82-2a8524165fba",
     "showTitle": false,
     "title": ""
    }
   },
   "outputs": [
    {
     "output_type": "display_data",
     "data": {
      "text/plain": [
       ""
      ]
     },
     "metadata": {
      "application/vnd.databricks.v1+output": {
       "arguments": {},
       "data": "",
       "errorSummary": "Command skipped",
       "errorTraceType": "ansi",
       "metadata": {},
       "type": "ipynbError"
      }
     },
     "output_type": "display_data"
    }
   ],
   "source": [
    "#Concatenate: Concatenate the first and last sentences to form a new sentence.\n",
    "sentences = txt.split(\".\")\n",
    "sentences\n",
    "new_txt = sentences[0] +\" \" +  sentences[-1]\n",
    "new_txt"
   ]
  },
  {
   "cell_type": "code",
   "execution_count": 0,
   "metadata": {
    "application/vnd.databricks.v1+cell": {
     "cellMetadata": {
      "byteLimit": 2048000,
      "rowLimit": 10000
     },
     "inputWidgets": {},
     "nuid": "31b9ec42-94a0-4777-8db0-032d6b789afc",
     "showTitle": false,
     "title": ""
    }
   },
   "outputs": [],
   "source": []
  }
 ],
 "metadata": {
  "application/vnd.databricks.v1+notebook": {
   "dashboards": [],
   "language": "python",
   "notebookMetadata": {
    "pythonIndentUnit": 4
   },
   "notebookName": "python_tasks2",
   "widgets": {}
  }
 },
 "nbformat": 4,
 "nbformat_minor": 0
}
