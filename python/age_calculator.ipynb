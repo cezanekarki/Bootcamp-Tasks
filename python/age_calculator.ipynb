{
 "cells": [
  {
   "cell_type": "code",
   "execution_count": 0,
   "metadata": {
    "application/vnd.databricks.v1+cell": {
     "cellMetadata": {
      "byteLimit": 2048000,
      "rowLimit": 10000
     },
     "inputWidgets": {},
     "nuid": "f0774ad3-6f10-41c8-af51-4e71f3ad4719",
     "showTitle": false,
     "title": ""
    }
   },
   "outputs": [
    {
     "output_type": "display_data",
     "data": {
      "text/plain": [
       "Enter your birthdate in 'dd/mm/yyyy' format : 11/02/1999"
      ]
     },
     "metadata": {},
     "output_type": "display_data"
    },
    {
     "output_type": "stream",
     "name": "stdout",
     "output_type": "stream",
     "text": [
      "1999-02-11\n<class 'datetime.date'>\nYou are 25 years, 0 months, 11 days old \n"
     ]
    }
   ],
   "source": [
    "from dateutil.relativedelta import relativedelta\n",
    "from datetime import datetime\n",
    "def age_calc_using_dateUtilDotRelativeDelta():\n",
    "    b_date = input(\"Enter your birthdate in 'dd/mm/yyyy' format :\")\n",
    "    b_date = datetime.strptime(b_date,\"%d/%m/%Y\").date()\n",
    "    print(b_date)\n",
    "    print(type(b_date))\n",
    "    today = datetime.now().date()\n",
    "    age_ = relativedelta(today,b_date)\n",
    "    print(f\"You are {age_.years} years, {age_.months} months, {age_.days} days old \")\n",
    " \n",
    "age_calc_using_dateUtilDotRelativeDelta()"
   ]
  },
  {
   "cell_type": "code",
   "execution_count": 0,
   "metadata": {
    "application/vnd.databricks.v1+cell": {
     "cellMetadata": {},
     "inputWidgets": {},
     "nuid": "2e62b4f4-6086-4d6a-8b7d-14cb24bfab79",
     "showTitle": false,
     "title": ""
    }
   },
   "outputs": [],
   "source": []
  }
 ],
 "metadata": {
  "application/vnd.databricks.v1+notebook": {
   "dashboards": [],
   "language": "python",
   "notebookMetadata": {
    "pythonIndentUnit": 4
   },
   "notebookName": "age_calculator",
   "widgets": {}
  }
 },
 "nbformat": 4,
 "nbformat_minor": 0
}
