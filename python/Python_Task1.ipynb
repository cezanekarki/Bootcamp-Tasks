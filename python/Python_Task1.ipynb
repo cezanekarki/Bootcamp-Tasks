{
 "cells": [
  {
   "cell_type": "code",
   "execution_count": 0,
   "metadata": {
    "application/vnd.databricks.v1+cell": {
     "cellMetadata": {
      "byteLimit": 2048000,
      "rowLimit": 10000
     },
     "inputWidgets": {},
     "nuid": "cf29329d-ec10-4a80-b80f-fa27b2602d31",
     "showTitle": false,
     "title": ""
    }
   },
   "outputs": [
    {
     "output_type": "display_data",
     "data": {
      "text/plain": [
       "Enter the string wha wha ram ji"
      ]
     },
     "metadata": {},
     "output_type": "display_data"
    },
    {
     "output_type": "stream",
     "name": "stdout",
     "output_type": "stream",
     "text": [
      "no of words 4\nno of unique words 3\nFrequency of words->\n{'wha': 2, 'ram': 1, 'ji': 1}\nlomgest word is -> wha\nAlphabetical sorting\n['a', 'a', 'a', 'h', 'h', 'i', 'j', 'm', 'r', 'w', 'w']\nRevesred sorting\n['w', 'w', 'r', 'm', 'j', 'i', 'h', 'h', 'a', 'a', 'a']\nrevere of text-> \nji ram wha wha\n"
     ]
    }
   ],
   "source": [
    "%python\n",
    "#1)\n",
    "text = input(\"Enter the string\")\n",
    "words= len(text.split())\n",
    "words_se=len(set(text.split()))\n",
    "print(\"no of words\",words)\n",
    "print(\"no of unique words\", words_se)\n",
    "#2)\n",
    "count_list= []\n",
    "count_list = text.split()\n",
    "freq_words =[count_list.count(p) for p in count_list]\n",
    "print(\"Frequency of words->\")\n",
    "print(dict(zip(count_list,freq_words)))\n",
    "#3)\n",
    "longest_word= ''\n",
    "\n",
    "for word in count_list:\n",
    "  if len(word) > len(longest_word):\n",
    "    longest_word =word\n",
    "\n",
    "print(\"lomgest word is ->\",longest_word)\n",
    "#4)\n",
    "alpha=\"\".join(count_list)\n",
    "print(\"Alphabetical sorting\")\n",
    "print(sorted(alpha))\n",
    "\n",
    "print(\"Revesred sorting\")\n",
    "print(sorted(alpha,reverse=True))\n",
    "#5)\n",
    "reverse_text = sorted(count_list)\n",
    "print(\"revere of text-> \")\n",
    "print(\" \".join(reverse_text))\n"
   ]
  },
  {
   "cell_type": "code",
   "execution_count": 0,
   "metadata": {
    "application/vnd.databricks.v1+cell": {
     "cellMetadata": {},
     "inputWidgets": {},
     "nuid": "bc511803-f521-4dfa-95e1-d1b434a5608a",
     "showTitle": false,
     "title": ""
    }
   },
   "outputs": [],
   "source": []
  }
 ],
 "metadata": {
  "application/vnd.databricks.v1+notebook": {
   "dashboards": [],
   "language": "python",
   "notebookMetadata": {
    "pythonIndentUnit": 4
   },
   "notebookName": "Python_Task1",
   "widgets": {}
  }
 },
 "nbformat": 4,
 "nbformat_minor": 0
}
