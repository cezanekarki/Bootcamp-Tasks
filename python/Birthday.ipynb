{
 "cells": [
  {
   "cell_type": "code",
   "execution_count": 0,
   "metadata": {
    "application/vnd.databricks.v1+cell": {
     "cellMetadata": {
      "byteLimit": 2048000,
      "rowLimit": 10000
     },
     "inputWidgets": {},
     "nuid": "5d2abf9c-d4bd-48fa-8bf6-93449a6aed28",
     "showTitle": false,
     "title": ""
    }
   },
   "outputs": [
    {
     "output_type": "display_data",
     "data": {
      "text/plain": [
       "Enter your birthdate in 'dd/mm/yyyy' format : 12/10/1997"
      ]
     },
     "metadata": {},
     "output_type": "display_data"
    },
    {
     "output_type": "stream",
     "name": "stdout",
     "output_type": "stream",
     "text": [
      "1997-10-12\n<class 'datetime.date'>\nYou are 26 years, 4 months, 10 days old \n"
     ]
    }
   ],
   "source": [
    "from dateutil.relativedelta import relativedelta\n",
    "from datetime import datetime\n",
    "def age_calc_using_dateUtilDotRelativeDelta():\n",
    "    b_date = input(\"Enter your birthdate in 'dd/mm/yyyy' format :\")\n",
    "    b_date = datetime.strptime(b_date,\"%d/%m/%Y\").date()\n",
    "    print(b_date)\n",
    "    print(type(b_date))\n",
    "    today = datetime.now().date()\n",
    "    age_ = relativedelta(today,b_date)\n",
    "    print(f\"You are {age_.years} years, {age_.months} months, {age_.days} days old \")\n",
    " \n",
    "age_calc_using_dateUtilDotRelativeDelta()"
   ]
  },
  {
   "cell_type": "code",
   "execution_count": 0,
   "metadata": {
    "application/vnd.databricks.v1+cell": {
     "cellMetadata": {},
     "inputWidgets": {},
     "nuid": "a77b9532-7fa6-4b5b-9e4a-8181a7375575",
     "showTitle": false,
     "title": ""
    }
   },
   "outputs": [],
   "source": []
  }
 ],
 "metadata": {
  "application/vnd.databricks.v1+notebook": {
   "dashboards": [],
   "language": "python",
   "notebookMetadata": {
    "pythonIndentUnit": 4
   },
   "notebookName": "Birthday Assignment",
   "widgets": {}
  }
 },
 "nbformat": 4,
 "nbformat_minor": 0
}
