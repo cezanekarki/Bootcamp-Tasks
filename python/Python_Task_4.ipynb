{
 "cells": [
  {
   "cell_type": "code",
   "execution_count": 0,
   "metadata": {
    "application/vnd.databricks.v1+cell": {
     "cellMetadata": {
      "byteLimit": 2048000,
      "rowLimit": 10000
     },
     "inputWidgets": {},
     "nuid": "5248d1cb-77d4-48dc-bb29-7e88bad96e73",
     "showTitle": false,
     "title": ""
    }
   },
   "outputs": [
    {
     "output_type": "display_data",
     "data": {
      "text/plain": [
       "Enter the birthddte (yyyy-mm-dd) 1999-02-22"
      ]
     },
     "metadata": {},
     "output_type": "display_data"
    },
    {
     "output_type": "stream",
     "name": "stdout",
     "output_type": "stream",
     "text": [
      "Age: 24 years\nRemaining days until the birthday: 20 days\nNumber of months passed: 303 months\nNumber of weeks passed: 1301 weeks\n"
     ]
    }
   ],
   "source": [
    "from datetime import date,datetime\n",
    " \n",
    "def cal_Age(birthDate):\n",
    "    today = date.today()\n",
    "    age = today.year - birthDate.year - ((today.month, today.day) < (birthDate.month, birthDate.day))\n",
    " \n",
    "    return age\n",
    "\n",
    "def remaining_days_until_birthday(birthdate):\n",
    "    today = datetime.now().date()\n",
    "    next_birthday = datetime(today.year, birthdate.month, birthdate.day).date()\n",
    "\n",
    "    # Check if birthday has already occurred this year\n",
    "    if today > next_birthday:\n",
    "        next_birthday = datetime(today.year + 1, birthdate.month, birthdate.day).date()\n",
    "\n",
    "    # Calculate the remaining days\n",
    "    remaining_days = (next_birthday - today).days\n",
    "    \n",
    "    return remaining_days\n",
    "\n",
    "def months_and_weeks_passed(birthdate):\n",
    "    today = datetime.now().date()\n",
    "    delta = today - birthdate\n",
    "\n",
    "    # Calculate the number of months and weeks\n",
    "    months_passed = delta.days // 30     #Assuming an average month has 30 days\n",
    "    weeks_passed = delta.days // 7\n",
    "\n",
    "    return months_passed, weeks_passed\n",
    "     \n",
    "birth_date= input(\"Enter the birthddte (yyyy-mm-dd)\")\n",
    "birth_date_parts = map(int, birth_date.split('-'))\n",
    "birth_date = date(*birth_date_parts)\n",
    "\n",
    "print(f\"Age: {cal_Age(birth_date)} years\")\n",
    "\n",
    "remaining_days = remaining_days_until_birthday(birth_date)\n",
    "print(f\"Remaining days until the birthday: {remaining_days} days\")\n",
    "\n",
    "months, weeks = months_and_weeks_passed(birth_date)\n",
    "print(f\"Number of months passed: {months} months\")\n",
    "print(f\"Number of weeks passed: {weeks} weeks\")"
   ]
  },
  {
   "cell_type": "code",
   "execution_count": 0,
   "metadata": {
    "application/vnd.databricks.v1+cell": {
     "cellMetadata": {
      "byteLimit": 2048000,
      "rowLimit": 10000
     },
     "inputWidgets": {},
     "nuid": "01309b33-f5c7-4ed6-ad5f-ee77741262f3",
     "showTitle": false,
     "title": ""
    }
   },
   "outputs": [
    {
     "output_type": "stream",
     "name": "stdout",
     "output_type": "stream",
     "text": [
      "\nContact Book Application\n1. Add Contact\n2. View Contacts\n3. Search Contact\n4. Delete Contact\n5. Quit\n"
     ]
    },
    {
     "output_type": "display_data",
     "data": {
      "text/plain": [
       "Enter your choice (1-5):  5"
      ]
     },
     "metadata": {},
     "output_type": "display_data"
    },
    {
     "output_type": "stream",
     "name": "stdout",
     "output_type": "stream",
     "text": [
      "Exiting Contact Book Application. Goodbye!\n"
     ]
    }
   ],
   "source": [
    "%python\n",
    "def ini_contact_book():\n",
    "    return []\n",
    "\n",
    "\n",
    "def add_contact(contact_book, *args, **kwargs):\n",
    "    contact = {\"name\": kwargs.get(\"name\", \"\"),\n",
    "               \"phone\": kwargs.get(\"phone\", \"\"),\n",
    "               \"email\": kwargs.get(\"email\", \"\")}\n",
    "    contact_book.append(contact)\n",
    "    print(\"Contact added successfully!\")\n",
    "\n",
    "\n",
    "def view_all_contacts(contact_book):\n",
    "    for contact in contact_book:\n",
    "        print(contact)\n",
    "\n",
    "\n",
    "def search_contact(contact_book, search_name):\n",
    "    result = list(filter(lambda x: x[\"name\"].lower() == search_name.lower(), contact_book))\n",
    "    if result:\n",
    "        print(\"Contact found:\")\n",
    "        print(result[0])\n",
    "    else:\n",
    "        print(\"Contact not found.\")\n",
    "\n",
    "\n",
    "def delete_contact(contact_book, delete_name):\n",
    "    for contact in contact_book:\n",
    "        if contact[\"name\"].lower() == delete_name.lower():\n",
    "            contact_book.remove(contact)\n",
    "            print(\"Contact deleted successfully!\")\n",
    "            return\n",
    "    print(\"Contact not found.\")\n",
    "\n",
    "\n",
    "def main_menu():\n",
    "    print(\"\\nContact Book Application\")\n",
    "    print(\"1. Add Contact\")\n",
    "    print(\"2. View Contacts\")\n",
    "    print(\"3. Search Contact\")\n",
    "    print(\"4. Delete Contact\")\n",
    "    print(\"5. Quit\")\n",
    "    choice = input(\"Enter your choice (1-5): \")\n",
    "    return choice\n",
    "\n",
    "\n",
    "def main():\n",
    "    contact_book = ini_contact_book()\n",
    "\n",
    "    while True:\n",
    "        choice = main_menu()\n",
    "\n",
    "        if choice == \"1\":\n",
    "            name = input(\"Enter contact name: \")\n",
    "            phone = input(\"Enter contact phone number: \")\n",
    "            email = input(\"Enter contact email: \")\n",
    "            add_contact(contact_book, name=name, phone=phone, email=email)\n",
    "\n",
    "        elif choice == \"2\":\n",
    "            view_all_contacts(contact_book)\n",
    "\n",
    "        elif choice == \"3\":\n",
    "            search_name = input(\"Enter the name to search: \")\n",
    "            search_contact(contact_book, search_name)\n",
    "\n",
    "        elif choice == \"4\":\n",
    "            delete_name = input(\"Enter the name to delete: \")\n",
    "            delete_contact(contact_book, delete_name)\n",
    "\n",
    "        elif choice == \"5\":\n",
    "            print(\"Exiting Contact Book Application. Goodbye!\")\n",
    "            break\n",
    "\n",
    "        else:\n",
    "            print(\"Invalid choice. Please enter a number between 1 and 5.\")\n",
    "\n",
    "\n",
    "if __name__ == \"__main__\":\n",
    "    main()"
   ]
  },
  {
   "cell_type": "code",
   "execution_count": 0,
   "metadata": {
    "application/vnd.databricks.v1+cell": {
     "cellMetadata": {
      "byteLimit": 2048000,
      "rowLimit": 10000
     },
     "inputWidgets": {},
     "nuid": "9e1d5686-d9e0-4fe6-bc08-8030eb26f70e",
     "showTitle": false,
     "title": ""
    }
   },
   "outputs": [
    {
     "output_type": "stream",
     "name": "stdout",
     "output_type": "stream",
     "text": [
      "\nContact Book Application\n1. Add Contact\n2. View Contacts\n3. Search Contact\n4. Delete Contact\n5. Quit\n"
     ]
    },
    {
     "output_type": "display_data",
     "data": {
      "text/plain": [
       "Enter your choice (1-5):  5"
      ]
     },
     "metadata": {},
     "output_type": "display_data"
    },
    {
     "output_type": "stream",
     "name": "stdout",
     "output_type": "stream",
     "text": [
      "Exiting Contact Book Application. Goodbye!\n"
     ]
    }
   ],
   "source": [
    "%python\n",
    "class ContactBook:\n",
    "    def __init__(self):\n",
    "        self.contact_book = []\n",
    "\n",
    "    def add_contact(self, name, phone, email):\n",
    "        contact = {\"name\": name, \"phone\": phone, \"email\": email}\n",
    "        self.contact_book.append(contact)\n",
    "        print(\"Contact added successfully!\")\n",
    "\n",
    "    def view_all_contacts(self):\n",
    "        for contact in self.contact_book:\n",
    "            print(contact)\n",
    "\n",
    "    def search_contact(self, search_name):\n",
    "        result = list(filter(lambda x: x[\"name\"].lower() == search_name.lower(), self.contact_book))\n",
    "        if result:\n",
    "            print(\"Contact found:\")\n",
    "            print(result[0])\n",
    "        else:\n",
    "            print(\"Contact not found.\")\n",
    "\n",
    "    def delete_contact(self, delete_name):\n",
    "        for contact in self.contact_book:\n",
    "            if contact[\"name\"].lower() == delete_name.lower():\n",
    "                self.contact_book.remove(contact)\n",
    "                print(\"Contact deleted successfully!\")\n",
    "                return\n",
    "        print(\"Contact not found.\")\n",
    "\n",
    "    def main_menu(self):\n",
    "        print(\"\\nContact Book Application\")\n",
    "        print(\"1. Add Contact\")\n",
    "        print(\"2. View Contacts\")\n",
    "        print(\"3. Search Contact\")\n",
    "        print(\"4. Delete Contact\")\n",
    "        print(\"5. Quit\")\n",
    "        choice = input(\"Enter your choice (1-5): \")\n",
    "        return choice\n",
    "\n",
    "    def main(self):\n",
    "        while True:\n",
    "            choice = self.main_menu()\n",
    "\n",
    "            if choice == \"1\":\n",
    "                name = input(\"Enter contact name: \")\n",
    "                phone = input(\"Enter contact phone number: \")\n",
    "                email = input(\"Enter contact email: \")\n",
    "                self.add_contact(name, phone, email)\n",
    "\n",
    "            elif choice == \"2\":\n",
    "                self.view_all_contacts()\n",
    "\n",
    "            elif choice == \"3\":\n",
    "                search_name = input(\"Enter the name to search: \")\n",
    "                self.search_contact(search_name)\n",
    "\n",
    "            elif choice == \"4\":\n",
    "                delete_name = input(\"Enter the name to delete: \")\n",
    "                self.delete_contact(delete_name)\n",
    "\n",
    "            elif choice == \"5\":\n",
    "                print(\"Exiting Contact Book Application. Goodbye!\")\n",
    "                break\n",
    "\n",
    "            else:\n",
    "                print(\"Invalid choice. Please enter a number between 1 and 5.\")\n",
    "\n",
    "\n",
    "if __name__ == \"__main__\":\n",
    "    contact_book_app = ContactBook()\n",
    "    contact_book_app.main()"
   ]
  }
 ],
 "metadata": {
  "application/vnd.databricks.v1+notebook": {
   "dashboards": [],
   "language": "python",
   "notebookMetadata": {
    "pythonIndentUnit": 4
   },
   "notebookName": "Python_Task_4",
   "widgets": {}
  }
 },
 "nbformat": 4,
 "nbformat_minor": 0
}
