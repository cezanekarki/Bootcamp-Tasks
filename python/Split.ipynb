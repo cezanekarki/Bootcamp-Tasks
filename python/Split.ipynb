{
 "cells": [
  {
   "cell_type": "code",
   "execution_count": 0,
   "metadata": {
    "application/vnd.databricks.v1+cell": {
     "cellMetadata": {
      "byteLimit": 2048000,
      "rowLimit": 10000
     },
     "inputWidgets": {},
     "nuid": "306c2063-ba1c-4c8d-9e37-4444d9c52124",
     "showTitle": false,
     "title": ""
    }
   },
   "outputs": [
    {
     "output_type": "stream",
     "name": "stdout",
     "output_type": "stream",
     "text": [
      "['This', 'is', 'the', 'first', 'python', 'We', 'are', 'solving', 'the', 'test', 'together']\n"
     ]
    }
   ],
   "source": [
    "import string\n",
    "input = \"This is the first python test. We are solving the test together\"\n",
    "edited_ip = [ word for word in input.split(\" \") if word.isalnum()]\n",
    "print(edited_ip)\n",
    "punctuation_cars = string.punctuation\n",
    "string_without_punct = [] \n",
    "\n",
    "\n",
    "\n",
    "# input_list = input.split(\" \")\n",
    "# print(f\"Count of words in the input string         = {len(input_list)}\")\n",
    "# print(f\"Count of unique words in the input string  = {len(set(input_list))}\")\n",
    "# set_ip=set(input_list)\n",
    "# print(input_list)\n",
    "# freq_dic = {}\n",
    "# ip_str = input.split(\" \")\n",
    "\n",
    "# for word in ip_str:\n",
    "#     count = ip_str.count(word)\n",
    "#     freq_dic[word]=count\n",
    "# print(freq_dic)\n",
    "# longest = 0\n",
    "# for each_word in ip_str:\n",
    "    \n",
    "#     if len(each_word)>longest:\n",
    "#         longest=len(each_word)\n",
    "#         word1= each_word\n",
    "# else:\n",
    "#     print(f\"The longest word in the input string is '{word1}' with length = {longest}\")\n",
    "\n",
    "# sort= sorted(input_list)\n",
    "# print(sort)\n",
    "# sort_rev= sorted(input_list,reverse=True)\n",
    "# print(sort_rev)    \n",
    "\n",
    "# print(input[::-1])\n",
    "\n",
    "\n",
    "# for each_word in list(set(input_list)):\n"
   ]
  },
  {
   "cell_type": "code",
   "execution_count": 0,
   "metadata": {
    "application/vnd.databricks.v1+cell": {
     "cellMetadata": {
      "byteLimit": 2048000,
      "rowLimit": 10000
     },
     "inputWidgets": {},
     "nuid": "3ad4b628-de07-4782-9c88-d86520ac6c9b",
     "showTitle": false,
     "title": ""
    }
   },
   "outputs": [],
   "source": []
  }
 ],
 "metadata": {
  "application/vnd.databricks.v1+notebook": {
   "dashboards": [],
   "language": "python",
   "notebookMetadata": {
    "pythonIndentUnit": 4
   },
   "notebookName": "Split sentences into words",
   "widgets": {}
  }
 },
 "nbformat": 4,
 "nbformat_minor": 0
}
