{
 "cells": [
  {
   "cell_type": "code",
   "execution_count": 0,
   "metadata": {
    "application/vnd.databricks.v1+cell": {
     "cellMetadata": {
      "byteLimit": 2048000,
      "rowLimit": 10000
     },
     "inputWidgets": {},
     "nuid": "ab622b79-7105-4822-8c08-aae3b071a664",
     "showTitle": false,
     "title": ""
    }
   },
   "outputs": [
    {
     "output_type": "stream",
     "name": "stdout",
     "output_type": "stream",
     "text": [
      "The person's age according to provided birthday is 26 \n4\n"
     ]
    }
   ],
   "source": [
    "from datetime import datetime\n",
    "\n",
    "\n",
    "# 1. write a python function to calculate someone's age.\n",
    "def age_calc(dob):\n",
    "    birthday_format = datetime.strptime(dob,'%Y-%m-%d')\n",
    "    today_date = datetime.now()\n",
    "    age = today_date.year - birthday_format.year\n",
    "    return age\n",
    "#input format YYYY-MM-DD\n",
    "person_age = age_calc('1998-02-24')\n",
    "print(f\"The person's age according to provided birthday is {person_age} \")\n",
    "\n",
    "# 2. write another function to calculate remaing days left for the person's birthday.\n",
    "\n",
    "def remaining_days(dob):\n",
    "    birthday_format = datetime.strptime(dob,'%Y-%m-%d')\n",
    "    today_date = datetime.now()\n",
    "    #logic\n",
    "    next_birthday = datetime(today_date.year,birthday_format.month,birthday_format.day)\n",
    "    if today_date > next_birthday:\n",
    "        next_birthday = datetime(today_date.year + 1,birthday_format.month,birthday_format.day)\n",
    "    days_remaining = (next_birthday - today_date).days\n",
    "    return days_remaining\n",
    "print(remaining_days('1998-02-24'))\n",
    "\n"
   ]
  },
  {
   "cell_type": "code",
   "execution_count": 0,
   "metadata": {
    "application/vnd.databricks.v1+cell": {
     "cellMetadata": {
      "byteLimit": 2048000,
      "rowLimit": 10000
     },
     "inputWidgets": {},
     "nuid": "505eeeaa-a8a3-4436-b7d6-077c801a003e",
     "showTitle": false,
     "title": ""
    }
   },
   "outputs": [
    {
     "output_type": "stream",
     "name": "stdout",
     "output_type": "stream",
     "text": [
      "The number of months passed is 316 and weeks passed is 1355\n"
     ]
    }
   ],
   "source": [
    "# 3. write another function to calculate the number of months and weeks passed after the person was born.\n",
    "def month_week_pass(dob):\n",
    "    birthday_format = datetime.strptime(dob, '%Y-%m-%d')\n",
    "    today_date = datetime.now()\n",
    "\n",
    "    time_diff = today_date - birthday_format  # this returns a timedelta object\n",
    "\n",
    "    # Calculate the number of months and weeks accurately\n",
    "    total_days = time_diff.days\n",
    "    months_passed = total_days // 30\n",
    "    weeks_passed = total_days // 7\n",
    "    \n",
    "    return months_passed, weeks_passed\n",
    "\n",
    "month, week = month_week_pass('1998-02-24')\n",
    "print(f'The number of months passed is {month} and weeks passed is {week}')"
   ]
  },
  {
   "cell_type": "code",
   "execution_count": 0,
   "metadata": {
    "application/vnd.databricks.v1+cell": {
     "cellMetadata": {},
     "inputWidgets": {},
     "nuid": "69c55501-23c0-4bbf-8e17-ee52786e51c5",
     "showTitle": false,
     "title": ""
    }
   },
   "outputs": [],
   "source": []
  }
 ],
 "metadata": {
  "application/vnd.databricks.v1+notebook": {
   "dashboards": [],
   "language": "python",
   "notebookMetadata": {
    "pythonIndentUnit": 4
   },
   "notebookName": "datetimetask",
   "widgets": {}
  }
 },
 "nbformat": 4,
 "nbformat_minor": 0
}
