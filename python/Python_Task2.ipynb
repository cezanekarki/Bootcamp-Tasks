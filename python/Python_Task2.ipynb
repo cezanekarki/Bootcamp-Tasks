{
 "cells": [
  {
   "cell_type": "code",
   "execution_count": 0,
   "metadata": {
    "application/vnd.databricks.v1+cell": {
     "cellMetadata": {
      "byteLimit": 2048000,
      "rowLimit": 10000
     },
     "inputWidgets": {},
     "nuid": "170c7be9-bbb3-4391-a1a5-f204827ea1b2",
     "showTitle": false,
     "title": ""
    }
   },
   "outputs": [
    {
     "output_type": "stream",
     "name": "stdout",
     "output_type": "stream",
     "text": [
      "{'company': {'name': 'TechGiant', 'industry': 'Technology', 'locations': {'headquarters': 'New York', 'branches': ['San Francisco', 'Berlin', 'Tokyo']}, 'departments': {'development': {'employees': 120, 'projects': ['App Development', 'Software Maintenance']}, 'marketing': {'employees': 45, 'projects': ['Brand Campaign', 'Social Media']}, 'sales': {'employees': 70, 'projects': ['Domestic Sales', 'International Sales']}}}, 'market_info': {'competitors': ['DataCorp', 'InnovaCon', 'NextGenTech'], 'market_trends': {'current': 'AI and Machine Learning', 'emerging': 'Quantum Computing'}}}\n"
     ]
    }
   ],
   "source": [
    "data_dictionary = {\n",
    "    \"company\": {\n",
    "        \"name\": \"TechGiant\",\n",
    "        \"industry\": \"Technology\",\n",
    "        \"locations\": {\n",
    "            \"headquarters\": \"New York\",\n",
    "            \"branches\": [\"San Francisco\", \"Berlin\", \"Tokyo\"]\n",
    "        },\n",
    "        \"departments\": {\n",
    "            \"development\": {\n",
    "                \"employees\": 120,\n",
    "                \"projects\": [\"App Development\", \"Software Maintenance\"]\n",
    "            },\n",
    "            \"marketing\": {\n",
    "                \"employees\": 45,\n",
    "                \"projects\": [\"Brand Campaign\", \"Social Media\"]\n",
    "            },\n",
    "            \"sales\": {\n",
    "                \"employees\": 70,\n",
    "                \"projects\": [\"Domestic Sales\", \"International Sales\"]\n",
    "            }\n",
    "        }\n",
    "    },\n",
    "    \"market_info\": {\n",
    "        \"competitors\": [\"DataCorp\", \"InnovaCon\", \"NextGenTech\"],\n",
    "        \"market_trends\": {\n",
    "            \"current\": \"AI and Machine Learning\",\n",
    "            \"emerging\": \"Quantum Computing\"\n",
    "        }\n",
    "    }\n",
    "}\n",
    "\n",
    "print(data_dictionary)"
   ]
  },
  {
   "cell_type": "code",
   "execution_count": 0,
   "metadata": {
    "application/vnd.databricks.v1+cell": {
     "cellMetadata": {
      "byteLimit": 2048000,
      "rowLimit": 10000
     },
     "inputWidgets": {},
     "nuid": "c6065b82-243d-4dcf-baeb-5e85317c3bd5",
     "showTitle": false,
     "title": ""
    }
   },
   "outputs": [
    {
     "output_type": "stream",
     "name": "stdout",
     "output_type": "stream",
     "text": [
      "Name of the company-> TechGiant\nNo of Employees in Development Dept.->  120\nEmerging Trends->  Quantum Computing\nBranch Locations->  ['San Francisco', 'Berlin', 'Tokyo']\nMarketing Dept. Projects->  ['Brand Campaign', 'Social Media']\ncompetiotors->  ['DataCorp', 'InnovaCon', 'NextGenTech']\nIndustry in -> Technology\nCompany Headquarters->  New York\n"
     ]
    }
   ],
   "source": [
    "print(\"Name of the company->\", data_dictionary['company']['name'])\n",
    "\n",
    "print(\"No of Employees in Development Dept.-> \", data_dictionary['company']['departments']['development']['employees'])\n",
    "\n",
    "print(\"Emerging Trends-> \", data_dictionary['market_info']['market_trends']['emerging'])\n",
    "\n",
    "print(\"Branch Locations-> \", data_dictionary['company']['locations']['branches'])\n",
    "\n",
    "print(\"Marketing Dept. Projects-> \", data_dictionary['company']['departments']['marketing']['projects'])\n",
    "\n",
    "print(\"competiotors-> \", data_dictionary['market_info']['competitors'])\n",
    "\n",
    "print(\"Industry in ->\", data_dictionary['company']['industry'])\n",
    "\n",
    "print(\"Company Headquarters-> \", data_dictionary['company']['locations']['headquarters'])"
   ]
  },
  {
   "cell_type": "code",
   "execution_count": 0,
   "metadata": {
    "application/vnd.databricks.v1+cell": {
     "cellMetadata": {
      "byteLimit": 2048000,
      "rowLimit": 10000
     },
     "inputWidgets": {},
     "nuid": "c01d3ccd-ac6f-4d3a-8119-14416333cc2c",
     "showTitle": false,
     "title": ""
    }
   },
   "outputs": [
    {
     "output_type": "stream",
     "name": "stdout",
     "output_type": "stream",
     "text": [
      "{'name': 'John', 'age': '34', 'city': 'New York'}\n{'The Great Gatsby': {'author': 'F. Scott Fitzgerald', 'year': '1925'}, 'To Kill a Mockingbird': {'author': 'Harper Lee', 'year': '1960'}, '1984': {'author': 'George Orwell', 'year': '1949'}}\n{'Alice': 'A', 'Bob': 'B', 'Charlie': 'C'}\n{'apples': 8, 'oranges': 7, 'bananas': 5}\n[{'names': ['Alice', 'Bob', 'Charlie']}, {'ages': [25, 30, 35]}, {'occupations': ['Engineer', 'Doctor', 'Artist']}]\nNo of Questions->  2\n[' How are you?', ' Have you seen my notebook?']\nString without punctuation->  Hello How are you I hope youre enjoying your day Have you seen my notebook Its important Thanks for your help\nwordcount of you ->  5\nHello! How are you Thanks for your help!\n"
     ]
    }
   ],
   "source": [
    "#1)\n",
    "string= \"name:John,age:34,city:New York\" \n",
    "\n",
    "info= dict(subString.split(\":\") for subString in string.split(\",\"))\n",
    "\n",
    "print(info)\n",
    "\n",
    "#2)\n",
    "st= \"The Great Gatsby, F. Scott Fitzgerald, 1925 | To Kill a Mockingbird, Harper Lee, 1960 | 1984, George Orwell, 1949\"\n",
    "\n",
    "values= st.split('|')\n",
    "\n",
    "books_desc= {}\n",
    "\n",
    "for n in values:\n",
    "    title, author, year = [i.strip() for i in n.split(',')]\n",
    "\n",
    "    books_desc[title] = {\"author\":author, \"year\": year}\n",
    "\n",
    "print(books_desc)\n",
    "\n",
    "#3)\n",
    "names = [\"Alice\", \"Bob\", \"Charlie\"]\n",
    "grades = [\"A\", \"B\", \"C\"]\n",
    "\n",
    "print(dict(zip(names,grades)))\n",
    "\n",
    "#4)\n",
    "stock = {\"apples\": 10, \"oranges\": 8, \"bananas\": 6}\n",
    "sold_items = [\"apples\", \"oranges\", \"apples\", \"bananas\"]\n",
    "\n",
    "for items in sold_items:\n",
    "    if items in stock:\n",
    "        stock[items]-= 1\n",
    "print(stock)\n",
    "\n",
    "\n",
    "#5)\n",
    "names = [\"Alice\", \"Bob\", \"Charlie\"]\n",
    "ages = [25, 30, 35]\n",
    "occupations = [\"Engineer\", \"Doctor\", \"Artist\"]\n",
    "\n",
    "key= ['names','ages','occupations']\n",
    "\n",
    "res = [{key[0] : names},{key[1]:ages},{key[2]:occupations}]\n",
    "print(res)\n",
    "\n",
    "#6)\n",
    "text = \"Hello! How are you? I hope you're enjoying your day. Have you seen my notebook? It's important. Thanks for your help!\"\n",
    "#1]\n",
    "print(\"No of Questions-> \",text.count(\"?\"))\n",
    "#2]\n",
    "import re\n",
    "question_sentence= re.findall('[^.!?]*\\?',text)       # using cap (\"^\") before any character,symbol is not included in sentence\n",
    "print(question_sentence)\n",
    "\n",
    "#3]\n",
    "import string\n",
    "punct_re= text.translate(str.maketrans('','',string.punctuation))\n",
    "print(\"String without punctuation-> \",punct_re)\n",
    "#4]\n",
    "print(\"wordcount of you -> \",text.count('you'))\n",
    "#5]\n",
    "print(text.split('?')[0] + text.split('.')[-1])\n"
   ]
  }
 ],
 "metadata": {
  "application/vnd.databricks.v1+notebook": {
   "dashboards": [],
   "language": "python",
   "notebookMetadata": {
    "pythonIndentUnit": 4
   },
   "notebookName": "Python_Task2",
   "widgets": {}
  }
 },
 "nbformat": 4,
 "nbformat_minor": 0
}
