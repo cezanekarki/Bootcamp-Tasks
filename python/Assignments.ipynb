{
 "cells": [
  {
   "cell_type": "code",
   "execution_count": 0,
   "metadata": {
    "application/vnd.databricks.v1+cell": {
     "cellMetadata": {},
     "inputWidgets": {},
     "nuid": "1c7c85a7-8ab3-4832-988d-ff7211671991",
     "showTitle": false,
     "title": ""
    }
   },
   "outputs": [],
   "source": [
    "import string\n",
    "input = \"This is the first python test. We are solving the test together\"\n",
    "edited_ip = [ word for word in input.split(\" \") if word.isalnum()]\n",
    "print(edited_ip)\n",
    "punctuation_cars = string.punctuation\n",
    "string_without_punct = [] \n",
    "\n",
    "\n",
    "\n",
    "input_list = input.split(\" \")\n",
    "print(f\"Count of words in the input string         = {len(input_list)}\")\n",
    "print(f\"Count of unique words in the input string  = {len(set(input_list))}\")\n",
    "set_ip=set(input_list)\n",
    "print(input_list)\n",
    "freq_dic = {}\n",
    "ip_str = input.split(\" \")\n",
    "\n",
    "for word in ip_str:\n",
    "    count = ip_str.count(word)\n",
    "    freq_dic[word]=count\n",
    "print(freq_dic)\n",
    "longest = 0\n",
    "for each_word in ip_str:\n",
    "    \n",
    "    if len(each_word)>longest:\n",
    "        longest=len(each_word)\n",
    "        word1= each_word\n",
    "else:\n",
    "    print(f\"The longest word in the input string is '{word1}' with length = {longest}\")\n",
    "\n",
    "sort= sorted(input_list)\n",
    "print(sort)\n",
    "sort_rev= sorted(input_list,reverse=True)\n",
    "print(sort_rev)    \n",
    "\n",
    "print(input[::-1])\n",
    "\n",
    "\n",
    "for each_word in list(set(input_list)):\n"
   ]
  },
  {
   "cell_type": "code",
   "execution_count": 0,
   "metadata": {
    "application/vnd.databricks.v1+cell": {
     "cellMetadata": {
      "byteLimit": 2048000,
      "rowLimit": 10000
     },
     "inputWidgets": {},
     "nuid": "e00cbdd1-5434-4420-aa2b-3dc7661e644f",
     "showTitle": false,
     "title": ""
    }
   },
   "outputs": [
    {
     "output_type": "stream",
     "name": "stdout",
     "output_type": "stream",
     "text": [
      "{'name': 'John', 'age': '34', 'city': 'New York'}\n"
     ]
    }
   ],
   "source": [
    "#  1.\tConvert \"name:John,age:34,city:New York\" string to dictionary using python.\n",
    "\n",
    "input_str = \"name:John,age:34,city:New York\"\n",
    "ip_list   = input_str.split(',')\n",
    "my_dict={}\n",
    "for key_pair in ip_list:\n",
    "    key,value = key_pair.split(':')\n",
    "    my_dict[key]=value\n",
    "print(my_dict)    \n"
   ]
  },
  {
   "cell_type": "code",
   "execution_count": 0,
   "metadata": {
    "application/vnd.databricks.v1+cell": {
     "cellMetadata": {
      "byteLimit": 2048000,
      "rowLimit": 10000
     },
     "inputWidgets": {},
     "nuid": "85563939-2f1c-47a9-a3ab-aafc99324d57",
     "showTitle": false,
     "title": ""
    }
   },
   "outputs": [
    {
     "output_type": "stream",
     "name": "stdout",
     "output_type": "stream",
     "text": [
      "['The Great Gatsby, F. Scott Fitzgerald, 1925 ', ' To Kill a Mockingbird, Harper Lee, 1960 ', ' 1984, George Orwell, 1949']\n{'The Great Gatsby': {'Author': ' F. Scott Fitzgerald', 'Year': ' 1925'}, 'To Kill a Mockingbird': {'Author': ' Harper Lee', 'Year': ' 1960'}, '1984': {'Author': ' George Orwell', 'Year': ' 1949'}}\n"
     ]
    }
   ],
   "source": [
    "# String : \"The Great Gatsby, F. Scott Fitzgerald, 1925 | To Kill a Mockingbird, Harper Lee, 1960 | 1984, George Orwell, 1949\"\n",
    "\n",
    "# {\n",
    "#     \t'The Great Gatsby': {'author': 'F. Scott Fitzgerald', 'year': '1925'},\n",
    "#   \t 'To Kill a Mockingbird': {'author': 'Harper Lee', 'year': '1960'},\n",
    "#    \t '1984': {'author': 'George Orwell', 'year': '1949'}\n",
    "# }\n",
    "\n",
    "input_string = \"The Great Gatsby, F. Scott Fitzgerald, 1925 | To Kill a Mockingbird, Harper Lee, 1960 | 1984, George Orwell, 1949\"\n",
    "book_list    =  input_string.split('|')\n",
    "print(book_list)\n",
    "book_dict={}\n",
    "\n",
    "\n",
    "for each_record in book_list:\n",
    "    parts = each_record.strip().split(',')\n",
    "    book_name = parts[0]\n",
    "    author    = parts[1]\n",
    "    year      = parts[2]\n",
    "    temp_dict={}\n",
    "    temp_dict['Author']=author\n",
    "    temp_dict['Year']  = year\n",
    "    book_dict[book_name]=temp_dict\n",
    "print(book_dict)\n",
    "     \n"
   ]
  },
  {
   "cell_type": "code",
   "execution_count": 0,
   "metadata": {
    "application/vnd.databricks.v1+cell": {
     "cellMetadata": {
      "byteLimit": 2048000,
      "rowLimit": 10000
     },
     "inputWidgets": {},
     "nuid": "3b776a51-0fb7-49c4-894d-4b697e7e42d9",
     "showTitle": true,
     "title": ""
    }
   },
   "outputs": [
    {
     "output_type": "stream",
     "name": "stdout",
     "output_type": "stream",
     "text": [
      "{'Alice': 'A', 'Bob': 'B', 'Charlie': 'C'}\n"
     ]
    }
   ],
   "source": [
    "# 3.\tMerge two different lists into dictionaries:\n",
    "names = [\"Alice\", \"Bob\", \"Charlie\"]\n",
    "grades = [\"A\", \"B\", \"C\"]\n",
    "# dict_name_grade = {}\n",
    "# for name,grade in zip(names,grades):\n",
    "#     dict_name_grade[name]=grade\n",
    "\n",
    "# print(dict_name_grade)\n",
    "\n",
    "dict90=dict(zip(names,grades))\n",
    "print(dict90)"
   ]
  },
  {
   "cell_type": "code",
   "execution_count": 0,
   "metadata": {
    "application/vnd.databricks.v1+cell": {
     "cellMetadata": {
      "byteLimit": 2048000,
      "rowLimit": 10000
     },
     "inputWidgets": {},
     "nuid": "26474f56-1e79-4df2-bd24-a630df77e588",
     "showTitle": false,
     "title": ""
    }
   },
   "outputs": [
    {
     "output_type": "stream",
     "name": "stdout",
     "output_type": "stream",
     "text": [
      "{'apples': 10, 'bananas': 6, 'oranges': 8}\n{'apples': 2, 'bananas': 1, 'oranges': 1}\n{'apples': 8, 'bananas': 5, 'oranges': 7}\n"
     ]
    }
   ],
   "source": [
    "# You have a dictionary of stock quantities for various items and a list of items that have been sold. Update the dictionary by reducing the stock quantity for each sold item.\n",
    "\n",
    "stock = {\"apples\": 10, \"oranges\": 8, \"bananas\": 6}\n",
    "sold_items = [\"apples\", \"oranges\", \"apples\", \"bananas\"]\n",
    "sold_items_dict={}\n",
    "for each_fruit in set(sold_items):\n",
    "    sold_count=sold_items.count(each_fruit)\n",
    "    sold_items_dict[each_fruit]= sold_count\n",
    "\n",
    "\n",
    "# for each_fruit in stock:\n",
    "#     stock[each_fruit]= \n",
    "\n",
    "stock=(dict(sorted(stock.items())))\n",
    "sold_items_dict=(dict(sorted(sold_items_dict.items())))\n",
    "print(stock)\n",
    "print(sold_items_dict)\n",
    "\n",
    "for fruit_name,stock_fruits,sold_fruits in zip(stock.keys(),stock.values(),sold_items_dict.values()):\n",
    "    # 10,2\n",
    "    stock[fruit_name]=stock_fruits- sold_fruits\n",
    "print(stock)\n",
    "\n",
    "\n"
   ]
  },
  {
   "cell_type": "code",
   "execution_count": 0,
   "metadata": {
    "application/vnd.databricks.v1+cell": {
     "cellMetadata": {
      "byteLimit": 2048000,
      "rowLimit": 10000
     },
     "inputWidgets": {},
     "nuid": "a6cfd905-a5cf-42db-8f40-c5228afde9c8",
     "showTitle": false,
     "title": ""
    }
   },
   "outputs": [
    {
     "output_type": "stream",
     "name": "stdout",
     "output_type": "stream",
     "text": [
      "[{'Name': 'Alice', 'Age': 25, 'Occupation': 'Engineer'}, {'Name': 'Bob', 'Age': 30, 'Occupation': 'Doctor'}, {'Name': 'Charlie', 'Age': 35, 'Occupation': 'Artist'}]\n"
     ]
    }
   ],
   "source": [
    "# You have three lists, containing names, ages, and occupations of a group of people. Combine these lists into a list of dictionaries, each dictionary containing 'name', 'age', and 'occupation' as keys.\n",
    "\n",
    "names = [\"Alice\", \"Bob\", \"Charlie\"]\n",
    "ages = [25, 30, 35]\n",
    "occupations = [\"Engineer\", \"Doctor\", \"Artist\"]\n",
    "\n",
    "data_list=[]\n",
    "\n",
    "for name,age,occupation in zip(names,ages,occupations):\n",
    "     data_dict={}\n",
    "     data_dict['Name']= name\n",
    "     data_dict['Age']= age\n",
    "     data_dict['Occupation']= occupation\n",
    "     data_list.append(data_dict)\n",
    "print(data_list)\n"
   ]
  },
  {
   "cell_type": "code",
   "execution_count": 0,
   "metadata": {
    "application/vnd.databricks.v1+cell": {
     "cellMetadata": {
      "byteLimit": 2048000,
      "rowLimit": 10000
     },
     "inputWidgets": {},
     "nuid": "7dafea7c-d31f-4f50-b789-ec1cda34c33a",
     "showTitle": false,
     "title": ""
    }
   },
   "outputs": [
    {
     "output_type": "stream",
     "name": "stdout",
     "output_type": "stream",
     "text": [
      "This is the first python test Youre solving the test together\n"
     ]
    }
   ],
   "source": [
    "import string\n",
    "\n",
    "input_str = \"This is the first python test. You're solving the test together!\"\n",
    "punctuation_chars = string.punctuation\n",
    "\n",
    "# Removing punctuation marks from the input string\n",
    "edited_ip = ''.join(char for char in input_str if char not in punctuation_chars)\n",
    "\n",
    "print(edited_ip)\n"
   ]
  },
  {
   "cell_type": "code",
   "execution_count": 0,
   "metadata": {
    "application/vnd.databricks.v1+cell": {
     "cellMetadata": {
      "byteLimit": 2048000,
      "rowLimit": 10000
     },
     "inputWidgets": {},
     "nuid": "6fcf8973-442c-4346-a8ea-76997adc29b7",
     "showTitle": false,
     "title": ""
    }
   },
   "outputs": [
    {
     "output_type": "stream",
     "name": "stdout",
     "output_type": "stream",
     "text": [
      " No of questions = 2\n"
     ]
    }
   ],
   "source": [
    "text=\"Hello! How are you? I hope you're enjoying your day. Have you seen my notebook? It's important. Thanks for your help!\"\n",
    "\n",
    "\n",
    "# Text :  \"Hello! How are you? I hope you're enjoying your day. Have you seen my notebook? It's important. Thanks for your help!\"\n",
    "\n",
    "# Count the Questions: Determine how many sentences in the text are questions.\n",
    "# Extract Questions: Create a list containing only the sentences that are questions.\n",
    "# Remove Punctuation: Create a new version of the text with all punctuation removed.\n",
    "# Word Count: Count how many times the word 'you' appears in the text (case-insensitive).\n",
    "# Concatenate: Concatenate the first and last sentences to form a new sentence.\n",
    "\n",
    "no_of_questions = text.count(\"?\")\n",
    "print(f\" No of questions = {no_of_questions}\")\n",
    "\n",
    "\n",
    "\n"
   ]
  },
  {
   "cell_type": "code",
   "execution_count": 0,
   "metadata": {
    "application/vnd.databricks.v1+cell": {
     "cellMetadata": {
      "byteLimit": 2048000,
      "rowLimit": 10000
     },
     "inputWidgets": {},
     "nuid": "89a01b98-0ed8-452a-b08a-ff61644cfc29",
     "showTitle": false,
     "title": ""
    }
   },
   "outputs": [
    {
     "output_type": "stream",
     "name": "stdout",
     "output_type": "stream",
     "text": [
      "['Hello!', ' How are you?', \" I hope you're enjoying your day.\", ' Have you seen my notebook?', \" It's important.\", ' Thanks for your help!']\n"
     ]
    }
   ],
   "source": [
    "import re\n",
    "\n",
    "text = \"Hello! How are you? I hope you're enjoying your day. Have you seen my notebook? It's important. Thanks for your help!\"\n",
    "\n",
    "# Split the text on punctuation marks while keeping the punctuation marks\n",
    "sentences_with_punctuation = re.findall(r'[^.!?]+[.!?]', text)\n",
    "\n",
    "print(sentences_with_punctuation)\n"
   ]
  },
  {
   "cell_type": "code",
   "execution_count": 0,
   "metadata": {
    "application/vnd.databricks.v1+cell": {
     "cellMetadata": {
      "byteLimit": 2048000,
      "rowLimit": 10000
     },
     "inputWidgets": {},
     "nuid": "79838f29-862f-49f4-93f6-83f454721c8a",
     "showTitle": false,
     "title": ""
    }
   },
   "outputs": [
    {
     "output_type": "stream",
     "name": "stdout",
     "output_type": "stream",
     "text": [
      "{'name': 'Bob', 'age': 22, 'score': 85}\n{'name': 'David', 'age': 23, 'score': 95}\n{'name': 'Eva', 'age': 24, 'score': 88}\n{'name': 'Alice', 'age': 25, 'score': 92}\n{'name': 'Charlie', 'age': 27, 'score': 78}\n"
     ]
    }
   ],
   "source": [
    "students = [\n",
    "    {\"name\": \"Alice\", \"age\": 25, \"score\": 92},\n",
    "    {\"name\": \"Bob\", \"age\": 22, \"score\": 85},\n",
    "    {\"name\": \"Charlie\", \"age\": 27, \"score\": 78},\n",
    "    {\"name\": \"David\", \"age\": 23, \"score\": 95},\n",
    "    {\"name\": \"Eva\", \"age\": 24, \"score\": 88}\n",
    "]\n",
    "my_age_list=[]\n",
    "for each_record in students:\n",
    "    age=each_record['age']\n",
    "    my_age_list.append(age)\n",
    "    my_age_list=sorted(my_age_list)\n",
    "\n",
    "sorted_dict_students=[]\n",
    "\n",
    "for each_age in my_age_list:\n",
    "    for each_dic_record in students:\n",
    "        if (each_dic_record['age']==each_age):\n",
    "            sorted_dict_students.append(each_dic_record)\n",
    "\n",
    "for each_record in sorted_dict_students:\n",
    "    print(each_record)"
   ]
  },
  {
   "cell_type": "code",
   "execution_count": 0,
   "metadata": {
    "application/vnd.databricks.v1+cell": {
     "cellMetadata": {
      "byteLimit": 2048000,
      "rowLimit": 10000
     },
     "inputWidgets": {},
     "nuid": "81490e8a-6a5b-451d-875e-f90eb8f26ffa",
     "showTitle": false,
     "title": ""
    }
   },
   "outputs": [
    {
     "output_type": "stream",
     "name": "stdout",
     "output_type": "stream",
     "text": [
      "[2, 4, 6, 8, 10]\n"
     ]
    }
   ],
   "source": [
    "numbers = [1, 2, 3, 4, 5, 6, 7, 8, 9, 10]\n",
    "even_list = []\n",
    "functn=lambda a:a %2==0\n",
    "even_list = list(filter(functn,numbers))\n",
    "print(even_list)"
   ]
  },
  {
   "cell_type": "code",
   "execution_count": 0,
   "metadata": {
    "application/vnd.databricks.v1+cell": {
     "cellMetadata": {
      "byteLimit": 2048000,
      "rowLimit": 10000
     },
     "inputWidgets": {},
     "nuid": "f98f3df0-5923-4eb6-9106-dc57932711ef",
     "showTitle": false,
     "title": ""
    }
   },
   "outputs": [
    {
     "output_type": "stream",
     "name": "stdout",
     "output_type": "stream",
     "text": [
      "{'name': 'David', 'age': 23, 'score': 95}\n{'name': 'Alice', 'age': 25, 'score': 92}\n{'name': 'Eva', 'age': 24, 'score': 88}\n{'name': 'Bob', 'age': 22, 'score': 85}\n{'name': 'Charlie', 'age': 27, 'score': 78}\n"
     ]
    }
   ],
   "source": [
    "students = [\n",
    "    {\"name\": \"Alice\", \"age\": 25, \"score\": 92},\n",
    "    {\"name\": \"Bob\", \"age\": 22, \"score\": 85},\n",
    "    {\"name\": \"Charlie\", \"age\": 27, \"score\": 78},\n",
    "    {\"name\": \"David\", \"age\": 23, \"score\": 95},\n",
    "    {\"name\": \"Eva\", \"age\": 24, \"score\": 88}\n",
    "]\n",
    "my_score_list=[]\n",
    "for each_record in students:\n",
    "    score=each_record['score']\n",
    "    my_score_list.append(score)\n",
    "    my_score_list=sorted(my_score_list,reverse=True)\n",
    "\n",
    "sorted_dict_students=[]\n",
    "\n",
    "for each_score in my_score_list:\n",
    "    for each_dic_record in students:\n",
    "        if (each_dic_record['score']==each_score):\n",
    "            sorted_dict_students.append(each_dic_record)\n",
    "\n",
    "for each_record in sorted_dict_students:\n",
    "    print(each_record)"
   ]
  },
  {
   "cell_type": "code",
   "execution_count": 0,
   "metadata": {
    "application/vnd.databricks.v1+cell": {
     "cellMetadata": {},
     "inputWidgets": {},
     "nuid": "87a6f10d-7784-4a30-a256-51b52fd98143",
     "showTitle": false,
     "title": ""
    }
   },
   "outputs": [],
   "source": []
  }
 ],
 "metadata": {
  "application/vnd.databricks.v1+notebook": {
   "dashboards": [],
   "language": "python",
   "notebookMetadata": {
    "pythonIndentUnit": 4
   },
   "notebookName": "Python Initial Mini Assignments",
   "widgets": {}
  }
 },
 "nbformat": 4,
 "nbformat_minor": 0
}
