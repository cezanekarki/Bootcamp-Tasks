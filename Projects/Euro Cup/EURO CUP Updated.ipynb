{
 "cells": [
  {
   "cell_type": "code",
   "execution_count": 0,
   "metadata": {
    "application/vnd.databricks.v1+cell": {
     "cellMetadata": {
      "byteLimit": 2048000,
      "rowLimit": 10000
     },
     "inputWidgets": {},
     "nuid": "4ea41a5e-8c0e-4c44-b0a8-37fa3cd785f7",
     "showTitle": false,
     "title": ""
    }
   },
   "outputs": [],
   "source": [
    "%sql\n",
    "-- %fs\n",
    "-- ls dbfs:/user/hive/warehouse/"
   ]
  },
  {
   "cell_type": "code",
   "execution_count": 0,
   "metadata": {
    "application/vnd.databricks.v1+cell": {
     "cellMetadata": {
      "byteLimit": 2048000,
      "rowLimit": 10000
     },
     "inputWidgets": {},
     "nuid": "13219e91-13c5-486b-9b50-060aa32994af",
     "showTitle": false,
     "title": ""
    }
   },
   "outputs": [
    {
     "output_type": "display_data",
     "data": {
      "text/html": [
       "<style scoped>\n",
       "  .ansiout {\n",
       "    display: block;\n",
       "    unicode-bidi: embed;\n",
       "    white-space: pre-wrap;\n",
       "    word-wrap: break-word;\n",
       "    word-break: break-all;\n",
       "    font-family: \"Menlo\", \"Monaco\", \"Consolas\", \"Ubuntu Mono\", \"Source Code Pro\", monospace;\n",
       "    font-size: 13px;\n",
       "    color: #555;\n",
       "    margin-left: 4px;\n",
       "    line-height: 19px;\n",
       "  }\n",
       "</style>\n",
       "<div class=\"ansiout\">res0: Boolean = true\n",
       "</div>"
      ]
     },
     "metadata": {
      "application/vnd.databricks.v1+output": {
       "addedWidgets": {},
       "arguments": {},
       "data": "<div class=\"ansiout\">res0: Boolean = true\n</div>",
       "datasetInfos": [],
       "metadata": {
        "isDbfsCommandResult": false
       },
       "removedWidgets": [],
       "type": "html"
      }
     },
     "output_type": "display_data"
    }
   ],
   "source": [
    "%fs\n",
    "rm -r dbfs:/user/hive/warehouse/euro"
   ]
  },
  {
   "cell_type": "code",
   "execution_count": 0,
   "metadata": {
    "application/vnd.databricks.v1+cell": {
     "cellMetadata": {
      "byteLimit": 2048000,
      "rowLimit": 10000
     },
     "inputWidgets": {},
     "nuid": "e6400cc7-b02f-43fe-90f3-212419dc43ac",
     "showTitle": false,
     "title": ""
    }
   },
   "outputs": [
    {
     "output_type": "display_data",
     "data": {
      "text/html": [
       "<style scoped>\n",
       "  .table-result-container {\n",
       "    max-height: 300px;\n",
       "    overflow: auto;\n",
       "  }\n",
       "  table, th, td {\n",
       "    border: 1px solid black;\n",
       "    border-collapse: collapse;\n",
       "  }\n",
       "  th, td {\n",
       "    padding: 5px;\n",
       "  }\n",
       "  th {\n",
       "    text-align: left;\n",
       "  }\n",
       "</style><div class='table-result-container'><table class='table-result'><thead style='background-color: white'><tr><th>num_affected_rows</th><th>num_inserted_rows</th></tr></thead><tbody><tr><td>24</td><td>24</td></tr></tbody></table></div>"
      ]
     },
     "metadata": {
      "application/vnd.databricks.v1+output": {
       "addedWidgets": {},
       "aggData": [],
       "aggError": "",
       "aggOverflow": false,
       "aggSchema": [],
       "aggSeriesLimitReached": false,
       "aggType": "",
       "arguments": {},
       "columnCustomDisplayInfos": {},
       "data": [
        [
         24,
         24
        ]
       ],
       "datasetInfos": [],
       "dbfsResultPath": null,
       "isJsonSchema": true,
       "metadata": {
        "isDbfsCommandResult": false
       },
       "overflow": false,
       "plotOptions": {
        "customPlotOptions": {},
        "displayType": "table",
        "pivotAggregation": null,
        "pivotColumns": null,
        "xColumns": null,
        "yColumns": null
       },
       "removedWidgets": [],
       "schema": [
        {
         "metadata": "{}",
         "name": "num_affected_rows",
         "type": "\"long\""
        },
        {
         "metadata": "{}",
         "name": "num_inserted_rows",
         "type": "\"long\""
        }
       ],
       "type": "table"
      }
     },
     "output_type": "display_data"
    }
   ],
   "source": [
    "%sql\n",
    "CREATE or replace TABLE euro (\n",
    "    team_name VARCHAR(20),\n",
    "    grp VARCHAR(1)\n",
    "  \n",
    ");\n",
    " \n",
    "-- Insert initial data for Euro Cup teams\n",
    "INSERT INTO euro (team_name, grp)\n",
    "VALUES\n",
    "    ('Germany', 'A'), ('Scotland', 'A'), ('Hungary', 'A'), ('Switzerland', 'A'),\n",
    "    ('Spain', 'B'), ('Croatia', 'B'), ('Italy', 'B'), ('Albania', 'B'),\n",
    "    ('Slovenia', 'C'), ('Denmark', 'C'), ('Serbia', 'C'), ('England', 'C'),\n",
    "    ('Netherlands', 'D'), ('Austria', 'D'), ('France', 'D'),('Poland', 'D'),\n",
    "    ('Belgium', 'E'),('Slovakia', 'E'), ('Romania', 'E'),('Finland', 'E'),\n",
    "    ('Turkey', 'E'),('Portugal', 'F'), ('Czechia', 'F'),('Israel', 'F');\n",
    " "
   ]
  },
  {
   "cell_type": "code",
   "execution_count": 0,
   "metadata": {
    "application/vnd.databricks.v1+cell": {
     "cellMetadata": {
      "byteLimit": 2048000,
      "rowLimit": 10000
     },
     "inputWidgets": {},
     "nuid": "2a45248e-369e-4ce1-bc18-e092c9a021d0",
     "showTitle": false,
     "title": ""
    }
   },
   "outputs": [
    {
     "output_type": "display_data",
     "data": {
      "text/html": [
       "<style scoped>\n",
       "  .table-result-container {\n",
       "    max-height: 300px;\n",
       "    overflow: auto;\n",
       "  }\n",
       "  table, th, td {\n",
       "    border: 1px solid black;\n",
       "    border-collapse: collapse;\n",
       "  }\n",
       "  th, td {\n",
       "    padding: 5px;\n",
       "  }\n",
       "  th {\n",
       "    text-align: left;\n",
       "  }\n",
       "</style><div class='table-result-container'><table class='table-result'><thead style='background-color: white'><tr><th>team_name</th><th>grp</th></tr></thead><tbody><tr><td>Germany</td><td>A</td></tr><tr><td>Scotland</td><td>A</td></tr><tr><td>Hungary</td><td>A</td></tr><tr><td>Switzerland</td><td>A</td></tr><tr><td>Spain</td><td>B</td></tr><tr><td>Croatia</td><td>B</td></tr><tr><td>Italy</td><td>B</td></tr><tr><td>Albania</td><td>B</td></tr><tr><td>Slovenia</td><td>C</td></tr><tr><td>Denmark</td><td>C</td></tr><tr><td>Serbia</td><td>C</td></tr><tr><td>England</td><td>C</td></tr><tr><td>Netherlands</td><td>D</td></tr><tr><td>Austria</td><td>D</td></tr><tr><td>France</td><td>D</td></tr><tr><td>Poland</td><td>D</td></tr><tr><td>Belgium</td><td>E</td></tr><tr><td>Slovakia</td><td>E</td></tr><tr><td>Romania</td><td>E</td></tr><tr><td>Finland</td><td>E</td></tr><tr><td>Turkey</td><td>E</td></tr><tr><td>Portugal</td><td>F</td></tr><tr><td>Czechia</td><td>F</td></tr><tr><td>Israel</td><td>F</td></tr></tbody></table></div>"
      ]
     },
     "metadata": {
      "application/vnd.databricks.v1+output": {
       "addedWidgets": {},
       "aggData": [],
       "aggError": "",
       "aggOverflow": false,
       "aggSchema": [],
       "aggSeriesLimitReached": false,
       "aggType": "",
       "arguments": {},
       "columnCustomDisplayInfos": {},
       "data": [
        [
         "Germany",
         "A"
        ],
        [
         "Scotland",
         "A"
        ],
        [
         "Hungary",
         "A"
        ],
        [
         "Switzerland",
         "A"
        ],
        [
         "Spain",
         "B"
        ],
        [
         "Croatia",
         "B"
        ],
        [
         "Italy",
         "B"
        ],
        [
         "Albania",
         "B"
        ],
        [
         "Slovenia",
         "C"
        ],
        [
         "Denmark",
         "C"
        ],
        [
         "Serbia",
         "C"
        ],
        [
         "England",
         "C"
        ],
        [
         "Netherlands",
         "D"
        ],
        [
         "Austria",
         "D"
        ],
        [
         "France",
         "D"
        ],
        [
         "Poland",
         "D"
        ],
        [
         "Belgium",
         "E"
        ],
        [
         "Slovakia",
         "E"
        ],
        [
         "Romania",
         "E"
        ],
        [
         "Finland",
         "E"
        ],
        [
         "Turkey",
         "E"
        ],
        [
         "Portugal",
         "F"
        ],
        [
         "Czechia",
         "F"
        ],
        [
         "Israel",
         "F"
        ]
       ],
       "datasetInfos": [],
       "dbfsResultPath": null,
       "isJsonSchema": true,
       "metadata": {
        "isDbfsCommandResult": false
       },
       "overflow": false,
       "plotOptions": {
        "customPlotOptions": {},
        "displayType": "table",
        "pivotAggregation": null,
        "pivotColumns": null,
        "xColumns": null,
        "yColumns": null
       },
       "removedWidgets": [],
       "schema": [
        {
         "metadata": "{\"__CHAR_VARCHAR_TYPE_STRING\":\"varchar(20)\"}",
         "name": "team_name",
         "type": "\"string\""
        },
        {
         "metadata": "{\"__CHAR_VARCHAR_TYPE_STRING\":\"varchar(1)\"}",
         "name": "grp",
         "type": "\"string\""
        }
       ],
       "type": "table"
      }
     },
     "output_type": "display_data"
    }
   ],
   "source": [
    "%sql\n",
    "\n",
    "select * from euro"
   ]
  },
  {
   "cell_type": "code",
   "execution_count": 0,
   "metadata": {
    "application/vnd.databricks.v1+cell": {
     "cellMetadata": {
      "byteLimit": 2048000,
      "rowLimit": 10000
     },
     "inputWidgets": {},
     "nuid": "057ec7b5-6eb1-436a-89b4-8c283d056cb3",
     "showTitle": false,
     "title": ""
    }
   },
   "outputs": [
    {
     "output_type": "display_data",
     "data": {
      "text/html": [
       "<style scoped>\n",
       "  .table-result-container {\n",
       "    max-height: 300px;\n",
       "    overflow: auto;\n",
       "  }\n",
       "  table, th, td {\n",
       "    border: 1px solid black;\n",
       "    border-collapse: collapse;\n",
       "  }\n",
       "  th, td {\n",
       "    padding: 5px;\n",
       "  }\n",
       "  th {\n",
       "    text-align: left;\n",
       "  }\n",
       "</style><div class='table-result-container'><table class='table-result'><thead style='background-color: white'><tr><th>match</th><th>team1</th><th>team2</th><th>grp</th><th>team1_goals</th><th>team2_goals</th><th>team1_points</th><th>team2_points</th></tr></thead><tbody><tr><td>Scotland X Hungary</td><td>Scotland</td><td>Hungary</td><td>A</td><td>3</td><td>4</td><td>0</td><td>3</td></tr><tr><td>Scotland X Germany</td><td>Scotland</td><td>Germany</td><td>A</td><td>2</td><td>0</td><td>3</td><td>0</td></tr><tr><td>Hungary X Germany</td><td>Hungary</td><td>Germany</td><td>A</td><td>2</td><td>3</td><td>0</td><td>3</td></tr><tr><td>Switzerland X Hungary</td><td>Switzerland</td><td>Hungary</td><td>A</td><td>3</td><td>1</td><td>3</td><td>0</td></tr><tr><td>Switzerland X Scotland</td><td>Switzerland</td><td>Scotland</td><td>A</td><td>2</td><td>2</td><td>1</td><td>1</td></tr><tr><td>Switzerland X Germany</td><td>Switzerland</td><td>Germany</td><td>A</td><td>3</td><td>3</td><td>1</td><td>1</td></tr><tr><td>Spain X Albania</td><td>Spain</td><td>Albania</td><td>B</td><td>2</td><td>3</td><td>0</td><td>3</td></tr><tr><td>Spain X Italy</td><td>Spain</td><td>Italy</td><td>B</td><td>1</td><td>2</td><td>0</td><td>3</td></tr><tr><td>Spain X Croatia</td><td>Spain</td><td>Croatia</td><td>B</td><td>3</td><td>4</td><td>0</td><td>3</td></tr><tr><td>Croatia X Albania</td><td>Croatia</td><td>Albania</td><td>B</td><td>3</td><td>0</td><td>3</td><td>0</td></tr><tr><td>Italy X Albania</td><td>Italy</td><td>Albania</td><td>B</td><td>3</td><td>1</td><td>3</td><td>0</td></tr><tr><td>Italy X Croatia</td><td>Italy</td><td>Croatia</td><td>B</td><td>2</td><td>4</td><td>0</td><td>3</td></tr><tr><td>Slovenia X England</td><td>Slovenia</td><td>England</td><td>C</td><td>4</td><td>4</td><td>1</td><td>1</td></tr><tr><td>Slovenia X Serbia</td><td>Slovenia</td><td>Serbia</td><td>C</td><td>1</td><td>2</td><td>0</td><td>3</td></tr><tr><td>Slovenia X Denmark</td><td>Slovenia</td><td>Denmark</td><td>C</td><td>2</td><td>2</td><td>1</td><td>1</td></tr><tr><td>Serbia X England</td><td>Serbia</td><td>England</td><td>C</td><td>2</td><td>1</td><td>3</td><td>0</td></tr><tr><td>Serbia X Denmark</td><td>Serbia</td><td>Denmark</td><td>C</td><td>3</td><td>3</td><td>1</td><td>1</td></tr><tr><td>England X Denmark</td><td>England</td><td>Denmark</td><td>C</td><td>3</td><td>0</td><td>3</td><td>0</td></tr><tr><td>Netherlands X France</td><td>Netherlands</td><td>France</td><td>D</td><td>0</td><td>0</td><td>1</td><td>1</td></tr><tr><td>Netherlands X Austria</td><td>Netherlands</td><td>Austria</td><td>D</td><td>2</td><td>2</td><td>1</td><td>1</td></tr><tr><td>France X Austria</td><td>France</td><td>Austria</td><td>D</td><td>4</td><td>0</td><td>3</td><td>0</td></tr><tr><td>Poland X France</td><td>Poland</td><td>France</td><td>D</td><td>2</td><td>2</td><td>1</td><td>1</td></tr><tr><td>Poland X Austria</td><td>Poland</td><td>Austria</td><td>D</td><td>1</td><td>0</td><td>3</td><td>0</td></tr><tr><td>Poland X Netherlands</td><td>Poland</td><td>Netherlands</td><td>D</td><td>4</td><td>1</td><td>3</td><td>0</td></tr><tr><td>Slovakia X Finland</td><td>Slovakia</td><td>Finland</td><td>E</td><td>3</td><td>0</td><td>3</td><td>0</td></tr><tr><td>Slovakia X Romania</td><td>Slovakia</td><td>Romania</td><td>E</td><td>2</td><td>3</td><td>0</td><td>3</td></tr><tr><td>Slovakia X Belgium</td><td>Slovakia</td><td>Belgium</td><td>E</td><td>3</td><td>3</td><td>1</td><td>1</td></tr><tr><td>Romania X Finland</td><td>Romania</td><td>Finland</td><td>E</td><td>4</td><td>2</td><td>3</td><td>0</td></tr><tr><td>Romania X Belgium</td><td>Romania</td><td>Belgium</td><td>E</td><td>1</td><td>2</td><td>0</td><td>3</td></tr><tr><td>Finland X Belgium</td><td>Finland</td><td>Belgium</td><td>E</td><td>0</td><td>0</td><td>1</td><td>1</td></tr><tr><td>Turkey X Finland</td><td>Turkey</td><td>Finland</td><td>E</td><td>1</td><td>3</td><td>0</td><td>3</td></tr><tr><td>Turkey X Romania</td><td>Turkey</td><td>Romania</td><td>E</td><td>2</td><td>3</td><td>0</td><td>3</td></tr><tr><td>Turkey X Slovakia</td><td>Turkey</td><td>Slovakia</td><td>E</td><td>3</td><td>3</td><td>1</td><td>1</td></tr><tr><td>Turkey X Belgium</td><td>Turkey</td><td>Belgium</td><td>E</td><td>2</td><td>3</td><td>0</td><td>3</td></tr><tr><td>Portugal X Israel</td><td>Portugal</td><td>Israel</td><td>F</td><td>3</td><td>3</td><td>1</td><td>1</td></tr><tr><td>Portugal X Czechia</td><td>Portugal</td><td>Czechia</td><td>F</td><td>0</td><td>2</td><td>0</td><td>3</td></tr><tr><td>Israel X Czechia</td><td>Israel</td><td>Czechia</td><td>F</td><td>2</td><td>0</td><td>3</td><td>0</td></tr></tbody></table></div>"
      ]
     },
     "metadata": {
      "application/vnd.databricks.v1+output": {
       "addedWidgets": {},
       "aggData": [],
       "aggError": "",
       "aggOverflow": false,
       "aggSchema": [],
       "aggSeriesLimitReached": false,
       "aggType": "",
       "arguments": {},
       "columnCustomDisplayInfos": {},
       "data": [
        [
         "Scotland X Hungary",
         "Scotland",
         "Hungary",
         "A",
         3,
         4,
         0,
         3
        ],
        [
         "Scotland X Germany",
         "Scotland",
         "Germany",
         "A",
         2,
         0,
         3,
         0
        ],
        [
         "Hungary X Germany",
         "Hungary",
         "Germany",
         "A",
         2,
         3,
         0,
         3
        ],
        [
         "Switzerland X Hungary",
         "Switzerland",
         "Hungary",
         "A",
         3,
         1,
         3,
         0
        ],
        [
         "Switzerland X Scotland",
         "Switzerland",
         "Scotland",
         "A",
         2,
         2,
         1,
         1
        ],
        [
         "Switzerland X Germany",
         "Switzerland",
         "Germany",
         "A",
         3,
         3,
         1,
         1
        ],
        [
         "Spain X Albania",
         "Spain",
         "Albania",
         "B",
         2,
         3,
         0,
         3
        ],
        [
         "Spain X Italy",
         "Spain",
         "Italy",
         "B",
         1,
         2,
         0,
         3
        ],
        [
         "Spain X Croatia",
         "Spain",
         "Croatia",
         "B",
         3,
         4,
         0,
         3
        ],
        [
         "Croatia X Albania",
         "Croatia",
         "Albania",
         "B",
         3,
         0,
         3,
         0
        ],
        [
         "Italy X Albania",
         "Italy",
         "Albania",
         "B",
         3,
         1,
         3,
         0
        ],
        [
         "Italy X Croatia",
         "Italy",
         "Croatia",
         "B",
         2,
         4,
         0,
         3
        ],
        [
         "Slovenia X England",
         "Slovenia",
         "England",
         "C",
         4,
         4,
         1,
         1
        ],
        [
         "Slovenia X Serbia",
         "Slovenia",
         "Serbia",
         "C",
         1,
         2,
         0,
         3
        ],
        [
         "Slovenia X Denmark",
         "Slovenia",
         "Denmark",
         "C",
         2,
         2,
         1,
         1
        ],
        [
         "Serbia X England",
         "Serbia",
         "England",
         "C",
         2,
         1,
         3,
         0
        ],
        [
         "Serbia X Denmark",
         "Serbia",
         "Denmark",
         "C",
         3,
         3,
         1,
         1
        ],
        [
         "England X Denmark",
         "England",
         "Denmark",
         "C",
         3,
         0,
         3,
         0
        ],
        [
         "Netherlands X France",
         "Netherlands",
         "France",
         "D",
         0,
         0,
         1,
         1
        ],
        [
         "Netherlands X Austria",
         "Netherlands",
         "Austria",
         "D",
         2,
         2,
         1,
         1
        ],
        [
         "France X Austria",
         "France",
         "Austria",
         "D",
         4,
         0,
         3,
         0
        ],
        [
         "Poland X France",
         "Poland",
         "France",
         "D",
         2,
         2,
         1,
         1
        ],
        [
         "Poland X Austria",
         "Poland",
         "Austria",
         "D",
         1,
         0,
         3,
         0
        ],
        [
         "Poland X Netherlands",
         "Poland",
         "Netherlands",
         "D",
         4,
         1,
         3,
         0
        ],
        [
         "Slovakia X Finland",
         "Slovakia",
         "Finland",
         "E",
         3,
         0,
         3,
         0
        ],
        [
         "Slovakia X Romania",
         "Slovakia",
         "Romania",
         "E",
         2,
         3,
         0,
         3
        ],
        [
         "Slovakia X Belgium",
         "Slovakia",
         "Belgium",
         "E",
         3,
         3,
         1,
         1
        ],
        [
         "Romania X Finland",
         "Romania",
         "Finland",
         "E",
         4,
         2,
         3,
         0
        ],
        [
         "Romania X Belgium",
         "Romania",
         "Belgium",
         "E",
         1,
         2,
         0,
         3
        ],
        [
         "Finland X Belgium",
         "Finland",
         "Belgium",
         "E",
         0,
         0,
         1,
         1
        ],
        [
         "Turkey X Finland",
         "Turkey",
         "Finland",
         "E",
         1,
         3,
         0,
         3
        ],
        [
         "Turkey X Romania",
         "Turkey",
         "Romania",
         "E",
         2,
         3,
         0,
         3
        ],
        [
         "Turkey X Slovakia",
         "Turkey",
         "Slovakia",
         "E",
         3,
         3,
         1,
         1
        ],
        [
         "Turkey X Belgium",
         "Turkey",
         "Belgium",
         "E",
         2,
         3,
         0,
         3
        ],
        [
         "Portugal X Israel",
         "Portugal",
         "Israel",
         "F",
         3,
         3,
         1,
         1
        ],
        [
         "Portugal X Czechia",
         "Portugal",
         "Czechia",
         "F",
         0,
         2,
         0,
         3
        ],
        [
         "Israel X Czechia",
         "Israel",
         "Czechia",
         "F",
         2,
         0,
         3,
         0
        ]
       ],
       "datasetInfos": [],
       "dbfsResultPath": null,
       "isJsonSchema": true,
       "metadata": {
        "isDbfsCommandResult": false
       },
       "overflow": false,
       "plotOptions": {
        "customPlotOptions": {},
        "displayType": "table",
        "pivotAggregation": null,
        "pivotColumns": null,
        "xColumns": null,
        "yColumns": null
       },
       "removedWidgets": [],
       "schema": [
        {
         "metadata": "{}",
         "name": "match",
         "type": "\"string\""
        },
        {
         "metadata": "{\"__CHAR_VARCHAR_TYPE_STRING\":\"varchar(20)\"}",
         "name": "team1",
         "type": "\"string\""
        },
        {
         "metadata": "{\"__CHAR_VARCHAR_TYPE_STRING\":\"varchar(20)\"}",
         "name": "team2",
         "type": "\"string\""
        },
        {
         "metadata": "{\"__CHAR_VARCHAR_TYPE_STRING\":\"varchar(1)\"}",
         "name": "grp",
         "type": "\"string\""
        },
        {
         "metadata": "{}",
         "name": "team1_goals",
         "type": "\"long\""
        },
        {
         "metadata": "{}",
         "name": "team2_goals",
         "type": "\"long\""
        },
        {
         "metadata": "{}",
         "name": "team1_points",
         "type": "\"integer\""
        },
        {
         "metadata": "{}",
         "name": "team2_points",
         "type": "\"integer\""
        }
       ],
       "type": "table"
      }
     },
     "output_type": "display_data"
    }
   ],
   "source": [
    "%sql\n",
    "SELECT \n",
    "    CONCAT(t1.team_name, ' X ', t2.team_name) AS match,\n",
    "    t1.team_name as team1,\n",
    "    t2.team_name as team2,\n",
    "    t1.grp,\n",
    "    FLOOR(RAND() * 5) AS team1_goals,\n",
    "    FLOOR(RAND() * 5) AS team2_goals,\n",
    "    CASE\n",
    "            WHEN team1_goals > team2_goals THEN 3\n",
    "            WHEN team1_goals = team2_goals THEN 1 \n",
    "            ELSE 0\n",
    "        END AS team1_points,\n",
    "        CASE\n",
    "            WHEN team2_goals > team1_goals THEN 3\n",
    "            WHEN team2_goals = team1_goals THEN 1\n",
    "            ELSE 0\n",
    "        END AS team2_points\n",
    "    FROM \n",
    "        euro t1\n",
    "CROSS JOIN \n",
    "    euro t2 \n",
    "WHERE \n",
    "    t1.grp = t2.grp \n",
    "    AND t1.team_name > t2.team_name;\n"
   ]
  },
  {
   "cell_type": "code",
   "execution_count": 0,
   "metadata": {
    "application/vnd.databricks.v1+cell": {
     "cellMetadata": {
      "byteLimit": 2048000,
      "rowLimit": 10000
     },
     "inputWidgets": {},
     "nuid": "d038e97d-4d35-4fb1-abd0-ef5851cfe346",
     "showTitle": false,
     "title": ""
    }
   },
   "outputs": [
    {
     "output_type": "display_data",
     "data": {
      "text/html": [
       "<style scoped>\n",
       "  .table-result-container {\n",
       "    max-height: 300px;\n",
       "    overflow: auto;\n",
       "  }\n",
       "  table, th, td {\n",
       "    border: 1px solid black;\n",
       "    border-collapse: collapse;\n",
       "  }\n",
       "  th, td {\n",
       "    padding: 5px;\n",
       "  }\n",
       "  th {\n",
       "    text-align: left;\n",
       "  }\n",
       "</style><div class='table-result-container'><table class='table-result'><thead style='background-color: white'><tr><th>team</th><th>grp</th><th>goals_forward</th><th>goals_against</th><th>gd</th><th>pts</th><th>wins</th><th>draws</th><th>lose</th></tr></thead><tbody><tr><td>Scotland</td><td>A</td><td>8</td><td>10</td><td>-2</td><td>6</td><td>2</td><td>0</td><td>1</td></tr><tr><td>Hungary</td><td>A</td><td>6</td><td>3</td><td>3</td><td>6</td><td>2</td><td>0</td><td>1</td></tr><tr><td>Switzerland</td><td>A</td><td>7</td><td>6</td><td>1</td><td>6</td><td>2</td><td>0</td><td>1</td></tr><tr><td>Germany</td><td>A</td><td>9</td><td>5</td><td>4</td><td>0</td><td>0</td><td>0</td><td>3</td></tr><tr><td>Croatia</td><td>B</td><td>6</td><td>6</td><td>0</td><td>7</td><td>2</td><td>1</td><td>0</td></tr><tr><td>Spain</td><td>B</td><td>9</td><td>3</td><td>6</td><td>7</td><td>2</td><td>1</td><td>0</td></tr><tr><td>Italy</td><td>B</td><td>8</td><td>4</td><td>4</td><td>3</td><td>1</td><td>0</td><td>2</td></tr><tr><td>Albania</td><td>B</td><td>11</td><td>7</td><td>4</td><td>0</td><td>0</td><td>0</td><td>3</td></tr><tr><td>Slovenia</td><td>C</td><td>11</td><td>3</td><td>8</td><td>7</td><td>2</td><td>1</td><td>0</td></tr><tr><td>Denmark</td><td>C</td><td>7</td><td>7</td><td>0</td><td>6</td><td>2</td><td>0</td><td>1</td></tr><tr><td>England</td><td>C</td><td>5</td><td>8</td><td>-3</td><td>2</td><td>0</td><td>2</td><td>1</td></tr><tr><td>Serbia</td><td>C</td><td>7</td><td>4</td><td>3</td><td>1</td><td>0</td><td>1</td><td>2</td></tr><tr><td>France</td><td>D</td><td>4</td><td>8</td><td>-4</td><td>7</td><td>2</td><td>1</td><td>0</td></tr><tr><td>Poland</td><td>D</td><td>6</td><td>4</td><td>2</td><td>6</td><td>2</td><td>0</td><td>1</td></tr><tr><td>Netherlands</td><td>D</td><td>9</td><td>6</td><td>3</td><td>3</td><td>1</td><td>0</td><td>2</td></tr><tr><td>Austria</td><td>D</td><td>9</td><td>2</td><td>7</td><td>1</td><td>0</td><td>1</td><td>2</td></tr><tr><td>Finland</td><td>E</td><td>7</td><td>11</td><td>-4</td><td>12</td><td>4</td><td>0</td><td>-1</td></tr><tr><td>Slovakia</td><td>E</td><td>13</td><td>9</td><td>4</td><td>7</td><td>2</td><td>1</td><td>0</td></tr><tr><td>Turkey</td><td>E</td><td>5</td><td>5</td><td>0</td><td>5</td><td>1</td><td>2</td><td>0</td></tr><tr><td>Belgium</td><td>E</td><td>10</td><td>5</td><td>5</td><td>3</td><td>1</td><td>0</td><td>2</td></tr><tr><td>Romania</td><td>E</td><td>5</td><td>6</td><td>-1</td><td>1</td><td>0</td><td>1</td><td>2</td></tr><tr><td>Israel</td><td>F</td><td>6</td><td>3</td><td>3</td><td>4</td><td>1</td><td>1</td><td>1</td></tr><tr><td>Portugal</td><td>F</td><td>5</td><td>5</td><td>0</td><td>2</td><td>0</td><td>2</td><td>1</td></tr><tr><td>Czechia</td><td>F</td><td>7</td><td>4</td><td>3</td><td>1</td><td>0</td><td>1</td><td>2</td></tr></tbody></table></div>"
      ]
     },
     "metadata": {
      "application/vnd.databricks.v1+output": {
       "addedWidgets": {},
       "aggData": [],
       "aggError": "",
       "aggOverflow": false,
       "aggSchema": [],
       "aggSeriesLimitReached": false,
       "aggType": "",
       "arguments": {},
       "columnCustomDisplayInfos": {},
       "data": [
        [
         "Scotland",
         "A",
         8,
         10,
         -2,
         6,
         2,
         0,
         1
        ],
        [
         "Hungary",
         "A",
         6,
         3,
         3,
         6,
         2,
         0,
         1
        ],
        [
         "Switzerland",
         "A",
         7,
         6,
         1,
         6,
         2,
         0,
         1
        ],
        [
         "Germany",
         "A",
         9,
         5,
         4,
         0,
         0,
         0,
         3
        ],
        [
         "Croatia",
         "B",
         6,
         6,
         0,
         7,
         2,
         1,
         0
        ],
        [
         "Spain",
         "B",
         9,
         3,
         6,
         7,
         2,
         1,
         0
        ],
        [
         "Italy",
         "B",
         8,
         4,
         4,
         3,
         1,
         0,
         2
        ],
        [
         "Albania",
         "B",
         11,
         7,
         4,
         0,
         0,
         0,
         3
        ],
        [
         "Slovenia",
         "C",
         11,
         3,
         8,
         7,
         2,
         1,
         0
        ],
        [
         "Denmark",
         "C",
         7,
         7,
         0,
         6,
         2,
         0,
         1
        ],
        [
         "England",
         "C",
         5,
         8,
         -3,
         2,
         0,
         2,
         1
        ],
        [
         "Serbia",
         "C",
         7,
         4,
         3,
         1,
         0,
         1,
         2
        ],
        [
         "France",
         "D",
         4,
         8,
         -4,
         7,
         2,
         1,
         0
        ],
        [
         "Poland",
         "D",
         6,
         4,
         2,
         6,
         2,
         0,
         1
        ],
        [
         "Netherlands",
         "D",
         9,
         6,
         3,
         3,
         1,
         0,
         2
        ],
        [
         "Austria",
         "D",
         9,
         2,
         7,
         1,
         0,
         1,
         2
        ],
        [
         "Finland",
         "E",
         7,
         11,
         -4,
         12,
         4,
         0,
         -1
        ],
        [
         "Slovakia",
         "E",
         13,
         9,
         4,
         7,
         2,
         1,
         0
        ],
        [
         "Turkey",
         "E",
         5,
         5,
         0,
         5,
         1,
         2,
         0
        ],
        [
         "Belgium",
         "E",
         10,
         5,
         5,
         3,
         1,
         0,
         2
        ],
        [
         "Romania",
         "E",
         5,
         6,
         -1,
         1,
         0,
         1,
         2
        ],
        [
         "Israel",
         "F",
         6,
         3,
         3,
         4,
         1,
         1,
         1
        ],
        [
         "Portugal",
         "F",
         5,
         5,
         0,
         2,
         0,
         2,
         1
        ],
        [
         "Czechia",
         "F",
         7,
         4,
         3,
         1,
         0,
         1,
         2
        ]
       ],
       "datasetInfos": [],
       "dbfsResultPath": null,
       "isJsonSchema": true,
       "metadata": {
        "isDbfsCommandResult": false
       },
       "overflow": false,
       "plotOptions": {
        "customPlotOptions": {},
        "displayType": "table",
        "pivotAggregation": null,
        "pivotColumns": null,
        "xColumns": null,
        "yColumns": null
       },
       "removedWidgets": [],
       "schema": [
        {
         "metadata": "{\"__CHAR_VARCHAR_TYPE_STRING\":\"varchar(20)\"}",
         "name": "team",
         "type": "\"string\""
        },
        {
         "metadata": "{\"__CHAR_VARCHAR_TYPE_STRING\":\"varchar(1)\"}",
         "name": "grp",
         "type": "\"string\""
        },
        {
         "metadata": "{}",
         "name": "goals_forward",
         "type": "\"long\""
        },
        {
         "metadata": "{}",
         "name": "goals_against",
         "type": "\"long\""
        },
        {
         "metadata": "{}",
         "name": "gd",
         "type": "\"long\""
        },
        {
         "metadata": "{}",
         "name": "pts",
         "type": "\"long\""
        },
        {
         "metadata": "{}",
         "name": "wins",
         "type": "\"long\""
        },
        {
         "metadata": "{}",
         "name": "draws",
         "type": "\"long\""
        },
        {
         "metadata": "{}",
         "name": "lose",
         "type": "\"long\""
        }
       ],
       "type": "table"
      }
     },
     "output_type": "display_data"
    }
   ],
   "source": [
    "%sql\n",
    "WITH cte1 AS (\n",
    "    SELECT \n",
    "        CONCAT(t1.team_name, ' X ', t2.team_name) AS match,\n",
    "        t1.team_name AS team1,\n",
    "        t2.team_name AS team2,\n",
    "        t1.grp,\n",
    "        FLOOR(RAND() * 5) AS team1_goals,\n",
    "        FLOOR(RAND() * 5) AS team2_goals,\n",
    "        CASE\n",
    "            WHEN team1_goals > team2_goals THEN 3\n",
    "            WHEN team1_goals = team2_goals THEN 1 \n",
    "            ELSE 0\n",
    "        END AS team1_points,\n",
    "        CASE\n",
    "            WHEN team2_goals > team1_goals THEN 3\n",
    "            WHEN team2_goals = team1_goals THEN 1\n",
    "            ELSE 0\n",
    "        END AS team2_points\n",
    "    FROM \n",
    "        euro t1\n",
    "    CROSS JOIN \n",
    "        euro t2 \n",
    "    WHERE \n",
    "        t1.grp = t2.grp \n",
    "        AND t1.team_name > t2.team_name\n",
    "),\n",
    "cte2 AS (\n",
    "    SELECT \n",
    "        team,\n",
    "        grp,\n",
    "        SUM(goals_forward) AS goals_forward,\n",
    "        SUM(goals_against) AS goals_against,\n",
    "        SUM(team1_points) AS pts \n",
    "    FROM (\n",
    "        SELECT  \n",
    "            team1 AS team,\n",
    "            grp,\n",
    "            team1_goals AS goals_forward,\n",
    "            team2_goals AS goals_against,\n",
    "            team1_points \n",
    "        FROM cte1\n",
    "        UNION ALL\n",
    "        SELECT  \n",
    "            team2 AS team,\n",
    "            grp,\n",
    "            team1_goals AS goals_forward,\n",
    "            team2_goals AS goals_against,\n",
    "            team2_points \n",
    "        FROM cte1\n",
    "    ) AS temp\n",
    "    GROUP BY team, grp\n",
    ")\n",
    "SELECT \n",
    "    team, \n",
    "    grp,\n",
    "    goals_forward,\n",
    "    goals_against,\n",
    "    (goals_forward - goals_against) AS gd,\n",
    "    pts,\n",
    "    FLOOR(pts / 3) AS wins,\n",
    "    FLOOR(pts % 3) AS draws,\n",
    "    3 - (FLOOR(pts / 3) + FLOOR(pts % 3)) AS lose\n",
    "FROM \n",
    "    cte2 ORDER BY grp,pts DESC;\n"
   ]
  },
  {
   "cell_type": "code",
   "execution_count": 0,
   "metadata": {
    "application/vnd.databricks.v1+cell": {
     "cellMetadata": {
      "byteLimit": 2048000,
      "rowLimit": 10000
     },
     "inputWidgets": {},
     "nuid": "372ccd8c-bf2d-4ba8-b3ea-ec1f5282b0d0",
     "showTitle": false,
     "title": ""
    }
   },
   "outputs": [
    {
     "output_type": "display_data",
     "data": {
      "text/html": [
       "<style scoped>\n",
       "  .table-result-container {\n",
       "    max-height: 300px;\n",
       "    overflow: auto;\n",
       "  }\n",
       "  table, th, td {\n",
       "    border: 1px solid black;\n",
       "    border-collapse: collapse;\n",
       "  }\n",
       "  th, td {\n",
       "    padding: 5px;\n",
       "  }\n",
       "  th {\n",
       "    text-align: left;\n",
       "  }\n",
       "</style><div class='table-result-container'><table class='table-result'><thead style='background-color: white'><tr><th>team</th><th>grp</th><th>goals_forward</th><th>goals_against</th><th>gd</th><th>pts</th><th>wins</th><th>draws</th><th>lose</th><th>rank</th></tr></thead><tbody><tr><td>Scotland</td><td>A</td><td>4</td><td>5</td><td>-1</td><td>6</td><td>2</td><td>0</td><td>1</td><td>1</td></tr><tr><td>Hungary</td><td>A</td><td>7</td><td>3</td><td>4</td><td>6</td><td>2</td><td>0</td><td>1</td><td>2</td></tr><tr><td>Germany</td><td>A</td><td>3</td><td>1</td><td>2</td><td>4</td><td>1</td><td>1</td><td>1</td><td>3</td></tr><tr><td>Switzerland</td><td>A</td><td>4</td><td>7</td><td>-3</td><td>1</td><td>0</td><td>1</td><td>2</td><td>4</td></tr><tr><td>Italy</td><td>B</td><td>7</td><td>3</td><td>4</td><td>7</td><td>2</td><td>1</td><td>0</td><td>1</td></tr><tr><td>Croatia</td><td>B</td><td>4</td><td>3</td><td>1</td><td>4</td><td>1</td><td>1</td><td>1</td><td>2</td></tr><tr><td>Albania</td><td>B</td><td>4</td><td>3</td><td>1</td><td>4</td><td>1</td><td>1</td><td>1</td><td>3</td></tr><tr><td>Spain</td><td>B</td><td>3</td><td>5</td><td>-2</td><td>1</td><td>0</td><td>1</td><td>2</td><td>4</td></tr><tr><td>Serbia</td><td>C</td><td>10</td><td>5</td><td>5</td><td>6</td><td>2</td><td>0</td><td>1</td><td>1</td></tr><tr><td>England</td><td>C</td><td>10</td><td>4</td><td>6</td><td>4</td><td>1</td><td>1</td><td>1</td><td>2</td></tr><tr><td>Slovenia</td><td>C</td><td>6</td><td>6</td><td>0</td><td>4</td><td>1</td><td>1</td><td>1</td><td>3</td></tr><tr><td>Denmark</td><td>C</td><td>8</td><td>3</td><td>5</td><td>3</td><td>1</td><td>0</td><td>2</td><td>4</td></tr><tr><td>Poland</td><td>D</td><td>10</td><td>3</td><td>7</td><td>7</td><td>2</td><td>1</td><td>0</td><td>1</td></tr><tr><td>Netherlands</td><td>D</td><td>11</td><td>6</td><td>5</td><td>4</td><td>1</td><td>1</td><td>1</td><td>2</td></tr><tr><td>Austria</td><td>D</td><td>8</td><td>7</td><td>1</td><td>4</td><td>1</td><td>1</td><td>1</td><td>3</td></tr><tr><td>France</td><td>D</td><td>9</td><td>6</td><td>3</td><td>1</td><td>0</td><td>1</td><td>2</td><td>4</td></tr><tr><td>Belgium</td><td>E</td><td>5</td><td>12</td><td>-7</td><td>12</td><td>4</td><td>0</td><td>-1</td><td>1</td></tr><tr><td>Turkey</td><td>E</td><td>10</td><td>8</td><td>2</td><td>6</td><td>2</td><td>0</td><td>1</td><td>2</td></tr><tr><td>Slovakia</td><td>E</td><td>0</td><td>5</td><td>-5</td><td>4</td><td>1</td><td>1</td><td>1</td><td>3</td></tr><tr><td>Romania</td><td>E</td><td>11</td><td>9</td><td>2</td><td>4</td><td>1</td><td>1</td><td>1</td><td>4</td></tr><tr><td>Finland</td><td>E</td><td>8</td><td>10</td><td>-2</td><td>3</td><td>1</td><td>0</td><td>2</td><td>5</td></tr><tr><td>Czechia</td><td>F</td><td>4</td><td>7</td><td>-3</td><td>6</td><td>2</td><td>0</td><td>1</td><td>1</td></tr><tr><td>Israel</td><td>F</td><td>4</td><td>6</td><td>-2</td><td>3</td><td>1</td><td>0</td><td>2</td><td>2</td></tr><tr><td>Portugal</td><td>F</td><td>2</td><td>5</td><td>-3</td><td>0</td><td>0</td><td>0</td><td>3</td><td>3</td></tr></tbody></table></div>"
      ]
     },
     "metadata": {
      "application/vnd.databricks.v1+output": {
       "addedWidgets": {},
       "aggData": [],
       "aggError": "",
       "aggOverflow": false,
       "aggSchema": [],
       "aggSeriesLimitReached": false,
       "aggType": "",
       "arguments": {},
       "columnCustomDisplayInfos": {},
       "data": [
        [
         "Scotland",
         "A",
         4,
         5,
         -1,
         6,
         2,
         0,
         1,
         1
        ],
        [
         "Hungary",
         "A",
         7,
         3,
         4,
         6,
         2,
         0,
         1,
         2
        ],
        [
         "Germany",
         "A",
         3,
         1,
         2,
         4,
         1,
         1,
         1,
         3
        ],
        [
         "Switzerland",
         "A",
         4,
         7,
         -3,
         1,
         0,
         1,
         2,
         4
        ],
        [
         "Italy",
         "B",
         7,
         3,
         4,
         7,
         2,
         1,
         0,
         1
        ],
        [
         "Croatia",
         "B",
         4,
         3,
         1,
         4,
         1,
         1,
         1,
         2
        ],
        [
         "Albania",
         "B",
         4,
         3,
         1,
         4,
         1,
         1,
         1,
         3
        ],
        [
         "Spain",
         "B",
         3,
         5,
         -2,
         1,
         0,
         1,
         2,
         4
        ],
        [
         "Serbia",
         "C",
         10,
         5,
         5,
         6,
         2,
         0,
         1,
         1
        ],
        [
         "England",
         "C",
         10,
         4,
         6,
         4,
         1,
         1,
         1,
         2
        ],
        [
         "Slovenia",
         "C",
         6,
         6,
         0,
         4,
         1,
         1,
         1,
         3
        ],
        [
         "Denmark",
         "C",
         8,
         3,
         5,
         3,
         1,
         0,
         2,
         4
        ],
        [
         "Poland",
         "D",
         10,
         3,
         7,
         7,
         2,
         1,
         0,
         1
        ],
        [
         "Netherlands",
         "D",
         11,
         6,
         5,
         4,
         1,
         1,
         1,
         2
        ],
        [
         "Austria",
         "D",
         8,
         7,
         1,
         4,
         1,
         1,
         1,
         3
        ],
        [
         "France",
         "D",
         9,
         6,
         3,
         1,
         0,
         1,
         2,
         4
        ],
        [
         "Belgium",
         "E",
         5,
         12,
         -7,
         12,
         4,
         0,
         -1,
         1
        ],
        [
         "Turkey",
         "E",
         10,
         8,
         2,
         6,
         2,
         0,
         1,
         2
        ],
        [
         "Slovakia",
         "E",
         0,
         5,
         -5,
         4,
         1,
         1,
         1,
         3
        ],
        [
         "Romania",
         "E",
         11,
         9,
         2,
         4,
         1,
         1,
         1,
         4
        ],
        [
         "Finland",
         "E",
         8,
         10,
         -2,
         3,
         1,
         0,
         2,
         5
        ],
        [
         "Czechia",
         "F",
         4,
         7,
         -3,
         6,
         2,
         0,
         1,
         1
        ],
        [
         "Israel",
         "F",
         4,
         6,
         -2,
         3,
         1,
         0,
         2,
         2
        ],
        [
         "Portugal",
         "F",
         2,
         5,
         -3,
         0,
         0,
         0,
         3,
         3
        ]
       ],
       "datasetInfos": [],
       "dbfsResultPath": null,
       "isJsonSchema": true,
       "metadata": {
        "isDbfsCommandResult": false
       },
       "overflow": false,
       "plotOptions": {
        "customPlotOptions": {},
        "displayType": "table",
        "pivotAggregation": null,
        "pivotColumns": null,
        "xColumns": null,
        "yColumns": null
       },
       "removedWidgets": [],
       "schema": [
        {
         "metadata": "{\"__CHAR_VARCHAR_TYPE_STRING\":\"varchar(20)\"}",
         "name": "team",
         "type": "\"string\""
        },
        {
         "metadata": "{\"__CHAR_VARCHAR_TYPE_STRING\":\"varchar(1)\"}",
         "name": "grp",
         "type": "\"string\""
        },
        {
         "metadata": "{}",
         "name": "goals_forward",
         "type": "\"long\""
        },
        {
         "metadata": "{}",
         "name": "goals_against",
         "type": "\"long\""
        },
        {
         "metadata": "{}",
         "name": "gd",
         "type": "\"long\""
        },
        {
         "metadata": "{}",
         "name": "pts",
         "type": "\"long\""
        },
        {
         "metadata": "{}",
         "name": "wins",
         "type": "\"long\""
        },
        {
         "metadata": "{}",
         "name": "draws",
         "type": "\"long\""
        },
        {
         "metadata": "{}",
         "name": "lose",
         "type": "\"long\""
        },
        {
         "metadata": "{}",
         "name": "rank",
         "type": "\"integer\""
        }
       ],
       "type": "table"
      }
     },
     "output_type": "display_data"
    }
   ],
   "source": [
    "%sql\n",
    "WITH cte1 AS (\n",
    "    SELECT \n",
    "        CONCAT(t1.team_name, ' X ', t2.team_name) AS match,\n",
    "        t1.team_name AS team1,\n",
    "        t2.team_name AS team2,\n",
    "        t1.grp,\n",
    "        FLOOR(RAND() * 5) AS team1_goals,\n",
    "        FLOOR(RAND() * 5) AS team2_goals,\n",
    "        CASE\n",
    "            WHEN team1_goals > team2_goals THEN 3\n",
    "            WHEN team1_goals = team2_goals THEN 1 \n",
    "            ELSE 0\n",
    "        END AS team1_points,\n",
    "        CASE\n",
    "            WHEN team2_goals > team1_goals THEN 3\n",
    "            WHEN team2_goals = team1_goals THEN 1\n",
    "            ELSE 0\n",
    "        END AS team2_points\n",
    "    FROM \n",
    "        euro t1\n",
    "    CROSS JOIN \n",
    "        euro t2 \n",
    "    WHERE \n",
    "        t1.grp = t2.grp \n",
    "        AND t1.team_name > t2.team_name\n",
    "),\n",
    "cte2 AS (\n",
    "    SELECT \n",
    "        team,\n",
    "        grp,\n",
    "        SUM(goals_forward) AS goals_forward,\n",
    "        SUM(goals_against) AS goals_against,\n",
    "        SUM(team1_points) AS pts \n",
    "    FROM (\n",
    "        SELECT  \n",
    "            team1 AS team,\n",
    "            grp,\n",
    "            team1_goals AS goals_forward,\n",
    "            team2_goals AS goals_against,\n",
    "            team1_points \n",
    "        FROM cte1\n",
    "        UNION ALL\n",
    "        SELECT  \n",
    "            team2 AS team,\n",
    "            grp,\n",
    "            team1_goals AS goals_forward,\n",
    "            team2_goals AS goals_against,\n",
    "            team2_points \n",
    "        FROM cte1\n",
    "    ) AS temp\n",
    "    GROUP BY team, grp\n",
    ")\n",
    "SELECT \n",
    "    team, \n",
    "    grp,\n",
    "    goals_forward,\n",
    "    goals_against,\n",
    "    (goals_forward - goals_against) AS gd,\n",
    "    pts,\n",
    "    FLOOR(pts / 3) AS wins,\n",
    "    FLOOR(pts % 3) AS draws,\n",
    "    3 - (FLOOR(pts / 3) + FLOOR(pts % 3)) AS lose,\n",
    "    row_number() OVER(PARTITION BY GRP ORDER BY pts desc) AS  rank\n",
    "FROM \n",
    "    cte2 ORDER BY grp,pts DESC;\n"
   ]
  },
  {
   "cell_type": "markdown",
   "metadata": {
    "application/vnd.databricks.v1+cell": {
     "cellMetadata": {
      "byteLimit": 2048000,
      "rowLimit": 10000
     },
     "inputWidgets": {},
     "nuid": "4cabce08-c1b9-4df7-9b84-61e51a9698b4",
     "showTitle": false,
     "title": ""
    }
   },
   "source": [
    "#Round of 16"
   ]
  },
  {
   "cell_type": "code",
   "execution_count": 0,
   "metadata": {
    "application/vnd.databricks.v1+cell": {
     "cellMetadata": {
      "byteLimit": 2048000,
      "rowLimit": 10000
     },
     "inputWidgets": {},
     "nuid": "cae39848-cb4e-4fe7-803d-ee490d36d71d",
     "showTitle": false,
     "title": ""
    }
   },
   "outputs": [
    {
     "output_type": "display_data",
     "data": {
      "text/html": [
       "<style scoped>\n",
       "  .table-result-container {\n",
       "    max-height: 300px;\n",
       "    overflow: auto;\n",
       "  }\n",
       "  table, th, td {\n",
       "    border: 1px solid black;\n",
       "    border-collapse: collapse;\n",
       "  }\n",
       "  th, td {\n",
       "    padding: 5px;\n",
       "  }\n",
       "  th {\n",
       "    text-align: left;\n",
       "  }\n",
       "</style><div class='table-result-container'><table class='table-result'><thead style='background-color: white'><tr><th>team</th><th>grp</th><th>goals_forward</th><th>goals_against</th><th>gd</th><th>pts</th><th>wins</th><th>draws</th><th>lose</th><th>rank</th></tr></thead><tbody><tr><td>Poland</td><td>D</td><td>11</td><td>2</td><td>9</td><td>9</td><td>3</td><td>0</td><td>0</td><td>1</td></tr><tr><td>Slovakia</td><td>E</td><td>7</td><td>4</td><td>3</td><td>9</td><td>3</td><td>0</td><td>0</td><td>1</td></tr><tr><td>Spain</td><td>B</td><td>9</td><td>5</td><td>4</td><td>6</td><td>2</td><td>0</td><td>1</td><td>1</td></tr><tr><td>Slovenia</td><td>C</td><td>9</td><td>6</td><td>3</td><td>6</td><td>2</td><td>0</td><td>1</td><td>1</td></tr><tr><td>Germany</td><td>A</td><td>4</td><td>10</td><td>-6</td><td>6</td><td>2</td><td>0</td><td>1</td><td>1</td></tr><tr><td>Israel</td><td>F</td><td>4</td><td>8</td><td>-4</td><td>3</td><td>1</td><td>0</td><td>2</td><td>1</td></tr><tr><td>Romania</td><td>E</td><td>12</td><td>6</td><td>6</td><td>7</td><td>2</td><td>1</td><td>0</td><td>2</td></tr><tr><td>Serbia</td><td>C</td><td>10</td><td>2</td><td>8</td><td>6</td><td>2</td><td>0</td><td>1</td><td>2</td></tr><tr><td>Croatia</td><td>B</td><td>8</td><td>3</td><td>5</td><td>6</td><td>2</td><td>0</td><td>1</td><td>2</td></tr><tr><td>Switzerland</td><td>A</td><td>5</td><td>6</td><td>-1</td><td>6</td><td>2</td><td>0</td><td>1</td><td>2</td></tr><tr><td>Austria</td><td>D</td><td>5</td><td>9</td><td>-4</td><td>6</td><td>2</td><td>0</td><td>1</td><td>2</td></tr><tr><td>Portugal</td><td>F</td><td>6</td><td>7</td><td>-1</td><td>3</td><td>1</td><td>0</td><td>2</td><td>2</td></tr><tr><td>Hungary</td><td>A</td><td>6</td><td>4</td><td>2</td><td>6</td><td>2</td><td>0</td><td>1</td><td>3</td></tr><tr><td>Turkey</td><td>E</td><td>6</td><td>5</td><td>1</td><td>5</td><td>1</td><td>2</td><td>0</td><td>3</td></tr><tr><td>Denmark</td><td>C</td><td>8</td><td>6</td><td>2</td><td>3</td><td>1</td><td>0</td><td>2</td><td>3</td></tr><tr><td>Czechia</td><td>F</td><td>6</td><td>7</td><td>-1</td><td>3</td><td>1</td><td>0</td><td>2</td><td>3</td></tr></tbody></table></div>"
      ]
     },
     "metadata": {
      "application/vnd.databricks.v1+output": {
       "addedWidgets": {},
       "aggData": [],
       "aggError": "",
       "aggOverflow": false,
       "aggSchema": [],
       "aggSeriesLimitReached": false,
       "aggType": "",
       "arguments": {},
       "columnCustomDisplayInfos": {},
       "data": [
        [
         "Poland",
         "D",
         11,
         2,
         9,
         9,
         3,
         0,
         0,
         1
        ],
        [
         "Slovakia",
         "E",
         7,
         4,
         3,
         9,
         3,
         0,
         0,
         1
        ],
        [
         "Spain",
         "B",
         9,
         5,
         4,
         6,
         2,
         0,
         1,
         1
        ],
        [
         "Slovenia",
         "C",
         9,
         6,
         3,
         6,
         2,
         0,
         1,
         1
        ],
        [
         "Germany",
         "A",
         4,
         10,
         -6,
         6,
         2,
         0,
         1,
         1
        ],
        [
         "Israel",
         "F",
         4,
         8,
         -4,
         3,
         1,
         0,
         2,
         1
        ],
        [
         "Romania",
         "E",
         12,
         6,
         6,
         7,
         2,
         1,
         0,
         2
        ],
        [
         "Serbia",
         "C",
         10,
         2,
         8,
         6,
         2,
         0,
         1,
         2
        ],
        [
         "Croatia",
         "B",
         8,
         3,
         5,
         6,
         2,
         0,
         1,
         2
        ],
        [
         "Switzerland",
         "A",
         5,
         6,
         -1,
         6,
         2,
         0,
         1,
         2
        ],
        [
         "Austria",
         "D",
         5,
         9,
         -4,
         6,
         2,
         0,
         1,
         2
        ],
        [
         "Portugal",
         "F",
         6,
         7,
         -1,
         3,
         1,
         0,
         2,
         2
        ],
        [
         "Hungary",
         "A",
         6,
         4,
         2,
         6,
         2,
         0,
         1,
         3
        ],
        [
         "Turkey",
         "E",
         6,
         5,
         1,
         5,
         1,
         2,
         0,
         3
        ],
        [
         "Denmark",
         "C",
         8,
         6,
         2,
         3,
         1,
         0,
         2,
         3
        ],
        [
         "Czechia",
         "F",
         6,
         7,
         -1,
         3,
         1,
         0,
         2,
         3
        ]
       ],
       "datasetInfos": [],
       "dbfsResultPath": null,
       "isJsonSchema": true,
       "metadata": {
        "isDbfsCommandResult": false
       },
       "overflow": false,
       "plotOptions": {
        "customPlotOptions": {},
        "displayType": "table",
        "pivotAggregation": null,
        "pivotColumns": null,
        "xColumns": null,
        "yColumns": null
       },
       "removedWidgets": [],
       "schema": [
        {
         "metadata": "{\"__CHAR_VARCHAR_TYPE_STRING\":\"varchar(20)\"}",
         "name": "team",
         "type": "\"string\""
        },
        {
         "metadata": "{\"__CHAR_VARCHAR_TYPE_STRING\":\"varchar(1)\"}",
         "name": "grp",
         "type": "\"string\""
        },
        {
         "metadata": "{}",
         "name": "goals_forward",
         "type": "\"long\""
        },
        {
         "metadata": "{}",
         "name": "goals_against",
         "type": "\"long\""
        },
        {
         "metadata": "{}",
         "name": "gd",
         "type": "\"long\""
        },
        {
         "metadata": "{}",
         "name": "pts",
         "type": "\"long\""
        },
        {
         "metadata": "{}",
         "name": "wins",
         "type": "\"long\""
        },
        {
         "metadata": "{}",
         "name": "draws",
         "type": "\"long\""
        },
        {
         "metadata": "{}",
         "name": "lose",
         "type": "\"long\""
        },
        {
         "metadata": "{}",
         "name": "rank",
         "type": "\"integer\""
        }
       ],
       "type": "table"
      }
     },
     "output_type": "display_data"
    }
   ],
   "source": [
    "%sql\n",
    "with cte3 as(\n",
    "  WITH cte1 AS (\n",
    "    SELECT \n",
    "        CONCAT(t1.team_name, ' X ', t2.team_name) AS match,\n",
    "        t1.team_name AS team1,\n",
    "        t2.team_name AS team2,\n",
    "        t1.grp,\n",
    "        FLOOR(RAND() * 5) AS team1_goals,\n",
    "        FLOOR(RAND() * 5) AS team2_goals,\n",
    "        CASE\n",
    "            WHEN team1_goals > team2_goals THEN 3\n",
    "            WHEN team1_goals = team2_goals THEN 1 \n",
    "            ELSE 0\n",
    "        END AS team1_points,\n",
    "        CASE\n",
    "            WHEN team2_goals > team1_goals THEN 3\n",
    "            WHEN team2_goals = team1_goals THEN 1\n",
    "            ELSE 0\n",
    "        END AS team2_points\n",
    "    FROM \n",
    "        euro t1\n",
    "    CROSS JOIN \n",
    "        euro t2 \n",
    "    WHERE \n",
    "        t1.grp = t2.grp \n",
    "        AND t1.team_name > t2.team_name\n",
    "),\n",
    "cte2 AS (\n",
    "    SELECT \n",
    "        team,\n",
    "        grp,\n",
    "        SUM(goals_forward) AS goals_forward,\n",
    "        SUM(goals_against) AS goals_against,\n",
    "        SUM(team1_points) AS pts \n",
    "    FROM (\n",
    "        SELECT  \n",
    "            team1 AS team,\n",
    "            grp,\n",
    "            team1_goals AS goals_forward,\n",
    "            team2_goals AS goals_against,\n",
    "            team1_points \n",
    "        FROM cte1\n",
    "        UNION ALL\n",
    "        SELECT  \n",
    "            team2 AS team,\n",
    "            grp,\n",
    "            team1_goals AS goals_forward,\n",
    "            team2_goals AS goals_against,\n",
    "            team2_points \n",
    "        FROM cte1\n",
    "    ) AS temp\n",
    "    GROUP BY team, grp\n",
    ")\n",
    "SELECT \n",
    "    team, \n",
    "    grp,\n",
    "    goals_forward,\n",
    "    goals_against,\n",
    "    (goals_forward - goals_against) AS gd,\n",
    "    pts,\n",
    "    FLOOR(pts / 3) AS wins,\n",
    "    FLOOR(pts % 3) AS draws,\n",
    "    3 - (FLOOR(pts / 3) + FLOOR(pts % 3)) AS lose,\n",
    "    row_number() OVER(PARTITION BY GRP ORDER BY pts desc,(goals_forward - goals_against) asc) AS  rank\n",
    "FROM \n",
    "    cte2 ORDER BY grp,pts DESC\n",
    "\n",
    ")\n",
    "\n",
    "(select * from cte3 where rank <3) \n",
    "union\n",
    "(select * from cte3 where rank = 3) order by rank,pts desc,gd desc,goals_forward desc limit 16\n",
    "\n"
   ]
  },
  {
   "cell_type": "code",
   "execution_count": 0,
   "metadata": {
    "application/vnd.databricks.v1+cell": {
     "cellMetadata": {
      "byteLimit": 2048000,
      "rowLimit": 10000
     },
     "inputWidgets": {},
     "nuid": "62705c5c-ae60-478d-ae14-c3d72dc91d6b",
     "showTitle": false,
     "title": ""
    }
   },
   "outputs": [
    {
     "output_type": "display_data",
     "data": {
      "text/html": [
       "<style scoped>\n",
       "  .table-result-container {\n",
       "    max-height: 300px;\n",
       "    overflow: auto;\n",
       "  }\n",
       "  table, th, td {\n",
       "    border: 1px solid black;\n",
       "    border-collapse: collapse;\n",
       "  }\n",
       "  th, td {\n",
       "    padding: 5px;\n",
       "  }\n",
       "  th {\n",
       "    text-align: left;\n",
       "  }\n",
       "</style><div class='table-result-container'><table class='table-result'><thead style='background-color: white'><tr><th>num_affected_rows</th><th>num_inserted_rows</th></tr></thead><tbody></tbody></table></div>"
      ]
     },
     "metadata": {
      "application/vnd.databricks.v1+output": {
       "addedWidgets": {},
       "aggData": [],
       "aggError": "",
       "aggOverflow": false,
       "aggSchema": [],
       "aggSeriesLimitReached": false,
       "aggType": "",
       "arguments": {},
       "columnCustomDisplayInfos": {},
       "data": [],
       "datasetInfos": [],
       "dbfsResultPath": null,
       "isJsonSchema": true,
       "metadata": {
        "isDbfsCommandResult": false
       },
       "overflow": false,
       "plotOptions": {
        "customPlotOptions": {},
        "displayType": "table",
        "pivotAggregation": null,
        "pivotColumns": null,
        "xColumns": null,
        "yColumns": null
       },
       "removedWidgets": [],
       "schema": [
        {
         "metadata": "{}",
         "name": "num_affected_rows",
         "type": "\"long\""
        },
        {
         "metadata": "{}",
         "name": "num_inserted_rows",
         "type": "\"long\""
        }
       ],
       "type": "table"
      }
     },
     "output_type": "display_data"
    }
   ],
   "source": [
    "%sql\n",
    "create or replace table group_16 as ((with cte3 as(\n",
    "  WITH cte1 AS (\n",
    "    SELECT \n",
    "        CONCAT(t1.team_name, ' X ', t2.team_name) AS match,\n",
    "        t1.team_name AS team1,\n",
    "        t2.team_name AS team2,\n",
    "        t1.grp,\n",
    "        FLOOR(RAND() * 5) AS team1_goals,\n",
    "        FLOOR(RAND() * 5) AS team2_goals,\n",
    "        CASE\n",
    "            WHEN team1_goals > team2_goals THEN 3\n",
    "            WHEN team1_goals = team2_goals THEN 1 \n",
    "            ELSE 0\n",
    "        END AS team1_points,\n",
    "        CASE\n",
    "            WHEN team2_goals > team1_goals THEN 3\n",
    "            WHEN team2_goals = team1_goals THEN 1\n",
    "            ELSE 0\n",
    "        END AS team2_points\n",
    "    FROM \n",
    "        euro t1\n",
    "    CROSS JOIN \n",
    "        euro t2 \n",
    "    WHERE \n",
    "        t1.grp = t2.grp \n",
    "        AND t1.team_name > t2.team_name\n",
    "),\n",
    "cte2 AS (\n",
    "    SELECT \n",
    "        team,\n",
    "        grp,\n",
    "        SUM(goals_forward) AS goals_forward,\n",
    "        SUM(goals_against) AS goals_against,\n",
    "        SUM(team1_points) AS pts \n",
    "    FROM (\n",
    "        SELECT  \n",
    "            team1 AS team,\n",
    "            grp,\n",
    "            team1_goals AS goals_forward,\n",
    "            team2_goals AS goals_against,\n",
    "            team1_points \n",
    "        FROM cte1\n",
    "        UNION ALL\n",
    "        SELECT  \n",
    "            team2 AS team,\n",
    "            grp,\n",
    "            team1_goals AS goals_forward,\n",
    "            team2_goals AS goals_against,\n",
    "            team2_points \n",
    "        FROM cte1\n",
    "    ) AS temp\n",
    "    GROUP BY team, grp\n",
    ")\n",
    "SELECT \n",
    "    team, \n",
    "    grp,\n",
    "    goals_forward,\n",
    "    goals_against,\n",
    "    (goals_forward - goals_against) AS gd,\n",
    "    pts,\n",
    "    FLOOR(pts / 3) AS wins,\n",
    "    FLOOR(pts % 3) AS draws,\n",
    "    3 - (FLOOR(pts / 3) + FLOOR(pts % 3)) AS lose,\n",
    "    row_number() OVER(PARTITION BY GRP ORDER BY pts desc,(goals_forward - goals_against) asc) AS  rank\n",
    "FROM \n",
    "    cte2 ORDER BY grp,pts DESC\n",
    "\n",
    ")\n",
    "\n",
    "select *,concat(grp,rank) as grp_wise_rank from ((select * from cte3 where rank <3) \n",
    "union\n",
    "(select * from cte3 where rank = 3) order by rank,pts desc,gd desc,goals_forward desc limit 16) order by rank,grp))\n",
    "\n",
    "\n"
   ]
  },
  {
   "cell_type": "code",
   "execution_count": 0,
   "metadata": {
    "application/vnd.databricks.v1+cell": {
     "cellMetadata": {
      "byteLimit": 2048000,
      "rowLimit": 10000
     },
     "inputWidgets": {},
     "nuid": "923ac2e5-7fcd-4c9d-b736-8ef93ce0343a",
     "showTitle": false,
     "title": ""
    }
   },
   "outputs": [
    {
     "output_type": "display_data",
     "data": {
      "text/html": [
       "<style scoped>\n",
       "  .table-result-container {\n",
       "    max-height: 300px;\n",
       "    overflow: auto;\n",
       "  }\n",
       "  table, th, td {\n",
       "    border: 1px solid black;\n",
       "    border-collapse: collapse;\n",
       "  }\n",
       "  th, td {\n",
       "    padding: 5px;\n",
       "  }\n",
       "  th {\n",
       "    text-align: left;\n",
       "  }\n",
       "</style><div class='table-result-container'><table class='table-result'><thead style='background-color: white'><tr><th>team</th><th>grp</th><th>goals_forward</th><th>goals_against</th><th>gd</th><th>pts</th><th>wins</th><th>draws</th><th>lose</th><th>rank</th><th>grp_wise_rank</th></tr></thead><tbody><tr><td>Scotland</td><td>A</td><td>7</td><td>5</td><td>2</td><td>7</td><td>2</td><td>1</td><td>0</td><td>1</td><td>A1</td></tr><tr><td>Albania</td><td>B</td><td>5</td><td>9</td><td>-4</td><td>7</td><td>2</td><td>1</td><td>0</td><td>1</td><td>B1</td></tr><tr><td>England</td><td>C</td><td>3</td><td>5</td><td>-2</td><td>7</td><td>2</td><td>1</td><td>0</td><td>1</td><td>C1</td></tr><tr><td>Austria</td><td>D</td><td>8</td><td>9</td><td>-1</td><td>6</td><td>2</td><td>0</td><td>1</td><td>1</td><td>D1</td></tr><tr><td>Belgium</td><td>E</td><td>5</td><td>14</td><td>-9</td><td>9</td><td>3</td><td>0</td><td>0</td><td>1</td><td>E1</td></tr><tr><td>Czechia</td><td>F</td><td>4</td><td>7</td><td>-3</td><td>6</td><td>2</td><td>0</td><td>1</td><td>1</td><td>F1</td></tr><tr><td>Switzerland</td><td>A</td><td>9</td><td>6</td><td>3</td><td>7</td><td>2</td><td>1</td><td>0</td><td>2</td><td>A2</td></tr><tr><td>Spain</td><td>B</td><td>9</td><td>6</td><td>3</td><td>6</td><td>2</td><td>0</td><td>1</td><td>2</td><td>B2</td></tr><tr><td>Slovenia</td><td>C</td><td>12</td><td>6</td><td>6</td><td>7</td><td>2</td><td>1</td><td>0</td><td>2</td><td>C2</td></tr><tr><td>Poland</td><td>D</td><td>7</td><td>5</td><td>2</td><td>6</td><td>2</td><td>0</td><td>1</td><td>2</td><td>D2</td></tr><tr><td>Romania</td><td>E</td><td>11</td><td>10</td><td>1</td><td>9</td><td>3</td><td>0</td><td>0</td><td>2</td><td>E2</td></tr><tr><td>Portugal</td><td>F</td><td>3</td><td>2</td><td>1</td><td>4</td><td>1</td><td>1</td><td>1</td><td>2</td><td>F2</td></tr><tr><td>Croatia</td><td>B</td><td>3</td><td>9</td><td>-6</td><td>4</td><td>1</td><td>1</td><td>1</td><td>3</td><td>B3</td></tr><tr><td>Austria</td><td>D</td><td>9</td><td>5</td><td>4</td><td>3</td><td>1</td><td>0</td><td>2</td><td>3</td><td>D3</td></tr><tr><td>Slovakia</td><td>E</td><td>9</td><td>6</td><td>3</td><td>5</td><td>1</td><td>2</td><td>0</td><td>3</td><td>E3</td></tr><tr><td>Portugal</td><td>F</td><td>3</td><td>3</td><td>0</td><td>3</td><td>1</td><td>0</td><td>2</td><td>3</td><td>F3</td></tr></tbody></table></div>"
      ]
     },
     "metadata": {
      "application/vnd.databricks.v1+output": {
       "addedWidgets": {},
       "aggData": [],
       "aggError": "",
       "aggOverflow": false,
       "aggSchema": [],
       "aggSeriesLimitReached": false,
       "aggType": "",
       "arguments": {},
       "columnCustomDisplayInfos": {},
       "data": [
        [
         "Scotland",
         "A",
         7,
         5,
         2,
         7,
         2,
         1,
         0,
         1,
         "A1"
        ],
        [
         "Albania",
         "B",
         5,
         9,
         -4,
         7,
         2,
         1,
         0,
         1,
         "B1"
        ],
        [
         "England",
         "C",
         3,
         5,
         -2,
         7,
         2,
         1,
         0,
         1,
         "C1"
        ],
        [
         "Austria",
         "D",
         8,
         9,
         -1,
         6,
         2,
         0,
         1,
         1,
         "D1"
        ],
        [
         "Belgium",
         "E",
         5,
         14,
         -9,
         9,
         3,
         0,
         0,
         1,
         "E1"
        ],
        [
         "Czechia",
         "F",
         4,
         7,
         -3,
         6,
         2,
         0,
         1,
         1,
         "F1"
        ],
        [
         "Switzerland",
         "A",
         9,
         6,
         3,
         7,
         2,
         1,
         0,
         2,
         "A2"
        ],
        [
         "Spain",
         "B",
         9,
         6,
         3,
         6,
         2,
         0,
         1,
         2,
         "B2"
        ],
        [
         "Slovenia",
         "C",
         12,
         6,
         6,
         7,
         2,
         1,
         0,
         2,
         "C2"
        ],
        [
         "Poland",
         "D",
         7,
         5,
         2,
         6,
         2,
         0,
         1,
         2,
         "D2"
        ],
        [
         "Romania",
         "E",
         11,
         10,
         1,
         9,
         3,
         0,
         0,
         2,
         "E2"
        ],
        [
         "Portugal",
         "F",
         3,
         2,
         1,
         4,
         1,
         1,
         1,
         2,
         "F2"
        ],
        [
         "Croatia",
         "B",
         3,
         9,
         -6,
         4,
         1,
         1,
         1,
         3,
         "B3"
        ],
        [
         "Austria",
         "D",
         9,
         5,
         4,
         3,
         1,
         0,
         2,
         3,
         "D3"
        ],
        [
         "Slovakia",
         "E",
         9,
         6,
         3,
         5,
         1,
         2,
         0,
         3,
         "E3"
        ],
        [
         "Portugal",
         "F",
         3,
         3,
         0,
         3,
         1,
         0,
         2,
         3,
         "F3"
        ]
       ],
       "datasetInfos": [],
       "dbfsResultPath": null,
       "isJsonSchema": true,
       "metadata": {
        "isDbfsCommandResult": false
       },
       "overflow": false,
       "plotOptions": {
        "customPlotOptions": {},
        "displayType": "table",
        "pivotAggregation": null,
        "pivotColumns": null,
        "xColumns": null,
        "yColumns": null
       },
       "removedWidgets": [],
       "schema": [
        {
         "metadata": "{\"__CHAR_VARCHAR_TYPE_STRING\":\"varchar(20)\"}",
         "name": "team",
         "type": "\"string\""
        },
        {
         "metadata": "{\"__CHAR_VARCHAR_TYPE_STRING\":\"varchar(1)\"}",
         "name": "grp",
         "type": "\"string\""
        },
        {
         "metadata": "{}",
         "name": "goals_forward",
         "type": "\"long\""
        },
        {
         "metadata": "{}",
         "name": "goals_against",
         "type": "\"long\""
        },
        {
         "metadata": "{}",
         "name": "gd",
         "type": "\"long\""
        },
        {
         "metadata": "{}",
         "name": "pts",
         "type": "\"long\""
        },
        {
         "metadata": "{}",
         "name": "wins",
         "type": "\"long\""
        },
        {
         "metadata": "{}",
         "name": "draws",
         "type": "\"long\""
        },
        {
         "metadata": "{}",
         "name": "lose",
         "type": "\"long\""
        },
        {
         "metadata": "{}",
         "name": "rank",
         "type": "\"integer\""
        },
        {
         "metadata": "{}",
         "name": "grp_wise_rank",
         "type": "\"string\""
        }
       ],
       "type": "table"
      }
     },
     "output_type": "display_data"
    }
   ],
   "source": [
    "%sql\n",
    "select * from group_16 order by rank,grp;"
   ]
  },
  {
   "cell_type": "code",
   "execution_count": 0,
   "metadata": {
    "application/vnd.databricks.v1+cell": {
     "cellMetadata": {
      "byteLimit": 2048000,
      "rowLimit": 10000
     },
     "inputWidgets": {},
     "nuid": "a4a2952b-6961-4722-b1bb-be8ed1dfddd5",
     "showTitle": false,
     "title": ""
    }
   },
   "outputs": [
    {
     "output_type": "display_data",
     "data": {
      "text/html": [
       "<style scoped>\n",
       "  .ansiout {\n",
       "    display: block;\n",
       "    unicode-bidi: embed;\n",
       "    white-space: pre-wrap;\n",
       "    word-wrap: break-word;\n",
       "    word-break: break-all;\n",
       "    font-family: \"Menlo\", \"Monaco\", \"Consolas\", \"Ubuntu Mono\", \"Source Code Pro\", monospace;\n",
       "    font-size: 13px;\n",
       "    color: #555;\n",
       "    margin-left: 4px;\n",
       "    line-height: 19px;\n",
       "  }\n",
       "</style>\n",
       "<div class=\"ansiout\">res1: Boolean = true\n",
       "</div>"
      ]
     },
     "metadata": {
      "application/vnd.databricks.v1+output": {
       "addedWidgets": {},
       "arguments": {},
       "data": "<div class=\"ansiout\">res1: Boolean = true\n</div>",
       "datasetInfos": [],
       "metadata": {
        "isDbfsCommandResult": false
       },
       "removedWidgets": [],
       "type": "html"
      }
     },
     "output_type": "display_data"
    }
   ],
   "source": [
    "%fs\n",
    "rm -r dbfs:/user/hive/warehouse/eurocupfixture"
   ]
  },
  {
   "cell_type": "code",
   "execution_count": 0,
   "metadata": {
    "application/vnd.databricks.v1+cell": {
     "cellMetadata": {
      "byteLimit": 2048000,
      "rowLimit": 10000
     },
     "inputWidgets": {},
     "nuid": "cb1c784b-4ec6-4008-bd70-175204e77ecf",
     "showTitle": false,
     "title": ""
    }
   },
   "outputs": [
    {
     "output_type": "display_data",
     "data": {
      "text/html": [
       "<style scoped>\n",
       "  .table-result-container {\n",
       "    max-height: 300px;\n",
       "    overflow: auto;\n",
       "  }\n",
       "  table, th, td {\n",
       "    border: 1px solid black;\n",
       "    border-collapse: collapse;\n",
       "  }\n",
       "  th, td {\n",
       "    padding: 5px;\n",
       "  }\n",
       "  th {\n",
       "    text-align: left;\n",
       "  }\n",
       "</style><div class='table-result-container'><table class='table-result'><thead style='background-color: white'><tr><th>num_affected_rows</th><th>num_inserted_rows</th></tr></thead><tbody><tr><td>15</td><td>15</td></tr></tbody></table></div>"
      ]
     },
     "metadata": {
      "application/vnd.databricks.v1+output": {
       "addedWidgets": {},
       "aggData": [],
       "aggError": "",
       "aggOverflow": false,
       "aggSchema": [],
       "aggSeriesLimitReached": false,
       "aggType": "",
       "arguments": {},
       "columnCustomDisplayInfos": {},
       "data": [
        [
         15,
         15
        ]
       ],
       "datasetInfos": [],
       "dbfsResultPath": null,
       "isJsonSchema": true,
       "metadata": {
        "isDbfsCommandResult": false
       },
       "overflow": false,
       "plotOptions": {
        "customPlotOptions": {},
        "displayType": "table",
        "pivotAggregation": null,
        "pivotColumns": null,
        "xColumns": null,
        "yColumns": null
       },
       "removedWidgets": [],
       "schema": [
        {
         "metadata": "{}",
         "name": "num_affected_rows",
         "type": "\"long\""
        },
        {
         "metadata": "{}",
         "name": "num_inserted_rows",
         "type": "\"long\""
        }
       ],
       "type": "table"
      }
     },
     "output_type": "display_data"
    }
   ],
   "source": [
    "%sql\n",
    "CREATE TABLE EuroCupFixture (\n",
    "    Qteams VARCHAR(255),\n",
    "    B1 VARCHAR(255),\n",
    "    C1 VARCHAR(255),\n",
    "    E1 VARCHAR(255),\n",
    "    F1 VARCHAR(255)\n",
    ");\n",
    "\n",
    "INSERT INTO EuroCupFixture (QTeams,B1, C1,E1, F1) VALUES\n",
    "('ABCD', 'A3', 'D3', 'B3', 'C3'),\n",
    "('ABCE', 'A3', 'E3', 'B3', 'C3'),\n",
    "('ABCF', 'A3', 'F3', 'B3', 'C3'),\n",
    "('ABDE', 'D3', 'E3', 'A3', 'B3'),\n",
    "('ABDF', 'D3', 'F3', 'A3', 'B3'),\n",
    "('ABEF', 'E3', 'F3', 'B3', 'A3'),\n",
    "('ACDE', 'E3', 'D3', 'C3', 'A3'),\n",
    "('ACDF', 'F3', 'D3', 'C3', 'A3'),\n",
    "('ACEF', 'E3', 'F3', 'C3', 'A3'),\n",
    "('ADEF', 'E3', 'F3', 'D3', 'A3'),\n",
    "('BCDE', 'E3', 'D3', 'B3', 'C3'),\n",
    "('BCDF', 'F3', 'D3', 'C3', 'B3'),\n",
    "('BCEF', 'F3', 'E3', 'C3', 'B3'),\n",
    "('BDEF', 'F3', 'E3', 'D3', 'B3'),\n",
    "('CDEF', 'F3', 'E3', 'D3', 'C3');\n"
   ]
  },
  {
   "cell_type": "code",
   "execution_count": 0,
   "metadata": {
    "application/vnd.databricks.v1+cell": {
     "cellMetadata": {
      "byteLimit": 2048000,
      "rowLimit": 10000
     },
     "inputWidgets": {},
     "nuid": "b79003c6-3873-4e9b-9a3d-06c98f91100e",
     "showTitle": false,
     "title": ""
    }
   },
   "outputs": [
    {
     "output_type": "display_data",
     "data": {
      "text/html": [
       "<style scoped>\n",
       "  .table-result-container {\n",
       "    max-height: 300px;\n",
       "    overflow: auto;\n",
       "  }\n",
       "  table, th, td {\n",
       "    border: 1px solid black;\n",
       "    border-collapse: collapse;\n",
       "  }\n",
       "  th, td {\n",
       "    padding: 5px;\n",
       "  }\n",
       "  th {\n",
       "    text-align: left;\n",
       "  }\n",
       "</style><div class='table-result-container'><table class='table-result'><thead style='background-color: white'><tr><th>Qteams</th><th>B1</th><th>C1</th><th>E1</th><th>F1</th></tr></thead><tbody><tr><td>ABCD</td><td>A3</td><td>D3</td><td>B3</td><td>C3</td></tr><tr><td>ABCE</td><td>A3</td><td>E3</td><td>B3</td><td>C3</td></tr><tr><td>ABCF</td><td>A3</td><td>F3</td><td>B3</td><td>C3</td></tr><tr><td>ABDE</td><td>D3</td><td>E3</td><td>A3</td><td>B3</td></tr><tr><td>ABDF</td><td>D3</td><td>F3</td><td>A3</td><td>B3</td></tr><tr><td>ABEF</td><td>E3</td><td>F3</td><td>B3</td><td>A3</td></tr><tr><td>ACDE</td><td>E3</td><td>D3</td><td>C3</td><td>A3</td></tr><tr><td>ACDF</td><td>F3</td><td>D3</td><td>C3</td><td>A3</td></tr><tr><td>ACEF</td><td>E3</td><td>F3</td><td>C3</td><td>A3</td></tr><tr><td>ADEF</td><td>E3</td><td>F3</td><td>D3</td><td>A3</td></tr><tr><td>BCDE</td><td>E3</td><td>D3</td><td>B3</td><td>C3</td></tr><tr><td>BCDF</td><td>F3</td><td>D3</td><td>C3</td><td>B3</td></tr><tr><td>BCEF</td><td>F3</td><td>E3</td><td>C3</td><td>B3</td></tr><tr><td>BDEF</td><td>F3</td><td>E3</td><td>D3</td><td>B3</td></tr><tr><td>CDEF</td><td>F3</td><td>E3</td><td>D3</td><td>C3</td></tr></tbody></table></div>"
      ]
     },
     "metadata": {
      "application/vnd.databricks.v1+output": {
       "addedWidgets": {},
       "aggData": [],
       "aggError": "",
       "aggOverflow": false,
       "aggSchema": [],
       "aggSeriesLimitReached": false,
       "aggType": "",
       "arguments": {},
       "columnCustomDisplayInfos": {},
       "data": [
        [
         "ABCD",
         "A3",
         "D3",
         "B3",
         "C3"
        ],
        [
         "ABCE",
         "A3",
         "E3",
         "B3",
         "C3"
        ],
        [
         "ABCF",
         "A3",
         "F3",
         "B3",
         "C3"
        ],
        [
         "ABDE",
         "D3",
         "E3",
         "A3",
         "B3"
        ],
        [
         "ABDF",
         "D3",
         "F3",
         "A3",
         "B3"
        ],
        [
         "ABEF",
         "E3",
         "F3",
         "B3",
         "A3"
        ],
        [
         "ACDE",
         "E3",
         "D3",
         "C3",
         "A3"
        ],
        [
         "ACDF",
         "F3",
         "D3",
         "C3",
         "A3"
        ],
        [
         "ACEF",
         "E3",
         "F3",
         "C3",
         "A3"
        ],
        [
         "ADEF",
         "E3",
         "F3",
         "D3",
         "A3"
        ],
        [
         "BCDE",
         "E3",
         "D3",
         "B3",
         "C3"
        ],
        [
         "BCDF",
         "F3",
         "D3",
         "C3",
         "B3"
        ],
        [
         "BCEF",
         "F3",
         "E3",
         "C3",
         "B3"
        ],
        [
         "BDEF",
         "F3",
         "E3",
         "D3",
         "B3"
        ],
        [
         "CDEF",
         "F3",
         "E3",
         "D3",
         "C3"
        ]
       ],
       "datasetInfos": [],
       "dbfsResultPath": null,
       "isJsonSchema": true,
       "metadata": {
        "isDbfsCommandResult": false
       },
       "overflow": false,
       "plotOptions": {
        "customPlotOptions": {},
        "displayType": "table",
        "pivotAggregation": null,
        "pivotColumns": null,
        "xColumns": null,
        "yColumns": null
       },
       "removedWidgets": [],
       "schema": [
        {
         "metadata": "{\"__CHAR_VARCHAR_TYPE_STRING\":\"varchar(255)\"}",
         "name": "Qteams",
         "type": "\"string\""
        },
        {
         "metadata": "{\"__CHAR_VARCHAR_TYPE_STRING\":\"varchar(255)\"}",
         "name": "B1",
         "type": "\"string\""
        },
        {
         "metadata": "{\"__CHAR_VARCHAR_TYPE_STRING\":\"varchar(255)\"}",
         "name": "C1",
         "type": "\"string\""
        },
        {
         "metadata": "{\"__CHAR_VARCHAR_TYPE_STRING\":\"varchar(255)\"}",
         "name": "E1",
         "type": "\"string\""
        },
        {
         "metadata": "{\"__CHAR_VARCHAR_TYPE_STRING\":\"varchar(255)\"}",
         "name": "F1",
         "type": "\"string\""
        }
       ],
       "type": "table"
      }
     },
     "output_type": "display_data"
    }
   ],
   "source": [
    "%sql\n",
    "select * from eurocupfixture"
   ]
  },
  {
   "cell_type": "code",
   "execution_count": 0,
   "metadata": {
    "application/vnd.databricks.v1+cell": {
     "cellMetadata": {
      "byteLimit": 2048000,
      "rowLimit": 10000
     },
     "inputWidgets": {},
     "nuid": "6ee207bf-7679-4358-b2dd-5f28c449de76",
     "showTitle": false,
     "title": ""
    }
   },
   "outputs": [
    {
     "output_type": "display_data",
     "data": {
      "text/html": [
       "<style scoped>\n",
       "  .table-result-container {\n",
       "    max-height: 300px;\n",
       "    overflow: auto;\n",
       "  }\n",
       "  table, th, td {\n",
       "    border: 1px solid black;\n",
       "    border-collapse: collapse;\n",
       "  }\n",
       "  th, td {\n",
       "    padding: 5px;\n",
       "  }\n",
       "  th {\n",
       "    text-align: left;\n",
       "  }\n",
       "</style><div class='table-result-container'><table class='table-result'><thead style='background-color: white'><tr></tr></thead><tbody></tbody></table></div>"
      ]
     },
     "metadata": {
      "application/vnd.databricks.v1+output": {
       "addedWidgets": {},
       "aggData": [],
       "aggError": "",
       "aggOverflow": false,
       "aggSchema": [],
       "aggSeriesLimitReached": false,
       "aggType": "",
       "arguments": {},
       "columnCustomDisplayInfos": {},
       "data": [],
       "datasetInfos": [],
       "dbfsResultPath": null,
       "isJsonSchema": true,
       "metadata": {
        "isDbfsCommandResult": false
       },
       "overflow": false,
       "plotOptions": {
        "customPlotOptions": {},
        "displayType": "table",
        "pivotAggregation": null,
        "pivotColumns": null,
        "xColumns": null,
        "yColumns": null
       },
       "removedWidgets": [],
       "schema": [],
       "type": "table"
      }
     },
     "output_type": "display_data"
    }
   ],
   "source": [
    "%sql\n",
    "create or replace view  third_grp as (SELECT concat_ws('',collect_list(grp)) as third_grp FROM group_16 WHERE rank = 3);\n"
   ]
  },
  {
   "cell_type": "code",
   "execution_count": 0,
   "metadata": {
    "application/vnd.databricks.v1+cell": {
     "cellMetadata": {
      "byteLimit": 2048000,
      "rowLimit": 10000
     },
     "inputWidgets": {},
     "nuid": "aa0a46fd-1f21-484d-8ce6-742801fc5440",
     "showTitle": false,
     "title": ""
    }
   },
   "outputs": [
    {
     "output_type": "display_data",
     "data": {
      "text/html": [
       "<style scoped>\n",
       "  .table-result-container {\n",
       "    max-height: 300px;\n",
       "    overflow: auto;\n",
       "  }\n",
       "  table, th, td {\n",
       "    border: 1px solid black;\n",
       "    border-collapse: collapse;\n",
       "  }\n",
       "  th, td {\n",
       "    padding: 5px;\n",
       "  }\n",
       "  th {\n",
       "    text-align: left;\n",
       "  }\n",
       "</style><div class='table-result-container'><table class='table-result'><thead style='background-color: white'><tr><th>third_grp</th></tr></thead><tbody><tr><td>BDEF</td></tr></tbody></table></div>"
      ]
     },
     "metadata": {
      "application/vnd.databricks.v1+output": {
       "addedWidgets": {},
       "aggData": [],
       "aggError": "",
       "aggOverflow": false,
       "aggSchema": [],
       "aggSeriesLimitReached": false,
       "aggType": "",
       "arguments": {},
       "columnCustomDisplayInfos": {},
       "data": [
        [
         "BDEF"
        ]
       ],
       "datasetInfos": [],
       "dbfsResultPath": null,
       "isJsonSchema": true,
       "metadata": {
        "isDbfsCommandResult": false
       },
       "overflow": false,
       "plotOptions": {
        "customPlotOptions": {},
        "displayType": "table",
        "pivotAggregation": null,
        "pivotColumns": null,
        "xColumns": null,
        "yColumns": null
       },
       "removedWidgets": [],
       "schema": [
        {
         "metadata": "{}",
         "name": "third_grp",
         "type": "\"string\""
        }
       ],
       "type": "table"
      }
     },
     "output_type": "display_data"
    }
   ],
   "source": [
    "%sql\n",
    "select * from third_grp"
   ]
  },
  {
   "cell_type": "code",
   "execution_count": 0,
   "metadata": {
    "application/vnd.databricks.v1+cell": {
     "cellMetadata": {
      "byteLimit": 2048000,
      "rowLimit": 10000
     },
     "inputWidgets": {},
     "nuid": "bc44c785-1eae-4fd7-809f-cb35830f600c",
     "showTitle": false,
     "title": ""
    }
   },
   "outputs": [
    {
     "output_type": "display_data",
     "data": {
      "text/html": [
       "<style scoped>\n",
       "  .table-result-container {\n",
       "    max-height: 300px;\n",
       "    overflow: auto;\n",
       "  }\n",
       "  table, th, td {\n",
       "    border: 1px solid black;\n",
       "    border-collapse: collapse;\n",
       "  }\n",
       "  th, td {\n",
       "    padding: 5px;\n",
       "  }\n",
       "  th {\n",
       "    text-align: left;\n",
       "  }\n",
       "</style><div class='table-result-container'><table class='table-result'><thead style='background-color: white'><tr></tr></thead><tbody></tbody></table></div>"
      ]
     },
     "metadata": {
      "application/vnd.databricks.v1+output": {
       "addedWidgets": {},
       "aggData": [],
       "aggError": "",
       "aggOverflow": false,
       "aggSchema": [],
       "aggSeriesLimitReached": false,
       "aggType": "",
       "arguments": {},
       "columnCustomDisplayInfos": {},
       "data": [],
       "datasetInfos": [],
       "dbfsResultPath": null,
       "isJsonSchema": true,
       "metadata": {
        "isDbfsCommandResult": false
       },
       "overflow": false,
       "plotOptions": {
        "customPlotOptions": {},
        "displayType": "table",
        "pivotAggregation": null,
        "pivotColumns": null,
        "xColumns": null,
        "yColumns": null
       },
       "removedWidgets": [],
       "schema": [],
       "type": "table"
      }
     },
     "output_type": "display_data"
    }
   ],
   "source": [
    "%sql\n",
    "create or replace view third_group_fix as (select * from eurocupfixture where Qteams=(select * from third_grp))"
   ]
  },
  {
   "cell_type": "code",
   "execution_count": 0,
   "metadata": {
    "application/vnd.databricks.v1+cell": {
     "cellMetadata": {
      "byteLimit": 2048000,
      "rowLimit": 10000
     },
     "inputWidgets": {},
     "nuid": "3ffcbc0a-1b09-4d14-abc7-cc689f12771e",
     "showTitle": false,
     "title": ""
    }
   },
   "outputs": [
    {
     "output_type": "display_data",
     "data": {
      "text/html": [
       "<style scoped>\n",
       "  .table-result-container {\n",
       "    max-height: 300px;\n",
       "    overflow: auto;\n",
       "  }\n",
       "  table, th, td {\n",
       "    border: 1px solid black;\n",
       "    border-collapse: collapse;\n",
       "  }\n",
       "  th, td {\n",
       "    padding: 5px;\n",
       "  }\n",
       "  th {\n",
       "    text-align: left;\n",
       "  }\n",
       "</style><div class='table-result-container'><table class='table-result'><thead style='background-color: white'><tr><th>Qteams</th><th>B1</th><th>C1</th><th>E1</th><th>F1</th></tr></thead><tbody><tr><td>BDEF</td><td>F3</td><td>E3</td><td>D3</td><td>B3</td></tr></tbody></table></div>"
      ]
     },
     "metadata": {
      "application/vnd.databricks.v1+output": {
       "addedWidgets": {},
       "aggData": [],
       "aggError": "",
       "aggOverflow": false,
       "aggSchema": [],
       "aggSeriesLimitReached": false,
       "aggType": "",
       "arguments": {},
       "columnCustomDisplayInfos": {},
       "data": [
        [
         "BDEF",
         "F3",
         "E3",
         "D3",
         "B3"
        ]
       ],
       "datasetInfos": [],
       "dbfsResultPath": null,
       "isJsonSchema": true,
       "metadata": {
        "isDbfsCommandResult": false
       },
       "overflow": false,
       "plotOptions": {
        "customPlotOptions": {},
        "displayType": "table",
        "pivotAggregation": null,
        "pivotColumns": null,
        "xColumns": null,
        "yColumns": null
       },
       "removedWidgets": [],
       "schema": [
        {
         "metadata": "{\"__CHAR_VARCHAR_TYPE_STRING\":\"varchar(255)\"}",
         "name": "Qteams",
         "type": "\"string\""
        },
        {
         "metadata": "{\"__CHAR_VARCHAR_TYPE_STRING\":\"varchar(255)\"}",
         "name": "B1",
         "type": "\"string\""
        },
        {
         "metadata": "{\"__CHAR_VARCHAR_TYPE_STRING\":\"varchar(255)\"}",
         "name": "C1",
         "type": "\"string\""
        },
        {
         "metadata": "{\"__CHAR_VARCHAR_TYPE_STRING\":\"varchar(255)\"}",
         "name": "E1",
         "type": "\"string\""
        },
        {
         "metadata": "{\"__CHAR_VARCHAR_TYPE_STRING\":\"varchar(255)\"}",
         "name": "F1",
         "type": "\"string\""
        }
       ],
       "type": "table"
      }
     },
     "output_type": "display_data"
    }
   ],
   "source": [
    "%sql\n",
    "select * from third_group_fix"
   ]
  },
  {
   "cell_type": "code",
   "execution_count": 0,
   "metadata": {
    "application/vnd.databricks.v1+cell": {
     "cellMetadata": {
      "byteLimit": 2048000,
      "rowLimit": 10000
     },
     "inputWidgets": {},
     "nuid": "b50a2038-5525-40c6-bfab-73ae346e778c",
     "showTitle": false,
     "title": ""
    }
   },
   "outputs": [
    {
     "output_type": "display_data",
     "data": {
      "text/html": [
       "<style scoped>\n",
       "  .table-result-container {\n",
       "    max-height: 300px;\n",
       "    overflow: auto;\n",
       "  }\n",
       "  table, th, td {\n",
       "    border: 1px solid black;\n",
       "    border-collapse: collapse;\n",
       "  }\n",
       "  th, td {\n",
       "    padding: 5px;\n",
       "  }\n",
       "  th {\n",
       "    text-align: left;\n",
       "  }\n",
       "</style><div class='table-result-container'><table class='table-result'><thead style='background-color: white'><tr><th>team</th><th>grp_wise_rank</th></tr></thead><tbody><tr><td>Albania</td><td>B1</td></tr><tr><td>Portugal</td><td>F3</td></tr><tr><td>Scotland</td><td>A1</td></tr><tr><td>Slovenia</td><td>C2</td></tr><tr><td>Czechia</td><td>F1</td></tr><tr><td>Croatia</td><td>B3</td></tr><tr><td>Poland</td><td>D2</td></tr><tr><td>Romania</td><td>E2</td></tr><tr><td>Belgium</td><td>E1</td></tr><tr><td>Austria</td><td>D3</td></tr><tr><td>Austria</td><td>D1</td></tr><tr><td>Portugal</td><td>F2</td></tr><tr><td>England</td><td>C1</td></tr><tr><td>Slovakia</td><td>E3</td></tr><tr><td>Switzerland</td><td>A2</td></tr><tr><td>Spain</td><td>B2</td></tr></tbody></table></div>"
      ]
     },
     "metadata": {
      "application/vnd.databricks.v1+output": {
       "addedWidgets": {},
       "aggData": [],
       "aggError": "",
       "aggOverflow": false,
       "aggSchema": [],
       "aggSeriesLimitReached": false,
       "aggType": "",
       "arguments": {},
       "columnCustomDisplayInfos": {},
       "data": [
        [
         "Albania",
         "B1"
        ],
        [
         "Portugal",
         "F3"
        ],
        [
         "Scotland",
         "A1"
        ],
        [
         "Slovenia",
         "C2"
        ],
        [
         "Czechia",
         "F1"
        ],
        [
         "Croatia",
         "B3"
        ],
        [
         "Poland",
         "D2"
        ],
        [
         "Romania",
         "E2"
        ],
        [
         "Belgium",
         "E1"
        ],
        [
         "Austria",
         "D3"
        ],
        [
         "Austria",
         "D1"
        ],
        [
         "Portugal",
         "F2"
        ],
        [
         "England",
         "C1"
        ],
        [
         "Slovakia",
         "E3"
        ],
        [
         "Switzerland",
         "A2"
        ],
        [
         "Spain",
         "B2"
        ]
       ],
       "datasetInfos": [],
       "dbfsResultPath": null,
       "isJsonSchema": true,
       "metadata": {
        "isDbfsCommandResult": false
       },
       "overflow": false,
       "plotOptions": {
        "customPlotOptions": {},
        "displayType": "table",
        "pivotAggregation": null,
        "pivotColumns": null,
        "xColumns": null,
        "yColumns": null
       },
       "removedWidgets": [],
       "schema": [
        {
         "metadata": "{\"__CHAR_VARCHAR_TYPE_STRING\":\"varchar(20)\"}",
         "name": "team",
         "type": "\"string\""
        },
        {
         "metadata": "{}",
         "name": "grp_wise_rank",
         "type": "\"string\""
        }
       ],
       "type": "table"
      }
     },
     "output_type": "display_data"
    }
   ],
   "source": [
    "%sql\n",
    "with cte1 as (select team,grp_wise_rank from group_16 where grp_wise_rank = \"B1\"\n",
    "union all\n",
    "select team,grp_wise_rank from group_16 where grp_wise_rank = (select B1 from third_group_fix)\n",
    "union all \n",
    "select team,grp_wise_rank from group_16 where grp_wise_rank = \"A1\"\n",
    "union all\n",
    "select team,grp_wise_rank from group_16 where grp_wise_rank = \"C2\"\n",
    "union all\n",
    "select team,grp_wise_rank from group_16 where grp_wise_rank = \"F1\"\n",
    "union all\n",
    "select team,grp_wise_rank from group_16 where grp_wise_rank = (select F1 from third_group_fix)\n",
    "union all\n",
    "select team,grp_wise_rank from group_16 where grp_wise_rank = \"D2\"\n",
    "union all\n",
    "select team,grp_wise_rank from group_16 where grp_wise_rank = \"E2\"\n",
    "union all\n",
    "select team,grp_wise_rank from group_16 where grp_wise_rank = \"E1\"\n",
    "union all\n",
    "select team,grp_wise_rank from group_16 where grp_wise_rank = (select E1 from third_group_fix)\n",
    "union all\n",
    "select team,grp_wise_rank from group_16 where grp_wise_rank = \"D1\"\n",
    "union all\n",
    "select team,grp_wise_rank from group_16 where grp_wise_rank = \"F2\"\n",
    "union all\n",
    "select team,grp_wise_rank from group_16 where grp_wise_rank = \"C1\"\n",
    "union all\n",
    "select team,grp_wise_rank from group_16 where grp_wise_rank = (select C1 from third_group_fix)\n",
    "union all\n",
    "select team,grp_wise_rank from group_16 where grp_wise_rank = \"A2\"\n",
    "union all\n",
    "select team,grp_wise_rank from group_16 where grp_wise_rank = \"B2\"\n",
    "\n",
    "\n",
    ")select * from cte1"
   ]
  },
  {
   "cell_type": "code",
   "execution_count": 0,
   "metadata": {
    "application/vnd.databricks.v1+cell": {
     "cellMetadata": {
      "byteLimit": 2048000,
      "rowLimit": 10000
     },
     "inputWidgets": {},
     "nuid": "a869f9fd-8315-49ee-ac85-241e7837ba4d",
     "showTitle": false,
     "title": ""
    }
   },
   "outputs": [
    {
     "output_type": "display_data",
     "data": {
      "text/html": [
       "<style scoped>\n",
       "  .table-result-container {\n",
       "    max-height: 300px;\n",
       "    overflow: auto;\n",
       "  }\n",
       "  table, th, td {\n",
       "    border: 1px solid black;\n",
       "    border-collapse: collapse;\n",
       "  }\n",
       "  th, td {\n",
       "    padding: 5px;\n",
       "  }\n",
       "  th {\n",
       "    text-align: left;\n",
       "  }\n",
       "</style><div class='table-result-container'><table class='table-result'><thead style='background-color: white'><tr><th>team</th><th>grp_wise_rank</th><th>match_no</th></tr></thead><tbody><tr><td>Albania</td><td>B1</td><td>1</td></tr><tr><td>Portugal</td><td>F3</td><td>1</td></tr><tr><td>Scotland</td><td>A1</td><td>2</td></tr><tr><td>Slovenia</td><td>C2</td><td>2</td></tr><tr><td>Czechia</td><td>F1</td><td>3</td></tr><tr><td>Croatia</td><td>B3</td><td>3</td></tr><tr><td>Poland</td><td>D2</td><td>4</td></tr><tr><td>Romania</td><td>E2</td><td>4</td></tr><tr><td>Belgium</td><td>E1</td><td>5</td></tr><tr><td>Austria</td><td>D3</td><td>5</td></tr><tr><td>Austria</td><td>D1</td><td>6</td></tr><tr><td>Portugal</td><td>F2</td><td>6</td></tr><tr><td>England</td><td>C1</td><td>7</td></tr><tr><td>Slovakia</td><td>E3</td><td>7</td></tr><tr><td>Switzerland</td><td>A2</td><td>8</td></tr><tr><td>Spain</td><td>B2</td><td>8</td></tr></tbody></table></div>"
      ]
     },
     "metadata": {
      "application/vnd.databricks.v1+output": {
       "addedWidgets": {},
       "aggData": [],
       "aggError": "",
       "aggOverflow": false,
       "aggSchema": [],
       "aggSeriesLimitReached": false,
       "aggType": "",
       "arguments": {},
       "columnCustomDisplayInfos": {},
       "data": [
        [
         "Albania",
         "B1",
         1
        ],
        [
         "Portugal",
         "F3",
         1
        ],
        [
         "Scotland",
         "A1",
         2
        ],
        [
         "Slovenia",
         "C2",
         2
        ],
        [
         "Czechia",
         "F1",
         3
        ],
        [
         "Croatia",
         "B3",
         3
        ],
        [
         "Poland",
         "D2",
         4
        ],
        [
         "Romania",
         "E2",
         4
        ],
        [
         "Belgium",
         "E1",
         5
        ],
        [
         "Austria",
         "D3",
         5
        ],
        [
         "Austria",
         "D1",
         6
        ],
        [
         "Portugal",
         "F2",
         6
        ],
        [
         "England",
         "C1",
         7
        ],
        [
         "Slovakia",
         "E3",
         7
        ],
        [
         "Switzerland",
         "A2",
         8
        ],
        [
         "Spain",
         "B2",
         8
        ]
       ],
       "datasetInfos": [],
       "dbfsResultPath": null,
       "isJsonSchema": true,
       "metadata": {
        "isDbfsCommandResult": false
       },
       "overflow": false,
       "plotOptions": {
        "customPlotOptions": {},
        "displayType": "table",
        "pivotAggregation": null,
        "pivotColumns": null,
        "xColumns": null,
        "yColumns": null
       },
       "removedWidgets": [],
       "schema": [
        {
         "metadata": "{\"__CHAR_VARCHAR_TYPE_STRING\":\"varchar(20)\"}",
         "name": "team",
         "type": "\"string\""
        },
        {
         "metadata": "{}",
         "name": "grp_wise_rank",
         "type": "\"string\""
        },
        {
         "metadata": "{}",
         "name": "match_no",
         "type": "\"integer\""
        }
       ],
       "type": "table"
      }
     },
     "output_type": "display_data"
    }
   ],
   "source": [
    "%sql\n",
    "with cte1 as (select team,grp_wise_rank from group_16 where grp_wise_rank = \"B1\"\n",
    "union all\n",
    "select team,grp_wise_rank from group_16 where grp_wise_rank = (select B1 from third_group_fix)\n",
    "union all \n",
    "select team,grp_wise_rank from group_16 where grp_wise_rank = \"A1\"\n",
    "union all\n",
    "select team,grp_wise_rank from group_16 where grp_wise_rank = \"C2\"\n",
    "union all\n",
    "select team,grp_wise_rank from group_16 where grp_wise_rank = \"F1\"\n",
    "union all\n",
    "select team,grp_wise_rank from group_16 where grp_wise_rank = (select F1 from third_group_fix)\n",
    "union all\n",
    "select team,grp_wise_rank from group_16 where grp_wise_rank = \"D2\"\n",
    "union all\n",
    "select team,grp_wise_rank from group_16 where grp_wise_rank = \"E2\"\n",
    "union all\n",
    "select team,grp_wise_rank from group_16 where grp_wise_rank = \"E1\"\n",
    "union all\n",
    "select team,grp_wise_rank from group_16 where grp_wise_rank = (select E1 from third_group_fix)\n",
    "union all\n",
    "select team,grp_wise_rank from group_16 where grp_wise_rank = \"D1\"\n",
    "union all\n",
    "select team,grp_wise_rank from group_16 where grp_wise_rank = \"F2\"\n",
    "union all\n",
    "select team,grp_wise_rank from group_16 where grp_wise_rank = \"C1\"\n",
    "union all\n",
    "select team,grp_wise_rank from group_16 where grp_wise_rank = (select C1 from third_group_fix)\n",
    "union all\n",
    "select team,grp_wise_rank from group_16 where grp_wise_rank = \"A2\"\n",
    "union all\n",
    "select team,grp_wise_rank from group_16 where grp_wise_rank = \"B2\"\n",
    "\n",
    "\n",
    ")select *,ntile(8) over(order by (select 0)) as match_no from cte1;"
   ]
  },
  {
   "cell_type": "code",
   "execution_count": 0,
   "metadata": {
    "application/vnd.databricks.v1+cell": {
     "cellMetadata": {
      "byteLimit": 2048000,
      "rowLimit": 10000
     },
     "inputWidgets": {},
     "nuid": "5723d03c-ec9c-402e-8cab-e76c87ef7ded",
     "showTitle": false,
     "title": ""
    }
   },
   "outputs": [
    {
     "output_type": "display_data",
     "data": {
      "text/html": [
       "<style scoped>\n",
       "  .table-result-container {\n",
       "    max-height: 300px;\n",
       "    overflow: auto;\n",
       "  }\n",
       "  table, th, td {\n",
       "    border: 1px solid black;\n",
       "    border-collapse: collapse;\n",
       "  }\n",
       "  th, td {\n",
       "    padding: 5px;\n",
       "  }\n",
       "  th {\n",
       "    text-align: left;\n",
       "  }\n",
       "</style><div class='table-result-container'><table class='table-result'><thead style='background-color: white'><tr><th>team</th><th>grp_wise_rank</th><th>match_no</th><th>rand()</th></tr></thead><tbody><tr><td>Albania</td><td>B1</td><td>1</td><td>0.8982498254074912</td></tr><tr><td>Portugal</td><td>F3</td><td>1</td><td>0.47652525469796336</td></tr><tr><td>Scotland</td><td>A1</td><td>2</td><td>0.8699937014042743</td></tr><tr><td>Slovenia</td><td>C2</td><td>2</td><td>0.42551473677507823</td></tr><tr><td>Czechia</td><td>F1</td><td>3</td><td>0.09067148031781003</td></tr><tr><td>Croatia</td><td>B3</td><td>3</td><td>0.4386617845529325</td></tr><tr><td>Poland</td><td>D2</td><td>4</td><td>0.611732982884625</td></tr><tr><td>Romania</td><td>E2</td><td>4</td><td>0.8427763842415688</td></tr><tr><td>Belgium</td><td>E1</td><td>5</td><td>0.39390781493284444</td></tr><tr><td>Austria</td><td>D3</td><td>5</td><td>0.4422778152011475</td></tr><tr><td>Austria</td><td>D1</td><td>6</td><td>0.7613722824591096</td></tr><tr><td>Portugal</td><td>F2</td><td>6</td><td>0.9000171176576338</td></tr><tr><td>England</td><td>C1</td><td>7</td><td>0.008005350867438032</td></tr><tr><td>Slovakia</td><td>E3</td><td>7</td><td>0.891469723730753</td></tr><tr><td>Switzerland</td><td>A2</td><td>8</td><td>0.3020230717446082</td></tr><tr><td>Spain</td><td>B2</td><td>8</td><td>0.6491295332087543</td></tr></tbody></table></div>"
      ]
     },
     "metadata": {
      "application/vnd.databricks.v1+output": {
       "addedWidgets": {},
       "aggData": [],
       "aggError": "",
       "aggOverflow": false,
       "aggSchema": [],
       "aggSeriesLimitReached": false,
       "aggType": "",
       "arguments": {},
       "columnCustomDisplayInfos": {},
       "data": [
        [
         "Albania",
         "B1",
         1,
         0.8982498254074912
        ],
        [
         "Portugal",
         "F3",
         1,
         0.47652525469796336
        ],
        [
         "Scotland",
         "A1",
         2,
         0.8699937014042743
        ],
        [
         "Slovenia",
         "C2",
         2,
         0.42551473677507823
        ],
        [
         "Czechia",
         "F1",
         3,
         0.09067148031781003
        ],
        [
         "Croatia",
         "B3",
         3,
         0.4386617845529325
        ],
        [
         "Poland",
         "D2",
         4,
         0.611732982884625
        ],
        [
         "Romania",
         "E2",
         4,
         0.8427763842415688
        ],
        [
         "Belgium",
         "E1",
         5,
         0.39390781493284444
        ],
        [
         "Austria",
         "D3",
         5,
         0.4422778152011475
        ],
        [
         "Austria",
         "D1",
         6,
         0.7613722824591096
        ],
        [
         "Portugal",
         "F2",
         6,
         0.9000171176576338
        ],
        [
         "England",
         "C1",
         7,
         0.008005350867438032
        ],
        [
         "Slovakia",
         "E3",
         7,
         0.891469723730753
        ],
        [
         "Switzerland",
         "A2",
         8,
         0.3020230717446082
        ],
        [
         "Spain",
         "B2",
         8,
         0.6491295332087543
        ]
       ],
       "datasetInfos": [],
       "dbfsResultPath": null,
       "isJsonSchema": true,
       "metadata": {
        "isDbfsCommandResult": false
       },
       "overflow": false,
       "plotOptions": {
        "customPlotOptions": {},
        "displayType": "table",
        "pivotAggregation": null,
        "pivotColumns": null,
        "xColumns": null,
        "yColumns": null
       },
       "removedWidgets": [],
       "schema": [
        {
         "metadata": "{\"__CHAR_VARCHAR_TYPE_STRING\":\"varchar(20)\"}",
         "name": "team",
         "type": "\"string\""
        },
        {
         "metadata": "{}",
         "name": "grp_wise_rank",
         "type": "\"string\""
        },
        {
         "metadata": "{}",
         "name": "match_no",
         "type": "\"integer\""
        },
        {
         "metadata": "{\"__autoGeneratedAlias\":\"true\"}",
         "name": "rand()",
         "type": "\"double\""
        }
       ],
       "type": "table"
      }
     },
     "output_type": "display_data"
    }
   ],
   "source": [
    "%sql\n",
    "with cte2 as (with cte1 as (select team,grp_wise_rank from group_16 where grp_wise_rank = \"B1\"\n",
    "union all\n",
    "select team,grp_wise_rank from group_16 where grp_wise_rank = (select B1 from third_group_fix)\n",
    "union all \n",
    "select team,grp_wise_rank from group_16 where grp_wise_rank = \"A1\"\n",
    "union all\n",
    "select team,grp_wise_rank from group_16 where grp_wise_rank = \"C2\"\n",
    "union all\n",
    "select team,grp_wise_rank from group_16 where grp_wise_rank = \"F1\"\n",
    "union all\n",
    "select team,grp_wise_rank from group_16 where grp_wise_rank = (select F1 from third_group_fix)\n",
    "union all\n",
    "select team,grp_wise_rank from group_16 where grp_wise_rank = \"D2\"\n",
    "union all\n",
    "select team,grp_wise_rank from group_16 where grp_wise_rank = \"E2\"\n",
    "union all\n",
    "select team,grp_wise_rank from group_16 where grp_wise_rank = \"E1\"\n",
    "union all\n",
    "select team,grp_wise_rank from group_16 where grp_wise_rank = (select E1 from third_group_fix)\n",
    "union all\n",
    "select team,grp_wise_rank from group_16 where grp_wise_rank = \"D1\"\n",
    "union all\n",
    "select team,grp_wise_rank from group_16 where grp_wise_rank = \"F2\"\n",
    "union all\n",
    "select team,grp_wise_rank from group_16 where grp_wise_rank = \"C1\"\n",
    "union all\n",
    "select team,grp_wise_rank from group_16 where grp_wise_rank = (select C1 from third_group_fix)\n",
    "union all\n",
    "select team,grp_wise_rank from group_16 where grp_wise_rank = \"A2\"\n",
    "union all\n",
    "select team,grp_wise_rank from group_16 where grp_wise_rank = \"B2\"\n",
    "\n",
    "\n",
    ")select *,ntile(8) over(order by (select 0)) as match_no from cte1)\n",
    "\n",
    "select *,rand() from cte2\n"
   ]
  },
  {
   "cell_type": "code",
   "execution_count": 0,
   "metadata": {
    "application/vnd.databricks.v1+cell": {
     "cellMetadata": {
      "byteLimit": 2048000,
      "rowLimit": 10000
     },
     "inputWidgets": {},
     "nuid": "ffa64da4-fe35-488d-92a7-56f6c9bbd586",
     "showTitle": false,
     "title": ""
    }
   },
   "outputs": [
    {
     "output_type": "display_data",
     "data": {
      "text/html": [
       "<style scoped>\n",
       "  .table-result-container {\n",
       "    max-height: 300px;\n",
       "    overflow: auto;\n",
       "  }\n",
       "  table, th, td {\n",
       "    border: 1px solid black;\n",
       "    border-collapse: collapse;\n",
       "  }\n",
       "  th, td {\n",
       "    padding: 5px;\n",
       "  }\n",
       "  th {\n",
       "    text-align: left;\n",
       "  }\n",
       "</style><div class='table-result-container'><table class='table-result'><thead style='background-color: white'><tr><th>team</th><th>grp_wise_rank</th><th>match_no</th><th>rand</th><th>next_rand</th></tr></thead><tbody><tr><td>Albania</td><td>B1</td><td>1</td><td>0.9458654021168325</td><td>0.7992570063564063</td></tr><tr><td>Portugal</td><td>F3</td><td>1</td><td>0.7992570063564063</td><td>0.9458654021168325</td></tr><tr><td>Scotland</td><td>A1</td><td>2</td><td>0.8418645243518852</td><td>0.8388043427755678</td></tr><tr><td>Slovenia</td><td>C2</td><td>2</td><td>0.8388043427755678</td><td>0.8418645243518852</td></tr><tr><td>Czechia</td><td>F1</td><td>3</td><td>0.5993937004192601</td><td>0.8875693633080284</td></tr><tr><td>Croatia</td><td>B3</td><td>3</td><td>0.8875693633080284</td><td>0.5993937004192601</td></tr><tr><td>Poland</td><td>D2</td><td>4</td><td>0.05951478403041177</td><td>0.3895613576649405</td></tr><tr><td>Romania</td><td>E2</td><td>4</td><td>0.3895613576649405</td><td>0.05951478403041177</td></tr><tr><td>Belgium</td><td>E1</td><td>5</td><td>0.02389260179491992</td><td>0.21305594265362415</td></tr><tr><td>Austria</td><td>D3</td><td>5</td><td>0.21305594265362415</td><td>0.02389260179491992</td></tr><tr><td>Austria</td><td>D1</td><td>6</td><td>0.9722702755165358</td><td>0.3867071012639677</td></tr><tr><td>Portugal</td><td>F2</td><td>6</td><td>0.3867071012639677</td><td>0.9722702755165358</td></tr><tr><td>England</td><td>C1</td><td>7</td><td>0.08269734364461845</td><td>0.579195686865233</td></tr><tr><td>Slovakia</td><td>E3</td><td>7</td><td>0.579195686865233</td><td>0.08269734364461845</td></tr><tr><td>Switzerland</td><td>A2</td><td>8</td><td>0.4734445335885228</td><td>0.2145430719746424</td></tr><tr><td>Spain</td><td>B2</td><td>8</td><td>0.2145430719746424</td><td>0.4734445335885228</td></tr></tbody></table></div>"
      ]
     },
     "metadata": {
      "application/vnd.databricks.v1+output": {
       "addedWidgets": {},
       "aggData": [],
       "aggError": "",
       "aggOverflow": false,
       "aggSchema": [],
       "aggSeriesLimitReached": false,
       "aggType": "",
       "arguments": {},
       "columnCustomDisplayInfos": {},
       "data": [
        [
         "Albania",
         "B1",
         1,
         0.9458654021168325,
         0.7992570063564063
        ],
        [
         "Portugal",
         "F3",
         1,
         0.7992570063564063,
         0.9458654021168325
        ],
        [
         "Scotland",
         "A1",
         2,
         0.8418645243518852,
         0.8388043427755678
        ],
        [
         "Slovenia",
         "C2",
         2,
         0.8388043427755678,
         0.8418645243518852
        ],
        [
         "Czechia",
         "F1",
         3,
         0.5993937004192601,
         0.8875693633080284
        ],
        [
         "Croatia",
         "B3",
         3,
         0.8875693633080284,
         0.5993937004192601
        ],
        [
         "Poland",
         "D2",
         4,
         0.05951478403041177,
         0.3895613576649405
        ],
        [
         "Romania",
         "E2",
         4,
         0.3895613576649405,
         0.05951478403041177
        ],
        [
         "Belgium",
         "E1",
         5,
         0.02389260179491992,
         0.21305594265362415
        ],
        [
         "Austria",
         "D3",
         5,
         0.21305594265362415,
         0.02389260179491992
        ],
        [
         "Austria",
         "D1",
         6,
         0.9722702755165358,
         0.3867071012639677
        ],
        [
         "Portugal",
         "F2",
         6,
         0.3867071012639677,
         0.9722702755165358
        ],
        [
         "England",
         "C1",
         7,
         0.08269734364461845,
         0.579195686865233
        ],
        [
         "Slovakia",
         "E3",
         7,
         0.579195686865233,
         0.08269734364461845
        ],
        [
         "Switzerland",
         "A2",
         8,
         0.4734445335885228,
         0.2145430719746424
        ],
        [
         "Spain",
         "B2",
         8,
         0.2145430719746424,
         0.4734445335885228
        ]
       ],
       "datasetInfos": [],
       "dbfsResultPath": null,
       "isJsonSchema": true,
       "metadata": {
        "isDbfsCommandResult": false
       },
       "overflow": false,
       "plotOptions": {
        "customPlotOptions": {},
        "displayType": "table",
        "pivotAggregation": null,
        "pivotColumns": null,
        "xColumns": null,
        "yColumns": null
       },
       "removedWidgets": [],
       "schema": [
        {
         "metadata": "{\"__CHAR_VARCHAR_TYPE_STRING\":\"varchar(20)\"}",
         "name": "team",
         "type": "\"string\""
        },
        {
         "metadata": "{}",
         "name": "grp_wise_rank",
         "type": "\"string\""
        },
        {
         "metadata": "{}",
         "name": "match_no",
         "type": "\"integer\""
        },
        {
         "metadata": "{}",
         "name": "rand",
         "type": "\"double\""
        },
        {
         "metadata": "{}",
         "name": "next_rand",
         "type": "\"double\""
        }
       ],
       "type": "table"
      }
     },
     "output_type": "display_data"
    }
   ],
   "source": [
    "%sql\n",
    "with cte2 as (with cte1 as (select team,grp_wise_rank from group_16 where grp_wise_rank = \"B1\"\n",
    "union all\n",
    "select team,grp_wise_rank from group_16 where grp_wise_rank = (select B1 from third_group_fix)\n",
    "union all \n",
    "select team,grp_wise_rank from group_16 where grp_wise_rank = \"A1\"\n",
    "union all\n",
    "select team,grp_wise_rank from group_16 where grp_wise_rank = \"C2\"\n",
    "union all\n",
    "select team,grp_wise_rank from group_16 where grp_wise_rank = \"F1\"\n",
    "union all\n",
    "select team,grp_wise_rank from group_16 where grp_wise_rank = (select F1 from third_group_fix)\n",
    "union all\n",
    "select team,grp_wise_rank from group_16 where grp_wise_rank = \"D2\"\n",
    "union all\n",
    "select team,grp_wise_rank from group_16 where grp_wise_rank = \"E2\"\n",
    "union all\n",
    "select team,grp_wise_rank from group_16 where grp_wise_rank = \"E1\"\n",
    "union all\n",
    "select team,grp_wise_rank from group_16 where grp_wise_rank = (select E1 from third_group_fix)\n",
    "union all\n",
    "select team,grp_wise_rank from group_16 where grp_wise_rank = \"D1\"\n",
    "union all\n",
    "select team,grp_wise_rank from group_16 where grp_wise_rank = \"F2\"\n",
    "union all\n",
    "select team,grp_wise_rank from group_16 where grp_wise_rank = \"C1\"\n",
    "union all\n",
    "select team,grp_wise_rank from group_16 where grp_wise_rank = (select C1 from third_group_fix)\n",
    "union all\n",
    "select team,grp_wise_rank from group_16 where grp_wise_rank = \"A2\"\n",
    "union all\n",
    "select team,grp_wise_rank from group_16 where grp_wise_rank = \"B2\"\n",
    "\n",
    "\n",
    ")select *,ntile(8) over(order by (select 0)) as match_no,rand() as rand  from cte1)\n",
    "\n",
    "SELECT \n",
    "    *,\n",
    "    LEAD(rand, 1, LAG(rand, 1) OVER (PARTITION BY match_no ORDER BY match_no)) \n",
    "        OVER (PARTITION BY match_no ORDER BY match_no) AS next_rand\n",
    "FROM \n",
    "    cte2;\n",
    "\n"
   ]
  },
  {
   "cell_type": "code",
   "execution_count": 0,
   "metadata": {
    "application/vnd.databricks.v1+cell": {
     "cellMetadata": {
      "byteLimit": 2048000,
      "rowLimit": 10000
     },
     "inputWidgets": {},
     "nuid": "9381566e-6e98-4b32-85d7-33d6e443991e",
     "showTitle": false,
     "title": ""
    }
   },
   "outputs": [
    {
     "output_type": "display_data",
     "data": {
      "text/html": [
       "<style scoped>\n",
       "  .table-result-container {\n",
       "    max-height: 300px;\n",
       "    overflow: auto;\n",
       "  }\n",
       "  table, th, td {\n",
       "    border: 1px solid black;\n",
       "    border-collapse: collapse;\n",
       "  }\n",
       "  th, td {\n",
       "    padding: 5px;\n",
       "  }\n",
       "  th {\n",
       "    text-align: left;\n",
       "  }\n",
       "</style><div class='table-result-container'><table class='table-result'><thead style='background-color: white'><tr><th>num_affected_rows</th><th>num_inserted_rows</th></tr></thead><tbody></tbody></table></div>"
      ]
     },
     "metadata": {
      "application/vnd.databricks.v1+output": {
       "addedWidgets": {},
       "aggData": [],
       "aggError": "",
       "aggOverflow": false,
       "aggSchema": [],
       "aggSeriesLimitReached": false,
       "aggType": "",
       "arguments": {},
       "columnCustomDisplayInfos": {},
       "data": [],
       "datasetInfos": [],
       "dbfsResultPath": null,
       "isJsonSchema": true,
       "metadata": {
        "isDbfsCommandResult": false
       },
       "overflow": false,
       "plotOptions": {
        "customPlotOptions": {},
        "displayType": "table",
        "pivotAggregation": null,
        "pivotColumns": null,
        "xColumns": null,
        "yColumns": null
       },
       "removedWidgets": [],
       "schema": [
        {
         "metadata": "{}",
         "name": "num_affected_rows",
         "type": "\"long\""
        },
        {
         "metadata": "{}",
         "name": "num_inserted_rows",
         "type": "\"long\""
        }
       ],
       "type": "table"
      }
     },
     "output_type": "display_data"
    }
   ],
   "source": [
    "%sql\n",
    "create or replace table round16_result as(\n",
    "with cte3 as(\n",
    "with cte2 as (with cte1 as (select team,grp_wise_rank from group_16 where grp_wise_rank = \"B1\"\n",
    "union all\n",
    "select team,grp_wise_rank from group_16 where grp_wise_rank = (select B1 from third_group_fix)\n",
    "union all \n",
    "select team,grp_wise_rank from group_16 where grp_wise_rank = \"A1\"\n",
    "union all\n",
    "select team,grp_wise_rank from group_16 where grp_wise_rank = \"C2\"\n",
    "union all\n",
    "select team,grp_wise_rank from group_16 where grp_wise_rank = \"F1\"\n",
    "union all\n",
    "select team,grp_wise_rank from group_16 where grp_wise_rank = (select F1 from third_group_fix)\n",
    "union all\n",
    "select team,grp_wise_rank from group_16 where grp_wise_rank = \"D2\"\n",
    "union all\n",
    "select team,grp_wise_rank from group_16 where grp_wise_rank = \"E2\"\n",
    "union all\n",
    "select team,grp_wise_rank from group_16 where grp_wise_rank = \"E1\"\n",
    "union all\n",
    "select team,grp_wise_rank from group_16 where grp_wise_rank = (select E1 from third_group_fix)\n",
    "union all\n",
    "select team,grp_wise_rank from group_16 where grp_wise_rank = \"D1\"\n",
    "union all\n",
    "select team,grp_wise_rank from group_16 where grp_wise_rank = \"F2\"\n",
    "union all\n",
    "select team,grp_wise_rank from group_16 where grp_wise_rank = \"C1\"\n",
    "union all\n",
    "select team,grp_wise_rank from group_16 where grp_wise_rank = (select C1 from third_group_fix)\n",
    "union all\n",
    "select team,grp_wise_rank from group_16 where grp_wise_rank = \"A2\"\n",
    "union all\n",
    "select team,grp_wise_rank from group_16 where grp_wise_rank = \"B2\"\n",
    "\n",
    "\n",
    ")select *,ntile(8) over(order by (select 0)) as match_no,rand() as rand  from cte1)\n",
    "\n",
    "SELECT \n",
    "    *,\n",
    "    LEAD(rand, 1, LAG(rand, 1) OVER (PARTITION BY match_no ORDER BY match_no)) \n",
    "        OVER (PARTITION BY match_no ORDER BY match_no) AS next_rand\n",
    "FROM \n",
    "    cte2\n",
    "\n",
    ") select *, \n",
    "case\n",
    "    when rand > next_rand then \"win\"\n",
    "    when rand < next_rand then \"lose\"\n",
    "end as result from cte3)\n",
    "\n"
   ]
  },
  {
   "cell_type": "code",
   "execution_count": 0,
   "metadata": {
    "application/vnd.databricks.v1+cell": {
     "cellMetadata": {
      "byteLimit": 2048000,
      "rowLimit": 10000
     },
     "inputWidgets": {},
     "nuid": "e69c6dd0-99fc-404c-9ded-9bfa0aa811c1",
     "showTitle": false,
     "title": ""
    }
   },
   "outputs": [
    {
     "output_type": "display_data",
     "data": {
      "text/html": [
       "<style scoped>\n",
       "  .table-result-container {\n",
       "    max-height: 300px;\n",
       "    overflow: auto;\n",
       "  }\n",
       "  table, th, td {\n",
       "    border: 1px solid black;\n",
       "    border-collapse: collapse;\n",
       "  }\n",
       "  th, td {\n",
       "    padding: 5px;\n",
       "  }\n",
       "  th {\n",
       "    text-align: left;\n",
       "  }\n",
       "</style><div class='table-result-container'><table class='table-result'><thead style='background-color: white'><tr><th>team</th><th>grp_wise_rank</th><th>match_no</th><th>rand</th><th>next_rand</th><th>result</th></tr></thead><tbody><tr><td>Albania</td><td>B1</td><td>1</td><td>0.9401903009144282</td><td>0.7782476004464558</td><td>win</td></tr><tr><td>Portugal</td><td>F3</td><td>1</td><td>0.7782476004464558</td><td>0.9401903009144282</td><td>lose</td></tr><tr><td>Scotland</td><td>A1</td><td>2</td><td>0.6115132543428442</td><td>0.105157782631349</td><td>win</td></tr><tr><td>Slovenia</td><td>C2</td><td>2</td><td>0.105157782631349</td><td>0.6115132543428442</td><td>lose</td></tr><tr><td>Czechia</td><td>F1</td><td>3</td><td>0.700889231154397</td><td>0.006898908987940655</td><td>win</td></tr><tr><td>Croatia</td><td>B3</td><td>3</td><td>0.006898908987940655</td><td>0.700889231154397</td><td>lose</td></tr><tr><td>Poland</td><td>D2</td><td>4</td><td>0.3188960795742851</td><td>0.8125518464763534</td><td>lose</td></tr><tr><td>Romania</td><td>E2</td><td>4</td><td>0.8125518464763534</td><td>0.3188960795742851</td><td>win</td></tr><tr><td>Belgium</td><td>E1</td><td>5</td><td>0.1068345497768215</td><td>0.6007611383943818</td><td>lose</td></tr><tr><td>Austria</td><td>D3</td><td>5</td><td>0.6007611383943818</td><td>0.1068345497768215</td><td>win</td></tr><tr><td>Austria</td><td>D1</td><td>6</td><td>0.6525940023395096</td><td>0.7085721492986611</td><td>lose</td></tr><tr><td>Portugal</td><td>F2</td><td>6</td><td>0.7085721492986611</td><td>0.6525940023395096</td><td>win</td></tr><tr><td>England</td><td>C1</td><td>7</td><td>0.1438136357966805</td><td>0.11953066625904596</td><td>win</td></tr><tr><td>Slovakia</td><td>E3</td><td>7</td><td>0.11953066625904596</td><td>0.1438136357966805</td><td>lose</td></tr><tr><td>Switzerland</td><td>A2</td><td>8</td><td>0.4449974561245956</td><td>0.6373081005865912</td><td>lose</td></tr><tr><td>Spain</td><td>B2</td><td>8</td><td>0.6373081005865912</td><td>0.4449974561245956</td><td>win</td></tr></tbody></table></div>"
      ]
     },
     "metadata": {
      "application/vnd.databricks.v1+output": {
       "addedWidgets": {},
       "aggData": [],
       "aggError": "",
       "aggOverflow": false,
       "aggSchema": [],
       "aggSeriesLimitReached": false,
       "aggType": "",
       "arguments": {},
       "columnCustomDisplayInfos": {},
       "data": [
        [
         "Albania",
         "B1",
         1,
         0.9401903009144282,
         0.7782476004464558,
         "win"
        ],
        [
         "Portugal",
         "F3",
         1,
         0.7782476004464558,
         0.9401903009144282,
         "lose"
        ],
        [
         "Scotland",
         "A1",
         2,
         0.6115132543428442,
         0.105157782631349,
         "win"
        ],
        [
         "Slovenia",
         "C2",
         2,
         0.105157782631349,
         0.6115132543428442,
         "lose"
        ],
        [
         "Czechia",
         "F1",
         3,
         0.700889231154397,
         0.006898908987940655,
         "win"
        ],
        [
         "Croatia",
         "B3",
         3,
         0.006898908987940655,
         0.700889231154397,
         "lose"
        ],
        [
         "Poland",
         "D2",
         4,
         0.3188960795742851,
         0.8125518464763534,
         "lose"
        ],
        [
         "Romania",
         "E2",
         4,
         0.8125518464763534,
         0.3188960795742851,
         "win"
        ],
        [
         "Belgium",
         "E1",
         5,
         0.1068345497768215,
         0.6007611383943818,
         "lose"
        ],
        [
         "Austria",
         "D3",
         5,
         0.6007611383943818,
         0.1068345497768215,
         "win"
        ],
        [
         "Austria",
         "D1",
         6,
         0.6525940023395096,
         0.7085721492986611,
         "lose"
        ],
        [
         "Portugal",
         "F2",
         6,
         0.7085721492986611,
         0.6525940023395096,
         "win"
        ],
        [
         "England",
         "C1",
         7,
         0.1438136357966805,
         0.11953066625904596,
         "win"
        ],
        [
         "Slovakia",
         "E3",
         7,
         0.11953066625904596,
         0.1438136357966805,
         "lose"
        ],
        [
         "Switzerland",
         "A2",
         8,
         0.4449974561245956,
         0.6373081005865912,
         "lose"
        ],
        [
         "Spain",
         "B2",
         8,
         0.6373081005865912,
         0.4449974561245956,
         "win"
        ]
       ],
       "datasetInfos": [],
       "dbfsResultPath": null,
       "isJsonSchema": true,
       "metadata": {
        "isDbfsCommandResult": false
       },
       "overflow": false,
       "plotOptions": {
        "customPlotOptions": {},
        "displayType": "table",
        "pivotAggregation": null,
        "pivotColumns": null,
        "xColumns": null,
        "yColumns": null
       },
       "removedWidgets": [],
       "schema": [
        {
         "metadata": "{\"__CHAR_VARCHAR_TYPE_STRING\":\"varchar(20)\"}",
         "name": "team",
         "type": "\"string\""
        },
        {
         "metadata": "{}",
         "name": "grp_wise_rank",
         "type": "\"string\""
        },
        {
         "metadata": "{}",
         "name": "match_no",
         "type": "\"integer\""
        },
        {
         "metadata": "{}",
         "name": "rand",
         "type": "\"double\""
        },
        {
         "metadata": "{}",
         "name": "next_rand",
         "type": "\"double\""
        },
        {
         "metadata": "{}",
         "name": "result",
         "type": "\"string\""
        }
       ],
       "type": "table"
      }
     },
     "output_type": "display_data"
    }
   ],
   "source": [
    "%sql\n",
    "select * from round16_result;\n"
   ]
  },
  {
   "cell_type": "code",
   "execution_count": 0,
   "metadata": {
    "application/vnd.databricks.v1+cell": {
     "cellMetadata": {
      "byteLimit": 2048000,
      "rowLimit": 10000
     },
     "inputWidgets": {},
     "nuid": "67238ed1-7abc-4976-b79d-4822fff040c2",
     "showTitle": false,
     "title": ""
    }
   },
   "outputs": [
    {
     "output_type": "display_data",
     "data": {
      "text/html": [
       "<style scoped>\n",
       "  .table-result-container {\n",
       "    max-height: 300px;\n",
       "    overflow: auto;\n",
       "  }\n",
       "  table, th, td {\n",
       "    border: 1px solid black;\n",
       "    border-collapse: collapse;\n",
       "  }\n",
       "  th, td {\n",
       "    padding: 5px;\n",
       "  }\n",
       "  th {\n",
       "    text-align: left;\n",
       "  }\n",
       "</style><div class='table-result-container'><table class='table-result'><thead style='background-color: white'><tr><th>team</th><th>grp_wise_rank</th><th>match_no</th><th>rand</th><th>result</th></tr></thead><tbody><tr><td>Albania</td><td>B1</td><td>1</td><td>0.502697024509794</td><td>win</td></tr><tr><td>Scotland</td><td>A1</td><td>1</td><td>0.48892698708131677</td><td>lose</td></tr><tr><td>Czechia</td><td>F1</td><td>2</td><td>0.5500775541073525</td><td>lose</td></tr><tr><td>Romania</td><td>E2</td><td>2</td><td>0.6937941500008531</td><td>win</td></tr><tr><td>Austria</td><td>D3</td><td>3</td><td>0.13697784819708592</td><td>lose</td></tr><tr><td>Portugal</td><td>F2</td><td>3</td><td>0.39234598009803767</td><td>win</td></tr><tr><td>England</td><td>C1</td><td>4</td><td>0.1647332290759741</td><td>lose</td></tr><tr><td>Spain</td><td>B2</td><td>4</td><td>0.7117782221057908</td><td>win</td></tr></tbody></table></div>"
      ]
     },
     "metadata": {
      "application/vnd.databricks.v1+output": {
       "addedWidgets": {},
       "aggData": [],
       "aggError": "",
       "aggOverflow": false,
       "aggSchema": [],
       "aggSeriesLimitReached": false,
       "aggType": "",
       "arguments": {},
       "columnCustomDisplayInfos": {},
       "data": [
        [
         "Albania",
         "B1",
         1,
         0.502697024509794,
         "win"
        ],
        [
         "Scotland",
         "A1",
         1,
         0.48892698708131677,
         "lose"
        ],
        [
         "Czechia",
         "F1",
         2,
         0.5500775541073525,
         "lose"
        ],
        [
         "Romania",
         "E2",
         2,
         0.6937941500008531,
         "win"
        ],
        [
         "Austria",
         "D3",
         3,
         0.13697784819708592,
         "lose"
        ],
        [
         "Portugal",
         "F2",
         3,
         0.39234598009803767,
         "win"
        ],
        [
         "England",
         "C1",
         4,
         0.1647332290759741,
         "lose"
        ],
        [
         "Spain",
         "B2",
         4,
         0.7117782221057908,
         "win"
        ]
       ],
       "datasetInfos": [],
       "dbfsResultPath": null,
       "isJsonSchema": true,
       "metadata": {
        "isDbfsCommandResult": false
       },
       "overflow": false,
       "plotOptions": {
        "customPlotOptions": {},
        "displayType": "table",
        "pivotAggregation": null,
        "pivotColumns": null,
        "xColumns": null,
        "yColumns": null
       },
       "removedWidgets": [],
       "schema": [
        {
         "metadata": "{\"__CHAR_VARCHAR_TYPE_STRING\":\"varchar(20)\"}",
         "name": "team",
         "type": "\"string\""
        },
        {
         "metadata": "{}",
         "name": "grp_wise_rank",
         "type": "\"string\""
        },
        {
         "metadata": "{}",
         "name": "match_no",
         "type": "\"integer\""
        },
        {
         "metadata": "{}",
         "name": "rand",
         "type": "\"double\""
        },
        {
         "metadata": "{}",
         "name": "result",
         "type": "\"string\""
        }
       ],
       "type": "table"
      }
     },
     "output_type": "display_data"
    }
   ],
   "source": [
    "%sql\n",
    "with quarter_final_results as (with quarter_finals as( select team,grp_wise_rank,ntile(4) over(order by (select 0)) as match_no,rand() as rand   from round16_result where result=\"win\")\n",
    "select * from quarter_finals)\n",
    "select * , \n",
    "case\n",
    "when rand>lead(rand,1,lag(rand,1) over(partition by match_no order by match_no) ) over(partition by match_no order by match_no) then \"win\"\n",
    "else \"lose\"\n",
    "end as result from quarter_final_results"
   ]
  },
  {
   "cell_type": "code",
   "execution_count": 0,
   "metadata": {
    "application/vnd.databricks.v1+cell": {
     "cellMetadata": {
      "byteLimit": 2048000,
      "rowLimit": 10000
     },
     "inputWidgets": {},
     "nuid": "25daa2d7-f63b-4ce9-ba8f-7f83f271e912",
     "showTitle": false,
     "title": ""
    }
   },
   "outputs": [
    {
     "output_type": "display_data",
     "data": {
      "text/html": [
       "<style scoped>\n",
       "  .table-result-container {\n",
       "    max-height: 300px;\n",
       "    overflow: auto;\n",
       "  }\n",
       "  table, th, td {\n",
       "    border: 1px solid black;\n",
       "    border-collapse: collapse;\n",
       "  }\n",
       "  th, td {\n",
       "    padding: 5px;\n",
       "  }\n",
       "  th {\n",
       "    text-align: left;\n",
       "  }\n",
       "</style><div class='table-result-container'><table class='table-result'><thead style='background-color: white'><tr><th>team</th><th>grp_wise_rank</th><th>match_no</th><th>rand</th></tr></thead><tbody><tr><td>Scotland</td><td>A1</td><td>1</td><td>0.687893120261882</td></tr><tr><td>Romania</td><td>E2</td><td>2</td><td>0.8733079206209842</td></tr><tr><td>Portugal</td><td>F2</td><td>3</td><td>0.1421749482259671</td></tr><tr><td>England</td><td>C1</td><td>4</td><td>0.28780498659885456</td></tr></tbody></table></div>"
      ]
     },
     "metadata": {
      "application/vnd.databricks.v1+output": {
       "addedWidgets": {},
       "aggData": [],
       "aggError": "",
       "aggOverflow": false,
       "aggSchema": [],
       "aggSeriesLimitReached": false,
       "aggType": "",
       "arguments": {},
       "columnCustomDisplayInfos": {},
       "data": [
        [
         "Scotland",
         "A1",
         1,
         0.687893120261882
        ],
        [
         "Romania",
         "E2",
         2,
         0.8733079206209842
        ],
        [
         "Portugal",
         "F2",
         3,
         0.1421749482259671
        ],
        [
         "England",
         "C1",
         4,
         0.28780498659885456
        ]
       ],
       "datasetInfos": [],
       "dbfsResultPath": null,
       "isJsonSchema": true,
       "metadata": {
        "isDbfsCommandResult": false
       },
       "overflow": false,
       "plotOptions": {
        "customPlotOptions": {},
        "displayType": "table",
        "pivotAggregation": null,
        "pivotColumns": null,
        "xColumns": null,
        "yColumns": null
       },
       "removedWidgets": [],
       "schema": [
        {
         "metadata": "{\"__CHAR_VARCHAR_TYPE_STRING\":\"varchar(20)\"}",
         "name": "team",
         "type": "\"string\""
        },
        {
         "metadata": "{}",
         "name": "grp_wise_rank",
         "type": "\"string\""
        },
        {
         "metadata": "{}",
         "name": "match_no",
         "type": "\"integer\""
        },
        {
         "metadata": "{}",
         "name": "rand",
         "type": "\"double\""
        }
       ],
       "type": "table"
      }
     },
     "output_type": "display_data"
    }
   ],
   "source": [
    "%sql\n",
    "with semi_finals as (with quarter_final_results as (with quarter_finals as( select team,grp_wise_rank,ntile(4) over(order by (select 0)) as match_no,rand() as rand   from round16_result where result=\"win\")\n",
    "select * from quarter_finals)\n",
    "select * , \n",
    "case\n",
    "when rand>lead(rand,1,lag(rand,1) over(partition by match_no order by match_no) ) over(partition by match_no order by match_no) then \"win\"\n",
    "else \"lose\"\n",
    "end as result from quarter_final_results)\n",
    "\n",
    "\n",
    "select team,grp_wise_rank, ntile(4) over(order by (select 0)) as match_no,rand() as rand from semi_finals where result=\"win\"\n"
   ]
  },
  {
   "cell_type": "code",
   "execution_count": 0,
   "metadata": {
    "application/vnd.databricks.v1+cell": {
     "cellMetadata": {
      "byteLimit": 2048000,
      "rowLimit": 10000
     },
     "inputWidgets": {},
     "nuid": "b0614bf2-7bbe-4fcc-b084-c6b246672201",
     "showTitle": false,
     "title": ""
    }
   },
   "outputs": [
    {
     "output_type": "display_data",
     "data": {
      "text/html": [
       "<style scoped>\n",
       "  .table-result-container {\n",
       "    max-height: 300px;\n",
       "    overflow: auto;\n",
       "  }\n",
       "  table, th, td {\n",
       "    border: 1px solid black;\n",
       "    border-collapse: collapse;\n",
       "  }\n",
       "  th, td {\n",
       "    padding: 5px;\n",
       "  }\n",
       "  th {\n",
       "    text-align: left;\n",
       "  }\n",
       "</style><div class='table-result-container'><table class='table-result'><thead style='background-color: white'><tr><th>team</th><th>grp_wise_rank</th><th>match_no</th><th>rand</th><th>result</th></tr></thead><tbody><tr><td>Scotland</td><td>A1</td><td>1</td><td>0.6723347852046977</td><td>win</td></tr><tr><td>Romania</td><td>E2</td><td>1</td><td>0.1513441105683322</td><td>lose</td></tr><tr><td>Austria</td><td>D3</td><td>2</td><td>0.8700336104462315</td><td>win</td></tr><tr><td>England</td><td>C1</td><td>2</td><td>0.5986344001166054</td><td>lose</td></tr></tbody></table></div>"
      ]
     },
     "metadata": {
      "application/vnd.databricks.v1+output": {
       "addedWidgets": {},
       "aggData": [],
       "aggError": "",
       "aggOverflow": false,
       "aggSchema": [],
       "aggSeriesLimitReached": false,
       "aggType": "",
       "arguments": {},
       "columnCustomDisplayInfos": {},
       "data": [
        [
         "Scotland",
         "A1",
         1,
         0.6723347852046977,
         "win"
        ],
        [
         "Romania",
         "E2",
         1,
         0.1513441105683322,
         "lose"
        ],
        [
         "Austria",
         "D3",
         2,
         0.8700336104462315,
         "win"
        ],
        [
         "England",
         "C1",
         2,
         0.5986344001166054,
         "lose"
        ]
       ],
       "datasetInfos": [],
       "dbfsResultPath": null,
       "isJsonSchema": true,
       "metadata": {
        "isDbfsCommandResult": false
       },
       "overflow": false,
       "plotOptions": {
        "customPlotOptions": {},
        "displayType": "table",
        "pivotAggregation": null,
        "pivotColumns": null,
        "xColumns": null,
        "yColumns": null
       },
       "removedWidgets": [],
       "schema": [
        {
         "metadata": "{\"__CHAR_VARCHAR_TYPE_STRING\":\"varchar(20)\"}",
         "name": "team",
         "type": "\"string\""
        },
        {
         "metadata": "{}",
         "name": "grp_wise_rank",
         "type": "\"string\""
        },
        {
         "metadata": "{}",
         "name": "match_no",
         "type": "\"integer\""
        },
        {
         "metadata": "{}",
         "name": "rand",
         "type": "\"double\""
        },
        {
         "metadata": "{}",
         "name": "result",
         "type": "\"string\""
        }
       ],
       "type": "table"
      }
     },
     "output_type": "display_data"
    }
   ],
   "source": [
    "%sql\n",
    "with quarter_finals_result as (with semi_finals as (with quarter_final_results as (with quarter_finals as( select team,grp_wise_rank,ntile(4) over(order by (select 0)) as match_no,rand() as rand   from round16_result where result=\"win\")\n",
    "select * from quarter_finals)\n",
    "select * , \n",
    "case\n",
    "when rand>lead(rand,1,lag(rand,1) over(partition by match_no order by match_no) ) over(partition by match_no order by match_no) then \"win\"\n",
    "else \"lose\"\n",
    "end as result from quarter_final_results)\n",
    "\n",
    "\n",
    "select team,grp_wise_rank, ntile(2) over(order by (select 0)) as match_no,rand() as rand from semi_finals where result=\"win\")\n",
    "\n",
    "select *,case\n",
    "when rand>lead(rand,1,lag(rand,1) over(partition by match_no order by match_no) ) over(partition by match_no order by match_no) then \"win\"\n",
    "else \"lose\"\n",
    "end as result from quarter_finals_result"
   ]
  },
  {
   "cell_type": "code",
   "execution_count": 0,
   "metadata": {
    "application/vnd.databricks.v1+cell": {
     "cellMetadata": {
      "byteLimit": 2048000,
      "rowLimit": 10000
     },
     "inputWidgets": {},
     "nuid": "0929cc82-2cbf-45ec-8c49-f65425e1d35e",
     "showTitle": false,
     "title": ""
    }
   },
   "outputs": [
    {
     "output_type": "display_data",
     "data": {
      "text/html": [
       "<style scoped>\n",
       "  .table-result-container {\n",
       "    max-height: 300px;\n",
       "    overflow: auto;\n",
       "  }\n",
       "  table, th, td {\n",
       "    border: 1px solid black;\n",
       "    border-collapse: collapse;\n",
       "  }\n",
       "  th, td {\n",
       "    padding: 5px;\n",
       "  }\n",
       "  th {\n",
       "    text-align: left;\n",
       "  }\n",
       "</style><div class='table-result-container'><table class='table-result'><thead style='background-color: white'><tr><th>team</th></tr></thead><tbody><tr><td>Albania</td></tr><tr><td>Spain</td></tr></tbody></table></div>"
      ]
     },
     "metadata": {
      "application/vnd.databricks.v1+output": {
       "addedWidgets": {},
       "aggData": [],
       "aggError": "",
       "aggOverflow": false,
       "aggSchema": [],
       "aggSeriesLimitReached": false,
       "aggType": "",
       "arguments": {},
       "columnCustomDisplayInfos": {},
       "data": [
        [
         "Albania"
        ],
        [
         "Spain"
        ]
       ],
       "datasetInfos": [],
       "dbfsResultPath": null,
       "isJsonSchema": true,
       "metadata": {
        "isDbfsCommandResult": false
       },
       "overflow": false,
       "plotOptions": {
        "customPlotOptions": {},
        "displayType": "table",
        "pivotAggregation": null,
        "pivotColumns": null,
        "xColumns": null,
        "yColumns": null
       },
       "removedWidgets": [],
       "schema": [
        {
         "metadata": "{\"__CHAR_VARCHAR_TYPE_STRING\":\"varchar(20)\"}",
         "name": "team",
         "type": "\"string\""
        }
       ],
       "type": "table"
      }
     },
     "output_type": "display_data"
    }
   ],
   "source": [
    "%sql\n",
    "with finals as (\n",
    "  with quarter_finals_result as (with semi_finals as (with quarter_final_results as (with quarter_finals as( select team,grp_wise_rank,ntile(4) over(order by (select 0)) as match_no,rand() as rand   from round16_result where result=\"win\")\n",
    "select * from quarter_finals)\n",
    "select * , \n",
    "case\n",
    "when rand>lead(rand,1,lag(rand,1) over(partition by match_no order by match_no) ) over(partition by match_no order by match_no) then \"win\"\n",
    "else \"lose\"\n",
    "end as result from quarter_final_results)\n",
    "\n",
    "\n",
    "select team,grp_wise_rank, ntile(2) over(order by (select 0)) as match_no,rand() as rand from semi_finals where result=\"win\")\n",
    "\n",
    "select *,case\n",
    "when rand>lead(rand,1,lag(rand,1) over(partition by match_no order by match_no) ) over(partition by match_no order by match_no) then \"win\"\n",
    "else \"lose\"\n",
    "end as result from quarter_finals_result\n",
    ")\n",
    "\n",
    "select team from finals  where result = \"win\";"
   ]
  },
  {
   "cell_type": "code",
   "execution_count": 0,
   "metadata": {
    "application/vnd.databricks.v1+cell": {
     "cellMetadata": {
      "byteLimit": 2048000,
      "rowLimit": 10000
     },
     "inputWidgets": {},
     "nuid": "22cf7efd-8708-42b3-82d3-3ff06a9d44b9",
     "showTitle": false,
     "title": ""
    }
   },
   "outputs": [
    {
     "output_type": "display_data",
     "data": {
      "text/html": [
       "<style scoped>\n",
       "  .table-result-container {\n",
       "    max-height: 300px;\n",
       "    overflow: auto;\n",
       "  }\n",
       "  table, th, td {\n",
       "    border: 1px solid black;\n",
       "    border-collapse: collapse;\n",
       "  }\n",
       "  th, td {\n",
       "    padding: 5px;\n",
       "  }\n",
       "  th {\n",
       "    text-align: left;\n",
       "  }\n",
       "</style><div class='table-result-container'><table class='table-result'><thead style='background-color: white'><tr><th>team</th><th>score</th><th>match_no</th><th>result</th></tr></thead><tbody><tr><td>Czechia</td><td>0.11916448543355462</td><td>1</td><td>lose</td></tr><tr><td>Austria</td><td>0.5527283831148252</td><td>1</td><td>win</td></tr></tbody></table></div>"
      ]
     },
     "metadata": {
      "application/vnd.databricks.v1+output": {
       "addedWidgets": {},
       "aggData": [],
       "aggError": "",
       "aggOverflow": false,
       "aggSchema": [],
       "aggSeriesLimitReached": false,
       "aggType": "",
       "arguments": {},
       "columnCustomDisplayInfos": {},
       "data": [
        [
         "Czechia",
         0.11916448543355462,
         1,
         "lose"
        ],
        [
         "Austria",
         0.5527283831148252,
         1,
         "win"
        ]
       ],
       "datasetInfos": [],
       "dbfsResultPath": null,
       "isJsonSchema": true,
       "metadata": {
        "isDbfsCommandResult": false
       },
       "overflow": false,
       "plotOptions": {
        "customPlotOptions": {},
        "displayType": "table",
        "pivotAggregation": null,
        "pivotColumns": null,
        "xColumns": null,
        "yColumns": null
       },
       "removedWidgets": [],
       "schema": [
        {
         "metadata": "{\"__CHAR_VARCHAR_TYPE_STRING\":\"varchar(20)\"}",
         "name": "team",
         "type": "\"string\""
        },
        {
         "metadata": "{}",
         "name": "score",
         "type": "\"double\""
        },
        {
         "metadata": "{}",
         "name": "match_no",
         "type": "\"integer\""
        },
        {
         "metadata": "{}",
         "name": "result",
         "type": "\"string\""
        }
       ],
       "type": "table"
      }
     },
     "output_type": "display_data"
    }
   ],
   "source": [
    "%sql\n",
    "with winner as (with finals as (\n",
    "  with quarter_finals_result as (with semi_finals as (with quarter_final_results as (with quarter_finals as( select team,grp_wise_rank,ntile(4) over(order by (select 0)) as match_no,rand() as rand   from round16_result where result=\"win\")\n",
    "select * from quarter_finals)\n",
    "select * , \n",
    "case\n",
    "when rand>lead(rand,1,lag(rand,1) over(partition by match_no order by match_no) ) over(partition by match_no order by match_no) then \"win\"\n",
    "else \"lose\"\n",
    "end as result from quarter_final_results)\n",
    "\n",
    "\n",
    "select team,grp_wise_rank, ntile(2) over(order by (select 0)) as match_no,rand() as rand from semi_finals where result=\"win\")\n",
    "\n",
    "select *,case\n",
    "when rand>lead(rand,1,lag(rand,1) over(partition by match_no order by match_no) ) over(partition by match_no order by match_no) then \"win\"\n",
    "else \"lose\"\n",
    "end as result from quarter_finals_result\n",
    ")\n",
    "\n",
    "select team,rand() as score,ntile(1) over(order by (select 0))as match_no from finals  where result = \"win\")\n",
    "\n",
    "select *,\n",
    "case\n",
    "when score>lead(score,1,lag(score,1) over(partition by match_no order by match_no) ) over(partition by match_no order by match_no) then \"win\"\n",
    "else \"lose\"\n",
    "end as result from winner;"
   ]
  },
  {
   "cell_type": "code",
   "execution_count": 0,
   "metadata": {
    "application/vnd.databricks.v1+cell": {
     "cellMetadata": {
      "byteLimit": 2048000,
      "rowLimit": 10000
     },
     "inputWidgets": {},
     "nuid": "4bd5b714-3421-4be5-ac83-cdcc9b15d4c4",
     "showTitle": false,
     "title": ""
    }
   },
   "outputs": [
    {
     "output_type": "display_data",
     "data": {
      "text/html": [
       "<style scoped>\n",
       "  .table-result-container {\n",
       "    max-height: 300px;\n",
       "    overflow: auto;\n",
       "  }\n",
       "  table, th, td {\n",
       "    border: 1px solid black;\n",
       "    border-collapse: collapse;\n",
       "  }\n",
       "  th, td {\n",
       "    padding: 5px;\n",
       "  }\n",
       "  th {\n",
       "    text-align: left;\n",
       "  }\n",
       "</style><div class='table-result-container'><table class='table-result'><thead style='background-color: white'><tr><th>WINNER</th></tr></thead><tbody><tr><td>Scotland</td></tr></tbody></table></div>"
      ]
     },
     "metadata": {
      "application/vnd.databricks.v1+output": {
       "addedWidgets": {},
       "aggData": [],
       "aggError": "",
       "aggOverflow": false,
       "aggSchema": [],
       "aggSeriesLimitReached": false,
       "aggType": "",
       "arguments": {},
       "columnCustomDisplayInfos": {},
       "data": [
        [
         "Scotland"
        ]
       ],
       "datasetInfos": [],
       "dbfsResultPath": null,
       "isJsonSchema": true,
       "metadata": {
        "isDbfsCommandResult": false
       },
       "overflow": false,
       "plotOptions": {
        "customPlotOptions": {},
        "displayType": "table",
        "pivotAggregation": null,
        "pivotColumns": null,
        "xColumns": null,
        "yColumns": null
       },
       "removedWidgets": [],
       "schema": [
        {
         "metadata": "{\"__CHAR_VARCHAR_TYPE_STRING\":\"varchar(20)\"}",
         "name": "WINNER",
         "type": "\"string\""
        }
       ],
       "type": "table"
      }
     },
     "output_type": "display_data"
    }
   ],
   "source": [
    "%sql\n",
    "with finalist as (with winner as (with finals as (\n",
    "  with quarter_finals_result as (with semi_finals as (with quarter_final_results as (with quarter_finals as( select team,grp_wise_rank,ntile(4) over(order by (select 0)) as match_no,rand() as rand   from round16_result where result=\"win\")\n",
    "select * from quarter_finals)\n",
    "select * , \n",
    "case\n",
    "when rand>lead(rand,1,lag(rand,1) over(partition by match_no order by match_no) ) over(partition by match_no order by match_no) then \"win\"\n",
    "else \"lose\"\n",
    "end as result from quarter_final_results)\n",
    "\n",
    "\n",
    "select team,grp_wise_rank, ntile(2) over(order by (select 0)) as match_no,rand() as rand from semi_finals where result=\"win\")\n",
    "\n",
    "select *,case\n",
    "when rand>lead(rand,1,lag(rand,1) over(partition by match_no order by match_no) ) over(partition by match_no order by match_no) then \"win\"\n",
    "else \"lose\"\n",
    "end as result from quarter_finals_result\n",
    ")\n",
    "\n",
    "select team,rand() as score,ntile(1) over(order by (select 0))as match_no from finals  where result = \"win\")\n",
    "\n",
    "select *,\n",
    "case\n",
    "when score>lead(score,1,lag(score,1) over(partition by match_no order by match_no) ) over(partition by match_no order by match_no) then \"win\"\n",
    "else \"lose\"\n",
    "end as result from winner)\n",
    "select team as WINNER from finalist where result=\"win\""
   ]
  },
  {
   "cell_type": "code",
   "execution_count": 0,
   "metadata": {
    "application/vnd.databricks.v1+cell": {
     "cellMetadata": {
      "byteLimit": 2048000,
      "rowLimit": 10000
     },
     "inputWidgets": {},
     "nuid": "a8b105f1-f2ad-4104-92d0-a5f4962caa32",
     "showTitle": false,
     "title": ""
    }
   },
   "outputs": [],
   "source": []
  }
 ],
 "metadata": {
  "application/vnd.databricks.v1+notebook": {
   "dashboards": [],
   "language": "python",
   "notebookMetadata": {
    "mostRecentlyExecutedCommandWithImplicitDF": {
     "commandId": 46426343887311,
     "dataframes": [
      "_sqldf"
     ]
    },
    "pythonIndentUnit": 4
   },
   "notebookName": "EURO CUP Updated",
   "widgets": {}
  }
 },
 "nbformat": 4,
 "nbformat_minor": 0
}
