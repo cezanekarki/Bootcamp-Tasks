{
 "cells": [
  {
   "cell_type": "code",
   "execution_count": 0,
   "metadata": {
    "application/vnd.databricks.v1+cell": {
     "cellMetadata": {
      "byteLimit": 2048000,
      "rowLimit": 10000
     },
     "inputWidgets": {},
     "nuid": "3defb87f-19dd-46c0-ae5d-fba5362878f1",
     "showTitle": false,
     "title": ""
    }
   },
   "outputs": [],
   "source": []
  },
  {
   "cell_type": "code",
   "execution_count": 0,
   "metadata": {
    "application/vnd.databricks.v1+cell": {
     "cellMetadata": {
      "byteLimit": 2048000,
      "rowLimit": 10000
     },
     "inputWidgets": {},
     "nuid": "3b03350c-b083-416c-95ce-7b92f8ea1c11",
     "showTitle": false,
     "title": ""
    }
   },
   "outputs": [
    {
     "output_type": "display_data",
     "data": {
      "text/html": [
       "\n",
       "            <div>\n",
       "                <p><b>SparkSession - hive</b></p>\n",
       "                \n",
       "        <div>\n",
       "            <p><b>SparkContext</b></p>\n",
       "\n",
       "            <p><a href=\"/?o=8631742630468123#setting/sparkui/0212-072824-hldsal22/driver-6370838919664094881\">Spark UI</a></p>\n",
       "\n",
       "            <dl>\n",
       "              <dt>Version</dt>\n",
       "                <dd><code>v3.3.2</code></dd>\n",
       "              <dt>Master</dt>\n",
       "                <dd><code>local[8]</code></dd>\n",
       "              <dt>AppName</dt>\n",
       "                <dd><code>Databricks Shell</code></dd>\n",
       "            </dl>\n",
       "        </div>\n",
       "        \n",
       "            </div>\n",
       "        "
      ]
     },
     "metadata": {
      "application/vnd.databricks.v1+output": {
       "addedWidgets": {},
       "arguments": {},
       "data": "\n            <div>\n                <p><b>SparkSession - hive</b></p>\n                \n        <div>\n            <p><b>SparkContext</b></p>\n\n            <p><a href=\"/?o=8631742630468123#setting/sparkui/0212-072824-hldsal22/driver-6370838919664094881\">Spark UI</a></p>\n\n            <dl>\n              <dt>Version</dt>\n                <dd><code>v3.3.2</code></dd>\n              <dt>Master</dt>\n                <dd><code>local[8]</code></dd>\n              <dt>AppName</dt>\n                <dd><code>Databricks Shell</code></dd>\n            </dl>\n        </div>\n        \n            </div>\n        ",
       "datasetInfos": [],
       "metadata": {},
       "removedWidgets": [],
       "textData": null,
       "type": "htmlSandbox"
      }
     },
     "output_type": "display_data"
    }
   ],
   "source": [
    "from pyspark.sql import SparkSession\n",
    "\n",
    "spark = SparkSession.builder.getOrCreate()\n",
    "spark\n",
    "\n",
    "\n"
   ]
  },
  {
   "cell_type": "code",
   "execution_count": 0,
   "metadata": {
    "application/vnd.databricks.v1+cell": {
     "cellMetadata": {
      "byteLimit": 2048000,
      "rowLimit": 10000
     },
     "inputWidgets": {},
     "nuid": "8cfb9ec1-dfdc-4fb1-8f08-3dd0803695f8",
     "showTitle": false,
     "title": ""
    }
   },
   "outputs": [
    {
     "output_type": "display_data",
     "data": {
      "text/html": [
       "<style scoped>\n",
       "  .table-result-container {\n",
       "    max-height: 300px;\n",
       "    overflow: auto;\n",
       "  }\n",
       "  table, th, td {\n",
       "    border: 1px solid black;\n",
       "    border-collapse: collapse;\n",
       "  }\n",
       "  th, td {\n",
       "    padding: 5px;\n",
       "  }\n",
       "  th {\n",
       "    text-align: left;\n",
       "  }\n",
       "</style><div class='table-result-container'><table class='table-result'><thead style='background-color: white'><tr><th>path</th><th>name</th><th>size</th><th>modificationTime</th></tr></thead><tbody><tr><td>dbfs:/FileStore/tables/csv/</td><td>csv/</td><td>0</td><td>0</td></tr><tr><td>dbfs:/FileStore/tables/json/</td><td>json/</td><td>0</td><td>0</td></tr><tr><td>dbfs:/FileStore/tables/parquet/</td><td>parquet/</td><td>0</td><td>0</td></tr></tbody></table></div>"
      ]
     },
     "metadata": {
      "application/vnd.databricks.v1+output": {
       "addedWidgets": {},
       "aggData": [],
       "aggError": "",
       "aggOverflow": false,
       "aggSchema": [],
       "aggSeriesLimitReached": false,
       "aggType": "",
       "arguments": {},
       "columnCustomDisplayInfos": {},
       "data": [
        [
         "dbfs:/FileStore/tables/csv/",
         "csv/",
         0,
         0
        ],
        [
         "dbfs:/FileStore/tables/json/",
         "json/",
         0,
         0
        ],
        [
         "dbfs:/FileStore/tables/parquet/",
         "parquet/",
         0,
         0
        ]
       ],
       "datasetInfos": [],
       "dbfsResultPath": null,
       "isJsonSchema": true,
       "metadata": {
        "isDbfsCommandResult": false
       },
       "overflow": false,
       "plotOptions": {
        "customPlotOptions": {},
        "displayType": "table",
        "pivotAggregation": null,
        "pivotColumns": null,
        "xColumns": null,
        "yColumns": null
       },
       "removedWidgets": [],
       "schema": [
        {
         "metadata": "{}",
         "name": "path",
         "type": "\"string\""
        },
        {
         "metadata": "{}",
         "name": "name",
         "type": "\"string\""
        },
        {
         "metadata": "{}",
         "name": "size",
         "type": "\"long\""
        },
        {
         "metadata": "{}",
         "name": "modificationTime",
         "type": "\"long\""
        }
       ],
       "type": "table"
      }
     },
     "output_type": "display_data"
    }
   ],
   "source": [
    "%fs ls dbfs:///FileStore/tables/"
   ]
  },
  {
   "cell_type": "code",
   "execution_count": 0,
   "metadata": {
    "application/vnd.databricks.v1+cell": {
     "cellMetadata": {
      "byteLimit": 2048000,
      "rowLimit": 10000
     },
     "inputWidgets": {},
     "nuid": "598f0c7b-7842-4990-8a65-7843096bbb02",
     "showTitle": false,
     "title": ""
    }
   },
   "outputs": [],
   "source": [
    "df_csv = spark.read.format(\"csv\").option('header' , True).load(\"dbfs:/FileStore/tables/csv/batch.csv\")"
   ]
  },
  {
   "cell_type": "code",
   "execution_count": 0,
   "metadata": {
    "application/vnd.databricks.v1+cell": {
     "cellMetadata": {
      "byteLimit": 2048000,
      "rowLimit": 10000
     },
     "inputWidgets": {},
     "nuid": "039aceda-3f40-4d01-afcc-24841eb9c42a",
     "showTitle": false,
     "title": ""
    }
   },
   "outputs": [
    {
     "output_type": "stream",
     "name": "stdout",
     "output_type": "stream",
     "text": [
      "root\n |-- id: string (nullable = true)\n |-- name: string (nullable = true)\n |-- dob: string (nullable = true)\n |-- age: string (nullable = true)\n |-- salary: string (nullable = true)\n |-- department: string (nullable = true)\n\n"
     ]
    }
   ],
   "source": [
    "df_csv.printSchema()"
   ]
  },
  {
   "cell_type": "code",
   "execution_count": 0,
   "metadata": {
    "application/vnd.databricks.v1+cell": {
     "cellMetadata": {
      "byteLimit": 2048000,
      "rowLimit": 10000
     },
     "inputWidgets": {},
     "nuid": "27d83158-ce28-40c3-93ad-a8695fa71a6e",
     "showTitle": false,
     "title": ""
    }
   },
   "outputs": [],
   "source": [
    "from pyspark.sql.types import StructType, StructField, StringType, IntegerType, DoubleType, DateType\n"
   ]
  },
  {
   "cell_type": "code",
   "execution_count": 0,
   "metadata": {
    "application/vnd.databricks.v1+cell": {
     "cellMetadata": {
      "byteLimit": 2048000,
      "rowLimit": 10000
     },
     "inputWidgets": {},
     "nuid": "b98405a8-f016-47cf-b344-beb407ad9f86",
     "showTitle": false,
     "title": ""
    }
   },
   "outputs": [],
   "source": [
    "schema = StructType([\n",
    "    StructField(\"id\", IntegerType()),\n",
    "    StructField(\"name\", StringType()),\n",
    "    StructField(\"dob\", DateType()),\n",
    "    StructField(\"age\", IntegerType()),\n",
    "    StructField(\"salary\", IntegerType()),\n",
    "    StructField(\"department\", StringType()),\n",
    "])"
   ]
  },
  {
   "cell_type": "code",
   "execution_count": 0,
   "metadata": {
    "application/vnd.databricks.v1+cell": {
     "cellMetadata": {
      "byteLimit": 2048000,
      "rowLimit": 10000
     },
     "inputWidgets": {},
     "nuid": "f2d3753e-ddde-4799-a4a0-c6bb8beb8487",
     "showTitle": false,
     "title": ""
    }
   },
   "outputs": [],
   "source": [
    "from pyspark.sql.functions import col"
   ]
  },
  {
   "cell_type": "code",
   "execution_count": 0,
   "metadata": {
    "application/vnd.databricks.v1+cell": {
     "cellMetadata": {
      "byteLimit": 2048000,
      "rowLimit": 10000
     },
     "inputWidgets": {},
     "nuid": "32dd8535-d9e3-4920-83eb-362b723f14f2",
     "showTitle": false,
     "title": ""
    }
   },
   "outputs": [],
   "source": [
    "df1 = df_csv.select(\n",
    "    col(\"id\").cast(IntegerType()),\n",
    "    col(\"name\").cast(StringType()),\n",
    "    col(\"dob\").cast(DateType()),\n",
    "    col(\"age\").cast(IntegerType()),\n",
    "    col(\"salary\").cast(IntegerType()),\n",
    "    col(\"department\").cast(StringType())\n",
    ")\n"
   ]
  },
  {
   "cell_type": "code",
   "execution_count": 0,
   "metadata": {
    "application/vnd.databricks.v1+cell": {
     "cellMetadata": {
      "byteLimit": 2048000,
      "rowLimit": 10000
     },
     "inputWidgets": {},
     "nuid": "890d4d9e-6fa2-481c-b9f7-c8bce2281d57",
     "showTitle": false,
     "title": ""
    }
   },
   "outputs": [],
   "source": [
    "df2 = df_json.select(\n",
    "    col('id').cast(IntegerType()),\n",
    "    col(\"name\").cast(StringType()),\n",
    "    col(\"dob\").cast(DateType()),\n",
    "    col(\"age\").cast(IntegerType()),\n",
    "    col(\"salary\").cast(IntegerType()),\n",
    "    col(\"department\").cast(StringType())\n",
    ")"
   ]
  },
  {
   "cell_type": "code",
   "execution_count": 0,
   "metadata": {
    "application/vnd.databricks.v1+cell": {
     "cellMetadata": {
      "byteLimit": 2048000,
      "rowLimit": 10000
     },
     "inputWidgets": {},
     "nuid": "d64cc3b4-5ca9-4f9f-b3c1-95b57ff84ed4",
     "showTitle": false,
     "title": ""
    }
   },
   "outputs": [
    {
     "output_type": "stream",
     "name": "stdout",
     "output_type": "stream",
     "text": [
      "root\n |-- id: integer (nullable = true)\n |-- name: string (nullable = true)\n |-- dob: date (nullable = true)\n |-- age: integer (nullable = true)\n |-- salary: integer (nullable = true)\n |-- department: string (nullable = true)\n\n"
     ]
    }
   ],
   "source": [
    "df1.printSchema()"
   ]
  },
  {
   "cell_type": "code",
   "execution_count": 0,
   "metadata": {
    "application/vnd.databricks.v1+cell": {
     "cellMetadata": {
      "byteLimit": 2048000,
      "rowLimit": 10000
     },
     "inputWidgets": {},
     "nuid": "4813a1ae-73f2-4972-bd24-a0d6e28ea3e4",
     "showTitle": false,
     "title": ""
    }
   },
   "outputs": [
    {
     "output_type": "stream",
     "name": "stdout",
     "output_type": "stream",
     "text": [
      "root\n |-- id: integer (nullable = true)\n |-- name: string (nullable = true)\n |-- dob: date (nullable = true)\n |-- age: integer (nullable = true)\n |-- salary: integer (nullable = true)\n |-- department: string (nullable = true)\n\n"
     ]
    }
   ],
   "source": [
    "df2.printSchema()"
   ]
  },
  {
   "cell_type": "code",
   "execution_count": 0,
   "metadata": {
    "application/vnd.databricks.v1+cell": {
     "cellMetadata": {
      "byteLimit": 2048000,
      "rowLimit": 10000
     },
     "inputWidgets": {},
     "nuid": "492c94b0-e11f-4f9d-bdcf-c9bd8406f723",
     "showTitle": false,
     "title": ""
    }
   },
   "outputs": [
    {
     "output_type": "stream",
     "name": "stdout",
     "output_type": "stream",
     "text": [
      "+---+-----+----------+----+------+----------+\n| id| name|       dob| age|salary|department|\n+---+-----+----------+----+------+----------+\n|  1| John|1992-05-12|  30| 70000|        IT|\n|  2|Alice|1997-02-28|  25| 60000|        HR|\n|  3|  Bob|      null|null| 80000|        IT|\n|  4|Emily|1994-11-22|  28| 65000|   Finance|\n+---+-----+----------+----+------+----------+\n\n"
     ]
    }
   ],
   "source": [
    "df_csv.show()"
   ]
  },
  {
   "cell_type": "code",
   "execution_count": 0,
   "metadata": {
    "application/vnd.databricks.v1+cell": {
     "cellMetadata": {
      "byteLimit": 2048000,
      "rowLimit": 10000
     },
     "inputWidgets": {},
     "nuid": "2a4f1f59-d603-4944-a6f8-2f4f7949856c",
     "showTitle": false,
     "title": ""
    }
   },
   "outputs": [],
   "source": [
    "df_json = spark.read.format('json').option('header',True).load(\"dbfs:/FileStore/tables/json\")"
   ]
  },
  {
   "cell_type": "code",
   "execution_count": 0,
   "metadata": {
    "application/vnd.databricks.v1+cell": {
     "cellMetadata": {
      "byteLimit": 2048000,
      "rowLimit": 10000
     },
     "inputWidgets": {},
     "nuid": "f263f305-2354-4fcb-bd01-20f0a0fa638e",
     "showTitle": false,
     "title": ""
    }
   },
   "outputs": [
    {
     "output_type": "stream",
     "name": "stdout",
     "output_type": "stream",
     "text": [
      "+----+----------+----------+---+------+------+\n| age|department|       dob| id|  name|salary|\n+----+----------+----------+---+------+------+\n|  30|        IT|1992-05-12|  1|  John| 70000|\n|  25|        HR|1997-02-28|  2| Alice| 60000|\n|null|        IT|      null|  3|   Bob| 80000|\n|  28|   Finance|1994-11-22|  4| Emily| 65000|\n|  41|        HR|1981-12-18|  5| David| 90000|\n|  33|   Finance|1989-07-05|  6| Susan| 75000|\n|  46|        IT|1976-03-15|  7|  Mike| 95000|\n|  30|   Finance|1992-06-30| 10|Sophie| 62000|\n|  25|   Finance|1997-02-28|  2| Alice| 90000|\n|  28|   Finance|1994-11-22|  4| Emily| 70000|\n|  39|        IT|1983-10-14|  9| James| 87000|\n|  30|        IT|1992-05-12|  1|  John| 70000|\n|  27|        HR|1995-08-20|  8|  Lisa| 58000|\n+----+----------+----------+---+------+------+\n\n"
     ]
    }
   ],
   "source": [
    "df_json.show()"
   ]
  },
  {
   "cell_type": "code",
   "execution_count": 0,
   "metadata": {
    "application/vnd.databricks.v1+cell": {
     "cellMetadata": {
      "byteLimit": 2048000,
      "rowLimit": 10000
     },
     "inputWidgets": {},
     "nuid": "5c26f045-e4d9-4015-9721-fbc20159fa76",
     "showTitle": false,
     "title": ""
    }
   },
   "outputs": [
    {
     "output_type": "stream",
     "name": "stdout",
     "output_type": "stream",
     "text": [
      "root\n |-- age: long (nullable = true)\n |-- department: string (nullable = true)\n |-- dob: string (nullable = true)\n |-- id: long (nullable = true)\n |-- name: string (nullable = true)\n |-- salary: long (nullable = true)\n\n"
     ]
    }
   ],
   "source": [
    "df_json.printSchema()"
   ]
  },
  {
   "cell_type": "code",
   "execution_count": 0,
   "metadata": {
    "application/vnd.databricks.v1+cell": {
     "cellMetadata": {
      "byteLimit": 2048000,
      "rowLimit": 10000
     },
     "inputWidgets": {},
     "nuid": "f437f3f3-0756-45e1-85e9-2f48a46157bb",
     "showTitle": false,
     "title": ""
    }
   },
   "outputs": [
    {
     "output_type": "stream",
     "name": "stdout",
     "output_type": "stream",
     "text": [
      "root\n |-- id: string (nullable = true)\n |-- name: string (nullable = true)\n |-- dob: string (nullable = true)\n |-- age: string (nullable = true)\n |-- salary: string (nullable = true)\n |-- department: string (nullable = true)\n\n"
     ]
    }
   ],
   "source": [
    "df_csv.printSchema()"
   ]
  },
  {
   "cell_type": "code",
   "execution_count": 0,
   "metadata": {
    "application/vnd.databricks.v1+cell": {
     "cellMetadata": {
      "byteLimit": 2048000,
      "rowLimit": 10000
     },
     "inputWidgets": {},
     "nuid": "59ad2966-3bc0-4394-a3fd-c9948618aa51",
     "showTitle": false,
     "title": ""
    }
   },
   "outputs": [],
   "source": [
    "df = df1.union(df2)"
   ]
  },
  {
   "cell_type": "code",
   "execution_count": 0,
   "metadata": {
    "application/vnd.databricks.v1+cell": {
     "cellMetadata": {
      "byteLimit": 2048000,
      "rowLimit": 10000
     },
     "inputWidgets": {},
     "nuid": "00f0a282-dfd1-48e9-a383-7a2e319fe77a",
     "showTitle": false,
     "title": ""
    }
   },
   "outputs": [
    {
     "output_type": "stream",
     "name": "stdout",
     "output_type": "stream",
     "text": [
      "Out[241]: DataFrame[id: int, name: string, dob: date, age: int, salary: int, department: string]"
     ]
    }
   ],
   "source": [
    "df"
   ]
  },
  {
   "cell_type": "code",
   "execution_count": 0,
   "metadata": {
    "application/vnd.databricks.v1+cell": {
     "cellMetadata": {
      "byteLimit": 2048000,
      "rowLimit": 10000
     },
     "inputWidgets": {},
     "nuid": "574ab0c9-ec7d-46dc-8dd2-0f3b5c320574",
     "showTitle": false,
     "title": ""
    }
   },
   "outputs": [
    {
     "output_type": "stream",
     "name": "stdout",
     "output_type": "stream",
     "text": [
      "root\n |-- id: integer (nullable = true)\n |-- name: string (nullable = true)\n |-- dob: date (nullable = true)\n |-- age: integer (nullable = true)\n |-- salary: integer (nullable = true)\n |-- department: string (nullable = true)\n\n"
     ]
    }
   ],
   "source": [
    "df.printSchema()"
   ]
  },
  {
   "cell_type": "code",
   "execution_count": 0,
   "metadata": {
    "application/vnd.databricks.v1+cell": {
     "cellMetadata": {
      "byteLimit": 2048000,
      "rowLimit": 10000
     },
     "inputWidgets": {},
     "nuid": "dd1bae09-e497-4183-a98b-c699d15cee97",
     "showTitle": false,
     "title": ""
    }
   },
   "outputs": [
    {
     "output_type": "stream",
     "name": "stdout",
     "output_type": "stream",
     "text": [
      "+---+------+----------+----+------+----------+\n| id|  name|       dob| age|salary|department|\n+---+------+----------+----+------+----------+\n|  1|  John|1992-05-12|  30| 70000|        IT|\n|  2| Alice|1997-02-28|  25| 60000|        HR|\n|  3|   Bob|      null|null| 80000|        IT|\n|  4| Emily|1994-11-22|  28| 65000|   Finance|\n|  1|  John|1992-05-12|  30| 70000|        IT|\n|  2| Alice|1997-02-28|  25| 60000|        HR|\n|  3|   Bob|      null|null| 80000|        IT|\n|  4| Emily|1994-11-22|  28| 65000|   Finance|\n|  5| David|1981-12-18|  41| 90000|        HR|\n|  6| Susan|1989-07-05|  33| 75000|   Finance|\n|  7|  Mike|1976-03-15|  46| 95000|        IT|\n| 10|Sophie|1992-06-30|  30| 62000|   Finance|\n|  2| Alice|1997-02-28|  25| 90000|   Finance|\n|  4| Emily|1994-11-22|  28| 70000|   Finance|\n|  9| James|1983-10-14|  39| 87000|        IT|\n|  1|  John|1992-05-12|  30| 70000|        IT|\n|  8|  Lisa|1995-08-20|  27| 58000|        HR|\n+---+------+----------+----+------+----------+\n\n"
     ]
    }
   ],
   "source": [
    "df.show()"
   ]
  },
  {
   "cell_type": "code",
   "execution_count": 0,
   "metadata": {
    "application/vnd.databricks.v1+cell": {
     "cellMetadata": {
      "byteLimit": 2048000,
      "rowLimit": 10000
     },
     "inputWidgets": {},
     "nuid": "15a59321-e05b-49b0-ae0d-ba269671d0ff",
     "showTitle": false,
     "title": ""
    }
   },
   "outputs": [],
   "source": [
    "df = df.withColumn (\"salary_raise\", df.salary + df.salary * .05) "
   ]
  },
  {
   "cell_type": "code",
   "execution_count": 0,
   "metadata": {
    "application/vnd.databricks.v1+cell": {
     "cellMetadata": {
      "byteLimit": 2048000,
      "rowLimit": 10000
     },
     "inputWidgets": {},
     "nuid": "52e80400-ed21-4fdf-9b6a-2b301d1dd58a",
     "showTitle": false,
     "title": ""
    }
   },
   "outputs": [
    {
     "output_type": "stream",
     "name": "stdout",
     "output_type": "stream",
     "text": [
      "+---+------+----------+----+------+----------+------------+\n| id|  name|       dob| age|salary|department|salary_raise|\n+---+------+----------+----+------+----------+------------+\n|  1|  John|1992-05-12|  30| 70000|        IT|     73500.0|\n|  2| Alice|1997-02-28|  25| 60000|        HR|     63000.0|\n|  3|   Bob|      null|null| 80000|        IT|     84000.0|\n|  4| Emily|1994-11-22|  28| 65000|   Finance|     68250.0|\n|  1|  John|1992-05-12|  30| 70000|        IT|     73500.0|\n|  2| Alice|1997-02-28|  25| 60000|        HR|     63000.0|\n|  3|   Bob|      null|null| 80000|        IT|     84000.0|\n|  4| Emily|1994-11-22|  28| 65000|   Finance|     68250.0|\n|  5| David|1981-12-18|  41| 90000|        HR|     94500.0|\n|  6| Susan|1989-07-05|  33| 75000|   Finance|     78750.0|\n|  7|  Mike|1976-03-15|  46| 95000|        IT|     99750.0|\n| 10|Sophie|1992-06-30|  30| 62000|   Finance|     65100.0|\n|  2| Alice|1997-02-28|  25| 90000|   Finance|     94500.0|\n|  4| Emily|1994-11-22|  28| 70000|   Finance|     73500.0|\n|  9| James|1983-10-14|  39| 87000|        IT|     91350.0|\n|  1|  John|1992-05-12|  30| 70000|        IT|     73500.0|\n|  8|  Lisa|1995-08-20|  27| 58000|        HR|     60900.0|\n+---+------+----------+----+------+----------+------------+\n\n"
     ]
    }
   ],
   "source": [
    "df.show()"
   ]
  },
  {
   "cell_type": "code",
   "execution_count": 0,
   "metadata": {
    "application/vnd.databricks.v1+cell": {
     "cellMetadata": {
      "byteLimit": 2048000,
      "rowLimit": 10000
     },
     "inputWidgets": {},
     "nuid": "ad1805a6-aa76-429a-a6f8-b5e6d67fb15b",
     "showTitle": false,
     "title": ""
    }
   },
   "outputs": [],
   "source": [
    "df = df.withColumn('salary_10_per',df.salary + df.salary * 0.1)"
   ]
  },
  {
   "cell_type": "code",
   "execution_count": 0,
   "metadata": {
    "application/vnd.databricks.v1+cell": {
     "cellMetadata": {
      "byteLimit": 2048000,
      "rowLimit": 10000
     },
     "inputWidgets": {},
     "nuid": "b063ff4d-f582-4fbf-8195-f357ba49537d",
     "showTitle": false,
     "title": ""
    }
   },
   "outputs": [
    {
     "output_type": "stream",
     "name": "stdout",
     "output_type": "stream",
     "text": [
      "+---+------+----------+----+------+----------+------------+-------------+\n| id|  name|       dob| age|salary|department|salary_raise|salary_10_per|\n+---+------+----------+----+------+----------+------------+-------------+\n|  1|  John|1992-05-12|  30| 70000|        IT|     73500.0|      77000.0|\n|  2| Alice|1997-02-28|  25| 60000|        HR|     63000.0|      66000.0|\n|  3|   Bob|      null|null| 80000|        IT|     84000.0|      88000.0|\n|  4| Emily|1994-11-22|  28| 65000|   Finance|     68250.0|      71500.0|\n|  1|  John|1992-05-12|  30| 70000|        IT|     73500.0|      77000.0|\n|  2| Alice|1997-02-28|  25| 60000|        HR|     63000.0|      66000.0|\n|  3|   Bob|      null|null| 80000|        IT|     84000.0|      88000.0|\n|  4| Emily|1994-11-22|  28| 65000|   Finance|     68250.0|      71500.0|\n|  5| David|1981-12-18|  41| 90000|        HR|     94500.0|      99000.0|\n|  6| Susan|1989-07-05|  33| 75000|   Finance|     78750.0|      82500.0|\n|  7|  Mike|1976-03-15|  46| 95000|        IT|     99750.0|     104500.0|\n| 10|Sophie|1992-06-30|  30| 62000|   Finance|     65100.0|      68200.0|\n|  2| Alice|1997-02-28|  25| 90000|   Finance|     94500.0|      99000.0|\n|  4| Emily|1994-11-22|  28| 70000|   Finance|     73500.0|      77000.0|\n|  9| James|1983-10-14|  39| 87000|        IT|     91350.0|      95700.0|\n|  1|  John|1992-05-12|  30| 70000|        IT|     73500.0|      77000.0|\n|  8|  Lisa|1995-08-20|  27| 58000|        HR|     60900.0|      63800.0|\n+---+------+----------+----+------+----------+------------+-------------+\n\n"
     ]
    }
   ],
   "source": [
    "df.show()"
   ]
  },
  {
   "cell_type": "markdown",
   "metadata": {
    "application/vnd.databricks.v1+cell": {
     "cellMetadata": {},
     "inputWidgets": {},
     "nuid": "edb0f233-4063-43b3-b88d-767f6458763e",
     "showTitle": false,
     "title": ""
    }
   },
   "source": [
    "Load both csv and json union them properly. Instead of dropping duplicates, create a boolean column is_duplicate and set False to only one row and True to rest of them"
   ]
  },
  {
   "cell_type": "code",
   "execution_count": 0,
   "metadata": {
    "application/vnd.databricks.v1+cell": {
     "cellMetadata": {
      "byteLimit": 2048000,
      "rowLimit": 10000
     },
     "inputWidgets": {},
     "nuid": "e718d305-7b52-43d5-af4f-1704b0286f2b",
     "showTitle": false,
     "title": ""
    }
   },
   "outputs": [],
   "source": [
    "from pyspark.sql.window import Window"
   ]
  },
  {
   "cell_type": "code",
   "execution_count": 0,
   "metadata": {
    "application/vnd.databricks.v1+cell": {
     "cellMetadata": {
      "byteLimit": 2048000,
      "rowLimit": 10000
     },
     "inputWidgets": {},
     "nuid": "5c91c694-58ea-46e6-80c7-23e4f129671f",
     "showTitle": false,
     "title": ""
    }
   },
   "outputs": [],
   "source": [
    "from pyspark.sql.functions import row_number"
   ]
  },
  {
   "cell_type": "code",
   "execution_count": 0,
   "metadata": {
    "application/vnd.databricks.v1+cell": {
     "cellMetadata": {
      "byteLimit": 2048000,
      "rowLimit": 10000
     },
     "inputWidgets": {},
     "nuid": "1938f842-1878-4fca-80a7-98b9f58af091",
     "showTitle": false,
     "title": ""
    }
   },
   "outputs": [],
   "source": [
    "windowspec = Window.partitionBy('id','name','dob','age','salary','department','salary_raise').orderBy('id')"
   ]
  },
  {
   "cell_type": "code",
   "execution_count": 0,
   "metadata": {
    "application/vnd.databricks.v1+cell": {
     "cellMetadata": {
      "byteLimit": 2048000,
      "rowLimit": 10000
     },
     "inputWidgets": {},
     "nuid": "db031c42-0d53-4645-8c55-8625fe29b793",
     "showTitle": false,
     "title": ""
    }
   },
   "outputs": [],
   "source": [
    "df = df.withColumn(\"is_duplicate\",row_number().over(windowspec))"
   ]
  },
  {
   "cell_type": "code",
   "execution_count": 0,
   "metadata": {
    "application/vnd.databricks.v1+cell": {
     "cellMetadata": {
      "byteLimit": 2048000,
      "rowLimit": 10000
     },
     "inputWidgets": {},
     "nuid": "334dd86d-7e43-42ff-8e96-89a602558521",
     "showTitle": false,
     "title": ""
    }
   },
   "outputs": [
    {
     "output_type": "stream",
     "name": "stdout",
     "output_type": "stream",
     "text": [
      "+---+------+----------+----+------+----------+------------+-------------+------------+\n| id|  name|       dob| age|salary|department|salary_raise|salary_10_per|is_duplicate|\n+---+------+----------+----+------+----------+------------+-------------+------------+\n|  1|  John|1992-05-12|  30| 70000|        IT|     73500.0|      77000.0|           1|\n|  1|  John|1992-05-12|  30| 70000|        IT|     73500.0|      77000.0|           2|\n|  1|  John|1992-05-12|  30| 70000|        IT|     73500.0|      77000.0|           3|\n|  2| Alice|1997-02-28|  25| 60000|        HR|     63000.0|      66000.0|           1|\n|  2| Alice|1997-02-28|  25| 60000|        HR|     63000.0|      66000.0|           2|\n|  2| Alice|1997-02-28|  25| 90000|   Finance|     94500.0|      99000.0|           1|\n|  3|   Bob|      null|null| 80000|        IT|     84000.0|      88000.0|           1|\n|  3|   Bob|      null|null| 80000|        IT|     84000.0|      88000.0|           2|\n|  4| Emily|1994-11-22|  28| 65000|   Finance|     68250.0|      71500.0|           1|\n|  4| Emily|1994-11-22|  28| 65000|   Finance|     68250.0|      71500.0|           2|\n|  4| Emily|1994-11-22|  28| 70000|   Finance|     73500.0|      77000.0|           1|\n|  5| David|1981-12-18|  41| 90000|        HR|     94500.0|      99000.0|           1|\n|  6| Susan|1989-07-05|  33| 75000|   Finance|     78750.0|      82500.0|           1|\n|  7|  Mike|1976-03-15|  46| 95000|        IT|     99750.0|     104500.0|           1|\n|  8|  Lisa|1995-08-20|  27| 58000|        HR|     60900.0|      63800.0|           1|\n|  9| James|1983-10-14|  39| 87000|        IT|     91350.0|      95700.0|           1|\n| 10|Sophie|1992-06-30|  30| 62000|   Finance|     65100.0|      68200.0|           1|\n+---+------+----------+----+------+----------+------------+-------------+------------+\n\n"
     ]
    }
   ],
   "source": [
    "df.show()"
   ]
  },
  {
   "cell_type": "code",
   "execution_count": 0,
   "metadata": {
    "application/vnd.databricks.v1+cell": {
     "cellMetadata": {
      "byteLimit": 2048000,
      "rowLimit": 10000
     },
     "inputWidgets": {},
     "nuid": "4968c0e2-f17d-4fda-9a50-d6aa69497501",
     "showTitle": false,
     "title": ""
    }
   },
   "outputs": [],
   "source": [
    "df = df.drop(\"d_no\")"
   ]
  },
  {
   "cell_type": "code",
   "execution_count": 0,
   "metadata": {
    "application/vnd.databricks.v1+cell": {
     "cellMetadata": {
      "byteLimit": 2048000,
      "rowLimit": 10000
     },
     "inputWidgets": {},
     "nuid": "9e60009f-e05e-41d2-9e6b-e6bfd2361ed4",
     "showTitle": false,
     "title": ""
    }
   },
   "outputs": [
    {
     "output_type": "stream",
     "name": "stdout",
     "output_type": "stream",
     "text": [
      "+---+------+----------+----+------+----------+------------+-------------+------------+\n| id|  name|       dob| age|salary|department|salary_raise|salary_10_per|is_duplicate|\n+---+------+----------+----+------+----------+------------+-------------+------------+\n|  1|  John|1992-05-12|  30| 70000|        IT|     73500.0|      77000.0|           1|\n|  1|  John|1992-05-12|  30| 70000|        IT|     73500.0|      77000.0|           2|\n|  1|  John|1992-05-12|  30| 70000|        IT|     73500.0|      77000.0|           3|\n|  2| Alice|1997-02-28|  25| 60000|        HR|     63000.0|      66000.0|           1|\n|  2| Alice|1997-02-28|  25| 60000|        HR|     63000.0|      66000.0|           2|\n|  2| Alice|1997-02-28|  25| 90000|   Finance|     94500.0|      99000.0|           1|\n|  3|   Bob|      null|null| 80000|        IT|     84000.0|      88000.0|           1|\n|  3|   Bob|      null|null| 80000|        IT|     84000.0|      88000.0|           2|\n|  4| Emily|1994-11-22|  28| 65000|   Finance|     68250.0|      71500.0|           1|\n|  4| Emily|1994-11-22|  28| 65000|   Finance|     68250.0|      71500.0|           2|\n|  4| Emily|1994-11-22|  28| 70000|   Finance|     73500.0|      77000.0|           1|\n|  5| David|1981-12-18|  41| 90000|        HR|     94500.0|      99000.0|           1|\n|  6| Susan|1989-07-05|  33| 75000|   Finance|     78750.0|      82500.0|           1|\n|  7|  Mike|1976-03-15|  46| 95000|        IT|     99750.0|     104500.0|           1|\n|  8|  Lisa|1995-08-20|  27| 58000|        HR|     60900.0|      63800.0|           1|\n|  9| James|1983-10-14|  39| 87000|        IT|     91350.0|      95700.0|           1|\n| 10|Sophie|1992-06-30|  30| 62000|   Finance|     65100.0|      68200.0|           1|\n+---+------+----------+----+------+----------+------------+-------------+------------+\n\n"
     ]
    }
   ],
   "source": [
    "df.show()"
   ]
  },
  {
   "cell_type": "code",
   "execution_count": 0,
   "metadata": {
    "application/vnd.databricks.v1+cell": {
     "cellMetadata": {
      "byteLimit": 2048000,
      "rowLimit": 10000
     },
     "inputWidgets": {},
     "nuid": "aa57a31c-f49f-4397-8105-a631f91455ff",
     "showTitle": false,
     "title": ""
    }
   },
   "outputs": [],
   "source": [
    "df = df.drop(\"salary_10_per\")"
   ]
  },
  {
   "cell_type": "code",
   "execution_count": 0,
   "metadata": {
    "application/vnd.databricks.v1+cell": {
     "cellMetadata": {
      "byteLimit": 2048000,
      "rowLimit": 10000
     },
     "inputWidgets": {},
     "nuid": "10a33cda-230b-474e-a839-781c9c620a63",
     "showTitle": false,
     "title": ""
    }
   },
   "outputs": [
    {
     "output_type": "stream",
     "name": "stdout",
     "output_type": "stream",
     "text": [
      "+---+------+----------+----+------+----------+------------+------------+\n| id|  name|       dob| age|salary|department|salary_raise|is_duplicate|\n+---+------+----------+----+------+----------+------------+------------+\n|  1|  John|1992-05-12|  30| 70000|        IT|     73500.0|           1|\n|  1|  John|1992-05-12|  30| 70000|        IT|     73500.0|           2|\n|  1|  John|1992-05-12|  30| 70000|        IT|     73500.0|           3|\n|  2| Alice|1997-02-28|  25| 60000|        HR|     63000.0|           1|\n|  2| Alice|1997-02-28|  25| 60000|        HR|     63000.0|           2|\n|  2| Alice|1997-02-28|  25| 90000|   Finance|     94500.0|           1|\n|  3|   Bob|      null|null| 80000|        IT|     84000.0|           1|\n|  3|   Bob|      null|null| 80000|        IT|     84000.0|           2|\n|  4| Emily|1994-11-22|  28| 65000|   Finance|     68250.0|           1|\n|  4| Emily|1994-11-22|  28| 65000|   Finance|     68250.0|           2|\n|  4| Emily|1994-11-22|  28| 70000|   Finance|     73500.0|           1|\n|  5| David|1981-12-18|  41| 90000|        HR|     94500.0|           1|\n|  6| Susan|1989-07-05|  33| 75000|   Finance|     78750.0|           1|\n|  7|  Mike|1976-03-15|  46| 95000|        IT|     99750.0|           1|\n|  8|  Lisa|1995-08-20|  27| 58000|        HR|     60900.0|           1|\n|  9| James|1983-10-14|  39| 87000|        IT|     91350.0|           1|\n| 10|Sophie|1992-06-30|  30| 62000|   Finance|     65100.0|           1|\n+---+------+----------+----+------+----------+------------+------------+\n\n"
     ]
    }
   ],
   "source": [
    "df.show()"
   ]
  },
  {
   "cell_type": "code",
   "execution_count": 0,
   "metadata": {
    "application/vnd.databricks.v1+cell": {
     "cellMetadata": {
      "byteLimit": 2048000,
      "rowLimit": 10000
     },
     "inputWidgets": {},
     "nuid": "92c13b0f-08df-4f28-849a-f653e341adbb",
     "showTitle": false,
     "title": ""
    }
   },
   "outputs": [],
   "source": [
    "from pyspark.sql.functions import when\n",
    "from pyspark.sql import functions as f\n"
   ]
  },
  {
   "cell_type": "code",
   "execution_count": 0,
   "metadata": {
    "application/vnd.databricks.v1+cell": {
     "cellMetadata": {
      "byteLimit": 2048000,
      "rowLimit": 10000
     },
     "inputWidgets": {},
     "nuid": "7fd9d166-a132-497a-86aa-2d0e54af43bd",
     "showTitle": false,
     "title": ""
    }
   },
   "outputs": [],
   "source": [
    "df = df.withColumn('is_Duplicate',when(df[\"is_duplicate\"] > 1,\"True\").otherwise(\"False\"))"
   ]
  },
  {
   "cell_type": "code",
   "execution_count": 0,
   "metadata": {
    "application/vnd.databricks.v1+cell": {
     "cellMetadata": {
      "byteLimit": 2048000,
      "rowLimit": 10000
     },
     "inputWidgets": {},
     "nuid": "6cf45a46-62b5-427a-911d-a4120ba6ce0f",
     "showTitle": false,
     "title": ""
    }
   },
   "outputs": [
    {
     "output_type": "stream",
     "name": "stdout",
     "output_type": "stream",
     "text": [
      "+---+------+----------+----+------+----------+------------+------------+\n| id|  name|       dob| age|salary|department|salary_raise|is_Duplicate|\n+---+------+----------+----+------+----------+------------+------------+\n|  1|  John|1992-05-12|  30| 70000|        IT|     73500.0|       False|\n|  1|  John|1992-05-12|  30| 70000|        IT|     73500.0|        True|\n|  1|  John|1992-05-12|  30| 70000|        IT|     73500.0|        True|\n|  2| Alice|1997-02-28|  25| 60000|        HR|     63000.0|       False|\n|  2| Alice|1997-02-28|  25| 60000|        HR|     63000.0|        True|\n|  2| Alice|1997-02-28|  25| 90000|   Finance|     94500.0|       False|\n|  3|   Bob|      null|null| 80000|        IT|     84000.0|       False|\n|  3|   Bob|      null|null| 80000|        IT|     84000.0|        True|\n|  4| Emily|1994-11-22|  28| 65000|   Finance|     68250.0|       False|\n|  4| Emily|1994-11-22|  28| 65000|   Finance|     68250.0|        True|\n|  4| Emily|1994-11-22|  28| 70000|   Finance|     73500.0|       False|\n|  5| David|1981-12-18|  41| 90000|        HR|     94500.0|       False|\n|  6| Susan|1989-07-05|  33| 75000|   Finance|     78750.0|       False|\n|  7|  Mike|1976-03-15|  46| 95000|        IT|     99750.0|       False|\n|  8|  Lisa|1995-08-20|  27| 58000|        HR|     60900.0|       False|\n|  9| James|1983-10-14|  39| 87000|        IT|     91350.0|       False|\n| 10|Sophie|1992-06-30|  30| 62000|   Finance|     65100.0|       False|\n+---+------+----------+----+------+----------+------------+------------+\n\n"
     ]
    }
   ],
   "source": [
    "df.show()"
   ]
  },
  {
   "cell_type": "markdown",
   "metadata": {
    "application/vnd.databricks.v1+cell": {
     "cellMetadata": {},
     "inputWidgets": {},
     "nuid": "84a24406-ffef-463f-8e9a-6af2a9233728",
     "showTitle": false,
     "title": ""
    }
   },
   "source": [
    "Task-2.1\n",
    "Calculate mean salary and check if it is greater or equal to the salary of employees in each department."
   ]
  },
  {
   "cell_type": "code",
   "execution_count": 0,
   "metadata": {
    "application/vnd.databricks.v1+cell": {
     "cellMetadata": {
      "byteLimit": 2048000,
      "rowLimit": 10000
     },
     "inputWidgets": {},
     "nuid": "84997ce4-1c08-4286-8f8a-5433b360f01a",
     "showTitle": false,
     "title": ""
    }
   },
   "outputs": [],
   "source": [
    "df5=df.withColumn(\"mean_sal_dept\",f.avg(\"salary\").over(Window.partitionBy(df.department)))"
   ]
  },
  {
   "cell_type": "code",
   "execution_count": 0,
   "metadata": {
    "application/vnd.databricks.v1+cell": {
     "cellMetadata": {
      "byteLimit": 2048000,
      "rowLimit": 10000
     },
     "inputWidgets": {},
     "nuid": "cb9d0fd5-0af1-4b3c-8421-f53a9e7a8493",
     "showTitle": false,
     "title": ""
    }
   },
   "outputs": [
    {
     "output_type": "stream",
     "name": "stdout",
     "output_type": "stream",
     "text": [
      "+---+------+----------+----+------+----------+------------+------------+-----------------+\n| id|  name|       dob| age|salary|department|salary_raise|is_Duplicate|    mean_sal_dept|\n+---+------+----------+----+------+----------+------------+------------+-----------------+\n|  2| Alice|1997-02-28|  25| 90000|   Finance|     94500.0|       False|71166.66666666667|\n|  4| Emily|1994-11-22|  28| 65000|   Finance|     68250.0|       False|71166.66666666667|\n|  4| Emily|1994-11-22|  28| 65000|   Finance|     68250.0|        True|71166.66666666667|\n|  4| Emily|1994-11-22|  28| 70000|   Finance|     73500.0|       False|71166.66666666667|\n|  6| Susan|1989-07-05|  33| 75000|   Finance|     78750.0|       False|71166.66666666667|\n| 10|Sophie|1992-06-30|  30| 62000|   Finance|     65100.0|       False|71166.66666666667|\n|  2| Alice|1997-02-28|  25| 60000|        HR|     63000.0|       False|          67000.0|\n|  2| Alice|1997-02-28|  25| 60000|        HR|     63000.0|        True|          67000.0|\n|  5| David|1981-12-18|  41| 90000|        HR|     94500.0|       False|          67000.0|\n|  8|  Lisa|1995-08-20|  27| 58000|        HR|     60900.0|       False|          67000.0|\n|  1|  John|1992-05-12|  30| 70000|        IT|     73500.0|       False|78857.14285714286|\n|  1|  John|1992-05-12|  30| 70000|        IT|     73500.0|        True|78857.14285714286|\n|  1|  John|1992-05-12|  30| 70000|        IT|     73500.0|        True|78857.14285714286|\n|  3|   Bob|      null|null| 80000|        IT|     84000.0|       False|78857.14285714286|\n|  3|   Bob|      null|null| 80000|        IT|     84000.0|        True|78857.14285714286|\n|  7|  Mike|1976-03-15|  46| 95000|        IT|     99750.0|       False|78857.14285714286|\n|  9| James|1983-10-14|  39| 87000|        IT|     91350.0|       False|78857.14285714286|\n+---+------+----------+----+------+----------+------------+------------+-----------------+\n\n"
     ]
    }
   ],
   "source": [
    "df5.show()"
   ]
  },
  {
   "cell_type": "code",
   "execution_count": 0,
   "metadata": {
    "application/vnd.databricks.v1+cell": {
     "cellMetadata": {
      "byteLimit": 2048000,
      "rowLimit": 10000
     },
     "inputWidgets": {},
     "nuid": "5686dc2f-371a-4669-9201-3c08df9f43fd",
     "showTitle": false,
     "title": ""
    }
   },
   "outputs": [],
   "source": [
    "df5=df.withColumn(\"mean_sal_dept\",f.avg(\"salary\").over(Window.partitionBy(df.department)) <= df.salary)"
   ]
  },
  {
   "cell_type": "code",
   "execution_count": 0,
   "metadata": {
    "application/vnd.databricks.v1+cell": {
     "cellMetadata": {
      "byteLimit": 2048000,
      "rowLimit": 10000
     },
     "inputWidgets": {},
     "nuid": "cba46b74-f2ab-494a-9f80-d2e21e5c14e5",
     "showTitle": false,
     "title": ""
    }
   },
   "outputs": [
    {
     "output_type": "stream",
     "name": "stdout",
     "output_type": "stream",
     "text": [
      "+---+------+----------+----+------+----------+------------+------------+-------------+\n| id|  name|       dob| age|salary|department|salary_raise|is_Duplicate|mean_sal_dept|\n+---+------+----------+----+------+----------+------------+------------+-------------+\n|  2| Alice|1997-02-28|  25| 90000|   Finance|     94500.0|       False|         true|\n|  4| Emily|1994-11-22|  28| 65000|   Finance|     68250.0|       False|        false|\n|  4| Emily|1994-11-22|  28| 65000|   Finance|     68250.0|        True|        false|\n|  4| Emily|1994-11-22|  28| 70000|   Finance|     73500.0|       False|        false|\n|  6| Susan|1989-07-05|  33| 75000|   Finance|     78750.0|       False|         true|\n| 10|Sophie|1992-06-30|  30| 62000|   Finance|     65100.0|       False|        false|\n|  2| Alice|1997-02-28|  25| 60000|        HR|     63000.0|       False|        false|\n|  2| Alice|1997-02-28|  25| 60000|        HR|     63000.0|        True|        false|\n|  5| David|1981-12-18|  41| 90000|        HR|     94500.0|       False|         true|\n|  8|  Lisa|1995-08-20|  27| 58000|        HR|     60900.0|       False|        false|\n|  1|  John|1992-05-12|  30| 70000|        IT|     73500.0|       False|        false|\n|  1|  John|1992-05-12|  30| 70000|        IT|     73500.0|        True|        false|\n|  1|  John|1992-05-12|  30| 70000|        IT|     73500.0|        True|        false|\n|  3|   Bob|      null|null| 80000|        IT|     84000.0|       False|         true|\n|  3|   Bob|      null|null| 80000|        IT|     84000.0|        True|         true|\n|  7|  Mike|1976-03-15|  46| 95000|        IT|     99750.0|       False|         true|\n|  9| James|1983-10-14|  39| 87000|        IT|     91350.0|       False|         true|\n+---+------+----------+----+------+----------+------------+------------+-------------+\n\n"
     ]
    }
   ],
   "source": [
    "df5.show()"
   ]
  },
  {
   "cell_type": "markdown",
   "metadata": {
    "application/vnd.databricks.v1+cell": {
     "cellMetadata": {},
     "inputWidgets": {},
     "nuid": "c2024296-0b13-4b33-a5f0-cbd4ae29c619",
     "showTitle": false,
     "title": ""
    }
   },
   "source": [
    "Calculate mean salary and check if it is greater or equal to the salary of all employees"
   ]
  },
  {
   "cell_type": "code",
   "execution_count": 0,
   "metadata": {
    "application/vnd.databricks.v1+cell": {
     "cellMetadata": {
      "byteLimit": 2048000,
      "rowLimit": 10000
     },
     "inputWidgets": {},
     "nuid": "e57965c8-a189-41e9-b012-89ca4572f2a3",
     "showTitle": false,
     "title": ""
    }
   },
   "outputs": [
    {
     "output_type": "stream",
     "name": "stdout",
     "output_type": "stream",
     "text": [
      "73352.94117647059\n"
     ]
    }
   ],
   "source": [
    "avg_sal = df.select(f.avg('salary')).first()[0]\n",
    "print(avg_sal)"
   ]
  },
  {
   "cell_type": "code",
   "execution_count": 0,
   "metadata": {
    "application/vnd.databricks.v1+cell": {
     "cellMetadata": {
      "byteLimit": 2048000,
      "rowLimit": 10000
     },
     "inputWidgets": {},
     "nuid": "d65368a4-5003-4eb3-bfa2-053a78ce2e54",
     "showTitle": false,
     "title": ""
    }
   },
   "outputs": [],
   "source": [
    "df7 = df.withColumn(\"avg_sal\", df.salary >= avg_sal)"
   ]
  },
  {
   "cell_type": "code",
   "execution_count": 0,
   "metadata": {
    "application/vnd.databricks.v1+cell": {
     "cellMetadata": {
      "byteLimit": 2048000,
      "rowLimit": 10000
     },
     "inputWidgets": {},
     "nuid": "c6749d7e-63d1-425b-8871-458ed5275a83",
     "showTitle": false,
     "title": ""
    }
   },
   "outputs": [
    {
     "output_type": "stream",
     "name": "stdout",
     "output_type": "stream",
     "text": [
      "+---+------+----------+----+------+----------+------------+------------+-------+\n| id|  name|       dob| age|salary|department|salary_raise|is_Duplicate|avg_sal|\n+---+------+----------+----+------+----------+------------+------------+-------+\n|  1|  John|1992-05-12|  30| 70000|        IT|     73500.0|       False|  false|\n|  1|  John|1992-05-12|  30| 70000|        IT|     73500.0|        True|  false|\n|  1|  John|1992-05-12|  30| 70000|        IT|     73500.0|        True|  false|\n|  2| Alice|1997-02-28|  25| 60000|        HR|     63000.0|       False|  false|\n|  2| Alice|1997-02-28|  25| 60000|        HR|     63000.0|        True|  false|\n|  2| Alice|1997-02-28|  25| 90000|   Finance|     94500.0|       False|   true|\n|  3|   Bob|      null|null| 80000|        IT|     84000.0|       False|   true|\n|  3|   Bob|      null|null| 80000|        IT|     84000.0|        True|   true|\n|  4| Emily|1994-11-22|  28| 65000|   Finance|     68250.0|       False|  false|\n|  4| Emily|1994-11-22|  28| 65000|   Finance|     68250.0|        True|  false|\n|  4| Emily|1994-11-22|  28| 70000|   Finance|     73500.0|       False|  false|\n|  5| David|1981-12-18|  41| 90000|        HR|     94500.0|       False|   true|\n|  6| Susan|1989-07-05|  33| 75000|   Finance|     78750.0|       False|   true|\n|  7|  Mike|1976-03-15|  46| 95000|        IT|     99750.0|       False|   true|\n|  8|  Lisa|1995-08-20|  27| 58000|        HR|     60900.0|       False|  false|\n|  9| James|1983-10-14|  39| 87000|        IT|     91350.0|       False|   true|\n| 10|Sophie|1992-06-30|  30| 62000|   Finance|     65100.0|       False|  false|\n+---+------+----------+----+------+----------+------------+------------+-------+\n\n"
     ]
    }
   ],
   "source": [
    "df7.show()"
   ]
  },
  {
   "cell_type": "code",
   "execution_count": 0,
   "metadata": {
    "application/vnd.databricks.v1+cell": {
     "cellMetadata": {
      "byteLimit": 2048000,
      "rowLimit": 10000
     },
     "inputWidgets": {},
     "nuid": "6eea2933-8f6b-4ebc-9a4a-52b2dd397fdb",
     "showTitle": false,
     "title": ""
    }
   },
   "outputs": [],
   "source": [
    "df7 = df.withColumn(\"avg_sal\", col(\"salary\") <= avg_sal)"
   ]
  },
  {
   "cell_type": "code",
   "execution_count": 0,
   "metadata": {
    "application/vnd.databricks.v1+cell": {
     "cellMetadata": {
      "byteLimit": 2048000,
      "rowLimit": 10000
     },
     "inputWidgets": {},
     "nuid": "84015483-a418-4c17-bc41-c99989612a14",
     "showTitle": false,
     "title": ""
    }
   },
   "outputs": [
    {
     "output_type": "stream",
     "name": "stdout",
     "output_type": "stream",
     "text": [
      "+---+------+----------+----+------+----------+------------+------------+-------+\n| id|  name|       dob| age|salary|department|salary_raise|is_Duplicate|avg_sal|\n+---+------+----------+----+------+----------+------------+------------+-------+\n|  1|  John|1992-05-12|  30| 70000|        IT|     73500.0|       False|  false|\n|  1|  John|1992-05-12|  30| 70000|        IT|     73500.0|        True|  false|\n|  1|  John|1992-05-12|  30| 70000|        IT|     73500.0|        True|  false|\n|  2| Alice|1997-02-28|  25| 60000|        HR|     63000.0|       False|  false|\n|  2| Alice|1997-02-28|  25| 60000|        HR|     63000.0|        True|  false|\n|  2| Alice|1997-02-28|  25| 90000|   Finance|     94500.0|       False|   true|\n|  3|   Bob|      null|null| 80000|        IT|     84000.0|       False|   true|\n|  3|   Bob|      null|null| 80000|        IT|     84000.0|        True|   true|\n|  4| Emily|1994-11-22|  28| 65000|   Finance|     68250.0|       False|  false|\n|  4| Emily|1994-11-22|  28| 65000|   Finance|     68250.0|        True|  false|\n|  4| Emily|1994-11-22|  28| 70000|   Finance|     73500.0|       False|  false|\n|  5| David|1981-12-18|  41| 90000|        HR|     94500.0|       False|   true|\n|  6| Susan|1989-07-05|  33| 75000|   Finance|     78750.0|       False|   true|\n|  7|  Mike|1976-03-15|  46| 95000|        IT|     99750.0|       False|   true|\n|  8|  Lisa|1995-08-20|  27| 58000|        HR|     60900.0|       False|  false|\n|  9| James|1983-10-14|  39| 87000|        IT|     91350.0|       False|   true|\n| 10|Sophie|1992-06-30|  30| 62000|   Finance|     65100.0|       False|  false|\n+---+------+----------+----+------+----------+------------+------------+-------+\n\n"
     ]
    }
   ],
   "source": [
    "df7.show()"
   ]
  },
  {
   "cell_type": "code",
   "execution_count": 0,
   "metadata": {
    "application/vnd.databricks.v1+cell": {
     "cellMetadata": {},
     "inputWidgets": {},
     "nuid": "57d1d16f-6cde-47e5-8f14-dd47146ee607",
     "showTitle": false,
     "title": ""
    }
   },
   "outputs": [],
   "source": []
  }
 ],
 "metadata": {
  "application/vnd.databricks.v1+notebook": {
   "dashboards": [],
   "language": "python",
   "notebookMetadata": {
    "mostRecentlyExecutedCommandWithImplicitDF": {
     "commandId": 3424303226219287,
     "dataframes": [
      "_sqldf"
     ]
    },
    "pythonIndentUnit": 4
   },
   "notebookName": "pyspark_task:1&2",
   "widgets": {}
  }
 },
 "nbformat": 4,
 "nbformat_minor": 0
}
