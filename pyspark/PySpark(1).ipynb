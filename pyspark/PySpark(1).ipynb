{
 "cells": [
  {
   "cell_type": "code",
   "execution_count": 0,
   "metadata": {
    "application/vnd.databricks.v1+cell": {
     "cellMetadata": {
      "byteLimit": 2048000,
      "rowLimit": 10000
     },
     "inputWidgets": {},
     "nuid": "2a117e52-bdb9-4d8a-98c9-31a8fa5a4e50",
     "showTitle": false,
     "title": ""
    }
   },
   "outputs": [
    {
     "output_type": "display_data",
     "data": {
      "text/html": [
       "\n",
       "            <div>\n",
       "                <p><b>SparkSession - hive</b></p>\n",
       "                \n",
       "        <div>\n",
       "            <p><b>SparkContext</b></p>\n",
       "\n",
       "            <p><a href=\"/?o=7174323651606563#setting/sparkui/0306-062408-ubsgc2m2/driver-5488230752605245142\">Spark UI</a></p>\n",
       "\n",
       "            <dl>\n",
       "              <dt>Version</dt>\n",
       "                <dd><code>v3.3.2</code></dd>\n",
       "              <dt>Master</dt>\n",
       "                <dd><code>local[8]</code></dd>\n",
       "              <dt>AppName</dt>\n",
       "                <dd><code>Databricks Shell</code></dd>\n",
       "            </dl>\n",
       "        </div>\n",
       "        \n",
       "            </div>\n",
       "        "
      ]
     },
     "metadata": {
      "application/vnd.databricks.v1+output": {
       "addedWidgets": {},
       "arguments": {},
       "data": "\n            <div>\n                <p><b>SparkSession - hive</b></p>\n                \n        <div>\n            <p><b>SparkContext</b></p>\n\n            <p><a href=\"/?o=7174323651606563#setting/sparkui/0306-062408-ubsgc2m2/driver-5488230752605245142\">Spark UI</a></p>\n\n            <dl>\n              <dt>Version</dt>\n                <dd><code>v3.3.2</code></dd>\n              <dt>Master</dt>\n                <dd><code>local[8]</code></dd>\n              <dt>AppName</dt>\n                <dd><code>Databricks Shell</code></dd>\n            </dl>\n        </div>\n        \n            </div>\n        ",
       "datasetInfos": [],
       "metadata": {},
       "removedWidgets": [],
       "textData": null,
       "type": "htmlSandbox"
      }
     },
     "output_type": "display_data"
    }
   ],
   "source": [
    "from pyspark.sql import SparkSession\n",
    "spark = SparkSession.builder.getOrCreate()\n",
    "spark"
   ]
  },
  {
   "cell_type": "code",
   "execution_count": 0,
   "metadata": {
    "application/vnd.databricks.v1+cell": {
     "cellMetadata": {
      "byteLimit": 2048000,
      "rowLimit": 10000
     },
     "inputWidgets": {},
     "nuid": "1d5279bb-15c5-4001-925a-935439b2201d",
     "showTitle": false,
     "title": ""
    }
   },
   "outputs": [
    {
     "output_type": "display_data",
     "data": {
      "text/html": [
       "<style scoped>\n",
       "  .table-result-container {\n",
       "    max-height: 300px;\n",
       "    overflow: auto;\n",
       "  }\n",
       "  table, th, td {\n",
       "    border: 1px solid black;\n",
       "    border-collapse: collapse;\n",
       "  }\n",
       "  th, td {\n",
       "    padding: 5px;\n",
       "  }\n",
       "  th {\n",
       "    text-align: left;\n",
       "  }\n",
       "</style><div class='table-result-container'><table class='table-result'><thead style='background-color: white'><tr><th>path</th><th>name</th><th>size</th><th>modificationTime</th></tr></thead><tbody><tr><td>dbfs:/FileStore/tables/data/csv/</td><td>csv/</td><td>0</td><td>0</td></tr><tr><td>dbfs:/FileStore/tables/data/json/</td><td>json/</td><td>0</td><td>0</td></tr><tr><td>dbfs:/FileStore/tables/data/parquet/</td><td>parquet/</td><td>0</td><td>0</td></tr></tbody></table></div>"
      ]
     },
     "metadata": {
      "application/vnd.databricks.v1+output": {
       "addedWidgets": {},
       "aggData": [],
       "aggError": "",
       "aggOverflow": false,
       "aggSchema": [],
       "aggSeriesLimitReached": false,
       "aggType": "",
       "arguments": {},
       "columnCustomDisplayInfos": {},
       "data": [
        [
         "dbfs:/FileStore/tables/data/csv/",
         "csv/",
         0,
         0
        ],
        [
         "dbfs:/FileStore/tables/data/json/",
         "json/",
         0,
         0
        ],
        [
         "dbfs:/FileStore/tables/data/parquet/",
         "parquet/",
         0,
         0
        ]
       ],
       "datasetInfos": [],
       "dbfsResultPath": null,
       "isJsonSchema": true,
       "metadata": {
        "isDbfsCommandResult": false
       },
       "overflow": false,
       "plotOptions": {
        "customPlotOptions": {},
        "displayType": "table",
        "pivotAggregation": null,
        "pivotColumns": null,
        "xColumns": null,
        "yColumns": null
       },
       "removedWidgets": [],
       "schema": [
        {
         "metadata": "{}",
         "name": "path",
         "type": "\"string\""
        },
        {
         "metadata": "{}",
         "name": "name",
         "type": "\"string\""
        },
        {
         "metadata": "{}",
         "name": "size",
         "type": "\"long\""
        },
        {
         "metadata": "{}",
         "name": "modificationTime",
         "type": "\"long\""
        }
       ],
       "type": "table"
      }
     },
     "output_type": "display_data"
    }
   ],
   "source": [
    "%fs ls dbfs:///FileStore/tables/data/"
   ]
  },
  {
   "cell_type": "code",
   "execution_count": 0,
   "metadata": {
    "application/vnd.databricks.v1+cell": {
     "cellMetadata": {
      "byteLimit": 2048000,
      "rowLimit": 10000
     },
     "inputWidgets": {},
     "nuid": "4f65b1a8-eb78-470d-ba05-311e9798be01",
     "showTitle": false,
     "title": ""
    }
   },
   "outputs": [],
   "source": [
    "df_csv = spark.read.format(\"csv\").load(\"dbfs:/FileStore/tables/data/csv/batch.csv\")"
   ]
  },
  {
   "cell_type": "code",
   "execution_count": 0,
   "metadata": {
    "application/vnd.databricks.v1+cell": {
     "cellMetadata": {
      "byteLimit": 2048000,
      "rowLimit": 10000
     },
     "inputWidgets": {},
     "nuid": "391efc2b-ac6f-4ec4-a70e-80a29852eafa",
     "showTitle": false,
     "title": ""
    }
   },
   "outputs": [
    {
     "output_type": "stream",
     "name": "stdout",
     "output_type": "stream",
     "text": [
      "+---+-----+----------+----+------+----------+\n|_c0|  _c1|       _c2| _c3|   _c4|       _c5|\n+---+-----+----------+----+------+----------+\n| id| name|       dob| age|salary|department|\n|  1| John|1992-05-12|  30| 70000|        IT|\n|  2|Alice|1997-02-28|  25| 60000|        HR|\n|  3|  Bob|      null|null| 80000|        IT|\n|  4|Emily|1994-11-22|  28| 65000|   Finance|\n+---+-----+----------+----+------+----------+\n\n"
     ]
    }
   ],
   "source": [
    "df_csv.show()"
   ]
  },
  {
   "cell_type": "code",
   "execution_count": 0,
   "metadata": {
    "application/vnd.databricks.v1+cell": {
     "cellMetadata": {
      "byteLimit": 2048000,
      "rowLimit": 10000
     },
     "inputWidgets": {},
     "nuid": "39605312-919f-4cac-96a6-ce97c741b214",
     "showTitle": false,
     "title": ""
    }
   },
   "outputs": [],
   "source": [
    "df_csv = spark.read.format(\"csv\").option(\"header\", \"true\").load(\"dbfs:/FileStore/tables/data/csv/batch.csv\")"
   ]
  },
  {
   "cell_type": "code",
   "execution_count": 0,
   "metadata": {
    "application/vnd.databricks.v1+cell": {
     "cellMetadata": {
      "byteLimit": 2048000,
      "rowLimit": 10000
     },
     "inputWidgets": {},
     "nuid": "bb3237c1-e66b-442b-ac19-181aa9c394e7",
     "showTitle": false,
     "title": ""
    }
   },
   "outputs": [
    {
     "output_type": "stream",
     "name": "stdout",
     "output_type": "stream",
     "text": [
      "+---+-----+----------+----+------+----------+\n| id| name|       dob| age|salary|department|\n+---+-----+----------+----+------+----------+\n|  1| John|1992-05-12|  30| 70000|        IT|\n|  2|Alice|1997-02-28|  25| 60000|        HR|\n|  3|  Bob|      null|null| 80000|        IT|\n|  4|Emily|1994-11-22|  28| 65000|   Finance|\n+---+-----+----------+----+------+----------+\n\n"
     ]
    }
   ],
   "source": [
    "df_csv.show()"
   ]
  },
  {
   "cell_type": "code",
   "execution_count": 0,
   "metadata": {
    "application/vnd.databricks.v1+cell": {
     "cellMetadata": {
      "byteLimit": 2048000,
      "rowLimit": 10000
     },
     "inputWidgets": {},
     "nuid": "30f1a80a-e07e-4ee4-b63e-262576212a52",
     "showTitle": false,
     "title": ""
    }
   },
   "outputs": [
    {
     "output_type": "stream",
     "name": "stdout",
     "output_type": "stream",
     "text": [
      "root\n |-- id: string (nullable = true)\n |-- name: string (nullable = true)\n |-- dob: string (nullable = true)\n |-- age: string (nullable = true)\n |-- salary: string (nullable = true)\n |-- department: string (nullable = true)\n\n"
     ]
    }
   ],
   "source": [
    "df_csv.printSchema()"
   ]
  },
  {
   "cell_type": "code",
   "execution_count": 0,
   "metadata": {
    "application/vnd.databricks.v1+cell": {
     "cellMetadata": {
      "byteLimit": 2048000,
      "rowLimit": 10000
     },
     "inputWidgets": {},
     "nuid": "d5ff798e-0d05-4962-9aa5-3dc5f731a5f7",
     "showTitle": false,
     "title": ""
    }
   },
   "outputs": [],
   "source": [
    "from pyspark.sql.types import StructType, StructField, StringType, IntegerType, DateType"
   ]
  },
  {
   "cell_type": "code",
   "execution_count": 0,
   "metadata": {
    "application/vnd.databricks.v1+cell": {
     "cellMetadata": {
      "byteLimit": 2048000,
      "rowLimit": 10000
     },
     "inputWidgets": {},
     "nuid": "9930cdbd-b487-484e-8dfa-0528df50bccb",
     "showTitle": false,
     "title": ""
    }
   },
   "outputs": [],
   "source": [
    "schema = StructType([\n",
    "    StructField(\"id\", IntegerType()),\n",
    "    StructField(\"name\", StringType()),\n",
    "    StructField(\"dob\", DateType()),\n",
    "    StructField(\"age\", IntegerType()),\n",
    "    StructField(\"salary\", IntegerType()),\n",
    "    StructField(\"department\", StringType())\n",
    "])"
   ]
  },
  {
   "cell_type": "code",
   "execution_count": 0,
   "metadata": {
    "application/vnd.databricks.v1+cell": {
     "cellMetadata": {
      "byteLimit": 2048000,
      "rowLimit": 10000
     },
     "inputWidgets": {},
     "nuid": "b3662819-fdf0-4b5f-b6de-75a038957b50",
     "showTitle": false,
     "title": ""
    }
   },
   "outputs": [],
   "source": [
    "df_csv = spark.read.format(\"csv\").schema(schema).option(\"header\", True).load(\"dbfs:/FileStore/tables/data/csv/batch.csv\")"
   ]
  },
  {
   "cell_type": "code",
   "execution_count": 0,
   "metadata": {
    "application/vnd.databricks.v1+cell": {
     "cellMetadata": {
      "byteLimit": 2048000,
      "rowLimit": 10000
     },
     "inputWidgets": {},
     "nuid": "a8118ab1-96a4-4b5a-b4e5-5c18bab529c5",
     "showTitle": false,
     "title": ""
    }
   },
   "outputs": [
    {
     "output_type": "stream",
     "name": "stdout",
     "output_type": "stream",
     "text": [
      "+---+-----+----------+----+------+----------+\n| id| name|       dob| age|salary|department|\n+---+-----+----------+----+------+----------+\n|  1| John|1992-05-12|  30| 70000|        IT|\n|  2|Alice|1997-02-28|  25| 60000|        HR|\n|  3|  Bob|      null|null| 80000|        IT|\n|  4|Emily|1994-11-22|  28| 65000|   Finance|\n+---+-----+----------+----+------+----------+\n\n"
     ]
    }
   ],
   "source": [
    "df_csv.show()"
   ]
  },
  {
   "cell_type": "code",
   "execution_count": 0,
   "metadata": {
    "application/vnd.databricks.v1+cell": {
     "cellMetadata": {
      "byteLimit": 2048000,
      "rowLimit": 10000
     },
     "inputWidgets": {},
     "nuid": "4b15e858-b965-4f0c-8238-a53ae0d816db",
     "showTitle": false,
     "title": ""
    }
   },
   "outputs": [
    {
     "output_type": "stream",
     "name": "stdout",
     "output_type": "stream",
     "text": [
      "root\n |-- id: integer (nullable = true)\n |-- name: string (nullable = true)\n |-- dob: date (nullable = true)\n |-- age: integer (nullable = true)\n |-- salary: integer (nullable = true)\n |-- department: string (nullable = true)\n\n"
     ]
    }
   ],
   "source": [
    "df_csv.printSchema()"
   ]
  },
  {
   "cell_type": "code",
   "execution_count": 0,
   "metadata": {
    "application/vnd.databricks.v1+cell": {
     "cellMetadata": {
      "byteLimit": 2048000,
      "rowLimit": 10000
     },
     "inputWidgets": {},
     "nuid": "3b83bc73-48be-4edc-944a-f9b69302ae55",
     "showTitle": false,
     "title": ""
    }
   },
   "outputs": [],
   "source": [
    "df_json = spark.read.format(\"json\").schema(schema).load(\"dbfs:/FileStore/tables/data/json\")"
   ]
  },
  {
   "cell_type": "code",
   "execution_count": 0,
   "metadata": {
    "application/vnd.databricks.v1+cell": {
     "cellMetadata": {
      "byteLimit": 2048000,
      "rowLimit": 10000
     },
     "inputWidgets": {},
     "nuid": "fbc8206e-8992-4246-b020-db419ca3d0b9",
     "showTitle": false,
     "title": ""
    }
   },
   "outputs": [
    {
     "output_type": "stream",
     "name": "stdout",
     "output_type": "stream",
     "text": [
      "+---+-----+----------+----+------+----------+\n| id| name|       dob| age|salary|department|\n+---+-----+----------+----+------+----------+\n|  1| John|1992-05-12|  30| 70000|        IT|\n|  2|Alice|1997-02-28|  25| 60000|        HR|\n|  3|  Bob|      null|null| 80000|        IT|\n|  4|Emily|1994-11-22|  28| 65000|   Finance|\n|  5|David|1981-12-18|  41| 90000|        HR|\n|  6|Susan|1989-07-05|  33| 75000|   Finance|\n|  7| Mike|1976-03-15|  46| 95000|        IT|\n|  1| John|1992-05-12|  30| 70000|        IT|\n|  2|Alice|1997-02-28|  25| 60000|        HR|\n|  3|  Bob|      null|null| 80000|        IT|\n|  4|Emily|1994-11-22|  28| 65000|   Finance|\n|  5|David|1981-12-18|  41| 90000|        HR|\n|  6|Susan|1989-07-05|  33| 75000|   Finance|\n|  7| Mike|1976-03-15|  46| 95000|        IT|\n|  1| John|1992-05-12|  30| 70000|        IT|\n|  2|Alice|1997-02-28|  25| 60000|        HR|\n|  3|  Bob|      null|null| 80000|        IT|\n|  4|Emily|1994-11-22|  28| 65000|   Finance|\n|  5|David|1981-12-18|  41| 90000|        HR|\n|  6|Susan|1989-07-05|  33| 75000|   Finance|\n+---+-----+----------+----+------+----------+\nonly showing top 20 rows\n\n"
     ]
    }
   ],
   "source": [
    "df_json.show()"
   ]
  },
  {
   "cell_type": "code",
   "execution_count": 0,
   "metadata": {
    "application/vnd.databricks.v1+cell": {
     "cellMetadata": {
      "byteLimit": 2048000,
      "rowLimit": 10000
     },
     "inputWidgets": {},
     "nuid": "658b4e2e-6fc5-4288-9b50-6cf28c635c5f",
     "showTitle": false,
     "title": ""
    }
   },
   "outputs": [
    {
     "output_type": "stream",
     "name": "stdout",
     "output_type": "stream",
     "text": [
      "root\n |-- id: integer (nullable = true)\n |-- name: string (nullable = true)\n |-- dob: date (nullable = true)\n |-- age: integer (nullable = true)\n |-- salary: integer (nullable = true)\n |-- department: string (nullable = true)\n\n"
     ]
    }
   ],
   "source": [
    "df_json.printSchema()"
   ]
  },
  {
   "cell_type": "code",
   "execution_count": 0,
   "metadata": {
    "application/vnd.databricks.v1+cell": {
     "cellMetadata": {
      "byteLimit": 2048000,
      "rowLimit": 10000
     },
     "inputWidgets": {},
     "nuid": "00a764f8-c3ad-4818-8af7-4aa5049fbaac",
     "showTitle": false,
     "title": ""
    }
   },
   "outputs": [],
   "source": [
    "df_json = df_json.orderBy(\"id\")"
   ]
  },
  {
   "cell_type": "code",
   "execution_count": 0,
   "metadata": {
    "application/vnd.databricks.v1+cell": {
     "cellMetadata": {
      "byteLimit": 2048000,
      "rowLimit": 10000
     },
     "inputWidgets": {},
     "nuid": "f7bb3bb0-715d-4649-99c5-4ba92eecff1a",
     "showTitle": false,
     "title": ""
    }
   },
   "outputs": [
    {
     "output_type": "stream",
     "name": "stdout",
     "output_type": "stream",
     "text": [
      "+---+-----+----------+----+------+----------+\n| id| name|       dob| age|salary|department|\n+---+-----+----------+----+------+----------+\n|  1| John|1992-05-12|  30| 70000|        IT|\n|  1| John|1992-05-12|  30| 70000|        IT|\n|  1| John|1992-05-12|  30| 70000|        IT|\n|  1| John|1992-05-12|  30| 70000|        IT|\n|  1| John|1992-05-12|  30| 70000|        IT|\n|  1| John|1992-05-12|  30| 70000|        IT|\n|  2|Alice|1997-02-28|  25| 90000|   Finance|\n|  2|Alice|1997-02-28|  25| 60000|        HR|\n|  2|Alice|1997-02-28|  25| 90000|   Finance|\n|  2|Alice|1997-02-28|  25| 60000|        HR|\n|  2|Alice|1997-02-28|  25| 90000|   Finance|\n|  2|Alice|1997-02-28|  25| 60000|        HR|\n|  3|  Bob|      null|null| 80000|        IT|\n|  3|  Bob|      null|null| 80000|        IT|\n|  3|  Bob|      null|null| 80000|        IT|\n|  4|Emily|1994-11-22|  28| 70000|   Finance|\n|  4|Emily|1994-11-22|  28| 65000|   Finance|\n|  4|Emily|1994-11-22|  28| 70000|   Finance|\n|  4|Emily|1994-11-22|  28| 65000|   Finance|\n|  4|Emily|1994-11-22|  28| 70000|   Finance|\n+---+-----+----------+----+------+----------+\nonly showing top 20 rows\n\n"
     ]
    }
   ],
   "source": [
    "df_json.show()"
   ]
  },
  {
   "cell_type": "code",
   "execution_count": 0,
   "metadata": {
    "application/vnd.databricks.v1+cell": {
     "cellMetadata": {
      "byteLimit": 2048000,
      "rowLimit": 10000
     },
     "inputWidgets": {},
     "nuid": "f071153c-e139-40e2-b049-d7b5b3c98392",
     "showTitle": false,
     "title": ""
    }
   },
   "outputs": [
    {
     "output_type": "stream",
     "name": "stdout",
     "output_type": "stream",
     "text": [
      "+---+-----+----------+----+------+----------+\n| id| name|       dob| age|salary|department|\n+---+-----+----------+----+------+----------+\n|  1| John|1992-05-12|  30| 70000|        IT|\n|  2|Alice|1997-02-28|  25| 60000|        HR|\n|  3|  Bob|      null|null| 80000|        IT|\n|  4|Emily|1994-11-22|  28| 65000|   Finance|\n|  1| John|1992-05-12|  30| 70000|        IT|\n|  1| John|1992-05-12|  30| 70000|        IT|\n|  1| John|1992-05-12|  30| 70000|        IT|\n|  1| John|1992-05-12|  30| 70000|        IT|\n|  1| John|1992-05-12|  30| 70000|        IT|\n|  1| John|1992-05-12|  30| 70000|        IT|\n|  2|Alice|1997-02-28|  25| 60000|        HR|\n|  2|Alice|1997-02-28|  25| 60000|        HR|\n|  2|Alice|1997-02-28|  25| 60000|        HR|\n|  2|Alice|1997-02-28|  25| 90000|   Finance|\n|  2|Alice|1997-02-28|  25| 90000|   Finance|\n|  2|Alice|1997-02-28|  25| 90000|   Finance|\n|  3|  Bob|      null|null| 80000|        IT|\n|  3|  Bob|      null|null| 80000|        IT|\n|  3|  Bob|      null|null| 80000|        IT|\n|  4|Emily|1994-11-22|  28| 65000|   Finance|\n+---+-----+----------+----+------+----------+\nonly showing top 20 rows\n\n"
     ]
    }
   ],
   "source": [
    "df = df_csv.union(df_json)\n",
    "df.show()"
   ]
  },
  {
   "cell_type": "code",
   "execution_count": 0,
   "metadata": {
    "application/vnd.databricks.v1+cell": {
     "cellMetadata": {
      "byteLimit": 2048000,
      "rowLimit": 10000
     },
     "inputWidgets": {},
     "nuid": "e3bcd8bf-df1d-4a27-bc62-bb31526624c3",
     "showTitle": false,
     "title": ""
    }
   },
   "outputs": [
    {
     "output_type": "stream",
     "name": "stdout",
     "output_type": "stream",
     "text": [
      "['id', 'name', 'dob', 'age', 'salary', 'department'] ['id', 'name', 'dob', 'age', 'salary', 'department']\n"
     ]
    }
   ],
   "source": [
    "print(df_csv.columns, df_json.columns)"
   ]
  },
  {
   "cell_type": "code",
   "execution_count": 0,
   "metadata": {
    "application/vnd.databricks.v1+cell": {
     "cellMetadata": {
      "byteLimit": 2048000,
      "rowLimit": 10000
     },
     "inputWidgets": {},
     "nuid": "92df8ee3-79b8-4c8e-9de7-399ff0298585",
     "showTitle": false,
     "title": ""
    }
   },
   "outputs": [],
   "source": [
    "df_json = df_json.select(df_csv.columns)"
   ]
  },
  {
   "cell_type": "code",
   "execution_count": 0,
   "metadata": {
    "application/vnd.databricks.v1+cell": {
     "cellMetadata": {
      "byteLimit": 2048000,
      "rowLimit": 10000
     },
     "inputWidgets": {},
     "nuid": "e5842042-7b29-4d90-b1e4-a272dee65982",
     "showTitle": false,
     "title": ""
    }
   },
   "outputs": [
    {
     "output_type": "stream",
     "name": "stdout",
     "output_type": "stream",
     "text": [
      "+---+-----+----------+----+------+----------+\n| id| name|       dob| age|salary|department|\n+---+-----+----------+----+------+----------+\n|  1| John|1992-05-12|  30| 70000|        IT|\n|  1| John|1992-05-12|  30| 70000|        IT|\n|  1| John|1992-05-12|  30| 70000|        IT|\n|  1| John|1992-05-12|  30| 70000|        IT|\n|  1| John|1992-05-12|  30| 70000|        IT|\n|  1| John|1992-05-12|  30| 70000|        IT|\n|  2|Alice|1997-02-28|  25| 90000|   Finance|\n|  2|Alice|1997-02-28|  25| 60000|        HR|\n|  2|Alice|1997-02-28|  25| 90000|   Finance|\n|  2|Alice|1997-02-28|  25| 60000|        HR|\n|  2|Alice|1997-02-28|  25| 90000|   Finance|\n|  2|Alice|1997-02-28|  25| 60000|        HR|\n|  3|  Bob|      null|null| 80000|        IT|\n|  3|  Bob|      null|null| 80000|        IT|\n|  3|  Bob|      null|null| 80000|        IT|\n|  4|Emily|1994-11-22|  28| 70000|   Finance|\n|  4|Emily|1994-11-22|  28| 65000|   Finance|\n|  4|Emily|1994-11-22|  28| 70000|   Finance|\n|  4|Emily|1994-11-22|  28| 65000|   Finance|\n|  4|Emily|1994-11-22|  28| 70000|   Finance|\n+---+-----+----------+----+------+----------+\nonly showing top 20 rows\n\n"
     ]
    }
   ],
   "source": [
    "df_json.show()"
   ]
  },
  {
   "cell_type": "code",
   "execution_count": 0,
   "metadata": {
    "application/vnd.databricks.v1+cell": {
     "cellMetadata": {
      "byteLimit": 2048000,
      "rowLimit": 10000
     },
     "inputWidgets": {},
     "nuid": "9f3cbd13-037d-44bc-a1f4-4d16e7d86d59",
     "showTitle": false,
     "title": ""
    }
   },
   "outputs": [],
   "source": [
    "df = df_csv.union(df_json)"
   ]
  },
  {
   "cell_type": "code",
   "execution_count": 0,
   "metadata": {
    "application/vnd.databricks.v1+cell": {
     "cellMetadata": {
      "byteLimit": 2048000,
      "rowLimit": 10000
     },
     "inputWidgets": {},
     "nuid": "0bd846bc-9453-46f0-b8ae-785b1c556165",
     "showTitle": false,
     "title": ""
    }
   },
   "outputs": [
    {
     "output_type": "stream",
     "name": "stdout",
     "output_type": "stream",
     "text": [
      "+---+-----+----------+----+------+----------+\n| id| name|       dob| age|salary|department|\n+---+-----+----------+----+------+----------+\n|  1| John|1992-05-12|  30| 70000|        IT|\n|  2|Alice|1997-02-28|  25| 60000|        HR|\n|  3|  Bob|      null|null| 80000|        IT|\n|  4|Emily|1994-11-22|  28| 65000|   Finance|\n|  1| John|1992-05-12|  30| 70000|        IT|\n|  1| John|1992-05-12|  30| 70000|        IT|\n|  1| John|1992-05-12|  30| 70000|        IT|\n|  1| John|1992-05-12|  30| 70000|        IT|\n|  1| John|1992-05-12|  30| 70000|        IT|\n|  1| John|1992-05-12|  30| 70000|        IT|\n|  2|Alice|1997-02-28|  25| 60000|        HR|\n|  2|Alice|1997-02-28|  25| 60000|        HR|\n|  2|Alice|1997-02-28|  25| 60000|        HR|\n|  2|Alice|1997-02-28|  25| 90000|   Finance|\n|  2|Alice|1997-02-28|  25| 90000|   Finance|\n|  2|Alice|1997-02-28|  25| 90000|   Finance|\n|  3|  Bob|      null|null| 80000|        IT|\n|  3|  Bob|      null|null| 80000|        IT|\n|  3|  Bob|      null|null| 80000|        IT|\n|  4|Emily|1994-11-22|  28| 65000|   Finance|\n+---+-----+----------+----+------+----------+\nonly showing top 20 rows\n\n"
     ]
    }
   ],
   "source": [
    "df.show()"
   ]
  },
  {
   "cell_type": "code",
   "execution_count": 0,
   "metadata": {
    "application/vnd.databricks.v1+cell": {
     "cellMetadata": {
      "byteLimit": 2048000,
      "rowLimit": 10000
     },
     "inputWidgets": {},
     "nuid": "cc947072-09e6-4e1a-a90b-76d829e2b55d",
     "showTitle": false,
     "title": ""
    }
   },
   "outputs": [
    {
     "output_type": "stream",
     "name": "stdout",
     "output_type": "stream",
     "text": [
      "root\n |-- id: integer (nullable = true)\n |-- name: string (nullable = true)\n |-- dob: date (nullable = true)\n |-- age: integer (nullable = true)\n |-- salary: integer (nullable = true)\n |-- department: string (nullable = true)\n\n"
     ]
    }
   ],
   "source": [
    "df_json.printSchema()"
   ]
  },
  {
   "cell_type": "code",
   "execution_count": 0,
   "metadata": {
    "application/vnd.databricks.v1+cell": {
     "cellMetadata": {
      "byteLimit": 2048000,
      "rowLimit": 10000
     },
     "inputWidgets": {},
     "nuid": "198ddb15-b49f-4881-930e-43ce6aa68c0b",
     "showTitle": false,
     "title": ""
    }
   },
   "outputs": [],
   "source": [
    "df = df.dropDuplicates()"
   ]
  },
  {
   "cell_type": "code",
   "execution_count": 0,
   "metadata": {
    "application/vnd.databricks.v1+cell": {
     "cellMetadata": {
      "byteLimit": 2048000,
      "rowLimit": 10000
     },
     "inputWidgets": {},
     "nuid": "49cda918-4294-4417-848e-fa47e5e1ce12",
     "showTitle": false,
     "title": ""
    }
   },
   "outputs": [
    {
     "output_type": "stream",
     "name": "stdout",
     "output_type": "stream",
     "text": [
      "+---+------+----------+----+------+----------+\n| id|  name|       dob| age|salary|department|\n+---+------+----------+----+------+----------+\n|  3|   Bob|      null|null| 80000|        IT|\n|  4| Emily|1994-11-22|  28| 65000|   Finance|\n|  2| Alice|1997-02-28|  25| 60000|        HR|\n|  1|  John|1992-05-12|  30| 70000|        IT|\n|  5| David|1981-12-18|  41| 90000|        HR|\n|  6| Susan|1989-07-05|  33| 75000|   Finance|\n|  7|  Mike|1976-03-15|  46| 95000|        IT|\n| 10|Sophie|1992-06-30|  30| 62000|   Finance|\n|  2| Alice|1997-02-28|  25| 90000|   Finance|\n|  4| Emily|1994-11-22|  28| 70000|   Finance|\n|  9| James|1983-10-14|  39| 87000|        IT|\n|  8|  Lisa|1995-08-20|  27| 58000|        HR|\n+---+------+----------+----+------+----------+\n\n"
     ]
    }
   ],
   "source": [
    "df.show()"
   ]
  },
  {
   "cell_type": "code",
   "execution_count": 0,
   "metadata": {
    "application/vnd.databricks.v1+cell": {
     "cellMetadata": {
      "byteLimit": 2048000,
      "rowLimit": 10000
     },
     "inputWidgets": {},
     "nuid": "154ca152-5f3b-4b98-9781-0bec19c95094",
     "showTitle": false,
     "title": ""
    }
   },
   "outputs": [
    {
     "output_type": "stream",
     "name": "stdout",
     "output_type": "stream",
     "text": [
      "Out[26]: 12"
     ]
    }
   ],
   "source": [
    "df.count()"
   ]
  },
  {
   "cell_type": "code",
   "execution_count": 0,
   "metadata": {
    "application/vnd.databricks.v1+cell": {
     "cellMetadata": {
      "byteLimit": 2048000,
      "rowLimit": 10000
     },
     "inputWidgets": {},
     "nuid": "d3ca9d3a-7c21-4d84-b7b8-a663c0674b42",
     "showTitle": false,
     "title": ""
    }
   },
   "outputs": [
    {
     "output_type": "stream",
     "name": "stdout",
     "output_type": "stream",
     "text": [
      "+---+------+----------+----+------+----------+\n| id|  name|       dob| age|salary|department|\n+---+------+----------+----+------+----------+\n|  3|   Bob|      null|null| 80000|        IT|\n|  4| Emily|1994-11-22|  28| 65000|   Finance|\n|  2| Alice|1997-02-28|  25| 60000|        HR|\n|  1|  John|1992-05-12|  30| 70000|        IT|\n|  5| David|1981-12-18|  41| 90000|        HR|\n|  6| Susan|1989-07-05|  33| 75000|   Finance|\n|  7|  Mike|1976-03-15|  46| 95000|        IT|\n| 10|Sophie|1992-06-30|  30| 62000|   Finance|\n|  2| Alice|1997-02-28|  25| 90000|   Finance|\n|  4| Emily|1994-11-22|  28| 70000|   Finance|\n|  9| James|1983-10-14|  39| 87000|        IT|\n|  8|  Lisa|1995-08-20|  27| 58000|        HR|\n+---+------+----------+----+------+----------+\n\n"
     ]
    }
   ],
   "source": [
    "#Transformation\n",
    "df.show()"
   ]
  },
  {
   "cell_type": "code",
   "execution_count": 0,
   "metadata": {
    "application/vnd.databricks.v1+cell": {
     "cellMetadata": {
      "byteLimit": 2048000,
      "rowLimit": 10000
     },
     "inputWidgets": {},
     "nuid": "ec464193-acc5-490c-bdda-953b9b397587",
     "showTitle": false,
     "title": ""
    }
   },
   "outputs": [
    {
     "output_type": "stream",
     "name": "stdout",
     "output_type": "stream",
     "text": [
      "+------+\n|salary|\n+------+\n| 80000|\n| 65000|\n| 60000|\n| 70000|\n| 90000|\n| 75000|\n| 95000|\n| 62000|\n| 90000|\n| 70000|\n| 87000|\n| 58000|\n+------+\n\n+------+\n|salary|\n+------+\n| 80000|\n| 65000|\n| 60000|\n| 70000|\n| 90000|\n| 75000|\n| 95000|\n| 62000|\n| 90000|\n| 70000|\n| 87000|\n| 58000|\n+------+\n\n+------+\n|salary|\n+------+\n| 80000|\n| 65000|\n| 60000|\n| 70000|\n| 90000|\n| 75000|\n| 95000|\n| 62000|\n| 90000|\n| 70000|\n| 87000|\n| 58000|\n+------+\n\n"
     ]
    }
   ],
   "source": [
    "df.select(\n",
    "    \"salary\"\n",
    ").show()\n",
    "\n",
    "df.select(\n",
    "    df.salary\n",
    ").show()\n",
    "\n",
    "df.select(\n",
    "    [\"salary\"]\n",
    ").show()\n",
    "\n"
   ]
  },
  {
   "cell_type": "code",
   "execution_count": 0,
   "metadata": {
    "application/vnd.databricks.v1+cell": {
     "cellMetadata": {
      "byteLimit": 2048000,
      "rowLimit": 10000
     },
     "inputWidgets": {},
     "nuid": "862b4004-d768-4abe-9cec-904956cbe59d",
     "showTitle": false,
     "title": ""
    }
   },
   "outputs": [
    {
     "output_type": "stream",
     "name": "stdout",
     "output_type": "stream",
     "text": [
      "+------+------+----+\n|salary|  name| age|\n+------+------+----+\n| 80000|   Bob|null|\n| 65000| Emily|  28|\n| 60000| Alice|  25|\n| 70000|  John|  30|\n| 90000| David|  41|\n| 75000| Susan|  33|\n| 95000|  Mike|  46|\n| 62000|Sophie|  30|\n| 90000| Alice|  25|\n| 70000| Emily|  28|\n| 87000| James|  39|\n| 58000|  Lisa|  27|\n+------+------+----+\n\n"
     ]
    }
   ],
   "source": [
    "df.select(\n",
    "    \"salary\",\n",
    "    \"name\",\n",
    "    \"age\"\n",
    ").show()\n"
   ]
  },
  {
   "cell_type": "code",
   "execution_count": 0,
   "metadata": {
    "application/vnd.databricks.v1+cell": {
     "cellMetadata": {
      "byteLimit": 2048000,
      "rowLimit": 10000
     },
     "inputWidgets": {},
     "nuid": "ec3abf45-d657-4910-b86c-c215ee47f5e8",
     "showTitle": false,
     "title": ""
    }
   },
   "outputs": [],
   "source": [
    "from pyspark.sql import functions as F\n",
    "# from pyspark.sql.functions import *   imports everything\n",
    "# from pyspark.sql.functions import col,max,min can override python's max min functions"
   ]
  },
  {
   "cell_type": "code",
   "execution_count": 0,
   "metadata": {
    "application/vnd.databricks.v1+cell": {
     "cellMetadata": {
      "byteLimit": 2048000,
      "rowLimit": 10000
     },
     "inputWidgets": {},
     "nuid": "6a6c80d7-6c4f-4831-9e94-59e252507f6b",
     "showTitle": false,
     "title": ""
    }
   },
   "outputs": [
    {
     "output_type": "stream",
     "name": "stdout",
     "output_type": "stream",
     "text": [
      "+------+\n|salary|\n+------+\n| 80000|\n| 65000|\n| 60000|\n| 70000|\n| 90000|\n| 75000|\n| 95000|\n| 62000|\n| 90000|\n| 70000|\n| 87000|\n| 58000|\n+------+\n\n"
     ]
    }
   ],
   "source": [
    "df.select(\n",
    "    F.col(\"salary\")\n",
    ").show()"
   ]
  },
  {
   "cell_type": "code",
   "execution_count": 0,
   "metadata": {
    "application/vnd.databricks.v1+cell": {
     "cellMetadata": {
      "byteLimit": 2048000,
      "rowLimit": 10000
     },
     "inputWidgets": {},
     "nuid": "1a88151d-cbb3-4421-b1bc-658cb83a00f3",
     "showTitle": false,
     "title": ""
    }
   },
   "outputs": [
    {
     "output_type": "stream",
     "name": "stdout",
     "output_type": "stream",
     "text": [
      "+-------------------------------------------+---------------------------------------+---------------------------------------+\n|(salary + (salary AS salary_raised * 0.05))|(year(current_timestamp()) - year(dob))|(year(current_timestamp()) - year(dob))|\n+-------------------------------------------+---------------------------------------+---------------------------------------+\n|                                    84000.0|                                   null|                                   null|\n|                                    68250.0|                                     30|                                     30|\n|                                    63000.0|                                     27|                                     27|\n|                                    73500.0|                                     32|                                     32|\n|                                    94500.0|                                     43|                                     43|\n|                                    78750.0|                                     35|                                     35|\n|                                    99750.0|                                     48|                                     48|\n|                                    65100.0|                                     32|                                     32|\n|                                    94500.0|                                     27|                                     27|\n|                                    73500.0|                                     30|                                     30|\n|                                    91350.0|                                     41|                                     41|\n|                                    60900.0|                                     29|                                     29|\n+-------------------------------------------+---------------------------------------+---------------------------------------+\n\n"
     ]
    }
   ],
   "source": [
    "df.select(\n",
    "    df.salary + 0.05* df.salary.alias(\"salary_raised\"),\n",
    "    F.year(F.current_timestamp())-F.year(\"dob\"),\n",
    "    F.year(F.current_timestamp())-F.year(F.col(\"dob\")),\n",
    ").show()"
   ]
  },
  {
   "cell_type": "code",
   "execution_count": 0,
   "metadata": {
    "application/vnd.databricks.v1+cell": {
     "cellMetadata": {
      "byteLimit": 2048000,
      "rowLimit": 10000
     },
     "inputWidgets": {},
     "nuid": "34d11089-2060-4643-bf0e-08cb774ed2b7",
     "showTitle": false,
     "title": ""
    }
   },
   "outputs": [
    {
     "output_type": "stream",
     "name": "stdout",
     "output_type": "stream",
     "text": [
      "+---+------+----------+----+------+----------+--------------------------+--------+-----+\n| id|  name|       dob| age|salary|department|(salary + (salary * 0.05))|   raise|ageee|\n+---+------+----------+----+------+----------+--------------------------+--------+-----+\n|  3|   Bob|      null|null| 80000|        IT|                   84000.0|84000.00| null|\n|  4| Emily|1994-11-22|  28| 65000|   Finance|                   68250.0|68250.00|   30|\n|  2| Alice|1997-02-28|  25| 60000|        HR|                   63000.0|63000.00|   27|\n|  1|  John|1992-05-12|  30| 70000|        IT|                   73500.0|73500.00|   32|\n|  5| David|1981-12-18|  41| 90000|        HR|                   94500.0|94500.00|   43|\n|  6| Susan|1989-07-05|  33| 75000|   Finance|                   78750.0|78750.00|   35|\n|  7|  Mike|1976-03-15|  46| 95000|        IT|                   99750.0|99750.00|   48|\n| 10|Sophie|1992-06-30|  30| 62000|   Finance|                   65100.0|65100.00|   32|\n|  2| Alice|1997-02-28|  25| 90000|   Finance|                   94500.0|94500.00|   27|\n|  4| Emily|1994-11-22|  28| 70000|   Finance|                   73500.0|73500.00|   30|\n|  9| James|1983-10-14|  39| 87000|        IT|                   91350.0|91350.00|   41|\n|  8|  Lisa|1995-08-20|  27| 58000|        HR|                   60900.0|60900.00|   29|\n+---+------+----------+----+------+----------+--------------------------+--------+-----+\n\n"
     ]
    }
   ],
   "source": [
    "df.select(\n",
    "    \"*\",\n",
    "    df.salary + 0.05* df.salary,\n",
    "    F.expr(\"salary + 0.05* salary\").alias(\"raise\"),\n",
    "    (F.year(F.current_timestamp())-F.year(F.col(\"dob\"))).alias(\"ageee\"),\n",
    ").show()"
   ]
  },
  {
   "cell_type": "code",
   "execution_count": 0,
   "metadata": {
    "application/vnd.databricks.v1+cell": {
     "cellMetadata": {
      "byteLimit": 2048000,
      "rowLimit": 10000
     },
     "inputWidgets": {},
     "nuid": "4e7b89e6-7e7f-4f2b-a639-eb26eb8c5d38",
     "showTitle": false,
     "title": ""
    }
   },
   "outputs": [],
   "source": [
    "#with column"
   ]
  },
  {
   "cell_type": "code",
   "execution_count": 0,
   "metadata": {
    "application/vnd.databricks.v1+cell": {
     "cellMetadata": {
      "byteLimit": 2048000,
      "rowLimit": 10000
     },
     "inputWidgets": {},
     "nuid": "21f829aa-5c0f-4056-ae3e-8f88fee9442e",
     "showTitle": false,
     "title": ""
    }
   },
   "outputs": [
    {
     "output_type": "stream",
     "name": "stdout",
     "output_type": "stream",
     "text": [
      "+---+------+----------+----+------+----------+-------+---------------+\n| id|  name|       dob| age|salary|department|  raise|raise_10percent|\n+---+------+----------+----+------+----------+-------+---------------+\n|  3|   Bob|      null|null| 80000|        IT|84000.0|        88000.0|\n|  4| Emily|1994-11-22|  28| 65000|   Finance|68250.0|        71500.0|\n|  2| Alice|1997-02-28|  25| 60000|        HR|63000.0|        66000.0|\n|  1|  John|1992-05-12|  30| 70000|        IT|73500.0|        77000.0|\n|  5| David|1981-12-18|  41| 90000|        HR|94500.0|        99000.0|\n|  6| Susan|1989-07-05|  33| 75000|   Finance|78750.0|        82500.0|\n|  7|  Mike|1976-03-15|  46| 95000|        IT|99750.0|       104500.0|\n| 10|Sophie|1992-06-30|  30| 62000|   Finance|65100.0|        68200.0|\n|  2| Alice|1997-02-28|  25| 90000|   Finance|94500.0|        99000.0|\n|  4| Emily|1994-11-22|  28| 70000|   Finance|73500.0|        77000.0|\n|  9| James|1983-10-14|  39| 87000|        IT|91350.0|        95700.0|\n|  8|  Lisa|1995-08-20|  27| 58000|        HR|60900.0|        63800.0|\n+---+------+----------+----+------+----------+-------+---------------+\n\n"
     ]
    }
   ],
   "source": [
    "df = df.withColumn(\n",
    "    \"raise\",\n",
    "    (F.col(\"salary\") + 0.05 *F.col(\"salary\"))\n",
    ")\n",
    "\n",
    "\n",
    "df = df.withColumn(\n",
    "    \"raise_10percent\",\n",
    "    (F.col(\"salary\") + .1 *F.col(\"salary\"))\n",
    ")\n",
    "df.show()"
   ]
  },
  {
   "cell_type": "code",
   "execution_count": 0,
   "metadata": {
    "application/vnd.databricks.v1+cell": {
     "cellMetadata": {
      "byteLimit": 2048000,
      "rowLimit": 10000
     },
     "inputWidgets": {},
     "nuid": "88cf0a04-fd6c-491f-a2ef-b30d4cf87658",
     "showTitle": false,
     "title": ""
    }
   },
   "outputs": [
    {
     "output_type": "stream",
     "name": "stdout",
     "output_type": "stream",
     "text": [
      "+---+------+----------+----+------+----------+-------+---------------+\n| id|  name|       dob| age|salary|department|  raise|raise_10percent|\n+---+------+----------+----+------+----------+-------+---------------+\n|  3|   Bob|      null|null| 80000|        IT|84000.0|        88000.0|\n|  4| Emily|1994-11-22|  28| 65000|   Finance|68250.0|        71500.0|\n|  2| Alice|1997-02-28|  25| 60000|        HR|63000.0|        66000.0|\n|  1|  John|1992-05-12|  30| 70000|        IT|73500.0|        77000.0|\n|  5| David|1981-12-18|  41| 90000|        HR|94500.0|        99000.0|\n|  6| Susan|1989-07-05|  33| 75000|   Finance|78750.0|        82500.0|\n|  7|  Mike|1976-03-15|  46| 95000|        IT|99750.0|       104500.0|\n| 10|Sophie|1992-06-30|  30| 62000|   Finance|65100.0|        68200.0|\n|  2| Alice|1997-02-28|  25| 90000|   Finance|94500.0|        99000.0|\n|  4| Emily|1994-11-22|  28| 70000|   Finance|73500.0|        77000.0|\n|  9| James|1983-10-14|  39| 87000|        IT|91350.0|        95700.0|\n|  8|  Lisa|1995-08-20|  27| 58000|        HR|60900.0|        63800.0|\n+---+------+----------+----+------+----------+-------+---------------+\n\n"
     ]
    }
   ],
   "source": [
    "#or\n",
    "df = df.withColumn(\n",
    "    \"raise\",\n",
    "    (F.col(\"salary\") + 0.05 *F.col(\"salary\"))\n",
    ").withColumn(\n",
    "    \"raise_10percent\",\n",
    "    (F.col(\"salary\") + .1 *F.col(\"salary\"))\n",
    ")\n",
    "df.show()"
   ]
  },
  {
   "cell_type": "code",
   "execution_count": 0,
   "metadata": {
    "application/vnd.databricks.v1+cell": {
     "cellMetadata": {
      "byteLimit": 2048000,
      "rowLimit": 10000
     },
     "inputWidgets": {},
     "nuid": "9f2f50b7-2ad2-4d8f-b945-62ac3803122d",
     "showTitle": false,
     "title": ""
    }
   },
   "outputs": [],
   "source": [
    "df = df.withColumns(\n",
    "    {\n",
    "        \"raise\": df.salary + 0.05 *F.col(\"salary\"),\n",
    "        \"age\": F.year(F.current_timestamp())-F.year(F.col(\"dob\"))\n",
    "    }\n",
    ")"
   ]
  },
  {
   "cell_type": "code",
   "execution_count": 0,
   "metadata": {
    "application/vnd.databricks.v1+cell": {
     "cellMetadata": {
      "byteLimit": 2048000,
      "rowLimit": 10000
     },
     "inputWidgets": {},
     "nuid": "1b5ca389-4a20-433e-8b4d-1f486a51b1dd",
     "showTitle": false,
     "title": ""
    }
   },
   "outputs": [
    {
     "output_type": "stream",
     "name": "stdout",
     "output_type": "stream",
     "text": [
      "+---+------+----------+----+------+----------+-------+---------------+\n| id|  name|       dob| age|salary|department|  raise|raise_10percent|\n+---+------+----------+----+------+----------+-------+---------------+\n|  3|   Bob|      null|null| 80000|        IT|84000.0|        88000.0|\n|  4| Emily|1994-11-22|  30| 65000|   Finance|68250.0|        71500.0|\n|  2| Alice|1997-02-28|  27| 60000|        HR|63000.0|        66000.0|\n|  1|  John|1992-05-12|  32| 70000|        IT|73500.0|        77000.0|\n|  5| David|1981-12-18|  43| 90000|        HR|94500.0|        99000.0|\n|  6| Susan|1989-07-05|  35| 75000|   Finance|78750.0|        82500.0|\n|  7|  Mike|1976-03-15|  48| 95000|        IT|99750.0|       104500.0|\n| 10|Sophie|1992-06-30|  32| 62000|   Finance|65100.0|        68200.0|\n|  2| Alice|1997-02-28|  27| 90000|   Finance|94500.0|        99000.0|\n|  4| Emily|1994-11-22|  30| 70000|   Finance|73500.0|        77000.0|\n|  9| James|1983-10-14|  41| 87000|        IT|91350.0|        95700.0|\n|  8|  Lisa|1995-08-20|  29| 58000|        HR|60900.0|        63800.0|\n+---+------+----------+----+------+----------+-------+---------------+\n\n"
     ]
    }
   ],
   "source": [
    "df.show()"
   ]
  },
  {
   "cell_type": "code",
   "execution_count": 0,
   "metadata": {
    "application/vnd.databricks.v1+cell": {
     "cellMetadata": {
      "byteLimit": 2048000,
      "rowLimit": 10000
     },
     "inputWidgets": {},
     "nuid": "144bf97f-3226-4bee-916f-a397214014dd",
     "showTitle": false,
     "title": ""
    }
   },
   "outputs": [
    {
     "output_type": "stream",
     "name": "stdout",
     "output_type": "stream",
     "text": [
      "+---+-----+----------+----+------+----------+-------+---------------+\n| id| name|       dob| age|salary|department|  raise|raise_10percent|\n+---+-----+----------+----+------+----------+-------+---------------+\n|  3|  Bob|      null|null| 80000|        IT|84000.0|        88000.0|\n|  5|David|1981-12-18|  43| 90000|        HR|94500.0|        99000.0|\n|  6|Susan|1989-07-05|  35| 75000|   Finance|78750.0|        82500.0|\n|  7| Mike|1976-03-15|  48| 95000|        IT|99750.0|       104500.0|\n|  2|Alice|1997-02-28|  27| 90000|   Finance|94500.0|        99000.0|\n|  9|James|1983-10-14|  41| 87000|        IT|91350.0|        95700.0|\n+---+-----+----------+----+------+----------+-------+---------------+\n\n"
     ]
    }
   ],
   "source": [
    "#filter\n",
    "df.filter(\n",
    "    F.col(\"raise\")> 75000\n",
    ").show()"
   ]
  },
  {
   "cell_type": "code",
   "execution_count": 0,
   "metadata": {
    "application/vnd.databricks.v1+cell": {
     "cellMetadata": {
      "byteLimit": 2048000,
      "rowLimit": 10000
     },
     "inputWidgets": {},
     "nuid": "e755b28a-31c1-4808-b3b1-a0b31486a8b0",
     "showTitle": false,
     "title": ""
    }
   },
   "outputs": [
    {
     "output_type": "stream",
     "name": "stdout",
     "output_type": "stream",
     "text": [
      "+---+-----+----------+----+------+----------+-------+---------------+\n| id| name|       dob| age|salary|department|  raise|raise_10percent|\n+---+-----+----------+----+------+----------+-------+---------------+\n|  3|  Bob|      null|null| 80000|        IT|84000.0|        88000.0|\n|  5|David|1981-12-18|  43| 90000|        HR|94500.0|        99000.0|\n|  6|Susan|1989-07-05|  35| 75000|   Finance|78750.0|        82500.0|\n|  7| Mike|1976-03-15|  48| 95000|        IT|99750.0|       104500.0|\n|  2|Alice|1997-02-28|  27| 90000|   Finance|94500.0|        99000.0|\n|  9|James|1983-10-14|  41| 87000|        IT|91350.0|        95700.0|\n+---+-----+----------+----+------+----------+-------+---------------+\n\n"
     ]
    }
   ],
   "source": [
    "#filter\n",
    "df.where(\n",
    "    F.col(\"raise\")>= 75000\n",
    ").show()"
   ]
  },
  {
   "cell_type": "code",
   "execution_count": 0,
   "metadata": {
    "application/vnd.databricks.v1+cell": {
     "cellMetadata": {
      "byteLimit": 2048000,
      "rowLimit": 10000
     },
     "inputWidgets": {},
     "nuid": "7c4ab592-4c47-43ce-bc22-9a964088d150",
     "showTitle": false,
     "title": ""
    }
   },
   "outputs": [],
   "source": [
    "from pyspark.sql import functions as F\n",
    "\n",
    "df = df.withColumn(\n",
    "    \"age-group\",\n",
    "    F.when(\n",
    "        F.col(\"age\") <= 20,\n",
    "        \"upto 20\"\n",
    "    ).when(\n",
    "        (\n",
    "            (F.col(\"age\") > 20) &  # Corrected the logical AND operator\n",
    "            (F.col(\"age\") <= 30)\n",
    "        ),\n",
    "        \"20 to 30\"\n",
    "    ).when(\n",
    "        (\n",
    "            (F.col(\"age\") > 30) &  # Corrected the logical AND operator\n",
    "            (F.col(\"age\") <= 40)\n",
    "        ),\n",
    "        \"30 to 40\"\n",
    "    ).otherwise(\n",
    "        \"More than 40\"\n",
    "    )\n",
    ")\n"
   ]
  },
  {
   "cell_type": "code",
   "execution_count": 0,
   "metadata": {
    "application/vnd.databricks.v1+cell": {
     "cellMetadata": {
      "byteLimit": 2048000,
      "rowLimit": 10000
     },
     "inputWidgets": {},
     "nuid": "6a8115af-9e70-47e4-9d61-c41e6e22c4cd",
     "showTitle": false,
     "title": ""
    }
   },
   "outputs": [
    {
     "output_type": "stream",
     "name": "stdout",
     "output_type": "stream",
     "text": [
      "+---+------+----------+----+------+----------+-------+---------------+------------+\n| id|  name|       dob| age|salary|department|  raise|raise_10percent|   age-group|\n+---+------+----------+----+------+----------+-------+---------------+------------+\n|  3|   Bob|      null|null| 80000|        IT|84000.0|        88000.0|More than 40|\n|  4| Emily|1994-11-22|  30| 65000|   Finance|68250.0|        71500.0|    20 to 30|\n|  2| Alice|1997-02-28|  27| 60000|        HR|63000.0|        66000.0|    20 to 30|\n|  1|  John|1992-05-12|  32| 70000|        IT|73500.0|        77000.0|    30 to 40|\n|  5| David|1981-12-18|  43| 90000|        HR|94500.0|        99000.0|More than 40|\n|  6| Susan|1989-07-05|  35| 75000|   Finance|78750.0|        82500.0|    30 to 40|\n|  7|  Mike|1976-03-15|  48| 95000|        IT|99750.0|       104500.0|More than 40|\n| 10|Sophie|1992-06-30|  32| 62000|   Finance|65100.0|        68200.0|    30 to 40|\n|  2| Alice|1997-02-28|  27| 90000|   Finance|94500.0|        99000.0|    20 to 30|\n|  4| Emily|1994-11-22|  30| 70000|   Finance|73500.0|        77000.0|    20 to 30|\n|  9| James|1983-10-14|  41| 87000|        IT|91350.0|        95700.0|More than 40|\n|  8|  Lisa|1995-08-20|  29| 58000|        HR|60900.0|        63800.0|    20 to 30|\n+---+------+----------+----+------+----------+-------+---------------+------------+\n\n"
     ]
    }
   ],
   "source": [
    "df.show()"
   ]
  },
  {
   "cell_type": "code",
   "execution_count": 0,
   "metadata": {
    "application/vnd.databricks.v1+cell": {
     "cellMetadata": {
      "byteLimit": 2048000,
      "rowLimit": 10000
     },
     "inputWidgets": {},
     "nuid": "7f4b8b50-f1e4-4ae1-8a95-3b12c028a9c8",
     "showTitle": false,
     "title": ""
    }
   },
   "outputs": [],
   "source": [
    "df = df.withColumn(\n",
    "   \"company\" ,\n",
    "     F.lit(\"Abacus Insights\")\n",
    ")"
   ]
  },
  {
   "cell_type": "code",
   "execution_count": 0,
   "metadata": {
    "application/vnd.databricks.v1+cell": {
     "cellMetadata": {
      "byteLimit": 2048000,
      "rowLimit": 10000
     },
     "inputWidgets": {},
     "nuid": "c007d311-b4db-4dba-8cfe-62e4f67004a0",
     "showTitle": false,
     "title": ""
    }
   },
   "outputs": [
    {
     "output_type": "stream",
     "name": "stdout",
     "output_type": "stream",
     "text": [
      "+---+------+----------+----+------+----------+-------+---------------+------------+---------------+\n| id|  name|       dob| age|salary|department|  raise|raise_10percent|   age-group|        company|\n+---+------+----------+----+------+----------+-------+---------------+------------+---------------+\n|  3|   Bob|      null|null| 80000|        IT|84000.0|        88000.0|More than 40|Abacus Insights|\n|  4| Emily|1994-11-22|  30| 65000|   Finance|68250.0|        71500.0|    20 to 30|Abacus Insights|\n|  2| Alice|1997-02-28|  27| 60000|        HR|63000.0|        66000.0|    20 to 30|Abacus Insights|\n|  1|  John|1992-05-12|  32| 70000|        IT|73500.0|        77000.0|    30 to 40|Abacus Insights|\n|  5| David|1981-12-18|  43| 90000|        HR|94500.0|        99000.0|More than 40|Abacus Insights|\n|  6| Susan|1989-07-05|  35| 75000|   Finance|78750.0|        82500.0|    30 to 40|Abacus Insights|\n|  7|  Mike|1976-03-15|  48| 95000|        IT|99750.0|       104500.0|More than 40|Abacus Insights|\n| 10|Sophie|1992-06-30|  32| 62000|   Finance|65100.0|        68200.0|    30 to 40|Abacus Insights|\n|  2| Alice|1997-02-28|  27| 90000|   Finance|94500.0|        99000.0|    20 to 30|Abacus Insights|\n|  4| Emily|1994-11-22|  30| 70000|   Finance|73500.0|        77000.0|    20 to 30|Abacus Insights|\n|  9| James|1983-10-14|  41| 87000|        IT|91350.0|        95700.0|More than 40|Abacus Insights|\n|  8|  Lisa|1995-08-20|  29| 58000|        HR|60900.0|        63800.0|    20 to 30|Abacus Insights|\n+---+------+----------+----+------+----------+-------+---------------+------------+---------------+\n\n"
     ]
    }
   ],
   "source": [
    "df.show()"
   ]
  },
  {
   "cell_type": "code",
   "execution_count": 0,
   "metadata": {
    "application/vnd.databricks.v1+cell": {
     "cellMetadata": {
      "byteLimit": 2048000,
      "rowLimit": 10000
     },
     "inputWidgets": {},
     "nuid": "d0b9135a-693c-4d6d-a7c8-610491c73cdd",
     "showTitle": false,
     "title": ""
    }
   },
   "outputs": [],
   "source": [
    "df = df.withColumns(\n",
    "    {\n",
    "        \"age\": F.coalesce(\n",
    "            F.year(F.current_timestamp())- F.year(F.col(\"dob\")),\n",
    "            F.lit(-1),\n",
    "        ),\n",
    "       \n",
    "    })"
   ]
  },
  {
   "cell_type": "code",
   "execution_count": 0,
   "metadata": {
    "application/vnd.databricks.v1+cell": {
     "cellMetadata": {
      "byteLimit": 2048000,
      "rowLimit": 10000
     },
     "inputWidgets": {},
     "nuid": "26bb442b-cb6d-4f50-95be-7d5ee50c0b6b",
     "showTitle": false,
     "title": ""
    }
   },
   "outputs": [
    {
     "output_type": "stream",
     "name": "stdout",
     "output_type": "stream",
     "text": [
      "+---+------+----------+---+------+----------+-------+---------------+------------+---------------+\n| id|  name|       dob|age|salary|department|  raise|raise_10percent|   age-group|        company|\n+---+------+----------+---+------+----------+-------+---------------+------------+---------------+\n|  3|   Bob|      null| -1| 80000|        IT|84000.0|        88000.0|More than 40|Abacus Insights|\n|  4| Emily|1994-11-22| 30| 65000|   Finance|68250.0|        71500.0|    20 to 30|Abacus Insights|\n|  2| Alice|1997-02-28| 27| 60000|        HR|63000.0|        66000.0|    20 to 30|Abacus Insights|\n|  1|  John|1992-05-12| 32| 70000|        IT|73500.0|        77000.0|    30 to 40|Abacus Insights|\n|  5| David|1981-12-18| 43| 90000|        HR|94500.0|        99000.0|More than 40|Abacus Insights|\n|  6| Susan|1989-07-05| 35| 75000|   Finance|78750.0|        82500.0|    30 to 40|Abacus Insights|\n|  7|  Mike|1976-03-15| 48| 95000|        IT|99750.0|       104500.0|More than 40|Abacus Insights|\n| 10|Sophie|1992-06-30| 32| 62000|   Finance|65100.0|        68200.0|    30 to 40|Abacus Insights|\n|  2| Alice|1997-02-28| 27| 90000|   Finance|94500.0|        99000.0|    20 to 30|Abacus Insights|\n|  4| Emily|1994-11-22| 30| 70000|   Finance|73500.0|        77000.0|    20 to 30|Abacus Insights|\n|  9| James|1983-10-14| 41| 87000|        IT|91350.0|        95700.0|More than 40|Abacus Insights|\n|  8|  Lisa|1995-08-20| 29| 58000|        HR|60900.0|        63800.0|    20 to 30|Abacus Insights|\n+---+------+----------+---+------+----------+-------+---------------+------------+---------------+\n\n"
     ]
    }
   ],
   "source": [
    "df.show()"
   ]
  },
  {
   "cell_type": "code",
   "execution_count": 0,
   "metadata": {
    "application/vnd.databricks.v1+cell": {
     "cellMetadata": {
      "byteLimit": 2048000,
      "rowLimit": 10000
     },
     "inputWidgets": {},
     "nuid": "5895cc31-e8f6-48cc-b257-158a02994f7a",
     "showTitle": false,
     "title": ""
    }
   },
   "outputs": [],
   "source": [
    "df = df.withColumns(\n",
    "    {\n",
    "        \"age\": F.coalesce(\n",
    "            F.year(F.current_timestamp())- F.year(F.col(\"dob\")),\n",
    "            F.lit(-1),\n",
    "        ),\n",
    "        \"has_dob_1\" : ~F.isnull(\"dob\"),\n",
    "        \"has_dob_2\" : F.col(\"dob\").isNotNull(),\n",
    "    })"
   ]
  },
  {
   "cell_type": "code",
   "execution_count": 0,
   "metadata": {
    "application/vnd.databricks.v1+cell": {
     "cellMetadata": {
      "byteLimit": 2048000,
      "rowLimit": 10000
     },
     "inputWidgets": {},
     "nuid": "f46bf14f-09d9-4867-891a-abc4031be363",
     "showTitle": false,
     "title": ""
    }
   },
   "outputs": [
    {
     "output_type": "stream",
     "name": "stdout",
     "output_type": "stream",
     "text": [
      "+---+------+----------+---+------+----------+-------+---------------+------------+---------------+---------+---------+\n| id|  name|       dob|age|salary|department|  raise|raise_10percent|   age-group|        company|has_dob_1|has_dob_2|\n+---+------+----------+---+------+----------+-------+---------------+------------+---------------+---------+---------+\n|  3|   Bob|      null| -1| 80000|        IT|84000.0|        88000.0|More than 40|Abacus Insights|    false|    false|\n|  4| Emily|1994-11-22| 30| 65000|   Finance|68250.0|        71500.0|    20 to 30|Abacus Insights|     true|     true|\n|  2| Alice|1997-02-28| 27| 60000|        HR|63000.0|        66000.0|    20 to 30|Abacus Insights|     true|     true|\n|  1|  John|1992-05-12| 32| 70000|        IT|73500.0|        77000.0|    30 to 40|Abacus Insights|     true|     true|\n|  5| David|1981-12-18| 43| 90000|        HR|94500.0|        99000.0|More than 40|Abacus Insights|     true|     true|\n|  6| Susan|1989-07-05| 35| 75000|   Finance|78750.0|        82500.0|    30 to 40|Abacus Insights|     true|     true|\n|  7|  Mike|1976-03-15| 48| 95000|        IT|99750.0|       104500.0|More than 40|Abacus Insights|     true|     true|\n| 10|Sophie|1992-06-30| 32| 62000|   Finance|65100.0|        68200.0|    30 to 40|Abacus Insights|     true|     true|\n|  2| Alice|1997-02-28| 27| 90000|   Finance|94500.0|        99000.0|    20 to 30|Abacus Insights|     true|     true|\n|  4| Emily|1994-11-22| 30| 70000|   Finance|73500.0|        77000.0|    20 to 30|Abacus Insights|     true|     true|\n|  9| James|1983-10-14| 41| 87000|        IT|91350.0|        95700.0|More than 40|Abacus Insights|     true|     true|\n|  8|  Lisa|1995-08-20| 29| 58000|        HR|60900.0|        63800.0|    20 to 30|Abacus Insights|     true|     true|\n+---+------+----------+---+------+----------+-------+---------------+------------+---------------+---------+---------+\n\n"
     ]
    }
   ],
   "source": [
    "df.show()"
   ]
  },
  {
   "cell_type": "code",
   "execution_count": 0,
   "metadata": {
    "application/vnd.databricks.v1+cell": {
     "cellMetadata": {
      "byteLimit": 2048000,
      "rowLimit": 10000
     },
     "inputWidgets": {},
     "nuid": "a0e93a66-2bd1-421a-8437-205119734b44",
     "showTitle": false,
     "title": ""
    }
   },
   "outputs": [],
   "source": [
    "df = df.drop(\"has_dob_2\")"
   ]
  },
  {
   "cell_type": "code",
   "execution_count": 0,
   "metadata": {
    "application/vnd.databricks.v1+cell": {
     "cellMetadata": {
      "byteLimit": 2048000,
      "rowLimit": 10000
     },
     "inputWidgets": {},
     "nuid": "c102aed6-dc2a-4125-8ce6-005ef8f80a21",
     "showTitle": false,
     "title": ""
    }
   },
   "outputs": [],
   "source": [
    "df = df.withColumnRenamed(\"name\", \"first_name\")"
   ]
  },
  {
   "cell_type": "code",
   "execution_count": 0,
   "metadata": {
    "application/vnd.databricks.v1+cell": {
     "cellMetadata": {
      "byteLimit": 2048000,
      "rowLimit": 10000
     },
     "inputWidgets": {},
     "nuid": "2cd47a87-9395-4a9b-ad4a-31a632b482cb",
     "showTitle": false,
     "title": ""
    }
   },
   "outputs": [
    {
     "output_type": "stream",
     "name": "stdout",
     "output_type": "stream",
     "text": [
      "['id', 'first_name', 'dob', 'age', 'salary', 'department', 'raise', 'raise_10percent', 'age-group', 'company', 'has_dob_1']\n"
     ]
    }
   ],
   "source": [
    "print(df.columns)"
   ]
  },
  {
   "cell_type": "code",
   "execution_count": 0,
   "metadata": {
    "application/vnd.databricks.v1+cell": {
     "cellMetadata": {
      "byteLimit": 2048000,
      "rowLimit": 10000
     },
     "inputWidgets": {},
     "nuid": "01981a53-6077-4a95-b698-57f05f2025cb",
     "showTitle": false,
     "title": ""
    }
   },
   "outputs": [
    {
     "output_type": "stream",
     "name": "stdout",
     "output_type": "stream",
     "text": [
      "Out[52]: DataFrame[id: int, first_name: string, dob: date, age: int, salary: int, department: string, raise: double, raise_10percent: double, age-group: string, company: string, has_dob_1: boolean]"
     ]
    }
   ],
   "source": [
    "df"
   ]
  },
  {
   "cell_type": "code",
   "execution_count": 0,
   "metadata": {
    "application/vnd.databricks.v1+cell": {
     "cellMetadata": {
      "byteLimit": 2048000,
      "rowLimit": 10000
     },
     "inputWidgets": {},
     "nuid": "e17f9698-5201-48ac-8194-15998cb49317",
     "showTitle": false,
     "title": ""
    }
   },
   "outputs": [
    {
     "output_type": "stream",
     "name": "stdout",
     "output_type": "stream",
     "text": [
      "+---+----------+----------+---+------+----------+-------+---------------+------------+---------------+---------+\n| id|first_name|       dob|age|salary|department|  raise|raise_10percent|   age-group|        company|has_dob_1|\n+---+----------+----------+---+------+----------+-------+---------------+------------+---------------+---------+\n|  3|       Bob|      null| -1| 80000|        IT|84000.0|        88000.0|More than 40|Abacus Insights|    false|\n|  4|     Emily|1994-11-22| 30| 65000|   Finance|68250.0|        71500.0|    20 to 30|Abacus Insights|     true|\n|  2|     Alice|1997-02-28| 27| 60000|        HR|63000.0|        66000.0|    20 to 30|Abacus Insights|     true|\n|  1|      John|1992-05-12| 32| 70000|        IT|73500.0|        77000.0|    30 to 40|Abacus Insights|     true|\n|  5|     David|1981-12-18| 43| 90000|        HR|94500.0|        99000.0|More than 40|Abacus Insights|     true|\n|  6|     Susan|1989-07-05| 35| 75000|   Finance|78750.0|        82500.0|    30 to 40|Abacus Insights|     true|\n|  7|      Mike|1976-03-15| 48| 95000|        IT|99750.0|       104500.0|More than 40|Abacus Insights|     true|\n| 10|    Sophie|1992-06-30| 32| 62000|   Finance|65100.0|        68200.0|    30 to 40|Abacus Insights|     true|\n|  2|     Alice|1997-02-28| 27| 90000|   Finance|94500.0|        99000.0|    20 to 30|Abacus Insights|     true|\n|  4|     Emily|1994-11-22| 30| 70000|   Finance|73500.0|        77000.0|    20 to 30|Abacus Insights|     true|\n|  9|     James|1983-10-14| 41| 87000|        IT|91350.0|        95700.0|More than 40|Abacus Insights|     true|\n|  8|      Lisa|1995-08-20| 29| 58000|        HR|60900.0|        63800.0|    20 to 30|Abacus Insights|     true|\n+---+----------+----------+---+------+----------+-------+---------------+------------+---------------+---------+\n\n"
     ]
    }
   ],
   "source": [
    "df.show()"
   ]
  },
  {
   "cell_type": "code",
   "execution_count": 0,
   "metadata": {
    "application/vnd.databricks.v1+cell": {
     "cellMetadata": {
      "byteLimit": 2048000,
      "rowLimit": 10000
     },
     "inputWidgets": {},
     "nuid": "9c55c9b1-60a1-4d7e-86c0-d579fbd0bba4",
     "showTitle": false,
     "title": ""
    }
   },
   "outputs": [],
   "source": [
    "from pyspark.sql.window import Window"
   ]
  },
  {
   "cell_type": "code",
   "execution_count": 0,
   "metadata": {
    "application/vnd.databricks.v1+cell": {
     "cellMetadata": {
      "byteLimit": 2048000,
      "rowLimit": 10000
     },
     "inputWidgets": {},
     "nuid": "fe191274-4f90-476f-a6a6-b6e9e2bf1696",
     "showTitle": false,
     "title": ""
    }
   },
   "outputs": [
    {
     "output_type": "stream",
     "name": "stdout",
     "output_type": "stream",
     "text": [
      "+---+----------+----------+---+------+----------+-------+---------------+------------+---------------+---------+-----------+\n| id|first_name|       dob|age|salary|department|  raise|raise_10percent|   age-group|        company|has_dob_1|mean_salary|\n+---+----------+----------+---+------+----------+-------+---------------+------------+---------------+---------+-----------+\n|  4|     Emily|1994-11-22| 30| 65000|   Finance|68250.0|        71500.0|    20 to 30|Abacus Insights|     true|       true|\n|  6|     Susan|1989-07-05| 35| 75000|   Finance|78750.0|        82500.0|    30 to 40|Abacus Insights|     true|      false|\n| 10|    Sophie|1992-06-30| 32| 62000|   Finance|65100.0|        68200.0|    30 to 40|Abacus Insights|     true|       true|\n|  2|     Alice|1997-02-28| 27| 90000|   Finance|94500.0|        99000.0|    20 to 30|Abacus Insights|     true|      false|\n|  4|     Emily|1994-11-22| 30| 70000|   Finance|73500.0|        77000.0|    20 to 30|Abacus Insights|     true|       true|\n|  2|     Alice|1997-02-28| 27| 60000|        HR|63000.0|        66000.0|    20 to 30|Abacus Insights|     true|       true|\n|  5|     David|1981-12-18| 43| 90000|        HR|94500.0|        99000.0|More than 40|Abacus Insights|     true|      false|\n|  8|      Lisa|1995-08-20| 29| 58000|        HR|60900.0|        63800.0|    20 to 30|Abacus Insights|     true|       true|\n|  3|       Bob|      null| -1| 80000|        IT|84000.0|        88000.0|More than 40|Abacus Insights|    false|       true|\n|  1|      John|1992-05-12| 32| 70000|        IT|73500.0|        77000.0|    30 to 40|Abacus Insights|     true|       true|\n|  7|      Mike|1976-03-15| 48| 95000|        IT|99750.0|       104500.0|More than 40|Abacus Insights|     true|      false|\n|  9|     James|1983-10-14| 41| 87000|        IT|91350.0|        95700.0|More than 40|Abacus Insights|     true|      false|\n+---+----------+----------+---+------+----------+-------+---------------+------------+---------------+---------+-----------+\n\n"
     ]
    }
   ],
   "source": [
    "window = Window.partitionBy(\"department\")\n",
    "\n",
    "df.withColumn(\n",
    "    \"mean_salary\",\n",
    "    F.mean(\"salary\").over(window)>=F.col(\"salary\")\n",
    ").show()"
   ]
  },
  {
   "cell_type": "code",
   "execution_count": 0,
   "metadata": {
    "application/vnd.databricks.v1+cell": {
     "cellMetadata": {
      "byteLimit": 2048000,
      "rowLimit": 10000
     },
     "inputWidgets": {},
     "nuid": "74e5c337-c21f-4926-8498-cb21c0ae9dff",
     "showTitle": false,
     "title": ""
    }
   },
   "outputs": [],
   "source": [
    "# calculate mean salary and check if it is greater or equal to the salary of employees in each department.\n",
    "# calculate mean salary and check if it is greater or equal to the salary of all employees"
   ]
  },
  {
   "cell_type": "code",
   "execution_count": 0,
   "metadata": {
    "application/vnd.databricks.v1+cell": {
     "cellMetadata": {
      "byteLimit": 2048000,
      "rowLimit": 10000
     },
     "inputWidgets": {},
     "nuid": "25d3c8ed-b724-4653-89cc-c2117a73f5dc",
     "showTitle": false,
     "title": ""
    }
   },
   "outputs": [],
   "source": [
    "df_par = spark.read.format(\"parquet\").schema(schema).load(\"dbfs:/FileStore/tables/data/parquet\")"
   ]
  },
  {
   "cell_type": "code",
   "execution_count": 0,
   "metadata": {
    "application/vnd.databricks.v1+cell": {
     "cellMetadata": {
      "byteLimit": 2048000,
      "rowLimit": 10000
     },
     "inputWidgets": {},
     "nuid": "fbc6506f-c148-4d6e-b32d-208ed9b95f49",
     "showTitle": false,
     "title": ""
    }
   },
   "outputs": [
    {
     "output_type": "stream",
     "name": "stdout",
     "output_type": "stream",
     "text": [
      "+----+----+----+----+------+----------+\n|  id|name| dob| age|salary|department|\n+----+----+----+----+------+----------+\n|null|null|null|null|  null|   Finance|\n|null|null|null|null|  null|        HR|\n|null|null|null|null|  null|        IT|\n|null|null|null|null|  null|  Delivery|\n|null|null|null|null|  null|   Finance|\n|null|null|null|null|  null|        HR|\n|null|null|null|null|  null|        IT|\n|null|null|null|null|  null|  Delivery|\n|null|null|null|null|  null|   Finance|\n|null|null|null|null|  null|        HR|\n|null|null|null|null|  null|        IT|\n|null|null|null|null|  null|  Delivery|\n+----+----+----+----+------+----------+\n\n"
     ]
    }
   ],
   "source": [
    "df_par.show()"
   ]
  },
  {
   "cell_type": "code",
   "execution_count": 0,
   "metadata": {
    "application/vnd.databricks.v1+cell": {
     "cellMetadata": {
      "byteLimit": 2048000,
      "rowLimit": 10000
     },
     "inputWidgets": {},
     "nuid": "17e122b6-76d0-4299-96bf-c323bb33d224",
     "showTitle": false,
     "title": ""
    }
   },
   "outputs": [
    {
     "output_type": "stream",
     "name": "stdout",
     "output_type": "stream",
     "text": [
      "+---+----------+----------+---+------+----------+-------+---------------+------------+---------------+---------+\n| id|first_name|       dob|age|salary|department|  raise|raise_10percent|   age-group|        company|has_dob_1|\n+---+----------+----------+---+------+----------+-------+---------------+------------+---------------+---------+\n|  3|       Bob|      null| -1| 80000|        IT|84000.0|        88000.0|More than 40|Abacus Insights|    false|\n|  4|     Emily|1994-11-22| 30| 65000|   Finance|68250.0|        71500.0|    20 to 30|Abacus Insights|     true|\n|  2|     Alice|1997-02-28| 27| 60000|        HR|63000.0|        66000.0|    20 to 30|Abacus Insights|     true|\n|  1|      John|1992-05-12| 32| 70000|        IT|73500.0|        77000.0|    30 to 40|Abacus Insights|     true|\n|  5|     David|1981-12-18| 43| 90000|        HR|94500.0|        99000.0|More than 40|Abacus Insights|     true|\n|  6|     Susan|1989-07-05| 35| 75000|   Finance|78750.0|        82500.0|    30 to 40|Abacus Insights|     true|\n|  7|      Mike|1976-03-15| 48| 95000|        IT|99750.0|       104500.0|More than 40|Abacus Insights|     true|\n| 10|    Sophie|1992-06-30| 32| 62000|   Finance|65100.0|        68200.0|    30 to 40|Abacus Insights|     true|\n|  2|     Alice|1997-02-28| 27| 90000|   Finance|94500.0|        99000.0|    20 to 30|Abacus Insights|     true|\n|  4|     Emily|1994-11-22| 30| 70000|   Finance|73500.0|        77000.0|    20 to 30|Abacus Insights|     true|\n|  9|     James|1983-10-14| 41| 87000|        IT|91350.0|        95700.0|More than 40|Abacus Insights|     true|\n|  8|      Lisa|1995-08-20| 29| 58000|        HR|60900.0|        63800.0|    20 to 30|Abacus Insights|     true|\n+---+----------+----------+---+------+----------+-------+---------------+------------+---------------+---------+\n\n"
     ]
    }
   ],
   "source": [
    "df.show()"
   ]
  },
  {
   "cell_type": "code",
   "execution_count": 0,
   "metadata": {
    "application/vnd.databricks.v1+cell": {
     "cellMetadata": {
      "byteLimit": 2048000,
      "rowLimit": 10000
     },
     "inputWidgets": {},
     "nuid": "110fcade-3266-4505-9fe4-e74a87993089",
     "showTitle": false,
     "title": ""
    }
   },
   "outputs": [
    {
     "output_type": "stream",
     "name": "stdout",
     "output_type": "stream",
     "text": [
      "+----------+---+----------+----------+---+------+-------+---------------+------------+---------------+---------+\n|department| id|first_name|       dob|age|salary|  raise|raise_10percent|   age-group|        company|has_dob_1|\n+----------+---+----------+----------+---+------+-------+---------------+------------+---------------+---------+\n|        IT|  3|       Bob|      null| -1| 80000|84000.0|        88000.0|More than 40|Abacus Insights|    false|\n|   Finance|  4|     Emily|1994-11-22| 30| 65000|68250.0|        71500.0|    20 to 30|Abacus Insights|     true|\n|        HR|  2|     Alice|1997-02-28| 27| 60000|63000.0|        66000.0|    20 to 30|Abacus Insights|     true|\n|        IT|  1|      John|1992-05-12| 32| 70000|73500.0|        77000.0|    30 to 40|Abacus Insights|     true|\n|        HR|  5|     David|1981-12-18| 43| 90000|94500.0|        99000.0|More than 40|Abacus Insights|     true|\n|   Finance|  6|     Susan|1989-07-05| 35| 75000|78750.0|        82500.0|    30 to 40|Abacus Insights|     true|\n|        IT|  7|      Mike|1976-03-15| 48| 95000|99750.0|       104500.0|More than 40|Abacus Insights|     true|\n|   Finance| 10|    Sophie|1992-06-30| 32| 62000|65100.0|        68200.0|    30 to 40|Abacus Insights|     true|\n|   Finance|  2|     Alice|1997-02-28| 27| 90000|94500.0|        99000.0|    20 to 30|Abacus Insights|     true|\n|   Finance|  4|     Emily|1994-11-22| 30| 70000|73500.0|        77000.0|    20 to 30|Abacus Insights|     true|\n|        IT|  9|     James|1983-10-14| 41| 87000|91350.0|        95700.0|More than 40|Abacus Insights|     true|\n|        HR|  8|      Lisa|1995-08-20| 29| 58000|60900.0|        63800.0|    20 to 30|Abacus Insights|     true|\n+----------+---+----------+----------+---+------+-------+---------------+------------+---------------+---------+\n\n"
     ]
    }
   ],
   "source": [
    "df.join(\n",
    "    df_par,\n",
    "    \"department\",\n",
    "    \"semi\"\n",
    ").show()"
   ]
  },
  {
   "cell_type": "code",
   "execution_count": 0,
   "metadata": {
    "application/vnd.databricks.v1+cell": {
     "cellMetadata": {
      "byteLimit": 2048000,
      "rowLimit": 10000
     },
     "inputWidgets": {},
     "nuid": "6321e0d7-039c-4b75-b607-c4f410d84c3e",
     "showTitle": false,
     "title": ""
    }
   },
   "outputs": [
    {
     "output_type": "stream",
     "name": "stdout",
     "output_type": "stream",
     "text": [
      "+---+----------+----------+---+------+----------+-------+---------------+------------+---------------+---------+\n| id|first_name|       dob|age|salary|department|  raise|raise_10percent|   age-group|        company|has_dob_1|\n+---+----------+----------+---+------+----------+-------+---------------+------------+---------------+---------+\n|  3|       Bob|      null| -1| 80000|        IT|84000.0|        88000.0|More than 40|Abacus Insights|    false|\n|  4|     Emily|1994-11-22| 30| 65000|   Finance|68250.0|        71500.0|    20 to 30|Abacus Insights|     true|\n|  2|     Alice|1997-02-28| 27| 60000|        HR|63000.0|        66000.0|    20 to 30|Abacus Insights|     true|\n|  1|      John|1992-05-12| 32| 70000|        IT|73500.0|        77000.0|    30 to 40|Abacus Insights|     true|\n|  5|     David|1981-12-18| 43| 90000|        HR|94500.0|        99000.0|More than 40|Abacus Insights|     true|\n|  6|     Susan|1989-07-05| 35| 75000|   Finance|78750.0|        82500.0|    30 to 40|Abacus Insights|     true|\n|  7|      Mike|1976-03-15| 48| 95000|        IT|99750.0|       104500.0|More than 40|Abacus Insights|     true|\n| 10|    Sophie|1992-06-30| 32| 62000|   Finance|65100.0|        68200.0|    30 to 40|Abacus Insights|     true|\n|  2|     Alice|1997-02-28| 27| 90000|   Finance|94500.0|        99000.0|    20 to 30|Abacus Insights|     true|\n|  4|     Emily|1994-11-22| 30| 70000|   Finance|73500.0|        77000.0|    20 to 30|Abacus Insights|     true|\n|  9|     James|1983-10-14| 41| 87000|        IT|91350.0|        95700.0|More than 40|Abacus Insights|     true|\n|  8|      Lisa|1995-08-20| 29| 58000|        HR|60900.0|        63800.0|    20 to 30|Abacus Insights|     true|\n+---+----------+----------+---+------+----------+-------+---------------+------------+---------------+---------+\n\n"
     ]
    }
   ],
   "source": [
    "df.join(\n",
    "    df_par,\n",
    "    df.department == df_par.department,\n",
    "    \"semi\"\n",
    ").show()"
   ]
  },
  {
   "cell_type": "code",
   "execution_count": 0,
   "metadata": {
    "application/vnd.databricks.v1+cell": {
     "cellMetadata": {
      "byteLimit": 2048000,
      "rowLimit": 10000
     },
     "inputWidgets": {},
     "nuid": "8110fd53-123e-4d42-8b38-7abb04795f07",
     "showTitle": false,
     "title": ""
    }
   },
   "outputs": [],
   "source": [
    "df = df.alias(\"main\")\n",
    "df_par = df_par.alias(\"reference\")"
   ]
  },
  {
   "cell_type": "code",
   "execution_count": 0,
   "metadata": {
    "application/vnd.databricks.v1+cell": {
     "cellMetadata": {
      "byteLimit": 2048000,
      "rowLimit": 10000
     },
     "inputWidgets": {},
     "nuid": "dddefec6-a2ad-43d7-a2ea-98fbf323397f",
     "showTitle": false,
     "title": ""
    }
   },
   "outputs": [],
   "source": [
    "df =df.join(\n",
    "    df_par,\n",
    "    F.col(\"main.department\") == F.col(\"reference.department\"),\n",
    "    \"left\"\n",
    ")"
   ]
  },
  {
   "cell_type": "code",
   "execution_count": 0,
   "metadata": {
    "application/vnd.databricks.v1+cell": {
     "cellMetadata": {
      "byteLimit": 2048000,
      "rowLimit": 10000
     },
     "inputWidgets": {},
     "nuid": "38b1b4fa-58d4-4549-9aff-ab9a1044eef7",
     "showTitle": false,
     "title": ""
    }
   },
   "outputs": [
    {
     "output_type": "stream",
     "name": "stdout",
     "output_type": "stream",
     "text": [
      "+---+----------+----------+---+------+----------+-------+---------------+------------+---------------+---------+----+----+----+----+------+----------+\n| id|first_name|       dob|age|salary|department|  raise|raise_10percent|   age-group|        company|has_dob_1|  id|name| dob| age|salary|department|\n+---+----------+----------+---+------+----------+-------+---------------+------------+---------------+---------+----+----+----+----+------+----------+\n|  3|       Bob|      null| -1| 80000|        IT|84000.0|        88000.0|More than 40|Abacus Insights|    false|null|null|null|null|  null|        IT|\n|  3|       Bob|      null| -1| 80000|        IT|84000.0|        88000.0|More than 40|Abacus Insights|    false|null|null|null|null|  null|        IT|\n|  3|       Bob|      null| -1| 80000|        IT|84000.0|        88000.0|More than 40|Abacus Insights|    false|null|null|null|null|  null|        IT|\n|  4|     Emily|1994-11-22| 30| 65000|   Finance|68250.0|        71500.0|    20 to 30|Abacus Insights|     true|null|null|null|null|  null|   Finance|\n|  4|     Emily|1994-11-22| 30| 65000|   Finance|68250.0|        71500.0|    20 to 30|Abacus Insights|     true|null|null|null|null|  null|   Finance|\n|  4|     Emily|1994-11-22| 30| 65000|   Finance|68250.0|        71500.0|    20 to 30|Abacus Insights|     true|null|null|null|null|  null|   Finance|\n|  2|     Alice|1997-02-28| 27| 60000|        HR|63000.0|        66000.0|    20 to 30|Abacus Insights|     true|null|null|null|null|  null|        HR|\n|  2|     Alice|1997-02-28| 27| 60000|        HR|63000.0|        66000.0|    20 to 30|Abacus Insights|     true|null|null|null|null|  null|        HR|\n|  2|     Alice|1997-02-28| 27| 60000|        HR|63000.0|        66000.0|    20 to 30|Abacus Insights|     true|null|null|null|null|  null|        HR|\n|  1|      John|1992-05-12| 32| 70000|        IT|73500.0|        77000.0|    30 to 40|Abacus Insights|     true|null|null|null|null|  null|        IT|\n|  1|      John|1992-05-12| 32| 70000|        IT|73500.0|        77000.0|    30 to 40|Abacus Insights|     true|null|null|null|null|  null|        IT|\n|  1|      John|1992-05-12| 32| 70000|        IT|73500.0|        77000.0|    30 to 40|Abacus Insights|     true|null|null|null|null|  null|        IT|\n|  5|     David|1981-12-18| 43| 90000|        HR|94500.0|        99000.0|More than 40|Abacus Insights|     true|null|null|null|null|  null|        HR|\n|  5|     David|1981-12-18| 43| 90000|        HR|94500.0|        99000.0|More than 40|Abacus Insights|     true|null|null|null|null|  null|        HR|\n|  5|     David|1981-12-18| 43| 90000|        HR|94500.0|        99000.0|More than 40|Abacus Insights|     true|null|null|null|null|  null|        HR|\n|  6|     Susan|1989-07-05| 35| 75000|   Finance|78750.0|        82500.0|    30 to 40|Abacus Insights|     true|null|null|null|null|  null|   Finance|\n|  6|     Susan|1989-07-05| 35| 75000|   Finance|78750.0|        82500.0|    30 to 40|Abacus Insights|     true|null|null|null|null|  null|   Finance|\n|  6|     Susan|1989-07-05| 35| 75000|   Finance|78750.0|        82500.0|    30 to 40|Abacus Insights|     true|null|null|null|null|  null|   Finance|\n|  7|      Mike|1976-03-15| 48| 95000|        IT|99750.0|       104500.0|More than 40|Abacus Insights|     true|null|null|null|null|  null|        IT|\n|  7|      Mike|1976-03-15| 48| 95000|        IT|99750.0|       104500.0|More than 40|Abacus Insights|     true|null|null|null|null|  null|        IT|\n+---+----------+----------+---+------+----------+-------+---------------+------------+---------------+---------+----+----+----+----+------+----------+\nonly showing top 20 rows\n\n"
     ]
    }
   ],
   "source": [
    "df.show()"
   ]
  },
  {
   "cell_type": "code",
   "execution_count": 0,
   "metadata": {
    "application/vnd.databricks.v1+cell": {
     "cellMetadata": {
      "byteLimit": 2048000,
      "rowLimit": 10000
     },
     "inputWidgets": {},
     "nuid": "1f19072b-9600-4368-84e5-deb7ac361ead",
     "showTitle": false,
     "title": ""
    }
   },
   "outputs": [],
   "source": [
    "# load save data"
   ]
  },
  {
   "cell_type": "code",
   "execution_count": 0,
   "metadata": {
    "application/vnd.databricks.v1+cell": {
     "cellMetadata": {
      "byteLimit": 2048000,
      "rowLimit": 10000
     },
     "inputWidgets": {},
     "nuid": "3c1bc983-96bd-4a49-8f62-824ee0825c54",
     "showTitle": false,
     "title": ""
    }
   },
   "outputs": [
    {
     "output_type": "display_data",
     "data": {
      "text/plain": [
       "\u001B[0;31m---------------------------------------------------------------------------\u001B[0m\n",
       "\u001B[0;31mAnalysisException\u001B[0m                         Traceback (most recent call last)\n",
       "File \u001B[0;32m<command-4005864246803051>:1\u001B[0m\n",
       "\u001B[0;32m----> 1\u001B[0m \u001B[43mdf\u001B[49m\u001B[38;5;241;43m.\u001B[39;49m\u001B[43mwrite\u001B[49m\u001B[38;5;241;43m.\u001B[39;49m\u001B[43mmode\u001B[49m\u001B[43m(\u001B[49m\u001B[38;5;124;43m\"\u001B[39;49m\u001B[38;5;124;43moverwrite\u001B[39;49m\u001B[38;5;124;43m\"\u001B[39;49m\u001B[43m)\u001B[49m\u001B[38;5;241;43m.\u001B[39;49m\u001B[43mformat\u001B[49m\u001B[43m(\u001B[49m\u001B[38;5;124;43m\"\u001B[39;49m\u001B[38;5;124;43mcsv\u001B[39;49m\u001B[38;5;124;43m\"\u001B[39;49m\u001B[43m)\u001B[49m\u001B[38;5;241;43m.\u001B[39;49m\u001B[43msave\u001B[49m\u001B[43m(\u001B[49m\u001B[38;5;124;43m\"\u001B[39;49m\u001B[38;5;124;43mdbfs:/FileStore/tables/final\u001B[39;49m\u001B[38;5;124;43m\"\u001B[39;49m\u001B[43m)\u001B[49m\n",
       "\n",
       "File \u001B[0;32m/databricks/spark/python/pyspark/instrumentation_utils.py:48\u001B[0m, in \u001B[0;36m_wrap_function.<locals>.wrapper\u001B[0;34m(*args, **kwargs)\u001B[0m\n",
       "\u001B[1;32m     46\u001B[0m start \u001B[38;5;241m=\u001B[39m time\u001B[38;5;241m.\u001B[39mperf_counter()\n",
       "\u001B[1;32m     47\u001B[0m \u001B[38;5;28;01mtry\u001B[39;00m:\n",
       "\u001B[0;32m---> 48\u001B[0m     res \u001B[38;5;241m=\u001B[39m \u001B[43mfunc\u001B[49m\u001B[43m(\u001B[49m\u001B[38;5;241;43m*\u001B[39;49m\u001B[43margs\u001B[49m\u001B[43m,\u001B[49m\u001B[43m \u001B[49m\u001B[38;5;241;43m*\u001B[39;49m\u001B[38;5;241;43m*\u001B[39;49m\u001B[43mkwargs\u001B[49m\u001B[43m)\u001B[49m\n",
       "\u001B[1;32m     49\u001B[0m     logger\u001B[38;5;241m.\u001B[39mlog_success(\n",
       "\u001B[1;32m     50\u001B[0m         module_name, class_name, function_name, time\u001B[38;5;241m.\u001B[39mperf_counter() \u001B[38;5;241m-\u001B[39m start, signature\n",
       "\u001B[1;32m     51\u001B[0m     )\n",
       "\u001B[1;32m     52\u001B[0m     \u001B[38;5;28;01mreturn\u001B[39;00m res\n",
       "\n",
       "File \u001B[0;32m/databricks/spark/python/pyspark/sql/readwriter.py:1397\u001B[0m, in \u001B[0;36mDataFrameWriter.save\u001B[0;34m(self, path, format, mode, partitionBy, **options)\u001B[0m\n",
       "\u001B[1;32m   1395\u001B[0m     \u001B[38;5;28mself\u001B[39m\u001B[38;5;241m.\u001B[39m_jwrite\u001B[38;5;241m.\u001B[39msave()\n",
       "\u001B[1;32m   1396\u001B[0m \u001B[38;5;28;01melse\u001B[39;00m:\n",
       "\u001B[0;32m-> 1397\u001B[0m     \u001B[38;5;28;43mself\u001B[39;49m\u001B[38;5;241;43m.\u001B[39;49m\u001B[43m_jwrite\u001B[49m\u001B[38;5;241;43m.\u001B[39;49m\u001B[43msave\u001B[49m\u001B[43m(\u001B[49m\u001B[43mpath\u001B[49m\u001B[43m)\u001B[49m\n",
       "\n",
       "File \u001B[0;32m/databricks/spark/python/lib/py4j-0.10.9.5-src.zip/py4j/java_gateway.py:1321\u001B[0m, in \u001B[0;36mJavaMember.__call__\u001B[0;34m(self, *args)\u001B[0m\n",
       "\u001B[1;32m   1315\u001B[0m command \u001B[38;5;241m=\u001B[39m proto\u001B[38;5;241m.\u001B[39mCALL_COMMAND_NAME \u001B[38;5;241m+\u001B[39m\\\n",
       "\u001B[1;32m   1316\u001B[0m     \u001B[38;5;28mself\u001B[39m\u001B[38;5;241m.\u001B[39mcommand_header \u001B[38;5;241m+\u001B[39m\\\n",
       "\u001B[1;32m   1317\u001B[0m     args_command \u001B[38;5;241m+\u001B[39m\\\n",
       "\u001B[1;32m   1318\u001B[0m     proto\u001B[38;5;241m.\u001B[39mEND_COMMAND_PART\n",
       "\u001B[1;32m   1320\u001B[0m answer \u001B[38;5;241m=\u001B[39m \u001B[38;5;28mself\u001B[39m\u001B[38;5;241m.\u001B[39mgateway_client\u001B[38;5;241m.\u001B[39msend_command(command)\n",
       "\u001B[0;32m-> 1321\u001B[0m return_value \u001B[38;5;241m=\u001B[39m \u001B[43mget_return_value\u001B[49m\u001B[43m(\u001B[49m\n",
       "\u001B[1;32m   1322\u001B[0m \u001B[43m    \u001B[49m\u001B[43manswer\u001B[49m\u001B[43m,\u001B[49m\u001B[43m \u001B[49m\u001B[38;5;28;43mself\u001B[39;49m\u001B[38;5;241;43m.\u001B[39;49m\u001B[43mgateway_client\u001B[49m\u001B[43m,\u001B[49m\u001B[43m \u001B[49m\u001B[38;5;28;43mself\u001B[39;49m\u001B[38;5;241;43m.\u001B[39;49m\u001B[43mtarget_id\u001B[49m\u001B[43m,\u001B[49m\u001B[43m \u001B[49m\u001B[38;5;28;43mself\u001B[39;49m\u001B[38;5;241;43m.\u001B[39;49m\u001B[43mname\u001B[49m\u001B[43m)\u001B[49m\n",
       "\u001B[1;32m   1324\u001B[0m \u001B[38;5;28;01mfor\u001B[39;00m temp_arg \u001B[38;5;129;01min\u001B[39;00m temp_args:\n",
       "\u001B[1;32m   1325\u001B[0m     temp_arg\u001B[38;5;241m.\u001B[39m_detach()\n",
       "\n",
       "File \u001B[0;32m/databricks/spark/python/pyspark/errors/exceptions.py:234\u001B[0m, in \u001B[0;36mcapture_sql_exception.<locals>.deco\u001B[0;34m(*a, **kw)\u001B[0m\n",
       "\u001B[1;32m    230\u001B[0m converted \u001B[38;5;241m=\u001B[39m convert_exception(e\u001B[38;5;241m.\u001B[39mjava_exception)\n",
       "\u001B[1;32m    231\u001B[0m \u001B[38;5;28;01mif\u001B[39;00m \u001B[38;5;129;01mnot\u001B[39;00m \u001B[38;5;28misinstance\u001B[39m(converted, UnknownException):\n",
       "\u001B[1;32m    232\u001B[0m     \u001B[38;5;66;03m# Hide where the exception came from that shows a non-Pythonic\u001B[39;00m\n",
       "\u001B[1;32m    233\u001B[0m     \u001B[38;5;66;03m# JVM exception message.\u001B[39;00m\n",
       "\u001B[0;32m--> 234\u001B[0m     \u001B[38;5;28;01mraise\u001B[39;00m converted \u001B[38;5;28;01mfrom\u001B[39;00m \u001B[38;5;28mNone\u001B[39m\n",
       "\u001B[1;32m    235\u001B[0m \u001B[38;5;28;01melse\u001B[39;00m:\n",
       "\u001B[1;32m    236\u001B[0m     \u001B[38;5;28;01mraise\u001B[39;00m\n",
       "\n",
       "\u001B[0;31mAnalysisException\u001B[0m: [COLUMN_ALREADY_EXISTS] The column `age` already exists. Consider to choose another name or rename the existing column."
      ]
     },
     "metadata": {
      "application/vnd.databricks.v1+output": {
       "arguments": {},
       "data": "\u001B[0;31m---------------------------------------------------------------------------\u001B[0m\n\u001B[0;31mAnalysisException\u001B[0m                         Traceback (most recent call last)\nFile \u001B[0;32m<command-4005864246803051>:1\u001B[0m\n\u001B[0;32m----> 1\u001B[0m \u001B[43mdf\u001B[49m\u001B[38;5;241;43m.\u001B[39;49m\u001B[43mwrite\u001B[49m\u001B[38;5;241;43m.\u001B[39;49m\u001B[43mmode\u001B[49m\u001B[43m(\u001B[49m\u001B[38;5;124;43m\"\u001B[39;49m\u001B[38;5;124;43moverwrite\u001B[39;49m\u001B[38;5;124;43m\"\u001B[39;49m\u001B[43m)\u001B[49m\u001B[38;5;241;43m.\u001B[39;49m\u001B[43mformat\u001B[49m\u001B[43m(\u001B[49m\u001B[38;5;124;43m\"\u001B[39;49m\u001B[38;5;124;43mcsv\u001B[39;49m\u001B[38;5;124;43m\"\u001B[39;49m\u001B[43m)\u001B[49m\u001B[38;5;241;43m.\u001B[39;49m\u001B[43msave\u001B[49m\u001B[43m(\u001B[49m\u001B[38;5;124;43m\"\u001B[39;49m\u001B[38;5;124;43mdbfs:/FileStore/tables/final\u001B[39;49m\u001B[38;5;124;43m\"\u001B[39;49m\u001B[43m)\u001B[49m\n\nFile \u001B[0;32m/databricks/spark/python/pyspark/instrumentation_utils.py:48\u001B[0m, in \u001B[0;36m_wrap_function.<locals>.wrapper\u001B[0;34m(*args, **kwargs)\u001B[0m\n\u001B[1;32m     46\u001B[0m start \u001B[38;5;241m=\u001B[39m time\u001B[38;5;241m.\u001B[39mperf_counter()\n\u001B[1;32m     47\u001B[0m \u001B[38;5;28;01mtry\u001B[39;00m:\n\u001B[0;32m---> 48\u001B[0m     res \u001B[38;5;241m=\u001B[39m \u001B[43mfunc\u001B[49m\u001B[43m(\u001B[49m\u001B[38;5;241;43m*\u001B[39;49m\u001B[43margs\u001B[49m\u001B[43m,\u001B[49m\u001B[43m \u001B[49m\u001B[38;5;241;43m*\u001B[39;49m\u001B[38;5;241;43m*\u001B[39;49m\u001B[43mkwargs\u001B[49m\u001B[43m)\u001B[49m\n\u001B[1;32m     49\u001B[0m     logger\u001B[38;5;241m.\u001B[39mlog_success(\n\u001B[1;32m     50\u001B[0m         module_name, class_name, function_name, time\u001B[38;5;241m.\u001B[39mperf_counter() \u001B[38;5;241m-\u001B[39m start, signature\n\u001B[1;32m     51\u001B[0m     )\n\u001B[1;32m     52\u001B[0m     \u001B[38;5;28;01mreturn\u001B[39;00m res\n\nFile \u001B[0;32m/databricks/spark/python/pyspark/sql/readwriter.py:1397\u001B[0m, in \u001B[0;36mDataFrameWriter.save\u001B[0;34m(self, path, format, mode, partitionBy, **options)\u001B[0m\n\u001B[1;32m   1395\u001B[0m     \u001B[38;5;28mself\u001B[39m\u001B[38;5;241m.\u001B[39m_jwrite\u001B[38;5;241m.\u001B[39msave()\n\u001B[1;32m   1396\u001B[0m \u001B[38;5;28;01melse\u001B[39;00m:\n\u001B[0;32m-> 1397\u001B[0m     \u001B[38;5;28;43mself\u001B[39;49m\u001B[38;5;241;43m.\u001B[39;49m\u001B[43m_jwrite\u001B[49m\u001B[38;5;241;43m.\u001B[39;49m\u001B[43msave\u001B[49m\u001B[43m(\u001B[49m\u001B[43mpath\u001B[49m\u001B[43m)\u001B[49m\n\nFile \u001B[0;32m/databricks/spark/python/lib/py4j-0.10.9.5-src.zip/py4j/java_gateway.py:1321\u001B[0m, in \u001B[0;36mJavaMember.__call__\u001B[0;34m(self, *args)\u001B[0m\n\u001B[1;32m   1315\u001B[0m command \u001B[38;5;241m=\u001B[39m proto\u001B[38;5;241m.\u001B[39mCALL_COMMAND_NAME \u001B[38;5;241m+\u001B[39m\\\n\u001B[1;32m   1316\u001B[0m     \u001B[38;5;28mself\u001B[39m\u001B[38;5;241m.\u001B[39mcommand_header \u001B[38;5;241m+\u001B[39m\\\n\u001B[1;32m   1317\u001B[0m     args_command \u001B[38;5;241m+\u001B[39m\\\n\u001B[1;32m   1318\u001B[0m     proto\u001B[38;5;241m.\u001B[39mEND_COMMAND_PART\n\u001B[1;32m   1320\u001B[0m answer \u001B[38;5;241m=\u001B[39m \u001B[38;5;28mself\u001B[39m\u001B[38;5;241m.\u001B[39mgateway_client\u001B[38;5;241m.\u001B[39msend_command(command)\n\u001B[0;32m-> 1321\u001B[0m return_value \u001B[38;5;241m=\u001B[39m \u001B[43mget_return_value\u001B[49m\u001B[43m(\u001B[49m\n\u001B[1;32m   1322\u001B[0m \u001B[43m    \u001B[49m\u001B[43manswer\u001B[49m\u001B[43m,\u001B[49m\u001B[43m \u001B[49m\u001B[38;5;28;43mself\u001B[39;49m\u001B[38;5;241;43m.\u001B[39;49m\u001B[43mgateway_client\u001B[49m\u001B[43m,\u001B[49m\u001B[43m \u001B[49m\u001B[38;5;28;43mself\u001B[39;49m\u001B[38;5;241;43m.\u001B[39;49m\u001B[43mtarget_id\u001B[49m\u001B[43m,\u001B[49m\u001B[43m \u001B[49m\u001B[38;5;28;43mself\u001B[39;49m\u001B[38;5;241;43m.\u001B[39;49m\u001B[43mname\u001B[49m\u001B[43m)\u001B[49m\n\u001B[1;32m   1324\u001B[0m \u001B[38;5;28;01mfor\u001B[39;00m temp_arg \u001B[38;5;129;01min\u001B[39;00m temp_args:\n\u001B[1;32m   1325\u001B[0m     temp_arg\u001B[38;5;241m.\u001B[39m_detach()\n\nFile \u001B[0;32m/databricks/spark/python/pyspark/errors/exceptions.py:234\u001B[0m, in \u001B[0;36mcapture_sql_exception.<locals>.deco\u001B[0;34m(*a, **kw)\u001B[0m\n\u001B[1;32m    230\u001B[0m converted \u001B[38;5;241m=\u001B[39m convert_exception(e\u001B[38;5;241m.\u001B[39mjava_exception)\n\u001B[1;32m    231\u001B[0m \u001B[38;5;28;01mif\u001B[39;00m \u001B[38;5;129;01mnot\u001B[39;00m \u001B[38;5;28misinstance\u001B[39m(converted, UnknownException):\n\u001B[1;32m    232\u001B[0m     \u001B[38;5;66;03m# Hide where the exception came from that shows a non-Pythonic\u001B[39;00m\n\u001B[1;32m    233\u001B[0m     \u001B[38;5;66;03m# JVM exception message.\u001B[39;00m\n\u001B[0;32m--> 234\u001B[0m     \u001B[38;5;28;01mraise\u001B[39;00m converted \u001B[38;5;28;01mfrom\u001B[39;00m \u001B[38;5;28mNone\u001B[39m\n\u001B[1;32m    235\u001B[0m \u001B[38;5;28;01melse\u001B[39;00m:\n\u001B[1;32m    236\u001B[0m     \u001B[38;5;28;01mraise\u001B[39;00m\n\n\u001B[0;31mAnalysisException\u001B[0m: [COLUMN_ALREADY_EXISTS] The column `age` already exists. Consider to choose another name or rename the existing column.",
       "errorSummary": "<span class='ansi-red-fg'>AnalysisException</span>: [COLUMN_ALREADY_EXISTS] The column `age` already exists. Consider to choose another name or rename the existing column.",
       "errorTraceType": "ansi",
       "metadata": {},
       "type": "ipynbError"
      }
     },
     "output_type": "display_data"
    }
   ],
   "source": [
    "df.write.mode(\"overwrite\").format(\"csv\").save(\"dbfs:/FileStore/tables/final\")"
   ]
  },
  {
   "cell_type": "code",
   "execution_count": 0,
   "metadata": {
    "application/vnd.databricks.v1+cell": {
     "cellMetadata": {
      "byteLimit": 2048000,
      "rowLimit": 10000
     },
     "inputWidgets": {},
     "nuid": "d63e5c73-657d-43f4-a21d-22368a445769",
     "showTitle": false,
     "title": ""
    }
   },
   "outputs": [
    {
     "output_type": "display_data",
     "data": {
      "text/plain": [
       ""
      ]
     },
     "metadata": {
      "application/vnd.databricks.v1+output": {
       "arguments": {},
       "data": "",
       "errorSummary": "Command skipped",
       "errorTraceType": "ansi",
       "metadata": {},
       "type": "ipynbError"
      }
     },
     "output_type": "display_data"
    }
   ],
   "source": [
    "%fs ls dbfs:/FileStore/tables/final"
   ]
  },
  {
   "cell_type": "code",
   "execution_count": 0,
   "metadata": {
    "application/vnd.databricks.v1+cell": {
     "cellMetadata": {
      "byteLimit": 2048000,
      "rowLimit": 10000
     },
     "inputWidgets": {},
     "nuid": "9ca062ff-4ec9-4fbc-939b-927135f4c2e4",
     "showTitle": false,
     "title": ""
    }
   },
   "outputs": [
    {
     "output_type": "display_data",
     "data": {
      "text/plain": [
       ""
      ]
     },
     "metadata": {
      "application/vnd.databricks.v1+output": {
       "arguments": {},
       "data": "",
       "errorSummary": "Command skipped",
       "errorTraceType": "ansi",
       "metadata": {},
       "type": "ipynbError"
      }
     },
     "output_type": "display_data"
    }
   ],
   "source": [
    "spark.sql(\"show tables\").show()"
   ]
  },
  {
   "cell_type": "code",
   "execution_count": 0,
   "metadata": {
    "application/vnd.databricks.v1+cell": {
     "cellMetadata": {
      "byteLimit": 2048000,
      "rowLimit": 10000
     },
     "inputWidgets": {},
     "nuid": "9eb7a8bc-ed19-4bcf-8a7c-26ab9173d54a",
     "showTitle": false,
     "title": ""
    }
   },
   "outputs": [
    {
     "output_type": "display_data",
     "data": {
      "text/plain": [
       ""
      ]
     },
     "metadata": {
      "application/vnd.databricks.v1+output": {
       "arguments": {},
       "data": "",
       "errorSummary": "Command skipped",
       "errorTraceType": "ansi",
       "metadata": {},
       "type": "ipynbError"
      }
     },
     "output_type": "display_data"
    }
   ],
   "source": [
    "df.write.mode(\"overwrite\").format(\"delta\").saveAsTable(\"final\")"
   ]
  },
  {
   "cell_type": "code",
   "execution_count": 0,
   "metadata": {
    "application/vnd.databricks.v1+cell": {
     "cellMetadata": {
      "byteLimit": 2048000,
      "rowLimit": 10000
     },
     "inputWidgets": {},
     "nuid": "e10c5e40-ad55-438e-b837-b68950821df8",
     "showTitle": false,
     "title": ""
    }
   },
   "outputs": [
    {
     "output_type": "display_data",
     "data": {
      "text/plain": [
       ""
      ]
     },
     "metadata": {
      "application/vnd.databricks.v1+output": {
       "arguments": {},
       "data": "",
       "errorSummary": "Command skipped",
       "errorTraceType": "ansi",
       "metadata": {},
       "type": "ipynbError"
      }
     },
     "output_type": "display_data"
    }
   ],
   "source": [
    "spark.sql(\"show tables\").show()"
   ]
  },
  {
   "cell_type": "code",
   "execution_count": 0,
   "metadata": {
    "application/vnd.databricks.v1+cell": {
     "cellMetadata": {
      "byteLimit": 2048000,
      "rowLimit": 10000
     },
     "inputWidgets": {},
     "nuid": "ecb3ec6a-ee9a-41ef-b771-ea4b07ed84cc",
     "showTitle": false,
     "title": ""
    }
   },
   "outputs": [
    {
     "output_type": "display_data",
     "data": {
      "text/plain": [
       ""
      ]
     },
     "metadata": {
      "application/vnd.databricks.v1+output": {
       "arguments": {},
       "data": "",
       "errorSummary": "Command skipped",
       "errorTraceType": "ansi",
       "metadata": {},
       "type": "ipynbError"
      }
     },
     "output_type": "display_data"
    }
   ],
   "source": [
    "%fs ls dbfs:/user/hive/warehouse/final/_delta_log\n"
   ]
  },
  {
   "cell_type": "code",
   "execution_count": 0,
   "metadata": {
    "application/vnd.databricks.v1+cell": {
     "cellMetadata": {
      "byteLimit": 2048000,
      "implicitDf": true,
      "rowLimit": 10000
     },
     "inputWidgets": {},
     "nuid": "0d291a64-7c19-409e-b7ca-dfe8430b7da5",
     "showTitle": false,
     "title": ""
    }
   },
   "outputs": [
    {
     "output_type": "display_data",
     "data": {
      "text/plain": [
       ""
      ]
     },
     "metadata": {
      "application/vnd.databricks.v1+output": {
       "arguments": {},
       "data": "",
       "errorSummary": "Command skipped",
       "errorTraceType": "ansi",
       "metadata": {},
       "type": "ipynbError"
      }
     },
     "output_type": "display_data"
    }
   ],
   "source": [
    "%sql\n",
    "desc default.final"
   ]
  },
  {
   "cell_type": "code",
   "execution_count": 0,
   "metadata": {
    "application/vnd.databricks.v1+cell": {
     "cellMetadata": {
      "byteLimit": 2048000,
      "implicitDf": true,
      "rowLimit": 10000
     },
     "inputWidgets": {},
     "nuid": "93aedfd5-f653-4c55-b508-ff4822b8751b",
     "showTitle": false,
     "title": ""
    }
   },
   "outputs": [
    {
     "output_type": "display_data",
     "data": {
      "text/plain": [
       ""
      ]
     },
     "metadata": {
      "application/vnd.databricks.v1+output": {
       "arguments": {},
       "data": "",
       "errorSummary": "Command skipped",
       "errorTraceType": "ansi",
       "metadata": {},
       "type": "ipynbError"
      }
     },
     "output_type": "display_data"
    }
   ],
   "source": [
    "%sql\n",
    "desc detail default.final"
   ]
  },
  {
   "cell_type": "code",
   "execution_count": 0,
   "metadata": {
    "application/vnd.databricks.v1+cell": {
     "cellMetadata": {
      "byteLimit": 2048000,
      "implicitDf": true,
      "rowLimit": 10000
     },
     "inputWidgets": {},
     "nuid": "7744efc5-3bfb-4026-a6a1-2b952ce2e897",
     "showTitle": false,
     "title": ""
    }
   },
   "outputs": [
    {
     "output_type": "display_data",
     "data": {
      "text/plain": [
       ""
      ]
     },
     "metadata": {
      "application/vnd.databricks.v1+output": {
       "arguments": {},
       "data": "",
       "errorSummary": "Command skipped",
       "errorTraceType": "ansi",
       "metadata": {},
       "type": "ipynbError"
      }
     },
     "output_type": "display_data"
    }
   ],
   "source": [
    "%sql\n",
    "desc extended default.final"
   ]
  },
  {
   "cell_type": "code",
   "execution_count": 0,
   "metadata": {
    "application/vnd.databricks.v1+cell": {
     "cellMetadata": {
      "byteLimit": 2048000,
      "implicitDf": true,
      "rowLimit": 10000
     },
     "inputWidgets": {},
     "nuid": "8c55a115-c734-4481-ac2f-42279c7a6c3f",
     "showTitle": false,
     "title": ""
    }
   },
   "outputs": [
    {
     "output_type": "display_data",
     "data": {
      "text/plain": [
       ""
      ]
     },
     "metadata": {
      "application/vnd.databricks.v1+output": {
       "arguments": {},
       "data": "",
       "errorSummary": "Command skipped",
       "errorTraceType": "ansi",
       "metadata": {},
       "type": "ipynbError"
      }
     },
     "output_type": "display_data"
    }
   ],
   "source": [
    "%sql\n",
    "select * except (raise, raise_10percent, age, company, dob)from final"
   ]
  },
  {
   "cell_type": "code",
   "execution_count": 0,
   "metadata": {
    "application/vnd.databricks.v1+cell": {
     "cellMetadata": {
      "byteLimit": 2048000,
      "rowLimit": 10000
     },
     "inputWidgets": {},
     "nuid": "4fa4c43d-fd13-45d8-a911-83313fa6730e",
     "showTitle": false,
     "title": ""
    }
   },
   "outputs": [
    {
     "output_type": "display_data",
     "data": {
      "text/plain": [
       ""
      ]
     },
     "metadata": {
      "application/vnd.databricks.v1+output": {
       "arguments": {},
       "data": "",
       "errorSummary": "Command skipped",
       "errorTraceType": "ansi",
       "metadata": {},
       "type": "ipynbError"
      }
     },
     "output_type": "display_data"
    }
   ],
   "source": [
    "table_df = spark.table(\"final\")\n",
    "\n",
    "#to directly load from delta unlike spark.read.format"
   ]
  },
  {
   "cell_type": "code",
   "execution_count": 0,
   "metadata": {
    "application/vnd.databricks.v1+cell": {
     "cellMetadata": {
      "byteLimit": 2048000,
      "rowLimit": 10000
     },
     "inputWidgets": {},
     "nuid": "33f68d18-8372-4ef8-ad38-8ecf71753ea1",
     "showTitle": false,
     "title": ""
    }
   },
   "outputs": [
    {
     "output_type": "display_data",
     "data": {
      "text/plain": [
       ""
      ]
     },
     "metadata": {
      "application/vnd.databricks.v1+output": {
       "arguments": {},
       "data": "",
       "errorSummary": "Command skipped",
       "errorTraceType": "ansi",
       "metadata": {},
       "type": "ipynbError"
      }
     },
     "output_type": "display_data"
    }
   ],
   "source": [
    "display(table_df)"
   ]
  },
  {
   "cell_type": "code",
   "execution_count": 0,
   "metadata": {
    "application/vnd.databricks.v1+cell": {
     "cellMetadata": {
      "byteLimit": 2048000,
      "rowLimit": 10000
     },
     "inputWidgets": {},
     "nuid": "dce1a42d-027e-4c2a-9983-85b84590a24d",
     "showTitle": false,
     "title": ""
    }
   },
   "outputs": [],
   "source": []
  }
 ],
 "metadata": {
  "application/vnd.databricks.v1+notebook": {
   "dashboards": [],
   "language": "python",
   "notebookMetadata": {
    "mostRecentlyExecutedCommandWithImplicitDF": {
     "commandId": 1207552886787005,
     "dataframes": [
      "_sqldf"
     ]
    },
    "pythonIndentUnit": 4
   },
   "notebookName": "PySpark",
   "widgets": {}
  }
 },
 "nbformat": 4,
 "nbformat_minor": 0
}
