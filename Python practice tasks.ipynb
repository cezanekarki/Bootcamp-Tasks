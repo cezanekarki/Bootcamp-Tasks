{
 "cells": [
  {
   "cell_type": "code",
   "execution_count": 0,
   "metadata": {
    "application/vnd.databricks.v1+cell": {
     "cellMetadata": {
      "byteLimit": 2048000,
      "rowLimit": 10000
     },
     "inputWidgets": {},
     "nuid": "40c2c2ce-1c6b-4212-8111-e695506b7b70",
     "showTitle": false,
     "title": ""
    }
   },
   "outputs": [
    {
     "output_type": "display_data",
     "data": {
      "text/plain": [
       " Enter the text hello how are you"
      ]
     },
     "metadata": {},
     "output_type": "display_data"
    }
   ],
   "source": [
    "userInput = input (\" Enter the text\")"
   ]
  },
  {
   "cell_type": "code",
   "execution_count": 0,
   "metadata": {
    "application/vnd.databricks.v1+cell": {
     "cellMetadata": {
      "byteLimit": 2048000,
      "rowLimit": 10000
     },
     "inputWidgets": {},
     "nuid": "d813ff8b-637e-4692-b4b1-edebf45dddd3",
     "showTitle": false,
     "title": ""
    }
   },
   "outputs": [
    {
     "output_type": "stream",
     "name": "stdout",
     "output_type": "stream",
     "text": [
      "Number of words: 4\n"
     ]
    }
   ],
   "source": [
    "string = \"Sonu is my ahjbajd\"\n",
    "words = string.split()\n",
    "num_words = len(words)\n",
    "print(\"Number of words:\", num_words)"
   ]
  },
  {
   "cell_type": "code",
   "execution_count": 0,
   "metadata": {
    "application/vnd.databricks.v1+cell": {
     "cellMetadata": {
      "byteLimit": 2048000,
      "rowLimit": 10000
     },
     "inputWidgets": {},
     "nuid": "f00f47db-a6a5-438e-8f34-69b6dfd93d4d",
     "showTitle": false,
     "title": ""
    }
   },
   "outputs": [
    {
     "output_type": "stream",
     "name": "stdout",
     "output_type": "stream",
     "text": [
      "Number of words: {'ahjbajd', 'my', 'is', 'Sonu'}\n"
     ]
    }
   ],
   "source": [
    "unique_words = set(words)\n",
    "print(\"Number of words:\", unique_words)"
   ]
  },
  {
   "cell_type": "code",
   "execution_count": 0,
   "metadata": {
    "application/vnd.databricks.v1+cell": {
     "cellMetadata": {
      "byteLimit": 2048000,
      "rowLimit": 10000
     },
     "inputWidgets": {},
     "nuid": "05a6ca17-ec08-4b8e-92fc-bdca6e89a1d8",
     "showTitle": false,
     "title": ""
    }
   },
   "outputs": [
    {
     "output_type": "stream",
     "name": "stdout",
     "output_type": "stream",
     "text": [
      "ahjbajd\n"
     ]
    }
   ],
   "source": [
    "longest_word = max(unique_words, key=len)\n",
    "print(longest_word)\n"
   ]
  },
  {
   "cell_type": "code",
   "execution_count": 0,
   "metadata": {
    "application/vnd.databricks.v1+cell": {
     "cellMetadata": {
      "byteLimit": 2048000,
      "rowLimit": 10000
     },
     "inputWidgets": {},
     "nuid": "4aa4e84d-5d91-4b9a-a044-f5718f52e8d8",
     "showTitle": false,
     "title": ""
    }
   },
   "outputs": [
    {
     "output_type": "stream",
     "name": "stdout",
     "output_type": "stream",
     "text": [
      "{'banana': 1, 'apple': 2, 'mango': 1, 'word2': 2, 'word3': 1, 'hiii': 1}\n"
     ]
    }
   ],
   "source": [
    "words = [\"banana\", \"apple\", \"apple\", \"mango\", \"word2\",\"word3\",\"word2\",\"hiii\"]\n",
    "# freq = {}\n",
    "# for word in words:\n",
    "#     if word in freq:\n",
    "#         freq[word] += 1\n",
    "#     else:\n",
    "#         freq[word] = 1\n",
    "# print(freq)\n",
    "dct = {}\n",
    "for i in words:\n",
    "    dct[i] = words.count(i)\n",
    "\n",
    "print(dct)\n"
   ]
  },
  {
   "cell_type": "code",
   "execution_count": 0,
   "metadata": {
    "application/vnd.databricks.v1+cell": {
     "cellMetadata": {
      "byteLimit": 2048000,
      "rowLimit": 10000
     },
     "inputWidgets": {},
     "nuid": "bf5ea3dd-5fb5-4236-a732-71f6b79a8ac6",
     "showTitle": false,
     "title": ""
    }
   },
   "outputs": [
    {
     "output_type": "stream",
     "name": "stdout",
     "output_type": "stream",
     "text": [
      "['apple', 'apple', 'banana', 'hiii', 'mango', 'word2', 'word2', 'word3']\n"
     ]
    }
   ],
   "source": [
    "sortedAlphabetically = sorted(words)\n",
    "print(sortedAlphabetically)\n",
    "    "
   ]
  },
  {
   "cell_type": "code",
   "execution_count": 0,
   "metadata": {
    "application/vnd.databricks.v1+cell": {
     "cellMetadata": {
      "byteLimit": 2048000,
      "rowLimit": 10000
     },
     "inputWidgets": {},
     "nuid": "013542c8-7e13-47fd-b82e-b5db15827861",
     "showTitle": false,
     "title": ""
    }
   },
   "outputs": [
    {
     "output_type": "stream",
     "name": "stdout",
     "output_type": "stream",
     "text": [
      "['word3', 'word2', 'word2', 'mango', 'hiii', 'banana', 'apple', 'apple']\n"
     ]
    }
   ],
   "source": [
    "reverse_order = sorted(words, reverse=True)\n",
    "print(reverse_order)"
   ]
  },
  {
   "cell_type": "code",
   "execution_count": 0,
   "metadata": {
    "application/vnd.databricks.v1+cell": {
     "cellMetadata": {
      "byteLimit": 2048000,
      "rowLimit": 10000
     },
     "inputWidgets": {},
     "nuid": "d4541c71-bad7-4acd-ab48-ac8e1eceacc8",
     "showTitle": false,
     "title": ""
    }
   },
   "outputs": [
    {
     "output_type": "stream",
     "name": "stdout",
     "output_type": "stream",
     "text": [
      "Sonu is my ahjbajd\n"
     ]
    }
   ],
   "source": [
    "string = \"Sonu is my ahjbajd\"\n",
    "words = string.split()\n",
    "reversed_text = ' '.join(reversed(words[::-1]))\n",
    "print (reversed_text)\n",
    "\n",
    "# reversed_text=string[::-1]\n",
    "# print (reversed_text)\n"
   ]
  },
  {
   "cell_type": "code",
   "execution_count": 0,
   "metadata": {
    "application/vnd.databricks.v1+cell": {
     "cellMetadata": {},
     "inputWidgets": {},
     "nuid": "7e933db4-c51c-4de8-afa0-52562a769400",
     "showTitle": false,
     "title": ""
    }
   },
   "outputs": [],
   "source": []
  }
 ],
 "metadata": {
  "application/vnd.databricks.v1+notebook": {
   "dashboards": [],
   "language": "python",
   "notebookMetadata": {
    "pythonIndentUnit": 4
   },
   "notebookName": "Python practice tasks",
   "widgets": {}
  }
 },
 "nbformat": 4,
 "nbformat_minor": 0
}
