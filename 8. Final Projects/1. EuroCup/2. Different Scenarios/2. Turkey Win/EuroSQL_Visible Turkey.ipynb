{
 "cells": [
  {
   "cell_type": "markdown",
   "metadata": {
    "application/vnd.databricks.v1+cell": {
     "cellMetadata": {
      "byteLimit": 2048000,
      "rowLimit": 10000
     },
     "inputWidgets": {},
     "nuid": "2d43acc2-2db7-4132-adff-1b723c3b3031",
     "showTitle": false,
     "title": ""
    }
   },
   "source": [
    "#Visualization EuroSQL"
   ]
  },
  {
   "cell_type": "code",
   "execution_count": 0,
   "metadata": {
    "application/vnd.databricks.v1+cell": {
     "cellMetadata": {
      "byteLimit": 2048000,
      "rowLimit": 10000
     },
     "inputWidgets": {},
     "nuid": "9998a8e4-f9c5-4efe-9f7a-daf08f23f6ce",
     "showTitle": false,
     "title": ""
    }
   },
   "outputs": [],
   "source": [
    "#import libraries\n",
    "import pandas as pd\n",
    "from pyspark.sql import SparkSession"
   ]
  },
  {
   "cell_type": "code",
   "execution_count": 0,
   "metadata": {
    "application/vnd.databricks.v1+cell": {
     "cellMetadata": {
      "byteLimit": 2048000,
      "rowLimit": 10000
     },
     "inputWidgets": {},
     "nuid": "80b8e30a-3d8c-49c3-a177-2ccc252e3036",
     "showTitle": false,
     "title": ""
    }
   },
   "outputs": [],
   "source": [
    "#Spark Session\n",
    "spark = SparkSession.builder \\\n",
    "    .appName(\"euros_sql_visulization\") \\\n",
    "    .getOrCreate()"
   ]
  },
  {
   "cell_type": "code",
   "execution_count": 0,
   "metadata": {
    "application/vnd.databricks.v1+cell": {
     "cellMetadata": {
      "byteLimit": 2048000,
      "rowLimit": 10000
     },
     "inputWidgets": {},
     "nuid": "17e28640-2783-4e61-92d7-e8854ccfa900",
     "showTitle": false,
     "title": ""
    }
   },
   "outputs": [
    {
     "output_type": "display_data",
     "data": {
      "text/html": [
       "<style scoped>\n",
       "  .table-result-container {\n",
       "    max-height: 300px;\n",
       "    overflow: auto;\n",
       "  }\n",
       "  table, th, td {\n",
       "    border: 1px solid black;\n",
       "    border-collapse: collapse;\n",
       "  }\n",
       "  th, td {\n",
       "    padding: 5px;\n",
       "  }\n",
       "  th {\n",
       "    text-align: left;\n",
       "  }\n",
       "</style><div class='table-result-container'><table class='table-result'><thead style='background-color: white'><tr><th>GroupName</th><th>TeamName</th><th>MatchesPlayed</th><th>MatchesWon</th><th>MatchesLost</th><th>MatchesDrawn</th><th>GF</th><th>GA</th><th>GD</th><th>TotalPoints</th><th>Position</th></tr></thead><tbody><tr><td>A</td><td>Switzerland</td><td>3</td><td>2</td><td>0</td><td>1</td><td>12</td><td>8</td><td>4</td><td>7</td><td>A1</td></tr><tr><td>A</td><td>Germany</td><td>3</td><td>1</td><td>1</td><td>1</td><td>11</td><td>9</td><td>2</td><td>4</td><td>A2</td></tr><tr><td>A</td><td>Scotland</td><td>3</td><td>1</td><td>1</td><td>1</td><td>4</td><td>5</td><td>-1</td><td>4</td><td>A3</td></tr><tr><td>A</td><td>Hungary</td><td>3</td><td>0</td><td>2</td><td>1</td><td>7</td><td>12</td><td>-5</td><td>1</td><td>A4</td></tr><tr><td>B</td><td>Italy</td><td>3</td><td>2</td><td>1</td><td>0</td><td>8</td><td>7</td><td>1</td><td>6</td><td>B1</td></tr><tr><td>B</td><td>Spain</td><td>3</td><td>1</td><td>0</td><td>2</td><td>11</td><td>7</td><td>4</td><td>5</td><td>B2</td></tr><tr><td>B</td><td>Croatia</td><td>3</td><td>0</td><td>1</td><td>2</td><td>5</td><td>7</td><td>-2</td><td>2</td><td>B3</td></tr><tr><td>B</td><td>Albania</td><td>3</td><td>0</td><td>1</td><td>2</td><td>5</td><td>8</td><td>-3</td><td>2</td><td>B4</td></tr><tr><td>C</td><td>Denmark</td><td>3</td><td>3</td><td>0</td><td>0</td><td>7</td><td>3</td><td>4</td><td>9</td><td>C1</td></tr><tr><td>C</td><td>Serbia</td><td>3</td><td>2</td><td>1</td><td>0</td><td>7</td><td>2</td><td>5</td><td>6</td><td>C2</td></tr><tr><td>C</td><td>Slovenia</td><td>3</td><td>1</td><td>2</td><td>0</td><td>9</td><td>8</td><td>1</td><td>3</td><td>C3</td></tr><tr><td>C</td><td>England</td><td>3</td><td>0</td><td>3</td><td>0</td><td>2</td><td>12</td><td>-10</td><td>0</td><td>C4</td></tr><tr><td>D</td><td>France</td><td>3</td><td>3</td><td>0</td><td>0</td><td>9</td><td>5</td><td>4</td><td>9</td><td>D1</td></tr><tr><td>D</td><td>Poland</td><td>3</td><td>1</td><td>1</td><td>1</td><td>11</td><td>9</td><td>2</td><td>4</td><td>D2</td></tr><tr><td>D</td><td>Netherlands</td><td>3</td><td>1</td><td>2</td><td>0</td><td>3</td><td>7</td><td>-4</td><td>3</td><td>D3</td></tr><tr><td>D</td><td>Austria</td><td>3</td><td>0</td><td>2</td><td>1</td><td>8</td><td>10</td><td>-2</td><td>1</td><td>D4</td></tr><tr><td>E</td><td>Romania</td><td>3</td><td>1</td><td>0</td><td>2</td><td>8</td><td>4</td><td>4</td><td>5</td><td>E1</td></tr><tr><td>E</td><td>Slovakia</td><td>3</td><td>1</td><td>0</td><td>2</td><td>11</td><td>10</td><td>1</td><td>5</td><td>E2</td></tr><tr><td>E</td><td>Belgium</td><td>3</td><td>1</td><td>2</td><td>0</td><td>4</td><td>8</td><td>-4</td><td>3</td><td>E3</td></tr><tr><td>E</td><td>Ukraine</td><td>3</td><td>0</td><td>1</td><td>2</td><td>5</td><td>6</td><td>-1</td><td>2</td><td>E4</td></tr><tr><td>F</td><td>Turkey</td><td>3</td><td>3</td><td>0</td><td>0</td><td>10</td><td>3</td><td>7</td><td>9</td><td>F1</td></tr><tr><td>F</td><td>Greece</td><td>3</td><td>2</td><td>1</td><td>0</td><td>8</td><td>9</td><td>-1</td><td>6</td><td>F2</td></tr><tr><td>F</td><td>Portugal</td><td>3</td><td>1</td><td>2</td><td>0</td><td>3</td><td>4</td><td>-1</td><td>3</td><td>F3</td></tr><tr><td>F</td><td>Czech Republic</td><td>3</td><td>0</td><td>3</td><td>0</td><td>6</td><td>11</td><td>-5</td><td>0</td><td>F4</td></tr></tbody></table></div>"
      ]
     },
     "metadata": {
      "application/vnd.databricks.v1+output": {
       "addedWidgets": {},
       "aggData": [],
       "aggError": "",
       "aggOverflow": false,
       "aggSchema": [],
       "aggSeriesLimitReached": false,
       "aggType": "",
       "arguments": {},
       "columnCustomDisplayInfos": {},
       "data": [
        [
         "A",
         "Switzerland",
         "3",
         "2",
         "0",
         "1",
         "12",
         "8",
         "4",
         "7",
         "A1"
        ],
        [
         "A",
         "Germany",
         "3",
         "1",
         "1",
         "1",
         "11",
         "9",
         "2",
         "4",
         "A2"
        ],
        [
         "A",
         "Scotland",
         "3",
         "1",
         "1",
         "1",
         "4",
         "5",
         "-1",
         "4",
         "A3"
        ],
        [
         "A",
         "Hungary",
         "3",
         "0",
         "2",
         "1",
         "7",
         "12",
         "-5",
         "1",
         "A4"
        ],
        [
         "B",
         "Italy",
         "3",
         "2",
         "1",
         "0",
         "8",
         "7",
         "1",
         "6",
         "B1"
        ],
        [
         "B",
         "Spain",
         "3",
         "1",
         "0",
         "2",
         "11",
         "7",
         "4",
         "5",
         "B2"
        ],
        [
         "B",
         "Croatia",
         "3",
         "0",
         "1",
         "2",
         "5",
         "7",
         "-2",
         "2",
         "B3"
        ],
        [
         "B",
         "Albania",
         "3",
         "0",
         "1",
         "2",
         "5",
         "8",
         "-3",
         "2",
         "B4"
        ],
        [
         "C",
         "Denmark",
         "3",
         "3",
         "0",
         "0",
         "7",
         "3",
         "4",
         "9",
         "C1"
        ],
        [
         "C",
         "Serbia",
         "3",
         "2",
         "1",
         "0",
         "7",
         "2",
         "5",
         "6",
         "C2"
        ],
        [
         "C",
         "Slovenia",
         "3",
         "1",
         "2",
         "0",
         "9",
         "8",
         "1",
         "3",
         "C3"
        ],
        [
         "C",
         "England",
         "3",
         "0",
         "3",
         "0",
         "2",
         "12",
         "-10",
         "0",
         "C4"
        ],
        [
         "D",
         "France",
         "3",
         "3",
         "0",
         "0",
         "9",
         "5",
         "4",
         "9",
         "D1"
        ],
        [
         "D",
         "Poland",
         "3",
         "1",
         "1",
         "1",
         "11",
         "9",
         "2",
         "4",
         "D2"
        ],
        [
         "D",
         "Netherlands",
         "3",
         "1",
         "2",
         "0",
         "3",
         "7",
         "-4",
         "3",
         "D3"
        ],
        [
         "D",
         "Austria",
         "3",
         "0",
         "2",
         "1",
         "8",
         "10",
         "-2",
         "1",
         "D4"
        ],
        [
         "E",
         "Romania",
         "3",
         "1",
         "0",
         "2",
         "8",
         "4",
         "4",
         "5",
         "E1"
        ],
        [
         "E",
         "Slovakia",
         "3",
         "1",
         "0",
         "2",
         "11",
         "10",
         "1",
         "5",
         "E2"
        ],
        [
         "E",
         "Belgium",
         "3",
         "1",
         "2",
         "0",
         "4",
         "8",
         "-4",
         "3",
         "E3"
        ],
        [
         "E",
         "Ukraine",
         "3",
         "0",
         "1",
         "2",
         "5",
         "6",
         "-1",
         "2",
         "E4"
        ],
        [
         "F",
         "Turkey",
         "3",
         "3",
         "0",
         "0",
         "10",
         "3",
         "7",
         "9",
         "F1"
        ],
        [
         "F",
         "Greece",
         "3",
         "2",
         "1",
         "0",
         "8",
         "9",
         "-1",
         "6",
         "F2"
        ],
        [
         "F",
         "Portugal",
         "3",
         "1",
         "2",
         "0",
         "3",
         "4",
         "-1",
         "3",
         "F3"
        ],
        [
         "F",
         "Czech Republic",
         "3",
         "0",
         "3",
         "0",
         "6",
         "11",
         "-5",
         "0",
         "F4"
        ]
       ],
       "datasetInfos": [],
       "dbfsResultPath": null,
       "isJsonSchema": true,
       "metadata": {},
       "overflow": false,
       "plotOptions": {
        "customPlotOptions": {},
        "displayType": "table",
        "pivotAggregation": null,
        "pivotColumns": null,
        "xColumns": null,
        "yColumns": null
       },
       "removedWidgets": [],
       "schema": [
        {
         "metadata": "{}",
         "name": "GroupName",
         "type": "\"string\""
        },
        {
         "metadata": "{}",
         "name": "TeamName",
         "type": "\"string\""
        },
        {
         "metadata": "{}",
         "name": "MatchesPlayed",
         "type": "\"string\""
        },
        {
         "metadata": "{}",
         "name": "MatchesWon",
         "type": "\"string\""
        },
        {
         "metadata": "{}",
         "name": "MatchesLost",
         "type": "\"string\""
        },
        {
         "metadata": "{}",
         "name": "MatchesDrawn",
         "type": "\"string\""
        },
        {
         "metadata": "{}",
         "name": "GF",
         "type": "\"string\""
        },
        {
         "metadata": "{}",
         "name": "GA",
         "type": "\"string\""
        },
        {
         "metadata": "{}",
         "name": "GD",
         "type": "\"string\""
        },
        {
         "metadata": "{}",
         "name": "TotalPoints",
         "type": "\"string\""
        },
        {
         "metadata": "{}",
         "name": "Position",
         "type": "\"string\""
        }
       ],
       "type": "table"
      }
     },
     "output_type": "display_data"
    }
   ],
   "source": [
    "#getting data from sql table and into pandas dataframe\n",
    "groupstage = spark.sql(\"SELECT * FROM GroupStageResults\")\n",
    "groupstage_pd = groupstage.toPandas()\n",
    "\n",
    "#converting to string and removing .0 from floats occuring after conversion\n",
    "groupstage_pd = groupstage_pd.applymap(lambda x: str(x).split(\".\")[0])\n",
    "\n",
    "display(groupstage_pd)"
   ]
  },
  {
   "cell_type": "code",
   "execution_count": 0,
   "metadata": {
    "application/vnd.databricks.v1+cell": {
     "cellMetadata": {
      "byteLimit": 2048000,
      "rowLimit": 10000
     },
     "inputWidgets": {},
     "nuid": "41ad9e09-2788-4b4e-979f-983f5e38bae2",
     "showTitle": false,
     "title": ""
    }
   },
   "outputs": [],
   "source": [
    "#GroupStage Visualization Table\n",
    "euro_vis = pd.DataFrame({\n",
    "    'Grp/Pos': groupstage_pd['Position'],\n",
    "    'Country': groupstage_pd['TeamName'],\n",
    "    'MP': groupstage_pd['MatchesPlayed'],\n",
    "    'W': groupstage_pd['MatchesWon'],\n",
    "    'D': groupstage_pd['MatchesDrawn'],\n",
    "    'L': groupstage_pd['MatchesLost'],\n",
    "    'GF': groupstage_pd['GF'],\n",
    "    'GA': groupstage_pd['GA'],\n",
    "    'GD': groupstage_pd['GD'],\n",
    "    'Pts': groupstage_pd['TotalPoints']\n",
    "})"
   ]
  },
  {
   "cell_type": "code",
   "execution_count": 0,
   "metadata": {
    "application/vnd.databricks.v1+cell": {
     "cellMetadata": {
      "byteLimit": 2048000,
      "rowLimit": 10000
     },
     "inputWidgets": {},
     "nuid": "a4d11e56-a0ab-4b82-af3b-c6fda8e7552f",
     "showTitle": false,
     "title": ""
    }
   },
   "outputs": [],
   "source": [
    "#empty row for group stage\n",
    "mtgs_row_pd = pd.DataFrame({col: [''] for col in euro_vis.columns})"
   ]
  },
  {
   "cell_type": "code",
   "execution_count": 0,
   "metadata": {
    "application/vnd.databricks.v1+cell": {
     "cellMetadata": {
      "byteLimit": 2048000,
      "rowLimit": 10000
     },
     "inputWidgets": {},
     "nuid": "6c2fb0a6-62d9-4620-b3b1-1a3ca01adb99",
     "showTitle": false,
     "title": ""
    }
   },
   "outputs": [
    {
     "output_type": "display_data",
     "data": {
      "text/html": [
       "<style scoped>\n",
       "  .table-result-container {\n",
       "    max-height: 300px;\n",
       "    overflow: auto;\n",
       "  }\n",
       "  table, th, td {\n",
       "    border: 1px solid black;\n",
       "    border-collapse: collapse;\n",
       "  }\n",
       "  th, td {\n",
       "    padding: 5px;\n",
       "  }\n",
       "  th {\n",
       "    text-align: left;\n",
       "  }\n",
       "</style><div class='table-result-container'><table class='table-result'><thead style='background-color: white'><tr><th>Grp/Pos</th><th>Country</th><th>MP</th><th>W</th><th>D</th><th>L</th><th>GF</th><th>GA</th><th>GD</th><th>Pts</th></tr></thead><tbody><tr><td>A1</td><td>Switzerland</td><td>3</td><td>2</td><td>1</td><td>0</td><td>12</td><td>8</td><td>4</td><td>7</td></tr><tr><td>A2</td><td>Germany</td><td>3</td><td>1</td><td>1</td><td>1</td><td>11</td><td>9</td><td>2</td><td>4</td></tr><tr><td>A3</td><td>Scotland</td><td>3</td><td>1</td><td>1</td><td>1</td><td>4</td><td>5</td><td>-1</td><td>4</td></tr><tr><td>A4</td><td>Hungary</td><td>3</td><td>0</td><td>1</td><td>2</td><td>7</td><td>12</td><td>-5</td><td>1</td></tr><tr><td>B1</td><td>Italy</td><td>3</td><td>2</td><td>0</td><td>1</td><td>8</td><td>7</td><td>1</td><td>6</td></tr><tr><td>B2</td><td>Spain</td><td>3</td><td>1</td><td>2</td><td>0</td><td>11</td><td>7</td><td>4</td><td>5</td></tr><tr><td>B3</td><td>Croatia</td><td>3</td><td>0</td><td>2</td><td>1</td><td>5</td><td>7</td><td>-2</td><td>2</td></tr><tr><td>B4</td><td>Albania</td><td>3</td><td>0</td><td>2</td><td>1</td><td>5</td><td>8</td><td>-3</td><td>2</td></tr><tr><td>C1</td><td>Denmark</td><td>3</td><td>3</td><td>0</td><td>0</td><td>7</td><td>3</td><td>4</td><td>9</td></tr><tr><td>C2</td><td>Serbia</td><td>3</td><td>2</td><td>0</td><td>1</td><td>7</td><td>2</td><td>5</td><td>6</td></tr><tr><td>C3</td><td>Slovenia</td><td>3</td><td>1</td><td>0</td><td>2</td><td>9</td><td>8</td><td>1</td><td>3</td></tr><tr><td>C4</td><td>England</td><td>3</td><td>0</td><td>0</td><td>3</td><td>2</td><td>12</td><td>-10</td><td>0</td></tr></tbody></table></div>"
      ]
     },
     "metadata": {
      "application/vnd.databricks.v1+output": {
       "addedWidgets": {},
       "aggData": [],
       "aggError": "",
       "aggOverflow": false,
       "aggSchema": [],
       "aggSeriesLimitReached": false,
       "aggType": "",
       "arguments": {},
       "columnCustomDisplayInfos": {},
       "data": [
        [
         "A1",
         "Switzerland",
         "3",
         "2",
         "1",
         "0",
         "12",
         "8",
         "4",
         "7"
        ],
        [
         "A2",
         "Germany",
         "3",
         "1",
         "1",
         "1",
         "11",
         "9",
         "2",
         "4"
        ],
        [
         "A3",
         "Scotland",
         "3",
         "1",
         "1",
         "1",
         "4",
         "5",
         "-1",
         "4"
        ],
        [
         "A4",
         "Hungary",
         "3",
         "0",
         "1",
         "2",
         "7",
         "12",
         "-5",
         "1"
        ],
        [
         "B1",
         "Italy",
         "3",
         "2",
         "0",
         "1",
         "8",
         "7",
         "1",
         "6"
        ],
        [
         "B2",
         "Spain",
         "3",
         "1",
         "2",
         "0",
         "11",
         "7",
         "4",
         "5"
        ],
        [
         "B3",
         "Croatia",
         "3",
         "0",
         "2",
         "1",
         "5",
         "7",
         "-2",
         "2"
        ],
        [
         "B4",
         "Albania",
         "3",
         "0",
         "2",
         "1",
         "5",
         "8",
         "-3",
         "2"
        ],
        [
         "C1",
         "Denmark",
         "3",
         "3",
         "0",
         "0",
         "7",
         "3",
         "4",
         "9"
        ],
        [
         "C2",
         "Serbia",
         "3",
         "2",
         "0",
         "1",
         "7",
         "2",
         "5",
         "6"
        ],
        [
         "C3",
         "Slovenia",
         "3",
         "1",
         "0",
         "2",
         "9",
         "8",
         "1",
         "3"
        ],
        [
         "C4",
         "England",
         "3",
         "0",
         "0",
         "3",
         "2",
         "12",
         "-10",
         "0"
        ]
       ],
       "datasetInfos": [],
       "dbfsResultPath": null,
       "isJsonSchema": true,
       "metadata": {},
       "overflow": false,
       "plotOptions": {
        "customPlotOptions": {},
        "displayType": "table",
        "pivotAggregation": null,
        "pivotColumns": null,
        "xColumns": null,
        "yColumns": null
       },
       "removedWidgets": [],
       "schema": [
        {
         "metadata": "{}",
         "name": "Grp/Pos",
         "type": "\"string\""
        },
        {
         "metadata": "{}",
         "name": "Country",
         "type": "\"string\""
        },
        {
         "metadata": "{}",
         "name": "MP",
         "type": "\"string\""
        },
        {
         "metadata": "{}",
         "name": "W",
         "type": "\"string\""
        },
        {
         "metadata": "{}",
         "name": "D",
         "type": "\"string\""
        },
        {
         "metadata": "{}",
         "name": "L",
         "type": "\"string\""
        },
        {
         "metadata": "{}",
         "name": "GF",
         "type": "\"string\""
        },
        {
         "metadata": "{}",
         "name": "GA",
         "type": "\"string\""
        },
        {
         "metadata": "{}",
         "name": "GD",
         "type": "\"string\""
        },
        {
         "metadata": "{}",
         "name": "Pts",
         "type": "\"string\""
        }
       ],
       "type": "table"
      }
     },
     "output_type": "display_data"
    },
    {
     "output_type": "display_data",
     "data": {
      "text/html": [
       "<style scoped>\n",
       "  .table-result-container {\n",
       "    max-height: 300px;\n",
       "    overflow: auto;\n",
       "  }\n",
       "  table, th, td {\n",
       "    border: 1px solid black;\n",
       "    border-collapse: collapse;\n",
       "  }\n",
       "  th, td {\n",
       "    padding: 5px;\n",
       "  }\n",
       "  th {\n",
       "    text-align: left;\n",
       "  }\n",
       "</style><div class='table-result-container'><table class='table-result'><thead style='background-color: white'><tr><th>Grp/Pos</th><th>Country</th><th>MP</th><th>W</th><th>D</th><th>L</th><th>GF</th><th>GA</th><th>GD</th><th>Pts</th></tr></thead><tbody><tr><td>D1</td><td>France</td><td>3</td><td>3</td><td>0</td><td>0</td><td>9</td><td>5</td><td>4</td><td>9</td></tr><tr><td>D2</td><td>Poland</td><td>3</td><td>1</td><td>1</td><td>1</td><td>11</td><td>9</td><td>2</td><td>4</td></tr><tr><td>D3</td><td>Netherlands</td><td>3</td><td>1</td><td>0</td><td>2</td><td>3</td><td>7</td><td>-4</td><td>3</td></tr><tr><td>D4</td><td>Austria</td><td>3</td><td>0</td><td>1</td><td>2</td><td>8</td><td>10</td><td>-2</td><td>1</td></tr><tr><td>E1</td><td>Romania</td><td>3</td><td>1</td><td>2</td><td>0</td><td>8</td><td>4</td><td>4</td><td>5</td></tr><tr><td>E2</td><td>Slovakia</td><td>3</td><td>1</td><td>2</td><td>0</td><td>11</td><td>10</td><td>1</td><td>5</td></tr><tr><td>E3</td><td>Belgium</td><td>3</td><td>1</td><td>0</td><td>2</td><td>4</td><td>8</td><td>-4</td><td>3</td></tr><tr><td>E4</td><td>Ukraine</td><td>3</td><td>0</td><td>2</td><td>1</td><td>5</td><td>6</td><td>-1</td><td>2</td></tr><tr><td>F1</td><td>Turkey</td><td>3</td><td>3</td><td>0</td><td>0</td><td>10</td><td>3</td><td>7</td><td>9</td></tr><tr><td>F2</td><td>Greece</td><td>3</td><td>2</td><td>0</td><td>1</td><td>8</td><td>9</td><td>-1</td><td>6</td></tr><tr><td>F3</td><td>Portugal</td><td>3</td><td>1</td><td>0</td><td>2</td><td>3</td><td>4</td><td>-1</td><td>3</td></tr><tr><td>F4</td><td>Czech Republic</td><td>3</td><td>0</td><td>0</td><td>3</td><td>6</td><td>11</td><td>-5</td><td>0</td></tr></tbody></table></div>"
      ]
     },
     "metadata": {
      "application/vnd.databricks.v1+output": {
       "addedWidgets": {},
       "aggData": [],
       "aggError": "",
       "aggOverflow": false,
       "aggSchema": [],
       "aggSeriesLimitReached": false,
       "aggType": "",
       "arguments": {},
       "columnCustomDisplayInfos": {},
       "data": [
        [
         "D1",
         "France",
         "3",
         "3",
         "0",
         "0",
         "9",
         "5",
         "4",
         "9"
        ],
        [
         "D2",
         "Poland",
         "3",
         "1",
         "1",
         "1",
         "11",
         "9",
         "2",
         "4"
        ],
        [
         "D3",
         "Netherlands",
         "3",
         "1",
         "0",
         "2",
         "3",
         "7",
         "-4",
         "3"
        ],
        [
         "D4",
         "Austria",
         "3",
         "0",
         "1",
         "2",
         "8",
         "10",
         "-2",
         "1"
        ],
        [
         "E1",
         "Romania",
         "3",
         "1",
         "2",
         "0",
         "8",
         "4",
         "4",
         "5"
        ],
        [
         "E2",
         "Slovakia",
         "3",
         "1",
         "2",
         "0",
         "11",
         "10",
         "1",
         "5"
        ],
        [
         "E3",
         "Belgium",
         "3",
         "1",
         "0",
         "2",
         "4",
         "8",
         "-4",
         "3"
        ],
        [
         "E4",
         "Ukraine",
         "3",
         "0",
         "2",
         "1",
         "5",
         "6",
         "-1",
         "2"
        ],
        [
         "F1",
         "Turkey",
         "3",
         "3",
         "0",
         "0",
         "10",
         "3",
         "7",
         "9"
        ],
        [
         "F2",
         "Greece",
         "3",
         "2",
         "0",
         "1",
         "8",
         "9",
         "-1",
         "6"
        ],
        [
         "F3",
         "Portugal",
         "3",
         "1",
         "0",
         "2",
         "3",
         "4",
         "-1",
         "3"
        ],
        [
         "F4",
         "Czech Republic",
         "3",
         "0",
         "0",
         "3",
         "6",
         "11",
         "-5",
         "0"
        ]
       ],
       "datasetInfos": [],
       "dbfsResultPath": null,
       "isJsonSchema": true,
       "metadata": {},
       "overflow": false,
       "plotOptions": {
        "customPlotOptions": {},
        "displayType": "table",
        "pivotAggregation": null,
        "pivotColumns": null,
        "xColumns": null,
        "yColumns": null
       },
       "removedWidgets": [],
       "schema": [
        {
         "metadata": "{}",
         "name": "Grp/Pos",
         "type": "\"string\""
        },
        {
         "metadata": "{}",
         "name": "Country",
         "type": "\"string\""
        },
        {
         "metadata": "{}",
         "name": "MP",
         "type": "\"string\""
        },
        {
         "metadata": "{}",
         "name": "W",
         "type": "\"string\""
        },
        {
         "metadata": "{}",
         "name": "D",
         "type": "\"string\""
        },
        {
         "metadata": "{}",
         "name": "L",
         "type": "\"string\""
        },
        {
         "metadata": "{}",
         "name": "GF",
         "type": "\"string\""
        },
        {
         "metadata": "{}",
         "name": "GA",
         "type": "\"string\""
        },
        {
         "metadata": "{}",
         "name": "GD",
         "type": "\"string\""
        },
        {
         "metadata": "{}",
         "name": "Pts",
         "type": "\"string\""
        }
       ],
       "type": "table"
      }
     },
     "output_type": "display_data"
    }
   ],
   "source": [
    "#splitting into left and right for visulaization\n",
    "left_gs = euro_vis[euro_vis['Grp/Pos'].str.contains('^[ABC]')]\n",
    "\n",
    "right_gs = euro_vis[euro_vis['Grp/Pos'].str.contains('^[DEF]')]\n",
    "\n",
    "#reseting index for both df\n",
    "left_gs.reset_index(drop=True, inplace=True)\n",
    "right_gs.reset_index(drop=True, inplace=True)\n",
    "\n",
    "display(left_gs)\n",
    "display(right_gs)"
   ]
  },
  {
   "cell_type": "code",
   "execution_count": 0,
   "metadata": {
    "application/vnd.databricks.v1+cell": {
     "cellMetadata": {
      "byteLimit": 2048000,
      "rowLimit": 10000
     },
     "inputWidgets": {},
     "nuid": "5ddefab1-1a77-42fd-809a-f98895ed5d67",
     "showTitle": false,
     "title": ""
    }
   },
   "outputs": [
    {
     "output_type": "display_data",
     "data": {
      "text/html": [
       "<style scoped>\n",
       "  .table-result-container {\n",
       "    max-height: 300px;\n",
       "    overflow: auto;\n",
       "  }\n",
       "  table, th, td {\n",
       "    border: 1px solid black;\n",
       "    border-collapse: collapse;\n",
       "  }\n",
       "  th, td {\n",
       "    padding: 5px;\n",
       "  }\n",
       "  th {\n",
       "    text-align: left;\n",
       "  }\n",
       "</style><div class='table-result-container'><table class='table-result'><thead style='background-color: white'><tr><th>L_Grp/Pos</th><th>L_Country</th><th>L_MP</th><th>L_W</th><th>L-D</th><th>L_L</th><th>L-GF</th><th>L_GA</th><th>L_GD</th><th>L_Pts</th></tr></thead><tbody><tr><td>A1</td><td>Switzerland</td><td>3</td><td>2</td><td>1</td><td>0</td><td>12</td><td>8</td><td>4</td><td>7</td></tr><tr><td>A2</td><td>Germany</td><td>3</td><td>1</td><td>1</td><td>1</td><td>11</td><td>9</td><td>2</td><td>4</td></tr><tr><td>A3</td><td>Scotland</td><td>3</td><td>1</td><td>1</td><td>1</td><td>4</td><td>5</td><td>-1</td><td>4</td></tr><tr><td>A4</td><td>Hungary</td><td>3</td><td>0</td><td>1</td><td>2</td><td>7</td><td>12</td><td>-5</td><td>1</td></tr><tr><td></td><td></td><td></td><td></td><td></td><td></td><td></td><td></td><td></td><td></td></tr><tr><td></td><td></td><td></td><td></td><td></td><td></td><td></td><td></td><td></td><td></td></tr><tr><td>B1</td><td>Italy</td><td>3</td><td>2</td><td>0</td><td>1</td><td>8</td><td>7</td><td>1</td><td>6</td></tr><tr><td>B2</td><td>Spain</td><td>3</td><td>1</td><td>2</td><td>0</td><td>11</td><td>7</td><td>4</td><td>5</td></tr><tr><td>B3</td><td>Croatia</td><td>3</td><td>0</td><td>2</td><td>1</td><td>5</td><td>7</td><td>-2</td><td>2</td></tr><tr><td>B4</td><td>Albania</td><td>3</td><td>0</td><td>2</td><td>1</td><td>5</td><td>8</td><td>-3</td><td>2</td></tr><tr><td></td><td></td><td></td><td></td><td></td><td></td><td></td><td></td><td></td><td></td></tr><tr><td></td><td></td><td></td><td></td><td></td><td></td><td></td><td></td><td></td><td></td></tr><tr><td>C1</td><td>Denmark</td><td>3</td><td>3</td><td>0</td><td>0</td><td>7</td><td>3</td><td>4</td><td>9</td></tr><tr><td>C2</td><td>Serbia</td><td>3</td><td>2</td><td>0</td><td>1</td><td>7</td><td>2</td><td>5</td><td>6</td></tr><tr><td>C3</td><td>Slovenia</td><td>3</td><td>1</td><td>0</td><td>2</td><td>9</td><td>8</td><td>1</td><td>3</td></tr><tr><td>C4</td><td>England</td><td>3</td><td>0</td><td>0</td><td>3</td><td>2</td><td>12</td><td>-10</td><td>0</td></tr></tbody></table></div>"
      ]
     },
     "metadata": {
      "application/vnd.databricks.v1+output": {
       "addedWidgets": {},
       "aggData": [],
       "aggError": "",
       "aggOverflow": false,
       "aggSchema": [],
       "aggSeriesLimitReached": false,
       "aggType": "",
       "arguments": {},
       "columnCustomDisplayInfos": {},
       "data": [
        [
         "A1",
         "Switzerland",
         "3",
         "2",
         "1",
         "0",
         "12",
         "8",
         "4",
         "7"
        ],
        [
         "A2",
         "Germany",
         "3",
         "1",
         "1",
         "1",
         "11",
         "9",
         "2",
         "4"
        ],
        [
         "A3",
         "Scotland",
         "3",
         "1",
         "1",
         "1",
         "4",
         "5",
         "-1",
         "4"
        ],
        [
         "A4",
         "Hungary",
         "3",
         "0",
         "1",
         "2",
         "7",
         "12",
         "-5",
         "1"
        ],
        [
         "",
         "",
         "",
         "",
         "",
         "",
         "",
         "",
         "",
         ""
        ],
        [
         "",
         "",
         "",
         "",
         "",
         "",
         "",
         "",
         "",
         ""
        ],
        [
         "B1",
         "Italy",
         "3",
         "2",
         "0",
         "1",
         "8",
         "7",
         "1",
         "6"
        ],
        [
         "B2",
         "Spain",
         "3",
         "1",
         "2",
         "0",
         "11",
         "7",
         "4",
         "5"
        ],
        [
         "B3",
         "Croatia",
         "3",
         "0",
         "2",
         "1",
         "5",
         "7",
         "-2",
         "2"
        ],
        [
         "B4",
         "Albania",
         "3",
         "0",
         "2",
         "1",
         "5",
         "8",
         "-3",
         "2"
        ],
        [
         "",
         "",
         "",
         "",
         "",
         "",
         "",
         "",
         "",
         ""
        ],
        [
         "",
         "",
         "",
         "",
         "",
         "",
         "",
         "",
         "",
         ""
        ],
        [
         "C1",
         "Denmark",
         "3",
         "3",
         "0",
         "0",
         "7",
         "3",
         "4",
         "9"
        ],
        [
         "C2",
         "Serbia",
         "3",
         "2",
         "0",
         "1",
         "7",
         "2",
         "5",
         "6"
        ],
        [
         "C3",
         "Slovenia",
         "3",
         "1",
         "0",
         "2",
         "9",
         "8",
         "1",
         "3"
        ],
        [
         "C4",
         "England",
         "3",
         "0",
         "0",
         "3",
         "2",
         "12",
         "-10",
         "0"
        ]
       ],
       "datasetInfos": [],
       "dbfsResultPath": null,
       "isJsonSchema": true,
       "metadata": {},
       "overflow": false,
       "plotOptions": {
        "customPlotOptions": {},
        "displayType": "table",
        "pivotAggregation": null,
        "pivotColumns": null,
        "xColumns": null,
        "yColumns": null
       },
       "removedWidgets": [],
       "schema": [
        {
         "metadata": "{}",
         "name": "L_Grp/Pos",
         "type": "\"string\""
        },
        {
         "metadata": "{}",
         "name": "L_Country",
         "type": "\"string\""
        },
        {
         "metadata": "{}",
         "name": "L_MP",
         "type": "\"string\""
        },
        {
         "metadata": "{}",
         "name": "L_W",
         "type": "\"string\""
        },
        {
         "metadata": "{}",
         "name": "L-D",
         "type": "\"string\""
        },
        {
         "metadata": "{}",
         "name": "L_L",
         "type": "\"string\""
        },
        {
         "metadata": "{}",
         "name": "L-GF",
         "type": "\"string\""
        },
        {
         "metadata": "{}",
         "name": "L_GA",
         "type": "\"string\""
        },
        {
         "metadata": "{}",
         "name": "L_GD",
         "type": "\"string\""
        },
        {
         "metadata": "{}",
         "name": "L_Pts",
         "type": "\"string\""
        }
       ],
       "type": "table"
      }
     },
     "output_type": "display_data"
    }
   ],
   "source": [
    "#list of groupstage according to groupname\n",
    "left_gs_grouped = [left_gs.iloc[i:i+4] for i in range(0, len(left_gs), 4)]\n",
    "\n",
    "#iterating over above list and adding empty row except for last one\n",
    "for i in range(len(left_gs_grouped)):\n",
    "    if i < len(left_gs_grouped) - 1:\n",
    "        left_gs_grouped[i] = pd.concat([left_gs_grouped[i], mtgs_row_pd,mtgs_row_pd], ignore_index=True)\n",
    "\n",
    "#joining them back after adding empty rows\n",
    "left_gs_spaced = pd.concat(left_gs_grouped).reset_index(drop=True)\n",
    "\n",
    "lgs_new_column_name ={'Grp/Pos': 'L_Grp/Pos',\n",
    "                       'Country': 'L_Country',\n",
    "                       'MP': 'L_MP',\n",
    "                       'W': 'L_W',\n",
    "                       'D': 'L-D',\n",
    "                       'L': 'L_L',\n",
    "                       'GF': 'L-GF',\n",
    "                       'GA': 'L_GA',\n",
    "                       'GD': 'L_GD',\n",
    "                       'Pts': 'L_Pts'\n",
    "                       }\n",
    "left_gs_spaced = left_gs_spaced.rename(columns=lgs_new_column_name)\n",
    "\n",
    "display(left_gs_spaced)"
   ]
  },
  {
   "cell_type": "code",
   "execution_count": 0,
   "metadata": {
    "application/vnd.databricks.v1+cell": {
     "cellMetadata": {
      "byteLimit": 2048000,
      "rowLimit": 10000
     },
     "inputWidgets": {},
     "nuid": "6374dc61-5980-4eec-9aad-825aef449ad9",
     "showTitle": false,
     "title": ""
    }
   },
   "outputs": [
    {
     "output_type": "display_data",
     "data": {
      "text/html": [
       "<style scoped>\n",
       "  .table-result-container {\n",
       "    max-height: 300px;\n",
       "    overflow: auto;\n",
       "  }\n",
       "  table, th, td {\n",
       "    border: 1px solid black;\n",
       "    border-collapse: collapse;\n",
       "  }\n",
       "  th, td {\n",
       "    padding: 5px;\n",
       "  }\n",
       "  th {\n",
       "    text-align: left;\n",
       "  }\n",
       "</style><div class='table-result-container'><table class='table-result'><thead style='background-color: white'><tr><th>R_Grp/Pos</th><th>R_Country</th><th>R_MP</th><th>R_W</th><th>R-D</th><th>R_L</th><th>R-GF</th><th>R_GA</th><th>R_GD</th><th>R_Pts</th></tr></thead><tbody><tr><td>D1</td><td>France</td><td>3</td><td>3</td><td>0</td><td>0</td><td>9</td><td>5</td><td>4</td><td>9</td></tr><tr><td>D2</td><td>Poland</td><td>3</td><td>1</td><td>1</td><td>1</td><td>11</td><td>9</td><td>2</td><td>4</td></tr><tr><td>D3</td><td>Netherlands</td><td>3</td><td>1</td><td>0</td><td>2</td><td>3</td><td>7</td><td>-4</td><td>3</td></tr><tr><td>D4</td><td>Austria</td><td>3</td><td>0</td><td>1</td><td>2</td><td>8</td><td>10</td><td>-2</td><td>1</td></tr><tr><td></td><td></td><td></td><td></td><td></td><td></td><td></td><td></td><td></td><td></td></tr><tr><td></td><td></td><td></td><td></td><td></td><td></td><td></td><td></td><td></td><td></td></tr><tr><td>E1</td><td>Romania</td><td>3</td><td>1</td><td>2</td><td>0</td><td>8</td><td>4</td><td>4</td><td>5</td></tr><tr><td>E2</td><td>Slovakia</td><td>3</td><td>1</td><td>2</td><td>0</td><td>11</td><td>10</td><td>1</td><td>5</td></tr><tr><td>E3</td><td>Belgium</td><td>3</td><td>1</td><td>0</td><td>2</td><td>4</td><td>8</td><td>-4</td><td>3</td></tr><tr><td>E4</td><td>Ukraine</td><td>3</td><td>0</td><td>2</td><td>1</td><td>5</td><td>6</td><td>-1</td><td>2</td></tr><tr><td></td><td></td><td></td><td></td><td></td><td></td><td></td><td></td><td></td><td></td></tr><tr><td></td><td></td><td></td><td></td><td></td><td></td><td></td><td></td><td></td><td></td></tr><tr><td>F1</td><td>Turkey</td><td>3</td><td>3</td><td>0</td><td>0</td><td>10</td><td>3</td><td>7</td><td>9</td></tr><tr><td>F2</td><td>Greece</td><td>3</td><td>2</td><td>0</td><td>1</td><td>8</td><td>9</td><td>-1</td><td>6</td></tr><tr><td>F3</td><td>Portugal</td><td>3</td><td>1</td><td>0</td><td>2</td><td>3</td><td>4</td><td>-1</td><td>3</td></tr><tr><td>F4</td><td>Czech Republic</td><td>3</td><td>0</td><td>0</td><td>3</td><td>6</td><td>11</td><td>-5</td><td>0</td></tr></tbody></table></div>"
      ]
     },
     "metadata": {
      "application/vnd.databricks.v1+output": {
       "addedWidgets": {},
       "aggData": [],
       "aggError": "",
       "aggOverflow": false,
       "aggSchema": [],
       "aggSeriesLimitReached": false,
       "aggType": "",
       "arguments": {},
       "columnCustomDisplayInfos": {},
       "data": [
        [
         "D1",
         "France",
         "3",
         "3",
         "0",
         "0",
         "9",
         "5",
         "4",
         "9"
        ],
        [
         "D2",
         "Poland",
         "3",
         "1",
         "1",
         "1",
         "11",
         "9",
         "2",
         "4"
        ],
        [
         "D3",
         "Netherlands",
         "3",
         "1",
         "0",
         "2",
         "3",
         "7",
         "-4",
         "3"
        ],
        [
         "D4",
         "Austria",
         "3",
         "0",
         "1",
         "2",
         "8",
         "10",
         "-2",
         "1"
        ],
        [
         "",
         "",
         "",
         "",
         "",
         "",
         "",
         "",
         "",
         ""
        ],
        [
         "",
         "",
         "",
         "",
         "",
         "",
         "",
         "",
         "",
         ""
        ],
        [
         "E1",
         "Romania",
         "3",
         "1",
         "2",
         "0",
         "8",
         "4",
         "4",
         "5"
        ],
        [
         "E2",
         "Slovakia",
         "3",
         "1",
         "2",
         "0",
         "11",
         "10",
         "1",
         "5"
        ],
        [
         "E3",
         "Belgium",
         "3",
         "1",
         "0",
         "2",
         "4",
         "8",
         "-4",
         "3"
        ],
        [
         "E4",
         "Ukraine",
         "3",
         "0",
         "2",
         "1",
         "5",
         "6",
         "-1",
         "2"
        ],
        [
         "",
         "",
         "",
         "",
         "",
         "",
         "",
         "",
         "",
         ""
        ],
        [
         "",
         "",
         "",
         "",
         "",
         "",
         "",
         "",
         "",
         ""
        ],
        [
         "F1",
         "Turkey",
         "3",
         "3",
         "0",
         "0",
         "10",
         "3",
         "7",
         "9"
        ],
        [
         "F2",
         "Greece",
         "3",
         "2",
         "0",
         "1",
         "8",
         "9",
         "-1",
         "6"
        ],
        [
         "F3",
         "Portugal",
         "3",
         "1",
         "0",
         "2",
         "3",
         "4",
         "-1",
         "3"
        ],
        [
         "F4",
         "Czech Republic",
         "3",
         "0",
         "0",
         "3",
         "6",
         "11",
         "-5",
         "0"
        ]
       ],
       "datasetInfos": [],
       "dbfsResultPath": null,
       "isJsonSchema": true,
       "metadata": {},
       "overflow": false,
       "plotOptions": {
        "customPlotOptions": {},
        "displayType": "table",
        "pivotAggregation": null,
        "pivotColumns": null,
        "xColumns": null,
        "yColumns": null
       },
       "removedWidgets": [],
       "schema": [
        {
         "metadata": "{}",
         "name": "R_Grp/Pos",
         "type": "\"string\""
        },
        {
         "metadata": "{}",
         "name": "R_Country",
         "type": "\"string\""
        },
        {
         "metadata": "{}",
         "name": "R_MP",
         "type": "\"string\""
        },
        {
         "metadata": "{}",
         "name": "R_W",
         "type": "\"string\""
        },
        {
         "metadata": "{}",
         "name": "R-D",
         "type": "\"string\""
        },
        {
         "metadata": "{}",
         "name": "R_L",
         "type": "\"string\""
        },
        {
         "metadata": "{}",
         "name": "R-GF",
         "type": "\"string\""
        },
        {
         "metadata": "{}",
         "name": "R_GA",
         "type": "\"string\""
        },
        {
         "metadata": "{}",
         "name": "R_GD",
         "type": "\"string\""
        },
        {
         "metadata": "{}",
         "name": "R_Pts",
         "type": "\"string\""
        }
       ],
       "type": "table"
      }
     },
     "output_type": "display_data"
    }
   ],
   "source": [
    "#list of groupstage according to groupname\n",
    "right_gs_grouped = [right_gs.iloc[i:i+4] for i in range(0, len(right_gs), 4)]\n",
    "\n",
    "#iterating over above list and adding empty row except for last one\n",
    "for i in range(len(right_gs_grouped)):\n",
    "    if i < len(right_gs_grouped) - 1:\n",
    "        right_gs_grouped[i] = pd.concat([right_gs_grouped[i], mtgs_row_pd,mtgs_row_pd], ignore_index=True)\n",
    "\n",
    "#joining them back after adding empty rows\n",
    "right_gs_spaced = pd.concat(right_gs_grouped).reset_index(drop=True)\n",
    "\n",
    "rgs_new_column_name ={'Grp/Pos': 'R_Grp/Pos',\n",
    "                       'Country': 'R_Country',\n",
    "                       'MP': 'R_MP',\n",
    "                       'W': 'R_W',\n",
    "                       'D': 'R-D',\n",
    "                       'L': 'R_L',\n",
    "                       'GF': 'R-GF',\n",
    "                       'GA': 'R_GA',\n",
    "                       'GD': 'R_GD',\n",
    "                       'Pts': 'R_Pts'\n",
    "                       }\n",
    "right_gs_spaced = right_gs_spaced.rename(columns=rgs_new_column_name)\n",
    "\n",
    "display(right_gs_spaced)"
   ]
  },
  {
   "cell_type": "code",
   "execution_count": 0,
   "metadata": {
    "application/vnd.databricks.v1+cell": {
     "cellMetadata": {
      "byteLimit": 2048000,
      "rowLimit": 10000
     },
     "inputWidgets": {},
     "nuid": "e242ec7e-5c90-440b-b7ad-0a5b840fc4cb",
     "showTitle": false,
     "title": ""
    }
   },
   "outputs": [
    {
     "output_type": "display_data",
     "data": {
      "text/html": [
       "<style scoped>\n",
       "  .table-result-container {\n",
       "    max-height: 300px;\n",
       "    overflow: auto;\n",
       "  }\n",
       "  table, th, td {\n",
       "    border: 1px solid black;\n",
       "    border-collapse: collapse;\n",
       "  }\n",
       "  th, td {\n",
       "    padding: 5px;\n",
       "  }\n",
       "  th {\n",
       "    text-align: left;\n",
       "  }\n",
       "</style><div class='table-result-container'><table class='table-result'><thead style='background-color: white'><tr><th>MatchID</th><th>Team1</th><th>Team1Goals</th><th>Team2Goals</th><th>Team2</th><th>MatchWinner</th><th>MatchStage</th></tr></thead><tbody><tr><td>1</td><td>Italy</td><td>0</td><td>2</td><td>Belgium</td><td>Belgium</td><td>R16</td></tr><tr><td>2</td><td>Switzerland</td><td>5</td><td>3</td><td>Serbia</td><td>Switzerland</td><td>R16</td></tr><tr><td>3</td><td>Turkey</td><td>5</td><td>2</td><td>Scotland</td><td>Turkey</td><td>R16</td></tr><tr><td>4</td><td>Poland</td><td>2</td><td>2</td><td>Slovakia</td><td>Poland</td><td>R16</td></tr><tr><td>5</td><td>Romania</td><td>0</td><td>5</td><td>Slovenia</td><td>Slovenia</td><td>R16</td></tr><tr><td>6</td><td>France</td><td>5</td><td>1</td><td>Greece</td><td>France</td><td>R16</td></tr><tr><td>7</td><td>Denmark</td><td>4</td><td>4</td><td>Portugal</td><td>Denmark</td><td>R16</td></tr><tr><td>8</td><td>Germany</td><td>1</td><td>3</td><td>Spain</td><td>Spain</td><td>R16</td></tr></tbody></table></div>"
      ]
     },
     "metadata": {
      "application/vnd.databricks.v1+output": {
       "addedWidgets": {},
       "aggData": [],
       "aggError": "",
       "aggOverflow": false,
       "aggSchema": [],
       "aggSeriesLimitReached": false,
       "aggType": "",
       "arguments": {},
       "columnCustomDisplayInfos": {},
       "data": [
        [
         "1",
         "Italy",
         "0",
         "2",
         "Belgium",
         "Belgium",
         "R16"
        ],
        [
         "2",
         "Switzerland",
         "5",
         "3",
         "Serbia",
         "Switzerland",
         "R16"
        ],
        [
         "3",
         "Turkey",
         "5",
         "2",
         "Scotland",
         "Turkey",
         "R16"
        ],
        [
         "4",
         "Poland",
         "2",
         "2",
         "Slovakia",
         "Poland",
         "R16"
        ],
        [
         "5",
         "Romania",
         "0",
         "5",
         "Slovenia",
         "Slovenia",
         "R16"
        ],
        [
         "6",
         "France",
         "5",
         "1",
         "Greece",
         "France",
         "R16"
        ],
        [
         "7",
         "Denmark",
         "4",
         "4",
         "Portugal",
         "Denmark",
         "R16"
        ],
        [
         "8",
         "Germany",
         "1",
         "3",
         "Spain",
         "Spain",
         "R16"
        ]
       ],
       "datasetInfos": [],
       "dbfsResultPath": null,
       "isJsonSchema": true,
       "metadata": {},
       "overflow": false,
       "plotOptions": {
        "customPlotOptions": {},
        "displayType": "table",
        "pivotAggregation": null,
        "pivotColumns": null,
        "xColumns": null,
        "yColumns": null
       },
       "removedWidgets": [],
       "schema": [
        {
         "metadata": "{}",
         "name": "MatchID",
         "type": "\"string\""
        },
        {
         "metadata": "{}",
         "name": "Team1",
         "type": "\"string\""
        },
        {
         "metadata": "{}",
         "name": "Team1Goals",
         "type": "\"string\""
        },
        {
         "metadata": "{}",
         "name": "Team2Goals",
         "type": "\"string\""
        },
        {
         "metadata": "{}",
         "name": "Team2",
         "type": "\"string\""
        },
        {
         "metadata": "{}",
         "name": "MatchWinner",
         "type": "\"string\""
        },
        {
         "metadata": "{}",
         "name": "MatchStage",
         "type": "\"string\""
        }
       ],
       "type": "table"
      }
     },
     "output_type": "display_data"
    }
   ],
   "source": [
    "#getting data from sql table and into pandas dataframe\n",
    "round_16 = spark.sql(\"SELECT * FROM QualificationPlacement WHERE MatchStage = 'R16'\")\n",
    "round_16_pd = round_16.toPandas()\n",
    "\n",
    "#converting to string and removing .0 from floats occuring after conversion\n",
    "round_16_pd = round_16_pd.applymap(lambda x: str(x).split(\".\")[0])\n",
    "\n",
    "display(round_16_pd)"
   ]
  },
  {
   "cell_type": "code",
   "execution_count": 0,
   "metadata": {
    "application/vnd.databricks.v1+cell": {
     "cellMetadata": {
      "byteLimit": 2048000,
      "rowLimit": 10000
     },
     "inputWidgets": {},
     "nuid": "a06a3941-8763-4b86-b08c-d49e6eae78d1",
     "showTitle": false,
     "title": ""
    }
   },
   "outputs": [
    {
     "output_type": "display_data",
     "data": {
      "text/html": [
       "<style scoped>\n",
       "  .table-result-container {\n",
       "    max-height: 300px;\n",
       "    overflow: auto;\n",
       "  }\n",
       "  table, th, td {\n",
       "    border: 1px solid black;\n",
       "    border-collapse: collapse;\n",
       "  }\n",
       "  th, td {\n",
       "    padding: 5px;\n",
       "  }\n",
       "  th {\n",
       "    text-align: left;\n",
       "  }\n",
       "</style><div class='table-result-container'><table class='table-result'><thead style='background-color: white'><tr><th>R16_Teams</th><th>R16_Score</th></tr></thead><tbody><tr><td>Italy</td><td>0</td></tr><tr><td>Belgium</td><td>2</td></tr><tr><td>Switzerland</td><td>5</td></tr><tr><td>Serbia</td><td>3</td></tr><tr><td>Turkey</td><td>5</td></tr><tr><td>Scotland</td><td>2</td></tr><tr><td>Poland</td><td>2</td></tr><tr><td>Slovakia</td><td>2</td></tr><tr><td>Romania</td><td>0</td></tr><tr><td>Slovenia</td><td>5</td></tr><tr><td>France</td><td>5</td></tr><tr><td>Greece</td><td>1</td></tr><tr><td>Denmark</td><td>4</td></tr><tr><td>Portugal</td><td>4</td></tr><tr><td>Germany</td><td>1</td></tr><tr><td>Spain</td><td>3</td></tr></tbody></table></div>"
      ]
     },
     "metadata": {
      "application/vnd.databricks.v1+output": {
       "addedWidgets": {},
       "aggData": [],
       "aggError": "",
       "aggOverflow": false,
       "aggSchema": [],
       "aggSeriesLimitReached": false,
       "aggType": "",
       "arguments": {},
       "columnCustomDisplayInfos": {},
       "data": [
        [
         "Italy",
         "0"
        ],
        [
         "Belgium",
         "2"
        ],
        [
         "Switzerland",
         "5"
        ],
        [
         "Serbia",
         "3"
        ],
        [
         "Turkey",
         "5"
        ],
        [
         "Scotland",
         "2"
        ],
        [
         "Poland",
         "2"
        ],
        [
         "Slovakia",
         "2"
        ],
        [
         "Romania",
         "0"
        ],
        [
         "Slovenia",
         "5"
        ],
        [
         "France",
         "5"
        ],
        [
         "Greece",
         "1"
        ],
        [
         "Denmark",
         "4"
        ],
        [
         "Portugal",
         "4"
        ],
        [
         "Germany",
         "1"
        ],
        [
         "Spain",
         "3"
        ]
       ],
       "datasetInfos": [],
       "dbfsResultPath": null,
       "isJsonSchema": true,
       "metadata": {},
       "overflow": false,
       "plotOptions": {
        "customPlotOptions": {},
        "displayType": "table",
        "pivotAggregation": null,
        "pivotColumns": null,
        "xColumns": null,
        "yColumns": null
       },
       "removedWidgets": [],
       "schema": [
        {
         "metadata": "{}",
         "name": "R16_Teams",
         "type": "\"string\""
        },
        {
         "metadata": "{}",
         "name": "R16_Score",
         "type": "\"string\""
        }
       ],
       "type": "table"
      }
     },
     "output_type": "display_data"
    }
   ],
   "source": [
    "#storing required data in df\n",
    "euro_r16_vis = pd.DataFrame(columns=['R16_Teams', 'R16_Score'])\n",
    "\n",
    "#displaying all teams and respective scores in columns\n",
    "for index, row in round_16_pd.iterrows():\n",
    "    team1 = row['Team1']\n",
    "    team1goals = row['Team1Goals']\n",
    "    team2 = row['Team2']\n",
    "    team2goals = row['Team2Goals']\n",
    "    euro_r16_vis = pd.concat([euro_r16_vis, pd.DataFrame({'R16_Score': [team1goals], 'R16_Teams': [team1]})], ignore_index=True)\n",
    "    euro_r16_vis = pd.concat([euro_r16_vis, pd.DataFrame({'R16_Score': [team2goals], 'R16_Teams': [team2]})], ignore_index=True)\n",
    "\n",
    "display(euro_r16_vis)\n"
   ]
  },
  {
   "cell_type": "code",
   "execution_count": 0,
   "metadata": {
    "application/vnd.databricks.v1+cell": {
     "cellMetadata": {
      "byteLimit": 2048000,
      "rowLimit": 10000
     },
     "inputWidgets": {},
     "nuid": "7840731a-eecd-4657-b94d-dae74691a2bb",
     "showTitle": false,
     "title": ""
    }
   },
   "outputs": [
    {
     "output_type": "display_data",
     "data": {
      "text/html": [
       "<style scoped>\n",
       "  .table-result-container {\n",
       "    max-height: 300px;\n",
       "    overflow: auto;\n",
       "  }\n",
       "  table, th, td {\n",
       "    border: 1px solid black;\n",
       "    border-collapse: collapse;\n",
       "  }\n",
       "  th, td {\n",
       "    padding: 5px;\n",
       "  }\n",
       "  th {\n",
       "    text-align: left;\n",
       "  }\n",
       "</style><div class='table-result-container'><table class='table-result'><thead style='background-color: white'><tr><th>R16_Teams</th><th>R16_Score</th></tr></thead><tbody><tr><td>Italy</td><td>0</td></tr><tr><td>Belgium</td><td>2</td></tr><tr><td>Switzerland</td><td>5</td></tr><tr><td>Serbia</td><td>3</td></tr><tr><td>Turkey</td><td>5</td></tr><tr><td>Scotland</td><td>2</td></tr><tr><td>Poland</td><td>2</td></tr><tr><td>Slovakia</td><td>2</td></tr></tbody></table></div>"
      ]
     },
     "metadata": {
      "application/vnd.databricks.v1+output": {
       "addedWidgets": {},
       "aggData": [],
       "aggError": "",
       "aggOverflow": false,
       "aggSchema": [],
       "aggSeriesLimitReached": false,
       "aggType": "",
       "arguments": {},
       "columnCustomDisplayInfos": {},
       "data": [
        [
         "Italy",
         "0"
        ],
        [
         "Belgium",
         "2"
        ],
        [
         "Switzerland",
         "5"
        ],
        [
         "Serbia",
         "3"
        ],
        [
         "Turkey",
         "5"
        ],
        [
         "Scotland",
         "2"
        ],
        [
         "Poland",
         "2"
        ],
        [
         "Slovakia",
         "2"
        ]
       ],
       "datasetInfos": [],
       "dbfsResultPath": null,
       "isJsonSchema": true,
       "metadata": {},
       "overflow": false,
       "plotOptions": {
        "customPlotOptions": {},
        "displayType": "table",
        "pivotAggregation": null,
        "pivotColumns": null,
        "xColumns": null,
        "yColumns": null
       },
       "removedWidgets": [],
       "schema": [
        {
         "metadata": "{}",
         "name": "R16_Teams",
         "type": "\"string\""
        },
        {
         "metadata": "{}",
         "name": "R16_Score",
         "type": "\"string\""
        }
       ],
       "type": "table"
      }
     },
     "output_type": "display_data"
    },
    {
     "output_type": "display_data",
     "data": {
      "text/html": [
       "<style scoped>\n",
       "  .table-result-container {\n",
       "    max-height: 300px;\n",
       "    overflow: auto;\n",
       "  }\n",
       "  table, th, td {\n",
       "    border: 1px solid black;\n",
       "    border-collapse: collapse;\n",
       "  }\n",
       "  th, td {\n",
       "    padding: 5px;\n",
       "  }\n",
       "  th {\n",
       "    text-align: left;\n",
       "  }\n",
       "</style><div class='table-result-container'><table class='table-result'><thead style='background-color: white'><tr><th>R16_Teams</th><th>R16_Score</th></tr></thead><tbody><tr><td>Romania</td><td>0</td></tr><tr><td>Slovenia</td><td>5</td></tr><tr><td>France</td><td>5</td></tr><tr><td>Greece</td><td>1</td></tr><tr><td>Denmark</td><td>4</td></tr><tr><td>Portugal</td><td>4</td></tr><tr><td>Germany</td><td>1</td></tr><tr><td>Spain</td><td>3</td></tr></tbody></table></div>"
      ]
     },
     "metadata": {
      "application/vnd.databricks.v1+output": {
       "addedWidgets": {},
       "aggData": [],
       "aggError": "",
       "aggOverflow": false,
       "aggSchema": [],
       "aggSeriesLimitReached": false,
       "aggType": "",
       "arguments": {},
       "columnCustomDisplayInfos": {},
       "data": [
        [
         "Romania",
         "0"
        ],
        [
         "Slovenia",
         "5"
        ],
        [
         "France",
         "5"
        ],
        [
         "Greece",
         "1"
        ],
        [
         "Denmark",
         "4"
        ],
        [
         "Portugal",
         "4"
        ],
        [
         "Germany",
         "1"
        ],
        [
         "Spain",
         "3"
        ]
       ],
       "datasetInfos": [],
       "dbfsResultPath": null,
       "isJsonSchema": true,
       "metadata": {},
       "overflow": false,
       "plotOptions": {
        "customPlotOptions": {},
        "displayType": "table",
        "pivotAggregation": null,
        "pivotColumns": null,
        "xColumns": null,
        "yColumns": null
       },
       "removedWidgets": [],
       "schema": [
        {
         "metadata": "{}",
         "name": "R16_Teams",
         "type": "\"string\""
        },
        {
         "metadata": "{}",
         "name": "R16_Score",
         "type": "\"string\""
        }
       ],
       "type": "table"
      }
     },
     "output_type": "display_data"
    }
   ],
   "source": [
    "# calculating midpoint of the dataFrame\n",
    "midpoint_index1 = len(euro_r16_vis) // 2\n",
    "\n",
    "# splitting dataFrame into two equal halves\n",
    "left_r16 = euro_r16_vis.iloc[:midpoint_index1]\n",
    "right_r16 = euro_r16_vis.iloc[midpoint_index1:]\n",
    "\n",
    "# index reset\n",
    "left_r16.reset_index(drop=True, inplace=True)\n",
    "right_r16.reset_index(drop=True, inplace=True)\n",
    "\n",
    "# displaying the split DataFrames\n",
    "display(left_r16)\n",
    "display(right_r16)"
   ]
  },
  {
   "cell_type": "code",
   "execution_count": 0,
   "metadata": {
    "application/vnd.databricks.v1+cell": {
     "cellMetadata": {
      "byteLimit": 2048000,
      "rowLimit": 10000
     },
     "inputWidgets": {},
     "nuid": "b2d177f0-83c4-425e-828f-8e4a1bdc0c48",
     "showTitle": false,
     "title": ""
    }
   },
   "outputs": [],
   "source": [
    "#empty row for round of 16\n",
    "r16_row_pd = pd.DataFrame({col: [''] for col in euro_r16_vis.columns})"
   ]
  },
  {
   "cell_type": "code",
   "execution_count": 0,
   "metadata": {
    "application/vnd.databricks.v1+cell": {
     "cellMetadata": {
      "byteLimit": 2048000,
      "rowLimit": 10000
     },
     "inputWidgets": {},
     "nuid": "71624a9e-0a8c-4ed8-815d-b162d5e96d07",
     "showTitle": false,
     "title": ""
    }
   },
   "outputs": [
    {
     "output_type": "display_data",
     "data": {
      "text/html": [
       "<style scoped>\n",
       "  .table-result-container {\n",
       "    max-height: 300px;\n",
       "    overflow: auto;\n",
       "  }\n",
       "  table, th, td {\n",
       "    border: 1px solid black;\n",
       "    border-collapse: collapse;\n",
       "  }\n",
       "  th, td {\n",
       "    padding: 5px;\n",
       "  }\n",
       "  th {\n",
       "    text-align: left;\n",
       "  }\n",
       "</style><div class='table-result-container'><table class='table-result'><thead style='background-color: white'><tr><th>L_R16_Teams</th><th>L_R16_Score</th></tr></thead><tbody><tr><td></td><td></td></tr><tr><td>Italy</td><td>0</td></tr><tr><td>Belgium</td><td>2</td></tr><tr><td></td><td></td></tr><tr><td></td><td></td></tr><tr><td>Switzerland</td><td>5</td></tr><tr><td>Serbia</td><td>3</td></tr><tr><td></td><td></td></tr><tr><td></td><td></td></tr><tr><td>Turkey</td><td>5</td></tr><tr><td>Scotland</td><td>2</td></tr><tr><td></td><td></td></tr><tr><td></td><td></td></tr><tr><td>Poland</td><td>2</td></tr><tr><td>Slovakia</td><td>2</td></tr><tr><td></td><td></td></tr></tbody></table></div>"
      ]
     },
     "metadata": {
      "application/vnd.databricks.v1+output": {
       "addedWidgets": {},
       "aggData": [],
       "aggError": "",
       "aggOverflow": false,
       "aggSchema": [],
       "aggSeriesLimitReached": false,
       "aggType": "",
       "arguments": {},
       "columnCustomDisplayInfos": {},
       "data": [
        [
         "",
         ""
        ],
        [
         "Italy",
         "0"
        ],
        [
         "Belgium",
         "2"
        ],
        [
         "",
         ""
        ],
        [
         "",
         ""
        ],
        [
         "Switzerland",
         "5"
        ],
        [
         "Serbia",
         "3"
        ],
        [
         "",
         ""
        ],
        [
         "",
         ""
        ],
        [
         "Turkey",
         "5"
        ],
        [
         "Scotland",
         "2"
        ],
        [
         "",
         ""
        ],
        [
         "",
         ""
        ],
        [
         "Poland",
         "2"
        ],
        [
         "Slovakia",
         "2"
        ],
        [
         "",
         ""
        ]
       ],
       "datasetInfos": [],
       "dbfsResultPath": null,
       "isJsonSchema": true,
       "metadata": {},
       "overflow": false,
       "plotOptions": {
        "customPlotOptions": {},
        "displayType": "table",
        "pivotAggregation": null,
        "pivotColumns": null,
        "xColumns": null,
        "yColumns": null
       },
       "removedWidgets": [],
       "schema": [
        {
         "metadata": "{}",
         "name": "L_R16_Teams",
         "type": "\"string\""
        },
        {
         "metadata": "{}",
         "name": "L_R16_Score",
         "type": "\"string\""
        }
       ],
       "type": "table"
      }
     },
     "output_type": "display_data"
    }
   ],
   "source": [
    "\n",
    "left_r16_grouped = [left_r16.iloc[i:i+2] for i in range(0, len(left_r16), 2)]\n",
    "\n",
    "for i in range(len(left_r16_grouped)):\n",
    "    if i < len(left_r16_grouped):\n",
    "        left_r16_grouped[i] = pd.concat([r16_row_pd,left_r16_grouped[i], r16_row_pd], ignore_index=True)\n",
    "\n",
    "left_r16_spaced = pd.concat(left_r16_grouped).reset_index(drop=True)\n",
    "\n",
    "lr16_new_column_name ={'R16_Teams': 'L_R16_Teams',\n",
    "                       'R16_Score': 'L_R16_Score'\n",
    "                       }\n",
    "left_r16_spaced = left_r16_spaced.rename(columns=lr16_new_column_name)\n",
    "\n",
    "display(left_r16_spaced)"
   ]
  },
  {
   "cell_type": "code",
   "execution_count": 0,
   "metadata": {
    "application/vnd.databricks.v1+cell": {
     "cellMetadata": {
      "byteLimit": 2048000,
      "rowLimit": 10000
     },
     "inputWidgets": {},
     "nuid": "eb2a5417-2559-4ef2-a0f1-30a9123a9daa",
     "showTitle": false,
     "title": ""
    }
   },
   "outputs": [
    {
     "output_type": "display_data",
     "data": {
      "text/html": [
       "<style scoped>\n",
       "  .table-result-container {\n",
       "    max-height: 300px;\n",
       "    overflow: auto;\n",
       "  }\n",
       "  table, th, td {\n",
       "    border: 1px solid black;\n",
       "    border-collapse: collapse;\n",
       "  }\n",
       "  th, td {\n",
       "    padding: 5px;\n",
       "  }\n",
       "  th {\n",
       "    text-align: left;\n",
       "  }\n",
       "</style><div class='table-result-container'><table class='table-result'><thead style='background-color: white'><tr><th>R_R16_Score</th><th>R_R16_Teams</th></tr></thead><tbody><tr><td></td><td></td></tr><tr><td>0</td><td>Romania</td></tr><tr><td>5</td><td>Slovenia</td></tr><tr><td></td><td></td></tr><tr><td></td><td></td></tr><tr><td>5</td><td>France</td></tr><tr><td>1</td><td>Greece</td></tr><tr><td></td><td></td></tr><tr><td></td><td></td></tr><tr><td>4</td><td>Denmark</td></tr><tr><td>4</td><td>Portugal</td></tr><tr><td></td><td></td></tr><tr><td></td><td></td></tr><tr><td>1</td><td>Germany</td></tr><tr><td>3</td><td>Spain</td></tr><tr><td></td><td></td></tr></tbody></table></div>"
      ]
     },
     "metadata": {
      "application/vnd.databricks.v1+output": {
       "addedWidgets": {},
       "aggData": [],
       "aggError": "",
       "aggOverflow": false,
       "aggSchema": [],
       "aggSeriesLimitReached": false,
       "aggType": "",
       "arguments": {},
       "columnCustomDisplayInfos": {},
       "data": [
        [
         "",
         ""
        ],
        [
         "0",
         "Romania"
        ],
        [
         "5",
         "Slovenia"
        ],
        [
         "",
         ""
        ],
        [
         "",
         ""
        ],
        [
         "5",
         "France"
        ],
        [
         "1",
         "Greece"
        ],
        [
         "",
         ""
        ],
        [
         "",
         ""
        ],
        [
         "4",
         "Denmark"
        ],
        [
         "4",
         "Portugal"
        ],
        [
         "",
         ""
        ],
        [
         "",
         ""
        ],
        [
         "1",
         "Germany"
        ],
        [
         "3",
         "Spain"
        ],
        [
         "",
         ""
        ]
       ],
       "datasetInfos": [],
       "dbfsResultPath": null,
       "isJsonSchema": true,
       "metadata": {},
       "overflow": false,
       "plotOptions": {
        "customPlotOptions": {},
        "displayType": "table",
        "pivotAggregation": null,
        "pivotColumns": null,
        "xColumns": null,
        "yColumns": null
       },
       "removedWidgets": [],
       "schema": [
        {
         "metadata": "{}",
         "name": "R_R16_Score",
         "type": "\"string\""
        },
        {
         "metadata": "{}",
         "name": "R_R16_Teams",
         "type": "\"string\""
        }
       ],
       "type": "table"
      }
     },
     "output_type": "display_data"
    }
   ],
   "source": [
    "right_r16_grouped = [right_r16.iloc[i:i+2] for i in range(0, len(right_r16), 2)]\n",
    "\n",
    "for i in range(len(right_r16_grouped)):\n",
    "    if i < len(right_r16_grouped):\n",
    "        right_r16_grouped[i] = pd.concat([r16_row_pd,right_r16_grouped[i], r16_row_pd], ignore_index=True)\n",
    "\n",
    "right_r16_spaced = pd.concat(right_r16_grouped).reset_index(drop=True)\n",
    "\n",
    "rr16_new_column_name ={'R16_Teams': 'R_R16_Teams',\n",
    "                       'R16_Score': 'R_R16_Score'\n",
    "                       }\n",
    "right_r16_spaced = right_r16_spaced.rename(columns=rr16_new_column_name)\n",
    "\n",
    "rr16_new_column_order = ['R_R16_Score', 'R_R16_Teams']\n",
    "right_r16_spaced = right_r16_spaced[rr16_new_column_order]\n",
    "\n",
    "display(right_r16_spaced)"
   ]
  },
  {
   "cell_type": "code",
   "execution_count": 0,
   "metadata": {
    "application/vnd.databricks.v1+cell": {
     "cellMetadata": {
      "byteLimit": 2048000,
      "rowLimit": 10000
     },
     "inputWidgets": {},
     "nuid": "c2685989-6e85-4240-b404-46f119a3be1c",
     "showTitle": false,
     "title": ""
    }
   },
   "outputs": [
    {
     "output_type": "display_data",
     "data": {
      "text/html": [
       "<style scoped>\n",
       "  .table-result-container {\n",
       "    max-height: 300px;\n",
       "    overflow: auto;\n",
       "  }\n",
       "  table, th, td {\n",
       "    border: 1px solid black;\n",
       "    border-collapse: collapse;\n",
       "  }\n",
       "  th, td {\n",
       "    padding: 5px;\n",
       "  }\n",
       "  th {\n",
       "    text-align: left;\n",
       "  }\n",
       "</style><div class='table-result-container'><table class='table-result'><thead style='background-color: white'><tr><th>MatchID</th><th>Team1</th><th>Team1Goals</th><th>Team2Goals</th><th>Team2</th><th>MatchWinner</th><th>MatchStage</th></tr></thead><tbody><tr><td>9</td><td>Belgium</td><td>1</td><td>4</td><td>Switzerland</td><td>Switzerland</td><td>QF</td></tr><tr><td>10</td><td>Turkey</td><td>4</td><td>1</td><td>Poland</td><td>Turkey</td><td>QF</td></tr><tr><td>11</td><td>Slovenia</td><td>4</td><td>1</td><td>France</td><td>Slovenia</td><td>QF</td></tr><tr><td>12</td><td>Denmark</td><td>5</td><td>3</td><td>Spain</td><td>Denmark</td><td>QF</td></tr></tbody></table></div>"
      ]
     },
     "metadata": {
      "application/vnd.databricks.v1+output": {
       "addedWidgets": {},
       "aggData": [],
       "aggError": "",
       "aggOverflow": false,
       "aggSchema": [],
       "aggSeriesLimitReached": false,
       "aggType": "",
       "arguments": {},
       "columnCustomDisplayInfos": {},
       "data": [
        [
         "9",
         "Belgium",
         "1",
         "4",
         "Switzerland",
         "Switzerland",
         "QF"
        ],
        [
         "10",
         "Turkey",
         "4",
         "1",
         "Poland",
         "Turkey",
         "QF"
        ],
        [
         "11",
         "Slovenia",
         "4",
         "1",
         "France",
         "Slovenia",
         "QF"
        ],
        [
         "12",
         "Denmark",
         "5",
         "3",
         "Spain",
         "Denmark",
         "QF"
        ]
       ],
       "datasetInfos": [],
       "dbfsResultPath": null,
       "isJsonSchema": true,
       "metadata": {},
       "overflow": false,
       "plotOptions": {
        "customPlotOptions": {},
        "displayType": "table",
        "pivotAggregation": null,
        "pivotColumns": null,
        "xColumns": null,
        "yColumns": null
       },
       "removedWidgets": [],
       "schema": [
        {
         "metadata": "{}",
         "name": "MatchID",
         "type": "\"string\""
        },
        {
         "metadata": "{}",
         "name": "Team1",
         "type": "\"string\""
        },
        {
         "metadata": "{}",
         "name": "Team1Goals",
         "type": "\"string\""
        },
        {
         "metadata": "{}",
         "name": "Team2Goals",
         "type": "\"string\""
        },
        {
         "metadata": "{}",
         "name": "Team2",
         "type": "\"string\""
        },
        {
         "metadata": "{}",
         "name": "MatchWinner",
         "type": "\"string\""
        },
        {
         "metadata": "{}",
         "name": "MatchStage",
         "type": "\"string\""
        }
       ],
       "type": "table"
      }
     },
     "output_type": "display_data"
    }
   ],
   "source": [
    "qf = spark.sql(\"SELECT * FROM QualificationPlacement WHERE MatchStage = 'QF'\")\n",
    "qf_pd = qf.toPandas()\n",
    "qf_pd = qf_pd.applymap(lambda x: str(x).split(\".\")[0])\n",
    "\n",
    "display(qf_pd)"
   ]
  },
  {
   "cell_type": "code",
   "execution_count": 0,
   "metadata": {
    "application/vnd.databricks.v1+cell": {
     "cellMetadata": {
      "byteLimit": 2048000,
      "rowLimit": 10000
     },
     "inputWidgets": {},
     "nuid": "5edfcbe6-3e11-433e-b353-58d18d4a7a9d",
     "showTitle": false,
     "title": ""
    }
   },
   "outputs": [
    {
     "output_type": "display_data",
     "data": {
      "text/html": [
       "<style scoped>\n",
       "  .table-result-container {\n",
       "    max-height: 300px;\n",
       "    overflow: auto;\n",
       "  }\n",
       "  table, th, td {\n",
       "    border: 1px solid black;\n",
       "    border-collapse: collapse;\n",
       "  }\n",
       "  th, td {\n",
       "    padding: 5px;\n",
       "  }\n",
       "  th {\n",
       "    text-align: left;\n",
       "  }\n",
       "</style><div class='table-result-container'><table class='table-result'><thead style='background-color: white'><tr><th>QF_Teams</th><th>QF_Score</th></tr></thead><tbody><tr><td>Belgium</td><td>1</td></tr><tr><td>Switzerland</td><td>4</td></tr><tr><td>Turkey</td><td>4</td></tr><tr><td>Poland</td><td>1</td></tr><tr><td>Slovenia</td><td>4</td></tr><tr><td>France</td><td>1</td></tr><tr><td>Denmark</td><td>5</td></tr><tr><td>Spain</td><td>3</td></tr></tbody></table></div>"
      ]
     },
     "metadata": {
      "application/vnd.databricks.v1+output": {
       "addedWidgets": {},
       "aggData": [],
       "aggError": "",
       "aggOverflow": false,
       "aggSchema": [],
       "aggSeriesLimitReached": false,
       "aggType": "",
       "arguments": {},
       "columnCustomDisplayInfos": {},
       "data": [
        [
         "Belgium",
         "1"
        ],
        [
         "Switzerland",
         "4"
        ],
        [
         "Turkey",
         "4"
        ],
        [
         "Poland",
         "1"
        ],
        [
         "Slovenia",
         "4"
        ],
        [
         "France",
         "1"
        ],
        [
         "Denmark",
         "5"
        ],
        [
         "Spain",
         "3"
        ]
       ],
       "datasetInfos": [],
       "dbfsResultPath": null,
       "isJsonSchema": true,
       "metadata": {},
       "overflow": false,
       "plotOptions": {
        "customPlotOptions": {},
        "displayType": "table",
        "pivotAggregation": null,
        "pivotColumns": null,
        "xColumns": null,
        "yColumns": null
       },
       "removedWidgets": [],
       "schema": [
        {
         "metadata": "{}",
         "name": "QF_Teams",
         "type": "\"string\""
        },
        {
         "metadata": "{}",
         "name": "QF_Score",
         "type": "\"string\""
        }
       ],
       "type": "table"
      }
     },
     "output_type": "display_data"
    }
   ],
   "source": [
    "#storing required data in df\n",
    "qf_vis = pd.DataFrame(columns=['QF_Teams', 'QF_Score'])\n",
    "\n",
    "#displaying all teams and respective scores in columns\n",
    "for index, row in qf_pd.iterrows():\n",
    "    team1 = row['Team1']\n",
    "    team1goals = row['Team1Goals']\n",
    "    team2 = row['Team2']\n",
    "    team2goals = row['Team2Goals']\n",
    "    qf_vis = pd.concat([qf_vis, pd.DataFrame({'QF_Teams': [team1], 'QF_Score': [team1goals]})], ignore_index=True)\n",
    "    qf_vis = pd.concat([qf_vis, pd.DataFrame({'QF_Teams': [team2], 'QF_Score': [team2goals]})], ignore_index=True)\n",
    "\n",
    "display(qf_vis)"
   ]
  },
  {
   "cell_type": "code",
   "execution_count": 0,
   "metadata": {
    "application/vnd.databricks.v1+cell": {
     "cellMetadata": {
      "byteLimit": 2048000,
      "rowLimit": 10000
     },
     "inputWidgets": {},
     "nuid": "d14e3078-c613-47e0-9c1e-994cfbc51581",
     "showTitle": false,
     "title": ""
    }
   },
   "outputs": [
    {
     "output_type": "display_data",
     "data": {
      "text/html": [
       "<style scoped>\n",
       "  .table-result-container {\n",
       "    max-height: 300px;\n",
       "    overflow: auto;\n",
       "  }\n",
       "  table, th, td {\n",
       "    border: 1px solid black;\n",
       "    border-collapse: collapse;\n",
       "  }\n",
       "  th, td {\n",
       "    padding: 5px;\n",
       "  }\n",
       "  th {\n",
       "    text-align: left;\n",
       "  }\n",
       "</style><div class='table-result-container'><table class='table-result'><thead style='background-color: white'><tr><th>QF_Teams</th><th>QF_Score</th></tr></thead><tbody><tr><td>Belgium</td><td>1</td></tr><tr><td>Switzerland</td><td>4</td></tr><tr><td>Turkey</td><td>4</td></tr><tr><td>Poland</td><td>1</td></tr></tbody></table></div>"
      ]
     },
     "metadata": {
      "application/vnd.databricks.v1+output": {
       "addedWidgets": {},
       "aggData": [],
       "aggError": "",
       "aggOverflow": false,
       "aggSchema": [],
       "aggSeriesLimitReached": false,
       "aggType": "",
       "arguments": {},
       "columnCustomDisplayInfos": {},
       "data": [
        [
         "Belgium",
         "1"
        ],
        [
         "Switzerland",
         "4"
        ],
        [
         "Turkey",
         "4"
        ],
        [
         "Poland",
         "1"
        ]
       ],
       "datasetInfos": [],
       "dbfsResultPath": null,
       "isJsonSchema": true,
       "metadata": {},
       "overflow": false,
       "plotOptions": {
        "customPlotOptions": {},
        "displayType": "table",
        "pivotAggregation": null,
        "pivotColumns": null,
        "xColumns": null,
        "yColumns": null
       },
       "removedWidgets": [],
       "schema": [
        {
         "metadata": "{}",
         "name": "QF_Teams",
         "type": "\"string\""
        },
        {
         "metadata": "{}",
         "name": "QF_Score",
         "type": "\"string\""
        }
       ],
       "type": "table"
      }
     },
     "output_type": "display_data"
    },
    {
     "output_type": "display_data",
     "data": {
      "text/html": [
       "<style scoped>\n",
       "  .table-result-container {\n",
       "    max-height: 300px;\n",
       "    overflow: auto;\n",
       "  }\n",
       "  table, th, td {\n",
       "    border: 1px solid black;\n",
       "    border-collapse: collapse;\n",
       "  }\n",
       "  th, td {\n",
       "    padding: 5px;\n",
       "  }\n",
       "  th {\n",
       "    text-align: left;\n",
       "  }\n",
       "</style><div class='table-result-container'><table class='table-result'><thead style='background-color: white'><tr><th>QF_Teams</th><th>QF_Score</th></tr></thead><tbody><tr><td>Slovenia</td><td>4</td></tr><tr><td>France</td><td>1</td></tr><tr><td>Denmark</td><td>5</td></tr><tr><td>Spain</td><td>3</td></tr></tbody></table></div>"
      ]
     },
     "metadata": {
      "application/vnd.databricks.v1+output": {
       "addedWidgets": {},
       "aggData": [],
       "aggError": "",
       "aggOverflow": false,
       "aggSchema": [],
       "aggSeriesLimitReached": false,
       "aggType": "",
       "arguments": {},
       "columnCustomDisplayInfos": {},
       "data": [
        [
         "Slovenia",
         "4"
        ],
        [
         "France",
         "1"
        ],
        [
         "Denmark",
         "5"
        ],
        [
         "Spain",
         "3"
        ]
       ],
       "datasetInfos": [],
       "dbfsResultPath": null,
       "isJsonSchema": true,
       "metadata": {},
       "overflow": false,
       "plotOptions": {
        "customPlotOptions": {},
        "displayType": "table",
        "pivotAggregation": null,
        "pivotColumns": null,
        "xColumns": null,
        "yColumns": null
       },
       "removedWidgets": [],
       "schema": [
        {
         "metadata": "{}",
         "name": "QF_Teams",
         "type": "\"string\""
        },
        {
         "metadata": "{}",
         "name": "QF_Score",
         "type": "\"string\""
        }
       ],
       "type": "table"
      }
     },
     "output_type": "display_data"
    }
   ],
   "source": [
    "# calculating midpoint of the dataFrame\n",
    "midpoint_index2 = len(qf_vis) // 2\n",
    "\n",
    "# splitting dataFrame into two equal halves\n",
    "left_qf = qf_vis.iloc[:midpoint_index2]\n",
    "right_qf = qf_vis.iloc[midpoint_index2:]\n",
    "\n",
    "# index reset\n",
    "left_qf.reset_index(drop=True, inplace=True)\n",
    "right_qf.reset_index(drop=True, inplace=True)\n",
    "\n",
    "# displaying the split DataFrames\n",
    "display(left_qf)\n",
    "display(right_qf)"
   ]
  },
  {
   "cell_type": "code",
   "execution_count": 0,
   "metadata": {
    "application/vnd.databricks.v1+cell": {
     "cellMetadata": {
      "byteLimit": 2048000,
      "rowLimit": 10000
     },
     "inputWidgets": {},
     "nuid": "28886f67-e971-4b67-a250-be879e2ce5db",
     "showTitle": false,
     "title": ""
    }
   },
   "outputs": [],
   "source": [
    "qf_row_pd = pd.DataFrame({col: [''] for col in qf_vis.columns})"
   ]
  },
  {
   "cell_type": "code",
   "execution_count": 0,
   "metadata": {
    "application/vnd.databricks.v1+cell": {
     "cellMetadata": {
      "byteLimit": 2048000,
      "rowLimit": 10000
     },
     "inputWidgets": {},
     "nuid": "a3d0b68b-2ccf-4e53-9c1b-d1d2f4904144",
     "showTitle": false,
     "title": ""
    }
   },
   "outputs": [
    {
     "output_type": "display_data",
     "data": {
      "text/html": [
       "<style scoped>\n",
       "  .table-result-container {\n",
       "    max-height: 300px;\n",
       "    overflow: auto;\n",
       "  }\n",
       "  table, th, td {\n",
       "    border: 1px solid black;\n",
       "    border-collapse: collapse;\n",
       "  }\n",
       "  th, td {\n",
       "    padding: 5px;\n",
       "  }\n",
       "  th {\n",
       "    text-align: left;\n",
       "  }\n",
       "</style><div class='table-result-container'><table class='table-result'><thead style='background-color: white'><tr><th>L_QF_Teams</th><th>L_QF_Score</th></tr></thead><tbody><tr><td></td><td></td></tr><tr><td></td><td></td></tr><tr><td></td><td></td></tr><tr><td></td><td></td></tr><tr><td>Belgium</td><td>1</td></tr><tr><td>Switzerland</td><td>4</td></tr><tr><td></td><td></td></tr><tr><td></td><td></td></tr><tr><td></td><td></td></tr><tr><td></td><td></td></tr><tr><td>Turkey</td><td>4</td></tr><tr><td>Poland</td><td>1</td></tr><tr><td></td><td></td></tr><tr><td></td><td></td></tr><tr><td></td><td></td></tr><tr><td></td><td></td></tr></tbody></table></div>"
      ]
     },
     "metadata": {
      "application/vnd.databricks.v1+output": {
       "addedWidgets": {},
       "aggData": [],
       "aggError": "",
       "aggOverflow": false,
       "aggSchema": [],
       "aggSeriesLimitReached": false,
       "aggType": "",
       "arguments": {},
       "columnCustomDisplayInfos": {},
       "data": [
        [
         "",
         ""
        ],
        [
         "",
         ""
        ],
        [
         "",
         ""
        ],
        [
         "",
         ""
        ],
        [
         "Belgium",
         "1"
        ],
        [
         "Switzerland",
         "4"
        ],
        [
         "",
         ""
        ],
        [
         "",
         ""
        ],
        [
         "",
         ""
        ],
        [
         "",
         ""
        ],
        [
         "Turkey",
         "4"
        ],
        [
         "Poland",
         "1"
        ],
        [
         "",
         ""
        ],
        [
         "",
         ""
        ],
        [
         "",
         ""
        ],
        [
         "",
         ""
        ]
       ],
       "datasetInfos": [],
       "dbfsResultPath": null,
       "isJsonSchema": true,
       "metadata": {},
       "overflow": false,
       "plotOptions": {
        "customPlotOptions": {},
        "displayType": "table",
        "pivotAggregation": null,
        "pivotColumns": null,
        "xColumns": null,
        "yColumns": null
       },
       "removedWidgets": [],
       "schema": [
        {
         "metadata": "{}",
         "name": "L_QF_Teams",
         "type": "\"string\""
        },
        {
         "metadata": "{}",
         "name": "L_QF_Score",
         "type": "\"string\""
        }
       ],
       "type": "table"
      }
     },
     "output_type": "display_data"
    }
   ],
   "source": [
    "left_qf_grouped = [left_qf.iloc[i:i+2] for i in range(0, len(left_qf), 2)]\n",
    "\n",
    "for i in range(len(left_qf_grouped)):\n",
    "    if i < len(left_qf_grouped):\n",
    "        left_qf_grouped[i] = pd.concat([qf_row_pd, qf_row_pd, qf_row_pd,qf_row_pd, left_qf_grouped[i]], ignore_index=True)\n",
    "\n",
    "left_qf_spaced = pd.concat(left_qf_grouped).reset_index(drop=True)\n",
    "\n",
    "for _ in range(4):\n",
    "    left_qf_spaced = pd.concat([left_qf_spaced, qf_row_pd], ignore_index=True)\n",
    "\n",
    "lqf_new_column_name ={'QF_Teams': 'L_QF_Teams',\n",
    "                       'QF_Score': 'L_QF_Score'\n",
    "                       }\n",
    "left_qf_spaced = left_qf_spaced.rename(columns=lqf_new_column_name)\n",
    "\n",
    "display(left_qf_spaced)"
   ]
  },
  {
   "cell_type": "code",
   "execution_count": 0,
   "metadata": {
    "application/vnd.databricks.v1+cell": {
     "cellMetadata": {
      "byteLimit": 2048000,
      "rowLimit": 10000
     },
     "inputWidgets": {},
     "nuid": "bd59e7cf-34f0-455a-8d90-6945ee25e566",
     "showTitle": false,
     "title": ""
    }
   },
   "outputs": [
    {
     "output_type": "display_data",
     "data": {
      "text/html": [
       "<style scoped>\n",
       "  .table-result-container {\n",
       "    max-height: 300px;\n",
       "    overflow: auto;\n",
       "  }\n",
       "  table, th, td {\n",
       "    border: 1px solid black;\n",
       "    border-collapse: collapse;\n",
       "  }\n",
       "  th, td {\n",
       "    padding: 5px;\n",
       "  }\n",
       "  th {\n",
       "    text-align: left;\n",
       "  }\n",
       "</style><div class='table-result-container'><table class='table-result'><thead style='background-color: white'><tr><th>R_QF_Score</th><th>R_QF_Teams</th></tr></thead><tbody><tr><td></td><td></td></tr><tr><td></td><td></td></tr><tr><td></td><td></td></tr><tr><td></td><td></td></tr><tr><td>4</td><td>Slovenia</td></tr><tr><td>1</td><td>France</td></tr><tr><td></td><td></td></tr><tr><td></td><td></td></tr><tr><td></td><td></td></tr><tr><td></td><td></td></tr><tr><td>5</td><td>Denmark</td></tr><tr><td>3</td><td>Spain</td></tr><tr><td></td><td></td></tr><tr><td></td><td></td></tr><tr><td></td><td></td></tr><tr><td></td><td></td></tr></tbody></table></div>"
      ]
     },
     "metadata": {
      "application/vnd.databricks.v1+output": {
       "addedWidgets": {},
       "aggData": [],
       "aggError": "",
       "aggOverflow": false,
       "aggSchema": [],
       "aggSeriesLimitReached": false,
       "aggType": "",
       "arguments": {},
       "columnCustomDisplayInfos": {},
       "data": [
        [
         "",
         ""
        ],
        [
         "",
         ""
        ],
        [
         "",
         ""
        ],
        [
         "",
         ""
        ],
        [
         "4",
         "Slovenia"
        ],
        [
         "1",
         "France"
        ],
        [
         "",
         ""
        ],
        [
         "",
         ""
        ],
        [
         "",
         ""
        ],
        [
         "",
         ""
        ],
        [
         "5",
         "Denmark"
        ],
        [
         "3",
         "Spain"
        ],
        [
         "",
         ""
        ],
        [
         "",
         ""
        ],
        [
         "",
         ""
        ],
        [
         "",
         ""
        ]
       ],
       "datasetInfos": [],
       "dbfsResultPath": null,
       "isJsonSchema": true,
       "metadata": {},
       "overflow": false,
       "plotOptions": {
        "customPlotOptions": {},
        "displayType": "table",
        "pivotAggregation": null,
        "pivotColumns": null,
        "xColumns": null,
        "yColumns": null
       },
       "removedWidgets": [],
       "schema": [
        {
         "metadata": "{}",
         "name": "R_QF_Score",
         "type": "\"string\""
        },
        {
         "metadata": "{}",
         "name": "R_QF_Teams",
         "type": "\"string\""
        }
       ],
       "type": "table"
      }
     },
     "output_type": "display_data"
    }
   ],
   "source": [
    "right_qf_grouped = [right_qf.iloc[i:i+2] for i in range(0, len(left_qf), 2)]\n",
    "\n",
    "for i in range(len(right_qf_grouped)):\n",
    "    if i < len(right_qf_grouped):\n",
    "        right_qf_grouped[i] = pd.concat([qf_row_pd, qf_row_pd, qf_row_pd,qf_row_pd, right_qf_grouped[i]], ignore_index=True)\n",
    "\n",
    "right_qf_spaced = pd.concat(right_qf_grouped).reset_index(drop=True)\n",
    "\n",
    "for _ in range(4):\n",
    "    right_qf_spaced = pd.concat([right_qf_spaced, qf_row_pd], ignore_index=True)\n",
    "\n",
    "rqf_new_column_name ={'QF_Teams': 'R_QF_Teams',\n",
    "                       'QF_Score': 'R_QF_Score'\n",
    "                       }\n",
    "right_qf_spaced = right_qf_spaced.rename(columns=rqf_new_column_name)\n",
    "\n",
    "rqf_new_column_order = ['R_QF_Score', 'R_QF_Teams']\n",
    "right_qf_spaced = right_qf_spaced[rqf_new_column_order]\n",
    "\n",
    "display(right_qf_spaced)"
   ]
  },
  {
   "cell_type": "code",
   "execution_count": 0,
   "metadata": {
    "application/vnd.databricks.v1+cell": {
     "cellMetadata": {
      "byteLimit": 2048000,
      "rowLimit": 10000
     },
     "inputWidgets": {},
     "nuid": "f4f0abdf-da1c-4058-8f3f-f07c1e8e3d92",
     "showTitle": false,
     "title": ""
    }
   },
   "outputs": [
    {
     "output_type": "display_data",
     "data": {
      "text/html": [
       "<style scoped>\n",
       "  .table-result-container {\n",
       "    max-height: 300px;\n",
       "    overflow: auto;\n",
       "  }\n",
       "  table, th, td {\n",
       "    border: 1px solid black;\n",
       "    border-collapse: collapse;\n",
       "  }\n",
       "  th, td {\n",
       "    padding: 5px;\n",
       "  }\n",
       "  th {\n",
       "    text-align: left;\n",
       "  }\n",
       "</style><div class='table-result-container'><table class='table-result'><thead style='background-color: white'><tr><th>MatchID</th><th>Team1</th><th>Team1Goals</th><th>Team2Goals</th><th>Team2</th><th>MatchWinner</th><th>MatchStage</th></tr></thead><tbody><tr><td>13</td><td>Switzerland</td><td>3</td><td>4</td><td>Turkey</td><td>Turkey</td><td>SF</td></tr><tr><td>14</td><td>Slovenia</td><td>1</td><td>2</td><td>Denmark</td><td>Denmark</td><td>SF</td></tr></tbody></table></div>"
      ]
     },
     "metadata": {
      "application/vnd.databricks.v1+output": {
       "addedWidgets": {},
       "aggData": [],
       "aggError": "",
       "aggOverflow": false,
       "aggSchema": [],
       "aggSeriesLimitReached": false,
       "aggType": "",
       "arguments": {},
       "columnCustomDisplayInfos": {},
       "data": [
        [
         "13",
         "Switzerland",
         "3",
         "4",
         "Turkey",
         "Turkey",
         "SF"
        ],
        [
         "14",
         "Slovenia",
         "1",
         "2",
         "Denmark",
         "Denmark",
         "SF"
        ]
       ],
       "datasetInfos": [],
       "dbfsResultPath": null,
       "isJsonSchema": true,
       "metadata": {},
       "overflow": false,
       "plotOptions": {
        "customPlotOptions": {},
        "displayType": "table",
        "pivotAggregation": null,
        "pivotColumns": null,
        "xColumns": null,
        "yColumns": null
       },
       "removedWidgets": [],
       "schema": [
        {
         "metadata": "{}",
         "name": "MatchID",
         "type": "\"string\""
        },
        {
         "metadata": "{}",
         "name": "Team1",
         "type": "\"string\""
        },
        {
         "metadata": "{}",
         "name": "Team1Goals",
         "type": "\"string\""
        },
        {
         "metadata": "{}",
         "name": "Team2Goals",
         "type": "\"string\""
        },
        {
         "metadata": "{}",
         "name": "Team2",
         "type": "\"string\""
        },
        {
         "metadata": "{}",
         "name": "MatchWinner",
         "type": "\"string\""
        },
        {
         "metadata": "{}",
         "name": "MatchStage",
         "type": "\"string\""
        }
       ],
       "type": "table"
      }
     },
     "output_type": "display_data"
    }
   ],
   "source": [
    "sf = spark.sql(\"SELECT * FROM QualificationPlacement WHERE MatchStage = 'SF'\")\n",
    "sf_pd = sf.toPandas()\n",
    "sf_pd = sf_pd.applymap(lambda x: str(x).split(\".\")[0])\n",
    "\n",
    "display(sf_pd)"
   ]
  },
  {
   "cell_type": "code",
   "execution_count": 0,
   "metadata": {
    "application/vnd.databricks.v1+cell": {
     "cellMetadata": {
      "byteLimit": 2048000,
      "rowLimit": 10000
     },
     "inputWidgets": {},
     "nuid": "9589f6d9-83aa-49fd-bcdf-02fc02eaf19a",
     "showTitle": false,
     "title": ""
    }
   },
   "outputs": [
    {
     "output_type": "display_data",
     "data": {
      "text/html": [
       "<style scoped>\n",
       "  .table-result-container {\n",
       "    max-height: 300px;\n",
       "    overflow: auto;\n",
       "  }\n",
       "  table, th, td {\n",
       "    border: 1px solid black;\n",
       "    border-collapse: collapse;\n",
       "  }\n",
       "  th, td {\n",
       "    padding: 5px;\n",
       "  }\n",
       "  th {\n",
       "    text-align: left;\n",
       "  }\n",
       "</style><div class='table-result-container'><table class='table-result'><thead style='background-color: white'><tr><th>SF_Teams</th><th>SF_Score</th></tr></thead><tbody><tr><td>Switzerland</td><td>3</td></tr><tr><td>Turkey</td><td>4</td></tr><tr><td>Slovenia</td><td>1</td></tr><tr><td>Denmark</td><td>2</td></tr></tbody></table></div>"
      ]
     },
     "metadata": {
      "application/vnd.databricks.v1+output": {
       "addedWidgets": {},
       "aggData": [],
       "aggError": "",
       "aggOverflow": false,
       "aggSchema": [],
       "aggSeriesLimitReached": false,
       "aggType": "",
       "arguments": {},
       "columnCustomDisplayInfos": {},
       "data": [
        [
         "Switzerland",
         "3"
        ],
        [
         "Turkey",
         "4"
        ],
        [
         "Slovenia",
         "1"
        ],
        [
         "Denmark",
         "2"
        ]
       ],
       "datasetInfos": [],
       "dbfsResultPath": null,
       "isJsonSchema": true,
       "metadata": {},
       "overflow": false,
       "plotOptions": {
        "customPlotOptions": {},
        "displayType": "table",
        "pivotAggregation": null,
        "pivotColumns": null,
        "xColumns": null,
        "yColumns": null
       },
       "removedWidgets": [],
       "schema": [
        {
         "metadata": "{}",
         "name": "SF_Teams",
         "type": "\"string\""
        },
        {
         "metadata": "{}",
         "name": "SF_Score",
         "type": "\"string\""
        }
       ],
       "type": "table"
      }
     },
     "output_type": "display_data"
    }
   ],
   "source": [
    "#storing required data in df\n",
    "sf_vis = pd.DataFrame(columns=['SF_Teams', 'SF_Score'])\n",
    "\n",
    "#displaying all teams and respective scores in columns\n",
    "for index, row in sf_pd.iterrows():\n",
    "    team1 = row['Team1']\n",
    "    team1goals = row['Team1Goals']\n",
    "    team2 = row['Team2']\n",
    "    team2goals = row['Team2Goals']\n",
    "    sf_vis = pd.concat([sf_vis, pd.DataFrame({'SF_Teams': [team1], 'SF_Score': [team1goals]})], ignore_index=True)\n",
    "    sf_vis = pd.concat([sf_vis, pd.DataFrame({'SF_Teams': [team2], 'SF_Score': [team2goals]})], ignore_index=True)\n",
    "\n",
    "display(sf_vis)"
   ]
  },
  {
   "cell_type": "code",
   "execution_count": 0,
   "metadata": {
    "application/vnd.databricks.v1+cell": {
     "cellMetadata": {
      "byteLimit": 2048000,
      "rowLimit": 10000
     },
     "inputWidgets": {},
     "nuid": "0e7537e4-0c73-49c9-8d80-73885c91201a",
     "showTitle": false,
     "title": ""
    }
   },
   "outputs": [
    {
     "output_type": "display_data",
     "data": {
      "text/html": [
       "<style scoped>\n",
       "  .table-result-container {\n",
       "    max-height: 300px;\n",
       "    overflow: auto;\n",
       "  }\n",
       "  table, th, td {\n",
       "    border: 1px solid black;\n",
       "    border-collapse: collapse;\n",
       "  }\n",
       "  th, td {\n",
       "    padding: 5px;\n",
       "  }\n",
       "  th {\n",
       "    text-align: left;\n",
       "  }\n",
       "</style><div class='table-result-container'><table class='table-result'><thead style='background-color: white'><tr><th>SF_Teams</th><th>SF_Score</th></tr></thead><tbody><tr><td>Switzerland</td><td>3</td></tr><tr><td>Turkey</td><td>4</td></tr></tbody></table></div>"
      ]
     },
     "metadata": {
      "application/vnd.databricks.v1+output": {
       "addedWidgets": {},
       "aggData": [],
       "aggError": "",
       "aggOverflow": false,
       "aggSchema": [],
       "aggSeriesLimitReached": false,
       "aggType": "",
       "arguments": {},
       "columnCustomDisplayInfos": {},
       "data": [
        [
         "Switzerland",
         "3"
        ],
        [
         "Turkey",
         "4"
        ]
       ],
       "datasetInfos": [],
       "dbfsResultPath": null,
       "isJsonSchema": true,
       "metadata": {},
       "overflow": false,
       "plotOptions": {
        "customPlotOptions": {},
        "displayType": "table",
        "pivotAggregation": null,
        "pivotColumns": null,
        "xColumns": null,
        "yColumns": null
       },
       "removedWidgets": [],
       "schema": [
        {
         "metadata": "{}",
         "name": "SF_Teams",
         "type": "\"string\""
        },
        {
         "metadata": "{}",
         "name": "SF_Score",
         "type": "\"string\""
        }
       ],
       "type": "table"
      }
     },
     "output_type": "display_data"
    },
    {
     "output_type": "display_data",
     "data": {
      "text/html": [
       "<style scoped>\n",
       "  .table-result-container {\n",
       "    max-height: 300px;\n",
       "    overflow: auto;\n",
       "  }\n",
       "  table, th, td {\n",
       "    border: 1px solid black;\n",
       "    border-collapse: collapse;\n",
       "  }\n",
       "  th, td {\n",
       "    padding: 5px;\n",
       "  }\n",
       "  th {\n",
       "    text-align: left;\n",
       "  }\n",
       "</style><div class='table-result-container'><table class='table-result'><thead style='background-color: white'><tr><th>SF_Teams</th><th>SF_Score</th></tr></thead><tbody><tr><td>Slovenia</td><td>1</td></tr><tr><td>Denmark</td><td>2</td></tr></tbody></table></div>"
      ]
     },
     "metadata": {
      "application/vnd.databricks.v1+output": {
       "addedWidgets": {},
       "aggData": [],
       "aggError": "",
       "aggOverflow": false,
       "aggSchema": [],
       "aggSeriesLimitReached": false,
       "aggType": "",
       "arguments": {},
       "columnCustomDisplayInfos": {},
       "data": [
        [
         "Slovenia",
         "1"
        ],
        [
         "Denmark",
         "2"
        ]
       ],
       "datasetInfos": [],
       "dbfsResultPath": null,
       "isJsonSchema": true,
       "metadata": {},
       "overflow": false,
       "plotOptions": {
        "customPlotOptions": {},
        "displayType": "table",
        "pivotAggregation": null,
        "pivotColumns": null,
        "xColumns": null,
        "yColumns": null
       },
       "removedWidgets": [],
       "schema": [
        {
         "metadata": "{}",
         "name": "SF_Teams",
         "type": "\"string\""
        },
        {
         "metadata": "{}",
         "name": "SF_Score",
         "type": "\"string\""
        }
       ],
       "type": "table"
      }
     },
     "output_type": "display_data"
    }
   ],
   "source": [
    "# calculating midpoint of the dataFrame\n",
    "midpoint_index2 = len(sf_vis) // 2\n",
    "\n",
    "# splitting dataFrame into two equal halves\n",
    "left_sf = sf_vis.iloc[:midpoint_index2]\n",
    "right_sf = sf_vis.iloc[midpoint_index2:]\n",
    "\n",
    "# index reset\n",
    "left_sf.reset_index(drop=True, inplace=True)\n",
    "right_sf.reset_index(drop=True, inplace=True)\n",
    "\n",
    "# displaying the split DataFrames\n",
    "display(left_sf)\n",
    "display(right_sf)"
   ]
  },
  {
   "cell_type": "code",
   "execution_count": 0,
   "metadata": {
    "application/vnd.databricks.v1+cell": {
     "cellMetadata": {
      "byteLimit": 2048000,
      "rowLimit": 10000
     },
     "inputWidgets": {},
     "nuid": "8d927735-2bd9-4cea-854d-ac0b2f27771c",
     "showTitle": false,
     "title": ""
    }
   },
   "outputs": [],
   "source": [
    "sf_row_pd = pd.DataFrame({col: [''] for col in sf_vis.columns})"
   ]
  },
  {
   "cell_type": "code",
   "execution_count": 0,
   "metadata": {
    "application/vnd.databricks.v1+cell": {
     "cellMetadata": {
      "byteLimit": 2048000,
      "rowLimit": 10000
     },
     "inputWidgets": {},
     "nuid": "b5c90260-842b-46eb-aa42-937982f209f6",
     "showTitle": false,
     "title": ""
    }
   },
   "outputs": [
    {
     "output_type": "display_data",
     "data": {
      "text/html": [
       "<style scoped>\n",
       "  .table-result-container {\n",
       "    max-height: 300px;\n",
       "    overflow: auto;\n",
       "  }\n",
       "  table, th, td {\n",
       "    border: 1px solid black;\n",
       "    border-collapse: collapse;\n",
       "  }\n",
       "  th, td {\n",
       "    padding: 5px;\n",
       "  }\n",
       "  th {\n",
       "    text-align: left;\n",
       "  }\n",
       "</style><div class='table-result-container'><table class='table-result'><thead style='background-color: white'><tr><th>L_SF_Teams</th><th>L_SF_Score</th></tr></thead><tbody><tr><td></td><td></td></tr><tr><td></td><td></td></tr><tr><td></td><td></td></tr><tr><td></td><td></td></tr><tr><td></td><td></td></tr><tr><td></td><td></td></tr><tr><td>Switzerland</td><td>3</td></tr><tr><td></td><td></td></tr><tr><td></td><td></td></tr><tr><td>Turkey</td><td>4</td></tr><tr><td></td><td></td></tr><tr><td></td><td></td></tr><tr><td></td><td></td></tr><tr><td></td><td></td></tr><tr><td></td><td></td></tr><tr><td></td><td></td></tr></tbody></table></div>"
      ]
     },
     "metadata": {
      "application/vnd.databricks.v1+output": {
       "addedWidgets": {},
       "aggData": [],
       "aggError": "",
       "aggOverflow": false,
       "aggSchema": [],
       "aggSeriesLimitReached": false,
       "aggType": "",
       "arguments": {},
       "columnCustomDisplayInfos": {},
       "data": [
        [
         "",
         ""
        ],
        [
         "",
         ""
        ],
        [
         "",
         ""
        ],
        [
         "",
         ""
        ],
        [
         "",
         ""
        ],
        [
         "",
         ""
        ],
        [
         "Switzerland",
         "3"
        ],
        [
         "",
         ""
        ],
        [
         "",
         ""
        ],
        [
         "Turkey",
         "4"
        ],
        [
         "",
         ""
        ],
        [
         "",
         ""
        ],
        [
         "",
         ""
        ],
        [
         "",
         ""
        ],
        [
         "",
         ""
        ],
        [
         "",
         ""
        ]
       ],
       "datasetInfos": [],
       "dbfsResultPath": null,
       "isJsonSchema": true,
       "metadata": {},
       "overflow": false,
       "plotOptions": {
        "customPlotOptions": {},
        "displayType": "table",
        "pivotAggregation": null,
        "pivotColumns": null,
        "xColumns": null,
        "yColumns": null
       },
       "removedWidgets": [],
       "schema": [
        {
         "metadata": "{}",
         "name": "L_SF_Teams",
         "type": "\"string\""
        },
        {
         "metadata": "{}",
         "name": "L_SF_Score",
         "type": "\"string\""
        }
       ],
       "type": "table"
      }
     },
     "output_type": "display_data"
    }
   ],
   "source": [
    "left_sf_grouped = [left_sf.iloc[i:i+1] for i in range(0, len(left_sf), 1)]\n",
    "\n",
    "for i in range(len(left_sf_grouped)):\n",
    "    if i < len(left_sf_grouped):\n",
    "        left_sf_grouped[i] = pd.concat([left_sf_grouped[i], sf_row_pd, sf_row_pd], ignore_index=True)\n",
    "\n",
    "left_sf_spaced = pd.concat(left_sf_grouped).reset_index(drop=True)\n",
    "\n",
    "for _ in range(6):\n",
    "    left_sf_spaced = pd.concat([sf_row_pd, left_sf_spaced], ignore_index=True)\n",
    "\n",
    "for _ in range(4):\n",
    "    left_sf_spaced = pd.concat([left_sf_spaced, sf_row_pd], ignore_index=True)\n",
    "\n",
    "lsf_new_column_name ={'SF_Teams': 'L_SF_Teams',\n",
    "                       'SF_Score': 'L_SF_Score'\n",
    "                       }\n",
    "\n",
    "left_sf_spaced = left_sf_spaced.rename(columns=lsf_new_column_name)\n",
    "\n",
    "display(left_sf_spaced)"
   ]
  },
  {
   "cell_type": "code",
   "execution_count": 0,
   "metadata": {
    "application/vnd.databricks.v1+cell": {
     "cellMetadata": {
      "byteLimit": 2048000,
      "rowLimit": 10000
     },
     "inputWidgets": {},
     "nuid": "b007bf61-3b9e-4fc6-b341-d3ff09004974",
     "showTitle": false,
     "title": ""
    }
   },
   "outputs": [
    {
     "output_type": "display_data",
     "data": {
      "text/html": [
       "<style scoped>\n",
       "  .table-result-container {\n",
       "    max-height: 300px;\n",
       "    overflow: auto;\n",
       "  }\n",
       "  table, th, td {\n",
       "    border: 1px solid black;\n",
       "    border-collapse: collapse;\n",
       "  }\n",
       "  th, td {\n",
       "    padding: 5px;\n",
       "  }\n",
       "  th {\n",
       "    text-align: left;\n",
       "  }\n",
       "</style><div class='table-result-container'><table class='table-result'><thead style='background-color: white'><tr><th>R_SF_Score</th><th>R_SF_Teams</th></tr></thead><tbody><tr><td></td><td></td></tr><tr><td></td><td></td></tr><tr><td></td><td></td></tr><tr><td></td><td></td></tr><tr><td></td><td></td></tr><tr><td></td><td></td></tr><tr><td>1</td><td>Slovenia</td></tr><tr><td></td><td></td></tr><tr><td></td><td></td></tr><tr><td>2</td><td>Denmark</td></tr><tr><td></td><td></td></tr><tr><td></td><td></td></tr><tr><td></td><td></td></tr><tr><td></td><td></td></tr><tr><td></td><td></td></tr><tr><td></td><td></td></tr></tbody></table></div>"
      ]
     },
     "metadata": {
      "application/vnd.databricks.v1+output": {
       "addedWidgets": {},
       "aggData": [],
       "aggError": "",
       "aggOverflow": false,
       "aggSchema": [],
       "aggSeriesLimitReached": false,
       "aggType": "",
       "arguments": {},
       "columnCustomDisplayInfos": {},
       "data": [
        [
         "",
         ""
        ],
        [
         "",
         ""
        ],
        [
         "",
         ""
        ],
        [
         "",
         ""
        ],
        [
         "",
         ""
        ],
        [
         "",
         ""
        ],
        [
         "1",
         "Slovenia"
        ],
        [
         "",
         ""
        ],
        [
         "",
         ""
        ],
        [
         "2",
         "Denmark"
        ],
        [
         "",
         ""
        ],
        [
         "",
         ""
        ],
        [
         "",
         ""
        ],
        [
         "",
         ""
        ],
        [
         "",
         ""
        ],
        [
         "",
         ""
        ]
       ],
       "datasetInfos": [],
       "dbfsResultPath": null,
       "isJsonSchema": true,
       "metadata": {},
       "overflow": false,
       "plotOptions": {
        "customPlotOptions": {},
        "displayType": "table",
        "pivotAggregation": null,
        "pivotColumns": null,
        "xColumns": null,
        "yColumns": null
       },
       "removedWidgets": [],
       "schema": [
        {
         "metadata": "{}",
         "name": "R_SF_Score",
         "type": "\"string\""
        },
        {
         "metadata": "{}",
         "name": "R_SF_Teams",
         "type": "\"string\""
        }
       ],
       "type": "table"
      }
     },
     "output_type": "display_data"
    }
   ],
   "source": [
    "right_sf_grouped = [right_sf.iloc[i:i+1] for i in range(0, len(right_sf), 1)]\n",
    "\n",
    "for i in range(len(right_sf_grouped)):\n",
    "    if i < len(right_sf_grouped):\n",
    "        right_sf_grouped[i] = pd.concat([right_sf_grouped[i], sf_row_pd, sf_row_pd], ignore_index=True)\n",
    "\n",
    "right_sf_spaced = pd.concat(right_sf_grouped).reset_index(drop=True)\n",
    "\n",
    "for _ in range(6):\n",
    "    right_sf_spaced = pd.concat([sf_row_pd, right_sf_spaced], ignore_index=True)\n",
    "\n",
    "for _ in range(4):\n",
    "    right_sf_spaced = pd.concat([right_sf_spaced, sf_row_pd], ignore_index=True)\n",
    "\n",
    "rsf_new_column_name ={'SF_Teams': 'R_SF_Teams',\n",
    "                       'SF_Score': 'R_SF_Score'\n",
    "                       }\n",
    "\n",
    "right_sf_spaced = right_sf_spaced.rename(columns=rsf_new_column_name)\n",
    "\n",
    "rsf_new_column_order = ['R_SF_Score', 'R_SF_Teams']\n",
    "right_sf_spaced = right_sf_spaced[rsf_new_column_order]\n",
    "\n",
    "display(right_sf_spaced)"
   ]
  },
  {
   "cell_type": "code",
   "execution_count": 0,
   "metadata": {
    "application/vnd.databricks.v1+cell": {
     "cellMetadata": {
      "byteLimit": 2048000,
      "rowLimit": 10000
     },
     "inputWidgets": {},
     "nuid": "7e72e4dd-2f60-46cb-90c8-c7c780601400",
     "showTitle": false,
     "title": ""
    }
   },
   "outputs": [
    {
     "output_type": "display_data",
     "data": {
      "text/html": [
       "<style scoped>\n",
       "  .table-result-container {\n",
       "    max-height: 300px;\n",
       "    overflow: auto;\n",
       "  }\n",
       "  table, th, td {\n",
       "    border: 1px solid black;\n",
       "    border-collapse: collapse;\n",
       "  }\n",
       "  th, td {\n",
       "    padding: 5px;\n",
       "  }\n",
       "  th {\n",
       "    text-align: left;\n",
       "  }\n",
       "</style><div class='table-result-container'><table class='table-result'><thead style='background-color: white'><tr><th>MatchID</th><th>Team1</th><th>Team1Goals</th><th>Team2Goals</th><th>Team2</th><th>MatchWinner</th><th>MatchStage</th></tr></thead><tbody><tr><td>16</td><td>Turkey</td><td>5</td><td>2</td><td>Denmark</td><td>Turkey</td><td>FIN</td></tr></tbody></table></div>"
      ]
     },
     "metadata": {
      "application/vnd.databricks.v1+output": {
       "addedWidgets": {},
       "aggData": [],
       "aggError": "",
       "aggOverflow": false,
       "aggSchema": [],
       "aggSeriesLimitReached": false,
       "aggType": "",
       "arguments": {},
       "columnCustomDisplayInfos": {},
       "data": [
        [
         "16",
         "Turkey",
         "5",
         "2",
         "Denmark",
         "Turkey",
         "FIN"
        ]
       ],
       "datasetInfos": [],
       "dbfsResultPath": null,
       "isJsonSchema": true,
       "metadata": {},
       "overflow": false,
       "plotOptions": {
        "customPlotOptions": {},
        "displayType": "table",
        "pivotAggregation": null,
        "pivotColumns": null,
        "xColumns": null,
        "yColumns": null
       },
       "removedWidgets": [],
       "schema": [
        {
         "metadata": "{}",
         "name": "MatchID",
         "type": "\"string\""
        },
        {
         "metadata": "{}",
         "name": "Team1",
         "type": "\"string\""
        },
        {
         "metadata": "{}",
         "name": "Team1Goals",
         "type": "\"string\""
        },
        {
         "metadata": "{}",
         "name": "Team2Goals",
         "type": "\"string\""
        },
        {
         "metadata": "{}",
         "name": "Team2",
         "type": "\"string\""
        },
        {
         "metadata": "{}",
         "name": "MatchWinner",
         "type": "\"string\""
        },
        {
         "metadata": "{}",
         "name": "MatchStage",
         "type": "\"string\""
        }
       ],
       "type": "table"
      }
     },
     "output_type": "display_data"
    }
   ],
   "source": [
    "fin = spark.sql(\"SELECT * FROM QualificationPlacement WHERE MatchStage = 'FIN'\")\n",
    "fin_pd = fin.toPandas()\n",
    "fin_pd = fin_pd.applymap(lambda x: str(x).split(\".\")[0])\n",
    "\n",
    "display(fin_pd)"
   ]
  },
  {
   "cell_type": "code",
   "execution_count": 0,
   "metadata": {
    "application/vnd.databricks.v1+cell": {
     "cellMetadata": {
      "byteLimit": 2048000,
      "rowLimit": 10000
     },
     "inputWidgets": {},
     "nuid": "e8b172c5-6f5c-4205-8cbf-ed9afac79a77",
     "showTitle": false,
     "title": ""
    }
   },
   "outputs": [
    {
     "output_type": "display_data",
     "data": {
      "text/html": [
       "<style scoped>\n",
       "  .table-result-container {\n",
       "    max-height: 300px;\n",
       "    overflow: auto;\n",
       "  }\n",
       "  table, th, td {\n",
       "    border: 1px solid black;\n",
       "    border-collapse: collapse;\n",
       "  }\n",
       "  th, td {\n",
       "    padding: 5px;\n",
       "  }\n",
       "  th {\n",
       "    text-align: left;\n",
       "  }\n",
       "</style><div class='table-result-container'><table class='table-result'><thead style='background-color: white'><tr><th>Fin_Teams</th><th>Fin_Score</th></tr></thead><tbody><tr><td>Turkey</td><td>5</td></tr><tr><td>Denmark</td><td>2</td></tr></tbody></table></div>"
      ]
     },
     "metadata": {
      "application/vnd.databricks.v1+output": {
       "addedWidgets": {},
       "aggData": [],
       "aggError": "",
       "aggOverflow": false,
       "aggSchema": [],
       "aggSeriesLimitReached": false,
       "aggType": "",
       "arguments": {},
       "columnCustomDisplayInfos": {},
       "data": [
        [
         "Turkey",
         "5"
        ],
        [
         "Denmark",
         "2"
        ]
       ],
       "datasetInfos": [],
       "dbfsResultPath": null,
       "isJsonSchema": true,
       "metadata": {},
       "overflow": false,
       "plotOptions": {
        "customPlotOptions": {},
        "displayType": "table",
        "pivotAggregation": null,
        "pivotColumns": null,
        "xColumns": null,
        "yColumns": null
       },
       "removedWidgets": [],
       "schema": [
        {
         "metadata": "{}",
         "name": "Fin_Teams",
         "type": "\"string\""
        },
        {
         "metadata": "{}",
         "name": "Fin_Score",
         "type": "\"string\""
        }
       ],
       "type": "table"
      }
     },
     "output_type": "display_data"
    }
   ],
   "source": [
    "#storing required data in df\n",
    "fin_vis = pd.DataFrame(columns=['Fin_Teams', 'Fin_Score'])\n",
    "\n",
    "#displaying all teams and respective scores in columns\n",
    "for index, row in fin_pd.iterrows():\n",
    "    team1 = row['Team1']\n",
    "    team1goals = row['Team1Goals']\n",
    "    team2 = row['Team2']\n",
    "    team2goals = row['Team2Goals']\n",
    "    fin_vis = pd.concat([fin_vis, pd.DataFrame({'Fin_Teams': [team1], 'Fin_Score': [team1goals]})], ignore_index=True)\n",
    "    fin_vis = pd.concat([fin_vis, pd.DataFrame({'Fin_Teams': [team2], 'Fin_Score': [team2goals]})], ignore_index=True)\n",
    "\n",
    "display(fin_vis)"
   ]
  },
  {
   "cell_type": "code",
   "execution_count": 0,
   "metadata": {
    "application/vnd.databricks.v1+cell": {
     "cellMetadata": {
      "byteLimit": 2048000,
      "rowLimit": 10000
     },
     "inputWidgets": {},
     "nuid": "25db7794-8d9c-4288-b63a-4aebb8cd352f",
     "showTitle": false,
     "title": ""
    }
   },
   "outputs": [],
   "source": [
    "fin_row_pd = pd.DataFrame({col: [''] for col in fin_vis.columns})"
   ]
  },
  {
   "cell_type": "code",
   "execution_count": 0,
   "metadata": {
    "application/vnd.databricks.v1+cell": {
     "cellMetadata": {
      "byteLimit": 2048000,
      "rowLimit": 10000
     },
     "inputWidgets": {},
     "nuid": "02736524-fb2b-4585-8679-1609bde07733",
     "showTitle": false,
     "title": ""
    }
   },
   "outputs": [
    {
     "output_type": "display_data",
     "data": {
      "text/html": [
       "<style scoped>\n",
       "  .table-result-container {\n",
       "    max-height: 300px;\n",
       "    overflow: auto;\n",
       "  }\n",
       "  table, th, td {\n",
       "    border: 1px solid black;\n",
       "    border-collapse: collapse;\n",
       "  }\n",
       "  th, td {\n",
       "    padding: 5px;\n",
       "  }\n",
       "  th {\n",
       "    text-align: left;\n",
       "  }\n",
       "</style><div class='table-result-container'><table class='table-result'><thead style='background-color: white'><tr><th>L_Fin_Teams</th><th>L_Fin_Score</th></tr></thead><tbody><tr><td></td><td></td></tr><tr><td></td><td></td></tr><tr><td></td><td></td></tr><tr><td></td><td></td></tr><tr><td></td><td></td></tr><tr><td></td><td></td></tr><tr><td></td><td></td></tr><tr><td></td><td></td></tr><tr><td>Turkey</td><td>5</td></tr><tr><td></td><td></td></tr><tr><td></td><td></td></tr><tr><td></td><td></td></tr><tr><td></td><td></td></tr><tr><td></td><td></td></tr><tr><td></td><td></td></tr><tr><td></td><td></td></tr></tbody></table></div>"
      ]
     },
     "metadata": {
      "application/vnd.databricks.v1+output": {
       "addedWidgets": {},
       "aggData": [],
       "aggError": "",
       "aggOverflow": false,
       "aggSchema": [],
       "aggSeriesLimitReached": false,
       "aggType": "",
       "arguments": {},
       "columnCustomDisplayInfos": {},
       "data": [
        [
         "",
         ""
        ],
        [
         "",
         ""
        ],
        [
         "",
         ""
        ],
        [
         "",
         ""
        ],
        [
         "",
         ""
        ],
        [
         "",
         ""
        ],
        [
         "",
         ""
        ],
        [
         "",
         ""
        ],
        [
         "Turkey",
         "5"
        ],
        [
         "",
         ""
        ],
        [
         "",
         ""
        ],
        [
         "",
         ""
        ],
        [
         "",
         ""
        ],
        [
         "",
         ""
        ],
        [
         "",
         ""
        ],
        [
         "",
         ""
        ]
       ],
       "datasetInfos": [],
       "dbfsResultPath": null,
       "isJsonSchema": true,
       "metadata": {},
       "overflow": false,
       "plotOptions": {
        "customPlotOptions": {},
        "displayType": "table",
        "pivotAggregation": null,
        "pivotColumns": null,
        "xColumns": null,
        "yColumns": null
       },
       "removedWidgets": [],
       "schema": [
        {
         "metadata": "{}",
         "name": "L_Fin_Teams",
         "type": "\"string\""
        },
        {
         "metadata": "{}",
         "name": "L_Fin_Score",
         "type": "\"string\""
        }
       ],
       "type": "table"
      }
     },
     "output_type": "display_data"
    },
    {
     "output_type": "display_data",
     "data": {
      "text/html": [
       "<style scoped>\n",
       "  .table-result-container {\n",
       "    max-height: 300px;\n",
       "    overflow: auto;\n",
       "  }\n",
       "  table, th, td {\n",
       "    border: 1px solid black;\n",
       "    border-collapse: collapse;\n",
       "  }\n",
       "  th, td {\n",
       "    padding: 5px;\n",
       "  }\n",
       "  th {\n",
       "    text-align: left;\n",
       "  }\n",
       "</style><div class='table-result-container'><table class='table-result'><thead style='background-color: white'><tr><th>R_Fin_Score</th><th>R_Fin_Teams</th></tr></thead><tbody><tr><td></td><td></td></tr><tr><td></td><td></td></tr><tr><td></td><td></td></tr><tr><td></td><td></td></tr><tr><td></td><td></td></tr><tr><td></td><td></td></tr><tr><td></td><td></td></tr><tr><td></td><td></td></tr><tr><td>2</td><td>Denmark</td></tr><tr><td></td><td></td></tr><tr><td></td><td></td></tr><tr><td></td><td></td></tr><tr><td></td><td></td></tr><tr><td></td><td></td></tr><tr><td></td><td></td></tr><tr><td></td><td></td></tr></tbody></table></div>"
      ]
     },
     "metadata": {
      "application/vnd.databricks.v1+output": {
       "addedWidgets": {},
       "aggData": [],
       "aggError": "",
       "aggOverflow": false,
       "aggSchema": [],
       "aggSeriesLimitReached": false,
       "aggType": "",
       "arguments": {},
       "columnCustomDisplayInfos": {},
       "data": [
        [
         "",
         ""
        ],
        [
         "",
         ""
        ],
        [
         "",
         ""
        ],
        [
         "",
         ""
        ],
        [
         "",
         ""
        ],
        [
         "",
         ""
        ],
        [
         "",
         ""
        ],
        [
         "",
         ""
        ],
        [
         "2",
         "Denmark"
        ],
        [
         "",
         ""
        ],
        [
         "",
         ""
        ],
        [
         "",
         ""
        ],
        [
         "",
         ""
        ],
        [
         "",
         ""
        ],
        [
         "",
         ""
        ],
        [
         "",
         ""
        ]
       ],
       "datasetInfos": [],
       "dbfsResultPath": null,
       "isJsonSchema": true,
       "metadata": {},
       "overflow": false,
       "plotOptions": {
        "customPlotOptions": {},
        "displayType": "table",
        "pivotAggregation": null,
        "pivotColumns": null,
        "xColumns": null,
        "yColumns": null
       },
       "removedWidgets": [],
       "schema": [
        {
         "metadata": "{}",
         "name": "R_Fin_Score",
         "type": "\"string\""
        },
        {
         "metadata": "{}",
         "name": "R_Fin_Teams",
         "type": "\"string\""
        }
       ],
       "type": "table"
      }
     },
     "output_type": "display_data"
    }
   ],
   "source": [
    "fin1 = fin_vis.iloc[:1]  # First value\n",
    "fin2 = fin_vis.iloc[1:]  # Second value\n",
    "\n",
    "for _ in range(8):\n",
    "    fin1 = pd.concat([fin_row_pd, fin1], ignore_index=True)\n",
    "    fin2 = pd.concat([fin_row_pd, fin2], ignore_index=True)\n",
    "\n",
    "for _ in range(7):\n",
    "    fin1 = pd.concat([fin1, fin_row_pd], ignore_index=True)\n",
    "    fin2 = pd.concat([fin2, fin_row_pd], ignore_index=True)\n",
    "\n",
    "lfin_new_column_name ={'Fin_Teams': 'L_Fin_Teams',\n",
    "                       'Fin_Score': 'L_Fin_Score'\n",
    "                       }\n",
    "rfin_new_column_name ={'Fin_Teams': 'R_Fin_Teams',\n",
    "                       'Fin_Score': 'R_Fin_Score'\n",
    "                       }\n",
    "\n",
    "fin1 = fin1.rename(columns=lfin_new_column_name)\n",
    "fin2 = fin2.rename(columns=rfin_new_column_name)\n",
    "\n",
    "rfin_new_column_order = ['R_Fin_Score', 'R_Fin_Teams']\n",
    "fin2 = fin2[rfin_new_column_order]\n",
    "\n",
    "display(fin1)\n",
    "display(fin2)"
   ]
  },
  {
   "cell_type": "code",
   "execution_count": 0,
   "metadata": {
    "application/vnd.databricks.v1+cell": {
     "cellMetadata": {
      "byteLimit": 2048000,
      "rowLimit": 10000
     },
     "inputWidgets": {},
     "nuid": "48e33e4e-76b0-4d47-9b64-4152cff77ddd",
     "showTitle": false,
     "title": ""
    }
   },
   "outputs": [
    {
     "output_type": "display_data",
     "data": {
      "text/html": [
       "<style scoped>\n",
       "  .table-result-container {\n",
       "    max-height: 300px;\n",
       "    overflow: auto;\n",
       "  }\n",
       "  table, th, td {\n",
       "    border: 1px solid black;\n",
       "    border-collapse: collapse;\n",
       "  }\n",
       "  th, td {\n",
       "    padding: 5px;\n",
       "  }\n",
       "  th {\n",
       "    text-align: left;\n",
       "  }\n",
       "</style><div class='table-result-container'><table class='table-result'><thead style='background-color: white'><tr><th>TournamentWinner</th></tr></thead><tbody><tr><td></td></tr><tr><td></td></tr><tr><td></td></tr><tr><td></td></tr><tr><td></td></tr><tr><td></td></tr><tr><td></td></tr><tr><td>Turkey</td></tr><tr><td></td></tr><tr><td></td></tr><tr><td></td></tr><tr><td></td></tr><tr><td></td></tr><tr><td></td></tr><tr><td></td></tr><tr><td></td></tr></tbody></table></div>"
      ]
     },
     "metadata": {
      "application/vnd.databricks.v1+output": {
       "addedWidgets": {},
       "aggData": [],
       "aggError": "",
       "aggOverflow": false,
       "aggSchema": [],
       "aggSeriesLimitReached": false,
       "aggType": "",
       "arguments": {},
       "columnCustomDisplayInfos": {},
       "data": [
        [
         ""
        ],
        [
         ""
        ],
        [
         ""
        ],
        [
         ""
        ],
        [
         ""
        ],
        [
         ""
        ],
        [
         ""
        ],
        [
         "Turkey"
        ],
        [
         ""
        ],
        [
         ""
        ],
        [
         ""
        ],
        [
         ""
        ],
        [
         ""
        ],
        [
         ""
        ],
        [
         ""
        ],
        [
         ""
        ]
       ],
       "datasetInfos": [],
       "dbfsResultPath": null,
       "isJsonSchema": true,
       "metadata": {},
       "overflow": false,
       "plotOptions": {
        "customPlotOptions": {},
        "displayType": "table",
        "pivotAggregation": null,
        "pivotColumns": null,
        "xColumns": null,
        "yColumns": null
       },
       "removedWidgets": [],
       "schema": [
        {
         "metadata": "{}",
         "name": "TournamentWinner",
         "type": "\"string\""
        }
       ],
       "type": "table"
      }
     },
     "output_type": "display_data"
    }
   ],
   "source": [
    "winner = spark.sql(\"SELECT MatchWinner FROM QualificationPlacement WHERE MatchStage = 'FIN'\")\n",
    "winner_pd = winner.toPandas()\n",
    "winner_pd = winner_pd.applymap(lambda x: str(x).split(\".\")[0])\n",
    "\n",
    "win_row_pd = pd.DataFrame({col: [''] for col in winner_pd.columns})\n",
    "\n",
    "for _ in range(7):\n",
    "    winner_pd = pd.concat([win_row_pd, winner_pd], ignore_index=True)\n",
    "\n",
    "for _ in range(8):\n",
    "    winner_pd = pd.concat([winner_pd, win_row_pd], ignore_index=True)\n",
    "\n",
    "fin_col = {\"MatchWinner\":\"TournamentWinner\"}\n",
    "winner_pd = winner_pd.rename(columns = fin_col)\n",
    "display(winner_pd)"
   ]
  },
  {
   "cell_type": "code",
   "execution_count": 0,
   "metadata": {
    "application/vnd.databricks.v1+cell": {
     "cellMetadata": {
      "byteLimit": 2048000,
      "rowLimit": 10000
     },
     "inputWidgets": {},
     "nuid": "df7a60e2-7daf-49cc-9d0c-866c1fa882e4",
     "showTitle": false,
     "title": ""
    }
   },
   "outputs": [
    {
     "output_type": "display_data",
     "data": {
      "text/html": [
       "<style scoped>\n",
       "  .table-result-container {\n",
       "    max-height: 300px;\n",
       "    overflow: auto;\n",
       "  }\n",
       "  table, th, td {\n",
       "    border: 1px solid black;\n",
       "    border-collapse: collapse;\n",
       "  }\n",
       "  th, td {\n",
       "    padding: 5px;\n",
       "  }\n",
       "  th {\n",
       "    text-align: left;\n",
       "  }\n",
       "</style><div class='table-result-container'><table class='table-result'><thead style='background-color: white'><tr><th>L_Grp/Pos</th><th>L_Country</th><th>L_MP</th><th>L_W</th><th>L-D</th><th>L_L</th><th>L-GF</th><th>L_GA</th><th>L_GD</th><th>L_Pts</th><th>L_R16_Teams</th><th>L_R16_Score</th><th>L_QF_Teams</th><th>L_QF_Score</th><th>L_SF_Teams</th><th>L_SF_Score</th><th>L_Fin_Teams</th><th>L_Fin_Score</th><th>TournamentWinner</th><th>R_Fin_Score</th><th>R_Fin_Teams</th><th>R_SF_Score</th><th>R_SF_Teams</th><th>R_QF_Score</th><th>R_QF_Teams</th><th>R_R16_Score</th><th>R_R16_Teams</th><th>R_Grp/Pos</th><th>R_Country</th><th>R_MP</th><th>R_W</th><th>R-D</th><th>R_L</th><th>R-GF</th><th>R_GA</th><th>R_GD</th><th>R_Pts</th></tr></thead><tbody><tr><td>A1</td><td>Switzerland</td><td>3</td><td>2</td><td>1</td><td>0</td><td>12</td><td>8</td><td>4</td><td>7</td><td></td><td></td><td></td><td></td><td></td><td></td><td></td><td></td><td></td><td></td><td></td><td></td><td></td><td></td><td></td><td></td><td></td><td>D1</td><td>France</td><td>3</td><td>3</td><td>0</td><td>0</td><td>9</td><td>5</td><td>4</td><td>9</td></tr><tr><td>A2</td><td>Germany</td><td>3</td><td>1</td><td>1</td><td>1</td><td>11</td><td>9</td><td>2</td><td>4</td><td>Italy</td><td>0</td><td></td><td></td><td></td><td></td><td></td><td></td><td></td><td></td><td></td><td></td><td></td><td></td><td></td><td>0</td><td>Romania</td><td>D2</td><td>Poland</td><td>3</td><td>1</td><td>1</td><td>1</td><td>11</td><td>9</td><td>2</td><td>4</td></tr><tr><td>A3</td><td>Scotland</td><td>3</td><td>1</td><td>1</td><td>1</td><td>4</td><td>5</td><td>-1</td><td>4</td><td>Belgium</td><td>2</td><td></td><td></td><td></td><td></td><td></td><td></td><td></td><td></td><td></td><td></td><td></td><td></td><td></td><td>5</td><td>Slovenia</td><td>D3</td><td>Netherlands</td><td>3</td><td>1</td><td>0</td><td>2</td><td>3</td><td>7</td><td>-4</td><td>3</td></tr><tr><td>A4</td><td>Hungary</td><td>3</td><td>0</td><td>1</td><td>2</td><td>7</td><td>12</td><td>-5</td><td>1</td><td></td><td></td><td></td><td></td><td></td><td></td><td></td><td></td><td></td><td></td><td></td><td></td><td></td><td></td><td></td><td></td><td></td><td>D4</td><td>Austria</td><td>3</td><td>0</td><td>1</td><td>2</td><td>8</td><td>10</td><td>-2</td><td>1</td></tr><tr><td></td><td></td><td></td><td></td><td></td><td></td><td></td><td></td><td></td><td></td><td></td><td></td><td>Belgium</td><td>1</td><td></td><td></td><td></td><td></td><td></td><td></td><td></td><td></td><td></td><td>4</td><td>Slovenia</td><td></td><td></td><td></td><td></td><td></td><td></td><td></td><td></td><td></td><td></td><td></td><td></td></tr><tr><td></td><td></td><td></td><td></td><td></td><td></td><td></td><td></td><td></td><td></td><td>Switzerland</td><td>5</td><td>Switzerland</td><td>4</td><td></td><td></td><td></td><td></td><td></td><td></td><td></td><td></td><td></td><td>1</td><td>France</td><td>5</td><td>France</td><td></td><td></td><td></td><td></td><td></td><td></td><td></td><td></td><td></td><td></td></tr><tr><td>B1</td><td>Italy</td><td>3</td><td>2</td><td>0</td><td>1</td><td>8</td><td>7</td><td>1</td><td>6</td><td>Serbia</td><td>3</td><td></td><td></td><td>Switzerland</td><td>3</td><td></td><td></td><td></td><td></td><td></td><td>1</td><td>Slovenia</td><td></td><td></td><td>1</td><td>Greece</td><td>E1</td><td>Romania</td><td>3</td><td>1</td><td>2</td><td>0</td><td>8</td><td>4</td><td>4</td><td>5</td></tr><tr><td>B2</td><td>Spain</td><td>3</td><td>1</td><td>2</td><td>0</td><td>11</td><td>7</td><td>4</td><td>5</td><td></td><td></td><td></td><td></td><td></td><td></td><td></td><td></td><td>Turkey</td><td></td><td></td><td></td><td></td><td></td><td></td><td></td><td></td><td>E2</td><td>Slovakia</td><td>3</td><td>1</td><td>2</td><td>0</td><td>11</td><td>10</td><td>1</td><td>5</td></tr><tr><td>B3</td><td>Croatia</td><td>3</td><td>0</td><td>2</td><td>1</td><td>5</td><td>7</td><td>-2</td><td>2</td><td></td><td></td><td></td><td></td><td></td><td></td><td>Turkey</td><td>5</td><td></td><td>2</td><td>Denmark</td><td></td><td></td><td></td><td></td><td></td><td></td><td>E3</td><td>Belgium</td><td>3</td><td>1</td><td>0</td><td>2</td><td>4</td><td>8</td><td>-4</td><td>3</td></tr><tr><td>B4</td><td>Albania</td><td>3</td><td>0</td><td>2</td><td>1</td><td>5</td><td>8</td><td>-3</td><td>2</td><td>Turkey</td><td>5</td><td></td><td></td><td>Turkey</td><td>4</td><td></td><td></td><td></td><td></td><td></td><td>2</td><td>Denmark</td><td></td><td></td><td>4</td><td>Denmark</td><td>E4</td><td>Ukraine</td><td>3</td><td>0</td><td>2</td><td>1</td><td>5</td><td>6</td><td>-1</td><td>2</td></tr><tr><td></td><td></td><td></td><td></td><td></td><td></td><td></td><td></td><td></td><td></td><td>Scotland</td><td>2</td><td>Turkey</td><td>4</td><td></td><td></td><td></td><td></td><td></td><td></td><td></td><td></td><td></td><td>5</td><td>Denmark</td><td>4</td><td>Portugal</td><td></td><td></td><td></td><td></td><td></td><td></td><td></td><td></td><td></td><td></td></tr><tr><td></td><td></td><td></td><td></td><td></td><td></td><td></td><td></td><td></td><td></td><td></td><td></td><td>Poland</td><td>1</td><td></td><td></td><td></td><td></td><td></td><td></td><td></td><td></td><td></td><td>3</td><td>Spain</td><td></td><td></td><td></td><td></td><td></td><td></td><td></td><td></td><td></td><td></td><td></td><td></td></tr><tr><td>C1</td><td>Denmark</td><td>3</td><td>3</td><td>0</td><td>0</td><td>7</td><td>3</td><td>4</td><td>9</td><td></td><td></td><td></td><td></td><td></td><td></td><td></td><td></td><td></td><td></td><td></td><td></td><td></td><td></td><td></td><td></td><td></td><td>F1</td><td>Turkey</td><td>3</td><td>3</td><td>0</td><td>0</td><td>10</td><td>3</td><td>7</td><td>9</td></tr><tr><td>C2</td><td>Serbia</td><td>3</td><td>2</td><td>0</td><td>1</td><td>7</td><td>2</td><td>5</td><td>6</td><td>Poland</td><td>2</td><td></td><td></td><td></td><td></td><td></td><td></td><td></td><td></td><td></td><td></td><td></td><td></td><td></td><td>1</td><td>Germany</td><td>F2</td><td>Greece</td><td>3</td><td>2</td><td>0</td><td>1</td><td>8</td><td>9</td><td>-1</td><td>6</td></tr><tr><td>C3</td><td>Slovenia</td><td>3</td><td>1</td><td>0</td><td>2</td><td>9</td><td>8</td><td>1</td><td>3</td><td>Slovakia</td><td>2</td><td></td><td></td><td></td><td></td><td></td><td></td><td></td><td></td><td></td><td></td><td></td><td></td><td></td><td>3</td><td>Spain</td><td>F3</td><td>Portugal</td><td>3</td><td>1</td><td>0</td><td>2</td><td>3</td><td>4</td><td>-1</td><td>3</td></tr><tr><td>C4</td><td>England</td><td>3</td><td>0</td><td>0</td><td>3</td><td>2</td><td>12</td><td>-10</td><td>0</td><td></td><td></td><td></td><td></td><td></td><td></td><td></td><td></td><td></td><td></td><td></td><td></td><td></td><td></td><td></td><td></td><td></td><td>F4</td><td>Czech Republic</td><td>3</td><td>0</td><td>0</td><td>3</td><td>6</td><td>11</td><td>-5</td><td>0</td></tr></tbody></table></div>"
      ]
     },
     "metadata": {
      "application/vnd.databricks.v1+output": {
       "addedWidgets": {},
       "aggData": [],
       "aggError": "",
       "aggOverflow": false,
       "aggSchema": [],
       "aggSeriesLimitReached": false,
       "aggType": "",
       "arguments": {},
       "columnCustomDisplayInfos": {},
       "data": [
        [
         "A1",
         "Switzerland",
         "3",
         "2",
         "1",
         "0",
         "12",
         "8",
         "4",
         "7",
         "",
         "",
         "",
         "",
         "",
         "",
         "",
         "",
         "",
         "",
         "",
         "",
         "",
         "",
         "",
         "",
         "",
         "D1",
         "France",
         "3",
         "3",
         "0",
         "0",
         "9",
         "5",
         "4",
         "9"
        ],
        [
         "A2",
         "Germany",
         "3",
         "1",
         "1",
         "1",
         "11",
         "9",
         "2",
         "4",
         "Italy",
         "0",
         "",
         "",
         "",
         "",
         "",
         "",
         "",
         "",
         "",
         "",
         "",
         "",
         "",
         "0",
         "Romania",
         "D2",
         "Poland",
         "3",
         "1",
         "1",
         "1",
         "11",
         "9",
         "2",
         "4"
        ],
        [
         "A3",
         "Scotland",
         "3",
         "1",
         "1",
         "1",
         "4",
         "5",
         "-1",
         "4",
         "Belgium",
         "2",
         "",
         "",
         "",
         "",
         "",
         "",
         "",
         "",
         "",
         "",
         "",
         "",
         "",
         "5",
         "Slovenia",
         "D3",
         "Netherlands",
         "3",
         "1",
         "0",
         "2",
         "3",
         "7",
         "-4",
         "3"
        ],
        [
         "A4",
         "Hungary",
         "3",
         "0",
         "1",
         "2",
         "7",
         "12",
         "-5",
         "1",
         "",
         "",
         "",
         "",
         "",
         "",
         "",
         "",
         "",
         "",
         "",
         "",
         "",
         "",
         "",
         "",
         "",
         "D4",
         "Austria",
         "3",
         "0",
         "1",
         "2",
         "8",
         "10",
         "-2",
         "1"
        ],
        [
         "",
         "",
         "",
         "",
         "",
         "",
         "",
         "",
         "",
         "",
         "",
         "",
         "Belgium",
         "1",
         "",
         "",
         "",
         "",
         "",
         "",
         "",
         "",
         "",
         "4",
         "Slovenia",
         "",
         "",
         "",
         "",
         "",
         "",
         "",
         "",
         "",
         "",
         "",
         ""
        ],
        [
         "",
         "",
         "",
         "",
         "",
         "",
         "",
         "",
         "",
         "",
         "Switzerland",
         "5",
         "Switzerland",
         "4",
         "",
         "",
         "",
         "",
         "",
         "",
         "",
         "",
         "",
         "1",
         "France",
         "5",
         "France",
         "",
         "",
         "",
         "",
         "",
         "",
         "",
         "",
         "",
         ""
        ],
        [
         "B1",
         "Italy",
         "3",
         "2",
         "0",
         "1",
         "8",
         "7",
         "1",
         "6",
         "Serbia",
         "3",
         "",
         "",
         "Switzerland",
         "3",
         "",
         "",
         "",
         "",
         "",
         "1",
         "Slovenia",
         "",
         "",
         "1",
         "Greece",
         "E1",
         "Romania",
         "3",
         "1",
         "2",
         "0",
         "8",
         "4",
         "4",
         "5"
        ],
        [
         "B2",
         "Spain",
         "3",
         "1",
         "2",
         "0",
         "11",
         "7",
         "4",
         "5",
         "",
         "",
         "",
         "",
         "",
         "",
         "",
         "",
         "Turkey",
         "",
         "",
         "",
         "",
         "",
         "",
         "",
         "",
         "E2",
         "Slovakia",
         "3",
         "1",
         "2",
         "0",
         "11",
         "10",
         "1",
         "5"
        ],
        [
         "B3",
         "Croatia",
         "3",
         "0",
         "2",
         "1",
         "5",
         "7",
         "-2",
         "2",
         "",
         "",
         "",
         "",
         "",
         "",
         "Turkey",
         "5",
         "",
         "2",
         "Denmark",
         "",
         "",
         "",
         "",
         "",
         "",
         "E3",
         "Belgium",
         "3",
         "1",
         "0",
         "2",
         "4",
         "8",
         "-4",
         "3"
        ],
        [
         "B4",
         "Albania",
         "3",
         "0",
         "2",
         "1",
         "5",
         "8",
         "-3",
         "2",
         "Turkey",
         "5",
         "",
         "",
         "Turkey",
         "4",
         "",
         "",
         "",
         "",
         "",
         "2",
         "Denmark",
         "",
         "",
         "4",
         "Denmark",
         "E4",
         "Ukraine",
         "3",
         "0",
         "2",
         "1",
         "5",
         "6",
         "-1",
         "2"
        ],
        [
         "",
         "",
         "",
         "",
         "",
         "",
         "",
         "",
         "",
         "",
         "Scotland",
         "2",
         "Turkey",
         "4",
         "",
         "",
         "",
         "",
         "",
         "",
         "",
         "",
         "",
         "5",
         "Denmark",
         "4",
         "Portugal",
         "",
         "",
         "",
         "",
         "",
         "",
         "",
         "",
         "",
         ""
        ],
        [
         "",
         "",
         "",
         "",
         "",
         "",
         "",
         "",
         "",
         "",
         "",
         "",
         "Poland",
         "1",
         "",
         "",
         "",
         "",
         "",
         "",
         "",
         "",
         "",
         "3",
         "Spain",
         "",
         "",
         "",
         "",
         "",
         "",
         "",
         "",
         "",
         "",
         "",
         ""
        ],
        [
         "C1",
         "Denmark",
         "3",
         "3",
         "0",
         "0",
         "7",
         "3",
         "4",
         "9",
         "",
         "",
         "",
         "",
         "",
         "",
         "",
         "",
         "",
         "",
         "",
         "",
         "",
         "",
         "",
         "",
         "",
         "F1",
         "Turkey",
         "3",
         "3",
         "0",
         "0",
         "10",
         "3",
         "7",
         "9"
        ],
        [
         "C2",
         "Serbia",
         "3",
         "2",
         "0",
         "1",
         "7",
         "2",
         "5",
         "6",
         "Poland",
         "2",
         "",
         "",
         "",
         "",
         "",
         "",
         "",
         "",
         "",
         "",
         "",
         "",
         "",
         "1",
         "Germany",
         "F2",
         "Greece",
         "3",
         "2",
         "0",
         "1",
         "8",
         "9",
         "-1",
         "6"
        ],
        [
         "C3",
         "Slovenia",
         "3",
         "1",
         "0",
         "2",
         "9",
         "8",
         "1",
         "3",
         "Slovakia",
         "2",
         "",
         "",
         "",
         "",
         "",
         "",
         "",
         "",
         "",
         "",
         "",
         "",
         "",
         "3",
         "Spain",
         "F3",
         "Portugal",
         "3",
         "1",
         "0",
         "2",
         "3",
         "4",
         "-1",
         "3"
        ],
        [
         "C4",
         "England",
         "3",
         "0",
         "0",
         "3",
         "2",
         "12",
         "-10",
         "0",
         "",
         "",
         "",
         "",
         "",
         "",
         "",
         "",
         "",
         "",
         "",
         "",
         "",
         "",
         "",
         "",
         "",
         "F4",
         "Czech Republic",
         "3",
         "0",
         "0",
         "3",
         "6",
         "11",
         "-5",
         "0"
        ]
       ],
       "datasetInfos": [],
       "dbfsResultPath": null,
       "isJsonSchema": true,
       "metadata": {},
       "overflow": false,
       "plotOptions": {
        "customPlotOptions": {},
        "displayType": "table",
        "pivotAggregation": null,
        "pivotColumns": null,
        "xColumns": null,
        "yColumns": null
       },
       "removedWidgets": [],
       "schema": [
        {
         "metadata": "{}",
         "name": "L_Grp/Pos",
         "type": "\"string\""
        },
        {
         "metadata": "{}",
         "name": "L_Country",
         "type": "\"string\""
        },
        {
         "metadata": "{}",
         "name": "L_MP",
         "type": "\"string\""
        },
        {
         "metadata": "{}",
         "name": "L_W",
         "type": "\"string\""
        },
        {
         "metadata": "{}",
         "name": "L-D",
         "type": "\"string\""
        },
        {
         "metadata": "{}",
         "name": "L_L",
         "type": "\"string\""
        },
        {
         "metadata": "{}",
         "name": "L-GF",
         "type": "\"string\""
        },
        {
         "metadata": "{}",
         "name": "L_GA",
         "type": "\"string\""
        },
        {
         "metadata": "{}",
         "name": "L_GD",
         "type": "\"string\""
        },
        {
         "metadata": "{}",
         "name": "L_Pts",
         "type": "\"string\""
        },
        {
         "metadata": "{}",
         "name": "L_R16_Teams",
         "type": "\"string\""
        },
        {
         "metadata": "{}",
         "name": "L_R16_Score",
         "type": "\"string\""
        },
        {
         "metadata": "{}",
         "name": "L_QF_Teams",
         "type": "\"string\""
        },
        {
         "metadata": "{}",
         "name": "L_QF_Score",
         "type": "\"string\""
        },
        {
         "metadata": "{}",
         "name": "L_SF_Teams",
         "type": "\"string\""
        },
        {
         "metadata": "{}",
         "name": "L_SF_Score",
         "type": "\"string\""
        },
        {
         "metadata": "{}",
         "name": "L_Fin_Teams",
         "type": "\"string\""
        },
        {
         "metadata": "{}",
         "name": "L_Fin_Score",
         "type": "\"string\""
        },
        {
         "metadata": "{}",
         "name": "TournamentWinner",
         "type": "\"string\""
        },
        {
         "metadata": "{}",
         "name": "R_Fin_Score",
         "type": "\"string\""
        },
        {
         "metadata": "{}",
         "name": "R_Fin_Teams",
         "type": "\"string\""
        },
        {
         "metadata": "{}",
         "name": "R_SF_Score",
         "type": "\"string\""
        },
        {
         "metadata": "{}",
         "name": "R_SF_Teams",
         "type": "\"string\""
        },
        {
         "metadata": "{}",
         "name": "R_QF_Score",
         "type": "\"string\""
        },
        {
         "metadata": "{}",
         "name": "R_QF_Teams",
         "type": "\"string\""
        },
        {
         "metadata": "{}",
         "name": "R_R16_Score",
         "type": "\"string\""
        },
        {
         "metadata": "{}",
         "name": "R_R16_Teams",
         "type": "\"string\""
        },
        {
         "metadata": "{}",
         "name": "R_Grp/Pos",
         "type": "\"string\""
        },
        {
         "metadata": "{}",
         "name": "R_Country",
         "type": "\"string\""
        },
        {
         "metadata": "{}",
         "name": "R_MP",
         "type": "\"string\""
        },
        {
         "metadata": "{}",
         "name": "R_W",
         "type": "\"string\""
        },
        {
         "metadata": "{}",
         "name": "R-D",
         "type": "\"string\""
        },
        {
         "metadata": "{}",
         "name": "R_L",
         "type": "\"string\""
        },
        {
         "metadata": "{}",
         "name": "R-GF",
         "type": "\"string\""
        },
        {
         "metadata": "{}",
         "name": "R_GA",
         "type": "\"string\""
        },
        {
         "metadata": "{}",
         "name": "R_GD",
         "type": "\"string\""
        },
        {
         "metadata": "{}",
         "name": "R_Pts",
         "type": "\"string\""
        }
       ],
       "type": "table"
      }
     },
     "output_type": "display_data"
    }
   ],
   "source": [
    "# Concatenating DataFrames with keys\n",
    "knockout_df = pd.concat([left_gs_spaced,\n",
    "                        left_r16_spaced, \n",
    "                        left_qf_spaced, \n",
    "                        left_sf_spaced,\n",
    "                        fin1,\n",
    "                        winner_pd,\n",
    "                        fin2,\n",
    "                        right_sf_spaced,\n",
    "                        right_qf_spaced,\n",
    "                        right_r16_spaced,\n",
    "                        right_gs_spaced\n",
    "                         ], \n",
    "                        axis=1, \n",
    "                        # keys=['left_gs', 'left_r16', 'left_qf', 'left_sf', 'fin1', 'winner', 'fin2', 'right_sf', 'right_qf', 'right_r16', 'right_gs']\n",
    "                        )\n",
    "\n",
    "# Displaying the concatenated DataFrame\n",
    "display(knockout_df)"
   ]
  },
  {
   "cell_type": "markdown",
   "metadata": {
    "application/vnd.databricks.v1+cell": {
     "cellMetadata": {
      "byteLimit": 2048000,
      "rowLimit": 10000
     },
     "inputWidgets": {},
     "nuid": "dfb907c1-38af-40ee-94e5-082aecb27774",
     "showTitle": false,
     "title": ""
    }
   },
   "source": [
    "#Podium Position\n",
    "Just for fun (idk how to use matplotlib properly. GPT Helped)"
   ]
  },
  {
   "cell_type": "code",
   "execution_count": 0,
   "metadata": {
    "application/vnd.databricks.v1+cell": {
     "cellMetadata": {
      "byteLimit": 2048000,
      "rowLimit": 10000
     },
     "inputWidgets": {},
     "nuid": "9aa43c11-ed28-4a12-a9b8-f3fde714cdc9",
     "showTitle": false,
     "title": ""
    }
   },
   "outputs": [
    {
     "output_type": "display_data",
     "data": {
      "text/html": [
       "<style scoped>\n",
       "  .table-result-container {\n",
       "    max-height: 300px;\n",
       "    overflow: auto;\n",
       "  }\n",
       "  table, th, td {\n",
       "    border: 1px solid black;\n",
       "    border-collapse: collapse;\n",
       "  }\n",
       "  th, td {\n",
       "    padding: 5px;\n",
       "  }\n",
       "  th {\n",
       "    text-align: left;\n",
       "  }\n",
       "</style><div class='table-result-container'><table class='table-result'><thead style='background-color: white'><tr><th>Euro_Cup_Winners</th></tr></thead><tbody><tr><td>Turkey</td></tr></tbody></table></div>"
      ]
     },
     "metadata": {
      "application/vnd.databricks.v1+output": {
       "addedWidgets": {},
       "aggData": [],
       "aggError": "",
       "aggOverflow": false,
       "aggSchema": [],
       "aggSeriesLimitReached": false,
       "aggType": "",
       "arguments": {},
       "columnCustomDisplayInfos": {},
       "data": [
        [
         "Turkey"
        ]
       ],
       "datasetInfos": [],
       "dbfsResultPath": null,
       "isJsonSchema": true,
       "metadata": {},
       "overflow": false,
       "plotOptions": {
        "customPlotOptions": {},
        "displayType": "table",
        "pivotAggregation": null,
        "pivotColumns": null,
        "xColumns": null,
        "yColumns": null
       },
       "removedWidgets": [],
       "schema": [
        {
         "metadata": "{\"__CHAR_VARCHAR_TYPE_STRING\":\"varchar(53)\"}",
         "name": "Euro_Cup_Winners",
         "type": "\"string\""
        }
       ],
       "type": "table"
      }
     },
     "output_type": "display_data"
    },
    {
     "output_type": "display_data",
     "data": {
      "text/html": [
       "<style scoped>\n",
       "  .table-result-container {\n",
       "    max-height: 300px;\n",
       "    overflow: auto;\n",
       "  }\n",
       "  table, th, td {\n",
       "    border: 1px solid black;\n",
       "    border-collapse: collapse;\n",
       "  }\n",
       "  th, td {\n",
       "    padding: 5px;\n",
       "  }\n",
       "  th {\n",
       "    text-align: left;\n",
       "  }\n",
       "</style><div class='table-result-container'><table class='table-result'><thead style='background-color: white'><tr><th>Euro_Cup_RunnersUp</th></tr></thead><tbody><tr><td>Denmark</td></tr></tbody></table></div>"
      ]
     },
     "metadata": {
      "application/vnd.databricks.v1+output": {
       "addedWidgets": {},
       "aggData": [],
       "aggError": "",
       "aggOverflow": false,
       "aggSchema": [],
       "aggSeriesLimitReached": false,
       "aggType": "",
       "arguments": {},
       "columnCustomDisplayInfos": {},
       "data": [
        [
         "Denmark"
        ]
       ],
       "datasetInfos": [],
       "dbfsResultPath": null,
       "isJsonSchema": true,
       "metadata": {},
       "overflow": false,
       "plotOptions": {
        "customPlotOptions": {},
        "displayType": "table",
        "pivotAggregation": null,
        "pivotColumns": null,
        "xColumns": null,
        "yColumns": null
       },
       "removedWidgets": [],
       "schema": [
        {
         "metadata": "{}",
         "name": "Euro_Cup_RunnersUp",
         "type": "\"string\""
        }
       ],
       "type": "table"
      }
     },
     "output_type": "display_data"
    },
    {
     "output_type": "display_data",
     "data": {
      "text/html": [
       "<style scoped>\n",
       "  .table-result-container {\n",
       "    max-height: 300px;\n",
       "    overflow: auto;\n",
       "  }\n",
       "  table, th, td {\n",
       "    border: 1px solid black;\n",
       "    border-collapse: collapse;\n",
       "  }\n",
       "  th, td {\n",
       "    padding: 5px;\n",
       "  }\n",
       "  th {\n",
       "    text-align: left;\n",
       "  }\n",
       "</style><div class='table-result-container'><table class='table-result'><thead style='background-color: white'><tr><th>Euro_Cup_ThirdPlace</th></tr></thead><tbody><tr><td>Slovenia</td></tr></tbody></table></div>"
      ]
     },
     "metadata": {
      "application/vnd.databricks.v1+output": {
       "addedWidgets": {},
       "aggData": [],
       "aggError": "",
       "aggOverflow": false,
       "aggSchema": [],
       "aggSeriesLimitReached": false,
       "aggType": "",
       "arguments": {},
       "columnCustomDisplayInfos": {},
       "data": [
        [
         "Slovenia"
        ]
       ],
       "datasetInfos": [],
       "dbfsResultPath": null,
       "isJsonSchema": true,
       "metadata": {},
       "overflow": false,
       "plotOptions": {
        "customPlotOptions": {},
        "displayType": "table",
        "pivotAggregation": null,
        "pivotColumns": null,
        "xColumns": null,
        "yColumns": null
       },
       "removedWidgets": [],
       "schema": [
        {
         "metadata": "{\"__CHAR_VARCHAR_TYPE_STRING\":\"varchar(53)\"}",
         "name": "Euro_Cup_ThirdPlace",
         "type": "\"string\""
        }
       ],
       "type": "table"
      }
     },
     "output_type": "display_data"
    }
   ],
   "source": [
    "import matplotlib.pyplot as plt\n",
    "\n",
    "first = spark.sql(\"SELECT MatchWinner AS Euro_Cup_Winners FROM QualificationPlacement WHERE MatchStage = 'FIN'\")\n",
    "second = spark.sql(\"SELECT CASE WHEN Team1 = MatchWinner THEN Team2 ELSE Team1  END AS Euro_Cup_RunnersUp FROM QualificationPlacement WHERE MatchStage = 'FIN'\")\n",
    "third = spark.sql(\"SELECT MatchWinner AS Euro_Cup_ThirdPlace FROM QualificationPlacement WHERE MatchStage = 'TP'\")\n",
    "display(first)\n",
    "display(second)\n",
    "display(third)"
   ]
  },
  {
   "cell_type": "code",
   "execution_count": 0,
   "metadata": {
    "application/vnd.databricks.v1+cell": {
     "cellMetadata": {
      "byteLimit": 2048000,
      "rowLimit": 10000
     },
     "inputWidgets": {},
     "nuid": "69fa6245-4667-43ed-b470-6f0e09d21a86",
     "showTitle": false,
     "title": ""
    }
   },
   "outputs": [
    {
     "output_type": "display_data",
     "data": {
      "image/png": "[encoded data removed]"
     },
     "metadata": {
      "application/vnd.databricks.v1+output": {
       "addedWidgets": {},
       "arguments": {},
       "data": "data:image/png;base64,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\n",
       "datasetInfos": [],
       "metadata": {},
       "removedWidgets": [],
       "type": "image"
      }
     },
     "output_type": "display_data"
    }
   ],
   "source": [
    "# Collecting names from DataFrames\n",
    "first_name = first.collect()[0][\"Euro_Cup_Winners\"]\n",
    "second_name = second.collect()[0][\"Euro_Cup_RunnersUp\"]\n",
    "third_name = third.collect()[0][\"Euro_Cup_ThirdPlace\"]\n",
    "\n",
    "# Create podium visualization\n",
    "plt.figure(figsize=(8, 6))\n",
    "\n",
    "# Create bars with adjusted positions and heights\n",
    "plt.bar(1, 1, color='silver', width=0.5)\n",
    "plt.bar(2, 1.2, color='gold', width=0.5)\n",
    "plt.bar(3, 0.8, color='#cd7f32', width=0.5)\n",
    "\n",
    "# Add text annotations with adjusted positions and rotation\n",
    "plt.text(1, 0.5, second_name, ha='center', va='center', color='white', rotation=90, fontsize=30)\n",
    "plt.text(2, 0.6, first_name, ha='center', va='center', color='black', rotation=90, fontsize=30)\n",
    "plt.text(3, 0.4, third_name, ha='center', va='center', color='white', rotation=90, fontsize=30)\n",
    "\n",
    "# Set axis labels and title\n",
    "plt.title('Euro Cup Podium')\n",
    "\n",
    "# Set x-axis ticks to represent positions\n",
    "plt.xticks([1, 2, 3], ['Silver (2nd)', 'Gold (1st)', 'Bronze (3rd)'])\n",
    "\n",
    "# Hide y-axis\n",
    "plt.gca().axes.get_yaxis().set_visible(False)\n",
    "\n",
    "# Show the plot\n",
    "plt.show()"
   ]
  }
 ],
 "metadata": {
  "application/vnd.databricks.v1+notebook": {
   "dashboards": [],
   "language": "python",
   "notebookMetadata": {
    "pythonIndentUnit": 4
   },
   "notebookName": "EuroSQL_Visible",
   "widgets": {}
  }
 },
 "nbformat": 4,
 "nbformat_minor": 0
}
