{
 "cells": [
  {
   "cell_type": "markdown",
   "metadata": {
    "application/vnd.databricks.v1+cell": {
     "cellMetadata": {
      "byteLimit": 2048000,
      "rowLimit": 10000
     },
     "inputWidgets": {},
     "nuid": "2d43acc2-2db7-4132-adff-1b723c3b3031",
     "showTitle": false,
     "title": ""
    }
   },
   "source": [
    "#Visualization EuroSQL"
   ]
  },
  {
   "cell_type": "code",
   "execution_count": 0,
   "metadata": {
    "application/vnd.databricks.v1+cell": {
     "cellMetadata": {
      "byteLimit": 2048000,
      "rowLimit": 10000
     },
     "inputWidgets": {},
     "nuid": "9998a8e4-f9c5-4efe-9f7a-daf08f23f6ce",
     "showTitle": false,
     "title": ""
    }
   },
   "outputs": [],
   "source": [
    "#import libraries\n",
    "import pandas as pd\n",
    "from pyspark.sql import SparkSession"
   ]
  },
  {
   "cell_type": "code",
   "execution_count": 0,
   "metadata": {
    "application/vnd.databricks.v1+cell": {
     "cellMetadata": {
      "byteLimit": 2048000,
      "rowLimit": 10000
     },
     "inputWidgets": {},
     "nuid": "80b8e30a-3d8c-49c3-a177-2ccc252e3036",
     "showTitle": false,
     "title": ""
    }
   },
   "outputs": [],
   "source": [
    "#Spark Session\n",
    "spark = SparkSession.builder \\\n",
    "    .appName(\"euros_sql_visulization\") \\\n",
    "    .getOrCreate()"
   ]
  },
  {
   "cell_type": "code",
   "execution_count": 0,
   "metadata": {
    "application/vnd.databricks.v1+cell": {
     "cellMetadata": {
      "byteLimit": 2048000,
      "rowLimit": 10000
     },
     "inputWidgets": {},
     "nuid": "17e28640-2783-4e61-92d7-e8854ccfa900",
     "showTitle": false,
     "title": ""
    }
   },
   "outputs": [
    {
     "output_type": "display_data",
     "data": {
      "text/html": [
       "<style scoped>\n",
       "  .table-result-container {\n",
       "    max-height: 300px;\n",
       "    overflow: auto;\n",
       "  }\n",
       "  table, th, td {\n",
       "    border: 1px solid black;\n",
       "    border-collapse: collapse;\n",
       "  }\n",
       "  th, td {\n",
       "    padding: 5px;\n",
       "  }\n",
       "  th {\n",
       "    text-align: left;\n",
       "  }\n",
       "</style><div class='table-result-container'><table class='table-result'><thead style='background-color: white'><tr><th>GroupName</th><th>TeamName</th><th>MatchesPlayed</th><th>MatchesWon</th><th>MatchesLost</th><th>MatchesDrawn</th><th>GF</th><th>GA</th><th>GD</th><th>TotalPoints</th><th>Position</th></tr></thead><tbody><tr><td>A</td><td>Switzerland</td><td>3</td><td>2</td><td>1</td><td>0</td><td>12</td><td>9</td><td>3</td><td>6</td><td>A1</td></tr><tr><td>A</td><td>Scotland</td><td>3</td><td>2</td><td>1</td><td>0</td><td>8</td><td>6</td><td>2</td><td>6</td><td>A2</td></tr><tr><td>A</td><td>Germany</td><td>3</td><td>1</td><td>2</td><td>0</td><td>7</td><td>7</td><td>0</td><td>3</td><td>A3</td></tr><tr><td>A</td><td>Hungary</td><td>3</td><td>1</td><td>2</td><td>0</td><td>5</td><td>10</td><td>-5</td><td>3</td><td>A4</td></tr><tr><td>B</td><td>Albania</td><td>3</td><td>2</td><td>0</td><td>1</td><td>12</td><td>8</td><td>4</td><td>7</td><td>B1</td></tr><tr><td>B</td><td>Spain</td><td>3</td><td>2</td><td>1</td><td>0</td><td>12</td><td>6</td><td>6</td><td>6</td><td>B2</td></tr><tr><td>B</td><td>Italy</td><td>3</td><td>1</td><td>2</td><td>0</td><td>7</td><td>10</td><td>-3</td><td>3</td><td>B3</td></tr><tr><td>B</td><td>Croatia</td><td>3</td><td>0</td><td>2</td><td>1</td><td>5</td><td>12</td><td>-7</td><td>1</td><td>B4</td></tr><tr><td>C</td><td>Serbia</td><td>3</td><td>3</td><td>0</td><td>0</td><td>14</td><td>5</td><td>9</td><td>9</td><td>C1</td></tr><tr><td>C</td><td>Slovenia</td><td>3</td><td>2</td><td>1</td><td>0</td><td>11</td><td>13</td><td>-2</td><td>6</td><td>C2</td></tr><tr><td>C</td><td>England</td><td>3</td><td>1</td><td>2</td><td>0</td><td>9</td><td>10</td><td>-1</td><td>3</td><td>C3</td></tr><tr><td>C</td><td>Denmark</td><td>3</td><td>0</td><td>3</td><td>0</td><td>8</td><td>14</td><td>-6</td><td>0</td><td>C4</td></tr><tr><td>D</td><td>Poland</td><td>3</td><td>3</td><td>0</td><td>0</td><td>12</td><td>8</td><td>4</td><td>9</td><td>D1</td></tr><tr><td>D</td><td>Netherlands</td><td>3</td><td>2</td><td>1</td><td>0</td><td>12</td><td>6</td><td>6</td><td>6</td><td>D2</td></tr><tr><td>D</td><td>France</td><td>3</td><td>1</td><td>2</td><td>0</td><td>7</td><td>10</td><td>-3</td><td>3</td><td>D3</td></tr><tr><td>D</td><td>Austria</td><td>3</td><td>0</td><td>3</td><td>0</td><td>3</td><td>10</td><td>-7</td><td>0</td><td>D4</td></tr><tr><td>E</td><td>Slovakia</td><td>3</td><td>3</td><td>0</td><td>0</td><td>13</td><td>5</td><td>8</td><td>9</td><td>E1</td></tr><tr><td>E</td><td>Romania</td><td>3</td><td>1</td><td>1</td><td>1</td><td>6</td><td>5</td><td>1</td><td>4</td><td>E2</td></tr><tr><td>E</td><td>Ukraine</td><td>3</td><td>1</td><td>1</td><td>1</td><td>7</td><td>10</td><td>-3</td><td>4</td><td>E3</td></tr><tr><td>E</td><td>Belgium</td><td>3</td><td>0</td><td>3</td><td>0</td><td>5</td><td>11</td><td>-6</td><td>0</td><td>E4</td></tr><tr><td>F</td><td>Portugal</td><td>3</td><td>3</td><td>0</td><td>0</td><td>12</td><td>6</td><td>6</td><td>9</td><td>F1</td></tr><tr><td>F</td><td>Czech Republic</td><td>3</td><td>2</td><td>1</td><td>0</td><td>7</td><td>5</td><td>2</td><td>6</td><td>F2</td></tr><tr><td>F</td><td>Turkey</td><td>3</td><td>0</td><td>2</td><td>1</td><td>9</td><td>12</td><td>-3</td><td>1</td><td>F3</td></tr><tr><td>F</td><td>Greece</td><td>3</td><td>0</td><td>2</td><td>1</td><td>4</td><td>9</td><td>-5</td><td>1</td><td>F4</td></tr></tbody></table></div>"
      ]
     },
     "metadata": {
      "application/vnd.databricks.v1+output": {
       "addedWidgets": {},
       "aggData": [],
       "aggError": "",
       "aggOverflow": false,
       "aggSchema": [],
       "aggSeriesLimitReached": false,
       "aggType": "",
       "arguments": {},
       "columnCustomDisplayInfos": {},
       "data": [
        [
         "A",
         "Switzerland",
         "3",
         "2",
         "1",
         "0",
         "12",
         "9",
         "3",
         "6",
         "A1"
        ],
        [
         "A",
         "Scotland",
         "3",
         "2",
         "1",
         "0",
         "8",
         "6",
         "2",
         "6",
         "A2"
        ],
        [
         "A",
         "Germany",
         "3",
         "1",
         "2",
         "0",
         "7",
         "7",
         "0",
         "3",
         "A3"
        ],
        [
         "A",
         "Hungary",
         "3",
         "1",
         "2",
         "0",
         "5",
         "10",
         "-5",
         "3",
         "A4"
        ],
        [
         "B",
         "Albania",
         "3",
         "2",
         "0",
         "1",
         "12",
         "8",
         "4",
         "7",
         "B1"
        ],
        [
         "B",
         "Spain",
         "3",
         "2",
         "1",
         "0",
         "12",
         "6",
         "6",
         "6",
         "B2"
        ],
        [
         "B",
         "Italy",
         "3",
         "1",
         "2",
         "0",
         "7",
         "10",
         "-3",
         "3",
         "B3"
        ],
        [
         "B",
         "Croatia",
         "3",
         "0",
         "2",
         "1",
         "5",
         "12",
         "-7",
         "1",
         "B4"
        ],
        [
         "C",
         "Serbia",
         "3",
         "3",
         "0",
         "0",
         "14",
         "5",
         "9",
         "9",
         "C1"
        ],
        [
         "C",
         "Slovenia",
         "3",
         "2",
         "1",
         "0",
         "11",
         "13",
         "-2",
         "6",
         "C2"
        ],
        [
         "C",
         "England",
         "3",
         "1",
         "2",
         "0",
         "9",
         "10",
         "-1",
         "3",
         "C3"
        ],
        [
         "C",
         "Denmark",
         "3",
         "0",
         "3",
         "0",
         "8",
         "14",
         "-6",
         "0",
         "C4"
        ],
        [
         "D",
         "Poland",
         "3",
         "3",
         "0",
         "0",
         "12",
         "8",
         "4",
         "9",
         "D1"
        ],
        [
         "D",
         "Netherlands",
         "3",
         "2",
         "1",
         "0",
         "12",
         "6",
         "6",
         "6",
         "D2"
        ],
        [
         "D",
         "France",
         "3",
         "1",
         "2",
         "0",
         "7",
         "10",
         "-3",
         "3",
         "D3"
        ],
        [
         "D",
         "Austria",
         "3",
         "0",
         "3",
         "0",
         "3",
         "10",
         "-7",
         "0",
         "D4"
        ],
        [
         "E",
         "Slovakia",
         "3",
         "3",
         "0",
         "0",
         "13",
         "5",
         "8",
         "9",
         "E1"
        ],
        [
         "E",
         "Romania",
         "3",
         "1",
         "1",
         "1",
         "6",
         "5",
         "1",
         "4",
         "E2"
        ],
        [
         "E",
         "Ukraine",
         "3",
         "1",
         "1",
         "1",
         "7",
         "10",
         "-3",
         "4",
         "E3"
        ],
        [
         "E",
         "Belgium",
         "3",
         "0",
         "3",
         "0",
         "5",
         "11",
         "-6",
         "0",
         "E4"
        ],
        [
         "F",
         "Portugal",
         "3",
         "3",
         "0",
         "0",
         "12",
         "6",
         "6",
         "9",
         "F1"
        ],
        [
         "F",
         "Czech Republic",
         "3",
         "2",
         "1",
         "0",
         "7",
         "5",
         "2",
         "6",
         "F2"
        ],
        [
         "F",
         "Turkey",
         "3",
         "0",
         "2",
         "1",
         "9",
         "12",
         "-3",
         "1",
         "F3"
        ],
        [
         "F",
         "Greece",
         "3",
         "0",
         "2",
         "1",
         "4",
         "9",
         "-5",
         "1",
         "F4"
        ]
       ],
       "datasetInfos": [],
       "dbfsResultPath": null,
       "isJsonSchema": true,
       "metadata": {},
       "overflow": false,
       "plotOptions": {
        "customPlotOptions": {},
        "displayType": "table",
        "pivotAggregation": null,
        "pivotColumns": null,
        "xColumns": null,
        "yColumns": null
       },
       "removedWidgets": [],
       "schema": [
        {
         "metadata": "{}",
         "name": "GroupName",
         "type": "\"string\""
        },
        {
         "metadata": "{}",
         "name": "TeamName",
         "type": "\"string\""
        },
        {
         "metadata": "{}",
         "name": "MatchesPlayed",
         "type": "\"string\""
        },
        {
         "metadata": "{}",
         "name": "MatchesWon",
         "type": "\"string\""
        },
        {
         "metadata": "{}",
         "name": "MatchesLost",
         "type": "\"string\""
        },
        {
         "metadata": "{}",
         "name": "MatchesDrawn",
         "type": "\"string\""
        },
        {
         "metadata": "{}",
         "name": "GF",
         "type": "\"string\""
        },
        {
         "metadata": "{}",
         "name": "GA",
         "type": "\"string\""
        },
        {
         "metadata": "{}",
         "name": "GD",
         "type": "\"string\""
        },
        {
         "metadata": "{}",
         "name": "TotalPoints",
         "type": "\"string\""
        },
        {
         "metadata": "{}",
         "name": "Position",
         "type": "\"string\""
        }
       ],
       "type": "table"
      }
     },
     "output_type": "display_data"
    }
   ],
   "source": [
    "#getting data from sql table and into pandas dataframe\n",
    "groupstage = spark.sql(\"SELECT * FROM GroupStageResults\")\n",
    "groupstage_pd = groupstage.toPandas()\n",
    "\n",
    "#converting to string and removing .0 from floats occuring after conversion\n",
    "groupstage_pd = groupstage_pd.applymap(lambda x: str(x).split(\".\")[0])\n",
    "\n",
    "display(groupstage_pd)"
   ]
  },
  {
   "cell_type": "code",
   "execution_count": 0,
   "metadata": {
    "application/vnd.databricks.v1+cell": {
     "cellMetadata": {
      "byteLimit": 2048000,
      "rowLimit": 10000
     },
     "inputWidgets": {},
     "nuid": "41ad9e09-2788-4b4e-979f-983f5e38bae2",
     "showTitle": false,
     "title": ""
    }
   },
   "outputs": [],
   "source": [
    "#GroupStage Visualization Table\n",
    "euro_vis = pd.DataFrame({\n",
    "    'Grp/Pos': groupstage_pd['Position'],\n",
    "    'Country': groupstage_pd['TeamName'],\n",
    "    'MP': groupstage_pd['MatchesPlayed'],\n",
    "    'W': groupstage_pd['MatchesWon'],\n",
    "    'D': groupstage_pd['MatchesDrawn'],\n",
    "    'L': groupstage_pd['MatchesLost'],\n",
    "    'GF': groupstage_pd['GF'],\n",
    "    'GA': groupstage_pd['GA'],\n",
    "    'GD': groupstage_pd['GD'],\n",
    "    'Pts': groupstage_pd['TotalPoints']\n",
    "})"
   ]
  },
  {
   "cell_type": "code",
   "execution_count": 0,
   "metadata": {
    "application/vnd.databricks.v1+cell": {
     "cellMetadata": {
      "byteLimit": 2048000,
      "rowLimit": 10000
     },
     "inputWidgets": {},
     "nuid": "a4d11e56-a0ab-4b82-af3b-c6fda8e7552f",
     "showTitle": false,
     "title": ""
    }
   },
   "outputs": [],
   "source": [
    "#empty row for group stage\n",
    "mtgs_row_pd = pd.DataFrame({col: [''] for col in euro_vis.columns})"
   ]
  },
  {
   "cell_type": "code",
   "execution_count": 0,
   "metadata": {
    "application/vnd.databricks.v1+cell": {
     "cellMetadata": {
      "byteLimit": 2048000,
      "rowLimit": 10000
     },
     "inputWidgets": {},
     "nuid": "6c2fb0a6-62d9-4620-b3b1-1a3ca01adb99",
     "showTitle": false,
     "title": ""
    }
   },
   "outputs": [
    {
     "output_type": "display_data",
     "data": {
      "text/html": [
       "<style scoped>\n",
       "  .table-result-container {\n",
       "    max-height: 300px;\n",
       "    overflow: auto;\n",
       "  }\n",
       "  table, th, td {\n",
       "    border: 1px solid black;\n",
       "    border-collapse: collapse;\n",
       "  }\n",
       "  th, td {\n",
       "    padding: 5px;\n",
       "  }\n",
       "  th {\n",
       "    text-align: left;\n",
       "  }\n",
       "</style><div class='table-result-container'><table class='table-result'><thead style='background-color: white'><tr><th>Grp/Pos</th><th>Country</th><th>MP</th><th>W</th><th>D</th><th>L</th><th>GF</th><th>GA</th><th>GD</th><th>Pts</th></tr></thead><tbody><tr><td>A1</td><td>Switzerland</td><td>3</td><td>2</td><td>0</td><td>1</td><td>12</td><td>9</td><td>3</td><td>6</td></tr><tr><td>A2</td><td>Scotland</td><td>3</td><td>2</td><td>0</td><td>1</td><td>8</td><td>6</td><td>2</td><td>6</td></tr><tr><td>A3</td><td>Germany</td><td>3</td><td>1</td><td>0</td><td>2</td><td>7</td><td>7</td><td>0</td><td>3</td></tr><tr><td>A4</td><td>Hungary</td><td>3</td><td>1</td><td>0</td><td>2</td><td>5</td><td>10</td><td>-5</td><td>3</td></tr><tr><td>B1</td><td>Albania</td><td>3</td><td>2</td><td>1</td><td>0</td><td>12</td><td>8</td><td>4</td><td>7</td></tr><tr><td>B2</td><td>Spain</td><td>3</td><td>2</td><td>0</td><td>1</td><td>12</td><td>6</td><td>6</td><td>6</td></tr><tr><td>B3</td><td>Italy</td><td>3</td><td>1</td><td>0</td><td>2</td><td>7</td><td>10</td><td>-3</td><td>3</td></tr><tr><td>B4</td><td>Croatia</td><td>3</td><td>0</td><td>1</td><td>2</td><td>5</td><td>12</td><td>-7</td><td>1</td></tr><tr><td>C1</td><td>Serbia</td><td>3</td><td>3</td><td>0</td><td>0</td><td>14</td><td>5</td><td>9</td><td>9</td></tr><tr><td>C2</td><td>Slovenia</td><td>3</td><td>2</td><td>0</td><td>1</td><td>11</td><td>13</td><td>-2</td><td>6</td></tr><tr><td>C3</td><td>England</td><td>3</td><td>1</td><td>0</td><td>2</td><td>9</td><td>10</td><td>-1</td><td>3</td></tr><tr><td>C4</td><td>Denmark</td><td>3</td><td>0</td><td>0</td><td>3</td><td>8</td><td>14</td><td>-6</td><td>0</td></tr></tbody></table></div>"
      ]
     },
     "metadata": {
      "application/vnd.databricks.v1+output": {
       "addedWidgets": {},
       "aggData": [],
       "aggError": "",
       "aggOverflow": false,
       "aggSchema": [],
       "aggSeriesLimitReached": false,
       "aggType": "",
       "arguments": {},
       "columnCustomDisplayInfos": {},
       "data": [
        [
         "A1",
         "Switzerland",
         "3",
         "2",
         "0",
         "1",
         "12",
         "9",
         "3",
         "6"
        ],
        [
         "A2",
         "Scotland",
         "3",
         "2",
         "0",
         "1",
         "8",
         "6",
         "2",
         "6"
        ],
        [
         "A3",
         "Germany",
         "3",
         "1",
         "0",
         "2",
         "7",
         "7",
         "0",
         "3"
        ],
        [
         "A4",
         "Hungary",
         "3",
         "1",
         "0",
         "2",
         "5",
         "10",
         "-5",
         "3"
        ],
        [
         "B1",
         "Albania",
         "3",
         "2",
         "1",
         "0",
         "12",
         "8",
         "4",
         "7"
        ],
        [
         "B2",
         "Spain",
         "3",
         "2",
         "0",
         "1",
         "12",
         "6",
         "6",
         "6"
        ],
        [
         "B3",
         "Italy",
         "3",
         "1",
         "0",
         "2",
         "7",
         "10",
         "-3",
         "3"
        ],
        [
         "B4",
         "Croatia",
         "3",
         "0",
         "1",
         "2",
         "5",
         "12",
         "-7",
         "1"
        ],
        [
         "C1",
         "Serbia",
         "3",
         "3",
         "0",
         "0",
         "14",
         "5",
         "9",
         "9"
        ],
        [
         "C2",
         "Slovenia",
         "3",
         "2",
         "0",
         "1",
         "11",
         "13",
         "-2",
         "6"
        ],
        [
         "C3",
         "England",
         "3",
         "1",
         "0",
         "2",
         "9",
         "10",
         "-1",
         "3"
        ],
        [
         "C4",
         "Denmark",
         "3",
         "0",
         "0",
         "3",
         "8",
         "14",
         "-6",
         "0"
        ]
       ],
       "datasetInfos": [],
       "dbfsResultPath": null,
       "isJsonSchema": true,
       "metadata": {},
       "overflow": false,
       "plotOptions": {
        "customPlotOptions": {},
        "displayType": "table",
        "pivotAggregation": null,
        "pivotColumns": null,
        "xColumns": null,
        "yColumns": null
       },
       "removedWidgets": [],
       "schema": [
        {
         "metadata": "{}",
         "name": "Grp/Pos",
         "type": "\"string\""
        },
        {
         "metadata": "{}",
         "name": "Country",
         "type": "\"string\""
        },
        {
         "metadata": "{}",
         "name": "MP",
         "type": "\"string\""
        },
        {
         "metadata": "{}",
         "name": "W",
         "type": "\"string\""
        },
        {
         "metadata": "{}",
         "name": "D",
         "type": "\"string\""
        },
        {
         "metadata": "{}",
         "name": "L",
         "type": "\"string\""
        },
        {
         "metadata": "{}",
         "name": "GF",
         "type": "\"string\""
        },
        {
         "metadata": "{}",
         "name": "GA",
         "type": "\"string\""
        },
        {
         "metadata": "{}",
         "name": "GD",
         "type": "\"string\""
        },
        {
         "metadata": "{}",
         "name": "Pts",
         "type": "\"string\""
        }
       ],
       "type": "table"
      }
     },
     "output_type": "display_data"
    },
    {
     "output_type": "display_data",
     "data": {
      "text/html": [
       "<style scoped>\n",
       "  .table-result-container {\n",
       "    max-height: 300px;\n",
       "    overflow: auto;\n",
       "  }\n",
       "  table, th, td {\n",
       "    border: 1px solid black;\n",
       "    border-collapse: collapse;\n",
       "  }\n",
       "  th, td {\n",
       "    padding: 5px;\n",
       "  }\n",
       "  th {\n",
       "    text-align: left;\n",
       "  }\n",
       "</style><div class='table-result-container'><table class='table-result'><thead style='background-color: white'><tr><th>Grp/Pos</th><th>Country</th><th>MP</th><th>W</th><th>D</th><th>L</th><th>GF</th><th>GA</th><th>GD</th><th>Pts</th></tr></thead><tbody><tr><td>D1</td><td>Poland</td><td>3</td><td>3</td><td>0</td><td>0</td><td>12</td><td>8</td><td>4</td><td>9</td></tr><tr><td>D2</td><td>Netherlands</td><td>3</td><td>2</td><td>0</td><td>1</td><td>12</td><td>6</td><td>6</td><td>6</td></tr><tr><td>D3</td><td>France</td><td>3</td><td>1</td><td>0</td><td>2</td><td>7</td><td>10</td><td>-3</td><td>3</td></tr><tr><td>D4</td><td>Austria</td><td>3</td><td>0</td><td>0</td><td>3</td><td>3</td><td>10</td><td>-7</td><td>0</td></tr><tr><td>E1</td><td>Slovakia</td><td>3</td><td>3</td><td>0</td><td>0</td><td>13</td><td>5</td><td>8</td><td>9</td></tr><tr><td>E2</td><td>Romania</td><td>3</td><td>1</td><td>1</td><td>1</td><td>6</td><td>5</td><td>1</td><td>4</td></tr><tr><td>E3</td><td>Ukraine</td><td>3</td><td>1</td><td>1</td><td>1</td><td>7</td><td>10</td><td>-3</td><td>4</td></tr><tr><td>E4</td><td>Belgium</td><td>3</td><td>0</td><td>0</td><td>3</td><td>5</td><td>11</td><td>-6</td><td>0</td></tr><tr><td>F1</td><td>Portugal</td><td>3</td><td>3</td><td>0</td><td>0</td><td>12</td><td>6</td><td>6</td><td>9</td></tr><tr><td>F2</td><td>Czech Republic</td><td>3</td><td>2</td><td>0</td><td>1</td><td>7</td><td>5</td><td>2</td><td>6</td></tr><tr><td>F3</td><td>Turkey</td><td>3</td><td>0</td><td>1</td><td>2</td><td>9</td><td>12</td><td>-3</td><td>1</td></tr><tr><td>F4</td><td>Greece</td><td>3</td><td>0</td><td>1</td><td>2</td><td>4</td><td>9</td><td>-5</td><td>1</td></tr></tbody></table></div>"
      ]
     },
     "metadata": {
      "application/vnd.databricks.v1+output": {
       "addedWidgets": {},
       "aggData": [],
       "aggError": "",
       "aggOverflow": false,
       "aggSchema": [],
       "aggSeriesLimitReached": false,
       "aggType": "",
       "arguments": {},
       "columnCustomDisplayInfos": {},
       "data": [
        [
         "D1",
         "Poland",
         "3",
         "3",
         "0",
         "0",
         "12",
         "8",
         "4",
         "9"
        ],
        [
         "D2",
         "Netherlands",
         "3",
         "2",
         "0",
         "1",
         "12",
         "6",
         "6",
         "6"
        ],
        [
         "D3",
         "France",
         "3",
         "1",
         "0",
         "2",
         "7",
         "10",
         "-3",
         "3"
        ],
        [
         "D4",
         "Austria",
         "3",
         "0",
         "0",
         "3",
         "3",
         "10",
         "-7",
         "0"
        ],
        [
         "E1",
         "Slovakia",
         "3",
         "3",
         "0",
         "0",
         "13",
         "5",
         "8",
         "9"
        ],
        [
         "E2",
         "Romania",
         "3",
         "1",
         "1",
         "1",
         "6",
         "5",
         "1",
         "4"
        ],
        [
         "E3",
         "Ukraine",
         "3",
         "1",
         "1",
         "1",
         "7",
         "10",
         "-3",
         "4"
        ],
        [
         "E4",
         "Belgium",
         "3",
         "0",
         "0",
         "3",
         "5",
         "11",
         "-6",
         "0"
        ],
        [
         "F1",
         "Portugal",
         "3",
         "3",
         "0",
         "0",
         "12",
         "6",
         "6",
         "9"
        ],
        [
         "F2",
         "Czech Republic",
         "3",
         "2",
         "0",
         "1",
         "7",
         "5",
         "2",
         "6"
        ],
        [
         "F3",
         "Turkey",
         "3",
         "0",
         "1",
         "2",
         "9",
         "12",
         "-3",
         "1"
        ],
        [
         "F4",
         "Greece",
         "3",
         "0",
         "1",
         "2",
         "4",
         "9",
         "-5",
         "1"
        ]
       ],
       "datasetInfos": [],
       "dbfsResultPath": null,
       "isJsonSchema": true,
       "metadata": {},
       "overflow": false,
       "plotOptions": {
        "customPlotOptions": {},
        "displayType": "table",
        "pivotAggregation": null,
        "pivotColumns": null,
        "xColumns": null,
        "yColumns": null
       },
       "removedWidgets": [],
       "schema": [
        {
         "metadata": "{}",
         "name": "Grp/Pos",
         "type": "\"string\""
        },
        {
         "metadata": "{}",
         "name": "Country",
         "type": "\"string\""
        },
        {
         "metadata": "{}",
         "name": "MP",
         "type": "\"string\""
        },
        {
         "metadata": "{}",
         "name": "W",
         "type": "\"string\""
        },
        {
         "metadata": "{}",
         "name": "D",
         "type": "\"string\""
        },
        {
         "metadata": "{}",
         "name": "L",
         "type": "\"string\""
        },
        {
         "metadata": "{}",
         "name": "GF",
         "type": "\"string\""
        },
        {
         "metadata": "{}",
         "name": "GA",
         "type": "\"string\""
        },
        {
         "metadata": "{}",
         "name": "GD",
         "type": "\"string\""
        },
        {
         "metadata": "{}",
         "name": "Pts",
         "type": "\"string\""
        }
       ],
       "type": "table"
      }
     },
     "output_type": "display_data"
    }
   ],
   "source": [
    "#splitting into left and right for visulaization\n",
    "left_gs = euro_vis[euro_vis['Grp/Pos'].str.contains('^[ABC]')]\n",
    "\n",
    "right_gs = euro_vis[euro_vis['Grp/Pos'].str.contains('^[DEF]')]\n",
    "\n",
    "#reseting index for both df\n",
    "left_gs.reset_index(drop=True, inplace=True)\n",
    "right_gs.reset_index(drop=True, inplace=True)\n",
    "\n",
    "display(left_gs)\n",
    "display(right_gs)"
   ]
  },
  {
   "cell_type": "code",
   "execution_count": 0,
   "metadata": {
    "application/vnd.databricks.v1+cell": {
     "cellMetadata": {
      "byteLimit": 2048000,
      "rowLimit": 10000
     },
     "inputWidgets": {},
     "nuid": "5ddefab1-1a77-42fd-809a-f98895ed5d67",
     "showTitle": false,
     "title": ""
    }
   },
   "outputs": [
    {
     "output_type": "display_data",
     "data": {
      "text/html": [
       "<style scoped>\n",
       "  .table-result-container {\n",
       "    max-height: 300px;\n",
       "    overflow: auto;\n",
       "  }\n",
       "  table, th, td {\n",
       "    border: 1px solid black;\n",
       "    border-collapse: collapse;\n",
       "  }\n",
       "  th, td {\n",
       "    padding: 5px;\n",
       "  }\n",
       "  th {\n",
       "    text-align: left;\n",
       "  }\n",
       "</style><div class='table-result-container'><table class='table-result'><thead style='background-color: white'><tr><th>L_Grp/Pos</th><th>L_Country</th><th>L_MP</th><th>L_W</th><th>L-D</th><th>L_L</th><th>L-GF</th><th>L_GA</th><th>L_GD</th><th>L_Pts</th></tr></thead><tbody><tr><td>A1</td><td>Switzerland</td><td>3</td><td>2</td><td>0</td><td>1</td><td>12</td><td>9</td><td>3</td><td>6</td></tr><tr><td>A2</td><td>Scotland</td><td>3</td><td>2</td><td>0</td><td>1</td><td>8</td><td>6</td><td>2</td><td>6</td></tr><tr><td>A3</td><td>Germany</td><td>3</td><td>1</td><td>0</td><td>2</td><td>7</td><td>7</td><td>0</td><td>3</td></tr><tr><td>A4</td><td>Hungary</td><td>3</td><td>1</td><td>0</td><td>2</td><td>5</td><td>10</td><td>-5</td><td>3</td></tr><tr><td></td><td></td><td></td><td></td><td></td><td></td><td></td><td></td><td></td><td></td></tr><tr><td></td><td></td><td></td><td></td><td></td><td></td><td></td><td></td><td></td><td></td></tr><tr><td>B1</td><td>Albania</td><td>3</td><td>2</td><td>1</td><td>0</td><td>12</td><td>8</td><td>4</td><td>7</td></tr><tr><td>B2</td><td>Spain</td><td>3</td><td>2</td><td>0</td><td>1</td><td>12</td><td>6</td><td>6</td><td>6</td></tr><tr><td>B3</td><td>Italy</td><td>3</td><td>1</td><td>0</td><td>2</td><td>7</td><td>10</td><td>-3</td><td>3</td></tr><tr><td>B4</td><td>Croatia</td><td>3</td><td>0</td><td>1</td><td>2</td><td>5</td><td>12</td><td>-7</td><td>1</td></tr><tr><td></td><td></td><td></td><td></td><td></td><td></td><td></td><td></td><td></td><td></td></tr><tr><td></td><td></td><td></td><td></td><td></td><td></td><td></td><td></td><td></td><td></td></tr><tr><td>C1</td><td>Serbia</td><td>3</td><td>3</td><td>0</td><td>0</td><td>14</td><td>5</td><td>9</td><td>9</td></tr><tr><td>C2</td><td>Slovenia</td><td>3</td><td>2</td><td>0</td><td>1</td><td>11</td><td>13</td><td>-2</td><td>6</td></tr><tr><td>C3</td><td>England</td><td>3</td><td>1</td><td>0</td><td>2</td><td>9</td><td>10</td><td>-1</td><td>3</td></tr><tr><td>C4</td><td>Denmark</td><td>3</td><td>0</td><td>0</td><td>3</td><td>8</td><td>14</td><td>-6</td><td>0</td></tr></tbody></table></div>"
      ]
     },
     "metadata": {
      "application/vnd.databricks.v1+output": {
       "addedWidgets": {},
       "aggData": [],
       "aggError": "",
       "aggOverflow": false,
       "aggSchema": [],
       "aggSeriesLimitReached": false,
       "aggType": "",
       "arguments": {},
       "columnCustomDisplayInfos": {},
       "data": [
        [
         "A1",
         "Switzerland",
         "3",
         "2",
         "0",
         "1",
         "12",
         "9",
         "3",
         "6"
        ],
        [
         "A2",
         "Scotland",
         "3",
         "2",
         "0",
         "1",
         "8",
         "6",
         "2",
         "6"
        ],
        [
         "A3",
         "Germany",
         "3",
         "1",
         "0",
         "2",
         "7",
         "7",
         "0",
         "3"
        ],
        [
         "A4",
         "Hungary",
         "3",
         "1",
         "0",
         "2",
         "5",
         "10",
         "-5",
         "3"
        ],
        [
         "",
         "",
         "",
         "",
         "",
         "",
         "",
         "",
         "",
         ""
        ],
        [
         "",
         "",
         "",
         "",
         "",
         "",
         "",
         "",
         "",
         ""
        ],
        [
         "B1",
         "Albania",
         "3",
         "2",
         "1",
         "0",
         "12",
         "8",
         "4",
         "7"
        ],
        [
         "B2",
         "Spain",
         "3",
         "2",
         "0",
         "1",
         "12",
         "6",
         "6",
         "6"
        ],
        [
         "B3",
         "Italy",
         "3",
         "1",
         "0",
         "2",
         "7",
         "10",
         "-3",
         "3"
        ],
        [
         "B4",
         "Croatia",
         "3",
         "0",
         "1",
         "2",
         "5",
         "12",
         "-7",
         "1"
        ],
        [
         "",
         "",
         "",
         "",
         "",
         "",
         "",
         "",
         "",
         ""
        ],
        [
         "",
         "",
         "",
         "",
         "",
         "",
         "",
         "",
         "",
         ""
        ],
        [
         "C1",
         "Serbia",
         "3",
         "3",
         "0",
         "0",
         "14",
         "5",
         "9",
         "9"
        ],
        [
         "C2",
         "Slovenia",
         "3",
         "2",
         "0",
         "1",
         "11",
         "13",
         "-2",
         "6"
        ],
        [
         "C3",
         "England",
         "3",
         "1",
         "0",
         "2",
         "9",
         "10",
         "-1",
         "3"
        ],
        [
         "C4",
         "Denmark",
         "3",
         "0",
         "0",
         "3",
         "8",
         "14",
         "-6",
         "0"
        ]
       ],
       "datasetInfos": [],
       "dbfsResultPath": null,
       "isJsonSchema": true,
       "metadata": {},
       "overflow": false,
       "plotOptions": {
        "customPlotOptions": {},
        "displayType": "table",
        "pivotAggregation": null,
        "pivotColumns": null,
        "xColumns": null,
        "yColumns": null
       },
       "removedWidgets": [],
       "schema": [
        {
         "metadata": "{}",
         "name": "L_Grp/Pos",
         "type": "\"string\""
        },
        {
         "metadata": "{}",
         "name": "L_Country",
         "type": "\"string\""
        },
        {
         "metadata": "{}",
         "name": "L_MP",
         "type": "\"string\""
        },
        {
         "metadata": "{}",
         "name": "L_W",
         "type": "\"string\""
        },
        {
         "metadata": "{}",
         "name": "L-D",
         "type": "\"string\""
        },
        {
         "metadata": "{}",
         "name": "L_L",
         "type": "\"string\""
        },
        {
         "metadata": "{}",
         "name": "L-GF",
         "type": "\"string\""
        },
        {
         "metadata": "{}",
         "name": "L_GA",
         "type": "\"string\""
        },
        {
         "metadata": "{}",
         "name": "L_GD",
         "type": "\"string\""
        },
        {
         "metadata": "{}",
         "name": "L_Pts",
         "type": "\"string\""
        }
       ],
       "type": "table"
      }
     },
     "output_type": "display_data"
    }
   ],
   "source": [
    "#list of groupstage according to groupname\n",
    "left_gs_grouped = [left_gs.iloc[i:i+4] for i in range(0, len(left_gs), 4)]\n",
    "\n",
    "#iterating over above list and adding empty row except for last one\n",
    "for i in range(len(left_gs_grouped)):\n",
    "    if i < len(left_gs_grouped) - 1:\n",
    "        left_gs_grouped[i] = pd.concat([left_gs_grouped[i], mtgs_row_pd,mtgs_row_pd], ignore_index=True)\n",
    "\n",
    "#joining them back after adding empty rows\n",
    "left_gs_spaced = pd.concat(left_gs_grouped).reset_index(drop=True)\n",
    "\n",
    "lgs_new_column_name ={'Grp/Pos': 'L_Grp/Pos',\n",
    "                       'Country': 'L_Country',\n",
    "                       'MP': 'L_MP',\n",
    "                       'W': 'L_W',\n",
    "                       'D': 'L-D',\n",
    "                       'L': 'L_L',\n",
    "                       'GF': 'L-GF',\n",
    "                       'GA': 'L_GA',\n",
    "                       'GD': 'L_GD',\n",
    "                       'Pts': 'L_Pts'\n",
    "                       }\n",
    "left_gs_spaced = left_gs_spaced.rename(columns=lgs_new_column_name)\n",
    "\n",
    "display(left_gs_spaced)"
   ]
  },
  {
   "cell_type": "code",
   "execution_count": 0,
   "metadata": {
    "application/vnd.databricks.v1+cell": {
     "cellMetadata": {
      "byteLimit": 2048000,
      "rowLimit": 10000
     },
     "inputWidgets": {},
     "nuid": "6374dc61-5980-4eec-9aad-825aef449ad9",
     "showTitle": false,
     "title": ""
    }
   },
   "outputs": [
    {
     "output_type": "display_data",
     "data": {
      "text/html": [
       "<style scoped>\n",
       "  .table-result-container {\n",
       "    max-height: 300px;\n",
       "    overflow: auto;\n",
       "  }\n",
       "  table, th, td {\n",
       "    border: 1px solid black;\n",
       "    border-collapse: collapse;\n",
       "  }\n",
       "  th, td {\n",
       "    padding: 5px;\n",
       "  }\n",
       "  th {\n",
       "    text-align: left;\n",
       "  }\n",
       "</style><div class='table-result-container'><table class='table-result'><thead style='background-color: white'><tr><th>R_Grp/Pos</th><th>R_Country</th><th>R_MP</th><th>R_W</th><th>R-D</th><th>R_L</th><th>R-GF</th><th>R_GA</th><th>R_GD</th><th>R_Pts</th></tr></thead><tbody><tr><td>D1</td><td>Poland</td><td>3</td><td>3</td><td>0</td><td>0</td><td>12</td><td>8</td><td>4</td><td>9</td></tr><tr><td>D2</td><td>Netherlands</td><td>3</td><td>2</td><td>0</td><td>1</td><td>12</td><td>6</td><td>6</td><td>6</td></tr><tr><td>D3</td><td>France</td><td>3</td><td>1</td><td>0</td><td>2</td><td>7</td><td>10</td><td>-3</td><td>3</td></tr><tr><td>D4</td><td>Austria</td><td>3</td><td>0</td><td>0</td><td>3</td><td>3</td><td>10</td><td>-7</td><td>0</td></tr><tr><td></td><td></td><td></td><td></td><td></td><td></td><td></td><td></td><td></td><td></td></tr><tr><td></td><td></td><td></td><td></td><td></td><td></td><td></td><td></td><td></td><td></td></tr><tr><td>E1</td><td>Slovakia</td><td>3</td><td>3</td><td>0</td><td>0</td><td>13</td><td>5</td><td>8</td><td>9</td></tr><tr><td>E2</td><td>Romania</td><td>3</td><td>1</td><td>1</td><td>1</td><td>6</td><td>5</td><td>1</td><td>4</td></tr><tr><td>E3</td><td>Ukraine</td><td>3</td><td>1</td><td>1</td><td>1</td><td>7</td><td>10</td><td>-3</td><td>4</td></tr><tr><td>E4</td><td>Belgium</td><td>3</td><td>0</td><td>0</td><td>3</td><td>5</td><td>11</td><td>-6</td><td>0</td></tr><tr><td></td><td></td><td></td><td></td><td></td><td></td><td></td><td></td><td></td><td></td></tr><tr><td></td><td></td><td></td><td></td><td></td><td></td><td></td><td></td><td></td><td></td></tr><tr><td>F1</td><td>Portugal</td><td>3</td><td>3</td><td>0</td><td>0</td><td>12</td><td>6</td><td>6</td><td>9</td></tr><tr><td>F2</td><td>Czech Republic</td><td>3</td><td>2</td><td>0</td><td>1</td><td>7</td><td>5</td><td>2</td><td>6</td></tr><tr><td>F3</td><td>Turkey</td><td>3</td><td>0</td><td>1</td><td>2</td><td>9</td><td>12</td><td>-3</td><td>1</td></tr><tr><td>F4</td><td>Greece</td><td>3</td><td>0</td><td>1</td><td>2</td><td>4</td><td>9</td><td>-5</td><td>1</td></tr></tbody></table></div>"
      ]
     },
     "metadata": {
      "application/vnd.databricks.v1+output": {
       "addedWidgets": {},
       "aggData": [],
       "aggError": "",
       "aggOverflow": false,
       "aggSchema": [],
       "aggSeriesLimitReached": false,
       "aggType": "",
       "arguments": {},
       "columnCustomDisplayInfos": {},
       "data": [
        [
         "D1",
         "Poland",
         "3",
         "3",
         "0",
         "0",
         "12",
         "8",
         "4",
         "9"
        ],
        [
         "D2",
         "Netherlands",
         "3",
         "2",
         "0",
         "1",
         "12",
         "6",
         "6",
         "6"
        ],
        [
         "D3",
         "France",
         "3",
         "1",
         "0",
         "2",
         "7",
         "10",
         "-3",
         "3"
        ],
        [
         "D4",
         "Austria",
         "3",
         "0",
         "0",
         "3",
         "3",
         "10",
         "-7",
         "0"
        ],
        [
         "",
         "",
         "",
         "",
         "",
         "",
         "",
         "",
         "",
         ""
        ],
        [
         "",
         "",
         "",
         "",
         "",
         "",
         "",
         "",
         "",
         ""
        ],
        [
         "E1",
         "Slovakia",
         "3",
         "3",
         "0",
         "0",
         "13",
         "5",
         "8",
         "9"
        ],
        [
         "E2",
         "Romania",
         "3",
         "1",
         "1",
         "1",
         "6",
         "5",
         "1",
         "4"
        ],
        [
         "E3",
         "Ukraine",
         "3",
         "1",
         "1",
         "1",
         "7",
         "10",
         "-3",
         "4"
        ],
        [
         "E4",
         "Belgium",
         "3",
         "0",
         "0",
         "3",
         "5",
         "11",
         "-6",
         "0"
        ],
        [
         "",
         "",
         "",
         "",
         "",
         "",
         "",
         "",
         "",
         ""
        ],
        [
         "",
         "",
         "",
         "",
         "",
         "",
         "",
         "",
         "",
         ""
        ],
        [
         "F1",
         "Portugal",
         "3",
         "3",
         "0",
         "0",
         "12",
         "6",
         "6",
         "9"
        ],
        [
         "F2",
         "Czech Republic",
         "3",
         "2",
         "0",
         "1",
         "7",
         "5",
         "2",
         "6"
        ],
        [
         "F3",
         "Turkey",
         "3",
         "0",
         "1",
         "2",
         "9",
         "12",
         "-3",
         "1"
        ],
        [
         "F4",
         "Greece",
         "3",
         "0",
         "1",
         "2",
         "4",
         "9",
         "-5",
         "1"
        ]
       ],
       "datasetInfos": [],
       "dbfsResultPath": null,
       "isJsonSchema": true,
       "metadata": {},
       "overflow": false,
       "plotOptions": {
        "customPlotOptions": {},
        "displayType": "table",
        "pivotAggregation": null,
        "pivotColumns": null,
        "xColumns": null,
        "yColumns": null
       },
       "removedWidgets": [],
       "schema": [
        {
         "metadata": "{}",
         "name": "R_Grp/Pos",
         "type": "\"string\""
        },
        {
         "metadata": "{}",
         "name": "R_Country",
         "type": "\"string\""
        },
        {
         "metadata": "{}",
         "name": "R_MP",
         "type": "\"string\""
        },
        {
         "metadata": "{}",
         "name": "R_W",
         "type": "\"string\""
        },
        {
         "metadata": "{}",
         "name": "R-D",
         "type": "\"string\""
        },
        {
         "metadata": "{}",
         "name": "R_L",
         "type": "\"string\""
        },
        {
         "metadata": "{}",
         "name": "R-GF",
         "type": "\"string\""
        },
        {
         "metadata": "{}",
         "name": "R_GA",
         "type": "\"string\""
        },
        {
         "metadata": "{}",
         "name": "R_GD",
         "type": "\"string\""
        },
        {
         "metadata": "{}",
         "name": "R_Pts",
         "type": "\"string\""
        }
       ],
       "type": "table"
      }
     },
     "output_type": "display_data"
    }
   ],
   "source": [
    "#list of groupstage according to groupname\n",
    "right_gs_grouped = [right_gs.iloc[i:i+4] for i in range(0, len(right_gs), 4)]\n",
    "\n",
    "#iterating over above list and adding empty row except for last one\n",
    "for i in range(len(right_gs_grouped)):\n",
    "    if i < len(right_gs_grouped) - 1:\n",
    "        right_gs_grouped[i] = pd.concat([right_gs_grouped[i], mtgs_row_pd,mtgs_row_pd], ignore_index=True)\n",
    "\n",
    "#joining them back after adding empty rows\n",
    "right_gs_spaced = pd.concat(right_gs_grouped).reset_index(drop=True)\n",
    "\n",
    "rgs_new_column_name ={'Grp/Pos': 'R_Grp/Pos',\n",
    "                       'Country': 'R_Country',\n",
    "                       'MP': 'R_MP',\n",
    "                       'W': 'R_W',\n",
    "                       'D': 'R-D',\n",
    "                       'L': 'R_L',\n",
    "                       'GF': 'R-GF',\n",
    "                       'GA': 'R_GA',\n",
    "                       'GD': 'R_GD',\n",
    "                       'Pts': 'R_Pts'\n",
    "                       }\n",
    "right_gs_spaced = right_gs_spaced.rename(columns=rgs_new_column_name)\n",
    "\n",
    "display(right_gs_spaced)"
   ]
  },
  {
   "cell_type": "code",
   "execution_count": 0,
   "metadata": {
    "application/vnd.databricks.v1+cell": {
     "cellMetadata": {
      "byteLimit": 2048000,
      "rowLimit": 10000
     },
     "inputWidgets": {},
     "nuid": "e242ec7e-5c90-440b-b7ad-0a5b840fc4cb",
     "showTitle": false,
     "title": ""
    }
   },
   "outputs": [
    {
     "output_type": "display_data",
     "data": {
      "text/html": [
       "<style scoped>\n",
       "  .table-result-container {\n",
       "    max-height: 300px;\n",
       "    overflow: auto;\n",
       "  }\n",
       "  table, th, td {\n",
       "    border: 1px solid black;\n",
       "    border-collapse: collapse;\n",
       "  }\n",
       "  th, td {\n",
       "    padding: 5px;\n",
       "  }\n",
       "  th {\n",
       "    text-align: left;\n",
       "  }\n",
       "</style><div class='table-result-container'><table class='table-result'><thead style='background-color: white'><tr><th>MatchID</th><th>Team1</th><th>Team1Goals</th><th>Team2Goals</th><th>Team2</th><th>MatchWinner</th><th>MatchStage</th></tr></thead><tbody><tr><td>1</td><td>Albania</td><td>5</td><td>5</td><td>Ukraine</td><td>Albania</td><td>R16</td></tr><tr><td>2</td><td>Switzerland</td><td>3</td><td>2</td><td>Slovenia</td><td>Switzerland</td><td>R16</td></tr><tr><td>3</td><td>Portugal</td><td>4</td><td>1</td><td>Germany</td><td>Portugal</td><td>R16</td></tr><tr><td>4</td><td>Netherlands</td><td>2</td><td>3</td><td>Romania</td><td>Romania</td><td>R16</td></tr><tr><td>5</td><td>Slovakia</td><td>1</td><td>0</td><td>England</td><td>Slovakia</td><td>R16</td></tr><tr><td>6</td><td>Poland</td><td>4</td><td>0</td><td>Czech Republic</td><td>Poland</td><td>R16</td></tr><tr><td>7</td><td>Serbia</td><td>3</td><td>1</td><td>France</td><td>Serbia</td><td>R16</td></tr><tr><td>8</td><td>Scotland</td><td>1</td><td>4</td><td>Spain</td><td>Spain</td><td>R16</td></tr></tbody></table></div>"
      ]
     },
     "metadata": {
      "application/vnd.databricks.v1+output": {
       "addedWidgets": {},
       "aggData": [],
       "aggError": "",
       "aggOverflow": false,
       "aggSchema": [],
       "aggSeriesLimitReached": false,
       "aggType": "",
       "arguments": {},
       "columnCustomDisplayInfos": {},
       "data": [
        [
         "1",
         "Albania",
         "5",
         "5",
         "Ukraine",
         "Albania",
         "R16"
        ],
        [
         "2",
         "Switzerland",
         "3",
         "2",
         "Slovenia",
         "Switzerland",
         "R16"
        ],
        [
         "3",
         "Portugal",
         "4",
         "1",
         "Germany",
         "Portugal",
         "R16"
        ],
        [
         "4",
         "Netherlands",
         "2",
         "3",
         "Romania",
         "Romania",
         "R16"
        ],
        [
         "5",
         "Slovakia",
         "1",
         "0",
         "England",
         "Slovakia",
         "R16"
        ],
        [
         "6",
         "Poland",
         "4",
         "0",
         "Czech Republic",
         "Poland",
         "R16"
        ],
        [
         "7",
         "Serbia",
         "3",
         "1",
         "France",
         "Serbia",
         "R16"
        ],
        [
         "8",
         "Scotland",
         "1",
         "4",
         "Spain",
         "Spain",
         "R16"
        ]
       ],
       "datasetInfos": [],
       "dbfsResultPath": null,
       "isJsonSchema": true,
       "metadata": {},
       "overflow": false,
       "plotOptions": {
        "customPlotOptions": {},
        "displayType": "table",
        "pivotAggregation": null,
        "pivotColumns": null,
        "xColumns": null,
        "yColumns": null
       },
       "removedWidgets": [],
       "schema": [
        {
         "metadata": "{}",
         "name": "MatchID",
         "type": "\"string\""
        },
        {
         "metadata": "{}",
         "name": "Team1",
         "type": "\"string\""
        },
        {
         "metadata": "{}",
         "name": "Team1Goals",
         "type": "\"string\""
        },
        {
         "metadata": "{}",
         "name": "Team2Goals",
         "type": "\"string\""
        },
        {
         "metadata": "{}",
         "name": "Team2",
         "type": "\"string\""
        },
        {
         "metadata": "{}",
         "name": "MatchWinner",
         "type": "\"string\""
        },
        {
         "metadata": "{}",
         "name": "MatchStage",
         "type": "\"string\""
        }
       ],
       "type": "table"
      }
     },
     "output_type": "display_data"
    }
   ],
   "source": [
    "#getting data from sql table and into pandas dataframe\n",
    "round_16 = spark.sql(\"SELECT * FROM QualificationPlacement WHERE MatchStage = 'R16'\")\n",
    "round_16_pd = round_16.toPandas()\n",
    "\n",
    "#converting to string and removing .0 from floats occuring after conversion\n",
    "round_16_pd = round_16_pd.applymap(lambda x: str(x).split(\".\")[0])\n",
    "\n",
    "display(round_16_pd)"
   ]
  },
  {
   "cell_type": "code",
   "execution_count": 0,
   "metadata": {
    "application/vnd.databricks.v1+cell": {
     "cellMetadata": {
      "byteLimit": 2048000,
      "rowLimit": 10000
     },
     "inputWidgets": {},
     "nuid": "a06a3941-8763-4b86-b08c-d49e6eae78d1",
     "showTitle": false,
     "title": ""
    }
   },
   "outputs": [
    {
     "output_type": "display_data",
     "data": {
      "text/html": [
       "<style scoped>\n",
       "  .table-result-container {\n",
       "    max-height: 300px;\n",
       "    overflow: auto;\n",
       "  }\n",
       "  table, th, td {\n",
       "    border: 1px solid black;\n",
       "    border-collapse: collapse;\n",
       "  }\n",
       "  th, td {\n",
       "    padding: 5px;\n",
       "  }\n",
       "  th {\n",
       "    text-align: left;\n",
       "  }\n",
       "</style><div class='table-result-container'><table class='table-result'><thead style='background-color: white'><tr><th>R16_Teams</th><th>R16_Score</th></tr></thead><tbody><tr><td>Albania</td><td>5</td></tr><tr><td>Ukraine</td><td>5</td></tr><tr><td>Switzerland</td><td>3</td></tr><tr><td>Slovenia</td><td>2</td></tr><tr><td>Portugal</td><td>4</td></tr><tr><td>Germany</td><td>1</td></tr><tr><td>Netherlands</td><td>2</td></tr><tr><td>Romania</td><td>3</td></tr><tr><td>Slovakia</td><td>1</td></tr><tr><td>England</td><td>0</td></tr><tr><td>Poland</td><td>4</td></tr><tr><td>Czech Republic</td><td>0</td></tr><tr><td>Serbia</td><td>3</td></tr><tr><td>France</td><td>1</td></tr><tr><td>Scotland</td><td>1</td></tr><tr><td>Spain</td><td>4</td></tr></tbody></table></div>"
      ]
     },
     "metadata": {
      "application/vnd.databricks.v1+output": {
       "addedWidgets": {},
       "aggData": [],
       "aggError": "",
       "aggOverflow": false,
       "aggSchema": [],
       "aggSeriesLimitReached": false,
       "aggType": "",
       "arguments": {},
       "columnCustomDisplayInfos": {},
       "data": [
        [
         "Albania",
         "5"
        ],
        [
         "Ukraine",
         "5"
        ],
        [
         "Switzerland",
         "3"
        ],
        [
         "Slovenia",
         "2"
        ],
        [
         "Portugal",
         "4"
        ],
        [
         "Germany",
         "1"
        ],
        [
         "Netherlands",
         "2"
        ],
        [
         "Romania",
         "3"
        ],
        [
         "Slovakia",
         "1"
        ],
        [
         "England",
         "0"
        ],
        [
         "Poland",
         "4"
        ],
        [
         "Czech Republic",
         "0"
        ],
        [
         "Serbia",
         "3"
        ],
        [
         "France",
         "1"
        ],
        [
         "Scotland",
         "1"
        ],
        [
         "Spain",
         "4"
        ]
       ],
       "datasetInfos": [],
       "dbfsResultPath": null,
       "isJsonSchema": true,
       "metadata": {},
       "overflow": false,
       "plotOptions": {
        "customPlotOptions": {},
        "displayType": "table",
        "pivotAggregation": null,
        "pivotColumns": null,
        "xColumns": null,
        "yColumns": null
       },
       "removedWidgets": [],
       "schema": [
        {
         "metadata": "{}",
         "name": "R16_Teams",
         "type": "\"string\""
        },
        {
         "metadata": "{}",
         "name": "R16_Score",
         "type": "\"string\""
        }
       ],
       "type": "table"
      }
     },
     "output_type": "display_data"
    }
   ],
   "source": [
    "#storing required data in df\n",
    "euro_r16_vis = pd.DataFrame(columns=['R16_Teams', 'R16_Score'])\n",
    "\n",
    "#displaying all teams and respective scores in columns\n",
    "for index, row in round_16_pd.iterrows():\n",
    "    team1 = row['Team1']\n",
    "    team1goals = row['Team1Goals']\n",
    "    team2 = row['Team2']\n",
    "    team2goals = row['Team2Goals']\n",
    "    euro_r16_vis = pd.concat([euro_r16_vis, pd.DataFrame({'R16_Score': [team1goals], 'R16_Teams': [team1]})], ignore_index=True)\n",
    "    euro_r16_vis = pd.concat([euro_r16_vis, pd.DataFrame({'R16_Score': [team2goals], 'R16_Teams': [team2]})], ignore_index=True)\n",
    "\n",
    "display(euro_r16_vis)\n"
   ]
  },
  {
   "cell_type": "code",
   "execution_count": 0,
   "metadata": {
    "application/vnd.databricks.v1+cell": {
     "cellMetadata": {
      "byteLimit": 2048000,
      "rowLimit": 10000
     },
     "inputWidgets": {},
     "nuid": "7840731a-eecd-4657-b94d-dae74691a2bb",
     "showTitle": false,
     "title": ""
    }
   },
   "outputs": [
    {
     "output_type": "display_data",
     "data": {
      "text/html": [
       "<style scoped>\n",
       "  .table-result-container {\n",
       "    max-height: 300px;\n",
       "    overflow: auto;\n",
       "  }\n",
       "  table, th, td {\n",
       "    border: 1px solid black;\n",
       "    border-collapse: collapse;\n",
       "  }\n",
       "  th, td {\n",
       "    padding: 5px;\n",
       "  }\n",
       "  th {\n",
       "    text-align: left;\n",
       "  }\n",
       "</style><div class='table-result-container'><table class='table-result'><thead style='background-color: white'><tr><th>R16_Teams</th><th>R16_Score</th></tr></thead><tbody><tr><td>Albania</td><td>5</td></tr><tr><td>Ukraine</td><td>5</td></tr><tr><td>Switzerland</td><td>3</td></tr><tr><td>Slovenia</td><td>2</td></tr><tr><td>Portugal</td><td>4</td></tr><tr><td>Germany</td><td>1</td></tr><tr><td>Netherlands</td><td>2</td></tr><tr><td>Romania</td><td>3</td></tr></tbody></table></div>"
      ]
     },
     "metadata": {
      "application/vnd.databricks.v1+output": {
       "addedWidgets": {},
       "aggData": [],
       "aggError": "",
       "aggOverflow": false,
       "aggSchema": [],
       "aggSeriesLimitReached": false,
       "aggType": "",
       "arguments": {},
       "columnCustomDisplayInfos": {},
       "data": [
        [
         "Albania",
         "5"
        ],
        [
         "Ukraine",
         "5"
        ],
        [
         "Switzerland",
         "3"
        ],
        [
         "Slovenia",
         "2"
        ],
        [
         "Portugal",
         "4"
        ],
        [
         "Germany",
         "1"
        ],
        [
         "Netherlands",
         "2"
        ],
        [
         "Romania",
         "3"
        ]
       ],
       "datasetInfos": [],
       "dbfsResultPath": null,
       "isJsonSchema": true,
       "metadata": {},
       "overflow": false,
       "plotOptions": {
        "customPlotOptions": {},
        "displayType": "table",
        "pivotAggregation": null,
        "pivotColumns": null,
        "xColumns": null,
        "yColumns": null
       },
       "removedWidgets": [],
       "schema": [
        {
         "metadata": "{}",
         "name": "R16_Teams",
         "type": "\"string\""
        },
        {
         "metadata": "{}",
         "name": "R16_Score",
         "type": "\"string\""
        }
       ],
       "type": "table"
      }
     },
     "output_type": "display_data"
    },
    {
     "output_type": "display_data",
     "data": {
      "text/html": [
       "<style scoped>\n",
       "  .table-result-container {\n",
       "    max-height: 300px;\n",
       "    overflow: auto;\n",
       "  }\n",
       "  table, th, td {\n",
       "    border: 1px solid black;\n",
       "    border-collapse: collapse;\n",
       "  }\n",
       "  th, td {\n",
       "    padding: 5px;\n",
       "  }\n",
       "  th {\n",
       "    text-align: left;\n",
       "  }\n",
       "</style><div class='table-result-container'><table class='table-result'><thead style='background-color: white'><tr><th>R16_Teams</th><th>R16_Score</th></tr></thead><tbody><tr><td>Slovakia</td><td>1</td></tr><tr><td>England</td><td>0</td></tr><tr><td>Poland</td><td>4</td></tr><tr><td>Czech Republic</td><td>0</td></tr><tr><td>Serbia</td><td>3</td></tr><tr><td>France</td><td>1</td></tr><tr><td>Scotland</td><td>1</td></tr><tr><td>Spain</td><td>4</td></tr></tbody></table></div>"
      ]
     },
     "metadata": {
      "application/vnd.databricks.v1+output": {
       "addedWidgets": {},
       "aggData": [],
       "aggError": "",
       "aggOverflow": false,
       "aggSchema": [],
       "aggSeriesLimitReached": false,
       "aggType": "",
       "arguments": {},
       "columnCustomDisplayInfos": {},
       "data": [
        [
         "Slovakia",
         "1"
        ],
        [
         "England",
         "0"
        ],
        [
         "Poland",
         "4"
        ],
        [
         "Czech Republic",
         "0"
        ],
        [
         "Serbia",
         "3"
        ],
        [
         "France",
         "1"
        ],
        [
         "Scotland",
         "1"
        ],
        [
         "Spain",
         "4"
        ]
       ],
       "datasetInfos": [],
       "dbfsResultPath": null,
       "isJsonSchema": true,
       "metadata": {},
       "overflow": false,
       "plotOptions": {
        "customPlotOptions": {},
        "displayType": "table",
        "pivotAggregation": null,
        "pivotColumns": null,
        "xColumns": null,
        "yColumns": null
       },
       "removedWidgets": [],
       "schema": [
        {
         "metadata": "{}",
         "name": "R16_Teams",
         "type": "\"string\""
        },
        {
         "metadata": "{}",
         "name": "R16_Score",
         "type": "\"string\""
        }
       ],
       "type": "table"
      }
     },
     "output_type": "display_data"
    }
   ],
   "source": [
    "# calculating midpoint of the dataFrame\n",
    "midpoint_index1 = len(euro_r16_vis) // 2\n",
    "\n",
    "# splitting dataFrame into two equal halves\n",
    "left_r16 = euro_r16_vis.iloc[:midpoint_index1]\n",
    "right_r16 = euro_r16_vis.iloc[midpoint_index1:]\n",
    "\n",
    "# index reset\n",
    "left_r16.reset_index(drop=True, inplace=True)\n",
    "right_r16.reset_index(drop=True, inplace=True)\n",
    "\n",
    "# displaying the split DataFrames\n",
    "display(left_r16)\n",
    "display(right_r16)"
   ]
  },
  {
   "cell_type": "code",
   "execution_count": 0,
   "metadata": {
    "application/vnd.databricks.v1+cell": {
     "cellMetadata": {
      "byteLimit": 2048000,
      "rowLimit": 10000
     },
     "inputWidgets": {},
     "nuid": "b2d177f0-83c4-425e-828f-8e4a1bdc0c48",
     "showTitle": false,
     "title": ""
    }
   },
   "outputs": [],
   "source": [
    "#empty row for round of 16\n",
    "r16_row_pd = pd.DataFrame({col: [''] for col in euro_r16_vis.columns})"
   ]
  },
  {
   "cell_type": "code",
   "execution_count": 0,
   "metadata": {
    "application/vnd.databricks.v1+cell": {
     "cellMetadata": {
      "byteLimit": 2048000,
      "rowLimit": 10000
     },
     "inputWidgets": {},
     "nuid": "71624a9e-0a8c-4ed8-815d-b162d5e96d07",
     "showTitle": false,
     "title": ""
    }
   },
   "outputs": [
    {
     "output_type": "display_data",
     "data": {
      "text/html": [
       "<style scoped>\n",
       "  .table-result-container {\n",
       "    max-height: 300px;\n",
       "    overflow: auto;\n",
       "  }\n",
       "  table, th, td {\n",
       "    border: 1px solid black;\n",
       "    border-collapse: collapse;\n",
       "  }\n",
       "  th, td {\n",
       "    padding: 5px;\n",
       "  }\n",
       "  th {\n",
       "    text-align: left;\n",
       "  }\n",
       "</style><div class='table-result-container'><table class='table-result'><thead style='background-color: white'><tr><th>L_R16_Teams</th><th>L_R16_Score</th></tr></thead><tbody><tr><td></td><td></td></tr><tr><td>Albania</td><td>5</td></tr><tr><td>Ukraine</td><td>5</td></tr><tr><td></td><td></td></tr><tr><td></td><td></td></tr><tr><td>Switzerland</td><td>3</td></tr><tr><td>Slovenia</td><td>2</td></tr><tr><td></td><td></td></tr><tr><td></td><td></td></tr><tr><td>Portugal</td><td>4</td></tr><tr><td>Germany</td><td>1</td></tr><tr><td></td><td></td></tr><tr><td></td><td></td></tr><tr><td>Netherlands</td><td>2</td></tr><tr><td>Romania</td><td>3</td></tr><tr><td></td><td></td></tr></tbody></table></div>"
      ]
     },
     "metadata": {
      "application/vnd.databricks.v1+output": {
       "addedWidgets": {},
       "aggData": [],
       "aggError": "",
       "aggOverflow": false,
       "aggSchema": [],
       "aggSeriesLimitReached": false,
       "aggType": "",
       "arguments": {},
       "columnCustomDisplayInfos": {},
       "data": [
        [
         "",
         ""
        ],
        [
         "Albania",
         "5"
        ],
        [
         "Ukraine",
         "5"
        ],
        [
         "",
         ""
        ],
        [
         "",
         ""
        ],
        [
         "Switzerland",
         "3"
        ],
        [
         "Slovenia",
         "2"
        ],
        [
         "",
         ""
        ],
        [
         "",
         ""
        ],
        [
         "Portugal",
         "4"
        ],
        [
         "Germany",
         "1"
        ],
        [
         "",
         ""
        ],
        [
         "",
         ""
        ],
        [
         "Netherlands",
         "2"
        ],
        [
         "Romania",
         "3"
        ],
        [
         "",
         ""
        ]
       ],
       "datasetInfos": [],
       "dbfsResultPath": null,
       "isJsonSchema": true,
       "metadata": {},
       "overflow": false,
       "plotOptions": {
        "customPlotOptions": {},
        "displayType": "table",
        "pivotAggregation": null,
        "pivotColumns": null,
        "xColumns": null,
        "yColumns": null
       },
       "removedWidgets": [],
       "schema": [
        {
         "metadata": "{}",
         "name": "L_R16_Teams",
         "type": "\"string\""
        },
        {
         "metadata": "{}",
         "name": "L_R16_Score",
         "type": "\"string\""
        }
       ],
       "type": "table"
      }
     },
     "output_type": "display_data"
    }
   ],
   "source": [
    "\n",
    "left_r16_grouped = [left_r16.iloc[i:i+2] for i in range(0, len(left_r16), 2)]\n",
    "\n",
    "for i in range(len(left_r16_grouped)):\n",
    "    if i < len(left_r16_grouped):\n",
    "        left_r16_grouped[i] = pd.concat([r16_row_pd,left_r16_grouped[i], r16_row_pd], ignore_index=True)\n",
    "\n",
    "left_r16_spaced = pd.concat(left_r16_grouped).reset_index(drop=True)\n",
    "\n",
    "lr16_new_column_name ={'R16_Teams': 'L_R16_Teams',\n",
    "                       'R16_Score': 'L_R16_Score'\n",
    "                       }\n",
    "left_r16_spaced = left_r16_spaced.rename(columns=lr16_new_column_name)\n",
    "\n",
    "display(left_r16_spaced)"
   ]
  },
  {
   "cell_type": "code",
   "execution_count": 0,
   "metadata": {
    "application/vnd.databricks.v1+cell": {
     "cellMetadata": {
      "byteLimit": 2048000,
      "rowLimit": 10000
     },
     "inputWidgets": {},
     "nuid": "eb2a5417-2559-4ef2-a0f1-30a9123a9daa",
     "showTitle": false,
     "title": ""
    }
   },
   "outputs": [
    {
     "output_type": "display_data",
     "data": {
      "text/html": [
       "<style scoped>\n",
       "  .table-result-container {\n",
       "    max-height: 300px;\n",
       "    overflow: auto;\n",
       "  }\n",
       "  table, th, td {\n",
       "    border: 1px solid black;\n",
       "    border-collapse: collapse;\n",
       "  }\n",
       "  th, td {\n",
       "    padding: 5px;\n",
       "  }\n",
       "  th {\n",
       "    text-align: left;\n",
       "  }\n",
       "</style><div class='table-result-container'><table class='table-result'><thead style='background-color: white'><tr><th>R_R16_Score</th><th>R_R16_Teams</th></tr></thead><tbody><tr><td></td><td></td></tr><tr><td>1</td><td>Slovakia</td></tr><tr><td>0</td><td>England</td></tr><tr><td></td><td></td></tr><tr><td></td><td></td></tr><tr><td>4</td><td>Poland</td></tr><tr><td>0</td><td>Czech Republic</td></tr><tr><td></td><td></td></tr><tr><td></td><td></td></tr><tr><td>3</td><td>Serbia</td></tr><tr><td>1</td><td>France</td></tr><tr><td></td><td></td></tr><tr><td></td><td></td></tr><tr><td>1</td><td>Scotland</td></tr><tr><td>4</td><td>Spain</td></tr><tr><td></td><td></td></tr></tbody></table></div>"
      ]
     },
     "metadata": {
      "application/vnd.databricks.v1+output": {
       "addedWidgets": {},
       "aggData": [],
       "aggError": "",
       "aggOverflow": false,
       "aggSchema": [],
       "aggSeriesLimitReached": false,
       "aggType": "",
       "arguments": {},
       "columnCustomDisplayInfos": {},
       "data": [
        [
         "",
         ""
        ],
        [
         "1",
         "Slovakia"
        ],
        [
         "0",
         "England"
        ],
        [
         "",
         ""
        ],
        [
         "",
         ""
        ],
        [
         "4",
         "Poland"
        ],
        [
         "0",
         "Czech Republic"
        ],
        [
         "",
         ""
        ],
        [
         "",
         ""
        ],
        [
         "3",
         "Serbia"
        ],
        [
         "1",
         "France"
        ],
        [
         "",
         ""
        ],
        [
         "",
         ""
        ],
        [
         "1",
         "Scotland"
        ],
        [
         "4",
         "Spain"
        ],
        [
         "",
         ""
        ]
       ],
       "datasetInfos": [],
       "dbfsResultPath": null,
       "isJsonSchema": true,
       "metadata": {},
       "overflow": false,
       "plotOptions": {
        "customPlotOptions": {},
        "displayType": "table",
        "pivotAggregation": null,
        "pivotColumns": null,
        "xColumns": null,
        "yColumns": null
       },
       "removedWidgets": [],
       "schema": [
        {
         "metadata": "{}",
         "name": "R_R16_Score",
         "type": "\"string\""
        },
        {
         "metadata": "{}",
         "name": "R_R16_Teams",
         "type": "\"string\""
        }
       ],
       "type": "table"
      }
     },
     "output_type": "display_data"
    }
   ],
   "source": [
    "right_r16_grouped = [right_r16.iloc[i:i+2] for i in range(0, len(right_r16), 2)]\n",
    "\n",
    "for i in range(len(right_r16_grouped)):\n",
    "    if i < len(right_r16_grouped):\n",
    "        right_r16_grouped[i] = pd.concat([r16_row_pd,right_r16_grouped[i], r16_row_pd], ignore_index=True)\n",
    "\n",
    "right_r16_spaced = pd.concat(right_r16_grouped).reset_index(drop=True)\n",
    "\n",
    "rr16_new_column_name ={'R16_Teams': 'R_R16_Teams',\n",
    "                       'R16_Score': 'R_R16_Score'\n",
    "                       }\n",
    "right_r16_spaced = right_r16_spaced.rename(columns=rr16_new_column_name)\n",
    "\n",
    "rr16_new_column_order = ['R_R16_Score', 'R_R16_Teams']\n",
    "right_r16_spaced = right_r16_spaced[rr16_new_column_order]\n",
    "\n",
    "display(right_r16_spaced)"
   ]
  },
  {
   "cell_type": "code",
   "execution_count": 0,
   "metadata": {
    "application/vnd.databricks.v1+cell": {
     "cellMetadata": {
      "byteLimit": 2048000,
      "rowLimit": 10000
     },
     "inputWidgets": {},
     "nuid": "c2685989-6e85-4240-b404-46f119a3be1c",
     "showTitle": false,
     "title": ""
    }
   },
   "outputs": [
    {
     "output_type": "display_data",
     "data": {
      "text/html": [
       "<style scoped>\n",
       "  .table-result-container {\n",
       "    max-height: 300px;\n",
       "    overflow: auto;\n",
       "  }\n",
       "  table, th, td {\n",
       "    border: 1px solid black;\n",
       "    border-collapse: collapse;\n",
       "  }\n",
       "  th, td {\n",
       "    padding: 5px;\n",
       "  }\n",
       "  th {\n",
       "    text-align: left;\n",
       "  }\n",
       "</style><div class='table-result-container'><table class='table-result'><thead style='background-color: white'><tr><th>MatchID</th><th>Team1</th><th>Team1Goals</th><th>Team2Goals</th><th>Team2</th><th>MatchWinner</th><th>MatchStage</th></tr></thead><tbody><tr><td>9</td><td>Albania</td><td>1</td><td>3</td><td>Switzerland</td><td>Switzerland</td><td>QF</td></tr><tr><td>10</td><td>Portugal</td><td>3</td><td>3</td><td>Romania</td><td>Portugal</td><td>QF</td></tr><tr><td>11</td><td>Slovakia</td><td>5</td><td>4</td><td>Poland</td><td>Slovakia</td><td>QF</td></tr><tr><td>12</td><td>Serbia</td><td>3</td><td>0</td><td>Spain</td><td>Serbia</td><td>QF</td></tr></tbody></table></div>"
      ]
     },
     "metadata": {
      "application/vnd.databricks.v1+output": {
       "addedWidgets": {},
       "aggData": [],
       "aggError": "",
       "aggOverflow": false,
       "aggSchema": [],
       "aggSeriesLimitReached": false,
       "aggType": "",
       "arguments": {},
       "columnCustomDisplayInfos": {},
       "data": [
        [
         "9",
         "Albania",
         "1",
         "3",
         "Switzerland",
         "Switzerland",
         "QF"
        ],
        [
         "10",
         "Portugal",
         "3",
         "3",
         "Romania",
         "Portugal",
         "QF"
        ],
        [
         "11",
         "Slovakia",
         "5",
         "4",
         "Poland",
         "Slovakia",
         "QF"
        ],
        [
         "12",
         "Serbia",
         "3",
         "0",
         "Spain",
         "Serbia",
         "QF"
        ]
       ],
       "datasetInfos": [],
       "dbfsResultPath": null,
       "isJsonSchema": true,
       "metadata": {},
       "overflow": false,
       "plotOptions": {
        "customPlotOptions": {},
        "displayType": "table",
        "pivotAggregation": null,
        "pivotColumns": null,
        "xColumns": null,
        "yColumns": null
       },
       "removedWidgets": [],
       "schema": [
        {
         "metadata": "{}",
         "name": "MatchID",
         "type": "\"string\""
        },
        {
         "metadata": "{}",
         "name": "Team1",
         "type": "\"string\""
        },
        {
         "metadata": "{}",
         "name": "Team1Goals",
         "type": "\"string\""
        },
        {
         "metadata": "{}",
         "name": "Team2Goals",
         "type": "\"string\""
        },
        {
         "metadata": "{}",
         "name": "Team2",
         "type": "\"string\""
        },
        {
         "metadata": "{}",
         "name": "MatchWinner",
         "type": "\"string\""
        },
        {
         "metadata": "{}",
         "name": "MatchStage",
         "type": "\"string\""
        }
       ],
       "type": "table"
      }
     },
     "output_type": "display_data"
    }
   ],
   "source": [
    "qf = spark.sql(\"SELECT * FROM QualificationPlacement WHERE MatchStage = 'QF'\")\n",
    "qf_pd = qf.toPandas()\n",
    "qf_pd = qf_pd.applymap(lambda x: str(x).split(\".\")[0])\n",
    "\n",
    "display(qf_pd)"
   ]
  },
  {
   "cell_type": "code",
   "execution_count": 0,
   "metadata": {
    "application/vnd.databricks.v1+cell": {
     "cellMetadata": {
      "byteLimit": 2048000,
      "rowLimit": 10000
     },
     "inputWidgets": {},
     "nuid": "5edfcbe6-3e11-433e-b353-58d18d4a7a9d",
     "showTitle": false,
     "title": ""
    }
   },
   "outputs": [
    {
     "output_type": "display_data",
     "data": {
      "text/html": [
       "<style scoped>\n",
       "  .table-result-container {\n",
       "    max-height: 300px;\n",
       "    overflow: auto;\n",
       "  }\n",
       "  table, th, td {\n",
       "    border: 1px solid black;\n",
       "    border-collapse: collapse;\n",
       "  }\n",
       "  th, td {\n",
       "    padding: 5px;\n",
       "  }\n",
       "  th {\n",
       "    text-align: left;\n",
       "  }\n",
       "</style><div class='table-result-container'><table class='table-result'><thead style='background-color: white'><tr><th>QF_Teams</th><th>QF_Score</th></tr></thead><tbody><tr><td>Albania</td><td>1</td></tr><tr><td>Switzerland</td><td>3</td></tr><tr><td>Portugal</td><td>3</td></tr><tr><td>Romania</td><td>3</td></tr><tr><td>Slovakia</td><td>5</td></tr><tr><td>Poland</td><td>4</td></tr><tr><td>Serbia</td><td>3</td></tr><tr><td>Spain</td><td>0</td></tr></tbody></table></div>"
      ]
     },
     "metadata": {
      "application/vnd.databricks.v1+output": {
       "addedWidgets": {},
       "aggData": [],
       "aggError": "",
       "aggOverflow": false,
       "aggSchema": [],
       "aggSeriesLimitReached": false,
       "aggType": "",
       "arguments": {},
       "columnCustomDisplayInfos": {},
       "data": [
        [
         "Albania",
         "1"
        ],
        [
         "Switzerland",
         "3"
        ],
        [
         "Portugal",
         "3"
        ],
        [
         "Romania",
         "3"
        ],
        [
         "Slovakia",
         "5"
        ],
        [
         "Poland",
         "4"
        ],
        [
         "Serbia",
         "3"
        ],
        [
         "Spain",
         "0"
        ]
       ],
       "datasetInfos": [],
       "dbfsResultPath": null,
       "isJsonSchema": true,
       "metadata": {},
       "overflow": false,
       "plotOptions": {
        "customPlotOptions": {},
        "displayType": "table",
        "pivotAggregation": null,
        "pivotColumns": null,
        "xColumns": null,
        "yColumns": null
       },
       "removedWidgets": [],
       "schema": [
        {
         "metadata": "{}",
         "name": "QF_Teams",
         "type": "\"string\""
        },
        {
         "metadata": "{}",
         "name": "QF_Score",
         "type": "\"string\""
        }
       ],
       "type": "table"
      }
     },
     "output_type": "display_data"
    }
   ],
   "source": [
    "#storing required data in df\n",
    "qf_vis = pd.DataFrame(columns=['QF_Teams', 'QF_Score'])\n",
    "\n",
    "#displaying all teams and respective scores in columns\n",
    "for index, row in qf_pd.iterrows():\n",
    "    team1 = row['Team1']\n",
    "    team1goals = row['Team1Goals']\n",
    "    team2 = row['Team2']\n",
    "    team2goals = row['Team2Goals']\n",
    "    qf_vis = pd.concat([qf_vis, pd.DataFrame({'QF_Teams': [team1], 'QF_Score': [team1goals]})], ignore_index=True)\n",
    "    qf_vis = pd.concat([qf_vis, pd.DataFrame({'QF_Teams': [team2], 'QF_Score': [team2goals]})], ignore_index=True)\n",
    "\n",
    "display(qf_vis)"
   ]
  },
  {
   "cell_type": "code",
   "execution_count": 0,
   "metadata": {
    "application/vnd.databricks.v1+cell": {
     "cellMetadata": {
      "byteLimit": 2048000,
      "rowLimit": 10000
     },
     "inputWidgets": {},
     "nuid": "d14e3078-c613-47e0-9c1e-994cfbc51581",
     "showTitle": false,
     "title": ""
    }
   },
   "outputs": [
    {
     "output_type": "display_data",
     "data": {
      "text/html": [
       "<style scoped>\n",
       "  .table-result-container {\n",
       "    max-height: 300px;\n",
       "    overflow: auto;\n",
       "  }\n",
       "  table, th, td {\n",
       "    border: 1px solid black;\n",
       "    border-collapse: collapse;\n",
       "  }\n",
       "  th, td {\n",
       "    padding: 5px;\n",
       "  }\n",
       "  th {\n",
       "    text-align: left;\n",
       "  }\n",
       "</style><div class='table-result-container'><table class='table-result'><thead style='background-color: white'><tr><th>QF_Teams</th><th>QF_Score</th></tr></thead><tbody><tr><td>Albania</td><td>1</td></tr><tr><td>Switzerland</td><td>3</td></tr><tr><td>Portugal</td><td>3</td></tr><tr><td>Romania</td><td>3</td></tr></tbody></table></div>"
      ]
     },
     "metadata": {
      "application/vnd.databricks.v1+output": {
       "addedWidgets": {},
       "aggData": [],
       "aggError": "",
       "aggOverflow": false,
       "aggSchema": [],
       "aggSeriesLimitReached": false,
       "aggType": "",
       "arguments": {},
       "columnCustomDisplayInfos": {},
       "data": [
        [
         "Albania",
         "1"
        ],
        [
         "Switzerland",
         "3"
        ],
        [
         "Portugal",
         "3"
        ],
        [
         "Romania",
         "3"
        ]
       ],
       "datasetInfos": [],
       "dbfsResultPath": null,
       "isJsonSchema": true,
       "metadata": {},
       "overflow": false,
       "plotOptions": {
        "customPlotOptions": {},
        "displayType": "table",
        "pivotAggregation": null,
        "pivotColumns": null,
        "xColumns": null,
        "yColumns": null
       },
       "removedWidgets": [],
       "schema": [
        {
         "metadata": "{}",
         "name": "QF_Teams",
         "type": "\"string\""
        },
        {
         "metadata": "{}",
         "name": "QF_Score",
         "type": "\"string\""
        }
       ],
       "type": "table"
      }
     },
     "output_type": "display_data"
    },
    {
     "output_type": "display_data",
     "data": {
      "text/html": [
       "<style scoped>\n",
       "  .table-result-container {\n",
       "    max-height: 300px;\n",
       "    overflow: auto;\n",
       "  }\n",
       "  table, th, td {\n",
       "    border: 1px solid black;\n",
       "    border-collapse: collapse;\n",
       "  }\n",
       "  th, td {\n",
       "    padding: 5px;\n",
       "  }\n",
       "  th {\n",
       "    text-align: left;\n",
       "  }\n",
       "</style><div class='table-result-container'><table class='table-result'><thead style='background-color: white'><tr><th>QF_Teams</th><th>QF_Score</th></tr></thead><tbody><tr><td>Slovakia</td><td>5</td></tr><tr><td>Poland</td><td>4</td></tr><tr><td>Serbia</td><td>3</td></tr><tr><td>Spain</td><td>0</td></tr></tbody></table></div>"
      ]
     },
     "metadata": {
      "application/vnd.databricks.v1+output": {
       "addedWidgets": {},
       "aggData": [],
       "aggError": "",
       "aggOverflow": false,
       "aggSchema": [],
       "aggSeriesLimitReached": false,
       "aggType": "",
       "arguments": {},
       "columnCustomDisplayInfos": {},
       "data": [
        [
         "Slovakia",
         "5"
        ],
        [
         "Poland",
         "4"
        ],
        [
         "Serbia",
         "3"
        ],
        [
         "Spain",
         "0"
        ]
       ],
       "datasetInfos": [],
       "dbfsResultPath": null,
       "isJsonSchema": true,
       "metadata": {},
       "overflow": false,
       "plotOptions": {
        "customPlotOptions": {},
        "displayType": "table",
        "pivotAggregation": null,
        "pivotColumns": null,
        "xColumns": null,
        "yColumns": null
       },
       "removedWidgets": [],
       "schema": [
        {
         "metadata": "{}",
         "name": "QF_Teams",
         "type": "\"string\""
        },
        {
         "metadata": "{}",
         "name": "QF_Score",
         "type": "\"string\""
        }
       ],
       "type": "table"
      }
     },
     "output_type": "display_data"
    }
   ],
   "source": [
    "# calculating midpoint of the dataFrame\n",
    "midpoint_index2 = len(qf_vis) // 2\n",
    "\n",
    "# splitting dataFrame into two equal halves\n",
    "left_qf = qf_vis.iloc[:midpoint_index2]\n",
    "right_qf = qf_vis.iloc[midpoint_index2:]\n",
    "\n",
    "# index reset\n",
    "left_qf.reset_index(drop=True, inplace=True)\n",
    "right_qf.reset_index(drop=True, inplace=True)\n",
    "\n",
    "# displaying the split DataFrames\n",
    "display(left_qf)\n",
    "display(right_qf)"
   ]
  },
  {
   "cell_type": "code",
   "execution_count": 0,
   "metadata": {
    "application/vnd.databricks.v1+cell": {
     "cellMetadata": {
      "byteLimit": 2048000,
      "rowLimit": 10000
     },
     "inputWidgets": {},
     "nuid": "28886f67-e971-4b67-a250-be879e2ce5db",
     "showTitle": false,
     "title": ""
    }
   },
   "outputs": [],
   "source": [
    "qf_row_pd = pd.DataFrame({col: [''] for col in qf_vis.columns})"
   ]
  },
  {
   "cell_type": "code",
   "execution_count": 0,
   "metadata": {
    "application/vnd.databricks.v1+cell": {
     "cellMetadata": {
      "byteLimit": 2048000,
      "rowLimit": 10000
     },
     "inputWidgets": {},
     "nuid": "a3d0b68b-2ccf-4e53-9c1b-d1d2f4904144",
     "showTitle": false,
     "title": ""
    }
   },
   "outputs": [
    {
     "output_type": "display_data",
     "data": {
      "text/html": [
       "<style scoped>\n",
       "  .table-result-container {\n",
       "    max-height: 300px;\n",
       "    overflow: auto;\n",
       "  }\n",
       "  table, th, td {\n",
       "    border: 1px solid black;\n",
       "    border-collapse: collapse;\n",
       "  }\n",
       "  th, td {\n",
       "    padding: 5px;\n",
       "  }\n",
       "  th {\n",
       "    text-align: left;\n",
       "  }\n",
       "</style><div class='table-result-container'><table class='table-result'><thead style='background-color: white'><tr><th>L_QF_Teams</th><th>L_QF_Score</th></tr></thead><tbody><tr><td></td><td></td></tr><tr><td></td><td></td></tr><tr><td></td><td></td></tr><tr><td></td><td></td></tr><tr><td>Albania</td><td>1</td></tr><tr><td>Switzerland</td><td>3</td></tr><tr><td></td><td></td></tr><tr><td></td><td></td></tr><tr><td></td><td></td></tr><tr><td></td><td></td></tr><tr><td>Portugal</td><td>3</td></tr><tr><td>Romania</td><td>3</td></tr><tr><td></td><td></td></tr><tr><td></td><td></td></tr><tr><td></td><td></td></tr><tr><td></td><td></td></tr></tbody></table></div>"
      ]
     },
     "metadata": {
      "application/vnd.databricks.v1+output": {
       "addedWidgets": {},
       "aggData": [],
       "aggError": "",
       "aggOverflow": false,
       "aggSchema": [],
       "aggSeriesLimitReached": false,
       "aggType": "",
       "arguments": {},
       "columnCustomDisplayInfos": {},
       "data": [
        [
         "",
         ""
        ],
        [
         "",
         ""
        ],
        [
         "",
         ""
        ],
        [
         "",
         ""
        ],
        [
         "Albania",
         "1"
        ],
        [
         "Switzerland",
         "3"
        ],
        [
         "",
         ""
        ],
        [
         "",
         ""
        ],
        [
         "",
         ""
        ],
        [
         "",
         ""
        ],
        [
         "Portugal",
         "3"
        ],
        [
         "Romania",
         "3"
        ],
        [
         "",
         ""
        ],
        [
         "",
         ""
        ],
        [
         "",
         ""
        ],
        [
         "",
         ""
        ]
       ],
       "datasetInfos": [],
       "dbfsResultPath": null,
       "isJsonSchema": true,
       "metadata": {},
       "overflow": false,
       "plotOptions": {
        "customPlotOptions": {},
        "displayType": "table",
        "pivotAggregation": null,
        "pivotColumns": null,
        "xColumns": null,
        "yColumns": null
       },
       "removedWidgets": [],
       "schema": [
        {
         "metadata": "{}",
         "name": "L_QF_Teams",
         "type": "\"string\""
        },
        {
         "metadata": "{}",
         "name": "L_QF_Score",
         "type": "\"string\""
        }
       ],
       "type": "table"
      }
     },
     "output_type": "display_data"
    }
   ],
   "source": [
    "left_qf_grouped = [left_qf.iloc[i:i+2] for i in range(0, len(left_qf), 2)]\n",
    "\n",
    "for i in range(len(left_qf_grouped)):\n",
    "    if i < len(left_qf_grouped):\n",
    "        left_qf_grouped[i] = pd.concat([qf_row_pd, qf_row_pd, qf_row_pd,qf_row_pd, left_qf_grouped[i]], ignore_index=True)\n",
    "\n",
    "left_qf_spaced = pd.concat(left_qf_grouped).reset_index(drop=True)\n",
    "\n",
    "for _ in range(4):\n",
    "    left_qf_spaced = pd.concat([left_qf_spaced, qf_row_pd], ignore_index=True)\n",
    "\n",
    "lqf_new_column_name ={'QF_Teams': 'L_QF_Teams',\n",
    "                       'QF_Score': 'L_QF_Score'\n",
    "                       }\n",
    "left_qf_spaced = left_qf_spaced.rename(columns=lqf_new_column_name)\n",
    "\n",
    "display(left_qf_spaced)"
   ]
  },
  {
   "cell_type": "code",
   "execution_count": 0,
   "metadata": {
    "application/vnd.databricks.v1+cell": {
     "cellMetadata": {
      "byteLimit": 2048000,
      "rowLimit": 10000
     },
     "inputWidgets": {},
     "nuid": "bd59e7cf-34f0-455a-8d90-6945ee25e566",
     "showTitle": false,
     "title": ""
    }
   },
   "outputs": [
    {
     "output_type": "display_data",
     "data": {
      "text/html": [
       "<style scoped>\n",
       "  .table-result-container {\n",
       "    max-height: 300px;\n",
       "    overflow: auto;\n",
       "  }\n",
       "  table, th, td {\n",
       "    border: 1px solid black;\n",
       "    border-collapse: collapse;\n",
       "  }\n",
       "  th, td {\n",
       "    padding: 5px;\n",
       "  }\n",
       "  th {\n",
       "    text-align: left;\n",
       "  }\n",
       "</style><div class='table-result-container'><table class='table-result'><thead style='background-color: white'><tr><th>R_QF_Score</th><th>R_QF_Teams</th></tr></thead><tbody><tr><td></td><td></td></tr><tr><td></td><td></td></tr><tr><td></td><td></td></tr><tr><td></td><td></td></tr><tr><td>5</td><td>Slovakia</td></tr><tr><td>4</td><td>Poland</td></tr><tr><td></td><td></td></tr><tr><td></td><td></td></tr><tr><td></td><td></td></tr><tr><td></td><td></td></tr><tr><td>3</td><td>Serbia</td></tr><tr><td>0</td><td>Spain</td></tr><tr><td></td><td></td></tr><tr><td></td><td></td></tr><tr><td></td><td></td></tr><tr><td></td><td></td></tr></tbody></table></div>"
      ]
     },
     "metadata": {
      "application/vnd.databricks.v1+output": {
       "addedWidgets": {},
       "aggData": [],
       "aggError": "",
       "aggOverflow": false,
       "aggSchema": [],
       "aggSeriesLimitReached": false,
       "aggType": "",
       "arguments": {},
       "columnCustomDisplayInfos": {},
       "data": [
        [
         "",
         ""
        ],
        [
         "",
         ""
        ],
        [
         "",
         ""
        ],
        [
         "",
         ""
        ],
        [
         "5",
         "Slovakia"
        ],
        [
         "4",
         "Poland"
        ],
        [
         "",
         ""
        ],
        [
         "",
         ""
        ],
        [
         "",
         ""
        ],
        [
         "",
         ""
        ],
        [
         "3",
         "Serbia"
        ],
        [
         "0",
         "Spain"
        ],
        [
         "",
         ""
        ],
        [
         "",
         ""
        ],
        [
         "",
         ""
        ],
        [
         "",
         ""
        ]
       ],
       "datasetInfos": [],
       "dbfsResultPath": null,
       "isJsonSchema": true,
       "metadata": {},
       "overflow": false,
       "plotOptions": {
        "customPlotOptions": {},
        "displayType": "table",
        "pivotAggregation": null,
        "pivotColumns": null,
        "xColumns": null,
        "yColumns": null
       },
       "removedWidgets": [],
       "schema": [
        {
         "metadata": "{}",
         "name": "R_QF_Score",
         "type": "\"string\""
        },
        {
         "metadata": "{}",
         "name": "R_QF_Teams",
         "type": "\"string\""
        }
       ],
       "type": "table"
      }
     },
     "output_type": "display_data"
    }
   ],
   "source": [
    "right_qf_grouped = [right_qf.iloc[i:i+2] for i in range(0, len(left_qf), 2)]\n",
    "\n",
    "for i in range(len(right_qf_grouped)):\n",
    "    if i < len(right_qf_grouped):\n",
    "        right_qf_grouped[i] = pd.concat([qf_row_pd, qf_row_pd, qf_row_pd,qf_row_pd, right_qf_grouped[i]], ignore_index=True)\n",
    "\n",
    "right_qf_spaced = pd.concat(right_qf_grouped).reset_index(drop=True)\n",
    "\n",
    "for _ in range(4):\n",
    "    right_qf_spaced = pd.concat([right_qf_spaced, qf_row_pd], ignore_index=True)\n",
    "\n",
    "rqf_new_column_name ={'QF_Teams': 'R_QF_Teams',\n",
    "                       'QF_Score': 'R_QF_Score'\n",
    "                       }\n",
    "right_qf_spaced = right_qf_spaced.rename(columns=rqf_new_column_name)\n",
    "\n",
    "rqf_new_column_order = ['R_QF_Score', 'R_QF_Teams']\n",
    "right_qf_spaced = right_qf_spaced[rqf_new_column_order]\n",
    "\n",
    "display(right_qf_spaced)"
   ]
  },
  {
   "cell_type": "code",
   "execution_count": 0,
   "metadata": {
    "application/vnd.databricks.v1+cell": {
     "cellMetadata": {
      "byteLimit": 2048000,
      "rowLimit": 10000
     },
     "inputWidgets": {},
     "nuid": "f4f0abdf-da1c-4058-8f3f-f07c1e8e3d92",
     "showTitle": false,
     "title": ""
    }
   },
   "outputs": [
    {
     "output_type": "display_data",
     "data": {
      "text/html": [
       "<style scoped>\n",
       "  .table-result-container {\n",
       "    max-height: 300px;\n",
       "    overflow: auto;\n",
       "  }\n",
       "  table, th, td {\n",
       "    border: 1px solid black;\n",
       "    border-collapse: collapse;\n",
       "  }\n",
       "  th, td {\n",
       "    padding: 5px;\n",
       "  }\n",
       "  th {\n",
       "    text-align: left;\n",
       "  }\n",
       "</style><div class='table-result-container'><table class='table-result'><thead style='background-color: white'><tr><th>MatchID</th><th>Team1</th><th>Team1Goals</th><th>Team2Goals</th><th>Team2</th><th>MatchWinner</th><th>MatchStage</th></tr></thead><tbody><tr><td>13</td><td>Switzerland</td><td>2</td><td>1</td><td>Portugal</td><td>Switzerland</td><td>SF</td></tr><tr><td>14</td><td>Slovakia</td><td>0</td><td>5</td><td>Serbia</td><td>Serbia</td><td>SF</td></tr></tbody></table></div>"
      ]
     },
     "metadata": {
      "application/vnd.databricks.v1+output": {
       "addedWidgets": {},
       "aggData": [],
       "aggError": "",
       "aggOverflow": false,
       "aggSchema": [],
       "aggSeriesLimitReached": false,
       "aggType": "",
       "arguments": {},
       "columnCustomDisplayInfos": {},
       "data": [
        [
         "13",
         "Switzerland",
         "2",
         "1",
         "Portugal",
         "Switzerland",
         "SF"
        ],
        [
         "14",
         "Slovakia",
         "0",
         "5",
         "Serbia",
         "Serbia",
         "SF"
        ]
       ],
       "datasetInfos": [],
       "dbfsResultPath": null,
       "isJsonSchema": true,
       "metadata": {},
       "overflow": false,
       "plotOptions": {
        "customPlotOptions": {},
        "displayType": "table",
        "pivotAggregation": null,
        "pivotColumns": null,
        "xColumns": null,
        "yColumns": null
       },
       "removedWidgets": [],
       "schema": [
        {
         "metadata": "{}",
         "name": "MatchID",
         "type": "\"string\""
        },
        {
         "metadata": "{}",
         "name": "Team1",
         "type": "\"string\""
        },
        {
         "metadata": "{}",
         "name": "Team1Goals",
         "type": "\"string\""
        },
        {
         "metadata": "{}",
         "name": "Team2Goals",
         "type": "\"string\""
        },
        {
         "metadata": "{}",
         "name": "Team2",
         "type": "\"string\""
        },
        {
         "metadata": "{}",
         "name": "MatchWinner",
         "type": "\"string\""
        },
        {
         "metadata": "{}",
         "name": "MatchStage",
         "type": "\"string\""
        }
       ],
       "type": "table"
      }
     },
     "output_type": "display_data"
    }
   ],
   "source": [
    "sf = spark.sql(\"SELECT * FROM QualificationPlacement WHERE MatchStage = 'SF'\")\n",
    "sf_pd = sf.toPandas()\n",
    "sf_pd = sf_pd.applymap(lambda x: str(x).split(\".\")[0])\n",
    "\n",
    "display(sf_pd)"
   ]
  },
  {
   "cell_type": "code",
   "execution_count": 0,
   "metadata": {
    "application/vnd.databricks.v1+cell": {
     "cellMetadata": {
      "byteLimit": 2048000,
      "rowLimit": 10000
     },
     "inputWidgets": {},
     "nuid": "9589f6d9-83aa-49fd-bcdf-02fc02eaf19a",
     "showTitle": false,
     "title": ""
    }
   },
   "outputs": [
    {
     "output_type": "display_data",
     "data": {
      "text/html": [
       "<style scoped>\n",
       "  .table-result-container {\n",
       "    max-height: 300px;\n",
       "    overflow: auto;\n",
       "  }\n",
       "  table, th, td {\n",
       "    border: 1px solid black;\n",
       "    border-collapse: collapse;\n",
       "  }\n",
       "  th, td {\n",
       "    padding: 5px;\n",
       "  }\n",
       "  th {\n",
       "    text-align: left;\n",
       "  }\n",
       "</style><div class='table-result-container'><table class='table-result'><thead style='background-color: white'><tr><th>SF_Teams</th><th>SF_Score</th></tr></thead><tbody><tr><td>Switzerland</td><td>2</td></tr><tr><td>Portugal</td><td>1</td></tr><tr><td>Slovakia</td><td>0</td></tr><tr><td>Serbia</td><td>5</td></tr></tbody></table></div>"
      ]
     },
     "metadata": {
      "application/vnd.databricks.v1+output": {
       "addedWidgets": {},
       "aggData": [],
       "aggError": "",
       "aggOverflow": false,
       "aggSchema": [],
       "aggSeriesLimitReached": false,
       "aggType": "",
       "arguments": {},
       "columnCustomDisplayInfos": {},
       "data": [
        [
         "Switzerland",
         "2"
        ],
        [
         "Portugal",
         "1"
        ],
        [
         "Slovakia",
         "0"
        ],
        [
         "Serbia",
         "5"
        ]
       ],
       "datasetInfos": [],
       "dbfsResultPath": null,
       "isJsonSchema": true,
       "metadata": {},
       "overflow": false,
       "plotOptions": {
        "customPlotOptions": {},
        "displayType": "table",
        "pivotAggregation": null,
        "pivotColumns": null,
        "xColumns": null,
        "yColumns": null
       },
       "removedWidgets": [],
       "schema": [
        {
         "metadata": "{}",
         "name": "SF_Teams",
         "type": "\"string\""
        },
        {
         "metadata": "{}",
         "name": "SF_Score",
         "type": "\"string\""
        }
       ],
       "type": "table"
      }
     },
     "output_type": "display_data"
    }
   ],
   "source": [
    "#storing required data in df\n",
    "sf_vis = pd.DataFrame(columns=['SF_Teams', 'SF_Score'])\n",
    "\n",
    "#displaying all teams and respective scores in columns\n",
    "for index, row in sf_pd.iterrows():\n",
    "    team1 = row['Team1']\n",
    "    team1goals = row['Team1Goals']\n",
    "    team2 = row['Team2']\n",
    "    team2goals = row['Team2Goals']\n",
    "    sf_vis = pd.concat([sf_vis, pd.DataFrame({'SF_Teams': [team1], 'SF_Score': [team1goals]})], ignore_index=True)\n",
    "    sf_vis = pd.concat([sf_vis, pd.DataFrame({'SF_Teams': [team2], 'SF_Score': [team2goals]})], ignore_index=True)\n",
    "\n",
    "display(sf_vis)"
   ]
  },
  {
   "cell_type": "code",
   "execution_count": 0,
   "metadata": {
    "application/vnd.databricks.v1+cell": {
     "cellMetadata": {
      "byteLimit": 2048000,
      "rowLimit": 10000
     },
     "inputWidgets": {},
     "nuid": "0e7537e4-0c73-49c9-8d80-73885c91201a",
     "showTitle": false,
     "title": ""
    }
   },
   "outputs": [
    {
     "output_type": "display_data",
     "data": {
      "text/html": [
       "<style scoped>\n",
       "  .table-result-container {\n",
       "    max-height: 300px;\n",
       "    overflow: auto;\n",
       "  }\n",
       "  table, th, td {\n",
       "    border: 1px solid black;\n",
       "    border-collapse: collapse;\n",
       "  }\n",
       "  th, td {\n",
       "    padding: 5px;\n",
       "  }\n",
       "  th {\n",
       "    text-align: left;\n",
       "  }\n",
       "</style><div class='table-result-container'><table class='table-result'><thead style='background-color: white'><tr><th>SF_Teams</th><th>SF_Score</th></tr></thead><tbody><tr><td>Switzerland</td><td>2</td></tr><tr><td>Portugal</td><td>1</td></tr></tbody></table></div>"
      ]
     },
     "metadata": {
      "application/vnd.databricks.v1+output": {
       "addedWidgets": {},
       "aggData": [],
       "aggError": "",
       "aggOverflow": false,
       "aggSchema": [],
       "aggSeriesLimitReached": false,
       "aggType": "",
       "arguments": {},
       "columnCustomDisplayInfos": {},
       "data": [
        [
         "Switzerland",
         "2"
        ],
        [
         "Portugal",
         "1"
        ]
       ],
       "datasetInfos": [],
       "dbfsResultPath": null,
       "isJsonSchema": true,
       "metadata": {},
       "overflow": false,
       "plotOptions": {
        "customPlotOptions": {},
        "displayType": "table",
        "pivotAggregation": null,
        "pivotColumns": null,
        "xColumns": null,
        "yColumns": null
       },
       "removedWidgets": [],
       "schema": [
        {
         "metadata": "{}",
         "name": "SF_Teams",
         "type": "\"string\""
        },
        {
         "metadata": "{}",
         "name": "SF_Score",
         "type": "\"string\""
        }
       ],
       "type": "table"
      }
     },
     "output_type": "display_data"
    },
    {
     "output_type": "display_data",
     "data": {
      "text/html": [
       "<style scoped>\n",
       "  .table-result-container {\n",
       "    max-height: 300px;\n",
       "    overflow: auto;\n",
       "  }\n",
       "  table, th, td {\n",
       "    border: 1px solid black;\n",
       "    border-collapse: collapse;\n",
       "  }\n",
       "  th, td {\n",
       "    padding: 5px;\n",
       "  }\n",
       "  th {\n",
       "    text-align: left;\n",
       "  }\n",
       "</style><div class='table-result-container'><table class='table-result'><thead style='background-color: white'><tr><th>SF_Teams</th><th>SF_Score</th></tr></thead><tbody><tr><td>Slovakia</td><td>0</td></tr><tr><td>Serbia</td><td>5</td></tr></tbody></table></div>"
      ]
     },
     "metadata": {
      "application/vnd.databricks.v1+output": {
       "addedWidgets": {},
       "aggData": [],
       "aggError": "",
       "aggOverflow": false,
       "aggSchema": [],
       "aggSeriesLimitReached": false,
       "aggType": "",
       "arguments": {},
       "columnCustomDisplayInfos": {},
       "data": [
        [
         "Slovakia",
         "0"
        ],
        [
         "Serbia",
         "5"
        ]
       ],
       "datasetInfos": [],
       "dbfsResultPath": null,
       "isJsonSchema": true,
       "metadata": {},
       "overflow": false,
       "plotOptions": {
        "customPlotOptions": {},
        "displayType": "table",
        "pivotAggregation": null,
        "pivotColumns": null,
        "xColumns": null,
        "yColumns": null
       },
       "removedWidgets": [],
       "schema": [
        {
         "metadata": "{}",
         "name": "SF_Teams",
         "type": "\"string\""
        },
        {
         "metadata": "{}",
         "name": "SF_Score",
         "type": "\"string\""
        }
       ],
       "type": "table"
      }
     },
     "output_type": "display_data"
    }
   ],
   "source": [
    "# calculating midpoint of the dataFrame\n",
    "midpoint_index2 = len(sf_vis) // 2\n",
    "\n",
    "# splitting dataFrame into two equal halves\n",
    "left_sf = sf_vis.iloc[:midpoint_index2]\n",
    "right_sf = sf_vis.iloc[midpoint_index2:]\n",
    "\n",
    "# index reset\n",
    "left_sf.reset_index(drop=True, inplace=True)\n",
    "right_sf.reset_index(drop=True, inplace=True)\n",
    "\n",
    "# displaying the split DataFrames\n",
    "display(left_sf)\n",
    "display(right_sf)"
   ]
  },
  {
   "cell_type": "code",
   "execution_count": 0,
   "metadata": {
    "application/vnd.databricks.v1+cell": {
     "cellMetadata": {
      "byteLimit": 2048000,
      "rowLimit": 10000
     },
     "inputWidgets": {},
     "nuid": "8d927735-2bd9-4cea-854d-ac0b2f27771c",
     "showTitle": false,
     "title": ""
    }
   },
   "outputs": [],
   "source": [
    "sf_row_pd = pd.DataFrame({col: [''] for col in sf_vis.columns})"
   ]
  },
  {
   "cell_type": "code",
   "execution_count": 0,
   "metadata": {
    "application/vnd.databricks.v1+cell": {
     "cellMetadata": {
      "byteLimit": 2048000,
      "rowLimit": 10000
     },
     "inputWidgets": {},
     "nuid": "b5c90260-842b-46eb-aa42-937982f209f6",
     "showTitle": false,
     "title": ""
    }
   },
   "outputs": [
    {
     "output_type": "display_data",
     "data": {
      "text/html": [
       "<style scoped>\n",
       "  .table-result-container {\n",
       "    max-height: 300px;\n",
       "    overflow: auto;\n",
       "  }\n",
       "  table, th, td {\n",
       "    border: 1px solid black;\n",
       "    border-collapse: collapse;\n",
       "  }\n",
       "  th, td {\n",
       "    padding: 5px;\n",
       "  }\n",
       "  th {\n",
       "    text-align: left;\n",
       "  }\n",
       "</style><div class='table-result-container'><table class='table-result'><thead style='background-color: white'><tr><th>L_SF_Teams</th><th>L_SF_Score</th></tr></thead><tbody><tr><td></td><td></td></tr><tr><td></td><td></td></tr><tr><td></td><td></td></tr><tr><td></td><td></td></tr><tr><td></td><td></td></tr><tr><td></td><td></td></tr><tr><td>Switzerland</td><td>2</td></tr><tr><td></td><td></td></tr><tr><td></td><td></td></tr><tr><td>Portugal</td><td>1</td></tr><tr><td></td><td></td></tr><tr><td></td><td></td></tr><tr><td></td><td></td></tr><tr><td></td><td></td></tr><tr><td></td><td></td></tr><tr><td></td><td></td></tr></tbody></table></div>"
      ]
     },
     "metadata": {
      "application/vnd.databricks.v1+output": {
       "addedWidgets": {},
       "aggData": [],
       "aggError": "",
       "aggOverflow": false,
       "aggSchema": [],
       "aggSeriesLimitReached": false,
       "aggType": "",
       "arguments": {},
       "columnCustomDisplayInfos": {},
       "data": [
        [
         "",
         ""
        ],
        [
         "",
         ""
        ],
        [
         "",
         ""
        ],
        [
         "",
         ""
        ],
        [
         "",
         ""
        ],
        [
         "",
         ""
        ],
        [
         "Switzerland",
         "2"
        ],
        [
         "",
         ""
        ],
        [
         "",
         ""
        ],
        [
         "Portugal",
         "1"
        ],
        [
         "",
         ""
        ],
        [
         "",
         ""
        ],
        [
         "",
         ""
        ],
        [
         "",
         ""
        ],
        [
         "",
         ""
        ],
        [
         "",
         ""
        ]
       ],
       "datasetInfos": [],
       "dbfsResultPath": null,
       "isJsonSchema": true,
       "metadata": {},
       "overflow": false,
       "plotOptions": {
        "customPlotOptions": {},
        "displayType": "table",
        "pivotAggregation": null,
        "pivotColumns": null,
        "xColumns": null,
        "yColumns": null
       },
       "removedWidgets": [],
       "schema": [
        {
         "metadata": "{}",
         "name": "L_SF_Teams",
         "type": "\"string\""
        },
        {
         "metadata": "{}",
         "name": "L_SF_Score",
         "type": "\"string\""
        }
       ],
       "type": "table"
      }
     },
     "output_type": "display_data"
    }
   ],
   "source": [
    "left_sf_grouped = [left_sf.iloc[i:i+1] for i in range(0, len(left_sf), 1)]\n",
    "\n",
    "for i in range(len(left_sf_grouped)):\n",
    "    if i < len(left_sf_grouped):\n",
    "        left_sf_grouped[i] = pd.concat([left_sf_grouped[i], sf_row_pd, sf_row_pd], ignore_index=True)\n",
    "\n",
    "left_sf_spaced = pd.concat(left_sf_grouped).reset_index(drop=True)\n",
    "\n",
    "for _ in range(6):\n",
    "    left_sf_spaced = pd.concat([sf_row_pd, left_sf_spaced], ignore_index=True)\n",
    "\n",
    "for _ in range(4):\n",
    "    left_sf_spaced = pd.concat([left_sf_spaced, sf_row_pd], ignore_index=True)\n",
    "\n",
    "lsf_new_column_name ={'SF_Teams': 'L_SF_Teams',\n",
    "                       'SF_Score': 'L_SF_Score'\n",
    "                       }\n",
    "\n",
    "left_sf_spaced = left_sf_spaced.rename(columns=lsf_new_column_name)\n",
    "\n",
    "display(left_sf_spaced)"
   ]
  },
  {
   "cell_type": "code",
   "execution_count": 0,
   "metadata": {
    "application/vnd.databricks.v1+cell": {
     "cellMetadata": {
      "byteLimit": 2048000,
      "rowLimit": 10000
     },
     "inputWidgets": {},
     "nuid": "b007bf61-3b9e-4fc6-b341-d3ff09004974",
     "showTitle": false,
     "title": ""
    }
   },
   "outputs": [
    {
     "output_type": "display_data",
     "data": {
      "text/html": [
       "<style scoped>\n",
       "  .table-result-container {\n",
       "    max-height: 300px;\n",
       "    overflow: auto;\n",
       "  }\n",
       "  table, th, td {\n",
       "    border: 1px solid black;\n",
       "    border-collapse: collapse;\n",
       "  }\n",
       "  th, td {\n",
       "    padding: 5px;\n",
       "  }\n",
       "  th {\n",
       "    text-align: left;\n",
       "  }\n",
       "</style><div class='table-result-container'><table class='table-result'><thead style='background-color: white'><tr><th>R_SF_Score</th><th>R_SF_Teams</th></tr></thead><tbody><tr><td></td><td></td></tr><tr><td></td><td></td></tr><tr><td></td><td></td></tr><tr><td></td><td></td></tr><tr><td></td><td></td></tr><tr><td></td><td></td></tr><tr><td>0</td><td>Slovakia</td></tr><tr><td></td><td></td></tr><tr><td></td><td></td></tr><tr><td>5</td><td>Serbia</td></tr><tr><td></td><td></td></tr><tr><td></td><td></td></tr><tr><td></td><td></td></tr><tr><td></td><td></td></tr><tr><td></td><td></td></tr><tr><td></td><td></td></tr></tbody></table></div>"
      ]
     },
     "metadata": {
      "application/vnd.databricks.v1+output": {
       "addedWidgets": {},
       "aggData": [],
       "aggError": "",
       "aggOverflow": false,
       "aggSchema": [],
       "aggSeriesLimitReached": false,
       "aggType": "",
       "arguments": {},
       "columnCustomDisplayInfos": {},
       "data": [
        [
         "",
         ""
        ],
        [
         "",
         ""
        ],
        [
         "",
         ""
        ],
        [
         "",
         ""
        ],
        [
         "",
         ""
        ],
        [
         "",
         ""
        ],
        [
         "0",
         "Slovakia"
        ],
        [
         "",
         ""
        ],
        [
         "",
         ""
        ],
        [
         "5",
         "Serbia"
        ],
        [
         "",
         ""
        ],
        [
         "",
         ""
        ],
        [
         "",
         ""
        ],
        [
         "",
         ""
        ],
        [
         "",
         ""
        ],
        [
         "",
         ""
        ]
       ],
       "datasetInfos": [],
       "dbfsResultPath": null,
       "isJsonSchema": true,
       "metadata": {},
       "overflow": false,
       "plotOptions": {
        "customPlotOptions": {},
        "displayType": "table",
        "pivotAggregation": null,
        "pivotColumns": null,
        "xColumns": null,
        "yColumns": null
       },
       "removedWidgets": [],
       "schema": [
        {
         "metadata": "{}",
         "name": "R_SF_Score",
         "type": "\"string\""
        },
        {
         "metadata": "{}",
         "name": "R_SF_Teams",
         "type": "\"string\""
        }
       ],
       "type": "table"
      }
     },
     "output_type": "display_data"
    }
   ],
   "source": [
    "right_sf_grouped = [right_sf.iloc[i:i+1] for i in range(0, len(right_sf), 1)]\n",
    "\n",
    "for i in range(len(right_sf_grouped)):\n",
    "    if i < len(right_sf_grouped):\n",
    "        right_sf_grouped[i] = pd.concat([right_sf_grouped[i], sf_row_pd, sf_row_pd], ignore_index=True)\n",
    "\n",
    "right_sf_spaced = pd.concat(right_sf_grouped).reset_index(drop=True)\n",
    "\n",
    "for _ in range(6):\n",
    "    right_sf_spaced = pd.concat([sf_row_pd, right_sf_spaced], ignore_index=True)\n",
    "\n",
    "for _ in range(4):\n",
    "    right_sf_spaced = pd.concat([right_sf_spaced, sf_row_pd], ignore_index=True)\n",
    "\n",
    "rsf_new_column_name ={'SF_Teams': 'R_SF_Teams',\n",
    "                       'SF_Score': 'R_SF_Score'\n",
    "                       }\n",
    "\n",
    "right_sf_spaced = right_sf_spaced.rename(columns=rsf_new_column_name)\n",
    "\n",
    "rsf_new_column_order = ['R_SF_Score', 'R_SF_Teams']\n",
    "right_sf_spaced = right_sf_spaced[rsf_new_column_order]\n",
    "\n",
    "display(right_sf_spaced)"
   ]
  },
  {
   "cell_type": "code",
   "execution_count": 0,
   "metadata": {
    "application/vnd.databricks.v1+cell": {
     "cellMetadata": {
      "byteLimit": 2048000,
      "rowLimit": 10000
     },
     "inputWidgets": {},
     "nuid": "7e72e4dd-2f60-46cb-90c8-c7c780601400",
     "showTitle": false,
     "title": ""
    }
   },
   "outputs": [
    {
     "output_type": "display_data",
     "data": {
      "text/html": [
       "<style scoped>\n",
       "  .table-result-container {\n",
       "    max-height: 300px;\n",
       "    overflow: auto;\n",
       "  }\n",
       "  table, th, td {\n",
       "    border: 1px solid black;\n",
       "    border-collapse: collapse;\n",
       "  }\n",
       "  th, td {\n",
       "    padding: 5px;\n",
       "  }\n",
       "  th {\n",
       "    text-align: left;\n",
       "  }\n",
       "</style><div class='table-result-container'><table class='table-result'><thead style='background-color: white'><tr><th>MatchID</th><th>Team1</th><th>Team1Goals</th><th>Team2Goals</th><th>Team2</th><th>MatchWinner</th><th>MatchStage</th></tr></thead><tbody><tr><td>16</td><td>Switzerland</td><td>1</td><td>5</td><td>Serbia</td><td>Serbia</td><td>FIN</td></tr></tbody></table></div>"
      ]
     },
     "metadata": {
      "application/vnd.databricks.v1+output": {
       "addedWidgets": {},
       "aggData": [],
       "aggError": "",
       "aggOverflow": false,
       "aggSchema": [],
       "aggSeriesLimitReached": false,
       "aggType": "",
       "arguments": {},
       "columnCustomDisplayInfos": {},
       "data": [
        [
         "16",
         "Switzerland",
         "1",
         "5",
         "Serbia",
         "Serbia",
         "FIN"
        ]
       ],
       "datasetInfos": [],
       "dbfsResultPath": null,
       "isJsonSchema": true,
       "metadata": {},
       "overflow": false,
       "plotOptions": {
        "customPlotOptions": {},
        "displayType": "table",
        "pivotAggregation": null,
        "pivotColumns": null,
        "xColumns": null,
        "yColumns": null
       },
       "removedWidgets": [],
       "schema": [
        {
         "metadata": "{}",
         "name": "MatchID",
         "type": "\"string\""
        },
        {
         "metadata": "{}",
         "name": "Team1",
         "type": "\"string\""
        },
        {
         "metadata": "{}",
         "name": "Team1Goals",
         "type": "\"string\""
        },
        {
         "metadata": "{}",
         "name": "Team2Goals",
         "type": "\"string\""
        },
        {
         "metadata": "{}",
         "name": "Team2",
         "type": "\"string\""
        },
        {
         "metadata": "{}",
         "name": "MatchWinner",
         "type": "\"string\""
        },
        {
         "metadata": "{}",
         "name": "MatchStage",
         "type": "\"string\""
        }
       ],
       "type": "table"
      }
     },
     "output_type": "display_data"
    }
   ],
   "source": [
    "fin = spark.sql(\"SELECT * FROM QualificationPlacement WHERE MatchStage = 'FIN'\")\n",
    "fin_pd = fin.toPandas()\n",
    "fin_pd = fin_pd.applymap(lambda x: str(x).split(\".\")[0])\n",
    "\n",
    "display(fin_pd)"
   ]
  },
  {
   "cell_type": "code",
   "execution_count": 0,
   "metadata": {
    "application/vnd.databricks.v1+cell": {
     "cellMetadata": {
      "byteLimit": 2048000,
      "rowLimit": 10000
     },
     "inputWidgets": {},
     "nuid": "e8b172c5-6f5c-4205-8cbf-ed9afac79a77",
     "showTitle": false,
     "title": ""
    }
   },
   "outputs": [
    {
     "output_type": "display_data",
     "data": {
      "text/html": [
       "<style scoped>\n",
       "  .table-result-container {\n",
       "    max-height: 300px;\n",
       "    overflow: auto;\n",
       "  }\n",
       "  table, th, td {\n",
       "    border: 1px solid black;\n",
       "    border-collapse: collapse;\n",
       "  }\n",
       "  th, td {\n",
       "    padding: 5px;\n",
       "  }\n",
       "  th {\n",
       "    text-align: left;\n",
       "  }\n",
       "</style><div class='table-result-container'><table class='table-result'><thead style='background-color: white'><tr><th>Fin_Teams</th><th>Fin_Score</th></tr></thead><tbody><tr><td>Switzerland</td><td>1</td></tr><tr><td>Serbia</td><td>5</td></tr></tbody></table></div>"
      ]
     },
     "metadata": {
      "application/vnd.databricks.v1+output": {
       "addedWidgets": {},
       "aggData": [],
       "aggError": "",
       "aggOverflow": false,
       "aggSchema": [],
       "aggSeriesLimitReached": false,
       "aggType": "",
       "arguments": {},
       "columnCustomDisplayInfos": {},
       "data": [
        [
         "Switzerland",
         "1"
        ],
        [
         "Serbia",
         "5"
        ]
       ],
       "datasetInfos": [],
       "dbfsResultPath": null,
       "isJsonSchema": true,
       "metadata": {},
       "overflow": false,
       "plotOptions": {
        "customPlotOptions": {},
        "displayType": "table",
        "pivotAggregation": null,
        "pivotColumns": null,
        "xColumns": null,
        "yColumns": null
       },
       "removedWidgets": [],
       "schema": [
        {
         "metadata": "{}",
         "name": "Fin_Teams",
         "type": "\"string\""
        },
        {
         "metadata": "{}",
         "name": "Fin_Score",
         "type": "\"string\""
        }
       ],
       "type": "table"
      }
     },
     "output_type": "display_data"
    }
   ],
   "source": [
    "#storing required data in df\n",
    "fin_vis = pd.DataFrame(columns=['Fin_Teams', 'Fin_Score'])\n",
    "\n",
    "#displaying all teams and respective scores in columns\n",
    "for index, row in fin_pd.iterrows():\n",
    "    team1 = row['Team1']\n",
    "    team1goals = row['Team1Goals']\n",
    "    team2 = row['Team2']\n",
    "    team2goals = row['Team2Goals']\n",
    "    fin_vis = pd.concat([fin_vis, pd.DataFrame({'Fin_Teams': [team1], 'Fin_Score': [team1goals]})], ignore_index=True)\n",
    "    fin_vis = pd.concat([fin_vis, pd.DataFrame({'Fin_Teams': [team2], 'Fin_Score': [team2goals]})], ignore_index=True)\n",
    "\n",
    "display(fin_vis)"
   ]
  },
  {
   "cell_type": "code",
   "execution_count": 0,
   "metadata": {
    "application/vnd.databricks.v1+cell": {
     "cellMetadata": {
      "byteLimit": 2048000,
      "rowLimit": 10000
     },
     "inputWidgets": {},
     "nuid": "25db7794-8d9c-4288-b63a-4aebb8cd352f",
     "showTitle": false,
     "title": ""
    }
   },
   "outputs": [],
   "source": [
    "fin_row_pd = pd.DataFrame({col: [''] for col in fin_vis.columns})"
   ]
  },
  {
   "cell_type": "code",
   "execution_count": 0,
   "metadata": {
    "application/vnd.databricks.v1+cell": {
     "cellMetadata": {
      "byteLimit": 2048000,
      "rowLimit": 10000
     },
     "inputWidgets": {},
     "nuid": "02736524-fb2b-4585-8679-1609bde07733",
     "showTitle": false,
     "title": ""
    }
   },
   "outputs": [
    {
     "output_type": "display_data",
     "data": {
      "text/html": [
       "<style scoped>\n",
       "  .table-result-container {\n",
       "    max-height: 300px;\n",
       "    overflow: auto;\n",
       "  }\n",
       "  table, th, td {\n",
       "    border: 1px solid black;\n",
       "    border-collapse: collapse;\n",
       "  }\n",
       "  th, td {\n",
       "    padding: 5px;\n",
       "  }\n",
       "  th {\n",
       "    text-align: left;\n",
       "  }\n",
       "</style><div class='table-result-container'><table class='table-result'><thead style='background-color: white'><tr><th>L_Fin_Teams</th><th>L_Fin_Score</th></tr></thead><tbody><tr><td></td><td></td></tr><tr><td></td><td></td></tr><tr><td></td><td></td></tr><tr><td></td><td></td></tr><tr><td></td><td></td></tr><tr><td></td><td></td></tr><tr><td></td><td></td></tr><tr><td></td><td></td></tr><tr><td>Switzerland</td><td>1</td></tr><tr><td></td><td></td></tr><tr><td></td><td></td></tr><tr><td></td><td></td></tr><tr><td></td><td></td></tr><tr><td></td><td></td></tr><tr><td></td><td></td></tr><tr><td></td><td></td></tr></tbody></table></div>"
      ]
     },
     "metadata": {
      "application/vnd.databricks.v1+output": {
       "addedWidgets": {},
       "aggData": [],
       "aggError": "",
       "aggOverflow": false,
       "aggSchema": [],
       "aggSeriesLimitReached": false,
       "aggType": "",
       "arguments": {},
       "columnCustomDisplayInfos": {},
       "data": [
        [
         "",
         ""
        ],
        [
         "",
         ""
        ],
        [
         "",
         ""
        ],
        [
         "",
         ""
        ],
        [
         "",
         ""
        ],
        [
         "",
         ""
        ],
        [
         "",
         ""
        ],
        [
         "",
         ""
        ],
        [
         "Switzerland",
         "1"
        ],
        [
         "",
         ""
        ],
        [
         "",
         ""
        ],
        [
         "",
         ""
        ],
        [
         "",
         ""
        ],
        [
         "",
         ""
        ],
        [
         "",
         ""
        ],
        [
         "",
         ""
        ]
       ],
       "datasetInfos": [],
       "dbfsResultPath": null,
       "isJsonSchema": true,
       "metadata": {},
       "overflow": false,
       "plotOptions": {
        "customPlotOptions": {},
        "displayType": "table",
        "pivotAggregation": null,
        "pivotColumns": null,
        "xColumns": null,
        "yColumns": null
       },
       "removedWidgets": [],
       "schema": [
        {
         "metadata": "{}",
         "name": "L_Fin_Teams",
         "type": "\"string\""
        },
        {
         "metadata": "{}",
         "name": "L_Fin_Score",
         "type": "\"string\""
        }
       ],
       "type": "table"
      }
     },
     "output_type": "display_data"
    },
    {
     "output_type": "display_data",
     "data": {
      "text/html": [
       "<style scoped>\n",
       "  .table-result-container {\n",
       "    max-height: 300px;\n",
       "    overflow: auto;\n",
       "  }\n",
       "  table, th, td {\n",
       "    border: 1px solid black;\n",
       "    border-collapse: collapse;\n",
       "  }\n",
       "  th, td {\n",
       "    padding: 5px;\n",
       "  }\n",
       "  th {\n",
       "    text-align: left;\n",
       "  }\n",
       "</style><div class='table-result-container'><table class='table-result'><thead style='background-color: white'><tr><th>R_Fin_Score</th><th>R_Fin_Teams</th></tr></thead><tbody><tr><td></td><td></td></tr><tr><td></td><td></td></tr><tr><td></td><td></td></tr><tr><td></td><td></td></tr><tr><td></td><td></td></tr><tr><td></td><td></td></tr><tr><td></td><td></td></tr><tr><td></td><td></td></tr><tr><td>5</td><td>Serbia</td></tr><tr><td></td><td></td></tr><tr><td></td><td></td></tr><tr><td></td><td></td></tr><tr><td></td><td></td></tr><tr><td></td><td></td></tr><tr><td></td><td></td></tr><tr><td></td><td></td></tr></tbody></table></div>"
      ]
     },
     "metadata": {
      "application/vnd.databricks.v1+output": {
       "addedWidgets": {},
       "aggData": [],
       "aggError": "",
       "aggOverflow": false,
       "aggSchema": [],
       "aggSeriesLimitReached": false,
       "aggType": "",
       "arguments": {},
       "columnCustomDisplayInfos": {},
       "data": [
        [
         "",
         ""
        ],
        [
         "",
         ""
        ],
        [
         "",
         ""
        ],
        [
         "",
         ""
        ],
        [
         "",
         ""
        ],
        [
         "",
         ""
        ],
        [
         "",
         ""
        ],
        [
         "",
         ""
        ],
        [
         "5",
         "Serbia"
        ],
        [
         "",
         ""
        ],
        [
         "",
         ""
        ],
        [
         "",
         ""
        ],
        [
         "",
         ""
        ],
        [
         "",
         ""
        ],
        [
         "",
         ""
        ],
        [
         "",
         ""
        ]
       ],
       "datasetInfos": [],
       "dbfsResultPath": null,
       "isJsonSchema": true,
       "metadata": {},
       "overflow": false,
       "plotOptions": {
        "customPlotOptions": {},
        "displayType": "table",
        "pivotAggregation": null,
        "pivotColumns": null,
        "xColumns": null,
        "yColumns": null
       },
       "removedWidgets": [],
       "schema": [
        {
         "metadata": "{}",
         "name": "R_Fin_Score",
         "type": "\"string\""
        },
        {
         "metadata": "{}",
         "name": "R_Fin_Teams",
         "type": "\"string\""
        }
       ],
       "type": "table"
      }
     },
     "output_type": "display_data"
    }
   ],
   "source": [
    "fin1 = fin_vis.iloc[:1]  # First value\n",
    "fin2 = fin_vis.iloc[1:]  # Second value\n",
    "\n",
    "for _ in range(8):\n",
    "    fin1 = pd.concat([fin_row_pd, fin1], ignore_index=True)\n",
    "    fin2 = pd.concat([fin_row_pd, fin2], ignore_index=True)\n",
    "\n",
    "for _ in range(7):\n",
    "    fin1 = pd.concat([fin1, fin_row_pd], ignore_index=True)\n",
    "    fin2 = pd.concat([fin2, fin_row_pd], ignore_index=True)\n",
    "\n",
    "lfin_new_column_name ={'Fin_Teams': 'L_Fin_Teams',\n",
    "                       'Fin_Score': 'L_Fin_Score'\n",
    "                       }\n",
    "rfin_new_column_name ={'Fin_Teams': 'R_Fin_Teams',\n",
    "                       'Fin_Score': 'R_Fin_Score'\n",
    "                       }\n",
    "\n",
    "fin1 = fin1.rename(columns=lfin_new_column_name)\n",
    "fin2 = fin2.rename(columns=rfin_new_column_name)\n",
    "\n",
    "rfin_new_column_order = ['R_Fin_Score', 'R_Fin_Teams']\n",
    "fin2 = fin2[rfin_new_column_order]\n",
    "\n",
    "display(fin1)\n",
    "display(fin2)"
   ]
  },
  {
   "cell_type": "code",
   "execution_count": 0,
   "metadata": {
    "application/vnd.databricks.v1+cell": {
     "cellMetadata": {
      "byteLimit": 2048000,
      "rowLimit": 10000
     },
     "inputWidgets": {},
     "nuid": "48e33e4e-76b0-4d47-9b64-4152cff77ddd",
     "showTitle": false,
     "title": ""
    }
   },
   "outputs": [
    {
     "output_type": "display_data",
     "data": {
      "text/html": [
       "<style scoped>\n",
       "  .table-result-container {\n",
       "    max-height: 300px;\n",
       "    overflow: auto;\n",
       "  }\n",
       "  table, th, td {\n",
       "    border: 1px solid black;\n",
       "    border-collapse: collapse;\n",
       "  }\n",
       "  th, td {\n",
       "    padding: 5px;\n",
       "  }\n",
       "  th {\n",
       "    text-align: left;\n",
       "  }\n",
       "</style><div class='table-result-container'><table class='table-result'><thead style='background-color: white'><tr><th>TournamentWinner</th></tr></thead><tbody><tr><td></td></tr><tr><td></td></tr><tr><td></td></tr><tr><td></td></tr><tr><td></td></tr><tr><td></td></tr><tr><td></td></tr><tr><td>Serbia</td></tr><tr><td></td></tr><tr><td></td></tr><tr><td></td></tr><tr><td></td></tr><tr><td></td></tr><tr><td></td></tr><tr><td></td></tr><tr><td></td></tr></tbody></table></div>"
      ]
     },
     "metadata": {
      "application/vnd.databricks.v1+output": {
       "addedWidgets": {},
       "aggData": [],
       "aggError": "",
       "aggOverflow": false,
       "aggSchema": [],
       "aggSeriesLimitReached": false,
       "aggType": "",
       "arguments": {},
       "columnCustomDisplayInfos": {},
       "data": [
        [
         ""
        ],
        [
         ""
        ],
        [
         ""
        ],
        [
         ""
        ],
        [
         ""
        ],
        [
         ""
        ],
        [
         ""
        ],
        [
         "Serbia"
        ],
        [
         ""
        ],
        [
         ""
        ],
        [
         ""
        ],
        [
         ""
        ],
        [
         ""
        ],
        [
         ""
        ],
        [
         ""
        ],
        [
         ""
        ]
       ],
       "datasetInfos": [],
       "dbfsResultPath": null,
       "isJsonSchema": true,
       "metadata": {},
       "overflow": false,
       "plotOptions": {
        "customPlotOptions": {},
        "displayType": "table",
        "pivotAggregation": null,
        "pivotColumns": null,
        "xColumns": null,
        "yColumns": null
       },
       "removedWidgets": [],
       "schema": [
        {
         "metadata": "{}",
         "name": "TournamentWinner",
         "type": "\"string\""
        }
       ],
       "type": "table"
      }
     },
     "output_type": "display_data"
    }
   ],
   "source": [
    "winner = spark.sql(\"SELECT MatchWinner FROM QualificationPlacement WHERE MatchStage = 'FIN'\")\n",
    "winner_pd = winner.toPandas()\n",
    "winner_pd = winner_pd.applymap(lambda x: str(x).split(\".\")[0])\n",
    "\n",
    "win_row_pd = pd.DataFrame({col: [''] for col in winner_pd.columns})\n",
    "\n",
    "for _ in range(7):\n",
    "    winner_pd = pd.concat([win_row_pd, winner_pd], ignore_index=True)\n",
    "\n",
    "for _ in range(8):\n",
    "    winner_pd = pd.concat([winner_pd, win_row_pd], ignore_index=True)\n",
    "\n",
    "fin_col = {\"MatchWinner\":\"TournamentWinner\"}\n",
    "winner_pd = winner_pd.rename(columns = fin_col)\n",
    "display(winner_pd)"
   ]
  },
  {
   "cell_type": "code",
   "execution_count": 0,
   "metadata": {
    "application/vnd.databricks.v1+cell": {
     "cellMetadata": {
      "byteLimit": 2048000,
      "rowLimit": 10000
     },
     "inputWidgets": {},
     "nuid": "df7a60e2-7daf-49cc-9d0c-866c1fa882e4",
     "showTitle": false,
     "title": ""
    }
   },
   "outputs": [
    {
     "output_type": "display_data",
     "data": {
      "text/html": [
       "<style scoped>\n",
       "  .table-result-container {\n",
       "    max-height: 300px;\n",
       "    overflow: auto;\n",
       "  }\n",
       "  table, th, td {\n",
       "    border: 1px solid black;\n",
       "    border-collapse: collapse;\n",
       "  }\n",
       "  th, td {\n",
       "    padding: 5px;\n",
       "  }\n",
       "  th {\n",
       "    text-align: left;\n",
       "  }\n",
       "</style><div class='table-result-container'><table class='table-result'><thead style='background-color: white'><tr><th>L_Grp/Pos</th><th>L_Country</th><th>L_MP</th><th>L_W</th><th>L-D</th><th>L_L</th><th>L-GF</th><th>L_GA</th><th>L_GD</th><th>L_Pts</th><th>L_R16_Teams</th><th>L_R16_Score</th><th>L_QF_Teams</th><th>L_QF_Score</th><th>L_SF_Teams</th><th>L_SF_Score</th><th>L_Fin_Teams</th><th>L_Fin_Score</th><th>TournamentWinner</th><th>R_Fin_Score</th><th>R_Fin_Teams</th><th>R_SF_Score</th><th>R_SF_Teams</th><th>R_QF_Score</th><th>R_QF_Teams</th><th>R_R16_Score</th><th>R_R16_Teams</th><th>R_Grp/Pos</th><th>R_Country</th><th>R_MP</th><th>R_W</th><th>R-D</th><th>R_L</th><th>R-GF</th><th>R_GA</th><th>R_GD</th><th>R_Pts</th></tr></thead><tbody><tr><td>A1</td><td>Switzerland</td><td>3</td><td>2</td><td>0</td><td>1</td><td>12</td><td>9</td><td>3</td><td>6</td><td></td><td></td><td></td><td></td><td></td><td></td><td></td><td></td><td></td><td></td><td></td><td></td><td></td><td></td><td></td><td></td><td></td><td>D1</td><td>Poland</td><td>3</td><td>3</td><td>0</td><td>0</td><td>12</td><td>8</td><td>4</td><td>9</td></tr><tr><td>A2</td><td>Scotland</td><td>3</td><td>2</td><td>0</td><td>1</td><td>8</td><td>6</td><td>2</td><td>6</td><td>Albania</td><td>5</td><td></td><td></td><td></td><td></td><td></td><td></td><td></td><td></td><td></td><td></td><td></td><td></td><td></td><td>1</td><td>Slovakia</td><td>D2</td><td>Netherlands</td><td>3</td><td>2</td><td>0</td><td>1</td><td>12</td><td>6</td><td>6</td><td>6</td></tr><tr><td>A3</td><td>Germany</td><td>3</td><td>1</td><td>0</td><td>2</td><td>7</td><td>7</td><td>0</td><td>3</td><td>Ukraine</td><td>5</td><td></td><td></td><td></td><td></td><td></td><td></td><td></td><td></td><td></td><td></td><td></td><td></td><td></td><td>0</td><td>England</td><td>D3</td><td>France</td><td>3</td><td>1</td><td>0</td><td>2</td><td>7</td><td>10</td><td>-3</td><td>3</td></tr><tr><td>A4</td><td>Hungary</td><td>3</td><td>1</td><td>0</td><td>2</td><td>5</td><td>10</td><td>-5</td><td>3</td><td></td><td></td><td></td><td></td><td></td><td></td><td></td><td></td><td></td><td></td><td></td><td></td><td></td><td></td><td></td><td></td><td></td><td>D4</td><td>Austria</td><td>3</td><td>0</td><td>0</td><td>3</td><td>3</td><td>10</td><td>-7</td><td>0</td></tr><tr><td></td><td></td><td></td><td></td><td></td><td></td><td></td><td></td><td></td><td></td><td></td><td></td><td>Albania</td><td>1</td><td></td><td></td><td></td><td></td><td></td><td></td><td></td><td></td><td></td><td>5</td><td>Slovakia</td><td></td><td></td><td></td><td></td><td></td><td></td><td></td><td></td><td></td><td></td><td></td><td></td></tr><tr><td></td><td></td><td></td><td></td><td></td><td></td><td></td><td></td><td></td><td></td><td>Switzerland</td><td>3</td><td>Switzerland</td><td>3</td><td></td><td></td><td></td><td></td><td></td><td></td><td></td><td></td><td></td><td>4</td><td>Poland</td><td>4</td><td>Poland</td><td></td><td></td><td></td><td></td><td></td><td></td><td></td><td></td><td></td><td></td></tr><tr><td>B1</td><td>Albania</td><td>3</td><td>2</td><td>1</td><td>0</td><td>12</td><td>8</td><td>4</td><td>7</td><td>Slovenia</td><td>2</td><td></td><td></td><td>Switzerland</td><td>2</td><td></td><td></td><td></td><td></td><td></td><td>0</td><td>Slovakia</td><td></td><td></td><td>0</td><td>Czech Republic</td><td>E1</td><td>Slovakia</td><td>3</td><td>3</td><td>0</td><td>0</td><td>13</td><td>5</td><td>8</td><td>9</td></tr><tr><td>B2</td><td>Spain</td><td>3</td><td>2</td><td>0</td><td>1</td><td>12</td><td>6</td><td>6</td><td>6</td><td></td><td></td><td></td><td></td><td></td><td></td><td></td><td></td><td>Serbia</td><td></td><td></td><td></td><td></td><td></td><td></td><td></td><td></td><td>E2</td><td>Romania</td><td>3</td><td>1</td><td>1</td><td>1</td><td>6</td><td>5</td><td>1</td><td>4</td></tr><tr><td>B3</td><td>Italy</td><td>3</td><td>1</td><td>0</td><td>2</td><td>7</td><td>10</td><td>-3</td><td>3</td><td></td><td></td><td></td><td></td><td></td><td></td><td>Switzerland</td><td>1</td><td></td><td>5</td><td>Serbia</td><td></td><td></td><td></td><td></td><td></td><td></td><td>E3</td><td>Ukraine</td><td>3</td><td>1</td><td>1</td><td>1</td><td>7</td><td>10</td><td>-3</td><td>4</td></tr><tr><td>B4</td><td>Croatia</td><td>3</td><td>0</td><td>1</td><td>2</td><td>5</td><td>12</td><td>-7</td><td>1</td><td>Portugal</td><td>4</td><td></td><td></td><td>Portugal</td><td>1</td><td></td><td></td><td></td><td></td><td></td><td>5</td><td>Serbia</td><td></td><td></td><td>3</td><td>Serbia</td><td>E4</td><td>Belgium</td><td>3</td><td>0</td><td>0</td><td>3</td><td>5</td><td>11</td><td>-6</td><td>0</td></tr><tr><td></td><td></td><td></td><td></td><td></td><td></td><td></td><td></td><td></td><td></td><td>Germany</td><td>1</td><td>Portugal</td><td>3</td><td></td><td></td><td></td><td></td><td></td><td></td><td></td><td></td><td></td><td>3</td><td>Serbia</td><td>1</td><td>France</td><td></td><td></td><td></td><td></td><td></td><td></td><td></td><td></td><td></td><td></td></tr><tr><td></td><td></td><td></td><td></td><td></td><td></td><td></td><td></td><td></td><td></td><td></td><td></td><td>Romania</td><td>3</td><td></td><td></td><td></td><td></td><td></td><td></td><td></td><td></td><td></td><td>0</td><td>Spain</td><td></td><td></td><td></td><td></td><td></td><td></td><td></td><td></td><td></td><td></td><td></td><td></td></tr><tr><td>C1</td><td>Serbia</td><td>3</td><td>3</td><td>0</td><td>0</td><td>14</td><td>5</td><td>9</td><td>9</td><td></td><td></td><td></td><td></td><td></td><td></td><td></td><td></td><td></td><td></td><td></td><td></td><td></td><td></td><td></td><td></td><td></td><td>F1</td><td>Portugal</td><td>3</td><td>3</td><td>0</td><td>0</td><td>12</td><td>6</td><td>6</td><td>9</td></tr><tr><td>C2</td><td>Slovenia</td><td>3</td><td>2</td><td>0</td><td>1</td><td>11</td><td>13</td><td>-2</td><td>6</td><td>Netherlands</td><td>2</td><td></td><td></td><td></td><td></td><td></td><td></td><td></td><td></td><td></td><td></td><td></td><td></td><td></td><td>1</td><td>Scotland</td><td>F2</td><td>Czech Republic</td><td>3</td><td>2</td><td>0</td><td>1</td><td>7</td><td>5</td><td>2</td><td>6</td></tr><tr><td>C3</td><td>England</td><td>3</td><td>1</td><td>0</td><td>2</td><td>9</td><td>10</td><td>-1</td><td>3</td><td>Romania</td><td>3</td><td></td><td></td><td></td><td></td><td></td><td></td><td></td><td></td><td></td><td></td><td></td><td></td><td></td><td>4</td><td>Spain</td><td>F3</td><td>Turkey</td><td>3</td><td>0</td><td>1</td><td>2</td><td>9</td><td>12</td><td>-3</td><td>1</td></tr><tr><td>C4</td><td>Denmark</td><td>3</td><td>0</td><td>0</td><td>3</td><td>8</td><td>14</td><td>-6</td><td>0</td><td></td><td></td><td></td><td></td><td></td><td></td><td></td><td></td><td></td><td></td><td></td><td></td><td></td><td></td><td></td><td></td><td></td><td>F4</td><td>Greece</td><td>3</td><td>0</td><td>1</td><td>2</td><td>4</td><td>9</td><td>-5</td><td>1</td></tr></tbody></table></div>"
      ]
     },
     "metadata": {
      "application/vnd.databricks.v1+output": {
       "addedWidgets": {},
       "aggData": [],
       "aggError": "",
       "aggOverflow": false,
       "aggSchema": [],
       "aggSeriesLimitReached": false,
       "aggType": "",
       "arguments": {},
       "columnCustomDisplayInfos": {},
       "data": [
        [
         "A1",
         "Switzerland",
         "3",
         "2",
         "0",
         "1",
         "12",
         "9",
         "3",
         "6",
         "",
         "",
         "",
         "",
         "",
         "",
         "",
         "",
         "",
         "",
         "",
         "",
         "",
         "",
         "",
         "",
         "",
         "D1",
         "Poland",
         "3",
         "3",
         "0",
         "0",
         "12",
         "8",
         "4",
         "9"
        ],
        [
         "A2",
         "Scotland",
         "3",
         "2",
         "0",
         "1",
         "8",
         "6",
         "2",
         "6",
         "Albania",
         "5",
         "",
         "",
         "",
         "",
         "",
         "",
         "",
         "",
         "",
         "",
         "",
         "",
         "",
         "1",
         "Slovakia",
         "D2",
         "Netherlands",
         "3",
         "2",
         "0",
         "1",
         "12",
         "6",
         "6",
         "6"
        ],
        [
         "A3",
         "Germany",
         "3",
         "1",
         "0",
         "2",
         "7",
         "7",
         "0",
         "3",
         "Ukraine",
         "5",
         "",
         "",
         "",
         "",
         "",
         "",
         "",
         "",
         "",
         "",
         "",
         "",
         "",
         "0",
         "England",
         "D3",
         "France",
         "3",
         "1",
         "0",
         "2",
         "7",
         "10",
         "-3",
         "3"
        ],
        [
         "A4",
         "Hungary",
         "3",
         "1",
         "0",
         "2",
         "5",
         "10",
         "-5",
         "3",
         "",
         "",
         "",
         "",
         "",
         "",
         "",
         "",
         "",
         "",
         "",
         "",
         "",
         "",
         "",
         "",
         "",
         "D4",
         "Austria",
         "3",
         "0",
         "0",
         "3",
         "3",
         "10",
         "-7",
         "0"
        ],
        [
         "",
         "",
         "",
         "",
         "",
         "",
         "",
         "",
         "",
         "",
         "",
         "",
         "Albania",
         "1",
         "",
         "",
         "",
         "",
         "",
         "",
         "",
         "",
         "",
         "5",
         "Slovakia",
         "",
         "",
         "",
         "",
         "",
         "",
         "",
         "",
         "",
         "",
         "",
         ""
        ],
        [
         "",
         "",
         "",
         "",
         "",
         "",
         "",
         "",
         "",
         "",
         "Switzerland",
         "3",
         "Switzerland",
         "3",
         "",
         "",
         "",
         "",
         "",
         "",
         "",
         "",
         "",
         "4",
         "Poland",
         "4",
         "Poland",
         "",
         "",
         "",
         "",
         "",
         "",
         "",
         "",
         "",
         ""
        ],
        [
         "B1",
         "Albania",
         "3",
         "2",
         "1",
         "0",
         "12",
         "8",
         "4",
         "7",
         "Slovenia",
         "2",
         "",
         "",
         "Switzerland",
         "2",
         "",
         "",
         "",
         "",
         "",
         "0",
         "Slovakia",
         "",
         "",
         "0",
         "Czech Republic",
         "E1",
         "Slovakia",
         "3",
         "3",
         "0",
         "0",
         "13",
         "5",
         "8",
         "9"
        ],
        [
         "B2",
         "Spain",
         "3",
         "2",
         "0",
         "1",
         "12",
         "6",
         "6",
         "6",
         "",
         "",
         "",
         "",
         "",
         "",
         "",
         "",
         "Serbia",
         "",
         "",
         "",
         "",
         "",
         "",
         "",
         "",
         "E2",
         "Romania",
         "3",
         "1",
         "1",
         "1",
         "6",
         "5",
         "1",
         "4"
        ],
        [
         "B3",
         "Italy",
         "3",
         "1",
         "0",
         "2",
         "7",
         "10",
         "-3",
         "3",
         "",
         "",
         "",
         "",
         "",
         "",
         "Switzerland",
         "1",
         "",
         "5",
         "Serbia",
         "",
         "",
         "",
         "",
         "",
         "",
         "E3",
         "Ukraine",
         "3",
         "1",
         "1",
         "1",
         "7",
         "10",
         "-3",
         "4"
        ],
        [
         "B4",
         "Croatia",
         "3",
         "0",
         "1",
         "2",
         "5",
         "12",
         "-7",
         "1",
         "Portugal",
         "4",
         "",
         "",
         "Portugal",
         "1",
         "",
         "",
         "",
         "",
         "",
         "5",
         "Serbia",
         "",
         "",
         "3",
         "Serbia",
         "E4",
         "Belgium",
         "3",
         "0",
         "0",
         "3",
         "5",
         "11",
         "-6",
         "0"
        ],
        [
         "",
         "",
         "",
         "",
         "",
         "",
         "",
         "",
         "",
         "",
         "Germany",
         "1",
         "Portugal",
         "3",
         "",
         "",
         "",
         "",
         "",
         "",
         "",
         "",
         "",
         "3",
         "Serbia",
         "1",
         "France",
         "",
         "",
         "",
         "",
         "",
         "",
         "",
         "",
         "",
         ""
        ],
        [
         "",
         "",
         "",
         "",
         "",
         "",
         "",
         "",
         "",
         "",
         "",
         "",
         "Romania",
         "3",
         "",
         "",
         "",
         "",
         "",
         "",
         "",
         "",
         "",
         "0",
         "Spain",
         "",
         "",
         "",
         "",
         "",
         "",
         "",
         "",
         "",
         "",
         "",
         ""
        ],
        [
         "C1",
         "Serbia",
         "3",
         "3",
         "0",
         "0",
         "14",
         "5",
         "9",
         "9",
         "",
         "",
         "",
         "",
         "",
         "",
         "",
         "",
         "",
         "",
         "",
         "",
         "",
         "",
         "",
         "",
         "",
         "F1",
         "Portugal",
         "3",
         "3",
         "0",
         "0",
         "12",
         "6",
         "6",
         "9"
        ],
        [
         "C2",
         "Slovenia",
         "3",
         "2",
         "0",
         "1",
         "11",
         "13",
         "-2",
         "6",
         "Netherlands",
         "2",
         "",
         "",
         "",
         "",
         "",
         "",
         "",
         "",
         "",
         "",
         "",
         "",
         "",
         "1",
         "Scotland",
         "F2",
         "Czech Republic",
         "3",
         "2",
         "0",
         "1",
         "7",
         "5",
         "2",
         "6"
        ],
        [
         "C3",
         "England",
         "3",
         "1",
         "0",
         "2",
         "9",
         "10",
         "-1",
         "3",
         "Romania",
         "3",
         "",
         "",
         "",
         "",
         "",
         "",
         "",
         "",
         "",
         "",
         "",
         "",
         "",
         "4",
         "Spain",
         "F3",
         "Turkey",
         "3",
         "0",
         "1",
         "2",
         "9",
         "12",
         "-3",
         "1"
        ],
        [
         "C4",
         "Denmark",
         "3",
         "0",
         "0",
         "3",
         "8",
         "14",
         "-6",
         "0",
         "",
         "",
         "",
         "",
         "",
         "",
         "",
         "",
         "",
         "",
         "",
         "",
         "",
         "",
         "",
         "",
         "",
         "F4",
         "Greece",
         "3",
         "0",
         "1",
         "2",
         "4",
         "9",
         "-5",
         "1"
        ]
       ],
       "datasetInfos": [],
       "dbfsResultPath": null,
       "isJsonSchema": true,
       "metadata": {},
       "overflow": false,
       "plotOptions": {
        "customPlotOptions": {},
        "displayType": "table",
        "pivotAggregation": null,
        "pivotColumns": null,
        "xColumns": null,
        "yColumns": null
       },
       "removedWidgets": [],
       "schema": [
        {
         "metadata": "{}",
         "name": "L_Grp/Pos",
         "type": "\"string\""
        },
        {
         "metadata": "{}",
         "name": "L_Country",
         "type": "\"string\""
        },
        {
         "metadata": "{}",
         "name": "L_MP",
         "type": "\"string\""
        },
        {
         "metadata": "{}",
         "name": "L_W",
         "type": "\"string\""
        },
        {
         "metadata": "{}",
         "name": "L-D",
         "type": "\"string\""
        },
        {
         "metadata": "{}",
         "name": "L_L",
         "type": "\"string\""
        },
        {
         "metadata": "{}",
         "name": "L-GF",
         "type": "\"string\""
        },
        {
         "metadata": "{}",
         "name": "L_GA",
         "type": "\"string\""
        },
        {
         "metadata": "{}",
         "name": "L_GD",
         "type": "\"string\""
        },
        {
         "metadata": "{}",
         "name": "L_Pts",
         "type": "\"string\""
        },
        {
         "metadata": "{}",
         "name": "L_R16_Teams",
         "type": "\"string\""
        },
        {
         "metadata": "{}",
         "name": "L_R16_Score",
         "type": "\"string\""
        },
        {
         "metadata": "{}",
         "name": "L_QF_Teams",
         "type": "\"string\""
        },
        {
         "metadata": "{}",
         "name": "L_QF_Score",
         "type": "\"string\""
        },
        {
         "metadata": "{}",
         "name": "L_SF_Teams",
         "type": "\"string\""
        },
        {
         "metadata": "{}",
         "name": "L_SF_Score",
         "type": "\"string\""
        },
        {
         "metadata": "{}",
         "name": "L_Fin_Teams",
         "type": "\"string\""
        },
        {
         "metadata": "{}",
         "name": "L_Fin_Score",
         "type": "\"string\""
        },
        {
         "metadata": "{}",
         "name": "TournamentWinner",
         "type": "\"string\""
        },
        {
         "metadata": "{}",
         "name": "R_Fin_Score",
         "type": "\"string\""
        },
        {
         "metadata": "{}",
         "name": "R_Fin_Teams",
         "type": "\"string\""
        },
        {
         "metadata": "{}",
         "name": "R_SF_Score",
         "type": "\"string\""
        },
        {
         "metadata": "{}",
         "name": "R_SF_Teams",
         "type": "\"string\""
        },
        {
         "metadata": "{}",
         "name": "R_QF_Score",
         "type": "\"string\""
        },
        {
         "metadata": "{}",
         "name": "R_QF_Teams",
         "type": "\"string\""
        },
        {
         "metadata": "{}",
         "name": "R_R16_Score",
         "type": "\"string\""
        },
        {
         "metadata": "{}",
         "name": "R_R16_Teams",
         "type": "\"string\""
        },
        {
         "metadata": "{}",
         "name": "R_Grp/Pos",
         "type": "\"string\""
        },
        {
         "metadata": "{}",
         "name": "R_Country",
         "type": "\"string\""
        },
        {
         "metadata": "{}",
         "name": "R_MP",
         "type": "\"string\""
        },
        {
         "metadata": "{}",
         "name": "R_W",
         "type": "\"string\""
        },
        {
         "metadata": "{}",
         "name": "R-D",
         "type": "\"string\""
        },
        {
         "metadata": "{}",
         "name": "R_L",
         "type": "\"string\""
        },
        {
         "metadata": "{}",
         "name": "R-GF",
         "type": "\"string\""
        },
        {
         "metadata": "{}",
         "name": "R_GA",
         "type": "\"string\""
        },
        {
         "metadata": "{}",
         "name": "R_GD",
         "type": "\"string\""
        },
        {
         "metadata": "{}",
         "name": "R_Pts",
         "type": "\"string\""
        }
       ],
       "type": "table"
      }
     },
     "output_type": "display_data"
    }
   ],
   "source": [
    "# Concatenating DataFrames with keys\n",
    "knockout_df = pd.concat([left_gs_spaced,\n",
    "                        left_r16_spaced, \n",
    "                        left_qf_spaced, \n",
    "                        left_sf_spaced,\n",
    "                        fin1,\n",
    "                        winner_pd,\n",
    "                        fin2,\n",
    "                        right_sf_spaced,\n",
    "                        right_qf_spaced,\n",
    "                        right_r16_spaced,\n",
    "                        right_gs_spaced\n",
    "                         ], \n",
    "                        axis=1, \n",
    "                        # keys=['left_gs', 'left_r16', 'left_qf', 'left_sf', 'fin1', 'winner', 'fin2', 'right_sf', 'right_qf', 'right_r16', 'right_gs']\n",
    "                        )\n",
    "\n",
    "# Displaying the concatenated DataFrame\n",
    "display(knockout_df)"
   ]
  },
  {
   "cell_type": "markdown",
   "metadata": {
    "application/vnd.databricks.v1+cell": {
     "cellMetadata": {},
     "inputWidgets": {},
     "nuid": "dfb907c1-38af-40ee-94e5-082aecb27774",
     "showTitle": false,
     "title": ""
    }
   },
   "source": [
    "#Podium Position\n",
    "Just for fun (idk how to use matplotlib properly. GPT Helped)"
   ]
  },
  {
   "cell_type": "code",
   "execution_count": 0,
   "metadata": {
    "application/vnd.databricks.v1+cell": {
     "cellMetadata": {
      "byteLimit": 2048000,
      "rowLimit": 10000
     },
     "inputWidgets": {},
     "nuid": "9aa43c11-ed28-4a12-a9b8-f3fde714cdc9",
     "showTitle": false,
     "title": ""
    }
   },
   "outputs": [
    {
     "output_type": "display_data",
     "data": {
      "text/html": [
       "<style scoped>\n",
       "  .table-result-container {\n",
       "    max-height: 300px;\n",
       "    overflow: auto;\n",
       "  }\n",
       "  table, th, td {\n",
       "    border: 1px solid black;\n",
       "    border-collapse: collapse;\n",
       "  }\n",
       "  th, td {\n",
       "    padding: 5px;\n",
       "  }\n",
       "  th {\n",
       "    text-align: left;\n",
       "  }\n",
       "</style><div class='table-result-container'><table class='table-result'><thead style='background-color: white'><tr><th>Euro_Cup_Winners</th></tr></thead><tbody><tr><td>Serbia</td></tr></tbody></table></div>"
      ]
     },
     "metadata": {
      "application/vnd.databricks.v1+output": {
       "addedWidgets": {},
       "aggData": [],
       "aggError": "",
       "aggOverflow": false,
       "aggSchema": [],
       "aggSeriesLimitReached": false,
       "aggType": "",
       "arguments": {},
       "columnCustomDisplayInfos": {},
       "data": [
        [
         "Serbia"
        ]
       ],
       "datasetInfos": [],
       "dbfsResultPath": null,
       "isJsonSchema": true,
       "metadata": {},
       "overflow": false,
       "plotOptions": {
        "customPlotOptions": {},
        "displayType": "table",
        "pivotAggregation": null,
        "pivotColumns": null,
        "xColumns": null,
        "yColumns": null
       },
       "removedWidgets": [],
       "schema": [
        {
         "metadata": "{\"__CHAR_VARCHAR_TYPE_STRING\":\"varchar(53)\"}",
         "name": "Euro_Cup_Winners",
         "type": "\"string\""
        }
       ],
       "type": "table"
      }
     },
     "output_type": "display_data"
    },
    {
     "output_type": "display_data",
     "data": {
      "text/html": [
       "<style scoped>\n",
       "  .table-result-container {\n",
       "    max-height: 300px;\n",
       "    overflow: auto;\n",
       "  }\n",
       "  table, th, td {\n",
       "    border: 1px solid black;\n",
       "    border-collapse: collapse;\n",
       "  }\n",
       "  th, td {\n",
       "    padding: 5px;\n",
       "  }\n",
       "  th {\n",
       "    text-align: left;\n",
       "  }\n",
       "</style><div class='table-result-container'><table class='table-result'><thead style='background-color: white'><tr><th>Euro_Cup_RunnersUp</th></tr></thead><tbody><tr><td>Switzerland</td></tr></tbody></table></div>"
      ]
     },
     "metadata": {
      "application/vnd.databricks.v1+output": {
       "addedWidgets": {},
       "aggData": [],
       "aggError": "",
       "aggOverflow": false,
       "aggSchema": [],
       "aggSeriesLimitReached": false,
       "aggType": "",
       "arguments": {},
       "columnCustomDisplayInfos": {},
       "data": [
        [
         "Switzerland"
        ]
       ],
       "datasetInfos": [],
       "dbfsResultPath": null,
       "isJsonSchema": true,
       "metadata": {},
       "overflow": false,
       "plotOptions": {
        "customPlotOptions": {},
        "displayType": "table",
        "pivotAggregation": null,
        "pivotColumns": null,
        "xColumns": null,
        "yColumns": null
       },
       "removedWidgets": [],
       "schema": [
        {
         "metadata": "{}",
         "name": "Euro_Cup_RunnersUp",
         "type": "\"string\""
        }
       ],
       "type": "table"
      }
     },
     "output_type": "display_data"
    },
    {
     "output_type": "display_data",
     "data": {
      "text/html": [
       "<style scoped>\n",
       "  .table-result-container {\n",
       "    max-height: 300px;\n",
       "    overflow: auto;\n",
       "  }\n",
       "  table, th, td {\n",
       "    border: 1px solid black;\n",
       "    border-collapse: collapse;\n",
       "  }\n",
       "  th, td {\n",
       "    padding: 5px;\n",
       "  }\n",
       "  th {\n",
       "    text-align: left;\n",
       "  }\n",
       "</style><div class='table-result-container'><table class='table-result'><thead style='background-color: white'><tr><th>Euro_Cup_ThirdPlace</th></tr></thead><tbody><tr><td>Portugal</td></tr></tbody></table></div>"
      ]
     },
     "metadata": {
      "application/vnd.databricks.v1+output": {
       "addedWidgets": {},
       "aggData": [],
       "aggError": "",
       "aggOverflow": false,
       "aggSchema": [],
       "aggSeriesLimitReached": false,
       "aggType": "",
       "arguments": {},
       "columnCustomDisplayInfos": {},
       "data": [
        [
         "Portugal"
        ]
       ],
       "datasetInfos": [],
       "dbfsResultPath": null,
       "isJsonSchema": true,
       "metadata": {},
       "overflow": false,
       "plotOptions": {
        "customPlotOptions": {},
        "displayType": "table",
        "pivotAggregation": null,
        "pivotColumns": null,
        "xColumns": null,
        "yColumns": null
       },
       "removedWidgets": [],
       "schema": [
        {
         "metadata": "{\"__CHAR_VARCHAR_TYPE_STRING\":\"varchar(53)\"}",
         "name": "Euro_Cup_ThirdPlace",
         "type": "\"string\""
        }
       ],
       "type": "table"
      }
     },
     "output_type": "display_data"
    }
   ],
   "source": [
    "import matplotlib.pyplot as plt\n",
    "\n",
    "first = spark.sql(\"SELECT MatchWinner AS Euro_Cup_Winners FROM QualificationPlacement WHERE MatchStage = 'FIN'\")\n",
    "second = spark.sql(\"SELECT CASE WHEN Team1 = MatchWinner THEN Team2 ELSE Team1  END AS Euro_Cup_RunnersUp FROM QualificationPlacement WHERE MatchStage = 'FIN'\")\n",
    "third = spark.sql(\"SELECT MatchWinner AS Euro_Cup_ThirdPlace FROM QualificationPlacement WHERE MatchStage = 'TP'\")\n",
    "display(first)\n",
    "display(second)\n",
    "display(third)"
   ]
  },
  {
   "cell_type": "code",
   "execution_count": 0,
   "metadata": {
    "application/vnd.databricks.v1+cell": {
     "cellMetadata": {
      "byteLimit": 2048000,
      "rowLimit": 10000
     },
     "inputWidgets": {},
     "nuid": "69fa6245-4667-43ed-b470-6f0e09d21a86",
     "showTitle": false,
     "title": ""
    }
   },
   "outputs": [
    {
     "output_type": "display_data",
     "data": {
      "image/png": "[encoded data removed]"
     },
     "metadata": {
      "application/vnd.databricks.v1+output": {
       "addedWidgets": {},
       "arguments": {},
       "data": "data:image/png;base64,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\n",
       "datasetInfos": [],
       "metadata": {},
       "removedWidgets": [],
       "type": "image"
      }
     },
     "output_type": "display_data"
    }
   ],
   "source": [
    "# Collecting names from DataFrames\n",
    "first_name = first.collect()[0][\"Euro_Cup_Winners\"]\n",
    "second_name = second.collect()[0][\"Euro_Cup_RunnersUp\"]\n",
    "third_name = third.collect()[0][\"Euro_Cup_ThirdPlace\"]\n",
    "\n",
    "# Create podium visualization\n",
    "plt.figure(figsize=(8, 6))\n",
    "\n",
    "# Create bars with adjusted positions and heights\n",
    "plt.bar(1, 1, color='silver', width=0.5)\n",
    "plt.bar(2, 1.2, color='gold', width=0.5)\n",
    "plt.bar(3, 0.8, color='#cd7f32', width=0.5)\n",
    "\n",
    "# Add text annotations with adjusted positions and rotation\n",
    "plt.text(1, 0.5, second_name, ha='center', va='center', color='white', rotation=90, fontsize=30)\n",
    "plt.text(2, 0.6, first_name, ha='center', va='center', color='black', rotation=90, fontsize=30)\n",
    "plt.text(3, 0.4, third_name, ha='center', va='center', color='white', rotation=90, fontsize=30)\n",
    "\n",
    "# Set axis labels and title\n",
    "plt.title('Euro Cup Podium')\n",
    "\n",
    "# Set x-axis ticks to represent positions\n",
    "plt.xticks([1, 2, 3], ['Silver (2nd)', 'Gold (1st)', 'Bronze (3rd)'])\n",
    "\n",
    "# Hide y-axis\n",
    "plt.gca().axes.get_yaxis().set_visible(False)\n",
    "\n",
    "# Show the plot\n",
    "plt.show()"
   ]
  }
 ],
 "metadata": {
  "application/vnd.databricks.v1+notebook": {
   "dashboards": [],
   "language": "python",
   "notebookMetadata": {
    "pythonIndentUnit": 4
   },
   "notebookName": "EuroSQL_Visible",
   "widgets": {}
  }
 },
 "nbformat": 4,
 "nbformat_minor": 0
}
