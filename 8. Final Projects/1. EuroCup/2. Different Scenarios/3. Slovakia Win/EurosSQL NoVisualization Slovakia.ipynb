{
 "cells": [
  {
   "cell_type": "markdown",
   "metadata": {
    "application/vnd.databricks.v1+cell": {
     "cellMetadata": {
      "byteLimit": 2048000,
      "rowLimit": 10000
     },
     "inputWidgets": {},
     "nuid": "78058010-e3bd-4f2f-ad63-260eceaa191d",
     "showTitle": false,
     "title": ""
    }
   },
   "source": [
    "#Euros SQL"
   ]
  },
  {
   "cell_type": "markdown",
   "metadata": {
    "application/vnd.databricks.v1+cell": {
     "cellMetadata": {
      "byteLimit": 2048000,
      "rowLimit": 10000
     },
     "inputWidgets": {},
     "nuid": "96afe7d9-8549-45e5-916e-6915990932f6",
     "showTitle": false,
     "title": ""
    }
   },
   "source": [
    "Removing files from dbfs"
   ]
  },
  {
   "cell_type": "code",
   "execution_count": 0,
   "metadata": {
    "application/vnd.databricks.v1+cell": {
     "cellMetadata": {
      "byteLimit": 2048000,
      "rowLimit": 10000
     },
     "inputWidgets": {},
     "nuid": "cb580873-1904-4c0e-b7dd-b99e0c3fa9bb",
     "showTitle": false,
     "title": ""
    }
   },
   "outputs": [
    {
     "output_type": "stream",
     "name": "stdout",
     "output_type": "stream",
     "text": [
      "Out[51]: True"
     ]
    }
   ],
   "source": [
    "dbutils.fs.rm(\"dbfs:/user/hive/warehouse/teaminfo\", True)"
   ]
  },
  {
   "cell_type": "code",
   "execution_count": 0,
   "metadata": {
    "application/vnd.databricks.v1+cell": {
     "cellMetadata": {
      "byteLimit": 2048000,
      "rowLimit": 10000
     },
     "inputWidgets": {},
     "nuid": "4a696379-1394-460f-ab79-28fa207dfda8",
     "showTitle": false,
     "title": ""
    }
   },
   "outputs": [
    {
     "output_type": "stream",
     "name": "stdout",
     "output_type": "stream",
     "text": [
      "Out[52]: True"
     ]
    }
   ],
   "source": [
    "dbutils.fs.rm(\"dbfs:/user/hive/warehouse/thirdplacementcombinations\", True)"
   ]
  },
  {
   "cell_type": "code",
   "execution_count": 0,
   "metadata": {
    "application/vnd.databricks.v1+cell": {
     "cellMetadata": {
      "byteLimit": 2048000,
      "rowLimit": 10000
     },
     "inputWidgets": {},
     "nuid": "d5d8c75d-fbab-4759-83f7-da830c9e4e5c",
     "showTitle": false,
     "title": ""
    }
   },
   "outputs": [
    {
     "output_type": "stream",
     "name": "stdout",
     "output_type": "stream",
     "text": [
      "Out[53]: True"
     ]
    }
   ],
   "source": [
    "dbutils.fs.rm(\"dbfs:/user/hive/warehouse/qualificationplacement\", True)\n"
   ]
  },
  {
   "cell_type": "markdown",
   "metadata": {
    "application/vnd.databricks.v1+cell": {
     "cellMetadata": {
      "byteLimit": 2048000,
      "rowLimit": 10000
     },
     "inputWidgets": {},
     "nuid": "8355a19d-b1ed-42cb-b563-86576e6da564",
     "showTitle": false,
     "title": ""
    }
   },
   "source": [
    "Dropping Tables and Views"
   ]
  },
  {
   "cell_type": "code",
   "execution_count": 0,
   "metadata": {
    "application/vnd.databricks.v1+cell": {
     "cellMetadata": {
      "byteLimit": 2048000,
      "implicitDf": true,
      "rowLimit": 10000
     },
     "inputWidgets": {},
     "nuid": "28fcd66c-cb1d-4bee-a303-f4a0b84b6595",
     "showTitle": false,
     "title": ""
    }
   },
   "outputs": [
    {
     "output_type": "display_data",
     "data": {
      "text/html": [
       "<style scoped>\n",
       "  .table-result-container {\n",
       "    max-height: 300px;\n",
       "    overflow: auto;\n",
       "  }\n",
       "  table, th, td {\n",
       "    border: 1px solid black;\n",
       "    border-collapse: collapse;\n",
       "  }\n",
       "  th, td {\n",
       "    padding: 5px;\n",
       "  }\n",
       "  th {\n",
       "    text-align: left;\n",
       "  }\n",
       "</style><div class='table-result-container'><table class='table-result'><thead style='background-color: white'><tr></tr></thead><tbody></tbody></table></div>"
      ]
     },
     "metadata": {
      "application/vnd.databricks.v1+output": {
       "addedWidgets": {},
       "aggData": [],
       "aggError": "",
       "aggOverflow": false,
       "aggSchema": [],
       "aggSeriesLimitReached": false,
       "aggType": "",
       "arguments": {},
       "columnCustomDisplayInfos": {},
       "data": [],
       "datasetInfos": [],
       "dbfsResultPath": null,
       "isJsonSchema": true,
       "metadata": {},
       "overflow": false,
       "plotOptions": {
        "customPlotOptions": {},
        "displayType": "table",
        "pivotAggregation": null,
        "pivotColumns": null,
        "xColumns": null,
        "yColumns": null
       },
       "removedWidgets": [],
       "schema": [],
       "type": "table"
      }
     },
     "output_type": "display_data"
    }
   ],
   "source": [
    "%sql\n",
    "DROP TABLE IF EXISTS TeamInfo;\n",
    "DROP TABLE IF EXISTS GroupStageMatches;\n",
    "DROP TABLE IF EXISTS GroupStageResults;\n",
    "DROP TABLE IF EXISTS ThirdPlacementCombinations;\n",
    "DROP TABLE IF EXISTS QualificationPlacement;"
   ]
  },
  {
   "cell_type": "markdown",
   "metadata": {
    "application/vnd.databricks.v1+cell": {
     "cellMetadata": {
      "byteLimit": 2048000,
      "rowLimit": 10000
     },
     "inputWidgets": {},
     "nuid": "584b3c27-6ed7-47e8-aae3-a952aaa5c1c9",
     "showTitle": false,
     "title": ""
    }
   },
   "source": [
    "Table For Team Names and Groups"
   ]
  },
  {
   "cell_type": "code",
   "execution_count": 0,
   "metadata": {
    "application/vnd.databricks.v1+cell": {
     "cellMetadata": {
      "byteLimit": 2048000,
      "implicitDf": true,
      "rowLimit": 10000
     },
     "inputWidgets": {},
     "nuid": "818683a4-04b3-4af3-bea0-f66d3752b5e2",
     "showTitle": false,
     "title": ""
    }
   },
   "outputs": [
    {
     "output_type": "display_data",
     "data": {
      "text/html": [
       "<style scoped>\n",
       "  .table-result-container {\n",
       "    max-height: 300px;\n",
       "    overflow: auto;\n",
       "  }\n",
       "  table, th, td {\n",
       "    border: 1px solid black;\n",
       "    border-collapse: collapse;\n",
       "  }\n",
       "  th, td {\n",
       "    padding: 5px;\n",
       "  }\n",
       "  th {\n",
       "    text-align: left;\n",
       "  }\n",
       "</style><div class='table-result-container'><table class='table-result'><thead style='background-color: white'><tr></tr></thead><tbody></tbody></table></div>"
      ]
     },
     "metadata": {
      "application/vnd.databricks.v1+output": {
       "addedWidgets": {},
       "aggData": [],
       "aggError": "",
       "aggOverflow": false,
       "aggSchema": [],
       "aggSeriesLimitReached": false,
       "aggType": "",
       "arguments": {},
       "columnCustomDisplayInfos": {},
       "data": [],
       "datasetInfos": [],
       "dbfsResultPath": null,
       "isJsonSchema": true,
       "metadata": {},
       "overflow": false,
       "plotOptions": {
        "customPlotOptions": {},
        "displayType": "table",
        "pivotAggregation": null,
        "pivotColumns": null,
        "xColumns": null,
        "yColumns": null
       },
       "removedWidgets": [],
       "schema": [],
       "type": "table"
      }
     },
     "output_type": "display_data"
    }
   ],
   "source": [
    "%sql\n",
    "CREATE OR REPLACE TABLE TeamInfo(\n",
    "    TeamID INT,\n",
    "    GroupName CHAR(1),\n",
    "    TeamName VARCHAR(53)\n",
    ");"
   ]
  },
  {
   "cell_type": "markdown",
   "metadata": {
    "application/vnd.databricks.v1+cell": {
     "cellMetadata": {
      "byteLimit": 2048000,
      "rowLimit": 10000
     },
     "inputWidgets": {},
     "nuid": "3bcae3fa-7d4c-40f2-a728-c02e2e1e793c",
     "showTitle": false,
     "title": ""
    }
   },
   "source": [
    "Values for Above Created Table"
   ]
  },
  {
   "cell_type": "code",
   "execution_count": 0,
   "metadata": {
    "application/vnd.databricks.v1+cell": {
     "cellMetadata": {
      "byteLimit": 2048000,
      "implicitDf": true,
      "rowLimit": 10000
     },
     "inputWidgets": {},
     "nuid": "6daced16-601e-4a83-9d34-0b9143ddee03",
     "showTitle": false,
     "title": ""
    }
   },
   "outputs": [
    {
     "output_type": "display_data",
     "data": {
      "text/html": [
       "<style scoped>\n",
       "  .table-result-container {\n",
       "    max-height: 300px;\n",
       "    overflow: auto;\n",
       "  }\n",
       "  table, th, td {\n",
       "    border: 1px solid black;\n",
       "    border-collapse: collapse;\n",
       "  }\n",
       "  th, td {\n",
       "    padding: 5px;\n",
       "  }\n",
       "  th {\n",
       "    text-align: left;\n",
       "  }\n",
       "</style><div class='table-result-container'><table class='table-result'><thead style='background-color: white'><tr><th>num_affected_rows</th><th>num_inserted_rows</th></tr></thead><tbody><tr><td>24</td><td>24</td></tr></tbody></table></div>"
      ]
     },
     "metadata": {
      "application/vnd.databricks.v1+output": {
       "addedWidgets": {},
       "aggData": [],
       "aggError": "",
       "aggOverflow": false,
       "aggSchema": [],
       "aggSeriesLimitReached": false,
       "aggType": "",
       "arguments": {},
       "columnCustomDisplayInfos": {},
       "data": [
        [
         24,
         24
        ]
       ],
       "datasetInfos": [],
       "dbfsResultPath": null,
       "isJsonSchema": true,
       "metadata": {},
       "overflow": false,
       "plotOptions": {
        "customPlotOptions": {},
        "displayType": "table",
        "pivotAggregation": null,
        "pivotColumns": null,
        "xColumns": null,
        "yColumns": null
       },
       "removedWidgets": [],
       "schema": [
        {
         "metadata": "{}",
         "name": "num_affected_rows",
         "type": "\"long\""
        },
        {
         "metadata": "{}",
         "name": "num_inserted_rows",
         "type": "\"long\""
        }
       ],
       "type": "table"
      }
     },
     "output_type": "display_data"
    }
   ],
   "source": [
    "%sql\n",
    "INSERT INTO TeamInfo(TeamID, GroupName, TeamName)\n",
    "VALUES\n",
    "    (1, 'A', 'Germany'),\n",
    "    (2, 'A', 'Scotland'),\n",
    "    (3, 'A', 'Hungary'),\n",
    "    (4, 'A', 'Switzerland'),\n",
    "    (5, 'B', 'Spain'),\n",
    "    (6, 'B', 'Croatia'),\n",
    "    (7, 'B', 'Italy'),\n",
    "    (8, 'B', 'Albania'),\n",
    "    (9, 'C', 'Slovenia'),\n",
    "    (10, 'C', 'Denmark'),\n",
    "    (11, 'C', 'Serbia'),\n",
    "    (12, 'C', 'England'),\n",
    "    (13, 'D','Netherlands'),\n",
    "    (14, 'D', 'Austria'),\n",
    "    (15, 'D', 'France'),\n",
    "    (16, 'D', 'Poland'),\n",
    "    (17, 'E', 'Belgium'),\n",
    "    (18, 'E', 'Slovakia'),\n",
    "    (19, 'E', 'Romania'),\n",
    "    (20, 'E', 'Ukraine'),\n",
    "    (21, 'F', 'Turkey'),\n",
    "    (22, 'F', 'Portugal'),\n",
    "    (23, 'F', 'Czech Republic'),\n",
    "    (24, 'F', 'Greece');"
   ]
  },
  {
   "cell_type": "markdown",
   "metadata": {
    "application/vnd.databricks.v1+cell": {
     "cellMetadata": {
      "byteLimit": 2048000,
      "rowLimit": 10000
     },
     "inputWidgets": {},
     "nuid": "cf4bd120-05b5-49b1-af21-1d8af1bd042d",
     "showTitle": false,
     "title": ""
    }
   },
   "source": [
    "Checking Data Insert"
   ]
  },
  {
   "cell_type": "code",
   "execution_count": 0,
   "metadata": {
    "application/vnd.databricks.v1+cell": {
     "cellMetadata": {
      "byteLimit": 2048000,
      "implicitDf": true,
      "rowLimit": 10000
     },
     "inputWidgets": {},
     "nuid": "384bf0d9-c082-4356-ae14-b6a7c9eba905",
     "showTitle": false,
     "title": ""
    }
   },
   "outputs": [
    {
     "output_type": "display_data",
     "data": {
      "text/html": [
       "<style scoped>\n",
       "  .table-result-container {\n",
       "    max-height: 300px;\n",
       "    overflow: auto;\n",
       "  }\n",
       "  table, th, td {\n",
       "    border: 1px solid black;\n",
       "    border-collapse: collapse;\n",
       "  }\n",
       "  th, td {\n",
       "    padding: 5px;\n",
       "  }\n",
       "  th {\n",
       "    text-align: left;\n",
       "  }\n",
       "</style><div class='table-result-container'><table class='table-result'><thead style='background-color: white'><tr><th>TeamID</th><th>GroupName</th><th>TeamName</th></tr></thead><tbody><tr><td>1</td><td>A</td><td>Germany</td></tr><tr><td>2</td><td>A</td><td>Scotland</td></tr><tr><td>3</td><td>A</td><td>Hungary</td></tr><tr><td>4</td><td>A</td><td>Switzerland</td></tr><tr><td>5</td><td>B</td><td>Spain</td></tr><tr><td>6</td><td>B</td><td>Croatia</td></tr><tr><td>7</td><td>B</td><td>Italy</td></tr><tr><td>8</td><td>B</td><td>Albania</td></tr><tr><td>9</td><td>C</td><td>Slovenia</td></tr><tr><td>10</td><td>C</td><td>Denmark</td></tr><tr><td>11</td><td>C</td><td>Serbia</td></tr><tr><td>12</td><td>C</td><td>England</td></tr><tr><td>13</td><td>D</td><td>Netherlands</td></tr><tr><td>14</td><td>D</td><td>Austria</td></tr><tr><td>15</td><td>D</td><td>France</td></tr><tr><td>16</td><td>D</td><td>Poland</td></tr><tr><td>17</td><td>E</td><td>Belgium</td></tr><tr><td>18</td><td>E</td><td>Slovakia</td></tr><tr><td>19</td><td>E</td><td>Romania</td></tr><tr><td>20</td><td>E</td><td>Ukraine</td></tr><tr><td>21</td><td>F</td><td>Turkey</td></tr><tr><td>22</td><td>F</td><td>Portugal</td></tr><tr><td>23</td><td>F</td><td>Czech Republic</td></tr><tr><td>24</td><td>F</td><td>Greece</td></tr></tbody></table></div>"
      ]
     },
     "metadata": {
      "application/vnd.databricks.v1+output": {
       "addedWidgets": {},
       "aggData": [],
       "aggError": "",
       "aggOverflow": false,
       "aggSchema": [],
       "aggSeriesLimitReached": false,
       "aggType": "",
       "arguments": {},
       "columnCustomDisplayInfos": {},
       "data": [
        [
         1,
         "A",
         "Germany"
        ],
        [
         2,
         "A",
         "Scotland"
        ],
        [
         3,
         "A",
         "Hungary"
        ],
        [
         4,
         "A",
         "Switzerland"
        ],
        [
         5,
         "B",
         "Spain"
        ],
        [
         6,
         "B",
         "Croatia"
        ],
        [
         7,
         "B",
         "Italy"
        ],
        [
         8,
         "B",
         "Albania"
        ],
        [
         9,
         "C",
         "Slovenia"
        ],
        [
         10,
         "C",
         "Denmark"
        ],
        [
         11,
         "C",
         "Serbia"
        ],
        [
         12,
         "C",
         "England"
        ],
        [
         13,
         "D",
         "Netherlands"
        ],
        [
         14,
         "D",
         "Austria"
        ],
        [
         15,
         "D",
         "France"
        ],
        [
         16,
         "D",
         "Poland"
        ],
        [
         17,
         "E",
         "Belgium"
        ],
        [
         18,
         "E",
         "Slovakia"
        ],
        [
         19,
         "E",
         "Romania"
        ],
        [
         20,
         "E",
         "Ukraine"
        ],
        [
         21,
         "F",
         "Turkey"
        ],
        [
         22,
         "F",
         "Portugal"
        ],
        [
         23,
         "F",
         "Czech Republic"
        ],
        [
         24,
         "F",
         "Greece"
        ]
       ],
       "datasetInfos": [],
       "dbfsResultPath": null,
       "isJsonSchema": true,
       "metadata": {},
       "overflow": false,
       "plotOptions": {
        "customPlotOptions": {},
        "displayType": "table",
        "pivotAggregation": null,
        "pivotColumns": null,
        "xColumns": null,
        "yColumns": null
       },
       "removedWidgets": [],
       "schema": [
        {
         "metadata": "{}",
         "name": "TeamID",
         "type": "\"integer\""
        },
        {
         "metadata": "{\"__CHAR_VARCHAR_TYPE_STRING\":\"char(1)\"}",
         "name": "GroupName",
         "type": "\"string\""
        },
        {
         "metadata": "{\"__CHAR_VARCHAR_TYPE_STRING\":\"varchar(53)\"}",
         "name": "TeamName",
         "type": "\"string\""
        }
       ],
       "type": "table"
      }
     },
     "output_type": "display_data"
    }
   ],
   "source": [
    "%sql\n",
    "SELECT * FROM TeamInfo;"
   ]
  },
  {
   "cell_type": "markdown",
   "metadata": {
    "application/vnd.databricks.v1+cell": {
     "cellMetadata": {
      "byteLimit": 2048000,
      "rowLimit": 10000
     },
     "inputWidgets": {},
     "nuid": "e0448415-979e-46a8-b1f3-24c74d081dc0",
     "showTitle": false,
     "title": ""
    }
   },
   "source": [
    "Query for Generating GroupStage Matches"
   ]
  },
  {
   "cell_type": "code",
   "execution_count": 0,
   "metadata": {
    "application/vnd.databricks.v1+cell": {
     "cellMetadata": {
      "byteLimit": 2048000,
      "implicitDf": true,
      "rowLimit": 10000
     },
     "inputWidgets": {},
     "nuid": "6104b3b3-224f-4173-bbc8-819678f24023",
     "showTitle": false,
     "title": ""
    }
   },
   "outputs": [
    {
     "output_type": "display_data",
     "data": {
      "text/html": [
       "<style scoped>\n",
       "  .table-result-container {\n",
       "    max-height: 300px;\n",
       "    overflow: auto;\n",
       "  }\n",
       "  table, th, td {\n",
       "    border: 1px solid black;\n",
       "    border-collapse: collapse;\n",
       "  }\n",
       "  th, td {\n",
       "    padding: 5px;\n",
       "  }\n",
       "  th {\n",
       "    text-align: left;\n",
       "  }\n",
       "</style><div class='table-result-container'><table class='table-result'><thead style='background-color: white'><tr><th>num_affected_rows</th><th>num_inserted_rows</th></tr></thead><tbody></tbody></table></div>"
      ]
     },
     "metadata": {
      "application/vnd.databricks.v1+output": {
       "addedWidgets": {},
       "aggData": [],
       "aggError": "",
       "aggOverflow": false,
       "aggSchema": [],
       "aggSeriesLimitReached": false,
       "aggType": "",
       "arguments": {},
       "columnCustomDisplayInfos": {},
       "data": [],
       "datasetInfos": [],
       "dbfsResultPath": null,
       "isJsonSchema": true,
       "metadata": {},
       "overflow": false,
       "plotOptions": {
        "customPlotOptions": {},
        "displayType": "table",
        "pivotAggregation": null,
        "pivotColumns": null,
        "xColumns": null,
        "yColumns": null
       },
       "removedWidgets": [],
       "schema": [
        {
         "metadata": "{}",
         "name": "num_affected_rows",
         "type": "\"long\""
        },
        {
         "metadata": "{}",
         "name": "num_inserted_rows",
         "type": "\"long\""
        }
       ],
       "type": "table"
      }
     },
     "output_type": "display_data"
    }
   ],
   "source": [
    "%sql\n",
    "CREATE OR REPLACE TABLE GroupStageMatches AS\n",
    "SELECT\n",
    "    Row_Number() over(order by 1) as MatchID,\n",
    "    t1.GroupName AS Team1Group,\n",
    "    t1.TeamID AS Team1ID,\n",
    "    t1.TeamName AS Team1Name,\n",
    "    t2.GroupName AS Team2Group,\n",
    "    t2.TeamID AS Team2ID,\n",
    "    t2.TeamName AS Team2Name,\n",
    "    ROUND(RAND() * 6) AS Team1Goals,  -- Random goal value for Team1 with maximun goals 6\n",
    "    ROUND(RAND() * 6) AS Team2Goals,   -- Random goal value for Team2 with maximun goals 6\n",
    "    CASE\n",
    "        WHEN Team1Goals > Team2Goals THEN t1.TeamName\n",
    "        WHEN Team2Goals > Team1Goals THEN t2.TeamName\n",
    "        ELSE \"Draw\"\n",
    "    END AS MatchWinner\n",
    "FROM\n",
    "    TeamInfo t1\n",
    "CROSS JOIN\n",
    "    TeamInfo t2\n",
    "WHERE\n",
    "    t1.GroupName = t2.GroupName\n",
    "    AND t1.TeamID < t2.TeamID;  -- TO avoid duplicate matches and self-matches"
   ]
  },
  {
   "cell_type": "markdown",
   "metadata": {
    "application/vnd.databricks.v1+cell": {
     "cellMetadata": {
      "byteLimit": 2048000,
      "rowLimit": 10000
     },
     "inputWidgets": {},
     "nuid": "a03ffa85-c6a5-4aa9-81e7-12ffb1da4f1f",
     "showTitle": false,
     "title": ""
    }
   },
   "source": [
    "Cheking those Matches"
   ]
  },
  {
   "cell_type": "code",
   "execution_count": 0,
   "metadata": {
    "application/vnd.databricks.v1+cell": {
     "cellMetadata": {
      "byteLimit": 2048000,
      "implicitDf": true,
      "rowLimit": 10000
     },
     "inputWidgets": {},
     "nuid": "fd63d698-b380-4334-be25-17cb4e5d5c3e",
     "showTitle": false,
     "title": ""
    }
   },
   "outputs": [
    {
     "output_type": "display_data",
     "data": {
      "text/html": [
       "<style scoped>\n",
       "  .table-result-container {\n",
       "    max-height: 300px;\n",
       "    overflow: auto;\n",
       "  }\n",
       "  table, th, td {\n",
       "    border: 1px solid black;\n",
       "    border-collapse: collapse;\n",
       "  }\n",
       "  th, td {\n",
       "    padding: 5px;\n",
       "  }\n",
       "  th {\n",
       "    text-align: left;\n",
       "  }\n",
       "</style><div class='table-result-container'><table class='table-result'><thead style='background-color: white'><tr><th>MatchID</th><th>Team1Name</th><th>Team1Goals</th><th>Team2Goals</th><th>Team2Name</th><th>MatchWinner</th></tr></thead><tbody><tr><td>1</td><td>Germany</td><td>0.0</td><td>5.0</td><td>Switzerland</td><td>Switzerland</td></tr><tr><td>2</td><td>Germany</td><td>4.0</td><td>3.0</td><td>Hungary</td><td>Germany</td></tr><tr><td>3</td><td>Germany</td><td>3.0</td><td>2.0</td><td>Scotland</td><td>Germany</td></tr><tr><td>4</td><td>Scotland</td><td>5.0</td><td>1.0</td><td>Switzerland</td><td>Scotland</td></tr><tr><td>5</td><td>Scotland</td><td>0.0</td><td>3.0</td><td>Hungary</td><td>Hungary</td></tr><tr><td>6</td><td>Hungary</td><td>2.0</td><td>5.0</td><td>Switzerland</td><td>Switzerland</td></tr><tr><td>7</td><td>Spain</td><td>2.0</td><td>4.0</td><td>Albania</td><td>Albania</td></tr><tr><td>8</td><td>Spain</td><td>1.0</td><td>1.0</td><td>Italy</td><td>Draw</td></tr><tr><td>9</td><td>Spain</td><td>2.0</td><td>5.0</td><td>Croatia</td><td>Croatia</td></tr><tr><td>10</td><td>Croatia</td><td>3.0</td><td>0.0</td><td>Albania</td><td>Croatia</td></tr><tr><td>11</td><td>Croatia</td><td>1.0</td><td>1.0</td><td>Italy</td><td>Draw</td></tr><tr><td>12</td><td>Italy</td><td>2.0</td><td>1.0</td><td>Albania</td><td>Italy</td></tr><tr><td>13</td><td>Slovenia</td><td>6.0</td><td>1.0</td><td>England</td><td>Slovenia</td></tr><tr><td>14</td><td>Slovenia</td><td>5.0</td><td>2.0</td><td>Serbia</td><td>Slovenia</td></tr><tr><td>15</td><td>Slovenia</td><td>1.0</td><td>5.0</td><td>Denmark</td><td>Denmark</td></tr><tr><td>16</td><td>Denmark</td><td>4.0</td><td>3.0</td><td>England</td><td>Denmark</td></tr><tr><td>17</td><td>Denmark</td><td>6.0</td><td>1.0</td><td>Serbia</td><td>Denmark</td></tr><tr><td>18</td><td>Serbia</td><td>2.0</td><td>4.0</td><td>England</td><td>England</td></tr><tr><td>19</td><td>Netherlands</td><td>2.0</td><td>5.0</td><td>Poland</td><td>Poland</td></tr><tr><td>20</td><td>Netherlands</td><td>4.0</td><td>4.0</td><td>France</td><td>Draw</td></tr><tr><td>21</td><td>Netherlands</td><td>4.0</td><td>4.0</td><td>Austria</td><td>Draw</td></tr><tr><td>22</td><td>Austria</td><td>3.0</td><td>4.0</td><td>Poland</td><td>Poland</td></tr><tr><td>23</td><td>Austria</td><td>3.0</td><td>1.0</td><td>France</td><td>Austria</td></tr><tr><td>24</td><td>France</td><td>6.0</td><td>5.0</td><td>Poland</td><td>France</td></tr><tr><td>25</td><td>Belgium</td><td>6.0</td><td>0.0</td><td>Ukraine</td><td>Belgium</td></tr><tr><td>26</td><td>Belgium</td><td>1.0</td><td>2.0</td><td>Romania</td><td>Romania</td></tr><tr><td>27</td><td>Belgium</td><td>3.0</td><td>5.0</td><td>Slovakia</td><td>Slovakia</td></tr><tr><td>28</td><td>Slovakia</td><td>5.0</td><td>2.0</td><td>Ukraine</td><td>Slovakia</td></tr><tr><td>29</td><td>Slovakia</td><td>1.0</td><td>2.0</td><td>Romania</td><td>Romania</td></tr><tr><td>30</td><td>Romania</td><td>4.0</td><td>6.0</td><td>Ukraine</td><td>Ukraine</td></tr><tr><td>31</td><td>Turkey</td><td>4.0</td><td>2.0</td><td>Greece</td><td>Turkey</td></tr><tr><td>32</td><td>Turkey</td><td>5.0</td><td>4.0</td><td>Czech Republic</td><td>Turkey</td></tr><tr><td>33</td><td>Turkey</td><td>5.0</td><td>6.0</td><td>Portugal</td><td>Portugal</td></tr><tr><td>34</td><td>Portugal</td><td>0.0</td><td>0.0</td><td>Greece</td><td>Draw</td></tr><tr><td>35</td><td>Portugal</td><td>2.0</td><td>4.0</td><td>Czech Republic</td><td>Czech Republic</td></tr><tr><td>36</td><td>Czech Republic</td><td>5.0</td><td>1.0</td><td>Greece</td><td>Czech Republic</td></tr></tbody></table></div>"
      ]
     },
     "metadata": {
      "application/vnd.databricks.v1+output": {
       "addedWidgets": {},
       "aggData": [],
       "aggError": "",
       "aggOverflow": false,
       "aggSchema": [],
       "aggSeriesLimitReached": false,
       "aggType": "",
       "arguments": {},
       "columnCustomDisplayInfos": {},
       "data": [
        [
         1,
         "Germany",
         0.0,
         5.0,
         "Switzerland",
         "Switzerland"
        ],
        [
         2,
         "Germany",
         4.0,
         3.0,
         "Hungary",
         "Germany"
        ],
        [
         3,
         "Germany",
         3.0,
         2.0,
         "Scotland",
         "Germany"
        ],
        [
         4,
         "Scotland",
         5.0,
         1.0,
         "Switzerland",
         "Scotland"
        ],
        [
         5,
         "Scotland",
         0.0,
         3.0,
         "Hungary",
         "Hungary"
        ],
        [
         6,
         "Hungary",
         2.0,
         5.0,
         "Switzerland",
         "Switzerland"
        ],
        [
         7,
         "Spain",
         2.0,
         4.0,
         "Albania",
         "Albania"
        ],
        [
         8,
         "Spain",
         1.0,
         1.0,
         "Italy",
         "Draw"
        ],
        [
         9,
         "Spain",
         2.0,
         5.0,
         "Croatia",
         "Croatia"
        ],
        [
         10,
         "Croatia",
         3.0,
         0.0,
         "Albania",
         "Croatia"
        ],
        [
         11,
         "Croatia",
         1.0,
         1.0,
         "Italy",
         "Draw"
        ],
        [
         12,
         "Italy",
         2.0,
         1.0,
         "Albania",
         "Italy"
        ],
        [
         13,
         "Slovenia",
         6.0,
         1.0,
         "England",
         "Slovenia"
        ],
        [
         14,
         "Slovenia",
         5.0,
         2.0,
         "Serbia",
         "Slovenia"
        ],
        [
         15,
         "Slovenia",
         1.0,
         5.0,
         "Denmark",
         "Denmark"
        ],
        [
         16,
         "Denmark",
         4.0,
         3.0,
         "England",
         "Denmark"
        ],
        [
         17,
         "Denmark",
         6.0,
         1.0,
         "Serbia",
         "Denmark"
        ],
        [
         18,
         "Serbia",
         2.0,
         4.0,
         "England",
         "England"
        ],
        [
         19,
         "Netherlands",
         2.0,
         5.0,
         "Poland",
         "Poland"
        ],
        [
         20,
         "Netherlands",
         4.0,
         4.0,
         "France",
         "Draw"
        ],
        [
         21,
         "Netherlands",
         4.0,
         4.0,
         "Austria",
         "Draw"
        ],
        [
         22,
         "Austria",
         3.0,
         4.0,
         "Poland",
         "Poland"
        ],
        [
         23,
         "Austria",
         3.0,
         1.0,
         "France",
         "Austria"
        ],
        [
         24,
         "France",
         6.0,
         5.0,
         "Poland",
         "France"
        ],
        [
         25,
         "Belgium",
         6.0,
         0.0,
         "Ukraine",
         "Belgium"
        ],
        [
         26,
         "Belgium",
         1.0,
         2.0,
         "Romania",
         "Romania"
        ],
        [
         27,
         "Belgium",
         3.0,
         5.0,
         "Slovakia",
         "Slovakia"
        ],
        [
         28,
         "Slovakia",
         5.0,
         2.0,
         "Ukraine",
         "Slovakia"
        ],
        [
         29,
         "Slovakia",
         1.0,
         2.0,
         "Romania",
         "Romania"
        ],
        [
         30,
         "Romania",
         4.0,
         6.0,
         "Ukraine",
         "Ukraine"
        ],
        [
         31,
         "Turkey",
         4.0,
         2.0,
         "Greece",
         "Turkey"
        ],
        [
         32,
         "Turkey",
         5.0,
         4.0,
         "Czech Republic",
         "Turkey"
        ],
        [
         33,
         "Turkey",
         5.0,
         6.0,
         "Portugal",
         "Portugal"
        ],
        [
         34,
         "Portugal",
         0.0,
         0.0,
         "Greece",
         "Draw"
        ],
        [
         35,
         "Portugal",
         2.0,
         4.0,
         "Czech Republic",
         "Czech Republic"
        ],
        [
         36,
         "Czech Republic",
         5.0,
         1.0,
         "Greece",
         "Czech Republic"
        ]
       ],
       "datasetInfos": [],
       "dbfsResultPath": null,
       "isJsonSchema": true,
       "metadata": {},
       "overflow": false,
       "plotOptions": {
        "customPlotOptions": {},
        "displayType": "table",
        "pivotAggregation": null,
        "pivotColumns": null,
        "xColumns": null,
        "yColumns": null
       },
       "removedWidgets": [],
       "schema": [
        {
         "metadata": "{}",
         "name": "MatchID",
         "type": "\"integer\""
        },
        {
         "metadata": "{\"__CHAR_VARCHAR_TYPE_STRING\":\"varchar(53)\"}",
         "name": "Team1Name",
         "type": "\"string\""
        },
        {
         "metadata": "{}",
         "name": "Team1Goals",
         "type": "\"double\""
        },
        {
         "metadata": "{}",
         "name": "Team2Goals",
         "type": "\"double\""
        },
        {
         "metadata": "{\"__CHAR_VARCHAR_TYPE_STRING\":\"varchar(53)\"}",
         "name": "Team2Name",
         "type": "\"string\""
        },
        {
         "metadata": "{}",
         "name": "MatchWinner",
         "type": "\"string\""
        }
       ],
       "type": "table"
      }
     },
     "output_type": "display_data"
    }
   ],
   "source": [
    "%sql\n",
    "SELECT MatchID, Team1Name, Team1Goals, Team2Goals, Team2Name, MatchWinner FROM GroupStageMatches;"
   ]
  },
  {
   "cell_type": "markdown",
   "metadata": {
    "application/vnd.databricks.v1+cell": {
     "cellMetadata": {
      "byteLimit": 2048000,
      "rowLimit": 10000
     },
     "inputWidgets": {},
     "nuid": "96d7ec8f-79dd-424d-bdc3-b8b172d0b36f",
     "showTitle": false,
     "title": ""
    }
   },
   "source": [
    "Result Table Calculation Accroding to the Above Matches"
   ]
  },
  {
   "cell_type": "code",
   "execution_count": 0,
   "metadata": {
    "application/vnd.databricks.v1+cell": {
     "cellMetadata": {
      "byteLimit": 2048000,
      "implicitDf": true,
      "rowLimit": 10000
     },
     "inputWidgets": {},
     "nuid": "8ae820e7-c36a-4fee-87da-07d5c5cd7128",
     "showTitle": false,
     "title": ""
    }
   },
   "outputs": [
    {
     "output_type": "display_data",
     "data": {
      "text/html": [
       "<style scoped>\n",
       "  .table-result-container {\n",
       "    max-height: 300px;\n",
       "    overflow: auto;\n",
       "  }\n",
       "  table, th, td {\n",
       "    border: 1px solid black;\n",
       "    border-collapse: collapse;\n",
       "  }\n",
       "  th, td {\n",
       "    padding: 5px;\n",
       "  }\n",
       "  th {\n",
       "    text-align: left;\n",
       "  }\n",
       "</style><div class='table-result-container'><table class='table-result'><thead style='background-color: white'><tr><th>num_affected_rows</th><th>num_inserted_rows</th></tr></thead><tbody></tbody></table></div>"
      ]
     },
     "metadata": {
      "application/vnd.databricks.v1+output": {
       "addedWidgets": {},
       "aggData": [],
       "aggError": "",
       "aggOverflow": false,
       "aggSchema": [],
       "aggSeriesLimitReached": false,
       "aggType": "",
       "arguments": {},
       "columnCustomDisplayInfos": {},
       "data": [],
       "datasetInfos": [],
       "dbfsResultPath": null,
       "isJsonSchema": true,
       "metadata": {},
       "overflow": false,
       "plotOptions": {
        "customPlotOptions": {},
        "displayType": "table",
        "pivotAggregation": null,
        "pivotColumns": null,
        "xColumns": null,
        "yColumns": null
       },
       "removedWidgets": [],
       "schema": [
        {
         "metadata": "{}",
         "name": "num_affected_rows",
         "type": "\"long\""
        },
        {
         "metadata": "{}",
         "name": "num_inserted_rows",
         "type": "\"long\""
        }
       ],
       "type": "table"
      }
     },
     "output_type": "display_data"
    }
   ],
   "source": [
    "%sql\n",
    "CREATE OR REPLACE TABLE GroupStageResults AS\n",
    "SELECT\n",
    "    GroupName,\n",
    "    TeamName,\n",
    "    COUNT(*) AS MatchesPlayed,\n",
    "    SUM(CASE WHEN MatchWinner = TeamName THEN 1 ELSE 0 END) AS MatchesWon,\n",
    "    SUM(CASE WHEN MatchWinner != TeamName AND MatchWinner != 'Draw' THEN 1 ELSE 0 END) AS MatchesLost,\n",
    "    SUM(CASE WHEN MatchWinner = 'Draw' THEN 1 ELSE 0 END) AS MatchesDrawn,\n",
    "    SUM(GoalsFor) AS GF,\n",
    "    SUM(GoalsAgainst) AS GA,\n",
    "    SUM(GoalsFor - GoalsAgainst) AS GD,\n",
    "    SUM(CASE WHEN MatchWinner = TeamName THEN 3 WHEN MatchWinner = 'Draw' THEN 1 ELSE 0 END) AS TotalPoints,\n",
    "    concat(GroupName, ROW_NUMBER() OVER (PARTITION BY GroupName ORDER BY SUM(CASE WHEN MatchWinner = TeamName THEN 3 WHEN MatchWinner = 'Draw' THEN 1 ELSE 0 END) DESC, SUM(GoalsFor - GoalsAgainst) DESC)) AS Position\n",
    "FROM (\n",
    "    SELECT\n",
    "        Team1ID AS TeamID,\n",
    "        Team1Name AS TeamName,\n",
    "        Team1Group AS GroupName,\n",
    "        MatchWinner,\n",
    "        Team1Goals AS GoalsFor,\n",
    "        Team2Goals AS GoalsAgainst\n",
    "    FROM\n",
    "        GroupStageMatches\n",
    "\n",
    "    UNION ALL\n",
    "\n",
    "    SELECT\n",
    "        Team2ID AS TeamID,\n",
    "        Team2Name AS TeamName,\n",
    "        Team2Group AS GroupName,\n",
    "        MatchWinner,\n",
    "        Team2Goals AS GoalsFor,\n",
    "        Team1Goals AS GoalsAgainst\n",
    "    FROM\n",
    "        GroupStageMatches\n",
    ") AS AllTeams\n",
    "GROUP BY\n",
    "    TeamID, TeamName, GroupName\n",
    "ORDER BY\n",
    "    GroupName, TotalPoints DESC, GD DESC, GF DESC, GA ASC, TeamName;\n"
   ]
  },
  {
   "cell_type": "markdown",
   "metadata": {
    "application/vnd.databricks.v1+cell": {
     "cellMetadata": {
      "byteLimit": 2048000,
      "rowLimit": 10000
     },
     "inputWidgets": {},
     "nuid": "9979452c-a9fc-40ed-abf2-fef70c482b68",
     "showTitle": false,
     "title": ""
    }
   },
   "source": [
    "Checking Group Stage Table"
   ]
  },
  {
   "cell_type": "code",
   "execution_count": 0,
   "metadata": {
    "application/vnd.databricks.v1+cell": {
     "cellMetadata": {
      "byteLimit": 2048000,
      "implicitDf": true,
      "rowLimit": 10000
     },
     "inputWidgets": {},
     "nuid": "fba26ac5-49f7-41a4-bc4c-9b3e34096e88",
     "showTitle": false,
     "title": ""
    }
   },
   "outputs": [
    {
     "output_type": "display_data",
     "data": {
      "text/html": [
       "<style scoped>\n",
       "  .table-result-container {\n",
       "    max-height: 300px;\n",
       "    overflow: auto;\n",
       "  }\n",
       "  table, th, td {\n",
       "    border: 1px solid black;\n",
       "    border-collapse: collapse;\n",
       "  }\n",
       "  th, td {\n",
       "    padding: 5px;\n",
       "  }\n",
       "  th {\n",
       "    text-align: left;\n",
       "  }\n",
       "</style><div class='table-result-container'><table class='table-result'><thead style='background-color: white'><tr><th>GroupName</th><th>TeamName</th><th>MatchesPlayed</th><th>MatchesWon</th><th>MatchesLost</th><th>MatchesDrawn</th><th>GF</th><th>GA</th><th>GD</th><th>TotalPoints</th><th>Position</th></tr></thead><tbody><tr><td>A</td><td>Switzerland</td><td>3</td><td>2</td><td>1</td><td>0</td><td>11.0</td><td>7.0</td><td>4.0</td><td>6</td><td>A1</td></tr><tr><td>A</td><td>Germany</td><td>3</td><td>2</td><td>1</td><td>0</td><td>7.0</td><td>10.0</td><td>-3.0</td><td>6</td><td>A2</td></tr><tr><td>A</td><td>Scotland</td><td>3</td><td>1</td><td>2</td><td>0</td><td>7.0</td><td>7.0</td><td>0.0</td><td>3</td><td>A3</td></tr><tr><td>A</td><td>Hungary</td><td>3</td><td>1</td><td>2</td><td>0</td><td>8.0</td><td>9.0</td><td>-1.0</td><td>3</td><td>A4</td></tr><tr><td>B</td><td>Croatia</td><td>3</td><td>2</td><td>0</td><td>1</td><td>9.0</td><td>3.0</td><td>6.0</td><td>7</td><td>B1</td></tr><tr><td>B</td><td>Italy</td><td>3</td><td>1</td><td>0</td><td>2</td><td>4.0</td><td>3.0</td><td>1.0</td><td>5</td><td>B2</td></tr><tr><td>B</td><td>Albania</td><td>3</td><td>1</td><td>2</td><td>0</td><td>5.0</td><td>7.0</td><td>-2.0</td><td>3</td><td>B3</td></tr><tr><td>B</td><td>Spain</td><td>3</td><td>0</td><td>2</td><td>1</td><td>5.0</td><td>10.0</td><td>-5.0</td><td>1</td><td>B4</td></tr><tr><td>C</td><td>Denmark</td><td>3</td><td>3</td><td>0</td><td>0</td><td>15.0</td><td>5.0</td><td>10.0</td><td>9</td><td>C1</td></tr><tr><td>C</td><td>Slovenia</td><td>3</td><td>2</td><td>1</td><td>0</td><td>12.0</td><td>8.0</td><td>4.0</td><td>6</td><td>C2</td></tr><tr><td>C</td><td>England</td><td>3</td><td>1</td><td>2</td><td>0</td><td>8.0</td><td>12.0</td><td>-4.0</td><td>3</td><td>C3</td></tr><tr><td>C</td><td>Serbia</td><td>3</td><td>0</td><td>3</td><td>0</td><td>5.0</td><td>15.0</td><td>-10.0</td><td>0</td><td>C4</td></tr><tr><td>D</td><td>Poland</td><td>3</td><td>2</td><td>1</td><td>0</td><td>14.0</td><td>11.0</td><td>3.0</td><td>6</td><td>D1</td></tr><tr><td>D</td><td>Austria</td><td>3</td><td>1</td><td>1</td><td>1</td><td>10.0</td><td>9.0</td><td>1.0</td><td>4</td><td>D2</td></tr><tr><td>D</td><td>France</td><td>3</td><td>1</td><td>1</td><td>1</td><td>11.0</td><td>12.0</td><td>-1.0</td><td>4</td><td>D3</td></tr><tr><td>D</td><td>Netherlands</td><td>3</td><td>0</td><td>1</td><td>2</td><td>10.0</td><td>13.0</td><td>-3.0</td><td>2</td><td>D4</td></tr><tr><td>E</td><td>Slovakia</td><td>3</td><td>2</td><td>1</td><td>0</td><td>11.0</td><td>7.0</td><td>4.0</td><td>6</td><td>E1</td></tr><tr><td>E</td><td>Romania</td><td>3</td><td>2</td><td>1</td><td>0</td><td>8.0</td><td>8.0</td><td>0.0</td><td>6</td><td>E2</td></tr><tr><td>E</td><td>Belgium</td><td>3</td><td>1</td><td>2</td><td>0</td><td>10.0</td><td>7.0</td><td>3.0</td><td>3</td><td>E3</td></tr><tr><td>E</td><td>Ukraine</td><td>3</td><td>1</td><td>2</td><td>0</td><td>8.0</td><td>15.0</td><td>-7.0</td><td>3</td><td>E4</td></tr><tr><td>F</td><td>Czech Republic</td><td>3</td><td>2</td><td>1</td><td>0</td><td>13.0</td><td>8.0</td><td>5.0</td><td>6</td><td>F1</td></tr><tr><td>F</td><td>Turkey</td><td>3</td><td>2</td><td>1</td><td>0</td><td>14.0</td><td>12.0</td><td>2.0</td><td>6</td><td>F2</td></tr><tr><td>F</td><td>Portugal</td><td>3</td><td>1</td><td>1</td><td>1</td><td>8.0</td><td>9.0</td><td>-1.0</td><td>4</td><td>F3</td></tr><tr><td>F</td><td>Greece</td><td>3</td><td>0</td><td>2</td><td>1</td><td>3.0</td><td>9.0</td><td>-6.0</td><td>1</td><td>F4</td></tr></tbody></table></div>"
      ]
     },
     "metadata": {
      "application/vnd.databricks.v1+output": {
       "addedWidgets": {},
       "aggData": [],
       "aggError": "",
       "aggOverflow": false,
       "aggSchema": [],
       "aggSeriesLimitReached": false,
       "aggType": "",
       "arguments": {},
       "columnCustomDisplayInfos": {},
       "data": [
        [
         "A",
         "Switzerland",
         3,
         2,
         1,
         0,
         11.0,
         7.0,
         4.0,
         6,
         "A1"
        ],
        [
         "A",
         "Germany",
         3,
         2,
         1,
         0,
         7.0,
         10.0,
         -3.0,
         6,
         "A2"
        ],
        [
         "A",
         "Scotland",
         3,
         1,
         2,
         0,
         7.0,
         7.0,
         0.0,
         3,
         "A3"
        ],
        [
         "A",
         "Hungary",
         3,
         1,
         2,
         0,
         8.0,
         9.0,
         -1.0,
         3,
         "A4"
        ],
        [
         "B",
         "Croatia",
         3,
         2,
         0,
         1,
         9.0,
         3.0,
         6.0,
         7,
         "B1"
        ],
        [
         "B",
         "Italy",
         3,
         1,
         0,
         2,
         4.0,
         3.0,
         1.0,
         5,
         "B2"
        ],
        [
         "B",
         "Albania",
         3,
         1,
         2,
         0,
         5.0,
         7.0,
         -2.0,
         3,
         "B3"
        ],
        [
         "B",
         "Spain",
         3,
         0,
         2,
         1,
         5.0,
         10.0,
         -5.0,
         1,
         "B4"
        ],
        [
         "C",
         "Denmark",
         3,
         3,
         0,
         0,
         15.0,
         5.0,
         10.0,
         9,
         "C1"
        ],
        [
         "C",
         "Slovenia",
         3,
         2,
         1,
         0,
         12.0,
         8.0,
         4.0,
         6,
         "C2"
        ],
        [
         "C",
         "England",
         3,
         1,
         2,
         0,
         8.0,
         12.0,
         -4.0,
         3,
         "C3"
        ],
        [
         "C",
         "Serbia",
         3,
         0,
         3,
         0,
         5.0,
         15.0,
         -10.0,
         0,
         "C4"
        ],
        [
         "D",
         "Poland",
         3,
         2,
         1,
         0,
         14.0,
         11.0,
         3.0,
         6,
         "D1"
        ],
        [
         "D",
         "Austria",
         3,
         1,
         1,
         1,
         10.0,
         9.0,
         1.0,
         4,
         "D2"
        ],
        [
         "D",
         "France",
         3,
         1,
         1,
         1,
         11.0,
         12.0,
         -1.0,
         4,
         "D3"
        ],
        [
         "D",
         "Netherlands",
         3,
         0,
         1,
         2,
         10.0,
         13.0,
         -3.0,
         2,
         "D4"
        ],
        [
         "E",
         "Slovakia",
         3,
         2,
         1,
         0,
         11.0,
         7.0,
         4.0,
         6,
         "E1"
        ],
        [
         "E",
         "Romania",
         3,
         2,
         1,
         0,
         8.0,
         8.0,
         0.0,
         6,
         "E2"
        ],
        [
         "E",
         "Belgium",
         3,
         1,
         2,
         0,
         10.0,
         7.0,
         3.0,
         3,
         "E3"
        ],
        [
         "E",
         "Ukraine",
         3,
         1,
         2,
         0,
         8.0,
         15.0,
         -7.0,
         3,
         "E4"
        ],
        [
         "F",
         "Czech Republic",
         3,
         2,
         1,
         0,
         13.0,
         8.0,
         5.0,
         6,
         "F1"
        ],
        [
         "F",
         "Turkey",
         3,
         2,
         1,
         0,
         14.0,
         12.0,
         2.0,
         6,
         "F2"
        ],
        [
         "F",
         "Portugal",
         3,
         1,
         1,
         1,
         8.0,
         9.0,
         -1.0,
         4,
         "F3"
        ],
        [
         "F",
         "Greece",
         3,
         0,
         2,
         1,
         3.0,
         9.0,
         -6.0,
         1,
         "F4"
        ]
       ],
       "datasetInfos": [],
       "dbfsResultPath": null,
       "isJsonSchema": true,
       "metadata": {},
       "overflow": false,
       "plotOptions": {
        "customPlotOptions": {},
        "displayType": "table",
        "pivotAggregation": null,
        "pivotColumns": null,
        "xColumns": null,
        "yColumns": null
       },
       "removedWidgets": [],
       "schema": [
        {
         "metadata": "{\"__CHAR_VARCHAR_TYPE_STRING\":\"varchar(1)\"}",
         "name": "GroupName",
         "type": "\"string\""
        },
        {
         "metadata": "{\"__CHAR_VARCHAR_TYPE_STRING\":\"varchar(53)\"}",
         "name": "TeamName",
         "type": "\"string\""
        },
        {
         "metadata": "{}",
         "name": "MatchesPlayed",
         "type": "\"long\""
        },
        {
         "metadata": "{}",
         "name": "MatchesWon",
         "type": "\"long\""
        },
        {
         "metadata": "{}",
         "name": "MatchesLost",
         "type": "\"long\""
        },
        {
         "metadata": "{}",
         "name": "MatchesDrawn",
         "type": "\"long\""
        },
        {
         "metadata": "{}",
         "name": "GF",
         "type": "\"double\""
        },
        {
         "metadata": "{}",
         "name": "GA",
         "type": "\"double\""
        },
        {
         "metadata": "{}",
         "name": "GD",
         "type": "\"double\""
        },
        {
         "metadata": "{}",
         "name": "TotalPoints",
         "type": "\"long\""
        },
        {
         "metadata": "{}",
         "name": "Position",
         "type": "\"string\""
        }
       ],
       "type": "table"
      }
     },
     "output_type": "display_data"
    }
   ],
   "source": [
    "%sql\n",
    "SELECT * FROM GroupStageResults;"
   ]
  },
  {
   "cell_type": "markdown",
   "metadata": {
    "application/vnd.databricks.v1+cell": {
     "cellMetadata": {
      "byteLimit": 2048000,
      "rowLimit": 10000
     },
     "inputWidgets": {},
     "nuid": "cc1c87b1-017f-40bb-949d-882fdbb10f14",
     "showTitle": false,
     "title": ""
    }
   },
   "source": [
    "Checking for all 3rd Position Teams"
   ]
  },
  {
   "cell_type": "code",
   "execution_count": 0,
   "metadata": {
    "application/vnd.databricks.v1+cell": {
     "cellMetadata": {
      "byteLimit": 2048000,
      "implicitDf": true,
      "rowLimit": 10000
     },
     "inputWidgets": {},
     "nuid": "0f0b4fe6-3b66-411e-8b81-75779468b581",
     "showTitle": false,
     "title": ""
    }
   },
   "outputs": [
    {
     "output_type": "display_data",
     "data": {
      "text/html": [
       "<style scoped>\n",
       "  .table-result-container {\n",
       "    max-height: 300px;\n",
       "    overflow: auto;\n",
       "  }\n",
       "  table, th, td {\n",
       "    border: 1px solid black;\n",
       "    border-collapse: collapse;\n",
       "  }\n",
       "  th, td {\n",
       "    padding: 5px;\n",
       "  }\n",
       "  th {\n",
       "    text-align: left;\n",
       "  }\n",
       "</style><div class='table-result-container'><table class='table-result'><thead style='background-color: white'><tr><th>GroupName</th><th>TeamName</th><th>MatchesPlayed</th><th>MatchesWon</th><th>MatchesLost</th><th>MatchesDrawn</th><th>GF</th><th>GA</th><th>GD</th><th>TotalPoints</th><th>Position</th></tr></thead><tbody><tr><td>D</td><td>France</td><td>3</td><td>1</td><td>1</td><td>1</td><td>11.0</td><td>12.0</td><td>-1.0</td><td>4</td><td>D3</td></tr><tr><td>F</td><td>Portugal</td><td>3</td><td>1</td><td>1</td><td>1</td><td>8.0</td><td>9.0</td><td>-1.0</td><td>4</td><td>F3</td></tr><tr><td>E</td><td>Belgium</td><td>3</td><td>1</td><td>2</td><td>0</td><td>10.0</td><td>7.0</td><td>3.0</td><td>3</td><td>E3</td></tr><tr><td>A</td><td>Scotland</td><td>3</td><td>1</td><td>2</td><td>0</td><td>7.0</td><td>7.0</td><td>0.0</td><td>3</td><td>A3</td></tr><tr><td>B</td><td>Albania</td><td>3</td><td>1</td><td>2</td><td>0</td><td>5.0</td><td>7.0</td><td>-2.0</td><td>3</td><td>B3</td></tr><tr><td>C</td><td>England</td><td>3</td><td>1</td><td>2</td><td>0</td><td>8.0</td><td>12.0</td><td>-4.0</td><td>3</td><td>C3</td></tr></tbody></table></div>"
      ]
     },
     "metadata": {
      "application/vnd.databricks.v1+output": {
       "addedWidgets": {},
       "aggData": [],
       "aggError": "",
       "aggOverflow": false,
       "aggSchema": [],
       "aggSeriesLimitReached": false,
       "aggType": "",
       "arguments": {},
       "columnCustomDisplayInfos": {},
       "data": [
        [
         "D",
         "France",
         3,
         1,
         1,
         1,
         11.0,
         12.0,
         -1.0,
         4,
         "D3"
        ],
        [
         "F",
         "Portugal",
         3,
         1,
         1,
         1,
         8.0,
         9.0,
         -1.0,
         4,
         "F3"
        ],
        [
         "E",
         "Belgium",
         3,
         1,
         2,
         0,
         10.0,
         7.0,
         3.0,
         3,
         "E3"
        ],
        [
         "A",
         "Scotland",
         3,
         1,
         2,
         0,
         7.0,
         7.0,
         0.0,
         3,
         "A3"
        ],
        [
         "B",
         "Albania",
         3,
         1,
         2,
         0,
         5.0,
         7.0,
         -2.0,
         3,
         "B3"
        ],
        [
         "C",
         "England",
         3,
         1,
         2,
         0,
         8.0,
         12.0,
         -4.0,
         3,
         "C3"
        ]
       ],
       "datasetInfos": [],
       "dbfsResultPath": null,
       "isJsonSchema": true,
       "metadata": {},
       "overflow": false,
       "plotOptions": {
        "customPlotOptions": {},
        "displayType": "table",
        "pivotAggregation": null,
        "pivotColumns": null,
        "xColumns": null,
        "yColumns": null
       },
       "removedWidgets": [],
       "schema": [
        {
         "metadata": "{\"__CHAR_VARCHAR_TYPE_STRING\":\"varchar(1)\"}",
         "name": "GroupName",
         "type": "\"string\""
        },
        {
         "metadata": "{\"__CHAR_VARCHAR_TYPE_STRING\":\"varchar(53)\"}",
         "name": "TeamName",
         "type": "\"string\""
        },
        {
         "metadata": "{}",
         "name": "MatchesPlayed",
         "type": "\"long\""
        },
        {
         "metadata": "{}",
         "name": "MatchesWon",
         "type": "\"long\""
        },
        {
         "metadata": "{}",
         "name": "MatchesLost",
         "type": "\"long\""
        },
        {
         "metadata": "{}",
         "name": "MatchesDrawn",
         "type": "\"long\""
        },
        {
         "metadata": "{}",
         "name": "GF",
         "type": "\"double\""
        },
        {
         "metadata": "{}",
         "name": "GA",
         "type": "\"double\""
        },
        {
         "metadata": "{}",
         "name": "GD",
         "type": "\"double\""
        },
        {
         "metadata": "{}",
         "name": "TotalPoints",
         "type": "\"long\""
        },
        {
         "metadata": "{}",
         "name": "Position",
         "type": "\"string\""
        }
       ],
       "type": "table"
      }
     },
     "output_type": "display_data"
    }
   ],
   "source": [
    "%sql\n",
    "SELECT * FROM GroupStageResults WHERE Position LIKE '%3' ORDER BY TotalPoints DESC, GD DESC, GF DESC, GA ASC, TeamName;"
   ]
  },
  {
   "cell_type": "markdown",
   "metadata": {
    "application/vnd.databricks.v1+cell": {
     "cellMetadata": {
      "byteLimit": 2048000,
      "rowLimit": 10000
     },
     "inputWidgets": {},
     "nuid": "454e8085-b51a-4a1d-917a-8a56ab29cebd",
     "showTitle": false,
     "title": ""
    }
   },
   "source": [
    "Creating Table for Seeding Possibilities According to 3rd Place Qualification"
   ]
  },
  {
   "cell_type": "code",
   "execution_count": 0,
   "metadata": {
    "application/vnd.databricks.v1+cell": {
     "cellMetadata": {
      "byteLimit": 2048000,
      "implicitDf": true,
      "rowLimit": 10000
     },
     "inputWidgets": {},
     "nuid": "cdcce4e7-935d-474d-979a-5edc71385e94",
     "showTitle": false,
     "title": ""
    }
   },
   "outputs": [
    {
     "output_type": "display_data",
     "data": {
      "text/html": [
       "<style scoped>\n",
       "  .table-result-container {\n",
       "    max-height: 300px;\n",
       "    overflow: auto;\n",
       "  }\n",
       "  table, th, td {\n",
       "    border: 1px solid black;\n",
       "    border-collapse: collapse;\n",
       "  }\n",
       "  th, td {\n",
       "    padding: 5px;\n",
       "  }\n",
       "  th {\n",
       "    text-align: left;\n",
       "  }\n",
       "</style><div class='table-result-container'><table class='table-result'><thead style='background-color: white'><tr><th>SId</th><th>QualificationSequence</th><th>B1</th><th>C1</th><th>E1</th><th>F1</th></tr></thead><tbody><tr><td>1</td><td>A3B3C3D3</td><td>A3</td><td>D3</td><td>B3</td><td>C3</td></tr><tr><td>2</td><td>A3B3C3E3</td><td>A3</td><td>E3</td><td>B3</td><td>C3</td></tr><tr><td>3</td><td>A3B3C3F3</td><td>A3</td><td>F3</td><td>B3</td><td>C3</td></tr><tr><td>4</td><td>A3B3D3E3</td><td>D3</td><td>E3</td><td>A3</td><td>B3</td></tr><tr><td>5</td><td>A3B3D3F3</td><td>D3</td><td>F3</td><td>A3</td><td>B3</td></tr><tr><td>6</td><td>A3B3E3F3</td><td>E3</td><td>F3</td><td>B3</td><td>A3</td></tr><tr><td>7</td><td>A3C3D3E3</td><td>E3</td><td>D3</td><td>C3</td><td>A3</td></tr><tr><td>8</td><td>A3C3D3F3</td><td>F3</td><td>D3</td><td>C3</td><td>A3</td></tr><tr><td>9</td><td>A3C3E3F3</td><td>E3</td><td>F3</td><td>C3</td><td>A3</td></tr><tr><td>10</td><td>A3D3E3F3</td><td>E3</td><td>F3</td><td>D3</td><td>A3</td></tr><tr><td>11</td><td>B3C3D3E3</td><td>E3</td><td>D3</td><td>B3</td><td>C3</td></tr><tr><td>12</td><td>B3C3D3F3</td><td>F3</td><td>D3</td><td>C3</td><td>B3</td></tr><tr><td>13</td><td>B3C3E3F3</td><td>F3</td><td>E3</td><td>C3</td><td>B3</td></tr><tr><td>14</td><td>B3D3E3F3</td><td>F3</td><td>E3</td><td>D3</td><td>B3</td></tr><tr><td>15</td><td>C3D3E3F3</td><td>F3</td><td>E3</td><td>D3</td><td>C3</td></tr></tbody></table></div>"
      ]
     },
     "metadata": {
      "application/vnd.databricks.v1+output": {
       "addedWidgets": {},
       "aggData": [],
       "aggError": "",
       "aggOverflow": false,
       "aggSchema": [],
       "aggSeriesLimitReached": false,
       "aggType": "",
       "arguments": {},
       "columnCustomDisplayInfos": {},
       "data": [
        [
         1,
         "A3B3C3D3",
         "A3",
         "D3",
         "B3",
         "C3"
        ],
        [
         2,
         "A3B3C3E3",
         "A3",
         "E3",
         "B3",
         "C3"
        ],
        [
         3,
         "A3B3C3F3",
         "A3",
         "F3",
         "B3",
         "C3"
        ],
        [
         4,
         "A3B3D3E3",
         "D3",
         "E3",
         "A3",
         "B3"
        ],
        [
         5,
         "A3B3D3F3",
         "D3",
         "F3",
         "A3",
         "B3"
        ],
        [
         6,
         "A3B3E3F3",
         "E3",
         "F3",
         "B3",
         "A3"
        ],
        [
         7,
         "A3C3D3E3",
         "E3",
         "D3",
         "C3",
         "A3"
        ],
        [
         8,
         "A3C3D3F3",
         "F3",
         "D3",
         "C3",
         "A3"
        ],
        [
         9,
         "A3C3E3F3",
         "E3",
         "F3",
         "C3",
         "A3"
        ],
        [
         10,
         "A3D3E3F3",
         "E3",
         "F3",
         "D3",
         "A3"
        ],
        [
         11,
         "B3C3D3E3",
         "E3",
         "D3",
         "B3",
         "C3"
        ],
        [
         12,
         "B3C3D3F3",
         "F3",
         "D3",
         "C3",
         "B3"
        ],
        [
         13,
         "B3C3E3F3",
         "F3",
         "E3",
         "C3",
         "B3"
        ],
        [
         14,
         "B3D3E3F3",
         "F3",
         "E3",
         "D3",
         "B3"
        ],
        [
         15,
         "C3D3E3F3",
         "F3",
         "E3",
         "D3",
         "C3"
        ]
       ],
       "datasetInfos": [],
       "dbfsResultPath": null,
       "isJsonSchema": true,
       "metadata": {},
       "overflow": false,
       "plotOptions": {
        "customPlotOptions": {},
        "displayType": "table",
        "pivotAggregation": null,
        "pivotColumns": null,
        "xColumns": null,
        "yColumns": null
       },
       "removedWidgets": [],
       "schema": [
        {
         "metadata": "{}",
         "name": "SId",
         "type": "\"integer\""
        },
        {
         "metadata": "{\"__CHAR_VARCHAR_TYPE_STRING\":\"varchar(8)\"}",
         "name": "QualificationSequence",
         "type": "\"string\""
        },
        {
         "metadata": "{\"__CHAR_VARCHAR_TYPE_STRING\":\"char(2)\"}",
         "name": "B1",
         "type": "\"string\""
        },
        {
         "metadata": "{\"__CHAR_VARCHAR_TYPE_STRING\":\"char(2)\"}",
         "name": "C1",
         "type": "\"string\""
        },
        {
         "metadata": "{\"__CHAR_VARCHAR_TYPE_STRING\":\"char(2)\"}",
         "name": "E1",
         "type": "\"string\""
        },
        {
         "metadata": "{\"__CHAR_VARCHAR_TYPE_STRING\":\"char(2)\"}",
         "name": "F1",
         "type": "\"string\""
        }
       ],
       "type": "table"
      }
     },
     "output_type": "display_data"
    }
   ],
   "source": [
    "%sql\n",
    "CREATE or replace TABLE ThirdPlacementCombinations(\n",
    "  SId INT,\n",
    "  QualificationSequence VARCHAR(8),\n",
    "  B1 CHAR(2),\n",
    "  C1 CHAR(2),\n",
    "  E1 CHAR(2),\n",
    "  F1 CHAR(2)\n",
    ");\n",
    "\n",
    "INSERT INTO  ThirdPlacementCombinations (SId, QualificationSequence, B1, C1, E1, F1)\n",
    "VALUES\n",
    "    (1, 'A3B3C3D3', 'A3', 'D3', 'B3', 'C3'),\n",
    "    (2, 'A3B3C3E3', 'A3', 'E3', 'B3', 'C3'),\n",
    "    (3, 'A3B3C3F3', 'A3', 'F3', 'B3', 'C3'),\n",
    "    (4, 'A3B3D3E3', 'D3', 'E3', 'A3', 'B3'),\n",
    "    (5, 'A3B3D3F3', 'D3', 'F3', 'A3', 'B3'),\n",
    "    (6, 'A3B3E3F3', 'E3', 'F3', 'B3', 'A3'),\n",
    "    (7, 'A3C3D3E3', 'E3', 'D3', 'C3', 'A3'),\n",
    "    (8, 'A3C3D3F3', 'F3', 'D3', 'C3', 'A3'),\n",
    "    (9, 'A3C3E3F3', 'E3', 'F3', 'C3', 'A3'),\n",
    "    (10, 'A3D3E3F3', 'E3', 'F3', 'D3', 'A3'),\n",
    "    (11, 'B3C3D3E3', 'E3', 'D3', 'B3', 'C3'),\n",
    "    (12, 'B3C3D3F3', 'F3', 'D3', 'C3', 'B3'),\n",
    "    (13, 'B3C3E3F3', 'F3', 'E3', 'C3', 'B3'),\n",
    "    (14, 'B3D3E3F3', 'F3', 'E3', 'D3', 'B3'),\n",
    "    (15, 'C3D3E3F3', 'F3', 'E3', 'D3', 'C3');\n",
    "\n",
    "SELECT * FROM ThirdPlacementCombinations;"
   ]
  },
  {
   "cell_type": "markdown",
   "metadata": {
    "application/vnd.databricks.v1+cell": {
     "cellMetadata": {
      "byteLimit": 2048000,
      "rowLimit": 10000
     },
     "inputWidgets": {},
     "nuid": "fbb7dfab-4b26-4811-96ff-969690d27907",
     "showTitle": false,
     "title": ""
    }
   },
   "source": [
    "Table for Rounf of 16 Qualification Placement and Matches According to Above Conditions"
   ]
  },
  {
   "cell_type": "code",
   "execution_count": 0,
   "metadata": {
    "application/vnd.databricks.v1+cell": {
     "cellMetadata": {
      "byteLimit": 2048000,
      "implicitDf": true,
      "rowLimit": 10000
     },
     "inputWidgets": {},
     "nuid": "1755cabd-42ff-483f-875b-834b184a7698",
     "showTitle": false,
     "title": ""
    }
   },
   "outputs": [
    {
     "output_type": "display_data",
     "data": {
      "text/html": [
       "<style scoped>\n",
       "  .table-result-container {\n",
       "    max-height: 300px;\n",
       "    overflow: auto;\n",
       "  }\n",
       "  table, th, td {\n",
       "    border: 1px solid black;\n",
       "    border-collapse: collapse;\n",
       "  }\n",
       "  th, td {\n",
       "    padding: 5px;\n",
       "  }\n",
       "  th {\n",
       "    text-align: left;\n",
       "  }\n",
       "</style><div class='table-result-container'><table class='table-result'><thead style='background-color: white'><tr></tr></thead><tbody></tbody></table></div>"
      ]
     },
     "metadata": {
      "application/vnd.databricks.v1+output": {
       "addedWidgets": {},
       "aggData": [],
       "aggError": "",
       "aggOverflow": false,
       "aggSchema": [],
       "aggSeriesLimitReached": false,
       "aggType": "",
       "arguments": {},
       "columnCustomDisplayInfos": {},
       "data": [],
       "datasetInfos": [],
       "dbfsResultPath": null,
       "isJsonSchema": true,
       "metadata": {},
       "overflow": false,
       "plotOptions": {
        "customPlotOptions": {},
        "displayType": "table",
        "pivotAggregation": null,
        "pivotColumns": null,
        "xColumns": null,
        "yColumns": null
       },
       "removedWidgets": [],
       "schema": [],
       "type": "table"
      }
     },
     "output_type": "display_data"
    }
   ],
   "source": [
    "%sql\n",
    "CREATE OR REPLACE TABLE QualificationPlacement (\n",
    "    MatchID INT,\n",
    "    Team1 VARCHAR(53),\n",
    "    Team1Goals INT,\n",
    "    Team2Goals INT,\n",
    "    Team2 VARCHAR(53),\n",
    "    MatchWinner VARCHAR(53),\n",
    "    MatchStage VARCHAR(3)\n",
    ");"
   ]
  },
  {
   "cell_type": "markdown",
   "metadata": {
    "application/vnd.databricks.v1+cell": {
     "cellMetadata": {
      "byteLimit": 2048000,
      "rowLimit": 10000
     },
     "inputWidgets": {},
     "nuid": "2d99ce76-70d8-42ec-8d64-08a02fcfea47",
     "showTitle": false,
     "title": ""
    }
   },
   "source": [
    "Isolating Placement Combination for this Scenario"
   ]
  },
  {
   "cell_type": "code",
   "execution_count": 0,
   "metadata": {
    "application/vnd.databricks.v1+cell": {
     "cellMetadata": {
      "byteLimit": 2048000,
      "implicitDf": true,
      "rowLimit": 10000
     },
     "inputWidgets": {},
     "nuid": "285ada89-ae07-44ee-a513-82f12db7bbde",
     "showTitle": false,
     "title": ""
    }
   },
   "outputs": [
    {
     "output_type": "display_data",
     "data": {
      "text/html": [
       "<style scoped>\n",
       "  .table-result-container {\n",
       "    max-height: 300px;\n",
       "    overflow: auto;\n",
       "  }\n",
       "  table, th, td {\n",
       "    border: 1px solid black;\n",
       "    border-collapse: collapse;\n",
       "  }\n",
       "  th, td {\n",
       "    padding: 5px;\n",
       "  }\n",
       "  th {\n",
       "    text-align: left;\n",
       "  }\n",
       "</style><div class='table-result-container'><table class='table-result'><thead style='background-color: white'><tr><th>SId</th><th>B1</th><th>C1</th><th>E1</th><th>F1</th><th>PlacementCombination</th></tr></thead><tbody><tr><td>10</td><td>E3</td><td>F3</td><td>D3</td><td>A3</td><td>A3D3E3F3</td></tr></tbody></table></div>"
      ]
     },
     "metadata": {
      "application/vnd.databricks.v1+output": {
       "addedWidgets": {},
       "aggData": [],
       "aggError": "",
       "aggOverflow": false,
       "aggSchema": [],
       "aggSeriesLimitReached": false,
       "aggType": "",
       "arguments": {},
       "columnCustomDisplayInfos": {},
       "data": [
        [
         10,
         "E3",
         "F3",
         "D3",
         "A3",
         "A3D3E3F3"
        ]
       ],
       "datasetInfos": [],
       "dbfsResultPath": null,
       "isJsonSchema": true,
       "metadata": {},
       "overflow": false,
       "plotOptions": {
        "customPlotOptions": {},
        "displayType": "table",
        "pivotAggregation": null,
        "pivotColumns": null,
        "xColumns": null,
        "yColumns": null
       },
       "removedWidgets": [],
       "schema": [
        {
         "metadata": "{}",
         "name": "SId",
         "type": "\"integer\""
        },
        {
         "metadata": "{\"__CHAR_VARCHAR_TYPE_STRING\":\"char(2)\"}",
         "name": "B1",
         "type": "\"string\""
        },
        {
         "metadata": "{\"__CHAR_VARCHAR_TYPE_STRING\":\"char(2)\"}",
         "name": "C1",
         "type": "\"string\""
        },
        {
         "metadata": "{\"__CHAR_VARCHAR_TYPE_STRING\":\"char(2)\"}",
         "name": "E1",
         "type": "\"string\""
        },
        {
         "metadata": "{\"__CHAR_VARCHAR_TYPE_STRING\":\"char(2)\"}",
         "name": "F1",
         "type": "\"string\""
        },
        {
         "metadata": "{}",
         "name": "PlacementCombination",
         "type": "\"string\""
        }
       ],
       "type": "table"
      }
     },
     "output_type": "display_data"
    }
   ],
   "source": [
    "%sql\n",
    "WITH RoundOfSixteenQualified AS\n",
    "(\n",
    "    (\n",
    "        SELECT Position, TeamName\n",
    "        FROM GroupStageResults\n",
    "        WHERE Position LIKE '%1' OR Position LIKE '%2'\n",
    "    )\n",
    "    UNION ALL\n",
    "    (\n",
    "        SELECT Position, TeamName\n",
    "        FROM GroupStageResults\n",
    "        WHERE Position LIKE '%3'\n",
    "        ORDER BY TotalPoints DESC, GD DESC, GF DESC, GA ASC, TeamName\n",
    "        LIMIT 4\n",
    "    )\n",
    "    ORDER BY Position\n",
    "),\n",
    "QualificationCompare AS (\n",
    "  SELECT c.SId, c.B1, c.C1, c.E1, c.F1, pc.PlacementCombination \n",
    "  FROM ThirdPlacementCombinations c\n",
    "  JOIN (\n",
    "    SELECT REGEXP_REPLACE(CONCAT_WS('', COLLECT_LIST(SUBSTRING(Position,0))), '\\\\s', '') AS PlacementCombination\n",
    "    FROM RoundOfSixteenQualified \n",
    "    WHERE Position LIKE '%3'\n",
    "  ) pc\n",
    "  ON c.QualificationSequence = pc.PlacementCombination\n",
    ")\n",
    "  SELECT * FROM QualificationCompare;"
   ]
  },
  {
   "cell_type": "markdown",
   "metadata": {
    "application/vnd.databricks.v1+cell": {
     "cellMetadata": {
      "byteLimit": 2048000,
      "rowLimit": 10000
     },
     "inputWidgets": {},
     "nuid": "aaf1a5c1-624e-4024-b044-d9a242e3927f",
     "showTitle": false,
     "title": ""
    }
   },
   "source": [
    "Calculating and Inserting Qualification Placements, Matches"
   ]
  },
  {
   "cell_type": "code",
   "execution_count": 0,
   "metadata": {
    "application/vnd.databricks.v1+cell": {
     "cellMetadata": {
      "byteLimit": 2048000,
      "implicitDf": true,
      "rowLimit": 10000
     },
     "inputWidgets": {},
     "nuid": "bbb475c5-d64e-4799-a16b-23068239cbf6",
     "showTitle": false,
     "title": ""
    }
   },
   "outputs": [
    {
     "output_type": "display_data",
     "data": {
      "text/html": [
       "<style scoped>\n",
       "  .table-result-container {\n",
       "    max-height: 300px;\n",
       "    overflow: auto;\n",
       "  }\n",
       "  table, th, td {\n",
       "    border: 1px solid black;\n",
       "    border-collapse: collapse;\n",
       "  }\n",
       "  th, td {\n",
       "    padding: 5px;\n",
       "  }\n",
       "  th {\n",
       "    text-align: left;\n",
       "  }\n",
       "</style><div class='table-result-container'><table class='table-result'><thead style='background-color: white'><tr><th>num_affected_rows</th><th>num_inserted_rows</th></tr></thead><tbody><tr><td>8</td><td>8</td></tr></tbody></table></div>"
      ]
     },
     "metadata": {
      "application/vnd.databricks.v1+output": {
       "addedWidgets": {},
       "aggData": [],
       "aggError": "",
       "aggOverflow": false,
       "aggSchema": [],
       "aggSeriesLimitReached": false,
       "aggType": "",
       "arguments": {},
       "columnCustomDisplayInfos": {},
       "data": [
        [
         8,
         8
        ]
       ],
       "datasetInfos": [],
       "dbfsResultPath": null,
       "isJsonSchema": true,
       "metadata": {},
       "overflow": false,
       "plotOptions": {
        "customPlotOptions": {},
        "displayType": "table",
        "pivotAggregation": null,
        "pivotColumns": null,
        "xColumns": null,
        "yColumns": null
       },
       "removedWidgets": [],
       "schema": [
        {
         "metadata": "{}",
         "name": "num_affected_rows",
         "type": "\"long\""
        },
        {
         "metadata": "{}",
         "name": "num_inserted_rows",
         "type": "\"long\""
        }
       ],
       "type": "table"
      }
     },
     "output_type": "display_data"
    }
   ],
   "source": [
    "%sql\n",
    "WITH RoundOfSixteenQualified AS\n",
    "(\n",
    "    (\n",
    "        SELECT Position, TeamName\n",
    "        FROM GroupStageResults\n",
    "        WHERE Position LIKE '%1' OR Position LIKE '%2'\n",
    "    )\n",
    "    UNION ALL\n",
    "    (\n",
    "        SELECT Position, TeamName\n",
    "        FROM GroupStageResults\n",
    "        WHERE Position LIKE '%3'\n",
    "        ORDER BY TotalPoints DESC, GD DESC, GF DESC, GA ASC, TeamName\n",
    "        LIMIT 4\n",
    "    )\n",
    "    ORDER BY Position\n",
    "),\n",
    "QualificationCompare AS (\n",
    "  SELECT c.SId, c.B1, c.C1, c.E1, c.F1, pc.PlacementCombination \n",
    "  FROM ThirdPlacementCombinations c\n",
    "  JOIN (\n",
    "    SELECT REGEXP_REPLACE(CONCAT_WS('', COLLECT_LIST(SUBSTRING(Position,0))), '\\\\s', '') AS PlacementCombination\n",
    "    FROM RoundOfSixteenQualified \n",
    "    WHERE Position LIKE '%3'\n",
    "  ) pc\n",
    "  ON c.QualificationSequence = pc.PlacementCombination\n",
    ")\n",
    "INSERT INTO QualificationPlacement (MatchID, Team1, Team1Goals, Team2Goals, Team2, MatchWinner, MatchStage)\n",
    "SELECT\n",
    "    ROW_NUMBER() OVER (ORDER BY \n",
    "      CASE t1.Position\n",
    "        WHEN 'B1' THEN 1\n",
    "        WHEN 'A1' THEN 2\n",
    "        WHEN 'F1' THEN 3\n",
    "        WHEN 'D2' THEN 4\n",
    "        WHEN 'E1' THEN 5\n",
    "        WHEN 'D1' THEN 6\n",
    "        WHEN 'C1' THEN 7\n",
    "        WHEN 'A2' THEN 8\n",
    "      END\n",
    "    ) AS MatchID,\n",
    "    t1.TeamName AS Team1,\n",
    "    ROUND(RAND() * 6) AS Team1Goals,\n",
    "    ROUND(RAND() * 6) AS Team2Goals,\n",
    "    t2.TeamName AS Team2,\n",
    "    CASE\n",
    "        WHEN Team1Goals > Team2Goals THEN t1.TeamName\n",
    "        WHEN Team2Goals > Team1Goals THEN t2.TeamName\n",
    "        ELSE\n",
    "          CASE\n",
    "            WHEN Team1 < Team2 THEN Team1\n",
    "            ELSE Team2\n",
    "          END\n",
    "    END AS MatchWinner,\n",
    "    'R16' AS MatchStage\n",
    "\n",
    "FROM RoundOfSixteenQualified t1\n",
    "JOIN RoundOfSixteenQualified t2\n",
    "ON (\n",
    "    (t1.Position = 'B1' AND t2.Position = (SELECT B1 FROM QualificationCompare)) OR\n",
    "    (t1.Position = 'A1' AND t2.Position = 'C2') OR\n",
    "    (t1.Position = 'F1' AND t2.Position = (SELECT F1 FROM QualificationCompare)) OR\n",
    "    (t1.Position = 'D2' AND t2.Position = 'E2') OR\n",
    "    (t1.Position = 'E1' AND t2.Position = (SELECT E1 FROM QualificationCompare)) OR\n",
    "    (t1.Position = 'D1' AND t2.Position = 'F2') OR\n",
    "    (t1.Position = 'C1' AND t2.Position = (SELECT C1 FROM QualificationCompare)) OR\n",
    "    (t1.Position = 'A2' AND t2.Position = 'B2')\n",
    ");\n"
   ]
  },
  {
   "cell_type": "markdown",
   "metadata": {
    "application/vnd.databricks.v1+cell": {
     "cellMetadata": {
      "byteLimit": 2048000,
      "rowLimit": 10000
     },
     "inputWidgets": {},
     "nuid": "824b922e-937a-492f-b6d1-46db72d8124a",
     "showTitle": false,
     "title": ""
    }
   },
   "source": [
    "Checking Round Of 16 Results"
   ]
  },
  {
   "cell_type": "code",
   "execution_count": 0,
   "metadata": {
    "application/vnd.databricks.v1+cell": {
     "cellMetadata": {
      "byteLimit": 2048000,
      "implicitDf": true,
      "rowLimit": 10000
     },
     "inputWidgets": {},
     "nuid": "7e6f5fc5-fd96-4aa1-9c74-a5e44acd263e",
     "showTitle": false,
     "title": ""
    }
   },
   "outputs": [
    {
     "output_type": "display_data",
     "data": {
      "text/html": [
       "<style scoped>\n",
       "  .table-result-container {\n",
       "    max-height: 300px;\n",
       "    overflow: auto;\n",
       "  }\n",
       "  table, th, td {\n",
       "    border: 1px solid black;\n",
       "    border-collapse: collapse;\n",
       "  }\n",
       "  th, td {\n",
       "    padding: 5px;\n",
       "  }\n",
       "  th {\n",
       "    text-align: left;\n",
       "  }\n",
       "</style><div class='table-result-container'><table class='table-result'><thead style='background-color: white'><tr><th>MatchID</th><th>Team1</th><th>Team1Goals</th><th>Team2Goals</th><th>Team2</th><th>MatchWinner</th><th>MatchStage</th></tr></thead><tbody><tr><td>1</td><td>Croatia</td><td>5</td><td>1</td><td>Belgium</td><td>Croatia</td><td>R16</td></tr><tr><td>2</td><td>Switzerland</td><td>0</td><td>1</td><td>Slovenia</td><td>Slovenia</td><td>R16</td></tr><tr><td>3</td><td>Czech Republic</td><td>1</td><td>2</td><td>Scotland</td><td>Scotland</td><td>R16</td></tr><tr><td>4</td><td>Austria</td><td>5</td><td>2</td><td>Romania</td><td>Austria</td><td>R16</td></tr><tr><td>5</td><td>Slovakia</td><td>2</td><td>1</td><td>France</td><td>Slovakia</td><td>R16</td></tr><tr><td>6</td><td>Poland</td><td>5</td><td>2</td><td>Turkey</td><td>Poland</td><td>R16</td></tr><tr><td>7</td><td>Denmark</td><td>1</td><td>5</td><td>Portugal</td><td>Portugal</td><td>R16</td></tr><tr><td>8</td><td>Germany</td><td>2</td><td>1</td><td>Italy</td><td>Germany</td><td>R16</td></tr></tbody></table></div>"
      ]
     },
     "metadata": {
      "application/vnd.databricks.v1+output": {
       "addedWidgets": {},
       "aggData": [],
       "aggError": "",
       "aggOverflow": false,
       "aggSchema": [],
       "aggSeriesLimitReached": false,
       "aggType": "",
       "arguments": {},
       "columnCustomDisplayInfos": {},
       "data": [
        [
         1,
         "Croatia",
         5,
         1,
         "Belgium",
         "Croatia",
         "R16"
        ],
        [
         2,
         "Switzerland",
         0,
         1,
         "Slovenia",
         "Slovenia",
         "R16"
        ],
        [
         3,
         "Czech Republic",
         1,
         2,
         "Scotland",
         "Scotland",
         "R16"
        ],
        [
         4,
         "Austria",
         5,
         2,
         "Romania",
         "Austria",
         "R16"
        ],
        [
         5,
         "Slovakia",
         2,
         1,
         "France",
         "Slovakia",
         "R16"
        ],
        [
         6,
         "Poland",
         5,
         2,
         "Turkey",
         "Poland",
         "R16"
        ],
        [
         7,
         "Denmark",
         1,
         5,
         "Portugal",
         "Portugal",
         "R16"
        ],
        [
         8,
         "Germany",
         2,
         1,
         "Italy",
         "Germany",
         "R16"
        ]
       ],
       "datasetInfos": [],
       "dbfsResultPath": null,
       "isJsonSchema": true,
       "metadata": {},
       "overflow": false,
       "plotOptions": {
        "customPlotOptions": {},
        "displayType": "table",
        "pivotAggregation": null,
        "pivotColumns": null,
        "xColumns": null,
        "yColumns": null
       },
       "removedWidgets": [],
       "schema": [
        {
         "metadata": "{}",
         "name": "MatchID",
         "type": "\"integer\""
        },
        {
         "metadata": "{\"__CHAR_VARCHAR_TYPE_STRING\":\"varchar(53)\"}",
         "name": "Team1",
         "type": "\"string\""
        },
        {
         "metadata": "{}",
         "name": "Team1Goals",
         "type": "\"integer\""
        },
        {
         "metadata": "{}",
         "name": "Team2Goals",
         "type": "\"integer\""
        },
        {
         "metadata": "{\"__CHAR_VARCHAR_TYPE_STRING\":\"varchar(53)\"}",
         "name": "Team2",
         "type": "\"string\""
        },
        {
         "metadata": "{\"__CHAR_VARCHAR_TYPE_STRING\":\"varchar(53)\"}",
         "name": "MatchWinner",
         "type": "\"string\""
        },
        {
         "metadata": "{\"__CHAR_VARCHAR_TYPE_STRING\":\"varchar(3)\"}",
         "name": "MatchStage",
         "type": "\"string\""
        }
       ],
       "type": "table"
      }
     },
     "output_type": "display_data"
    }
   ],
   "source": [
    "%sql\n",
    "SELECT * FROM QualificationPlacement;"
   ]
  },
  {
   "cell_type": "markdown",
   "metadata": {
    "application/vnd.databricks.v1+cell": {
     "cellMetadata": {
      "byteLimit": 2048000,
      "rowLimit": 10000
     },
     "inputWidgets": {},
     "nuid": "babcf55e-eb14-48f2-9d3c-fcb3e935344e",
     "showTitle": false,
     "title": ""
    }
   },
   "source": [
    "Quarter Final"
   ]
  },
  {
   "cell_type": "code",
   "execution_count": 0,
   "metadata": {
    "application/vnd.databricks.v1+cell": {
     "cellMetadata": {
      "byteLimit": 2048000,
      "implicitDf": true,
      "rowLimit": 10000
     },
     "inputWidgets": {},
     "nuid": "5b71ab6d-36cc-480d-91ee-caa6ef2fd30b",
     "showTitle": false,
     "title": ""
    }
   },
   "outputs": [
    {
     "output_type": "display_data",
     "data": {
      "text/html": [
       "<style scoped>\n",
       "  .table-result-container {\n",
       "    max-height: 300px;\n",
       "    overflow: auto;\n",
       "  }\n",
       "  table, th, td {\n",
       "    border: 1px solid black;\n",
       "    border-collapse: collapse;\n",
       "  }\n",
       "  th, td {\n",
       "    padding: 5px;\n",
       "  }\n",
       "  th {\n",
       "    text-align: left;\n",
       "  }\n",
       "</style><div class='table-result-container'><table class='table-result'><thead style='background-color: white'><tr><th>num_affected_rows</th></tr></thead><tbody><tr><td>4</td></tr></tbody></table></div>"
      ]
     },
     "metadata": {
      "application/vnd.databricks.v1+output": {
       "addedWidgets": {},
       "aggData": [],
       "aggError": "",
       "aggOverflow": false,
       "aggSchema": [],
       "aggSeriesLimitReached": false,
       "aggType": "",
       "arguments": {},
       "columnCustomDisplayInfos": {},
       "data": [
        [
         4
        ]
       ],
       "datasetInfos": [],
       "dbfsResultPath": null,
       "isJsonSchema": true,
       "metadata": {},
       "overflow": false,
       "plotOptions": {
        "customPlotOptions": {},
        "displayType": "table",
        "pivotAggregation": null,
        "pivotColumns": null,
        "xColumns": null,
        "yColumns": null
       },
       "removedWidgets": [],
       "schema": [
        {
         "metadata": "{}",
         "name": "num_affected_rows",
         "type": "\"long\""
        }
       ],
       "type": "table"
      }
     },
     "output_type": "display_data"
    }
   ],
   "source": [
    "%sql\n",
    "INSERT INTO QualificationPlacement (MatchID, Team1, Team1Goals, Team2Goals, Team2, MatchWinner, MatchStage)\n",
    "SELECT\n",
    "    ROW_NUMBER() OVER (ORDER BY 1) + 8 AS MatchID,\n",
    "    t1.MatchWinner AS Team1,\n",
    "    ROUND(RAND() * 6) AS Team1Goals,\n",
    "    ROUND(RAND() * 6) AS Team2Goals,\n",
    "    t2.MatchWinner AS Team2,\n",
    "    'TBD' AS MatchWinner,\n",
    "    'QF' AS MatchStage\n",
    "\n",
    "FROM QualificationPlacement t1\n",
    "CROSS JOIN QualificationPlacement t2\n",
    "ON\n",
    "  (t1.MatchID = 1 AND t2.MatchId = 2) OR\n",
    "  (t1.MatchID = 3 AND t2.MatchId = 4) OR\n",
    "  (t1.MatchID = 5 AND t2.MatchId = 6) OR\n",
    "  (t1.MatchID = 7 AND t2.MatchId = 8);\n",
    "\n",
    "UPDATE QualificationPlacement\n",
    "SET MatchWinner = \n",
    "    CASE\n",
    "        WHEN Team1Goals > Team2Goals THEN Team1\n",
    "        WHEN Team1Goals < Team2Goals THEN Team2\n",
    "        ELSE\n",
    "            CASE\n",
    "                WHEN Team1 < Team2 THEN Team1\n",
    "                ELSE Team2\n",
    "            END\n",
    "    END\n",
    "WHERE MatchStage = 'QF';"
   ]
  },
  {
   "cell_type": "markdown",
   "metadata": {
    "application/vnd.databricks.v1+cell": {
     "cellMetadata": {
      "byteLimit": 2048000,
      "rowLimit": 10000
     },
     "inputWidgets": {},
     "nuid": "f07d34f5-8758-4ed6-9aa6-bcbda075405d",
     "showTitle": false,
     "title": ""
    }
   },
   "source": [
    "Checking Quarter Final Result"
   ]
  },
  {
   "cell_type": "code",
   "execution_count": 0,
   "metadata": {
    "application/vnd.databricks.v1+cell": {
     "cellMetadata": {
      "byteLimit": 2048000,
      "implicitDf": true,
      "rowLimit": 10000
     },
     "inputWidgets": {},
     "nuid": "90c2070f-ba8d-4a3b-90d3-fc3474e4ef7d",
     "showTitle": false,
     "title": ""
    }
   },
   "outputs": [
    {
     "output_type": "display_data",
     "data": {
      "text/html": [
       "<style scoped>\n",
       "  .table-result-container {\n",
       "    max-height: 300px;\n",
       "    overflow: auto;\n",
       "  }\n",
       "  table, th, td {\n",
       "    border: 1px solid black;\n",
       "    border-collapse: collapse;\n",
       "  }\n",
       "  th, td {\n",
       "    padding: 5px;\n",
       "  }\n",
       "  th {\n",
       "    text-align: left;\n",
       "  }\n",
       "</style><div class='table-result-container'><table class='table-result'><thead style='background-color: white'><tr><th>MatchID</th><th>Team1</th><th>Team1Goals</th><th>Team2Goals</th><th>Team2</th><th>MatchWinner</th><th>MatchStage</th></tr></thead><tbody><tr><td>9</td><td>Croatia</td><td>1</td><td>0</td><td>Slovenia</td><td>Croatia</td><td>QF</td></tr><tr><td>10</td><td>Scotland</td><td>0</td><td>5</td><td>Austria</td><td>Austria</td><td>QF</td></tr><tr><td>11</td><td>Slovakia</td><td>2</td><td>0</td><td>Poland</td><td>Slovakia</td><td>QF</td></tr><tr><td>12</td><td>Portugal</td><td>5</td><td>1</td><td>Germany</td><td>Portugal</td><td>QF</td></tr></tbody></table></div>"
      ]
     },
     "metadata": {
      "application/vnd.databricks.v1+output": {
       "addedWidgets": {},
       "aggData": [],
       "aggError": "",
       "aggOverflow": false,
       "aggSchema": [],
       "aggSeriesLimitReached": false,
       "aggType": "",
       "arguments": {},
       "columnCustomDisplayInfos": {},
       "data": [
        [
         9,
         "Croatia",
         1,
         0,
         "Slovenia",
         "Croatia",
         "QF"
        ],
        [
         10,
         "Scotland",
         0,
         5,
         "Austria",
         "Austria",
         "QF"
        ],
        [
         11,
         "Slovakia",
         2,
         0,
         "Poland",
         "Slovakia",
         "QF"
        ],
        [
         12,
         "Portugal",
         5,
         1,
         "Germany",
         "Portugal",
         "QF"
        ]
       ],
       "datasetInfos": [],
       "dbfsResultPath": null,
       "isJsonSchema": true,
       "metadata": {},
       "overflow": false,
       "plotOptions": {
        "customPlotOptions": {},
        "displayType": "table",
        "pivotAggregation": null,
        "pivotColumns": null,
        "xColumns": null,
        "yColumns": null
       },
       "removedWidgets": [],
       "schema": [
        {
         "metadata": "{}",
         "name": "MatchID",
         "type": "\"integer\""
        },
        {
         "metadata": "{\"__CHAR_VARCHAR_TYPE_STRING\":\"varchar(53)\"}",
         "name": "Team1",
         "type": "\"string\""
        },
        {
         "metadata": "{}",
         "name": "Team1Goals",
         "type": "\"integer\""
        },
        {
         "metadata": "{}",
         "name": "Team2Goals",
         "type": "\"integer\""
        },
        {
         "metadata": "{\"__CHAR_VARCHAR_TYPE_STRING\":\"varchar(53)\"}",
         "name": "Team2",
         "type": "\"string\""
        },
        {
         "metadata": "{\"__CHAR_VARCHAR_TYPE_STRING\":\"varchar(53)\"}",
         "name": "MatchWinner",
         "type": "\"string\""
        },
        {
         "metadata": "{\"__CHAR_VARCHAR_TYPE_STRING\":\"varchar(3)\"}",
         "name": "MatchStage",
         "type": "\"string\""
        }
       ],
       "type": "table"
      }
     },
     "output_type": "display_data"
    }
   ],
   "source": [
    "%sql\n",
    "SELECT * FROM QualificationPlacement WHERE MatchStage = 'QF';"
   ]
  },
  {
   "cell_type": "markdown",
   "metadata": {
    "application/vnd.databricks.v1+cell": {
     "cellMetadata": {
      "byteLimit": 2048000,
      "rowLimit": 10000
     },
     "inputWidgets": {},
     "nuid": "0b0ac4a0-8ece-409e-ac5b-f7c71d9b5f09",
     "showTitle": false,
     "title": ""
    }
   },
   "source": [
    "Semi Final"
   ]
  },
  {
   "cell_type": "code",
   "execution_count": 0,
   "metadata": {
    "application/vnd.databricks.v1+cell": {
     "cellMetadata": {
      "byteLimit": 2048000,
      "implicitDf": true,
      "rowLimit": 10000
     },
     "inputWidgets": {},
     "nuid": "f4cdfae9-7993-420a-868b-d7877eb6b240",
     "showTitle": false,
     "title": ""
    }
   },
   "outputs": [
    {
     "output_type": "display_data",
     "data": {
      "text/html": [
       "<style scoped>\n",
       "  .table-result-container {\n",
       "    max-height: 300px;\n",
       "    overflow: auto;\n",
       "  }\n",
       "  table, th, td {\n",
       "    border: 1px solid black;\n",
       "    border-collapse: collapse;\n",
       "  }\n",
       "  th, td {\n",
       "    padding: 5px;\n",
       "  }\n",
       "  th {\n",
       "    text-align: left;\n",
       "  }\n",
       "</style><div class='table-result-container'><table class='table-result'><thead style='background-color: white'><tr><th>num_affected_rows</th></tr></thead><tbody><tr><td>2</td></tr></tbody></table></div>"
      ]
     },
     "metadata": {
      "application/vnd.databricks.v1+output": {
       "addedWidgets": {},
       "aggData": [],
       "aggError": "",
       "aggOverflow": false,
       "aggSchema": [],
       "aggSeriesLimitReached": false,
       "aggType": "",
       "arguments": {},
       "columnCustomDisplayInfos": {},
       "data": [
        [
         2
        ]
       ],
       "datasetInfos": [],
       "dbfsResultPath": null,
       "isJsonSchema": true,
       "metadata": {},
       "overflow": false,
       "plotOptions": {
        "customPlotOptions": {},
        "displayType": "table",
        "pivotAggregation": null,
        "pivotColumns": null,
        "xColumns": null,
        "yColumns": null
       },
       "removedWidgets": [],
       "schema": [
        {
         "metadata": "{}",
         "name": "num_affected_rows",
         "type": "\"long\""
        }
       ],
       "type": "table"
      }
     },
     "output_type": "display_data"
    }
   ],
   "source": [
    "%sql\n",
    "INSERT INTO QualificationPlacement (MatchID, Team1, Team1Goals, Team2Goals, Team2, MatchWinner, MatchStage)\n",
    "SELECT\n",
    "    ROW_NUMBER() OVER (ORDER BY 1) + 12 AS MatchID,\n",
    "    t1.MatchWinner AS Team1,\n",
    "    ROUND(RAND() * 6) AS Team1Goals,\n",
    "    ROUND(RAND() * 6) AS Team2Goals,\n",
    "    t2.MatchWinner AS Team2,\n",
    "    'TBD' AS MatchWinner,\n",
    "    'SF' AS MatchStage\n",
    "\n",
    "FROM QualificationPlacement t1\n",
    "CROSS JOIN QualificationPlacement t2\n",
    "ON\n",
    "  (t1.MatchID = 9 AND t2.MatchId = 10) OR\n",
    "  (t1.MatchID = 11 AND t2.MatchId = 12);\n",
    "\n",
    "UPDATE QualificationPlacement\n",
    "SET MatchWinner = \n",
    "    CASE\n",
    "        WHEN Team1Goals > Team2Goals THEN Team1\n",
    "        WHEN Team1Goals < Team2Goals THEN Team2\n",
    "        ELSE\n",
    "            CASE\n",
    "                WHEN Team1 < Team2 THEN Team1\n",
    "                ELSE Team2\n",
    "            END\n",
    "    END\n",
    "WHERE MatchStage = 'SF';"
   ]
  },
  {
   "cell_type": "markdown",
   "metadata": {
    "application/vnd.databricks.v1+cell": {
     "cellMetadata": {
      "byteLimit": 2048000,
      "rowLimit": 10000
     },
     "inputWidgets": {},
     "nuid": "55eab900-4f15-4d7d-be50-8cc1d714af42",
     "showTitle": false,
     "title": ""
    }
   },
   "source": [
    "Checking Semi Final"
   ]
  },
  {
   "cell_type": "code",
   "execution_count": 0,
   "metadata": {
    "application/vnd.databricks.v1+cell": {
     "cellMetadata": {
      "byteLimit": 2048000,
      "implicitDf": true,
      "rowLimit": 10000
     },
     "inputWidgets": {},
     "nuid": "c8de1303-5133-4bf4-b79d-c03cde8e1d07",
     "showTitle": false,
     "title": ""
    }
   },
   "outputs": [
    {
     "output_type": "display_data",
     "data": {
      "text/html": [
       "<style scoped>\n",
       "  .table-result-container {\n",
       "    max-height: 300px;\n",
       "    overflow: auto;\n",
       "  }\n",
       "  table, th, td {\n",
       "    border: 1px solid black;\n",
       "    border-collapse: collapse;\n",
       "  }\n",
       "  th, td {\n",
       "    padding: 5px;\n",
       "  }\n",
       "  th {\n",
       "    text-align: left;\n",
       "  }\n",
       "</style><div class='table-result-container'><table class='table-result'><thead style='background-color: white'><tr><th>MatchID</th><th>Team1</th><th>Team1Goals</th><th>Team2Goals</th><th>Team2</th><th>MatchWinner</th><th>MatchStage</th></tr></thead><tbody><tr><td>13</td><td>Croatia</td><td>6</td><td>4</td><td>Austria</td><td>Croatia</td><td>SF</td></tr><tr><td>14</td><td>Slovakia</td><td>4</td><td>1</td><td>Portugal</td><td>Slovakia</td><td>SF</td></tr></tbody></table></div>"
      ]
     },
     "metadata": {
      "application/vnd.databricks.v1+output": {
       "addedWidgets": {},
       "aggData": [],
       "aggError": "",
       "aggOverflow": false,
       "aggSchema": [],
       "aggSeriesLimitReached": false,
       "aggType": "",
       "arguments": {},
       "columnCustomDisplayInfos": {},
       "data": [
        [
         13,
         "Croatia",
         6,
         4,
         "Austria",
         "Croatia",
         "SF"
        ],
        [
         14,
         "Slovakia",
         4,
         1,
         "Portugal",
         "Slovakia",
         "SF"
        ]
       ],
       "datasetInfos": [],
       "dbfsResultPath": null,
       "isJsonSchema": true,
       "metadata": {},
       "overflow": false,
       "plotOptions": {
        "customPlotOptions": {},
        "displayType": "table",
        "pivotAggregation": null,
        "pivotColumns": null,
        "xColumns": null,
        "yColumns": null
       },
       "removedWidgets": [],
       "schema": [
        {
         "metadata": "{}",
         "name": "MatchID",
         "type": "\"integer\""
        },
        {
         "metadata": "{\"__CHAR_VARCHAR_TYPE_STRING\":\"varchar(53)\"}",
         "name": "Team1",
         "type": "\"string\""
        },
        {
         "metadata": "{}",
         "name": "Team1Goals",
         "type": "\"integer\""
        },
        {
         "metadata": "{}",
         "name": "Team2Goals",
         "type": "\"integer\""
        },
        {
         "metadata": "{\"__CHAR_VARCHAR_TYPE_STRING\":\"varchar(53)\"}",
         "name": "Team2",
         "type": "\"string\""
        },
        {
         "metadata": "{\"__CHAR_VARCHAR_TYPE_STRING\":\"varchar(53)\"}",
         "name": "MatchWinner",
         "type": "\"string\""
        },
        {
         "metadata": "{\"__CHAR_VARCHAR_TYPE_STRING\":\"varchar(3)\"}",
         "name": "MatchStage",
         "type": "\"string\""
        }
       ],
       "type": "table"
      }
     },
     "output_type": "display_data"
    }
   ],
   "source": [
    "%sql\n",
    "SELECT * FROM QualificationPlacement WHERE MatchStage = 'SF';"
   ]
  },
  {
   "cell_type": "markdown",
   "metadata": {
    "application/vnd.databricks.v1+cell": {
     "cellMetadata": {
      "byteLimit": 2048000,
      "rowLimit": 10000
     },
     "inputWidgets": {},
     "nuid": "4512c2a3-40fb-4a10-93dd-fd27535db693",
     "showTitle": false,
     "title": ""
    }
   },
   "source": [
    "Third Place"
   ]
  },
  {
   "cell_type": "code",
   "execution_count": 0,
   "metadata": {
    "application/vnd.databricks.v1+cell": {
     "cellMetadata": {
      "byteLimit": 2048000,
      "implicitDf": true,
      "rowLimit": 10000
     },
     "inputWidgets": {},
     "nuid": "af165aa1-36bf-4604-a25f-a265cdcdeb40",
     "showTitle": false,
     "title": ""
    }
   },
   "outputs": [
    {
     "output_type": "display_data",
     "data": {
      "text/html": [
       "<style scoped>\n",
       "  .table-result-container {\n",
       "    max-height: 300px;\n",
       "    overflow: auto;\n",
       "  }\n",
       "  table, th, td {\n",
       "    border: 1px solid black;\n",
       "    border-collapse: collapse;\n",
       "  }\n",
       "  th, td {\n",
       "    padding: 5px;\n",
       "  }\n",
       "  th {\n",
       "    text-align: left;\n",
       "  }\n",
       "</style><div class='table-result-container'><table class='table-result'><thead style='background-color: white'><tr><th>num_affected_rows</th></tr></thead><tbody><tr><td>1</td></tr></tbody></table></div>"
      ]
     },
     "metadata": {
      "application/vnd.databricks.v1+output": {
       "addedWidgets": {},
       "aggData": [],
       "aggError": "",
       "aggOverflow": false,
       "aggSchema": [],
       "aggSeriesLimitReached": false,
       "aggType": "",
       "arguments": {},
       "columnCustomDisplayInfos": {},
       "data": [
        [
         1
        ]
       ],
       "datasetInfos": [],
       "dbfsResultPath": null,
       "isJsonSchema": true,
       "metadata": {},
       "overflow": false,
       "plotOptions": {
        "customPlotOptions": {},
        "displayType": "table",
        "pivotAggregation": null,
        "pivotColumns": null,
        "xColumns": null,
        "yColumns": null
       },
       "removedWidgets": [],
       "schema": [
        {
         "metadata": "{}",
         "name": "num_affected_rows",
         "type": "\"long\""
        }
       ],
       "type": "table"
      }
     },
     "output_type": "display_data"
    }
   ],
   "source": [
    "%sql\n",
    "INSERT INTO QualificationPlacement (MatchID, Team1, Team1Goals, Team2Goals, Team2, MatchWinner, MatchStage)\n",
    "SELECT\n",
    "    ROW_NUMBER() OVER (ORDER BY 1) + 14 AS MatchID,\n",
    "    CASE\n",
    "      WHEN\n",
    "        t1.MatchWinner!= t1.Team1 THEN t1.Team1 ELSE t1.Team2\n",
    "        END AS Team1,\n",
    "    ROUND(RAND() * 6) AS Team1Goals,\n",
    "    ROUND(RAND() * 6) AS Team2Goals,\n",
    "    CASE\n",
    "      WHEN\n",
    "        t2.MatchWinner!= t2.Team2 THEN t2.Team2 ELSE t2.Team1\n",
    "        END AS Team2,\n",
    "    'TBD' AS MatchWinner,\n",
    "    'TP' AS MatchStage\n",
    "FROM QualificationPlacement t1\n",
    "CROSS JOIN QualificationPlacement t2\n",
    "ON\n",
    "  (t1.MatchID = 13 AND t2.MatchId = 14);\n",
    "\n",
    "UPDATE QualificationPlacement\n",
    "SET MatchWinner = \n",
    "    CASE\n",
    "        WHEN Team1Goals > Team2Goals THEN Team1\n",
    "        WHEN Team1Goals < Team2Goals THEN Team2\n",
    "        ELSE\n",
    "            CASE\n",
    "                WHEN Team1 < Team2 THEN Team1\n",
    "                ELSE Team2\n",
    "            END\n",
    "    END\n",
    "WHERE MatchStage = 'TP';\n"
   ]
  },
  {
   "cell_type": "markdown",
   "metadata": {
    "application/vnd.databricks.v1+cell": {
     "cellMetadata": {
      "byteLimit": 2048000,
      "rowLimit": 10000
     },
     "inputWidgets": {},
     "nuid": "ea0b2da1-5c47-486b-a696-8fb7a827d299",
     "showTitle": false,
     "title": ""
    }
   },
   "source": [
    "Checking Third Place"
   ]
  },
  {
   "cell_type": "code",
   "execution_count": 0,
   "metadata": {
    "application/vnd.databricks.v1+cell": {
     "cellMetadata": {
      "byteLimit": 2048000,
      "implicitDf": true,
      "rowLimit": 10000
     },
     "inputWidgets": {},
     "nuid": "d2601e66-a19b-45e0-ae10-6a600b42ca5d",
     "showTitle": false,
     "title": ""
    }
   },
   "outputs": [
    {
     "output_type": "display_data",
     "data": {
      "text/html": [
       "<style scoped>\n",
       "  .table-result-container {\n",
       "    max-height: 300px;\n",
       "    overflow: auto;\n",
       "  }\n",
       "  table, th, td {\n",
       "    border: 1px solid black;\n",
       "    border-collapse: collapse;\n",
       "  }\n",
       "  th, td {\n",
       "    padding: 5px;\n",
       "  }\n",
       "  th {\n",
       "    text-align: left;\n",
       "  }\n",
       "</style><div class='table-result-container'><table class='table-result'><thead style='background-color: white'><tr><th>MatchID</th><th>Team1</th><th>Team1Goals</th><th>Team2Goals</th><th>Team2</th><th>MatchWinner</th><th>MatchStage</th></tr></thead><tbody><tr><td>15</td><td>Austria</td><td>5</td><td>6</td><td>Portugal</td><td>Portugal</td><td>TP</td></tr></tbody></table></div>"
      ]
     },
     "metadata": {
      "application/vnd.databricks.v1+output": {
       "addedWidgets": {},
       "aggData": [],
       "aggError": "",
       "aggOverflow": false,
       "aggSchema": [],
       "aggSeriesLimitReached": false,
       "aggType": "",
       "arguments": {},
       "columnCustomDisplayInfos": {},
       "data": [
        [
         15,
         "Austria",
         5,
         6,
         "Portugal",
         "Portugal",
         "TP"
        ]
       ],
       "datasetInfos": [],
       "dbfsResultPath": null,
       "isJsonSchema": true,
       "metadata": {},
       "overflow": false,
       "plotOptions": {
        "customPlotOptions": {},
        "displayType": "table",
        "pivotAggregation": null,
        "pivotColumns": null,
        "xColumns": null,
        "yColumns": null
       },
       "removedWidgets": [],
       "schema": [
        {
         "metadata": "{}",
         "name": "MatchID",
         "type": "\"integer\""
        },
        {
         "metadata": "{\"__CHAR_VARCHAR_TYPE_STRING\":\"varchar(53)\"}",
         "name": "Team1",
         "type": "\"string\""
        },
        {
         "metadata": "{}",
         "name": "Team1Goals",
         "type": "\"integer\""
        },
        {
         "metadata": "{}",
         "name": "Team2Goals",
         "type": "\"integer\""
        },
        {
         "metadata": "{\"__CHAR_VARCHAR_TYPE_STRING\":\"varchar(53)\"}",
         "name": "Team2",
         "type": "\"string\""
        },
        {
         "metadata": "{\"__CHAR_VARCHAR_TYPE_STRING\":\"varchar(53)\"}",
         "name": "MatchWinner",
         "type": "\"string\""
        },
        {
         "metadata": "{\"__CHAR_VARCHAR_TYPE_STRING\":\"varchar(3)\"}",
         "name": "MatchStage",
         "type": "\"string\""
        }
       ],
       "type": "table"
      }
     },
     "output_type": "display_data"
    }
   ],
   "source": [
    "%sql\n",
    "SELECT * FROM QualificationPlacement WHERE MatchStage = 'TP';"
   ]
  },
  {
   "cell_type": "markdown",
   "metadata": {
    "application/vnd.databricks.v1+cell": {
     "cellMetadata": {
      "byteLimit": 2048000,
      "rowLimit": 10000
     },
     "inputWidgets": {},
     "nuid": "dd273073-8671-4e13-92a5-cfbbf3f0c710",
     "showTitle": false,
     "title": ""
    }
   },
   "source": [
    "Final"
   ]
  },
  {
   "cell_type": "code",
   "execution_count": 0,
   "metadata": {
    "application/vnd.databricks.v1+cell": {
     "cellMetadata": {
      "byteLimit": 2048000,
      "implicitDf": true,
      "rowLimit": 10000
     },
     "inputWidgets": {},
     "nuid": "d949f1b0-127c-40cc-8545-f050c2ef652a",
     "showTitle": false,
     "title": ""
    }
   },
   "outputs": [
    {
     "output_type": "display_data",
     "data": {
      "text/html": [
       "<style scoped>\n",
       "  .table-result-container {\n",
       "    max-height: 300px;\n",
       "    overflow: auto;\n",
       "  }\n",
       "  table, th, td {\n",
       "    border: 1px solid black;\n",
       "    border-collapse: collapse;\n",
       "  }\n",
       "  th, td {\n",
       "    padding: 5px;\n",
       "  }\n",
       "  th {\n",
       "    text-align: left;\n",
       "  }\n",
       "</style><div class='table-result-container'><table class='table-result'><thead style='background-color: white'><tr><th>num_affected_rows</th></tr></thead><tbody><tr><td>1</td></tr></tbody></table></div>"
      ]
     },
     "metadata": {
      "application/vnd.databricks.v1+output": {
       "addedWidgets": {},
       "aggData": [],
       "aggError": "",
       "aggOverflow": false,
       "aggSchema": [],
       "aggSeriesLimitReached": false,
       "aggType": "",
       "arguments": {},
       "columnCustomDisplayInfos": {},
       "data": [
        [
         1
        ]
       ],
       "datasetInfos": [],
       "dbfsResultPath": null,
       "isJsonSchema": true,
       "metadata": {},
       "overflow": false,
       "plotOptions": {
        "customPlotOptions": {},
        "displayType": "table",
        "pivotAggregation": null,
        "pivotColumns": null,
        "xColumns": null,
        "yColumns": null
       },
       "removedWidgets": [],
       "schema": [
        {
         "metadata": "{}",
         "name": "num_affected_rows",
         "type": "\"long\""
        }
       ],
       "type": "table"
      }
     },
     "output_type": "display_data"
    }
   ],
   "source": [
    "%sql\n",
    "INSERT INTO QualificationPlacement (MatchID, Team1, Team1Goals, Team2Goals, Team2, MatchWinner, MatchStage)\n",
    "SELECT\n",
    "    ROW_NUMBER() OVER (ORDER BY 1) + 15 AS MatchID,\n",
    "    t1.MatchWinner AS Team1,\n",
    "    ROUND(RAND() * 6) AS Team1Goals,\n",
    "    ROUND(RAND() * 6) AS Team2Goals,\n",
    "    t2.MatchWinner AS Team2,\n",
    "    'TBD' AS MatchWinner,\n",
    "    'FIN' AS MatchStage\n",
    "FROM QualificationPlacement t1\n",
    "CROSS JOIN QualificationPlacement t2\n",
    "ON\n",
    "  (t1.MatchID = 13 AND t2.MatchId = 14);\n",
    "\n",
    "UPDATE QualificationPlacement\n",
    "SET MatchWinner = \n",
    "    CASE\n",
    "        WHEN Team1Goals > Team2Goals THEN Team1\n",
    "        WHEN Team1Goals < Team2Goals THEN Team2\n",
    "        ELSE\n",
    "            CASE\n",
    "                WHEN Team1 < Team2 THEN Team1\n",
    "                ELSE Team2\n",
    "            END\n",
    "    END\n",
    "WHERE MatchStage = 'FIN';\n",
    "\n",
    "\n"
   ]
  },
  {
   "cell_type": "markdown",
   "metadata": {
    "application/vnd.databricks.v1+cell": {
     "cellMetadata": {
      "byteLimit": 2048000,
      "rowLimit": 10000
     },
     "inputWidgets": {},
     "nuid": "bbac0d52-5243-4d65-bd48-6c9c7b17fcb1",
     "showTitle": false,
     "title": ""
    }
   },
   "source": [
    "Final Result"
   ]
  },
  {
   "cell_type": "code",
   "execution_count": 0,
   "metadata": {
    "application/vnd.databricks.v1+cell": {
     "cellMetadata": {
      "byteLimit": 2048000,
      "implicitDf": true,
      "rowLimit": 10000
     },
     "inputWidgets": {},
     "nuid": "992f4a14-ced2-4328-9ac4-8a1abef2211a",
     "showTitle": false,
     "title": ""
    }
   },
   "outputs": [
    {
     "output_type": "display_data",
     "data": {
      "text/html": [
       "<style scoped>\n",
       "  .table-result-container {\n",
       "    max-height: 300px;\n",
       "    overflow: auto;\n",
       "  }\n",
       "  table, th, td {\n",
       "    border: 1px solid black;\n",
       "    border-collapse: collapse;\n",
       "  }\n",
       "  th, td {\n",
       "    padding: 5px;\n",
       "  }\n",
       "  th {\n",
       "    text-align: left;\n",
       "  }\n",
       "</style><div class='table-result-container'><table class='table-result'><thead style='background-color: white'><tr><th>MatchID</th><th>Team1</th><th>Team1Goals</th><th>Team2Goals</th><th>Team2</th><th>MatchWinner</th><th>MatchStage</th></tr></thead><tbody><tr><td>16</td><td>Croatia</td><td>2</td><td>5</td><td>Slovakia</td><td>Slovakia</td><td>FIN</td></tr></tbody></table></div>"
      ]
     },
     "metadata": {
      "application/vnd.databricks.v1+output": {
       "addedWidgets": {},
       "aggData": [],
       "aggError": "",
       "aggOverflow": false,
       "aggSchema": [],
       "aggSeriesLimitReached": false,
       "aggType": "",
       "arguments": {},
       "columnCustomDisplayInfos": {},
       "data": [
        [
         16,
         "Croatia",
         2,
         5,
         "Slovakia",
         "Slovakia",
         "FIN"
        ]
       ],
       "datasetInfos": [],
       "dbfsResultPath": null,
       "isJsonSchema": true,
       "metadata": {},
       "overflow": false,
       "plotOptions": {
        "customPlotOptions": {},
        "displayType": "table",
        "pivotAggregation": null,
        "pivotColumns": null,
        "xColumns": null,
        "yColumns": null
       },
       "removedWidgets": [],
       "schema": [
        {
         "metadata": "{}",
         "name": "MatchID",
         "type": "\"integer\""
        },
        {
         "metadata": "{\"__CHAR_VARCHAR_TYPE_STRING\":\"varchar(53)\"}",
         "name": "Team1",
         "type": "\"string\""
        },
        {
         "metadata": "{}",
         "name": "Team1Goals",
         "type": "\"integer\""
        },
        {
         "metadata": "{}",
         "name": "Team2Goals",
         "type": "\"integer\""
        },
        {
         "metadata": "{\"__CHAR_VARCHAR_TYPE_STRING\":\"varchar(53)\"}",
         "name": "Team2",
         "type": "\"string\""
        },
        {
         "metadata": "{\"__CHAR_VARCHAR_TYPE_STRING\":\"varchar(53)\"}",
         "name": "MatchWinner",
         "type": "\"string\""
        },
        {
         "metadata": "{\"__CHAR_VARCHAR_TYPE_STRING\":\"varchar(3)\"}",
         "name": "MatchStage",
         "type": "\"string\""
        }
       ],
       "type": "table"
      }
     },
     "output_type": "display_data"
    }
   ],
   "source": [
    "%sql\n",
    "SELECT * FROM QualificationPlacement WHERE MatchStage = 'FIN';"
   ]
  }
 ],
 "metadata": {
  "application/vnd.databricks.v1+notebook": {
   "dashboards": [],
   "language": "python",
   "notebookMetadata": {
    "mostRecentlyExecutedCommandWithImplicitDF": {
     "commandId": 430535368774967,
     "dataframes": [
      "_sqldf"
     ]
    },
    "pythonIndentUnit": 4
   },
   "notebookName": "EurosSQL NoVisualization",
   "widgets": {}
  }
 },
 "nbformat": 4,
 "nbformat_minor": 0
}
