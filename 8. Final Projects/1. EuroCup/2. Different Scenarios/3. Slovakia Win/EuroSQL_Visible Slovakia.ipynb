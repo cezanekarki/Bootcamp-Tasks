{
 "cells": [
  {
   "cell_type": "markdown",
   "metadata": {
    "application/vnd.databricks.v1+cell": {
     "cellMetadata": {
      "byteLimit": 2048000,
      "rowLimit": 10000
     },
     "inputWidgets": {},
     "nuid": "2d43acc2-2db7-4132-adff-1b723c3b3031",
     "showTitle": false,
     "title": ""
    }
   },
   "source": [
    "#Visualization EuroSQL"
   ]
  },
  {
   "cell_type": "code",
   "execution_count": 0,
   "metadata": {
    "application/vnd.databricks.v1+cell": {
     "cellMetadata": {
      "byteLimit": 2048000,
      "rowLimit": 10000
     },
     "inputWidgets": {},
     "nuid": "9998a8e4-f9c5-4efe-9f7a-daf08f23f6ce",
     "showTitle": false,
     "title": ""
    }
   },
   "outputs": [],
   "source": [
    "#import libraries\n",
    "import pandas as pd\n",
    "from pyspark.sql import SparkSession"
   ]
  },
  {
   "cell_type": "code",
   "execution_count": 0,
   "metadata": {
    "application/vnd.databricks.v1+cell": {
     "cellMetadata": {
      "byteLimit": 2048000,
      "rowLimit": 10000
     },
     "inputWidgets": {},
     "nuid": "80b8e30a-3d8c-49c3-a177-2ccc252e3036",
     "showTitle": false,
     "title": ""
    }
   },
   "outputs": [],
   "source": [
    "#Spark Session\n",
    "spark = SparkSession.builder \\\n",
    "    .appName(\"euros_sql_visulization\") \\\n",
    "    .getOrCreate()"
   ]
  },
  {
   "cell_type": "code",
   "execution_count": 0,
   "metadata": {
    "application/vnd.databricks.v1+cell": {
     "cellMetadata": {
      "byteLimit": 2048000,
      "rowLimit": 10000
     },
     "inputWidgets": {},
     "nuid": "17e28640-2783-4e61-92d7-e8854ccfa900",
     "showTitle": false,
     "title": ""
    }
   },
   "outputs": [
    {
     "output_type": "display_data",
     "data": {
      "text/html": [
       "<style scoped>\n",
       "  .table-result-container {\n",
       "    max-height: 300px;\n",
       "    overflow: auto;\n",
       "  }\n",
       "  table, th, td {\n",
       "    border: 1px solid black;\n",
       "    border-collapse: collapse;\n",
       "  }\n",
       "  th, td {\n",
       "    padding: 5px;\n",
       "  }\n",
       "  th {\n",
       "    text-align: left;\n",
       "  }\n",
       "</style><div class='table-result-container'><table class='table-result'><thead style='background-color: white'><tr><th>GroupName</th><th>TeamName</th><th>MatchesPlayed</th><th>MatchesWon</th><th>MatchesLost</th><th>MatchesDrawn</th><th>GF</th><th>GA</th><th>GD</th><th>TotalPoints</th><th>Position</th></tr></thead><tbody><tr><td>A</td><td>Switzerland</td><td>3</td><td>2</td><td>1</td><td>0</td><td>11</td><td>7</td><td>4</td><td>6</td><td>A1</td></tr><tr><td>A</td><td>Germany</td><td>3</td><td>2</td><td>1</td><td>0</td><td>7</td><td>10</td><td>-3</td><td>6</td><td>A2</td></tr><tr><td>A</td><td>Scotland</td><td>3</td><td>1</td><td>2</td><td>0</td><td>7</td><td>7</td><td>0</td><td>3</td><td>A3</td></tr><tr><td>A</td><td>Hungary</td><td>3</td><td>1</td><td>2</td><td>0</td><td>8</td><td>9</td><td>-1</td><td>3</td><td>A4</td></tr><tr><td>B</td><td>Croatia</td><td>3</td><td>2</td><td>0</td><td>1</td><td>9</td><td>3</td><td>6</td><td>7</td><td>B1</td></tr><tr><td>B</td><td>Italy</td><td>3</td><td>1</td><td>0</td><td>2</td><td>4</td><td>3</td><td>1</td><td>5</td><td>B2</td></tr><tr><td>B</td><td>Albania</td><td>3</td><td>1</td><td>2</td><td>0</td><td>5</td><td>7</td><td>-2</td><td>3</td><td>B3</td></tr><tr><td>B</td><td>Spain</td><td>3</td><td>0</td><td>2</td><td>1</td><td>5</td><td>10</td><td>-5</td><td>1</td><td>B4</td></tr><tr><td>C</td><td>Denmark</td><td>3</td><td>3</td><td>0</td><td>0</td><td>15</td><td>5</td><td>10</td><td>9</td><td>C1</td></tr><tr><td>C</td><td>Slovenia</td><td>3</td><td>2</td><td>1</td><td>0</td><td>12</td><td>8</td><td>4</td><td>6</td><td>C2</td></tr><tr><td>C</td><td>England</td><td>3</td><td>1</td><td>2</td><td>0</td><td>8</td><td>12</td><td>-4</td><td>3</td><td>C3</td></tr><tr><td>C</td><td>Serbia</td><td>3</td><td>0</td><td>3</td><td>0</td><td>5</td><td>15</td><td>-10</td><td>0</td><td>C4</td></tr><tr><td>D</td><td>Poland</td><td>3</td><td>2</td><td>1</td><td>0</td><td>14</td><td>11</td><td>3</td><td>6</td><td>D1</td></tr><tr><td>D</td><td>Austria</td><td>3</td><td>1</td><td>1</td><td>1</td><td>10</td><td>9</td><td>1</td><td>4</td><td>D2</td></tr><tr><td>D</td><td>France</td><td>3</td><td>1</td><td>1</td><td>1</td><td>11</td><td>12</td><td>-1</td><td>4</td><td>D3</td></tr><tr><td>D</td><td>Netherlands</td><td>3</td><td>0</td><td>1</td><td>2</td><td>10</td><td>13</td><td>-3</td><td>2</td><td>D4</td></tr><tr><td>E</td><td>Slovakia</td><td>3</td><td>2</td><td>1</td><td>0</td><td>11</td><td>7</td><td>4</td><td>6</td><td>E1</td></tr><tr><td>E</td><td>Romania</td><td>3</td><td>2</td><td>1</td><td>0</td><td>8</td><td>8</td><td>0</td><td>6</td><td>E2</td></tr><tr><td>E</td><td>Belgium</td><td>3</td><td>1</td><td>2</td><td>0</td><td>10</td><td>7</td><td>3</td><td>3</td><td>E3</td></tr><tr><td>E</td><td>Ukraine</td><td>3</td><td>1</td><td>2</td><td>0</td><td>8</td><td>15</td><td>-7</td><td>3</td><td>E4</td></tr><tr><td>F</td><td>Czech Republic</td><td>3</td><td>2</td><td>1</td><td>0</td><td>13</td><td>8</td><td>5</td><td>6</td><td>F1</td></tr><tr><td>F</td><td>Turkey</td><td>3</td><td>2</td><td>1</td><td>0</td><td>14</td><td>12</td><td>2</td><td>6</td><td>F2</td></tr><tr><td>F</td><td>Portugal</td><td>3</td><td>1</td><td>1</td><td>1</td><td>8</td><td>9</td><td>-1</td><td>4</td><td>F3</td></tr><tr><td>F</td><td>Greece</td><td>3</td><td>0</td><td>2</td><td>1</td><td>3</td><td>9</td><td>-6</td><td>1</td><td>F4</td></tr></tbody></table></div>"
      ]
     },
     "metadata": {
      "application/vnd.databricks.v1+output": {
       "addedWidgets": {},
       "aggData": [],
       "aggError": "",
       "aggOverflow": false,
       "aggSchema": [],
       "aggSeriesLimitReached": false,
       "aggType": "",
       "arguments": {},
       "columnCustomDisplayInfos": {},
       "data": [
        [
         "A",
         "Switzerland",
         "3",
         "2",
         "1",
         "0",
         "11",
         "7",
         "4",
         "6",
         "A1"
        ],
        [
         "A",
         "Germany",
         "3",
         "2",
         "1",
         "0",
         "7",
         "10",
         "-3",
         "6",
         "A2"
        ],
        [
         "A",
         "Scotland",
         "3",
         "1",
         "2",
         "0",
         "7",
         "7",
         "0",
         "3",
         "A3"
        ],
        [
         "A",
         "Hungary",
         "3",
         "1",
         "2",
         "0",
         "8",
         "9",
         "-1",
         "3",
         "A4"
        ],
        [
         "B",
         "Croatia",
         "3",
         "2",
         "0",
         "1",
         "9",
         "3",
         "6",
         "7",
         "B1"
        ],
        [
         "B",
         "Italy",
         "3",
         "1",
         "0",
         "2",
         "4",
         "3",
         "1",
         "5",
         "B2"
        ],
        [
         "B",
         "Albania",
         "3",
         "1",
         "2",
         "0",
         "5",
         "7",
         "-2",
         "3",
         "B3"
        ],
        [
         "B",
         "Spain",
         "3",
         "0",
         "2",
         "1",
         "5",
         "10",
         "-5",
         "1",
         "B4"
        ],
        [
         "C",
         "Denmark",
         "3",
         "3",
         "0",
         "0",
         "15",
         "5",
         "10",
         "9",
         "C1"
        ],
        [
         "C",
         "Slovenia",
         "3",
         "2",
         "1",
         "0",
         "12",
         "8",
         "4",
         "6",
         "C2"
        ],
        [
         "C",
         "England",
         "3",
         "1",
         "2",
         "0",
         "8",
         "12",
         "-4",
         "3",
         "C3"
        ],
        [
         "C",
         "Serbia",
         "3",
         "0",
         "3",
         "0",
         "5",
         "15",
         "-10",
         "0",
         "C4"
        ],
        [
         "D",
         "Poland",
         "3",
         "2",
         "1",
         "0",
         "14",
         "11",
         "3",
         "6",
         "D1"
        ],
        [
         "D",
         "Austria",
         "3",
         "1",
         "1",
         "1",
         "10",
         "9",
         "1",
         "4",
         "D2"
        ],
        [
         "D",
         "France",
         "3",
         "1",
         "1",
         "1",
         "11",
         "12",
         "-1",
         "4",
         "D3"
        ],
        [
         "D",
         "Netherlands",
         "3",
         "0",
         "1",
         "2",
         "10",
         "13",
         "-3",
         "2",
         "D4"
        ],
        [
         "E",
         "Slovakia",
         "3",
         "2",
         "1",
         "0",
         "11",
         "7",
         "4",
         "6",
         "E1"
        ],
        [
         "E",
         "Romania",
         "3",
         "2",
         "1",
         "0",
         "8",
         "8",
         "0",
         "6",
         "E2"
        ],
        [
         "E",
         "Belgium",
         "3",
         "1",
         "2",
         "0",
         "10",
         "7",
         "3",
         "3",
         "E3"
        ],
        [
         "E",
         "Ukraine",
         "3",
         "1",
         "2",
         "0",
         "8",
         "15",
         "-7",
         "3",
         "E4"
        ],
        [
         "F",
         "Czech Republic",
         "3",
         "2",
         "1",
         "0",
         "13",
         "8",
         "5",
         "6",
         "F1"
        ],
        [
         "F",
         "Turkey",
         "3",
         "2",
         "1",
         "0",
         "14",
         "12",
         "2",
         "6",
         "F2"
        ],
        [
         "F",
         "Portugal",
         "3",
         "1",
         "1",
         "1",
         "8",
         "9",
         "-1",
         "4",
         "F3"
        ],
        [
         "F",
         "Greece",
         "3",
         "0",
         "2",
         "1",
         "3",
         "9",
         "-6",
         "1",
         "F4"
        ]
       ],
       "datasetInfos": [],
       "dbfsResultPath": null,
       "isJsonSchema": true,
       "metadata": {},
       "overflow": false,
       "plotOptions": {
        "customPlotOptions": {},
        "displayType": "table",
        "pivotAggregation": null,
        "pivotColumns": null,
        "xColumns": null,
        "yColumns": null
       },
       "removedWidgets": [],
       "schema": [
        {
         "metadata": "{}",
         "name": "GroupName",
         "type": "\"string\""
        },
        {
         "metadata": "{}",
         "name": "TeamName",
         "type": "\"string\""
        },
        {
         "metadata": "{}",
         "name": "MatchesPlayed",
         "type": "\"string\""
        },
        {
         "metadata": "{}",
         "name": "MatchesWon",
         "type": "\"string\""
        },
        {
         "metadata": "{}",
         "name": "MatchesLost",
         "type": "\"string\""
        },
        {
         "metadata": "{}",
         "name": "MatchesDrawn",
         "type": "\"string\""
        },
        {
         "metadata": "{}",
         "name": "GF",
         "type": "\"string\""
        },
        {
         "metadata": "{}",
         "name": "GA",
         "type": "\"string\""
        },
        {
         "metadata": "{}",
         "name": "GD",
         "type": "\"string\""
        },
        {
         "metadata": "{}",
         "name": "TotalPoints",
         "type": "\"string\""
        },
        {
         "metadata": "{}",
         "name": "Position",
         "type": "\"string\""
        }
       ],
       "type": "table"
      }
     },
     "output_type": "display_data"
    }
   ],
   "source": [
    "#getting data from sql table and into pandas dataframe\n",
    "groupstage = spark.sql(\"SELECT * FROM GroupStageResults\")\n",
    "groupstage_pd = groupstage.toPandas()\n",
    "\n",
    "#converting to string and removing .0 from floats occuring after conversion\n",
    "groupstage_pd = groupstage_pd.applymap(lambda x: str(x).split(\".\")[0])\n",
    "\n",
    "display(groupstage_pd)"
   ]
  },
  {
   "cell_type": "code",
   "execution_count": 0,
   "metadata": {
    "application/vnd.databricks.v1+cell": {
     "cellMetadata": {
      "byteLimit": 2048000,
      "rowLimit": 10000
     },
     "inputWidgets": {},
     "nuid": "41ad9e09-2788-4b4e-979f-983f5e38bae2",
     "showTitle": false,
     "title": ""
    }
   },
   "outputs": [],
   "source": [
    "#GroupStage Visualization Table\n",
    "euro_vis = pd.DataFrame({\n",
    "    'Grp/Pos': groupstage_pd['Position'],\n",
    "    'Country': groupstage_pd['TeamName'],\n",
    "    'MP': groupstage_pd['MatchesPlayed'],\n",
    "    'W': groupstage_pd['MatchesWon'],\n",
    "    'D': groupstage_pd['MatchesDrawn'],\n",
    "    'L': groupstage_pd['MatchesLost'],\n",
    "    'GF': groupstage_pd['GF'],\n",
    "    'GA': groupstage_pd['GA'],\n",
    "    'GD': groupstage_pd['GD'],\n",
    "    'Pts': groupstage_pd['TotalPoints']\n",
    "})"
   ]
  },
  {
   "cell_type": "code",
   "execution_count": 0,
   "metadata": {
    "application/vnd.databricks.v1+cell": {
     "cellMetadata": {
      "byteLimit": 2048000,
      "rowLimit": 10000
     },
     "inputWidgets": {},
     "nuid": "a4d11e56-a0ab-4b82-af3b-c6fda8e7552f",
     "showTitle": false,
     "title": ""
    }
   },
   "outputs": [],
   "source": [
    "#empty row for group stage\n",
    "mtgs_row_pd = pd.DataFrame({col: [''] for col in euro_vis.columns})"
   ]
  },
  {
   "cell_type": "code",
   "execution_count": 0,
   "metadata": {
    "application/vnd.databricks.v1+cell": {
     "cellMetadata": {
      "byteLimit": 2048000,
      "rowLimit": 10000
     },
     "inputWidgets": {},
     "nuid": "6c2fb0a6-62d9-4620-b3b1-1a3ca01adb99",
     "showTitle": false,
     "title": ""
    }
   },
   "outputs": [
    {
     "output_type": "display_data",
     "data": {
      "text/html": [
       "<style scoped>\n",
       "  .table-result-container {\n",
       "    max-height: 300px;\n",
       "    overflow: auto;\n",
       "  }\n",
       "  table, th, td {\n",
       "    border: 1px solid black;\n",
       "    border-collapse: collapse;\n",
       "  }\n",
       "  th, td {\n",
       "    padding: 5px;\n",
       "  }\n",
       "  th {\n",
       "    text-align: left;\n",
       "  }\n",
       "</style><div class='table-result-container'><table class='table-result'><thead style='background-color: white'><tr><th>Grp/Pos</th><th>Country</th><th>MP</th><th>W</th><th>D</th><th>L</th><th>GF</th><th>GA</th><th>GD</th><th>Pts</th></tr></thead><tbody><tr><td>A1</td><td>Switzerland</td><td>3</td><td>2</td><td>0</td><td>1</td><td>11</td><td>7</td><td>4</td><td>6</td></tr><tr><td>A2</td><td>Germany</td><td>3</td><td>2</td><td>0</td><td>1</td><td>7</td><td>10</td><td>-3</td><td>6</td></tr><tr><td>A3</td><td>Scotland</td><td>3</td><td>1</td><td>0</td><td>2</td><td>7</td><td>7</td><td>0</td><td>3</td></tr><tr><td>A4</td><td>Hungary</td><td>3</td><td>1</td><td>0</td><td>2</td><td>8</td><td>9</td><td>-1</td><td>3</td></tr><tr><td>B1</td><td>Croatia</td><td>3</td><td>2</td><td>1</td><td>0</td><td>9</td><td>3</td><td>6</td><td>7</td></tr><tr><td>B2</td><td>Italy</td><td>3</td><td>1</td><td>2</td><td>0</td><td>4</td><td>3</td><td>1</td><td>5</td></tr><tr><td>B3</td><td>Albania</td><td>3</td><td>1</td><td>0</td><td>2</td><td>5</td><td>7</td><td>-2</td><td>3</td></tr><tr><td>B4</td><td>Spain</td><td>3</td><td>0</td><td>1</td><td>2</td><td>5</td><td>10</td><td>-5</td><td>1</td></tr><tr><td>C1</td><td>Denmark</td><td>3</td><td>3</td><td>0</td><td>0</td><td>15</td><td>5</td><td>10</td><td>9</td></tr><tr><td>C2</td><td>Slovenia</td><td>3</td><td>2</td><td>0</td><td>1</td><td>12</td><td>8</td><td>4</td><td>6</td></tr><tr><td>C3</td><td>England</td><td>3</td><td>1</td><td>0</td><td>2</td><td>8</td><td>12</td><td>-4</td><td>3</td></tr><tr><td>C4</td><td>Serbia</td><td>3</td><td>0</td><td>0</td><td>3</td><td>5</td><td>15</td><td>-10</td><td>0</td></tr></tbody></table></div>"
      ]
     },
     "metadata": {
      "application/vnd.databricks.v1+output": {
       "addedWidgets": {},
       "aggData": [],
       "aggError": "",
       "aggOverflow": false,
       "aggSchema": [],
       "aggSeriesLimitReached": false,
       "aggType": "",
       "arguments": {},
       "columnCustomDisplayInfos": {},
       "data": [
        [
         "A1",
         "Switzerland",
         "3",
         "2",
         "0",
         "1",
         "11",
         "7",
         "4",
         "6"
        ],
        [
         "A2",
         "Germany",
         "3",
         "2",
         "0",
         "1",
         "7",
         "10",
         "-3",
         "6"
        ],
        [
         "A3",
         "Scotland",
         "3",
         "1",
         "0",
         "2",
         "7",
         "7",
         "0",
         "3"
        ],
        [
         "A4",
         "Hungary",
         "3",
         "1",
         "0",
         "2",
         "8",
         "9",
         "-1",
         "3"
        ],
        [
         "B1",
         "Croatia",
         "3",
         "2",
         "1",
         "0",
         "9",
         "3",
         "6",
         "7"
        ],
        [
         "B2",
         "Italy",
         "3",
         "1",
         "2",
         "0",
         "4",
         "3",
         "1",
         "5"
        ],
        [
         "B3",
         "Albania",
         "3",
         "1",
         "0",
         "2",
         "5",
         "7",
         "-2",
         "3"
        ],
        [
         "B4",
         "Spain",
         "3",
         "0",
         "1",
         "2",
         "5",
         "10",
         "-5",
         "1"
        ],
        [
         "C1",
         "Denmark",
         "3",
         "3",
         "0",
         "0",
         "15",
         "5",
         "10",
         "9"
        ],
        [
         "C2",
         "Slovenia",
         "3",
         "2",
         "0",
         "1",
         "12",
         "8",
         "4",
         "6"
        ],
        [
         "C3",
         "England",
         "3",
         "1",
         "0",
         "2",
         "8",
         "12",
         "-4",
         "3"
        ],
        [
         "C4",
         "Serbia",
         "3",
         "0",
         "0",
         "3",
         "5",
         "15",
         "-10",
         "0"
        ]
       ],
       "datasetInfos": [],
       "dbfsResultPath": null,
       "isJsonSchema": true,
       "metadata": {},
       "overflow": false,
       "plotOptions": {
        "customPlotOptions": {},
        "displayType": "table",
        "pivotAggregation": null,
        "pivotColumns": null,
        "xColumns": null,
        "yColumns": null
       },
       "removedWidgets": [],
       "schema": [
        {
         "metadata": "{}",
         "name": "Grp/Pos",
         "type": "\"string\""
        },
        {
         "metadata": "{}",
         "name": "Country",
         "type": "\"string\""
        },
        {
         "metadata": "{}",
         "name": "MP",
         "type": "\"string\""
        },
        {
         "metadata": "{}",
         "name": "W",
         "type": "\"string\""
        },
        {
         "metadata": "{}",
         "name": "D",
         "type": "\"string\""
        },
        {
         "metadata": "{}",
         "name": "L",
         "type": "\"string\""
        },
        {
         "metadata": "{}",
         "name": "GF",
         "type": "\"string\""
        },
        {
         "metadata": "{}",
         "name": "GA",
         "type": "\"string\""
        },
        {
         "metadata": "{}",
         "name": "GD",
         "type": "\"string\""
        },
        {
         "metadata": "{}",
         "name": "Pts",
         "type": "\"string\""
        }
       ],
       "type": "table"
      }
     },
     "output_type": "display_data"
    },
    {
     "output_type": "display_data",
     "data": {
      "text/html": [
       "<style scoped>\n",
       "  .table-result-container {\n",
       "    max-height: 300px;\n",
       "    overflow: auto;\n",
       "  }\n",
       "  table, th, td {\n",
       "    border: 1px solid black;\n",
       "    border-collapse: collapse;\n",
       "  }\n",
       "  th, td {\n",
       "    padding: 5px;\n",
       "  }\n",
       "  th {\n",
       "    text-align: left;\n",
       "  }\n",
       "</style><div class='table-result-container'><table class='table-result'><thead style='background-color: white'><tr><th>Grp/Pos</th><th>Country</th><th>MP</th><th>W</th><th>D</th><th>L</th><th>GF</th><th>GA</th><th>GD</th><th>Pts</th></tr></thead><tbody><tr><td>D1</td><td>Poland</td><td>3</td><td>2</td><td>0</td><td>1</td><td>14</td><td>11</td><td>3</td><td>6</td></tr><tr><td>D2</td><td>Austria</td><td>3</td><td>1</td><td>1</td><td>1</td><td>10</td><td>9</td><td>1</td><td>4</td></tr><tr><td>D3</td><td>France</td><td>3</td><td>1</td><td>1</td><td>1</td><td>11</td><td>12</td><td>-1</td><td>4</td></tr><tr><td>D4</td><td>Netherlands</td><td>3</td><td>0</td><td>2</td><td>1</td><td>10</td><td>13</td><td>-3</td><td>2</td></tr><tr><td>E1</td><td>Slovakia</td><td>3</td><td>2</td><td>0</td><td>1</td><td>11</td><td>7</td><td>4</td><td>6</td></tr><tr><td>E2</td><td>Romania</td><td>3</td><td>2</td><td>0</td><td>1</td><td>8</td><td>8</td><td>0</td><td>6</td></tr><tr><td>E3</td><td>Belgium</td><td>3</td><td>1</td><td>0</td><td>2</td><td>10</td><td>7</td><td>3</td><td>3</td></tr><tr><td>E4</td><td>Ukraine</td><td>3</td><td>1</td><td>0</td><td>2</td><td>8</td><td>15</td><td>-7</td><td>3</td></tr><tr><td>F1</td><td>Czech Republic</td><td>3</td><td>2</td><td>0</td><td>1</td><td>13</td><td>8</td><td>5</td><td>6</td></tr><tr><td>F2</td><td>Turkey</td><td>3</td><td>2</td><td>0</td><td>1</td><td>14</td><td>12</td><td>2</td><td>6</td></tr><tr><td>F3</td><td>Portugal</td><td>3</td><td>1</td><td>1</td><td>1</td><td>8</td><td>9</td><td>-1</td><td>4</td></tr><tr><td>F4</td><td>Greece</td><td>3</td><td>0</td><td>1</td><td>2</td><td>3</td><td>9</td><td>-6</td><td>1</td></tr></tbody></table></div>"
      ]
     },
     "metadata": {
      "application/vnd.databricks.v1+output": {
       "addedWidgets": {},
       "aggData": [],
       "aggError": "",
       "aggOverflow": false,
       "aggSchema": [],
       "aggSeriesLimitReached": false,
       "aggType": "",
       "arguments": {},
       "columnCustomDisplayInfos": {},
       "data": [
        [
         "D1",
         "Poland",
         "3",
         "2",
         "0",
         "1",
         "14",
         "11",
         "3",
         "6"
        ],
        [
         "D2",
         "Austria",
         "3",
         "1",
         "1",
         "1",
         "10",
         "9",
         "1",
         "4"
        ],
        [
         "D3",
         "France",
         "3",
         "1",
         "1",
         "1",
         "11",
         "12",
         "-1",
         "4"
        ],
        [
         "D4",
         "Netherlands",
         "3",
         "0",
         "2",
         "1",
         "10",
         "13",
         "-3",
         "2"
        ],
        [
         "E1",
         "Slovakia",
         "3",
         "2",
         "0",
         "1",
         "11",
         "7",
         "4",
         "6"
        ],
        [
         "E2",
         "Romania",
         "3",
         "2",
         "0",
         "1",
         "8",
         "8",
         "0",
         "6"
        ],
        [
         "E3",
         "Belgium",
         "3",
         "1",
         "0",
         "2",
         "10",
         "7",
         "3",
         "3"
        ],
        [
         "E4",
         "Ukraine",
         "3",
         "1",
         "0",
         "2",
         "8",
         "15",
         "-7",
         "3"
        ],
        [
         "F1",
         "Czech Republic",
         "3",
         "2",
         "0",
         "1",
         "13",
         "8",
         "5",
         "6"
        ],
        [
         "F2",
         "Turkey",
         "3",
         "2",
         "0",
         "1",
         "14",
         "12",
         "2",
         "6"
        ],
        [
         "F3",
         "Portugal",
         "3",
         "1",
         "1",
         "1",
         "8",
         "9",
         "-1",
         "4"
        ],
        [
         "F4",
         "Greece",
         "3",
         "0",
         "1",
         "2",
         "3",
         "9",
         "-6",
         "1"
        ]
       ],
       "datasetInfos": [],
       "dbfsResultPath": null,
       "isJsonSchema": true,
       "metadata": {},
       "overflow": false,
       "plotOptions": {
        "customPlotOptions": {},
        "displayType": "table",
        "pivotAggregation": null,
        "pivotColumns": null,
        "xColumns": null,
        "yColumns": null
       },
       "removedWidgets": [],
       "schema": [
        {
         "metadata": "{}",
         "name": "Grp/Pos",
         "type": "\"string\""
        },
        {
         "metadata": "{}",
         "name": "Country",
         "type": "\"string\""
        },
        {
         "metadata": "{}",
         "name": "MP",
         "type": "\"string\""
        },
        {
         "metadata": "{}",
         "name": "W",
         "type": "\"string\""
        },
        {
         "metadata": "{}",
         "name": "D",
         "type": "\"string\""
        },
        {
         "metadata": "{}",
         "name": "L",
         "type": "\"string\""
        },
        {
         "metadata": "{}",
         "name": "GF",
         "type": "\"string\""
        },
        {
         "metadata": "{}",
         "name": "GA",
         "type": "\"string\""
        },
        {
         "metadata": "{}",
         "name": "GD",
         "type": "\"string\""
        },
        {
         "metadata": "{}",
         "name": "Pts",
         "type": "\"string\""
        }
       ],
       "type": "table"
      }
     },
     "output_type": "display_data"
    }
   ],
   "source": [
    "#splitting into left and right for visulaization\n",
    "left_gs = euro_vis[euro_vis['Grp/Pos'].str.contains('^[ABC]')]\n",
    "\n",
    "right_gs = euro_vis[euro_vis['Grp/Pos'].str.contains('^[DEF]')]\n",
    "\n",
    "#reseting index for both df\n",
    "left_gs.reset_index(drop=True, inplace=True)\n",
    "right_gs.reset_index(drop=True, inplace=True)\n",
    "\n",
    "display(left_gs)\n",
    "display(right_gs)"
   ]
  },
  {
   "cell_type": "code",
   "execution_count": 0,
   "metadata": {
    "application/vnd.databricks.v1+cell": {
     "cellMetadata": {
      "byteLimit": 2048000,
      "rowLimit": 10000
     },
     "inputWidgets": {},
     "nuid": "5ddefab1-1a77-42fd-809a-f98895ed5d67",
     "showTitle": false,
     "title": ""
    }
   },
   "outputs": [
    {
     "output_type": "display_data",
     "data": {
      "text/html": [
       "<style scoped>\n",
       "  .table-result-container {\n",
       "    max-height: 300px;\n",
       "    overflow: auto;\n",
       "  }\n",
       "  table, th, td {\n",
       "    border: 1px solid black;\n",
       "    border-collapse: collapse;\n",
       "  }\n",
       "  th, td {\n",
       "    padding: 5px;\n",
       "  }\n",
       "  th {\n",
       "    text-align: left;\n",
       "  }\n",
       "</style><div class='table-result-container'><table class='table-result'><thead style='background-color: white'><tr><th>L_Grp/Pos</th><th>L_Country</th><th>L_MP</th><th>L_W</th><th>L-D</th><th>L_L</th><th>L-GF</th><th>L_GA</th><th>L_GD</th><th>L_Pts</th></tr></thead><tbody><tr><td>A1</td><td>Switzerland</td><td>3</td><td>2</td><td>0</td><td>1</td><td>11</td><td>7</td><td>4</td><td>6</td></tr><tr><td>A2</td><td>Germany</td><td>3</td><td>2</td><td>0</td><td>1</td><td>7</td><td>10</td><td>-3</td><td>6</td></tr><tr><td>A3</td><td>Scotland</td><td>3</td><td>1</td><td>0</td><td>2</td><td>7</td><td>7</td><td>0</td><td>3</td></tr><tr><td>A4</td><td>Hungary</td><td>3</td><td>1</td><td>0</td><td>2</td><td>8</td><td>9</td><td>-1</td><td>3</td></tr><tr><td></td><td></td><td></td><td></td><td></td><td></td><td></td><td></td><td></td><td></td></tr><tr><td></td><td></td><td></td><td></td><td></td><td></td><td></td><td></td><td></td><td></td></tr><tr><td>B1</td><td>Croatia</td><td>3</td><td>2</td><td>1</td><td>0</td><td>9</td><td>3</td><td>6</td><td>7</td></tr><tr><td>B2</td><td>Italy</td><td>3</td><td>1</td><td>2</td><td>0</td><td>4</td><td>3</td><td>1</td><td>5</td></tr><tr><td>B3</td><td>Albania</td><td>3</td><td>1</td><td>0</td><td>2</td><td>5</td><td>7</td><td>-2</td><td>3</td></tr><tr><td>B4</td><td>Spain</td><td>3</td><td>0</td><td>1</td><td>2</td><td>5</td><td>10</td><td>-5</td><td>1</td></tr><tr><td></td><td></td><td></td><td></td><td></td><td></td><td></td><td></td><td></td><td></td></tr><tr><td></td><td></td><td></td><td></td><td></td><td></td><td></td><td></td><td></td><td></td></tr><tr><td>C1</td><td>Denmark</td><td>3</td><td>3</td><td>0</td><td>0</td><td>15</td><td>5</td><td>10</td><td>9</td></tr><tr><td>C2</td><td>Slovenia</td><td>3</td><td>2</td><td>0</td><td>1</td><td>12</td><td>8</td><td>4</td><td>6</td></tr><tr><td>C3</td><td>England</td><td>3</td><td>1</td><td>0</td><td>2</td><td>8</td><td>12</td><td>-4</td><td>3</td></tr><tr><td>C4</td><td>Serbia</td><td>3</td><td>0</td><td>0</td><td>3</td><td>5</td><td>15</td><td>-10</td><td>0</td></tr></tbody></table></div>"
      ]
     },
     "metadata": {
      "application/vnd.databricks.v1+output": {
       "addedWidgets": {},
       "aggData": [],
       "aggError": "",
       "aggOverflow": false,
       "aggSchema": [],
       "aggSeriesLimitReached": false,
       "aggType": "",
       "arguments": {},
       "columnCustomDisplayInfos": {},
       "data": [
        [
         "A1",
         "Switzerland",
         "3",
         "2",
         "0",
         "1",
         "11",
         "7",
         "4",
         "6"
        ],
        [
         "A2",
         "Germany",
         "3",
         "2",
         "0",
         "1",
         "7",
         "10",
         "-3",
         "6"
        ],
        [
         "A3",
         "Scotland",
         "3",
         "1",
         "0",
         "2",
         "7",
         "7",
         "0",
         "3"
        ],
        [
         "A4",
         "Hungary",
         "3",
         "1",
         "0",
         "2",
         "8",
         "9",
         "-1",
         "3"
        ],
        [
         "",
         "",
         "",
         "",
         "",
         "",
         "",
         "",
         "",
         ""
        ],
        [
         "",
         "",
         "",
         "",
         "",
         "",
         "",
         "",
         "",
         ""
        ],
        [
         "B1",
         "Croatia",
         "3",
         "2",
         "1",
         "0",
         "9",
         "3",
         "6",
         "7"
        ],
        [
         "B2",
         "Italy",
         "3",
         "1",
         "2",
         "0",
         "4",
         "3",
         "1",
         "5"
        ],
        [
         "B3",
         "Albania",
         "3",
         "1",
         "0",
         "2",
         "5",
         "7",
         "-2",
         "3"
        ],
        [
         "B4",
         "Spain",
         "3",
         "0",
         "1",
         "2",
         "5",
         "10",
         "-5",
         "1"
        ],
        [
         "",
         "",
         "",
         "",
         "",
         "",
         "",
         "",
         "",
         ""
        ],
        [
         "",
         "",
         "",
         "",
         "",
         "",
         "",
         "",
         "",
         ""
        ],
        [
         "C1",
         "Denmark",
         "3",
         "3",
         "0",
         "0",
         "15",
         "5",
         "10",
         "9"
        ],
        [
         "C2",
         "Slovenia",
         "3",
         "2",
         "0",
         "1",
         "12",
         "8",
         "4",
         "6"
        ],
        [
         "C3",
         "England",
         "3",
         "1",
         "0",
         "2",
         "8",
         "12",
         "-4",
         "3"
        ],
        [
         "C4",
         "Serbia",
         "3",
         "0",
         "0",
         "3",
         "5",
         "15",
         "-10",
         "0"
        ]
       ],
       "datasetInfos": [],
       "dbfsResultPath": null,
       "isJsonSchema": true,
       "metadata": {},
       "overflow": false,
       "plotOptions": {
        "customPlotOptions": {},
        "displayType": "table",
        "pivotAggregation": null,
        "pivotColumns": null,
        "xColumns": null,
        "yColumns": null
       },
       "removedWidgets": [],
       "schema": [
        {
         "metadata": "{}",
         "name": "L_Grp/Pos",
         "type": "\"string\""
        },
        {
         "metadata": "{}",
         "name": "L_Country",
         "type": "\"string\""
        },
        {
         "metadata": "{}",
         "name": "L_MP",
         "type": "\"string\""
        },
        {
         "metadata": "{}",
         "name": "L_W",
         "type": "\"string\""
        },
        {
         "metadata": "{}",
         "name": "L-D",
         "type": "\"string\""
        },
        {
         "metadata": "{}",
         "name": "L_L",
         "type": "\"string\""
        },
        {
         "metadata": "{}",
         "name": "L-GF",
         "type": "\"string\""
        },
        {
         "metadata": "{}",
         "name": "L_GA",
         "type": "\"string\""
        },
        {
         "metadata": "{}",
         "name": "L_GD",
         "type": "\"string\""
        },
        {
         "metadata": "{}",
         "name": "L_Pts",
         "type": "\"string\""
        }
       ],
       "type": "table"
      }
     },
     "output_type": "display_data"
    }
   ],
   "source": [
    "#list of groupstage according to groupname\n",
    "left_gs_grouped = [left_gs.iloc[i:i+4] for i in range(0, len(left_gs), 4)]\n",
    "\n",
    "#iterating over above list and adding empty row except for last one\n",
    "for i in range(len(left_gs_grouped)):\n",
    "    if i < len(left_gs_grouped) - 1:\n",
    "        left_gs_grouped[i] = pd.concat([left_gs_grouped[i], mtgs_row_pd,mtgs_row_pd], ignore_index=True)\n",
    "\n",
    "#joining them back after adding empty rows\n",
    "left_gs_spaced = pd.concat(left_gs_grouped).reset_index(drop=True)\n",
    "\n",
    "lgs_new_column_name ={'Grp/Pos': 'L_Grp/Pos',\n",
    "                       'Country': 'L_Country',\n",
    "                       'MP': 'L_MP',\n",
    "                       'W': 'L_W',\n",
    "                       'D': 'L-D',\n",
    "                       'L': 'L_L',\n",
    "                       'GF': 'L-GF',\n",
    "                       'GA': 'L_GA',\n",
    "                       'GD': 'L_GD',\n",
    "                       'Pts': 'L_Pts'\n",
    "                       }\n",
    "left_gs_spaced = left_gs_spaced.rename(columns=lgs_new_column_name)\n",
    "\n",
    "display(left_gs_spaced)"
   ]
  },
  {
   "cell_type": "code",
   "execution_count": 0,
   "metadata": {
    "application/vnd.databricks.v1+cell": {
     "cellMetadata": {
      "byteLimit": 2048000,
      "rowLimit": 10000
     },
     "inputWidgets": {},
     "nuid": "6374dc61-5980-4eec-9aad-825aef449ad9",
     "showTitle": false,
     "title": ""
    }
   },
   "outputs": [
    {
     "output_type": "display_data",
     "data": {
      "text/html": [
       "<style scoped>\n",
       "  .table-result-container {\n",
       "    max-height: 300px;\n",
       "    overflow: auto;\n",
       "  }\n",
       "  table, th, td {\n",
       "    border: 1px solid black;\n",
       "    border-collapse: collapse;\n",
       "  }\n",
       "  th, td {\n",
       "    padding: 5px;\n",
       "  }\n",
       "  th {\n",
       "    text-align: left;\n",
       "  }\n",
       "</style><div class='table-result-container'><table class='table-result'><thead style='background-color: white'><tr><th>R_Grp/Pos</th><th>R_Country</th><th>R_MP</th><th>R_W</th><th>R-D</th><th>R_L</th><th>R-GF</th><th>R_GA</th><th>R_GD</th><th>R_Pts</th></tr></thead><tbody><tr><td>D1</td><td>Poland</td><td>3</td><td>2</td><td>0</td><td>1</td><td>14</td><td>11</td><td>3</td><td>6</td></tr><tr><td>D2</td><td>Austria</td><td>3</td><td>1</td><td>1</td><td>1</td><td>10</td><td>9</td><td>1</td><td>4</td></tr><tr><td>D3</td><td>France</td><td>3</td><td>1</td><td>1</td><td>1</td><td>11</td><td>12</td><td>-1</td><td>4</td></tr><tr><td>D4</td><td>Netherlands</td><td>3</td><td>0</td><td>2</td><td>1</td><td>10</td><td>13</td><td>-3</td><td>2</td></tr><tr><td></td><td></td><td></td><td></td><td></td><td></td><td></td><td></td><td></td><td></td></tr><tr><td></td><td></td><td></td><td></td><td></td><td></td><td></td><td></td><td></td><td></td></tr><tr><td>E1</td><td>Slovakia</td><td>3</td><td>2</td><td>0</td><td>1</td><td>11</td><td>7</td><td>4</td><td>6</td></tr><tr><td>E2</td><td>Romania</td><td>3</td><td>2</td><td>0</td><td>1</td><td>8</td><td>8</td><td>0</td><td>6</td></tr><tr><td>E3</td><td>Belgium</td><td>3</td><td>1</td><td>0</td><td>2</td><td>10</td><td>7</td><td>3</td><td>3</td></tr><tr><td>E4</td><td>Ukraine</td><td>3</td><td>1</td><td>0</td><td>2</td><td>8</td><td>15</td><td>-7</td><td>3</td></tr><tr><td></td><td></td><td></td><td></td><td></td><td></td><td></td><td></td><td></td><td></td></tr><tr><td></td><td></td><td></td><td></td><td></td><td></td><td></td><td></td><td></td><td></td></tr><tr><td>F1</td><td>Czech Republic</td><td>3</td><td>2</td><td>0</td><td>1</td><td>13</td><td>8</td><td>5</td><td>6</td></tr><tr><td>F2</td><td>Turkey</td><td>3</td><td>2</td><td>0</td><td>1</td><td>14</td><td>12</td><td>2</td><td>6</td></tr><tr><td>F3</td><td>Portugal</td><td>3</td><td>1</td><td>1</td><td>1</td><td>8</td><td>9</td><td>-1</td><td>4</td></tr><tr><td>F4</td><td>Greece</td><td>3</td><td>0</td><td>1</td><td>2</td><td>3</td><td>9</td><td>-6</td><td>1</td></tr></tbody></table></div>"
      ]
     },
     "metadata": {
      "application/vnd.databricks.v1+output": {
       "addedWidgets": {},
       "aggData": [],
       "aggError": "",
       "aggOverflow": false,
       "aggSchema": [],
       "aggSeriesLimitReached": false,
       "aggType": "",
       "arguments": {},
       "columnCustomDisplayInfos": {},
       "data": [
        [
         "D1",
         "Poland",
         "3",
         "2",
         "0",
         "1",
         "14",
         "11",
         "3",
         "6"
        ],
        [
         "D2",
         "Austria",
         "3",
         "1",
         "1",
         "1",
         "10",
         "9",
         "1",
         "4"
        ],
        [
         "D3",
         "France",
         "3",
         "1",
         "1",
         "1",
         "11",
         "12",
         "-1",
         "4"
        ],
        [
         "D4",
         "Netherlands",
         "3",
         "0",
         "2",
         "1",
         "10",
         "13",
         "-3",
         "2"
        ],
        [
         "",
         "",
         "",
         "",
         "",
         "",
         "",
         "",
         "",
         ""
        ],
        [
         "",
         "",
         "",
         "",
         "",
         "",
         "",
         "",
         "",
         ""
        ],
        [
         "E1",
         "Slovakia",
         "3",
         "2",
         "0",
         "1",
         "11",
         "7",
         "4",
         "6"
        ],
        [
         "E2",
         "Romania",
         "3",
         "2",
         "0",
         "1",
         "8",
         "8",
         "0",
         "6"
        ],
        [
         "E3",
         "Belgium",
         "3",
         "1",
         "0",
         "2",
         "10",
         "7",
         "3",
         "3"
        ],
        [
         "E4",
         "Ukraine",
         "3",
         "1",
         "0",
         "2",
         "8",
         "15",
         "-7",
         "3"
        ],
        [
         "",
         "",
         "",
         "",
         "",
         "",
         "",
         "",
         "",
         ""
        ],
        [
         "",
         "",
         "",
         "",
         "",
         "",
         "",
         "",
         "",
         ""
        ],
        [
         "F1",
         "Czech Republic",
         "3",
         "2",
         "0",
         "1",
         "13",
         "8",
         "5",
         "6"
        ],
        [
         "F2",
         "Turkey",
         "3",
         "2",
         "0",
         "1",
         "14",
         "12",
         "2",
         "6"
        ],
        [
         "F3",
         "Portugal",
         "3",
         "1",
         "1",
         "1",
         "8",
         "9",
         "-1",
         "4"
        ],
        [
         "F4",
         "Greece",
         "3",
         "0",
         "1",
         "2",
         "3",
         "9",
         "-6",
         "1"
        ]
       ],
       "datasetInfos": [],
       "dbfsResultPath": null,
       "isJsonSchema": true,
       "metadata": {},
       "overflow": false,
       "plotOptions": {
        "customPlotOptions": {},
        "displayType": "table",
        "pivotAggregation": null,
        "pivotColumns": null,
        "xColumns": null,
        "yColumns": null
       },
       "removedWidgets": [],
       "schema": [
        {
         "metadata": "{}",
         "name": "R_Grp/Pos",
         "type": "\"string\""
        },
        {
         "metadata": "{}",
         "name": "R_Country",
         "type": "\"string\""
        },
        {
         "metadata": "{}",
         "name": "R_MP",
         "type": "\"string\""
        },
        {
         "metadata": "{}",
         "name": "R_W",
         "type": "\"string\""
        },
        {
         "metadata": "{}",
         "name": "R-D",
         "type": "\"string\""
        },
        {
         "metadata": "{}",
         "name": "R_L",
         "type": "\"string\""
        },
        {
         "metadata": "{}",
         "name": "R-GF",
         "type": "\"string\""
        },
        {
         "metadata": "{}",
         "name": "R_GA",
         "type": "\"string\""
        },
        {
         "metadata": "{}",
         "name": "R_GD",
         "type": "\"string\""
        },
        {
         "metadata": "{}",
         "name": "R_Pts",
         "type": "\"string\""
        }
       ],
       "type": "table"
      }
     },
     "output_type": "display_data"
    }
   ],
   "source": [
    "#list of groupstage according to groupname\n",
    "right_gs_grouped = [right_gs.iloc[i:i+4] for i in range(0, len(right_gs), 4)]\n",
    "\n",
    "#iterating over above list and adding empty row except for last one\n",
    "for i in range(len(right_gs_grouped)):\n",
    "    if i < len(right_gs_grouped) - 1:\n",
    "        right_gs_grouped[i] = pd.concat([right_gs_grouped[i], mtgs_row_pd,mtgs_row_pd], ignore_index=True)\n",
    "\n",
    "#joining them back after adding empty rows\n",
    "right_gs_spaced = pd.concat(right_gs_grouped).reset_index(drop=True)\n",
    "\n",
    "rgs_new_column_name ={'Grp/Pos': 'R_Grp/Pos',\n",
    "                       'Country': 'R_Country',\n",
    "                       'MP': 'R_MP',\n",
    "                       'W': 'R_W',\n",
    "                       'D': 'R-D',\n",
    "                       'L': 'R_L',\n",
    "                       'GF': 'R-GF',\n",
    "                       'GA': 'R_GA',\n",
    "                       'GD': 'R_GD',\n",
    "                       'Pts': 'R_Pts'\n",
    "                       }\n",
    "right_gs_spaced = right_gs_spaced.rename(columns=rgs_new_column_name)\n",
    "\n",
    "display(right_gs_spaced)"
   ]
  },
  {
   "cell_type": "code",
   "execution_count": 0,
   "metadata": {
    "application/vnd.databricks.v1+cell": {
     "cellMetadata": {
      "byteLimit": 2048000,
      "rowLimit": 10000
     },
     "inputWidgets": {},
     "nuid": "e242ec7e-5c90-440b-b7ad-0a5b840fc4cb",
     "showTitle": false,
     "title": ""
    }
   },
   "outputs": [
    {
     "output_type": "display_data",
     "data": {
      "text/html": [
       "<style scoped>\n",
       "  .table-result-container {\n",
       "    max-height: 300px;\n",
       "    overflow: auto;\n",
       "  }\n",
       "  table, th, td {\n",
       "    border: 1px solid black;\n",
       "    border-collapse: collapse;\n",
       "  }\n",
       "  th, td {\n",
       "    padding: 5px;\n",
       "  }\n",
       "  th {\n",
       "    text-align: left;\n",
       "  }\n",
       "</style><div class='table-result-container'><table class='table-result'><thead style='background-color: white'><tr><th>MatchID</th><th>Team1</th><th>Team1Goals</th><th>Team2Goals</th><th>Team2</th><th>MatchWinner</th><th>MatchStage</th></tr></thead><tbody><tr><td>1</td><td>Croatia</td><td>5</td><td>1</td><td>Belgium</td><td>Croatia</td><td>R16</td></tr><tr><td>2</td><td>Switzerland</td><td>0</td><td>1</td><td>Slovenia</td><td>Slovenia</td><td>R16</td></tr><tr><td>3</td><td>Czech Republic</td><td>1</td><td>2</td><td>Scotland</td><td>Scotland</td><td>R16</td></tr><tr><td>4</td><td>Austria</td><td>5</td><td>2</td><td>Romania</td><td>Austria</td><td>R16</td></tr><tr><td>5</td><td>Slovakia</td><td>2</td><td>1</td><td>France</td><td>Slovakia</td><td>R16</td></tr><tr><td>6</td><td>Poland</td><td>5</td><td>2</td><td>Turkey</td><td>Poland</td><td>R16</td></tr><tr><td>7</td><td>Denmark</td><td>1</td><td>5</td><td>Portugal</td><td>Portugal</td><td>R16</td></tr><tr><td>8</td><td>Germany</td><td>2</td><td>1</td><td>Italy</td><td>Germany</td><td>R16</td></tr></tbody></table></div>"
      ]
     },
     "metadata": {
      "application/vnd.databricks.v1+output": {
       "addedWidgets": {},
       "aggData": [],
       "aggError": "",
       "aggOverflow": false,
       "aggSchema": [],
       "aggSeriesLimitReached": false,
       "aggType": "",
       "arguments": {},
       "columnCustomDisplayInfos": {},
       "data": [
        [
         "1",
         "Croatia",
         "5",
         "1",
         "Belgium",
         "Croatia",
         "R16"
        ],
        [
         "2",
         "Switzerland",
         "0",
         "1",
         "Slovenia",
         "Slovenia",
         "R16"
        ],
        [
         "3",
         "Czech Republic",
         "1",
         "2",
         "Scotland",
         "Scotland",
         "R16"
        ],
        [
         "4",
         "Austria",
         "5",
         "2",
         "Romania",
         "Austria",
         "R16"
        ],
        [
         "5",
         "Slovakia",
         "2",
         "1",
         "France",
         "Slovakia",
         "R16"
        ],
        [
         "6",
         "Poland",
         "5",
         "2",
         "Turkey",
         "Poland",
         "R16"
        ],
        [
         "7",
         "Denmark",
         "1",
         "5",
         "Portugal",
         "Portugal",
         "R16"
        ],
        [
         "8",
         "Germany",
         "2",
         "1",
         "Italy",
         "Germany",
         "R16"
        ]
       ],
       "datasetInfos": [],
       "dbfsResultPath": null,
       "isJsonSchema": true,
       "metadata": {},
       "overflow": false,
       "plotOptions": {
        "customPlotOptions": {},
        "displayType": "table",
        "pivotAggregation": null,
        "pivotColumns": null,
        "xColumns": null,
        "yColumns": null
       },
       "removedWidgets": [],
       "schema": [
        {
         "metadata": "{}",
         "name": "MatchID",
         "type": "\"string\""
        },
        {
         "metadata": "{}",
         "name": "Team1",
         "type": "\"string\""
        },
        {
         "metadata": "{}",
         "name": "Team1Goals",
         "type": "\"string\""
        },
        {
         "metadata": "{}",
         "name": "Team2Goals",
         "type": "\"string\""
        },
        {
         "metadata": "{}",
         "name": "Team2",
         "type": "\"string\""
        },
        {
         "metadata": "{}",
         "name": "MatchWinner",
         "type": "\"string\""
        },
        {
         "metadata": "{}",
         "name": "MatchStage",
         "type": "\"string\""
        }
       ],
       "type": "table"
      }
     },
     "output_type": "display_data"
    }
   ],
   "source": [
    "#getting data from sql table and into pandas dataframe\n",
    "round_16 = spark.sql(\"SELECT * FROM QualificationPlacement WHERE MatchStage = 'R16'\")\n",
    "round_16_pd = round_16.toPandas()\n",
    "\n",
    "#converting to string and removing .0 from floats occuring after conversion\n",
    "round_16_pd = round_16_pd.applymap(lambda x: str(x).split(\".\")[0])\n",
    "\n",
    "display(round_16_pd)"
   ]
  },
  {
   "cell_type": "code",
   "execution_count": 0,
   "metadata": {
    "application/vnd.databricks.v1+cell": {
     "cellMetadata": {
      "byteLimit": 2048000,
      "rowLimit": 10000
     },
     "inputWidgets": {},
     "nuid": "a06a3941-8763-4b86-b08c-d49e6eae78d1",
     "showTitle": false,
     "title": ""
    }
   },
   "outputs": [
    {
     "output_type": "display_data",
     "data": {
      "text/html": [
       "<style scoped>\n",
       "  .table-result-container {\n",
       "    max-height: 300px;\n",
       "    overflow: auto;\n",
       "  }\n",
       "  table, th, td {\n",
       "    border: 1px solid black;\n",
       "    border-collapse: collapse;\n",
       "  }\n",
       "  th, td {\n",
       "    padding: 5px;\n",
       "  }\n",
       "  th {\n",
       "    text-align: left;\n",
       "  }\n",
       "</style><div class='table-result-container'><table class='table-result'><thead style='background-color: white'><tr><th>R16_Teams</th><th>R16_Score</th></tr></thead><tbody><tr><td>Croatia</td><td>5</td></tr><tr><td>Belgium</td><td>1</td></tr><tr><td>Switzerland</td><td>0</td></tr><tr><td>Slovenia</td><td>1</td></tr><tr><td>Czech Republic</td><td>1</td></tr><tr><td>Scotland</td><td>2</td></tr><tr><td>Austria</td><td>5</td></tr><tr><td>Romania</td><td>2</td></tr><tr><td>Slovakia</td><td>2</td></tr><tr><td>France</td><td>1</td></tr><tr><td>Poland</td><td>5</td></tr><tr><td>Turkey</td><td>2</td></tr><tr><td>Denmark</td><td>1</td></tr><tr><td>Portugal</td><td>5</td></tr><tr><td>Germany</td><td>2</td></tr><tr><td>Italy</td><td>1</td></tr></tbody></table></div>"
      ]
     },
     "metadata": {
      "application/vnd.databricks.v1+output": {
       "addedWidgets": {},
       "aggData": [],
       "aggError": "",
       "aggOverflow": false,
       "aggSchema": [],
       "aggSeriesLimitReached": false,
       "aggType": "",
       "arguments": {},
       "columnCustomDisplayInfos": {},
       "data": [
        [
         "Croatia",
         "5"
        ],
        [
         "Belgium",
         "1"
        ],
        [
         "Switzerland",
         "0"
        ],
        [
         "Slovenia",
         "1"
        ],
        [
         "Czech Republic",
         "1"
        ],
        [
         "Scotland",
         "2"
        ],
        [
         "Austria",
         "5"
        ],
        [
         "Romania",
         "2"
        ],
        [
         "Slovakia",
         "2"
        ],
        [
         "France",
         "1"
        ],
        [
         "Poland",
         "5"
        ],
        [
         "Turkey",
         "2"
        ],
        [
         "Denmark",
         "1"
        ],
        [
         "Portugal",
         "5"
        ],
        [
         "Germany",
         "2"
        ],
        [
         "Italy",
         "1"
        ]
       ],
       "datasetInfos": [],
       "dbfsResultPath": null,
       "isJsonSchema": true,
       "metadata": {},
       "overflow": false,
       "plotOptions": {
        "customPlotOptions": {},
        "displayType": "table",
        "pivotAggregation": null,
        "pivotColumns": null,
        "xColumns": null,
        "yColumns": null
       },
       "removedWidgets": [],
       "schema": [
        {
         "metadata": "{}",
         "name": "R16_Teams",
         "type": "\"string\""
        },
        {
         "metadata": "{}",
         "name": "R16_Score",
         "type": "\"string\""
        }
       ],
       "type": "table"
      }
     },
     "output_type": "display_data"
    }
   ],
   "source": [
    "#storing required data in df\n",
    "euro_r16_vis = pd.DataFrame(columns=['R16_Teams', 'R16_Score'])\n",
    "\n",
    "#displaying all teams and respective scores in columns\n",
    "for index, row in round_16_pd.iterrows():\n",
    "    team1 = row['Team1']\n",
    "    team1goals = row['Team1Goals']\n",
    "    team2 = row['Team2']\n",
    "    team2goals = row['Team2Goals']\n",
    "    euro_r16_vis = pd.concat([euro_r16_vis, pd.DataFrame({'R16_Score': [team1goals], 'R16_Teams': [team1]})], ignore_index=True)\n",
    "    euro_r16_vis = pd.concat([euro_r16_vis, pd.DataFrame({'R16_Score': [team2goals], 'R16_Teams': [team2]})], ignore_index=True)\n",
    "\n",
    "display(euro_r16_vis)\n"
   ]
  },
  {
   "cell_type": "code",
   "execution_count": 0,
   "metadata": {
    "application/vnd.databricks.v1+cell": {
     "cellMetadata": {
      "byteLimit": 2048000,
      "rowLimit": 10000
     },
     "inputWidgets": {},
     "nuid": "7840731a-eecd-4657-b94d-dae74691a2bb",
     "showTitle": false,
     "title": ""
    }
   },
   "outputs": [
    {
     "output_type": "display_data",
     "data": {
      "text/html": [
       "<style scoped>\n",
       "  .table-result-container {\n",
       "    max-height: 300px;\n",
       "    overflow: auto;\n",
       "  }\n",
       "  table, th, td {\n",
       "    border: 1px solid black;\n",
       "    border-collapse: collapse;\n",
       "  }\n",
       "  th, td {\n",
       "    padding: 5px;\n",
       "  }\n",
       "  th {\n",
       "    text-align: left;\n",
       "  }\n",
       "</style><div class='table-result-container'><table class='table-result'><thead style='background-color: white'><tr><th>R16_Teams</th><th>R16_Score</th></tr></thead><tbody><tr><td>Croatia</td><td>5</td></tr><tr><td>Belgium</td><td>1</td></tr><tr><td>Switzerland</td><td>0</td></tr><tr><td>Slovenia</td><td>1</td></tr><tr><td>Czech Republic</td><td>1</td></tr><tr><td>Scotland</td><td>2</td></tr><tr><td>Austria</td><td>5</td></tr><tr><td>Romania</td><td>2</td></tr></tbody></table></div>"
      ]
     },
     "metadata": {
      "application/vnd.databricks.v1+output": {
       "addedWidgets": {},
       "aggData": [],
       "aggError": "",
       "aggOverflow": false,
       "aggSchema": [],
       "aggSeriesLimitReached": false,
       "aggType": "",
       "arguments": {},
       "columnCustomDisplayInfos": {},
       "data": [
        [
         "Croatia",
         "5"
        ],
        [
         "Belgium",
         "1"
        ],
        [
         "Switzerland",
         "0"
        ],
        [
         "Slovenia",
         "1"
        ],
        [
         "Czech Republic",
         "1"
        ],
        [
         "Scotland",
         "2"
        ],
        [
         "Austria",
         "5"
        ],
        [
         "Romania",
         "2"
        ]
       ],
       "datasetInfos": [],
       "dbfsResultPath": null,
       "isJsonSchema": true,
       "metadata": {},
       "overflow": false,
       "plotOptions": {
        "customPlotOptions": {},
        "displayType": "table",
        "pivotAggregation": null,
        "pivotColumns": null,
        "xColumns": null,
        "yColumns": null
       },
       "removedWidgets": [],
       "schema": [
        {
         "metadata": "{}",
         "name": "R16_Teams",
         "type": "\"string\""
        },
        {
         "metadata": "{}",
         "name": "R16_Score",
         "type": "\"string\""
        }
       ],
       "type": "table"
      }
     },
     "output_type": "display_data"
    },
    {
     "output_type": "display_data",
     "data": {
      "text/html": [
       "<style scoped>\n",
       "  .table-result-container {\n",
       "    max-height: 300px;\n",
       "    overflow: auto;\n",
       "  }\n",
       "  table, th, td {\n",
       "    border: 1px solid black;\n",
       "    border-collapse: collapse;\n",
       "  }\n",
       "  th, td {\n",
       "    padding: 5px;\n",
       "  }\n",
       "  th {\n",
       "    text-align: left;\n",
       "  }\n",
       "</style><div class='table-result-container'><table class='table-result'><thead style='background-color: white'><tr><th>R16_Teams</th><th>R16_Score</th></tr></thead><tbody><tr><td>Slovakia</td><td>2</td></tr><tr><td>France</td><td>1</td></tr><tr><td>Poland</td><td>5</td></tr><tr><td>Turkey</td><td>2</td></tr><tr><td>Denmark</td><td>1</td></tr><tr><td>Portugal</td><td>5</td></tr><tr><td>Germany</td><td>2</td></tr><tr><td>Italy</td><td>1</td></tr></tbody></table></div>"
      ]
     },
     "metadata": {
      "application/vnd.databricks.v1+output": {
       "addedWidgets": {},
       "aggData": [],
       "aggError": "",
       "aggOverflow": false,
       "aggSchema": [],
       "aggSeriesLimitReached": false,
       "aggType": "",
       "arguments": {},
       "columnCustomDisplayInfos": {},
       "data": [
        [
         "Slovakia",
         "2"
        ],
        [
         "France",
         "1"
        ],
        [
         "Poland",
         "5"
        ],
        [
         "Turkey",
         "2"
        ],
        [
         "Denmark",
         "1"
        ],
        [
         "Portugal",
         "5"
        ],
        [
         "Germany",
         "2"
        ],
        [
         "Italy",
         "1"
        ]
       ],
       "datasetInfos": [],
       "dbfsResultPath": null,
       "isJsonSchema": true,
       "metadata": {},
       "overflow": false,
       "plotOptions": {
        "customPlotOptions": {},
        "displayType": "table",
        "pivotAggregation": null,
        "pivotColumns": null,
        "xColumns": null,
        "yColumns": null
       },
       "removedWidgets": [],
       "schema": [
        {
         "metadata": "{}",
         "name": "R16_Teams",
         "type": "\"string\""
        },
        {
         "metadata": "{}",
         "name": "R16_Score",
         "type": "\"string\""
        }
       ],
       "type": "table"
      }
     },
     "output_type": "display_data"
    }
   ],
   "source": [
    "# calculating midpoint of the dataFrame\n",
    "midpoint_index1 = len(euro_r16_vis) // 2\n",
    "\n",
    "# splitting dataFrame into two equal halves\n",
    "left_r16 = euro_r16_vis.iloc[:midpoint_index1]\n",
    "right_r16 = euro_r16_vis.iloc[midpoint_index1:]\n",
    "\n",
    "# index reset\n",
    "left_r16.reset_index(drop=True, inplace=True)\n",
    "right_r16.reset_index(drop=True, inplace=True)\n",
    "\n",
    "# displaying the split DataFrames\n",
    "display(left_r16)\n",
    "display(right_r16)"
   ]
  },
  {
   "cell_type": "code",
   "execution_count": 0,
   "metadata": {
    "application/vnd.databricks.v1+cell": {
     "cellMetadata": {
      "byteLimit": 2048000,
      "rowLimit": 10000
     },
     "inputWidgets": {},
     "nuid": "b2d177f0-83c4-425e-828f-8e4a1bdc0c48",
     "showTitle": false,
     "title": ""
    }
   },
   "outputs": [],
   "source": [
    "#empty row for round of 16\n",
    "r16_row_pd = pd.DataFrame({col: [''] for col in euro_r16_vis.columns})"
   ]
  },
  {
   "cell_type": "code",
   "execution_count": 0,
   "metadata": {
    "application/vnd.databricks.v1+cell": {
     "cellMetadata": {
      "byteLimit": 2048000,
      "rowLimit": 10000
     },
     "inputWidgets": {},
     "nuid": "71624a9e-0a8c-4ed8-815d-b162d5e96d07",
     "showTitle": false,
     "title": ""
    }
   },
   "outputs": [
    {
     "output_type": "display_data",
     "data": {
      "text/html": [
       "<style scoped>\n",
       "  .table-result-container {\n",
       "    max-height: 300px;\n",
       "    overflow: auto;\n",
       "  }\n",
       "  table, th, td {\n",
       "    border: 1px solid black;\n",
       "    border-collapse: collapse;\n",
       "  }\n",
       "  th, td {\n",
       "    padding: 5px;\n",
       "  }\n",
       "  th {\n",
       "    text-align: left;\n",
       "  }\n",
       "</style><div class='table-result-container'><table class='table-result'><thead style='background-color: white'><tr><th>L_R16_Teams</th><th>L_R16_Score</th></tr></thead><tbody><tr><td></td><td></td></tr><tr><td>Croatia</td><td>5</td></tr><tr><td>Belgium</td><td>1</td></tr><tr><td></td><td></td></tr><tr><td></td><td></td></tr><tr><td>Switzerland</td><td>0</td></tr><tr><td>Slovenia</td><td>1</td></tr><tr><td></td><td></td></tr><tr><td></td><td></td></tr><tr><td>Czech Republic</td><td>1</td></tr><tr><td>Scotland</td><td>2</td></tr><tr><td></td><td></td></tr><tr><td></td><td></td></tr><tr><td>Austria</td><td>5</td></tr><tr><td>Romania</td><td>2</td></tr><tr><td></td><td></td></tr></tbody></table></div>"
      ]
     },
     "metadata": {
      "application/vnd.databricks.v1+output": {
       "addedWidgets": {},
       "aggData": [],
       "aggError": "",
       "aggOverflow": false,
       "aggSchema": [],
       "aggSeriesLimitReached": false,
       "aggType": "",
       "arguments": {},
       "columnCustomDisplayInfos": {},
       "data": [
        [
         "",
         ""
        ],
        [
         "Croatia",
         "5"
        ],
        [
         "Belgium",
         "1"
        ],
        [
         "",
         ""
        ],
        [
         "",
         ""
        ],
        [
         "Switzerland",
         "0"
        ],
        [
         "Slovenia",
         "1"
        ],
        [
         "",
         ""
        ],
        [
         "",
         ""
        ],
        [
         "Czech Republic",
         "1"
        ],
        [
         "Scotland",
         "2"
        ],
        [
         "",
         ""
        ],
        [
         "",
         ""
        ],
        [
         "Austria",
         "5"
        ],
        [
         "Romania",
         "2"
        ],
        [
         "",
         ""
        ]
       ],
       "datasetInfos": [],
       "dbfsResultPath": null,
       "isJsonSchema": true,
       "metadata": {},
       "overflow": false,
       "plotOptions": {
        "customPlotOptions": {},
        "displayType": "table",
        "pivotAggregation": null,
        "pivotColumns": null,
        "xColumns": null,
        "yColumns": null
       },
       "removedWidgets": [],
       "schema": [
        {
         "metadata": "{}",
         "name": "L_R16_Teams",
         "type": "\"string\""
        },
        {
         "metadata": "{}",
         "name": "L_R16_Score",
         "type": "\"string\""
        }
       ],
       "type": "table"
      }
     },
     "output_type": "display_data"
    }
   ],
   "source": [
    "\n",
    "left_r16_grouped = [left_r16.iloc[i:i+2] for i in range(0, len(left_r16), 2)]\n",
    "\n",
    "for i in range(len(left_r16_grouped)):\n",
    "    if i < len(left_r16_grouped):\n",
    "        left_r16_grouped[i] = pd.concat([r16_row_pd,left_r16_grouped[i], r16_row_pd], ignore_index=True)\n",
    "\n",
    "left_r16_spaced = pd.concat(left_r16_grouped).reset_index(drop=True)\n",
    "\n",
    "lr16_new_column_name ={'R16_Teams': 'L_R16_Teams',\n",
    "                       'R16_Score': 'L_R16_Score'\n",
    "                       }\n",
    "left_r16_spaced = left_r16_spaced.rename(columns=lr16_new_column_name)\n",
    "\n",
    "display(left_r16_spaced)"
   ]
  },
  {
   "cell_type": "code",
   "execution_count": 0,
   "metadata": {
    "application/vnd.databricks.v1+cell": {
     "cellMetadata": {
      "byteLimit": 2048000,
      "rowLimit": 10000
     },
     "inputWidgets": {},
     "nuid": "eb2a5417-2559-4ef2-a0f1-30a9123a9daa",
     "showTitle": false,
     "title": ""
    }
   },
   "outputs": [
    {
     "output_type": "display_data",
     "data": {
      "text/html": [
       "<style scoped>\n",
       "  .table-result-container {\n",
       "    max-height: 300px;\n",
       "    overflow: auto;\n",
       "  }\n",
       "  table, th, td {\n",
       "    border: 1px solid black;\n",
       "    border-collapse: collapse;\n",
       "  }\n",
       "  th, td {\n",
       "    padding: 5px;\n",
       "  }\n",
       "  th {\n",
       "    text-align: left;\n",
       "  }\n",
       "</style><div class='table-result-container'><table class='table-result'><thead style='background-color: white'><tr><th>R_R16_Score</th><th>R_R16_Teams</th></tr></thead><tbody><tr><td></td><td></td></tr><tr><td>2</td><td>Slovakia</td></tr><tr><td>1</td><td>France</td></tr><tr><td></td><td></td></tr><tr><td></td><td></td></tr><tr><td>5</td><td>Poland</td></tr><tr><td>2</td><td>Turkey</td></tr><tr><td></td><td></td></tr><tr><td></td><td></td></tr><tr><td>1</td><td>Denmark</td></tr><tr><td>5</td><td>Portugal</td></tr><tr><td></td><td></td></tr><tr><td></td><td></td></tr><tr><td>2</td><td>Germany</td></tr><tr><td>1</td><td>Italy</td></tr><tr><td></td><td></td></tr></tbody></table></div>"
      ]
     },
     "metadata": {
      "application/vnd.databricks.v1+output": {
       "addedWidgets": {},
       "aggData": [],
       "aggError": "",
       "aggOverflow": false,
       "aggSchema": [],
       "aggSeriesLimitReached": false,
       "aggType": "",
       "arguments": {},
       "columnCustomDisplayInfos": {},
       "data": [
        [
         "",
         ""
        ],
        [
         "2",
         "Slovakia"
        ],
        [
         "1",
         "France"
        ],
        [
         "",
         ""
        ],
        [
         "",
         ""
        ],
        [
         "5",
         "Poland"
        ],
        [
         "2",
         "Turkey"
        ],
        [
         "",
         ""
        ],
        [
         "",
         ""
        ],
        [
         "1",
         "Denmark"
        ],
        [
         "5",
         "Portugal"
        ],
        [
         "",
         ""
        ],
        [
         "",
         ""
        ],
        [
         "2",
         "Germany"
        ],
        [
         "1",
         "Italy"
        ],
        [
         "",
         ""
        ]
       ],
       "datasetInfos": [],
       "dbfsResultPath": null,
       "isJsonSchema": true,
       "metadata": {},
       "overflow": false,
       "plotOptions": {
        "customPlotOptions": {},
        "displayType": "table",
        "pivotAggregation": null,
        "pivotColumns": null,
        "xColumns": null,
        "yColumns": null
       },
       "removedWidgets": [],
       "schema": [
        {
         "metadata": "{}",
         "name": "R_R16_Score",
         "type": "\"string\""
        },
        {
         "metadata": "{}",
         "name": "R_R16_Teams",
         "type": "\"string\""
        }
       ],
       "type": "table"
      }
     },
     "output_type": "display_data"
    }
   ],
   "source": [
    "right_r16_grouped = [right_r16.iloc[i:i+2] for i in range(0, len(right_r16), 2)]\n",
    "\n",
    "for i in range(len(right_r16_grouped)):\n",
    "    if i < len(right_r16_grouped):\n",
    "        right_r16_grouped[i] = pd.concat([r16_row_pd,right_r16_grouped[i], r16_row_pd], ignore_index=True)\n",
    "\n",
    "right_r16_spaced = pd.concat(right_r16_grouped).reset_index(drop=True)\n",
    "\n",
    "rr16_new_column_name ={'R16_Teams': 'R_R16_Teams',\n",
    "                       'R16_Score': 'R_R16_Score'\n",
    "                       }\n",
    "right_r16_spaced = right_r16_spaced.rename(columns=rr16_new_column_name)\n",
    "\n",
    "rr16_new_column_order = ['R_R16_Score', 'R_R16_Teams']\n",
    "right_r16_spaced = right_r16_spaced[rr16_new_column_order]\n",
    "\n",
    "display(right_r16_spaced)"
   ]
  },
  {
   "cell_type": "code",
   "execution_count": 0,
   "metadata": {
    "application/vnd.databricks.v1+cell": {
     "cellMetadata": {
      "byteLimit": 2048000,
      "rowLimit": 10000
     },
     "inputWidgets": {},
     "nuid": "c2685989-6e85-4240-b404-46f119a3be1c",
     "showTitle": false,
     "title": ""
    }
   },
   "outputs": [
    {
     "output_type": "display_data",
     "data": {
      "text/html": [
       "<style scoped>\n",
       "  .table-result-container {\n",
       "    max-height: 300px;\n",
       "    overflow: auto;\n",
       "  }\n",
       "  table, th, td {\n",
       "    border: 1px solid black;\n",
       "    border-collapse: collapse;\n",
       "  }\n",
       "  th, td {\n",
       "    padding: 5px;\n",
       "  }\n",
       "  th {\n",
       "    text-align: left;\n",
       "  }\n",
       "</style><div class='table-result-container'><table class='table-result'><thead style='background-color: white'><tr><th>MatchID</th><th>Team1</th><th>Team1Goals</th><th>Team2Goals</th><th>Team2</th><th>MatchWinner</th><th>MatchStage</th></tr></thead><tbody><tr><td>9</td><td>Croatia</td><td>1</td><td>0</td><td>Slovenia</td><td>Croatia</td><td>QF</td></tr><tr><td>10</td><td>Scotland</td><td>0</td><td>5</td><td>Austria</td><td>Austria</td><td>QF</td></tr><tr><td>11</td><td>Slovakia</td><td>2</td><td>0</td><td>Poland</td><td>Slovakia</td><td>QF</td></tr><tr><td>12</td><td>Portugal</td><td>5</td><td>1</td><td>Germany</td><td>Portugal</td><td>QF</td></tr></tbody></table></div>"
      ]
     },
     "metadata": {
      "application/vnd.databricks.v1+output": {
       "addedWidgets": {},
       "aggData": [],
       "aggError": "",
       "aggOverflow": false,
       "aggSchema": [],
       "aggSeriesLimitReached": false,
       "aggType": "",
       "arguments": {},
       "columnCustomDisplayInfos": {},
       "data": [
        [
         "9",
         "Croatia",
         "1",
         "0",
         "Slovenia",
         "Croatia",
         "QF"
        ],
        [
         "10",
         "Scotland",
         "0",
         "5",
         "Austria",
         "Austria",
         "QF"
        ],
        [
         "11",
         "Slovakia",
         "2",
         "0",
         "Poland",
         "Slovakia",
         "QF"
        ],
        [
         "12",
         "Portugal",
         "5",
         "1",
         "Germany",
         "Portugal",
         "QF"
        ]
       ],
       "datasetInfos": [],
       "dbfsResultPath": null,
       "isJsonSchema": true,
       "metadata": {},
       "overflow": false,
       "plotOptions": {
        "customPlotOptions": {},
        "displayType": "table",
        "pivotAggregation": null,
        "pivotColumns": null,
        "xColumns": null,
        "yColumns": null
       },
       "removedWidgets": [],
       "schema": [
        {
         "metadata": "{}",
         "name": "MatchID",
         "type": "\"string\""
        },
        {
         "metadata": "{}",
         "name": "Team1",
         "type": "\"string\""
        },
        {
         "metadata": "{}",
         "name": "Team1Goals",
         "type": "\"string\""
        },
        {
         "metadata": "{}",
         "name": "Team2Goals",
         "type": "\"string\""
        },
        {
         "metadata": "{}",
         "name": "Team2",
         "type": "\"string\""
        },
        {
         "metadata": "{}",
         "name": "MatchWinner",
         "type": "\"string\""
        },
        {
         "metadata": "{}",
         "name": "MatchStage",
         "type": "\"string\""
        }
       ],
       "type": "table"
      }
     },
     "output_type": "display_data"
    }
   ],
   "source": [
    "qf = spark.sql(\"SELECT * FROM QualificationPlacement WHERE MatchStage = 'QF'\")\n",
    "qf_pd = qf.toPandas()\n",
    "qf_pd = qf_pd.applymap(lambda x: str(x).split(\".\")[0])\n",
    "\n",
    "display(qf_pd)"
   ]
  },
  {
   "cell_type": "code",
   "execution_count": 0,
   "metadata": {
    "application/vnd.databricks.v1+cell": {
     "cellMetadata": {
      "byteLimit": 2048000,
      "rowLimit": 10000
     },
     "inputWidgets": {},
     "nuid": "5edfcbe6-3e11-433e-b353-58d18d4a7a9d",
     "showTitle": false,
     "title": ""
    }
   },
   "outputs": [
    {
     "output_type": "display_data",
     "data": {
      "text/html": [
       "<style scoped>\n",
       "  .table-result-container {\n",
       "    max-height: 300px;\n",
       "    overflow: auto;\n",
       "  }\n",
       "  table, th, td {\n",
       "    border: 1px solid black;\n",
       "    border-collapse: collapse;\n",
       "  }\n",
       "  th, td {\n",
       "    padding: 5px;\n",
       "  }\n",
       "  th {\n",
       "    text-align: left;\n",
       "  }\n",
       "</style><div class='table-result-container'><table class='table-result'><thead style='background-color: white'><tr><th>QF_Teams</th><th>QF_Score</th></tr></thead><tbody><tr><td>Croatia</td><td>1</td></tr><tr><td>Slovenia</td><td>0</td></tr><tr><td>Scotland</td><td>0</td></tr><tr><td>Austria</td><td>5</td></tr><tr><td>Slovakia</td><td>2</td></tr><tr><td>Poland</td><td>0</td></tr><tr><td>Portugal</td><td>5</td></tr><tr><td>Germany</td><td>1</td></tr></tbody></table></div>"
      ]
     },
     "metadata": {
      "application/vnd.databricks.v1+output": {
       "addedWidgets": {},
       "aggData": [],
       "aggError": "",
       "aggOverflow": false,
       "aggSchema": [],
       "aggSeriesLimitReached": false,
       "aggType": "",
       "arguments": {},
       "columnCustomDisplayInfos": {},
       "data": [
        [
         "Croatia",
         "1"
        ],
        [
         "Slovenia",
         "0"
        ],
        [
         "Scotland",
         "0"
        ],
        [
         "Austria",
         "5"
        ],
        [
         "Slovakia",
         "2"
        ],
        [
         "Poland",
         "0"
        ],
        [
         "Portugal",
         "5"
        ],
        [
         "Germany",
         "1"
        ]
       ],
       "datasetInfos": [],
       "dbfsResultPath": null,
       "isJsonSchema": true,
       "metadata": {},
       "overflow": false,
       "plotOptions": {
        "customPlotOptions": {},
        "displayType": "table",
        "pivotAggregation": null,
        "pivotColumns": null,
        "xColumns": null,
        "yColumns": null
       },
       "removedWidgets": [],
       "schema": [
        {
         "metadata": "{}",
         "name": "QF_Teams",
         "type": "\"string\""
        },
        {
         "metadata": "{}",
         "name": "QF_Score",
         "type": "\"string\""
        }
       ],
       "type": "table"
      }
     },
     "output_type": "display_data"
    }
   ],
   "source": [
    "#storing required data in df\n",
    "qf_vis = pd.DataFrame(columns=['QF_Teams', 'QF_Score'])\n",
    "\n",
    "#displaying all teams and respective scores in columns\n",
    "for index, row in qf_pd.iterrows():\n",
    "    team1 = row['Team1']\n",
    "    team1goals = row['Team1Goals']\n",
    "    team2 = row['Team2']\n",
    "    team2goals = row['Team2Goals']\n",
    "    qf_vis = pd.concat([qf_vis, pd.DataFrame({'QF_Teams': [team1], 'QF_Score': [team1goals]})], ignore_index=True)\n",
    "    qf_vis = pd.concat([qf_vis, pd.DataFrame({'QF_Teams': [team2], 'QF_Score': [team2goals]})], ignore_index=True)\n",
    "\n",
    "display(qf_vis)"
   ]
  },
  {
   "cell_type": "code",
   "execution_count": 0,
   "metadata": {
    "application/vnd.databricks.v1+cell": {
     "cellMetadata": {
      "byteLimit": 2048000,
      "rowLimit": 10000
     },
     "inputWidgets": {},
     "nuid": "d14e3078-c613-47e0-9c1e-994cfbc51581",
     "showTitle": false,
     "title": ""
    }
   },
   "outputs": [
    {
     "output_type": "display_data",
     "data": {
      "text/html": [
       "<style scoped>\n",
       "  .table-result-container {\n",
       "    max-height: 300px;\n",
       "    overflow: auto;\n",
       "  }\n",
       "  table, th, td {\n",
       "    border: 1px solid black;\n",
       "    border-collapse: collapse;\n",
       "  }\n",
       "  th, td {\n",
       "    padding: 5px;\n",
       "  }\n",
       "  th {\n",
       "    text-align: left;\n",
       "  }\n",
       "</style><div class='table-result-container'><table class='table-result'><thead style='background-color: white'><tr><th>QF_Teams</th><th>QF_Score</th></tr></thead><tbody><tr><td>Croatia</td><td>1</td></tr><tr><td>Slovenia</td><td>0</td></tr><tr><td>Scotland</td><td>0</td></tr><tr><td>Austria</td><td>5</td></tr></tbody></table></div>"
      ]
     },
     "metadata": {
      "application/vnd.databricks.v1+output": {
       "addedWidgets": {},
       "aggData": [],
       "aggError": "",
       "aggOverflow": false,
       "aggSchema": [],
       "aggSeriesLimitReached": false,
       "aggType": "",
       "arguments": {},
       "columnCustomDisplayInfos": {},
       "data": [
        [
         "Croatia",
         "1"
        ],
        [
         "Slovenia",
         "0"
        ],
        [
         "Scotland",
         "0"
        ],
        [
         "Austria",
         "5"
        ]
       ],
       "datasetInfos": [],
       "dbfsResultPath": null,
       "isJsonSchema": true,
       "metadata": {},
       "overflow": false,
       "plotOptions": {
        "customPlotOptions": {},
        "displayType": "table",
        "pivotAggregation": null,
        "pivotColumns": null,
        "xColumns": null,
        "yColumns": null
       },
       "removedWidgets": [],
       "schema": [
        {
         "metadata": "{}",
         "name": "QF_Teams",
         "type": "\"string\""
        },
        {
         "metadata": "{}",
         "name": "QF_Score",
         "type": "\"string\""
        }
       ],
       "type": "table"
      }
     },
     "output_type": "display_data"
    },
    {
     "output_type": "display_data",
     "data": {
      "text/html": [
       "<style scoped>\n",
       "  .table-result-container {\n",
       "    max-height: 300px;\n",
       "    overflow: auto;\n",
       "  }\n",
       "  table, th, td {\n",
       "    border: 1px solid black;\n",
       "    border-collapse: collapse;\n",
       "  }\n",
       "  th, td {\n",
       "    padding: 5px;\n",
       "  }\n",
       "  th {\n",
       "    text-align: left;\n",
       "  }\n",
       "</style><div class='table-result-container'><table class='table-result'><thead style='background-color: white'><tr><th>QF_Teams</th><th>QF_Score</th></tr></thead><tbody><tr><td>Slovakia</td><td>2</td></tr><tr><td>Poland</td><td>0</td></tr><tr><td>Portugal</td><td>5</td></tr><tr><td>Germany</td><td>1</td></tr></tbody></table></div>"
      ]
     },
     "metadata": {
      "application/vnd.databricks.v1+output": {
       "addedWidgets": {},
       "aggData": [],
       "aggError": "",
       "aggOverflow": false,
       "aggSchema": [],
       "aggSeriesLimitReached": false,
       "aggType": "",
       "arguments": {},
       "columnCustomDisplayInfos": {},
       "data": [
        [
         "Slovakia",
         "2"
        ],
        [
         "Poland",
         "0"
        ],
        [
         "Portugal",
         "5"
        ],
        [
         "Germany",
         "1"
        ]
       ],
       "datasetInfos": [],
       "dbfsResultPath": null,
       "isJsonSchema": true,
       "metadata": {},
       "overflow": false,
       "plotOptions": {
        "customPlotOptions": {},
        "displayType": "table",
        "pivotAggregation": null,
        "pivotColumns": null,
        "xColumns": null,
        "yColumns": null
       },
       "removedWidgets": [],
       "schema": [
        {
         "metadata": "{}",
         "name": "QF_Teams",
         "type": "\"string\""
        },
        {
         "metadata": "{}",
         "name": "QF_Score",
         "type": "\"string\""
        }
       ],
       "type": "table"
      }
     },
     "output_type": "display_data"
    }
   ],
   "source": [
    "# calculating midpoint of the dataFrame\n",
    "midpoint_index2 = len(qf_vis) // 2\n",
    "\n",
    "# splitting dataFrame into two equal halves\n",
    "left_qf = qf_vis.iloc[:midpoint_index2]\n",
    "right_qf = qf_vis.iloc[midpoint_index2:]\n",
    "\n",
    "# index reset\n",
    "left_qf.reset_index(drop=True, inplace=True)\n",
    "right_qf.reset_index(drop=True, inplace=True)\n",
    "\n",
    "# displaying the split DataFrames\n",
    "display(left_qf)\n",
    "display(right_qf)"
   ]
  },
  {
   "cell_type": "code",
   "execution_count": 0,
   "metadata": {
    "application/vnd.databricks.v1+cell": {
     "cellMetadata": {
      "byteLimit": 2048000,
      "rowLimit": 10000
     },
     "inputWidgets": {},
     "nuid": "28886f67-e971-4b67-a250-be879e2ce5db",
     "showTitle": false,
     "title": ""
    }
   },
   "outputs": [],
   "source": [
    "qf_row_pd = pd.DataFrame({col: [''] for col in qf_vis.columns})"
   ]
  },
  {
   "cell_type": "code",
   "execution_count": 0,
   "metadata": {
    "application/vnd.databricks.v1+cell": {
     "cellMetadata": {
      "byteLimit": 2048000,
      "rowLimit": 10000
     },
     "inputWidgets": {},
     "nuid": "a3d0b68b-2ccf-4e53-9c1b-d1d2f4904144",
     "showTitle": false,
     "title": ""
    }
   },
   "outputs": [
    {
     "output_type": "display_data",
     "data": {
      "text/html": [
       "<style scoped>\n",
       "  .table-result-container {\n",
       "    max-height: 300px;\n",
       "    overflow: auto;\n",
       "  }\n",
       "  table, th, td {\n",
       "    border: 1px solid black;\n",
       "    border-collapse: collapse;\n",
       "  }\n",
       "  th, td {\n",
       "    padding: 5px;\n",
       "  }\n",
       "  th {\n",
       "    text-align: left;\n",
       "  }\n",
       "</style><div class='table-result-container'><table class='table-result'><thead style='background-color: white'><tr><th>L_QF_Teams</th><th>L_QF_Score</th></tr></thead><tbody><tr><td></td><td></td></tr><tr><td></td><td></td></tr><tr><td></td><td></td></tr><tr><td></td><td></td></tr><tr><td>Croatia</td><td>1</td></tr><tr><td>Slovenia</td><td>0</td></tr><tr><td></td><td></td></tr><tr><td></td><td></td></tr><tr><td></td><td></td></tr><tr><td></td><td></td></tr><tr><td>Scotland</td><td>0</td></tr><tr><td>Austria</td><td>5</td></tr><tr><td></td><td></td></tr><tr><td></td><td></td></tr><tr><td></td><td></td></tr><tr><td></td><td></td></tr></tbody></table></div>"
      ]
     },
     "metadata": {
      "application/vnd.databricks.v1+output": {
       "addedWidgets": {},
       "aggData": [],
       "aggError": "",
       "aggOverflow": false,
       "aggSchema": [],
       "aggSeriesLimitReached": false,
       "aggType": "",
       "arguments": {},
       "columnCustomDisplayInfos": {},
       "data": [
        [
         "",
         ""
        ],
        [
         "",
         ""
        ],
        [
         "",
         ""
        ],
        [
         "",
         ""
        ],
        [
         "Croatia",
         "1"
        ],
        [
         "Slovenia",
         "0"
        ],
        [
         "",
         ""
        ],
        [
         "",
         ""
        ],
        [
         "",
         ""
        ],
        [
         "",
         ""
        ],
        [
         "Scotland",
         "0"
        ],
        [
         "Austria",
         "5"
        ],
        [
         "",
         ""
        ],
        [
         "",
         ""
        ],
        [
         "",
         ""
        ],
        [
         "",
         ""
        ]
       ],
       "datasetInfos": [],
       "dbfsResultPath": null,
       "isJsonSchema": true,
       "metadata": {},
       "overflow": false,
       "plotOptions": {
        "customPlotOptions": {},
        "displayType": "table",
        "pivotAggregation": null,
        "pivotColumns": null,
        "xColumns": null,
        "yColumns": null
       },
       "removedWidgets": [],
       "schema": [
        {
         "metadata": "{}",
         "name": "L_QF_Teams",
         "type": "\"string\""
        },
        {
         "metadata": "{}",
         "name": "L_QF_Score",
         "type": "\"string\""
        }
       ],
       "type": "table"
      }
     },
     "output_type": "display_data"
    }
   ],
   "source": [
    "left_qf_grouped = [left_qf.iloc[i:i+2] for i in range(0, len(left_qf), 2)]\n",
    "\n",
    "for i in range(len(left_qf_grouped)):\n",
    "    if i < len(left_qf_grouped):\n",
    "        left_qf_grouped[i] = pd.concat([qf_row_pd, qf_row_pd, qf_row_pd,qf_row_pd, left_qf_grouped[i]], ignore_index=True)\n",
    "\n",
    "left_qf_spaced = pd.concat(left_qf_grouped).reset_index(drop=True)\n",
    "\n",
    "for _ in range(4):\n",
    "    left_qf_spaced = pd.concat([left_qf_spaced, qf_row_pd], ignore_index=True)\n",
    "\n",
    "lqf_new_column_name ={'QF_Teams': 'L_QF_Teams',\n",
    "                       'QF_Score': 'L_QF_Score'\n",
    "                       }\n",
    "left_qf_spaced = left_qf_spaced.rename(columns=lqf_new_column_name)\n",
    "\n",
    "display(left_qf_spaced)"
   ]
  },
  {
   "cell_type": "code",
   "execution_count": 0,
   "metadata": {
    "application/vnd.databricks.v1+cell": {
     "cellMetadata": {
      "byteLimit": 2048000,
      "rowLimit": 10000
     },
     "inputWidgets": {},
     "nuid": "bd59e7cf-34f0-455a-8d90-6945ee25e566",
     "showTitle": false,
     "title": ""
    }
   },
   "outputs": [
    {
     "output_type": "display_data",
     "data": {
      "text/html": [
       "<style scoped>\n",
       "  .table-result-container {\n",
       "    max-height: 300px;\n",
       "    overflow: auto;\n",
       "  }\n",
       "  table, th, td {\n",
       "    border: 1px solid black;\n",
       "    border-collapse: collapse;\n",
       "  }\n",
       "  th, td {\n",
       "    padding: 5px;\n",
       "  }\n",
       "  th {\n",
       "    text-align: left;\n",
       "  }\n",
       "</style><div class='table-result-container'><table class='table-result'><thead style='background-color: white'><tr><th>R_QF_Score</th><th>R_QF_Teams</th></tr></thead><tbody><tr><td></td><td></td></tr><tr><td></td><td></td></tr><tr><td></td><td></td></tr><tr><td></td><td></td></tr><tr><td>2</td><td>Slovakia</td></tr><tr><td>0</td><td>Poland</td></tr><tr><td></td><td></td></tr><tr><td></td><td></td></tr><tr><td></td><td></td></tr><tr><td></td><td></td></tr><tr><td>5</td><td>Portugal</td></tr><tr><td>1</td><td>Germany</td></tr><tr><td></td><td></td></tr><tr><td></td><td></td></tr><tr><td></td><td></td></tr><tr><td></td><td></td></tr></tbody></table></div>"
      ]
     },
     "metadata": {
      "application/vnd.databricks.v1+output": {
       "addedWidgets": {},
       "aggData": [],
       "aggError": "",
       "aggOverflow": false,
       "aggSchema": [],
       "aggSeriesLimitReached": false,
       "aggType": "",
       "arguments": {},
       "columnCustomDisplayInfos": {},
       "data": [
        [
         "",
         ""
        ],
        [
         "",
         ""
        ],
        [
         "",
         ""
        ],
        [
         "",
         ""
        ],
        [
         "2",
         "Slovakia"
        ],
        [
         "0",
         "Poland"
        ],
        [
         "",
         ""
        ],
        [
         "",
         ""
        ],
        [
         "",
         ""
        ],
        [
         "",
         ""
        ],
        [
         "5",
         "Portugal"
        ],
        [
         "1",
         "Germany"
        ],
        [
         "",
         ""
        ],
        [
         "",
         ""
        ],
        [
         "",
         ""
        ],
        [
         "",
         ""
        ]
       ],
       "datasetInfos": [],
       "dbfsResultPath": null,
       "isJsonSchema": true,
       "metadata": {},
       "overflow": false,
       "plotOptions": {
        "customPlotOptions": {},
        "displayType": "table",
        "pivotAggregation": null,
        "pivotColumns": null,
        "xColumns": null,
        "yColumns": null
       },
       "removedWidgets": [],
       "schema": [
        {
         "metadata": "{}",
         "name": "R_QF_Score",
         "type": "\"string\""
        },
        {
         "metadata": "{}",
         "name": "R_QF_Teams",
         "type": "\"string\""
        }
       ],
       "type": "table"
      }
     },
     "output_type": "display_data"
    }
   ],
   "source": [
    "right_qf_grouped = [right_qf.iloc[i:i+2] for i in range(0, len(left_qf), 2)]\n",
    "\n",
    "for i in range(len(right_qf_grouped)):\n",
    "    if i < len(right_qf_grouped):\n",
    "        right_qf_grouped[i] = pd.concat([qf_row_pd, qf_row_pd, qf_row_pd,qf_row_pd, right_qf_grouped[i]], ignore_index=True)\n",
    "\n",
    "right_qf_spaced = pd.concat(right_qf_grouped).reset_index(drop=True)\n",
    "\n",
    "for _ in range(4):\n",
    "    right_qf_spaced = pd.concat([right_qf_spaced, qf_row_pd], ignore_index=True)\n",
    "\n",
    "rqf_new_column_name ={'QF_Teams': 'R_QF_Teams',\n",
    "                       'QF_Score': 'R_QF_Score'\n",
    "                       }\n",
    "right_qf_spaced = right_qf_spaced.rename(columns=rqf_new_column_name)\n",
    "\n",
    "rqf_new_column_order = ['R_QF_Score', 'R_QF_Teams']\n",
    "right_qf_spaced = right_qf_spaced[rqf_new_column_order]\n",
    "\n",
    "display(right_qf_spaced)"
   ]
  },
  {
   "cell_type": "code",
   "execution_count": 0,
   "metadata": {
    "application/vnd.databricks.v1+cell": {
     "cellMetadata": {
      "byteLimit": 2048000,
      "rowLimit": 10000
     },
     "inputWidgets": {},
     "nuid": "f4f0abdf-da1c-4058-8f3f-f07c1e8e3d92",
     "showTitle": false,
     "title": ""
    }
   },
   "outputs": [
    {
     "output_type": "display_data",
     "data": {
      "text/html": [
       "<style scoped>\n",
       "  .table-result-container {\n",
       "    max-height: 300px;\n",
       "    overflow: auto;\n",
       "  }\n",
       "  table, th, td {\n",
       "    border: 1px solid black;\n",
       "    border-collapse: collapse;\n",
       "  }\n",
       "  th, td {\n",
       "    padding: 5px;\n",
       "  }\n",
       "  th {\n",
       "    text-align: left;\n",
       "  }\n",
       "</style><div class='table-result-container'><table class='table-result'><thead style='background-color: white'><tr><th>MatchID</th><th>Team1</th><th>Team1Goals</th><th>Team2Goals</th><th>Team2</th><th>MatchWinner</th><th>MatchStage</th></tr></thead><tbody><tr><td>13</td><td>Croatia</td><td>6</td><td>4</td><td>Austria</td><td>Croatia</td><td>SF</td></tr><tr><td>14</td><td>Slovakia</td><td>4</td><td>1</td><td>Portugal</td><td>Slovakia</td><td>SF</td></tr></tbody></table></div>"
      ]
     },
     "metadata": {
      "application/vnd.databricks.v1+output": {
       "addedWidgets": {},
       "aggData": [],
       "aggError": "",
       "aggOverflow": false,
       "aggSchema": [],
       "aggSeriesLimitReached": false,
       "aggType": "",
       "arguments": {},
       "columnCustomDisplayInfos": {},
       "data": [
        [
         "13",
         "Croatia",
         "6",
         "4",
         "Austria",
         "Croatia",
         "SF"
        ],
        [
         "14",
         "Slovakia",
         "4",
         "1",
         "Portugal",
         "Slovakia",
         "SF"
        ]
       ],
       "datasetInfos": [],
       "dbfsResultPath": null,
       "isJsonSchema": true,
       "metadata": {},
       "overflow": false,
       "plotOptions": {
        "customPlotOptions": {},
        "displayType": "table",
        "pivotAggregation": null,
        "pivotColumns": null,
        "xColumns": null,
        "yColumns": null
       },
       "removedWidgets": [],
       "schema": [
        {
         "metadata": "{}",
         "name": "MatchID",
         "type": "\"string\""
        },
        {
         "metadata": "{}",
         "name": "Team1",
         "type": "\"string\""
        },
        {
         "metadata": "{}",
         "name": "Team1Goals",
         "type": "\"string\""
        },
        {
         "metadata": "{}",
         "name": "Team2Goals",
         "type": "\"string\""
        },
        {
         "metadata": "{}",
         "name": "Team2",
         "type": "\"string\""
        },
        {
         "metadata": "{}",
         "name": "MatchWinner",
         "type": "\"string\""
        },
        {
         "metadata": "{}",
         "name": "MatchStage",
         "type": "\"string\""
        }
       ],
       "type": "table"
      }
     },
     "output_type": "display_data"
    }
   ],
   "source": [
    "sf = spark.sql(\"SELECT * FROM QualificationPlacement WHERE MatchStage = 'SF'\")\n",
    "sf_pd = sf.toPandas()\n",
    "sf_pd = sf_pd.applymap(lambda x: str(x).split(\".\")[0])\n",
    "\n",
    "display(sf_pd)"
   ]
  },
  {
   "cell_type": "code",
   "execution_count": 0,
   "metadata": {
    "application/vnd.databricks.v1+cell": {
     "cellMetadata": {
      "byteLimit": 2048000,
      "rowLimit": 10000
     },
     "inputWidgets": {},
     "nuid": "9589f6d9-83aa-49fd-bcdf-02fc02eaf19a",
     "showTitle": false,
     "title": ""
    }
   },
   "outputs": [
    {
     "output_type": "display_data",
     "data": {
      "text/html": [
       "<style scoped>\n",
       "  .table-result-container {\n",
       "    max-height: 300px;\n",
       "    overflow: auto;\n",
       "  }\n",
       "  table, th, td {\n",
       "    border: 1px solid black;\n",
       "    border-collapse: collapse;\n",
       "  }\n",
       "  th, td {\n",
       "    padding: 5px;\n",
       "  }\n",
       "  th {\n",
       "    text-align: left;\n",
       "  }\n",
       "</style><div class='table-result-container'><table class='table-result'><thead style='background-color: white'><tr><th>SF_Teams</th><th>SF_Score</th></tr></thead><tbody><tr><td>Croatia</td><td>6</td></tr><tr><td>Austria</td><td>4</td></tr><tr><td>Slovakia</td><td>4</td></tr><tr><td>Portugal</td><td>1</td></tr></tbody></table></div>"
      ]
     },
     "metadata": {
      "application/vnd.databricks.v1+output": {
       "addedWidgets": {},
       "aggData": [],
       "aggError": "",
       "aggOverflow": false,
       "aggSchema": [],
       "aggSeriesLimitReached": false,
       "aggType": "",
       "arguments": {},
       "columnCustomDisplayInfos": {},
       "data": [
        [
         "Croatia",
         "6"
        ],
        [
         "Austria",
         "4"
        ],
        [
         "Slovakia",
         "4"
        ],
        [
         "Portugal",
         "1"
        ]
       ],
       "datasetInfos": [],
       "dbfsResultPath": null,
       "isJsonSchema": true,
       "metadata": {},
       "overflow": false,
       "plotOptions": {
        "customPlotOptions": {},
        "displayType": "table",
        "pivotAggregation": null,
        "pivotColumns": null,
        "xColumns": null,
        "yColumns": null
       },
       "removedWidgets": [],
       "schema": [
        {
         "metadata": "{}",
         "name": "SF_Teams",
         "type": "\"string\""
        },
        {
         "metadata": "{}",
         "name": "SF_Score",
         "type": "\"string\""
        }
       ],
       "type": "table"
      }
     },
     "output_type": "display_data"
    }
   ],
   "source": [
    "#storing required data in df\n",
    "sf_vis = pd.DataFrame(columns=['SF_Teams', 'SF_Score'])\n",
    "\n",
    "#displaying all teams and respective scores in columns\n",
    "for index, row in sf_pd.iterrows():\n",
    "    team1 = row['Team1']\n",
    "    team1goals = row['Team1Goals']\n",
    "    team2 = row['Team2']\n",
    "    team2goals = row['Team2Goals']\n",
    "    sf_vis = pd.concat([sf_vis, pd.DataFrame({'SF_Teams': [team1], 'SF_Score': [team1goals]})], ignore_index=True)\n",
    "    sf_vis = pd.concat([sf_vis, pd.DataFrame({'SF_Teams': [team2], 'SF_Score': [team2goals]})], ignore_index=True)\n",
    "\n",
    "display(sf_vis)"
   ]
  },
  {
   "cell_type": "code",
   "execution_count": 0,
   "metadata": {
    "application/vnd.databricks.v1+cell": {
     "cellMetadata": {
      "byteLimit": 2048000,
      "rowLimit": 10000
     },
     "inputWidgets": {},
     "nuid": "0e7537e4-0c73-49c9-8d80-73885c91201a",
     "showTitle": false,
     "title": ""
    }
   },
   "outputs": [
    {
     "output_type": "display_data",
     "data": {
      "text/html": [
       "<style scoped>\n",
       "  .table-result-container {\n",
       "    max-height: 300px;\n",
       "    overflow: auto;\n",
       "  }\n",
       "  table, th, td {\n",
       "    border: 1px solid black;\n",
       "    border-collapse: collapse;\n",
       "  }\n",
       "  th, td {\n",
       "    padding: 5px;\n",
       "  }\n",
       "  th {\n",
       "    text-align: left;\n",
       "  }\n",
       "</style><div class='table-result-container'><table class='table-result'><thead style='background-color: white'><tr><th>SF_Teams</th><th>SF_Score</th></tr></thead><tbody><tr><td>Croatia</td><td>6</td></tr><tr><td>Austria</td><td>4</td></tr></tbody></table></div>"
      ]
     },
     "metadata": {
      "application/vnd.databricks.v1+output": {
       "addedWidgets": {},
       "aggData": [],
       "aggError": "",
       "aggOverflow": false,
       "aggSchema": [],
       "aggSeriesLimitReached": false,
       "aggType": "",
       "arguments": {},
       "columnCustomDisplayInfos": {},
       "data": [
        [
         "Croatia",
         "6"
        ],
        [
         "Austria",
         "4"
        ]
       ],
       "datasetInfos": [],
       "dbfsResultPath": null,
       "isJsonSchema": true,
       "metadata": {},
       "overflow": false,
       "plotOptions": {
        "customPlotOptions": {},
        "displayType": "table",
        "pivotAggregation": null,
        "pivotColumns": null,
        "xColumns": null,
        "yColumns": null
       },
       "removedWidgets": [],
       "schema": [
        {
         "metadata": "{}",
         "name": "SF_Teams",
         "type": "\"string\""
        },
        {
         "metadata": "{}",
         "name": "SF_Score",
         "type": "\"string\""
        }
       ],
       "type": "table"
      }
     },
     "output_type": "display_data"
    },
    {
     "output_type": "display_data",
     "data": {
      "text/html": [
       "<style scoped>\n",
       "  .table-result-container {\n",
       "    max-height: 300px;\n",
       "    overflow: auto;\n",
       "  }\n",
       "  table, th, td {\n",
       "    border: 1px solid black;\n",
       "    border-collapse: collapse;\n",
       "  }\n",
       "  th, td {\n",
       "    padding: 5px;\n",
       "  }\n",
       "  th {\n",
       "    text-align: left;\n",
       "  }\n",
       "</style><div class='table-result-container'><table class='table-result'><thead style='background-color: white'><tr><th>SF_Teams</th><th>SF_Score</th></tr></thead><tbody><tr><td>Slovakia</td><td>4</td></tr><tr><td>Portugal</td><td>1</td></tr></tbody></table></div>"
      ]
     },
     "metadata": {
      "application/vnd.databricks.v1+output": {
       "addedWidgets": {},
       "aggData": [],
       "aggError": "",
       "aggOverflow": false,
       "aggSchema": [],
       "aggSeriesLimitReached": false,
       "aggType": "",
       "arguments": {},
       "columnCustomDisplayInfos": {},
       "data": [
        [
         "Slovakia",
         "4"
        ],
        [
         "Portugal",
         "1"
        ]
       ],
       "datasetInfos": [],
       "dbfsResultPath": null,
       "isJsonSchema": true,
       "metadata": {},
       "overflow": false,
       "plotOptions": {
        "customPlotOptions": {},
        "displayType": "table",
        "pivotAggregation": null,
        "pivotColumns": null,
        "xColumns": null,
        "yColumns": null
       },
       "removedWidgets": [],
       "schema": [
        {
         "metadata": "{}",
         "name": "SF_Teams",
         "type": "\"string\""
        },
        {
         "metadata": "{}",
         "name": "SF_Score",
         "type": "\"string\""
        }
       ],
       "type": "table"
      }
     },
     "output_type": "display_data"
    }
   ],
   "source": [
    "# calculating midpoint of the dataFrame\n",
    "midpoint_index2 = len(sf_vis) // 2\n",
    "\n",
    "# splitting dataFrame into two equal halves\n",
    "left_sf = sf_vis.iloc[:midpoint_index2]\n",
    "right_sf = sf_vis.iloc[midpoint_index2:]\n",
    "\n",
    "# index reset\n",
    "left_sf.reset_index(drop=True, inplace=True)\n",
    "right_sf.reset_index(drop=True, inplace=True)\n",
    "\n",
    "# displaying the split DataFrames\n",
    "display(left_sf)\n",
    "display(right_sf)"
   ]
  },
  {
   "cell_type": "code",
   "execution_count": 0,
   "metadata": {
    "application/vnd.databricks.v1+cell": {
     "cellMetadata": {
      "byteLimit": 2048000,
      "rowLimit": 10000
     },
     "inputWidgets": {},
     "nuid": "8d927735-2bd9-4cea-854d-ac0b2f27771c",
     "showTitle": false,
     "title": ""
    }
   },
   "outputs": [],
   "source": [
    "sf_row_pd = pd.DataFrame({col: [''] for col in sf_vis.columns})"
   ]
  },
  {
   "cell_type": "code",
   "execution_count": 0,
   "metadata": {
    "application/vnd.databricks.v1+cell": {
     "cellMetadata": {
      "byteLimit": 2048000,
      "rowLimit": 10000
     },
     "inputWidgets": {},
     "nuid": "b5c90260-842b-46eb-aa42-937982f209f6",
     "showTitle": false,
     "title": ""
    }
   },
   "outputs": [
    {
     "output_type": "display_data",
     "data": {
      "text/html": [
       "<style scoped>\n",
       "  .table-result-container {\n",
       "    max-height: 300px;\n",
       "    overflow: auto;\n",
       "  }\n",
       "  table, th, td {\n",
       "    border: 1px solid black;\n",
       "    border-collapse: collapse;\n",
       "  }\n",
       "  th, td {\n",
       "    padding: 5px;\n",
       "  }\n",
       "  th {\n",
       "    text-align: left;\n",
       "  }\n",
       "</style><div class='table-result-container'><table class='table-result'><thead style='background-color: white'><tr><th>L_SF_Teams</th><th>L_SF_Score</th></tr></thead><tbody><tr><td></td><td></td></tr><tr><td></td><td></td></tr><tr><td></td><td></td></tr><tr><td></td><td></td></tr><tr><td></td><td></td></tr><tr><td></td><td></td></tr><tr><td>Croatia</td><td>6</td></tr><tr><td></td><td></td></tr><tr><td></td><td></td></tr><tr><td>Austria</td><td>4</td></tr><tr><td></td><td></td></tr><tr><td></td><td></td></tr><tr><td></td><td></td></tr><tr><td></td><td></td></tr><tr><td></td><td></td></tr><tr><td></td><td></td></tr></tbody></table></div>"
      ]
     },
     "metadata": {
      "application/vnd.databricks.v1+output": {
       "addedWidgets": {},
       "aggData": [],
       "aggError": "",
       "aggOverflow": false,
       "aggSchema": [],
       "aggSeriesLimitReached": false,
       "aggType": "",
       "arguments": {},
       "columnCustomDisplayInfos": {},
       "data": [
        [
         "",
         ""
        ],
        [
         "",
         ""
        ],
        [
         "",
         ""
        ],
        [
         "",
         ""
        ],
        [
         "",
         ""
        ],
        [
         "",
         ""
        ],
        [
         "Croatia",
         "6"
        ],
        [
         "",
         ""
        ],
        [
         "",
         ""
        ],
        [
         "Austria",
         "4"
        ],
        [
         "",
         ""
        ],
        [
         "",
         ""
        ],
        [
         "",
         ""
        ],
        [
         "",
         ""
        ],
        [
         "",
         ""
        ],
        [
         "",
         ""
        ]
       ],
       "datasetInfos": [],
       "dbfsResultPath": null,
       "isJsonSchema": true,
       "metadata": {},
       "overflow": false,
       "plotOptions": {
        "customPlotOptions": {},
        "displayType": "table",
        "pivotAggregation": null,
        "pivotColumns": null,
        "xColumns": null,
        "yColumns": null
       },
       "removedWidgets": [],
       "schema": [
        {
         "metadata": "{}",
         "name": "L_SF_Teams",
         "type": "\"string\""
        },
        {
         "metadata": "{}",
         "name": "L_SF_Score",
         "type": "\"string\""
        }
       ],
       "type": "table"
      }
     },
     "output_type": "display_data"
    }
   ],
   "source": [
    "left_sf_grouped = [left_sf.iloc[i:i+1] for i in range(0, len(left_sf), 1)]\n",
    "\n",
    "for i in range(len(left_sf_grouped)):\n",
    "    if i < len(left_sf_grouped):\n",
    "        left_sf_grouped[i] = pd.concat([left_sf_grouped[i], sf_row_pd, sf_row_pd], ignore_index=True)\n",
    "\n",
    "left_sf_spaced = pd.concat(left_sf_grouped).reset_index(drop=True)\n",
    "\n",
    "for _ in range(6):\n",
    "    left_sf_spaced = pd.concat([sf_row_pd, left_sf_spaced], ignore_index=True)\n",
    "\n",
    "for _ in range(4):\n",
    "    left_sf_spaced = pd.concat([left_sf_spaced, sf_row_pd], ignore_index=True)\n",
    "\n",
    "lsf_new_column_name ={'SF_Teams': 'L_SF_Teams',\n",
    "                       'SF_Score': 'L_SF_Score'\n",
    "                       }\n",
    "\n",
    "left_sf_spaced = left_sf_spaced.rename(columns=lsf_new_column_name)\n",
    "\n",
    "display(left_sf_spaced)"
   ]
  },
  {
   "cell_type": "code",
   "execution_count": 0,
   "metadata": {
    "application/vnd.databricks.v1+cell": {
     "cellMetadata": {
      "byteLimit": 2048000,
      "rowLimit": 10000
     },
     "inputWidgets": {},
     "nuid": "b007bf61-3b9e-4fc6-b341-d3ff09004974",
     "showTitle": false,
     "title": ""
    }
   },
   "outputs": [
    {
     "output_type": "display_data",
     "data": {
      "text/html": [
       "<style scoped>\n",
       "  .table-result-container {\n",
       "    max-height: 300px;\n",
       "    overflow: auto;\n",
       "  }\n",
       "  table, th, td {\n",
       "    border: 1px solid black;\n",
       "    border-collapse: collapse;\n",
       "  }\n",
       "  th, td {\n",
       "    padding: 5px;\n",
       "  }\n",
       "  th {\n",
       "    text-align: left;\n",
       "  }\n",
       "</style><div class='table-result-container'><table class='table-result'><thead style='background-color: white'><tr><th>R_SF_Score</th><th>R_SF_Teams</th></tr></thead><tbody><tr><td></td><td></td></tr><tr><td></td><td></td></tr><tr><td></td><td></td></tr><tr><td></td><td></td></tr><tr><td></td><td></td></tr><tr><td></td><td></td></tr><tr><td>4</td><td>Slovakia</td></tr><tr><td></td><td></td></tr><tr><td></td><td></td></tr><tr><td>1</td><td>Portugal</td></tr><tr><td></td><td></td></tr><tr><td></td><td></td></tr><tr><td></td><td></td></tr><tr><td></td><td></td></tr><tr><td></td><td></td></tr><tr><td></td><td></td></tr></tbody></table></div>"
      ]
     },
     "metadata": {
      "application/vnd.databricks.v1+output": {
       "addedWidgets": {},
       "aggData": [],
       "aggError": "",
       "aggOverflow": false,
       "aggSchema": [],
       "aggSeriesLimitReached": false,
       "aggType": "",
       "arguments": {},
       "columnCustomDisplayInfos": {},
       "data": [
        [
         "",
         ""
        ],
        [
         "",
         ""
        ],
        [
         "",
         ""
        ],
        [
         "",
         ""
        ],
        [
         "",
         ""
        ],
        [
         "",
         ""
        ],
        [
         "4",
         "Slovakia"
        ],
        [
         "",
         ""
        ],
        [
         "",
         ""
        ],
        [
         "1",
         "Portugal"
        ],
        [
         "",
         ""
        ],
        [
         "",
         ""
        ],
        [
         "",
         ""
        ],
        [
         "",
         ""
        ],
        [
         "",
         ""
        ],
        [
         "",
         ""
        ]
       ],
       "datasetInfos": [],
       "dbfsResultPath": null,
       "isJsonSchema": true,
       "metadata": {},
       "overflow": false,
       "plotOptions": {
        "customPlotOptions": {},
        "displayType": "table",
        "pivotAggregation": null,
        "pivotColumns": null,
        "xColumns": null,
        "yColumns": null
       },
       "removedWidgets": [],
       "schema": [
        {
         "metadata": "{}",
         "name": "R_SF_Score",
         "type": "\"string\""
        },
        {
         "metadata": "{}",
         "name": "R_SF_Teams",
         "type": "\"string\""
        }
       ],
       "type": "table"
      }
     },
     "output_type": "display_data"
    }
   ],
   "source": [
    "right_sf_grouped = [right_sf.iloc[i:i+1] for i in range(0, len(right_sf), 1)]\n",
    "\n",
    "for i in range(len(right_sf_grouped)):\n",
    "    if i < len(right_sf_grouped):\n",
    "        right_sf_grouped[i] = pd.concat([right_sf_grouped[i], sf_row_pd, sf_row_pd], ignore_index=True)\n",
    "\n",
    "right_sf_spaced = pd.concat(right_sf_grouped).reset_index(drop=True)\n",
    "\n",
    "for _ in range(6):\n",
    "    right_sf_spaced = pd.concat([sf_row_pd, right_sf_spaced], ignore_index=True)\n",
    "\n",
    "for _ in range(4):\n",
    "    right_sf_spaced = pd.concat([right_sf_spaced, sf_row_pd], ignore_index=True)\n",
    "\n",
    "rsf_new_column_name ={'SF_Teams': 'R_SF_Teams',\n",
    "                       'SF_Score': 'R_SF_Score'\n",
    "                       }\n",
    "\n",
    "right_sf_spaced = right_sf_spaced.rename(columns=rsf_new_column_name)\n",
    "\n",
    "rsf_new_column_order = ['R_SF_Score', 'R_SF_Teams']\n",
    "right_sf_spaced = right_sf_spaced[rsf_new_column_order]\n",
    "\n",
    "display(right_sf_spaced)"
   ]
  },
  {
   "cell_type": "code",
   "execution_count": 0,
   "metadata": {
    "application/vnd.databricks.v1+cell": {
     "cellMetadata": {
      "byteLimit": 2048000,
      "rowLimit": 10000
     },
     "inputWidgets": {},
     "nuid": "7e72e4dd-2f60-46cb-90c8-c7c780601400",
     "showTitle": false,
     "title": ""
    }
   },
   "outputs": [
    {
     "output_type": "display_data",
     "data": {
      "text/html": [
       "<style scoped>\n",
       "  .table-result-container {\n",
       "    max-height: 300px;\n",
       "    overflow: auto;\n",
       "  }\n",
       "  table, th, td {\n",
       "    border: 1px solid black;\n",
       "    border-collapse: collapse;\n",
       "  }\n",
       "  th, td {\n",
       "    padding: 5px;\n",
       "  }\n",
       "  th {\n",
       "    text-align: left;\n",
       "  }\n",
       "</style><div class='table-result-container'><table class='table-result'><thead style='background-color: white'><tr><th>MatchID</th><th>Team1</th><th>Team1Goals</th><th>Team2Goals</th><th>Team2</th><th>MatchWinner</th><th>MatchStage</th></tr></thead><tbody><tr><td>16</td><td>Croatia</td><td>2</td><td>5</td><td>Slovakia</td><td>Slovakia</td><td>FIN</td></tr></tbody></table></div>"
      ]
     },
     "metadata": {
      "application/vnd.databricks.v1+output": {
       "addedWidgets": {},
       "aggData": [],
       "aggError": "",
       "aggOverflow": false,
       "aggSchema": [],
       "aggSeriesLimitReached": false,
       "aggType": "",
       "arguments": {},
       "columnCustomDisplayInfos": {},
       "data": [
        [
         "16",
         "Croatia",
         "2",
         "5",
         "Slovakia",
         "Slovakia",
         "FIN"
        ]
       ],
       "datasetInfos": [],
       "dbfsResultPath": null,
       "isJsonSchema": true,
       "metadata": {},
       "overflow": false,
       "plotOptions": {
        "customPlotOptions": {},
        "displayType": "table",
        "pivotAggregation": null,
        "pivotColumns": null,
        "xColumns": null,
        "yColumns": null
       },
       "removedWidgets": [],
       "schema": [
        {
         "metadata": "{}",
         "name": "MatchID",
         "type": "\"string\""
        },
        {
         "metadata": "{}",
         "name": "Team1",
         "type": "\"string\""
        },
        {
         "metadata": "{}",
         "name": "Team1Goals",
         "type": "\"string\""
        },
        {
         "metadata": "{}",
         "name": "Team2Goals",
         "type": "\"string\""
        },
        {
         "metadata": "{}",
         "name": "Team2",
         "type": "\"string\""
        },
        {
         "metadata": "{}",
         "name": "MatchWinner",
         "type": "\"string\""
        },
        {
         "metadata": "{}",
         "name": "MatchStage",
         "type": "\"string\""
        }
       ],
       "type": "table"
      }
     },
     "output_type": "display_data"
    }
   ],
   "source": [
    "fin = spark.sql(\"SELECT * FROM QualificationPlacement WHERE MatchStage = 'FIN'\")\n",
    "fin_pd = fin.toPandas()\n",
    "fin_pd = fin_pd.applymap(lambda x: str(x).split(\".\")[0])\n",
    "\n",
    "display(fin_pd)"
   ]
  },
  {
   "cell_type": "code",
   "execution_count": 0,
   "metadata": {
    "application/vnd.databricks.v1+cell": {
     "cellMetadata": {
      "byteLimit": 2048000,
      "rowLimit": 10000
     },
     "inputWidgets": {},
     "nuid": "e8b172c5-6f5c-4205-8cbf-ed9afac79a77",
     "showTitle": false,
     "title": ""
    }
   },
   "outputs": [
    {
     "output_type": "display_data",
     "data": {
      "text/html": [
       "<style scoped>\n",
       "  .table-result-container {\n",
       "    max-height: 300px;\n",
       "    overflow: auto;\n",
       "  }\n",
       "  table, th, td {\n",
       "    border: 1px solid black;\n",
       "    border-collapse: collapse;\n",
       "  }\n",
       "  th, td {\n",
       "    padding: 5px;\n",
       "  }\n",
       "  th {\n",
       "    text-align: left;\n",
       "  }\n",
       "</style><div class='table-result-container'><table class='table-result'><thead style='background-color: white'><tr><th>Fin_Teams</th><th>Fin_Score</th></tr></thead><tbody><tr><td>Croatia</td><td>2</td></tr><tr><td>Slovakia</td><td>5</td></tr></tbody></table></div>"
      ]
     },
     "metadata": {
      "application/vnd.databricks.v1+output": {
       "addedWidgets": {},
       "aggData": [],
       "aggError": "",
       "aggOverflow": false,
       "aggSchema": [],
       "aggSeriesLimitReached": false,
       "aggType": "",
       "arguments": {},
       "columnCustomDisplayInfos": {},
       "data": [
        [
         "Croatia",
         "2"
        ],
        [
         "Slovakia",
         "5"
        ]
       ],
       "datasetInfos": [],
       "dbfsResultPath": null,
       "isJsonSchema": true,
       "metadata": {},
       "overflow": false,
       "plotOptions": {
        "customPlotOptions": {},
        "displayType": "table",
        "pivotAggregation": null,
        "pivotColumns": null,
        "xColumns": null,
        "yColumns": null
       },
       "removedWidgets": [],
       "schema": [
        {
         "metadata": "{}",
         "name": "Fin_Teams",
         "type": "\"string\""
        },
        {
         "metadata": "{}",
         "name": "Fin_Score",
         "type": "\"string\""
        }
       ],
       "type": "table"
      }
     },
     "output_type": "display_data"
    }
   ],
   "source": [
    "#storing required data in df\n",
    "fin_vis = pd.DataFrame(columns=['Fin_Teams', 'Fin_Score'])\n",
    "\n",
    "#displaying all teams and respective scores in columns\n",
    "for index, row in fin_pd.iterrows():\n",
    "    team1 = row['Team1']\n",
    "    team1goals = row['Team1Goals']\n",
    "    team2 = row['Team2']\n",
    "    team2goals = row['Team2Goals']\n",
    "    fin_vis = pd.concat([fin_vis, pd.DataFrame({'Fin_Teams': [team1], 'Fin_Score': [team1goals]})], ignore_index=True)\n",
    "    fin_vis = pd.concat([fin_vis, pd.DataFrame({'Fin_Teams': [team2], 'Fin_Score': [team2goals]})], ignore_index=True)\n",
    "\n",
    "display(fin_vis)"
   ]
  },
  {
   "cell_type": "code",
   "execution_count": 0,
   "metadata": {
    "application/vnd.databricks.v1+cell": {
     "cellMetadata": {
      "byteLimit": 2048000,
      "rowLimit": 10000
     },
     "inputWidgets": {},
     "nuid": "25db7794-8d9c-4288-b63a-4aebb8cd352f",
     "showTitle": false,
     "title": ""
    }
   },
   "outputs": [],
   "source": [
    "fin_row_pd = pd.DataFrame({col: [''] for col in fin_vis.columns})"
   ]
  },
  {
   "cell_type": "code",
   "execution_count": 0,
   "metadata": {
    "application/vnd.databricks.v1+cell": {
     "cellMetadata": {
      "byteLimit": 2048000,
      "rowLimit": 10000
     },
     "inputWidgets": {},
     "nuid": "02736524-fb2b-4585-8679-1609bde07733",
     "showTitle": false,
     "title": ""
    }
   },
   "outputs": [
    {
     "output_type": "display_data",
     "data": {
      "text/html": [
       "<style scoped>\n",
       "  .table-result-container {\n",
       "    max-height: 300px;\n",
       "    overflow: auto;\n",
       "  }\n",
       "  table, th, td {\n",
       "    border: 1px solid black;\n",
       "    border-collapse: collapse;\n",
       "  }\n",
       "  th, td {\n",
       "    padding: 5px;\n",
       "  }\n",
       "  th {\n",
       "    text-align: left;\n",
       "  }\n",
       "</style><div class='table-result-container'><table class='table-result'><thead style='background-color: white'><tr><th>L_Fin_Teams</th><th>L_Fin_Score</th></tr></thead><tbody><tr><td></td><td></td></tr><tr><td></td><td></td></tr><tr><td></td><td></td></tr><tr><td></td><td></td></tr><tr><td></td><td></td></tr><tr><td></td><td></td></tr><tr><td></td><td></td></tr><tr><td></td><td></td></tr><tr><td>Croatia</td><td>2</td></tr><tr><td></td><td></td></tr><tr><td></td><td></td></tr><tr><td></td><td></td></tr><tr><td></td><td></td></tr><tr><td></td><td></td></tr><tr><td></td><td></td></tr><tr><td></td><td></td></tr></tbody></table></div>"
      ]
     },
     "metadata": {
      "application/vnd.databricks.v1+output": {
       "addedWidgets": {},
       "aggData": [],
       "aggError": "",
       "aggOverflow": false,
       "aggSchema": [],
       "aggSeriesLimitReached": false,
       "aggType": "",
       "arguments": {},
       "columnCustomDisplayInfos": {},
       "data": [
        [
         "",
         ""
        ],
        [
         "",
         ""
        ],
        [
         "",
         ""
        ],
        [
         "",
         ""
        ],
        [
         "",
         ""
        ],
        [
         "",
         ""
        ],
        [
         "",
         ""
        ],
        [
         "",
         ""
        ],
        [
         "Croatia",
         "2"
        ],
        [
         "",
         ""
        ],
        [
         "",
         ""
        ],
        [
         "",
         ""
        ],
        [
         "",
         ""
        ],
        [
         "",
         ""
        ],
        [
         "",
         ""
        ],
        [
         "",
         ""
        ]
       ],
       "datasetInfos": [],
       "dbfsResultPath": null,
       "isJsonSchema": true,
       "metadata": {},
       "overflow": false,
       "plotOptions": {
        "customPlotOptions": {},
        "displayType": "table",
        "pivotAggregation": null,
        "pivotColumns": null,
        "xColumns": null,
        "yColumns": null
       },
       "removedWidgets": [],
       "schema": [
        {
         "metadata": "{}",
         "name": "L_Fin_Teams",
         "type": "\"string\""
        },
        {
         "metadata": "{}",
         "name": "L_Fin_Score",
         "type": "\"string\""
        }
       ],
       "type": "table"
      }
     },
     "output_type": "display_data"
    },
    {
     "output_type": "display_data",
     "data": {
      "text/html": [
       "<style scoped>\n",
       "  .table-result-container {\n",
       "    max-height: 300px;\n",
       "    overflow: auto;\n",
       "  }\n",
       "  table, th, td {\n",
       "    border: 1px solid black;\n",
       "    border-collapse: collapse;\n",
       "  }\n",
       "  th, td {\n",
       "    padding: 5px;\n",
       "  }\n",
       "  th {\n",
       "    text-align: left;\n",
       "  }\n",
       "</style><div class='table-result-container'><table class='table-result'><thead style='background-color: white'><tr><th>R_Fin_Score</th><th>R_Fin_Teams</th></tr></thead><tbody><tr><td></td><td></td></tr><tr><td></td><td></td></tr><tr><td></td><td></td></tr><tr><td></td><td></td></tr><tr><td></td><td></td></tr><tr><td></td><td></td></tr><tr><td></td><td></td></tr><tr><td></td><td></td></tr><tr><td>5</td><td>Slovakia</td></tr><tr><td></td><td></td></tr><tr><td></td><td></td></tr><tr><td></td><td></td></tr><tr><td></td><td></td></tr><tr><td></td><td></td></tr><tr><td></td><td></td></tr><tr><td></td><td></td></tr></tbody></table></div>"
      ]
     },
     "metadata": {
      "application/vnd.databricks.v1+output": {
       "addedWidgets": {},
       "aggData": [],
       "aggError": "",
       "aggOverflow": false,
       "aggSchema": [],
       "aggSeriesLimitReached": false,
       "aggType": "",
       "arguments": {},
       "columnCustomDisplayInfos": {},
       "data": [
        [
         "",
         ""
        ],
        [
         "",
         ""
        ],
        [
         "",
         ""
        ],
        [
         "",
         ""
        ],
        [
         "",
         ""
        ],
        [
         "",
         ""
        ],
        [
         "",
         ""
        ],
        [
         "",
         ""
        ],
        [
         "5",
         "Slovakia"
        ],
        [
         "",
         ""
        ],
        [
         "",
         ""
        ],
        [
         "",
         ""
        ],
        [
         "",
         ""
        ],
        [
         "",
         ""
        ],
        [
         "",
         ""
        ],
        [
         "",
         ""
        ]
       ],
       "datasetInfos": [],
       "dbfsResultPath": null,
       "isJsonSchema": true,
       "metadata": {},
       "overflow": false,
       "plotOptions": {
        "customPlotOptions": {},
        "displayType": "table",
        "pivotAggregation": null,
        "pivotColumns": null,
        "xColumns": null,
        "yColumns": null
       },
       "removedWidgets": [],
       "schema": [
        {
         "metadata": "{}",
         "name": "R_Fin_Score",
         "type": "\"string\""
        },
        {
         "metadata": "{}",
         "name": "R_Fin_Teams",
         "type": "\"string\""
        }
       ],
       "type": "table"
      }
     },
     "output_type": "display_data"
    }
   ],
   "source": [
    "fin1 = fin_vis.iloc[:1]  # First value\n",
    "fin2 = fin_vis.iloc[1:]  # Second value\n",
    "\n",
    "for _ in range(8):\n",
    "    fin1 = pd.concat([fin_row_pd, fin1], ignore_index=True)\n",
    "    fin2 = pd.concat([fin_row_pd, fin2], ignore_index=True)\n",
    "\n",
    "for _ in range(7):\n",
    "    fin1 = pd.concat([fin1, fin_row_pd], ignore_index=True)\n",
    "    fin2 = pd.concat([fin2, fin_row_pd], ignore_index=True)\n",
    "\n",
    "lfin_new_column_name ={'Fin_Teams': 'L_Fin_Teams',\n",
    "                       'Fin_Score': 'L_Fin_Score'\n",
    "                       }\n",
    "rfin_new_column_name ={'Fin_Teams': 'R_Fin_Teams',\n",
    "                       'Fin_Score': 'R_Fin_Score'\n",
    "                       }\n",
    "\n",
    "fin1 = fin1.rename(columns=lfin_new_column_name)\n",
    "fin2 = fin2.rename(columns=rfin_new_column_name)\n",
    "\n",
    "rfin_new_column_order = ['R_Fin_Score', 'R_Fin_Teams']\n",
    "fin2 = fin2[rfin_new_column_order]\n",
    "\n",
    "display(fin1)\n",
    "display(fin2)"
   ]
  },
  {
   "cell_type": "code",
   "execution_count": 0,
   "metadata": {
    "application/vnd.databricks.v1+cell": {
     "cellMetadata": {
      "byteLimit": 2048000,
      "rowLimit": 10000
     },
     "inputWidgets": {},
     "nuid": "48e33e4e-76b0-4d47-9b64-4152cff77ddd",
     "showTitle": false,
     "title": ""
    }
   },
   "outputs": [
    {
     "output_type": "display_data",
     "data": {
      "text/html": [
       "<style scoped>\n",
       "  .table-result-container {\n",
       "    max-height: 300px;\n",
       "    overflow: auto;\n",
       "  }\n",
       "  table, th, td {\n",
       "    border: 1px solid black;\n",
       "    border-collapse: collapse;\n",
       "  }\n",
       "  th, td {\n",
       "    padding: 5px;\n",
       "  }\n",
       "  th {\n",
       "    text-align: left;\n",
       "  }\n",
       "</style><div class='table-result-container'><table class='table-result'><thead style='background-color: white'><tr><th>TournamentWinner</th></tr></thead><tbody><tr><td></td></tr><tr><td></td></tr><tr><td></td></tr><tr><td></td></tr><tr><td></td></tr><tr><td></td></tr><tr><td></td></tr><tr><td>Slovakia</td></tr><tr><td></td></tr><tr><td></td></tr><tr><td></td></tr><tr><td></td></tr><tr><td></td></tr><tr><td></td></tr><tr><td></td></tr><tr><td></td></tr></tbody></table></div>"
      ]
     },
     "metadata": {
      "application/vnd.databricks.v1+output": {
       "addedWidgets": {},
       "aggData": [],
       "aggError": "",
       "aggOverflow": false,
       "aggSchema": [],
       "aggSeriesLimitReached": false,
       "aggType": "",
       "arguments": {},
       "columnCustomDisplayInfos": {},
       "data": [
        [
         ""
        ],
        [
         ""
        ],
        [
         ""
        ],
        [
         ""
        ],
        [
         ""
        ],
        [
         ""
        ],
        [
         ""
        ],
        [
         "Slovakia"
        ],
        [
         ""
        ],
        [
         ""
        ],
        [
         ""
        ],
        [
         ""
        ],
        [
         ""
        ],
        [
         ""
        ],
        [
         ""
        ],
        [
         ""
        ]
       ],
       "datasetInfos": [],
       "dbfsResultPath": null,
       "isJsonSchema": true,
       "metadata": {},
       "overflow": false,
       "plotOptions": {
        "customPlotOptions": {},
        "displayType": "table",
        "pivotAggregation": null,
        "pivotColumns": null,
        "xColumns": null,
        "yColumns": null
       },
       "removedWidgets": [],
       "schema": [
        {
         "metadata": "{}",
         "name": "TournamentWinner",
         "type": "\"string\""
        }
       ],
       "type": "table"
      }
     },
     "output_type": "display_data"
    }
   ],
   "source": [
    "winner = spark.sql(\"SELECT MatchWinner FROM QualificationPlacement WHERE MatchStage = 'FIN'\")\n",
    "winner_pd = winner.toPandas()\n",
    "winner_pd = winner_pd.applymap(lambda x: str(x).split(\".\")[0])\n",
    "\n",
    "win_row_pd = pd.DataFrame({col: [''] for col in winner_pd.columns})\n",
    "\n",
    "for _ in range(7):\n",
    "    winner_pd = pd.concat([win_row_pd, winner_pd], ignore_index=True)\n",
    "\n",
    "for _ in range(8):\n",
    "    winner_pd = pd.concat([winner_pd, win_row_pd], ignore_index=True)\n",
    "\n",
    "fin_col = {\"MatchWinner\":\"TournamentWinner\"}\n",
    "winner_pd = winner_pd.rename(columns = fin_col)\n",
    "display(winner_pd)"
   ]
  },
  {
   "cell_type": "code",
   "execution_count": 0,
   "metadata": {
    "application/vnd.databricks.v1+cell": {
     "cellMetadata": {
      "byteLimit": 2048000,
      "rowLimit": 10000
     },
     "inputWidgets": {},
     "nuid": "df7a60e2-7daf-49cc-9d0c-866c1fa882e4",
     "showTitle": false,
     "title": ""
    }
   },
   "outputs": [
    {
     "output_type": "display_data",
     "data": {
      "text/html": [
       "<style scoped>\n",
       "  .table-result-container {\n",
       "    max-height: 300px;\n",
       "    overflow: auto;\n",
       "  }\n",
       "  table, th, td {\n",
       "    border: 1px solid black;\n",
       "    border-collapse: collapse;\n",
       "  }\n",
       "  th, td {\n",
       "    padding: 5px;\n",
       "  }\n",
       "  th {\n",
       "    text-align: left;\n",
       "  }\n",
       "</style><div class='table-result-container'><table class='table-result'><thead style='background-color: white'><tr><th>L_Grp/Pos</th><th>L_Country</th><th>L_MP</th><th>L_W</th><th>L-D</th><th>L_L</th><th>L-GF</th><th>L_GA</th><th>L_GD</th><th>L_Pts</th><th>L_R16_Teams</th><th>L_R16_Score</th><th>L_QF_Teams</th><th>L_QF_Score</th><th>L_SF_Teams</th><th>L_SF_Score</th><th>L_Fin_Teams</th><th>L_Fin_Score</th><th>TournamentWinner</th><th>R_Fin_Score</th><th>R_Fin_Teams</th><th>R_SF_Score</th><th>R_SF_Teams</th><th>R_QF_Score</th><th>R_QF_Teams</th><th>R_R16_Score</th><th>R_R16_Teams</th><th>R_Grp/Pos</th><th>R_Country</th><th>R_MP</th><th>R_W</th><th>R-D</th><th>R_L</th><th>R-GF</th><th>R_GA</th><th>R_GD</th><th>R_Pts</th></tr></thead><tbody><tr><td>A1</td><td>Switzerland</td><td>3</td><td>2</td><td>0</td><td>1</td><td>11</td><td>7</td><td>4</td><td>6</td><td></td><td></td><td></td><td></td><td></td><td></td><td></td><td></td><td></td><td></td><td></td><td></td><td></td><td></td><td></td><td></td><td></td><td>D1</td><td>Poland</td><td>3</td><td>2</td><td>0</td><td>1</td><td>14</td><td>11</td><td>3</td><td>6</td></tr><tr><td>A2</td><td>Germany</td><td>3</td><td>2</td><td>0</td><td>1</td><td>7</td><td>10</td><td>-3</td><td>6</td><td>Croatia</td><td>5</td><td></td><td></td><td></td><td></td><td></td><td></td><td></td><td></td><td></td><td></td><td></td><td></td><td></td><td>2</td><td>Slovakia</td><td>D2</td><td>Austria</td><td>3</td><td>1</td><td>1</td><td>1</td><td>10</td><td>9</td><td>1</td><td>4</td></tr><tr><td>A3</td><td>Scotland</td><td>3</td><td>1</td><td>0</td><td>2</td><td>7</td><td>7</td><td>0</td><td>3</td><td>Belgium</td><td>1</td><td></td><td></td><td></td><td></td><td></td><td></td><td></td><td></td><td></td><td></td><td></td><td></td><td></td><td>1</td><td>France</td><td>D3</td><td>France</td><td>3</td><td>1</td><td>1</td><td>1</td><td>11</td><td>12</td><td>-1</td><td>4</td></tr><tr><td>A4</td><td>Hungary</td><td>3</td><td>1</td><td>0</td><td>2</td><td>8</td><td>9</td><td>-1</td><td>3</td><td></td><td></td><td></td><td></td><td></td><td></td><td></td><td></td><td></td><td></td><td></td><td></td><td></td><td></td><td></td><td></td><td></td><td>D4</td><td>Netherlands</td><td>3</td><td>0</td><td>2</td><td>1</td><td>10</td><td>13</td><td>-3</td><td>2</td></tr><tr><td></td><td></td><td></td><td></td><td></td><td></td><td></td><td></td><td></td><td></td><td></td><td></td><td>Croatia</td><td>1</td><td></td><td></td><td></td><td></td><td></td><td></td><td></td><td></td><td></td><td>2</td><td>Slovakia</td><td></td><td></td><td></td><td></td><td></td><td></td><td></td><td></td><td></td><td></td><td></td><td></td></tr><tr><td></td><td></td><td></td><td></td><td></td><td></td><td></td><td></td><td></td><td></td><td>Switzerland</td><td>0</td><td>Slovenia</td><td>0</td><td></td><td></td><td></td><td></td><td></td><td></td><td></td><td></td><td></td><td>0</td><td>Poland</td><td>5</td><td>Poland</td><td></td><td></td><td></td><td></td><td></td><td></td><td></td><td></td><td></td><td></td></tr><tr><td>B1</td><td>Croatia</td><td>3</td><td>2</td><td>1</td><td>0</td><td>9</td><td>3</td><td>6</td><td>7</td><td>Slovenia</td><td>1</td><td></td><td></td><td>Croatia</td><td>6</td><td></td><td></td><td></td><td></td><td></td><td>4</td><td>Slovakia</td><td></td><td></td><td>2</td><td>Turkey</td><td>E1</td><td>Slovakia</td><td>3</td><td>2</td><td>0</td><td>1</td><td>11</td><td>7</td><td>4</td><td>6</td></tr><tr><td>B2</td><td>Italy</td><td>3</td><td>1</td><td>2</td><td>0</td><td>4</td><td>3</td><td>1</td><td>5</td><td></td><td></td><td></td><td></td><td></td><td></td><td></td><td></td><td>Slovakia</td><td></td><td></td><td></td><td></td><td></td><td></td><td></td><td></td><td>E2</td><td>Romania</td><td>3</td><td>2</td><td>0</td><td>1</td><td>8</td><td>8</td><td>0</td><td>6</td></tr><tr><td>B3</td><td>Albania</td><td>3</td><td>1</td><td>0</td><td>2</td><td>5</td><td>7</td><td>-2</td><td>3</td><td></td><td></td><td></td><td></td><td></td><td></td><td>Croatia</td><td>2</td><td></td><td>5</td><td>Slovakia</td><td></td><td></td><td></td><td></td><td></td><td></td><td>E3</td><td>Belgium</td><td>3</td><td>1</td><td>0</td><td>2</td><td>10</td><td>7</td><td>3</td><td>3</td></tr><tr><td>B4</td><td>Spain</td><td>3</td><td>0</td><td>1</td><td>2</td><td>5</td><td>10</td><td>-5</td><td>1</td><td>Czech Republic</td><td>1</td><td></td><td></td><td>Austria</td><td>4</td><td></td><td></td><td></td><td></td><td></td><td>1</td><td>Portugal</td><td></td><td></td><td>1</td><td>Denmark</td><td>E4</td><td>Ukraine</td><td>3</td><td>1</td><td>0</td><td>2</td><td>8</td><td>15</td><td>-7</td><td>3</td></tr><tr><td></td><td></td><td></td><td></td><td></td><td></td><td></td><td></td><td></td><td></td><td>Scotland</td><td>2</td><td>Scotland</td><td>0</td><td></td><td></td><td></td><td></td><td></td><td></td><td></td><td></td><td></td><td>5</td><td>Portugal</td><td>5</td><td>Portugal</td><td></td><td></td><td></td><td></td><td></td><td></td><td></td><td></td><td></td><td></td></tr><tr><td></td><td></td><td></td><td></td><td></td><td></td><td></td><td></td><td></td><td></td><td></td><td></td><td>Austria</td><td>5</td><td></td><td></td><td></td><td></td><td></td><td></td><td></td><td></td><td></td><td>1</td><td>Germany</td><td></td><td></td><td></td><td></td><td></td><td></td><td></td><td></td><td></td><td></td><td></td><td></td></tr><tr><td>C1</td><td>Denmark</td><td>3</td><td>3</td><td>0</td><td>0</td><td>15</td><td>5</td><td>10</td><td>9</td><td></td><td></td><td></td><td></td><td></td><td></td><td></td><td></td><td></td><td></td><td></td><td></td><td></td><td></td><td></td><td></td><td></td><td>F1</td><td>Czech Republic</td><td>3</td><td>2</td><td>0</td><td>1</td><td>13</td><td>8</td><td>5</td><td>6</td></tr><tr><td>C2</td><td>Slovenia</td><td>3</td><td>2</td><td>0</td><td>1</td><td>12</td><td>8</td><td>4</td><td>6</td><td>Austria</td><td>5</td><td></td><td></td><td></td><td></td><td></td><td></td><td></td><td></td><td></td><td></td><td></td><td></td><td></td><td>2</td><td>Germany</td><td>F2</td><td>Turkey</td><td>3</td><td>2</td><td>0</td><td>1</td><td>14</td><td>12</td><td>2</td><td>6</td></tr><tr><td>C3</td><td>England</td><td>3</td><td>1</td><td>0</td><td>2</td><td>8</td><td>12</td><td>-4</td><td>3</td><td>Romania</td><td>2</td><td></td><td></td><td></td><td></td><td></td><td></td><td></td><td></td><td></td><td></td><td></td><td></td><td></td><td>1</td><td>Italy</td><td>F3</td><td>Portugal</td><td>3</td><td>1</td><td>1</td><td>1</td><td>8</td><td>9</td><td>-1</td><td>4</td></tr><tr><td>C4</td><td>Serbia</td><td>3</td><td>0</td><td>0</td><td>3</td><td>5</td><td>15</td><td>-10</td><td>0</td><td></td><td></td><td></td><td></td><td></td><td></td><td></td><td></td><td></td><td></td><td></td><td></td><td></td><td></td><td></td><td></td><td></td><td>F4</td><td>Greece</td><td>3</td><td>0</td><td>1</td><td>2</td><td>3</td><td>9</td><td>-6</td><td>1</td></tr></tbody></table></div>"
      ]
     },
     "metadata": {
      "application/vnd.databricks.v1+output": {
       "addedWidgets": {},
       "aggData": [],
       "aggError": "",
       "aggOverflow": false,
       "aggSchema": [],
       "aggSeriesLimitReached": false,
       "aggType": "",
       "arguments": {},
       "columnCustomDisplayInfos": {},
       "data": [
        [
         "A1",
         "Switzerland",
         "3",
         "2",
         "0",
         "1",
         "11",
         "7",
         "4",
         "6",
         "",
         "",
         "",
         "",
         "",
         "",
         "",
         "",
         "",
         "",
         "",
         "",
         "",
         "",
         "",
         "",
         "",
         "D1",
         "Poland",
         "3",
         "2",
         "0",
         "1",
         "14",
         "11",
         "3",
         "6"
        ],
        [
         "A2",
         "Germany",
         "3",
         "2",
         "0",
         "1",
         "7",
         "10",
         "-3",
         "6",
         "Croatia",
         "5",
         "",
         "",
         "",
         "",
         "",
         "",
         "",
         "",
         "",
         "",
         "",
         "",
         "",
         "2",
         "Slovakia",
         "D2",
         "Austria",
         "3",
         "1",
         "1",
         "1",
         "10",
         "9",
         "1",
         "4"
        ],
        [
         "A3",
         "Scotland",
         "3",
         "1",
         "0",
         "2",
         "7",
         "7",
         "0",
         "3",
         "Belgium",
         "1",
         "",
         "",
         "",
         "",
         "",
         "",
         "",
         "",
         "",
         "",
         "",
         "",
         "",
         "1",
         "France",
         "D3",
         "France",
         "3",
         "1",
         "1",
         "1",
         "11",
         "12",
         "-1",
         "4"
        ],
        [
         "A4",
         "Hungary",
         "3",
         "1",
         "0",
         "2",
         "8",
         "9",
         "-1",
         "3",
         "",
         "",
         "",
         "",
         "",
         "",
         "",
         "",
         "",
         "",
         "",
         "",
         "",
         "",
         "",
         "",
         "",
         "D4",
         "Netherlands",
         "3",
         "0",
         "2",
         "1",
         "10",
         "13",
         "-3",
         "2"
        ],
        [
         "",
         "",
         "",
         "",
         "",
         "",
         "",
         "",
         "",
         "",
         "",
         "",
         "Croatia",
         "1",
         "",
         "",
         "",
         "",
         "",
         "",
         "",
         "",
         "",
         "2",
         "Slovakia",
         "",
         "",
         "",
         "",
         "",
         "",
         "",
         "",
         "",
         "",
         "",
         ""
        ],
        [
         "",
         "",
         "",
         "",
         "",
         "",
         "",
         "",
         "",
         "",
         "Switzerland",
         "0",
         "Slovenia",
         "0",
         "",
         "",
         "",
         "",
         "",
         "",
         "",
         "",
         "",
         "0",
         "Poland",
         "5",
         "Poland",
         "",
         "",
         "",
         "",
         "",
         "",
         "",
         "",
         "",
         ""
        ],
        [
         "B1",
         "Croatia",
         "3",
         "2",
         "1",
         "0",
         "9",
         "3",
         "6",
         "7",
         "Slovenia",
         "1",
         "",
         "",
         "Croatia",
         "6",
         "",
         "",
         "",
         "",
         "",
         "4",
         "Slovakia",
         "",
         "",
         "2",
         "Turkey",
         "E1",
         "Slovakia",
         "3",
         "2",
         "0",
         "1",
         "11",
         "7",
         "4",
         "6"
        ],
        [
         "B2",
         "Italy",
         "3",
         "1",
         "2",
         "0",
         "4",
         "3",
         "1",
         "5",
         "",
         "",
         "",
         "",
         "",
         "",
         "",
         "",
         "Slovakia",
         "",
         "",
         "",
         "",
         "",
         "",
         "",
         "",
         "E2",
         "Romania",
         "3",
         "2",
         "0",
         "1",
         "8",
         "8",
         "0",
         "6"
        ],
        [
         "B3",
         "Albania",
         "3",
         "1",
         "0",
         "2",
         "5",
         "7",
         "-2",
         "3",
         "",
         "",
         "",
         "",
         "",
         "",
         "Croatia",
         "2",
         "",
         "5",
         "Slovakia",
         "",
         "",
         "",
         "",
         "",
         "",
         "E3",
         "Belgium",
         "3",
         "1",
         "0",
         "2",
         "10",
         "7",
         "3",
         "3"
        ],
        [
         "B4",
         "Spain",
         "3",
         "0",
         "1",
         "2",
         "5",
         "10",
         "-5",
         "1",
         "Czech Republic",
         "1",
         "",
         "",
         "Austria",
         "4",
         "",
         "",
         "",
         "",
         "",
         "1",
         "Portugal",
         "",
         "",
         "1",
         "Denmark",
         "E4",
         "Ukraine",
         "3",
         "1",
         "0",
         "2",
         "8",
         "15",
         "-7",
         "3"
        ],
        [
         "",
         "",
         "",
         "",
         "",
         "",
         "",
         "",
         "",
         "",
         "Scotland",
         "2",
         "Scotland",
         "0",
         "",
         "",
         "",
         "",
         "",
         "",
         "",
         "",
         "",
         "5",
         "Portugal",
         "5",
         "Portugal",
         "",
         "",
         "",
         "",
         "",
         "",
         "",
         "",
         "",
         ""
        ],
        [
         "",
         "",
         "",
         "",
         "",
         "",
         "",
         "",
         "",
         "",
         "",
         "",
         "Austria",
         "5",
         "",
         "",
         "",
         "",
         "",
         "",
         "",
         "",
         "",
         "1",
         "Germany",
         "",
         "",
         "",
         "",
         "",
         "",
         "",
         "",
         "",
         "",
         "",
         ""
        ],
        [
         "C1",
         "Denmark",
         "3",
         "3",
         "0",
         "0",
         "15",
         "5",
         "10",
         "9",
         "",
         "",
         "",
         "",
         "",
         "",
         "",
         "",
         "",
         "",
         "",
         "",
         "",
         "",
         "",
         "",
         "",
         "F1",
         "Czech Republic",
         "3",
         "2",
         "0",
         "1",
         "13",
         "8",
         "5",
         "6"
        ],
        [
         "C2",
         "Slovenia",
         "3",
         "2",
         "0",
         "1",
         "12",
         "8",
         "4",
         "6",
         "Austria",
         "5",
         "",
         "",
         "",
         "",
         "",
         "",
         "",
         "",
         "",
         "",
         "",
         "",
         "",
         "2",
         "Germany",
         "F2",
         "Turkey",
         "3",
         "2",
         "0",
         "1",
         "14",
         "12",
         "2",
         "6"
        ],
        [
         "C3",
         "England",
         "3",
         "1",
         "0",
         "2",
         "8",
         "12",
         "-4",
         "3",
         "Romania",
         "2",
         "",
         "",
         "",
         "",
         "",
         "",
         "",
         "",
         "",
         "",
         "",
         "",
         "",
         "1",
         "Italy",
         "F3",
         "Portugal",
         "3",
         "1",
         "1",
         "1",
         "8",
         "9",
         "-1",
         "4"
        ],
        [
         "C4",
         "Serbia",
         "3",
         "0",
         "0",
         "3",
         "5",
         "15",
         "-10",
         "0",
         "",
         "",
         "",
         "",
         "",
         "",
         "",
         "",
         "",
         "",
         "",
         "",
         "",
         "",
         "",
         "",
         "",
         "F4",
         "Greece",
         "3",
         "0",
         "1",
         "2",
         "3",
         "9",
         "-6",
         "1"
        ]
       ],
       "datasetInfos": [],
       "dbfsResultPath": null,
       "isJsonSchema": true,
       "metadata": {},
       "overflow": false,
       "plotOptions": {
        "customPlotOptions": {},
        "displayType": "table",
        "pivotAggregation": null,
        "pivotColumns": null,
        "xColumns": null,
        "yColumns": null
       },
       "removedWidgets": [],
       "schema": [
        {
         "metadata": "{}",
         "name": "L_Grp/Pos",
         "type": "\"string\""
        },
        {
         "metadata": "{}",
         "name": "L_Country",
         "type": "\"string\""
        },
        {
         "metadata": "{}",
         "name": "L_MP",
         "type": "\"string\""
        },
        {
         "metadata": "{}",
         "name": "L_W",
         "type": "\"string\""
        },
        {
         "metadata": "{}",
         "name": "L-D",
         "type": "\"string\""
        },
        {
         "metadata": "{}",
         "name": "L_L",
         "type": "\"string\""
        },
        {
         "metadata": "{}",
         "name": "L-GF",
         "type": "\"string\""
        },
        {
         "metadata": "{}",
         "name": "L_GA",
         "type": "\"string\""
        },
        {
         "metadata": "{}",
         "name": "L_GD",
         "type": "\"string\""
        },
        {
         "metadata": "{}",
         "name": "L_Pts",
         "type": "\"string\""
        },
        {
         "metadata": "{}",
         "name": "L_R16_Teams",
         "type": "\"string\""
        },
        {
         "metadata": "{}",
         "name": "L_R16_Score",
         "type": "\"string\""
        },
        {
         "metadata": "{}",
         "name": "L_QF_Teams",
         "type": "\"string\""
        },
        {
         "metadata": "{}",
         "name": "L_QF_Score",
         "type": "\"string\""
        },
        {
         "metadata": "{}",
         "name": "L_SF_Teams",
         "type": "\"string\""
        },
        {
         "metadata": "{}",
         "name": "L_SF_Score",
         "type": "\"string\""
        },
        {
         "metadata": "{}",
         "name": "L_Fin_Teams",
         "type": "\"string\""
        },
        {
         "metadata": "{}",
         "name": "L_Fin_Score",
         "type": "\"string\""
        },
        {
         "metadata": "{}",
         "name": "TournamentWinner",
         "type": "\"string\""
        },
        {
         "metadata": "{}",
         "name": "R_Fin_Score",
         "type": "\"string\""
        },
        {
         "metadata": "{}",
         "name": "R_Fin_Teams",
         "type": "\"string\""
        },
        {
         "metadata": "{}",
         "name": "R_SF_Score",
         "type": "\"string\""
        },
        {
         "metadata": "{}",
         "name": "R_SF_Teams",
         "type": "\"string\""
        },
        {
         "metadata": "{}",
         "name": "R_QF_Score",
         "type": "\"string\""
        },
        {
         "metadata": "{}",
         "name": "R_QF_Teams",
         "type": "\"string\""
        },
        {
         "metadata": "{}",
         "name": "R_R16_Score",
         "type": "\"string\""
        },
        {
         "metadata": "{}",
         "name": "R_R16_Teams",
         "type": "\"string\""
        },
        {
         "metadata": "{}",
         "name": "R_Grp/Pos",
         "type": "\"string\""
        },
        {
         "metadata": "{}",
         "name": "R_Country",
         "type": "\"string\""
        },
        {
         "metadata": "{}",
         "name": "R_MP",
         "type": "\"string\""
        },
        {
         "metadata": "{}",
         "name": "R_W",
         "type": "\"string\""
        },
        {
         "metadata": "{}",
         "name": "R-D",
         "type": "\"string\""
        },
        {
         "metadata": "{}",
         "name": "R_L",
         "type": "\"string\""
        },
        {
         "metadata": "{}",
         "name": "R-GF",
         "type": "\"string\""
        },
        {
         "metadata": "{}",
         "name": "R_GA",
         "type": "\"string\""
        },
        {
         "metadata": "{}",
         "name": "R_GD",
         "type": "\"string\""
        },
        {
         "metadata": "{}",
         "name": "R_Pts",
         "type": "\"string\""
        }
       ],
       "type": "table"
      }
     },
     "output_type": "display_data"
    }
   ],
   "source": [
    "# Concatenating DataFrames with keys\n",
    "knockout_df = pd.concat([left_gs_spaced,\n",
    "                        left_r16_spaced, \n",
    "                        left_qf_spaced, \n",
    "                        left_sf_spaced,\n",
    "                        fin1,\n",
    "                        winner_pd,\n",
    "                        fin2,\n",
    "                        right_sf_spaced,\n",
    "                        right_qf_spaced,\n",
    "                        right_r16_spaced,\n",
    "                        right_gs_spaced\n",
    "                         ], \n",
    "                        axis=1, \n",
    "                        # keys=['left_gs', 'left_r16', 'left_qf', 'left_sf', 'fin1', 'winner', 'fin2', 'right_sf', 'right_qf', 'right_r16', 'right_gs']\n",
    "                        )\n",
    "\n",
    "# Displaying the concatenated DataFrame\n",
    "display(knockout_df)"
   ]
  },
  {
   "cell_type": "markdown",
   "metadata": {
    "application/vnd.databricks.v1+cell": {
     "cellMetadata": {
      "byteLimit": 2048000,
      "rowLimit": 10000
     },
     "inputWidgets": {},
     "nuid": "dfb907c1-38af-40ee-94e5-082aecb27774",
     "showTitle": false,
     "title": ""
    }
   },
   "source": [
    "#Podium Position\n",
    "Just for fun (idk how to use matplotlib properly. GPT Helped)"
   ]
  },
  {
   "cell_type": "code",
   "execution_count": 0,
   "metadata": {
    "application/vnd.databricks.v1+cell": {
     "cellMetadata": {
      "byteLimit": 2048000,
      "rowLimit": 10000
     },
     "inputWidgets": {},
     "nuid": "9aa43c11-ed28-4a12-a9b8-f3fde714cdc9",
     "showTitle": false,
     "title": ""
    }
   },
   "outputs": [
    {
     "output_type": "display_data",
     "data": {
      "text/html": [
       "<style scoped>\n",
       "  .table-result-container {\n",
       "    max-height: 300px;\n",
       "    overflow: auto;\n",
       "  }\n",
       "  table, th, td {\n",
       "    border: 1px solid black;\n",
       "    border-collapse: collapse;\n",
       "  }\n",
       "  th, td {\n",
       "    padding: 5px;\n",
       "  }\n",
       "  th {\n",
       "    text-align: left;\n",
       "  }\n",
       "</style><div class='table-result-container'><table class='table-result'><thead style='background-color: white'><tr><th>Euro_Cup_Winners</th></tr></thead><tbody><tr><td>Slovakia</td></tr></tbody></table></div>"
      ]
     },
     "metadata": {
      "application/vnd.databricks.v1+output": {
       "addedWidgets": {},
       "aggData": [],
       "aggError": "",
       "aggOverflow": false,
       "aggSchema": [],
       "aggSeriesLimitReached": false,
       "aggType": "",
       "arguments": {},
       "columnCustomDisplayInfos": {},
       "data": [
        [
         "Slovakia"
        ]
       ],
       "datasetInfos": [],
       "dbfsResultPath": null,
       "isJsonSchema": true,
       "metadata": {},
       "overflow": false,
       "plotOptions": {
        "customPlotOptions": {},
        "displayType": "table",
        "pivotAggregation": null,
        "pivotColumns": null,
        "xColumns": null,
        "yColumns": null
       },
       "removedWidgets": [],
       "schema": [
        {
         "metadata": "{\"__CHAR_VARCHAR_TYPE_STRING\":\"varchar(53)\"}",
         "name": "Euro_Cup_Winners",
         "type": "\"string\""
        }
       ],
       "type": "table"
      }
     },
     "output_type": "display_data"
    },
    {
     "output_type": "display_data",
     "data": {
      "text/html": [
       "<style scoped>\n",
       "  .table-result-container {\n",
       "    max-height: 300px;\n",
       "    overflow: auto;\n",
       "  }\n",
       "  table, th, td {\n",
       "    border: 1px solid black;\n",
       "    border-collapse: collapse;\n",
       "  }\n",
       "  th, td {\n",
       "    padding: 5px;\n",
       "  }\n",
       "  th {\n",
       "    text-align: left;\n",
       "  }\n",
       "</style><div class='table-result-container'><table class='table-result'><thead style='background-color: white'><tr><th>Euro_Cup_RunnersUp</th></tr></thead><tbody><tr><td>Croatia</td></tr></tbody></table></div>"
      ]
     },
     "metadata": {
      "application/vnd.databricks.v1+output": {
       "addedWidgets": {},
       "aggData": [],
       "aggError": "",
       "aggOverflow": false,
       "aggSchema": [],
       "aggSeriesLimitReached": false,
       "aggType": "",
       "arguments": {},
       "columnCustomDisplayInfos": {},
       "data": [
        [
         "Croatia"
        ]
       ],
       "datasetInfos": [],
       "dbfsResultPath": null,
       "isJsonSchema": true,
       "metadata": {},
       "overflow": false,
       "plotOptions": {
        "customPlotOptions": {},
        "displayType": "table",
        "pivotAggregation": null,
        "pivotColumns": null,
        "xColumns": null,
        "yColumns": null
       },
       "removedWidgets": [],
       "schema": [
        {
         "metadata": "{}",
         "name": "Euro_Cup_RunnersUp",
         "type": "\"string\""
        }
       ],
       "type": "table"
      }
     },
     "output_type": "display_data"
    },
    {
     "output_type": "display_data",
     "data": {
      "text/html": [
       "<style scoped>\n",
       "  .table-result-container {\n",
       "    max-height: 300px;\n",
       "    overflow: auto;\n",
       "  }\n",
       "  table, th, td {\n",
       "    border: 1px solid black;\n",
       "    border-collapse: collapse;\n",
       "  }\n",
       "  th, td {\n",
       "    padding: 5px;\n",
       "  }\n",
       "  th {\n",
       "    text-align: left;\n",
       "  }\n",
       "</style><div class='table-result-container'><table class='table-result'><thead style='background-color: white'><tr><th>Euro_Cup_ThirdPlace</th></tr></thead><tbody><tr><td>Portugal</td></tr></tbody></table></div>"
      ]
     },
     "metadata": {
      "application/vnd.databricks.v1+output": {
       "addedWidgets": {},
       "aggData": [],
       "aggError": "",
       "aggOverflow": false,
       "aggSchema": [],
       "aggSeriesLimitReached": false,
       "aggType": "",
       "arguments": {},
       "columnCustomDisplayInfos": {},
       "data": [
        [
         "Portugal"
        ]
       ],
       "datasetInfos": [],
       "dbfsResultPath": null,
       "isJsonSchema": true,
       "metadata": {},
       "overflow": false,
       "plotOptions": {
        "customPlotOptions": {},
        "displayType": "table",
        "pivotAggregation": null,
        "pivotColumns": null,
        "xColumns": null,
        "yColumns": null
       },
       "removedWidgets": [],
       "schema": [
        {
         "metadata": "{\"__CHAR_VARCHAR_TYPE_STRING\":\"varchar(53)\"}",
         "name": "Euro_Cup_ThirdPlace",
         "type": "\"string\""
        }
       ],
       "type": "table"
      }
     },
     "output_type": "display_data"
    }
   ],
   "source": [
    "import matplotlib.pyplot as plt\n",
    "\n",
    "first = spark.sql(\"SELECT MatchWinner AS Euro_Cup_Winners FROM QualificationPlacement WHERE MatchStage = 'FIN'\")\n",
    "second = spark.sql(\"SELECT CASE WHEN Team1 = MatchWinner THEN Team2 ELSE Team1  END AS Euro_Cup_RunnersUp FROM QualificationPlacement WHERE MatchStage = 'FIN'\")\n",
    "third = spark.sql(\"SELECT MatchWinner AS Euro_Cup_ThirdPlace FROM QualificationPlacement WHERE MatchStage = 'TP'\")\n",
    "display(first)\n",
    "display(second)\n",
    "display(third)"
   ]
  },
  {
   "cell_type": "code",
   "execution_count": 0,
   "metadata": {
    "application/vnd.databricks.v1+cell": {
     "cellMetadata": {
      "byteLimit": 2048000,
      "rowLimit": 10000
     },
     "inputWidgets": {},
     "nuid": "69fa6245-4667-43ed-b470-6f0e09d21a86",
     "showTitle": false,
     "title": ""
    }
   },
   "outputs": [
    {
     "output_type": "display_data",
     "data": {
      "image/png": "[encoded data removed]"
     },
     "metadata": {
      "application/vnd.databricks.v1+output": {
       "addedWidgets": {},
       "arguments": {},
       "data": "data:image/png;base64,iVBORw0KGgoAAAANSUhEUgAAAdAAAAF1CAYAAABYjLtdAAAAOXRFWHRTb2Z0d2FyZQBNYXRwbG90bGliIHZlcnNpb24zLjUuMSwgaHR0cHM6Ly9tYXRwbG90bGliLm9yZy/YYfK9AAAACXBIWXMAAAsTAAALEwEAmpwYAAA0FUlEQVR4nO3dd5xcdb3/8ddntpfZbEmym2x6I4RQAgEpUkWQEkBBUREBr6hc7AWvci+CFyx4vSIKP64FkWpBOihFqYKEUNIr6SHZZHuv8/39cWY2u5vZze7ZMpM97+fjMY+ZOXPKZzcn895zzvd8v+acQ0RERAYmlOgCREREDkQKUBERER8UoCIiIj4oQEVERHxQgIqIiPigABUREfFBASoiAJjZNDNzZpYaff9XM7ss0XWJJCsFqIxaZrbZzJrMrL7L45cjuP1PmtmS6HZ3RgPp/cOwncvNrCO6nVoze8fMzh3sep1zZznnfj8UNYqMRgpQGe0WOedyuzy+ONAVmGdA/1fM7OvALcAPgGJgCnA7cP5At99PrznncoF84LfAn8ysYJi2JSIoQCWgzOx6M7u3y/uepy9fMLObzOyfQCMww8yON7M3zKwm+nx8L+seA3wfuNo595BzrsE51+ace9w5963oPHeZ2Y1dljnFzLZ3eb/ZzL5jZqvMrMrMfmdmmfv7uZxzEeBOIAuYaWZjzOxuM9tjZlvM7D9jfwyYWYqZ/Y+ZlZvZRuCcHj/HC2b22QH8vm40s1ejR8KPm1mRmd0XPSp+w8ym7a9+kQOJAlSkd5cCnwPCQB3wJHArUAT8L/CkmRXFWe44IBN4eJDbvwQ4E5gJzAH+c38LRAPts0A9sB74BTAGmAGcDHwauCI6+5XAucACYCFw0SDr/Tje76w0WvNrwO+AQmA18L1Brl8kqShAZbR7xMyquzyuHMCydznnVjrn2oEzgPXOuXucc+3OuQeANcCiOMsVAeXR5Qbjl865bc65SuAm4BN9zHusmVUDu6LzfRgvRD8OfMc5V+ec2wz8FC/kAD4G3NJlGz8cZL2/c86965yrAf4KvOucey76e/gzXlCLjBqpiS5AZJhd4Jx7zuey27q8nghs6fH5FryjrZ4qgLFmljrIEO26/S3RGnrzL+dctwZKZlYMpNG97q41T4yzjcEo6/K6Kc773EGuXySp6AhUgqoByO7yviTOPF2HKnoPmNrj8ynAjjjLvQa0ABcMcvuTe2zrvT7WF0850Eb3urvWvDPONnrTn3pFAkUBKkH1DnCSmU2JNvr5zn7mfwqYE701JdXMLgbmAU/0nDF6CvM64DYzu8DMss0szczOMrObu2z/bDMrNLMS4Ktxtnm1mU0ys0LgWuCPA/kBnXMdwJ+Am8wsbGZTga8DscZAfwK+HN1GAfAffazuHQb2+xIZ9RSgMto93uM+0IcBnHPP4gXSMuBN4gRhV865CrwGN9/AO0V7DXCuc668l/l/ihdW/wnswTtV+kXgkegs9wBLgc3AM8QPx/ujn20E3gVujDPP/nwJ7+hxI/BKdJ13Rj/7NfB0tI63gId6W8lAf18iQWAaUFsk+ZjZZuCzg7h+KyLDTEegIiIiPihARUREfNApXBERER90BCoiIuKDAlRERMSHAfVENHbsWDdt2rRhKkVERCS5vPnmm+XOuXHxPhtQgE6bNo0lS5YMTVUiIiJJzsx67eJSp3BFRER8UICKiIj4oAAVERHxQQEqIiLigwJURETEBwWoiIiIDwpQERERHxSgIiIiPihARUREfFCAioiI+KAAFRER8UEBKiIi4oMCVERExIcBjcYiMiqtsURXcOCb6xJdgciI0xGoiIiIDwpQERERHxSgIiIiPihARUREfFCAioiI+KAAFRER8UEBKiIi4oMCVERExAcFqIiIiA8KUBERER8UoCIiIj4oQEVERHxQgIqIiPigABUREfFBASoiIuKDAlRERMQHBaiIiIgPClAREREfFKAiIiI+KEBFRER8UICKiIj4oAAVERHxQQEqIiLigwJURETEBwWoiIiIDwpQERERHxSgIiIiPihARUREfFCAioiI+KAAFRER8UEBKiIi4oMCVERExAcFqIiIiA8KUBERER8UoCIiIj4oQEVERHxQgIqIiPigABUREfFBASoiIuKDAlRERMQHBaiIiIgPClAREREfFKAiIiI+KEBFRER8UICKiIj4oAAVERHxQQEqIiLigwJURETEBwWoiIiIDwpQERERHxSgIiIiPqQmcuMvvvhiIjc/Kpx88smJLkFEJJB0BCoiIuKDAlRERMQHBaiIiIgPClAREREfFKAiIiI+KEBFRER8UICKiIj4oAAVERHxQQEqIiLigwJURETEBwWoiIiIDwpQERERHxSgIiIiPihARUREfFCAioiI+KAAFRER8UEBKiIi4oMCVERExAcFqIiIiA8KUBERER8UoCIiIj4oQEVERHxQgIqIiPigABUREfFBASoiIuKDAlRERMQHBaiIiIgPClAREREfFKAiIiI+KEBFRER8UICKiIj4oAAVERHxQQEqIiLigwJURETEBwWoiIiIDwpQERERHxSgIiIiPihARUREfFCAioiI+KAAFRER8UEBKiIi4oMCVERExAcFqIiIiA8KUBERER8UoCIiIj6kJroAEdnXq2/D60thexnU1kNHpO/5DfjtTSNSmohEKUBFksijf4dv3gwbtw98WQWoyMhSgIokidvvhy9FQ9C5vuc16z6P2fDVJSLx6RqoSBLYuA2++iPvdXER3HkTrH7Se28Gv7oBVjwGT94BX/4U5GZ70y+7AN59BjY+k7DSRQJLR6AiSeD2B6C9HUIheOY3MH9O98/HF8G8Wd7jrJPgG1fABV+Eux+F7Ey47brE1C0SZDoCFUkCz7/uHVGed+q+4RnP5Anw1P/BmDDc8Uf4+2vDX6OIdKcjUJEksHmH93z8gvift7btO614LFzxYfjZ7+E3D8IHjhu++mRkvHX9UYku4YB35PVvjti2dAQqkgTqGr3nySXdp2dmRD9viL/ckfO859eXDU9dItI7BahIEsjJ8p4jPVrf5oe959gRak9t7d7zrvLhqUtEeqcAFUkC00u957IeQTh3hne7yotvxF/ujeXec3ra8NUmIvEpQEWSwJHzvKBctq779FOO9p5ffhOe+Wf3z95YDnc+5DU+mj97ZOoUkb0UoCJJ4LRjvefnerSmvewCyEj3Xi+6Ci7+Gnz3Z97ziZ+Cllbvs0vPG7FSRSRKrXBFksCiU73TsNt3eUeaZ5zgTZ9aCj/8Gnz9x971zge7dJgQ64no1GPgyo+OfM0iQacAFUkC4RyoW+I1Ikrr8b/yq5fBuEK47hewqUsfuTlZ8PmL4aaveh0wiMjIUoCKJIm0PhoCXbLIe2za7jU0ys6Cg2f0vYyIDC8FqMgBZPok7yEiiacTPyIiIj4oQEVERHzQKVyREbT1vb2vp0yMP92vrusTkeGnABUZQdM/6D2bQfuKvdOnnT64QbF7rk9Ehp8CVGQEOefvMxFJPgpQkRF02QUDmy4iyUsBKjKCfveDgU0XkeSlVrgiIiI+KEBFRoH6XgbcFpHhowAVSQI/v9v/snUNcMZnh64WEekfBahIEvjGzfDAkwNfrr4Bzvg3eH3Z0NckIn1TgIokgUgELv/OvoNm96WuAc68UuEpkigKUJEkMH2SN97nhV+Gxf0IxLoG+NCV8No73vuLzxrW8kQkDgWoSBJ45jdQXAQNTXDOF2Dtpt7nrWuAsz7XPTzvvXlEyhSRLhSgIklg5hR46v8gLxcqqr3rmjvK9p2vPhqer77tvf/Yh7zw1IDaIiNP/+1EksSCefDwLyAjHbaXeSFaWb338/oG+FCX8PzomXDfTyAlJSHligSeAlQkiZz6Pu+I0gzWbPJO5zY2xQ/P+/9H4SmSSApQkSRz4Rlw2395ncsvXg4f/lL38LxI4SmSFNQXrkgS+vzFUFYO198Gz722d6SWj3wQHlB4iiQFBWgcubm5ZGRkkJKSgvVjkMaysjitPUQG6bqrYU8V3Ha/d0r3w6fDH/9X4SmSLBSgURkZGUydOpXx48cTGmCTRgWo9Nf3bxvY/EX5MCYMHR1w8Ay46Y7e573u6kGVJiIDpAAF8vLymD9/Pqmp+nXI8Lr+Nu9o0o8f/KrvzxWgIiMr8ImRkpLCIYcc0hmeZWVl1NbWMnv2bAB27NhBU1MTGRkZFBYWkpOT0zlfdXV1osqWA1jseuZQ8hvKIuJf4AN04sSJpKWlAbB69Wr27NkD0Bmg1dXVVFRUALBp0yaKioo46KCDGD9+PNXV1Tp9KwPy/F2JrkBEhkrgA7SwsBCAurq6zvDsS0VFBcuXL+eII45g9uzZ1NbW0tTUNNxlyihx8jGJrkBEhkrg7wPNzs4G6DzK7I9Y2IZCISZOnDhcpYmISBILfIDGrn02Nzd3m+6iF6pSerlnIHb9s6CgYPiKExGRpBX4AI1EIt2eYzo6OgDv9pZ49ve5iIiMboG/Btra2kpWVlZnQ6KYpqYmwuEw4XA47nKxU7/96WhBxI/KatixG2rrvftA9+eko4e9JBHpIvABWl9fT1ZWVmcgxtTW1hIOhyksLCQjI4OWlpbOz1JSUjqvffY89SsyGLX18PO74Z7H4N1t/V/ODNpXDF9dIrKvwAdoTU0N48aNIz8/v9v03bt3U1paSigU4ogjjmDr1q00NzeTmZnJ5MmTO49Yy8vLE1C1jEZrNsLZn4ct7w3PvaIiMrQCH6AVFRXMmjWLnJwcsrOzaWxsBLyWtmVlZRQXF5ORkdF5X2hXLS0tbN++faRLllGopRUWXQWbd3jvT1oIxy+AH/3aO7r82IdgcokXrs8vhvIqb/qFZ8AhsxJbu0hQBT5AW1paWLp0KaFQqLNhUMy6detwzlFSUrLPcnV1daxevZr29vaRKlVGsTv/4p2yNYObvwnfuMKb/qNfe8+fOAfOO8173dYGtz8A3/kZ/O1l+MxH4EMnJqZukSALfICCdxo3Hucc69atY8uWLeTn55Oenk4kEqGuro7a2toRrlJGs8ee957nTNsbnr1JS4OvfBpmTIbzr4ZPXQPvPAyT9v07T0SGUeBvY+mPlpYWysrK2LZtGzt27FB4ypBbusY7+rz4rPif97jLCoBFp8K5p0BVLfy/PwxreSIShwJUJAlURk+CTO3RsVWsH4/GXhp7n3Oy1+DoiReGrTQR6YUCVCQJxIIyL7f79LA3+A87e+mmOT96m/K2XcNTl4j0TgEqkgRKxnrPVT0ux0+Z4D2/szr+chujjcCbdDuyyIgLTCOiY47ZOwzG4sWL4073q+v6RPyYP9u7hWXt5u7Tj54Py9bC4y94PRMV5u/9rLUVfvsX7/VkNSASH2ZfdsewrNc5x4a7rxqWdSeTwARoZmbmgKaLjKQTj4LHn4eXl3Sf/vGzvZCsa4DTPwM/+BrMmOTd8vL922Fj9NaXs05KTN1yYMuddtTQ99phFpieQAIToC0tLZ0jrPRnushIWnQqXPM/sGQlbNkBU0u96R84Dj54PDz7KixdC+d8Yd9lC/Lgmn8b2XplFFF/3r4FJkBff/31AU0XGUkHTYe7fgBNLfu2uP3zLXDhl+Hv/9p3udJiePAW71lkoN6+QSMQDEZgAlQk2X36gvjT83Lh2Tu907vPvQZlFZCdCUcfCh8+HTI1op5IQihARQ4QJy70HiKSHAIfoFOnTgW80Veampr6vVxmZibFxd55sy1btgxLbSIikrwCfx/o1KlTmTp16j7jge5PVlZW57Iig/Wtn8DydYmuQkQGIvBHoCLJ4Ke/g/+9y7sf9NLz4JPnwsTxia5KJMpCZBXPJj1vPKGMXCy0/2OvyqVPjkBhiaUA9cmiTb91C4wMFedgxXr49k+9ocpOOdoL0498EHJzEl2dBFHamBImnHwlBfPPIJQ6kNZqLhABGvhTuH5lZHg7U88xREX8ePQ2+OiZkJHuBWlHB/zjdbjiWig5CS75ljf2Z7xRWUSGQ87kwzn4C/dTdMQiQmmZ3v2i/X0QjHtLdQQ6QKFQiNzcXCZNmgRAY2NjgiuS0WDRqd6jrgEefBrufRxefMMLzMYm+MNT3mN8oTe49qcWwZGHJLpqGa1CGTnMuPgnpGSGwUWoXPoU9duWMuXc74Jz7Fn8J5ortpA+poS8WceRVTwbnKNy+V+p2/hGossfMYEK0L4a/RxyiL9vo/Ly8sGUJNJNOAeu+Ij32FEG9z0O9z2xt4FRWQX8/B7vMXc6XHo+XHIuTJ6Q2LpldBm38EJScwrAOTY/9F9UrXgGwAtQoG7TYmrWvgTAe8/9gjEHnczU86+jYP6Z1G18g8qlTySs9pGkU7iDUFNTw44dOxJdhoxSpcVwzWdh6SPe41ufgUkl3ile52D1Rrj2Fpj+QTj1sgQXK6NK3qwTAGjcubozPPtSs/ZFNtz3FQxj8jn/QcbYacNcYXII1BFoc3MzNTXdx4saM2YMAA0NDbS3t/e5vHOOjo4Ompubqa6upqKiYthqFenq0Dnw42/Cj74Bz7/uneJ96FmorffC9KUl+1+HSH9ljpsOzlG95oX4M1jKPpMad6ygauWzFBx6JuMWXsj2v/10eItMAoEK0LKyMsrKyrpNO+kkbxiLzZs3KxAl6ZnBacfCnGneWKE/+jW0tiW6KhltUjK9kdrbarp/X7qOdiyUQkp6/FGs6jYtpuDQMwnPPHbYa0wGgQrQeGJHpG1t+haS5FZbD3/+m3f0+fKbgRkxShLAdbRhoRQi7a3dpkdaG0nJDJMWjn+TcqStBYD0Xj4fbQIfoEuXLk10CSK9am+HJ1/0QvPJF6El+n0WC89wDlx4hne/qMhQaavbQ0bhZFKzx3Sb3lK1newJB5NdOi/ucpljo400Q/ue4h2NAh+gIsnon2/BvY/Bn5+GqlpvWiw0U1PhjOO9W1ku0GgsMgyaytaTUTiZzLHTu01v2L6C7InzGDP7/aSPKaG1ZlfnZymZuYxdeCE4R2t1MBpXKkBFksTaTV5o3v8kbI5+/3Q9TbtwvheanzgHxhUmpkYJhrrNb5I/7wPkTjuq2/TKZU8x7piPYSlpzL7iN5S9chctVdvJKJhE8fGXkppT2Hfjo1FGAdpFKBRi7NixhMNhMjIySE3t369n2bJlw1yZjHZHfxTeWrX3fSw4p0707vO89Hxv0G2RkVCz9iUmn30NWeNnkjluBs17NgLQuGMllcueovCws0nPG8/ks6/ZZ9nW2jJ2v3rvSJecEArQqNLSUqZNm0ZKSjDO3UtyeXPl3tdjwl63fpeep/E/JTHaastYf9fnsdQMOloaun225dH/xrW3UbTgvGi3fXs1vreaTQ9+l47mupEsN2EUoMC0adOYMmVKosuQAEtNhbNP8kJz0SmQnp7oiiTo6re8Ff+DSDtbH7+RXS/9htzpR5OWW0SkrZnGHStp2L58ZItMsMAHaE5OTmd4NjY2sn79empraznxxBMBWLlyJVVVVWRmZlJQUMCkSZPIyMigrKyMdevWaTQWGRK7XoLC/ERXIdJ/rTW7qHzn8USXkVCBD9AJE7xORJ1zLF++nJaWln3miUQiNDY20tjYyM6dOznkkEMoLi4mJSWFVatW7TO/yEApPEUOPIHvCzc/Px+A3bt3xw3PniKRCCtXrqS1tZWxY8cyduzYYa5Qgqy+ATZsgbdXec/1DftfRkRGRuCPQGPjetbX18f93Gzfce0ikQi7du1iypQpFBcXa0QWGVJl5XDb/V5ft2s2db+VxcwbheWiM+Gqj0Ox/n4TSZjAB2go5B2E9zz6jEQihEKhXm9laWjwDgVyc3OHt0AJlAeehKtu8MYFhX2764uNwvLf/w9uuRvu+B58/JyRr1NGtwXXLfa5pKOjpZGOplqaytZTt3kJlUufHLWtcgMfoB0dHaSmpnYGaUxbWxsZGRlkZWXFXS52u0taWtqw1yjBcM+jcMW1e4crM4ODZ3gdx+dmQ30jrN/iHZVGIl7fuJdcAx0RuGRRoquXUSXOmbd+LkhKZi4pmbmk509gzEEnMfG0f2fHsz+nfMlfhrTEZBD4AG1qaiIcDpPe476BxsZGMjIyOq+R9hQbBi0SiQx3iRIAu/bAv3/fC8ZQCP79E3DNv8UfKHv7Lrj5t3D7A978X7gePnAslIwb8bJllKrf8hY4CGVkkz1hbuf0juZ6WqvfI9LaRCg9i/T8iaRkRs/COUfjrrW4thZSsseQWTQFLEQoPYvJZ3+bUFomu1+7L0E/0fAIfIDW1dURDof3ORVbVVVFQUEB4XCYkpISdu3a2+djUVERxcXFQO/XTkUG4rb7oaHJ+8P/zhvh0xf0Pu+kErj1Wjh6Plz2HWhs9sL0+18esXJllFt/1+fJHD+LGRf/BJyjcumT7H79AZp2rdtn3qySOYw/9pMUHnY2KRk5bHzkepp3v0soI5dxR3+UCadciaWkMfEDX6R69T9ord6ZgJ9oeAS+FW5VVRUABQUF3aaXlZV1DrA9Z84cFixYwNy5c1mwYAGHHHJI53w7d46enUES52+veOF51ol9h2dXl54P55zsne7968vDWp4ETEpWHjM/+TMyCkrZ8th/s+XRG+KGJ0DTrnVseeR6tj5+IxmFk5n5iZ+Rkhkm0lJP2Su/Y9OD1wJgoRTGHnXhSP4Ywy7wAVpZWUlzczPOuW4h2tbWxvr16zvfh8Nhxo8fTzgc7pxWVlbGnj17RrReGZ02bfeezzttYMudd2r35UWGwrhjLiZ9TAm1G17td2cJFW8/Ru36V0kfU8K4Yy7unF6z5nnvlLAZ4RlHD1fJCRH4AHXOsXjxYv71r391Ho3G7Nmzh6VLl1JdXd2tx6GmpiY2bNjA2rVrR7pcGaXqG73ngryBLZef1315kaGQf/Cp3qgqa18c0HLVa18AM/Lndf9LsHb9PwFIzy8dqhKTQuCvge5PTU0Ny5Ytw8xITU0lEonQ0dGR6LJklCnKh13lsGHrwJaLzV+UP9QVSZCl508EoKNpYLefdDTXd1s+JnbdMyUjZwiqSx6BPwLtL+ccbW1tCk8ZFkfM9a5l3vUwtLX1b5m2Nvj9I9610yPm7nd2kX6LdSCTUThpQMtlFHjzG91vg4mdwYu0jq5TJQpQkSTw4dO95w1b4dJvQ0tr3/O3tsLl34V1m733F54xrOVJwLRUbgczio5YBKH+nai0lFSKjjgXnKOlqvtF+bSw12VWe2P1UJeaUArQOFJTUyksLKSkpITS0lJKSkooLCzs9wDbIgN1xUe8DhMA/vw0zDsXfn43rNoA0cbgtLfD6nfh1nvgkEXwh6e8o8+DpsNlFySqchmNqte8AEBG4WSmX/QDQunxO5SJCaVnMf2iH5JR5I1sVb36+W6fZ084GPAG2x5NlAhdFBYWMnny5M5OEuKpqalh69at+zQ4EhmMlBR47DZ4/6egvAo274Cv/3jv56kp0N7j6oFzMK7QW07jwMtQ2v3avYw98gLSwuPIn3sKuV96hIp3HqNu0xJaqnYQaWsmlJZJRkEp4ekLKTriPFJzvLsY2ur2sPtfXTpMCKWSN/sEcI6Gre8k5gcaJgrQqNmzZ3cObdaXMWPGcOihh7Jz585ut7mIDNac6fD2Q/DZ/4KnX+n+WVv7vvOfdSL86vtQWjwy9UlwRFqb2HDfl5n96dtJzSkkNaeA4hMuo/iEy3pfyIz2+ko23PslIq1NnZOzJ86laZd3x0LVymeHu/QRpQAFZs6c2S08m5qaqKqqoqmpiY6ODlJSUsjKyqKgoKCzb9wJEyYQiUR49913E1W2jEKlxfDXX8Hydd5oLIuXwc49Xufy4RyYMA6OOQw+8kE4dE6iq5XRrHn3u6y+/WJKz/w6BfPPwEK9n+ZwkQ6qlj/Njqd/ts91zsbtK9hwz9XDXG1iBD5Ac3NzKS317k1qb29n3bp1fQ5PNnbsWGbPnk1aWhqlpaWUlZWpOz8ZcofOUUBK4rU3VrPl4evY8cwtjJnzfrInziMtPI5QWiaRtmba6vbQ+N4qata9QntDZaLLHXGBD9DYkWckEmHp0qWdw5T1pry8nKamJhYsWEAoFGLChAk6lSsio1p7QyUVbz9GxduPJbqUpBL4VrixBkNlZWX7Dc+YhoYGysrKui0vIiLBEvgAzcjIALzWtQMRmz+2vIiIBEvgT+HGetzo2tdtf8TmN98Dz0oQfeba4VmvAb+9aXjWLSLxBT5AW1tbyczMJBwOD2hkldioLK2t++kyRqSLux72Oj8YDgpQGSqHfOXRwa3Awcpbzx+aYpJY4AO0pqaGzMxMSkpK2LZtG2396Ig0LS2NkpISAGpra4e7RBllBniyo190IkSGUnr+RG9H3d+OFduZe843HDt5Egp8gO7evZvi4mJSU1M5/PDDWbVqFY2NvXd4nJWVxbx58zq79Ys1JhLpj02j6z5yGaVaa3btPwQtRGpW3t5u/pyjrb4c1xGn149RKvABWlVVRUVFBUVFRWRnZ3PUUUdRWVlJVVUVjY2NRCIRQqFQZ0cKRUVFndc9Kyoq1KWfDMjU0TUcooxSK29Z1O95M8fPZPz7PkHRkefTUrmNjX+8ho6mgTXKPFAFPkABVq9ezWGHHUZeXh5mRlFREUVFRX0uU1NTw+rVq0eoQhGR5NS8+122Pn4jDTtWMGXRtcz8xP+y7ndXgoskurRhF/jbWMDrROGdd95h06ZN+20U1NraysaNG1m6dCmRyOjfQURE+qPirUeo27SEnEmHMvbICxJdzojQEWgX27ZtY/v27eTl5REOh8nIyCAlJYWOjg5aWlqoq6ujtrZ2wLe8iAxWS6vXL+57uyE3G+bNgukDG+tYZNjVrHme8PSFFB5+DuVvPpTocoZd4AM01pNQe3s7DQ0NOOeoqakZcMcKIgPR1Oy10QiFIHM/fXHcdAfc/Fuo79G27fgFcPt16jNXkkdbfQUAmWOnJbaQERL4U7iHH344hx9+OOPHj090KRIQ5VUQXug9Pv+9vue94rtw3S+80Vic6/7451vw/kvg7VUjU7fI/qSFxwFgqcHooS3wARq7jqkRVWSkPPcqxC6ff+Hi3ud78Gn4/SN736emwryZcMTcvQNo1zXA5d/duz6RRLGUVIoWeJ0ntNUG4/a+wAdoS0sLoC75ZOT8a6n3PHE8HLeg9/luvGPv6/cf6d1DuuJxeOshWP83OHKe99mK9fDXl4avXpE+WYjcaUcx+9N3kFU8C5yjdsOria5qRAT+GmhNTQ1ZWVmEw2F2796d6HIkAJau9TpuOf243udZ/S4si86XlwuP3gYFXQb+mVYKj/wSDjobmlvg0X/AOacMe+kSEP3tys9S0kjNzsdCe6Oko7mOXa/8frhKSyqBD9D33nuP4uJiiouL2bp1a7+68hMZjHe3ec8LDu59nhcW7319ybndwzNmUglc8AF44El4S9dBZQj1uyu/Hloqt7Hpwe/SXl8+TJUll8AHaH19PZs3b2b69On96spPZLAqqr3nkrG9zxM7zQtwxgm9z3fcEV6AbnlvKCoT8fSrKz/AdbTR0VxH056N1G54jZo1z6srvyApLi6mtbWVyspKCgsLWbhwYedtLC0tLf3qLEH94cpAtEW/X/r6437Jir2vjz289/mKox1m1fVvLHiRfhlIV35BFvgAPeigg/aZNmbMmM77Q/tDASoDkZcDVbWws5fR8+obYO1mL2BLi2F8H71Kxv6+Uxs4kZEX+Fa4IiNtWrRD+Vfeiv/5i2/sDcbj+jj6BNgTHctgTHhoahOR/gv8EejatWsTXYIEzHFHeI1+HvsHrN8Ms6d1//w3D+593VdLXYB3ouMZTJs4hAVK4B3ylUfBwdYnbqJu4+L9LxCVO3UBUy+4XgNqB4VOv8pI+9QiuO1+71rohz4Hd3wPTjoa9lTCL+71bkkBr4u/i87se10vLfFO386fPfx1S3DEWuGG0jIHtJylZu5twRsAgQ9QkZH2vsPhIx+Eh56FzTu8EO3JDK76ePzbV2LeXAkbtnrzvv+o4atXROILZIDGGgg556itrR3QsuFwmFDIu3SsDufFrztvgu27YPHy+J+/7zC48St9r+OOP3jPZn3f6iIyUkJpXh+4riMY99MHLkAnTpzIrFmzAHj33XcHHKB5eXnMnDkTgPXr17Nz584hr1FGv7xceOU++OV9cP+TsGYjdERg5mT4xDnwtcv6HqVldwU880/vNpbDDvK6BRRJtJxJhwLQ1lCV4EpGRqAC1MyYOnUqAFVVVezYsWPA69ixYweFhYUUFBQwdepUBaj4lpoKX73MewzU+CLY8o+hr0mCJ6t4Flkl+97OBxCefjQpmftr4m2E0rPInjCXwsPOAudofC8YXWMFKkALCwtJS0sDYNOmTb7Xs3nzZgoKCkhPT6ewsJDKysqhKlFEZESNmXsqE06+ct8PzBh3TB/DBcVjBs5RvuQvQ1NckgvUfaCFhYUANDQ0DGr4srq6OhoavK5fior6uMtdRORAYNb90dv0/TzaGyrZ+sQPqdv4euJ+lhEUqCPQcNg7FTEUR4yVlZXk5OR0rlNE5EBUs+YFWqu7X4qaesH3wDn2LP4TjTvX9L0CF6GjtYnW6h00lW0AF5zBaQMVoBkZXquM5ubmQa8rto7YOkVEDkRNZetpKlvfbdrUC74HQN2mxdSs1WCzvQlUgKamej/uUAxZFltHbJ0iIqPFlkduANj/0WfABerbv6Ojg9TU1CEJvdg6Ojo6Br0uEZFkUnTEuQBkFExk5wu/SnA1yStQjYhiR42ZmQPrniqe2Do0ALeIjDa5U48kd+qRtNXrDoO+BCpAYwNlFxQUDHpdsXVo8G0RGW3aG6u6PUt8gQrQqipvZwiHw4NqPdt1+erq6qEoTUQkabRUbAMgLTwuwZUkt0AFaHl5OZHoQIuzZ8/u7NN2IEKhEHPmzAEgEomwZ08voyKLiBygqlY9B2bkH3xqoktJaoEK0NbWVnbt2gVAbm4uhx12GOnp6f1ePiMjg8MOO4ycnBwAdu3aRWtr67DUKiKSKOVL/kLzno3kTlnAuPd9PNHlJK1ABSh4XfjFrlvm5eVx9NFHM3PmTHJzc3tdJjc3l5kzZ7Jw4ULy8vIA79rnYLoDFBFJVq6jjXfv/ypNZeuZdObXmf7RH5M79UgsJVA3buxX4H4bHR0drFixgsMPP5yMjAxSUlIoLS2ltLSUSCRCc3Mz7e3tgHerSmZm5j6neltaWlixYoVuYRGRUemQrzwKgKWkd57KzT/4VJyL0NFYQ6R9P53ROFh56/kjUGliBS5AwetF6M0332Tu3Lmd/eOCd30zOzu7z2UrKytZs2ZNZ8iKiIw26fkTwTnvTezZDLMUUnMLe18wJrbMKBfIAAVob29nxYoV5OXlUVpaSn5+fudILfHmjQ1/NtDxQ0VEDjStNbsCE4KDEdgAjamtre0MxaysLDIyMjqDtK2tjdbWVt3rKSKBsvKWRYku4YAQ+ADtqqmpiaampkSXISIiB4DAtcIVEREZCgpQERERH3QKV0RE+hTKyCFv5rHklM4nLTyWUHo2kdZG2ur20LBjJbUbXiPSGry2IgpQERGJy1JSmXDqVYxbeBGh9Kxe54u0NrFnyYPsfP4OXEdwRqhSgIqIyD5SMsPMvuwOsopng1mf84Yysik+/lLyZh7L+t9/gY7muhGqMrEUoCIiso8ZF/+ErJLowBltzVQtf5rad/9FS8UWOlqbSEnPIqNoCnkzj6Vg/pmE0rPIKp7N9I/dzIa7r0pw9SNDASoiIt2MmXsKudOOAudo3LmajX/6Nm01u/aZr6lsPdWr/s7OF3/DjI/dTHbpPMLTjmLMQSdTs/bFBFQ+stQKV0REuimcfyYAbQ2VbLjn6rjh2VVbbRkb7v0i7fWV3vKHnTXsNSYDBaiIiHSTPWk+OEfF24/S0Vzfr2U6musof+sRMCO7dP7wFpgkFKAiItJNWo7XYXxz2YYBLde8e0N0+YIhrykZKUBFRKSbSPRWFEvLHNBysfkjAbmVRQEqIiLdtNWUARCetnBAy4WnL+y2/GinABURkW7qNi0GMwoOPZOcyYf3a5mcyYdROP9D4Jy3fAAoQEVEpJs9S/4CkQhmIWZ96laKjvowhFLiz2whihacz8xLboVQCOci3vIBoPtARUSkm5byzex6+U5KTv4sobQsppzzHSae9u/Ub36T5ootRFqbCaVnklk4hdxpR5Gane/1VuQcZS/fSUv55kT/CCNCASoiIvvY+cL/YSlpFJ/waTAjNTuf/INPiz+zGbgIZa/8np0v/GpkC00gBaiIiMT13t9/Sc3aFyk+4dPkzToeS03fZx7X3krN+lco++c9NO5YkYAqE0cBKiIivWrYvpyNf/wWlpJKVvGc6HBmOURaG2irK6epbB2uoz3RZSaEAlRERLqx1HRSMsN0tDTg2poBcB3tNL63KsGVJRcFqIiIkJKZS/EJl5M/7wNkFJR2Tm+t3knVquco++fddDTVJLDC5KMAFREJuIzCycy69DbSx5R4E7qM/5meP4Hi4y+l8NAPsf6eqwPTwrY/dB+oiEiQhVKY/rGbSc+f4L3vOXi2GZiRljeeGR/9MYR03BWj34SISIAVHHwaWcWzwDnam2p47++3UbPuFdobq0jNLmDMnBOZeNpVpOYUkDluOgWHnE7V8r8luuykoCNQEZEAi93bGWlvYf3vrqTirUdory+HSAft9eVUvPUw6+76HJFoY6L8uacmstykogAVEQmwrAlzwTkql/2V5l6ub7aUb6Zy2V/BjKwJB41sgUlMASoiEmBpud7Ynw3blvU5X+zzoIz12R8KUBGRAAulZwPQ0Vzb53wdzXXe/GlZw17TgUIBKiIi4oMCVERExAcFqIiIgHOJruCAo/tARUSEGR//af9mNGPBdYv3M5Pj7e+/b9A1JTsFqIiIeHr2QtSVc3uPUvuaDyAgB7MKUBGRoNtfIPZ3noBRgIqIBNjbNxyd6BIOWGpEJCIi4oMCVERExAcFqIiIiA8KUBERER8UoCIiIj4oQEVERHxQgIqIiPigABUREfFBASoiIuKDAlRERMQHBaiIiIgPClAREREfFKAiIiI+KEBFRER8UICKiIj4oAAVERHxQQEqIiLigwJURETEBwWoiIiIDwpQERERHxSgIiIiPihARUREfFCAioiI+KAAFRER8UEBKiIi4oMCVERExAcFqIiIiA8KUBERER8UoCIiIj4oQEVERHxQgIqIiPigABUREfFBASoiIuKDAlRERMQHBaiIiIgPClAREREfFKAiIiI+KEBFRER8UICKiIj4YM65/s9stgfYMnzlJKWxQHmii5DA034oySCI++FU59y4eB8MKECDyMyWOOcWJroOCTbth5IMtB92p1O4IiIiPihARUREfFCA7t+vEl2ACNoPJTloP+xC10BFRER80BGoiIiIDwpQERERHw64ADWza81spZktM7N3zOx90em/MbN50debzWzsMG3/QTObYWbZZvakma2J1vMjH+u6y8wuir7+g5nNHvqKZSSYWbGZ3W9mG83sTTN7zcw+vJ9lTjGzJ3r5LO4+bJ5/mFle9P2dZrbbzFb0o8ZTzOz4Lu+/aGaf2f9PJ8nGzDqi339Lzeytrv+uiWRmXzWzT0df/3eX7+lnzGxiP9ex2czGmlm6mb1kZqnDW7V/B1SAmtlxwLnAkc65w4DTgW0AzrnPOudWDeG2zMxCPaYdAqQ45zZGJ/2Pc24usAA4wczOGsQm/x9wzSCWlwQxMwMeAV5yzs1wzh0FfByYNAybOxtY6pyrjb6/C/hQP5c9Bej6RXsn8KUhq0xGUpNz7gjn3OHAd4Af9pxhpIMnur3PAPdHJ/3EOXeYc+4I4Angul6Wics51wr8Hbh46KsdGgdUgAITgHLnXAuAc67cOfcegJm9YGbdbvA1sx+Z2dVd3l9vZt+Mvv6Wmb0R/Qvphui0aWa21szuBlYAk3ts/xLg0ei2G51zz0dftwJvEf3CjB5Z3mpmr0aPSGJHmWZmv4xu4zlgfJd1vwycnsx/bUmvTgNanXN3xCY457Y4534BYGaZZvY7M1tuZm+b2ak9V2BmRdG/0lea2W8A62VbnftgdDsvAZVx1vdlM1sV3b//YGbTgC8AX4seEZzonGsENpvZMYP42SXx8oAq6DzL8LKZPQas6m3fM7PLzewhM/ubma03s5uj08+L7h/vRL+nNkWnH2VmL0bPrjxtZhPi1HEa8JZzrh2gyx95ADmAi67rejO7x8z+Cdyzn33/Ebx9Pjk55w6YB5ALvAOsA24HTu7y2QvAwujrzXhdTi0AXuwyzyq8UDwDrzm24f0R8QRwEjANiADH9rL9F4FD40zPBzYCM6Lv7wL+HF33PGBDdPpHgGeBFGAiUA1c1GU9zwJHJfr3rMeA98svAz/r4/NvAHdGX88FtgKZeEeET0Sn3wpcF319Dt6Xzdg469oChHtMmwas6DHtPSAj+jo/+nw98M0e810LfCPRv0M9BrzPdUS/C9cANbHvjeg+1QBM38++d3n0O2tM9P0WYHKPbfwJuBpIA14FxkWnXxxbZ4/5bwC+1GPaTXhnCVd0Wf564E0gK/q+130/+l25J9G/794eB9QRqHOuHjgK+BywB/ijmV3ex/xvA+PNbKKZHQ5UOee24QXoGcDbeEeOc4HY9cctzrl/9bLKCdHtdooeMT4A3Or2ntoFeMQ5F3HeaeXi6LSTgAeccx3OO3L+R4/178YLVjmAmdlt0WtTb0QnvR+4F8A5twbvy2pOj8VO6jLPk0SPKOIodM7V9aOMZcB9ZvYpoL2P+bTPHZhip3Dn4p3Cvzt6KQFgsXNuU/R1X/ve351zNc65ZryDi6mxlZvZNdFt3AYcBMwHnjWzd4D/JP7liX2+H51z1zrnJgP3AV/s8tFjzrmm6Ote933nXAfQambh/v1aRtYBd7ow+gt9AXjBzJYDl+Ed8fXmz8BFQAnwx+g0A37onPu/rjNGT3M19LGuJry/1rr6FbDeOXdLj+ktXVfdxzq7yoxuQw4sK4ELY2+cc1eb1wBoyTBsq93MQs65yH7mOwfvi2kRcK2ZHdrLfNrnDnDOudei+1usw/O+vsO66vod1UE0D8zsdOCjePsPeN9fK51zx+1nffG+H2PuA54CvjfAGgEygOYBzD9iDqgjUDM7yLq3VD2C/Y8O80e8Bh0X4YUpwNPAZ8wsN7reUjMb38vyXa0GZnWp50a8UyBf7U/9wEvAxWaWEr2G0PNa2By8Ux1yYPkHkGlmV3WZlt3l9ctEr+OY2RxgCrC2xzpeAj4ZnecsoKCXba0FZvRVTLTx22TnXaP/Nt4+mgvUAT3/ktc+d4Azs7l4pzor4nzcn32v67qmArcBH+1yhLgWGBdtxImZpUUbVPbU8/ux63f1+Xinm+Ppdd83syK8di9tvdWcSAdUgOJ9Cfw+1jgC7/ri9X0t4JxbifelscM5tzM67Rm8lmKvRY9iH2TfL5Z4nsS7xoCZTcK7fjQPeCt60f2z+1n+YWA93umSu4HXYh+YWTHeKZNd/ahDkojzLtZcAJxsZpvMbDHwe7zwAu96fSi6r/0RuNxFG8J1cQNwkpmtxLtWvrWXzXXugwBm9gDefnSQmW03s3/D+zK9N7q9t/EuL1QDjwMfjjUiiq7iBLxr73JgyYo19sHbpy6Lnp3rqT/7XleXA0XAI9H1P+W8RpIXAT82s6V4117j3TbzV/YetQL8yMxWRL+rzwC+0ss2+9r3T8Xb55OSuvIbADPLAp4HTuhlZx3Mur8G1DrnfjuU65XRJXrm4m7n3AeHYF0LgK875y4dfGUiYGYPA9c459YP0foeAv7DObduKNY31A60I9CEip7S+B5QOgyrr8Y7ahHpVfQsyq8t2pHCII0F/msI1iMS8x94jYkGzczS8RpjJmV4go5ARUREfNERqIiIiA8KUBERER8UoCIiIj4oQEVERHxQgIqIiPjw/wEmvYdB4ozKoQAAAABJRU5ErkJggg==\n",
       "datasetInfos": [],
       "metadata": {},
       "removedWidgets": [],
       "type": "image"
      }
     },
     "output_type": "display_data"
    }
   ],
   "source": [
    "# Collecting names from DataFrames\n",
    "first_name = first.collect()[0][\"Euro_Cup_Winners\"]\n",
    "second_name = second.collect()[0][\"Euro_Cup_RunnersUp\"]\n",
    "third_name = third.collect()[0][\"Euro_Cup_ThirdPlace\"]\n",
    "\n",
    "# Create podium visualization\n",
    "plt.figure(figsize=(8, 6))\n",
    "\n",
    "# Create bars with adjusted positions and heights\n",
    "plt.bar(1, 1, color='silver', width=0.5)\n",
    "plt.bar(2, 1.2, color='gold', width=0.5)\n",
    "plt.bar(3, 0.8, color='#cd7f32', width=0.5)\n",
    "\n",
    "# Add text annotations with adjusted positions and rotation\n",
    "plt.text(1, 0.5, second_name, ha='center', va='center', color='white', rotation=90, fontsize=30)\n",
    "plt.text(2, 0.6, first_name, ha='center', va='center', color='black', rotation=90, fontsize=30)\n",
    "plt.text(3, 0.4, third_name, ha='center', va='center', color='white', rotation=90, fontsize=30)\n",
    "\n",
    "# Set axis labels and title\n",
    "plt.title('Euro Cup Podium')\n",
    "\n",
    "# Set x-axis ticks to represent positions\n",
    "plt.xticks([1, 2, 3], ['Silver (2nd)', 'Gold (1st)', 'Bronze (3rd)'])\n",
    "\n",
    "# Hide y-axis\n",
    "plt.gca().axes.get_yaxis().set_visible(False)\n",
    "\n",
    "# Show the plot\n",
    "plt.show()"
   ]
  }
 ],
 "metadata": {
  "application/vnd.databricks.v1+notebook": {
   "dashboards": [],
   "language": "python",
   "notebookMetadata": {
    "pythonIndentUnit": 4
   },
   "notebookName": "EuroSQL_Visible",
   "widgets": {}
  }
 },
 "nbformat": 4,
 "nbformat_minor": 0
}
