{
 "cells": [
  {
   "cell_type": "markdown",
   "metadata": {
    "application/vnd.databricks.v1+cell": {
     "cellMetadata": {
      "byteLimit": 2048000,
      "rowLimit": 10000
     },
     "inputWidgets": {},
     "nuid": "2d43acc2-2db7-4132-adff-1b723c3b3031",
     "showTitle": false,
     "title": ""
    }
   },
   "source": [
    "#Visualization EuroSQL"
   ]
  },
  {
   "cell_type": "code",
   "execution_count": 0,
   "metadata": {
    "application/vnd.databricks.v1+cell": {
     "cellMetadata": {
      "byteLimit": 2048000,
      "rowLimit": 10000
     },
     "inputWidgets": {},
     "nuid": "9998a8e4-f9c5-4efe-9f7a-daf08f23f6ce",
     "showTitle": false,
     "title": ""
    }
   },
   "outputs": [],
   "source": [
    "#import libraries\n",
    "import pandas as pd\n",
    "from pyspark.sql import SparkSession"
   ]
  },
  {
   "cell_type": "code",
   "execution_count": 0,
   "metadata": {
    "application/vnd.databricks.v1+cell": {
     "cellMetadata": {
      "byteLimit": 2048000,
      "rowLimit": 10000
     },
     "inputWidgets": {},
     "nuid": "80b8e30a-3d8c-49c3-a177-2ccc252e3036",
     "showTitle": false,
     "title": ""
    }
   },
   "outputs": [],
   "source": [
    "#Spark Session\n",
    "spark = SparkSession.builder \\\n",
    "    .appName(\"euros_sql_visulization\") \\\n",
    "    .getOrCreate()"
   ]
  },
  {
   "cell_type": "code",
   "execution_count": 0,
   "metadata": {
    "application/vnd.databricks.v1+cell": {
     "cellMetadata": {
      "byteLimit": 2048000,
      "rowLimit": 10000
     },
     "inputWidgets": {},
     "nuid": "17e28640-2783-4e61-92d7-e8854ccfa900",
     "showTitle": false,
     "title": ""
    }
   },
   "outputs": [
    {
     "output_type": "display_data",
     "data": {
      "text/html": [
       "<style scoped>\n",
       "  .table-result-container {\n",
       "    max-height: 300px;\n",
       "    overflow: auto;\n",
       "  }\n",
       "  table, th, td {\n",
       "    border: 1px solid black;\n",
       "    border-collapse: collapse;\n",
       "  }\n",
       "  th, td {\n",
       "    padding: 5px;\n",
       "  }\n",
       "  th {\n",
       "    text-align: left;\n",
       "  }\n",
       "</style><div class='table-result-container'><table class='table-result'><thead style='background-color: white'><tr><th>GroupName</th><th>TeamName</th><th>MatchesPlayed</th><th>MatchesWon</th><th>MatchesLost</th><th>MatchesDrawn</th><th>GF</th><th>GA</th><th>GD</th><th>TotalPoints</th><th>Position</th></tr></thead><tbody><tr><td>A</td><td>Switzerland</td><td>3</td><td>2</td><td>0</td><td>1</td><td>12</td><td>5</td><td>7</td><td>7</td><td>A1</td></tr><tr><td>A</td><td>Scotland</td><td>3</td><td>1</td><td>1</td><td>1</td><td>10</td><td>9</td><td>1</td><td>4</td><td>A2</td></tr><tr><td>A</td><td>Hungary</td><td>3</td><td>1</td><td>1</td><td>1</td><td>12</td><td>14</td><td>-2</td><td>4</td><td>A3</td></tr><tr><td>A</td><td>Germany</td><td>3</td><td>0</td><td>2</td><td>1</td><td>6</td><td>12</td><td>-6</td><td>1</td><td>A4</td></tr><tr><td>B</td><td>Italy</td><td>3</td><td>3</td><td>0</td><td>0</td><td>13</td><td>6</td><td>7</td><td>9</td><td>B1</td></tr><tr><td>B</td><td>Spain</td><td>3</td><td>2</td><td>1</td><td>0</td><td>12</td><td>9</td><td>3</td><td>6</td><td>B2</td></tr><tr><td>B</td><td>Albania</td><td>3</td><td>1</td><td>2</td><td>0</td><td>12</td><td>13</td><td>-1</td><td>3</td><td>B3</td></tr><tr><td>B</td><td>Croatia</td><td>3</td><td>0</td><td>3</td><td>0</td><td>4</td><td>13</td><td>-9</td><td>0</td><td>B4</td></tr><tr><td>C</td><td>Serbia</td><td>3</td><td>2</td><td>1</td><td>0</td><td>8</td><td>6</td><td>2</td><td>6</td><td>C1</td></tr><tr><td>C</td><td>Slovenia</td><td>3</td><td>2</td><td>1</td><td>0</td><td>8</td><td>9</td><td>-1</td><td>6</td><td>C2</td></tr><tr><td>C</td><td>England</td><td>3</td><td>1</td><td>2</td><td>0</td><td>6</td><td>5</td><td>1</td><td>3</td><td>C3</td></tr><tr><td>C</td><td>Denmark</td><td>3</td><td>1</td><td>2</td><td>0</td><td>7</td><td>9</td><td>-2</td><td>3</td><td>C4</td></tr><tr><td>D</td><td>Austria</td><td>3</td><td>2</td><td>0</td><td>1</td><td>11</td><td>8</td><td>3</td><td>7</td><td>D1</td></tr><tr><td>D</td><td>Netherlands</td><td>3</td><td>1</td><td>1</td><td>1</td><td>12</td><td>13</td><td>-1</td><td>4</td><td>D2</td></tr><tr><td>D</td><td>France</td><td>3</td><td>1</td><td>2</td><td>0</td><td>11</td><td>12</td><td>-1</td><td>3</td><td>D3</td></tr><tr><td>D</td><td>Poland</td><td>3</td><td>0</td><td>1</td><td>2</td><td>13</td><td>14</td><td>-1</td><td>2</td><td>D4</td></tr><tr><td>E</td><td>Ukraine</td><td>3</td><td>2</td><td>0</td><td>1</td><td>8</td><td>4</td><td>4</td><td>7</td><td>E1</td></tr><tr><td>E</td><td>Slovakia</td><td>3</td><td>1</td><td>0</td><td>2</td><td>6</td><td>3</td><td>3</td><td>5</td><td>E2</td></tr><tr><td>E</td><td>Belgium</td><td>3</td><td>1</td><td>2</td><td>0</td><td>5</td><td>9</td><td>-4</td><td>3</td><td>E3</td></tr><tr><td>E</td><td>Romania</td><td>3</td><td>0</td><td>2</td><td>1</td><td>7</td><td>10</td><td>-3</td><td>1</td><td>E4</td></tr><tr><td>F</td><td>Greece</td><td>3</td><td>2</td><td>0</td><td>1</td><td>10</td><td>5</td><td>5</td><td>7</td><td>F1</td></tr><tr><td>F</td><td>Turkey</td><td>3</td><td>1</td><td>0</td><td>2</td><td>12</td><td>8</td><td>4</td><td>5</td><td>F2</td></tr><tr><td>F</td><td>Czech Republic</td><td>3</td><td>1</td><td>2</td><td>0</td><td>8</td><td>10</td><td>-2</td><td>3</td><td>F3</td></tr><tr><td>F</td><td>Portugal</td><td>3</td><td>0</td><td>2</td><td>1</td><td>5</td><td>12</td><td>-7</td><td>1</td><td>F4</td></tr></tbody></table></div>"
      ]
     },
     "metadata": {
      "application/vnd.databricks.v1+output": {
       "addedWidgets": {},
       "aggData": [],
       "aggError": "",
       "aggOverflow": false,
       "aggSchema": [],
       "aggSeriesLimitReached": false,
       "aggType": "",
       "arguments": {},
       "columnCustomDisplayInfos": {},
       "data": [
        [
         "A",
         "Switzerland",
         "3",
         "2",
         "0",
         "1",
         "12",
         "5",
         "7",
         "7",
         "A1"
        ],
        [
         "A",
         "Scotland",
         "3",
         "1",
         "1",
         "1",
         "10",
         "9",
         "1",
         "4",
         "A2"
        ],
        [
         "A",
         "Hungary",
         "3",
         "1",
         "1",
         "1",
         "12",
         "14",
         "-2",
         "4",
         "A3"
        ],
        [
         "A",
         "Germany",
         "3",
         "0",
         "2",
         "1",
         "6",
         "12",
         "-6",
         "1",
         "A4"
        ],
        [
         "B",
         "Italy",
         "3",
         "3",
         "0",
         "0",
         "13",
         "6",
         "7",
         "9",
         "B1"
        ],
        [
         "B",
         "Spain",
         "3",
         "2",
         "1",
         "0",
         "12",
         "9",
         "3",
         "6",
         "B2"
        ],
        [
         "B",
         "Albania",
         "3",
         "1",
         "2",
         "0",
         "12",
         "13",
         "-1",
         "3",
         "B3"
        ],
        [
         "B",
         "Croatia",
         "3",
         "0",
         "3",
         "0",
         "4",
         "13",
         "-9",
         "0",
         "B4"
        ],
        [
         "C",
         "Serbia",
         "3",
         "2",
         "1",
         "0",
         "8",
         "6",
         "2",
         "6",
         "C1"
        ],
        [
         "C",
         "Slovenia",
         "3",
         "2",
         "1",
         "0",
         "8",
         "9",
         "-1",
         "6",
         "C2"
        ],
        [
         "C",
         "England",
         "3",
         "1",
         "2",
         "0",
         "6",
         "5",
         "1",
         "3",
         "C3"
        ],
        [
         "C",
         "Denmark",
         "3",
         "1",
         "2",
         "0",
         "7",
         "9",
         "-2",
         "3",
         "C4"
        ],
        [
         "D",
         "Austria",
         "3",
         "2",
         "0",
         "1",
         "11",
         "8",
         "3",
         "7",
         "D1"
        ],
        [
         "D",
         "Netherlands",
         "3",
         "1",
         "1",
         "1",
         "12",
         "13",
         "-1",
         "4",
         "D2"
        ],
        [
         "D",
         "France",
         "3",
         "1",
         "2",
         "0",
         "11",
         "12",
         "-1",
         "3",
         "D3"
        ],
        [
         "D",
         "Poland",
         "3",
         "0",
         "1",
         "2",
         "13",
         "14",
         "-1",
         "2",
         "D4"
        ],
        [
         "E",
         "Ukraine",
         "3",
         "2",
         "0",
         "1",
         "8",
         "4",
         "4",
         "7",
         "E1"
        ],
        [
         "E",
         "Slovakia",
         "3",
         "1",
         "0",
         "2",
         "6",
         "3",
         "3",
         "5",
         "E2"
        ],
        [
         "E",
         "Belgium",
         "3",
         "1",
         "2",
         "0",
         "5",
         "9",
         "-4",
         "3",
         "E3"
        ],
        [
         "E",
         "Romania",
         "3",
         "0",
         "2",
         "1",
         "7",
         "10",
         "-3",
         "1",
         "E4"
        ],
        [
         "F",
         "Greece",
         "3",
         "2",
         "0",
         "1",
         "10",
         "5",
         "5",
         "7",
         "F1"
        ],
        [
         "F",
         "Turkey",
         "3",
         "1",
         "0",
         "2",
         "12",
         "8",
         "4",
         "5",
         "F2"
        ],
        [
         "F",
         "Czech Republic",
         "3",
         "1",
         "2",
         "0",
         "8",
         "10",
         "-2",
         "3",
         "F3"
        ],
        [
         "F",
         "Portugal",
         "3",
         "0",
         "2",
         "1",
         "5",
         "12",
         "-7",
         "1",
         "F4"
        ]
       ],
       "datasetInfos": [],
       "dbfsResultPath": null,
       "isJsonSchema": true,
       "metadata": {},
       "overflow": false,
       "plotOptions": {
        "customPlotOptions": {},
        "displayType": "table",
        "pivotAggregation": null,
        "pivotColumns": null,
        "xColumns": null,
        "yColumns": null
       },
       "removedWidgets": [],
       "schema": [
        {
         "metadata": "{}",
         "name": "GroupName",
         "type": "\"string\""
        },
        {
         "metadata": "{}",
         "name": "TeamName",
         "type": "\"string\""
        },
        {
         "metadata": "{}",
         "name": "MatchesPlayed",
         "type": "\"string\""
        },
        {
         "metadata": "{}",
         "name": "MatchesWon",
         "type": "\"string\""
        },
        {
         "metadata": "{}",
         "name": "MatchesLost",
         "type": "\"string\""
        },
        {
         "metadata": "{}",
         "name": "MatchesDrawn",
         "type": "\"string\""
        },
        {
         "metadata": "{}",
         "name": "GF",
         "type": "\"string\""
        },
        {
         "metadata": "{}",
         "name": "GA",
         "type": "\"string\""
        },
        {
         "metadata": "{}",
         "name": "GD",
         "type": "\"string\""
        },
        {
         "metadata": "{}",
         "name": "TotalPoints",
         "type": "\"string\""
        },
        {
         "metadata": "{}",
         "name": "Position",
         "type": "\"string\""
        }
       ],
       "type": "table"
      }
     },
     "output_type": "display_data"
    }
   ],
   "source": [
    "#getting data from sql table and into pandas dataframe\n",
    "groupstage = spark.sql(\"SELECT * FROM GroupStageResults\")\n",
    "groupstage_pd = groupstage.toPandas()\n",
    "\n",
    "#converting to string and removing .0 from floats occuring after conversion\n",
    "groupstage_pd = groupstage_pd.applymap(lambda x: str(x).split(\".\")[0])\n",
    "\n",
    "display(groupstage_pd)"
   ]
  },
  {
   "cell_type": "code",
   "execution_count": 0,
   "metadata": {
    "application/vnd.databricks.v1+cell": {
     "cellMetadata": {
      "byteLimit": 2048000,
      "rowLimit": 10000
     },
     "inputWidgets": {},
     "nuid": "41ad9e09-2788-4b4e-979f-983f5e38bae2",
     "showTitle": false,
     "title": ""
    }
   },
   "outputs": [],
   "source": [
    "#GroupStage Visualization Table\n",
    "euro_vis = pd.DataFrame({\n",
    "    'Grp/Pos': groupstage_pd['Position'],\n",
    "    'Country': groupstage_pd['TeamName'],\n",
    "    'MP': groupstage_pd['MatchesPlayed'],\n",
    "    'W': groupstage_pd['MatchesWon'],\n",
    "    'D': groupstage_pd['MatchesDrawn'],\n",
    "    'L': groupstage_pd['MatchesLost'],\n",
    "    'GF': groupstage_pd['GF'],\n",
    "    'GA': groupstage_pd['GA'],\n",
    "    'GD': groupstage_pd['GD'],\n",
    "    'Pts': groupstage_pd['TotalPoints']\n",
    "})"
   ]
  },
  {
   "cell_type": "code",
   "execution_count": 0,
   "metadata": {
    "application/vnd.databricks.v1+cell": {
     "cellMetadata": {
      "byteLimit": 2048000,
      "rowLimit": 10000
     },
     "inputWidgets": {},
     "nuid": "a4d11e56-a0ab-4b82-af3b-c6fda8e7552f",
     "showTitle": false,
     "title": ""
    }
   },
   "outputs": [],
   "source": [
    "#empty row for group stage\n",
    "mtgs_row_pd = pd.DataFrame({col: [''] for col in euro_vis.columns})"
   ]
  },
  {
   "cell_type": "code",
   "execution_count": 0,
   "metadata": {
    "application/vnd.databricks.v1+cell": {
     "cellMetadata": {
      "byteLimit": 2048000,
      "rowLimit": 10000
     },
     "inputWidgets": {},
     "nuid": "6c2fb0a6-62d9-4620-b3b1-1a3ca01adb99",
     "showTitle": false,
     "title": ""
    }
   },
   "outputs": [
    {
     "output_type": "display_data",
     "data": {
      "text/html": [
       "<style scoped>\n",
       "  .table-result-container {\n",
       "    max-height: 300px;\n",
       "    overflow: auto;\n",
       "  }\n",
       "  table, th, td {\n",
       "    border: 1px solid black;\n",
       "    border-collapse: collapse;\n",
       "  }\n",
       "  th, td {\n",
       "    padding: 5px;\n",
       "  }\n",
       "  th {\n",
       "    text-align: left;\n",
       "  }\n",
       "</style><div class='table-result-container'><table class='table-result'><thead style='background-color: white'><tr><th>Grp/Pos</th><th>Country</th><th>MP</th><th>W</th><th>D</th><th>L</th><th>GF</th><th>GA</th><th>GD</th><th>Pts</th></tr></thead><tbody><tr><td>A1</td><td>Switzerland</td><td>3</td><td>2</td><td>1</td><td>0</td><td>12</td><td>5</td><td>7</td><td>7</td></tr><tr><td>A2</td><td>Scotland</td><td>3</td><td>1</td><td>1</td><td>1</td><td>10</td><td>9</td><td>1</td><td>4</td></tr><tr><td>A3</td><td>Hungary</td><td>3</td><td>1</td><td>1</td><td>1</td><td>12</td><td>14</td><td>-2</td><td>4</td></tr><tr><td>A4</td><td>Germany</td><td>3</td><td>0</td><td>1</td><td>2</td><td>6</td><td>12</td><td>-6</td><td>1</td></tr><tr><td>B1</td><td>Italy</td><td>3</td><td>3</td><td>0</td><td>0</td><td>13</td><td>6</td><td>7</td><td>9</td></tr><tr><td>B2</td><td>Spain</td><td>3</td><td>2</td><td>0</td><td>1</td><td>12</td><td>9</td><td>3</td><td>6</td></tr><tr><td>B3</td><td>Albania</td><td>3</td><td>1</td><td>0</td><td>2</td><td>12</td><td>13</td><td>-1</td><td>3</td></tr><tr><td>B4</td><td>Croatia</td><td>3</td><td>0</td><td>0</td><td>3</td><td>4</td><td>13</td><td>-9</td><td>0</td></tr><tr><td>C1</td><td>Serbia</td><td>3</td><td>2</td><td>0</td><td>1</td><td>8</td><td>6</td><td>2</td><td>6</td></tr><tr><td>C2</td><td>Slovenia</td><td>3</td><td>2</td><td>0</td><td>1</td><td>8</td><td>9</td><td>-1</td><td>6</td></tr><tr><td>C3</td><td>England</td><td>3</td><td>1</td><td>0</td><td>2</td><td>6</td><td>5</td><td>1</td><td>3</td></tr><tr><td>C4</td><td>Denmark</td><td>3</td><td>1</td><td>0</td><td>2</td><td>7</td><td>9</td><td>-2</td><td>3</td></tr></tbody></table></div>"
      ]
     },
     "metadata": {
      "application/vnd.databricks.v1+output": {
       "addedWidgets": {},
       "aggData": [],
       "aggError": "",
       "aggOverflow": false,
       "aggSchema": [],
       "aggSeriesLimitReached": false,
       "aggType": "",
       "arguments": {},
       "columnCustomDisplayInfos": {},
       "data": [
        [
         "A1",
         "Switzerland",
         "3",
         "2",
         "1",
         "0",
         "12",
         "5",
         "7",
         "7"
        ],
        [
         "A2",
         "Scotland",
         "3",
         "1",
         "1",
         "1",
         "10",
         "9",
         "1",
         "4"
        ],
        [
         "A3",
         "Hungary",
         "3",
         "1",
         "1",
         "1",
         "12",
         "14",
         "-2",
         "4"
        ],
        [
         "A4",
         "Germany",
         "3",
         "0",
         "1",
         "2",
         "6",
         "12",
         "-6",
         "1"
        ],
        [
         "B1",
         "Italy",
         "3",
         "3",
         "0",
         "0",
         "13",
         "6",
         "7",
         "9"
        ],
        [
         "B2",
         "Spain",
         "3",
         "2",
         "0",
         "1",
         "12",
         "9",
         "3",
         "6"
        ],
        [
         "B3",
         "Albania",
         "3",
         "1",
         "0",
         "2",
         "12",
         "13",
         "-1",
         "3"
        ],
        [
         "B4",
         "Croatia",
         "3",
         "0",
         "0",
         "3",
         "4",
         "13",
         "-9",
         "0"
        ],
        [
         "C1",
         "Serbia",
         "3",
         "2",
         "0",
         "1",
         "8",
         "6",
         "2",
         "6"
        ],
        [
         "C2",
         "Slovenia",
         "3",
         "2",
         "0",
         "1",
         "8",
         "9",
         "-1",
         "6"
        ],
        [
         "C3",
         "England",
         "3",
         "1",
         "0",
         "2",
         "6",
         "5",
         "1",
         "3"
        ],
        [
         "C4",
         "Denmark",
         "3",
         "1",
         "0",
         "2",
         "7",
         "9",
         "-2",
         "3"
        ]
       ],
       "datasetInfos": [],
       "dbfsResultPath": null,
       "isJsonSchema": true,
       "metadata": {},
       "overflow": false,
       "plotOptions": {
        "customPlotOptions": {},
        "displayType": "table",
        "pivotAggregation": null,
        "pivotColumns": null,
        "xColumns": null,
        "yColumns": null
       },
       "removedWidgets": [],
       "schema": [
        {
         "metadata": "{}",
         "name": "Grp/Pos",
         "type": "\"string\""
        },
        {
         "metadata": "{}",
         "name": "Country",
         "type": "\"string\""
        },
        {
         "metadata": "{}",
         "name": "MP",
         "type": "\"string\""
        },
        {
         "metadata": "{}",
         "name": "W",
         "type": "\"string\""
        },
        {
         "metadata": "{}",
         "name": "D",
         "type": "\"string\""
        },
        {
         "metadata": "{}",
         "name": "L",
         "type": "\"string\""
        },
        {
         "metadata": "{}",
         "name": "GF",
         "type": "\"string\""
        },
        {
         "metadata": "{}",
         "name": "GA",
         "type": "\"string\""
        },
        {
         "metadata": "{}",
         "name": "GD",
         "type": "\"string\""
        },
        {
         "metadata": "{}",
         "name": "Pts",
         "type": "\"string\""
        }
       ],
       "type": "table"
      }
     },
     "output_type": "display_data"
    },
    {
     "output_type": "display_data",
     "data": {
      "text/html": [
       "<style scoped>\n",
       "  .table-result-container {\n",
       "    max-height: 300px;\n",
       "    overflow: auto;\n",
       "  }\n",
       "  table, th, td {\n",
       "    border: 1px solid black;\n",
       "    border-collapse: collapse;\n",
       "  }\n",
       "  th, td {\n",
       "    padding: 5px;\n",
       "  }\n",
       "  th {\n",
       "    text-align: left;\n",
       "  }\n",
       "</style><div class='table-result-container'><table class='table-result'><thead style='background-color: white'><tr><th>Grp/Pos</th><th>Country</th><th>MP</th><th>W</th><th>D</th><th>L</th><th>GF</th><th>GA</th><th>GD</th><th>Pts</th></tr></thead><tbody><tr><td>D1</td><td>Austria</td><td>3</td><td>2</td><td>1</td><td>0</td><td>11</td><td>8</td><td>3</td><td>7</td></tr><tr><td>D2</td><td>Netherlands</td><td>3</td><td>1</td><td>1</td><td>1</td><td>12</td><td>13</td><td>-1</td><td>4</td></tr><tr><td>D3</td><td>France</td><td>3</td><td>1</td><td>0</td><td>2</td><td>11</td><td>12</td><td>-1</td><td>3</td></tr><tr><td>D4</td><td>Poland</td><td>3</td><td>0</td><td>2</td><td>1</td><td>13</td><td>14</td><td>-1</td><td>2</td></tr><tr><td>E1</td><td>Ukraine</td><td>3</td><td>2</td><td>1</td><td>0</td><td>8</td><td>4</td><td>4</td><td>7</td></tr><tr><td>E2</td><td>Slovakia</td><td>3</td><td>1</td><td>2</td><td>0</td><td>6</td><td>3</td><td>3</td><td>5</td></tr><tr><td>E3</td><td>Belgium</td><td>3</td><td>1</td><td>0</td><td>2</td><td>5</td><td>9</td><td>-4</td><td>3</td></tr><tr><td>E4</td><td>Romania</td><td>3</td><td>0</td><td>1</td><td>2</td><td>7</td><td>10</td><td>-3</td><td>1</td></tr><tr><td>F1</td><td>Greece</td><td>3</td><td>2</td><td>1</td><td>0</td><td>10</td><td>5</td><td>5</td><td>7</td></tr><tr><td>F2</td><td>Turkey</td><td>3</td><td>1</td><td>2</td><td>0</td><td>12</td><td>8</td><td>4</td><td>5</td></tr><tr><td>F3</td><td>Czech Republic</td><td>3</td><td>1</td><td>0</td><td>2</td><td>8</td><td>10</td><td>-2</td><td>3</td></tr><tr><td>F4</td><td>Portugal</td><td>3</td><td>0</td><td>1</td><td>2</td><td>5</td><td>12</td><td>-7</td><td>1</td></tr></tbody></table></div>"
      ]
     },
     "metadata": {
      "application/vnd.databricks.v1+output": {
       "addedWidgets": {},
       "aggData": [],
       "aggError": "",
       "aggOverflow": false,
       "aggSchema": [],
       "aggSeriesLimitReached": false,
       "aggType": "",
       "arguments": {},
       "columnCustomDisplayInfos": {},
       "data": [
        [
         "D1",
         "Austria",
         "3",
         "2",
         "1",
         "0",
         "11",
         "8",
         "3",
         "7"
        ],
        [
         "D2",
         "Netherlands",
         "3",
         "1",
         "1",
         "1",
         "12",
         "13",
         "-1",
         "4"
        ],
        [
         "D3",
         "France",
         "3",
         "1",
         "0",
         "2",
         "11",
         "12",
         "-1",
         "3"
        ],
        [
         "D4",
         "Poland",
         "3",
         "0",
         "2",
         "1",
         "13",
         "14",
         "-1",
         "2"
        ],
        [
         "E1",
         "Ukraine",
         "3",
         "2",
         "1",
         "0",
         "8",
         "4",
         "4",
         "7"
        ],
        [
         "E2",
         "Slovakia",
         "3",
         "1",
         "2",
         "0",
         "6",
         "3",
         "3",
         "5"
        ],
        [
         "E3",
         "Belgium",
         "3",
         "1",
         "0",
         "2",
         "5",
         "9",
         "-4",
         "3"
        ],
        [
         "E4",
         "Romania",
         "3",
         "0",
         "1",
         "2",
         "7",
         "10",
         "-3",
         "1"
        ],
        [
         "F1",
         "Greece",
         "3",
         "2",
         "1",
         "0",
         "10",
         "5",
         "5",
         "7"
        ],
        [
         "F2",
         "Turkey",
         "3",
         "1",
         "2",
         "0",
         "12",
         "8",
         "4",
         "5"
        ],
        [
         "F3",
         "Czech Republic",
         "3",
         "1",
         "0",
         "2",
         "8",
         "10",
         "-2",
         "3"
        ],
        [
         "F4",
         "Portugal",
         "3",
         "0",
         "1",
         "2",
         "5",
         "12",
         "-7",
         "1"
        ]
       ],
       "datasetInfos": [],
       "dbfsResultPath": null,
       "isJsonSchema": true,
       "metadata": {},
       "overflow": false,
       "plotOptions": {
        "customPlotOptions": {},
        "displayType": "table",
        "pivotAggregation": null,
        "pivotColumns": null,
        "xColumns": null,
        "yColumns": null
       },
       "removedWidgets": [],
       "schema": [
        {
         "metadata": "{}",
         "name": "Grp/Pos",
         "type": "\"string\""
        },
        {
         "metadata": "{}",
         "name": "Country",
         "type": "\"string\""
        },
        {
         "metadata": "{}",
         "name": "MP",
         "type": "\"string\""
        },
        {
         "metadata": "{}",
         "name": "W",
         "type": "\"string\""
        },
        {
         "metadata": "{}",
         "name": "D",
         "type": "\"string\""
        },
        {
         "metadata": "{}",
         "name": "L",
         "type": "\"string\""
        },
        {
         "metadata": "{}",
         "name": "GF",
         "type": "\"string\""
        },
        {
         "metadata": "{}",
         "name": "GA",
         "type": "\"string\""
        },
        {
         "metadata": "{}",
         "name": "GD",
         "type": "\"string\""
        },
        {
         "metadata": "{}",
         "name": "Pts",
         "type": "\"string\""
        }
       ],
       "type": "table"
      }
     },
     "output_type": "display_data"
    }
   ],
   "source": [
    "#splitting into left and right for visulaization\n",
    "left_gs = euro_vis[euro_vis['Grp/Pos'].str.contains('^[ABC]')]\n",
    "\n",
    "right_gs = euro_vis[euro_vis['Grp/Pos'].str.contains('^[DEF]')]\n",
    "\n",
    "#reseting index for both df\n",
    "left_gs.reset_index(drop=True, inplace=True)\n",
    "right_gs.reset_index(drop=True, inplace=True)\n",
    "\n",
    "display(left_gs)\n",
    "display(right_gs)"
   ]
  },
  {
   "cell_type": "code",
   "execution_count": 0,
   "metadata": {
    "application/vnd.databricks.v1+cell": {
     "cellMetadata": {
      "byteLimit": 2048000,
      "rowLimit": 10000
     },
     "inputWidgets": {},
     "nuid": "5ddefab1-1a77-42fd-809a-f98895ed5d67",
     "showTitle": false,
     "title": ""
    }
   },
   "outputs": [
    {
     "output_type": "display_data",
     "data": {
      "text/html": [
       "<style scoped>\n",
       "  .table-result-container {\n",
       "    max-height: 300px;\n",
       "    overflow: auto;\n",
       "  }\n",
       "  table, th, td {\n",
       "    border: 1px solid black;\n",
       "    border-collapse: collapse;\n",
       "  }\n",
       "  th, td {\n",
       "    padding: 5px;\n",
       "  }\n",
       "  th {\n",
       "    text-align: left;\n",
       "  }\n",
       "</style><div class='table-result-container'><table class='table-result'><thead style='background-color: white'><tr><th>L_Grp/Pos</th><th>L_Country</th><th>L_MP</th><th>L_W</th><th>L-D</th><th>L_L</th><th>L-GF</th><th>L_GA</th><th>L_GD</th><th>L_Pts</th></tr></thead><tbody><tr><td>A1</td><td>Switzerland</td><td>3</td><td>2</td><td>1</td><td>0</td><td>12</td><td>5</td><td>7</td><td>7</td></tr><tr><td>A2</td><td>Scotland</td><td>3</td><td>1</td><td>1</td><td>1</td><td>10</td><td>9</td><td>1</td><td>4</td></tr><tr><td>A3</td><td>Hungary</td><td>3</td><td>1</td><td>1</td><td>1</td><td>12</td><td>14</td><td>-2</td><td>4</td></tr><tr><td>A4</td><td>Germany</td><td>3</td><td>0</td><td>1</td><td>2</td><td>6</td><td>12</td><td>-6</td><td>1</td></tr><tr><td></td><td></td><td></td><td></td><td></td><td></td><td></td><td></td><td></td><td></td></tr><tr><td></td><td></td><td></td><td></td><td></td><td></td><td></td><td></td><td></td><td></td></tr><tr><td>B1</td><td>Italy</td><td>3</td><td>3</td><td>0</td><td>0</td><td>13</td><td>6</td><td>7</td><td>9</td></tr><tr><td>B2</td><td>Spain</td><td>3</td><td>2</td><td>0</td><td>1</td><td>12</td><td>9</td><td>3</td><td>6</td></tr><tr><td>B3</td><td>Albania</td><td>3</td><td>1</td><td>0</td><td>2</td><td>12</td><td>13</td><td>-1</td><td>3</td></tr><tr><td>B4</td><td>Croatia</td><td>3</td><td>0</td><td>0</td><td>3</td><td>4</td><td>13</td><td>-9</td><td>0</td></tr><tr><td></td><td></td><td></td><td></td><td></td><td></td><td></td><td></td><td></td><td></td></tr><tr><td></td><td></td><td></td><td></td><td></td><td></td><td></td><td></td><td></td><td></td></tr><tr><td>C1</td><td>Serbia</td><td>3</td><td>2</td><td>0</td><td>1</td><td>8</td><td>6</td><td>2</td><td>6</td></tr><tr><td>C2</td><td>Slovenia</td><td>3</td><td>2</td><td>0</td><td>1</td><td>8</td><td>9</td><td>-1</td><td>6</td></tr><tr><td>C3</td><td>England</td><td>3</td><td>1</td><td>0</td><td>2</td><td>6</td><td>5</td><td>1</td><td>3</td></tr><tr><td>C4</td><td>Denmark</td><td>3</td><td>1</td><td>0</td><td>2</td><td>7</td><td>9</td><td>-2</td><td>3</td></tr></tbody></table></div>"
      ]
     },
     "metadata": {
      "application/vnd.databricks.v1+output": {
       "addedWidgets": {},
       "aggData": [],
       "aggError": "",
       "aggOverflow": false,
       "aggSchema": [],
       "aggSeriesLimitReached": false,
       "aggType": "",
       "arguments": {},
       "columnCustomDisplayInfos": {},
       "data": [
        [
         "A1",
         "Switzerland",
         "3",
         "2",
         "1",
         "0",
         "12",
         "5",
         "7",
         "7"
        ],
        [
         "A2",
         "Scotland",
         "3",
         "1",
         "1",
         "1",
         "10",
         "9",
         "1",
         "4"
        ],
        [
         "A3",
         "Hungary",
         "3",
         "1",
         "1",
         "1",
         "12",
         "14",
         "-2",
         "4"
        ],
        [
         "A4",
         "Germany",
         "3",
         "0",
         "1",
         "2",
         "6",
         "12",
         "-6",
         "1"
        ],
        [
         "",
         "",
         "",
         "",
         "",
         "",
         "",
         "",
         "",
         ""
        ],
        [
         "",
         "",
         "",
         "",
         "",
         "",
         "",
         "",
         "",
         ""
        ],
        [
         "B1",
         "Italy",
         "3",
         "3",
         "0",
         "0",
         "13",
         "6",
         "7",
         "9"
        ],
        [
         "B2",
         "Spain",
         "3",
         "2",
         "0",
         "1",
         "12",
         "9",
         "3",
         "6"
        ],
        [
         "B3",
         "Albania",
         "3",
         "1",
         "0",
         "2",
         "12",
         "13",
         "-1",
         "3"
        ],
        [
         "B4",
         "Croatia",
         "3",
         "0",
         "0",
         "3",
         "4",
         "13",
         "-9",
         "0"
        ],
        [
         "",
         "",
         "",
         "",
         "",
         "",
         "",
         "",
         "",
         ""
        ],
        [
         "",
         "",
         "",
         "",
         "",
         "",
         "",
         "",
         "",
         ""
        ],
        [
         "C1",
         "Serbia",
         "3",
         "2",
         "0",
         "1",
         "8",
         "6",
         "2",
         "6"
        ],
        [
         "C2",
         "Slovenia",
         "3",
         "2",
         "0",
         "1",
         "8",
         "9",
         "-1",
         "6"
        ],
        [
         "C3",
         "England",
         "3",
         "1",
         "0",
         "2",
         "6",
         "5",
         "1",
         "3"
        ],
        [
         "C4",
         "Denmark",
         "3",
         "1",
         "0",
         "2",
         "7",
         "9",
         "-2",
         "3"
        ]
       ],
       "datasetInfos": [],
       "dbfsResultPath": null,
       "isJsonSchema": true,
       "metadata": {},
       "overflow": false,
       "plotOptions": {
        "customPlotOptions": {},
        "displayType": "table",
        "pivotAggregation": null,
        "pivotColumns": null,
        "xColumns": null,
        "yColumns": null
       },
       "removedWidgets": [],
       "schema": [
        {
         "metadata": "{}",
         "name": "L_Grp/Pos",
         "type": "\"string\""
        },
        {
         "metadata": "{}",
         "name": "L_Country",
         "type": "\"string\""
        },
        {
         "metadata": "{}",
         "name": "L_MP",
         "type": "\"string\""
        },
        {
         "metadata": "{}",
         "name": "L_W",
         "type": "\"string\""
        },
        {
         "metadata": "{}",
         "name": "L-D",
         "type": "\"string\""
        },
        {
         "metadata": "{}",
         "name": "L_L",
         "type": "\"string\""
        },
        {
         "metadata": "{}",
         "name": "L-GF",
         "type": "\"string\""
        },
        {
         "metadata": "{}",
         "name": "L_GA",
         "type": "\"string\""
        },
        {
         "metadata": "{}",
         "name": "L_GD",
         "type": "\"string\""
        },
        {
         "metadata": "{}",
         "name": "L_Pts",
         "type": "\"string\""
        }
       ],
       "type": "table"
      }
     },
     "output_type": "display_data"
    }
   ],
   "source": [
    "#list of groupstage according to groupname\n",
    "left_gs_grouped = [left_gs.iloc[i:i+4] for i in range(0, len(left_gs), 4)]\n",
    "\n",
    "#iterating over above list and adding empty row except for last one\n",
    "for i in range(len(left_gs_grouped)):\n",
    "    if i < len(left_gs_grouped) - 1:\n",
    "        left_gs_grouped[i] = pd.concat([left_gs_grouped[i], mtgs_row_pd,mtgs_row_pd], ignore_index=True)\n",
    "\n",
    "#joining them back after adding empty rows\n",
    "left_gs_spaced = pd.concat(left_gs_grouped).reset_index(drop=True)\n",
    "\n",
    "lgs_new_column_name ={'Grp/Pos': 'L_Grp/Pos',\n",
    "                       'Country': 'L_Country',\n",
    "                       'MP': 'L_MP',\n",
    "                       'W': 'L_W',\n",
    "                       'D': 'L-D',\n",
    "                       'L': 'L_L',\n",
    "                       'GF': 'L-GF',\n",
    "                       'GA': 'L_GA',\n",
    "                       'GD': 'L_GD',\n",
    "                       'Pts': 'L_Pts'\n",
    "                       }\n",
    "left_gs_spaced = left_gs_spaced.rename(columns=lgs_new_column_name)\n",
    "\n",
    "display(left_gs_spaced)"
   ]
  },
  {
   "cell_type": "code",
   "execution_count": 0,
   "metadata": {
    "application/vnd.databricks.v1+cell": {
     "cellMetadata": {
      "byteLimit": 2048000,
      "rowLimit": 10000
     },
     "inputWidgets": {},
     "nuid": "6374dc61-5980-4eec-9aad-825aef449ad9",
     "showTitle": false,
     "title": ""
    }
   },
   "outputs": [
    {
     "output_type": "display_data",
     "data": {
      "text/html": [
       "<style scoped>\n",
       "  .table-result-container {\n",
       "    max-height: 300px;\n",
       "    overflow: auto;\n",
       "  }\n",
       "  table, th, td {\n",
       "    border: 1px solid black;\n",
       "    border-collapse: collapse;\n",
       "  }\n",
       "  th, td {\n",
       "    padding: 5px;\n",
       "  }\n",
       "  th {\n",
       "    text-align: left;\n",
       "  }\n",
       "</style><div class='table-result-container'><table class='table-result'><thead style='background-color: white'><tr><th>R_Grp/Pos</th><th>R_Country</th><th>R_MP</th><th>R_W</th><th>R-D</th><th>R_L</th><th>R-GF</th><th>R_GA</th><th>R_GD</th><th>R_Pts</th></tr></thead><tbody><tr><td>D1</td><td>Austria</td><td>3</td><td>2</td><td>1</td><td>0</td><td>11</td><td>8</td><td>3</td><td>7</td></tr><tr><td>D2</td><td>Netherlands</td><td>3</td><td>1</td><td>1</td><td>1</td><td>12</td><td>13</td><td>-1</td><td>4</td></tr><tr><td>D3</td><td>France</td><td>3</td><td>1</td><td>0</td><td>2</td><td>11</td><td>12</td><td>-1</td><td>3</td></tr><tr><td>D4</td><td>Poland</td><td>3</td><td>0</td><td>2</td><td>1</td><td>13</td><td>14</td><td>-1</td><td>2</td></tr><tr><td></td><td></td><td></td><td></td><td></td><td></td><td></td><td></td><td></td><td></td></tr><tr><td></td><td></td><td></td><td></td><td></td><td></td><td></td><td></td><td></td><td></td></tr><tr><td>E1</td><td>Ukraine</td><td>3</td><td>2</td><td>1</td><td>0</td><td>8</td><td>4</td><td>4</td><td>7</td></tr><tr><td>E2</td><td>Slovakia</td><td>3</td><td>1</td><td>2</td><td>0</td><td>6</td><td>3</td><td>3</td><td>5</td></tr><tr><td>E3</td><td>Belgium</td><td>3</td><td>1</td><td>0</td><td>2</td><td>5</td><td>9</td><td>-4</td><td>3</td></tr><tr><td>E4</td><td>Romania</td><td>3</td><td>0</td><td>1</td><td>2</td><td>7</td><td>10</td><td>-3</td><td>1</td></tr><tr><td></td><td></td><td></td><td></td><td></td><td></td><td></td><td></td><td></td><td></td></tr><tr><td></td><td></td><td></td><td></td><td></td><td></td><td></td><td></td><td></td><td></td></tr><tr><td>F1</td><td>Greece</td><td>3</td><td>2</td><td>1</td><td>0</td><td>10</td><td>5</td><td>5</td><td>7</td></tr><tr><td>F2</td><td>Turkey</td><td>3</td><td>1</td><td>2</td><td>0</td><td>12</td><td>8</td><td>4</td><td>5</td></tr><tr><td>F3</td><td>Czech Republic</td><td>3</td><td>1</td><td>0</td><td>2</td><td>8</td><td>10</td><td>-2</td><td>3</td></tr><tr><td>F4</td><td>Portugal</td><td>3</td><td>0</td><td>1</td><td>2</td><td>5</td><td>12</td><td>-7</td><td>1</td></tr></tbody></table></div>"
      ]
     },
     "metadata": {
      "application/vnd.databricks.v1+output": {
       "addedWidgets": {},
       "aggData": [],
       "aggError": "",
       "aggOverflow": false,
       "aggSchema": [],
       "aggSeriesLimitReached": false,
       "aggType": "",
       "arguments": {},
       "columnCustomDisplayInfos": {},
       "data": [
        [
         "D1",
         "Austria",
         "3",
         "2",
         "1",
         "0",
         "11",
         "8",
         "3",
         "7"
        ],
        [
         "D2",
         "Netherlands",
         "3",
         "1",
         "1",
         "1",
         "12",
         "13",
         "-1",
         "4"
        ],
        [
         "D3",
         "France",
         "3",
         "1",
         "0",
         "2",
         "11",
         "12",
         "-1",
         "3"
        ],
        [
         "D4",
         "Poland",
         "3",
         "0",
         "2",
         "1",
         "13",
         "14",
         "-1",
         "2"
        ],
        [
         "",
         "",
         "",
         "",
         "",
         "",
         "",
         "",
         "",
         ""
        ],
        [
         "",
         "",
         "",
         "",
         "",
         "",
         "",
         "",
         "",
         ""
        ],
        [
         "E1",
         "Ukraine",
         "3",
         "2",
         "1",
         "0",
         "8",
         "4",
         "4",
         "7"
        ],
        [
         "E2",
         "Slovakia",
         "3",
         "1",
         "2",
         "0",
         "6",
         "3",
         "3",
         "5"
        ],
        [
         "E3",
         "Belgium",
         "3",
         "1",
         "0",
         "2",
         "5",
         "9",
         "-4",
         "3"
        ],
        [
         "E4",
         "Romania",
         "3",
         "0",
         "1",
         "2",
         "7",
         "10",
         "-3",
         "1"
        ],
        [
         "",
         "",
         "",
         "",
         "",
         "",
         "",
         "",
         "",
         ""
        ],
        [
         "",
         "",
         "",
         "",
         "",
         "",
         "",
         "",
         "",
         ""
        ],
        [
         "F1",
         "Greece",
         "3",
         "2",
         "1",
         "0",
         "10",
         "5",
         "5",
         "7"
        ],
        [
         "F2",
         "Turkey",
         "3",
         "1",
         "2",
         "0",
         "12",
         "8",
         "4",
         "5"
        ],
        [
         "F3",
         "Czech Republic",
         "3",
         "1",
         "0",
         "2",
         "8",
         "10",
         "-2",
         "3"
        ],
        [
         "F4",
         "Portugal",
         "3",
         "0",
         "1",
         "2",
         "5",
         "12",
         "-7",
         "1"
        ]
       ],
       "datasetInfos": [],
       "dbfsResultPath": null,
       "isJsonSchema": true,
       "metadata": {},
       "overflow": false,
       "plotOptions": {
        "customPlotOptions": {},
        "displayType": "table",
        "pivotAggregation": null,
        "pivotColumns": null,
        "xColumns": null,
        "yColumns": null
       },
       "removedWidgets": [],
       "schema": [
        {
         "metadata": "{}",
         "name": "R_Grp/Pos",
         "type": "\"string\""
        },
        {
         "metadata": "{}",
         "name": "R_Country",
         "type": "\"string\""
        },
        {
         "metadata": "{}",
         "name": "R_MP",
         "type": "\"string\""
        },
        {
         "metadata": "{}",
         "name": "R_W",
         "type": "\"string\""
        },
        {
         "metadata": "{}",
         "name": "R-D",
         "type": "\"string\""
        },
        {
         "metadata": "{}",
         "name": "R_L",
         "type": "\"string\""
        },
        {
         "metadata": "{}",
         "name": "R-GF",
         "type": "\"string\""
        },
        {
         "metadata": "{}",
         "name": "R_GA",
         "type": "\"string\""
        },
        {
         "metadata": "{}",
         "name": "R_GD",
         "type": "\"string\""
        },
        {
         "metadata": "{}",
         "name": "R_Pts",
         "type": "\"string\""
        }
       ],
       "type": "table"
      }
     },
     "output_type": "display_data"
    }
   ],
   "source": [
    "#list of groupstage according to groupname\n",
    "right_gs_grouped = [right_gs.iloc[i:i+4] for i in range(0, len(right_gs), 4)]\n",
    "\n",
    "#iterating over above list and adding empty row except for last one\n",
    "for i in range(len(right_gs_grouped)):\n",
    "    if i < len(right_gs_grouped) - 1:\n",
    "        right_gs_grouped[i] = pd.concat([right_gs_grouped[i], mtgs_row_pd,mtgs_row_pd], ignore_index=True)\n",
    "\n",
    "#joining them back after adding empty rows\n",
    "right_gs_spaced = pd.concat(right_gs_grouped).reset_index(drop=True)\n",
    "\n",
    "rgs_new_column_name ={'Grp/Pos': 'R_Grp/Pos',\n",
    "                       'Country': 'R_Country',\n",
    "                       'MP': 'R_MP',\n",
    "                       'W': 'R_W',\n",
    "                       'D': 'R-D',\n",
    "                       'L': 'R_L',\n",
    "                       'GF': 'R-GF',\n",
    "                       'GA': 'R_GA',\n",
    "                       'GD': 'R_GD',\n",
    "                       'Pts': 'R_Pts'\n",
    "                       }\n",
    "right_gs_spaced = right_gs_spaced.rename(columns=rgs_new_column_name)\n",
    "\n",
    "display(right_gs_spaced)"
   ]
  },
  {
   "cell_type": "code",
   "execution_count": 0,
   "metadata": {
    "application/vnd.databricks.v1+cell": {
     "cellMetadata": {
      "byteLimit": 2048000,
      "rowLimit": 10000
     },
     "inputWidgets": {},
     "nuid": "e242ec7e-5c90-440b-b7ad-0a5b840fc4cb",
     "showTitle": false,
     "title": ""
    }
   },
   "outputs": [
    {
     "output_type": "display_data",
     "data": {
      "text/html": [
       "<style scoped>\n",
       "  .table-result-container {\n",
       "    max-height: 300px;\n",
       "    overflow: auto;\n",
       "  }\n",
       "  table, th, td {\n",
       "    border: 1px solid black;\n",
       "    border-collapse: collapse;\n",
       "  }\n",
       "  th, td {\n",
       "    padding: 5px;\n",
       "  }\n",
       "  th {\n",
       "    text-align: left;\n",
       "  }\n",
       "</style><div class='table-result-container'><table class='table-result'><thead style='background-color: white'><tr><th>MatchID</th><th>Team1</th><th>Team1Goals</th><th>Team2Goals</th><th>Team2</th><th>MatchWinner</th><th>MatchStage</th></tr></thead><tbody><tr><td>1</td><td>Italy</td><td>1</td><td>6</td><td>Hungary</td><td>Hungary</td><td>R16</td></tr><tr><td>2</td><td>Switzerland</td><td>1</td><td>5</td><td>Slovenia</td><td>Slovenia</td><td>R16</td></tr><tr><td>3</td><td>Greece</td><td>4</td><td>2</td><td>England</td><td>Greece</td><td>R16</td></tr><tr><td>4</td><td>Netherlands</td><td>0</td><td>2</td><td>Slovakia</td><td>Slovakia</td><td>R16</td></tr><tr><td>5</td><td>Ukraine</td><td>5</td><td>2</td><td>Albania</td><td>Ukraine</td><td>R16</td></tr><tr><td>6</td><td>Austria</td><td>1</td><td>4</td><td>Turkey</td><td>Turkey</td><td>R16</td></tr><tr><td>7</td><td>Serbia</td><td>0</td><td>2</td><td>France</td><td>France</td><td>R16</td></tr><tr><td>8</td><td>Scotland</td><td>4</td><td>2</td><td>Spain</td><td>Scotland</td><td>R16</td></tr></tbody></table></div>"
      ]
     },
     "metadata": {
      "application/vnd.databricks.v1+output": {
       "addedWidgets": {},
       "aggData": [],
       "aggError": "",
       "aggOverflow": false,
       "aggSchema": [],
       "aggSeriesLimitReached": false,
       "aggType": "",
       "arguments": {},
       "columnCustomDisplayInfos": {},
       "data": [
        [
         "1",
         "Italy",
         "1",
         "6",
         "Hungary",
         "Hungary",
         "R16"
        ],
        [
         "2",
         "Switzerland",
         "1",
         "5",
         "Slovenia",
         "Slovenia",
         "R16"
        ],
        [
         "3",
         "Greece",
         "4",
         "2",
         "England",
         "Greece",
         "R16"
        ],
        [
         "4",
         "Netherlands",
         "0",
         "2",
         "Slovakia",
         "Slovakia",
         "R16"
        ],
        [
         "5",
         "Ukraine",
         "5",
         "2",
         "Albania",
         "Ukraine",
         "R16"
        ],
        [
         "6",
         "Austria",
         "1",
         "4",
         "Turkey",
         "Turkey",
         "R16"
        ],
        [
         "7",
         "Serbia",
         "0",
         "2",
         "France",
         "France",
         "R16"
        ],
        [
         "8",
         "Scotland",
         "4",
         "2",
         "Spain",
         "Scotland",
         "R16"
        ]
       ],
       "datasetInfos": [],
       "dbfsResultPath": null,
       "isJsonSchema": true,
       "metadata": {},
       "overflow": false,
       "plotOptions": {
        "customPlotOptions": {},
        "displayType": "table",
        "pivotAggregation": null,
        "pivotColumns": null,
        "xColumns": null,
        "yColumns": null
       },
       "removedWidgets": [],
       "schema": [
        {
         "metadata": "{}",
         "name": "MatchID",
         "type": "\"string\""
        },
        {
         "metadata": "{}",
         "name": "Team1",
         "type": "\"string\""
        },
        {
         "metadata": "{}",
         "name": "Team1Goals",
         "type": "\"string\""
        },
        {
         "metadata": "{}",
         "name": "Team2Goals",
         "type": "\"string\""
        },
        {
         "metadata": "{}",
         "name": "Team2",
         "type": "\"string\""
        },
        {
         "metadata": "{}",
         "name": "MatchWinner",
         "type": "\"string\""
        },
        {
         "metadata": "{}",
         "name": "MatchStage",
         "type": "\"string\""
        }
       ],
       "type": "table"
      }
     },
     "output_type": "display_data"
    }
   ],
   "source": [
    "#getting data from sql table and into pandas dataframe\n",
    "round_16 = spark.sql(\"SELECT * FROM QualificationPlacement WHERE MatchStage = 'R16'\")\n",
    "round_16_pd = round_16.toPandas()\n",
    "\n",
    "#converting to string and removing .0 from floats occuring after conversion\n",
    "round_16_pd = round_16_pd.applymap(lambda x: str(x).split(\".\")[0])\n",
    "\n",
    "display(round_16_pd)"
   ]
  },
  {
   "cell_type": "code",
   "execution_count": 0,
   "metadata": {
    "application/vnd.databricks.v1+cell": {
     "cellMetadata": {
      "byteLimit": 2048000,
      "rowLimit": 10000
     },
     "inputWidgets": {},
     "nuid": "a06a3941-8763-4b86-b08c-d49e6eae78d1",
     "showTitle": false,
     "title": ""
    }
   },
   "outputs": [
    {
     "output_type": "display_data",
     "data": {
      "text/html": [
       "<style scoped>\n",
       "  .table-result-container {\n",
       "    max-height: 300px;\n",
       "    overflow: auto;\n",
       "  }\n",
       "  table, th, td {\n",
       "    border: 1px solid black;\n",
       "    border-collapse: collapse;\n",
       "  }\n",
       "  th, td {\n",
       "    padding: 5px;\n",
       "  }\n",
       "  th {\n",
       "    text-align: left;\n",
       "  }\n",
       "</style><div class='table-result-container'><table class='table-result'><thead style='background-color: white'><tr><th>R16_Teams</th><th>R16_Score</th></tr></thead><tbody><tr><td>Italy</td><td>1</td></tr><tr><td>Hungary</td><td>6</td></tr><tr><td>Switzerland</td><td>1</td></tr><tr><td>Slovenia</td><td>5</td></tr><tr><td>Greece</td><td>4</td></tr><tr><td>England</td><td>2</td></tr><tr><td>Netherlands</td><td>0</td></tr><tr><td>Slovakia</td><td>2</td></tr><tr><td>Ukraine</td><td>5</td></tr><tr><td>Albania</td><td>2</td></tr><tr><td>Austria</td><td>1</td></tr><tr><td>Turkey</td><td>4</td></tr><tr><td>Serbia</td><td>0</td></tr><tr><td>France</td><td>2</td></tr><tr><td>Scotland</td><td>4</td></tr><tr><td>Spain</td><td>2</td></tr></tbody></table></div>"
      ]
     },
     "metadata": {
      "application/vnd.databricks.v1+output": {
       "addedWidgets": {},
       "aggData": [],
       "aggError": "",
       "aggOverflow": false,
       "aggSchema": [],
       "aggSeriesLimitReached": false,
       "aggType": "",
       "arguments": {},
       "columnCustomDisplayInfos": {},
       "data": [
        [
         "Italy",
         "1"
        ],
        [
         "Hungary",
         "6"
        ],
        [
         "Switzerland",
         "1"
        ],
        [
         "Slovenia",
         "5"
        ],
        [
         "Greece",
         "4"
        ],
        [
         "England",
         "2"
        ],
        [
         "Netherlands",
         "0"
        ],
        [
         "Slovakia",
         "2"
        ],
        [
         "Ukraine",
         "5"
        ],
        [
         "Albania",
         "2"
        ],
        [
         "Austria",
         "1"
        ],
        [
         "Turkey",
         "4"
        ],
        [
         "Serbia",
         "0"
        ],
        [
         "France",
         "2"
        ],
        [
         "Scotland",
         "4"
        ],
        [
         "Spain",
         "2"
        ]
       ],
       "datasetInfos": [],
       "dbfsResultPath": null,
       "isJsonSchema": true,
       "metadata": {},
       "overflow": false,
       "plotOptions": {
        "customPlotOptions": {},
        "displayType": "table",
        "pivotAggregation": null,
        "pivotColumns": null,
        "xColumns": null,
        "yColumns": null
       },
       "removedWidgets": [],
       "schema": [
        {
         "metadata": "{}",
         "name": "R16_Teams",
         "type": "\"string\""
        },
        {
         "metadata": "{}",
         "name": "R16_Score",
         "type": "\"string\""
        }
       ],
       "type": "table"
      }
     },
     "output_type": "display_data"
    }
   ],
   "source": [
    "#storing required data in df\n",
    "euro_r16_vis = pd.DataFrame(columns=['R16_Teams', 'R16_Score'])\n",
    "\n",
    "#displaying all teams and respective scores in columns\n",
    "for index, row in round_16_pd.iterrows():\n",
    "    team1 = row['Team1']\n",
    "    team1goals = row['Team1Goals']\n",
    "    team2 = row['Team2']\n",
    "    team2goals = row['Team2Goals']\n",
    "    euro_r16_vis = pd.concat([euro_r16_vis, pd.DataFrame({'R16_Score': [team1goals], 'R16_Teams': [team1]})], ignore_index=True)\n",
    "    euro_r16_vis = pd.concat([euro_r16_vis, pd.DataFrame({'R16_Score': [team2goals], 'R16_Teams': [team2]})], ignore_index=True)\n",
    "\n",
    "display(euro_r16_vis)\n"
   ]
  },
  {
   "cell_type": "code",
   "execution_count": 0,
   "metadata": {
    "application/vnd.databricks.v1+cell": {
     "cellMetadata": {
      "byteLimit": 2048000,
      "rowLimit": 10000
     },
     "inputWidgets": {},
     "nuid": "7840731a-eecd-4657-b94d-dae74691a2bb",
     "showTitle": false,
     "title": ""
    }
   },
   "outputs": [
    {
     "output_type": "display_data",
     "data": {
      "text/html": [
       "<style scoped>\n",
       "  .table-result-container {\n",
       "    max-height: 300px;\n",
       "    overflow: auto;\n",
       "  }\n",
       "  table, th, td {\n",
       "    border: 1px solid black;\n",
       "    border-collapse: collapse;\n",
       "  }\n",
       "  th, td {\n",
       "    padding: 5px;\n",
       "  }\n",
       "  th {\n",
       "    text-align: left;\n",
       "  }\n",
       "</style><div class='table-result-container'><table class='table-result'><thead style='background-color: white'><tr><th>R16_Teams</th><th>R16_Score</th></tr></thead><tbody><tr><td>Italy</td><td>1</td></tr><tr><td>Hungary</td><td>6</td></tr><tr><td>Switzerland</td><td>1</td></tr><tr><td>Slovenia</td><td>5</td></tr><tr><td>Greece</td><td>4</td></tr><tr><td>England</td><td>2</td></tr><tr><td>Netherlands</td><td>0</td></tr><tr><td>Slovakia</td><td>2</td></tr></tbody></table></div>"
      ]
     },
     "metadata": {
      "application/vnd.databricks.v1+output": {
       "addedWidgets": {},
       "aggData": [],
       "aggError": "",
       "aggOverflow": false,
       "aggSchema": [],
       "aggSeriesLimitReached": false,
       "aggType": "",
       "arguments": {},
       "columnCustomDisplayInfos": {},
       "data": [
        [
         "Italy",
         "1"
        ],
        [
         "Hungary",
         "6"
        ],
        [
         "Switzerland",
         "1"
        ],
        [
         "Slovenia",
         "5"
        ],
        [
         "Greece",
         "4"
        ],
        [
         "England",
         "2"
        ],
        [
         "Netherlands",
         "0"
        ],
        [
         "Slovakia",
         "2"
        ]
       ],
       "datasetInfos": [],
       "dbfsResultPath": null,
       "isJsonSchema": true,
       "metadata": {},
       "overflow": false,
       "plotOptions": {
        "customPlotOptions": {},
        "displayType": "table",
        "pivotAggregation": null,
        "pivotColumns": null,
        "xColumns": null,
        "yColumns": null
       },
       "removedWidgets": [],
       "schema": [
        {
         "metadata": "{}",
         "name": "R16_Teams",
         "type": "\"string\""
        },
        {
         "metadata": "{}",
         "name": "R16_Score",
         "type": "\"string\""
        }
       ],
       "type": "table"
      }
     },
     "output_type": "display_data"
    },
    {
     "output_type": "display_data",
     "data": {
      "text/html": [
       "<style scoped>\n",
       "  .table-result-container {\n",
       "    max-height: 300px;\n",
       "    overflow: auto;\n",
       "  }\n",
       "  table, th, td {\n",
       "    border: 1px solid black;\n",
       "    border-collapse: collapse;\n",
       "  }\n",
       "  th, td {\n",
       "    padding: 5px;\n",
       "  }\n",
       "  th {\n",
       "    text-align: left;\n",
       "  }\n",
       "</style><div class='table-result-container'><table class='table-result'><thead style='background-color: white'><tr><th>R16_Teams</th><th>R16_Score</th></tr></thead><tbody><tr><td>Ukraine</td><td>5</td></tr><tr><td>Albania</td><td>2</td></tr><tr><td>Austria</td><td>1</td></tr><tr><td>Turkey</td><td>4</td></tr><tr><td>Serbia</td><td>0</td></tr><tr><td>France</td><td>2</td></tr><tr><td>Scotland</td><td>4</td></tr><tr><td>Spain</td><td>2</td></tr></tbody></table></div>"
      ]
     },
     "metadata": {
      "application/vnd.databricks.v1+output": {
       "addedWidgets": {},
       "aggData": [],
       "aggError": "",
       "aggOverflow": false,
       "aggSchema": [],
       "aggSeriesLimitReached": false,
       "aggType": "",
       "arguments": {},
       "columnCustomDisplayInfos": {},
       "data": [
        [
         "Ukraine",
         "5"
        ],
        [
         "Albania",
         "2"
        ],
        [
         "Austria",
         "1"
        ],
        [
         "Turkey",
         "4"
        ],
        [
         "Serbia",
         "0"
        ],
        [
         "France",
         "2"
        ],
        [
         "Scotland",
         "4"
        ],
        [
         "Spain",
         "2"
        ]
       ],
       "datasetInfos": [],
       "dbfsResultPath": null,
       "isJsonSchema": true,
       "metadata": {},
       "overflow": false,
       "plotOptions": {
        "customPlotOptions": {},
        "displayType": "table",
        "pivotAggregation": null,
        "pivotColumns": null,
        "xColumns": null,
        "yColumns": null
       },
       "removedWidgets": [],
       "schema": [
        {
         "metadata": "{}",
         "name": "R16_Teams",
         "type": "\"string\""
        },
        {
         "metadata": "{}",
         "name": "R16_Score",
         "type": "\"string\""
        }
       ],
       "type": "table"
      }
     },
     "output_type": "display_data"
    }
   ],
   "source": [
    "# calculating midpoint of the dataFrame\n",
    "midpoint_index1 = len(euro_r16_vis) // 2\n",
    "\n",
    "# splitting dataFrame into two equal halves\n",
    "left_r16 = euro_r16_vis.iloc[:midpoint_index1]\n",
    "right_r16 = euro_r16_vis.iloc[midpoint_index1:]\n",
    "\n",
    "# index reset\n",
    "left_r16.reset_index(drop=True, inplace=True)\n",
    "right_r16.reset_index(drop=True, inplace=True)\n",
    "\n",
    "# displaying the split DataFrames\n",
    "display(left_r16)\n",
    "display(right_r16)"
   ]
  },
  {
   "cell_type": "code",
   "execution_count": 0,
   "metadata": {
    "application/vnd.databricks.v1+cell": {
     "cellMetadata": {
      "byteLimit": 2048000,
      "rowLimit": 10000
     },
     "inputWidgets": {},
     "nuid": "b2d177f0-83c4-425e-828f-8e4a1bdc0c48",
     "showTitle": false,
     "title": ""
    }
   },
   "outputs": [],
   "source": [
    "#empty row for round of 16\n",
    "r16_row_pd = pd.DataFrame({col: [''] for col in euro_r16_vis.columns})"
   ]
  },
  {
   "cell_type": "code",
   "execution_count": 0,
   "metadata": {
    "application/vnd.databricks.v1+cell": {
     "cellMetadata": {
      "byteLimit": 2048000,
      "rowLimit": 10000
     },
     "inputWidgets": {},
     "nuid": "71624a9e-0a8c-4ed8-815d-b162d5e96d07",
     "showTitle": false,
     "title": ""
    }
   },
   "outputs": [
    {
     "output_type": "display_data",
     "data": {
      "text/html": [
       "<style scoped>\n",
       "  .table-result-container {\n",
       "    max-height: 300px;\n",
       "    overflow: auto;\n",
       "  }\n",
       "  table, th, td {\n",
       "    border: 1px solid black;\n",
       "    border-collapse: collapse;\n",
       "  }\n",
       "  th, td {\n",
       "    padding: 5px;\n",
       "  }\n",
       "  th {\n",
       "    text-align: left;\n",
       "  }\n",
       "</style><div class='table-result-container'><table class='table-result'><thead style='background-color: white'><tr><th>L_R16_Teams</th><th>L_R16_Score</th></tr></thead><tbody><tr><td></td><td></td></tr><tr><td>Italy</td><td>1</td></tr><tr><td>Hungary</td><td>6</td></tr><tr><td></td><td></td></tr><tr><td></td><td></td></tr><tr><td>Switzerland</td><td>1</td></tr><tr><td>Slovenia</td><td>5</td></tr><tr><td></td><td></td></tr><tr><td></td><td></td></tr><tr><td>Greece</td><td>4</td></tr><tr><td>England</td><td>2</td></tr><tr><td></td><td></td></tr><tr><td></td><td></td></tr><tr><td>Netherlands</td><td>0</td></tr><tr><td>Slovakia</td><td>2</td></tr><tr><td></td><td></td></tr></tbody></table></div>"
      ]
     },
     "metadata": {
      "application/vnd.databricks.v1+output": {
       "addedWidgets": {},
       "aggData": [],
       "aggError": "",
       "aggOverflow": false,
       "aggSchema": [],
       "aggSeriesLimitReached": false,
       "aggType": "",
       "arguments": {},
       "columnCustomDisplayInfos": {},
       "data": [
        [
         "",
         ""
        ],
        [
         "Italy",
         "1"
        ],
        [
         "Hungary",
         "6"
        ],
        [
         "",
         ""
        ],
        [
         "",
         ""
        ],
        [
         "Switzerland",
         "1"
        ],
        [
         "Slovenia",
         "5"
        ],
        [
         "",
         ""
        ],
        [
         "",
         ""
        ],
        [
         "Greece",
         "4"
        ],
        [
         "England",
         "2"
        ],
        [
         "",
         ""
        ],
        [
         "",
         ""
        ],
        [
         "Netherlands",
         "0"
        ],
        [
         "Slovakia",
         "2"
        ],
        [
         "",
         ""
        ]
       ],
       "datasetInfos": [],
       "dbfsResultPath": null,
       "isJsonSchema": true,
       "metadata": {},
       "overflow": false,
       "plotOptions": {
        "customPlotOptions": {},
        "displayType": "table",
        "pivotAggregation": null,
        "pivotColumns": null,
        "xColumns": null,
        "yColumns": null
       },
       "removedWidgets": [],
       "schema": [
        {
         "metadata": "{}",
         "name": "L_R16_Teams",
         "type": "\"string\""
        },
        {
         "metadata": "{}",
         "name": "L_R16_Score",
         "type": "\"string\""
        }
       ],
       "type": "table"
      }
     },
     "output_type": "display_data"
    }
   ],
   "source": [
    "\n",
    "left_r16_grouped = [left_r16.iloc[i:i+2] for i in range(0, len(left_r16), 2)]\n",
    "\n",
    "for i in range(len(left_r16_grouped)):\n",
    "    if i < len(left_r16_grouped):\n",
    "        left_r16_grouped[i] = pd.concat([r16_row_pd,left_r16_grouped[i], r16_row_pd], ignore_index=True)\n",
    "\n",
    "left_r16_spaced = pd.concat(left_r16_grouped).reset_index(drop=True)\n",
    "\n",
    "lr16_new_column_name ={'R16_Teams': 'L_R16_Teams',\n",
    "                       'R16_Score': 'L_R16_Score'\n",
    "                       }\n",
    "left_r16_spaced = left_r16_spaced.rename(columns=lr16_new_column_name)\n",
    "\n",
    "display(left_r16_spaced)"
   ]
  },
  {
   "cell_type": "code",
   "execution_count": 0,
   "metadata": {
    "application/vnd.databricks.v1+cell": {
     "cellMetadata": {
      "byteLimit": 2048000,
      "rowLimit": 10000
     },
     "inputWidgets": {},
     "nuid": "eb2a5417-2559-4ef2-a0f1-30a9123a9daa",
     "showTitle": false,
     "title": ""
    }
   },
   "outputs": [
    {
     "output_type": "display_data",
     "data": {
      "text/html": [
       "<style scoped>\n",
       "  .table-result-container {\n",
       "    max-height: 300px;\n",
       "    overflow: auto;\n",
       "  }\n",
       "  table, th, td {\n",
       "    border: 1px solid black;\n",
       "    border-collapse: collapse;\n",
       "  }\n",
       "  th, td {\n",
       "    padding: 5px;\n",
       "  }\n",
       "  th {\n",
       "    text-align: left;\n",
       "  }\n",
       "</style><div class='table-result-container'><table class='table-result'><thead style='background-color: white'><tr><th>R_R16_Score</th><th>R_R16_Teams</th></tr></thead><tbody><tr><td></td><td></td></tr><tr><td>5</td><td>Ukraine</td></tr><tr><td>2</td><td>Albania</td></tr><tr><td></td><td></td></tr><tr><td></td><td></td></tr><tr><td>1</td><td>Austria</td></tr><tr><td>4</td><td>Turkey</td></tr><tr><td></td><td></td></tr><tr><td></td><td></td></tr><tr><td>0</td><td>Serbia</td></tr><tr><td>2</td><td>France</td></tr><tr><td></td><td></td></tr><tr><td></td><td></td></tr><tr><td>4</td><td>Scotland</td></tr><tr><td>2</td><td>Spain</td></tr><tr><td></td><td></td></tr></tbody></table></div>"
      ]
     },
     "metadata": {
      "application/vnd.databricks.v1+output": {
       "addedWidgets": {},
       "aggData": [],
       "aggError": "",
       "aggOverflow": false,
       "aggSchema": [],
       "aggSeriesLimitReached": false,
       "aggType": "",
       "arguments": {},
       "columnCustomDisplayInfos": {},
       "data": [
        [
         "",
         ""
        ],
        [
         "5",
         "Ukraine"
        ],
        [
         "2",
         "Albania"
        ],
        [
         "",
         ""
        ],
        [
         "",
         ""
        ],
        [
         "1",
         "Austria"
        ],
        [
         "4",
         "Turkey"
        ],
        [
         "",
         ""
        ],
        [
         "",
         ""
        ],
        [
         "0",
         "Serbia"
        ],
        [
         "2",
         "France"
        ],
        [
         "",
         ""
        ],
        [
         "",
         ""
        ],
        [
         "4",
         "Scotland"
        ],
        [
         "2",
         "Spain"
        ],
        [
         "",
         ""
        ]
       ],
       "datasetInfos": [],
       "dbfsResultPath": null,
       "isJsonSchema": true,
       "metadata": {},
       "overflow": false,
       "plotOptions": {
        "customPlotOptions": {},
        "displayType": "table",
        "pivotAggregation": null,
        "pivotColumns": null,
        "xColumns": null,
        "yColumns": null
       },
       "removedWidgets": [],
       "schema": [
        {
         "metadata": "{}",
         "name": "R_R16_Score",
         "type": "\"string\""
        },
        {
         "metadata": "{}",
         "name": "R_R16_Teams",
         "type": "\"string\""
        }
       ],
       "type": "table"
      }
     },
     "output_type": "display_data"
    }
   ],
   "source": [
    "right_r16_grouped = [right_r16.iloc[i:i+2] for i in range(0, len(right_r16), 2)]\n",
    "\n",
    "for i in range(len(right_r16_grouped)):\n",
    "    if i < len(right_r16_grouped):\n",
    "        right_r16_grouped[i] = pd.concat([r16_row_pd,right_r16_grouped[i], r16_row_pd], ignore_index=True)\n",
    "\n",
    "right_r16_spaced = pd.concat(right_r16_grouped).reset_index(drop=True)\n",
    "\n",
    "rr16_new_column_name ={'R16_Teams': 'R_R16_Teams',\n",
    "                       'R16_Score': 'R_R16_Score'\n",
    "                       }\n",
    "right_r16_spaced = right_r16_spaced.rename(columns=rr16_new_column_name)\n",
    "\n",
    "rr16_new_column_order = ['R_R16_Score', 'R_R16_Teams']\n",
    "right_r16_spaced = right_r16_spaced[rr16_new_column_order]\n",
    "\n",
    "display(right_r16_spaced)"
   ]
  },
  {
   "cell_type": "code",
   "execution_count": 0,
   "metadata": {
    "application/vnd.databricks.v1+cell": {
     "cellMetadata": {
      "byteLimit": 2048000,
      "rowLimit": 10000
     },
     "inputWidgets": {},
     "nuid": "c2685989-6e85-4240-b404-46f119a3be1c",
     "showTitle": false,
     "title": ""
    }
   },
   "outputs": [
    {
     "output_type": "display_data",
     "data": {
      "text/html": [
       "<style scoped>\n",
       "  .table-result-container {\n",
       "    max-height: 300px;\n",
       "    overflow: auto;\n",
       "  }\n",
       "  table, th, td {\n",
       "    border: 1px solid black;\n",
       "    border-collapse: collapse;\n",
       "  }\n",
       "  th, td {\n",
       "    padding: 5px;\n",
       "  }\n",
       "  th {\n",
       "    text-align: left;\n",
       "  }\n",
       "</style><div class='table-result-container'><table class='table-result'><thead style='background-color: white'><tr><th>MatchID</th><th>Team1</th><th>Team1Goals</th><th>Team2Goals</th><th>Team2</th><th>MatchWinner</th><th>MatchStage</th></tr></thead><tbody><tr><td>9</td><td>Hungary</td><td>4</td><td>0</td><td>Slovenia</td><td>Hungary</td><td>QF</td></tr><tr><td>10</td><td>Greece</td><td>5</td><td>2</td><td>Slovakia</td><td>Greece</td><td>QF</td></tr><tr><td>11</td><td>Ukraine</td><td>5</td><td>1</td><td>Turkey</td><td>Ukraine</td><td>QF</td></tr><tr><td>12</td><td>France</td><td>1</td><td>4</td><td>Scotland</td><td>Scotland</td><td>QF</td></tr></tbody></table></div>"
      ]
     },
     "metadata": {
      "application/vnd.databricks.v1+output": {
       "addedWidgets": {},
       "aggData": [],
       "aggError": "",
       "aggOverflow": false,
       "aggSchema": [],
       "aggSeriesLimitReached": false,
       "aggType": "",
       "arguments": {},
       "columnCustomDisplayInfos": {},
       "data": [
        [
         "9",
         "Hungary",
         "4",
         "0",
         "Slovenia",
         "Hungary",
         "QF"
        ],
        [
         "10",
         "Greece",
         "5",
         "2",
         "Slovakia",
         "Greece",
         "QF"
        ],
        [
         "11",
         "Ukraine",
         "5",
         "1",
         "Turkey",
         "Ukraine",
         "QF"
        ],
        [
         "12",
         "France",
         "1",
         "4",
         "Scotland",
         "Scotland",
         "QF"
        ]
       ],
       "datasetInfos": [],
       "dbfsResultPath": null,
       "isJsonSchema": true,
       "metadata": {},
       "overflow": false,
       "plotOptions": {
        "customPlotOptions": {},
        "displayType": "table",
        "pivotAggregation": null,
        "pivotColumns": null,
        "xColumns": null,
        "yColumns": null
       },
       "removedWidgets": [],
       "schema": [
        {
         "metadata": "{}",
         "name": "MatchID",
         "type": "\"string\""
        },
        {
         "metadata": "{}",
         "name": "Team1",
         "type": "\"string\""
        },
        {
         "metadata": "{}",
         "name": "Team1Goals",
         "type": "\"string\""
        },
        {
         "metadata": "{}",
         "name": "Team2Goals",
         "type": "\"string\""
        },
        {
         "metadata": "{}",
         "name": "Team2",
         "type": "\"string\""
        },
        {
         "metadata": "{}",
         "name": "MatchWinner",
         "type": "\"string\""
        },
        {
         "metadata": "{}",
         "name": "MatchStage",
         "type": "\"string\""
        }
       ],
       "type": "table"
      }
     },
     "output_type": "display_data"
    }
   ],
   "source": [
    "qf = spark.sql(\"SELECT * FROM QualificationPlacement WHERE MatchStage = 'QF'\")\n",
    "qf_pd = qf.toPandas()\n",
    "qf_pd = qf_pd.applymap(lambda x: str(x).split(\".\")[0])\n",
    "\n",
    "display(qf_pd)"
   ]
  },
  {
   "cell_type": "code",
   "execution_count": 0,
   "metadata": {
    "application/vnd.databricks.v1+cell": {
     "cellMetadata": {
      "byteLimit": 2048000,
      "rowLimit": 10000
     },
     "inputWidgets": {},
     "nuid": "5edfcbe6-3e11-433e-b353-58d18d4a7a9d",
     "showTitle": false,
     "title": ""
    }
   },
   "outputs": [
    {
     "output_type": "display_data",
     "data": {
      "text/html": [
       "<style scoped>\n",
       "  .table-result-container {\n",
       "    max-height: 300px;\n",
       "    overflow: auto;\n",
       "  }\n",
       "  table, th, td {\n",
       "    border: 1px solid black;\n",
       "    border-collapse: collapse;\n",
       "  }\n",
       "  th, td {\n",
       "    padding: 5px;\n",
       "  }\n",
       "  th {\n",
       "    text-align: left;\n",
       "  }\n",
       "</style><div class='table-result-container'><table class='table-result'><thead style='background-color: white'><tr><th>QF_Teams</th><th>QF_Score</th></tr></thead><tbody><tr><td>Hungary</td><td>4</td></tr><tr><td>Slovenia</td><td>0</td></tr><tr><td>Greece</td><td>5</td></tr><tr><td>Slovakia</td><td>2</td></tr><tr><td>Ukraine</td><td>5</td></tr><tr><td>Turkey</td><td>1</td></tr><tr><td>France</td><td>1</td></tr><tr><td>Scotland</td><td>4</td></tr></tbody></table></div>"
      ]
     },
     "metadata": {
      "application/vnd.databricks.v1+output": {
       "addedWidgets": {},
       "aggData": [],
       "aggError": "",
       "aggOverflow": false,
       "aggSchema": [],
       "aggSeriesLimitReached": false,
       "aggType": "",
       "arguments": {},
       "columnCustomDisplayInfos": {},
       "data": [
        [
         "Hungary",
         "4"
        ],
        [
         "Slovenia",
         "0"
        ],
        [
         "Greece",
         "5"
        ],
        [
         "Slovakia",
         "2"
        ],
        [
         "Ukraine",
         "5"
        ],
        [
         "Turkey",
         "1"
        ],
        [
         "France",
         "1"
        ],
        [
         "Scotland",
         "4"
        ]
       ],
       "datasetInfos": [],
       "dbfsResultPath": null,
       "isJsonSchema": true,
       "metadata": {},
       "overflow": false,
       "plotOptions": {
        "customPlotOptions": {},
        "displayType": "table",
        "pivotAggregation": null,
        "pivotColumns": null,
        "xColumns": null,
        "yColumns": null
       },
       "removedWidgets": [],
       "schema": [
        {
         "metadata": "{}",
         "name": "QF_Teams",
         "type": "\"string\""
        },
        {
         "metadata": "{}",
         "name": "QF_Score",
         "type": "\"string\""
        }
       ],
       "type": "table"
      }
     },
     "output_type": "display_data"
    }
   ],
   "source": [
    "#storing required data in df\n",
    "qf_vis = pd.DataFrame(columns=['QF_Teams', 'QF_Score'])\n",
    "\n",
    "#displaying all teams and respective scores in columns\n",
    "for index, row in qf_pd.iterrows():\n",
    "    team1 = row['Team1']\n",
    "    team1goals = row['Team1Goals']\n",
    "    team2 = row['Team2']\n",
    "    team2goals = row['Team2Goals']\n",
    "    qf_vis = pd.concat([qf_vis, pd.DataFrame({'QF_Teams': [team1], 'QF_Score': [team1goals]})], ignore_index=True)\n",
    "    qf_vis = pd.concat([qf_vis, pd.DataFrame({'QF_Teams': [team2], 'QF_Score': [team2goals]})], ignore_index=True)\n",
    "\n",
    "display(qf_vis)"
   ]
  },
  {
   "cell_type": "code",
   "execution_count": 0,
   "metadata": {
    "application/vnd.databricks.v1+cell": {
     "cellMetadata": {
      "byteLimit": 2048000,
      "rowLimit": 10000
     },
     "inputWidgets": {},
     "nuid": "d14e3078-c613-47e0-9c1e-994cfbc51581",
     "showTitle": false,
     "title": ""
    }
   },
   "outputs": [
    {
     "output_type": "display_data",
     "data": {
      "text/html": [
       "<style scoped>\n",
       "  .table-result-container {\n",
       "    max-height: 300px;\n",
       "    overflow: auto;\n",
       "  }\n",
       "  table, th, td {\n",
       "    border: 1px solid black;\n",
       "    border-collapse: collapse;\n",
       "  }\n",
       "  th, td {\n",
       "    padding: 5px;\n",
       "  }\n",
       "  th {\n",
       "    text-align: left;\n",
       "  }\n",
       "</style><div class='table-result-container'><table class='table-result'><thead style='background-color: white'><tr><th>QF_Teams</th><th>QF_Score</th></tr></thead><tbody><tr><td>Hungary</td><td>4</td></tr><tr><td>Slovenia</td><td>0</td></tr><tr><td>Greece</td><td>5</td></tr><tr><td>Slovakia</td><td>2</td></tr></tbody></table></div>"
      ]
     },
     "metadata": {
      "application/vnd.databricks.v1+output": {
       "addedWidgets": {},
       "aggData": [],
       "aggError": "",
       "aggOverflow": false,
       "aggSchema": [],
       "aggSeriesLimitReached": false,
       "aggType": "",
       "arguments": {},
       "columnCustomDisplayInfos": {},
       "data": [
        [
         "Hungary",
         "4"
        ],
        [
         "Slovenia",
         "0"
        ],
        [
         "Greece",
         "5"
        ],
        [
         "Slovakia",
         "2"
        ]
       ],
       "datasetInfos": [],
       "dbfsResultPath": null,
       "isJsonSchema": true,
       "metadata": {},
       "overflow": false,
       "plotOptions": {
        "customPlotOptions": {},
        "displayType": "table",
        "pivotAggregation": null,
        "pivotColumns": null,
        "xColumns": null,
        "yColumns": null
       },
       "removedWidgets": [],
       "schema": [
        {
         "metadata": "{}",
         "name": "QF_Teams",
         "type": "\"string\""
        },
        {
         "metadata": "{}",
         "name": "QF_Score",
         "type": "\"string\""
        }
       ],
       "type": "table"
      }
     },
     "output_type": "display_data"
    },
    {
     "output_type": "display_data",
     "data": {
      "text/html": [
       "<style scoped>\n",
       "  .table-result-container {\n",
       "    max-height: 300px;\n",
       "    overflow: auto;\n",
       "  }\n",
       "  table, th, td {\n",
       "    border: 1px solid black;\n",
       "    border-collapse: collapse;\n",
       "  }\n",
       "  th, td {\n",
       "    padding: 5px;\n",
       "  }\n",
       "  th {\n",
       "    text-align: left;\n",
       "  }\n",
       "</style><div class='table-result-container'><table class='table-result'><thead style='background-color: white'><tr><th>QF_Teams</th><th>QF_Score</th></tr></thead><tbody><tr><td>Ukraine</td><td>5</td></tr><tr><td>Turkey</td><td>1</td></tr><tr><td>France</td><td>1</td></tr><tr><td>Scotland</td><td>4</td></tr></tbody></table></div>"
      ]
     },
     "metadata": {
      "application/vnd.databricks.v1+output": {
       "addedWidgets": {},
       "aggData": [],
       "aggError": "",
       "aggOverflow": false,
       "aggSchema": [],
       "aggSeriesLimitReached": false,
       "aggType": "",
       "arguments": {},
       "columnCustomDisplayInfos": {},
       "data": [
        [
         "Ukraine",
         "5"
        ],
        [
         "Turkey",
         "1"
        ],
        [
         "France",
         "1"
        ],
        [
         "Scotland",
         "4"
        ]
       ],
       "datasetInfos": [],
       "dbfsResultPath": null,
       "isJsonSchema": true,
       "metadata": {},
       "overflow": false,
       "plotOptions": {
        "customPlotOptions": {},
        "displayType": "table",
        "pivotAggregation": null,
        "pivotColumns": null,
        "xColumns": null,
        "yColumns": null
       },
       "removedWidgets": [],
       "schema": [
        {
         "metadata": "{}",
         "name": "QF_Teams",
         "type": "\"string\""
        },
        {
         "metadata": "{}",
         "name": "QF_Score",
         "type": "\"string\""
        }
       ],
       "type": "table"
      }
     },
     "output_type": "display_data"
    }
   ],
   "source": [
    "# calculating midpoint of the dataFrame\n",
    "midpoint_index2 = len(qf_vis) // 2\n",
    "\n",
    "# splitting dataFrame into two equal halves\n",
    "left_qf = qf_vis.iloc[:midpoint_index2]\n",
    "right_qf = qf_vis.iloc[midpoint_index2:]\n",
    "\n",
    "# index reset\n",
    "left_qf.reset_index(drop=True, inplace=True)\n",
    "right_qf.reset_index(drop=True, inplace=True)\n",
    "\n",
    "# displaying the split DataFrames\n",
    "display(left_qf)\n",
    "display(right_qf)"
   ]
  },
  {
   "cell_type": "code",
   "execution_count": 0,
   "metadata": {
    "application/vnd.databricks.v1+cell": {
     "cellMetadata": {
      "byteLimit": 2048000,
      "rowLimit": 10000
     },
     "inputWidgets": {},
     "nuid": "28886f67-e971-4b67-a250-be879e2ce5db",
     "showTitle": false,
     "title": ""
    }
   },
   "outputs": [],
   "source": [
    "qf_row_pd = pd.DataFrame({col: [''] for col in qf_vis.columns})"
   ]
  },
  {
   "cell_type": "code",
   "execution_count": 0,
   "metadata": {
    "application/vnd.databricks.v1+cell": {
     "cellMetadata": {
      "byteLimit": 2048000,
      "rowLimit": 10000
     },
     "inputWidgets": {},
     "nuid": "a3d0b68b-2ccf-4e53-9c1b-d1d2f4904144",
     "showTitle": false,
     "title": ""
    }
   },
   "outputs": [
    {
     "output_type": "display_data",
     "data": {
      "text/html": [
       "<style scoped>\n",
       "  .table-result-container {\n",
       "    max-height: 300px;\n",
       "    overflow: auto;\n",
       "  }\n",
       "  table, th, td {\n",
       "    border: 1px solid black;\n",
       "    border-collapse: collapse;\n",
       "  }\n",
       "  th, td {\n",
       "    padding: 5px;\n",
       "  }\n",
       "  th {\n",
       "    text-align: left;\n",
       "  }\n",
       "</style><div class='table-result-container'><table class='table-result'><thead style='background-color: white'><tr><th>L_QF_Teams</th><th>L_QF_Score</th></tr></thead><tbody><tr><td></td><td></td></tr><tr><td></td><td></td></tr><tr><td></td><td></td></tr><tr><td></td><td></td></tr><tr><td>Hungary</td><td>4</td></tr><tr><td>Slovenia</td><td>0</td></tr><tr><td></td><td></td></tr><tr><td></td><td></td></tr><tr><td></td><td></td></tr><tr><td></td><td></td></tr><tr><td>Greece</td><td>5</td></tr><tr><td>Slovakia</td><td>2</td></tr><tr><td></td><td></td></tr><tr><td></td><td></td></tr><tr><td></td><td></td></tr><tr><td></td><td></td></tr></tbody></table></div>"
      ]
     },
     "metadata": {
      "application/vnd.databricks.v1+output": {
       "addedWidgets": {},
       "aggData": [],
       "aggError": "",
       "aggOverflow": false,
       "aggSchema": [],
       "aggSeriesLimitReached": false,
       "aggType": "",
       "arguments": {},
       "columnCustomDisplayInfos": {},
       "data": [
        [
         "",
         ""
        ],
        [
         "",
         ""
        ],
        [
         "",
         ""
        ],
        [
         "",
         ""
        ],
        [
         "Hungary",
         "4"
        ],
        [
         "Slovenia",
         "0"
        ],
        [
         "",
         ""
        ],
        [
         "",
         ""
        ],
        [
         "",
         ""
        ],
        [
         "",
         ""
        ],
        [
         "Greece",
         "5"
        ],
        [
         "Slovakia",
         "2"
        ],
        [
         "",
         ""
        ],
        [
         "",
         ""
        ],
        [
         "",
         ""
        ],
        [
         "",
         ""
        ]
       ],
       "datasetInfos": [],
       "dbfsResultPath": null,
       "isJsonSchema": true,
       "metadata": {},
       "overflow": false,
       "plotOptions": {
        "customPlotOptions": {},
        "displayType": "table",
        "pivotAggregation": null,
        "pivotColumns": null,
        "xColumns": null,
        "yColumns": null
       },
       "removedWidgets": [],
       "schema": [
        {
         "metadata": "{}",
         "name": "L_QF_Teams",
         "type": "\"string\""
        },
        {
         "metadata": "{}",
         "name": "L_QF_Score",
         "type": "\"string\""
        }
       ],
       "type": "table"
      }
     },
     "output_type": "display_data"
    }
   ],
   "source": [
    "left_qf_grouped = [left_qf.iloc[i:i+2] for i in range(0, len(left_qf), 2)]\n",
    "\n",
    "for i in range(len(left_qf_grouped)):\n",
    "    if i < len(left_qf_grouped):\n",
    "        left_qf_grouped[i] = pd.concat([qf_row_pd, qf_row_pd, qf_row_pd,qf_row_pd, left_qf_grouped[i]], ignore_index=True)\n",
    "\n",
    "left_qf_spaced = pd.concat(left_qf_grouped).reset_index(drop=True)\n",
    "\n",
    "for _ in range(4):\n",
    "    left_qf_spaced = pd.concat([left_qf_spaced, qf_row_pd], ignore_index=True)\n",
    "\n",
    "lqf_new_column_name ={'QF_Teams': 'L_QF_Teams',\n",
    "                       'QF_Score': 'L_QF_Score'\n",
    "                       }\n",
    "left_qf_spaced = left_qf_spaced.rename(columns=lqf_new_column_name)\n",
    "\n",
    "display(left_qf_spaced)"
   ]
  },
  {
   "cell_type": "code",
   "execution_count": 0,
   "metadata": {
    "application/vnd.databricks.v1+cell": {
     "cellMetadata": {
      "byteLimit": 2048000,
      "rowLimit": 10000
     },
     "inputWidgets": {},
     "nuid": "bd59e7cf-34f0-455a-8d90-6945ee25e566",
     "showTitle": false,
     "title": ""
    }
   },
   "outputs": [
    {
     "output_type": "display_data",
     "data": {
      "text/html": [
       "<style scoped>\n",
       "  .table-result-container {\n",
       "    max-height: 300px;\n",
       "    overflow: auto;\n",
       "  }\n",
       "  table, th, td {\n",
       "    border: 1px solid black;\n",
       "    border-collapse: collapse;\n",
       "  }\n",
       "  th, td {\n",
       "    padding: 5px;\n",
       "  }\n",
       "  th {\n",
       "    text-align: left;\n",
       "  }\n",
       "</style><div class='table-result-container'><table class='table-result'><thead style='background-color: white'><tr><th>R_QF_Score</th><th>R_QF_Teams</th></tr></thead><tbody><tr><td></td><td></td></tr><tr><td></td><td></td></tr><tr><td></td><td></td></tr><tr><td></td><td></td></tr><tr><td>5</td><td>Ukraine</td></tr><tr><td>1</td><td>Turkey</td></tr><tr><td></td><td></td></tr><tr><td></td><td></td></tr><tr><td></td><td></td></tr><tr><td></td><td></td></tr><tr><td>1</td><td>France</td></tr><tr><td>4</td><td>Scotland</td></tr><tr><td></td><td></td></tr><tr><td></td><td></td></tr><tr><td></td><td></td></tr><tr><td></td><td></td></tr></tbody></table></div>"
      ]
     },
     "metadata": {
      "application/vnd.databricks.v1+output": {
       "addedWidgets": {},
       "aggData": [],
       "aggError": "",
       "aggOverflow": false,
       "aggSchema": [],
       "aggSeriesLimitReached": false,
       "aggType": "",
       "arguments": {},
       "columnCustomDisplayInfos": {},
       "data": [
        [
         "",
         ""
        ],
        [
         "",
         ""
        ],
        [
         "",
         ""
        ],
        [
         "",
         ""
        ],
        [
         "5",
         "Ukraine"
        ],
        [
         "1",
         "Turkey"
        ],
        [
         "",
         ""
        ],
        [
         "",
         ""
        ],
        [
         "",
         ""
        ],
        [
         "",
         ""
        ],
        [
         "1",
         "France"
        ],
        [
         "4",
         "Scotland"
        ],
        [
         "",
         ""
        ],
        [
         "",
         ""
        ],
        [
         "",
         ""
        ],
        [
         "",
         ""
        ]
       ],
       "datasetInfos": [],
       "dbfsResultPath": null,
       "isJsonSchema": true,
       "metadata": {},
       "overflow": false,
       "plotOptions": {
        "customPlotOptions": {},
        "displayType": "table",
        "pivotAggregation": null,
        "pivotColumns": null,
        "xColumns": null,
        "yColumns": null
       },
       "removedWidgets": [],
       "schema": [
        {
         "metadata": "{}",
         "name": "R_QF_Score",
         "type": "\"string\""
        },
        {
         "metadata": "{}",
         "name": "R_QF_Teams",
         "type": "\"string\""
        }
       ],
       "type": "table"
      }
     },
     "output_type": "display_data"
    }
   ],
   "source": [
    "right_qf_grouped = [right_qf.iloc[i:i+2] for i in range(0, len(left_qf), 2)]\n",
    "\n",
    "for i in range(len(right_qf_grouped)):\n",
    "    if i < len(right_qf_grouped):\n",
    "        right_qf_grouped[i] = pd.concat([qf_row_pd, qf_row_pd, qf_row_pd,qf_row_pd, right_qf_grouped[i]], ignore_index=True)\n",
    "\n",
    "right_qf_spaced = pd.concat(right_qf_grouped).reset_index(drop=True)\n",
    "\n",
    "for _ in range(4):\n",
    "    right_qf_spaced = pd.concat([right_qf_spaced, qf_row_pd], ignore_index=True)\n",
    "\n",
    "rqf_new_column_name ={'QF_Teams': 'R_QF_Teams',\n",
    "                       'QF_Score': 'R_QF_Score'\n",
    "                       }\n",
    "right_qf_spaced = right_qf_spaced.rename(columns=rqf_new_column_name)\n",
    "\n",
    "rqf_new_column_order = ['R_QF_Score', 'R_QF_Teams']\n",
    "right_qf_spaced = right_qf_spaced[rqf_new_column_order]\n",
    "\n",
    "display(right_qf_spaced)"
   ]
  },
  {
   "cell_type": "code",
   "execution_count": 0,
   "metadata": {
    "application/vnd.databricks.v1+cell": {
     "cellMetadata": {
      "byteLimit": 2048000,
      "rowLimit": 10000
     },
     "inputWidgets": {},
     "nuid": "f4f0abdf-da1c-4058-8f3f-f07c1e8e3d92",
     "showTitle": false,
     "title": ""
    }
   },
   "outputs": [
    {
     "output_type": "display_data",
     "data": {
      "text/html": [
       "<style scoped>\n",
       "  .table-result-container {\n",
       "    max-height: 300px;\n",
       "    overflow: auto;\n",
       "  }\n",
       "  table, th, td {\n",
       "    border: 1px solid black;\n",
       "    border-collapse: collapse;\n",
       "  }\n",
       "  th, td {\n",
       "    padding: 5px;\n",
       "  }\n",
       "  th {\n",
       "    text-align: left;\n",
       "  }\n",
       "</style><div class='table-result-container'><table class='table-result'><thead style='background-color: white'><tr><th>MatchID</th><th>Team1</th><th>Team1Goals</th><th>Team2Goals</th><th>Team2</th><th>MatchWinner</th><th>MatchStage</th></tr></thead><tbody><tr><td>13</td><td>Hungary</td><td>5</td><td>1</td><td>Greece</td><td>Hungary</td><td>SF</td></tr><tr><td>14</td><td>Ukraine</td><td>1</td><td>4</td><td>Scotland</td><td>Scotland</td><td>SF</td></tr></tbody></table></div>"
      ]
     },
     "metadata": {
      "application/vnd.databricks.v1+output": {
       "addedWidgets": {},
       "aggData": [],
       "aggError": "",
       "aggOverflow": false,
       "aggSchema": [],
       "aggSeriesLimitReached": false,
       "aggType": "",
       "arguments": {},
       "columnCustomDisplayInfos": {},
       "data": [
        [
         "13",
         "Hungary",
         "5",
         "1",
         "Greece",
         "Hungary",
         "SF"
        ],
        [
         "14",
         "Ukraine",
         "1",
         "4",
         "Scotland",
         "Scotland",
         "SF"
        ]
       ],
       "datasetInfos": [],
       "dbfsResultPath": null,
       "isJsonSchema": true,
       "metadata": {},
       "overflow": false,
       "plotOptions": {
        "customPlotOptions": {},
        "displayType": "table",
        "pivotAggregation": null,
        "pivotColumns": null,
        "xColumns": null,
        "yColumns": null
       },
       "removedWidgets": [],
       "schema": [
        {
         "metadata": "{}",
         "name": "MatchID",
         "type": "\"string\""
        },
        {
         "metadata": "{}",
         "name": "Team1",
         "type": "\"string\""
        },
        {
         "metadata": "{}",
         "name": "Team1Goals",
         "type": "\"string\""
        },
        {
         "metadata": "{}",
         "name": "Team2Goals",
         "type": "\"string\""
        },
        {
         "metadata": "{}",
         "name": "Team2",
         "type": "\"string\""
        },
        {
         "metadata": "{}",
         "name": "MatchWinner",
         "type": "\"string\""
        },
        {
         "metadata": "{}",
         "name": "MatchStage",
         "type": "\"string\""
        }
       ],
       "type": "table"
      }
     },
     "output_type": "display_data"
    }
   ],
   "source": [
    "sf = spark.sql(\"SELECT * FROM QualificationPlacement WHERE MatchStage = 'SF'\")\n",
    "sf_pd = sf.toPandas()\n",
    "sf_pd = sf_pd.applymap(lambda x: str(x).split(\".\")[0])\n",
    "\n",
    "display(sf_pd)"
   ]
  },
  {
   "cell_type": "code",
   "execution_count": 0,
   "metadata": {
    "application/vnd.databricks.v1+cell": {
     "cellMetadata": {
      "byteLimit": 2048000,
      "rowLimit": 10000
     },
     "inputWidgets": {},
     "nuid": "9589f6d9-83aa-49fd-bcdf-02fc02eaf19a",
     "showTitle": false,
     "title": ""
    }
   },
   "outputs": [
    {
     "output_type": "display_data",
     "data": {
      "text/html": [
       "<style scoped>\n",
       "  .table-result-container {\n",
       "    max-height: 300px;\n",
       "    overflow: auto;\n",
       "  }\n",
       "  table, th, td {\n",
       "    border: 1px solid black;\n",
       "    border-collapse: collapse;\n",
       "  }\n",
       "  th, td {\n",
       "    padding: 5px;\n",
       "  }\n",
       "  th {\n",
       "    text-align: left;\n",
       "  }\n",
       "</style><div class='table-result-container'><table class='table-result'><thead style='background-color: white'><tr><th>SF_Teams</th><th>SF_Score</th></tr></thead><tbody><tr><td>Hungary</td><td>5</td></tr><tr><td>Greece</td><td>1</td></tr><tr><td>Ukraine</td><td>1</td></tr><tr><td>Scotland</td><td>4</td></tr></tbody></table></div>"
      ]
     },
     "metadata": {
      "application/vnd.databricks.v1+output": {
       "addedWidgets": {},
       "aggData": [],
       "aggError": "",
       "aggOverflow": false,
       "aggSchema": [],
       "aggSeriesLimitReached": false,
       "aggType": "",
       "arguments": {},
       "columnCustomDisplayInfos": {},
       "data": [
        [
         "Hungary",
         "5"
        ],
        [
         "Greece",
         "1"
        ],
        [
         "Ukraine",
         "1"
        ],
        [
         "Scotland",
         "4"
        ]
       ],
       "datasetInfos": [],
       "dbfsResultPath": null,
       "isJsonSchema": true,
       "metadata": {},
       "overflow": false,
       "plotOptions": {
        "customPlotOptions": {},
        "displayType": "table",
        "pivotAggregation": null,
        "pivotColumns": null,
        "xColumns": null,
        "yColumns": null
       },
       "removedWidgets": [],
       "schema": [
        {
         "metadata": "{}",
         "name": "SF_Teams",
         "type": "\"string\""
        },
        {
         "metadata": "{}",
         "name": "SF_Score",
         "type": "\"string\""
        }
       ],
       "type": "table"
      }
     },
     "output_type": "display_data"
    }
   ],
   "source": [
    "#storing required data in df\n",
    "sf_vis = pd.DataFrame(columns=['SF_Teams', 'SF_Score'])\n",
    "\n",
    "#displaying all teams and respective scores in columns\n",
    "for index, row in sf_pd.iterrows():\n",
    "    team1 = row['Team1']\n",
    "    team1goals = row['Team1Goals']\n",
    "    team2 = row['Team2']\n",
    "    team2goals = row['Team2Goals']\n",
    "    sf_vis = pd.concat([sf_vis, pd.DataFrame({'SF_Teams': [team1], 'SF_Score': [team1goals]})], ignore_index=True)\n",
    "    sf_vis = pd.concat([sf_vis, pd.DataFrame({'SF_Teams': [team2], 'SF_Score': [team2goals]})], ignore_index=True)\n",
    "\n",
    "display(sf_vis)"
   ]
  },
  {
   "cell_type": "code",
   "execution_count": 0,
   "metadata": {
    "application/vnd.databricks.v1+cell": {
     "cellMetadata": {
      "byteLimit": 2048000,
      "rowLimit": 10000
     },
     "inputWidgets": {},
     "nuid": "0e7537e4-0c73-49c9-8d80-73885c91201a",
     "showTitle": false,
     "title": ""
    }
   },
   "outputs": [
    {
     "output_type": "display_data",
     "data": {
      "text/html": [
       "<style scoped>\n",
       "  .table-result-container {\n",
       "    max-height: 300px;\n",
       "    overflow: auto;\n",
       "  }\n",
       "  table, th, td {\n",
       "    border: 1px solid black;\n",
       "    border-collapse: collapse;\n",
       "  }\n",
       "  th, td {\n",
       "    padding: 5px;\n",
       "  }\n",
       "  th {\n",
       "    text-align: left;\n",
       "  }\n",
       "</style><div class='table-result-container'><table class='table-result'><thead style='background-color: white'><tr><th>SF_Teams</th><th>SF_Score</th></tr></thead><tbody><tr><td>Hungary</td><td>5</td></tr><tr><td>Greece</td><td>1</td></tr></tbody></table></div>"
      ]
     },
     "metadata": {
      "application/vnd.databricks.v1+output": {
       "addedWidgets": {},
       "aggData": [],
       "aggError": "",
       "aggOverflow": false,
       "aggSchema": [],
       "aggSeriesLimitReached": false,
       "aggType": "",
       "arguments": {},
       "columnCustomDisplayInfos": {},
       "data": [
        [
         "Hungary",
         "5"
        ],
        [
         "Greece",
         "1"
        ]
       ],
       "datasetInfos": [],
       "dbfsResultPath": null,
       "isJsonSchema": true,
       "metadata": {},
       "overflow": false,
       "plotOptions": {
        "customPlotOptions": {},
        "displayType": "table",
        "pivotAggregation": null,
        "pivotColumns": null,
        "xColumns": null,
        "yColumns": null
       },
       "removedWidgets": [],
       "schema": [
        {
         "metadata": "{}",
         "name": "SF_Teams",
         "type": "\"string\""
        },
        {
         "metadata": "{}",
         "name": "SF_Score",
         "type": "\"string\""
        }
       ],
       "type": "table"
      }
     },
     "output_type": "display_data"
    },
    {
     "output_type": "display_data",
     "data": {
      "text/html": [
       "<style scoped>\n",
       "  .table-result-container {\n",
       "    max-height: 300px;\n",
       "    overflow: auto;\n",
       "  }\n",
       "  table, th, td {\n",
       "    border: 1px solid black;\n",
       "    border-collapse: collapse;\n",
       "  }\n",
       "  th, td {\n",
       "    padding: 5px;\n",
       "  }\n",
       "  th {\n",
       "    text-align: left;\n",
       "  }\n",
       "</style><div class='table-result-container'><table class='table-result'><thead style='background-color: white'><tr><th>SF_Teams</th><th>SF_Score</th></tr></thead><tbody><tr><td>Ukraine</td><td>1</td></tr><tr><td>Scotland</td><td>4</td></tr></tbody></table></div>"
      ]
     },
     "metadata": {
      "application/vnd.databricks.v1+output": {
       "addedWidgets": {},
       "aggData": [],
       "aggError": "",
       "aggOverflow": false,
       "aggSchema": [],
       "aggSeriesLimitReached": false,
       "aggType": "",
       "arguments": {},
       "columnCustomDisplayInfos": {},
       "data": [
        [
         "Ukraine",
         "1"
        ],
        [
         "Scotland",
         "4"
        ]
       ],
       "datasetInfos": [],
       "dbfsResultPath": null,
       "isJsonSchema": true,
       "metadata": {},
       "overflow": false,
       "plotOptions": {
        "customPlotOptions": {},
        "displayType": "table",
        "pivotAggregation": null,
        "pivotColumns": null,
        "xColumns": null,
        "yColumns": null
       },
       "removedWidgets": [],
       "schema": [
        {
         "metadata": "{}",
         "name": "SF_Teams",
         "type": "\"string\""
        },
        {
         "metadata": "{}",
         "name": "SF_Score",
         "type": "\"string\""
        }
       ],
       "type": "table"
      }
     },
     "output_type": "display_data"
    }
   ],
   "source": [
    "# calculating midpoint of the dataFrame\n",
    "midpoint_index2 = len(sf_vis) // 2\n",
    "\n",
    "# splitting dataFrame into two equal halves\n",
    "left_sf = sf_vis.iloc[:midpoint_index2]\n",
    "right_sf = sf_vis.iloc[midpoint_index2:]\n",
    "\n",
    "# index reset\n",
    "left_sf.reset_index(drop=True, inplace=True)\n",
    "right_sf.reset_index(drop=True, inplace=True)\n",
    "\n",
    "# displaying the split DataFrames\n",
    "display(left_sf)\n",
    "display(right_sf)"
   ]
  },
  {
   "cell_type": "code",
   "execution_count": 0,
   "metadata": {
    "application/vnd.databricks.v1+cell": {
     "cellMetadata": {
      "byteLimit": 2048000,
      "rowLimit": 10000
     },
     "inputWidgets": {},
     "nuid": "8d927735-2bd9-4cea-854d-ac0b2f27771c",
     "showTitle": false,
     "title": ""
    }
   },
   "outputs": [],
   "source": [
    "sf_row_pd = pd.DataFrame({col: [''] for col in sf_vis.columns})"
   ]
  },
  {
   "cell_type": "code",
   "execution_count": 0,
   "metadata": {
    "application/vnd.databricks.v1+cell": {
     "cellMetadata": {
      "byteLimit": 2048000,
      "rowLimit": 10000
     },
     "inputWidgets": {},
     "nuid": "b5c90260-842b-46eb-aa42-937982f209f6",
     "showTitle": false,
     "title": ""
    }
   },
   "outputs": [
    {
     "output_type": "display_data",
     "data": {
      "text/html": [
       "<style scoped>\n",
       "  .table-result-container {\n",
       "    max-height: 300px;\n",
       "    overflow: auto;\n",
       "  }\n",
       "  table, th, td {\n",
       "    border: 1px solid black;\n",
       "    border-collapse: collapse;\n",
       "  }\n",
       "  th, td {\n",
       "    padding: 5px;\n",
       "  }\n",
       "  th {\n",
       "    text-align: left;\n",
       "  }\n",
       "</style><div class='table-result-container'><table class='table-result'><thead style='background-color: white'><tr><th>L_SF_Teams</th><th>L_SF_Score</th></tr></thead><tbody><tr><td></td><td></td></tr><tr><td></td><td></td></tr><tr><td></td><td></td></tr><tr><td></td><td></td></tr><tr><td></td><td></td></tr><tr><td></td><td></td></tr><tr><td>Hungary</td><td>5</td></tr><tr><td></td><td></td></tr><tr><td></td><td></td></tr><tr><td>Greece</td><td>1</td></tr><tr><td></td><td></td></tr><tr><td></td><td></td></tr><tr><td></td><td></td></tr><tr><td></td><td></td></tr><tr><td></td><td></td></tr><tr><td></td><td></td></tr></tbody></table></div>"
      ]
     },
     "metadata": {
      "application/vnd.databricks.v1+output": {
       "addedWidgets": {},
       "aggData": [],
       "aggError": "",
       "aggOverflow": false,
       "aggSchema": [],
       "aggSeriesLimitReached": false,
       "aggType": "",
       "arguments": {},
       "columnCustomDisplayInfos": {},
       "data": [
        [
         "",
         ""
        ],
        [
         "",
         ""
        ],
        [
         "",
         ""
        ],
        [
         "",
         ""
        ],
        [
         "",
         ""
        ],
        [
         "",
         ""
        ],
        [
         "Hungary",
         "5"
        ],
        [
         "",
         ""
        ],
        [
         "",
         ""
        ],
        [
         "Greece",
         "1"
        ],
        [
         "",
         ""
        ],
        [
         "",
         ""
        ],
        [
         "",
         ""
        ],
        [
         "",
         ""
        ],
        [
         "",
         ""
        ],
        [
         "",
         ""
        ]
       ],
       "datasetInfos": [],
       "dbfsResultPath": null,
       "isJsonSchema": true,
       "metadata": {},
       "overflow": false,
       "plotOptions": {
        "customPlotOptions": {},
        "displayType": "table",
        "pivotAggregation": null,
        "pivotColumns": null,
        "xColumns": null,
        "yColumns": null
       },
       "removedWidgets": [],
       "schema": [
        {
         "metadata": "{}",
         "name": "L_SF_Teams",
         "type": "\"string\""
        },
        {
         "metadata": "{}",
         "name": "L_SF_Score",
         "type": "\"string\""
        }
       ],
       "type": "table"
      }
     },
     "output_type": "display_data"
    }
   ],
   "source": [
    "left_sf_grouped = [left_sf.iloc[i:i+1] for i in range(0, len(left_sf), 1)]\n",
    "\n",
    "for i in range(len(left_sf_grouped)):\n",
    "    if i < len(left_sf_grouped):\n",
    "        left_sf_grouped[i] = pd.concat([left_sf_grouped[i], sf_row_pd, sf_row_pd], ignore_index=True)\n",
    "\n",
    "left_sf_spaced = pd.concat(left_sf_grouped).reset_index(drop=True)\n",
    "\n",
    "for _ in range(6):\n",
    "    left_sf_spaced = pd.concat([sf_row_pd, left_sf_spaced], ignore_index=True)\n",
    "\n",
    "for _ in range(4):\n",
    "    left_sf_spaced = pd.concat([left_sf_spaced, sf_row_pd], ignore_index=True)\n",
    "\n",
    "lsf_new_column_name ={'SF_Teams': 'L_SF_Teams',\n",
    "                       'SF_Score': 'L_SF_Score'\n",
    "                       }\n",
    "\n",
    "left_sf_spaced = left_sf_spaced.rename(columns=lsf_new_column_name)\n",
    "\n",
    "display(left_sf_spaced)"
   ]
  },
  {
   "cell_type": "code",
   "execution_count": 0,
   "metadata": {
    "application/vnd.databricks.v1+cell": {
     "cellMetadata": {
      "byteLimit": 2048000,
      "rowLimit": 10000
     },
     "inputWidgets": {},
     "nuid": "b007bf61-3b9e-4fc6-b341-d3ff09004974",
     "showTitle": false,
     "title": ""
    }
   },
   "outputs": [
    {
     "output_type": "display_data",
     "data": {
      "text/html": [
       "<style scoped>\n",
       "  .table-result-container {\n",
       "    max-height: 300px;\n",
       "    overflow: auto;\n",
       "  }\n",
       "  table, th, td {\n",
       "    border: 1px solid black;\n",
       "    border-collapse: collapse;\n",
       "  }\n",
       "  th, td {\n",
       "    padding: 5px;\n",
       "  }\n",
       "  th {\n",
       "    text-align: left;\n",
       "  }\n",
       "</style><div class='table-result-container'><table class='table-result'><thead style='background-color: white'><tr><th>R_SF_Score</th><th>R_SF_Teams</th></tr></thead><tbody><tr><td></td><td></td></tr><tr><td></td><td></td></tr><tr><td></td><td></td></tr><tr><td></td><td></td></tr><tr><td></td><td></td></tr><tr><td></td><td></td></tr><tr><td>1</td><td>Ukraine</td></tr><tr><td></td><td></td></tr><tr><td></td><td></td></tr><tr><td>4</td><td>Scotland</td></tr><tr><td></td><td></td></tr><tr><td></td><td></td></tr><tr><td></td><td></td></tr><tr><td></td><td></td></tr><tr><td></td><td></td></tr><tr><td></td><td></td></tr></tbody></table></div>"
      ]
     },
     "metadata": {
      "application/vnd.databricks.v1+output": {
       "addedWidgets": {},
       "aggData": [],
       "aggError": "",
       "aggOverflow": false,
       "aggSchema": [],
       "aggSeriesLimitReached": false,
       "aggType": "",
       "arguments": {},
       "columnCustomDisplayInfos": {},
       "data": [
        [
         "",
         ""
        ],
        [
         "",
         ""
        ],
        [
         "",
         ""
        ],
        [
         "",
         ""
        ],
        [
         "",
         ""
        ],
        [
         "",
         ""
        ],
        [
         "1",
         "Ukraine"
        ],
        [
         "",
         ""
        ],
        [
         "",
         ""
        ],
        [
         "4",
         "Scotland"
        ],
        [
         "",
         ""
        ],
        [
         "",
         ""
        ],
        [
         "",
         ""
        ],
        [
         "",
         ""
        ],
        [
         "",
         ""
        ],
        [
         "",
         ""
        ]
       ],
       "datasetInfos": [],
       "dbfsResultPath": null,
       "isJsonSchema": true,
       "metadata": {},
       "overflow": false,
       "plotOptions": {
        "customPlotOptions": {},
        "displayType": "table",
        "pivotAggregation": null,
        "pivotColumns": null,
        "xColumns": null,
        "yColumns": null
       },
       "removedWidgets": [],
       "schema": [
        {
         "metadata": "{}",
         "name": "R_SF_Score",
         "type": "\"string\""
        },
        {
         "metadata": "{}",
         "name": "R_SF_Teams",
         "type": "\"string\""
        }
       ],
       "type": "table"
      }
     },
     "output_type": "display_data"
    }
   ],
   "source": [
    "right_sf_grouped = [right_sf.iloc[i:i+1] for i in range(0, len(right_sf), 1)]\n",
    "\n",
    "for i in range(len(right_sf_grouped)):\n",
    "    if i < len(right_sf_grouped):\n",
    "        right_sf_grouped[i] = pd.concat([right_sf_grouped[i], sf_row_pd, sf_row_pd], ignore_index=True)\n",
    "\n",
    "right_sf_spaced = pd.concat(right_sf_grouped).reset_index(drop=True)\n",
    "\n",
    "for _ in range(6):\n",
    "    right_sf_spaced = pd.concat([sf_row_pd, right_sf_spaced], ignore_index=True)\n",
    "\n",
    "for _ in range(4):\n",
    "    right_sf_spaced = pd.concat([right_sf_spaced, sf_row_pd], ignore_index=True)\n",
    "\n",
    "rsf_new_column_name ={'SF_Teams': 'R_SF_Teams',\n",
    "                       'SF_Score': 'R_SF_Score'\n",
    "                       }\n",
    "\n",
    "right_sf_spaced = right_sf_spaced.rename(columns=rsf_new_column_name)\n",
    "\n",
    "rsf_new_column_order = ['R_SF_Score', 'R_SF_Teams']\n",
    "right_sf_spaced = right_sf_spaced[rsf_new_column_order]\n",
    "\n",
    "display(right_sf_spaced)"
   ]
  },
  {
   "cell_type": "code",
   "execution_count": 0,
   "metadata": {
    "application/vnd.databricks.v1+cell": {
     "cellMetadata": {
      "byteLimit": 2048000,
      "rowLimit": 10000
     },
     "inputWidgets": {},
     "nuid": "7e72e4dd-2f60-46cb-90c8-c7c780601400",
     "showTitle": false,
     "title": ""
    }
   },
   "outputs": [
    {
     "output_type": "display_data",
     "data": {
      "text/html": [
       "<style scoped>\n",
       "  .table-result-container {\n",
       "    max-height: 300px;\n",
       "    overflow: auto;\n",
       "  }\n",
       "  table, th, td {\n",
       "    border: 1px solid black;\n",
       "    border-collapse: collapse;\n",
       "  }\n",
       "  th, td {\n",
       "    padding: 5px;\n",
       "  }\n",
       "  th {\n",
       "    text-align: left;\n",
       "  }\n",
       "</style><div class='table-result-container'><table class='table-result'><thead style='background-color: white'><tr><th>MatchID</th><th>Team1</th><th>Team1Goals</th><th>Team2Goals</th><th>Team2</th><th>MatchWinner</th><th>MatchStage</th></tr></thead><tbody><tr><td>16</td><td>Hungary</td><td>3</td><td>1</td><td>Scotland</td><td>Hungary</td><td>FIN</td></tr></tbody></table></div>"
      ]
     },
     "metadata": {
      "application/vnd.databricks.v1+output": {
       "addedWidgets": {},
       "aggData": [],
       "aggError": "",
       "aggOverflow": false,
       "aggSchema": [],
       "aggSeriesLimitReached": false,
       "aggType": "",
       "arguments": {},
       "columnCustomDisplayInfos": {},
       "data": [
        [
         "16",
         "Hungary",
         "3",
         "1",
         "Scotland",
         "Hungary",
         "FIN"
        ]
       ],
       "datasetInfos": [],
       "dbfsResultPath": null,
       "isJsonSchema": true,
       "metadata": {},
       "overflow": false,
       "plotOptions": {
        "customPlotOptions": {},
        "displayType": "table",
        "pivotAggregation": null,
        "pivotColumns": null,
        "xColumns": null,
        "yColumns": null
       },
       "removedWidgets": [],
       "schema": [
        {
         "metadata": "{}",
         "name": "MatchID",
         "type": "\"string\""
        },
        {
         "metadata": "{}",
         "name": "Team1",
         "type": "\"string\""
        },
        {
         "metadata": "{}",
         "name": "Team1Goals",
         "type": "\"string\""
        },
        {
         "metadata": "{}",
         "name": "Team2Goals",
         "type": "\"string\""
        },
        {
         "metadata": "{}",
         "name": "Team2",
         "type": "\"string\""
        },
        {
         "metadata": "{}",
         "name": "MatchWinner",
         "type": "\"string\""
        },
        {
         "metadata": "{}",
         "name": "MatchStage",
         "type": "\"string\""
        }
       ],
       "type": "table"
      }
     },
     "output_type": "display_data"
    }
   ],
   "source": [
    "fin = spark.sql(\"SELECT * FROM QualificationPlacement WHERE MatchStage = 'FIN'\")\n",
    "fin_pd = fin.toPandas()\n",
    "fin_pd = fin_pd.applymap(lambda x: str(x).split(\".\")[0])\n",
    "\n",
    "display(fin_pd)"
   ]
  },
  {
   "cell_type": "code",
   "execution_count": 0,
   "metadata": {
    "application/vnd.databricks.v1+cell": {
     "cellMetadata": {
      "byteLimit": 2048000,
      "rowLimit": 10000
     },
     "inputWidgets": {},
     "nuid": "e8b172c5-6f5c-4205-8cbf-ed9afac79a77",
     "showTitle": false,
     "title": ""
    }
   },
   "outputs": [
    {
     "output_type": "display_data",
     "data": {
      "text/html": [
       "<style scoped>\n",
       "  .table-result-container {\n",
       "    max-height: 300px;\n",
       "    overflow: auto;\n",
       "  }\n",
       "  table, th, td {\n",
       "    border: 1px solid black;\n",
       "    border-collapse: collapse;\n",
       "  }\n",
       "  th, td {\n",
       "    padding: 5px;\n",
       "  }\n",
       "  th {\n",
       "    text-align: left;\n",
       "  }\n",
       "</style><div class='table-result-container'><table class='table-result'><thead style='background-color: white'><tr><th>Fin_Teams</th><th>Fin_Score</th></tr></thead><tbody><tr><td>Hungary</td><td>3</td></tr><tr><td>Scotland</td><td>1</td></tr></tbody></table></div>"
      ]
     },
     "metadata": {
      "application/vnd.databricks.v1+output": {
       "addedWidgets": {},
       "aggData": [],
       "aggError": "",
       "aggOverflow": false,
       "aggSchema": [],
       "aggSeriesLimitReached": false,
       "aggType": "",
       "arguments": {},
       "columnCustomDisplayInfos": {},
       "data": [
        [
         "Hungary",
         "3"
        ],
        [
         "Scotland",
         "1"
        ]
       ],
       "datasetInfos": [],
       "dbfsResultPath": null,
       "isJsonSchema": true,
       "metadata": {},
       "overflow": false,
       "plotOptions": {
        "customPlotOptions": {},
        "displayType": "table",
        "pivotAggregation": null,
        "pivotColumns": null,
        "xColumns": null,
        "yColumns": null
       },
       "removedWidgets": [],
       "schema": [
        {
         "metadata": "{}",
         "name": "Fin_Teams",
         "type": "\"string\""
        },
        {
         "metadata": "{}",
         "name": "Fin_Score",
         "type": "\"string\""
        }
       ],
       "type": "table"
      }
     },
     "output_type": "display_data"
    }
   ],
   "source": [
    "#storing required data in df\n",
    "fin_vis = pd.DataFrame(columns=['Fin_Teams', 'Fin_Score'])\n",
    "\n",
    "#displaying all teams and respective scores in columns\n",
    "for index, row in fin_pd.iterrows():\n",
    "    team1 = row['Team1']\n",
    "    team1goals = row['Team1Goals']\n",
    "    team2 = row['Team2']\n",
    "    team2goals = row['Team2Goals']\n",
    "    fin_vis = pd.concat([fin_vis, pd.DataFrame({'Fin_Teams': [team1], 'Fin_Score': [team1goals]})], ignore_index=True)\n",
    "    fin_vis = pd.concat([fin_vis, pd.DataFrame({'Fin_Teams': [team2], 'Fin_Score': [team2goals]})], ignore_index=True)\n",
    "\n",
    "display(fin_vis)"
   ]
  },
  {
   "cell_type": "code",
   "execution_count": 0,
   "metadata": {
    "application/vnd.databricks.v1+cell": {
     "cellMetadata": {
      "byteLimit": 2048000,
      "rowLimit": 10000
     },
     "inputWidgets": {},
     "nuid": "25db7794-8d9c-4288-b63a-4aebb8cd352f",
     "showTitle": false,
     "title": ""
    }
   },
   "outputs": [],
   "source": [
    "fin_row_pd = pd.DataFrame({col: [''] for col in fin_vis.columns})"
   ]
  },
  {
   "cell_type": "code",
   "execution_count": 0,
   "metadata": {
    "application/vnd.databricks.v1+cell": {
     "cellMetadata": {
      "byteLimit": 2048000,
      "rowLimit": 10000
     },
     "inputWidgets": {},
     "nuid": "02736524-fb2b-4585-8679-1609bde07733",
     "showTitle": false,
     "title": ""
    }
   },
   "outputs": [
    {
     "output_type": "display_data",
     "data": {
      "text/html": [
       "<style scoped>\n",
       "  .table-result-container {\n",
       "    max-height: 300px;\n",
       "    overflow: auto;\n",
       "  }\n",
       "  table, th, td {\n",
       "    border: 1px solid black;\n",
       "    border-collapse: collapse;\n",
       "  }\n",
       "  th, td {\n",
       "    padding: 5px;\n",
       "  }\n",
       "  th {\n",
       "    text-align: left;\n",
       "  }\n",
       "</style><div class='table-result-container'><table class='table-result'><thead style='background-color: white'><tr><th>L_Fin_Teams</th><th>L_Fin_Score</th></tr></thead><tbody><tr><td></td><td></td></tr><tr><td></td><td></td></tr><tr><td></td><td></td></tr><tr><td></td><td></td></tr><tr><td></td><td></td></tr><tr><td></td><td></td></tr><tr><td></td><td></td></tr><tr><td></td><td></td></tr><tr><td>Hungary</td><td>3</td></tr><tr><td></td><td></td></tr><tr><td></td><td></td></tr><tr><td></td><td></td></tr><tr><td></td><td></td></tr><tr><td></td><td></td></tr><tr><td></td><td></td></tr><tr><td></td><td></td></tr></tbody></table></div>"
      ]
     },
     "metadata": {
      "application/vnd.databricks.v1+output": {
       "addedWidgets": {},
       "aggData": [],
       "aggError": "",
       "aggOverflow": false,
       "aggSchema": [],
       "aggSeriesLimitReached": false,
       "aggType": "",
       "arguments": {},
       "columnCustomDisplayInfos": {},
       "data": [
        [
         "",
         ""
        ],
        [
         "",
         ""
        ],
        [
         "",
         ""
        ],
        [
         "",
         ""
        ],
        [
         "",
         ""
        ],
        [
         "",
         ""
        ],
        [
         "",
         ""
        ],
        [
         "",
         ""
        ],
        [
         "Hungary",
         "3"
        ],
        [
         "",
         ""
        ],
        [
         "",
         ""
        ],
        [
         "",
         ""
        ],
        [
         "",
         ""
        ],
        [
         "",
         ""
        ],
        [
         "",
         ""
        ],
        [
         "",
         ""
        ]
       ],
       "datasetInfos": [],
       "dbfsResultPath": null,
       "isJsonSchema": true,
       "metadata": {},
       "overflow": false,
       "plotOptions": {
        "customPlotOptions": {},
        "displayType": "table",
        "pivotAggregation": null,
        "pivotColumns": null,
        "xColumns": null,
        "yColumns": null
       },
       "removedWidgets": [],
       "schema": [
        {
         "metadata": "{}",
         "name": "L_Fin_Teams",
         "type": "\"string\""
        },
        {
         "metadata": "{}",
         "name": "L_Fin_Score",
         "type": "\"string\""
        }
       ],
       "type": "table"
      }
     },
     "output_type": "display_data"
    },
    {
     "output_type": "display_data",
     "data": {
      "text/html": [
       "<style scoped>\n",
       "  .table-result-container {\n",
       "    max-height: 300px;\n",
       "    overflow: auto;\n",
       "  }\n",
       "  table, th, td {\n",
       "    border: 1px solid black;\n",
       "    border-collapse: collapse;\n",
       "  }\n",
       "  th, td {\n",
       "    padding: 5px;\n",
       "  }\n",
       "  th {\n",
       "    text-align: left;\n",
       "  }\n",
       "</style><div class='table-result-container'><table class='table-result'><thead style='background-color: white'><tr><th>R_Fin_Score</th><th>R_Fin_Teams</th></tr></thead><tbody><tr><td></td><td></td></tr><tr><td></td><td></td></tr><tr><td></td><td></td></tr><tr><td></td><td></td></tr><tr><td></td><td></td></tr><tr><td></td><td></td></tr><tr><td></td><td></td></tr><tr><td></td><td></td></tr><tr><td>1</td><td>Scotland</td></tr><tr><td></td><td></td></tr><tr><td></td><td></td></tr><tr><td></td><td></td></tr><tr><td></td><td></td></tr><tr><td></td><td></td></tr><tr><td></td><td></td></tr><tr><td></td><td></td></tr></tbody></table></div>"
      ]
     },
     "metadata": {
      "application/vnd.databricks.v1+output": {
       "addedWidgets": {},
       "aggData": [],
       "aggError": "",
       "aggOverflow": false,
       "aggSchema": [],
       "aggSeriesLimitReached": false,
       "aggType": "",
       "arguments": {},
       "columnCustomDisplayInfos": {},
       "data": [
        [
         "",
         ""
        ],
        [
         "",
         ""
        ],
        [
         "",
         ""
        ],
        [
         "",
         ""
        ],
        [
         "",
         ""
        ],
        [
         "",
         ""
        ],
        [
         "",
         ""
        ],
        [
         "",
         ""
        ],
        [
         "1",
         "Scotland"
        ],
        [
         "",
         ""
        ],
        [
         "",
         ""
        ],
        [
         "",
         ""
        ],
        [
         "",
         ""
        ],
        [
         "",
         ""
        ],
        [
         "",
         ""
        ],
        [
         "",
         ""
        ]
       ],
       "datasetInfos": [],
       "dbfsResultPath": null,
       "isJsonSchema": true,
       "metadata": {},
       "overflow": false,
       "plotOptions": {
        "customPlotOptions": {},
        "displayType": "table",
        "pivotAggregation": null,
        "pivotColumns": null,
        "xColumns": null,
        "yColumns": null
       },
       "removedWidgets": [],
       "schema": [
        {
         "metadata": "{}",
         "name": "R_Fin_Score",
         "type": "\"string\""
        },
        {
         "metadata": "{}",
         "name": "R_Fin_Teams",
         "type": "\"string\""
        }
       ],
       "type": "table"
      }
     },
     "output_type": "display_data"
    }
   ],
   "source": [
    "fin1 = fin_vis.iloc[:1]  # First value\n",
    "fin2 = fin_vis.iloc[1:]  # Second value\n",
    "\n",
    "for _ in range(8):\n",
    "    fin1 = pd.concat([fin_row_pd, fin1], ignore_index=True)\n",
    "    fin2 = pd.concat([fin_row_pd, fin2], ignore_index=True)\n",
    "\n",
    "for _ in range(7):\n",
    "    fin1 = pd.concat([fin1, fin_row_pd], ignore_index=True)\n",
    "    fin2 = pd.concat([fin2, fin_row_pd], ignore_index=True)\n",
    "\n",
    "lfin_new_column_name ={'Fin_Teams': 'L_Fin_Teams',\n",
    "                       'Fin_Score': 'L_Fin_Score'\n",
    "                       }\n",
    "rfin_new_column_name ={'Fin_Teams': 'R_Fin_Teams',\n",
    "                       'Fin_Score': 'R_Fin_Score'\n",
    "                       }\n",
    "\n",
    "fin1 = fin1.rename(columns=lfin_new_column_name)\n",
    "fin2 = fin2.rename(columns=rfin_new_column_name)\n",
    "\n",
    "rfin_new_column_order = ['R_Fin_Score', 'R_Fin_Teams']\n",
    "fin2 = fin2[rfin_new_column_order]\n",
    "\n",
    "display(fin1)\n",
    "display(fin2)"
   ]
  },
  {
   "cell_type": "code",
   "execution_count": 0,
   "metadata": {
    "application/vnd.databricks.v1+cell": {
     "cellMetadata": {
      "byteLimit": 2048000,
      "rowLimit": 10000
     },
     "inputWidgets": {},
     "nuid": "48e33e4e-76b0-4d47-9b64-4152cff77ddd",
     "showTitle": false,
     "title": ""
    }
   },
   "outputs": [
    {
     "output_type": "display_data",
     "data": {
      "text/html": [
       "<style scoped>\n",
       "  .table-result-container {\n",
       "    max-height: 300px;\n",
       "    overflow: auto;\n",
       "  }\n",
       "  table, th, td {\n",
       "    border: 1px solid black;\n",
       "    border-collapse: collapse;\n",
       "  }\n",
       "  th, td {\n",
       "    padding: 5px;\n",
       "  }\n",
       "  th {\n",
       "    text-align: left;\n",
       "  }\n",
       "</style><div class='table-result-container'><table class='table-result'><thead style='background-color: white'><tr><th>TournamentWinner</th></tr></thead><tbody><tr><td></td></tr><tr><td></td></tr><tr><td></td></tr><tr><td></td></tr><tr><td></td></tr><tr><td></td></tr><tr><td></td></tr><tr><td>Hungary</td></tr><tr><td></td></tr><tr><td></td></tr><tr><td></td></tr><tr><td></td></tr><tr><td></td></tr><tr><td></td></tr><tr><td></td></tr><tr><td></td></tr></tbody></table></div>"
      ]
     },
     "metadata": {
      "application/vnd.databricks.v1+output": {
       "addedWidgets": {},
       "aggData": [],
       "aggError": "",
       "aggOverflow": false,
       "aggSchema": [],
       "aggSeriesLimitReached": false,
       "aggType": "",
       "arguments": {},
       "columnCustomDisplayInfos": {},
       "data": [
        [
         ""
        ],
        [
         ""
        ],
        [
         ""
        ],
        [
         ""
        ],
        [
         ""
        ],
        [
         ""
        ],
        [
         ""
        ],
        [
         "Hungary"
        ],
        [
         ""
        ],
        [
         ""
        ],
        [
         ""
        ],
        [
         ""
        ],
        [
         ""
        ],
        [
         ""
        ],
        [
         ""
        ],
        [
         ""
        ]
       ],
       "datasetInfos": [],
       "dbfsResultPath": null,
       "isJsonSchema": true,
       "metadata": {},
       "overflow": false,
       "plotOptions": {
        "customPlotOptions": {},
        "displayType": "table",
        "pivotAggregation": null,
        "pivotColumns": null,
        "xColumns": null,
        "yColumns": null
       },
       "removedWidgets": [],
       "schema": [
        {
         "metadata": "{}",
         "name": "TournamentWinner",
         "type": "\"string\""
        }
       ],
       "type": "table"
      }
     },
     "output_type": "display_data"
    }
   ],
   "source": [
    "winner = spark.sql(\"SELECT MatchWinner FROM QualificationPlacement WHERE MatchStage = 'FIN'\")\n",
    "winner_pd = winner.toPandas()\n",
    "winner_pd = winner_pd.applymap(lambda x: str(x).split(\".\")[0])\n",
    "\n",
    "win_row_pd = pd.DataFrame({col: [''] for col in winner_pd.columns})\n",
    "\n",
    "for _ in range(7):\n",
    "    winner_pd = pd.concat([win_row_pd, winner_pd], ignore_index=True)\n",
    "\n",
    "for _ in range(8):\n",
    "    winner_pd = pd.concat([winner_pd, win_row_pd], ignore_index=True)\n",
    "\n",
    "fin_col = {\"MatchWinner\":\"TournamentWinner\"}\n",
    "winner_pd = winner_pd.rename(columns = fin_col)\n",
    "display(winner_pd)"
   ]
  },
  {
   "cell_type": "code",
   "execution_count": 0,
   "metadata": {
    "application/vnd.databricks.v1+cell": {
     "cellMetadata": {
      "byteLimit": 2048000,
      "rowLimit": 10000
     },
     "inputWidgets": {},
     "nuid": "df7a60e2-7daf-49cc-9d0c-866c1fa882e4",
     "showTitle": false,
     "title": ""
    }
   },
   "outputs": [
    {
     "output_type": "display_data",
     "data": {
      "text/html": [
       "<style scoped>\n",
       "  .table-result-container {\n",
       "    max-height: 300px;\n",
       "    overflow: auto;\n",
       "  }\n",
       "  table, th, td {\n",
       "    border: 1px solid black;\n",
       "    border-collapse: collapse;\n",
       "  }\n",
       "  th, td {\n",
       "    padding: 5px;\n",
       "  }\n",
       "  th {\n",
       "    text-align: left;\n",
       "  }\n",
       "</style><div class='table-result-container'><table class='table-result'><thead style='background-color: white'><tr><th>L_Grp/Pos</th><th>L_Country</th><th>L_MP</th><th>L_W</th><th>L-D</th><th>L_L</th><th>L-GF</th><th>L_GA</th><th>L_GD</th><th>L_Pts</th><th>L_R16_Teams</th><th>L_R16_Score</th><th>L_QF_Teams</th><th>L_QF_Score</th><th>L_SF_Teams</th><th>L_SF_Score</th><th>L_Fin_Teams</th><th>L_Fin_Score</th><th>TournamentWinner</th><th>R_Fin_Score</th><th>R_Fin_Teams</th><th>R_SF_Score</th><th>R_SF_Teams</th><th>R_QF_Score</th><th>R_QF_Teams</th><th>R_R16_Score</th><th>R_R16_Teams</th><th>R_Grp/Pos</th><th>R_Country</th><th>R_MP</th><th>R_W</th><th>R-D</th><th>R_L</th><th>R-GF</th><th>R_GA</th><th>R_GD</th><th>R_Pts</th></tr></thead><tbody><tr><td>A1</td><td>Switzerland</td><td>3</td><td>2</td><td>1</td><td>0</td><td>12</td><td>5</td><td>7</td><td>7</td><td></td><td></td><td></td><td></td><td></td><td></td><td></td><td></td><td></td><td></td><td></td><td></td><td></td><td></td><td></td><td></td><td></td><td>D1</td><td>Austria</td><td>3</td><td>2</td><td>1</td><td>0</td><td>11</td><td>8</td><td>3</td><td>7</td></tr><tr><td>A2</td><td>Scotland</td><td>3</td><td>1</td><td>1</td><td>1</td><td>10</td><td>9</td><td>1</td><td>4</td><td>Italy</td><td>1</td><td></td><td></td><td></td><td></td><td></td><td></td><td></td><td></td><td></td><td></td><td></td><td></td><td></td><td>5</td><td>Ukraine</td><td>D2</td><td>Netherlands</td><td>3</td><td>1</td><td>1</td><td>1</td><td>12</td><td>13</td><td>-1</td><td>4</td></tr><tr><td>A3</td><td>Hungary</td><td>3</td><td>1</td><td>1</td><td>1</td><td>12</td><td>14</td><td>-2</td><td>4</td><td>Hungary</td><td>6</td><td></td><td></td><td></td><td></td><td></td><td></td><td></td><td></td><td></td><td></td><td></td><td></td><td></td><td>2</td><td>Albania</td><td>D3</td><td>France</td><td>3</td><td>1</td><td>0</td><td>2</td><td>11</td><td>12</td><td>-1</td><td>3</td></tr><tr><td>A4</td><td>Germany</td><td>3</td><td>0</td><td>1</td><td>2</td><td>6</td><td>12</td><td>-6</td><td>1</td><td></td><td></td><td></td><td></td><td></td><td></td><td></td><td></td><td></td><td></td><td></td><td></td><td></td><td></td><td></td><td></td><td></td><td>D4</td><td>Poland</td><td>3</td><td>0</td><td>2</td><td>1</td><td>13</td><td>14</td><td>-1</td><td>2</td></tr><tr><td></td><td></td><td></td><td></td><td></td><td></td><td></td><td></td><td></td><td></td><td></td><td></td><td>Hungary</td><td>4</td><td></td><td></td><td></td><td></td><td></td><td></td><td></td><td></td><td></td><td>5</td><td>Ukraine</td><td></td><td></td><td></td><td></td><td></td><td></td><td></td><td></td><td></td><td></td><td></td><td></td></tr><tr><td></td><td></td><td></td><td></td><td></td><td></td><td></td><td></td><td></td><td></td><td>Switzerland</td><td>1</td><td>Slovenia</td><td>0</td><td></td><td></td><td></td><td></td><td></td><td></td><td></td><td></td><td></td><td>1</td><td>Turkey</td><td>1</td><td>Austria</td><td></td><td></td><td></td><td></td><td></td><td></td><td></td><td></td><td></td><td></td></tr><tr><td>B1</td><td>Italy</td><td>3</td><td>3</td><td>0</td><td>0</td><td>13</td><td>6</td><td>7</td><td>9</td><td>Slovenia</td><td>5</td><td></td><td></td><td>Hungary</td><td>5</td><td></td><td></td><td></td><td></td><td></td><td>1</td><td>Ukraine</td><td></td><td></td><td>4</td><td>Turkey</td><td>E1</td><td>Ukraine</td><td>3</td><td>2</td><td>1</td><td>0</td><td>8</td><td>4</td><td>4</td><td>7</td></tr><tr><td>B2</td><td>Spain</td><td>3</td><td>2</td><td>0</td><td>1</td><td>12</td><td>9</td><td>3</td><td>6</td><td></td><td></td><td></td><td></td><td></td><td></td><td></td><td></td><td>Hungary</td><td></td><td></td><td></td><td></td><td></td><td></td><td></td><td></td><td>E2</td><td>Slovakia</td><td>3</td><td>1</td><td>2</td><td>0</td><td>6</td><td>3</td><td>3</td><td>5</td></tr><tr><td>B3</td><td>Albania</td><td>3</td><td>1</td><td>0</td><td>2</td><td>12</td><td>13</td><td>-1</td><td>3</td><td></td><td></td><td></td><td></td><td></td><td></td><td>Hungary</td><td>3</td><td></td><td>1</td><td>Scotland</td><td></td><td></td><td></td><td></td><td></td><td></td><td>E3</td><td>Belgium</td><td>3</td><td>1</td><td>0</td><td>2</td><td>5</td><td>9</td><td>-4</td><td>3</td></tr><tr><td>B4</td><td>Croatia</td><td>3</td><td>0</td><td>0</td><td>3</td><td>4</td><td>13</td><td>-9</td><td>0</td><td>Greece</td><td>4</td><td></td><td></td><td>Greece</td><td>1</td><td></td><td></td><td></td><td></td><td></td><td>4</td><td>Scotland</td><td></td><td></td><td>0</td><td>Serbia</td><td>E4</td><td>Romania</td><td>3</td><td>0</td><td>1</td><td>2</td><td>7</td><td>10</td><td>-3</td><td>1</td></tr><tr><td></td><td></td><td></td><td></td><td></td><td></td><td></td><td></td><td></td><td></td><td>England</td><td>2</td><td>Greece</td><td>5</td><td></td><td></td><td></td><td></td><td></td><td></td><td></td><td></td><td></td><td>1</td><td>France</td><td>2</td><td>France</td><td></td><td></td><td></td><td></td><td></td><td></td><td></td><td></td><td></td><td></td></tr><tr><td></td><td></td><td></td><td></td><td></td><td></td><td></td><td></td><td></td><td></td><td></td><td></td><td>Slovakia</td><td>2</td><td></td><td></td><td></td><td></td><td></td><td></td><td></td><td></td><td></td><td>4</td><td>Scotland</td><td></td><td></td><td></td><td></td><td></td><td></td><td></td><td></td><td></td><td></td><td></td><td></td></tr><tr><td>C1</td><td>Serbia</td><td>3</td><td>2</td><td>0</td><td>1</td><td>8</td><td>6</td><td>2</td><td>6</td><td></td><td></td><td></td><td></td><td></td><td></td><td></td><td></td><td></td><td></td><td></td><td></td><td></td><td></td><td></td><td></td><td></td><td>F1</td><td>Greece</td><td>3</td><td>2</td><td>1</td><td>0</td><td>10</td><td>5</td><td>5</td><td>7</td></tr><tr><td>C2</td><td>Slovenia</td><td>3</td><td>2</td><td>0</td><td>1</td><td>8</td><td>9</td><td>-1</td><td>6</td><td>Netherlands</td><td>0</td><td></td><td></td><td></td><td></td><td></td><td></td><td></td><td></td><td></td><td></td><td></td><td></td><td></td><td>4</td><td>Scotland</td><td>F2</td><td>Turkey</td><td>3</td><td>1</td><td>2</td><td>0</td><td>12</td><td>8</td><td>4</td><td>5</td></tr><tr><td>C3</td><td>England</td><td>3</td><td>1</td><td>0</td><td>2</td><td>6</td><td>5</td><td>1</td><td>3</td><td>Slovakia</td><td>2</td><td></td><td></td><td></td><td></td><td></td><td></td><td></td><td></td><td></td><td></td><td></td><td></td><td></td><td>2</td><td>Spain</td><td>F3</td><td>Czech Republic</td><td>3</td><td>1</td><td>0</td><td>2</td><td>8</td><td>10</td><td>-2</td><td>3</td></tr><tr><td>C4</td><td>Denmark</td><td>3</td><td>1</td><td>0</td><td>2</td><td>7</td><td>9</td><td>-2</td><td>3</td><td></td><td></td><td></td><td></td><td></td><td></td><td></td><td></td><td></td><td></td><td></td><td></td><td></td><td></td><td></td><td></td><td></td><td>F4</td><td>Portugal</td><td>3</td><td>0</td><td>1</td><td>2</td><td>5</td><td>12</td><td>-7</td><td>1</td></tr></tbody></table></div>"
      ]
     },
     "metadata": {
      "application/vnd.databricks.v1+output": {
       "addedWidgets": {},
       "aggData": [],
       "aggError": "",
       "aggOverflow": false,
       "aggSchema": [],
       "aggSeriesLimitReached": false,
       "aggType": "",
       "arguments": {},
       "columnCustomDisplayInfos": {},
       "data": [
        [
         "A1",
         "Switzerland",
         "3",
         "2",
         "1",
         "0",
         "12",
         "5",
         "7",
         "7",
         "",
         "",
         "",
         "",
         "",
         "",
         "",
         "",
         "",
         "",
         "",
         "",
         "",
         "",
         "",
         "",
         "",
         "D1",
         "Austria",
         "3",
         "2",
         "1",
         "0",
         "11",
         "8",
         "3",
         "7"
        ],
        [
         "A2",
         "Scotland",
         "3",
         "1",
         "1",
         "1",
         "10",
         "9",
         "1",
         "4",
         "Italy",
         "1",
         "",
         "",
         "",
         "",
         "",
         "",
         "",
         "",
         "",
         "",
         "",
         "",
         "",
         "5",
         "Ukraine",
         "D2",
         "Netherlands",
         "3",
         "1",
         "1",
         "1",
         "12",
         "13",
         "-1",
         "4"
        ],
        [
         "A3",
         "Hungary",
         "3",
         "1",
         "1",
         "1",
         "12",
         "14",
         "-2",
         "4",
         "Hungary",
         "6",
         "",
         "",
         "",
         "",
         "",
         "",
         "",
         "",
         "",
         "",
         "",
         "",
         "",
         "2",
         "Albania",
         "D3",
         "France",
         "3",
         "1",
         "0",
         "2",
         "11",
         "12",
         "-1",
         "3"
        ],
        [
         "A4",
         "Germany",
         "3",
         "0",
         "1",
         "2",
         "6",
         "12",
         "-6",
         "1",
         "",
         "",
         "",
         "",
         "",
         "",
         "",
         "",
         "",
         "",
         "",
         "",
         "",
         "",
         "",
         "",
         "",
         "D4",
         "Poland",
         "3",
         "0",
         "2",
         "1",
         "13",
         "14",
         "-1",
         "2"
        ],
        [
         "",
         "",
         "",
         "",
         "",
         "",
         "",
         "",
         "",
         "",
         "",
         "",
         "Hungary",
         "4",
         "",
         "",
         "",
         "",
         "",
         "",
         "",
         "",
         "",
         "5",
         "Ukraine",
         "",
         "",
         "",
         "",
         "",
         "",
         "",
         "",
         "",
         "",
         "",
         ""
        ],
        [
         "",
         "",
         "",
         "",
         "",
         "",
         "",
         "",
         "",
         "",
         "Switzerland",
         "1",
         "Slovenia",
         "0",
         "",
         "",
         "",
         "",
         "",
         "",
         "",
         "",
         "",
         "1",
         "Turkey",
         "1",
         "Austria",
         "",
         "",
         "",
         "",
         "",
         "",
         "",
         "",
         "",
         ""
        ],
        [
         "B1",
         "Italy",
         "3",
         "3",
         "0",
         "0",
         "13",
         "6",
         "7",
         "9",
         "Slovenia",
         "5",
         "",
         "",
         "Hungary",
         "5",
         "",
         "",
         "",
         "",
         "",
         "1",
         "Ukraine",
         "",
         "",
         "4",
         "Turkey",
         "E1",
         "Ukraine",
         "3",
         "2",
         "1",
         "0",
         "8",
         "4",
         "4",
         "7"
        ],
        [
         "B2",
         "Spain",
         "3",
         "2",
         "0",
         "1",
         "12",
         "9",
         "3",
         "6",
         "",
         "",
         "",
         "",
         "",
         "",
         "",
         "",
         "Hungary",
         "",
         "",
         "",
         "",
         "",
         "",
         "",
         "",
         "E2",
         "Slovakia",
         "3",
         "1",
         "2",
         "0",
         "6",
         "3",
         "3",
         "5"
        ],
        [
         "B3",
         "Albania",
         "3",
         "1",
         "0",
         "2",
         "12",
         "13",
         "-1",
         "3",
         "",
         "",
         "",
         "",
         "",
         "",
         "Hungary",
         "3",
         "",
         "1",
         "Scotland",
         "",
         "",
         "",
         "",
         "",
         "",
         "E3",
         "Belgium",
         "3",
         "1",
         "0",
         "2",
         "5",
         "9",
         "-4",
         "3"
        ],
        [
         "B4",
         "Croatia",
         "3",
         "0",
         "0",
         "3",
         "4",
         "13",
         "-9",
         "0",
         "Greece",
         "4",
         "",
         "",
         "Greece",
         "1",
         "",
         "",
         "",
         "",
         "",
         "4",
         "Scotland",
         "",
         "",
         "0",
         "Serbia",
         "E4",
         "Romania",
         "3",
         "0",
         "1",
         "2",
         "7",
         "10",
         "-3",
         "1"
        ],
        [
         "",
         "",
         "",
         "",
         "",
         "",
         "",
         "",
         "",
         "",
         "England",
         "2",
         "Greece",
         "5",
         "",
         "",
         "",
         "",
         "",
         "",
         "",
         "",
         "",
         "1",
         "France",
         "2",
         "France",
         "",
         "",
         "",
         "",
         "",
         "",
         "",
         "",
         "",
         ""
        ],
        [
         "",
         "",
         "",
         "",
         "",
         "",
         "",
         "",
         "",
         "",
         "",
         "",
         "Slovakia",
         "2",
         "",
         "",
         "",
         "",
         "",
         "",
         "",
         "",
         "",
         "4",
         "Scotland",
         "",
         "",
         "",
         "",
         "",
         "",
         "",
         "",
         "",
         "",
         "",
         ""
        ],
        [
         "C1",
         "Serbia",
         "3",
         "2",
         "0",
         "1",
         "8",
         "6",
         "2",
         "6",
         "",
         "",
         "",
         "",
         "",
         "",
         "",
         "",
         "",
         "",
         "",
         "",
         "",
         "",
         "",
         "",
         "",
         "F1",
         "Greece",
         "3",
         "2",
         "1",
         "0",
         "10",
         "5",
         "5",
         "7"
        ],
        [
         "C2",
         "Slovenia",
         "3",
         "2",
         "0",
         "1",
         "8",
         "9",
         "-1",
         "6",
         "Netherlands",
         "0",
         "",
         "",
         "",
         "",
         "",
         "",
         "",
         "",
         "",
         "",
         "",
         "",
         "",
         "4",
         "Scotland",
         "F2",
         "Turkey",
         "3",
         "1",
         "2",
         "0",
         "12",
         "8",
         "4",
         "5"
        ],
        [
         "C3",
         "England",
         "3",
         "1",
         "0",
         "2",
         "6",
         "5",
         "1",
         "3",
         "Slovakia",
         "2",
         "",
         "",
         "",
         "",
         "",
         "",
         "",
         "",
         "",
         "",
         "",
         "",
         "",
         "2",
         "Spain",
         "F3",
         "Czech Republic",
         "3",
         "1",
         "0",
         "2",
         "8",
         "10",
         "-2",
         "3"
        ],
        [
         "C4",
         "Denmark",
         "3",
         "1",
         "0",
         "2",
         "7",
         "9",
         "-2",
         "3",
         "",
         "",
         "",
         "",
         "",
         "",
         "",
         "",
         "",
         "",
         "",
         "",
         "",
         "",
         "",
         "",
         "",
         "F4",
         "Portugal",
         "3",
         "0",
         "1",
         "2",
         "5",
         "12",
         "-7",
         "1"
        ]
       ],
       "datasetInfos": [],
       "dbfsResultPath": null,
       "isJsonSchema": true,
       "metadata": {},
       "overflow": false,
       "plotOptions": {
        "customPlotOptions": {},
        "displayType": "table",
        "pivotAggregation": null,
        "pivotColumns": null,
        "xColumns": null,
        "yColumns": null
       },
       "removedWidgets": [],
       "schema": [
        {
         "metadata": "{}",
         "name": "L_Grp/Pos",
         "type": "\"string\""
        },
        {
         "metadata": "{}",
         "name": "L_Country",
         "type": "\"string\""
        },
        {
         "metadata": "{}",
         "name": "L_MP",
         "type": "\"string\""
        },
        {
         "metadata": "{}",
         "name": "L_W",
         "type": "\"string\""
        },
        {
         "metadata": "{}",
         "name": "L-D",
         "type": "\"string\""
        },
        {
         "metadata": "{}",
         "name": "L_L",
         "type": "\"string\""
        },
        {
         "metadata": "{}",
         "name": "L-GF",
         "type": "\"string\""
        },
        {
         "metadata": "{}",
         "name": "L_GA",
         "type": "\"string\""
        },
        {
         "metadata": "{}",
         "name": "L_GD",
         "type": "\"string\""
        },
        {
         "metadata": "{}",
         "name": "L_Pts",
         "type": "\"string\""
        },
        {
         "metadata": "{}",
         "name": "L_R16_Teams",
         "type": "\"string\""
        },
        {
         "metadata": "{}",
         "name": "L_R16_Score",
         "type": "\"string\""
        },
        {
         "metadata": "{}",
         "name": "L_QF_Teams",
         "type": "\"string\""
        },
        {
         "metadata": "{}",
         "name": "L_QF_Score",
         "type": "\"string\""
        },
        {
         "metadata": "{}",
         "name": "L_SF_Teams",
         "type": "\"string\""
        },
        {
         "metadata": "{}",
         "name": "L_SF_Score",
         "type": "\"string\""
        },
        {
         "metadata": "{}",
         "name": "L_Fin_Teams",
         "type": "\"string\""
        },
        {
         "metadata": "{}",
         "name": "L_Fin_Score",
         "type": "\"string\""
        },
        {
         "metadata": "{}",
         "name": "TournamentWinner",
         "type": "\"string\""
        },
        {
         "metadata": "{}",
         "name": "R_Fin_Score",
         "type": "\"string\""
        },
        {
         "metadata": "{}",
         "name": "R_Fin_Teams",
         "type": "\"string\""
        },
        {
         "metadata": "{}",
         "name": "R_SF_Score",
         "type": "\"string\""
        },
        {
         "metadata": "{}",
         "name": "R_SF_Teams",
         "type": "\"string\""
        },
        {
         "metadata": "{}",
         "name": "R_QF_Score",
         "type": "\"string\""
        },
        {
         "metadata": "{}",
         "name": "R_QF_Teams",
         "type": "\"string\""
        },
        {
         "metadata": "{}",
         "name": "R_R16_Score",
         "type": "\"string\""
        },
        {
         "metadata": "{}",
         "name": "R_R16_Teams",
         "type": "\"string\""
        },
        {
         "metadata": "{}",
         "name": "R_Grp/Pos",
         "type": "\"string\""
        },
        {
         "metadata": "{}",
         "name": "R_Country",
         "type": "\"string\""
        },
        {
         "metadata": "{}",
         "name": "R_MP",
         "type": "\"string\""
        },
        {
         "metadata": "{}",
         "name": "R_W",
         "type": "\"string\""
        },
        {
         "metadata": "{}",
         "name": "R-D",
         "type": "\"string\""
        },
        {
         "metadata": "{}",
         "name": "R_L",
         "type": "\"string\""
        },
        {
         "metadata": "{}",
         "name": "R-GF",
         "type": "\"string\""
        },
        {
         "metadata": "{}",
         "name": "R_GA",
         "type": "\"string\""
        },
        {
         "metadata": "{}",
         "name": "R_GD",
         "type": "\"string\""
        },
        {
         "metadata": "{}",
         "name": "R_Pts",
         "type": "\"string\""
        }
       ],
       "type": "table"
      }
     },
     "output_type": "display_data"
    }
   ],
   "source": [
    "# Concatenating DataFrames with keys\n",
    "knockout_df = pd.concat([left_gs_spaced,\n",
    "                        left_r16_spaced, \n",
    "                        left_qf_spaced, \n",
    "                        left_sf_spaced,\n",
    "                        fin1,\n",
    "                        winner_pd,\n",
    "                        fin2,\n",
    "                        right_sf_spaced,\n",
    "                        right_qf_spaced,\n",
    "                        right_r16_spaced,\n",
    "                        right_gs_spaced\n",
    "                         ], \n",
    "                        axis=1, \n",
    "                        # keys=['left_gs', 'left_r16', 'left_qf', 'left_sf', 'fin1', 'winner', 'fin2', 'right_sf', 'right_qf', 'right_r16', 'right_gs']\n",
    "                        )\n",
    "\n",
    "# Displaying the concatenated DataFrame\n",
    "display(knockout_df)"
   ]
  },
  {
   "cell_type": "markdown",
   "metadata": {
    "application/vnd.databricks.v1+cell": {
     "cellMetadata": {
      "byteLimit": 2048000,
      "rowLimit": 10000
     },
     "inputWidgets": {},
     "nuid": "dfb907c1-38af-40ee-94e5-082aecb27774",
     "showTitle": false,
     "title": ""
    }
   },
   "source": [
    "#Podium Position\n",
    "Just for fun (idk how to use matplotlib properly. GPT Helped)"
   ]
  },
  {
   "cell_type": "code",
   "execution_count": 0,
   "metadata": {
    "application/vnd.databricks.v1+cell": {
     "cellMetadata": {
      "byteLimit": 2048000,
      "rowLimit": 10000
     },
     "inputWidgets": {},
     "nuid": "9aa43c11-ed28-4a12-a9b8-f3fde714cdc9",
     "showTitle": false,
     "title": ""
    }
   },
   "outputs": [
    {
     "output_type": "display_data",
     "data": {
      "text/html": [
       "<style scoped>\n",
       "  .table-result-container {\n",
       "    max-height: 300px;\n",
       "    overflow: auto;\n",
       "  }\n",
       "  table, th, td {\n",
       "    border: 1px solid black;\n",
       "    border-collapse: collapse;\n",
       "  }\n",
       "  th, td {\n",
       "    padding: 5px;\n",
       "  }\n",
       "  th {\n",
       "    text-align: left;\n",
       "  }\n",
       "</style><div class='table-result-container'><table class='table-result'><thead style='background-color: white'><tr><th>Euro_Cup_Winners</th></tr></thead><tbody><tr><td>Hungary</td></tr></tbody></table></div>"
      ]
     },
     "metadata": {
      "application/vnd.databricks.v1+output": {
       "addedWidgets": {},
       "aggData": [],
       "aggError": "",
       "aggOverflow": false,
       "aggSchema": [],
       "aggSeriesLimitReached": false,
       "aggType": "",
       "arguments": {},
       "columnCustomDisplayInfos": {},
       "data": [
        [
         "Hungary"
        ]
       ],
       "datasetInfos": [],
       "dbfsResultPath": null,
       "isJsonSchema": true,
       "metadata": {},
       "overflow": false,
       "plotOptions": {
        "customPlotOptions": {},
        "displayType": "table",
        "pivotAggregation": null,
        "pivotColumns": null,
        "xColumns": null,
        "yColumns": null
       },
       "removedWidgets": [],
       "schema": [
        {
         "metadata": "{\"__CHAR_VARCHAR_TYPE_STRING\":\"varchar(53)\"}",
         "name": "Euro_Cup_Winners",
         "type": "\"string\""
        }
       ],
       "type": "table"
      }
     },
     "output_type": "display_data"
    },
    {
     "output_type": "display_data",
     "data": {
      "text/html": [
       "<style scoped>\n",
       "  .table-result-container {\n",
       "    max-height: 300px;\n",
       "    overflow: auto;\n",
       "  }\n",
       "  table, th, td {\n",
       "    border: 1px solid black;\n",
       "    border-collapse: collapse;\n",
       "  }\n",
       "  th, td {\n",
       "    padding: 5px;\n",
       "  }\n",
       "  th {\n",
       "    text-align: left;\n",
       "  }\n",
       "</style><div class='table-result-container'><table class='table-result'><thead style='background-color: white'><tr><th>Euro_Cup_RunnersUp</th></tr></thead><tbody><tr><td>Scotland</td></tr></tbody></table></div>"
      ]
     },
     "metadata": {
      "application/vnd.databricks.v1+output": {
       "addedWidgets": {},
       "aggData": [],
       "aggError": "",
       "aggOverflow": false,
       "aggSchema": [],
       "aggSeriesLimitReached": false,
       "aggType": "",
       "arguments": {},
       "columnCustomDisplayInfos": {},
       "data": [
        [
         "Scotland"
        ]
       ],
       "datasetInfos": [],
       "dbfsResultPath": null,
       "isJsonSchema": true,
       "metadata": {},
       "overflow": false,
       "plotOptions": {
        "customPlotOptions": {},
        "displayType": "table",
        "pivotAggregation": null,
        "pivotColumns": null,
        "xColumns": null,
        "yColumns": null
       },
       "removedWidgets": [],
       "schema": [
        {
         "metadata": "{}",
         "name": "Euro_Cup_RunnersUp",
         "type": "\"string\""
        }
       ],
       "type": "table"
      }
     },
     "output_type": "display_data"
    },
    {
     "output_type": "display_data",
     "data": {
      "text/html": [
       "<style scoped>\n",
       "  .table-result-container {\n",
       "    max-height: 300px;\n",
       "    overflow: auto;\n",
       "  }\n",
       "  table, th, td {\n",
       "    border: 1px solid black;\n",
       "    border-collapse: collapse;\n",
       "  }\n",
       "  th, td {\n",
       "    padding: 5px;\n",
       "  }\n",
       "  th {\n",
       "    text-align: left;\n",
       "  }\n",
       "</style><div class='table-result-container'><table class='table-result'><thead style='background-color: white'><tr><th>Euro_Cup_ThirdPlace</th></tr></thead><tbody><tr><td>Ukraine</td></tr></tbody></table></div>"
      ]
     },
     "metadata": {
      "application/vnd.databricks.v1+output": {
       "addedWidgets": {},
       "aggData": [],
       "aggError": "",
       "aggOverflow": false,
       "aggSchema": [],
       "aggSeriesLimitReached": false,
       "aggType": "",
       "arguments": {},
       "columnCustomDisplayInfos": {},
       "data": [
        [
         "Ukraine"
        ]
       ],
       "datasetInfos": [],
       "dbfsResultPath": null,
       "isJsonSchema": true,
       "metadata": {},
       "overflow": false,
       "plotOptions": {
        "customPlotOptions": {},
        "displayType": "table",
        "pivotAggregation": null,
        "pivotColumns": null,
        "xColumns": null,
        "yColumns": null
       },
       "removedWidgets": [],
       "schema": [
        {
         "metadata": "{\"__CHAR_VARCHAR_TYPE_STRING\":\"varchar(53)\"}",
         "name": "Euro_Cup_ThirdPlace",
         "type": "\"string\""
        }
       ],
       "type": "table"
      }
     },
     "output_type": "display_data"
    }
   ],
   "source": [
    "import matplotlib.pyplot as plt\n",
    "\n",
    "first = spark.sql(\"SELECT MatchWinner AS Euro_Cup_Winners FROM QualificationPlacement WHERE MatchStage = 'FIN'\")\n",
    "second = spark.sql(\"SELECT CASE WHEN Team1 = MatchWinner THEN Team2 ELSE Team1  END AS Euro_Cup_RunnersUp FROM QualificationPlacement WHERE MatchStage = 'FIN'\")\n",
    "third = spark.sql(\"SELECT MatchWinner AS Euro_Cup_ThirdPlace FROM QualificationPlacement WHERE MatchStage = 'TP'\")\n",
    "display(first)\n",
    "display(second)\n",
    "display(third)"
   ]
  },
  {
   "cell_type": "code",
   "execution_count": 0,
   "metadata": {
    "application/vnd.databricks.v1+cell": {
     "cellMetadata": {
      "byteLimit": 2048000,
      "rowLimit": 10000
     },
     "inputWidgets": {},
     "nuid": "69fa6245-4667-43ed-b470-6f0e09d21a86",
     "showTitle": false,
     "title": ""
    }
   },
   "outputs": [
    {
     "output_type": "display_data",
     "data": {
      "image/png": "[encoded data removed]"
     },
     "metadata": {
      "application/vnd.databricks.v1+output": {
       "addedWidgets": {},
       "arguments": {},
       "data": "data:image/png;base64,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\n",
       "datasetInfos": [],
       "metadata": {},
       "removedWidgets": [],
       "type": "image"
      }
     },
     "output_type": "display_data"
    }
   ],
   "source": [
    "# Collecting names from DataFrames\n",
    "first_name = first.collect()[0][\"Euro_Cup_Winners\"]\n",
    "second_name = second.collect()[0][\"Euro_Cup_RunnersUp\"]\n",
    "third_name = third.collect()[0][\"Euro_Cup_ThirdPlace\"]\n",
    "\n",
    "# Create podium visualization\n",
    "plt.figure(figsize=(8, 6))\n",
    "\n",
    "# Create bars with adjusted positions and heights\n",
    "plt.bar(1, 1, color='silver', width=0.5)\n",
    "plt.bar(2, 1.2, color='gold', width=0.5)\n",
    "plt.bar(3, 0.8, color='#cd7f32', width=0.5)\n",
    "\n",
    "# Add text annotations with adjusted positions and rotation\n",
    "plt.text(1, 0.5, second_name, ha='center', va='center', color='white', rotation=90, fontsize=30)\n",
    "plt.text(2, 0.6, first_name, ha='center', va='center', color='black', rotation=90, fontsize=30)\n",
    "plt.text(3, 0.4, third_name, ha='center', va='center', color='white', rotation=90, fontsize=30)\n",
    "\n",
    "# Set axis labels and title\n",
    "plt.title('Euro Cup Podium')\n",
    "\n",
    "# Set x-axis ticks to represent positions\n",
    "plt.xticks([1, 2, 3], ['Silver (2nd)', 'Gold (1st)', 'Bronze (3rd)'])\n",
    "\n",
    "# Hide y-axis\n",
    "plt.gca().axes.get_yaxis().set_visible(False)\n",
    "\n",
    "# Show the plot\n",
    "plt.show()"
   ]
  }
 ],
 "metadata": {
  "application/vnd.databricks.v1+notebook": {
   "dashboards": [],
   "language": "python",
   "notebookMetadata": {
    "pythonIndentUnit": 4
   },
   "notebookName": "EuroSQL_Visible",
   "widgets": {}
  }
 },
 "nbformat": 4,
 "nbformat_minor": 0
}
