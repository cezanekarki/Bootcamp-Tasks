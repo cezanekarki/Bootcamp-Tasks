{
 "cells": [
  {
   "cell_type": "markdown",
   "metadata": {
    "application/vnd.databricks.v1+cell": {
     "cellMetadata": {
      "byteLimit": 2048000,
      "rowLimit": 10000
     },
     "inputWidgets": {},
     "nuid": "2d43acc2-2db7-4132-adff-1b723c3b3031",
     "showTitle": false,
     "title": ""
    }
   },
   "source": [
    "#Visualization EuroSQL"
   ]
  },
  {
   "cell_type": "code",
   "execution_count": 0,
   "metadata": {
    "application/vnd.databricks.v1+cell": {
     "cellMetadata": {
      "byteLimit": 2048000,
      "rowLimit": 10000
     },
     "inputWidgets": {},
     "nuid": "9998a8e4-f9c5-4efe-9f7a-daf08f23f6ce",
     "showTitle": false,
     "title": ""
    }
   },
   "outputs": [],
   "source": [
    "#import libraries\n",
    "import pandas as pd\n",
    "from pyspark.sql import SparkSession"
   ]
  },
  {
   "cell_type": "code",
   "execution_count": 0,
   "metadata": {
    "application/vnd.databricks.v1+cell": {
     "cellMetadata": {
      "byteLimit": 2048000,
      "rowLimit": 10000
     },
     "inputWidgets": {},
     "nuid": "80b8e30a-3d8c-49c3-a177-2ccc252e3036",
     "showTitle": false,
     "title": ""
    }
   },
   "outputs": [],
   "source": [
    "#Spark Session\n",
    "spark = SparkSession.builder \\\n",
    "    .appName(\"euros_sql_visulization\") \\\n",
    "    .getOrCreate()"
   ]
  },
  {
   "cell_type": "code",
   "execution_count": 0,
   "metadata": {
    "application/vnd.databricks.v1+cell": {
     "cellMetadata": {
      "byteLimit": 2048000,
      "rowLimit": 10000
     },
     "inputWidgets": {},
     "nuid": "17e28640-2783-4e61-92d7-e8854ccfa900",
     "showTitle": false,
     "title": ""
    }
   },
   "outputs": [
    {
     "output_type": "display_data",
     "data": {
      "text/html": [
       "<style scoped>\n",
       "  .table-result-container {\n",
       "    max-height: 300px;\n",
       "    overflow: auto;\n",
       "  }\n",
       "  table, th, td {\n",
       "    border: 1px solid black;\n",
       "    border-collapse: collapse;\n",
       "  }\n",
       "  th, td {\n",
       "    padding: 5px;\n",
       "  }\n",
       "  th {\n",
       "    text-align: left;\n",
       "  }\n",
       "</style><div class='table-result-container'><table class='table-result'><thead style='background-color: white'><tr><th>GroupName</th><th>TeamName</th><th>MatchesPlayed</th><th>MatchesWon</th><th>MatchesLost</th><th>MatchesDrawn</th><th>GF</th><th>GA</th><th>GD</th><th>TotalPoints</th><th>Position</th></tr></thead><tbody><tr><td>A</td><td>Germany</td><td>3</td><td>3</td><td>0</td><td>0</td><td>12</td><td>6</td><td>6</td><td>9</td><td>A1</td></tr><tr><td>A</td><td>Hungary</td><td>3</td><td>2</td><td>1</td><td>0</td><td>11</td><td>7</td><td>4</td><td>6</td><td>A2</td></tr><tr><td>A</td><td>Switzerland</td><td>3</td><td>1</td><td>2</td><td>0</td><td>5</td><td>7</td><td>-2</td><td>3</td><td>A3</td></tr><tr><td>A</td><td>Scotland</td><td>3</td><td>0</td><td>3</td><td>0</td><td>3</td><td>11</td><td>-8</td><td>0</td><td>A4</td></tr><tr><td>B</td><td>Spain</td><td>3</td><td>2</td><td>1</td><td>0</td><td>11</td><td>9</td><td>2</td><td>6</td><td>B1</td></tr><tr><td>B</td><td>Italy</td><td>3</td><td>1</td><td>1</td><td>1</td><td>9</td><td>7</td><td>2</td><td>4</td><td>B2</td></tr><tr><td>B</td><td>Croatia</td><td>3</td><td>1</td><td>1</td><td>1</td><td>8</td><td>8</td><td>0</td><td>4</td><td>B3</td></tr><tr><td>B</td><td>Albania</td><td>3</td><td>1</td><td>2</td><td>0</td><td>11</td><td>15</td><td>-4</td><td>3</td><td>B4</td></tr><tr><td>C</td><td>Serbia</td><td>3</td><td>2</td><td>0</td><td>1</td><td>11</td><td>8</td><td>3</td><td>7</td><td>C1</td></tr><tr><td>C</td><td>Denmark</td><td>3</td><td>1</td><td>0</td><td>2</td><td>12</td><td>11</td><td>1</td><td>5</td><td>C2</td></tr><tr><td>C</td><td>Slovenia</td><td>3</td><td>1</td><td>2</td><td>0</td><td>9</td><td>10</td><td>-1</td><td>3</td><td>C3</td></tr><tr><td>C</td><td>England</td><td>3</td><td>0</td><td>2</td><td>1</td><td>8</td><td>11</td><td>-3</td><td>1</td><td>C4</td></tr><tr><td>D</td><td>Poland</td><td>3</td><td>2</td><td>0</td><td>1</td><td>8</td><td>3</td><td>5</td><td>7</td><td>D1</td></tr><tr><td>D</td><td>Netherlands</td><td>3</td><td>1</td><td>1</td><td>1</td><td>9</td><td>7</td><td>2</td><td>4</td><td>D2</td></tr><tr><td>D</td><td>France</td><td>3</td><td>1</td><td>1</td><td>1</td><td>7</td><td>10</td><td>-3</td><td>4</td><td>D3</td></tr><tr><td>D</td><td>Austria</td><td>3</td><td>0</td><td>2</td><td>1</td><td>4</td><td>8</td><td>-4</td><td>1</td><td>D4</td></tr><tr><td>E</td><td>Belgium</td><td>3</td><td>2</td><td>0</td><td>1</td><td>12</td><td>10</td><td>2</td><td>7</td><td>E1</td></tr><tr><td>E</td><td>Slovakia</td><td>3</td><td>1</td><td>1</td><td>1</td><td>11</td><td>11</td><td>0</td><td>4</td><td>E2</td></tr><tr><td>E</td><td>Ukraine</td><td>3</td><td>1</td><td>2</td><td>0</td><td>14</td><td>12</td><td>2</td><td>3</td><td>E3</td></tr><tr><td>E</td><td>Romania</td><td>3</td><td>0</td><td>1</td><td>2</td><td>6</td><td>10</td><td>-4</td><td>2</td><td>E4</td></tr><tr><td>F</td><td>Greece</td><td>3</td><td>2</td><td>1</td><td>0</td><td>8</td><td>8</td><td>0</td><td>6</td><td>F1</td></tr><tr><td>F</td><td>Turkey</td><td>3</td><td>1</td><td>1</td><td>1</td><td>7</td><td>4</td><td>3</td><td>4</td><td>F2</td></tr><tr><td>F</td><td>Czech Republic</td><td>3</td><td>1</td><td>1</td><td>1</td><td>8</td><td>6</td><td>2</td><td>4</td><td>F3</td></tr><tr><td>F</td><td>Portugal</td><td>3</td><td>1</td><td>2</td><td>0</td><td>6</td><td>11</td><td>-5</td><td>3</td><td>F4</td></tr></tbody></table></div>"
      ]
     },
     "metadata": {
      "application/vnd.databricks.v1+output": {
       "addedWidgets": {},
       "aggData": [],
       "aggError": "",
       "aggOverflow": false,
       "aggSchema": [],
       "aggSeriesLimitReached": false,
       "aggType": "",
       "arguments": {},
       "columnCustomDisplayInfos": {},
       "data": [
        [
         "A",
         "Germany",
         "3",
         "3",
         "0",
         "0",
         "12",
         "6",
         "6",
         "9",
         "A1"
        ],
        [
         "A",
         "Hungary",
         "3",
         "2",
         "1",
         "0",
         "11",
         "7",
         "4",
         "6",
         "A2"
        ],
        [
         "A",
         "Switzerland",
         "3",
         "1",
         "2",
         "0",
         "5",
         "7",
         "-2",
         "3",
         "A3"
        ],
        [
         "A",
         "Scotland",
         "3",
         "0",
         "3",
         "0",
         "3",
         "11",
         "-8",
         "0",
         "A4"
        ],
        [
         "B",
         "Spain",
         "3",
         "2",
         "1",
         "0",
         "11",
         "9",
         "2",
         "6",
         "B1"
        ],
        [
         "B",
         "Italy",
         "3",
         "1",
         "1",
         "1",
         "9",
         "7",
         "2",
         "4",
         "B2"
        ],
        [
         "B",
         "Croatia",
         "3",
         "1",
         "1",
         "1",
         "8",
         "8",
         "0",
         "4",
         "B3"
        ],
        [
         "B",
         "Albania",
         "3",
         "1",
         "2",
         "0",
         "11",
         "15",
         "-4",
         "3",
         "B4"
        ],
        [
         "C",
         "Serbia",
         "3",
         "2",
         "0",
         "1",
         "11",
         "8",
         "3",
         "7",
         "C1"
        ],
        [
         "C",
         "Denmark",
         "3",
         "1",
         "0",
         "2",
         "12",
         "11",
         "1",
         "5",
         "C2"
        ],
        [
         "C",
         "Slovenia",
         "3",
         "1",
         "2",
         "0",
         "9",
         "10",
         "-1",
         "3",
         "C3"
        ],
        [
         "C",
         "England",
         "3",
         "0",
         "2",
         "1",
         "8",
         "11",
         "-3",
         "1",
         "C4"
        ],
        [
         "D",
         "Poland",
         "3",
         "2",
         "0",
         "1",
         "8",
         "3",
         "5",
         "7",
         "D1"
        ],
        [
         "D",
         "Netherlands",
         "3",
         "1",
         "1",
         "1",
         "9",
         "7",
         "2",
         "4",
         "D2"
        ],
        [
         "D",
         "France",
         "3",
         "1",
         "1",
         "1",
         "7",
         "10",
         "-3",
         "4",
         "D3"
        ],
        [
         "D",
         "Austria",
         "3",
         "0",
         "2",
         "1",
         "4",
         "8",
         "-4",
         "1",
         "D4"
        ],
        [
         "E",
         "Belgium",
         "3",
         "2",
         "0",
         "1",
         "12",
         "10",
         "2",
         "7",
         "E1"
        ],
        [
         "E",
         "Slovakia",
         "3",
         "1",
         "1",
         "1",
         "11",
         "11",
         "0",
         "4",
         "E2"
        ],
        [
         "E",
         "Ukraine",
         "3",
         "1",
         "2",
         "0",
         "14",
         "12",
         "2",
         "3",
         "E3"
        ],
        [
         "E",
         "Romania",
         "3",
         "0",
         "1",
         "2",
         "6",
         "10",
         "-4",
         "2",
         "E4"
        ],
        [
         "F",
         "Greece",
         "3",
         "2",
         "1",
         "0",
         "8",
         "8",
         "0",
         "6",
         "F1"
        ],
        [
         "F",
         "Turkey",
         "3",
         "1",
         "1",
         "1",
         "7",
         "4",
         "3",
         "4",
         "F2"
        ],
        [
         "F",
         "Czech Republic",
         "3",
         "1",
         "1",
         "1",
         "8",
         "6",
         "2",
         "4",
         "F3"
        ],
        [
         "F",
         "Portugal",
         "3",
         "1",
         "2",
         "0",
         "6",
         "11",
         "-5",
         "3",
         "F4"
        ]
       ],
       "datasetInfos": [],
       "dbfsResultPath": null,
       "isJsonSchema": true,
       "metadata": {},
       "overflow": false,
       "plotOptions": {
        "customPlotOptions": {},
        "displayType": "table",
        "pivotAggregation": null,
        "pivotColumns": null,
        "xColumns": null,
        "yColumns": null
       },
       "removedWidgets": [],
       "schema": [
        {
         "metadata": "{}",
         "name": "GroupName",
         "type": "\"string\""
        },
        {
         "metadata": "{}",
         "name": "TeamName",
         "type": "\"string\""
        },
        {
         "metadata": "{}",
         "name": "MatchesPlayed",
         "type": "\"string\""
        },
        {
         "metadata": "{}",
         "name": "MatchesWon",
         "type": "\"string\""
        },
        {
         "metadata": "{}",
         "name": "MatchesLost",
         "type": "\"string\""
        },
        {
         "metadata": "{}",
         "name": "MatchesDrawn",
         "type": "\"string\""
        },
        {
         "metadata": "{}",
         "name": "GF",
         "type": "\"string\""
        },
        {
         "metadata": "{}",
         "name": "GA",
         "type": "\"string\""
        },
        {
         "metadata": "{}",
         "name": "GD",
         "type": "\"string\""
        },
        {
         "metadata": "{}",
         "name": "TotalPoints",
         "type": "\"string\""
        },
        {
         "metadata": "{}",
         "name": "Position",
         "type": "\"string\""
        }
       ],
       "type": "table"
      }
     },
     "output_type": "display_data"
    }
   ],
   "source": [
    "#getting data from sql table and into pandas dataframe\n",
    "groupstage = spark.sql(\"SELECT * FROM GroupStageResults\")\n",
    "groupstage_pd = groupstage.toPandas()\n",
    "\n",
    "#converting to string and removing .0 from floats occuring after conversion\n",
    "groupstage_pd = groupstage_pd.applymap(lambda x: str(x).split(\".\")[0])\n",
    "\n",
    "display(groupstage_pd)"
   ]
  },
  {
   "cell_type": "code",
   "execution_count": 0,
   "metadata": {
    "application/vnd.databricks.v1+cell": {
     "cellMetadata": {
      "byteLimit": 2048000,
      "rowLimit": 10000
     },
     "inputWidgets": {},
     "nuid": "41ad9e09-2788-4b4e-979f-983f5e38bae2",
     "showTitle": false,
     "title": ""
    }
   },
   "outputs": [],
   "source": [
    "#GroupStage Visualization Table\n",
    "euro_vis = pd.DataFrame({\n",
    "    'Grp/Pos': groupstage_pd['Position'],\n",
    "    'Country': groupstage_pd['TeamName'],\n",
    "    'MP': groupstage_pd['MatchesPlayed'],\n",
    "    'W': groupstage_pd['MatchesWon'],\n",
    "    'D': groupstage_pd['MatchesDrawn'],\n",
    "    'L': groupstage_pd['MatchesLost'],\n",
    "    'GF': groupstage_pd['GF'],\n",
    "    'GA': groupstage_pd['GA'],\n",
    "    'GD': groupstage_pd['GD'],\n",
    "    'Pts': groupstage_pd['TotalPoints']\n",
    "})"
   ]
  },
  {
   "cell_type": "code",
   "execution_count": 0,
   "metadata": {
    "application/vnd.databricks.v1+cell": {
     "cellMetadata": {
      "byteLimit": 2048000,
      "rowLimit": 10000
     },
     "inputWidgets": {},
     "nuid": "a4d11e56-a0ab-4b82-af3b-c6fda8e7552f",
     "showTitle": false,
     "title": ""
    }
   },
   "outputs": [],
   "source": [
    "#empty row for group stage\n",
    "mtgs_row_pd = pd.DataFrame({col: [''] for col in euro_vis.columns})"
   ]
  },
  {
   "cell_type": "code",
   "execution_count": 0,
   "metadata": {
    "application/vnd.databricks.v1+cell": {
     "cellMetadata": {
      "byteLimit": 2048000,
      "rowLimit": 10000
     },
     "inputWidgets": {},
     "nuid": "6c2fb0a6-62d9-4620-b3b1-1a3ca01adb99",
     "showTitle": false,
     "title": ""
    }
   },
   "outputs": [
    {
     "output_type": "display_data",
     "data": {
      "text/html": [
       "<style scoped>\n",
       "  .table-result-container {\n",
       "    max-height: 300px;\n",
       "    overflow: auto;\n",
       "  }\n",
       "  table, th, td {\n",
       "    border: 1px solid black;\n",
       "    border-collapse: collapse;\n",
       "  }\n",
       "  th, td {\n",
       "    padding: 5px;\n",
       "  }\n",
       "  th {\n",
       "    text-align: left;\n",
       "  }\n",
       "</style><div class='table-result-container'><table class='table-result'><thead style='background-color: white'><tr><th>Grp/Pos</th><th>Country</th><th>MP</th><th>W</th><th>D</th><th>L</th><th>GF</th><th>GA</th><th>GD</th><th>Pts</th></tr></thead><tbody><tr><td>A1</td><td>Germany</td><td>3</td><td>3</td><td>0</td><td>0</td><td>12</td><td>6</td><td>6</td><td>9</td></tr><tr><td>A2</td><td>Hungary</td><td>3</td><td>2</td><td>0</td><td>1</td><td>11</td><td>7</td><td>4</td><td>6</td></tr><tr><td>A3</td><td>Switzerland</td><td>3</td><td>1</td><td>0</td><td>2</td><td>5</td><td>7</td><td>-2</td><td>3</td></tr><tr><td>A4</td><td>Scotland</td><td>3</td><td>0</td><td>0</td><td>3</td><td>3</td><td>11</td><td>-8</td><td>0</td></tr><tr><td>B1</td><td>Spain</td><td>3</td><td>2</td><td>0</td><td>1</td><td>11</td><td>9</td><td>2</td><td>6</td></tr><tr><td>B2</td><td>Italy</td><td>3</td><td>1</td><td>1</td><td>1</td><td>9</td><td>7</td><td>2</td><td>4</td></tr><tr><td>B3</td><td>Croatia</td><td>3</td><td>1</td><td>1</td><td>1</td><td>8</td><td>8</td><td>0</td><td>4</td></tr><tr><td>B4</td><td>Albania</td><td>3</td><td>1</td><td>0</td><td>2</td><td>11</td><td>15</td><td>-4</td><td>3</td></tr><tr><td>C1</td><td>Serbia</td><td>3</td><td>2</td><td>1</td><td>0</td><td>11</td><td>8</td><td>3</td><td>7</td></tr><tr><td>C2</td><td>Denmark</td><td>3</td><td>1</td><td>2</td><td>0</td><td>12</td><td>11</td><td>1</td><td>5</td></tr><tr><td>C3</td><td>Slovenia</td><td>3</td><td>1</td><td>0</td><td>2</td><td>9</td><td>10</td><td>-1</td><td>3</td></tr><tr><td>C4</td><td>England</td><td>3</td><td>0</td><td>1</td><td>2</td><td>8</td><td>11</td><td>-3</td><td>1</td></tr></tbody></table></div>"
      ]
     },
     "metadata": {
      "application/vnd.databricks.v1+output": {
       "addedWidgets": {},
       "aggData": [],
       "aggError": "",
       "aggOverflow": false,
       "aggSchema": [],
       "aggSeriesLimitReached": false,
       "aggType": "",
       "arguments": {},
       "columnCustomDisplayInfos": {},
       "data": [
        [
         "A1",
         "Germany",
         "3",
         "3",
         "0",
         "0",
         "12",
         "6",
         "6",
         "9"
        ],
        [
         "A2",
         "Hungary",
         "3",
         "2",
         "0",
         "1",
         "11",
         "7",
         "4",
         "6"
        ],
        [
         "A3",
         "Switzerland",
         "3",
         "1",
         "0",
         "2",
         "5",
         "7",
         "-2",
         "3"
        ],
        [
         "A4",
         "Scotland",
         "3",
         "0",
         "0",
         "3",
         "3",
         "11",
         "-8",
         "0"
        ],
        [
         "B1",
         "Spain",
         "3",
         "2",
         "0",
         "1",
         "11",
         "9",
         "2",
         "6"
        ],
        [
         "B2",
         "Italy",
         "3",
         "1",
         "1",
         "1",
         "9",
         "7",
         "2",
         "4"
        ],
        [
         "B3",
         "Croatia",
         "3",
         "1",
         "1",
         "1",
         "8",
         "8",
         "0",
         "4"
        ],
        [
         "B4",
         "Albania",
         "3",
         "1",
         "0",
         "2",
         "11",
         "15",
         "-4",
         "3"
        ],
        [
         "C1",
         "Serbia",
         "3",
         "2",
         "1",
         "0",
         "11",
         "8",
         "3",
         "7"
        ],
        [
         "C2",
         "Denmark",
         "3",
         "1",
         "2",
         "0",
         "12",
         "11",
         "1",
         "5"
        ],
        [
         "C3",
         "Slovenia",
         "3",
         "1",
         "0",
         "2",
         "9",
         "10",
         "-1",
         "3"
        ],
        [
         "C4",
         "England",
         "3",
         "0",
         "1",
         "2",
         "8",
         "11",
         "-3",
         "1"
        ]
       ],
       "datasetInfos": [],
       "dbfsResultPath": null,
       "isJsonSchema": true,
       "metadata": {},
       "overflow": false,
       "plotOptions": {
        "customPlotOptions": {},
        "displayType": "table",
        "pivotAggregation": null,
        "pivotColumns": null,
        "xColumns": null,
        "yColumns": null
       },
       "removedWidgets": [],
       "schema": [
        {
         "metadata": "{}",
         "name": "Grp/Pos",
         "type": "\"string\""
        },
        {
         "metadata": "{}",
         "name": "Country",
         "type": "\"string\""
        },
        {
         "metadata": "{}",
         "name": "MP",
         "type": "\"string\""
        },
        {
         "metadata": "{}",
         "name": "W",
         "type": "\"string\""
        },
        {
         "metadata": "{}",
         "name": "D",
         "type": "\"string\""
        },
        {
         "metadata": "{}",
         "name": "L",
         "type": "\"string\""
        },
        {
         "metadata": "{}",
         "name": "GF",
         "type": "\"string\""
        },
        {
         "metadata": "{}",
         "name": "GA",
         "type": "\"string\""
        },
        {
         "metadata": "{}",
         "name": "GD",
         "type": "\"string\""
        },
        {
         "metadata": "{}",
         "name": "Pts",
         "type": "\"string\""
        }
       ],
       "type": "table"
      }
     },
     "output_type": "display_data"
    },
    {
     "output_type": "display_data",
     "data": {
      "text/html": [
       "<style scoped>\n",
       "  .table-result-container {\n",
       "    max-height: 300px;\n",
       "    overflow: auto;\n",
       "  }\n",
       "  table, th, td {\n",
       "    border: 1px solid black;\n",
       "    border-collapse: collapse;\n",
       "  }\n",
       "  th, td {\n",
       "    padding: 5px;\n",
       "  }\n",
       "  th {\n",
       "    text-align: left;\n",
       "  }\n",
       "</style><div class='table-result-container'><table class='table-result'><thead style='background-color: white'><tr><th>Grp/Pos</th><th>Country</th><th>MP</th><th>W</th><th>D</th><th>L</th><th>GF</th><th>GA</th><th>GD</th><th>Pts</th></tr></thead><tbody><tr><td>D1</td><td>Poland</td><td>3</td><td>2</td><td>1</td><td>0</td><td>8</td><td>3</td><td>5</td><td>7</td></tr><tr><td>D2</td><td>Netherlands</td><td>3</td><td>1</td><td>1</td><td>1</td><td>9</td><td>7</td><td>2</td><td>4</td></tr><tr><td>D3</td><td>France</td><td>3</td><td>1</td><td>1</td><td>1</td><td>7</td><td>10</td><td>-3</td><td>4</td></tr><tr><td>D4</td><td>Austria</td><td>3</td><td>0</td><td>1</td><td>2</td><td>4</td><td>8</td><td>-4</td><td>1</td></tr><tr><td>E1</td><td>Belgium</td><td>3</td><td>2</td><td>1</td><td>0</td><td>12</td><td>10</td><td>2</td><td>7</td></tr><tr><td>E2</td><td>Slovakia</td><td>3</td><td>1</td><td>1</td><td>1</td><td>11</td><td>11</td><td>0</td><td>4</td></tr><tr><td>E3</td><td>Ukraine</td><td>3</td><td>1</td><td>0</td><td>2</td><td>14</td><td>12</td><td>2</td><td>3</td></tr><tr><td>E4</td><td>Romania</td><td>3</td><td>0</td><td>2</td><td>1</td><td>6</td><td>10</td><td>-4</td><td>2</td></tr><tr><td>F1</td><td>Greece</td><td>3</td><td>2</td><td>0</td><td>1</td><td>8</td><td>8</td><td>0</td><td>6</td></tr><tr><td>F2</td><td>Turkey</td><td>3</td><td>1</td><td>1</td><td>1</td><td>7</td><td>4</td><td>3</td><td>4</td></tr><tr><td>F3</td><td>Czech Republic</td><td>3</td><td>1</td><td>1</td><td>1</td><td>8</td><td>6</td><td>2</td><td>4</td></tr><tr><td>F4</td><td>Portugal</td><td>3</td><td>1</td><td>0</td><td>2</td><td>6</td><td>11</td><td>-5</td><td>3</td></tr></tbody></table></div>"
      ]
     },
     "metadata": {
      "application/vnd.databricks.v1+output": {
       "addedWidgets": {},
       "aggData": [],
       "aggError": "",
       "aggOverflow": false,
       "aggSchema": [],
       "aggSeriesLimitReached": false,
       "aggType": "",
       "arguments": {},
       "columnCustomDisplayInfos": {},
       "data": [
        [
         "D1",
         "Poland",
         "3",
         "2",
         "1",
         "0",
         "8",
         "3",
         "5",
         "7"
        ],
        [
         "D2",
         "Netherlands",
         "3",
         "1",
         "1",
         "1",
         "9",
         "7",
         "2",
         "4"
        ],
        [
         "D3",
         "France",
         "3",
         "1",
         "1",
         "1",
         "7",
         "10",
         "-3",
         "4"
        ],
        [
         "D4",
         "Austria",
         "3",
         "0",
         "1",
         "2",
         "4",
         "8",
         "-4",
         "1"
        ],
        [
         "E1",
         "Belgium",
         "3",
         "2",
         "1",
         "0",
         "12",
         "10",
         "2",
         "7"
        ],
        [
         "E2",
         "Slovakia",
         "3",
         "1",
         "1",
         "1",
         "11",
         "11",
         "0",
         "4"
        ],
        [
         "E3",
         "Ukraine",
         "3",
         "1",
         "0",
         "2",
         "14",
         "12",
         "2",
         "3"
        ],
        [
         "E4",
         "Romania",
         "3",
         "0",
         "2",
         "1",
         "6",
         "10",
         "-4",
         "2"
        ],
        [
         "F1",
         "Greece",
         "3",
         "2",
         "0",
         "1",
         "8",
         "8",
         "0",
         "6"
        ],
        [
         "F2",
         "Turkey",
         "3",
         "1",
         "1",
         "1",
         "7",
         "4",
         "3",
         "4"
        ],
        [
         "F3",
         "Czech Republic",
         "3",
         "1",
         "1",
         "1",
         "8",
         "6",
         "2",
         "4"
        ],
        [
         "F4",
         "Portugal",
         "3",
         "1",
         "0",
         "2",
         "6",
         "11",
         "-5",
         "3"
        ]
       ],
       "datasetInfos": [],
       "dbfsResultPath": null,
       "isJsonSchema": true,
       "metadata": {},
       "overflow": false,
       "plotOptions": {
        "customPlotOptions": {},
        "displayType": "table",
        "pivotAggregation": null,
        "pivotColumns": null,
        "xColumns": null,
        "yColumns": null
       },
       "removedWidgets": [],
       "schema": [
        {
         "metadata": "{}",
         "name": "Grp/Pos",
         "type": "\"string\""
        },
        {
         "metadata": "{}",
         "name": "Country",
         "type": "\"string\""
        },
        {
         "metadata": "{}",
         "name": "MP",
         "type": "\"string\""
        },
        {
         "metadata": "{}",
         "name": "W",
         "type": "\"string\""
        },
        {
         "metadata": "{}",
         "name": "D",
         "type": "\"string\""
        },
        {
         "metadata": "{}",
         "name": "L",
         "type": "\"string\""
        },
        {
         "metadata": "{}",
         "name": "GF",
         "type": "\"string\""
        },
        {
         "metadata": "{}",
         "name": "GA",
         "type": "\"string\""
        },
        {
         "metadata": "{}",
         "name": "GD",
         "type": "\"string\""
        },
        {
         "metadata": "{}",
         "name": "Pts",
         "type": "\"string\""
        }
       ],
       "type": "table"
      }
     },
     "output_type": "display_data"
    }
   ],
   "source": [
    "#splitting into left and right for visulaization\n",
    "left_gs = euro_vis[euro_vis['Grp/Pos'].str.contains('^[ABC]')]\n",
    "\n",
    "right_gs = euro_vis[euro_vis['Grp/Pos'].str.contains('^[DEF]')]\n",
    "\n",
    "#reseting index for both df\n",
    "left_gs.reset_index(drop=True, inplace=True)\n",
    "right_gs.reset_index(drop=True, inplace=True)\n",
    "\n",
    "display(left_gs)\n",
    "display(right_gs)"
   ]
  },
  {
   "cell_type": "code",
   "execution_count": 0,
   "metadata": {
    "application/vnd.databricks.v1+cell": {
     "cellMetadata": {
      "byteLimit": 2048000,
      "rowLimit": 10000
     },
     "inputWidgets": {},
     "nuid": "5ddefab1-1a77-42fd-809a-f98895ed5d67",
     "showTitle": false,
     "title": ""
    }
   },
   "outputs": [
    {
     "output_type": "display_data",
     "data": {
      "text/html": [
       "<style scoped>\n",
       "  .table-result-container {\n",
       "    max-height: 300px;\n",
       "    overflow: auto;\n",
       "  }\n",
       "  table, th, td {\n",
       "    border: 1px solid black;\n",
       "    border-collapse: collapse;\n",
       "  }\n",
       "  th, td {\n",
       "    padding: 5px;\n",
       "  }\n",
       "  th {\n",
       "    text-align: left;\n",
       "  }\n",
       "</style><div class='table-result-container'><table class='table-result'><thead style='background-color: white'><tr><th>L_Grp/Pos</th><th>L_Country</th><th>L_MP</th><th>L_W</th><th>L-D</th><th>L_L</th><th>L-GF</th><th>L_GA</th><th>L_GD</th><th>L_Pts</th></tr></thead><tbody><tr><td>A1</td><td>Germany</td><td>3</td><td>3</td><td>0</td><td>0</td><td>12</td><td>6</td><td>6</td><td>9</td></tr><tr><td>A2</td><td>Hungary</td><td>3</td><td>2</td><td>0</td><td>1</td><td>11</td><td>7</td><td>4</td><td>6</td></tr><tr><td>A3</td><td>Switzerland</td><td>3</td><td>1</td><td>0</td><td>2</td><td>5</td><td>7</td><td>-2</td><td>3</td></tr><tr><td>A4</td><td>Scotland</td><td>3</td><td>0</td><td>0</td><td>3</td><td>3</td><td>11</td><td>-8</td><td>0</td></tr><tr><td></td><td></td><td></td><td></td><td></td><td></td><td></td><td></td><td></td><td></td></tr><tr><td></td><td></td><td></td><td></td><td></td><td></td><td></td><td></td><td></td><td></td></tr><tr><td>B1</td><td>Spain</td><td>3</td><td>2</td><td>0</td><td>1</td><td>11</td><td>9</td><td>2</td><td>6</td></tr><tr><td>B2</td><td>Italy</td><td>3</td><td>1</td><td>1</td><td>1</td><td>9</td><td>7</td><td>2</td><td>4</td></tr><tr><td>B3</td><td>Croatia</td><td>3</td><td>1</td><td>1</td><td>1</td><td>8</td><td>8</td><td>0</td><td>4</td></tr><tr><td>B4</td><td>Albania</td><td>3</td><td>1</td><td>0</td><td>2</td><td>11</td><td>15</td><td>-4</td><td>3</td></tr><tr><td></td><td></td><td></td><td></td><td></td><td></td><td></td><td></td><td></td><td></td></tr><tr><td></td><td></td><td></td><td></td><td></td><td></td><td></td><td></td><td></td><td></td></tr><tr><td>C1</td><td>Serbia</td><td>3</td><td>2</td><td>1</td><td>0</td><td>11</td><td>8</td><td>3</td><td>7</td></tr><tr><td>C2</td><td>Denmark</td><td>3</td><td>1</td><td>2</td><td>0</td><td>12</td><td>11</td><td>1</td><td>5</td></tr><tr><td>C3</td><td>Slovenia</td><td>3</td><td>1</td><td>0</td><td>2</td><td>9</td><td>10</td><td>-1</td><td>3</td></tr><tr><td>C4</td><td>England</td><td>3</td><td>0</td><td>1</td><td>2</td><td>8</td><td>11</td><td>-3</td><td>1</td></tr></tbody></table></div>"
      ]
     },
     "metadata": {
      "application/vnd.databricks.v1+output": {
       "addedWidgets": {},
       "aggData": [],
       "aggError": "",
       "aggOverflow": false,
       "aggSchema": [],
       "aggSeriesLimitReached": false,
       "aggType": "",
       "arguments": {},
       "columnCustomDisplayInfos": {},
       "data": [
        [
         "A1",
         "Germany",
         "3",
         "3",
         "0",
         "0",
         "12",
         "6",
         "6",
         "9"
        ],
        [
         "A2",
         "Hungary",
         "3",
         "2",
         "0",
         "1",
         "11",
         "7",
         "4",
         "6"
        ],
        [
         "A3",
         "Switzerland",
         "3",
         "1",
         "0",
         "2",
         "5",
         "7",
         "-2",
         "3"
        ],
        [
         "A4",
         "Scotland",
         "3",
         "0",
         "0",
         "3",
         "3",
         "11",
         "-8",
         "0"
        ],
        [
         "",
         "",
         "",
         "",
         "",
         "",
         "",
         "",
         "",
         ""
        ],
        [
         "",
         "",
         "",
         "",
         "",
         "",
         "",
         "",
         "",
         ""
        ],
        [
         "B1",
         "Spain",
         "3",
         "2",
         "0",
         "1",
         "11",
         "9",
         "2",
         "6"
        ],
        [
         "B2",
         "Italy",
         "3",
         "1",
         "1",
         "1",
         "9",
         "7",
         "2",
         "4"
        ],
        [
         "B3",
         "Croatia",
         "3",
         "1",
         "1",
         "1",
         "8",
         "8",
         "0",
         "4"
        ],
        [
         "B4",
         "Albania",
         "3",
         "1",
         "0",
         "2",
         "11",
         "15",
         "-4",
         "3"
        ],
        [
         "",
         "",
         "",
         "",
         "",
         "",
         "",
         "",
         "",
         ""
        ],
        [
         "",
         "",
         "",
         "",
         "",
         "",
         "",
         "",
         "",
         ""
        ],
        [
         "C1",
         "Serbia",
         "3",
         "2",
         "1",
         "0",
         "11",
         "8",
         "3",
         "7"
        ],
        [
         "C2",
         "Denmark",
         "3",
         "1",
         "2",
         "0",
         "12",
         "11",
         "1",
         "5"
        ],
        [
         "C3",
         "Slovenia",
         "3",
         "1",
         "0",
         "2",
         "9",
         "10",
         "-1",
         "3"
        ],
        [
         "C4",
         "England",
         "3",
         "0",
         "1",
         "2",
         "8",
         "11",
         "-3",
         "1"
        ]
       ],
       "datasetInfos": [],
       "dbfsResultPath": null,
       "isJsonSchema": true,
       "metadata": {},
       "overflow": false,
       "plotOptions": {
        "customPlotOptions": {},
        "displayType": "table",
        "pivotAggregation": null,
        "pivotColumns": null,
        "xColumns": null,
        "yColumns": null
       },
       "removedWidgets": [],
       "schema": [
        {
         "metadata": "{}",
         "name": "L_Grp/Pos",
         "type": "\"string\""
        },
        {
         "metadata": "{}",
         "name": "L_Country",
         "type": "\"string\""
        },
        {
         "metadata": "{}",
         "name": "L_MP",
         "type": "\"string\""
        },
        {
         "metadata": "{}",
         "name": "L_W",
         "type": "\"string\""
        },
        {
         "metadata": "{}",
         "name": "L-D",
         "type": "\"string\""
        },
        {
         "metadata": "{}",
         "name": "L_L",
         "type": "\"string\""
        },
        {
         "metadata": "{}",
         "name": "L-GF",
         "type": "\"string\""
        },
        {
         "metadata": "{}",
         "name": "L_GA",
         "type": "\"string\""
        },
        {
         "metadata": "{}",
         "name": "L_GD",
         "type": "\"string\""
        },
        {
         "metadata": "{}",
         "name": "L_Pts",
         "type": "\"string\""
        }
       ],
       "type": "table"
      }
     },
     "output_type": "display_data"
    }
   ],
   "source": [
    "#list of groupstage according to groupname\n",
    "left_gs_grouped = [left_gs.iloc[i:i+4] for i in range(0, len(left_gs), 4)]\n",
    "\n",
    "#iterating over above list and adding empty row except for last one\n",
    "for i in range(len(left_gs_grouped)):\n",
    "    if i < len(left_gs_grouped) - 1:\n",
    "        left_gs_grouped[i] = pd.concat([left_gs_grouped[i], mtgs_row_pd,mtgs_row_pd], ignore_index=True)\n",
    "\n",
    "#joining them back after adding empty rows\n",
    "left_gs_spaced = pd.concat(left_gs_grouped).reset_index(drop=True)\n",
    "\n",
    "lgs_new_column_name ={'Grp/Pos': 'L_Grp/Pos',\n",
    "                       'Country': 'L_Country',\n",
    "                       'MP': 'L_MP',\n",
    "                       'W': 'L_W',\n",
    "                       'D': 'L-D',\n",
    "                       'L': 'L_L',\n",
    "                       'GF': 'L-GF',\n",
    "                       'GA': 'L_GA',\n",
    "                       'GD': 'L_GD',\n",
    "                       'Pts': 'L_Pts'\n",
    "                       }\n",
    "left_gs_spaced = left_gs_spaced.rename(columns=lgs_new_column_name)\n",
    "\n",
    "display(left_gs_spaced)"
   ]
  },
  {
   "cell_type": "code",
   "execution_count": 0,
   "metadata": {
    "application/vnd.databricks.v1+cell": {
     "cellMetadata": {
      "byteLimit": 2048000,
      "rowLimit": 10000
     },
     "inputWidgets": {},
     "nuid": "6374dc61-5980-4eec-9aad-825aef449ad9",
     "showTitle": false,
     "title": ""
    }
   },
   "outputs": [
    {
     "output_type": "display_data",
     "data": {
      "text/html": [
       "<style scoped>\n",
       "  .table-result-container {\n",
       "    max-height: 300px;\n",
       "    overflow: auto;\n",
       "  }\n",
       "  table, th, td {\n",
       "    border: 1px solid black;\n",
       "    border-collapse: collapse;\n",
       "  }\n",
       "  th, td {\n",
       "    padding: 5px;\n",
       "  }\n",
       "  th {\n",
       "    text-align: left;\n",
       "  }\n",
       "</style><div class='table-result-container'><table class='table-result'><thead style='background-color: white'><tr><th>R_Grp/Pos</th><th>R_Country</th><th>R_MP</th><th>R_W</th><th>R-D</th><th>R_L</th><th>R-GF</th><th>R_GA</th><th>R_GD</th><th>R_Pts</th></tr></thead><tbody><tr><td>D1</td><td>Poland</td><td>3</td><td>2</td><td>1</td><td>0</td><td>8</td><td>3</td><td>5</td><td>7</td></tr><tr><td>D2</td><td>Netherlands</td><td>3</td><td>1</td><td>1</td><td>1</td><td>9</td><td>7</td><td>2</td><td>4</td></tr><tr><td>D3</td><td>France</td><td>3</td><td>1</td><td>1</td><td>1</td><td>7</td><td>10</td><td>-3</td><td>4</td></tr><tr><td>D4</td><td>Austria</td><td>3</td><td>0</td><td>1</td><td>2</td><td>4</td><td>8</td><td>-4</td><td>1</td></tr><tr><td></td><td></td><td></td><td></td><td></td><td></td><td></td><td></td><td></td><td></td></tr><tr><td></td><td></td><td></td><td></td><td></td><td></td><td></td><td></td><td></td><td></td></tr><tr><td>E1</td><td>Belgium</td><td>3</td><td>2</td><td>1</td><td>0</td><td>12</td><td>10</td><td>2</td><td>7</td></tr><tr><td>E2</td><td>Slovakia</td><td>3</td><td>1</td><td>1</td><td>1</td><td>11</td><td>11</td><td>0</td><td>4</td></tr><tr><td>E3</td><td>Ukraine</td><td>3</td><td>1</td><td>0</td><td>2</td><td>14</td><td>12</td><td>2</td><td>3</td></tr><tr><td>E4</td><td>Romania</td><td>3</td><td>0</td><td>2</td><td>1</td><td>6</td><td>10</td><td>-4</td><td>2</td></tr><tr><td></td><td></td><td></td><td></td><td></td><td></td><td></td><td></td><td></td><td></td></tr><tr><td></td><td></td><td></td><td></td><td></td><td></td><td></td><td></td><td></td><td></td></tr><tr><td>F1</td><td>Greece</td><td>3</td><td>2</td><td>0</td><td>1</td><td>8</td><td>8</td><td>0</td><td>6</td></tr><tr><td>F2</td><td>Turkey</td><td>3</td><td>1</td><td>1</td><td>1</td><td>7</td><td>4</td><td>3</td><td>4</td></tr><tr><td>F3</td><td>Czech Republic</td><td>3</td><td>1</td><td>1</td><td>1</td><td>8</td><td>6</td><td>2</td><td>4</td></tr><tr><td>F4</td><td>Portugal</td><td>3</td><td>1</td><td>0</td><td>2</td><td>6</td><td>11</td><td>-5</td><td>3</td></tr></tbody></table></div>"
      ]
     },
     "metadata": {
      "application/vnd.databricks.v1+output": {
       "addedWidgets": {},
       "aggData": [],
       "aggError": "",
       "aggOverflow": false,
       "aggSchema": [],
       "aggSeriesLimitReached": false,
       "aggType": "",
       "arguments": {},
       "columnCustomDisplayInfos": {},
       "data": [
        [
         "D1",
         "Poland",
         "3",
         "2",
         "1",
         "0",
         "8",
         "3",
         "5",
         "7"
        ],
        [
         "D2",
         "Netherlands",
         "3",
         "1",
         "1",
         "1",
         "9",
         "7",
         "2",
         "4"
        ],
        [
         "D3",
         "France",
         "3",
         "1",
         "1",
         "1",
         "7",
         "10",
         "-3",
         "4"
        ],
        [
         "D4",
         "Austria",
         "3",
         "0",
         "1",
         "2",
         "4",
         "8",
         "-4",
         "1"
        ],
        [
         "",
         "",
         "",
         "",
         "",
         "",
         "",
         "",
         "",
         ""
        ],
        [
         "",
         "",
         "",
         "",
         "",
         "",
         "",
         "",
         "",
         ""
        ],
        [
         "E1",
         "Belgium",
         "3",
         "2",
         "1",
         "0",
         "12",
         "10",
         "2",
         "7"
        ],
        [
         "E2",
         "Slovakia",
         "3",
         "1",
         "1",
         "1",
         "11",
         "11",
         "0",
         "4"
        ],
        [
         "E3",
         "Ukraine",
         "3",
         "1",
         "0",
         "2",
         "14",
         "12",
         "2",
         "3"
        ],
        [
         "E4",
         "Romania",
         "3",
         "0",
         "2",
         "1",
         "6",
         "10",
         "-4",
         "2"
        ],
        [
         "",
         "",
         "",
         "",
         "",
         "",
         "",
         "",
         "",
         ""
        ],
        [
         "",
         "",
         "",
         "",
         "",
         "",
         "",
         "",
         "",
         ""
        ],
        [
         "F1",
         "Greece",
         "3",
         "2",
         "0",
         "1",
         "8",
         "8",
         "0",
         "6"
        ],
        [
         "F2",
         "Turkey",
         "3",
         "1",
         "1",
         "1",
         "7",
         "4",
         "3",
         "4"
        ],
        [
         "F3",
         "Czech Republic",
         "3",
         "1",
         "1",
         "1",
         "8",
         "6",
         "2",
         "4"
        ],
        [
         "F4",
         "Portugal",
         "3",
         "1",
         "0",
         "2",
         "6",
         "11",
         "-5",
         "3"
        ]
       ],
       "datasetInfos": [],
       "dbfsResultPath": null,
       "isJsonSchema": true,
       "metadata": {},
       "overflow": false,
       "plotOptions": {
        "customPlotOptions": {},
        "displayType": "table",
        "pivotAggregation": null,
        "pivotColumns": null,
        "xColumns": null,
        "yColumns": null
       },
       "removedWidgets": [],
       "schema": [
        {
         "metadata": "{}",
         "name": "R_Grp/Pos",
         "type": "\"string\""
        },
        {
         "metadata": "{}",
         "name": "R_Country",
         "type": "\"string\""
        },
        {
         "metadata": "{}",
         "name": "R_MP",
         "type": "\"string\""
        },
        {
         "metadata": "{}",
         "name": "R_W",
         "type": "\"string\""
        },
        {
         "metadata": "{}",
         "name": "R-D",
         "type": "\"string\""
        },
        {
         "metadata": "{}",
         "name": "R_L",
         "type": "\"string\""
        },
        {
         "metadata": "{}",
         "name": "R-GF",
         "type": "\"string\""
        },
        {
         "metadata": "{}",
         "name": "R_GA",
         "type": "\"string\""
        },
        {
         "metadata": "{}",
         "name": "R_GD",
         "type": "\"string\""
        },
        {
         "metadata": "{}",
         "name": "R_Pts",
         "type": "\"string\""
        }
       ],
       "type": "table"
      }
     },
     "output_type": "display_data"
    }
   ],
   "source": [
    "#list of groupstage according to groupname\n",
    "right_gs_grouped = [right_gs.iloc[i:i+4] for i in range(0, len(right_gs), 4)]\n",
    "\n",
    "#iterating over above list and adding empty row except for last one\n",
    "for i in range(len(right_gs_grouped)):\n",
    "    if i < len(right_gs_grouped) - 1:\n",
    "        right_gs_grouped[i] = pd.concat([right_gs_grouped[i], mtgs_row_pd,mtgs_row_pd], ignore_index=True)\n",
    "\n",
    "#joining them back after adding empty rows\n",
    "right_gs_spaced = pd.concat(right_gs_grouped).reset_index(drop=True)\n",
    "\n",
    "rgs_new_column_name ={'Grp/Pos': 'R_Grp/Pos',\n",
    "                       'Country': 'R_Country',\n",
    "                       'MP': 'R_MP',\n",
    "                       'W': 'R_W',\n",
    "                       'D': 'R-D',\n",
    "                       'L': 'R_L',\n",
    "                       'GF': 'R-GF',\n",
    "                       'GA': 'R_GA',\n",
    "                       'GD': 'R_GD',\n",
    "                       'Pts': 'R_Pts'\n",
    "                       }\n",
    "right_gs_spaced = right_gs_spaced.rename(columns=rgs_new_column_name)\n",
    "\n",
    "display(right_gs_spaced)"
   ]
  },
  {
   "cell_type": "code",
   "execution_count": 0,
   "metadata": {
    "application/vnd.databricks.v1+cell": {
     "cellMetadata": {
      "byteLimit": 2048000,
      "rowLimit": 10000
     },
     "inputWidgets": {},
     "nuid": "e242ec7e-5c90-440b-b7ad-0a5b840fc4cb",
     "showTitle": false,
     "title": ""
    }
   },
   "outputs": [
    {
     "output_type": "display_data",
     "data": {
      "text/html": [
       "<style scoped>\n",
       "  .table-result-container {\n",
       "    max-height: 300px;\n",
       "    overflow: auto;\n",
       "  }\n",
       "  table, th, td {\n",
       "    border: 1px solid black;\n",
       "    border-collapse: collapse;\n",
       "  }\n",
       "  th, td {\n",
       "    padding: 5px;\n",
       "  }\n",
       "  th {\n",
       "    text-align: left;\n",
       "  }\n",
       "</style><div class='table-result-container'><table class='table-result'><thead style='background-color: white'><tr><th>MatchID</th><th>Team1</th><th>Team1Goals</th><th>Team2Goals</th><th>Team2</th><th>MatchWinner</th><th>MatchStage</th></tr></thead><tbody><tr><td>1</td><td>Spain</td><td>3</td><td>0</td><td>Czech Republic</td><td>Spain</td><td>R16</td></tr><tr><td>2</td><td>Germany</td><td>1</td><td>4</td><td>Denmark</td><td>Denmark</td><td>R16</td></tr><tr><td>3</td><td>Greece</td><td>1</td><td>0</td><td>Croatia</td><td>Greece</td><td>R16</td></tr><tr><td>4</td><td>Netherlands</td><td>5</td><td>0</td><td>Slovakia</td><td>Netherlands</td><td>R16</td></tr><tr><td>5</td><td>Belgium</td><td>4</td><td>5</td><td>France</td><td>France</td><td>R16</td></tr><tr><td>6</td><td>Poland</td><td>3</td><td>0</td><td>Turkey</td><td>Poland</td><td>R16</td></tr><tr><td>7</td><td>Serbia</td><td>6</td><td>0</td><td>Ukraine</td><td>Serbia</td><td>R16</td></tr><tr><td>8</td><td>Hungary</td><td>5</td><td>0</td><td>Italy</td><td>Hungary</td><td>R16</td></tr></tbody></table></div>"
      ]
     },
     "metadata": {
      "application/vnd.databricks.v1+output": {
       "addedWidgets": {},
       "aggData": [],
       "aggError": "",
       "aggOverflow": false,
       "aggSchema": [],
       "aggSeriesLimitReached": false,
       "aggType": "",
       "arguments": {},
       "columnCustomDisplayInfos": {},
       "data": [
        [
         "1",
         "Spain",
         "3",
         "0",
         "Czech Republic",
         "Spain",
         "R16"
        ],
        [
         "2",
         "Germany",
         "1",
         "4",
         "Denmark",
         "Denmark",
         "R16"
        ],
        [
         "3",
         "Greece",
         "1",
         "0",
         "Croatia",
         "Greece",
         "R16"
        ],
        [
         "4",
         "Netherlands",
         "5",
         "0",
         "Slovakia",
         "Netherlands",
         "R16"
        ],
        [
         "5",
         "Belgium",
         "4",
         "5",
         "France",
         "France",
         "R16"
        ],
        [
         "6",
         "Poland",
         "3",
         "0",
         "Turkey",
         "Poland",
         "R16"
        ],
        [
         "7",
         "Serbia",
         "6",
         "0",
         "Ukraine",
         "Serbia",
         "R16"
        ],
        [
         "8",
         "Hungary",
         "5",
         "0",
         "Italy",
         "Hungary",
         "R16"
        ]
       ],
       "datasetInfos": [],
       "dbfsResultPath": null,
       "isJsonSchema": true,
       "metadata": {},
       "overflow": false,
       "plotOptions": {
        "customPlotOptions": {},
        "displayType": "table",
        "pivotAggregation": null,
        "pivotColumns": null,
        "xColumns": null,
        "yColumns": null
       },
       "removedWidgets": [],
       "schema": [
        {
         "metadata": "{}",
         "name": "MatchID",
         "type": "\"string\""
        },
        {
         "metadata": "{}",
         "name": "Team1",
         "type": "\"string\""
        },
        {
         "metadata": "{}",
         "name": "Team1Goals",
         "type": "\"string\""
        },
        {
         "metadata": "{}",
         "name": "Team2Goals",
         "type": "\"string\""
        },
        {
         "metadata": "{}",
         "name": "Team2",
         "type": "\"string\""
        },
        {
         "metadata": "{}",
         "name": "MatchWinner",
         "type": "\"string\""
        },
        {
         "metadata": "{}",
         "name": "MatchStage",
         "type": "\"string\""
        }
       ],
       "type": "table"
      }
     },
     "output_type": "display_data"
    }
   ],
   "source": [
    "#getting data from sql table and into pandas dataframe\n",
    "round_16 = spark.sql(\"SELECT * FROM QualificationPlacement WHERE MatchStage = 'R16'\")\n",
    "round_16_pd = round_16.toPandas()\n",
    "\n",
    "#converting to string and removing .0 from floats occuring after conversion\n",
    "round_16_pd = round_16_pd.applymap(lambda x: str(x).split(\".\")[0])\n",
    "\n",
    "display(round_16_pd)"
   ]
  },
  {
   "cell_type": "code",
   "execution_count": 0,
   "metadata": {
    "application/vnd.databricks.v1+cell": {
     "cellMetadata": {
      "byteLimit": 2048000,
      "rowLimit": 10000
     },
     "inputWidgets": {},
     "nuid": "a06a3941-8763-4b86-b08c-d49e6eae78d1",
     "showTitle": false,
     "title": ""
    }
   },
   "outputs": [
    {
     "output_type": "display_data",
     "data": {
      "text/html": [
       "<style scoped>\n",
       "  .table-result-container {\n",
       "    max-height: 300px;\n",
       "    overflow: auto;\n",
       "  }\n",
       "  table, th, td {\n",
       "    border: 1px solid black;\n",
       "    border-collapse: collapse;\n",
       "  }\n",
       "  th, td {\n",
       "    padding: 5px;\n",
       "  }\n",
       "  th {\n",
       "    text-align: left;\n",
       "  }\n",
       "</style><div class='table-result-container'><table class='table-result'><thead style='background-color: white'><tr><th>R16_Teams</th><th>R16_Score</th></tr></thead><tbody><tr><td>Spain</td><td>3</td></tr><tr><td>Czech Republic</td><td>0</td></tr><tr><td>Germany</td><td>1</td></tr><tr><td>Denmark</td><td>4</td></tr><tr><td>Greece</td><td>1</td></tr><tr><td>Croatia</td><td>0</td></tr><tr><td>Netherlands</td><td>5</td></tr><tr><td>Slovakia</td><td>0</td></tr><tr><td>Belgium</td><td>4</td></tr><tr><td>France</td><td>5</td></tr><tr><td>Poland</td><td>3</td></tr><tr><td>Turkey</td><td>0</td></tr><tr><td>Serbia</td><td>6</td></tr><tr><td>Ukraine</td><td>0</td></tr><tr><td>Hungary</td><td>5</td></tr><tr><td>Italy</td><td>0</td></tr></tbody></table></div>"
      ]
     },
     "metadata": {
      "application/vnd.databricks.v1+output": {
       "addedWidgets": {},
       "aggData": [],
       "aggError": "",
       "aggOverflow": false,
       "aggSchema": [],
       "aggSeriesLimitReached": false,
       "aggType": "",
       "arguments": {},
       "columnCustomDisplayInfos": {},
       "data": [
        [
         "Spain",
         "3"
        ],
        [
         "Czech Republic",
         "0"
        ],
        [
         "Germany",
         "1"
        ],
        [
         "Denmark",
         "4"
        ],
        [
         "Greece",
         "1"
        ],
        [
         "Croatia",
         "0"
        ],
        [
         "Netherlands",
         "5"
        ],
        [
         "Slovakia",
         "0"
        ],
        [
         "Belgium",
         "4"
        ],
        [
         "France",
         "5"
        ],
        [
         "Poland",
         "3"
        ],
        [
         "Turkey",
         "0"
        ],
        [
         "Serbia",
         "6"
        ],
        [
         "Ukraine",
         "0"
        ],
        [
         "Hungary",
         "5"
        ],
        [
         "Italy",
         "0"
        ]
       ],
       "datasetInfos": [],
       "dbfsResultPath": null,
       "isJsonSchema": true,
       "metadata": {},
       "overflow": false,
       "plotOptions": {
        "customPlotOptions": {},
        "displayType": "table",
        "pivotAggregation": null,
        "pivotColumns": null,
        "xColumns": null,
        "yColumns": null
       },
       "removedWidgets": [],
       "schema": [
        {
         "metadata": "{}",
         "name": "R16_Teams",
         "type": "\"string\""
        },
        {
         "metadata": "{}",
         "name": "R16_Score",
         "type": "\"string\""
        }
       ],
       "type": "table"
      }
     },
     "output_type": "display_data"
    }
   ],
   "source": [
    "#storing required data in df\n",
    "euro_r16_vis = pd.DataFrame(columns=['R16_Teams', 'R16_Score'])\n",
    "\n",
    "#displaying all teams and respective scores in columns\n",
    "for index, row in round_16_pd.iterrows():\n",
    "    team1 = row['Team1']\n",
    "    team1goals = row['Team1Goals']\n",
    "    team2 = row['Team2']\n",
    "    team2goals = row['Team2Goals']\n",
    "    euro_r16_vis = pd.concat([euro_r16_vis, pd.DataFrame({'R16_Score': [team1goals], 'R16_Teams': [team1]})], ignore_index=True)\n",
    "    euro_r16_vis = pd.concat([euro_r16_vis, pd.DataFrame({'R16_Score': [team2goals], 'R16_Teams': [team2]})], ignore_index=True)\n",
    "\n",
    "display(euro_r16_vis)\n"
   ]
  },
  {
   "cell_type": "code",
   "execution_count": 0,
   "metadata": {
    "application/vnd.databricks.v1+cell": {
     "cellMetadata": {
      "byteLimit": 2048000,
      "rowLimit": 10000
     },
     "inputWidgets": {},
     "nuid": "7840731a-eecd-4657-b94d-dae74691a2bb",
     "showTitle": false,
     "title": ""
    }
   },
   "outputs": [
    {
     "output_type": "display_data",
     "data": {
      "text/html": [
       "<style scoped>\n",
       "  .table-result-container {\n",
       "    max-height: 300px;\n",
       "    overflow: auto;\n",
       "  }\n",
       "  table, th, td {\n",
       "    border: 1px solid black;\n",
       "    border-collapse: collapse;\n",
       "  }\n",
       "  th, td {\n",
       "    padding: 5px;\n",
       "  }\n",
       "  th {\n",
       "    text-align: left;\n",
       "  }\n",
       "</style><div class='table-result-container'><table class='table-result'><thead style='background-color: white'><tr><th>R16_Teams</th><th>R16_Score</th></tr></thead><tbody><tr><td>Spain</td><td>3</td></tr><tr><td>Czech Republic</td><td>0</td></tr><tr><td>Germany</td><td>1</td></tr><tr><td>Denmark</td><td>4</td></tr><tr><td>Greece</td><td>1</td></tr><tr><td>Croatia</td><td>0</td></tr><tr><td>Netherlands</td><td>5</td></tr><tr><td>Slovakia</td><td>0</td></tr></tbody></table></div>"
      ]
     },
     "metadata": {
      "application/vnd.databricks.v1+output": {
       "addedWidgets": {},
       "aggData": [],
       "aggError": "",
       "aggOverflow": false,
       "aggSchema": [],
       "aggSeriesLimitReached": false,
       "aggType": "",
       "arguments": {},
       "columnCustomDisplayInfos": {},
       "data": [
        [
         "Spain",
         "3"
        ],
        [
         "Czech Republic",
         "0"
        ],
        [
         "Germany",
         "1"
        ],
        [
         "Denmark",
         "4"
        ],
        [
         "Greece",
         "1"
        ],
        [
         "Croatia",
         "0"
        ],
        [
         "Netherlands",
         "5"
        ],
        [
         "Slovakia",
         "0"
        ]
       ],
       "datasetInfos": [],
       "dbfsResultPath": null,
       "isJsonSchema": true,
       "metadata": {},
       "overflow": false,
       "plotOptions": {
        "customPlotOptions": {},
        "displayType": "table",
        "pivotAggregation": null,
        "pivotColumns": null,
        "xColumns": null,
        "yColumns": null
       },
       "removedWidgets": [],
       "schema": [
        {
         "metadata": "{}",
         "name": "R16_Teams",
         "type": "\"string\""
        },
        {
         "metadata": "{}",
         "name": "R16_Score",
         "type": "\"string\""
        }
       ],
       "type": "table"
      }
     },
     "output_type": "display_data"
    },
    {
     "output_type": "display_data",
     "data": {
      "text/html": [
       "<style scoped>\n",
       "  .table-result-container {\n",
       "    max-height: 300px;\n",
       "    overflow: auto;\n",
       "  }\n",
       "  table, th, td {\n",
       "    border: 1px solid black;\n",
       "    border-collapse: collapse;\n",
       "  }\n",
       "  th, td {\n",
       "    padding: 5px;\n",
       "  }\n",
       "  th {\n",
       "    text-align: left;\n",
       "  }\n",
       "</style><div class='table-result-container'><table class='table-result'><thead style='background-color: white'><tr><th>R16_Teams</th><th>R16_Score</th></tr></thead><tbody><tr><td>Belgium</td><td>4</td></tr><tr><td>France</td><td>5</td></tr><tr><td>Poland</td><td>3</td></tr><tr><td>Turkey</td><td>0</td></tr><tr><td>Serbia</td><td>6</td></tr><tr><td>Ukraine</td><td>0</td></tr><tr><td>Hungary</td><td>5</td></tr><tr><td>Italy</td><td>0</td></tr></tbody></table></div>"
      ]
     },
     "metadata": {
      "application/vnd.databricks.v1+output": {
       "addedWidgets": {},
       "aggData": [],
       "aggError": "",
       "aggOverflow": false,
       "aggSchema": [],
       "aggSeriesLimitReached": false,
       "aggType": "",
       "arguments": {},
       "columnCustomDisplayInfos": {},
       "data": [
        [
         "Belgium",
         "4"
        ],
        [
         "France",
         "5"
        ],
        [
         "Poland",
         "3"
        ],
        [
         "Turkey",
         "0"
        ],
        [
         "Serbia",
         "6"
        ],
        [
         "Ukraine",
         "0"
        ],
        [
         "Hungary",
         "5"
        ],
        [
         "Italy",
         "0"
        ]
       ],
       "datasetInfos": [],
       "dbfsResultPath": null,
       "isJsonSchema": true,
       "metadata": {},
       "overflow": false,
       "plotOptions": {
        "customPlotOptions": {},
        "displayType": "table",
        "pivotAggregation": null,
        "pivotColumns": null,
        "xColumns": null,
        "yColumns": null
       },
       "removedWidgets": [],
       "schema": [
        {
         "metadata": "{}",
         "name": "R16_Teams",
         "type": "\"string\""
        },
        {
         "metadata": "{}",
         "name": "R16_Score",
         "type": "\"string\""
        }
       ],
       "type": "table"
      }
     },
     "output_type": "display_data"
    }
   ],
   "source": [
    "# calculating midpoint of the dataFrame\n",
    "midpoint_index1 = len(euro_r16_vis) // 2\n",
    "\n",
    "# splitting dataFrame into two equal halves\n",
    "left_r16 = euro_r16_vis.iloc[:midpoint_index1]\n",
    "right_r16 = euro_r16_vis.iloc[midpoint_index1:]\n",
    "\n",
    "# index reset\n",
    "left_r16.reset_index(drop=True, inplace=True)\n",
    "right_r16.reset_index(drop=True, inplace=True)\n",
    "\n",
    "# displaying the split DataFrames\n",
    "display(left_r16)\n",
    "display(right_r16)"
   ]
  },
  {
   "cell_type": "code",
   "execution_count": 0,
   "metadata": {
    "application/vnd.databricks.v1+cell": {
     "cellMetadata": {
      "byteLimit": 2048000,
      "rowLimit": 10000
     },
     "inputWidgets": {},
     "nuid": "b2d177f0-83c4-425e-828f-8e4a1bdc0c48",
     "showTitle": false,
     "title": ""
    }
   },
   "outputs": [],
   "source": [
    "#empty row for round of 16\n",
    "r16_row_pd = pd.DataFrame({col: [''] for col in euro_r16_vis.columns})"
   ]
  },
  {
   "cell_type": "code",
   "execution_count": 0,
   "metadata": {
    "application/vnd.databricks.v1+cell": {
     "cellMetadata": {
      "byteLimit": 2048000,
      "rowLimit": 10000
     },
     "inputWidgets": {},
     "nuid": "71624a9e-0a8c-4ed8-815d-b162d5e96d07",
     "showTitle": false,
     "title": ""
    }
   },
   "outputs": [
    {
     "output_type": "display_data",
     "data": {
      "text/html": [
       "<style scoped>\n",
       "  .table-result-container {\n",
       "    max-height: 300px;\n",
       "    overflow: auto;\n",
       "  }\n",
       "  table, th, td {\n",
       "    border: 1px solid black;\n",
       "    border-collapse: collapse;\n",
       "  }\n",
       "  th, td {\n",
       "    padding: 5px;\n",
       "  }\n",
       "  th {\n",
       "    text-align: left;\n",
       "  }\n",
       "</style><div class='table-result-container'><table class='table-result'><thead style='background-color: white'><tr><th>L_R16_Teams</th><th>L_R16_Score</th></tr></thead><tbody><tr><td></td><td></td></tr><tr><td>Spain</td><td>3</td></tr><tr><td>Czech Republic</td><td>0</td></tr><tr><td></td><td></td></tr><tr><td></td><td></td></tr><tr><td>Germany</td><td>1</td></tr><tr><td>Denmark</td><td>4</td></tr><tr><td></td><td></td></tr><tr><td></td><td></td></tr><tr><td>Greece</td><td>1</td></tr><tr><td>Croatia</td><td>0</td></tr><tr><td></td><td></td></tr><tr><td></td><td></td></tr><tr><td>Netherlands</td><td>5</td></tr><tr><td>Slovakia</td><td>0</td></tr><tr><td></td><td></td></tr></tbody></table></div>"
      ]
     },
     "metadata": {
      "application/vnd.databricks.v1+output": {
       "addedWidgets": {},
       "aggData": [],
       "aggError": "",
       "aggOverflow": false,
       "aggSchema": [],
       "aggSeriesLimitReached": false,
       "aggType": "",
       "arguments": {},
       "columnCustomDisplayInfos": {},
       "data": [
        [
         "",
         ""
        ],
        [
         "Spain",
         "3"
        ],
        [
         "Czech Republic",
         "0"
        ],
        [
         "",
         ""
        ],
        [
         "",
         ""
        ],
        [
         "Germany",
         "1"
        ],
        [
         "Denmark",
         "4"
        ],
        [
         "",
         ""
        ],
        [
         "",
         ""
        ],
        [
         "Greece",
         "1"
        ],
        [
         "Croatia",
         "0"
        ],
        [
         "",
         ""
        ],
        [
         "",
         ""
        ],
        [
         "Netherlands",
         "5"
        ],
        [
         "Slovakia",
         "0"
        ],
        [
         "",
         ""
        ]
       ],
       "datasetInfos": [],
       "dbfsResultPath": null,
       "isJsonSchema": true,
       "metadata": {},
       "overflow": false,
       "plotOptions": {
        "customPlotOptions": {},
        "displayType": "table",
        "pivotAggregation": null,
        "pivotColumns": null,
        "xColumns": null,
        "yColumns": null
       },
       "removedWidgets": [],
       "schema": [
        {
         "metadata": "{}",
         "name": "L_R16_Teams",
         "type": "\"string\""
        },
        {
         "metadata": "{}",
         "name": "L_R16_Score",
         "type": "\"string\""
        }
       ],
       "type": "table"
      }
     },
     "output_type": "display_data"
    }
   ],
   "source": [
    "\n",
    "left_r16_grouped = [left_r16.iloc[i:i+2] for i in range(0, len(left_r16), 2)]\n",
    "\n",
    "for i in range(len(left_r16_grouped)):\n",
    "    if i < len(left_r16_grouped):\n",
    "        left_r16_grouped[i] = pd.concat([r16_row_pd,left_r16_grouped[i], r16_row_pd], ignore_index=True)\n",
    "\n",
    "left_r16_spaced = pd.concat(left_r16_grouped).reset_index(drop=True)\n",
    "\n",
    "lr16_new_column_name ={'R16_Teams': 'L_R16_Teams',\n",
    "                       'R16_Score': 'L_R16_Score'\n",
    "                       }\n",
    "left_r16_spaced = left_r16_spaced.rename(columns=lr16_new_column_name)\n",
    "\n",
    "display(left_r16_spaced)"
   ]
  },
  {
   "cell_type": "code",
   "execution_count": 0,
   "metadata": {
    "application/vnd.databricks.v1+cell": {
     "cellMetadata": {
      "byteLimit": 2048000,
      "rowLimit": 10000
     },
     "inputWidgets": {},
     "nuid": "eb2a5417-2559-4ef2-a0f1-30a9123a9daa",
     "showTitle": false,
     "title": ""
    }
   },
   "outputs": [
    {
     "output_type": "display_data",
     "data": {
      "text/html": [
       "<style scoped>\n",
       "  .table-result-container {\n",
       "    max-height: 300px;\n",
       "    overflow: auto;\n",
       "  }\n",
       "  table, th, td {\n",
       "    border: 1px solid black;\n",
       "    border-collapse: collapse;\n",
       "  }\n",
       "  th, td {\n",
       "    padding: 5px;\n",
       "  }\n",
       "  th {\n",
       "    text-align: left;\n",
       "  }\n",
       "</style><div class='table-result-container'><table class='table-result'><thead style='background-color: white'><tr><th>R_R16_Score</th><th>R_R16_Teams</th></tr></thead><tbody><tr><td></td><td></td></tr><tr><td>4</td><td>Belgium</td></tr><tr><td>5</td><td>France</td></tr><tr><td></td><td></td></tr><tr><td></td><td></td></tr><tr><td>3</td><td>Poland</td></tr><tr><td>0</td><td>Turkey</td></tr><tr><td></td><td></td></tr><tr><td></td><td></td></tr><tr><td>6</td><td>Serbia</td></tr><tr><td>0</td><td>Ukraine</td></tr><tr><td></td><td></td></tr><tr><td></td><td></td></tr><tr><td>5</td><td>Hungary</td></tr><tr><td>0</td><td>Italy</td></tr><tr><td></td><td></td></tr></tbody></table></div>"
      ]
     },
     "metadata": {
      "application/vnd.databricks.v1+output": {
       "addedWidgets": {},
       "aggData": [],
       "aggError": "",
       "aggOverflow": false,
       "aggSchema": [],
       "aggSeriesLimitReached": false,
       "aggType": "",
       "arguments": {},
       "columnCustomDisplayInfos": {},
       "data": [
        [
         "",
         ""
        ],
        [
         "4",
         "Belgium"
        ],
        [
         "5",
         "France"
        ],
        [
         "",
         ""
        ],
        [
         "",
         ""
        ],
        [
         "3",
         "Poland"
        ],
        [
         "0",
         "Turkey"
        ],
        [
         "",
         ""
        ],
        [
         "",
         ""
        ],
        [
         "6",
         "Serbia"
        ],
        [
         "0",
         "Ukraine"
        ],
        [
         "",
         ""
        ],
        [
         "",
         ""
        ],
        [
         "5",
         "Hungary"
        ],
        [
         "0",
         "Italy"
        ],
        [
         "",
         ""
        ]
       ],
       "datasetInfos": [],
       "dbfsResultPath": null,
       "isJsonSchema": true,
       "metadata": {},
       "overflow": false,
       "plotOptions": {
        "customPlotOptions": {},
        "displayType": "table",
        "pivotAggregation": null,
        "pivotColumns": null,
        "xColumns": null,
        "yColumns": null
       },
       "removedWidgets": [],
       "schema": [
        {
         "metadata": "{}",
         "name": "R_R16_Score",
         "type": "\"string\""
        },
        {
         "metadata": "{}",
         "name": "R_R16_Teams",
         "type": "\"string\""
        }
       ],
       "type": "table"
      }
     },
     "output_type": "display_data"
    }
   ],
   "source": [
    "right_r16_grouped = [right_r16.iloc[i:i+2] for i in range(0, len(right_r16), 2)]\n",
    "\n",
    "for i in range(len(right_r16_grouped)):\n",
    "    if i < len(right_r16_grouped):\n",
    "        right_r16_grouped[i] = pd.concat([r16_row_pd,right_r16_grouped[i], r16_row_pd], ignore_index=True)\n",
    "\n",
    "right_r16_spaced = pd.concat(right_r16_grouped).reset_index(drop=True)\n",
    "\n",
    "rr16_new_column_name ={'R16_Teams': 'R_R16_Teams',\n",
    "                       'R16_Score': 'R_R16_Score'\n",
    "                       }\n",
    "right_r16_spaced = right_r16_spaced.rename(columns=rr16_new_column_name)\n",
    "\n",
    "rr16_new_column_order = ['R_R16_Score', 'R_R16_Teams']\n",
    "right_r16_spaced = right_r16_spaced[rr16_new_column_order]\n",
    "\n",
    "display(right_r16_spaced)"
   ]
  },
  {
   "cell_type": "code",
   "execution_count": 0,
   "metadata": {
    "application/vnd.databricks.v1+cell": {
     "cellMetadata": {
      "byteLimit": 2048000,
      "rowLimit": 10000
     },
     "inputWidgets": {},
     "nuid": "c2685989-6e85-4240-b404-46f119a3be1c",
     "showTitle": false,
     "title": ""
    }
   },
   "outputs": [
    {
     "output_type": "display_data",
     "data": {
      "text/html": [
       "<style scoped>\n",
       "  .table-result-container {\n",
       "    max-height: 300px;\n",
       "    overflow: auto;\n",
       "  }\n",
       "  table, th, td {\n",
       "    border: 1px solid black;\n",
       "    border-collapse: collapse;\n",
       "  }\n",
       "  th, td {\n",
       "    padding: 5px;\n",
       "  }\n",
       "  th {\n",
       "    text-align: left;\n",
       "  }\n",
       "</style><div class='table-result-container'><table class='table-result'><thead style='background-color: white'><tr><th>MatchID</th><th>Team1</th><th>Team1Goals</th><th>Team2Goals</th><th>Team2</th><th>MatchWinner</th><th>MatchStage</th></tr></thead><tbody><tr><td>9</td><td>Spain</td><td>1</td><td>4</td><td>Denmark</td><td>Denmark</td><td>QF</td></tr><tr><td>10</td><td>Greece</td><td>4</td><td>2</td><td>Netherlands</td><td>Greece</td><td>QF</td></tr><tr><td>11</td><td>France</td><td>3</td><td>0</td><td>Poland</td><td>France</td><td>QF</td></tr><tr><td>12</td><td>Serbia</td><td>6</td><td>4</td><td>Hungary</td><td>Serbia</td><td>QF</td></tr></tbody></table></div>"
      ]
     },
     "metadata": {
      "application/vnd.databricks.v1+output": {
       "addedWidgets": {},
       "aggData": [],
       "aggError": "",
       "aggOverflow": false,
       "aggSchema": [],
       "aggSeriesLimitReached": false,
       "aggType": "",
       "arguments": {},
       "columnCustomDisplayInfos": {},
       "data": [
        [
         "9",
         "Spain",
         "1",
         "4",
         "Denmark",
         "Denmark",
         "QF"
        ],
        [
         "10",
         "Greece",
         "4",
         "2",
         "Netherlands",
         "Greece",
         "QF"
        ],
        [
         "11",
         "France",
         "3",
         "0",
         "Poland",
         "France",
         "QF"
        ],
        [
         "12",
         "Serbia",
         "6",
         "4",
         "Hungary",
         "Serbia",
         "QF"
        ]
       ],
       "datasetInfos": [],
       "dbfsResultPath": null,
       "isJsonSchema": true,
       "metadata": {},
       "overflow": false,
       "plotOptions": {
        "customPlotOptions": {},
        "displayType": "table",
        "pivotAggregation": null,
        "pivotColumns": null,
        "xColumns": null,
        "yColumns": null
       },
       "removedWidgets": [],
       "schema": [
        {
         "metadata": "{}",
         "name": "MatchID",
         "type": "\"string\""
        },
        {
         "metadata": "{}",
         "name": "Team1",
         "type": "\"string\""
        },
        {
         "metadata": "{}",
         "name": "Team1Goals",
         "type": "\"string\""
        },
        {
         "metadata": "{}",
         "name": "Team2Goals",
         "type": "\"string\""
        },
        {
         "metadata": "{}",
         "name": "Team2",
         "type": "\"string\""
        },
        {
         "metadata": "{}",
         "name": "MatchWinner",
         "type": "\"string\""
        },
        {
         "metadata": "{}",
         "name": "MatchStage",
         "type": "\"string\""
        }
       ],
       "type": "table"
      }
     },
     "output_type": "display_data"
    }
   ],
   "source": [
    "qf = spark.sql(\"SELECT * FROM QualificationPlacement WHERE MatchStage = 'QF'\")\n",
    "qf_pd = qf.toPandas()\n",
    "qf_pd = qf_pd.applymap(lambda x: str(x).split(\".\")[0])\n",
    "\n",
    "display(qf_pd)"
   ]
  },
  {
   "cell_type": "code",
   "execution_count": 0,
   "metadata": {
    "application/vnd.databricks.v1+cell": {
     "cellMetadata": {
      "byteLimit": 2048000,
      "rowLimit": 10000
     },
     "inputWidgets": {},
     "nuid": "5edfcbe6-3e11-433e-b353-58d18d4a7a9d",
     "showTitle": false,
     "title": ""
    }
   },
   "outputs": [
    {
     "output_type": "display_data",
     "data": {
      "text/html": [
       "<style scoped>\n",
       "  .table-result-container {\n",
       "    max-height: 300px;\n",
       "    overflow: auto;\n",
       "  }\n",
       "  table, th, td {\n",
       "    border: 1px solid black;\n",
       "    border-collapse: collapse;\n",
       "  }\n",
       "  th, td {\n",
       "    padding: 5px;\n",
       "  }\n",
       "  th {\n",
       "    text-align: left;\n",
       "  }\n",
       "</style><div class='table-result-container'><table class='table-result'><thead style='background-color: white'><tr><th>QF_Teams</th><th>QF_Score</th></tr></thead><tbody><tr><td>Spain</td><td>1</td></tr><tr><td>Denmark</td><td>4</td></tr><tr><td>Greece</td><td>4</td></tr><tr><td>Netherlands</td><td>2</td></tr><tr><td>France</td><td>3</td></tr><tr><td>Poland</td><td>0</td></tr><tr><td>Serbia</td><td>6</td></tr><tr><td>Hungary</td><td>4</td></tr></tbody></table></div>"
      ]
     },
     "metadata": {
      "application/vnd.databricks.v1+output": {
       "addedWidgets": {},
       "aggData": [],
       "aggError": "",
       "aggOverflow": false,
       "aggSchema": [],
       "aggSeriesLimitReached": false,
       "aggType": "",
       "arguments": {},
       "columnCustomDisplayInfos": {},
       "data": [
        [
         "Spain",
         "1"
        ],
        [
         "Denmark",
         "4"
        ],
        [
         "Greece",
         "4"
        ],
        [
         "Netherlands",
         "2"
        ],
        [
         "France",
         "3"
        ],
        [
         "Poland",
         "0"
        ],
        [
         "Serbia",
         "6"
        ],
        [
         "Hungary",
         "4"
        ]
       ],
       "datasetInfos": [],
       "dbfsResultPath": null,
       "isJsonSchema": true,
       "metadata": {},
       "overflow": false,
       "plotOptions": {
        "customPlotOptions": {},
        "displayType": "table",
        "pivotAggregation": null,
        "pivotColumns": null,
        "xColumns": null,
        "yColumns": null
       },
       "removedWidgets": [],
       "schema": [
        {
         "metadata": "{}",
         "name": "QF_Teams",
         "type": "\"string\""
        },
        {
         "metadata": "{}",
         "name": "QF_Score",
         "type": "\"string\""
        }
       ],
       "type": "table"
      }
     },
     "output_type": "display_data"
    }
   ],
   "source": [
    "#storing required data in df\n",
    "qf_vis = pd.DataFrame(columns=['QF_Teams', 'QF_Score'])\n",
    "\n",
    "#displaying all teams and respective scores in columns\n",
    "for index, row in qf_pd.iterrows():\n",
    "    team1 = row['Team1']\n",
    "    team1goals = row['Team1Goals']\n",
    "    team2 = row['Team2']\n",
    "    team2goals = row['Team2Goals']\n",
    "    qf_vis = pd.concat([qf_vis, pd.DataFrame({'QF_Teams': [team1], 'QF_Score': [team1goals]})], ignore_index=True)\n",
    "    qf_vis = pd.concat([qf_vis, pd.DataFrame({'QF_Teams': [team2], 'QF_Score': [team2goals]})], ignore_index=True)\n",
    "\n",
    "display(qf_vis)"
   ]
  },
  {
   "cell_type": "code",
   "execution_count": 0,
   "metadata": {
    "application/vnd.databricks.v1+cell": {
     "cellMetadata": {
      "byteLimit": 2048000,
      "rowLimit": 10000
     },
     "inputWidgets": {},
     "nuid": "d14e3078-c613-47e0-9c1e-994cfbc51581",
     "showTitle": false,
     "title": ""
    }
   },
   "outputs": [
    {
     "output_type": "display_data",
     "data": {
      "text/html": [
       "<style scoped>\n",
       "  .table-result-container {\n",
       "    max-height: 300px;\n",
       "    overflow: auto;\n",
       "  }\n",
       "  table, th, td {\n",
       "    border: 1px solid black;\n",
       "    border-collapse: collapse;\n",
       "  }\n",
       "  th, td {\n",
       "    padding: 5px;\n",
       "  }\n",
       "  th {\n",
       "    text-align: left;\n",
       "  }\n",
       "</style><div class='table-result-container'><table class='table-result'><thead style='background-color: white'><tr><th>QF_Teams</th><th>QF_Score</th></tr></thead><tbody><tr><td>Spain</td><td>1</td></tr><tr><td>Denmark</td><td>4</td></tr><tr><td>Greece</td><td>4</td></tr><tr><td>Netherlands</td><td>2</td></tr></tbody></table></div>"
      ]
     },
     "metadata": {
      "application/vnd.databricks.v1+output": {
       "addedWidgets": {},
       "aggData": [],
       "aggError": "",
       "aggOverflow": false,
       "aggSchema": [],
       "aggSeriesLimitReached": false,
       "aggType": "",
       "arguments": {},
       "columnCustomDisplayInfos": {},
       "data": [
        [
         "Spain",
         "1"
        ],
        [
         "Denmark",
         "4"
        ],
        [
         "Greece",
         "4"
        ],
        [
         "Netherlands",
         "2"
        ]
       ],
       "datasetInfos": [],
       "dbfsResultPath": null,
       "isJsonSchema": true,
       "metadata": {},
       "overflow": false,
       "plotOptions": {
        "customPlotOptions": {},
        "displayType": "table",
        "pivotAggregation": null,
        "pivotColumns": null,
        "xColumns": null,
        "yColumns": null
       },
       "removedWidgets": [],
       "schema": [
        {
         "metadata": "{}",
         "name": "QF_Teams",
         "type": "\"string\""
        },
        {
         "metadata": "{}",
         "name": "QF_Score",
         "type": "\"string\""
        }
       ],
       "type": "table"
      }
     },
     "output_type": "display_data"
    },
    {
     "output_type": "display_data",
     "data": {
      "text/html": [
       "<style scoped>\n",
       "  .table-result-container {\n",
       "    max-height: 300px;\n",
       "    overflow: auto;\n",
       "  }\n",
       "  table, th, td {\n",
       "    border: 1px solid black;\n",
       "    border-collapse: collapse;\n",
       "  }\n",
       "  th, td {\n",
       "    padding: 5px;\n",
       "  }\n",
       "  th {\n",
       "    text-align: left;\n",
       "  }\n",
       "</style><div class='table-result-container'><table class='table-result'><thead style='background-color: white'><tr><th>QF_Teams</th><th>QF_Score</th></tr></thead><tbody><tr><td>France</td><td>3</td></tr><tr><td>Poland</td><td>0</td></tr><tr><td>Serbia</td><td>6</td></tr><tr><td>Hungary</td><td>4</td></tr></tbody></table></div>"
      ]
     },
     "metadata": {
      "application/vnd.databricks.v1+output": {
       "addedWidgets": {},
       "aggData": [],
       "aggError": "",
       "aggOverflow": false,
       "aggSchema": [],
       "aggSeriesLimitReached": false,
       "aggType": "",
       "arguments": {},
       "columnCustomDisplayInfos": {},
       "data": [
        [
         "France",
         "3"
        ],
        [
         "Poland",
         "0"
        ],
        [
         "Serbia",
         "6"
        ],
        [
         "Hungary",
         "4"
        ]
       ],
       "datasetInfos": [],
       "dbfsResultPath": null,
       "isJsonSchema": true,
       "metadata": {},
       "overflow": false,
       "plotOptions": {
        "customPlotOptions": {},
        "displayType": "table",
        "pivotAggregation": null,
        "pivotColumns": null,
        "xColumns": null,
        "yColumns": null
       },
       "removedWidgets": [],
       "schema": [
        {
         "metadata": "{}",
         "name": "QF_Teams",
         "type": "\"string\""
        },
        {
         "metadata": "{}",
         "name": "QF_Score",
         "type": "\"string\""
        }
       ],
       "type": "table"
      }
     },
     "output_type": "display_data"
    }
   ],
   "source": [
    "# calculating midpoint of the dataFrame\n",
    "midpoint_index2 = len(qf_vis) // 2\n",
    "\n",
    "# splitting dataFrame into two equal halves\n",
    "left_qf = qf_vis.iloc[:midpoint_index2]\n",
    "right_qf = qf_vis.iloc[midpoint_index2:]\n",
    "\n",
    "# index reset\n",
    "left_qf.reset_index(drop=True, inplace=True)\n",
    "right_qf.reset_index(drop=True, inplace=True)\n",
    "\n",
    "# displaying the split DataFrames\n",
    "display(left_qf)\n",
    "display(right_qf)"
   ]
  },
  {
   "cell_type": "code",
   "execution_count": 0,
   "metadata": {
    "application/vnd.databricks.v1+cell": {
     "cellMetadata": {
      "byteLimit": 2048000,
      "rowLimit": 10000
     },
     "inputWidgets": {},
     "nuid": "28886f67-e971-4b67-a250-be879e2ce5db",
     "showTitle": false,
     "title": ""
    }
   },
   "outputs": [],
   "source": [
    "qf_row_pd = pd.DataFrame({col: [''] for col in qf_vis.columns})"
   ]
  },
  {
   "cell_type": "code",
   "execution_count": 0,
   "metadata": {
    "application/vnd.databricks.v1+cell": {
     "cellMetadata": {
      "byteLimit": 2048000,
      "rowLimit": 10000
     },
     "inputWidgets": {},
     "nuid": "a3d0b68b-2ccf-4e53-9c1b-d1d2f4904144",
     "showTitle": false,
     "title": ""
    }
   },
   "outputs": [
    {
     "output_type": "display_data",
     "data": {
      "text/html": [
       "<style scoped>\n",
       "  .table-result-container {\n",
       "    max-height: 300px;\n",
       "    overflow: auto;\n",
       "  }\n",
       "  table, th, td {\n",
       "    border: 1px solid black;\n",
       "    border-collapse: collapse;\n",
       "  }\n",
       "  th, td {\n",
       "    padding: 5px;\n",
       "  }\n",
       "  th {\n",
       "    text-align: left;\n",
       "  }\n",
       "</style><div class='table-result-container'><table class='table-result'><thead style='background-color: white'><tr><th>L_QF_Teams</th><th>L_QF_Score</th></tr></thead><tbody><tr><td></td><td></td></tr><tr><td></td><td></td></tr><tr><td></td><td></td></tr><tr><td></td><td></td></tr><tr><td>Spain</td><td>1</td></tr><tr><td>Denmark</td><td>4</td></tr><tr><td></td><td></td></tr><tr><td></td><td></td></tr><tr><td></td><td></td></tr><tr><td></td><td></td></tr><tr><td>Greece</td><td>4</td></tr><tr><td>Netherlands</td><td>2</td></tr><tr><td></td><td></td></tr><tr><td></td><td></td></tr><tr><td></td><td></td></tr><tr><td></td><td></td></tr></tbody></table></div>"
      ]
     },
     "metadata": {
      "application/vnd.databricks.v1+output": {
       "addedWidgets": {},
       "aggData": [],
       "aggError": "",
       "aggOverflow": false,
       "aggSchema": [],
       "aggSeriesLimitReached": false,
       "aggType": "",
       "arguments": {},
       "columnCustomDisplayInfos": {},
       "data": [
        [
         "",
         ""
        ],
        [
         "",
         ""
        ],
        [
         "",
         ""
        ],
        [
         "",
         ""
        ],
        [
         "Spain",
         "1"
        ],
        [
         "Denmark",
         "4"
        ],
        [
         "",
         ""
        ],
        [
         "",
         ""
        ],
        [
         "",
         ""
        ],
        [
         "",
         ""
        ],
        [
         "Greece",
         "4"
        ],
        [
         "Netherlands",
         "2"
        ],
        [
         "",
         ""
        ],
        [
         "",
         ""
        ],
        [
         "",
         ""
        ],
        [
         "",
         ""
        ]
       ],
       "datasetInfos": [],
       "dbfsResultPath": null,
       "isJsonSchema": true,
       "metadata": {},
       "overflow": false,
       "plotOptions": {
        "customPlotOptions": {},
        "displayType": "table",
        "pivotAggregation": null,
        "pivotColumns": null,
        "xColumns": null,
        "yColumns": null
       },
       "removedWidgets": [],
       "schema": [
        {
         "metadata": "{}",
         "name": "L_QF_Teams",
         "type": "\"string\""
        },
        {
         "metadata": "{}",
         "name": "L_QF_Score",
         "type": "\"string\""
        }
       ],
       "type": "table"
      }
     },
     "output_type": "display_data"
    }
   ],
   "source": [
    "left_qf_grouped = [left_qf.iloc[i:i+2] for i in range(0, len(left_qf), 2)]\n",
    "\n",
    "for i in range(len(left_qf_grouped)):\n",
    "    if i < len(left_qf_grouped):\n",
    "        left_qf_grouped[i] = pd.concat([qf_row_pd, qf_row_pd, qf_row_pd,qf_row_pd, left_qf_grouped[i]], ignore_index=True)\n",
    "\n",
    "left_qf_spaced = pd.concat(left_qf_grouped).reset_index(drop=True)\n",
    "\n",
    "for _ in range(4):\n",
    "    left_qf_spaced = pd.concat([left_qf_spaced, qf_row_pd], ignore_index=True)\n",
    "\n",
    "lqf_new_column_name ={'QF_Teams': 'L_QF_Teams',\n",
    "                       'QF_Score': 'L_QF_Score'\n",
    "                       }\n",
    "left_qf_spaced = left_qf_spaced.rename(columns=lqf_new_column_name)\n",
    "\n",
    "display(left_qf_spaced)"
   ]
  },
  {
   "cell_type": "code",
   "execution_count": 0,
   "metadata": {
    "application/vnd.databricks.v1+cell": {
     "cellMetadata": {
      "byteLimit": 2048000,
      "rowLimit": 10000
     },
     "inputWidgets": {},
     "nuid": "bd59e7cf-34f0-455a-8d90-6945ee25e566",
     "showTitle": false,
     "title": ""
    }
   },
   "outputs": [
    {
     "output_type": "display_data",
     "data": {
      "text/html": [
       "<style scoped>\n",
       "  .table-result-container {\n",
       "    max-height: 300px;\n",
       "    overflow: auto;\n",
       "  }\n",
       "  table, th, td {\n",
       "    border: 1px solid black;\n",
       "    border-collapse: collapse;\n",
       "  }\n",
       "  th, td {\n",
       "    padding: 5px;\n",
       "  }\n",
       "  th {\n",
       "    text-align: left;\n",
       "  }\n",
       "</style><div class='table-result-container'><table class='table-result'><thead style='background-color: white'><tr><th>R_QF_Score</th><th>R_QF_Teams</th></tr></thead><tbody><tr><td></td><td></td></tr><tr><td></td><td></td></tr><tr><td></td><td></td></tr><tr><td></td><td></td></tr><tr><td>3</td><td>France</td></tr><tr><td>0</td><td>Poland</td></tr><tr><td></td><td></td></tr><tr><td></td><td></td></tr><tr><td></td><td></td></tr><tr><td></td><td></td></tr><tr><td>6</td><td>Serbia</td></tr><tr><td>4</td><td>Hungary</td></tr><tr><td></td><td></td></tr><tr><td></td><td></td></tr><tr><td></td><td></td></tr><tr><td></td><td></td></tr></tbody></table></div>"
      ]
     },
     "metadata": {
      "application/vnd.databricks.v1+output": {
       "addedWidgets": {},
       "aggData": [],
       "aggError": "",
       "aggOverflow": false,
       "aggSchema": [],
       "aggSeriesLimitReached": false,
       "aggType": "",
       "arguments": {},
       "columnCustomDisplayInfos": {},
       "data": [
        [
         "",
         ""
        ],
        [
         "",
         ""
        ],
        [
         "",
         ""
        ],
        [
         "",
         ""
        ],
        [
         "3",
         "France"
        ],
        [
         "0",
         "Poland"
        ],
        [
         "",
         ""
        ],
        [
         "",
         ""
        ],
        [
         "",
         ""
        ],
        [
         "",
         ""
        ],
        [
         "6",
         "Serbia"
        ],
        [
         "4",
         "Hungary"
        ],
        [
         "",
         ""
        ],
        [
         "",
         ""
        ],
        [
         "",
         ""
        ],
        [
         "",
         ""
        ]
       ],
       "datasetInfos": [],
       "dbfsResultPath": null,
       "isJsonSchema": true,
       "metadata": {},
       "overflow": false,
       "plotOptions": {
        "customPlotOptions": {},
        "displayType": "table",
        "pivotAggregation": null,
        "pivotColumns": null,
        "xColumns": null,
        "yColumns": null
       },
       "removedWidgets": [],
       "schema": [
        {
         "metadata": "{}",
         "name": "R_QF_Score",
         "type": "\"string\""
        },
        {
         "metadata": "{}",
         "name": "R_QF_Teams",
         "type": "\"string\""
        }
       ],
       "type": "table"
      }
     },
     "output_type": "display_data"
    }
   ],
   "source": [
    "right_qf_grouped = [right_qf.iloc[i:i+2] for i in range(0, len(left_qf), 2)]\n",
    "\n",
    "for i in range(len(right_qf_grouped)):\n",
    "    if i < len(right_qf_grouped):\n",
    "        right_qf_grouped[i] = pd.concat([qf_row_pd, qf_row_pd, qf_row_pd,qf_row_pd, right_qf_grouped[i]], ignore_index=True)\n",
    "\n",
    "right_qf_spaced = pd.concat(right_qf_grouped).reset_index(drop=True)\n",
    "\n",
    "for _ in range(4):\n",
    "    right_qf_spaced = pd.concat([right_qf_spaced, qf_row_pd], ignore_index=True)\n",
    "\n",
    "rqf_new_column_name ={'QF_Teams': 'R_QF_Teams',\n",
    "                       'QF_Score': 'R_QF_Score'\n",
    "                       }\n",
    "right_qf_spaced = right_qf_spaced.rename(columns=rqf_new_column_name)\n",
    "\n",
    "rqf_new_column_order = ['R_QF_Score', 'R_QF_Teams']\n",
    "right_qf_spaced = right_qf_spaced[rqf_new_column_order]\n",
    "\n",
    "display(right_qf_spaced)"
   ]
  },
  {
   "cell_type": "code",
   "execution_count": 0,
   "metadata": {
    "application/vnd.databricks.v1+cell": {
     "cellMetadata": {
      "byteLimit": 2048000,
      "rowLimit": 10000
     },
     "inputWidgets": {},
     "nuid": "f4f0abdf-da1c-4058-8f3f-f07c1e8e3d92",
     "showTitle": false,
     "title": ""
    }
   },
   "outputs": [
    {
     "output_type": "display_data",
     "data": {
      "text/html": [
       "<style scoped>\n",
       "  .table-result-container {\n",
       "    max-height: 300px;\n",
       "    overflow: auto;\n",
       "  }\n",
       "  table, th, td {\n",
       "    border: 1px solid black;\n",
       "    border-collapse: collapse;\n",
       "  }\n",
       "  th, td {\n",
       "    padding: 5px;\n",
       "  }\n",
       "  th {\n",
       "    text-align: left;\n",
       "  }\n",
       "</style><div class='table-result-container'><table class='table-result'><thead style='background-color: white'><tr><th>MatchID</th><th>Team1</th><th>Team1Goals</th><th>Team2Goals</th><th>Team2</th><th>MatchWinner</th><th>MatchStage</th></tr></thead><tbody><tr><td>13</td><td>Denmark</td><td>1</td><td>4</td><td>Greece</td><td>Greece</td><td>SF</td></tr><tr><td>14</td><td>France</td><td>1</td><td>5</td><td>Serbia</td><td>Serbia</td><td>SF</td></tr></tbody></table></div>"
      ]
     },
     "metadata": {
      "application/vnd.databricks.v1+output": {
       "addedWidgets": {},
       "aggData": [],
       "aggError": "",
       "aggOverflow": false,
       "aggSchema": [],
       "aggSeriesLimitReached": false,
       "aggType": "",
       "arguments": {},
       "columnCustomDisplayInfos": {},
       "data": [
        [
         "13",
         "Denmark",
         "1",
         "4",
         "Greece",
         "Greece",
         "SF"
        ],
        [
         "14",
         "France",
         "1",
         "5",
         "Serbia",
         "Serbia",
         "SF"
        ]
       ],
       "datasetInfos": [],
       "dbfsResultPath": null,
       "isJsonSchema": true,
       "metadata": {},
       "overflow": false,
       "plotOptions": {
        "customPlotOptions": {},
        "displayType": "table",
        "pivotAggregation": null,
        "pivotColumns": null,
        "xColumns": null,
        "yColumns": null
       },
       "removedWidgets": [],
       "schema": [
        {
         "metadata": "{}",
         "name": "MatchID",
         "type": "\"string\""
        },
        {
         "metadata": "{}",
         "name": "Team1",
         "type": "\"string\""
        },
        {
         "metadata": "{}",
         "name": "Team1Goals",
         "type": "\"string\""
        },
        {
         "metadata": "{}",
         "name": "Team2Goals",
         "type": "\"string\""
        },
        {
         "metadata": "{}",
         "name": "Team2",
         "type": "\"string\""
        },
        {
         "metadata": "{}",
         "name": "MatchWinner",
         "type": "\"string\""
        },
        {
         "metadata": "{}",
         "name": "MatchStage",
         "type": "\"string\""
        }
       ],
       "type": "table"
      }
     },
     "output_type": "display_data"
    }
   ],
   "source": [
    "sf = spark.sql(\"SELECT * FROM QualificationPlacement WHERE MatchStage = 'SF'\")\n",
    "sf_pd = sf.toPandas()\n",
    "sf_pd = sf_pd.applymap(lambda x: str(x).split(\".\")[0])\n",
    "\n",
    "display(sf_pd)"
   ]
  },
  {
   "cell_type": "code",
   "execution_count": 0,
   "metadata": {
    "application/vnd.databricks.v1+cell": {
     "cellMetadata": {
      "byteLimit": 2048000,
      "rowLimit": 10000
     },
     "inputWidgets": {},
     "nuid": "9589f6d9-83aa-49fd-bcdf-02fc02eaf19a",
     "showTitle": false,
     "title": ""
    }
   },
   "outputs": [
    {
     "output_type": "display_data",
     "data": {
      "text/html": [
       "<style scoped>\n",
       "  .table-result-container {\n",
       "    max-height: 300px;\n",
       "    overflow: auto;\n",
       "  }\n",
       "  table, th, td {\n",
       "    border: 1px solid black;\n",
       "    border-collapse: collapse;\n",
       "  }\n",
       "  th, td {\n",
       "    padding: 5px;\n",
       "  }\n",
       "  th {\n",
       "    text-align: left;\n",
       "  }\n",
       "</style><div class='table-result-container'><table class='table-result'><thead style='background-color: white'><tr><th>SF_Teams</th><th>SF_Score</th></tr></thead><tbody><tr><td>Denmark</td><td>1</td></tr><tr><td>Greece</td><td>4</td></tr><tr><td>France</td><td>1</td></tr><tr><td>Serbia</td><td>5</td></tr></tbody></table></div>"
      ]
     },
     "metadata": {
      "application/vnd.databricks.v1+output": {
       "addedWidgets": {},
       "aggData": [],
       "aggError": "",
       "aggOverflow": false,
       "aggSchema": [],
       "aggSeriesLimitReached": false,
       "aggType": "",
       "arguments": {},
       "columnCustomDisplayInfos": {},
       "data": [
        [
         "Denmark",
         "1"
        ],
        [
         "Greece",
         "4"
        ],
        [
         "France",
         "1"
        ],
        [
         "Serbia",
         "5"
        ]
       ],
       "datasetInfos": [],
       "dbfsResultPath": null,
       "isJsonSchema": true,
       "metadata": {},
       "overflow": false,
       "plotOptions": {
        "customPlotOptions": {},
        "displayType": "table",
        "pivotAggregation": null,
        "pivotColumns": null,
        "xColumns": null,
        "yColumns": null
       },
       "removedWidgets": [],
       "schema": [
        {
         "metadata": "{}",
         "name": "SF_Teams",
         "type": "\"string\""
        },
        {
         "metadata": "{}",
         "name": "SF_Score",
         "type": "\"string\""
        }
       ],
       "type": "table"
      }
     },
     "output_type": "display_data"
    }
   ],
   "source": [
    "#storing required data in df\n",
    "sf_vis = pd.DataFrame(columns=['SF_Teams', 'SF_Score'])\n",
    "\n",
    "#displaying all teams and respective scores in columns\n",
    "for index, row in sf_pd.iterrows():\n",
    "    team1 = row['Team1']\n",
    "    team1goals = row['Team1Goals']\n",
    "    team2 = row['Team2']\n",
    "    team2goals = row['Team2Goals']\n",
    "    sf_vis = pd.concat([sf_vis, pd.DataFrame({'SF_Teams': [team1], 'SF_Score': [team1goals]})], ignore_index=True)\n",
    "    sf_vis = pd.concat([sf_vis, pd.DataFrame({'SF_Teams': [team2], 'SF_Score': [team2goals]})], ignore_index=True)\n",
    "\n",
    "display(sf_vis)"
   ]
  },
  {
   "cell_type": "code",
   "execution_count": 0,
   "metadata": {
    "application/vnd.databricks.v1+cell": {
     "cellMetadata": {
      "byteLimit": 2048000,
      "rowLimit": 10000
     },
     "inputWidgets": {},
     "nuid": "0e7537e4-0c73-49c9-8d80-73885c91201a",
     "showTitle": false,
     "title": ""
    }
   },
   "outputs": [
    {
     "output_type": "display_data",
     "data": {
      "text/html": [
       "<style scoped>\n",
       "  .table-result-container {\n",
       "    max-height: 300px;\n",
       "    overflow: auto;\n",
       "  }\n",
       "  table, th, td {\n",
       "    border: 1px solid black;\n",
       "    border-collapse: collapse;\n",
       "  }\n",
       "  th, td {\n",
       "    padding: 5px;\n",
       "  }\n",
       "  th {\n",
       "    text-align: left;\n",
       "  }\n",
       "</style><div class='table-result-container'><table class='table-result'><thead style='background-color: white'><tr><th>SF_Teams</th><th>SF_Score</th></tr></thead><tbody><tr><td>Denmark</td><td>1</td></tr><tr><td>Greece</td><td>4</td></tr></tbody></table></div>"
      ]
     },
     "metadata": {
      "application/vnd.databricks.v1+output": {
       "addedWidgets": {},
       "aggData": [],
       "aggError": "",
       "aggOverflow": false,
       "aggSchema": [],
       "aggSeriesLimitReached": false,
       "aggType": "",
       "arguments": {},
       "columnCustomDisplayInfos": {},
       "data": [
        [
         "Denmark",
         "1"
        ],
        [
         "Greece",
         "4"
        ]
       ],
       "datasetInfos": [],
       "dbfsResultPath": null,
       "isJsonSchema": true,
       "metadata": {},
       "overflow": false,
       "plotOptions": {
        "customPlotOptions": {},
        "displayType": "table",
        "pivotAggregation": null,
        "pivotColumns": null,
        "xColumns": null,
        "yColumns": null
       },
       "removedWidgets": [],
       "schema": [
        {
         "metadata": "{}",
         "name": "SF_Teams",
         "type": "\"string\""
        },
        {
         "metadata": "{}",
         "name": "SF_Score",
         "type": "\"string\""
        }
       ],
       "type": "table"
      }
     },
     "output_type": "display_data"
    },
    {
     "output_type": "display_data",
     "data": {
      "text/html": [
       "<style scoped>\n",
       "  .table-result-container {\n",
       "    max-height: 300px;\n",
       "    overflow: auto;\n",
       "  }\n",
       "  table, th, td {\n",
       "    border: 1px solid black;\n",
       "    border-collapse: collapse;\n",
       "  }\n",
       "  th, td {\n",
       "    padding: 5px;\n",
       "  }\n",
       "  th {\n",
       "    text-align: left;\n",
       "  }\n",
       "</style><div class='table-result-container'><table class='table-result'><thead style='background-color: white'><tr><th>SF_Teams</th><th>SF_Score</th></tr></thead><tbody><tr><td>France</td><td>1</td></tr><tr><td>Serbia</td><td>5</td></tr></tbody></table></div>"
      ]
     },
     "metadata": {
      "application/vnd.databricks.v1+output": {
       "addedWidgets": {},
       "aggData": [],
       "aggError": "",
       "aggOverflow": false,
       "aggSchema": [],
       "aggSeriesLimitReached": false,
       "aggType": "",
       "arguments": {},
       "columnCustomDisplayInfos": {},
       "data": [
        [
         "France",
         "1"
        ],
        [
         "Serbia",
         "5"
        ]
       ],
       "datasetInfos": [],
       "dbfsResultPath": null,
       "isJsonSchema": true,
       "metadata": {},
       "overflow": false,
       "plotOptions": {
        "customPlotOptions": {},
        "displayType": "table",
        "pivotAggregation": null,
        "pivotColumns": null,
        "xColumns": null,
        "yColumns": null
       },
       "removedWidgets": [],
       "schema": [
        {
         "metadata": "{}",
         "name": "SF_Teams",
         "type": "\"string\""
        },
        {
         "metadata": "{}",
         "name": "SF_Score",
         "type": "\"string\""
        }
       ],
       "type": "table"
      }
     },
     "output_type": "display_data"
    }
   ],
   "source": [
    "# calculating midpoint of the dataFrame\n",
    "midpoint_index2 = len(sf_vis) // 2\n",
    "\n",
    "# splitting dataFrame into two equal halves\n",
    "left_sf = sf_vis.iloc[:midpoint_index2]\n",
    "right_sf = sf_vis.iloc[midpoint_index2:]\n",
    "\n",
    "# index reset\n",
    "left_sf.reset_index(drop=True, inplace=True)\n",
    "right_sf.reset_index(drop=True, inplace=True)\n",
    "\n",
    "# displaying the split DataFrames\n",
    "display(left_sf)\n",
    "display(right_sf)"
   ]
  },
  {
   "cell_type": "code",
   "execution_count": 0,
   "metadata": {
    "application/vnd.databricks.v1+cell": {
     "cellMetadata": {
      "byteLimit": 2048000,
      "rowLimit": 10000
     },
     "inputWidgets": {},
     "nuid": "8d927735-2bd9-4cea-854d-ac0b2f27771c",
     "showTitle": false,
     "title": ""
    }
   },
   "outputs": [],
   "source": [
    "sf_row_pd = pd.DataFrame({col: [''] for col in sf_vis.columns})"
   ]
  },
  {
   "cell_type": "code",
   "execution_count": 0,
   "metadata": {
    "application/vnd.databricks.v1+cell": {
     "cellMetadata": {
      "byteLimit": 2048000,
      "rowLimit": 10000
     },
     "inputWidgets": {},
     "nuid": "b5c90260-842b-46eb-aa42-937982f209f6",
     "showTitle": false,
     "title": ""
    }
   },
   "outputs": [
    {
     "output_type": "display_data",
     "data": {
      "text/html": [
       "<style scoped>\n",
       "  .table-result-container {\n",
       "    max-height: 300px;\n",
       "    overflow: auto;\n",
       "  }\n",
       "  table, th, td {\n",
       "    border: 1px solid black;\n",
       "    border-collapse: collapse;\n",
       "  }\n",
       "  th, td {\n",
       "    padding: 5px;\n",
       "  }\n",
       "  th {\n",
       "    text-align: left;\n",
       "  }\n",
       "</style><div class='table-result-container'><table class='table-result'><thead style='background-color: white'><tr><th>L_SF_Teams</th><th>L_SF_Score</th></tr></thead><tbody><tr><td></td><td></td></tr><tr><td></td><td></td></tr><tr><td></td><td></td></tr><tr><td></td><td></td></tr><tr><td></td><td></td></tr><tr><td></td><td></td></tr><tr><td>Denmark</td><td>1</td></tr><tr><td></td><td></td></tr><tr><td></td><td></td></tr><tr><td>Greece</td><td>4</td></tr><tr><td></td><td></td></tr><tr><td></td><td></td></tr><tr><td></td><td></td></tr><tr><td></td><td></td></tr><tr><td></td><td></td></tr><tr><td></td><td></td></tr></tbody></table></div>"
      ]
     },
     "metadata": {
      "application/vnd.databricks.v1+output": {
       "addedWidgets": {},
       "aggData": [],
       "aggError": "",
       "aggOverflow": false,
       "aggSchema": [],
       "aggSeriesLimitReached": false,
       "aggType": "",
       "arguments": {},
       "columnCustomDisplayInfos": {},
       "data": [
        [
         "",
         ""
        ],
        [
         "",
         ""
        ],
        [
         "",
         ""
        ],
        [
         "",
         ""
        ],
        [
         "",
         ""
        ],
        [
         "",
         ""
        ],
        [
         "Denmark",
         "1"
        ],
        [
         "",
         ""
        ],
        [
         "",
         ""
        ],
        [
         "Greece",
         "4"
        ],
        [
         "",
         ""
        ],
        [
         "",
         ""
        ],
        [
         "",
         ""
        ],
        [
         "",
         ""
        ],
        [
         "",
         ""
        ],
        [
         "",
         ""
        ]
       ],
       "datasetInfos": [],
       "dbfsResultPath": null,
       "isJsonSchema": true,
       "metadata": {},
       "overflow": false,
       "plotOptions": {
        "customPlotOptions": {},
        "displayType": "table",
        "pivotAggregation": null,
        "pivotColumns": null,
        "xColumns": null,
        "yColumns": null
       },
       "removedWidgets": [],
       "schema": [
        {
         "metadata": "{}",
         "name": "L_SF_Teams",
         "type": "\"string\""
        },
        {
         "metadata": "{}",
         "name": "L_SF_Score",
         "type": "\"string\""
        }
       ],
       "type": "table"
      }
     },
     "output_type": "display_data"
    }
   ],
   "source": [
    "left_sf_grouped = [left_sf.iloc[i:i+1] for i in range(0, len(left_sf), 1)]\n",
    "\n",
    "for i in range(len(left_sf_grouped)):\n",
    "    if i < len(left_sf_grouped):\n",
    "        left_sf_grouped[i] = pd.concat([left_sf_grouped[i], sf_row_pd, sf_row_pd], ignore_index=True)\n",
    "\n",
    "left_sf_spaced = pd.concat(left_sf_grouped).reset_index(drop=True)\n",
    "\n",
    "for _ in range(6):\n",
    "    left_sf_spaced = pd.concat([sf_row_pd, left_sf_spaced], ignore_index=True)\n",
    "\n",
    "for _ in range(4):\n",
    "    left_sf_spaced = pd.concat([left_sf_spaced, sf_row_pd], ignore_index=True)\n",
    "\n",
    "lsf_new_column_name ={'SF_Teams': 'L_SF_Teams',\n",
    "                       'SF_Score': 'L_SF_Score'\n",
    "                       }\n",
    "\n",
    "left_sf_spaced = left_sf_spaced.rename(columns=lsf_new_column_name)\n",
    "\n",
    "display(left_sf_spaced)"
   ]
  },
  {
   "cell_type": "code",
   "execution_count": 0,
   "metadata": {
    "application/vnd.databricks.v1+cell": {
     "cellMetadata": {
      "byteLimit": 2048000,
      "rowLimit": 10000
     },
     "inputWidgets": {},
     "nuid": "b007bf61-3b9e-4fc6-b341-d3ff09004974",
     "showTitle": false,
     "title": ""
    }
   },
   "outputs": [
    {
     "output_type": "display_data",
     "data": {
      "text/html": [
       "<style scoped>\n",
       "  .table-result-container {\n",
       "    max-height: 300px;\n",
       "    overflow: auto;\n",
       "  }\n",
       "  table, th, td {\n",
       "    border: 1px solid black;\n",
       "    border-collapse: collapse;\n",
       "  }\n",
       "  th, td {\n",
       "    padding: 5px;\n",
       "  }\n",
       "  th {\n",
       "    text-align: left;\n",
       "  }\n",
       "</style><div class='table-result-container'><table class='table-result'><thead style='background-color: white'><tr><th>R_SF_Score</th><th>R_SF_Teams</th></tr></thead><tbody><tr><td></td><td></td></tr><tr><td></td><td></td></tr><tr><td></td><td></td></tr><tr><td></td><td></td></tr><tr><td></td><td></td></tr><tr><td></td><td></td></tr><tr><td>1</td><td>France</td></tr><tr><td></td><td></td></tr><tr><td></td><td></td></tr><tr><td>5</td><td>Serbia</td></tr><tr><td></td><td></td></tr><tr><td></td><td></td></tr><tr><td></td><td></td></tr><tr><td></td><td></td></tr><tr><td></td><td></td></tr><tr><td></td><td></td></tr></tbody></table></div>"
      ]
     },
     "metadata": {
      "application/vnd.databricks.v1+output": {
       "addedWidgets": {},
       "aggData": [],
       "aggError": "",
       "aggOverflow": false,
       "aggSchema": [],
       "aggSeriesLimitReached": false,
       "aggType": "",
       "arguments": {},
       "columnCustomDisplayInfos": {},
       "data": [
        [
         "",
         ""
        ],
        [
         "",
         ""
        ],
        [
         "",
         ""
        ],
        [
         "",
         ""
        ],
        [
         "",
         ""
        ],
        [
         "",
         ""
        ],
        [
         "1",
         "France"
        ],
        [
         "",
         ""
        ],
        [
         "",
         ""
        ],
        [
         "5",
         "Serbia"
        ],
        [
         "",
         ""
        ],
        [
         "",
         ""
        ],
        [
         "",
         ""
        ],
        [
         "",
         ""
        ],
        [
         "",
         ""
        ],
        [
         "",
         ""
        ]
       ],
       "datasetInfos": [],
       "dbfsResultPath": null,
       "isJsonSchema": true,
       "metadata": {},
       "overflow": false,
       "plotOptions": {
        "customPlotOptions": {},
        "displayType": "table",
        "pivotAggregation": null,
        "pivotColumns": null,
        "xColumns": null,
        "yColumns": null
       },
       "removedWidgets": [],
       "schema": [
        {
         "metadata": "{}",
         "name": "R_SF_Score",
         "type": "\"string\""
        },
        {
         "metadata": "{}",
         "name": "R_SF_Teams",
         "type": "\"string\""
        }
       ],
       "type": "table"
      }
     },
     "output_type": "display_data"
    }
   ],
   "source": [
    "right_sf_grouped = [right_sf.iloc[i:i+1] for i in range(0, len(right_sf), 1)]\n",
    "\n",
    "for i in range(len(right_sf_grouped)):\n",
    "    if i < len(right_sf_grouped):\n",
    "        right_sf_grouped[i] = pd.concat([right_sf_grouped[i], sf_row_pd, sf_row_pd], ignore_index=True)\n",
    "\n",
    "right_sf_spaced = pd.concat(right_sf_grouped).reset_index(drop=True)\n",
    "\n",
    "for _ in range(6):\n",
    "    right_sf_spaced = pd.concat([sf_row_pd, right_sf_spaced], ignore_index=True)\n",
    "\n",
    "for _ in range(4):\n",
    "    right_sf_spaced = pd.concat([right_sf_spaced, sf_row_pd], ignore_index=True)\n",
    "\n",
    "rsf_new_column_name ={'SF_Teams': 'R_SF_Teams',\n",
    "                       'SF_Score': 'R_SF_Score'\n",
    "                       }\n",
    "\n",
    "right_sf_spaced = right_sf_spaced.rename(columns=rsf_new_column_name)\n",
    "\n",
    "rsf_new_column_order = ['R_SF_Score', 'R_SF_Teams']\n",
    "right_sf_spaced = right_sf_spaced[rsf_new_column_order]\n",
    "\n",
    "display(right_sf_spaced)"
   ]
  },
  {
   "cell_type": "code",
   "execution_count": 0,
   "metadata": {
    "application/vnd.databricks.v1+cell": {
     "cellMetadata": {
      "byteLimit": 2048000,
      "rowLimit": 10000
     },
     "inputWidgets": {},
     "nuid": "7e72e4dd-2f60-46cb-90c8-c7c780601400",
     "showTitle": false,
     "title": ""
    }
   },
   "outputs": [
    {
     "output_type": "display_data",
     "data": {
      "text/html": [
       "<style scoped>\n",
       "  .table-result-container {\n",
       "    max-height: 300px;\n",
       "    overflow: auto;\n",
       "  }\n",
       "  table, th, td {\n",
       "    border: 1px solid black;\n",
       "    border-collapse: collapse;\n",
       "  }\n",
       "  th, td {\n",
       "    padding: 5px;\n",
       "  }\n",
       "  th {\n",
       "    text-align: left;\n",
       "  }\n",
       "</style><div class='table-result-container'><table class='table-result'><thead style='background-color: white'><tr><th>MatchID</th><th>Team1</th><th>Team1Goals</th><th>Team2Goals</th><th>Team2</th><th>MatchWinner</th><th>MatchStage</th></tr></thead><tbody><tr><td>16</td><td>Greece</td><td>5</td><td>3</td><td>Serbia</td><td>Greece</td><td>FIN</td></tr></tbody></table></div>"
      ]
     },
     "metadata": {
      "application/vnd.databricks.v1+output": {
       "addedWidgets": {},
       "aggData": [],
       "aggError": "",
       "aggOverflow": false,
       "aggSchema": [],
       "aggSeriesLimitReached": false,
       "aggType": "",
       "arguments": {},
       "columnCustomDisplayInfos": {},
       "data": [
        [
         "16",
         "Greece",
         "5",
         "3",
         "Serbia",
         "Greece",
         "FIN"
        ]
       ],
       "datasetInfos": [],
       "dbfsResultPath": null,
       "isJsonSchema": true,
       "metadata": {},
       "overflow": false,
       "plotOptions": {
        "customPlotOptions": {},
        "displayType": "table",
        "pivotAggregation": null,
        "pivotColumns": null,
        "xColumns": null,
        "yColumns": null
       },
       "removedWidgets": [],
       "schema": [
        {
         "metadata": "{}",
         "name": "MatchID",
         "type": "\"string\""
        },
        {
         "metadata": "{}",
         "name": "Team1",
         "type": "\"string\""
        },
        {
         "metadata": "{}",
         "name": "Team1Goals",
         "type": "\"string\""
        },
        {
         "metadata": "{}",
         "name": "Team2Goals",
         "type": "\"string\""
        },
        {
         "metadata": "{}",
         "name": "Team2",
         "type": "\"string\""
        },
        {
         "metadata": "{}",
         "name": "MatchWinner",
         "type": "\"string\""
        },
        {
         "metadata": "{}",
         "name": "MatchStage",
         "type": "\"string\""
        }
       ],
       "type": "table"
      }
     },
     "output_type": "display_data"
    }
   ],
   "source": [
    "fin = spark.sql(\"SELECT * FROM QualificationPlacement WHERE MatchStage = 'FIN'\")\n",
    "fin_pd = fin.toPandas()\n",
    "fin_pd = fin_pd.applymap(lambda x: str(x).split(\".\")[0])\n",
    "\n",
    "display(fin_pd)"
   ]
  },
  {
   "cell_type": "code",
   "execution_count": 0,
   "metadata": {
    "application/vnd.databricks.v1+cell": {
     "cellMetadata": {
      "byteLimit": 2048000,
      "rowLimit": 10000
     },
     "inputWidgets": {},
     "nuid": "e8b172c5-6f5c-4205-8cbf-ed9afac79a77",
     "showTitle": false,
     "title": ""
    }
   },
   "outputs": [
    {
     "output_type": "display_data",
     "data": {
      "text/html": [
       "<style scoped>\n",
       "  .table-result-container {\n",
       "    max-height: 300px;\n",
       "    overflow: auto;\n",
       "  }\n",
       "  table, th, td {\n",
       "    border: 1px solid black;\n",
       "    border-collapse: collapse;\n",
       "  }\n",
       "  th, td {\n",
       "    padding: 5px;\n",
       "  }\n",
       "  th {\n",
       "    text-align: left;\n",
       "  }\n",
       "</style><div class='table-result-container'><table class='table-result'><thead style='background-color: white'><tr><th>Fin_Teams</th><th>Fin_Score</th></tr></thead><tbody><tr><td>Greece</td><td>5</td></tr><tr><td>Serbia</td><td>3</td></tr></tbody></table></div>"
      ]
     },
     "metadata": {
      "application/vnd.databricks.v1+output": {
       "addedWidgets": {},
       "aggData": [],
       "aggError": "",
       "aggOverflow": false,
       "aggSchema": [],
       "aggSeriesLimitReached": false,
       "aggType": "",
       "arguments": {},
       "columnCustomDisplayInfos": {},
       "data": [
        [
         "Greece",
         "5"
        ],
        [
         "Serbia",
         "3"
        ]
       ],
       "datasetInfos": [],
       "dbfsResultPath": null,
       "isJsonSchema": true,
       "metadata": {},
       "overflow": false,
       "plotOptions": {
        "customPlotOptions": {},
        "displayType": "table",
        "pivotAggregation": null,
        "pivotColumns": null,
        "xColumns": null,
        "yColumns": null
       },
       "removedWidgets": [],
       "schema": [
        {
         "metadata": "{}",
         "name": "Fin_Teams",
         "type": "\"string\""
        },
        {
         "metadata": "{}",
         "name": "Fin_Score",
         "type": "\"string\""
        }
       ],
       "type": "table"
      }
     },
     "output_type": "display_data"
    }
   ],
   "source": [
    "#storing required data in df\n",
    "fin_vis = pd.DataFrame(columns=['Fin_Teams', 'Fin_Score'])\n",
    "\n",
    "#displaying all teams and respective scores in columns\n",
    "for index, row in fin_pd.iterrows():\n",
    "    team1 = row['Team1']\n",
    "    team1goals = row['Team1Goals']\n",
    "    team2 = row['Team2']\n",
    "    team2goals = row['Team2Goals']\n",
    "    fin_vis = pd.concat([fin_vis, pd.DataFrame({'Fin_Teams': [team1], 'Fin_Score': [team1goals]})], ignore_index=True)\n",
    "    fin_vis = pd.concat([fin_vis, pd.DataFrame({'Fin_Teams': [team2], 'Fin_Score': [team2goals]})], ignore_index=True)\n",
    "\n",
    "display(fin_vis)"
   ]
  },
  {
   "cell_type": "code",
   "execution_count": 0,
   "metadata": {
    "application/vnd.databricks.v1+cell": {
     "cellMetadata": {
      "byteLimit": 2048000,
      "rowLimit": 10000
     },
     "inputWidgets": {},
     "nuid": "25db7794-8d9c-4288-b63a-4aebb8cd352f",
     "showTitle": false,
     "title": ""
    }
   },
   "outputs": [],
   "source": [
    "fin_row_pd = pd.DataFrame({col: [''] for col in fin_vis.columns})"
   ]
  },
  {
   "cell_type": "code",
   "execution_count": 0,
   "metadata": {
    "application/vnd.databricks.v1+cell": {
     "cellMetadata": {
      "byteLimit": 2048000,
      "rowLimit": 10000
     },
     "inputWidgets": {},
     "nuid": "02736524-fb2b-4585-8679-1609bde07733",
     "showTitle": false,
     "title": ""
    }
   },
   "outputs": [
    {
     "output_type": "display_data",
     "data": {
      "text/html": [
       "<style scoped>\n",
       "  .table-result-container {\n",
       "    max-height: 300px;\n",
       "    overflow: auto;\n",
       "  }\n",
       "  table, th, td {\n",
       "    border: 1px solid black;\n",
       "    border-collapse: collapse;\n",
       "  }\n",
       "  th, td {\n",
       "    padding: 5px;\n",
       "  }\n",
       "  th {\n",
       "    text-align: left;\n",
       "  }\n",
       "</style><div class='table-result-container'><table class='table-result'><thead style='background-color: white'><tr><th>L_Fin_Teams</th><th>L_Fin_Score</th></tr></thead><tbody><tr><td></td><td></td></tr><tr><td></td><td></td></tr><tr><td></td><td></td></tr><tr><td></td><td></td></tr><tr><td></td><td></td></tr><tr><td></td><td></td></tr><tr><td></td><td></td></tr><tr><td></td><td></td></tr><tr><td>Greece</td><td>5</td></tr><tr><td></td><td></td></tr><tr><td></td><td></td></tr><tr><td></td><td></td></tr><tr><td></td><td></td></tr><tr><td></td><td></td></tr><tr><td></td><td></td></tr><tr><td></td><td></td></tr></tbody></table></div>"
      ]
     },
     "metadata": {
      "application/vnd.databricks.v1+output": {
       "addedWidgets": {},
       "aggData": [],
       "aggError": "",
       "aggOverflow": false,
       "aggSchema": [],
       "aggSeriesLimitReached": false,
       "aggType": "",
       "arguments": {},
       "columnCustomDisplayInfos": {},
       "data": [
        [
         "",
         ""
        ],
        [
         "",
         ""
        ],
        [
         "",
         ""
        ],
        [
         "",
         ""
        ],
        [
         "",
         ""
        ],
        [
         "",
         ""
        ],
        [
         "",
         ""
        ],
        [
         "",
         ""
        ],
        [
         "Greece",
         "5"
        ],
        [
         "",
         ""
        ],
        [
         "",
         ""
        ],
        [
         "",
         ""
        ],
        [
         "",
         ""
        ],
        [
         "",
         ""
        ],
        [
         "",
         ""
        ],
        [
         "",
         ""
        ]
       ],
       "datasetInfos": [],
       "dbfsResultPath": null,
       "isJsonSchema": true,
       "metadata": {},
       "overflow": false,
       "plotOptions": {
        "customPlotOptions": {},
        "displayType": "table",
        "pivotAggregation": null,
        "pivotColumns": null,
        "xColumns": null,
        "yColumns": null
       },
       "removedWidgets": [],
       "schema": [
        {
         "metadata": "{}",
         "name": "L_Fin_Teams",
         "type": "\"string\""
        },
        {
         "metadata": "{}",
         "name": "L_Fin_Score",
         "type": "\"string\""
        }
       ],
       "type": "table"
      }
     },
     "output_type": "display_data"
    },
    {
     "output_type": "display_data",
     "data": {
      "text/html": [
       "<style scoped>\n",
       "  .table-result-container {\n",
       "    max-height: 300px;\n",
       "    overflow: auto;\n",
       "  }\n",
       "  table, th, td {\n",
       "    border: 1px solid black;\n",
       "    border-collapse: collapse;\n",
       "  }\n",
       "  th, td {\n",
       "    padding: 5px;\n",
       "  }\n",
       "  th {\n",
       "    text-align: left;\n",
       "  }\n",
       "</style><div class='table-result-container'><table class='table-result'><thead style='background-color: white'><tr><th>R_Fin_Score</th><th>R_Fin_Teams</th></tr></thead><tbody><tr><td></td><td></td></tr><tr><td></td><td></td></tr><tr><td></td><td></td></tr><tr><td></td><td></td></tr><tr><td></td><td></td></tr><tr><td></td><td></td></tr><tr><td></td><td></td></tr><tr><td></td><td></td></tr><tr><td>3</td><td>Serbia</td></tr><tr><td></td><td></td></tr><tr><td></td><td></td></tr><tr><td></td><td></td></tr><tr><td></td><td></td></tr><tr><td></td><td></td></tr><tr><td></td><td></td></tr><tr><td></td><td></td></tr></tbody></table></div>"
      ]
     },
     "metadata": {
      "application/vnd.databricks.v1+output": {
       "addedWidgets": {},
       "aggData": [],
       "aggError": "",
       "aggOverflow": false,
       "aggSchema": [],
       "aggSeriesLimitReached": false,
       "aggType": "",
       "arguments": {},
       "columnCustomDisplayInfos": {},
       "data": [
        [
         "",
         ""
        ],
        [
         "",
         ""
        ],
        [
         "",
         ""
        ],
        [
         "",
         ""
        ],
        [
         "",
         ""
        ],
        [
         "",
         ""
        ],
        [
         "",
         ""
        ],
        [
         "",
         ""
        ],
        [
         "3",
         "Serbia"
        ],
        [
         "",
         ""
        ],
        [
         "",
         ""
        ],
        [
         "",
         ""
        ],
        [
         "",
         ""
        ],
        [
         "",
         ""
        ],
        [
         "",
         ""
        ],
        [
         "",
         ""
        ]
       ],
       "datasetInfos": [],
       "dbfsResultPath": null,
       "isJsonSchema": true,
       "metadata": {},
       "overflow": false,
       "plotOptions": {
        "customPlotOptions": {},
        "displayType": "table",
        "pivotAggregation": null,
        "pivotColumns": null,
        "xColumns": null,
        "yColumns": null
       },
       "removedWidgets": [],
       "schema": [
        {
         "metadata": "{}",
         "name": "R_Fin_Score",
         "type": "\"string\""
        },
        {
         "metadata": "{}",
         "name": "R_Fin_Teams",
         "type": "\"string\""
        }
       ],
       "type": "table"
      }
     },
     "output_type": "display_data"
    }
   ],
   "source": [
    "fin1 = fin_vis.iloc[:1]  # First value\n",
    "fin2 = fin_vis.iloc[1:]  # Second value\n",
    "\n",
    "for _ in range(8):\n",
    "    fin1 = pd.concat([fin_row_pd, fin1], ignore_index=True)\n",
    "    fin2 = pd.concat([fin_row_pd, fin2], ignore_index=True)\n",
    "\n",
    "for _ in range(7):\n",
    "    fin1 = pd.concat([fin1, fin_row_pd], ignore_index=True)\n",
    "    fin2 = pd.concat([fin2, fin_row_pd], ignore_index=True)\n",
    "\n",
    "lfin_new_column_name ={'Fin_Teams': 'L_Fin_Teams',\n",
    "                       'Fin_Score': 'L_Fin_Score'\n",
    "                       }\n",
    "rfin_new_column_name ={'Fin_Teams': 'R_Fin_Teams',\n",
    "                       'Fin_Score': 'R_Fin_Score'\n",
    "                       }\n",
    "\n",
    "fin1 = fin1.rename(columns=lfin_new_column_name)\n",
    "fin2 = fin2.rename(columns=rfin_new_column_name)\n",
    "\n",
    "rfin_new_column_order = ['R_Fin_Score', 'R_Fin_Teams']\n",
    "fin2 = fin2[rfin_new_column_order]\n",
    "\n",
    "display(fin1)\n",
    "display(fin2)"
   ]
  },
  {
   "cell_type": "code",
   "execution_count": 0,
   "metadata": {
    "application/vnd.databricks.v1+cell": {
     "cellMetadata": {
      "byteLimit": 2048000,
      "rowLimit": 10000
     },
     "inputWidgets": {},
     "nuid": "48e33e4e-76b0-4d47-9b64-4152cff77ddd",
     "showTitle": false,
     "title": ""
    }
   },
   "outputs": [
    {
     "output_type": "display_data",
     "data": {
      "text/html": [
       "<style scoped>\n",
       "  .table-result-container {\n",
       "    max-height: 300px;\n",
       "    overflow: auto;\n",
       "  }\n",
       "  table, th, td {\n",
       "    border: 1px solid black;\n",
       "    border-collapse: collapse;\n",
       "  }\n",
       "  th, td {\n",
       "    padding: 5px;\n",
       "  }\n",
       "  th {\n",
       "    text-align: left;\n",
       "  }\n",
       "</style><div class='table-result-container'><table class='table-result'><thead style='background-color: white'><tr><th>TournamentWinner</th></tr></thead><tbody><tr><td></td></tr><tr><td></td></tr><tr><td></td></tr><tr><td></td></tr><tr><td></td></tr><tr><td></td></tr><tr><td></td></tr><tr><td>Greece</td></tr><tr><td></td></tr><tr><td></td></tr><tr><td></td></tr><tr><td></td></tr><tr><td></td></tr><tr><td></td></tr><tr><td></td></tr><tr><td></td></tr></tbody></table></div>"
      ]
     },
     "metadata": {
      "application/vnd.databricks.v1+output": {
       "addedWidgets": {},
       "aggData": [],
       "aggError": "",
       "aggOverflow": false,
       "aggSchema": [],
       "aggSeriesLimitReached": false,
       "aggType": "",
       "arguments": {},
       "columnCustomDisplayInfos": {},
       "data": [
        [
         ""
        ],
        [
         ""
        ],
        [
         ""
        ],
        [
         ""
        ],
        [
         ""
        ],
        [
         ""
        ],
        [
         ""
        ],
        [
         "Greece"
        ],
        [
         ""
        ],
        [
         ""
        ],
        [
         ""
        ],
        [
         ""
        ],
        [
         ""
        ],
        [
         ""
        ],
        [
         ""
        ],
        [
         ""
        ]
       ],
       "datasetInfos": [],
       "dbfsResultPath": null,
       "isJsonSchema": true,
       "metadata": {},
       "overflow": false,
       "plotOptions": {
        "customPlotOptions": {},
        "displayType": "table",
        "pivotAggregation": null,
        "pivotColumns": null,
        "xColumns": null,
        "yColumns": null
       },
       "removedWidgets": [],
       "schema": [
        {
         "metadata": "{}",
         "name": "TournamentWinner",
         "type": "\"string\""
        }
       ],
       "type": "table"
      }
     },
     "output_type": "display_data"
    }
   ],
   "source": [
    "winner = spark.sql(\"SELECT MatchWinner FROM QualificationPlacement WHERE MatchStage = 'FIN'\")\n",
    "winner_pd = winner.toPandas()\n",
    "winner_pd = winner_pd.applymap(lambda x: str(x).split(\".\")[0])\n",
    "\n",
    "win_row_pd = pd.DataFrame({col: [''] for col in winner_pd.columns})\n",
    "\n",
    "for _ in range(7):\n",
    "    winner_pd = pd.concat([win_row_pd, winner_pd], ignore_index=True)\n",
    "\n",
    "for _ in range(8):\n",
    "    winner_pd = pd.concat([winner_pd, win_row_pd], ignore_index=True)\n",
    "\n",
    "fin_col = {\"MatchWinner\":\"TournamentWinner\"}\n",
    "winner_pd = winner_pd.rename(columns = fin_col)\n",
    "display(winner_pd)"
   ]
  },
  {
   "cell_type": "code",
   "execution_count": 0,
   "metadata": {
    "application/vnd.databricks.v1+cell": {
     "cellMetadata": {
      "byteLimit": 2048000,
      "rowLimit": 10000
     },
     "inputWidgets": {},
     "nuid": "df7a60e2-7daf-49cc-9d0c-866c1fa882e4",
     "showTitle": false,
     "title": ""
    }
   },
   "outputs": [
    {
     "output_type": "display_data",
     "data": {
      "text/html": [
       "<style scoped>\n",
       "  .table-result-container {\n",
       "    max-height: 300px;\n",
       "    overflow: auto;\n",
       "  }\n",
       "  table, th, td {\n",
       "    border: 1px solid black;\n",
       "    border-collapse: collapse;\n",
       "  }\n",
       "  th, td {\n",
       "    padding: 5px;\n",
       "  }\n",
       "  th {\n",
       "    text-align: left;\n",
       "  }\n",
       "</style><div class='table-result-container'><table class='table-result'><thead style='background-color: white'><tr><th>L_Grp/Pos</th><th>L_Country</th><th>L_MP</th><th>L_W</th><th>L-D</th><th>L_L</th><th>L-GF</th><th>L_GA</th><th>L_GD</th><th>L_Pts</th><th>L_R16_Teams</th><th>L_R16_Score</th><th>L_QF_Teams</th><th>L_QF_Score</th><th>L_SF_Teams</th><th>L_SF_Score</th><th>L_Fin_Teams</th><th>L_Fin_Score</th><th>TournamentWinner</th><th>R_Fin_Score</th><th>R_Fin_Teams</th><th>R_SF_Score</th><th>R_SF_Teams</th><th>R_QF_Score</th><th>R_QF_Teams</th><th>R_R16_Score</th><th>R_R16_Teams</th><th>R_Grp/Pos</th><th>R_Country</th><th>R_MP</th><th>R_W</th><th>R-D</th><th>R_L</th><th>R-GF</th><th>R_GA</th><th>R_GD</th><th>R_Pts</th></tr></thead><tbody><tr><td>A1</td><td>Germany</td><td>3</td><td>3</td><td>0</td><td>0</td><td>12</td><td>6</td><td>6</td><td>9</td><td></td><td></td><td></td><td></td><td></td><td></td><td></td><td></td><td></td><td></td><td></td><td></td><td></td><td></td><td></td><td></td><td></td><td>D1</td><td>Poland</td><td>3</td><td>2</td><td>1</td><td>0</td><td>8</td><td>3</td><td>5</td><td>7</td></tr><tr><td>A2</td><td>Hungary</td><td>3</td><td>2</td><td>0</td><td>1</td><td>11</td><td>7</td><td>4</td><td>6</td><td>Spain</td><td>3</td><td></td><td></td><td></td><td></td><td></td><td></td><td></td><td></td><td></td><td></td><td></td><td></td><td></td><td>4</td><td>Belgium</td><td>D2</td><td>Netherlands</td><td>3</td><td>1</td><td>1</td><td>1</td><td>9</td><td>7</td><td>2</td><td>4</td></tr><tr><td>A3</td><td>Switzerland</td><td>3</td><td>1</td><td>0</td><td>2</td><td>5</td><td>7</td><td>-2</td><td>3</td><td>Czech Republic</td><td>0</td><td></td><td></td><td></td><td></td><td></td><td></td><td></td><td></td><td></td><td></td><td></td><td></td><td></td><td>5</td><td>France</td><td>D3</td><td>France</td><td>3</td><td>1</td><td>1</td><td>1</td><td>7</td><td>10</td><td>-3</td><td>4</td></tr><tr><td>A4</td><td>Scotland</td><td>3</td><td>0</td><td>0</td><td>3</td><td>3</td><td>11</td><td>-8</td><td>0</td><td></td><td></td><td></td><td></td><td></td><td></td><td></td><td></td><td></td><td></td><td></td><td></td><td></td><td></td><td></td><td></td><td></td><td>D4</td><td>Austria</td><td>3</td><td>0</td><td>1</td><td>2</td><td>4</td><td>8</td><td>-4</td><td>1</td></tr><tr><td></td><td></td><td></td><td></td><td></td><td></td><td></td><td></td><td></td><td></td><td></td><td></td><td>Spain</td><td>1</td><td></td><td></td><td></td><td></td><td></td><td></td><td></td><td></td><td></td><td>3</td><td>France</td><td></td><td></td><td></td><td></td><td></td><td></td><td></td><td></td><td></td><td></td><td></td><td></td></tr><tr><td></td><td></td><td></td><td></td><td></td><td></td><td></td><td></td><td></td><td></td><td>Germany</td><td>1</td><td>Denmark</td><td>4</td><td></td><td></td><td></td><td></td><td></td><td></td><td></td><td></td><td></td><td>0</td><td>Poland</td><td>3</td><td>Poland</td><td></td><td></td><td></td><td></td><td></td><td></td><td></td><td></td><td></td><td></td></tr><tr><td>B1</td><td>Spain</td><td>3</td><td>2</td><td>0</td><td>1</td><td>11</td><td>9</td><td>2</td><td>6</td><td>Denmark</td><td>4</td><td></td><td></td><td>Denmark</td><td>1</td><td></td><td></td><td></td><td></td><td></td><td>1</td><td>France</td><td></td><td></td><td>0</td><td>Turkey</td><td>E1</td><td>Belgium</td><td>3</td><td>2</td><td>1</td><td>0</td><td>12</td><td>10</td><td>2</td><td>7</td></tr><tr><td>B2</td><td>Italy</td><td>3</td><td>1</td><td>1</td><td>1</td><td>9</td><td>7</td><td>2</td><td>4</td><td></td><td></td><td></td><td></td><td></td><td></td><td></td><td></td><td>Greece</td><td></td><td></td><td></td><td></td><td></td><td></td><td></td><td></td><td>E2</td><td>Slovakia</td><td>3</td><td>1</td><td>1</td><td>1</td><td>11</td><td>11</td><td>0</td><td>4</td></tr><tr><td>B3</td><td>Croatia</td><td>3</td><td>1</td><td>1</td><td>1</td><td>8</td><td>8</td><td>0</td><td>4</td><td></td><td></td><td></td><td></td><td></td><td></td><td>Greece</td><td>5</td><td></td><td>3</td><td>Serbia</td><td></td><td></td><td></td><td></td><td></td><td></td><td>E3</td><td>Ukraine</td><td>3</td><td>1</td><td>0</td><td>2</td><td>14</td><td>12</td><td>2</td><td>3</td></tr><tr><td>B4</td><td>Albania</td><td>3</td><td>1</td><td>0</td><td>2</td><td>11</td><td>15</td><td>-4</td><td>3</td><td>Greece</td><td>1</td><td></td><td></td><td>Greece</td><td>4</td><td></td><td></td><td></td><td></td><td></td><td>5</td><td>Serbia</td><td></td><td></td><td>6</td><td>Serbia</td><td>E4</td><td>Romania</td><td>3</td><td>0</td><td>2</td><td>1</td><td>6</td><td>10</td><td>-4</td><td>2</td></tr><tr><td></td><td></td><td></td><td></td><td></td><td></td><td></td><td></td><td></td><td></td><td>Croatia</td><td>0</td><td>Greece</td><td>4</td><td></td><td></td><td></td><td></td><td></td><td></td><td></td><td></td><td></td><td>6</td><td>Serbia</td><td>0</td><td>Ukraine</td><td></td><td></td><td></td><td></td><td></td><td></td><td></td><td></td><td></td><td></td></tr><tr><td></td><td></td><td></td><td></td><td></td><td></td><td></td><td></td><td></td><td></td><td></td><td></td><td>Netherlands</td><td>2</td><td></td><td></td><td></td><td></td><td></td><td></td><td></td><td></td><td></td><td>4</td><td>Hungary</td><td></td><td></td><td></td><td></td><td></td><td></td><td></td><td></td><td></td><td></td><td></td><td></td></tr><tr><td>C1</td><td>Serbia</td><td>3</td><td>2</td><td>1</td><td>0</td><td>11</td><td>8</td><td>3</td><td>7</td><td></td><td></td><td></td><td></td><td></td><td></td><td></td><td></td><td></td><td></td><td></td><td></td><td></td><td></td><td></td><td></td><td></td><td>F1</td><td>Greece</td><td>3</td><td>2</td><td>0</td><td>1</td><td>8</td><td>8</td><td>0</td><td>6</td></tr><tr><td>C2</td><td>Denmark</td><td>3</td><td>1</td><td>2</td><td>0</td><td>12</td><td>11</td><td>1</td><td>5</td><td>Netherlands</td><td>5</td><td></td><td></td><td></td><td></td><td></td><td></td><td></td><td></td><td></td><td></td><td></td><td></td><td></td><td>5</td><td>Hungary</td><td>F2</td><td>Turkey</td><td>3</td><td>1</td><td>1</td><td>1</td><td>7</td><td>4</td><td>3</td><td>4</td></tr><tr><td>C3</td><td>Slovenia</td><td>3</td><td>1</td><td>0</td><td>2</td><td>9</td><td>10</td><td>-1</td><td>3</td><td>Slovakia</td><td>0</td><td></td><td></td><td></td><td></td><td></td><td></td><td></td><td></td><td></td><td></td><td></td><td></td><td></td><td>0</td><td>Italy</td><td>F3</td><td>Czech Republic</td><td>3</td><td>1</td><td>1</td><td>1</td><td>8</td><td>6</td><td>2</td><td>4</td></tr><tr><td>C4</td><td>England</td><td>3</td><td>0</td><td>1</td><td>2</td><td>8</td><td>11</td><td>-3</td><td>1</td><td></td><td></td><td></td><td></td><td></td><td></td><td></td><td></td><td></td><td></td><td></td><td></td><td></td><td></td><td></td><td></td><td></td><td>F4</td><td>Portugal</td><td>3</td><td>1</td><td>0</td><td>2</td><td>6</td><td>11</td><td>-5</td><td>3</td></tr></tbody></table></div>"
      ]
     },
     "metadata": {
      "application/vnd.databricks.v1+output": {
       "addedWidgets": {},
       "aggData": [],
       "aggError": "",
       "aggOverflow": false,
       "aggSchema": [],
       "aggSeriesLimitReached": false,
       "aggType": "",
       "arguments": {},
       "columnCustomDisplayInfos": {},
       "data": [
        [
         "A1",
         "Germany",
         "3",
         "3",
         "0",
         "0",
         "12",
         "6",
         "6",
         "9",
         "",
         "",
         "",
         "",
         "",
         "",
         "",
         "",
         "",
         "",
         "",
         "",
         "",
         "",
         "",
         "",
         "",
         "D1",
         "Poland",
         "3",
         "2",
         "1",
         "0",
         "8",
         "3",
         "5",
         "7"
        ],
        [
         "A2",
         "Hungary",
         "3",
         "2",
         "0",
         "1",
         "11",
         "7",
         "4",
         "6",
         "Spain",
         "3",
         "",
         "",
         "",
         "",
         "",
         "",
         "",
         "",
         "",
         "",
         "",
         "",
         "",
         "4",
         "Belgium",
         "D2",
         "Netherlands",
         "3",
         "1",
         "1",
         "1",
         "9",
         "7",
         "2",
         "4"
        ],
        [
         "A3",
         "Switzerland",
         "3",
         "1",
         "0",
         "2",
         "5",
         "7",
         "-2",
         "3",
         "Czech Republic",
         "0",
         "",
         "",
         "",
         "",
         "",
         "",
         "",
         "",
         "",
         "",
         "",
         "",
         "",
         "5",
         "France",
         "D3",
         "France",
         "3",
         "1",
         "1",
         "1",
         "7",
         "10",
         "-3",
         "4"
        ],
        [
         "A4",
         "Scotland",
         "3",
         "0",
         "0",
         "3",
         "3",
         "11",
         "-8",
         "0",
         "",
         "",
         "",
         "",
         "",
         "",
         "",
         "",
         "",
         "",
         "",
         "",
         "",
         "",
         "",
         "",
         "",
         "D4",
         "Austria",
         "3",
         "0",
         "1",
         "2",
         "4",
         "8",
         "-4",
         "1"
        ],
        [
         "",
         "",
         "",
         "",
         "",
         "",
         "",
         "",
         "",
         "",
         "",
         "",
         "Spain",
         "1",
         "",
         "",
         "",
         "",
         "",
         "",
         "",
         "",
         "",
         "3",
         "France",
         "",
         "",
         "",
         "",
         "",
         "",
         "",
         "",
         "",
         "",
         "",
         ""
        ],
        [
         "",
         "",
         "",
         "",
         "",
         "",
         "",
         "",
         "",
         "",
         "Germany",
         "1",
         "Denmark",
         "4",
         "",
         "",
         "",
         "",
         "",
         "",
         "",
         "",
         "",
         "0",
         "Poland",
         "3",
         "Poland",
         "",
         "",
         "",
         "",
         "",
         "",
         "",
         "",
         "",
         ""
        ],
        [
         "B1",
         "Spain",
         "3",
         "2",
         "0",
         "1",
         "11",
         "9",
         "2",
         "6",
         "Denmark",
         "4",
         "",
         "",
         "Denmark",
         "1",
         "",
         "",
         "",
         "",
         "",
         "1",
         "France",
         "",
         "",
         "0",
         "Turkey",
         "E1",
         "Belgium",
         "3",
         "2",
         "1",
         "0",
         "12",
         "10",
         "2",
         "7"
        ],
        [
         "B2",
         "Italy",
         "3",
         "1",
         "1",
         "1",
         "9",
         "7",
         "2",
         "4",
         "",
         "",
         "",
         "",
         "",
         "",
         "",
         "",
         "Greece",
         "",
         "",
         "",
         "",
         "",
         "",
         "",
         "",
         "E2",
         "Slovakia",
         "3",
         "1",
         "1",
         "1",
         "11",
         "11",
         "0",
         "4"
        ],
        [
         "B3",
         "Croatia",
         "3",
         "1",
         "1",
         "1",
         "8",
         "8",
         "0",
         "4",
         "",
         "",
         "",
         "",
         "",
         "",
         "Greece",
         "5",
         "",
         "3",
         "Serbia",
         "",
         "",
         "",
         "",
         "",
         "",
         "E3",
         "Ukraine",
         "3",
         "1",
         "0",
         "2",
         "14",
         "12",
         "2",
         "3"
        ],
        [
         "B4",
         "Albania",
         "3",
         "1",
         "0",
         "2",
         "11",
         "15",
         "-4",
         "3",
         "Greece",
         "1",
         "",
         "",
         "Greece",
         "4",
         "",
         "",
         "",
         "",
         "",
         "5",
         "Serbia",
         "",
         "",
         "6",
         "Serbia",
         "E4",
         "Romania",
         "3",
         "0",
         "2",
         "1",
         "6",
         "10",
         "-4",
         "2"
        ],
        [
         "",
         "",
         "",
         "",
         "",
         "",
         "",
         "",
         "",
         "",
         "Croatia",
         "0",
         "Greece",
         "4",
         "",
         "",
         "",
         "",
         "",
         "",
         "",
         "",
         "",
         "6",
         "Serbia",
         "0",
         "Ukraine",
         "",
         "",
         "",
         "",
         "",
         "",
         "",
         "",
         "",
         ""
        ],
        [
         "",
         "",
         "",
         "",
         "",
         "",
         "",
         "",
         "",
         "",
         "",
         "",
         "Netherlands",
         "2",
         "",
         "",
         "",
         "",
         "",
         "",
         "",
         "",
         "",
         "4",
         "Hungary",
         "",
         "",
         "",
         "",
         "",
         "",
         "",
         "",
         "",
         "",
         "",
         ""
        ],
        [
         "C1",
         "Serbia",
         "3",
         "2",
         "1",
         "0",
         "11",
         "8",
         "3",
         "7",
         "",
         "",
         "",
         "",
         "",
         "",
         "",
         "",
         "",
         "",
         "",
         "",
         "",
         "",
         "",
         "",
         "",
         "F1",
         "Greece",
         "3",
         "2",
         "0",
         "1",
         "8",
         "8",
         "0",
         "6"
        ],
        [
         "C2",
         "Denmark",
         "3",
         "1",
         "2",
         "0",
         "12",
         "11",
         "1",
         "5",
         "Netherlands",
         "5",
         "",
         "",
         "",
         "",
         "",
         "",
         "",
         "",
         "",
         "",
         "",
         "",
         "",
         "5",
         "Hungary",
         "F2",
         "Turkey",
         "3",
         "1",
         "1",
         "1",
         "7",
         "4",
         "3",
         "4"
        ],
        [
         "C3",
         "Slovenia",
         "3",
         "1",
         "0",
         "2",
         "9",
         "10",
         "-1",
         "3",
         "Slovakia",
         "0",
         "",
         "",
         "",
         "",
         "",
         "",
         "",
         "",
         "",
         "",
         "",
         "",
         "",
         "0",
         "Italy",
         "F3",
         "Czech Republic",
         "3",
         "1",
         "1",
         "1",
         "8",
         "6",
         "2",
         "4"
        ],
        [
         "C4",
         "England",
         "3",
         "0",
         "1",
         "2",
         "8",
         "11",
         "-3",
         "1",
         "",
         "",
         "",
         "",
         "",
         "",
         "",
         "",
         "",
         "",
         "",
         "",
         "",
         "",
         "",
         "",
         "",
         "F4",
         "Portugal",
         "3",
         "1",
         "0",
         "2",
         "6",
         "11",
         "-5",
         "3"
        ]
       ],
       "datasetInfos": [],
       "dbfsResultPath": null,
       "isJsonSchema": true,
       "metadata": {},
       "overflow": false,
       "plotOptions": {
        "customPlotOptions": {},
        "displayType": "table",
        "pivotAggregation": null,
        "pivotColumns": null,
        "xColumns": null,
        "yColumns": null
       },
       "removedWidgets": [],
       "schema": [
        {
         "metadata": "{}",
         "name": "L_Grp/Pos",
         "type": "\"string\""
        },
        {
         "metadata": "{}",
         "name": "L_Country",
         "type": "\"string\""
        },
        {
         "metadata": "{}",
         "name": "L_MP",
         "type": "\"string\""
        },
        {
         "metadata": "{}",
         "name": "L_W",
         "type": "\"string\""
        },
        {
         "metadata": "{}",
         "name": "L-D",
         "type": "\"string\""
        },
        {
         "metadata": "{}",
         "name": "L_L",
         "type": "\"string\""
        },
        {
         "metadata": "{}",
         "name": "L-GF",
         "type": "\"string\""
        },
        {
         "metadata": "{}",
         "name": "L_GA",
         "type": "\"string\""
        },
        {
         "metadata": "{}",
         "name": "L_GD",
         "type": "\"string\""
        },
        {
         "metadata": "{}",
         "name": "L_Pts",
         "type": "\"string\""
        },
        {
         "metadata": "{}",
         "name": "L_R16_Teams",
         "type": "\"string\""
        },
        {
         "metadata": "{}",
         "name": "L_R16_Score",
         "type": "\"string\""
        },
        {
         "metadata": "{}",
         "name": "L_QF_Teams",
         "type": "\"string\""
        },
        {
         "metadata": "{}",
         "name": "L_QF_Score",
         "type": "\"string\""
        },
        {
         "metadata": "{}",
         "name": "L_SF_Teams",
         "type": "\"string\""
        },
        {
         "metadata": "{}",
         "name": "L_SF_Score",
         "type": "\"string\""
        },
        {
         "metadata": "{}",
         "name": "L_Fin_Teams",
         "type": "\"string\""
        },
        {
         "metadata": "{}",
         "name": "L_Fin_Score",
         "type": "\"string\""
        },
        {
         "metadata": "{}",
         "name": "TournamentWinner",
         "type": "\"string\""
        },
        {
         "metadata": "{}",
         "name": "R_Fin_Score",
         "type": "\"string\""
        },
        {
         "metadata": "{}",
         "name": "R_Fin_Teams",
         "type": "\"string\""
        },
        {
         "metadata": "{}",
         "name": "R_SF_Score",
         "type": "\"string\""
        },
        {
         "metadata": "{}",
         "name": "R_SF_Teams",
         "type": "\"string\""
        },
        {
         "metadata": "{}",
         "name": "R_QF_Score",
         "type": "\"string\""
        },
        {
         "metadata": "{}",
         "name": "R_QF_Teams",
         "type": "\"string\""
        },
        {
         "metadata": "{}",
         "name": "R_R16_Score",
         "type": "\"string\""
        },
        {
         "metadata": "{}",
         "name": "R_R16_Teams",
         "type": "\"string\""
        },
        {
         "metadata": "{}",
         "name": "R_Grp/Pos",
         "type": "\"string\""
        },
        {
         "metadata": "{}",
         "name": "R_Country",
         "type": "\"string\""
        },
        {
         "metadata": "{}",
         "name": "R_MP",
         "type": "\"string\""
        },
        {
         "metadata": "{}",
         "name": "R_W",
         "type": "\"string\""
        },
        {
         "metadata": "{}",
         "name": "R-D",
         "type": "\"string\""
        },
        {
         "metadata": "{}",
         "name": "R_L",
         "type": "\"string\""
        },
        {
         "metadata": "{}",
         "name": "R-GF",
         "type": "\"string\""
        },
        {
         "metadata": "{}",
         "name": "R_GA",
         "type": "\"string\""
        },
        {
         "metadata": "{}",
         "name": "R_GD",
         "type": "\"string\""
        },
        {
         "metadata": "{}",
         "name": "R_Pts",
         "type": "\"string\""
        }
       ],
       "type": "table"
      }
     },
     "output_type": "display_data"
    }
   ],
   "source": [
    "# Concatenating DataFrames with keys\n",
    "knockout_df = pd.concat([left_gs_spaced,\n",
    "                        left_r16_spaced, \n",
    "                        left_qf_spaced, \n",
    "                        left_sf_spaced,\n",
    "                        fin1,\n",
    "                        winner_pd,\n",
    "                        fin2,\n",
    "                        right_sf_spaced,\n",
    "                        right_qf_spaced,\n",
    "                        right_r16_spaced,\n",
    "                        right_gs_spaced\n",
    "                         ], \n",
    "                        axis=1, \n",
    "                        # keys=['left_gs', 'left_r16', 'left_qf', 'left_sf', 'fin1', 'winner', 'fin2', 'right_sf', 'right_qf', 'right_r16', 'right_gs']\n",
    "                        )\n",
    "\n",
    "# Displaying the concatenated DataFrame\n",
    "display(knockout_df)"
   ]
  },
  {
   "cell_type": "markdown",
   "metadata": {
    "application/vnd.databricks.v1+cell": {
     "cellMetadata": {
      "byteLimit": 2048000,
      "rowLimit": 10000
     },
     "inputWidgets": {},
     "nuid": "dfb907c1-38af-40ee-94e5-082aecb27774",
     "showTitle": false,
     "title": ""
    }
   },
   "source": [
    "#Podium Position\n",
    "Just for fun (idk how to use matplotlib properly. GPT Helped)"
   ]
  },
  {
   "cell_type": "code",
   "execution_count": 0,
   "metadata": {
    "application/vnd.databricks.v1+cell": {
     "cellMetadata": {
      "byteLimit": 2048000,
      "rowLimit": 10000
     },
     "inputWidgets": {},
     "nuid": "9aa43c11-ed28-4a12-a9b8-f3fde714cdc9",
     "showTitle": false,
     "title": ""
    }
   },
   "outputs": [
    {
     "output_type": "display_data",
     "data": {
      "text/html": [
       "<style scoped>\n",
       "  .table-result-container {\n",
       "    max-height: 300px;\n",
       "    overflow: auto;\n",
       "  }\n",
       "  table, th, td {\n",
       "    border: 1px solid black;\n",
       "    border-collapse: collapse;\n",
       "  }\n",
       "  th, td {\n",
       "    padding: 5px;\n",
       "  }\n",
       "  th {\n",
       "    text-align: left;\n",
       "  }\n",
       "</style><div class='table-result-container'><table class='table-result'><thead style='background-color: white'><tr><th>Euro_Cup_Winners</th></tr></thead><tbody><tr><td>Greece</td></tr></tbody></table></div>"
      ]
     },
     "metadata": {
      "application/vnd.databricks.v1+output": {
       "addedWidgets": {},
       "aggData": [],
       "aggError": "",
       "aggOverflow": false,
       "aggSchema": [],
       "aggSeriesLimitReached": false,
       "aggType": "",
       "arguments": {},
       "columnCustomDisplayInfos": {},
       "data": [
        [
         "Greece"
        ]
       ],
       "datasetInfos": [],
       "dbfsResultPath": null,
       "isJsonSchema": true,
       "metadata": {},
       "overflow": false,
       "plotOptions": {
        "customPlotOptions": {},
        "displayType": "table",
        "pivotAggregation": null,
        "pivotColumns": null,
        "xColumns": null,
        "yColumns": null
       },
       "removedWidgets": [],
       "schema": [
        {
         "metadata": "{\"__CHAR_VARCHAR_TYPE_STRING\":\"varchar(53)\"}",
         "name": "Euro_Cup_Winners",
         "type": "\"string\""
        }
       ],
       "type": "table"
      }
     },
     "output_type": "display_data"
    },
    {
     "output_type": "display_data",
     "data": {
      "text/html": [
       "<style scoped>\n",
       "  .table-result-container {\n",
       "    max-height: 300px;\n",
       "    overflow: auto;\n",
       "  }\n",
       "  table, th, td {\n",
       "    border: 1px solid black;\n",
       "    border-collapse: collapse;\n",
       "  }\n",
       "  th, td {\n",
       "    padding: 5px;\n",
       "  }\n",
       "  th {\n",
       "    text-align: left;\n",
       "  }\n",
       "</style><div class='table-result-container'><table class='table-result'><thead style='background-color: white'><tr><th>Euro_Cup_RunnersUp</th></tr></thead><tbody><tr><td>Serbia</td></tr></tbody></table></div>"
      ]
     },
     "metadata": {
      "application/vnd.databricks.v1+output": {
       "addedWidgets": {},
       "aggData": [],
       "aggError": "",
       "aggOverflow": false,
       "aggSchema": [],
       "aggSeriesLimitReached": false,
       "aggType": "",
       "arguments": {},
       "columnCustomDisplayInfos": {},
       "data": [
        [
         "Serbia"
        ]
       ],
       "datasetInfos": [],
       "dbfsResultPath": null,
       "isJsonSchema": true,
       "metadata": {},
       "overflow": false,
       "plotOptions": {
        "customPlotOptions": {},
        "displayType": "table",
        "pivotAggregation": null,
        "pivotColumns": null,
        "xColumns": null,
        "yColumns": null
       },
       "removedWidgets": [],
       "schema": [
        {
         "metadata": "{}",
         "name": "Euro_Cup_RunnersUp",
         "type": "\"string\""
        }
       ],
       "type": "table"
      }
     },
     "output_type": "display_data"
    },
    {
     "output_type": "display_data",
     "data": {
      "text/html": [
       "<style scoped>\n",
       "  .table-result-container {\n",
       "    max-height: 300px;\n",
       "    overflow: auto;\n",
       "  }\n",
       "  table, th, td {\n",
       "    border: 1px solid black;\n",
       "    border-collapse: collapse;\n",
       "  }\n",
       "  th, td {\n",
       "    padding: 5px;\n",
       "  }\n",
       "  th {\n",
       "    text-align: left;\n",
       "  }\n",
       "</style><div class='table-result-container'><table class='table-result'><thead style='background-color: white'><tr><th>Euro_Cup_ThirdPlace</th></tr></thead><tbody><tr><td>France</td></tr></tbody></table></div>"
      ]
     },
     "metadata": {
      "application/vnd.databricks.v1+output": {
       "addedWidgets": {},
       "aggData": [],
       "aggError": "",
       "aggOverflow": false,
       "aggSchema": [],
       "aggSeriesLimitReached": false,
       "aggType": "",
       "arguments": {},
       "columnCustomDisplayInfos": {},
       "data": [
        [
         "France"
        ]
       ],
       "datasetInfos": [],
       "dbfsResultPath": null,
       "isJsonSchema": true,
       "metadata": {},
       "overflow": false,
       "plotOptions": {
        "customPlotOptions": {},
        "displayType": "table",
        "pivotAggregation": null,
        "pivotColumns": null,
        "xColumns": null,
        "yColumns": null
       },
       "removedWidgets": [],
       "schema": [
        {
         "metadata": "{\"__CHAR_VARCHAR_TYPE_STRING\":\"varchar(53)\"}",
         "name": "Euro_Cup_ThirdPlace",
         "type": "\"string\""
        }
       ],
       "type": "table"
      }
     },
     "output_type": "display_data"
    }
   ],
   "source": [
    "import matplotlib.pyplot as plt\n",
    "\n",
    "first = spark.sql(\"SELECT MatchWinner AS Euro_Cup_Winners FROM QualificationPlacement WHERE MatchStage = 'FIN'\")\n",
    "second = spark.sql(\"SELECT CASE WHEN Team1 = MatchWinner THEN Team2 ELSE Team1  END AS Euro_Cup_RunnersUp FROM QualificationPlacement WHERE MatchStage = 'FIN'\")\n",
    "third = spark.sql(\"SELECT MatchWinner AS Euro_Cup_ThirdPlace FROM QualificationPlacement WHERE MatchStage = 'TP'\")\n",
    "display(first)\n",
    "display(second)\n",
    "display(third)"
   ]
  },
  {
   "cell_type": "code",
   "execution_count": 0,
   "metadata": {
    "application/vnd.databricks.v1+cell": {
     "cellMetadata": {
      "byteLimit": 2048000,
      "rowLimit": 10000
     },
     "inputWidgets": {},
     "nuid": "69fa6245-4667-43ed-b470-6f0e09d21a86",
     "showTitle": false,
     "title": ""
    }
   },
   "outputs": [
    {
     "output_type": "display_data",
     "data": {
      "image/png": "[encoded data removed]"
     },
     "metadata": {
      "application/vnd.databricks.v1+output": {
       "addedWidgets": {},
       "arguments": {},
       "data": "data:image/png;base64,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\n",
       "datasetInfos": [],
       "metadata": {},
       "removedWidgets": [],
       "type": "image"
      }
     },
     "output_type": "display_data"
    }
   ],
   "source": [
    "# Collecting names from DataFrames\n",
    "first_name = first.collect()[0][\"Euro_Cup_Winners\"]\n",
    "second_name = second.collect()[0][\"Euro_Cup_RunnersUp\"]\n",
    "third_name = third.collect()[0][\"Euro_Cup_ThirdPlace\"]\n",
    "\n",
    "# Create podium visualization\n",
    "plt.figure(figsize=(8, 6))\n",
    "\n",
    "# Create bars with adjusted positions and heights\n",
    "plt.bar(1, 1, color='silver', width=0.5)\n",
    "plt.bar(2, 1.2, color='gold', width=0.5)\n",
    "plt.bar(3, 0.8, color='#cd7f32', width=0.5)\n",
    "\n",
    "# Add text annotations with adjusted positions and rotation\n",
    "plt.text(1, 0.5, second_name, ha='center', va='center', color='white', rotation=90, fontsize=30)\n",
    "plt.text(2, 0.6, first_name, ha='center', va='center', color='black', rotation=90, fontsize=30)\n",
    "plt.text(3, 0.4, third_name, ha='center', va='center', color='white', rotation=90, fontsize=30)\n",
    "\n",
    "# Set axis labels and title\n",
    "plt.title('Euro Cup Podium')\n",
    "\n",
    "# Set x-axis ticks to represent positions\n",
    "plt.xticks([1, 2, 3], ['Silver (2nd)', 'Gold (1st)', 'Bronze (3rd)'])\n",
    "\n",
    "# Hide y-axis\n",
    "plt.gca().axes.get_yaxis().set_visible(False)\n",
    "\n",
    "# Show the plot\n",
    "plt.show()"
   ]
  }
 ],
 "metadata": {
  "application/vnd.databricks.v1+notebook": {
   "dashboards": [],
   "language": "python",
   "notebookMetadata": {
    "pythonIndentUnit": 4
   },
   "notebookName": "EuroSQL_Visible",
   "widgets": {}
  }
 },
 "nbformat": 4,
 "nbformat_minor": 0
}
