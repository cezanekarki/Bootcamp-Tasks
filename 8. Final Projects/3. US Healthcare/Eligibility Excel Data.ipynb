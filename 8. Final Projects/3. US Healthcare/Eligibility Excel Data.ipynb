{
 "cells": [
  {
   "cell_type": "markdown",
   "metadata": {
    "application/vnd.databricks.v1+cell": {
     "cellMetadata": {
      "byteLimit": 2048000,
      "rowLimit": 10000
     },
     "inputWidgets": {},
     "nuid": "92328bae-61f2-49b1-b6cf-b52230ba850a",
     "showTitle": false,
     "title": ""
    }
   },
   "source": [
    "/FileStore/tables/Eligibility_Mock_Data___US_Healthcare_Bootcamp-1.xlsx"
   ]
  },
  {
   "cell_type": "markdown",
   "metadata": {
    "application/vnd.databricks.v1+cell": {
     "cellMetadata": {
      "byteLimit": 2048000,
      "rowLimit": 10000
     },
     "inputWidgets": {},
     "nuid": "af2544cc-dcbe-4305-b188-b939411ad654",
     "showTitle": false,
     "title": ""
    }
   },
   "source": [
    "### List of tables"
   ]
  },
  {
   "cell_type": "code",
   "execution_count": 0,
   "metadata": {
    "application/vnd.databricks.v1+cell": {
     "cellMetadata": {
      "byteLimit": 2048000,
      "rowLimit": 10000
     },
     "inputWidgets": {},
     "nuid": "d71e5a8f-0b4e-43a9-8712-9d4cc7db794d",
     "showTitle": false,
     "title": ""
    }
   },
   "outputs": [
    {
     "output_type": "display_data",
     "data": {
      "text/html": [
       "<style scoped>\n",
       "  .table-result-container {\n",
       "    max-height: 300px;\n",
       "    overflow: auto;\n",
       "  }\n",
       "  table, th, td {\n",
       "    border: 1px solid black;\n",
       "    border-collapse: collapse;\n",
       "  }\n",
       "  th, td {\n",
       "    padding: 5px;\n",
       "  }\n",
       "  th {\n",
       "    text-align: left;\n",
       "  }\n",
       "</style><div class='table-result-container'><table class='table-result'><thead style='background-color: white'><tr><th>path</th><th>name</th><th>size</th><th>modificationTime</th></tr></thead><tbody><tr><td>dbfs:/FileStore/tables/Address-1.xlsx</td><td>Address-1.xlsx</td><td>151315</td><td>1706076168000</td></tr><tr><td>dbfs:/FileStore/tables/Address-10.xlsx</td><td>Address-10.xlsx</td><td>151315</td><td>1706170593000</td></tr><tr><td>dbfs:/FileStore/tables/Address-11.xlsx</td><td>Address-11.xlsx</td><td>151315</td><td>1706174664000</td></tr><tr><td>dbfs:/FileStore/tables/Address-2.xlsx</td><td>Address-2.xlsx</td><td>151315</td><td>1706076328000</td></tr><tr><td>dbfs:/FileStore/tables/Address-3.xlsx</td><td>Address-3.xlsx</td><td>151315</td><td>1706076419000</td></tr><tr><td>dbfs:/FileStore/tables/Address-4.xlsx</td><td>Address-4.xlsx</td><td>151315</td><td>1706077911000</td></tr><tr><td>dbfs:/FileStore/tables/Address-5.xlsx</td><td>Address-5.xlsx</td><td>151315</td><td>1706079849000</td></tr><tr><td>dbfs:/FileStore/tables/Address-6.xlsx</td><td>Address-6.xlsx</td><td>151315</td><td>1706079981000</td></tr><tr><td>dbfs:/FileStore/tables/Address-7.xlsx</td><td>Address-7.xlsx</td><td>151315</td><td>1706159285000</td></tr><tr><td>dbfs:/FileStore/tables/Address-8.xlsx</td><td>Address-8.xlsx</td><td>151315</td><td>1706159471000</td></tr><tr><td>dbfs:/FileStore/tables/Address-9.xlsx</td><td>Address-9.xlsx</td><td>151315</td><td>1706170516000</td></tr><tr><td>dbfs:/FileStore/tables/Address.xlsx</td><td>Address.xlsx</td><td>151315</td><td>1706075733000</td></tr><tr><td>dbfs:/FileStore/tables/Detail-1.csv</td><td>Detail-1.csv</td><td>208476</td><td>1706073750000</td></tr><tr><td>dbfs:/FileStore/tables/Detail-2.csv</td><td>Detail-2.csv</td><td>208476</td><td>1706073853000</td></tr><tr><td>dbfs:/FileStore/tables/Detail-3.csv</td><td>Detail-3.csv</td><td>208476</td><td>1706074097000</td></tr><tr><td>dbfs:/FileStore/tables/Detail-4.csv</td><td>Detail-4.csv</td><td>208476</td><td>1706160363000</td></tr><tr><td>dbfs:/FileStore/tables/Detail-5.csv</td><td>Detail-5.csv</td><td>208476</td><td>1706171090000</td></tr><tr><td>dbfs:/FileStore/tables/Detail-6.csv</td><td>Detail-6.csv</td><td>208476</td><td>1706174664000</td></tr><tr><td>dbfs:/FileStore/tables/Detail.csv</td><td>Detail.csv</td><td>208476</td><td>1706073682000</td></tr><tr><td>dbfs:/FileStore/tables/Drugs_package.csv</td><td>Drugs_package.csv</td><td>27234691</td><td>1707889093000</td></tr><tr><td>dbfs:/FileStore/tables/Drugs_product.csv</td><td>Drugs_product.csv</td><td>38743242</td><td>1707889096000</td></tr><tr><td>dbfs:/FileStore/tables/Eligibility_Mock_Data.xlsx</td><td>Eligibility_Mock_Data.xlsx</td><td>41043</td><td>1710083991000</td></tr><tr><td>dbfs:/FileStore/tables/Project_1-1.xlsx</td><td>Project_1-1.xlsx</td><td>422808</td><td>1706433220000</td></tr><tr><td>dbfs:/FileStore/tables/Project_1.xlsx</td><td>Project_1.xlsx</td><td>422808</td><td>1706176486000</td></tr><tr><td>dbfs:/FileStore/tables/contactinfo-1.txt</td><td>contactinfo-1.txt</td><td>49969</td><td>1706170878000</td></tr><tr><td>dbfs:/FileStore/tables/contactinfo-2.txt</td><td>contactinfo-2.txt</td><td>49969</td><td>1706171261000</td></tr><tr><td>dbfs:/FileStore/tables/contactinfo-3.txt</td><td>contactinfo-3.txt</td><td>49969</td><td>1706174664000</td></tr><tr><td>dbfs:/FileStore/tables/contactinfo.txt</td><td>contactinfo.txt</td><td>49969</td><td>1706159970000</td></tr><tr><td>dbfs:/FileStore/tables/csv/</td><td>csv/</td><td>0</td><td>0</td></tr><tr><td>dbfs:/FileStore/tables/final/</td><td>final/</td><td>0</td><td>0</td></tr><tr><td>dbfs:/FileStore/tables/header-1.json</td><td>header-1.json</td><td>115560</td><td>1706171340000</td></tr><tr><td>dbfs:/FileStore/tables/header-2.json</td><td>header-2.json</td><td>115560</td><td>1706174664000</td></tr><tr><td>dbfs:/FileStore/tables/header.json</td><td>header.json</td><td>115560</td><td>1706160640000</td></tr><tr><td>dbfs:/FileStore/tables/json/</td><td>json/</td><td>0</td><td>0</td></tr><tr><td>dbfs:/FileStore/tables/parquet/</td><td>parquet/</td><td>0</td><td>0</td></tr></tbody></table></div>"
      ]
     },
     "metadata": {
      "application/vnd.databricks.v1+output": {
       "addedWidgets": {},
       "aggData": [],
       "aggError": "",
       "aggOverflow": false,
       "aggSchema": [],
       "aggSeriesLimitReached": false,
       "aggType": "",
       "arguments": {},
       "columnCustomDisplayInfos": {},
       "data": [
        [
         "dbfs:/FileStore/tables/Address-1.xlsx",
         "Address-1.xlsx",
         151315,
         1706076168000
        ],
        [
         "dbfs:/FileStore/tables/Address-10.xlsx",
         "Address-10.xlsx",
         151315,
         1706170593000
        ],
        [
         "dbfs:/FileStore/tables/Address-11.xlsx",
         "Address-11.xlsx",
         151315,
         1706174664000
        ],
        [
         "dbfs:/FileStore/tables/Address-2.xlsx",
         "Address-2.xlsx",
         151315,
         1706076328000
        ],
        [
         "dbfs:/FileStore/tables/Address-3.xlsx",
         "Address-3.xlsx",
         151315,
         1706076419000
        ],
        [
         "dbfs:/FileStore/tables/Address-4.xlsx",
         "Address-4.xlsx",
         151315,
         1706077911000
        ],
        [
         "dbfs:/FileStore/tables/Address-5.xlsx",
         "Address-5.xlsx",
         151315,
         1706079849000
        ],
        [
         "dbfs:/FileStore/tables/Address-6.xlsx",
         "Address-6.xlsx",
         151315,
         1706079981000
        ],
        [
         "dbfs:/FileStore/tables/Address-7.xlsx",
         "Address-7.xlsx",
         151315,
         1706159285000
        ],
        [
         "dbfs:/FileStore/tables/Address-8.xlsx",
         "Address-8.xlsx",
         151315,
         1706159471000
        ],
        [
         "dbfs:/FileStore/tables/Address-9.xlsx",
         "Address-9.xlsx",
         151315,
         1706170516000
        ],
        [
         "dbfs:/FileStore/tables/Address.xlsx",
         "Address.xlsx",
         151315,
         1706075733000
        ],
        [
         "dbfs:/FileStore/tables/Detail-1.csv",
         "Detail-1.csv",
         208476,
         1706073750000
        ],
        [
         "dbfs:/FileStore/tables/Detail-2.csv",
         "Detail-2.csv",
         208476,
         1706073853000
        ],
        [
         "dbfs:/FileStore/tables/Detail-3.csv",
         "Detail-3.csv",
         208476,
         1706074097000
        ],
        [
         "dbfs:/FileStore/tables/Detail-4.csv",
         "Detail-4.csv",
         208476,
         1706160363000
        ],
        [
         "dbfs:/FileStore/tables/Detail-5.csv",
         "Detail-5.csv",
         208476,
         1706171090000
        ],
        [
         "dbfs:/FileStore/tables/Detail-6.csv",
         "Detail-6.csv",
         208476,
         1706174664000
        ],
        [
         "dbfs:/FileStore/tables/Detail.csv",
         "Detail.csv",
         208476,
         1706073682000
        ],
        [
         "dbfs:/FileStore/tables/Drugs_package.csv",
         "Drugs_package.csv",
         27234691,
         1707889093000
        ],
        [
         "dbfs:/FileStore/tables/Drugs_product.csv",
         "Drugs_product.csv",
         38743242,
         1707889096000
        ],
        [
         "dbfs:/FileStore/tables/Eligibility_Mock_Data.xlsx",
         "Eligibility_Mock_Data.xlsx",
         41043,
         1710083991000
        ],
        [
         "dbfs:/FileStore/tables/Project_1-1.xlsx",
         "Project_1-1.xlsx",
         422808,
         1706433220000
        ],
        [
         "dbfs:/FileStore/tables/Project_1.xlsx",
         "Project_1.xlsx",
         422808,
         1706176486000
        ],
        [
         "dbfs:/FileStore/tables/contactinfo-1.txt",
         "contactinfo-1.txt",
         49969,
         1706170878000
        ],
        [
         "dbfs:/FileStore/tables/contactinfo-2.txt",
         "contactinfo-2.txt",
         49969,
         1706171261000
        ],
        [
         "dbfs:/FileStore/tables/contactinfo-3.txt",
         "contactinfo-3.txt",
         49969,
         1706174664000
        ],
        [
         "dbfs:/FileStore/tables/contactinfo.txt",
         "contactinfo.txt",
         49969,
         1706159970000
        ],
        [
         "dbfs:/FileStore/tables/csv/",
         "csv/",
         0,
         0
        ],
        [
         "dbfs:/FileStore/tables/final/",
         "final/",
         0,
         0
        ],
        [
         "dbfs:/FileStore/tables/header-1.json",
         "header-1.json",
         115560,
         1706171340000
        ],
        [
         "dbfs:/FileStore/tables/header-2.json",
         "header-2.json",
         115560,
         1706174664000
        ],
        [
         "dbfs:/FileStore/tables/header.json",
         "header.json",
         115560,
         1706160640000
        ],
        [
         "dbfs:/FileStore/tables/json/",
         "json/",
         0,
         0
        ],
        [
         "dbfs:/FileStore/tables/parquet/",
         "parquet/",
         0,
         0
        ]
       ],
       "datasetInfos": [],
       "dbfsResultPath": null,
       "isJsonSchema": true,
       "metadata": {
        "isDbfsCommandResult": false
       },
       "overflow": false,
       "plotOptions": {
        "customPlotOptions": {},
        "displayType": "table",
        "pivotAggregation": null,
        "pivotColumns": null,
        "xColumns": null,
        "yColumns": null
       },
       "removedWidgets": [],
       "schema": [
        {
         "metadata": "{}",
         "name": "path",
         "type": "\"string\""
        },
        {
         "metadata": "{}",
         "name": "name",
         "type": "\"string\""
        },
        {
         "metadata": "{}",
         "name": "size",
         "type": "\"long\""
        },
        {
         "metadata": "{}",
         "name": "modificationTime",
         "type": "\"long\""
        }
       ],
       "type": "table"
      }
     },
     "output_type": "display_data"
    }
   ],
   "source": [
    "%fs ls dbfs:////FileStore/tables"
   ]
  },
  {
   "cell_type": "markdown",
   "metadata": {
    "application/vnd.databricks.v1+cell": {
     "cellMetadata": {
      "byteLimit": 2048000,
      "rowLimit": 10000
     },
     "inputWidgets": {},
     "nuid": "4688e7f1-5e05-4ba7-a5ca-5be530cf70ef",
     "showTitle": false,
     "title": ""
    }
   },
   "source": [
    "### Excel File Details\n",
    "Changes to tables were made on the file itself for sheet having multiple tables"
   ]
  },
  {
   "cell_type": "code",
   "execution_count": 0,
   "metadata": {
    "application/vnd.databricks.v1+cell": {
     "cellMetadata": {
      "byteLimit": 2048000,
      "rowLimit": 10000
     },
     "inputWidgets": {},
     "nuid": "26a68bf2-7b43-4053-89b0-7b11d3a58f8a",
     "showTitle": false,
     "title": ""
    }
   },
   "outputs": [],
   "source": [
    "sheet_names = [\"Gender_Crosswalk\",\"Relationship_Crosswalk\",\"Group_Crosswalk\",\"Coverage_Crosswalk\",\"Plan_Crosswalk\",\"Enrollment_Mock_Data\", \"Demographics_Mock_Data\"]\n",
    "file_location = \"/FileStore/tables/Eligibility_Mock_Data.xlsx\""
   ]
  },
  {
   "cell_type": "markdown",
   "metadata": {
    "application/vnd.databricks.v1+cell": {
     "cellMetadata": {
      "byteLimit": 2048000,
      "rowLimit": 10000
     },
     "inputWidgets": {},
     "nuid": "e8e6f70c-fdb7-4d64-8a80-842284fa9588",
     "showTitle": false,
     "title": ""
    }
   },
   "source": [
    "### Reading All Sheets"
   ]
  },
  {
   "cell_type": "code",
   "execution_count": 0,
   "metadata": {
    "application/vnd.databricks.v1+cell": {
     "cellMetadata": {
      "byteLimit": 2048000,
      "rowLimit": 10000
     },
     "inputWidgets": {},
     "nuid": "9a1a4014-f6f6-440e-a169-d4109b61e8d4",
     "showTitle": false,
     "title": ""
    }
   },
   "outputs": [
    {
     "output_type": "stream",
     "name": "stdout",
     "output_type": "stream",
     "text": [
      "Sheet Name: Gender_Crosswalk\n"
     ]
    },
    {
     "output_type": "display_data",
     "data": {
      "text/html": [
       "<style scoped>\n",
       "  .table-result-container {\n",
       "    max-height: 300px;\n",
       "    overflow: auto;\n",
       "  }\n",
       "  table, th, td {\n",
       "    border: 1px solid black;\n",
       "    border-collapse: collapse;\n",
       "  }\n",
       "  th, td {\n",
       "    padding: 5px;\n",
       "  }\n",
       "  th {\n",
       "    text-align: left;\n",
       "  }\n",
       "</style><div class='table-result-container'><table class='table-result'><thead style='background-color: white'><tr><th>Code</th><th>Rollup_Code</th><th>Rollup_Description</th></tr></thead><tbody><tr><td>00</td><td>F</td><td>Female</td></tr><tr><td>01</td><td>M</td><td>Male</td></tr><tr><td>02</td><td>U</td><td>Unknown</td></tr></tbody></table></div>"
      ]
     },
     "metadata": {
      "application/vnd.databricks.v1+output": {
       "addedWidgets": {},
       "aggData": [],
       "aggError": "",
       "aggOverflow": false,
       "aggSchema": [],
       "aggSeriesLimitReached": false,
       "aggType": "",
       "arguments": {},
       "columnCustomDisplayInfos": {},
       "data": [
        [
         "00",
         "F",
         "Female"
        ],
        [
         "01",
         "M",
         "Male"
        ],
        [
         "02",
         "U",
         "Unknown"
        ]
       ],
       "datasetInfos": [],
       "dbfsResultPath": null,
       "isJsonSchema": true,
       "metadata": {},
       "overflow": false,
       "plotOptions": {
        "customPlotOptions": {},
        "displayType": "table",
        "pivotAggregation": null,
        "pivotColumns": null,
        "xColumns": null,
        "yColumns": null
       },
       "removedWidgets": [],
       "schema": [
        {
         "metadata": "{}",
         "name": "Code",
         "type": "\"string\""
        },
        {
         "metadata": "{}",
         "name": "Rollup_Code",
         "type": "\"string\""
        },
        {
         "metadata": "{}",
         "name": "Rollup_Description",
         "type": "\"string\""
        }
       ],
       "type": "table"
      }
     },
     "output_type": "display_data"
    },
    {
     "output_type": "stream",
     "name": "stdout",
     "output_type": "stream",
     "text": [
      "Sheet Name: Relationship_Crosswalk\n"
     ]
    },
    {
     "output_type": "display_data",
     "data": {
      "text/html": [
       "<style scoped>\n",
       "  .table-result-container {\n",
       "    max-height: 300px;\n",
       "    overflow: auto;\n",
       "  }\n",
       "  table, th, td {\n",
       "    border: 1px solid black;\n",
       "    border-collapse: collapse;\n",
       "  }\n",
       "  th, td {\n",
       "    padding: 5px;\n",
       "  }\n",
       "  th {\n",
       "    text-align: left;\n",
       "  }\n",
       "</style><div class='table-result-container'><table class='table-result'><thead style='background-color: white'><tr><th>Rollup_Code</th><th>Rollup_Description</th></tr></thead><tbody><tr><td>E</td><td>Self</td></tr><tr><td>S</td><td>Spouse</td></tr><tr><td>F</td><td>Father</td></tr><tr><td>M</td><td>Mother</td></tr><tr><td>C1</td><td>Son</td></tr><tr><td>C2</td><td>Daughter</td></tr><tr><td>G1</td><td>Grand Father</td></tr><tr><td>G2</td><td>Grand Mother</td></tr><tr><td>G3</td><td>Grand Son</td></tr><tr><td>G4</td><td>Grand Daughter</td></tr><tr><td>A1</td><td>Adopted Son</td></tr><tr><td>A2</td><td>Adapted Daughter</td></tr><tr><td>N</td><td>Niece</td></tr><tr><td>F</td><td>Fiance</td></tr><tr><td>D1</td><td>Divorced Husband</td></tr><tr><td>D2</td><td>Divorced Wife</td></tr><tr><td>U</td><td>Unknown</td></tr></tbody></table></div>"
      ]
     },
     "metadata": {
      "application/vnd.databricks.v1+output": {
       "addedWidgets": {},
       "aggData": [],
       "aggError": "",
       "aggOverflow": false,
       "aggSchema": [],
       "aggSeriesLimitReached": false,
       "aggType": "",
       "arguments": {},
       "columnCustomDisplayInfos": {},
       "data": [
        [
         "E",
         "Self"
        ],
        [
         "S",
         "Spouse"
        ],
        [
         "F",
         "Father"
        ],
        [
         "M",
         "Mother"
        ],
        [
         "C1",
         "Son"
        ],
        [
         "C2",
         "Daughter"
        ],
        [
         "G1",
         "Grand Father"
        ],
        [
         "G2",
         "Grand Mother"
        ],
        [
         "G3",
         "Grand Son"
        ],
        [
         "G4",
         "Grand Daughter"
        ],
        [
         "A1",
         "Adopted Son"
        ],
        [
         "A2",
         "Adapted Daughter"
        ],
        [
         "N",
         "Niece"
        ],
        [
         "F",
         "Fiance"
        ],
        [
         "D1",
         "Divorced Husband"
        ],
        [
         "D2",
         "Divorced Wife"
        ],
        [
         "U",
         "Unknown"
        ]
       ],
       "datasetInfos": [],
       "dbfsResultPath": null,
       "isJsonSchema": true,
       "metadata": {},
       "overflow": false,
       "plotOptions": {
        "customPlotOptions": {},
        "displayType": "table",
        "pivotAggregation": null,
        "pivotColumns": null,
        "xColumns": null,
        "yColumns": null
       },
       "removedWidgets": [],
       "schema": [
        {
         "metadata": "{}",
         "name": "Rollup_Code",
         "type": "\"string\""
        },
        {
         "metadata": "{}",
         "name": "Rollup_Description",
         "type": "\"string\""
        }
       ],
       "type": "table"
      }
     },
     "output_type": "display_data"
    },
    {
     "output_type": "stream",
     "name": "stdout",
     "output_type": "stream",
     "text": [
      "Sheet Name: Group_Crosswalk\n"
     ]
    },
    {
     "output_type": "display_data",
     "data": {
      "text/html": [
       "<style scoped>\n",
       "  .table-result-container {\n",
       "    max-height: 300px;\n",
       "    overflow: auto;\n",
       "  }\n",
       "  table, th, td {\n",
       "    border: 1px solid black;\n",
       "    border-collapse: collapse;\n",
       "  }\n",
       "  th, td {\n",
       "    padding: 5px;\n",
       "  }\n",
       "  th {\n",
       "    text-align: left;\n",
       "  }\n",
       "</style><div class='table-result-container'><table class='table-result'><thead style='background-color: white'><tr><th>GROUP_ID</th><th>GROUP_NAME</th></tr></thead><tbody><tr><td>8</td><td>TechKraft Inc</td></tr><tr><td>1</td><td>Abacus Insights</td></tr><tr><td>4</td><td>Digital Convergence Technologies</td></tr><tr><td>3</td><td>Facebook</td></tr><tr><td>2</td><td>Google</td></tr></tbody></table></div>"
      ]
     },
     "metadata": {
      "application/vnd.databricks.v1+output": {
       "addedWidgets": {},
       "aggData": [],
       "aggError": "",
       "aggOverflow": false,
       "aggSchema": [],
       "aggSeriesLimitReached": false,
       "aggType": "",
       "arguments": {},
       "columnCustomDisplayInfos": {},
       "data": [
        [
         "8",
         "TechKraft Inc"
        ],
        [
         "1",
         "Abacus Insights"
        ],
        [
         "4",
         "Digital Convergence Technologies"
        ],
        [
         "3",
         "Facebook"
        ],
        [
         "2",
         "Google"
        ]
       ],
       "datasetInfos": [],
       "dbfsResultPath": null,
       "isJsonSchema": true,
       "metadata": {},
       "overflow": false,
       "plotOptions": {
        "customPlotOptions": {},
        "displayType": "table",
        "pivotAggregation": null,
        "pivotColumns": null,
        "xColumns": null,
        "yColumns": null
       },
       "removedWidgets": [],
       "schema": [
        {
         "metadata": "{}",
         "name": "GROUP_ID",
         "type": "\"string\""
        },
        {
         "metadata": "{}",
         "name": "GROUP_NAME",
         "type": "\"string\""
        }
       ],
       "type": "table"
      }
     },
     "output_type": "display_data"
    },
    {
     "output_type": "stream",
     "name": "stdout",
     "output_type": "stream",
     "text": [
      "Sheet Name: Coverage_Crosswalk\n"
     ]
    },
    {
     "output_type": "display_data",
     "data": {
      "text/html": [
       "<style scoped>\n",
       "  .table-result-container {\n",
       "    max-height: 300px;\n",
       "    overflow: auto;\n",
       "  }\n",
       "  table, th, td {\n",
       "    border: 1px solid black;\n",
       "    border-collapse: collapse;\n",
       "  }\n",
       "  th, td {\n",
       "    padding: 5px;\n",
       "  }\n",
       "  th {\n",
       "    text-align: left;\n",
       "  }\n",
       "</style><div class='table-result-container'><table class='table-result'><thead style='background-color: white'><tr><th>Coverage_ID</th><th>Coverage_Description</th></tr></thead><tbody><tr><td>E</td><td>Employee Only</td></tr><tr><td>ES</td><td>Employee and Spouse</td></tr><tr><td>F</td><td>Family</td></tr><tr><td>E1C</td><td>Employee and 1 Child</td></tr><tr><td>EC</td><td>Employee and Childrens</td></tr><tr><td>EP</td><td>Employee and Parents</td></tr><tr><td>U</td><td>Unknown</td></tr></tbody></table></div>"
      ]
     },
     "metadata": {
      "application/vnd.databricks.v1+output": {
       "addedWidgets": {},
       "aggData": [],
       "aggError": "",
       "aggOverflow": false,
       "aggSchema": [],
       "aggSeriesLimitReached": false,
       "aggType": "",
       "arguments": {},
       "columnCustomDisplayInfos": {},
       "data": [
        [
         "E",
         "Employee Only"
        ],
        [
         "ES",
         "Employee and Spouse"
        ],
        [
         "F",
         "Family"
        ],
        [
         "E1C",
         "Employee and 1 Child"
        ],
        [
         "EC",
         "Employee and Childrens"
        ],
        [
         "EP",
         "Employee and Parents"
        ],
        [
         "U",
         "Unknown"
        ]
       ],
       "datasetInfos": [],
       "dbfsResultPath": null,
       "isJsonSchema": true,
       "metadata": {},
       "overflow": false,
       "plotOptions": {
        "customPlotOptions": {},
        "displayType": "table",
        "pivotAggregation": null,
        "pivotColumns": null,
        "xColumns": null,
        "yColumns": null
       },
       "removedWidgets": [],
       "schema": [
        {
         "metadata": "{}",
         "name": "Coverage_ID",
         "type": "\"string\""
        },
        {
         "metadata": "{}",
         "name": "Coverage_Description",
         "type": "\"string\""
        }
       ],
       "type": "table"
      }
     },
     "output_type": "display_data"
    },
    {
     "output_type": "stream",
     "name": "stdout",
     "output_type": "stream",
     "text": [
      "Sheet Name: Plan_Crosswalk\n"
     ]
    },
    {
     "output_type": "display_data",
     "data": {
      "text/html": [
       "<style scoped>\n",
       "  .table-result-container {\n",
       "    max-height: 300px;\n",
       "    overflow: auto;\n",
       "  }\n",
       "  table, th, td {\n",
       "    border: 1px solid black;\n",
       "    border-collapse: collapse;\n",
       "  }\n",
       "  th, td {\n",
       "    padding: 5px;\n",
       "  }\n",
       "  th {\n",
       "    text-align: left;\n",
       "  }\n",
       "</style><div class='table-result-container'><table class='table-result'><thead style='background-color: white'><tr><th>PLAN_ID</th><th>Plan Name</th><th>BENEFIT_TYPE</th><th>EFFECTIVE_DATE</th><th>TERMINATION_DATE</th></tr></thead><tbody><tr><td>0.0</td><td>Plan A</td><td>Medical</td><td>43101.0</td><td>43465.0</td></tr><tr><td>1.0</td><td>Plan B</td><td>Medical and Dental</td><td>43101.0</td><td>43465.0</td></tr><tr><td>2.0</td><td>Plan C</td><td>Medical and Vision</td><td>43101.0</td><td>43465.0</td></tr><tr><td>3.0</td><td>Plan D</td><td>Medical, Dental and Vision</td><td>43101.0</td><td>43465.0</td></tr><tr><td>4.0</td><td>Plan E</td><td>Medical</td><td>43466.0</td><td>43830.0</td></tr><tr><td>5.0</td><td>Plan F</td><td>Medical and Dental</td><td>43466.0</td><td>43830.0</td></tr><tr><td>6.0</td><td>Plan G</td><td>Medical and Vision</td><td>43466.0</td><td>43830.0</td></tr><tr><td>7.0</td><td>Plan H</td><td>Medical, Dental and Vision</td><td>43466.0</td><td>43830.0</td></tr><tr><td>8.0</td><td>Plan I</td><td>Medical</td><td>43831.0</td><td>44196.0</td></tr><tr><td>9.0</td><td>Plan J</td><td>Medical and Dental</td><td>43831.0</td><td>44196.0</td></tr><tr><td>10.0</td><td>Plan K</td><td>Medical and Vision</td><td>43831.0</td><td>44196.0</td></tr><tr><td>11.0</td><td>Plan L</td><td>Medical, Dental and Vision</td><td>43831.0</td><td>44196.0</td></tr><tr><td>12.0</td><td>Plan M</td><td>Medical</td><td>44197.0</td><td>44561.0</td></tr><tr><td>13.0</td><td>Plan N</td><td>Medical and Dental</td><td>44197.0</td><td>44561.0</td></tr><tr><td>14.0</td><td>Plan O</td><td>Medical and Vision</td><td>44197.0</td><td>44561.0</td></tr><tr><td>15.0</td><td>Plan P</td><td>Medical, Dental and Vision</td><td>44197.0</td><td>44561.0</td></tr></tbody></table></div>"
      ]
     },
     "metadata": {
      "application/vnd.databricks.v1+output": {
       "addedWidgets": {},
       "aggData": [],
       "aggError": "",
       "aggOverflow": false,
       "aggSchema": [],
       "aggSeriesLimitReached": false,
       "aggType": "",
       "arguments": {},
       "columnCustomDisplayInfos": {},
       "data": [
        [
         0.0,
         "Plan A",
         "Medical",
         43101.0,
         43465.0
        ],
        [
         1.0,
         "Plan B",
         "Medical and Dental",
         43101.0,
         43465.0
        ],
        [
         2.0,
         "Plan C",
         "Medical and Vision",
         43101.0,
         43465.0
        ],
        [
         3.0,
         "Plan D",
         "Medical, Dental and Vision",
         43101.0,
         43465.0
        ],
        [
         4.0,
         "Plan E",
         "Medical",
         43466.0,
         43830.0
        ],
        [
         5.0,
         "Plan F",
         "Medical and Dental",
         43466.0,
         43830.0
        ],
        [
         6.0,
         "Plan G",
         "Medical and Vision",
         43466.0,
         43830.0
        ],
        [
         7.0,
         "Plan H",
         "Medical, Dental and Vision",
         43466.0,
         43830.0
        ],
        [
         8.0,
         "Plan I",
         "Medical",
         43831.0,
         44196.0
        ],
        [
         9.0,
         "Plan J",
         "Medical and Dental",
         43831.0,
         44196.0
        ],
        [
         10.0,
         "Plan K",
         "Medical and Vision",
         43831.0,
         44196.0
        ],
        [
         11.0,
         "Plan L",
         "Medical, Dental and Vision",
         43831.0,
         44196.0
        ],
        [
         12.0,
         "Plan M",
         "Medical",
         44197.0,
         44561.0
        ],
        [
         13.0,
         "Plan N",
         "Medical and Dental",
         44197.0,
         44561.0
        ],
        [
         14.0,
         "Plan O",
         "Medical and Vision",
         44197.0,
         44561.0
        ],
        [
         15.0,
         "Plan P",
         "Medical, Dental and Vision",
         44197.0,
         44561.0
        ]
       ],
       "datasetInfos": [],
       "dbfsResultPath": null,
       "isJsonSchema": true,
       "metadata": {},
       "overflow": false,
       "plotOptions": {
        "customPlotOptions": {},
        "displayType": "table",
        "pivotAggregation": null,
        "pivotColumns": null,
        "xColumns": null,
        "yColumns": null
       },
       "removedWidgets": [],
       "schema": [
        {
         "metadata": "{}",
         "name": "PLAN_ID",
         "type": "\"double\""
        },
        {
         "metadata": "{}",
         "name": "Plan Name",
         "type": "\"string\""
        },
        {
         "metadata": "{}",
         "name": "BENEFIT_TYPE",
         "type": "\"string\""
        },
        {
         "metadata": "{}",
         "name": "EFFECTIVE_DATE",
         "type": "\"double\""
        },
        {
         "metadata": "{}",
         "name": "TERMINATION_DATE",
         "type": "\"double\""
        }
       ],
       "type": "table"
      }
     },
     "output_type": "display_data"
    },
    {
     "output_type": "stream",
     "name": "stdout",
     "output_type": "stream",
     "text": [
      "Sheet Name: Enrollment_Mock_Data\n"
     ]
    },
    {
     "output_type": "display_data",
     "data": {
      "text/html": [
       "<style scoped>\n",
       "  .table-result-container {\n",
       "    max-height: 300px;\n",
       "    overflow: auto;\n",
       "  }\n",
       "  table, th, td {\n",
       "    border: 1px solid black;\n",
       "    border-collapse: collapse;\n",
       "  }\n",
       "  th, td {\n",
       "    padding: 5px;\n",
       "  }\n",
       "  th {\n",
       "    text-align: left;\n",
       "  }\n",
       "</style><div class='table-result-container'><table class='table-result'><thead style='background-color: white'><tr><th>MEMBER_ID</th><th>MEMBER_STATUS</th><th>GROUP_ID</th><th>COVERAGE_TYPE</th><th>PLAN_ID</th><th>VENDOR</th><th>EFFECTIVE_DATE</th><th>TERMINATION_DATE</th></tr></thead><tbody><tr><td>173400</td><td>ACTIVE</td><td>1</td><td>E1C</td><td>11.0</td><td>Cigna</td><td>2021-01-01T00:00:00.000+0000</td><td>2021-02-28</td></tr><tr><td>83300</td><td>ACTIVE</td><td>1</td><td>ES</td><td>0.0</td><td>Cigna</td><td>2019-12-01T00:00:00.000+0000</td><td>2020-01-31</td></tr><tr><td>106800</td><td>ACTIVE</td><td>1</td><td>U</td><td>4.0</td><td>Aetna</td><td>2020-09-01T00:00:00.000+0000</td><td>2020-10-31</td></tr><tr><td>52900</td><td>ACTIVE</td><td>1</td><td>ES</td><td>15.0</td><td>Aetna</td><td>2021-02-01T00:00:00.000+0000</td><td>2021-03-31</td></tr><tr><td>97600</td><td>ACTIVE</td><td>1</td><td>E</td><td>10.0</td><td>Aetna</td><td>2021-01-01T00:00:00.000+0000</td><td>2021-01-31</td></tr><tr><td>22000</td><td>ACTIVE</td><td>1</td><td>EC</td><td>15.0</td><td>Cigna</td><td>2020-03-01T00:00:00.000+0000</td><td>2020-04-30</td></tr><tr><td>22900</td><td>ACTIVE</td><td>1</td><td>E</td><td>1.0</td><td>Aetna</td><td>2020-07-01T00:00:00.000+0000</td><td>2020-07-31</td></tr><tr><td>122500</td><td>ACTIVE</td><td>1</td><td>F</td><td>10.0</td><td>Cigna</td><td>2020-11-01T00:00:00.000+0000</td><td>2020-12-31</td></tr><tr><td>21800</td><td>ACTIVE</td><td>8</td><td>E1C</td><td>4.0</td><td>Aetna</td><td>2020-12-01T00:00:00.000+0000</td><td>2021-01-31</td></tr><tr><td>145000</td><td>ACTIVE</td><td>1</td><td>F</td><td>1.0</td><td>Cigna</td><td>2020-03-01T00:00:00.000+0000</td><td>2020-04-30</td></tr><tr><td>150400</td><td>ACTIVE</td><td>1</td><td>E</td><td>0.0</td><td>Aetna</td><td>2020-12-01T00:00:00.000+0000</td><td>2021-01-31</td></tr><tr><td>114100</td><td>ACTIVE</td><td>8</td><td>F</td><td>10.0</td><td>Cigna</td><td>2019-12-01T00:00:00.000+0000</td><td>2020-01-31</td></tr><tr><td>201500</td><td>ACTIVE</td><td>1</td><td>E</td><td>4.0</td><td>Aetna</td><td>2020-08-01T00:00:00.000+0000</td><td>2020-09-30</td></tr><tr><td>215600</td><td>ACTIVE</td><td>8</td><td>F</td><td>8.0</td><td>Aetna</td><td>2020-12-01T00:00:00.000+0000</td><td>2021-01-31</td></tr><tr><td>216900</td><td>ACTIVE</td><td>4</td><td>EC</td><td>1.0</td><td>Cigna</td><td>2020-10-01T00:00:00.000+0000</td><td>2020-11-30</td></tr><tr><td>207000</td><td>ACTIVE</td><td>8</td><td>E</td><td>6.0</td><td>Aetna</td><td>2020-04-01T00:00:00.000+0000</td><td>2020-05-31</td></tr><tr><td>124700</td><td>ACTIVE</td><td>1</td><td>ES</td><td>6.0</td><td>Aetna</td><td>2020-11-01T00:00:00.000+0000</td><td>2020-12-31</td></tr><tr><td>222700</td><td>ACTIVE</td><td>1</td><td>F</td><td>3.0</td><td>Aetna</td><td>2020-08-01T00:00:00.000+0000</td><td>2020-09-30</td></tr><tr><td>190000</td><td>ACTIVE</td><td>1</td><td>ES</td><td>9.0</td><td>Aetna</td><td>2020-07-01T00:00:00.000+0000</td><td>2020-08-31</td></tr><tr><td>182000</td><td>ACTIVE</td><td>1</td><td>F</td><td>15.0</td><td>Aetna</td><td>2020-12-01T00:00:00.000+0000</td><td>2021-01-31</td></tr><tr><td>139000</td><td>ACTIVE</td><td>1</td><td>EC</td><td>10.0</td><td>Cigna</td><td>2020-05-01T00:00:00.000+0000</td><td>2020-06-30</td></tr><tr><td>157100</td><td>ACTIVE</td><td>4</td><td>F</td><td>5.0</td><td>Aetna</td><td>2020-12-01T00:00:00.000+0000</td><td>2021-01-31</td></tr><tr><td>110800</td><td>TERMED</td><td>8</td><td>E1C</td><td>8.0</td><td>Cigna</td><td>2020-06-01T00:00:00.000+0000</td><td>2020-07-31</td></tr><tr><td>158600</td><td>ACTIVE</td><td>1</td><td>EP</td><td>14.0</td><td>Cigna</td><td>2020-02-01T00:00:00.000+0000</td><td>2020-03-31</td></tr><tr><td>190600</td><td>ACTIVE</td><td>2</td><td>U</td><td>5.0</td><td>Aetna</td><td>2021-01-01T00:00:00.000+0000</td><td>2021-01-31</td></tr><tr><td>21700</td><td>ACTIVE</td><td>1</td><td>EC</td><td>0.0</td><td>Aetna</td><td>2020-01-01T00:00:00.000+0000</td><td>2020-02-29</td></tr><tr><td>216300</td><td>TERMED</td><td>3</td><td>EC</td><td>9.0</td><td>Aetna</td><td>2020-09-01T00:00:00.000+0000</td><td>2020-10-31</td></tr><tr><td>218500</td><td>TERMED</td><td>1</td><td>F</td><td>2.0</td><td>Cigna</td><td>2019-12-01T00:00:00.000+0000</td><td>2019-12-31</td></tr><tr><td>37600</td><td>ACTIVE</td><td>1</td><td>ES</td><td>15.0</td><td>Aetna</td><td>2020-03-01T00:00:00.000+0000</td><td>2020-04-30</td></tr><tr><td>93800</td><td>ACTIVE</td><td>1</td><td>E1C</td><td>3.0</td><td>Cigna</td><td>2020-07-01T00:00:00.000+0000</td><td>2020-07-31</td></tr><tr><td>33500</td><td>TERMED</td><td>8</td><td>F</td><td>14.0</td><td>Aetna</td><td>2020-01-01T00:00:00.000+0000</td><td>2020-02-29</td></tr><tr><td>58800</td><td>ACTIVE</td><td>1</td><td>E1C</td><td>4.0</td><td>Cigna</td><td>2021-01-01T00:00:00.000+0000</td><td>2021-02-28</td></tr><tr><td>106900</td><td>ACTIVE</td><td>8</td><td>U</td><td>12.0</td><td>Cigna</td><td>2021-01-01T00:00:00.000+0000</td><td>2021-02-28</td></tr><tr><td>93100</td><td>ACTIVE</td><td>8</td><td>U</td><td>15.0</td><td>Aetna</td><td>2020-01-01T00:00:00.000+0000</td><td>2020-02-29</td></tr><tr><td>17200</td><td>ACTIVE</td><td>4</td><td>EC</td><td>0.0</td><td>Cigna</td><td>2020-05-01T00:00:00.000+0000</td><td>2020-06-30</td></tr><tr><td>32700</td><td>ACTIVE</td><td>1</td><td>ES</td><td>1.0</td><td>Aetna</td><td>2021-02-01T00:00:00.000+0000</td><td>2021-03-31</td></tr><tr><td>22700</td><td>ACTIVE</td><td>1</td><td>U</td><td>4.0</td><td>Cigna</td><td>2021-02-01T00:00:00.000+0000</td><td>2021-03-31</td></tr><tr><td>46700</td><td>ACTIVE</td><td>4</td><td>E</td><td>5.0</td><td>Cigna</td><td>2020-12-01T00:00:00.000+0000</td><td>2021-01-31</td></tr><tr><td>27400</td><td>ACTIVE</td><td>1</td><td>E1C</td><td>6.0</td><td>Cigna</td><td>2020-07-01T00:00:00.000+0000</td><td>2020-08-31</td></tr><tr><td>14000</td><td>ACTIVE</td><td>1</td><td>F</td><td>6.0</td><td>Aetna</td><td>2020-11-01T00:00:00.000+0000</td><td>2020-12-31</td></tr><tr><td>36400</td><td>ACTIVE</td><td>1</td><td>EC</td><td>4.0</td><td>Cigna</td><td>2021-01-01T00:00:00.000+0000</td><td>2021-02-28</td></tr><tr><td>44800</td><td>ACTIVE</td><td>1</td><td>E</td><td>3.0</td><td>Cigna</td><td>2020-05-01T00:00:00.000+0000</td><td>2020-06-30</td></tr><tr><td>203300</td><td>ACTIVE</td><td>1</td><td>U</td><td>5.0</td><td>Cigna</td><td>2020-02-01T00:00:00.000+0000</td><td>2020-03-31</td></tr><tr><td>90300</td><td>ACTIVE</td><td>1</td><td>F</td><td>10.0</td><td>Aetna</td><td>2020-01-01T00:00:00.000+0000</td><td>2020-01-31</td></tr><tr><td>90500</td><td>ACTIVE</td><td>1</td><td>EP</td><td>11.0</td><td>Aetna</td><td>2020-11-01T00:00:00.000+0000</td><td>2020-12-31</td></tr><tr><td>112400</td><td>ACTIVE</td><td>1</td><td>U</td><td>10.0</td><td>Aetna</td><td>2020-06-01T00:00:00.000+0000</td><td>2020-07-31</td></tr><tr><td>160400</td><td>ACTIVE</td><td>8</td><td>E</td><td>1.0</td><td>Cigna</td><td>2020-08-01T00:00:00.000+0000</td><td>2020-09-30</td></tr><tr><td>74800</td><td>ACTIVE</td><td>3</td><td>F</td><td>9.0</td><td>Aetna</td><td>2020-11-01T00:00:00.000+0000</td><td>2020-12-31</td></tr><tr><td>55900</td><td>TERMED</td><td>8</td><td>ES</td><td>4.0</td><td>Aetna</td><td>2020-04-01T00:00:00.000+0000</td><td>2020-05-31</td></tr><tr><td>65100</td><td>ACTIVE</td><td>1</td><td>EC</td><td>15.0</td><td>Aetna</td><td>2020-05-01T00:00:00.000+0000</td><td>2020-06-30</td></tr><tr><td>75800</td><td>ACTIVE</td><td>1</td><td>EC</td><td>6.0</td><td>Cigna</td><td>2021-02-01T00:00:00.000+0000</td><td>2021-03-31</td></tr><tr><td>66200</td><td>ACTIVE</td><td>1</td><td>U</td><td>6.0</td><td>Aetna</td><td>2021-02-01T00:00:00.000+0000</td><td>2021-03-31</td></tr><tr><td>39900</td><td>ACTIVE</td><td>8</td><td>EC</td><td>3.0</td><td>Cigna</td><td>2020-03-01T00:00:00.000+0000</td><td>2020-04-30</td></tr><tr><td>91400</td><td>ACTIVE</td><td>1</td><td>E</td><td>15.0</td><td>Cigna</td><td>2021-02-01T00:00:00.000+0000</td><td>2021-03-31</td></tr><tr><td>52200</td><td>TERMED</td><td>4</td><td>E</td><td>14.0</td><td>Cigna</td><td>2020-08-01T00:00:00.000+0000</td><td>2020-09-30</td></tr><tr><td>49100</td><td>ACTIVE</td><td>8</td><td>E1C</td><td>10.0</td><td>Cigna</td><td>2020-10-01T00:00:00.000+0000</td><td>2020-11-30</td></tr><tr><td>102200</td><td>ACTIVE</td><td>1</td><td>E1C</td><td>5.0</td><td>Aetna</td><td>2020-12-01T00:00:00.000+0000</td><td>2021-01-31</td></tr><tr><td>133600</td><td>TERMED</td><td>3</td><td>EC</td><td>7.0</td><td>Aetna</td><td>2020-10-01T00:00:00.000+0000</td><td>2020-11-30</td></tr><tr><td>193900</td><td>ACTIVE</td><td>8</td><td>E1C</td><td>12.0</td><td>Cigna</td><td>2020-02-01T00:00:00.000+0000</td><td>2020-03-31</td></tr><tr><td>126500</td><td>ACTIVE</td><td>1</td><td>ES</td><td>2.0</td><td>Cigna</td><td>2020-12-01T00:00:00.000+0000</td><td>2021-01-31</td></tr><tr><td>208500</td><td>ACTIVE</td><td>1</td><td>U</td><td>10.0</td><td>Aetna</td><td>2021-02-01T00:00:00.000+0000</td><td>2021-03-31</td></tr><tr><td>176200</td><td>ACTIVE</td><td>1</td><td>E</td><td>15.0</td><td>Aetna</td><td>2020-12-01T00:00:00.000+0000</td><td>2021-01-31</td></tr><tr><td>25500</td><td>ACTIVE</td><td>1</td><td>EC</td><td>14.0</td><td>Cigna</td><td>2021-02-01T00:00:00.000+0000</td><td>2021-03-31</td></tr><tr><td>153300</td><td>ACTIVE</td><td>1</td><td>EC</td><td>6.0</td><td>Cigna</td><td>2020-06-01T00:00:00.000+0000</td><td>2020-07-31</td></tr><tr><td>206200</td><td>ACTIVE</td><td>4</td><td>EP</td><td>14.0</td><td>Aetna</td><td>2020-05-01T00:00:00.000+0000</td><td>2020-06-30</td></tr><tr><td>224200</td><td>ACTIVE</td><td>8</td><td>E</td><td>11.0</td><td>Cigna</td><td>2021-02-01T00:00:00.000+0000</td><td>2021-03-31</td></tr><tr><td>171200</td><td>TERMED</td><td>8</td><td>E</td><td>5.0</td><td>Cigna</td><td>2019-12-01T00:00:00.000+0000</td><td>2020-01-31</td></tr><tr><td>185200</td><td>ACTIVE</td><td>4</td><td>EP</td><td>10.0</td><td>Cigna</td><td>2020-04-01T00:00:00.000+0000</td><td>2020-05-31</td></tr><tr><td>185400</td><td>ACTIVE</td><td>4</td><td>F</td><td>12.0</td><td>Cigna</td><td>2020-07-01T00:00:00.000+0000</td><td>2020-08-31</td></tr><tr><td>210200</td><td>ACTIVE</td><td>1</td><td>F</td><td>1.0</td><td>Cigna</td><td>2020-12-01T00:00:00.000+0000</td><td>2021-01-31</td></tr><tr><td>205400</td><td>ACTIVE</td><td>8</td><td>ES</td><td>10.0</td><td>Aetna</td><td>2020-05-01T00:00:00.000+0000</td><td>2020-06-30</td></tr><tr><td>178000</td><td>ACTIVE</td><td>1</td><td>F</td><td>5.0</td><td>Cigna</td><td>2020-12-01T00:00:00.000+0000</td><td>2021-01-31</td></tr><tr><td>144400</td><td>ACTIVE</td><td>3</td><td>ES</td><td>10.0</td><td>Aetna</td><td>2020-08-01T00:00:00.000+0000</td><td>2020-09-30</td></tr><tr><td>181900</td><td>ACTIVE</td><td>4</td><td>EP</td><td>0.0</td><td>Aetna</td><td>2020-05-01T00:00:00.000+0000</td><td>2020-06-30</td></tr><tr><td>213300</td><td>ACTIVE</td><td>8</td><td>F</td><td>15.0</td><td>Cigna</td><td>2021-02-01T00:00:00.000+0000</td><td>2021-03-31</td></tr><tr><td>156400</td><td>ACTIVE</td><td>4</td><td>EC</td><td>2.0</td><td>Aetna</td><td>2020-03-01T00:00:00.000+0000</td><td>2020-03-31</td></tr><tr><td>100000</td><td>ACTIVE</td><td>2</td><td>E1C</td><td>7.0</td><td>Cigna</td><td>2020-10-01T00:00:00.000+0000</td><td>2020-11-30</td></tr><tr><td>201100</td><td>ACTIVE</td><td>1</td><td>E1C</td><td>10.0</td><td>Aetna</td><td>2020-03-01T00:00:00.000+0000</td><td>2020-04-30</td></tr><tr><td>201400</td><td>ACTIVE</td><td>1</td><td>ES</td><td>8.0</td><td>Cigna</td><td>2020-11-01T00:00:00.000+0000</td><td>2020-11-30</td></tr><tr><td>130400</td><td>ACTIVE</td><td>8</td><td>F</td><td>1.0</td><td>Aetna</td><td>2021-03-01T00:00:00.000+0000</td><td>2021-04-30</td></tr><tr><td>142600</td><td>ACTIVE</td><td>1</td><td>E</td><td>13.0</td><td>Aetna</td><td>2020-06-01T00:00:00.000+0000</td><td>2020-06-30</td></tr><tr><td>152200</td><td>ACTIVE</td><td>3</td><td>ES</td><td>12.0</td><td>Cigna</td><td>2020-09-01T00:00:00.000+0000</td><td>2020-10-31</td></tr><tr><td>152200</td><td>ACTIVE</td><td>3</td><td>EC</td><td>10.0</td><td>Cigna</td><td>2021-01-01T00:00:00.000+0000</td><td>2021-02-28</td></tr><tr><td>197900</td><td>ACTIVE</td><td>8</td><td>EP</td><td>13.0</td><td>Aetna</td><td>2021-01-01T00:00:00.000+0000</td><td>2021-02-28</td></tr><tr><td>62900</td><td>ACTIVE</td><td>3</td><td>F</td><td>11.0</td><td>Aetna</td><td>2020-12-01T00:00:00.000+0000</td><td>2021-01-31</td></tr><tr><td>147700</td><td>TERMED</td><td>8</td><td>E1C</td><td>9.0</td><td>Cigna</td><td>2020-03-01T00:00:00.000+0000</td><td>2020-04-30</td></tr><tr><td>86400</td><td>TERMED</td><td>1</td><td>ES</td><td>10.0</td><td>Aetna</td><td>2021-02-01T00:00:00.000+0000</td><td>2021-03-31</td></tr><tr><td>18200</td><td>ACTIVE</td><td>3</td><td>ES</td><td>14.0</td><td>Aetna</td><td>2020-11-01T00:00:00.000+0000</td><td>2020-12-31</td></tr><tr><td>18200</td><td>ACTIVE</td><td>3</td><td>F</td><td>11.0</td><td>Cigna</td><td>2020-07-01T00:00:00.000+0000</td><td>2020-08-31</td></tr><tr><td>18200</td><td>ACTIVE</td><td>3</td><td>ES</td><td>4.0</td><td>Aetna</td><td>2020-10-01T00:00:00.000+0000</td><td>2020-11-30</td></tr><tr><td>109600</td><td>ACTIVE</td><td>1</td><td>F</td><td>4.0</td><td>Cigna</td><td>2020-08-01T00:00:00.000+0000</td><td>2020-09-30</td></tr><tr><td>94700</td><td>ACTIVE</td><td>4</td><td>E1C</td><td>4.0</td><td>Aetna</td><td>2021-01-01T00:00:00.000+0000</td><td>2021-02-28</td></tr><tr><td>105800</td><td>ACTIVE</td><td>1</td><td>U</td><td>3.0</td><td>Aetna</td><td>2020-11-01T00:00:00.000+0000</td><td>2020-12-31</td></tr><tr><td>210000</td><td>ACTIVE</td><td>3</td><td>E</td><td>12.0</td><td>Aetna</td><td>2021-01-01T00:00:00.000+0000</td><td>2021-02-28</td></tr><tr><td>1900</td><td>ACTIVE</td><td>1</td><td>F</td><td>3.0</td><td>Aetna</td><td>2020-07-01T00:00:00.000+0000</td><td>2020-08-31</td></tr><tr><td>2700</td><td>ACTIVE</td><td>8</td><td>EC</td><td>13.0</td><td>Cigna</td><td>2021-04-01T00:00:00.000+0000</td><td>2021-05-31</td></tr><tr><td>2800</td><td>ACTIVE</td><td>1</td><td>ES</td><td>3.0</td><td>Aetna</td><td>2020-04-01T00:00:00.000+0000</td><td>2020-05-31</td></tr><tr><td>117100</td><td>ACTIVE</td><td>3</td><td>E1C</td><td>6.0</td><td>Aetna</td><td>2020-08-01T00:00:00.000+0000</td><td>2020-09-30</td></tr><tr><td>77900</td><td>ACTIVE</td><td>4</td><td>ES</td><td>6.0</td><td>Aetna</td><td>2020-10-01T00:00:00.000+0000</td><td>2020-11-30</td></tr></tbody></table></div>"
      ]
     },
     "metadata": {
      "application/vnd.databricks.v1+output": {
       "addedWidgets": {},
       "aggData": [],
       "aggError": "",
       "aggOverflow": false,
       "aggSchema": [],
       "aggSeriesLimitReached": false,
       "aggType": "",
       "arguments": {},
       "columnCustomDisplayInfos": {},
       "data": [
        [
         "173400",
         "ACTIVE",
         "1",
         "E1C",
         11.0,
         "Cigna",
         "2021-01-01T00:00:00.000+0000",
         "2021-02-28"
        ],
        [
         "83300",
         "ACTIVE",
         "1",
         "ES",
         0.0,
         "Cigna",
         "2019-12-01T00:00:00.000+0000",
         "2020-01-31"
        ],
        [
         "106800",
         "ACTIVE",
         "1",
         "U",
         4.0,
         "Aetna",
         "2020-09-01T00:00:00.000+0000",
         "2020-10-31"
        ],
        [
         "52900",
         "ACTIVE",
         "1",
         "ES",
         15.0,
         "Aetna",
         "2021-02-01T00:00:00.000+0000",
         "2021-03-31"
        ],
        [
         "97600",
         "ACTIVE",
         "1",
         "E",
         10.0,
         "Aetna",
         "2021-01-01T00:00:00.000+0000",
         "2021-01-31"
        ],
        [
         "22000",
         "ACTIVE",
         "1",
         "EC",
         15.0,
         "Cigna",
         "2020-03-01T00:00:00.000+0000",
         "2020-04-30"
        ],
        [
         "22900",
         "ACTIVE",
         "1",
         "E",
         1.0,
         "Aetna",
         "2020-07-01T00:00:00.000+0000",
         "2020-07-31"
        ],
        [
         "122500",
         "ACTIVE",
         "1",
         "F",
         10.0,
         "Cigna",
         "2020-11-01T00:00:00.000+0000",
         "2020-12-31"
        ],
        [
         "21800",
         "ACTIVE",
         "8",
         "E1C",
         4.0,
         "Aetna",
         "2020-12-01T00:00:00.000+0000",
         "2021-01-31"
        ],
        [
         "145000",
         "ACTIVE",
         "1",
         "F",
         1.0,
         "Cigna",
         "2020-03-01T00:00:00.000+0000",
         "2020-04-30"
        ],
        [
         "150400",
         "ACTIVE",
         "1",
         "E",
         0.0,
         "Aetna",
         "2020-12-01T00:00:00.000+0000",
         "2021-01-31"
        ],
        [
         "114100",
         "ACTIVE",
         "8",
         "F",
         10.0,
         "Cigna",
         "2019-12-01T00:00:00.000+0000",
         "2020-01-31"
        ],
        [
         "201500",
         "ACTIVE",
         "1",
         "E",
         4.0,
         "Aetna",
         "2020-08-01T00:00:00.000+0000",
         "2020-09-30"
        ],
        [
         "215600",
         "ACTIVE",
         "8",
         "F",
         8.0,
         "Aetna",
         "2020-12-01T00:00:00.000+0000",
         "2021-01-31"
        ],
        [
         "216900",
         "ACTIVE",
         "4",
         "EC",
         1.0,
         "Cigna",
         "2020-10-01T00:00:00.000+0000",
         "2020-11-30"
        ],
        [
         "207000",
         "ACTIVE",
         "8",
         "E",
         6.0,
         "Aetna",
         "2020-04-01T00:00:00.000+0000",
         "2020-05-31"
        ],
        [
         "124700",
         "ACTIVE",
         "1",
         "ES",
         6.0,
         "Aetna",
         "2020-11-01T00:00:00.000+0000",
         "2020-12-31"
        ],
        [
         "222700",
         "ACTIVE",
         "1",
         "F",
         3.0,
         "Aetna",
         "2020-08-01T00:00:00.000+0000",
         "2020-09-30"
        ],
        [
         "190000",
         "ACTIVE",
         "1",
         "ES",
         9.0,
         "Aetna",
         "2020-07-01T00:00:00.000+0000",
         "2020-08-31"
        ],
        [
         "182000",
         "ACTIVE",
         "1",
         "F",
         15.0,
         "Aetna",
         "2020-12-01T00:00:00.000+0000",
         "2021-01-31"
        ],
        [
         "139000",
         "ACTIVE",
         "1",
         "EC",
         10.0,
         "Cigna",
         "2020-05-01T00:00:00.000+0000",
         "2020-06-30"
        ],
        [
         "157100",
         "ACTIVE",
         "4",
         "F",
         5.0,
         "Aetna",
         "2020-12-01T00:00:00.000+0000",
         "2021-01-31"
        ],
        [
         "110800",
         "TERMED",
         "8",
         "E1C",
         8.0,
         "Cigna",
         "2020-06-01T00:00:00.000+0000",
         "2020-07-31"
        ],
        [
         "158600",
         "ACTIVE",
         "1",
         "EP",
         14.0,
         "Cigna",
         "2020-02-01T00:00:00.000+0000",
         "2020-03-31"
        ],
        [
         "190600",
         "ACTIVE",
         "2",
         "U",
         5.0,
         "Aetna",
         "2021-01-01T00:00:00.000+0000",
         "2021-01-31"
        ],
        [
         "21700",
         "ACTIVE",
         "1",
         "EC",
         0.0,
         "Aetna",
         "2020-01-01T00:00:00.000+0000",
         "2020-02-29"
        ],
        [
         "216300",
         "TERMED",
         "3",
         "EC",
         9.0,
         "Aetna",
         "2020-09-01T00:00:00.000+0000",
         "2020-10-31"
        ],
        [
         "218500",
         "TERMED",
         "1",
         "F",
         2.0,
         "Cigna",
         "2019-12-01T00:00:00.000+0000",
         "2019-12-31"
        ],
        [
         "37600",
         "ACTIVE",
         "1",
         "ES",
         15.0,
         "Aetna",
         "2020-03-01T00:00:00.000+0000",
         "2020-04-30"
        ],
        [
         "93800",
         "ACTIVE",
         "1",
         "E1C",
         3.0,
         "Cigna",
         "2020-07-01T00:00:00.000+0000",
         "2020-07-31"
        ],
        [
         "33500",
         "TERMED",
         "8",
         "F",
         14.0,
         "Aetna",
         "2020-01-01T00:00:00.000+0000",
         "2020-02-29"
        ],
        [
         "58800",
         "ACTIVE",
         "1",
         "E1C",
         4.0,
         "Cigna",
         "2021-01-01T00:00:00.000+0000",
         "2021-02-28"
        ],
        [
         "106900",
         "ACTIVE",
         "8",
         "U",
         12.0,
         "Cigna",
         "2021-01-01T00:00:00.000+0000",
         "2021-02-28"
        ],
        [
         "93100",
         "ACTIVE",
         "8",
         "U",
         15.0,
         "Aetna",
         "2020-01-01T00:00:00.000+0000",
         "2020-02-29"
        ],
        [
         "17200",
         "ACTIVE",
         "4",
         "EC",
         0.0,
         "Cigna",
         "2020-05-01T00:00:00.000+0000",
         "2020-06-30"
        ],
        [
         "32700",
         "ACTIVE",
         "1",
         "ES",
         1.0,
         "Aetna",
         "2021-02-01T00:00:00.000+0000",
         "2021-03-31"
        ],
        [
         "22700",
         "ACTIVE",
         "1",
         "U",
         4.0,
         "Cigna",
         "2021-02-01T00:00:00.000+0000",
         "2021-03-31"
        ],
        [
         "46700",
         "ACTIVE",
         "4",
         "E",
         5.0,
         "Cigna",
         "2020-12-01T00:00:00.000+0000",
         "2021-01-31"
        ],
        [
         "27400",
         "ACTIVE",
         "1",
         "E1C",
         6.0,
         "Cigna",
         "2020-07-01T00:00:00.000+0000",
         "2020-08-31"
        ],
        [
         "14000",
         "ACTIVE",
         "1",
         "F",
         6.0,
         "Aetna",
         "2020-11-01T00:00:00.000+0000",
         "2020-12-31"
        ],
        [
         "36400",
         "ACTIVE",
         "1",
         "EC",
         4.0,
         "Cigna",
         "2021-01-01T00:00:00.000+0000",
         "2021-02-28"
        ],
        [
         "44800",
         "ACTIVE",
         "1",
         "E",
         3.0,
         "Cigna",
         "2020-05-01T00:00:00.000+0000",
         "2020-06-30"
        ],
        [
         "203300",
         "ACTIVE",
         "1",
         "U",
         5.0,
         "Cigna",
         "2020-02-01T00:00:00.000+0000",
         "2020-03-31"
        ],
        [
         "90300",
         "ACTIVE",
         "1",
         "F",
         10.0,
         "Aetna",
         "2020-01-01T00:00:00.000+0000",
         "2020-01-31"
        ],
        [
         "90500",
         "ACTIVE",
         "1",
         "EP",
         11.0,
         "Aetna",
         "2020-11-01T00:00:00.000+0000",
         "2020-12-31"
        ],
        [
         "112400",
         "ACTIVE",
         "1",
         "U",
         10.0,
         "Aetna",
         "2020-06-01T00:00:00.000+0000",
         "2020-07-31"
        ],
        [
         "160400",
         "ACTIVE",
         "8",
         "E",
         1.0,
         "Cigna",
         "2020-08-01T00:00:00.000+0000",
         "2020-09-30"
        ],
        [
         "74800",
         "ACTIVE",
         "3",
         "F",
         9.0,
         "Aetna",
         "2020-11-01T00:00:00.000+0000",
         "2020-12-31"
        ],
        [
         "55900",
         "TERMED",
         "8",
         "ES",
         4.0,
         "Aetna",
         "2020-04-01T00:00:00.000+0000",
         "2020-05-31"
        ],
        [
         "65100",
         "ACTIVE",
         "1",
         "EC",
         15.0,
         "Aetna",
         "2020-05-01T00:00:00.000+0000",
         "2020-06-30"
        ],
        [
         "75800",
         "ACTIVE",
         "1",
         "EC",
         6.0,
         "Cigna",
         "2021-02-01T00:00:00.000+0000",
         "2021-03-31"
        ],
        [
         "66200",
         "ACTIVE",
         "1",
         "U",
         6.0,
         "Aetna",
         "2021-02-01T00:00:00.000+0000",
         "2021-03-31"
        ],
        [
         "39900",
         "ACTIVE",
         "8",
         "EC",
         3.0,
         "Cigna",
         "2020-03-01T00:00:00.000+0000",
         "2020-04-30"
        ],
        [
         "91400",
         "ACTIVE",
         "1",
         "E",
         15.0,
         "Cigna",
         "2021-02-01T00:00:00.000+0000",
         "2021-03-31"
        ],
        [
         "52200",
         "TERMED",
         "4",
         "E",
         14.0,
         "Cigna",
         "2020-08-01T00:00:00.000+0000",
         "2020-09-30"
        ],
        [
         "49100",
         "ACTIVE",
         "8",
         "E1C",
         10.0,
         "Cigna",
         "2020-10-01T00:00:00.000+0000",
         "2020-11-30"
        ],
        [
         "102200",
         "ACTIVE",
         "1",
         "E1C",
         5.0,
         "Aetna",
         "2020-12-01T00:00:00.000+0000",
         "2021-01-31"
        ],
        [
         "133600",
         "TERMED",
         "3",
         "EC",
         7.0,
         "Aetna",
         "2020-10-01T00:00:00.000+0000",
         "2020-11-30"
        ],
        [
         "193900",
         "ACTIVE",
         "8",
         "E1C",
         12.0,
         "Cigna",
         "2020-02-01T00:00:00.000+0000",
         "2020-03-31"
        ],
        [
         "126500",
         "ACTIVE",
         "1",
         "ES",
         2.0,
         "Cigna",
         "2020-12-01T00:00:00.000+0000",
         "2021-01-31"
        ],
        [
         "208500",
         "ACTIVE",
         "1",
         "U",
         10.0,
         "Aetna",
         "2021-02-01T00:00:00.000+0000",
         "2021-03-31"
        ],
        [
         "176200",
         "ACTIVE",
         "1",
         "E",
         15.0,
         "Aetna",
         "2020-12-01T00:00:00.000+0000",
         "2021-01-31"
        ],
        [
         "25500",
         "ACTIVE",
         "1",
         "EC",
         14.0,
         "Cigna",
         "2021-02-01T00:00:00.000+0000",
         "2021-03-31"
        ],
        [
         "153300",
         "ACTIVE",
         "1",
         "EC",
         6.0,
         "Cigna",
         "2020-06-01T00:00:00.000+0000",
         "2020-07-31"
        ],
        [
         "206200",
         "ACTIVE",
         "4",
         "EP",
         14.0,
         "Aetna",
         "2020-05-01T00:00:00.000+0000",
         "2020-06-30"
        ],
        [
         "224200",
         "ACTIVE",
         "8",
         "E",
         11.0,
         "Cigna",
         "2021-02-01T00:00:00.000+0000",
         "2021-03-31"
        ],
        [
         "171200",
         "TERMED",
         "8",
         "E",
         5.0,
         "Cigna",
         "2019-12-01T00:00:00.000+0000",
         "2020-01-31"
        ],
        [
         "185200",
         "ACTIVE",
         "4",
         "EP",
         10.0,
         "Cigna",
         "2020-04-01T00:00:00.000+0000",
         "2020-05-31"
        ],
        [
         "185400",
         "ACTIVE",
         "4",
         "F",
         12.0,
         "Cigna",
         "2020-07-01T00:00:00.000+0000",
         "2020-08-31"
        ],
        [
         "210200",
         "ACTIVE",
         "1",
         "F",
         1.0,
         "Cigna",
         "2020-12-01T00:00:00.000+0000",
         "2021-01-31"
        ],
        [
         "205400",
         "ACTIVE",
         "8",
         "ES",
         10.0,
         "Aetna",
         "2020-05-01T00:00:00.000+0000",
         "2020-06-30"
        ],
        [
         "178000",
         "ACTIVE",
         "1",
         "F",
         5.0,
         "Cigna",
         "2020-12-01T00:00:00.000+0000",
         "2021-01-31"
        ],
        [
         "144400",
         "ACTIVE",
         "3",
         "ES",
         10.0,
         "Aetna",
         "2020-08-01T00:00:00.000+0000",
         "2020-09-30"
        ],
        [
         "181900",
         "ACTIVE",
         "4",
         "EP",
         0.0,
         "Aetna",
         "2020-05-01T00:00:00.000+0000",
         "2020-06-30"
        ],
        [
         "213300",
         "ACTIVE",
         "8",
         "F",
         15.0,
         "Cigna",
         "2021-02-01T00:00:00.000+0000",
         "2021-03-31"
        ],
        [
         "156400",
         "ACTIVE",
         "4",
         "EC",
         2.0,
         "Aetna",
         "2020-03-01T00:00:00.000+0000",
         "2020-03-31"
        ],
        [
         "100000",
         "ACTIVE",
         "2",
         "E1C",
         7.0,
         "Cigna",
         "2020-10-01T00:00:00.000+0000",
         "2020-11-30"
        ],
        [
         "201100",
         "ACTIVE",
         "1",
         "E1C",
         10.0,
         "Aetna",
         "2020-03-01T00:00:00.000+0000",
         "2020-04-30"
        ],
        [
         "201400",
         "ACTIVE",
         "1",
         "ES",
         8.0,
         "Cigna",
         "2020-11-01T00:00:00.000+0000",
         "2020-11-30"
        ],
        [
         "130400",
         "ACTIVE",
         "8",
         "F",
         1.0,
         "Aetna",
         "2021-03-01T00:00:00.000+0000",
         "2021-04-30"
        ],
        [
         "142600",
         "ACTIVE",
         "1",
         "E",
         13.0,
         "Aetna",
         "2020-06-01T00:00:00.000+0000",
         "2020-06-30"
        ],
        [
         "152200",
         "ACTIVE",
         "3",
         "ES",
         12.0,
         "Cigna",
         "2020-09-01T00:00:00.000+0000",
         "2020-10-31"
        ],
        [
         "152200",
         "ACTIVE",
         "3",
         "EC",
         10.0,
         "Cigna",
         "2021-01-01T00:00:00.000+0000",
         "2021-02-28"
        ],
        [
         "197900",
         "ACTIVE",
         "8",
         "EP",
         13.0,
         "Aetna",
         "2021-01-01T00:00:00.000+0000",
         "2021-02-28"
        ],
        [
         "62900",
         "ACTIVE",
         "3",
         "F",
         11.0,
         "Aetna",
         "2020-12-01T00:00:00.000+0000",
         "2021-01-31"
        ],
        [
         "147700",
         "TERMED",
         "8",
         "E1C",
         9.0,
         "Cigna",
         "2020-03-01T00:00:00.000+0000",
         "2020-04-30"
        ],
        [
         "86400",
         "TERMED",
         "1",
         "ES",
         10.0,
         "Aetna",
         "2021-02-01T00:00:00.000+0000",
         "2021-03-31"
        ],
        [
         "18200",
         "ACTIVE",
         "3",
         "ES",
         14.0,
         "Aetna",
         "2020-11-01T00:00:00.000+0000",
         "2020-12-31"
        ],
        [
         "18200",
         "ACTIVE",
         "3",
         "F",
         11.0,
         "Cigna",
         "2020-07-01T00:00:00.000+0000",
         "2020-08-31"
        ],
        [
         "18200",
         "ACTIVE",
         "3",
         "ES",
         4.0,
         "Aetna",
         "2020-10-01T00:00:00.000+0000",
         "2020-11-30"
        ],
        [
         "109600",
         "ACTIVE",
         "1",
         "F",
         4.0,
         "Cigna",
         "2020-08-01T00:00:00.000+0000",
         "2020-09-30"
        ],
        [
         "94700",
         "ACTIVE",
         "4",
         "E1C",
         4.0,
         "Aetna",
         "2021-01-01T00:00:00.000+0000",
         "2021-02-28"
        ],
        [
         "105800",
         "ACTIVE",
         "1",
         "U",
         3.0,
         "Aetna",
         "2020-11-01T00:00:00.000+0000",
         "2020-12-31"
        ],
        [
         "210000",
         "ACTIVE",
         "3",
         "E",
         12.0,
         "Aetna",
         "2021-01-01T00:00:00.000+0000",
         "2021-02-28"
        ],
        [
         "1900",
         "ACTIVE",
         "1",
         "F",
         3.0,
         "Aetna",
         "2020-07-01T00:00:00.000+0000",
         "2020-08-31"
        ],
        [
         "2700",
         "ACTIVE",
         "8",
         "EC",
         13.0,
         "Cigna",
         "2021-04-01T00:00:00.000+0000",
         "2021-05-31"
        ],
        [
         "2800",
         "ACTIVE",
         "1",
         "ES",
         3.0,
         "Aetna",
         "2020-04-01T00:00:00.000+0000",
         "2020-05-31"
        ],
        [
         "117100",
         "ACTIVE",
         "3",
         "E1C",
         6.0,
         "Aetna",
         "2020-08-01T00:00:00.000+0000",
         "2020-09-30"
        ],
        [
         "77900",
         "ACTIVE",
         "4",
         "ES",
         6.0,
         "Aetna",
         "2020-10-01T00:00:00.000+0000",
         "2020-11-30"
        ]
       ],
       "datasetInfos": [],
       "dbfsResultPath": null,
       "isJsonSchema": true,
       "metadata": {},
       "overflow": false,
       "plotOptions": {
        "customPlotOptions": {},
        "displayType": "table",
        "pivotAggregation": null,
        "pivotColumns": null,
        "xColumns": null,
        "yColumns": null
       },
       "removedWidgets": [],
       "schema": [
        {
         "metadata": "{}",
         "name": "MEMBER_ID",
         "type": "\"string\""
        },
        {
         "metadata": "{}",
         "name": "MEMBER_STATUS",
         "type": "\"string\""
        },
        {
         "metadata": "{}",
         "name": "GROUP_ID",
         "type": "\"string\""
        },
        {
         "metadata": "{}",
         "name": "COVERAGE_TYPE",
         "type": "\"string\""
        },
        {
         "metadata": "{}",
         "name": "PLAN_ID",
         "type": "\"double\""
        },
        {
         "metadata": "{}",
         "name": "VENDOR",
         "type": "\"string\""
        },
        {
         "metadata": "{}",
         "name": "EFFECTIVE_DATE",
         "type": "\"timestamp\""
        },
        {
         "metadata": "{}",
         "name": "TERMINATION_DATE",
         "type": "\"string\""
        }
       ],
       "type": "table"
      }
     },
     "output_type": "display_data"
    },
    {
     "output_type": "stream",
     "name": "stdout",
     "output_type": "stream",
     "text": [
      "Sheet Name: Demographics_Mock_Data\n"
     ]
    },
    {
     "output_type": "display_data",
     "data": {
      "text/html": [
       "<style scoped>\n",
       "  .table-result-container {\n",
       "    max-height: 300px;\n",
       "    overflow: auto;\n",
       "  }\n",
       "  table, th, td {\n",
       "    border: 1px solid black;\n",
       "    border-collapse: collapse;\n",
       "  }\n",
       "  th, td {\n",
       "    padding: 5px;\n",
       "  }\n",
       "  th {\n",
       "    text-align: left;\n",
       "  }\n",
       "</style><div class='table-result-container'><table class='table-result'><thead style='background-color: white'><tr><th>MEMBER_ID</th><th>EMPLOYEE_ID</th><th>FIRST_NAME</th><th>LAST_NAME</th><th>MIDDLE_NAME</th><th>GENDER</th><th>DOB</th><th>RELATIONSHIP</th><th>PERSON_CODE</th><th>RACE</th><th>ETHNICITY</th><th>ADDRESS_1</th><th>ADDRESS_2</th><th>CITY</th><th>STATE</th><th>COUNTY</th><th>ZIP</th></tr></thead><tbody><tr><td>173400</td><td>160951</td><td>Freya</td><td>Lynn</td><td>Marlys</td><td>0.0</td><td>1988-02-23</td><td>S</td><td>02</td><td>white</td><td>nonhispanic</td><td>771 Kirlin Haven</td><td>null</td><td>Attleboro</td><td>Massachusetts</td><td>Bristol County</td><td>02703</td></tr><tr><td>83300</td><td>160951</td><td>Candice</td><td>Padilla</td><td>null</td><td>0.0</td><td>1964-12-10</td><td>F</td><td>03</td><td>white</td><td>nonhispanic</td><td>182 Trantow Mission Unit 20</td><td>null</td><td>Bellingham</td><td>Massachusetts</td><td>Norfolk County</td><td></td></tr><tr><td>106800</td><td>111325</td><td>Leanne</td><td>Swanson</td><td>null</td><td>0.0</td><td>2015-05-28</td><td>D2</td><td>16</td><td>white</td><td>nonhispanic</td><td>686 Shields Dam</td><td>null</td><td>Easthampton</td><td>Massachusetts</td><td>Hampshire County</td><td></td></tr><tr><td>52900</td><td>114177</td><td>Millicent</td><td>Byrne</td><td>null</td><td>0.0</td><td>1948-04-22</td><td>N</td><td>13</td><td>white</td><td>nonhispanic</td><td>1009 DuBuque Ville Unit 54</td><td>null</td><td>Springfield</td><td>Massachusetts</td><td>Hampden County</td><td>01106</td></tr><tr><td>97600</td><td>117067</td><td>Charley</td><td>Lynn</td><td>null</td><td>0.0</td><td>1976-01-12</td><td>A1</td><td>11</td><td>white</td><td>nonhispanic</td><td>114 Cummerata Parade</td><td>null</td><td>West Tisbury</td><td>Massachusetts</td><td>Dukes County</td><td></td></tr><tr><td>22000</td><td>12745</td><td>Flynn</td><td>Morrison</td><td>null</td><td>0.0</td><td>1989-03-30</td><td>M</td><td>04</td><td>white</td><td>nonhispanic</td><td>164 Stokes Lodge Apt 34</td><td>null</td><td>Winchendon</td><td>Massachusetts</td><td>Worcester County</td><td>01475</td></tr><tr><td>22900</td><td>13466</td><td>Pauline</td><td>Knight</td><td>null</td><td>0.0</td><td>2019-05-09</td><td>N</td><td>13</td><td>white</td><td>nonhispanic</td><td>376 Skiles Forge Suite 48</td><td>null</td><td>Westminster</td><td>Massachusetts</td><td>Worcester County</td><td></td></tr><tr><td>122500</td><td>135688</td><td>Elspeth</td><td>Gonzalez</td><td>Marliss</td><td>0.0</td><td>2014-09-09</td><td>C2</td><td>06</td><td>asian</td><td>hispanic</td><td>570 Nikolaus Wynd</td><td>null</td><td>Cambridge</td><td>Massachusetts</td><td>Middlesex County</td><td>02139</td></tr><tr><td>21800</td><td>13587</td><td>Amelie</td><td>Harmon</td><td>null</td><td>0.0</td><td>1984-04-08</td><td>D2</td><td>16</td><td>other</td><td>nonhispanic</td><td>958 Robel Run Unit 83</td><td>null</td><td>Carver</td><td>Massachusetts</td><td>Plymouth County</td><td></td></tr><tr><td>145000</td><td>138507</td><td>Laura</td><td>Montoya</td><td>null</td><td>0.0</td><td>2010-03-29</td><td>F</td><td>03</td><td>white</td><td>nonhispanic</td><td>1094 Keebler Grove</td><td>null</td><td>Gardner</td><td>Massachusetts</td><td>Worcester County</td><td>01440</td></tr><tr><td>150400</td><td>151731</td><td>Jayden</td><td>Kane</td><td>null</td><td>0.0</td><td>2019-07-08</td><td>F</td><td>03</td><td>white</td><td>hispanic</td><td>1054 Price Glen</td><td>null</td><td>Haverhill</td><td>Massachusetts</td><td>Essex County</td><td>01835</td></tr><tr><td>114100</td><td>152105</td><td>Safa</td><td>Kelly</td><td>null</td><td>0.0</td><td>1991-08-21</td><td>G3</td><td>09</td><td>white</td><td>hispanic</td><td>765 Russel Pathway Unit 82</td><td>null</td><td>Spencer</td><td>Massachusetts</td><td>Worcester County</td><td>01562</td></tr><tr><td>201500</td><td>153303</td><td>Anika</td><td>Washington</td><td>Merla</td><td>0.0</td><td>2002-03-08</td><td>F</td><td>03</td><td>black</td><td>nonhispanic</td><td>815 Rau Ramp</td><td>null</td><td>Boston</td><td>Massachusetts</td><td>Suffolk County</td><td>02109</td></tr><tr><td>215600</td><td>158915</td><td>Inayah</td><td>Evans</td><td>null</td><td>0.0</td><td>1988-06-28</td><td>G3</td><td>09</td><td>white</td><td>nonhispanic</td><td>282 Roberts Brook Suite 29</td><td>null</td><td>Dartmouth</td><td>Massachusetts</td><td>Bristol County</td><td></td></tr><tr><td>216900</td><td>160951</td><td>Aurora</td><td>Lawson</td><td>null</td><td>0.0</td><td>2012-10-04</td><td>E</td><td>01</td><td>white</td><td>nonhispanic</td><td>194 Robel Skyway</td><td>null</td><td>Boston</td><td>Massachusetts</td><td>Suffolk County</td><td>02124</td></tr><tr><td>207000</td><td>166936</td><td>Robyn</td><td>Stewart</td><td>null</td><td>0.0</td><td>1957-10-19</td><td>D1</td><td>15</td><td>white</td><td>nonhispanic</td><td>306 Aufderhar Grove Unit 79</td><td>null</td><td>Palmer</td><td>Massachusetts</td><td>Hampden County</td><td></td></tr><tr><td>124700</td><td>168886</td><td>Lena</td><td>Pearce</td><td>null</td><td>0.0</td><td>1961-06-22</td><td>A1</td><td>11</td><td>white</td><td>nonhispanic</td><td>610 Harber Rapid Unit 87</td><td>null</td><td>Greenfield</td><td>Massachusetts</td><td>Franklin County</td><td></td></tr><tr><td>222700</td><td>170319</td><td>Kane</td><td>Hardin</td><td>null</td><td>0.0</td><td>2016-01-29</td><td>E</td><td>01</td><td>asian</td><td>hispanic</td><td>971 Balistreri Vale Unit 75</td><td>null</td><td>Southborough</td><td>Massachusetts</td><td>Worcester County</td><td></td></tr><tr><td>190000</td><td>170319</td><td>Noor</td><td>Merritt</td><td>Melody</td><td>0.0</td><td>1954-02-18</td><td>A2</td><td>12</td><td>white</td><td>nonhispanic</td><td>970 Johnston Drive Apt 25</td><td>null</td><td>Worcester</td><td>Massachusetts</td><td>Worcester County</td><td>01583</td></tr><tr><td>182000</td><td>170319</td><td>Khadijah</td><td>Johnston</td><td>null</td><td>0.0</td><td>2003-06-09</td><td>D2</td><td>16</td><td>white</td><td>nonhispanic</td><td>252 Heller Manor Suite 56</td><td>null</td><td>Attleboro</td><td>Massachusetts</td><td>Bristol County</td><td>02861</td></tr><tr><td>139000</td><td>170319</td><td>Katy</td><td>Dalton</td><td>null</td><td>0.0</td><td>1983-10-07</td><td>A1</td><td>11</td><td>white</td><td>nonhispanic</td><td>999 Kuhn Forge</td><td>null</td><td>Lowell</td><td>Massachusetts</td><td>Middlesex County</td><td>01851</td></tr><tr><td>157100</td><td>170319</td><td>Aminah</td><td>Wall</td><td>null</td><td>0.0</td><td>2007-09-19</td><td>G4</td><td>10</td><td>white</td><td>hispanic</td><td>984 Kuhic Bay Apt 19</td><td>null</td><td>Agawam</td><td>Massachusetts</td><td>Hampden County</td><td>01030</td></tr><tr><td>110800</td><td>209109</td><td>Hollie</td><td>Eaton</td><td>null</td><td>0.0</td><td>1997-09-20</td><td>M</td><td>04</td><td>white</td><td>nonhispanic</td><td>652 Kovacek Trailer Suite 29</td><td>null</td><td>Lenox</td><td>Massachusetts</td><td>Berkshire County</td><td>01240</td></tr><tr><td>158600</td><td>213741</td><td>Siobhan</td><td>Lin</td><td>null</td><td>0.0</td><td>2008-01-24</td><td>A2</td><td>12</td><td>white</td><td>nonhispanic</td><td>611 Williamson Loaf Apt 44</td><td>null</td><td>Somerville</td><td>Massachusetts</td><td>Middlesex County</td><td>02138</td></tr><tr><td>190600</td><td>215316</td><td>Marley</td><td>Zamora</td><td>null</td><td>0.0</td><td>1950-06-05</td><td>A2</td><td>12</td><td>black</td><td>hispanic</td><td>289 Brown Glen Unit 6</td><td>null</td><td>Revere</td><td>Massachusetts</td><td>Suffolk County</td><td>02151</td></tr><tr><td>21700</td><td>22190</td><td>Alessia</td><td>Romero</td><td>Mariel</td><td>0.0</td><td>1967-07-12</td><td>G4</td><td>10</td><td>white</td><td>nonhispanic</td><td>913 Schiller Well Apt 80</td><td>null</td><td>Burlington</td><td>Massachusetts</td><td>Middlesex County</td><td>01803</td></tr><tr><td>216300</td><td>223770</td><td>Adrian</td><td>Collins</td><td>null</td><td>0.0</td><td>1952-05-10</td><td>C2</td><td>06</td><td>white</td><td>hispanic</td><td>217 Will Well Unit 1</td><td>null</td><td>Boston</td><td>Massachusetts</td><td>Suffolk County</td><td>02110</td></tr><tr><td>218500</td><td>226237</td><td>Belle</td><td>O'Gallagher</td><td>null</td><td>0.0</td><td>1994-05-05</td><td>C1</td><td>05</td><td>white</td><td>nonhispanic</td><td>900 Paucek Way</td><td>null</td><td>Newton</td><td>Massachusetts</td><td>Middlesex County</td><td></td></tr><tr><td>37600</td><td>226967</td><td>Chelsea</td><td>Whitehead</td><td>null</td><td>0.0</td><td>2016-03-22</td><td>F</td><td>03</td><td>white</td><td>nonhispanic</td><td>255 Ondricka Common</td><td>null</td><td>Deerfield</td><td>Massachusetts</td><td>Franklin County</td><td></td></tr><tr><td>93800</td><td>27570</td><td>Maeve</td><td>Tucker</td><td>Manuela</td><td>0.0</td><td>1981-09-08</td><td>M</td><td>04</td><td>white</td><td>nonhispanic</td><td>836 Willms Flat Suite 54</td><td>null</td><td>Watertown</td><td>Massachusetts</td><td>Middlesex County</td><td></td></tr><tr><td>33500</td><td>29764</td><td>Lenny</td><td>Coleman</td><td>null</td><td>0.0</td><td>1975-09-26</td><td>N</td><td>13</td><td>white</td><td>nonhispanic</td><td>820 Willms Mews</td><td>null</td><td>Stow</td><td>Massachusetts</td><td>Middlesex County</td><td></td></tr><tr><td>58800</td><td>29931</td><td>Meredith</td><td>Lewis</td><td>null</td><td>0.0</td><td>1957-06-24</td><td>D2</td><td>16</td><td>white</td><td>hispanic</td><td>451 Buckridge Harbor</td><td>null</td><td>Attleboro</td><td>Massachusetts</td><td>Bristol County</td><td></td></tr><tr><td>106900</td><td>33500</td><td>Stella</td><td>Franklin</td><td>null</td><td>0.0</td><td>1970-04-18</td><td>G1</td><td>07</td><td>white</td><td>nonhispanic</td><td>818 Bogan Ville</td><td>null</td><td>Westport</td><td>Massachusetts</td><td>Bristol County</td><td></td></tr><tr><td>93100</td><td>3975</td><td>Cecilia</td><td>Mayer</td><td>null</td><td>0.0</td><td>1969-01-18</td><td>C1</td><td>05</td><td>white</td><td>nonhispanic</td><td>419 Beatty Gardens</td><td>null</td><td>Boston</td><td>Massachusetts</td><td>Suffolk County</td><td>02111</td></tr><tr><td>17200</td><td>39986</td><td>Georgiana</td><td>Livingston</td><td>null</td><td>0.0</td><td>2003-09-21</td><td>G4</td><td>10</td><td>white</td><td>nonhispanic</td><td>814 Blick Avenue Unit 22</td><td>null</td><td>Wayland</td><td>Massachusetts</td><td>Middlesex County</td><td></td></tr><tr><td>32700</td><td>41842</td><td>Maya</td><td>Townsend</td><td>Merilyn</td><td>0.0</td><td>1960-12-30</td><td>G2</td><td>08</td><td>white</td><td>nonhispanic</td><td>763 Smitham Rue</td><td>null</td><td>Worthington</td><td>Massachusetts</td><td>Hampshire County</td><td></td></tr><tr><td>22700</td><td>44147</td><td>Emelia</td><td>Hobbs</td><td>null</td><td>0.0</td><td>2020-05-22</td><td>E</td><td>01</td><td>white</td><td>hispanic</td><td>810 Pfannerstill Underpass</td><td>null</td><td>Springfield</td><td>Massachusetts</td><td>Hampden County</td><td></td></tr><tr><td>46700</td><td>44147</td><td>Lana</td><td>Mckenzie</td><td>Milissa</td><td>0.0</td><td>2014-04-03</td><td>A2</td><td>12</td><td>white</td><td>nonhispanic</td><td>1014 Hilpert Skyway Apt 68</td><td>null</td><td>North Brookfield</td><td>Massachusetts</td><td>Worcester County</td><td>01535</td></tr><tr><td>27400</td><td>44147</td><td>Rio</td><td>Blair</td><td>null</td><td>0.0</td><td>2011-07-22</td><td>D1</td><td>15</td><td>white</td><td>nonhispanic</td><td>422 Farrell Path Unit 69</td><td>null</td><td>Somerville</td><td>Massachusetts</td><td>Middlesex County</td><td>02143</td></tr><tr><td>14000</td><td>44147</td><td>Demi-Leigh</td><td>Sanders</td><td>Myrtle</td><td>0.0</td><td>2021-01-14</td><td>C1</td><td>05</td><td>white</td><td>hispanic</td><td>746 Weissnat Landing</td><td>null</td><td>Boston</td><td>Massachusetts</td><td>Suffolk County</td><td>02203</td></tr><tr><td>36400</td><td>49044</td><td>Jenny</td><td>Wells</td><td>null</td><td>0.0</td><td>2011-09-22</td><td>F</td><td>03</td><td>white</td><td>nonhispanic</td><td>574 Kunze Grove Apt 45</td><td>null</td><td>Lowell</td><td>Massachusetts</td><td>Middlesex County</td><td></td></tr><tr><td>44800</td><td>5185</td><td>Wade</td><td>Mills</td><td>null</td><td>0.0</td><td>1983-02-04</td><td>C1</td><td>05</td><td>white</td><td>nonhispanic</td><td>137 Miller Meadow</td><td>null</td><td>Boston</td><td>Massachusetts</td><td>Suffolk County</td><td>02126</td></tr><tr><td>203300</td><td>68739</td><td>Savanna</td><td>Cannon</td><td>null</td><td>0.0</td><td>1974-09-20</td><td>C2</td><td>06</td><td>white</td><td>nonhispanic</td><td>954 Marvin Ferry</td><td>null</td><td>Marlborough</td><td>Massachusetts</td><td>Middlesex County</td><td>01752</td></tr><tr><td>90300</td><td>76014</td><td>Jemima</td><td>Wagner</td><td>null</td><td>0.0</td><td>2012-12-14</td><td>G4</td><td>10</td><td>white</td><td>nonhispanic</td><td>818 Rau Fort</td><td>null</td><td>Boston</td><td>Massachusetts</td><td>Suffolk County</td><td>02115</td></tr><tr><td>90500</td><td>76100</td><td>Kye</td><td>Henderson</td><td>null</td><td>0.0</td><td>1961-07-19</td><td>C2</td><td>06</td><td>white</td><td>nonhispanic</td><td>1080 Sawayn Gateway Suite 9</td><td>null</td><td>Framingham</td><td>Massachusetts</td><td>Middlesex County</td><td>01701</td></tr><tr><td>112400</td><td>83026</td><td>Briony</td><td>Hampton</td><td>Marylou</td><td>0.0</td><td>1974-10-03</td><td>A2</td><td>12</td><td>white</td><td>nonhispanic</td><td>923 Boyle Dale Apt 44</td><td>null</td><td>Boston</td><td>Massachusetts</td><td>Suffolk County</td><td>02113</td></tr><tr><td>160400</td><td>84379</td><td>Isabel</td><td>Ballard</td><td>null</td><td>0.0</td><td>1960-04-10</td><td>N</td><td>13</td><td>asian</td><td>nonhispanic</td><td>330 Hermiston Trafficway</td><td>null</td><td>Westborough</td><td>Massachusetts</td><td>Worcester County</td><td></td></tr><tr><td>74800</td><td>85789</td><td>Ebony</td><td>Mcmahon</td><td>null</td><td>0.0</td><td>1954-01-14</td><td>G2</td><td>08</td><td>white</td><td>nonhispanic</td><td>358 Mann Junction Suite 98</td><td>null</td><td>Holliston</td><td>Massachusetts</td><td>Middlesex County</td><td></td></tr><tr><td>55900</td><td>90659</td><td>Lydia</td><td>Watson</td><td>null</td><td>0.0</td><td>1986-12-06</td><td>A2</td><td>12</td><td>white</td><td>nonhispanic</td><td>234 McLaughlin Station Suite 21</td><td>null</td><td>Boston</td><td>Massachusetts</td><td>Suffolk County</td><td>02134</td></tr><tr><td>65100</td><td>92762</td><td>Sallie</td><td>Aguilar</td><td>null</td><td>0.0</td><td>2003-05-26</td><td>G3</td><td>09</td><td>white</td><td>nonhispanic</td><td>1031 Rempel Parade</td><td>null</td><td>Sandwich</td><td>Massachusetts</td><td>Barnstable County</td><td></td></tr><tr><td>75800</td><td>92943</td><td>Dora</td><td>Curtis</td><td>null</td><td>0.0</td><td>1999-09-25</td><td>D2</td><td>16</td><td>asian</td><td>nonhispanic</td><td>864 Legros Alley</td><td>null</td><td>Holliston</td><td>Massachusetts</td><td>Middlesex County</td><td></td></tr><tr><td>66200</td><td>94524</td><td>Scarlet</td><td>Wright</td><td>null</td><td>0.0</td><td>2015-01-06</td><td>F</td><td>03</td><td>white</td><td>nonhispanic</td><td>370 Grant Park</td><td>null</td><td>Somerset</td><td>Massachusetts</td><td>Bristol County</td><td></td></tr><tr><td>39900</td><td>10538</td><td>Casey</td><td>Marsh</td><td>null</td><td>1.0</td><td>1973-05-06</td><td>G2</td><td>08</td><td>white</td><td>nonhispanic</td><td>892 Dibbert Port Suite 41</td><td>null</td><td>Norwood</td><td>Massachusetts</td><td>Norfolk County</td><td></td></tr><tr><td>91400</td><td>11338</td><td>Lucas</td><td>Winters</td><td>Javier</td><td>1.0</td><td>2001-01-18</td><td>D2</td><td>16</td><td>white</td><td>nonhispanic</td><td>1072 Hagenes Crossing</td><td>null</td><td>Woburn</td><td>Massachusetts</td><td>Middlesex County</td><td></td></tr><tr><td>52200</td><td>113830</td><td>Lewys</td><td>Maddox</td><td>null</td><td>1.0</td><td>2008-01-18</td><td>D1</td><td>15</td><td>white</td><td>nonhispanic</td><td>214 Hane Course Unit 68</td><td>null</td><td>Westford</td><td>Massachusetts</td><td>Middlesex County</td><td></td></tr><tr><td>49100</td><td>115963</td><td>Zac</td><td>Suarez</td><td>null</td><td>1.0</td><td>1979-09-24</td><td>N</td><td>13</td><td>white</td><td>nonhispanic</td><td>128 Stiedemann Gardens Apt 64</td><td>null</td><td>Needham</td><td>Massachusetts</td><td>Norfolk County</td><td>02494</td></tr><tr><td>102200</td><td>121160</td><td>Mohammad</td><td>Cox</td><td>null</td><td>1.0</td><td>1994-09-30</td><td>F</td><td>03</td><td>white</td><td>nonhispanic</td><td>755 Hirthe Underpass</td><td>null</td><td>Milford</td><td>Massachusetts</td><td>Worcester County</td><td></td></tr><tr><td>133600</td><td>137952</td><td>Rehan</td><td>Hatfield</td><td>null</td><td>1.0</td><td>1990-09-07</td><td>D1</td><td>15</td><td>white</td><td>nonhispanic</td><td>937 Ryan Neck</td><td>null</td><td>Haverhill</td><td>Massachusetts</td><td>Essex County</td><td>01832</td></tr><tr><td>193900</td><td>145520</td><td>Francesco</td><td>Rivera</td><td>Kristopher</td><td>1.0</td><td>1994-11-04</td><td>M</td><td>04</td><td>white</td><td>nonhispanic</td><td>837 Mills Dam</td><td>null</td><td>Somerville</td><td>Massachusetts</td><td>Middlesex County</td><td>02140</td></tr><tr><td>126500</td><td>147036</td><td>Calvin</td><td>Cabrera</td><td>null</td><td>1.0</td><td>1977-11-12</td><td>F</td><td>03</td><td>white</td><td>nonhispanic</td><td>528 Lowe Lodge</td><td>null</td><td>Lowell</td><td>Massachusetts</td><td>Middlesex County</td><td>01854</td></tr><tr><td>208500</td><td>147970</td><td>Faith</td><td>Donnelly</td><td>null</td><td>1.0</td><td>2016-05-30</td><td>M</td><td>04</td><td>white</td><td>nonhispanic</td><td>164 Stokes Lodge Apt 34</td><td>null</td><td>Winchendon</td><td>Massachusetts</td><td>Worcester County</td><td>01475</td></tr><tr><td>176200</td><td>150505</td><td>Damon</td><td>Taylor</td><td>null</td><td>1.0</td><td>1960-02-06</td><td>M</td><td>04</td><td>black</td><td>nonhispanic</td><td>975 Murphy Tunnel Apt 27</td><td>null</td><td>Plymouth</td><td>Massachusetts</td><td>Plymouth County</td><td>02360</td></tr><tr><td>25500</td><td>15352</td><td>Pablo</td><td>Livingston</td><td>null</td><td>1.0</td><td>1999-05-28</td><td>M</td><td>04</td><td>white</td><td>nonhispanic</td><td>566 Williamson Run Suite 85</td><td>null</td><td>Swansea</td><td>Massachusetts</td><td>Bristol County</td><td></td></tr><tr><td>153300</td><td>162576</td><td>Raees</td><td>Tucker</td><td>Kyler</td><td>1.0</td><td>1988-04-24</td><td>N</td><td>13</td><td>native</td><td>nonhispanic</td><td>471 Mayert Flat Unit 54</td><td>null</td><td>Peabody</td><td>Massachusetts</td><td>Essex County</td><td></td></tr><tr><td>206200</td><td>192974</td><td>Harley</td><td>Salas</td><td>null</td><td>1.0</td><td>2009-09-19</td><td>F</td><td>03</td><td>white</td><td>nonhispanic</td><td>1056 Harris Lane Suite 70</td><td>null</td><td>Chicopee</td><td>Massachusetts</td><td>Hampden County</td><td>01020</td></tr><tr><td>224200</td><td>192974</td><td>Silas</td><td>Bush</td><td>null</td><td>1.0</td><td>1983-01-01</td><td>C1</td><td>05</td><td>white</td><td>nonhispanic</td><td>482 McGlynn Extension Apt 8</td><td>null</td><td>Chicopee</td><td>Massachusetts</td><td>Hampden County</td><td>01022</td></tr><tr><td>171200</td><td>192974</td><td>Wojciech</td><td>Sanders</td><td>null</td><td>1.0</td><td>1970-08-06</td><td>C2</td><td>06</td><td>black</td><td>nonhispanic</td><td>577 Kshlerin Parade</td><td>null</td><td>Swansea</td><td>Massachusetts</td><td>Bristol County</td><td></td></tr><tr><td>185200</td><td>192974</td><td>Karim</td><td>Hawkins</td><td>Junior</td><td>1.0</td><td>2014-04-28</td><td>N</td><td>13</td><td>white</td><td>nonhispanic</td><td>898 Grant Overpass Unit 18</td><td>null</td><td>Hingham</td><td>Massachusetts</td><td>Plymouth County</td><td>02043</td></tr><tr><td>185400</td><td>192974</td><td>Stella</td><td>Franco</td><td>null</td><td>1.0</td><td>2008-08-13</td><td>E</td><td>01</td><td>white</td><td>nonhispanic</td><td>757 Jenkins Crossroad</td><td>null</td><td>Wakefield</td><td>Massachusetts</td><td>Middlesex County</td><td></td></tr><tr><td>210200</td><td>195288</td><td>Mark</td><td>Armstrong</td><td>null</td><td>1.0</td><td>2020-03-05</td><td>G4</td><td>10</td><td>white</td><td>nonhispanic</td><td>730 Bogan Row</td><td>null</td><td>Danvers</td><td>Massachusetts</td><td>Essex County</td><td></td></tr><tr><td>205400</td><td>198559</td><td>Sonny</td><td>Brewer</td><td>Jagger</td><td>1.0</td><td>1973-04-02</td><td>C1</td><td>05</td><td>white</td><td>nonhispanic</td><td>494 Ondricka Vista Unit 61</td><td>null</td><td>Provincetown</td><td>Massachusetts</td><td>Barnstable County</td><td>02657</td></tr><tr><td>178000</td><td>199072</td><td>Keziah</td><td>Flynn</td><td>null</td><td>1.0</td><td>1988-03-07</td><td>M</td><td>04</td><td>white</td><td>nonhispanic</td><td>314 Haag Orchard Suite 76</td><td>null</td><td>Weymouth</td><td>Massachusetts</td><td>Norfolk County</td><td>02190</td></tr><tr><td>144400</td><td>200118</td><td>Courtney</td><td>Cuevas</td><td>null</td><td>1.0</td><td>1950-11-09</td><td>F</td><td>03</td><td>white</td><td>nonhispanic</td><td>159 Treutel Hollow</td><td>null</td><td>Winchester</td><td>Massachusetts</td><td>Middlesex County</td><td></td></tr><tr><td>181900</td><td>200665</td><td>Zain</td><td>Webb</td><td>null</td><td>1.0</td><td>2004-10-18</td><td>N</td><td>13</td><td>black</td><td>nonhispanic</td><td>203 Sporer Esplanade Unit 14</td><td>null</td><td>Oxford</td><td>Massachusetts</td><td>Worcester County</td><td></td></tr><tr><td>213300</td><td>203702</td><td>Andre</td><td>Jackson</td><td>null</td><td>1.0</td><td>1969-10-29</td><td>G4</td><td>10</td><td>white</td><td>nonhispanic</td><td>954 Marvin Ferry</td><td>null</td><td>Marlborough</td><td>Massachusetts</td><td>Middlesex County</td><td>01752</td></tr><tr><td>156400</td><td>205773</td><td>Gavin</td><td>Bernard</td><td>null</td><td>1.0</td><td>2004-06-28</td><td>S</td><td>02</td><td>white</td><td>nonhispanic</td><td>465 Crist Crossroad Unit 86</td><td>null</td><td>Quincy</td><td>Massachusetts</td><td>Norfolk County</td><td>02170</td></tr><tr><td>100000</td><td>206682</td><td>Fergus</td><td>Matthews</td><td>null</td><td>1.0</td><td>1990-10-14</td><td>A2</td><td>12</td><td>black</td><td>nonhispanic</td><td>503 Carter Light Apt 12</td><td>null</td><td>Auburn</td><td>Massachusetts</td><td>Worcester County</td><td></td></tr><tr><td>201100</td><td>217633</td><td>Armaan</td><td>Moody</td><td>Ker</td><td>1.0</td><td>2007-04-30</td><td>D2</td><td>16</td><td>white</td><td>nonhispanic</td><td>578 Welch Trace Unit 19</td><td>null</td><td>Bridgewater</td><td>Massachusetts</td><td>Plymouth County</td><td></td></tr><tr><td>201400</td><td>217770</td><td>Robyn</td><td>Mcgowan</td><td>null</td><td>1.0</td><td>2003-12-28</td><td>E</td><td>01</td><td>white</td><td>nonhispanic</td><td>379 Bernhard Station</td><td>null</td><td>Newburyport</td><td>Massachusetts</td><td>Essex County</td><td></td></tr><tr><td>130400</td><td>218479</td><td>Neo</td><td>Aguirre</td><td>null</td><td>1.0</td><td>1993-03-16</td><td>C1</td><td>05</td><td>white</td><td>nonhispanic</td><td>489 Nienow Rue</td><td>null</td><td>Fall River</td><td>Massachusetts</td><td>Bristol County</td><td>02790</td></tr><tr><td>142600</td><td>219363</td><td>Dillon</td><td>Roach</td><td>null</td><td>1.0</td><td>2009-05-05</td><td>G2</td><td>08</td><td>white</td><td>nonhispanic</td><td>741 Stracke Landing Apt 68</td><td>null</td><td>Walpole</td><td>Massachusetts</td><td>Norfolk County</td><td>02081</td></tr><tr><td>152200</td><td>221967</td><td>Evan</td><td>Moore</td><td>null</td><td>1.0</td><td>1944-08-14</td><td>M</td><td>04</td><td>white</td><td>nonhispanic</td><td>1045 Gibson Vista</td><td>null</td><td>Attleboro</td><td>Massachusetts</td><td>Bristol County</td><td>02703</td></tr><tr><td>152200</td><td>221967</td><td>Marcel</td><td>Randolph</td><td>Jirkar</td><td>1.0</td><td>1944-08-14</td><td>F</td><td>03</td><td>white</td><td>nonhispanic</td><td>1045 Gibson Vista</td><td>null</td><td>Attleboro</td><td>Massachusetts</td><td>Bristol County</td><td>02703</td></tr><tr><td>197900</td><td>222628</td><td>Eesa</td><td>Carpenter</td><td>null</td><td>1.0</td><td>1989-10-01</td><td>G3</td><td>09</td><td>white</td><td>hispanic</td><td>764 Feil Route</td><td>null</td><td>Boston</td><td>Massachusetts</td><td>Suffolk County</td><td>02108</td></tr><tr><td>62900</td><td>23532</td><td>Drew</td><td>Friedman</td><td>null</td><td>1.0</td><td>1936-03-30</td><td>C1</td><td>05</td><td>white</td><td>nonhispanic</td><td>911 Rodriguez Forge</td><td>null</td><td>Orange</td><td>Massachusetts</td><td>Franklin County</td><td>01364</td></tr><tr><td>147700</td><td>30696</td><td>Kaan</td><td>Mckee</td><td>null</td><td>1.0</td><td>1965-06-25</td><td>G1</td><td>07</td><td>white</td><td>nonhispanic</td><td>480 Jast Ramp Apt 20</td><td>null</td><td>Dennis</td><td>Massachusetts</td><td>Barnstable County</td><td>02638</td></tr><tr><td>86400</td><td>30696</td><td>Malakai</td><td>Malone</td><td>null</td><td>1.0</td><td>2011-06-20</td><td>E</td><td>01</td><td>white</td><td>nonhispanic</td><td>964 Schroeder Branch Apt 20</td><td>null</td><td>Spencer</td><td>Massachusetts</td><td>Worcester County</td><td></td></tr><tr><td>18200</td><td>38256</td><td>Aarav</td><td>Kent</td><td>null</td><td>1.0</td><td>1943-01-01</td><td>M</td><td>04</td><td>black</td><td>nonhispanic</td><td>718 Hamill Club</td><td>null</td><td>Easthampton</td><td>Massachusetts</td><td>Hampshire County</td><td></td></tr><tr><td>18200</td><td>38256</td><td>Steffan</td><td>Figueroa</td><td>Kippar</td><td>1.0</td><td>1943-01-01</td><td>E</td><td>01</td><td>black</td><td>nonhispanic</td><td>718 Hamill Club</td><td>null</td><td>Easthampton</td><td>Massachusetts</td><td>Hampshire County</td><td></td></tr><tr><td>18200</td><td>38256</td><td>Derek</td><td>Santos</td><td>null</td><td>1.0</td><td>1943-01-01</td><td>C1</td><td>05</td><td>black</td><td>nonhispanic</td><td>718 Hamill Club</td><td>null</td><td>Easthampton</td><td>Massachusetts</td><td>Hampshire County</td><td></td></tr><tr><td>109600</td><td>59066</td><td>Cole</td><td>Turner</td><td>null</td><td>1.0</td><td>2008-03-28</td><td>N</td><td>13</td><td>white</td><td>nonhispanic</td><td>454 Crooks Divide Unit 13</td><td>null</td><td>Plymouth</td><td>Massachusetts</td><td>Plymouth County</td><td></td></tr><tr><td>94700</td><td>62804</td><td>Roosevelt</td><td>Silva</td><td>null</td><td>1.0</td><td>2005-12-03</td><td>N</td><td>13</td><td>white</td><td>nonhispanic</td><td>461 Lindgren Plaza</td><td>null</td><td>Quincy</td><td>Massachusetts</td><td>Norfolk County</td><td>02169</td></tr><tr><td>105800</td><td>64702</td><td>Erin</td><td>Huff</td><td>Kester</td><td>1.0</td><td>1999-12-12</td><td>G2</td><td>08</td><td>white</td><td>nonhispanic</td><td>147 Rippin Lane</td><td>null</td><td>Boston</td><td>Massachusetts</td><td>Suffolk County</td><td>02116</td></tr><tr><td>210000</td><td>38256</td><td>Dale</td><td>Dale</td><td>null</td><td>1.0</td><td>1961-01-12</td><td>D1</td><td>15</td><td>black</td><td>nonhispanic</td><td>976 Lowe Branch</td><td>null</td><td>Boston</td><td>Massachusetts</td><td>Suffolk County</td><td>02115</td></tr><tr><td>1900</td><td>38256</td><td>Ameer</td><td>Mcmahon</td><td>null</td><td>1.0</td><td>2011-04-23</td><td>F</td><td>03</td><td>white</td><td>hispanic</td><td>1032 Koch Gardens</td><td>null</td><td>Sharon</td><td>Massachusetts</td><td>Norfolk County</td><td></td></tr><tr><td>2700</td><td>38256</td><td>Keeley</td><td>Preston</td><td>null</td><td>1.0</td><td>1956-03-29</td><td>D2</td><td>16</td><td>white</td><td>nonhispanic</td><td>333 Hilpert Route</td><td>null</td><td>Ware</td><td>Massachusetts</td><td>Hampshire County</td><td></td></tr><tr><td>2800</td><td>95182</td><td>Ted</td><td>Summers</td><td>null</td><td>1.0</td><td>1990-08-25</td><td>D2</td><td>16</td><td>white</td><td>nonhispanic</td><td>410 Homenick Lane</td><td>null</td><td>Duxbury</td><td>Massachusetts</td><td>Plymouth County</td><td>02332</td></tr><tr><td>117100</td><td>95182</td><td>Jaydon</td><td>Richard</td><td>null</td><td>1.0</td><td>1950-10-22</td><td>G3</td><td>09</td><td>white</td><td>nonhispanic</td><td>322 Marks Rue Suite 15</td><td>null</td><td>Fitchburg</td><td>Massachusetts</td><td>Worcester County</td><td>01420</td></tr><tr><td>77900</td><td>95182</td><td>Kristen</td><td>Gillespie</td><td>null</td><td>1.0</td><td>2004-02-16</td><td>E</td><td>01</td><td>white</td><td>nonhispanic</td><td>230 Murphy Camp Unit 83</td><td>null</td><td>Burlington</td><td>Massachusetts</td><td>Middlesex County</td><td>01803</td></tr></tbody></table></div>"
      ]
     },
     "metadata": {
      "application/vnd.databricks.v1+output": {
       "addedWidgets": {},
       "aggData": [],
       "aggError": "",
       "aggOverflow": false,
       "aggSchema": [],
       "aggSeriesLimitReached": false,
       "aggType": "",
       "arguments": {},
       "columnCustomDisplayInfos": {},
       "data": [
        [
         "173400",
         "160951",
         "Freya",
         "Lynn",
         "Marlys",
         0.0,
         "1988-02-23",
         "S",
         "02",
         "white",
         "nonhispanic",
         "771 Kirlin Haven",
         null,
         "Attleboro",
         "Massachusetts",
         "Bristol County",
         "02703"
        ],
        [
         "83300",
         "160951",
         "Candice",
         "Padilla",
         null,
         0.0,
         "1964-12-10",
         "F",
         "03",
         "white",
         "nonhispanic",
         "182 Trantow Mission Unit 20",
         null,
         "Bellingham",
         "Massachusetts",
         "Norfolk County",
         ""
        ],
        [
         "106800",
         "111325",
         "Leanne",
         "Swanson",
         null,
         0.0,
         "2015-05-28",
         "D2",
         "16",
         "white",
         "nonhispanic",
         "686 Shields Dam",
         null,
         "Easthampton",
         "Massachusetts",
         "Hampshire County",
         ""
        ],
        [
         "52900",
         "114177",
         "Millicent",
         "Byrne",
         null,
         0.0,
         "1948-04-22",
         "N",
         "13",
         "white",
         "nonhispanic",
         "1009 DuBuque Ville Unit 54",
         null,
         "Springfield",
         "Massachusetts",
         "Hampden County",
         "01106"
        ],
        [
         "97600",
         "117067",
         "Charley",
         "Lynn",
         null,
         0.0,
         "1976-01-12",
         "A1",
         "11",
         "white",
         "nonhispanic",
         "114 Cummerata Parade",
         null,
         "West Tisbury",
         "Massachusetts",
         "Dukes County",
         ""
        ],
        [
         "22000",
         "12745",
         "Flynn",
         "Morrison",
         null,
         0.0,
         "1989-03-30",
         "M",
         "04",
         "white",
         "nonhispanic",
         "164 Stokes Lodge Apt 34",
         null,
         "Winchendon",
         "Massachusetts",
         "Worcester County",
         "01475"
        ],
        [
         "22900",
         "13466",
         "Pauline",
         "Knight",
         null,
         0.0,
         "2019-05-09",
         "N",
         "13",
         "white",
         "nonhispanic",
         "376 Skiles Forge Suite 48",
         null,
         "Westminster",
         "Massachusetts",
         "Worcester County",
         ""
        ],
        [
         "122500",
         "135688",
         "Elspeth",
         "Gonzalez",
         "Marliss",
         0.0,
         "2014-09-09",
         "C2",
         "06",
         "asian",
         "hispanic",
         "570 Nikolaus Wynd",
         null,
         "Cambridge",
         "Massachusetts",
         "Middlesex County",
         "02139"
        ],
        [
         "21800",
         "13587",
         "Amelie",
         "Harmon",
         null,
         0.0,
         "1984-04-08",
         "D2",
         "16",
         "other",
         "nonhispanic",
         "958 Robel Run Unit 83",
         null,
         "Carver",
         "Massachusetts",
         "Plymouth County",
         ""
        ],
        [
         "145000",
         "138507",
         "Laura",
         "Montoya",
         null,
         0.0,
         "2010-03-29",
         "F",
         "03",
         "white",
         "nonhispanic",
         "1094 Keebler Grove",
         null,
         "Gardner",
         "Massachusetts",
         "Worcester County",
         "01440"
        ],
        [
         "150400",
         "151731",
         "Jayden",
         "Kane",
         null,
         0.0,
         "2019-07-08",
         "F",
         "03",
         "white",
         "hispanic",
         "1054 Price Glen",
         null,
         "Haverhill",
         "Massachusetts",
         "Essex County",
         "01835"
        ],
        [
         "114100",
         "152105",
         "Safa",
         "Kelly",
         null,
         0.0,
         "1991-08-21",
         "G3",
         "09",
         "white",
         "hispanic",
         "765 Russel Pathway Unit 82",
         null,
         "Spencer",
         "Massachusetts",
         "Worcester County",
         "01562"
        ],
        [
         "201500",
         "153303",
         "Anika",
         "Washington",
         "Merla",
         0.0,
         "2002-03-08",
         "F",
         "03",
         "black",
         "nonhispanic",
         "815 Rau Ramp",
         null,
         "Boston",
         "Massachusetts",
         "Suffolk County",
         "02109"
        ],
        [
         "215600",
         "158915",
         "Inayah",
         "Evans",
         null,
         0.0,
         "1988-06-28",
         "G3",
         "09",
         "white",
         "nonhispanic",
         "282 Roberts Brook Suite 29",
         null,
         "Dartmouth",
         "Massachusetts",
         "Bristol County",
         ""
        ],
        [
         "216900",
         "160951",
         "Aurora",
         "Lawson",
         null,
         0.0,
         "2012-10-04",
         "E",
         "01",
         "white",
         "nonhispanic",
         "194 Robel Skyway",
         null,
         "Boston",
         "Massachusetts",
         "Suffolk County",
         "02124"
        ],
        [
         "207000",
         "166936",
         "Robyn",
         "Stewart",
         null,
         0.0,
         "1957-10-19",
         "D1",
         "15",
         "white",
         "nonhispanic",
         "306 Aufderhar Grove Unit 79",
         null,
         "Palmer",
         "Massachusetts",
         "Hampden County",
         ""
        ],
        [
         "124700",
         "168886",
         "Lena",
         "Pearce",
         null,
         0.0,
         "1961-06-22",
         "A1",
         "11",
         "white",
         "nonhispanic",
         "610 Harber Rapid Unit 87",
         null,
         "Greenfield",
         "Massachusetts",
         "Franklin County",
         ""
        ],
        [
         "222700",
         "170319",
         "Kane",
         "Hardin",
         null,
         0.0,
         "2016-01-29",
         "E",
         "01",
         "asian",
         "hispanic",
         "971 Balistreri Vale Unit 75",
         null,
         "Southborough",
         "Massachusetts",
         "Worcester County",
         ""
        ],
        [
         "190000",
         "170319",
         "Noor",
         "Merritt",
         "Melody",
         0.0,
         "1954-02-18",
         "A2",
         "12",
         "white",
         "nonhispanic",
         "970 Johnston Drive Apt 25",
         null,
         "Worcester",
         "Massachusetts",
         "Worcester County",
         "01583"
        ],
        [
         "182000",
         "170319",
         "Khadijah",
         "Johnston",
         null,
         0.0,
         "2003-06-09",
         "D2",
         "16",
         "white",
         "nonhispanic",
         "252 Heller Manor Suite 56",
         null,
         "Attleboro",
         "Massachusetts",
         "Bristol County",
         "02861"
        ],
        [
         "139000",
         "170319",
         "Katy",
         "Dalton",
         null,
         0.0,
         "1983-10-07",
         "A1",
         "11",
         "white",
         "nonhispanic",
         "999 Kuhn Forge",
         null,
         "Lowell",
         "Massachusetts",
         "Middlesex County",
         "01851"
        ],
        [
         "157100",
         "170319",
         "Aminah",
         "Wall",
         null,
         0.0,
         "2007-09-19",
         "G4",
         "10",
         "white",
         "hispanic",
         "984 Kuhic Bay Apt 19",
         null,
         "Agawam",
         "Massachusetts",
         "Hampden County",
         "01030"
        ],
        [
         "110800",
         "209109",
         "Hollie",
         "Eaton",
         null,
         0.0,
         "1997-09-20",
         "M",
         "04",
         "white",
         "nonhispanic",
         "652 Kovacek Trailer Suite 29",
         null,
         "Lenox",
         "Massachusetts",
         "Berkshire County",
         "01240"
        ],
        [
         "158600",
         "213741",
         "Siobhan",
         "Lin",
         null,
         0.0,
         "2008-01-24",
         "A2",
         "12",
         "white",
         "nonhispanic",
         "611 Williamson Loaf Apt 44",
         null,
         "Somerville",
         "Massachusetts",
         "Middlesex County",
         "02138"
        ],
        [
         "190600",
         "215316",
         "Marley",
         "Zamora",
         null,
         0.0,
         "1950-06-05",
         "A2",
         "12",
         "black",
         "hispanic",
         "289 Brown Glen Unit 6",
         null,
         "Revere",
         "Massachusetts",
         "Suffolk County",
         "02151"
        ],
        [
         "21700",
         "22190",
         "Alessia",
         "Romero",
         "Mariel",
         0.0,
         "1967-07-12",
         "G4",
         "10",
         "white",
         "nonhispanic",
         "913 Schiller Well Apt 80",
         null,
         "Burlington",
         "Massachusetts",
         "Middlesex County",
         "01803"
        ],
        [
         "216300",
         "223770",
         "Adrian",
         "Collins",
         null,
         0.0,
         "1952-05-10",
         "C2",
         "06",
         "white",
         "hispanic",
         "217 Will Well Unit 1",
         null,
         "Boston",
         "Massachusetts",
         "Suffolk County",
         "02110"
        ],
        [
         "218500",
         "226237",
         "Belle",
         "O'Gallagher",
         null,
         0.0,
         "1994-05-05",
         "C1",
         "05",
         "white",
         "nonhispanic",
         "900 Paucek Way",
         null,
         "Newton",
         "Massachusetts",
         "Middlesex County",
         ""
        ],
        [
         "37600",
         "226967",
         "Chelsea",
         "Whitehead",
         null,
         0.0,
         "2016-03-22",
         "F",
         "03",
         "white",
         "nonhispanic",
         "255 Ondricka Common",
         null,
         "Deerfield",
         "Massachusetts",
         "Franklin County",
         ""
        ],
        [
         "93800",
         "27570",
         "Maeve",
         "Tucker",
         "Manuela",
         0.0,
         "1981-09-08",
         "M",
         "04",
         "white",
         "nonhispanic",
         "836 Willms Flat Suite 54",
         null,
         "Watertown",
         "Massachusetts",
         "Middlesex County",
         ""
        ],
        [
         "33500",
         "29764",
         "Lenny",
         "Coleman",
         null,
         0.0,
         "1975-09-26",
         "N",
         "13",
         "white",
         "nonhispanic",
         "820 Willms Mews",
         null,
         "Stow",
         "Massachusetts",
         "Middlesex County",
         ""
        ],
        [
         "58800",
         "29931",
         "Meredith",
         "Lewis",
         null,
         0.0,
         "1957-06-24",
         "D2",
         "16",
         "white",
         "hispanic",
         "451 Buckridge Harbor",
         null,
         "Attleboro",
         "Massachusetts",
         "Bristol County",
         ""
        ],
        [
         "106900",
         "33500",
         "Stella",
         "Franklin",
         null,
         0.0,
         "1970-04-18",
         "G1",
         "07",
         "white",
         "nonhispanic",
         "818 Bogan Ville",
         null,
         "Westport",
         "Massachusetts",
         "Bristol County",
         ""
        ],
        [
         "93100",
         "3975",
         "Cecilia",
         "Mayer",
         null,
         0.0,
         "1969-01-18",
         "C1",
         "05",
         "white",
         "nonhispanic",
         "419 Beatty Gardens",
         null,
         "Boston",
         "Massachusetts",
         "Suffolk County",
         "02111"
        ],
        [
         "17200",
         "39986",
         "Georgiana",
         "Livingston",
         null,
         0.0,
         "2003-09-21",
         "G4",
         "10",
         "white",
         "nonhispanic",
         "814 Blick Avenue Unit 22",
         null,
         "Wayland",
         "Massachusetts",
         "Middlesex County",
         ""
        ],
        [
         "32700",
         "41842",
         "Maya",
         "Townsend",
         "Merilyn",
         0.0,
         "1960-12-30",
         "G2",
         "08",
         "white",
         "nonhispanic",
         "763 Smitham Rue",
         null,
         "Worthington",
         "Massachusetts",
         "Hampshire County",
         ""
        ],
        [
         "22700",
         "44147",
         "Emelia",
         "Hobbs",
         null,
         0.0,
         "2020-05-22",
         "E",
         "01",
         "white",
         "hispanic",
         "810 Pfannerstill Underpass",
         null,
         "Springfield",
         "Massachusetts",
         "Hampden County",
         ""
        ],
        [
         "46700",
         "44147",
         "Lana",
         "Mckenzie",
         "Milissa",
         0.0,
         "2014-04-03",
         "A2",
         "12",
         "white",
         "nonhispanic",
         "1014 Hilpert Skyway Apt 68",
         null,
         "North Brookfield",
         "Massachusetts",
         "Worcester County",
         "01535"
        ],
        [
         "27400",
         "44147",
         "Rio",
         "Blair",
         null,
         0.0,
         "2011-07-22",
         "D1",
         "15",
         "white",
         "nonhispanic",
         "422 Farrell Path Unit 69",
         null,
         "Somerville",
         "Massachusetts",
         "Middlesex County",
         "02143"
        ],
        [
         "14000",
         "44147",
         "Demi-Leigh",
         "Sanders",
         "Myrtle",
         0.0,
         "2021-01-14",
         "C1",
         "05",
         "white",
         "hispanic",
         "746 Weissnat Landing",
         null,
         "Boston",
         "Massachusetts",
         "Suffolk County",
         "02203"
        ],
        [
         "36400",
         "49044",
         "Jenny",
         "Wells",
         null,
         0.0,
         "2011-09-22",
         "F",
         "03",
         "white",
         "nonhispanic",
         "574 Kunze Grove Apt 45",
         null,
         "Lowell",
         "Massachusetts",
         "Middlesex County",
         ""
        ],
        [
         "44800",
         "5185",
         "Wade",
         "Mills",
         null,
         0.0,
         "1983-02-04",
         "C1",
         "05",
         "white",
         "nonhispanic",
         "137 Miller Meadow",
         null,
         "Boston",
         "Massachusetts",
         "Suffolk County",
         "02126"
        ],
        [
         "203300",
         "68739",
         "Savanna",
         "Cannon",
         null,
         0.0,
         "1974-09-20",
         "C2",
         "06",
         "white",
         "nonhispanic",
         "954 Marvin Ferry",
         null,
         "Marlborough",
         "Massachusetts",
         "Middlesex County",
         "01752"
        ],
        [
         "90300",
         "76014",
         "Jemima",
         "Wagner",
         null,
         0.0,
         "2012-12-14",
         "G4",
         "10",
         "white",
         "nonhispanic",
         "818 Rau Fort",
         null,
         "Boston",
         "Massachusetts",
         "Suffolk County",
         "02115"
        ],
        [
         "90500",
         "76100",
         "Kye",
         "Henderson",
         null,
         0.0,
         "1961-07-19",
         "C2",
         "06",
         "white",
         "nonhispanic",
         "1080 Sawayn Gateway Suite 9",
         null,
         "Framingham",
         "Massachusetts",
         "Middlesex County",
         "01701"
        ],
        [
         "112400",
         "83026",
         "Briony",
         "Hampton",
         "Marylou",
         0.0,
         "1974-10-03",
         "A2",
         "12",
         "white",
         "nonhispanic",
         "923 Boyle Dale Apt 44",
         null,
         "Boston",
         "Massachusetts",
         "Suffolk County",
         "02113"
        ],
        [
         "160400",
         "84379",
         "Isabel",
         "Ballard",
         null,
         0.0,
         "1960-04-10",
         "N",
         "13",
         "asian",
         "nonhispanic",
         "330 Hermiston Trafficway",
         null,
         "Westborough",
         "Massachusetts",
         "Worcester County",
         ""
        ],
        [
         "74800",
         "85789",
         "Ebony",
         "Mcmahon",
         null,
         0.0,
         "1954-01-14",
         "G2",
         "08",
         "white",
         "nonhispanic",
         "358 Mann Junction Suite 98",
         null,
         "Holliston",
         "Massachusetts",
         "Middlesex County",
         ""
        ],
        [
         "55900",
         "90659",
         "Lydia",
         "Watson",
         null,
         0.0,
         "1986-12-06",
         "A2",
         "12",
         "white",
         "nonhispanic",
         "234 McLaughlin Station Suite 21",
         null,
         "Boston",
         "Massachusetts",
         "Suffolk County",
         "02134"
        ],
        [
         "65100",
         "92762",
         "Sallie",
         "Aguilar",
         null,
         0.0,
         "2003-05-26",
         "G3",
         "09",
         "white",
         "nonhispanic",
         "1031 Rempel Parade",
         null,
         "Sandwich",
         "Massachusetts",
         "Barnstable County",
         ""
        ],
        [
         "75800",
         "92943",
         "Dora",
         "Curtis",
         null,
         0.0,
         "1999-09-25",
         "D2",
         "16",
         "asian",
         "nonhispanic",
         "864 Legros Alley",
         null,
         "Holliston",
         "Massachusetts",
         "Middlesex County",
         ""
        ],
        [
         "66200",
         "94524",
         "Scarlet",
         "Wright",
         null,
         0.0,
         "2015-01-06",
         "F",
         "03",
         "white",
         "nonhispanic",
         "370 Grant Park",
         null,
         "Somerset",
         "Massachusetts",
         "Bristol County",
         ""
        ],
        [
         "39900",
         "10538",
         "Casey",
         "Marsh",
         null,
         1.0,
         "1973-05-06",
         "G2",
         "08",
         "white",
         "nonhispanic",
         "892 Dibbert Port Suite 41",
         null,
         "Norwood",
         "Massachusetts",
         "Norfolk County",
         ""
        ],
        [
         "91400",
         "11338",
         "Lucas",
         "Winters",
         "Javier",
         1.0,
         "2001-01-18",
         "D2",
         "16",
         "white",
         "nonhispanic",
         "1072 Hagenes Crossing",
         null,
         "Woburn",
         "Massachusetts",
         "Middlesex County",
         ""
        ],
        [
         "52200",
         "113830",
         "Lewys",
         "Maddox",
         null,
         1.0,
         "2008-01-18",
         "D1",
         "15",
         "white",
         "nonhispanic",
         "214 Hane Course Unit 68",
         null,
         "Westford",
         "Massachusetts",
         "Middlesex County",
         ""
        ],
        [
         "49100",
         "115963",
         "Zac",
         "Suarez",
         null,
         1.0,
         "1979-09-24",
         "N",
         "13",
         "white",
         "nonhispanic",
         "128 Stiedemann Gardens Apt 64",
         null,
         "Needham",
         "Massachusetts",
         "Norfolk County",
         "02494"
        ],
        [
         "102200",
         "121160",
         "Mohammad",
         "Cox",
         null,
         1.0,
         "1994-09-30",
         "F",
         "03",
         "white",
         "nonhispanic",
         "755 Hirthe Underpass",
         null,
         "Milford",
         "Massachusetts",
         "Worcester County",
         ""
        ],
        [
         "133600",
         "137952",
         "Rehan",
         "Hatfield",
         null,
         1.0,
         "1990-09-07",
         "D1",
         "15",
         "white",
         "nonhispanic",
         "937 Ryan Neck",
         null,
         "Haverhill",
         "Massachusetts",
         "Essex County",
         "01832"
        ],
        [
         "193900",
         "145520",
         "Francesco",
         "Rivera",
         "Kristopher",
         1.0,
         "1994-11-04",
         "M",
         "04",
         "white",
         "nonhispanic",
         "837 Mills Dam",
         null,
         "Somerville",
         "Massachusetts",
         "Middlesex County",
         "02140"
        ],
        [
         "126500",
         "147036",
         "Calvin",
         "Cabrera",
         null,
         1.0,
         "1977-11-12",
         "F",
         "03",
         "white",
         "nonhispanic",
         "528 Lowe Lodge",
         null,
         "Lowell",
         "Massachusetts",
         "Middlesex County",
         "01854"
        ],
        [
         "208500",
         "147970",
         "Faith",
         "Donnelly",
         null,
         1.0,
         "2016-05-30",
         "M",
         "04",
         "white",
         "nonhispanic",
         "164 Stokes Lodge Apt 34",
         null,
         "Winchendon",
         "Massachusetts",
         "Worcester County",
         "01475"
        ],
        [
         "176200",
         "150505",
         "Damon",
         "Taylor",
         null,
         1.0,
         "1960-02-06",
         "M",
         "04",
         "black",
         "nonhispanic",
         "975 Murphy Tunnel Apt 27",
         null,
         "Plymouth",
         "Massachusetts",
         "Plymouth County",
         "02360"
        ],
        [
         "25500",
         "15352",
         "Pablo",
         "Livingston",
         null,
         1.0,
         "1999-05-28",
         "M",
         "04",
         "white",
         "nonhispanic",
         "566 Williamson Run Suite 85",
         null,
         "Swansea",
         "Massachusetts",
         "Bristol County",
         ""
        ],
        [
         "153300",
         "162576",
         "Raees",
         "Tucker",
         "Kyler",
         1.0,
         "1988-04-24",
         "N",
         "13",
         "native",
         "nonhispanic",
         "471 Mayert Flat Unit 54",
         null,
         "Peabody",
         "Massachusetts",
         "Essex County",
         ""
        ],
        [
         "206200",
         "192974",
         "Harley",
         "Salas",
         null,
         1.0,
         "2009-09-19",
         "F",
         "03",
         "white",
         "nonhispanic",
         "1056 Harris Lane Suite 70",
         null,
         "Chicopee",
         "Massachusetts",
         "Hampden County",
         "01020"
        ],
        [
         "224200",
         "192974",
         "Silas",
         "Bush",
         null,
         1.0,
         "1983-01-01",
         "C1",
         "05",
         "white",
         "nonhispanic",
         "482 McGlynn Extension Apt 8",
         null,
         "Chicopee",
         "Massachusetts",
         "Hampden County",
         "01022"
        ],
        [
         "171200",
         "192974",
         "Wojciech",
         "Sanders",
         null,
         1.0,
         "1970-08-06",
         "C2",
         "06",
         "black",
         "nonhispanic",
         "577 Kshlerin Parade",
         null,
         "Swansea",
         "Massachusetts",
         "Bristol County",
         ""
        ],
        [
         "185200",
         "192974",
         "Karim",
         "Hawkins",
         "Junior",
         1.0,
         "2014-04-28",
         "N",
         "13",
         "white",
         "nonhispanic",
         "898 Grant Overpass Unit 18",
         null,
         "Hingham",
         "Massachusetts",
         "Plymouth County",
         "02043"
        ],
        [
         "185400",
         "192974",
         "Stella",
         "Franco",
         null,
         1.0,
         "2008-08-13",
         "E",
         "01",
         "white",
         "nonhispanic",
         "757 Jenkins Crossroad",
         null,
         "Wakefield",
         "Massachusetts",
         "Middlesex County",
         ""
        ],
        [
         "210200",
         "195288",
         "Mark",
         "Armstrong",
         null,
         1.0,
         "2020-03-05",
         "G4",
         "10",
         "white",
         "nonhispanic",
         "730 Bogan Row",
         null,
         "Danvers",
         "Massachusetts",
         "Essex County",
         ""
        ],
        [
         "205400",
         "198559",
         "Sonny",
         "Brewer",
         "Jagger",
         1.0,
         "1973-04-02",
         "C1",
         "05",
         "white",
         "nonhispanic",
         "494 Ondricka Vista Unit 61",
         null,
         "Provincetown",
         "Massachusetts",
         "Barnstable County",
         "02657"
        ],
        [
         "178000",
         "199072",
         "Keziah",
         "Flynn",
         null,
         1.0,
         "1988-03-07",
         "M",
         "04",
         "white",
         "nonhispanic",
         "314 Haag Orchard Suite 76",
         null,
         "Weymouth",
         "Massachusetts",
         "Norfolk County",
         "02190"
        ],
        [
         "144400",
         "200118",
         "Courtney",
         "Cuevas",
         null,
         1.0,
         "1950-11-09",
         "F",
         "03",
         "white",
         "nonhispanic",
         "159 Treutel Hollow",
         null,
         "Winchester",
         "Massachusetts",
         "Middlesex County",
         ""
        ],
        [
         "181900",
         "200665",
         "Zain",
         "Webb",
         null,
         1.0,
         "2004-10-18",
         "N",
         "13",
         "black",
         "nonhispanic",
         "203 Sporer Esplanade Unit 14",
         null,
         "Oxford",
         "Massachusetts",
         "Worcester County",
         ""
        ],
        [
         "213300",
         "203702",
         "Andre",
         "Jackson",
         null,
         1.0,
         "1969-10-29",
         "G4",
         "10",
         "white",
         "nonhispanic",
         "954 Marvin Ferry",
         null,
         "Marlborough",
         "Massachusetts",
         "Middlesex County",
         "01752"
        ],
        [
         "156400",
         "205773",
         "Gavin",
         "Bernard",
         null,
         1.0,
         "2004-06-28",
         "S",
         "02",
         "white",
         "nonhispanic",
         "465 Crist Crossroad Unit 86",
         null,
         "Quincy",
         "Massachusetts",
         "Norfolk County",
         "02170"
        ],
        [
         "100000",
         "206682",
         "Fergus",
         "Matthews",
         null,
         1.0,
         "1990-10-14",
         "A2",
         "12",
         "black",
         "nonhispanic",
         "503 Carter Light Apt 12",
         null,
         "Auburn",
         "Massachusetts",
         "Worcester County",
         ""
        ],
        [
         "201100",
         "217633",
         "Armaan",
         "Moody",
         "Ker",
         1.0,
         "2007-04-30",
         "D2",
         "16",
         "white",
         "nonhispanic",
         "578 Welch Trace Unit 19",
         null,
         "Bridgewater",
         "Massachusetts",
         "Plymouth County",
         ""
        ],
        [
         "201400",
         "217770",
         "Robyn",
         "Mcgowan",
         null,
         1.0,
         "2003-12-28",
         "E",
         "01",
         "white",
         "nonhispanic",
         "379 Bernhard Station",
         null,
         "Newburyport",
         "Massachusetts",
         "Essex County",
         ""
        ],
        [
         "130400",
         "218479",
         "Neo",
         "Aguirre",
         null,
         1.0,
         "1993-03-16",
         "C1",
         "05",
         "white",
         "nonhispanic",
         "489 Nienow Rue",
         null,
         "Fall River",
         "Massachusetts",
         "Bristol County",
         "02790"
        ],
        [
         "142600",
         "219363",
         "Dillon",
         "Roach",
         null,
         1.0,
         "2009-05-05",
         "G2",
         "08",
         "white",
         "nonhispanic",
         "741 Stracke Landing Apt 68",
         null,
         "Walpole",
         "Massachusetts",
         "Norfolk County",
         "02081"
        ],
        [
         "152200",
         "221967",
         "Evan",
         "Moore",
         null,
         1.0,
         "1944-08-14",
         "M",
         "04",
         "white",
         "nonhispanic",
         "1045 Gibson Vista",
         null,
         "Attleboro",
         "Massachusetts",
         "Bristol County",
         "02703"
        ],
        [
         "152200",
         "221967",
         "Marcel",
         "Randolph",
         "Jirkar",
         1.0,
         "1944-08-14",
         "F",
         "03",
         "white",
         "nonhispanic",
         "1045 Gibson Vista",
         null,
         "Attleboro",
         "Massachusetts",
         "Bristol County",
         "02703"
        ],
        [
         "197900",
         "222628",
         "Eesa",
         "Carpenter",
         null,
         1.0,
         "1989-10-01",
         "G3",
         "09",
         "white",
         "hispanic",
         "764 Feil Route",
         null,
         "Boston",
         "Massachusetts",
         "Suffolk County",
         "02108"
        ],
        [
         "62900",
         "23532",
         "Drew",
         "Friedman",
         null,
         1.0,
         "1936-03-30",
         "C1",
         "05",
         "white",
         "nonhispanic",
         "911 Rodriguez Forge",
         null,
         "Orange",
         "Massachusetts",
         "Franklin County",
         "01364"
        ],
        [
         "147700",
         "30696",
         "Kaan",
         "Mckee",
         null,
         1.0,
         "1965-06-25",
         "G1",
         "07",
         "white",
         "nonhispanic",
         "480 Jast Ramp Apt 20",
         null,
         "Dennis",
         "Massachusetts",
         "Barnstable County",
         "02638"
        ],
        [
         "86400",
         "30696",
         "Malakai",
         "Malone",
         null,
         1.0,
         "2011-06-20",
         "E",
         "01",
         "white",
         "nonhispanic",
         "964 Schroeder Branch Apt 20",
         null,
         "Spencer",
         "Massachusetts",
         "Worcester County",
         ""
        ],
        [
         "18200",
         "38256",
         "Aarav",
         "Kent",
         null,
         1.0,
         "1943-01-01",
         "M",
         "04",
         "black",
         "nonhispanic",
         "718 Hamill Club",
         null,
         "Easthampton",
         "Massachusetts",
         "Hampshire County",
         ""
        ],
        [
         "18200",
         "38256",
         "Steffan",
         "Figueroa",
         "Kippar",
         1.0,
         "1943-01-01",
         "E",
         "01",
         "black",
         "nonhispanic",
         "718 Hamill Club",
         null,
         "Easthampton",
         "Massachusetts",
         "Hampshire County",
         ""
        ],
        [
         "18200",
         "38256",
         "Derek",
         "Santos",
         null,
         1.0,
         "1943-01-01",
         "C1",
         "05",
         "black",
         "nonhispanic",
         "718 Hamill Club",
         null,
         "Easthampton",
         "Massachusetts",
         "Hampshire County",
         ""
        ],
        [
         "109600",
         "59066",
         "Cole",
         "Turner",
         null,
         1.0,
         "2008-03-28",
         "N",
         "13",
         "white",
         "nonhispanic",
         "454 Crooks Divide Unit 13",
         null,
         "Plymouth",
         "Massachusetts",
         "Plymouth County",
         ""
        ],
        [
         "94700",
         "62804",
         "Roosevelt",
         "Silva",
         null,
         1.0,
         "2005-12-03",
         "N",
         "13",
         "white",
         "nonhispanic",
         "461 Lindgren Plaza",
         null,
         "Quincy",
         "Massachusetts",
         "Norfolk County",
         "02169"
        ],
        [
         "105800",
         "64702",
         "Erin",
         "Huff",
         "Kester",
         1.0,
         "1999-12-12",
         "G2",
         "08",
         "white",
         "nonhispanic",
         "147 Rippin Lane",
         null,
         "Boston",
         "Massachusetts",
         "Suffolk County",
         "02116"
        ],
        [
         "210000",
         "38256",
         "Dale",
         "Dale",
         null,
         1.0,
         "1961-01-12",
         "D1",
         "15",
         "black",
         "nonhispanic",
         "976 Lowe Branch",
         null,
         "Boston",
         "Massachusetts",
         "Suffolk County",
         "02115"
        ],
        [
         "1900",
         "38256",
         "Ameer",
         "Mcmahon",
         null,
         1.0,
         "2011-04-23",
         "F",
         "03",
         "white",
         "hispanic",
         "1032 Koch Gardens",
         null,
         "Sharon",
         "Massachusetts",
         "Norfolk County",
         ""
        ],
        [
         "2700",
         "38256",
         "Keeley",
         "Preston",
         null,
         1.0,
         "1956-03-29",
         "D2",
         "16",
         "white",
         "nonhispanic",
         "333 Hilpert Route",
         null,
         "Ware",
         "Massachusetts",
         "Hampshire County",
         ""
        ],
        [
         "2800",
         "95182",
         "Ted",
         "Summers",
         null,
         1.0,
         "1990-08-25",
         "D2",
         "16",
         "white",
         "nonhispanic",
         "410 Homenick Lane",
         null,
         "Duxbury",
         "Massachusetts",
         "Plymouth County",
         "02332"
        ],
        [
         "117100",
         "95182",
         "Jaydon",
         "Richard",
         null,
         1.0,
         "1950-10-22",
         "G3",
         "09",
         "white",
         "nonhispanic",
         "322 Marks Rue Suite 15",
         null,
         "Fitchburg",
         "Massachusetts",
         "Worcester County",
         "01420"
        ],
        [
         "77900",
         "95182",
         "Kristen",
         "Gillespie",
         null,
         1.0,
         "2004-02-16",
         "E",
         "01",
         "white",
         "nonhispanic",
         "230 Murphy Camp Unit 83",
         null,
         "Burlington",
         "Massachusetts",
         "Middlesex County",
         "01803"
        ]
       ],
       "datasetInfos": [],
       "dbfsResultPath": null,
       "isJsonSchema": true,
       "metadata": {},
       "overflow": false,
       "plotOptions": {
        "customPlotOptions": {},
        "displayType": "table",
        "pivotAggregation": null,
        "pivotColumns": null,
        "xColumns": null,
        "yColumns": null
       },
       "removedWidgets": [],
       "schema": [
        {
         "metadata": "{}",
         "name": "MEMBER_ID",
         "type": "\"string\""
        },
        {
         "metadata": "{}",
         "name": "EMPLOYEE_ID",
         "type": "\"string\""
        },
        {
         "metadata": "{}",
         "name": "FIRST_NAME",
         "type": "\"string\""
        },
        {
         "metadata": "{}",
         "name": "LAST_NAME",
         "type": "\"string\""
        },
        {
         "metadata": "{}",
         "name": "MIDDLE_NAME",
         "type": "\"string\""
        },
        {
         "metadata": "{}",
         "name": "GENDER",
         "type": "\"double\""
        },
        {
         "metadata": "{}",
         "name": "DOB",
         "type": "\"string\""
        },
        {
         "metadata": "{}",
         "name": "RELATIONSHIP",
         "type": "\"string\""
        },
        {
         "metadata": "{}",
         "name": "PERSON_CODE",
         "type": "\"string\""
        },
        {
         "metadata": "{}",
         "name": "RACE",
         "type": "\"string\""
        },
        {
         "metadata": "{}",
         "name": "ETHNICITY",
         "type": "\"string\""
        },
        {
         "metadata": "{}",
         "name": "ADDRESS_1",
         "type": "\"string\""
        },
        {
         "metadata": "{}",
         "name": "ADDRESS_2",
         "type": "\"string\""
        },
        {
         "metadata": "{}",
         "name": "CITY",
         "type": "\"string\""
        },
        {
         "metadata": "{}",
         "name": "STATE",
         "type": "\"string\""
        },
        {
         "metadata": "{}",
         "name": "COUNTY",
         "type": "\"string\""
        },
        {
         "metadata": "{}",
         "name": "ZIP",
         "type": "\"string\""
        }
       ],
       "type": "table"
      }
     },
     "output_type": "display_data"
    }
   ],
   "source": [
    "# Empty dictionary to store DataFrames\n",
    "dfs = {}\n",
    "\n",
    "# Iterating through sheet names to read data into dataframes\n",
    "for sheet_name in sheet_names:\n",
    "    df = spark.read.format(\"com.crealytics.spark.excel\") \\\n",
    "               .option(\"inferschema\", True) \\\n",
    "               .option(\"header\", True) \\\n",
    "               .option(\"dataAddress\", f\"{sheet_name}!\") \\\n",
    "               .option(\"sheetName\", sheet_name) \\\n",
    "               .load(file_location)\n",
    "    dfs[sheet_name] = df\n",
    "\n",
    "# Data in dataframes\n",
    "for sheet_name, df in dfs.items():\n",
    "    print(f\"Sheet Name: {sheet_name}\")\n",
    "    display(df)\n"
   ]
  },
  {
   "cell_type": "markdown",
   "metadata": {
    "application/vnd.databricks.v1+cell": {
     "cellMetadata": {
      "byteLimit": 2048000,
      "rowLimit": 10000
     },
     "inputWidgets": {},
     "nuid": "fd7dcbcb-c462-482d-9f98-945c7571e5ea",
     "showTitle": false,
     "title": ""
    }
   },
   "source": [
    "### Creating Temp Views of the different sheets"
   ]
  },
  {
   "cell_type": "code",
   "execution_count": 0,
   "metadata": {
    "application/vnd.databricks.v1+cell": {
     "cellMetadata": {
      "byteLimit": 2048000,
      "rowLimit": 10000
     },
     "inputWidgets": {},
     "nuid": "e84b60ab-e924-42fa-bd99-b16690af48ef",
     "showTitle": false,
     "title": ""
    }
   },
   "outputs": [],
   "source": [
    "for sheet_name, df in dfs.items():\n",
    "    df.createOrReplaceTempView(sheet_name)"
   ]
  },
  {
   "cell_type": "markdown",
   "metadata": {
    "application/vnd.databricks.v1+cell": {
     "cellMetadata": {
      "byteLimit": 2048000,
      "rowLimit": 10000
     },
     "inputWidgets": {},
     "nuid": "f065c060-7f85-4fc7-b3ee-e49b5da7e6fd",
     "showTitle": false,
     "title": ""
    }
   },
   "source": [
    "### Viewing them"
   ]
  },
  {
   "cell_type": "code",
   "execution_count": 0,
   "metadata": {
    "application/vnd.databricks.v1+cell": {
     "cellMetadata": {
      "byteLimit": 2048000,
      "rowLimit": 10000
     },
     "inputWidgets": {},
     "nuid": "8a555086-5a8e-4bd6-86fa-a78f8489d9ff",
     "showTitle": false,
     "title": ""
    }
   },
   "outputs": [
    {
     "output_type": "stream",
     "name": "stdout",
     "output_type": "stream",
     "text": [
      "Viewing contents of temporary table: Gender_Crosswalk\n+----+-----------+------------------+\n|Code|Rollup_Code|Rollup_Description|\n+----+-----------+------------------+\n|  00|          F|            Female|\n|  01|          M|              Male|\n|  02|          U|           Unknown|\n+----+-----------+------------------+\n\nViewing contents of temporary table: Relationship_Crosswalk\n+-----------+------------------+\n|Rollup_Code|Rollup_Description|\n+-----------+------------------+\n|          E|              Self|\n|          S|            Spouse|\n|          F|            Father|\n|          M|            Mother|\n|         C1|               Son|\n|         C2|          Daughter|\n|         G1|      Grand Father|\n|         G2|      Grand Mother|\n|         G3|         Grand Son|\n|         G4|    Grand Daughter|\n|         A1|       Adopted Son|\n|         A2|  Adapted Daughter|\n|          N|             Niece|\n|          F|            Fiance|\n|         D1|  Divorced Husband|\n|         D2|     Divorced Wife|\n|          U|           Unknown|\n+-----------+------------------+\n\nViewing contents of temporary table: Group_Crosswalk\n+--------+--------------------+\n|GROUP_ID|          GROUP_NAME|\n+--------+--------------------+\n|       8|       TechKraft Inc|\n|       1|     Abacus Insights|\n|       4|Digital Convergen...|\n|       3|            Facebook|\n|       2|              Google|\n+--------+--------------------+\n\nViewing contents of temporary table: Coverage_Crosswalk\n+-----------+--------------------+\n|Coverage_ID|Coverage_Description|\n+-----------+--------------------+\n|          E|       Employee Only|\n|         ES| Employee and Spouse|\n|          F|              Family|\n|        E1C|Employee and 1 Child|\n|         EC|Employee and Chil...|\n|         EP|Employee and Parents|\n|          U|             Unknown|\n+-----------+--------------------+\n\nViewing contents of temporary table: Plan_Crosswalk\n+-------+---------+--------------------+--------------+----------------+\n|PLAN_ID|Plan Name|        BENEFIT_TYPE|EFFECTIVE_DATE|TERMINATION_DATE|\n+-------+---------+--------------------+--------------+----------------+\n|    0.0|   Plan A|             Medical|       43101.0|         43465.0|\n|    1.0|   Plan B|  Medical and Dental|       43101.0|         43465.0|\n|    2.0|   Plan C|  Medical and Vision|       43101.0|         43465.0|\n|    3.0|   Plan D|Medical, Dental a...|       43101.0|         43465.0|\n|    4.0|   Plan E|             Medical|       43466.0|         43830.0|\n|    5.0|   Plan F|  Medical and Dental|       43466.0|         43830.0|\n|    6.0|   Plan G|  Medical and Vision|       43466.0|         43830.0|\n|    7.0|   Plan H|Medical, Dental a...|       43466.0|         43830.0|\n|    8.0|   Plan I|             Medical|       43831.0|         44196.0|\n|    9.0|   Plan J|  Medical and Dental|       43831.0|         44196.0|\n|   10.0|   Plan K|  Medical and Vision|       43831.0|         44196.0|\n|   11.0|   Plan L|Medical, Dental a...|       43831.0|         44196.0|\n|   12.0|   Plan M|             Medical|       44197.0|         44561.0|\n|   13.0|   Plan N|  Medical and Dental|       44197.0|         44561.0|\n|   14.0|   Plan O|  Medical and Vision|       44197.0|         44561.0|\n|   15.0|   Plan P|Medical, Dental a...|       44197.0|         44561.0|\n+-------+---------+--------------------+--------------+----------------+\n\nViewing contents of temporary table: Enrollment_Mock_Data\n+---------+-------------+--------+-------------+-------+------+-------------------+----------------+\n|MEMBER_ID|MEMBER_STATUS|GROUP_ID|COVERAGE_TYPE|PLAN_ID|VENDOR|     EFFECTIVE_DATE|TERMINATION_DATE|\n+---------+-------------+--------+-------------+-------+------+-------------------+----------------+\n|   173400|       ACTIVE|       1|          E1C|   11.0| Cigna|2021-01-01 00:00:00|      2021-02-28|\n|    83300|       ACTIVE|       1|           ES|    0.0| Cigna|2019-12-01 00:00:00|      2020-01-31|\n|   106800|       ACTIVE|       1|            U|    4.0| Aetna|2020-09-01 00:00:00|      2020-10-31|\n|    52900|       ACTIVE|       1|           ES|   15.0| Aetna|2021-02-01 00:00:00|      2021-03-31|\n|    97600|       ACTIVE|       1|            E|   10.0| Aetna|2021-01-01 00:00:00|      2021-01-31|\n|    22000|       ACTIVE|       1|           EC|   15.0| Cigna|2020-03-01 00:00:00|      2020-04-30|\n|    22900|       ACTIVE|       1|            E|    1.0| Aetna|2020-07-01 00:00:00|      2020-07-31|\n|   122500|       ACTIVE|       1|            F|   10.0| Cigna|2020-11-01 00:00:00|      2020-12-31|\n|    21800|       ACTIVE|       8|          E1C|    4.0| Aetna|2020-12-01 00:00:00|      2021-01-31|\n|   145000|       ACTIVE|       1|            F|    1.0| Cigna|2020-03-01 00:00:00|      2020-04-30|\n|   150400|       ACTIVE|       1|            E|    0.0| Aetna|2020-12-01 00:00:00|      2021-01-31|\n|   114100|       ACTIVE|       8|            F|   10.0| Cigna|2019-12-01 00:00:00|      2020-01-31|\n|   201500|       ACTIVE|       1|            E|    4.0| Aetna|2020-08-01 00:00:00|      2020-09-30|\n|   215600|       ACTIVE|       8|            F|    8.0| Aetna|2020-12-01 00:00:00|      2021-01-31|\n|   216900|       ACTIVE|       4|           EC|    1.0| Cigna|2020-10-01 00:00:00|      2020-11-30|\n|   207000|       ACTIVE|       8|            E|    6.0| Aetna|2020-04-01 00:00:00|      2020-05-31|\n|   124700|       ACTIVE|       1|           ES|    6.0| Aetna|2020-11-01 00:00:00|      2020-12-31|\n|   222700|       ACTIVE|       1|            F|    3.0| Aetna|2020-08-01 00:00:00|      2020-09-30|\n|   190000|       ACTIVE|       1|           ES|    9.0| Aetna|2020-07-01 00:00:00|      2020-08-31|\n|   182000|       ACTIVE|       1|            F|   15.0| Aetna|2020-12-01 00:00:00|      2021-01-31|\n+---------+-------------+--------+-------------+-------+------+-------------------+----------------+\nonly showing top 20 rows\n\nViewing contents of temporary table: Demographics_Mock_Data\n+---------+-----------+----------+----------+-----------+------+----------+------------+-----------+-----+-----------+--------------------+---------+------------+-------------+----------------+-----+\n|MEMBER_ID|EMPLOYEE_ID|FIRST_NAME| LAST_NAME|MIDDLE_NAME|GENDER|       DOB|RELATIONSHIP|PERSON_CODE| RACE|  ETHNICITY|           ADDRESS_1|ADDRESS_2|        CITY|        STATE|          COUNTY|  ZIP|\n+---------+-----------+----------+----------+-----------+------+----------+------------+-----------+-----+-----------+--------------------+---------+------------+-------------+----------------+-----+\n|   173400|     160951|     Freya|      Lynn|     Marlys|   0.0|1988-02-23|           S|         02|white|nonhispanic|    771 Kirlin Haven|     null|   Attleboro|Massachusetts|  Bristol County|02703|\n|    83300|     160951|   Candice|   Padilla|       null|   0.0|1964-12-10|           F|         03|white|nonhispanic|182 Trantow Missi...|     null|  Bellingham|Massachusetts|  Norfolk County|     |\n|   106800|     111325|    Leanne|   Swanson|       null|   0.0|2015-05-28|          D2|         16|white|nonhispanic|     686 Shields Dam|     null| Easthampton|Massachusetts|Hampshire County|     |\n|    52900|     114177| Millicent|     Byrne|       null|   0.0|1948-04-22|           N|         13|white|nonhispanic|1009 DuBuque Vill...|     null| Springfield|Massachusetts|  Hampden County|01106|\n|    97600|     117067|   Charley|      Lynn|       null|   0.0|1976-01-12|          A1|         11|white|nonhispanic|114 Cummerata Parade|     null|West Tisbury|Massachusetts|    Dukes County|     |\n|    22000|      12745|     Flynn|  Morrison|       null|   0.0|1989-03-30|           M|         04|white|nonhispanic|164 Stokes Lodge ...|     null|  Winchendon|Massachusetts|Worcester County|01475|\n|    22900|      13466|   Pauline|    Knight|       null|   0.0|2019-05-09|           N|         13|white|nonhispanic|376 Skiles Forge ...|     null| Westminster|Massachusetts|Worcester County|     |\n|   122500|     135688|   Elspeth|  Gonzalez|    Marliss|   0.0|2014-09-09|          C2|         06|asian|   hispanic|   570 Nikolaus Wynd|     null|   Cambridge|Massachusetts|Middlesex County|02139|\n|    21800|      13587|    Amelie|    Harmon|       null|   0.0|1984-04-08|          D2|         16|other|nonhispanic|958 Robel Run Uni...|     null|      Carver|Massachusetts| Plymouth County|     |\n|   145000|     138507|     Laura|   Montoya|       null|   0.0|2010-03-29|           F|         03|white|nonhispanic|  1094 Keebler Grove|     null|     Gardner|Massachusetts|Worcester County|01440|\n|   150400|     151731|    Jayden|      Kane|       null|   0.0|2019-07-08|           F|         03|white|   hispanic|     1054 Price Glen|     null|   Haverhill|Massachusetts|    Essex County|01835|\n|   114100|     152105|      Safa|     Kelly|       null|   0.0|1991-08-21|          G3|         09|white|   hispanic|765 Russel Pathwa...|     null|     Spencer|Massachusetts|Worcester County|01562|\n|   201500|     153303|     Anika|Washington|      Merla|   0.0|2002-03-08|           F|         03|black|nonhispanic|        815 Rau Ramp|     null|      Boston|Massachusetts|  Suffolk County|02109|\n|   215600|     158915|    Inayah|     Evans|       null|   0.0|1988-06-28|          G3|         09|white|nonhispanic|282 Roberts Brook...|     null|   Dartmouth|Massachusetts|  Bristol County|     |\n|   216900|     160951|    Aurora|    Lawson|       null|   0.0|2012-10-04|           E|         01|white|nonhispanic|    194 Robel Skyway|     null|      Boston|Massachusetts|  Suffolk County|02124|\n|   207000|     166936|     Robyn|   Stewart|       null|   0.0|1957-10-19|          D1|         15|white|nonhispanic|306 Aufderhar Gro...|     null|      Palmer|Massachusetts|  Hampden County|     |\n|   124700|     168886|      Lena|    Pearce|       null|   0.0|1961-06-22|          A1|         11|white|nonhispanic|610 Harber Rapid ...|     null|  Greenfield|Massachusetts| Franklin County|     |\n|   222700|     170319|      Kane|    Hardin|       null|   0.0|2016-01-29|           E|         01|asian|   hispanic|971 Balistreri Va...|     null|Southborough|Massachusetts|Worcester County|     |\n|   190000|     170319|      Noor|   Merritt|     Melody|   0.0|1954-02-18|          A2|         12|white|nonhispanic|970 Johnston Driv...|     null|   Worcester|Massachusetts|Worcester County|01583|\n|   182000|     170319|  Khadijah|  Johnston|       null|   0.0|2003-06-09|          D2|         16|white|nonhispanic|252 Heller Manor ...|     null|   Attleboro|Massachusetts|  Bristol County|02861|\n+---------+-----------+----------+----------+-----------+------+----------+------------+-----------+-----+-----------+--------------------+---------+------------+-------------+----------------+-----+\nonly showing top 20 rows\n\n"
     ]
    }
   ],
   "source": [
    "for sheet_name in sheet_names:\n",
    "    print(f\"Viewing contents of temporary table: {sheet_name}\")\n",
    "    spark.sql(f\"SELECT * FROM {sheet_name}\").show()"
   ]
  },
  {
   "cell_type": "markdown",
   "metadata": {
    "application/vnd.databricks.v1+cell": {
     "cellMetadata": {
      "byteLimit": 2048000,
      "rowLimit": 10000
     },
     "inputWidgets": {},
     "nuid": "e5d56a8b-de22-45ab-9df6-25de836f0d69",
     "showTitle": false,
     "title": ""
    }
   },
   "source": [
    "### Table Descriptions"
   ]
  },
  {
   "cell_type": "code",
   "execution_count": 0,
   "metadata": {
    "application/vnd.databricks.v1+cell": {
     "cellMetadata": {
      "byteLimit": 2048000,
      "implicitDf": true,
      "rowLimit": 10000
     },
     "inputWidgets": {},
     "nuid": "6e77638d-451f-480e-949d-bcece2bb5ea0",
     "showTitle": false,
     "title": ""
    }
   },
   "outputs": [
    {
     "output_type": "display_data",
     "data": {
      "text/html": [
       "<style scoped>\n",
       "  .table-result-container {\n",
       "    max-height: 300px;\n",
       "    overflow: auto;\n",
       "  }\n",
       "  table, th, td {\n",
       "    border: 1px solid black;\n",
       "    border-collapse: collapse;\n",
       "  }\n",
       "  th, td {\n",
       "    padding: 5px;\n",
       "  }\n",
       "  th {\n",
       "    text-align: left;\n",
       "  }\n",
       "</style><div class='table-result-container'><table class='table-result'><thead style='background-color: white'><tr><th>col_name</th><th>data_type</th><th>comment</th></tr></thead><tbody><tr><td>Code</td><td>string</td><td>null</td></tr><tr><td>Rollup_Code</td><td>string</td><td>null</td></tr><tr><td>Rollup_Description</td><td>string</td><td>null</td></tr></tbody></table></div>"
      ]
     },
     "metadata": {
      "application/vnd.databricks.v1+output": {
       "addedWidgets": {},
       "aggData": [],
       "aggError": "",
       "aggOverflow": false,
       "aggSchema": [],
       "aggSeriesLimitReached": false,
       "aggType": "",
       "arguments": {},
       "columnCustomDisplayInfos": {},
       "data": [
        [
         "Code",
         "string",
         null
        ],
        [
         "Rollup_Code",
         "string",
         null
        ],
        [
         "Rollup_Description",
         "string",
         null
        ]
       ],
       "datasetInfos": [],
       "dbfsResultPath": null,
       "isJsonSchema": true,
       "metadata": {},
       "overflow": false,
       "plotOptions": {
        "customPlotOptions": {},
        "displayType": "table",
        "pivotAggregation": null,
        "pivotColumns": null,
        "xColumns": null,
        "yColumns": null
       },
       "removedWidgets": [],
       "schema": [
        {
         "metadata": "{\"comment\":\"name of the column\"}",
         "name": "col_name",
         "type": "\"string\""
        },
        {
         "metadata": "{\"comment\":\"data type of the column\"}",
         "name": "data_type",
         "type": "\"string\""
        },
        {
         "metadata": "{\"comment\":\"comment of the column\"}",
         "name": "comment",
         "type": "\"string\""
        }
       ],
       "type": "table"
      }
     },
     "output_type": "display_data"
    }
   ],
   "source": [
    "%sql\n",
    "DESC Gender_Crosswalk;"
   ]
  },
  {
   "cell_type": "code",
   "execution_count": 0,
   "metadata": {
    "application/vnd.databricks.v1+cell": {
     "cellMetadata": {
      "byteLimit": 2048000,
      "implicitDf": true,
      "rowLimit": 10000
     },
     "inputWidgets": {},
     "nuid": "4dbb191d-9a60-43e4-8785-f15fd2f2e296",
     "showTitle": false,
     "title": ""
    }
   },
   "outputs": [
    {
     "output_type": "display_data",
     "data": {
      "text/html": [
       "<style scoped>\n",
       "  .table-result-container {\n",
       "    max-height: 300px;\n",
       "    overflow: auto;\n",
       "  }\n",
       "  table, th, td {\n",
       "    border: 1px solid black;\n",
       "    border-collapse: collapse;\n",
       "  }\n",
       "  th, td {\n",
       "    padding: 5px;\n",
       "  }\n",
       "  th {\n",
       "    text-align: left;\n",
       "  }\n",
       "</style><div class='table-result-container'><table class='table-result'><thead style='background-color: white'><tr><th>col_name</th><th>data_type</th><th>comment</th></tr></thead><tbody><tr><td>Rollup_Code</td><td>string</td><td>null</td></tr><tr><td>Rollup_Description</td><td>string</td><td>null</td></tr></tbody></table></div>"
      ]
     },
     "metadata": {
      "application/vnd.databricks.v1+output": {
       "addedWidgets": {},
       "aggData": [],
       "aggError": "",
       "aggOverflow": false,
       "aggSchema": [],
       "aggSeriesLimitReached": false,
       "aggType": "",
       "arguments": {},
       "columnCustomDisplayInfos": {},
       "data": [
        [
         "Rollup_Code",
         "string",
         null
        ],
        [
         "Rollup_Description",
         "string",
         null
        ]
       ],
       "datasetInfos": [],
       "dbfsResultPath": null,
       "isJsonSchema": true,
       "metadata": {},
       "overflow": false,
       "plotOptions": {
        "customPlotOptions": {},
        "displayType": "table",
        "pivotAggregation": null,
        "pivotColumns": null,
        "xColumns": null,
        "yColumns": null
       },
       "removedWidgets": [],
       "schema": [
        {
         "metadata": "{\"comment\":\"name of the column\"}",
         "name": "col_name",
         "type": "\"string\""
        },
        {
         "metadata": "{\"comment\":\"data type of the column\"}",
         "name": "data_type",
         "type": "\"string\""
        },
        {
         "metadata": "{\"comment\":\"comment of the column\"}",
         "name": "comment",
         "type": "\"string\""
        }
       ],
       "type": "table"
      }
     },
     "output_type": "display_data"
    }
   ],
   "source": [
    "%sql\n",
    "DESC Relationship_Crosswalk;"
   ]
  },
  {
   "cell_type": "code",
   "execution_count": 0,
   "metadata": {
    "application/vnd.databricks.v1+cell": {
     "cellMetadata": {
      "byteLimit": 2048000,
      "implicitDf": true,
      "rowLimit": 10000
     },
     "inputWidgets": {},
     "nuid": "dd875c62-2926-4e91-8c93-7ef75aaa422f",
     "showTitle": false,
     "title": ""
    }
   },
   "outputs": [
    {
     "output_type": "display_data",
     "data": {
      "text/html": [
       "<style scoped>\n",
       "  .table-result-container {\n",
       "    max-height: 300px;\n",
       "    overflow: auto;\n",
       "  }\n",
       "  table, th, td {\n",
       "    border: 1px solid black;\n",
       "    border-collapse: collapse;\n",
       "  }\n",
       "  th, td {\n",
       "    padding: 5px;\n",
       "  }\n",
       "  th {\n",
       "    text-align: left;\n",
       "  }\n",
       "</style><div class='table-result-container'><table class='table-result'><thead style='background-color: white'><tr><th>col_name</th><th>data_type</th><th>comment</th></tr></thead><tbody><tr><td>GROUP_ID</td><td>string</td><td>null</td></tr><tr><td>GROUP_NAME</td><td>string</td><td>null</td></tr></tbody></table></div>"
      ]
     },
     "metadata": {
      "application/vnd.databricks.v1+output": {
       "addedWidgets": {},
       "aggData": [],
       "aggError": "",
       "aggOverflow": false,
       "aggSchema": [],
       "aggSeriesLimitReached": false,
       "aggType": "",
       "arguments": {},
       "columnCustomDisplayInfos": {},
       "data": [
        [
         "GROUP_ID",
         "string",
         null
        ],
        [
         "GROUP_NAME",
         "string",
         null
        ]
       ],
       "datasetInfos": [],
       "dbfsResultPath": null,
       "isJsonSchema": true,
       "metadata": {},
       "overflow": false,
       "plotOptions": {
        "customPlotOptions": {},
        "displayType": "table",
        "pivotAggregation": null,
        "pivotColumns": null,
        "xColumns": null,
        "yColumns": null
       },
       "removedWidgets": [],
       "schema": [
        {
         "metadata": "{\"comment\":\"name of the column\"}",
         "name": "col_name",
         "type": "\"string\""
        },
        {
         "metadata": "{\"comment\":\"data type of the column\"}",
         "name": "data_type",
         "type": "\"string\""
        },
        {
         "metadata": "{\"comment\":\"comment of the column\"}",
         "name": "comment",
         "type": "\"string\""
        }
       ],
       "type": "table"
      }
     },
     "output_type": "display_data"
    }
   ],
   "source": [
    "%sql\n",
    "DESC Group_Crosswalk;"
   ]
  },
  {
   "cell_type": "code",
   "execution_count": 0,
   "metadata": {
    "application/vnd.databricks.v1+cell": {
     "cellMetadata": {
      "byteLimit": 2048000,
      "implicitDf": true,
      "rowLimit": 10000
     },
     "inputWidgets": {},
     "nuid": "b425a70e-fbec-46d9-905f-130af5eafb3f",
     "showTitle": false,
     "title": ""
    }
   },
   "outputs": [
    {
     "output_type": "display_data",
     "data": {
      "text/html": [
       "<style scoped>\n",
       "  .table-result-container {\n",
       "    max-height: 300px;\n",
       "    overflow: auto;\n",
       "  }\n",
       "  table, th, td {\n",
       "    border: 1px solid black;\n",
       "    border-collapse: collapse;\n",
       "  }\n",
       "  th, td {\n",
       "    padding: 5px;\n",
       "  }\n",
       "  th {\n",
       "    text-align: left;\n",
       "  }\n",
       "</style><div class='table-result-container'><table class='table-result'><thead style='background-color: white'><tr><th>col_name</th><th>data_type</th><th>comment</th></tr></thead><tbody><tr><td>Coverage_ID</td><td>string</td><td>null</td></tr><tr><td>Coverage_Description</td><td>string</td><td>null</td></tr></tbody></table></div>"
      ]
     },
     "metadata": {
      "application/vnd.databricks.v1+output": {
       "addedWidgets": {},
       "aggData": [],
       "aggError": "",
       "aggOverflow": false,
       "aggSchema": [],
       "aggSeriesLimitReached": false,
       "aggType": "",
       "arguments": {},
       "columnCustomDisplayInfos": {},
       "data": [
        [
         "Coverage_ID",
         "string",
         null
        ],
        [
         "Coverage_Description",
         "string",
         null
        ]
       ],
       "datasetInfos": [],
       "dbfsResultPath": null,
       "isJsonSchema": true,
       "metadata": {},
       "overflow": false,
       "plotOptions": {
        "customPlotOptions": {},
        "displayType": "table",
        "pivotAggregation": null,
        "pivotColumns": null,
        "xColumns": null,
        "yColumns": null
       },
       "removedWidgets": [],
       "schema": [
        {
         "metadata": "{\"comment\":\"name of the column\"}",
         "name": "col_name",
         "type": "\"string\""
        },
        {
         "metadata": "{\"comment\":\"data type of the column\"}",
         "name": "data_type",
         "type": "\"string\""
        },
        {
         "metadata": "{\"comment\":\"comment of the column\"}",
         "name": "comment",
         "type": "\"string\""
        }
       ],
       "type": "table"
      }
     },
     "output_type": "display_data"
    }
   ],
   "source": [
    "%sql\n",
    "DESC Coverage_Crosswalk;"
   ]
  },
  {
   "cell_type": "code",
   "execution_count": 0,
   "metadata": {
    "application/vnd.databricks.v1+cell": {
     "cellMetadata": {
      "byteLimit": 2048000,
      "implicitDf": true,
      "rowLimit": 10000
     },
     "inputWidgets": {},
     "nuid": "025a68e2-316d-43f3-acfe-f2d639218d7e",
     "showTitle": false,
     "title": ""
    }
   },
   "outputs": [
    {
     "output_type": "display_data",
     "data": {
      "text/html": [
       "<style scoped>\n",
       "  .table-result-container {\n",
       "    max-height: 300px;\n",
       "    overflow: auto;\n",
       "  }\n",
       "  table, th, td {\n",
       "    border: 1px solid black;\n",
       "    border-collapse: collapse;\n",
       "  }\n",
       "  th, td {\n",
       "    padding: 5px;\n",
       "  }\n",
       "  th {\n",
       "    text-align: left;\n",
       "  }\n",
       "</style><div class='table-result-container'><table class='table-result'><thead style='background-color: white'><tr><th>col_name</th><th>data_type</th><th>comment</th></tr></thead><tbody><tr><td>PLAN_ID</td><td>double</td><td>null</td></tr><tr><td>Plan Name</td><td>string</td><td>null</td></tr><tr><td>BENEFIT_TYPE</td><td>string</td><td>null</td></tr><tr><td>EFFECTIVE_DATE</td><td>double</td><td>null</td></tr><tr><td>TERMINATION_DATE</td><td>double</td><td>null</td></tr></tbody></table></div>"
      ]
     },
     "metadata": {
      "application/vnd.databricks.v1+output": {
       "addedWidgets": {},
       "aggData": [],
       "aggError": "",
       "aggOverflow": false,
       "aggSchema": [],
       "aggSeriesLimitReached": false,
       "aggType": "",
       "arguments": {},
       "columnCustomDisplayInfos": {},
       "data": [
        [
         "PLAN_ID",
         "double",
         null
        ],
        [
         "Plan Name",
         "string",
         null
        ],
        [
         "BENEFIT_TYPE",
         "string",
         null
        ],
        [
         "EFFECTIVE_DATE",
         "double",
         null
        ],
        [
         "TERMINATION_DATE",
         "double",
         null
        ]
       ],
       "datasetInfos": [],
       "dbfsResultPath": null,
       "isJsonSchema": true,
       "metadata": {},
       "overflow": false,
       "plotOptions": {
        "customPlotOptions": {},
        "displayType": "table",
        "pivotAggregation": null,
        "pivotColumns": null,
        "xColumns": null,
        "yColumns": null
       },
       "removedWidgets": [],
       "schema": [
        {
         "metadata": "{\"comment\":\"name of the column\"}",
         "name": "col_name",
         "type": "\"string\""
        },
        {
         "metadata": "{\"comment\":\"data type of the column\"}",
         "name": "data_type",
         "type": "\"string\""
        },
        {
         "metadata": "{\"comment\":\"comment of the column\"}",
         "name": "comment",
         "type": "\"string\""
        }
       ],
       "type": "table"
      }
     },
     "output_type": "display_data"
    }
   ],
   "source": [
    "%sql\n",
    "DESC Plan_Crosswalk;"
   ]
  },
  {
   "cell_type": "code",
   "execution_count": 0,
   "metadata": {
    "application/vnd.databricks.v1+cell": {
     "cellMetadata": {
      "byteLimit": 2048000,
      "implicitDf": true,
      "rowLimit": 10000
     },
     "inputWidgets": {},
     "nuid": "f5b60cca-5511-4b5f-9eef-a404af7e9160",
     "showTitle": false,
     "title": ""
    }
   },
   "outputs": [
    {
     "output_type": "display_data",
     "data": {
      "text/html": [
       "<style scoped>\n",
       "  .table-result-container {\n",
       "    max-height: 300px;\n",
       "    overflow: auto;\n",
       "  }\n",
       "  table, th, td {\n",
       "    border: 1px solid black;\n",
       "    border-collapse: collapse;\n",
       "  }\n",
       "  th, td {\n",
       "    padding: 5px;\n",
       "  }\n",
       "  th {\n",
       "    text-align: left;\n",
       "  }\n",
       "</style><div class='table-result-container'><table class='table-result'><thead style='background-color: white'><tr><th>col_name</th><th>data_type</th><th>comment</th></tr></thead><tbody><tr><td>MEMBER_ID</td><td>string</td><td>null</td></tr><tr><td>MEMBER_STATUS</td><td>string</td><td>null</td></tr><tr><td>GROUP_ID</td><td>string</td><td>null</td></tr><tr><td>COVERAGE_TYPE</td><td>string</td><td>null</td></tr><tr><td>PLAN_ID</td><td>double</td><td>null</td></tr><tr><td>VENDOR</td><td>string</td><td>null</td></tr><tr><td>EFFECTIVE_DATE</td><td>timestamp</td><td>null</td></tr><tr><td>TERMINATION_DATE</td><td>string</td><td>null</td></tr></tbody></table></div>"
      ]
     },
     "metadata": {
      "application/vnd.databricks.v1+output": {
       "addedWidgets": {},
       "aggData": [],
       "aggError": "",
       "aggOverflow": false,
       "aggSchema": [],
       "aggSeriesLimitReached": false,
       "aggType": "",
       "arguments": {},
       "columnCustomDisplayInfos": {},
       "data": [
        [
         "MEMBER_ID",
         "string",
         null
        ],
        [
         "MEMBER_STATUS",
         "string",
         null
        ],
        [
         "GROUP_ID",
         "string",
         null
        ],
        [
         "COVERAGE_TYPE",
         "string",
         null
        ],
        [
         "PLAN_ID",
         "double",
         null
        ],
        [
         "VENDOR",
         "string",
         null
        ],
        [
         "EFFECTIVE_DATE",
         "timestamp",
         null
        ],
        [
         "TERMINATION_DATE",
         "string",
         null
        ]
       ],
       "datasetInfos": [],
       "dbfsResultPath": null,
       "isJsonSchema": true,
       "metadata": {},
       "overflow": false,
       "plotOptions": {
        "customPlotOptions": {},
        "displayType": "table",
        "pivotAggregation": null,
        "pivotColumns": null,
        "xColumns": null,
        "yColumns": null
       },
       "removedWidgets": [],
       "schema": [
        {
         "metadata": "{\"comment\":\"name of the column\"}",
         "name": "col_name",
         "type": "\"string\""
        },
        {
         "metadata": "{\"comment\":\"data type of the column\"}",
         "name": "data_type",
         "type": "\"string\""
        },
        {
         "metadata": "{\"comment\":\"comment of the column\"}",
         "name": "comment",
         "type": "\"string\""
        }
       ],
       "type": "table"
      }
     },
     "output_type": "display_data"
    }
   ],
   "source": [
    "%sql\n",
    "DESC Enrollment_Mock_Data;"
   ]
  },
  {
   "cell_type": "code",
   "execution_count": 0,
   "metadata": {
    "application/vnd.databricks.v1+cell": {
     "cellMetadata": {
      "byteLimit": 2048000,
      "implicitDf": true,
      "rowLimit": 10000
     },
     "inputWidgets": {},
     "nuid": "a489609b-3753-4fc3-bdb8-171dfbe77dca",
     "showTitle": false,
     "title": ""
    }
   },
   "outputs": [
    {
     "output_type": "display_data",
     "data": {
      "text/html": [
       "<style scoped>\n",
       "  .table-result-container {\n",
       "    max-height: 300px;\n",
       "    overflow: auto;\n",
       "  }\n",
       "  table, th, td {\n",
       "    border: 1px solid black;\n",
       "    border-collapse: collapse;\n",
       "  }\n",
       "  th, td {\n",
       "    padding: 5px;\n",
       "  }\n",
       "  th {\n",
       "    text-align: left;\n",
       "  }\n",
       "</style><div class='table-result-container'><table class='table-result'><thead style='background-color: white'><tr><th>col_name</th><th>data_type</th><th>comment</th></tr></thead><tbody><tr><td>MEMBER_ID</td><td>string</td><td>null</td></tr><tr><td>EMPLOYEE_ID</td><td>string</td><td>null</td></tr><tr><td>FIRST_NAME</td><td>string</td><td>null</td></tr><tr><td>LAST_NAME</td><td>string</td><td>null</td></tr><tr><td>MIDDLE_NAME</td><td>string</td><td>null</td></tr><tr><td>GENDER</td><td>double</td><td>null</td></tr><tr><td>DOB</td><td>string</td><td>null</td></tr><tr><td>RELATIONSHIP</td><td>string</td><td>null</td></tr><tr><td>PERSON_CODE</td><td>string</td><td>null</td></tr><tr><td>RACE</td><td>string</td><td>null</td></tr><tr><td>ETHNICITY</td><td>string</td><td>null</td></tr><tr><td>ADDRESS_1</td><td>string</td><td>null</td></tr><tr><td>ADDRESS_2</td><td>string</td><td>null</td></tr><tr><td>CITY</td><td>string</td><td>null</td></tr><tr><td>STATE</td><td>string</td><td>null</td></tr><tr><td>COUNTY</td><td>string</td><td>null</td></tr><tr><td>ZIP</td><td>string</td><td>null</td></tr></tbody></table></div>"
      ]
     },
     "metadata": {
      "application/vnd.databricks.v1+output": {
       "addedWidgets": {},
       "aggData": [],
       "aggError": "",
       "aggOverflow": false,
       "aggSchema": [],
       "aggSeriesLimitReached": false,
       "aggType": "",
       "arguments": {},
       "columnCustomDisplayInfos": {},
       "data": [
        [
         "MEMBER_ID",
         "string",
         null
        ],
        [
         "EMPLOYEE_ID",
         "string",
         null
        ],
        [
         "FIRST_NAME",
         "string",
         null
        ],
        [
         "LAST_NAME",
         "string",
         null
        ],
        [
         "MIDDLE_NAME",
         "string",
         null
        ],
        [
         "GENDER",
         "double",
         null
        ],
        [
         "DOB",
         "string",
         null
        ],
        [
         "RELATIONSHIP",
         "string",
         null
        ],
        [
         "PERSON_CODE",
         "string",
         null
        ],
        [
         "RACE",
         "string",
         null
        ],
        [
         "ETHNICITY",
         "string",
         null
        ],
        [
         "ADDRESS_1",
         "string",
         null
        ],
        [
         "ADDRESS_2",
         "string",
         null
        ],
        [
         "CITY",
         "string",
         null
        ],
        [
         "STATE",
         "string",
         null
        ],
        [
         "COUNTY",
         "string",
         null
        ],
        [
         "ZIP",
         "string",
         null
        ]
       ],
       "datasetInfos": [],
       "dbfsResultPath": null,
       "isJsonSchema": true,
       "metadata": {},
       "overflow": false,
       "plotOptions": {
        "customPlotOptions": {},
        "displayType": "table",
        "pivotAggregation": null,
        "pivotColumns": null,
        "xColumns": null,
        "yColumns": null
       },
       "removedWidgets": [],
       "schema": [
        {
         "metadata": "{\"comment\":\"name of the column\"}",
         "name": "col_name",
         "type": "\"string\""
        },
        {
         "metadata": "{\"comment\":\"data type of the column\"}",
         "name": "data_type",
         "type": "\"string\""
        },
        {
         "metadata": "{\"comment\":\"comment of the column\"}",
         "name": "comment",
         "type": "\"string\""
        }
       ],
       "type": "table"
      }
     },
     "output_type": "display_data"
    }
   ],
   "source": [
    "%sql\n",
    "DESC Demographics_Mock_Data;"
   ]
  },
  {
   "cell_type": "markdown",
   "metadata": {
    "application/vnd.databricks.v1+cell": {
     "cellMetadata": {
      "byteLimit": 2048000,
      "rowLimit": 10000
     },
     "inputWidgets": {},
     "nuid": "a58215ee-05bf-4298-a6ec-845e30b32b1e",
     "showTitle": false,
     "title": ""
    }
   },
   "source": [
    "### CTEs for all required records"
   ]
  },
  {
   "cell_type": "markdown",
   "metadata": {
    "application/vnd.databricks.v1+cell": {
     "cellMetadata": {
      "byteLimit": 2048000,
      "rowLimit": 10000
     },
     "inputWidgets": {},
     "nuid": "57caeba3-b2b8-4749-80ef-ff4cc2469a55",
     "showTitle": false,
     "title": ""
    }
   },
   "source": [
    "Abacus Record ID"
   ]
  },
  {
   "cell_type": "code",
   "execution_count": 0,
   "metadata": {
    "application/vnd.databricks.v1+cell": {
     "cellMetadata": {
      "byteLimit": 2048000,
      "implicitDf": true,
      "rowLimit": 10000
     },
     "inputWidgets": {},
     "nuid": "6e691b76-4482-487c-b35b-802f3ca4c68b",
     "showTitle": false,
     "title": ""
    }
   },
   "outputs": [
    {
     "output_type": "display_data",
     "data": {
      "text/html": [
       "<style scoped>\n",
       "  .table-result-container {\n",
       "    max-height: 300px;\n",
       "    overflow: auto;\n",
       "  }\n",
       "  table, th, td {\n",
       "    border: 1px solid black;\n",
       "    border-collapse: collapse;\n",
       "  }\n",
       "  th, td {\n",
       "    padding: 5px;\n",
       "  }\n",
       "  th {\n",
       "    text-align: left;\n",
       "  }\n",
       "</style><div class='table-result-container'><table class='table-result'><thead style='background-color: white'><tr><th>Abacus_Record_ID</th></tr></thead><tbody><tr><td>1</td></tr><tr><td>2</td></tr><tr><td>3</td></tr><tr><td>4</td></tr><tr><td>5</td></tr><tr><td>6</td></tr><tr><td>7</td></tr><tr><td>8</td></tr><tr><td>9</td></tr><tr><td>10</td></tr><tr><td>11</td></tr><tr><td>12</td></tr><tr><td>13</td></tr><tr><td>14</td></tr><tr><td>15</td></tr><tr><td>16</td></tr><tr><td>17</td></tr><tr><td>18</td></tr><tr><td>19</td></tr><tr><td>20</td></tr><tr><td>21</td></tr><tr><td>22</td></tr><tr><td>23</td></tr><tr><td>24</td></tr><tr><td>25</td></tr><tr><td>26</td></tr><tr><td>27</td></tr><tr><td>28</td></tr><tr><td>29</td></tr><tr><td>30</td></tr><tr><td>31</td></tr><tr><td>32</td></tr><tr><td>33</td></tr><tr><td>34</td></tr><tr><td>35</td></tr><tr><td>36</td></tr><tr><td>37</td></tr><tr><td>38</td></tr><tr><td>39</td></tr><tr><td>40</td></tr><tr><td>41</td></tr><tr><td>42</td></tr><tr><td>43</td></tr><tr><td>44</td></tr><tr><td>45</td></tr><tr><td>46</td></tr><tr><td>47</td></tr><tr><td>48</td></tr><tr><td>49</td></tr><tr><td>50</td></tr><tr><td>51</td></tr><tr><td>52</td></tr><tr><td>53</td></tr><tr><td>54</td></tr><tr><td>55</td></tr><tr><td>56</td></tr><tr><td>57</td></tr><tr><td>58</td></tr><tr><td>59</td></tr><tr><td>60</td></tr><tr><td>61</td></tr><tr><td>62</td></tr><tr><td>63</td></tr><tr><td>64</td></tr><tr><td>65</td></tr><tr><td>66</td></tr><tr><td>67</td></tr><tr><td>68</td></tr><tr><td>69</td></tr><tr><td>70</td></tr><tr><td>71</td></tr><tr><td>72</td></tr><tr><td>73</td></tr><tr><td>74</td></tr><tr><td>75</td></tr><tr><td>76</td></tr><tr><td>77</td></tr><tr><td>78</td></tr><tr><td>79</td></tr><tr><td>80</td></tr><tr><td>81</td></tr><tr><td>82</td></tr><tr><td>83</td></tr><tr><td>84</td></tr><tr><td>85</td></tr><tr><td>86</td></tr><tr><td>87</td></tr><tr><td>88</td></tr><tr><td>89</td></tr><tr><td>90</td></tr><tr><td>91</td></tr><tr><td>92</td></tr><tr><td>93</td></tr><tr><td>94</td></tr><tr><td>95</td></tr><tr><td>96</td></tr><tr><td>97</td></tr><tr><td>98</td></tr><tr><td>99</td></tr></tbody></table></div>"
      ]
     },
     "metadata": {
      "application/vnd.databricks.v1+output": {
       "addedWidgets": {},
       "aggData": [],
       "aggError": "",
       "aggOverflow": false,
       "aggSchema": [],
       "aggSeriesLimitReached": false,
       "aggType": "",
       "arguments": {},
       "columnCustomDisplayInfos": {},
       "data": [
        [
         1
        ],
        [
         2
        ],
        [
         3
        ],
        [
         4
        ],
        [
         5
        ],
        [
         6
        ],
        [
         7
        ],
        [
         8
        ],
        [
         9
        ],
        [
         10
        ],
        [
         11
        ],
        [
         12
        ],
        [
         13
        ],
        [
         14
        ],
        [
         15
        ],
        [
         16
        ],
        [
         17
        ],
        [
         18
        ],
        [
         19
        ],
        [
         20
        ],
        [
         21
        ],
        [
         22
        ],
        [
         23
        ],
        [
         24
        ],
        [
         25
        ],
        [
         26
        ],
        [
         27
        ],
        [
         28
        ],
        [
         29
        ],
        [
         30
        ],
        [
         31
        ],
        [
         32
        ],
        [
         33
        ],
        [
         34
        ],
        [
         35
        ],
        [
         36
        ],
        [
         37
        ],
        [
         38
        ],
        [
         39
        ],
        [
         40
        ],
        [
         41
        ],
        [
         42
        ],
        [
         43
        ],
        [
         44
        ],
        [
         45
        ],
        [
         46
        ],
        [
         47
        ],
        [
         48
        ],
        [
         49
        ],
        [
         50
        ],
        [
         51
        ],
        [
         52
        ],
        [
         53
        ],
        [
         54
        ],
        [
         55
        ],
        [
         56
        ],
        [
         57
        ],
        [
         58
        ],
        [
         59
        ],
        [
         60
        ],
        [
         61
        ],
        [
         62
        ],
        [
         63
        ],
        [
         64
        ],
        [
         65
        ],
        [
         66
        ],
        [
         67
        ],
        [
         68
        ],
        [
         69
        ],
        [
         70
        ],
        [
         71
        ],
        [
         72
        ],
        [
         73
        ],
        [
         74
        ],
        [
         75
        ],
        [
         76
        ],
        [
         77
        ],
        [
         78
        ],
        [
         79
        ],
        [
         80
        ],
        [
         81
        ],
        [
         82
        ],
        [
         83
        ],
        [
         84
        ],
        [
         85
        ],
        [
         86
        ],
        [
         87
        ],
        [
         88
        ],
        [
         89
        ],
        [
         90
        ],
        [
         91
        ],
        [
         92
        ],
        [
         93
        ],
        [
         94
        ],
        [
         95
        ],
        [
         96
        ],
        [
         97
        ],
        [
         98
        ],
        [
         99
        ]
       ],
       "datasetInfos": [],
       "dbfsResultPath": null,
       "isJsonSchema": true,
       "metadata": {},
       "overflow": false,
       "plotOptions": {
        "customPlotOptions": {},
        "displayType": "table",
        "pivotAggregation": null,
        "pivotColumns": null,
        "xColumns": null,
        "yColumns": null
       },
       "removedWidgets": [],
       "schema": [
        {
         "metadata": "{}",
         "name": "Abacus_Record_ID",
         "type": "\"integer\""
        }
       ],
       "type": "table"
      }
     },
     "output_type": "display_data"
    }
   ],
   "source": [
    "%sql\n",
    "WITH Rec_Id_CTE AS (\n",
    "  SELECT Row_Number() over(ORDER BY 1) AS Abacus_Record_ID FROM Enrollment_Mock_Data\n",
    ")\n",
    "SELECT * FROM Rec_Id_CTE;"
   ]
  },
  {
   "cell_type": "markdown",
   "metadata": {
    "application/vnd.databricks.v1+cell": {
     "cellMetadata": {
      "byteLimit": 2048000,
      "rowLimit": 10000
     },
     "inputWidgets": {},
     "nuid": "88136a22-d390-4683-9193-9678a7e50ed4",
     "showTitle": false,
     "title": ""
    }
   },
   "source": [
    "Abacus Member ID"
   ]
  },
  {
   "cell_type": "code",
   "execution_count": 0,
   "metadata": {
    "application/vnd.databricks.v1+cell": {
     "cellMetadata": {
      "byteLimit": 2048000,
      "implicitDf": true,
      "rowLimit": 10000
     },
     "inputWidgets": {},
     "nuid": "946396ed-d142-4f58-a08c-2c17b9fe72a3",
     "showTitle": false,
     "title": ""
    }
   },
   "outputs": [
    {
     "output_type": "display_data",
     "data": {
      "text/html": [
       "<style scoped>\n",
       "  .table-result-container {\n",
       "    max-height: 300px;\n",
       "    overflow: auto;\n",
       "  }\n",
       "  table, th, td {\n",
       "    border: 1px solid black;\n",
       "    border-collapse: collapse;\n",
       "  }\n",
       "  th, td {\n",
       "    padding: 5px;\n",
       "  }\n",
       "  th {\n",
       "    text-align: left;\n",
       "  }\n",
       "</style><div class='table-result-container'><table class='table-result'><thead style='background-color: white'><tr><th>Abacus_Member_ID</th></tr></thead><tbody><tr><td>160951-FLM-F88</td></tr><tr><td>160951-CP-F64</td></tr><tr><td>111325-LS-F15</td></tr><tr><td>114177-MB-F48</td></tr><tr><td>117067-CL-F76</td></tr><tr><td>012745-FM-F89</td></tr><tr><td>013466-PK-F19</td></tr><tr><td>135688-EGM-F14</td></tr><tr><td>013587-AH-F84</td></tr><tr><td>138507-LM-F10</td></tr><tr><td>151731-JK-F19</td></tr><tr><td>152105-SK-F91</td></tr><tr><td>153303-AWM-F02</td></tr><tr><td>158915-IE-F88</td></tr><tr><td>160951-AL-F12</td></tr><tr><td>166936-RS-F57</td></tr><tr><td>168886-LP-F61</td></tr><tr><td>170319-KH-F16</td></tr><tr><td>170319-NMM-F54</td></tr><tr><td>170319-KJ-F03</td></tr><tr><td>170319-KD-F83</td></tr><tr><td>170319-AW-F07</td></tr><tr><td>209109-HE-F97</td></tr><tr><td>213741-SL-F08</td></tr><tr><td>215316-MZ-F50</td></tr><tr><td>022190-ARM-F67</td></tr><tr><td>223770-AC-F52</td></tr><tr><td>226237-BO-F94</td></tr><tr><td>226967-CW-F16</td></tr><tr><td>027570-MTM-F81</td></tr><tr><td>029764-LC-F75</td></tr><tr><td>029931-ML-F57</td></tr><tr><td>033500-SF-F70</td></tr><tr><td>003975-CM-F69</td></tr><tr><td>039986-GL-F03</td></tr><tr><td>041842-MTM-F60</td></tr><tr><td>044147-EH-F20</td></tr><tr><td>044147-LMM-F14</td></tr><tr><td>044147-RB-F11</td></tr><tr><td>044147-DSM-F21</td></tr><tr><td>049044-JW-F11</td></tr><tr><td>005185-WM-F83</td></tr><tr><td>068739-SC-F74</td></tr><tr><td>076014-JW-F12</td></tr><tr><td>076100-KH-F61</td></tr><tr><td>083026-BHM-F74</td></tr><tr><td>084379-IB-F60</td></tr><tr><td>085789-EM-F54</td></tr><tr><td>090659-LW-F86</td></tr><tr><td>092762-SA-F03</td></tr><tr><td>092943-DC-F99</td></tr><tr><td>094524-SW-F15</td></tr><tr><td>010538-CM-M73</td></tr><tr><td>011338-LWJ-M01</td></tr><tr><td>113830-LM-M08</td></tr><tr><td>115963-ZS-M79</td></tr><tr><td>121160-MC-M94</td></tr><tr><td>137952-RH-M90</td></tr><tr><td>145520-FRK-M94</td></tr><tr><td>147036-CC-M77</td></tr><tr><td>147970-FD-M16</td></tr><tr><td>150505-DT-M60</td></tr><tr><td>015352-PL-M99</td></tr><tr><td>162576-RTK-M88</td></tr><tr><td>192974-HS-M09</td></tr><tr><td>192974-SB-M83</td></tr><tr><td>192974-WS-M70</td></tr><tr><td>192974-KHJ-M14</td></tr><tr><td>192974-SF-M08</td></tr><tr><td>195288-MA-M20</td></tr><tr><td>198559-SBJ-M73</td></tr><tr><td>199072-KF-M88</td></tr><tr><td>200118-CC-M50</td></tr><tr><td>200665-ZW-M04</td></tr><tr><td>203702-AJ-M69</td></tr><tr><td>205773-GB-M04</td></tr><tr><td>206682-FM-M90</td></tr><tr><td>217633-AMK-M07</td></tr><tr><td>217770-RM-M03</td></tr><tr><td>218479-NA-M93</td></tr><tr><td>219363-DR-M09</td></tr><tr><td>221967-EM-M44</td></tr><tr><td>221967-MRJ-M44</td></tr><tr><td>222628-EC-M89</td></tr><tr><td>023532-DF-M36</td></tr><tr><td>030696-KM-M65</td></tr><tr><td>030696-MM-M11</td></tr><tr><td>038256-AK-M43</td></tr><tr><td>038256-SFK-M43</td></tr><tr><td>038256-DS-M43</td></tr><tr><td>059066-CT-M08</td></tr><tr><td>062804-RS-M05</td></tr><tr><td>064702-EHK-M99</td></tr><tr><td>038256-DD-M61</td></tr><tr><td>038256-AM-M11</td></tr><tr><td>038256-KP-M56</td></tr><tr><td>095182-TS-M90</td></tr><tr><td>095182-JR-M50</td></tr><tr><td>095182-KG-M04</td></tr></tbody></table></div>"
      ]
     },
     "metadata": {
      "application/vnd.databricks.v1+output": {
       "addedWidgets": {},
       "aggData": [],
       "aggError": "",
       "aggOverflow": false,
       "aggSchema": [],
       "aggSeriesLimitReached": false,
       "aggType": "",
       "arguments": {},
       "columnCustomDisplayInfos": {},
       "data": [
        [
         "160951-FLM-F88"
        ],
        [
         "160951-CP-F64"
        ],
        [
         "111325-LS-F15"
        ],
        [
         "114177-MB-F48"
        ],
        [
         "117067-CL-F76"
        ],
        [
         "012745-FM-F89"
        ],
        [
         "013466-PK-F19"
        ],
        [
         "135688-EGM-F14"
        ],
        [
         "013587-AH-F84"
        ],
        [
         "138507-LM-F10"
        ],
        [
         "151731-JK-F19"
        ],
        [
         "152105-SK-F91"
        ],
        [
         "153303-AWM-F02"
        ],
        [
         "158915-IE-F88"
        ],
        [
         "160951-AL-F12"
        ],
        [
         "166936-RS-F57"
        ],
        [
         "168886-LP-F61"
        ],
        [
         "170319-KH-F16"
        ],
        [
         "170319-NMM-F54"
        ],
        [
         "170319-KJ-F03"
        ],
        [
         "170319-KD-F83"
        ],
        [
         "170319-AW-F07"
        ],
        [
         "209109-HE-F97"
        ],
        [
         "213741-SL-F08"
        ],
        [
         "215316-MZ-F50"
        ],
        [
         "022190-ARM-F67"
        ],
        [
         "223770-AC-F52"
        ],
        [
         "226237-BO-F94"
        ],
        [
         "226967-CW-F16"
        ],
        [
         "027570-MTM-F81"
        ],
        [
         "029764-LC-F75"
        ],
        [
         "029931-ML-F57"
        ],
        [
         "033500-SF-F70"
        ],
        [
         "003975-CM-F69"
        ],
        [
         "039986-GL-F03"
        ],
        [
         "041842-MTM-F60"
        ],
        [
         "044147-EH-F20"
        ],
        [
         "044147-LMM-F14"
        ],
        [
         "044147-RB-F11"
        ],
        [
         "044147-DSM-F21"
        ],
        [
         "049044-JW-F11"
        ],
        [
         "005185-WM-F83"
        ],
        [
         "068739-SC-F74"
        ],
        [
         "076014-JW-F12"
        ],
        [
         "076100-KH-F61"
        ],
        [
         "083026-BHM-F74"
        ],
        [
         "084379-IB-F60"
        ],
        [
         "085789-EM-F54"
        ],
        [
         "090659-LW-F86"
        ],
        [
         "092762-SA-F03"
        ],
        [
         "092943-DC-F99"
        ],
        [
         "094524-SW-F15"
        ],
        [
         "010538-CM-M73"
        ],
        [
         "011338-LWJ-M01"
        ],
        [
         "113830-LM-M08"
        ],
        [
         "115963-ZS-M79"
        ],
        [
         "121160-MC-M94"
        ],
        [
         "137952-RH-M90"
        ],
        [
         "145520-FRK-M94"
        ],
        [
         "147036-CC-M77"
        ],
        [
         "147970-FD-M16"
        ],
        [
         "150505-DT-M60"
        ],
        [
         "015352-PL-M99"
        ],
        [
         "162576-RTK-M88"
        ],
        [
         "192974-HS-M09"
        ],
        [
         "192974-SB-M83"
        ],
        [
         "192974-WS-M70"
        ],
        [
         "192974-KHJ-M14"
        ],
        [
         "192974-SF-M08"
        ],
        [
         "195288-MA-M20"
        ],
        [
         "198559-SBJ-M73"
        ],
        [
         "199072-KF-M88"
        ],
        [
         "200118-CC-M50"
        ],
        [
         "200665-ZW-M04"
        ],
        [
         "203702-AJ-M69"
        ],
        [
         "205773-GB-M04"
        ],
        [
         "206682-FM-M90"
        ],
        [
         "217633-AMK-M07"
        ],
        [
         "217770-RM-M03"
        ],
        [
         "218479-NA-M93"
        ],
        [
         "219363-DR-M09"
        ],
        [
         "221967-EM-M44"
        ],
        [
         "221967-MRJ-M44"
        ],
        [
         "222628-EC-M89"
        ],
        [
         "023532-DF-M36"
        ],
        [
         "030696-KM-M65"
        ],
        [
         "030696-MM-M11"
        ],
        [
         "038256-AK-M43"
        ],
        [
         "038256-SFK-M43"
        ],
        [
         "038256-DS-M43"
        ],
        [
         "059066-CT-M08"
        ],
        [
         "062804-RS-M05"
        ],
        [
         "064702-EHK-M99"
        ],
        [
         "038256-DD-M61"
        ],
        [
         "038256-AM-M11"
        ],
        [
         "038256-KP-M56"
        ],
        [
         "095182-TS-M90"
        ],
        [
         "095182-JR-M50"
        ],
        [
         "095182-KG-M04"
        ]
       ],
       "datasetInfos": [],
       "dbfsResultPath": null,
       "isJsonSchema": true,
       "metadata": {},
       "overflow": false,
       "plotOptions": {
        "customPlotOptions": {},
        "displayType": "table",
        "pivotAggregation": null,
        "pivotColumns": null,
        "xColumns": null,
        "yColumns": null
       },
       "removedWidgets": [],
       "schema": [
        {
         "metadata": "{}",
         "name": "Abacus_Member_ID",
         "type": "\"string\""
        }
       ],
       "type": "table"
      }
     },
     "output_type": "display_data"
    }
   ],
   "source": [
    "%sql\n",
    "WITH Memb_Id_CTE AS (\n",
    "  SELECT CONCAT(\n",
    "      LPAD(CAST(EMPLOYEE_ID AS VARCHAR(6)), 6, '0'),\n",
    "      '-', \n",
    "      LEFT(FIRST_NAME, 1), \n",
    "      LEFT(LAST_NAME, 1), \n",
    "      IFNULL(LEFT(MIDDLE_NAME, 1), ''),\n",
    "      '-', \n",
    "      Rollup_Code, \n",
    "      CAST(RIGHT(YEAR(DOB), 2) AS VARCHAR(2))\n",
    "  ) AS Abacus_Member_ID\n",
    "  FROM Demographics_Mock_Data\n",
    "  LEFT JOIN Gender_Crosswalk\n",
    "  ON Demographics_Mock_Data.GENDER = Gender_Crosswalk.Code\n",
    ")\n",
    "SELECT * FROM Memb_Id_CTE;"
   ]
  },
  {
   "cell_type": "markdown",
   "metadata": {
    "application/vnd.databricks.v1+cell": {
     "cellMetadata": {
      "byteLimit": 2048000,
      "rowLimit": 10000
     },
     "inputWidgets": {},
     "nuid": "52570fde-0bb8-4995-b474-cb65e8561255",
     "showTitle": false,
     "title": ""
    }
   },
   "source": [
    "GENDER DECRIPTION AND PREFIX CTE"
   ]
  },
  {
   "cell_type": "code",
   "execution_count": 0,
   "metadata": {
    "application/vnd.databricks.v1+cell": {
     "cellMetadata": {
      "byteLimit": 2048000,
      "implicitDf": true,
      "rowLimit": 10000
     },
     "inputWidgets": {},
     "nuid": "7b114828-90a0-417a-97b6-b8910a26927d",
     "showTitle": false,
     "title": ""
    }
   },
   "outputs": [
    {
     "output_type": "display_data",
     "data": {
      "text/html": [
       "<style scoped>\n",
       "  .table-result-container {\n",
       "    max-height: 300px;\n",
       "    overflow: auto;\n",
       "  }\n",
       "  table, th, td {\n",
       "    border: 1px solid black;\n",
       "    border-collapse: collapse;\n",
       "  }\n",
       "  th, td {\n",
       "    padding: 5px;\n",
       "  }\n",
       "  th {\n",
       "    text-align: left;\n",
       "  }\n",
       "</style><div class='table-result-container'><table class='table-result'><thead style='background-color: white'><tr><th>Rollup_Code</th></tr></thead><tbody><tr><td>F</td></tr><tr><td>F</td></tr><tr><td>F</td></tr><tr><td>F</td></tr><tr><td>F</td></tr><tr><td>F</td></tr><tr><td>F</td></tr><tr><td>F</td></tr><tr><td>F</td></tr><tr><td>F</td></tr><tr><td>F</td></tr><tr><td>F</td></tr><tr><td>F</td></tr><tr><td>F</td></tr><tr><td>F</td></tr><tr><td>F</td></tr><tr><td>F</td></tr><tr><td>F</td></tr><tr><td>F</td></tr><tr><td>F</td></tr><tr><td>F</td></tr><tr><td>F</td></tr><tr><td>F</td></tr><tr><td>F</td></tr><tr><td>F</td></tr><tr><td>F</td></tr><tr><td>F</td></tr><tr><td>F</td></tr><tr><td>F</td></tr><tr><td>F</td></tr><tr><td>F</td></tr><tr><td>F</td></tr><tr><td>F</td></tr><tr><td>F</td></tr><tr><td>F</td></tr><tr><td>F</td></tr><tr><td>F</td></tr><tr><td>F</td></tr><tr><td>F</td></tr><tr><td>F</td></tr><tr><td>F</td></tr><tr><td>F</td></tr><tr><td>F</td></tr><tr><td>F</td></tr><tr><td>F</td></tr><tr><td>F</td></tr><tr><td>F</td></tr><tr><td>F</td></tr><tr><td>F</td></tr><tr><td>F</td></tr><tr><td>F</td></tr><tr><td>F</td></tr><tr><td>M</td></tr><tr><td>M</td></tr><tr><td>M</td></tr><tr><td>M</td></tr><tr><td>M</td></tr><tr><td>M</td></tr><tr><td>M</td></tr><tr><td>M</td></tr><tr><td>M</td></tr><tr><td>M</td></tr><tr><td>M</td></tr><tr><td>M</td></tr><tr><td>M</td></tr><tr><td>M</td></tr><tr><td>M</td></tr><tr><td>M</td></tr><tr><td>M</td></tr><tr><td>M</td></tr><tr><td>M</td></tr><tr><td>M</td></tr><tr><td>M</td></tr><tr><td>M</td></tr><tr><td>M</td></tr><tr><td>M</td></tr><tr><td>M</td></tr><tr><td>M</td></tr><tr><td>M</td></tr><tr><td>M</td></tr><tr><td>M</td></tr><tr><td>M</td></tr><tr><td>M</td></tr><tr><td>M</td></tr><tr><td>M</td></tr><tr><td>M</td></tr><tr><td>M</td></tr><tr><td>M</td></tr><tr><td>M</td></tr><tr><td>M</td></tr><tr><td>M</td></tr><tr><td>M</td></tr><tr><td>M</td></tr><tr><td>M</td></tr><tr><td>M</td></tr><tr><td>M</td></tr><tr><td>M</td></tr><tr><td>M</td></tr><tr><td>M</td></tr></tbody></table></div>"
      ]
     },
     "metadata": {
      "application/vnd.databricks.v1+output": {
       "addedWidgets": {},
       "aggData": [],
       "aggError": "",
       "aggOverflow": false,
       "aggSchema": [],
       "aggSeriesLimitReached": false,
       "aggType": "",
       "arguments": {},
       "columnCustomDisplayInfos": {},
       "data": [
        [
         "F"
        ],
        [
         "F"
        ],
        [
         "F"
        ],
        [
         "F"
        ],
        [
         "F"
        ],
        [
         "F"
        ],
        [
         "F"
        ],
        [
         "F"
        ],
        [
         "F"
        ],
        [
         "F"
        ],
        [
         "F"
        ],
        [
         "F"
        ],
        [
         "F"
        ],
        [
         "F"
        ],
        [
         "F"
        ],
        [
         "F"
        ],
        [
         "F"
        ],
        [
         "F"
        ],
        [
         "F"
        ],
        [
         "F"
        ],
        [
         "F"
        ],
        [
         "F"
        ],
        [
         "F"
        ],
        [
         "F"
        ],
        [
         "F"
        ],
        [
         "F"
        ],
        [
         "F"
        ],
        [
         "F"
        ],
        [
         "F"
        ],
        [
         "F"
        ],
        [
         "F"
        ],
        [
         "F"
        ],
        [
         "F"
        ],
        [
         "F"
        ],
        [
         "F"
        ],
        [
         "F"
        ],
        [
         "F"
        ],
        [
         "F"
        ],
        [
         "F"
        ],
        [
         "F"
        ],
        [
         "F"
        ],
        [
         "F"
        ],
        [
         "F"
        ],
        [
         "F"
        ],
        [
         "F"
        ],
        [
         "F"
        ],
        [
         "F"
        ],
        [
         "F"
        ],
        [
         "F"
        ],
        [
         "F"
        ],
        [
         "F"
        ],
        [
         "F"
        ],
        [
         "M"
        ],
        [
         "M"
        ],
        [
         "M"
        ],
        [
         "M"
        ],
        [
         "M"
        ],
        [
         "M"
        ],
        [
         "M"
        ],
        [
         "M"
        ],
        [
         "M"
        ],
        [
         "M"
        ],
        [
         "M"
        ],
        [
         "M"
        ],
        [
         "M"
        ],
        [
         "M"
        ],
        [
         "M"
        ],
        [
         "M"
        ],
        [
         "M"
        ],
        [
         "M"
        ],
        [
         "M"
        ],
        [
         "M"
        ],
        [
         "M"
        ],
        [
         "M"
        ],
        [
         "M"
        ],
        [
         "M"
        ],
        [
         "M"
        ],
        [
         "M"
        ],
        [
         "M"
        ],
        [
         "M"
        ],
        [
         "M"
        ],
        [
         "M"
        ],
        [
         "M"
        ],
        [
         "M"
        ],
        [
         "M"
        ],
        [
         "M"
        ],
        [
         "M"
        ],
        [
         "M"
        ],
        [
         "M"
        ],
        [
         "M"
        ],
        [
         "M"
        ],
        [
         "M"
        ],
        [
         "M"
        ],
        [
         "M"
        ],
        [
         "M"
        ],
        [
         "M"
        ],
        [
         "M"
        ],
        [
         "M"
        ],
        [
         "M"
        ]
       ],
       "datasetInfos": [],
       "dbfsResultPath": null,
       "isJsonSchema": true,
       "metadata": {},
       "overflow": false,
       "plotOptions": {
        "customPlotOptions": {},
        "displayType": "table",
        "pivotAggregation": null,
        "pivotColumns": null,
        "xColumns": null,
        "yColumns": null
       },
       "removedWidgets": [],
       "schema": [
        {
         "metadata": "{}",
         "name": "Rollup_Code",
         "type": "\"string\""
        }
       ],
       "type": "table"
      }
     },
     "output_type": "display_data"
    }
   ],
   "source": [
    "%sql\n",
    "WITH Gender_CTE AS (\n",
    "  SELECT Rollup_Code FROM Gender_Crosswalk RIGHT JOIN Demographics_Mock_Data ON Demographics_Mock_Data.GENDER = Gender_Crosswalk.Code\n",
    "),\n",
    "Prefix_CTE AS (\n",
    "  SELECT\n",
    "   CASE\n",
    "      WHEN Rollup_Code = 'F'  THEN 'Mrs./Ms.'\n",
    "      WHEN Rollup_Code = 'M' THEN 'Mr.'\n",
    "      ELSE NULL\n",
    "    END AS Member_Prefix_Name\n",
    "  From Gender_CTE\n",
    ")\n",
    "-- SELECT * FROM Prefix_CTE;\n",
    "SELECT * FROM Gender_CTE;"
   ]
  },
  {
   "cell_type": "markdown",
   "metadata": {
    "application/vnd.databricks.v1+cell": {
     "cellMetadata": {
      "byteLimit": 2048000,
      "rowLimit": 10000
     },
     "inputWidgets": {},
     "nuid": "78c93c2b-58d1-4659-81ea-85095bde4120",
     "showTitle": false,
     "title": ""
    }
   },
   "source": [
    "ENROLLMENT GROUP CTE"
   ]
  },
  {
   "cell_type": "code",
   "execution_count": 0,
   "metadata": {
    "application/vnd.databricks.v1+cell": {
     "cellMetadata": {
      "byteLimit": 2048000,
      "implicitDf": true,
      "rowLimit": 10000
     },
     "inputWidgets": {},
     "nuid": "3ae7706d-680b-4d93-961c-1ce8ab1cc6d9",
     "showTitle": false,
     "title": ""
    }
   },
   "outputs": [
    {
     "output_type": "display_data",
     "data": {
      "text/html": [
       "<style scoped>\n",
       "  .table-result-container {\n",
       "    max-height: 300px;\n",
       "    overflow: auto;\n",
       "  }\n",
       "  table, th, td {\n",
       "    border: 1px solid black;\n",
       "    border-collapse: collapse;\n",
       "  }\n",
       "  th, td {\n",
       "    padding: 5px;\n",
       "  }\n",
       "  th {\n",
       "    text-align: left;\n",
       "  }\n",
       "</style><div class='table-result-container'><table class='table-result'><thead style='background-color: white'><tr><th>GROUP_NAME</th></tr></thead><tbody><tr><td>Abacus Insights</td></tr><tr><td>Abacus Insights</td></tr><tr><td>Abacus Insights</td></tr><tr><td>Abacus Insights</td></tr><tr><td>Abacus Insights</td></tr><tr><td>Abacus Insights</td></tr><tr><td>Abacus Insights</td></tr><tr><td>Abacus Insights</td></tr><tr><td>TechKraft Inc</td></tr><tr><td>Abacus Insights</td></tr><tr><td>Abacus Insights</td></tr><tr><td>TechKraft Inc</td></tr><tr><td>Abacus Insights</td></tr><tr><td>TechKraft Inc</td></tr><tr><td>Digital Convergence Technologies</td></tr><tr><td>TechKraft Inc</td></tr><tr><td>Abacus Insights</td></tr><tr><td>Abacus Insights</td></tr><tr><td>Abacus Insights</td></tr><tr><td>Abacus Insights</td></tr><tr><td>Abacus Insights</td></tr><tr><td>Digital Convergence Technologies</td></tr><tr><td>TechKraft Inc</td></tr><tr><td>Abacus Insights</td></tr><tr><td>Google</td></tr><tr><td>Abacus Insights</td></tr><tr><td>Facebook</td></tr><tr><td>Abacus Insights</td></tr><tr><td>Abacus Insights</td></tr><tr><td>Abacus Insights</td></tr><tr><td>TechKraft Inc</td></tr><tr><td>Abacus Insights</td></tr><tr><td>TechKraft Inc</td></tr><tr><td>TechKraft Inc</td></tr><tr><td>Digital Convergence Technologies</td></tr><tr><td>Abacus Insights</td></tr><tr><td>Abacus Insights</td></tr><tr><td>Digital Convergence Technologies</td></tr><tr><td>Abacus Insights</td></tr><tr><td>Abacus Insights</td></tr><tr><td>Abacus Insights</td></tr><tr><td>Abacus Insights</td></tr><tr><td>Abacus Insights</td></tr><tr><td>Abacus Insights</td></tr><tr><td>Abacus Insights</td></tr><tr><td>Abacus Insights</td></tr><tr><td>TechKraft Inc</td></tr><tr><td>Facebook</td></tr><tr><td>TechKraft Inc</td></tr><tr><td>Abacus Insights</td></tr><tr><td>Abacus Insights</td></tr><tr><td>Abacus Insights</td></tr><tr><td>TechKraft Inc</td></tr><tr><td>Abacus Insights</td></tr><tr><td>Digital Convergence Technologies</td></tr><tr><td>TechKraft Inc</td></tr><tr><td>Abacus Insights</td></tr><tr><td>Facebook</td></tr><tr><td>TechKraft Inc</td></tr><tr><td>Abacus Insights</td></tr><tr><td>Abacus Insights</td></tr><tr><td>Abacus Insights</td></tr><tr><td>Abacus Insights</td></tr><tr><td>Abacus Insights</td></tr><tr><td>Digital Convergence Technologies</td></tr><tr><td>TechKraft Inc</td></tr><tr><td>TechKraft Inc</td></tr><tr><td>Digital Convergence Technologies</td></tr><tr><td>Digital Convergence Technologies</td></tr><tr><td>Abacus Insights</td></tr><tr><td>TechKraft Inc</td></tr><tr><td>Abacus Insights</td></tr><tr><td>Facebook</td></tr><tr><td>Digital Convergence Technologies</td></tr><tr><td>TechKraft Inc</td></tr><tr><td>Digital Convergence Technologies</td></tr><tr><td>Google</td></tr><tr><td>Abacus Insights</td></tr><tr><td>Abacus Insights</td></tr><tr><td>TechKraft Inc</td></tr><tr><td>Abacus Insights</td></tr><tr><td>Facebook</td></tr><tr><td>Facebook</td></tr><tr><td>TechKraft Inc</td></tr><tr><td>Facebook</td></tr><tr><td>TechKraft Inc</td></tr><tr><td>Abacus Insights</td></tr><tr><td>Facebook</td></tr><tr><td>Facebook</td></tr><tr><td>Facebook</td></tr><tr><td>Abacus Insights</td></tr><tr><td>Digital Convergence Technologies</td></tr><tr><td>Abacus Insights</td></tr><tr><td>Facebook</td></tr><tr><td>Abacus Insights</td></tr><tr><td>TechKraft Inc</td></tr><tr><td>Abacus Insights</td></tr><tr><td>Facebook</td></tr><tr><td>Digital Convergence Technologies</td></tr></tbody></table></div>"
      ]
     },
     "metadata": {
      "application/vnd.databricks.v1+output": {
       "addedWidgets": {},
       "aggData": [],
       "aggError": "",
       "aggOverflow": false,
       "aggSchema": [],
       "aggSeriesLimitReached": false,
       "aggType": "",
       "arguments": {},
       "columnCustomDisplayInfos": {},
       "data": [
        [
         "Abacus Insights"
        ],
        [
         "Abacus Insights"
        ],
        [
         "Abacus Insights"
        ],
        [
         "Abacus Insights"
        ],
        [
         "Abacus Insights"
        ],
        [
         "Abacus Insights"
        ],
        [
         "Abacus Insights"
        ],
        [
         "Abacus Insights"
        ],
        [
         "TechKraft Inc"
        ],
        [
         "Abacus Insights"
        ],
        [
         "Abacus Insights"
        ],
        [
         "TechKraft Inc"
        ],
        [
         "Abacus Insights"
        ],
        [
         "TechKraft Inc"
        ],
        [
         "Digital Convergence Technologies"
        ],
        [
         "TechKraft Inc"
        ],
        [
         "Abacus Insights"
        ],
        [
         "Abacus Insights"
        ],
        [
         "Abacus Insights"
        ],
        [
         "Abacus Insights"
        ],
        [
         "Abacus Insights"
        ],
        [
         "Digital Convergence Technologies"
        ],
        [
         "TechKraft Inc"
        ],
        [
         "Abacus Insights"
        ],
        [
         "Google"
        ],
        [
         "Abacus Insights"
        ],
        [
         "Facebook"
        ],
        [
         "Abacus Insights"
        ],
        [
         "Abacus Insights"
        ],
        [
         "Abacus Insights"
        ],
        [
         "TechKraft Inc"
        ],
        [
         "Abacus Insights"
        ],
        [
         "TechKraft Inc"
        ],
        [
         "TechKraft Inc"
        ],
        [
         "Digital Convergence Technologies"
        ],
        [
         "Abacus Insights"
        ],
        [
         "Abacus Insights"
        ],
        [
         "Digital Convergence Technologies"
        ],
        [
         "Abacus Insights"
        ],
        [
         "Abacus Insights"
        ],
        [
         "Abacus Insights"
        ],
        [
         "Abacus Insights"
        ],
        [
         "Abacus Insights"
        ],
        [
         "Abacus Insights"
        ],
        [
         "Abacus Insights"
        ],
        [
         "Abacus Insights"
        ],
        [
         "TechKraft Inc"
        ],
        [
         "Facebook"
        ],
        [
         "TechKraft Inc"
        ],
        [
         "Abacus Insights"
        ],
        [
         "Abacus Insights"
        ],
        [
         "Abacus Insights"
        ],
        [
         "TechKraft Inc"
        ],
        [
         "Abacus Insights"
        ],
        [
         "Digital Convergence Technologies"
        ],
        [
         "TechKraft Inc"
        ],
        [
         "Abacus Insights"
        ],
        [
         "Facebook"
        ],
        [
         "TechKraft Inc"
        ],
        [
         "Abacus Insights"
        ],
        [
         "Abacus Insights"
        ],
        [
         "Abacus Insights"
        ],
        [
         "Abacus Insights"
        ],
        [
         "Abacus Insights"
        ],
        [
         "Digital Convergence Technologies"
        ],
        [
         "TechKraft Inc"
        ],
        [
         "TechKraft Inc"
        ],
        [
         "Digital Convergence Technologies"
        ],
        [
         "Digital Convergence Technologies"
        ],
        [
         "Abacus Insights"
        ],
        [
         "TechKraft Inc"
        ],
        [
         "Abacus Insights"
        ],
        [
         "Facebook"
        ],
        [
         "Digital Convergence Technologies"
        ],
        [
         "TechKraft Inc"
        ],
        [
         "Digital Convergence Technologies"
        ],
        [
         "Google"
        ],
        [
         "Abacus Insights"
        ],
        [
         "Abacus Insights"
        ],
        [
         "TechKraft Inc"
        ],
        [
         "Abacus Insights"
        ],
        [
         "Facebook"
        ],
        [
         "Facebook"
        ],
        [
         "TechKraft Inc"
        ],
        [
         "Facebook"
        ],
        [
         "TechKraft Inc"
        ],
        [
         "Abacus Insights"
        ],
        [
         "Facebook"
        ],
        [
         "Facebook"
        ],
        [
         "Facebook"
        ],
        [
         "Abacus Insights"
        ],
        [
         "Digital Convergence Technologies"
        ],
        [
         "Abacus Insights"
        ],
        [
         "Facebook"
        ],
        [
         "Abacus Insights"
        ],
        [
         "TechKraft Inc"
        ],
        [
         "Abacus Insights"
        ],
        [
         "Facebook"
        ],
        [
         "Digital Convergence Technologies"
        ]
       ],
       "datasetInfos": [],
       "dbfsResultPath": null,
       "isJsonSchema": true,
       "metadata": {},
       "overflow": false,
       "plotOptions": {
        "customPlotOptions": {},
        "displayType": "table",
        "pivotAggregation": null,
        "pivotColumns": null,
        "xColumns": null,
        "yColumns": null
       },
       "removedWidgets": [],
       "schema": [
        {
         "metadata": "{}",
         "name": "GROUP_NAME",
         "type": "\"string\""
        }
       ],
       "type": "table"
      }
     },
     "output_type": "display_data"
    }
   ],
   "source": [
    "%sql\n",
    "WITH Enrollment_Group_CTE AS (\n",
    "  SELECT GROUP_NAME FROM Group_Crosswalk RIGHT JOIN Enrollment_Mock_Data ON Enrollment_Mock_Data.GROUP_ID = Group_Crosswalk.GROUP_ID\n",
    ")\n",
    "SELECT * FROM Enrollment_Group_CTE;"
   ]
  },
  {
   "cell_type": "markdown",
   "metadata": {
    "application/vnd.databricks.v1+cell": {
     "cellMetadata": {
      "byteLimit": 2048000,
      "rowLimit": 10000
     },
     "inputWidgets": {},
     "nuid": "f80fad6f-d8c3-4a0d-b9d5-2873a4a063c4",
     "showTitle": false,
     "title": ""
    }
   },
   "source": [
    "COVERAGE DESCRIPTION CTE"
   ]
  },
  {
   "cell_type": "code",
   "execution_count": 0,
   "metadata": {
    "application/vnd.databricks.v1+cell": {
     "cellMetadata": {
      "byteLimit": 2048000,
      "implicitDf": true,
      "rowLimit": 10000
     },
     "inputWidgets": {},
     "nuid": "be2b034c-515b-4c87-852a-6bfe12cb6c36",
     "showTitle": false,
     "title": ""
    }
   },
   "outputs": [
    {
     "output_type": "display_data",
     "data": {
      "text/html": [
       "<style scoped>\n",
       "  .table-result-container {\n",
       "    max-height: 300px;\n",
       "    overflow: auto;\n",
       "  }\n",
       "  table, th, td {\n",
       "    border: 1px solid black;\n",
       "    border-collapse: collapse;\n",
       "  }\n",
       "  th, td {\n",
       "    padding: 5px;\n",
       "  }\n",
       "  th {\n",
       "    text-align: left;\n",
       "  }\n",
       "</style><div class='table-result-container'><table class='table-result'><thead style='background-color: white'><tr><th>Coverage_Description</th></tr></thead><tbody><tr><td>Employee and 1 Child</td></tr><tr><td>Employee and Spouse</td></tr><tr><td>Unknown</td></tr><tr><td>Employee and Spouse</td></tr><tr><td>Employee Only</td></tr><tr><td>Employee and Childrens</td></tr><tr><td>Employee Only</td></tr><tr><td>Family</td></tr><tr><td>Employee and 1 Child</td></tr><tr><td>Family</td></tr><tr><td>Employee Only</td></tr><tr><td>Family</td></tr><tr><td>Employee Only</td></tr><tr><td>Family</td></tr><tr><td>Employee and Childrens</td></tr><tr><td>Employee Only</td></tr><tr><td>Employee and Spouse</td></tr><tr><td>Family</td></tr><tr><td>Employee and Spouse</td></tr><tr><td>Family</td></tr><tr><td>Employee and Childrens</td></tr><tr><td>Family</td></tr><tr><td>Employee and 1 Child</td></tr><tr><td>Employee and Parents</td></tr><tr><td>Unknown</td></tr><tr><td>Employee and Childrens</td></tr><tr><td>Employee and Childrens</td></tr><tr><td>Family</td></tr><tr><td>Employee and Spouse</td></tr><tr><td>Employee and 1 Child</td></tr><tr><td>Family</td></tr><tr><td>Employee and 1 Child</td></tr><tr><td>Unknown</td></tr><tr><td>Unknown</td></tr><tr><td>Employee and Childrens</td></tr><tr><td>Employee and Spouse</td></tr><tr><td>Unknown</td></tr><tr><td>Employee Only</td></tr><tr><td>Employee and 1 Child</td></tr><tr><td>Family</td></tr><tr><td>Employee and Childrens</td></tr><tr><td>Employee Only</td></tr><tr><td>Unknown</td></tr><tr><td>Family</td></tr><tr><td>Employee and Parents</td></tr><tr><td>Unknown</td></tr><tr><td>Employee Only</td></tr><tr><td>Family</td></tr><tr><td>Employee and Spouse</td></tr><tr><td>Employee and Childrens</td></tr><tr><td>Employee and Childrens</td></tr><tr><td>Unknown</td></tr><tr><td>Employee and Childrens</td></tr><tr><td>Employee Only</td></tr><tr><td>Employee Only</td></tr><tr><td>Employee and 1 Child</td></tr><tr><td>Employee and 1 Child</td></tr><tr><td>Employee and Childrens</td></tr><tr><td>Employee and 1 Child</td></tr><tr><td>Employee and Spouse</td></tr><tr><td>Unknown</td></tr><tr><td>Employee Only</td></tr><tr><td>Employee and Childrens</td></tr><tr><td>Employee and Childrens</td></tr><tr><td>Employee and Parents</td></tr><tr><td>Employee Only</td></tr><tr><td>Employee Only</td></tr><tr><td>Employee and Parents</td></tr><tr><td>Family</td></tr><tr><td>Family</td></tr><tr><td>Employee and Spouse</td></tr><tr><td>Family</td></tr><tr><td>Employee and Spouse</td></tr><tr><td>Employee and Parents</td></tr><tr><td>Family</td></tr><tr><td>Employee and Childrens</td></tr><tr><td>Employee and 1 Child</td></tr><tr><td>Employee and 1 Child</td></tr><tr><td>Employee and Spouse</td></tr><tr><td>Family</td></tr><tr><td>Employee Only</td></tr><tr><td>Employee and Spouse</td></tr><tr><td>Employee and Childrens</td></tr><tr><td>Employee and Parents</td></tr><tr><td>Family</td></tr><tr><td>Employee and 1 Child</td></tr><tr><td>Employee and Spouse</td></tr><tr><td>Employee and Spouse</td></tr><tr><td>Family</td></tr><tr><td>Employee and Spouse</td></tr><tr><td>Family</td></tr><tr><td>Employee and 1 Child</td></tr><tr><td>Unknown</td></tr><tr><td>Employee Only</td></tr><tr><td>Family</td></tr><tr><td>Employee and Childrens</td></tr><tr><td>Employee and Spouse</td></tr><tr><td>Employee and 1 Child</td></tr><tr><td>Employee and Spouse</td></tr></tbody></table></div>"
      ]
     },
     "metadata": {
      "application/vnd.databricks.v1+output": {
       "addedWidgets": {},
       "aggData": [],
       "aggError": "",
       "aggOverflow": false,
       "aggSchema": [],
       "aggSeriesLimitReached": false,
       "aggType": "",
       "arguments": {},
       "columnCustomDisplayInfos": {},
       "data": [
        [
         "Employee and 1 Child"
        ],
        [
         "Employee and Spouse"
        ],
        [
         "Unknown"
        ],
        [
         "Employee and Spouse"
        ],
        [
         "Employee Only"
        ],
        [
         "Employee and Childrens"
        ],
        [
         "Employee Only"
        ],
        [
         "Family"
        ],
        [
         "Employee and 1 Child"
        ],
        [
         "Family"
        ],
        [
         "Employee Only"
        ],
        [
         "Family"
        ],
        [
         "Employee Only"
        ],
        [
         "Family"
        ],
        [
         "Employee and Childrens"
        ],
        [
         "Employee Only"
        ],
        [
         "Employee and Spouse"
        ],
        [
         "Family"
        ],
        [
         "Employee and Spouse"
        ],
        [
         "Family"
        ],
        [
         "Employee and Childrens"
        ],
        [
         "Family"
        ],
        [
         "Employee and 1 Child"
        ],
        [
         "Employee and Parents"
        ],
        [
         "Unknown"
        ],
        [
         "Employee and Childrens"
        ],
        [
         "Employee and Childrens"
        ],
        [
         "Family"
        ],
        [
         "Employee and Spouse"
        ],
        [
         "Employee and 1 Child"
        ],
        [
         "Family"
        ],
        [
         "Employee and 1 Child"
        ],
        [
         "Unknown"
        ],
        [
         "Unknown"
        ],
        [
         "Employee and Childrens"
        ],
        [
         "Employee and Spouse"
        ],
        [
         "Unknown"
        ],
        [
         "Employee Only"
        ],
        [
         "Employee and 1 Child"
        ],
        [
         "Family"
        ],
        [
         "Employee and Childrens"
        ],
        [
         "Employee Only"
        ],
        [
         "Unknown"
        ],
        [
         "Family"
        ],
        [
         "Employee and Parents"
        ],
        [
         "Unknown"
        ],
        [
         "Employee Only"
        ],
        [
         "Family"
        ],
        [
         "Employee and Spouse"
        ],
        [
         "Employee and Childrens"
        ],
        [
         "Employee and Childrens"
        ],
        [
         "Unknown"
        ],
        [
         "Employee and Childrens"
        ],
        [
         "Employee Only"
        ],
        [
         "Employee Only"
        ],
        [
         "Employee and 1 Child"
        ],
        [
         "Employee and 1 Child"
        ],
        [
         "Employee and Childrens"
        ],
        [
         "Employee and 1 Child"
        ],
        [
         "Employee and Spouse"
        ],
        [
         "Unknown"
        ],
        [
         "Employee Only"
        ],
        [
         "Employee and Childrens"
        ],
        [
         "Employee and Childrens"
        ],
        [
         "Employee and Parents"
        ],
        [
         "Employee Only"
        ],
        [
         "Employee Only"
        ],
        [
         "Employee and Parents"
        ],
        [
         "Family"
        ],
        [
         "Family"
        ],
        [
         "Employee and Spouse"
        ],
        [
         "Family"
        ],
        [
         "Employee and Spouse"
        ],
        [
         "Employee and Parents"
        ],
        [
         "Family"
        ],
        [
         "Employee and Childrens"
        ],
        [
         "Employee and 1 Child"
        ],
        [
         "Employee and 1 Child"
        ],
        [
         "Employee and Spouse"
        ],
        [
         "Family"
        ],
        [
         "Employee Only"
        ],
        [
         "Employee and Spouse"
        ],
        [
         "Employee and Childrens"
        ],
        [
         "Employee and Parents"
        ],
        [
         "Family"
        ],
        [
         "Employee and 1 Child"
        ],
        [
         "Employee and Spouse"
        ],
        [
         "Employee and Spouse"
        ],
        [
         "Family"
        ],
        [
         "Employee and Spouse"
        ],
        [
         "Family"
        ],
        [
         "Employee and 1 Child"
        ],
        [
         "Unknown"
        ],
        [
         "Employee Only"
        ],
        [
         "Family"
        ],
        [
         "Employee and Childrens"
        ],
        [
         "Employee and Spouse"
        ],
        [
         "Employee and 1 Child"
        ],
        [
         "Employee and Spouse"
        ]
       ],
       "datasetInfos": [],
       "dbfsResultPath": null,
       "isJsonSchema": true,
       "metadata": {},
       "overflow": false,
       "plotOptions": {
        "customPlotOptions": {},
        "displayType": "table",
        "pivotAggregation": null,
        "pivotColumns": null,
        "xColumns": null,
        "yColumns": null
       },
       "removedWidgets": [],
       "schema": [
        {
         "metadata": "{}",
         "name": "Coverage_Description",
         "type": "\"string\""
        }
       ],
       "type": "table"
      }
     },
     "output_type": "display_data"
    }
   ],
   "source": [
    "%sql\n",
    "WITH Coverage_Description_CTE AS (\n",
    "  SELECT Coverage_Description FROM Coverage_Crosswalk RIGHT JOIN Enrollment_Mock_Data ON Enrollment_Mock_Data.COVERAGE_TYPE = Coverage_Crosswalk.Coverage_ID\n",
    ")\n",
    "SELECT * FROM Coverage_Description_CTE;"
   ]
  },
  {
   "cell_type": "markdown",
   "metadata": {
    "application/vnd.databricks.v1+cell": {
     "cellMetadata": {
      "byteLimit": 2048000,
      "rowLimit": 10000
     },
     "inputWidgets": {},
     "nuid": "8ba5b216-f749-49a8-b5e3-d3e4f3292927",
     "showTitle": false,
     "title": ""
    }
   },
   "source": [
    "PLAN NAME AND COVERAGE CTE"
   ]
  },
  {
   "cell_type": "code",
   "execution_count": 0,
   "metadata": {
    "application/vnd.databricks.v1+cell": {
     "cellMetadata": {
      "byteLimit": 2048000,
      "implicitDf": true,
      "rowLimit": 10000
     },
     "inputWidgets": {},
     "nuid": "e621e159-0b67-448b-ba3e-6794bb7c9ee7",
     "showTitle": false,
     "title": ""
    }
   },
   "outputs": [
    {
     "output_type": "display_data",
     "data": {
      "text/html": [
       "<style scoped>\n",
       "  .table-result-container {\n",
       "    max-height: 300px;\n",
       "    overflow: auto;\n",
       "  }\n",
       "  table, th, td {\n",
       "    border: 1px solid black;\n",
       "    border-collapse: collapse;\n",
       "  }\n",
       "  th, td {\n",
       "    padding: 5px;\n",
       "  }\n",
       "  th {\n",
       "    text-align: left;\n",
       "  }\n",
       "</style><div class='table-result-container'><table class='table-result'><thead style='background-color: white'><tr><th>BENEFIT_TYPE</th></tr></thead><tbody><tr><td>Medical</td></tr><tr><td>Medical</td></tr><tr><td>Medical and Dental</td></tr><tr><td>Medical and Dental</td></tr><tr><td>Medical</td></tr><tr><td>Medical</td></tr><tr><td>Medical, Dental and Vision</td></tr><tr><td>Medical and Vision</td></tr><tr><td>Medical and Vision</td></tr><tr><td>Medical and Vision</td></tr><tr><td>Medical, Dental and Vision</td></tr><tr><td>Medical, Dental and Vision</td></tr><tr><td>Medical</td></tr><tr><td>Medical</td></tr><tr><td>Medical and Dental</td></tr><tr><td>Medical</td></tr><tr><td>Medical and Vision</td></tr><tr><td>Medical, Dental and Vision</td></tr><tr><td>Medical and Vision</td></tr><tr><td>Medical and Vision</td></tr><tr><td>Medical and Vision</td></tr><tr><td>Medical, Dental and Vision</td></tr><tr><td>Medical and Dental</td></tr><tr><td>Medical and Dental</td></tr><tr><td>Medical</td></tr><tr><td>Medical</td></tr><tr><td>Medical and Dental</td></tr><tr><td>Medical</td></tr><tr><td>Medical</td></tr><tr><td>Medical and Vision</td></tr><tr><td>Medical, Dental and Vision</td></tr><tr><td>Medical and Vision</td></tr><tr><td>Medical and Dental</td></tr><tr><td>Medical, Dental and Vision</td></tr><tr><td>Medical, Dental and Vision</td></tr><tr><td>Medical and Dental</td></tr><tr><td>Medical</td></tr><tr><td>Medical and Dental</td></tr><tr><td>Medical</td></tr><tr><td>Medical</td></tr><tr><td>Medical, Dental and Vision</td></tr><tr><td>Medical, Dental and Vision</td></tr><tr><td>Medical and Vision</td></tr><tr><td>Medical and Vision</td></tr><tr><td>Medical and Vision</td></tr><tr><td>Medical and Vision</td></tr><tr><td>Medical and Dental</td></tr><tr><td>Medical and Dental</td></tr><tr><td>Medical and Dental</td></tr><tr><td>Medical, Dental and Vision</td></tr><tr><td>Medical and Vision</td></tr><tr><td>Medical, Dental and Vision</td></tr><tr><td>Medical and Vision</td></tr><tr><td>Medical and Vision</td></tr><tr><td>Medical and Vision</td></tr><tr><td>Medical and Vision</td></tr><tr><td>Medical and Vision</td></tr><tr><td>Medical, Dental and Vision</td></tr><tr><td>Medical, Dental and Vision</td></tr><tr><td>Medical and Dental</td></tr><tr><td>Medical</td></tr><tr><td>Medical</td></tr><tr><td>Medical and Dental</td></tr><tr><td>Medical, Dental and Vision</td></tr><tr><td>Medical and Vision</td></tr><tr><td>Medical and Vision</td></tr><tr><td>Medical and Vision</td></tr><tr><td>Medical and Vision</td></tr><tr><td>Medical and Vision</td></tr><tr><td>Medical and Vision</td></tr><tr><td>Medical, Dental and Vision</td></tr><tr><td>Medical and Dental</td></tr><tr><td>Medical and Dental</td></tr><tr><td>Medical</td></tr><tr><td>Medical</td></tr><tr><td>Medical, Dental and Vision</td></tr><tr><td>Medical and Dental</td></tr><tr><td>Medical, Dental and Vision</td></tr><tr><td>Medical and Vision</td></tr><tr><td>Medical and Vision</td></tr><tr><td>Medical and Vision</td></tr><tr><td>Medical and Dental</td></tr><tr><td>Medical and Dental</td></tr><tr><td>Medical, Dental and Vision</td></tr><tr><td>Medical and Dental</td></tr><tr><td>Medical</td></tr><tr><td>Medical</td></tr><tr><td>Medical</td></tr><tr><td>Medical</td></tr><tr><td>Medical, Dental and Vision</td></tr><tr><td>Medical and Vision</td></tr><tr><td>Medical, Dental and Vision</td></tr><tr><td>Medical, Dental and Vision</td></tr><tr><td>Medical, Dental and Vision</td></tr><tr><td>Medical and Vision</td></tr><tr><td>Medical and Dental</td></tr><tr><td>Medical and Vision</td></tr><tr><td>Medical and Vision</td></tr><tr><td>Medical</td></tr></tbody></table></div>"
      ]
     },
     "metadata": {
      "application/vnd.databricks.v1+output": {
       "addedWidgets": {},
       "aggData": [],
       "aggError": "",
       "aggOverflow": false,
       "aggSchema": [],
       "aggSeriesLimitReached": false,
       "aggType": "",
       "arguments": {},
       "columnCustomDisplayInfos": {},
       "data": [
        [
         "Medical"
        ],
        [
         "Medical"
        ],
        [
         "Medical and Dental"
        ],
        [
         "Medical and Dental"
        ],
        [
         "Medical"
        ],
        [
         "Medical"
        ],
        [
         "Medical, Dental and Vision"
        ],
        [
         "Medical and Vision"
        ],
        [
         "Medical and Vision"
        ],
        [
         "Medical and Vision"
        ],
        [
         "Medical, Dental and Vision"
        ],
        [
         "Medical, Dental and Vision"
        ],
        [
         "Medical"
        ],
        [
         "Medical"
        ],
        [
         "Medical and Dental"
        ],
        [
         "Medical"
        ],
        [
         "Medical and Vision"
        ],
        [
         "Medical, Dental and Vision"
        ],
        [
         "Medical and Vision"
        ],
        [
         "Medical and Vision"
        ],
        [
         "Medical and Vision"
        ],
        [
         "Medical, Dental and Vision"
        ],
        [
         "Medical and Dental"
        ],
        [
         "Medical and Dental"
        ],
        [
         "Medical"
        ],
        [
         "Medical"
        ],
        [
         "Medical and Dental"
        ],
        [
         "Medical"
        ],
        [
         "Medical"
        ],
        [
         "Medical and Vision"
        ],
        [
         "Medical, Dental and Vision"
        ],
        [
         "Medical and Vision"
        ],
        [
         "Medical and Dental"
        ],
        [
         "Medical, Dental and Vision"
        ],
        [
         "Medical, Dental and Vision"
        ],
        [
         "Medical and Dental"
        ],
        [
         "Medical"
        ],
        [
         "Medical and Dental"
        ],
        [
         "Medical"
        ],
        [
         "Medical"
        ],
        [
         "Medical, Dental and Vision"
        ],
        [
         "Medical, Dental and Vision"
        ],
        [
         "Medical and Vision"
        ],
        [
         "Medical and Vision"
        ],
        [
         "Medical and Vision"
        ],
        [
         "Medical and Vision"
        ],
        [
         "Medical and Dental"
        ],
        [
         "Medical and Dental"
        ],
        [
         "Medical and Dental"
        ],
        [
         "Medical, Dental and Vision"
        ],
        [
         "Medical and Vision"
        ],
        [
         "Medical, Dental and Vision"
        ],
        [
         "Medical and Vision"
        ],
        [
         "Medical and Vision"
        ],
        [
         "Medical and Vision"
        ],
        [
         "Medical and Vision"
        ],
        [
         "Medical and Vision"
        ],
        [
         "Medical, Dental and Vision"
        ],
        [
         "Medical, Dental and Vision"
        ],
        [
         "Medical and Dental"
        ],
        [
         "Medical"
        ],
        [
         "Medical"
        ],
        [
         "Medical and Dental"
        ],
        [
         "Medical, Dental and Vision"
        ],
        [
         "Medical and Vision"
        ],
        [
         "Medical and Vision"
        ],
        [
         "Medical and Vision"
        ],
        [
         "Medical and Vision"
        ],
        [
         "Medical and Vision"
        ],
        [
         "Medical and Vision"
        ],
        [
         "Medical, Dental and Vision"
        ],
        [
         "Medical and Dental"
        ],
        [
         "Medical and Dental"
        ],
        [
         "Medical"
        ],
        [
         "Medical"
        ],
        [
         "Medical, Dental and Vision"
        ],
        [
         "Medical and Dental"
        ],
        [
         "Medical, Dental and Vision"
        ],
        [
         "Medical and Vision"
        ],
        [
         "Medical and Vision"
        ],
        [
         "Medical and Vision"
        ],
        [
         "Medical and Dental"
        ],
        [
         "Medical and Dental"
        ],
        [
         "Medical, Dental and Vision"
        ],
        [
         "Medical and Dental"
        ],
        [
         "Medical"
        ],
        [
         "Medical"
        ],
        [
         "Medical"
        ],
        [
         "Medical"
        ],
        [
         "Medical, Dental and Vision"
        ],
        [
         "Medical and Vision"
        ],
        [
         "Medical, Dental and Vision"
        ],
        [
         "Medical, Dental and Vision"
        ],
        [
         "Medical, Dental and Vision"
        ],
        [
         "Medical and Vision"
        ],
        [
         "Medical and Dental"
        ],
        [
         "Medical and Vision"
        ],
        [
         "Medical and Vision"
        ],
        [
         "Medical"
        ]
       ],
       "datasetInfos": [],
       "dbfsResultPath": null,
       "isJsonSchema": true,
       "metadata": {},
       "overflow": false,
       "plotOptions": {
        "customPlotOptions": {},
        "displayType": "table",
        "pivotAggregation": null,
        "pivotColumns": null,
        "xColumns": null,
        "yColumns": null
       },
       "removedWidgets": [],
       "schema": [
        {
         "metadata": "{}",
         "name": "BENEFIT_TYPE",
         "type": "\"string\""
        }
       ],
       "type": "table"
      }
     },
     "output_type": "display_data"
    }
   ],
   "source": [
    "%sql\n",
    "WITH PLAN_NAME_CTE AS (\n",
    "  SELECT `Plan Name` FROM Plan_Crosswalk RIGHT JOIN Enrollment_Mock_Data ON Enrollment_Mock_Data.PLAN_ID = Plan_Crosswalk.PLAN_ID\n",
    "),\n",
    "PLAN_COVERAGE_CTE AS (\n",
    "  SELECT BENEFIT_TYPE FROM Plan_Crosswalk RIGHT JOIN Enrollment_Mock_Data ON Enrollment_Mock_Data.PLAN_ID = Plan_Crosswalk.PLAN_ID\n",
    ")\n",
    "SELECT * FROM PLAN_COVERAGE_CTE;"
   ]
  },
  {
   "cell_type": "markdown",
   "metadata": {
    "application/vnd.databricks.v1+cell": {
     "cellMetadata": {
      "byteLimit": 2048000,
      "rowLimit": 10000
     },
     "inputWidgets": {},
     "nuid": "c7fb86e0-54f4-4e44-87a9-4c546e1d42d9",
     "showTitle": false,
     "title": ""
    }
   },
   "source": [
    "BENEFITS EFFECTIVE AND TERMINATION DATE CTE"
   ]
  },
  {
   "cell_type": "code",
   "execution_count": 0,
   "metadata": {
    "application/vnd.databricks.v1+cell": {
     "cellMetadata": {
      "byteLimit": 2048000,
      "implicitDf": true,
      "rowLimit": 10000
     },
     "inputWidgets": {},
     "nuid": "c89f31de-723b-4882-a669-98b1b253e3b6",
     "showTitle": false,
     "title": ""
    }
   },
   "outputs": [
    {
     "output_type": "display_data",
     "data": {
      "text/html": [
       "<style scoped>\n",
       "  .table-result-container {\n",
       "    max-height: 300px;\n",
       "    overflow: auto;\n",
       "  }\n",
       "  table, th, td {\n",
       "    border: 1px solid black;\n",
       "    border-collapse: collapse;\n",
       "  }\n",
       "  th, td {\n",
       "    padding: 5px;\n",
       "  }\n",
       "  th {\n",
       "    text-align: left;\n",
       "  }\n",
       "</style><div class='table-result-container'><table class='table-result'><thead style='background-color: white'><tr><th>Enrollment_Medical_Effective_Date</th><th>Enrollment_Medical_Termination_Date</th><th>Enrollment_Dental_Effective_Date</th><th>Enrollment_Dental_Termination_Date</th><th>Enrollment_Vision_Effective_Date</th><th>Enrollment_Vision_Termination_Date</th></tr></thead><tbody><tr><td>01/01/1970</td><td>01/01/1970</td><td>null</td><td>null</td><td>null</td><td>null</td></tr><tr><td>01/01/1970</td><td>01/01/1970</td><td>01/01/1970</td><td>01/01/1970</td><td>null</td><td>null</td></tr><tr><td>01/01/1970</td><td>01/01/1970</td><td>null</td><td>null</td><td>01/01/1970</td><td>01/01/1970</td></tr><tr><td>01/01/1970</td><td>01/01/1970</td><td>01/01/1970</td><td>01/01/1970</td><td>01/01/1970</td><td>01/01/1970</td></tr><tr><td>01/01/1970</td><td>01/01/1970</td><td>null</td><td>null</td><td>null</td><td>null</td></tr><tr><td>01/01/1970</td><td>01/01/1970</td><td>01/01/1970</td><td>01/01/1970</td><td>null</td><td>null</td></tr><tr><td>01/01/1970</td><td>01/01/1970</td><td>null</td><td>null</td><td>01/01/1970</td><td>01/01/1970</td></tr><tr><td>01/01/1970</td><td>01/01/1970</td><td>01/01/1970</td><td>01/01/1970</td><td>01/01/1970</td><td>01/01/1970</td></tr><tr><td>01/01/1970</td><td>01/01/1970</td><td>null</td><td>null</td><td>null</td><td>null</td></tr><tr><td>01/01/1970</td><td>01/01/1970</td><td>01/01/1970</td><td>01/01/1970</td><td>null</td><td>null</td></tr><tr><td>01/01/1970</td><td>01/01/1970</td><td>null</td><td>null</td><td>01/01/1970</td><td>01/01/1970</td></tr><tr><td>01/01/1970</td><td>01/01/1970</td><td>01/01/1970</td><td>01/01/1970</td><td>01/01/1970</td><td>01/01/1970</td></tr><tr><td>01/01/1970</td><td>01/01/1970</td><td>null</td><td>null</td><td>null</td><td>null</td></tr><tr><td>01/01/1970</td><td>01/01/1970</td><td>01/01/1970</td><td>01/01/1970</td><td>null</td><td>null</td></tr><tr><td>01/01/1970</td><td>01/01/1970</td><td>null</td><td>null</td><td>01/01/1970</td><td>01/01/1970</td></tr><tr><td>01/01/1970</td><td>01/01/1970</td><td>01/01/1970</td><td>01/01/1970</td><td>01/01/1970</td><td>01/01/1970</td></tr></tbody></table></div>"
      ]
     },
     "metadata": {
      "application/vnd.databricks.v1+output": {
       "addedWidgets": {},
       "aggData": [],
       "aggError": "",
       "aggOverflow": false,
       "aggSchema": [],
       "aggSeriesLimitReached": false,
       "aggType": "",
       "arguments": {},
       "columnCustomDisplayInfos": {},
       "data": [
        [
         "01/01/1970",
         "01/01/1970",
         null,
         null,
         null,
         null
        ],
        [
         "01/01/1970",
         "01/01/1970",
         "01/01/1970",
         "01/01/1970",
         null,
         null
        ],
        [
         "01/01/1970",
         "01/01/1970",
         null,
         null,
         "01/01/1970",
         "01/01/1970"
        ],
        [
         "01/01/1970",
         "01/01/1970",
         "01/01/1970",
         "01/01/1970",
         "01/01/1970",
         "01/01/1970"
        ],
        [
         "01/01/1970",
         "01/01/1970",
         null,
         null,
         null,
         null
        ],
        [
         "01/01/1970",
         "01/01/1970",
         "01/01/1970",
         "01/01/1970",
         null,
         null
        ],
        [
         "01/01/1970",
         "01/01/1970",
         null,
         null,
         "01/01/1970",
         "01/01/1970"
        ],
        [
         "01/01/1970",
         "01/01/1970",
         "01/01/1970",
         "01/01/1970",
         "01/01/1970",
         "01/01/1970"
        ],
        [
         "01/01/1970",
         "01/01/1970",
         null,
         null,
         null,
         null
        ],
        [
         "01/01/1970",
         "01/01/1970",
         "01/01/1970",
         "01/01/1970",
         null,
         null
        ],
        [
         "01/01/1970",
         "01/01/1970",
         null,
         null,
         "01/01/1970",
         "01/01/1970"
        ],
        [
         "01/01/1970",
         "01/01/1970",
         "01/01/1970",
         "01/01/1970",
         "01/01/1970",
         "01/01/1970"
        ],
        [
         "01/01/1970",
         "01/01/1970",
         null,
         null,
         null,
         null
        ],
        [
         "01/01/1970",
         "01/01/1970",
         "01/01/1970",
         "01/01/1970",
         null,
         null
        ],
        [
         "01/01/1970",
         "01/01/1970",
         null,
         null,
         "01/01/1970",
         "01/01/1970"
        ],
        [
         "01/01/1970",
         "01/01/1970",
         "01/01/1970",
         "01/01/1970",
         "01/01/1970",
         "01/01/1970"
        ]
       ],
       "datasetInfos": [],
       "dbfsResultPath": null,
       "isJsonSchema": true,
       "metadata": {},
       "overflow": false,
       "plotOptions": {
        "customPlotOptions": {},
        "displayType": "table",
        "pivotAggregation": null,
        "pivotColumns": null,
        "xColumns": null,
        "yColumns": null
       },
       "removedWidgets": [],
       "schema": [
        {
         "metadata": "{}",
         "name": "Enrollment_Medical_Effective_Date",
         "type": "\"string\""
        },
        {
         "metadata": "{}",
         "name": "Enrollment_Medical_Termination_Date",
         "type": "\"string\""
        },
        {
         "metadata": "{}",
         "name": "Enrollment_Dental_Effective_Date",
         "type": "\"string\""
        },
        {
         "metadata": "{}",
         "name": "Enrollment_Dental_Termination_Date",
         "type": "\"string\""
        },
        {
         "metadata": "{}",
         "name": "Enrollment_Vision_Effective_Date",
         "type": "\"string\""
        },
        {
         "metadata": "{}",
         "name": "Enrollment_Vision_Termination_Date",
         "type": "\"string\""
        }
       ],
       "type": "table"
      }
     },
     "output_type": "display_data"
    }
   ],
   "source": [
    "%sql\n",
    "WITH Enrollment_CTE AS (\n",
    "  SELECT\n",
    "    CASE WHEN Plan_Crosswalk.benefit_type LIKE '%Medical%' THEN DATE_FORMAT(to_timestamp(Plan_Crosswalk.effective_date), 'MM/dd/yyyy') ELSE NULL END AS Enrollment_Medical_Effective_Date,\n",
    "    CASE WHEN Plan_Crosswalk.benefit_type LIKE '%Medical%' THEN DATE_FORMAT(to_timestamp(Plan_Crosswalk.termination_date), 'MM/dd/yyyy') ELSE NULL END AS Enrollment_Medical_Termination_Date,\n",
    "    CASE WHEN Plan_Crosswalk.benefit_type LIKE '%Dental%' THEN DATE_FORMAT(to_timestamp(Plan_Crosswalk.effective_date), 'MM/dd/yyyy') ELSE NULL END AS Enrollment_Dental_Effective_Date,\n",
    "    CASE WHEN Plan_Crosswalk.benefit_type LIKE '%Dental%' THEN DATE_FORMAT(to_timestamp(Plan_Crosswalk.termination_date), 'MM/dd/yyyy') ELSE NULL END AS Enrollment_Dental_Termination_Date,\n",
    "    CASE WHEN Plan_Crosswalk.benefit_type LIKE '%Vision%' THEN DATE_FORMAT(to_timestamp(Plan_Crosswalk.effective_date), 'MM/dd/yyyy') ELSE NULL END AS Enrollment_Vision_Effective_Date,\n",
    "    CASE WHEN Plan_Crosswalk.benefit_type LIKE '%Vision%' THEN DATE_FORMAT(to_timestamp(Plan_Crosswalk.termination_date), 'MM/dd/yyyy') ELSE NULL END AS Enrollment_Vision_Termination_Date\n",
    "  FROM Plan_Crosswalk\n",
    ")\n",
    "SELECT * FROM Enrollment_CTE;"
   ]
  },
  {
   "cell_type": "markdown",
   "metadata": {
    "application/vnd.databricks.v1+cell": {
     "cellMetadata": {
      "byteLimit": 2048000,
      "rowLimit": 10000
     },
     "inputWidgets": {},
     "nuid": "3b5fa279-6800-4ea4-ba60-d9b42b3522ce",
     "showTitle": false,
     "title": ""
    }
   },
   "source": [
    "CREATING TABLE"
   ]
  },
  {
   "cell_type": "code",
   "execution_count": 0,
   "metadata": {
    "application/vnd.databricks.v1+cell": {
     "cellMetadata": {
      "byteLimit": 2048000,
      "implicitDf": true,
      "rowLimit": 10000
     },
     "inputWidgets": {},
     "nuid": "896909e9-e278-4618-808d-d0c3d499f550",
     "showTitle": false,
     "title": ""
    }
   },
   "outputs": [
    {
     "output_type": "display_data",
     "data": {
      "text/html": [
       "<style scoped>\n",
       "  .table-result-container {\n",
       "    max-height: 300px;\n",
       "    overflow: auto;\n",
       "  }\n",
       "  table, th, td {\n",
       "    border: 1px solid black;\n",
       "    border-collapse: collapse;\n",
       "  }\n",
       "  th, td {\n",
       "    padding: 5px;\n",
       "  }\n",
       "  th {\n",
       "    text-align: left;\n",
       "  }\n",
       "</style><div class='table-result-container'><table class='table-result'><thead style='background-color: white'><tr></tr></thead><tbody></tbody></table></div>"
      ]
     },
     "metadata": {
      "application/vnd.databricks.v1+output": {
       "addedWidgets": {},
       "aggData": [],
       "aggError": "",
       "aggOverflow": false,
       "aggSchema": [],
       "aggSeriesLimitReached": false,
       "aggType": "",
       "arguments": {},
       "columnCustomDisplayInfos": {},
       "data": [],
       "datasetInfos": [],
       "dbfsResultPath": null,
       "isJsonSchema": true,
       "metadata": {},
       "overflow": false,
       "plotOptions": {
        "customPlotOptions": {},
        "displayType": "table",
        "pivotAggregation": null,
        "pivotColumns": null,
        "xColumns": null,
        "yColumns": null
       },
       "removedWidgets": [],
       "schema": [],
       "type": "table"
      }
     },
     "output_type": "display_data"
    }
   ],
   "source": [
    "%sql\n",
    "CREATE OR REPLACE TABLE Eligibility_Mock_Data_Target_Table (\n",
    "    Abacus_Record_ID VARCHAR(20),\n",
    "    Abacus_Member_ID VARCHAR(20),\n",
    "    Member_ID VARCHAR(20),\n",
    "    Subscriber_ID VARCHAR(20),\n",
    "    Member_First_Name VARCHAR(75),\n",
    "    Member_Last_Name VARCHAR(75),\n",
    "    Member_Middle_Name VARCHAR(75),\n",
    "    Member_Prefix_Name VARCHAR(10),\n",
    "    Member_Suffix_Name VARCHAR(10),\n",
    "    Member_Gender VARCHAR(10),\n",
    "    Member_Date_of_Birth DATE,\n",
    "    Member_Relationship_Code VARCHAR(10),\n",
    "    Member_Relationship_Description VARCHAR(20),\n",
    "    Member_Person_Code INTEGER,\n",
    "    Member_Address_Line_1 VARCHAR(100),\n",
    "    Member_Address_Line_2 VARCHAR(100),\n",
    "    Member_City VARCHAR(20),\n",
    "    Member_State VARCHAR(20),\n",
    "    Member_County VARCHAR(50),\n",
    "    Member_Postal_Code VARCHAR(10),\n",
    "    Member_Country VARCHAR(20),\n",
    "    Member_Home_Phone INTEGER,\n",
    "    Member_Work_Phone INTEGER,\n",
    "    Member_Mobile_Phone INTEGER,\n",
    "    Member_Email VARCHAR(100),\n",
    "    Member_Is_Deceased STRING,\n",
    "    Member_Date_of_Death DATE,\n",
    "    Member_Deceased_Reason VARCHAR(100),\n",
    "    Enrollment_Group_ID VARCHAR(20),\n",
    "    Enrollment_Group_Name VARCHAR(50),\n",
    "    Enrollment_SubGroup_ID VARCHAR(20),\n",
    "    Enrollment_SubGroup_Name VARCHAR(50),\n",
    "    Enrollment_Coverage_Code VARCHAR(10),\n",
    "    Enrollment_Coverage_Description VARCHAR(30),\n",
    "    Enrollment_Plan_ID VARCHAR(10),\n",
    "    Enrollment_Plan_Name VARCHAR(30),\n",
    "    Enrollment_Plan_Coverage VARCHAR(50),\n",
    "    Enrollment_Medical_Effective_Date DATE,\n",
    "    Enrollment_Medical_Termination_Date DATE,\n",
    "    Enrollment_Dental_Effective_Date DATE,\n",
    "    Enrollment_Dental_Termination_Date DATE,\n",
    "    Enrollment_Vision_Effective_Date DATE,\n",
    "    Enrollment_Vision_Termination_Date DATE,\n",
    "    Enrollment_Vendor_Name VARCHAR(20),\n",
    "    Souce_File_Name VARCHAR(100),\n",
    "    File_Ingestion_Date DATE\n",
    ");"
   ]
  },
  {
   "cell_type": "markdown",
   "metadata": {
    "application/vnd.databricks.v1+cell": {
     "cellMetadata": {
      "byteLimit": 2048000,
      "rowLimit": 10000
     },
     "inputWidgets": {},
     "nuid": "ff267028-2b2d-436a-9b99-94846cfa6bef",
     "showTitle": false,
     "title": ""
    }
   },
   "source": [
    "INSERTING DATA"
   ]
  },
  {
   "cell_type": "code",
   "execution_count": 0,
   "metadata": {
    "application/vnd.databricks.v1+cell": {
     "cellMetadata": {
      "byteLimit": 2048000,
      "implicitDf": true,
      "rowLimit": 10000
     },
     "inputWidgets": {},
     "nuid": "68ab3fc9-ace4-4c6b-9df3-5ecd98175a2e",
     "showTitle": false,
     "title": ""
    }
   },
   "outputs": [
    {
     "output_type": "display_data",
     "data": {
      "text/html": [
       "<style scoped>\n",
       "  .table-result-container {\n",
       "    max-height: 300px;\n",
       "    overflow: auto;\n",
       "  }\n",
       "  table, th, td {\n",
       "    border: 1px solid black;\n",
       "    border-collapse: collapse;\n",
       "  }\n",
       "  th, td {\n",
       "    padding: 5px;\n",
       "  }\n",
       "  th {\n",
       "    text-align: left;\n",
       "  }\n",
       "</style><div class='table-result-container'><table class='table-result'><thead style='background-color: white'><tr><th>num_affected_rows</th><th>num_inserted_rows</th></tr></thead><tbody><tr><td>121</td><td>121</td></tr></tbody></table></div>"
      ]
     },
     "metadata": {
      "application/vnd.databricks.v1+output": {
       "addedWidgets": {},
       "aggData": [],
       "aggError": "",
       "aggOverflow": false,
       "aggSchema": [],
       "aggSeriesLimitReached": false,
       "aggType": "",
       "arguments": {},
       "columnCustomDisplayInfos": {},
       "data": [
        [
         121,
         121
        ]
       ],
       "datasetInfos": [],
       "dbfsResultPath": null,
       "isJsonSchema": true,
       "metadata": {},
       "overflow": false,
       "plotOptions": {
        "customPlotOptions": {},
        "displayType": "table",
        "pivotAggregation": null,
        "pivotColumns": null,
        "xColumns": null,
        "yColumns": null
       },
       "removedWidgets": [],
       "schema": [
        {
         "metadata": "{}",
         "name": "num_affected_rows",
         "type": "\"long\""
        },
        {
         "metadata": "{}",
         "name": "num_inserted_rows",
         "type": "\"long\""
        }
       ],
       "type": "table"
      }
     },
     "output_type": "display_data"
    }
   ],
   "source": [
    "%sql\n",
    "INSERT INTO Eligibility_Mock_Data_Target_Table\n",
    "SELECT\n",
    "  ROW_NUMBER() OVER (ORDER BY 1) AS Abacus_Record_Id,\n",
    "  CONCAT(\n",
    "      LPAD(CAST(D.EMPLOYEE_ID AS VARCHAR(6)), 6, '0'),\n",
    "      '-', \n",
    "      LEFT(D.FIRST_NAME, 1), \n",
    "      LEFT(D.LAST_NAME, 1), \n",
    "      IFNULL(LEFT(D.MIDDLE_NAME, 1), ''),\n",
    "      '-', \n",
    "      GC.Rollup_Code, \n",
    "      CAST(RIGHT(YEAR(D.DOB), 2) AS VARCHAR(2))\n",
    "  ) AS Abacus_Member_ID,\n",
    "  D.MEMBER_ID AS Member_ID,\n",
    "  D.EMPLOYEE_ID AS Subscriber_ID,\n",
    "  D.FIRST_NAME AS Member_First_Name,\n",
    "  D.LAST_NAME AS Member_Last_Name,\n",
    "  D.MIDDLE_NAME AS Member_Middle_Name,\n",
    "  CASE\n",
    "    WHEN GC.Rollup_Code = 'F'  THEN 'Mrs./Ms.'\n",
    "    WHEN GC.Rollup_Code = 'M' THEN 'Mr.'\n",
    "    ELSE NULL\n",
    "  END AS Member_Prefix_Name,\n",
    "  '-' AS Member_Suffix_Name,\n",
    "  GC.Rollup_Code AS Member_Gender,\n",
    "  D.DOB AS Member_Date_of_Birth,\n",
    "  D.RELATIONSHIP AS Member_Relationship_Code,\n",
    "  RC.Rollup_Description AS Member_Relationship_Description,\n",
    "  D.PERSON_CODE AS Member_Person_Code,\n",
    "  D.ADDRESS_1 AS Member_Address_Line_1,\n",
    "  D.ADDRESS_2 AS Member_Address_Line_2,\n",
    "  D.CITY AS Member_City,\n",
    "  D.STATE AS Member_State,\n",
    "  D.COUNTY AS Member_County,\n",
    "  D.ZIP AS Member_Postal_Code,\n",
    "  'USA' AS Member_Country,\n",
    "  0000000000 AS Member_Home_Phone,\n",
    "  0000000000 AS Member_Work_Phone,\n",
    "  0000000000 AS Member_Mobile_Phone,\n",
    "  'N/A' AS Member_Email,\n",
    "  'N/A' AS Member_Is_Deceased,\n",
    "  NULL AS Member_Date_of_Death,\n",
    "  'N/A' AS Member_Deceased_Reason,\n",
    "  E.GROUP_ID AS Enrollment_Group_ID,\n",
    "  GRC.GROUP_NAME AS Enrollment_Group_Name,\n",
    "  '-' AS Enrollment_SubGroup_ID,\n",
    "  '-' AS Enrollment_SubGroup_Name,\n",
    "  E.COVERAGE_TYPE AS Enrollment_Coverage_Code,\n",
    "  CC.Coverage_Description AS Enrollment_Coverage_Description,\n",
    "  E.PLAN_ID AS Enrollment_Plan_ID,\n",
    "  PC.`PLAN NAME` AS Enrollment_Plan_Name,\n",
    "  PC.BENEFIT_TYPE AS Enrollment_Plan_Coverage,\n",
    "  CASE WHEN PC.benefit_type LIKE '%Medical%' THEN to_date(to_timestamp(PC.effective_date), 'MM/dd/yyyy') ELSE NULL END AS Enrollment_Medical_Effective_Date,\n",
    "  CASE WHEN PC.benefit_type LIKE '%Medical%' THEN to_date(to_timestamp(PC.termination_date), 'MM/dd/yyyy') ELSE NULL END AS Enrollment_Medical_Termination_Date,\n",
    "  CASE WHEN PC.benefit_type LIKE '%Dental%' THEN to_date(to_timestamp(PC.effective_date), 'MM/dd/yyyy') ELSE NULL END AS Enrollment_Dental_Effective_Date,\n",
    "  CASE WHEN PC.benefit_type LIKE '%Dental%' THEN to_date(to_timestamp(PC.termination_date), 'MM/dd/yyyy') ELSE NULL END AS Enrollment_Dental_Termination_Date,\n",
    "  CASE WHEN PC.benefit_type LIKE '%Vision%' THEN to_date(to_timestamp(PC.effective_date), 'MM/dd/yyyy') ELSE NULL END AS Enrollment_Vision_Effective_Date,\n",
    "  CASE WHEN PC.benefit_type LIKE '%Vision%' THEN to_date(to_timestamp(PC.termination_date), 'MM/dd/yyyy') ELSE NULL END AS Enrollment_Vision_Termination_Date,\n",
    "  E.VENDOR AS Enrollment_Vendor_Name,\n",
    "  'Member Enrollment' AS Souce_File_Name,\n",
    "  current_timestamp() as File_Ingestion_Date\n",
    "FROM Demographics_Mock_Data AS D\n",
    "LEFT JOIN Enrollment_Mock_Data AS E on E.MEMBER_ID = D.MEMBER_ID\n",
    "LEFT JOIN Gender_Crosswalk AS GC ON D.GENDER = GC.Code\n",
    "LEFT JOIN Relationship_Crosswalk AS RC ON D.RELATIONSHIP = RC.Rollup_Code\n",
    "LEFT JOIN Group_Crosswalk AS GRC ON E.GROUP_ID = GRC.GROUP_ID\n",
    "LEFT JOIN Coverage_Crosswalk AS CC ON E.COVERAGE_TYPE = CC.Coverage_ID\n",
    "LEFT JOIN Plan_Crosswalk AS PC ON E.PLAN_ID = PC.PLAN_ID;"
   ]
  },
  {
   "cell_type": "markdown",
   "metadata": {
    "application/vnd.databricks.v1+cell": {
     "cellMetadata": {
      "byteLimit": 2048000,
      "rowLimit": 10000
     },
     "inputWidgets": {},
     "nuid": "51d65304-dbbd-4038-8ebc-3f33f44e0072",
     "showTitle": false,
     "title": ""
    }
   },
   "source": [
    "CHECKING FINAL"
   ]
  },
  {
   "cell_type": "code",
   "execution_count": 0,
   "metadata": {
    "application/vnd.databricks.v1+cell": {
     "cellMetadata": {
      "byteLimit": 2048000,
      "implicitDf": true,
      "rowLimit": 10000
     },
     "inputWidgets": {},
     "nuid": "24f3e9a1-2ad3-48bb-82fb-f2205d3282ac",
     "showTitle": false,
     "title": ""
    }
   },
   "outputs": [
    {
     "output_type": "display_data",
     "data": {
      "text/html": [
       "<style scoped>\n",
       "  .table-result-container {\n",
       "    max-height: 300px;\n",
       "    overflow: auto;\n",
       "  }\n",
       "  table, th, td {\n",
       "    border: 1px solid black;\n",
       "    border-collapse: collapse;\n",
       "  }\n",
       "  th, td {\n",
       "    padding: 5px;\n",
       "  }\n",
       "  th {\n",
       "    text-align: left;\n",
       "  }\n",
       "</style><div class='table-result-container'><table class='table-result'><thead style='background-color: white'><tr><th>Abacus_Record_ID</th><th>Abacus_Member_ID</th><th>Member_ID</th><th>Subscriber_ID</th><th>Member_First_Name</th><th>Member_Last_Name</th><th>Member_Middle_Name</th><th>Member_Prefix_Name</th><th>Member_Suffix_Name</th><th>Member_Gender</th><th>Member_Date_of_Birth</th><th>Member_Relationship_Code</th><th>Member_Relationship_Description</th><th>Member_Person_Code</th><th>Member_Address_Line_1</th><th>Member_Address_Line_2</th><th>Member_City</th><th>Member_State</th><th>Member_County</th><th>Member_Postal_Code</th><th>Member_Country</th><th>Member_Home_Phone</th><th>Member_Work_Phone</th><th>Member_Mobile_Phone</th><th>Member_Email</th><th>Member_Is_Deceased</th><th>Member_Date_of_Death</th><th>Member_Deceased_Reason</th><th>Enrollment_Group_ID</th><th>Enrollment_Group_Name</th><th>Enrollment_SubGroup_ID</th><th>Enrollment_SubGroup_Name</th><th>Enrollment_Coverage_Code</th><th>Enrollment_Coverage_Description</th><th>Enrollment_Plan_ID</th><th>Enrollment_Plan_Name</th><th>Enrollment_Plan_Coverage</th><th>Enrollment_Medical_Effective_Date</th><th>Enrollment_Medical_Termination_Date</th><th>Enrollment_Dental_Effective_Date</th><th>Enrollment_Dental_Termination_Date</th><th>Enrollment_Vision_Effective_Date</th><th>Enrollment_Vision_Termination_Date</th><th>Enrollment_Vendor_Name</th><th>Souce_File_Name</th><th>File_Ingestion_Date</th></tr></thead><tbody><tr><td>1</td><td>160951-FLM-F88</td><td>173400</td><td>160951</td><td>Freya</td><td>Lynn</td><td>Marlys</td><td>Mrs./Ms.</td><td>-</td><td>F</td><td>1988-02-23</td><td>S</td><td>Spouse</td><td>2</td><td>771 Kirlin Haven</td><td>null</td><td>Attleboro</td><td>Massachusetts</td><td>Bristol County</td><td>02703</td><td>USA</td><td>0</td><td>0</td><td>0</td><td>N/A</td><td>N/A</td><td>null</td><td>N/A</td><td>1</td><td>Abacus Insights</td><td>-</td><td>-</td><td>E1C</td><td>Employee and 1 Child</td><td>11.0</td><td>Plan L</td><td>Medical, Dental and Vision</td><td>1970-01-01</td><td>1970-01-01</td><td>1970-01-01</td><td>1970-01-01</td><td>1970-01-01</td><td>1970-01-01</td><td>Cigna</td><td>Member Enrollment</td><td>2024-03-10</td></tr><tr><td>2</td><td>160951-CP-F64</td><td>83300</td><td>160951</td><td>Candice</td><td>Padilla</td><td>null</td><td>Mrs./Ms.</td><td>-</td><td>F</td><td>1964-12-10</td><td>F</td><td>Fiance</td><td>3</td><td>182 Trantow Mission Unit 20</td><td>null</td><td>Bellingham</td><td>Massachusetts</td><td>Norfolk County</td><td></td><td>USA</td><td>0</td><td>0</td><td>0</td><td>N/A</td><td>N/A</td><td>null</td><td>N/A</td><td>1</td><td>Abacus Insights</td><td>-</td><td>-</td><td>ES</td><td>Employee and Spouse</td><td>0.0</td><td>Plan A</td><td>Medical</td><td>1970-01-01</td><td>1970-01-01</td><td>null</td><td>null</td><td>null</td><td>null</td><td>Cigna</td><td>Member Enrollment</td><td>2024-03-10</td></tr><tr><td>3</td><td>160951-CP-F64</td><td>83300</td><td>160951</td><td>Candice</td><td>Padilla</td><td>null</td><td>Mrs./Ms.</td><td>-</td><td>F</td><td>1964-12-10</td><td>F</td><td>Father</td><td>3</td><td>182 Trantow Mission Unit 20</td><td>null</td><td>Bellingham</td><td>Massachusetts</td><td>Norfolk County</td><td></td><td>USA</td><td>0</td><td>0</td><td>0</td><td>N/A</td><td>N/A</td><td>null</td><td>N/A</td><td>1</td><td>Abacus Insights</td><td>-</td><td>-</td><td>ES</td><td>Employee and Spouse</td><td>0.0</td><td>Plan A</td><td>Medical</td><td>1970-01-01</td><td>1970-01-01</td><td>null</td><td>null</td><td>null</td><td>null</td><td>Cigna</td><td>Member Enrollment</td><td>2024-03-10</td></tr><tr><td>4</td><td>111325-LS-F15</td><td>106800</td><td>111325</td><td>Leanne</td><td>Swanson</td><td>null</td><td>Mrs./Ms.</td><td>-</td><td>F</td><td>2015-05-28</td><td>D2</td><td>Divorced Wife</td><td>16</td><td>686 Shields Dam</td><td>null</td><td>Easthampton</td><td>Massachusetts</td><td>Hampshire County</td><td></td><td>USA</td><td>0</td><td>0</td><td>0</td><td>N/A</td><td>N/A</td><td>null</td><td>N/A</td><td>1</td><td>Abacus Insights</td><td>-</td><td>-</td><td>U</td><td>Unknown</td><td>4.0</td><td>Plan E</td><td>Medical</td><td>1970-01-01</td><td>1970-01-01</td><td>null</td><td>null</td><td>null</td><td>null</td><td>Aetna</td><td>Member Enrollment</td><td>2024-03-10</td></tr><tr><td>5</td><td>114177-MB-F48</td><td>52900</td><td>114177</td><td>Millicent</td><td>Byrne</td><td>null</td><td>Mrs./Ms.</td><td>-</td><td>F</td><td>1948-04-22</td><td>N</td><td>Niece</td><td>13</td><td>1009 DuBuque Ville Unit 54</td><td>null</td><td>Springfield</td><td>Massachusetts</td><td>Hampden County</td><td>01106</td><td>USA</td><td>0</td><td>0</td><td>0</td><td>N/A</td><td>N/A</td><td>null</td><td>N/A</td><td>1</td><td>Abacus Insights</td><td>-</td><td>-</td><td>ES</td><td>Employee and Spouse</td><td>15.0</td><td>Plan P</td><td>Medical, Dental and Vision</td><td>1970-01-01</td><td>1970-01-01</td><td>1970-01-01</td><td>1970-01-01</td><td>1970-01-01</td><td>1970-01-01</td><td>Aetna</td><td>Member Enrollment</td><td>2024-03-10</td></tr><tr><td>6</td><td>117067-CL-F76</td><td>97600</td><td>117067</td><td>Charley</td><td>Lynn</td><td>null</td><td>Mrs./Ms.</td><td>-</td><td>F</td><td>1976-01-12</td><td>A1</td><td>Adopted Son</td><td>11</td><td>114 Cummerata Parade</td><td>null</td><td>West Tisbury</td><td>Massachusetts</td><td>Dukes County</td><td></td><td>USA</td><td>0</td><td>0</td><td>0</td><td>N/A</td><td>N/A</td><td>null</td><td>N/A</td><td>1</td><td>Abacus Insights</td><td>-</td><td>-</td><td>E</td><td>Employee Only</td><td>10.0</td><td>Plan K</td><td>Medical and Vision</td><td>1970-01-01</td><td>1970-01-01</td><td>null</td><td>null</td><td>1970-01-01</td><td>1970-01-01</td><td>Aetna</td><td>Member Enrollment</td><td>2024-03-10</td></tr><tr><td>7</td><td>012745-FM-F89</td><td>22000</td><td>12745</td><td>Flynn</td><td>Morrison</td><td>null</td><td>Mrs./Ms.</td><td>-</td><td>F</td><td>1989-03-30</td><td>M</td><td>Mother</td><td>4</td><td>164 Stokes Lodge Apt 34</td><td>null</td><td>Winchendon</td><td>Massachusetts</td><td>Worcester County</td><td>01475</td><td>USA</td><td>0</td><td>0</td><td>0</td><td>N/A</td><td>N/A</td><td>null</td><td>N/A</td><td>1</td><td>Abacus Insights</td><td>-</td><td>-</td><td>EC</td><td>Employee and Childrens</td><td>15.0</td><td>Plan P</td><td>Medical, Dental and Vision</td><td>1970-01-01</td><td>1970-01-01</td><td>1970-01-01</td><td>1970-01-01</td><td>1970-01-01</td><td>1970-01-01</td><td>Cigna</td><td>Member Enrollment</td><td>2024-03-10</td></tr><tr><td>8</td><td>013466-PK-F19</td><td>22900</td><td>13466</td><td>Pauline</td><td>Knight</td><td>null</td><td>Mrs./Ms.</td><td>-</td><td>F</td><td>2019-05-09</td><td>N</td><td>Niece</td><td>13</td><td>376 Skiles Forge Suite 48</td><td>null</td><td>Westminster</td><td>Massachusetts</td><td>Worcester County</td><td></td><td>USA</td><td>0</td><td>0</td><td>0</td><td>N/A</td><td>N/A</td><td>null</td><td>N/A</td><td>1</td><td>Abacus Insights</td><td>-</td><td>-</td><td>E</td><td>Employee Only</td><td>1.0</td><td>Plan B</td><td>Medical and Dental</td><td>1970-01-01</td><td>1970-01-01</td><td>1970-01-01</td><td>1970-01-01</td><td>null</td><td>null</td><td>Aetna</td><td>Member Enrollment</td><td>2024-03-10</td></tr><tr><td>9</td><td>135688-EGM-F14</td><td>122500</td><td>135688</td><td>Elspeth</td><td>Gonzalez</td><td>Marliss</td><td>Mrs./Ms.</td><td>-</td><td>F</td><td>2014-09-09</td><td>C2</td><td>Daughter</td><td>6</td><td>570 Nikolaus Wynd</td><td>null</td><td>Cambridge</td><td>Massachusetts</td><td>Middlesex County</td><td>02139</td><td>USA</td><td>0</td><td>0</td><td>0</td><td>N/A</td><td>N/A</td><td>null</td><td>N/A</td><td>1</td><td>Abacus Insights</td><td>-</td><td>-</td><td>F</td><td>Family</td><td>10.0</td><td>Plan K</td><td>Medical and Vision</td><td>1970-01-01</td><td>1970-01-01</td><td>null</td><td>null</td><td>1970-01-01</td><td>1970-01-01</td><td>Cigna</td><td>Member Enrollment</td><td>2024-03-10</td></tr><tr><td>10</td><td>013587-AH-F84</td><td>21800</td><td>13587</td><td>Amelie</td><td>Harmon</td><td>null</td><td>Mrs./Ms.</td><td>-</td><td>F</td><td>1984-04-08</td><td>D2</td><td>Divorced Wife</td><td>16</td><td>958 Robel Run Unit 83</td><td>null</td><td>Carver</td><td>Massachusetts</td><td>Plymouth County</td><td></td><td>USA</td><td>0</td><td>0</td><td>0</td><td>N/A</td><td>N/A</td><td>null</td><td>N/A</td><td>8</td><td>TechKraft Inc</td><td>-</td><td>-</td><td>E1C</td><td>Employee and 1 Child</td><td>4.0</td><td>Plan E</td><td>Medical</td><td>1970-01-01</td><td>1970-01-01</td><td>null</td><td>null</td><td>null</td><td>null</td><td>Aetna</td><td>Member Enrollment</td><td>2024-03-10</td></tr><tr><td>11</td><td>138507-LM-F10</td><td>145000</td><td>138507</td><td>Laura</td><td>Montoya</td><td>null</td><td>Mrs./Ms.</td><td>-</td><td>F</td><td>2010-03-29</td><td>F</td><td>Fiance</td><td>3</td><td>1094 Keebler Grove</td><td>null</td><td>Gardner</td><td>Massachusetts</td><td>Worcester County</td><td>01440</td><td>USA</td><td>0</td><td>0</td><td>0</td><td>N/A</td><td>N/A</td><td>null</td><td>N/A</td><td>1</td><td>Abacus Insights</td><td>-</td><td>-</td><td>F</td><td>Family</td><td>1.0</td><td>Plan B</td><td>Medical and Dental</td><td>1970-01-01</td><td>1970-01-01</td><td>1970-01-01</td><td>1970-01-01</td><td>null</td><td>null</td><td>Cigna</td><td>Member Enrollment</td><td>2024-03-10</td></tr><tr><td>12</td><td>138507-LM-F10</td><td>145000</td><td>138507</td><td>Laura</td><td>Montoya</td><td>null</td><td>Mrs./Ms.</td><td>-</td><td>F</td><td>2010-03-29</td><td>F</td><td>Father</td><td>3</td><td>1094 Keebler Grove</td><td>null</td><td>Gardner</td><td>Massachusetts</td><td>Worcester County</td><td>01440</td><td>USA</td><td>0</td><td>0</td><td>0</td><td>N/A</td><td>N/A</td><td>null</td><td>N/A</td><td>1</td><td>Abacus Insights</td><td>-</td><td>-</td><td>F</td><td>Family</td><td>1.0</td><td>Plan B</td><td>Medical and Dental</td><td>1970-01-01</td><td>1970-01-01</td><td>1970-01-01</td><td>1970-01-01</td><td>null</td><td>null</td><td>Cigna</td><td>Member Enrollment</td><td>2024-03-10</td></tr><tr><td>13</td><td>151731-JK-F19</td><td>150400</td><td>151731</td><td>Jayden</td><td>Kane</td><td>null</td><td>Mrs./Ms.</td><td>-</td><td>F</td><td>2019-07-08</td><td>F</td><td>Fiance</td><td>3</td><td>1054 Price Glen</td><td>null</td><td>Haverhill</td><td>Massachusetts</td><td>Essex County</td><td>01835</td><td>USA</td><td>0</td><td>0</td><td>0</td><td>N/A</td><td>N/A</td><td>null</td><td>N/A</td><td>1</td><td>Abacus Insights</td><td>-</td><td>-</td><td>E</td><td>Employee Only</td><td>0.0</td><td>Plan A</td><td>Medical</td><td>1970-01-01</td><td>1970-01-01</td><td>null</td><td>null</td><td>null</td><td>null</td><td>Aetna</td><td>Member Enrollment</td><td>2024-03-10</td></tr><tr><td>14</td><td>151731-JK-F19</td><td>150400</td><td>151731</td><td>Jayden</td><td>Kane</td><td>null</td><td>Mrs./Ms.</td><td>-</td><td>F</td><td>2019-07-08</td><td>F</td><td>Father</td><td>3</td><td>1054 Price Glen</td><td>null</td><td>Haverhill</td><td>Massachusetts</td><td>Essex County</td><td>01835</td><td>USA</td><td>0</td><td>0</td><td>0</td><td>N/A</td><td>N/A</td><td>null</td><td>N/A</td><td>1</td><td>Abacus Insights</td><td>-</td><td>-</td><td>E</td><td>Employee Only</td><td>0.0</td><td>Plan A</td><td>Medical</td><td>1970-01-01</td><td>1970-01-01</td><td>null</td><td>null</td><td>null</td><td>null</td><td>Aetna</td><td>Member Enrollment</td><td>2024-03-10</td></tr><tr><td>15</td><td>152105-SK-F91</td><td>114100</td><td>152105</td><td>Safa</td><td>Kelly</td><td>null</td><td>Mrs./Ms.</td><td>-</td><td>F</td><td>1991-08-21</td><td>G3</td><td>Grand Son</td><td>9</td><td>765 Russel Pathway Unit 82</td><td>null</td><td>Spencer</td><td>Massachusetts</td><td>Worcester County</td><td>01562</td><td>USA</td><td>0</td><td>0</td><td>0</td><td>N/A</td><td>N/A</td><td>null</td><td>N/A</td><td>8</td><td>TechKraft Inc</td><td>-</td><td>-</td><td>F</td><td>Family</td><td>10.0</td><td>Plan K</td><td>Medical and Vision</td><td>1970-01-01</td><td>1970-01-01</td><td>null</td><td>null</td><td>1970-01-01</td><td>1970-01-01</td><td>Cigna</td><td>Member Enrollment</td><td>2024-03-10</td></tr><tr><td>16</td><td>153303-AWM-F02</td><td>201500</td><td>153303</td><td>Anika</td><td>Washington</td><td>Merla</td><td>Mrs./Ms.</td><td>-</td><td>F</td><td>2002-03-08</td><td>F</td><td>Fiance</td><td>3</td><td>815 Rau Ramp</td><td>null</td><td>Boston</td><td>Massachusetts</td><td>Suffolk County</td><td>02109</td><td>USA</td><td>0</td><td>0</td><td>0</td><td>N/A</td><td>N/A</td><td>null</td><td>N/A</td><td>1</td><td>Abacus Insights</td><td>-</td><td>-</td><td>E</td><td>Employee Only</td><td>4.0</td><td>Plan E</td><td>Medical</td><td>1970-01-01</td><td>1970-01-01</td><td>null</td><td>null</td><td>null</td><td>null</td><td>Aetna</td><td>Member Enrollment</td><td>2024-03-10</td></tr><tr><td>17</td><td>153303-AWM-F02</td><td>201500</td><td>153303</td><td>Anika</td><td>Washington</td><td>Merla</td><td>Mrs./Ms.</td><td>-</td><td>F</td><td>2002-03-08</td><td>F</td><td>Father</td><td>3</td><td>815 Rau Ramp</td><td>null</td><td>Boston</td><td>Massachusetts</td><td>Suffolk County</td><td>02109</td><td>USA</td><td>0</td><td>0</td><td>0</td><td>N/A</td><td>N/A</td><td>null</td><td>N/A</td><td>1</td><td>Abacus Insights</td><td>-</td><td>-</td><td>E</td><td>Employee Only</td><td>4.0</td><td>Plan E</td><td>Medical</td><td>1970-01-01</td><td>1970-01-01</td><td>null</td><td>null</td><td>null</td><td>null</td><td>Aetna</td><td>Member Enrollment</td><td>2024-03-10</td></tr><tr><td>18</td><td>158915-IE-F88</td><td>215600</td><td>158915</td><td>Inayah</td><td>Evans</td><td>null</td><td>Mrs./Ms.</td><td>-</td><td>F</td><td>1988-06-28</td><td>G3</td><td>Grand Son</td><td>9</td><td>282 Roberts Brook Suite 29</td><td>null</td><td>Dartmouth</td><td>Massachusetts</td><td>Bristol County</td><td></td><td>USA</td><td>0</td><td>0</td><td>0</td><td>N/A</td><td>N/A</td><td>null</td><td>N/A</td><td>8</td><td>TechKraft Inc</td><td>-</td><td>-</td><td>F</td><td>Family</td><td>8.0</td><td>Plan I</td><td>Medical</td><td>1970-01-01</td><td>1970-01-01</td><td>null</td><td>null</td><td>null</td><td>null</td><td>Aetna</td><td>Member Enrollment</td><td>2024-03-10</td></tr><tr><td>19</td><td>160951-AL-F12</td><td>216900</td><td>160951</td><td>Aurora</td><td>Lawson</td><td>null</td><td>Mrs./Ms.</td><td>-</td><td>F</td><td>2012-10-04</td><td>E</td><td>Self</td><td>1</td><td>194 Robel Skyway</td><td>null</td><td>Boston</td><td>Massachusetts</td><td>Suffolk County</td><td>02124</td><td>USA</td><td>0</td><td>0</td><td>0</td><td>N/A</td><td>N/A</td><td>null</td><td>N/A</td><td>4</td><td>Digital Convergence Technologies</td><td>-</td><td>-</td><td>EC</td><td>Employee and Childrens</td><td>1.0</td><td>Plan B</td><td>Medical and Dental</td><td>1970-01-01</td><td>1970-01-01</td><td>1970-01-01</td><td>1970-01-01</td><td>null</td><td>null</td><td>Cigna</td><td>Member Enrollment</td><td>2024-03-10</td></tr><tr><td>20</td><td>166936-RS-F57</td><td>207000</td><td>166936</td><td>Robyn</td><td>Stewart</td><td>null</td><td>Mrs./Ms.</td><td>-</td><td>F</td><td>1957-10-19</td><td>D1</td><td>Divorced Husband</td><td>15</td><td>306 Aufderhar Grove Unit 79</td><td>null</td><td>Palmer</td><td>Massachusetts</td><td>Hampden County</td><td></td><td>USA</td><td>0</td><td>0</td><td>0</td><td>N/A</td><td>N/A</td><td>null</td><td>N/A</td><td>8</td><td>TechKraft Inc</td><td>-</td><td>-</td><td>E</td><td>Employee Only</td><td>6.0</td><td>Plan G</td><td>Medical and Vision</td><td>1970-01-01</td><td>1970-01-01</td><td>null</td><td>null</td><td>1970-01-01</td><td>1970-01-01</td><td>Aetna</td><td>Member Enrollment</td><td>2024-03-10</td></tr><tr><td>21</td><td>168886-LP-F61</td><td>124700</td><td>168886</td><td>Lena</td><td>Pearce</td><td>null</td><td>Mrs./Ms.</td><td>-</td><td>F</td><td>1961-06-22</td><td>A1</td><td>Adopted Son</td><td>11</td><td>610 Harber Rapid Unit 87</td><td>null</td><td>Greenfield</td><td>Massachusetts</td><td>Franklin County</td><td></td><td>USA</td><td>0</td><td>0</td><td>0</td><td>N/A</td><td>N/A</td><td>null</td><td>N/A</td><td>1</td><td>Abacus Insights</td><td>-</td><td>-</td><td>ES</td><td>Employee and Spouse</td><td>6.0</td><td>Plan G</td><td>Medical and Vision</td><td>1970-01-01</td><td>1970-01-01</td><td>null</td><td>null</td><td>1970-01-01</td><td>1970-01-01</td><td>Aetna</td><td>Member Enrollment</td><td>2024-03-10</td></tr><tr><td>22</td><td>170319-KH-F16</td><td>222700</td><td>170319</td><td>Kane</td><td>Hardin</td><td>null</td><td>Mrs./Ms.</td><td>-</td><td>F</td><td>2016-01-29</td><td>E</td><td>Self</td><td>1</td><td>971 Balistreri Vale Unit 75</td><td>null</td><td>Southborough</td><td>Massachusetts</td><td>Worcester County</td><td></td><td>USA</td><td>0</td><td>0</td><td>0</td><td>N/A</td><td>N/A</td><td>null</td><td>N/A</td><td>1</td><td>Abacus Insights</td><td>-</td><td>-</td><td>F</td><td>Family</td><td>3.0</td><td>Plan D</td><td>Medical, Dental and Vision</td><td>1970-01-01</td><td>1970-01-01</td><td>1970-01-01</td><td>1970-01-01</td><td>1970-01-01</td><td>1970-01-01</td><td>Aetna</td><td>Member Enrollment</td><td>2024-03-10</td></tr><tr><td>23</td><td>170319-NMM-F54</td><td>190000</td><td>170319</td><td>Noor</td><td>Merritt</td><td>Melody</td><td>Mrs./Ms.</td><td>-</td><td>F</td><td>1954-02-18</td><td>A2</td><td>Adapted Daughter</td><td>12</td><td>970 Johnston Drive Apt 25</td><td>null</td><td>Worcester</td><td>Massachusetts</td><td>Worcester County</td><td>01583</td><td>USA</td><td>0</td><td>0</td><td>0</td><td>N/A</td><td>N/A</td><td>null</td><td>N/A</td><td>1</td><td>Abacus Insights</td><td>-</td><td>-</td><td>ES</td><td>Employee and Spouse</td><td>9.0</td><td>Plan J</td><td>Medical and Dental</td><td>1970-01-01</td><td>1970-01-01</td><td>1970-01-01</td><td>1970-01-01</td><td>null</td><td>null</td><td>Aetna</td><td>Member Enrollment</td><td>2024-03-10</td></tr><tr><td>24</td><td>170319-KJ-F03</td><td>182000</td><td>170319</td><td>Khadijah</td><td>Johnston</td><td>null</td><td>Mrs./Ms.</td><td>-</td><td>F</td><td>2003-06-09</td><td>D2</td><td>Divorced Wife</td><td>16</td><td>252 Heller Manor Suite 56</td><td>null</td><td>Attleboro</td><td>Massachusetts</td><td>Bristol County</td><td>02861</td><td>USA</td><td>0</td><td>0</td><td>0</td><td>N/A</td><td>N/A</td><td>null</td><td>N/A</td><td>1</td><td>Abacus Insights</td><td>-</td><td>-</td><td>F</td><td>Family</td><td>15.0</td><td>Plan P</td><td>Medical, Dental and Vision</td><td>1970-01-01</td><td>1970-01-01</td><td>1970-01-01</td><td>1970-01-01</td><td>1970-01-01</td><td>1970-01-01</td><td>Aetna</td><td>Member Enrollment</td><td>2024-03-10</td></tr><tr><td>25</td><td>170319-KD-F83</td><td>139000</td><td>170319</td><td>Katy</td><td>Dalton</td><td>null</td><td>Mrs./Ms.</td><td>-</td><td>F</td><td>1983-10-07</td><td>A1</td><td>Adopted Son</td><td>11</td><td>999 Kuhn Forge</td><td>null</td><td>Lowell</td><td>Massachusetts</td><td>Middlesex County</td><td>01851</td><td>USA</td><td>0</td><td>0</td><td>0</td><td>N/A</td><td>N/A</td><td>null</td><td>N/A</td><td>1</td><td>Abacus Insights</td><td>-</td><td>-</td><td>EC</td><td>Employee and Childrens</td><td>10.0</td><td>Plan K</td><td>Medical and Vision</td><td>1970-01-01</td><td>1970-01-01</td><td>null</td><td>null</td><td>1970-01-01</td><td>1970-01-01</td><td>Cigna</td><td>Member Enrollment</td><td>2024-03-10</td></tr><tr><td>26</td><td>170319-AW-F07</td><td>157100</td><td>170319</td><td>Aminah</td><td>Wall</td><td>null</td><td>Mrs./Ms.</td><td>-</td><td>F</td><td>2007-09-19</td><td>G4</td><td>Grand Daughter</td><td>10</td><td>984 Kuhic Bay Apt 19</td><td>null</td><td>Agawam</td><td>Massachusetts</td><td>Hampden County</td><td>01030</td><td>USA</td><td>0</td><td>0</td><td>0</td><td>N/A</td><td>N/A</td><td>null</td><td>N/A</td><td>4</td><td>Digital Convergence Technologies</td><td>-</td><td>-</td><td>F</td><td>Family</td><td>5.0</td><td>Plan F</td><td>Medical and Dental</td><td>1970-01-01</td><td>1970-01-01</td><td>1970-01-01</td><td>1970-01-01</td><td>null</td><td>null</td><td>Aetna</td><td>Member Enrollment</td><td>2024-03-10</td></tr><tr><td>27</td><td>209109-HE-F97</td><td>110800</td><td>209109</td><td>Hollie</td><td>Eaton</td><td>null</td><td>Mrs./Ms.</td><td>-</td><td>F</td><td>1997-09-20</td><td>M</td><td>Mother</td><td>4</td><td>652 Kovacek Trailer Suite 29</td><td>null</td><td>Lenox</td><td>Massachusetts</td><td>Berkshire County</td><td>01240</td><td>USA</td><td>0</td><td>0</td><td>0</td><td>N/A</td><td>N/A</td><td>null</td><td>N/A</td><td>8</td><td>TechKraft Inc</td><td>-</td><td>-</td><td>E1C</td><td>Employee and 1 Child</td><td>8.0</td><td>Plan I</td><td>Medical</td><td>1970-01-01</td><td>1970-01-01</td><td>null</td><td>null</td><td>null</td><td>null</td><td>Cigna</td><td>Member Enrollment</td><td>2024-03-10</td></tr><tr><td>28</td><td>213741-SL-F08</td><td>158600</td><td>213741</td><td>Siobhan</td><td>Lin</td><td>null</td><td>Mrs./Ms.</td><td>-</td><td>F</td><td>2008-01-24</td><td>A2</td><td>Adapted Daughter</td><td>12</td><td>611 Williamson Loaf Apt 44</td><td>null</td><td>Somerville</td><td>Massachusetts</td><td>Middlesex County</td><td>02138</td><td>USA</td><td>0</td><td>0</td><td>0</td><td>N/A</td><td>N/A</td><td>null</td><td>N/A</td><td>1</td><td>Abacus Insights</td><td>-</td><td>-</td><td>EP</td><td>Employee and Parents</td><td>14.0</td><td>Plan O</td><td>Medical and Vision</td><td>1970-01-01</td><td>1970-01-01</td><td>null</td><td>null</td><td>1970-01-01</td><td>1970-01-01</td><td>Cigna</td><td>Member Enrollment</td><td>2024-03-10</td></tr><tr><td>29</td><td>215316-MZ-F50</td><td>190600</td><td>215316</td><td>Marley</td><td>Zamora</td><td>null</td><td>Mrs./Ms.</td><td>-</td><td>F</td><td>1950-06-05</td><td>A2</td><td>Adapted Daughter</td><td>12</td><td>289 Brown Glen Unit 6</td><td>null</td><td>Revere</td><td>Massachusetts</td><td>Suffolk County</td><td>02151</td><td>USA</td><td>0</td><td>0</td><td>0</td><td>N/A</td><td>N/A</td><td>null</td><td>N/A</td><td>2</td><td>Google</td><td>-</td><td>-</td><td>U</td><td>Unknown</td><td>5.0</td><td>Plan F</td><td>Medical and Dental</td><td>1970-01-01</td><td>1970-01-01</td><td>1970-01-01</td><td>1970-01-01</td><td>null</td><td>null</td><td>Aetna</td><td>Member Enrollment</td><td>2024-03-10</td></tr><tr><td>30</td><td>022190-ARM-F67</td><td>21700</td><td>22190</td><td>Alessia</td><td>Romero</td><td>Mariel</td><td>Mrs./Ms.</td><td>-</td><td>F</td><td>1967-07-12</td><td>G4</td><td>Grand Daughter</td><td>10</td><td>913 Schiller Well Apt 80</td><td>null</td><td>Burlington</td><td>Massachusetts</td><td>Middlesex County</td><td>01803</td><td>USA</td><td>0</td><td>0</td><td>0</td><td>N/A</td><td>N/A</td><td>null</td><td>N/A</td><td>1</td><td>Abacus Insights</td><td>-</td><td>-</td><td>EC</td><td>Employee and Childrens</td><td>0.0</td><td>Plan A</td><td>Medical</td><td>1970-01-01</td><td>1970-01-01</td><td>null</td><td>null</td><td>null</td><td>null</td><td>Aetna</td><td>Member Enrollment</td><td>2024-03-10</td></tr><tr><td>31</td><td>223770-AC-F52</td><td>216300</td><td>223770</td><td>Adrian</td><td>Collins</td><td>null</td><td>Mrs./Ms.</td><td>-</td><td>F</td><td>1952-05-10</td><td>C2</td><td>Daughter</td><td>6</td><td>217 Will Well Unit 1</td><td>null</td><td>Boston</td><td>Massachusetts</td><td>Suffolk County</td><td>02110</td><td>USA</td><td>0</td><td>0</td><td>0</td><td>N/A</td><td>N/A</td><td>null</td><td>N/A</td><td>3</td><td>Facebook</td><td>-</td><td>-</td><td>EC</td><td>Employee and Childrens</td><td>9.0</td><td>Plan J</td><td>Medical and Dental</td><td>1970-01-01</td><td>1970-01-01</td><td>1970-01-01</td><td>1970-01-01</td><td>null</td><td>null</td><td>Aetna</td><td>Member Enrollment</td><td>2024-03-10</td></tr><tr><td>32</td><td>226237-BO-F94</td><td>218500</td><td>226237</td><td>Belle</td><td>O'Gallagher</td><td>null</td><td>Mrs./Ms.</td><td>-</td><td>F</td><td>1994-05-05</td><td>C1</td><td>Son</td><td>5</td><td>900 Paucek Way</td><td>null</td><td>Newton</td><td>Massachusetts</td><td>Middlesex County</td><td></td><td>USA</td><td>0</td><td>0</td><td>0</td><td>N/A</td><td>N/A</td><td>null</td><td>N/A</td><td>1</td><td>Abacus Insights</td><td>-</td><td>-</td><td>F</td><td>Family</td><td>2.0</td><td>Plan C</td><td>Medical and Vision</td><td>1970-01-01</td><td>1970-01-01</td><td>null</td><td>null</td><td>1970-01-01</td><td>1970-01-01</td><td>Cigna</td><td>Member Enrollment</td><td>2024-03-10</td></tr><tr><td>33</td><td>226967-CW-F16</td><td>37600</td><td>226967</td><td>Chelsea</td><td>Whitehead</td><td>null</td><td>Mrs./Ms.</td><td>-</td><td>F</td><td>2016-03-22</td><td>F</td><td>Fiance</td><td>3</td><td>255 Ondricka Common</td><td>null</td><td>Deerfield</td><td>Massachusetts</td><td>Franklin County</td><td></td><td>USA</td><td>0</td><td>0</td><td>0</td><td>N/A</td><td>N/A</td><td>null</td><td>N/A</td><td>1</td><td>Abacus Insights</td><td>-</td><td>-</td><td>ES</td><td>Employee and Spouse</td><td>15.0</td><td>Plan P</td><td>Medical, Dental and Vision</td><td>1970-01-01</td><td>1970-01-01</td><td>1970-01-01</td><td>1970-01-01</td><td>1970-01-01</td><td>1970-01-01</td><td>Aetna</td><td>Member Enrollment</td><td>2024-03-10</td></tr><tr><td>34</td><td>226967-CW-F16</td><td>37600</td><td>226967</td><td>Chelsea</td><td>Whitehead</td><td>null</td><td>Mrs./Ms.</td><td>-</td><td>F</td><td>2016-03-22</td><td>F</td><td>Father</td><td>3</td><td>255 Ondricka Common</td><td>null</td><td>Deerfield</td><td>Massachusetts</td><td>Franklin County</td><td></td><td>USA</td><td>0</td><td>0</td><td>0</td><td>N/A</td><td>N/A</td><td>null</td><td>N/A</td><td>1</td><td>Abacus Insights</td><td>-</td><td>-</td><td>ES</td><td>Employee and Spouse</td><td>15.0</td><td>Plan P</td><td>Medical, Dental and Vision</td><td>1970-01-01</td><td>1970-01-01</td><td>1970-01-01</td><td>1970-01-01</td><td>1970-01-01</td><td>1970-01-01</td><td>Aetna</td><td>Member Enrollment</td><td>2024-03-10</td></tr><tr><td>35</td><td>027570-MTM-F81</td><td>93800</td><td>27570</td><td>Maeve</td><td>Tucker</td><td>Manuela</td><td>Mrs./Ms.</td><td>-</td><td>F</td><td>1981-09-08</td><td>M</td><td>Mother</td><td>4</td><td>836 Willms Flat Suite 54</td><td>null</td><td>Watertown</td><td>Massachusetts</td><td>Middlesex County</td><td></td><td>USA</td><td>0</td><td>0</td><td>0</td><td>N/A</td><td>N/A</td><td>null</td><td>N/A</td><td>1</td><td>Abacus Insights</td><td>-</td><td>-</td><td>E1C</td><td>Employee and 1 Child</td><td>3.0</td><td>Plan D</td><td>Medical, Dental and Vision</td><td>1970-01-01</td><td>1970-01-01</td><td>1970-01-01</td><td>1970-01-01</td><td>1970-01-01</td><td>1970-01-01</td><td>Cigna</td><td>Member Enrollment</td><td>2024-03-10</td></tr><tr><td>36</td><td>029764-LC-F75</td><td>33500</td><td>29764</td><td>Lenny</td><td>Coleman</td><td>null</td><td>Mrs./Ms.</td><td>-</td><td>F</td><td>1975-09-26</td><td>N</td><td>Niece</td><td>13</td><td>820 Willms Mews</td><td>null</td><td>Stow</td><td>Massachusetts</td><td>Middlesex County</td><td></td><td>USA</td><td>0</td><td>0</td><td>0</td><td>N/A</td><td>N/A</td><td>null</td><td>N/A</td><td>8</td><td>TechKraft Inc</td><td>-</td><td>-</td><td>F</td><td>Family</td><td>14.0</td><td>Plan O</td><td>Medical and Vision</td><td>1970-01-01</td><td>1970-01-01</td><td>null</td><td>null</td><td>1970-01-01</td><td>1970-01-01</td><td>Aetna</td><td>Member Enrollment</td><td>2024-03-10</td></tr><tr><td>37</td><td>029931-ML-F57</td><td>58800</td><td>29931</td><td>Meredith</td><td>Lewis</td><td>null</td><td>Mrs./Ms.</td><td>-</td><td>F</td><td>1957-06-24</td><td>D2</td><td>Divorced Wife</td><td>16</td><td>451 Buckridge Harbor</td><td>null</td><td>Attleboro</td><td>Massachusetts</td><td>Bristol County</td><td></td><td>USA</td><td>0</td><td>0</td><td>0</td><td>N/A</td><td>N/A</td><td>null</td><td>N/A</td><td>1</td><td>Abacus Insights</td><td>-</td><td>-</td><td>E1C</td><td>Employee and 1 Child</td><td>4.0</td><td>Plan E</td><td>Medical</td><td>1970-01-01</td><td>1970-01-01</td><td>null</td><td>null</td><td>null</td><td>null</td><td>Cigna</td><td>Member Enrollment</td><td>2024-03-10</td></tr><tr><td>38</td><td>033500-SF-F70</td><td>106900</td><td>33500</td><td>Stella</td><td>Franklin</td><td>null</td><td>Mrs./Ms.</td><td>-</td><td>F</td><td>1970-04-18</td><td>G1</td><td>Grand Father</td><td>7</td><td>818 Bogan Ville</td><td>null</td><td>Westport</td><td>Massachusetts</td><td>Bristol County</td><td></td><td>USA</td><td>0</td><td>0</td><td>0</td><td>N/A</td><td>N/A</td><td>null</td><td>N/A</td><td>8</td><td>TechKraft Inc</td><td>-</td><td>-</td><td>U</td><td>Unknown</td><td>12.0</td><td>Plan M</td><td>Medical</td><td>1970-01-01</td><td>1970-01-01</td><td>null</td><td>null</td><td>null</td><td>null</td><td>Cigna</td><td>Member Enrollment</td><td>2024-03-10</td></tr><tr><td>39</td><td>003975-CM-F69</td><td>93100</td><td>3975</td><td>Cecilia</td><td>Mayer</td><td>null</td><td>Mrs./Ms.</td><td>-</td><td>F</td><td>1969-01-18</td><td>C1</td><td>Son</td><td>5</td><td>419 Beatty Gardens</td><td>null</td><td>Boston</td><td>Massachusetts</td><td>Suffolk County</td><td>02111</td><td>USA</td><td>0</td><td>0</td><td>0</td><td>N/A</td><td>N/A</td><td>null</td><td>N/A</td><td>8</td><td>TechKraft Inc</td><td>-</td><td>-</td><td>U</td><td>Unknown</td><td>15.0</td><td>Plan P</td><td>Medical, Dental and Vision</td><td>1970-01-01</td><td>1970-01-01</td><td>1970-01-01</td><td>1970-01-01</td><td>1970-01-01</td><td>1970-01-01</td><td>Aetna</td><td>Member Enrollment</td><td>2024-03-10</td></tr><tr><td>40</td><td>039986-GL-F03</td><td>17200</td><td>39986</td><td>Georgiana</td><td>Livingston</td><td>null</td><td>Mrs./Ms.</td><td>-</td><td>F</td><td>2003-09-21</td><td>G4</td><td>Grand Daughter</td><td>10</td><td>814 Blick Avenue Unit 22</td><td>null</td><td>Wayland</td><td>Massachusetts</td><td>Middlesex County</td><td></td><td>USA</td><td>0</td><td>0</td><td>0</td><td>N/A</td><td>N/A</td><td>null</td><td>N/A</td><td>4</td><td>Digital Convergence Technologies</td><td>-</td><td>-</td><td>EC</td><td>Employee and Childrens</td><td>0.0</td><td>Plan A</td><td>Medical</td><td>1970-01-01</td><td>1970-01-01</td><td>null</td><td>null</td><td>null</td><td>null</td><td>Cigna</td><td>Member Enrollment</td><td>2024-03-10</td></tr><tr><td>41</td><td>041842-MTM-F60</td><td>32700</td><td>41842</td><td>Maya</td><td>Townsend</td><td>Merilyn</td><td>Mrs./Ms.</td><td>-</td><td>F</td><td>1960-12-30</td><td>G2</td><td>Grand Mother</td><td>8</td><td>763 Smitham Rue</td><td>null</td><td>Worthington</td><td>Massachusetts</td><td>Hampshire County</td><td></td><td>USA</td><td>0</td><td>0</td><td>0</td><td>N/A</td><td>N/A</td><td>null</td><td>N/A</td><td>1</td><td>Abacus Insights</td><td>-</td><td>-</td><td>ES</td><td>Employee and Spouse</td><td>1.0</td><td>Plan B</td><td>Medical and Dental</td><td>1970-01-01</td><td>1970-01-01</td><td>1970-01-01</td><td>1970-01-01</td><td>null</td><td>null</td><td>Aetna</td><td>Member Enrollment</td><td>2024-03-10</td></tr><tr><td>42</td><td>044147-EH-F20</td><td>22700</td><td>44147</td><td>Emelia</td><td>Hobbs</td><td>null</td><td>Mrs./Ms.</td><td>-</td><td>F</td><td>2020-05-22</td><td>E</td><td>Self</td><td>1</td><td>810 Pfannerstill Underpass</td><td>null</td><td>Springfield</td><td>Massachusetts</td><td>Hampden County</td><td></td><td>USA</td><td>0</td><td>0</td><td>0</td><td>N/A</td><td>N/A</td><td>null</td><td>N/A</td><td>1</td><td>Abacus Insights</td><td>-</td><td>-</td><td>U</td><td>Unknown</td><td>4.0</td><td>Plan E</td><td>Medical</td><td>1970-01-01</td><td>1970-01-01</td><td>null</td><td>null</td><td>null</td><td>null</td><td>Cigna</td><td>Member Enrollment</td><td>2024-03-10</td></tr><tr><td>43</td><td>044147-LMM-F14</td><td>46700</td><td>44147</td><td>Lana</td><td>Mckenzie</td><td>Milissa</td><td>Mrs./Ms.</td><td>-</td><td>F</td><td>2014-04-03</td><td>A2</td><td>Adapted Daughter</td><td>12</td><td>1014 Hilpert Skyway Apt 68</td><td>null</td><td>North Brookfield</td><td>Massachusetts</td><td>Worcester County</td><td>01535</td><td>USA</td><td>0</td><td>0</td><td>0</td><td>N/A</td><td>N/A</td><td>null</td><td>N/A</td><td>4</td><td>Digital Convergence Technologies</td><td>-</td><td>-</td><td>E</td><td>Employee Only</td><td>5.0</td><td>Plan F</td><td>Medical and Dental</td><td>1970-01-01</td><td>1970-01-01</td><td>1970-01-01</td><td>1970-01-01</td><td>null</td><td>null</td><td>Cigna</td><td>Member Enrollment</td><td>2024-03-10</td></tr><tr><td>44</td><td>044147-RB-F11</td><td>27400</td><td>44147</td><td>Rio</td><td>Blair</td><td>null</td><td>Mrs./Ms.</td><td>-</td><td>F</td><td>2011-07-22</td><td>D1</td><td>Divorced Husband</td><td>15</td><td>422 Farrell Path Unit 69</td><td>null</td><td>Somerville</td><td>Massachusetts</td><td>Middlesex County</td><td>02143</td><td>USA</td><td>0</td><td>0</td><td>0</td><td>N/A</td><td>N/A</td><td>null</td><td>N/A</td><td>1</td><td>Abacus Insights</td><td>-</td><td>-</td><td>E1C</td><td>Employee and 1 Child</td><td>6.0</td><td>Plan G</td><td>Medical and Vision</td><td>1970-01-01</td><td>1970-01-01</td><td>null</td><td>null</td><td>1970-01-01</td><td>1970-01-01</td><td>Cigna</td><td>Member Enrollment</td><td>2024-03-10</td></tr><tr><td>45</td><td>044147-DSM-F21</td><td>14000</td><td>44147</td><td>Demi-Leigh</td><td>Sanders</td><td>Myrtle</td><td>Mrs./Ms.</td><td>-</td><td>F</td><td>2021-01-14</td><td>C1</td><td>Son</td><td>5</td><td>746 Weissnat Landing</td><td>null</td><td>Boston</td><td>Massachusetts</td><td>Suffolk County</td><td>02203</td><td>USA</td><td>0</td><td>0</td><td>0</td><td>N/A</td><td>N/A</td><td>null</td><td>N/A</td><td>1</td><td>Abacus Insights</td><td>-</td><td>-</td><td>F</td><td>Family</td><td>6.0</td><td>Plan G</td><td>Medical and Vision</td><td>1970-01-01</td><td>1970-01-01</td><td>null</td><td>null</td><td>1970-01-01</td><td>1970-01-01</td><td>Aetna</td><td>Member Enrollment</td><td>2024-03-10</td></tr><tr><td>46</td><td>049044-JW-F11</td><td>36400</td><td>49044</td><td>Jenny</td><td>Wells</td><td>null</td><td>Mrs./Ms.</td><td>-</td><td>F</td><td>2011-09-22</td><td>F</td><td>Fiance</td><td>3</td><td>574 Kunze Grove Apt 45</td><td>null</td><td>Lowell</td><td>Massachusetts</td><td>Middlesex County</td><td></td><td>USA</td><td>0</td><td>0</td><td>0</td><td>N/A</td><td>N/A</td><td>null</td><td>N/A</td><td>1</td><td>Abacus Insights</td><td>-</td><td>-</td><td>EC</td><td>Employee and Childrens</td><td>4.0</td><td>Plan E</td><td>Medical</td><td>1970-01-01</td><td>1970-01-01</td><td>null</td><td>null</td><td>null</td><td>null</td><td>Cigna</td><td>Member Enrollment</td><td>2024-03-10</td></tr><tr><td>47</td><td>049044-JW-F11</td><td>36400</td><td>49044</td><td>Jenny</td><td>Wells</td><td>null</td><td>Mrs./Ms.</td><td>-</td><td>F</td><td>2011-09-22</td><td>F</td><td>Father</td><td>3</td><td>574 Kunze Grove Apt 45</td><td>null</td><td>Lowell</td><td>Massachusetts</td><td>Middlesex County</td><td></td><td>USA</td><td>0</td><td>0</td><td>0</td><td>N/A</td><td>N/A</td><td>null</td><td>N/A</td><td>1</td><td>Abacus Insights</td><td>-</td><td>-</td><td>EC</td><td>Employee and Childrens</td><td>4.0</td><td>Plan E</td><td>Medical</td><td>1970-01-01</td><td>1970-01-01</td><td>null</td><td>null</td><td>null</td><td>null</td><td>Cigna</td><td>Member Enrollment</td><td>2024-03-10</td></tr><tr><td>48</td><td>005185-WM-F83</td><td>44800</td><td>5185</td><td>Wade</td><td>Mills</td><td>null</td><td>Mrs./Ms.</td><td>-</td><td>F</td><td>1983-02-04</td><td>C1</td><td>Son</td><td>5</td><td>137 Miller Meadow</td><td>null</td><td>Boston</td><td>Massachusetts</td><td>Suffolk County</td><td>02126</td><td>USA</td><td>0</td><td>0</td><td>0</td><td>N/A</td><td>N/A</td><td>null</td><td>N/A</td><td>1</td><td>Abacus Insights</td><td>-</td><td>-</td><td>E</td><td>Employee Only</td><td>3.0</td><td>Plan D</td><td>Medical, Dental and Vision</td><td>1970-01-01</td><td>1970-01-01</td><td>1970-01-01</td><td>1970-01-01</td><td>1970-01-01</td><td>1970-01-01</td><td>Cigna</td><td>Member Enrollment</td><td>2024-03-10</td></tr><tr><td>49</td><td>068739-SC-F74</td><td>203300</td><td>68739</td><td>Savanna</td><td>Cannon</td><td>null</td><td>Mrs./Ms.</td><td>-</td><td>F</td><td>1974-09-20</td><td>C2</td><td>Daughter</td><td>6</td><td>954 Marvin Ferry</td><td>null</td><td>Marlborough</td><td>Massachusetts</td><td>Middlesex County</td><td>01752</td><td>USA</td><td>0</td><td>0</td><td>0</td><td>N/A</td><td>N/A</td><td>null</td><td>N/A</td><td>1</td><td>Abacus Insights</td><td>-</td><td>-</td><td>U</td><td>Unknown</td><td>5.0</td><td>Plan F</td><td>Medical and Dental</td><td>1970-01-01</td><td>1970-01-01</td><td>1970-01-01</td><td>1970-01-01</td><td>null</td><td>null</td><td>Cigna</td><td>Member Enrollment</td><td>2024-03-10</td></tr><tr><td>50</td><td>076014-JW-F12</td><td>90300</td><td>76014</td><td>Jemima</td><td>Wagner</td><td>null</td><td>Mrs./Ms.</td><td>-</td><td>F</td><td>2012-12-14</td><td>G4</td><td>Grand Daughter</td><td>10</td><td>818 Rau Fort</td><td>null</td><td>Boston</td><td>Massachusetts</td><td>Suffolk County</td><td>02115</td><td>USA</td><td>0</td><td>0</td><td>0</td><td>N/A</td><td>N/A</td><td>null</td><td>N/A</td><td>1</td><td>Abacus Insights</td><td>-</td><td>-</td><td>F</td><td>Family</td><td>10.0</td><td>Plan K</td><td>Medical and Vision</td><td>1970-01-01</td><td>1970-01-01</td><td>null</td><td>null</td><td>1970-01-01</td><td>1970-01-01</td><td>Aetna</td><td>Member Enrollment</td><td>2024-03-10</td></tr><tr><td>51</td><td>076100-KH-F61</td><td>90500</td><td>76100</td><td>Kye</td><td>Henderson</td><td>null</td><td>Mrs./Ms.</td><td>-</td><td>F</td><td>1961-07-19</td><td>C2</td><td>Daughter</td><td>6</td><td>1080 Sawayn Gateway Suite 9</td><td>null</td><td>Framingham</td><td>Massachusetts</td><td>Middlesex County</td><td>01701</td><td>USA</td><td>0</td><td>0</td><td>0</td><td>N/A</td><td>N/A</td><td>null</td><td>N/A</td><td>1</td><td>Abacus Insights</td><td>-</td><td>-</td><td>EP</td><td>Employee and Parents</td><td>11.0</td><td>Plan L</td><td>Medical, Dental and Vision</td><td>1970-01-01</td><td>1970-01-01</td><td>1970-01-01</td><td>1970-01-01</td><td>1970-01-01</td><td>1970-01-01</td><td>Aetna</td><td>Member Enrollment</td><td>2024-03-10</td></tr><tr><td>52</td><td>083026-BHM-F74</td><td>112400</td><td>83026</td><td>Briony</td><td>Hampton</td><td>Marylou</td><td>Mrs./Ms.</td><td>-</td><td>F</td><td>1974-10-03</td><td>A2</td><td>Adapted Daughter</td><td>12</td><td>923 Boyle Dale Apt 44</td><td>null</td><td>Boston</td><td>Massachusetts</td><td>Suffolk County</td><td>02113</td><td>USA</td><td>0</td><td>0</td><td>0</td><td>N/A</td><td>N/A</td><td>null</td><td>N/A</td><td>1</td><td>Abacus Insights</td><td>-</td><td>-</td><td>U</td><td>Unknown</td><td>10.0</td><td>Plan K</td><td>Medical and Vision</td><td>1970-01-01</td><td>1970-01-01</td><td>null</td><td>null</td><td>1970-01-01</td><td>1970-01-01</td><td>Aetna</td><td>Member Enrollment</td><td>2024-03-10</td></tr><tr><td>53</td><td>084379-IB-F60</td><td>160400</td><td>84379</td><td>Isabel</td><td>Ballard</td><td>null</td><td>Mrs./Ms.</td><td>-</td><td>F</td><td>1960-04-10</td><td>N</td><td>Niece</td><td>13</td><td>330 Hermiston Trafficway</td><td>null</td><td>Westborough</td><td>Massachusetts</td><td>Worcester County</td><td></td><td>USA</td><td>0</td><td>0</td><td>0</td><td>N/A</td><td>N/A</td><td>null</td><td>N/A</td><td>8</td><td>TechKraft Inc</td><td>-</td><td>-</td><td>E</td><td>Employee Only</td><td>1.0</td><td>Plan B</td><td>Medical and Dental</td><td>1970-01-01</td><td>1970-01-01</td><td>1970-01-01</td><td>1970-01-01</td><td>null</td><td>null</td><td>Cigna</td><td>Member Enrollment</td><td>2024-03-10</td></tr><tr><td>54</td><td>085789-EM-F54</td><td>74800</td><td>85789</td><td>Ebony</td><td>Mcmahon</td><td>null</td><td>Mrs./Ms.</td><td>-</td><td>F</td><td>1954-01-14</td><td>G2</td><td>Grand Mother</td><td>8</td><td>358 Mann Junction Suite 98</td><td>null</td><td>Holliston</td><td>Massachusetts</td><td>Middlesex County</td><td></td><td>USA</td><td>0</td><td>0</td><td>0</td><td>N/A</td><td>N/A</td><td>null</td><td>N/A</td><td>3</td><td>Facebook</td><td>-</td><td>-</td><td>F</td><td>Family</td><td>9.0</td><td>Plan J</td><td>Medical and Dental</td><td>1970-01-01</td><td>1970-01-01</td><td>1970-01-01</td><td>1970-01-01</td><td>null</td><td>null</td><td>Aetna</td><td>Member Enrollment</td><td>2024-03-10</td></tr><tr><td>55</td><td>090659-LW-F86</td><td>55900</td><td>90659</td><td>Lydia</td><td>Watson</td><td>null</td><td>Mrs./Ms.</td><td>-</td><td>F</td><td>1986-12-06</td><td>A2</td><td>Adapted Daughter</td><td>12</td><td>234 McLaughlin Station Suite 21</td><td>null</td><td>Boston</td><td>Massachusetts</td><td>Suffolk County</td><td>02134</td><td>USA</td><td>0</td><td>0</td><td>0</td><td>N/A</td><td>N/A</td><td>null</td><td>N/A</td><td>8</td><td>TechKraft Inc</td><td>-</td><td>-</td><td>ES</td><td>Employee and Spouse</td><td>4.0</td><td>Plan E</td><td>Medical</td><td>1970-01-01</td><td>1970-01-01</td><td>null</td><td>null</td><td>null</td><td>null</td><td>Aetna</td><td>Member Enrollment</td><td>2024-03-10</td></tr><tr><td>56</td><td>092762-SA-F03</td><td>65100</td><td>92762</td><td>Sallie</td><td>Aguilar</td><td>null</td><td>Mrs./Ms.</td><td>-</td><td>F</td><td>2003-05-26</td><td>G3</td><td>Grand Son</td><td>9</td><td>1031 Rempel Parade</td><td>null</td><td>Sandwich</td><td>Massachusetts</td><td>Barnstable County</td><td></td><td>USA</td><td>0</td><td>0</td><td>0</td><td>N/A</td><td>N/A</td><td>null</td><td>N/A</td><td>1</td><td>Abacus Insights</td><td>-</td><td>-</td><td>EC</td><td>Employee and Childrens</td><td>15.0</td><td>Plan P</td><td>Medical, Dental and Vision</td><td>1970-01-01</td><td>1970-01-01</td><td>1970-01-01</td><td>1970-01-01</td><td>1970-01-01</td><td>1970-01-01</td><td>Aetna</td><td>Member Enrollment</td><td>2024-03-10</td></tr><tr><td>57</td><td>092943-DC-F99</td><td>75800</td><td>92943</td><td>Dora</td><td>Curtis</td><td>null</td><td>Mrs./Ms.</td><td>-</td><td>F</td><td>1999-09-25</td><td>D2</td><td>Divorced Wife</td><td>16</td><td>864 Legros Alley</td><td>null</td><td>Holliston</td><td>Massachusetts</td><td>Middlesex County</td><td></td><td>USA</td><td>0</td><td>0</td><td>0</td><td>N/A</td><td>N/A</td><td>null</td><td>N/A</td><td>1</td><td>Abacus Insights</td><td>-</td><td>-</td><td>EC</td><td>Employee and Childrens</td><td>6.0</td><td>Plan G</td><td>Medical and Vision</td><td>1970-01-01</td><td>1970-01-01</td><td>null</td><td>null</td><td>1970-01-01</td><td>1970-01-01</td><td>Cigna</td><td>Member Enrollment</td><td>2024-03-10</td></tr><tr><td>58</td><td>094524-SW-F15</td><td>66200</td><td>94524</td><td>Scarlet</td><td>Wright</td><td>null</td><td>Mrs./Ms.</td><td>-</td><td>F</td><td>2015-01-06</td><td>F</td><td>Fiance</td><td>3</td><td>370 Grant Park</td><td>null</td><td>Somerset</td><td>Massachusetts</td><td>Bristol County</td><td></td><td>USA</td><td>0</td><td>0</td><td>0</td><td>N/A</td><td>N/A</td><td>null</td><td>N/A</td><td>1</td><td>Abacus Insights</td><td>-</td><td>-</td><td>U</td><td>Unknown</td><td>6.0</td><td>Plan G</td><td>Medical and Vision</td><td>1970-01-01</td><td>1970-01-01</td><td>null</td><td>null</td><td>1970-01-01</td><td>1970-01-01</td><td>Aetna</td><td>Member Enrollment</td><td>2024-03-10</td></tr><tr><td>59</td><td>094524-SW-F15</td><td>66200</td><td>94524</td><td>Scarlet</td><td>Wright</td><td>null</td><td>Mrs./Ms.</td><td>-</td><td>F</td><td>2015-01-06</td><td>F</td><td>Father</td><td>3</td><td>370 Grant Park</td><td>null</td><td>Somerset</td><td>Massachusetts</td><td>Bristol County</td><td></td><td>USA</td><td>0</td><td>0</td><td>0</td><td>N/A</td><td>N/A</td><td>null</td><td>N/A</td><td>1</td><td>Abacus Insights</td><td>-</td><td>-</td><td>U</td><td>Unknown</td><td>6.0</td><td>Plan G</td><td>Medical and Vision</td><td>1970-01-01</td><td>1970-01-01</td><td>null</td><td>null</td><td>1970-01-01</td><td>1970-01-01</td><td>Aetna</td><td>Member Enrollment</td><td>2024-03-10</td></tr><tr><td>60</td><td>010538-CM-M73</td><td>39900</td><td>10538</td><td>Casey</td><td>Marsh</td><td>null</td><td>Mr.</td><td>-</td><td>M</td><td>1973-05-06</td><td>G2</td><td>Grand Mother</td><td>8</td><td>892 Dibbert Port Suite 41</td><td>null</td><td>Norwood</td><td>Massachusetts</td><td>Norfolk County</td><td></td><td>USA</td><td>0</td><td>0</td><td>0</td><td>N/A</td><td>N/A</td><td>null</td><td>N/A</td><td>8</td><td>TechKraft Inc</td><td>-</td><td>-</td><td>EC</td><td>Employee and Childrens</td><td>3.0</td><td>Plan D</td><td>Medical, Dental and Vision</td><td>1970-01-01</td><td>1970-01-01</td><td>1970-01-01</td><td>1970-01-01</td><td>1970-01-01</td><td>1970-01-01</td><td>Cigna</td><td>Member Enrollment</td><td>2024-03-10</td></tr><tr><td>61</td><td>011338-LWJ-M01</td><td>91400</td><td>11338</td><td>Lucas</td><td>Winters</td><td>Javier</td><td>Mr.</td><td>-</td><td>M</td><td>2001-01-18</td><td>D2</td><td>Divorced Wife</td><td>16</td><td>1072 Hagenes Crossing</td><td>null</td><td>Woburn</td><td>Massachusetts</td><td>Middlesex County</td><td></td><td>USA</td><td>0</td><td>0</td><td>0</td><td>N/A</td><td>N/A</td><td>null</td><td>N/A</td><td>1</td><td>Abacus Insights</td><td>-</td><td>-</td><td>E</td><td>Employee Only</td><td>15.0</td><td>Plan P</td><td>Medical, Dental and Vision</td><td>1970-01-01</td><td>1970-01-01</td><td>1970-01-01</td><td>1970-01-01</td><td>1970-01-01</td><td>1970-01-01</td><td>Cigna</td><td>Member Enrollment</td><td>2024-03-10</td></tr><tr><td>62</td><td>113830-LM-M08</td><td>52200</td><td>113830</td><td>Lewys</td><td>Maddox</td><td>null</td><td>Mr.</td><td>-</td><td>M</td><td>2008-01-18</td><td>D1</td><td>Divorced Husband</td><td>15</td><td>214 Hane Course Unit 68</td><td>null</td><td>Westford</td><td>Massachusetts</td><td>Middlesex County</td><td></td><td>USA</td><td>0</td><td>0</td><td>0</td><td>N/A</td><td>N/A</td><td>null</td><td>N/A</td><td>4</td><td>Digital Convergence Technologies</td><td>-</td><td>-</td><td>E</td><td>Employee Only</td><td>14.0</td><td>Plan O</td><td>Medical and Vision</td><td>1970-01-01</td><td>1970-01-01</td><td>null</td><td>null</td><td>1970-01-01</td><td>1970-01-01</td><td>Cigna</td><td>Member Enrollment</td><td>2024-03-10</td></tr><tr><td>63</td><td>115963-ZS-M79</td><td>49100</td><td>115963</td><td>Zac</td><td>Suarez</td><td>null</td><td>Mr.</td><td>-</td><td>M</td><td>1979-09-24</td><td>N</td><td>Niece</td><td>13</td><td>128 Stiedemann Gardens Apt 64</td><td>null</td><td>Needham</td><td>Massachusetts</td><td>Norfolk County</td><td>02494</td><td>USA</td><td>0</td><td>0</td><td>0</td><td>N/A</td><td>N/A</td><td>null</td><td>N/A</td><td>8</td><td>TechKraft Inc</td><td>-</td><td>-</td><td>E1C</td><td>Employee and 1 Child</td><td>10.0</td><td>Plan K</td><td>Medical and Vision</td><td>1970-01-01</td><td>1970-01-01</td><td>null</td><td>null</td><td>1970-01-01</td><td>1970-01-01</td><td>Cigna</td><td>Member Enrollment</td><td>2024-03-10</td></tr><tr><td>64</td><td>121160-MC-M94</td><td>102200</td><td>121160</td><td>Mohammad</td><td>Cox</td><td>null</td><td>Mr.</td><td>-</td><td>M</td><td>1994-09-30</td><td>F</td><td>Fiance</td><td>3</td><td>755 Hirthe Underpass</td><td>null</td><td>Milford</td><td>Massachusetts</td><td>Worcester County</td><td></td><td>USA</td><td>0</td><td>0</td><td>0</td><td>N/A</td><td>N/A</td><td>null</td><td>N/A</td><td>1</td><td>Abacus Insights</td><td>-</td><td>-</td><td>E1C</td><td>Employee and 1 Child</td><td>5.0</td><td>Plan F</td><td>Medical and Dental</td><td>1970-01-01</td><td>1970-01-01</td><td>1970-01-01</td><td>1970-01-01</td><td>null</td><td>null</td><td>Aetna</td><td>Member Enrollment</td><td>2024-03-10</td></tr><tr><td>65</td><td>121160-MC-M94</td><td>102200</td><td>121160</td><td>Mohammad</td><td>Cox</td><td>null</td><td>Mr.</td><td>-</td><td>M</td><td>1994-09-30</td><td>F</td><td>Father</td><td>3</td><td>755 Hirthe Underpass</td><td>null</td><td>Milford</td><td>Massachusetts</td><td>Worcester County</td><td></td><td>USA</td><td>0</td><td>0</td><td>0</td><td>N/A</td><td>N/A</td><td>null</td><td>N/A</td><td>1</td><td>Abacus Insights</td><td>-</td><td>-</td><td>E1C</td><td>Employee and 1 Child</td><td>5.0</td><td>Plan F</td><td>Medical and Dental</td><td>1970-01-01</td><td>1970-01-01</td><td>1970-01-01</td><td>1970-01-01</td><td>null</td><td>null</td><td>Aetna</td><td>Member Enrollment</td><td>2024-03-10</td></tr><tr><td>66</td><td>137952-RH-M90</td><td>133600</td><td>137952</td><td>Rehan</td><td>Hatfield</td><td>null</td><td>Mr.</td><td>-</td><td>M</td><td>1990-09-07</td><td>D1</td><td>Divorced Husband</td><td>15</td><td>937 Ryan Neck</td><td>null</td><td>Haverhill</td><td>Massachusetts</td><td>Essex County</td><td>01832</td><td>USA</td><td>0</td><td>0</td><td>0</td><td>N/A</td><td>N/A</td><td>null</td><td>N/A</td><td>3</td><td>Facebook</td><td>-</td><td>-</td><td>EC</td><td>Employee and Childrens</td><td>7.0</td><td>Plan H</td><td>Medical, Dental and Vision</td><td>1970-01-01</td><td>1970-01-01</td><td>1970-01-01</td><td>1970-01-01</td><td>1970-01-01</td><td>1970-01-01</td><td>Aetna</td><td>Member Enrollment</td><td>2024-03-10</td></tr><tr><td>67</td><td>145520-FRK-M94</td><td>193900</td><td>145520</td><td>Francesco</td><td>Rivera</td><td>Kristopher</td><td>Mr.</td><td>-</td><td>M</td><td>1994-11-04</td><td>M</td><td>Mother</td><td>4</td><td>837 Mills Dam</td><td>null</td><td>Somerville</td><td>Massachusetts</td><td>Middlesex County</td><td>02140</td><td>USA</td><td>0</td><td>0</td><td>0</td><td>N/A</td><td>N/A</td><td>null</td><td>N/A</td><td>8</td><td>TechKraft Inc</td><td>-</td><td>-</td><td>E1C</td><td>Employee and 1 Child</td><td>12.0</td><td>Plan M</td><td>Medical</td><td>1970-01-01</td><td>1970-01-01</td><td>null</td><td>null</td><td>null</td><td>null</td><td>Cigna</td><td>Member Enrollment</td><td>2024-03-10</td></tr><tr><td>68</td><td>147036-CC-M77</td><td>126500</td><td>147036</td><td>Calvin</td><td>Cabrera</td><td>null</td><td>Mr.</td><td>-</td><td>M</td><td>1977-11-12</td><td>F</td><td>Fiance</td><td>3</td><td>528 Lowe Lodge</td><td>null</td><td>Lowell</td><td>Massachusetts</td><td>Middlesex County</td><td>01854</td><td>USA</td><td>0</td><td>0</td><td>0</td><td>N/A</td><td>N/A</td><td>null</td><td>N/A</td><td>1</td><td>Abacus Insights</td><td>-</td><td>-</td><td>ES</td><td>Employee and Spouse</td><td>2.0</td><td>Plan C</td><td>Medical and Vision</td><td>1970-01-01</td><td>1970-01-01</td><td>null</td><td>null</td><td>1970-01-01</td><td>1970-01-01</td><td>Cigna</td><td>Member Enrollment</td><td>2024-03-10</td></tr><tr><td>69</td><td>147036-CC-M77</td><td>126500</td><td>147036</td><td>Calvin</td><td>Cabrera</td><td>null</td><td>Mr.</td><td>-</td><td>M</td><td>1977-11-12</td><td>F</td><td>Father</td><td>3</td><td>528 Lowe Lodge</td><td>null</td><td>Lowell</td><td>Massachusetts</td><td>Middlesex County</td><td>01854</td><td>USA</td><td>0</td><td>0</td><td>0</td><td>N/A</td><td>N/A</td><td>null</td><td>N/A</td><td>1</td><td>Abacus Insights</td><td>-</td><td>-</td><td>ES</td><td>Employee and Spouse</td><td>2.0</td><td>Plan C</td><td>Medical and Vision</td><td>1970-01-01</td><td>1970-01-01</td><td>null</td><td>null</td><td>1970-01-01</td><td>1970-01-01</td><td>Cigna</td><td>Member Enrollment</td><td>2024-03-10</td></tr><tr><td>70</td><td>147970-FD-M16</td><td>208500</td><td>147970</td><td>Faith</td><td>Donnelly</td><td>null</td><td>Mr.</td><td>-</td><td>M</td><td>2016-05-30</td><td>M</td><td>Mother</td><td>4</td><td>164 Stokes Lodge Apt 34</td><td>null</td><td>Winchendon</td><td>Massachusetts</td><td>Worcester County</td><td>01475</td><td>USA</td><td>0</td><td>0</td><td>0</td><td>N/A</td><td>N/A</td><td>null</td><td>N/A</td><td>1</td><td>Abacus Insights</td><td>-</td><td>-</td><td>U</td><td>Unknown</td><td>10.0</td><td>Plan K</td><td>Medical and Vision</td><td>1970-01-01</td><td>1970-01-01</td><td>null</td><td>null</td><td>1970-01-01</td><td>1970-01-01</td><td>Aetna</td><td>Member Enrollment</td><td>2024-03-10</td></tr><tr><td>71</td><td>150505-DT-M60</td><td>176200</td><td>150505</td><td>Damon</td><td>Taylor</td><td>null</td><td>Mr.</td><td>-</td><td>M</td><td>1960-02-06</td><td>M</td><td>Mother</td><td>4</td><td>975 Murphy Tunnel Apt 27</td><td>null</td><td>Plymouth</td><td>Massachusetts</td><td>Plymouth County</td><td>02360</td><td>USA</td><td>0</td><td>0</td><td>0</td><td>N/A</td><td>N/A</td><td>null</td><td>N/A</td><td>1</td><td>Abacus Insights</td><td>-</td><td>-</td><td>E</td><td>Employee Only</td><td>15.0</td><td>Plan P</td><td>Medical, Dental and Vision</td><td>1970-01-01</td><td>1970-01-01</td><td>1970-01-01</td><td>1970-01-01</td><td>1970-01-01</td><td>1970-01-01</td><td>Aetna</td><td>Member Enrollment</td><td>2024-03-10</td></tr><tr><td>72</td><td>015352-PL-M99</td><td>25500</td><td>15352</td><td>Pablo</td><td>Livingston</td><td>null</td><td>Mr.</td><td>-</td><td>M</td><td>1999-05-28</td><td>M</td><td>Mother</td><td>4</td><td>566 Williamson Run Suite 85</td><td>null</td><td>Swansea</td><td>Massachusetts</td><td>Bristol County</td><td></td><td>USA</td><td>0</td><td>0</td><td>0</td><td>N/A</td><td>N/A</td><td>null</td><td>N/A</td><td>1</td><td>Abacus Insights</td><td>-</td><td>-</td><td>EC</td><td>Employee and Childrens</td><td>14.0</td><td>Plan O</td><td>Medical and Vision</td><td>1970-01-01</td><td>1970-01-01</td><td>null</td><td>null</td><td>1970-01-01</td><td>1970-01-01</td><td>Cigna</td><td>Member Enrollment</td><td>2024-03-10</td></tr><tr><td>73</td><td>162576-RTK-M88</td><td>153300</td><td>162576</td><td>Raees</td><td>Tucker</td><td>Kyler</td><td>Mr.</td><td>-</td><td>M</td><td>1988-04-24</td><td>N</td><td>Niece</td><td>13</td><td>471 Mayert Flat Unit 54</td><td>null</td><td>Peabody</td><td>Massachusetts</td><td>Essex County</td><td></td><td>USA</td><td>0</td><td>0</td><td>0</td><td>N/A</td><td>N/A</td><td>null</td><td>N/A</td><td>1</td><td>Abacus Insights</td><td>-</td><td>-</td><td>EC</td><td>Employee and Childrens</td><td>6.0</td><td>Plan G</td><td>Medical and Vision</td><td>1970-01-01</td><td>1970-01-01</td><td>null</td><td>null</td><td>1970-01-01</td><td>1970-01-01</td><td>Cigna</td><td>Member Enrollment</td><td>2024-03-10</td></tr><tr><td>74</td><td>192974-HS-M09</td><td>206200</td><td>192974</td><td>Harley</td><td>Salas</td><td>null</td><td>Mr.</td><td>-</td><td>M</td><td>2009-09-19</td><td>F</td><td>Fiance</td><td>3</td><td>1056 Harris Lane Suite 70</td><td>null</td><td>Chicopee</td><td>Massachusetts</td><td>Hampden County</td><td>01020</td><td>USA</td><td>0</td><td>0</td><td>0</td><td>N/A</td><td>N/A</td><td>null</td><td>N/A</td><td>4</td><td>Digital Convergence Technologies</td><td>-</td><td>-</td><td>EP</td><td>Employee and Parents</td><td>14.0</td><td>Plan O</td><td>Medical and Vision</td><td>1970-01-01</td><td>1970-01-01</td><td>null</td><td>null</td><td>1970-01-01</td><td>1970-01-01</td><td>Aetna</td><td>Member Enrollment</td><td>2024-03-10</td></tr><tr><td>75</td><td>192974-HS-M09</td><td>206200</td><td>192974</td><td>Harley</td><td>Salas</td><td>null</td><td>Mr.</td><td>-</td><td>M</td><td>2009-09-19</td><td>F</td><td>Father</td><td>3</td><td>1056 Harris Lane Suite 70</td><td>null</td><td>Chicopee</td><td>Massachusetts</td><td>Hampden County</td><td>01020</td><td>USA</td><td>0</td><td>0</td><td>0</td><td>N/A</td><td>N/A</td><td>null</td><td>N/A</td><td>4</td><td>Digital Convergence Technologies</td><td>-</td><td>-</td><td>EP</td><td>Employee and Parents</td><td>14.0</td><td>Plan O</td><td>Medical and Vision</td><td>1970-01-01</td><td>1970-01-01</td><td>null</td><td>null</td><td>1970-01-01</td><td>1970-01-01</td><td>Aetna</td><td>Member Enrollment</td><td>2024-03-10</td></tr><tr><td>76</td><td>192974-SB-M83</td><td>224200</td><td>192974</td><td>Silas</td><td>Bush</td><td>null</td><td>Mr.</td><td>-</td><td>M</td><td>1983-01-01</td><td>C1</td><td>Son</td><td>5</td><td>482 McGlynn Extension Apt 8</td><td>null</td><td>Chicopee</td><td>Massachusetts</td><td>Hampden County</td><td>01022</td><td>USA</td><td>0</td><td>0</td><td>0</td><td>N/A</td><td>N/A</td><td>null</td><td>N/A</td><td>8</td><td>TechKraft Inc</td><td>-</td><td>-</td><td>E</td><td>Employee Only</td><td>11.0</td><td>Plan L</td><td>Medical, Dental and Vision</td><td>1970-01-01</td><td>1970-01-01</td><td>1970-01-01</td><td>1970-01-01</td><td>1970-01-01</td><td>1970-01-01</td><td>Cigna</td><td>Member Enrollment</td><td>2024-03-10</td></tr><tr><td>77</td><td>192974-WS-M70</td><td>171200</td><td>192974</td><td>Wojciech</td><td>Sanders</td><td>null</td><td>Mr.</td><td>-</td><td>M</td><td>1970-08-06</td><td>C2</td><td>Daughter</td><td>6</td><td>577 Kshlerin Parade</td><td>null</td><td>Swansea</td><td>Massachusetts</td><td>Bristol County</td><td></td><td>USA</td><td>0</td><td>0</td><td>0</td><td>N/A</td><td>N/A</td><td>null</td><td>N/A</td><td>8</td><td>TechKraft Inc</td><td>-</td><td>-</td><td>E</td><td>Employee Only</td><td>5.0</td><td>Plan F</td><td>Medical and Dental</td><td>1970-01-01</td><td>1970-01-01</td><td>1970-01-01</td><td>1970-01-01</td><td>null</td><td>null</td><td>Cigna</td><td>Member Enrollment</td><td>2024-03-10</td></tr><tr><td>78</td><td>192974-KHJ-M14</td><td>185200</td><td>192974</td><td>Karim</td><td>Hawkins</td><td>Junior</td><td>Mr.</td><td>-</td><td>M</td><td>2014-04-28</td><td>N</td><td>Niece</td><td>13</td><td>898 Grant Overpass Unit 18</td><td>null</td><td>Hingham</td><td>Massachusetts</td><td>Plymouth County</td><td>02043</td><td>USA</td><td>0</td><td>0</td><td>0</td><td>N/A</td><td>N/A</td><td>null</td><td>N/A</td><td>4</td><td>Digital Convergence Technologies</td><td>-</td><td>-</td><td>EP</td><td>Employee and Parents</td><td>10.0</td><td>Plan K</td><td>Medical and Vision</td><td>1970-01-01</td><td>1970-01-01</td><td>null</td><td>null</td><td>1970-01-01</td><td>1970-01-01</td><td>Cigna</td><td>Member Enrollment</td><td>2024-03-10</td></tr><tr><td>79</td><td>192974-SF-M08</td><td>185400</td><td>192974</td><td>Stella</td><td>Franco</td><td>null</td><td>Mr.</td><td>-</td><td>M</td><td>2008-08-13</td><td>E</td><td>Self</td><td>1</td><td>757 Jenkins Crossroad</td><td>null</td><td>Wakefield</td><td>Massachusetts</td><td>Middlesex County</td><td></td><td>USA</td><td>0</td><td>0</td><td>0</td><td>N/A</td><td>N/A</td><td>null</td><td>N/A</td><td>4</td><td>Digital Convergence Technologies</td><td>-</td><td>-</td><td>F</td><td>Family</td><td>12.0</td><td>Plan M</td><td>Medical</td><td>1970-01-01</td><td>1970-01-01</td><td>null</td><td>null</td><td>null</td><td>null</td><td>Cigna</td><td>Member Enrollment</td><td>2024-03-10</td></tr><tr><td>80</td><td>195288-MA-M20</td><td>210200</td><td>195288</td><td>Mark</td><td>Armstrong</td><td>null</td><td>Mr.</td><td>-</td><td>M</td><td>2020-03-05</td><td>G4</td><td>Grand Daughter</td><td>10</td><td>730 Bogan Row</td><td>null</td><td>Danvers</td><td>Massachusetts</td><td>Essex County</td><td></td><td>USA</td><td>0</td><td>0</td><td>0</td><td>N/A</td><td>N/A</td><td>null</td><td>N/A</td><td>1</td><td>Abacus Insights</td><td>-</td><td>-</td><td>F</td><td>Family</td><td>1.0</td><td>Plan B</td><td>Medical and Dental</td><td>1970-01-01</td><td>1970-01-01</td><td>1970-01-01</td><td>1970-01-01</td><td>null</td><td>null</td><td>Cigna</td><td>Member Enrollment</td><td>2024-03-10</td></tr><tr><td>81</td><td>198559-SBJ-M73</td><td>205400</td><td>198559</td><td>Sonny</td><td>Brewer</td><td>Jagger</td><td>Mr.</td><td>-</td><td>M</td><td>1973-04-02</td><td>C1</td><td>Son</td><td>5</td><td>494 Ondricka Vista Unit 61</td><td>null</td><td>Provincetown</td><td>Massachusetts</td><td>Barnstable County</td><td>02657</td><td>USA</td><td>0</td><td>0</td><td>0</td><td>N/A</td><td>N/A</td><td>null</td><td>N/A</td><td>8</td><td>TechKraft Inc</td><td>-</td><td>-</td><td>ES</td><td>Employee and Spouse</td><td>10.0</td><td>Plan K</td><td>Medical and Vision</td><td>1970-01-01</td><td>1970-01-01</td><td>null</td><td>null</td><td>1970-01-01</td><td>1970-01-01</td><td>Aetna</td><td>Member Enrollment</td><td>2024-03-10</td></tr><tr><td>82</td><td>199072-KF-M88</td><td>178000</td><td>199072</td><td>Keziah</td><td>Flynn</td><td>null</td><td>Mr.</td><td>-</td><td>M</td><td>1988-03-07</td><td>M</td><td>Mother</td><td>4</td><td>314 Haag Orchard Suite 76</td><td>null</td><td>Weymouth</td><td>Massachusetts</td><td>Norfolk County</td><td>02190</td><td>USA</td><td>0</td><td>0</td><td>0</td><td>N/A</td><td>N/A</td><td>null</td><td>N/A</td><td>1</td><td>Abacus Insights</td><td>-</td><td>-</td><td>F</td><td>Family</td><td>5.0</td><td>Plan F</td><td>Medical and Dental</td><td>1970-01-01</td><td>1970-01-01</td><td>1970-01-01</td><td>1970-01-01</td><td>null</td><td>null</td><td>Cigna</td><td>Member Enrollment</td><td>2024-03-10</td></tr><tr><td>83</td><td>200118-CC-M50</td><td>144400</td><td>200118</td><td>Courtney</td><td>Cuevas</td><td>null</td><td>Mr.</td><td>-</td><td>M</td><td>1950-11-09</td><td>F</td><td>Fiance</td><td>3</td><td>159 Treutel Hollow</td><td>null</td><td>Winchester</td><td>Massachusetts</td><td>Middlesex County</td><td></td><td>USA</td><td>0</td><td>0</td><td>0</td><td>N/A</td><td>N/A</td><td>null</td><td>N/A</td><td>3</td><td>Facebook</td><td>-</td><td>-</td><td>ES</td><td>Employee and Spouse</td><td>10.0</td><td>Plan K</td><td>Medical and Vision</td><td>1970-01-01</td><td>1970-01-01</td><td>null</td><td>null</td><td>1970-01-01</td><td>1970-01-01</td><td>Aetna</td><td>Member Enrollment</td><td>2024-03-10</td></tr><tr><td>84</td><td>200118-CC-M50</td><td>144400</td><td>200118</td><td>Courtney</td><td>Cuevas</td><td>null</td><td>Mr.</td><td>-</td><td>M</td><td>1950-11-09</td><td>F</td><td>Father</td><td>3</td><td>159 Treutel Hollow</td><td>null</td><td>Winchester</td><td>Massachusetts</td><td>Middlesex County</td><td></td><td>USA</td><td>0</td><td>0</td><td>0</td><td>N/A</td><td>N/A</td><td>null</td><td>N/A</td><td>3</td><td>Facebook</td><td>-</td><td>-</td><td>ES</td><td>Employee and Spouse</td><td>10.0</td><td>Plan K</td><td>Medical and Vision</td><td>1970-01-01</td><td>1970-01-01</td><td>null</td><td>null</td><td>1970-01-01</td><td>1970-01-01</td><td>Aetna</td><td>Member Enrollment</td><td>2024-03-10</td></tr><tr><td>85</td><td>200665-ZW-M04</td><td>181900</td><td>200665</td><td>Zain</td><td>Webb</td><td>null</td><td>Mr.</td><td>-</td><td>M</td><td>2004-10-18</td><td>N</td><td>Niece</td><td>13</td><td>203 Sporer Esplanade Unit 14</td><td>null</td><td>Oxford</td><td>Massachusetts</td><td>Worcester County</td><td></td><td>USA</td><td>0</td><td>0</td><td>0</td><td>N/A</td><td>N/A</td><td>null</td><td>N/A</td><td>4</td><td>Digital Convergence Technologies</td><td>-</td><td>-</td><td>EP</td><td>Employee and Parents</td><td>0.0</td><td>Plan A</td><td>Medical</td><td>1970-01-01</td><td>1970-01-01</td><td>null</td><td>null</td><td>null</td><td>null</td><td>Aetna</td><td>Member Enrollment</td><td>2024-03-10</td></tr><tr><td>86</td><td>203702-AJ-M69</td><td>213300</td><td>203702</td><td>Andre</td><td>Jackson</td><td>null</td><td>Mr.</td><td>-</td><td>M</td><td>1969-10-29</td><td>G4</td><td>Grand Daughter</td><td>10</td><td>954 Marvin Ferry</td><td>null</td><td>Marlborough</td><td>Massachusetts</td><td>Middlesex County</td><td>01752</td><td>USA</td><td>0</td><td>0</td><td>0</td><td>N/A</td><td>N/A</td><td>null</td><td>N/A</td><td>8</td><td>TechKraft Inc</td><td>-</td><td>-</td><td>F</td><td>Family</td><td>15.0</td><td>Plan P</td><td>Medical, Dental and Vision</td><td>1970-01-01</td><td>1970-01-01</td><td>1970-01-01</td><td>1970-01-01</td><td>1970-01-01</td><td>1970-01-01</td><td>Cigna</td><td>Member Enrollment</td><td>2024-03-10</td></tr><tr><td>87</td><td>205773-GB-M04</td><td>156400</td><td>205773</td><td>Gavin</td><td>Bernard</td><td>null</td><td>Mr.</td><td>-</td><td>M</td><td>2004-06-28</td><td>S</td><td>Spouse</td><td>2</td><td>465 Crist Crossroad Unit 86</td><td>null</td><td>Quincy</td><td>Massachusetts</td><td>Norfolk County</td><td>02170</td><td>USA</td><td>0</td><td>0</td><td>0</td><td>N/A</td><td>N/A</td><td>null</td><td>N/A</td><td>4</td><td>Digital Convergence Technologies</td><td>-</td><td>-</td><td>EC</td><td>Employee and Childrens</td><td>2.0</td><td>Plan C</td><td>Medical and Vision</td><td>1970-01-01</td><td>1970-01-01</td><td>null</td><td>null</td><td>1970-01-01</td><td>1970-01-01</td><td>Aetna</td><td>Member Enrollment</td><td>2024-03-10</td></tr><tr><td>88</td><td>206682-FM-M90</td><td>100000</td><td>206682</td><td>Fergus</td><td>Matthews</td><td>null</td><td>Mr.</td><td>-</td><td>M</td><td>1990-10-14</td><td>A2</td><td>Adapted Daughter</td><td>12</td><td>503 Carter Light Apt 12</td><td>null</td><td>Auburn</td><td>Massachusetts</td><td>Worcester County</td><td></td><td>USA</td><td>0</td><td>0</td><td>0</td><td>N/A</td><td>N/A</td><td>null</td><td>N/A</td><td>2</td><td>Google</td><td>-</td><td>-</td><td>E1C</td><td>Employee and 1 Child</td><td>7.0</td><td>Plan H</td><td>Medical, Dental and Vision</td><td>1970-01-01</td><td>1970-01-01</td><td>1970-01-01</td><td>1970-01-01</td><td>1970-01-01</td><td>1970-01-01</td><td>Cigna</td><td>Member Enrollment</td><td>2024-03-10</td></tr><tr><td>89</td><td>217633-AMK-M07</td><td>201100</td><td>217633</td><td>Armaan</td><td>Moody</td><td>Ker</td><td>Mr.</td><td>-</td><td>M</td><td>2007-04-30</td><td>D2</td><td>Divorced Wife</td><td>16</td><td>578 Welch Trace Unit 19</td><td>null</td><td>Bridgewater</td><td>Massachusetts</td><td>Plymouth County</td><td></td><td>USA</td><td>0</td><td>0</td><td>0</td><td>N/A</td><td>N/A</td><td>null</td><td>N/A</td><td>1</td><td>Abacus Insights</td><td>-</td><td>-</td><td>E1C</td><td>Employee and 1 Child</td><td>10.0</td><td>Plan K</td><td>Medical and Vision</td><td>1970-01-01</td><td>1970-01-01</td><td>null</td><td>null</td><td>1970-01-01</td><td>1970-01-01</td><td>Aetna</td><td>Member Enrollment</td><td>2024-03-10</td></tr><tr><td>90</td><td>217770-RM-M03</td><td>201400</td><td>217770</td><td>Robyn</td><td>Mcgowan</td><td>null</td><td>Mr.</td><td>-</td><td>M</td><td>2003-12-28</td><td>E</td><td>Self</td><td>1</td><td>379 Bernhard Station</td><td>null</td><td>Newburyport</td><td>Massachusetts</td><td>Essex County</td><td></td><td>USA</td><td>0</td><td>0</td><td>0</td><td>N/A</td><td>N/A</td><td>null</td><td>N/A</td><td>1</td><td>Abacus Insights</td><td>-</td><td>-</td><td>ES</td><td>Employee and Spouse</td><td>8.0</td><td>Plan I</td><td>Medical</td><td>1970-01-01</td><td>1970-01-01</td><td>null</td><td>null</td><td>null</td><td>null</td><td>Cigna</td><td>Member Enrollment</td><td>2024-03-10</td></tr><tr><td>91</td><td>218479-NA-M93</td><td>130400</td><td>218479</td><td>Neo</td><td>Aguirre</td><td>null</td><td>Mr.</td><td>-</td><td>M</td><td>1993-03-16</td><td>C1</td><td>Son</td><td>5</td><td>489 Nienow Rue</td><td>null</td><td>Fall River</td><td>Massachusetts</td><td>Bristol County</td><td>02790</td><td>USA</td><td>0</td><td>0</td><td>0</td><td>N/A</td><td>N/A</td><td>null</td><td>N/A</td><td>8</td><td>TechKraft Inc</td><td>-</td><td>-</td><td>F</td><td>Family</td><td>1.0</td><td>Plan B</td><td>Medical and Dental</td><td>1970-01-01</td><td>1970-01-01</td><td>1970-01-01</td><td>1970-01-01</td><td>null</td><td>null</td><td>Aetna</td><td>Member Enrollment</td><td>2024-03-10</td></tr><tr><td>92</td><td>219363-DR-M09</td><td>142600</td><td>219363</td><td>Dillon</td><td>Roach</td><td>null</td><td>Mr.</td><td>-</td><td>M</td><td>2009-05-05</td><td>G2</td><td>Grand Mother</td><td>8</td><td>741 Stracke Landing Apt 68</td><td>null</td><td>Walpole</td><td>Massachusetts</td><td>Norfolk County</td><td>02081</td><td>USA</td><td>0</td><td>0</td><td>0</td><td>N/A</td><td>N/A</td><td>null</td><td>N/A</td><td>1</td><td>Abacus Insights</td><td>-</td><td>-</td><td>E</td><td>Employee Only</td><td>13.0</td><td>Plan N</td><td>Medical and Dental</td><td>1970-01-01</td><td>1970-01-01</td><td>1970-01-01</td><td>1970-01-01</td><td>null</td><td>null</td><td>Aetna</td><td>Member Enrollment</td><td>2024-03-10</td></tr><tr><td>93</td><td>221967-EM-M44</td><td>152200</td><td>221967</td><td>Evan</td><td>Moore</td><td>null</td><td>Mr.</td><td>-</td><td>M</td><td>1944-08-14</td><td>M</td><td>Mother</td><td>4</td><td>1045 Gibson Vista</td><td>null</td><td>Attleboro</td><td>Massachusetts</td><td>Bristol County</td><td>02703</td><td>USA</td><td>0</td><td>0</td><td>0</td><td>N/A</td><td>N/A</td><td>null</td><td>N/A</td><td>3</td><td>Facebook</td><td>-</td><td>-</td><td>EC</td><td>Employee and Childrens</td><td>10.0</td><td>Plan K</td><td>Medical and Vision</td><td>1970-01-01</td><td>1970-01-01</td><td>null</td><td>null</td><td>1970-01-01</td><td>1970-01-01</td><td>Cigna</td><td>Member Enrollment</td><td>2024-03-10</td></tr><tr><td>94</td><td>221967-EM-M44</td><td>152200</td><td>221967</td><td>Evan</td><td>Moore</td><td>null</td><td>Mr.</td><td>-</td><td>M</td><td>1944-08-14</td><td>M</td><td>Mother</td><td>4</td><td>1045 Gibson Vista</td><td>null</td><td>Attleboro</td><td>Massachusetts</td><td>Bristol County</td><td>02703</td><td>USA</td><td>0</td><td>0</td><td>0</td><td>N/A</td><td>N/A</td><td>null</td><td>N/A</td><td>3</td><td>Facebook</td><td>-</td><td>-</td><td>ES</td><td>Employee and Spouse</td><td>12.0</td><td>Plan M</td><td>Medical</td><td>1970-01-01</td><td>1970-01-01</td><td>null</td><td>null</td><td>null</td><td>null</td><td>Cigna</td><td>Member Enrollment</td><td>2024-03-10</td></tr><tr><td>95</td><td>221967-MRJ-M44</td><td>152200</td><td>221967</td><td>Marcel</td><td>Randolph</td><td>Jirkar</td><td>Mr.</td><td>-</td><td>M</td><td>1944-08-14</td><td>F</td><td>Fiance</td><td>3</td><td>1045 Gibson Vista</td><td>null</td><td>Attleboro</td><td>Massachusetts</td><td>Bristol County</td><td>02703</td><td>USA</td><td>0</td><td>0</td><td>0</td><td>N/A</td><td>N/A</td><td>null</td><td>N/A</td><td>3</td><td>Facebook</td><td>-</td><td>-</td><td>EC</td><td>Employee and Childrens</td><td>10.0</td><td>Plan K</td><td>Medical and Vision</td><td>1970-01-01</td><td>1970-01-01</td><td>null</td><td>null</td><td>1970-01-01</td><td>1970-01-01</td><td>Cigna</td><td>Member Enrollment</td><td>2024-03-10</td></tr><tr><td>96</td><td>221967-MRJ-M44</td><td>152200</td><td>221967</td><td>Marcel</td><td>Randolph</td><td>Jirkar</td><td>Mr.</td><td>-</td><td>M</td><td>1944-08-14</td><td>F</td><td>Father</td><td>3</td><td>1045 Gibson Vista</td><td>null</td><td>Attleboro</td><td>Massachusetts</td><td>Bristol County</td><td>02703</td><td>USA</td><td>0</td><td>0</td><td>0</td><td>N/A</td><td>N/A</td><td>null</td><td>N/A</td><td>3</td><td>Facebook</td><td>-</td><td>-</td><td>EC</td><td>Employee and Childrens</td><td>10.0</td><td>Plan K</td><td>Medical and Vision</td><td>1970-01-01</td><td>1970-01-01</td><td>null</td><td>null</td><td>1970-01-01</td><td>1970-01-01</td><td>Cigna</td><td>Member Enrollment</td><td>2024-03-10</td></tr><tr><td>97</td><td>221967-MRJ-M44</td><td>152200</td><td>221967</td><td>Marcel</td><td>Randolph</td><td>Jirkar</td><td>Mr.</td><td>-</td><td>M</td><td>1944-08-14</td><td>F</td><td>Fiance</td><td>3</td><td>1045 Gibson Vista</td><td>null</td><td>Attleboro</td><td>Massachusetts</td><td>Bristol County</td><td>02703</td><td>USA</td><td>0</td><td>0</td><td>0</td><td>N/A</td><td>N/A</td><td>null</td><td>N/A</td><td>3</td><td>Facebook</td><td>-</td><td>-</td><td>ES</td><td>Employee and Spouse</td><td>12.0</td><td>Plan M</td><td>Medical</td><td>1970-01-01</td><td>1970-01-01</td><td>null</td><td>null</td><td>null</td><td>null</td><td>Cigna</td><td>Member Enrollment</td><td>2024-03-10</td></tr><tr><td>98</td><td>221967-MRJ-M44</td><td>152200</td><td>221967</td><td>Marcel</td><td>Randolph</td><td>Jirkar</td><td>Mr.</td><td>-</td><td>M</td><td>1944-08-14</td><td>F</td><td>Father</td><td>3</td><td>1045 Gibson Vista</td><td>null</td><td>Attleboro</td><td>Massachusetts</td><td>Bristol County</td><td>02703</td><td>USA</td><td>0</td><td>0</td><td>0</td><td>N/A</td><td>N/A</td><td>null</td><td>N/A</td><td>3</td><td>Facebook</td><td>-</td><td>-</td><td>ES</td><td>Employee and Spouse</td><td>12.0</td><td>Plan M</td><td>Medical</td><td>1970-01-01</td><td>1970-01-01</td><td>null</td><td>null</td><td>null</td><td>null</td><td>Cigna</td><td>Member Enrollment</td><td>2024-03-10</td></tr><tr><td>99</td><td>222628-EC-M89</td><td>197900</td><td>222628</td><td>Eesa</td><td>Carpenter</td><td>null</td><td>Mr.</td><td>-</td><td>M</td><td>1989-10-01</td><td>G3</td><td>Grand Son</td><td>9</td><td>764 Feil Route</td><td>null</td><td>Boston</td><td>Massachusetts</td><td>Suffolk County</td><td>02108</td><td>USA</td><td>0</td><td>0</td><td>0</td><td>N/A</td><td>N/A</td><td>null</td><td>N/A</td><td>8</td><td>TechKraft Inc</td><td>-</td><td>-</td><td>EP</td><td>Employee and Parents</td><td>13.0</td><td>Plan N</td><td>Medical and Dental</td><td>1970-01-01</td><td>1970-01-01</td><td>1970-01-01</td><td>1970-01-01</td><td>null</td><td>null</td><td>Aetna</td><td>Member Enrollment</td><td>2024-03-10</td></tr><tr><td>100</td><td>023532-DF-M36</td><td>62900</td><td>23532</td><td>Drew</td><td>Friedman</td><td>null</td><td>Mr.</td><td>-</td><td>M</td><td>1936-03-30</td><td>C1</td><td>Son</td><td>5</td><td>911 Rodriguez Forge</td><td>null</td><td>Orange</td><td>Massachusetts</td><td>Franklin County</td><td>01364</td><td>USA</td><td>0</td><td>0</td><td>0</td><td>N/A</td><td>N/A</td><td>null</td><td>N/A</td><td>3</td><td>Facebook</td><td>-</td><td>-</td><td>F</td><td>Family</td><td>11.0</td><td>Plan L</td><td>Medical, Dental and Vision</td><td>1970-01-01</td><td>1970-01-01</td><td>1970-01-01</td><td>1970-01-01</td><td>1970-01-01</td><td>1970-01-01</td><td>Aetna</td><td>Member Enrollment</td><td>2024-03-10</td></tr><tr><td>101</td><td>030696-KM-M65</td><td>147700</td><td>30696</td><td>Kaan</td><td>Mckee</td><td>null</td><td>Mr.</td><td>-</td><td>M</td><td>1965-06-25</td><td>G1</td><td>Grand Father</td><td>7</td><td>480 Jast Ramp Apt 20</td><td>null</td><td>Dennis</td><td>Massachusetts</td><td>Barnstable County</td><td>02638</td><td>USA</td><td>0</td><td>0</td><td>0</td><td>N/A</td><td>N/A</td><td>null</td><td>N/A</td><td>8</td><td>TechKraft Inc</td><td>-</td><td>-</td><td>E1C</td><td>Employee and 1 Child</td><td>9.0</td><td>Plan J</td><td>Medical and Dental</td><td>1970-01-01</td><td>1970-01-01</td><td>1970-01-01</td><td>1970-01-01</td><td>null</td><td>null</td><td>Cigna</td><td>Member Enrollment</td><td>2024-03-10</td></tr><tr><td>102</td><td>030696-MM-M11</td><td>86400</td><td>30696</td><td>Malakai</td><td>Malone</td><td>null</td><td>Mr.</td><td>-</td><td>M</td><td>2011-06-20</td><td>E</td><td>Self</td><td>1</td><td>964 Schroeder Branch Apt 20</td><td>null</td><td>Spencer</td><td>Massachusetts</td><td>Worcester County</td><td></td><td>USA</td><td>0</td><td>0</td><td>0</td><td>N/A</td><td>N/A</td><td>null</td><td>N/A</td><td>1</td><td>Abacus Insights</td><td>-</td><td>-</td><td>ES</td><td>Employee and Spouse</td><td>10.0</td><td>Plan K</td><td>Medical and Vision</td><td>1970-01-01</td><td>1970-01-01</td><td>null</td><td>null</td><td>1970-01-01</td><td>1970-01-01</td><td>Aetna</td><td>Member Enrollment</td><td>2024-03-10</td></tr><tr><td>103</td><td>038256-AK-M43</td><td>18200</td><td>38256</td><td>Aarav</td><td>Kent</td><td>null</td><td>Mr.</td><td>-</td><td>M</td><td>1943-01-01</td><td>M</td><td>Mother</td><td>4</td><td>718 Hamill Club</td><td>null</td><td>Easthampton</td><td>Massachusetts</td><td>Hampshire County</td><td></td><td>USA</td><td>0</td><td>0</td><td>0</td><td>N/A</td><td>N/A</td><td>null</td><td>N/A</td><td>3</td><td>Facebook</td><td>-</td><td>-</td><td>ES</td><td>Employee and Spouse</td><td>4.0</td><td>Plan E</td><td>Medical</td><td>1970-01-01</td><td>1970-01-01</td><td>null</td><td>null</td><td>null</td><td>null</td><td>Aetna</td><td>Member Enrollment</td><td>2024-03-10</td></tr><tr><td>104</td><td>038256-AK-M43</td><td>18200</td><td>38256</td><td>Aarav</td><td>Kent</td><td>null</td><td>Mr.</td><td>-</td><td>M</td><td>1943-01-01</td><td>M</td><td>Mother</td><td>4</td><td>718 Hamill Club</td><td>null</td><td>Easthampton</td><td>Massachusetts</td><td>Hampshire County</td><td></td><td>USA</td><td>0</td><td>0</td><td>0</td><td>N/A</td><td>N/A</td><td>null</td><td>N/A</td><td>3</td><td>Facebook</td><td>-</td><td>-</td><td>F</td><td>Family</td><td>11.0</td><td>Plan L</td><td>Medical, Dental and Vision</td><td>1970-01-01</td><td>1970-01-01</td><td>1970-01-01</td><td>1970-01-01</td><td>1970-01-01</td><td>1970-01-01</td><td>Cigna</td><td>Member Enrollment</td><td>2024-03-10</td></tr><tr><td>105</td><td>038256-AK-M43</td><td>18200</td><td>38256</td><td>Aarav</td><td>Kent</td><td>null</td><td>Mr.</td><td>-</td><td>M</td><td>1943-01-01</td><td>M</td><td>Mother</td><td>4</td><td>718 Hamill Club</td><td>null</td><td>Easthampton</td><td>Massachusetts</td><td>Hampshire County</td><td></td><td>USA</td><td>0</td><td>0</td><td>0</td><td>N/A</td><td>N/A</td><td>null</td><td>N/A</td><td>3</td><td>Facebook</td><td>-</td><td>-</td><td>ES</td><td>Employee and Spouse</td><td>14.0</td><td>Plan O</td><td>Medical and Vision</td><td>1970-01-01</td><td>1970-01-01</td><td>null</td><td>null</td><td>1970-01-01</td><td>1970-01-01</td><td>Aetna</td><td>Member Enrollment</td><td>2024-03-10</td></tr><tr><td>106</td><td>038256-SFK-M43</td><td>18200</td><td>38256</td><td>Steffan</td><td>Figueroa</td><td>Kippar</td><td>Mr.</td><td>-</td><td>M</td><td>1943-01-01</td><td>E</td><td>Self</td><td>1</td><td>718 Hamill Club</td><td>null</td><td>Easthampton</td><td>Massachusetts</td><td>Hampshire County</td><td></td><td>USA</td><td>0</td><td>0</td><td>0</td><td>N/A</td><td>N/A</td><td>null</td><td>N/A</td><td>3</td><td>Facebook</td><td>-</td><td>-</td><td>ES</td><td>Employee and Spouse</td><td>4.0</td><td>Plan E</td><td>Medical</td><td>1970-01-01</td><td>1970-01-01</td><td>null</td><td>null</td><td>null</td><td>null</td><td>Aetna</td><td>Member Enrollment</td><td>2024-03-10</td></tr><tr><td>107</td><td>038256-SFK-M43</td><td>18200</td><td>38256</td><td>Steffan</td><td>Figueroa</td><td>Kippar</td><td>Mr.</td><td>-</td><td>M</td><td>1943-01-01</td><td>E</td><td>Self</td><td>1</td><td>718 Hamill Club</td><td>null</td><td>Easthampton</td><td>Massachusetts</td><td>Hampshire County</td><td></td><td>USA</td><td>0</td><td>0</td><td>0</td><td>N/A</td><td>N/A</td><td>null</td><td>N/A</td><td>3</td><td>Facebook</td><td>-</td><td>-</td><td>F</td><td>Family</td><td>11.0</td><td>Plan L</td><td>Medical, Dental and Vision</td><td>1970-01-01</td><td>1970-01-01</td><td>1970-01-01</td><td>1970-01-01</td><td>1970-01-01</td><td>1970-01-01</td><td>Cigna</td><td>Member Enrollment</td><td>2024-03-10</td></tr><tr><td>108</td><td>038256-SFK-M43</td><td>18200</td><td>38256</td><td>Steffan</td><td>Figueroa</td><td>Kippar</td><td>Mr.</td><td>-</td><td>M</td><td>1943-01-01</td><td>E</td><td>Self</td><td>1</td><td>718 Hamill Club</td><td>null</td><td>Easthampton</td><td>Massachusetts</td><td>Hampshire County</td><td></td><td>USA</td><td>0</td><td>0</td><td>0</td><td>N/A</td><td>N/A</td><td>null</td><td>N/A</td><td>3</td><td>Facebook</td><td>-</td><td>-</td><td>ES</td><td>Employee and Spouse</td><td>14.0</td><td>Plan O</td><td>Medical and Vision</td><td>1970-01-01</td><td>1970-01-01</td><td>null</td><td>null</td><td>1970-01-01</td><td>1970-01-01</td><td>Aetna</td><td>Member Enrollment</td><td>2024-03-10</td></tr><tr><td>109</td><td>038256-DS-M43</td><td>18200</td><td>38256</td><td>Derek</td><td>Santos</td><td>null</td><td>Mr.</td><td>-</td><td>M</td><td>1943-01-01</td><td>C1</td><td>Son</td><td>5</td><td>718 Hamill Club</td><td>null</td><td>Easthampton</td><td>Massachusetts</td><td>Hampshire County</td><td></td><td>USA</td><td>0</td><td>0</td><td>0</td><td>N/A</td><td>N/A</td><td>null</td><td>N/A</td><td>3</td><td>Facebook</td><td>-</td><td>-</td><td>ES</td><td>Employee and Spouse</td><td>4.0</td><td>Plan E</td><td>Medical</td><td>1970-01-01</td><td>1970-01-01</td><td>null</td><td>null</td><td>null</td><td>null</td><td>Aetna</td><td>Member Enrollment</td><td>2024-03-10</td></tr><tr><td>110</td><td>038256-DS-M43</td><td>18200</td><td>38256</td><td>Derek</td><td>Santos</td><td>null</td><td>Mr.</td><td>-</td><td>M</td><td>1943-01-01</td><td>C1</td><td>Son</td><td>5</td><td>718 Hamill Club</td><td>null</td><td>Easthampton</td><td>Massachusetts</td><td>Hampshire County</td><td></td><td>USA</td><td>0</td><td>0</td><td>0</td><td>N/A</td><td>N/A</td><td>null</td><td>N/A</td><td>3</td><td>Facebook</td><td>-</td><td>-</td><td>F</td><td>Family</td><td>11.0</td><td>Plan L</td><td>Medical, Dental and Vision</td><td>1970-01-01</td><td>1970-01-01</td><td>1970-01-01</td><td>1970-01-01</td><td>1970-01-01</td><td>1970-01-01</td><td>Cigna</td><td>Member Enrollment</td><td>2024-03-10</td></tr><tr><td>111</td><td>038256-DS-M43</td><td>18200</td><td>38256</td><td>Derek</td><td>Santos</td><td>null</td><td>Mr.</td><td>-</td><td>M</td><td>1943-01-01</td><td>C1</td><td>Son</td><td>5</td><td>718 Hamill Club</td><td>null</td><td>Easthampton</td><td>Massachusetts</td><td>Hampshire County</td><td></td><td>USA</td><td>0</td><td>0</td><td>0</td><td>N/A</td><td>N/A</td><td>null</td><td>N/A</td><td>3</td><td>Facebook</td><td>-</td><td>-</td><td>ES</td><td>Employee and Spouse</td><td>14.0</td><td>Plan O</td><td>Medical and Vision</td><td>1970-01-01</td><td>1970-01-01</td><td>null</td><td>null</td><td>1970-01-01</td><td>1970-01-01</td><td>Aetna</td><td>Member Enrollment</td><td>2024-03-10</td></tr><tr><td>112</td><td>059066-CT-M08</td><td>109600</td><td>59066</td><td>Cole</td><td>Turner</td><td>null</td><td>Mr.</td><td>-</td><td>M</td><td>2008-03-28</td><td>N</td><td>Niece</td><td>13</td><td>454 Crooks Divide Unit 13</td><td>null</td><td>Plymouth</td><td>Massachusetts</td><td>Plymouth County</td><td></td><td>USA</td><td>0</td><td>0</td><td>0</td><td>N/A</td><td>N/A</td><td>null</td><td>N/A</td><td>1</td><td>Abacus Insights</td><td>-</td><td>-</td><td>F</td><td>Family</td><td>4.0</td><td>Plan E</td><td>Medical</td><td>1970-01-01</td><td>1970-01-01</td><td>null</td><td>null</td><td>null</td><td>null</td><td>Cigna</td><td>Member Enrollment</td><td>2024-03-10</td></tr><tr><td>113</td><td>062804-RS-M05</td><td>94700</td><td>62804</td><td>Roosevelt</td><td>Silva</td><td>null</td><td>Mr.</td><td>-</td><td>M</td><td>2005-12-03</td><td>N</td><td>Niece</td><td>13</td><td>461 Lindgren Plaza</td><td>null</td><td>Quincy</td><td>Massachusetts</td><td>Norfolk County</td><td>02169</td><td>USA</td><td>0</td><td>0</td><td>0</td><td>N/A</td><td>N/A</td><td>null</td><td>N/A</td><td>4</td><td>Digital Convergence Technologies</td><td>-</td><td>-</td><td>E1C</td><td>Employee and 1 Child</td><td>4.0</td><td>Plan E</td><td>Medical</td><td>1970-01-01</td><td>1970-01-01</td><td>null</td><td>null</td><td>null</td><td>null</td><td>Aetna</td><td>Member Enrollment</td><td>2024-03-10</td></tr><tr><td>114</td><td>064702-EHK-M99</td><td>105800</td><td>64702</td><td>Erin</td><td>Huff</td><td>Kester</td><td>Mr.</td><td>-</td><td>M</td><td>1999-12-12</td><td>G2</td><td>Grand Mother</td><td>8</td><td>147 Rippin Lane</td><td>null</td><td>Boston</td><td>Massachusetts</td><td>Suffolk County</td><td>02116</td><td>USA</td><td>0</td><td>0</td><td>0</td><td>N/A</td><td>N/A</td><td>null</td><td>N/A</td><td>1</td><td>Abacus Insights</td><td>-</td><td>-</td><td>U</td><td>Unknown</td><td>3.0</td><td>Plan D</td><td>Medical, Dental and Vision</td><td>1970-01-01</td><td>1970-01-01</td><td>1970-01-01</td><td>1970-01-01</td><td>1970-01-01</td><td>1970-01-01</td><td>Aetna</td><td>Member Enrollment</td><td>2024-03-10</td></tr><tr><td>115</td><td>038256-DD-M61</td><td>210000</td><td>38256</td><td>Dale</td><td>Dale</td><td>null</td><td>Mr.</td><td>-</td><td>M</td><td>1961-01-12</td><td>D1</td><td>Divorced Husband</td><td>15</td><td>976 Lowe Branch</td><td>null</td><td>Boston</td><td>Massachusetts</td><td>Suffolk County</td><td>02115</td><td>USA</td><td>0</td><td>0</td><td>0</td><td>N/A</td><td>N/A</td><td>null</td><td>N/A</td><td>3</td><td>Facebook</td><td>-</td><td>-</td><td>E</td><td>Employee Only</td><td>12.0</td><td>Plan M</td><td>Medical</td><td>1970-01-01</td><td>1970-01-01</td><td>null</td><td>null</td><td>null</td><td>null</td><td>Aetna</td><td>Member Enrollment</td><td>2024-03-10</td></tr><tr><td>116</td><td>038256-AM-M11</td><td>1900</td><td>38256</td><td>Ameer</td><td>Mcmahon</td><td>null</td><td>Mr.</td><td>-</td><td>M</td><td>2011-04-23</td><td>F</td><td>Fiance</td><td>3</td><td>1032 Koch Gardens</td><td>null</td><td>Sharon</td><td>Massachusetts</td><td>Norfolk County</td><td></td><td>USA</td><td>0</td><td>0</td><td>0</td><td>N/A</td><td>N/A</td><td>null</td><td>N/A</td><td>1</td><td>Abacus Insights</td><td>-</td><td>-</td><td>F</td><td>Family</td><td>3.0</td><td>Plan D</td><td>Medical, Dental and Vision</td><td>1970-01-01</td><td>1970-01-01</td><td>1970-01-01</td><td>1970-01-01</td><td>1970-01-01</td><td>1970-01-01</td><td>Aetna</td><td>Member Enrollment</td><td>2024-03-10</td></tr><tr><td>117</td><td>038256-AM-M11</td><td>1900</td><td>38256</td><td>Ameer</td><td>Mcmahon</td><td>null</td><td>Mr.</td><td>-</td><td>M</td><td>2011-04-23</td><td>F</td><td>Father</td><td>3</td><td>1032 Koch Gardens</td><td>null</td><td>Sharon</td><td>Massachusetts</td><td>Norfolk County</td><td></td><td>USA</td><td>0</td><td>0</td><td>0</td><td>N/A</td><td>N/A</td><td>null</td><td>N/A</td><td>1</td><td>Abacus Insights</td><td>-</td><td>-</td><td>F</td><td>Family</td><td>3.0</td><td>Plan D</td><td>Medical, Dental and Vision</td><td>1970-01-01</td><td>1970-01-01</td><td>1970-01-01</td><td>1970-01-01</td><td>1970-01-01</td><td>1970-01-01</td><td>Aetna</td><td>Member Enrollment</td><td>2024-03-10</td></tr><tr><td>118</td><td>038256-KP-M56</td><td>2700</td><td>38256</td><td>Keeley</td><td>Preston</td><td>null</td><td>Mr.</td><td>-</td><td>M</td><td>1956-03-29</td><td>D2</td><td>Divorced Wife</td><td>16</td><td>333 Hilpert Route</td><td>null</td><td>Ware</td><td>Massachusetts</td><td>Hampshire County</td><td></td><td>USA</td><td>0</td><td>0</td><td>0</td><td>N/A</td><td>N/A</td><td>null</td><td>N/A</td><td>8</td><td>TechKraft Inc</td><td>-</td><td>-</td><td>EC</td><td>Employee and Childrens</td><td>13.0</td><td>Plan N</td><td>Medical and Dental</td><td>1970-01-01</td><td>1970-01-01</td><td>1970-01-01</td><td>1970-01-01</td><td>null</td><td>null</td><td>Cigna</td><td>Member Enrollment</td><td>2024-03-10</td></tr><tr><td>119</td><td>095182-TS-M90</td><td>2800</td><td>95182</td><td>Ted</td><td>Summers</td><td>null</td><td>Mr.</td><td>-</td><td>M</td><td>1990-08-25</td><td>D2</td><td>Divorced Wife</td><td>16</td><td>410 Homenick Lane</td><td>null</td><td>Duxbury</td><td>Massachusetts</td><td>Plymouth County</td><td>02332</td><td>USA</td><td>0</td><td>0</td><td>0</td><td>N/A</td><td>N/A</td><td>null</td><td>N/A</td><td>1</td><td>Abacus Insights</td><td>-</td><td>-</td><td>ES</td><td>Employee and Spouse</td><td>3.0</td><td>Plan D</td><td>Medical, Dental and Vision</td><td>1970-01-01</td><td>1970-01-01</td><td>1970-01-01</td><td>1970-01-01</td><td>1970-01-01</td><td>1970-01-01</td><td>Aetna</td><td>Member Enrollment</td><td>2024-03-10</td></tr><tr><td>120</td><td>095182-JR-M50</td><td>117100</td><td>95182</td><td>Jaydon</td><td>Richard</td><td>null</td><td>Mr.</td><td>-</td><td>M</td><td>1950-10-22</td><td>G3</td><td>Grand Son</td><td>9</td><td>322 Marks Rue Suite 15</td><td>null</td><td>Fitchburg</td><td>Massachusetts</td><td>Worcester County</td><td>01420</td><td>USA</td><td>0</td><td>0</td><td>0</td><td>N/A</td><td>N/A</td><td>null</td><td>N/A</td><td>3</td><td>Facebook</td><td>-</td><td>-</td><td>E1C</td><td>Employee and 1 Child</td><td>6.0</td><td>Plan G</td><td>Medical and Vision</td><td>1970-01-01</td><td>1970-01-01</td><td>null</td><td>null</td><td>1970-01-01</td><td>1970-01-01</td><td>Aetna</td><td>Member Enrollment</td><td>2024-03-10</td></tr><tr><td>121</td><td>095182-KG-M04</td><td>77900</td><td>95182</td><td>Kristen</td><td>Gillespie</td><td>null</td><td>Mr.</td><td>-</td><td>M</td><td>2004-02-16</td><td>E</td><td>Self</td><td>1</td><td>230 Murphy Camp Unit 83</td><td>null</td><td>Burlington</td><td>Massachusetts</td><td>Middlesex County</td><td>01803</td><td>USA</td><td>0</td><td>0</td><td>0</td><td>N/A</td><td>N/A</td><td>null</td><td>N/A</td><td>4</td><td>Digital Convergence Technologies</td><td>-</td><td>-</td><td>ES</td><td>Employee and Spouse</td><td>6.0</td><td>Plan G</td><td>Medical and Vision</td><td>1970-01-01</td><td>1970-01-01</td><td>null</td><td>null</td><td>1970-01-01</td><td>1970-01-01</td><td>Aetna</td><td>Member Enrollment</td><td>2024-03-10</td></tr></tbody></table></div>"
      ]
     },
     "metadata": {
      "application/vnd.databricks.v1+output": {
       "addedWidgets": {},
       "aggData": [],
       "aggError": "",
       "aggOverflow": false,
       "aggSchema": [],
       "aggSeriesLimitReached": false,
       "aggType": "",
       "arguments": {},
       "columnCustomDisplayInfos": {},
       "data": [
        [
         "1",
         "160951-FLM-F88",
         "173400",
         "160951",
         "Freya",
         "Lynn",
         "Marlys",
         "Mrs./Ms.",
         "-",
         "F",
         "1988-02-23",
         "S",
         "Spouse",
         2,
         "771 Kirlin Haven",
         null,
         "Attleboro",
         "Massachusetts",
         "Bristol County",
         "02703",
         "USA",
         0,
         0,
         0,
         "N/A",
         "N/A",
         null,
         "N/A",
         "1",
         "Abacus Insights",
         "-",
         "-",
         "E1C",
         "Employee and 1 Child",
         "11.0",
         "Plan L",
         "Medical, Dental and Vision",
         "1970-01-01",
         "1970-01-01",
         "1970-01-01",
         "1970-01-01",
         "1970-01-01",
         "1970-01-01",
         "Cigna",
         "Member Enrollment",
         "2024-03-10"
        ],
        [
         "2",
         "160951-CP-F64",
         "83300",
         "160951",
         "Candice",
         "Padilla",
         null,
         "Mrs./Ms.",
         "-",
         "F",
         "1964-12-10",
         "F",
         "Fiance",
         3,
         "182 Trantow Mission Unit 20",
         null,
         "Bellingham",
         "Massachusetts",
         "Norfolk County",
         "",
         "USA",
         0,
         0,
         0,
         "N/A",
         "N/A",
         null,
         "N/A",
         "1",
         "Abacus Insights",
         "-",
         "-",
         "ES",
         "Employee and Spouse",
         "0.0",
         "Plan A",
         "Medical",
         "1970-01-01",
         "1970-01-01",
         null,
         null,
         null,
         null,
         "Cigna",
         "Member Enrollment",
         "2024-03-10"
        ],
        [
         "3",
         "160951-CP-F64",
         "83300",
         "160951",
         "Candice",
         "Padilla",
         null,
         "Mrs./Ms.",
         "-",
         "F",
         "1964-12-10",
         "F",
         "Father",
         3,
         "182 Trantow Mission Unit 20",
         null,
         "Bellingham",
         "Massachusetts",
         "Norfolk County",
         "",
         "USA",
         0,
         0,
         0,
         "N/A",
         "N/A",
         null,
         "N/A",
         "1",
         "Abacus Insights",
         "-",
         "-",
         "ES",
         "Employee and Spouse",
         "0.0",
         "Plan A",
         "Medical",
         "1970-01-01",
         "1970-01-01",
         null,
         null,
         null,
         null,
         "Cigna",
         "Member Enrollment",
         "2024-03-10"
        ],
        [
         "4",
         "111325-LS-F15",
         "106800",
         "111325",
         "Leanne",
         "Swanson",
         null,
         "Mrs./Ms.",
         "-",
         "F",
         "2015-05-28",
         "D2",
         "Divorced Wife",
         16,
         "686 Shields Dam",
         null,
         "Easthampton",
         "Massachusetts",
         "Hampshire County",
         "",
         "USA",
         0,
         0,
         0,
         "N/A",
         "N/A",
         null,
         "N/A",
         "1",
         "Abacus Insights",
         "-",
         "-",
         "U",
         "Unknown",
         "4.0",
         "Plan E",
         "Medical",
         "1970-01-01",
         "1970-01-01",
         null,
         null,
         null,
         null,
         "Aetna",
         "Member Enrollment",
         "2024-03-10"
        ],
        [
         "5",
         "114177-MB-F48",
         "52900",
         "114177",
         "Millicent",
         "Byrne",
         null,
         "Mrs./Ms.",
         "-",
         "F",
         "1948-04-22",
         "N",
         "Niece",
         13,
         "1009 DuBuque Ville Unit 54",
         null,
         "Springfield",
         "Massachusetts",
         "Hampden County",
         "01106",
         "USA",
         0,
         0,
         0,
         "N/A",
         "N/A",
         null,
         "N/A",
         "1",
         "Abacus Insights",
         "-",
         "-",
         "ES",
         "Employee and Spouse",
         "15.0",
         "Plan P",
         "Medical, Dental and Vision",
         "1970-01-01",
         "1970-01-01",
         "1970-01-01",
         "1970-01-01",
         "1970-01-01",
         "1970-01-01",
         "Aetna",
         "Member Enrollment",
         "2024-03-10"
        ],
        [
         "6",
         "117067-CL-F76",
         "97600",
         "117067",
         "Charley",
         "Lynn",
         null,
         "Mrs./Ms.",
         "-",
         "F",
         "1976-01-12",
         "A1",
         "Adopted Son",
         11,
         "114 Cummerata Parade",
         null,
         "West Tisbury",
         "Massachusetts",
         "Dukes County",
         "",
         "USA",
         0,
         0,
         0,
         "N/A",
         "N/A",
         null,
         "N/A",
         "1",
         "Abacus Insights",
         "-",
         "-",
         "E",
         "Employee Only",
         "10.0",
         "Plan K",
         "Medical and Vision",
         "1970-01-01",
         "1970-01-01",
         null,
         null,
         "1970-01-01",
         "1970-01-01",
         "Aetna",
         "Member Enrollment",
         "2024-03-10"
        ],
        [
         "7",
         "012745-FM-F89",
         "22000",
         "12745",
         "Flynn",
         "Morrison",
         null,
         "Mrs./Ms.",
         "-",
         "F",
         "1989-03-30",
         "M",
         "Mother",
         4,
         "164 Stokes Lodge Apt 34",
         null,
         "Winchendon",
         "Massachusetts",
         "Worcester County",
         "01475",
         "USA",
         0,
         0,
         0,
         "N/A",
         "N/A",
         null,
         "N/A",
         "1",
         "Abacus Insights",
         "-",
         "-",
         "EC",
         "Employee and Childrens",
         "15.0",
         "Plan P",
         "Medical, Dental and Vision",
         "1970-01-01",
         "1970-01-01",
         "1970-01-01",
         "1970-01-01",
         "1970-01-01",
         "1970-01-01",
         "Cigna",
         "Member Enrollment",
         "2024-03-10"
        ],
        [
         "8",
         "013466-PK-F19",
         "22900",
         "13466",
         "Pauline",
         "Knight",
         null,
         "Mrs./Ms.",
         "-",
         "F",
         "2019-05-09",
         "N",
         "Niece",
         13,
         "376 Skiles Forge Suite 48",
         null,
         "Westminster",
         "Massachusetts",
         "Worcester County",
         "",
         "USA",
         0,
         0,
         0,
         "N/A",
         "N/A",
         null,
         "N/A",
         "1",
         "Abacus Insights",
         "-",
         "-",
         "E",
         "Employee Only",
         "1.0",
         "Plan B",
         "Medical and Dental",
         "1970-01-01",
         "1970-01-01",
         "1970-01-01",
         "1970-01-01",
         null,
         null,
         "Aetna",
         "Member Enrollment",
         "2024-03-10"
        ],
        [
         "9",
         "135688-EGM-F14",
         "122500",
         "135688",
         "Elspeth",
         "Gonzalez",
         "Marliss",
         "Mrs./Ms.",
         "-",
         "F",
         "2014-09-09",
         "C2",
         "Daughter",
         6,
         "570 Nikolaus Wynd",
         null,
         "Cambridge",
         "Massachusetts",
         "Middlesex County",
         "02139",
         "USA",
         0,
         0,
         0,
         "N/A",
         "N/A",
         null,
         "N/A",
         "1",
         "Abacus Insights",
         "-",
         "-",
         "F",
         "Family",
         "10.0",
         "Plan K",
         "Medical and Vision",
         "1970-01-01",
         "1970-01-01",
         null,
         null,
         "1970-01-01",
         "1970-01-01",
         "Cigna",
         "Member Enrollment",
         "2024-03-10"
        ],
        [
         "10",
         "013587-AH-F84",
         "21800",
         "13587",
         "Amelie",
         "Harmon",
         null,
         "Mrs./Ms.",
         "-",
         "F",
         "1984-04-08",
         "D2",
         "Divorced Wife",
         16,
         "958 Robel Run Unit 83",
         null,
         "Carver",
         "Massachusetts",
         "Plymouth County",
         "",
         "USA",
         0,
         0,
         0,
         "N/A",
         "N/A",
         null,
         "N/A",
         "8",
         "TechKraft Inc",
         "-",
         "-",
         "E1C",
         "Employee and 1 Child",
         "4.0",
         "Plan E",
         "Medical",
         "1970-01-01",
         "1970-01-01",
         null,
         null,
         null,
         null,
         "Aetna",
         "Member Enrollment",
         "2024-03-10"
        ],
        [
         "11",
         "138507-LM-F10",
         "145000",
         "138507",
         "Laura",
         "Montoya",
         null,
         "Mrs./Ms.",
         "-",
         "F",
         "2010-03-29",
         "F",
         "Fiance",
         3,
         "1094 Keebler Grove",
         null,
         "Gardner",
         "Massachusetts",
         "Worcester County",
         "01440",
         "USA",
         0,
         0,
         0,
         "N/A",
         "N/A",
         null,
         "N/A",
         "1",
         "Abacus Insights",
         "-",
         "-",
         "F",
         "Family",
         "1.0",
         "Plan B",
         "Medical and Dental",
         "1970-01-01",
         "1970-01-01",
         "1970-01-01",
         "1970-01-01",
         null,
         null,
         "Cigna",
         "Member Enrollment",
         "2024-03-10"
        ],
        [
         "12",
         "138507-LM-F10",
         "145000",
         "138507",
         "Laura",
         "Montoya",
         null,
         "Mrs./Ms.",
         "-",
         "F",
         "2010-03-29",
         "F",
         "Father",
         3,
         "1094 Keebler Grove",
         null,
         "Gardner",
         "Massachusetts",
         "Worcester County",
         "01440",
         "USA",
         0,
         0,
         0,
         "N/A",
         "N/A",
         null,
         "N/A",
         "1",
         "Abacus Insights",
         "-",
         "-",
         "F",
         "Family",
         "1.0",
         "Plan B",
         "Medical and Dental",
         "1970-01-01",
         "1970-01-01",
         "1970-01-01",
         "1970-01-01",
         null,
         null,
         "Cigna",
         "Member Enrollment",
         "2024-03-10"
        ],
        [
         "13",
         "151731-JK-F19",
         "150400",
         "151731",
         "Jayden",
         "Kane",
         null,
         "Mrs./Ms.",
         "-",
         "F",
         "2019-07-08",
         "F",
         "Fiance",
         3,
         "1054 Price Glen",
         null,
         "Haverhill",
         "Massachusetts",
         "Essex County",
         "01835",
         "USA",
         0,
         0,
         0,
         "N/A",
         "N/A",
         null,
         "N/A",
         "1",
         "Abacus Insights",
         "-",
         "-",
         "E",
         "Employee Only",
         "0.0",
         "Plan A",
         "Medical",
         "1970-01-01",
         "1970-01-01",
         null,
         null,
         null,
         null,
         "Aetna",
         "Member Enrollment",
         "2024-03-10"
        ],
        [
         "14",
         "151731-JK-F19",
         "150400",
         "151731",
         "Jayden",
         "Kane",
         null,
         "Mrs./Ms.",
         "-",
         "F",
         "2019-07-08",
         "F",
         "Father",
         3,
         "1054 Price Glen",
         null,
         "Haverhill",
         "Massachusetts",
         "Essex County",
         "01835",
         "USA",
         0,
         0,
         0,
         "N/A",
         "N/A",
         null,
         "N/A",
         "1",
         "Abacus Insights",
         "-",
         "-",
         "E",
         "Employee Only",
         "0.0",
         "Plan A",
         "Medical",
         "1970-01-01",
         "1970-01-01",
         null,
         null,
         null,
         null,
         "Aetna",
         "Member Enrollment",
         "2024-03-10"
        ],
        [
         "15",
         "152105-SK-F91",
         "114100",
         "152105",
         "Safa",
         "Kelly",
         null,
         "Mrs./Ms.",
         "-",
         "F",
         "1991-08-21",
         "G3",
         "Grand Son",
         9,
         "765 Russel Pathway Unit 82",
         null,
         "Spencer",
         "Massachusetts",
         "Worcester County",
         "01562",
         "USA",
         0,
         0,
         0,
         "N/A",
         "N/A",
         null,
         "N/A",
         "8",
         "TechKraft Inc",
         "-",
         "-",
         "F",
         "Family",
         "10.0",
         "Plan K",
         "Medical and Vision",
         "1970-01-01",
         "1970-01-01",
         null,
         null,
         "1970-01-01",
         "1970-01-01",
         "Cigna",
         "Member Enrollment",
         "2024-03-10"
        ],
        [
         "16",
         "153303-AWM-F02",
         "201500",
         "153303",
         "Anika",
         "Washington",
         "Merla",
         "Mrs./Ms.",
         "-",
         "F",
         "2002-03-08",
         "F",
         "Fiance",
         3,
         "815 Rau Ramp",
         null,
         "Boston",
         "Massachusetts",
         "Suffolk County",
         "02109",
         "USA",
         0,
         0,
         0,
         "N/A",
         "N/A",
         null,
         "N/A",
         "1",
         "Abacus Insights",
         "-",
         "-",
         "E",
         "Employee Only",
         "4.0",
         "Plan E",
         "Medical",
         "1970-01-01",
         "1970-01-01",
         null,
         null,
         null,
         null,
         "Aetna",
         "Member Enrollment",
         "2024-03-10"
        ],
        [
         "17",
         "153303-AWM-F02",
         "201500",
         "153303",
         "Anika",
         "Washington",
         "Merla",
         "Mrs./Ms.",
         "-",
         "F",
         "2002-03-08",
         "F",
         "Father",
         3,
         "815 Rau Ramp",
         null,
         "Boston",
         "Massachusetts",
         "Suffolk County",
         "02109",
         "USA",
         0,
         0,
         0,
         "N/A",
         "N/A",
         null,
         "N/A",
         "1",
         "Abacus Insights",
         "-",
         "-",
         "E",
         "Employee Only",
         "4.0",
         "Plan E",
         "Medical",
         "1970-01-01",
         "1970-01-01",
         null,
         null,
         null,
         null,
         "Aetna",
         "Member Enrollment",
         "2024-03-10"
        ],
        [
         "18",
         "158915-IE-F88",
         "215600",
         "158915",
         "Inayah",
         "Evans",
         null,
         "Mrs./Ms.",
         "-",
         "F",
         "1988-06-28",
         "G3",
         "Grand Son",
         9,
         "282 Roberts Brook Suite 29",
         null,
         "Dartmouth",
         "Massachusetts",
         "Bristol County",
         "",
         "USA",
         0,
         0,
         0,
         "N/A",
         "N/A",
         null,
         "N/A",
         "8",
         "TechKraft Inc",
         "-",
         "-",
         "F",
         "Family",
         "8.0",
         "Plan I",
         "Medical",
         "1970-01-01",
         "1970-01-01",
         null,
         null,
         null,
         null,
         "Aetna",
         "Member Enrollment",
         "2024-03-10"
        ],
        [
         "19",
         "160951-AL-F12",
         "216900",
         "160951",
         "Aurora",
         "Lawson",
         null,
         "Mrs./Ms.",
         "-",
         "F",
         "2012-10-04",
         "E",
         "Self",
         1,
         "194 Robel Skyway",
         null,
         "Boston",
         "Massachusetts",
         "Suffolk County",
         "02124",
         "USA",
         0,
         0,
         0,
         "N/A",
         "N/A",
         null,
         "N/A",
         "4",
         "Digital Convergence Technologies",
         "-",
         "-",
         "EC",
         "Employee and Childrens",
         "1.0",
         "Plan B",
         "Medical and Dental",
         "1970-01-01",
         "1970-01-01",
         "1970-01-01",
         "1970-01-01",
         null,
         null,
         "Cigna",
         "Member Enrollment",
         "2024-03-10"
        ],
        [
         "20",
         "166936-RS-F57",
         "207000",
         "166936",
         "Robyn",
         "Stewart",
         null,
         "Mrs./Ms.",
         "-",
         "F",
         "1957-10-19",
         "D1",
         "Divorced Husband",
         15,
         "306 Aufderhar Grove Unit 79",
         null,
         "Palmer",
         "Massachusetts",
         "Hampden County",
         "",
         "USA",
         0,
         0,
         0,
         "N/A",
         "N/A",
         null,
         "N/A",
         "8",
         "TechKraft Inc",
         "-",
         "-",
         "E",
         "Employee Only",
         "6.0",
         "Plan G",
         "Medical and Vision",
         "1970-01-01",
         "1970-01-01",
         null,
         null,
         "1970-01-01",
         "1970-01-01",
         "Aetna",
         "Member Enrollment",
         "2024-03-10"
        ],
        [
         "21",
         "168886-LP-F61",
         "124700",
         "168886",
         "Lena",
         "Pearce",
         null,
         "Mrs./Ms.",
         "-",
         "F",
         "1961-06-22",
         "A1",
         "Adopted Son",
         11,
         "610 Harber Rapid Unit 87",
         null,
         "Greenfield",
         "Massachusetts",
         "Franklin County",
         "",
         "USA",
         0,
         0,
         0,
         "N/A",
         "N/A",
         null,
         "N/A",
         "1",
         "Abacus Insights",
         "-",
         "-",
         "ES",
         "Employee and Spouse",
         "6.0",
         "Plan G",
         "Medical and Vision",
         "1970-01-01",
         "1970-01-01",
         null,
         null,
         "1970-01-01",
         "1970-01-01",
         "Aetna",
         "Member Enrollment",
         "2024-03-10"
        ],
        [
         "22",
         "170319-KH-F16",
         "222700",
         "170319",
         "Kane",
         "Hardin",
         null,
         "Mrs./Ms.",
         "-",
         "F",
         "2016-01-29",
         "E",
         "Self",
         1,
         "971 Balistreri Vale Unit 75",
         null,
         "Southborough",
         "Massachusetts",
         "Worcester County",
         "",
         "USA",
         0,
         0,
         0,
         "N/A",
         "N/A",
         null,
         "N/A",
         "1",
         "Abacus Insights",
         "-",
         "-",
         "F",
         "Family",
         "3.0",
         "Plan D",
         "Medical, Dental and Vision",
         "1970-01-01",
         "1970-01-01",
         "1970-01-01",
         "1970-01-01",
         "1970-01-01",
         "1970-01-01",
         "Aetna",
         "Member Enrollment",
         "2024-03-10"
        ],
        [
         "23",
         "170319-NMM-F54",
         "190000",
         "170319",
         "Noor",
         "Merritt",
         "Melody",
         "Mrs./Ms.",
         "-",
         "F",
         "1954-02-18",
         "A2",
         "Adapted Daughter",
         12,
         "970 Johnston Drive Apt 25",
         null,
         "Worcester",
         "Massachusetts",
         "Worcester County",
         "01583",
         "USA",
         0,
         0,
         0,
         "N/A",
         "N/A",
         null,
         "N/A",
         "1",
         "Abacus Insights",
         "-",
         "-",
         "ES",
         "Employee and Spouse",
         "9.0",
         "Plan J",
         "Medical and Dental",
         "1970-01-01",
         "1970-01-01",
         "1970-01-01",
         "1970-01-01",
         null,
         null,
         "Aetna",
         "Member Enrollment",
         "2024-03-10"
        ],
        [
         "24",
         "170319-KJ-F03",
         "182000",
         "170319",
         "Khadijah",
         "Johnston",
         null,
         "Mrs./Ms.",
         "-",
         "F",
         "2003-06-09",
         "D2",
         "Divorced Wife",
         16,
         "252 Heller Manor Suite 56",
         null,
         "Attleboro",
         "Massachusetts",
         "Bristol County",
         "02861",
         "USA",
         0,
         0,
         0,
         "N/A",
         "N/A",
         null,
         "N/A",
         "1",
         "Abacus Insights",
         "-",
         "-",
         "F",
         "Family",
         "15.0",
         "Plan P",
         "Medical, Dental and Vision",
         "1970-01-01",
         "1970-01-01",
         "1970-01-01",
         "1970-01-01",
         "1970-01-01",
         "1970-01-01",
         "Aetna",
         "Member Enrollment",
         "2024-03-10"
        ],
        [
         "25",
         "170319-KD-F83",
         "139000",
         "170319",
         "Katy",
         "Dalton",
         null,
         "Mrs./Ms.",
         "-",
         "F",
         "1983-10-07",
         "A1",
         "Adopted Son",
         11,
         "999 Kuhn Forge",
         null,
         "Lowell",
         "Massachusetts",
         "Middlesex County",
         "01851",
         "USA",
         0,
         0,
         0,
         "N/A",
         "N/A",
         null,
         "N/A",
         "1",
         "Abacus Insights",
         "-",
         "-",
         "EC",
         "Employee and Childrens",
         "10.0",
         "Plan K",
         "Medical and Vision",
         "1970-01-01",
         "1970-01-01",
         null,
         null,
         "1970-01-01",
         "1970-01-01",
         "Cigna",
         "Member Enrollment",
         "2024-03-10"
        ],
        [
         "26",
         "170319-AW-F07",
         "157100",
         "170319",
         "Aminah",
         "Wall",
         null,
         "Mrs./Ms.",
         "-",
         "F",
         "2007-09-19",
         "G4",
         "Grand Daughter",
         10,
         "984 Kuhic Bay Apt 19",
         null,
         "Agawam",
         "Massachusetts",
         "Hampden County",
         "01030",
         "USA",
         0,
         0,
         0,
         "N/A",
         "N/A",
         null,
         "N/A",
         "4",
         "Digital Convergence Technologies",
         "-",
         "-",
         "F",
         "Family",
         "5.0",
         "Plan F",
         "Medical and Dental",
         "1970-01-01",
         "1970-01-01",
         "1970-01-01",
         "1970-01-01",
         null,
         null,
         "Aetna",
         "Member Enrollment",
         "2024-03-10"
        ],
        [
         "27",
         "209109-HE-F97",
         "110800",
         "209109",
         "Hollie",
         "Eaton",
         null,
         "Mrs./Ms.",
         "-",
         "F",
         "1997-09-20",
         "M",
         "Mother",
         4,
         "652 Kovacek Trailer Suite 29",
         null,
         "Lenox",
         "Massachusetts",
         "Berkshire County",
         "01240",
         "USA",
         0,
         0,
         0,
         "N/A",
         "N/A",
         null,
         "N/A",
         "8",
         "TechKraft Inc",
         "-",
         "-",
         "E1C",
         "Employee and 1 Child",
         "8.0",
         "Plan I",
         "Medical",
         "1970-01-01",
         "1970-01-01",
         null,
         null,
         null,
         null,
         "Cigna",
         "Member Enrollment",
         "2024-03-10"
        ],
        [
         "28",
         "213741-SL-F08",
         "158600",
         "213741",
         "Siobhan",
         "Lin",
         null,
         "Mrs./Ms.",
         "-",
         "F",
         "2008-01-24",
         "A2",
         "Adapted Daughter",
         12,
         "611 Williamson Loaf Apt 44",
         null,
         "Somerville",
         "Massachusetts",
         "Middlesex County",
         "02138",
         "USA",
         0,
         0,
         0,
         "N/A",
         "N/A",
         null,
         "N/A",
         "1",
         "Abacus Insights",
         "-",
         "-",
         "EP",
         "Employee and Parents",
         "14.0",
         "Plan O",
         "Medical and Vision",
         "1970-01-01",
         "1970-01-01",
         null,
         null,
         "1970-01-01",
         "1970-01-01",
         "Cigna",
         "Member Enrollment",
         "2024-03-10"
        ],
        [
         "29",
         "215316-MZ-F50",
         "190600",
         "215316",
         "Marley",
         "Zamora",
         null,
         "Mrs./Ms.",
         "-",
         "F",
         "1950-06-05",
         "A2",
         "Adapted Daughter",
         12,
         "289 Brown Glen Unit 6",
         null,
         "Revere",
         "Massachusetts",
         "Suffolk County",
         "02151",
         "USA",
         0,
         0,
         0,
         "N/A",
         "N/A",
         null,
         "N/A",
         "2",
         "Google",
         "-",
         "-",
         "U",
         "Unknown",
         "5.0",
         "Plan F",
         "Medical and Dental",
         "1970-01-01",
         "1970-01-01",
         "1970-01-01",
         "1970-01-01",
         null,
         null,
         "Aetna",
         "Member Enrollment",
         "2024-03-10"
        ],
        [
         "30",
         "022190-ARM-F67",
         "21700",
         "22190",
         "Alessia",
         "Romero",
         "Mariel",
         "Mrs./Ms.",
         "-",
         "F",
         "1967-07-12",
         "G4",
         "Grand Daughter",
         10,
         "913 Schiller Well Apt 80",
         null,
         "Burlington",
         "Massachusetts",
         "Middlesex County",
         "01803",
         "USA",
         0,
         0,
         0,
         "N/A",
         "N/A",
         null,
         "N/A",
         "1",
         "Abacus Insights",
         "-",
         "-",
         "EC",
         "Employee and Childrens",
         "0.0",
         "Plan A",
         "Medical",
         "1970-01-01",
         "1970-01-01",
         null,
         null,
         null,
         null,
         "Aetna",
         "Member Enrollment",
         "2024-03-10"
        ],
        [
         "31",
         "223770-AC-F52",
         "216300",
         "223770",
         "Adrian",
         "Collins",
         null,
         "Mrs./Ms.",
         "-",
         "F",
         "1952-05-10",
         "C2",
         "Daughter",
         6,
         "217 Will Well Unit 1",
         null,
         "Boston",
         "Massachusetts",
         "Suffolk County",
         "02110",
         "USA",
         0,
         0,
         0,
         "N/A",
         "N/A",
         null,
         "N/A",
         "3",
         "Facebook",
         "-",
         "-",
         "EC",
         "Employee and Childrens",
         "9.0",
         "Plan J",
         "Medical and Dental",
         "1970-01-01",
         "1970-01-01",
         "1970-01-01",
         "1970-01-01",
         null,
         null,
         "Aetna",
         "Member Enrollment",
         "2024-03-10"
        ],
        [
         "32",
         "226237-BO-F94",
         "218500",
         "226237",
         "Belle",
         "O'Gallagher",
         null,
         "Mrs./Ms.",
         "-",
         "F",
         "1994-05-05",
         "C1",
         "Son",
         5,
         "900 Paucek Way",
         null,
         "Newton",
         "Massachusetts",
         "Middlesex County",
         "",
         "USA",
         0,
         0,
         0,
         "N/A",
         "N/A",
         null,
         "N/A",
         "1",
         "Abacus Insights",
         "-",
         "-",
         "F",
         "Family",
         "2.0",
         "Plan C",
         "Medical and Vision",
         "1970-01-01",
         "1970-01-01",
         null,
         null,
         "1970-01-01",
         "1970-01-01",
         "Cigna",
         "Member Enrollment",
         "2024-03-10"
        ],
        [
         "33",
         "226967-CW-F16",
         "37600",
         "226967",
         "Chelsea",
         "Whitehead",
         null,
         "Mrs./Ms.",
         "-",
         "F",
         "2016-03-22",
         "F",
         "Fiance",
         3,
         "255 Ondricka Common",
         null,
         "Deerfield",
         "Massachusetts",
         "Franklin County",
         "",
         "USA",
         0,
         0,
         0,
         "N/A",
         "N/A",
         null,
         "N/A",
         "1",
         "Abacus Insights",
         "-",
         "-",
         "ES",
         "Employee and Spouse",
         "15.0",
         "Plan P",
         "Medical, Dental and Vision",
         "1970-01-01",
         "1970-01-01",
         "1970-01-01",
         "1970-01-01",
         "1970-01-01",
         "1970-01-01",
         "Aetna",
         "Member Enrollment",
         "2024-03-10"
        ],
        [
         "34",
         "226967-CW-F16",
         "37600",
         "226967",
         "Chelsea",
         "Whitehead",
         null,
         "Mrs./Ms.",
         "-",
         "F",
         "2016-03-22",
         "F",
         "Father",
         3,
         "255 Ondricka Common",
         null,
         "Deerfield",
         "Massachusetts",
         "Franklin County",
         "",
         "USA",
         0,
         0,
         0,
         "N/A",
         "N/A",
         null,
         "N/A",
         "1",
         "Abacus Insights",
         "-",
         "-",
         "ES",
         "Employee and Spouse",
         "15.0",
         "Plan P",
         "Medical, Dental and Vision",
         "1970-01-01",
         "1970-01-01",
         "1970-01-01",
         "1970-01-01",
         "1970-01-01",
         "1970-01-01",
         "Aetna",
         "Member Enrollment",
         "2024-03-10"
        ],
        [
         "35",
         "027570-MTM-F81",
         "93800",
         "27570",
         "Maeve",
         "Tucker",
         "Manuela",
         "Mrs./Ms.",
         "-",
         "F",
         "1981-09-08",
         "M",
         "Mother",
         4,
         "836 Willms Flat Suite 54",
         null,
         "Watertown",
         "Massachusetts",
         "Middlesex County",
         "",
         "USA",
         0,
         0,
         0,
         "N/A",
         "N/A",
         null,
         "N/A",
         "1",
         "Abacus Insights",
         "-",
         "-",
         "E1C",
         "Employee and 1 Child",
         "3.0",
         "Plan D",
         "Medical, Dental and Vision",
         "1970-01-01",
         "1970-01-01",
         "1970-01-01",
         "1970-01-01",
         "1970-01-01",
         "1970-01-01",
         "Cigna",
         "Member Enrollment",
         "2024-03-10"
        ],
        [
         "36",
         "029764-LC-F75",
         "33500",
         "29764",
         "Lenny",
         "Coleman",
         null,
         "Mrs./Ms.",
         "-",
         "F",
         "1975-09-26",
         "N",
         "Niece",
         13,
         "820 Willms Mews",
         null,
         "Stow",
         "Massachusetts",
         "Middlesex County",
         "",
         "USA",
         0,
         0,
         0,
         "N/A",
         "N/A",
         null,
         "N/A",
         "8",
         "TechKraft Inc",
         "-",
         "-",
         "F",
         "Family",
         "14.0",
         "Plan O",
         "Medical and Vision",
         "1970-01-01",
         "1970-01-01",
         null,
         null,
         "1970-01-01",
         "1970-01-01",
         "Aetna",
         "Member Enrollment",
         "2024-03-10"
        ],
        [
         "37",
         "029931-ML-F57",
         "58800",
         "29931",
         "Meredith",
         "Lewis",
         null,
         "Mrs./Ms.",
         "-",
         "F",
         "1957-06-24",
         "D2",
         "Divorced Wife",
         16,
         "451 Buckridge Harbor",
         null,
         "Attleboro",
         "Massachusetts",
         "Bristol County",
         "",
         "USA",
         0,
         0,
         0,
         "N/A",
         "N/A",
         null,
         "N/A",
         "1",
         "Abacus Insights",
         "-",
         "-",
         "E1C",
         "Employee and 1 Child",
         "4.0",
         "Plan E",
         "Medical",
         "1970-01-01",
         "1970-01-01",
         null,
         null,
         null,
         null,
         "Cigna",
         "Member Enrollment",
         "2024-03-10"
        ],
        [
         "38",
         "033500-SF-F70",
         "106900",
         "33500",
         "Stella",
         "Franklin",
         null,
         "Mrs./Ms.",
         "-",
         "F",
         "1970-04-18",
         "G1",
         "Grand Father",
         7,
         "818 Bogan Ville",
         null,
         "Westport",
         "Massachusetts",
         "Bristol County",
         "",
         "USA",
         0,
         0,
         0,
         "N/A",
         "N/A",
         null,
         "N/A",
         "8",
         "TechKraft Inc",
         "-",
         "-",
         "U",
         "Unknown",
         "12.0",
         "Plan M",
         "Medical",
         "1970-01-01",
         "1970-01-01",
         null,
         null,
         null,
         null,
         "Cigna",
         "Member Enrollment",
         "2024-03-10"
        ],
        [
         "39",
         "003975-CM-F69",
         "93100",
         "3975",
         "Cecilia",
         "Mayer",
         null,
         "Mrs./Ms.",
         "-",
         "F",
         "1969-01-18",
         "C1",
         "Son",
         5,
         "419 Beatty Gardens",
         null,
         "Boston",
         "Massachusetts",
         "Suffolk County",
         "02111",
         "USA",
         0,
         0,
         0,
         "N/A",
         "N/A",
         null,
         "N/A",
         "8",
         "TechKraft Inc",
         "-",
         "-",
         "U",
         "Unknown",
         "15.0",
         "Plan P",
         "Medical, Dental and Vision",
         "1970-01-01",
         "1970-01-01",
         "1970-01-01",
         "1970-01-01",
         "1970-01-01",
         "1970-01-01",
         "Aetna",
         "Member Enrollment",
         "2024-03-10"
        ],
        [
         "40",
         "039986-GL-F03",
         "17200",
         "39986",
         "Georgiana",
         "Livingston",
         null,
         "Mrs./Ms.",
         "-",
         "F",
         "2003-09-21",
         "G4",
         "Grand Daughter",
         10,
         "814 Blick Avenue Unit 22",
         null,
         "Wayland",
         "Massachusetts",
         "Middlesex County",
         "",
         "USA",
         0,
         0,
         0,
         "N/A",
         "N/A",
         null,
         "N/A",
         "4",
         "Digital Convergence Technologies",
         "-",
         "-",
         "EC",
         "Employee and Childrens",
         "0.0",
         "Plan A",
         "Medical",
         "1970-01-01",
         "1970-01-01",
         null,
         null,
         null,
         null,
         "Cigna",
         "Member Enrollment",
         "2024-03-10"
        ],
        [
         "41",
         "041842-MTM-F60",
         "32700",
         "41842",
         "Maya",
         "Townsend",
         "Merilyn",
         "Mrs./Ms.",
         "-",
         "F",
         "1960-12-30",
         "G2",
         "Grand Mother",
         8,
         "763 Smitham Rue",
         null,
         "Worthington",
         "Massachusetts",
         "Hampshire County",
         "",
         "USA",
         0,
         0,
         0,
         "N/A",
         "N/A",
         null,
         "N/A",
         "1",
         "Abacus Insights",
         "-",
         "-",
         "ES",
         "Employee and Spouse",
         "1.0",
         "Plan B",
         "Medical and Dental",
         "1970-01-01",
         "1970-01-01",
         "1970-01-01",
         "1970-01-01",
         null,
         null,
         "Aetna",
         "Member Enrollment",
         "2024-03-10"
        ],
        [
         "42",
         "044147-EH-F20",
         "22700",
         "44147",
         "Emelia",
         "Hobbs",
         null,
         "Mrs./Ms.",
         "-",
         "F",
         "2020-05-22",
         "E",
         "Self",
         1,
         "810 Pfannerstill Underpass",
         null,
         "Springfield",
         "Massachusetts",
         "Hampden County",
         "",
         "USA",
         0,
         0,
         0,
         "N/A",
         "N/A",
         null,
         "N/A",
         "1",
         "Abacus Insights",
         "-",
         "-",
         "U",
         "Unknown",
         "4.0",
         "Plan E",
         "Medical",
         "1970-01-01",
         "1970-01-01",
         null,
         null,
         null,
         null,
         "Cigna",
         "Member Enrollment",
         "2024-03-10"
        ],
        [
         "43",
         "044147-LMM-F14",
         "46700",
         "44147",
         "Lana",
         "Mckenzie",
         "Milissa",
         "Mrs./Ms.",
         "-",
         "F",
         "2014-04-03",
         "A2",
         "Adapted Daughter",
         12,
         "1014 Hilpert Skyway Apt 68",
         null,
         "North Brookfield",
         "Massachusetts",
         "Worcester County",
         "01535",
         "USA",
         0,
         0,
         0,
         "N/A",
         "N/A",
         null,
         "N/A",
         "4",
         "Digital Convergence Technologies",
         "-",
         "-",
         "E",
         "Employee Only",
         "5.0",
         "Plan F",
         "Medical and Dental",
         "1970-01-01",
         "1970-01-01",
         "1970-01-01",
         "1970-01-01",
         null,
         null,
         "Cigna",
         "Member Enrollment",
         "2024-03-10"
        ],
        [
         "44",
         "044147-RB-F11",
         "27400",
         "44147",
         "Rio",
         "Blair",
         null,
         "Mrs./Ms.",
         "-",
         "F",
         "2011-07-22",
         "D1",
         "Divorced Husband",
         15,
         "422 Farrell Path Unit 69",
         null,
         "Somerville",
         "Massachusetts",
         "Middlesex County",
         "02143",
         "USA",
         0,
         0,
         0,
         "N/A",
         "N/A",
         null,
         "N/A",
         "1",
         "Abacus Insights",
         "-",
         "-",
         "E1C",
         "Employee and 1 Child",
         "6.0",
         "Plan G",
         "Medical and Vision",
         "1970-01-01",
         "1970-01-01",
         null,
         null,
         "1970-01-01",
         "1970-01-01",
         "Cigna",
         "Member Enrollment",
         "2024-03-10"
        ],
        [
         "45",
         "044147-DSM-F21",
         "14000",
         "44147",
         "Demi-Leigh",
         "Sanders",
         "Myrtle",
         "Mrs./Ms.",
         "-",
         "F",
         "2021-01-14",
         "C1",
         "Son",
         5,
         "746 Weissnat Landing",
         null,
         "Boston",
         "Massachusetts",
         "Suffolk County",
         "02203",
         "USA",
         0,
         0,
         0,
         "N/A",
         "N/A",
         null,
         "N/A",
         "1",
         "Abacus Insights",
         "-",
         "-",
         "F",
         "Family",
         "6.0",
         "Plan G",
         "Medical and Vision",
         "1970-01-01",
         "1970-01-01",
         null,
         null,
         "1970-01-01",
         "1970-01-01",
         "Aetna",
         "Member Enrollment",
         "2024-03-10"
        ],
        [
         "46",
         "049044-JW-F11",
         "36400",
         "49044",
         "Jenny",
         "Wells",
         null,
         "Mrs./Ms.",
         "-",
         "F",
         "2011-09-22",
         "F",
         "Fiance",
         3,
         "574 Kunze Grove Apt 45",
         null,
         "Lowell",
         "Massachusetts",
         "Middlesex County",
         "",
         "USA",
         0,
         0,
         0,
         "N/A",
         "N/A",
         null,
         "N/A",
         "1",
         "Abacus Insights",
         "-",
         "-",
         "EC",
         "Employee and Childrens",
         "4.0",
         "Plan E",
         "Medical",
         "1970-01-01",
         "1970-01-01",
         null,
         null,
         null,
         null,
         "Cigna",
         "Member Enrollment",
         "2024-03-10"
        ],
        [
         "47",
         "049044-JW-F11",
         "36400",
         "49044",
         "Jenny",
         "Wells",
         null,
         "Mrs./Ms.",
         "-",
         "F",
         "2011-09-22",
         "F",
         "Father",
         3,
         "574 Kunze Grove Apt 45",
         null,
         "Lowell",
         "Massachusetts",
         "Middlesex County",
         "",
         "USA",
         0,
         0,
         0,
         "N/A",
         "N/A",
         null,
         "N/A",
         "1",
         "Abacus Insights",
         "-",
         "-",
         "EC",
         "Employee and Childrens",
         "4.0",
         "Plan E",
         "Medical",
         "1970-01-01",
         "1970-01-01",
         null,
         null,
         null,
         null,
         "Cigna",
         "Member Enrollment",
         "2024-03-10"
        ],
        [
         "48",
         "005185-WM-F83",
         "44800",
         "5185",
         "Wade",
         "Mills",
         null,
         "Mrs./Ms.",
         "-",
         "F",
         "1983-02-04",
         "C1",
         "Son",
         5,
         "137 Miller Meadow",
         null,
         "Boston",
         "Massachusetts",
         "Suffolk County",
         "02126",
         "USA",
         0,
         0,
         0,
         "N/A",
         "N/A",
         null,
         "N/A",
         "1",
         "Abacus Insights",
         "-",
         "-",
         "E",
         "Employee Only",
         "3.0",
         "Plan D",
         "Medical, Dental and Vision",
         "1970-01-01",
         "1970-01-01",
         "1970-01-01",
         "1970-01-01",
         "1970-01-01",
         "1970-01-01",
         "Cigna",
         "Member Enrollment",
         "2024-03-10"
        ],
        [
         "49",
         "068739-SC-F74",
         "203300",
         "68739",
         "Savanna",
         "Cannon",
         null,
         "Mrs./Ms.",
         "-",
         "F",
         "1974-09-20",
         "C2",
         "Daughter",
         6,
         "954 Marvin Ferry",
         null,
         "Marlborough",
         "Massachusetts",
         "Middlesex County",
         "01752",
         "USA",
         0,
         0,
         0,
         "N/A",
         "N/A",
         null,
         "N/A",
         "1",
         "Abacus Insights",
         "-",
         "-",
         "U",
         "Unknown",
         "5.0",
         "Plan F",
         "Medical and Dental",
         "1970-01-01",
         "1970-01-01",
         "1970-01-01",
         "1970-01-01",
         null,
         null,
         "Cigna",
         "Member Enrollment",
         "2024-03-10"
        ],
        [
         "50",
         "076014-JW-F12",
         "90300",
         "76014",
         "Jemima",
         "Wagner",
         null,
         "Mrs./Ms.",
         "-",
         "F",
         "2012-12-14",
         "G4",
         "Grand Daughter",
         10,
         "818 Rau Fort",
         null,
         "Boston",
         "Massachusetts",
         "Suffolk County",
         "02115",
         "USA",
         0,
         0,
         0,
         "N/A",
         "N/A",
         null,
         "N/A",
         "1",
         "Abacus Insights",
         "-",
         "-",
         "F",
         "Family",
         "10.0",
         "Plan K",
         "Medical and Vision",
         "1970-01-01",
         "1970-01-01",
         null,
         null,
         "1970-01-01",
         "1970-01-01",
         "Aetna",
         "Member Enrollment",
         "2024-03-10"
        ],
        [
         "51",
         "076100-KH-F61",
         "90500",
         "76100",
         "Kye",
         "Henderson",
         null,
         "Mrs./Ms.",
         "-",
         "F",
         "1961-07-19",
         "C2",
         "Daughter",
         6,
         "1080 Sawayn Gateway Suite 9",
         null,
         "Framingham",
         "Massachusetts",
         "Middlesex County",
         "01701",
         "USA",
         0,
         0,
         0,
         "N/A",
         "N/A",
         null,
         "N/A",
         "1",
         "Abacus Insights",
         "-",
         "-",
         "EP",
         "Employee and Parents",
         "11.0",
         "Plan L",
         "Medical, Dental and Vision",
         "1970-01-01",
         "1970-01-01",
         "1970-01-01",
         "1970-01-01",
         "1970-01-01",
         "1970-01-01",
         "Aetna",
         "Member Enrollment",
         "2024-03-10"
        ],
        [
         "52",
         "083026-BHM-F74",
         "112400",
         "83026",
         "Briony",
         "Hampton",
         "Marylou",
         "Mrs./Ms.",
         "-",
         "F",
         "1974-10-03",
         "A2",
         "Adapted Daughter",
         12,
         "923 Boyle Dale Apt 44",
         null,
         "Boston",
         "Massachusetts",
         "Suffolk County",
         "02113",
         "USA",
         0,
         0,
         0,
         "N/A",
         "N/A",
         null,
         "N/A",
         "1",
         "Abacus Insights",
         "-",
         "-",
         "U",
         "Unknown",
         "10.0",
         "Plan K",
         "Medical and Vision",
         "1970-01-01",
         "1970-01-01",
         null,
         null,
         "1970-01-01",
         "1970-01-01",
         "Aetna",
         "Member Enrollment",
         "2024-03-10"
        ],
        [
         "53",
         "084379-IB-F60",
         "160400",
         "84379",
         "Isabel",
         "Ballard",
         null,
         "Mrs./Ms.",
         "-",
         "F",
         "1960-04-10",
         "N",
         "Niece",
         13,
         "330 Hermiston Trafficway",
         null,
         "Westborough",
         "Massachusetts",
         "Worcester County",
         "",
         "USA",
         0,
         0,
         0,
         "N/A",
         "N/A",
         null,
         "N/A",
         "8",
         "TechKraft Inc",
         "-",
         "-",
         "E",
         "Employee Only",
         "1.0",
         "Plan B",
         "Medical and Dental",
         "1970-01-01",
         "1970-01-01",
         "1970-01-01",
         "1970-01-01",
         null,
         null,
         "Cigna",
         "Member Enrollment",
         "2024-03-10"
        ],
        [
         "54",
         "085789-EM-F54",
         "74800",
         "85789",
         "Ebony",
         "Mcmahon",
         null,
         "Mrs./Ms.",
         "-",
         "F",
         "1954-01-14",
         "G2",
         "Grand Mother",
         8,
         "358 Mann Junction Suite 98",
         null,
         "Holliston",
         "Massachusetts",
         "Middlesex County",
         "",
         "USA",
         0,
         0,
         0,
         "N/A",
         "N/A",
         null,
         "N/A",
         "3",
         "Facebook",
         "-",
         "-",
         "F",
         "Family",
         "9.0",
         "Plan J",
         "Medical and Dental",
         "1970-01-01",
         "1970-01-01",
         "1970-01-01",
         "1970-01-01",
         null,
         null,
         "Aetna",
         "Member Enrollment",
         "2024-03-10"
        ],
        [
         "55",
         "090659-LW-F86",
         "55900",
         "90659",
         "Lydia",
         "Watson",
         null,
         "Mrs./Ms.",
         "-",
         "F",
         "1986-12-06",
         "A2",
         "Adapted Daughter",
         12,
         "234 McLaughlin Station Suite 21",
         null,
         "Boston",
         "Massachusetts",
         "Suffolk County",
         "02134",
         "USA",
         0,
         0,
         0,
         "N/A",
         "N/A",
         null,
         "N/A",
         "8",
         "TechKraft Inc",
         "-",
         "-",
         "ES",
         "Employee and Spouse",
         "4.0",
         "Plan E",
         "Medical",
         "1970-01-01",
         "1970-01-01",
         null,
         null,
         null,
         null,
         "Aetna",
         "Member Enrollment",
         "2024-03-10"
        ],
        [
         "56",
         "092762-SA-F03",
         "65100",
         "92762",
         "Sallie",
         "Aguilar",
         null,
         "Mrs./Ms.",
         "-",
         "F",
         "2003-05-26",
         "G3",
         "Grand Son",
         9,
         "1031 Rempel Parade",
         null,
         "Sandwich",
         "Massachusetts",
         "Barnstable County",
         "",
         "USA",
         0,
         0,
         0,
         "N/A",
         "N/A",
         null,
         "N/A",
         "1",
         "Abacus Insights",
         "-",
         "-",
         "EC",
         "Employee and Childrens",
         "15.0",
         "Plan P",
         "Medical, Dental and Vision",
         "1970-01-01",
         "1970-01-01",
         "1970-01-01",
         "1970-01-01",
         "1970-01-01",
         "1970-01-01",
         "Aetna",
         "Member Enrollment",
         "2024-03-10"
        ],
        [
         "57",
         "092943-DC-F99",
         "75800",
         "92943",
         "Dora",
         "Curtis",
         null,
         "Mrs./Ms.",
         "-",
         "F",
         "1999-09-25",
         "D2",
         "Divorced Wife",
         16,
         "864 Legros Alley",
         null,
         "Holliston",
         "Massachusetts",
         "Middlesex County",
         "",
         "USA",
         0,
         0,
         0,
         "N/A",
         "N/A",
         null,
         "N/A",
         "1",
         "Abacus Insights",
         "-",
         "-",
         "EC",
         "Employee and Childrens",
         "6.0",
         "Plan G",
         "Medical and Vision",
         "1970-01-01",
         "1970-01-01",
         null,
         null,
         "1970-01-01",
         "1970-01-01",
         "Cigna",
         "Member Enrollment",
         "2024-03-10"
        ],
        [
         "58",
         "094524-SW-F15",
         "66200",
         "94524",
         "Scarlet",
         "Wright",
         null,
         "Mrs./Ms.",
         "-",
         "F",
         "2015-01-06",
         "F",
         "Fiance",
         3,
         "370 Grant Park",
         null,
         "Somerset",
         "Massachusetts",
         "Bristol County",
         "",
         "USA",
         0,
         0,
         0,
         "N/A",
         "N/A",
         null,
         "N/A",
         "1",
         "Abacus Insights",
         "-",
         "-",
         "U",
         "Unknown",
         "6.0",
         "Plan G",
         "Medical and Vision",
         "1970-01-01",
         "1970-01-01",
         null,
         null,
         "1970-01-01",
         "1970-01-01",
         "Aetna",
         "Member Enrollment",
         "2024-03-10"
        ],
        [
         "59",
         "094524-SW-F15",
         "66200",
         "94524",
         "Scarlet",
         "Wright",
         null,
         "Mrs./Ms.",
         "-",
         "F",
         "2015-01-06",
         "F",
         "Father",
         3,
         "370 Grant Park",
         null,
         "Somerset",
         "Massachusetts",
         "Bristol County",
         "",
         "USA",
         0,
         0,
         0,
         "N/A",
         "N/A",
         null,
         "N/A",
         "1",
         "Abacus Insights",
         "-",
         "-",
         "U",
         "Unknown",
         "6.0",
         "Plan G",
         "Medical and Vision",
         "1970-01-01",
         "1970-01-01",
         null,
         null,
         "1970-01-01",
         "1970-01-01",
         "Aetna",
         "Member Enrollment",
         "2024-03-10"
        ],
        [
         "60",
         "010538-CM-M73",
         "39900",
         "10538",
         "Casey",
         "Marsh",
         null,
         "Mr.",
         "-",
         "M",
         "1973-05-06",
         "G2",
         "Grand Mother",
         8,
         "892 Dibbert Port Suite 41",
         null,
         "Norwood",
         "Massachusetts",
         "Norfolk County",
         "",
         "USA",
         0,
         0,
         0,
         "N/A",
         "N/A",
         null,
         "N/A",
         "8",
         "TechKraft Inc",
         "-",
         "-",
         "EC",
         "Employee and Childrens",
         "3.0",
         "Plan D",
         "Medical, Dental and Vision",
         "1970-01-01",
         "1970-01-01",
         "1970-01-01",
         "1970-01-01",
         "1970-01-01",
         "1970-01-01",
         "Cigna",
         "Member Enrollment",
         "2024-03-10"
        ],
        [
         "61",
         "011338-LWJ-M01",
         "91400",
         "11338",
         "Lucas",
         "Winters",
         "Javier",
         "Mr.",
         "-",
         "M",
         "2001-01-18",
         "D2",
         "Divorced Wife",
         16,
         "1072 Hagenes Crossing",
         null,
         "Woburn",
         "Massachusetts",
         "Middlesex County",
         "",
         "USA",
         0,
         0,
         0,
         "N/A",
         "N/A",
         null,
         "N/A",
         "1",
         "Abacus Insights",
         "-",
         "-",
         "E",
         "Employee Only",
         "15.0",
         "Plan P",
         "Medical, Dental and Vision",
         "1970-01-01",
         "1970-01-01",
         "1970-01-01",
         "1970-01-01",
         "1970-01-01",
         "1970-01-01",
         "Cigna",
         "Member Enrollment",
         "2024-03-10"
        ],
        [
         "62",
         "113830-LM-M08",
         "52200",
         "113830",
         "Lewys",
         "Maddox",
         null,
         "Mr.",
         "-",
         "M",
         "2008-01-18",
         "D1",
         "Divorced Husband",
         15,
         "214 Hane Course Unit 68",
         null,
         "Westford",
         "Massachusetts",
         "Middlesex County",
         "",
         "USA",
         0,
         0,
         0,
         "N/A",
         "N/A",
         null,
         "N/A",
         "4",
         "Digital Convergence Technologies",
         "-",
         "-",
         "E",
         "Employee Only",
         "14.0",
         "Plan O",
         "Medical and Vision",
         "1970-01-01",
         "1970-01-01",
         null,
         null,
         "1970-01-01",
         "1970-01-01",
         "Cigna",
         "Member Enrollment",
         "2024-03-10"
        ],
        [
         "63",
         "115963-ZS-M79",
         "49100",
         "115963",
         "Zac",
         "Suarez",
         null,
         "Mr.",
         "-",
         "M",
         "1979-09-24",
         "N",
         "Niece",
         13,
         "128 Stiedemann Gardens Apt 64",
         null,
         "Needham",
         "Massachusetts",
         "Norfolk County",
         "02494",
         "USA",
         0,
         0,
         0,
         "N/A",
         "N/A",
         null,
         "N/A",
         "8",
         "TechKraft Inc",
         "-",
         "-",
         "E1C",
         "Employee and 1 Child",
         "10.0",
         "Plan K",
         "Medical and Vision",
         "1970-01-01",
         "1970-01-01",
         null,
         null,
         "1970-01-01",
         "1970-01-01",
         "Cigna",
         "Member Enrollment",
         "2024-03-10"
        ],
        [
         "64",
         "121160-MC-M94",
         "102200",
         "121160",
         "Mohammad",
         "Cox",
         null,
         "Mr.",
         "-",
         "M",
         "1994-09-30",
         "F",
         "Fiance",
         3,
         "755 Hirthe Underpass",
         null,
         "Milford",
         "Massachusetts",
         "Worcester County",
         "",
         "USA",
         0,
         0,
         0,
         "N/A",
         "N/A",
         null,
         "N/A",
         "1",
         "Abacus Insights",
         "-",
         "-",
         "E1C",
         "Employee and 1 Child",
         "5.0",
         "Plan F",
         "Medical and Dental",
         "1970-01-01",
         "1970-01-01",
         "1970-01-01",
         "1970-01-01",
         null,
         null,
         "Aetna",
         "Member Enrollment",
         "2024-03-10"
        ],
        [
         "65",
         "121160-MC-M94",
         "102200",
         "121160",
         "Mohammad",
         "Cox",
         null,
         "Mr.",
         "-",
         "M",
         "1994-09-30",
         "F",
         "Father",
         3,
         "755 Hirthe Underpass",
         null,
         "Milford",
         "Massachusetts",
         "Worcester County",
         "",
         "USA",
         0,
         0,
         0,
         "N/A",
         "N/A",
         null,
         "N/A",
         "1",
         "Abacus Insights",
         "-",
         "-",
         "E1C",
         "Employee and 1 Child",
         "5.0",
         "Plan F",
         "Medical and Dental",
         "1970-01-01",
         "1970-01-01",
         "1970-01-01",
         "1970-01-01",
         null,
         null,
         "Aetna",
         "Member Enrollment",
         "2024-03-10"
        ],
        [
         "66",
         "137952-RH-M90",
         "133600",
         "137952",
         "Rehan",
         "Hatfield",
         null,
         "Mr.",
         "-",
         "M",
         "1990-09-07",
         "D1",
         "Divorced Husband",
         15,
         "937 Ryan Neck",
         null,
         "Haverhill",
         "Massachusetts",
         "Essex County",
         "01832",
         "USA",
         0,
         0,
         0,
         "N/A",
         "N/A",
         null,
         "N/A",
         "3",
         "Facebook",
         "-",
         "-",
         "EC",
         "Employee and Childrens",
         "7.0",
         "Plan H",
         "Medical, Dental and Vision",
         "1970-01-01",
         "1970-01-01",
         "1970-01-01",
         "1970-01-01",
         "1970-01-01",
         "1970-01-01",
         "Aetna",
         "Member Enrollment",
         "2024-03-10"
        ],
        [
         "67",
         "145520-FRK-M94",
         "193900",
         "145520",
         "Francesco",
         "Rivera",
         "Kristopher",
         "Mr.",
         "-",
         "M",
         "1994-11-04",
         "M",
         "Mother",
         4,
         "837 Mills Dam",
         null,
         "Somerville",
         "Massachusetts",
         "Middlesex County",
         "02140",
         "USA",
         0,
         0,
         0,
         "N/A",
         "N/A",
         null,
         "N/A",
         "8",
         "TechKraft Inc",
         "-",
         "-",
         "E1C",
         "Employee and 1 Child",
         "12.0",
         "Plan M",
         "Medical",
         "1970-01-01",
         "1970-01-01",
         null,
         null,
         null,
         null,
         "Cigna",
         "Member Enrollment",
         "2024-03-10"
        ],
        [
         "68",
         "147036-CC-M77",
         "126500",
         "147036",
         "Calvin",
         "Cabrera",
         null,
         "Mr.",
         "-",
         "M",
         "1977-11-12",
         "F",
         "Fiance",
         3,
         "528 Lowe Lodge",
         null,
         "Lowell",
         "Massachusetts",
         "Middlesex County",
         "01854",
         "USA",
         0,
         0,
         0,
         "N/A",
         "N/A",
         null,
         "N/A",
         "1",
         "Abacus Insights",
         "-",
         "-",
         "ES",
         "Employee and Spouse",
         "2.0",
         "Plan C",
         "Medical and Vision",
         "1970-01-01",
         "1970-01-01",
         null,
         null,
         "1970-01-01",
         "1970-01-01",
         "Cigna",
         "Member Enrollment",
         "2024-03-10"
        ],
        [
         "69",
         "147036-CC-M77",
         "126500",
         "147036",
         "Calvin",
         "Cabrera",
         null,
         "Mr.",
         "-",
         "M",
         "1977-11-12",
         "F",
         "Father",
         3,
         "528 Lowe Lodge",
         null,
         "Lowell",
         "Massachusetts",
         "Middlesex County",
         "01854",
         "USA",
         0,
         0,
         0,
         "N/A",
         "N/A",
         null,
         "N/A",
         "1",
         "Abacus Insights",
         "-",
         "-",
         "ES",
         "Employee and Spouse",
         "2.0",
         "Plan C",
         "Medical and Vision",
         "1970-01-01",
         "1970-01-01",
         null,
         null,
         "1970-01-01",
         "1970-01-01",
         "Cigna",
         "Member Enrollment",
         "2024-03-10"
        ],
        [
         "70",
         "147970-FD-M16",
         "208500",
         "147970",
         "Faith",
         "Donnelly",
         null,
         "Mr.",
         "-",
         "M",
         "2016-05-30",
         "M",
         "Mother",
         4,
         "164 Stokes Lodge Apt 34",
         null,
         "Winchendon",
         "Massachusetts",
         "Worcester County",
         "01475",
         "USA",
         0,
         0,
         0,
         "N/A",
         "N/A",
         null,
         "N/A",
         "1",
         "Abacus Insights",
         "-",
         "-",
         "U",
         "Unknown",
         "10.0",
         "Plan K",
         "Medical and Vision",
         "1970-01-01",
         "1970-01-01",
         null,
         null,
         "1970-01-01",
         "1970-01-01",
         "Aetna",
         "Member Enrollment",
         "2024-03-10"
        ],
        [
         "71",
         "150505-DT-M60",
         "176200",
         "150505",
         "Damon",
         "Taylor",
         null,
         "Mr.",
         "-",
         "M",
         "1960-02-06",
         "M",
         "Mother",
         4,
         "975 Murphy Tunnel Apt 27",
         null,
         "Plymouth",
         "Massachusetts",
         "Plymouth County",
         "02360",
         "USA",
         0,
         0,
         0,
         "N/A",
         "N/A",
         null,
         "N/A",
         "1",
         "Abacus Insights",
         "-",
         "-",
         "E",
         "Employee Only",
         "15.0",
         "Plan P",
         "Medical, Dental and Vision",
         "1970-01-01",
         "1970-01-01",
         "1970-01-01",
         "1970-01-01",
         "1970-01-01",
         "1970-01-01",
         "Aetna",
         "Member Enrollment",
         "2024-03-10"
        ],
        [
         "72",
         "015352-PL-M99",
         "25500",
         "15352",
         "Pablo",
         "Livingston",
         null,
         "Mr.",
         "-",
         "M",
         "1999-05-28",
         "M",
         "Mother",
         4,
         "566 Williamson Run Suite 85",
         null,
         "Swansea",
         "Massachusetts",
         "Bristol County",
         "",
         "USA",
         0,
         0,
         0,
         "N/A",
         "N/A",
         null,
         "N/A",
         "1",
         "Abacus Insights",
         "-",
         "-",
         "EC",
         "Employee and Childrens",
         "14.0",
         "Plan O",
         "Medical and Vision",
         "1970-01-01",
         "1970-01-01",
         null,
         null,
         "1970-01-01",
         "1970-01-01",
         "Cigna",
         "Member Enrollment",
         "2024-03-10"
        ],
        [
         "73",
         "162576-RTK-M88",
         "153300",
         "162576",
         "Raees",
         "Tucker",
         "Kyler",
         "Mr.",
         "-",
         "M",
         "1988-04-24",
         "N",
         "Niece",
         13,
         "471 Mayert Flat Unit 54",
         null,
         "Peabody",
         "Massachusetts",
         "Essex County",
         "",
         "USA",
         0,
         0,
         0,
         "N/A",
         "N/A",
         null,
         "N/A",
         "1",
         "Abacus Insights",
         "-",
         "-",
         "EC",
         "Employee and Childrens",
         "6.0",
         "Plan G",
         "Medical and Vision",
         "1970-01-01",
         "1970-01-01",
         null,
         null,
         "1970-01-01",
         "1970-01-01",
         "Cigna",
         "Member Enrollment",
         "2024-03-10"
        ],
        [
         "74",
         "192974-HS-M09",
         "206200",
         "192974",
         "Harley",
         "Salas",
         null,
         "Mr.",
         "-",
         "M",
         "2009-09-19",
         "F",
         "Fiance",
         3,
         "1056 Harris Lane Suite 70",
         null,
         "Chicopee",
         "Massachusetts",
         "Hampden County",
         "01020",
         "USA",
         0,
         0,
         0,
         "N/A",
         "N/A",
         null,
         "N/A",
         "4",
         "Digital Convergence Technologies",
         "-",
         "-",
         "EP",
         "Employee and Parents",
         "14.0",
         "Plan O",
         "Medical and Vision",
         "1970-01-01",
         "1970-01-01",
         null,
         null,
         "1970-01-01",
         "1970-01-01",
         "Aetna",
         "Member Enrollment",
         "2024-03-10"
        ],
        [
         "75",
         "192974-HS-M09",
         "206200",
         "192974",
         "Harley",
         "Salas",
         null,
         "Mr.",
         "-",
         "M",
         "2009-09-19",
         "F",
         "Father",
         3,
         "1056 Harris Lane Suite 70",
         null,
         "Chicopee",
         "Massachusetts",
         "Hampden County",
         "01020",
         "USA",
         0,
         0,
         0,
         "N/A",
         "N/A",
         null,
         "N/A",
         "4",
         "Digital Convergence Technologies",
         "-",
         "-",
         "EP",
         "Employee and Parents",
         "14.0",
         "Plan O",
         "Medical and Vision",
         "1970-01-01",
         "1970-01-01",
         null,
         null,
         "1970-01-01",
         "1970-01-01",
         "Aetna",
         "Member Enrollment",
         "2024-03-10"
        ],
        [
         "76",
         "192974-SB-M83",
         "224200",
         "192974",
         "Silas",
         "Bush",
         null,
         "Mr.",
         "-",
         "M",
         "1983-01-01",
         "C1",
         "Son",
         5,
         "482 McGlynn Extension Apt 8",
         null,
         "Chicopee",
         "Massachusetts",
         "Hampden County",
         "01022",
         "USA",
         0,
         0,
         0,
         "N/A",
         "N/A",
         null,
         "N/A",
         "8",
         "TechKraft Inc",
         "-",
         "-",
         "E",
         "Employee Only",
         "11.0",
         "Plan L",
         "Medical, Dental and Vision",
         "1970-01-01",
         "1970-01-01",
         "1970-01-01",
         "1970-01-01",
         "1970-01-01",
         "1970-01-01",
         "Cigna",
         "Member Enrollment",
         "2024-03-10"
        ],
        [
         "77",
         "192974-WS-M70",
         "171200",
         "192974",
         "Wojciech",
         "Sanders",
         null,
         "Mr.",
         "-",
         "M",
         "1970-08-06",
         "C2",
         "Daughter",
         6,
         "577 Kshlerin Parade",
         null,
         "Swansea",
         "Massachusetts",
         "Bristol County",
         "",
         "USA",
         0,
         0,
         0,
         "N/A",
         "N/A",
         null,
         "N/A",
         "8",
         "TechKraft Inc",
         "-",
         "-",
         "E",
         "Employee Only",
         "5.0",
         "Plan F",
         "Medical and Dental",
         "1970-01-01",
         "1970-01-01",
         "1970-01-01",
         "1970-01-01",
         null,
         null,
         "Cigna",
         "Member Enrollment",
         "2024-03-10"
        ],
        [
         "78",
         "192974-KHJ-M14",
         "185200",
         "192974",
         "Karim",
         "Hawkins",
         "Junior",
         "Mr.",
         "-",
         "M",
         "2014-04-28",
         "N",
         "Niece",
         13,
         "898 Grant Overpass Unit 18",
         null,
         "Hingham",
         "Massachusetts",
         "Plymouth County",
         "02043",
         "USA",
         0,
         0,
         0,
         "N/A",
         "N/A",
         null,
         "N/A",
         "4",
         "Digital Convergence Technologies",
         "-",
         "-",
         "EP",
         "Employee and Parents",
         "10.0",
         "Plan K",
         "Medical and Vision",
         "1970-01-01",
         "1970-01-01",
         null,
         null,
         "1970-01-01",
         "1970-01-01",
         "Cigna",
         "Member Enrollment",
         "2024-03-10"
        ],
        [
         "79",
         "192974-SF-M08",
         "185400",
         "192974",
         "Stella",
         "Franco",
         null,
         "Mr.",
         "-",
         "M",
         "2008-08-13",
         "E",
         "Self",
         1,
         "757 Jenkins Crossroad",
         null,
         "Wakefield",
         "Massachusetts",
         "Middlesex County",
         "",
         "USA",
         0,
         0,
         0,
         "N/A",
         "N/A",
         null,
         "N/A",
         "4",
         "Digital Convergence Technologies",
         "-",
         "-",
         "F",
         "Family",
         "12.0",
         "Plan M",
         "Medical",
         "1970-01-01",
         "1970-01-01",
         null,
         null,
         null,
         null,
         "Cigna",
         "Member Enrollment",
         "2024-03-10"
        ],
        [
         "80",
         "195288-MA-M20",
         "210200",
         "195288",
         "Mark",
         "Armstrong",
         null,
         "Mr.",
         "-",
         "M",
         "2020-03-05",
         "G4",
         "Grand Daughter",
         10,
         "730 Bogan Row",
         null,
         "Danvers",
         "Massachusetts",
         "Essex County",
         "",
         "USA",
         0,
         0,
         0,
         "N/A",
         "N/A",
         null,
         "N/A",
         "1",
         "Abacus Insights",
         "-",
         "-",
         "F",
         "Family",
         "1.0",
         "Plan B",
         "Medical and Dental",
         "1970-01-01",
         "1970-01-01",
         "1970-01-01",
         "1970-01-01",
         null,
         null,
         "Cigna",
         "Member Enrollment",
         "2024-03-10"
        ],
        [
         "81",
         "198559-SBJ-M73",
         "205400",
         "198559",
         "Sonny",
         "Brewer",
         "Jagger",
         "Mr.",
         "-",
         "M",
         "1973-04-02",
         "C1",
         "Son",
         5,
         "494 Ondricka Vista Unit 61",
         null,
         "Provincetown",
         "Massachusetts",
         "Barnstable County",
         "02657",
         "USA",
         0,
         0,
         0,
         "N/A",
         "N/A",
         null,
         "N/A",
         "8",
         "TechKraft Inc",
         "-",
         "-",
         "ES",
         "Employee and Spouse",
         "10.0",
         "Plan K",
         "Medical and Vision",
         "1970-01-01",
         "1970-01-01",
         null,
         null,
         "1970-01-01",
         "1970-01-01",
         "Aetna",
         "Member Enrollment",
         "2024-03-10"
        ],
        [
         "82",
         "199072-KF-M88",
         "178000",
         "199072",
         "Keziah",
         "Flynn",
         null,
         "Mr.",
         "-",
         "M",
         "1988-03-07",
         "M",
         "Mother",
         4,
         "314 Haag Orchard Suite 76",
         null,
         "Weymouth",
         "Massachusetts",
         "Norfolk County",
         "02190",
         "USA",
         0,
         0,
         0,
         "N/A",
         "N/A",
         null,
         "N/A",
         "1",
         "Abacus Insights",
         "-",
         "-",
         "F",
         "Family",
         "5.0",
         "Plan F",
         "Medical and Dental",
         "1970-01-01",
         "1970-01-01",
         "1970-01-01",
         "1970-01-01",
         null,
         null,
         "Cigna",
         "Member Enrollment",
         "2024-03-10"
        ],
        [
         "83",
         "200118-CC-M50",
         "144400",
         "200118",
         "Courtney",
         "Cuevas",
         null,
         "Mr.",
         "-",
         "M",
         "1950-11-09",
         "F",
         "Fiance",
         3,
         "159 Treutel Hollow",
         null,
         "Winchester",
         "Massachusetts",
         "Middlesex County",
         "",
         "USA",
         0,
         0,
         0,
         "N/A",
         "N/A",
         null,
         "N/A",
         "3",
         "Facebook",
         "-",
         "-",
         "ES",
         "Employee and Spouse",
         "10.0",
         "Plan K",
         "Medical and Vision",
         "1970-01-01",
         "1970-01-01",
         null,
         null,
         "1970-01-01",
         "1970-01-01",
         "Aetna",
         "Member Enrollment",
         "2024-03-10"
        ],
        [
         "84",
         "200118-CC-M50",
         "144400",
         "200118",
         "Courtney",
         "Cuevas",
         null,
         "Mr.",
         "-",
         "M",
         "1950-11-09",
         "F",
         "Father",
         3,
         "159 Treutel Hollow",
         null,
         "Winchester",
         "Massachusetts",
         "Middlesex County",
         "",
         "USA",
         0,
         0,
         0,
         "N/A",
         "N/A",
         null,
         "N/A",
         "3",
         "Facebook",
         "-",
         "-",
         "ES",
         "Employee and Spouse",
         "10.0",
         "Plan K",
         "Medical and Vision",
         "1970-01-01",
         "1970-01-01",
         null,
         null,
         "1970-01-01",
         "1970-01-01",
         "Aetna",
         "Member Enrollment",
         "2024-03-10"
        ],
        [
         "85",
         "200665-ZW-M04",
         "181900",
         "200665",
         "Zain",
         "Webb",
         null,
         "Mr.",
         "-",
         "M",
         "2004-10-18",
         "N",
         "Niece",
         13,
         "203 Sporer Esplanade Unit 14",
         null,
         "Oxford",
         "Massachusetts",
         "Worcester County",
         "",
         "USA",
         0,
         0,
         0,
         "N/A",
         "N/A",
         null,
         "N/A",
         "4",
         "Digital Convergence Technologies",
         "-",
         "-",
         "EP",
         "Employee and Parents",
         "0.0",
         "Plan A",
         "Medical",
         "1970-01-01",
         "1970-01-01",
         null,
         null,
         null,
         null,
         "Aetna",
         "Member Enrollment",
         "2024-03-10"
        ],
        [
         "86",
         "203702-AJ-M69",
         "213300",
         "203702",
         "Andre",
         "Jackson",
         null,
         "Mr.",
         "-",
         "M",
         "1969-10-29",
         "G4",
         "Grand Daughter",
         10,
         "954 Marvin Ferry",
         null,
         "Marlborough",
         "Massachusetts",
         "Middlesex County",
         "01752",
         "USA",
         0,
         0,
         0,
         "N/A",
         "N/A",
         null,
         "N/A",
         "8",
         "TechKraft Inc",
         "-",
         "-",
         "F",
         "Family",
         "15.0",
         "Plan P",
         "Medical, Dental and Vision",
         "1970-01-01",
         "1970-01-01",
         "1970-01-01",
         "1970-01-01",
         "1970-01-01",
         "1970-01-01",
         "Cigna",
         "Member Enrollment",
         "2024-03-10"
        ],
        [
         "87",
         "205773-GB-M04",
         "156400",
         "205773",
         "Gavin",
         "Bernard",
         null,
         "Mr.",
         "-",
         "M",
         "2004-06-28",
         "S",
         "Spouse",
         2,
         "465 Crist Crossroad Unit 86",
         null,
         "Quincy",
         "Massachusetts",
         "Norfolk County",
         "02170",
         "USA",
         0,
         0,
         0,
         "N/A",
         "N/A",
         null,
         "N/A",
         "4",
         "Digital Convergence Technologies",
         "-",
         "-",
         "EC",
         "Employee and Childrens",
         "2.0",
         "Plan C",
         "Medical and Vision",
         "1970-01-01",
         "1970-01-01",
         null,
         null,
         "1970-01-01",
         "1970-01-01",
         "Aetna",
         "Member Enrollment",
         "2024-03-10"
        ],
        [
         "88",
         "206682-FM-M90",
         "100000",
         "206682",
         "Fergus",
         "Matthews",
         null,
         "Mr.",
         "-",
         "M",
         "1990-10-14",
         "A2",
         "Adapted Daughter",
         12,
         "503 Carter Light Apt 12",
         null,
         "Auburn",
         "Massachusetts",
         "Worcester County",
         "",
         "USA",
         0,
         0,
         0,
         "N/A",
         "N/A",
         null,
         "N/A",
         "2",
         "Google",
         "-",
         "-",
         "E1C",
         "Employee and 1 Child",
         "7.0",
         "Plan H",
         "Medical, Dental and Vision",
         "1970-01-01",
         "1970-01-01",
         "1970-01-01",
         "1970-01-01",
         "1970-01-01",
         "1970-01-01",
         "Cigna",
         "Member Enrollment",
         "2024-03-10"
        ],
        [
         "89",
         "217633-AMK-M07",
         "201100",
         "217633",
         "Armaan",
         "Moody",
         "Ker",
         "Mr.",
         "-",
         "M",
         "2007-04-30",
         "D2",
         "Divorced Wife",
         16,
         "578 Welch Trace Unit 19",
         null,
         "Bridgewater",
         "Massachusetts",
         "Plymouth County",
         "",
         "USA",
         0,
         0,
         0,
         "N/A",
         "N/A",
         null,
         "N/A",
         "1",
         "Abacus Insights",
         "-",
         "-",
         "E1C",
         "Employee and 1 Child",
         "10.0",
         "Plan K",
         "Medical and Vision",
         "1970-01-01",
         "1970-01-01",
         null,
         null,
         "1970-01-01",
         "1970-01-01",
         "Aetna",
         "Member Enrollment",
         "2024-03-10"
        ],
        [
         "90",
         "217770-RM-M03",
         "201400",
         "217770",
         "Robyn",
         "Mcgowan",
         null,
         "Mr.",
         "-",
         "M",
         "2003-12-28",
         "E",
         "Self",
         1,
         "379 Bernhard Station",
         null,
         "Newburyport",
         "Massachusetts",
         "Essex County",
         "",
         "USA",
         0,
         0,
         0,
         "N/A",
         "N/A",
         null,
         "N/A",
         "1",
         "Abacus Insights",
         "-",
         "-",
         "ES",
         "Employee and Spouse",
         "8.0",
         "Plan I",
         "Medical",
         "1970-01-01",
         "1970-01-01",
         null,
         null,
         null,
         null,
         "Cigna",
         "Member Enrollment",
         "2024-03-10"
        ],
        [
         "91",
         "218479-NA-M93",
         "130400",
         "218479",
         "Neo",
         "Aguirre",
         null,
         "Mr.",
         "-",
         "M",
         "1993-03-16",
         "C1",
         "Son",
         5,
         "489 Nienow Rue",
         null,
         "Fall River",
         "Massachusetts",
         "Bristol County",
         "02790",
         "USA",
         0,
         0,
         0,
         "N/A",
         "N/A",
         null,
         "N/A",
         "8",
         "TechKraft Inc",
         "-",
         "-",
         "F",
         "Family",
         "1.0",
         "Plan B",
         "Medical and Dental",
         "1970-01-01",
         "1970-01-01",
         "1970-01-01",
         "1970-01-01",
         null,
         null,
         "Aetna",
         "Member Enrollment",
         "2024-03-10"
        ],
        [
         "92",
         "219363-DR-M09",
         "142600",
         "219363",
         "Dillon",
         "Roach",
         null,
         "Mr.",
         "-",
         "M",
         "2009-05-05",
         "G2",
         "Grand Mother",
         8,
         "741 Stracke Landing Apt 68",
         null,
         "Walpole",
         "Massachusetts",
         "Norfolk County",
         "02081",
         "USA",
         0,
         0,
         0,
         "N/A",
         "N/A",
         null,
         "N/A",
         "1",
         "Abacus Insights",
         "-",
         "-",
         "E",
         "Employee Only",
         "13.0",
         "Plan N",
         "Medical and Dental",
         "1970-01-01",
         "1970-01-01",
         "1970-01-01",
         "1970-01-01",
         null,
         null,
         "Aetna",
         "Member Enrollment",
         "2024-03-10"
        ],
        [
         "93",
         "221967-EM-M44",
         "152200",
         "221967",
         "Evan",
         "Moore",
         null,
         "Mr.",
         "-",
         "M",
         "1944-08-14",
         "M",
         "Mother",
         4,
         "1045 Gibson Vista",
         null,
         "Attleboro",
         "Massachusetts",
         "Bristol County",
         "02703",
         "USA",
         0,
         0,
         0,
         "N/A",
         "N/A",
         null,
         "N/A",
         "3",
         "Facebook",
         "-",
         "-",
         "EC",
         "Employee and Childrens",
         "10.0",
         "Plan K",
         "Medical and Vision",
         "1970-01-01",
         "1970-01-01",
         null,
         null,
         "1970-01-01",
         "1970-01-01",
         "Cigna",
         "Member Enrollment",
         "2024-03-10"
        ],
        [
         "94",
         "221967-EM-M44",
         "152200",
         "221967",
         "Evan",
         "Moore",
         null,
         "Mr.",
         "-",
         "M",
         "1944-08-14",
         "M",
         "Mother",
         4,
         "1045 Gibson Vista",
         null,
         "Attleboro",
         "Massachusetts",
         "Bristol County",
         "02703",
         "USA",
         0,
         0,
         0,
         "N/A",
         "N/A",
         null,
         "N/A",
         "3",
         "Facebook",
         "-",
         "-",
         "ES",
         "Employee and Spouse",
         "12.0",
         "Plan M",
         "Medical",
         "1970-01-01",
         "1970-01-01",
         null,
         null,
         null,
         null,
         "Cigna",
         "Member Enrollment",
         "2024-03-10"
        ],
        [
         "95",
         "221967-MRJ-M44",
         "152200",
         "221967",
         "Marcel",
         "Randolph",
         "Jirkar",
         "Mr.",
         "-",
         "M",
         "1944-08-14",
         "F",
         "Fiance",
         3,
         "1045 Gibson Vista",
         null,
         "Attleboro",
         "Massachusetts",
         "Bristol County",
         "02703",
         "USA",
         0,
         0,
         0,
         "N/A",
         "N/A",
         null,
         "N/A",
         "3",
         "Facebook",
         "-",
         "-",
         "EC",
         "Employee and Childrens",
         "10.0",
         "Plan K",
         "Medical and Vision",
         "1970-01-01",
         "1970-01-01",
         null,
         null,
         "1970-01-01",
         "1970-01-01",
         "Cigna",
         "Member Enrollment",
         "2024-03-10"
        ],
        [
         "96",
         "221967-MRJ-M44",
         "152200",
         "221967",
         "Marcel",
         "Randolph",
         "Jirkar",
         "Mr.",
         "-",
         "M",
         "1944-08-14",
         "F",
         "Father",
         3,
         "1045 Gibson Vista",
         null,
         "Attleboro",
         "Massachusetts",
         "Bristol County",
         "02703",
         "USA",
         0,
         0,
         0,
         "N/A",
         "N/A",
         null,
         "N/A",
         "3",
         "Facebook",
         "-",
         "-",
         "EC",
         "Employee and Childrens",
         "10.0",
         "Plan K",
         "Medical and Vision",
         "1970-01-01",
         "1970-01-01",
         null,
         null,
         "1970-01-01",
         "1970-01-01",
         "Cigna",
         "Member Enrollment",
         "2024-03-10"
        ],
        [
         "97",
         "221967-MRJ-M44",
         "152200",
         "221967",
         "Marcel",
         "Randolph",
         "Jirkar",
         "Mr.",
         "-",
         "M",
         "1944-08-14",
         "F",
         "Fiance",
         3,
         "1045 Gibson Vista",
         null,
         "Attleboro",
         "Massachusetts",
         "Bristol County",
         "02703",
         "USA",
         0,
         0,
         0,
         "N/A",
         "N/A",
         null,
         "N/A",
         "3",
         "Facebook",
         "-",
         "-",
         "ES",
         "Employee and Spouse",
         "12.0",
         "Plan M",
         "Medical",
         "1970-01-01",
         "1970-01-01",
         null,
         null,
         null,
         null,
         "Cigna",
         "Member Enrollment",
         "2024-03-10"
        ],
        [
         "98",
         "221967-MRJ-M44",
         "152200",
         "221967",
         "Marcel",
         "Randolph",
         "Jirkar",
         "Mr.",
         "-",
         "M",
         "1944-08-14",
         "F",
         "Father",
         3,
         "1045 Gibson Vista",
         null,
         "Attleboro",
         "Massachusetts",
         "Bristol County",
         "02703",
         "USA",
         0,
         0,
         0,
         "N/A",
         "N/A",
         null,
         "N/A",
         "3",
         "Facebook",
         "-",
         "-",
         "ES",
         "Employee and Spouse",
         "12.0",
         "Plan M",
         "Medical",
         "1970-01-01",
         "1970-01-01",
         null,
         null,
         null,
         null,
         "Cigna",
         "Member Enrollment",
         "2024-03-10"
        ],
        [
         "99",
         "222628-EC-M89",
         "197900",
         "222628",
         "Eesa",
         "Carpenter",
         null,
         "Mr.",
         "-",
         "M",
         "1989-10-01",
         "G3",
         "Grand Son",
         9,
         "764 Feil Route",
         null,
         "Boston",
         "Massachusetts",
         "Suffolk County",
         "02108",
         "USA",
         0,
         0,
         0,
         "N/A",
         "N/A",
         null,
         "N/A",
         "8",
         "TechKraft Inc",
         "-",
         "-",
         "EP",
         "Employee and Parents",
         "13.0",
         "Plan N",
         "Medical and Dental",
         "1970-01-01",
         "1970-01-01",
         "1970-01-01",
         "1970-01-01",
         null,
         null,
         "Aetna",
         "Member Enrollment",
         "2024-03-10"
        ],
        [
         "100",
         "023532-DF-M36",
         "62900",
         "23532",
         "Drew",
         "Friedman",
         null,
         "Mr.",
         "-",
         "M",
         "1936-03-30",
         "C1",
         "Son",
         5,
         "911 Rodriguez Forge",
         null,
         "Orange",
         "Massachusetts",
         "Franklin County",
         "01364",
         "USA",
         0,
         0,
         0,
         "N/A",
         "N/A",
         null,
         "N/A",
         "3",
         "Facebook",
         "-",
         "-",
         "F",
         "Family",
         "11.0",
         "Plan L",
         "Medical, Dental and Vision",
         "1970-01-01",
         "1970-01-01",
         "1970-01-01",
         "1970-01-01",
         "1970-01-01",
         "1970-01-01",
         "Aetna",
         "Member Enrollment",
         "2024-03-10"
        ],
        [
         "101",
         "030696-KM-M65",
         "147700",
         "30696",
         "Kaan",
         "Mckee",
         null,
         "Mr.",
         "-",
         "M",
         "1965-06-25",
         "G1",
         "Grand Father",
         7,
         "480 Jast Ramp Apt 20",
         null,
         "Dennis",
         "Massachusetts",
         "Barnstable County",
         "02638",
         "USA",
         0,
         0,
         0,
         "N/A",
         "N/A",
         null,
         "N/A",
         "8",
         "TechKraft Inc",
         "-",
         "-",
         "E1C",
         "Employee and 1 Child",
         "9.0",
         "Plan J",
         "Medical and Dental",
         "1970-01-01",
         "1970-01-01",
         "1970-01-01",
         "1970-01-01",
         null,
         null,
         "Cigna",
         "Member Enrollment",
         "2024-03-10"
        ],
        [
         "102",
         "030696-MM-M11",
         "86400",
         "30696",
         "Malakai",
         "Malone",
         null,
         "Mr.",
         "-",
         "M",
         "2011-06-20",
         "E",
         "Self",
         1,
         "964 Schroeder Branch Apt 20",
         null,
         "Spencer",
         "Massachusetts",
         "Worcester County",
         "",
         "USA",
         0,
         0,
         0,
         "N/A",
         "N/A",
         null,
         "N/A",
         "1",
         "Abacus Insights",
         "-",
         "-",
         "ES",
         "Employee and Spouse",
         "10.0",
         "Plan K",
         "Medical and Vision",
         "1970-01-01",
         "1970-01-01",
         null,
         null,
         "1970-01-01",
         "1970-01-01",
         "Aetna",
         "Member Enrollment",
         "2024-03-10"
        ],
        [
         "103",
         "038256-AK-M43",
         "18200",
         "38256",
         "Aarav",
         "Kent",
         null,
         "Mr.",
         "-",
         "M",
         "1943-01-01",
         "M",
         "Mother",
         4,
         "718 Hamill Club",
         null,
         "Easthampton",
         "Massachusetts",
         "Hampshire County",
         "",
         "USA",
         0,
         0,
         0,
         "N/A",
         "N/A",
         null,
         "N/A",
         "3",
         "Facebook",
         "-",
         "-",
         "ES",
         "Employee and Spouse",
         "4.0",
         "Plan E",
         "Medical",
         "1970-01-01",
         "1970-01-01",
         null,
         null,
         null,
         null,
         "Aetna",
         "Member Enrollment",
         "2024-03-10"
        ],
        [
         "104",
         "038256-AK-M43",
         "18200",
         "38256",
         "Aarav",
         "Kent",
         null,
         "Mr.",
         "-",
         "M",
         "1943-01-01",
         "M",
         "Mother",
         4,
         "718 Hamill Club",
         null,
         "Easthampton",
         "Massachusetts",
         "Hampshire County",
         "",
         "USA",
         0,
         0,
         0,
         "N/A",
         "N/A",
         null,
         "N/A",
         "3",
         "Facebook",
         "-",
         "-",
         "F",
         "Family",
         "11.0",
         "Plan L",
         "Medical, Dental and Vision",
         "1970-01-01",
         "1970-01-01",
         "1970-01-01",
         "1970-01-01",
         "1970-01-01",
         "1970-01-01",
         "Cigna",
         "Member Enrollment",
         "2024-03-10"
        ],
        [
         "105",
         "038256-AK-M43",
         "18200",
         "38256",
         "Aarav",
         "Kent",
         null,
         "Mr.",
         "-",
         "M",
         "1943-01-01",
         "M",
         "Mother",
         4,
         "718 Hamill Club",
         null,
         "Easthampton",
         "Massachusetts",
         "Hampshire County",
         "",
         "USA",
         0,
         0,
         0,
         "N/A",
         "N/A",
         null,
         "N/A",
         "3",
         "Facebook",
         "-",
         "-",
         "ES",
         "Employee and Spouse",
         "14.0",
         "Plan O",
         "Medical and Vision",
         "1970-01-01",
         "1970-01-01",
         null,
         null,
         "1970-01-01",
         "1970-01-01",
         "Aetna",
         "Member Enrollment",
         "2024-03-10"
        ],
        [
         "106",
         "038256-SFK-M43",
         "18200",
         "38256",
         "Steffan",
         "Figueroa",
         "Kippar",
         "Mr.",
         "-",
         "M",
         "1943-01-01",
         "E",
         "Self",
         1,
         "718 Hamill Club",
         null,
         "Easthampton",
         "Massachusetts",
         "Hampshire County",
         "",
         "USA",
         0,
         0,
         0,
         "N/A",
         "N/A",
         null,
         "N/A",
         "3",
         "Facebook",
         "-",
         "-",
         "ES",
         "Employee and Spouse",
         "4.0",
         "Plan E",
         "Medical",
         "1970-01-01",
         "1970-01-01",
         null,
         null,
         null,
         null,
         "Aetna",
         "Member Enrollment",
         "2024-03-10"
        ],
        [
         "107",
         "038256-SFK-M43",
         "18200",
         "38256",
         "Steffan",
         "Figueroa",
         "Kippar",
         "Mr.",
         "-",
         "M",
         "1943-01-01",
         "E",
         "Self",
         1,
         "718 Hamill Club",
         null,
         "Easthampton",
         "Massachusetts",
         "Hampshire County",
         "",
         "USA",
         0,
         0,
         0,
         "N/A",
         "N/A",
         null,
         "N/A",
         "3",
         "Facebook",
         "-",
         "-",
         "F",
         "Family",
         "11.0",
         "Plan L",
         "Medical, Dental and Vision",
         "1970-01-01",
         "1970-01-01",
         "1970-01-01",
         "1970-01-01",
         "1970-01-01",
         "1970-01-01",
         "Cigna",
         "Member Enrollment",
         "2024-03-10"
        ],
        [
         "108",
         "038256-SFK-M43",
         "18200",
         "38256",
         "Steffan",
         "Figueroa",
         "Kippar",
         "Mr.",
         "-",
         "M",
         "1943-01-01",
         "E",
         "Self",
         1,
         "718 Hamill Club",
         null,
         "Easthampton",
         "Massachusetts",
         "Hampshire County",
         "",
         "USA",
         0,
         0,
         0,
         "N/A",
         "N/A",
         null,
         "N/A",
         "3",
         "Facebook",
         "-",
         "-",
         "ES",
         "Employee and Spouse",
         "14.0",
         "Plan O",
         "Medical and Vision",
         "1970-01-01",
         "1970-01-01",
         null,
         null,
         "1970-01-01",
         "1970-01-01",
         "Aetna",
         "Member Enrollment",
         "2024-03-10"
        ],
        [
         "109",
         "038256-DS-M43",
         "18200",
         "38256",
         "Derek",
         "Santos",
         null,
         "Mr.",
         "-",
         "M",
         "1943-01-01",
         "C1",
         "Son",
         5,
         "718 Hamill Club",
         null,
         "Easthampton",
         "Massachusetts",
         "Hampshire County",
         "",
         "USA",
         0,
         0,
         0,
         "N/A",
         "N/A",
         null,
         "N/A",
         "3",
         "Facebook",
         "-",
         "-",
         "ES",
         "Employee and Spouse",
         "4.0",
         "Plan E",
         "Medical",
         "1970-01-01",
         "1970-01-01",
         null,
         null,
         null,
         null,
         "Aetna",
         "Member Enrollment",
         "2024-03-10"
        ],
        [
         "110",
         "038256-DS-M43",
         "18200",
         "38256",
         "Derek",
         "Santos",
         null,
         "Mr.",
         "-",
         "M",
         "1943-01-01",
         "C1",
         "Son",
         5,
         "718 Hamill Club",
         null,
         "Easthampton",
         "Massachusetts",
         "Hampshire County",
         "",
         "USA",
         0,
         0,
         0,
         "N/A",
         "N/A",
         null,
         "N/A",
         "3",
         "Facebook",
         "-",
         "-",
         "F",
         "Family",
         "11.0",
         "Plan L",
         "Medical, Dental and Vision",
         "1970-01-01",
         "1970-01-01",
         "1970-01-01",
         "1970-01-01",
         "1970-01-01",
         "1970-01-01",
         "Cigna",
         "Member Enrollment",
         "2024-03-10"
        ],
        [
         "111",
         "038256-DS-M43",
         "18200",
         "38256",
         "Derek",
         "Santos",
         null,
         "Mr.",
         "-",
         "M",
         "1943-01-01",
         "C1",
         "Son",
         5,
         "718 Hamill Club",
         null,
         "Easthampton",
         "Massachusetts",
         "Hampshire County",
         "",
         "USA",
         0,
         0,
         0,
         "N/A",
         "N/A",
         null,
         "N/A",
         "3",
         "Facebook",
         "-",
         "-",
         "ES",
         "Employee and Spouse",
         "14.0",
         "Plan O",
         "Medical and Vision",
         "1970-01-01",
         "1970-01-01",
         null,
         null,
         "1970-01-01",
         "1970-01-01",
         "Aetna",
         "Member Enrollment",
         "2024-03-10"
        ],
        [
         "112",
         "059066-CT-M08",
         "109600",
         "59066",
         "Cole",
         "Turner",
         null,
         "Mr.",
         "-",
         "M",
         "2008-03-28",
         "N",
         "Niece",
         13,
         "454 Crooks Divide Unit 13",
         null,
         "Plymouth",
         "Massachusetts",
         "Plymouth County",
         "",
         "USA",
         0,
         0,
         0,
         "N/A",
         "N/A",
         null,
         "N/A",
         "1",
         "Abacus Insights",
         "-",
         "-",
         "F",
         "Family",
         "4.0",
         "Plan E",
         "Medical",
         "1970-01-01",
         "1970-01-01",
         null,
         null,
         null,
         null,
         "Cigna",
         "Member Enrollment",
         "2024-03-10"
        ],
        [
         "113",
         "062804-RS-M05",
         "94700",
         "62804",
         "Roosevelt",
         "Silva",
         null,
         "Mr.",
         "-",
         "M",
         "2005-12-03",
         "N",
         "Niece",
         13,
         "461 Lindgren Plaza",
         null,
         "Quincy",
         "Massachusetts",
         "Norfolk County",
         "02169",
         "USA",
         0,
         0,
         0,
         "N/A",
         "N/A",
         null,
         "N/A",
         "4",
         "Digital Convergence Technologies",
         "-",
         "-",
         "E1C",
         "Employee and 1 Child",
         "4.0",
         "Plan E",
         "Medical",
         "1970-01-01",
         "1970-01-01",
         null,
         null,
         null,
         null,
         "Aetna",
         "Member Enrollment",
         "2024-03-10"
        ],
        [
         "114",
         "064702-EHK-M99",
         "105800",
         "64702",
         "Erin",
         "Huff",
         "Kester",
         "Mr.",
         "-",
         "M",
         "1999-12-12",
         "G2",
         "Grand Mother",
         8,
         "147 Rippin Lane",
         null,
         "Boston",
         "Massachusetts",
         "Suffolk County",
         "02116",
         "USA",
         0,
         0,
         0,
         "N/A",
         "N/A",
         null,
         "N/A",
         "1",
         "Abacus Insights",
         "-",
         "-",
         "U",
         "Unknown",
         "3.0",
         "Plan D",
         "Medical, Dental and Vision",
         "1970-01-01",
         "1970-01-01",
         "1970-01-01",
         "1970-01-01",
         "1970-01-01",
         "1970-01-01",
         "Aetna",
         "Member Enrollment",
         "2024-03-10"
        ],
        [
         "115",
         "038256-DD-M61",
         "210000",
         "38256",
         "Dale",
         "Dale",
         null,
         "Mr.",
         "-",
         "M",
         "1961-01-12",
         "D1",
         "Divorced Husband",
         15,
         "976 Lowe Branch",
         null,
         "Boston",
         "Massachusetts",
         "Suffolk County",
         "02115",
         "USA",
         0,
         0,
         0,
         "N/A",
         "N/A",
         null,
         "N/A",
         "3",
         "Facebook",
         "-",
         "-",
         "E",
         "Employee Only",
         "12.0",
         "Plan M",
         "Medical",
         "1970-01-01",
         "1970-01-01",
         null,
         null,
         null,
         null,
         "Aetna",
         "Member Enrollment",
         "2024-03-10"
        ],
        [
         "116",
         "038256-AM-M11",
         "1900",
         "38256",
         "Ameer",
         "Mcmahon",
         null,
         "Mr.",
         "-",
         "M",
         "2011-04-23",
         "F",
         "Fiance",
         3,
         "1032 Koch Gardens",
         null,
         "Sharon",
         "Massachusetts",
         "Norfolk County",
         "",
         "USA",
         0,
         0,
         0,
         "N/A",
         "N/A",
         null,
         "N/A",
         "1",
         "Abacus Insights",
         "-",
         "-",
         "F",
         "Family",
         "3.0",
         "Plan D",
         "Medical, Dental and Vision",
         "1970-01-01",
         "1970-01-01",
         "1970-01-01",
         "1970-01-01",
         "1970-01-01",
         "1970-01-01",
         "Aetna",
         "Member Enrollment",
         "2024-03-10"
        ],
        [
         "117",
         "038256-AM-M11",
         "1900",
         "38256",
         "Ameer",
         "Mcmahon",
         null,
         "Mr.",
         "-",
         "M",
         "2011-04-23",
         "F",
         "Father",
         3,
         "1032 Koch Gardens",
         null,
         "Sharon",
         "Massachusetts",
         "Norfolk County",
         "",
         "USA",
         0,
         0,
         0,
         "N/A",
         "N/A",
         null,
         "N/A",
         "1",
         "Abacus Insights",
         "-",
         "-",
         "F",
         "Family",
         "3.0",
         "Plan D",
         "Medical, Dental and Vision",
         "1970-01-01",
         "1970-01-01",
         "1970-01-01",
         "1970-01-01",
         "1970-01-01",
         "1970-01-01",
         "Aetna",
         "Member Enrollment",
         "2024-03-10"
        ],
        [
         "118",
         "038256-KP-M56",
         "2700",
         "38256",
         "Keeley",
         "Preston",
         null,
         "Mr.",
         "-",
         "M",
         "1956-03-29",
         "D2",
         "Divorced Wife",
         16,
         "333 Hilpert Route",
         null,
         "Ware",
         "Massachusetts",
         "Hampshire County",
         "",
         "USA",
         0,
         0,
         0,
         "N/A",
         "N/A",
         null,
         "N/A",
         "8",
         "TechKraft Inc",
         "-",
         "-",
         "EC",
         "Employee and Childrens",
         "13.0",
         "Plan N",
         "Medical and Dental",
         "1970-01-01",
         "1970-01-01",
         "1970-01-01",
         "1970-01-01",
         null,
         null,
         "Cigna",
         "Member Enrollment",
         "2024-03-10"
        ],
        [
         "119",
         "095182-TS-M90",
         "2800",
         "95182",
         "Ted",
         "Summers",
         null,
         "Mr.",
         "-",
         "M",
         "1990-08-25",
         "D2",
         "Divorced Wife",
         16,
         "410 Homenick Lane",
         null,
         "Duxbury",
         "Massachusetts",
         "Plymouth County",
         "02332",
         "USA",
         0,
         0,
         0,
         "N/A",
         "N/A",
         null,
         "N/A",
         "1",
         "Abacus Insights",
         "-",
         "-",
         "ES",
         "Employee and Spouse",
         "3.0",
         "Plan D",
         "Medical, Dental and Vision",
         "1970-01-01",
         "1970-01-01",
         "1970-01-01",
         "1970-01-01",
         "1970-01-01",
         "1970-01-01",
         "Aetna",
         "Member Enrollment",
         "2024-03-10"
        ],
        [
         "120",
         "095182-JR-M50",
         "117100",
         "95182",
         "Jaydon",
         "Richard",
         null,
         "Mr.",
         "-",
         "M",
         "1950-10-22",
         "G3",
         "Grand Son",
         9,
         "322 Marks Rue Suite 15",
         null,
         "Fitchburg",
         "Massachusetts",
         "Worcester County",
         "01420",
         "USA",
         0,
         0,
         0,
         "N/A",
         "N/A",
         null,
         "N/A",
         "3",
         "Facebook",
         "-",
         "-",
         "E1C",
         "Employee and 1 Child",
         "6.0",
         "Plan G",
         "Medical and Vision",
         "1970-01-01",
         "1970-01-01",
         null,
         null,
         "1970-01-01",
         "1970-01-01",
         "Aetna",
         "Member Enrollment",
         "2024-03-10"
        ],
        [
         "121",
         "095182-KG-M04",
         "77900",
         "95182",
         "Kristen",
         "Gillespie",
         null,
         "Mr.",
         "-",
         "M",
         "2004-02-16",
         "E",
         "Self",
         1,
         "230 Murphy Camp Unit 83",
         null,
         "Burlington",
         "Massachusetts",
         "Middlesex County",
         "01803",
         "USA",
         0,
         0,
         0,
         "N/A",
         "N/A",
         null,
         "N/A",
         "4",
         "Digital Convergence Technologies",
         "-",
         "-",
         "ES",
         "Employee and Spouse",
         "6.0",
         "Plan G",
         "Medical and Vision",
         "1970-01-01",
         "1970-01-01",
         null,
         null,
         "1970-01-01",
         "1970-01-01",
         "Aetna",
         "Member Enrollment",
         "2024-03-10"
        ]
       ],
       "datasetInfos": [],
       "dbfsResultPath": null,
       "isJsonSchema": true,
       "metadata": {},
       "overflow": false,
       "plotOptions": {
        "customPlotOptions": {},
        "displayType": "table",
        "pivotAggregation": null,
        "pivotColumns": null,
        "xColumns": null,
        "yColumns": null
       },
       "removedWidgets": [],
       "schema": [
        {
         "metadata": "{\"__CHAR_VARCHAR_TYPE_STRING\":\"varchar(20)\"}",
         "name": "Abacus_Record_ID",
         "type": "\"string\""
        },
        {
         "metadata": "{\"__CHAR_VARCHAR_TYPE_STRING\":\"varchar(20)\"}",
         "name": "Abacus_Member_ID",
         "type": "\"string\""
        },
        {
         "metadata": "{\"__CHAR_VARCHAR_TYPE_STRING\":\"varchar(20)\"}",
         "name": "Member_ID",
         "type": "\"string\""
        },
        {
         "metadata": "{\"__CHAR_VARCHAR_TYPE_STRING\":\"varchar(20)\"}",
         "name": "Subscriber_ID",
         "type": "\"string\""
        },
        {
         "metadata": "{\"__CHAR_VARCHAR_TYPE_STRING\":\"varchar(75)\"}",
         "name": "Member_First_Name",
         "type": "\"string\""
        },
        {
         "metadata": "{\"__CHAR_VARCHAR_TYPE_STRING\":\"varchar(75)\"}",
         "name": "Member_Last_Name",
         "type": "\"string\""
        },
        {
         "metadata": "{\"__CHAR_VARCHAR_TYPE_STRING\":\"varchar(75)\"}",
         "name": "Member_Middle_Name",
         "type": "\"string\""
        },
        {
         "metadata": "{\"__CHAR_VARCHAR_TYPE_STRING\":\"varchar(10)\"}",
         "name": "Member_Prefix_Name",
         "type": "\"string\""
        },
        {
         "metadata": "{\"__CHAR_VARCHAR_TYPE_STRING\":\"varchar(10)\"}",
         "name": "Member_Suffix_Name",
         "type": "\"string\""
        },
        {
         "metadata": "{\"__CHAR_VARCHAR_TYPE_STRING\":\"varchar(10)\"}",
         "name": "Member_Gender",
         "type": "\"string\""
        },
        {
         "metadata": "{}",
         "name": "Member_Date_of_Birth",
         "type": "\"date\""
        },
        {
         "metadata": "{\"__CHAR_VARCHAR_TYPE_STRING\":\"varchar(10)\"}",
         "name": "Member_Relationship_Code",
         "type": "\"string\""
        },
        {
         "metadata": "{\"__CHAR_VARCHAR_TYPE_STRING\":\"varchar(20)\"}",
         "name": "Member_Relationship_Description",
         "type": "\"string\""
        },
        {
         "metadata": "{}",
         "name": "Member_Person_Code",
         "type": "\"integer\""
        },
        {
         "metadata": "{\"__CHAR_VARCHAR_TYPE_STRING\":\"varchar(100)\"}",
         "name": "Member_Address_Line_1",
         "type": "\"string\""
        },
        {
         "metadata": "{\"__CHAR_VARCHAR_TYPE_STRING\":\"varchar(100)\"}",
         "name": "Member_Address_Line_2",
         "type": "\"string\""
        },
        {
         "metadata": "{\"__CHAR_VARCHAR_TYPE_STRING\":\"varchar(20)\"}",
         "name": "Member_City",
         "type": "\"string\""
        },
        {
         "metadata": "{\"__CHAR_VARCHAR_TYPE_STRING\":\"varchar(20)\"}",
         "name": "Member_State",
         "type": "\"string\""
        },
        {
         "metadata": "{\"__CHAR_VARCHAR_TYPE_STRING\":\"varchar(50)\"}",
         "name": "Member_County",
         "type": "\"string\""
        },
        {
         "metadata": "{\"__CHAR_VARCHAR_TYPE_STRING\":\"varchar(10)\"}",
         "name": "Member_Postal_Code",
         "type": "\"string\""
        },
        {
         "metadata": "{\"__CHAR_VARCHAR_TYPE_STRING\":\"varchar(20)\"}",
         "name": "Member_Country",
         "type": "\"string\""
        },
        {
         "metadata": "{}",
         "name": "Member_Home_Phone",
         "type": "\"integer\""
        },
        {
         "metadata": "{}",
         "name": "Member_Work_Phone",
         "type": "\"integer\""
        },
        {
         "metadata": "{}",
         "name": "Member_Mobile_Phone",
         "type": "\"integer\""
        },
        {
         "metadata": "{\"__CHAR_VARCHAR_TYPE_STRING\":\"varchar(100)\"}",
         "name": "Member_Email",
         "type": "\"string\""
        },
        {
         "metadata": "{}",
         "name": "Member_Is_Deceased",
         "type": "\"string\""
        },
        {
         "metadata": "{}",
         "name": "Member_Date_of_Death",
         "type": "\"date\""
        },
        {
         "metadata": "{\"__CHAR_VARCHAR_TYPE_STRING\":\"varchar(100)\"}",
         "name": "Member_Deceased_Reason",
         "type": "\"string\""
        },
        {
         "metadata": "{\"__CHAR_VARCHAR_TYPE_STRING\":\"varchar(20)\"}",
         "name": "Enrollment_Group_ID",
         "type": "\"string\""
        },
        {
         "metadata": "{\"__CHAR_VARCHAR_TYPE_STRING\":\"varchar(50)\"}",
         "name": "Enrollment_Group_Name",
         "type": "\"string\""
        },
        {
         "metadata": "{\"__CHAR_VARCHAR_TYPE_STRING\":\"varchar(20)\"}",
         "name": "Enrollment_SubGroup_ID",
         "type": "\"string\""
        },
        {
         "metadata": "{\"__CHAR_VARCHAR_TYPE_STRING\":\"varchar(50)\"}",
         "name": "Enrollment_SubGroup_Name",
         "type": "\"string\""
        },
        {
         "metadata": "{\"__CHAR_VARCHAR_TYPE_STRING\":\"varchar(10)\"}",
         "name": "Enrollment_Coverage_Code",
         "type": "\"string\""
        },
        {
         "metadata": "{\"__CHAR_VARCHAR_TYPE_STRING\":\"varchar(30)\"}",
         "name": "Enrollment_Coverage_Description",
         "type": "\"string\""
        },
        {
         "metadata": "{\"__CHAR_VARCHAR_TYPE_STRING\":\"varchar(10)\"}",
         "name": "Enrollment_Plan_ID",
         "type": "\"string\""
        },
        {
         "metadata": "{\"__CHAR_VARCHAR_TYPE_STRING\":\"varchar(30)\"}",
         "name": "Enrollment_Plan_Name",
         "type": "\"string\""
        },
        {
         "metadata": "{\"__CHAR_VARCHAR_TYPE_STRING\":\"varchar(50)\"}",
         "name": "Enrollment_Plan_Coverage",
         "type": "\"string\""
        },
        {
         "metadata": "{}",
         "name": "Enrollment_Medical_Effective_Date",
         "type": "\"date\""
        },
        {
         "metadata": "{}",
         "name": "Enrollment_Medical_Termination_Date",
         "type": "\"date\""
        },
        {
         "metadata": "{}",
         "name": "Enrollment_Dental_Effective_Date",
         "type": "\"date\""
        },
        {
         "metadata": "{}",
         "name": "Enrollment_Dental_Termination_Date",
         "type": "\"date\""
        },
        {
         "metadata": "{}",
         "name": "Enrollment_Vision_Effective_Date",
         "type": "\"date\""
        },
        {
         "metadata": "{}",
         "name": "Enrollment_Vision_Termination_Date",
         "type": "\"date\""
        },
        {
         "metadata": "{\"__CHAR_VARCHAR_TYPE_STRING\":\"varchar(20)\"}",
         "name": "Enrollment_Vendor_Name",
         "type": "\"string\""
        },
        {
         "metadata": "{\"__CHAR_VARCHAR_TYPE_STRING\":\"varchar(100)\"}",
         "name": "Souce_File_Name",
         "type": "\"string\""
        },
        {
         "metadata": "{}",
         "name": "File_Ingestion_Date",
         "type": "\"date\""
        }
       ],
       "type": "table"
      }
     },
     "output_type": "display_data"
    }
   ],
   "source": [
    "%sql\n",
    "SELECT * FROM Eligibility_Mock_Data_Target_Table;"
   ]
  }
 ],
 "metadata": {
  "application/vnd.databricks.v1+notebook": {
   "dashboards": [],
   "language": "python",
   "notebookMetadata": {
    "mostRecentlyExecutedCommandWithImplicitDF": {
     "commandId": 1030752586928978,
     "dataframes": [
      "_sqldf"
     ]
    },
    "pythonIndentUnit": 4
   },
   "notebookName": "Eligibility Excel Data",
   "widgets": {}
  }
 },
 "nbformat": 4,
 "nbformat_minor": 0
}
