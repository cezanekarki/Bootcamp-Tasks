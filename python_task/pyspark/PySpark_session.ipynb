{
 "cells": [
  {
   "cell_type": "code",
   "execution_count": 0,
   "metadata": {
    "application/vnd.databricks.v1+cell": {
     "cellMetadata": {
      "byteLimit": 2048000,
      "rowLimit": 10000
     },
     "inputWidgets": {},
     "nuid": "cdaed38f-9c05-4d83-b196-7dea161ae1eb",
     "showTitle": false,
     "title": ""
    }
   },
   "outputs": [
    {
     "output_type": "display_data",
     "data": {
      "text/html": [
       "\n",
       "        <div>\n",
       "            <p><b>SparkContext</b></p>\n",
       "\n",
       "            <p><a href=\"/?o=442516449909443#setting/sparkui/0209-041026-x7sj3gdd/driver-4728283892039259805\">Spark UI</a></p>\n",
       "\n",
       "            <dl>\n",
       "              <dt>Version</dt>\n",
       "                <dd><code>v3.3.2</code></dd>\n",
       "              <dt>Master</dt>\n",
       "                <dd><code>local[8]</code></dd>\n",
       "              <dt>AppName</dt>\n",
       "                <dd><code>Databricks Shell</code></dd>\n",
       "            </dl>\n",
       "        </div>\n",
       "        "
      ]
     },
     "metadata": {
      "application/vnd.databricks.v1+output": {
       "addedWidgets": {},
       "arguments": {},
       "data": "\n        <div>\n            <p><b>SparkContext</b></p>\n\n            <p><a href=\"/?o=442516449909443#setting/sparkui/0209-041026-x7sj3gdd/driver-4728283892039259805\">Spark UI</a></p>\n\n            <dl>\n              <dt>Version</dt>\n                <dd><code>v3.3.2</code></dd>\n              <dt>Master</dt>\n                <dd><code>local[8]</code></dd>\n              <dt>AppName</dt>\n                <dd><code>Databricks Shell</code></dd>\n            </dl>\n        </div>\n        ",
       "datasetInfos": [],
       "metadata": {},
       "removedWidgets": [],
       "textData": null,
       "type": "htmlSandbox"
      }
     },
     "output_type": "display_data"
    }
   ],
   "source": [
    "# This is just for an example. Not required when using SparkSession\n",
    "\n",
    "from pyspark import SparkContext\n",
    "sc = SparkContext.getOrCreate()\n",
    "sc"
   ]
  },
  {
   "cell_type": "code",
   "execution_count": 0,
   "metadata": {
    "application/vnd.databricks.v1+cell": {
     "cellMetadata": {
      "byteLimit": 2048000,
      "rowLimit": 10000
     },
     "inputWidgets": {},
     "nuid": "948999ad-28be-4482-92f6-a3aa1d804b43",
     "showTitle": false,
     "title": ""
    }
   },
   "outputs": [
    {
     "output_type": "display_data",
     "data": {
      "text/html": [
       "\n",
       "            <div>\n",
       "                <p><b>SparkSession - hive</b></p>\n",
       "                \n",
       "        <div>\n",
       "            <p><b>SparkContext</b></p>\n",
       "\n",
       "            <p><a href=\"/?o=442516449909443#setting/sparkui/0209-041026-x7sj3gdd/driver-4728283892039259805\">Spark UI</a></p>\n",
       "\n",
       "            <dl>\n",
       "              <dt>Version</dt>\n",
       "                <dd><code>v3.3.2</code></dd>\n",
       "              <dt>Master</dt>\n",
       "                <dd><code>local[8]</code></dd>\n",
       "              <dt>AppName</dt>\n",
       "                <dd><code>Databricks Shell</code></dd>\n",
       "            </dl>\n",
       "        </div>\n",
       "        \n",
       "            </div>\n",
       "        "
      ]
     },
     "metadata": {
      "application/vnd.databricks.v1+output": {
       "addedWidgets": {},
       "arguments": {},
       "data": "\n            <div>\n                <p><b>SparkSession - hive</b></p>\n                \n        <div>\n            <p><b>SparkContext</b></p>\n\n            <p><a href=\"/?o=442516449909443#setting/sparkui/0209-041026-x7sj3gdd/driver-4728283892039259805\">Spark UI</a></p>\n\n            <dl>\n              <dt>Version</dt>\n                <dd><code>v3.3.2</code></dd>\n              <dt>Master</dt>\n                <dd><code>local[8]</code></dd>\n              <dt>AppName</dt>\n                <dd><code>Databricks Shell</code></dd>\n            </dl>\n        </div>\n        \n            </div>\n        ",
       "datasetInfos": [],
       "metadata": {},
       "removedWidgets": [],
       "textData": null,
       "type": "htmlSandbox"
      }
     },
     "output_type": "display_data"
    }
   ],
   "source": [
    "from pyspark.sql import SparkSession\n",
    "spark = SparkSession.builder.getOrCreate()\n",
    "spark"
   ]
  },
  {
   "cell_type": "code",
   "execution_count": 0,
   "metadata": {
    "application/vnd.databricks.v1+cell": {
     "cellMetadata": {
      "byteLimit": 2048000,
      "rowLimit": 10000
     },
     "inputWidgets": {},
     "nuid": "aa77710d-5607-4a8c-b011-61bf493952af",
     "showTitle": false,
     "title": ""
    }
   },
   "outputs": [
    {
     "output_type": "display_data",
     "data": {
      "text/html": [
       "<style scoped>\n",
       "  .table-result-container {\n",
       "    max-height: 300px;\n",
       "    overflow: auto;\n",
       "  }\n",
       "  table, th, td {\n",
       "    border: 1px solid black;\n",
       "    border-collapse: collapse;\n",
       "  }\n",
       "  th, td {\n",
       "    padding: 5px;\n",
       "  }\n",
       "  th {\n",
       "    text-align: left;\n",
       "  }\n",
       "</style><div class='table-result-container'><table class='table-result'><thead style='background-color: white'><tr><th>path</th><th>name</th><th>size</th><th>modificationTime</th></tr></thead><tbody><tr><td>dbfs:/FileStore/tables/csv/batch.csv</td><td>batch.csv</td><td>151</td><td>1707460729000</td></tr></tbody></table></div>"
      ]
     },
     "metadata": {
      "application/vnd.databricks.v1+output": {
       "addedWidgets": {},
       "aggData": [],
       "aggError": "",
       "aggOverflow": false,
       "aggSchema": [],
       "aggSeriesLimitReached": false,
       "aggType": "",
       "arguments": {},
       "columnCustomDisplayInfos": {},
       "data": [
        [
         "dbfs:/FileStore/tables/csv/batch.csv",
         "batch.csv",
         151,
         1707460729000
        ]
       ],
       "datasetInfos": [],
       "dbfsResultPath": null,
       "isJsonSchema": true,
       "metadata": {
        "isDbfsCommandResult": false
       },
       "overflow": false,
       "plotOptions": {
        "customPlotOptions": {},
        "displayType": "table",
        "pivotAggregation": null,
        "pivotColumns": null,
        "xColumns": null,
        "yColumns": null
       },
       "removedWidgets": [],
       "schema": [
        {
         "metadata": "{}",
         "name": "path",
         "type": "\"string\""
        },
        {
         "metadata": "{}",
         "name": "name",
         "type": "\"string\""
        },
        {
         "metadata": "{}",
         "name": "size",
         "type": "\"long\""
        },
        {
         "metadata": "{}",
         "name": "modificationTime",
         "type": "\"long\""
        }
       ],
       "type": "table"
      }
     },
     "output_type": "display_data"
    }
   ],
   "source": [
    "%fs ls dbfs:///FileStore/tables/csv"
   ]
  },
  {
   "cell_type": "markdown",
   "metadata": {
    "application/vnd.databricks.v1+cell": {
     "cellMetadata": {
      "byteLimit": 2048000,
      "rowLimit": 10000
     },
     "inputWidgets": {},
     "nuid": "5cd36329-3b3b-48b4-8930-1d709f91413b",
     "showTitle": false,
     "title": ""
    }
   },
   "source": [
    "### Goal\n",
    "\n",
    "Load three types of data:\n",
    "1. CSV batch file.\n",
    "2. JSONL batch file.\n",
    "3. JSON incremental files.\n",
    "4. Load the files into a single dataframe.\n",
    "\n",
    "### Scenario\n",
    "\n",
    "The client had sent their whole system data in CSV at the beginning.\n",
    "\n",
    "Later, the client switched from CSV to JSON.\n",
    "\n",
    "Instead of only sending the CDC data, they send a JSONL batch file and JSON incremental files."
   ]
  },
  {
   "cell_type": "code",
   "execution_count": 0,
   "metadata": {
    "application/vnd.databricks.v1+cell": {
     "cellMetadata": {
      "byteLimit": 2048000,
      "rowLimit": 10000
     },
     "inputWidgets": {},
     "nuid": "bf70389d-775a-4475-b37c-e332eca9e4b9",
     "showTitle": false,
     "title": ""
    }
   },
   "outputs": [],
   "source": [
    "from pyspark.sql import SparkSession"
   ]
  },
  {
   "cell_type": "code",
   "execution_count": 0,
   "metadata": {
    "application/vnd.databricks.v1+cell": {
     "cellMetadata": {
      "byteLimit": 2048000,
      "rowLimit": 10000
     },
     "inputWidgets": {},
     "nuid": "a5951a4e-51a4-4ee4-9603-a52128e25f07",
     "showTitle": false,
     "title": ""
    }
   },
   "outputs": [],
   "source": [
    "spark = SparkSession.builder.getOrCreate()"
   ]
  },
  {
   "cell_type": "code",
   "execution_count": 0,
   "metadata": {
    "application/vnd.databricks.v1+cell": {
     "cellMetadata": {
      "byteLimit": 2048000,
      "rowLimit": 10000
     },
     "inputWidgets": {},
     "nuid": "d3cae702-ff4b-43a0-884f-78e31465aac1",
     "showTitle": false,
     "title": ""
    }
   },
   "outputs": [
    {
     "output_type": "execute_result",
     "data": {
      "text/html": [
       "\n",
       "            <div>\n",
       "                <p><b>SparkSession - hive</b></p>\n",
       "                \n",
       "        <div>\n",
       "            <p><b>SparkContext</b></p>\n",
       "\n",
       "            <p><a href=\"/?o=442516449909443#setting/sparkui/0131-055549-t8z565hv/driver-7667437353079971078\">Spark UI</a></p>\n",
       "\n",
       "            <dl>\n",
       "              <dt>Version</dt>\n",
       "                <dd><code>v3.4.1</code></dd>\n",
       "              <dt>Master</dt>\n",
       "                <dd><code>local[8]</code></dd>\n",
       "              <dt>AppName</dt>\n",
       "                <dd><code>Databricks Shell</code></dd>\n",
       "            </dl>\n",
       "        </div>\n",
       "        \n",
       "            </div>\n",
       "        "
      ],
      "text/plain": [
       "<pyspark.sql.session.SparkSession at 0x7fc099097d90>"
      ]
     },
     "execution_count": 97,
     "metadata": {},
     "output_type": "execute_result"
    }
   ],
   "source": [
    "spark"
   ]
  },
  {
   "cell_type": "code",
   "execution_count": 0,
   "metadata": {
    "application/vnd.databricks.v1+cell": {
     "cellMetadata": {
      "byteLimit": 2048000,
      "rowLimit": 10000
     },
     "inputWidgets": {},
     "nuid": "f2fab1c1-14f4-4d41-bbd0-6658f7ed82a9",
     "showTitle": false,
     "title": ""
    }
   },
   "outputs": [
    {
     "output_type": "stream",
     "name": "stdout",
     "output_type": "stream",
     "text": [
      "Out[19]: pyspark.sql.session.SparkSession"
     ]
    }
   ],
   "source": [
    "type(spark)"
   ]
  },
  {
   "cell_type": "markdown",
   "metadata": {
    "application/vnd.databricks.v1+cell": {
     "cellMetadata": {
      "byteLimit": 2048000,
      "rowLimit": 10000
     },
     "inputWidgets": {},
     "nuid": "70e94a27-d2e7-462c-a809-963d5bce0209",
     "showTitle": false,
     "title": ""
    }
   },
   "source": [
    "# Extract Data"
   ]
  },
  {
   "cell_type": "markdown",
   "metadata": {
    "application/vnd.databricks.v1+cell": {
     "cellMetadata": {
      "byteLimit": 2048000,
      "rowLimit": 10000
     },
     "inputWidgets": {},
     "nuid": "157b7743-af0b-4a0f-aeab-3d7ccbdadcac",
     "showTitle": false,
     "title": ""
    }
   },
   "source": [
    "## Extract CSV batch"
   ]
  },
  {
   "cell_type": "code",
   "execution_count": 0,
   "metadata": {
    "application/vnd.databricks.v1+cell": {
     "cellMetadata": {
      "byteLimit": 2048000,
      "rowLimit": 10000
     },
     "inputWidgets": {},
     "nuid": "6cf84fd3-8fb0-4c42-be9f-8b8297afa784",
     "showTitle": false,
     "title": ""
    }
   },
   "outputs": [
    {
     "output_type": "display_data",
     "data": {
      "text/html": [
       "<style scoped>\n",
       "  .table-result-container {\n",
       "    max-height: 300px;\n",
       "    overflow: auto;\n",
       "  }\n",
       "  table, th, td {\n",
       "    border: 1px solid black;\n",
       "    border-collapse: collapse;\n",
       "  }\n",
       "  th, td {\n",
       "    padding: 5px;\n",
       "  }\n",
       "  th {\n",
       "    text-align: left;\n",
       "  }\n",
       "</style><div class='table-result-container'><table class='table-result'><thead style='background-color: white'><tr><th>path</th><th>name</th><th>size</th><th>modificationTime</th></tr></thead><tbody><tr><td>dbfs:/FileStore/tables/csv/batch.csv</td><td>batch.csv</td><td>151</td><td>1707460729000</td></tr></tbody></table></div>"
      ]
     },
     "metadata": {
      "application/vnd.databricks.v1+output": {
       "addedWidgets": {},
       "aggData": [],
       "aggError": "",
       "aggOverflow": false,
       "aggSchema": [],
       "aggSeriesLimitReached": false,
       "aggType": "",
       "arguments": {},
       "columnCustomDisplayInfos": {},
       "data": [
        [
         "dbfs:/FileStore/tables/csv/batch.csv",
         "batch.csv",
         151,
         1707460729000
        ]
       ],
       "datasetInfos": [],
       "dbfsResultPath": null,
       "isJsonSchema": true,
       "metadata": {
        "isDbfsCommandResult": false
       },
       "overflow": false,
       "plotOptions": {
        "customPlotOptions": {},
        "displayType": "table",
        "pivotAggregation": null,
        "pivotColumns": null,
        "xColumns": null,
        "yColumns": null
       },
       "removedWidgets": [],
       "schema": [
        {
         "metadata": "{}",
         "name": "path",
         "type": "\"string\""
        },
        {
         "metadata": "{}",
         "name": "name",
         "type": "\"string\""
        },
        {
         "metadata": "{}",
         "name": "size",
         "type": "\"long\""
        },
        {
         "metadata": "{}",
         "name": "modificationTime",
         "type": "\"long\""
        }
       ],
       "type": "table"
      }
     },
     "output_type": "display_data"
    }
   ],
   "source": [
    "%fs ls dbfs:///FileStore/tables/csv"
   ]
  },
  {
   "cell_type": "code",
   "execution_count": 0,
   "metadata": {
    "application/vnd.databricks.v1+cell": {
     "cellMetadata": {
      "byteLimit": 2048000,
      "rowLimit": 10000
     },
     "inputWidgets": {},
     "nuid": "9dea5ab0-1250-44ce-83aa-a29db2be3642",
     "showTitle": false,
     "title": ""
    }
   },
   "outputs": [],
   "source": [
    "df_csv = spark.read.format(\"csv\").load(\"dbfs:/FileStore/tables/csv/batch.csv\")"
   ]
  },
  {
   "cell_type": "code",
   "execution_count": 0,
   "metadata": {
    "application/vnd.databricks.v1+cell": {
     "cellMetadata": {
      "byteLimit": 2048000,
      "rowLimit": 10000
     },
     "inputWidgets": {},
     "nuid": "a1c9969d-e801-438c-a2b2-c73991bd22e2",
     "showTitle": false,
     "title": ""
    }
   },
   "outputs": [
    {
     "output_type": "stream",
     "name": "stdout",
     "output_type": "stream",
     "text": [
      "Out[17]: pyspark.sql.dataframe.DataFrame"
     ]
    }
   ],
   "source": [
    "type(df_csv)"
   ]
  },
  {
   "cell_type": "code",
   "execution_count": 0,
   "metadata": {
    "application/vnd.databricks.v1+cell": {
     "cellMetadata": {
      "byteLimit": 2048000,
      "rowLimit": 10000
     },
     "inputWidgets": {},
     "nuid": "fd3ee52f-c690-4ace-9d12-b330b5812c1b",
     "showTitle": false,
     "title": ""
    }
   },
   "outputs": [
    {
     "output_type": "stream",
     "name": "stdout",
     "output_type": "stream",
     "text": [
      "+---+-----+----------+----+------+----------+\n|_c0|  _c1|       _c2| _c3|   _c4|       _c5|\n+---+-----+----------+----+------+----------+\n| id| name|       dob| age|salary|department|\n|  1| John|1992-05-12|  30| 70000|        IT|\n|  2|Alice|1997-02-28|  25| 60000|        HR|\n|  3|  Bob|      NULL|NULL| 80000|        IT|\n|  4|Emily|1994-11-22|  28| 65000|   Finance|\n+---+-----+----------+----+------+----------+\n\n"
     ]
    }
   ],
   "source": [
    "df_csv.show()"
   ]
  },
  {
   "cell_type": "markdown",
   "metadata": {
    "application/vnd.databricks.v1+cell": {
     "cellMetadata": {
      "byteLimit": 2048000,
      "rowLimit": 10000
     },
     "inputWidgets": {},
     "nuid": "9e0f025e-0ce9-4bb6-8315-8efd9c370947",
     "showTitle": false,
     "title": ""
    }
   },
   "source": [
    "By default csv doesn't set header. You'll have to mention it."
   ]
  },
  {
   "cell_type": "code",
   "execution_count": 0,
   "metadata": {
    "application/vnd.databricks.v1+cell": {
     "cellMetadata": {
      "byteLimit": 2048000,
      "rowLimit": 10000
     },
     "inputWidgets": {},
     "nuid": "8efbb79b-9097-4fb2-bc7d-1864dea9ddc5",
     "showTitle": false,
     "title": ""
    }
   },
   "outputs": [],
   "source": [
    "df_csv = spark.read.format(\"csv\").option(\"header\", True).load(\"dbfs:/FileStore/tables/csv/batch.csv\")"
   ]
  },
  {
   "cell_type": "code",
   "execution_count": 0,
   "metadata": {
    "application/vnd.databricks.v1+cell": {
     "cellMetadata": {
      "byteLimit": 2048000,
      "rowLimit": 10000
     },
     "inputWidgets": {},
     "nuid": "1cb73028-691f-4dce-9755-cb125f3a4346",
     "showTitle": false,
     "title": ""
    }
   },
   "outputs": [],
   "source": [
    "df_csv = spark.read.format(\"csv\").option(\"header\", True).option(\"inferSchema\", True).load(\"dbfs:/FileStore/tables/csv/batch.csv\")"
   ]
  },
  {
   "cell_type": "code",
   "execution_count": 0,
   "metadata": {
    "application/vnd.databricks.v1+cell": {
     "cellMetadata": {
      "byteLimit": 2048000,
      "rowLimit": 10000
     },
     "inputWidgets": {},
     "nuid": "78145f37-62fc-4846-b940-8941110b3b44",
     "showTitle": false,
     "title": ""
    }
   },
   "outputs": [
    {
     "output_type": "stream",
     "name": "stdout",
     "output_type": "stream",
     "text": [
      "+---+-----+----------+----+------+----------+\n| id| name|       dob| age|salary|department|\n+---+-----+----------+----+------+----------+\n|  1| John|1992-05-12|  30| 70000|        IT|\n|  2|Alice|1997-02-28|  25| 60000|        HR|\n|  3|  Bob|      null|null| 80000|        IT|\n|  4|Emily|1994-11-22|  28| 65000|   Finance|\n+---+-----+----------+----+------+----------+\n\n"
     ]
    }
   ],
   "source": [
    "df_csv.show()"
   ]
  },
  {
   "cell_type": "markdown",
   "metadata": {
    "application/vnd.databricks.v1+cell": {
     "cellMetadata": {
      "byteLimit": 2048000,
      "rowLimit": 10000
     },
     "inputWidgets": {},
     "nuid": "2cbc0f91-6545-4588-a816-92c1767a5c60",
     "showTitle": false,
     "title": ""
    }
   },
   "source": [
    "The order of the data is according to the rows in CSV file."
   ]
  },
  {
   "cell_type": "code",
   "execution_count": 0,
   "metadata": {
    "application/vnd.databricks.v1+cell": {
     "cellMetadata": {
      "byteLimit": 2048000,
      "rowLimit": 10000
     },
     "inputWidgets": {},
     "nuid": "bc8a67fe-da1e-4667-a282-118fd856d5b6",
     "showTitle": false,
     "title": ""
    }
   },
   "outputs": [
    {
     "output_type": "stream",
     "name": "stdout",
     "output_type": "stream",
     "text": [
      "root\n |-- id: integer (nullable = true)\n |-- name: string (nullable = true)\n |-- dob: date (nullable = true)\n |-- age: integer (nullable = true)\n |-- salary: integer (nullable = true)\n |-- department: string (nullable = true)\n\n"
     ]
    }
   ],
   "source": [
    "df_csv.printSchema()"
   ]
  },
  {
   "cell_type": "markdown",
   "metadata": {
    "application/vnd.databricks.v1+cell": {
     "cellMetadata": {
      "byteLimit": 2048000,
      "rowLimit": 10000
     },
     "inputWidgets": {},
     "nuid": "44d1ad63-77d2-4ddd-a0bf-16d62f63756f",
     "showTitle": false,
     "title": ""
    }
   },
   "source": [
    "The order of the columns is according to the CSV file. But all the columns have string datatype."
   ]
  },
  {
   "cell_type": "code",
   "execution_count": 0,
   "metadata": {
    "application/vnd.databricks.v1+cell": {
     "cellMetadata": {
      "byteLimit": 2048000,
      "rowLimit": 10000
     },
     "inputWidgets": {},
     "nuid": "4b682fde-3338-4a81-8a0e-c97ccf310045",
     "showTitle": false,
     "title": ""
    }
   },
   "outputs": [],
   "source": [
    "from pyspark.sql.types import StructType, StructField, IntegerType, StringType, DateType"
   ]
  },
  {
   "cell_type": "code",
   "execution_count": 0,
   "metadata": {
    "application/vnd.databricks.v1+cell": {
     "cellMetadata": {
      "byteLimit": 2048000,
      "rowLimit": 10000
     },
     "inputWidgets": {},
     "nuid": "e63759af-4dd1-467d-a5a6-be07fa5425f8",
     "showTitle": false,
     "title": ""
    }
   },
   "outputs": [],
   "source": [
    "sch = StructType([\n",
    "    StructField(\"id\", IntegerType()),\n",
    "    StructField(\"name\", StringType()),\n",
    "    StructField(\"dob\", DateType()),\n",
    "    StructField(\"age\", IntegerType()),\n",
    "    StructField(\"salary\", IntegerType()),\n",
    "    StructField(\"department\", StringType()),\n",
    "])"
   ]
  },
  {
   "cell_type": "code",
   "execution_count": 0,
   "metadata": {
    "application/vnd.databricks.v1+cell": {
     "cellMetadata": {
      "byteLimit": 2048000,
      "rowLimit": 10000
     },
     "inputWidgets": {},
     "nuid": "b55e6ed0-d192-471a-b2d9-13f56aaa8e90",
     "showTitle": false,
     "title": ""
    }
   },
   "outputs": [],
   "source": [
    "df_csv = spark.read.format(\"csv\").schema(sch).option(\"header\", True).load(\"dbfs:/FileStore/tables/csv/batch.csv\")"
   ]
  },
  {
   "cell_type": "markdown",
   "metadata": {
    "application/vnd.databricks.v1+cell": {
     "cellMetadata": {
      "byteLimit": 2048000,
      "rowLimit": 10000
     },
     "inputWidgets": {},
     "nuid": "ff0cd9ee-4630-4f2a-9959-7af342af71f5",
     "showTitle": false,
     "title": ""
    }
   },
   "source": [
    "We fix it by defining schema."
   ]
  },
  {
   "cell_type": "code",
   "execution_count": 0,
   "metadata": {
    "application/vnd.databricks.v1+cell": {
     "cellMetadata": {
      "byteLimit": 2048000,
      "rowLimit": 10000
     },
     "inputWidgets": {},
     "nuid": "e23f1442-4205-4afd-bfac-70ec26581452",
     "showTitle": false,
     "title": ""
    }
   },
   "outputs": [
    {
     "output_type": "stream",
     "name": "stdout",
     "output_type": "stream",
     "text": [
      "root\n |-- id: integer (nullable = true)\n |-- name: string (nullable = true)\n |-- dob: date (nullable = true)\n |-- age: integer (nullable = true)\n |-- salary: integer (nullable = true)\n |-- department: string (nullable = true)\n\n"
     ]
    }
   ],
   "source": [
    "df_csv.printSchema()"
   ]
  },
  {
   "cell_type": "code",
   "execution_count": 0,
   "metadata": {
    "application/vnd.databricks.v1+cell": {
     "cellMetadata": {
      "byteLimit": 2048000,
      "rowLimit": 10000
     },
     "inputWidgets": {},
     "nuid": "ad246fe0-1021-4923-bffa-8527012dda00",
     "showTitle": false,
     "title": ""
    }
   },
   "outputs": [
    {
     "output_type": "stream",
     "name": "stdout",
     "output_type": "stream",
     "text": [
      "+---+-----+----------+----+------+----------+\n| id| name|       dob| age|salary|department|\n+---+-----+----------+----+------+----------+\n|  1| John|1992-05-12|  30| 70000|        IT|\n|  2|Alice|1997-02-28|  25| 60000|        HR|\n|  3|  Bob|      NULL|NULL| 80000|        IT|\n|  4|Emily|1994-11-22|  28| 65000|   Finance|\n+---+-----+----------+----+------+----------+\n\n"
     ]
    }
   ],
   "source": [
    "df_csv.show()"
   ]
  },
  {
   "cell_type": "markdown",
   "metadata": {
    "application/vnd.databricks.v1+cell": {
     "cellMetadata": {
      "byteLimit": 2048000,
      "rowLimit": 10000
     },
     "inputWidgets": {},
     "nuid": "6a3a93d6-0d07-48ee-842a-4a0833c8d1b5",
     "showTitle": false,
     "title": ""
    },
    "jp-MarkdownHeadingCollapsed": true
   },
   "source": [
    "## Extract JSON"
   ]
  },
  {
   "cell_type": "code",
   "execution_count": 0,
   "metadata": {
    "application/vnd.databricks.v1+cell": {
     "cellMetadata": {
      "byteLimit": 2048000,
      "rowLimit": 10000
     },
     "inputWidgets": {},
     "nuid": "2fdceab6-4b11-4e2d-9bcd-9b56fed0d3ef",
     "showTitle": false,
     "title": ""
    }
   },
   "outputs": [],
   "source": [
    "df_json = spark.read.format(\"json\").load(\"dbfs:/FileStore/tables/json\") # Sets header auto. No order of data."
   ]
  },
  {
   "cell_type": "markdown",
   "metadata": {
    "application/vnd.databricks.v1+cell": {
     "cellMetadata": {
      "byteLimit": 2048000,
      "rowLimit": 10000
     },
     "inputWidgets": {},
     "nuid": "a14b56de-920f-4e0f-8234-eaa6b91662f2",
     "showTitle": false,
     "title": ""
    }
   },
   "source": [
    "Loading data from json files sets the header according to the keys. But the order of data is not maintained."
   ]
  },
  {
   "cell_type": "code",
   "execution_count": 0,
   "metadata": {
    "application/vnd.databricks.v1+cell": {
     "cellMetadata": {
      "byteLimit": 2048000,
      "rowLimit": 10000
     },
     "inputWidgets": {},
     "nuid": "bb077bd9-0738-4ae8-b523-12408fa5bfd6",
     "showTitle": false,
     "title": ""
    }
   },
   "outputs": [
    {
     "output_type": "stream",
     "name": "stdout",
     "output_type": "stream",
     "text": [
      "+----+----------+----------+---+------+------+\n| age|department|       dob| id|  name|salary|\n+----+----------+----------+---+------+------+\n|  30|        IT|1992-05-12|  1|  John| 70000|\n|  25|        HR|1997-02-28|  2| Alice| 60000|\n|null|        IT|      null|  3|   Bob| 80000|\n|  28|   Finance|1994-11-22|  4| Emily| 65000|\n|  41|        HR|1981-12-18|  5| David| 90000|\n|  33|   Finance|1989-07-05|  6| Susan| 75000|\n|  46|        IT|1976-03-15|  7|  Mike| 95000|\n|  30|   Finance|1992-06-30| 10|Sophie| 62000|\n|  25|   Finance|1997-02-28|  2| Alice| 90000|\n|  28|   Finance|1994-11-22|  4| Emily| 70000|\n|  39|        IT|1983-10-14|  9| James| 87000|\n|  30|        IT|1992-05-12|  1|  John| 70000|\n|  27|        HR|1995-08-20|  8|  Lisa| 58000|\n+----+----------+----------+---+------+------+\n\n"
     ]
    }
   ],
   "source": [
    "df_json.show()"
   ]
  },
  {
   "cell_type": "code",
   "execution_count": 0,
   "metadata": {
    "application/vnd.databricks.v1+cell": {
     "cellMetadata": {
      "byteLimit": 2048000,
      "rowLimit": 10000
     },
     "inputWidgets": {},
     "nuid": "25346233-a1a1-42ff-9b1b-22faede9bee2",
     "showTitle": false,
     "title": ""
    }
   },
   "outputs": [],
   "source": [
    "df_json = df_json.orderBy(\"id\")"
   ]
  },
  {
   "cell_type": "code",
   "execution_count": 0,
   "metadata": {
    "application/vnd.databricks.v1+cell": {
     "cellMetadata": {
      "byteLimit": 2048000,
      "rowLimit": 10000
     },
     "inputWidgets": {},
     "nuid": "dbf2d7e2-7dff-4537-864a-151cb2eec2dd",
     "showTitle": false,
     "title": ""
    }
   },
   "outputs": [
    {
     "output_type": "stream",
     "name": "stdout",
     "output_type": "stream",
     "text": [
      "+----+----------+----------+---+------+------+\n| age|department|       dob| id|  name|salary|\n+----+----------+----------+---+------+------+\n|  30|        IT|1992-05-12|  1|  John| 70000|\n|  30|        IT|1992-05-12|  1|  John| 70000|\n|  25|   Finance|1997-02-28|  2| Alice| 90000|\n|  25|        HR|1997-02-28|  2| Alice| 60000|\n|null|        IT|      null|  3|   Bob| 80000|\n|  28|   Finance|1994-11-22|  4| Emily| 70000|\n|  28|   Finance|1994-11-22|  4| Emily| 65000|\n|  41|        HR|1981-12-18|  5| David| 90000|\n|  33|   Finance|1989-07-05|  6| Susan| 75000|\n|  46|        IT|1976-03-15|  7|  Mike| 95000|\n|  27|        HR|1995-08-20|  8|  Lisa| 58000|\n|  39|        IT|1983-10-14|  9| James| 87000|\n|  30|   Finance|1992-06-30| 10|Sophie| 62000|\n+----+----------+----------+---+------+------+\n\n"
     ]
    }
   ],
   "source": [
    "df_json.show()"
   ]
  },
  {
   "cell_type": "code",
   "execution_count": 0,
   "metadata": {
    "application/vnd.databricks.v1+cell": {
     "cellMetadata": {
      "byteLimit": 2048000,
      "rowLimit": 10000
     },
     "inputWidgets": {},
     "nuid": "3398340c-8672-4f40-a952-4271bbe6ca02",
     "showTitle": false,
     "title": ""
    }
   },
   "outputs": [
    {
     "output_type": "stream",
     "name": "stdout",
     "output_type": "stream",
     "text": [
      "root\n |-- age: long (nullable = true)\n |-- department: string (nullable = true)\n |-- dob: string (nullable = true)\n |-- id: long (nullable = true)\n |-- name: string (nullable = true)\n |-- salary: long (nullable = true)\n\n"
     ]
    }
   ],
   "source": [
    "df_json.printSchema() # Infers schema"
   ]
  },
  {
   "cell_type": "markdown",
   "metadata": {
    "application/vnd.databricks.v1+cell": {
     "cellMetadata": {
      "byteLimit": 2048000,
      "rowLimit": 10000
     },
     "inputWidgets": {},
     "nuid": "f05bff77-19c6-477c-9d87-3b2f440833b1",
     "showTitle": false,
     "title": ""
    }
   },
   "source": [
    "## Nulls"
   ]
  },
  {
   "cell_type": "code",
   "execution_count": 0,
   "metadata": {
    "application/vnd.databricks.v1+cell": {
     "cellMetadata": {
      "byteLimit": 2048000,
      "rowLimit": 10000
     },
     "inputWidgets": {},
     "nuid": "6f1e2aff-357f-48e7-b0ae-4f6a982e5dc6",
     "showTitle": false,
     "title": ""
    }
   },
   "outputs": [],
   "source": [
    "df = df.withColumns(\n",
    "    {\n",
    "        \"age\": F.coalesce(\n",
    "            F.year(F.current_timestamp()) - F.year(F.col(\"dob\")),\n",
    "            F.lit(0),\n",
    "        ),\n",
    "        \"has_dob_1\": ~(F.isnull(\"dob\")),\n",
    "        \"has_dob_2\": F.col(\"dob\").isNotNull(),\n",
    "    }\n",
    ")"
   ]
  },
  {
   "cell_type": "code",
   "execution_count": 0,
   "metadata": {
    "application/vnd.databricks.v1+cell": {
     "cellMetadata": {
      "byteLimit": 2048000,
      "rowLimit": 10000
     },
     "inputWidgets": {},
     "nuid": "9f7b283a-ccc0-4a78-8e77-1c7d9507fbb0",
     "showTitle": false,
     "title": ""
    }
   },
   "outputs": [
    {
     "output_type": "stream",
     "name": "stdout",
     "output_type": "stream",
     "text": [
      "+---+------+----------+---+------+----------+------------+------------+---------------+---------+---------+\n| id|  name|       dob|age|salary|department|salary_raise|   age_group|        company|has_dob_1|has_dob_2|\n+---+------+----------+---+------+----------+------------+------------+---------------+---------+---------+\n|  3|   Bob|      NULL|  0| 80000|        IT|     84000.0|More than 40|Abacus Insights|    false|    false|\n|  4| Emily|1994-11-22| 30| 65000|   Finance|     68250.0|    21 to 30|Abacus Insights|     true|     true|\n|  2| Alice|1997-02-28| 27| 60000|        HR|     63000.0|    21 to 30|Abacus Insights|     true|     true|\n|  1|  John|1992-05-12| 32| 70000|        IT|     73500.0|    31 to 40|Abacus Insights|     true|     true|\n|  5| David|1981-12-18| 43| 90000|        HR|     94500.0|More than 40|Abacus Insights|     true|     true|\n|  6| Susan|1989-07-05| 35| 75000|   Finance|     78750.0|    31 to 40|Abacus Insights|     true|     true|\n|  7|  Mike|1976-03-15| 48| 95000|        IT|     99750.0|More than 40|Abacus Insights|     true|     true|\n| 10|Sophie|1992-06-30| 32| 62000|   Finance|     65100.0|    31 to 40|Abacus Insights|     true|     true|\n|  2| Alice|1997-02-28| 27| 90000|   Finance|     94500.0|    21 to 30|Abacus Insights|     true|     true|\n|  4| Emily|1994-11-22| 30| 70000|   Finance|     73500.0|    21 to 30|Abacus Insights|     true|     true|\n|  9| James|1983-10-14| 41| 87000|        IT|     91350.0|More than 40|Abacus Insights|     true|     true|\n|  8|  Lisa|1995-08-20| 29| 58000|        HR|     60900.0|    21 to 30|Abacus Insights|     true|     true|\n+---+------+----------+---+------+----------+------------+------------+---------------+---------+---------+\n\n"
     ]
    }
   ],
   "source": [
    "df.show()"
   ]
  },
  {
   "cell_type": "markdown",
   "metadata": {
    "application/vnd.databricks.v1+cell": {
     "cellMetadata": {
      "byteLimit": 2048000,
      "rowLimit": 10000
     },
     "inputWidgets": {},
     "nuid": "1f7e89ec-46f0-40a0-b015-63b45b3ced6a",
     "showTitle": false,
     "title": ""
    }
   },
   "source": [
    "## Drop Col"
   ]
  },
  {
   "cell_type": "markdown",
   "metadata": {
    "application/vnd.databricks.v1+cell": {
     "cellMetadata": {
      "byteLimit": 2048000,
      "rowLimit": 10000
     },
     "inputWidgets": {},
     "nuid": "3a210fa2-4452-4a1c-b9c6-1f0489aae1bf",
     "showTitle": false,
     "title": ""
    }
   },
   "source": [
    "##### Method 1"
   ]
  },
  {
   "cell_type": "code",
   "execution_count": 0,
   "metadata": {
    "application/vnd.databricks.v1+cell": {
     "cellMetadata": {
      "byteLimit": 2048000,
      "rowLimit": 10000
     },
     "inputWidgets": {},
     "nuid": "bab8a63d-921b-420c-8f27-1a5724e09bde",
     "showTitle": false,
     "title": ""
    }
   },
   "outputs": [
    {
     "output_type": "stream",
     "name": "stdout",
     "output_type": "stream",
     "text": [
      "+---+------+----------+------+----------+------------+------------+\n| id|  name|       dob|salary|department|salary_raise|   age_group|\n+---+------+----------+------+----------+------------+------------+\n|  3|   Bob|      NULL| 80000|        IT|     84000.0|More than 40|\n|  4| Emily|1994-11-22| 65000|   Finance|     68250.0|    21 to 30|\n|  2| Alice|1997-02-28| 60000|        HR|     63000.0|    21 to 30|\n|  1|  John|1992-05-12| 70000|        IT|     73500.0|    31 to 40|\n|  5| David|1981-12-18| 90000|        HR|     94500.0|More than 40|\n|  6| Susan|1989-07-05| 75000|   Finance|     78750.0|    31 to 40|\n|  7|  Mike|1976-03-15| 95000|        IT|     99750.0|More than 40|\n| 10|Sophie|1992-06-30| 62000|   Finance|     65100.0|    31 to 40|\n|  2| Alice|1997-02-28| 90000|   Finance|     94500.0|    21 to 30|\n|  4| Emily|1994-11-22| 70000|   Finance|     73500.0|    21 to 30|\n|  9| James|1983-10-14| 87000|        IT|     91350.0|More than 40|\n|  8|  Lisa|1995-08-20| 58000|        HR|     60900.0|    21 to 30|\n+---+------+----------+------+----------+------------+------------+\n\n"
     ]
    }
   ],
   "source": [
    "df.select(\n",
    "    \"id\",\n",
    "    \"name\",\n",
    "    \"dob\",\n",
    "    \"salary\",\n",
    "    \"department\",\n",
    "    \"salary_raise\",\n",
    "    \"age_group\",\n",
    "    # \"company\",\n",
    ").show()"
   ]
  },
  {
   "cell_type": "markdown",
   "metadata": {
    "application/vnd.databricks.v1+cell": {
     "cellMetadata": {
      "byteLimit": 2048000,
      "rowLimit": 10000
     },
     "inputWidgets": {},
     "nuid": "5ca0f781-b0a8-4d39-88e6-5e6ebc729523",
     "showTitle": false,
     "title": ""
    }
   },
   "source": [
    "##### Method 2"
   ]
  },
  {
   "cell_type": "code",
   "execution_count": 0,
   "metadata": {
    "application/vnd.databricks.v1+cell": {
     "cellMetadata": {
      "byteLimit": 2048000,
      "rowLimit": 10000
     },
     "inputWidgets": {},
     "nuid": "9e41735d-5029-4377-b0f6-59575c238aa9",
     "showTitle": false,
     "title": ""
    }
   },
   "outputs": [],
   "source": [
    "df = df.drop(\"company\", \"has_dob_1\", \"has_dob_2\")"
   ]
  },
  {
   "cell_type": "code",
   "execution_count": 0,
   "metadata": {
    "application/vnd.databricks.v1+cell": {
     "cellMetadata": {
      "byteLimit": 2048000,
      "rowLimit": 10000
     },
     "inputWidgets": {},
     "nuid": "d46982e6-5ab2-4124-bb19-45bc342ccff3",
     "showTitle": false,
     "title": ""
    }
   },
   "outputs": [
    {
     "output_type": "stream",
     "name": "stdout",
     "output_type": "stream",
     "text": [
      "+---+------+----------+---+------+----------+------------+------------+\n| id|  name|       dob|age|salary|department|salary_raise|   age_group|\n+---+------+----------+---+------+----------+------------+------------+\n|  3|   Bob|      NULL|  0| 80000|        IT|     84000.0|More than 40|\n|  4| Emily|1994-11-22| 30| 65000|   Finance|     68250.0|    21 to 30|\n|  2| Alice|1997-02-28| 27| 60000|        HR|     63000.0|    21 to 30|\n|  1|  John|1992-05-12| 32| 70000|        IT|     73500.0|    31 to 40|\n|  5| David|1981-12-18| 43| 90000|        HR|     94500.0|More than 40|\n|  6| Susan|1989-07-05| 35| 75000|   Finance|     78750.0|    31 to 40|\n|  7|  Mike|1976-03-15| 48| 95000|        IT|     99750.0|More than 40|\n| 10|Sophie|1992-06-30| 32| 62000|   Finance|     65100.0|    31 to 40|\n|  2| Alice|1997-02-28| 27| 90000|   Finance|     94500.0|    21 to 30|\n|  4| Emily|1994-11-22| 30| 70000|   Finance|     73500.0|    21 to 30|\n|  9| James|1983-10-14| 41| 87000|        IT|     91350.0|More than 40|\n|  8|  Lisa|1995-08-20| 29| 58000|        HR|     60900.0|    21 to 30|\n+---+------+----------+---+------+----------+------------+------------+\n\n"
     ]
    }
   ],
   "source": [
    "df.show()"
   ]
  },
  {
   "cell_type": "markdown",
   "metadata": {
    "application/vnd.databricks.v1+cell": {
     "cellMetadata": {
      "byteLimit": 2048000,
      "rowLimit": 10000
     },
     "inputWidgets": {},
     "nuid": "815ae616-02fb-45c9-a652-bdd69553438e",
     "showTitle": false,
     "title": ""
    }
   },
   "source": [
    "## withColumnRenamed"
   ]
  },
  {
   "cell_type": "code",
   "execution_count": 0,
   "metadata": {
    "application/vnd.databricks.v1+cell": {
     "cellMetadata": {
      "byteLimit": 2048000,
      "rowLimit": 10000
     },
     "inputWidgets": {},
     "nuid": "69e65397-4552-4d7d-9764-d4b5ac3fc6f5",
     "showTitle": false,
     "title": ""
    }
   },
   "outputs": [],
   "source": [
    "df = df.withColumnRenamed(\"name\", \"first_name\")"
   ]
  },
  {
   "cell_type": "code",
   "execution_count": 0,
   "metadata": {
    "application/vnd.databricks.v1+cell": {
     "cellMetadata": {
      "byteLimit": 2048000,
      "rowLimit": 10000
     },
     "inputWidgets": {},
     "nuid": "45d76aed-00ae-4fd4-891b-ebaa161561f6",
     "showTitle": false,
     "title": ""
    }
   },
   "outputs": [
    {
     "output_type": "stream",
     "name": "stdout",
     "output_type": "stream",
     "text": [
      "+---+----------+----------+---+------+----------+------------+------------+\n| id|first_name|       dob|age|salary|department|salary_raise|   age_group|\n+---+----------+----------+---+------+----------+------------+------------+\n|  3|       Bob|      NULL|  0| 80000|        IT|     84000.0|More than 40|\n|  4|     Emily|1994-11-22| 30| 65000|   Finance|     68250.0|    21 to 30|\n|  2|     Alice|1997-02-28| 27| 60000|        HR|     63000.0|    21 to 30|\n|  1|      John|1992-05-12| 32| 70000|        IT|     73500.0|    31 to 40|\n|  5|     David|1981-12-18| 43| 90000|        HR|     94500.0|More than 40|\n|  6|     Susan|1989-07-05| 35| 75000|   Finance|     78750.0|    31 to 40|\n|  7|      Mike|1976-03-15| 48| 95000|        IT|     99750.0|More than 40|\n| 10|    Sophie|1992-06-30| 32| 62000|   Finance|     65100.0|    31 to 40|\n|  2|     Alice|1997-02-28| 27| 90000|   Finance|     94500.0|    21 to 30|\n|  4|     Emily|1994-11-22| 30| 70000|   Finance|     73500.0|    21 to 30|\n|  9|     James|1983-10-14| 41| 87000|        IT|     91350.0|More than 40|\n|  8|      Lisa|1995-08-20| 29| 58000|        HR|     60900.0|    21 to 30|\n+---+----------+----------+---+------+----------+------------+------------+\n\n"
     ]
    }
   ],
   "source": [
    "df.show()"
   ]
  },
  {
   "cell_type": "markdown",
   "metadata": {
    "application/vnd.databricks.v1+cell": {
     "cellMetadata": {
      "byteLimit": 2048000,
      "rowLimit": 10000
     },
     "inputWidgets": {},
     "nuid": "455db4d4-f3fe-43ee-9c05-a39c71b7d732",
     "showTitle": false,
     "title": ""
    }
   },
   "source": [
    "## Partition By"
   ]
  },
  {
   "cell_type": "code",
   "execution_count": 0,
   "metadata": {
    "application/vnd.databricks.v1+cell": {
     "cellMetadata": {
      "byteLimit": 2048000,
      "rowLimit": 10000
     },
     "inputWidgets": {},
     "nuid": "b4444659-486a-496b-87a7-1d0292d480bb",
     "showTitle": false,
     "title": ""
    }
   },
   "outputs": [],
   "source": [
    "from pyspark.sql import Window"
   ]
  },
  {
   "cell_type": "code",
   "execution_count": 0,
   "metadata": {
    "application/vnd.databricks.v1+cell": {
     "cellMetadata": {
      "byteLimit": 2048000,
      "rowLimit": 10000
     },
     "inputWidgets": {},
     "nuid": "08e5d473-3a5f-40fb-90a9-6753a84de68b",
     "showTitle": false,
     "title": ""
    }
   },
   "outputs": [
    {
     "output_type": "stream",
     "name": "stdout",
     "output_type": "stream",
     "text": [
      "+---+----------+----------+---+------+----------+------------+------------+----------------+\n| id|first_name|       dob|age|salary|department|salary_raise|   age_group|min_age_in_group|\n+---+----------+----------+---+------+----------+------------+------------+----------------+\n|  4|     Emily|1994-11-22| 30| 65000|   Finance|     68250.0|    21 to 30|              27|\n|  2|     Alice|1997-02-28| 27| 60000|        HR|     63000.0|    21 to 30|              27|\n|  2|     Alice|1997-02-28| 27| 90000|   Finance|     94500.0|    21 to 30|              27|\n|  4|     Emily|1994-11-22| 30| 70000|   Finance|     73500.0|    21 to 30|              27|\n|  8|      Lisa|1995-08-20| 29| 58000|        HR|     60900.0|    21 to 30|              27|\n|  1|      John|1992-05-12| 32| 70000|        IT|     73500.0|    31 to 40|              32|\n|  6|     Susan|1989-07-05| 35| 75000|   Finance|     78750.0|    31 to 40|              32|\n| 10|    Sophie|1992-06-30| 32| 62000|   Finance|     65100.0|    31 to 40|              32|\n|  3|       Bob|      NULL|  0| 80000|        IT|     84000.0|More than 40|               0|\n|  5|     David|1981-12-18| 43| 90000|        HR|     94500.0|More than 40|               0|\n|  7|      Mike|1976-03-15| 48| 95000|        IT|     99750.0|More than 40|               0|\n|  9|     James|1983-10-14| 41| 87000|        IT|     91350.0|More than 40|               0|\n+---+----------+----------+---+------+----------+------------+------------+----------------+\n\n"
     ]
    }
   ],
   "source": [
    "window = Window.partitionBy(\"age_group\")\n",
    "\n",
    "df.withColumn(\n",
    "    \"min_age_in_group\",\n",
    "    F.min(\"age\").over(window)\n",
    ").show()"
   ]
  },
  {
   "cell_type": "markdown",
   "metadata": {
    "application/vnd.databricks.v1+cell": {
     "cellMetadata": {
      "byteLimit": 2048000,
      "rowLimit": 10000
     },
     "inputWidgets": {},
     "nuid": "6b34ae36-1176-4167-a07e-c887ddbd94f2",
     "showTitle": false,
     "title": ""
    }
   },
   "source": [
    "## Task\n",
    "Calculate mean salary and check if it is greater or equal to the salary of employees in each department.\n",
    "\n",
    "Calculate mean salary and check if it is greater or equal to the salary of all employees."
   ]
  },
  {
   "cell_type": "code",
   "execution_count": 0,
   "metadata": {
    "application/vnd.databricks.v1+cell": {
     "cellMetadata": {
      "byteLimit": 2048000,
      "rowLimit": 10000
     },
     "inputWidgets": {},
     "nuid": "1a97bdc0-6669-40d0-a117-c28c599eec54",
     "showTitle": false,
     "title": ""
    }
   },
   "outputs": [
    {
     "output_type": "stream",
     "name": "stdout",
     "output_type": "stream",
     "text": [
      "+---+----------+----------+---+------+----------+------------+------------+----------------------+\n| id|first_name|       dob|age|salary|department|salary_raise|   age_group|mean_salary_department|\n+---+----------+----------+---+------+----------+------------+------------+----------------------+\n|  4|     Emily|1994-11-22| 30| 65000|   Finance|     68250.0|    21 to 30|               72400.0|\n|  6|     Susan|1989-07-05| 35| 75000|   Finance|     78750.0|    31 to 40|               72400.0|\n| 10|    Sophie|1992-06-30| 32| 62000|   Finance|     65100.0|    31 to 40|               72400.0|\n|  2|     Alice|1997-02-28| 27| 90000|   Finance|     94500.0|    21 to 30|               72400.0|\n|  4|     Emily|1994-11-22| 30| 70000|   Finance|     73500.0|    21 to 30|               72400.0|\n|  2|     Alice|1997-02-28| 27| 60000|        HR|     63000.0|    21 to 30|     69333.33333333333|\n|  5|     David|1981-12-18| 43| 90000|        HR|     94500.0|More than 40|     69333.33333333333|\n|  8|      Lisa|1995-08-20| 29| 58000|        HR|     60900.0|    21 to 30|     69333.33333333333|\n|  3|       Bob|      NULL|  0| 80000|        IT|     84000.0|More than 40|               83000.0|\n|  1|      John|1992-05-12| 32| 70000|        IT|     73500.0|    31 to 40|               83000.0|\n|  7|      Mike|1976-03-15| 48| 95000|        IT|     99750.0|More than 40|               83000.0|\n|  9|     James|1983-10-14| 41| 87000|        IT|     91350.0|More than 40|               83000.0|\n+---+----------+----------+---+------+----------+------------+------------+----------------------+\n\n"
     ]
    }
   ],
   "source": [
    "window_spec = Window.partitionBy(\"department\")\n",
    "\n",
    "df.withColumn(\n",
    "    \"mean_salary_department\",\n",
    "    F.mean(\"salary\").over(window_spec)\n",
    ").show()"
   ]
  },
  {
   "cell_type": "code",
   "execution_count": 0,
   "metadata": {
    "application/vnd.databricks.v1+cell": {
     "cellMetadata": {
      "byteLimit": 2048000,
      "rowLimit": 10000
     },
     "inputWidgets": {},
     "nuid": "37ea7b6c-87fa-435d-8385-bbc518fccf5b",
     "showTitle": false,
     "title": ""
    }
   },
   "outputs": [
    {
     "output_type": "stream",
     "name": "stdout",
     "output_type": "stream",
     "text": [
      "+---+----------+----------+---+------+----------+------------+------------+--------------------+\n| id|first_name|       dob|age|salary|department|salary_raise|   age_group|is_salary_above_mean|\n+---+----------+----------+---+------+----------+------------+------------+--------------------+\n|  3|       Bob|      NULL|  0| 80000|        IT|     84000.0|More than 40|                true|\n|  4|     Emily|1994-11-22| 30| 65000|   Finance|     68250.0|    21 to 30|               false|\n|  2|     Alice|1997-02-28| 27| 60000|        HR|     63000.0|    21 to 30|               false|\n|  1|      John|1992-05-12| 32| 70000|        IT|     73500.0|    31 to 40|               false|\n|  5|     David|1981-12-18| 43| 90000|        HR|     94500.0|More than 40|                true|\n|  6|     Susan|1989-07-05| 35| 75000|   Finance|     78750.0|    31 to 40|               false|\n|  7|      Mike|1976-03-15| 48| 95000|        IT|     99750.0|More than 40|                true|\n| 10|    Sophie|1992-06-30| 32| 62000|   Finance|     65100.0|    31 to 40|               false|\n|  2|     Alice|1997-02-28| 27| 90000|   Finance|     94500.0|    21 to 30|                true|\n|  4|     Emily|1994-11-22| 30| 70000|   Finance|     73500.0|    21 to 30|               false|\n|  9|     James|1983-10-14| 41| 87000|        IT|     91350.0|More than 40|                true|\n|  8|      Lisa|1995-08-20| 29| 58000|        HR|     60900.0|    21 to 30|               false|\n+---+----------+----------+---+------+----------+------------+------------+--------------------+\n\n"
     ]
    }
   ],
   "source": [
    "window_spec = Window.partitionBy()\n",
    "window_spec = Window.orderBy()\n",
    "window_spec = Window.partitionBy().orderBy()\n",
    "\n",
    "df.withColumn(\n",
    "    \"is_salary_above_mean\",\n",
    "    (\n",
    "        F.col(\"salary\") >= F.mean(\"salary\").over(window_spec)\n",
    "    )\n",
    ").show()"
   ]
  },
  {
   "cell_type": "markdown",
   "metadata": {
    "application/vnd.databricks.v1+cell": {
     "cellMetadata": {
      "byteLimit": 2048000,
      "rowLimit": 10000
     },
     "inputWidgets": {},
     "nuid": "5517be27-459f-490c-84c2-1f71450e6080",
     "showTitle": false,
     "title": ""
    }
   },
   "source": [
    "## Join"
   ]
  },
  {
   "cell_type": "code",
   "execution_count": 0,
   "metadata": {
    "application/vnd.databricks.v1+cell": {
     "cellMetadata": {
      "byteLimit": 2048000,
      "rowLimit": 10000
     },
     "inputWidgets": {},
     "nuid": "56ebeb02-789e-4a5e-a59b-95026098aedb",
     "showTitle": false,
     "title": ""
    }
   },
   "outputs": [],
   "source": [
    "ref = spark.read.format(\"parquet\").load(\"dbfs:///FileStore/tables/data/parquet\")"
   ]
  },
  {
   "cell_type": "code",
   "execution_count": 0,
   "metadata": {
    "application/vnd.databricks.v1+cell": {
     "cellMetadata": {
      "byteLimit": 2048000,
      "rowLimit": 10000
     },
     "inputWidgets": {},
     "nuid": "581e4479-8a2e-45af-95df-df923209c6c5",
     "showTitle": false,
     "title": ""
    }
   },
   "outputs": [
    {
     "output_type": "stream",
     "name": "stdout",
     "output_type": "stream",
     "text": [
      "+----------+-------+--------+\n|department|manager|    lead|\n+----------+-------+--------+\n|   Finance|  Megan|   Molly|\n|        HR|   Brad|   Brian|\n|        IT|  Chris|Chandler|\n|  Delivery|   Leon|  Louise|\n+----------+-------+--------+\n\n"
     ]
    }
   ],
   "source": [
    "ref.show()"
   ]
  },
  {
   "cell_type": "code",
   "execution_count": 0,
   "metadata": {
    "application/vnd.databricks.v1+cell": {
     "cellMetadata": {
      "byteLimit": 2048000,
      "rowLimit": 10000
     },
     "inputWidgets": {},
     "nuid": "ead2f8a2-60c9-4fac-be0e-ef803e141f1a",
     "showTitle": false,
     "title": ""
    }
   },
   "outputs": [
    {
     "output_type": "stream",
     "name": "stdout",
     "output_type": "stream",
     "text": [
      "+----------+---+----------+----------+---+------+------------+------------+-------+--------+\n|department| id|first_name|       dob|age|salary|salary_raise|   age_group|manager|    lead|\n+----------+---+----------+----------+---+------+------------+------------+-------+--------+\n|        IT|  3|       Bob|      NULL|  0| 80000|     84000.0|More than 40|  Chris|Chandler|\n|   Finance|  4|     Emily|1994-11-22| 30| 65000|     68250.0|    21 to 30|  Megan|   Molly|\n|        HR|  2|     Alice|1997-02-28| 27| 60000|     63000.0|    21 to 30|   Brad|   Brian|\n|        IT|  1|      John|1992-05-12| 32| 70000|     73500.0|    31 to 40|  Chris|Chandler|\n|        HR|  5|     David|1981-12-18| 43| 90000|     94500.0|More than 40|   Brad|   Brian|\n|   Finance|  6|     Susan|1989-07-05| 35| 75000|     78750.0|    31 to 40|  Megan|   Molly|\n|        IT|  7|      Mike|1976-03-15| 48| 95000|     99750.0|More than 40|  Chris|Chandler|\n|   Finance| 10|    Sophie|1992-06-30| 32| 62000|     65100.0|    31 to 40|  Megan|   Molly|\n|   Finance|  2|     Alice|1997-02-28| 27| 90000|     94500.0|    21 to 30|  Megan|   Molly|\n|   Finance|  4|     Emily|1994-11-22| 30| 70000|     73500.0|    21 to 30|  Megan|   Molly|\n|        IT|  9|     James|1983-10-14| 41| 87000|     91350.0|More than 40|  Chris|Chandler|\n|        HR|  8|      Lisa|1995-08-20| 29| 58000|     60900.0|    21 to 30|   Brad|   Brian|\n+----------+---+----------+----------+---+------+------------+------------+-------+--------+\n\n"
     ]
    }
   ],
   "source": [
    "df.join(\n",
    "    ref,\n",
    "   \"department\",\n",
    "    \"left\",\n",
    ").show()"
   ]
  },
  {
   "cell_type": "markdown",
   "metadata": {
    "application/vnd.databricks.v1+cell": {
     "cellMetadata": {
      "byteLimit": 2048000,
      "rowLimit": 10000
     },
     "inputWidgets": {},
     "nuid": "9bd4f848-5f66-4ad2-b87d-96f4f9447822",
     "showTitle": false,
     "title": ""
    }
   },
   "source": [
    "inner,\n",
    "\n",
    "left, leftouter, left_outer,\n",
    "\n",
    "right, rightouter, right_outer,\n",
    "\n",
    "cross,\n",
    "\n",
    "outer, full, fullouter, full_outer,\n",
    "\n",
    "semi, leftsemi, left_semi,\n",
    "\n",
    "anti, leftanti and left_anti."
   ]
  },
  {
   "cell_type": "markdown",
   "metadata": {
    "application/vnd.databricks.v1+cell": {
     "cellMetadata": {
      "byteLimit": 2048000,
      "rowLimit": 10000
     },
     "inputWidgets": {},
     "nuid": "24783dab-89b1-4e70-8568-082aedfae903",
     "showTitle": false,
     "title": ""
    }
   },
   "source": [
    "##### Method 1"
   ]
  },
  {
   "cell_type": "code",
   "execution_count": 0,
   "metadata": {
    "application/vnd.databricks.v1+cell": {
     "cellMetadata": {
      "byteLimit": 2048000,
      "rowLimit": 10000
     },
     "inputWidgets": {},
     "nuid": "6816dd53-732b-4062-a1f3-dbeac6c135a9",
     "showTitle": false,
     "title": ""
    }
   },
   "outputs": [
    {
     "output_type": "stream",
     "name": "stdout",
     "output_type": "stream",
     "text": [
      "+----------+---+----------+----------+---+------+------------+------------+-------+--------+\n|department| id|first_name|       dob|age|salary|salary_raise|   age_group|manager|    lead|\n+----------+---+----------+----------+---+------+------------+------------+-------+--------+\n|        IT|  3|       Bob|      NULL|  0| 80000|     84000.0|More than 40|  Chris|Chandler|\n|   Finance|  4|     Emily|1994-11-22| 30| 65000|     68250.0|    21 to 30|  Megan|   Molly|\n|        HR|  2|     Alice|1997-02-28| 27| 60000|     63000.0|    21 to 30|   Brad|   Brian|\n|        IT|  1|      John|1992-05-12| 32| 70000|     73500.0|    31 to 40|  Chris|Chandler|\n|        HR|  5|     David|1981-12-18| 43| 90000|     94500.0|More than 40|   Brad|   Brian|\n|   Finance|  6|     Susan|1989-07-05| 35| 75000|     78750.0|    31 to 40|  Megan|   Molly|\n|        IT|  7|      Mike|1976-03-15| 48| 95000|     99750.0|More than 40|  Chris|Chandler|\n|   Finance| 10|    Sophie|1992-06-30| 32| 62000|     65100.0|    31 to 40|  Megan|   Molly|\n|   Finance|  2|     Alice|1997-02-28| 27| 90000|     94500.0|    21 to 30|  Megan|   Molly|\n|   Finance|  4|     Emily|1994-11-22| 30| 70000|     73500.0|    21 to 30|  Megan|   Molly|\n|        IT|  9|     James|1983-10-14| 41| 87000|     91350.0|More than 40|  Chris|Chandler|\n|        HR|  8|      Lisa|1995-08-20| 29| 58000|     60900.0|    21 to 30|   Brad|   Brian|\n+----------+---+----------+----------+---+------+------------+------------+-------+--------+\n\n"
     ]
    }
   ],
   "source": [
    "df.join(\n",
    "    ref,\n",
    "   \"department\",\n",
    "    \"left\",\n",
    ").show()"
   ]
  },
  {
   "cell_type": "markdown",
   "metadata": {
    "application/vnd.databricks.v1+cell": {
     "cellMetadata": {
      "byteLimit": 2048000,
      "rowLimit": 10000
     },
     "inputWidgets": {},
     "nuid": "fc513e51-6382-4f2c-81ea-76dcdfc17c82",
     "showTitle": false,
     "title": ""
    }
   },
   "source": [
    "##### Method 2"
   ]
  },
  {
   "cell_type": "code",
   "execution_count": 0,
   "metadata": {
    "application/vnd.databricks.v1+cell": {
     "cellMetadata": {
      "byteLimit": 2048000,
      "rowLimit": 10000
     },
     "inputWidgets": {},
     "nuid": "bc01e47f-5cda-48ce-a969-692b56060408",
     "showTitle": false,
     "title": ""
    }
   },
   "outputs": [
    {
     "output_type": "stream",
     "name": "stdout",
     "output_type": "stream",
     "text": [
      "+---+----------+----------+---+------+----------+------------+------------+----------+-------+--------+\n| id|first_name|       dob|age|salary|department|salary_raise|   age_group|department|manager|    lead|\n+---+----------+----------+---+------+----------+------------+------------+----------+-------+--------+\n|  3|       Bob|      NULL|  0| 80000|        IT|     84000.0|More than 40|        IT|  Chris|Chandler|\n|  4|     Emily|1994-11-22| 30| 65000|   Finance|     68250.0|    21 to 30|   Finance|  Megan|   Molly|\n|  2|     Alice|1997-02-28| 27| 60000|        HR|     63000.0|    21 to 30|        HR|   Brad|   Brian|\n|  1|      John|1992-05-12| 32| 70000|        IT|     73500.0|    31 to 40|        IT|  Chris|Chandler|\n|  5|     David|1981-12-18| 43| 90000|        HR|     94500.0|More than 40|        HR|   Brad|   Brian|\n|  6|     Susan|1989-07-05| 35| 75000|   Finance|     78750.0|    31 to 40|   Finance|  Megan|   Molly|\n|  7|      Mike|1976-03-15| 48| 95000|        IT|     99750.0|More than 40|        IT|  Chris|Chandler|\n| 10|    Sophie|1992-06-30| 32| 62000|   Finance|     65100.0|    31 to 40|   Finance|  Megan|   Molly|\n|  2|     Alice|1997-02-28| 27| 90000|   Finance|     94500.0|    21 to 30|   Finance|  Megan|   Molly|\n|  4|     Emily|1994-11-22| 30| 70000|   Finance|     73500.0|    21 to 30|   Finance|  Megan|   Molly|\n|  9|     James|1983-10-14| 41| 87000|        IT|     91350.0|More than 40|        IT|  Chris|Chandler|\n|  8|      Lisa|1995-08-20| 29| 58000|        HR|     60900.0|    21 to 30|        HR|   Brad|   Brian|\n+---+----------+----------+---+------+----------+------------+------------+----------+-------+--------+\n\n"
     ]
    }
   ],
   "source": [
    "df.join(\n",
    "    ref,\n",
    "   df.department == ref.department,\n",
    "    \"left\",\n",
    ").show()"
   ]
  },
  {
   "cell_type": "markdown",
   "metadata": {
    "application/vnd.databricks.v1+cell": {
     "cellMetadata": {
      "byteLimit": 2048000,
      "rowLimit": 10000
     },
     "inputWidgets": {},
     "nuid": "00de7f81-f279-4618-8bfb-87594d5e0baa",
     "showTitle": false,
     "title": ""
    }
   },
   "source": [
    "##### Method 3"
   ]
  },
  {
   "cell_type": "code",
   "execution_count": 0,
   "metadata": {
    "application/vnd.databricks.v1+cell": {
     "cellMetadata": {
      "byteLimit": 2048000,
      "rowLimit": 10000
     },
     "inputWidgets": {},
     "nuid": "4907b03e-2fdd-45e7-acf5-82a7c721fe4b",
     "showTitle": false,
     "title": ""
    }
   },
   "outputs": [],
   "source": [
    "df = df.alias(\"df\")\n",
    "ref = ref.alias(\"ref\")"
   ]
  },
  {
   "cell_type": "code",
   "execution_count": 0,
   "metadata": {
    "application/vnd.databricks.v1+cell": {
     "cellMetadata": {
      "byteLimit": 2048000,
      "rowLimit": 10000
     },
     "inputWidgets": {},
     "nuid": "d16cf95a-2b99-4aea-9789-7e81dae51cac",
     "showTitle": false,
     "title": ""
    }
   },
   "outputs": [
    {
     "output_type": "stream",
     "name": "stdout",
     "output_type": "stream",
     "text": [
      "+---+----------+----------+---+------+----------+------------+------------+----------+-------+--------+\n| id|first_name|       dob|age|salary|department|salary_raise|   age_group|department|manager|    lead|\n+---+----------+----------+---+------+----------+------------+------------+----------+-------+--------+\n|  3|       Bob|      NULL|  0| 80000|        IT|     84000.0|More than 40|        IT|  Chris|Chandler|\n|  4|     Emily|1994-11-22| 30| 65000|   Finance|     68250.0|    21 to 30|   Finance|  Megan|   Molly|\n|  2|     Alice|1997-02-28| 27| 60000|        HR|     63000.0|    21 to 30|        HR|   Brad|   Brian|\n|  1|      John|1992-05-12| 32| 70000|        IT|     73500.0|    31 to 40|        IT|  Chris|Chandler|\n|  5|     David|1981-12-18| 43| 90000|        HR|     94500.0|More than 40|        HR|   Brad|   Brian|\n|  6|     Susan|1989-07-05| 35| 75000|   Finance|     78750.0|    31 to 40|   Finance|  Megan|   Molly|\n|  7|      Mike|1976-03-15| 48| 95000|        IT|     99750.0|More than 40|        IT|  Chris|Chandler|\n| 10|    Sophie|1992-06-30| 32| 62000|   Finance|     65100.0|    31 to 40|   Finance|  Megan|   Molly|\n|  2|     Alice|1997-02-28| 27| 90000|   Finance|     94500.0|    21 to 30|   Finance|  Megan|   Molly|\n|  4|     Emily|1994-11-22| 30| 70000|   Finance|     73500.0|    21 to 30|   Finance|  Megan|   Molly|\n|  9|     James|1983-10-14| 41| 87000|        IT|     91350.0|More than 40|        IT|  Chris|Chandler|\n|  8|      Lisa|1995-08-20| 29| 58000|        HR|     60900.0|    21 to 30|        HR|   Brad|   Brian|\n+---+----------+----------+---+------+----------+------------+------------+----------+-------+--------+\n\n"
     ]
    }
   ],
   "source": [
    "df.join(\n",
    "    ref,\n",
    "   F.col(\"df.department\") == F.col(\"ref.department\"),\n",
    "    \"inner\",\n",
    ").show()"
   ]
  },
  {
   "cell_type": "markdown",
   "metadata": {
    "application/vnd.databricks.v1+cell": {
     "cellMetadata": {
      "byteLimit": 2048000,
      "rowLimit": 10000
     },
     "inputWidgets": {},
     "nuid": "f96b5f67-c03c-4a7e-8570-f10fca46939c",
     "showTitle": false,
     "title": ""
    }
   },
   "source": [
    "# Load(Save) Data"
   ]
  },
  {
   "cell_type": "code",
   "execution_count": 0,
   "metadata": {
    "application/vnd.databricks.v1+cell": {
     "cellMetadata": {
      "byteLimit": 2048000,
      "rowLimit": 10000
     },
     "inputWidgets": {},
     "nuid": "5f5b740b-6b48-4e6d-b928-e1ffa69b7782",
     "showTitle": false,
     "title": ""
    }
   },
   "outputs": [],
   "source": [
    "df.write.mode(\"overwrite\").format(\"csv\").save(\"dbfs:///FileStore/tables/final\")"
   ]
  },
  {
   "cell_type": "code",
   "execution_count": 0,
   "metadata": {
    "application/vnd.databricks.v1+cell": {
     "cellMetadata": {
      "byteLimit": 2048000,
      "rowLimit": 10000
     },
     "inputWidgets": {},
     "nuid": "21737355-e25c-4f84-b604-c6dd4fbb09ad",
     "showTitle": false,
     "title": ""
    }
   },
   "outputs": [
    {
     "output_type": "display_data",
     "data": {
      "text/html": [
       "<style scoped>\n",
       "  .table-result-container {\n",
       "    max-height: 300px;\n",
       "    overflow: auto;\n",
       "  }\n",
       "  table, th, td {\n",
       "    border: 1px solid black;\n",
       "    border-collapse: collapse;\n",
       "  }\n",
       "  th, td {\n",
       "    padding: 5px;\n",
       "  }\n",
       "  th {\n",
       "    text-align: left;\n",
       "  }\n",
       "</style><div class='table-result-container'><table class='table-result'><thead style='background-color: white'><tr><th>path</th><th>name</th><th>size</th><th>modificationTime</th></tr></thead><tbody><tr><td>dbfs:/FileStore/tables/final/_SUCCESS</td><td>_SUCCESS</td><td>0</td><td>1706683097000</td></tr><tr><td>dbfs:/FileStore/tables/final/_committed_6028123568704318576</td><td>_committed_6028123568704318576</td><td>113</td><td>1706682076000</td></tr><tr><td>dbfs:/FileStore/tables/final/_committed_7426842490311099765</td><td>_committed_7426842490311099765</td><td>212</td><td>1706683097000</td></tr><tr><td>dbfs:/FileStore/tables/final/_started_6028123568704318576</td><td>_started_6028123568704318576</td><td>0</td><td>1706682075000</td></tr><tr><td>dbfs:/FileStore/tables/final/_started_7426842490311099765</td><td>_started_7426842490311099765</td><td>0</td><td>1706683097000</td></tr><tr><td>dbfs:/FileStore/tables/final/part-00000-tid-7426842490311099765-bc80ccc9-57a7-4d40-8214-ceac47396506-641-1-c000.csv</td><td>part-00000-tid-7426842490311099765-bc80ccc9-57a7-4d40-8214-ceac47396506-641-1-c000.csv</td><td>603</td><td>1706683097000</td></tr></tbody></table></div>"
      ]
     },
     "metadata": {
      "application/vnd.databricks.v1+output": {
       "addedWidgets": {},
       "aggData": [],
       "aggError": "",
       "aggOverflow": false,
       "aggSchema": [],
       "aggSeriesLimitReached": false,
       "aggType": "",
       "arguments": {},
       "columnCustomDisplayInfos": {},
       "data": [
        [
         "dbfs:/FileStore/tables/final/_SUCCESS",
         "_SUCCESS",
         0,
         1706683097000
        ],
        [
         "dbfs:/FileStore/tables/final/_committed_6028123568704318576",
         "_committed_6028123568704318576",
         113,
         1706682076000
        ],
        [
         "dbfs:/FileStore/tables/final/_committed_7426842490311099765",
         "_committed_7426842490311099765",
         212,
         1706683097000
        ],
        [
         "dbfs:/FileStore/tables/final/_started_6028123568704318576",
         "_started_6028123568704318576",
         0,
         1706682075000
        ],
        [
         "dbfs:/FileStore/tables/final/_started_7426842490311099765",
         "_started_7426842490311099765",
         0,
         1706683097000
        ],
        [
         "dbfs:/FileStore/tables/final/part-00000-tid-7426842490311099765-bc80ccc9-57a7-4d40-8214-ceac47396506-641-1-c000.csv",
         "part-00000-tid-7426842490311099765-bc80ccc9-57a7-4d40-8214-ceac47396506-641-1-c000.csv",
         603,
         1706683097000
        ]
       ],
       "datasetInfos": [],
       "dbfsResultPath": null,
       "isJsonSchema": true,
       "metadata": {
        "isDbfsCommandResult": false
       },
       "overflow": false,
       "plotOptions": {
        "customPlotOptions": {},
        "displayType": "table",
        "pivotAggregation": null,
        "pivotColumns": null,
        "xColumns": null,
        "yColumns": null
       },
       "removedWidgets": [],
       "schema": [
        {
         "metadata": "{}",
         "name": "path",
         "type": "\"string\""
        },
        {
         "metadata": "{}",
         "name": "name",
         "type": "\"string\""
        },
        {
         "metadata": "{}",
         "name": "size",
         "type": "\"long\""
        },
        {
         "metadata": "{}",
         "name": "modificationTime",
         "type": "\"long\""
        }
       ],
       "type": "table"
      }
     },
     "output_type": "display_data"
    }
   ],
   "source": [
    "%fs ls dbfs:///FileStore/tables/final"
   ]
  },
  {
   "cell_type": "code",
   "execution_count": 0,
   "metadata": {
    "application/vnd.databricks.v1+cell": {
     "cellMetadata": {
      "byteLimit": 2048000,
      "rowLimit": 10000
     },
     "inputWidgets": {},
     "nuid": "a6d59f04-dc9a-47d5-9b37-62c5276f9623",
     "showTitle": false,
     "title": ""
    }
   },
   "outputs": [],
   "source": [
    "# df.write.mode(\"overwrite\").saveAsTable(\"final\")\n",
    "df.write.mode(\"overwrite\").format(\"delta\").saveAsTable(\"final\")"
   ]
  },
  {
   "cell_type": "code",
   "execution_count": 0,
   "metadata": {
    "application/vnd.databricks.v1+cell": {
     "cellMetadata": {
      "byteLimit": 2048000,
      "rowLimit": 10000
     },
     "inputWidgets": {},
     "nuid": "8a4bd189-ae3a-4397-9a44-f493ec432e53",
     "showTitle": false,
     "title": ""
    },
    "editable": true,
    "slideshow": {
     "slide_type": ""
    },
    "tags": []
   },
   "outputs": [
    {
     "output_type": "stream",
     "name": "stdout",
     "output_type": "stream",
     "text": [
      "+--------+---------+-----------+\n|database|tableName|isTemporary|\n+--------+---------+-----------+\n| default|    final|      false|\n+--------+---------+-----------+\n\n"
     ]
    }
   ],
   "source": [
    "spark.sql(\"show tables\").show()"
   ]
  },
  {
   "cell_type": "code",
   "execution_count": 0,
   "metadata": {
    "application/vnd.databricks.v1+cell": {
     "cellMetadata": {
      "byteLimit": 2048000,
      "implicitDf": true,
      "rowLimit": 10000
     },
     "inputWidgets": {},
     "nuid": "b810267f-566d-429e-a91f-25bf458cb41a",
     "showTitle": false,
     "title": ""
    }
   },
   "outputs": [
    {
     "output_type": "display_data",
     "data": {
      "text/html": [
       "<style scoped>\n",
       "  .table-result-container {\n",
       "    max-height: 300px;\n",
       "    overflow: auto;\n",
       "  }\n",
       "  table, th, td {\n",
       "    border: 1px solid black;\n",
       "    border-collapse: collapse;\n",
       "  }\n",
       "  th, td {\n",
       "    padding: 5px;\n",
       "  }\n",
       "  th {\n",
       "    text-align: left;\n",
       "  }\n",
       "</style><div class='table-result-container'><table class='table-result'><thead style='background-color: white'><tr><th>col_name</th><th>data_type</th><th>comment</th></tr></thead><tbody><tr><td>id</td><td>int</td><td>null</td></tr><tr><td>first_name</td><td>string</td><td>null</td></tr><tr><td>dob</td><td>date</td><td>null</td></tr><tr><td>age</td><td>int</td><td>null</td></tr><tr><td>salary</td><td>int</td><td>null</td></tr><tr><td>department</td><td>string</td><td>null</td></tr><tr><td>salary_raise</td><td>double</td><td>null</td></tr><tr><td>age_group</td><td>string</td><td>null</td></tr></tbody></table></div>"
      ]
     },
     "metadata": {
      "application/vnd.databricks.v1+output": {
       "addedWidgets": {},
       "aggData": [],
       "aggError": "",
       "aggOverflow": false,
       "aggSchema": [],
       "aggSeriesLimitReached": false,
       "aggType": "",
       "arguments": {},
       "columnCustomDisplayInfos": {},
       "data": [
        [
         "id",
         "int",
         null
        ],
        [
         "first_name",
         "string",
         null
        ],
        [
         "dob",
         "date",
         null
        ],
        [
         "age",
         "int",
         null
        ],
        [
         "salary",
         "int",
         null
        ],
        [
         "department",
         "string",
         null
        ],
        [
         "salary_raise",
         "double",
         null
        ],
        [
         "age_group",
         "string",
         null
        ]
       ],
       "datasetInfos": [],
       "dbfsResultPath": null,
       "isJsonSchema": true,
       "metadata": {
        "dataframeName": "_sqldf",
        "executionCount": 164
       },
       "overflow": false,
       "plotOptions": {
        "customPlotOptions": {},
        "displayType": "table",
        "pivotAggregation": null,
        "pivotColumns": null,
        "xColumns": null,
        "yColumns": null
       },
       "removedWidgets": [],
       "schema": [
        {
         "metadata": "{\"comment\":\"name of the column\"}",
         "name": "col_name",
         "type": "\"string\""
        },
        {
         "metadata": "{\"comment\":\"data type of the column\"}",
         "name": "data_type",
         "type": "\"string\""
        },
        {
         "metadata": "{\"comment\":\"comment of the column\"}",
         "name": "comment",
         "type": "\"string\""
        }
       ],
       "type": "table"
      }
     },
     "output_type": "display_data"
    }
   ],
   "source": [
    "%sql\n",
    "desc table default.final;"
   ]
  },
  {
   "cell_type": "code",
   "execution_count": 0,
   "metadata": {
    "application/vnd.databricks.v1+cell": {
     "cellMetadata": {
      "byteLimit": 2048000,
      "implicitDf": true,
      "rowLimit": 10000
     },
     "inputWidgets": {},
     "nuid": "f7bfaaf9-6ca6-45b9-858b-a47e7ed64804",
     "showTitle": false,
     "title": ""
    }
   },
   "outputs": [
    {
     "output_type": "display_data",
     "data": {
      "text/html": [
       "<style scoped>\n",
       "  .table-result-container {\n",
       "    max-height: 300px;\n",
       "    overflow: auto;\n",
       "  }\n",
       "  table, th, td {\n",
       "    border: 1px solid black;\n",
       "    border-collapse: collapse;\n",
       "  }\n",
       "  th, td {\n",
       "    padding: 5px;\n",
       "  }\n",
       "  th {\n",
       "    text-align: left;\n",
       "  }\n",
       "</style><div class='table-result-container'><table class='table-result'><thead style='background-color: white'><tr><th>col_name</th><th>data_type</th><th>comment</th></tr></thead><tbody><tr><td>id</td><td>int</td><td>null</td></tr><tr><td>first_name</td><td>string</td><td>null</td></tr><tr><td>dob</td><td>date</td><td>null</td></tr><tr><td>age</td><td>int</td><td>null</td></tr><tr><td>salary</td><td>int</td><td>null</td></tr><tr><td>department</td><td>string</td><td>null</td></tr><tr><td>salary_raise</td><td>double</td><td>null</td></tr><tr><td>age_group</td><td>string</td><td>null</td></tr><tr><td></td><td></td><td></td></tr><tr><td># Delta Statistics Columns</td><td></td><td></td></tr><tr><td>Column Names</td><td>first_name, dob, age_group, age, department, salary, id, salary_raise</td><td></td></tr><tr><td>Column Selection Method</td><td>first-32</td><td></td></tr><tr><td></td><td></td><td></td></tr><tr><td># Detailed Table Information</td><td></td><td></td></tr><tr><td>Catalog</td><td>spark_catalog</td><td></td></tr><tr><td>Database</td><td>default</td><td></td></tr><tr><td>Table</td><td>final</td><td></td></tr><tr><td>Created Time</td><td>Wed Jan 31 06:31:27 UTC 2024</td><td></td></tr><tr><td>Last Access</td><td>UNKNOWN</td><td></td></tr><tr><td>Created By</td><td>Spark 3.4.1</td><td></td></tr><tr><td>Statistics</td><td>2820 bytes</td><td></td></tr><tr><td>Type</td><td>MANAGED</td><td></td></tr><tr><td>Location</td><td>dbfs:/user/hive/warehouse/final</td><td></td></tr><tr><td>Provider</td><td>delta</td><td></td></tr><tr><td>Owner</td><td>root</td><td></td></tr><tr><td>Is_managed_location</td><td>true</td><td></td></tr><tr><td>Table Properties</td><td>[delta.minReaderVersion=1,delta.minWriterVersion=2]</td><td></td></tr></tbody></table></div>"
      ]
     },
     "metadata": {
      "application/vnd.databricks.v1+output": {
       "addedWidgets": {},
       "aggData": [],
       "aggError": "",
       "aggOverflow": false,
       "aggSchema": [],
       "aggSeriesLimitReached": false,
       "aggType": "",
       "arguments": {},
       "columnCustomDisplayInfos": {},
       "data": [
        [
         "id",
         "int",
         null
        ],
        [
         "first_name",
         "string",
         null
        ],
        [
         "dob",
         "date",
         null
        ],
        [
         "age",
         "int",
         null
        ],
        [
         "salary",
         "int",
         null
        ],
        [
         "department",
         "string",
         null
        ],
        [
         "salary_raise",
         "double",
         null
        ],
        [
         "age_group",
         "string",
         null
        ],
        [
         "",
         "",
         ""
        ],
        [
         "# Delta Statistics Columns",
         "",
         ""
        ],
        [
         "Column Names",
         "first_name, dob, age_group, age, department, salary, id, salary_raise",
         ""
        ],
        [
         "Column Selection Method",
         "first-32",
         ""
        ],
        [
         "",
         "",
         ""
        ],
        [
         "# Detailed Table Information",
         "",
         ""
        ],
        [
         "Catalog",
         "spark_catalog",
         ""
        ],
        [
         "Database",
         "default",
         ""
        ],
        [
         "Table",
         "final",
         ""
        ],
        [
         "Created Time",
         "Wed Jan 31 06:31:27 UTC 2024",
         ""
        ],
        [
         "Last Access",
         "UNKNOWN",
         ""
        ],
        [
         "Created By",
         "Spark 3.4.1",
         ""
        ],
        [
         "Statistics",
         "2820 bytes",
         ""
        ],
        [
         "Type",
         "MANAGED",
         ""
        ],
        [
         "Location",
         "dbfs:/user/hive/warehouse/final",
         ""
        ],
        [
         "Provider",
         "delta",
         ""
        ],
        [
         "Owner",
         "root",
         ""
        ],
        [
         "Is_managed_location",
         "true",
         ""
        ],
        [
         "Table Properties",
         "[delta.minReaderVersion=1,delta.minWriterVersion=2]",
         ""
        ]
       ],
       "datasetInfos": [],
       "dbfsResultPath": null,
       "isJsonSchema": true,
       "metadata": {
        "dataframeName": "_sqldf",
        "executionCount": 165
       },
       "overflow": false,
       "plotOptions": {
        "customPlotOptions": {},
        "displayType": "table",
        "pivotAggregation": null,
        "pivotColumns": null,
        "xColumns": null,
        "yColumns": null
       },
       "removedWidgets": [],
       "schema": [
        {
         "metadata": "{\"comment\":\"name of the column\"}",
         "name": "col_name",
         "type": "\"string\""
        },
        {
         "metadata": "{\"comment\":\"data type of the column\"}",
         "name": "data_type",
         "type": "\"string\""
        },
        {
         "metadata": "{\"comment\":\"comment of the column\"}",
         "name": "comment",
         "type": "\"string\""
        }
       ],
       "type": "table"
      }
     },
     "output_type": "display_data"
    }
   ],
   "source": [
    "%sql\n",
    "desc table extended default.final;"
   ]
  },
  {
   "cell_type": "code",
   "execution_count": 0,
   "metadata": {
    "application/vnd.databricks.v1+cell": {
     "cellMetadata": {
      "byteLimit": 2048000,
      "implicitDf": true,
      "rowLimit": 10000
     },
     "inputWidgets": {},
     "nuid": "8c234e4f-cecd-42c5-8ebb-034861f6cbbf",
     "showTitle": false,
     "title": ""
    }
   },
   "outputs": [
    {
     "output_type": "display_data",
     "data": {
      "text/html": [
       "<style scoped>\n",
       "  .table-result-container {\n",
       "    max-height: 300px;\n",
       "    overflow: auto;\n",
       "  }\n",
       "  table, th, td {\n",
       "    border: 1px solid black;\n",
       "    border-collapse: collapse;\n",
       "  }\n",
       "  th, td {\n",
       "    padding: 5px;\n",
       "  }\n",
       "  th {\n",
       "    text-align: left;\n",
       "  }\n",
       "</style><div class='table-result-container'><table class='table-result'><thead style='background-color: white'><tr><th>format</th><th>id</th><th>name</th><th>description</th><th>location</th><th>createdAt</th><th>lastModified</th><th>partitionColumns</th><th>clusteringColumns</th><th>numFiles</th><th>sizeInBytes</th><th>properties</th><th>minReaderVersion</th><th>minWriterVersion</th><th>tableFeatures</th><th>statistics</th></tr></thead><tbody><tr><td>delta</td><td>d7700751-af48-403c-974e-4e3914d5e7cd</td><td>spark_catalog.default.final</td><td>null</td><td>dbfs:/user/hive/warehouse/final</td><td>2024-01-31T06:31:21.865Z</td><td>2024-01-31T06:38:22Z</td><td>List()</td><td>List()</td><td>1</td><td>2820</td><td>Map()</td><td>1</td><td>2</td><td>List(appendOnly, invariants)</td><td>Map()</td></tr></tbody></table></div>"
      ]
     },
     "metadata": {
      "application/vnd.databricks.v1+output": {
       "addedWidgets": {},
       "aggData": [],
       "aggError": "",
       "aggOverflow": false,
       "aggSchema": [],
       "aggSeriesLimitReached": false,
       "aggType": "",
       "arguments": {},
       "columnCustomDisplayInfos": {},
       "data": [
        [
         "delta",
         "d7700751-af48-403c-974e-4e3914d5e7cd",
         "spark_catalog.default.final",
         null,
         "dbfs:/user/hive/warehouse/final",
         "2024-01-31T06:31:21.865Z",
         "2024-01-31T06:38:22Z",
         [],
         [],
         1,
         2820,
         {},
         1,
         2,
         [
          "appendOnly",
          "invariants"
         ],
         {}
        ]
       ],
       "datasetInfos": [],
       "dbfsResultPath": null,
       "isJsonSchema": true,
       "metadata": {
        "dataframeName": "_sqldf",
        "executionCount": 166
       },
       "overflow": false,
       "plotOptions": {
        "customPlotOptions": {},
        "displayType": "table",
        "pivotAggregation": null,
        "pivotColumns": null,
        "xColumns": null,
        "yColumns": null
       },
       "removedWidgets": [],
       "schema": [
        {
         "metadata": "{}",
         "name": "format",
         "type": "\"string\""
        },
        {
         "metadata": "{}",
         "name": "id",
         "type": "\"string\""
        },
        {
         "metadata": "{}",
         "name": "name",
         "type": "\"string\""
        },
        {
         "metadata": "{}",
         "name": "description",
         "type": "\"string\""
        },
        {
         "metadata": "{}",
         "name": "location",
         "type": "\"string\""
        },
        {
         "metadata": "{}",
         "name": "createdAt",
         "type": "\"timestamp\""
        },
        {
         "metadata": "{}",
         "name": "lastModified",
         "type": "\"timestamp\""
        },
        {
         "metadata": "{}",
         "name": "partitionColumns",
         "type": "{\"type\":\"array\",\"elementType\":\"string\",\"containsNull\":true}"
        },
        {
         "metadata": "{}",
         "name": "clusteringColumns",
         "type": "{\"type\":\"array\",\"elementType\":\"string\",\"containsNull\":true}"
        },
        {
         "metadata": "{}",
         "name": "numFiles",
         "type": "\"long\""
        },
        {
         "metadata": "{}",
         "name": "sizeInBytes",
         "type": "\"long\""
        },
        {
         "metadata": "{}",
         "name": "properties",
         "type": "{\"type\":\"map\",\"keyType\":\"string\",\"valueType\":\"string\",\"valueContainsNull\":true}"
        },
        {
         "metadata": "{}",
         "name": "minReaderVersion",
         "type": "\"integer\""
        },
        {
         "metadata": "{}",
         "name": "minWriterVersion",
         "type": "\"integer\""
        },
        {
         "metadata": "{}",
         "name": "tableFeatures",
         "type": "{\"type\":\"array\",\"elementType\":\"string\",\"containsNull\":true}"
        },
        {
         "metadata": "{}",
         "name": "statistics",
         "type": "{\"type\":\"map\",\"keyType\":\"string\",\"valueType\":\"long\",\"valueContainsNull\":true}"
        }
       ],
       "type": "table"
      }
     },
     "output_type": "display_data"
    }
   ],
   "source": [
    "%sql\n",
    "desc detail default.final;"
   ]
  },
  {
   "cell_type": "code",
   "execution_count": 0,
   "metadata": {
    "application/vnd.databricks.v1+cell": {
     "cellMetadata": {
      "byteLimit": 2048000,
      "implicitDf": true,
      "rowLimit": 10000
     },
     "inputWidgets": {},
     "nuid": "6797e2d1-85de-419f-9b63-ce3b49c23c91",
     "showTitle": false,
     "title": ""
    }
   },
   "outputs": [
    {
     "output_type": "display_data",
     "data": {
      "text/html": [
       "<style scoped>\n",
       "  .table-result-container {\n",
       "    max-height: 300px;\n",
       "    overflow: auto;\n",
       "  }\n",
       "  table, th, td {\n",
       "    border: 1px solid black;\n",
       "    border-collapse: collapse;\n",
       "  }\n",
       "  th, td {\n",
       "    padding: 5px;\n",
       "  }\n",
       "  th {\n",
       "    text-align: left;\n",
       "  }\n",
       "</style><div class='table-result-container'><table class='table-result'><thead style='background-color: white'><tr><th>id</th><th>first_name</th><th>dob</th><th>age</th><th>salary</th><th>department</th><th>salary_raise</th><th>age_group</th></tr></thead><tbody><tr><td>3</td><td>Bob</td><td>null</td><td>0</td><td>80000</td><td>IT</td><td>84000.0</td><td>More than 40</td></tr><tr><td>4</td><td>Emily</td><td>1994-11-22</td><td>30</td><td>65000</td><td>Finance</td><td>68250.0</td><td>21 to 30</td></tr><tr><td>2</td><td>Alice</td><td>1997-02-28</td><td>27</td><td>60000</td><td>HR</td><td>63000.0</td><td>21 to 30</td></tr><tr><td>1</td><td>John</td><td>1992-05-12</td><td>32</td><td>70000</td><td>IT</td><td>73500.0</td><td>31 to 40</td></tr><tr><td>5</td><td>David</td><td>1981-12-18</td><td>43</td><td>90000</td><td>HR</td><td>94500.0</td><td>More than 40</td></tr><tr><td>6</td><td>Susan</td><td>1989-07-05</td><td>35</td><td>75000</td><td>Finance</td><td>78750.0</td><td>31 to 40</td></tr><tr><td>7</td><td>Mike</td><td>1976-03-15</td><td>48</td><td>95000</td><td>IT</td><td>99750.0</td><td>More than 40</td></tr><tr><td>10</td><td>Sophie</td><td>1992-06-30</td><td>32</td><td>62000</td><td>Finance</td><td>65100.0</td><td>31 to 40</td></tr><tr><td>2</td><td>Alice</td><td>1997-02-28</td><td>27</td><td>90000</td><td>Finance</td><td>94500.0</td><td>21 to 30</td></tr><tr><td>4</td><td>Emily</td><td>1994-11-22</td><td>30</td><td>70000</td><td>Finance</td><td>73500.0</td><td>21 to 30</td></tr><tr><td>9</td><td>James</td><td>1983-10-14</td><td>41</td><td>87000</td><td>IT</td><td>91350.0</td><td>More than 40</td></tr><tr><td>8</td><td>Lisa</td><td>1995-08-20</td><td>29</td><td>58000</td><td>HR</td><td>60900.0</td><td>21 to 30</td></tr></tbody></table></div>"
      ]
     },
     "metadata": {
      "application/vnd.databricks.v1+output": {
       "addedWidgets": {},
       "aggData": [],
       "aggError": "",
       "aggOverflow": false,
       "aggSchema": [],
       "aggSeriesLimitReached": false,
       "aggType": "",
       "arguments": {},
       "columnCustomDisplayInfos": {},
       "data": [
        [
         3,
         "Bob",
         null,
         0,
         80000,
         "IT",
         84000.0,
         "More than 40"
        ],
        [
         4,
         "Emily",
         "1994-11-22",
         30,
         65000,
         "Finance",
         68250.0,
         "21 to 30"
        ],
        [
         2,
         "Alice",
         "1997-02-28",
         27,
         60000,
         "HR",
         63000.0,
         "21 to 30"
        ],
        [
         1,
         "John",
         "1992-05-12",
         32,
         70000,
         "IT",
         73500.0,
         "31 to 40"
        ],
        [
         5,
         "David",
         "1981-12-18",
         43,
         90000,
         "HR",
         94500.0,
         "More than 40"
        ],
        [
         6,
         "Susan",
         "1989-07-05",
         35,
         75000,
         "Finance",
         78750.0,
         "31 to 40"
        ],
        [
         7,
         "Mike",
         "1976-03-15",
         48,
         95000,
         "IT",
         99750.0,
         "More than 40"
        ],
        [
         10,
         "Sophie",
         "1992-06-30",
         32,
         62000,
         "Finance",
         65100.0,
         "31 to 40"
        ],
        [
         2,
         "Alice",
         "1997-02-28",
         27,
         90000,
         "Finance",
         94500.0,
         "21 to 30"
        ],
        [
         4,
         "Emily",
         "1994-11-22",
         30,
         70000,
         "Finance",
         73500.0,
         "21 to 30"
        ],
        [
         9,
         "James",
         "1983-10-14",
         41,
         87000,
         "IT",
         91350.0,
         "More than 40"
        ],
        [
         8,
         "Lisa",
         "1995-08-20",
         29,
         58000,
         "HR",
         60900.0,
         "21 to 30"
        ]
       ],
       "datasetInfos": [],
       "dbfsResultPath": null,
       "isJsonSchema": true,
       "metadata": {
        "dataframeName": "_sqldf",
        "executionCount": 169
       },
       "overflow": false,
       "plotOptions": {
        "customPlotOptions": {},
        "displayType": "table",
        "pivotAggregation": null,
        "pivotColumns": null,
        "xColumns": null,
        "yColumns": null
       },
       "removedWidgets": [],
       "schema": [
        {
         "metadata": "{}",
         "name": "id",
         "type": "\"integer\""
        },
        {
         "metadata": "{}",
         "name": "first_name",
         "type": "\"string\""
        },
        {
         "metadata": "{}",
         "name": "dob",
         "type": "\"date\""
        },
        {
         "metadata": "{}",
         "name": "age",
         "type": "\"integer\""
        },
        {
         "metadata": "{}",
         "name": "salary",
         "type": "\"integer\""
        },
        {
         "metadata": "{}",
         "name": "department",
         "type": "\"string\""
        },
        {
         "metadata": "{}",
         "name": "salary_raise",
         "type": "\"double\""
        },
        {
         "metadata": "{}",
         "name": "age_group",
         "type": "\"string\""
        }
       ],
       "type": "table"
      }
     },
     "output_type": "display_data"
    }
   ],
   "source": [
    "%sql\n",
    "\n",
    "select * from default.final"
   ]
  },
  {
   "cell_type": "code",
   "execution_count": 0,
   "metadata": {
    "application/vnd.databricks.v1+cell": {
     "cellMetadata": {
      "byteLimit": 2048000,
      "implicitDf": true,
      "rowLimit": 10000
     },
     "inputWidgets": {},
     "nuid": "eed2228f-81ba-403e-bbb9-7938d2dd15c4",
     "showTitle": false,
     "title": ""
    }
   },
   "outputs": [
    {
     "output_type": "display_data",
     "data": {
      "text/html": [
       "<style scoped>\n",
       "  .table-result-container {\n",
       "    max-height: 300px;\n",
       "    overflow: auto;\n",
       "  }\n",
       "  table, th, td {\n",
       "    border: 1px solid black;\n",
       "    border-collapse: collapse;\n",
       "  }\n",
       "  th, td {\n",
       "    padding: 5px;\n",
       "  }\n",
       "  th {\n",
       "    text-align: left;\n",
       "  }\n",
       "</style><div class='table-result-container'><table class='table-result'><thead style='background-color: white'><tr><th>first_name</th><th>salary</th><th>department</th><th>salary_raise</th><th>age_group</th></tr></thead><tbody><tr><td>Bob</td><td>80000</td><td>IT</td><td>84000.0</td><td>More than 40</td></tr><tr><td>Emily</td><td>65000</td><td>Finance</td><td>68250.0</td><td>21 to 30</td></tr><tr><td>Alice</td><td>60000</td><td>HR</td><td>63000.0</td><td>21 to 30</td></tr><tr><td>John</td><td>70000</td><td>IT</td><td>73500.0</td><td>31 to 40</td></tr><tr><td>David</td><td>90000</td><td>HR</td><td>94500.0</td><td>More than 40</td></tr><tr><td>Susan</td><td>75000</td><td>Finance</td><td>78750.0</td><td>31 to 40</td></tr><tr><td>Mike</td><td>95000</td><td>IT</td><td>99750.0</td><td>More than 40</td></tr><tr><td>Sophie</td><td>62000</td><td>Finance</td><td>65100.0</td><td>31 to 40</td></tr><tr><td>Alice</td><td>90000</td><td>Finance</td><td>94500.0</td><td>21 to 30</td></tr><tr><td>Emily</td><td>70000</td><td>Finance</td><td>73500.0</td><td>21 to 30</td></tr><tr><td>James</td><td>87000</td><td>IT</td><td>91350.0</td><td>More than 40</td></tr><tr><td>Lisa</td><td>58000</td><td>HR</td><td>60900.0</td><td>21 to 30</td></tr></tbody></table></div>"
      ]
     },
     "metadata": {
      "application/vnd.databricks.v1+output": {
       "addedWidgets": {},
       "aggData": [],
       "aggError": "",
       "aggOverflow": false,
       "aggSchema": [],
       "aggSeriesLimitReached": false,
       "aggType": "",
       "arguments": {},
       "columnCustomDisplayInfos": {},
       "data": [
        [
         "Bob",
         80000,
         "IT",
         84000.0,
         "More than 40"
        ],
        [
         "Emily",
         65000,
         "Finance",
         68250.0,
         "21 to 30"
        ],
        [
         "Alice",
         60000,
         "HR",
         63000.0,
         "21 to 30"
        ],
        [
         "John",
         70000,
         "IT",
         73500.0,
         "31 to 40"
        ],
        [
         "David",
         90000,
         "HR",
         94500.0,
         "More than 40"
        ],
        [
         "Susan",
         75000,
         "Finance",
         78750.0,
         "31 to 40"
        ],
        [
         "Mike",
         95000,
         "IT",
         99750.0,
         "More than 40"
        ],
        [
         "Sophie",
         62000,
         "Finance",
         65100.0,
         "31 to 40"
        ],
        [
         "Alice",
         90000,
         "Finance",
         94500.0,
         "21 to 30"
        ],
        [
         "Emily",
         70000,
         "Finance",
         73500.0,
         "21 to 30"
        ],
        [
         "James",
         87000,
         "IT",
         91350.0,
         "More than 40"
        ],
        [
         "Lisa",
         58000,
         "HR",
         60900.0,
         "21 to 30"
        ]
       ],
       "datasetInfos": [],
       "dbfsResultPath": null,
       "isJsonSchema": true,
       "metadata": {
        "dataframeName": "_sqldf",
        "executionCount": 171
       },
       "overflow": false,
       "plotOptions": {
        "customPlotOptions": {},
        "displayType": "table",
        "pivotAggregation": null,
        "pivotColumns": null,
        "xColumns": null,
        "yColumns": null
       },
       "removedWidgets": [],
       "schema": [
        {
         "metadata": "{}",
         "name": "first_name",
         "type": "\"string\""
        },
        {
         "metadata": "{}",
         "name": "salary",
         "type": "\"integer\""
        },
        {
         "metadata": "{}",
         "name": "department",
         "type": "\"string\""
        },
        {
         "metadata": "{}",
         "name": "salary_raise",
         "type": "\"double\""
        },
        {
         "metadata": "{}",
         "name": "age_group",
         "type": "\"string\""
        }
       ],
       "type": "table"
      }
     },
     "output_type": "display_data"
    }
   ],
   "source": [
    "%sql\n",
    "\n",
    "select * except (id, dob, age) from default.final"
   ]
  },
  {
   "cell_type": "code",
   "execution_count": 0,
   "metadata": {
    "application/vnd.databricks.v1+cell": {
     "cellMetadata": {
      "byteLimit": 2048000,
      "implicitDf": true,
      "rowLimit": 10000
     },
     "inputWidgets": {},
     "nuid": "79140678-9ae3-465a-a0a4-5d086f870911",
     "showTitle": false,
     "title": ""
    }
   },
   "outputs": [
    {
     "output_type": "display_data",
     "data": {
      "text/html": [
       "<style scoped>\n",
       "  .table-result-container {\n",
       "    max-height: 300px;\n",
       "    overflow: auto;\n",
       "  }\n",
       "  table, th, td {\n",
       "    border: 1px solid black;\n",
       "    border-collapse: collapse;\n",
       "  }\n",
       "  th, td {\n",
       "    padding: 5px;\n",
       "  }\n",
       "  th {\n",
       "    text-align: left;\n",
       "  }\n",
       "</style><div class='table-result-container'><table class='table-result'><thead style='background-color: white'><tr></tr></thead><tbody></tbody></table></div>"
      ]
     },
     "metadata": {
      "application/vnd.databricks.v1+output": {
       "addedWidgets": {},
       "aggData": [],
       "aggError": "",
       "aggOverflow": false,
       "aggSchema": [],
       "aggSeriesLimitReached": false,
       "aggType": "",
       "arguments": {},
       "columnCustomDisplayInfos": {},
       "data": [],
       "datasetInfos": [],
       "dbfsResultPath": null,
       "isJsonSchema": true,
       "metadata": {
        "dataframeName": null
       },
       "overflow": false,
       "plotOptions": {
        "customPlotOptions": {},
        "displayType": "table",
        "pivotAggregation": null,
        "pivotColumns": null,
        "xColumns": null,
        "yColumns": null
       },
       "removedWidgets": [],
       "schema": [],
       "type": "table"
      }
     },
     "output_type": "display_data"
    }
   ],
   "source": [
    "%sql\n",
    "\n",
    "create view default.final_view as\n",
    "select * except (id, dob, age) from default.final"
   ]
  },
  {
   "cell_type": "code",
   "execution_count": 0,
   "metadata": {
    "application/vnd.databricks.v1+cell": {
     "cellMetadata": {
      "byteLimit": 2048000,
      "implicitDf": true,
      "rowLimit": 10000
     },
     "inputWidgets": {},
     "nuid": "bbb7d298-be1b-4fcc-a306-2002fe02020d",
     "showTitle": false,
     "title": ""
    }
   },
   "outputs": [
    {
     "output_type": "display_data",
     "data": {
      "text/html": [
       "<style scoped>\n",
       "  .table-result-container {\n",
       "    max-height: 300px;\n",
       "    overflow: auto;\n",
       "  }\n",
       "  table, th, td {\n",
       "    border: 1px solid black;\n",
       "    border-collapse: collapse;\n",
       "  }\n",
       "  th, td {\n",
       "    padding: 5px;\n",
       "  }\n",
       "  th {\n",
       "    text-align: left;\n",
       "  }\n",
       "</style><div class='table-result-container'><table class='table-result'><thead style='background-color: white'><tr><th>col_name</th><th>data_type</th><th>comment</th></tr></thead><tbody><tr><td>first_name</td><td>string</td><td>null</td></tr><tr><td>salary</td><td>int</td><td>null</td></tr><tr><td>department</td><td>string</td><td>null</td></tr><tr><td>salary_raise</td><td>double</td><td>null</td></tr><tr><td>age_group</td><td>string</td><td>null</td></tr></tbody></table></div>"
      ]
     },
     "metadata": {
      "application/vnd.databricks.v1+output": {
       "addedWidgets": {},
       "aggData": [],
       "aggError": "",
       "aggOverflow": false,
       "aggSchema": [],
       "aggSeriesLimitReached": false,
       "aggType": "",
       "arguments": {},
       "columnCustomDisplayInfos": {},
       "data": [
        [
         "first_name",
         "string",
         null
        ],
        [
         "salary",
         "int",
         null
        ],
        [
         "department",
         "string",
         null
        ],
        [
         "salary_raise",
         "double",
         null
        ],
        [
         "age_group",
         "string",
         null
        ]
       ],
       "datasetInfos": [],
       "dbfsResultPath": null,
       "isJsonSchema": true,
       "metadata": {
        "dataframeName": "_sqldf",
        "executionCount": 173
       },
       "overflow": false,
       "plotOptions": {
        "customPlotOptions": {},
        "displayType": "table",
        "pivotAggregation": null,
        "pivotColumns": null,
        "xColumns": null,
        "yColumns": null
       },
       "removedWidgets": [],
       "schema": [
        {
         "metadata": "{\"comment\":\"name of the column\"}",
         "name": "col_name",
         "type": "\"string\""
        },
        {
         "metadata": "{\"comment\":\"data type of the column\"}",
         "name": "data_type",
         "type": "\"string\""
        },
        {
         "metadata": "{\"comment\":\"comment of the column\"}",
         "name": "comment",
         "type": "\"string\""
        }
       ],
       "type": "table"
      }
     },
     "output_type": "display_data"
    }
   ],
   "source": [
    "%sql\n",
    "\n",
    "desc default.final_view"
   ]
  },
  {
   "cell_type": "code",
   "execution_count": 0,
   "metadata": {
    "application/vnd.databricks.v1+cell": {
     "cellMetadata": {
      "byteLimit": 2048000,
      "rowLimit": 10000
     },
     "inputWidgets": {},
     "nuid": "12be38d3-e855-4b0a-891a-2526ae50e702",
     "showTitle": false,
     "title": ""
    }
   },
   "outputs": [],
   "source": [
    "table_df = spark.table(\"final\")"
   ]
  },
  {
   "cell_type": "code",
   "execution_count": 0,
   "metadata": {
    "application/vnd.databricks.v1+cell": {
     "cellMetadata": {
      "byteLimit": 2048000,
      "rowLimit": 10000
     },
     "inputWidgets": {},
     "nuid": "6332de6f-9ab9-40f2-b1fa-2eb1d0bdcf9b",
     "showTitle": false,
     "title": ""
    }
   },
   "outputs": [
    {
     "output_type": "display_data",
     "data": {
      "text/html": [
       "<style scoped>\n",
       "  .table-result-container {\n",
       "    max-height: 300px;\n",
       "    overflow: auto;\n",
       "  }\n",
       "  table, th, td {\n",
       "    border: 1px solid black;\n",
       "    border-collapse: collapse;\n",
       "  }\n",
       "  th, td {\n",
       "    padding: 5px;\n",
       "  }\n",
       "  th {\n",
       "    text-align: left;\n",
       "  }\n",
       "</style><div class='table-result-container'><table class='table-result'><thead style='background-color: white'><tr><th>id</th><th>first_name</th><th>dob</th><th>age</th><th>salary</th><th>department</th><th>salary_raise</th><th>age_group</th></tr></thead><tbody><tr><td>3</td><td>Bob</td><td>null</td><td>0</td><td>80000</td><td>IT</td><td>84000.0</td><td>More than 40</td></tr><tr><td>4</td><td>Emily</td><td>1994-11-22</td><td>30</td><td>65000</td><td>Finance</td><td>68250.0</td><td>21 to 30</td></tr><tr><td>2</td><td>Alice</td><td>1997-02-28</td><td>27</td><td>60000</td><td>HR</td><td>63000.0</td><td>21 to 30</td></tr><tr><td>1</td><td>John</td><td>1992-05-12</td><td>32</td><td>70000</td><td>IT</td><td>73500.0</td><td>31 to 40</td></tr><tr><td>5</td><td>David</td><td>1981-12-18</td><td>43</td><td>90000</td><td>HR</td><td>94500.0</td><td>More than 40</td></tr><tr><td>6</td><td>Susan</td><td>1989-07-05</td><td>35</td><td>75000</td><td>Finance</td><td>78750.0</td><td>31 to 40</td></tr><tr><td>7</td><td>Mike</td><td>1976-03-15</td><td>48</td><td>95000</td><td>IT</td><td>99750.0</td><td>More than 40</td></tr><tr><td>10</td><td>Sophie</td><td>1992-06-30</td><td>32</td><td>62000</td><td>Finance</td><td>65100.0</td><td>31 to 40</td></tr><tr><td>2</td><td>Alice</td><td>1997-02-28</td><td>27</td><td>90000</td><td>Finance</td><td>94500.0</td><td>21 to 30</td></tr><tr><td>4</td><td>Emily</td><td>1994-11-22</td><td>30</td><td>70000</td><td>Finance</td><td>73500.0</td><td>21 to 30</td></tr><tr><td>9</td><td>James</td><td>1983-10-14</td><td>41</td><td>87000</td><td>IT</td><td>91350.0</td><td>More than 40</td></tr><tr><td>8</td><td>Lisa</td><td>1995-08-20</td><td>29</td><td>58000</td><td>HR</td><td>60900.0</td><td>21 to 30</td></tr></tbody></table></div>"
      ]
     },
     "metadata": {
      "application/vnd.databricks.v1+output": {
       "addedWidgets": {},
       "aggData": [],
       "aggError": "",
       "aggOverflow": false,
       "aggSchema": [],
       "aggSeriesLimitReached": false,
       "aggType": "",
       "arguments": {},
       "columnCustomDisplayInfos": {},
       "data": [
        [
         3,
         "Bob",
         null,
         0,
         80000,
         "IT",
         84000.0,
         "More than 40"
        ],
        [
         4,
         "Emily",
         "1994-11-22",
         30,
         65000,
         "Finance",
         68250.0,
         "21 to 30"
        ],
        [
         2,
         "Alice",
         "1997-02-28",
         27,
         60000,
         "HR",
         63000.0,
         "21 to 30"
        ],
        [
         1,
         "John",
         "1992-05-12",
         32,
         70000,
         "IT",
         73500.0,
         "31 to 40"
        ],
        [
         5,
         "David",
         "1981-12-18",
         43,
         90000,
         "HR",
         94500.0,
         "More than 40"
        ],
        [
         6,
         "Susan",
         "1989-07-05",
         35,
         75000,
         "Finance",
         78750.0,
         "31 to 40"
        ],
        [
         7,
         "Mike",
         "1976-03-15",
         48,
         95000,
         "IT",
         99750.0,
         "More than 40"
        ],
        [
         10,
         "Sophie",
         "1992-06-30",
         32,
         62000,
         "Finance",
         65100.0,
         "31 to 40"
        ],
        [
         2,
         "Alice",
         "1997-02-28",
         27,
         90000,
         "Finance",
         94500.0,
         "21 to 30"
        ],
        [
         4,
         "Emily",
         "1994-11-22",
         30,
         70000,
         "Finance",
         73500.0,
         "21 to 30"
        ],
        [
         9,
         "James",
         "1983-10-14",
         41,
         87000,
         "IT",
         91350.0,
         "More than 40"
        ],
        [
         8,
         "Lisa",
         "1995-08-20",
         29,
         58000,
         "HR",
         60900.0,
         "21 to 30"
        ]
       ],
       "datasetInfos": [],
       "dbfsResultPath": null,
       "isJsonSchema": true,
       "metadata": {},
       "overflow": false,
       "plotOptions": {
        "customPlotOptions": {},
        "displayType": "table",
        "pivotAggregation": null,
        "pivotColumns": null,
        "xColumns": null,
        "yColumns": null
       },
       "removedWidgets": [],
       "schema": [
        {
         "metadata": "{}",
         "name": "id",
         "type": "\"integer\""
        },
        {
         "metadata": "{}",
         "name": "first_name",
         "type": "\"string\""
        },
        {
         "metadata": "{}",
         "name": "dob",
         "type": "\"date\""
        },
        {
         "metadata": "{}",
         "name": "age",
         "type": "\"integer\""
        },
        {
         "metadata": "{}",
         "name": "salary",
         "type": "\"integer\""
        },
        {
         "metadata": "{}",
         "name": "department",
         "type": "\"string\""
        },
        {
         "metadata": "{}",
         "name": "salary_raise",
         "type": "\"double\""
        },
        {
         "metadata": "{}",
         "name": "age_group",
         "type": "\"string\""
        }
       ],
       "type": "table"
      }
     },
     "output_type": "display_data"
    }
   ],
   "source": [
    "display(table_df)"
   ]
  },
  {
   "cell_type": "code",
   "execution_count": 0,
   "metadata": {
    "application/vnd.databricks.v1+cell": {
     "cellMetadata": {},
     "inputWidgets": {},
     "nuid": "40a3c5e0-6f67-4178-89fa-432558fd7701",
     "showTitle": false,
     "title": ""
    }
   },
   "outputs": [],
   "source": []
  }
 ],
 "metadata": {
  "application/vnd.databricks.v1+notebook": {
   "dashboards": [],
   "language": "python",
   "notebookMetadata": {
    "mostRecentlyExecutedCommandWithImplicitDF": {
     "commandId": 3475258977947647,
     "dataframes": [
      "_sqldf"
     ]
    },
    "pythonIndentUnit": 4
   },
   "notebookName": "PySpark (1)",
   "widgets": {}
  },
  "kernelspec": {
   "display_name": "Python 3 (ipykernel)",
   "language": "python",
   "name": "python3"
  },
  "language_info": {
   "codemirror_mode": {
    "name": "ipython",
    "version": 3
   },
   "file_extension": ".py",
   "mimetype": "text/x-python",
   "name": "python",
   "nbconvert_exporter": "python",
   "pygments_lexer": "ipython3",
   "version": "3.11.6"
  }
 },
 "nbformat": 4,
 "nbformat_minor": 0
}
