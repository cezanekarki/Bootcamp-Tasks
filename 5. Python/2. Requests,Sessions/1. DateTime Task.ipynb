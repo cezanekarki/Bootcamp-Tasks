{
 "cells": [
  {
   "cell_type": "markdown",
   "metadata": {
    "application/vnd.databricks.v1+cell": {
     "cellMetadata": {},
     "inputWidgets": {},
     "nuid": "5fb44191-639e-42e8-9373-769c297803a0",
     "showTitle": false,
     "title": ""
    }
   },
   "source": [
    "Date Time USE"
   ]
  },
  {
   "cell_type": "code",
   "execution_count": 0,
   "metadata": {
    "application/vnd.databricks.v1+cell": {
     "cellMetadata": {
      "byteLimit": 2048000,
      "rowLimit": 10000
     },
     "inputWidgets": {},
     "nuid": "67cdc329-7ab1-46a6-9895-a90f5926f4d5",
     "showTitle": false,
     "title": ""
    }
   },
   "outputs": [],
   "source": [
    "import datetime"
   ]
  },
  {
   "cell_type": "markdown",
   "metadata": {
    "application/vnd.databricks.v1+cell": {
     "cellMetadata": {},
     "inputWidgets": {},
     "nuid": "ac2aec67-886c-4e61-a78c-0869cb255291",
     "showTitle": false,
     "title": ""
    }
   },
   "source": [
    "Age Cal"
   ]
  },
  {
   "cell_type": "code",
   "execution_count": 0,
   "metadata": {
    "application/vnd.databricks.v1+cell": {
     "cellMetadata": {
      "byteLimit": 2048000,
      "rowLimit": 10000
     },
     "inputWidgets": {},
     "nuid": "06014077-dfcb-487c-9911-02eb09bbe128",
     "showTitle": false,
     "title": ""
    }
   },
   "outputs": [
    {
     "output_type": "display_data",
     "data": {
      "text/plain": [
       "Enter your dob (YYYY-MM-DD):  2003-08-05"
      ]
     },
     "metadata": {},
     "output_type": "display_data"
    },
    {
     "output_type": "stream",
     "name": "stdout",
     "output_type": "stream",
     "text": [
      "Your age is approximately: 20 years\n"
     ]
    }
   ],
   "source": [
    "currentDate = datetime.datetime.now()\n",
    "\n",
    "# Take input from the user and convert it to a datetime object\n",
    "dob_input = input(\"Enter your dob (YYYY-MM-DD): \")\n",
    "dob = datetime.datetime.strptime(dob_input, \"%Y-%m-%d\")\n",
    "\n",
    "# Calculate age\n",
    "age_difference = currentDate - dob\n",
    "\n",
    "# Extract years from the timedelta object\n",
    "age_in_years = age_difference.days // 365\n",
    "\n",
    "print(\"Your age is approximately:\", age_in_years, \"years\")"
   ]
  },
  {
   "cell_type": "code",
   "execution_count": 0,
   "metadata": {
    "application/vnd.databricks.v1+cell": {
     "cellMetadata": {
      "byteLimit": 2048000,
      "rowLimit": 10000
     },
     "inputWidgets": {},
     "nuid": "14340486-0cfe-42ff-af8f-d593f4d2a5d6",
     "showTitle": false,
     "title": ""
    }
   },
   "outputs": [
    {
     "output_type": "stream",
     "name": "stdout",
     "output_type": "stream",
     "text": [
      "Days left until your next birthday: 184\n"
     ]
    }
   ],
   "source": [
    "next_birthday = dob.replace(year=currentDate.year)\n",
    "if next_birthday < currentDate:\n",
    "    next_birthday = next_birthday.replace(year=currentDate.year + 1)\n",
    "\n",
    "# Calculate the difference in days until the next birthday\n",
    "days_until_birthday = (next_birthday - currentDate).days\n",
    "\n",
    "print(\"Days left until your next birthday:\", days_until_birthday)"
   ]
  },
  {
   "cell_type": "code",
   "execution_count": 0,
   "metadata": {
    "application/vnd.databricks.v1+cell": {
     "cellMetadata": {
      "byteLimit": 2048000,
      "rowLimit": 10000
     },
     "inputWidgets": {},
     "nuid": "456dd606-65fa-44d1-8d4f-886720be3b64",
     "showTitle": false,
     "title": ""
    }
   },
   "outputs": [
    {
     "output_type": "stream",
     "name": "stdout",
     "output_type": "stream",
     "text": [
      "Months passed since your birth: 249\nWeeks passed since your birth: 1069\n"
     ]
    }
   ],
   "source": [
    "difference_in_days = (currentDate - dob).days\n",
    "\n",
    "# Calculate the number of months passed\n",
    "months_passed = difference_in_days // 30  # Approximating 30 days per month\n",
    "\n",
    "# Calculate the number of weeks passed\n",
    "weeks_passed = difference_in_days // 7  # 7 days per week\n",
    "\n",
    "print(\"Months passed since your birth:\", months_passed)\n",
    "print(\"Weeks passed since your birth:\", weeks_passed)"
   ]
  }
 ],
 "metadata": {
  "application/vnd.databricks.v1+notebook": {
   "dashboards": [],
   "language": "python",
   "notebookMetadata": {
    "pythonIndentUnit": 4
   },
   "notebookName": "1st half-1",
   "widgets": {}
  }
 },
 "nbformat": 4,
 "nbformat_minor": 0
}
