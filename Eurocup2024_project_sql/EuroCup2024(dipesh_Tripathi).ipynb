{
 "cells": [
  {
   "cell_type": "markdown",
   "metadata": {
    "application/vnd.databricks.v1+cell": {
     "cellMetadata": {
      "byteLimit": 2048000,
      "rowLimit": 10000
     },
     "inputWidgets": {},
     "nuid": "7a6d820e-9855-4d76-9c9b-28f1a2a39f78",
     "showTitle": false,
     "title": ""
    }
   },
   "source": [
    "# EuroCup 2024 Here We Go"
   ]
  },
  {
   "cell_type": "markdown",
   "metadata": {
    "application/vnd.databricks.v1+cell": {
     "cellMetadata": {
      "byteLimit": 2048000,
      "rowLimit": 10000
     },
     "inputWidgets": {},
     "nuid": "e082b542-57a2-4dfe-bd4e-0bc91d2d048f",
     "showTitle": false,
     "title": ""
    }
   },
   "source": [
    "### EuroCup Logo\n",
    "\n",
    "![EuroTiesheet](/files/tables/eurobw.jpg)"
   ]
  },
  {
   "cell_type": "markdown",
   "metadata": {
    "application/vnd.databricks.v1+cell": {
     "cellMetadata": {
      "byteLimit": 2048000,
      "rowLimit": 10000
     },
     "inputWidgets": {},
     "nuid": "42b9ef99-708e-41f0-b1e1-ce5589344462",
     "showTitle": false,
     "title": ""
    }
   },
   "source": [
    "### Playoffs Consideration\n",
    "\n",
    "- Path A: Wales/Finland vs Poland/Estonia (Poland)\n",
    "- Path B: Bosnia and Herzegovina/Ukraine vs Israel/Iceland (Ukraine)\n",
    "- Path C: Georgia/Luxembourg vs Greece/Kazakhstan (Greece)"
   ]
  },
  {
   "cell_type": "markdown",
   "metadata": {
    "application/vnd.databricks.v1+cell": {
     "cellMetadata": {
      "byteLimit": 2048000,
      "rowLimit": 10000
     },
     "inputWidgets": {},
     "nuid": "43f5ec1a-c10a-4fa2-9370-022533b93fca",
     "showTitle": false,
     "title": ""
    }
   },
   "source": [
    "## Adding All team to teams table"
   ]
  },
  {
   "cell_type": "code",
   "execution_count": 0,
   "metadata": {
    "application/vnd.databricks.v1+cell": {
     "cellMetadata": {
      "byteLimit": 2048000,
      "implicitDf": true,
      "rowLimit": 10000
     },
     "inputWidgets": {},
     "nuid": "54160074-f15f-482e-9f49-0815760ce3e3",
     "showTitle": false,
     "title": ""
    }
   },
   "outputs": [
    {
     "output_type": "display_data",
     "data": {
      "text/html": [
       "<style scoped>\n",
       "  .table-result-container {\n",
       "    max-height: 300px;\n",
       "    overflow: auto;\n",
       "  }\n",
       "  table, th, td {\n",
       "    border: 1px solid black;\n",
       "    border-collapse: collapse;\n",
       "  }\n",
       "  th, td {\n",
       "    padding: 5px;\n",
       "  }\n",
       "  th {\n",
       "    text-align: left;\n",
       "  }\n",
       "</style><div class='table-result-container'><table class='table-result'><thead style='background-color: white'><tr><th>TeamId</th><th>TeamName</th><th>TeamGroup</th></tr></thead><tbody><tr><td>1</td><td>Germany</td><td>A</td></tr><tr><td>2</td><td>Scotland</td><td>A</td></tr><tr><td>3</td><td>Hungary</td><td>A</td></tr><tr><td>4</td><td>Switzerland</td><td>A</td></tr><tr><td>5</td><td>Spain</td><td>B</td></tr><tr><td>6</td><td>Croatia</td><td>B</td></tr><tr><td>7</td><td>Italy</td><td>B</td></tr><tr><td>8</td><td>Albania</td><td>B</td></tr><tr><td>9</td><td>Slovenia</td><td>C</td></tr><tr><td>10</td><td>Denmark</td><td>C</td></tr><tr><td>11</td><td>Serbia</td><td>C</td></tr><tr><td>12</td><td>England</td><td>C</td></tr><tr><td>13</td><td>Poland</td><td>D</td></tr><tr><td>14</td><td>Netherlands</td><td>D</td></tr><tr><td>15</td><td>Austria</td><td>D</td></tr><tr><td>16</td><td>France</td><td>D</td></tr><tr><td>17</td><td>Belgium</td><td>E</td></tr><tr><td>18</td><td>Slovakia</td><td>E</td></tr><tr><td>19</td><td>Romania</td><td>E</td></tr><tr><td>20</td><td>Ukraine</td><td>E</td></tr><tr><td>21</td><td>Türkiye</td><td>F</td></tr><tr><td>22</td><td>Greece</td><td>F</td></tr><tr><td>23</td><td>Portugal</td><td>F</td></tr><tr><td>24</td><td>Czech</td><td>F</td></tr></tbody></table></div>"
      ]
     },
     "metadata": {
      "application/vnd.databricks.v1+output": {
       "addedWidgets": {},
       "aggData": [],
       "aggError": "",
       "aggOverflow": false,
       "aggSchema": [],
       "aggSeriesLimitReached": false,
       "aggType": "",
       "arguments": {},
       "columnCustomDisplayInfos": {},
       "data": [
        [
         1,
         "Germany",
         "A"
        ],
        [
         2,
         "Scotland",
         "A"
        ],
        [
         3,
         "Hungary",
         "A"
        ],
        [
         4,
         "Switzerland",
         "A"
        ],
        [
         5,
         "Spain",
         "B"
        ],
        [
         6,
         "Croatia",
         "B"
        ],
        [
         7,
         "Italy",
         "B"
        ],
        [
         8,
         "Albania",
         "B"
        ],
        [
         9,
         "Slovenia",
         "C"
        ],
        [
         10,
         "Denmark",
         "C"
        ],
        [
         11,
         "Serbia",
         "C"
        ],
        [
         12,
         "England",
         "C"
        ],
        [
         13,
         "Poland",
         "D"
        ],
        [
         14,
         "Netherlands",
         "D"
        ],
        [
         15,
         "Austria",
         "D"
        ],
        [
         16,
         "France",
         "D"
        ],
        [
         17,
         "Belgium",
         "E"
        ],
        [
         18,
         "Slovakia",
         "E"
        ],
        [
         19,
         "Romania",
         "E"
        ],
        [
         20,
         "Ukraine",
         "E"
        ],
        [
         21,
         "Türkiye",
         "F"
        ],
        [
         22,
         "Greece",
         "F"
        ],
        [
         23,
         "Portugal",
         "F"
        ],
        [
         24,
         "Czech",
         "F"
        ]
       ],
       "datasetInfos": [],
       "dbfsResultPath": null,
       "isJsonSchema": true,
       "metadata": {},
       "overflow": false,
       "plotOptions": {
        "customPlotOptions": {},
        "displayType": "table",
        "pivotAggregation": null,
        "pivotColumns": null,
        "xColumns": null,
        "yColumns": null
       },
       "removedWidgets": [],
       "schema": [
        {
         "metadata": "{}",
         "name": "TeamId",
         "type": "\"integer\""
        },
        {
         "metadata": "{\"__CHAR_VARCHAR_TYPE_STRING\":\"varchar(255)\"}",
         "name": "TeamName",
         "type": "\"string\""
        },
        {
         "metadata": "{\"__CHAR_VARCHAR_TYPE_STRING\":\"varchar(255)\"}",
         "name": "TeamGroup",
         "type": "\"string\""
        }
       ],
       "type": "table"
      }
     },
     "output_type": "display_data"
    }
   ],
   "source": [
    "%sql\n",
    "-- Create or replace the table with the OVERWRITE option\n",
    "CREATE OR REPLACE TABLE allteams (\n",
    "  TeamId INTEGER,\n",
    "  TeamName VARCHAR(255),\n",
    "  TeamGroup VARCHAR(255)\n",
    ");\n",
    "-- Insert the provided data into the \"allteams\" table\n",
    "INSERT INTO allteams (TeamId, TeamName, TeamGroup)\n",
    "VALUES\n",
    "  (1, 'Germany', 'A'),\n",
    "  (2, 'Scotland', 'A'),\n",
    "  (3, 'Hungary', 'A'),\n",
    "  (4, 'Switzerland', 'A'),\n",
    "  (5, 'Spain', 'B'),\n",
    "  (6, 'Croatia', 'B'),\n",
    "  (7, 'Italy', 'B'),\n",
    "  (8, 'Albania', 'B'),\n",
    "  (9, 'Slovenia', 'C'),\n",
    "  (10, 'Denmark', 'C'),\n",
    "  (11, 'Serbia', 'C'),\n",
    "  (12, 'England', 'C'),\n",
    "  (13, 'Poland', 'D'),\n",
    "  (14, 'Netherlands', 'D'),\n",
    "  (15, 'Austria', 'D'),\n",
    "  (16, 'France', 'D'),\n",
    "  (17, 'Belgium', 'E'),\n",
    "  (18, 'Slovakia', 'E'),\n",
    "  (19, 'Romania', 'E'),\n",
    "  (20, 'Ukraine', 'E'),\n",
    "  (21, 'Türkiye', 'F'),\n",
    "  (22, 'Greece', 'F'),\n",
    "  (23, 'Portugal', 'F'),\n",
    "  (24, 'Czech', 'F');\n",
    "\n",
    "-- Verify the data in the \"allteams\" table\n",
    "SELECT * FROM allteams;\n"
   ]
  },
  {
   "cell_type": "markdown",
   "metadata": {
    "application/vnd.databricks.v1+cell": {
     "cellMetadata": {
      "byteLimit": 2048000,
      "rowLimit": 10000
     },
     "inputWidgets": {},
     "nuid": "06cee1fd-4da5-42ec-abb9-faa615cfbd91",
     "showTitle": false,
     "title": ""
    }
   },
   "source": [
    "rm -r dbfs:/user/hive/warehouse/ranking_group"
   ]
  },
  {
   "cell_type": "markdown",
   "metadata": {
    "application/vnd.databricks.v1+cell": {
     "cellMetadata": {
      "byteLimit": 2048000,
      "rowLimit": 10000
     },
     "inputWidgets": {},
     "nuid": "acf521af-1e98-43d8-95f4-ef4252c2080a",
     "showTitle": false,
     "title": ""
    }
   },
   "source": [
    "### EuroTiesheet\n",
    "\n",
    "![EuroTiesheet](/files/tables/EuroTiesheet.png)"
   ]
  },
  {
   "cell_type": "markdown",
   "metadata": {
    "application/vnd.databricks.v1+cell": {
     "cellMetadata": {
      "byteLimit": 2048000,
      "rowLimit": 10000
     },
     "inputWidgets": {},
     "nuid": "856f606b-9419-4df5-91bb-ba9077dda427",
     "showTitle": false,
     "title": ""
    }
   },
   "source": [
    "### Total Combination for third palce\n",
    "\n",
    "![EuroTiesheet](/files/tables/comb.png)"
   ]
  },
  {
   "cell_type": "markdown",
   "metadata": {
    "application/vnd.databricks.v1+cell": {
     "cellMetadata": {
      "byteLimit": 2048000,
      "rowLimit": 10000
     },
     "inputWidgets": {},
     "nuid": "08879caa-671a-456e-a130-9a73384acb52",
     "showTitle": false,
     "title": ""
    }
   },
   "source": [
    "## Creating table for the above combination \n",
    "-The specific match-ups involving the third-placed teams depend on which four third-placed teams qualify for the round of 16"
   ]
  },
  {
   "cell_type": "code",
   "execution_count": 0,
   "metadata": {
    "application/vnd.databricks.v1+cell": {
     "cellMetadata": {
      "byteLimit": 2048000,
      "implicitDf": true,
      "rowLimit": 10000
     },
     "inputWidgets": {},
     "nuid": "6ede93ce-dd68-4088-945a-1db9e61e4025",
     "showTitle": false,
     "title": ""
    }
   },
   "outputs": [
    {
     "output_type": "display_data",
     "data": {
      "text/html": [
       "<style scoped>\n",
       "  .table-result-container {\n",
       "    max-height: 300px;\n",
       "    overflow: auto;\n",
       "  }\n",
       "  table, th, td {\n",
       "    border: 1px solid black;\n",
       "    border-collapse: collapse;\n",
       "  }\n",
       "  th, td {\n",
       "    padding: 5px;\n",
       "  }\n",
       "  th {\n",
       "    text-align: left;\n",
       "  }\n",
       "</style><div class='table-result-container'><table class='table-result'><thead style='background-color: white'><tr><th>ID</th><th>SELECTEDGROUPS</th><th>Team1B</th><th>Team1C</th><th>Team1E</th><th>Team1F</th></tr></thead><tbody><tr><td>1</td><td>ABCD</td><td>A</td><td>D</td><td>B</td><td>C</td></tr><tr><td>2</td><td>ABCE</td><td>A</td><td>E</td><td>B</td><td>C</td></tr><tr><td>3</td><td>ABCF</td><td>A</td><td>F</td><td>B</td><td>C</td></tr><tr><td>4</td><td>ABDE</td><td>D</td><td>E</td><td>A</td><td>B</td></tr><tr><td>5</td><td>ABDF</td><td>D</td><td>F</td><td>A</td><td>B</td></tr><tr><td>6</td><td>ABEF</td><td>E</td><td>F</td><td>B</td><td>A</td></tr><tr><td>7</td><td>ACDE</td><td>E</td><td>D</td><td>C</td><td>A</td></tr><tr><td>8</td><td>ACDF</td><td>F</td><td>D</td><td>C</td><td>A</td></tr><tr><td>9</td><td>ACEF</td><td>E</td><td>F</td><td>C</td><td>A</td></tr><tr><td>10</td><td>ADEF</td><td>E</td><td>F</td><td>D</td><td>A</td></tr><tr><td>11</td><td>BCDE</td><td>E</td><td>D</td><td>B</td><td>C</td></tr><tr><td>12</td><td>BCDF</td><td>F</td><td>D</td><td>C</td><td>B</td></tr><tr><td>13</td><td>BCEF</td><td>F</td><td>E</td><td>C</td><td>B</td></tr><tr><td>14</td><td>BDEF</td><td>F</td><td>E</td><td>D</td><td>B</td></tr><tr><td>15</td><td>CDEF</td><td>F</td><td>E</td><td>D</td><td>C</td></tr></tbody></table></div>"
      ]
     },
     "metadata": {
      "application/vnd.databricks.v1+output": {
       "addedWidgets": {},
       "aggData": [],
       "aggError": "",
       "aggOverflow": false,
       "aggSchema": [],
       "aggSeriesLimitReached": false,
       "aggType": "",
       "arguments": {},
       "columnCustomDisplayInfos": {},
       "data": [
        [
         1,
         "ABCD",
         "A",
         "D",
         "B",
         "C"
        ],
        [
         2,
         "ABCE",
         "A",
         "E",
         "B",
         "C"
        ],
        [
         3,
         "ABCF",
         "A",
         "F",
         "B",
         "C"
        ],
        [
         4,
         "ABDE",
         "D",
         "E",
         "A",
         "B"
        ],
        [
         5,
         "ABDF",
         "D",
         "F",
         "A",
         "B"
        ],
        [
         6,
         "ABEF",
         "E",
         "F",
         "B",
         "A"
        ],
        [
         7,
         "ACDE",
         "E",
         "D",
         "C",
         "A"
        ],
        [
         8,
         "ACDF",
         "F",
         "D",
         "C",
         "A"
        ],
        [
         9,
         "ACEF",
         "E",
         "F",
         "C",
         "A"
        ],
        [
         10,
         "ADEF",
         "E",
         "F",
         "D",
         "A"
        ],
        [
         11,
         "BCDE",
         "E",
         "D",
         "B",
         "C"
        ],
        [
         12,
         "BCDF",
         "F",
         "D",
         "C",
         "B"
        ],
        [
         13,
         "BCEF",
         "F",
         "E",
         "C",
         "B"
        ],
        [
         14,
         "BDEF",
         "F",
         "E",
         "D",
         "B"
        ],
        [
         15,
         "CDEF",
         "F",
         "E",
         "D",
         "C"
        ]
       ],
       "datasetInfos": [],
       "dbfsResultPath": null,
       "isJsonSchema": true,
       "metadata": {},
       "overflow": false,
       "plotOptions": {
        "customPlotOptions": {},
        "displayType": "table",
        "pivotAggregation": null,
        "pivotColumns": null,
        "xColumns": null,
        "yColumns": null
       },
       "removedWidgets": [],
       "schema": [
        {
         "metadata": "{}",
         "name": "ID",
         "type": "\"integer\""
        },
        {
         "metadata": "{\"__CHAR_VARCHAR_TYPE_STRING\":\"varchar(4)\"}",
         "name": "SELECTEDGROUPS",
         "type": "\"string\""
        },
        {
         "metadata": "{\"__CHAR_VARCHAR_TYPE_STRING\":\"char(1)\"}",
         "name": "Team1B",
         "type": "\"string\""
        },
        {
         "metadata": "{\"__CHAR_VARCHAR_TYPE_STRING\":\"char(1)\"}",
         "name": "Team1C",
         "type": "\"string\""
        },
        {
         "metadata": "{\"__CHAR_VARCHAR_TYPE_STRING\":\"char(1)\"}",
         "name": "Team1E",
         "type": "\"string\""
        },
        {
         "metadata": "{\"__CHAR_VARCHAR_TYPE_STRING\":\"char(1)\"}",
         "name": "Team1F",
         "type": "\"string\""
        }
       ],
       "type": "table"
      }
     },
     "output_type": "display_data"
    }
   ],
   "source": [
    "%sql\n",
    "CREATE TABLE THIRDPLACECOMBO (\n",
    "  ID INTEGER,\n",
    "  SELECTEDGROUPS VARCHAR(4),\n",
    "  Team1B CHAR(1),\n",
    "  Team1C CHAR(1),\n",
    "  Team1E CHAR(1),\n",
    "  Team1F CHAR(1)\n",
    ");\n",
    "\n",
    "-- Step 2: Insert the provided values into the \"THIRDMATCHUP\" table\n",
    "INSERT INTO THIRDPLACECOMBO (ID, SELECTEDGROUPS, Team1B, Team1C, Team1E, Team1F) VALUES\n",
    "(1, 'ABCD', 'A', 'D', 'B', 'C'),\n",
    "(2, 'ABCE', 'A', 'E', 'B', 'C'),\n",
    "(3, 'ABCF', 'A', 'F', 'B', 'C'),\n",
    "(4, 'ABDE', 'D', 'E', 'A', 'B'),\n",
    "(5, 'ABDF', 'D', 'F', 'A', 'B'),\n",
    "(6, 'ABEF', 'E', 'F', 'B', 'A'),\n",
    "(7, 'ACDE', 'E', 'D', 'C', 'A'),\n",
    "(8, 'ACDF', 'F', 'D', 'C', 'A'),\n",
    "(9, 'ACEF', 'E', 'F', 'C', 'A'),\n",
    "(10, 'ADEF', 'E', 'F', 'D', 'A'),\n",
    "(11, 'BCDE', 'E', 'D', 'B', 'C'),\n",
    "(12, 'BCDF', 'F', 'D', 'C', 'B'),\n",
    "(13, 'BCEF', 'F', 'E', 'C', 'B'),\n",
    "(14, 'BDEF', 'F', 'E', 'D', 'B'),\n",
    "(15, 'CDEF', 'F', 'E', 'D', 'C');\n",
    "\n",
    "\n",
    "select * from THIRDPLACECOMBO\n"
   ]
  },
  {
   "cell_type": "markdown",
   "metadata": {
    "application/vnd.databricks.v1+cell": {
     "cellMetadata": {
      "byteLimit": 2048000,
      "rowLimit": 10000
     },
     "inputWidgets": {},
     "nuid": "e9de1e4d-c5e0-4a90-b9c3-24a0be029231",
     "showTitle": false,
     "title": ""
    }
   },
   "source": [
    "### Playing the Group stage matchies and insert into matchesofcountry table\n",
    "\n",
    "- Define matchesofcountry talbe with required columns to store match outcomes\n",
    "- each team in each group plays with all the other team in the same group\n",
    "- set the score to random number between 1 to 6\n",
    "- update the Result column on the basics of match score, if team1 score and team2 score are same then set Result to draw\n"
   ]
  },
  {
   "cell_type": "code",
   "execution_count": 0,
   "metadata": {
    "application/vnd.databricks.v1+cell": {
     "cellMetadata": {
      "byteLimit": 2048000,
      "implicitDf": true,
      "rowLimit": 10000
     },
     "inputWidgets": {},
     "nuid": "9acc9242-c852-414c-ae74-bd08d4220083",
     "showTitle": false,
     "title": ""
    }
   },
   "outputs": [
    {
     "output_type": "display_data",
     "data": {
      "text/html": [
       "<style scoped>\n",
       "  .table-result-container {\n",
       "    max-height: 300px;\n",
       "    overflow: auto;\n",
       "  }\n",
       "  table, th, td {\n",
       "    border: 1px solid black;\n",
       "    border-collapse: collapse;\n",
       "  }\n",
       "  th, td {\n",
       "    padding: 5px;\n",
       "  }\n",
       "  th {\n",
       "    text-align: left;\n",
       "  }\n",
       "</style><div class='table-result-container'><table class='table-result'><thead style='background-color: white'><tr><th>MatchId</th><th>Team1</th><th>Team2</th><th>Team1Score</th><th>Team2Score</th><th>Result</th><th>Stage</th></tr></thead><tbody><tr><td>1</td><td>Germany</td><td>Switzerland</td><td>6</td><td>4</td><td>Germany</td><td>group stage</td></tr><tr><td>2</td><td>Germany</td><td>Hungary</td><td>2</td><td>6</td><td>Hungary</td><td>group stage</td></tr><tr><td>3</td><td>Germany</td><td>Scotland</td><td>4</td><td>6</td><td>Scotland</td><td>group stage</td></tr><tr><td>4</td><td>Scotland</td><td>Switzerland</td><td>5</td><td>2</td><td>Scotland</td><td>group stage</td></tr><tr><td>5</td><td>Scotland</td><td>Hungary</td><td>6</td><td>1</td><td>Scotland</td><td>group stage</td></tr><tr><td>6</td><td>Hungary</td><td>Switzerland</td><td>1</td><td>3</td><td>Switzerland</td><td>group stage</td></tr><tr><td>7</td><td>Spain</td><td>Albania</td><td>4</td><td>3</td><td>Spain</td><td>group stage</td></tr><tr><td>8</td><td>Spain</td><td>Italy</td><td>5</td><td>1</td><td>Spain</td><td>group stage</td></tr><tr><td>9</td><td>Spain</td><td>Croatia</td><td>3</td><td>3</td><td>draw</td><td>group stage</td></tr><tr><td>10</td><td>Croatia</td><td>Albania</td><td>5</td><td>2</td><td>Croatia</td><td>group stage</td></tr><tr><td>11</td><td>Croatia</td><td>Italy</td><td>6</td><td>5</td><td>Croatia</td><td>group stage</td></tr><tr><td>12</td><td>Italy</td><td>Albania</td><td>3</td><td>4</td><td>Albania</td><td>group stage</td></tr><tr><td>13</td><td>Slovenia</td><td>England</td><td>6</td><td>1</td><td>Slovenia</td><td>group stage</td></tr><tr><td>14</td><td>Slovenia</td><td>Serbia</td><td>1</td><td>6</td><td>Serbia</td><td>group stage</td></tr><tr><td>15</td><td>Slovenia</td><td>Denmark</td><td>2</td><td>3</td><td>Denmark</td><td>group stage</td></tr><tr><td>16</td><td>Denmark</td><td>England</td><td>2</td><td>4</td><td>England</td><td>group stage</td></tr><tr><td>17</td><td>Denmark</td><td>Serbia</td><td>4</td><td>2</td><td>Denmark</td><td>group stage</td></tr><tr><td>18</td><td>Serbia</td><td>England</td><td>2</td><td>2</td><td>draw</td><td>group stage</td></tr><tr><td>19</td><td>Poland</td><td>France</td><td>2</td><td>5</td><td>France</td><td>group stage</td></tr><tr><td>20</td><td>Poland</td><td>Austria</td><td>4</td><td>2</td><td>Poland</td><td>group stage</td></tr><tr><td>21</td><td>Poland</td><td>Netherlands</td><td>3</td><td>3</td><td>draw</td><td>group stage</td></tr><tr><td>22</td><td>Netherlands</td><td>France</td><td>3</td><td>3</td><td>draw</td><td>group stage</td></tr><tr><td>23</td><td>Netherlands</td><td>Austria</td><td>6</td><td>5</td><td>Netherlands</td><td>group stage</td></tr><tr><td>24</td><td>Austria</td><td>France</td><td>1</td><td>5</td><td>France</td><td>group stage</td></tr><tr><td>25</td><td>Belgium</td><td>Ukraine</td><td>5</td><td>2</td><td>Belgium</td><td>group stage</td></tr><tr><td>26</td><td>Belgium</td><td>Romania</td><td>1</td><td>5</td><td>Romania</td><td>group stage</td></tr><tr><td>27</td><td>Belgium</td><td>Slovakia</td><td>6</td><td>4</td><td>Belgium</td><td>group stage</td></tr><tr><td>28</td><td>Slovakia</td><td>Ukraine</td><td>2</td><td>3</td><td>Ukraine</td><td>group stage</td></tr><tr><td>29</td><td>Slovakia</td><td>Romania</td><td>6</td><td>6</td><td>draw</td><td>group stage</td></tr><tr><td>30</td><td>Romania</td><td>Ukraine</td><td>5</td><td>4</td><td>Romania</td><td>group stage</td></tr><tr><td>31</td><td>Türkiye</td><td>Czech</td><td>3</td><td>6</td><td>Czech</td><td>group stage</td></tr><tr><td>32</td><td>Türkiye</td><td>Portugal</td><td>6</td><td>1</td><td>Türkiye</td><td>group stage</td></tr><tr><td>33</td><td>Türkiye</td><td>Greece</td><td>2</td><td>5</td><td>Greece</td><td>group stage</td></tr><tr><td>34</td><td>Greece</td><td>Czech</td><td>1</td><td>6</td><td>Czech</td><td>group stage</td></tr><tr><td>35</td><td>Greece</td><td>Portugal</td><td>6</td><td>2</td><td>Greece</td><td>group stage</td></tr><tr><td>36</td><td>Portugal</td><td>Czech</td><td>4</td><td>5</td><td>Czech</td><td>group stage</td></tr></tbody></table></div>"
      ]
     },
     "metadata": {
      "application/vnd.databricks.v1+output": {
       "addedWidgets": {},
       "aggData": [],
       "aggError": "",
       "aggOverflow": false,
       "aggSchema": [],
       "aggSeriesLimitReached": false,
       "aggType": "",
       "arguments": {},
       "columnCustomDisplayInfos": {},
       "data": [
        [
         1,
         "Germany",
         "Switzerland",
         6,
         4,
         "Germany",
         "group stage"
        ],
        [
         2,
         "Germany",
         "Hungary",
         2,
         6,
         "Hungary",
         "group stage"
        ],
        [
         3,
         "Germany",
         "Scotland",
         4,
         6,
         "Scotland",
         "group stage"
        ],
        [
         4,
         "Scotland",
         "Switzerland",
         5,
         2,
         "Scotland",
         "group stage"
        ],
        [
         5,
         "Scotland",
         "Hungary",
         6,
         1,
         "Scotland",
         "group stage"
        ],
        [
         6,
         "Hungary",
         "Switzerland",
         1,
         3,
         "Switzerland",
         "group stage"
        ],
        [
         7,
         "Spain",
         "Albania",
         4,
         3,
         "Spain",
         "group stage"
        ],
        [
         8,
         "Spain",
         "Italy",
         5,
         1,
         "Spain",
         "group stage"
        ],
        [
         9,
         "Spain",
         "Croatia",
         3,
         3,
         "draw",
         "group stage"
        ],
        [
         10,
         "Croatia",
         "Albania",
         5,
         2,
         "Croatia",
         "group stage"
        ],
        [
         11,
         "Croatia",
         "Italy",
         6,
         5,
         "Croatia",
         "group stage"
        ],
        [
         12,
         "Italy",
         "Albania",
         3,
         4,
         "Albania",
         "group stage"
        ],
        [
         13,
         "Slovenia",
         "England",
         6,
         1,
         "Slovenia",
         "group stage"
        ],
        [
         14,
         "Slovenia",
         "Serbia",
         1,
         6,
         "Serbia",
         "group stage"
        ],
        [
         15,
         "Slovenia",
         "Denmark",
         2,
         3,
         "Denmark",
         "group stage"
        ],
        [
         16,
         "Denmark",
         "England",
         2,
         4,
         "England",
         "group stage"
        ],
        [
         17,
         "Denmark",
         "Serbia",
         4,
         2,
         "Denmark",
         "group stage"
        ],
        [
         18,
         "Serbia",
         "England",
         2,
         2,
         "draw",
         "group stage"
        ],
        [
         19,
         "Poland",
         "France",
         2,
         5,
         "France",
         "group stage"
        ],
        [
         20,
         "Poland",
         "Austria",
         4,
         2,
         "Poland",
         "group stage"
        ],
        [
         21,
         "Poland",
         "Netherlands",
         3,
         3,
         "draw",
         "group stage"
        ],
        [
         22,
         "Netherlands",
         "France",
         3,
         3,
         "draw",
         "group stage"
        ],
        [
         23,
         "Netherlands",
         "Austria",
         6,
         5,
         "Netherlands",
         "group stage"
        ],
        [
         24,
         "Austria",
         "France",
         1,
         5,
         "France",
         "group stage"
        ],
        [
         25,
         "Belgium",
         "Ukraine",
         5,
         2,
         "Belgium",
         "group stage"
        ],
        [
         26,
         "Belgium",
         "Romania",
         1,
         5,
         "Romania",
         "group stage"
        ],
        [
         27,
         "Belgium",
         "Slovakia",
         6,
         4,
         "Belgium",
         "group stage"
        ],
        [
         28,
         "Slovakia",
         "Ukraine",
         2,
         3,
         "Ukraine",
         "group stage"
        ],
        [
         29,
         "Slovakia",
         "Romania",
         6,
         6,
         "draw",
         "group stage"
        ],
        [
         30,
         "Romania",
         "Ukraine",
         5,
         4,
         "Romania",
         "group stage"
        ],
        [
         31,
         "Türkiye",
         "Czech",
         3,
         6,
         "Czech",
         "group stage"
        ],
        [
         32,
         "Türkiye",
         "Portugal",
         6,
         1,
         "Türkiye",
         "group stage"
        ],
        [
         33,
         "Türkiye",
         "Greece",
         2,
         5,
         "Greece",
         "group stage"
        ],
        [
         34,
         "Greece",
         "Czech",
         1,
         6,
         "Czech",
         "group stage"
        ],
        [
         35,
         "Greece",
         "Portugal",
         6,
         2,
         "Greece",
         "group stage"
        ],
        [
         36,
         "Portugal",
         "Czech",
         4,
         5,
         "Czech",
         "group stage"
        ]
       ],
       "datasetInfos": [],
       "dbfsResultPath": null,
       "isJsonSchema": true,
       "metadata": {},
       "overflow": false,
       "plotOptions": {
        "customPlotOptions": {},
        "displayType": "table",
        "pivotAggregation": null,
        "pivotColumns": null,
        "xColumns": null,
        "yColumns": null
       },
       "removedWidgets": [],
       "schema": [
        {
         "metadata": "{}",
         "name": "MatchId",
         "type": "\"integer\""
        },
        {
         "metadata": "{\"__CHAR_VARCHAR_TYPE_STRING\":\"varchar(255)\"}",
         "name": "Team1",
         "type": "\"string\""
        },
        {
         "metadata": "{\"__CHAR_VARCHAR_TYPE_STRING\":\"varchar(255)\"}",
         "name": "Team2",
         "type": "\"string\""
        },
        {
         "metadata": "{}",
         "name": "Team1Score",
         "type": "\"integer\""
        },
        {
         "metadata": "{}",
         "name": "Team2Score",
         "type": "\"integer\""
        },
        {
         "metadata": "{\"__CHAR_VARCHAR_TYPE_STRING\":\"varchar(255)\"}",
         "name": "Result",
         "type": "\"string\""
        },
        {
         "metadata": "{\"__CHAR_VARCHAR_TYPE_STRING\":\"varchar(255)\"}",
         "name": "Stage",
         "type": "\"string\""
        }
       ],
       "type": "table"
      }
     },
     "output_type": "display_data"
    }
   ],
   "source": [
    "%sql\n",
    "CREATE TABLE matchesofcountry (\n",
    "  MatchId INTEGER,\n",
    "  Team1 VARCHAR(255),\n",
    "  Team2 VARCHAR(255),\n",
    "  Team1Score INTEGER,\n",
    "  Team2Score INTEGER,\n",
    "  Result VARCHAR(255),\n",
    "  Stage VARCHAR(255)\n",
    ");\n",
    "\n",
    "INSERT INTO matchesofcountry (MatchId, Team1, Team2, Team1Score, Team2Score, Result, Stage)\n",
    "SELECT DISTINCT\n",
    "    ROW_NUMBER() OVER (ORDER BY t1.TeamId) AS MatchId,\n",
    "    t1.TeamName AS Team1,\n",
    "    t2.TeamName AS Team2,\n",
    "    (SELECT FLOOR(RAND() * 6) + 1) AS Team1Score,\n",
    "    (SELECT FLOOR(RAND() * 6) + 1) AS Team2Score,\n",
    "    'draw' AS Result,\n",
    "    'group stage' AS Stage\n",
    "FROM\n",
    "    allteams t1\n",
    "JOIN\n",
    "    allteams t2 ON t1.TeamGroup = t2.TeamGroup AND t1.TeamId < t2.TeamId;\n",
    "\n",
    "\n",
    "-- Step 4: Calculate match results and update the \"Result\" column\n",
    "UPDATE matchesofcountry\n",
    "SET Result = \n",
    "    CASE\n",
    "        WHEN Team1Score > Team2Score THEN Team1\n",
    "        WHEN Team1Score < Team2Score THEN Team2\n",
    "        ELSE 'draw'\n",
    "    END;\n",
    "\n",
    "\n",
    "-- Step 5: Verify the match results\n",
    "SELECT * FROM matchesofcountry\n",
    "order by MatchId;\n"
   ]
  },
  {
   "cell_type": "markdown",
   "metadata": {
    "application/vnd.databricks.v1+cell": {
     "cellMetadata": {
      "byteLimit": 2048000,
      "rowLimit": 10000
     },
     "inputWidgets": {},
     "nuid": "0e73735b-ac9a-4736-a012-fa9994b436d2",
     "showTitle": false,
     "title": ""
    }
   },
   "source": [
    "### Ranking Table after group stage matches \n",
    "- The four Third place teams to move on are determined by the follwoing criteria established by UEFA in the following specific order\n",
    "- 1. most point\n",
    "- 2. goal difference\n",
    "- 3. most goals scored\n",
    "- 4. most wins\n",
    "- 5. fewest disciplinary points in group stage matches(not consider in this porject)\n",
    "- 6. position in the overall European Qualifiers ranking(not consider in this porject)\n",
    "\n",
    "##### How I create ranking_group table\n",
    "- First define the required column\n",
    "- create MatchResults cte with columns TeamName, win(to calculate the total number of wins), points(to calculate total point), gaolscored and golaconcede(to calculate goal difference)\n",
    "- now insert the values to the ranking_group using allteams table and MatchResults cte. Firstly group by teamid to calculate the total number of wins, points and goaldifference form MatchResult Cte, then group by teamgroup to calculate the ranking for each team with in the groups\n",
    "- on the basics of inserted ranking_groups compute the Rankings columns. To use ranking column use row_number() since if all the rank determining creteria are same it provide the random rank \n",
    "- 1st and 2nd teams from each groups will be directly qualified for Round of 16 contributing the 12 outof 16 teams. Remaining 4 teams will be selected as Top 4 teams among all 6 teams which finish 3rd in their respective groups.\n",
    "- create TopRank3Teams cte to find top 4 team which are 3rd in each group. create IsProgressCalc cte to set the isprogress to true for the 1st, 2nd and top 4 3rd place teams and finally merge to the target table i.e ranking_group"
   ]
  },
  {
   "cell_type": "code",
   "execution_count": 0,
   "metadata": {
    "application/vnd.databricks.v1+cell": {
     "cellMetadata": {
      "byteLimit": 2048000,
      "implicitDf": true,
      "rowLimit": 10000
     },
     "inputWidgets": {},
     "nuid": "af6afff9-9646-47bf-9b02-1f81c1d4ea64",
     "showTitle": false,
     "title": ""
    }
   },
   "outputs": [
    {
     "output_type": "display_data",
     "data": {
      "text/html": [
       "<style scoped>\n",
       "  .table-result-container {\n",
       "    max-height: 300px;\n",
       "    overflow: auto;\n",
       "  }\n",
       "  table, th, td {\n",
       "    border: 1px solid black;\n",
       "    border-collapse: collapse;\n",
       "  }\n",
       "  th, td {\n",
       "    padding: 5px;\n",
       "  }\n",
       "  th {\n",
       "    text-align: left;\n",
       "  }\n",
       "</style><div class='table-result-container'><table class='table-result'><thead style='background-color: white'><tr><th>TeamId</th><th>TeamName</th><th>TeamGroup</th><th>Points</th><th>Rankings</th><th>GoalsScored</th><th>GoalsConceded</th><th>GoalDifference</th><th>WinCount</th><th>IsProgress</th></tr></thead><tbody><tr><td>2</td><td>Scotland</td><td>A</td><td>9</td><td>1</td><td>17</td><td>7</td><td>10</td><td>3</td><td>true</td></tr><tr><td>4</td><td>Switzerland</td><td>A</td><td>3</td><td>2</td><td>9</td><td>12</td><td>-3</td><td>1</td><td>true</td></tr><tr><td>3</td><td>Hungary</td><td>A</td><td>3</td><td>3</td><td>8</td><td>11</td><td>-3</td><td>1</td><td>false</td></tr><tr><td>1</td><td>Germany</td><td>A</td><td>3</td><td>4</td><td>12</td><td>16</td><td>-4</td><td>1</td><td>false</td></tr><tr><td>5</td><td>Spain</td><td>B</td><td>7</td><td>1</td><td>12</td><td>7</td><td>5</td><td>2</td><td>true</td></tr><tr><td>6</td><td>Croatia</td><td>B</td><td>7</td><td>2</td><td>14</td><td>10</td><td>4</td><td>2</td><td>true</td></tr><tr><td>8</td><td>Albania</td><td>B</td><td>3</td><td>3</td><td>9</td><td>12</td><td>-3</td><td>1</td><td>false</td></tr><tr><td>7</td><td>Italy</td><td>B</td><td>0</td><td>4</td><td>9</td><td>15</td><td>-6</td><td>0</td><td>false</td></tr><tr><td>10</td><td>Denmark</td><td>C</td><td>6</td><td>1</td><td>9</td><td>8</td><td>1</td><td>2</td><td>true</td></tr><tr><td>11</td><td>Serbia</td><td>C</td><td>4</td><td>2</td><td>10</td><td>7</td><td>3</td><td>1</td><td>true</td></tr><tr><td>12</td><td>England</td><td>C</td><td>4</td><td>3</td><td>7</td><td>10</td><td>-3</td><td>1</td><td>true</td></tr><tr><td>9</td><td>Slovenia</td><td>C</td><td>3</td><td>4</td><td>9</td><td>10</td><td>-1</td><td>1</td><td>false</td></tr><tr><td>16</td><td>France</td><td>D</td><td>7</td><td>1</td><td>13</td><td>6</td><td>7</td><td>2</td><td>true</td></tr><tr><td>14</td><td>Netherlands</td><td>D</td><td>5</td><td>2</td><td>12</td><td>11</td><td>1</td><td>1</td><td>true</td></tr><tr><td>13</td><td>Poland</td><td>D</td><td>4</td><td>3</td><td>9</td><td>10</td><td>-1</td><td>1</td><td>true</td></tr><tr><td>15</td><td>Austria</td><td>D</td><td>0</td><td>4</td><td>8</td><td>15</td><td>-7</td><td>0</td><td>false</td></tr><tr><td>19</td><td>Romania</td><td>E</td><td>7</td><td>1</td><td>16</td><td>11</td><td>5</td><td>2</td><td>true</td></tr><tr><td>17</td><td>Belgium</td><td>E</td><td>6</td><td>2</td><td>12</td><td>11</td><td>1</td><td>2</td><td>true</td></tr><tr><td>20</td><td>Ukraine</td><td>E</td><td>3</td><td>3</td><td>9</td><td>12</td><td>-3</td><td>1</td><td>true</td></tr><tr><td>18</td><td>Slovakia</td><td>E</td><td>1</td><td>4</td><td>12</td><td>15</td><td>-3</td><td>0</td><td>false</td></tr><tr><td>24</td><td>Czech</td><td>F</td><td>9</td><td>1</td><td>17</td><td>8</td><td>9</td><td>3</td><td>true</td></tr><tr><td>22</td><td>Greece</td><td>F</td><td>6</td><td>2</td><td>12</td><td>10</td><td>2</td><td>2</td><td>true</td></tr><tr><td>21</td><td>Türkiye</td><td>F</td><td>3</td><td>3</td><td>11</td><td>12</td><td>-1</td><td>1</td><td>true</td></tr><tr><td>23</td><td>Portugal</td><td>F</td><td>0</td><td>4</td><td>7</td><td>17</td><td>-10</td><td>0</td><td>false</td></tr></tbody></table></div>"
      ]
     },
     "metadata": {
      "application/vnd.databricks.v1+output": {
       "addedWidgets": {},
       "aggData": [],
       "aggError": "",
       "aggOverflow": false,
       "aggSchema": [],
       "aggSeriesLimitReached": false,
       "aggType": "",
       "arguments": {},
       "columnCustomDisplayInfos": {},
       "data": [
        [
         2,
         "Scotland",
         "A",
         9,
         1,
         17,
         7,
         10,
         3,
         true
        ],
        [
         4,
         "Switzerland",
         "A",
         3,
         2,
         9,
         12,
         -3,
         1,
         true
        ],
        [
         3,
         "Hungary",
         "A",
         3,
         3,
         8,
         11,
         -3,
         1,
         false
        ],
        [
         1,
         "Germany",
         "A",
         3,
         4,
         12,
         16,
         -4,
         1,
         false
        ],
        [
         5,
         "Spain",
         "B",
         7,
         1,
         12,
         7,
         5,
         2,
         true
        ],
        [
         6,
         "Croatia",
         "B",
         7,
         2,
         14,
         10,
         4,
         2,
         true
        ],
        [
         8,
         "Albania",
         "B",
         3,
         3,
         9,
         12,
         -3,
         1,
         false
        ],
        [
         7,
         "Italy",
         "B",
         0,
         4,
         9,
         15,
         -6,
         0,
         false
        ],
        [
         10,
         "Denmark",
         "C",
         6,
         1,
         9,
         8,
         1,
         2,
         true
        ],
        [
         11,
         "Serbia",
         "C",
         4,
         2,
         10,
         7,
         3,
         1,
         true
        ],
        [
         12,
         "England",
         "C",
         4,
         3,
         7,
         10,
         -3,
         1,
         true
        ],
        [
         9,
         "Slovenia",
         "C",
         3,
         4,
         9,
         10,
         -1,
         1,
         false
        ],
        [
         16,
         "France",
         "D",
         7,
         1,
         13,
         6,
         7,
         2,
         true
        ],
        [
         14,
         "Netherlands",
         "D",
         5,
         2,
         12,
         11,
         1,
         1,
         true
        ],
        [
         13,
         "Poland",
         "D",
         4,
         3,
         9,
         10,
         -1,
         1,
         true
        ],
        [
         15,
         "Austria",
         "D",
         0,
         4,
         8,
         15,
         -7,
         0,
         false
        ],
        [
         19,
         "Romania",
         "E",
         7,
         1,
         16,
         11,
         5,
         2,
         true
        ],
        [
         17,
         "Belgium",
         "E",
         6,
         2,
         12,
         11,
         1,
         2,
         true
        ],
        [
         20,
         "Ukraine",
         "E",
         3,
         3,
         9,
         12,
         -3,
         1,
         true
        ],
        [
         18,
         "Slovakia",
         "E",
         1,
         4,
         12,
         15,
         -3,
         0,
         false
        ],
        [
         24,
         "Czech",
         "F",
         9,
         1,
         17,
         8,
         9,
         3,
         true
        ],
        [
         22,
         "Greece",
         "F",
         6,
         2,
         12,
         10,
         2,
         2,
         true
        ],
        [
         21,
         "Türkiye",
         "F",
         3,
         3,
         11,
         12,
         -1,
         1,
         true
        ],
        [
         23,
         "Portugal",
         "F",
         0,
         4,
         7,
         17,
         -10,
         0,
         false
        ]
       ],
       "datasetInfos": [],
       "dbfsResultPath": null,
       "isJsonSchema": true,
       "metadata": {},
       "overflow": false,
       "plotOptions": {
        "customPlotOptions": {},
        "displayType": "table",
        "pivotAggregation": null,
        "pivotColumns": null,
        "xColumns": null,
        "yColumns": null
       },
       "removedWidgets": [],
       "schema": [
        {
         "metadata": "{}",
         "name": "TeamId",
         "type": "\"integer\""
        },
        {
         "metadata": "{\"__CHAR_VARCHAR_TYPE_STRING\":\"varchar(255)\"}",
         "name": "TeamName",
         "type": "\"string\""
        },
        {
         "metadata": "{\"__CHAR_VARCHAR_TYPE_STRING\":\"varchar(255)\"}",
         "name": "TeamGroup",
         "type": "\"string\""
        },
        {
         "metadata": "{}",
         "name": "Points",
         "type": "\"integer\""
        },
        {
         "metadata": "{}",
         "name": "Rankings",
         "type": "\"integer\""
        },
        {
         "metadata": "{}",
         "name": "GoalsScored",
         "type": "\"integer\""
        },
        {
         "metadata": "{}",
         "name": "GoalsConceded",
         "type": "\"integer\""
        },
        {
         "metadata": "{}",
         "name": "GoalDifference",
         "type": "\"integer\""
        },
        {
         "metadata": "{}",
         "name": "WinCount",
         "type": "\"integer\""
        },
        {
         "metadata": "{}",
         "name": "IsProgress",
         "type": "\"boolean\""
        }
       ],
       "type": "table"
      }
     },
     "output_type": "display_data"
    }
   ],
   "source": [
    "%sql\n",
    "-- Step 1: Create the \"ranking\" table\n",
    "CREATE TABLE ranking_group (\n",
    "  TeamId INTEGER,\n",
    "  TeamName VARCHAR(255),\n",
    "  TeamGroup VARCHAR(255),\n",
    "  Points INTEGER,\n",
    "  Rankings INTEGER,\n",
    "  GoalsScored INTEGER,\n",
    "  GoalsConceded INTEGER,\n",
    "  GoalDifference INTEGER,\n",
    "  WinCount INTEGER, -- New column for win count\n",
    "  IsProgress BOOLEAN\n",
    ");\n",
    "\n",
    "-- Calculate points, goals scored, goals conceded, goal difference, and win count for each team\n",
    "WITH MatchResults AS (\n",
    "  SELECT \n",
    "    Team1 AS TeamName,\n",
    "    CASE \n",
    "      WHEN Result = CAST(Team1 AS VARCHAR(255)) THEN 1  -- Team1 wins\n",
    "      ELSE 0  -- Team1 does not win\n",
    "    END AS Win, \n",
    "    CASE \n",
    "      WHEN Result = CAST(Team1 AS VARCHAR(255)) THEN 3  -- Team1 wins\n",
    "      WHEN Result = CAST(Team2 AS VARCHAR(255)) THEN 0  -- Team1 loses\n",
    "      ELSE 1  -- Draw\n",
    "    END AS Points,\n",
    "    Team1Score AS GoalsScored, -- Goals scored by Team1\n",
    "    Team2Score AS GoalsConceded -- Goals conceded by Team1\n",
    "  FROM matchesofcountry\n",
    "  UNION ALL\n",
    "  SELECT \n",
    "    Team2 AS TeamName,\n",
    "    CASE \n",
    "      WHEN Result = CAST(Team2 AS VARCHAR(255)) THEN 1  -- Team2 wins\n",
    "      ELSE 0  -- Team2 does not win\n",
    "    END AS Win, \n",
    "    CASE \n",
    "      WHEN Result = CAST(Team2 AS VARCHAR(255)) THEN 3  -- Team2 wins\n",
    "      WHEN Result = CAST(Team1 AS VARCHAR(255)) THEN 0  -- Team2 loses\n",
    "      ELSE 1  -- Draw\n",
    "    END AS Points,\n",
    "    Team2Score AS GoalsScored, -- Goals scored by Team2\n",
    "    Team1Score AS GoalsConceded -- Goals conceded by Team2\n",
    "  FROM matchesofcountry\n",
    ")\n",
    "INSERT INTO ranking_group (TeamId, TeamName, TeamGroup, Points, Rankings, GoalsScored, GoalsConceded, GoalDifference, WinCount, IsProgress)\n",
    "SELECT\n",
    "  t.TeamId,\n",
    "  t.TeamName,\n",
    "  t.TeamGroup,\n",
    "  SUM(M.Points) AS Points,\n",
    "  0 as Rankings,\n",
    "  SUM(M.GoalsScored) AS GoalsScored, -- Total goals scored by the team\n",
    "  SUM(M.GoalsConceded) AS GoalsConceded, -- Total goals conceded by the team\n",
    "  SUM(M.GoalsScored) - SUM(M.GoalsConceded) AS GoalDifference, -- Goal difference for the team\n",
    "  SUM(M.Win) AS WinCount,\n",
    "  0 as IsProgress -- Total number of wins for the team\n",
    "FROM \n",
    "  allteams t\n",
    "LEFT JOIN\n",
    "  MatchResults M ON t.TeamName = M.TeamName\n",
    "GROUP BY\n",
    "  t.TeamId, t.TeamName, t.TeamGroup;\n",
    "\n",
    "-- Rank allteams within each group based on points, goal difference, goals scored, and win count\n",
    "WITH RankedTeams AS (\n",
    "  SELECT \n",
    "    TeamName,\n",
    "    row_number() OVER (PARTITION BY TeamGroup ORDER BY Points DESC, GoalDifference DESC, GoalsScored DESC, WinCount DESC) AS GroupRank\n",
    "  FROM ranking_group\n",
    ")\n",
    "MERGE INTO ranking_group r\n",
    "USING RankedTeams rt\n",
    "ON r.TeamName = rt.TeamName\n",
    "WHEN MATCHED THEN UPDATE SET r.Rankings = rt.GroupRank;\n",
    "\n",
    "\n",
    "--creating a ctc column to calculate the isprogress column and mearsing to the ranking table\n",
    "WITH RankedTeams AS (\n",
    "  SELECT \n",
    "    *,\n",
    "    row_number() OVER (PARTITION BY TeamGroup ORDER BY Points DESC, GoalDifference DESC, GoalsScored DESC, WinCount DESC) AS GroupRank\n",
    "  FROM ranking_group\n",
    "),\n",
    "TopRank3Teams AS (\n",
    "    SELECT \n",
    "    *,\n",
    "    row_number() OVER (ORDER BY Points DESC, GoalDifference DESC, GoalsScored DESC, WinCount DESC) AS RankWithinGroup\n",
    "  FROM ranking_group\n",
    "  WHERE Rankings = 3\n",
    "),\n",
    "IsProgressCalc AS (\n",
    "  SELECT \n",
    "    r.*,\n",
    "    CASE \n",
    "        WHEN r.GroupRank = 4 THEN 0\n",
    "        WHEN r.GroupRank = 3 AND t.RankWithinGroup <= 4 THEN 1\n",
    "        When r.groupRank = 1 or r.grouprank = 2 then 1\n",
    "        else 0\n",
    "    END AS IsProgressCalc \n",
    "  FROM RankedTeams r\n",
    "  LEFT JOIN TopRank3Teams t ON r.TeamName = t.TeamName\n",
    ")\n",
    "\n",
    "MERGE INTO ranking_group r\n",
    "USING IsProgressCalc ipc\n",
    "ON r.TeamId = ipc.TeamId\n",
    "WHEN MATCHED THEN UPDATE SET r.isprogress = ipc.IsProgressCalc;\n",
    "SELECT * FROM ranking_group\n",
    "order by TeamGroup, Rankings;\n"
   ]
  },
  {
   "cell_type": "markdown",
   "metadata": {
    "application/vnd.databricks.v1+cell": {
     "cellMetadata": {
      "byteLimit": 2048000,
      "rowLimit": 10000
     },
     "inputWidgets": {},
     "nuid": "83442ec3-a02c-4ccc-8c82-048e58482cba",
     "showTitle": false,
     "title": ""
    }
   },
   "source": [
    "### Playing Roundof 16 matches\n",
    "- First determine the among 15 combination for possible 4 3rd place teams, which combination was selected. For this use rankings = 3 and is progress = true and concate the selected groups in alphabetic order.\n",
    "- After the selected groups calculate, find the matching row in THIRDPLACECOMBO table as SelectedGrpTbl\n",
    "- Now, matchid upto 36 are group stage matches, and ids from 36 to 44 are for roundof 16 matches since there are 8 matches in round of 16\n",
    "- add the round of 16 matches to the matchesofcountry table on the basics of tie sheet and Third place combination table\n",
    "- add random score form 1-6 to each team for each match\n",
    "- based on the score update the result column for roundof 16"
   ]
  },
  {
   "cell_type": "code",
   "execution_count": 0,
   "metadata": {
    "application/vnd.databricks.v1+cell": {
     "cellMetadata": {
      "byteLimit": 2048000,
      "implicitDf": true,
      "rowLimit": 10000
     },
     "inputWidgets": {},
     "nuid": "22504c5a-be44-4a71-9e41-1ae7ab194587",
     "showTitle": false,
     "title": ""
    }
   },
   "outputs": [
    {
     "output_type": "display_data",
     "data": {
      "text/html": [
       "<style scoped>\n",
       "  .table-result-container {\n",
       "    max-height: 300px;\n",
       "    overflow: auto;\n",
       "  }\n",
       "  table, th, td {\n",
       "    border: 1px solid black;\n",
       "    border-collapse: collapse;\n",
       "  }\n",
       "  th, td {\n",
       "    padding: 5px;\n",
       "  }\n",
       "  th {\n",
       "    text-align: left;\n",
       "  }\n",
       "</style><div class='table-result-container'><table class='table-result'><thead style='background-color: white'><tr><th>MatchId</th><th>Team1</th><th>Team2</th><th>Team1Score</th><th>Team2Score</th><th>Result</th><th>Stage</th></tr></thead><tbody><tr><td>1</td><td>Germany</td><td>Switzerland</td><td>6</td><td>4</td><td>Germany</td><td>group stage</td></tr><tr><td>2</td><td>Germany</td><td>Hungary</td><td>2</td><td>6</td><td>Hungary</td><td>group stage</td></tr><tr><td>3</td><td>Germany</td><td>Scotland</td><td>4</td><td>6</td><td>Scotland</td><td>group stage</td></tr><tr><td>4</td><td>Scotland</td><td>Switzerland</td><td>5</td><td>2</td><td>Scotland</td><td>group stage</td></tr><tr><td>5</td><td>Scotland</td><td>Hungary</td><td>6</td><td>1</td><td>Scotland</td><td>group stage</td></tr><tr><td>6</td><td>Hungary</td><td>Switzerland</td><td>1</td><td>3</td><td>Switzerland</td><td>group stage</td></tr><tr><td>7</td><td>Spain</td><td>Albania</td><td>4</td><td>3</td><td>Spain</td><td>group stage</td></tr><tr><td>8</td><td>Spain</td><td>Italy</td><td>5</td><td>1</td><td>Spain</td><td>group stage</td></tr><tr><td>9</td><td>Spain</td><td>Croatia</td><td>3</td><td>3</td><td>draw</td><td>group stage</td></tr><tr><td>10</td><td>Croatia</td><td>Albania</td><td>5</td><td>2</td><td>Croatia</td><td>group stage</td></tr><tr><td>11</td><td>Croatia</td><td>Italy</td><td>6</td><td>5</td><td>Croatia</td><td>group stage</td></tr><tr><td>12</td><td>Italy</td><td>Albania</td><td>3</td><td>4</td><td>Albania</td><td>group stage</td></tr><tr><td>13</td><td>Slovenia</td><td>England</td><td>6</td><td>1</td><td>Slovenia</td><td>group stage</td></tr><tr><td>14</td><td>Slovenia</td><td>Serbia</td><td>1</td><td>6</td><td>Serbia</td><td>group stage</td></tr><tr><td>15</td><td>Slovenia</td><td>Denmark</td><td>2</td><td>3</td><td>Denmark</td><td>group stage</td></tr><tr><td>16</td><td>Denmark</td><td>England</td><td>2</td><td>4</td><td>England</td><td>group stage</td></tr><tr><td>17</td><td>Denmark</td><td>Serbia</td><td>4</td><td>2</td><td>Denmark</td><td>group stage</td></tr><tr><td>18</td><td>Serbia</td><td>England</td><td>2</td><td>2</td><td>draw</td><td>group stage</td></tr><tr><td>19</td><td>Poland</td><td>France</td><td>2</td><td>5</td><td>France</td><td>group stage</td></tr><tr><td>20</td><td>Poland</td><td>Austria</td><td>4</td><td>2</td><td>Poland</td><td>group stage</td></tr><tr><td>21</td><td>Poland</td><td>Netherlands</td><td>3</td><td>3</td><td>draw</td><td>group stage</td></tr><tr><td>22</td><td>Netherlands</td><td>France</td><td>3</td><td>3</td><td>draw</td><td>group stage</td></tr><tr><td>23</td><td>Netherlands</td><td>Austria</td><td>6</td><td>5</td><td>Netherlands</td><td>group stage</td></tr><tr><td>24</td><td>Austria</td><td>France</td><td>1</td><td>5</td><td>France</td><td>group stage</td></tr><tr><td>25</td><td>Belgium</td><td>Ukraine</td><td>5</td><td>2</td><td>Belgium</td><td>group stage</td></tr><tr><td>26</td><td>Belgium</td><td>Romania</td><td>1</td><td>5</td><td>Romania</td><td>group stage</td></tr><tr><td>27</td><td>Belgium</td><td>Slovakia</td><td>6</td><td>4</td><td>Belgium</td><td>group stage</td></tr><tr><td>28</td><td>Slovakia</td><td>Ukraine</td><td>2</td><td>3</td><td>Ukraine</td><td>group stage</td></tr><tr><td>29</td><td>Slovakia</td><td>Romania</td><td>6</td><td>6</td><td>draw</td><td>group stage</td></tr><tr><td>30</td><td>Romania</td><td>Ukraine</td><td>5</td><td>4</td><td>Romania</td><td>group stage</td></tr><tr><td>31</td><td>Türkiye</td><td>Czech</td><td>3</td><td>6</td><td>Czech</td><td>group stage</td></tr><tr><td>32</td><td>Türkiye</td><td>Portugal</td><td>6</td><td>1</td><td>Türkiye</td><td>group stage</td></tr><tr><td>33</td><td>Türkiye</td><td>Greece</td><td>2</td><td>5</td><td>Greece</td><td>group stage</td></tr><tr><td>34</td><td>Greece</td><td>Czech</td><td>1</td><td>6</td><td>Czech</td><td>group stage</td></tr><tr><td>35</td><td>Greece</td><td>Portugal</td><td>6</td><td>2</td><td>Greece</td><td>group stage</td></tr><tr><td>36</td><td>Portugal</td><td>Czech</td><td>4</td><td>5</td><td>Czech</td><td>group stage</td></tr><tr><td>37</td><td>Spain</td><td>Türkiye</td><td>4</td><td>3</td><td>Spain</td><td>Roundof 16</td></tr><tr><td>38</td><td>Scotland</td><td>Serbia</td><td>6</td><td>6</td><td>Scotland</td><td>Roundof 16</td></tr><tr><td>39</td><td>Czech</td><td>England</td><td>6</td><td>5</td><td>Czech</td><td>Roundof 16</td></tr><tr><td>40</td><td>Netherlands</td><td>Belgium</td><td>4</td><td>6</td><td>Belgium</td><td>Roundof 16</td></tr><tr><td>41</td><td>Romania</td><td>Poland</td><td>6</td><td>3</td><td>Romania</td><td>Roundof 16</td></tr><tr><td>42</td><td>France</td><td>Greece</td><td>5</td><td>4</td><td>France</td><td>Roundof 16</td></tr><tr><td>43</td><td>Denmark</td><td>Ukraine</td><td>4</td><td>3</td><td>Denmark</td><td>Roundof 16</td></tr><tr><td>44</td><td>Switzerland</td><td>Croatia</td><td>3</td><td>6</td><td>Croatia</td><td>Roundof 16</td></tr></tbody></table></div>"
      ]
     },
     "metadata": {
      "application/vnd.databricks.v1+output": {
       "addedWidgets": {},
       "aggData": [],
       "aggError": "",
       "aggOverflow": false,
       "aggSchema": [],
       "aggSeriesLimitReached": false,
       "aggType": "",
       "arguments": {},
       "columnCustomDisplayInfos": {},
       "data": [
        [
         1,
         "Germany",
         "Switzerland",
         6,
         4,
         "Germany",
         "group stage"
        ],
        [
         2,
         "Germany",
         "Hungary",
         2,
         6,
         "Hungary",
         "group stage"
        ],
        [
         3,
         "Germany",
         "Scotland",
         4,
         6,
         "Scotland",
         "group stage"
        ],
        [
         4,
         "Scotland",
         "Switzerland",
         5,
         2,
         "Scotland",
         "group stage"
        ],
        [
         5,
         "Scotland",
         "Hungary",
         6,
         1,
         "Scotland",
         "group stage"
        ],
        [
         6,
         "Hungary",
         "Switzerland",
         1,
         3,
         "Switzerland",
         "group stage"
        ],
        [
         7,
         "Spain",
         "Albania",
         4,
         3,
         "Spain",
         "group stage"
        ],
        [
         8,
         "Spain",
         "Italy",
         5,
         1,
         "Spain",
         "group stage"
        ],
        [
         9,
         "Spain",
         "Croatia",
         3,
         3,
         "draw",
         "group stage"
        ],
        [
         10,
         "Croatia",
         "Albania",
         5,
         2,
         "Croatia",
         "group stage"
        ],
        [
         11,
         "Croatia",
         "Italy",
         6,
         5,
         "Croatia",
         "group stage"
        ],
        [
         12,
         "Italy",
         "Albania",
         3,
         4,
         "Albania",
         "group stage"
        ],
        [
         13,
         "Slovenia",
         "England",
         6,
         1,
         "Slovenia",
         "group stage"
        ],
        [
         14,
         "Slovenia",
         "Serbia",
         1,
         6,
         "Serbia",
         "group stage"
        ],
        [
         15,
         "Slovenia",
         "Denmark",
         2,
         3,
         "Denmark",
         "group stage"
        ],
        [
         16,
         "Denmark",
         "England",
         2,
         4,
         "England",
         "group stage"
        ],
        [
         17,
         "Denmark",
         "Serbia",
         4,
         2,
         "Denmark",
         "group stage"
        ],
        [
         18,
         "Serbia",
         "England",
         2,
         2,
         "draw",
         "group stage"
        ],
        [
         19,
         "Poland",
         "France",
         2,
         5,
         "France",
         "group stage"
        ],
        [
         20,
         "Poland",
         "Austria",
         4,
         2,
         "Poland",
         "group stage"
        ],
        [
         21,
         "Poland",
         "Netherlands",
         3,
         3,
         "draw",
         "group stage"
        ],
        [
         22,
         "Netherlands",
         "France",
         3,
         3,
         "draw",
         "group stage"
        ],
        [
         23,
         "Netherlands",
         "Austria",
         6,
         5,
         "Netherlands",
         "group stage"
        ],
        [
         24,
         "Austria",
         "France",
         1,
         5,
         "France",
         "group stage"
        ],
        [
         25,
         "Belgium",
         "Ukraine",
         5,
         2,
         "Belgium",
         "group stage"
        ],
        [
         26,
         "Belgium",
         "Romania",
         1,
         5,
         "Romania",
         "group stage"
        ],
        [
         27,
         "Belgium",
         "Slovakia",
         6,
         4,
         "Belgium",
         "group stage"
        ],
        [
         28,
         "Slovakia",
         "Ukraine",
         2,
         3,
         "Ukraine",
         "group stage"
        ],
        [
         29,
         "Slovakia",
         "Romania",
         6,
         6,
         "draw",
         "group stage"
        ],
        [
         30,
         "Romania",
         "Ukraine",
         5,
         4,
         "Romania",
         "group stage"
        ],
        [
         31,
         "Türkiye",
         "Czech",
         3,
         6,
         "Czech",
         "group stage"
        ],
        [
         32,
         "Türkiye",
         "Portugal",
         6,
         1,
         "Türkiye",
         "group stage"
        ],
        [
         33,
         "Türkiye",
         "Greece",
         2,
         5,
         "Greece",
         "group stage"
        ],
        [
         34,
         "Greece",
         "Czech",
         1,
         6,
         "Czech",
         "group stage"
        ],
        [
         35,
         "Greece",
         "Portugal",
         6,
         2,
         "Greece",
         "group stage"
        ],
        [
         36,
         "Portugal",
         "Czech",
         4,
         5,
         "Czech",
         "group stage"
        ],
        [
         37,
         "Spain",
         "Türkiye",
         4,
         3,
         "Spain",
         "Roundof 16"
        ],
        [
         38,
         "Scotland",
         "Serbia",
         6,
         6,
         "Scotland",
         "Roundof 16"
        ],
        [
         39,
         "Czech",
         "England",
         6,
         5,
         "Czech",
         "Roundof 16"
        ],
        [
         40,
         "Netherlands",
         "Belgium",
         4,
         6,
         "Belgium",
         "Roundof 16"
        ],
        [
         41,
         "Romania",
         "Poland",
         6,
         3,
         "Romania",
         "Roundof 16"
        ],
        [
         42,
         "France",
         "Greece",
         5,
         4,
         "France",
         "Roundof 16"
        ],
        [
         43,
         "Denmark",
         "Ukraine",
         4,
         3,
         "Denmark",
         "Roundof 16"
        ],
        [
         44,
         "Switzerland",
         "Croatia",
         3,
         6,
         "Croatia",
         "Roundof 16"
        ]
       ],
       "datasetInfos": [],
       "dbfsResultPath": null,
       "isJsonSchema": true,
       "metadata": {},
       "overflow": false,
       "plotOptions": {
        "customPlotOptions": {},
        "displayType": "table",
        "pivotAggregation": null,
        "pivotColumns": null,
        "xColumns": null,
        "yColumns": null
       },
       "removedWidgets": [],
       "schema": [
        {
         "metadata": "{}",
         "name": "MatchId",
         "type": "\"integer\""
        },
        {
         "metadata": "{\"__CHAR_VARCHAR_TYPE_STRING\":\"varchar(255)\"}",
         "name": "Team1",
         "type": "\"string\""
        },
        {
         "metadata": "{\"__CHAR_VARCHAR_TYPE_STRING\":\"varchar(255)\"}",
         "name": "Team2",
         "type": "\"string\""
        },
        {
         "metadata": "{}",
         "name": "Team1Score",
         "type": "\"integer\""
        },
        {
         "metadata": "{}",
         "name": "Team2Score",
         "type": "\"integer\""
        },
        {
         "metadata": "{\"__CHAR_VARCHAR_TYPE_STRING\":\"varchar(255)\"}",
         "name": "Result",
         "type": "\"string\""
        },
        {
         "metadata": "{\"__CHAR_VARCHAR_TYPE_STRING\":\"varchar(255)\"}",
         "name": "Stage",
         "type": "\"string\""
        }
       ],
       "type": "table"
      }
     },
     "output_type": "display_data"
    }
   ],
   "source": [
    "%sql\n",
    "\n",
    "With SelectedGroup AS\n",
    "(\n",
    "SELECT \n",
    "    CONCAT_WS('', SORT_ARRAY(COLLECT_SET(SUBSTRING(TeamGroup, 1, 1)))) AS Result\n",
    "FROM ranking_group\n",
    "WHERE Rankings = 3 AND IsProgress = TRUE\n",
    "),\n",
    "\n",
    "SelectedGrpTbl AS\n",
    "(\n",
    "SELECT * \n",
    "FROM thirdplacecombo\n",
    "WHERE thirdplacecombo.SELECTEDGROUPS = (SELECT Result FROM SelectedGroup)\n",
    ")\n",
    "INSERT INTO matchesofcountry (MatchId, team1, team2, team1score, team2score, Result, stage)\n",
    "SELECT \n",
    "    37 AS MatchId, \n",
    "    (SELECT TeamName FROM ranking_group WHERE Rankings = 1 AND TeamGroup = 'B') AS team1, \n",
    "    (SELECT TeamName FROM ranking_group WHERE Rankings = 3 AND TeamGroup = (select Team1B from SelectedGrpTbl)) AS team2,\n",
    "    (SELECT FLOOR(RAND() * 6) + 1) AS Team1Score,\n",
    "    (SELECT FLOOR(RAND() * 6) + 1) AS Team2Score,\n",
    "    'draw' as Result,\n",
    "    'Roundof 16' as stage\n",
    "union All\n",
    "SELECT \n",
    "    38 AS MatchId, \n",
    "    (SELECT TeamName FROM ranking_group WHERE Rankings = 1 AND TeamGroup = 'A') AS team1, \n",
    "    (SELECT TeamName FROM ranking_group WHERE Rankings = 2 AND TeamGroup = 'C') AS team2,\n",
    "    (SELECT FLOOR(RAND() * 6) + 1) AS Team1Score,\n",
    "    (SELECT FLOOR(RAND() * 6) + 1) AS Team2Score,\n",
    "    'draw' as Result,\n",
    "    'Roundof 16' as stage\n",
    "UNION ALL\n",
    "SELECT \n",
    "    39 AS MatchId, \n",
    "    (SELECT TeamName FROM ranking_group WHERE Rankings = 1 AND TeamGroup = 'F') AS team1, \n",
    "    (SELECT TeamName FROM ranking_group WHERE Rankings = 3 AND TeamGroup = (select Team1F from SelectedGrpTbl)) AS team2,\n",
    "    (SELECT FLOOR(RAND() * 6) + 1) AS Team1Score,\n",
    "    (SELECT FLOOR(RAND() * 6) + 1) AS Team2Score,\n",
    "    'draw' as Result,\n",
    "    'Roundof 16' as stage\n",
    "union All\n",
    "SELECT \n",
    "    40 AS MatchId, \n",
    "    (SELECT TeamName FROM ranking_group WHERE Rankings = 2 AND TeamGroup = 'D') AS team1, \n",
    "    (SELECT TeamName FROM ranking_group WHERE Rankings = 2 AND TeamGroup = 'E') AS team2,\n",
    "    (SELECT FLOOR(RAND() * 6) + 1) AS Team1Score,\n",
    "    (SELECT FLOOR(RAND() * 6) + 1) AS Team2Score,\n",
    "    'draw' as Result,\n",
    "    'Roundof 16' as stage\n",
    "UNION ALL\n",
    "SELECT \n",
    "    41 AS MatchId, \n",
    "    (SELECT TeamName FROM ranking_group WHERE Rankings = 1 AND TeamGroup = 'E') AS team1, \n",
    "    (SELECT TeamName FROM ranking_group WHERE Rankings = 3 AND TeamGroup = (select Team1E from SelectedGrpTbl)) AS team2,\n",
    "    (SELECT FLOOR(RAND() * 6) + 1) AS Team1Score,\n",
    "    (SELECT FLOOR(RAND() * 6) + 1) AS Team2Score,\n",
    "    'draw' as Result,\n",
    "    'Roundof 16' as stage\n",
    "union All\n",
    "SELECT \n",
    "    42 AS MatchId, \n",
    "    (SELECT TeamName FROM ranking_group WHERE Rankings = 1 AND TeamGroup = 'D') AS team1, \n",
    "    (SELECT TeamName FROM ranking_group WHERE Rankings = 2 AND TeamGroup = 'F') AS team2,\n",
    "    (SELECT FLOOR(RAND() * 6) + 1) AS Team1Score,\n",
    "    (SELECT FLOOR(RAND() * 6) + 1) AS Team2Score,\n",
    "    'draw' as Result,\n",
    "    'Roundof 16' as stage\n",
    "UNION ALL\n",
    "SELECT \n",
    "    43 AS MatchId, \n",
    "    (SELECT TeamName FROM ranking_group WHERE Rankings = 1 AND TeamGroup = 'C') AS team1, \n",
    "    (SELECT TeamName FROM ranking_group WHERE Rankings = 3 AND TeamGroup = (select Team1C from SelectedGrpTbl)) AS team2,\n",
    "    (SELECT FLOOR(RAND() * 6) + 1) AS Team1Score,\n",
    "    (SELECT FLOOR(RAND() * 6) + 1) AS Team2Score,\n",
    "    'draw' as Result,\n",
    "    'Roundof 16' as stage\n",
    "union All\n",
    "SELECT \n",
    "    44 AS MatchId, \n",
    "    (SELECT TeamName FROM ranking_group WHERE Rankings = 2 AND TeamGroup = 'A') AS team1, \n",
    "    (SELECT TeamName FROM ranking_group WHERE Rankings = 2 AND TeamGroup = 'B') AS team2,\n",
    "    (SELECT FLOOR(RAND() * 6) + 1) AS Team1Score,\n",
    "    (SELECT FLOOR(RAND() * 6) + 1) AS Team2Score,\n",
    "    'draw' as Result,\n",
    "    'Roundof 16' as stage;\n",
    "--updationg the Result column\n",
    "UPDATE matchesofcountry\n",
    "SET Result = \n",
    "    CASE \n",
    "        WHEN team1score > team2score THEN team1\n",
    "        WHEN team1score < team2score THEN team2\n",
    "        ELSE \n",
    "            CASE \n",
    "                WHEN (team1score + 1) % 2 = 1 THEN team1\n",
    "                ELSE team2\n",
    "            END\n",
    "    END\n",
    "where stage = 'Roundof 16';\n",
    "SELECT * FROM matchesofcountry\n",
    "order by MatchId;"
   ]
  },
  {
   "cell_type": "markdown",
   "metadata": {
    "application/vnd.databricks.v1+cell": {
     "cellMetadata": {
      "byteLimit": 2048000,
      "rowLimit": 10000
     },
     "inputWidgets": {},
     "nuid": "bb3c2947-132c-4805-b868-0c0d57f35148",
     "showTitle": false,
     "title": ""
    }
   },
   "source": [
    "### Quater Final Matches\n",
    "- There are 4 matches for quater final i.e matchId from 45 to 48\n",
    "- On the basics of result of roundof 16 matches matchups the quater final and update the result table on the basics of score"
   ]
  },
  {
   "cell_type": "code",
   "execution_count": 0,
   "metadata": {
    "application/vnd.databricks.v1+cell": {
     "cellMetadata": {
      "byteLimit": 2048000,
      "implicitDf": true,
      "rowLimit": 10000
     },
     "inputWidgets": {},
     "nuid": "aa3c8146-88dc-40f5-9e22-ad42e5dcbc33",
     "showTitle": false,
     "title": ""
    }
   },
   "outputs": [
    {
     "output_type": "display_data",
     "data": {
      "text/html": [
       "<style scoped>\n",
       "  .table-result-container {\n",
       "    max-height: 300px;\n",
       "    overflow: auto;\n",
       "  }\n",
       "  table, th, td {\n",
       "    border: 1px solid black;\n",
       "    border-collapse: collapse;\n",
       "  }\n",
       "  th, td {\n",
       "    padding: 5px;\n",
       "  }\n",
       "  th {\n",
       "    text-align: left;\n",
       "  }\n",
       "</style><div class='table-result-container'><table class='table-result'><thead style='background-color: white'><tr><th>MatchId</th><th>Team1</th><th>Team2</th><th>Team1Score</th><th>Team2Score</th><th>Result</th><th>Stage</th></tr></thead><tbody><tr><td>1</td><td>Germany</td><td>Switzerland</td><td>6</td><td>4</td><td>Germany</td><td>group stage</td></tr><tr><td>2</td><td>Germany</td><td>Hungary</td><td>2</td><td>6</td><td>Hungary</td><td>group stage</td></tr><tr><td>3</td><td>Germany</td><td>Scotland</td><td>4</td><td>6</td><td>Scotland</td><td>group stage</td></tr><tr><td>4</td><td>Scotland</td><td>Switzerland</td><td>5</td><td>2</td><td>Scotland</td><td>group stage</td></tr><tr><td>5</td><td>Scotland</td><td>Hungary</td><td>6</td><td>1</td><td>Scotland</td><td>group stage</td></tr><tr><td>6</td><td>Hungary</td><td>Switzerland</td><td>1</td><td>3</td><td>Switzerland</td><td>group stage</td></tr><tr><td>7</td><td>Spain</td><td>Albania</td><td>4</td><td>3</td><td>Spain</td><td>group stage</td></tr><tr><td>8</td><td>Spain</td><td>Italy</td><td>5</td><td>1</td><td>Spain</td><td>group stage</td></tr><tr><td>9</td><td>Spain</td><td>Croatia</td><td>3</td><td>3</td><td>draw</td><td>group stage</td></tr><tr><td>10</td><td>Croatia</td><td>Albania</td><td>5</td><td>2</td><td>Croatia</td><td>group stage</td></tr><tr><td>11</td><td>Croatia</td><td>Italy</td><td>6</td><td>5</td><td>Croatia</td><td>group stage</td></tr><tr><td>12</td><td>Italy</td><td>Albania</td><td>3</td><td>4</td><td>Albania</td><td>group stage</td></tr><tr><td>13</td><td>Slovenia</td><td>England</td><td>6</td><td>1</td><td>Slovenia</td><td>group stage</td></tr><tr><td>14</td><td>Slovenia</td><td>Serbia</td><td>1</td><td>6</td><td>Serbia</td><td>group stage</td></tr><tr><td>15</td><td>Slovenia</td><td>Denmark</td><td>2</td><td>3</td><td>Denmark</td><td>group stage</td></tr><tr><td>16</td><td>Denmark</td><td>England</td><td>2</td><td>4</td><td>England</td><td>group stage</td></tr><tr><td>17</td><td>Denmark</td><td>Serbia</td><td>4</td><td>2</td><td>Denmark</td><td>group stage</td></tr><tr><td>18</td><td>Serbia</td><td>England</td><td>2</td><td>2</td><td>draw</td><td>group stage</td></tr><tr><td>19</td><td>Poland</td><td>France</td><td>2</td><td>5</td><td>France</td><td>group stage</td></tr><tr><td>20</td><td>Poland</td><td>Austria</td><td>4</td><td>2</td><td>Poland</td><td>group stage</td></tr><tr><td>21</td><td>Poland</td><td>Netherlands</td><td>3</td><td>3</td><td>draw</td><td>group stage</td></tr><tr><td>22</td><td>Netherlands</td><td>France</td><td>3</td><td>3</td><td>draw</td><td>group stage</td></tr><tr><td>23</td><td>Netherlands</td><td>Austria</td><td>6</td><td>5</td><td>Netherlands</td><td>group stage</td></tr><tr><td>24</td><td>Austria</td><td>France</td><td>1</td><td>5</td><td>France</td><td>group stage</td></tr><tr><td>25</td><td>Belgium</td><td>Ukraine</td><td>5</td><td>2</td><td>Belgium</td><td>group stage</td></tr><tr><td>26</td><td>Belgium</td><td>Romania</td><td>1</td><td>5</td><td>Romania</td><td>group stage</td></tr><tr><td>27</td><td>Belgium</td><td>Slovakia</td><td>6</td><td>4</td><td>Belgium</td><td>group stage</td></tr><tr><td>28</td><td>Slovakia</td><td>Ukraine</td><td>2</td><td>3</td><td>Ukraine</td><td>group stage</td></tr><tr><td>29</td><td>Slovakia</td><td>Romania</td><td>6</td><td>6</td><td>draw</td><td>group stage</td></tr><tr><td>30</td><td>Romania</td><td>Ukraine</td><td>5</td><td>4</td><td>Romania</td><td>group stage</td></tr><tr><td>31</td><td>Türkiye</td><td>Czech</td><td>3</td><td>6</td><td>Czech</td><td>group stage</td></tr><tr><td>32</td><td>Türkiye</td><td>Portugal</td><td>6</td><td>1</td><td>Türkiye</td><td>group stage</td></tr><tr><td>33</td><td>Türkiye</td><td>Greece</td><td>2</td><td>5</td><td>Greece</td><td>group stage</td></tr><tr><td>34</td><td>Greece</td><td>Czech</td><td>1</td><td>6</td><td>Czech</td><td>group stage</td></tr><tr><td>35</td><td>Greece</td><td>Portugal</td><td>6</td><td>2</td><td>Greece</td><td>group stage</td></tr><tr><td>36</td><td>Portugal</td><td>Czech</td><td>4</td><td>5</td><td>Czech</td><td>group stage</td></tr><tr><td>37</td><td>Spain</td><td>Türkiye</td><td>4</td><td>3</td><td>Spain</td><td>Roundof 16</td></tr><tr><td>38</td><td>Scotland</td><td>Serbia</td><td>6</td><td>6</td><td>Scotland</td><td>Roundof 16</td></tr><tr><td>39</td><td>Czech</td><td>England</td><td>6</td><td>5</td><td>Czech</td><td>Roundof 16</td></tr><tr><td>40</td><td>Netherlands</td><td>Belgium</td><td>4</td><td>6</td><td>Belgium</td><td>Roundof 16</td></tr><tr><td>41</td><td>Romania</td><td>Poland</td><td>6</td><td>3</td><td>Romania</td><td>Roundof 16</td></tr><tr><td>42</td><td>France</td><td>Greece</td><td>5</td><td>4</td><td>France</td><td>Roundof 16</td></tr><tr><td>43</td><td>Denmark</td><td>Ukraine</td><td>4</td><td>3</td><td>Denmark</td><td>Roundof 16</td></tr><tr><td>44</td><td>Switzerland</td><td>Croatia</td><td>3</td><td>6</td><td>Croatia</td><td>Roundof 16</td></tr><tr><td>45</td><td>Spain</td><td>Scotland</td><td>3</td><td>1</td><td>Spain</td><td>Quater Final</td></tr><tr><td>46</td><td>Czech</td><td>Belgium</td><td>2</td><td>5</td><td>Belgium</td><td>Quater Final</td></tr><tr><td>47</td><td>Romania</td><td>France</td><td>4</td><td>1</td><td>Romania</td><td>Quater Final</td></tr><tr><td>48</td><td>Denmark</td><td>Croatia</td><td>5</td><td>5</td><td>Croatia</td><td>Quater Final</td></tr></tbody></table></div>"
      ]
     },
     "metadata": {
      "application/vnd.databricks.v1+output": {
       "addedWidgets": {},
       "aggData": [],
       "aggError": "",
       "aggOverflow": false,
       "aggSchema": [],
       "aggSeriesLimitReached": false,
       "aggType": "",
       "arguments": {},
       "columnCustomDisplayInfos": {},
       "data": [
        [
         1,
         "Germany",
         "Switzerland",
         6,
         4,
         "Germany",
         "group stage"
        ],
        [
         2,
         "Germany",
         "Hungary",
         2,
         6,
         "Hungary",
         "group stage"
        ],
        [
         3,
         "Germany",
         "Scotland",
         4,
         6,
         "Scotland",
         "group stage"
        ],
        [
         4,
         "Scotland",
         "Switzerland",
         5,
         2,
         "Scotland",
         "group stage"
        ],
        [
         5,
         "Scotland",
         "Hungary",
         6,
         1,
         "Scotland",
         "group stage"
        ],
        [
         6,
         "Hungary",
         "Switzerland",
         1,
         3,
         "Switzerland",
         "group stage"
        ],
        [
         7,
         "Spain",
         "Albania",
         4,
         3,
         "Spain",
         "group stage"
        ],
        [
         8,
         "Spain",
         "Italy",
         5,
         1,
         "Spain",
         "group stage"
        ],
        [
         9,
         "Spain",
         "Croatia",
         3,
         3,
         "draw",
         "group stage"
        ],
        [
         10,
         "Croatia",
         "Albania",
         5,
         2,
         "Croatia",
         "group stage"
        ],
        [
         11,
         "Croatia",
         "Italy",
         6,
         5,
         "Croatia",
         "group stage"
        ],
        [
         12,
         "Italy",
         "Albania",
         3,
         4,
         "Albania",
         "group stage"
        ],
        [
         13,
         "Slovenia",
         "England",
         6,
         1,
         "Slovenia",
         "group stage"
        ],
        [
         14,
         "Slovenia",
         "Serbia",
         1,
         6,
         "Serbia",
         "group stage"
        ],
        [
         15,
         "Slovenia",
         "Denmark",
         2,
         3,
         "Denmark",
         "group stage"
        ],
        [
         16,
         "Denmark",
         "England",
         2,
         4,
         "England",
         "group stage"
        ],
        [
         17,
         "Denmark",
         "Serbia",
         4,
         2,
         "Denmark",
         "group stage"
        ],
        [
         18,
         "Serbia",
         "England",
         2,
         2,
         "draw",
         "group stage"
        ],
        [
         19,
         "Poland",
         "France",
         2,
         5,
         "France",
         "group stage"
        ],
        [
         20,
         "Poland",
         "Austria",
         4,
         2,
         "Poland",
         "group stage"
        ],
        [
         21,
         "Poland",
         "Netherlands",
         3,
         3,
         "draw",
         "group stage"
        ],
        [
         22,
         "Netherlands",
         "France",
         3,
         3,
         "draw",
         "group stage"
        ],
        [
         23,
         "Netherlands",
         "Austria",
         6,
         5,
         "Netherlands",
         "group stage"
        ],
        [
         24,
         "Austria",
         "France",
         1,
         5,
         "France",
         "group stage"
        ],
        [
         25,
         "Belgium",
         "Ukraine",
         5,
         2,
         "Belgium",
         "group stage"
        ],
        [
         26,
         "Belgium",
         "Romania",
         1,
         5,
         "Romania",
         "group stage"
        ],
        [
         27,
         "Belgium",
         "Slovakia",
         6,
         4,
         "Belgium",
         "group stage"
        ],
        [
         28,
         "Slovakia",
         "Ukraine",
         2,
         3,
         "Ukraine",
         "group stage"
        ],
        [
         29,
         "Slovakia",
         "Romania",
         6,
         6,
         "draw",
         "group stage"
        ],
        [
         30,
         "Romania",
         "Ukraine",
         5,
         4,
         "Romania",
         "group stage"
        ],
        [
         31,
         "Türkiye",
         "Czech",
         3,
         6,
         "Czech",
         "group stage"
        ],
        [
         32,
         "Türkiye",
         "Portugal",
         6,
         1,
         "Türkiye",
         "group stage"
        ],
        [
         33,
         "Türkiye",
         "Greece",
         2,
         5,
         "Greece",
         "group stage"
        ],
        [
         34,
         "Greece",
         "Czech",
         1,
         6,
         "Czech",
         "group stage"
        ],
        [
         35,
         "Greece",
         "Portugal",
         6,
         2,
         "Greece",
         "group stage"
        ],
        [
         36,
         "Portugal",
         "Czech",
         4,
         5,
         "Czech",
         "group stage"
        ],
        [
         37,
         "Spain",
         "Türkiye",
         4,
         3,
         "Spain",
         "Roundof 16"
        ],
        [
         38,
         "Scotland",
         "Serbia",
         6,
         6,
         "Scotland",
         "Roundof 16"
        ],
        [
         39,
         "Czech",
         "England",
         6,
         5,
         "Czech",
         "Roundof 16"
        ],
        [
         40,
         "Netherlands",
         "Belgium",
         4,
         6,
         "Belgium",
         "Roundof 16"
        ],
        [
         41,
         "Romania",
         "Poland",
         6,
         3,
         "Romania",
         "Roundof 16"
        ],
        [
         42,
         "France",
         "Greece",
         5,
         4,
         "France",
         "Roundof 16"
        ],
        [
         43,
         "Denmark",
         "Ukraine",
         4,
         3,
         "Denmark",
         "Roundof 16"
        ],
        [
         44,
         "Switzerland",
         "Croatia",
         3,
         6,
         "Croatia",
         "Roundof 16"
        ],
        [
         45,
         "Spain",
         "Scotland",
         3,
         1,
         "Spain",
         "Quater Final"
        ],
        [
         46,
         "Czech",
         "Belgium",
         2,
         5,
         "Belgium",
         "Quater Final"
        ],
        [
         47,
         "Romania",
         "France",
         4,
         1,
         "Romania",
         "Quater Final"
        ],
        [
         48,
         "Denmark",
         "Croatia",
         5,
         5,
         "Croatia",
         "Quater Final"
        ]
       ],
       "datasetInfos": [],
       "dbfsResultPath": null,
       "isJsonSchema": true,
       "metadata": {},
       "overflow": false,
       "plotOptions": {
        "customPlotOptions": {},
        "displayType": "table",
        "pivotAggregation": null,
        "pivotColumns": null,
        "xColumns": null,
        "yColumns": null
       },
       "removedWidgets": [],
       "schema": [
        {
         "metadata": "{}",
         "name": "MatchId",
         "type": "\"integer\""
        },
        {
         "metadata": "{\"__CHAR_VARCHAR_TYPE_STRING\":\"varchar(255)\"}",
         "name": "Team1",
         "type": "\"string\""
        },
        {
         "metadata": "{\"__CHAR_VARCHAR_TYPE_STRING\":\"varchar(255)\"}",
         "name": "Team2",
         "type": "\"string\""
        },
        {
         "metadata": "{}",
         "name": "Team1Score",
         "type": "\"integer\""
        },
        {
         "metadata": "{}",
         "name": "Team2Score",
         "type": "\"integer\""
        },
        {
         "metadata": "{\"__CHAR_VARCHAR_TYPE_STRING\":\"varchar(255)\"}",
         "name": "Result",
         "type": "\"string\""
        },
        {
         "metadata": "{\"__CHAR_VARCHAR_TYPE_STRING\":\"varchar(255)\"}",
         "name": "Stage",
         "type": "\"string\""
        }
       ],
       "type": "table"
      }
     },
     "output_type": "display_data"
    }
   ],
   "source": [
    "%sql\n",
    "INSERT INTO matchesofcountry (MatchId, team1, team2, team1score, team2score, Result, stage)\n",
    "SELECT \n",
    "    45 AS MatchId, \n",
    "    (SELECT Result FROM matchesofcountry WHERE MatchId = 37) AS team1, \n",
    "    (SELECT Result FROM matchesofcountry WHERE MatchId = 38) AS team2,\n",
    "    (SELECT FLOOR(RAND() * 6) + 1) AS Team1Score,\n",
    "    (SELECT FLOOR(RAND() * 6) + 1) AS Team2Score,\n",
    "    'draw' as Result,\n",
    "    'Quater Final' as stage\n",
    "UNION ALL\n",
    "SELECT \n",
    "    46 AS MatchId, \n",
    "    (SELECT Result FROM matchesofcountry WHERE MatchId = 39) AS team1, \n",
    "    (SELECT Result FROM matchesofcountry WHERE MatchId = 40) AS team2,\n",
    "    (SELECT FLOOR(RAND() * 6) + 1) AS Team1Score,\n",
    "    (SELECT FLOOR(RAND() * 6) + 1) AS Team2Score,\n",
    "    'draw' as Result,\n",
    "    'Quater Final' as stage\n",
    "UNION ALL\n",
    "SELECT \n",
    "    47 AS MatchId, \n",
    "    (SELECT Result FROM matchesofcountry WHERE MatchId = 41) AS team1, \n",
    "    (SELECT Result FROM matchesofcountry WHERE MatchId = 42) AS team2,\n",
    "    (SELECT FLOOR(RAND() * 6) + 1) AS Team1Score,\n",
    "    (SELECT FLOOR(RAND() * 6) + 1) AS Team2Score,\n",
    "    'draw' as Result,\n",
    "    'Quater Final' as stage\n",
    "UNION ALL\n",
    "SELECT \n",
    "    48 AS MatchId, \n",
    "    (SELECT Result FROM matchesofcountry WHERE MatchId = 43) AS team1, \n",
    "    (SELECT Result FROM matchesofcountry WHERE MatchId = 44) AS team2,\n",
    "    (SELECT FLOOR(RAND() * 6) + 1) AS Team1Score,\n",
    "    (SELECT FLOOR(RAND() * 6) + 1) AS Team2Score,\n",
    "    'draw' as Result,\n",
    "    'Quater Final' as stage;\n",
    "\n",
    "UPDATE matchesofcountry\n",
    "SET Result = \n",
    "    CASE \n",
    "        WHEN team1score > team2score THEN team1\n",
    "        WHEN team1score < team2score THEN team2\n",
    "        ELSE \n",
    "            CASE \n",
    "                WHEN (team1score + 1) % 2 = 1 THEN team1\n",
    "                ELSE team2\n",
    "            END\n",
    "    END\n",
    "where stage = 'Quater Final';\n",
    "\n",
    "select * from matchesofcountry\n",
    "order by MatchId"
   ]
  },
  {
   "cell_type": "markdown",
   "metadata": {
    "application/vnd.databricks.v1+cell": {
     "cellMetadata": {
      "byteLimit": 2048000,
      "rowLimit": 10000
     },
     "inputWidgets": {},
     "nuid": "94e89dc6-1fb0-4b89-ba08-696ca49c8d06",
     "showTitle": false,
     "title": ""
    }
   },
   "source": [
    "### Semi Final\n",
    "- populate the semifinal matches on the basics of result of quater final and update the result column"
   ]
  },
  {
   "cell_type": "code",
   "execution_count": 0,
   "metadata": {
    "application/vnd.databricks.v1+cell": {
     "cellMetadata": {
      "byteLimit": 2048000,
      "implicitDf": true,
      "rowLimit": 10000
     },
     "inputWidgets": {},
     "nuid": "d4d6ca9d-b9a6-4b31-9d5d-b8c128ba962e",
     "showTitle": false,
     "title": ""
    }
   },
   "outputs": [
    {
     "output_type": "display_data",
     "data": {
      "text/html": [
       "<style scoped>\n",
       "  .table-result-container {\n",
       "    max-height: 300px;\n",
       "    overflow: auto;\n",
       "  }\n",
       "  table, th, td {\n",
       "    border: 1px solid black;\n",
       "    border-collapse: collapse;\n",
       "  }\n",
       "  th, td {\n",
       "    padding: 5px;\n",
       "  }\n",
       "  th {\n",
       "    text-align: left;\n",
       "  }\n",
       "</style><div class='table-result-container'><table class='table-result'><thead style='background-color: white'><tr><th>MatchId</th><th>Team1</th><th>Team2</th><th>Team1Score</th><th>Team2Score</th><th>Result</th><th>Stage</th></tr></thead><tbody><tr><td>1</td><td>Germany</td><td>Switzerland</td><td>6</td><td>4</td><td>Germany</td><td>group stage</td></tr><tr><td>2</td><td>Germany</td><td>Hungary</td><td>2</td><td>6</td><td>Hungary</td><td>group stage</td></tr><tr><td>3</td><td>Germany</td><td>Scotland</td><td>4</td><td>6</td><td>Scotland</td><td>group stage</td></tr><tr><td>4</td><td>Scotland</td><td>Switzerland</td><td>5</td><td>2</td><td>Scotland</td><td>group stage</td></tr><tr><td>5</td><td>Scotland</td><td>Hungary</td><td>6</td><td>1</td><td>Scotland</td><td>group stage</td></tr><tr><td>6</td><td>Hungary</td><td>Switzerland</td><td>1</td><td>3</td><td>Switzerland</td><td>group stage</td></tr><tr><td>7</td><td>Spain</td><td>Albania</td><td>4</td><td>3</td><td>Spain</td><td>group stage</td></tr><tr><td>8</td><td>Spain</td><td>Italy</td><td>5</td><td>1</td><td>Spain</td><td>group stage</td></tr><tr><td>9</td><td>Spain</td><td>Croatia</td><td>3</td><td>3</td><td>draw</td><td>group stage</td></tr><tr><td>10</td><td>Croatia</td><td>Albania</td><td>5</td><td>2</td><td>Croatia</td><td>group stage</td></tr><tr><td>11</td><td>Croatia</td><td>Italy</td><td>6</td><td>5</td><td>Croatia</td><td>group stage</td></tr><tr><td>12</td><td>Italy</td><td>Albania</td><td>3</td><td>4</td><td>Albania</td><td>group stage</td></tr><tr><td>13</td><td>Slovenia</td><td>England</td><td>6</td><td>1</td><td>Slovenia</td><td>group stage</td></tr><tr><td>14</td><td>Slovenia</td><td>Serbia</td><td>1</td><td>6</td><td>Serbia</td><td>group stage</td></tr><tr><td>15</td><td>Slovenia</td><td>Denmark</td><td>2</td><td>3</td><td>Denmark</td><td>group stage</td></tr><tr><td>16</td><td>Denmark</td><td>England</td><td>2</td><td>4</td><td>England</td><td>group stage</td></tr><tr><td>17</td><td>Denmark</td><td>Serbia</td><td>4</td><td>2</td><td>Denmark</td><td>group stage</td></tr><tr><td>18</td><td>Serbia</td><td>England</td><td>2</td><td>2</td><td>draw</td><td>group stage</td></tr><tr><td>19</td><td>Poland</td><td>France</td><td>2</td><td>5</td><td>France</td><td>group stage</td></tr><tr><td>20</td><td>Poland</td><td>Austria</td><td>4</td><td>2</td><td>Poland</td><td>group stage</td></tr><tr><td>21</td><td>Poland</td><td>Netherlands</td><td>3</td><td>3</td><td>draw</td><td>group stage</td></tr><tr><td>22</td><td>Netherlands</td><td>France</td><td>3</td><td>3</td><td>draw</td><td>group stage</td></tr><tr><td>23</td><td>Netherlands</td><td>Austria</td><td>6</td><td>5</td><td>Netherlands</td><td>group stage</td></tr><tr><td>24</td><td>Austria</td><td>France</td><td>1</td><td>5</td><td>France</td><td>group stage</td></tr><tr><td>25</td><td>Belgium</td><td>Ukraine</td><td>5</td><td>2</td><td>Belgium</td><td>group stage</td></tr><tr><td>26</td><td>Belgium</td><td>Romania</td><td>1</td><td>5</td><td>Romania</td><td>group stage</td></tr><tr><td>27</td><td>Belgium</td><td>Slovakia</td><td>6</td><td>4</td><td>Belgium</td><td>group stage</td></tr><tr><td>28</td><td>Slovakia</td><td>Ukraine</td><td>2</td><td>3</td><td>Ukraine</td><td>group stage</td></tr><tr><td>29</td><td>Slovakia</td><td>Romania</td><td>6</td><td>6</td><td>draw</td><td>group stage</td></tr><tr><td>30</td><td>Romania</td><td>Ukraine</td><td>5</td><td>4</td><td>Romania</td><td>group stage</td></tr><tr><td>31</td><td>Türkiye</td><td>Czech</td><td>3</td><td>6</td><td>Czech</td><td>group stage</td></tr><tr><td>32</td><td>Türkiye</td><td>Portugal</td><td>6</td><td>1</td><td>Türkiye</td><td>group stage</td></tr><tr><td>33</td><td>Türkiye</td><td>Greece</td><td>2</td><td>5</td><td>Greece</td><td>group stage</td></tr><tr><td>34</td><td>Greece</td><td>Czech</td><td>1</td><td>6</td><td>Czech</td><td>group stage</td></tr><tr><td>35</td><td>Greece</td><td>Portugal</td><td>6</td><td>2</td><td>Greece</td><td>group stage</td></tr><tr><td>36</td><td>Portugal</td><td>Czech</td><td>4</td><td>5</td><td>Czech</td><td>group stage</td></tr><tr><td>37</td><td>Spain</td><td>Türkiye</td><td>4</td><td>3</td><td>Spain</td><td>Roundof 16</td></tr><tr><td>38</td><td>Scotland</td><td>Serbia</td><td>6</td><td>6</td><td>Scotland</td><td>Roundof 16</td></tr><tr><td>39</td><td>Czech</td><td>England</td><td>6</td><td>5</td><td>Czech</td><td>Roundof 16</td></tr><tr><td>40</td><td>Netherlands</td><td>Belgium</td><td>4</td><td>6</td><td>Belgium</td><td>Roundof 16</td></tr><tr><td>41</td><td>Romania</td><td>Poland</td><td>6</td><td>3</td><td>Romania</td><td>Roundof 16</td></tr><tr><td>42</td><td>France</td><td>Greece</td><td>5</td><td>4</td><td>France</td><td>Roundof 16</td></tr><tr><td>43</td><td>Denmark</td><td>Ukraine</td><td>4</td><td>3</td><td>Denmark</td><td>Roundof 16</td></tr><tr><td>44</td><td>Switzerland</td><td>Croatia</td><td>3</td><td>6</td><td>Croatia</td><td>Roundof 16</td></tr><tr><td>45</td><td>Spain</td><td>Scotland</td><td>3</td><td>1</td><td>Spain</td><td>Quater Final</td></tr><tr><td>46</td><td>Czech</td><td>Belgium</td><td>2</td><td>5</td><td>Belgium</td><td>Quater Final</td></tr><tr><td>47</td><td>Romania</td><td>France</td><td>4</td><td>1</td><td>Romania</td><td>Quater Final</td></tr><tr><td>48</td><td>Denmark</td><td>Croatia</td><td>5</td><td>5</td><td>Croatia</td><td>Quater Final</td></tr><tr><td>49</td><td>Spain</td><td>Belgium</td><td>6</td><td>6</td><td>Spain</td><td>Semi Final</td></tr><tr><td>50</td><td>Romania</td><td>Croatia</td><td>5</td><td>3</td><td>Romania</td><td>Semi Final</td></tr></tbody></table></div>"
      ]
     },
     "metadata": {
      "application/vnd.databricks.v1+output": {
       "addedWidgets": {},
       "aggData": [],
       "aggError": "",
       "aggOverflow": false,
       "aggSchema": [],
       "aggSeriesLimitReached": false,
       "aggType": "",
       "arguments": {},
       "columnCustomDisplayInfos": {},
       "data": [
        [
         1,
         "Germany",
         "Switzerland",
         6,
         4,
         "Germany",
         "group stage"
        ],
        [
         2,
         "Germany",
         "Hungary",
         2,
         6,
         "Hungary",
         "group stage"
        ],
        [
         3,
         "Germany",
         "Scotland",
         4,
         6,
         "Scotland",
         "group stage"
        ],
        [
         4,
         "Scotland",
         "Switzerland",
         5,
         2,
         "Scotland",
         "group stage"
        ],
        [
         5,
         "Scotland",
         "Hungary",
         6,
         1,
         "Scotland",
         "group stage"
        ],
        [
         6,
         "Hungary",
         "Switzerland",
         1,
         3,
         "Switzerland",
         "group stage"
        ],
        [
         7,
         "Spain",
         "Albania",
         4,
         3,
         "Spain",
         "group stage"
        ],
        [
         8,
         "Spain",
         "Italy",
         5,
         1,
         "Spain",
         "group stage"
        ],
        [
         9,
         "Spain",
         "Croatia",
         3,
         3,
         "draw",
         "group stage"
        ],
        [
         10,
         "Croatia",
         "Albania",
         5,
         2,
         "Croatia",
         "group stage"
        ],
        [
         11,
         "Croatia",
         "Italy",
         6,
         5,
         "Croatia",
         "group stage"
        ],
        [
         12,
         "Italy",
         "Albania",
         3,
         4,
         "Albania",
         "group stage"
        ],
        [
         13,
         "Slovenia",
         "England",
         6,
         1,
         "Slovenia",
         "group stage"
        ],
        [
         14,
         "Slovenia",
         "Serbia",
         1,
         6,
         "Serbia",
         "group stage"
        ],
        [
         15,
         "Slovenia",
         "Denmark",
         2,
         3,
         "Denmark",
         "group stage"
        ],
        [
         16,
         "Denmark",
         "England",
         2,
         4,
         "England",
         "group stage"
        ],
        [
         17,
         "Denmark",
         "Serbia",
         4,
         2,
         "Denmark",
         "group stage"
        ],
        [
         18,
         "Serbia",
         "England",
         2,
         2,
         "draw",
         "group stage"
        ],
        [
         19,
         "Poland",
         "France",
         2,
         5,
         "France",
         "group stage"
        ],
        [
         20,
         "Poland",
         "Austria",
         4,
         2,
         "Poland",
         "group stage"
        ],
        [
         21,
         "Poland",
         "Netherlands",
         3,
         3,
         "draw",
         "group stage"
        ],
        [
         22,
         "Netherlands",
         "France",
         3,
         3,
         "draw",
         "group stage"
        ],
        [
         23,
         "Netherlands",
         "Austria",
         6,
         5,
         "Netherlands",
         "group stage"
        ],
        [
         24,
         "Austria",
         "France",
         1,
         5,
         "France",
         "group stage"
        ],
        [
         25,
         "Belgium",
         "Ukraine",
         5,
         2,
         "Belgium",
         "group stage"
        ],
        [
         26,
         "Belgium",
         "Romania",
         1,
         5,
         "Romania",
         "group stage"
        ],
        [
         27,
         "Belgium",
         "Slovakia",
         6,
         4,
         "Belgium",
         "group stage"
        ],
        [
         28,
         "Slovakia",
         "Ukraine",
         2,
         3,
         "Ukraine",
         "group stage"
        ],
        [
         29,
         "Slovakia",
         "Romania",
         6,
         6,
         "draw",
         "group stage"
        ],
        [
         30,
         "Romania",
         "Ukraine",
         5,
         4,
         "Romania",
         "group stage"
        ],
        [
         31,
         "Türkiye",
         "Czech",
         3,
         6,
         "Czech",
         "group stage"
        ],
        [
         32,
         "Türkiye",
         "Portugal",
         6,
         1,
         "Türkiye",
         "group stage"
        ],
        [
         33,
         "Türkiye",
         "Greece",
         2,
         5,
         "Greece",
         "group stage"
        ],
        [
         34,
         "Greece",
         "Czech",
         1,
         6,
         "Czech",
         "group stage"
        ],
        [
         35,
         "Greece",
         "Portugal",
         6,
         2,
         "Greece",
         "group stage"
        ],
        [
         36,
         "Portugal",
         "Czech",
         4,
         5,
         "Czech",
         "group stage"
        ],
        [
         37,
         "Spain",
         "Türkiye",
         4,
         3,
         "Spain",
         "Roundof 16"
        ],
        [
         38,
         "Scotland",
         "Serbia",
         6,
         6,
         "Scotland",
         "Roundof 16"
        ],
        [
         39,
         "Czech",
         "England",
         6,
         5,
         "Czech",
         "Roundof 16"
        ],
        [
         40,
         "Netherlands",
         "Belgium",
         4,
         6,
         "Belgium",
         "Roundof 16"
        ],
        [
         41,
         "Romania",
         "Poland",
         6,
         3,
         "Romania",
         "Roundof 16"
        ],
        [
         42,
         "France",
         "Greece",
         5,
         4,
         "France",
         "Roundof 16"
        ],
        [
         43,
         "Denmark",
         "Ukraine",
         4,
         3,
         "Denmark",
         "Roundof 16"
        ],
        [
         44,
         "Switzerland",
         "Croatia",
         3,
         6,
         "Croatia",
         "Roundof 16"
        ],
        [
         45,
         "Spain",
         "Scotland",
         3,
         1,
         "Spain",
         "Quater Final"
        ],
        [
         46,
         "Czech",
         "Belgium",
         2,
         5,
         "Belgium",
         "Quater Final"
        ],
        [
         47,
         "Romania",
         "France",
         4,
         1,
         "Romania",
         "Quater Final"
        ],
        [
         48,
         "Denmark",
         "Croatia",
         5,
         5,
         "Croatia",
         "Quater Final"
        ],
        [
         49,
         "Spain",
         "Belgium",
         6,
         6,
         "Spain",
         "Semi Final"
        ],
        [
         50,
         "Romania",
         "Croatia",
         5,
         3,
         "Romania",
         "Semi Final"
        ]
       ],
       "datasetInfos": [],
       "dbfsResultPath": null,
       "isJsonSchema": true,
       "metadata": {},
       "overflow": false,
       "plotOptions": {
        "customPlotOptions": {},
        "displayType": "table",
        "pivotAggregation": null,
        "pivotColumns": null,
        "xColumns": null,
        "yColumns": null
       },
       "removedWidgets": [],
       "schema": [
        {
         "metadata": "{}",
         "name": "MatchId",
         "type": "\"integer\""
        },
        {
         "metadata": "{\"__CHAR_VARCHAR_TYPE_STRING\":\"varchar(255)\"}",
         "name": "Team1",
         "type": "\"string\""
        },
        {
         "metadata": "{\"__CHAR_VARCHAR_TYPE_STRING\":\"varchar(255)\"}",
         "name": "Team2",
         "type": "\"string\""
        },
        {
         "metadata": "{}",
         "name": "Team1Score",
         "type": "\"integer\""
        },
        {
         "metadata": "{}",
         "name": "Team2Score",
         "type": "\"integer\""
        },
        {
         "metadata": "{\"__CHAR_VARCHAR_TYPE_STRING\":\"varchar(255)\"}",
         "name": "Result",
         "type": "\"string\""
        },
        {
         "metadata": "{\"__CHAR_VARCHAR_TYPE_STRING\":\"varchar(255)\"}",
         "name": "Stage",
         "type": "\"string\""
        }
       ],
       "type": "table"
      }
     },
     "output_type": "display_data"
    }
   ],
   "source": [
    "%sql\n",
    "INSERT INTO matchesofcountry (MatchId, team1, team2, team1score, team2score, Result, stage)\n",
    "SELECT \n",
    "    49 AS MatchId, \n",
    "    (SELECT Result FROM matchesofcountry WHERE MatchId = 45) AS team1, \n",
    "    (SELECT Result FROM matchesofcountry WHERE MatchId = 46) AS team2,\n",
    "    (SELECT FLOOR(RAND() * 6) + 1) AS Team1Score,\n",
    "    (SELECT FLOOR(RAND() * 6) + 1) AS Team2Score,\n",
    "    'draw' as Result,\n",
    "    'Semi Final' as stage\n",
    "UNION ALL\n",
    "SELECT \n",
    "    50 AS MatchId, \n",
    "    (SELECT Result FROM matchesofcountry WHERE MatchId = 47) AS team1, \n",
    "    (SELECT Result FROM matchesofcountry WHERE MatchId = 48) AS team2,\n",
    "    (SELECT FLOOR(RAND() * 6) + 1) AS Team1Score,\n",
    "    (SELECT FLOOR(RAND() * 6) + 1) AS Team2Score,\n",
    "    'draw' as Result,\n",
    "    'Semi Final' as stage;\n",
    "\n",
    "UPDATE matchesofcountry\n",
    "SET Result = \n",
    "    CASE \n",
    "        WHEN team1score > team2score THEN team1\n",
    "        WHEN team1score < team2score THEN team2\n",
    "        ELSE \n",
    "            CASE \n",
    "                WHEN (team1score + 1) % 2 = 1 THEN team1\n",
    "                ELSE team2\n",
    "            END\n",
    "    END\n",
    "where stage = 'Semi Final';\n",
    "\n",
    "select * from matchesofcountry\n",
    "order by MatchId"
   ]
  },
  {
   "cell_type": "code",
   "execution_count": 0,
   "metadata": {
    "application/vnd.databricks.v1+cell": {
     "cellMetadata": {
      "byteLimit": 2048000,
      "implicitDf": true,
      "rowLimit": 10000
     },
     "inputWidgets": {},
     "nuid": "21562f5c-7ece-4c68-a121-862c9d94b6c2",
     "showTitle": false,
     "title": ""
    }
   },
   "outputs": [
    {
     "output_type": "display_data",
     "data": {
      "text/html": [
       "<style scoped>\n",
       "  .table-result-container {\n",
       "    max-height: 300px;\n",
       "    overflow: auto;\n",
       "  }\n",
       "  table, th, td {\n",
       "    border: 1px solid black;\n",
       "    border-collapse: collapse;\n",
       "  }\n",
       "  th, td {\n",
       "    padding: 5px;\n",
       "  }\n",
       "  th {\n",
       "    text-align: left;\n",
       "  }\n",
       "</style><div class='table-result-container'><table class='table-result'><thead style='background-color: white'><tr><th>Result</th></tr></thead><tbody><tr><td>Croatia</td></tr></tbody></table></div>"
      ]
     },
     "metadata": {
      "application/vnd.databricks.v1+output": {
       "addedWidgets": {},
       "aggData": [],
       "aggError": "",
       "aggOverflow": false,
       "aggSchema": [],
       "aggSeriesLimitReached": false,
       "aggType": "",
       "arguments": {},
       "columnCustomDisplayInfos": {},
       "data": [
        [
         "Croatia"
        ]
       ],
       "datasetInfos": [],
       "dbfsResultPath": null,
       "isJsonSchema": true,
       "metadata": {},
       "overflow": false,
       "plotOptions": {
        "customPlotOptions": {},
        "displayType": "table",
        "pivotAggregation": null,
        "pivotColumns": null,
        "xColumns": null,
        "yColumns": null
       },
       "removedWidgets": [],
       "schema": [
        {
         "metadata": "{\"__CHAR_VARCHAR_TYPE_STRING\":\"varchar(255)\"}",
         "name": "Result",
         "type": "\"string\""
        }
       ],
       "type": "table"
      }
     },
     "output_type": "display_data"
    }
   ],
   "source": [
    "%sql\n",
    "SELECT Result FROM matchesofcountry WHERE stage='Quater Final' and Result not in (select Result FROM matchesofcountry WHERE stage='Semi Final') LIMIT 1 OFFSET 0"
   ]
  },
  {
   "cell_type": "markdown",
   "metadata": {
    "application/vnd.databricks.v1+cell": {
     "cellMetadata": {
      "byteLimit": 2048000,
      "rowLimit": 10000
     },
     "inputWidgets": {},
     "nuid": "2de76e44-7bc7-48f3-813b-87856b91f777",
     "showTitle": false,
     "title": ""
    }
   },
   "source": [
    "### Third place Game"
   ]
  },
  {
   "cell_type": "code",
   "execution_count": 0,
   "metadata": {
    "application/vnd.databricks.v1+cell": {
     "cellMetadata": {
      "byteLimit": 2048000,
      "implicitDf": true,
      "rowLimit": 10000
     },
     "inputWidgets": {},
     "nuid": "314f0267-2ddc-48c6-8073-73520f1c67b8",
     "showTitle": false,
     "title": ""
    }
   },
   "outputs": [
    {
     "output_type": "display_data",
     "data": {
      "text/html": [
       "<style scoped>\n",
       "  .table-result-container {\n",
       "    max-height: 300px;\n",
       "    overflow: auto;\n",
       "  }\n",
       "  table, th, td {\n",
       "    border: 1px solid black;\n",
       "    border-collapse: collapse;\n",
       "  }\n",
       "  th, td {\n",
       "    padding: 5px;\n",
       "  }\n",
       "  th {\n",
       "    text-align: left;\n",
       "  }\n",
       "</style><div class='table-result-container'><table class='table-result'><thead style='background-color: white'><tr><th>MatchId</th><th>Team1</th><th>Team2</th><th>Team1Score</th><th>Team2Score</th><th>Result</th><th>Stage</th></tr></thead><tbody><tr><td>1</td><td>Germany</td><td>Switzerland</td><td>6</td><td>4</td><td>Germany</td><td>group stage</td></tr><tr><td>2</td><td>Germany</td><td>Hungary</td><td>2</td><td>6</td><td>Hungary</td><td>group stage</td></tr><tr><td>3</td><td>Germany</td><td>Scotland</td><td>4</td><td>6</td><td>Scotland</td><td>group stage</td></tr><tr><td>4</td><td>Scotland</td><td>Switzerland</td><td>5</td><td>2</td><td>Scotland</td><td>group stage</td></tr><tr><td>5</td><td>Scotland</td><td>Hungary</td><td>6</td><td>1</td><td>Scotland</td><td>group stage</td></tr><tr><td>6</td><td>Hungary</td><td>Switzerland</td><td>1</td><td>3</td><td>Switzerland</td><td>group stage</td></tr><tr><td>7</td><td>Spain</td><td>Albania</td><td>4</td><td>3</td><td>Spain</td><td>group stage</td></tr><tr><td>8</td><td>Spain</td><td>Italy</td><td>5</td><td>1</td><td>Spain</td><td>group stage</td></tr><tr><td>9</td><td>Spain</td><td>Croatia</td><td>3</td><td>3</td><td>draw</td><td>group stage</td></tr><tr><td>10</td><td>Croatia</td><td>Albania</td><td>5</td><td>2</td><td>Croatia</td><td>group stage</td></tr><tr><td>11</td><td>Croatia</td><td>Italy</td><td>6</td><td>5</td><td>Croatia</td><td>group stage</td></tr><tr><td>12</td><td>Italy</td><td>Albania</td><td>3</td><td>4</td><td>Albania</td><td>group stage</td></tr><tr><td>13</td><td>Slovenia</td><td>England</td><td>6</td><td>1</td><td>Slovenia</td><td>group stage</td></tr><tr><td>14</td><td>Slovenia</td><td>Serbia</td><td>1</td><td>6</td><td>Serbia</td><td>group stage</td></tr><tr><td>15</td><td>Slovenia</td><td>Denmark</td><td>2</td><td>3</td><td>Denmark</td><td>group stage</td></tr><tr><td>16</td><td>Denmark</td><td>England</td><td>2</td><td>4</td><td>England</td><td>group stage</td></tr><tr><td>17</td><td>Denmark</td><td>Serbia</td><td>4</td><td>2</td><td>Denmark</td><td>group stage</td></tr><tr><td>18</td><td>Serbia</td><td>England</td><td>2</td><td>2</td><td>draw</td><td>group stage</td></tr><tr><td>19</td><td>Poland</td><td>France</td><td>2</td><td>5</td><td>France</td><td>group stage</td></tr><tr><td>20</td><td>Poland</td><td>Austria</td><td>4</td><td>2</td><td>Poland</td><td>group stage</td></tr><tr><td>21</td><td>Poland</td><td>Netherlands</td><td>3</td><td>3</td><td>draw</td><td>group stage</td></tr><tr><td>22</td><td>Netherlands</td><td>France</td><td>3</td><td>3</td><td>draw</td><td>group stage</td></tr><tr><td>23</td><td>Netherlands</td><td>Austria</td><td>6</td><td>5</td><td>Netherlands</td><td>group stage</td></tr><tr><td>24</td><td>Austria</td><td>France</td><td>1</td><td>5</td><td>France</td><td>group stage</td></tr><tr><td>25</td><td>Belgium</td><td>Ukraine</td><td>5</td><td>2</td><td>Belgium</td><td>group stage</td></tr><tr><td>26</td><td>Belgium</td><td>Romania</td><td>1</td><td>5</td><td>Romania</td><td>group stage</td></tr><tr><td>27</td><td>Belgium</td><td>Slovakia</td><td>6</td><td>4</td><td>Belgium</td><td>group stage</td></tr><tr><td>28</td><td>Slovakia</td><td>Ukraine</td><td>2</td><td>3</td><td>Ukraine</td><td>group stage</td></tr><tr><td>29</td><td>Slovakia</td><td>Romania</td><td>6</td><td>6</td><td>draw</td><td>group stage</td></tr><tr><td>30</td><td>Romania</td><td>Ukraine</td><td>5</td><td>4</td><td>Romania</td><td>group stage</td></tr><tr><td>31</td><td>Türkiye</td><td>Czech</td><td>3</td><td>6</td><td>Czech</td><td>group stage</td></tr><tr><td>32</td><td>Türkiye</td><td>Portugal</td><td>6</td><td>1</td><td>Türkiye</td><td>group stage</td></tr><tr><td>33</td><td>Türkiye</td><td>Greece</td><td>2</td><td>5</td><td>Greece</td><td>group stage</td></tr><tr><td>34</td><td>Greece</td><td>Czech</td><td>1</td><td>6</td><td>Czech</td><td>group stage</td></tr><tr><td>35</td><td>Greece</td><td>Portugal</td><td>6</td><td>2</td><td>Greece</td><td>group stage</td></tr><tr><td>36</td><td>Portugal</td><td>Czech</td><td>4</td><td>5</td><td>Czech</td><td>group stage</td></tr><tr><td>37</td><td>Spain</td><td>Türkiye</td><td>4</td><td>3</td><td>Spain</td><td>Roundof 16</td></tr><tr><td>38</td><td>Scotland</td><td>Serbia</td><td>6</td><td>6</td><td>Scotland</td><td>Roundof 16</td></tr><tr><td>39</td><td>Czech</td><td>England</td><td>6</td><td>5</td><td>Czech</td><td>Roundof 16</td></tr><tr><td>40</td><td>Netherlands</td><td>Belgium</td><td>4</td><td>6</td><td>Belgium</td><td>Roundof 16</td></tr><tr><td>41</td><td>Romania</td><td>Poland</td><td>6</td><td>3</td><td>Romania</td><td>Roundof 16</td></tr><tr><td>42</td><td>France</td><td>Greece</td><td>5</td><td>4</td><td>France</td><td>Roundof 16</td></tr><tr><td>43</td><td>Denmark</td><td>Ukraine</td><td>4</td><td>3</td><td>Denmark</td><td>Roundof 16</td></tr><tr><td>44</td><td>Switzerland</td><td>Croatia</td><td>3</td><td>6</td><td>Croatia</td><td>Roundof 16</td></tr><tr><td>45</td><td>Spain</td><td>Scotland</td><td>3</td><td>1</td><td>Spain</td><td>Quater Final</td></tr><tr><td>46</td><td>Czech</td><td>Belgium</td><td>2</td><td>5</td><td>Belgium</td><td>Quater Final</td></tr><tr><td>47</td><td>Romania</td><td>France</td><td>4</td><td>1</td><td>Romania</td><td>Quater Final</td></tr><tr><td>48</td><td>Denmark</td><td>Croatia</td><td>5</td><td>5</td><td>Croatia</td><td>Quater Final</td></tr><tr><td>49</td><td>Spain</td><td>Belgium</td><td>6</td><td>6</td><td>Spain</td><td>Semi Final</td></tr><tr><td>50</td><td>Romania</td><td>Croatia</td><td>5</td><td>3</td><td>Romania</td><td>Semi Final</td></tr><tr><td>51</td><td>Croatia</td><td>Belgium</td><td>2</td><td>1</td><td>Croatia</td><td>Third Place</td></tr></tbody></table></div>"
      ]
     },
     "metadata": {
      "application/vnd.databricks.v1+output": {
       "addedWidgets": {},
       "aggData": [],
       "aggError": "",
       "aggOverflow": false,
       "aggSchema": [],
       "aggSeriesLimitReached": false,
       "aggType": "",
       "arguments": {},
       "columnCustomDisplayInfos": {},
       "data": [
        [
         1,
         "Germany",
         "Switzerland",
         6,
         4,
         "Germany",
         "group stage"
        ],
        [
         2,
         "Germany",
         "Hungary",
         2,
         6,
         "Hungary",
         "group stage"
        ],
        [
         3,
         "Germany",
         "Scotland",
         4,
         6,
         "Scotland",
         "group stage"
        ],
        [
         4,
         "Scotland",
         "Switzerland",
         5,
         2,
         "Scotland",
         "group stage"
        ],
        [
         5,
         "Scotland",
         "Hungary",
         6,
         1,
         "Scotland",
         "group stage"
        ],
        [
         6,
         "Hungary",
         "Switzerland",
         1,
         3,
         "Switzerland",
         "group stage"
        ],
        [
         7,
         "Spain",
         "Albania",
         4,
         3,
         "Spain",
         "group stage"
        ],
        [
         8,
         "Spain",
         "Italy",
         5,
         1,
         "Spain",
         "group stage"
        ],
        [
         9,
         "Spain",
         "Croatia",
         3,
         3,
         "draw",
         "group stage"
        ],
        [
         10,
         "Croatia",
         "Albania",
         5,
         2,
         "Croatia",
         "group stage"
        ],
        [
         11,
         "Croatia",
         "Italy",
         6,
         5,
         "Croatia",
         "group stage"
        ],
        [
         12,
         "Italy",
         "Albania",
         3,
         4,
         "Albania",
         "group stage"
        ],
        [
         13,
         "Slovenia",
         "England",
         6,
         1,
         "Slovenia",
         "group stage"
        ],
        [
         14,
         "Slovenia",
         "Serbia",
         1,
         6,
         "Serbia",
         "group stage"
        ],
        [
         15,
         "Slovenia",
         "Denmark",
         2,
         3,
         "Denmark",
         "group stage"
        ],
        [
         16,
         "Denmark",
         "England",
         2,
         4,
         "England",
         "group stage"
        ],
        [
         17,
         "Denmark",
         "Serbia",
         4,
         2,
         "Denmark",
         "group stage"
        ],
        [
         18,
         "Serbia",
         "England",
         2,
         2,
         "draw",
         "group stage"
        ],
        [
         19,
         "Poland",
         "France",
         2,
         5,
         "France",
         "group stage"
        ],
        [
         20,
         "Poland",
         "Austria",
         4,
         2,
         "Poland",
         "group stage"
        ],
        [
         21,
         "Poland",
         "Netherlands",
         3,
         3,
         "draw",
         "group stage"
        ],
        [
         22,
         "Netherlands",
         "France",
         3,
         3,
         "draw",
         "group stage"
        ],
        [
         23,
         "Netherlands",
         "Austria",
         6,
         5,
         "Netherlands",
         "group stage"
        ],
        [
         24,
         "Austria",
         "France",
         1,
         5,
         "France",
         "group stage"
        ],
        [
         25,
         "Belgium",
         "Ukraine",
         5,
         2,
         "Belgium",
         "group stage"
        ],
        [
         26,
         "Belgium",
         "Romania",
         1,
         5,
         "Romania",
         "group stage"
        ],
        [
         27,
         "Belgium",
         "Slovakia",
         6,
         4,
         "Belgium",
         "group stage"
        ],
        [
         28,
         "Slovakia",
         "Ukraine",
         2,
         3,
         "Ukraine",
         "group stage"
        ],
        [
         29,
         "Slovakia",
         "Romania",
         6,
         6,
         "draw",
         "group stage"
        ],
        [
         30,
         "Romania",
         "Ukraine",
         5,
         4,
         "Romania",
         "group stage"
        ],
        [
         31,
         "Türkiye",
         "Czech",
         3,
         6,
         "Czech",
         "group stage"
        ],
        [
         32,
         "Türkiye",
         "Portugal",
         6,
         1,
         "Türkiye",
         "group stage"
        ],
        [
         33,
         "Türkiye",
         "Greece",
         2,
         5,
         "Greece",
         "group stage"
        ],
        [
         34,
         "Greece",
         "Czech",
         1,
         6,
         "Czech",
         "group stage"
        ],
        [
         35,
         "Greece",
         "Portugal",
         6,
         2,
         "Greece",
         "group stage"
        ],
        [
         36,
         "Portugal",
         "Czech",
         4,
         5,
         "Czech",
         "group stage"
        ],
        [
         37,
         "Spain",
         "Türkiye",
         4,
         3,
         "Spain",
         "Roundof 16"
        ],
        [
         38,
         "Scotland",
         "Serbia",
         6,
         6,
         "Scotland",
         "Roundof 16"
        ],
        [
         39,
         "Czech",
         "England",
         6,
         5,
         "Czech",
         "Roundof 16"
        ],
        [
         40,
         "Netherlands",
         "Belgium",
         4,
         6,
         "Belgium",
         "Roundof 16"
        ],
        [
         41,
         "Romania",
         "Poland",
         6,
         3,
         "Romania",
         "Roundof 16"
        ],
        [
         42,
         "France",
         "Greece",
         5,
         4,
         "France",
         "Roundof 16"
        ],
        [
         43,
         "Denmark",
         "Ukraine",
         4,
         3,
         "Denmark",
         "Roundof 16"
        ],
        [
         44,
         "Switzerland",
         "Croatia",
         3,
         6,
         "Croatia",
         "Roundof 16"
        ],
        [
         45,
         "Spain",
         "Scotland",
         3,
         1,
         "Spain",
         "Quater Final"
        ],
        [
         46,
         "Czech",
         "Belgium",
         2,
         5,
         "Belgium",
         "Quater Final"
        ],
        [
         47,
         "Romania",
         "France",
         4,
         1,
         "Romania",
         "Quater Final"
        ],
        [
         48,
         "Denmark",
         "Croatia",
         5,
         5,
         "Croatia",
         "Quater Final"
        ],
        [
         49,
         "Spain",
         "Belgium",
         6,
         6,
         "Spain",
         "Semi Final"
        ],
        [
         50,
         "Romania",
         "Croatia",
         5,
         3,
         "Romania",
         "Semi Final"
        ],
        [
         51,
         "Croatia",
         "Belgium",
         2,
         1,
         "Croatia",
         "Third Place"
        ]
       ],
       "datasetInfos": [],
       "dbfsResultPath": null,
       "isJsonSchema": true,
       "metadata": {},
       "overflow": false,
       "plotOptions": {
        "customPlotOptions": {},
        "displayType": "table",
        "pivotAggregation": null,
        "pivotColumns": null,
        "xColumns": null,
        "yColumns": null
       },
       "removedWidgets": [],
       "schema": [
        {
         "metadata": "{}",
         "name": "MatchId",
         "type": "\"integer\""
        },
        {
         "metadata": "{\"__CHAR_VARCHAR_TYPE_STRING\":\"varchar(255)\"}",
         "name": "Team1",
         "type": "\"string\""
        },
        {
         "metadata": "{\"__CHAR_VARCHAR_TYPE_STRING\":\"varchar(255)\"}",
         "name": "Team2",
         "type": "\"string\""
        },
        {
         "metadata": "{}",
         "name": "Team1Score",
         "type": "\"integer\""
        },
        {
         "metadata": "{}",
         "name": "Team2Score",
         "type": "\"integer\""
        },
        {
         "metadata": "{\"__CHAR_VARCHAR_TYPE_STRING\":\"varchar(255)\"}",
         "name": "Result",
         "type": "\"string\""
        },
        {
         "metadata": "{\"__CHAR_VARCHAR_TYPE_STRING\":\"varchar(255)\"}",
         "name": "Stage",
         "type": "\"string\""
        }
       ],
       "type": "table"
      }
     },
     "output_type": "display_data"
    }
   ],
   "source": [
    "%sql\n",
    "INSERT INTO matchesofcountry (MatchId, team1, team2, team1score, team2score, Result, stage)\n",
    "SELECT \n",
    "    51 AS MatchId, \n",
    "    (SELECT Result FROM matchesofcountry WHERE stage='Quater Final' and Result not in (select Result FROM matchesofcountry WHERE stage='Semi Final') LIMIT 1 OFFSET 0) AS team1, \n",
    "    (SELECT Result FROM matchesofcountry WHERE stage='Quater Final' and Result not in (select Result FROM matchesofcountry WHERE stage='Semi Final') LIMIT 1 OFFSET 1) AS team2,\n",
    "    (SELECT FLOOR(RAND() * 6) + 1) AS Team1Score,\n",
    "    (SELECT FLOOR(RAND() * 6) + 1) AS Team2Score,\n",
    "    'draw' as Result,\n",
    "    'Third Place' as stage;\n",
    "UPDATE matchesofcountry\n",
    "SET Result = \n",
    "    CASE \n",
    "        WHEN team1score > team2score THEN team1\n",
    "        WHEN team1score < team2score THEN team2\n",
    "        ELSE \n",
    "            CASE \n",
    "                WHEN (team1score + 1) % 2 = 1 THEN team1\n",
    "                ELSE team2\n",
    "            END\n",
    "    END\n",
    "where stage = 'Third Place';\n",
    "\n",
    "select * from matchesofcountry\n",
    "order by MatchId"
   ]
  },
  {
   "cell_type": "markdown",
   "metadata": {
    "application/vnd.databricks.v1+cell": {
     "cellMetadata": {
      "byteLimit": 2048000,
      "rowLimit": 10000
     },
     "inputWidgets": {},
     "nuid": "c613901e-b7e1-4618-a86e-2e787a9d8cee",
     "showTitle": false,
     "title": ""
    }
   },
   "source": [
    "### Final at Munich, Olympiastadion Berlin 7/14 21:00 kickof"
   ]
  },
  {
   "cell_type": "code",
   "execution_count": 0,
   "metadata": {
    "application/vnd.databricks.v1+cell": {
     "cellMetadata": {
      "byteLimit": 2048000,
      "implicitDf": true,
      "rowLimit": 10000
     },
     "inputWidgets": {},
     "nuid": "cbb34765-cc2f-47e7-87e5-6c6c03d22dd7",
     "showTitle": false,
     "title": ""
    }
   },
   "outputs": [
    {
     "output_type": "display_data",
     "data": {
      "text/html": [
       "<style scoped>\n",
       "  .table-result-container {\n",
       "    max-height: 300px;\n",
       "    overflow: auto;\n",
       "  }\n",
       "  table, th, td {\n",
       "    border: 1px solid black;\n",
       "    border-collapse: collapse;\n",
       "  }\n",
       "  th, td {\n",
       "    padding: 5px;\n",
       "  }\n",
       "  th {\n",
       "    text-align: left;\n",
       "  }\n",
       "</style><div class='table-result-container'><table class='table-result'><thead style='background-color: white'><tr><th>MatchId</th><th>Team1</th><th>Team2</th><th>Team1Score</th><th>Team2Score</th><th>Result</th><th>Stage</th></tr></thead><tbody><tr><td>1</td><td>Germany</td><td>Switzerland</td><td>6</td><td>4</td><td>Germany</td><td>group stage</td></tr><tr><td>2</td><td>Germany</td><td>Hungary</td><td>2</td><td>6</td><td>Hungary</td><td>group stage</td></tr><tr><td>3</td><td>Germany</td><td>Scotland</td><td>4</td><td>6</td><td>Scotland</td><td>group stage</td></tr><tr><td>4</td><td>Scotland</td><td>Switzerland</td><td>5</td><td>2</td><td>Scotland</td><td>group stage</td></tr><tr><td>5</td><td>Scotland</td><td>Hungary</td><td>6</td><td>1</td><td>Scotland</td><td>group stage</td></tr><tr><td>6</td><td>Hungary</td><td>Switzerland</td><td>1</td><td>3</td><td>Switzerland</td><td>group stage</td></tr><tr><td>7</td><td>Spain</td><td>Albania</td><td>4</td><td>3</td><td>Spain</td><td>group stage</td></tr><tr><td>8</td><td>Spain</td><td>Italy</td><td>5</td><td>1</td><td>Spain</td><td>group stage</td></tr><tr><td>9</td><td>Spain</td><td>Croatia</td><td>3</td><td>3</td><td>draw</td><td>group stage</td></tr><tr><td>10</td><td>Croatia</td><td>Albania</td><td>5</td><td>2</td><td>Croatia</td><td>group stage</td></tr><tr><td>11</td><td>Croatia</td><td>Italy</td><td>6</td><td>5</td><td>Croatia</td><td>group stage</td></tr><tr><td>12</td><td>Italy</td><td>Albania</td><td>3</td><td>4</td><td>Albania</td><td>group stage</td></tr><tr><td>13</td><td>Slovenia</td><td>England</td><td>6</td><td>1</td><td>Slovenia</td><td>group stage</td></tr><tr><td>14</td><td>Slovenia</td><td>Serbia</td><td>1</td><td>6</td><td>Serbia</td><td>group stage</td></tr><tr><td>15</td><td>Slovenia</td><td>Denmark</td><td>2</td><td>3</td><td>Denmark</td><td>group stage</td></tr><tr><td>16</td><td>Denmark</td><td>England</td><td>2</td><td>4</td><td>England</td><td>group stage</td></tr><tr><td>17</td><td>Denmark</td><td>Serbia</td><td>4</td><td>2</td><td>Denmark</td><td>group stage</td></tr><tr><td>18</td><td>Serbia</td><td>England</td><td>2</td><td>2</td><td>draw</td><td>group stage</td></tr><tr><td>19</td><td>Poland</td><td>France</td><td>2</td><td>5</td><td>France</td><td>group stage</td></tr><tr><td>20</td><td>Poland</td><td>Austria</td><td>4</td><td>2</td><td>Poland</td><td>group stage</td></tr><tr><td>21</td><td>Poland</td><td>Netherlands</td><td>3</td><td>3</td><td>draw</td><td>group stage</td></tr><tr><td>22</td><td>Netherlands</td><td>France</td><td>3</td><td>3</td><td>draw</td><td>group stage</td></tr><tr><td>23</td><td>Netherlands</td><td>Austria</td><td>6</td><td>5</td><td>Netherlands</td><td>group stage</td></tr><tr><td>24</td><td>Austria</td><td>France</td><td>1</td><td>5</td><td>France</td><td>group stage</td></tr><tr><td>25</td><td>Belgium</td><td>Ukraine</td><td>5</td><td>2</td><td>Belgium</td><td>group stage</td></tr><tr><td>26</td><td>Belgium</td><td>Romania</td><td>1</td><td>5</td><td>Romania</td><td>group stage</td></tr><tr><td>27</td><td>Belgium</td><td>Slovakia</td><td>6</td><td>4</td><td>Belgium</td><td>group stage</td></tr><tr><td>28</td><td>Slovakia</td><td>Ukraine</td><td>2</td><td>3</td><td>Ukraine</td><td>group stage</td></tr><tr><td>29</td><td>Slovakia</td><td>Romania</td><td>6</td><td>6</td><td>draw</td><td>group stage</td></tr><tr><td>30</td><td>Romania</td><td>Ukraine</td><td>5</td><td>4</td><td>Romania</td><td>group stage</td></tr><tr><td>31</td><td>Türkiye</td><td>Czech</td><td>3</td><td>6</td><td>Czech</td><td>group stage</td></tr><tr><td>32</td><td>Türkiye</td><td>Portugal</td><td>6</td><td>1</td><td>Türkiye</td><td>group stage</td></tr><tr><td>33</td><td>Türkiye</td><td>Greece</td><td>2</td><td>5</td><td>Greece</td><td>group stage</td></tr><tr><td>34</td><td>Greece</td><td>Czech</td><td>1</td><td>6</td><td>Czech</td><td>group stage</td></tr><tr><td>35</td><td>Greece</td><td>Portugal</td><td>6</td><td>2</td><td>Greece</td><td>group stage</td></tr><tr><td>36</td><td>Portugal</td><td>Czech</td><td>4</td><td>5</td><td>Czech</td><td>group stage</td></tr><tr><td>37</td><td>Spain</td><td>Türkiye</td><td>4</td><td>3</td><td>Spain</td><td>Roundof 16</td></tr><tr><td>38</td><td>Scotland</td><td>Serbia</td><td>6</td><td>6</td><td>Scotland</td><td>Roundof 16</td></tr><tr><td>39</td><td>Czech</td><td>England</td><td>6</td><td>5</td><td>Czech</td><td>Roundof 16</td></tr><tr><td>40</td><td>Netherlands</td><td>Belgium</td><td>4</td><td>6</td><td>Belgium</td><td>Roundof 16</td></tr><tr><td>41</td><td>Romania</td><td>Poland</td><td>6</td><td>3</td><td>Romania</td><td>Roundof 16</td></tr><tr><td>42</td><td>France</td><td>Greece</td><td>5</td><td>4</td><td>France</td><td>Roundof 16</td></tr><tr><td>43</td><td>Denmark</td><td>Ukraine</td><td>4</td><td>3</td><td>Denmark</td><td>Roundof 16</td></tr><tr><td>44</td><td>Switzerland</td><td>Croatia</td><td>3</td><td>6</td><td>Croatia</td><td>Roundof 16</td></tr><tr><td>45</td><td>Spain</td><td>Scotland</td><td>3</td><td>1</td><td>Spain</td><td>Quater Final</td></tr><tr><td>46</td><td>Czech</td><td>Belgium</td><td>2</td><td>5</td><td>Belgium</td><td>Quater Final</td></tr><tr><td>47</td><td>Romania</td><td>France</td><td>4</td><td>1</td><td>Romania</td><td>Quater Final</td></tr><tr><td>48</td><td>Denmark</td><td>Croatia</td><td>5</td><td>5</td><td>Croatia</td><td>Quater Final</td></tr><tr><td>49</td><td>Spain</td><td>Belgium</td><td>6</td><td>6</td><td>Spain</td><td>Semi Final</td></tr><tr><td>50</td><td>Romania</td><td>Croatia</td><td>5</td><td>3</td><td>Romania</td><td>Semi Final</td></tr><tr><td>51</td><td>Croatia</td><td>Belgium</td><td>2</td><td>1</td><td>Croatia</td><td>Third Place</td></tr><tr><td>52</td><td>Spain</td><td>Romania</td><td>3</td><td>4</td><td>Romania</td><td>Final</td></tr></tbody></table></div>"
      ]
     },
     "metadata": {
      "application/vnd.databricks.v1+output": {
       "addedWidgets": {},
       "aggData": [],
       "aggError": "",
       "aggOverflow": false,
       "aggSchema": [],
       "aggSeriesLimitReached": false,
       "aggType": "",
       "arguments": {},
       "columnCustomDisplayInfos": {},
       "data": [
        [
         1,
         "Germany",
         "Switzerland",
         6,
         4,
         "Germany",
         "group stage"
        ],
        [
         2,
         "Germany",
         "Hungary",
         2,
         6,
         "Hungary",
         "group stage"
        ],
        [
         3,
         "Germany",
         "Scotland",
         4,
         6,
         "Scotland",
         "group stage"
        ],
        [
         4,
         "Scotland",
         "Switzerland",
         5,
         2,
         "Scotland",
         "group stage"
        ],
        [
         5,
         "Scotland",
         "Hungary",
         6,
         1,
         "Scotland",
         "group stage"
        ],
        [
         6,
         "Hungary",
         "Switzerland",
         1,
         3,
         "Switzerland",
         "group stage"
        ],
        [
         7,
         "Spain",
         "Albania",
         4,
         3,
         "Spain",
         "group stage"
        ],
        [
         8,
         "Spain",
         "Italy",
         5,
         1,
         "Spain",
         "group stage"
        ],
        [
         9,
         "Spain",
         "Croatia",
         3,
         3,
         "draw",
         "group stage"
        ],
        [
         10,
         "Croatia",
         "Albania",
         5,
         2,
         "Croatia",
         "group stage"
        ],
        [
         11,
         "Croatia",
         "Italy",
         6,
         5,
         "Croatia",
         "group stage"
        ],
        [
         12,
         "Italy",
         "Albania",
         3,
         4,
         "Albania",
         "group stage"
        ],
        [
         13,
         "Slovenia",
         "England",
         6,
         1,
         "Slovenia",
         "group stage"
        ],
        [
         14,
         "Slovenia",
         "Serbia",
         1,
         6,
         "Serbia",
         "group stage"
        ],
        [
         15,
         "Slovenia",
         "Denmark",
         2,
         3,
         "Denmark",
         "group stage"
        ],
        [
         16,
         "Denmark",
         "England",
         2,
         4,
         "England",
         "group stage"
        ],
        [
         17,
         "Denmark",
         "Serbia",
         4,
         2,
         "Denmark",
         "group stage"
        ],
        [
         18,
         "Serbia",
         "England",
         2,
         2,
         "draw",
         "group stage"
        ],
        [
         19,
         "Poland",
         "France",
         2,
         5,
         "France",
         "group stage"
        ],
        [
         20,
         "Poland",
         "Austria",
         4,
         2,
         "Poland",
         "group stage"
        ],
        [
         21,
         "Poland",
         "Netherlands",
         3,
         3,
         "draw",
         "group stage"
        ],
        [
         22,
         "Netherlands",
         "France",
         3,
         3,
         "draw",
         "group stage"
        ],
        [
         23,
         "Netherlands",
         "Austria",
         6,
         5,
         "Netherlands",
         "group stage"
        ],
        [
         24,
         "Austria",
         "France",
         1,
         5,
         "France",
         "group stage"
        ],
        [
         25,
         "Belgium",
         "Ukraine",
         5,
         2,
         "Belgium",
         "group stage"
        ],
        [
         26,
         "Belgium",
         "Romania",
         1,
         5,
         "Romania",
         "group stage"
        ],
        [
         27,
         "Belgium",
         "Slovakia",
         6,
         4,
         "Belgium",
         "group stage"
        ],
        [
         28,
         "Slovakia",
         "Ukraine",
         2,
         3,
         "Ukraine",
         "group stage"
        ],
        [
         29,
         "Slovakia",
         "Romania",
         6,
         6,
         "draw",
         "group stage"
        ],
        [
         30,
         "Romania",
         "Ukraine",
         5,
         4,
         "Romania",
         "group stage"
        ],
        [
         31,
         "Türkiye",
         "Czech",
         3,
         6,
         "Czech",
         "group stage"
        ],
        [
         32,
         "Türkiye",
         "Portugal",
         6,
         1,
         "Türkiye",
         "group stage"
        ],
        [
         33,
         "Türkiye",
         "Greece",
         2,
         5,
         "Greece",
         "group stage"
        ],
        [
         34,
         "Greece",
         "Czech",
         1,
         6,
         "Czech",
         "group stage"
        ],
        [
         35,
         "Greece",
         "Portugal",
         6,
         2,
         "Greece",
         "group stage"
        ],
        [
         36,
         "Portugal",
         "Czech",
         4,
         5,
         "Czech",
         "group stage"
        ],
        [
         37,
         "Spain",
         "Türkiye",
         4,
         3,
         "Spain",
         "Roundof 16"
        ],
        [
         38,
         "Scotland",
         "Serbia",
         6,
         6,
         "Scotland",
         "Roundof 16"
        ],
        [
         39,
         "Czech",
         "England",
         6,
         5,
         "Czech",
         "Roundof 16"
        ],
        [
         40,
         "Netherlands",
         "Belgium",
         4,
         6,
         "Belgium",
         "Roundof 16"
        ],
        [
         41,
         "Romania",
         "Poland",
         6,
         3,
         "Romania",
         "Roundof 16"
        ],
        [
         42,
         "France",
         "Greece",
         5,
         4,
         "France",
         "Roundof 16"
        ],
        [
         43,
         "Denmark",
         "Ukraine",
         4,
         3,
         "Denmark",
         "Roundof 16"
        ],
        [
         44,
         "Switzerland",
         "Croatia",
         3,
         6,
         "Croatia",
         "Roundof 16"
        ],
        [
         45,
         "Spain",
         "Scotland",
         3,
         1,
         "Spain",
         "Quater Final"
        ],
        [
         46,
         "Czech",
         "Belgium",
         2,
         5,
         "Belgium",
         "Quater Final"
        ],
        [
         47,
         "Romania",
         "France",
         4,
         1,
         "Romania",
         "Quater Final"
        ],
        [
         48,
         "Denmark",
         "Croatia",
         5,
         5,
         "Croatia",
         "Quater Final"
        ],
        [
         49,
         "Spain",
         "Belgium",
         6,
         6,
         "Spain",
         "Semi Final"
        ],
        [
         50,
         "Romania",
         "Croatia",
         5,
         3,
         "Romania",
         "Semi Final"
        ],
        [
         51,
         "Croatia",
         "Belgium",
         2,
         1,
         "Croatia",
         "Third Place"
        ],
        [
         52,
         "Spain",
         "Romania",
         3,
         4,
         "Romania",
         "Final"
        ]
       ],
       "datasetInfos": [],
       "dbfsResultPath": null,
       "isJsonSchema": true,
       "metadata": {},
       "overflow": false,
       "plotOptions": {
        "customPlotOptions": {},
        "displayType": "table",
        "pivotAggregation": null,
        "pivotColumns": null,
        "xColumns": null,
        "yColumns": null
       },
       "removedWidgets": [],
       "schema": [
        {
         "metadata": "{}",
         "name": "MatchId",
         "type": "\"integer\""
        },
        {
         "metadata": "{\"__CHAR_VARCHAR_TYPE_STRING\":\"varchar(255)\"}",
         "name": "Team1",
         "type": "\"string\""
        },
        {
         "metadata": "{\"__CHAR_VARCHAR_TYPE_STRING\":\"varchar(255)\"}",
         "name": "Team2",
         "type": "\"string\""
        },
        {
         "metadata": "{}",
         "name": "Team1Score",
         "type": "\"integer\""
        },
        {
         "metadata": "{}",
         "name": "Team2Score",
         "type": "\"integer\""
        },
        {
         "metadata": "{\"__CHAR_VARCHAR_TYPE_STRING\":\"varchar(255)\"}",
         "name": "Result",
         "type": "\"string\""
        },
        {
         "metadata": "{\"__CHAR_VARCHAR_TYPE_STRING\":\"varchar(255)\"}",
         "name": "Stage",
         "type": "\"string\""
        }
       ],
       "type": "table"
      }
     },
     "output_type": "display_data"
    }
   ],
   "source": [
    "%sql\n",
    "INSERT INTO matchesofcountry (MatchId, team1, team2, team1score, team2score, Result, stage)\n",
    "SELECT \n",
    "    52 AS MatchId, \n",
    "    (SELECT Result FROM matchesofcountry WHERE MatchId = 49) AS team1, \n",
    "    (SELECT Result FROM matchesofcountry WHERE MatchId = 50) AS team2,\n",
    "    (SELECT FLOOR(RAND() * 6) + 1) AS Team1Score,\n",
    "    (SELECT FLOOR(RAND() * 6) + 1) AS Team2Score,\n",
    "    'draw' as Result,\n",
    "    'Final' as stage;\n",
    "UPDATE matchesofcountry\n",
    "SET Result = \n",
    "    CASE \n",
    "        WHEN team1score > team2score THEN team1\n",
    "        WHEN team1score < team2score THEN team2\n",
    "        ELSE \n",
    "            CASE \n",
    "                WHEN (team1score + 1) % 2 = 1 THEN team1\n",
    "                ELSE team2\n",
    "            END\n",
    "    END\n",
    "where stage = 'Final';\n",
    "\n",
    "select * from matchesofcountry\n",
    "order by MatchId"
   ]
  },
  {
   "cell_type": "markdown",
   "metadata": {
    "application/vnd.databricks.v1+cell": {
     "cellMetadata": {
      "byteLimit": 2048000,
      "rowLimit": 10000
     },
     "inputWidgets": {},
     "nuid": "f8c84592-c0f0-4b5c-913c-42bb87717088",
     "showTitle": false,
     "title": ""
    }
   },
   "source": [
    "### Computiong the group satage Ranking"
   ]
  },
  {
   "cell_type": "code",
   "execution_count": 0,
   "metadata": {
    "application/vnd.databricks.v1+cell": {
     "cellMetadata": {
      "byteLimit": 2048000,
      "rowLimit": 10000
     },
     "inputWidgets": {},
     "nuid": "3b029fe3-ac85-4313-ac5c-1d546f7935c4",
     "showTitle": false,
     "title": ""
    }
   },
   "outputs": [
    {
     "output_type": "display_data",
     "data": {
      "application/vnd.databricks.v1+bamboolib_hint": "{\"pd.DataFrames\": [], \"version\": \"0.0.1\"}",
      "text/plain": []
     },
     "metadata": {},
     "output_type": "display_data"
    },
    {
     "output_type": "stream",
     "name": "stderr",
     "output_type": "stream",
     "text": [
      "<command-1469189203607398>:40: FutureWarning: The frame.append method is deprecated and will be removed from pandas in a future version. Use pandas.concat instead.\n  visualize_table_with_blanks = visualize_table_with_blanks.append(blank_rows, ignore_index = True)\n<command-1469189203607398>:45: FutureWarning: The frame.append method is deprecated and will be removed from pandas in a future version. Use pandas.concat instead.\n  visualize_table_with_blanks1 = visualize_table_with_blanks1.append(blank_rows, ignore_index = True)\n<command-1469189203607398>:50: FutureWarning: The frame.append method is deprecated and will be removed from pandas in a future version. Use pandas.concat instead.\n  visualize_table_with_blanks2 = visualize_table_with_blanks2.append(blank_rows, ignore_index = True)\n"
     ]
    }
   ],
   "source": [
    "import pandas as pd\n",
    "from pyspark.sql import SparkSession\n",
    "\n",
    "# Create a SparkSession\n",
    "spark = SparkSession.builder \\\n",
    "    .appName(\"example-app\") \\\n",
    "    .getOrCreate()\n",
    "\n",
    "# Assuming you have a DataFrame named ranking_group obtained from your SQL table\n",
    "# Replace the SQL query with your actual SQL query to fetch data from the ranking_group table\n",
    "ranking_group = spark.sql(\"SELECT * FROM ranking_group\")\n",
    "\n",
    "# Convert the DataFrame to a Pandas DataFrame\n",
    "ranking_group_pandas = ranking_group.toPandas()\n",
    "\n",
    "# Create visualize_table DataFrame with 'teamname' column dynamically\n",
    "visualize_table = pd.DataFrame({\n",
    "    'teamname': ranking_group_pandas['TeamName'],\n",
    "    'teamgroup': ranking_group_pandas['TeamGroup'],\n",
    "    'rankings': ranking_group_pandas['Rankings'],\n",
    "    'points': ranking_group_pandas['Points'],\n",
    "    'goaldifference': ranking_group_pandas['GoalDifference']\n",
    "})\n",
    "\n",
    "# Create a DataFrame with blank rows\n",
    "blank_rows = pd.DataFrame({'teamname': [''] * 1, 'teamgroup': [''] * 1, 'rankings': [''] * 1, 'points': [''] * 1, 'goaldifference': [''] * 1})\n",
    "\n",
    "# Initialize an empty list to store chunks of data\n",
    "chunks = []\n",
    "\n",
    "# Split the visualize_table DataFrame into chunks of 4 records\n",
    "for i in range(0, len(visualize_table), 4):\n",
    "    chunk = visualize_table.iloc[i:i+4]  # Get a chunk of 4 records\n",
    "    chunks.append(chunk)  # Append the chunk to the list\n",
    "    if i < len(visualize_table) - 4:\n",
    "        chunks.append(blank_rows)  # Append 2 blank rows after each chunk, except for the last chunk\n",
    "\n",
    "# Concatenate all chunks to create the final DataFrame\n",
    "visualize_table_with_blanks = pd.concat(chunks).reset_index(drop=True)\n",
    "visualize_table_with_blanks = visualize_table_with_blanks.append(blank_rows, ignore_index = True)\n",
    "half_length = len(visualize_table_with_blanks) // 2\n",
    "\n",
    "# Create visualize_quater_final1 DataFrame with 4 blank rows at the beginning\n",
    "visualize_table_with_blanks1 = pd.DataFrame(columns=['teamname','teamgroup','rankings','points','goaldifference'])\n",
    "visualize_table_with_blanks1 = visualize_table_with_blanks1.append(blank_rows, ignore_index = True)\n",
    "visualize_table_with_blanks1 = pd.concat([visualize_table_with_blanks1, visualize_table_with_blanks.iloc[:half_length]]).reset_index(drop=True)\n",
    "#visualize_table_with_blanks1 = visualize_table_with_blanks1.drop(visualize_table_with_blanks1.tail(2).index)\n",
    "visualize_table_with_blanks1['space'] = ''\n",
    "visualize_table_with_blanks2 = pd.DataFrame(columns=['teamname','teamgroup','rankings','points','goaldifference'])\n",
    "visualize_table_with_blanks2 = visualize_table_with_blanks2.append(blank_rows, ignore_index = True)\n",
    "visualize_table_with_blanks2 = pd.concat([visualize_table_with_blanks2, visualize_table_with_blanks.iloc[half_length:]]).reset_index(drop=True)\n",
    "\n"
   ]
  },
  {
   "cell_type": "markdown",
   "metadata": {
    "application/vnd.databricks.v1+cell": {
     "cellMetadata": {
      "byteLimit": 2048000,
      "rowLimit": 10000
     },
     "inputWidgets": {},
     "nuid": "e1a0bc75-b25d-4ed2-956d-e5ca8107bc6b",
     "showTitle": false,
     "title": ""
    }
   },
   "source": [
    "### Showing the Groupstage rankgin along with all the Eurocup Knockout Fixtures"
   ]
  },
  {
   "cell_type": "code",
   "execution_count": 0,
   "metadata": {
    "application/vnd.databricks.v1+cell": {
     "cellMetadata": {
      "byteLimit": 2048000,
      "rowLimit": 10000
     },
     "inputWidgets": {},
     "nuid": "cad547ec-8ef5-4e64-a415-6167ac746d33",
     "showTitle": false,
     "title": ""
    }
   },
   "outputs": [
    {
     "output_type": "stream",
     "name": "stderr",
     "output_type": "stream",
     "text": [
      "<command-1005514274519437>:12: FutureWarning: The frame.append method is deprecated and will be removed from pandas in a future version. Use pandas.concat instead.\n  visualize_table16 = visualize_table16.append({'Roundof16': ''}, ignore_index=True)\n<command-1005514274519437>:13: FutureWarning: The frame.append method is deprecated and will be removed from pandas in a future version. Use pandas.concat instead.\n  visualize_table16 = visualize_table16.append({'Roundof16': ''}, ignore_index=True)\n<command-1005514274519437>:15: FutureWarning: The frame.append method is deprecated and will be removed from pandas in a future version. Use pandas.concat instead.\n  visualize_table16 = visualize_table16.append({'Roundof16': f\"{row['Team1']} ({row['Team1Score']})\"}, ignore_index=True)\n<command-1005514274519437>:16: FutureWarning: The frame.append method is deprecated and will be removed from pandas in a future version. Use pandas.concat instead.\n  visualize_table16 = visualize_table16.append({'Roundof16': f\"{row['Team2']} ({row['Team2Score']})\"}, ignore_index=True)\n<command-1005514274519437>:19: FutureWarning: The frame.append method is deprecated and will be removed from pandas in a future version. Use pandas.concat instead.\n  visualize_table16 = visualize_table16.append({'Roundof16': ''}, ignore_index=True)\n<command-1005514274519437>:20: FutureWarning: The frame.append method is deprecated and will be removed from pandas in a future version. Use pandas.concat instead.\n  visualize_table16 = visualize_table16.append({'Roundof16': ''}, ignore_index=True)\n<command-1005514274519437>:15: FutureWarning: The frame.append method is deprecated and will be removed from pandas in a future version. Use pandas.concat instead.\n  visualize_table16 = visualize_table16.append({'Roundof16': f\"{row['Team1']} ({row['Team1Score']})\"}, ignore_index=True)\n<command-1005514274519437>:16: FutureWarning: The frame.append method is deprecated and will be removed from pandas in a future version. Use pandas.concat instead.\n  visualize_table16 = visualize_table16.append({'Roundof16': f\"{row['Team2']} ({row['Team2Score']})\"}, ignore_index=True)\n<command-1005514274519437>:19: FutureWarning: The frame.append method is deprecated and will be removed from pandas in a future version. Use pandas.concat instead.\n  visualize_table16 = visualize_table16.append({'Roundof16': ''}, ignore_index=True)\n<command-1005514274519437>:20: FutureWarning: The frame.append method is deprecated and will be removed from pandas in a future version. Use pandas.concat instead.\n  visualize_table16 = visualize_table16.append({'Roundof16': ''}, ignore_index=True)\n<command-1005514274519437>:15: FutureWarning: The frame.append method is deprecated and will be removed from pandas in a future version. Use pandas.concat instead.\n  visualize_table16 = visualize_table16.append({'Roundof16': f\"{row['Team1']} ({row['Team1Score']})\"}, ignore_index=True)\n<command-1005514274519437>:16: FutureWarning: The frame.append method is deprecated and will be removed from pandas in a future version. Use pandas.concat instead.\n  visualize_table16 = visualize_table16.append({'Roundof16': f\"{row['Team2']} ({row['Team2Score']})\"}, ignore_index=True)\n<command-1005514274519437>:19: FutureWarning: The frame.append method is deprecated and will be removed from pandas in a future version. Use pandas.concat instead.\n  visualize_table16 = visualize_table16.append({'Roundof16': ''}, ignore_index=True)\n<command-1005514274519437>:20: FutureWarning: The frame.append method is deprecated and will be removed from pandas in a future version. Use pandas.concat instead.\n  visualize_table16 = visualize_table16.append({'Roundof16': ''}, ignore_index=True)\n<command-1005514274519437>:15: FutureWarning: The frame.append method is deprecated and will be removed from pandas in a future version. Use pandas.concat instead.\n  visualize_table16 = visualize_table16.append({'Roundof16': f\"{row['Team1']} ({row['Team1Score']})\"}, ignore_index=True)\n<command-1005514274519437>:16: FutureWarning: The frame.append method is deprecated and will be removed from pandas in a future version. Use pandas.concat instead.\n  visualize_table16 = visualize_table16.append({'Roundof16': f\"{row['Team2']} ({row['Team2Score']})\"}, ignore_index=True)\n<command-1005514274519437>:19: FutureWarning: The frame.append method is deprecated and will be removed from pandas in a future version. Use pandas.concat instead.\n  visualize_table16 = visualize_table16.append({'Roundof16': ''}, ignore_index=True)\n<command-1005514274519437>:20: FutureWarning: The frame.append method is deprecated and will be removed from pandas in a future version. Use pandas.concat instead.\n  visualize_table16 = visualize_table16.append({'Roundof16': ''}, ignore_index=True)\n<command-1005514274519437>:15: FutureWarning: The frame.append method is deprecated and will be removed from pandas in a future version. Use pandas.concat instead.\n  visualize_table16 = visualize_table16.append({'Roundof16': f\"{row['Team1']} ({row['Team1Score']})\"}, ignore_index=True)\n<command-1005514274519437>:16: FutureWarning: The frame.append method is deprecated and will be removed from pandas in a future version. Use pandas.concat instead.\n  visualize_table16 = visualize_table16.append({'Roundof16': f\"{row['Team2']} ({row['Team2Score']})\"}, ignore_index=True)\n<command-1005514274519437>:19: FutureWarning: The frame.append method is deprecated and will be removed from pandas in a future version. Use pandas.concat instead.\n  visualize_table16 = visualize_table16.append({'Roundof16': ''}, ignore_index=True)\n<command-1005514274519437>:20: FutureWarning: The frame.append method is deprecated and will be removed from pandas in a future version. Use pandas.concat instead.\n  visualize_table16 = visualize_table16.append({'Roundof16': ''}, ignore_index=True)\n<command-1005514274519437>:15: FutureWarning: The frame.append method is deprecated and will be removed from pandas in a future version. Use pandas.concat instead.\n  visualize_table16 = visualize_table16.append({'Roundof16': f\"{row['Team1']} ({row['Team1Score']})\"}, ignore_index=True)\n<command-1005514274519437>:16: FutureWarning: The frame.append method is deprecated and will be removed from pandas in a future version. Use pandas.concat instead.\n  visualize_table16 = visualize_table16.append({'Roundof16': f\"{row['Team2']} ({row['Team2Score']})\"}, ignore_index=True)\n<command-1005514274519437>:19: FutureWarning: The frame.append method is deprecated and will be removed from pandas in a future version. Use pandas.concat instead.\n  visualize_table16 = visualize_table16.append({'Roundof16': ''}, ignore_index=True)\n<command-1005514274519437>:20: FutureWarning: The frame.append method is deprecated and will be removed from pandas in a future version. Use pandas.concat instead.\n  visualize_table16 = visualize_table16.append({'Roundof16': ''}, ignore_index=True)\n<command-1005514274519437>:15: FutureWarning: The frame.append method is deprecated and will be removed from pandas in a future version. Use pandas.concat instead.\n  visualize_table16 = visualize_table16.append({'Roundof16': f\"{row['Team1']} ({row['Team1Score']})\"}, ignore_index=True)\n<command-1005514274519437>:16: FutureWarning: The frame.append method is deprecated and will be removed from pandas in a future version. Use pandas.concat instead.\n  visualize_table16 = visualize_table16.append({'Roundof16': f\"{row['Team2']} ({row['Team2Score']})\"}, ignore_index=True)\n<command-1005514274519437>:19: FutureWarning: The frame.append method is deprecated and will be removed from pandas in a future version. Use pandas.concat instead.\n  visualize_table16 = visualize_table16.append({'Roundof16': ''}, ignore_index=True)\n<command-1005514274519437>:20: FutureWarning: The frame.append method is deprecated and will be removed from pandas in a future version. Use pandas.concat instead.\n  visualize_table16 = visualize_table16.append({'Roundof16': ''}, ignore_index=True)\n<command-1005514274519437>:15: FutureWarning: The frame.append method is deprecated and will be removed from pandas in a future version. Use pandas.concat instead.\n  visualize_table16 = visualize_table16.append({'Roundof16': f\"{row['Team1']} ({row['Team1Score']})\"}, ignore_index=True)\n<command-1005514274519437>:16: FutureWarning: The frame.append method is deprecated and will be removed from pandas in a future version. Use pandas.concat instead.\n  visualize_table16 = visualize_table16.append({'Roundof16': f\"{row['Team2']} ({row['Team2Score']})\"}, ignore_index=True)\n<command-1005514274519437>:19: FutureWarning: The frame.append method is deprecated and will be removed from pandas in a future version. Use pandas.concat instead.\n  visualize_table16 = visualize_table16.append({'Roundof16': ''}, ignore_index=True)\n<command-1005514274519437>:20: FutureWarning: The frame.append method is deprecated and will be removed from pandas in a future version. Use pandas.concat instead.\n  visualize_table16 = visualize_table16.append({'Roundof16': ''}, ignore_index=True)\n<command-1005514274519437>:35: FutureWarning: The frame.append method is deprecated and will be removed from pandas in a future version. Use pandas.concat instead.\n  visualize_score16 = visualize_score16.append({'teamscore': ''}, ignore_index=True)\n<command-1005514274519437>:35: FutureWarning: The frame.append method is deprecated and will be removed from pandas in a future version. Use pandas.concat instead.\n  visualize_score16 = visualize_score16.append({'teamscore': ''}, ignore_index=True)\n<command-1005514274519437>:35: FutureWarning: The frame.append method is deprecated and will be removed from pandas in a future version. Use pandas.concat instead.\n  visualize_score16 = visualize_score16.append({'teamscore': ''}, ignore_index=True)\n<command-1005514274519437>:35: FutureWarning: The frame.append method is deprecated and will be removed from pandas in a future version. Use pandas.concat instead.\n  visualize_score16 = visualize_score16.append({'teamscore': ''}, ignore_index=True)\n<command-1005514274519437>:38: FutureWarning: The frame.append method is deprecated and will be removed from pandas in a future version. Use pandas.concat instead.\n  visualize_score16 = visualize_score16.append({'teamscore': row['Team1Score']}, ignore_index=True)\n<command-1005514274519437>:39: FutureWarning: The frame.append method is deprecated and will be removed from pandas in a future version. Use pandas.concat instead.\n  visualize_score16 = visualize_score16.append({'teamscore': row['Team2Score']}, ignore_index=True)\n<command-1005514274519437>:41: FutureWarning: The frame.append method is deprecated and will be removed from pandas in a future version. Use pandas.concat instead.\n  visualize_score16 = visualize_score16.append({'teamscore': ''}, ignore_index=True)\n<command-1005514274519437>:41: FutureWarning: The frame.append method is deprecated and will be removed from pandas in a future version. Use pandas.concat instead.\n  visualize_score16 = visualize_score16.append({'teamscore': ''}, ignore_index=True)\n<command-1005514274519437>:41: FutureWarning: The frame.append method is deprecated and will be removed from pandas in a future version. Use pandas.concat instead.\n  visualize_score16 = visualize_score16.append({'teamscore': ''}, ignore_index=True)\n<command-1005514274519437>:41: FutureWarning: The frame.append method is deprecated and will be removed from pandas in a future version. Use pandas.concat instead.\n  visualize_score16 = visualize_score16.append({'teamscore': ''}, ignore_index=True)\n<command-1005514274519437>:41: FutureWarning: The frame.append method is deprecated and will be removed from pandas in a future version. Use pandas.concat instead.\n  visualize_score16 = visualize_score16.append({'teamscore': ''}, ignore_index=True)\n<command-1005514274519437>:41: FutureWarning: The frame.append method is deprecated and will be removed from pandas in a future version. Use pandas.concat instead.\n  visualize_score16 = visualize_score16.append({'teamscore': ''}, ignore_index=True)\n<command-1005514274519437>:38: FutureWarning: The frame.append method is deprecated and will be removed from pandas in a future version. Use pandas.concat instead.\n  visualize_score16 = visualize_score16.append({'teamscore': row['Team1Score']}, ignore_index=True)\n<command-1005514274519437>:39: FutureWarning: The frame.append method is deprecated and will be removed from pandas in a future version. Use pandas.concat instead.\n  visualize_score16 = visualize_score16.append({'teamscore': row['Team2Score']}, ignore_index=True)\n<command-1005514274519437>:41: FutureWarning: The frame.append method is deprecated and will be removed from pandas in a future version. Use pandas.concat instead.\n  visualize_score16 = visualize_score16.append({'teamscore': ''}, ignore_index=True)\n<command-1005514274519437>:41: FutureWarning: The frame.append method is deprecated and will be removed from pandas in a future version. Use pandas.concat instead.\n  visualize_score16 = visualize_score16.append({'teamscore': ''}, ignore_index=True)\n<command-1005514274519437>:41: FutureWarning: The frame.append method is deprecated and will be removed from pandas in a future version. Use pandas.concat instead.\n  visualize_score16 = visualize_score16.append({'teamscore': ''}, ignore_index=True)\n<command-1005514274519437>:41: FutureWarning: The frame.append method is deprecated and will be removed from pandas in a future version. Use pandas.concat instead.\n  visualize_score16 = visualize_score16.append({'teamscore': ''}, ignore_index=True)\n<command-1005514274519437>:41: FutureWarning: The frame.append method is deprecated and will be removed from pandas in a future version. Use pandas.concat instead.\n  visualize_score16 = visualize_score16.append({'teamscore': ''}, ignore_index=True)\n<command-1005514274519437>:41: FutureWarning: The frame.append method is deprecated and will be removed from pandas in a future version. Use pandas.concat instead.\n  visualize_score16 = visualize_score16.append({'teamscore': ''}, ignore_index=True)\n<command-1005514274519437>:38: FutureWarning: The frame.append method is deprecated and will be removed from pandas in a future version. Use pandas.concat instead.\n  visualize_score16 = visualize_score16.append({'teamscore': row['Team1Score']}, ignore_index=True)\n<command-1005514274519437>:39: FutureWarning: The frame.append method is deprecated and will be removed from pandas in a future version. Use pandas.concat instead.\n  visualize_score16 = visualize_score16.append({'teamscore': row['Team2Score']}, ignore_index=True)\n<command-1005514274519437>:41: FutureWarning: The frame.append method is deprecated and will be removed from pandas in a future version. Use pandas.concat instead.\n  visualize_score16 = visualize_score16.append({'teamscore': ''}, ignore_index=True)\n<command-1005514274519437>:41: FutureWarning: The frame.append method is deprecated and will be removed from pandas in a future version. Use pandas.concat instead.\n  visualize_score16 = visualize_score16.append({'teamscore': ''}, ignore_index=True)\n<command-1005514274519437>:41: FutureWarning: The frame.append method is deprecated and will be removed from pandas in a future version. Use pandas.concat instead.\n  visualize_score16 = visualize_score16.append({'teamscore': ''}, ignore_index=True)\n<command-1005514274519437>:41: FutureWarning: The frame.append method is deprecated and will be removed from pandas in a future version. Use pandas.concat instead.\n  visualize_score16 = visualize_score16.append({'teamscore': ''}, ignore_index=True)\n<command-1005514274519437>:41: FutureWarning: The frame.append method is deprecated and will be removed from pandas in a future version. Use pandas.concat instead.\n  visualize_score16 = visualize_score16.append({'teamscore': ''}, ignore_index=True)\n<command-1005514274519437>:41: FutureWarning: The frame.append method is deprecated and will be removed from pandas in a future version. Use pandas.concat instead.\n  visualize_score16 = visualize_score16.append({'teamscore': ''}, ignore_index=True)\n<command-1005514274519437>:38: FutureWarning: The frame.append method is deprecated and will be removed from pandas in a future version. Use pandas.concat instead.\n  visualize_score16 = visualize_score16.append({'teamscore': row['Team1Score']}, ignore_index=True)\n<command-1005514274519437>:39: FutureWarning: The frame.append method is deprecated and will be removed from pandas in a future version. Use pandas.concat instead.\n  visualize_score16 = visualize_score16.append({'teamscore': row['Team2Score']}, ignore_index=True)\n<command-1005514274519437>:41: FutureWarning: The frame.append method is deprecated and will be removed from pandas in a future version. Use pandas.concat instead.\n  visualize_score16 = visualize_score16.append({'teamscore': ''}, ignore_index=True)\n<command-1005514274519437>:41: FutureWarning: The frame.append method is deprecated and will be removed from pandas in a future version. Use pandas.concat instead.\n  visualize_score16 = visualize_score16.append({'teamscore': ''}, ignore_index=True)\n<command-1005514274519437>:41: FutureWarning: The frame.append method is deprecated and will be removed from pandas in a future version. Use pandas.concat instead.\n  visualize_score16 = visualize_score16.append({'teamscore': ''}, ignore_index=True)\n<command-1005514274519437>:41: FutureWarning: The frame.append method is deprecated and will be removed from pandas in a future version. Use pandas.concat instead.\n  visualize_score16 = visualize_score16.append({'teamscore': ''}, ignore_index=True)\n<command-1005514274519437>:41: FutureWarning: The frame.append method is deprecated and will be removed from pandas in a future version. Use pandas.concat instead.\n  visualize_score16 = visualize_score16.append({'teamscore': ''}, ignore_index=True)\n<command-1005514274519437>:41: FutureWarning: The frame.append method is deprecated and will be removed from pandas in a future version. Use pandas.concat instead.\n  visualize_score16 = visualize_score16.append({'teamscore': ''}, ignore_index=True)\n<command-1005514274519437>:49: FutureWarning: The frame.append method is deprecated and will be removed from pandas in a future version. Use pandas.concat instead.\n  visualize_quater_final = visualize_quater_final.append({'quaterFinal': ''}, ignore_index=True)\n<command-1005514274519437>:49: FutureWarning: The frame.append method is deprecated and will be removed from pandas in a future version. Use pandas.concat instead.\n  visualize_quater_final = visualize_quater_final.append({'quaterFinal': ''}, ignore_index=True)\n<command-1005514274519437>:49: FutureWarning: The frame.append method is deprecated and will be removed from pandas in a future version. Use pandas.concat instead.\n  visualize_quater_final = visualize_quater_final.append({'quaterFinal': ''}, ignore_index=True)\n<command-1005514274519437>:49: FutureWarning: The frame.append method is deprecated and will be removed from pandas in a future version. Use pandas.concat instead.\n  visualize_quater_final = visualize_quater_final.append({'quaterFinal': ''}, ignore_index=True)\n<command-1005514274519437>:52: FutureWarning: The frame.append method is deprecated and will be removed from pandas in a future version. Use pandas.concat instead.\n  visualize_quater_final = visualize_quater_final.append({'quaterFinal': row['Result']}, ignore_index=True)\n<command-1005514274519437>:52: FutureWarning: The frame.append method is deprecated and will be removed from pandas in a future version. Use pandas.concat instead.\n  visualize_quater_final = visualize_quater_final.append({'quaterFinal': row['Result']}, ignore_index=True)\n<command-1005514274519437>:57: FutureWarning: The frame.append method is deprecated and will be removed from pandas in a future version. Use pandas.concat instead.\n  visualize_quater_final = visualize_quater_final.append({'quaterFinal': ''}, ignore_index=True)\n<command-1005514274519437>:57: FutureWarning: The frame.append method is deprecated and will be removed from pandas in a future version. Use pandas.concat instead.\n  visualize_quater_final = visualize_quater_final.append({'quaterFinal': ''}, ignore_index=True)\n<command-1005514274519437>:57: FutureWarning: The frame.append method is deprecated and will be removed from pandas in a future version. Use pandas.concat instead.\n  visualize_quater_final = visualize_quater_final.append({'quaterFinal': ''}, ignore_index=True)\n<command-1005514274519437>:57: FutureWarning: The frame.append method is deprecated and will be removed from pandas in a future version. Use pandas.concat instead.\n  visualize_quater_final = visualize_quater_final.append({'quaterFinal': ''}, ignore_index=True)\n<command-1005514274519437>:57: FutureWarning: The frame.append method is deprecated and will be removed from pandas in a future version. Use pandas.concat instead.\n  visualize_quater_final = visualize_quater_final.append({'quaterFinal': ''}, ignore_index=True)\n<command-1005514274519437>:57: FutureWarning: The frame.append method is deprecated and will be removed from pandas in a future version. Use pandas.concat instead.\n  visualize_quater_final = visualize_quater_final.append({'quaterFinal': ''}, ignore_index=True)\n<command-1005514274519437>:52: FutureWarning: The frame.append method is deprecated and will be removed from pandas in a future version. Use pandas.concat instead.\n  visualize_quater_final = visualize_quater_final.append({'quaterFinal': row['Result']}, ignore_index=True)\n<command-1005514274519437>:52: FutureWarning: The frame.append method is deprecated and will be removed from pandas in a future version. Use pandas.concat instead.\n  visualize_quater_final = visualize_quater_final.append({'quaterFinal': row['Result']}, ignore_index=True)\n<command-1005514274519437>:57: FutureWarning: The frame.append method is deprecated and will be removed from pandas in a future version. Use pandas.concat instead.\n  visualize_quater_final = visualize_quater_final.append({'quaterFinal': ''}, ignore_index=True)\n<command-1005514274519437>:57: FutureWarning: The frame.append method is deprecated and will be removed from pandas in a future version. Use pandas.concat instead.\n  visualize_quater_final = visualize_quater_final.append({'quaterFinal': ''}, ignore_index=True)\n<command-1005514274519437>:57: FutureWarning: The frame.append method is deprecated and will be removed from pandas in a future version. Use pandas.concat instead.\n  visualize_quater_final = visualize_quater_final.append({'quaterFinal': ''}, ignore_index=True)\n<command-1005514274519437>:57: FutureWarning: The frame.append method is deprecated and will be removed from pandas in a future version. Use pandas.concat instead.\n  visualize_quater_final = visualize_quater_final.append({'quaterFinal': ''}, ignore_index=True)\n<command-1005514274519437>:57: FutureWarning: The frame.append method is deprecated and will be removed from pandas in a future version. Use pandas.concat instead.\n  visualize_quater_final = visualize_quater_final.append({'quaterFinal': ''}, ignore_index=True)\n<command-1005514274519437>:57: FutureWarning: The frame.append method is deprecated and will be removed from pandas in a future version. Use pandas.concat instead.\n  visualize_quater_final = visualize_quater_final.append({'quaterFinal': ''}, ignore_index=True)\n<command-1005514274519437>:52: FutureWarning: The frame.append method is deprecated and will be removed from pandas in a future version. Use pandas.concat instead.\n  visualize_quater_final = visualize_quater_final.append({'quaterFinal': row['Result']}, ignore_index=True)\n<command-1005514274519437>:52: FutureWarning: The frame.append method is deprecated and will be removed from pandas in a future version. Use pandas.concat instead.\n  visualize_quater_final = visualize_quater_final.append({'quaterFinal': row['Result']}, ignore_index=True)\n<command-1005514274519437>:57: FutureWarning: The frame.append method is deprecated and will be removed from pandas in a future version. Use pandas.concat instead.\n  visualize_quater_final = visualize_quater_final.append({'quaterFinal': ''}, ignore_index=True)\n<command-1005514274519437>:57: FutureWarning: The frame.append method is deprecated and will be removed from pandas in a future version. Use pandas.concat instead.\n  visualize_quater_final = visualize_quater_final.append({'quaterFinal': ''}, ignore_index=True)\n<command-1005514274519437>:57: FutureWarning: The frame.append method is deprecated and will be removed from pandas in a future version. Use pandas.concat instead.\n  visualize_quater_final = visualize_quater_final.append({'quaterFinal': ''}, ignore_index=True)\n<command-1005514274519437>:57: FutureWarning: The frame.append method is deprecated and will be removed from pandas in a future version. Use pandas.concat instead.\n  visualize_quater_final = visualize_quater_final.append({'quaterFinal': ''}, ignore_index=True)\n<command-1005514274519437>:57: FutureWarning: The frame.append method is deprecated and will be removed from pandas in a future version. Use pandas.concat instead.\n  visualize_quater_final = visualize_quater_final.append({'quaterFinal': ''}, ignore_index=True)\n<command-1005514274519437>:57: FutureWarning: The frame.append method is deprecated and will be removed from pandas in a future version. Use pandas.concat instead.\n  visualize_quater_final = visualize_quater_final.append({'quaterFinal': ''}, ignore_index=True)\n<command-1005514274519437>:52: FutureWarning: The frame.append method is deprecated and will be removed from pandas in a future version. Use pandas.concat instead.\n  visualize_quater_final = visualize_quater_final.append({'quaterFinal': row['Result']}, ignore_index=True)\n<command-1005514274519437>:52: FutureWarning: The frame.append method is deprecated and will be removed from pandas in a future version. Use pandas.concat instead.\n  visualize_quater_final = visualize_quater_final.append({'quaterFinal': row['Result']}, ignore_index=True)\n<command-1005514274519437>:57: FutureWarning: The frame.append method is deprecated and will be removed from pandas in a future version. Use pandas.concat instead.\n  visualize_quater_final = visualize_quater_final.append({'quaterFinal': ''}, ignore_index=True)\n<command-1005514274519437>:57: FutureWarning: The frame.append method is deprecated and will be removed from pandas in a future version. Use pandas.concat instead.\n  visualize_quater_final = visualize_quater_final.append({'quaterFinal': ''}, ignore_index=True)\n<command-1005514274519437>:57: FutureWarning: The frame.append method is deprecated and will be removed from pandas in a future version. Use pandas.concat instead.\n  visualize_quater_final = visualize_quater_final.append({'quaterFinal': ''}, ignore_index=True)\n<command-1005514274519437>:57: FutureWarning: The frame.append method is deprecated and will be removed from pandas in a future version. Use pandas.concat instead.\n  visualize_quater_final = visualize_quater_final.append({'quaterFinal': ''}, ignore_index=True)\n<command-1005514274519437>:57: FutureWarning: The frame.append method is deprecated and will be removed from pandas in a future version. Use pandas.concat instead.\n  visualize_quater_final = visualize_quater_final.append({'quaterFinal': ''}, ignore_index=True)\n<command-1005514274519437>:57: FutureWarning: The frame.append method is deprecated and will be removed from pandas in a future version. Use pandas.concat instead.\n  visualize_quater_final = visualize_quater_final.append({'quaterFinal': ''}, ignore_index=True)\n<command-1005514274519437>:80: FutureWarning: The frame.append method is deprecated and will be removed from pandas in a future version. Use pandas.concat instead.\n  visualize_score_semi = visualize_score_semi.append({'teamscoreSF': ''}, ignore_index=True)\n<command-1005514274519437>:80: FutureWarning: The frame.append method is deprecated and will be removed from pandas in a future version. Use pandas.concat instead.\n  visualize_score_semi = visualize_score_semi.append({'teamscoreSF': ''}, ignore_index=True)\n<command-1005514274519437>:80: FutureWarning: The frame.append method is deprecated and will be removed from pandas in a future version. Use pandas.concat instead.\n  visualize_score_semi = visualize_score_semi.append({'teamscoreSF': ''}, ignore_index=True)\n<command-1005514274519437>:80: FutureWarning: The frame.append method is deprecated and will be removed from pandas in a future version. Use pandas.concat instead.\n  visualize_score_semi = visualize_score_semi.append({'teamscoreSF': ''}, ignore_index=True)\n<command-1005514274519437>:80: FutureWarning: The frame.append method is deprecated and will be removed from pandas in a future version. Use pandas.concat instead.\n  visualize_score_semi = visualize_score_semi.append({'teamscoreSF': ''}, ignore_index=True)\n<command-1005514274519437>:80: FutureWarning: The frame.append method is deprecated and will be removed from pandas in a future version. Use pandas.concat instead.\n  visualize_score_semi = visualize_score_semi.append({'teamscoreSF': ''}, ignore_index=True)\n<command-1005514274519437>:80: FutureWarning: The frame.append method is deprecated and will be removed from pandas in a future version. Use pandas.concat instead.\n  visualize_score_semi = visualize_score_semi.append({'teamscoreSF': ''}, ignore_index=True)\n<command-1005514274519437>:80: FutureWarning: The frame.append method is deprecated and will be removed from pandas in a future version. Use pandas.concat instead.\n  visualize_score_semi = visualize_score_semi.append({'teamscoreSF': ''}, ignore_index=True)\n<command-1005514274519437>:82: FutureWarning: The frame.append method is deprecated and will be removed from pandas in a future version. Use pandas.concat instead.\n  visualize_score_semi = visualize_score_semi.append({'teamscoreSF': row['Team1Score']}, ignore_index=True)\n<command-1005514274519437>:83: FutureWarning: The frame.append method is deprecated and will be removed from pandas in a future version. Use pandas.concat instead.\n  visualize_score_semi = visualize_score_semi.append({'teamscoreSF': row['Team2Score']}, ignore_index=True)\n<command-1005514274519437>:85: FutureWarning: The frame.append method is deprecated and will be removed from pandas in a future version. Use pandas.concat instead.\n  visualize_score_semi = visualize_score_semi.append({'teamscoreSF': ''}, ignore_index=True)\n<command-1005514274519437>:85: FutureWarning: The frame.append method is deprecated and will be removed from pandas in a future version. Use pandas.concat instead.\n  visualize_score_semi = visualize_score_semi.append({'teamscoreSF': ''}, ignore_index=True)\n<command-1005514274519437>:82: FutureWarning: The frame.append method is deprecated and will be removed from pandas in a future version. Use pandas.concat instead.\n  visualize_score_semi = visualize_score_semi.append({'teamscoreSF': row['Team1Score']}, ignore_index=True)\n<command-1005514274519437>:83: FutureWarning: The frame.append method is deprecated and will be removed from pandas in a future version. Use pandas.concat instead.\n  visualize_score_semi = visualize_score_semi.append({'teamscoreSF': row['Team2Score']}, ignore_index=True)\n<command-1005514274519437>:85: FutureWarning: The frame.append method is deprecated and will be removed from pandas in a future version. Use pandas.concat instead.\n  visualize_score_semi = visualize_score_semi.append({'teamscoreSF': ''}, ignore_index=True)\n<command-1005514274519437>:85: FutureWarning: The frame.append method is deprecated and will be removed from pandas in a future version. Use pandas.concat instead.\n  visualize_score_semi = visualize_score_semi.append({'teamscoreSF': ''}, ignore_index=True)\n<command-1005514274519437>:87: FutureWarning: The frame.append method is deprecated and will be removed from pandas in a future version. Use pandas.concat instead.\n  visualize_score_semi = visualize_score_semi.append({'teamscoreSF': ''}, ignore_index=True)\n<command-1005514274519437>:87: FutureWarning: The frame.append method is deprecated and will be removed from pandas in a future version. Use pandas.concat instead.\n  visualize_score_semi = visualize_score_semi.append({'teamscoreSF': ''}, ignore_index=True)\n<command-1005514274519437>:87: FutureWarning: The frame.append method is deprecated and will be removed from pandas in a future version. Use pandas.concat instead.\n  visualize_score_semi = visualize_score_semi.append({'teamscoreSF': ''}, ignore_index=True)\n<command-1005514274519437>:87: FutureWarning: The frame.append method is deprecated and will be removed from pandas in a future version. Use pandas.concat instead.\n  visualize_score_semi = visualize_score_semi.append({'teamscoreSF': ''}, ignore_index=True)\n<command-1005514274519437>:87: FutureWarning: The frame.append method is deprecated and will be removed from pandas in a future version. Use pandas.concat instead.\n  visualize_score_semi = visualize_score_semi.append({'teamscoreSF': ''}, ignore_index=True)\n<command-1005514274519437>:87: FutureWarning: The frame.append method is deprecated and will be removed from pandas in a future version. Use pandas.concat instead.\n  visualize_score_semi = visualize_score_semi.append({'teamscoreSF': ''}, ignore_index=True)\n<command-1005514274519437>:95: FutureWarning: The frame.append method is deprecated and will be removed from pandas in a future version. Use pandas.concat instead.\n  visualize_semi_final = visualize_semi_final.append({'semiFinal': ''}, ignore_index=True)\n<command-1005514274519437>:95: FutureWarning: The frame.append method is deprecated and will be removed from pandas in a future version. Use pandas.concat instead.\n  visualize_semi_final = visualize_semi_final.append({'semiFinal': ''}, ignore_index=True)\n<command-1005514274519437>:95: FutureWarning: The frame.append method is deprecated and will be removed from pandas in a future version. Use pandas.concat instead.\n  visualize_semi_final = visualize_semi_final.append({'semiFinal': ''}, ignore_index=True)\n<command-1005514274519437>:95: FutureWarning: The frame.append method is deprecated and will be removed from pandas in a future version. Use pandas.concat instead.\n  visualize_semi_final = visualize_semi_final.append({'semiFinal': ''}, ignore_index=True)\n<command-1005514274519437>:95: FutureWarning: The frame.append method is deprecated and will be removed from pandas in a future version. Use pandas.concat instead.\n  visualize_semi_final = visualize_semi_final.append({'semiFinal': ''}, ignore_index=True)\n<command-1005514274519437>:95: FutureWarning: The frame.append method is deprecated and will be removed from pandas in a future version. Use pandas.concat instead.\n  visualize_semi_final = visualize_semi_final.append({'semiFinal': ''}, ignore_index=True)\n<command-1005514274519437>:95: FutureWarning: The frame.append method is deprecated and will be removed from pandas in a future version. Use pandas.concat instead.\n  visualize_semi_final = visualize_semi_final.append({'semiFinal': ''}, ignore_index=True)\n<command-1005514274519437>:95: FutureWarning: The frame.append method is deprecated and will be removed from pandas in a future version. Use pandas.concat instead.\n  visualize_semi_final = visualize_semi_final.append({'semiFinal': ''}, ignore_index=True)\n<command-1005514274519437>:100: FutureWarning: The frame.append method is deprecated and will be removed from pandas in a future version. Use pandas.concat instead.\n  visualize_semi_final = visualize_semi_final.append({'semiFinal': row['Result']}, ignore_index=True)\n<command-1005514274519437>:100: FutureWarning: The frame.append method is deprecated and will be removed from pandas in a future version. Use pandas.concat instead.\n  visualize_semi_final = visualize_semi_final.append({'semiFinal': row['Result']}, ignore_index=True)\n<command-1005514274519437>:104: FutureWarning: The frame.append method is deprecated and will be removed from pandas in a future version. Use pandas.concat instead.\n  visualize_semi_final = visualize_semi_final.append({'semiFinal': ''}, ignore_index=True)\n<command-1005514274519437>:105: FutureWarning: The frame.append method is deprecated and will be removed from pandas in a future version. Use pandas.concat instead.\n  visualize_semi_final = visualize_semi_final.append({'semiFinal': ''}, ignore_index=True)\n<command-1005514274519437>:100: FutureWarning: The frame.append method is deprecated and will be removed from pandas in a future version. Use pandas.concat instead.\n  visualize_semi_final = visualize_semi_final.append({'semiFinal': row['Result']}, ignore_index=True)\n<command-1005514274519437>:100: FutureWarning: The frame.append method is deprecated and will be removed from pandas in a future version. Use pandas.concat instead.\n  visualize_semi_final = visualize_semi_final.append({'semiFinal': row['Result']}, ignore_index=True)\n<command-1005514274519437>:104: FutureWarning: The frame.append method is deprecated and will be removed from pandas in a future version. Use pandas.concat instead.\n  visualize_semi_final = visualize_semi_final.append({'semiFinal': ''}, ignore_index=True)\n<command-1005514274519437>:105: FutureWarning: The frame.append method is deprecated and will be removed from pandas in a future version. Use pandas.concat instead.\n  visualize_semi_final = visualize_semi_final.append({'semiFinal': ''}, ignore_index=True)\n<command-1005514274519437>:107: FutureWarning: The frame.append method is deprecated and will be removed from pandas in a future version. Use pandas.concat instead.\n  visualize_semi_final = visualize_semi_final.append({'semiFinal': ''}, ignore_index=True)\n<command-1005514274519437>:107: FutureWarning: The frame.append method is deprecated and will be removed from pandas in a future version. Use pandas.concat instead.\n  visualize_semi_final = visualize_semi_final.append({'semiFinal': ''}, ignore_index=True)\n<command-1005514274519437>:107: FutureWarning: The frame.append method is deprecated and will be removed from pandas in a future version. Use pandas.concat instead.\n  visualize_semi_final = visualize_semi_final.append({'semiFinal': ''}, ignore_index=True)\n<command-1005514274519437>:107: FutureWarning: The frame.append method is deprecated and will be removed from pandas in a future version. Use pandas.concat instead.\n  visualize_semi_final = visualize_semi_final.append({'semiFinal': ''}, ignore_index=True)\n<command-1005514274519437>:107: FutureWarning: The frame.append method is deprecated and will be removed from pandas in a future version. Use pandas.concat instead.\n  visualize_semi_final = visualize_semi_final.append({'semiFinal': ''}, ignore_index=True)\n<command-1005514274519437>:107: FutureWarning: The frame.append method is deprecated and will be removed from pandas in a future version. Use pandas.concat instead.\n  visualize_semi_final = visualize_semi_final.append({'semiFinal': ''}, ignore_index=True)\n<command-1005514274519437>:117: FutureWarning: The frame.append method is deprecated and will be removed from pandas in a future version. Use pandas.concat instead.\n  visualize_semi_final1 = visualize_semi_final1.append({'semiFinal': '', 'teamscoreSF': '', 'space': ''}, ignore_index=True)\n<command-1005514274519437>:117: FutureWarning: The frame.append method is deprecated and will be removed from pandas in a future version. Use pandas.concat instead.\n  visualize_semi_final1 = visualize_semi_final1.append({'semiFinal': '', 'teamscoreSF': '', 'space': ''}, ignore_index=True)\n<command-1005514274519437>:117: FutureWarning: The frame.append method is deprecated and will be removed from pandas in a future version. Use pandas.concat instead.\n  visualize_semi_final1 = visualize_semi_final1.append({'semiFinal': '', 'teamscoreSF': '', 'space': ''}, ignore_index=True)\n<command-1005514274519437>:117: FutureWarning: The frame.append method is deprecated and will be removed from pandas in a future version. Use pandas.concat instead.\n  visualize_semi_final1 = visualize_semi_final1.append({'semiFinal': '', 'teamscoreSF': '', 'space': ''}, ignore_index=True)\n<command-1005514274519437>:117: FutureWarning: The frame.append method is deprecated and will be removed from pandas in a future version. Use pandas.concat instead.\n  visualize_semi_final1 = visualize_semi_final1.append({'semiFinal': '', 'teamscoreSF': '', 'space': ''}, ignore_index=True)\n<command-1005514274519437>:134: FutureWarning: The frame.append method is deprecated and will be removed from pandas in a future version. Use pandas.concat instead.\n  visualize_final = visualize_final.append({'Finals': ''}, ignore_index=True)\n<command-1005514274519437>:134: FutureWarning: The frame.append method is deprecated and will be removed from pandas in a future version. Use pandas.concat instead.\n  visualize_final = visualize_final.append({'Finals': ''}, ignore_index=True)\n<command-1005514274519437>:134: FutureWarning: The frame.append method is deprecated and will be removed from pandas in a future version. Use pandas.concat instead.\n  visualize_final = visualize_final.append({'Finals': ''}, ignore_index=True)\n<command-1005514274519437>:134: FutureWarning: The frame.append method is deprecated and will be removed from pandas in a future version. Use pandas.concat instead.\n  visualize_final = visualize_final.append({'Finals': ''}, ignore_index=True)\n<command-1005514274519437>:134: FutureWarning: The frame.append method is deprecated and will be removed from pandas in a future version. Use pandas.concat instead.\n  visualize_final = visualize_final.append({'Finals': ''}, ignore_index=True)\n<command-1005514274519437>:134: FutureWarning: The frame.append method is deprecated and will be removed from pandas in a future version. Use pandas.concat instead.\n  visualize_final = visualize_final.append({'Finals': ''}, ignore_index=True)\n<command-1005514274519437>:138: FutureWarning: The frame.append method is deprecated and will be removed from pandas in a future version. Use pandas.concat instead.\n  visualize_final = visualize_final.append({'Finals': f\"{row['Team1']} ({row['Team1Score']})\"}, ignore_index=True)\n<command-1005514274519437>:139: FutureWarning: The frame.append method is deprecated and will be removed from pandas in a future version. Use pandas.concat instead.\n  visualize_final = visualize_final.append({'Finals': f\"{row['Team2']} ({row['Team2Score']})\"}, ignore_index=True)\n<command-1005514274519437>:140: FutureWarning: The frame.append method is deprecated and will be removed from pandas in a future version. Use pandas.concat instead.\n  visualize_final = visualize_final.append({'Finals': f\"Winner: {row['Result']}\"}, ignore_index=True)\n<command-1005514274519437>:147: FutureWarning: The frame.append method is deprecated and will be removed from pandas in a future version. Use pandas.concat instead.\n  visualize_final = visualize_final.append({'Finals': ''}, ignore_index=True)\n<command-1005514274519437>:147: FutureWarning: The frame.append method is deprecated and will be removed from pandas in a future version. Use pandas.concat instead.\n  visualize_final = visualize_final.append({'Finals': ''}, ignore_index=True)\n<command-1005514274519437>:150: FutureWarning: The frame.append method is deprecated and will be removed from pandas in a future version. Use pandas.concat instead.\n  visualize_final = visualize_final.append({'Finals': f\"{row['Team1']} ({row['Team1Score']})\"}, ignore_index=True)\n<command-1005514274519437>:151: FutureWarning: The frame.append method is deprecated and will be removed from pandas in a future version. Use pandas.concat instead.\n  visualize_final = visualize_final.append({'Finals': f\"{row['Team2']} ({row['Team2Score']})\"}, ignore_index=True)\n<command-1005514274519437>:152: FutureWarning: The frame.append method is deprecated and will be removed from pandas in a future version. Use pandas.concat instead.\n  visualize_final = visualize_final.append({'Finals': f\"Third: {row['Result']}\"}, ignore_index=True)\n<command-1005514274519437>:154: FutureWarning: The frame.append method is deprecated and will be removed from pandas in a future version. Use pandas.concat instead.\n  visualize_final = visualize_final.append({'Finals': ''}, ignore_index=True)\n<command-1005514274519437>:154: FutureWarning: The frame.append method is deprecated and will be removed from pandas in a future version. Use pandas.concat instead.\n  visualize_final = visualize_final.append({'Finals': ''}, ignore_index=True)\n/databricks/spark/python/pyspark/sql/pandas/conversion.py:467: UserWarning: createDataFrame attempted Arrow optimization because 'spark.sql.execution.arrow.pyspark.enabled' is set to true; however, failed by the reason below:\n  Expected bytes, got a 'int' object\nAttempting non-optimization as 'spark.sql.execution.arrow.pyspark.fallback.enabled' is set to true.\n  warn(msg)\n"
     ]
    },
    {
     "output_type": "display_data",
     "data": {
      "text/html": [
       "<style scoped>\n",
       "  .table-result-container {\n",
       "    max-height: 300px;\n",
       "    overflow: auto;\n",
       "  }\n",
       "  table, th, td {\n",
       "    border: 1px solid black;\n",
       "    border-collapse: collapse;\n",
       "  }\n",
       "  th, td {\n",
       "    padding: 5px;\n",
       "  }\n",
       "  th {\n",
       "    text-align: left;\n",
       "  }\n",
       "</style><div class='table-result-container'><table class='table-result'><thead style='background-color: white'><tr><th>teamnameg1</th><th>teamgroupg1</th><th>rankingsg1</th><th>pointsg1</th><th>goaldifferenceg1</th><th>spaceg1</th><th>Roundof16</th><th>space</th><th>quaterFinalq1</th><th>teamscoreq1</th><th>spaceq1</th><th>semiFinals1</th><th>teamscoreSFs1</th><th>spaces1</th><th>Finalsf</th><th>spacef</th><th>semiFinals2</th><th>teamscoreSFs2</th><th>spaces2</th><th>quaterFinalq2</th><th>teamscoreq2</th><th>spaceq2</th><th>Roundof16r2</th><th>spacer2</th><th>teamnameg2</th><th>teamgroupg2</th><th>rankingsg2</th><th>pointsg2</th><th>goaldifferenceg2</th></tr></thead><tbody><tr><td></td><td></td><td></td><td></td><td></td><td></td><td></td><td></td><td></td><td></td><td></td><td></td><td></td><td></td><td></td><td></td><td></td><td></td><td></td><td></td><td></td><td></td><td></td><td></td><td></td><td></td><td></td><td></td><td></td></tr><tr><td>Scotland</td><td>A</td><td>1</td><td>9</td><td>10</td><td></td><td></td><td></td><td></td><td></td><td></td><td></td><td></td><td></td><td></td><td></td><td></td><td></td><td></td><td></td><td></td><td></td><td></td><td></td><td>France</td><td>D</td><td>1</td><td>7</td><td>7</td></tr><tr><td>Switzerland</td><td>A</td><td>2</td><td>3</td><td>-3</td><td></td><td>Spain (4)</td><td></td><td></td><td></td><td></td><td></td><td></td><td></td><td></td><td></td><td></td><td></td><td></td><td></td><td></td><td></td><td>Romania (6)</td><td></td><td>Netherlands</td><td>D</td><td>2</td><td>5</td><td>1</td></tr><tr><td>Hungary</td><td>A</td><td>3</td><td>3</td><td>-3</td><td></td><td>Türkiye (3)</td><td></td><td></td><td></td><td></td><td></td><td></td><td></td><td></td><td></td><td></td><td></td><td></td><td></td><td></td><td></td><td>Poland (3)</td><td></td><td>Poland</td><td>D</td><td>3</td><td>4</td><td>-1</td></tr><tr><td>Germany</td><td>A</td><td>4</td><td>3</td><td>-4</td><td></td><td></td><td></td><td>Spain</td><td>3</td><td></td><td></td><td></td><td></td><td></td><td></td><td></td><td></td><td></td><td>Romania</td><td>4</td><td></td><td></td><td></td><td>Austria</td><td>D</td><td>4</td><td>0</td><td>-7</td></tr><tr><td></td><td></td><td></td><td></td><td></td><td></td><td></td><td></td><td>Scotland</td><td>1</td><td></td><td></td><td></td><td></td><td></td><td></td><td></td><td></td><td></td><td>France</td><td>1</td><td></td><td></td><td></td><td></td><td></td><td></td><td></td><td></td></tr><tr><td>Spain</td><td>B</td><td>1</td><td>7</td><td>5</td><td></td><td>Scotland (6)</td><td></td><td></td><td></td><td></td><td></td><td></td><td></td><td>Spain (3)</td><td></td><td></td><td></td><td></td><td></td><td></td><td></td><td>France (5)</td><td></td><td>Romania</td><td>E</td><td>1</td><td>7</td><td>5</td></tr><tr><td>Croatia</td><td>B</td><td>2</td><td>7</td><td>4</td><td></td><td>Serbia (6)</td><td></td><td></td><td></td><td></td><td></td><td></td><td></td><td>Romania (4)</td><td></td><td></td><td></td><td></td><td></td><td></td><td></td><td>Greece (4)</td><td></td><td>Belgium</td><td>E</td><td>2</td><td>6</td><td>1</td></tr><tr><td>Albania</td><td>B</td><td>3</td><td>3</td><td>-3</td><td></td><td></td><td></td><td></td><td></td><td></td><td>Spain</td><td>6</td><td></td><td>Winner: Romania</td><td></td><td>Romania</td><td>5</td><td></td><td></td><td></td><td></td><td></td><td></td><td>Ukraine</td><td>E</td><td>3</td><td>3</td><td>-3</td></tr><tr><td>Italy</td><td>B</td><td>4</td><td>0</td><td>-6</td><td></td><td></td><td></td><td></td><td></td><td></td><td>Belgium</td><td>6</td><td></td><td></td><td></td><td>Croatia</td><td>3</td><td></td><td></td><td></td><td></td><td></td><td></td><td>Slovakia</td><td>E</td><td>4</td><td>1</td><td>-3</td></tr><tr><td></td><td></td><td></td><td></td><td></td><td></td><td>Czech (6)</td><td></td><td></td><td></td><td></td><td></td><td></td><td></td><td></td><td></td><td></td><td></td><td></td><td></td><td></td><td></td><td>Denmark (4)</td><td></td><td></td><td></td><td></td><td></td><td></td></tr><tr><td>Denmark</td><td>C</td><td>1</td><td>6</td><td>1</td><td></td><td>England (5)</td><td></td><td></td><td></td><td></td><td></td><td></td><td></td><td>Croatia (2)</td><td></td><td></td><td></td><td></td><td></td><td></td><td></td><td>Ukraine (3)</td><td></td><td>Czech</td><td>F</td><td>1</td><td>9</td><td>9</td></tr><tr><td>Serbia</td><td>C</td><td>2</td><td>4</td><td>3</td><td></td><td></td><td></td><td>Czech</td><td>2</td><td></td><td></td><td></td><td></td><td>Belgium (1)</td><td></td><td></td><td></td><td></td><td>Denmark</td><td>5</td><td></td><td></td><td></td><td>Greece</td><td>F</td><td>2</td><td>6</td><td>2</td></tr><tr><td>England</td><td>C</td><td>3</td><td>4</td><td>-3</td><td></td><td></td><td></td><td>Belgium</td><td>5</td><td></td><td></td><td></td><td></td><td>Third: Croatia</td><td></td><td></td><td></td><td></td><td>Croatia</td><td>5</td><td></td><td></td><td></td><td>Türkiye</td><td>F</td><td>3</td><td>3</td><td>-1</td></tr><tr><td>Slovenia</td><td>C</td><td>4</td><td>3</td><td>-1</td><td></td><td>Netherlands (4)</td><td></td><td></td><td></td><td></td><td></td><td></td><td></td><td></td><td></td><td></td><td></td><td></td><td></td><td></td><td></td><td>Switzerland (3)</td><td></td><td>Portugal</td><td>F</td><td>4</td><td>0</td><td>-10</td></tr><tr><td></td><td></td><td></td><td></td><td></td><td></td><td>Belgium (6)</td><td></td><td></td><td></td><td></td><td></td><td></td><td></td><td></td><td></td><td></td><td></td><td></td><td></td><td></td><td></td><td>Croatia (6)</td><td></td><td></td><td></td><td></td><td></td><td></td></tr></tbody></table></div>"
      ]
     },
     "metadata": {
      "application/vnd.databricks.v1+output": {
       "addedWidgets": {},
       "aggData": [],
       "aggError": "",
       "aggOverflow": false,
       "aggSchema": [],
       "aggSeriesLimitReached": false,
       "aggType": "",
       "arguments": {},
       "columnCustomDisplayInfos": {},
       "data": [
        [
         "",
         "",
         "",
         "",
         "",
         "",
         "",
         "",
         "",
         "",
         "",
         "",
         "",
         "",
         "",
         "",
         "",
         "",
         "",
         "",
         "",
         "",
         "",
         "",
         "",
         "",
         "",
         "",
         ""
        ],
        [
         "Scotland",
         "A",
         "1",
         "9",
         "10",
         "",
         "",
         "",
         "",
         "",
         "",
         "",
         "",
         "",
         "",
         "",
         "",
         "",
         "",
         "",
         "",
         "",
         "",
         "",
         "France",
         "D",
         "1",
         "7",
         "7"
        ],
        [
         "Switzerland",
         "A",
         "2",
         "3",
         "-3",
         "",
         "Spain (4)",
         "",
         "",
         "",
         "",
         "",
         "",
         "",
         "",
         "",
         "",
         "",
         "",
         "",
         "",
         "",
         "Romania (6)",
         "",
         "Netherlands",
         "D",
         "2",
         "5",
         "1"
        ],
        [
         "Hungary",
         "A",
         "3",
         "3",
         "-3",
         "",
         "Türkiye (3)",
         "",
         "",
         "",
         "",
         "",
         "",
         "",
         "",
         "",
         "",
         "",
         "",
         "",
         "",
         "",
         "Poland (3)",
         "",
         "Poland",
         "D",
         "3",
         "4",
         "-1"
        ],
        [
         "Germany",
         "A",
         "4",
         "3",
         "-4",
         "",
         "",
         "",
         "Spain",
         "3",
         "",
         "",
         "",
         "",
         "",
         "",
         "",
         "",
         "",
         "Romania",
         "4",
         "",
         "",
         "",
         "Austria",
         "D",
         "4",
         "0",
         "-7"
        ],
        [
         "",
         "",
         "",
         "",
         "",
         "",
         "",
         "",
         "Scotland",
         "1",
         "",
         "",
         "",
         "",
         "",
         "",
         "",
         "",
         "",
         "France",
         "1",
         "",
         "",
         "",
         "",
         "",
         "",
         "",
         ""
        ],
        [
         "Spain",
         "B",
         "1",
         "7",
         "5",
         "",
         "Scotland (6)",
         "",
         "",
         "",
         "",
         "",
         "",
         "",
         "Spain (3)",
         "",
         "",
         "",
         "",
         "",
         "",
         "",
         "France (5)",
         "",
         "Romania",
         "E",
         "1",
         "7",
         "5"
        ],
        [
         "Croatia",
         "B",
         "2",
         "7",
         "4",
         "",
         "Serbia (6)",
         "",
         "",
         "",
         "",
         "",
         "",
         "",
         "Romania (4)",
         "",
         "",
         "",
         "",
         "",
         "",
         "",
         "Greece (4)",
         "",
         "Belgium",
         "E",
         "2",
         "6",
         "1"
        ],
        [
         "Albania",
         "B",
         "3",
         "3",
         "-3",
         "",
         "",
         "",
         "",
         "",
         "",
         "Spain",
         "6",
         "",
         "Winner: Romania",
         "",
         "Romania",
         "5",
         "",
         "",
         "",
         "",
         "",
         "",
         "Ukraine",
         "E",
         "3",
         "3",
         "-3"
        ],
        [
         "Italy",
         "B",
         "4",
         "0",
         "-6",
         "",
         "",
         "",
         "",
         "",
         "",
         "Belgium",
         "6",
         "",
         "",
         "",
         "Croatia",
         "3",
         "",
         "",
         "",
         "",
         "",
         "",
         "Slovakia",
         "E",
         "4",
         "1",
         "-3"
        ],
        [
         "",
         "",
         "",
         "",
         "",
         "",
         "Czech (6)",
         "",
         "",
         "",
         "",
         "",
         "",
         "",
         "",
         "",
         "",
         "",
         "",
         "",
         "",
         "",
         "Denmark (4)",
         "",
         "",
         "",
         "",
         "",
         ""
        ],
        [
         "Denmark",
         "C",
         "1",
         "6",
         "1",
         "",
         "England (5)",
         "",
         "",
         "",
         "",
         "",
         "",
         "",
         "Croatia (2)",
         "",
         "",
         "",
         "",
         "",
         "",
         "",
         "Ukraine (3)",
         "",
         "Czech",
         "F",
         "1",
         "9",
         "9"
        ],
        [
         "Serbia",
         "C",
         "2",
         "4",
         "3",
         "",
         "",
         "",
         "Czech",
         "2",
         "",
         "",
         "",
         "",
         "Belgium (1)",
         "",
         "",
         "",
         "",
         "Denmark",
         "5",
         "",
         "",
         "",
         "Greece",
         "F",
         "2",
         "6",
         "2"
        ],
        [
         "England",
         "C",
         "3",
         "4",
         "-3",
         "",
         "",
         "",
         "Belgium",
         "5",
         "",
         "",
         "",
         "",
         "Third: Croatia",
         "",
         "",
         "",
         "",
         "Croatia",
         "5",
         "",
         "",
         "",
         "Türkiye",
         "F",
         "3",
         "3",
         "-1"
        ],
        [
         "Slovenia",
         "C",
         "4",
         "3",
         "-1",
         "",
         "Netherlands (4)",
         "",
         "",
         "",
         "",
         "",
         "",
         "",
         "",
         "",
         "",
         "",
         "",
         "",
         "",
         "",
         "Switzerland (3)",
         "",
         "Portugal",
         "F",
         "4",
         "0",
         "-10"
        ],
        [
         "",
         "",
         "",
         "",
         "",
         "",
         "Belgium (6)",
         "",
         "",
         "",
         "",
         "",
         "",
         "",
         "",
         "",
         "",
         "",
         "",
         "",
         "",
         "",
         "Croatia (6)",
         "",
         "",
         "",
         "",
         "",
         ""
        ]
       ],
       "datasetInfos": [],
       "dbfsResultPath": null,
       "isJsonSchema": true,
       "metadata": {},
       "overflow": false,
       "plotOptions": {
        "customPlotOptions": {},
        "displayType": "table",
        "pivotAggregation": null,
        "pivotColumns": null,
        "xColumns": null,
        "yColumns": null
       },
       "removedWidgets": [],
       "schema": [
        {
         "metadata": "{}",
         "name": "teamnameg1",
         "type": "\"string\""
        },
        {
         "metadata": "{}",
         "name": "teamgroupg1",
         "type": "\"string\""
        },
        {
         "metadata": "{}",
         "name": "rankingsg1",
         "type": "\"string\""
        },
        {
         "metadata": "{}",
         "name": "pointsg1",
         "type": "\"string\""
        },
        {
         "metadata": "{}",
         "name": "goaldifferenceg1",
         "type": "\"string\""
        },
        {
         "metadata": "{}",
         "name": "spaceg1",
         "type": "\"string\""
        },
        {
         "metadata": "{}",
         "name": "Roundof16",
         "type": "\"string\""
        },
        {
         "metadata": "{}",
         "name": "space",
         "type": "\"string\""
        },
        {
         "metadata": "{}",
         "name": "quaterFinalq1",
         "type": "\"string\""
        },
        {
         "metadata": "{}",
         "name": "teamscoreq1",
         "type": "\"string\""
        },
        {
         "metadata": "{}",
         "name": "spaceq1",
         "type": "\"string\""
        },
        {
         "metadata": "{}",
         "name": "semiFinals1",
         "type": "\"string\""
        },
        {
         "metadata": "{}",
         "name": "teamscoreSFs1",
         "type": "\"string\""
        },
        {
         "metadata": "{}",
         "name": "spaces1",
         "type": "\"string\""
        },
        {
         "metadata": "{}",
         "name": "Finalsf",
         "type": "\"string\""
        },
        {
         "metadata": "{}",
         "name": "spacef",
         "type": "\"string\""
        },
        {
         "metadata": "{}",
         "name": "semiFinals2",
         "type": "\"string\""
        },
        {
         "metadata": "{}",
         "name": "teamscoreSFs2",
         "type": "\"string\""
        },
        {
         "metadata": "{}",
         "name": "spaces2",
         "type": "\"string\""
        },
        {
         "metadata": "{}",
         "name": "quaterFinalq2",
         "type": "\"string\""
        },
        {
         "metadata": "{}",
         "name": "teamscoreq2",
         "type": "\"string\""
        },
        {
         "metadata": "{}",
         "name": "spaceq2",
         "type": "\"string\""
        },
        {
         "metadata": "{}",
         "name": "Roundof16r2",
         "type": "\"string\""
        },
        {
         "metadata": "{}",
         "name": "spacer2",
         "type": "\"string\""
        },
        {
         "metadata": "{}",
         "name": "teamnameg2",
         "type": "\"string\""
        },
        {
         "metadata": "{}",
         "name": "teamgroupg2",
         "type": "\"string\""
        },
        {
         "metadata": "{}",
         "name": "rankingsg2",
         "type": "\"string\""
        },
        {
         "metadata": "{}",
         "name": "pointsg2",
         "type": "\"string\""
        },
        {
         "metadata": "{}",
         "name": "goaldifferenceg2",
         "type": "\"string\""
        }
       ],
       "type": "table"
      }
     },
     "output_type": "display_data"
    }
   ],
   "source": [
    "#grup stage table view\n",
    "import pandas as pd\n",
    "from pyspark.sql import SparkSession\n",
    "\n",
    "# Create a SparkSession\n",
    "spark = SparkSession.builder \\\n",
    "    .appName(\"example-app\") \\\n",
    "    .getOrCreate()\n",
    "round_of_16 = spark.sql(\"SELECT * FROM matchesofcountry WHERE stage = 'Roundof 16' order by MatchId\")\n",
    "round_of_16_pandas = round_of_16.toPandas()\n",
    "visualize_table16 = pd.DataFrame(columns=['Roundof16'])\n",
    "visualize_table16 = visualize_table16.append({'Roundof16': ''}, ignore_index=True)\n",
    "visualize_table16 = visualize_table16.append({'Roundof16': ''}, ignore_index=True)\n",
    "for index, row in round_of_16_pandas.iterrows():\n",
    "    visualize_table16 = visualize_table16.append({'Roundof16': f\"{row['Team1']} ({row['Team1Score']})\"}, ignore_index=True)\n",
    "    visualize_table16 = visualize_table16.append({'Roundof16': f\"{row['Team2']} ({row['Team2Score']})\"}, ignore_index=True)\n",
    "    \n",
    "    # Insert 2 blank rows after every record\n",
    "    visualize_table16 = visualize_table16.append({'Roundof16': ''}, ignore_index=True)\n",
    "    visualize_table16 = visualize_table16.append({'Roundof16': ''}, ignore_index=True)\n",
    "visualize_table16['space'] = ''\n",
    "\n",
    "split_index = len(visualize_table16) // 2 - 1\n",
    "\n",
    "# Split the final DataFrame into two halves\n",
    "visualize_table16pool1 = visualize_table16.iloc[:split_index].reset_index(drop=True)\n",
    "visualize_table16pool2 = visualize_table16.iloc[split_index:].reset_index(drop=True)\n",
    "visualize_table16pool2 = visualize_table16pool2.drop(visualize_table16pool2.tail(2).index)\n",
    "\n",
    "#Quater final score\n",
    "quater_final_score = spark.sql(\"SELECT * FROM matchesofcountry WHERE stage = 'Quater Final' ORDER BY MatchId\")\n",
    "quater_final_score_pandas = quater_final_score.toPandas()\n",
    "visualize_score16 = pd.DataFrame(columns=['teamscore'])\n",
    "for i in range(4):\n",
    "    visualize_score16 = visualize_score16.append({'teamscore': ''}, ignore_index=True)\n",
    "for index, row in quater_final_score_pandas.iterrows():\n",
    "    # Insert two records\n",
    "    visualize_score16 = visualize_score16.append({'teamscore': row['Team1Score']}, ignore_index=True)\n",
    "    visualize_score16 = visualize_score16.append({'teamscore': row['Team2Score']}, ignore_index=True)\n",
    "    for i in range(6):\n",
    "        visualize_score16 = visualize_score16.append({'teamscore': ''}, ignore_index=True)\n",
    "visualize_score16 = visualize_score16.drop(visualize_score16.tail(3).index)\n",
    "\n",
    "# quater final table view\n",
    "quater_final = spark.sql(\"SELECT * FROM matchesofcountry WHERE stage = 'Roundof 16' ORDER BY MatchId\")\n",
    "quater_final_pandas = quater_final.toPandas()\n",
    "visualize_quater_final = pd.DataFrame(columns=['quaterFinal'])\n",
    "for i in range(4):\n",
    "    visualize_quater_final = visualize_quater_final.append({'quaterFinal': ''}, ignore_index=True)\n",
    "for index, row in quater_final_pandas.iterrows():\n",
    "    # Insert two records\n",
    "    visualize_quater_final = visualize_quater_final.append({'quaterFinal': row['Result']}, ignore_index=True)\n",
    "    \n",
    "    # Insert 2 blank rows after every two records\n",
    "    if (index + 1) % 2 == 0:\n",
    "        for i in range(6):\n",
    "            visualize_quater_final = visualize_quater_final.append({'quaterFinal': ''}, ignore_index=True)\n",
    "visualize_quater_final = visualize_quater_final.drop(visualize_quater_final.tail(3).index)\n",
    "\n",
    "# Concatenate the DataFrames\n",
    "visualize_quater_final = pd.concat([visualize_quater_final, visualize_score16], axis=1)\n",
    "\n",
    "visualize_quater_final['space'] = ''\n",
    "\n",
    "# Split the DataFrame into two halves\n",
    "half_length = len(visualize_quater_final) // 2\n",
    "\n",
    "visualize_quater_final1 = pd.DataFrame(columns=['quaterFinal'])\n",
    "visualize_quater_final1 = pd.concat([visualize_quater_final1, visualize_quater_final.iloc[:half_length]]).reset_index(drop=True)\n",
    "\n",
    "visualize_quater_final2 = pd.DataFrame(columns=['quaterFinal'])\n",
    "visualize_quater_final2 = pd.concat([visualize_quater_final2, visualize_quater_final.iloc[half_length:]]).reset_index(drop=True)\n",
    "visualize_quater_final2 = visualize_quater_final2.drop(visualize_quater_final2.tail(1).index)\n",
    "\n",
    "# semifinal score\n",
    "semi_final_score = spark.sql(\"SELECT * FROM matchesofcountry WHERE stage = 'Semi Final' ORDER BY MatchId\")\n",
    "semi_final_score_pandas = semi_final_score.toPandas()\n",
    "visualize_score_semi = pd.DataFrame(columns=['teamscoreSF'])\n",
    "for i in range(8):\n",
    "    visualize_score_semi = visualize_score_semi.append({'teamscoreSF': ''}, ignore_index=True)\n",
    "for index, row in semi_final_score_pandas.iterrows():\n",
    "    visualize_score_semi = visualize_score_semi.append({'teamscoreSF': row['Team1Score']}, ignore_index=True)\n",
    "    visualize_score_semi = visualize_score_semi.append({'teamscoreSF': row['Team2Score']}, ignore_index=True)\n",
    "    for i in range(2):\n",
    "        visualize_score_semi = visualize_score_semi.append({'teamscoreSF': ''}, ignore_index=True)\n",
    "for i in range(6):\n",
    "        visualize_score_semi = visualize_score_semi.append({'teamscoreSF': ''}, ignore_index=True)\n",
    "\n",
    "# semifinal table view\n",
    "\n",
    "semi_final = spark.sql(\"SELECT * FROM matchesofcountry WHERE stage = 'Quater Final' ORDER BY MatchId\")\n",
    "semi_final_pandas = semi_final.toPandas()\n",
    "visualize_semi_final = pd.DataFrame(columns=['semiFinal'])\n",
    "for i in range(8):\n",
    "    visualize_semi_final = visualize_semi_final.append({'semiFinal': ''}, ignore_index=True)\n",
    "\n",
    "# Iterate over each row in quater_final_pandas DataFrame\n",
    "for index, row in semi_final_pandas.iterrows():\n",
    "    # Insert two records\n",
    "    visualize_semi_final = visualize_semi_final.append({'semiFinal': row['Result']}, ignore_index=True)\n",
    "    \n",
    "    # Insert 2 blank rows after every two records\n",
    "    if (index + 1) % 2 == 0:\n",
    "        visualize_semi_final = visualize_semi_final.append({'semiFinal': ''}, ignore_index=True)\n",
    "        visualize_semi_final = visualize_semi_final.append({'semiFinal': ''}, ignore_index=True)\n",
    "for i in range(6):\n",
    "    visualize_semi_final = visualize_semi_final.append({'semiFinal': ''}, ignore_index=True)\n",
    "visualize_semi_final = pd.concat([visualize_semi_final, visualize_score_semi], axis=1)\n",
    "visualize_semi_final['space'] = ''\n",
    "# Split the DataFrame into two halves\n",
    "half_length = len(visualize_semi_final) // 2\n",
    "\n",
    "# Create visualize_quater_final1 DataFrame with 4 blank rows at the beginning\n",
    "visualize_semi_final1 = pd.DataFrame(columns=['semiFinal'])\n",
    "visualize_semi_final1 = pd.concat([visualize_semi_final1, visualize_semi_final.iloc[:half_length]]).reset_index(drop=True)\n",
    "for i in range(5):\n",
    "    visualize_semi_final1 = visualize_semi_final1.append({'semiFinal': '', 'teamscoreSF': '', 'space': ''}, ignore_index=True)\n",
    "# Create visualize_quater_final2 DataFrame with 4 blank rows at the beginning\n",
    "visualize_semi_final2 = pd.DataFrame({'semiFinal': [''] * 7, 'teamscoreSF': [''] * 7,'space': [''] * 7})\n",
    "visualize_semi_final2 = pd.concat([visualize_semi_final2, visualize_semi_final.iloc[half_length:]]).reset_index(drop=True)\n",
    "visualize_semi_final2 = visualize_semi_final2.drop(visualize_semi_final2.tail(2).index)\n",
    "\n",
    "# final table view\n",
    "final = spark.sql(\"SELECT * FROM matchesofcountry WHERE stage = 'Final' ORDER BY MatchId\")\n",
    "third = spark.sql(\"SELECT * FROM matchesofcountry WHERE stage = 'Third Place' ORDER BY MatchId\")\n",
    "\n",
    "# Convert the DataFrame to a Pandas DataFrame\n",
    "final_pandas = final.toPandas()\n",
    "third_pandas = third.toPandas()\n",
    "\n",
    "# Create a new DataFrame to store the teamnames\n",
    "visualize_final = pd.DataFrame(columns=['Finals'])\n",
    "for i in range(6):\n",
    "    visualize_final = visualize_final.append({'Finals': ''}, ignore_index=True)\n",
    "\n",
    "# Iterate over each row in quater_final_pandas DataFrame\n",
    "for index, row in final_pandas.iterrows():\n",
    "    visualize_final = visualize_final.append({'Finals': f\"{row['Team1']} ({row['Team1Score']})\"}, ignore_index=True)\n",
    "    visualize_final = visualize_final.append({'Finals': f\"{row['Team2']} ({row['Team2Score']})\"}, ignore_index=True)\n",
    "    visualize_final = visualize_final.append({'Finals': f\"Winner: {row['Result']}\"}, ignore_index=True)\n",
    "    \n",
    "    # Insert 2 blank rows after every two records\n",
    "    if (index + 1) % 2 == 0:\n",
    "        visualize_final = visualize_final.append({'Finals': ''}, ignore_index=True)\n",
    "        visualize_final = visualize_final.append({'Finals': ''}, ignore_index=True)\n",
    "    for i in range(2):\n",
    "        visualize_final = visualize_final.append({'Finals': ''}, ignore_index=True)\n",
    "for index, row in third_pandas.iterrows():\n",
    "    # Insert two records\n",
    "    visualize_final = visualize_final.append({'Finals': f\"{row['Team1']} ({row['Team1Score']})\"}, ignore_index=True)\n",
    "    visualize_final = visualize_final.append({'Finals': f\"{row['Team2']} ({row['Team2Score']})\"}, ignore_index=True)\n",
    "    visualize_final = visualize_final.append({'Finals': f\"Third: {row['Result']}\"}, ignore_index=True)\n",
    "for i in range(2):\n",
    "    visualize_final = visualize_final.append({'Finals': ''}, ignore_index=True)\n",
    "visualize_final['space'] = ''\n",
    "\n",
    "# mearging gropstage pool and quaterfinal\n",
    "visualize_quater_final1.columns = [f\"{col}q1\" for col in visualize_quater_final1.columns]\n",
    "merged_df = pd.concat([visualize_table16pool1, visualize_quater_final1], axis=1)\n",
    "\n",
    "visualize_semi_final1.columns = [f\"{col}s1\" for col in visualize_semi_final1.columns]\n",
    "merged_df = pd.concat([merged_df, visualize_semi_final1], axis=1)\n",
    "\n",
    "visualize_final.columns = [f\"{col}f\" for col in visualize_final.columns]\n",
    "merged_df = pd.concat([merged_df, visualize_final], axis=1)\n",
    "\n",
    "visualize_semi_final2.columns = [f\"{col}s2\" for col in visualize_semi_final2.columns]\n",
    "\n",
    "# Concatenate the DataFrames\n",
    "merged_df = pd.concat([merged_df, visualize_semi_final2], axis=1)\n",
    "\n",
    "visualize_quater_final2.columns = [f\"{col}q2\" for col in visualize_quater_final2.columns]\n",
    "\n",
    "# Concatenate the DataFrames\n",
    "merged_df = pd.concat([merged_df, visualize_quater_final2], axis=1)\n",
    "\n",
    "visualize_table16pool2.columns = [f\"{col}r2\" for col in visualize_table16pool2.columns]\n",
    "\n",
    "# Concatenate the DataFrames\n",
    "merged_df = pd.concat([merged_df, visualize_table16pool2], axis=1)\n",
    "\n",
    "visualize_table_with_blanks1.columns = [f\"{col}g1\" for col in visualize_table_with_blanks1.columns]\n",
    "visualize_table_with_blanks2.columns = [f\"{col}g2\" for col in visualize_table_with_blanks2.columns]\n",
    "\n",
    "# Concatenate the DataFrames\n",
    "merged_df = pd.concat([visualize_table_with_blanks1,merged_df, visualize_table_with_blanks2], axis=1)\n",
    "\n",
    "# Display the merged DataFrame\n",
    "display(merged_df)"
   ]
  },
  {
   "cell_type": "code",
   "execution_count": 0,
   "metadata": {
    "application/vnd.databricks.v1+cell": {
     "cellMetadata": {
      "byteLimit": 2048000,
      "rowLimit": 10000
     },
     "inputWidgets": {},
     "nuid": "24c7652a-16de-4f46-bee1-5e8d1d10d848",
     "showTitle": false,
     "title": ""
    }
   },
   "outputs": [],
   "source": []
  }
 ],
 "metadata": {
  "application/vnd.databricks.v1+notebook": {
   "dashboards": [],
   "language": "python",
   "notebookMetadata": {
    "mostRecentlyExecutedCommandWithImplicitDF": {
     "commandId": 166991860529531,
     "dataframes": [
      "_sqldf"
     ]
    },
    "pythonIndentUnit": 4
   },
   "notebookName": "EuroCup2024(dipesh_Tripathi)",
   "widgets": {}
  }
 },
 "nbformat": 4,
 "nbformat_minor": 0
}
