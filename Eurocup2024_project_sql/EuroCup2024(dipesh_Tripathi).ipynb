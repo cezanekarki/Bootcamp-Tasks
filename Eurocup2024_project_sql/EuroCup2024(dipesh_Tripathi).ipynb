{
 "cells": [
  {
   "cell_type": "markdown",
   "metadata": {
    "application/vnd.databricks.v1+cell": {
     "cellMetadata": {
      "byteLimit": 2048000,
      "rowLimit": 10000
     },
     "inputWidgets": {},
     "nuid": "7a6d820e-9855-4d76-9c9b-28f1a2a39f78",
     "showTitle": false,
     "title": ""
    }
   },
   "source": [
    "# EuroCup 2024 Here We Go"
   ]
  },
  {
   "cell_type": "markdown",
   "metadata": {
    "application/vnd.databricks.v1+cell": {
     "cellMetadata": {
      "byteLimit": 2048000,
      "rowLimit": 10000
     },
     "inputWidgets": {},
     "nuid": "e082b542-57a2-4dfe-bd4e-0bc91d2d048f",
     "showTitle": false,
     "title": ""
    }
   },
   "source": [
    "### EuroCup Logo\n",
    "\n",
    "![EuroTiesheet](/files/tables/eurobw.jpg)"
   ]
  },
  {
   "cell_type": "markdown",
   "metadata": {
    "application/vnd.databricks.v1+cell": {
     "cellMetadata": {
      "byteLimit": 2048000,
      "rowLimit": 10000
     },
     "inputWidgets": {},
     "nuid": "42b9ef99-708e-41f0-b1e1-ce5589344462",
     "showTitle": false,
     "title": ""
    }
   },
   "source": [
    "### Playoffs Consideration\n",
    "\n",
    "- Path A: Wales/Finland vs Poland/Estonia (Poland)\n",
    "- Path B: Bosnia and Herzegovina/Ukraine vs Israel/Iceland (Ukraine)\n",
    "- Path C: Georgia/Luxembourg vs Greece/Kazakhstan (Greece)"
   ]
  },
  {
   "cell_type": "markdown",
   "metadata": {
    "application/vnd.databricks.v1+cell": {
     "cellMetadata": {
      "byteLimit": 2048000,
      "rowLimit": 10000
     },
     "inputWidgets": {},
     "nuid": "43f5ec1a-c10a-4fa2-9370-022533b93fca",
     "showTitle": false,
     "title": ""
    }
   },
   "source": [
    "## Adding All team to teams table"
   ]
  },
  {
   "cell_type": "code",
   "execution_count": 0,
   "metadata": {
    "application/vnd.databricks.v1+cell": {
     "cellMetadata": {
      "byteLimit": 2048000,
      "rowLimit": 10000
     },
     "inputWidgets": {},
     "nuid": "54160074-f15f-482e-9f49-0815760ce3e3",
     "showTitle": false,
     "title": ""
    }
   },
   "outputs": [
    {
     "output_type": "display_data",
     "data": {
      "text/html": [
       "<style scoped>\n",
       "  .table-result-container {\n",
       "    max-height: 300px;\n",
       "    overflow: auto;\n",
       "  }\n",
       "  table, th, td {\n",
       "    border: 1px solid black;\n",
       "    border-collapse: collapse;\n",
       "  }\n",
       "  th, td {\n",
       "    padding: 5px;\n",
       "  }\n",
       "  th {\n",
       "    text-align: left;\n",
       "  }\n",
       "</style><div class='table-result-container'><table class='table-result'><thead style='background-color: white'><tr><th>TeamId</th><th>TeamName</th><th>TeamGroup</th></tr></thead><tbody><tr><td>1</td><td>Germany</td><td>A</td></tr><tr><td>2</td><td>Scotland</td><td>A</td></tr><tr><td>3</td><td>Hungary</td><td>A</td></tr><tr><td>4</td><td>Switzerland</td><td>A</td></tr><tr><td>5</td><td>Spain</td><td>B</td></tr><tr><td>6</td><td>Croatia</td><td>B</td></tr><tr><td>7</td><td>Italy</td><td>B</td></tr><tr><td>8</td><td>Albania</td><td>B</td></tr><tr><td>9</td><td>Slovenia</td><td>C</td></tr><tr><td>10</td><td>Denmark</td><td>C</td></tr><tr><td>11</td><td>Serbia</td><td>C</td></tr><tr><td>12</td><td>England</td><td>C</td></tr><tr><td>13</td><td>Poland</td><td>D</td></tr><tr><td>14</td><td>Netherlands</td><td>D</td></tr><tr><td>15</td><td>Austria</td><td>D</td></tr><tr><td>16</td><td>France</td><td>D</td></tr><tr><td>17</td><td>Belgium</td><td>E</td></tr><tr><td>18</td><td>Slovakia</td><td>E</td></tr><tr><td>19</td><td>Romania</td><td>E</td></tr><tr><td>20</td><td>Ukraine</td><td>E</td></tr><tr><td>21</td><td>Türkiye</td><td>F</td></tr><tr><td>22</td><td>Greece</td><td>F</td></tr><tr><td>23</td><td>Portugal</td><td>F</td></tr><tr><td>24</td><td>Czech</td><td>F</td></tr></tbody></table></div>"
      ]
     },
     "metadata": {
      "application/vnd.databricks.v1+output": {
       "addedWidgets": {},
       "aggData": [],
       "aggError": "",
       "aggOverflow": false,
       "aggSchema": [],
       "aggSeriesLimitReached": false,
       "aggType": "",
       "arguments": {},
       "columnCustomDisplayInfos": {},
       "data": [
        [
         1,
         "Germany",
         "A"
        ],
        [
         2,
         "Scotland",
         "A"
        ],
        [
         3,
         "Hungary",
         "A"
        ],
        [
         4,
         "Switzerland",
         "A"
        ],
        [
         5,
         "Spain",
         "B"
        ],
        [
         6,
         "Croatia",
         "B"
        ],
        [
         7,
         "Italy",
         "B"
        ],
        [
         8,
         "Albania",
         "B"
        ],
        [
         9,
         "Slovenia",
         "C"
        ],
        [
         10,
         "Denmark",
         "C"
        ],
        [
         11,
         "Serbia",
         "C"
        ],
        [
         12,
         "England",
         "C"
        ],
        [
         13,
         "Poland",
         "D"
        ],
        [
         14,
         "Netherlands",
         "D"
        ],
        [
         15,
         "Austria",
         "D"
        ],
        [
         16,
         "France",
         "D"
        ],
        [
         17,
         "Belgium",
         "E"
        ],
        [
         18,
         "Slovakia",
         "E"
        ],
        [
         19,
         "Romania",
         "E"
        ],
        [
         20,
         "Ukraine",
         "E"
        ],
        [
         21,
         "Türkiye",
         "F"
        ],
        [
         22,
         "Greece",
         "F"
        ],
        [
         23,
         "Portugal",
         "F"
        ],
        [
         24,
         "Czech",
         "F"
        ]
       ],
       "datasetInfos": [],
       "dbfsResultPath": null,
       "isJsonSchema": true,
       "metadata": {
        "isDbfsCommandResult": false
       },
       "overflow": false,
       "plotOptions": {
        "customPlotOptions": {},
        "displayType": "table",
        "pivotAggregation": null,
        "pivotColumns": null,
        "xColumns": null,
        "yColumns": null
       },
       "removedWidgets": [],
       "schema": [
        {
         "metadata": "{}",
         "name": "TeamId",
         "type": "\"integer\""
        },
        {
         "metadata": "{\"__CHAR_VARCHAR_TYPE_STRING\":\"varchar(255)\"}",
         "name": "TeamName",
         "type": "\"string\""
        },
        {
         "metadata": "{\"__CHAR_VARCHAR_TYPE_STRING\":\"varchar(255)\"}",
         "name": "TeamGroup",
         "type": "\"string\""
        }
       ],
       "type": "table"
      }
     },
     "output_type": "display_data"
    }
   ],
   "source": [
    "%sql\n",
    "-- Create or replace the table with the OVERWRITE option\n",
    "CREATE OR REPLACE TABLE allteams (\n",
    "  TeamId INTEGER,\n",
    "  TeamName VARCHAR(255),\n",
    "  TeamGroup VARCHAR(255)\n",
    ");\n",
    "-- Insert the provided data into the \"allteams\" table\n",
    "INSERT INTO allteams (TeamId, TeamName, TeamGroup)\n",
    "VALUES\n",
    "  (1, 'Germany', 'A'),\n",
    "  (2, 'Scotland', 'A'),\n",
    "  (3, 'Hungary', 'A'),\n",
    "  (4, 'Switzerland', 'A'),\n",
    "  (5, 'Spain', 'B'),\n",
    "  (6, 'Croatia', 'B'),\n",
    "  (7, 'Italy', 'B'),\n",
    "  (8, 'Albania', 'B'),\n",
    "  (9, 'Slovenia', 'C'),\n",
    "  (10, 'Denmark', 'C'),\n",
    "  (11, 'Serbia', 'C'),\n",
    "  (12, 'England', 'C'),\n",
    "  (13, 'Poland', 'D'),\n",
    "  (14, 'Netherlands', 'D'),\n",
    "  (15, 'Austria', 'D'),\n",
    "  (16, 'France', 'D'),\n",
    "  (17, 'Belgium', 'E'),\n",
    "  (18, 'Slovakia', 'E'),\n",
    "  (19, 'Romania', 'E'),\n",
    "  (20, 'Ukraine', 'E'),\n",
    "  (21, 'Türkiye', 'F'),\n",
    "  (22, 'Greece', 'F'),\n",
    "  (23, 'Portugal', 'F'),\n",
    "  (24, 'Czech', 'F');\n",
    "\n",
    "-- Verify the data in the \"allteams\" table\n",
    "SELECT * FROM allteams;\n"
   ]
  },
  {
   "cell_type": "markdown",
   "metadata": {
    "application/vnd.databricks.v1+cell": {
     "cellMetadata": {
      "byteLimit": 2048000,
      "rowLimit": 10000
     },
     "inputWidgets": {},
     "nuid": "06cee1fd-4da5-42ec-abb9-faa615cfbd91",
     "showTitle": false,
     "title": ""
    }
   },
   "source": [
    "rm -r dbfs:/user/hive/warehouse/thirdplacecombo"
   ]
  },
  {
   "cell_type": "markdown",
   "metadata": {
    "application/vnd.databricks.v1+cell": {
     "cellMetadata": {
      "byteLimit": 2048000,
      "rowLimit": 10000
     },
     "inputWidgets": {},
     "nuid": "acf521af-1e98-43d8-95f4-ef4252c2080a",
     "showTitle": false,
     "title": ""
    }
   },
   "source": [
    "### EuroTiesheet\n",
    "\n",
    "![EuroTiesheet](/files/tables/EuroTiesheet.png)"
   ]
  },
  {
   "cell_type": "markdown",
   "metadata": {
    "application/vnd.databricks.v1+cell": {
     "cellMetadata": {
      "byteLimit": 2048000,
      "rowLimit": 10000
     },
     "inputWidgets": {},
     "nuid": "856f606b-9419-4df5-91bb-ba9077dda427",
     "showTitle": false,
     "title": ""
    }
   },
   "source": [
    "### Total Combination for third palce\n",
    "\n",
    "![EuroTiesheet](/files/tables/comb.png)"
   ]
  },
  {
   "cell_type": "markdown",
   "metadata": {
    "application/vnd.databricks.v1+cell": {
     "cellMetadata": {
      "byteLimit": 2048000,
      "rowLimit": 10000
     },
     "inputWidgets": {},
     "nuid": "08879caa-671a-456e-a130-9a73384acb52",
     "showTitle": false,
     "title": ""
    }
   },
   "source": [
    "## Creating table for the above combination \n",
    "-The specific match-ups involving the third-placed teams depend on which four third-placed teams qualify for the round of 16"
   ]
  },
  {
   "cell_type": "code",
   "execution_count": 0,
   "metadata": {
    "application/vnd.databricks.v1+cell": {
     "cellMetadata": {
      "byteLimit": 2048000,
      "rowLimit": 10000
     },
     "inputWidgets": {},
     "nuid": "6ede93ce-dd68-4088-945a-1db9e61e4025",
     "showTitle": false,
     "title": ""
    }
   },
   "outputs": [
    {
     "output_type": "display_data",
     "data": {
      "text/html": [
       "<style scoped>\n",
       "  .table-result-container {\n",
       "    max-height: 300px;\n",
       "    overflow: auto;\n",
       "  }\n",
       "  table, th, td {\n",
       "    border: 1px solid black;\n",
       "    border-collapse: collapse;\n",
       "  }\n",
       "  th, td {\n",
       "    padding: 5px;\n",
       "  }\n",
       "  th {\n",
       "    text-align: left;\n",
       "  }\n",
       "</style><div class='table-result-container'><table class='table-result'><thead style='background-color: white'><tr><th>ID</th><th>SELECTEDGROUPS</th><th>Team1B</th><th>Team1C</th><th>Team1E</th><th>Team1F</th></tr></thead><tbody><tr><td>1</td><td>ABCD</td><td>A</td><td>D</td><td>B</td><td>C</td></tr><tr><td>2</td><td>ABCE</td><td>A</td><td>E</td><td>B</td><td>C</td></tr><tr><td>3</td><td>ABCF</td><td>A</td><td>F</td><td>B</td><td>C</td></tr><tr><td>4</td><td>ABDE</td><td>D</td><td>E</td><td>A</td><td>B</td></tr><tr><td>5</td><td>ABDF</td><td>D</td><td>F</td><td>A</td><td>B</td></tr><tr><td>6</td><td>ABEF</td><td>E</td><td>F</td><td>B</td><td>A</td></tr><tr><td>7</td><td>ACDE</td><td>E</td><td>D</td><td>C</td><td>A</td></tr><tr><td>8</td><td>ACDF</td><td>F</td><td>D</td><td>C</td><td>A</td></tr><tr><td>9</td><td>ACEF</td><td>E</td><td>F</td><td>C</td><td>A</td></tr><tr><td>10</td><td>ADEF</td><td>E</td><td>F</td><td>D</td><td>A</td></tr><tr><td>11</td><td>BCDE</td><td>E</td><td>D</td><td>B</td><td>C</td></tr><tr><td>12</td><td>BCDF</td><td>F</td><td>D</td><td>C</td><td>B</td></tr><tr><td>13</td><td>BCEF</td><td>F</td><td>E</td><td>C</td><td>B</td></tr><tr><td>14</td><td>BDEF</td><td>F</td><td>E</td><td>D</td><td>B</td></tr><tr><td>15</td><td>CDEF</td><td>F</td><td>E</td><td>D</td><td>C</td></tr></tbody></table></div>"
      ]
     },
     "metadata": {
      "application/vnd.databricks.v1+output": {
       "addedWidgets": {},
       "aggData": [],
       "aggError": "",
       "aggOverflow": false,
       "aggSchema": [],
       "aggSeriesLimitReached": false,
       "aggType": "",
       "arguments": {},
       "columnCustomDisplayInfos": {},
       "data": [
        [
         1,
         "ABCD",
         "A",
         "D",
         "B",
         "C"
        ],
        [
         2,
         "ABCE",
         "A",
         "E",
         "B",
         "C"
        ],
        [
         3,
         "ABCF",
         "A",
         "F",
         "B",
         "C"
        ],
        [
         4,
         "ABDE",
         "D",
         "E",
         "A",
         "B"
        ],
        [
         5,
         "ABDF",
         "D",
         "F",
         "A",
         "B"
        ],
        [
         6,
         "ABEF",
         "E",
         "F",
         "B",
         "A"
        ],
        [
         7,
         "ACDE",
         "E",
         "D",
         "C",
         "A"
        ],
        [
         8,
         "ACDF",
         "F",
         "D",
         "C",
         "A"
        ],
        [
         9,
         "ACEF",
         "E",
         "F",
         "C",
         "A"
        ],
        [
         10,
         "ADEF",
         "E",
         "F",
         "D",
         "A"
        ],
        [
         11,
         "BCDE",
         "E",
         "D",
         "B",
         "C"
        ],
        [
         12,
         "BCDF",
         "F",
         "D",
         "C",
         "B"
        ],
        [
         13,
         "BCEF",
         "F",
         "E",
         "C",
         "B"
        ],
        [
         14,
         "BDEF",
         "F",
         "E",
         "D",
         "B"
        ],
        [
         15,
         "CDEF",
         "F",
         "E",
         "D",
         "C"
        ]
       ],
       "datasetInfos": [],
       "dbfsResultPath": null,
       "isJsonSchema": true,
       "metadata": {
        "isDbfsCommandResult": false
       },
       "overflow": false,
       "plotOptions": {
        "customPlotOptions": {},
        "displayType": "table",
        "pivotAggregation": null,
        "pivotColumns": null,
        "xColumns": null,
        "yColumns": null
       },
       "removedWidgets": [],
       "schema": [
        {
         "metadata": "{}",
         "name": "ID",
         "type": "\"integer\""
        },
        {
         "metadata": "{\"__CHAR_VARCHAR_TYPE_STRING\":\"varchar(4)\"}",
         "name": "SELECTEDGROUPS",
         "type": "\"string\""
        },
        {
         "metadata": "{\"__CHAR_VARCHAR_TYPE_STRING\":\"char(1)\"}",
         "name": "Team1B",
         "type": "\"string\""
        },
        {
         "metadata": "{\"__CHAR_VARCHAR_TYPE_STRING\":\"char(1)\"}",
         "name": "Team1C",
         "type": "\"string\""
        },
        {
         "metadata": "{\"__CHAR_VARCHAR_TYPE_STRING\":\"char(1)\"}",
         "name": "Team1E",
         "type": "\"string\""
        },
        {
         "metadata": "{\"__CHAR_VARCHAR_TYPE_STRING\":\"char(1)\"}",
         "name": "Team1F",
         "type": "\"string\""
        }
       ],
       "type": "table"
      }
     },
     "output_type": "display_data"
    }
   ],
   "source": [
    "%sql\n",
    "CREATE TABLE THIRDPLACECOMBO (\n",
    "  ID INTEGER,\n",
    "  SELECTEDGROUPS VARCHAR(4),\n",
    "  Team1B CHAR(1),\n",
    "  Team1C CHAR(1),\n",
    "  Team1E CHAR(1),\n",
    "  Team1F CHAR(1)\n",
    ");\n",
    "\n",
    "-- Step 2: Insert the provided values into the \"THIRDMATCHUP\" table\n",
    "INSERT INTO THIRDPLACECOMBO (ID, SELECTEDGROUPS, Team1B, Team1C, Team1E, Team1F) VALUES\n",
    "(1, 'ABCD', 'A', 'D', 'B', 'C'),\n",
    "(2, 'ABCE', 'A', 'E', 'B', 'C'),\n",
    "(3, 'ABCF', 'A', 'F', 'B', 'C'),\n",
    "(4, 'ABDE', 'D', 'E', 'A', 'B'),\n",
    "(5, 'ABDF', 'D', 'F', 'A', 'B'),\n",
    "(6, 'ABEF', 'E', 'F', 'B', 'A'),\n",
    "(7, 'ACDE', 'E', 'D', 'C', 'A'),\n",
    "(8, 'ACDF', 'F', 'D', 'C', 'A'),\n",
    "(9, 'ACEF', 'E', 'F', 'C', 'A'),\n",
    "(10, 'ADEF', 'E', 'F', 'D', 'A'),\n",
    "(11, 'BCDE', 'E', 'D', 'B', 'C'),\n",
    "(12, 'BCDF', 'F', 'D', 'C', 'B'),\n",
    "(13, 'BCEF', 'F', 'E', 'C', 'B'),\n",
    "(14, 'BDEF', 'F', 'E', 'D', 'B'),\n",
    "(15, 'CDEF', 'F', 'E', 'D', 'C');\n",
    "\n",
    "\n",
    "select * from THIRDPLACECOMBO\n"
   ]
  },
  {
   "cell_type": "markdown",
   "metadata": {
    "application/vnd.databricks.v1+cell": {
     "cellMetadata": {
      "byteLimit": 2048000,
      "rowLimit": 10000
     },
     "inputWidgets": {},
     "nuid": "e9de1e4d-c5e0-4a90-b9c3-24a0be029231",
     "showTitle": false,
     "title": ""
    }
   },
   "source": [
    "### Playing the Group stage matchies and insert into matchesofcountry table\n",
    "\n",
    "- Define matchesofcountry talbe with required columns to store match outcomes\n",
    "- each team in each group plays with all the other team in the same group\n",
    "- set the score to random number between 1 to 6\n",
    "- update the Result column on the basics of match score, if team1 score and team2 score are same then set Result to draw\n"
   ]
  },
  {
   "cell_type": "code",
   "execution_count": 0,
   "metadata": {
    "application/vnd.databricks.v1+cell": {
     "cellMetadata": {
      "byteLimit": 2048000,
      "rowLimit": 10000
     },
     "inputWidgets": {},
     "nuid": "9acc9242-c852-414c-ae74-bd08d4220083",
     "showTitle": false,
     "title": ""
    }
   },
   "outputs": [
    {
     "output_type": "display_data",
     "data": {
      "text/html": [
       "<style scoped>\n",
       "  .table-result-container {\n",
       "    max-height: 300px;\n",
       "    overflow: auto;\n",
       "  }\n",
       "  table, th, td {\n",
       "    border: 1px solid black;\n",
       "    border-collapse: collapse;\n",
       "  }\n",
       "  th, td {\n",
       "    padding: 5px;\n",
       "  }\n",
       "  th {\n",
       "    text-align: left;\n",
       "  }\n",
       "</style><div class='table-result-container'><table class='table-result'><thead style='background-color: white'><tr><th>MatchId</th><th>Team1</th><th>Team2</th><th>Team1Score</th><th>Team2Score</th><th>Result</th><th>Stage</th></tr></thead><tbody><tr><td>1</td><td>Germany</td><td>Switzerland</td><td>6</td><td>4</td><td>Germany</td><td>group stage</td></tr><tr><td>2</td><td>Germany</td><td>Hungary</td><td>2</td><td>3</td><td>Hungary</td><td>group stage</td></tr><tr><td>3</td><td>Germany</td><td>Scotland</td><td>4</td><td>4</td><td>draw</td><td>group stage</td></tr><tr><td>4</td><td>Scotland</td><td>Switzerland</td><td>2</td><td>2</td><td>draw</td><td>group stage</td></tr><tr><td>5</td><td>Scotland</td><td>Hungary</td><td>3</td><td>6</td><td>Hungary</td><td>group stage</td></tr><tr><td>6</td><td>Hungary</td><td>Switzerland</td><td>1</td><td>6</td><td>Switzerland</td><td>group stage</td></tr><tr><td>7</td><td>Spain</td><td>Albania</td><td>2</td><td>2</td><td>draw</td><td>group stage</td></tr><tr><td>8</td><td>Spain</td><td>Italy</td><td>1</td><td>2</td><td>Italy</td><td>group stage</td></tr><tr><td>9</td><td>Spain</td><td>Croatia</td><td>1</td><td>3</td><td>Croatia</td><td>group stage</td></tr><tr><td>10</td><td>Croatia</td><td>Albania</td><td>5</td><td>4</td><td>Croatia</td><td>group stage</td></tr><tr><td>11</td><td>Croatia</td><td>Italy</td><td>2</td><td>3</td><td>Italy</td><td>group stage</td></tr><tr><td>12</td><td>Italy</td><td>Albania</td><td>2</td><td>4</td><td>Albania</td><td>group stage</td></tr><tr><td>13</td><td>Slovenia</td><td>England</td><td>4</td><td>1</td><td>Slovenia</td><td>group stage</td></tr><tr><td>14</td><td>Slovenia</td><td>Serbia</td><td>6</td><td>2</td><td>Slovenia</td><td>group stage</td></tr><tr><td>15</td><td>Slovenia</td><td>Denmark</td><td>1</td><td>3</td><td>Denmark</td><td>group stage</td></tr><tr><td>16</td><td>Denmark</td><td>England</td><td>3</td><td>6</td><td>England</td><td>group stage</td></tr><tr><td>17</td><td>Denmark</td><td>Serbia</td><td>2</td><td>4</td><td>Serbia</td><td>group stage</td></tr><tr><td>18</td><td>Serbia</td><td>England</td><td>6</td><td>5</td><td>Serbia</td><td>group stage</td></tr><tr><td>19</td><td>Poland</td><td>France</td><td>5</td><td>3</td><td>Poland</td><td>group stage</td></tr><tr><td>20</td><td>Poland</td><td>Austria</td><td>2</td><td>1</td><td>Poland</td><td>group stage</td></tr><tr><td>21</td><td>Poland</td><td>Netherlands</td><td>1</td><td>2</td><td>Netherlands</td><td>group stage</td></tr><tr><td>22</td><td>Netherlands</td><td>France</td><td>3</td><td>6</td><td>France</td><td>group stage</td></tr><tr><td>23</td><td>Netherlands</td><td>Austria</td><td>3</td><td>3</td><td>draw</td><td>group stage</td></tr><tr><td>24</td><td>Austria</td><td>France</td><td>3</td><td>4</td><td>France</td><td>group stage</td></tr><tr><td>25</td><td>Belgium</td><td>Ukraine</td><td>5</td><td>4</td><td>Belgium</td><td>group stage</td></tr><tr><td>26</td><td>Belgium</td><td>Romania</td><td>2</td><td>2</td><td>draw</td><td>group stage</td></tr><tr><td>27</td><td>Belgium</td><td>Slovakia</td><td>6</td><td>5</td><td>Belgium</td><td>group stage</td></tr><tr><td>28</td><td>Slovakia</td><td>Ukraine</td><td>2</td><td>3</td><td>Ukraine</td><td>group stage</td></tr><tr><td>29</td><td>Slovakia</td><td>Romania</td><td>4</td><td>2</td><td>Slovakia</td><td>group stage</td></tr><tr><td>30</td><td>Romania</td><td>Ukraine</td><td>4</td><td>2</td><td>Romania</td><td>group stage</td></tr><tr><td>31</td><td>Türkiye</td><td>Czech</td><td>2</td><td>6</td><td>Czech</td><td>group stage</td></tr><tr><td>32</td><td>Türkiye</td><td>Portugal</td><td>3</td><td>1</td><td>Türkiye</td><td>group stage</td></tr><tr><td>33</td><td>Türkiye</td><td>Greece</td><td>5</td><td>6</td><td>Greece</td><td>group stage</td></tr><tr><td>34</td><td>Greece</td><td>Czech</td><td>2</td><td>6</td><td>Czech</td><td>group stage</td></tr><tr><td>35</td><td>Greece</td><td>Portugal</td><td>2</td><td>4</td><td>Portugal</td><td>group stage</td></tr><tr><td>36</td><td>Portugal</td><td>Czech</td><td>1</td><td>4</td><td>Czech</td><td>group stage</td></tr></tbody></table></div>"
      ]
     },
     "metadata": {
      "application/vnd.databricks.v1+output": {
       "addedWidgets": {},
       "aggData": [],
       "aggError": "",
       "aggOverflow": false,
       "aggSchema": [],
       "aggSeriesLimitReached": false,
       "aggType": "",
       "arguments": {},
       "columnCustomDisplayInfos": {},
       "data": [
        [
         1,
         "Germany",
         "Switzerland",
         6,
         4,
         "Germany",
         "group stage"
        ],
        [
         2,
         "Germany",
         "Hungary",
         2,
         3,
         "Hungary",
         "group stage"
        ],
        [
         3,
         "Germany",
         "Scotland",
         4,
         4,
         "draw",
         "group stage"
        ],
        [
         4,
         "Scotland",
         "Switzerland",
         2,
         2,
         "draw",
         "group stage"
        ],
        [
         5,
         "Scotland",
         "Hungary",
         3,
         6,
         "Hungary",
         "group stage"
        ],
        [
         6,
         "Hungary",
         "Switzerland",
         1,
         6,
         "Switzerland",
         "group stage"
        ],
        [
         7,
         "Spain",
         "Albania",
         2,
         2,
         "draw",
         "group stage"
        ],
        [
         8,
         "Spain",
         "Italy",
         1,
         2,
         "Italy",
         "group stage"
        ],
        [
         9,
         "Spain",
         "Croatia",
         1,
         3,
         "Croatia",
         "group stage"
        ],
        [
         10,
         "Croatia",
         "Albania",
         5,
         4,
         "Croatia",
         "group stage"
        ],
        [
         11,
         "Croatia",
         "Italy",
         2,
         3,
         "Italy",
         "group stage"
        ],
        [
         12,
         "Italy",
         "Albania",
         2,
         4,
         "Albania",
         "group stage"
        ],
        [
         13,
         "Slovenia",
         "England",
         4,
         1,
         "Slovenia",
         "group stage"
        ],
        [
         14,
         "Slovenia",
         "Serbia",
         6,
         2,
         "Slovenia",
         "group stage"
        ],
        [
         15,
         "Slovenia",
         "Denmark",
         1,
         3,
         "Denmark",
         "group stage"
        ],
        [
         16,
         "Denmark",
         "England",
         3,
         6,
         "England",
         "group stage"
        ],
        [
         17,
         "Denmark",
         "Serbia",
         2,
         4,
         "Serbia",
         "group stage"
        ],
        [
         18,
         "Serbia",
         "England",
         6,
         5,
         "Serbia",
         "group stage"
        ],
        [
         19,
         "Poland",
         "France",
         5,
         3,
         "Poland",
         "group stage"
        ],
        [
         20,
         "Poland",
         "Austria",
         2,
         1,
         "Poland",
         "group stage"
        ],
        [
         21,
         "Poland",
         "Netherlands",
         1,
         2,
         "Netherlands",
         "group stage"
        ],
        [
         22,
         "Netherlands",
         "France",
         3,
         6,
         "France",
         "group stage"
        ],
        [
         23,
         "Netherlands",
         "Austria",
         3,
         3,
         "draw",
         "group stage"
        ],
        [
         24,
         "Austria",
         "France",
         3,
         4,
         "France",
         "group stage"
        ],
        [
         25,
         "Belgium",
         "Ukraine",
         5,
         4,
         "Belgium",
         "group stage"
        ],
        [
         26,
         "Belgium",
         "Romania",
         2,
         2,
         "draw",
         "group stage"
        ],
        [
         27,
         "Belgium",
         "Slovakia",
         6,
         5,
         "Belgium",
         "group stage"
        ],
        [
         28,
         "Slovakia",
         "Ukraine",
         2,
         3,
         "Ukraine",
         "group stage"
        ],
        [
         29,
         "Slovakia",
         "Romania",
         4,
         2,
         "Slovakia",
         "group stage"
        ],
        [
         30,
         "Romania",
         "Ukraine",
         4,
         2,
         "Romania",
         "group stage"
        ],
        [
         31,
         "Türkiye",
         "Czech",
         2,
         6,
         "Czech",
         "group stage"
        ],
        [
         32,
         "Türkiye",
         "Portugal",
         3,
         1,
         "Türkiye",
         "group stage"
        ],
        [
         33,
         "Türkiye",
         "Greece",
         5,
         6,
         "Greece",
         "group stage"
        ],
        [
         34,
         "Greece",
         "Czech",
         2,
         6,
         "Czech",
         "group stage"
        ],
        [
         35,
         "Greece",
         "Portugal",
         2,
         4,
         "Portugal",
         "group stage"
        ],
        [
         36,
         "Portugal",
         "Czech",
         1,
         4,
         "Czech",
         "group stage"
        ]
       ],
       "datasetInfos": [],
       "dbfsResultPath": null,
       "isJsonSchema": true,
       "metadata": {
        "isDbfsCommandResult": false
       },
       "overflow": false,
       "plotOptions": {
        "customPlotOptions": {},
        "displayType": "table",
        "pivotAggregation": null,
        "pivotColumns": null,
        "xColumns": null,
        "yColumns": null
       },
       "removedWidgets": [],
       "schema": [
        {
         "metadata": "{}",
         "name": "MatchId",
         "type": "\"integer\""
        },
        {
         "metadata": "{\"__CHAR_VARCHAR_TYPE_STRING\":\"varchar(255)\"}",
         "name": "Team1",
         "type": "\"string\""
        },
        {
         "metadata": "{\"__CHAR_VARCHAR_TYPE_STRING\":\"varchar(255)\"}",
         "name": "Team2",
         "type": "\"string\""
        },
        {
         "metadata": "{}",
         "name": "Team1Score",
         "type": "\"integer\""
        },
        {
         "metadata": "{}",
         "name": "Team2Score",
         "type": "\"integer\""
        },
        {
         "metadata": "{\"__CHAR_VARCHAR_TYPE_STRING\":\"varchar(255)\"}",
         "name": "Result",
         "type": "\"string\""
        },
        {
         "metadata": "{\"__CHAR_VARCHAR_TYPE_STRING\":\"varchar(255)\"}",
         "name": "Stage",
         "type": "\"string\""
        }
       ],
       "type": "table"
      }
     },
     "output_type": "display_data"
    }
   ],
   "source": [
    "%sql\n",
    "CREATE TABLE matchesofcountry (\n",
    "  MatchId INTEGER,\n",
    "  Team1 VARCHAR(255),\n",
    "  Team2 VARCHAR(255),\n",
    "  Team1Score INTEGER,\n",
    "  Team2Score INTEGER,\n",
    "  Result VARCHAR(255),\n",
    "  Stage VARCHAR(255)\n",
    ");\n",
    "\n",
    "INSERT INTO matchesofcountry (MatchId, Team1, Team2, Team1Score, Team2Score, Result, Stage)\n",
    "SELECT DISTINCT\n",
    "    ROW_NUMBER() OVER (ORDER BY t1.TeamId) AS MatchId,\n",
    "    t1.TeamName AS Team1,\n",
    "    t2.TeamName AS Team2,\n",
    "    (SELECT FLOOR(RAND() * 6) + 1) AS Team1Score,\n",
    "    (SELECT FLOOR(RAND() * 6) + 1) AS Team2Score,\n",
    "    'draw' AS Result,\n",
    "    'group stage' AS Stage\n",
    "FROM\n",
    "    allteams t1\n",
    "JOIN\n",
    "    allteams t2 ON t1.TeamGroup = t2.TeamGroup AND t1.TeamId < t2.TeamId;\n",
    "\n",
    "\n",
    "-- Step 4: Calculate match results and update the \"Result\" column\n",
    "UPDATE matchesofcountry\n",
    "SET Result = \n",
    "    CASE\n",
    "        WHEN Team1Score > Team2Score THEN Team1\n",
    "        WHEN Team1Score < Team2Score THEN Team2\n",
    "        ELSE 'draw'\n",
    "    END;\n",
    "\n",
    "\n",
    "-- Step 5: Verify the match results\n",
    "SELECT * FROM matchesofcountry\n",
    "order by MatchId;\n"
   ]
  },
  {
   "cell_type": "markdown",
   "metadata": {
    "application/vnd.databricks.v1+cell": {
     "cellMetadata": {
      "byteLimit": 2048000,
      "rowLimit": 10000
     },
     "inputWidgets": {},
     "nuid": "0e73735b-ac9a-4736-a012-fa9994b436d2",
     "showTitle": false,
     "title": ""
    }
   },
   "source": [
    "### Ranking Table after group stage matches \n",
    "- The four Third place teams to move on are determined by the follwoing criteria established by UEFA in the following specific order\n",
    "- 1. most point\n",
    "- 2. goal difference\n",
    "- 3. most goals scored\n",
    "- 4. most wins\n",
    "- 5. fewest disciplinary points in group stage matches(not consider in this porject)\n",
    "- 6. position in the overall European Qualifiers ranking(not consider in this porject)\n",
    "\n",
    "##### How I create ranking_group table\n",
    "- First define the required column\n",
    "- create MatchResults cte with columns TeamName, win(to calculate the total number of wins), points(to calculate total point), gaolscored and golaconcede(to calculate goal difference)\n",
    "- now insert the values to the ranking_group using allteams table and MatchResults cte. Firstly group by teamid to calculate the total number of wins, points and goaldifference form MatchResult Cte, then group by teamgroup to calculate the ranking for each team with in the groups\n",
    "- on the basics of inserted ranking_groups compute the Rankings columns. To use ranking column use row_number() since if all the rank determining creteria are same it provide the random rank \n",
    "- 1st and 2nd teams from each groups will be directly qualified for Round of 16 contributing the 12 outof 16 teams. Remaining 4 teams will be selected as Top 4 teams among all 6 teams which finish 3rd in their respective groups.\n",
    "- create TopRank3Teams cte to find top 4 team which are 3rd in each group. create IsProgressCalc cte to set the isprogress to true for the 1st, 2nd and top 4 3rd place teams and finally merge to the target table i.e ranking_group"
   ]
  },
  {
   "cell_type": "code",
   "execution_count": 0,
   "metadata": {
    "application/vnd.databricks.v1+cell": {
     "cellMetadata": {
      "byteLimit": 2048000,
      "rowLimit": 10000
     },
     "inputWidgets": {},
     "nuid": "af6afff9-9646-47bf-9b02-1f81c1d4ea64",
     "showTitle": false,
     "title": ""
    }
   },
   "outputs": [
    {
     "output_type": "display_data",
     "data": {
      "text/html": [
       "<style scoped>\n",
       "  .table-result-container {\n",
       "    max-height: 300px;\n",
       "    overflow: auto;\n",
       "  }\n",
       "  table, th, td {\n",
       "    border: 1px solid black;\n",
       "    border-collapse: collapse;\n",
       "  }\n",
       "  th, td {\n",
       "    padding: 5px;\n",
       "  }\n",
       "  th {\n",
       "    text-align: left;\n",
       "  }\n",
       "</style><div class='table-result-container'><table class='table-result'><thead style='background-color: white'><tr><th>TeamId</th><th>TeamName</th><th>TeamGroup</th><th>Points</th><th>Rankings</th><th>GoalsScored</th><th>GoalsConceded</th><th>GoalDifference</th><th>WinCount</th><th>IsProgress</th></tr></thead><tbody><tr><td>3</td><td>Hungary</td><td>A</td><td>6</td><td>1</td><td>10</td><td>11</td><td>-1</td><td>2</td><td>true</td></tr><tr><td>4</td><td>Switzerland</td><td>A</td><td>4</td><td>2</td><td>12</td><td>9</td><td>3</td><td>1</td><td>true</td></tr><tr><td>1</td><td>Germany</td><td>A</td><td>4</td><td>3</td><td>12</td><td>11</td><td>1</td><td>1</td><td>true</td></tr><tr><td>2</td><td>Scotland</td><td>A</td><td>2</td><td>4</td><td>9</td><td>12</td><td>-3</td><td>0</td><td>false</td></tr><tr><td>6</td><td>Croatia</td><td>B</td><td>6</td><td>1</td><td>10</td><td>8</td><td>2</td><td>2</td><td>true</td></tr><tr><td>7</td><td>Italy</td><td>B</td><td>6</td><td>2</td><td>7</td><td>7</td><td>0</td><td>2</td><td>true</td></tr><tr><td>8</td><td>Albania</td><td>B</td><td>4</td><td>3</td><td>10</td><td>9</td><td>1</td><td>1</td><td>true</td></tr><tr><td>5</td><td>Spain</td><td>B</td><td>1</td><td>4</td><td>4</td><td>7</td><td>-3</td><td>0</td><td>false</td></tr><tr><td>9</td><td>Slovenia</td><td>C</td><td>6</td><td>1</td><td>11</td><td>6</td><td>5</td><td>2</td><td>true</td></tr><tr><td>11</td><td>Serbia</td><td>C</td><td>6</td><td>2</td><td>12</td><td>13</td><td>-1</td><td>2</td><td>true</td></tr><tr><td>12</td><td>England</td><td>C</td><td>3</td><td>3</td><td>12</td><td>13</td><td>-1</td><td>1</td><td>false</td></tr><tr><td>10</td><td>Denmark</td><td>C</td><td>3</td><td>4</td><td>8</td><td>11</td><td>-3</td><td>1</td><td>false</td></tr><tr><td>16</td><td>France</td><td>D</td><td>6</td><td>1</td><td>13</td><td>11</td><td>2</td><td>2</td><td>true</td></tr><tr><td>13</td><td>Poland</td><td>D</td><td>6</td><td>2</td><td>8</td><td>6</td><td>2</td><td>2</td><td>true</td></tr><tr><td>14</td><td>Netherlands</td><td>D</td><td>4</td><td>3</td><td>8</td><td>10</td><td>-2</td><td>1</td><td>true</td></tr><tr><td>15</td><td>Austria</td><td>D</td><td>1</td><td>4</td><td>7</td><td>9</td><td>-2</td><td>0</td><td>false</td></tr><tr><td>17</td><td>Belgium</td><td>E</td><td>7</td><td>1</td><td>13</td><td>11</td><td>2</td><td>2</td><td>true</td></tr><tr><td>19</td><td>Romania</td><td>E</td><td>4</td><td>2</td><td>8</td><td>8</td><td>0</td><td>1</td><td>true</td></tr><tr><td>18</td><td>Slovakia</td><td>E</td><td>3</td><td>3</td><td>11</td><td>11</td><td>0</td><td>1</td><td>true</td></tr><tr><td>20</td><td>Ukraine</td><td>E</td><td>3</td><td>4</td><td>9</td><td>11</td><td>-2</td><td>1</td><td>false</td></tr><tr><td>24</td><td>Czech</td><td>F</td><td>9</td><td>1</td><td>16</td><td>5</td><td>11</td><td>3</td><td>true</td></tr><tr><td>21</td><td>Türkiye</td><td>F</td><td>3</td><td>2</td><td>10</td><td>13</td><td>-3</td><td>1</td><td>true</td></tr><tr><td>23</td><td>Portugal</td><td>F</td><td>3</td><td>3</td><td>6</td><td>9</td><td>-3</td><td>1</td><td>false</td></tr><tr><td>22</td><td>Greece</td><td>F</td><td>3</td><td>4</td><td>10</td><td>15</td><td>-5</td><td>1</td><td>false</td></tr></tbody></table></div>"
      ]
     },
     "metadata": {
      "application/vnd.databricks.v1+output": {
       "addedWidgets": {},
       "aggData": [],
       "aggError": "",
       "aggOverflow": false,
       "aggSchema": [],
       "aggSeriesLimitReached": false,
       "aggType": "",
       "arguments": {},
       "columnCustomDisplayInfos": {},
       "data": [
        [
         3,
         "Hungary",
         "A",
         6,
         1,
         10,
         11,
         -1,
         2,
         true
        ],
        [
         4,
         "Switzerland",
         "A",
         4,
         2,
         12,
         9,
         3,
         1,
         true
        ],
        [
         1,
         "Germany",
         "A",
         4,
         3,
         12,
         11,
         1,
         1,
         true
        ],
        [
         2,
         "Scotland",
         "A",
         2,
         4,
         9,
         12,
         -3,
         0,
         false
        ],
        [
         6,
         "Croatia",
         "B",
         6,
         1,
         10,
         8,
         2,
         2,
         true
        ],
        [
         7,
         "Italy",
         "B",
         6,
         2,
         7,
         7,
         0,
         2,
         true
        ],
        [
         8,
         "Albania",
         "B",
         4,
         3,
         10,
         9,
         1,
         1,
         true
        ],
        [
         5,
         "Spain",
         "B",
         1,
         4,
         4,
         7,
         -3,
         0,
         false
        ],
        [
         9,
         "Slovenia",
         "C",
         6,
         1,
         11,
         6,
         5,
         2,
         true
        ],
        [
         11,
         "Serbia",
         "C",
         6,
         2,
         12,
         13,
         -1,
         2,
         true
        ],
        [
         12,
         "England",
         "C",
         3,
         3,
         12,
         13,
         -1,
         1,
         false
        ],
        [
         10,
         "Denmark",
         "C",
         3,
         4,
         8,
         11,
         -3,
         1,
         false
        ],
        [
         16,
         "France",
         "D",
         6,
         1,
         13,
         11,
         2,
         2,
         true
        ],
        [
         13,
         "Poland",
         "D",
         6,
         2,
         8,
         6,
         2,
         2,
         true
        ],
        [
         14,
         "Netherlands",
         "D",
         4,
         3,
         8,
         10,
         -2,
         1,
         true
        ],
        [
         15,
         "Austria",
         "D",
         1,
         4,
         7,
         9,
         -2,
         0,
         false
        ],
        [
         17,
         "Belgium",
         "E",
         7,
         1,
         13,
         11,
         2,
         2,
         true
        ],
        [
         19,
         "Romania",
         "E",
         4,
         2,
         8,
         8,
         0,
         1,
         true
        ],
        [
         18,
         "Slovakia",
         "E",
         3,
         3,
         11,
         11,
         0,
         1,
         true
        ],
        [
         20,
         "Ukraine",
         "E",
         3,
         4,
         9,
         11,
         -2,
         1,
         false
        ],
        [
         24,
         "Czech",
         "F",
         9,
         1,
         16,
         5,
         11,
         3,
         true
        ],
        [
         21,
         "Türkiye",
         "F",
         3,
         2,
         10,
         13,
         -3,
         1,
         true
        ],
        [
         23,
         "Portugal",
         "F",
         3,
         3,
         6,
         9,
         -3,
         1,
         false
        ],
        [
         22,
         "Greece",
         "F",
         3,
         4,
         10,
         15,
         -5,
         1,
         false
        ]
       ],
       "datasetInfos": [],
       "dbfsResultPath": null,
       "isJsonSchema": true,
       "metadata": {
        "isDbfsCommandResult": false
       },
       "overflow": false,
       "plotOptions": {
        "customPlotOptions": {},
        "displayType": "table",
        "pivotAggregation": null,
        "pivotColumns": null,
        "xColumns": null,
        "yColumns": null
       },
       "removedWidgets": [],
       "schema": [
        {
         "metadata": "{}",
         "name": "TeamId",
         "type": "\"integer\""
        },
        {
         "metadata": "{\"__CHAR_VARCHAR_TYPE_STRING\":\"varchar(255)\"}",
         "name": "TeamName",
         "type": "\"string\""
        },
        {
         "metadata": "{\"__CHAR_VARCHAR_TYPE_STRING\":\"varchar(255)\"}",
         "name": "TeamGroup",
         "type": "\"string\""
        },
        {
         "metadata": "{}",
         "name": "Points",
         "type": "\"integer\""
        },
        {
         "metadata": "{}",
         "name": "Rankings",
         "type": "\"integer\""
        },
        {
         "metadata": "{}",
         "name": "GoalsScored",
         "type": "\"integer\""
        },
        {
         "metadata": "{}",
         "name": "GoalsConceded",
         "type": "\"integer\""
        },
        {
         "metadata": "{}",
         "name": "GoalDifference",
         "type": "\"integer\""
        },
        {
         "metadata": "{}",
         "name": "WinCount",
         "type": "\"integer\""
        },
        {
         "metadata": "{}",
         "name": "IsProgress",
         "type": "\"boolean\""
        }
       ],
       "type": "table"
      }
     },
     "output_type": "display_data"
    }
   ],
   "source": [
    "%sql\n",
    "-- Step 1: Create the \"ranking\" table\n",
    "CREATE TABLE ranking_group (\n",
    "  TeamId INTEGER,\n",
    "  TeamName VARCHAR(255),\n",
    "  TeamGroup VARCHAR(255),\n",
    "  Points INTEGER,\n",
    "  Rankings INTEGER,\n",
    "  GoalsScored INTEGER,\n",
    "  GoalsConceded INTEGER,\n",
    "  GoalDifference INTEGER,\n",
    "  WinCount INTEGER, -- New column for win count\n",
    "  IsProgress BOOLEAN\n",
    ");\n",
    "\n",
    "-- Calculate points, goals scored, goals conceded, goal difference, and win count for each team\n",
    "WITH MatchResults AS (\n",
    "  SELECT \n",
    "    Team1 AS TeamName,\n",
    "    CASE \n",
    "      WHEN Result = CAST(Team1 AS VARCHAR(255)) THEN 1  -- Team1 wins\n",
    "      ELSE 0  -- Team1 does not win\n",
    "    END AS Win, \n",
    "    CASE \n",
    "      WHEN Result = CAST(Team1 AS VARCHAR(255)) THEN 3  -- Team1 wins\n",
    "      WHEN Result = CAST(Team2 AS VARCHAR(255)) THEN 0  -- Team1 loses\n",
    "      ELSE 1  -- Draw\n",
    "    END AS Points,\n",
    "    Team1Score AS GoalsScored, -- Goals scored by Team1\n",
    "    Team2Score AS GoalsConceded -- Goals conceded by Team1\n",
    "  FROM matchesofcountry\n",
    "  UNION ALL\n",
    "  SELECT \n",
    "    Team2 AS TeamName,\n",
    "    CASE \n",
    "      WHEN Result = CAST(Team2 AS VARCHAR(255)) THEN 1  -- Team2 wins\n",
    "      ELSE 0  -- Team2 does not win\n",
    "    END AS Win, \n",
    "    CASE \n",
    "      WHEN Result = CAST(Team2 AS VARCHAR(255)) THEN 3  -- Team2 wins\n",
    "      WHEN Result = CAST(Team1 AS VARCHAR(255)) THEN 0  -- Team2 loses\n",
    "      ELSE 1  -- Draw\n",
    "    END AS Points,\n",
    "    Team2Score AS GoalsScored, -- Goals scored by Team2\n",
    "    Team1Score AS GoalsConceded -- Goals conceded by Team2\n",
    "  FROM matchesofcountry\n",
    ")\n",
    "INSERT INTO ranking_group (TeamId, TeamName, TeamGroup, Points, Rankings, GoalsScored, GoalsConceded, GoalDifference, WinCount, IsProgress)\n",
    "SELECT\n",
    "  t.TeamId,\n",
    "  t.TeamName,\n",
    "  t.TeamGroup,\n",
    "  SUM(M.Points) AS Points,\n",
    "  0 as Rankings,\n",
    "  SUM(M.GoalsScored) AS GoalsScored, -- Total goals scored by the team\n",
    "  SUM(M.GoalsConceded) AS GoalsConceded, -- Total goals conceded by the team\n",
    "  SUM(M.GoalsScored) - SUM(M.GoalsConceded) AS GoalDifference, -- Goal difference for the team\n",
    "  SUM(M.Win) AS WinCount,\n",
    "  0 as IsProgress -- Total number of wins for the team\n",
    "FROM \n",
    "  allteams t\n",
    "LEFT JOIN\n",
    "  MatchResults M ON t.TeamName = M.TeamName\n",
    "GROUP BY\n",
    "  t.TeamId, t.TeamName, t.TeamGroup;\n",
    "\n",
    "-- Rank allteams within each group based on points, goal difference, goals scored, and win count\n",
    "WITH RankedTeams AS (\n",
    "  SELECT \n",
    "    TeamName,\n",
    "    row_number() OVER (PARTITION BY TeamGroup ORDER BY Points DESC, GoalDifference DESC, GoalsScored DESC, WinCount DESC) AS GroupRank\n",
    "  FROM ranking_group\n",
    ")\n",
    "MERGE INTO ranking_group r\n",
    "USING RankedTeams rt\n",
    "ON r.TeamName = rt.TeamName\n",
    "WHEN MATCHED THEN UPDATE SET r.Rankings = rt.GroupRank;\n",
    "\n",
    "\n",
    "--creating a ctc column to calculate the isprogress column and mearsing to the ranking table\n",
    "WITH RankedTeams AS (\n",
    "  SELECT \n",
    "    *,\n",
    "    row_number() OVER (PARTITION BY TeamGroup ORDER BY Points DESC, GoalDifference DESC, GoalsScored DESC, WinCount DESC) AS GroupRank\n",
    "  FROM ranking_group\n",
    "),\n",
    "TopRank3Teams AS (\n",
    "    SELECT \n",
    "    *,\n",
    "    row_number() OVER (ORDER BY Points DESC, GoalDifference DESC, GoalsScored DESC, WinCount DESC) AS RankWithinGroup\n",
    "  FROM ranking_group\n",
    "  WHERE Rankings = 3\n",
    "),\n",
    "IsProgressCalc AS (\n",
    "  SELECT \n",
    "    r.*,\n",
    "    CASE \n",
    "        WHEN r.GroupRank = 4 THEN 0\n",
    "        WHEN r.GroupRank = 3 AND t.RankWithinGroup <= 4 THEN 1\n",
    "        When r.groupRank = 1 or r.grouprank = 2 then 1\n",
    "        else 0\n",
    "    END AS IsProgressCalc \n",
    "  FROM RankedTeams r\n",
    "  LEFT JOIN TopRank3Teams t ON r.TeamName = t.TeamName\n",
    ")\n",
    "\n",
    "MERGE INTO ranking_group r\n",
    "USING IsProgressCalc ipc\n",
    "ON r.TeamId = ipc.TeamId\n",
    "WHEN MATCHED THEN UPDATE SET r.isprogress = ipc.IsProgressCalc;\n",
    "SELECT * FROM ranking_group\n",
    "order by TeamGroup, Rankings;\n"
   ]
  },
  {
   "cell_type": "markdown",
   "metadata": {
    "application/vnd.databricks.v1+cell": {
     "cellMetadata": {
      "byteLimit": 2048000,
      "rowLimit": 10000
     },
     "inputWidgets": {},
     "nuid": "83442ec3-a02c-4ccc-8c82-048e58482cba",
     "showTitle": false,
     "title": ""
    }
   },
   "source": [
    "### Playing Roundof 16 matches\n",
    "- First determine the among 15 combination for possible 4 3rd place teams, which combination was selected. For this use rankings = 3 and is progress = true and concate the selected groups in alphabetic order.\n",
    "- After the selected groups calculate, find the matching row in THIRDPLACECOMBO table as SelectedGrpTbl\n",
    "- Now, matchid upto 36 are group stage matches, and ids from 36 to 44 are for roundof 16 matches since there are 8 matches in round of 16\n",
    "- add the round of 16 matches to the matchesofcountry table on the basics of tie sheet and Third place combination table\n",
    "- add random score form 1-6 to each team for each match\n",
    "- based on the score update the result column for roundof 16"
   ]
  },
  {
   "cell_type": "code",
   "execution_count": 0,
   "metadata": {
    "application/vnd.databricks.v1+cell": {
     "cellMetadata": {
      "byteLimit": 2048000,
      "rowLimit": 10000
     },
     "inputWidgets": {},
     "nuid": "22504c5a-be44-4a71-9e41-1ae7ab194587",
     "showTitle": false,
     "title": ""
    }
   },
   "outputs": [
    {
     "output_type": "display_data",
     "data": {
      "text/html": [
       "<style scoped>\n",
       "  .table-result-container {\n",
       "    max-height: 300px;\n",
       "    overflow: auto;\n",
       "  }\n",
       "  table, th, td {\n",
       "    border: 1px solid black;\n",
       "    border-collapse: collapse;\n",
       "  }\n",
       "  th, td {\n",
       "    padding: 5px;\n",
       "  }\n",
       "  th {\n",
       "    text-align: left;\n",
       "  }\n",
       "</style><div class='table-result-container'><table class='table-result'><thead style='background-color: white'><tr><th>MatchId</th><th>Team1</th><th>Team2</th><th>Team1Score</th><th>Team2Score</th><th>Result</th><th>Stage</th></tr></thead><tbody><tr><td>1</td><td>Germany</td><td>Switzerland</td><td>6</td><td>4</td><td>Germany</td><td>group stage</td></tr><tr><td>2</td><td>Germany</td><td>Hungary</td><td>2</td><td>3</td><td>Hungary</td><td>group stage</td></tr><tr><td>3</td><td>Germany</td><td>Scotland</td><td>4</td><td>4</td><td>draw</td><td>group stage</td></tr><tr><td>4</td><td>Scotland</td><td>Switzerland</td><td>2</td><td>2</td><td>draw</td><td>group stage</td></tr><tr><td>5</td><td>Scotland</td><td>Hungary</td><td>3</td><td>6</td><td>Hungary</td><td>group stage</td></tr><tr><td>6</td><td>Hungary</td><td>Switzerland</td><td>1</td><td>6</td><td>Switzerland</td><td>group stage</td></tr><tr><td>7</td><td>Spain</td><td>Albania</td><td>2</td><td>2</td><td>draw</td><td>group stage</td></tr><tr><td>8</td><td>Spain</td><td>Italy</td><td>1</td><td>2</td><td>Italy</td><td>group stage</td></tr><tr><td>9</td><td>Spain</td><td>Croatia</td><td>1</td><td>3</td><td>Croatia</td><td>group stage</td></tr><tr><td>10</td><td>Croatia</td><td>Albania</td><td>5</td><td>4</td><td>Croatia</td><td>group stage</td></tr><tr><td>11</td><td>Croatia</td><td>Italy</td><td>2</td><td>3</td><td>Italy</td><td>group stage</td></tr><tr><td>12</td><td>Italy</td><td>Albania</td><td>2</td><td>4</td><td>Albania</td><td>group stage</td></tr><tr><td>13</td><td>Slovenia</td><td>England</td><td>4</td><td>1</td><td>Slovenia</td><td>group stage</td></tr><tr><td>14</td><td>Slovenia</td><td>Serbia</td><td>6</td><td>2</td><td>Slovenia</td><td>group stage</td></tr><tr><td>15</td><td>Slovenia</td><td>Denmark</td><td>1</td><td>3</td><td>Denmark</td><td>group stage</td></tr><tr><td>16</td><td>Denmark</td><td>England</td><td>3</td><td>6</td><td>England</td><td>group stage</td></tr><tr><td>17</td><td>Denmark</td><td>Serbia</td><td>2</td><td>4</td><td>Serbia</td><td>group stage</td></tr><tr><td>18</td><td>Serbia</td><td>England</td><td>6</td><td>5</td><td>Serbia</td><td>group stage</td></tr><tr><td>19</td><td>Poland</td><td>France</td><td>5</td><td>3</td><td>Poland</td><td>group stage</td></tr><tr><td>20</td><td>Poland</td><td>Austria</td><td>2</td><td>1</td><td>Poland</td><td>group stage</td></tr><tr><td>21</td><td>Poland</td><td>Netherlands</td><td>1</td><td>2</td><td>Netherlands</td><td>group stage</td></tr><tr><td>22</td><td>Netherlands</td><td>France</td><td>3</td><td>6</td><td>France</td><td>group stage</td></tr><tr><td>23</td><td>Netherlands</td><td>Austria</td><td>3</td><td>3</td><td>draw</td><td>group stage</td></tr><tr><td>24</td><td>Austria</td><td>France</td><td>3</td><td>4</td><td>France</td><td>group stage</td></tr><tr><td>25</td><td>Belgium</td><td>Ukraine</td><td>5</td><td>4</td><td>Belgium</td><td>group stage</td></tr><tr><td>26</td><td>Belgium</td><td>Romania</td><td>2</td><td>2</td><td>draw</td><td>group stage</td></tr><tr><td>27</td><td>Belgium</td><td>Slovakia</td><td>6</td><td>5</td><td>Belgium</td><td>group stage</td></tr><tr><td>28</td><td>Slovakia</td><td>Ukraine</td><td>2</td><td>3</td><td>Ukraine</td><td>group stage</td></tr><tr><td>29</td><td>Slovakia</td><td>Romania</td><td>4</td><td>2</td><td>Slovakia</td><td>group stage</td></tr><tr><td>30</td><td>Romania</td><td>Ukraine</td><td>4</td><td>2</td><td>Romania</td><td>group stage</td></tr><tr><td>31</td><td>Türkiye</td><td>Czech</td><td>2</td><td>6</td><td>Czech</td><td>group stage</td></tr><tr><td>32</td><td>Türkiye</td><td>Portugal</td><td>3</td><td>1</td><td>Türkiye</td><td>group stage</td></tr><tr><td>33</td><td>Türkiye</td><td>Greece</td><td>5</td><td>6</td><td>Greece</td><td>group stage</td></tr><tr><td>34</td><td>Greece</td><td>Czech</td><td>2</td><td>6</td><td>Czech</td><td>group stage</td></tr><tr><td>35</td><td>Greece</td><td>Portugal</td><td>2</td><td>4</td><td>Portugal</td><td>group stage</td></tr><tr><td>36</td><td>Portugal</td><td>Czech</td><td>1</td><td>4</td><td>Czech</td><td>group stage</td></tr><tr><td>37</td><td>Croatia</td><td>Netherlands</td><td>4</td><td>6</td><td>Netherlands</td><td>Roundof 16</td></tr><tr><td>38</td><td>Hungary</td><td>Serbia</td><td>4</td><td>2</td><td>Hungary</td><td>Roundof 16</td></tr><tr><td>39</td><td>Czech</td><td>Albania</td><td>3</td><td>6</td><td>Albania</td><td>Roundof 16</td></tr><tr><td>40</td><td>Poland</td><td>Romania</td><td>6</td><td>5</td><td>Poland</td><td>Roundof 16</td></tr><tr><td>41</td><td>Belgium</td><td>Germany</td><td>2</td><td>5</td><td>Germany</td><td>Roundof 16</td></tr><tr><td>42</td><td>France</td><td>Türkiye</td><td>2</td><td>3</td><td>Türkiye</td><td>Roundof 16</td></tr><tr><td>43</td><td>Slovenia</td><td>Slovakia</td><td>2</td><td>6</td><td>Slovakia</td><td>Roundof 16</td></tr><tr><td>44</td><td>Switzerland</td><td>Italy</td><td>5</td><td>4</td><td>Switzerland</td><td>Roundof 16</td></tr></tbody></table></div>"
      ]
     },
     "metadata": {
      "application/vnd.databricks.v1+output": {
       "addedWidgets": {},
       "aggData": [],
       "aggError": "",
       "aggOverflow": false,
       "aggSchema": [],
       "aggSeriesLimitReached": false,
       "aggType": "",
       "arguments": {},
       "columnCustomDisplayInfos": {},
       "data": [
        [
         1,
         "Germany",
         "Switzerland",
         6,
         4,
         "Germany",
         "group stage"
        ],
        [
         2,
         "Germany",
         "Hungary",
         2,
         3,
         "Hungary",
         "group stage"
        ],
        [
         3,
         "Germany",
         "Scotland",
         4,
         4,
         "draw",
         "group stage"
        ],
        [
         4,
         "Scotland",
         "Switzerland",
         2,
         2,
         "draw",
         "group stage"
        ],
        [
         5,
         "Scotland",
         "Hungary",
         3,
         6,
         "Hungary",
         "group stage"
        ],
        [
         6,
         "Hungary",
         "Switzerland",
         1,
         6,
         "Switzerland",
         "group stage"
        ],
        [
         7,
         "Spain",
         "Albania",
         2,
         2,
         "draw",
         "group stage"
        ],
        [
         8,
         "Spain",
         "Italy",
         1,
         2,
         "Italy",
         "group stage"
        ],
        [
         9,
         "Spain",
         "Croatia",
         1,
         3,
         "Croatia",
         "group stage"
        ],
        [
         10,
         "Croatia",
         "Albania",
         5,
         4,
         "Croatia",
         "group stage"
        ],
        [
         11,
         "Croatia",
         "Italy",
         2,
         3,
         "Italy",
         "group stage"
        ],
        [
         12,
         "Italy",
         "Albania",
         2,
         4,
         "Albania",
         "group stage"
        ],
        [
         13,
         "Slovenia",
         "England",
         4,
         1,
         "Slovenia",
         "group stage"
        ],
        [
         14,
         "Slovenia",
         "Serbia",
         6,
         2,
         "Slovenia",
         "group stage"
        ],
        [
         15,
         "Slovenia",
         "Denmark",
         1,
         3,
         "Denmark",
         "group stage"
        ],
        [
         16,
         "Denmark",
         "England",
         3,
         6,
         "England",
         "group stage"
        ],
        [
         17,
         "Denmark",
         "Serbia",
         2,
         4,
         "Serbia",
         "group stage"
        ],
        [
         18,
         "Serbia",
         "England",
         6,
         5,
         "Serbia",
         "group stage"
        ],
        [
         19,
         "Poland",
         "France",
         5,
         3,
         "Poland",
         "group stage"
        ],
        [
         20,
         "Poland",
         "Austria",
         2,
         1,
         "Poland",
         "group stage"
        ],
        [
         21,
         "Poland",
         "Netherlands",
         1,
         2,
         "Netherlands",
         "group stage"
        ],
        [
         22,
         "Netherlands",
         "France",
         3,
         6,
         "France",
         "group stage"
        ],
        [
         23,
         "Netherlands",
         "Austria",
         3,
         3,
         "draw",
         "group stage"
        ],
        [
         24,
         "Austria",
         "France",
         3,
         4,
         "France",
         "group stage"
        ],
        [
         25,
         "Belgium",
         "Ukraine",
         5,
         4,
         "Belgium",
         "group stage"
        ],
        [
         26,
         "Belgium",
         "Romania",
         2,
         2,
         "draw",
         "group stage"
        ],
        [
         27,
         "Belgium",
         "Slovakia",
         6,
         5,
         "Belgium",
         "group stage"
        ],
        [
         28,
         "Slovakia",
         "Ukraine",
         2,
         3,
         "Ukraine",
         "group stage"
        ],
        [
         29,
         "Slovakia",
         "Romania",
         4,
         2,
         "Slovakia",
         "group stage"
        ],
        [
         30,
         "Romania",
         "Ukraine",
         4,
         2,
         "Romania",
         "group stage"
        ],
        [
         31,
         "Türkiye",
         "Czech",
         2,
         6,
         "Czech",
         "group stage"
        ],
        [
         32,
         "Türkiye",
         "Portugal",
         3,
         1,
         "Türkiye",
         "group stage"
        ],
        [
         33,
         "Türkiye",
         "Greece",
         5,
         6,
         "Greece",
         "group stage"
        ],
        [
         34,
         "Greece",
         "Czech",
         2,
         6,
         "Czech",
         "group stage"
        ],
        [
         35,
         "Greece",
         "Portugal",
         2,
         4,
         "Portugal",
         "group stage"
        ],
        [
         36,
         "Portugal",
         "Czech",
         1,
         4,
         "Czech",
         "group stage"
        ],
        [
         37,
         "Croatia",
         "Netherlands",
         4,
         6,
         "Netherlands",
         "Roundof 16"
        ],
        [
         38,
         "Hungary",
         "Serbia",
         4,
         2,
         "Hungary",
         "Roundof 16"
        ],
        [
         39,
         "Czech",
         "Albania",
         3,
         6,
         "Albania",
         "Roundof 16"
        ],
        [
         40,
         "Poland",
         "Romania",
         6,
         5,
         "Poland",
         "Roundof 16"
        ],
        [
         41,
         "Belgium",
         "Germany",
         2,
         5,
         "Germany",
         "Roundof 16"
        ],
        [
         42,
         "France",
         "Türkiye",
         2,
         3,
         "Türkiye",
         "Roundof 16"
        ],
        [
         43,
         "Slovenia",
         "Slovakia",
         2,
         6,
         "Slovakia",
         "Roundof 16"
        ],
        [
         44,
         "Switzerland",
         "Italy",
         5,
         4,
         "Switzerland",
         "Roundof 16"
        ]
       ],
       "datasetInfos": [],
       "dbfsResultPath": null,
       "isJsonSchema": true,
       "metadata": {
        "isDbfsCommandResult": false
       },
       "overflow": false,
       "plotOptions": {
        "customPlotOptions": {},
        "displayType": "table",
        "pivotAggregation": null,
        "pivotColumns": null,
        "xColumns": null,
        "yColumns": null
       },
       "removedWidgets": [],
       "schema": [
        {
         "metadata": "{}",
         "name": "MatchId",
         "type": "\"integer\""
        },
        {
         "metadata": "{\"__CHAR_VARCHAR_TYPE_STRING\":\"varchar(255)\"}",
         "name": "Team1",
         "type": "\"string\""
        },
        {
         "metadata": "{\"__CHAR_VARCHAR_TYPE_STRING\":\"varchar(255)\"}",
         "name": "Team2",
         "type": "\"string\""
        },
        {
         "metadata": "{}",
         "name": "Team1Score",
         "type": "\"integer\""
        },
        {
         "metadata": "{}",
         "name": "Team2Score",
         "type": "\"integer\""
        },
        {
         "metadata": "{\"__CHAR_VARCHAR_TYPE_STRING\":\"varchar(255)\"}",
         "name": "Result",
         "type": "\"string\""
        },
        {
         "metadata": "{\"__CHAR_VARCHAR_TYPE_STRING\":\"varchar(255)\"}",
         "name": "Stage",
         "type": "\"string\""
        }
       ],
       "type": "table"
      }
     },
     "output_type": "display_data"
    }
   ],
   "source": [
    "%sql\n",
    "\n",
    "With SelectedGroup AS\n",
    "(\n",
    "SELECT \n",
    "    CONCAT_WS('', SORT_ARRAY(COLLECT_SET(SUBSTRING(TeamGroup, 1, 1)))) AS Result\n",
    "FROM ranking_group\n",
    "WHERE Rankings = 3 AND IsProgress = TRUE\n",
    "),\n",
    "\n",
    "SelectedGrpTbl AS\n",
    "(\n",
    "SELECT * \n",
    "FROM thirdplacecombo\n",
    "WHERE thirdplacecombo.SELECTEDGROUPS = (SELECT Result FROM SelectedGroup)\n",
    ")\n",
    "INSERT INTO matchesofcountry (MatchId, team1, team2, team1score, team2score, Result, stage)\n",
    "SELECT \n",
    "    37 AS MatchId, \n",
    "    (SELECT TeamName FROM ranking_group WHERE Rankings = 1 AND TeamGroup = 'B') AS team1, \n",
    "    (SELECT TeamName FROM ranking_group WHERE Rankings = 3 AND TeamGroup = (select Team1B from SelectedGrpTbl)) AS team2,\n",
    "    (SELECT FLOOR(RAND() * 6) + 1) AS Team1Score,\n",
    "    (SELECT FLOOR(RAND() * 6) + 1) AS Team2Score,\n",
    "    'draw' as Result,\n",
    "    'Roundof 16' as stage\n",
    "union All\n",
    "SELECT \n",
    "    38 AS MatchId, \n",
    "    (SELECT TeamName FROM ranking_group WHERE Rankings = 1 AND TeamGroup = 'A') AS team1, \n",
    "    (SELECT TeamName FROM ranking_group WHERE Rankings = 2 AND TeamGroup = 'C') AS team2,\n",
    "    (SELECT FLOOR(RAND() * 6) + 1) AS Team1Score,\n",
    "    (SELECT FLOOR(RAND() * 6) + 1) AS Team2Score,\n",
    "    'draw' as Result,\n",
    "    'Roundof 16' as stage\n",
    "UNION ALL\n",
    "SELECT \n",
    "    39 AS MatchId, \n",
    "    (SELECT TeamName FROM ranking_group WHERE Rankings = 1 AND TeamGroup = 'F') AS team1, \n",
    "    (SELECT TeamName FROM ranking_group WHERE Rankings = 3 AND TeamGroup = (select Team1F from SelectedGrpTbl)) AS team2,\n",
    "    (SELECT FLOOR(RAND() * 6) + 1) AS Team1Score,\n",
    "    (SELECT FLOOR(RAND() * 6) + 1) AS Team2Score,\n",
    "    'draw' as Result,\n",
    "    'Roundof 16' as stage\n",
    "union All\n",
    "SELECT \n",
    "    40 AS MatchId, \n",
    "    (SELECT TeamName FROM ranking_group WHERE Rankings = 2 AND TeamGroup = 'D') AS team1, \n",
    "    (SELECT TeamName FROM ranking_group WHERE Rankings = 2 AND TeamGroup = 'E') AS team2,\n",
    "    (SELECT FLOOR(RAND() * 6) + 1) AS Team1Score,\n",
    "    (SELECT FLOOR(RAND() * 6) + 1) AS Team2Score,\n",
    "    'draw' as Result,\n",
    "    'Roundof 16' as stage\n",
    "UNION ALL\n",
    "SELECT \n",
    "    41 AS MatchId, \n",
    "    (SELECT TeamName FROM ranking_group WHERE Rankings = 1 AND TeamGroup = 'E') AS team1, \n",
    "    (SELECT TeamName FROM ranking_group WHERE Rankings = 3 AND TeamGroup = (select Team1E from SelectedGrpTbl)) AS team2,\n",
    "    (SELECT FLOOR(RAND() * 6) + 1) AS Team1Score,\n",
    "    (SELECT FLOOR(RAND() * 6) + 1) AS Team2Score,\n",
    "    'draw' as Result,\n",
    "    'Roundof 16' as stage\n",
    "union All\n",
    "SELECT \n",
    "    42 AS MatchId, \n",
    "    (SELECT TeamName FROM ranking_group WHERE Rankings = 1 AND TeamGroup = 'D') AS team1, \n",
    "    (SELECT TeamName FROM ranking_group WHERE Rankings = 2 AND TeamGroup = 'F') AS team2,\n",
    "    (SELECT FLOOR(RAND() * 6) + 1) AS Team1Score,\n",
    "    (SELECT FLOOR(RAND() * 6) + 1) AS Team2Score,\n",
    "    'draw' as Result,\n",
    "    'Roundof 16' as stage\n",
    "UNION ALL\n",
    "SELECT \n",
    "    43 AS MatchId, \n",
    "    (SELECT TeamName FROM ranking_group WHERE Rankings = 1 AND TeamGroup = 'C') AS team1, \n",
    "    (SELECT TeamName FROM ranking_group WHERE Rankings = 3 AND TeamGroup = (select Team1C from SelectedGrpTbl)) AS team2,\n",
    "    (SELECT FLOOR(RAND() * 6) + 1) AS Team1Score,\n",
    "    (SELECT FLOOR(RAND() * 6) + 1) AS Team2Score,\n",
    "    'draw' as Result,\n",
    "    'Roundof 16' as stage\n",
    "union All\n",
    "SELECT \n",
    "    44 AS MatchId, \n",
    "    (SELECT TeamName FROM ranking_group WHERE Rankings = 2 AND TeamGroup = 'A') AS team1, \n",
    "    (SELECT TeamName FROM ranking_group WHERE Rankings = 2 AND TeamGroup = 'B') AS team2,\n",
    "    (SELECT FLOOR(RAND() * 6) + 1) AS Team1Score,\n",
    "    (SELECT FLOOR(RAND() * 6) + 1) AS Team2Score,\n",
    "    'draw' as Result,\n",
    "    'Roundof 16' as stage;\n",
    "--updationg the Result column\n",
    "UPDATE matchesofcountry\n",
    "SET Result = \n",
    "    CASE \n",
    "        WHEN team1score > team2score THEN team1\n",
    "        WHEN team1score < team2score THEN team2\n",
    "        ELSE \n",
    "            CASE \n",
    "                WHEN (team1score + 1) % 2 = 1 THEN team1\n",
    "                ELSE team2\n",
    "            END\n",
    "    END\n",
    "where stage = 'Roundof 16';\n",
    "SELECT * FROM matchesofcountry\n",
    "order by MatchId;"
   ]
  },
  {
   "cell_type": "markdown",
   "metadata": {
    "application/vnd.databricks.v1+cell": {
     "cellMetadata": {
      "byteLimit": 2048000,
      "rowLimit": 10000
     },
     "inputWidgets": {},
     "nuid": "bb3c2947-132c-4805-b868-0c0d57f35148",
     "showTitle": false,
     "title": ""
    }
   },
   "source": [
    "### Quater Final Matches\n",
    "- There are 4 matches for quater final i.e matchId from 45 to 48\n",
    "- On the basics of result of roundof 16 matches matchups the quater final and update the result table on the basics of score"
   ]
  },
  {
   "cell_type": "code",
   "execution_count": 0,
   "metadata": {
    "application/vnd.databricks.v1+cell": {
     "cellMetadata": {
      "byteLimit": 2048000,
      "rowLimit": 10000
     },
     "inputWidgets": {},
     "nuid": "aa3c8146-88dc-40f5-9e22-ad42e5dcbc33",
     "showTitle": false,
     "title": ""
    }
   },
   "outputs": [
    {
     "output_type": "display_data",
     "data": {
      "text/html": [
       "<style scoped>\n",
       "  .table-result-container {\n",
       "    max-height: 300px;\n",
       "    overflow: auto;\n",
       "  }\n",
       "  table, th, td {\n",
       "    border: 1px solid black;\n",
       "    border-collapse: collapse;\n",
       "  }\n",
       "  th, td {\n",
       "    padding: 5px;\n",
       "  }\n",
       "  th {\n",
       "    text-align: left;\n",
       "  }\n",
       "</style><div class='table-result-container'><table class='table-result'><thead style='background-color: white'><tr><th>MatchId</th><th>Team1</th><th>Team2</th><th>Team1Score</th><th>Team2Score</th><th>Result</th><th>Stage</th></tr></thead><tbody><tr><td>1</td><td>Germany</td><td>Switzerland</td><td>6</td><td>4</td><td>Germany</td><td>group stage</td></tr><tr><td>2</td><td>Germany</td><td>Hungary</td><td>2</td><td>3</td><td>Hungary</td><td>group stage</td></tr><tr><td>3</td><td>Germany</td><td>Scotland</td><td>4</td><td>4</td><td>draw</td><td>group stage</td></tr><tr><td>4</td><td>Scotland</td><td>Switzerland</td><td>2</td><td>2</td><td>draw</td><td>group stage</td></tr><tr><td>5</td><td>Scotland</td><td>Hungary</td><td>3</td><td>6</td><td>Hungary</td><td>group stage</td></tr><tr><td>6</td><td>Hungary</td><td>Switzerland</td><td>1</td><td>6</td><td>Switzerland</td><td>group stage</td></tr><tr><td>7</td><td>Spain</td><td>Albania</td><td>2</td><td>2</td><td>draw</td><td>group stage</td></tr><tr><td>8</td><td>Spain</td><td>Italy</td><td>1</td><td>2</td><td>Italy</td><td>group stage</td></tr><tr><td>9</td><td>Spain</td><td>Croatia</td><td>1</td><td>3</td><td>Croatia</td><td>group stage</td></tr><tr><td>10</td><td>Croatia</td><td>Albania</td><td>5</td><td>4</td><td>Croatia</td><td>group stage</td></tr><tr><td>11</td><td>Croatia</td><td>Italy</td><td>2</td><td>3</td><td>Italy</td><td>group stage</td></tr><tr><td>12</td><td>Italy</td><td>Albania</td><td>2</td><td>4</td><td>Albania</td><td>group stage</td></tr><tr><td>13</td><td>Slovenia</td><td>England</td><td>4</td><td>1</td><td>Slovenia</td><td>group stage</td></tr><tr><td>14</td><td>Slovenia</td><td>Serbia</td><td>6</td><td>2</td><td>Slovenia</td><td>group stage</td></tr><tr><td>15</td><td>Slovenia</td><td>Denmark</td><td>1</td><td>3</td><td>Denmark</td><td>group stage</td></tr><tr><td>16</td><td>Denmark</td><td>England</td><td>3</td><td>6</td><td>England</td><td>group stage</td></tr><tr><td>17</td><td>Denmark</td><td>Serbia</td><td>2</td><td>4</td><td>Serbia</td><td>group stage</td></tr><tr><td>18</td><td>Serbia</td><td>England</td><td>6</td><td>5</td><td>Serbia</td><td>group stage</td></tr><tr><td>19</td><td>Poland</td><td>France</td><td>5</td><td>3</td><td>Poland</td><td>group stage</td></tr><tr><td>20</td><td>Poland</td><td>Austria</td><td>2</td><td>1</td><td>Poland</td><td>group stage</td></tr><tr><td>21</td><td>Poland</td><td>Netherlands</td><td>1</td><td>2</td><td>Netherlands</td><td>group stage</td></tr><tr><td>22</td><td>Netherlands</td><td>France</td><td>3</td><td>6</td><td>France</td><td>group stage</td></tr><tr><td>23</td><td>Netherlands</td><td>Austria</td><td>3</td><td>3</td><td>draw</td><td>group stage</td></tr><tr><td>24</td><td>Austria</td><td>France</td><td>3</td><td>4</td><td>France</td><td>group stage</td></tr><tr><td>25</td><td>Belgium</td><td>Ukraine</td><td>5</td><td>4</td><td>Belgium</td><td>group stage</td></tr><tr><td>26</td><td>Belgium</td><td>Romania</td><td>2</td><td>2</td><td>draw</td><td>group stage</td></tr><tr><td>27</td><td>Belgium</td><td>Slovakia</td><td>6</td><td>5</td><td>Belgium</td><td>group stage</td></tr><tr><td>28</td><td>Slovakia</td><td>Ukraine</td><td>2</td><td>3</td><td>Ukraine</td><td>group stage</td></tr><tr><td>29</td><td>Slovakia</td><td>Romania</td><td>4</td><td>2</td><td>Slovakia</td><td>group stage</td></tr><tr><td>30</td><td>Romania</td><td>Ukraine</td><td>4</td><td>2</td><td>Romania</td><td>group stage</td></tr><tr><td>31</td><td>Türkiye</td><td>Czech</td><td>2</td><td>6</td><td>Czech</td><td>group stage</td></tr><tr><td>32</td><td>Türkiye</td><td>Portugal</td><td>3</td><td>1</td><td>Türkiye</td><td>group stage</td></tr><tr><td>33</td><td>Türkiye</td><td>Greece</td><td>5</td><td>6</td><td>Greece</td><td>group stage</td></tr><tr><td>34</td><td>Greece</td><td>Czech</td><td>2</td><td>6</td><td>Czech</td><td>group stage</td></tr><tr><td>35</td><td>Greece</td><td>Portugal</td><td>2</td><td>4</td><td>Portugal</td><td>group stage</td></tr><tr><td>36</td><td>Portugal</td><td>Czech</td><td>1</td><td>4</td><td>Czech</td><td>group stage</td></tr><tr><td>37</td><td>Croatia</td><td>Netherlands</td><td>4</td><td>6</td><td>Netherlands</td><td>Roundof 16</td></tr><tr><td>38</td><td>Hungary</td><td>Serbia</td><td>4</td><td>2</td><td>Hungary</td><td>Roundof 16</td></tr><tr><td>39</td><td>Czech</td><td>Albania</td><td>3</td><td>6</td><td>Albania</td><td>Roundof 16</td></tr><tr><td>40</td><td>Poland</td><td>Romania</td><td>6</td><td>5</td><td>Poland</td><td>Roundof 16</td></tr><tr><td>41</td><td>Belgium</td><td>Germany</td><td>2</td><td>5</td><td>Germany</td><td>Roundof 16</td></tr><tr><td>42</td><td>France</td><td>Türkiye</td><td>2</td><td>3</td><td>Türkiye</td><td>Roundof 16</td></tr><tr><td>43</td><td>Slovenia</td><td>Slovakia</td><td>2</td><td>6</td><td>Slovakia</td><td>Roundof 16</td></tr><tr><td>44</td><td>Switzerland</td><td>Italy</td><td>5</td><td>4</td><td>Switzerland</td><td>Roundof 16</td></tr><tr><td>45</td><td>Netherlands</td><td>Hungary</td><td>3</td><td>3</td><td>Hungary</td><td>Quater Final</td></tr><tr><td>46</td><td>Albania</td><td>Poland</td><td>2</td><td>3</td><td>Poland</td><td>Quater Final</td></tr><tr><td>47</td><td>Germany</td><td>Türkiye</td><td>1</td><td>5</td><td>Türkiye</td><td>Quater Final</td></tr><tr><td>48</td><td>Slovakia</td><td>Switzerland</td><td>2</td><td>2</td><td>Slovakia</td><td>Quater Final</td></tr></tbody></table></div>"
      ]
     },
     "metadata": {
      "application/vnd.databricks.v1+output": {
       "addedWidgets": {},
       "aggData": [],
       "aggError": "",
       "aggOverflow": false,
       "aggSchema": [],
       "aggSeriesLimitReached": false,
       "aggType": "",
       "arguments": {},
       "columnCustomDisplayInfos": {},
       "data": [
        [
         1,
         "Germany",
         "Switzerland",
         6,
         4,
         "Germany",
         "group stage"
        ],
        [
         2,
         "Germany",
         "Hungary",
         2,
         3,
         "Hungary",
         "group stage"
        ],
        [
         3,
         "Germany",
         "Scotland",
         4,
         4,
         "draw",
         "group stage"
        ],
        [
         4,
         "Scotland",
         "Switzerland",
         2,
         2,
         "draw",
         "group stage"
        ],
        [
         5,
         "Scotland",
         "Hungary",
         3,
         6,
         "Hungary",
         "group stage"
        ],
        [
         6,
         "Hungary",
         "Switzerland",
         1,
         6,
         "Switzerland",
         "group stage"
        ],
        [
         7,
         "Spain",
         "Albania",
         2,
         2,
         "draw",
         "group stage"
        ],
        [
         8,
         "Spain",
         "Italy",
         1,
         2,
         "Italy",
         "group stage"
        ],
        [
         9,
         "Spain",
         "Croatia",
         1,
         3,
         "Croatia",
         "group stage"
        ],
        [
         10,
         "Croatia",
         "Albania",
         5,
         4,
         "Croatia",
         "group stage"
        ],
        [
         11,
         "Croatia",
         "Italy",
         2,
         3,
         "Italy",
         "group stage"
        ],
        [
         12,
         "Italy",
         "Albania",
         2,
         4,
         "Albania",
         "group stage"
        ],
        [
         13,
         "Slovenia",
         "England",
         4,
         1,
         "Slovenia",
         "group stage"
        ],
        [
         14,
         "Slovenia",
         "Serbia",
         6,
         2,
         "Slovenia",
         "group stage"
        ],
        [
         15,
         "Slovenia",
         "Denmark",
         1,
         3,
         "Denmark",
         "group stage"
        ],
        [
         16,
         "Denmark",
         "England",
         3,
         6,
         "England",
         "group stage"
        ],
        [
         17,
         "Denmark",
         "Serbia",
         2,
         4,
         "Serbia",
         "group stage"
        ],
        [
         18,
         "Serbia",
         "England",
         6,
         5,
         "Serbia",
         "group stage"
        ],
        [
         19,
         "Poland",
         "France",
         5,
         3,
         "Poland",
         "group stage"
        ],
        [
         20,
         "Poland",
         "Austria",
         2,
         1,
         "Poland",
         "group stage"
        ],
        [
         21,
         "Poland",
         "Netherlands",
         1,
         2,
         "Netherlands",
         "group stage"
        ],
        [
         22,
         "Netherlands",
         "France",
         3,
         6,
         "France",
         "group stage"
        ],
        [
         23,
         "Netherlands",
         "Austria",
         3,
         3,
         "draw",
         "group stage"
        ],
        [
         24,
         "Austria",
         "France",
         3,
         4,
         "France",
         "group stage"
        ],
        [
         25,
         "Belgium",
         "Ukraine",
         5,
         4,
         "Belgium",
         "group stage"
        ],
        [
         26,
         "Belgium",
         "Romania",
         2,
         2,
         "draw",
         "group stage"
        ],
        [
         27,
         "Belgium",
         "Slovakia",
         6,
         5,
         "Belgium",
         "group stage"
        ],
        [
         28,
         "Slovakia",
         "Ukraine",
         2,
         3,
         "Ukraine",
         "group stage"
        ],
        [
         29,
         "Slovakia",
         "Romania",
         4,
         2,
         "Slovakia",
         "group stage"
        ],
        [
         30,
         "Romania",
         "Ukraine",
         4,
         2,
         "Romania",
         "group stage"
        ],
        [
         31,
         "Türkiye",
         "Czech",
         2,
         6,
         "Czech",
         "group stage"
        ],
        [
         32,
         "Türkiye",
         "Portugal",
         3,
         1,
         "Türkiye",
         "group stage"
        ],
        [
         33,
         "Türkiye",
         "Greece",
         5,
         6,
         "Greece",
         "group stage"
        ],
        [
         34,
         "Greece",
         "Czech",
         2,
         6,
         "Czech",
         "group stage"
        ],
        [
         35,
         "Greece",
         "Portugal",
         2,
         4,
         "Portugal",
         "group stage"
        ],
        [
         36,
         "Portugal",
         "Czech",
         1,
         4,
         "Czech",
         "group stage"
        ],
        [
         37,
         "Croatia",
         "Netherlands",
         4,
         6,
         "Netherlands",
         "Roundof 16"
        ],
        [
         38,
         "Hungary",
         "Serbia",
         4,
         2,
         "Hungary",
         "Roundof 16"
        ],
        [
         39,
         "Czech",
         "Albania",
         3,
         6,
         "Albania",
         "Roundof 16"
        ],
        [
         40,
         "Poland",
         "Romania",
         6,
         5,
         "Poland",
         "Roundof 16"
        ],
        [
         41,
         "Belgium",
         "Germany",
         2,
         5,
         "Germany",
         "Roundof 16"
        ],
        [
         42,
         "France",
         "Türkiye",
         2,
         3,
         "Türkiye",
         "Roundof 16"
        ],
        [
         43,
         "Slovenia",
         "Slovakia",
         2,
         6,
         "Slovakia",
         "Roundof 16"
        ],
        [
         44,
         "Switzerland",
         "Italy",
         5,
         4,
         "Switzerland",
         "Roundof 16"
        ],
        [
         45,
         "Netherlands",
         "Hungary",
         3,
         3,
         "Hungary",
         "Quater Final"
        ],
        [
         46,
         "Albania",
         "Poland",
         2,
         3,
         "Poland",
         "Quater Final"
        ],
        [
         47,
         "Germany",
         "Türkiye",
         1,
         5,
         "Türkiye",
         "Quater Final"
        ],
        [
         48,
         "Slovakia",
         "Switzerland",
         2,
         2,
         "Slovakia",
         "Quater Final"
        ]
       ],
       "datasetInfos": [],
       "dbfsResultPath": null,
       "isJsonSchema": true,
       "metadata": {
        "isDbfsCommandResult": false
       },
       "overflow": false,
       "plotOptions": {
        "customPlotOptions": {},
        "displayType": "table",
        "pivotAggregation": null,
        "pivotColumns": null,
        "xColumns": null,
        "yColumns": null
       },
       "removedWidgets": [],
       "schema": [
        {
         "metadata": "{}",
         "name": "MatchId",
         "type": "\"integer\""
        },
        {
         "metadata": "{\"__CHAR_VARCHAR_TYPE_STRING\":\"varchar(255)\"}",
         "name": "Team1",
         "type": "\"string\""
        },
        {
         "metadata": "{\"__CHAR_VARCHAR_TYPE_STRING\":\"varchar(255)\"}",
         "name": "Team2",
         "type": "\"string\""
        },
        {
         "metadata": "{}",
         "name": "Team1Score",
         "type": "\"integer\""
        },
        {
         "metadata": "{}",
         "name": "Team2Score",
         "type": "\"integer\""
        },
        {
         "metadata": "{\"__CHAR_VARCHAR_TYPE_STRING\":\"varchar(255)\"}",
         "name": "Result",
         "type": "\"string\""
        },
        {
         "metadata": "{\"__CHAR_VARCHAR_TYPE_STRING\":\"varchar(255)\"}",
         "name": "Stage",
         "type": "\"string\""
        }
       ],
       "type": "table"
      }
     },
     "output_type": "display_data"
    }
   ],
   "source": [
    "%sql\n",
    "INSERT INTO matchesofcountry (MatchId, team1, team2, team1score, team2score, Result, stage)\n",
    "SELECT \n",
    "    45 AS MatchId, \n",
    "    (SELECT Result FROM matchesofcountry WHERE MatchId = 37) AS team1, \n",
    "    (SELECT Result FROM matchesofcountry WHERE MatchId = 38) AS team2,\n",
    "    (SELECT FLOOR(RAND() * 6) + 1) AS Team1Score,\n",
    "    (SELECT FLOOR(RAND() * 6) + 1) AS Team2Score,\n",
    "    'draw' as Result,\n",
    "    'Quater Final' as stage\n",
    "UNION ALL\n",
    "SELECT \n",
    "    46 AS MatchId, \n",
    "    (SELECT Result FROM matchesofcountry WHERE MatchId = 39) AS team1, \n",
    "    (SELECT Result FROM matchesofcountry WHERE MatchId = 40) AS team2,\n",
    "    (SELECT FLOOR(RAND() * 6) + 1) AS Team1Score,\n",
    "    (SELECT FLOOR(RAND() * 6) + 1) AS Team2Score,\n",
    "    'draw' as Result,\n",
    "    'Quater Final' as stage\n",
    "UNION ALL\n",
    "SELECT \n",
    "    47 AS MatchId, \n",
    "    (SELECT Result FROM matchesofcountry WHERE MatchId = 41) AS team1, \n",
    "    (SELECT Result FROM matchesofcountry WHERE MatchId = 42) AS team2,\n",
    "    (SELECT FLOOR(RAND() * 6) + 1) AS Team1Score,\n",
    "    (SELECT FLOOR(RAND() * 6) + 1) AS Team2Score,\n",
    "    'draw' as Result,\n",
    "    'Quater Final' as stage\n",
    "UNION ALL\n",
    "SELECT \n",
    "    48 AS MatchId, \n",
    "    (SELECT Result FROM matchesofcountry WHERE MatchId = 43) AS team1, \n",
    "    (SELECT Result FROM matchesofcountry WHERE MatchId = 44) AS team2,\n",
    "    (SELECT FLOOR(RAND() * 6) + 1) AS Team1Score,\n",
    "    (SELECT FLOOR(RAND() * 6) + 1) AS Team2Score,\n",
    "    'draw' as Result,\n",
    "    'Quater Final' as stage;\n",
    "\n",
    "UPDATE matchesofcountry\n",
    "SET Result = \n",
    "    CASE \n",
    "        WHEN team1score > team2score THEN team1\n",
    "        WHEN team1score < team2score THEN team2\n",
    "        ELSE \n",
    "            CASE \n",
    "                WHEN (team1score + 1) % 2 = 1 THEN team1\n",
    "                ELSE team2\n",
    "            END\n",
    "    END\n",
    "where stage = 'Quater Final';\n",
    "\n",
    "select * from matchesofcountry\n",
    "order by MatchId"
   ]
  },
  {
   "cell_type": "markdown",
   "metadata": {
    "application/vnd.databricks.v1+cell": {
     "cellMetadata": {
      "byteLimit": 2048000,
      "rowLimit": 10000
     },
     "inputWidgets": {},
     "nuid": "94e89dc6-1fb0-4b89-ba08-696ca49c8d06",
     "showTitle": false,
     "title": ""
    }
   },
   "source": [
    "### Semi Final\n",
    "- populate the semifinal matches on the basics of result of quater final and update the result column"
   ]
  },
  {
   "cell_type": "code",
   "execution_count": 0,
   "metadata": {
    "application/vnd.databricks.v1+cell": {
     "cellMetadata": {
      "byteLimit": 2048000,
      "rowLimit": 10000
     },
     "inputWidgets": {},
     "nuid": "d4d6ca9d-b9a6-4b31-9d5d-b8c128ba962e",
     "showTitle": false,
     "title": ""
    }
   },
   "outputs": [
    {
     "output_type": "display_data",
     "data": {
      "text/html": [
       "<style scoped>\n",
       "  .table-result-container {\n",
       "    max-height: 300px;\n",
       "    overflow: auto;\n",
       "  }\n",
       "  table, th, td {\n",
       "    border: 1px solid black;\n",
       "    border-collapse: collapse;\n",
       "  }\n",
       "  th, td {\n",
       "    padding: 5px;\n",
       "  }\n",
       "  th {\n",
       "    text-align: left;\n",
       "  }\n",
       "</style><div class='table-result-container'><table class='table-result'><thead style='background-color: white'><tr><th>MatchId</th><th>Team1</th><th>Team2</th><th>Team1Score</th><th>Team2Score</th><th>Result</th><th>Stage</th></tr></thead><tbody><tr><td>1</td><td>Germany</td><td>Switzerland</td><td>6</td><td>4</td><td>Germany</td><td>group stage</td></tr><tr><td>2</td><td>Germany</td><td>Hungary</td><td>2</td><td>3</td><td>Hungary</td><td>group stage</td></tr><tr><td>3</td><td>Germany</td><td>Scotland</td><td>4</td><td>4</td><td>draw</td><td>group stage</td></tr><tr><td>4</td><td>Scotland</td><td>Switzerland</td><td>2</td><td>2</td><td>draw</td><td>group stage</td></tr><tr><td>5</td><td>Scotland</td><td>Hungary</td><td>3</td><td>6</td><td>Hungary</td><td>group stage</td></tr><tr><td>6</td><td>Hungary</td><td>Switzerland</td><td>1</td><td>6</td><td>Switzerland</td><td>group stage</td></tr><tr><td>7</td><td>Spain</td><td>Albania</td><td>2</td><td>2</td><td>draw</td><td>group stage</td></tr><tr><td>8</td><td>Spain</td><td>Italy</td><td>1</td><td>2</td><td>Italy</td><td>group stage</td></tr><tr><td>9</td><td>Spain</td><td>Croatia</td><td>1</td><td>3</td><td>Croatia</td><td>group stage</td></tr><tr><td>10</td><td>Croatia</td><td>Albania</td><td>5</td><td>4</td><td>Croatia</td><td>group stage</td></tr><tr><td>11</td><td>Croatia</td><td>Italy</td><td>2</td><td>3</td><td>Italy</td><td>group stage</td></tr><tr><td>12</td><td>Italy</td><td>Albania</td><td>2</td><td>4</td><td>Albania</td><td>group stage</td></tr><tr><td>13</td><td>Slovenia</td><td>England</td><td>4</td><td>1</td><td>Slovenia</td><td>group stage</td></tr><tr><td>14</td><td>Slovenia</td><td>Serbia</td><td>6</td><td>2</td><td>Slovenia</td><td>group stage</td></tr><tr><td>15</td><td>Slovenia</td><td>Denmark</td><td>1</td><td>3</td><td>Denmark</td><td>group stage</td></tr><tr><td>16</td><td>Denmark</td><td>England</td><td>3</td><td>6</td><td>England</td><td>group stage</td></tr><tr><td>17</td><td>Denmark</td><td>Serbia</td><td>2</td><td>4</td><td>Serbia</td><td>group stage</td></tr><tr><td>18</td><td>Serbia</td><td>England</td><td>6</td><td>5</td><td>Serbia</td><td>group stage</td></tr><tr><td>19</td><td>Poland</td><td>France</td><td>5</td><td>3</td><td>Poland</td><td>group stage</td></tr><tr><td>20</td><td>Poland</td><td>Austria</td><td>2</td><td>1</td><td>Poland</td><td>group stage</td></tr><tr><td>21</td><td>Poland</td><td>Netherlands</td><td>1</td><td>2</td><td>Netherlands</td><td>group stage</td></tr><tr><td>22</td><td>Netherlands</td><td>France</td><td>3</td><td>6</td><td>France</td><td>group stage</td></tr><tr><td>23</td><td>Netherlands</td><td>Austria</td><td>3</td><td>3</td><td>draw</td><td>group stage</td></tr><tr><td>24</td><td>Austria</td><td>France</td><td>3</td><td>4</td><td>France</td><td>group stage</td></tr><tr><td>25</td><td>Belgium</td><td>Ukraine</td><td>5</td><td>4</td><td>Belgium</td><td>group stage</td></tr><tr><td>26</td><td>Belgium</td><td>Romania</td><td>2</td><td>2</td><td>draw</td><td>group stage</td></tr><tr><td>27</td><td>Belgium</td><td>Slovakia</td><td>6</td><td>5</td><td>Belgium</td><td>group stage</td></tr><tr><td>28</td><td>Slovakia</td><td>Ukraine</td><td>2</td><td>3</td><td>Ukraine</td><td>group stage</td></tr><tr><td>29</td><td>Slovakia</td><td>Romania</td><td>4</td><td>2</td><td>Slovakia</td><td>group stage</td></tr><tr><td>30</td><td>Romania</td><td>Ukraine</td><td>4</td><td>2</td><td>Romania</td><td>group stage</td></tr><tr><td>31</td><td>Türkiye</td><td>Czech</td><td>2</td><td>6</td><td>Czech</td><td>group stage</td></tr><tr><td>32</td><td>Türkiye</td><td>Portugal</td><td>3</td><td>1</td><td>Türkiye</td><td>group stage</td></tr><tr><td>33</td><td>Türkiye</td><td>Greece</td><td>5</td><td>6</td><td>Greece</td><td>group stage</td></tr><tr><td>34</td><td>Greece</td><td>Czech</td><td>2</td><td>6</td><td>Czech</td><td>group stage</td></tr><tr><td>35</td><td>Greece</td><td>Portugal</td><td>2</td><td>4</td><td>Portugal</td><td>group stage</td></tr><tr><td>36</td><td>Portugal</td><td>Czech</td><td>1</td><td>4</td><td>Czech</td><td>group stage</td></tr><tr><td>37</td><td>Croatia</td><td>Netherlands</td><td>4</td><td>6</td><td>Netherlands</td><td>Roundof 16</td></tr><tr><td>38</td><td>Hungary</td><td>Serbia</td><td>4</td><td>2</td><td>Hungary</td><td>Roundof 16</td></tr><tr><td>39</td><td>Czech</td><td>Albania</td><td>3</td><td>6</td><td>Albania</td><td>Roundof 16</td></tr><tr><td>40</td><td>Poland</td><td>Romania</td><td>6</td><td>5</td><td>Poland</td><td>Roundof 16</td></tr><tr><td>41</td><td>Belgium</td><td>Germany</td><td>2</td><td>5</td><td>Germany</td><td>Roundof 16</td></tr><tr><td>42</td><td>France</td><td>Türkiye</td><td>2</td><td>3</td><td>Türkiye</td><td>Roundof 16</td></tr><tr><td>43</td><td>Slovenia</td><td>Slovakia</td><td>2</td><td>6</td><td>Slovakia</td><td>Roundof 16</td></tr><tr><td>44</td><td>Switzerland</td><td>Italy</td><td>5</td><td>4</td><td>Switzerland</td><td>Roundof 16</td></tr><tr><td>45</td><td>Netherlands</td><td>Hungary</td><td>3</td><td>3</td><td>Hungary</td><td>Quater Final</td></tr><tr><td>46</td><td>Albania</td><td>Poland</td><td>2</td><td>3</td><td>Poland</td><td>Quater Final</td></tr><tr><td>47</td><td>Germany</td><td>Türkiye</td><td>1</td><td>5</td><td>Türkiye</td><td>Quater Final</td></tr><tr><td>48</td><td>Slovakia</td><td>Switzerland</td><td>2</td><td>2</td><td>Slovakia</td><td>Quater Final</td></tr><tr><td>49</td><td>Hungary</td><td>Poland</td><td>6</td><td>2</td><td>Hungary</td><td>Semi Final</td></tr><tr><td>50</td><td>Türkiye</td><td>Slovakia</td><td>3</td><td>6</td><td>Slovakia</td><td>Semi Final</td></tr></tbody></table></div>"
      ]
     },
     "metadata": {
      "application/vnd.databricks.v1+output": {
       "addedWidgets": {},
       "aggData": [],
       "aggError": "",
       "aggOverflow": false,
       "aggSchema": [],
       "aggSeriesLimitReached": false,
       "aggType": "",
       "arguments": {},
       "columnCustomDisplayInfos": {},
       "data": [
        [
         1,
         "Germany",
         "Switzerland",
         6,
         4,
         "Germany",
         "group stage"
        ],
        [
         2,
         "Germany",
         "Hungary",
         2,
         3,
         "Hungary",
         "group stage"
        ],
        [
         3,
         "Germany",
         "Scotland",
         4,
         4,
         "draw",
         "group stage"
        ],
        [
         4,
         "Scotland",
         "Switzerland",
         2,
         2,
         "draw",
         "group stage"
        ],
        [
         5,
         "Scotland",
         "Hungary",
         3,
         6,
         "Hungary",
         "group stage"
        ],
        [
         6,
         "Hungary",
         "Switzerland",
         1,
         6,
         "Switzerland",
         "group stage"
        ],
        [
         7,
         "Spain",
         "Albania",
         2,
         2,
         "draw",
         "group stage"
        ],
        [
         8,
         "Spain",
         "Italy",
         1,
         2,
         "Italy",
         "group stage"
        ],
        [
         9,
         "Spain",
         "Croatia",
         1,
         3,
         "Croatia",
         "group stage"
        ],
        [
         10,
         "Croatia",
         "Albania",
         5,
         4,
         "Croatia",
         "group stage"
        ],
        [
         11,
         "Croatia",
         "Italy",
         2,
         3,
         "Italy",
         "group stage"
        ],
        [
         12,
         "Italy",
         "Albania",
         2,
         4,
         "Albania",
         "group stage"
        ],
        [
         13,
         "Slovenia",
         "England",
         4,
         1,
         "Slovenia",
         "group stage"
        ],
        [
         14,
         "Slovenia",
         "Serbia",
         6,
         2,
         "Slovenia",
         "group stage"
        ],
        [
         15,
         "Slovenia",
         "Denmark",
         1,
         3,
         "Denmark",
         "group stage"
        ],
        [
         16,
         "Denmark",
         "England",
         3,
         6,
         "England",
         "group stage"
        ],
        [
         17,
         "Denmark",
         "Serbia",
         2,
         4,
         "Serbia",
         "group stage"
        ],
        [
         18,
         "Serbia",
         "England",
         6,
         5,
         "Serbia",
         "group stage"
        ],
        [
         19,
         "Poland",
         "France",
         5,
         3,
         "Poland",
         "group stage"
        ],
        [
         20,
         "Poland",
         "Austria",
         2,
         1,
         "Poland",
         "group stage"
        ],
        [
         21,
         "Poland",
         "Netherlands",
         1,
         2,
         "Netherlands",
         "group stage"
        ],
        [
         22,
         "Netherlands",
         "France",
         3,
         6,
         "France",
         "group stage"
        ],
        [
         23,
         "Netherlands",
         "Austria",
         3,
         3,
         "draw",
         "group stage"
        ],
        [
         24,
         "Austria",
         "France",
         3,
         4,
         "France",
         "group stage"
        ],
        [
         25,
         "Belgium",
         "Ukraine",
         5,
         4,
         "Belgium",
         "group stage"
        ],
        [
         26,
         "Belgium",
         "Romania",
         2,
         2,
         "draw",
         "group stage"
        ],
        [
         27,
         "Belgium",
         "Slovakia",
         6,
         5,
         "Belgium",
         "group stage"
        ],
        [
         28,
         "Slovakia",
         "Ukraine",
         2,
         3,
         "Ukraine",
         "group stage"
        ],
        [
         29,
         "Slovakia",
         "Romania",
         4,
         2,
         "Slovakia",
         "group stage"
        ],
        [
         30,
         "Romania",
         "Ukraine",
         4,
         2,
         "Romania",
         "group stage"
        ],
        [
         31,
         "Türkiye",
         "Czech",
         2,
         6,
         "Czech",
         "group stage"
        ],
        [
         32,
         "Türkiye",
         "Portugal",
         3,
         1,
         "Türkiye",
         "group stage"
        ],
        [
         33,
         "Türkiye",
         "Greece",
         5,
         6,
         "Greece",
         "group stage"
        ],
        [
         34,
         "Greece",
         "Czech",
         2,
         6,
         "Czech",
         "group stage"
        ],
        [
         35,
         "Greece",
         "Portugal",
         2,
         4,
         "Portugal",
         "group stage"
        ],
        [
         36,
         "Portugal",
         "Czech",
         1,
         4,
         "Czech",
         "group stage"
        ],
        [
         37,
         "Croatia",
         "Netherlands",
         4,
         6,
         "Netherlands",
         "Roundof 16"
        ],
        [
         38,
         "Hungary",
         "Serbia",
         4,
         2,
         "Hungary",
         "Roundof 16"
        ],
        [
         39,
         "Czech",
         "Albania",
         3,
         6,
         "Albania",
         "Roundof 16"
        ],
        [
         40,
         "Poland",
         "Romania",
         6,
         5,
         "Poland",
         "Roundof 16"
        ],
        [
         41,
         "Belgium",
         "Germany",
         2,
         5,
         "Germany",
         "Roundof 16"
        ],
        [
         42,
         "France",
         "Türkiye",
         2,
         3,
         "Türkiye",
         "Roundof 16"
        ],
        [
         43,
         "Slovenia",
         "Slovakia",
         2,
         6,
         "Slovakia",
         "Roundof 16"
        ],
        [
         44,
         "Switzerland",
         "Italy",
         5,
         4,
         "Switzerland",
         "Roundof 16"
        ],
        [
         45,
         "Netherlands",
         "Hungary",
         3,
         3,
         "Hungary",
         "Quater Final"
        ],
        [
         46,
         "Albania",
         "Poland",
         2,
         3,
         "Poland",
         "Quater Final"
        ],
        [
         47,
         "Germany",
         "Türkiye",
         1,
         5,
         "Türkiye",
         "Quater Final"
        ],
        [
         48,
         "Slovakia",
         "Switzerland",
         2,
         2,
         "Slovakia",
         "Quater Final"
        ],
        [
         49,
         "Hungary",
         "Poland",
         6,
         2,
         "Hungary",
         "Semi Final"
        ],
        [
         50,
         "Türkiye",
         "Slovakia",
         3,
         6,
         "Slovakia",
         "Semi Final"
        ]
       ],
       "datasetInfos": [],
       "dbfsResultPath": null,
       "isJsonSchema": true,
       "metadata": {
        "isDbfsCommandResult": false
       },
       "overflow": false,
       "plotOptions": {
        "customPlotOptions": {},
        "displayType": "table",
        "pivotAggregation": null,
        "pivotColumns": null,
        "xColumns": null,
        "yColumns": null
       },
       "removedWidgets": [],
       "schema": [
        {
         "metadata": "{}",
         "name": "MatchId",
         "type": "\"integer\""
        },
        {
         "metadata": "{\"__CHAR_VARCHAR_TYPE_STRING\":\"varchar(255)\"}",
         "name": "Team1",
         "type": "\"string\""
        },
        {
         "metadata": "{\"__CHAR_VARCHAR_TYPE_STRING\":\"varchar(255)\"}",
         "name": "Team2",
         "type": "\"string\""
        },
        {
         "metadata": "{}",
         "name": "Team1Score",
         "type": "\"integer\""
        },
        {
         "metadata": "{}",
         "name": "Team2Score",
         "type": "\"integer\""
        },
        {
         "metadata": "{\"__CHAR_VARCHAR_TYPE_STRING\":\"varchar(255)\"}",
         "name": "Result",
         "type": "\"string\""
        },
        {
         "metadata": "{\"__CHAR_VARCHAR_TYPE_STRING\":\"varchar(255)\"}",
         "name": "Stage",
         "type": "\"string\""
        }
       ],
       "type": "table"
      }
     },
     "output_type": "display_data"
    }
   ],
   "source": [
    "%sql\n",
    "INSERT INTO matchesofcountry (MatchId, team1, team2, team1score, team2score, Result, stage)\n",
    "SELECT \n",
    "    49 AS MatchId, \n",
    "    (SELECT Result FROM matchesofcountry WHERE MatchId = 45) AS team1, \n",
    "    (SELECT Result FROM matchesofcountry WHERE MatchId = 46) AS team2,\n",
    "    (SELECT FLOOR(RAND() * 6) + 1) AS Team1Score,\n",
    "    (SELECT FLOOR(RAND() * 6) + 1) AS Team2Score,\n",
    "    'draw' as Result,\n",
    "    'Semi Final' as stage\n",
    "UNION ALL\n",
    "SELECT \n",
    "    50 AS MatchId, \n",
    "    (SELECT Result FROM matchesofcountry WHERE MatchId = 47) AS team1, \n",
    "    (SELECT Result FROM matchesofcountry WHERE MatchId = 48) AS team2,\n",
    "    (SELECT FLOOR(RAND() * 6) + 1) AS Team1Score,\n",
    "    (SELECT FLOOR(RAND() * 6) + 1) AS Team2Score,\n",
    "    'draw' as Result,\n",
    "    'Semi Final' as stage;\n",
    "\n",
    "UPDATE matchesofcountry\n",
    "SET Result = \n",
    "    CASE \n",
    "        WHEN team1score > team2score THEN team1\n",
    "        WHEN team1score < team2score THEN team2\n",
    "        ELSE \n",
    "            CASE \n",
    "                WHEN (team1score + 1) % 2 = 1 THEN team1\n",
    "                ELSE team2\n",
    "            END\n",
    "    END\n",
    "where stage = 'Semi Final';\n",
    "\n",
    "select * from matchesofcountry\n",
    "order by MatchId"
   ]
  },
  {
   "cell_type": "markdown",
   "metadata": {
    "application/vnd.databricks.v1+cell": {
     "cellMetadata": {
      "byteLimit": 2048000,
      "rowLimit": 10000
     },
     "inputWidgets": {},
     "nuid": "c613901e-b7e1-4618-a86e-2e787a9d8cee",
     "showTitle": false,
     "title": ""
    }
   },
   "source": [
    "### Final at Munich, Olympiastadion Berlin 7/14 21:00 kickof"
   ]
  },
  {
   "cell_type": "code",
   "execution_count": 0,
   "metadata": {
    "application/vnd.databricks.v1+cell": {
     "cellMetadata": {
      "byteLimit": 2048000,
      "rowLimit": 10000
     },
     "inputWidgets": {},
     "nuid": "cbb34765-cc2f-47e7-87e5-6c6c03d22dd7",
     "showTitle": false,
     "title": ""
    }
   },
   "outputs": [
    {
     "output_type": "display_data",
     "data": {
      "text/html": [
       "<style scoped>\n",
       "  .table-result-container {\n",
       "    max-height: 300px;\n",
       "    overflow: auto;\n",
       "  }\n",
       "  table, th, td {\n",
       "    border: 1px solid black;\n",
       "    border-collapse: collapse;\n",
       "  }\n",
       "  th, td {\n",
       "    padding: 5px;\n",
       "  }\n",
       "  th {\n",
       "    text-align: left;\n",
       "  }\n",
       "</style><div class='table-result-container'><table class='table-result'><thead style='background-color: white'><tr><th>MatchId</th><th>Team1</th><th>Team2</th><th>Team1Score</th><th>Team2Score</th><th>Result</th><th>Stage</th></tr></thead><tbody><tr><td>1</td><td>Germany</td><td>Switzerland</td><td>6</td><td>4</td><td>Germany</td><td>group stage</td></tr><tr><td>2</td><td>Germany</td><td>Hungary</td><td>2</td><td>3</td><td>Hungary</td><td>group stage</td></tr><tr><td>3</td><td>Germany</td><td>Scotland</td><td>4</td><td>4</td><td>draw</td><td>group stage</td></tr><tr><td>4</td><td>Scotland</td><td>Switzerland</td><td>2</td><td>2</td><td>draw</td><td>group stage</td></tr><tr><td>5</td><td>Scotland</td><td>Hungary</td><td>3</td><td>6</td><td>Hungary</td><td>group stage</td></tr><tr><td>6</td><td>Hungary</td><td>Switzerland</td><td>1</td><td>6</td><td>Switzerland</td><td>group stage</td></tr><tr><td>7</td><td>Spain</td><td>Albania</td><td>2</td><td>2</td><td>draw</td><td>group stage</td></tr><tr><td>8</td><td>Spain</td><td>Italy</td><td>1</td><td>2</td><td>Italy</td><td>group stage</td></tr><tr><td>9</td><td>Spain</td><td>Croatia</td><td>1</td><td>3</td><td>Croatia</td><td>group stage</td></tr><tr><td>10</td><td>Croatia</td><td>Albania</td><td>5</td><td>4</td><td>Croatia</td><td>group stage</td></tr><tr><td>11</td><td>Croatia</td><td>Italy</td><td>2</td><td>3</td><td>Italy</td><td>group stage</td></tr><tr><td>12</td><td>Italy</td><td>Albania</td><td>2</td><td>4</td><td>Albania</td><td>group stage</td></tr><tr><td>13</td><td>Slovenia</td><td>England</td><td>4</td><td>1</td><td>Slovenia</td><td>group stage</td></tr><tr><td>14</td><td>Slovenia</td><td>Serbia</td><td>6</td><td>2</td><td>Slovenia</td><td>group stage</td></tr><tr><td>15</td><td>Slovenia</td><td>Denmark</td><td>1</td><td>3</td><td>Denmark</td><td>group stage</td></tr><tr><td>16</td><td>Denmark</td><td>England</td><td>3</td><td>6</td><td>England</td><td>group stage</td></tr><tr><td>17</td><td>Denmark</td><td>Serbia</td><td>2</td><td>4</td><td>Serbia</td><td>group stage</td></tr><tr><td>18</td><td>Serbia</td><td>England</td><td>6</td><td>5</td><td>Serbia</td><td>group stage</td></tr><tr><td>19</td><td>Poland</td><td>France</td><td>5</td><td>3</td><td>Poland</td><td>group stage</td></tr><tr><td>20</td><td>Poland</td><td>Austria</td><td>2</td><td>1</td><td>Poland</td><td>group stage</td></tr><tr><td>21</td><td>Poland</td><td>Netherlands</td><td>1</td><td>2</td><td>Netherlands</td><td>group stage</td></tr><tr><td>22</td><td>Netherlands</td><td>France</td><td>3</td><td>6</td><td>France</td><td>group stage</td></tr><tr><td>23</td><td>Netherlands</td><td>Austria</td><td>3</td><td>3</td><td>draw</td><td>group stage</td></tr><tr><td>24</td><td>Austria</td><td>France</td><td>3</td><td>4</td><td>France</td><td>group stage</td></tr><tr><td>25</td><td>Belgium</td><td>Ukraine</td><td>5</td><td>4</td><td>Belgium</td><td>group stage</td></tr><tr><td>26</td><td>Belgium</td><td>Romania</td><td>2</td><td>2</td><td>draw</td><td>group stage</td></tr><tr><td>27</td><td>Belgium</td><td>Slovakia</td><td>6</td><td>5</td><td>Belgium</td><td>group stage</td></tr><tr><td>28</td><td>Slovakia</td><td>Ukraine</td><td>2</td><td>3</td><td>Ukraine</td><td>group stage</td></tr><tr><td>29</td><td>Slovakia</td><td>Romania</td><td>4</td><td>2</td><td>Slovakia</td><td>group stage</td></tr><tr><td>30</td><td>Romania</td><td>Ukraine</td><td>4</td><td>2</td><td>Romania</td><td>group stage</td></tr><tr><td>31</td><td>Türkiye</td><td>Czech</td><td>2</td><td>6</td><td>Czech</td><td>group stage</td></tr><tr><td>32</td><td>Türkiye</td><td>Portugal</td><td>3</td><td>1</td><td>Türkiye</td><td>group stage</td></tr><tr><td>33</td><td>Türkiye</td><td>Greece</td><td>5</td><td>6</td><td>Greece</td><td>group stage</td></tr><tr><td>34</td><td>Greece</td><td>Czech</td><td>2</td><td>6</td><td>Czech</td><td>group stage</td></tr><tr><td>35</td><td>Greece</td><td>Portugal</td><td>2</td><td>4</td><td>Portugal</td><td>group stage</td></tr><tr><td>36</td><td>Portugal</td><td>Czech</td><td>1</td><td>4</td><td>Czech</td><td>group stage</td></tr><tr><td>37</td><td>Croatia</td><td>Netherlands</td><td>4</td><td>6</td><td>Netherlands</td><td>Roundof 16</td></tr><tr><td>38</td><td>Hungary</td><td>Serbia</td><td>4</td><td>2</td><td>Hungary</td><td>Roundof 16</td></tr><tr><td>39</td><td>Czech</td><td>Albania</td><td>3</td><td>6</td><td>Albania</td><td>Roundof 16</td></tr><tr><td>40</td><td>Poland</td><td>Romania</td><td>6</td><td>5</td><td>Poland</td><td>Roundof 16</td></tr><tr><td>41</td><td>Belgium</td><td>Germany</td><td>2</td><td>5</td><td>Germany</td><td>Roundof 16</td></tr><tr><td>42</td><td>France</td><td>Türkiye</td><td>2</td><td>3</td><td>Türkiye</td><td>Roundof 16</td></tr><tr><td>43</td><td>Slovenia</td><td>Slovakia</td><td>2</td><td>6</td><td>Slovakia</td><td>Roundof 16</td></tr><tr><td>44</td><td>Switzerland</td><td>Italy</td><td>5</td><td>4</td><td>Switzerland</td><td>Roundof 16</td></tr><tr><td>45</td><td>Netherlands</td><td>Hungary</td><td>3</td><td>3</td><td>Hungary</td><td>Quater Final</td></tr><tr><td>46</td><td>Albania</td><td>Poland</td><td>2</td><td>3</td><td>Poland</td><td>Quater Final</td></tr><tr><td>47</td><td>Germany</td><td>Türkiye</td><td>1</td><td>5</td><td>Türkiye</td><td>Quater Final</td></tr><tr><td>48</td><td>Slovakia</td><td>Switzerland</td><td>2</td><td>2</td><td>Slovakia</td><td>Quater Final</td></tr><tr><td>49</td><td>Hungary</td><td>Poland</td><td>6</td><td>2</td><td>Hungary</td><td>Semi Final</td></tr><tr><td>50</td><td>Türkiye</td><td>Slovakia</td><td>3</td><td>6</td><td>Slovakia</td><td>Semi Final</td></tr><tr><td>51</td><td>Hungary</td><td>Slovakia</td><td>1</td><td>3</td><td>Slovakia</td><td>Final</td></tr></tbody></table></div>"
      ]
     },
     "metadata": {
      "application/vnd.databricks.v1+output": {
       "addedWidgets": {},
       "aggData": [],
       "aggError": "",
       "aggOverflow": false,
       "aggSchema": [],
       "aggSeriesLimitReached": false,
       "aggType": "",
       "arguments": {},
       "columnCustomDisplayInfos": {},
       "data": [
        [
         1,
         "Germany",
         "Switzerland",
         6,
         4,
         "Germany",
         "group stage"
        ],
        [
         2,
         "Germany",
         "Hungary",
         2,
         3,
         "Hungary",
         "group stage"
        ],
        [
         3,
         "Germany",
         "Scotland",
         4,
         4,
         "draw",
         "group stage"
        ],
        [
         4,
         "Scotland",
         "Switzerland",
         2,
         2,
         "draw",
         "group stage"
        ],
        [
         5,
         "Scotland",
         "Hungary",
         3,
         6,
         "Hungary",
         "group stage"
        ],
        [
         6,
         "Hungary",
         "Switzerland",
         1,
         6,
         "Switzerland",
         "group stage"
        ],
        [
         7,
         "Spain",
         "Albania",
         2,
         2,
         "draw",
         "group stage"
        ],
        [
         8,
         "Spain",
         "Italy",
         1,
         2,
         "Italy",
         "group stage"
        ],
        [
         9,
         "Spain",
         "Croatia",
         1,
         3,
         "Croatia",
         "group stage"
        ],
        [
         10,
         "Croatia",
         "Albania",
         5,
         4,
         "Croatia",
         "group stage"
        ],
        [
         11,
         "Croatia",
         "Italy",
         2,
         3,
         "Italy",
         "group stage"
        ],
        [
         12,
         "Italy",
         "Albania",
         2,
         4,
         "Albania",
         "group stage"
        ],
        [
         13,
         "Slovenia",
         "England",
         4,
         1,
         "Slovenia",
         "group stage"
        ],
        [
         14,
         "Slovenia",
         "Serbia",
         6,
         2,
         "Slovenia",
         "group stage"
        ],
        [
         15,
         "Slovenia",
         "Denmark",
         1,
         3,
         "Denmark",
         "group stage"
        ],
        [
         16,
         "Denmark",
         "England",
         3,
         6,
         "England",
         "group stage"
        ],
        [
         17,
         "Denmark",
         "Serbia",
         2,
         4,
         "Serbia",
         "group stage"
        ],
        [
         18,
         "Serbia",
         "England",
         6,
         5,
         "Serbia",
         "group stage"
        ],
        [
         19,
         "Poland",
         "France",
         5,
         3,
         "Poland",
         "group stage"
        ],
        [
         20,
         "Poland",
         "Austria",
         2,
         1,
         "Poland",
         "group stage"
        ],
        [
         21,
         "Poland",
         "Netherlands",
         1,
         2,
         "Netherlands",
         "group stage"
        ],
        [
         22,
         "Netherlands",
         "France",
         3,
         6,
         "France",
         "group stage"
        ],
        [
         23,
         "Netherlands",
         "Austria",
         3,
         3,
         "draw",
         "group stage"
        ],
        [
         24,
         "Austria",
         "France",
         3,
         4,
         "France",
         "group stage"
        ],
        [
         25,
         "Belgium",
         "Ukraine",
         5,
         4,
         "Belgium",
         "group stage"
        ],
        [
         26,
         "Belgium",
         "Romania",
         2,
         2,
         "draw",
         "group stage"
        ],
        [
         27,
         "Belgium",
         "Slovakia",
         6,
         5,
         "Belgium",
         "group stage"
        ],
        [
         28,
         "Slovakia",
         "Ukraine",
         2,
         3,
         "Ukraine",
         "group stage"
        ],
        [
         29,
         "Slovakia",
         "Romania",
         4,
         2,
         "Slovakia",
         "group stage"
        ],
        [
         30,
         "Romania",
         "Ukraine",
         4,
         2,
         "Romania",
         "group stage"
        ],
        [
         31,
         "Türkiye",
         "Czech",
         2,
         6,
         "Czech",
         "group stage"
        ],
        [
         32,
         "Türkiye",
         "Portugal",
         3,
         1,
         "Türkiye",
         "group stage"
        ],
        [
         33,
         "Türkiye",
         "Greece",
         5,
         6,
         "Greece",
         "group stage"
        ],
        [
         34,
         "Greece",
         "Czech",
         2,
         6,
         "Czech",
         "group stage"
        ],
        [
         35,
         "Greece",
         "Portugal",
         2,
         4,
         "Portugal",
         "group stage"
        ],
        [
         36,
         "Portugal",
         "Czech",
         1,
         4,
         "Czech",
         "group stage"
        ],
        [
         37,
         "Croatia",
         "Netherlands",
         4,
         6,
         "Netherlands",
         "Roundof 16"
        ],
        [
         38,
         "Hungary",
         "Serbia",
         4,
         2,
         "Hungary",
         "Roundof 16"
        ],
        [
         39,
         "Czech",
         "Albania",
         3,
         6,
         "Albania",
         "Roundof 16"
        ],
        [
         40,
         "Poland",
         "Romania",
         6,
         5,
         "Poland",
         "Roundof 16"
        ],
        [
         41,
         "Belgium",
         "Germany",
         2,
         5,
         "Germany",
         "Roundof 16"
        ],
        [
         42,
         "France",
         "Türkiye",
         2,
         3,
         "Türkiye",
         "Roundof 16"
        ],
        [
         43,
         "Slovenia",
         "Slovakia",
         2,
         6,
         "Slovakia",
         "Roundof 16"
        ],
        [
         44,
         "Switzerland",
         "Italy",
         5,
         4,
         "Switzerland",
         "Roundof 16"
        ],
        [
         45,
         "Netherlands",
         "Hungary",
         3,
         3,
         "Hungary",
         "Quater Final"
        ],
        [
         46,
         "Albania",
         "Poland",
         2,
         3,
         "Poland",
         "Quater Final"
        ],
        [
         47,
         "Germany",
         "Türkiye",
         1,
         5,
         "Türkiye",
         "Quater Final"
        ],
        [
         48,
         "Slovakia",
         "Switzerland",
         2,
         2,
         "Slovakia",
         "Quater Final"
        ],
        [
         49,
         "Hungary",
         "Poland",
         6,
         2,
         "Hungary",
         "Semi Final"
        ],
        [
         50,
         "Türkiye",
         "Slovakia",
         3,
         6,
         "Slovakia",
         "Semi Final"
        ],
        [
         51,
         "Hungary",
         "Slovakia",
         1,
         3,
         "Slovakia",
         "Final"
        ]
       ],
       "datasetInfos": [],
       "dbfsResultPath": null,
       "isJsonSchema": true,
       "metadata": {
        "isDbfsCommandResult": false
       },
       "overflow": false,
       "plotOptions": {
        "customPlotOptions": {},
        "displayType": "table",
        "pivotAggregation": null,
        "pivotColumns": null,
        "xColumns": null,
        "yColumns": null
       },
       "removedWidgets": [],
       "schema": [
        {
         "metadata": "{}",
         "name": "MatchId",
         "type": "\"integer\""
        },
        {
         "metadata": "{\"__CHAR_VARCHAR_TYPE_STRING\":\"varchar(255)\"}",
         "name": "Team1",
         "type": "\"string\""
        },
        {
         "metadata": "{\"__CHAR_VARCHAR_TYPE_STRING\":\"varchar(255)\"}",
         "name": "Team2",
         "type": "\"string\""
        },
        {
         "metadata": "{}",
         "name": "Team1Score",
         "type": "\"integer\""
        },
        {
         "metadata": "{}",
         "name": "Team2Score",
         "type": "\"integer\""
        },
        {
         "metadata": "{\"__CHAR_VARCHAR_TYPE_STRING\":\"varchar(255)\"}",
         "name": "Result",
         "type": "\"string\""
        },
        {
         "metadata": "{\"__CHAR_VARCHAR_TYPE_STRING\":\"varchar(255)\"}",
         "name": "Stage",
         "type": "\"string\""
        }
       ],
       "type": "table"
      }
     },
     "output_type": "display_data"
    }
   ],
   "source": [
    "%sql\n",
    "INSERT INTO matchesofcountry (MatchId, team1, team2, team1score, team2score, Result, stage)\n",
    "SELECT \n",
    "    51 AS MatchId, \n",
    "    (SELECT Result FROM matchesofcountry WHERE MatchId = 49) AS team1, \n",
    "    (SELECT Result FROM matchesofcountry WHERE MatchId = 50) AS team2,\n",
    "    (SELECT FLOOR(RAND() * 6) + 1) AS Team1Score,\n",
    "    (SELECT FLOOR(RAND() * 6) + 1) AS Team2Score,\n",
    "    'draw' as Result,\n",
    "    'Final' as stage;\n",
    "UPDATE matchesofcountry\n",
    "SET Result = \n",
    "    CASE \n",
    "        WHEN team1score > team2score THEN team1\n",
    "        WHEN team1score < team2score THEN team2\n",
    "        ELSE \n",
    "            CASE \n",
    "                WHEN (team1score + 1) % 2 = 1 THEN team1\n",
    "                ELSE team2\n",
    "            END\n",
    "    END\n",
    "where stage = 'Final';\n",
    "\n",
    "select * from matchesofcountry\n",
    "order by MatchId"
   ]
  },
  {
   "cell_type": "code",
   "execution_count": 0,
   "metadata": {
    "application/vnd.databricks.v1+cell": {
     "cellMetadata": {
      "byteLimit": 2048000,
      "rowLimit": 10000
     },
     "inputWidgets": {},
     "nuid": "c95fe2d1-8277-4bf6-953e-dc878effa602",
     "showTitle": false,
     "title": ""
    }
   },
   "outputs": [
    {
     "output_type": "display_data",
     "data": {
      "text/html": [
       "<style scoped>\n",
       "  .table-result-container {\n",
       "    max-height: 300px;\n",
       "    overflow: auto;\n",
       "  }\n",
       "  table, th, td {\n",
       "    border: 1px solid black;\n",
       "    border-collapse: collapse;\n",
       "  }\n",
       "  th, td {\n",
       "    padding: 5px;\n",
       "  }\n",
       "  th {\n",
       "    text-align: left;\n",
       "  }\n",
       "</style><div class='table-result-container'><table class='table-result'><thead style='background-color: white'><tr><th>MatchId</th><th>Team1</th><th>Team2</th><th>Team1Score</th><th>Team2Score</th><th>Result</th><th>Stage</th></tr></thead><tbody><tr><td>37</td><td>Croatia</td><td>Netherlands</td><td>4</td><td>6</td><td>Netherlands</td><td>Roundof 16</td></tr><tr><td>38</td><td>Hungary</td><td>Serbia</td><td>4</td><td>2</td><td>Hungary</td><td>Roundof 16</td></tr><tr><td>39</td><td>Czech</td><td>Albania</td><td>3</td><td>6</td><td>Albania</td><td>Roundof 16</td></tr><tr><td>40</td><td>Poland</td><td>Romania</td><td>6</td><td>5</td><td>Poland</td><td>Roundof 16</td></tr><tr><td>41</td><td>Belgium</td><td>Germany</td><td>2</td><td>5</td><td>Germany</td><td>Roundof 16</td></tr><tr><td>42</td><td>France</td><td>Türkiye</td><td>2</td><td>3</td><td>Türkiye</td><td>Roundof 16</td></tr><tr><td>43</td><td>Slovenia</td><td>Slovakia</td><td>2</td><td>6</td><td>Slovakia</td><td>Roundof 16</td></tr><tr><td>44</td><td>Switzerland</td><td>Italy</td><td>5</td><td>4</td><td>Switzerland</td><td>Roundof 16</td></tr></tbody></table></div>"
      ]
     },
     "metadata": {
      "application/vnd.databricks.v1+output": {
       "addedWidgets": {},
       "aggData": [],
       "aggError": "",
       "aggOverflow": false,
       "aggSchema": [],
       "aggSeriesLimitReached": false,
       "aggType": "",
       "arguments": {},
       "columnCustomDisplayInfos": {},
       "data": [
        [
         37,
         "Croatia",
         "Netherlands",
         4,
         6,
         "Netherlands",
         "Roundof 16"
        ],
        [
         38,
         "Hungary",
         "Serbia",
         4,
         2,
         "Hungary",
         "Roundof 16"
        ],
        [
         39,
         "Czech",
         "Albania",
         3,
         6,
         "Albania",
         "Roundof 16"
        ],
        [
         40,
         "Poland",
         "Romania",
         6,
         5,
         "Poland",
         "Roundof 16"
        ],
        [
         41,
         "Belgium",
         "Germany",
         2,
         5,
         "Germany",
         "Roundof 16"
        ],
        [
         42,
         "France",
         "Türkiye",
         2,
         3,
         "Türkiye",
         "Roundof 16"
        ],
        [
         43,
         "Slovenia",
         "Slovakia",
         2,
         6,
         "Slovakia",
         "Roundof 16"
        ],
        [
         44,
         "Switzerland",
         "Italy",
         5,
         4,
         "Switzerland",
         "Roundof 16"
        ]
       ],
       "datasetInfos": [],
       "dbfsResultPath": null,
       "isJsonSchema": true,
       "metadata": {
        "isDbfsCommandResult": false
       },
       "overflow": false,
       "plotOptions": {
        "customPlotOptions": {},
        "displayType": "table",
        "pivotAggregation": null,
        "pivotColumns": null,
        "xColumns": null,
        "yColumns": null
       },
       "removedWidgets": [],
       "schema": [
        {
         "metadata": "{}",
         "name": "MatchId",
         "type": "\"integer\""
        },
        {
         "metadata": "{\"__CHAR_VARCHAR_TYPE_STRING\":\"varchar(255)\"}",
         "name": "Team1",
         "type": "\"string\""
        },
        {
         "metadata": "{\"__CHAR_VARCHAR_TYPE_STRING\":\"varchar(255)\"}",
         "name": "Team2",
         "type": "\"string\""
        },
        {
         "metadata": "{}",
         "name": "Team1Score",
         "type": "\"integer\""
        },
        {
         "metadata": "{}",
         "name": "Team2Score",
         "type": "\"integer\""
        },
        {
         "metadata": "{\"__CHAR_VARCHAR_TYPE_STRING\":\"varchar(255)\"}",
         "name": "Result",
         "type": "\"string\""
        },
        {
         "metadata": "{\"__CHAR_VARCHAR_TYPE_STRING\":\"varchar(255)\"}",
         "name": "Stage",
         "type": "\"string\""
        }
       ],
       "type": "table"
      }
     },
     "output_type": "display_data"
    }
   ],
   "source": [
    "%sql\n",
    "select * from matchesofcountry where stage = 'Roundof 16'\n",
    "order by MatchId"
   ]
  },
  {
   "cell_type": "code",
   "execution_count": 0,
   "metadata": {
    "application/vnd.databricks.v1+cell": {
     "cellMetadata": {
      "byteLimit": 2048000,
      "rowLimit": 10000
     },
     "inputWidgets": {},
     "nuid": "b5afb9df-f40e-4de9-b162-10d877e090db",
     "showTitle": false,
     "title": ""
    }
   },
   "outputs": [
    {
     "output_type": "display_data",
     "data": {
      "text/html": [
       "<style scoped>\n",
       "  .table-result-container {\n",
       "    max-height: 300px;\n",
       "    overflow: auto;\n",
       "  }\n",
       "  table, th, td {\n",
       "    border: 1px solid black;\n",
       "    border-collapse: collapse;\n",
       "  }\n",
       "  th, td {\n",
       "    padding: 5px;\n",
       "  }\n",
       "  th {\n",
       "    text-align: left;\n",
       "  }\n",
       "</style><div class='table-result-container'><table class='table-result'><thead style='background-color: white'><tr><th>MatchId</th><th>Team1</th><th>Team2</th><th>Team1Score</th><th>Team2Score</th><th>Result</th><th>Stage</th></tr></thead><tbody><tr><td>45</td><td>Netherlands</td><td>Hungary</td><td>3</td><td>3</td><td>Hungary</td><td>Quater Final</td></tr><tr><td>46</td><td>Albania</td><td>Poland</td><td>2</td><td>3</td><td>Poland</td><td>Quater Final</td></tr><tr><td>47</td><td>Germany</td><td>Türkiye</td><td>1</td><td>5</td><td>Türkiye</td><td>Quater Final</td></tr><tr><td>48</td><td>Slovakia</td><td>Switzerland</td><td>2</td><td>2</td><td>Slovakia</td><td>Quater Final</td></tr></tbody></table></div>"
      ]
     },
     "metadata": {
      "application/vnd.databricks.v1+output": {
       "addedWidgets": {},
       "aggData": [],
       "aggError": "",
       "aggOverflow": false,
       "aggSchema": [],
       "aggSeriesLimitReached": false,
       "aggType": "",
       "arguments": {},
       "columnCustomDisplayInfos": {},
       "data": [
        [
         45,
         "Netherlands",
         "Hungary",
         3,
         3,
         "Hungary",
         "Quater Final"
        ],
        [
         46,
         "Albania",
         "Poland",
         2,
         3,
         "Poland",
         "Quater Final"
        ],
        [
         47,
         "Germany",
         "Türkiye",
         1,
         5,
         "Türkiye",
         "Quater Final"
        ],
        [
         48,
         "Slovakia",
         "Switzerland",
         2,
         2,
         "Slovakia",
         "Quater Final"
        ]
       ],
       "datasetInfos": [],
       "dbfsResultPath": null,
       "isJsonSchema": true,
       "metadata": {
        "isDbfsCommandResult": false
       },
       "overflow": false,
       "plotOptions": {
        "customPlotOptions": {},
        "displayType": "table",
        "pivotAggregation": null,
        "pivotColumns": null,
        "xColumns": null,
        "yColumns": null
       },
       "removedWidgets": [],
       "schema": [
        {
         "metadata": "{}",
         "name": "MatchId",
         "type": "\"integer\""
        },
        {
         "metadata": "{\"__CHAR_VARCHAR_TYPE_STRING\":\"varchar(255)\"}",
         "name": "Team1",
         "type": "\"string\""
        },
        {
         "metadata": "{\"__CHAR_VARCHAR_TYPE_STRING\":\"varchar(255)\"}",
         "name": "Team2",
         "type": "\"string\""
        },
        {
         "metadata": "{}",
         "name": "Team1Score",
         "type": "\"integer\""
        },
        {
         "metadata": "{}",
         "name": "Team2Score",
         "type": "\"integer\""
        },
        {
         "metadata": "{\"__CHAR_VARCHAR_TYPE_STRING\":\"varchar(255)\"}",
         "name": "Result",
         "type": "\"string\""
        },
        {
         "metadata": "{\"__CHAR_VARCHAR_TYPE_STRING\":\"varchar(255)\"}",
         "name": "Stage",
         "type": "\"string\""
        }
       ],
       "type": "table"
      }
     },
     "output_type": "display_data"
    }
   ],
   "source": [
    "%sql\n",
    "select * from matchesofcountry where stage = 'Quater Final'\n",
    "order by MatchId"
   ]
  },
  {
   "cell_type": "code",
   "execution_count": 0,
   "metadata": {
    "application/vnd.databricks.v1+cell": {
     "cellMetadata": {
      "byteLimit": 2048000,
      "rowLimit": 10000
     },
     "inputWidgets": {},
     "nuid": "72563482-c966-44b0-9f17-4cc34c71ba84",
     "showTitle": false,
     "title": ""
    }
   },
   "outputs": [
    {
     "output_type": "display_data",
     "data": {
      "text/html": [
       "<style scoped>\n",
       "  .table-result-container {\n",
       "    max-height: 300px;\n",
       "    overflow: auto;\n",
       "  }\n",
       "  table, th, td {\n",
       "    border: 1px solid black;\n",
       "    border-collapse: collapse;\n",
       "  }\n",
       "  th, td {\n",
       "    padding: 5px;\n",
       "  }\n",
       "  th {\n",
       "    text-align: left;\n",
       "  }\n",
       "</style><div class='table-result-container'><table class='table-result'><thead style='background-color: white'><tr><th>MatchId</th><th>Team1</th><th>Team2</th><th>Team1Score</th><th>Team2Score</th><th>Result</th><th>Stage</th></tr></thead><tbody><tr><td>49</td><td>Hungary</td><td>Poland</td><td>6</td><td>2</td><td>Hungary</td><td>Semi Final</td></tr><tr><td>50</td><td>Türkiye</td><td>Slovakia</td><td>3</td><td>6</td><td>Slovakia</td><td>Semi Final</td></tr></tbody></table></div>"
      ]
     },
     "metadata": {
      "application/vnd.databricks.v1+output": {
       "addedWidgets": {},
       "aggData": [],
       "aggError": "",
       "aggOverflow": false,
       "aggSchema": [],
       "aggSeriesLimitReached": false,
       "aggType": "",
       "arguments": {},
       "columnCustomDisplayInfos": {},
       "data": [
        [
         49,
         "Hungary",
         "Poland",
         6,
         2,
         "Hungary",
         "Semi Final"
        ],
        [
         50,
         "Türkiye",
         "Slovakia",
         3,
         6,
         "Slovakia",
         "Semi Final"
        ]
       ],
       "datasetInfos": [],
       "dbfsResultPath": null,
       "isJsonSchema": true,
       "metadata": {
        "isDbfsCommandResult": false
       },
       "overflow": false,
       "plotOptions": {
        "customPlotOptions": {},
        "displayType": "table",
        "pivotAggregation": null,
        "pivotColumns": null,
        "xColumns": null,
        "yColumns": null
       },
       "removedWidgets": [],
       "schema": [
        {
         "metadata": "{}",
         "name": "MatchId",
         "type": "\"integer\""
        },
        {
         "metadata": "{\"__CHAR_VARCHAR_TYPE_STRING\":\"varchar(255)\"}",
         "name": "Team1",
         "type": "\"string\""
        },
        {
         "metadata": "{\"__CHAR_VARCHAR_TYPE_STRING\":\"varchar(255)\"}",
         "name": "Team2",
         "type": "\"string\""
        },
        {
         "metadata": "{}",
         "name": "Team1Score",
         "type": "\"integer\""
        },
        {
         "metadata": "{}",
         "name": "Team2Score",
         "type": "\"integer\""
        },
        {
         "metadata": "{\"__CHAR_VARCHAR_TYPE_STRING\":\"varchar(255)\"}",
         "name": "Result",
         "type": "\"string\""
        },
        {
         "metadata": "{\"__CHAR_VARCHAR_TYPE_STRING\":\"varchar(255)\"}",
         "name": "Stage",
         "type": "\"string\""
        }
       ],
       "type": "table"
      }
     },
     "output_type": "display_data"
    }
   ],
   "source": [
    "%sql\n",
    "select * from matchesofcountry where stage = 'Semi Final'\n",
    "order by MatchId"
   ]
  },
  {
   "cell_type": "code",
   "execution_count": 0,
   "metadata": {
    "application/vnd.databricks.v1+cell": {
     "cellMetadata": {
      "byteLimit": 2048000,
      "rowLimit": 10000
     },
     "inputWidgets": {},
     "nuid": "f56dcc09-4b5d-487a-a97b-72cd0c00785a",
     "showTitle": false,
     "title": ""
    }
   },
   "outputs": [
    {
     "output_type": "display_data",
     "data": {
      "text/html": [
       "<style scoped>\n",
       "  .table-result-container {\n",
       "    max-height: 300px;\n",
       "    overflow: auto;\n",
       "  }\n",
       "  table, th, td {\n",
       "    border: 1px solid black;\n",
       "    border-collapse: collapse;\n",
       "  }\n",
       "  th, td {\n",
       "    padding: 5px;\n",
       "  }\n",
       "  th {\n",
       "    text-align: left;\n",
       "  }\n",
       "</style><div class='table-result-container'><table class='table-result'><thead style='background-color: white'><tr><th>MatchId</th><th>Team1</th><th>Team2</th><th>Team1Score</th><th>Team2Score</th><th>Result</th><th>Stage</th></tr></thead><tbody><tr><td>51</td><td>Hungary</td><td>Slovakia</td><td>1</td><td>3</td><td>Slovakia</td><td>Final</td></tr></tbody></table></div>"
      ]
     },
     "metadata": {
      "application/vnd.databricks.v1+output": {
       "addedWidgets": {},
       "aggData": [],
       "aggError": "",
       "aggOverflow": false,
       "aggSchema": [],
       "aggSeriesLimitReached": false,
       "aggType": "",
       "arguments": {},
       "columnCustomDisplayInfos": {},
       "data": [
        [
         51,
         "Hungary",
         "Slovakia",
         1,
         3,
         "Slovakia",
         "Final"
        ]
       ],
       "datasetInfos": [],
       "dbfsResultPath": null,
       "isJsonSchema": true,
       "metadata": {
        "isDbfsCommandResult": false
       },
       "overflow": false,
       "plotOptions": {
        "customPlotOptions": {},
        "displayType": "table",
        "pivotAggregation": null,
        "pivotColumns": null,
        "xColumns": null,
        "yColumns": null
       },
       "removedWidgets": [],
       "schema": [
        {
         "metadata": "{}",
         "name": "MatchId",
         "type": "\"integer\""
        },
        {
         "metadata": "{\"__CHAR_VARCHAR_TYPE_STRING\":\"varchar(255)\"}",
         "name": "Team1",
         "type": "\"string\""
        },
        {
         "metadata": "{\"__CHAR_VARCHAR_TYPE_STRING\":\"varchar(255)\"}",
         "name": "Team2",
         "type": "\"string\""
        },
        {
         "metadata": "{}",
         "name": "Team1Score",
         "type": "\"integer\""
        },
        {
         "metadata": "{}",
         "name": "Team2Score",
         "type": "\"integer\""
        },
        {
         "metadata": "{\"__CHAR_VARCHAR_TYPE_STRING\":\"varchar(255)\"}",
         "name": "Result",
         "type": "\"string\""
        },
        {
         "metadata": "{\"__CHAR_VARCHAR_TYPE_STRING\":\"varchar(255)\"}",
         "name": "Stage",
         "type": "\"string\""
        }
       ],
       "type": "table"
      }
     },
     "output_type": "display_data"
    }
   ],
   "source": [
    "%sql\n",
    "select * from matchesofcountry where stage = 'Final'\n",
    "order by MatchId"
   ]
  },
  {
   "cell_type": "code",
   "execution_count": 0,
   "metadata": {
    "application/vnd.databricks.v1+cell": {
     "cellMetadata": {},
     "inputWidgets": {},
     "nuid": "b3be4752-2b02-4de2-8c7e-45c374b72f1d",
     "showTitle": false,
     "title": ""
    }
   },
   "outputs": [],
   "source": []
  }
 ],
 "metadata": {
  "application/vnd.databricks.v1+notebook": {
   "dashboards": [],
   "language": "python",
   "notebookMetadata": {
    "mostRecentlyExecutedCommandWithImplicitDF": {
     "commandId": -1,
     "dataframes": [
      "_sqldf"
     ]
    },
    "pythonIndentUnit": 4
   },
   "notebookName": "EuroCup2024(dipesh_Tripathi)",
   "widgets": {}
  }
 },
 "nbformat": 4,
 "nbformat_minor": 0
}
