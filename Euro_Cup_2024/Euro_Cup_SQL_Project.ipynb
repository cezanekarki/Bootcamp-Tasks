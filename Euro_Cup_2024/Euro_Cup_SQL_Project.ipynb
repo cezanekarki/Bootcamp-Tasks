{
 "cells": [
  {
   "cell_type": "code",
   "execution_count": 0,
   "metadata": {
    "application/vnd.databricks.v1+cell": {
     "cellMetadata": {
      "byteLimit": 2048000,
      "rowLimit": 10000
     },
     "inputWidgets": {},
     "nuid": "a180f1d2-002b-4be2-a5ba-605d8a24c241",
     "showTitle": false,
     "title": ""
    }
   },
   "outputs": [
    {
     "output_type": "stream",
     "name": "stdout",
     "output_type": "stream",
     "text": [
      "Out[40]: False"
     ]
    }
   ],
   "source": [
    "%python\n",
    "dbutils.fs.rm(\"dbfs:/user/hive/warehouse/euro_cup\", True)\n",
    "\n",
    "\n"
   ]
  },
  {
   "cell_type": "code",
   "execution_count": 0,
   "metadata": {
    "application/vnd.databricks.v1+cell": {
     "cellMetadata": {
      "byteLimit": 2048000,
      "rowLimit": 10000
     },
     "inputWidgets": {},
     "nuid": "fbf34d43-19f4-4730-8648-092deeabba4b",
     "showTitle": false,
     "title": ""
    }
   },
   "outputs": [
    {
     "output_type": "display_data",
     "data": {
      "text/html": [
       "<style scoped>\n",
       "  .table-result-container {\n",
       "    max-height: 300px;\n",
       "    overflow: auto;\n",
       "  }\n",
       "  table, th, td {\n",
       "    border: 1px solid black;\n",
       "    border-collapse: collapse;\n",
       "  }\n",
       "  th, td {\n",
       "    padding: 5px;\n",
       "  }\n",
       "  th {\n",
       "    text-align: left;\n",
       "  }\n",
       "</style><div class='table-result-container'><table class='table-result'><thead style='background-color: white'><tr></tr></thead><tbody></tbody></table></div>"
      ]
     },
     "metadata": {
      "application/vnd.databricks.v1+output": {
       "addedWidgets": {},
       "aggData": [],
       "aggError": "",
       "aggOverflow": false,
       "aggSchema": [],
       "aggSeriesLimitReached": false,
       "aggType": "",
       "arguments": {},
       "columnCustomDisplayInfos": {},
       "data": [],
       "datasetInfos": [],
       "dbfsResultPath": null,
       "isJsonSchema": true,
       "metadata": {
        "isDbfsCommandResult": false
       },
       "overflow": false,
       "plotOptions": {
        "customPlotOptions": {},
        "displayType": "table",
        "pivotAggregation": null,
        "pivotColumns": null,
        "xColumns": null,
        "yColumns": null
       },
       "removedWidgets": [],
       "schema": [],
       "type": "table"
      }
     },
     "output_type": "display_data"
    }
   ],
   "source": [
    "%sql\n",
    "CREATE OR REPLACE TABLE euro_cup(\n",
    "  grp VARCHAR(2),\n",
    "  team VARCHAR(20)\n",
    ")\n",
    "\n"
   ]
  },
  {
   "cell_type": "code",
   "execution_count": 0,
   "metadata": {
    "application/vnd.databricks.v1+cell": {
     "cellMetadata": {
      "byteLimit": 2048000,
      "rowLimit": 10000
     },
     "inputWidgets": {},
     "nuid": "0e5b9c81-5ec9-41e3-ae4a-c70ca20d76a9",
     "showTitle": false,
     "title": ""
    }
   },
   "outputs": [
    {
     "output_type": "display_data",
     "data": {
      "text/html": [
       "<style scoped>\n",
       "  .table-result-container {\n",
       "    max-height: 300px;\n",
       "    overflow: auto;\n",
       "  }\n",
       "  table, th, td {\n",
       "    border: 1px solid black;\n",
       "    border-collapse: collapse;\n",
       "  }\n",
       "  th, td {\n",
       "    padding: 5px;\n",
       "  }\n",
       "  th {\n",
       "    text-align: left;\n",
       "  }\n",
       "</style><div class='table-result-container'><table class='table-result'><thead style='background-color: white'><tr><th>num_affected_rows</th><th>num_inserted_rows</th></tr></thead><tbody><tr><td>24</td><td>24</td></tr></tbody></table></div>"
      ]
     },
     "metadata": {
      "application/vnd.databricks.v1+output": {
       "addedWidgets": {},
       "aggData": [],
       "aggError": "",
       "aggOverflow": false,
       "aggSchema": [],
       "aggSeriesLimitReached": false,
       "aggType": "",
       "arguments": {},
       "columnCustomDisplayInfos": {},
       "data": [
        [
         24,
         24
        ]
       ],
       "datasetInfos": [],
       "dbfsResultPath": null,
       "isJsonSchema": true,
       "metadata": {
        "isDbfsCommandResult": false
       },
       "overflow": false,
       "plotOptions": {
        "customPlotOptions": {},
        "displayType": "table",
        "pivotAggregation": null,
        "pivotColumns": null,
        "xColumns": null,
        "yColumns": null
       },
       "removedWidgets": [],
       "schema": [
        {
         "metadata": "{}",
         "name": "num_affected_rows",
         "type": "\"long\""
        },
        {
         "metadata": "{}",
         "name": "num_inserted_rows",
         "type": "\"long\""
        }
       ],
       "type": "table"
      }
     },
     "output_type": "display_data"
    }
   ],
   "source": [
    "%sql\n",
    "INSERT INTO euro_cup(grp,team) VALUES(\"A\", \"Italy\"),(\"A\", \"Wales\"),(\"A\", \"Switzerland\"),(\"A\", \"Turkey\"),(\"B\", \"Belgium\"),(\"B\", \"Denmark\"),(\"B\", \"Finland\"),(\"B\", \"Russia\"),(\"C\", \"Netherlands\"),(\"C\", \"Austria\"),(\"C\", \"Ukraine\"),(\"C\", \"North Macedonia\"),(\"D\", \"England\"),(\"D\", \"Croatia\"),(\"D\", \"Czech Republic\"),(\"D\", \"Scotland\"),(\"E\", \"Sweden\"),(\"E\", \"Spain\"),(\"E\", \"Slovakia\"),(\"E\", \"Poland\"),(\"F\", \"France\"),(\"F\", \"Germany\"),(\"F\", \"Portugal\"),(\"F\", \"Hungary\");"
   ]
  },
  {
   "cell_type": "code",
   "execution_count": 0,
   "metadata": {
    "application/vnd.databricks.v1+cell": {
     "cellMetadata": {
      "byteLimit": 2048000,
      "rowLimit": 10000
     },
     "inputWidgets": {},
     "nuid": "f8b3e7db-e18c-4d40-9b5c-74d1ce11e835",
     "showTitle": false,
     "title": ""
    }
   },
   "outputs": [
    {
     "output_type": "display_data",
     "data": {
      "text/html": [
       "<style scoped>\n",
       "  .table-result-container {\n",
       "    max-height: 300px;\n",
       "    overflow: auto;\n",
       "  }\n",
       "  table, th, td {\n",
       "    border: 1px solid black;\n",
       "    border-collapse: collapse;\n",
       "  }\n",
       "  th, td {\n",
       "    padding: 5px;\n",
       "  }\n",
       "  th {\n",
       "    text-align: left;\n",
       "  }\n",
       "</style><div class='table-result-container'><table class='table-result'><thead style='background-color: white'><tr><th>grp</th><th>team</th></tr></thead><tbody><tr><td>A</td><td>Italy</td></tr><tr><td>A</td><td>Wales</td></tr><tr><td>A</td><td>Switzerland</td></tr><tr><td>A</td><td>Turkey</td></tr><tr><td>B</td><td>Belgium</td></tr><tr><td>B</td><td>Denmark</td></tr><tr><td>B</td><td>Finland</td></tr><tr><td>B</td><td>Russia</td></tr><tr><td>C</td><td>Netherlands</td></tr><tr><td>C</td><td>Austria</td></tr><tr><td>C</td><td>Ukraine</td></tr><tr><td>C</td><td>North Macedonia</td></tr><tr><td>D</td><td>England</td></tr><tr><td>D</td><td>Croatia</td></tr><tr><td>D</td><td>Czech Republic</td></tr><tr><td>D</td><td>Scotland</td></tr><tr><td>E</td><td>Sweden</td></tr><tr><td>E</td><td>Spain</td></tr><tr><td>E</td><td>Slovakia</td></tr><tr><td>E</td><td>Poland</td></tr><tr><td>F</td><td>France</td></tr><tr><td>F</td><td>Germany</td></tr><tr><td>F</td><td>Portugal</td></tr><tr><td>F</td><td>Hungary</td></tr></tbody></table></div>"
      ]
     },
     "metadata": {
      "application/vnd.databricks.v1+output": {
       "addedWidgets": {},
       "aggData": [],
       "aggError": "",
       "aggOverflow": false,
       "aggSchema": [],
       "aggSeriesLimitReached": false,
       "aggType": "",
       "arguments": {},
       "columnCustomDisplayInfos": {},
       "data": [
        [
         "A",
         "Italy"
        ],
        [
         "A",
         "Wales"
        ],
        [
         "A",
         "Switzerland"
        ],
        [
         "A",
         "Turkey"
        ],
        [
         "B",
         "Belgium"
        ],
        [
         "B",
         "Denmark"
        ],
        [
         "B",
         "Finland"
        ],
        [
         "B",
         "Russia"
        ],
        [
         "C",
         "Netherlands"
        ],
        [
         "C",
         "Austria"
        ],
        [
         "C",
         "Ukraine"
        ],
        [
         "C",
         "North Macedonia"
        ],
        [
         "D",
         "England"
        ],
        [
         "D",
         "Croatia"
        ],
        [
         "D",
         "Czech Republic"
        ],
        [
         "D",
         "Scotland"
        ],
        [
         "E",
         "Sweden"
        ],
        [
         "E",
         "Spain"
        ],
        [
         "E",
         "Slovakia"
        ],
        [
         "E",
         "Poland"
        ],
        [
         "F",
         "France"
        ],
        [
         "F",
         "Germany"
        ],
        [
         "F",
         "Portugal"
        ],
        [
         "F",
         "Hungary"
        ]
       ],
       "datasetInfos": [],
       "dbfsResultPath": null,
       "isJsonSchema": true,
       "metadata": {
        "isDbfsCommandResult": false
       },
       "overflow": false,
       "plotOptions": {
        "customPlotOptions": {},
        "displayType": "table",
        "pivotAggregation": null,
        "pivotColumns": null,
        "xColumns": null,
        "yColumns": null
       },
       "removedWidgets": [],
       "schema": [
        {
         "metadata": "{\"__CHAR_VARCHAR_TYPE_STRING\":\"varchar(2)\"}",
         "name": "grp",
         "type": "\"string\""
        },
        {
         "metadata": "{\"__CHAR_VARCHAR_TYPE_STRING\":\"varchar(20)\"}",
         "name": "team",
         "type": "\"string\""
        }
       ],
       "type": "table"
      }
     },
     "output_type": "display_data"
    }
   ],
   "source": [
    "%sql\n",
    "SELECT * FROM euro_cup"
   ]
  },
  {
   "cell_type": "code",
   "execution_count": 0,
   "metadata": {
    "application/vnd.databricks.v1+cell": {
     "cellMetadata": {
      "byteLimit": 2048000,
      "rowLimit": 10000
     },
     "inputWidgets": {},
     "nuid": "f92898c8-cae1-46a1-92b6-4846e7fe54f3",
     "showTitle": false,
     "title": ""
    }
   },
   "outputs": [
    {
     "output_type": "stream",
     "name": "stdout",
     "output_type": "stream",
     "text": [
      "Out[41]: False"
     ]
    }
   ],
   "source": [
    "%python\n",
    "dbutils.fs.rm(\"dbfs:/user/hive/warehouse/euro_cup_group_stage\", True)\n"
   ]
  },
  {
   "cell_type": "code",
   "execution_count": 0,
   "metadata": {
    "application/vnd.databricks.v1+cell": {
     "cellMetadata": {
      "byteLimit": 2048000,
      "rowLimit": 10000
     },
     "inputWidgets": {},
     "nuid": "b0fa554b-37d0-4218-b582-84a97a4f9777",
     "showTitle": false,
     "title": ""
    }
   },
   "outputs": [
    {
     "output_type": "display_data",
     "data": {
      "text/html": [
       "<style scoped>\n",
       "  .table-result-container {\n",
       "    max-height: 300px;\n",
       "    overflow: auto;\n",
       "  }\n",
       "  table, th, td {\n",
       "    border: 1px solid black;\n",
       "    border-collapse: collapse;\n",
       "  }\n",
       "  th, td {\n",
       "    padding: 5px;\n",
       "  }\n",
       "  th {\n",
       "    text-align: left;\n",
       "  }\n",
       "</style><div class='table-result-container'><table class='table-result'><thead style='background-color: white'><tr><th>num_affected_rows</th><th>num_inserted_rows</th></tr></thead><tbody></tbody></table></div>"
      ]
     },
     "metadata": {
      "application/vnd.databricks.v1+output": {
       "addedWidgets": {},
       "aggData": [],
       "aggError": "",
       "aggOverflow": false,
       "aggSchema": [],
       "aggSeriesLimitReached": false,
       "aggType": "",
       "arguments": {},
       "columnCustomDisplayInfos": {},
       "data": [],
       "datasetInfos": [],
       "dbfsResultPath": null,
       "isJsonSchema": true,
       "metadata": {
        "isDbfsCommandResult": false
       },
       "overflow": false,
       "plotOptions": {
        "customPlotOptions": {},
        "displayType": "table",
        "pivotAggregation": null,
        "pivotColumns": null,
        "xColumns": null,
        "yColumns": null
       },
       "removedWidgets": [],
       "schema": [
        {
         "metadata": "{}",
         "name": "num_affected_rows",
         "type": "\"long\""
        },
        {
         "metadata": "{}",
         "name": "num_inserted_rows",
         "type": "\"long\""
        }
       ],
       "type": "table"
      }
     },
     "output_type": "display_data"
    }
   ],
   "source": [
    "%sql\n",
    "CREATE OR REPLACE TABLE euro_cup_group_stage AS (\n",
    "  WITH newCte AS (\n",
    "  WITH cte AS (\n",
    "  SELECT \n",
    "  CONCAT(a.team,\" vs \",b.team) AS Pld,\n",
    "  a.team AS team1,a.grp AS grp1,\n",
    "  b.team AS team2,b.grp AS grp2,\n",
    "  floor(rand()*5) AS team1_goals,\n",
    "  floor(rand()*5) AS team2_goals,\n",
    "  CASE\n",
    "    WHEN team1_goals > team2_goals THEN 3\n",
    "    WHEN team1_goals = team2_goals THEN 1\n",
    "    ELSE 0\n",
    "  END AS team1pts,\n",
    "  CASE\n",
    "    WHEN team1_goals < team2_goals THEN 3\n",
    "    WHEN team1_goals = team2_goals THEN 1\n",
    "    ELSE 0\n",
    "  END AS team2pts\n",
    "  FROM\n",
    "  euro_cup a \n",
    "  CROSS JOIN\n",
    "  euro_cup b\n",
    "  ON\n",
    "  a.grp = b.grp \n",
    "  AND \n",
    "  a.team < b.team \n",
    ")\n",
    "-- SELECT * FROM cte\n",
    "SELECT team1,grp1,team1_goals,team2_goals,team1pts FROM cte \n",
    "UNION ALL\n",
    "SELECT team2,grp2,team1_goals,team2_goals,team2pts FROM cte \n",
    " \n",
    ")\n",
    "SELECT\n",
    "  team1 AS team,grp1 AS Grp,3 AS Pld,\n",
    "  FLOOR(SUM(team1pts)/3) AS w,\n",
    "  CASE \n",
    "    WHEN SUM(team1pts) % 3 = 0 THEN 0\n",
    "    ELSE 1\n",
    "  END AS d,\n",
    "  CASE \n",
    "    WHEN w + d = 3 THEN 0\n",
    "    WHEN w + d = 2 THEN 1\n",
    "    WHEN w + d = 1 THEN 2\n",
    "    ELSE 3\n",
    "  END AS l,\n",
    "  SUM(team1_goals) AS gf,\n",
    "  SUM(team2_goals) AS ga,\n",
    "  SUM(team1_goals) - SUM(team2_goals) AS gd,\n",
    "  SUM(team1pts) AS pts\n",
    "FROM\n",
    "  newCte\n",
    "GROUP BY\n",
    "team1,Grp\n",
    "ORDER BY \n",
    "Grp,pts DESC\n",
    "  \n",
    ")\n"
   ]
  },
  {
   "cell_type": "code",
   "execution_count": 0,
   "metadata": {
    "application/vnd.databricks.v1+cell": {
     "cellMetadata": {
      "byteLimit": 2048000,
      "rowLimit": 10000
     },
     "inputWidgets": {},
     "nuid": "9b1b8d80-2127-48b5-ba17-1e64e3a33b99",
     "showTitle": true,
     "title": ""
    }
   },
   "outputs": [
    {
     "output_type": "display_data",
     "data": {
      "text/html": [
       "<style scoped>\n",
       "  .table-result-container {\n",
       "    max-height: 300px;\n",
       "    overflow: auto;\n",
       "  }\n",
       "  table, th, td {\n",
       "    border: 1px solid black;\n",
       "    border-collapse: collapse;\n",
       "  }\n",
       "  th, td {\n",
       "    padding: 5px;\n",
       "  }\n",
       "  th {\n",
       "    text-align: left;\n",
       "  }\n",
       "</style><div class='table-result-container'><table class='table-result'><thead style='background-color: white'><tr><th>team</th><th>Grp</th><th>Pld</th><th>w</th><th>d</th><th>l</th><th>gf</th><th>ga</th><th>gd</th><th>pts</th></tr></thead><tbody><tr><td>Wales</td><td>A</td><td>3</td><td>2</td><td>0</td><td>1</td><td>3</td><td>5</td><td>-2</td><td>6</td></tr><tr><td>Switzerland</td><td>A</td><td>3</td><td>1</td><td>0</td><td>2</td><td>3</td><td>9</td><td>-6</td><td>3</td></tr><tr><td>Italy</td><td>A</td><td>3</td><td>0</td><td>1</td><td>2</td><td>4</td><td>6</td><td>-2</td><td>1</td></tr><tr><td>Turkey</td><td>A</td><td>3</td><td>0</td><td>1</td><td>2</td><td>4</td><td>1</td><td>3</td><td>1</td></tr><tr><td>Finland</td><td>B</td><td>3</td><td>2</td><td>0</td><td>1</td><td>5</td><td>5</td><td>0</td><td>6</td></tr><tr><td>Denmark</td><td>B</td><td>3</td><td>1</td><td>1</td><td>1</td><td>6</td><td>5</td><td>1</td><td>5</td></tr><tr><td>Russia</td><td>B</td><td>3</td><td>1</td><td>1</td><td>1</td><td>8</td><td>9</td><td>-1</td><td>4</td></tr><tr><td>Belgium</td><td>B</td><td>3</td><td>1</td><td>0</td><td>2</td><td>5</td><td>6</td><td>-1</td><td>3</td></tr><tr><td>Austria</td><td>C</td><td>3</td><td>2</td><td>1</td><td>0</td><td>7</td><td>4</td><td>3</td><td>7</td></tr><tr><td>North Macedonia</td><td>C</td><td>3</td><td>1</td><td>1</td><td>1</td><td>8</td><td>4</td><td>4</td><td>4</td></tr><tr><td>Netherlands</td><td>C</td><td>3</td><td>1</td><td>1</td><td>1</td><td>8</td><td>9</td><td>-1</td><td>4</td></tr><tr><td>Ukraine</td><td>C</td><td>3</td><td>1</td><td>0</td><td>2</td><td>4</td><td>5</td><td>-1</td><td>3</td></tr><tr><td>Croatia</td><td>D</td><td>3</td><td>2</td><td>0</td><td>1</td><td>8</td><td>5</td><td>3</td><td>6</td></tr><tr><td>England</td><td>D</td><td>3</td><td>2</td><td>0</td><td>1</td><td>8</td><td>4</td><td>4</td><td>6</td></tr><tr><td>Czech Republic</td><td>D</td><td>3</td><td>2</td><td>0</td><td>1</td><td>5</td><td>8</td><td>-3</td><td>6</td></tr><tr><td>Scotland</td><td>D</td><td>3</td><td>2</td><td>0</td><td>1</td><td>6</td><td>9</td><td>-3</td><td>6</td></tr><tr><td>Poland</td><td>E</td><td>3</td><td>1</td><td>1</td><td>1</td><td>4</td><td>4</td><td>0</td><td>4</td></tr><tr><td>Slovakia</td><td>E</td><td>3</td><td>1</td><td>0</td><td>2</td><td>1</td><td>11</td><td>-10</td><td>3</td></tr><tr><td>Sweden</td><td>E</td><td>3</td><td>1</td><td>0</td><td>2</td><td>8</td><td>7</td><td>1</td><td>3</td></tr><tr><td>Spain</td><td>E</td><td>3</td><td>0</td><td>1</td><td>2</td><td>3</td><td>5</td><td>-2</td><td>2</td></tr><tr><td>Hungary</td><td>F</td><td>3</td><td>2</td><td>1</td><td>0</td><td>4</td><td>7</td><td>-3</td><td>7</td></tr><tr><td>Germany</td><td>F</td><td>3</td><td>2</td><td>0</td><td>1</td><td>8</td><td>1</td><td>7</td><td>6</td></tr><tr><td>France</td><td>F</td><td>3</td><td>1</td><td>1</td><td>1</td><td>7</td><td>4</td><td>3</td><td>4</td></tr><tr><td>Portugal</td><td>F</td><td>3</td><td>1</td><td>0</td><td>2</td><td>5</td><td>4</td><td>1</td><td>3</td></tr></tbody></table></div>"
      ]
     },
     "metadata": {
      "application/vnd.databricks.v1+output": {
       "addedWidgets": {},
       "aggData": [],
       "aggError": "",
       "aggOverflow": false,
       "aggSchema": [],
       "aggSeriesLimitReached": false,
       "aggType": "",
       "arguments": {},
       "columnCustomDisplayInfos": {},
       "data": [
        [
         "Wales",
         "A",
         3,
         2,
         0,
         1,
         3,
         5,
         -2,
         6
        ],
        [
         "Switzerland",
         "A",
         3,
         1,
         0,
         2,
         3,
         9,
         -6,
         3
        ],
        [
         "Italy",
         "A",
         3,
         0,
         1,
         2,
         4,
         6,
         -2,
         1
        ],
        [
         "Turkey",
         "A",
         3,
         0,
         1,
         2,
         4,
         1,
         3,
         1
        ],
        [
         "Finland",
         "B",
         3,
         2,
         0,
         1,
         5,
         5,
         0,
         6
        ],
        [
         "Denmark",
         "B",
         3,
         1,
         1,
         1,
         6,
         5,
         1,
         5
        ],
        [
         "Russia",
         "B",
         3,
         1,
         1,
         1,
         8,
         9,
         -1,
         4
        ],
        [
         "Belgium",
         "B",
         3,
         1,
         0,
         2,
         5,
         6,
         -1,
         3
        ],
        [
         "Austria",
         "C",
         3,
         2,
         1,
         0,
         7,
         4,
         3,
         7
        ],
        [
         "North Macedonia",
         "C",
         3,
         1,
         1,
         1,
         8,
         4,
         4,
         4
        ],
        [
         "Netherlands",
         "C",
         3,
         1,
         1,
         1,
         8,
         9,
         -1,
         4
        ],
        [
         "Ukraine",
         "C",
         3,
         1,
         0,
         2,
         4,
         5,
         -1,
         3
        ],
        [
         "Croatia",
         "D",
         3,
         2,
         0,
         1,
         8,
         5,
         3,
         6
        ],
        [
         "England",
         "D",
         3,
         2,
         0,
         1,
         8,
         4,
         4,
         6
        ],
        [
         "Czech Republic",
         "D",
         3,
         2,
         0,
         1,
         5,
         8,
         -3,
         6
        ],
        [
         "Scotland",
         "D",
         3,
         2,
         0,
         1,
         6,
         9,
         -3,
         6
        ],
        [
         "Poland",
         "E",
         3,
         1,
         1,
         1,
         4,
         4,
         0,
         4
        ],
        [
         "Slovakia",
         "E",
         3,
         1,
         0,
         2,
         1,
         11,
         -10,
         3
        ],
        [
         "Sweden",
         "E",
         3,
         1,
         0,
         2,
         8,
         7,
         1,
         3
        ],
        [
         "Spain",
         "E",
         3,
         0,
         1,
         2,
         3,
         5,
         -2,
         2
        ],
        [
         "Hungary",
         "F",
         3,
         2,
         1,
         0,
         4,
         7,
         -3,
         7
        ],
        [
         "Germany",
         "F",
         3,
         2,
         0,
         1,
         8,
         1,
         7,
         6
        ],
        [
         "France",
         "F",
         3,
         1,
         1,
         1,
         7,
         4,
         3,
         4
        ],
        [
         "Portugal",
         "F",
         3,
         1,
         0,
         2,
         5,
         4,
         1,
         3
        ]
       ],
       "datasetInfos": [],
       "dbfsResultPath": null,
       "isJsonSchema": true,
       "metadata": {
        "isDbfsCommandResult": false
       },
       "overflow": false,
       "plotOptions": {
        "customPlotOptions": {},
        "displayType": "table",
        "pivotAggregation": null,
        "pivotColumns": null,
        "xColumns": null,
        "yColumns": null
       },
       "removedWidgets": [],
       "schema": [
        {
         "metadata": "{\"__CHAR_VARCHAR_TYPE_STRING\":\"varchar(20)\"}",
         "name": "team",
         "type": "\"string\""
        },
        {
         "metadata": "{\"__CHAR_VARCHAR_TYPE_STRING\":\"varchar(2)\"}",
         "name": "Grp",
         "type": "\"string\""
        },
        {
         "metadata": "{}",
         "name": "Pld",
         "type": "\"integer\""
        },
        {
         "metadata": "{}",
         "name": "w",
         "type": "\"long\""
        },
        {
         "metadata": "{}",
         "name": "d",
         "type": "\"integer\""
        },
        {
         "metadata": "{}",
         "name": "l",
         "type": "\"integer\""
        },
        {
         "metadata": "{}",
         "name": "gf",
         "type": "\"long\""
        },
        {
         "metadata": "{}",
         "name": "ga",
         "type": "\"long\""
        },
        {
         "metadata": "{}",
         "name": "gd",
         "type": "\"long\""
        },
        {
         "metadata": "{}",
         "name": "pts",
         "type": "\"long\""
        }
       ],
       "type": "table"
      }
     },
     "output_type": "display_data"
    }
   ],
   "source": [
    "%sql\n",
    "select * from euro_cup_group_stage"
   ]
  },
  {
   "cell_type": "code",
   "execution_count": 0,
   "metadata": {
    "application/vnd.databricks.v1+cell": {
     "cellMetadata": {
      "byteLimit": 2048000,
      "rowLimit": 10000
     },
     "inputWidgets": {},
     "nuid": "23ae9097-d65c-459f-98db-9dbb7204897b",
     "showTitle": false,
     "title": ""
    }
   },
   "outputs": [],
   "source": []
  },
  {
   "cell_type": "code",
   "execution_count": 0,
   "metadata": {
    "application/vnd.databricks.v1+cell": {
     "cellMetadata": {
      "byteLimit": 2048000,
      "rowLimit": 10000
     },
     "inputWidgets": {},
     "nuid": "6a943b5a-2ebd-4e15-96e6-7c073f9f6354",
     "showTitle": false,
     "title": ""
    }
   },
   "outputs": [
    {
     "output_type": "stream",
     "name": "stdout",
     "output_type": "stream",
     "text": [
      "Out[42]: False"
     ]
    }
   ],
   "source": [
    "%python\n",
    "dbutils.fs.rm(\"dbfs:/user/hive/warehouse/euro_cup_knockout\", True)"
   ]
  },
  {
   "cell_type": "code",
   "execution_count": 0,
   "metadata": {
    "application/vnd.databricks.v1+cell": {
     "cellMetadata": {
      "byteLimit": 2048000,
      "rowLimit": 10000
     },
     "inputWidgets": {},
     "nuid": "cd98136c-1f93-4326-8d2c-6a63f7cc7b6e",
     "showTitle": false,
     "title": ""
    }
   },
   "outputs": [
    {
     "output_type": "display_data",
     "data": {
      "text/html": [
       "<style scoped>\n",
       "  .table-result-container {\n",
       "    max-height: 300px;\n",
       "    overflow: auto;\n",
       "  }\n",
       "  table, th, td {\n",
       "    border: 1px solid black;\n",
       "    border-collapse: collapse;\n",
       "  }\n",
       "  th, td {\n",
       "    padding: 5px;\n",
       "  }\n",
       "  th {\n",
       "    text-align: left;\n",
       "  }\n",
       "</style><div class='table-result-container'><table class='table-result'><thead style='background-color: white'><tr><th>num_affected_rows</th><th>num_inserted_rows</th></tr></thead><tbody></tbody></table></div>"
      ]
     },
     "metadata": {
      "application/vnd.databricks.v1+output": {
       "addedWidgets": {},
       "aggData": [],
       "aggError": "",
       "aggOverflow": false,
       "aggSchema": [],
       "aggSeriesLimitReached": false,
       "aggType": "",
       "arguments": {},
       "columnCustomDisplayInfos": {},
       "data": [],
       "datasetInfos": [],
       "dbfsResultPath": null,
       "isJsonSchema": true,
       "metadata": {
        "isDbfsCommandResult": false
       },
       "overflow": false,
       "plotOptions": {
        "customPlotOptions": {},
        "displayType": "table",
        "pivotAggregation": null,
        "pivotColumns": null,
        "xColumns": null,
        "yColumns": null
       },
       "removedWidgets": [],
       "schema": [
        {
         "metadata": "{}",
         "name": "num_affected_rows",
         "type": "\"long\""
        },
        {
         "metadata": "{}",
         "name": "num_inserted_rows",
         "type": "\"long\""
        }
       ],
       "type": "table"
      }
     },
     "output_type": "display_data"
    }
   ],
   "source": [
    "%sql\n",
    "CREATE OR REPLACE TABLE euro_cup_knockout as (\n",
    "  WITH cte AS (\n",
    "SELECT team,Grp,gd,pts,row_number() OVER (PARTITION BY Grp ORDER BY pts DESC) AS rank FROM euro_cup_group_stage\n",
    ")\n",
    "\n",
    "SELECT * FROM cte WHERE rank <= 3 \n",
    "ORDER BY CASE WHEN rank <= 2 THEN pts END DESC, \n",
    "          CASE WHEN rank <= 2 THEN gd END DESC, \n",
    "          CASE WHEN rank = 3 THEN pts END DESC, \n",
    "          CASE WHEN rank = 3 THEN gd END DESC \n",
    "          LIMIT 16\n",
    ")\n",
    "\n"
   ]
  },
  {
   "cell_type": "code",
   "execution_count": 0,
   "metadata": {
    "application/vnd.databricks.v1+cell": {
     "cellMetadata": {
      "byteLimit": 2048000,
      "rowLimit": 10000
     },
     "inputWidgets": {},
     "nuid": "fabb7cfe-db27-410a-a21b-f0cb154d0e05",
     "showTitle": true,
     "title": ""
    }
   },
   "outputs": [
    {
     "output_type": "display_data",
     "data": {
      "text/html": [
       "<style scoped>\n",
       "  .table-result-container {\n",
       "    max-height: 300px;\n",
       "    overflow: auto;\n",
       "  }\n",
       "  table, th, td {\n",
       "    border: 1px solid black;\n",
       "    border-collapse: collapse;\n",
       "  }\n",
       "  th, td {\n",
       "    padding: 5px;\n",
       "  }\n",
       "  th {\n",
       "    text-align: left;\n",
       "  }\n",
       "</style><div class='table-result-container'><table class='table-result'><thead style='background-color: white'><tr><th>team</th><th>Grp</th><th>gd</th><th>pts</th><th>rank</th></tr></thead><tbody><tr><td>Austria</td><td>C</td><td>3</td><td>7</td><td>1</td></tr><tr><td>Hungary</td><td>F</td><td>-3</td><td>7</td><td>1</td></tr><tr><td>Germany</td><td>F</td><td>7</td><td>6</td><td>2</td></tr><tr><td>England</td><td>D</td><td>4</td><td>6</td><td>2</td></tr><tr><td>Croatia</td><td>D</td><td>3</td><td>6</td><td>1</td></tr><tr><td>Finland</td><td>B</td><td>0</td><td>6</td><td>1</td></tr><tr><td>Wales</td><td>A</td><td>-2</td><td>6</td><td>1</td></tr><tr><td>Denmark</td><td>B</td><td>1</td><td>5</td><td>2</td></tr><tr><td>North Macedonia</td><td>C</td><td>4</td><td>4</td><td>2</td></tr><tr><td>Poland</td><td>E</td><td>0</td><td>4</td><td>1</td></tr><tr><td>Switzerland</td><td>A</td><td>-6</td><td>3</td><td>2</td></tr><tr><td>Slovakia</td><td>E</td><td>-10</td><td>3</td><td>2</td></tr><tr><td>Czech Republic</td><td>D</td><td>-3</td><td>6</td><td>3</td></tr><tr><td>France</td><td>F</td><td>3</td><td>4</td><td>3</td></tr><tr><td>Russia</td><td>B</td><td>-1</td><td>4</td><td>3</td></tr><tr><td>Netherlands</td><td>C</td><td>-1</td><td>4</td><td>3</td></tr></tbody></table></div>"
      ]
     },
     "metadata": {
      "application/vnd.databricks.v1+output": {
       "addedWidgets": {},
       "aggData": [],
       "aggError": "",
       "aggOverflow": false,
       "aggSchema": [],
       "aggSeriesLimitReached": false,
       "aggType": "",
       "arguments": {},
       "columnCustomDisplayInfos": {},
       "data": [
        [
         "Austria",
         "C",
         3,
         7,
         1
        ],
        [
         "Hungary",
         "F",
         -3,
         7,
         1
        ],
        [
         "Germany",
         "F",
         7,
         6,
         2
        ],
        [
         "England",
         "D",
         4,
         6,
         2
        ],
        [
         "Croatia",
         "D",
         3,
         6,
         1
        ],
        [
         "Finland",
         "B",
         0,
         6,
         1
        ],
        [
         "Wales",
         "A",
         -2,
         6,
         1
        ],
        [
         "Denmark",
         "B",
         1,
         5,
         2
        ],
        [
         "North Macedonia",
         "C",
         4,
         4,
         2
        ],
        [
         "Poland",
         "E",
         0,
         4,
         1
        ],
        [
         "Switzerland",
         "A",
         -6,
         3,
         2
        ],
        [
         "Slovakia",
         "E",
         -10,
         3,
         2
        ],
        [
         "Czech Republic",
         "D",
         -3,
         6,
         3
        ],
        [
         "France",
         "F",
         3,
         4,
         3
        ],
        [
         "Russia",
         "B",
         -1,
         4,
         3
        ],
        [
         "Netherlands",
         "C",
         -1,
         4,
         3
        ]
       ],
       "datasetInfos": [],
       "dbfsResultPath": null,
       "isJsonSchema": true,
       "metadata": {
        "isDbfsCommandResult": false
       },
       "overflow": false,
       "plotOptions": {
        "customPlotOptions": {},
        "displayType": "table",
        "pivotAggregation": null,
        "pivotColumns": null,
        "xColumns": null,
        "yColumns": null
       },
       "removedWidgets": [],
       "schema": [
        {
         "metadata": "{\"__CHAR_VARCHAR_TYPE_STRING\":\"varchar(20)\"}",
         "name": "team",
         "type": "\"string\""
        },
        {
         "metadata": "{\"__CHAR_VARCHAR_TYPE_STRING\":\"varchar(2)\"}",
         "name": "Grp",
         "type": "\"string\""
        },
        {
         "metadata": "{}",
         "name": "gd",
         "type": "\"long\""
        },
        {
         "metadata": "{}",
         "name": "pts",
         "type": "\"long\""
        },
        {
         "metadata": "{}",
         "name": "rank",
         "type": "\"integer\""
        }
       ],
       "type": "table"
      }
     },
     "output_type": "display_data"
    }
   ],
   "source": [
    "%sql\n",
    "select * from euro_cup_knockout"
   ]
  },
  {
   "cell_type": "code",
   "execution_count": 0,
   "metadata": {
    "application/vnd.databricks.v1+cell": {
     "cellMetadata": {
      "byteLimit": 2048000,
      "rowLimit": 10000
     },
     "inputWidgets": {},
     "nuid": "c4928d86-ff43-48ee-b95c-bd8e77844b55",
     "showTitle": false,
     "title": ""
    }
   },
   "outputs": [],
   "source": []
  },
  {
   "cell_type": "markdown",
   "metadata": {
    "application/vnd.databricks.v1+cell": {
     "cellMetadata": {
      "byteLimit": 2048000,
      "rowLimit": 10000
     },
     "inputWidgets": {},
     "nuid": "5aa3d74b-f4fb-44a4-86cb-7eb0904bce6f",
     "showTitle": false,
     "title": ""
    }
   },
   "source": [
    "Third-placed \n",
    "teams\n",
    "qualify \n",
    "from groups\t      \n",
    "            1B\t1C\n",
    "                vs\t1E\n",
    "                    vs\t1F\n",
    "vs\n",
    "A\tB\tC\tD\t\t\t3A\t3D\t3B\t3C\n",
    "A\tB\tC\t\tE\t\t3A\t3E\t3B\t3C\n",
    "A\tB\tC\t\t\tF\t3A\t3F\t3B\t3C\n",
    "A\tB\t\tD\tE\t\t3D\t3E\t3A\t3B\n",
    "A\tB\t\tD\t\tF\t3D\t3F\t3A\t3B\n",
    "A\tB\t\t\tE\tF\t3E\t3F\t3B\t3A\n",
    "A\t\tC\tD\tE\t\t3E\t3D\t3C\t3A\n",
    "A\t\tC\tD\t\tF\t3F\t3D\t3C\t3A\n",
    "A\t\tC\t\tE\tF\t3E\t3F\t3C\t3A\n",
    "A\t\t\tD\tE\tF\t3E\t3F\t3D\t3A\n",
    "B\tC\tD\tE\t\t  3E\t3D\t3B\t3C\n",
    "B\tC\tD\t\tF\t  3F\t3D\t3C\t3B\n",
    "B\tC\t\tE\tF\t  3F\t3E\t3C\t3B\n",
    "B\t\tD\tE\tF\t  3F\t3E\t3D\t3B\n",
    "C\tD\tE\tF\t    3F\t3E\t3D\t3C\n"
   ]
  },
  {
   "cell_type": "code",
   "execution_count": 0,
   "metadata": {
    "application/vnd.databricks.v1+cell": {
     "cellMetadata": {
      "byteLimit": 2048000,
      "rowLimit": 10000
     },
     "inputWidgets": {},
     "nuid": "754b5a80-b970-484e-bdea-853668cff8bf",
     "showTitle": false,
     "title": ""
    }
   },
   "outputs": [
    {
     "output_type": "stream",
     "name": "stdout",
     "output_type": "stream",
     "text": [
      "Out[43]: False"
     ]
    }
   ],
   "source": [
    "%python\n",
    "dbutils.fs.rm(\"dbfs:/user/hive/warehouse/third_rank_mapping\", True)"
   ]
  },
  {
   "cell_type": "code",
   "execution_count": 0,
   "metadata": {
    "application/vnd.databricks.v1+cell": {
     "cellMetadata": {
      "byteLimit": 2048000,
      "rowLimit": 10000
     },
     "inputWidgets": {},
     "nuid": "2adc5b48-240a-4aa0-ac4b-1dce130efdc6",
     "showTitle": false,
     "title": ""
    }
   },
   "outputs": [
    {
     "output_type": "display_data",
     "data": {
      "text/html": [
       "<style scoped>\n",
       "  .table-result-container {\n",
       "    max-height: 300px;\n",
       "    overflow: auto;\n",
       "  }\n",
       "  table, th, td {\n",
       "    border: 1px solid black;\n",
       "    border-collapse: collapse;\n",
       "  }\n",
       "  th, td {\n",
       "    padding: 5px;\n",
       "  }\n",
       "  th {\n",
       "    text-align: left;\n",
       "  }\n",
       "</style><div class='table-result-container'><table class='table-result'><thead style='background-color: white'><tr></tr></thead><tbody></tbody></table></div>"
      ]
     },
     "metadata": {
      "application/vnd.databricks.v1+output": {
       "addedWidgets": {},
       "aggData": [],
       "aggError": "",
       "aggOverflow": false,
       "aggSchema": [],
       "aggSeriesLimitReached": false,
       "aggType": "",
       "arguments": {},
       "columnCustomDisplayInfos": {},
       "data": [],
       "datasetInfos": [],
       "dbfsResultPath": null,
       "isJsonSchema": true,
       "metadata": {
        "isDbfsCommandResult": false
       },
       "overflow": false,
       "plotOptions": {
        "customPlotOptions": {},
        "displayType": "table",
        "pivotAggregation": null,
        "pivotColumns": null,
        "xColumns": null,
        "yColumns": null
       },
       "removedWidgets": [],
       "schema": [],
       "type": "table"
      }
     },
     "output_type": "display_data"
    }
   ],
   "source": [
    "%sql\n",
    "CREATE OR REPLACE TABLE third_rank_mapping(\n",
    "  match_pair STRING,\n",
    "  1B_VS STRING,\n",
    "  1C_VS STRING,\n",
    "  1E_VS STRING,\n",
    "  1F_VS STRING\n",
    ")\n",
    " \n",
    "\n",
    " \n",
    " \n",
    "-- SELECT * FROM third_rank_mapping"
   ]
  },
  {
   "cell_type": "code",
   "execution_count": 0,
   "metadata": {
    "application/vnd.databricks.v1+cell": {
     "cellMetadata": {
      "byteLimit": 2048000,
      "rowLimit": 10000
     },
     "inputWidgets": {},
     "nuid": "84d74c82-0e46-44ce-a64f-4ba7a54dfcee",
     "showTitle": false,
     "title": ""
    }
   },
   "outputs": [
    {
     "output_type": "display_data",
     "data": {
      "text/html": [
       "<style scoped>\n",
       "  .table-result-container {\n",
       "    max-height: 300px;\n",
       "    overflow: auto;\n",
       "  }\n",
       "  table, th, td {\n",
       "    border: 1px solid black;\n",
       "    border-collapse: collapse;\n",
       "  }\n",
       "  th, td {\n",
       "    padding: 5px;\n",
       "  }\n",
       "  th {\n",
       "    text-align: left;\n",
       "  }\n",
       "</style><div class='table-result-container'><table class='table-result'><thead style='background-color: white'><tr><th>num_affected_rows</th><th>num_inserted_rows</th></tr></thead><tbody><tr><td>15</td><td>15</td></tr></tbody></table></div>"
      ]
     },
     "metadata": {
      "application/vnd.databricks.v1+output": {
       "addedWidgets": {},
       "aggData": [],
       "aggError": "",
       "aggOverflow": false,
       "aggSchema": [],
       "aggSeriesLimitReached": false,
       "aggType": "",
       "arguments": {},
       "columnCustomDisplayInfos": {},
       "data": [
        [
         15,
         15
        ]
       ],
       "datasetInfos": [],
       "dbfsResultPath": null,
       "isJsonSchema": true,
       "metadata": {
        "isDbfsCommandResult": false
       },
       "overflow": false,
       "plotOptions": {
        "customPlotOptions": {},
        "displayType": "table",
        "pivotAggregation": null,
        "pivotColumns": null,
        "xColumns": null,
        "yColumns": null
       },
       "removedWidgets": [],
       "schema": [
        {
         "metadata": "{}",
         "name": "num_affected_rows",
         "type": "\"long\""
        },
        {
         "metadata": "{}",
         "name": "num_inserted_rows",
         "type": "\"long\""
        }
       ],
       "type": "table"
      }
     },
     "output_type": "display_data"
    }
   ],
   "source": [
    "%sql\n",
    "INSERT INTO third_rank_mapping( match_pair, 1B_VS, 1C_VS, 1E_VS, 1F_VS)\n",
    "VALUES\n",
    "('ABCD','A','D','B','C'),\n",
    "('ABCE','A','E','B','C'),\n",
    "('ABCF','A','F','B','C'),\n",
    "('ABDE','D','E','A','B'),\n",
    "('ABDF','D','F','A','B'),\n",
    "('ABEF','E','F','B','A'),\n",
    "('ACDE','E','D','C','A'),\n",
    "('ACDF','F','D','C','A'),\n",
    "('ACEF','E','F','C','A'),\n",
    "('ADEF','E','F','D','A'),\n",
    "('BCDE','E','D','B','C'),\n",
    "('BCDF','F','D','C','B'),\n",
    "('BCEF','F','E','C','B'),\n",
    "('BDEF','F','E','D','B'),\n",
    "('CDEF','F','E','D','C')"
   ]
  },
  {
   "cell_type": "code",
   "execution_count": 0,
   "metadata": {
    "application/vnd.databricks.v1+cell": {
     "cellMetadata": {
      "byteLimit": 2048000,
      "rowLimit": 10000
     },
     "inputWidgets": {},
     "nuid": "d9328c68-e168-4e68-b258-100add8990cf",
     "showTitle": false,
     "title": ""
    }
   },
   "outputs": [
    {
     "output_type": "display_data",
     "data": {
      "text/html": [
       "<style scoped>\n",
       "  .table-result-container {\n",
       "    max-height: 300px;\n",
       "    overflow: auto;\n",
       "  }\n",
       "  table, th, td {\n",
       "    border: 1px solid black;\n",
       "    border-collapse: collapse;\n",
       "  }\n",
       "  th, td {\n",
       "    padding: 5px;\n",
       "  }\n",
       "  th {\n",
       "    text-align: left;\n",
       "  }\n",
       "</style><div class='table-result-container'><table class='table-result'><thead style='background-color: white'><tr><th>all_third_grp</th></tr></thead><tbody><tr><td>BCDF</td></tr></tbody></table></div>"
      ]
     },
     "metadata": {
      "application/vnd.databricks.v1+output": {
       "addedWidgets": {},
       "aggData": [],
       "aggError": "",
       "aggOverflow": false,
       "aggSchema": [],
       "aggSeriesLimitReached": false,
       "aggType": "",
       "arguments": {},
       "columnCustomDisplayInfos": {},
       "data": [
        [
         "BCDF"
        ]
       ],
       "datasetInfos": [],
       "dbfsResultPath": null,
       "isJsonSchema": true,
       "metadata": {
        "isDbfsCommandResult": false
       },
       "overflow": false,
       "plotOptions": {
        "customPlotOptions": {},
        "displayType": "table",
        "pivotAggregation": null,
        "pivotColumns": null,
        "xColumns": null,
        "yColumns": null
       },
       "removedWidgets": [],
       "schema": [
        {
         "metadata": "{}",
         "name": "all_third_grp",
         "type": "\"string\""
        }
       ],
       "type": "table"
      }
     },
     "output_type": "display_data"
    }
   ],
   "source": [
    "%sql\n",
    "SELECT concat_ws('',array_agg(Grp)) AS all_third_grp\n",
    "FROM (\n",
    "    SELECT Grp\n",
    "    FROM euro_cup_knockout\n",
    "    WHERE rank >= 3\n",
    "    ORDER BY Grp ASC\n",
    ") AS subquery\n",
    " "
   ]
  },
  {
   "cell_type": "code",
   "execution_count": 0,
   "metadata": {
    "application/vnd.databricks.v1+cell": {
     "cellMetadata": {
      "byteLimit": 2048000,
      "rowLimit": 10000
     },
     "inputWidgets": {},
     "nuid": "f4ccb1dc-6c1d-4fb8-ab0f-675823a8acb7",
     "showTitle": false,
     "title": ""
    }
   },
   "outputs": [
    {
     "output_type": "stream",
     "name": "stdout",
     "output_type": "stream",
     "text": [
      "Out[44]: False"
     ]
    }
   ],
   "source": [
    "%python\n",
    "dbutils.fs.rm(\"dbfs:/user/hive/warehouse/final_mapping\", True)"
   ]
  },
  {
   "cell_type": "code",
   "execution_count": 0,
   "metadata": {
    "application/vnd.databricks.v1+cell": {
     "cellMetadata": {
      "byteLimit": 2048000,
      "rowLimit": 10000
     },
     "inputWidgets": {},
     "nuid": "65ce08f0-1617-4441-9b09-49c76e3415ac",
     "showTitle": false,
     "title": ""
    }
   },
   "outputs": [
    {
     "output_type": "display_data",
     "data": {
      "text/html": [
       "<style scoped>\n",
       "  .table-result-container {\n",
       "    max-height: 300px;\n",
       "    overflow: auto;\n",
       "  }\n",
       "  table, th, td {\n",
       "    border: 1px solid black;\n",
       "    border-collapse: collapse;\n",
       "  }\n",
       "  th, td {\n",
       "    padding: 5px;\n",
       "  }\n",
       "  th {\n",
       "    text-align: left;\n",
       "  }\n",
       "</style><div class='table-result-container'><table class='table-result'><thead style='background-color: white'><tr><th>num_affected_rows</th><th>num_inserted_rows</th></tr></thead><tbody></tbody></table></div>"
      ]
     },
     "metadata": {
      "application/vnd.databricks.v1+output": {
       "addedWidgets": {},
       "aggData": [],
       "aggError": "",
       "aggOverflow": false,
       "aggSchema": [],
       "aggSeriesLimitReached": false,
       "aggType": "",
       "arguments": {},
       "columnCustomDisplayInfos": {},
       "data": [],
       "datasetInfos": [],
       "dbfsResultPath": null,
       "isJsonSchema": true,
       "metadata": {
        "isDbfsCommandResult": false
       },
       "overflow": false,
       "plotOptions": {
        "customPlotOptions": {},
        "displayType": "table",
        "pivotAggregation": null,
        "pivotColumns": null,
        "xColumns": null,
        "yColumns": null
       },
       "removedWidgets": [],
       "schema": [
        {
         "metadata": "{}",
         "name": "num_affected_rows",
         "type": "\"long\""
        },
        {
         "metadata": "{}",
         "name": "num_inserted_rows",
         "type": "\"long\""
        }
       ],
       "type": "table"
      }
     },
     "output_type": "display_data"
    }
   ],
   "source": [
    "%sql\n",
    "CREATE OR REPLACE TABLE final_mapping AS(\n",
    "SELECT *\n",
    "FROM third_rank_mapping\n",
    "WHERE match_pair = (\n",
    "    SELECT CONCAT_WS('', array_agg(Grp)) AS all_third_grp\n",
    "    FROM (\n",
    "        SELECT DISTINCT Grp\n",
    "        FROM euro_cup_knockout\n",
    "        WHERE rank >= 3\n",
    "        ORDER BY Grp ASC\n",
    "    ) AS subquery\n",
    ")\n",
    ")\n"
   ]
  },
  {
   "cell_type": "code",
   "execution_count": 0,
   "metadata": {
    "application/vnd.databricks.v1+cell": {
     "cellMetadata": {
      "byteLimit": 2048000,
      "rowLimit": 10000
     },
     "inputWidgets": {},
     "nuid": "f1f13c29-bbf9-4ede-a19b-8fc2d62d8677",
     "showTitle": false,
     "title": ""
    }
   },
   "outputs": [
    {
     "output_type": "display_data",
     "data": {
      "text/html": [
       "<style scoped>\n",
       "  .table-result-container {\n",
       "    max-height: 300px;\n",
       "    overflow: auto;\n",
       "  }\n",
       "  table, th, td {\n",
       "    border: 1px solid black;\n",
       "    border-collapse: collapse;\n",
       "  }\n",
       "  th, td {\n",
       "    padding: 5px;\n",
       "  }\n",
       "  th {\n",
       "    text-align: left;\n",
       "  }\n",
       "</style><div class='table-result-container'><table class='table-result'><thead style='background-color: white'><tr><th>match_pair</th><th>1B_VS</th><th>1C_VS</th><th>1E_VS</th><th>1F_VS</th></tr></thead><tbody><tr><td>BCDF</td><td>F</td><td>D</td><td>C</td><td>B</td></tr></tbody></table></div>"
      ]
     },
     "metadata": {
      "application/vnd.databricks.v1+output": {
       "addedWidgets": {},
       "aggData": [],
       "aggError": "",
       "aggOverflow": false,
       "aggSchema": [],
       "aggSeriesLimitReached": false,
       "aggType": "",
       "arguments": {},
       "columnCustomDisplayInfos": {},
       "data": [
        [
         "BCDF",
         "F",
         "D",
         "C",
         "B"
        ]
       ],
       "datasetInfos": [],
       "dbfsResultPath": null,
       "isJsonSchema": true,
       "metadata": {
        "isDbfsCommandResult": false
       },
       "overflow": false,
       "plotOptions": {
        "customPlotOptions": {},
        "displayType": "table",
        "pivotAggregation": null,
        "pivotColumns": null,
        "xColumns": null,
        "yColumns": null
       },
       "removedWidgets": [],
       "schema": [
        {
         "metadata": "{}",
         "name": "match_pair",
         "type": "\"string\""
        },
        {
         "metadata": "{}",
         "name": "1B_VS",
         "type": "\"string\""
        },
        {
         "metadata": "{}",
         "name": "1C_VS",
         "type": "\"string\""
        },
        {
         "metadata": "{}",
         "name": "1E_VS",
         "type": "\"string\""
        },
        {
         "metadata": "{}",
         "name": "1F_VS",
         "type": "\"string\""
        }
       ],
       "type": "table"
      }
     },
     "output_type": "display_data"
    }
   ],
   "source": [
    "%sql\n",
    "SELECT * FROM final_mapping"
   ]
  },
  {
   "cell_type": "code",
   "execution_count": 0,
   "metadata": {
    "application/vnd.databricks.v1+cell": {
     "cellMetadata": {
      "byteLimit": 2048000,
      "rowLimit": 10000
     },
     "inputWidgets": {},
     "nuid": "18c1f5ad-0f6a-43a8-b1aa-16d70f0a30a0",
     "showTitle": false,
     "title": ""
    }
   },
   "outputs": [
    {
     "output_type": "stream",
     "name": "stdout",
     "output_type": "stream",
     "text": [
      "Out[45]: False"
     ]
    }
   ],
   "source": [
    "%python\n",
    "dbutils.fs.rm(\"dbfs:/user/hive/warehouse/euro_cup_quarterfinal\", True)"
   ]
  },
  {
   "cell_type": "code",
   "execution_count": 0,
   "metadata": {
    "application/vnd.databricks.v1+cell": {
     "cellMetadata": {
      "byteLimit": 2048000,
      "rowLimit": 10000
     },
     "inputWidgets": {},
     "nuid": "841de356-4261-430c-b28c-6c815f56dfad",
     "showTitle": false,
     "title": ""
    }
   },
   "outputs": [
    {
     "output_type": "display_data",
     "data": {
      "text/html": [
       "<style scoped>\n",
       "  .table-result-container {\n",
       "    max-height: 300px;\n",
       "    overflow: auto;\n",
       "  }\n",
       "  table, th, td {\n",
       "    border: 1px solid black;\n",
       "    border-collapse: collapse;\n",
       "  }\n",
       "  th, td {\n",
       "    padding: 5px;\n",
       "  }\n",
       "  th {\n",
       "    text-align: left;\n",
       "  }\n",
       "</style><div class='table-result-container'><table class='table-result'><thead style='background-color: white'><tr><th>num_affected_rows</th><th>num_inserted_rows</th></tr></thead><tbody></tbody></table></div>"
      ]
     },
     "metadata": {
      "application/vnd.databricks.v1+output": {
       "addedWidgets": {},
       "aggData": [],
       "aggError": "",
       "aggOverflow": false,
       "aggSchema": [],
       "aggSeriesLimitReached": false,
       "aggType": "",
       "arguments": {},
       "columnCustomDisplayInfos": {},
       "data": [],
       "datasetInfos": [],
       "dbfsResultPath": null,
       "isJsonSchema": true,
       "metadata": {
        "isDbfsCommandResult": false
       },
       "overflow": false,
       "plotOptions": {
        "customPlotOptions": {},
        "displayType": "table",
        "pivotAggregation": null,
        "pivotColumns": null,
        "xColumns": null,
        "yColumns": null
       },
       "removedWidgets": [],
       "schema": [
        {
         "metadata": "{}",
         "name": "num_affected_rows",
         "type": "\"long\""
        },
        {
         "metadata": "{}",
         "name": "num_inserted_rows",
         "type": "\"long\""
        }
       ],
       "type": "table"
      }
     },
     "output_type": "display_data"
    }
   ],
   "source": [
    "%sql\n",
    "CREATE OR REPLACE TABLE euro_cup_quarterfinal AS (\n",
    "WITH cte3 AS (\n",
    "WITH cte2 AS (\n",
    "WITH cte AS (\n",
    "SELECT team FROM euro_cup_knockout WHERE rank = 1 AND Grp IN ('B') \n",
    "UNION\n",
    "SELECT team FROM euro_cup_knockout WHERE rank = 3 AND Grp IN (SELECT 1B_VS FROM final_mapping) \n",
    "UNION\n",
    "SELECT team FROM euro_cup_knockout WHERE rank = 1 AND Grp in ('A') \n",
    "UNION\n",
    "SELECT team FROM euro_cup_knockout WHERE rank = 2 AND Grp in ('C')\n",
    "UNION\n",
    "SELECT team FROM euro_cup_knockout WHERE rank = 1 AND Grp in ('F')\n",
    "UNION\n",
    "SELECT team FROM euro_cup_knockout WHERE rank = 3 AND Grp IN (SELECT 1F_VS FROM final_mapping)\n",
    "UNION\n",
    "SELECT team FROM euro_cup_knockout WHERE rank = 2 AND Grp in ('D')\n",
    "UNION\n",
    "SELECT team FROM euro_cup_knockout WHERE rank = 2 AND Grp in ('E')\n",
    "UNION\n",
    "SELECT team FROM euro_cup_knockout WHERE rank = 1 AND Grp in ('E')\n",
    "UNION\n",
    "SELECT team FROM euro_cup_knockout WHERE rank = 3 AND Grp IN (SELECT 1E_VS FROM final_mapping)\n",
    "UNION\n",
    "SELECT team FROM euro_cup_knockout WHERE rank = 1 AND Grp in ('D')\n",
    "UNION\n",
    "SELECT team FROM euro_cup_knockout WHERE rank = 2 AND Grp in ('F')\n",
    "UNION\n",
    "SELECT team FROM euro_cup_knockout WHERE rank = 1 AND Grp in ('C')\n",
    "UNION\n",
    "SELECT team FROM euro_cup_knockout WHERE rank = 3 AND Grp IN (SELECT 1C_VS FROM final_mapping)\n",
    "UNION\n",
    "SELECT team FROM euro_cup_knockout WHERE rank = 2 AND Grp in ('A')\n",
    "UNION\n",
    "SELECT team FROM euro_cup_knockout WHERE rank = 2 AND Grp in ('B')\n",
    ")\n",
    "SELECT row_number() OVER (ORDER BY(SELECT NULL)) AS Pos,* FROM cte\n",
    ")\n",
    "SELECT t1.team AS team1,t2.team AS team2,\n",
    "case when ROUND(RAND()) = 0 then \"loss\" else \"win\" end AS team1_result,\n",
    "case when team1_result = \"loss\" then \"win\" else \"loss\" end as team2_result\n",
    "FROM cte2 t1 JOIN cte2 t2 \n",
    "ON t1.Pos = t2.pos - 1 \n",
    "WHERE t1.pos % 2 != 0\n",
    ")\n",
    "SELECT\n",
    "CASE\n",
    "  WHEN team1_result = 'win' THEN team1\n",
    "  ELSE team2\n",
    "  END AS winner\n",
    "FROM cte3\n",
    ")"
   ]
  },
  {
   "cell_type": "code",
   "execution_count": 0,
   "metadata": {
    "application/vnd.databricks.v1+cell": {
     "cellMetadata": {
      "byteLimit": 2048000,
      "rowLimit": 10000
     },
     "inputWidgets": {},
     "nuid": "00c19dac-2f1b-41f7-8787-3b6b4bf56227",
     "showTitle": false,
     "title": ""
    }
   },
   "outputs": [
    {
     "output_type": "display_data",
     "data": {
      "text/html": [
       "<style scoped>\n",
       "  .table-result-container {\n",
       "    max-height: 300px;\n",
       "    overflow: auto;\n",
       "  }\n",
       "  table, th, td {\n",
       "    border: 1px solid black;\n",
       "    border-collapse: collapse;\n",
       "  }\n",
       "  th, td {\n",
       "    padding: 5px;\n",
       "  }\n",
       "  th {\n",
       "    text-align: left;\n",
       "  }\n",
       "</style><div class='table-result-container'><table class='table-result'><thead style='background-color: white'><tr><th>winner</th></tr></thead><tbody><tr><td>France</td></tr><tr><td>Wales</td></tr><tr><td>Hungary</td></tr><tr><td>England</td></tr><tr><td>Netherlands</td></tr><tr><td>Croatia</td></tr><tr><td>Czech Republic</td></tr><tr><td>Denmark</td></tr></tbody></table></div>"
      ]
     },
     "metadata": {
      "application/vnd.databricks.v1+output": {
       "addedWidgets": {},
       "aggData": [],
       "aggError": "",
       "aggOverflow": false,
       "aggSchema": [],
       "aggSeriesLimitReached": false,
       "aggType": "",
       "arguments": {},
       "columnCustomDisplayInfos": {},
       "data": [
        [
         "France"
        ],
        [
         "Wales"
        ],
        [
         "Hungary"
        ],
        [
         "England"
        ],
        [
         "Netherlands"
        ],
        [
         "Croatia"
        ],
        [
         "Czech Republic"
        ],
        [
         "Denmark"
        ]
       ],
       "datasetInfos": [],
       "dbfsResultPath": null,
       "isJsonSchema": true,
       "metadata": {
        "isDbfsCommandResult": false
       },
       "overflow": false,
       "plotOptions": {
        "customPlotOptions": {},
        "displayType": "table",
        "pivotAggregation": null,
        "pivotColumns": null,
        "xColumns": null,
        "yColumns": null
       },
       "removedWidgets": [],
       "schema": [
        {
         "metadata": "{}",
         "name": "winner",
         "type": "\"string\""
        }
       ],
       "type": "table"
      }
     },
     "output_type": "display_data"
    }
   ],
   "source": [
    "%sql\n",
    "SELECT * FROM euro_cup_quarterfinal"
   ]
  },
  {
   "cell_type": "code",
   "execution_count": 0,
   "metadata": {
    "application/vnd.databricks.v1+cell": {
     "cellMetadata": {
      "byteLimit": 2048000,
      "rowLimit": 10000
     },
     "inputWidgets": {},
     "nuid": "77c29fed-9125-4af1-b312-3f6d66b227f3",
     "showTitle": false,
     "title": ""
    }
   },
   "outputs": [
    {
     "output_type": "stream",
     "name": "stdout",
     "output_type": "stream",
     "text": [
      "Out[46]: False"
     ]
    }
   ],
   "source": [
    "%python\n",
    "dbutils.fs.rm(\"dbfs:/user/hive/warehouse/euro_cup_semifinal\", True)"
   ]
  },
  {
   "cell_type": "code",
   "execution_count": 0,
   "metadata": {
    "application/vnd.databricks.v1+cell": {
     "cellMetadata": {
      "byteLimit": 2048000,
      "rowLimit": 10000
     },
     "inputWidgets": {},
     "nuid": "87e49a28-cc14-4ab7-9d71-3cb8deb7e08d",
     "showTitle": false,
     "title": ""
    }
   },
   "outputs": [
    {
     "output_type": "display_data",
     "data": {
      "text/html": [
       "<style scoped>\n",
       "  .table-result-container {\n",
       "    max-height: 300px;\n",
       "    overflow: auto;\n",
       "  }\n",
       "  table, th, td {\n",
       "    border: 1px solid black;\n",
       "    border-collapse: collapse;\n",
       "  }\n",
       "  th, td {\n",
       "    padding: 5px;\n",
       "  }\n",
       "  th {\n",
       "    text-align: left;\n",
       "  }\n",
       "</style><div class='table-result-container'><table class='table-result'><thead style='background-color: white'><tr><th>num_affected_rows</th><th>num_inserted_rows</th></tr></thead><tbody></tbody></table></div>"
      ]
     },
     "metadata": {
      "application/vnd.databricks.v1+output": {
       "addedWidgets": {},
       "aggData": [],
       "aggError": "",
       "aggOverflow": false,
       "aggSchema": [],
       "aggSeriesLimitReached": false,
       "aggType": "",
       "arguments": {},
       "columnCustomDisplayInfos": {},
       "data": [],
       "datasetInfos": [],
       "dbfsResultPath": null,
       "isJsonSchema": true,
       "metadata": {
        "isDbfsCommandResult": false
       },
       "overflow": false,
       "plotOptions": {
        "customPlotOptions": {},
        "displayType": "table",
        "pivotAggregation": null,
        "pivotColumns": null,
        "xColumns": null,
        "yColumns": null
       },
       "removedWidgets": [],
       "schema": [
        {
         "metadata": "{}",
         "name": "num_affected_rows",
         "type": "\"long\""
        },
        {
         "metadata": "{}",
         "name": "num_inserted_rows",
         "type": "\"long\""
        }
       ],
       "type": "table"
      }
     },
     "output_type": "display_data"
    }
   ],
   "source": [
    "%sql\n",
    "CREATE OR REPLACE TABLE euro_cup_semifinal(\n",
    "WITH cte2 AS (\n",
    "WITH cte AS (\n",
    "SELECT row_number() OVER (ORDER BY(SELECT NULL)) AS Pos,* FROM euro_cup_quarterfinal\n",
    ")\n",
    "SELECT t1.winner AS team1,t2.winner AS team2,\n",
    "case when ROUND(RAND()) = 0 then \"loss\" else \"win\" end AS team1_result,\n",
    "case when team1_result = \"loss\" then \"win\" else \"loss\" end as team2_result\n",
    "FROM cte t1 JOIN cte t2 \n",
    "ON t1.Pos = t2.pos - 1 \n",
    "WHERE t1.pos % 2 != 0\n",
    ")\n",
    "SELECT\n",
    "CASE\n",
    "  WHEN team1_result = 'win' THEN team1\n",
    "  ELSE team2\n",
    "  END AS winner\n",
    "FROM cte2\n",
    ")"
   ]
  },
  {
   "cell_type": "code",
   "execution_count": 0,
   "metadata": {
    "application/vnd.databricks.v1+cell": {
     "cellMetadata": {
      "byteLimit": 2048000,
      "rowLimit": 10000
     },
     "inputWidgets": {},
     "nuid": "bdb9fbd3-dfd2-4dbf-99d8-dbaf641ab7d0",
     "showTitle": false,
     "title": ""
    }
   },
   "outputs": [
    {
     "output_type": "display_data",
     "data": {
      "text/html": [
       "<style scoped>\n",
       "  .table-result-container {\n",
       "    max-height: 300px;\n",
       "    overflow: auto;\n",
       "  }\n",
       "  table, th, td {\n",
       "    border: 1px solid black;\n",
       "    border-collapse: collapse;\n",
       "  }\n",
       "  th, td {\n",
       "    padding: 5px;\n",
       "  }\n",
       "  th {\n",
       "    text-align: left;\n",
       "  }\n",
       "</style><div class='table-result-container'><table class='table-result'><thead style='background-color: white'><tr><th>winner</th></tr></thead><tbody><tr><td>Wales</td></tr><tr><td>Hungary</td></tr><tr><td>Netherlands</td></tr><tr><td>Czech Republic</td></tr></tbody></table></div>"
      ]
     },
     "metadata": {
      "application/vnd.databricks.v1+output": {
       "addedWidgets": {},
       "aggData": [],
       "aggError": "",
       "aggOverflow": false,
       "aggSchema": [],
       "aggSeriesLimitReached": false,
       "aggType": "",
       "arguments": {},
       "columnCustomDisplayInfos": {},
       "data": [
        [
         "Wales"
        ],
        [
         "Hungary"
        ],
        [
         "Netherlands"
        ],
        [
         "Czech Republic"
        ]
       ],
       "datasetInfos": [],
       "dbfsResultPath": null,
       "isJsonSchema": true,
       "metadata": {
        "isDbfsCommandResult": false
       },
       "overflow": false,
       "plotOptions": {
        "customPlotOptions": {},
        "displayType": "table",
        "pivotAggregation": null,
        "pivotColumns": null,
        "xColumns": null,
        "yColumns": null
       },
       "removedWidgets": [],
       "schema": [
        {
         "metadata": "{}",
         "name": "winner",
         "type": "\"string\""
        }
       ],
       "type": "table"
      }
     },
     "output_type": "display_data"
    }
   ],
   "source": [
    "%sql\n",
    "SELECT * FROM euro_cup_semifinal"
   ]
  },
  {
   "cell_type": "code",
   "execution_count": 0,
   "metadata": {
    "application/vnd.databricks.v1+cell": {
     "cellMetadata": {
      "byteLimit": 2048000,
      "rowLimit": 10000
     },
     "inputWidgets": {},
     "nuid": "49c9e935-94c8-48a5-aae5-1a896a76f77f",
     "showTitle": false,
     "title": ""
    }
   },
   "outputs": [
    {
     "output_type": "stream",
     "name": "stdout",
     "output_type": "stream",
     "text": [
      "Out[47]: False"
     ]
    }
   ],
   "source": [
    "%python\n",
    "dbutils.fs.rm(\"dbfs:/user/hive/warehouse/euro_cup_final\", True)"
   ]
  },
  {
   "cell_type": "code",
   "execution_count": 0,
   "metadata": {
    "application/vnd.databricks.v1+cell": {
     "cellMetadata": {
      "byteLimit": 2048000,
      "rowLimit": 10000
     },
     "inputWidgets": {},
     "nuid": "b51a634c-d985-4326-831b-f6ffdb076c25",
     "showTitle": false,
     "title": ""
    }
   },
   "outputs": [
    {
     "output_type": "display_data",
     "data": {
      "text/html": [
       "<style scoped>\n",
       "  .table-result-container {\n",
       "    max-height: 300px;\n",
       "    overflow: auto;\n",
       "  }\n",
       "  table, th, td {\n",
       "    border: 1px solid black;\n",
       "    border-collapse: collapse;\n",
       "  }\n",
       "  th, td {\n",
       "    padding: 5px;\n",
       "  }\n",
       "  th {\n",
       "    text-align: left;\n",
       "  }\n",
       "</style><div class='table-result-container'><table class='table-result'><thead style='background-color: white'><tr><th>num_affected_rows</th><th>num_inserted_rows</th></tr></thead><tbody></tbody></table></div>"
      ]
     },
     "metadata": {
      "application/vnd.databricks.v1+output": {
       "addedWidgets": {},
       "aggData": [],
       "aggError": "",
       "aggOverflow": false,
       "aggSchema": [],
       "aggSeriesLimitReached": false,
       "aggType": "",
       "arguments": {},
       "columnCustomDisplayInfos": {},
       "data": [],
       "datasetInfos": [],
       "dbfsResultPath": null,
       "isJsonSchema": true,
       "metadata": {
        "isDbfsCommandResult": false
       },
       "overflow": false,
       "plotOptions": {
        "customPlotOptions": {},
        "displayType": "table",
        "pivotAggregation": null,
        "pivotColumns": null,
        "xColumns": null,
        "yColumns": null
       },
       "removedWidgets": [],
       "schema": [
        {
         "metadata": "{}",
         "name": "num_affected_rows",
         "type": "\"long\""
        },
        {
         "metadata": "{}",
         "name": "num_inserted_rows",
         "type": "\"long\""
        }
       ],
       "type": "table"
      }
     },
     "output_type": "display_data"
    }
   ],
   "source": [
    "%sql\n",
    "CREATE OR REPLACE TABLE euro_cup_final AS(\n",
    "WITH cte2 AS (\n",
    "WITH cte AS (\n",
    "SELECT row_number() OVER (ORDER BY(SELECT NULL)) AS Pos,* FROM euro_cup_semifinal\n",
    ")\n",
    "SELECT t1.winner AS team1,t2.winner AS team2,\n",
    "case when ROUND(RAND()) = 0 then \"loss\" else \"win\" end AS team1_result,\n",
    "case when team1_result = \"loss\" then \"win\" else \"loss\" end as team2_result\n",
    "FROM cte t1 JOIN cte t2 \n",
    "ON t1.Pos = t2.pos - 1 \n",
    "WHERE t1.pos % 2 != 0\n",
    ")\n",
    "SELECT\n",
    "CASE\n",
    "  WHEN team1_result = 'win' THEN team1\n",
    "  ELSE team2\n",
    "  END AS winner\n",
    "FROM cte2\n",
    ")"
   ]
  },
  {
   "cell_type": "code",
   "execution_count": 0,
   "metadata": {
    "application/vnd.databricks.v1+cell": {
     "cellMetadata": {
      "byteLimit": 2048000,
      "rowLimit": 10000
     },
     "inputWidgets": {},
     "nuid": "39257e88-51c0-4a8f-8c98-f7caeaa1fd9a",
     "showTitle": false,
     "title": ""
    }
   },
   "outputs": [
    {
     "output_type": "display_data",
     "data": {
      "text/html": [
       "<style scoped>\n",
       "  .table-result-container {\n",
       "    max-height: 300px;\n",
       "    overflow: auto;\n",
       "  }\n",
       "  table, th, td {\n",
       "    border: 1px solid black;\n",
       "    border-collapse: collapse;\n",
       "  }\n",
       "  th, td {\n",
       "    padding: 5px;\n",
       "  }\n",
       "  th {\n",
       "    text-align: left;\n",
       "  }\n",
       "</style><div class='table-result-container'><table class='table-result'><thead style='background-color: white'><tr><th>winner</th></tr></thead><tbody><tr><td>Wales</td></tr><tr><td>Czech Republic</td></tr></tbody></table></div>"
      ]
     },
     "metadata": {
      "application/vnd.databricks.v1+output": {
       "addedWidgets": {},
       "aggData": [],
       "aggError": "",
       "aggOverflow": false,
       "aggSchema": [],
       "aggSeriesLimitReached": false,
       "aggType": "",
       "arguments": {},
       "columnCustomDisplayInfos": {},
       "data": [
        [
         "Wales"
        ],
        [
         "Czech Republic"
        ]
       ],
       "datasetInfos": [],
       "dbfsResultPath": null,
       "isJsonSchema": true,
       "metadata": {
        "isDbfsCommandResult": false
       },
       "overflow": false,
       "plotOptions": {
        "customPlotOptions": {},
        "displayType": "table",
        "pivotAggregation": null,
        "pivotColumns": null,
        "xColumns": null,
        "yColumns": null
       },
       "removedWidgets": [],
       "schema": [
        {
         "metadata": "{}",
         "name": "winner",
         "type": "\"string\""
        }
       ],
       "type": "table"
      }
     },
     "output_type": "display_data"
    }
   ],
   "source": [
    "%sql\n",
    "\n",
    "SELECT * FROM euro_cup_final\n"
   ]
  },
  {
   "cell_type": "code",
   "execution_count": 0,
   "metadata": {
    "application/vnd.databricks.v1+cell": {
     "cellMetadata": {
      "byteLimit": 2048000,
      "rowLimit": 10000
     },
     "inputWidgets": {},
     "nuid": "70ef2088-b946-4185-9108-2d63d4b50998",
     "showTitle": false,
     "title": ""
    }
   },
   "outputs": [
    {
     "output_type": "stream",
     "name": "stdout",
     "output_type": "stream",
     "text": [
      "Out[48]: False"
     ]
    }
   ],
   "source": [
    "%python\n",
    "dbutils.fs.rm(\"dbfs:/user/hive/warehouse/euro_cup_winner\", True)"
   ]
  },
  {
   "cell_type": "code",
   "execution_count": 0,
   "metadata": {
    "application/vnd.databricks.v1+cell": {
     "cellMetadata": {
      "byteLimit": 2048000,
      "rowLimit": 10000
     },
     "inputWidgets": {},
     "nuid": "95b4fb49-f1fa-46e3-9a39-4a505090e6e3",
     "showTitle": false,
     "title": ""
    }
   },
   "outputs": [
    {
     "output_type": "display_data",
     "data": {
      "text/html": [
       "<style scoped>\n",
       "  .table-result-container {\n",
       "    max-height: 300px;\n",
       "    overflow: auto;\n",
       "  }\n",
       "  table, th, td {\n",
       "    border: 1px solid black;\n",
       "    border-collapse: collapse;\n",
       "  }\n",
       "  th, td {\n",
       "    padding: 5px;\n",
       "  }\n",
       "  th {\n",
       "    text-align: left;\n",
       "  }\n",
       "</style><div class='table-result-container'><table class='table-result'><thead style='background-color: white'><tr><th>num_affected_rows</th><th>num_inserted_rows</th></tr></thead><tbody></tbody></table></div>"
      ]
     },
     "metadata": {
      "application/vnd.databricks.v1+output": {
       "addedWidgets": {},
       "aggData": [],
       "aggError": "",
       "aggOverflow": false,
       "aggSchema": [],
       "aggSeriesLimitReached": false,
       "aggType": "",
       "arguments": {},
       "columnCustomDisplayInfos": {},
       "data": [],
       "datasetInfos": [],
       "dbfsResultPath": null,
       "isJsonSchema": true,
       "metadata": {
        "isDbfsCommandResult": false
       },
       "overflow": false,
       "plotOptions": {
        "customPlotOptions": {},
        "displayType": "table",
        "pivotAggregation": null,
        "pivotColumns": null,
        "xColumns": null,
        "yColumns": null
       },
       "removedWidgets": [],
       "schema": [
        {
         "metadata": "{}",
         "name": "num_affected_rows",
         "type": "\"long\""
        },
        {
         "metadata": "{}",
         "name": "num_inserted_rows",
         "type": "\"long\""
        }
       ],
       "type": "table"
      }
     },
     "output_type": "display_data"
    }
   ],
   "source": [
    "%sql\n",
    "CREATE OR REPLACE TABLE euro_cup_winner AS(\n",
    "WITH cte2 AS (\n",
    "WITH cte AS (\n",
    "SELECT row_number() OVER (ORDER BY(SELECT NULL)) AS Pos,* FROM euro_cup_final\n",
    ")\n",
    "SELECT t1.winner AS team1,t2.winner AS team2,\n",
    "case when ROUND(RAND()) = 0 then \"loss\" else \"win\" end AS team1_result,\n",
    "case when team1_result = \"loss\" then \"win\" else \"loss\" end as team2_result\n",
    "FROM cte t1 JOIN cte t2 \n",
    "ON t1.Pos = t2.pos - 1 \n",
    "WHERE t1.pos % 2 != 0\n",
    ")\n",
    "SELECT\n",
    "CASE\n",
    "  WHEN team1_result = 'win' THEN team1\n",
    "  ELSE team2\n",
    "  END AS winner\n",
    "FROM cte2\n",
    ")"
   ]
  },
  {
   "cell_type": "code",
   "execution_count": 0,
   "metadata": {
    "application/vnd.databricks.v1+cell": {
     "cellMetadata": {
      "byteLimit": 2048000,
      "rowLimit": 10000
     },
     "inputWidgets": {},
     "nuid": "bf7f88df-fe98-4998-b17e-296efa85f6e9",
     "showTitle": false,
     "title": ""
    }
   },
   "outputs": [
    {
     "output_type": "display_data",
     "data": {
      "text/html": [
       "<style scoped>\n",
       "  .table-result-container {\n",
       "    max-height: 300px;\n",
       "    overflow: auto;\n",
       "  }\n",
       "  table, th, td {\n",
       "    border: 1px solid black;\n",
       "    border-collapse: collapse;\n",
       "  }\n",
       "  th, td {\n",
       "    padding: 5px;\n",
       "  }\n",
       "  th {\n",
       "    text-align: left;\n",
       "  }\n",
       "</style><div class='table-result-container'><table class='table-result'><thead style='background-color: white'><tr><th>winner</th></tr></thead><tbody><tr><td>Wales</td></tr></tbody></table></div>"
      ]
     },
     "metadata": {
      "application/vnd.databricks.v1+output": {
       "addedWidgets": {},
       "aggData": [],
       "aggError": "",
       "aggOverflow": false,
       "aggSchema": [],
       "aggSeriesLimitReached": false,
       "aggType": "",
       "arguments": {},
       "columnCustomDisplayInfos": {},
       "data": [
        [
         "Wales"
        ]
       ],
       "datasetInfos": [],
       "dbfsResultPath": null,
       "isJsonSchema": true,
       "metadata": {
        "isDbfsCommandResult": false
       },
       "overflow": false,
       "plotOptions": {
        "customPlotOptions": {},
        "displayType": "table",
        "pivotAggregation": null,
        "pivotColumns": null,
        "xColumns": null,
        "yColumns": null
       },
       "removedWidgets": [],
       "schema": [
        {
         "metadata": "{}",
         "name": "winner",
         "type": "\"string\""
        }
       ],
       "type": "table"
      }
     },
     "output_type": "display_data"
    }
   ],
   "source": [
    "%sql\n",
    "SELECT * FROM euro_cup_winner"
   ]
  },
  {
   "cell_type": "code",
   "execution_count": 0,
   "metadata": {
    "application/vnd.databricks.v1+cell": {
     "cellMetadata": {
      "byteLimit": 2048000,
      "rowLimit": 10000
     },
     "inputWidgets": {},
     "nuid": "4b8b1b72-ff6b-4298-8ee6-b982de259547",
     "showTitle": false,
     "title": ""
    }
   },
   "outputs": [],
   "source": []
  },
  {
   "cell_type": "code",
   "execution_count": 0,
   "metadata": {
    "application/vnd.databricks.v1+cell": {
     "cellMetadata": {
      "byteLimit": 2048000,
      "rowLimit": 10000
     },
     "inputWidgets": {},
     "nuid": "7d870c78-25a5-426f-b2bb-ac35980ba8f6",
     "showTitle": false,
     "title": ""
    }
   },
   "outputs": [],
   "source": []
  }
 ],
 "metadata": {
  "application/vnd.databricks.v1+notebook": {
   "dashboards": [],
   "language": "python",
   "notebookMetadata": {
    "pythonIndentUnit": 4
   },
   "notebookName": "Euro_Cup_SQL_Project",
   "widgets": {}
  }
 },
 "nbformat": 4,
 "nbformat_minor": 0
}
