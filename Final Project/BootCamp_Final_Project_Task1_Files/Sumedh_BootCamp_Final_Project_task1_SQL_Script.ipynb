{
 "cells": [
  {
   "cell_type": "code",
   "execution_count": 0,
   "metadata": {
    "application/vnd.databricks.v1+cell": {
     "cellMetadata": {
      "byteLimit": 2048000,
      "rowLimit": 10000
     },
     "inputWidgets": {},
     "nuid": "4949e8da-9560-4126-8c1f-2d52011a3e25",
     "showTitle": false,
     "title": ""
    }
   },
   "outputs": [],
   "source": [
    "%sql\n",
    "-- %fs\n",
    "\n",
    "-- rm -r dbfs:///FileStore/tables/BootCamp_Final_Project_Task1_Files/\n",
    "\n"
   ]
  },
  {
   "cell_type": "markdown",
   "metadata": {
    "application/vnd.databricks.v1+cell": {
     "cellMetadata": {
      "byteLimit": 2048000,
      "rowLimit": 10000
     },
     "inputWidgets": {},
     "nuid": "b0908f7c-4c5e-44e4-bc9f-f511bfd93c36",
     "showTitle": false,
     "title": ""
    }
   },
   "source": [
    "#listing files"
   ]
  },
  {
   "cell_type": "code",
   "execution_count": 0,
   "metadata": {
    "application/vnd.databricks.v1+cell": {
     "cellMetadata": {
      "byteLimit": 2048000,
      "rowLimit": 10000
     },
     "inputWidgets": {},
     "nuid": "dff1ae29-9987-48de-9806-4b2b51db5200",
     "showTitle": false,
     "title": ""
    }
   },
   "outputs": [
    {
     "output_type": "display_data",
     "data": {
      "text/html": [
       "<style scoped>\n",
       "  .table-result-container {\n",
       "    max-height: 300px;\n",
       "    overflow: auto;\n",
       "  }\n",
       "  table, th, td {\n",
       "    border: 1px solid black;\n",
       "    border-collapse: collapse;\n",
       "  }\n",
       "  th, td {\n",
       "    padding: 5px;\n",
       "  }\n",
       "  th {\n",
       "    text-align: left;\n",
       "  }\n",
       "</style><div class='table-result-container'><table class='table-result'><thead style='background-color: white'><tr><th>path</th><th>name</th><th>size</th><th>modificationTime</th></tr></thead><tbody><tr><td>dbfs:/FileStore/tables/BootCamp_Final_Project_Task1_Files/customers.txt</td><td>customers.txt</td><td>1043</td><td>1710401272000</td></tr><tr><td>dbfs:/FileStore/tables/BootCamp_Final_Project_Task1_Files/employee.txt</td><td>employee.txt</td><td>385</td><td>1710401272000</td></tr><tr><td>dbfs:/FileStore/tables/BootCamp_Final_Project_Task1_Files/employee_sale.txt</td><td>employee_sale.txt</td><td>2436</td><td>1710401273000</td></tr><tr><td>dbfs:/FileStore/tables/BootCamp_Final_Project_Task1_Files/products.txt</td><td>products.txt</td><td>367</td><td>1710401273000</td></tr><tr><td>dbfs:/FileStore/tables/BootCamp_Final_Project_Task1_Files/sales.txt</td><td>sales.txt</td><td>2414</td><td>1710401273000</td></tr></tbody></table></div>"
      ]
     },
     "metadata": {
      "application/vnd.databricks.v1+output": {
       "addedWidgets": {},
       "aggData": [],
       "aggError": "",
       "aggOverflow": false,
       "aggSchema": [],
       "aggSeriesLimitReached": false,
       "aggType": "",
       "arguments": {},
       "columnCustomDisplayInfos": {},
       "data": [
        [
         "dbfs:/FileStore/tables/BootCamp_Final_Project_Task1_Files/customers.txt",
         "customers.txt",
         1043,
         1710401272000
        ],
        [
         "dbfs:/FileStore/tables/BootCamp_Final_Project_Task1_Files/employee.txt",
         "employee.txt",
         385,
         1710401272000
        ],
        [
         "dbfs:/FileStore/tables/BootCamp_Final_Project_Task1_Files/employee_sale.txt",
         "employee_sale.txt",
         2436,
         1710401273000
        ],
        [
         "dbfs:/FileStore/tables/BootCamp_Final_Project_Task1_Files/products.txt",
         "products.txt",
         367,
         1710401273000
        ],
        [
         "dbfs:/FileStore/tables/BootCamp_Final_Project_Task1_Files/sales.txt",
         "sales.txt",
         2414,
         1710401273000
        ]
       ],
       "datasetInfos": [],
       "dbfsResultPath": null,
       "isJsonSchema": true,
       "metadata": {
        "isDbfsCommandResult": false
       },
       "overflow": false,
       "plotOptions": {
        "customPlotOptions": {},
        "displayType": "table",
        "pivotAggregation": null,
        "pivotColumns": null,
        "xColumns": null,
        "yColumns": null
       },
       "removedWidgets": [],
       "schema": [
        {
         "metadata": "{}",
         "name": "path",
         "type": "\"string\""
        },
        {
         "metadata": "{}",
         "name": "name",
         "type": "\"string\""
        },
        {
         "metadata": "{}",
         "name": "size",
         "type": "\"long\""
        },
        {
         "metadata": "{}",
         "name": "modificationTime",
         "type": "\"long\""
        }
       ],
       "type": "table"
      }
     },
     "output_type": "display_data"
    }
   ],
   "source": [
    "%fs\n",
    "ls dbfs:///FileStore/tables/BootCamp_Final_Project_Task1_Files/"
   ]
  },
  {
   "cell_type": "code",
   "execution_count": 0,
   "metadata": {
    "application/vnd.databricks.v1+cell": {
     "cellMetadata": {
      "byteLimit": 2048000,
      "rowLimit": 10000
     },
     "inputWidgets": {},
     "nuid": "343e3aae-9011-4b4f-ab3c-dfe60b04f63e",
     "showTitle": false,
     "title": ""
    }
   },
   "outputs": [
    {
     "output_type": "stream",
     "name": "stdout",
     "output_type": "stream",
     "text": [
      "Out[1]: True"
     ]
    }
   ],
   "source": [
    "\n",
    "\n",
    "# Delete the existing table location\n",
    "dbutils.fs.rm(\"dbfs:/user/hive/warehouse/employee\", recurse=True)\n",
    "dbutils.fs.rm(\"dbfs:/user/hive/warehouse/sale\", recurse=True)\n",
    "dbutils.fs.rm(\"dbfs:/user/hive/warehouse/products\", recurse=True)\n",
    "dbutils.fs.rm(\"dbfs:/user/hive/warehouse/employee_sale\", recurse=True)\n",
    "dbutils.fs.rm(\"dbfs:/user/hive/warehouse/customers\", recurse=True)\n"
   ]
  },
  {
   "cell_type": "markdown",
   "metadata": {
    "application/vnd.databricks.v1+cell": {
     "cellMetadata": {
      "byteLimit": 2048000,
      "rowLimit": 10000
     },
     "inputWidgets": {},
     "nuid": "f7fe5085-2ed0-413d-86e3-1020731ee227",
     "showTitle": false,
     "title": ""
    }
   },
   "source": [
    "#DeltaTable Creation"
   ]
  },
  {
   "cell_type": "code",
   "execution_count": 0,
   "metadata": {
    "application/vnd.databricks.v1+cell": {
     "cellMetadata": {
      "byteLimit": 2048000,
      "rowLimit": 10000
     },
     "inputWidgets": {},
     "nuid": "0b91dd0b-8b62-419e-bf5a-bd550b18360f",
     "showTitle": false,
     "title": ""
    }
   },
   "outputs": [],
   "source": [
    "%python\n",
    "options = {\n",
    "    \"header\": True,          # First row is header\n",
    "    \"sep\": \"\\t\",             # Tab-separated\n",
    "    \"inferSchema\": True      # Infer schema\n",
    "}\n",
    "\n",
    "file_path_employee      = \"dbfs:/FileStore/tables/BootCamp_Final_Project_Task1_Files/employee.txt\"\n",
    "file_path_employee_sale = \"dbfs:/FileStore/tables/BootCamp_Final_Project_Task1_Files/employee_sale.txt\"\n",
    "file_path_customers     = \"dbfs:/FileStore/tables/BootCamp_Final_Project_Task1_Files/customers.txt\"\n",
    "file_path_products      = \"dbfs:/FileStore/tables/BootCamp_Final_Project_Task1_Files/products.txt\"\n",
    "file_path_sales         = \"dbfs:/FileStore/tables/BootCamp_Final_Project_Task1_Files/sales.txt\"\n",
    "\n",
    "# Read the CSV file into a DataFrame and create a delta table from it\n",
    "employee      = spark.read.csv(file_path_employee, **options)\n",
    "dbutils.fs.rm(\"dbfs:/user/hive/warehouse/employee\", recurse=True)\n",
    "employee.write.format(\"delta\").saveAsTable(\"employee\")\n",
    "\n",
    "employee_sale = spark.read.csv(file_path_employee_sale, **options)\n",
    "dbutils.fs.rm(\"dbfs:/user/hive/warehouse/_employee_sale\", recurse=True)\n",
    "employee_sale.write.format(\"delta\").saveAsTable(\"employee_sale\")\n",
    "\n",
    "customers     = spark.read.csv(file_path_customers, **options)\n",
    "dbutils.fs.rm(\"dbfs:/user/hive/warehouse/customers\", recurse=True)\n",
    "customers.write.format(\"delta\").saveAsTable(\"customers\")\n",
    "\n",
    "products      = spark.read.csv(file_path_products, **options)\n",
    "dbutils.fs.rm(\"dbfs:/user/hive/warehouse/products\", recurse=True)\n",
    "products.write.format(\"delta\").saveAsTable(\"products\")\n",
    "\n",
    "sales         = spark.read.csv(file_path_sales, **options)\n",
    "dbutils.fs.rm(\"dbfs:/user/hive/warehouse/sales\", recurse=True)\n",
    "sales.write.format(\"delta\").saveAsTable(\"sales\")\n",
    "\n"
   ]
  },
  {
   "cell_type": "markdown",
   "metadata": {
    "application/vnd.databricks.v1+cell": {
     "cellMetadata": {
      "byteLimit": 2048000,
      "rowLimit": 10000
     },
     "inputWidgets": {},
     "nuid": "a57f8dec-9cf6-4dfc-a158-edae6f7494f0",
     "showTitle": false,
     "title": ""
    }
   },
   "source": [
    "##viewing employee table"
   ]
  },
  {
   "cell_type": "code",
   "execution_count": 0,
   "metadata": {
    "application/vnd.databricks.v1+cell": {
     "cellMetadata": {
      "byteLimit": 2048000,
      "implicitDf": true,
      "rowLimit": 10000
     },
     "inputWidgets": {},
     "nuid": "a0a6c1b9-e9d3-4639-b99f-4db4e516e5df",
     "showTitle": false,
     "title": ""
    }
   },
   "outputs": [
    {
     "output_type": "display_data",
     "data": {
      "text/html": [
       "<style scoped>\n",
       "  .table-result-container {\n",
       "    max-height: 300px;\n",
       "    overflow: auto;\n",
       "  }\n",
       "  table, th, td {\n",
       "    border: 1px solid black;\n",
       "    border-collapse: collapse;\n",
       "  }\n",
       "  th, td {\n",
       "    padding: 5px;\n",
       "  }\n",
       "  th {\n",
       "    text-align: left;\n",
       "  }\n",
       "</style><div class='table-result-container'><table class='table-result'><thead style='background-color: white'><tr><th>employee_id</th><th>employee_name</th><th>role</th><th>department</th></tr></thead><tbody><tr><td>1</td><td>Employee 1</td><td>Role 2</td><td>Department 3</td></tr><tr><td>2</td><td>Employee 2</td><td>Role 2</td><td>Department 1</td></tr><tr><td>3</td><td>Employee 3</td><td>Role 1</td><td>Department 2</td></tr><tr><td>4</td><td>Employee 4</td><td>Role 1</td><td>Department 2</td></tr><tr><td>5</td><td>Employee 5</td><td>Role 1</td><td>Department 3</td></tr><tr><td>6</td><td>Employee 6</td><td>Role 3</td><td>Department 1</td></tr><tr><td>7</td><td>Employee 7</td><td>Role 3</td><td>Department 1</td></tr><tr><td>8</td><td>Employee 8</td><td>Role 3</td><td>Department 2</td></tr><tr><td>9</td><td>Employee 9</td><td>Role 2</td><td>Department 2</td></tr><tr><td>10</td><td>Employee 10</td><td>Role 3</td><td>Department 2</td></tr></tbody></table></div>"
      ]
     },
     "metadata": {
      "application/vnd.databricks.v1+output": {
       "addedWidgets": {},
       "aggData": [],
       "aggError": "",
       "aggOverflow": false,
       "aggSchema": [],
       "aggSeriesLimitReached": false,
       "aggType": "",
       "arguments": {},
       "columnCustomDisplayInfos": {},
       "data": [
        [
         1,
         "Employee 1",
         "Role 2",
         "Department 3"
        ],
        [
         2,
         "Employee 2",
         "Role 2",
         "Department 1"
        ],
        [
         3,
         "Employee 3",
         "Role 1",
         "Department 2"
        ],
        [
         4,
         "Employee 4",
         "Role 1",
         "Department 2"
        ],
        [
         5,
         "Employee 5",
         "Role 1",
         "Department 3"
        ],
        [
         6,
         "Employee 6",
         "Role 3",
         "Department 1"
        ],
        [
         7,
         "Employee 7",
         "Role 3",
         "Department 1"
        ],
        [
         8,
         "Employee 8",
         "Role 3",
         "Department 2"
        ],
        [
         9,
         "Employee 9",
         "Role 2",
         "Department 2"
        ],
        [
         10,
         "Employee 10",
         "Role 3",
         "Department 2"
        ]
       ],
       "datasetInfos": [],
       "dbfsResultPath": null,
       "isJsonSchema": true,
       "metadata": {},
       "overflow": false,
       "plotOptions": {
        "customPlotOptions": {},
        "displayType": "table",
        "pivotAggregation": null,
        "pivotColumns": null,
        "xColumns": null,
        "yColumns": null
       },
       "removedWidgets": [],
       "schema": [
        {
         "metadata": "{}",
         "name": "employee_id",
         "type": "\"integer\""
        },
        {
         "metadata": "{}",
         "name": "employee_name",
         "type": "\"string\""
        },
        {
         "metadata": "{}",
         "name": "role",
         "type": "\"string\""
        },
        {
         "metadata": "{}",
         "name": "department",
         "type": "\"string\""
        }
       ],
       "type": "table"
      }
     },
     "output_type": "display_data"
    }
   ],
   "source": [
    "%sql\n",
    "select * from  employee"
   ]
  },
  {
   "cell_type": "markdown",
   "metadata": {
    "application/vnd.databricks.v1+cell": {
     "cellMetadata": {
      "byteLimit": 2048000,
      "rowLimit": 10000
     },
     "inputWidgets": {},
     "nuid": "f47e0e8a-142c-40fb-b6d0-8f5a200d7d45",
     "showTitle": false,
     "title": ""
    }
   },
   "source": [
    "##viewing sales table"
   ]
  },
  {
   "cell_type": "code",
   "execution_count": 0,
   "metadata": {
    "application/vnd.databricks.v1+cell": {
     "cellMetadata": {
      "byteLimit": 2048000,
      "implicitDf": true,
      "rowLimit": 10000
     },
     "inputWidgets": {},
     "nuid": "de779852-c2e3-460c-bf39-865819ddcad3",
     "showTitle": false,
     "title": ""
    }
   },
   "outputs": [
    {
     "output_type": "display_data",
     "data": {
      "text/html": [
       "<style scoped>\n",
       "  .table-result-container {\n",
       "    max-height: 300px;\n",
       "    overflow: auto;\n",
       "  }\n",
       "  table, th, td {\n",
       "    border: 1px solid black;\n",
       "    border-collapse: collapse;\n",
       "  }\n",
       "  th, td {\n",
       "    padding: 5px;\n",
       "  }\n",
       "  th {\n",
       "    text-align: left;\n",
       "  }\n",
       "</style><div class='table-result-container'><table class='table-result'><thead style='background-color: white'><tr><th>transaction_id</th><th>customer_id</th><th>product_id</th><th>transaction_date</th><th>amount_paid</th></tr></thead><tbody><tr><td>1</td><td>3</td><td>3</td><td>2023-05-01</td><td>613</td></tr><tr><td>2</td><td>19</td><td>9</td><td>2023-07-03</td><td>227</td></tr><tr><td>3</td><td>9</td><td>10</td><td>2023-10-25</td><td>891</td></tr><tr><td>4</td><td>4</td><td>3</td><td>2023-05-28</td><td>342</td></tr><tr><td>5</td><td>15</td><td>6</td><td>2023-04-18</td><td>91</td></tr><tr><td>6</td><td>14</td><td>9</td><td>2023-09-27</td><td>391</td></tr><tr><td>7</td><td>6</td><td>1</td><td>2023-12-16</td><td>654</td></tr><tr><td>8</td><td>13</td><td>2</td><td>2023-12-09</td><td>920</td></tr><tr><td>9</td><td>17</td><td>6</td><td>2023-07-07</td><td>151</td></tr><tr><td>10</td><td>19</td><td>5</td><td>2023-09-12</td><td>667</td></tr><tr><td>11</td><td>16</td><td>4</td><td>2023-04-07</td><td>273</td></tr><tr><td>12</td><td>19</td><td>6</td><td>2023-12-10</td><td>568</td></tr><tr><td>13</td><td>18</td><td>2</td><td>2023-11-28</td><td>748</td></tr><tr><td>14</td><td>16</td><td>8</td><td>2023-01-09</td><td>45</td></tr><tr><td>15</td><td>15</td><td>1</td><td>2023-02-07</td><td>612</td></tr><tr><td>16</td><td>10</td><td>8</td><td>2023-03-21</td><td>561</td></tr><tr><td>17</td><td>18</td><td>8</td><td>2023-07-04</td><td>818</td></tr><tr><td>18</td><td>13</td><td>10</td><td>2023-09-26</td><td>263</td></tr><tr><td>19</td><td>20</td><td>8</td><td>2023-06-05</td><td>221</td></tr><tr><td>20</td><td>4</td><td>6</td><td>2023-10-04</td><td>591</td></tr><tr><td>21</td><td>6</td><td>2</td><td>2023-06-09</td><td>912</td></tr><tr><td>22</td><td>9</td><td>4</td><td>2023-03-09</td><td>111</td></tr><tr><td>23</td><td>7</td><td>6</td><td>2023-09-08</td><td>263</td></tr><tr><td>24</td><td>18</td><td>2</td><td>2023-01-06</td><td>64</td></tr><tr><td>25</td><td>4</td><td>10</td><td>2023-05-23</td><td>748</td></tr><tr><td>26</td><td>17</td><td>8</td><td>2023-11-25</td><td>940</td></tr><tr><td>27</td><td>5</td><td>5</td><td>2023-05-25</td><td>407</td></tr><tr><td>28</td><td>1</td><td>5</td><td>2023-08-21</td><td>326</td></tr><tr><td>29</td><td>18</td><td>6</td><td>2023-03-05</td><td>325</td></tr><tr><td>30</td><td>15</td><td>6</td><td>2023-11-21</td><td>454</td></tr><tr><td>31</td><td>11</td><td>10</td><td>2023-04-23</td><td>57</td></tr><tr><td>32</td><td>15</td><td>7</td><td>2023-01-10</td><td>337</td></tr><tr><td>33</td><td>6</td><td>2</td><td>2023-06-01</td><td>119</td></tr><tr><td>34</td><td>7</td><td>10</td><td>2023-06-21</td><td>581</td></tr><tr><td>35</td><td>12</td><td>4</td><td>2023-12-18</td><td>170</td></tr><tr><td>36</td><td>13</td><td>7</td><td>2023-04-02</td><td>519</td></tr><tr><td>37</td><td>16</td><td>3</td><td>2023-09-20</td><td>149</td></tr><tr><td>38</td><td>19</td><td>10</td><td>2023-06-12</td><td>891</td></tr><tr><td>39</td><td>14</td><td>1</td><td>2023-08-07</td><td>250</td></tr><tr><td>40</td><td>3</td><td>4</td><td>2023-03-14</td><td>696</td></tr><tr><td>41</td><td>6</td><td>9</td><td>2023-06-26</td><td>111</td></tr><tr><td>42</td><td>11</td><td>4</td><td>2023-06-24</td><td>877</td></tr><tr><td>43</td><td>8</td><td>7</td><td>2023-11-25</td><td>88</td></tr><tr><td>44</td><td>17</td><td>8</td><td>2023-12-04</td><td>304</td></tr><tr><td>45</td><td>4</td><td>9</td><td>2023-04-05</td><td>879</td></tr><tr><td>46</td><td>10</td><td>7</td><td>2023-12-16</td><td>939</td></tr><tr><td>47</td><td>3</td><td>1</td><td>2023-12-06</td><td>676</td></tr><tr><td>48</td><td>5</td><td>2</td><td>2023-04-15</td><td>830</td></tr><tr><td>49</td><td>20</td><td>10</td><td>2023-12-16</td><td>41</td></tr><tr><td>50</td><td>13</td><td>10</td><td>2023-10-15</td><td>960</td></tr><tr><td>51</td><td>19</td><td>4</td><td>2023-10-24</td><td>535</td></tr><tr><td>52</td><td>6</td><td>5</td><td>2023-10-04</td><td>588</td></tr><tr><td>53</td><td>2</td><td>2</td><td>2023-05-21</td><td>161</td></tr><tr><td>54</td><td>8</td><td>6</td><td>2023-05-03</td><td>504</td></tr><tr><td>55</td><td>7</td><td>4</td><td>2023-06-13</td><td>243</td></tr><tr><td>56</td><td>11</td><td>5</td><td>2023-02-24</td><td>853</td></tr><tr><td>57</td><td>13</td><td>8</td><td>2023-10-27</td><td>288</td></tr><tr><td>58</td><td>5</td><td>5</td><td>2023-02-24</td><td>549</td></tr><tr><td>59</td><td>9</td><td>10</td><td>2023-08-09</td><td>323</td></tr><tr><td>60</td><td>10</td><td>1</td><td>2023-11-21</td><td>292</td></tr><tr><td>61</td><td>2</td><td>2</td><td>2023-07-22</td><td>832</td></tr><tr><td>62</td><td>2</td><td>8</td><td>2023-09-28</td><td>373</td></tr><tr><td>63</td><td>17</td><td>7</td><td>2023-12-14</td><td>529</td></tr><tr><td>64</td><td>5</td><td>7</td><td>2023-06-24</td><td>413</td></tr><tr><td>65</td><td>19</td><td>7</td><td>2023-12-08</td><td>734</td></tr><tr><td>66</td><td>2</td><td>4</td><td>2023-04-25</td><td>279</td></tr><tr><td>67</td><td>1</td><td>4</td><td>2023-10-13</td><td>769</td></tr><tr><td>68</td><td>4</td><td>3</td><td>2023-06-12</td><td>864</td></tr><tr><td>69</td><td>6</td><td>5</td><td>2023-11-02</td><td>222</td></tr><tr><td>70</td><td>17</td><td>3</td><td>2023-01-09</td><td>897</td></tr><tr><td>71</td><td>4</td><td>8</td><td>2023-05-23</td><td>352</td></tr><tr><td>72</td><td>4</td><td>8</td><td>2023-03-27</td><td>690</td></tr><tr><td>73</td><td>10</td><td>10</td><td>2023-01-14</td><td>695</td></tr><tr><td>74</td><td>20</td><td>9</td><td>2023-12-27</td><td>308</td></tr><tr><td>75</td><td>2</td><td>1</td><td>2023-03-10</td><td>25</td></tr><tr><td>76</td><td>1</td><td>8</td><td>2023-03-01</td><td>93</td></tr><tr><td>77</td><td>11</td><td>2</td><td>2023-09-13</td><td>77</td></tr><tr><td>78</td><td>11</td><td>5</td><td>2023-09-18</td><td>838</td></tr><tr><td>79</td><td>6</td><td>7</td><td>2023-08-23</td><td>437</td></tr><tr><td>80</td><td>12</td><td>7</td><td>2023-09-22</td><td>262</td></tr><tr><td>81</td><td>1</td><td>8</td><td>2023-06-14</td><td>115</td></tr><tr><td>82</td><td>8</td><td>7</td><td>2023-05-24</td><td>873</td></tr><tr><td>83</td><td>12</td><td>6</td><td>2023-06-17</td><td>168</td></tr><tr><td>84</td><td>18</td><td>1</td><td>2023-07-17</td><td>484</td></tr><tr><td>85</td><td>20</td><td>8</td><td>2023-05-19</td><td>568</td></tr><tr><td>86</td><td>5</td><td>6</td><td>2023-07-11</td><td>991</td></tr><tr><td>87</td><td>1</td><td>1</td><td>2023-04-07</td><td>25</td></tr><tr><td>88</td><td>18</td><td>6</td><td>2023-08-15</td><td>673</td></tr><tr><td>89</td><td>11</td><td>3</td><td>2023-11-25</td><td>512</td></tr><tr><td>90</td><td>16</td><td>5</td><td>2023-11-14</td><td>712</td></tr><tr><td>91</td><td>4</td><td>5</td><td>2023-06-11</td><td>113</td></tr><tr><td>92</td><td>2</td><td>3</td><td>2023-05-11</td><td>308</td></tr><tr><td>93</td><td>12</td><td>9</td><td>2023-11-07</td><td>472</td></tr><tr><td>94</td><td>18</td><td>1</td><td>2023-02-08</td><td>305</td></tr><tr><td>95</td><td>18</td><td>9</td><td>2023-12-18</td><td>260</td></tr><tr><td>96</td><td>15</td><td>2</td><td>2023-03-05</td><td>124</td></tr><tr><td>97</td><td>6</td><td>3</td><td>2023-06-20</td><td>974</td></tr><tr><td>98</td><td>6</td><td>1</td><td>2023-03-26</td><td>578</td></tr><tr><td>99</td><td>4</td><td>4</td><td>2023-12-09</td><td>265</td></tr><tr><td>100</td><td>15</td><td>2</td><td>2023-07-24</td><td>735</td></tr></tbody></table></div>"
      ]
     },
     "metadata": {
      "application/vnd.databricks.v1+output": {
       "addedWidgets": {},
       "aggData": [],
       "aggError": "",
       "aggOverflow": false,
       "aggSchema": [],
       "aggSeriesLimitReached": false,
       "aggType": "",
       "arguments": {},
       "columnCustomDisplayInfos": {},
       "data": [
        [
         1,
         3,
         3,
         "2023-05-01",
         613
        ],
        [
         2,
         19,
         9,
         "2023-07-03",
         227
        ],
        [
         3,
         9,
         10,
         "2023-10-25",
         891
        ],
        [
         4,
         4,
         3,
         "2023-05-28",
         342
        ],
        [
         5,
         15,
         6,
         "2023-04-18",
         91
        ],
        [
         6,
         14,
         9,
         "2023-09-27",
         391
        ],
        [
         7,
         6,
         1,
         "2023-12-16",
         654
        ],
        [
         8,
         13,
         2,
         "2023-12-09",
         920
        ],
        [
         9,
         17,
         6,
         "2023-07-07",
         151
        ],
        [
         10,
         19,
         5,
         "2023-09-12",
         667
        ],
        [
         11,
         16,
         4,
         "2023-04-07",
         273
        ],
        [
         12,
         19,
         6,
         "2023-12-10",
         568
        ],
        [
         13,
         18,
         2,
         "2023-11-28",
         748
        ],
        [
         14,
         16,
         8,
         "2023-01-09",
         45
        ],
        [
         15,
         15,
         1,
         "2023-02-07",
         612
        ],
        [
         16,
         10,
         8,
         "2023-03-21",
         561
        ],
        [
         17,
         18,
         8,
         "2023-07-04",
         818
        ],
        [
         18,
         13,
         10,
         "2023-09-26",
         263
        ],
        [
         19,
         20,
         8,
         "2023-06-05",
         221
        ],
        [
         20,
         4,
         6,
         "2023-10-04",
         591
        ],
        [
         21,
         6,
         2,
         "2023-06-09",
         912
        ],
        [
         22,
         9,
         4,
         "2023-03-09",
         111
        ],
        [
         23,
         7,
         6,
         "2023-09-08",
         263
        ],
        [
         24,
         18,
         2,
         "2023-01-06",
         64
        ],
        [
         25,
         4,
         10,
         "2023-05-23",
         748
        ],
        [
         26,
         17,
         8,
         "2023-11-25",
         940
        ],
        [
         27,
         5,
         5,
         "2023-05-25",
         407
        ],
        [
         28,
         1,
         5,
         "2023-08-21",
         326
        ],
        [
         29,
         18,
         6,
         "2023-03-05",
         325
        ],
        [
         30,
         15,
         6,
         "2023-11-21",
         454
        ],
        [
         31,
         11,
         10,
         "2023-04-23",
         57
        ],
        [
         32,
         15,
         7,
         "2023-01-10",
         337
        ],
        [
         33,
         6,
         2,
         "2023-06-01",
         119
        ],
        [
         34,
         7,
         10,
         "2023-06-21",
         581
        ],
        [
         35,
         12,
         4,
         "2023-12-18",
         170
        ],
        [
         36,
         13,
         7,
         "2023-04-02",
         519
        ],
        [
         37,
         16,
         3,
         "2023-09-20",
         149
        ],
        [
         38,
         19,
         10,
         "2023-06-12",
         891
        ],
        [
         39,
         14,
         1,
         "2023-08-07",
         250
        ],
        [
         40,
         3,
         4,
         "2023-03-14",
         696
        ],
        [
         41,
         6,
         9,
         "2023-06-26",
         111
        ],
        [
         42,
         11,
         4,
         "2023-06-24",
         877
        ],
        [
         43,
         8,
         7,
         "2023-11-25",
         88
        ],
        [
         44,
         17,
         8,
         "2023-12-04",
         304
        ],
        [
         45,
         4,
         9,
         "2023-04-05",
         879
        ],
        [
         46,
         10,
         7,
         "2023-12-16",
         939
        ],
        [
         47,
         3,
         1,
         "2023-12-06",
         676
        ],
        [
         48,
         5,
         2,
         "2023-04-15",
         830
        ],
        [
         49,
         20,
         10,
         "2023-12-16",
         41
        ],
        [
         50,
         13,
         10,
         "2023-10-15",
         960
        ],
        [
         51,
         19,
         4,
         "2023-10-24",
         535
        ],
        [
         52,
         6,
         5,
         "2023-10-04",
         588
        ],
        [
         53,
         2,
         2,
         "2023-05-21",
         161
        ],
        [
         54,
         8,
         6,
         "2023-05-03",
         504
        ],
        [
         55,
         7,
         4,
         "2023-06-13",
         243
        ],
        [
         56,
         11,
         5,
         "2023-02-24",
         853
        ],
        [
         57,
         13,
         8,
         "2023-10-27",
         288
        ],
        [
         58,
         5,
         5,
         "2023-02-24",
         549
        ],
        [
         59,
         9,
         10,
         "2023-08-09",
         323
        ],
        [
         60,
         10,
         1,
         "2023-11-21",
         292
        ],
        [
         61,
         2,
         2,
         "2023-07-22",
         832
        ],
        [
         62,
         2,
         8,
         "2023-09-28",
         373
        ],
        [
         63,
         17,
         7,
         "2023-12-14",
         529
        ],
        [
         64,
         5,
         7,
         "2023-06-24",
         413
        ],
        [
         65,
         19,
         7,
         "2023-12-08",
         734
        ],
        [
         66,
         2,
         4,
         "2023-04-25",
         279
        ],
        [
         67,
         1,
         4,
         "2023-10-13",
         769
        ],
        [
         68,
         4,
         3,
         "2023-06-12",
         864
        ],
        [
         69,
         6,
         5,
         "2023-11-02",
         222
        ],
        [
         70,
         17,
         3,
         "2023-01-09",
         897
        ],
        [
         71,
         4,
         8,
         "2023-05-23",
         352
        ],
        [
         72,
         4,
         8,
         "2023-03-27",
         690
        ],
        [
         73,
         10,
         10,
         "2023-01-14",
         695
        ],
        [
         74,
         20,
         9,
         "2023-12-27",
         308
        ],
        [
         75,
         2,
         1,
         "2023-03-10",
         25
        ],
        [
         76,
         1,
         8,
         "2023-03-01",
         93
        ],
        [
         77,
         11,
         2,
         "2023-09-13",
         77
        ],
        [
         78,
         11,
         5,
         "2023-09-18",
         838
        ],
        [
         79,
         6,
         7,
         "2023-08-23",
         437
        ],
        [
         80,
         12,
         7,
         "2023-09-22",
         262
        ],
        [
         81,
         1,
         8,
         "2023-06-14",
         115
        ],
        [
         82,
         8,
         7,
         "2023-05-24",
         873
        ],
        [
         83,
         12,
         6,
         "2023-06-17",
         168
        ],
        [
         84,
         18,
         1,
         "2023-07-17",
         484
        ],
        [
         85,
         20,
         8,
         "2023-05-19",
         568
        ],
        [
         86,
         5,
         6,
         "2023-07-11",
         991
        ],
        [
         87,
         1,
         1,
         "2023-04-07",
         25
        ],
        [
         88,
         18,
         6,
         "2023-08-15",
         673
        ],
        [
         89,
         11,
         3,
         "2023-11-25",
         512
        ],
        [
         90,
         16,
         5,
         "2023-11-14",
         712
        ],
        [
         91,
         4,
         5,
         "2023-06-11",
         113
        ],
        [
         92,
         2,
         3,
         "2023-05-11",
         308
        ],
        [
         93,
         12,
         9,
         "2023-11-07",
         472
        ],
        [
         94,
         18,
         1,
         "2023-02-08",
         305
        ],
        [
         95,
         18,
         9,
         "2023-12-18",
         260
        ],
        [
         96,
         15,
         2,
         "2023-03-05",
         124
        ],
        [
         97,
         6,
         3,
         "2023-06-20",
         974
        ],
        [
         98,
         6,
         1,
         "2023-03-26",
         578
        ],
        [
         99,
         4,
         4,
         "2023-12-09",
         265
        ],
        [
         100,
         15,
         2,
         "2023-07-24",
         735
        ]
       ],
       "datasetInfos": [],
       "dbfsResultPath": null,
       "isJsonSchema": true,
       "metadata": {},
       "overflow": false,
       "plotOptions": {
        "customPlotOptions": {},
        "displayType": "table",
        "pivotAggregation": null,
        "pivotColumns": null,
        "xColumns": null,
        "yColumns": null
       },
       "removedWidgets": [],
       "schema": [
        {
         "metadata": "{}",
         "name": "transaction_id",
         "type": "\"integer\""
        },
        {
         "metadata": "{}",
         "name": "customer_id",
         "type": "\"integer\""
        },
        {
         "metadata": "{}",
         "name": "product_id",
         "type": "\"integer\""
        },
        {
         "metadata": "{\"__detected_date_formats\":\"yyyy-M-d\"}",
         "name": "transaction_date",
         "type": "\"date\""
        },
        {
         "metadata": "{}",
         "name": "amount_paid",
         "type": "\"integer\""
        }
       ],
       "type": "table"
      }
     },
     "output_type": "display_data"
    }
   ],
   "source": [
    "%sql\n",
    "select * from sales"
   ]
  },
  {
   "cell_type": "markdown",
   "metadata": {
    "application/vnd.databricks.v1+cell": {
     "cellMetadata": {
      "byteLimit": 2048000,
      "rowLimit": 10000
     },
     "inputWidgets": {},
     "nuid": "3417bafc-2274-4b0d-b922-e0ca7e88500d",
     "showTitle": false,
     "title": ""
    }
   },
   "source": [
    "##viewing employee_sale table"
   ]
  },
  {
   "cell_type": "code",
   "execution_count": 0,
   "metadata": {
    "application/vnd.databricks.v1+cell": {
     "cellMetadata": {
      "byteLimit": 2048000,
      "implicitDf": true,
      "rowLimit": 10000
     },
     "inputWidgets": {},
     "nuid": "d1d64418-ff09-448d-8428-c1e5556d49b4",
     "showTitle": false,
     "title": ""
    }
   },
   "outputs": [
    {
     "output_type": "display_data",
     "data": {
      "text/html": [
       "<style scoped>\n",
       "  .table-result-container {\n",
       "    max-height: 300px;\n",
       "    overflow: auto;\n",
       "  }\n",
       "  table, th, td {\n",
       "    border: 1px solid black;\n",
       "    border-collapse: collapse;\n",
       "  }\n",
       "  th, td {\n",
       "    padding: 5px;\n",
       "  }\n",
       "  th {\n",
       "    text-align: left;\n",
       "  }\n",
       "</style><div class='table-result-container'><table class='table-result'><thead style='background-color: white'><tr><th>sale_id</th><th>employee_id</th><th>transaction_id</th><th>sale_date</th><th>amount</th></tr></thead><tbody><tr><td>1</td><td>10</td><td>33</td><td>2023-03-23</td><td>480</td></tr><tr><td>2</td><td>9</td><td>21</td><td>2023-11-28</td><td>705</td></tr><tr><td>3</td><td>7</td><td>4</td><td>2023-04-19</td><td>716</td></tr><tr><td>4</td><td>9</td><td>10</td><td>2023-11-05</td><td>242</td></tr><tr><td>5</td><td>9</td><td>69</td><td>2023-11-08</td><td>17</td></tr><tr><td>6</td><td>7</td><td>9</td><td>2023-06-19</td><td>362</td></tr><tr><td>7</td><td>7</td><td>93</td><td>2023-09-09</td><td>513</td></tr><tr><td>8</td><td>7</td><td>34</td><td>2023-08-25</td><td>107</td></tr><tr><td>9</td><td>1</td><td>86</td><td>2023-05-18</td><td>456</td></tr><tr><td>10</td><td>6</td><td>14</td><td>2023-12-26</td><td>367</td></tr><tr><td>11</td><td>10</td><td>53</td><td>2023-08-12</td><td>871</td></tr><tr><td>12</td><td>9</td><td>78</td><td>2023-06-05</td><td>35</td></tr><tr><td>13</td><td>8</td><td>90</td><td>2023-11-11</td><td>547</td></tr><tr><td>14</td><td>7</td><td>16</td><td>2023-05-21</td><td>820</td></tr><tr><td>15</td><td>5</td><td>26</td><td>2023-08-20</td><td>91</td></tr><tr><td>16</td><td>1</td><td>14</td><td>2023-09-06</td><td>359</td></tr><tr><td>17</td><td>10</td><td>72</td><td>2023-01-20</td><td>462</td></tr><tr><td>18</td><td>9</td><td>35</td><td>2023-01-12</td><td>987</td></tr><tr><td>19</td><td>4</td><td>26</td><td>2023-03-15</td><td>161</td></tr><tr><td>20</td><td>9</td><td>48</td><td>2023-07-16</td><td>644</td></tr><tr><td>21</td><td>10</td><td>91</td><td>2023-10-10</td><td>677</td></tr><tr><td>22</td><td>8</td><td>3</td><td>2023-12-10</td><td>440</td></tr><tr><td>23</td><td>7</td><td>45</td><td>2023-08-10</td><td>428</td></tr><tr><td>24</td><td>5</td><td>42</td><td>2023-01-17</td><td>319</td></tr><tr><td>25</td><td>2</td><td>50</td><td>2023-10-14</td><td>263</td></tr><tr><td>26</td><td>9</td><td>9</td><td>2023-07-09</td><td>627</td></tr><tr><td>27</td><td>5</td><td>75</td><td>2023-11-13</td><td>514</td></tr><tr><td>28</td><td>1</td><td>5</td><td>2023-01-03</td><td>748</td></tr><tr><td>29</td><td>1</td><td>48</td><td>2023-10-12</td><td>775</td></tr><tr><td>30</td><td>1</td><td>99</td><td>2023-08-13</td><td>97</td></tr><tr><td>31</td><td>9</td><td>31</td><td>2023-08-12</td><td>307</td></tr><tr><td>32</td><td>10</td><td>51</td><td>2023-11-27</td><td>249</td></tr><tr><td>33</td><td>9</td><td>88</td><td>2023-10-15</td><td>591</td></tr><tr><td>34</td><td>4</td><td>15</td><td>2023-04-25</td><td>404</td></tr><tr><td>35</td><td>10</td><td>76</td><td>2023-01-11</td><td>702</td></tr><tr><td>36</td><td>4</td><td>20</td><td>2023-12-20</td><td>794</td></tr><tr><td>37</td><td>6</td><td>64</td><td>2023-11-14</td><td>804</td></tr><tr><td>38</td><td>1</td><td>68</td><td>2023-04-19</td><td>467</td></tr><tr><td>39</td><td>8</td><td>38</td><td>2023-02-17</td><td>319</td></tr><tr><td>40</td><td>1</td><td>96</td><td>2023-10-07</td><td>953</td></tr><tr><td>41</td><td>5</td><td>55</td><td>2023-02-19</td><td>892</td></tr><tr><td>42</td><td>3</td><td>13</td><td>2023-06-25</td><td>506</td></tr><tr><td>43</td><td>9</td><td>82</td><td>2023-01-10</td><td>496</td></tr><tr><td>44</td><td>3</td><td>98</td><td>2023-02-24</td><td>855</td></tr><tr><td>45</td><td>5</td><td>98</td><td>2023-12-21</td><td>283</td></tr><tr><td>46</td><td>8</td><td>82</td><td>2023-02-19</td><td>22</td></tr><tr><td>47</td><td>9</td><td>33</td><td>2023-06-16</td><td>889</td></tr><tr><td>48</td><td>10</td><td>39</td><td>2023-11-18</td><td>346</td></tr><tr><td>49</td><td>10</td><td>68</td><td>2023-07-07</td><td>605</td></tr><tr><td>50</td><td>8</td><td>35</td><td>2023-07-08</td><td>728</td></tr><tr><td>51</td><td>9</td><td>7</td><td>2023-12-16</td><td>67</td></tr><tr><td>52</td><td>6</td><td>91</td><td>2023-08-22</td><td>179</td></tr><tr><td>53</td><td>6</td><td>92</td><td>2023-04-06</td><td>72</td></tr><tr><td>54</td><td>9</td><td>88</td><td>2023-08-04</td><td>994</td></tr><tr><td>55</td><td>3</td><td>57</td><td>2023-02-14</td><td>609</td></tr><tr><td>56</td><td>4</td><td>13</td><td>2023-02-08</td><td>616</td></tr><tr><td>57</td><td>9</td><td>7</td><td>2023-02-22</td><td>729</td></tr><tr><td>58</td><td>1</td><td>77</td><td>2023-06-02</td><td>575</td></tr><tr><td>59</td><td>6</td><td>75</td><td>2023-07-06</td><td>873</td></tr><tr><td>60</td><td>2</td><td>27</td><td>2023-01-26</td><td>566</td></tr><tr><td>61</td><td>1</td><td>15</td><td>2023-04-01</td><td>539</td></tr><tr><td>62</td><td>8</td><td>2</td><td>2023-07-28</td><td>757</td></tr><tr><td>63</td><td>5</td><td>28</td><td>2023-10-11</td><td>499</td></tr><tr><td>64</td><td>9</td><td>12</td><td>2023-05-08</td><td>820</td></tr><tr><td>65</td><td>2</td><td>45</td><td>2023-12-26</td><td>516</td></tr><tr><td>66</td><td>6</td><td>14</td><td>2023-12-02</td><td>758</td></tr><tr><td>67</td><td>6</td><td>85</td><td>2023-11-22</td><td>222</td></tr><tr><td>68</td><td>6</td><td>77</td><td>2023-07-08</td><td>844</td></tr><tr><td>69</td><td>1</td><td>37</td><td>2023-05-19</td><td>117</td></tr><tr><td>70</td><td>5</td><td>54</td><td>2023-04-13</td><td>564</td></tr><tr><td>71</td><td>10</td><td>81</td><td>2023-09-08</td><td>156</td></tr><tr><td>72</td><td>7</td><td>8</td><td>2023-10-25</td><td>667</td></tr><tr><td>73</td><td>9</td><td>64</td><td>2023-01-18</td><td>766</td></tr><tr><td>74</td><td>2</td><td>61</td><td>2023-07-15</td><td>189</td></tr><tr><td>75</td><td>1</td><td>16</td><td>2023-12-09</td><td>643</td></tr><tr><td>76</td><td>3</td><td>31</td><td>2023-01-05</td><td>71</td></tr><tr><td>77</td><td>7</td><td>65</td><td>2023-05-19</td><td>281</td></tr><tr><td>78</td><td>2</td><td>21</td><td>2023-09-08</td><td>290</td></tr><tr><td>79</td><td>10</td><td>9</td><td>2023-12-02</td><td>424</td></tr><tr><td>80</td><td>5</td><td>59</td><td>2023-10-25</td><td>912</td></tr><tr><td>81</td><td>9</td><td>95</td><td>2023-11-02</td><td>966</td></tr><tr><td>82</td><td>2</td><td>39</td><td>2023-07-01</td><td>37</td></tr><tr><td>83</td><td>3</td><td>61</td><td>2023-05-17</td><td>232</td></tr><tr><td>84</td><td>5</td><td>69</td><td>2023-08-05</td><td>149</td></tr><tr><td>85</td><td>2</td><td>40</td><td>2023-07-16</td><td>707</td></tr><tr><td>86</td><td>6</td><td>75</td><td>2023-06-11</td><td>674</td></tr><tr><td>87</td><td>3</td><td>45</td><td>2023-12-07</td><td>122</td></tr><tr><td>88</td><td>9</td><td>22</td><td>2023-03-01</td><td>977</td></tr><tr><td>89</td><td>4</td><td>81</td><td>2023-05-14</td><td>262</td></tr><tr><td>90</td><td>4</td><td>47</td><td>2023-01-02</td><td>777</td></tr><tr><td>91</td><td>2</td><td>83</td><td>2023-09-10</td><td>424</td></tr><tr><td>92</td><td>8</td><td>91</td><td>2023-02-11</td><td>458</td></tr><tr><td>93</td><td>6</td><td>25</td><td>2023-01-28</td><td>544</td></tr><tr><td>94</td><td>8</td><td>95</td><td>2023-09-20</td><td>129</td></tr><tr><td>95</td><td>6</td><td>31</td><td>2023-02-05</td><td>516</td></tr><tr><td>96</td><td>8</td><td>46</td><td>2023-03-09</td><td>664</td></tr><tr><td>97</td><td>4</td><td>36</td><td>2023-06-28</td><td>10</td></tr><tr><td>98</td><td>5</td><td>30</td><td>2023-07-20</td><td>949</td></tr><tr><td>99</td><td>10</td><td>20</td><td>2023-04-19</td><td>355</td></tr><tr><td>100</td><td>7</td><td>82</td><td>2023-12-14</td><td>287</td></tr></tbody></table></div>"
      ]
     },
     "metadata": {
      "application/vnd.databricks.v1+output": {
       "addedWidgets": {},
       "aggData": [],
       "aggError": "",
       "aggOverflow": false,
       "aggSchema": [],
       "aggSeriesLimitReached": false,
       "aggType": "",
       "arguments": {},
       "columnCustomDisplayInfos": {},
       "data": [
        [
         1,
         10,
         33,
         "2023-03-23",
         480
        ],
        [
         2,
         9,
         21,
         "2023-11-28",
         705
        ],
        [
         3,
         7,
         4,
         "2023-04-19",
         716
        ],
        [
         4,
         9,
         10,
         "2023-11-05",
         242
        ],
        [
         5,
         9,
         69,
         "2023-11-08",
         17
        ],
        [
         6,
         7,
         9,
         "2023-06-19",
         362
        ],
        [
         7,
         7,
         93,
         "2023-09-09",
         513
        ],
        [
         8,
         7,
         34,
         "2023-08-25",
         107
        ],
        [
         9,
         1,
         86,
         "2023-05-18",
         456
        ],
        [
         10,
         6,
         14,
         "2023-12-26",
         367
        ],
        [
         11,
         10,
         53,
         "2023-08-12",
         871
        ],
        [
         12,
         9,
         78,
         "2023-06-05",
         35
        ],
        [
         13,
         8,
         90,
         "2023-11-11",
         547
        ],
        [
         14,
         7,
         16,
         "2023-05-21",
         820
        ],
        [
         15,
         5,
         26,
         "2023-08-20",
         91
        ],
        [
         16,
         1,
         14,
         "2023-09-06",
         359
        ],
        [
         17,
         10,
         72,
         "2023-01-20",
         462
        ],
        [
         18,
         9,
         35,
         "2023-01-12",
         987
        ],
        [
         19,
         4,
         26,
         "2023-03-15",
         161
        ],
        [
         20,
         9,
         48,
         "2023-07-16",
         644
        ],
        [
         21,
         10,
         91,
         "2023-10-10",
         677
        ],
        [
         22,
         8,
         3,
         "2023-12-10",
         440
        ],
        [
         23,
         7,
         45,
         "2023-08-10",
         428
        ],
        [
         24,
         5,
         42,
         "2023-01-17",
         319
        ],
        [
         25,
         2,
         50,
         "2023-10-14",
         263
        ],
        [
         26,
         9,
         9,
         "2023-07-09",
         627
        ],
        [
         27,
         5,
         75,
         "2023-11-13",
         514
        ],
        [
         28,
         1,
         5,
         "2023-01-03",
         748
        ],
        [
         29,
         1,
         48,
         "2023-10-12",
         775
        ],
        [
         30,
         1,
         99,
         "2023-08-13",
         97
        ],
        [
         31,
         9,
         31,
         "2023-08-12",
         307
        ],
        [
         32,
         10,
         51,
         "2023-11-27",
         249
        ],
        [
         33,
         9,
         88,
         "2023-10-15",
         591
        ],
        [
         34,
         4,
         15,
         "2023-04-25",
         404
        ],
        [
         35,
         10,
         76,
         "2023-01-11",
         702
        ],
        [
         36,
         4,
         20,
         "2023-12-20",
         794
        ],
        [
         37,
         6,
         64,
         "2023-11-14",
         804
        ],
        [
         38,
         1,
         68,
         "2023-04-19",
         467
        ],
        [
         39,
         8,
         38,
         "2023-02-17",
         319
        ],
        [
         40,
         1,
         96,
         "2023-10-07",
         953
        ],
        [
         41,
         5,
         55,
         "2023-02-19",
         892
        ],
        [
         42,
         3,
         13,
         "2023-06-25",
         506
        ],
        [
         43,
         9,
         82,
         "2023-01-10",
         496
        ],
        [
         44,
         3,
         98,
         "2023-02-24",
         855
        ],
        [
         45,
         5,
         98,
         "2023-12-21",
         283
        ],
        [
         46,
         8,
         82,
         "2023-02-19",
         22
        ],
        [
         47,
         9,
         33,
         "2023-06-16",
         889
        ],
        [
         48,
         10,
         39,
         "2023-11-18",
         346
        ],
        [
         49,
         10,
         68,
         "2023-07-07",
         605
        ],
        [
         50,
         8,
         35,
         "2023-07-08",
         728
        ],
        [
         51,
         9,
         7,
         "2023-12-16",
         67
        ],
        [
         52,
         6,
         91,
         "2023-08-22",
         179
        ],
        [
         53,
         6,
         92,
         "2023-04-06",
         72
        ],
        [
         54,
         9,
         88,
         "2023-08-04",
         994
        ],
        [
         55,
         3,
         57,
         "2023-02-14",
         609
        ],
        [
         56,
         4,
         13,
         "2023-02-08",
         616
        ],
        [
         57,
         9,
         7,
         "2023-02-22",
         729
        ],
        [
         58,
         1,
         77,
         "2023-06-02",
         575
        ],
        [
         59,
         6,
         75,
         "2023-07-06",
         873
        ],
        [
         60,
         2,
         27,
         "2023-01-26",
         566
        ],
        [
         61,
         1,
         15,
         "2023-04-01",
         539
        ],
        [
         62,
         8,
         2,
         "2023-07-28",
         757
        ],
        [
         63,
         5,
         28,
         "2023-10-11",
         499
        ],
        [
         64,
         9,
         12,
         "2023-05-08",
         820
        ],
        [
         65,
         2,
         45,
         "2023-12-26",
         516
        ],
        [
         66,
         6,
         14,
         "2023-12-02",
         758
        ],
        [
         67,
         6,
         85,
         "2023-11-22",
         222
        ],
        [
         68,
         6,
         77,
         "2023-07-08",
         844
        ],
        [
         69,
         1,
         37,
         "2023-05-19",
         117
        ],
        [
         70,
         5,
         54,
         "2023-04-13",
         564
        ],
        [
         71,
         10,
         81,
         "2023-09-08",
         156
        ],
        [
         72,
         7,
         8,
         "2023-10-25",
         667
        ],
        [
         73,
         9,
         64,
         "2023-01-18",
         766
        ],
        [
         74,
         2,
         61,
         "2023-07-15",
         189
        ],
        [
         75,
         1,
         16,
         "2023-12-09",
         643
        ],
        [
         76,
         3,
         31,
         "2023-01-05",
         71
        ],
        [
         77,
         7,
         65,
         "2023-05-19",
         281
        ],
        [
         78,
         2,
         21,
         "2023-09-08",
         290
        ],
        [
         79,
         10,
         9,
         "2023-12-02",
         424
        ],
        [
         80,
         5,
         59,
         "2023-10-25",
         912
        ],
        [
         81,
         9,
         95,
         "2023-11-02",
         966
        ],
        [
         82,
         2,
         39,
         "2023-07-01",
         37
        ],
        [
         83,
         3,
         61,
         "2023-05-17",
         232
        ],
        [
         84,
         5,
         69,
         "2023-08-05",
         149
        ],
        [
         85,
         2,
         40,
         "2023-07-16",
         707
        ],
        [
         86,
         6,
         75,
         "2023-06-11",
         674
        ],
        [
         87,
         3,
         45,
         "2023-12-07",
         122
        ],
        [
         88,
         9,
         22,
         "2023-03-01",
         977
        ],
        [
         89,
         4,
         81,
         "2023-05-14",
         262
        ],
        [
         90,
         4,
         47,
         "2023-01-02",
         777
        ],
        [
         91,
         2,
         83,
         "2023-09-10",
         424
        ],
        [
         92,
         8,
         91,
         "2023-02-11",
         458
        ],
        [
         93,
         6,
         25,
         "2023-01-28",
         544
        ],
        [
         94,
         8,
         95,
         "2023-09-20",
         129
        ],
        [
         95,
         6,
         31,
         "2023-02-05",
         516
        ],
        [
         96,
         8,
         46,
         "2023-03-09",
         664
        ],
        [
         97,
         4,
         36,
         "2023-06-28",
         10
        ],
        [
         98,
         5,
         30,
         "2023-07-20",
         949
        ],
        [
         99,
         10,
         20,
         "2023-04-19",
         355
        ],
        [
         100,
         7,
         82,
         "2023-12-14",
         287
        ]
       ],
       "datasetInfos": [],
       "dbfsResultPath": null,
       "isJsonSchema": true,
       "metadata": {},
       "overflow": false,
       "plotOptions": {
        "customPlotOptions": {},
        "displayType": "table",
        "pivotAggregation": null,
        "pivotColumns": null,
        "xColumns": null,
        "yColumns": null
       },
       "removedWidgets": [],
       "schema": [
        {
         "metadata": "{}",
         "name": "sale_id",
         "type": "\"integer\""
        },
        {
         "metadata": "{}",
         "name": "employee_id",
         "type": "\"integer\""
        },
        {
         "metadata": "{}",
         "name": "transaction_id",
         "type": "\"integer\""
        },
        {
         "metadata": "{\"__detected_date_formats\":\"yyyy-M-d\"}",
         "name": "sale_date",
         "type": "\"date\""
        },
        {
         "metadata": "{}",
         "name": "amount",
         "type": "\"integer\""
        }
       ],
       "type": "table"
      }
     },
     "output_type": "display_data"
    }
   ],
   "source": [
    "%sql\n",
    "select * from employee_sale"
   ]
  },
  {
   "cell_type": "markdown",
   "metadata": {
    "application/vnd.databricks.v1+cell": {
     "cellMetadata": {
      "byteLimit": 2048000,
      "rowLimit": 10000
     },
     "inputWidgets": {},
     "nuid": "0d6b2d88-baef-4371-8ad8-727ff486c848",
     "showTitle": false,
     "title": ""
    }
   },
   "source": [
    "##viewing customers table"
   ]
  },
  {
   "cell_type": "code",
   "execution_count": 0,
   "metadata": {
    "application/vnd.databricks.v1+cell": {
     "cellMetadata": {
      "byteLimit": 2048000,
      "implicitDf": true,
      "rowLimit": 10000
     },
     "inputWidgets": {},
     "nuid": "796459db-d494-4b1a-af7e-983a4900098a",
     "showTitle": false,
     "title": ""
    }
   },
   "outputs": [
    {
     "output_type": "display_data",
     "data": {
      "text/html": [
       "<style scoped>\n",
       "  .table-result-container {\n",
       "    max-height: 300px;\n",
       "    overflow: auto;\n",
       "  }\n",
       "  table, th, td {\n",
       "    border: 1px solid black;\n",
       "    border-collapse: collapse;\n",
       "  }\n",
       "  th, td {\n",
       "    padding: 5px;\n",
       "  }\n",
       "  th {\n",
       "    text-align: left;\n",
       "  }\n",
       "</style><div class='table-result-container'><table class='table-result'><thead style='background-color: white'><tr><th>customer_id</th><th>name</th><th>email</th><th>phone</th></tr></thead><tbody><tr><td>1</td><td>Customer 1</td><td>customer1@example.com</td><td>123-456-0001</td></tr><tr><td>2</td><td>Customer 2</td><td>customer2@example.com</td><td>123-456-0002</td></tr><tr><td>3</td><td>Customer 3</td><td>customer3@example.com</td><td>123-456-0003</td></tr><tr><td>4</td><td>Customer 4</td><td>customer4@example.com</td><td>123-456-0004</td></tr><tr><td>5</td><td>Customer 5</td><td>customer5@example.com</td><td>123-456-0005</td></tr><tr><td>6</td><td>Customer 6</td><td>customer6@example.com</td><td>123-456-0006</td></tr><tr><td>7</td><td>Customer 7</td><td>customer7@example.com</td><td>123-456-0007</td></tr><tr><td>8</td><td>Customer 8</td><td>customer8@example.com</td><td>123-456-0008</td></tr><tr><td>9</td><td>Customer 9</td><td>customer9@example.com</td><td>123-456-0009</td></tr><tr><td>10</td><td>Customer 10</td><td>customer10@example.com</td><td>123-456-0010</td></tr><tr><td>11</td><td>Customer 11</td><td>customer11@example.com</td><td>123-456-0011</td></tr><tr><td>12</td><td>Customer 12</td><td>customer12@example.com</td><td>123-456-0012</td></tr><tr><td>13</td><td>Customer 13</td><td>customer13@example.com</td><td>123-456-0013</td></tr><tr><td>14</td><td>Customer 14</td><td>customer14@example.com</td><td>123-456-0014</td></tr><tr><td>15</td><td>Customer 15</td><td>customer15@example.com</td><td>123-456-0015</td></tr><tr><td>16</td><td>Customer 16</td><td>customer16@example.com</td><td>123-456-0016</td></tr><tr><td>17</td><td>Customer 17</td><td>customer17@example.com</td><td>123-456-0017</td></tr><tr><td>18</td><td>Customer 18</td><td>customer18@example.com</td><td>123-456-0018</td></tr><tr><td>19</td><td>Customer 19</td><td>customer19@example.com</td><td>123-456-0019</td></tr><tr><td>20</td><td>Customer 20</td><td>customer20@example.com</td><td>123-456-0020</td></tr></tbody></table></div>"
      ]
     },
     "metadata": {
      "application/vnd.databricks.v1+output": {
       "addedWidgets": {},
       "aggData": [],
       "aggError": "",
       "aggOverflow": false,
       "aggSchema": [],
       "aggSeriesLimitReached": false,
       "aggType": "",
       "arguments": {},
       "columnCustomDisplayInfos": {},
       "data": [
        [
         1,
         "Customer 1",
         "customer1@example.com",
         "123-456-0001"
        ],
        [
         2,
         "Customer 2",
         "customer2@example.com",
         "123-456-0002"
        ],
        [
         3,
         "Customer 3",
         "customer3@example.com",
         "123-456-0003"
        ],
        [
         4,
         "Customer 4",
         "customer4@example.com",
         "123-456-0004"
        ],
        [
         5,
         "Customer 5",
         "customer5@example.com",
         "123-456-0005"
        ],
        [
         6,
         "Customer 6",
         "customer6@example.com",
         "123-456-0006"
        ],
        [
         7,
         "Customer 7",
         "customer7@example.com",
         "123-456-0007"
        ],
        [
         8,
         "Customer 8",
         "customer8@example.com",
         "123-456-0008"
        ],
        [
         9,
         "Customer 9",
         "customer9@example.com",
         "123-456-0009"
        ],
        [
         10,
         "Customer 10",
         "customer10@example.com",
         "123-456-0010"
        ],
        [
         11,
         "Customer 11",
         "customer11@example.com",
         "123-456-0011"
        ],
        [
         12,
         "Customer 12",
         "customer12@example.com",
         "123-456-0012"
        ],
        [
         13,
         "Customer 13",
         "customer13@example.com",
         "123-456-0013"
        ],
        [
         14,
         "Customer 14",
         "customer14@example.com",
         "123-456-0014"
        ],
        [
         15,
         "Customer 15",
         "customer15@example.com",
         "123-456-0015"
        ],
        [
         16,
         "Customer 16",
         "customer16@example.com",
         "123-456-0016"
        ],
        [
         17,
         "Customer 17",
         "customer17@example.com",
         "123-456-0017"
        ],
        [
         18,
         "Customer 18",
         "customer18@example.com",
         "123-456-0018"
        ],
        [
         19,
         "Customer 19",
         "customer19@example.com",
         "123-456-0019"
        ],
        [
         20,
         "Customer 20",
         "customer20@example.com",
         "123-456-0020"
        ]
       ],
       "datasetInfos": [],
       "dbfsResultPath": null,
       "isJsonSchema": true,
       "metadata": {},
       "overflow": false,
       "plotOptions": {
        "customPlotOptions": {},
        "displayType": "table",
        "pivotAggregation": null,
        "pivotColumns": null,
        "xColumns": null,
        "yColumns": null
       },
       "removedWidgets": [],
       "schema": [
        {
         "metadata": "{}",
         "name": "customer_id",
         "type": "\"integer\""
        },
        {
         "metadata": "{}",
         "name": "name",
         "type": "\"string\""
        },
        {
         "metadata": "{}",
         "name": "email",
         "type": "\"string\""
        },
        {
         "metadata": "{}",
         "name": "phone",
         "type": "\"string\""
        }
       ],
       "type": "table"
      }
     },
     "output_type": "display_data"
    }
   ],
   "source": [
    "%sql\n",
    "select * from customers"
   ]
  },
  {
   "cell_type": "markdown",
   "metadata": {
    "application/vnd.databricks.v1+cell": {
     "cellMetadata": {
      "byteLimit": 2048000,
      "rowLimit": 10000
     },
     "inputWidgets": {},
     "nuid": "854728a9-d7f7-4920-95d9-6501b4baead0",
     "showTitle": false,
     "title": ""
    }
   },
   "source": [
    "##viewing products table"
   ]
  },
  {
   "cell_type": "code",
   "execution_count": 0,
   "metadata": {
    "application/vnd.databricks.v1+cell": {
     "cellMetadata": {
      "byteLimit": 2048000,
      "implicitDf": true,
      "rowLimit": 10000
     },
     "inputWidgets": {},
     "nuid": "e69f9162-8d28-4c26-bce8-473570ae9f4e",
     "showTitle": false,
     "title": ""
    }
   },
   "outputs": [
    {
     "output_type": "display_data",
     "data": {
      "text/html": [
       "<style scoped>\n",
       "  .table-result-container {\n",
       "    max-height: 300px;\n",
       "    overflow: auto;\n",
       "  }\n",
       "  table, th, td {\n",
       "    border: 1px solid black;\n",
       "    border-collapse: collapse;\n",
       "  }\n",
       "  th, td {\n",
       "    padding: 5px;\n",
       "  }\n",
       "  th {\n",
       "    text-align: left;\n",
       "  }\n",
       "</style><div class='table-result-container'><table class='table-result'><thead style='background-color: white'><tr><th>product_id</th><th>product_name</th><th>category</th><th>price</th><th>stock_quantity</th></tr></thead><tbody><tr><td>1</td><td>Product 1</td><td>Category 1</td><td>232</td><td>37</td></tr><tr><td>2</td><td>Product 2</td><td>Category 1</td><td>185</td><td>74</td></tr><tr><td>3</td><td>Product 3</td><td>Category 3</td><td>171</td><td>72</td></tr><tr><td>4</td><td>Product 4</td><td>Category 3</td><td>154</td><td>43</td></tr><tr><td>5</td><td>Product 5</td><td>Category 2</td><td>207</td><td>96</td></tr><tr><td>6</td><td>Product 6</td><td>Category 3</td><td>496</td><td>37</td></tr><tr><td>7</td><td>Product 7</td><td>Category 1</td><td>166</td><td>23</td></tr><tr><td>8</td><td>Product 8</td><td>Category 1</td><td>205</td><td>81</td></tr><tr><td>9</td><td>Product 9</td><td>Category 3</td><td>303</td><td>13</td></tr><tr><td>10</td><td>Product 10</td><td>Category 1</td><td>447</td><td>95</td></tr></tbody></table></div>"
      ]
     },
     "metadata": {
      "application/vnd.databricks.v1+output": {
       "addedWidgets": {},
       "aggData": [],
       "aggError": "",
       "aggOverflow": false,
       "aggSchema": [],
       "aggSeriesLimitReached": false,
       "aggType": "",
       "arguments": {},
       "columnCustomDisplayInfos": {},
       "data": [
        [
         1,
         "Product 1",
         "Category 1",
         232,
         37
        ],
        [
         2,
         "Product 2",
         "Category 1",
         185,
         74
        ],
        [
         3,
         "Product 3",
         "Category 3",
         171,
         72
        ],
        [
         4,
         "Product 4",
         "Category 3",
         154,
         43
        ],
        [
         5,
         "Product 5",
         "Category 2",
         207,
         96
        ],
        [
         6,
         "Product 6",
         "Category 3",
         496,
         37
        ],
        [
         7,
         "Product 7",
         "Category 1",
         166,
         23
        ],
        [
         8,
         "Product 8",
         "Category 1",
         205,
         81
        ],
        [
         9,
         "Product 9",
         "Category 3",
         303,
         13
        ],
        [
         10,
         "Product 10",
         "Category 1",
         447,
         95
        ]
       ],
       "datasetInfos": [],
       "dbfsResultPath": null,
       "isJsonSchema": true,
       "metadata": {},
       "overflow": false,
       "plotOptions": {
        "customPlotOptions": {},
        "displayType": "table",
        "pivotAggregation": null,
        "pivotColumns": null,
        "xColumns": null,
        "yColumns": null
       },
       "removedWidgets": [],
       "schema": [
        {
         "metadata": "{}",
         "name": "product_id",
         "type": "\"integer\""
        },
        {
         "metadata": "{}",
         "name": "product_name",
         "type": "\"string\""
        },
        {
         "metadata": "{}",
         "name": "category",
         "type": "\"string\""
        },
        {
         "metadata": "{}",
         "name": "price",
         "type": "\"integer\""
        },
        {
         "metadata": "{}",
         "name": "stock_quantity",
         "type": "\"integer\""
        }
       ],
       "type": "table"
      }
     },
     "output_type": "display_data"
    }
   ],
   "source": [
    "%sql\n",
    "select * from products"
   ]
  },
  {
   "cell_type": "markdown",
   "metadata": {
    "application/vnd.databricks.v1+cell": {
     "cellMetadata": {
      "byteLimit": 2048000,
      "rowLimit": 10000
     },
     "inputWidgets": {},
     "nuid": "32b96380-7a44-4cf7-ab02-915ae1a26b43",
     "showTitle": false,
     "title": ""
    }
   },
   "source": [
    "\n",
    "####2.\tMerge customer information with sales transactions by identifying the required joining keys."
   ]
  },
  {
   "cell_type": "code",
   "execution_count": 0,
   "metadata": {
    "application/vnd.databricks.v1+cell": {
     "cellMetadata": {
      "byteLimit": 2048000,
      "implicitDf": true,
      "rowLimit": 10000
     },
     "inputWidgets": {},
     "nuid": "baed2087-9ec0-4b3f-89d8-900e6535aa8d",
     "showTitle": false,
     "title": ""
    }
   },
   "outputs": [
    {
     "output_type": "display_data",
     "data": {
      "text/html": [
       "<style scoped>\n",
       "  .table-result-container {\n",
       "    max-height: 300px;\n",
       "    overflow: auto;\n",
       "  }\n",
       "  table, th, td {\n",
       "    border: 1px solid black;\n",
       "    border-collapse: collapse;\n",
       "  }\n",
       "  th, td {\n",
       "    padding: 5px;\n",
       "  }\n",
       "  th {\n",
       "    text-align: left;\n",
       "  }\n",
       "</style><div class='table-result-container'><table class='table-result'><thead style='background-color: white'><tr><th>num_affected_rows</th><th>num_inserted_rows</th></tr></thead><tbody></tbody></table></div>"
      ]
     },
     "metadata": {
      "application/vnd.databricks.v1+output": {
       "addedWidgets": {},
       "aggData": [],
       "aggError": "",
       "aggOverflow": false,
       "aggSchema": [],
       "aggSeriesLimitReached": false,
       "aggType": "",
       "arguments": {},
       "columnCustomDisplayInfos": {},
       "data": [],
       "datasetInfos": [],
       "dbfsResultPath": null,
       "isJsonSchema": true,
       "metadata": {},
       "overflow": false,
       "plotOptions": {
        "customPlotOptions": {},
        "displayType": "table",
        "pivotAggregation": null,
        "pivotColumns": null,
        "xColumns": null,
        "yColumns": null
       },
       "removedWidgets": [],
       "schema": [
        {
         "metadata": "{}",
         "name": "num_affected_rows",
         "type": "\"long\""
        },
        {
         "metadata": "{}",
         "name": "num_inserted_rows",
         "type": "\"long\""
        }
       ],
       "type": "table"
      }
     },
     "output_type": "display_data"
    }
   ],
   "source": [
    "%sql\n",
    " create or replace table customer_sales as (select c.*,s.transaction_id,s.product_id,s.transaction_date,s.amount_paid from sales s inner join customers c on s.customer_id = c.customer_id)  "
   ]
  },
  {
   "cell_type": "code",
   "execution_count": 0,
   "metadata": {
    "application/vnd.databricks.v1+cell": {
     "cellMetadata": {
      "byteLimit": 2048000,
      "implicitDf": true,
      "rowLimit": 10000
     },
     "inputWidgets": {},
     "nuid": "34f9dedc-7a45-442a-8e8a-90bac953d45e",
     "showTitle": false,
     "title": ""
    }
   },
   "outputs": [
    {
     "output_type": "display_data",
     "data": {
      "text/html": [
       "<style scoped>\n",
       "  .table-result-container {\n",
       "    max-height: 300px;\n",
       "    overflow: auto;\n",
       "  }\n",
       "  table, th, td {\n",
       "    border: 1px solid black;\n",
       "    border-collapse: collapse;\n",
       "  }\n",
       "  th, td {\n",
       "    padding: 5px;\n",
       "  }\n",
       "  th {\n",
       "    text-align: left;\n",
       "  }\n",
       "</style><div class='table-result-container'><table class='table-result'><thead style='background-color: white'><tr><th>customer_id</th><th>name</th><th>email</th><th>phone</th><th>transaction_id</th><th>product_id</th><th>transaction_date</th><th>amount_paid</th></tr></thead><tbody><tr><td>1</td><td>Customer 1</td><td>customer1@example.com</td><td>123-456-0001</td><td>28</td><td>5</td><td>2023-08-21</td><td>326</td></tr><tr><td>1</td><td>Customer 1</td><td>customer1@example.com</td><td>123-456-0001</td><td>67</td><td>4</td><td>2023-10-13</td><td>769</td></tr><tr><td>1</td><td>Customer 1</td><td>customer1@example.com</td><td>123-456-0001</td><td>76</td><td>8</td><td>2023-03-01</td><td>93</td></tr><tr><td>1</td><td>Customer 1</td><td>customer1@example.com</td><td>123-456-0001</td><td>81</td><td>8</td><td>2023-06-14</td><td>115</td></tr><tr><td>1</td><td>Customer 1</td><td>customer1@example.com</td><td>123-456-0001</td><td>87</td><td>1</td><td>2023-04-07</td><td>25</td></tr><tr><td>2</td><td>Customer 2</td><td>customer2@example.com</td><td>123-456-0002</td><td>53</td><td>2</td><td>2023-05-21</td><td>161</td></tr><tr><td>2</td><td>Customer 2</td><td>customer2@example.com</td><td>123-456-0002</td><td>61</td><td>2</td><td>2023-07-22</td><td>832</td></tr><tr><td>2</td><td>Customer 2</td><td>customer2@example.com</td><td>123-456-0002</td><td>62</td><td>8</td><td>2023-09-28</td><td>373</td></tr><tr><td>2</td><td>Customer 2</td><td>customer2@example.com</td><td>123-456-0002</td><td>66</td><td>4</td><td>2023-04-25</td><td>279</td></tr><tr><td>2</td><td>Customer 2</td><td>customer2@example.com</td><td>123-456-0002</td><td>75</td><td>1</td><td>2023-03-10</td><td>25</td></tr><tr><td>2</td><td>Customer 2</td><td>customer2@example.com</td><td>123-456-0002</td><td>92</td><td>3</td><td>2023-05-11</td><td>308</td></tr><tr><td>3</td><td>Customer 3</td><td>customer3@example.com</td><td>123-456-0003</td><td>1</td><td>3</td><td>2023-05-01</td><td>613</td></tr><tr><td>3</td><td>Customer 3</td><td>customer3@example.com</td><td>123-456-0003</td><td>40</td><td>4</td><td>2023-03-14</td><td>696</td></tr><tr><td>3</td><td>Customer 3</td><td>customer3@example.com</td><td>123-456-0003</td><td>47</td><td>1</td><td>2023-12-06</td><td>676</td></tr><tr><td>4</td><td>Customer 4</td><td>customer4@example.com</td><td>123-456-0004</td><td>4</td><td>3</td><td>2023-05-28</td><td>342</td></tr><tr><td>4</td><td>Customer 4</td><td>customer4@example.com</td><td>123-456-0004</td><td>20</td><td>6</td><td>2023-10-04</td><td>591</td></tr><tr><td>4</td><td>Customer 4</td><td>customer4@example.com</td><td>123-456-0004</td><td>25</td><td>10</td><td>2023-05-23</td><td>748</td></tr><tr><td>4</td><td>Customer 4</td><td>customer4@example.com</td><td>123-456-0004</td><td>45</td><td>9</td><td>2023-04-05</td><td>879</td></tr><tr><td>4</td><td>Customer 4</td><td>customer4@example.com</td><td>123-456-0004</td><td>68</td><td>3</td><td>2023-06-12</td><td>864</td></tr><tr><td>4</td><td>Customer 4</td><td>customer4@example.com</td><td>123-456-0004</td><td>71</td><td>8</td><td>2023-05-23</td><td>352</td></tr><tr><td>4</td><td>Customer 4</td><td>customer4@example.com</td><td>123-456-0004</td><td>72</td><td>8</td><td>2023-03-27</td><td>690</td></tr><tr><td>4</td><td>Customer 4</td><td>customer4@example.com</td><td>123-456-0004</td><td>91</td><td>5</td><td>2023-06-11</td><td>113</td></tr><tr><td>4</td><td>Customer 4</td><td>customer4@example.com</td><td>123-456-0004</td><td>99</td><td>4</td><td>2023-12-09</td><td>265</td></tr><tr><td>5</td><td>Customer 5</td><td>customer5@example.com</td><td>123-456-0005</td><td>27</td><td>5</td><td>2023-05-25</td><td>407</td></tr><tr><td>5</td><td>Customer 5</td><td>customer5@example.com</td><td>123-456-0005</td><td>48</td><td>2</td><td>2023-04-15</td><td>830</td></tr><tr><td>5</td><td>Customer 5</td><td>customer5@example.com</td><td>123-456-0005</td><td>58</td><td>5</td><td>2023-02-24</td><td>549</td></tr><tr><td>5</td><td>Customer 5</td><td>customer5@example.com</td><td>123-456-0005</td><td>64</td><td>7</td><td>2023-06-24</td><td>413</td></tr><tr><td>5</td><td>Customer 5</td><td>customer5@example.com</td><td>123-456-0005</td><td>86</td><td>6</td><td>2023-07-11</td><td>991</td></tr><tr><td>6</td><td>Customer 6</td><td>customer6@example.com</td><td>123-456-0006</td><td>7</td><td>1</td><td>2023-12-16</td><td>654</td></tr><tr><td>6</td><td>Customer 6</td><td>customer6@example.com</td><td>123-456-0006</td><td>21</td><td>2</td><td>2023-06-09</td><td>912</td></tr><tr><td>6</td><td>Customer 6</td><td>customer6@example.com</td><td>123-456-0006</td><td>33</td><td>2</td><td>2023-06-01</td><td>119</td></tr><tr><td>6</td><td>Customer 6</td><td>customer6@example.com</td><td>123-456-0006</td><td>41</td><td>9</td><td>2023-06-26</td><td>111</td></tr><tr><td>6</td><td>Customer 6</td><td>customer6@example.com</td><td>123-456-0006</td><td>52</td><td>5</td><td>2023-10-04</td><td>588</td></tr><tr><td>6</td><td>Customer 6</td><td>customer6@example.com</td><td>123-456-0006</td><td>69</td><td>5</td><td>2023-11-02</td><td>222</td></tr><tr><td>6</td><td>Customer 6</td><td>customer6@example.com</td><td>123-456-0006</td><td>79</td><td>7</td><td>2023-08-23</td><td>437</td></tr><tr><td>6</td><td>Customer 6</td><td>customer6@example.com</td><td>123-456-0006</td><td>97</td><td>3</td><td>2023-06-20</td><td>974</td></tr><tr><td>6</td><td>Customer 6</td><td>customer6@example.com</td><td>123-456-0006</td><td>98</td><td>1</td><td>2023-03-26</td><td>578</td></tr><tr><td>7</td><td>Customer 7</td><td>customer7@example.com</td><td>123-456-0007</td><td>23</td><td>6</td><td>2023-09-08</td><td>263</td></tr><tr><td>7</td><td>Customer 7</td><td>customer7@example.com</td><td>123-456-0007</td><td>34</td><td>10</td><td>2023-06-21</td><td>581</td></tr><tr><td>7</td><td>Customer 7</td><td>customer7@example.com</td><td>123-456-0007</td><td>55</td><td>4</td><td>2023-06-13</td><td>243</td></tr><tr><td>8</td><td>Customer 8</td><td>customer8@example.com</td><td>123-456-0008</td><td>43</td><td>7</td><td>2023-11-25</td><td>88</td></tr><tr><td>8</td><td>Customer 8</td><td>customer8@example.com</td><td>123-456-0008</td><td>54</td><td>6</td><td>2023-05-03</td><td>504</td></tr><tr><td>8</td><td>Customer 8</td><td>customer8@example.com</td><td>123-456-0008</td><td>82</td><td>7</td><td>2023-05-24</td><td>873</td></tr><tr><td>9</td><td>Customer 9</td><td>customer9@example.com</td><td>123-456-0009</td><td>3</td><td>10</td><td>2023-10-25</td><td>891</td></tr><tr><td>9</td><td>Customer 9</td><td>customer9@example.com</td><td>123-456-0009</td><td>22</td><td>4</td><td>2023-03-09</td><td>111</td></tr><tr><td>9</td><td>Customer 9</td><td>customer9@example.com</td><td>123-456-0009</td><td>59</td><td>10</td><td>2023-08-09</td><td>323</td></tr><tr><td>10</td><td>Customer 10</td><td>customer10@example.com</td><td>123-456-0010</td><td>16</td><td>8</td><td>2023-03-21</td><td>561</td></tr><tr><td>10</td><td>Customer 10</td><td>customer10@example.com</td><td>123-456-0010</td><td>46</td><td>7</td><td>2023-12-16</td><td>939</td></tr><tr><td>10</td><td>Customer 10</td><td>customer10@example.com</td><td>123-456-0010</td><td>60</td><td>1</td><td>2023-11-21</td><td>292</td></tr><tr><td>10</td><td>Customer 10</td><td>customer10@example.com</td><td>123-456-0010</td><td>73</td><td>10</td><td>2023-01-14</td><td>695</td></tr><tr><td>11</td><td>Customer 11</td><td>customer11@example.com</td><td>123-456-0011</td><td>31</td><td>10</td><td>2023-04-23</td><td>57</td></tr><tr><td>11</td><td>Customer 11</td><td>customer11@example.com</td><td>123-456-0011</td><td>42</td><td>4</td><td>2023-06-24</td><td>877</td></tr><tr><td>11</td><td>Customer 11</td><td>customer11@example.com</td><td>123-456-0011</td><td>56</td><td>5</td><td>2023-02-24</td><td>853</td></tr><tr><td>11</td><td>Customer 11</td><td>customer11@example.com</td><td>123-456-0011</td><td>77</td><td>2</td><td>2023-09-13</td><td>77</td></tr><tr><td>11</td><td>Customer 11</td><td>customer11@example.com</td><td>123-456-0011</td><td>78</td><td>5</td><td>2023-09-18</td><td>838</td></tr><tr><td>11</td><td>Customer 11</td><td>customer11@example.com</td><td>123-456-0011</td><td>89</td><td>3</td><td>2023-11-25</td><td>512</td></tr><tr><td>12</td><td>Customer 12</td><td>customer12@example.com</td><td>123-456-0012</td><td>35</td><td>4</td><td>2023-12-18</td><td>170</td></tr><tr><td>12</td><td>Customer 12</td><td>customer12@example.com</td><td>123-456-0012</td><td>80</td><td>7</td><td>2023-09-22</td><td>262</td></tr><tr><td>12</td><td>Customer 12</td><td>customer12@example.com</td><td>123-456-0012</td><td>83</td><td>6</td><td>2023-06-17</td><td>168</td></tr><tr><td>12</td><td>Customer 12</td><td>customer12@example.com</td><td>123-456-0012</td><td>93</td><td>9</td><td>2023-11-07</td><td>472</td></tr><tr><td>13</td><td>Customer 13</td><td>customer13@example.com</td><td>123-456-0013</td><td>8</td><td>2</td><td>2023-12-09</td><td>920</td></tr><tr><td>13</td><td>Customer 13</td><td>customer13@example.com</td><td>123-456-0013</td><td>18</td><td>10</td><td>2023-09-26</td><td>263</td></tr><tr><td>13</td><td>Customer 13</td><td>customer13@example.com</td><td>123-456-0013</td><td>36</td><td>7</td><td>2023-04-02</td><td>519</td></tr><tr><td>13</td><td>Customer 13</td><td>customer13@example.com</td><td>123-456-0013</td><td>50</td><td>10</td><td>2023-10-15</td><td>960</td></tr><tr><td>13</td><td>Customer 13</td><td>customer13@example.com</td><td>123-456-0013</td><td>57</td><td>8</td><td>2023-10-27</td><td>288</td></tr><tr><td>14</td><td>Customer 14</td><td>customer14@example.com</td><td>123-456-0014</td><td>6</td><td>9</td><td>2023-09-27</td><td>391</td></tr><tr><td>14</td><td>Customer 14</td><td>customer14@example.com</td><td>123-456-0014</td><td>39</td><td>1</td><td>2023-08-07</td><td>250</td></tr><tr><td>15</td><td>Customer 15</td><td>customer15@example.com</td><td>123-456-0015</td><td>5</td><td>6</td><td>2023-04-18</td><td>91</td></tr><tr><td>15</td><td>Customer 15</td><td>customer15@example.com</td><td>123-456-0015</td><td>15</td><td>1</td><td>2023-02-07</td><td>612</td></tr><tr><td>15</td><td>Customer 15</td><td>customer15@example.com</td><td>123-456-0015</td><td>30</td><td>6</td><td>2023-11-21</td><td>454</td></tr><tr><td>15</td><td>Customer 15</td><td>customer15@example.com</td><td>123-456-0015</td><td>32</td><td>7</td><td>2023-01-10</td><td>337</td></tr><tr><td>15</td><td>Customer 15</td><td>customer15@example.com</td><td>123-456-0015</td><td>96</td><td>2</td><td>2023-03-05</td><td>124</td></tr><tr><td>15</td><td>Customer 15</td><td>customer15@example.com</td><td>123-456-0015</td><td>100</td><td>2</td><td>2023-07-24</td><td>735</td></tr><tr><td>16</td><td>Customer 16</td><td>customer16@example.com</td><td>123-456-0016</td><td>11</td><td>4</td><td>2023-04-07</td><td>273</td></tr><tr><td>16</td><td>Customer 16</td><td>customer16@example.com</td><td>123-456-0016</td><td>14</td><td>8</td><td>2023-01-09</td><td>45</td></tr><tr><td>16</td><td>Customer 16</td><td>customer16@example.com</td><td>123-456-0016</td><td>37</td><td>3</td><td>2023-09-20</td><td>149</td></tr><tr><td>16</td><td>Customer 16</td><td>customer16@example.com</td><td>123-456-0016</td><td>90</td><td>5</td><td>2023-11-14</td><td>712</td></tr><tr><td>17</td><td>Customer 17</td><td>customer17@example.com</td><td>123-456-0017</td><td>9</td><td>6</td><td>2023-07-07</td><td>151</td></tr><tr><td>17</td><td>Customer 17</td><td>customer17@example.com</td><td>123-456-0017</td><td>26</td><td>8</td><td>2023-11-25</td><td>940</td></tr><tr><td>17</td><td>Customer 17</td><td>customer17@example.com</td><td>123-456-0017</td><td>44</td><td>8</td><td>2023-12-04</td><td>304</td></tr><tr><td>17</td><td>Customer 17</td><td>customer17@example.com</td><td>123-456-0017</td><td>63</td><td>7</td><td>2023-12-14</td><td>529</td></tr><tr><td>17</td><td>Customer 17</td><td>customer17@example.com</td><td>123-456-0017</td><td>70</td><td>3</td><td>2023-01-09</td><td>897</td></tr><tr><td>18</td><td>Customer 18</td><td>customer18@example.com</td><td>123-456-0018</td><td>13</td><td>2</td><td>2023-11-28</td><td>748</td></tr><tr><td>18</td><td>Customer 18</td><td>customer18@example.com</td><td>123-456-0018</td><td>17</td><td>8</td><td>2023-07-04</td><td>818</td></tr><tr><td>18</td><td>Customer 18</td><td>customer18@example.com</td><td>123-456-0018</td><td>24</td><td>2</td><td>2023-01-06</td><td>64</td></tr><tr><td>18</td><td>Customer 18</td><td>customer18@example.com</td><td>123-456-0018</td><td>29</td><td>6</td><td>2023-03-05</td><td>325</td></tr><tr><td>18</td><td>Customer 18</td><td>customer18@example.com</td><td>123-456-0018</td><td>84</td><td>1</td><td>2023-07-17</td><td>484</td></tr><tr><td>18</td><td>Customer 18</td><td>customer18@example.com</td><td>123-456-0018</td><td>88</td><td>6</td><td>2023-08-15</td><td>673</td></tr><tr><td>18</td><td>Customer 18</td><td>customer18@example.com</td><td>123-456-0018</td><td>94</td><td>1</td><td>2023-02-08</td><td>305</td></tr><tr><td>18</td><td>Customer 18</td><td>customer18@example.com</td><td>123-456-0018</td><td>95</td><td>9</td><td>2023-12-18</td><td>260</td></tr><tr><td>19</td><td>Customer 19</td><td>customer19@example.com</td><td>123-456-0019</td><td>2</td><td>9</td><td>2023-07-03</td><td>227</td></tr><tr><td>19</td><td>Customer 19</td><td>customer19@example.com</td><td>123-456-0019</td><td>10</td><td>5</td><td>2023-09-12</td><td>667</td></tr><tr><td>19</td><td>Customer 19</td><td>customer19@example.com</td><td>123-456-0019</td><td>12</td><td>6</td><td>2023-12-10</td><td>568</td></tr><tr><td>19</td><td>Customer 19</td><td>customer19@example.com</td><td>123-456-0019</td><td>38</td><td>10</td><td>2023-06-12</td><td>891</td></tr><tr><td>19</td><td>Customer 19</td><td>customer19@example.com</td><td>123-456-0019</td><td>51</td><td>4</td><td>2023-10-24</td><td>535</td></tr><tr><td>19</td><td>Customer 19</td><td>customer19@example.com</td><td>123-456-0019</td><td>65</td><td>7</td><td>2023-12-08</td><td>734</td></tr><tr><td>20</td><td>Customer 20</td><td>customer20@example.com</td><td>123-456-0020</td><td>19</td><td>8</td><td>2023-06-05</td><td>221</td></tr><tr><td>20</td><td>Customer 20</td><td>customer20@example.com</td><td>123-456-0020</td><td>49</td><td>10</td><td>2023-12-16</td><td>41</td></tr><tr><td>20</td><td>Customer 20</td><td>customer20@example.com</td><td>123-456-0020</td><td>74</td><td>9</td><td>2023-12-27</td><td>308</td></tr><tr><td>20</td><td>Customer 20</td><td>customer20@example.com</td><td>123-456-0020</td><td>85</td><td>8</td><td>2023-05-19</td><td>568</td></tr></tbody></table></div>"
      ]
     },
     "metadata": {
      "application/vnd.databricks.v1+output": {
       "addedWidgets": {},
       "aggData": [],
       "aggError": "",
       "aggOverflow": false,
       "aggSchema": [],
       "aggSeriesLimitReached": false,
       "aggType": "",
       "arguments": {},
       "columnCustomDisplayInfos": {},
       "data": [
        [
         1,
         "Customer 1",
         "customer1@example.com",
         "123-456-0001",
         28,
         5,
         "2023-08-21",
         326
        ],
        [
         1,
         "Customer 1",
         "customer1@example.com",
         "123-456-0001",
         67,
         4,
         "2023-10-13",
         769
        ],
        [
         1,
         "Customer 1",
         "customer1@example.com",
         "123-456-0001",
         76,
         8,
         "2023-03-01",
         93
        ],
        [
         1,
         "Customer 1",
         "customer1@example.com",
         "123-456-0001",
         81,
         8,
         "2023-06-14",
         115
        ],
        [
         1,
         "Customer 1",
         "customer1@example.com",
         "123-456-0001",
         87,
         1,
         "2023-04-07",
         25
        ],
        [
         2,
         "Customer 2",
         "customer2@example.com",
         "123-456-0002",
         53,
         2,
         "2023-05-21",
         161
        ],
        [
         2,
         "Customer 2",
         "customer2@example.com",
         "123-456-0002",
         61,
         2,
         "2023-07-22",
         832
        ],
        [
         2,
         "Customer 2",
         "customer2@example.com",
         "123-456-0002",
         62,
         8,
         "2023-09-28",
         373
        ],
        [
         2,
         "Customer 2",
         "customer2@example.com",
         "123-456-0002",
         66,
         4,
         "2023-04-25",
         279
        ],
        [
         2,
         "Customer 2",
         "customer2@example.com",
         "123-456-0002",
         75,
         1,
         "2023-03-10",
         25
        ],
        [
         2,
         "Customer 2",
         "customer2@example.com",
         "123-456-0002",
         92,
         3,
         "2023-05-11",
         308
        ],
        [
         3,
         "Customer 3",
         "customer3@example.com",
         "123-456-0003",
         1,
         3,
         "2023-05-01",
         613
        ],
        [
         3,
         "Customer 3",
         "customer3@example.com",
         "123-456-0003",
         40,
         4,
         "2023-03-14",
         696
        ],
        [
         3,
         "Customer 3",
         "customer3@example.com",
         "123-456-0003",
         47,
         1,
         "2023-12-06",
         676
        ],
        [
         4,
         "Customer 4",
         "customer4@example.com",
         "123-456-0004",
         4,
         3,
         "2023-05-28",
         342
        ],
        [
         4,
         "Customer 4",
         "customer4@example.com",
         "123-456-0004",
         20,
         6,
         "2023-10-04",
         591
        ],
        [
         4,
         "Customer 4",
         "customer4@example.com",
         "123-456-0004",
         25,
         10,
         "2023-05-23",
         748
        ],
        [
         4,
         "Customer 4",
         "customer4@example.com",
         "123-456-0004",
         45,
         9,
         "2023-04-05",
         879
        ],
        [
         4,
         "Customer 4",
         "customer4@example.com",
         "123-456-0004",
         68,
         3,
         "2023-06-12",
         864
        ],
        [
         4,
         "Customer 4",
         "customer4@example.com",
         "123-456-0004",
         71,
         8,
         "2023-05-23",
         352
        ],
        [
         4,
         "Customer 4",
         "customer4@example.com",
         "123-456-0004",
         72,
         8,
         "2023-03-27",
         690
        ],
        [
         4,
         "Customer 4",
         "customer4@example.com",
         "123-456-0004",
         91,
         5,
         "2023-06-11",
         113
        ],
        [
         4,
         "Customer 4",
         "customer4@example.com",
         "123-456-0004",
         99,
         4,
         "2023-12-09",
         265
        ],
        [
         5,
         "Customer 5",
         "customer5@example.com",
         "123-456-0005",
         27,
         5,
         "2023-05-25",
         407
        ],
        [
         5,
         "Customer 5",
         "customer5@example.com",
         "123-456-0005",
         48,
         2,
         "2023-04-15",
         830
        ],
        [
         5,
         "Customer 5",
         "customer5@example.com",
         "123-456-0005",
         58,
         5,
         "2023-02-24",
         549
        ],
        [
         5,
         "Customer 5",
         "customer5@example.com",
         "123-456-0005",
         64,
         7,
         "2023-06-24",
         413
        ],
        [
         5,
         "Customer 5",
         "customer5@example.com",
         "123-456-0005",
         86,
         6,
         "2023-07-11",
         991
        ],
        [
         6,
         "Customer 6",
         "customer6@example.com",
         "123-456-0006",
         7,
         1,
         "2023-12-16",
         654
        ],
        [
         6,
         "Customer 6",
         "customer6@example.com",
         "123-456-0006",
         21,
         2,
         "2023-06-09",
         912
        ],
        [
         6,
         "Customer 6",
         "customer6@example.com",
         "123-456-0006",
         33,
         2,
         "2023-06-01",
         119
        ],
        [
         6,
         "Customer 6",
         "customer6@example.com",
         "123-456-0006",
         41,
         9,
         "2023-06-26",
         111
        ],
        [
         6,
         "Customer 6",
         "customer6@example.com",
         "123-456-0006",
         52,
         5,
         "2023-10-04",
         588
        ],
        [
         6,
         "Customer 6",
         "customer6@example.com",
         "123-456-0006",
         69,
         5,
         "2023-11-02",
         222
        ],
        [
         6,
         "Customer 6",
         "customer6@example.com",
         "123-456-0006",
         79,
         7,
         "2023-08-23",
         437
        ],
        [
         6,
         "Customer 6",
         "customer6@example.com",
         "123-456-0006",
         97,
         3,
         "2023-06-20",
         974
        ],
        [
         6,
         "Customer 6",
         "customer6@example.com",
         "123-456-0006",
         98,
         1,
         "2023-03-26",
         578
        ],
        [
         7,
         "Customer 7",
         "customer7@example.com",
         "123-456-0007",
         23,
         6,
         "2023-09-08",
         263
        ],
        [
         7,
         "Customer 7",
         "customer7@example.com",
         "123-456-0007",
         34,
         10,
         "2023-06-21",
         581
        ],
        [
         7,
         "Customer 7",
         "customer7@example.com",
         "123-456-0007",
         55,
         4,
         "2023-06-13",
         243
        ],
        [
         8,
         "Customer 8",
         "customer8@example.com",
         "123-456-0008",
         43,
         7,
         "2023-11-25",
         88
        ],
        [
         8,
         "Customer 8",
         "customer8@example.com",
         "123-456-0008",
         54,
         6,
         "2023-05-03",
         504
        ],
        [
         8,
         "Customer 8",
         "customer8@example.com",
         "123-456-0008",
         82,
         7,
         "2023-05-24",
         873
        ],
        [
         9,
         "Customer 9",
         "customer9@example.com",
         "123-456-0009",
         3,
         10,
         "2023-10-25",
         891
        ],
        [
         9,
         "Customer 9",
         "customer9@example.com",
         "123-456-0009",
         22,
         4,
         "2023-03-09",
         111
        ],
        [
         9,
         "Customer 9",
         "customer9@example.com",
         "123-456-0009",
         59,
         10,
         "2023-08-09",
         323
        ],
        [
         10,
         "Customer 10",
         "customer10@example.com",
         "123-456-0010",
         16,
         8,
         "2023-03-21",
         561
        ],
        [
         10,
         "Customer 10",
         "customer10@example.com",
         "123-456-0010",
         46,
         7,
         "2023-12-16",
         939
        ],
        [
         10,
         "Customer 10",
         "customer10@example.com",
         "123-456-0010",
         60,
         1,
         "2023-11-21",
         292
        ],
        [
         10,
         "Customer 10",
         "customer10@example.com",
         "123-456-0010",
         73,
         10,
         "2023-01-14",
         695
        ],
        [
         11,
         "Customer 11",
         "customer11@example.com",
         "123-456-0011",
         31,
         10,
         "2023-04-23",
         57
        ],
        [
         11,
         "Customer 11",
         "customer11@example.com",
         "123-456-0011",
         42,
         4,
         "2023-06-24",
         877
        ],
        [
         11,
         "Customer 11",
         "customer11@example.com",
         "123-456-0011",
         56,
         5,
         "2023-02-24",
         853
        ],
        [
         11,
         "Customer 11",
         "customer11@example.com",
         "123-456-0011",
         77,
         2,
         "2023-09-13",
         77
        ],
        [
         11,
         "Customer 11",
         "customer11@example.com",
         "123-456-0011",
         78,
         5,
         "2023-09-18",
         838
        ],
        [
         11,
         "Customer 11",
         "customer11@example.com",
         "123-456-0011",
         89,
         3,
         "2023-11-25",
         512
        ],
        [
         12,
         "Customer 12",
         "customer12@example.com",
         "123-456-0012",
         35,
         4,
         "2023-12-18",
         170
        ],
        [
         12,
         "Customer 12",
         "customer12@example.com",
         "123-456-0012",
         80,
         7,
         "2023-09-22",
         262
        ],
        [
         12,
         "Customer 12",
         "customer12@example.com",
         "123-456-0012",
         83,
         6,
         "2023-06-17",
         168
        ],
        [
         12,
         "Customer 12",
         "customer12@example.com",
         "123-456-0012",
         93,
         9,
         "2023-11-07",
         472
        ],
        [
         13,
         "Customer 13",
         "customer13@example.com",
         "123-456-0013",
         8,
         2,
         "2023-12-09",
         920
        ],
        [
         13,
         "Customer 13",
         "customer13@example.com",
         "123-456-0013",
         18,
         10,
         "2023-09-26",
         263
        ],
        [
         13,
         "Customer 13",
         "customer13@example.com",
         "123-456-0013",
         36,
         7,
         "2023-04-02",
         519
        ],
        [
         13,
         "Customer 13",
         "customer13@example.com",
         "123-456-0013",
         50,
         10,
         "2023-10-15",
         960
        ],
        [
         13,
         "Customer 13",
         "customer13@example.com",
         "123-456-0013",
         57,
         8,
         "2023-10-27",
         288
        ],
        [
         14,
         "Customer 14",
         "customer14@example.com",
         "123-456-0014",
         6,
         9,
         "2023-09-27",
         391
        ],
        [
         14,
         "Customer 14",
         "customer14@example.com",
         "123-456-0014",
         39,
         1,
         "2023-08-07",
         250
        ],
        [
         15,
         "Customer 15",
         "customer15@example.com",
         "123-456-0015",
         5,
         6,
         "2023-04-18",
         91
        ],
        [
         15,
         "Customer 15",
         "customer15@example.com",
         "123-456-0015",
         15,
         1,
         "2023-02-07",
         612
        ],
        [
         15,
         "Customer 15",
         "customer15@example.com",
         "123-456-0015",
         30,
         6,
         "2023-11-21",
         454
        ],
        [
         15,
         "Customer 15",
         "customer15@example.com",
         "123-456-0015",
         32,
         7,
         "2023-01-10",
         337
        ],
        [
         15,
         "Customer 15",
         "customer15@example.com",
         "123-456-0015",
         96,
         2,
         "2023-03-05",
         124
        ],
        [
         15,
         "Customer 15",
         "customer15@example.com",
         "123-456-0015",
         100,
         2,
         "2023-07-24",
         735
        ],
        [
         16,
         "Customer 16",
         "customer16@example.com",
         "123-456-0016",
         11,
         4,
         "2023-04-07",
         273
        ],
        [
         16,
         "Customer 16",
         "customer16@example.com",
         "123-456-0016",
         14,
         8,
         "2023-01-09",
         45
        ],
        [
         16,
         "Customer 16",
         "customer16@example.com",
         "123-456-0016",
         37,
         3,
         "2023-09-20",
         149
        ],
        [
         16,
         "Customer 16",
         "customer16@example.com",
         "123-456-0016",
         90,
         5,
         "2023-11-14",
         712
        ],
        [
         17,
         "Customer 17",
         "customer17@example.com",
         "123-456-0017",
         9,
         6,
         "2023-07-07",
         151
        ],
        [
         17,
         "Customer 17",
         "customer17@example.com",
         "123-456-0017",
         26,
         8,
         "2023-11-25",
         940
        ],
        [
         17,
         "Customer 17",
         "customer17@example.com",
         "123-456-0017",
         44,
         8,
         "2023-12-04",
         304
        ],
        [
         17,
         "Customer 17",
         "customer17@example.com",
         "123-456-0017",
         63,
         7,
         "2023-12-14",
         529
        ],
        [
         17,
         "Customer 17",
         "customer17@example.com",
         "123-456-0017",
         70,
         3,
         "2023-01-09",
         897
        ],
        [
         18,
         "Customer 18",
         "customer18@example.com",
         "123-456-0018",
         13,
         2,
         "2023-11-28",
         748
        ],
        [
         18,
         "Customer 18",
         "customer18@example.com",
         "123-456-0018",
         17,
         8,
         "2023-07-04",
         818
        ],
        [
         18,
         "Customer 18",
         "customer18@example.com",
         "123-456-0018",
         24,
         2,
         "2023-01-06",
         64
        ],
        [
         18,
         "Customer 18",
         "customer18@example.com",
         "123-456-0018",
         29,
         6,
         "2023-03-05",
         325
        ],
        [
         18,
         "Customer 18",
         "customer18@example.com",
         "123-456-0018",
         84,
         1,
         "2023-07-17",
         484
        ],
        [
         18,
         "Customer 18",
         "customer18@example.com",
         "123-456-0018",
         88,
         6,
         "2023-08-15",
         673
        ],
        [
         18,
         "Customer 18",
         "customer18@example.com",
         "123-456-0018",
         94,
         1,
         "2023-02-08",
         305
        ],
        [
         18,
         "Customer 18",
         "customer18@example.com",
         "123-456-0018",
         95,
         9,
         "2023-12-18",
         260
        ],
        [
         19,
         "Customer 19",
         "customer19@example.com",
         "123-456-0019",
         2,
         9,
         "2023-07-03",
         227
        ],
        [
         19,
         "Customer 19",
         "customer19@example.com",
         "123-456-0019",
         10,
         5,
         "2023-09-12",
         667
        ],
        [
         19,
         "Customer 19",
         "customer19@example.com",
         "123-456-0019",
         12,
         6,
         "2023-12-10",
         568
        ],
        [
         19,
         "Customer 19",
         "customer19@example.com",
         "123-456-0019",
         38,
         10,
         "2023-06-12",
         891
        ],
        [
         19,
         "Customer 19",
         "customer19@example.com",
         "123-456-0019",
         51,
         4,
         "2023-10-24",
         535
        ],
        [
         19,
         "Customer 19",
         "customer19@example.com",
         "123-456-0019",
         65,
         7,
         "2023-12-08",
         734
        ],
        [
         20,
         "Customer 20",
         "customer20@example.com",
         "123-456-0020",
         19,
         8,
         "2023-06-05",
         221
        ],
        [
         20,
         "Customer 20",
         "customer20@example.com",
         "123-456-0020",
         49,
         10,
         "2023-12-16",
         41
        ],
        [
         20,
         "Customer 20",
         "customer20@example.com",
         "123-456-0020",
         74,
         9,
         "2023-12-27",
         308
        ],
        [
         20,
         "Customer 20",
         "customer20@example.com",
         "123-456-0020",
         85,
         8,
         "2023-05-19",
         568
        ]
       ],
       "datasetInfos": [],
       "dbfsResultPath": null,
       "isJsonSchema": true,
       "metadata": {},
       "overflow": false,
       "plotOptions": {
        "customPlotOptions": {},
        "displayType": "table",
        "pivotAggregation": null,
        "pivotColumns": null,
        "xColumns": null,
        "yColumns": null
       },
       "removedWidgets": [],
       "schema": [
        {
         "metadata": "{}",
         "name": "customer_id",
         "type": "\"integer\""
        },
        {
         "metadata": "{}",
         "name": "name",
         "type": "\"string\""
        },
        {
         "metadata": "{}",
         "name": "email",
         "type": "\"string\""
        },
        {
         "metadata": "{}",
         "name": "phone",
         "type": "\"string\""
        },
        {
         "metadata": "{}",
         "name": "transaction_id",
         "type": "\"integer\""
        },
        {
         "metadata": "{}",
         "name": "product_id",
         "type": "\"integer\""
        },
        {
         "metadata": "{\"__detected_date_formats\":\"yyyy-M-d\"}",
         "name": "transaction_date",
         "type": "\"date\""
        },
        {
         "metadata": "{}",
         "name": "amount_paid",
         "type": "\"integer\""
        }
       ],
       "type": "table"
      }
     },
     "output_type": "display_data"
    }
   ],
   "source": [
    "%sql\n",
    "select * from customer_sales order by customer_id"
   ]
  },
  {
   "cell_type": "markdown",
   "metadata": {
    "application/vnd.databricks.v1+cell": {
     "cellMetadata": {
      "byteLimit": 2048000,
      "rowLimit": 10000
     },
     "inputWidgets": {},
     "nuid": "f604d104-3a02-42b7-a1bd-43b7857af9ea",
     "showTitle": false,
     "title": ""
    }
   },
   "source": [
    "####3.\tJoin product details with sales transactions by identifying the required joining keys."
   ]
  },
  {
   "cell_type": "code",
   "execution_count": 0,
   "metadata": {
    "application/vnd.databricks.v1+cell": {
     "cellMetadata": {
      "byteLimit": 2048000,
      "implicitDf": true,
      "rowLimit": 10000
     },
     "inputWidgets": {},
     "nuid": "5d8596f5-c044-41d8-80f4-e898c1c91365",
     "showTitle": false,
     "title": ""
    }
   },
   "outputs": [
    {
     "output_type": "display_data",
     "data": {
      "text/html": [
       "<style scoped>\n",
       "  .table-result-container {\n",
       "    max-height: 300px;\n",
       "    overflow: auto;\n",
       "  }\n",
       "  table, th, td {\n",
       "    border: 1px solid black;\n",
       "    border-collapse: collapse;\n",
       "  }\n",
       "  th, td {\n",
       "    padding: 5px;\n",
       "  }\n",
       "  th {\n",
       "    text-align: left;\n",
       "  }\n",
       "</style><div class='table-result-container'><table class='table-result'><thead style='background-color: white'><tr><th>num_affected_rows</th><th>num_inserted_rows</th></tr></thead><tbody></tbody></table></div>"
      ]
     },
     "metadata": {
      "application/vnd.databricks.v1+output": {
       "addedWidgets": {},
       "aggData": [],
       "aggError": "",
       "aggOverflow": false,
       "aggSchema": [],
       "aggSeriesLimitReached": false,
       "aggType": "",
       "arguments": {},
       "columnCustomDisplayInfos": {},
       "data": [],
       "datasetInfos": [],
       "dbfsResultPath": null,
       "isJsonSchema": true,
       "metadata": {},
       "overflow": false,
       "plotOptions": {
        "customPlotOptions": {},
        "displayType": "table",
        "pivotAggregation": null,
        "pivotColumns": null,
        "xColumns": null,
        "yColumns": null
       },
       "removedWidgets": [],
       "schema": [
        {
         "metadata": "{}",
         "name": "num_affected_rows",
         "type": "\"long\""
        },
        {
         "metadata": "{}",
         "name": "num_inserted_rows",
         "type": "\"long\""
        }
       ],
       "type": "table"
      }
     },
     "output_type": "display_data"
    }
   ],
   "source": [
    "%sql\n",
    " create or replace table product_sales as (select p.*,s.transaction_id,s.customer_id,s.transaction_date,s.amount_paid from sales s inner join products p on s.product_id = p.product_id)  "
   ]
  },
  {
   "cell_type": "code",
   "execution_count": 0,
   "metadata": {
    "application/vnd.databricks.v1+cell": {
     "cellMetadata": {
      "byteLimit": 2048000,
      "implicitDf": true,
      "rowLimit": 10000
     },
     "inputWidgets": {},
     "nuid": "d4dd8a61-f304-4d8d-a27f-dd9081219653",
     "showTitle": false,
     "title": ""
    }
   },
   "outputs": [
    {
     "output_type": "display_data",
     "data": {
      "text/html": [
       "<style scoped>\n",
       "  .table-result-container {\n",
       "    max-height: 300px;\n",
       "    overflow: auto;\n",
       "  }\n",
       "  table, th, td {\n",
       "    border: 1px solid black;\n",
       "    border-collapse: collapse;\n",
       "  }\n",
       "  th, td {\n",
       "    padding: 5px;\n",
       "  }\n",
       "  th {\n",
       "    text-align: left;\n",
       "  }\n",
       "</style><div class='table-result-container'><table class='table-result'><thead style='background-color: white'><tr><th>product_id</th><th>product_name</th><th>category</th><th>price</th><th>stock_quantity</th><th>transaction_id</th><th>customer_id</th><th>transaction_date</th><th>amount_paid</th></tr></thead><tbody><tr><td>1</td><td>Product 1</td><td>Category 1</td><td>232</td><td>37</td><td>7</td><td>6</td><td>2023-12-16</td><td>654</td></tr><tr><td>1</td><td>Product 1</td><td>Category 1</td><td>232</td><td>37</td><td>15</td><td>15</td><td>2023-02-07</td><td>612</td></tr><tr><td>1</td><td>Product 1</td><td>Category 1</td><td>232</td><td>37</td><td>39</td><td>14</td><td>2023-08-07</td><td>250</td></tr><tr><td>1</td><td>Product 1</td><td>Category 1</td><td>232</td><td>37</td><td>47</td><td>3</td><td>2023-12-06</td><td>676</td></tr><tr><td>1</td><td>Product 1</td><td>Category 1</td><td>232</td><td>37</td><td>60</td><td>10</td><td>2023-11-21</td><td>292</td></tr><tr><td>1</td><td>Product 1</td><td>Category 1</td><td>232</td><td>37</td><td>75</td><td>2</td><td>2023-03-10</td><td>25</td></tr><tr><td>1</td><td>Product 1</td><td>Category 1</td><td>232</td><td>37</td><td>84</td><td>18</td><td>2023-07-17</td><td>484</td></tr><tr><td>1</td><td>Product 1</td><td>Category 1</td><td>232</td><td>37</td><td>87</td><td>1</td><td>2023-04-07</td><td>25</td></tr><tr><td>1</td><td>Product 1</td><td>Category 1</td><td>232</td><td>37</td><td>94</td><td>18</td><td>2023-02-08</td><td>305</td></tr><tr><td>1</td><td>Product 1</td><td>Category 1</td><td>232</td><td>37</td><td>98</td><td>6</td><td>2023-03-26</td><td>578</td></tr><tr><td>2</td><td>Product 2</td><td>Category 1</td><td>185</td><td>74</td><td>8</td><td>13</td><td>2023-12-09</td><td>920</td></tr><tr><td>2</td><td>Product 2</td><td>Category 1</td><td>185</td><td>74</td><td>13</td><td>18</td><td>2023-11-28</td><td>748</td></tr><tr><td>2</td><td>Product 2</td><td>Category 1</td><td>185</td><td>74</td><td>21</td><td>6</td><td>2023-06-09</td><td>912</td></tr><tr><td>2</td><td>Product 2</td><td>Category 1</td><td>185</td><td>74</td><td>24</td><td>18</td><td>2023-01-06</td><td>64</td></tr><tr><td>2</td><td>Product 2</td><td>Category 1</td><td>185</td><td>74</td><td>33</td><td>6</td><td>2023-06-01</td><td>119</td></tr><tr><td>2</td><td>Product 2</td><td>Category 1</td><td>185</td><td>74</td><td>48</td><td>5</td><td>2023-04-15</td><td>830</td></tr><tr><td>2</td><td>Product 2</td><td>Category 1</td><td>185</td><td>74</td><td>53</td><td>2</td><td>2023-05-21</td><td>161</td></tr><tr><td>2</td><td>Product 2</td><td>Category 1</td><td>185</td><td>74</td><td>61</td><td>2</td><td>2023-07-22</td><td>832</td></tr><tr><td>2</td><td>Product 2</td><td>Category 1</td><td>185</td><td>74</td><td>77</td><td>11</td><td>2023-09-13</td><td>77</td></tr><tr><td>2</td><td>Product 2</td><td>Category 1</td><td>185</td><td>74</td><td>96</td><td>15</td><td>2023-03-05</td><td>124</td></tr><tr><td>2</td><td>Product 2</td><td>Category 1</td><td>185</td><td>74</td><td>100</td><td>15</td><td>2023-07-24</td><td>735</td></tr><tr><td>3</td><td>Product 3</td><td>Category 3</td><td>171</td><td>72</td><td>1</td><td>3</td><td>2023-05-01</td><td>613</td></tr><tr><td>3</td><td>Product 3</td><td>Category 3</td><td>171</td><td>72</td><td>4</td><td>4</td><td>2023-05-28</td><td>342</td></tr><tr><td>3</td><td>Product 3</td><td>Category 3</td><td>171</td><td>72</td><td>37</td><td>16</td><td>2023-09-20</td><td>149</td></tr><tr><td>3</td><td>Product 3</td><td>Category 3</td><td>171</td><td>72</td><td>68</td><td>4</td><td>2023-06-12</td><td>864</td></tr><tr><td>3</td><td>Product 3</td><td>Category 3</td><td>171</td><td>72</td><td>70</td><td>17</td><td>2023-01-09</td><td>897</td></tr><tr><td>3</td><td>Product 3</td><td>Category 3</td><td>171</td><td>72</td><td>89</td><td>11</td><td>2023-11-25</td><td>512</td></tr><tr><td>3</td><td>Product 3</td><td>Category 3</td><td>171</td><td>72</td><td>92</td><td>2</td><td>2023-05-11</td><td>308</td></tr><tr><td>3</td><td>Product 3</td><td>Category 3</td><td>171</td><td>72</td><td>97</td><td>6</td><td>2023-06-20</td><td>974</td></tr><tr><td>4</td><td>Product 4</td><td>Category 3</td><td>154</td><td>43</td><td>11</td><td>16</td><td>2023-04-07</td><td>273</td></tr><tr><td>4</td><td>Product 4</td><td>Category 3</td><td>154</td><td>43</td><td>22</td><td>9</td><td>2023-03-09</td><td>111</td></tr><tr><td>4</td><td>Product 4</td><td>Category 3</td><td>154</td><td>43</td><td>35</td><td>12</td><td>2023-12-18</td><td>170</td></tr><tr><td>4</td><td>Product 4</td><td>Category 3</td><td>154</td><td>43</td><td>40</td><td>3</td><td>2023-03-14</td><td>696</td></tr><tr><td>4</td><td>Product 4</td><td>Category 3</td><td>154</td><td>43</td><td>42</td><td>11</td><td>2023-06-24</td><td>877</td></tr><tr><td>4</td><td>Product 4</td><td>Category 3</td><td>154</td><td>43</td><td>51</td><td>19</td><td>2023-10-24</td><td>535</td></tr><tr><td>4</td><td>Product 4</td><td>Category 3</td><td>154</td><td>43</td><td>55</td><td>7</td><td>2023-06-13</td><td>243</td></tr><tr><td>4</td><td>Product 4</td><td>Category 3</td><td>154</td><td>43</td><td>66</td><td>2</td><td>2023-04-25</td><td>279</td></tr><tr><td>4</td><td>Product 4</td><td>Category 3</td><td>154</td><td>43</td><td>67</td><td>1</td><td>2023-10-13</td><td>769</td></tr><tr><td>4</td><td>Product 4</td><td>Category 3</td><td>154</td><td>43</td><td>99</td><td>4</td><td>2023-12-09</td><td>265</td></tr><tr><td>5</td><td>Product 5</td><td>Category 2</td><td>207</td><td>96</td><td>10</td><td>19</td><td>2023-09-12</td><td>667</td></tr><tr><td>5</td><td>Product 5</td><td>Category 2</td><td>207</td><td>96</td><td>27</td><td>5</td><td>2023-05-25</td><td>407</td></tr><tr><td>5</td><td>Product 5</td><td>Category 2</td><td>207</td><td>96</td><td>28</td><td>1</td><td>2023-08-21</td><td>326</td></tr><tr><td>5</td><td>Product 5</td><td>Category 2</td><td>207</td><td>96</td><td>52</td><td>6</td><td>2023-10-04</td><td>588</td></tr><tr><td>5</td><td>Product 5</td><td>Category 2</td><td>207</td><td>96</td><td>56</td><td>11</td><td>2023-02-24</td><td>853</td></tr><tr><td>5</td><td>Product 5</td><td>Category 2</td><td>207</td><td>96</td><td>58</td><td>5</td><td>2023-02-24</td><td>549</td></tr><tr><td>5</td><td>Product 5</td><td>Category 2</td><td>207</td><td>96</td><td>69</td><td>6</td><td>2023-11-02</td><td>222</td></tr><tr><td>5</td><td>Product 5</td><td>Category 2</td><td>207</td><td>96</td><td>78</td><td>11</td><td>2023-09-18</td><td>838</td></tr><tr><td>5</td><td>Product 5</td><td>Category 2</td><td>207</td><td>96</td><td>90</td><td>16</td><td>2023-11-14</td><td>712</td></tr><tr><td>5</td><td>Product 5</td><td>Category 2</td><td>207</td><td>96</td><td>91</td><td>4</td><td>2023-06-11</td><td>113</td></tr><tr><td>6</td><td>Product 6</td><td>Category 3</td><td>496</td><td>37</td><td>5</td><td>15</td><td>2023-04-18</td><td>91</td></tr><tr><td>6</td><td>Product 6</td><td>Category 3</td><td>496</td><td>37</td><td>9</td><td>17</td><td>2023-07-07</td><td>151</td></tr><tr><td>6</td><td>Product 6</td><td>Category 3</td><td>496</td><td>37</td><td>12</td><td>19</td><td>2023-12-10</td><td>568</td></tr><tr><td>6</td><td>Product 6</td><td>Category 3</td><td>496</td><td>37</td><td>20</td><td>4</td><td>2023-10-04</td><td>591</td></tr><tr><td>6</td><td>Product 6</td><td>Category 3</td><td>496</td><td>37</td><td>23</td><td>7</td><td>2023-09-08</td><td>263</td></tr><tr><td>6</td><td>Product 6</td><td>Category 3</td><td>496</td><td>37</td><td>29</td><td>18</td><td>2023-03-05</td><td>325</td></tr><tr><td>6</td><td>Product 6</td><td>Category 3</td><td>496</td><td>37</td><td>30</td><td>15</td><td>2023-11-21</td><td>454</td></tr><tr><td>6</td><td>Product 6</td><td>Category 3</td><td>496</td><td>37</td><td>54</td><td>8</td><td>2023-05-03</td><td>504</td></tr><tr><td>6</td><td>Product 6</td><td>Category 3</td><td>496</td><td>37</td><td>83</td><td>12</td><td>2023-06-17</td><td>168</td></tr><tr><td>6</td><td>Product 6</td><td>Category 3</td><td>496</td><td>37</td><td>86</td><td>5</td><td>2023-07-11</td><td>991</td></tr><tr><td>6</td><td>Product 6</td><td>Category 3</td><td>496</td><td>37</td><td>88</td><td>18</td><td>2023-08-15</td><td>673</td></tr><tr><td>7</td><td>Product 7</td><td>Category 1</td><td>166</td><td>23</td><td>32</td><td>15</td><td>2023-01-10</td><td>337</td></tr><tr><td>7</td><td>Product 7</td><td>Category 1</td><td>166</td><td>23</td><td>36</td><td>13</td><td>2023-04-02</td><td>519</td></tr><tr><td>7</td><td>Product 7</td><td>Category 1</td><td>166</td><td>23</td><td>43</td><td>8</td><td>2023-11-25</td><td>88</td></tr><tr><td>7</td><td>Product 7</td><td>Category 1</td><td>166</td><td>23</td><td>46</td><td>10</td><td>2023-12-16</td><td>939</td></tr><tr><td>7</td><td>Product 7</td><td>Category 1</td><td>166</td><td>23</td><td>63</td><td>17</td><td>2023-12-14</td><td>529</td></tr><tr><td>7</td><td>Product 7</td><td>Category 1</td><td>166</td><td>23</td><td>64</td><td>5</td><td>2023-06-24</td><td>413</td></tr><tr><td>7</td><td>Product 7</td><td>Category 1</td><td>166</td><td>23</td><td>65</td><td>19</td><td>2023-12-08</td><td>734</td></tr><tr><td>7</td><td>Product 7</td><td>Category 1</td><td>166</td><td>23</td><td>79</td><td>6</td><td>2023-08-23</td><td>437</td></tr><tr><td>7</td><td>Product 7</td><td>Category 1</td><td>166</td><td>23</td><td>80</td><td>12</td><td>2023-09-22</td><td>262</td></tr><tr><td>7</td><td>Product 7</td><td>Category 1</td><td>166</td><td>23</td><td>82</td><td>8</td><td>2023-05-24</td><td>873</td></tr><tr><td>8</td><td>Product 8</td><td>Category 1</td><td>205</td><td>81</td><td>14</td><td>16</td><td>2023-01-09</td><td>45</td></tr><tr><td>8</td><td>Product 8</td><td>Category 1</td><td>205</td><td>81</td><td>16</td><td>10</td><td>2023-03-21</td><td>561</td></tr><tr><td>8</td><td>Product 8</td><td>Category 1</td><td>205</td><td>81</td><td>17</td><td>18</td><td>2023-07-04</td><td>818</td></tr><tr><td>8</td><td>Product 8</td><td>Category 1</td><td>205</td><td>81</td><td>19</td><td>20</td><td>2023-06-05</td><td>221</td></tr><tr><td>8</td><td>Product 8</td><td>Category 1</td><td>205</td><td>81</td><td>26</td><td>17</td><td>2023-11-25</td><td>940</td></tr><tr><td>8</td><td>Product 8</td><td>Category 1</td><td>205</td><td>81</td><td>44</td><td>17</td><td>2023-12-04</td><td>304</td></tr><tr><td>8</td><td>Product 8</td><td>Category 1</td><td>205</td><td>81</td><td>57</td><td>13</td><td>2023-10-27</td><td>288</td></tr><tr><td>8</td><td>Product 8</td><td>Category 1</td><td>205</td><td>81</td><td>62</td><td>2</td><td>2023-09-28</td><td>373</td></tr><tr><td>8</td><td>Product 8</td><td>Category 1</td><td>205</td><td>81</td><td>71</td><td>4</td><td>2023-05-23</td><td>352</td></tr><tr><td>8</td><td>Product 8</td><td>Category 1</td><td>205</td><td>81</td><td>72</td><td>4</td><td>2023-03-27</td><td>690</td></tr><tr><td>8</td><td>Product 8</td><td>Category 1</td><td>205</td><td>81</td><td>76</td><td>1</td><td>2023-03-01</td><td>93</td></tr><tr><td>8</td><td>Product 8</td><td>Category 1</td><td>205</td><td>81</td><td>81</td><td>1</td><td>2023-06-14</td><td>115</td></tr><tr><td>8</td><td>Product 8</td><td>Category 1</td><td>205</td><td>81</td><td>85</td><td>20</td><td>2023-05-19</td><td>568</td></tr><tr><td>9</td><td>Product 9</td><td>Category 3</td><td>303</td><td>13</td><td>2</td><td>19</td><td>2023-07-03</td><td>227</td></tr><tr><td>9</td><td>Product 9</td><td>Category 3</td><td>303</td><td>13</td><td>6</td><td>14</td><td>2023-09-27</td><td>391</td></tr><tr><td>9</td><td>Product 9</td><td>Category 3</td><td>303</td><td>13</td><td>41</td><td>6</td><td>2023-06-26</td><td>111</td></tr><tr><td>9</td><td>Product 9</td><td>Category 3</td><td>303</td><td>13</td><td>45</td><td>4</td><td>2023-04-05</td><td>879</td></tr><tr><td>9</td><td>Product 9</td><td>Category 3</td><td>303</td><td>13</td><td>74</td><td>20</td><td>2023-12-27</td><td>308</td></tr><tr><td>9</td><td>Product 9</td><td>Category 3</td><td>303</td><td>13</td><td>93</td><td>12</td><td>2023-11-07</td><td>472</td></tr><tr><td>9</td><td>Product 9</td><td>Category 3</td><td>303</td><td>13</td><td>95</td><td>18</td><td>2023-12-18</td><td>260</td></tr><tr><td>10</td><td>Product 10</td><td>Category 1</td><td>447</td><td>95</td><td>3</td><td>9</td><td>2023-10-25</td><td>891</td></tr><tr><td>10</td><td>Product 10</td><td>Category 1</td><td>447</td><td>95</td><td>18</td><td>13</td><td>2023-09-26</td><td>263</td></tr><tr><td>10</td><td>Product 10</td><td>Category 1</td><td>447</td><td>95</td><td>25</td><td>4</td><td>2023-05-23</td><td>748</td></tr><tr><td>10</td><td>Product 10</td><td>Category 1</td><td>447</td><td>95</td><td>31</td><td>11</td><td>2023-04-23</td><td>57</td></tr><tr><td>10</td><td>Product 10</td><td>Category 1</td><td>447</td><td>95</td><td>34</td><td>7</td><td>2023-06-21</td><td>581</td></tr><tr><td>10</td><td>Product 10</td><td>Category 1</td><td>447</td><td>95</td><td>38</td><td>19</td><td>2023-06-12</td><td>891</td></tr><tr><td>10</td><td>Product 10</td><td>Category 1</td><td>447</td><td>95</td><td>49</td><td>20</td><td>2023-12-16</td><td>41</td></tr><tr><td>10</td><td>Product 10</td><td>Category 1</td><td>447</td><td>95</td><td>50</td><td>13</td><td>2023-10-15</td><td>960</td></tr><tr><td>10</td><td>Product 10</td><td>Category 1</td><td>447</td><td>95</td><td>59</td><td>9</td><td>2023-08-09</td><td>323</td></tr><tr><td>10</td><td>Product 10</td><td>Category 1</td><td>447</td><td>95</td><td>73</td><td>10</td><td>2023-01-14</td><td>695</td></tr></tbody></table></div>"
      ]
     },
     "metadata": {
      "application/vnd.databricks.v1+output": {
       "addedWidgets": {},
       "aggData": [],
       "aggError": "",
       "aggOverflow": false,
       "aggSchema": [],
       "aggSeriesLimitReached": false,
       "aggType": "",
       "arguments": {},
       "columnCustomDisplayInfos": {},
       "data": [
        [
         1,
         "Product 1",
         "Category 1",
         232,
         37,
         7,
         6,
         "2023-12-16",
         654
        ],
        [
         1,
         "Product 1",
         "Category 1",
         232,
         37,
         15,
         15,
         "2023-02-07",
         612
        ],
        [
         1,
         "Product 1",
         "Category 1",
         232,
         37,
         39,
         14,
         "2023-08-07",
         250
        ],
        [
         1,
         "Product 1",
         "Category 1",
         232,
         37,
         47,
         3,
         "2023-12-06",
         676
        ],
        [
         1,
         "Product 1",
         "Category 1",
         232,
         37,
         60,
         10,
         "2023-11-21",
         292
        ],
        [
         1,
         "Product 1",
         "Category 1",
         232,
         37,
         75,
         2,
         "2023-03-10",
         25
        ],
        [
         1,
         "Product 1",
         "Category 1",
         232,
         37,
         84,
         18,
         "2023-07-17",
         484
        ],
        [
         1,
         "Product 1",
         "Category 1",
         232,
         37,
         87,
         1,
         "2023-04-07",
         25
        ],
        [
         1,
         "Product 1",
         "Category 1",
         232,
         37,
         94,
         18,
         "2023-02-08",
         305
        ],
        [
         1,
         "Product 1",
         "Category 1",
         232,
         37,
         98,
         6,
         "2023-03-26",
         578
        ],
        [
         2,
         "Product 2",
         "Category 1",
         185,
         74,
         8,
         13,
         "2023-12-09",
         920
        ],
        [
         2,
         "Product 2",
         "Category 1",
         185,
         74,
         13,
         18,
         "2023-11-28",
         748
        ],
        [
         2,
         "Product 2",
         "Category 1",
         185,
         74,
         21,
         6,
         "2023-06-09",
         912
        ],
        [
         2,
         "Product 2",
         "Category 1",
         185,
         74,
         24,
         18,
         "2023-01-06",
         64
        ],
        [
         2,
         "Product 2",
         "Category 1",
         185,
         74,
         33,
         6,
         "2023-06-01",
         119
        ],
        [
         2,
         "Product 2",
         "Category 1",
         185,
         74,
         48,
         5,
         "2023-04-15",
         830
        ],
        [
         2,
         "Product 2",
         "Category 1",
         185,
         74,
         53,
         2,
         "2023-05-21",
         161
        ],
        [
         2,
         "Product 2",
         "Category 1",
         185,
         74,
         61,
         2,
         "2023-07-22",
         832
        ],
        [
         2,
         "Product 2",
         "Category 1",
         185,
         74,
         77,
         11,
         "2023-09-13",
         77
        ],
        [
         2,
         "Product 2",
         "Category 1",
         185,
         74,
         96,
         15,
         "2023-03-05",
         124
        ],
        [
         2,
         "Product 2",
         "Category 1",
         185,
         74,
         100,
         15,
         "2023-07-24",
         735
        ],
        [
         3,
         "Product 3",
         "Category 3",
         171,
         72,
         1,
         3,
         "2023-05-01",
         613
        ],
        [
         3,
         "Product 3",
         "Category 3",
         171,
         72,
         4,
         4,
         "2023-05-28",
         342
        ],
        [
         3,
         "Product 3",
         "Category 3",
         171,
         72,
         37,
         16,
         "2023-09-20",
         149
        ],
        [
         3,
         "Product 3",
         "Category 3",
         171,
         72,
         68,
         4,
         "2023-06-12",
         864
        ],
        [
         3,
         "Product 3",
         "Category 3",
         171,
         72,
         70,
         17,
         "2023-01-09",
         897
        ],
        [
         3,
         "Product 3",
         "Category 3",
         171,
         72,
         89,
         11,
         "2023-11-25",
         512
        ],
        [
         3,
         "Product 3",
         "Category 3",
         171,
         72,
         92,
         2,
         "2023-05-11",
         308
        ],
        [
         3,
         "Product 3",
         "Category 3",
         171,
         72,
         97,
         6,
         "2023-06-20",
         974
        ],
        [
         4,
         "Product 4",
         "Category 3",
         154,
         43,
         11,
         16,
         "2023-04-07",
         273
        ],
        [
         4,
         "Product 4",
         "Category 3",
         154,
         43,
         22,
         9,
         "2023-03-09",
         111
        ],
        [
         4,
         "Product 4",
         "Category 3",
         154,
         43,
         35,
         12,
         "2023-12-18",
         170
        ],
        [
         4,
         "Product 4",
         "Category 3",
         154,
         43,
         40,
         3,
         "2023-03-14",
         696
        ],
        [
         4,
         "Product 4",
         "Category 3",
         154,
         43,
         42,
         11,
         "2023-06-24",
         877
        ],
        [
         4,
         "Product 4",
         "Category 3",
         154,
         43,
         51,
         19,
         "2023-10-24",
         535
        ],
        [
         4,
         "Product 4",
         "Category 3",
         154,
         43,
         55,
         7,
         "2023-06-13",
         243
        ],
        [
         4,
         "Product 4",
         "Category 3",
         154,
         43,
         66,
         2,
         "2023-04-25",
         279
        ],
        [
         4,
         "Product 4",
         "Category 3",
         154,
         43,
         67,
         1,
         "2023-10-13",
         769
        ],
        [
         4,
         "Product 4",
         "Category 3",
         154,
         43,
         99,
         4,
         "2023-12-09",
         265
        ],
        [
         5,
         "Product 5",
         "Category 2",
         207,
         96,
         10,
         19,
         "2023-09-12",
         667
        ],
        [
         5,
         "Product 5",
         "Category 2",
         207,
         96,
         27,
         5,
         "2023-05-25",
         407
        ],
        [
         5,
         "Product 5",
         "Category 2",
         207,
         96,
         28,
         1,
         "2023-08-21",
         326
        ],
        [
         5,
         "Product 5",
         "Category 2",
         207,
         96,
         52,
         6,
         "2023-10-04",
         588
        ],
        [
         5,
         "Product 5",
         "Category 2",
         207,
         96,
         56,
         11,
         "2023-02-24",
         853
        ],
        [
         5,
         "Product 5",
         "Category 2",
         207,
         96,
         58,
         5,
         "2023-02-24",
         549
        ],
        [
         5,
         "Product 5",
         "Category 2",
         207,
         96,
         69,
         6,
         "2023-11-02",
         222
        ],
        [
         5,
         "Product 5",
         "Category 2",
         207,
         96,
         78,
         11,
         "2023-09-18",
         838
        ],
        [
         5,
         "Product 5",
         "Category 2",
         207,
         96,
         90,
         16,
         "2023-11-14",
         712
        ],
        [
         5,
         "Product 5",
         "Category 2",
         207,
         96,
         91,
         4,
         "2023-06-11",
         113
        ],
        [
         6,
         "Product 6",
         "Category 3",
         496,
         37,
         5,
         15,
         "2023-04-18",
         91
        ],
        [
         6,
         "Product 6",
         "Category 3",
         496,
         37,
         9,
         17,
         "2023-07-07",
         151
        ],
        [
         6,
         "Product 6",
         "Category 3",
         496,
         37,
         12,
         19,
         "2023-12-10",
         568
        ],
        [
         6,
         "Product 6",
         "Category 3",
         496,
         37,
         20,
         4,
         "2023-10-04",
         591
        ],
        [
         6,
         "Product 6",
         "Category 3",
         496,
         37,
         23,
         7,
         "2023-09-08",
         263
        ],
        [
         6,
         "Product 6",
         "Category 3",
         496,
         37,
         29,
         18,
         "2023-03-05",
         325
        ],
        [
         6,
         "Product 6",
         "Category 3",
         496,
         37,
         30,
         15,
         "2023-11-21",
         454
        ],
        [
         6,
         "Product 6",
         "Category 3",
         496,
         37,
         54,
         8,
         "2023-05-03",
         504
        ],
        [
         6,
         "Product 6",
         "Category 3",
         496,
         37,
         83,
         12,
         "2023-06-17",
         168
        ],
        [
         6,
         "Product 6",
         "Category 3",
         496,
         37,
         86,
         5,
         "2023-07-11",
         991
        ],
        [
         6,
         "Product 6",
         "Category 3",
         496,
         37,
         88,
         18,
         "2023-08-15",
         673
        ],
        [
         7,
         "Product 7",
         "Category 1",
         166,
         23,
         32,
         15,
         "2023-01-10",
         337
        ],
        [
         7,
         "Product 7",
         "Category 1",
         166,
         23,
         36,
         13,
         "2023-04-02",
         519
        ],
        [
         7,
         "Product 7",
         "Category 1",
         166,
         23,
         43,
         8,
         "2023-11-25",
         88
        ],
        [
         7,
         "Product 7",
         "Category 1",
         166,
         23,
         46,
         10,
         "2023-12-16",
         939
        ],
        [
         7,
         "Product 7",
         "Category 1",
         166,
         23,
         63,
         17,
         "2023-12-14",
         529
        ],
        [
         7,
         "Product 7",
         "Category 1",
         166,
         23,
         64,
         5,
         "2023-06-24",
         413
        ],
        [
         7,
         "Product 7",
         "Category 1",
         166,
         23,
         65,
         19,
         "2023-12-08",
         734
        ],
        [
         7,
         "Product 7",
         "Category 1",
         166,
         23,
         79,
         6,
         "2023-08-23",
         437
        ],
        [
         7,
         "Product 7",
         "Category 1",
         166,
         23,
         80,
         12,
         "2023-09-22",
         262
        ],
        [
         7,
         "Product 7",
         "Category 1",
         166,
         23,
         82,
         8,
         "2023-05-24",
         873
        ],
        [
         8,
         "Product 8",
         "Category 1",
         205,
         81,
         14,
         16,
         "2023-01-09",
         45
        ],
        [
         8,
         "Product 8",
         "Category 1",
         205,
         81,
         16,
         10,
         "2023-03-21",
         561
        ],
        [
         8,
         "Product 8",
         "Category 1",
         205,
         81,
         17,
         18,
         "2023-07-04",
         818
        ],
        [
         8,
         "Product 8",
         "Category 1",
         205,
         81,
         19,
         20,
         "2023-06-05",
         221
        ],
        [
         8,
         "Product 8",
         "Category 1",
         205,
         81,
         26,
         17,
         "2023-11-25",
         940
        ],
        [
         8,
         "Product 8",
         "Category 1",
         205,
         81,
         44,
         17,
         "2023-12-04",
         304
        ],
        [
         8,
         "Product 8",
         "Category 1",
         205,
         81,
         57,
         13,
         "2023-10-27",
         288
        ],
        [
         8,
         "Product 8",
         "Category 1",
         205,
         81,
         62,
         2,
         "2023-09-28",
         373
        ],
        [
         8,
         "Product 8",
         "Category 1",
         205,
         81,
         71,
         4,
         "2023-05-23",
         352
        ],
        [
         8,
         "Product 8",
         "Category 1",
         205,
         81,
         72,
         4,
         "2023-03-27",
         690
        ],
        [
         8,
         "Product 8",
         "Category 1",
         205,
         81,
         76,
         1,
         "2023-03-01",
         93
        ],
        [
         8,
         "Product 8",
         "Category 1",
         205,
         81,
         81,
         1,
         "2023-06-14",
         115
        ],
        [
         8,
         "Product 8",
         "Category 1",
         205,
         81,
         85,
         20,
         "2023-05-19",
         568
        ],
        [
         9,
         "Product 9",
         "Category 3",
         303,
         13,
         2,
         19,
         "2023-07-03",
         227
        ],
        [
         9,
         "Product 9",
         "Category 3",
         303,
         13,
         6,
         14,
         "2023-09-27",
         391
        ],
        [
         9,
         "Product 9",
         "Category 3",
         303,
         13,
         41,
         6,
         "2023-06-26",
         111
        ],
        [
         9,
         "Product 9",
         "Category 3",
         303,
         13,
         45,
         4,
         "2023-04-05",
         879
        ],
        [
         9,
         "Product 9",
         "Category 3",
         303,
         13,
         74,
         20,
         "2023-12-27",
         308
        ],
        [
         9,
         "Product 9",
         "Category 3",
         303,
         13,
         93,
         12,
         "2023-11-07",
         472
        ],
        [
         9,
         "Product 9",
         "Category 3",
         303,
         13,
         95,
         18,
         "2023-12-18",
         260
        ],
        [
         10,
         "Product 10",
         "Category 1",
         447,
         95,
         3,
         9,
         "2023-10-25",
         891
        ],
        [
         10,
         "Product 10",
         "Category 1",
         447,
         95,
         18,
         13,
         "2023-09-26",
         263
        ],
        [
         10,
         "Product 10",
         "Category 1",
         447,
         95,
         25,
         4,
         "2023-05-23",
         748
        ],
        [
         10,
         "Product 10",
         "Category 1",
         447,
         95,
         31,
         11,
         "2023-04-23",
         57
        ],
        [
         10,
         "Product 10",
         "Category 1",
         447,
         95,
         34,
         7,
         "2023-06-21",
         581
        ],
        [
         10,
         "Product 10",
         "Category 1",
         447,
         95,
         38,
         19,
         "2023-06-12",
         891
        ],
        [
         10,
         "Product 10",
         "Category 1",
         447,
         95,
         49,
         20,
         "2023-12-16",
         41
        ],
        [
         10,
         "Product 10",
         "Category 1",
         447,
         95,
         50,
         13,
         "2023-10-15",
         960
        ],
        [
         10,
         "Product 10",
         "Category 1",
         447,
         95,
         59,
         9,
         "2023-08-09",
         323
        ],
        [
         10,
         "Product 10",
         "Category 1",
         447,
         95,
         73,
         10,
         "2023-01-14",
         695
        ]
       ],
       "datasetInfos": [],
       "dbfsResultPath": null,
       "isJsonSchema": true,
       "metadata": {},
       "overflow": false,
       "plotOptions": {
        "customPlotOptions": {},
        "displayType": "table",
        "pivotAggregation": null,
        "pivotColumns": null,
        "xColumns": null,
        "yColumns": null
       },
       "removedWidgets": [],
       "schema": [
        {
         "metadata": "{}",
         "name": "product_id",
         "type": "\"integer\""
        },
        {
         "metadata": "{}",
         "name": "product_name",
         "type": "\"string\""
        },
        {
         "metadata": "{}",
         "name": "category",
         "type": "\"string\""
        },
        {
         "metadata": "{}",
         "name": "price",
         "type": "\"integer\""
        },
        {
         "metadata": "{}",
         "name": "stock_quantity",
         "type": "\"integer\""
        },
        {
         "metadata": "{}",
         "name": "transaction_id",
         "type": "\"integer\""
        },
        {
         "metadata": "{}",
         "name": "customer_id",
         "type": "\"integer\""
        },
        {
         "metadata": "{\"__detected_date_formats\":\"yyyy-M-d\"}",
         "name": "transaction_date",
         "type": "\"date\""
        },
        {
         "metadata": "{}",
         "name": "amount_paid",
         "type": "\"integer\""
        }
       ],
       "type": "table"
      }
     },
     "output_type": "display_data"
    }
   ],
   "source": [
    "%sql\n",
    "select * from product_sales order by product_id"
   ]
  },
  {
   "cell_type": "markdown",
   "metadata": {
    "application/vnd.databricks.v1+cell": {
     "cellMetadata": {
      "byteLimit": 2048000,
      "rowLimit": 10000
     },
     "inputWidgets": {},
     "nuid": "9324c2a2-07d3-44bb-9de0-60d89be2a196",
     "showTitle": false,
     "title": ""
    }
   },
   "source": [
    "#####4) Calculate total sales amount per product and per customer."
   ]
  },
  {
   "cell_type": "code",
   "execution_count": 0,
   "metadata": {
    "application/vnd.databricks.v1+cell": {
     "cellMetadata": {
      "byteLimit": 2048000,
      "implicitDf": true,
      "rowLimit": 10000
     },
     "inputWidgets": {},
     "nuid": "08feaa61-2121-4312-b0e5-9391d1401c45",
     "showTitle": false,
     "title": ""
    }
   },
   "outputs": [
    {
     "output_type": "display_data",
     "data": {
      "text/html": [
       "<style scoped>\n",
       "  .table-result-container {\n",
       "    max-height: 300px;\n",
       "    overflow: auto;\n",
       "  }\n",
       "  table, th, td {\n",
       "    border: 1px solid black;\n",
       "    border-collapse: collapse;\n",
       "  }\n",
       "  th, td {\n",
       "    padding: 5px;\n",
       "  }\n",
       "  th {\n",
       "    text-align: left;\n",
       "  }\n",
       "</style><div class='table-result-container'><table class='table-result'><thead style='background-color: white'><tr><th>customer_id</th><th>product_id</th><th>total_sales</th></tr></thead><tbody><tr><td>1</td><td>1</td><td>25</td></tr><tr><td>1</td><td>4</td><td>769</td></tr><tr><td>1</td><td>8</td><td>208</td></tr><tr><td>1</td><td>5</td><td>326</td></tr><tr><td>2</td><td>2</td><td>993</td></tr><tr><td>2</td><td>3</td><td>308</td></tr><tr><td>2</td><td>1</td><td>25</td></tr><tr><td>2</td><td>4</td><td>279</td></tr><tr><td>2</td><td>8</td><td>373</td></tr><tr><td>3</td><td>1</td><td>676</td></tr><tr><td>3</td><td>3</td><td>613</td></tr><tr><td>3</td><td>4</td><td>696</td></tr><tr><td>4</td><td>10</td><td>748</td></tr><tr><td>4</td><td>9</td><td>879</td></tr><tr><td>4</td><td>3</td><td>1206</td></tr><tr><td>4</td><td>6</td><td>591</td></tr><tr><td>4</td><td>4</td><td>265</td></tr><tr><td>4</td><td>8</td><td>1042</td></tr><tr><td>4</td><td>5</td><td>113</td></tr><tr><td>5</td><td>7</td><td>413</td></tr><tr><td>5</td><td>6</td><td>991</td></tr><tr><td>5</td><td>2</td><td>830</td></tr><tr><td>5</td><td>5</td><td>956</td></tr><tr><td>6</td><td>1</td><td>1232</td></tr><tr><td>6</td><td>5</td><td>810</td></tr><tr><td>6</td><td>7</td><td>437</td></tr><tr><td>6</td><td>3</td><td>974</td></tr><tr><td>6</td><td>2</td><td>1031</td></tr><tr><td>6</td><td>9</td><td>111</td></tr><tr><td>7</td><td>4</td><td>243</td></tr><tr><td>7</td><td>10</td><td>581</td></tr><tr><td>7</td><td>6</td><td>263</td></tr><tr><td>8</td><td>7</td><td>961</td></tr><tr><td>8</td><td>6</td><td>504</td></tr><tr><td>9</td><td>10</td><td>1214</td></tr><tr><td>9</td><td>4</td><td>111</td></tr><tr><td>10</td><td>1</td><td>292</td></tr><tr><td>10</td><td>10</td><td>695</td></tr><tr><td>10</td><td>7</td><td>939</td></tr><tr><td>10</td><td>8</td><td>561</td></tr><tr><td>11</td><td>4</td><td>877</td></tr><tr><td>11</td><td>5</td><td>1691</td></tr><tr><td>11</td><td>3</td><td>512</td></tr><tr><td>11</td><td>2</td><td>77</td></tr><tr><td>11</td><td>10</td><td>57</td></tr><tr><td>12</td><td>7</td><td>262</td></tr><tr><td>12</td><td>4</td><td>170</td></tr><tr><td>12</td><td>9</td><td>472</td></tr><tr><td>12</td><td>6</td><td>168</td></tr><tr><td>13</td><td>10</td><td>1223</td></tr><tr><td>13</td><td>8</td><td>288</td></tr><tr><td>13</td><td>7</td><td>519</td></tr><tr><td>13</td><td>2</td><td>920</td></tr><tr><td>14</td><td>9</td><td>391</td></tr><tr><td>14</td><td>1</td><td>250</td></tr><tr><td>15</td><td>1</td><td>612</td></tr><tr><td>15</td><td>6</td><td>545</td></tr><tr><td>15</td><td>2</td><td>859</td></tr><tr><td>15</td><td>7</td><td>337</td></tr><tr><td>16</td><td>3</td><td>149</td></tr><tr><td>16</td><td>8</td><td>45</td></tr><tr><td>16</td><td>4</td><td>273</td></tr><tr><td>16</td><td>5</td><td>712</td></tr><tr><td>17</td><td>3</td><td>897</td></tr><tr><td>17</td><td>7</td><td>529</td></tr><tr><td>17</td><td>6</td><td>151</td></tr><tr><td>17</td><td>8</td><td>1244</td></tr><tr><td>18</td><td>1</td><td>789</td></tr><tr><td>18</td><td>9</td><td>260</td></tr><tr><td>18</td><td>8</td><td>818</td></tr><tr><td>18</td><td>6</td><td>998</td></tr><tr><td>18</td><td>2</td><td>812</td></tr><tr><td>19</td><td>4</td><td>535</td></tr><tr><td>19</td><td>6</td><td>568</td></tr><tr><td>19</td><td>7</td><td>734</td></tr><tr><td>19</td><td>9</td><td>227</td></tr><tr><td>19</td><td>5</td><td>667</td></tr><tr><td>19</td><td>10</td><td>891</td></tr><tr><td>20</td><td>8</td><td>789</td></tr><tr><td>20</td><td>10</td><td>41</td></tr><tr><td>20</td><td>9</td><td>308</td></tr></tbody></table></div>"
      ]
     },
     "metadata": {
      "application/vnd.databricks.v1+output": {
       "addedWidgets": {},
       "aggData": [],
       "aggError": "",
       "aggOverflow": false,
       "aggSchema": [],
       "aggSeriesLimitReached": false,
       "aggType": "",
       "arguments": {},
       "columnCustomDisplayInfos": {},
       "data": [
        [
         1,
         1,
         25
        ],
        [
         1,
         4,
         769
        ],
        [
         1,
         8,
         208
        ],
        [
         1,
         5,
         326
        ],
        [
         2,
         2,
         993
        ],
        [
         2,
         3,
         308
        ],
        [
         2,
         1,
         25
        ],
        [
         2,
         4,
         279
        ],
        [
         2,
         8,
         373
        ],
        [
         3,
         1,
         676
        ],
        [
         3,
         3,
         613
        ],
        [
         3,
         4,
         696
        ],
        [
         4,
         10,
         748
        ],
        [
         4,
         9,
         879
        ],
        [
         4,
         3,
         1206
        ],
        [
         4,
         6,
         591
        ],
        [
         4,
         4,
         265
        ],
        [
         4,
         8,
         1042
        ],
        [
         4,
         5,
         113
        ],
        [
         5,
         7,
         413
        ],
        [
         5,
         6,
         991
        ],
        [
         5,
         2,
         830
        ],
        [
         5,
         5,
         956
        ],
        [
         6,
         1,
         1232
        ],
        [
         6,
         5,
         810
        ],
        [
         6,
         7,
         437
        ],
        [
         6,
         3,
         974
        ],
        [
         6,
         2,
         1031
        ],
        [
         6,
         9,
         111
        ],
        [
         7,
         4,
         243
        ],
        [
         7,
         10,
         581
        ],
        [
         7,
         6,
         263
        ],
        [
         8,
         7,
         961
        ],
        [
         8,
         6,
         504
        ],
        [
         9,
         10,
         1214
        ],
        [
         9,
         4,
         111
        ],
        [
         10,
         1,
         292
        ],
        [
         10,
         10,
         695
        ],
        [
         10,
         7,
         939
        ],
        [
         10,
         8,
         561
        ],
        [
         11,
         4,
         877
        ],
        [
         11,
         5,
         1691
        ],
        [
         11,
         3,
         512
        ],
        [
         11,
         2,
         77
        ],
        [
         11,
         10,
         57
        ],
        [
         12,
         7,
         262
        ],
        [
         12,
         4,
         170
        ],
        [
         12,
         9,
         472
        ],
        [
         12,
         6,
         168
        ],
        [
         13,
         10,
         1223
        ],
        [
         13,
         8,
         288
        ],
        [
         13,
         7,
         519
        ],
        [
         13,
         2,
         920
        ],
        [
         14,
         9,
         391
        ],
        [
         14,
         1,
         250
        ],
        [
         15,
         1,
         612
        ],
        [
         15,
         6,
         545
        ],
        [
         15,
         2,
         859
        ],
        [
         15,
         7,
         337
        ],
        [
         16,
         3,
         149
        ],
        [
         16,
         8,
         45
        ],
        [
         16,
         4,
         273
        ],
        [
         16,
         5,
         712
        ],
        [
         17,
         3,
         897
        ],
        [
         17,
         7,
         529
        ],
        [
         17,
         6,
         151
        ],
        [
         17,
         8,
         1244
        ],
        [
         18,
         1,
         789
        ],
        [
         18,
         9,
         260
        ],
        [
         18,
         8,
         818
        ],
        [
         18,
         6,
         998
        ],
        [
         18,
         2,
         812
        ],
        [
         19,
         4,
         535
        ],
        [
         19,
         6,
         568
        ],
        [
         19,
         7,
         734
        ],
        [
         19,
         9,
         227
        ],
        [
         19,
         5,
         667
        ],
        [
         19,
         10,
         891
        ],
        [
         20,
         8,
         789
        ],
        [
         20,
         10,
         41
        ],
        [
         20,
         9,
         308
        ]
       ],
       "datasetInfos": [],
       "dbfsResultPath": null,
       "isJsonSchema": true,
       "metadata": {},
       "overflow": false,
       "plotOptions": {
        "customPlotOptions": {},
        "displayType": "table",
        "pivotAggregation": null,
        "pivotColumns": null,
        "xColumns": null,
        "yColumns": null
       },
       "removedWidgets": [],
       "schema": [
        {
         "metadata": "{}",
         "name": "customer_id",
         "type": "\"integer\""
        },
        {
         "metadata": "{}",
         "name": "product_id",
         "type": "\"integer\""
        },
        {
         "metadata": "{}",
         "name": "total_sales",
         "type": "\"long\""
        }
       ],
       "type": "table"
      }
     },
     "output_type": "display_data"
    }
   ],
   "source": [
    "%sql\n",
    "\n",
    "select customer_id,product_id,sum(amount_paid) as total_sales from customer_sales group by customer_id,product_id order by customer_id;\n"
   ]
  },
  {
   "cell_type": "markdown",
   "metadata": {
    "application/vnd.databricks.v1+cell": {
     "cellMetadata": {
      "byteLimit": 2048000,
      "rowLimit": 10000
     },
     "inputWidgets": {},
     "nuid": "21c66ef5-112a-47fe-af06-3f0c441e220d",
     "showTitle": false,
     "title": ""
    }
   },
   "source": [
    "####5)Determine top-selling products "
   ]
  },
  {
   "cell_type": "code",
   "execution_count": 0,
   "metadata": {
    "application/vnd.databricks.v1+cell": {
     "cellMetadata": {
      "byteLimit": 2048000,
      "implicitDf": true,
      "rowLimit": 10000
     },
     "inputWidgets": {},
     "nuid": "8002ecff-f67e-4f43-8ccb-ed41c9ae1608",
     "showTitle": false,
     "title": ""
    }
   },
   "outputs": [
    {
     "output_type": "display_data",
     "data": {
      "text/html": [
       "<style scoped>\n",
       "  .table-result-container {\n",
       "    max-height: 300px;\n",
       "    overflow: auto;\n",
       "  }\n",
       "  table, th, td {\n",
       "    border: 1px solid black;\n",
       "    border-collapse: collapse;\n",
       "  }\n",
       "  th, td {\n",
       "    padding: 5px;\n",
       "  }\n",
       "  th {\n",
       "    text-align: left;\n",
       "  }\n",
       "</style><div class='table-result-container'><table class='table-result'><thead style='background-color: white'><tr><th>product_id</th><th>sales_qty</th></tr></thead><tbody><tr><td>8</td><td>13</td></tr><tr><td>6</td><td>11</td></tr><tr><td>2</td><td>11</td></tr><tr><td>1</td><td>10</td></tr><tr><td>5</td><td>10</td></tr><tr><td>4</td><td>10</td></tr><tr><td>7</td><td>10</td></tr><tr><td>10</td><td>10</td></tr><tr><td>3</td><td>8</td></tr><tr><td>9</td><td>7</td></tr></tbody></table></div>"
      ]
     },
     "metadata": {
      "application/vnd.databricks.v1+output": {
       "addedWidgets": {},
       "aggData": [],
       "aggError": "",
       "aggOverflow": false,
       "aggSchema": [],
       "aggSeriesLimitReached": false,
       "aggType": "",
       "arguments": {},
       "columnCustomDisplayInfos": {},
       "data": [
        [
         8,
         13
        ],
        [
         6,
         11
        ],
        [
         2,
         11
        ],
        [
         1,
         10
        ],
        [
         5,
         10
        ],
        [
         4,
         10
        ],
        [
         7,
         10
        ],
        [
         10,
         10
        ],
        [
         3,
         8
        ],
        [
         9,
         7
        ]
       ],
       "datasetInfos": [],
       "dbfsResultPath": null,
       "isJsonSchema": true,
       "metadata": {},
       "overflow": false,
       "plotOptions": {
        "customPlotOptions": {},
        "displayType": "table",
        "pivotAggregation": null,
        "pivotColumns": null,
        "xColumns": null,
        "yColumns": null
       },
       "removedWidgets": [],
       "schema": [
        {
         "metadata": "{}",
         "name": "product_id",
         "type": "\"integer\""
        },
        {
         "metadata": "{}",
         "name": "sales_qty",
         "type": "\"long\""
        }
       ],
       "type": "table"
      }
     },
     "output_type": "display_data"
    }
   ],
   "source": [
    "%sql\n",
    "select product_id, count(transaction_id)as sales_qty from sales group by product_id order by count(transaction_id) desc"
   ]
  },
  {
   "cell_type": "markdown",
   "metadata": {
    "application/vnd.databricks.v1+cell": {
     "cellMetadata": {},
     "inputWidgets": {},
     "nuid": "741b10db-ab8e-40c5-9370-272559aaedc8",
     "showTitle": false,
     "title": ""
    }
   },
   "source": [
    "##Additional Question \n",
    "####Find the top selling product without using limit"
   ]
  },
  {
   "cell_type": "code",
   "execution_count": 0,
   "metadata": {
    "application/vnd.databricks.v1+cell": {
     "cellMetadata": {
      "byteLimit": 2048000,
      "implicitDf": true,
      "rowLimit": 10000
     },
     "inputWidgets": {},
     "nuid": "97e11dd4-cc1c-4d43-a25c-5cc38fb79b89",
     "showTitle": false,
     "title": ""
    }
   },
   "outputs": [
    {
     "output_type": "display_data",
     "data": {
      "text/html": [
       "<style scoped>\n",
       "  .table-result-container {\n",
       "    max-height: 300px;\n",
       "    overflow: auto;\n",
       "  }\n",
       "  table, th, td {\n",
       "    border: 1px solid black;\n",
       "    border-collapse: collapse;\n",
       "  }\n",
       "  th, td {\n",
       "    padding: 5px;\n",
       "  }\n",
       "  th {\n",
       "    text-align: left;\n",
       "  }\n",
       "</style><div class='table-result-container'><table class='table-result'><thead style='background-color: white'><tr><th>product_id</th><th>sales_qty</th></tr></thead><tbody><tr><td>8</td><td>13</td></tr></tbody></table></div>"
      ]
     },
     "metadata": {
      "application/vnd.databricks.v1+output": {
       "addedWidgets": {},
       "aggData": [],
       "aggError": "",
       "aggOverflow": false,
       "aggSchema": [],
       "aggSeriesLimitReached": false,
       "aggType": "",
       "arguments": {},
       "columnCustomDisplayInfos": {},
       "data": [
        [
         8,
         13
        ]
       ],
       "datasetInfos": [],
       "dbfsResultPath": null,
       "isJsonSchema": true,
       "metadata": {},
       "overflow": false,
       "plotOptions": {
        "customPlotOptions": {},
        "displayType": "table",
        "pivotAggregation": null,
        "pivotColumns": null,
        "xColumns": null,
        "yColumns": null
       },
       "removedWidgets": [],
       "schema": [
        {
         "metadata": "{}",
         "name": "product_id",
         "type": "\"integer\""
        },
        {
         "metadata": "{}",
         "name": "sales_qty",
         "type": "\"long\""
        }
       ],
       "type": "table"
      }
     },
     "output_type": "display_data"
    }
   ],
   "source": [
    "%sql\n",
    "select product_id,sales_qty from (select product_id, count(transaction_id)as sales_qty from sales group by product_id order by count(transaction_id) desc) where sales_qty = (select max(sales_qty) from (select product_id, count(transaction_id)as sales_qty from sales group by product_id order by count(transaction_id) desc))"
   ]
  },
  {
   "cell_type": "code",
   "execution_count": 0,
   "metadata": {
    "application/vnd.databricks.v1+cell": {
     "cellMetadata": {
      "byteLimit": 2048000,
      "implicitDf": true,
      "rowLimit": 10000
     },
     "inputWidgets": {},
     "nuid": "ca926d7f-c596-465a-8eae-28b0674c803a",
     "showTitle": false,
     "title": ""
    }
   },
   "outputs": [
    {
     "output_type": "display_data",
     "data": {
      "text/html": [
       "<style scoped>\n",
       "  .table-result-container {\n",
       "    max-height: 300px;\n",
       "    overflow: auto;\n",
       "  }\n",
       "  table, th, td {\n",
       "    border: 1px solid black;\n",
       "    border-collapse: collapse;\n",
       "  }\n",
       "  th, td {\n",
       "    padding: 5px;\n",
       "  }\n",
       "  th {\n",
       "    text-align: left;\n",
       "  }\n",
       "</style><div class='table-result-container'><table class='table-result'><thead style='background-color: white'><tr><th>product_id</th><th>sales_qty</th><th>row_number</th></tr></thead><tbody><tr><td>8</td><td>13</td><td>1</td></tr></tbody></table></div>"
      ]
     },
     "metadata": {
      "application/vnd.databricks.v1+output": {
       "addedWidgets": {},
       "aggData": [],
       "aggError": "",
       "aggOverflow": false,
       "aggSchema": [],
       "aggSeriesLimitReached": false,
       "aggType": "",
       "arguments": {},
       "columnCustomDisplayInfos": {},
       "data": [
        [
         8,
         13,
         1
        ]
       ],
       "datasetInfos": [],
       "dbfsResultPath": null,
       "isJsonSchema": true,
       "metadata": {},
       "overflow": false,
       "plotOptions": {
        "customPlotOptions": {},
        "displayType": "table",
        "pivotAggregation": null,
        "pivotColumns": null,
        "xColumns": null,
        "yColumns": null
       },
       "removedWidgets": [],
       "schema": [
        {
         "metadata": "{}",
         "name": "product_id",
         "type": "\"integer\""
        },
        {
         "metadata": "{}",
         "name": "sales_qty",
         "type": "\"long\""
        },
        {
         "metadata": "{}",
         "name": "row_number",
         "type": "\"integer\""
        }
       ],
       "type": "table"
      }
     },
     "output_type": "display_data"
    }
   ],
   "source": [
    "%sql\n",
    "with cte2 as(with cte1 as (select product_id, count(transaction_id)as sales_qty from sales group by product_id order by count(transaction_id) desc)\n",
    "select *,row_number() over(order by sales_qty desc) as row_number from cte1)\n",
    "select * from cte2 where row_number = 1"
   ]
  },
  {
   "cell_type": "markdown",
   "metadata": {
    "application/vnd.databricks.v1+cell": {
     "cellMetadata": {},
     "inputWidgets": {},
     "nuid": "0bab4849-7c48-4613-8ab2-18c13622498e",
     "showTitle": false,
     "title": ""
    }
   },
   "source": [
    "##Additional Question \n",
    "###Find the least selling product without using limit"
   ]
  },
  {
   "cell_type": "code",
   "execution_count": 0,
   "metadata": {
    "application/vnd.databricks.v1+cell": {
     "cellMetadata": {
      "byteLimit": 2048000,
      "implicitDf": true,
      "rowLimit": 10000
     },
     "inputWidgets": {},
     "nuid": "2b973ae4-5ebb-4620-9e8b-e769caced68c",
     "showTitle": false,
     "title": ""
    }
   },
   "outputs": [
    {
     "output_type": "display_data",
     "data": {
      "text/html": [
       "<style scoped>\n",
       "  .table-result-container {\n",
       "    max-height: 300px;\n",
       "    overflow: auto;\n",
       "  }\n",
       "  table, th, td {\n",
       "    border: 1px solid black;\n",
       "    border-collapse: collapse;\n",
       "  }\n",
       "  th, td {\n",
       "    padding: 5px;\n",
       "  }\n",
       "  th {\n",
       "    text-align: left;\n",
       "  }\n",
       "</style><div class='table-result-container'><table class='table-result'><thead style='background-color: white'><tr><th>product_id</th><th>sales_qty</th><th>row_number</th></tr></thead><tbody><tr><td>9</td><td>7</td><td>1</td></tr></tbody></table></div>"
      ]
     },
     "metadata": {
      "application/vnd.databricks.v1+output": {
       "addedWidgets": {},
       "aggData": [],
       "aggError": "",
       "aggOverflow": false,
       "aggSchema": [],
       "aggSeriesLimitReached": false,
       "aggType": "",
       "arguments": {},
       "columnCustomDisplayInfos": {},
       "data": [
        [
         9,
         7,
         1
        ]
       ],
       "datasetInfos": [],
       "dbfsResultPath": null,
       "isJsonSchema": true,
       "metadata": {},
       "overflow": false,
       "plotOptions": {
        "customPlotOptions": {},
        "displayType": "table",
        "pivotAggregation": null,
        "pivotColumns": null,
        "xColumns": null,
        "yColumns": null
       },
       "removedWidgets": [],
       "schema": [
        {
         "metadata": "{}",
         "name": "product_id",
         "type": "\"integer\""
        },
        {
         "metadata": "{}",
         "name": "sales_qty",
         "type": "\"long\""
        },
        {
         "metadata": "{}",
         "name": "row_number",
         "type": "\"integer\""
        }
       ],
       "type": "table"
      }
     },
     "output_type": "display_data"
    }
   ],
   "source": [
    "%sql\n",
    "with cte2 as(with cte1 as (select product_id, count(transaction_id)as sales_qty from sales group by product_id order by count(transaction_id) )\n",
    "select *,row_number() over(order by sales_qty ) as row_number from cte1)\n",
    "select * from cte2 where row_number = 1"
   ]
  },
  {
   "cell_type": "code",
   "execution_count": 0,
   "metadata": {
    "application/vnd.databricks.v1+cell": {
     "cellMetadata": {
      "byteLimit": 2048000,
      "implicitDf": true,
      "rowLimit": 10000
     },
     "inputWidgets": {},
     "nuid": "bfa5e541-82ce-412c-8bea-50324a6f5ef2",
     "showTitle": false,
     "title": ""
    }
   },
   "outputs": [
    {
     "output_type": "display_data",
     "data": {
      "text/html": [
       "<style scoped>\n",
       "  .table-result-container {\n",
       "    max-height: 300px;\n",
       "    overflow: auto;\n",
       "  }\n",
       "  table, th, td {\n",
       "    border: 1px solid black;\n",
       "    border-collapse: collapse;\n",
       "  }\n",
       "  th, td {\n",
       "    padding: 5px;\n",
       "  }\n",
       "  th {\n",
       "    text-align: left;\n",
       "  }\n",
       "</style><div class='table-result-container'><table class='table-result'><thead style='background-color: white'><tr><th>product_id</th><th>sales_qty</th><th>row_number</th></tr></thead><tbody><tr><td>8</td><td>13</td><td>1</td></tr><tr><td>6</td><td>11</td><td>2</td></tr><tr><td>2</td><td>11</td><td>3</td></tr><tr><td>1</td><td>10</td><td>4</td></tr><tr><td>5</td><td>10</td><td>5</td></tr><tr><td>4</td><td>10</td><td>6</td></tr><tr><td>7</td><td>10</td><td>7</td></tr><tr><td>10</td><td>10</td><td>8</td></tr><tr><td>3</td><td>8</td><td>9</td></tr><tr><td>9</td><td>7</td><td>10</td></tr></tbody></table></div>"
      ]
     },
     "metadata": {
      "application/vnd.databricks.v1+output": {
       "addedWidgets": {},
       "aggData": [],
       "aggError": "",
       "aggOverflow": false,
       "aggSchema": [],
       "aggSeriesLimitReached": false,
       "aggType": "",
       "arguments": {},
       "columnCustomDisplayInfos": {},
       "data": [
        [
         8,
         13,
         1
        ],
        [
         6,
         11,
         2
        ],
        [
         2,
         11,
         3
        ],
        [
         1,
         10,
         4
        ],
        [
         5,
         10,
         5
        ],
        [
         4,
         10,
         6
        ],
        [
         7,
         10,
         7
        ],
        [
         10,
         10,
         8
        ],
        [
         3,
         8,
         9
        ],
        [
         9,
         7,
         10
        ]
       ],
       "datasetInfos": [],
       "dbfsResultPath": null,
       "isJsonSchema": true,
       "metadata": {},
       "overflow": false,
       "plotOptions": {
        "customPlotOptions": {},
        "displayType": "table",
        "pivotAggregation": null,
        "pivotColumns": null,
        "xColumns": null,
        "yColumns": null
       },
       "removedWidgets": [],
       "schema": [
        {
         "metadata": "{}",
         "name": "product_id",
         "type": "\"integer\""
        },
        {
         "metadata": "{}",
         "name": "sales_qty",
         "type": "\"long\""
        },
        {
         "metadata": "{}",
         "name": "row_number",
         "type": "\"integer\""
        }
       ],
       "type": "table"
      }
     },
     "output_type": "display_data"
    }
   ],
   "source": [
    "%sql\n",
    "select product_id, count(transaction_id)as sales_qty, row_number() over(order by count(transaction_id) desc ) as row_number from sales group by product_id where  ;"
   ]
  },
  {
   "cell_type": "markdown",
   "metadata": {
    "application/vnd.databricks.v1+cell": {
     "cellMetadata": {
      "byteLimit": 2048000,
      "rowLimit": 10000
     },
     "inputWidgets": {},
     "nuid": "adb0d4e1-cff8-4fd5-9ecd-deafb253d3cf",
     "showTitle": false,
     "title": ""
    }
   },
   "source": [
    "####5) Determine highest-performing employees\n"
   ]
  },
  {
   "cell_type": "code",
   "execution_count": 0,
   "metadata": {
    "application/vnd.databricks.v1+cell": {
     "cellMetadata": {
      "byteLimit": 2048000,
      "implicitDf": true,
      "rowLimit": 10000
     },
     "inputWidgets": {},
     "nuid": "be459b63-c93e-4ca0-a34e-576517d73dad",
     "showTitle": false,
     "title": ""
    }
   },
   "outputs": [
    {
     "output_type": "display_data",
     "data": {
      "text/html": [
       "<style scoped>\n",
       "  .table-result-container {\n",
       "    max-height: 300px;\n",
       "    overflow: auto;\n",
       "  }\n",
       "  table, th, td {\n",
       "    border: 1px solid black;\n",
       "    border-collapse: collapse;\n",
       "  }\n",
       "  th, td {\n",
       "    padding: 5px;\n",
       "  }\n",
       "  th {\n",
       "    text-align: left;\n",
       "  }\n",
       "</style><div class='table-result-container'><table class='table-result'><thead style='background-color: white'><tr><th>employee_id</th><th>total_sales_amt</th></tr></thead><tbody><tr><td>9</td><td>10859</td></tr><tr><td>6</td><td>5853</td></tr><tr><td>1</td><td>5729</td></tr><tr><td>10</td><td>5327</td></tr><tr><td>5</td><td>5172</td></tr><tr><td>7</td><td>4181</td></tr><tr><td>8</td><td>4064</td></tr><tr><td>4</td><td>3024</td></tr><tr><td>2</td><td>2992</td></tr><tr><td>3</td><td>2395</td></tr></tbody></table></div>"
      ]
     },
     "metadata": {
      "application/vnd.databricks.v1+output": {
       "addedWidgets": {},
       "aggData": [],
       "aggError": "",
       "aggOverflow": false,
       "aggSchema": [],
       "aggSeriesLimitReached": false,
       "aggType": "",
       "arguments": {},
       "columnCustomDisplayInfos": {},
       "data": [
        [
         9,
         10859
        ],
        [
         6,
         5853
        ],
        [
         1,
         5729
        ],
        [
         10,
         5327
        ],
        [
         5,
         5172
        ],
        [
         7,
         4181
        ],
        [
         8,
         4064
        ],
        [
         4,
         3024
        ],
        [
         2,
         2992
        ],
        [
         3,
         2395
        ]
       ],
       "datasetInfos": [],
       "dbfsResultPath": null,
       "isJsonSchema": true,
       "metadata": {},
       "overflow": false,
       "plotOptions": {
        "customPlotOptions": {},
        "displayType": "table",
        "pivotAggregation": null,
        "pivotColumns": null,
        "xColumns": null,
        "yColumns": null
       },
       "removedWidgets": [],
       "schema": [
        {
         "metadata": "{}",
         "name": "employee_id",
         "type": "\"integer\""
        },
        {
         "metadata": "{}",
         "name": "total_sales_amt",
         "type": "\"long\""
        }
       ],
       "type": "table"
      }
     },
     "output_type": "display_data"
    }
   ],
   "source": [
    "%sql\n",
    "-- determine highest-performing employees\n",
    "\n",
    "select employee_id, sum(amount)as total_sales_amt from employee_sale group by employee_id order by total_sales_amt desc;\n"
   ]
  },
  {
   "cell_type": "markdown",
   "metadata": {
    "application/vnd.databricks.v1+cell": {
     "cellMetadata": {
      "byteLimit": 2048000,
      "rowLimit": 10000
     },
     "inputWidgets": {},
     "nuid": "c6d4c370-cdb4-4683-ad37-803d414bbd26",
     "showTitle": false,
     "title": ""
    }
   },
   "source": [
    "####6) Aggregate sales data to analyze monthly and yearly trends."
   ]
  },
  {
   "cell_type": "code",
   "execution_count": 0,
   "metadata": {
    "application/vnd.databricks.v1+cell": {
     "cellMetadata": {
      "byteLimit": 2048000,
      "implicitDf": true,
      "rowLimit": 10000
     },
     "inputWidgets": {},
     "nuid": "42b5f5bb-0fe5-4c02-915d-9a3eadbcad51",
     "showTitle": false,
     "title": ""
    }
   },
   "outputs": [
    {
     "output_type": "display_data",
     "data": {
      "text/html": [
       "<style scoped>\n",
       "  .table-result-container {\n",
       "    max-height: 300px;\n",
       "    overflow: auto;\n",
       "  }\n",
       "  table, th, td {\n",
       "    border: 1px solid black;\n",
       "    border-collapse: collapse;\n",
       "  }\n",
       "  th, td {\n",
       "    padding: 5px;\n",
       "  }\n",
       "  th {\n",
       "    text-align: left;\n",
       "  }\n",
       "</style><div class='table-result-container'><table class='table-result'><thead style='background-color: white'><tr><th>month</th><th>monthly_sales_amt</th></tr></thead><tbody><tr><td>1</td><td>2038</td></tr><tr><td>2</td><td>2319</td></tr><tr><td>3</td><td>3203</td></tr><tr><td>4</td><td>2953</td></tr><tr><td>5</td><td>4876</td></tr><tr><td>6</td><td>6602</td></tr><tr><td>7</td><td>4238</td></tr><tr><td>8</td><td>2009</td></tr><tr><td>9</td><td>3283</td></tr><tr><td>10</td><td>4622</td></tr><tr><td>11</td><td>4440</td></tr><tr><td>12</td><td>6368</td></tr></tbody></table></div>"
      ]
     },
     "metadata": {
      "application/vnd.databricks.v1+output": {
       "addedWidgets": {},
       "aggData": [],
       "aggError": "",
       "aggOverflow": false,
       "aggSchema": [],
       "aggSeriesLimitReached": false,
       "aggType": "",
       "arguments": {},
       "columnCustomDisplayInfos": {},
       "data": [
        [
         1,
         2038
        ],
        [
         2,
         2319
        ],
        [
         3,
         3203
        ],
        [
         4,
         2953
        ],
        [
         5,
         4876
        ],
        [
         6,
         6602
        ],
        [
         7,
         4238
        ],
        [
         8,
         2009
        ],
        [
         9,
         3283
        ],
        [
         10,
         4622
        ],
        [
         11,
         4440
        ],
        [
         12,
         6368
        ]
       ],
       "datasetInfos": [],
       "dbfsResultPath": null,
       "isJsonSchema": true,
       "metadata": {},
       "overflow": false,
       "plotOptions": {
        "customPlotOptions": {},
        "displayType": "table",
        "pivotAggregation": null,
        "pivotColumns": null,
        "xColumns": null,
        "yColumns": null
       },
       "removedWidgets": [],
       "schema": [
        {
         "metadata": "{}",
         "name": "month",
         "type": "\"integer\""
        },
        {
         "metadata": "{}",
         "name": "monthly_sales_amt",
         "type": "\"long\""
        }
       ],
       "type": "table"
      }
     },
     "output_type": "display_data"
    }
   ],
   "source": [
    "%sql\n",
    "-- Aggregate sales data to analyze monthly and yearly trends.\n",
    "SELECT MONTH(TO_DATE(transaction_date, 'YYYY/MM/DD')) AS month,sum(amount_paid) as monthly_sales_amt\n",
    "FROM sales group by month order by month;\n",
    "\n"
   ]
  },
  {
   "cell_type": "code",
   "execution_count": 0,
   "metadata": {
    "application/vnd.databricks.v1+cell": {
     "cellMetadata": {
      "byteLimit": 2048000,
      "implicitDf": true,
      "rowLimit": 10000
     },
     "inputWidgets": {},
     "nuid": "4bd0063b-9631-47ac-8ffd-e7b752a75b62",
     "showTitle": false,
     "title": ""
    }
   },
   "outputs": [
    {
     "output_type": "display_data",
     "data": {
      "text/html": [
       "<style scoped>\n",
       "  .table-result-container {\n",
       "    max-height: 300px;\n",
       "    overflow: auto;\n",
       "  }\n",
       "  table, th, td {\n",
       "    border: 1px solid black;\n",
       "    border-collapse: collapse;\n",
       "  }\n",
       "  th, td {\n",
       "    padding: 5px;\n",
       "  }\n",
       "  th {\n",
       "    text-align: left;\n",
       "  }\n",
       "</style><div class='table-result-container'><table class='table-result'><thead style='background-color: white'><tr><th>transaction_id</th><th>customer_id</th><th>product_id</th><th>transaction_date</th><th>amount_paid</th></tr></thead><tbody><tr><td>1</td><td>3</td><td>3</td><td>2023-05-01</td><td>613</td></tr><tr><td>2</td><td>19</td><td>9</td><td>2023-07-03</td><td>227</td></tr><tr><td>3</td><td>9</td><td>10</td><td>2023-10-25</td><td>891</td></tr><tr><td>4</td><td>4</td><td>3</td><td>2023-05-28</td><td>342</td></tr><tr><td>5</td><td>15</td><td>6</td><td>2023-04-18</td><td>91</td></tr><tr><td>6</td><td>14</td><td>9</td><td>2023-09-27</td><td>391</td></tr><tr><td>7</td><td>6</td><td>1</td><td>2023-12-16</td><td>654</td></tr><tr><td>8</td><td>13</td><td>2</td><td>2023-12-09</td><td>920</td></tr><tr><td>9</td><td>17</td><td>6</td><td>2023-07-07</td><td>151</td></tr><tr><td>10</td><td>19</td><td>5</td><td>2023-09-12</td><td>667</td></tr><tr><td>11</td><td>16</td><td>4</td><td>2023-04-07</td><td>273</td></tr><tr><td>12</td><td>19</td><td>6</td><td>2023-12-10</td><td>568</td></tr><tr><td>13</td><td>18</td><td>2</td><td>2023-11-28</td><td>748</td></tr><tr><td>14</td><td>16</td><td>8</td><td>2023-01-09</td><td>45</td></tr><tr><td>15</td><td>15</td><td>1</td><td>2023-02-07</td><td>612</td></tr><tr><td>16</td><td>10</td><td>8</td><td>2023-03-21</td><td>561</td></tr><tr><td>17</td><td>18</td><td>8</td><td>2023-07-04</td><td>818</td></tr><tr><td>18</td><td>13</td><td>10</td><td>2023-09-26</td><td>263</td></tr><tr><td>19</td><td>20</td><td>8</td><td>2023-06-05</td><td>221</td></tr><tr><td>20</td><td>4</td><td>6</td><td>2023-10-04</td><td>591</td></tr><tr><td>21</td><td>6</td><td>2</td><td>2023-06-09</td><td>912</td></tr><tr><td>22</td><td>9</td><td>4</td><td>2023-03-09</td><td>111</td></tr><tr><td>23</td><td>7</td><td>6</td><td>2023-09-08</td><td>263</td></tr><tr><td>24</td><td>18</td><td>2</td><td>2023-01-06</td><td>64</td></tr><tr><td>25</td><td>4</td><td>10</td><td>2023-05-23</td><td>748</td></tr><tr><td>26</td><td>17</td><td>8</td><td>2023-11-25</td><td>940</td></tr><tr><td>27</td><td>5</td><td>5</td><td>2023-05-25</td><td>407</td></tr><tr><td>28</td><td>1</td><td>5</td><td>2023-08-21</td><td>326</td></tr><tr><td>29</td><td>18</td><td>6</td><td>2023-03-05</td><td>325</td></tr><tr><td>30</td><td>15</td><td>6</td><td>2023-11-21</td><td>454</td></tr><tr><td>31</td><td>11</td><td>10</td><td>2023-04-23</td><td>57</td></tr><tr><td>32</td><td>15</td><td>7</td><td>2023-01-10</td><td>337</td></tr><tr><td>33</td><td>6</td><td>2</td><td>2023-06-01</td><td>119</td></tr><tr><td>34</td><td>7</td><td>10</td><td>2023-06-21</td><td>581</td></tr><tr><td>35</td><td>12</td><td>4</td><td>2023-12-18</td><td>170</td></tr><tr><td>36</td><td>13</td><td>7</td><td>2023-04-02</td><td>519</td></tr><tr><td>37</td><td>16</td><td>3</td><td>2023-09-20</td><td>149</td></tr><tr><td>38</td><td>19</td><td>10</td><td>2023-06-12</td><td>891</td></tr><tr><td>39</td><td>14</td><td>1</td><td>2023-08-07</td><td>250</td></tr><tr><td>40</td><td>3</td><td>4</td><td>2023-03-14</td><td>696</td></tr><tr><td>41</td><td>6</td><td>9</td><td>2023-06-26</td><td>111</td></tr><tr><td>42</td><td>11</td><td>4</td><td>2023-06-24</td><td>877</td></tr><tr><td>43</td><td>8</td><td>7</td><td>2023-11-25</td><td>88</td></tr><tr><td>44</td><td>17</td><td>8</td><td>2023-12-04</td><td>304</td></tr><tr><td>45</td><td>4</td><td>9</td><td>2023-04-05</td><td>879</td></tr><tr><td>46</td><td>10</td><td>7</td><td>2023-12-16</td><td>939</td></tr><tr><td>47</td><td>3</td><td>1</td><td>2023-12-06</td><td>676</td></tr><tr><td>48</td><td>5</td><td>2</td><td>2023-04-15</td><td>830</td></tr><tr><td>49</td><td>20</td><td>10</td><td>2023-12-16</td><td>41</td></tr><tr><td>50</td><td>13</td><td>10</td><td>2023-10-15</td><td>960</td></tr><tr><td>51</td><td>19</td><td>4</td><td>2023-10-24</td><td>535</td></tr><tr><td>52</td><td>6</td><td>5</td><td>2023-10-04</td><td>588</td></tr><tr><td>53</td><td>2</td><td>2</td><td>2023-05-21</td><td>161</td></tr><tr><td>54</td><td>8</td><td>6</td><td>2023-05-03</td><td>504</td></tr><tr><td>55</td><td>7</td><td>4</td><td>2023-06-13</td><td>243</td></tr><tr><td>56</td><td>11</td><td>5</td><td>2023-02-24</td><td>853</td></tr><tr><td>57</td><td>13</td><td>8</td><td>2023-10-27</td><td>288</td></tr><tr><td>58</td><td>5</td><td>5</td><td>2023-02-24</td><td>549</td></tr><tr><td>59</td><td>9</td><td>10</td><td>2023-08-09</td><td>323</td></tr><tr><td>60</td><td>10</td><td>1</td><td>2023-11-21</td><td>292</td></tr><tr><td>61</td><td>2</td><td>2</td><td>2023-07-22</td><td>832</td></tr><tr><td>62</td><td>2</td><td>8</td><td>2023-09-28</td><td>373</td></tr><tr><td>63</td><td>17</td><td>7</td><td>2023-12-14</td><td>529</td></tr><tr><td>64</td><td>5</td><td>7</td><td>2023-06-24</td><td>413</td></tr><tr><td>65</td><td>19</td><td>7</td><td>2023-12-08</td><td>734</td></tr><tr><td>66</td><td>2</td><td>4</td><td>2023-04-25</td><td>279</td></tr><tr><td>67</td><td>1</td><td>4</td><td>2023-10-13</td><td>769</td></tr><tr><td>68</td><td>4</td><td>3</td><td>2023-06-12</td><td>864</td></tr><tr><td>69</td><td>6</td><td>5</td><td>2023-11-02</td><td>222</td></tr><tr><td>70</td><td>17</td><td>3</td><td>2023-01-09</td><td>897</td></tr><tr><td>71</td><td>4</td><td>8</td><td>2023-05-23</td><td>352</td></tr><tr><td>72</td><td>4</td><td>8</td><td>2023-03-27</td><td>690</td></tr><tr><td>73</td><td>10</td><td>10</td><td>2023-01-14</td><td>695</td></tr><tr><td>74</td><td>20</td><td>9</td><td>2023-12-27</td><td>308</td></tr><tr><td>75</td><td>2</td><td>1</td><td>2023-03-10</td><td>25</td></tr><tr><td>76</td><td>1</td><td>8</td><td>2023-03-01</td><td>93</td></tr><tr><td>77</td><td>11</td><td>2</td><td>2023-09-13</td><td>77</td></tr><tr><td>78</td><td>11</td><td>5</td><td>2023-09-18</td><td>838</td></tr><tr><td>79</td><td>6</td><td>7</td><td>2023-08-23</td><td>437</td></tr><tr><td>80</td><td>12</td><td>7</td><td>2023-09-22</td><td>262</td></tr><tr><td>81</td><td>1</td><td>8</td><td>2023-06-14</td><td>115</td></tr><tr><td>82</td><td>8</td><td>7</td><td>2023-05-24</td><td>873</td></tr><tr><td>83</td><td>12</td><td>6</td><td>2023-06-17</td><td>168</td></tr><tr><td>84</td><td>18</td><td>1</td><td>2023-07-17</td><td>484</td></tr><tr><td>85</td><td>20</td><td>8</td><td>2023-05-19</td><td>568</td></tr><tr><td>86</td><td>5</td><td>6</td><td>2023-07-11</td><td>991</td></tr><tr><td>87</td><td>1</td><td>1</td><td>2023-04-07</td><td>25</td></tr><tr><td>88</td><td>18</td><td>6</td><td>2023-08-15</td><td>673</td></tr><tr><td>89</td><td>11</td><td>3</td><td>2023-11-25</td><td>512</td></tr><tr><td>90</td><td>16</td><td>5</td><td>2023-11-14</td><td>712</td></tr><tr><td>91</td><td>4</td><td>5</td><td>2023-06-11</td><td>113</td></tr><tr><td>92</td><td>2</td><td>3</td><td>2023-05-11</td><td>308</td></tr><tr><td>93</td><td>12</td><td>9</td><td>2023-11-07</td><td>472</td></tr><tr><td>94</td><td>18</td><td>1</td><td>2023-02-08</td><td>305</td></tr><tr><td>95</td><td>18</td><td>9</td><td>2023-12-18</td><td>260</td></tr><tr><td>96</td><td>15</td><td>2</td><td>2023-03-05</td><td>124</td></tr><tr><td>97</td><td>6</td><td>3</td><td>2023-06-20</td><td>974</td></tr><tr><td>98</td><td>6</td><td>1</td><td>2023-03-26</td><td>578</td></tr><tr><td>99</td><td>4</td><td>4</td><td>2023-12-09</td><td>265</td></tr><tr><td>100</td><td>15</td><td>2</td><td>2023-07-24</td><td>735</td></tr></tbody></table></div>"
      ]
     },
     "metadata": {
      "application/vnd.databricks.v1+output": {
       "addedWidgets": {},
       "aggData": [],
       "aggError": "",
       "aggOverflow": false,
       "aggSchema": [],
       "aggSeriesLimitReached": false,
       "aggType": "",
       "arguments": {},
       "columnCustomDisplayInfos": {},
       "data": [
        [
         1,
         3,
         3,
         "2023-05-01",
         613
        ],
        [
         2,
         19,
         9,
         "2023-07-03",
         227
        ],
        [
         3,
         9,
         10,
         "2023-10-25",
         891
        ],
        [
         4,
         4,
         3,
         "2023-05-28",
         342
        ],
        [
         5,
         15,
         6,
         "2023-04-18",
         91
        ],
        [
         6,
         14,
         9,
         "2023-09-27",
         391
        ],
        [
         7,
         6,
         1,
         "2023-12-16",
         654
        ],
        [
         8,
         13,
         2,
         "2023-12-09",
         920
        ],
        [
         9,
         17,
         6,
         "2023-07-07",
         151
        ],
        [
         10,
         19,
         5,
         "2023-09-12",
         667
        ],
        [
         11,
         16,
         4,
         "2023-04-07",
         273
        ],
        [
         12,
         19,
         6,
         "2023-12-10",
         568
        ],
        [
         13,
         18,
         2,
         "2023-11-28",
         748
        ],
        [
         14,
         16,
         8,
         "2023-01-09",
         45
        ],
        [
         15,
         15,
         1,
         "2023-02-07",
         612
        ],
        [
         16,
         10,
         8,
         "2023-03-21",
         561
        ],
        [
         17,
         18,
         8,
         "2023-07-04",
         818
        ],
        [
         18,
         13,
         10,
         "2023-09-26",
         263
        ],
        [
         19,
         20,
         8,
         "2023-06-05",
         221
        ],
        [
         20,
         4,
         6,
         "2023-10-04",
         591
        ],
        [
         21,
         6,
         2,
         "2023-06-09",
         912
        ],
        [
         22,
         9,
         4,
         "2023-03-09",
         111
        ],
        [
         23,
         7,
         6,
         "2023-09-08",
         263
        ],
        [
         24,
         18,
         2,
         "2023-01-06",
         64
        ],
        [
         25,
         4,
         10,
         "2023-05-23",
         748
        ],
        [
         26,
         17,
         8,
         "2023-11-25",
         940
        ],
        [
         27,
         5,
         5,
         "2023-05-25",
         407
        ],
        [
         28,
         1,
         5,
         "2023-08-21",
         326
        ],
        [
         29,
         18,
         6,
         "2023-03-05",
         325
        ],
        [
         30,
         15,
         6,
         "2023-11-21",
         454
        ],
        [
         31,
         11,
         10,
         "2023-04-23",
         57
        ],
        [
         32,
         15,
         7,
         "2023-01-10",
         337
        ],
        [
         33,
         6,
         2,
         "2023-06-01",
         119
        ],
        [
         34,
         7,
         10,
         "2023-06-21",
         581
        ],
        [
         35,
         12,
         4,
         "2023-12-18",
         170
        ],
        [
         36,
         13,
         7,
         "2023-04-02",
         519
        ],
        [
         37,
         16,
         3,
         "2023-09-20",
         149
        ],
        [
         38,
         19,
         10,
         "2023-06-12",
         891
        ],
        [
         39,
         14,
         1,
         "2023-08-07",
         250
        ],
        [
         40,
         3,
         4,
         "2023-03-14",
         696
        ],
        [
         41,
         6,
         9,
         "2023-06-26",
         111
        ],
        [
         42,
         11,
         4,
         "2023-06-24",
         877
        ],
        [
         43,
         8,
         7,
         "2023-11-25",
         88
        ],
        [
         44,
         17,
         8,
         "2023-12-04",
         304
        ],
        [
         45,
         4,
         9,
         "2023-04-05",
         879
        ],
        [
         46,
         10,
         7,
         "2023-12-16",
         939
        ],
        [
         47,
         3,
         1,
         "2023-12-06",
         676
        ],
        [
         48,
         5,
         2,
         "2023-04-15",
         830
        ],
        [
         49,
         20,
         10,
         "2023-12-16",
         41
        ],
        [
         50,
         13,
         10,
         "2023-10-15",
         960
        ],
        [
         51,
         19,
         4,
         "2023-10-24",
         535
        ],
        [
         52,
         6,
         5,
         "2023-10-04",
         588
        ],
        [
         53,
         2,
         2,
         "2023-05-21",
         161
        ],
        [
         54,
         8,
         6,
         "2023-05-03",
         504
        ],
        [
         55,
         7,
         4,
         "2023-06-13",
         243
        ],
        [
         56,
         11,
         5,
         "2023-02-24",
         853
        ],
        [
         57,
         13,
         8,
         "2023-10-27",
         288
        ],
        [
         58,
         5,
         5,
         "2023-02-24",
         549
        ],
        [
         59,
         9,
         10,
         "2023-08-09",
         323
        ],
        [
         60,
         10,
         1,
         "2023-11-21",
         292
        ],
        [
         61,
         2,
         2,
         "2023-07-22",
         832
        ],
        [
         62,
         2,
         8,
         "2023-09-28",
         373
        ],
        [
         63,
         17,
         7,
         "2023-12-14",
         529
        ],
        [
         64,
         5,
         7,
         "2023-06-24",
         413
        ],
        [
         65,
         19,
         7,
         "2023-12-08",
         734
        ],
        [
         66,
         2,
         4,
         "2023-04-25",
         279
        ],
        [
         67,
         1,
         4,
         "2023-10-13",
         769
        ],
        [
         68,
         4,
         3,
         "2023-06-12",
         864
        ],
        [
         69,
         6,
         5,
         "2023-11-02",
         222
        ],
        [
         70,
         17,
         3,
         "2023-01-09",
         897
        ],
        [
         71,
         4,
         8,
         "2023-05-23",
         352
        ],
        [
         72,
         4,
         8,
         "2023-03-27",
         690
        ],
        [
         73,
         10,
         10,
         "2023-01-14",
         695
        ],
        [
         74,
         20,
         9,
         "2023-12-27",
         308
        ],
        [
         75,
         2,
         1,
         "2023-03-10",
         25
        ],
        [
         76,
         1,
         8,
         "2023-03-01",
         93
        ],
        [
         77,
         11,
         2,
         "2023-09-13",
         77
        ],
        [
         78,
         11,
         5,
         "2023-09-18",
         838
        ],
        [
         79,
         6,
         7,
         "2023-08-23",
         437
        ],
        [
         80,
         12,
         7,
         "2023-09-22",
         262
        ],
        [
         81,
         1,
         8,
         "2023-06-14",
         115
        ],
        [
         82,
         8,
         7,
         "2023-05-24",
         873
        ],
        [
         83,
         12,
         6,
         "2023-06-17",
         168
        ],
        [
         84,
         18,
         1,
         "2023-07-17",
         484
        ],
        [
         85,
         20,
         8,
         "2023-05-19",
         568
        ],
        [
         86,
         5,
         6,
         "2023-07-11",
         991
        ],
        [
         87,
         1,
         1,
         "2023-04-07",
         25
        ],
        [
         88,
         18,
         6,
         "2023-08-15",
         673
        ],
        [
         89,
         11,
         3,
         "2023-11-25",
         512
        ],
        [
         90,
         16,
         5,
         "2023-11-14",
         712
        ],
        [
         91,
         4,
         5,
         "2023-06-11",
         113
        ],
        [
         92,
         2,
         3,
         "2023-05-11",
         308
        ],
        [
         93,
         12,
         9,
         "2023-11-07",
         472
        ],
        [
         94,
         18,
         1,
         "2023-02-08",
         305
        ],
        [
         95,
         18,
         9,
         "2023-12-18",
         260
        ],
        [
         96,
         15,
         2,
         "2023-03-05",
         124
        ],
        [
         97,
         6,
         3,
         "2023-06-20",
         974
        ],
        [
         98,
         6,
         1,
         "2023-03-26",
         578
        ],
        [
         99,
         4,
         4,
         "2023-12-09",
         265
        ],
        [
         100,
         15,
         2,
         "2023-07-24",
         735
        ]
       ],
       "datasetInfos": [],
       "dbfsResultPath": null,
       "isJsonSchema": true,
       "metadata": {},
       "overflow": false,
       "plotOptions": {
        "customPlotOptions": {},
        "displayType": "table",
        "pivotAggregation": null,
        "pivotColumns": null,
        "xColumns": null,
        "yColumns": null
       },
       "removedWidgets": [],
       "schema": [
        {
         "metadata": "{}",
         "name": "transaction_id",
         "type": "\"integer\""
        },
        {
         "metadata": "{}",
         "name": "customer_id",
         "type": "\"integer\""
        },
        {
         "metadata": "{}",
         "name": "product_id",
         "type": "\"integer\""
        },
        {
         "metadata": "{\"__detected_date_formats\":\"yyyy-M-d\"}",
         "name": "transaction_date",
         "type": "\"date\""
        },
        {
         "metadata": "{}",
         "name": "amount_paid",
         "type": "\"integer\""
        }
       ],
       "type": "table"
      }
     },
     "output_type": "display_data"
    }
   ],
   "source": [
    "%sql\n",
    "select * from sales"
   ]
  },
  {
   "cell_type": "code",
   "execution_count": 0,
   "metadata": {
    "application/vnd.databricks.v1+cell": {
     "cellMetadata": {
      "byteLimit": 2048000,
      "implicitDf": true,
      "rowLimit": 10000
     },
     "inputWidgets": {},
     "nuid": "aa2d78b7-fa46-43f4-af5a-8dfa7fc718fa",
     "showTitle": false,
     "title": ""
    }
   },
   "outputs": [
    {
     "output_type": "display_data",
     "data": {
      "text/html": [
       "<style scoped>\n",
       "  .table-result-container {\n",
       "    max-height: 300px;\n",
       "    overflow: auto;\n",
       "  }\n",
       "  table, th, td {\n",
       "    border: 1px solid black;\n",
       "    border-collapse: collapse;\n",
       "  }\n",
       "  th, td {\n",
       "    padding: 5px;\n",
       "  }\n",
       "  th {\n",
       "    text-align: left;\n",
       "  }\n",
       "</style><div class='table-result-container'><table class='table-result'><thead style='background-color: white'><tr><th>year</th><th>total_annual_sales</th></tr></thead><tbody><tr><td>2023</td><td>46951</td></tr></tbody></table></div>"
      ]
     },
     "metadata": {
      "application/vnd.databricks.v1+output": {
       "addedWidgets": {},
       "aggData": [],
       "aggError": "",
       "aggOverflow": false,
       "aggSchema": [],
       "aggSeriesLimitReached": false,
       "aggType": "",
       "arguments": {},
       "columnCustomDisplayInfos": {},
       "data": [
        [
         2023,
         46951
        ]
       ],
       "datasetInfos": [],
       "dbfsResultPath": null,
       "isJsonSchema": true,
       "metadata": {},
       "overflow": false,
       "plotOptions": {
        "customPlotOptions": {},
        "displayType": "table",
        "pivotAggregation": null,
        "pivotColumns": null,
        "xColumns": null,
        "yColumns": null
       },
       "removedWidgets": [],
       "schema": [
        {
         "metadata": "{}",
         "name": "year",
         "type": "\"integer\""
        },
        {
         "metadata": "{}",
         "name": "total_annual_sales",
         "type": "\"long\""
        }
       ],
       "type": "table"
      }
     },
     "output_type": "display_data"
    }
   ],
   "source": [
    "%sql\n",
    "SELECT YEAR(TO_DATE(transaction_date, 'YYYY/MM/DD')) AS year,\n",
    "       SUM(amount_paid) AS total_annual_sales\n",
    "FROM sales\n",
    "GROUP BY YEAR;"
   ]
  },
  {
   "cell_type": "code",
   "execution_count": 0,
   "metadata": {
    "application/vnd.databricks.v1+cell": {
     "cellMetadata": {
      "byteLimit": 2048000,
      "rowLimit": 10000
     },
     "inputWidgets": {},
     "nuid": "3a40ae8a-72f3-4442-b08e-f4fc1674987b",
     "showTitle": false,
     "title": ""
    }
   },
   "outputs": [],
   "source": []
  }
 ],
 "metadata": {
  "application/vnd.databricks.v1+notebook": {
   "dashboards": [],
   "language": "python",
   "notebookMetadata": {
    "mostRecentlyExecutedCommandWithImplicitDF": {
     "commandId": 1721340782765699,
     "dataframes": [
      "_sqldf"
     ]
    },
    "pythonIndentUnit": 4
   },
   "notebookName": "Sumedh_BootCamp_Final_Project_task1_SQL_Script",
   "widgets": {}
  }
 },
 "nbformat": 4,
 "nbformat_minor": 0
}
