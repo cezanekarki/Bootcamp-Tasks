{
 "cells": [
  {
   "cell_type": "code",
   "execution_count": 0,
   "metadata": {
    "application/vnd.databricks.v1+cell": {
     "cellMetadata": {
      "byteLimit": 2048000,
      "rowLimit": 10000
     },
     "inputWidgets": {},
     "nuid": "dc522d6f-68d4-44c9-9649-a5f7428dfe13",
     "showTitle": false,
     "title": ""
    }
   },
   "outputs": [
    {
     "output_type": "display_data",
     "data": {
      "text/html": [
       "<style scoped>\n",
       "  .ansiout {\n",
       "    display: block;\n",
       "    unicode-bidi: embed;\n",
       "    white-space: pre-wrap;\n",
       "    word-wrap: break-word;\n",
       "    word-break: break-all;\n",
       "    font-family: \"Menlo\", \"Monaco\", \"Consolas\", \"Ubuntu Mono\", \"Source Code Pro\", monospace;\n",
       "    font-size: 13px;\n",
       "    color: #555;\n",
       "    margin-left: 4px;\n",
       "    line-height: 19px;\n",
       "  }\n",
       "</style>\n",
       "<div class=\"ansiout\">res0: Boolean = true\n",
       "</div>"
      ]
     },
     "metadata": {
      "application/vnd.databricks.v1+output": {
       "addedWidgets": {},
       "arguments": {},
       "data": "<div class=\"ansiout\">res0: Boolean = true\n</div>",
       "datasetInfos": [],
       "metadata": {
        "isDbfsCommandResult": false
       },
       "removedWidgets": [],
       "type": "html"
      }
     },
     "output_type": "display_data"
    }
   ],
   "source": [
    "%fs\n",
    "rm -r dbfs:/user/hive/warehouse/3rd_place_combination"
   ]
  },
  {
   "cell_type": "code",
   "execution_count": 0,
   "metadata": {
    "application/vnd.databricks.v1+cell": {
     "cellMetadata": {
      "byteLimit": 2048000,
      "rowLimit": 10000
     },
     "inputWidgets": {},
     "nuid": "37ab7dae-39ee-4170-a063-b7b06ae6a859",
     "showTitle": false,
     "title": ""
    }
   },
   "outputs": [
    {
     "output_type": "display_data",
     "data": {
      "text/html": [
       "<style scoped>\n",
       "  .ansiout {\n",
       "    display: block;\n",
       "    unicode-bidi: embed;\n",
       "    white-space: pre-wrap;\n",
       "    word-wrap: break-word;\n",
       "    word-break: break-all;\n",
       "    font-family: \"Menlo\", \"Monaco\", \"Consolas\", \"Ubuntu Mono\", \"Source Code Pro\", monospace;\n",
       "    font-size: 13px;\n",
       "    color: #555;\n",
       "    margin-left: 4px;\n",
       "    line-height: 19px;\n",
       "  }\n",
       "</style>\n",
       "<div class=\"ansiout\">res1: Boolean = true\n",
       "</div>"
      ]
     },
     "metadata": {
      "application/vnd.databricks.v1+output": {
       "addedWidgets": {},
       "arguments": {},
       "data": "<div class=\"ansiout\">res1: Boolean = true\n</div>",
       "datasetInfos": [],
       "metadata": {
        "isDbfsCommandResult": false
       },
       "removedWidgets": [],
       "type": "html"
      }
     },
     "output_type": "display_data"
    }
   ],
   "source": [
    "%fs\n",
    "rm -r dbfs:/user/hive/warehouse/round_16_teams"
   ]
  },
  {
   "cell_type": "code",
   "execution_count": 0,
   "metadata": {
    "application/vnd.databricks.v1+cell": {
     "cellMetadata": {
      "byteLimit": 2048000,
      "rowLimit": 10000
     },
     "inputWidgets": {},
     "nuid": "d81d8aa5-7f5f-41f2-8e7a-499b367a7236",
     "showTitle": false,
     "title": ""
    }
   },
   "outputs": [
    {
     "output_type": "display_data",
     "data": {
      "text/html": [
       "<style scoped>\n",
       "  .ansiout {\n",
       "    display: block;\n",
       "    unicode-bidi: embed;\n",
       "    white-space: pre-wrap;\n",
       "    word-wrap: break-word;\n",
       "    word-break: break-all;\n",
       "    font-family: \"Menlo\", \"Monaco\", \"Consolas\", \"Ubuntu Mono\", \"Source Code Pro\", monospace;\n",
       "    font-size: 13px;\n",
       "    color: #555;\n",
       "    margin-left: 4px;\n",
       "    line-height: 19px;\n",
       "  }\n",
       "</style>\n",
       "<div class=\"ansiout\">res2: Boolean = true\n",
       "</div>"
      ]
     },
     "metadata": {
      "application/vnd.databricks.v1+output": {
       "addedWidgets": {},
       "arguments": {},
       "data": "<div class=\"ansiout\">res2: Boolean = true\n</div>",
       "datasetInfos": [],
       "metadata": {
        "isDbfsCommandResult": false
       },
       "removedWidgets": [],
       "type": "html"
      }
     },
     "output_type": "display_data"
    }
   ],
   "source": [
    "%fs\n",
    "rm -r dbfs:/user/hive/warehouse/round_16_matches"
   ]
  },
  {
   "cell_type": "code",
   "execution_count": 0,
   "metadata": {
    "application/vnd.databricks.v1+cell": {
     "cellMetadata": {
      "byteLimit": 2048000,
      "rowLimit": 10000
     },
     "inputWidgets": {},
     "nuid": "bd9171ed-f398-4ddb-9f73-4455be0754c6",
     "showTitle": false,
     "title": ""
    }
   },
   "outputs": [
    {
     "output_type": "display_data",
     "data": {
      "text/html": [
       "\n",
       "            <div>\n",
       "                <p><b>SparkSession - hive</b></p>\n",
       "                \n",
       "        <div>\n",
       "            <p><b>SparkContext</b></p>\n",
       "\n",
       "            <p><a href=\"/?o=2085830725623723#setting/sparkui/0304-044541-i4uw4c4o/driver-6364543616510233806\">Spark UI</a></p>\n",
       "\n",
       "            <dl>\n",
       "              <dt>Version</dt>\n",
       "                <dd><code>v3.3.2</code></dd>\n",
       "              <dt>Master</dt>\n",
       "                <dd><code>local[8]</code></dd>\n",
       "              <dt>AppName</dt>\n",
       "                <dd><code>Databricks Shell</code></dd>\n",
       "            </dl>\n",
       "        </div>\n",
       "        \n",
       "            </div>\n",
       "        "
      ]
     },
     "metadata": {
      "application/vnd.databricks.v1+output": {
       "addedWidgets": {},
       "arguments": {},
       "data": "\n            <div>\n                <p><b>SparkSession - hive</b></p>\n                \n        <div>\n            <p><b>SparkContext</b></p>\n\n            <p><a href=\"/?o=2085830725623723#setting/sparkui/0304-044541-i4uw4c4o/driver-6364543616510233806\">Spark UI</a></p>\n\n            <dl>\n              <dt>Version</dt>\n                <dd><code>v3.3.2</code></dd>\n              <dt>Master</dt>\n                <dd><code>local[8]</code></dd>\n              <dt>AppName</dt>\n                <dd><code>Databricks Shell</code></dd>\n            </dl>\n        </div>\n        \n            </div>\n        ",
       "datasetInfos": [],
       "metadata": {},
       "removedWidgets": [],
       "textData": null,
       "type": "htmlSandbox"
      }
     },
     "output_type": "display_data"
    }
   ],
   "source": [
    "from pyspark.sql.functions import rand,when,row_number\n",
    "from pyspark.sql import SparkSession\n",
    "from pyspark.sql.window import Window\n",
    "\n",
    "spark = SparkSession.builder \\\n",
    "    .appName(\"Euro_2024\") \\\n",
    "    .getOrCreate()\n",
    "spark"
   ]
  },
  {
   "cell_type": "code",
   "execution_count": 0,
   "metadata": {
    "application/vnd.databricks.v1+cell": {
     "cellMetadata": {
      "byteLimit": 2048000,
      "rowLimit": 10000
     },
     "inputWidgets": {},
     "nuid": "a5741cc4-e74a-4ad9-9c8e-74e5bf9c9d0d",
     "showTitle": false,
     "title": ""
    }
   },
   "outputs": [],
   "source": [
    "\n",
    "teams_all = [\n",
    "        # Group A\n",
    "    (1, \"Germany\", \"A\"),\n",
    "    (2, \"Hungary\", \"A\"),\n",
    "    (3, \"Scotland\", \"A\"),\n",
    "    (4, \"Switzerland\", \"A\"),\n",
    "\n",
    "    # Group B\n",
    "    (5, \"Albania\", \"B\"),\n",
    "    (6, \"Croatia\", \"B\"),\n",
    "    (7, \"Italy\", \"B\"),\n",
    "    (8, \"Spain\", \"B\"),\n",
    "\n",
    "    # Group C\n",
    "    (9, \"Denmark\", \"C\"),\n",
    "    (10, \"England\", \"C\"),\n",
    "    (11, \"Slovenia\", \"C\"),\n",
    "    (12, \"Serbia\", \"C\"),\n",
    "\n",
    "    # Group D\n",
    "    (13, \"Austria\", \"D\"),\n",
    "    (14, \"France\", \"D\"),\n",
    "    (15, \"Netherlands\", \"D\"),\n",
    "    (16, \"Playoff Winner 1\", \"D\"),\n",
    "\n",
    "    # Group E\n",
    "    (17, \"Belgium\", \"E\"),\n",
    "    (18, \"Romania\", \"E\"),\n",
    "    (19, \"Slovakia\", \"E\"),\n",
    "    (20, \"Playoff Winner 2\", \"E\"),\n",
    "\n",
    "    # Group F\n",
    "    (21, \"Czech Republic\", \"F\"),\n",
    "    (22, \"Portugal\", \"F\"),\n",
    "    (23, \"Turkey\", \"F\"),\n",
    "    (24, \"Playoff Winner 3\", \"F\")\n",
    "]\n",
    "\n",
    "    "
   ]
  },
  {
   "cell_type": "code",
   "execution_count": 0,
   "metadata": {
    "application/vnd.databricks.v1+cell": {
     "cellMetadata": {
      "byteLimit": 2048000,
      "rowLimit": 10000
     },
     "inputWidgets": {},
     "nuid": "260adaff-6243-43ae-b4c0-a0e46511b604",
     "showTitle": false,
     "title": ""
    }
   },
   "outputs": [],
   "source": [
    "teams_columns = [\"TeamID\", \"TeamName\", \"TeamGroup\"]\n",
    "teams_df = spark.createDataFrame(teams_all, teams_columns)\n",
    "teams_df.createOrReplaceTempView(\"teams\")"
   ]
  },
  {
   "cell_type": "code",
   "execution_count": 0,
   "metadata": {
    "application/vnd.databricks.v1+cell": {
     "cellMetadata": {
      "byteLimit": 2048000,
      "rowLimit": 10000
     },
     "inputWidgets": {},
     "nuid": "f11d2dff-4276-49d9-9f39-5b37ad6dd93c",
     "showTitle": false,
     "title": ""
    }
   },
   "outputs": [
    {
     "output_type": "display_data",
     "data": {
      "text/html": [
       "<style scoped>\n",
       "  .table-result-container {\n",
       "    max-height: 300px;\n",
       "    overflow: auto;\n",
       "  }\n",
       "  table, th, td {\n",
       "    border: 1px solid black;\n",
       "    border-collapse: collapse;\n",
       "  }\n",
       "  th, td {\n",
       "    padding: 5px;\n",
       "  }\n",
       "  th {\n",
       "    text-align: left;\n",
       "  }\n",
       "</style><div class='table-result-container'><table class='table-result'><thead style='background-color: white'><tr><th>TeamID</th><th>TeamName</th><th>TeamGroup</th></tr></thead><tbody><tr><td>1</td><td>Germany</td><td>A</td></tr><tr><td>2</td><td>Hungary</td><td>A</td></tr><tr><td>3</td><td>Scotland</td><td>A</td></tr><tr><td>4</td><td>Switzerland</td><td>A</td></tr><tr><td>5</td><td>Albania</td><td>B</td></tr><tr><td>6</td><td>Croatia</td><td>B</td></tr><tr><td>7</td><td>Italy</td><td>B</td></tr><tr><td>8</td><td>Spain</td><td>B</td></tr><tr><td>9</td><td>Denmark</td><td>C</td></tr><tr><td>10</td><td>England</td><td>C</td></tr><tr><td>11</td><td>Slovenia</td><td>C</td></tr><tr><td>12</td><td>Serbia</td><td>C</td></tr><tr><td>13</td><td>Austria</td><td>D</td></tr><tr><td>14</td><td>France</td><td>D</td></tr><tr><td>15</td><td>Netherlands</td><td>D</td></tr><tr><td>16</td><td>Playoff Winner 1</td><td>D</td></tr><tr><td>17</td><td>Belgium</td><td>E</td></tr><tr><td>18</td><td>Romania</td><td>E</td></tr><tr><td>19</td><td>Slovakia</td><td>E</td></tr><tr><td>20</td><td>Playoff Winner 2</td><td>E</td></tr><tr><td>21</td><td>Czech Republic</td><td>F</td></tr><tr><td>22</td><td>Portugal</td><td>F</td></tr><tr><td>23</td><td>Turkey</td><td>F</td></tr><tr><td>24</td><td>Playoff Winner 3</td><td>F</td></tr></tbody></table></div>"
      ]
     },
     "metadata": {
      "application/vnd.databricks.v1+output": {
       "addedWidgets": {},
       "aggData": [],
       "aggError": "",
       "aggOverflow": false,
       "aggSchema": [],
       "aggSeriesLimitReached": false,
       "aggType": "",
       "arguments": {},
       "columnCustomDisplayInfos": {},
       "data": [
        [
         1,
         "Germany",
         "A"
        ],
        [
         2,
         "Hungary",
         "A"
        ],
        [
         3,
         "Scotland",
         "A"
        ],
        [
         4,
         "Switzerland",
         "A"
        ],
        [
         5,
         "Albania",
         "B"
        ],
        [
         6,
         "Croatia",
         "B"
        ],
        [
         7,
         "Italy",
         "B"
        ],
        [
         8,
         "Spain",
         "B"
        ],
        [
         9,
         "Denmark",
         "C"
        ],
        [
         10,
         "England",
         "C"
        ],
        [
         11,
         "Slovenia",
         "C"
        ],
        [
         12,
         "Serbia",
         "C"
        ],
        [
         13,
         "Austria",
         "D"
        ],
        [
         14,
         "France",
         "D"
        ],
        [
         15,
         "Netherlands",
         "D"
        ],
        [
         16,
         "Playoff Winner 1",
         "D"
        ],
        [
         17,
         "Belgium",
         "E"
        ],
        [
         18,
         "Romania",
         "E"
        ],
        [
         19,
         "Slovakia",
         "E"
        ],
        [
         20,
         "Playoff Winner 2",
         "E"
        ],
        [
         21,
         "Czech Republic",
         "F"
        ],
        [
         22,
         "Portugal",
         "F"
        ],
        [
         23,
         "Turkey",
         "F"
        ],
        [
         24,
         "Playoff Winner 3",
         "F"
        ]
       ],
       "datasetInfos": [],
       "dbfsResultPath": null,
       "isJsonSchema": true,
       "metadata": {},
       "overflow": false,
       "plotOptions": {
        "customPlotOptions": {},
        "displayType": "table",
        "pivotAggregation": null,
        "pivotColumns": null,
        "xColumns": null,
        "yColumns": null
       },
       "removedWidgets": [],
       "schema": [
        {
         "metadata": "{}",
         "name": "TeamID",
         "type": "\"long\""
        },
        {
         "metadata": "{}",
         "name": "TeamName",
         "type": "\"string\""
        },
        {
         "metadata": "{}",
         "name": "TeamGroup",
         "type": "\"string\""
        }
       ],
       "type": "table"
      }
     },
     "output_type": "display_data"
    }
   ],
   "source": [
    "display(spark.sql(\"SELECT * FROM teams\"))"
   ]
  },
  {
   "cell_type": "code",
   "execution_count": 0,
   "metadata": {
    "application/vnd.databricks.v1+cell": {
     "cellMetadata": {
      "byteLimit": 2048000,
      "rowLimit": 10000
     },
     "inputWidgets": {},
     "nuid": "39e14c53-0950-4d0c-907d-172691032fb0",
     "showTitle": false,
     "title": ""
    }
   },
   "outputs": [
    {
     "output_type": "display_data",
     "data": {
      "text/html": [
       "<style scoped>\n",
       "  .table-result-container {\n",
       "    max-height: 300px;\n",
       "    overflow: auto;\n",
       "  }\n",
       "  table, th, td {\n",
       "    border: 1px solid black;\n",
       "    border-collapse: collapse;\n",
       "  }\n",
       "  th, td {\n",
       "    padding: 5px;\n",
       "  }\n",
       "  th {\n",
       "    text-align: left;\n",
       "  }\n",
       "</style><div class='table-result-container'><table class='table-result'><thead style='background-color: white'><tr><th>Team_X</th><th>Team_Y</th><th>Team_X_Group</th><th>Team_Y_Group</th></tr></thead><tbody><tr><td>Germany</td><td>Hungary</td><td>A</td><td>A</td></tr><tr><td>Germany</td><td>Scotland</td><td>A</td><td>A</td></tr><tr><td>Germany</td><td>Switzerland</td><td>A</td><td>A</td></tr><tr><td>Hungary</td><td>Scotland</td><td>A</td><td>A</td></tr><tr><td>Hungary</td><td>Switzerland</td><td>A</td><td>A</td></tr><tr><td>Scotland</td><td>Switzerland</td><td>A</td><td>A</td></tr><tr><td>Albania</td><td>Croatia</td><td>B</td><td>B</td></tr><tr><td>Albania</td><td>Italy</td><td>B</td><td>B</td></tr><tr><td>Albania</td><td>Spain</td><td>B</td><td>B</td></tr><tr><td>Croatia</td><td>Italy</td><td>B</td><td>B</td></tr><tr><td>Croatia</td><td>Spain</td><td>B</td><td>B</td></tr><tr><td>Italy</td><td>Spain</td><td>B</td><td>B</td></tr><tr><td>Denmark</td><td>England</td><td>C</td><td>C</td></tr><tr><td>Denmark</td><td>Slovenia</td><td>C</td><td>C</td></tr><tr><td>Denmark</td><td>Serbia</td><td>C</td><td>C</td></tr><tr><td>England</td><td>Slovenia</td><td>C</td><td>C</td></tr><tr><td>England</td><td>Serbia</td><td>C</td><td>C</td></tr><tr><td>Slovenia</td><td>Serbia</td><td>C</td><td>C</td></tr><tr><td>Austria</td><td>France</td><td>D</td><td>D</td></tr><tr><td>Austria</td><td>Netherlands</td><td>D</td><td>D</td></tr><tr><td>Austria</td><td>Playoff Winner 1</td><td>D</td><td>D</td></tr><tr><td>France</td><td>Netherlands</td><td>D</td><td>D</td></tr><tr><td>France</td><td>Playoff Winner 1</td><td>D</td><td>D</td></tr><tr><td>Netherlands</td><td>Playoff Winner 1</td><td>D</td><td>D</td></tr><tr><td>Belgium</td><td>Romania</td><td>E</td><td>E</td></tr><tr><td>Belgium</td><td>Slovakia</td><td>E</td><td>E</td></tr><tr><td>Belgium</td><td>Playoff Winner 2</td><td>E</td><td>E</td></tr><tr><td>Romania</td><td>Slovakia</td><td>E</td><td>E</td></tr><tr><td>Romania</td><td>Playoff Winner 2</td><td>E</td><td>E</td></tr><tr><td>Slovakia</td><td>Playoff Winner 2</td><td>E</td><td>E</td></tr><tr><td>Czech Republic</td><td>Portugal</td><td>F</td><td>F</td></tr><tr><td>Czech Republic</td><td>Turkey</td><td>F</td><td>F</td></tr><tr><td>Czech Republic</td><td>Playoff Winner 3</td><td>F</td><td>F</td></tr><tr><td>Portugal</td><td>Turkey</td><td>F</td><td>F</td></tr><tr><td>Portugal</td><td>Playoff Winner 3</td><td>F</td><td>F</td></tr><tr><td>Turkey</td><td>Playoff Winner 3</td><td>F</td><td>F</td></tr></tbody></table></div>"
      ]
     },
     "metadata": {
      "application/vnd.databricks.v1+output": {
       "addedWidgets": {},
       "aggData": [],
       "aggError": "",
       "aggOverflow": false,
       "aggSchema": [],
       "aggSeriesLimitReached": false,
       "aggType": "",
       "arguments": {},
       "columnCustomDisplayInfos": {},
       "data": [
        [
         "Germany",
         "Hungary",
         "A",
         "A"
        ],
        [
         "Germany",
         "Scotland",
         "A",
         "A"
        ],
        [
         "Germany",
         "Switzerland",
         "A",
         "A"
        ],
        [
         "Hungary",
         "Scotland",
         "A",
         "A"
        ],
        [
         "Hungary",
         "Switzerland",
         "A",
         "A"
        ],
        [
         "Scotland",
         "Switzerland",
         "A",
         "A"
        ],
        [
         "Albania",
         "Croatia",
         "B",
         "B"
        ],
        [
         "Albania",
         "Italy",
         "B",
         "B"
        ],
        [
         "Albania",
         "Spain",
         "B",
         "B"
        ],
        [
         "Croatia",
         "Italy",
         "B",
         "B"
        ],
        [
         "Croatia",
         "Spain",
         "B",
         "B"
        ],
        [
         "Italy",
         "Spain",
         "B",
         "B"
        ],
        [
         "Denmark",
         "England",
         "C",
         "C"
        ],
        [
         "Denmark",
         "Slovenia",
         "C",
         "C"
        ],
        [
         "Denmark",
         "Serbia",
         "C",
         "C"
        ],
        [
         "England",
         "Slovenia",
         "C",
         "C"
        ],
        [
         "England",
         "Serbia",
         "C",
         "C"
        ],
        [
         "Slovenia",
         "Serbia",
         "C",
         "C"
        ],
        [
         "Austria",
         "France",
         "D",
         "D"
        ],
        [
         "Austria",
         "Netherlands",
         "D",
         "D"
        ],
        [
         "Austria",
         "Playoff Winner 1",
         "D",
         "D"
        ],
        [
         "France",
         "Netherlands",
         "D",
         "D"
        ],
        [
         "France",
         "Playoff Winner 1",
         "D",
         "D"
        ],
        [
         "Netherlands",
         "Playoff Winner 1",
         "D",
         "D"
        ],
        [
         "Belgium",
         "Romania",
         "E",
         "E"
        ],
        [
         "Belgium",
         "Slovakia",
         "E",
         "E"
        ],
        [
         "Belgium",
         "Playoff Winner 2",
         "E",
         "E"
        ],
        [
         "Romania",
         "Slovakia",
         "E",
         "E"
        ],
        [
         "Romania",
         "Playoff Winner 2",
         "E",
         "E"
        ],
        [
         "Slovakia",
         "Playoff Winner 2",
         "E",
         "E"
        ],
        [
         "Czech Republic",
         "Portugal",
         "F",
         "F"
        ],
        [
         "Czech Republic",
         "Turkey",
         "F",
         "F"
        ],
        [
         "Czech Republic",
         "Playoff Winner 3",
         "F",
         "F"
        ],
        [
         "Portugal",
         "Turkey",
         "F",
         "F"
        ],
        [
         "Portugal",
         "Playoff Winner 3",
         "F",
         "F"
        ],
        [
         "Turkey",
         "Playoff Winner 3",
         "F",
         "F"
        ]
       ],
       "datasetInfos": [],
       "dbfsResultPath": null,
       "isJsonSchema": true,
       "metadata": {},
       "overflow": false,
       "plotOptions": {
        "customPlotOptions": {},
        "displayType": "table",
        "pivotAggregation": null,
        "pivotColumns": null,
        "xColumns": null,
        "yColumns": null
       },
       "removedWidgets": [],
       "schema": [
        {
         "metadata": "{}",
         "name": "Team_X",
         "type": "\"string\""
        },
        {
         "metadata": "{}",
         "name": "Team_Y",
         "type": "\"string\""
        },
        {
         "metadata": "{}",
         "name": "Team_X_Group",
         "type": "\"string\""
        },
        {
         "metadata": "{}",
         "name": "Team_Y_Group",
         "type": "\"string\""
        }
       ],
       "type": "table"
      }
     },
     "output_type": "display_data"
    }
   ],
   "source": [
    "gs_matches_df = spark.sql(\"\"\"\n",
    "    SELECT  t1.TeamName AS Team_X, t2.TeamName AS Team_Y, t1.TeamGroup AS Team_X_Group, t2.TeamGroup AS Team_Y_Group\n",
    "    FROM teams t1\n",
    "    JOIN teams t2 ON t1.TeamGroup = t2.TeamGroup AND t1.TeamID < t2.TeamID  /*(TeamA, TeamB) != (TeamB, TeamA)*/\n",
    "    \"\"\")\n",
    "display(gs_matches_df)"
   ]
  },
  {
   "cell_type": "code",
   "execution_count": 0,
   "metadata": {
    "application/vnd.databricks.v1+cell": {
     "cellMetadata": {
      "byteLimit": 2048000,
      "rowLimit": 10000
     },
     "inputWidgets": {},
     "nuid": "897ecb72-4c18-482c-bdc3-6cbc13a23055",
     "showTitle": false,
     "title": ""
    }
   },
   "outputs": [],
   "source": [
    "gs_matches_df = gs_matches_df.withColumn(\"X_TeamGoals\", (rand() * 6).cast(\"int\")) \n",
    "gs_matches_df = gs_matches_df.withColumn(\"Y_TeamGoals\", (rand() * 6).cast(\"int\")) \n",
    "\n",
    "\n",
    "gs_matches_df.createOrReplaceTempView(\"group_stage_goals\")"
   ]
  },
  {
   "cell_type": "code",
   "execution_count": 0,
   "metadata": {
    "application/vnd.databricks.v1+cell": {
     "cellMetadata": {
      "byteLimit": 2048000,
      "rowLimit": 10000
     },
     "inputWidgets": {},
     "nuid": "79fb6332-678e-4c19-af1a-5d5acca2fe3e",
     "showTitle": false,
     "title": ""
    }
   },
   "outputs": [
    {
     "output_type": "display_data",
     "data": {
      "text/html": [
       "<style scoped>\n",
       "  .table-result-container {\n",
       "    max-height: 300px;\n",
       "    overflow: auto;\n",
       "  }\n",
       "  table, th, td {\n",
       "    border: 1px solid black;\n",
       "    border-collapse: collapse;\n",
       "  }\n",
       "  th, td {\n",
       "    padding: 5px;\n",
       "  }\n",
       "  th {\n",
       "    text-align: left;\n",
       "  }\n",
       "</style><div class='table-result-container'><table class='table-result'><thead style='background-color: white'><tr><th>Team_X</th><th>Team_Y</th><th>Team_X_Group</th><th>Team_Y_Group</th><th>X_TeamGoals</th><th>Y_TeamGoals</th></tr></thead><tbody><tr><td>Germany</td><td>Hungary</td><td>A</td><td>A</td><td>0</td><td>3</td></tr><tr><td>Germany</td><td>Scotland</td><td>A</td><td>A</td><td>3</td><td>3</td></tr><tr><td>Germany</td><td>Switzerland</td><td>A</td><td>A</td><td>0</td><td>3</td></tr><tr><td>Hungary</td><td>Scotland</td><td>A</td><td>A</td><td>1</td><td>1</td></tr><tr><td>Hungary</td><td>Switzerland</td><td>A</td><td>A</td><td>3</td><td>3</td></tr><tr><td>Scotland</td><td>Switzerland</td><td>A</td><td>A</td><td>1</td><td>2</td></tr><tr><td>Albania</td><td>Croatia</td><td>B</td><td>B</td><td>1</td><td>5</td></tr><tr><td>Albania</td><td>Italy</td><td>B</td><td>B</td><td>5</td><td>2</td></tr><tr><td>Albania</td><td>Spain</td><td>B</td><td>B</td><td>1</td><td>3</td></tr><tr><td>Croatia</td><td>Italy</td><td>B</td><td>B</td><td>3</td><td>5</td></tr><tr><td>Croatia</td><td>Spain</td><td>B</td><td>B</td><td>1</td><td>3</td></tr><tr><td>Italy</td><td>Spain</td><td>B</td><td>B</td><td>5</td><td>3</td></tr><tr><td>Denmark</td><td>England</td><td>C</td><td>C</td><td>3</td><td>3</td></tr><tr><td>Denmark</td><td>Slovenia</td><td>C</td><td>C</td><td>0</td><td>0</td></tr><tr><td>Denmark</td><td>Serbia</td><td>C</td><td>C</td><td>0</td><td>2</td></tr><tr><td>England</td><td>Slovenia</td><td>C</td><td>C</td><td>4</td><td>0</td></tr><tr><td>England</td><td>Serbia</td><td>C</td><td>C</td><td>0</td><td>3</td></tr><tr><td>Slovenia</td><td>Serbia</td><td>C</td><td>C</td><td>0</td><td>5</td></tr><tr><td>Austria</td><td>France</td><td>D</td><td>D</td><td>4</td><td>4</td></tr><tr><td>Austria</td><td>Netherlands</td><td>D</td><td>D</td><td>3</td><td>5</td></tr><tr><td>Austria</td><td>Playoff Winner 1</td><td>D</td><td>D</td><td>1</td><td>1</td></tr><tr><td>France</td><td>Netherlands</td><td>D</td><td>D</td><td>3</td><td>3</td></tr><tr><td>France</td><td>Playoff Winner 1</td><td>D</td><td>D</td><td>5</td><td>0</td></tr><tr><td>Netherlands</td><td>Playoff Winner 1</td><td>D</td><td>D</td><td>5</td><td>1</td></tr><tr><td>Belgium</td><td>Romania</td><td>E</td><td>E</td><td>4</td><td>0</td></tr><tr><td>Belgium</td><td>Slovakia</td><td>E</td><td>E</td><td>0</td><td>1</td></tr><tr><td>Belgium</td><td>Playoff Winner 2</td><td>E</td><td>E</td><td>0</td><td>1</td></tr><tr><td>Romania</td><td>Slovakia</td><td>E</td><td>E</td><td>2</td><td>0</td></tr><tr><td>Romania</td><td>Playoff Winner 2</td><td>E</td><td>E</td><td>4</td><td>4</td></tr><tr><td>Slovakia</td><td>Playoff Winner 2</td><td>E</td><td>E</td><td>1</td><td>1</td></tr><tr><td>Czech Republic</td><td>Portugal</td><td>F</td><td>F</td><td>2</td><td>3</td></tr><tr><td>Czech Republic</td><td>Turkey</td><td>F</td><td>F</td><td>5</td><td>3</td></tr><tr><td>Czech Republic</td><td>Playoff Winner 3</td><td>F</td><td>F</td><td>5</td><td>1</td></tr><tr><td>Portugal</td><td>Turkey</td><td>F</td><td>F</td><td>4</td><td>1</td></tr><tr><td>Portugal</td><td>Playoff Winner 3</td><td>F</td><td>F</td><td>0</td><td>0</td></tr><tr><td>Turkey</td><td>Playoff Winner 3</td><td>F</td><td>F</td><td>3</td><td>2</td></tr></tbody></table></div>"
      ]
     },
     "metadata": {
      "application/vnd.databricks.v1+output": {
       "addedWidgets": {},
       "aggData": [],
       "aggError": "",
       "aggOverflow": false,
       "aggSchema": [],
       "aggSeriesLimitReached": false,
       "aggType": "",
       "arguments": {},
       "columnCustomDisplayInfos": {},
       "data": [
        [
         "Germany",
         "Hungary",
         "A",
         "A",
         0,
         3
        ],
        [
         "Germany",
         "Scotland",
         "A",
         "A",
         3,
         3
        ],
        [
         "Germany",
         "Switzerland",
         "A",
         "A",
         0,
         3
        ],
        [
         "Hungary",
         "Scotland",
         "A",
         "A",
         1,
         1
        ],
        [
         "Hungary",
         "Switzerland",
         "A",
         "A",
         3,
         3
        ],
        [
         "Scotland",
         "Switzerland",
         "A",
         "A",
         1,
         2
        ],
        [
         "Albania",
         "Croatia",
         "B",
         "B",
         1,
         5
        ],
        [
         "Albania",
         "Italy",
         "B",
         "B",
         5,
         2
        ],
        [
         "Albania",
         "Spain",
         "B",
         "B",
         1,
         3
        ],
        [
         "Croatia",
         "Italy",
         "B",
         "B",
         3,
         5
        ],
        [
         "Croatia",
         "Spain",
         "B",
         "B",
         1,
         3
        ],
        [
         "Italy",
         "Spain",
         "B",
         "B",
         5,
         3
        ],
        [
         "Denmark",
         "England",
         "C",
         "C",
         3,
         3
        ],
        [
         "Denmark",
         "Slovenia",
         "C",
         "C",
         0,
         0
        ],
        [
         "Denmark",
         "Serbia",
         "C",
         "C",
         0,
         2
        ],
        [
         "England",
         "Slovenia",
         "C",
         "C",
         4,
         0
        ],
        [
         "England",
         "Serbia",
         "C",
         "C",
         0,
         3
        ],
        [
         "Slovenia",
         "Serbia",
         "C",
         "C",
         0,
         5
        ],
        [
         "Austria",
         "France",
         "D",
         "D",
         4,
         4
        ],
        [
         "Austria",
         "Netherlands",
         "D",
         "D",
         3,
         5
        ],
        [
         "Austria",
         "Playoff Winner 1",
         "D",
         "D",
         1,
         1
        ],
        [
         "France",
         "Netherlands",
         "D",
         "D",
         3,
         3
        ],
        [
         "France",
         "Playoff Winner 1",
         "D",
         "D",
         5,
         0
        ],
        [
         "Netherlands",
         "Playoff Winner 1",
         "D",
         "D",
         5,
         1
        ],
        [
         "Belgium",
         "Romania",
         "E",
         "E",
         4,
         0
        ],
        [
         "Belgium",
         "Slovakia",
         "E",
         "E",
         0,
         1
        ],
        [
         "Belgium",
         "Playoff Winner 2",
         "E",
         "E",
         0,
         1
        ],
        [
         "Romania",
         "Slovakia",
         "E",
         "E",
         2,
         0
        ],
        [
         "Romania",
         "Playoff Winner 2",
         "E",
         "E",
         4,
         4
        ],
        [
         "Slovakia",
         "Playoff Winner 2",
         "E",
         "E",
         1,
         1
        ],
        [
         "Czech Republic",
         "Portugal",
         "F",
         "F",
         2,
         3
        ],
        [
         "Czech Republic",
         "Turkey",
         "F",
         "F",
         5,
         3
        ],
        [
         "Czech Republic",
         "Playoff Winner 3",
         "F",
         "F",
         5,
         1
        ],
        [
         "Portugal",
         "Turkey",
         "F",
         "F",
         4,
         1
        ],
        [
         "Portugal",
         "Playoff Winner 3",
         "F",
         "F",
         0,
         0
        ],
        [
         "Turkey",
         "Playoff Winner 3",
         "F",
         "F",
         3,
         2
        ]
       ],
       "datasetInfos": [],
       "dbfsResultPath": null,
       "isJsonSchema": true,
       "metadata": {},
       "overflow": false,
       "plotOptions": {
        "customPlotOptions": {},
        "displayType": "table",
        "pivotAggregation": null,
        "pivotColumns": null,
        "xColumns": null,
        "yColumns": null
       },
       "removedWidgets": [],
       "schema": [
        {
         "metadata": "{}",
         "name": "Team_X",
         "type": "\"string\""
        },
        {
         "metadata": "{}",
         "name": "Team_Y",
         "type": "\"string\""
        },
        {
         "metadata": "{}",
         "name": "Team_X_Group",
         "type": "\"string\""
        },
        {
         "metadata": "{}",
         "name": "Team_Y_Group",
         "type": "\"string\""
        },
        {
         "metadata": "{}",
         "name": "X_TeamGoals",
         "type": "\"integer\""
        },
        {
         "metadata": "{}",
         "name": "Y_TeamGoals",
         "type": "\"integer\""
        }
       ],
       "type": "table"
      }
     },
     "output_type": "display_data"
    }
   ],
   "source": [
    "display(gs_matches_df)"
   ]
  },
  {
   "cell_type": "code",
   "execution_count": 0,
   "metadata": {
    "application/vnd.databricks.v1+cell": {
     "cellMetadata": {
      "byteLimit": 2048000,
      "rowLimit": 10000
     },
     "inputWidgets": {},
     "nuid": "5a9ef06e-9a23-45aa-bfb5-9ce7896adaeb",
     "showTitle": false,
     "title": ""
    }
   },
   "outputs": [],
   "source": [
    "# Calculate additional match statistics\n",
    "gs_match_stats_df = spark.sql(\"\"\"\n",
    "    SELECT \n",
    "        TeamName AS Team,\n",
    "        TeamGroup,\n",
    "        COUNT(*) AS Pld,\n",
    "        SUM(CASE WHEN X_TeamGoals = Y_TeamGoals THEN 1 ELSE 0 END) AS D,\n",
    "        SUM(CASE WHEN X_TeamGoals > Y_TeamGoals THEN 1 ELSE 0 END) AS W,\n",
    "        SUM(CASE WHEN X_TeamGoals < Y_TeamGoals THEN 1 ELSE 0 END) AS L,\n",
    "        SUM(X_TeamGoals) AS GF,\n",
    "        SUM(Y_TeamGoals) AS GA,\n",
    "        SUM(X_TeamGoals) - SUM(Y_TeamGoals) AS GD,\n",
    "        SUM(\n",
    "            CASE \n",
    "                WHEN X_TeamGoals > Y_TeamGoals THEN 3\n",
    "                WHEN X_TeamGoals = Y_TeamGoals THEN 1\n",
    "                ELSE 0 \n",
    "            END\n",
    "        ) AS Pts\n",
    "      \n",
    "    FROM (\n",
    "        SELECT Team_X AS TeamName, X_TeamGoals, Y_TeamGoals, Team_X_Group AS TeamGroup FROM group_stage_goals\n",
    "        UNION ALL\n",
    "        SELECT Team_Y AS TeamName, Y_TeamGoals, X_TeamGoals, Team_Y_Group AS TeamGroup FROM group_stage_goals\n",
    "    )\n",
    "    GROUP BY TeamName, TeamGroup\n",
    "    ORDER BY Pts DESC, GD DESC\n",
    "    \"\"\")"
   ]
  },
  {
   "cell_type": "code",
   "execution_count": 0,
   "metadata": {
    "application/vnd.databricks.v1+cell": {
     "cellMetadata": {
      "byteLimit": 2048000,
      "rowLimit": 10000
     },
     "inputWidgets": {},
     "nuid": "086d3ee9-66eb-4a55-af1a-b22f8c049386",
     "showTitle": false,
     "title": ""
    }
   },
   "outputs": [
    {
     "output_type": "display_data",
     "data": {
      "text/html": [
       "<style scoped>\n",
       "  .table-result-container {\n",
       "    max-height: 300px;\n",
       "    overflow: auto;\n",
       "  }\n",
       "  table, th, td {\n",
       "    border: 1px solid black;\n",
       "    border-collapse: collapse;\n",
       "  }\n",
       "  th, td {\n",
       "    padding: 5px;\n",
       "  }\n",
       "  th {\n",
       "    text-align: left;\n",
       "  }\n",
       "</style><div class='table-result-container'><table class='table-result'><thead style='background-color: white'><tr><th>Team</th><th>TeamGroup</th><th>Pld</th><th>D</th><th>W</th><th>L</th><th>GF</th><th>GA</th><th>GD</th><th>Pts</th></tr></thead><tbody><tr><td>Serbia</td><td>C</td><td>3</td><td>0</td><td>3</td><td>0</td><td>10</td><td>0</td><td>10</td><td>9</td></tr><tr><td>Netherlands</td><td>D</td><td>3</td><td>1</td><td>2</td><td>0</td><td>13</td><td>7</td><td>6</td><td>7</td></tr><tr><td>Portugal</td><td>F</td><td>3</td><td>1</td><td>2</td><td>0</td><td>7</td><td>3</td><td>4</td><td>7</td></tr><tr><td>Switzerland</td><td>A</td><td>3</td><td>1</td><td>2</td><td>0</td><td>8</td><td>4</td><td>4</td><td>7</td></tr><tr><td>Czech Republic</td><td>F</td><td>3</td><td>0</td><td>2</td><td>1</td><td>12</td><td>7</td><td>5</td><td>6</td></tr><tr><td>Spain</td><td>B</td><td>3</td><td>0</td><td>2</td><td>1</td><td>9</td><td>7</td><td>2</td><td>6</td></tr><tr><td>Italy</td><td>B</td><td>3</td><td>0</td><td>2</td><td>1</td><td>12</td><td>11</td><td>1</td><td>6</td></tr><tr><td>France</td><td>D</td><td>3</td><td>2</td><td>1</td><td>0</td><td>12</td><td>7</td><td>5</td><td>5</td></tr><tr><td>Hungary</td><td>A</td><td>3</td><td>2</td><td>1</td><td>0</td><td>7</td><td>4</td><td>3</td><td>5</td></tr><tr><td>Playoff Winner 2</td><td>E</td><td>3</td><td>2</td><td>1</td><td>0</td><td>6</td><td>5</td><td>1</td><td>5</td></tr><tr><td>England</td><td>C</td><td>3</td><td>1</td><td>1</td><td>1</td><td>7</td><td>6</td><td>1</td><td>4</td></tr><tr><td>Slovakia</td><td>E</td><td>3</td><td>1</td><td>1</td><td>1</td><td>2</td><td>3</td><td>-1</td><td>4</td></tr><tr><td>Romania</td><td>E</td><td>3</td><td>1</td><td>1</td><td>1</td><td>6</td><td>8</td><td>-2</td><td>4</td></tr><tr><td>Belgium</td><td>E</td><td>3</td><td>0</td><td>1</td><td>2</td><td>4</td><td>2</td><td>2</td><td>3</td></tr><tr><td>Croatia</td><td>B</td><td>3</td><td>0</td><td>1</td><td>2</td><td>9</td><td>9</td><td>0</td><td>3</td></tr><tr><td>Albania</td><td>B</td><td>3</td><td>0</td><td>1</td><td>2</td><td>7</td><td>10</td><td>-3</td><td>3</td></tr><tr><td>Turkey</td><td>F</td><td>3</td><td>0</td><td>1</td><td>2</td><td>7</td><td>11</td><td>-4</td><td>3</td></tr><tr><td>Scotland</td><td>A</td><td>3</td><td>2</td><td>0</td><td>1</td><td>5</td><td>6</td><td>-1</td><td>2</td></tr><tr><td>Denmark</td><td>C</td><td>3</td><td>2</td><td>0</td><td>1</td><td>3</td><td>5</td><td>-2</td><td>2</td></tr><tr><td>Austria</td><td>D</td><td>3</td><td>2</td><td>0</td><td>1</td><td>8</td><td>10</td><td>-2</td><td>2</td></tr><tr><td>Playoff Winner 3</td><td>F</td><td>3</td><td>1</td><td>0</td><td>2</td><td>3</td><td>8</td><td>-5</td><td>1</td></tr><tr><td>Germany</td><td>A</td><td>3</td><td>1</td><td>0</td><td>2</td><td>3</td><td>9</td><td>-6</td><td>1</td></tr><tr><td>Slovenia</td><td>C</td><td>3</td><td>1</td><td>0</td><td>2</td><td>0</td><td>9</td><td>-9</td><td>1</td></tr><tr><td>Playoff Winner 1</td><td>D</td><td>3</td><td>1</td><td>0</td><td>2</td><td>2</td><td>11</td><td>-9</td><td>1</td></tr></tbody></table></div>"
      ]
     },
     "metadata": {
      "application/vnd.databricks.v1+output": {
       "addedWidgets": {},
       "aggData": [],
       "aggError": "",
       "aggOverflow": false,
       "aggSchema": [],
       "aggSeriesLimitReached": false,
       "aggType": "",
       "arguments": {},
       "columnCustomDisplayInfos": {},
       "data": [
        [
         "Serbia",
         "C",
         3,
         0,
         3,
         0,
         10,
         0,
         10,
         9
        ],
        [
         "Netherlands",
         "D",
         3,
         1,
         2,
         0,
         13,
         7,
         6,
         7
        ],
        [
         "Portugal",
         "F",
         3,
         1,
         2,
         0,
         7,
         3,
         4,
         7
        ],
        [
         "Switzerland",
         "A",
         3,
         1,
         2,
         0,
         8,
         4,
         4,
         7
        ],
        [
         "Czech Republic",
         "F",
         3,
         0,
         2,
         1,
         12,
         7,
         5,
         6
        ],
        [
         "Spain",
         "B",
         3,
         0,
         2,
         1,
         9,
         7,
         2,
         6
        ],
        [
         "Italy",
         "B",
         3,
         0,
         2,
         1,
         12,
         11,
         1,
         6
        ],
        [
         "France",
         "D",
         3,
         2,
         1,
         0,
         12,
         7,
         5,
         5
        ],
        [
         "Hungary",
         "A",
         3,
         2,
         1,
         0,
         7,
         4,
         3,
         5
        ],
        [
         "Playoff Winner 2",
         "E",
         3,
         2,
         1,
         0,
         6,
         5,
         1,
         5
        ],
        [
         "England",
         "C",
         3,
         1,
         1,
         1,
         7,
         6,
         1,
         4
        ],
        [
         "Slovakia",
         "E",
         3,
         1,
         1,
         1,
         2,
         3,
         -1,
         4
        ],
        [
         "Romania",
         "E",
         3,
         1,
         1,
         1,
         6,
         8,
         -2,
         4
        ],
        [
         "Belgium",
         "E",
         3,
         0,
         1,
         2,
         4,
         2,
         2,
         3
        ],
        [
         "Croatia",
         "B",
         3,
         0,
         1,
         2,
         9,
         9,
         0,
         3
        ],
        [
         "Albania",
         "B",
         3,
         0,
         1,
         2,
         7,
         10,
         -3,
         3
        ],
        [
         "Turkey",
         "F",
         3,
         0,
         1,
         2,
         7,
         11,
         -4,
         3
        ],
        [
         "Scotland",
         "A",
         3,
         2,
         0,
         1,
         5,
         6,
         -1,
         2
        ],
        [
         "Denmark",
         "C",
         3,
         2,
         0,
         1,
         3,
         5,
         -2,
         2
        ],
        [
         "Austria",
         "D",
         3,
         2,
         0,
         1,
         8,
         10,
         -2,
         2
        ],
        [
         "Playoff Winner 3",
         "F",
         3,
         1,
         0,
         2,
         3,
         8,
         -5,
         1
        ],
        [
         "Germany",
         "A",
         3,
         1,
         0,
         2,
         3,
         9,
         -6,
         1
        ],
        [
         "Slovenia",
         "C",
         3,
         1,
         0,
         2,
         0,
         9,
         -9,
         1
        ],
        [
         "Playoff Winner 1",
         "D",
         3,
         1,
         0,
         2,
         2,
         11,
         -9,
         1
        ]
       ],
       "datasetInfos": [],
       "dbfsResultPath": null,
       "isJsonSchema": true,
       "metadata": {},
       "overflow": false,
       "plotOptions": {
        "customPlotOptions": {},
        "displayType": "table",
        "pivotAggregation": null,
        "pivotColumns": null,
        "xColumns": null,
        "yColumns": null
       },
       "removedWidgets": [],
       "schema": [
        {
         "metadata": "{}",
         "name": "Team",
         "type": "\"string\""
        },
        {
         "metadata": "{}",
         "name": "TeamGroup",
         "type": "\"string\""
        },
        {
         "metadata": "{}",
         "name": "Pld",
         "type": "\"long\""
        },
        {
         "metadata": "{}",
         "name": "D",
         "type": "\"long\""
        },
        {
         "metadata": "{}",
         "name": "W",
         "type": "\"long\""
        },
        {
         "metadata": "{}",
         "name": "L",
         "type": "\"long\""
        },
        {
         "metadata": "{}",
         "name": "GF",
         "type": "\"long\""
        },
        {
         "metadata": "{}",
         "name": "GA",
         "type": "\"long\""
        },
        {
         "metadata": "{}",
         "name": "GD",
         "type": "\"long\""
        },
        {
         "metadata": "{}",
         "name": "Pts",
         "type": "\"long\""
        }
       ],
       "type": "table"
      }
     },
     "output_type": "display_data"
    }
   ],
   "source": [
    "display(gs_match_stats_df)"
   ]
  },
  {
   "cell_type": "code",
   "execution_count": 0,
   "metadata": {
    "application/vnd.databricks.v1+cell": {
     "cellMetadata": {
      "byteLimit": 2048000,
      "rowLimit": 10000
     },
     "inputWidgets": {},
     "nuid": "1dc49989-728a-4787-8a91-125825332b14",
     "showTitle": false,
     "title": ""
    }
   },
   "outputs": [
    {
     "output_type": "display_data",
     "data": {
      "text/html": [
       "<style scoped>\n",
       "  .table-result-container {\n",
       "    max-height: 300px;\n",
       "    overflow: auto;\n",
       "  }\n",
       "  table, th, td {\n",
       "    border: 1px solid black;\n",
       "    border-collapse: collapse;\n",
       "  }\n",
       "  th, td {\n",
       "    padding: 5px;\n",
       "  }\n",
       "  th {\n",
       "    text-align: left;\n",
       "  }\n",
       "</style><div class='table-result-container'><table class='table-result'><thead style='background-color: white'><tr><th>Team</th><th>TeamGroup</th><th>Pld</th><th>D</th><th>W</th><th>L</th><th>GF</th><th>GA</th><th>GD</th><th>Pts</th><th>Pos</th></tr></thead><tbody><tr><td>Switzerland</td><td>A</td><td>3</td><td>1</td><td>2</td><td>0</td><td>8</td><td>4</td><td>4</td><td>7</td><td>1</td></tr><tr><td>Hungary</td><td>A</td><td>3</td><td>2</td><td>1</td><td>0</td><td>7</td><td>4</td><td>3</td><td>5</td><td>2</td></tr><tr><td>Scotland</td><td>A</td><td>3</td><td>2</td><td>0</td><td>1</td><td>5</td><td>6</td><td>-1</td><td>2</td><td>3</td></tr><tr><td>Germany</td><td>A</td><td>3</td><td>1</td><td>0</td><td>2</td><td>3</td><td>9</td><td>-6</td><td>1</td><td>4</td></tr><tr><td>Spain</td><td>B</td><td>3</td><td>0</td><td>2</td><td>1</td><td>9</td><td>7</td><td>2</td><td>6</td><td>1</td></tr><tr><td>Italy</td><td>B</td><td>3</td><td>0</td><td>2</td><td>1</td><td>12</td><td>11</td><td>1</td><td>6</td><td>2</td></tr><tr><td>Croatia</td><td>B</td><td>3</td><td>0</td><td>1</td><td>2</td><td>9</td><td>9</td><td>0</td><td>3</td><td>3</td></tr><tr><td>Albania</td><td>B</td><td>3</td><td>0</td><td>1</td><td>2</td><td>7</td><td>10</td><td>-3</td><td>3</td><td>4</td></tr><tr><td>Serbia</td><td>C</td><td>3</td><td>0</td><td>3</td><td>0</td><td>10</td><td>0</td><td>10</td><td>9</td><td>1</td></tr><tr><td>England</td><td>C</td><td>3</td><td>1</td><td>1</td><td>1</td><td>7</td><td>6</td><td>1</td><td>4</td><td>2</td></tr><tr><td>Denmark</td><td>C</td><td>3</td><td>2</td><td>0</td><td>1</td><td>3</td><td>5</td><td>-2</td><td>2</td><td>3</td></tr><tr><td>Slovenia</td><td>C</td><td>3</td><td>1</td><td>0</td><td>2</td><td>0</td><td>9</td><td>-9</td><td>1</td><td>4</td></tr><tr><td>Netherlands</td><td>D</td><td>3</td><td>1</td><td>2</td><td>0</td><td>13</td><td>7</td><td>6</td><td>7</td><td>1</td></tr><tr><td>France</td><td>D</td><td>3</td><td>2</td><td>1</td><td>0</td><td>12</td><td>7</td><td>5</td><td>5</td><td>2</td></tr><tr><td>Austria</td><td>D</td><td>3</td><td>2</td><td>0</td><td>1</td><td>8</td><td>10</td><td>-2</td><td>2</td><td>3</td></tr><tr><td>Playoff Winner 1</td><td>D</td><td>3</td><td>1</td><td>0</td><td>2</td><td>2</td><td>11</td><td>-9</td><td>1</td><td>4</td></tr><tr><td>Playoff Winner 2</td><td>E</td><td>3</td><td>2</td><td>1</td><td>0</td><td>6</td><td>5</td><td>1</td><td>5</td><td>1</td></tr><tr><td>Slovakia</td><td>E</td><td>3</td><td>1</td><td>1</td><td>1</td><td>2</td><td>3</td><td>-1</td><td>4</td><td>2</td></tr><tr><td>Romania</td><td>E</td><td>3</td><td>1</td><td>1</td><td>1</td><td>6</td><td>8</td><td>-2</td><td>4</td><td>3</td></tr><tr><td>Belgium</td><td>E</td><td>3</td><td>0</td><td>1</td><td>2</td><td>4</td><td>2</td><td>2</td><td>3</td><td>4</td></tr><tr><td>Portugal</td><td>F</td><td>3</td><td>1</td><td>2</td><td>0</td><td>7</td><td>3</td><td>4</td><td>7</td><td>1</td></tr><tr><td>Czech Republic</td><td>F</td><td>3</td><td>0</td><td>2</td><td>1</td><td>12</td><td>7</td><td>5</td><td>6</td><td>2</td></tr><tr><td>Turkey</td><td>F</td><td>3</td><td>0</td><td>1</td><td>2</td><td>7</td><td>11</td><td>-4</td><td>3</td><td>3</td></tr><tr><td>Playoff Winner 3</td><td>F</td><td>3</td><td>1</td><td>0</td><td>2</td><td>3</td><td>8</td><td>-5</td><td>1</td><td>4</td></tr></tbody></table></div>"
      ]
     },
     "metadata": {
      "application/vnd.databricks.v1+output": {
       "addedWidgets": {},
       "aggData": [],
       "aggError": "",
       "aggOverflow": false,
       "aggSchema": [],
       "aggSeriesLimitReached": false,
       "aggType": "",
       "arguments": {},
       "columnCustomDisplayInfos": {},
       "data": [
        [
         "Switzerland",
         "A",
         3,
         1,
         2,
         0,
         8,
         4,
         4,
         7,
         1
        ],
        [
         "Hungary",
         "A",
         3,
         2,
         1,
         0,
         7,
         4,
         3,
         5,
         2
        ],
        [
         "Scotland",
         "A",
         3,
         2,
         0,
         1,
         5,
         6,
         -1,
         2,
         3
        ],
        [
         "Germany",
         "A",
         3,
         1,
         0,
         2,
         3,
         9,
         -6,
         1,
         4
        ],
        [
         "Spain",
         "B",
         3,
         0,
         2,
         1,
         9,
         7,
         2,
         6,
         1
        ],
        [
         "Italy",
         "B",
         3,
         0,
         2,
         1,
         12,
         11,
         1,
         6,
         2
        ],
        [
         "Croatia",
         "B",
         3,
         0,
         1,
         2,
         9,
         9,
         0,
         3,
         3
        ],
        [
         "Albania",
         "B",
         3,
         0,
         1,
         2,
         7,
         10,
         -3,
         3,
         4
        ],
        [
         "Serbia",
         "C",
         3,
         0,
         3,
         0,
         10,
         0,
         10,
         9,
         1
        ],
        [
         "England",
         "C",
         3,
         1,
         1,
         1,
         7,
         6,
         1,
         4,
         2
        ],
        [
         "Denmark",
         "C",
         3,
         2,
         0,
         1,
         3,
         5,
         -2,
         2,
         3
        ],
        [
         "Slovenia",
         "C",
         3,
         1,
         0,
         2,
         0,
         9,
         -9,
         1,
         4
        ],
        [
         "Netherlands",
         "D",
         3,
         1,
         2,
         0,
         13,
         7,
         6,
         7,
         1
        ],
        [
         "France",
         "D",
         3,
         2,
         1,
         0,
         12,
         7,
         5,
         5,
         2
        ],
        [
         "Austria",
         "D",
         3,
         2,
         0,
         1,
         8,
         10,
         -2,
         2,
         3
        ],
        [
         "Playoff Winner 1",
         "D",
         3,
         1,
         0,
         2,
         2,
         11,
         -9,
         1,
         4
        ],
        [
         "Playoff Winner 2",
         "E",
         3,
         2,
         1,
         0,
         6,
         5,
         1,
         5,
         1
        ],
        [
         "Slovakia",
         "E",
         3,
         1,
         1,
         1,
         2,
         3,
         -1,
         4,
         2
        ],
        [
         "Romania",
         "E",
         3,
         1,
         1,
         1,
         6,
         8,
         -2,
         4,
         3
        ],
        [
         "Belgium",
         "E",
         3,
         0,
         1,
         2,
         4,
         2,
         2,
         3,
         4
        ],
        [
         "Portugal",
         "F",
         3,
         1,
         2,
         0,
         7,
         3,
         4,
         7,
         1
        ],
        [
         "Czech Republic",
         "F",
         3,
         0,
         2,
         1,
         12,
         7,
         5,
         6,
         2
        ],
        [
         "Turkey",
         "F",
         3,
         0,
         1,
         2,
         7,
         11,
         -4,
         3,
         3
        ],
        [
         "Playoff Winner 3",
         "F",
         3,
         1,
         0,
         2,
         3,
         8,
         -5,
         1,
         4
        ]
       ],
       "datasetInfos": [],
       "dbfsResultPath": null,
       "isJsonSchema": true,
       "metadata": {},
       "overflow": false,
       "plotOptions": {
        "customPlotOptions": {},
        "displayType": "table",
        "pivotAggregation": null,
        "pivotColumns": null,
        "xColumns": null,
        "yColumns": null
       },
       "removedWidgets": [],
       "schema": [
        {
         "metadata": "{}",
         "name": "Team",
         "type": "\"string\""
        },
        {
         "metadata": "{}",
         "name": "TeamGroup",
         "type": "\"string\""
        },
        {
         "metadata": "{}",
         "name": "Pld",
         "type": "\"long\""
        },
        {
         "metadata": "{}",
         "name": "D",
         "type": "\"long\""
        },
        {
         "metadata": "{}",
         "name": "W",
         "type": "\"long\""
        },
        {
         "metadata": "{}",
         "name": "L",
         "type": "\"long\""
        },
        {
         "metadata": "{}",
         "name": "GF",
         "type": "\"long\""
        },
        {
         "metadata": "{}",
         "name": "GA",
         "type": "\"long\""
        },
        {
         "metadata": "{}",
         "name": "GD",
         "type": "\"long\""
        },
        {
         "metadata": "{}",
         "name": "Pts",
         "type": "\"long\""
        },
        {
         "metadata": "{}",
         "name": "Pos",
         "type": "\"integer\""
        }
       ],
       "type": "table"
      }
     },
     "output_type": "display_data"
    }
   ],
   "source": [
    "# Create a window specification to partition by Group and order by Points and Goal Difference\n",
    "windowSpec = Window.partitionBy(gs_match_stats_df[\"TeamGroup\"]).orderBy(gs_match_stats_df[\"Pts\"].desc(), gs_match_stats_df[\"GD\"].desc())\n",
    "\n",
    "# Assign positions within each group\n",
    "gs_match_stats_df = gs_match_stats_df.withColumn(\"Pos\", row_number().over(windowSpec))\n",
    "display(gs_match_stats_df)"
   ]
  },
  {
   "cell_type": "code",
   "execution_count": 0,
   "metadata": {
    "application/vnd.databricks.v1+cell": {
     "cellMetadata": {
      "byteLimit": 2048000,
      "rowLimit": 10000
     },
     "inputWidgets": {},
     "nuid": "7dc63277-17f4-475b-ba98-90e4e8dcbc40",
     "showTitle": false,
     "title": ""
    }
   },
   "outputs": [],
   "source": [
    "gs_match_stats_df.createOrReplaceTempView(\"gs_stats_table\");"
   ]
  },
  {
   "cell_type": "code",
   "execution_count": 0,
   "metadata": {
    "application/vnd.databricks.v1+cell": {
     "cellMetadata": {
      "byteLimit": 2048000,
      "implicitDf": true,
      "rowLimit": 10000
     },
     "inputWidgets": {},
     "nuid": "ca7bfe41-8bab-41a4-9802-4a8f88d6741e",
     "showTitle": false,
     "title": ""
    }
   },
   "outputs": [],
   "source": [
    "# %sql\n",
    "# DROP TABLE IF EXISTS 3rd_place_Combinations;"
   ]
  },
  {
   "cell_type": "code",
   "execution_count": 0,
   "metadata": {
    "application/vnd.databricks.v1+cell": {
     "cellMetadata": {
      "byteLimit": 2048000,
      "rowLimit": 10000
     },
     "inputWidgets": {},
     "nuid": "027b79bb-e5bb-4a73-a5ac-333fd91d070c",
     "showTitle": false,
     "title": ""
    }
   },
   "outputs": [],
   "source": [
    "# %fs\n",
    "# rm -r dbfs:/user/hive/warehouse/3rd_place_combinations/part-00000-46a51ba8-3585-4b5a-a2f7-16ffa6c7b13c-c000.snappy.parquet"
   ]
  },
  {
   "cell_type": "code",
   "execution_count": 0,
   "metadata": {
    "application/vnd.databricks.v1+cell": {
     "cellMetadata": {
      "byteLimit": 2048000,
      "implicitDf": true,
      "rowLimit": 10000
     },
     "inputWidgets": {},
     "nuid": "38f73eed-2abd-4bfb-b94c-1dd2ffb65bd0",
     "showTitle": false,
     "title": ""
    }
   },
   "outputs": [
    {
     "output_type": "display_data",
     "data": {
      "text/html": [
       "<style scoped>\n",
       "  .table-result-container {\n",
       "    max-height: 300px;\n",
       "    overflow: auto;\n",
       "  }\n",
       "  table, th, td {\n",
       "    border: 1px solid black;\n",
       "    border-collapse: collapse;\n",
       "  }\n",
       "  th, td {\n",
       "    padding: 5px;\n",
       "  }\n",
       "  th {\n",
       "    text-align: left;\n",
       "  }\n",
       "</style><div class='table-result-container'><table class='table-result'><thead style='background-color: white'><tr></tr></thead><tbody></tbody></table></div>"
      ]
     },
     "metadata": {
      "application/vnd.databricks.v1+output": {
       "addedWidgets": {},
       "aggData": [],
       "aggError": "",
       "aggOverflow": false,
       "aggSchema": [],
       "aggSeriesLimitReached": false,
       "aggType": "",
       "arguments": {},
       "columnCustomDisplayInfos": {},
       "data": [],
       "datasetInfos": [],
       "dbfsResultPath": null,
       "isJsonSchema": true,
       "metadata": {},
       "overflow": false,
       "plotOptions": {
        "customPlotOptions": {},
        "displayType": "table",
        "pivotAggregation": null,
        "pivotColumns": null,
        "xColumns": null,
        "yColumns": null
       },
       "removedWidgets": [],
       "schema": [],
       "type": "table"
      }
     },
     "output_type": "display_data"
    }
   ],
   "source": [
    "%sql\n",
    "CREATE TABLE IF NOT EXISTS 3rd_place_Combination (\n",
    "  ID INTEGER,\n",
    "  GroupId VARCHAR(4),\n",
    "  Team1B CHAR(1),\n",
    "  Team1C CHAR(1),\n",
    "  Team1E CHAR(1),\n",
    "  Team1F CHAR(1)\n",
    ")\n",
    "-- LOCATION 'dbfs:/user/hive/warehouse/3rdd_place_Combination';"
   ]
  },
  {
   "cell_type": "code",
   "execution_count": 0,
   "metadata": {
    "application/vnd.databricks.v1+cell": {
     "cellMetadata": {
      "byteLimit": 2048000,
      "implicitDf": true,
      "rowLimit": 10000
     },
     "inputWidgets": {},
     "nuid": "978ef799-b3ba-4f7b-bdda-7f6d8da6eddb",
     "showTitle": false,
     "title": ""
    }
   },
   "outputs": [
    {
     "output_type": "display_data",
     "data": {
      "text/html": [
       "<style scoped>\n",
       "  .table-result-container {\n",
       "    max-height: 300px;\n",
       "    overflow: auto;\n",
       "  }\n",
       "  table, th, td {\n",
       "    border: 1px solid black;\n",
       "    border-collapse: collapse;\n",
       "  }\n",
       "  th, td {\n",
       "    padding: 5px;\n",
       "  }\n",
       "  th {\n",
       "    text-align: left;\n",
       "  }\n",
       "</style><div class='table-result-container'><table class='table-result'><thead style='background-color: white'><tr><th>num_affected_rows</th><th>num_inserted_rows</th></tr></thead><tbody><tr><td>15</td><td>15</td></tr></tbody></table></div>"
      ]
     },
     "metadata": {
      "application/vnd.databricks.v1+output": {
       "addedWidgets": {},
       "aggData": [],
       "aggError": "",
       "aggOverflow": false,
       "aggSchema": [],
       "aggSeriesLimitReached": false,
       "aggType": "",
       "arguments": {},
       "columnCustomDisplayInfos": {},
       "data": [
        [
         15,
         15
        ]
       ],
       "datasetInfos": [],
       "dbfsResultPath": null,
       "isJsonSchema": true,
       "metadata": {},
       "overflow": false,
       "plotOptions": {
        "customPlotOptions": {},
        "displayType": "table",
        "pivotAggregation": null,
        "pivotColumns": null,
        "xColumns": null,
        "yColumns": null
       },
       "removedWidgets": [],
       "schema": [
        {
         "metadata": "{}",
         "name": "num_affected_rows",
         "type": "\"long\""
        },
        {
         "metadata": "{}",
         "name": "num_inserted_rows",
         "type": "\"long\""
        }
       ],
       "type": "table"
      }
     },
     "output_type": "display_data"
    }
   ],
   "source": [
    "%sql\n",
    "INSERT INTO 3rd_place_Combination (ID, GroupId, Team1B, Team1C, Team1E, Team1F) VALUES\n",
    "(1, 'ABCD', 'A', 'D', 'B', 'C'),\n",
    "(2, 'ABCE', 'A', 'E', 'B', 'C'),\n",
    "(3, 'ABCF', 'A', 'F', 'B', 'C'),\n",
    "(4, 'ABDE', 'D', 'E', 'A', 'B'),\n",
    "(5, 'ABDF', 'D', 'F', 'A', 'B'),\n",
    "(6, 'ABEF', 'E', 'F', 'B', 'A'),\n",
    "(7, 'ACDE', 'E', 'D', 'C', 'A'),\n",
    "(8, 'ACDF', 'F', 'D', 'C', 'A'),\n",
    "(9, 'ACEF', 'E', 'F', 'C', 'A'),\n",
    "(10, 'ADEF', 'E', 'F', 'D', 'A'),\n",
    "(11, 'BCDE', 'E', 'D', 'B', 'C'),\n",
    "(12, 'BCDF', 'F', 'D', 'C', 'B'),\n",
    "(13, 'BCEF', 'F', 'E', 'C', 'B'),\n",
    "(14, 'BDEF', 'F', 'E', 'D', 'B'),\n",
    "(15, 'CDEF', 'F', 'E', 'D', 'C');"
   ]
  },
  {
   "cell_type": "code",
   "execution_count": 0,
   "metadata": {
    "application/vnd.databricks.v1+cell": {
     "cellMetadata": {
      "byteLimit": 2048000,
      "implicitDf": true,
      "rowLimit": 10000
     },
     "inputWidgets": {},
     "nuid": "8f520b0c-9d6c-4018-8c73-91ae129b3dfd",
     "showTitle": false,
     "title": ""
    }
   },
   "outputs": [
    {
     "output_type": "display_data",
     "data": {
      "text/html": [
       "<style scoped>\n",
       "  .table-result-container {\n",
       "    max-height: 300px;\n",
       "    overflow: auto;\n",
       "  }\n",
       "  table, th, td {\n",
       "    border: 1px solid black;\n",
       "    border-collapse: collapse;\n",
       "  }\n",
       "  th, td {\n",
       "    padding: 5px;\n",
       "  }\n",
       "  th {\n",
       "    text-align: left;\n",
       "  }\n",
       "</style><div class='table-result-container'><table class='table-result'><thead style='background-color: white'><tr><th>ID</th><th>GroupId</th><th>Team1B</th><th>Team1C</th><th>Team1E</th><th>Team1F</th></tr></thead><tbody><tr><td>1</td><td>ABCD</td><td>A</td><td>D</td><td>B</td><td>C</td></tr><tr><td>2</td><td>ABCE</td><td>A</td><td>E</td><td>B</td><td>C</td></tr><tr><td>3</td><td>ABCF</td><td>A</td><td>F</td><td>B</td><td>C</td></tr><tr><td>4</td><td>ABDE</td><td>D</td><td>E</td><td>A</td><td>B</td></tr><tr><td>5</td><td>ABDF</td><td>D</td><td>F</td><td>A</td><td>B</td></tr><tr><td>6</td><td>ABEF</td><td>E</td><td>F</td><td>B</td><td>A</td></tr><tr><td>7</td><td>ACDE</td><td>E</td><td>D</td><td>C</td><td>A</td></tr><tr><td>8</td><td>ACDF</td><td>F</td><td>D</td><td>C</td><td>A</td></tr><tr><td>9</td><td>ACEF</td><td>E</td><td>F</td><td>C</td><td>A</td></tr><tr><td>10</td><td>ADEF</td><td>E</td><td>F</td><td>D</td><td>A</td></tr><tr><td>11</td><td>BCDE</td><td>E</td><td>D</td><td>B</td><td>C</td></tr><tr><td>12</td><td>BCDF</td><td>F</td><td>D</td><td>C</td><td>B</td></tr><tr><td>13</td><td>BCEF</td><td>F</td><td>E</td><td>C</td><td>B</td></tr><tr><td>14</td><td>BDEF</td><td>F</td><td>E</td><td>D</td><td>B</td></tr><tr><td>15</td><td>CDEF</td><td>F</td><td>E</td><td>D</td><td>C</td></tr></tbody></table></div>"
      ]
     },
     "metadata": {
      "application/vnd.databricks.v1+output": {
       "addedWidgets": {},
       "aggData": [],
       "aggError": "",
       "aggOverflow": false,
       "aggSchema": [],
       "aggSeriesLimitReached": false,
       "aggType": "",
       "arguments": {},
       "columnCustomDisplayInfos": {},
       "data": [
        [
         1,
         "ABCD",
         "A",
         "D",
         "B",
         "C"
        ],
        [
         2,
         "ABCE",
         "A",
         "E",
         "B",
         "C"
        ],
        [
         3,
         "ABCF",
         "A",
         "F",
         "B",
         "C"
        ],
        [
         4,
         "ABDE",
         "D",
         "E",
         "A",
         "B"
        ],
        [
         5,
         "ABDF",
         "D",
         "F",
         "A",
         "B"
        ],
        [
         6,
         "ABEF",
         "E",
         "F",
         "B",
         "A"
        ],
        [
         7,
         "ACDE",
         "E",
         "D",
         "C",
         "A"
        ],
        [
         8,
         "ACDF",
         "F",
         "D",
         "C",
         "A"
        ],
        [
         9,
         "ACEF",
         "E",
         "F",
         "C",
         "A"
        ],
        [
         10,
         "ADEF",
         "E",
         "F",
         "D",
         "A"
        ],
        [
         11,
         "BCDE",
         "E",
         "D",
         "B",
         "C"
        ],
        [
         12,
         "BCDF",
         "F",
         "D",
         "C",
         "B"
        ],
        [
         13,
         "BCEF",
         "F",
         "E",
         "C",
         "B"
        ],
        [
         14,
         "BDEF",
         "F",
         "E",
         "D",
         "B"
        ],
        [
         15,
         "CDEF",
         "F",
         "E",
         "D",
         "C"
        ]
       ],
       "datasetInfos": [],
       "dbfsResultPath": null,
       "isJsonSchema": true,
       "metadata": {},
       "overflow": false,
       "plotOptions": {
        "customPlotOptions": {},
        "displayType": "table",
        "pivotAggregation": null,
        "pivotColumns": null,
        "xColumns": null,
        "yColumns": null
       },
       "removedWidgets": [],
       "schema": [
        {
         "metadata": "{}",
         "name": "ID",
         "type": "\"integer\""
        },
        {
         "metadata": "{\"__CHAR_VARCHAR_TYPE_STRING\":\"varchar(4)\"}",
         "name": "GroupId",
         "type": "\"string\""
        },
        {
         "metadata": "{\"__CHAR_VARCHAR_TYPE_STRING\":\"char(1)\"}",
         "name": "Team1B",
         "type": "\"string\""
        },
        {
         "metadata": "{\"__CHAR_VARCHAR_TYPE_STRING\":\"char(1)\"}",
         "name": "Team1C",
         "type": "\"string\""
        },
        {
         "metadata": "{\"__CHAR_VARCHAR_TYPE_STRING\":\"char(1)\"}",
         "name": "Team1E",
         "type": "\"string\""
        },
        {
         "metadata": "{\"__CHAR_VARCHAR_TYPE_STRING\":\"char(1)\"}",
         "name": "Team1F",
         "type": "\"string\""
        }
       ],
       "type": "table"
      }
     },
     "output_type": "display_data"
    }
   ],
   "source": [
    "%sql\n",
    "select * from 3rd_place_Combination"
   ]
  },
  {
   "cell_type": "code",
   "execution_count": 0,
   "metadata": {
    "application/vnd.databricks.v1+cell": {
     "cellMetadata": {
      "byteLimit": 2048000,
      "implicitDf": true,
      "rowLimit": 10000
     },
     "inputWidgets": {},
     "nuid": "6899aa30-0cf6-4be3-8c93-240a99ebcf21",
     "showTitle": false,
     "title": ""
    }
   },
   "outputs": [
    {
     "output_type": "display_data",
     "data": {
      "text/html": [
       "<style scoped>\n",
       "  .table-result-container {\n",
       "    max-height: 300px;\n",
       "    overflow: auto;\n",
       "  }\n",
       "  table, th, td {\n",
       "    border: 1px solid black;\n",
       "    border-collapse: collapse;\n",
       "  }\n",
       "  th, td {\n",
       "    padding: 5px;\n",
       "  }\n",
       "  th {\n",
       "    text-align: left;\n",
       "  }\n",
       "</style><div class='table-result-container'><table class='table-result'><thead style='background-color: white'><tr><th>ID</th><th>GroupId</th><th>Team1B</th><th>Team1C</th><th>Team1E</th><th>Team1F</th></tr></thead><tbody><tr><td>8</td><td>ACDF</td><td>F</td><td>D</td><td>C</td><td>A</td></tr></tbody></table></div>"
      ]
     },
     "metadata": {
      "application/vnd.databricks.v1+output": {
       "addedWidgets": {},
       "aggData": [],
       "aggError": "",
       "aggOverflow": false,
       "aggSchema": [],
       "aggSeriesLimitReached": false,
       "aggType": "",
       "arguments": {},
       "columnCustomDisplayInfos": {},
       "data": [
        [
         8,
         "ACDF",
         "F",
         "D",
         "C",
         "A"
        ]
       ],
       "datasetInfos": [],
       "dbfsResultPath": null,
       "isJsonSchema": true,
       "metadata": {},
       "overflow": false,
       "plotOptions": {
        "customPlotOptions": {},
        "displayType": "table",
        "pivotAggregation": null,
        "pivotColumns": null,
        "xColumns": null,
        "yColumns": null
       },
       "removedWidgets": [],
       "schema": [
        {
         "metadata": "{}",
         "name": "ID",
         "type": "\"integer\""
        },
        {
         "metadata": "{\"__CHAR_VARCHAR_TYPE_STRING\":\"varchar(4)\"}",
         "name": "GroupId",
         "type": "\"string\""
        },
        {
         "metadata": "{\"__CHAR_VARCHAR_TYPE_STRING\":\"char(1)\"}",
         "name": "Team1B",
         "type": "\"string\""
        },
        {
         "metadata": "{\"__CHAR_VARCHAR_TYPE_STRING\":\"char(1)\"}",
         "name": "Team1C",
         "type": "\"string\""
        },
        {
         "metadata": "{\"__CHAR_VARCHAR_TYPE_STRING\":\"char(1)\"}",
         "name": "Team1E",
         "type": "\"string\""
        },
        {
         "metadata": "{\"__CHAR_VARCHAR_TYPE_STRING\":\"char(1)\"}",
         "name": "Team1F",
         "type": "\"string\""
        }
       ],
       "type": "table"
      }
     },
     "output_type": "display_data"
    }
   ],
   "source": [
    "%sql\n",
    "WITH thirds AS (\n",
    "    SELECT \n",
    "        TeamGroup,\n",
    "        ROW_NUMBER() OVER (ORDER BY Pts, GD) AS rank \n",
    "    FROM \n",
    "        gs_stats_table \n",
    "    WHERE \n",
    "        pos = 3 \n",
    "    LIMIT 4\n",
    "),\n",
    "-- select * from thirds;\n",
    "GrpConcat AS (\n",
    "    SELECT \n",
    "         CONCAT_WS('', sort_array(COLLECT_LIST(TeamGroup))) AS grp\n",
    "    FROM \n",
    "        thirds \n",
    "),\n",
    "-- select * from GrpConcat ;\n",
    "combo AS (\n",
    "    SELECT * \n",
    "    FROM 3rd_place_Combination \n",
    "    WHERE GroupId = (SELECT grp FROM GrpConcat)\n",
    ")\n",
    "select * from combo ;\n",
    "-- SELECT Team1B FROM combo;"
   ]
  },
  {
   "cell_type": "code",
   "execution_count": 0,
   "metadata": {
    "application/vnd.databricks.v1+cell": {
     "cellMetadata": {
      "byteLimit": 2048000,
      "implicitDf": true,
      "rowLimit": 10000
     },
     "inputWidgets": {},
     "nuid": "7cf1dd40-3dd6-4e93-8817-7a84bc62c688",
     "showTitle": false,
     "title": ""
    }
   },
   "outputs": [
    {
     "output_type": "display_data",
     "data": {
      "text/html": [
       "<style scoped>\n",
       "  .table-result-container {\n",
       "    max-height: 300px;\n",
       "    overflow: auto;\n",
       "  }\n",
       "  table, th, td {\n",
       "    border: 1px solid black;\n",
       "    border-collapse: collapse;\n",
       "  }\n",
       "  th, td {\n",
       "    padding: 5px;\n",
       "  }\n",
       "  th {\n",
       "    text-align: left;\n",
       "  }\n",
       "</style><div class='table-result-container'><table class='table-result'><thead style='background-color: white'><tr></tr></thead><tbody></tbody></table></div>"
      ]
     },
     "metadata": {
      "application/vnd.databricks.v1+output": {
       "addedWidgets": {},
       "aggData": [],
       "aggError": "",
       "aggOverflow": false,
       "aggSchema": [],
       "aggSeriesLimitReached": false,
       "aggType": "",
       "arguments": {},
       "columnCustomDisplayInfos": {},
       "data": [],
       "datasetInfos": [],
       "dbfsResultPath": null,
       "isJsonSchema": true,
       "metadata": {},
       "overflow": false,
       "plotOptions": {
        "customPlotOptions": {},
        "displayType": "table",
        "pivotAggregation": null,
        "pivotColumns": null,
        "xColumns": null,
        "yColumns": null
       },
       "removedWidgets": [],
       "schema": [],
       "type": "table"
      }
     },
     "output_type": "display_data"
    }
   ],
   "source": [
    "\n",
    "%sql\n",
    "CREATE or replace TABLE round_16_teams(\n",
    "  M_ID INT,\n",
    "  Team_1 VARCHAR(25),\n",
    "  Team_2 VARCHAR(25)\n",
    ");\n"
   ]
  },
  {
   "cell_type": "code",
   "execution_count": 0,
   "metadata": {
    "application/vnd.databricks.v1+cell": {
     "cellMetadata": {
      "byteLimit": 2048000,
      "implicitDf": true,
      "rowLimit": 10000
     },
     "inputWidgets": {},
     "nuid": "8a4a837b-63d8-40ba-8f6f-cc34400c6e8c",
     "showTitle": false,
     "title": ""
    }
   },
   "outputs": [
    {
     "output_type": "display_data",
     "data": {
      "text/html": [
       "<style scoped>\n",
       "  .table-result-container {\n",
       "    max-height: 300px;\n",
       "    overflow: auto;\n",
       "  }\n",
       "  table, th, td {\n",
       "    border: 1px solid black;\n",
       "    border-collapse: collapse;\n",
       "  }\n",
       "  th, td {\n",
       "    padding: 5px;\n",
       "  }\n",
       "  th {\n",
       "    text-align: left;\n",
       "  }\n",
       "</style><div class='table-result-container'><table class='table-result'><thead style='background-color: white'><tr><th>num_affected_rows</th><th>num_inserted_rows</th></tr></thead><tbody><tr><td>8</td><td>8</td></tr></tbody></table></div>"
      ]
     },
     "metadata": {
      "application/vnd.databricks.v1+output": {
       "addedWidgets": {},
       "aggData": [],
       "aggError": "",
       "aggOverflow": false,
       "aggSchema": [],
       "aggSeriesLimitReached": false,
       "aggType": "",
       "arguments": {},
       "columnCustomDisplayInfos": {},
       "data": [
        [
         8,
         8
        ]
       ],
       "datasetInfos": [],
       "dbfsResultPath": null,
       "isJsonSchema": true,
       "metadata": {},
       "overflow": false,
       "plotOptions": {
        "customPlotOptions": {},
        "displayType": "table",
        "pivotAggregation": null,
        "pivotColumns": null,
        "xColumns": null,
        "yColumns": null
       },
       "removedWidgets": [],
       "schema": [
        {
         "metadata": "{}",
         "name": "num_affected_rows",
         "type": "\"long\""
        },
        {
         "metadata": "{}",
         "name": "num_inserted_rows",
         "type": "\"long\""
        }
       ],
       "type": "table"
      }
     },
     "output_type": "display_data"
    }
   ],
   "source": [
    "%sql\n",
    "WITH thirds AS (\n",
    "    SELECT \n",
    "        TeamGroup,\n",
    "        ROW_NUMBER() OVER (ORDER BY Pts, GD) AS rank \n",
    "    FROM \n",
    "        gs_stats_table \n",
    "    WHERE \n",
    "        pos = 3 \n",
    "    LIMIT 4\n",
    "),\n",
    "-- select * from thirds;\n",
    "GrpConcat AS (\n",
    "    SELECT \n",
    "         CONCAT_WS('', sort_array(COLLECT_LIST(TeamGroup))) AS grp\n",
    "    FROM \n",
    "        thirds \n",
    "),\n",
    "-- select * from GrpConcat ;\n",
    "combo AS (\n",
    "    SELECT * \n",
    "    FROM 3rd_place_Combination \n",
    "    WHERE GroupId = (SELECT grp FROM GrpConcat)\n",
    ")\n",
    "-- select * from combo ;\n",
    "-- SELECT Team1B FROM combo;\n",
    "INSERT INTO round_16_teams(\n",
    "    SELECT 1 AS M_ID,\n",
    "        (SELECT Team FROM gs_stats_table WHERE Pos = 1 AND TeamGroup = 'B') as Team1B,\n",
    "        (SELECT Team FROM gs_stats_table WHERE Pos = 3 AND TeamGroup = (SELECT Team1B FROM combo)) as Team3rd_1\n",
    "    UNION ALL\n",
    "    SELECT 2 as M_ID,\n",
    "        (SELECT Team FROM gs_stats_table WHERE Pos = 1 AND TeamGroup = 'A') as Team1A,\n",
    "        (SELECT Team FROM gs_stats_table WHERE Pos = 2 AND TeamGroup = 'C') as Team2C\n",
    "    UNION ALL\n",
    "    SELECT 3 AS M_ID,\n",
    "        (SELECT Team FROM gs_stats_table WHERE Pos = 1 AND TeamGroup = 'F') as Team1F,\n",
    "        (SELECT Team FROM gs_stats_table WHERE Pos = 3 AND TeamGroup = (SELECT Team1F FROM combo)) as Team3rd_2\n",
    "    UNION ALL\n",
    "    SELECT 4 as M_ID,\n",
    "        (SELECT Team FROM gs_stats_table WHERE Pos = 2 AND TeamGroup = 'D') as Team1D,\n",
    "        (SELECT Team FROM gs_stats_table WHERE Pos = 2 AND TeamGroup = 'E') as Team2E\n",
    "    UNION ALL\n",
    "    SELECT 5 AS M_ID,\n",
    "        (SELECT Team FROM gs_stats_table WHERE Pos = 1 AND TeamGroup = 'E') as Team1E,\n",
    "        (SELECT Team FROM gs_stats_table WHERE Pos = 3 AND TeamGroup = (SELECT Team1E FROM combo)) as Team3rd_3\n",
    "    UNION ALL\n",
    "    SELECT 6 as M_ID,\n",
    "        (SELECT Team FROM gs_stats_table WHERE Pos = 1 AND TeamGroup = 'D') as Team1D,\n",
    "        (SELECT Team FROM gs_stats_table WHERE Pos = 2 AND TeamGroup = 'F') as Team2F\n",
    "    UNION ALL\n",
    "    SELECT 7 AS M_ID,\n",
    "        (SELECT Team FROM gs_stats_table WHERE Pos = 1 AND TeamGroup = 'C') as Team1C,\n",
    "        (SELECT Team FROM gs_stats_table WHERE Pos = 3 AND TeamGroup = (SELECT Team1C FROM combo)) as Team3rd_4\n",
    "    UNION ALL\n",
    "    SELECT 8 as M_ID,\n",
    "        (SELECT Team FROM gs_stats_table WHERE Pos = 2 AND TeamGroup = 'A') as Team2A,\n",
    "        (SELECT Team FROM gs_stats_table WHERE Pos = 2 AND TeamGroup = 'B') as Team2B\n",
    "    FROM combo\n",
    ");"
   ]
  },
  {
   "cell_type": "code",
   "execution_count": 0,
   "metadata": {
    "application/vnd.databricks.v1+cell": {
     "cellMetadata": {
      "byteLimit": 2048000,
      "implicitDf": true,
      "rowLimit": 10000
     },
     "inputWidgets": {},
     "nuid": "e5340d90-b1ac-4d4f-8ad0-3836c75dfe5f",
     "showTitle": false,
     "title": ""
    }
   },
   "outputs": [
    {
     "output_type": "display_data",
     "data": {
      "text/html": [
       "<style scoped>\n",
       "  .table-result-container {\n",
       "    max-height: 300px;\n",
       "    overflow: auto;\n",
       "  }\n",
       "  table, th, td {\n",
       "    border: 1px solid black;\n",
       "    border-collapse: collapse;\n",
       "  }\n",
       "  th, td {\n",
       "    padding: 5px;\n",
       "  }\n",
       "  th {\n",
       "    text-align: left;\n",
       "  }\n",
       "</style><div class='table-result-container'><table class='table-result'><thead style='background-color: white'><tr><th>M_ID</th><th>Team_1</th><th>Team_2</th></tr></thead><tbody><tr><td>1</td><td>Spain</td><td>Turkey</td></tr><tr><td>2</td><td>Switzerland</td><td>England</td></tr><tr><td>3</td><td>Portugal</td><td>Scotland</td></tr><tr><td>4</td><td>France</td><td>Slovakia</td></tr><tr><td>5</td><td>Playoff Winner 2</td><td>Denmark</td></tr><tr><td>6</td><td>Netherlands</td><td>Czech Republic</td></tr><tr><td>7</td><td>Serbia</td><td>Austria</td></tr><tr><td>8</td><td>Hungary</td><td>Italy</td></tr></tbody></table></div>"
      ]
     },
     "metadata": {
      "application/vnd.databricks.v1+output": {
       "addedWidgets": {},
       "aggData": [],
       "aggError": "",
       "aggOverflow": false,
       "aggSchema": [],
       "aggSeriesLimitReached": false,
       "aggType": "",
       "arguments": {},
       "columnCustomDisplayInfos": {},
       "data": [
        [
         1,
         "Spain",
         "Turkey"
        ],
        [
         2,
         "Switzerland",
         "England"
        ],
        [
         3,
         "Portugal",
         "Scotland"
        ],
        [
         4,
         "France",
         "Slovakia"
        ],
        [
         5,
         "Playoff Winner 2",
         "Denmark"
        ],
        [
         6,
         "Netherlands",
         "Czech Republic"
        ],
        [
         7,
         "Serbia",
         "Austria"
        ],
        [
         8,
         "Hungary",
         "Italy"
        ]
       ],
       "datasetInfos": [],
       "dbfsResultPath": null,
       "isJsonSchema": true,
       "metadata": {},
       "overflow": false,
       "plotOptions": {
        "customPlotOptions": {},
        "displayType": "table",
        "pivotAggregation": null,
        "pivotColumns": null,
        "xColumns": null,
        "yColumns": null
       },
       "removedWidgets": [],
       "schema": [
        {
         "metadata": "{}",
         "name": "M_ID",
         "type": "\"integer\""
        },
        {
         "metadata": "{\"__CHAR_VARCHAR_TYPE_STRING\":\"varchar(25)\"}",
         "name": "Team_1",
         "type": "\"string\""
        },
        {
         "metadata": "{\"__CHAR_VARCHAR_TYPE_STRING\":\"varchar(25)\"}",
         "name": "Team_2",
         "type": "\"string\""
        }
       ],
       "type": "table"
      }
     },
     "output_type": "display_data"
    }
   ],
   "source": [
    "%sql\n",
    "select * from round_16_teams order by M_ID;"
   ]
  },
  {
   "cell_type": "code",
   "execution_count": 0,
   "metadata": {
    "application/vnd.databricks.v1+cell": {
     "cellMetadata": {
      "byteLimit": 2048000,
      "implicitDf": true,
      "rowLimit": 10000
     },
     "inputWidgets": {},
     "nuid": "2fea1526-7a5c-421e-b60d-5125aad20427",
     "showTitle": false,
     "title": ""
    }
   },
   "outputs": [
    {
     "output_type": "display_data",
     "data": {
      "text/html": [
       "<style scoped>\n",
       "  .table-result-container {\n",
       "    max-height: 300px;\n",
       "    overflow: auto;\n",
       "  }\n",
       "  table, th, td {\n",
       "    border: 1px solid black;\n",
       "    border-collapse: collapse;\n",
       "  }\n",
       "  th, td {\n",
       "    padding: 5px;\n",
       "  }\n",
       "  th {\n",
       "    text-align: left;\n",
       "  }\n",
       "</style><div class='table-result-container'><table class='table-result'><thead style='background-color: white'><tr></tr></thead><tbody></tbody></table></div>"
      ]
     },
     "metadata": {
      "application/vnd.databricks.v1+output": {
       "addedWidgets": {},
       "aggData": [],
       "aggError": "",
       "aggOverflow": false,
       "aggSchema": [],
       "aggSeriesLimitReached": false,
       "aggType": "",
       "arguments": {},
       "columnCustomDisplayInfos": {},
       "data": [],
       "datasetInfos": [],
       "dbfsResultPath": null,
       "isJsonSchema": true,
       "metadata": {},
       "overflow": false,
       "plotOptions": {
        "customPlotOptions": {},
        "displayType": "table",
        "pivotAggregation": null,
        "pivotColumns": null,
        "xColumns": null,
        "yColumns": null
       },
       "removedWidgets": [],
       "schema": [],
       "type": "table"
      }
     },
     "output_type": "display_data"
    }
   ],
   "source": [
    "%sql\n",
    "CREATE TABLE round_16_matches (\n",
    "    Match STRING,\n",
    "    Team_1 VARCHAR(50),\n",
    "    Team_2 VARCHAR(50),\n",
    "    Team_1_Goals INT,\n",
    "    Team_2_Goals INT,\n",
    "    Winner VARCHAR(50)\n",
    ");"
   ]
  },
  {
   "cell_type": "code",
   "execution_count": 0,
   "metadata": {
    "application/vnd.databricks.v1+cell": {
     "cellMetadata": {
      "byteLimit": 2048000,
      "implicitDf": true,
      "rowLimit": 10000
     },
     "inputWidgets": {},
     "nuid": "0597c5c1-382f-44ee-928a-96a8c2d2fc05",
     "showTitle": false,
     "title": ""
    }
   },
   "outputs": [
    {
     "output_type": "display_data",
     "data": {
      "text/html": [
       "<style scoped>\n",
       "  .table-result-container {\n",
       "    max-height: 300px;\n",
       "    overflow: auto;\n",
       "  }\n",
       "  table, th, td {\n",
       "    border: 1px solid black;\n",
       "    border-collapse: collapse;\n",
       "  }\n",
       "  th, td {\n",
       "    padding: 5px;\n",
       "  }\n",
       "  th {\n",
       "    text-align: left;\n",
       "  }\n",
       "</style><div class='table-result-container'><table class='table-result'><thead style='background-color: white'><tr><th>Match</th><th>Team_1</th><th>Team_2</th><th>Team_1_Goals</th><th>Team_2_Goals</th><th>Winner</th></tr></thead><tbody><tr><td>RS 1</td><td>Spain</td><td>Turkey</td><td>0</td><td>2</td><td>Turkey</td></tr><tr><td>RS 2</td><td>Switzerland</td><td>England</td><td>3</td><td>3</td><td>Switzerland</td></tr><tr><td>RS 3</td><td>Portugal</td><td>Scotland</td><td>2</td><td>2</td><td>Scotland</td></tr><tr><td>RS 4</td><td>France</td><td>Slovakia</td><td>4</td><td>0</td><td>France</td></tr><tr><td>RS 5</td><td>Playoff Winner 2</td><td>Denmark</td><td>3</td><td>3</td><td>Playoff Winner 2</td></tr><tr><td>RS 6</td><td>Netherlands</td><td>Czech Republic</td><td>1</td><td>1</td><td>Czech Republic</td></tr><tr><td>RS 7</td><td>Serbia</td><td>Austria</td><td>1</td><td>2</td><td>Austria</td></tr><tr><td>RS 8</td><td>Hungary</td><td>Italy</td><td>0</td><td>4</td><td>Italy</td></tr><tr><td>3rd Place</td><td>null</td><td>null</td><td>5</td><td>4</td><td>null</td></tr><tr><td>Final</td><td>null</td><td>null</td><td>3</td><td>3</td><td>null</td></tr><tr><td>QF 1</td><td>null</td><td>null</td><td>4</td><td>2</td><td>null</td></tr><tr><td>QF 2</td><td>null</td><td>null</td><td>3</td><td>2</td><td>null</td></tr><tr><td>QF 3</td><td>null</td><td>null</td><td>4</td><td>4</td><td>null</td></tr><tr><td>QF 4</td><td>null</td><td>null</td><td>2</td><td>4</td><td>null</td></tr><tr><td>SF 1</td><td>null</td><td>null</td><td>2</td><td>2</td><td>null</td></tr><tr><td>SF 2</td><td>null</td><td>null</td><td>5</td><td>1</td><td>null</td></tr></tbody></table></div>"
      ]
     },
     "metadata": {
      "application/vnd.databricks.v1+output": {
       "addedWidgets": {},
       "aggData": [],
       "aggError": "",
       "aggOverflow": false,
       "aggSchema": [],
       "aggSeriesLimitReached": false,
       "aggType": "",
       "arguments": {},
       "columnCustomDisplayInfos": {},
       "data": [
        [
         "RS 1",
         "Spain",
         "Turkey",
         0,
         2,
         "Turkey"
        ],
        [
         "RS 2",
         "Switzerland",
         "England",
         3,
         3,
         "Switzerland"
        ],
        [
         "RS 3",
         "Portugal",
         "Scotland",
         2,
         2,
         "Scotland"
        ],
        [
         "RS 4",
         "France",
         "Slovakia",
         4,
         0,
         "France"
        ],
        [
         "RS 5",
         "Playoff Winner 2",
         "Denmark",
         3,
         3,
         "Playoff Winner 2"
        ],
        [
         "RS 6",
         "Netherlands",
         "Czech Republic",
         1,
         1,
         "Czech Republic"
        ],
        [
         "RS 7",
         "Serbia",
         "Austria",
         1,
         2,
         "Austria"
        ],
        [
         "RS 8",
         "Hungary",
         "Italy",
         0,
         4,
         "Italy"
        ],
        [
         "3rd Place",
         null,
         null,
         5,
         4,
         null
        ],
        [
         "Final",
         null,
         null,
         3,
         3,
         null
        ],
        [
         "QF 1",
         null,
         null,
         4,
         2,
         null
        ],
        [
         "QF 2",
         null,
         null,
         3,
         2,
         null
        ],
        [
         "QF 3",
         null,
         null,
         4,
         4,
         null
        ],
        [
         "QF 4",
         null,
         null,
         2,
         4,
         null
        ],
        [
         "SF 1",
         null,
         null,
         2,
         2,
         null
        ],
        [
         "SF 2",
         null,
         null,
         5,
         1,
         null
        ]
       ],
       "datasetInfos": [],
       "dbfsResultPath": null,
       "isJsonSchema": true,
       "metadata": {},
       "overflow": false,
       "plotOptions": {
        "customPlotOptions": {},
        "displayType": "table",
        "pivotAggregation": null,
        "pivotColumns": null,
        "xColumns": null,
        "yColumns": null
       },
       "removedWidgets": [],
       "schema": [
        {
         "metadata": "{}",
         "name": "Match",
         "type": "\"string\""
        },
        {
         "metadata": "{\"__CHAR_VARCHAR_TYPE_STRING\":\"varchar(50)\"}",
         "name": "Team_1",
         "type": "\"string\""
        },
        {
         "metadata": "{\"__CHAR_VARCHAR_TYPE_STRING\":\"varchar(50)\"}",
         "name": "Team_2",
         "type": "\"string\""
        },
        {
         "metadata": "{}",
         "name": "Team_1_Goals",
         "type": "\"integer\""
        },
        {
         "metadata": "{}",
         "name": "Team_2_Goals",
         "type": "\"integer\""
        },
        {
         "metadata": "{\"__CHAR_VARCHAR_TYPE_STRING\":\"varchar(50)\"}",
         "name": "Winner",
         "type": "\"string\""
        }
       ],
       "type": "table"
      }
     },
     "output_type": "display_data"
    }
   ],
   "source": [
    "%sql\n",
    "INSERT INTO round_16_matches (\n",
    "    SELECT\n",
    "        \"RS \" || ROW_NUMBER() OVER (ORDER BY M_ID) AS Match,\n",
    "        Team_1 AS Team_1,\n",
    "        Team_2 AS Team_2,\n",
    "        FLOOR(rand() * 5) AS Team_1_Goals,\n",
    "        FLOOR(rand() * 5) AS Team_2_Goals,\n",
    "        CASE\n",
    "            WHEN Team_1_Goals > Team_2_Goals THEN Team_1\n",
    "            WHEN Team_2_Goals > Team_1_Goals THEN Team_2\n",
    "            ELSE CASE WHEN rand() > 0.5 THEN Team_1 ELSE Team_2 END\n",
    "        END AS Winner\n",
    "    FROM round_16_teams\n",
    ");\n",
    "SELECT * FROM round_16_matches;"
   ]
  },
  {
   "cell_type": "code",
   "execution_count": 0,
   "metadata": {
    "application/vnd.databricks.v1+cell": {
     "cellMetadata": {
      "byteLimit": 2048000,
      "implicitDf": true,
      "rowLimit": 10000
     },
     "inputWidgets": {},
     "nuid": "044b83bf-d033-4567-825f-f0aaad059c11",
     "showTitle": false,
     "title": ""
    }
   },
   "outputs": [],
   "source": [
    "# %sql\n",
    "# CREATE or replace TABLE QF_teams(\n",
    "#   M_ID INT,\n",
    "#   Team_1 VARCHAR(25),\n",
    "#   Team_2 VARCHAR(25)\n",
    "# );"
   ]
  },
  {
   "cell_type": "code",
   "execution_count": 0,
   "metadata": {
    "application/vnd.databricks.v1+cell": {
     "cellMetadata": {
      "byteLimit": 2048000,
      "implicitDf": true,
      "rowLimit": 10000
     },
     "inputWidgets": {},
     "nuid": "4a6675c7-28d4-4ded-a7d0-aeeb46d8b5b3",
     "showTitle": false,
     "title": ""
    }
   },
   "outputs": [],
   "source": [
    "# %sql\n",
    "# INSERT INTO QF_teams (\n",
    "#         SELECT 1 AS M_ID, \n",
    "#                (SELECT Winner FROM round_16_matches WHERE Match = 'RS 1') AS Team_1,\n",
    "#                (SELECT Winner FROM round_16_matches WHERE Match = 'RS 2') AS Team_2\n",
    "#         UNION ALL\n",
    "#         SELECT 2 AS M_ID,  \n",
    "#                (SELECT Winner FROM round_16_matches WHERE Match = 'RS 3') AS Team_1,\n",
    "#                (SELECT Winner FROM round_16_matches WHERE Match = 'RS 4') AS Team_2\n",
    "#         UNION ALL\n",
    "#         SELECT 3 AS M_ID,  \n",
    "#                (SELECT Winner FROM round_16_matches WHERE Match = 'RS 5') AS Team_1,\n",
    "#                (SELECT Winner FROM round_16_matches WHERE Match = 'RS 6') AS Team_2\n",
    "#         UNION ALL\n",
    "#         SELECT 4 AS M_ID, \n",
    "#                (SELECT Winner FROM round_16_matches WHERE Match = 'RS 7') AS Team_1,\n",
    "#                (SELECT Winner FROM round_16_matches WHERE Match = 'RS 8') AS Team_2 \n",
    "#         FROM round_16_matches\n",
    "# );"
   ]
  },
  {
   "cell_type": "code",
   "execution_count": 0,
   "metadata": {
    "application/vnd.databricks.v1+cell": {
     "cellMetadata": {
      "byteLimit": 2048000,
      "implicitDf": true,
      "rowLimit": 10000
     },
     "inputWidgets": {},
     "nuid": "0b598635-07a2-4aee-8f0a-f91377560f7b",
     "showTitle": false,
     "title": ""
    }
   },
   "outputs": [],
   "source": [
    "# %sql\n",
    "# select * from QF_teams;"
   ]
  },
  {
   "cell_type": "code",
   "execution_count": 0,
   "metadata": {
    "application/vnd.databricks.v1+cell": {
     "cellMetadata": {
      "byteLimit": 2048000,
      "implicitDf": true,
      "rowLimit": 10000
     },
     "inputWidgets": {},
     "nuid": "f1c320d5-ef66-4e3b-887e-1732349ed25c",
     "showTitle": false,
     "title": ""
    }
   },
   "outputs": [
    {
     "output_type": "display_data",
     "data": {
      "text/html": [
       "<style scoped>\n",
       "  .table-result-container {\n",
       "    max-height: 300px;\n",
       "    overflow: auto;\n",
       "  }\n",
       "  table, th, td {\n",
       "    border: 1px solid black;\n",
       "    border-collapse: collapse;\n",
       "  }\n",
       "  th, td {\n",
       "    padding: 5px;\n",
       "  }\n",
       "  th {\n",
       "    text-align: left;\n",
       "  }\n",
       "</style><div class='table-result-container'><table class='table-result'><thead style='background-color: white'><tr><th>num_affected_rows</th><th>num_inserted_rows</th></tr></thead><tbody><tr><td>4</td><td>4</td></tr></tbody></table></div>"
      ]
     },
     "metadata": {
      "application/vnd.databricks.v1+output": {
       "addedWidgets": {},
       "aggData": [],
       "aggError": "",
       "aggOverflow": false,
       "aggSchema": [],
       "aggSeriesLimitReached": false,
       "aggType": "",
       "arguments": {},
       "columnCustomDisplayInfos": {},
       "data": [
        [
         4,
         4
        ]
       ],
       "datasetInfos": [],
       "dbfsResultPath": null,
       "isJsonSchema": true,
       "metadata": {},
       "overflow": false,
       "plotOptions": {
        "customPlotOptions": {},
        "displayType": "table",
        "pivotAggregation": null,
        "pivotColumns": null,
        "xColumns": null,
        "yColumns": null
       },
       "removedWidgets": [],
       "schema": [
        {
         "metadata": "{}",
         "name": "num_affected_rows",
         "type": "\"long\""
        },
        {
         "metadata": "{}",
         "name": "num_inserted_rows",
         "type": "\"long\""
        }
       ],
       "type": "table"
      }
     },
     "output_type": "display_data"
    }
   ],
   "source": [
    "%sql\n",
    "INSERT INTO round_16_matches (\n",
    "    WITH QuarterFinal AS (\n",
    "        SELECT 'QF 1' AS QFMatch, \n",
    "               (SELECT Winner FROM round_16_matches WHERE Match = 'RS 1') AS Team_1,\n",
    "               (SELECT Winner FROM round_16_matches WHERE Match = 'RS 2') AS Team_2\n",
    "        UNION ALL\n",
    "        SELECT 'QF 2' AS QFMatch, \n",
    "               (SELECT Winner FROM round_16_matches WHERE Match = 'RS 3') AS Team_1,\n",
    "               (SELECT Winner FROM round_16_matches WHERE Match = 'RS 4') AS Team_2\n",
    "        UNION ALL\n",
    "        SELECT 'QF 3' AS QFMatch, \n",
    "               (SELECT Winner FROM round_16_matches WHERE Match = 'RS 5') AS Team_1,\n",
    "               (SELECT Winner FROM round_16_matches WHERE Match = 'RS 6') AS Team_2\n",
    "        UNION ALL\n",
    "        SELECT 'QF 4' AS QFMatch, \n",
    "               (SELECT Winner FROM round_16_matches WHERE Match = 'RS 7') AS Team_1,\n",
    "               (SELECT Winner FROM round_16_matches WHERE Match = 'RS 8') AS Team_2\n",
    "    )\n",
    "    SELECT\n",
    "        QFMatch,\n",
    "        Team_1 AS Team_1_Name,\n",
    "        Team_2 AS Team_2_Name,\n",
    "        ROUND(RAND() * 5) AS Team_1_Goals,\n",
    "        ROUND(RAND() * 5) AS Team_2_Goals,\n",
    "        CASE\n",
    "            WHEN Team_1_Goals > Team_2_Goals THEN Team_1\n",
    "            WHEN Team_2_Goals > Team_1_Goals THEN Team_2\n",
    "            ELSE CASE WHEN rand() > 0.5 THEN Team_1 ELSE Team_2 END\n",
    "        END AS Winner\n",
    "    FROM QuarterFinal\n",
    ");\n"
   ]
  },
  {
   "cell_type": "code",
   "execution_count": 0,
   "metadata": {
    "application/vnd.databricks.v1+cell": {
     "cellMetadata": {
      "byteLimit": 2048000,
      "implicitDf": true,
      "rowLimit": 10000
     },
     "inputWidgets": {},
     "nuid": "530ad732-c894-487e-bd1f-ec3cf42d1d5f",
     "showTitle": false,
     "title": ""
    }
   },
   "outputs": [
    {
     "output_type": "display_data",
     "data": {
      "text/html": [
       "<style scoped>\n",
       "  .table-result-container {\n",
       "    max-height: 300px;\n",
       "    overflow: auto;\n",
       "  }\n",
       "  table, th, td {\n",
       "    border: 1px solid black;\n",
       "    border-collapse: collapse;\n",
       "  }\n",
       "  th, td {\n",
       "    padding: 5px;\n",
       "  }\n",
       "  th {\n",
       "    text-align: left;\n",
       "  }\n",
       "</style><div class='table-result-container'><table class='table-result'><thead style='background-color: white'><tr><th>Match</th><th>Team_1</th><th>Team_2</th><th>Team_1_Goals</th><th>Team_2_Goals</th><th>Winner</th></tr></thead><tbody><tr><td>RS 1</td><td>Spain</td><td>Turkey</td><td>0</td><td>2</td><td>Turkey</td></tr><tr><td>RS 2</td><td>Switzerland</td><td>England</td><td>3</td><td>3</td><td>Switzerland</td></tr><tr><td>RS 3</td><td>Portugal</td><td>Scotland</td><td>2</td><td>2</td><td>Scotland</td></tr><tr><td>RS 4</td><td>France</td><td>Slovakia</td><td>4</td><td>0</td><td>France</td></tr><tr><td>RS 5</td><td>Playoff Winner 2</td><td>Denmark</td><td>3</td><td>3</td><td>Playoff Winner 2</td></tr><tr><td>RS 6</td><td>Netherlands</td><td>Czech Republic</td><td>1</td><td>1</td><td>Czech Republic</td></tr><tr><td>RS 7</td><td>Serbia</td><td>Austria</td><td>1</td><td>2</td><td>Austria</td></tr><tr><td>RS 8</td><td>Hungary</td><td>Italy</td><td>0</td><td>4</td><td>Italy</td></tr><tr><td>QF 3</td><td>Playoff Winner 2</td><td>Czech Republic</td><td>4</td><td>2</td><td>Playoff Winner 2</td></tr><tr><td>QF 1</td><td>Turkey</td><td>Switzerland</td><td>2</td><td>4</td><td>Switzerland</td></tr><tr><td>QF 2</td><td>Scotland</td><td>France</td><td>3</td><td>5</td><td>France</td></tr><tr><td>QF 4</td><td>Austria</td><td>Italy</td><td>1</td><td>0</td><td>Austria</td></tr><tr><td>3rd Place</td><td>null</td><td>null</td><td>5</td><td>4</td><td>null</td></tr><tr><td>Final</td><td>null</td><td>null</td><td>3</td><td>3</td><td>null</td></tr><tr><td>QF 1</td><td>null</td><td>null</td><td>4</td><td>2</td><td>null</td></tr><tr><td>QF 2</td><td>null</td><td>null</td><td>3</td><td>2</td><td>null</td></tr><tr><td>QF 3</td><td>null</td><td>null</td><td>4</td><td>4</td><td>null</td></tr><tr><td>QF 4</td><td>null</td><td>null</td><td>2</td><td>4</td><td>null</td></tr><tr><td>SF 1</td><td>null</td><td>null</td><td>2</td><td>2</td><td>null</td></tr><tr><td>SF 2</td><td>null</td><td>null</td><td>5</td><td>1</td><td>null</td></tr></tbody></table></div>"
      ]
     },
     "metadata": {
      "application/vnd.databricks.v1+output": {
       "addedWidgets": {},
       "aggData": [],
       "aggError": "",
       "aggOverflow": false,
       "aggSchema": [],
       "aggSeriesLimitReached": false,
       "aggType": "",
       "arguments": {},
       "columnCustomDisplayInfos": {},
       "data": [
        [
         "RS 1",
         "Spain",
         "Turkey",
         0,
         2,
         "Turkey"
        ],
        [
         "RS 2",
         "Switzerland",
         "England",
         3,
         3,
         "Switzerland"
        ],
        [
         "RS 3",
         "Portugal",
         "Scotland",
         2,
         2,
         "Scotland"
        ],
        [
         "RS 4",
         "France",
         "Slovakia",
         4,
         0,
         "France"
        ],
        [
         "RS 5",
         "Playoff Winner 2",
         "Denmark",
         3,
         3,
         "Playoff Winner 2"
        ],
        [
         "RS 6",
         "Netherlands",
         "Czech Republic",
         1,
         1,
         "Czech Republic"
        ],
        [
         "RS 7",
         "Serbia",
         "Austria",
         1,
         2,
         "Austria"
        ],
        [
         "RS 8",
         "Hungary",
         "Italy",
         0,
         4,
         "Italy"
        ],
        [
         "QF 3",
         "Playoff Winner 2",
         "Czech Republic",
         4,
         2,
         "Playoff Winner 2"
        ],
        [
         "QF 1",
         "Turkey",
         "Switzerland",
         2,
         4,
         "Switzerland"
        ],
        [
         "QF 2",
         "Scotland",
         "France",
         3,
         5,
         "France"
        ],
        [
         "QF 4",
         "Austria",
         "Italy",
         1,
         0,
         "Austria"
        ],
        [
         "3rd Place",
         null,
         null,
         5,
         4,
         null
        ],
        [
         "Final",
         null,
         null,
         3,
         3,
         null
        ],
        [
         "QF 1",
         null,
         null,
         4,
         2,
         null
        ],
        [
         "QF 2",
         null,
         null,
         3,
         2,
         null
        ],
        [
         "QF 3",
         null,
         null,
         4,
         4,
         null
        ],
        [
         "QF 4",
         null,
         null,
         2,
         4,
         null
        ],
        [
         "SF 1",
         null,
         null,
         2,
         2,
         null
        ],
        [
         "SF 2",
         null,
         null,
         5,
         1,
         null
        ]
       ],
       "datasetInfos": [],
       "dbfsResultPath": null,
       "isJsonSchema": true,
       "metadata": {},
       "overflow": false,
       "plotOptions": {
        "customPlotOptions": {},
        "displayType": "table",
        "pivotAggregation": null,
        "pivotColumns": null,
        "xColumns": null,
        "yColumns": null
       },
       "removedWidgets": [],
       "schema": [
        {
         "metadata": "{}",
         "name": "Match",
         "type": "\"string\""
        },
        {
         "metadata": "{\"__CHAR_VARCHAR_TYPE_STRING\":\"varchar(50)\"}",
         "name": "Team_1",
         "type": "\"string\""
        },
        {
         "metadata": "{\"__CHAR_VARCHAR_TYPE_STRING\":\"varchar(50)\"}",
         "name": "Team_2",
         "type": "\"string\""
        },
        {
         "metadata": "{}",
         "name": "Team_1_Goals",
         "type": "\"integer\""
        },
        {
         "metadata": "{}",
         "name": "Team_2_Goals",
         "type": "\"integer\""
        },
        {
         "metadata": "{\"__CHAR_VARCHAR_TYPE_STRING\":\"varchar(50)\"}",
         "name": "Winner",
         "type": "\"string\""
        }
       ],
       "type": "table"
      }
     },
     "output_type": "display_data"
    }
   ],
   "source": [
    "%sql\n",
    "select * from round_16_matches;"
   ]
  },
  {
   "cell_type": "code",
   "execution_count": 0,
   "metadata": {
    "application/vnd.databricks.v1+cell": {
     "cellMetadata": {
      "byteLimit": 2048000,
      "implicitDf": true,
      "rowLimit": 10000
     },
     "inputWidgets": {},
     "nuid": "a5ca4184-308b-48fd-93cc-dd5b2b7c78a4",
     "showTitle": false,
     "title": ""
    }
   },
   "outputs": [
    {
     "output_type": "display_data",
     "data": {
      "text/plain": [
       "\u001B[0;31m---------------------------------------------------------------------------\u001B[0m\n",
       "\u001B[0;31mPy4JJavaError\u001B[0m                             Traceback (most recent call last)\n",
       "File \u001B[0;32m<command-1142063495687293>:7\u001B[0m\n",
       "\u001B[1;32m      5\u001B[0m     display(df)\n",
       "\u001B[1;32m      6\u001B[0m     \u001B[38;5;28;01mreturn\u001B[39;00m df\n",
       "\u001B[0;32m----> 7\u001B[0m   _sqldf \u001B[38;5;241m=\u001B[39m \u001B[43m____databricks_percent_sql\u001B[49m\u001B[43m(\u001B[49m\u001B[43m)\u001B[49m\n",
       "\u001B[1;32m      8\u001B[0m \u001B[38;5;28;01mfinally\u001B[39;00m:\n",
       "\u001B[1;32m      9\u001B[0m   \u001B[38;5;28;01mdel\u001B[39;00m ____databricks_percent_sql\n",
       "\n",
       "File \u001B[0;32m<command-1142063495687293>:4\u001B[0m, in \u001B[0;36m____databricks_percent_sql\u001B[0;34m()\u001B[0m\n",
       "\u001B[1;32m      2\u001B[0m \u001B[38;5;28;01mdef\u001B[39;00m \u001B[38;5;21m____databricks_percent_sql\u001B[39m():\n",
       "\u001B[1;32m      3\u001B[0m   \u001B[38;5;28;01mimport\u001B[39;00m \u001B[38;5;21;01mbase64\u001B[39;00m\n",
       "\u001B[0;32m----> 4\u001B[0m   df \u001B[38;5;241m=\u001B[39m \u001B[43mspark\u001B[49m\u001B[38;5;241;43m.\u001B[39;49m\u001B[43msql\u001B[49m\u001B[43m(\u001B[49m\u001B[43mbase64\u001B[49m\u001B[38;5;241;43m.\u001B[39;49m\u001B[43mstandard_b64decode\u001B[49m\u001B[43m(\u001B[49m\u001B[38;5;124;43m\"\u001B[39;49m\u001B[38;5;124;43mSU5TRVJUIElOVE8gcm91bmRfMTZfbWF0Y2hlcyAoCiAgICBXSVRIIFNlbWlGaW5hbCBBUyAoCiAgICAgICAgU0VMRUNUICdTRiAxJyBBUyBTRk1hdGNoLCAKICAgICAgICAgICAgICAgKFNFTEVDVCBXaW5uZXIgRlJPTSByb3VuZF8xNl9tYXRjaGVzIFdIRVJFIE1hdGNoID0gJ1FGIDEnKSBBUyBUZWFtXzEsCiAgICAgICAgICAgICAgIChTRUxFQ1QgV2lubmVyIEZST00gcm91bmRfMTZfbWF0Y2hlcyBXSEVSRSBNYXRjaCA9ICdRRiAyJykgQVMgVGVhbV8yCiAgICAgICAgVU5JT04gQUxMCiAgICAgICAgU0VMRUNUICdTRiAyJyBBUyBTRk1hdGNoLCAKICAgICAgICAgICAgICAgKFNFTEVDVCBXaW5uZXIgRlJPTSByb3VuZF8xNl9tYXRjaGVzIFdIRVJFIE1hdGNoID0gJ1FGIDMnKSBBUyBUZWFtXzEsCiAgICAgICAgICAgICAgIChTRUxFQ1QgV2lubmVyIEZST00gcm91bmRfMTZfbWF0Y2hlcyBXSEVSRSBNYXRjaCA9ICdRRiA0JykgQVMgVGVhbV8yCiAgICApCiAgICBTRUxFQ1QKICAgICAgICBTRk1hdGNoLAogICAgICAgIFRlYW1fMSBBUyBUZWFtXzFfTmFtZSwKICAgICAgICBUZWFtXzIgQVMgVGVhbV8yX05hbWUsCiAgICAgICAgUk9VTkQoUkFORCgpICogNSkgQVMgVGVhbV8xX0dvYWxzLAogICAgICAgIFJPVU5EKFJBTkQoKSAqIDUpIEFTIFRlYW1fMl9Hb2FscywKICAgICAgICBDQVNFCiAgICAgICAgICAgIFdIRU4gUk9VTkQoUkFORCgpKSA9IDEgVEhFTiBUZWFtXzEKICAgICAgICAgICAgRUxTRSBUZWFtXzIKICAgICAgICBFTkQgQVMgV2lubmVyCiAgICBGUk9NIFNlbWlGaW5hbAop\u001B[39;49m\u001B[38;5;124;43m\"\u001B[39;49m\u001B[43m)\u001B[49m\u001B[38;5;241;43m.\u001B[39;49m\u001B[43mdecode\u001B[49m\u001B[43m(\u001B[49m\u001B[43m)\u001B[49m\u001B[43m)\u001B[49m\n",
       "\u001B[1;32m      5\u001B[0m   display(df)\n",
       "\u001B[1;32m      6\u001B[0m   \u001B[38;5;28;01mreturn\u001B[39;00m df\n",
       "\n",
       "File \u001B[0;32m/databricks/spark/python/pyspark/instrumentation_utils.py:48\u001B[0m, in \u001B[0;36m_wrap_function.<locals>.wrapper\u001B[0;34m(*args, **kwargs)\u001B[0m\n",
       "\u001B[1;32m     46\u001B[0m start \u001B[38;5;241m=\u001B[39m time\u001B[38;5;241m.\u001B[39mperf_counter()\n",
       "\u001B[1;32m     47\u001B[0m \u001B[38;5;28;01mtry\u001B[39;00m:\n",
       "\u001B[0;32m---> 48\u001B[0m     res \u001B[38;5;241m=\u001B[39m \u001B[43mfunc\u001B[49m\u001B[43m(\u001B[49m\u001B[38;5;241;43m*\u001B[39;49m\u001B[43margs\u001B[49m\u001B[43m,\u001B[49m\u001B[43m \u001B[49m\u001B[38;5;241;43m*\u001B[39;49m\u001B[38;5;241;43m*\u001B[39;49m\u001B[43mkwargs\u001B[49m\u001B[43m)\u001B[49m\n",
       "\u001B[1;32m     49\u001B[0m     logger\u001B[38;5;241m.\u001B[39mlog_success(\n",
       "\u001B[1;32m     50\u001B[0m         module_name, class_name, function_name, time\u001B[38;5;241m.\u001B[39mperf_counter() \u001B[38;5;241m-\u001B[39m start, signature\n",
       "\u001B[1;32m     51\u001B[0m     )\n",
       "\u001B[1;32m     52\u001B[0m     \u001B[38;5;28;01mreturn\u001B[39;00m res\n",
       "\n",
       "File \u001B[0;32m/databricks/spark/python/pyspark/sql/session.py:1387\u001B[0m, in \u001B[0;36mSparkSession.sql\u001B[0;34m(self, sqlQuery, args, **kwargs)\u001B[0m\n",
       "\u001B[1;32m   1385\u001B[0m \u001B[38;5;28;01mtry\u001B[39;00m:\n",
       "\u001B[1;32m   1386\u001B[0m     litArgs \u001B[38;5;241m=\u001B[39m {k: _to_java_column(lit(v)) \u001B[38;5;28;01mfor\u001B[39;00m k, v \u001B[38;5;129;01min\u001B[39;00m (args \u001B[38;5;129;01mor\u001B[39;00m {})\u001B[38;5;241m.\u001B[39mitems()}\n",
       "\u001B[0;32m-> 1387\u001B[0m     \u001B[38;5;28;01mreturn\u001B[39;00m DataFrame(\u001B[38;5;28;43mself\u001B[39;49m\u001B[38;5;241;43m.\u001B[39;49m\u001B[43m_jsparkSession\u001B[49m\u001B[38;5;241;43m.\u001B[39;49m\u001B[43msql\u001B[49m\u001B[43m(\u001B[49m\u001B[43msqlQuery\u001B[49m\u001B[43m,\u001B[49m\u001B[43m \u001B[49m\u001B[43mlitArgs\u001B[49m\u001B[43m)\u001B[49m, \u001B[38;5;28mself\u001B[39m)\n",
       "\u001B[1;32m   1388\u001B[0m \u001B[38;5;28;01mfinally\u001B[39;00m:\n",
       "\u001B[1;32m   1389\u001B[0m     \u001B[38;5;28;01mif\u001B[39;00m \u001B[38;5;28mlen\u001B[39m(kwargs) \u001B[38;5;241m>\u001B[39m \u001B[38;5;241m0\u001B[39m:\n",
       "\n",
       "File \u001B[0;32m/databricks/spark/python/lib/py4j-0.10.9.5-src.zip/py4j/java_gateway.py:1321\u001B[0m, in \u001B[0;36mJavaMember.__call__\u001B[0;34m(self, *args)\u001B[0m\n",
       "\u001B[1;32m   1315\u001B[0m command \u001B[38;5;241m=\u001B[39m proto\u001B[38;5;241m.\u001B[39mCALL_COMMAND_NAME \u001B[38;5;241m+\u001B[39m\\\n",
       "\u001B[1;32m   1316\u001B[0m     \u001B[38;5;28mself\u001B[39m\u001B[38;5;241m.\u001B[39mcommand_header \u001B[38;5;241m+\u001B[39m\\\n",
       "\u001B[1;32m   1317\u001B[0m     args_command \u001B[38;5;241m+\u001B[39m\\\n",
       "\u001B[1;32m   1318\u001B[0m     proto\u001B[38;5;241m.\u001B[39mEND_COMMAND_PART\n",
       "\u001B[1;32m   1320\u001B[0m answer \u001B[38;5;241m=\u001B[39m \u001B[38;5;28mself\u001B[39m\u001B[38;5;241m.\u001B[39mgateway_client\u001B[38;5;241m.\u001B[39msend_command(command)\n",
       "\u001B[0;32m-> 1321\u001B[0m return_value \u001B[38;5;241m=\u001B[39m \u001B[43mget_return_value\u001B[49m\u001B[43m(\u001B[49m\n",
       "\u001B[1;32m   1322\u001B[0m \u001B[43m    \u001B[49m\u001B[43manswer\u001B[49m\u001B[43m,\u001B[49m\u001B[43m \u001B[49m\u001B[38;5;28;43mself\u001B[39;49m\u001B[38;5;241;43m.\u001B[39;49m\u001B[43mgateway_client\u001B[49m\u001B[43m,\u001B[49m\u001B[43m \u001B[49m\u001B[38;5;28;43mself\u001B[39;49m\u001B[38;5;241;43m.\u001B[39;49m\u001B[43mtarget_id\u001B[49m\u001B[43m,\u001B[49m\u001B[43m \u001B[49m\u001B[38;5;28;43mself\u001B[39;49m\u001B[38;5;241;43m.\u001B[39;49m\u001B[43mname\u001B[49m\u001B[43m)\u001B[49m\n",
       "\u001B[1;32m   1324\u001B[0m \u001B[38;5;28;01mfor\u001B[39;00m temp_arg \u001B[38;5;129;01min\u001B[39;00m temp_args:\n",
       "\u001B[1;32m   1325\u001B[0m     temp_arg\u001B[38;5;241m.\u001B[39m_detach()\n",
       "\n",
       "File \u001B[0;32m/databricks/spark/python/pyspark/errors/exceptions.py:228\u001B[0m, in \u001B[0;36mcapture_sql_exception.<locals>.deco\u001B[0;34m(*a, **kw)\u001B[0m\n",
       "\u001B[1;32m    226\u001B[0m \u001B[38;5;28;01mdef\u001B[39;00m \u001B[38;5;21mdeco\u001B[39m(\u001B[38;5;241m*\u001B[39ma: Any, \u001B[38;5;241m*\u001B[39m\u001B[38;5;241m*\u001B[39mkw: Any) \u001B[38;5;241m-\u001B[39m\u001B[38;5;241m>\u001B[39m Any:\n",
       "\u001B[1;32m    227\u001B[0m     \u001B[38;5;28;01mtry\u001B[39;00m:\n",
       "\u001B[0;32m--> 228\u001B[0m         \u001B[38;5;28;01mreturn\u001B[39;00m \u001B[43mf\u001B[49m\u001B[43m(\u001B[49m\u001B[38;5;241;43m*\u001B[39;49m\u001B[43ma\u001B[49m\u001B[43m,\u001B[49m\u001B[43m \u001B[49m\u001B[38;5;241;43m*\u001B[39;49m\u001B[38;5;241;43m*\u001B[39;49m\u001B[43mkw\u001B[49m\u001B[43m)\u001B[49m\n",
       "\u001B[1;32m    229\u001B[0m     \u001B[38;5;28;01mexcept\u001B[39;00m Py4JJavaError \u001B[38;5;28;01mas\u001B[39;00m e:\n",
       "\u001B[1;32m    230\u001B[0m         converted \u001B[38;5;241m=\u001B[39m convert_exception(e\u001B[38;5;241m.\u001B[39mjava_exception)\n",
       "\n",
       "File \u001B[0;32m/databricks/spark/python/lib/py4j-0.10.9.5-src.zip/py4j/protocol.py:326\u001B[0m, in \u001B[0;36mget_return_value\u001B[0;34m(answer, gateway_client, target_id, name)\u001B[0m\n",
       "\u001B[1;32m    324\u001B[0m value \u001B[38;5;241m=\u001B[39m OUTPUT_CONVERTER[\u001B[38;5;28mtype\u001B[39m](answer[\u001B[38;5;241m2\u001B[39m:], gateway_client)\n",
       "\u001B[1;32m    325\u001B[0m \u001B[38;5;28;01mif\u001B[39;00m answer[\u001B[38;5;241m1\u001B[39m] \u001B[38;5;241m==\u001B[39m REFERENCE_TYPE:\n",
       "\u001B[0;32m--> 326\u001B[0m     \u001B[38;5;28;01mraise\u001B[39;00m Py4JJavaError(\n",
       "\u001B[1;32m    327\u001B[0m         \u001B[38;5;124m\"\u001B[39m\u001B[38;5;124mAn error occurred while calling \u001B[39m\u001B[38;5;132;01m{0}\u001B[39;00m\u001B[38;5;132;01m{1}\u001B[39;00m\u001B[38;5;132;01m{2}\u001B[39;00m\u001B[38;5;124m.\u001B[39m\u001B[38;5;130;01m\\n\u001B[39;00m\u001B[38;5;124m\"\u001B[39m\u001B[38;5;241m.\u001B[39m\n",
       "\u001B[1;32m    328\u001B[0m         \u001B[38;5;28mformat\u001B[39m(target_id, \u001B[38;5;124m\"\u001B[39m\u001B[38;5;124m.\u001B[39m\u001B[38;5;124m\"\u001B[39m, name), value)\n",
       "\u001B[1;32m    329\u001B[0m \u001B[38;5;28;01melse\u001B[39;00m:\n",
       "\u001B[1;32m    330\u001B[0m     \u001B[38;5;28;01mraise\u001B[39;00m Py4JError(\n",
       "\u001B[1;32m    331\u001B[0m         \u001B[38;5;124m\"\u001B[39m\u001B[38;5;124mAn error occurred while calling \u001B[39m\u001B[38;5;132;01m{0}\u001B[39;00m\u001B[38;5;132;01m{1}\u001B[39;00m\u001B[38;5;132;01m{2}\u001B[39;00m\u001B[38;5;124m. Trace:\u001B[39m\u001B[38;5;130;01m\\n\u001B[39;00m\u001B[38;5;132;01m{3}\u001B[39;00m\u001B[38;5;130;01m\\n\u001B[39;00m\u001B[38;5;124m\"\u001B[39m\u001B[38;5;241m.\u001B[39m\n",
       "\u001B[1;32m    332\u001B[0m         \u001B[38;5;28mformat\u001B[39m(target_id, \u001B[38;5;124m\"\u001B[39m\u001B[38;5;124m.\u001B[39m\u001B[38;5;124m\"\u001B[39m, name, value))\n",
       "\n",
       "\u001B[0;31mPy4JJavaError\u001B[0m: An error occurred while calling o351.sql.\n",
       ": org.apache.spark.SparkException: [SCALAR_SUBQUERY_TOO_MANY_ROWS] More than one row returned by a subquery used as an expression.\n",
       "== SQL(line 4, position 16) ==\n",
       "               (SELECT Winner FROM round_16_matches WHERE Match = 'QF 1') AS Team_1,\n",
       "               ^^^^^^^^^^^^^^^^^^^^^^^^^^^^^^^^^^^^^^^^^^^^^^^^^^^^^^^^^^\n",
       "\n",
       "\tat org.apache.spark.sql.errors.QueryExecutionErrors$.multipleRowSubqueryError(QueryExecutionErrors.scala:2912)\n",
       "\tat org.apache.spark.sql.execution.ScalarSubquery.updateResult(subquery.scala:87)\n",
       "\tat org.apache.spark.sql.execution.SparkPlan.$anonfun$waitForSubqueries$1(SparkPlan.scala:377)\n",
       "\tat org.apache.spark.sql.execution.SparkPlan.$anonfun$waitForSubqueries$1$adapted(SparkPlan.scala:376)\n",
       "\tat scala.collection.mutable.ResizableArray.foreach(ResizableArray.scala:62)\n",
       "\tat scala.collection.mutable.ResizableArray.foreach$(ResizableArray.scala:55)\n",
       "\tat scala.collection.mutable.ArrayBuffer.foreach(ArrayBuffer.scala:49)\n",
       "\tat org.apache.spark.sql.execution.SparkPlan.waitForSubqueries(SparkPlan.scala:376)\n",
       "\tat org.apache.spark.sql.execution.SparkPlan.$anonfun$executeQuery$1(SparkPlan.scala:333)\n",
       "\tat org.apache.spark.rdd.RDDOperationScope$.withScope(RDDOperationScope.scala:165)\n",
       "\tat org.apache.spark.sql.execution.SparkPlan.executeQuery(SparkPlan.scala:330)\n",
       "\tat org.apache.spark.sql.execution.CodegenSupport.produce(WholeStageCodegenExec.scala:93)\n",
       "\tat org.apache.spark.sql.execution.CodegenSupport.produce$(WholeStageCodegenExec.scala:93)\n",
       "\tat org.apache.spark.sql.execution.ProjectExec.produce(basicPhysicalOperators.scala:46)\n",
       "\tat org.apache.spark.sql.execution.WholeStageCodegenExec.doCodeGen(WholeStageCodegenExec.scala:661)\n",
       "\tat org.apache.spark.sql.execution.WholeStageCodegenExec.doExecute(WholeStageCodegenExec.scala:724)\n",
       "\tat org.apache.spark.sql.execution.SparkPlan.$anonfun$execute$1(SparkPlan.scala:277)\n",
       "\tat org.apache.spark.sql.execution.SparkPlan$.org$apache$spark$sql$execution$SparkPlan$$withExecuteQueryLogging(SparkPlan.scala:108)\n",
       "\tat org.apache.spark.sql.execution.SparkPlan.$anonfun$executeQuery$1(SparkPlan.scala:334)\n",
       "\tat org.apache.spark.rdd.RDDOperationScope$.withScope(RDDOperationScope.scala:165)\n",
       "\tat org.apache.spark.sql.execution.SparkPlan.executeQuery(SparkPlan.scala:330)\n",
       "\tat org.apache.spark.sql.execution.SparkPlan.execute(SparkPlan.scala:273)\n",
       "\tat org.apache.spark.sql.execution.UnionExec.$anonfun$doExecute$5(basicPhysicalOperators.scala:798)\n",
       "\tat scala.collection.TraversableLike.$anonfun$map$1(TraversableLike.scala:286)\n",
       "\tat scala.collection.Iterator.foreach(Iterator.scala:943)\n",
       "\tat scala.collection.Iterator.foreach$(Iterator.scala:943)\n",
       "\tat scala.collection.AbstractIterator.foreach(Iterator.scala:1431)\n",
       "\tat scala.collection.IterableLike.foreach(IterableLike.scala:74)\n",
       "\tat scala.collection.IterableLike.foreach$(IterableLike.scala:73)\n",
       "\tat scala.collection.AbstractIterable.foreach(Iterable.scala:56)\n",
       "\tat scala.collection.TraversableLike.map(TraversableLike.scala:286)\n",
       "\tat scala.collection.TraversableLike.map$(TraversableLike.scala:279)\n",
       "\tat scala.collection.AbstractTraversable.map(Traversable.scala:108)\n",
       "\tat org.apache.spark.sql.execution.UnionExec.doExecute(basicPhysicalOperators.scala:798)\n",
       "\tat org.apache.spark.sql.execution.SparkPlan.$anonfun$execute$1(SparkPlan.scala:277)\n",
       "\tat org.apache.spark.sql.execution.SparkPlan$.org$apache$spark$sql$execution$SparkPlan$$withExecuteQueryLogging(SparkPlan.scala:108)\n",
       "\tat org.apache.spark.sql.execution.SparkPlan.$anonfun$executeQuery$1(SparkPlan.scala:334)\n",
       "\tat org.apache.spark.rdd.RDDOperationScope$.withScope(RDDOperationScope.scala:165)\n",
       "\tat org.apache.spark.sql.execution.SparkPlan.executeQuery(SparkPlan.scala:330)\n",
       "\tat org.apache.spark.sql.execution.SparkPlan.execute(SparkPlan.scala:273)\n",
       "\tat org.apache.spark.sql.execution.InputAdapter.inputRDD(WholeStageCodegenExec.scala:530)\n",
       "\tat org.apache.spark.sql.execution.InputRDDCodegen.inputRDDs(WholeStageCodegenExec.scala:458)\n",
       "\tat org.apache.spark.sql.execution.InputRDDCodegen.inputRDDs$(WholeStageCodegenExec.scala:457)\n",
       "\tat org.apache.spark.sql.execution.InputAdapter.inputRDDs(WholeStageCodegenExec.scala:501)\n",
       "\tat org.apache.spark.sql.execution.ProjectExec.inputRDDs(basicPhysicalOperators.scala:52)\n",
       "\tat org.apache.spark.sql.execution.ProjectExec.inputRDDs(basicPhysicalOperators.scala:52)\n",
       "\tat org.apache.spark.sql.execution.ProjectExec.inputRDDs(basicPhysicalOperators.scala:52)\n",
       "\tat org.apache.spark.sql.execution.WholeStageCodegenExec.doExecute(WholeStageCodegenExec.scala:752)\n",
       "\tat org.apache.spark.sql.execution.SparkPlan.$anonfun$execute$1(SparkPlan.scala:277)\n",
       "\tat org.apache.spark.sql.execution.SparkPlan$.org$apache$spark$sql$execution$SparkPlan$$withExecuteQueryLogging(SparkPlan.scala:108)\n",
       "\tat org.apache.spark.sql.execution.SparkPlan.$anonfun$executeQuery$1(SparkPlan.scala:334)\n",
       "\tat org.apache.spark.rdd.RDDOperationScope$.withScope(RDDOperationScope.scala:165)\n",
       "\tat org.apache.spark.sql.execution.SparkPlan.executeQuery(SparkPlan.scala:330)\n",
       "\tat org.apache.spark.sql.execution.SparkPlan.execute(SparkPlan.scala:273)\n",
       "\tat com.databricks.sql.transaction.tahoe.constraints.DeltaInvariantCheckerExec.doExecute(DeltaInvariantCheckerExec.scala:79)\n",
       "\tat org.apache.spark.sql.execution.SparkPlan.$anonfun$execute$1(SparkPlan.scala:277)\n",
       "\tat org.apache.spark.sql.execution.SparkPlan$.org$apache$spark$sql$execution$SparkPlan$$withExecuteQueryLogging(SparkPlan.scala:108)\n",
       "\tat org.apache.spark.sql.execution.SparkPlan.$anonfun$executeQuery$1(SparkPlan.scala:334)\n",
       "\tat org.apache.spark.rdd.RDDOperationScope$.withScope(RDDOperationScope.scala:165)\n",
       "\tat org.apache.spark.sql.execution.SparkPlan.executeQuery(SparkPlan.scala:330)\n",
       "\tat org.apache.spark.sql.execution.SparkPlan.execute(SparkPlan.scala:273)\n",
       "\tat org.apache.spark.sql.execution.datasources.FileFormatWriter$.$anonfun$executeWrite$2(FileFormatWriter.scala:293)\n",
       "\tat org.apache.spark.sql.execution.datasources.FileFormatWriter$.writeAndCommit(FileFormatWriter.scala:336)\n",
       "\tat org.apache.spark.sql.execution.datasources.FileFormatWriter$.executeWrite(FileFormatWriter.scala:276)\n",
       "\tat org.apache.spark.sql.execution.datasources.FileFormatWriter$.$anonfun$write$1(FileFormatWriter.scala:252)\n",
       "\tat com.databricks.spark.util.FrameProfiler$.record(FrameProfiler.scala:80)\n",
       "\tat org.apache.spark.sql.execution.datasources.FileFormatWriter$.write(FileFormatWriter.scala:115)\n",
       "\tat com.databricks.sql.transaction.tahoe.commands.WriteIntoDeltaCommand.run(WriteIntoDeltaCommand.scala:70)\n",
       "\tat org.apache.spark.sql.execution.command.DataWritingCommandExec.$anonfun$sideEffectResult$3(commands.scala:132)\n",
       "\tat com.databricks.spark.util.FrameProfiler$.record(FrameProfiler.scala:80)\n",
       "\tat org.apache.spark.sql.execution.command.DataWritingCommandExec.sideEffectResult$lzycompute(commands.scala:130)\n",
       "\tat org.apache.spark.sql.execution.command.DataWritingCommandExec.sideEffectResult(commands.scala:129)\n",
       "\tat org.apache.spark.sql.execution.command.DataWritingCommandExec.$anonfun$doExecute$4(commands.scala:156)\n",
       "\tat com.databricks.spark.util.FrameProfiler$.record(FrameProfiler.scala:80)\n",
       "\tat org.apache.spark.sql.execution.command.DataWritingCommandExec.doExecute(commands.scala:156)\n",
       "\tat org.apache.spark.sql.execution.SparkPlan.$anonfun$execute$1(SparkPlan.scala:277)\n",
       "\tat org.apache.spark.sql.execution.SparkPlan$.org$apache$spark$sql$execution$SparkPlan$$withExecuteQueryLogging(SparkPlan.scala:108)\n",
       "\tat org.apache.spark.sql.execution.SparkPlan.$anonfun$executeQuery$1(SparkPlan.scala:334)\n",
       "\tat org.apache.spark.rdd.RDDOperationScope$.withScope(RDDOperationScope.scala:165)\n",
       "\tat org.apache.spark.sql.execution.SparkPlan.executeQuery(SparkPlan.scala:330)\n",
       "\tat org.apache.spark.sql.execution.SparkPlan.execute(SparkPlan.scala:273)\n",
       "\tat org.apache.spark.sql.execution.adaptive.AdaptiveSparkPlanExec.$anonfun$doExecute$1(AdaptiveSparkPlanExec.scala:639)\n",
       "\tat org.apache.spark.sql.execution.adaptive.AdaptiveSparkPlanExec.$anonfun$withFinalPlanUpdate$1(AdaptiveSparkPlanExec.scala:629)\n",
       "\tat com.databricks.spark.util.FrameProfiler$.record(FrameProfiler.scala:80)\n",
       "\tat org.apache.spark.sql.execution.adaptive.AdaptiveSparkPlanExec.withFinalPlanUpdate(AdaptiveSparkPlanExec.scala:627)\n",
       "\tat org.apache.spark.sql.execution.adaptive.AdaptiveSparkPlanExec.doExecute(AdaptiveSparkPlanExec.scala:639)\n",
       "\tat org.apache.spark.sql.execution.SparkPlan.$anonfun$execute$1(SparkPlan.scala:277)\n",
       "\tat org.apache.spark.sql.execution.SparkPlan$.org$apache$spark$sql$execution$SparkPlan$$withExecuteQueryLogging(SparkPlan.scala:108)\n",
       "\tat org.apache.spark.sql.execution.SparkPlan.$anonfun$executeQuery$1(SparkPlan.scala:334)\n",
       "\tat org.apache.spark.rdd.RDDOperationScope$.withScope(RDDOperationScope.scala:165)\n",
       "\tat org.apache.spark.sql.execution.SparkPlan.executeQuery(SparkPlan.scala:330)\n",
       "\tat org.apache.spark.sql.execution.SparkPlan.execute(SparkPlan.scala:273)\n",
       "\tat org.apache.spark.sql.execution.QueryExecution.toRdd$lzycompute(QueryExecution.scala:358)\n",
       "\tat org.apache.spark.sql.execution.QueryExecution.toRdd(QueryExecution.scala:357)\n",
       "\tat com.databricks.sql.transaction.tahoe.files.TransactionalWriteEdge.$anonfun$writeFiles$11(TransactionalWriteEdge.scala:583)\n",
       "\tat org.apache.spark.sql.execution.SQLExecution$.$anonfun$withCustomExecutionEnv$8(SQLExecution.scala:242)\n",
       "\tat org.apache.spark.sql.execution.SQLExecution$.withSQLConfPropagated(SQLExecution.scala:430)\n",
       "\tat org.apache.spark.sql.execution.SQLExecution$.$anonfun$withCustomExecutionEnv$1(SQLExecution.scala:187)\n",
       "\tat org.apache.spark.sql.SparkSession.withActive(SparkSession.scala:1063)\n",
       "\tat org.apache.spark.sql.execution.SQLExecution$.withCustomExecutionEnv(SQLExecution.scala:129)\n",
       "\tat org.apache.spark.sql.execution.SQLExecution$.withNewExecutionId(SQLExecution.scala:380)\n",
       "\tat com.databricks.sql.transaction.tahoe.files.TransactionalWriteEdge.$anonfun$writeFiles$1(TransactionalWriteEdge.scala:578)\n",
       "\tat com.databricks.sql.transaction.tahoe.metering.DeltaLogging.withOperationTypeTag(DeltaLogging.scala:196)\n",
       "\tat com.databricks.sql.transaction.tahoe.metering.DeltaLogging.withOperationTypeTag$(DeltaLogging.scala:183)\n",
       "\tat com.databricks.sql.transaction.tahoe.OptimisticTransaction.withOperationTypeTag(OptimisticTransaction.scala:142)\n",
       "\tat com.databricks.sql.transaction.tahoe.metering.DeltaLogging.$anonfun$recordDeltaOperationInternal$2(DeltaLogging.scala:160)\n",
       "\tat com.databricks.spark.util.FrameProfiler$.record(FrameProfiler.scala:80)\n",
       "\tat com.databricks.sql.transaction.tahoe.metering.DeltaLogging.recordFrameProfile(DeltaLogging.scala:265)\n",
       "\tat com.databricks.sql.transaction.tahoe.metering.DeltaLogging.recordFrameProfile$(DeltaLogging.scala:263)\n",
       "\tat com.databricks.sql.transaction.tahoe.OptimisticTransaction.recordFrameProfile(OptimisticTransaction.scala:142)\n",
       "\tat com.databricks.sql.transaction.tahoe.metering.DeltaLogging.$anonfun$recordDeltaOperationInternal$1(DeltaLogging.scala:159)\n",
       "\tat com.databricks.logging.UsageLogging.$anonfun$recordOperation$1(UsageLogging.scala:560)\n",
       "\tat com.databricks.logging.UsageLogging.executeThunkAndCaptureResultTags$1(UsageLogging.scala:656)\n",
       "\tat com.databricks.logging.UsageLogging.$anonfun$recordOperationWithResultTags$4(UsageLogging.scala:677)\n",
       "\tat com.databricks.logging.UsageLogging.$anonfun$withAttributionContext$1(UsageLogging.scala:414)\n",
       "\tat scala.util.DynamicVariable.withValue(DynamicVariable.scala:62)\n",
       "\tat com.databricks.logging.AttributionContext$.withValue(AttributionContext.scala:158)\n",
       "\tat com.databricks.logging.UsageLogging.withAttributionContext(UsageLogging.scala:412)\n",
       "\tat com.databricks.logging.UsageLogging.withAttributionContext$(UsageLogging.scala:409)\n",
       "\tat com.databricks.spark.util.PublicDBLogging.withAttributionContext(DatabricksSparkUsageLogger.scala:25)\n",
       "\tat com.databricks.logging.UsageLogging.withAttributionTags(UsageLogging.scala:457)\n",
       "\tat com.databricks.logging.UsageLogging.withAttributionTags$(UsageLogging.scala:442)\n",
       "\tat com.databricks.spark.util.PublicDBLogging.withAttributionTags(DatabricksSparkUsageLogger.scala:25)\n",
       "\tat com.databricks.logging.UsageLogging.recordOperationWithResultTags(UsageLogging.scala:651)\n",
       "\tat com.databricks.logging.UsageLogging.recordOperationWithResultTags$(UsageLogging.scala:569)\n",
       "\tat com.databricks.spark.util.PublicDBLogging.recordOperationWithResultTags(DatabricksSparkUsageLogger.scala:25)\n",
       "\tat com.databricks.logging.UsageLogging.recordOperation(UsageLogging.scala:560)\n",
       "\tat com.databricks.logging.UsageLogging.recordOperation$(UsageLogging.scala:528)\n",
       "\tat com.databricks.spark.util.PublicDBLogging.recordOperation(DatabricksSparkUsageLogger.scala:25)\n",
       "\tat com.databricks.spark.util.PublicDBLogging.recordOperation0(DatabricksSparkUsageLogger.scala:66)\n",
       "\tat com.databricks.spark.util.DatabricksSparkUsageLogger.recordOperation(DatabricksSparkUsageLogger.scala:148)\n",
       "\tat com.databricks.spark.util.UsageLogger.recordOperation(UsageLogger.scala:72)\n",
       "\tat com.databricks.spark.util.UsageLogger.recordOperation$(UsageLogger.scala:59)\n",
       "\tat com.databricks.spark.util.DatabricksSparkUsageLogger.recordOperation(DatabricksSparkUsageLogger.scala:107)\n",
       "\tat com.databricks.spark.util.UsageLogging.recordOperation(UsageLogger.scala:433)\n",
       "\tat com.databricks.spark.util.UsageLogging.recordOperation$(UsageLogger.scala:412)\n",
       "\tat com.databricks.sql.transaction.tahoe.OptimisticTransaction.recordOperation(OptimisticTransaction.scala:142)\n",
       "\tat com.databricks.sql.transaction.tahoe.metering.DeltaLogging.recordDeltaOperationInternal(DeltaLogging.scala:158)\n",
       "\tat com.databricks.sql.transaction.tahoe.metering.DeltaLogging.recordDeltaOperation(DeltaLogging.scala:148)\n",
       "\tat com.databricks.sql.transaction.tahoe.metering.DeltaLogging.recordDeltaOperation$(DeltaLogging.scala:138)\n",
       "\tat com.databricks.sql.transaction.tahoe.OptimisticTransaction.recordDeltaOperation(OptimisticTransaction.scala:142)\n",
       "\tat com.databricks.sql.transaction.tahoe.files.TransactionalWriteEdge.$anonfun$recordWriteFilesOperation$1(TransactionalWriteEdge.scala:318)\n",
       "\tat com.databricks.sql.acl.CheckPermissions$.trusted(CheckPermissions.scala:1985)\n",
       "\tat com.databricks.sql.transaction.tahoe.files.TransactionalWriteEdge.recordWriteFilesOperation(TransactionalWriteEdge.scala:317)\n",
       "\tat com.databricks.sql.transaction.tahoe.files.TransactionalWriteEdge.writeFiles(TransactionalWriteEdge.scala:350)\n",
       "\tat com.databricks.sql.transaction.tahoe.files.TransactionalWriteEdge.writeFiles$(TransactionalWriteEdge.scala:344)\n",
       "\tat com.databricks.sql.transaction.tahoe.OptimisticTransaction.writeFiles(OptimisticTransaction.scala:142)\n",
       "\tat com.databricks.sql.transaction.tahoe.files.TransactionalWriteEdge.writeFiles(TransactionalWriteEdge.scala:629)\n",
       "\tat com.databricks.sql.transaction.tahoe.files.TransactionalWriteEdge.writeFiles$(TransactionalWriteEdge.scala:619)\n",
       "\tat com.databricks.sql.transaction.tahoe.OptimisticTransaction.writeFiles(OptimisticTransaction.scala:142)\n",
       "\tat com.databricks.sql.transaction.tahoe.files.TransactionalWrite.writeFiles(TransactionalWrite.scala:227)\n",
       "\tat com.databricks.sql.transaction.tahoe.files.TransactionalWrite.writeFiles$(TransactionalWrite.scala:224)\n",
       "\tat com.databricks.sql.transaction.tahoe.OptimisticTransaction.writeFiles(OptimisticTransaction.scala:142)\n",
       "\tat com.databricks.sql.transaction.tahoe.commands.WriteIntoDelta.$anonfun$write$1(WriteIntoDelta.scala:394)\n",
       "\tat com.databricks.sql.acl.CheckPermissions$.trusted(CheckPermissions.scala:1985)\n",
       "\tat com.databricks.sql.transaction.tahoe.commands.WriteIntoDelta.write(WriteIntoDelta.scala:197)\n",
       "\tat com.databricks.sql.transaction.tahoe.commands.WriteIntoDelta.$anonfun$run$2(WriteIntoDelta.scala:105)\n",
       "\tat com.databricks.sql.transaction.tahoe.commands.WriteIntoDelta.$anonfun$run$2$adapted(WriteIntoDelta.scala:100)\n",
       "\tat com.databricks.sql.transaction.tahoe.DeltaLog.withNewTransaction(DeltaLog.scala:291)\n",
       "\tat com.databricks.sql.transaction.tahoe.commands.WriteIntoDelta.$anonfun$run$1(WriteIntoDelta.scala:100)\n",
       "\tat com.databricks.sql.acl.CheckPermissions$.trusted(CheckPermissions.scala:1985)\n",
       "\tat com.databricks.sql.transaction.tahoe.commands.WriteIntoDelta.run(WriteIntoDelta.scala:99)\n",
       "\tat com.databricks.sql.transaction.tahoe.catalog.WriteIntoDeltaBuilder$$anon$1$$anon$2.insert(DeltaTableV2.scala:441)\n",
       "\tat org.apache.spark.sql.execution.datasources.v2.SupportsV1Write.writeWithV1(V1FallbackWriters.scala:108)\n",
       "\tat org.apache.spark.sql.execution.datasources.v2.SupportsV1Write.writeWithV1$(V1FallbackWriters.scala:89)\n",
       "\tat org.apache.spark.sql.execution.datasources.v2.AppendDataExecV1.writeWithV1(V1FallbackWriters.scala:35)\n",
       "\tat org.apache.spark.sql.execution.datasources.v2.V1FallbackWriters.run(V1FallbackWriters.scala:77)\n",
       "\tat org.apache.spark.sql.execution.datasources.v2.V1FallbackWriters.run$(V1FallbackWriters.scala:76)\n",
       "\tat org.apache.spark.sql.execution.datasources.v2.AppendDataExecV1.run(V1FallbackWriters.scala:35)\n",
       "\tat org.apache.spark.sql.execution.datasources.v2.V2CommandExec.$anonfun$result$1(V2CommandExec.scala:47)\n",
       "\tat com.databricks.spark.util.FrameProfiler$.record(FrameProfiler.scala:80)\n",
       "\tat org.apache.spark.sql.execution.datasources.v2.V2CommandExec.result$lzycompute(V2CommandExec.scala:47)\n",
       "\tat org.apache.spark.sql.execution.datasources.v2.V2CommandExec.result(V2CommandExec.scala:45)\n",
       "\tat org.apache.spark.sql.execution.datasources.v2.V2CommandExec.executeCollect(V2CommandExec.scala:54)\n",
       "\tat org.apache.spark.sql.execution.QueryExecution$$anonfun$$nestedInanonfun$eagerlyExecuteCommands$1$1.$anonfun$applyOrElse$3(QueryExecution.scala:238)\n",
       "\tat org.apache.spark.sql.catalyst.QueryPlanningTracker$.withTracker(QueryPlanningTracker.scala:165)\n",
       "\tat org.apache.spark.sql.execution.QueryExecution$$anonfun$$nestedInanonfun$eagerlyExecuteCommands$1$1.$anonfun$applyOrElse$2(QueryExecution.scala:238)\n",
       "\tat org.apache.spark.sql.execution.SQLExecution$.$anonfun$withCustomExecutionEnv$8(SQLExecution.scala:242)\n",
       "\tat org.apache.spark.sql.execution.SQLExecution$.withSQLConfPropagated(SQLExecution.scala:430)\n",
       "\tat org.apache.spark.sql.execution.SQLExecution$.$anonfun$withCustomExecutionEnv$1(SQLExecution.scala:187)\n",
       "\tat org.apache.spark.sql.SparkSession.withActive(SparkSession.scala:1063)\n",
       "\tat org.apache.spark.sql.execution.SQLExecution$.withCustomExecutionEnv(SQLExecution.scala:129)\n",
       "\tat org.apache.spark.sql.execution.SQLExecution$.withNewExecutionId(SQLExecution.scala:380)\n",
       "\tat org.apache.spark.sql.execution.QueryExecution$$anonfun$$nestedInanonfun$eagerlyExecuteCommands$1$1.$anonfun$applyOrElse$1(QueryExecution.scala:237)\n",
       "\tat org.apache.spark.sql.execution.QueryExecution.org$apache$spark$sql$execution$QueryExecution$$withMVTagsIfNecessary(QueryExecution.scala:220)\n",
       "\tat org.apache.spark.sql.execution.QueryExecution$$anonfun$$nestedInanonfun$eagerlyExecuteCommands$1$1.applyOrElse(QueryExecution.scala:233)\n",
       "\tat org.apache.spark.sql.execution.QueryExecution$$anonfun$$nestedInanonfun$eagerlyExecuteCommands$1$1.applyOrElse(QueryExecution.scala:226)\n",
       "\tat org.apache.spark.sql.catalyst.trees.TreeNode.$anonfun$transformDownWithPruning$1(TreeNode.scala:519)\n",
       "\tat org.apache.spark.sql.catalyst.trees.CurrentOrigin$.withOrigin(TreeNode.scala:106)\n",
       "\tat org.apache.spark.sql.catalyst.trees.TreeNode.transformDownWithPruning(TreeNode.scala:519)\n",
       "\tat org.apache.spark.sql.catalyst.plans.logical.LogicalPlan.org$apache$spark$sql$catalyst$plans$logical$AnalysisHelper$$super$transformDownWithPruning(LogicalPlan.scala:32)\n",
       "\tat org.apache.spark.sql.catalyst.plans.logical.AnalysisHelper.transformDownWithPruning(AnalysisHelper.scala:316)\n",
       "\tat org.apache.spark.sql.catalyst.plans.logical.AnalysisHelper.transformDownWithPruning$(AnalysisHelper.scala:312)\n",
       "\tat org.apache.spark.sql.catalyst.plans.logical.LogicalPlan.transformDownWithPruning(LogicalPlan.scala:32)\n",
       "\tat org.apache.spark.sql.catalyst.plans.logical.LogicalPlan.transformDownWithPruning(LogicalPlan.scala:32)\n",
       "\tat org.apache.spark.sql.catalyst.trees.TreeNode.transformDown(TreeNode.scala:495)\n",
       "\tat org.apache.spark.sql.execution.QueryExecution.$anonfun$eagerlyExecuteCommands$1(QueryExecution.scala:226)\n",
       "\tat org.apache.spark.sql.catalyst.plans.logical.AnalysisHelper$.allowInvokingTransformsInAnalyzer(AnalysisHelper.scala:372)\n",
       "\tat org.apache.spark.sql.execution.QueryExecution.eagerlyExecuteCommands(QueryExecution.scala:226)\n",
       "\tat org.apache.spark.sql.execution.QueryExecution.commandExecuted$lzycompute(QueryExecution.scala:180)\n",
       "\tat org.apache.spark.sql.execution.QueryExecution.commandExecuted(QueryExecution.scala:171)\n",
       "\tat org.apache.spark.sql.Dataset.<init>(Dataset.scala:250)\n",
       "\tat org.apache.spark.sql.Dataset$.$anonfun$ofRows$2(Dataset.scala:119)\n",
       "\tat org.apache.spark.sql.SparkSession.withActive(SparkSession.scala:1063)\n",
       "\tat org.apache.spark.sql.SparkSession.$anonfun$withActiveAndFrameProfiler$1(SparkSession.scala:1070)\n",
       "\tat com.databricks.spark.util.FrameProfiler$.record(FrameProfiler.scala:80)\n",
       "\tat org.apache.spark.sql.SparkSession.withActiveAndFrameProfiler(SparkSession.scala:1070)\n",
       "\tat org.apache.spark.sql.Dataset$.ofRows(Dataset.scala:110)\n",
       "\tat org.apache.spark.sql.SparkSession.$anonfun$sql$1(SparkSession.scala:866)\n",
       "\tat org.apache.spark.sql.SparkSession.withActive(SparkSession.scala:1063)\n",
       "\tat org.apache.spark.sql.SparkSession.sql(SparkSession.scala:855)\n",
       "\tat org.apache.spark.sql.SparkSession.sql(SparkSession.scala:889)\n",
       "\tat sun.reflect.GeneratedMethodAccessor762.invoke(Unknown Source)\n",
       "\tat sun.reflect.DelegatingMethodAccessorImpl.invoke(DelegatingMethodAccessorImpl.java:43)\n",
       "\tat java.lang.reflect.Method.invoke(Method.java:498)\n",
       "\tat py4j.reflection.MethodInvoker.invoke(MethodInvoker.java:244)\n",
       "\tat py4j.reflection.ReflectionEngine.invoke(ReflectionEngine.java:380)\n",
       "\tat py4j.Gateway.invoke(Gateway.java:306)\n",
       "\tat py4j.commands.AbstractCommand.invokeMethod(AbstractCommand.java:132)\n",
       "\tat py4j.commands.CallCommand.execute(CallCommand.java:79)\n",
       "\tat py4j.ClientServerConnection.waitForCommands(ClientServerConnection.java:195)\n",
       "\tat py4j.ClientServerConnection.run(ClientServerConnection.java:115)\n",
       "\tat java.lang.Thread.run(Thread.java:750)\n"
      ]
     },
     "metadata": {
      "application/vnd.databricks.v1+output": {
       "arguments": {},
       "data": "\u001B[0;31m---------------------------------------------------------------------------\u001B[0m\n\u001B[0;31mPy4JJavaError\u001B[0m                             Traceback (most recent call last)\nFile \u001B[0;32m<command-1142063495687293>:7\u001B[0m\n\u001B[1;32m      5\u001B[0m     display(df)\n\u001B[1;32m      6\u001B[0m     \u001B[38;5;28;01mreturn\u001B[39;00m df\n\u001B[0;32m----> 7\u001B[0m   _sqldf \u001B[38;5;241m=\u001B[39m \u001B[43m____databricks_percent_sql\u001B[49m\u001B[43m(\u001B[49m\u001B[43m)\u001B[49m\n\u001B[1;32m      8\u001B[0m \u001B[38;5;28;01mfinally\u001B[39;00m:\n\u001B[1;32m      9\u001B[0m   \u001B[38;5;28;01mdel\u001B[39;00m ____databricks_percent_sql\n\nFile \u001B[0;32m<command-1142063495687293>:4\u001B[0m, in \u001B[0;36m____databricks_percent_sql\u001B[0;34m()\u001B[0m\n\u001B[1;32m      2\u001B[0m \u001B[38;5;28;01mdef\u001B[39;00m \u001B[38;5;21m____databricks_percent_sql\u001B[39m():\n\u001B[1;32m      3\u001B[0m   \u001B[38;5;28;01mimport\u001B[39;00m \u001B[38;5;21;01mbase64\u001B[39;00m\n\u001B[0;32m----> 4\u001B[0m   df \u001B[38;5;241m=\u001B[39m \u001B[43mspark\u001B[49m\u001B[38;5;241;43m.\u001B[39;49m\u001B[43msql\u001B[49m\u001B[43m(\u001B[49m\u001B[43mbase64\u001B[49m\u001B[38;5;241;43m.\u001B[39;49m\u001B[43mstandard_b64decode\u001B[49m\u001B[43m(\u001B[49m\u001B[38;5;124;43m\"\u001B[39;49m\u001B[38;5;124;43mSU5TRVJUIElOVE8gcm91bmRfMTZfbWF0Y2hlcyAoCiAgICBXSVRIIFNlbWlGaW5hbCBBUyAoCiAgICAgICAgU0VMRUNUICdTRiAxJyBBUyBTRk1hdGNoLCAKICAgICAgICAgICAgICAgKFNFTEVDVCBXaW5uZXIgRlJPTSByb3VuZF8xNl9tYXRjaGVzIFdIRVJFIE1hdGNoID0gJ1FGIDEnKSBBUyBUZWFtXzEsCiAgICAgICAgICAgICAgIChTRUxFQ1QgV2lubmVyIEZST00gcm91bmRfMTZfbWF0Y2hlcyBXSEVSRSBNYXRjaCA9ICdRRiAyJykgQVMgVGVhbV8yCiAgICAgICAgVU5JT04gQUxMCiAgICAgICAgU0VMRUNUICdTRiAyJyBBUyBTRk1hdGNoLCAKICAgICAgICAgICAgICAgKFNFTEVDVCBXaW5uZXIgRlJPTSByb3VuZF8xNl9tYXRjaGVzIFdIRVJFIE1hdGNoID0gJ1FGIDMnKSBBUyBUZWFtXzEsCiAgICAgICAgICAgICAgIChTRUxFQ1QgV2lubmVyIEZST00gcm91bmRfMTZfbWF0Y2hlcyBXSEVSRSBNYXRjaCA9ICdRRiA0JykgQVMgVGVhbV8yCiAgICApCiAgICBTRUxFQ1QKICAgICAgICBTRk1hdGNoLAogICAgICAgIFRlYW1fMSBBUyBUZWFtXzFfTmFtZSwKICAgICAgICBUZWFtXzIgQVMgVGVhbV8yX05hbWUsCiAgICAgICAgUk9VTkQoUkFORCgpICogNSkgQVMgVGVhbV8xX0dvYWxzLAogICAgICAgIFJPVU5EKFJBTkQoKSAqIDUpIEFTIFRlYW1fMl9Hb2FscywKICAgICAgICBDQVNFCiAgICAgICAgICAgIFdIRU4gUk9VTkQoUkFORCgpKSA9IDEgVEhFTiBUZWFtXzEKICAgICAgICAgICAgRUxTRSBUZWFtXzIKICAgICAgICBFTkQgQVMgV2lubmVyCiAgICBGUk9NIFNlbWlGaW5hbAop\u001B[39;49m\u001B[38;5;124;43m\"\u001B[39;49m\u001B[43m)\u001B[49m\u001B[38;5;241;43m.\u001B[39;49m\u001B[43mdecode\u001B[49m\u001B[43m(\u001B[49m\u001B[43m)\u001B[49m\u001B[43m)\u001B[49m\n\u001B[1;32m      5\u001B[0m   display(df)\n\u001B[1;32m      6\u001B[0m   \u001B[38;5;28;01mreturn\u001B[39;00m df\n\nFile \u001B[0;32m/databricks/spark/python/pyspark/instrumentation_utils.py:48\u001B[0m, in \u001B[0;36m_wrap_function.<locals>.wrapper\u001B[0;34m(*args, **kwargs)\u001B[0m\n\u001B[1;32m     46\u001B[0m start \u001B[38;5;241m=\u001B[39m time\u001B[38;5;241m.\u001B[39mperf_counter()\n\u001B[1;32m     47\u001B[0m \u001B[38;5;28;01mtry\u001B[39;00m:\n\u001B[0;32m---> 48\u001B[0m     res \u001B[38;5;241m=\u001B[39m \u001B[43mfunc\u001B[49m\u001B[43m(\u001B[49m\u001B[38;5;241;43m*\u001B[39;49m\u001B[43margs\u001B[49m\u001B[43m,\u001B[49m\u001B[43m \u001B[49m\u001B[38;5;241;43m*\u001B[39;49m\u001B[38;5;241;43m*\u001B[39;49m\u001B[43mkwargs\u001B[49m\u001B[43m)\u001B[49m\n\u001B[1;32m     49\u001B[0m     logger\u001B[38;5;241m.\u001B[39mlog_success(\n\u001B[1;32m     50\u001B[0m         module_name, class_name, function_name, time\u001B[38;5;241m.\u001B[39mperf_counter() \u001B[38;5;241m-\u001B[39m start, signature\n\u001B[1;32m     51\u001B[0m     )\n\u001B[1;32m     52\u001B[0m     \u001B[38;5;28;01mreturn\u001B[39;00m res\n\nFile \u001B[0;32m/databricks/spark/python/pyspark/sql/session.py:1387\u001B[0m, in \u001B[0;36mSparkSession.sql\u001B[0;34m(self, sqlQuery, args, **kwargs)\u001B[0m\n\u001B[1;32m   1385\u001B[0m \u001B[38;5;28;01mtry\u001B[39;00m:\n\u001B[1;32m   1386\u001B[0m     litArgs \u001B[38;5;241m=\u001B[39m {k: _to_java_column(lit(v)) \u001B[38;5;28;01mfor\u001B[39;00m k, v \u001B[38;5;129;01min\u001B[39;00m (args \u001B[38;5;129;01mor\u001B[39;00m {})\u001B[38;5;241m.\u001B[39mitems()}\n\u001B[0;32m-> 1387\u001B[0m     \u001B[38;5;28;01mreturn\u001B[39;00m DataFrame(\u001B[38;5;28;43mself\u001B[39;49m\u001B[38;5;241;43m.\u001B[39;49m\u001B[43m_jsparkSession\u001B[49m\u001B[38;5;241;43m.\u001B[39;49m\u001B[43msql\u001B[49m\u001B[43m(\u001B[49m\u001B[43msqlQuery\u001B[49m\u001B[43m,\u001B[49m\u001B[43m \u001B[49m\u001B[43mlitArgs\u001B[49m\u001B[43m)\u001B[49m, \u001B[38;5;28mself\u001B[39m)\n\u001B[1;32m   1388\u001B[0m \u001B[38;5;28;01mfinally\u001B[39;00m:\n\u001B[1;32m   1389\u001B[0m     \u001B[38;5;28;01mif\u001B[39;00m \u001B[38;5;28mlen\u001B[39m(kwargs) \u001B[38;5;241m>\u001B[39m \u001B[38;5;241m0\u001B[39m:\n\nFile \u001B[0;32m/databricks/spark/python/lib/py4j-0.10.9.5-src.zip/py4j/java_gateway.py:1321\u001B[0m, in \u001B[0;36mJavaMember.__call__\u001B[0;34m(self, *args)\u001B[0m\n\u001B[1;32m   1315\u001B[0m command \u001B[38;5;241m=\u001B[39m proto\u001B[38;5;241m.\u001B[39mCALL_COMMAND_NAME \u001B[38;5;241m+\u001B[39m\\\n\u001B[1;32m   1316\u001B[0m     \u001B[38;5;28mself\u001B[39m\u001B[38;5;241m.\u001B[39mcommand_header \u001B[38;5;241m+\u001B[39m\\\n\u001B[1;32m   1317\u001B[0m     args_command \u001B[38;5;241m+\u001B[39m\\\n\u001B[1;32m   1318\u001B[0m     proto\u001B[38;5;241m.\u001B[39mEND_COMMAND_PART\n\u001B[1;32m   1320\u001B[0m answer \u001B[38;5;241m=\u001B[39m \u001B[38;5;28mself\u001B[39m\u001B[38;5;241m.\u001B[39mgateway_client\u001B[38;5;241m.\u001B[39msend_command(command)\n\u001B[0;32m-> 1321\u001B[0m return_value \u001B[38;5;241m=\u001B[39m \u001B[43mget_return_value\u001B[49m\u001B[43m(\u001B[49m\n\u001B[1;32m   1322\u001B[0m \u001B[43m    \u001B[49m\u001B[43manswer\u001B[49m\u001B[43m,\u001B[49m\u001B[43m \u001B[49m\u001B[38;5;28;43mself\u001B[39;49m\u001B[38;5;241;43m.\u001B[39;49m\u001B[43mgateway_client\u001B[49m\u001B[43m,\u001B[49m\u001B[43m \u001B[49m\u001B[38;5;28;43mself\u001B[39;49m\u001B[38;5;241;43m.\u001B[39;49m\u001B[43mtarget_id\u001B[49m\u001B[43m,\u001B[49m\u001B[43m \u001B[49m\u001B[38;5;28;43mself\u001B[39;49m\u001B[38;5;241;43m.\u001B[39;49m\u001B[43mname\u001B[49m\u001B[43m)\u001B[49m\n\u001B[1;32m   1324\u001B[0m \u001B[38;5;28;01mfor\u001B[39;00m temp_arg \u001B[38;5;129;01min\u001B[39;00m temp_args:\n\u001B[1;32m   1325\u001B[0m     temp_arg\u001B[38;5;241m.\u001B[39m_detach()\n\nFile \u001B[0;32m/databricks/spark/python/pyspark/errors/exceptions.py:228\u001B[0m, in \u001B[0;36mcapture_sql_exception.<locals>.deco\u001B[0;34m(*a, **kw)\u001B[0m\n\u001B[1;32m    226\u001B[0m \u001B[38;5;28;01mdef\u001B[39;00m \u001B[38;5;21mdeco\u001B[39m(\u001B[38;5;241m*\u001B[39ma: Any, \u001B[38;5;241m*\u001B[39m\u001B[38;5;241m*\u001B[39mkw: Any) \u001B[38;5;241m-\u001B[39m\u001B[38;5;241m>\u001B[39m Any:\n\u001B[1;32m    227\u001B[0m     \u001B[38;5;28;01mtry\u001B[39;00m:\n\u001B[0;32m--> 228\u001B[0m         \u001B[38;5;28;01mreturn\u001B[39;00m \u001B[43mf\u001B[49m\u001B[43m(\u001B[49m\u001B[38;5;241;43m*\u001B[39;49m\u001B[43ma\u001B[49m\u001B[43m,\u001B[49m\u001B[43m \u001B[49m\u001B[38;5;241;43m*\u001B[39;49m\u001B[38;5;241;43m*\u001B[39;49m\u001B[43mkw\u001B[49m\u001B[43m)\u001B[49m\n\u001B[1;32m    229\u001B[0m     \u001B[38;5;28;01mexcept\u001B[39;00m Py4JJavaError \u001B[38;5;28;01mas\u001B[39;00m e:\n\u001B[1;32m    230\u001B[0m         converted \u001B[38;5;241m=\u001B[39m convert_exception(e\u001B[38;5;241m.\u001B[39mjava_exception)\n\nFile \u001B[0;32m/databricks/spark/python/lib/py4j-0.10.9.5-src.zip/py4j/protocol.py:326\u001B[0m, in \u001B[0;36mget_return_value\u001B[0;34m(answer, gateway_client, target_id, name)\u001B[0m\n\u001B[1;32m    324\u001B[0m value \u001B[38;5;241m=\u001B[39m OUTPUT_CONVERTER[\u001B[38;5;28mtype\u001B[39m](answer[\u001B[38;5;241m2\u001B[39m:], gateway_client)\n\u001B[1;32m    325\u001B[0m \u001B[38;5;28;01mif\u001B[39;00m answer[\u001B[38;5;241m1\u001B[39m] \u001B[38;5;241m==\u001B[39m REFERENCE_TYPE:\n\u001B[0;32m--> 326\u001B[0m     \u001B[38;5;28;01mraise\u001B[39;00m Py4JJavaError(\n\u001B[1;32m    327\u001B[0m         \u001B[38;5;124m\"\u001B[39m\u001B[38;5;124mAn error occurred while calling \u001B[39m\u001B[38;5;132;01m{0}\u001B[39;00m\u001B[38;5;132;01m{1}\u001B[39;00m\u001B[38;5;132;01m{2}\u001B[39;00m\u001B[38;5;124m.\u001B[39m\u001B[38;5;130;01m\\n\u001B[39;00m\u001B[38;5;124m\"\u001B[39m\u001B[38;5;241m.\u001B[39m\n\u001B[1;32m    328\u001B[0m         \u001B[38;5;28mformat\u001B[39m(target_id, \u001B[38;5;124m\"\u001B[39m\u001B[38;5;124m.\u001B[39m\u001B[38;5;124m\"\u001B[39m, name), value)\n\u001B[1;32m    329\u001B[0m \u001B[38;5;28;01melse\u001B[39;00m:\n\u001B[1;32m    330\u001B[0m     \u001B[38;5;28;01mraise\u001B[39;00m Py4JError(\n\u001B[1;32m    331\u001B[0m         \u001B[38;5;124m\"\u001B[39m\u001B[38;5;124mAn error occurred while calling \u001B[39m\u001B[38;5;132;01m{0}\u001B[39;00m\u001B[38;5;132;01m{1}\u001B[39;00m\u001B[38;5;132;01m{2}\u001B[39;00m\u001B[38;5;124m. Trace:\u001B[39m\u001B[38;5;130;01m\\n\u001B[39;00m\u001B[38;5;132;01m{3}\u001B[39;00m\u001B[38;5;130;01m\\n\u001B[39;00m\u001B[38;5;124m\"\u001B[39m\u001B[38;5;241m.\u001B[39m\n\u001B[1;32m    332\u001B[0m         \u001B[38;5;28mformat\u001B[39m(target_id, \u001B[38;5;124m\"\u001B[39m\u001B[38;5;124m.\u001B[39m\u001B[38;5;124m\"\u001B[39m, name, value))\n\n\u001B[0;31mPy4JJavaError\u001B[0m: An error occurred while calling o351.sql.\n: org.apache.spark.SparkException: [SCALAR_SUBQUERY_TOO_MANY_ROWS] More than one row returned by a subquery used as an expression.\n== SQL(line 4, position 16) ==\n               (SELECT Winner FROM round_16_matches WHERE Match = 'QF 1') AS Team_1,\n               ^^^^^^^^^^^^^^^^^^^^^^^^^^^^^^^^^^^^^^^^^^^^^^^^^^^^^^^^^^\n\n\tat org.apache.spark.sql.errors.QueryExecutionErrors$.multipleRowSubqueryError(QueryExecutionErrors.scala:2912)\n\tat org.apache.spark.sql.execution.ScalarSubquery.updateResult(subquery.scala:87)\n\tat org.apache.spark.sql.execution.SparkPlan.$anonfun$waitForSubqueries$1(SparkPlan.scala:377)\n\tat org.apache.spark.sql.execution.SparkPlan.$anonfun$waitForSubqueries$1$adapted(SparkPlan.scala:376)\n\tat scala.collection.mutable.ResizableArray.foreach(ResizableArray.scala:62)\n\tat scala.collection.mutable.ResizableArray.foreach$(ResizableArray.scala:55)\n\tat scala.collection.mutable.ArrayBuffer.foreach(ArrayBuffer.scala:49)\n\tat org.apache.spark.sql.execution.SparkPlan.waitForSubqueries(SparkPlan.scala:376)\n\tat org.apache.spark.sql.execution.SparkPlan.$anonfun$executeQuery$1(SparkPlan.scala:333)\n\tat org.apache.spark.rdd.RDDOperationScope$.withScope(RDDOperationScope.scala:165)\n\tat org.apache.spark.sql.execution.SparkPlan.executeQuery(SparkPlan.scala:330)\n\tat org.apache.spark.sql.execution.CodegenSupport.produce(WholeStageCodegenExec.scala:93)\n\tat org.apache.spark.sql.execution.CodegenSupport.produce$(WholeStageCodegenExec.scala:93)\n\tat org.apache.spark.sql.execution.ProjectExec.produce(basicPhysicalOperators.scala:46)\n\tat org.apache.spark.sql.execution.WholeStageCodegenExec.doCodeGen(WholeStageCodegenExec.scala:661)\n\tat org.apache.spark.sql.execution.WholeStageCodegenExec.doExecute(WholeStageCodegenExec.scala:724)\n\tat org.apache.spark.sql.execution.SparkPlan.$anonfun$execute$1(SparkPlan.scala:277)\n\tat org.apache.spark.sql.execution.SparkPlan$.org$apache$spark$sql$execution$SparkPlan$$withExecuteQueryLogging(SparkPlan.scala:108)\n\tat org.apache.spark.sql.execution.SparkPlan.$anonfun$executeQuery$1(SparkPlan.scala:334)\n\tat org.apache.spark.rdd.RDDOperationScope$.withScope(RDDOperationScope.scala:165)\n\tat org.apache.spark.sql.execution.SparkPlan.executeQuery(SparkPlan.scala:330)\n\tat org.apache.spark.sql.execution.SparkPlan.execute(SparkPlan.scala:273)\n\tat org.apache.spark.sql.execution.UnionExec.$anonfun$doExecute$5(basicPhysicalOperators.scala:798)\n\tat scala.collection.TraversableLike.$anonfun$map$1(TraversableLike.scala:286)\n\tat scala.collection.Iterator.foreach(Iterator.scala:943)\n\tat scala.collection.Iterator.foreach$(Iterator.scala:943)\n\tat scala.collection.AbstractIterator.foreach(Iterator.scala:1431)\n\tat scala.collection.IterableLike.foreach(IterableLike.scala:74)\n\tat scala.collection.IterableLike.foreach$(IterableLike.scala:73)\n\tat scala.collection.AbstractIterable.foreach(Iterable.scala:56)\n\tat scala.collection.TraversableLike.map(TraversableLike.scala:286)\n\tat scala.collection.TraversableLike.map$(TraversableLike.scala:279)\n\tat scala.collection.AbstractTraversable.map(Traversable.scala:108)\n\tat org.apache.spark.sql.execution.UnionExec.doExecute(basicPhysicalOperators.scala:798)\n\tat org.apache.spark.sql.execution.SparkPlan.$anonfun$execute$1(SparkPlan.scala:277)\n\tat org.apache.spark.sql.execution.SparkPlan$.org$apache$spark$sql$execution$SparkPlan$$withExecuteQueryLogging(SparkPlan.scala:108)\n\tat org.apache.spark.sql.execution.SparkPlan.$anonfun$executeQuery$1(SparkPlan.scala:334)\n\tat org.apache.spark.rdd.RDDOperationScope$.withScope(RDDOperationScope.scala:165)\n\tat org.apache.spark.sql.execution.SparkPlan.executeQuery(SparkPlan.scala:330)\n\tat org.apache.spark.sql.execution.SparkPlan.execute(SparkPlan.scala:273)\n\tat org.apache.spark.sql.execution.InputAdapter.inputRDD(WholeStageCodegenExec.scala:530)\n\tat org.apache.spark.sql.execution.InputRDDCodegen.inputRDDs(WholeStageCodegenExec.scala:458)\n\tat org.apache.spark.sql.execution.InputRDDCodegen.inputRDDs$(WholeStageCodegenExec.scala:457)\n\tat org.apache.spark.sql.execution.InputAdapter.inputRDDs(WholeStageCodegenExec.scala:501)\n\tat org.apache.spark.sql.execution.ProjectExec.inputRDDs(basicPhysicalOperators.scala:52)\n\tat org.apache.spark.sql.execution.ProjectExec.inputRDDs(basicPhysicalOperators.scala:52)\n\tat org.apache.spark.sql.execution.ProjectExec.inputRDDs(basicPhysicalOperators.scala:52)\n\tat org.apache.spark.sql.execution.WholeStageCodegenExec.doExecute(WholeStageCodegenExec.scala:752)\n\tat org.apache.spark.sql.execution.SparkPlan.$anonfun$execute$1(SparkPlan.scala:277)\n\tat org.apache.spark.sql.execution.SparkPlan$.org$apache$spark$sql$execution$SparkPlan$$withExecuteQueryLogging(SparkPlan.scala:108)\n\tat org.apache.spark.sql.execution.SparkPlan.$anonfun$executeQuery$1(SparkPlan.scala:334)\n\tat org.apache.spark.rdd.RDDOperationScope$.withScope(RDDOperationScope.scala:165)\n\tat org.apache.spark.sql.execution.SparkPlan.executeQuery(SparkPlan.scala:330)\n\tat org.apache.spark.sql.execution.SparkPlan.execute(SparkPlan.scala:273)\n\tat com.databricks.sql.transaction.tahoe.constraints.DeltaInvariantCheckerExec.doExecute(DeltaInvariantCheckerExec.scala:79)\n\tat org.apache.spark.sql.execution.SparkPlan.$anonfun$execute$1(SparkPlan.scala:277)\n\tat org.apache.spark.sql.execution.SparkPlan$.org$apache$spark$sql$execution$SparkPlan$$withExecuteQueryLogging(SparkPlan.scala:108)\n\tat org.apache.spark.sql.execution.SparkPlan.$anonfun$executeQuery$1(SparkPlan.scala:334)\n\tat org.apache.spark.rdd.RDDOperationScope$.withScope(RDDOperationScope.scala:165)\n\tat org.apache.spark.sql.execution.SparkPlan.executeQuery(SparkPlan.scala:330)\n\tat org.apache.spark.sql.execution.SparkPlan.execute(SparkPlan.scala:273)\n\tat org.apache.spark.sql.execution.datasources.FileFormatWriter$.$anonfun$executeWrite$2(FileFormatWriter.scala:293)\n\tat org.apache.spark.sql.execution.datasources.FileFormatWriter$.writeAndCommit(FileFormatWriter.scala:336)\n\tat org.apache.spark.sql.execution.datasources.FileFormatWriter$.executeWrite(FileFormatWriter.scala:276)\n\tat org.apache.spark.sql.execution.datasources.FileFormatWriter$.$anonfun$write$1(FileFormatWriter.scala:252)\n\tat com.databricks.spark.util.FrameProfiler$.record(FrameProfiler.scala:80)\n\tat org.apache.spark.sql.execution.datasources.FileFormatWriter$.write(FileFormatWriter.scala:115)\n\tat com.databricks.sql.transaction.tahoe.commands.WriteIntoDeltaCommand.run(WriteIntoDeltaCommand.scala:70)\n\tat org.apache.spark.sql.execution.command.DataWritingCommandExec.$anonfun$sideEffectResult$3(commands.scala:132)\n\tat com.databricks.spark.util.FrameProfiler$.record(FrameProfiler.scala:80)\n\tat org.apache.spark.sql.execution.command.DataWritingCommandExec.sideEffectResult$lzycompute(commands.scala:130)\n\tat org.apache.spark.sql.execution.command.DataWritingCommandExec.sideEffectResult(commands.scala:129)\n\tat org.apache.spark.sql.execution.command.DataWritingCommandExec.$anonfun$doExecute$4(commands.scala:156)\n\tat com.databricks.spark.util.FrameProfiler$.record(FrameProfiler.scala:80)\n\tat org.apache.spark.sql.execution.command.DataWritingCommandExec.doExecute(commands.scala:156)\n\tat org.apache.spark.sql.execution.SparkPlan.$anonfun$execute$1(SparkPlan.scala:277)\n\tat org.apache.spark.sql.execution.SparkPlan$.org$apache$spark$sql$execution$SparkPlan$$withExecuteQueryLogging(SparkPlan.scala:108)\n\tat org.apache.spark.sql.execution.SparkPlan.$anonfun$executeQuery$1(SparkPlan.scala:334)\n\tat org.apache.spark.rdd.RDDOperationScope$.withScope(RDDOperationScope.scala:165)\n\tat org.apache.spark.sql.execution.SparkPlan.executeQuery(SparkPlan.scala:330)\n\tat org.apache.spark.sql.execution.SparkPlan.execute(SparkPlan.scala:273)\n\tat org.apache.spark.sql.execution.adaptive.AdaptiveSparkPlanExec.$anonfun$doExecute$1(AdaptiveSparkPlanExec.scala:639)\n\tat org.apache.spark.sql.execution.adaptive.AdaptiveSparkPlanExec.$anonfun$withFinalPlanUpdate$1(AdaptiveSparkPlanExec.scala:629)\n\tat com.databricks.spark.util.FrameProfiler$.record(FrameProfiler.scala:80)\n\tat org.apache.spark.sql.execution.adaptive.AdaptiveSparkPlanExec.withFinalPlanUpdate(AdaptiveSparkPlanExec.scala:627)\n\tat org.apache.spark.sql.execution.adaptive.AdaptiveSparkPlanExec.doExecute(AdaptiveSparkPlanExec.scala:639)\n\tat org.apache.spark.sql.execution.SparkPlan.$anonfun$execute$1(SparkPlan.scala:277)\n\tat org.apache.spark.sql.execution.SparkPlan$.org$apache$spark$sql$execution$SparkPlan$$withExecuteQueryLogging(SparkPlan.scala:108)\n\tat org.apache.spark.sql.execution.SparkPlan.$anonfun$executeQuery$1(SparkPlan.scala:334)\n\tat org.apache.spark.rdd.RDDOperationScope$.withScope(RDDOperationScope.scala:165)\n\tat org.apache.spark.sql.execution.SparkPlan.executeQuery(SparkPlan.scala:330)\n\tat org.apache.spark.sql.execution.SparkPlan.execute(SparkPlan.scala:273)\n\tat org.apache.spark.sql.execution.QueryExecution.toRdd$lzycompute(QueryExecution.scala:358)\n\tat org.apache.spark.sql.execution.QueryExecution.toRdd(QueryExecution.scala:357)\n\tat com.databricks.sql.transaction.tahoe.files.TransactionalWriteEdge.$anonfun$writeFiles$11(TransactionalWriteEdge.scala:583)\n\tat org.apache.spark.sql.execution.SQLExecution$.$anonfun$withCustomExecutionEnv$8(SQLExecution.scala:242)\n\tat org.apache.spark.sql.execution.SQLExecution$.withSQLConfPropagated(SQLExecution.scala:430)\n\tat org.apache.spark.sql.execution.SQLExecution$.$anonfun$withCustomExecutionEnv$1(SQLExecution.scala:187)\n\tat org.apache.spark.sql.SparkSession.withActive(SparkSession.scala:1063)\n\tat org.apache.spark.sql.execution.SQLExecution$.withCustomExecutionEnv(SQLExecution.scala:129)\n\tat org.apache.spark.sql.execution.SQLExecution$.withNewExecutionId(SQLExecution.scala:380)\n\tat com.databricks.sql.transaction.tahoe.files.TransactionalWriteEdge.$anonfun$writeFiles$1(TransactionalWriteEdge.scala:578)\n\tat com.databricks.sql.transaction.tahoe.metering.DeltaLogging.withOperationTypeTag(DeltaLogging.scala:196)\n\tat com.databricks.sql.transaction.tahoe.metering.DeltaLogging.withOperationTypeTag$(DeltaLogging.scala:183)\n\tat com.databricks.sql.transaction.tahoe.OptimisticTransaction.withOperationTypeTag(OptimisticTransaction.scala:142)\n\tat com.databricks.sql.transaction.tahoe.metering.DeltaLogging.$anonfun$recordDeltaOperationInternal$2(DeltaLogging.scala:160)\n\tat com.databricks.spark.util.FrameProfiler$.record(FrameProfiler.scala:80)\n\tat com.databricks.sql.transaction.tahoe.metering.DeltaLogging.recordFrameProfile(DeltaLogging.scala:265)\n\tat com.databricks.sql.transaction.tahoe.metering.DeltaLogging.recordFrameProfile$(DeltaLogging.scala:263)\n\tat com.databricks.sql.transaction.tahoe.OptimisticTransaction.recordFrameProfile(OptimisticTransaction.scala:142)\n\tat com.databricks.sql.transaction.tahoe.metering.DeltaLogging.$anonfun$recordDeltaOperationInternal$1(DeltaLogging.scala:159)\n\tat com.databricks.logging.UsageLogging.$anonfun$recordOperation$1(UsageLogging.scala:560)\n\tat com.databricks.logging.UsageLogging.executeThunkAndCaptureResultTags$1(UsageLogging.scala:656)\n\tat com.databricks.logging.UsageLogging.$anonfun$recordOperationWithResultTags$4(UsageLogging.scala:677)\n\tat com.databricks.logging.UsageLogging.$anonfun$withAttributionContext$1(UsageLogging.scala:414)\n\tat scala.util.DynamicVariable.withValue(DynamicVariable.scala:62)\n\tat com.databricks.logging.AttributionContext$.withValue(AttributionContext.scala:158)\n\tat com.databricks.logging.UsageLogging.withAttributionContext(UsageLogging.scala:412)\n\tat com.databricks.logging.UsageLogging.withAttributionContext$(UsageLogging.scala:409)\n\tat com.databricks.spark.util.PublicDBLogging.withAttributionContext(DatabricksSparkUsageLogger.scala:25)\n\tat com.databricks.logging.UsageLogging.withAttributionTags(UsageLogging.scala:457)\n\tat com.databricks.logging.UsageLogging.withAttributionTags$(UsageLogging.scala:442)\n\tat com.databricks.spark.util.PublicDBLogging.withAttributionTags(DatabricksSparkUsageLogger.scala:25)\n\tat com.databricks.logging.UsageLogging.recordOperationWithResultTags(UsageLogging.scala:651)\n\tat com.databricks.logging.UsageLogging.recordOperationWithResultTags$(UsageLogging.scala:569)\n\tat com.databricks.spark.util.PublicDBLogging.recordOperationWithResultTags(DatabricksSparkUsageLogger.scala:25)\n\tat com.databricks.logging.UsageLogging.recordOperation(UsageLogging.scala:560)\n\tat com.databricks.logging.UsageLogging.recordOperation$(UsageLogging.scala:528)\n\tat com.databricks.spark.util.PublicDBLogging.recordOperation(DatabricksSparkUsageLogger.scala:25)\n\tat com.databricks.spark.util.PublicDBLogging.recordOperation0(DatabricksSparkUsageLogger.scala:66)\n\tat com.databricks.spark.util.DatabricksSparkUsageLogger.recordOperation(DatabricksSparkUsageLogger.scala:148)\n\tat com.databricks.spark.util.UsageLogger.recordOperation(UsageLogger.scala:72)\n\tat com.databricks.spark.util.UsageLogger.recordOperation$(UsageLogger.scala:59)\n\tat com.databricks.spark.util.DatabricksSparkUsageLogger.recordOperation(DatabricksSparkUsageLogger.scala:107)\n\tat com.databricks.spark.util.UsageLogging.recordOperation(UsageLogger.scala:433)\n\tat com.databricks.spark.util.UsageLogging.recordOperation$(UsageLogger.scala:412)\n\tat com.databricks.sql.transaction.tahoe.OptimisticTransaction.recordOperation(OptimisticTransaction.scala:142)\n\tat com.databricks.sql.transaction.tahoe.metering.DeltaLogging.recordDeltaOperationInternal(DeltaLogging.scala:158)\n\tat com.databricks.sql.transaction.tahoe.metering.DeltaLogging.recordDeltaOperation(DeltaLogging.scala:148)\n\tat com.databricks.sql.transaction.tahoe.metering.DeltaLogging.recordDeltaOperation$(DeltaLogging.scala:138)\n\tat com.databricks.sql.transaction.tahoe.OptimisticTransaction.recordDeltaOperation(OptimisticTransaction.scala:142)\n\tat com.databricks.sql.transaction.tahoe.files.TransactionalWriteEdge.$anonfun$recordWriteFilesOperation$1(TransactionalWriteEdge.scala:318)\n\tat com.databricks.sql.acl.CheckPermissions$.trusted(CheckPermissions.scala:1985)\n\tat com.databricks.sql.transaction.tahoe.files.TransactionalWriteEdge.recordWriteFilesOperation(TransactionalWriteEdge.scala:317)\n\tat com.databricks.sql.transaction.tahoe.files.TransactionalWriteEdge.writeFiles(TransactionalWriteEdge.scala:350)\n\tat com.databricks.sql.transaction.tahoe.files.TransactionalWriteEdge.writeFiles$(TransactionalWriteEdge.scala:344)\n\tat com.databricks.sql.transaction.tahoe.OptimisticTransaction.writeFiles(OptimisticTransaction.scala:142)\n\tat com.databricks.sql.transaction.tahoe.files.TransactionalWriteEdge.writeFiles(TransactionalWriteEdge.scala:629)\n\tat com.databricks.sql.transaction.tahoe.files.TransactionalWriteEdge.writeFiles$(TransactionalWriteEdge.scala:619)\n\tat com.databricks.sql.transaction.tahoe.OptimisticTransaction.writeFiles(OptimisticTransaction.scala:142)\n\tat com.databricks.sql.transaction.tahoe.files.TransactionalWrite.writeFiles(TransactionalWrite.scala:227)\n\tat com.databricks.sql.transaction.tahoe.files.TransactionalWrite.writeFiles$(TransactionalWrite.scala:224)\n\tat com.databricks.sql.transaction.tahoe.OptimisticTransaction.writeFiles(OptimisticTransaction.scala:142)\n\tat com.databricks.sql.transaction.tahoe.commands.WriteIntoDelta.$anonfun$write$1(WriteIntoDelta.scala:394)\n\tat com.databricks.sql.acl.CheckPermissions$.trusted(CheckPermissions.scala:1985)\n\tat com.databricks.sql.transaction.tahoe.commands.WriteIntoDelta.write(WriteIntoDelta.scala:197)\n\tat com.databricks.sql.transaction.tahoe.commands.WriteIntoDelta.$anonfun$run$2(WriteIntoDelta.scala:105)\n\tat com.databricks.sql.transaction.tahoe.commands.WriteIntoDelta.$anonfun$run$2$adapted(WriteIntoDelta.scala:100)\n\tat com.databricks.sql.transaction.tahoe.DeltaLog.withNewTransaction(DeltaLog.scala:291)\n\tat com.databricks.sql.transaction.tahoe.commands.WriteIntoDelta.$anonfun$run$1(WriteIntoDelta.scala:100)\n\tat com.databricks.sql.acl.CheckPermissions$.trusted(CheckPermissions.scala:1985)\n\tat com.databricks.sql.transaction.tahoe.commands.WriteIntoDelta.run(WriteIntoDelta.scala:99)\n\tat com.databricks.sql.transaction.tahoe.catalog.WriteIntoDeltaBuilder$$anon$1$$anon$2.insert(DeltaTableV2.scala:441)\n\tat org.apache.spark.sql.execution.datasources.v2.SupportsV1Write.writeWithV1(V1FallbackWriters.scala:108)\n\tat org.apache.spark.sql.execution.datasources.v2.SupportsV1Write.writeWithV1$(V1FallbackWriters.scala:89)\n\tat org.apache.spark.sql.execution.datasources.v2.AppendDataExecV1.writeWithV1(V1FallbackWriters.scala:35)\n\tat org.apache.spark.sql.execution.datasources.v2.V1FallbackWriters.run(V1FallbackWriters.scala:77)\n\tat org.apache.spark.sql.execution.datasources.v2.V1FallbackWriters.run$(V1FallbackWriters.scala:76)\n\tat org.apache.spark.sql.execution.datasources.v2.AppendDataExecV1.run(V1FallbackWriters.scala:35)\n\tat org.apache.spark.sql.execution.datasources.v2.V2CommandExec.$anonfun$result$1(V2CommandExec.scala:47)\n\tat com.databricks.spark.util.FrameProfiler$.record(FrameProfiler.scala:80)\n\tat org.apache.spark.sql.execution.datasources.v2.V2CommandExec.result$lzycompute(V2CommandExec.scala:47)\n\tat org.apache.spark.sql.execution.datasources.v2.V2CommandExec.result(V2CommandExec.scala:45)\n\tat org.apache.spark.sql.execution.datasources.v2.V2CommandExec.executeCollect(V2CommandExec.scala:54)\n\tat org.apache.spark.sql.execution.QueryExecution$$anonfun$$nestedInanonfun$eagerlyExecuteCommands$1$1.$anonfun$applyOrElse$3(QueryExecution.scala:238)\n\tat org.apache.spark.sql.catalyst.QueryPlanningTracker$.withTracker(QueryPlanningTracker.scala:165)\n\tat org.apache.spark.sql.execution.QueryExecution$$anonfun$$nestedInanonfun$eagerlyExecuteCommands$1$1.$anonfun$applyOrElse$2(QueryExecution.scala:238)\n\tat org.apache.spark.sql.execution.SQLExecution$.$anonfun$withCustomExecutionEnv$8(SQLExecution.scala:242)\n\tat org.apache.spark.sql.execution.SQLExecution$.withSQLConfPropagated(SQLExecution.scala:430)\n\tat org.apache.spark.sql.execution.SQLExecution$.$anonfun$withCustomExecutionEnv$1(SQLExecution.scala:187)\n\tat org.apache.spark.sql.SparkSession.withActive(SparkSession.scala:1063)\n\tat org.apache.spark.sql.execution.SQLExecution$.withCustomExecutionEnv(SQLExecution.scala:129)\n\tat org.apache.spark.sql.execution.SQLExecution$.withNewExecutionId(SQLExecution.scala:380)\n\tat org.apache.spark.sql.execution.QueryExecution$$anonfun$$nestedInanonfun$eagerlyExecuteCommands$1$1.$anonfun$applyOrElse$1(QueryExecution.scala:237)\n\tat org.apache.spark.sql.execution.QueryExecution.org$apache$spark$sql$execution$QueryExecution$$withMVTagsIfNecessary(QueryExecution.scala:220)\n\tat org.apache.spark.sql.execution.QueryExecution$$anonfun$$nestedInanonfun$eagerlyExecuteCommands$1$1.applyOrElse(QueryExecution.scala:233)\n\tat org.apache.spark.sql.execution.QueryExecution$$anonfun$$nestedInanonfun$eagerlyExecuteCommands$1$1.applyOrElse(QueryExecution.scala:226)\n\tat org.apache.spark.sql.catalyst.trees.TreeNode.$anonfun$transformDownWithPruning$1(TreeNode.scala:519)\n\tat org.apache.spark.sql.catalyst.trees.CurrentOrigin$.withOrigin(TreeNode.scala:106)\n\tat org.apache.spark.sql.catalyst.trees.TreeNode.transformDownWithPruning(TreeNode.scala:519)\n\tat org.apache.spark.sql.catalyst.plans.logical.LogicalPlan.org$apache$spark$sql$catalyst$plans$logical$AnalysisHelper$$super$transformDownWithPruning(LogicalPlan.scala:32)\n\tat org.apache.spark.sql.catalyst.plans.logical.AnalysisHelper.transformDownWithPruning(AnalysisHelper.scala:316)\n\tat org.apache.spark.sql.catalyst.plans.logical.AnalysisHelper.transformDownWithPruning$(AnalysisHelper.scala:312)\n\tat org.apache.spark.sql.catalyst.plans.logical.LogicalPlan.transformDownWithPruning(LogicalPlan.scala:32)\n\tat org.apache.spark.sql.catalyst.plans.logical.LogicalPlan.transformDownWithPruning(LogicalPlan.scala:32)\n\tat org.apache.spark.sql.catalyst.trees.TreeNode.transformDown(TreeNode.scala:495)\n\tat org.apache.spark.sql.execution.QueryExecution.$anonfun$eagerlyExecuteCommands$1(QueryExecution.scala:226)\n\tat org.apache.spark.sql.catalyst.plans.logical.AnalysisHelper$.allowInvokingTransformsInAnalyzer(AnalysisHelper.scala:372)\n\tat org.apache.spark.sql.execution.QueryExecution.eagerlyExecuteCommands(QueryExecution.scala:226)\n\tat org.apache.spark.sql.execution.QueryExecution.commandExecuted$lzycompute(QueryExecution.scala:180)\n\tat org.apache.spark.sql.execution.QueryExecution.commandExecuted(QueryExecution.scala:171)\n\tat org.apache.spark.sql.Dataset.<init>(Dataset.scala:250)\n\tat org.apache.spark.sql.Dataset$.$anonfun$ofRows$2(Dataset.scala:119)\n\tat org.apache.spark.sql.SparkSession.withActive(SparkSession.scala:1063)\n\tat org.apache.spark.sql.SparkSession.$anonfun$withActiveAndFrameProfiler$1(SparkSession.scala:1070)\n\tat com.databricks.spark.util.FrameProfiler$.record(FrameProfiler.scala:80)\n\tat org.apache.spark.sql.SparkSession.withActiveAndFrameProfiler(SparkSession.scala:1070)\n\tat org.apache.spark.sql.Dataset$.ofRows(Dataset.scala:110)\n\tat org.apache.spark.sql.SparkSession.$anonfun$sql$1(SparkSession.scala:866)\n\tat org.apache.spark.sql.SparkSession.withActive(SparkSession.scala:1063)\n\tat org.apache.spark.sql.SparkSession.sql(SparkSession.scala:855)\n\tat org.apache.spark.sql.SparkSession.sql(SparkSession.scala:889)\n\tat sun.reflect.GeneratedMethodAccessor762.invoke(Unknown Source)\n\tat sun.reflect.DelegatingMethodAccessorImpl.invoke(DelegatingMethodAccessorImpl.java:43)\n\tat java.lang.reflect.Method.invoke(Method.java:498)\n\tat py4j.reflection.MethodInvoker.invoke(MethodInvoker.java:244)\n\tat py4j.reflection.ReflectionEngine.invoke(ReflectionEngine.java:380)\n\tat py4j.Gateway.invoke(Gateway.java:306)\n\tat py4j.commands.AbstractCommand.invokeMethod(AbstractCommand.java:132)\n\tat py4j.commands.CallCommand.execute(CallCommand.java:79)\n\tat py4j.ClientServerConnection.waitForCommands(ClientServerConnection.java:195)\n\tat py4j.ClientServerConnection.run(ClientServerConnection.java:115)\n\tat java.lang.Thread.run(Thread.java:750)\n",
       "errorSummary": "org.apache.spark.SparkException: [SCALAR_SUBQUERY_TOO_MANY_ROWS] More than one row returned by a subquery used as an expression.",
       "errorTraceType": "ansi",
       "metadata": {},
       "type": "ipynbError"
      }
     },
     "output_type": "display_data"
    }
   ],
   "source": [
    "%sql\n",
    "INSERT INTO round_16_matches (\n",
    "    WITH SemiFinal AS (\n",
    "        SELECT 'SF 1' AS SFMatch, \n",
    "               (SELECT Winner FROM round_16_matches WHERE Match = 'QF 1') AS Team_1,\n",
    "               (SELECT Winner FROM round_16_matches WHERE Match = 'QF 2') AS Team_2\n",
    "        UNION ALL\n",
    "        SELECT 'SF 2' AS SFMatch, \n",
    "               (SELECT Winner FROM round_16_matches WHERE Match = 'QF 3') AS Team_1,\n",
    "               (SELECT Winner FROM round_16_matches WHERE Match = 'QF 4') AS Team_2\n",
    "    )\n",
    "    SELECT\n",
    "        SFMatch,\n",
    "        Team_1 AS Team_1_Name,\n",
    "        Team_2 AS Team_2_Name,\n",
    "        ROUND(RAND() * 5) AS Team_1_Goals,\n",
    "        ROUND(RAND() * 5) AS Team_2_Goals,\n",
    "        CASE\n",
    "            WHEN Team_1_Goals > Team_2_Goals THEN Team_1\n",
    "            WHEN Team_2_Goals > Team_1_Goals THEN Team_2\n",
    "            ELSE CASE WHEN rand() > 0.5 THEN Team_1 ELSE Team_2 END\n",
    "        END AS Winner\n",
    "    FROM SemiFinal\n",
    ");"
   ]
  },
  {
   "cell_type": "code",
   "execution_count": 0,
   "metadata": {
    "application/vnd.databricks.v1+cell": {
     "cellMetadata": {
      "byteLimit": 2048000,
      "implicitDf": true,
      "rowLimit": 10000
     },
     "inputWidgets": {},
     "nuid": "c96fef45-53e9-4b96-a7ab-2e682fa99b1d",
     "showTitle": false,
     "title": ""
    }
   },
   "outputs": [
    {
     "output_type": "display_data",
     "data": {
      "text/html": [
       "<style scoped>\n",
       "  .table-result-container {\n",
       "    max-height: 300px;\n",
       "    overflow: auto;\n",
       "  }\n",
       "  table, th, td {\n",
       "    border: 1px solid black;\n",
       "    border-collapse: collapse;\n",
       "  }\n",
       "  th, td {\n",
       "    padding: 5px;\n",
       "  }\n",
       "  th {\n",
       "    text-align: left;\n",
       "  }\n",
       "</style><div class='table-result-container'><table class='table-result'><thead style='background-color: white'><tr><th>Match</th><th>Team_1</th><th>Team_2</th><th>Team_1_Goals</th><th>Team_2_Goals</th><th>Winner</th></tr></thead><tbody><tr><td>RS 1</td><td>Spain</td><td>Turkey</td><td>0</td><td>2</td><td>Turkey</td></tr><tr><td>RS 2</td><td>Switzerland</td><td>England</td><td>3</td><td>3</td><td>Switzerland</td></tr><tr><td>RS 3</td><td>Portugal</td><td>Scotland</td><td>2</td><td>2</td><td>Scotland</td></tr><tr><td>RS 4</td><td>France</td><td>Slovakia</td><td>4</td><td>0</td><td>France</td></tr><tr><td>RS 5</td><td>Playoff Winner 2</td><td>Denmark</td><td>3</td><td>3</td><td>Playoff Winner 2</td></tr><tr><td>RS 6</td><td>Netherlands</td><td>Czech Republic</td><td>1</td><td>1</td><td>Czech Republic</td></tr><tr><td>RS 7</td><td>Serbia</td><td>Austria</td><td>1</td><td>2</td><td>Austria</td></tr><tr><td>RS 8</td><td>Hungary</td><td>Italy</td><td>0</td><td>4</td><td>Italy</td></tr><tr><td>QF 3</td><td>Playoff Winner 2</td><td>Czech Republic</td><td>4</td><td>2</td><td>Playoff Winner 2</td></tr><tr><td>QF 1</td><td>Turkey</td><td>Switzerland</td><td>2</td><td>4</td><td>Switzerland</td></tr><tr><td>QF 2</td><td>Scotland</td><td>France</td><td>3</td><td>5</td><td>France</td></tr><tr><td>QF 4</td><td>Austria</td><td>Italy</td><td>1</td><td>0</td><td>Austria</td></tr><tr><td>3rd Place</td><td>null</td><td>null</td><td>5</td><td>4</td><td>null</td></tr><tr><td>Final</td><td>null</td><td>null</td><td>3</td><td>3</td><td>null</td></tr><tr><td>QF 1</td><td>null</td><td>null</td><td>4</td><td>2</td><td>null</td></tr><tr><td>QF 2</td><td>null</td><td>null</td><td>3</td><td>2</td><td>null</td></tr><tr><td>QF 3</td><td>null</td><td>null</td><td>4</td><td>4</td><td>null</td></tr><tr><td>QF 4</td><td>null</td><td>null</td><td>2</td><td>4</td><td>null</td></tr><tr><td>SF 1</td><td>null</td><td>null</td><td>2</td><td>2</td><td>null</td></tr><tr><td>SF 2</td><td>null</td><td>null</td><td>5</td><td>1</td><td>null</td></tr></tbody></table></div>"
      ]
     },
     "metadata": {
      "application/vnd.databricks.v1+output": {
       "addedWidgets": {},
       "aggData": [],
       "aggError": "",
       "aggOverflow": false,
       "aggSchema": [],
       "aggSeriesLimitReached": false,
       "aggType": "",
       "arguments": {},
       "columnCustomDisplayInfos": {},
       "data": [
        [
         "RS 1",
         "Spain",
         "Turkey",
         0,
         2,
         "Turkey"
        ],
        [
         "RS 2",
         "Switzerland",
         "England",
         3,
         3,
         "Switzerland"
        ],
        [
         "RS 3",
         "Portugal",
         "Scotland",
         2,
         2,
         "Scotland"
        ],
        [
         "RS 4",
         "France",
         "Slovakia",
         4,
         0,
         "France"
        ],
        [
         "RS 5",
         "Playoff Winner 2",
         "Denmark",
         3,
         3,
         "Playoff Winner 2"
        ],
        [
         "RS 6",
         "Netherlands",
         "Czech Republic",
         1,
         1,
         "Czech Republic"
        ],
        [
         "RS 7",
         "Serbia",
         "Austria",
         1,
         2,
         "Austria"
        ],
        [
         "RS 8",
         "Hungary",
         "Italy",
         0,
         4,
         "Italy"
        ],
        [
         "QF 3",
         "Playoff Winner 2",
         "Czech Republic",
         4,
         2,
         "Playoff Winner 2"
        ],
        [
         "QF 1",
         "Turkey",
         "Switzerland",
         2,
         4,
         "Switzerland"
        ],
        [
         "QF 2",
         "Scotland",
         "France",
         3,
         5,
         "France"
        ],
        [
         "QF 4",
         "Austria",
         "Italy",
         1,
         0,
         "Austria"
        ],
        [
         "3rd Place",
         null,
         null,
         5,
         4,
         null
        ],
        [
         "Final",
         null,
         null,
         3,
         3,
         null
        ],
        [
         "QF 1",
         null,
         null,
         4,
         2,
         null
        ],
        [
         "QF 2",
         null,
         null,
         3,
         2,
         null
        ],
        [
         "QF 3",
         null,
         null,
         4,
         4,
         null
        ],
        [
         "QF 4",
         null,
         null,
         2,
         4,
         null
        ],
        [
         "SF 1",
         null,
         null,
         2,
         2,
         null
        ],
        [
         "SF 2",
         null,
         null,
         5,
         1,
         null
        ]
       ],
       "datasetInfos": [],
       "dbfsResultPath": null,
       "isJsonSchema": true,
       "metadata": {},
       "overflow": false,
       "plotOptions": {
        "customPlotOptions": {},
        "displayType": "table",
        "pivotAggregation": null,
        "pivotColumns": null,
        "xColumns": null,
        "yColumns": null
       },
       "removedWidgets": [],
       "schema": [
        {
         "metadata": "{}",
         "name": "Match",
         "type": "\"string\""
        },
        {
         "metadata": "{\"__CHAR_VARCHAR_TYPE_STRING\":\"varchar(50)\"}",
         "name": "Team_1",
         "type": "\"string\""
        },
        {
         "metadata": "{\"__CHAR_VARCHAR_TYPE_STRING\":\"varchar(50)\"}",
         "name": "Team_2",
         "type": "\"string\""
        },
        {
         "metadata": "{}",
         "name": "Team_1_Goals",
         "type": "\"integer\""
        },
        {
         "metadata": "{}",
         "name": "Team_2_Goals",
         "type": "\"integer\""
        },
        {
         "metadata": "{\"__CHAR_VARCHAR_TYPE_STRING\":\"varchar(50)\"}",
         "name": "Winner",
         "type": "\"string\""
        }
       ],
       "type": "table"
      }
     },
     "output_type": "display_data"
    }
   ],
   "source": [
    "%sql\n",
    "select * from round_16_matches;"
   ]
  },
  {
   "cell_type": "code",
   "execution_count": 0,
   "metadata": {
    "application/vnd.databricks.v1+cell": {
     "cellMetadata": {
      "byteLimit": 2048000,
      "implicitDf": true,
      "rowLimit": 10000
     },
     "inputWidgets": {},
     "nuid": "1bf29d4e-9110-4991-a54e-bdb351150123",
     "showTitle": false,
     "title": ""
    }
   },
   "outputs": [
    {
     "output_type": "display_data",
     "data": {
      "text/html": [
       "<style scoped>\n",
       "  .table-result-container {\n",
       "    max-height: 300px;\n",
       "    overflow: auto;\n",
       "  }\n",
       "  table, th, td {\n",
       "    border: 1px solid black;\n",
       "    border-collapse: collapse;\n",
       "  }\n",
       "  th, td {\n",
       "    padding: 5px;\n",
       "  }\n",
       "  th {\n",
       "    text-align: left;\n",
       "  }\n",
       "</style><div class='table-result-container'><table class='table-result'><thead style='background-color: white'><tr><th>num_affected_rows</th><th>num_inserted_rows</th></tr></thead><tbody><tr><td>1</td><td>1</td></tr></tbody></table></div>"
      ]
     },
     "metadata": {
      "application/vnd.databricks.v1+output": {
       "addedWidgets": {},
       "aggData": [],
       "aggError": "",
       "aggOverflow": false,
       "aggSchema": [],
       "aggSeriesLimitReached": false,
       "aggType": "",
       "arguments": {},
       "columnCustomDisplayInfos": {},
       "data": [
        [
         1,
         1
        ]
       ],
       "datasetInfos": [],
       "dbfsResultPath": null,
       "isJsonSchema": true,
       "metadata": {},
       "overflow": false,
       "plotOptions": {
        "customPlotOptions": {},
        "displayType": "table",
        "pivotAggregation": null,
        "pivotColumns": null,
        "xColumns": null,
        "yColumns": null
       },
       "removedWidgets": [],
       "schema": [
        {
         "metadata": "{}",
         "name": "num_affected_rows",
         "type": "\"long\""
        },
        {
         "metadata": "{}",
         "name": "num_inserted_rows",
         "type": "\"long\""
        }
       ],
       "type": "table"
      }
     },
     "output_type": "display_data"
    }
   ],
   "source": [
    "%sql\n",
    "INSERT INTO round_16_matches (\n",
    "    WITH SemiFinalLoss AS (\n",
    "        SELECT 'SF 1' AS SFMatch, \n",
    "               (SELECT CASE WHEN Winner = Team_1 THEN Team_2 ELSE Team_1 END FROM round_16_matches WHERE Match = 'SF 1') AS Loss_1,\n",
    "               (SELECT CASE WHEN Winner = Team_1 THEN Team_2 ELSE Team_1 END FROM round_16_matches WHERE Match = 'SF 2') AS Loss_2\n",
    "    ),\n",
    "    ThirdPlace AS (\n",
    "        SELECT\n",
    "            '3rd Place' AS ThirdPlaceMatch,\n",
    "            Loss_1 AS Team_1_Name,\n",
    "            Loss_2 AS Team_2_Name,\n",
    "            ROUND(RAND() * 5) AS Team_1_Goals,\n",
    "            ROUND(RAND() * 5) AS Team_2_Goals,\n",
    "            CASE\n",
    "                WHEN ROUND(RAND()) = 1 THEN Loss_1\n",
    "            WHEN Team_1_Goals > Team_2_Goals THEN Loss_1\n",
    "            WHEN Team_2_Goals > Team_1_Goals THEN Loss_2\n",
    "            ELSE CASE WHEN rand() > 0.5 THEN Loss_1 ELSE Loss_2 END\n",
    "            END AS Winner\n",
    "        FROM SemiFinalLoss\n",
    "    )\n",
    "    SELECT * FROM ThirdPlace\n",
    ");\n"
   ]
  },
  {
   "cell_type": "code",
   "execution_count": 0,
   "metadata": {
    "application/vnd.databricks.v1+cell": {
     "cellMetadata": {
      "byteLimit": 2048000,
      "implicitDf": true,
      "rowLimit": 10000
     },
     "inputWidgets": {},
     "nuid": "8f536876-a46c-463d-88eb-f151da4da590",
     "showTitle": false,
     "title": ""
    }
   },
   "outputs": [
    {
     "output_type": "display_data",
     "data": {
      "text/html": [
       "<style scoped>\n",
       "  .table-result-container {\n",
       "    max-height: 300px;\n",
       "    overflow: auto;\n",
       "  }\n",
       "  table, th, td {\n",
       "    border: 1px solid black;\n",
       "    border-collapse: collapse;\n",
       "  }\n",
       "  th, td {\n",
       "    padding: 5px;\n",
       "  }\n",
       "  th {\n",
       "    text-align: left;\n",
       "  }\n",
       "</style><div class='table-result-container'><table class='table-result'><thead style='background-color: white'><tr><th>Match</th><th>Team_1</th><th>Team_2</th><th>Team_1_Goals</th><th>Team_2_Goals</th><th>Winner</th></tr></thead><tbody><tr><td>RS 1</td><td>Spain</td><td>Turkey</td><td>0</td><td>2</td><td>Turkey</td></tr><tr><td>RS 2</td><td>Switzerland</td><td>England</td><td>3</td><td>3</td><td>Switzerland</td></tr><tr><td>RS 3</td><td>Portugal</td><td>Scotland</td><td>2</td><td>2</td><td>Scotland</td></tr><tr><td>RS 4</td><td>France</td><td>Slovakia</td><td>4</td><td>0</td><td>France</td></tr><tr><td>RS 5</td><td>Playoff Winner 2</td><td>Denmark</td><td>3</td><td>3</td><td>Playoff Winner 2</td></tr><tr><td>RS 6</td><td>Netherlands</td><td>Czech Republic</td><td>1</td><td>1</td><td>Czech Republic</td></tr><tr><td>RS 7</td><td>Serbia</td><td>Austria</td><td>1</td><td>2</td><td>Austria</td></tr><tr><td>RS 8</td><td>Hungary</td><td>Italy</td><td>0</td><td>4</td><td>Italy</td></tr><tr><td>QF 3</td><td>Playoff Winner 2</td><td>Czech Republic</td><td>4</td><td>2</td><td>Playoff Winner 2</td></tr><tr><td>QF 1</td><td>Turkey</td><td>Switzerland</td><td>2</td><td>4</td><td>Switzerland</td></tr><tr><td>QF 2</td><td>Scotland</td><td>France</td><td>3</td><td>5</td><td>France</td></tr><tr><td>QF 4</td><td>Austria</td><td>Italy</td><td>1</td><td>0</td><td>Austria</td></tr><tr><td>3rd Place</td><td>null</td><td>null</td><td>5</td><td>4</td><td>null</td></tr><tr><td>3rd Place</td><td>null</td><td>null</td><td>4</td><td>3</td><td>null</td></tr><tr><td>Final</td><td>null</td><td>null</td><td>3</td><td>3</td><td>null</td></tr><tr><td>QF 1</td><td>null</td><td>null</td><td>4</td><td>2</td><td>null</td></tr><tr><td>QF 2</td><td>null</td><td>null</td><td>3</td><td>2</td><td>null</td></tr><tr><td>QF 3</td><td>null</td><td>null</td><td>4</td><td>4</td><td>null</td></tr><tr><td>QF 4</td><td>null</td><td>null</td><td>2</td><td>4</td><td>null</td></tr><tr><td>SF 1</td><td>null</td><td>null</td><td>2</td><td>2</td><td>null</td></tr><tr><td>SF 2</td><td>null</td><td>null</td><td>5</td><td>1</td><td>null</td></tr></tbody></table></div>"
      ]
     },
     "metadata": {
      "application/vnd.databricks.v1+output": {
       "addedWidgets": {},
       "aggData": [],
       "aggError": "",
       "aggOverflow": false,
       "aggSchema": [],
       "aggSeriesLimitReached": false,
       "aggType": "",
       "arguments": {},
       "columnCustomDisplayInfos": {},
       "data": [
        [
         "RS 1",
         "Spain",
         "Turkey",
         0,
         2,
         "Turkey"
        ],
        [
         "RS 2",
         "Switzerland",
         "England",
         3,
         3,
         "Switzerland"
        ],
        [
         "RS 3",
         "Portugal",
         "Scotland",
         2,
         2,
         "Scotland"
        ],
        [
         "RS 4",
         "France",
         "Slovakia",
         4,
         0,
         "France"
        ],
        [
         "RS 5",
         "Playoff Winner 2",
         "Denmark",
         3,
         3,
         "Playoff Winner 2"
        ],
        [
         "RS 6",
         "Netherlands",
         "Czech Republic",
         1,
         1,
         "Czech Republic"
        ],
        [
         "RS 7",
         "Serbia",
         "Austria",
         1,
         2,
         "Austria"
        ],
        [
         "RS 8",
         "Hungary",
         "Italy",
         0,
         4,
         "Italy"
        ],
        [
         "QF 3",
         "Playoff Winner 2",
         "Czech Republic",
         4,
         2,
         "Playoff Winner 2"
        ],
        [
         "QF 1",
         "Turkey",
         "Switzerland",
         2,
         4,
         "Switzerland"
        ],
        [
         "QF 2",
         "Scotland",
         "France",
         3,
         5,
         "France"
        ],
        [
         "QF 4",
         "Austria",
         "Italy",
         1,
         0,
         "Austria"
        ],
        [
         "3rd Place",
         null,
         null,
         5,
         4,
         null
        ],
        [
         "3rd Place",
         null,
         null,
         4,
         3,
         null
        ],
        [
         "Final",
         null,
         null,
         3,
         3,
         null
        ],
        [
         "QF 1",
         null,
         null,
         4,
         2,
         null
        ],
        [
         "QF 2",
         null,
         null,
         3,
         2,
         null
        ],
        [
         "QF 3",
         null,
         null,
         4,
         4,
         null
        ],
        [
         "QF 4",
         null,
         null,
         2,
         4,
         null
        ],
        [
         "SF 1",
         null,
         null,
         2,
         2,
         null
        ],
        [
         "SF 2",
         null,
         null,
         5,
         1,
         null
        ]
       ],
       "datasetInfos": [],
       "dbfsResultPath": null,
       "isJsonSchema": true,
       "metadata": {},
       "overflow": false,
       "plotOptions": {
        "customPlotOptions": {},
        "displayType": "table",
        "pivotAggregation": null,
        "pivotColumns": null,
        "xColumns": null,
        "yColumns": null
       },
       "removedWidgets": [],
       "schema": [
        {
         "metadata": "{}",
         "name": "Match",
         "type": "\"string\""
        },
        {
         "metadata": "{\"__CHAR_VARCHAR_TYPE_STRING\":\"varchar(50)\"}",
         "name": "Team_1",
         "type": "\"string\""
        },
        {
         "metadata": "{\"__CHAR_VARCHAR_TYPE_STRING\":\"varchar(50)\"}",
         "name": "Team_2",
         "type": "\"string\""
        },
        {
         "metadata": "{}",
         "name": "Team_1_Goals",
         "type": "\"integer\""
        },
        {
         "metadata": "{}",
         "name": "Team_2_Goals",
         "type": "\"integer\""
        },
        {
         "metadata": "{\"__CHAR_VARCHAR_TYPE_STRING\":\"varchar(50)\"}",
         "name": "Winner",
         "type": "\"string\""
        }
       ],
       "type": "table"
      }
     },
     "output_type": "display_data"
    }
   ],
   "source": [
    "%sql\n",
    "select * from round_16_matches;"
   ]
  },
  {
   "cell_type": "code",
   "execution_count": 0,
   "metadata": {
    "application/vnd.databricks.v1+cell": {
     "cellMetadata": {
      "byteLimit": 2048000,
      "implicitDf": true,
      "rowLimit": 10000
     },
     "inputWidgets": {},
     "nuid": "b81637ac-7bc6-425a-9bc1-cd436ab6d0b5",
     "showTitle": false,
     "title": ""
    }
   },
   "outputs": [
    {
     "output_type": "display_data",
     "data": {
      "text/html": [
       "<style scoped>\n",
       "  .table-result-container {\n",
       "    max-height: 300px;\n",
       "    overflow: auto;\n",
       "  }\n",
       "  table, th, td {\n",
       "    border: 1px solid black;\n",
       "    border-collapse: collapse;\n",
       "  }\n",
       "  th, td {\n",
       "    padding: 5px;\n",
       "  }\n",
       "  th {\n",
       "    text-align: left;\n",
       "  }\n",
       "</style><div class='table-result-container'><table class='table-result'><thead style='background-color: white'><tr><th>num_affected_rows</th><th>num_inserted_rows</th></tr></thead><tbody><tr><td>1</td><td>1</td></tr></tbody></table></div>"
      ]
     },
     "metadata": {
      "application/vnd.databricks.v1+output": {
       "addedWidgets": {},
       "aggData": [],
       "aggError": "",
       "aggOverflow": false,
       "aggSchema": [],
       "aggSeriesLimitReached": false,
       "aggType": "",
       "arguments": {},
       "columnCustomDisplayInfos": {},
       "data": [
        [
         1,
         1
        ]
       ],
       "datasetInfos": [],
       "dbfsResultPath": null,
       "isJsonSchema": true,
       "metadata": {},
       "overflow": false,
       "plotOptions": {
        "customPlotOptions": {},
        "displayType": "table",
        "pivotAggregation": null,
        "pivotColumns": null,
        "xColumns": null,
        "yColumns": null
       },
       "removedWidgets": [],
       "schema": [
        {
         "metadata": "{}",
         "name": "num_affected_rows",
         "type": "\"long\""
        },
        {
         "metadata": "{}",
         "name": "num_inserted_rows",
         "type": "\"long\""
        }
       ],
       "type": "table"
      }
     },
     "output_type": "display_data"
    }
   ],
   "source": [
    "%sql\n",
    "INSERT INTO round_16_matches (\n",
    "    WITH FinalMatch AS (\n",
    "        SELECT 'Final' AS FinalMatch,\n",
    "               (SELECT Winner FROM round_16_matches WHERE Match = 'SF 1') AS Team_1,\n",
    "               (SELECT Winner FROM round_16_matches WHERE Match = 'SF 2') AS Team_2\n",
    "    )\n",
    "    SELECT\n",
    "        FinalMatch,\n",
    "        Team_1 AS Team_1_Name,\n",
    "        Team_2 AS Team_2_Name,\n",
    "        ROUND(RAND() * 5) AS Team_1_Goals,\n",
    "        ROUND(RAND() * 5) AS Team_2_Goals,\n",
    "        CASE\n",
    "            WHEN Team_1_Goals > Team_2_Goals THEN Team_1\n",
    "            WHEN Team_2_Goals > Team_1_Goals THEN Team_2\n",
    "            ELSE CASE WHEN rand() > 0.5 THEN Team_1 ELSE Team_2 END\n",
    "        END AS Winner\n",
    "    FROM FinalMatch\n",
    ");"
   ]
  },
  {
   "cell_type": "code",
   "execution_count": 0,
   "metadata": {
    "application/vnd.databricks.v1+cell": {
     "cellMetadata": {
      "byteLimit": 2048000,
      "implicitDf": true,
      "rowLimit": 10000
     },
     "inputWidgets": {},
     "nuid": "94640dbc-917f-4ab0-988d-c4c2fd41695b",
     "showTitle": false,
     "title": ""
    }
   },
   "outputs": [
    {
     "output_type": "display_data",
     "data": {
      "text/html": [
       "<style scoped>\n",
       "  .table-result-container {\n",
       "    max-height: 300px;\n",
       "    overflow: auto;\n",
       "  }\n",
       "  table, th, td {\n",
       "    border: 1px solid black;\n",
       "    border-collapse: collapse;\n",
       "  }\n",
       "  th, td {\n",
       "    padding: 5px;\n",
       "  }\n",
       "  th {\n",
       "    text-align: left;\n",
       "  }\n",
       "</style><div class='table-result-container'><table class='table-result'><thead style='background-color: white'><tr><th>Match</th><th>Team_1</th><th>Team_2</th><th>Team_1_Goals</th><th>Team_2_Goals</th><th>Winner</th></tr></thead><tbody><tr><td>RS 1</td><td>Spain</td><td>Turkey</td><td>0</td><td>2</td><td>Turkey</td></tr><tr><td>RS 2</td><td>Switzerland</td><td>England</td><td>3</td><td>3</td><td>Switzerland</td></tr><tr><td>RS 3</td><td>Portugal</td><td>Scotland</td><td>2</td><td>2</td><td>Scotland</td></tr><tr><td>RS 4</td><td>France</td><td>Slovakia</td><td>4</td><td>0</td><td>France</td></tr><tr><td>RS 5</td><td>Playoff Winner 2</td><td>Denmark</td><td>3</td><td>3</td><td>Playoff Winner 2</td></tr><tr><td>RS 6</td><td>Netherlands</td><td>Czech Republic</td><td>1</td><td>1</td><td>Czech Republic</td></tr><tr><td>RS 7</td><td>Serbia</td><td>Austria</td><td>1</td><td>2</td><td>Austria</td></tr><tr><td>RS 8</td><td>Hungary</td><td>Italy</td><td>0</td><td>4</td><td>Italy</td></tr><tr><td>QF 3</td><td>Playoff Winner 2</td><td>Czech Republic</td><td>4</td><td>2</td><td>Playoff Winner 2</td></tr><tr><td>QF 1</td><td>Turkey</td><td>Switzerland</td><td>2</td><td>4</td><td>Switzerland</td></tr><tr><td>QF 2</td><td>Scotland</td><td>France</td><td>3</td><td>5</td><td>France</td></tr><tr><td>QF 4</td><td>Austria</td><td>Italy</td><td>1</td><td>0</td><td>Austria</td></tr><tr><td>3rd Place</td><td>null</td><td>null</td><td>5</td><td>4</td><td>null</td></tr><tr><td>3rd Place</td><td>null</td><td>null</td><td>4</td><td>3</td><td>null</td></tr><tr><td>Final</td><td>null</td><td>null</td><td>3</td><td>3</td><td>null</td></tr><tr><td>Final</td><td>null</td><td>null</td><td>3</td><td>4</td><td>null</td></tr><tr><td>QF 1</td><td>null</td><td>null</td><td>4</td><td>2</td><td>null</td></tr><tr><td>QF 2</td><td>null</td><td>null</td><td>3</td><td>2</td><td>null</td></tr><tr><td>QF 3</td><td>null</td><td>null</td><td>4</td><td>4</td><td>null</td></tr><tr><td>QF 4</td><td>null</td><td>null</td><td>2</td><td>4</td><td>null</td></tr><tr><td>SF 1</td><td>null</td><td>null</td><td>2</td><td>2</td><td>null</td></tr><tr><td>SF 2</td><td>null</td><td>null</td><td>5</td><td>1</td><td>null</td></tr></tbody></table></div>"
      ]
     },
     "metadata": {
      "application/vnd.databricks.v1+output": {
       "addedWidgets": {},
       "aggData": [],
       "aggError": "",
       "aggOverflow": false,
       "aggSchema": [],
       "aggSeriesLimitReached": false,
       "aggType": "",
       "arguments": {},
       "columnCustomDisplayInfos": {},
       "data": [
        [
         "RS 1",
         "Spain",
         "Turkey",
         0,
         2,
         "Turkey"
        ],
        [
         "RS 2",
         "Switzerland",
         "England",
         3,
         3,
         "Switzerland"
        ],
        [
         "RS 3",
         "Portugal",
         "Scotland",
         2,
         2,
         "Scotland"
        ],
        [
         "RS 4",
         "France",
         "Slovakia",
         4,
         0,
         "France"
        ],
        [
         "RS 5",
         "Playoff Winner 2",
         "Denmark",
         3,
         3,
         "Playoff Winner 2"
        ],
        [
         "RS 6",
         "Netherlands",
         "Czech Republic",
         1,
         1,
         "Czech Republic"
        ],
        [
         "RS 7",
         "Serbia",
         "Austria",
         1,
         2,
         "Austria"
        ],
        [
         "RS 8",
         "Hungary",
         "Italy",
         0,
         4,
         "Italy"
        ],
        [
         "QF 3",
         "Playoff Winner 2",
         "Czech Republic",
         4,
         2,
         "Playoff Winner 2"
        ],
        [
         "QF 1",
         "Turkey",
         "Switzerland",
         2,
         4,
         "Switzerland"
        ],
        [
         "QF 2",
         "Scotland",
         "France",
         3,
         5,
         "France"
        ],
        [
         "QF 4",
         "Austria",
         "Italy",
         1,
         0,
         "Austria"
        ],
        [
         "3rd Place",
         null,
         null,
         5,
         4,
         null
        ],
        [
         "3rd Place",
         null,
         null,
         4,
         3,
         null
        ],
        [
         "Final",
         null,
         null,
         3,
         3,
         null
        ],
        [
         "Final",
         null,
         null,
         3,
         4,
         null
        ],
        [
         "QF 1",
         null,
         null,
         4,
         2,
         null
        ],
        [
         "QF 2",
         null,
         null,
         3,
         2,
         null
        ],
        [
         "QF 3",
         null,
         null,
         4,
         4,
         null
        ],
        [
         "QF 4",
         null,
         null,
         2,
         4,
         null
        ],
        [
         "SF 1",
         null,
         null,
         2,
         2,
         null
        ],
        [
         "SF 2",
         null,
         null,
         5,
         1,
         null
        ]
       ],
       "datasetInfos": [],
       "dbfsResultPath": null,
       "isJsonSchema": true,
       "metadata": {},
       "overflow": false,
       "plotOptions": {
        "customPlotOptions": {},
        "displayType": "table",
        "pivotAggregation": null,
        "pivotColumns": null,
        "xColumns": null,
        "yColumns": null
       },
       "removedWidgets": [],
       "schema": [
        {
         "metadata": "{}",
         "name": "Match",
         "type": "\"string\""
        },
        {
         "metadata": "{\"__CHAR_VARCHAR_TYPE_STRING\":\"varchar(50)\"}",
         "name": "Team_1",
         "type": "\"string\""
        },
        {
         "metadata": "{\"__CHAR_VARCHAR_TYPE_STRING\":\"varchar(50)\"}",
         "name": "Team_2",
         "type": "\"string\""
        },
        {
         "metadata": "{}",
         "name": "Team_1_Goals",
         "type": "\"integer\""
        },
        {
         "metadata": "{}",
         "name": "Team_2_Goals",
         "type": "\"integer\""
        },
        {
         "metadata": "{\"__CHAR_VARCHAR_TYPE_STRING\":\"varchar(50)\"}",
         "name": "Winner",
         "type": "\"string\""
        }
       ],
       "type": "table"
      }
     },
     "output_type": "display_data"
    }
   ],
   "source": [
    "%sql\n",
    "select * from round_16_matches;"
   ]
  },
  {
   "cell_type": "code",
   "execution_count": 0,
   "metadata": {
    "application/vnd.databricks.v1+cell": {
     "cellMetadata": {
      "byteLimit": 2048000,
      "implicitDf": true,
      "rowLimit": 10000
     },
     "inputWidgets": {},
     "nuid": "bf4a649d-3eea-4fe2-8519-af68250d5e9e",
     "showTitle": false,
     "title": ""
    }
   },
   "outputs": [
    {
     "output_type": "display_data",
     "data": {
      "text/html": [
       "<style scoped>\n",
       "  .table-result-container {\n",
       "    max-height: 300px;\n",
       "    overflow: auto;\n",
       "  }\n",
       "  table, th, td {\n",
       "    border: 1px solid black;\n",
       "    border-collapse: collapse;\n",
       "  }\n",
       "  th, td {\n",
       "    padding: 5px;\n",
       "  }\n",
       "  th {\n",
       "    text-align: left;\n",
       "  }\n",
       "</style><div class='table-result-container'><table class='table-result'><thead style='background-color: white'><tr><th>R16_A</th><th>QF_A</th><th>Semi_Final_A</th><th>Final</th><th>Semi_Final_B</th><th>QF_B</th><th>R16_B</th></tr></thead><tbody><tr><td>RS 1: Spain vs Turkey, 0-2, Winner: Turkey</td><td></td><td></td><td></td><td></td><td></td><td></td></tr><tr><td></td><td></td><td></td><td></td><td></td><td></td><td>RS 5: Playoff Winner 2 vs Denmark, 3-3, Winner: Playoff Winner 2</td></tr><tr><td></td><td>QF 1: Turkey vs Switzerland, 2-4, Winner: Switzerland</td><td></td><td></td><td></td><td></td><td></td></tr><tr><td></td><td>null</td><td></td><td></td><td></td><td></td><td></td></tr><tr><td></td><td></td><td></td><td></td><td></td><td>QF 3: Playoff Winner 2 vs Czech Republic, 4-2, Winner: Playoff Winner 2</td><td></td></tr><tr><td></td><td></td><td></td><td></td><td></td><td>null</td><td></td></tr><tr><td>RS 2: Switzerland vs England, 3-3, Winner: Switzerland</td><td></td><td></td><td></td><td></td><td></td><td></td></tr><tr><td></td><td></td><td></td><td></td><td></td><td></td><td>RS 6: Netherlands vs Czech Republic, 1-1, Winner: Czech Republic</td></tr><tr><td>RS 3: Portugal vs Scotland, 2-2, Winner: Scotland</td><td></td><td></td><td></td><td></td><td></td><td></td></tr><tr><td></td><td></td><td></td><td></td><td></td><td></td><td>RS 7: Serbia vs Austria, 1-2, Winner: Austria</td></tr><tr><td></td><td>QF 2: Scotland vs France, 3-5, Winner: France</td><td></td><td></td><td></td><td></td><td></td></tr><tr><td></td><td>null</td><td></td><td></td><td></td><td></td><td></td></tr><tr><td></td><td></td><td></td><td></td><td></td><td>QF 4: Austria vs Italy, 1-0, Winner: Austria</td><td></td></tr><tr><td></td><td></td><td></td><td></td><td></td><td>null</td><td></td></tr><tr><td></td><td></td><td></td><td>null</td><td></td><td></td><td></td></tr><tr><td></td><td></td><td></td><td>null</td><td></td><td></td><td></td></tr><tr><td>RS 4: France vs Slovakia, 4-0, Winner: France</td><td></td><td></td><td></td><td></td><td></td><td></td></tr><tr><td></td><td></td><td></td><td></td><td></td><td></td><td>RS 8: Hungary vs Italy, 0-4, Winner: Italy</td></tr><tr><td></td><td></td><td>null</td><td></td><td></td><td></td><td></td></tr><tr><td></td><td></td><td></td><td></td><td>null</td><td></td><td></td></tr><tr><td></td><td></td><td></td><td>null</td><td></td><td></td><td></td></tr><tr><td></td><td></td><td></td><td>null</td><td></td><td></td><td></td></tr></tbody></table></div>"
      ]
     },
     "metadata": {
      "application/vnd.databricks.v1+output": {
       "addedWidgets": {},
       "aggData": [],
       "aggError": "",
       "aggOverflow": false,
       "aggSchema": [],
       "aggSeriesLimitReached": false,
       "aggType": "",
       "arguments": {},
       "columnCustomDisplayInfos": {},
       "data": [
        [
         "RS 1: Spain vs Turkey, 0-2, Winner: Turkey",
         "",
         "",
         "",
         "",
         "",
         ""
        ],
        [
         "",
         "",
         "",
         "",
         "",
         "",
         "RS 5: Playoff Winner 2 vs Denmark, 3-3, Winner: Playoff Winner 2"
        ],
        [
         "",
         "QF 1: Turkey vs Switzerland, 2-4, Winner: Switzerland",
         "",
         "",
         "",
         "",
         ""
        ],
        [
         "",
         null,
         "",
         "",
         "",
         "",
         ""
        ],
        [
         "",
         "",
         "",
         "",
         "",
         "QF 3: Playoff Winner 2 vs Czech Republic, 4-2, Winner: Playoff Winner 2",
         ""
        ],
        [
         "",
         "",
         "",
         "",
         "",
         null,
         ""
        ],
        [
         "RS 2: Switzerland vs England, 3-3, Winner: Switzerland",
         "",
         "",
         "",
         "",
         "",
         ""
        ],
        [
         "",
         "",
         "",
         "",
         "",
         "",
         "RS 6: Netherlands vs Czech Republic, 1-1, Winner: Czech Republic"
        ],
        [
         "RS 3: Portugal vs Scotland, 2-2, Winner: Scotland",
         "",
         "",
         "",
         "",
         "",
         ""
        ],
        [
         "",
         "",
         "",
         "",
         "",
         "",
         "RS 7: Serbia vs Austria, 1-2, Winner: Austria"
        ],
        [
         "",
         "QF 2: Scotland vs France, 3-5, Winner: France",
         "",
         "",
         "",
         "",
         ""
        ],
        [
         "",
         null,
         "",
         "",
         "",
         "",
         ""
        ],
        [
         "",
         "",
         "",
         "",
         "",
         "QF 4: Austria vs Italy, 1-0, Winner: Austria",
         ""
        ],
        [
         "",
         "",
         "",
         "",
         "",
         null,
         ""
        ],
        [
         "",
         "",
         "",
         null,
         "",
         "",
         ""
        ],
        [
         "",
         "",
         "",
         null,
         "",
         "",
         ""
        ],
        [
         "RS 4: France vs Slovakia, 4-0, Winner: France",
         "",
         "",
         "",
         "",
         "",
         ""
        ],
        [
         "",
         "",
         "",
         "",
         "",
         "",
         "RS 8: Hungary vs Italy, 0-4, Winner: Italy"
        ],
        [
         "",
         "",
         null,
         "",
         "",
         "",
         ""
        ],
        [
         "",
         "",
         "",
         "",
         null,
         "",
         ""
        ],
        [
         "",
         "",
         "",
         null,
         "",
         "",
         ""
        ],
        [
         "",
         "",
         "",
         null,
         "",
         "",
         ""
        ]
       ],
       "datasetInfos": [],
       "dbfsResultPath": null,
       "isJsonSchema": true,
       "metadata": {},
       "overflow": false,
       "plotOptions": {
        "customPlotOptions": {},
        "displayType": "table",
        "pivotAggregation": null,
        "pivotColumns": null,
        "xColumns": null,
        "yColumns": null
       },
       "removedWidgets": [],
       "schema": [
        {
         "metadata": "{}",
         "name": "R16_A",
         "type": "\"string\""
        },
        {
         "metadata": "{}",
         "name": "QF_A",
         "type": "\"string\""
        },
        {
         "metadata": "{}",
         "name": "Semi_Final_A",
         "type": "\"string\""
        },
        {
         "metadata": "{}",
         "name": "Final",
         "type": "\"string\""
        },
        {
         "metadata": "{}",
         "name": "Semi_Final_B",
         "type": "\"string\""
        },
        {
         "metadata": "{}",
         "name": "QF_B",
         "type": "\"string\""
        },
        {
         "metadata": "{}",
         "name": "R16_B",
         "type": "\"string\""
        }
       ],
       "type": "table"
      }
     },
     "output_type": "display_data"
    }
   ],
   "source": [
    "%sql\n",
    "WITH MatchDetails AS (\n",
    "    SELECT \n",
    "      ROW_NUMBER() OVER (ORDER BY Match) AS RowNum,\n",
    "    CASE \n",
    "        WHEN Match IN ('RS 1', 'RS 5') THEN 1\n",
    "        WHEN Match IN ('QF 1', 'QF 3') THEN 2\n",
    "        WHEN Match IN ('RS 2', 'RS 6') THEN 3\n",
    "        WHEN Match IN ('RS 3', 'RS 7') THEN 4\n",
    "        WHEN Match IN ('QF 2', 'QF 4') THEN 5\n",
    "        WHEN Match IN ('RS 4', 'RS 8') THEN 6\n",
    "        WHEN Match = 'SF 1' THEN 6\n",
    "        WHEN Match = 'SF 2' THEN 6\n",
    "        WHEN Match = 'Final' THEN 6\n",
    "        WHEN Match = '3rd Place' THEN 8\n",
    "    END AS ColumnNum,\n",
    "        \n",
    "\n",
    "        CASE \n",
    "            WHEN Match = 'RS 1' THEN CONCAT('RS 1: ', Team_1, ' vs ', Team_2, ', ', Team_1_Goals, '-', Team_2_Goals, ', Winner: ', Winner)\n",
    "            WHEN Match = 'RS 2' THEN CONCAT('RS 2: ', Team_1, ' vs ', Team_2, ', ', Team_1_Goals, '-', Team_2_Goals, ', Winner: ', Winner)\n",
    "            WHEN Match = 'RS 3' THEN CONCAT('RS 3: ', Team_1, ' vs ', Team_2, ', ', Team_1_Goals, '-', Team_2_Goals, ', Winner: ', Winner)\n",
    "            WHEN Match = 'RS 4' THEN CONCAT('RS 4: ', Team_1, ' vs ', Team_2, ', ', Team_1_Goals, '-', Team_2_Goals, ', Winner: ', Winner)\n",
    "            ELSE '' \n",
    "        END AS R16_A,\n",
    "        CASE \n",
    "            WHEN Match = 'QF 1' THEN CONCAT('QF 1: ', Team_1, ' vs ', Team_2, ', ', Team_1_Goals, '-', Team_2_Goals, ', Winner: ', Winner)\n",
    "            WHEN Match = 'QF 2' THEN CONCAT('QF 2: ', Team_1, ' vs ', Team_2, ', ', Team_1_Goals, '-', Team_2_Goals, ', Winner: ', Winner)\n",
    "            ELSE '' \n",
    "        END AS QF_A,\n",
    "        CASE \n",
    "            WHEN Match = 'SF 1' THEN CONCAT('SF 1: ', Team_1, ' vs ', Team_2, ', ', Team_1_Goals, '-', Team_2_Goals, ', Winner: ', Winner)\n",
    "            ELSE '' \n",
    "        END AS Semi_Final_A,\n",
    "        CASE \n",
    "            WHEN Match = 'Final' THEN CONCAT('Final: ', Team_1, ' vs ', Team_2, ', ', Team_1_Goals, '-', Team_2_Goals, ', Winner: ', Winner)\n",
    "            WHEN Match = '3rd Place' THEN CONCAT('3rd Place: ', Team_1, ' vs ', Team_2, ', ', Team_1_Goals, '-', Team_2_Goals, ', Winner: ', Winner)\n",
    "            ELSE '' \n",
    "        END AS Final,\n",
    "        CASE \n",
    "            WHEN Match = 'SF 2' THEN CONCAT('SF 2: ', Team_1, ' vs ', Team_2, ', ', Team_1_Goals, '-', Team_2_Goals, ', Winner: ', Winner)\n",
    "            ELSE '' \n",
    "        END AS Semi_Final_B,\n",
    "        CASE \n",
    "            WHEN Match = 'QF 3' THEN CONCAT('QF 3: ', Team_1, ' vs ', Team_2, ', ', Team_1_Goals, '-', Team_2_Goals, ', Winner: ', Winner)\n",
    "            WHEN Match = 'QF 4' THEN CONCAT('QF 4: ', Team_1, ' vs ', Team_2, ', ', Team_1_Goals, '-', Team_2_Goals, ', Winner: ', Winner)\n",
    "            ELSE '' \n",
    "        END AS QF_B,\n",
    "        CASE \n",
    "            WHEN Match = 'RS 5' THEN CONCAT('RS 5: ', Team_1, ' vs ', Team_2, ', ', Team_1_Goals, '-', Team_2_Goals, ', Winner: ', Winner)\n",
    "            WHEN Match = 'RS 6' THEN CONCAT('RS 6: ', Team_1, ' vs ', Team_2, ', ', Team_1_Goals, '-', Team_2_Goals, ', Winner: ', Winner)\n",
    "            WHEN Match = 'RS 7' THEN CONCAT('RS 7: ', Team_1, ' vs ', Team_2, ', ', Team_1_Goals, '-', Team_2_Goals, ', Winner: ', Winner)\n",
    "            WHEN Match = 'RS 8' THEN CONCAT('RS 8: ', Team_1, ' vs ', Team_2, ', ', Team_1_Goals, '-', Team_2_Goals, ', Winner: ', Winner)\n",
    "            ELSE '' \n",
    "        END AS R16_B\n",
    "\n",
    "\n",
    "    FROM round_16_matches\n",
    "      \n",
    ")\n",
    "\n",
    "SELECT \n",
    " \n",
    "\n",
    "    \n",
    "    R16_A,\n",
    "    QF_A,\n",
    "    Semi_Final_A,\n",
    "    Final,\n",
    "    Semi_Final_B,\n",
    "    QF_B,\n",
    "    R16_B\n",
    "FROM \n",
    "    MatchDetails\n",
    "WHERE\n",
    "    RowNum IS NOT NULL\n",
    "ORDER BY\n",
    "    ColumnNum, RowNum;"
   ]
  },
  {
   "cell_type": "code",
   "execution_count": 0,
   "metadata": {
    "application/vnd.databricks.v1+cell": {
     "cellMetadata": {},
     "inputWidgets": {},
     "nuid": "776e162f-cc96-43c4-9360-0c090f1ba5af",
     "showTitle": false,
     "title": ""
    }
   },
   "outputs": [],
   "source": []
  }
 ],
 "metadata": {
  "application/vnd.databricks.v1+notebook": {
   "dashboards": [],
   "language": "python",
   "notebookMetadata": {
    "mostRecentlyExecutedCommandWithImplicitDF": {
     "commandId": 3439850594924989,
     "dataframes": [
      "_sqldf"
     ]
    },
    "pythonIndentUnit": 4
   },
   "notebookName": "Euro_Cup_Projection",
   "widgets": {}
  }
 },
 "nbformat": 4,
 "nbformat_minor": 0
}
