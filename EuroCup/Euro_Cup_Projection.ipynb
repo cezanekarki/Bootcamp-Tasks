{
 "cells": [
  {
   "cell_type": "code",
   "execution_count": 0,
   "metadata": {
    "application/vnd.databricks.v1+cell": {
     "cellMetadata": {
      "byteLimit": 2048000,
      "rowLimit": 10000
     },
     "inputWidgets": {},
     "nuid": "dc522d6f-68d4-44c9-9649-a5f7428dfe13",
     "showTitle": false,
     "title": ""
    }
   },
   "outputs": [
    {
     "output_type": "display_data",
     "data": {
      "text/html": [
       "<style scoped>\n",
       "  .ansiout {\n",
       "    display: block;\n",
       "    unicode-bidi: embed;\n",
       "    white-space: pre-wrap;\n",
       "    word-wrap: break-word;\n",
       "    word-break: break-all;\n",
       "    font-family: \"Menlo\", \"Monaco\", \"Consolas\", \"Ubuntu Mono\", \"Source Code Pro\", monospace;\n",
       "    font-size: 13px;\n",
       "    color: #555;\n",
       "    margin-left: 4px;\n",
       "    line-height: 19px;\n",
       "  }\n",
       "</style>\n",
       "<div class=\"ansiout\">res0: Boolean = true\n",
       "</div>"
      ]
     },
     "metadata": {
      "application/vnd.databricks.v1+output": {
       "addedWidgets": {},
       "arguments": {},
       "data": "<div class=\"ansiout\">res0: Boolean = true\n</div>",
       "datasetInfos": [],
       "metadata": {
        "isDbfsCommandResult": false
       },
       "removedWidgets": [],
       "type": "html"
      }
     },
     "output_type": "display_data"
    }
   ],
   "source": [
    "%fs\n",
    "rm -r dbfs:/user/hive/warehouse/3rd_place_combination"
   ]
  },
  {
   "cell_type": "code",
   "execution_count": 0,
   "metadata": {
    "application/vnd.databricks.v1+cell": {
     "cellMetadata": {
      "byteLimit": 2048000,
      "rowLimit": 10000
     },
     "inputWidgets": {},
     "nuid": "37ab7dae-39ee-4170-a063-b7b06ae6a859",
     "showTitle": false,
     "title": ""
    }
   },
   "outputs": [
    {
     "output_type": "display_data",
     "data": {
      "text/html": [
       "<style scoped>\n",
       "  .ansiout {\n",
       "    display: block;\n",
       "    unicode-bidi: embed;\n",
       "    white-space: pre-wrap;\n",
       "    word-wrap: break-word;\n",
       "    word-break: break-all;\n",
       "    font-family: \"Menlo\", \"Monaco\", \"Consolas\", \"Ubuntu Mono\", \"Source Code Pro\", monospace;\n",
       "    font-size: 13px;\n",
       "    color: #555;\n",
       "    margin-left: 4px;\n",
       "    line-height: 19px;\n",
       "  }\n",
       "</style>\n",
       "<div class=\"ansiout\">res1: Boolean = true\n",
       "</div>"
      ]
     },
     "metadata": {
      "application/vnd.databricks.v1+output": {
       "addedWidgets": {},
       "arguments": {},
       "data": "<div class=\"ansiout\">res1: Boolean = true\n</div>",
       "datasetInfos": [],
       "metadata": {
        "isDbfsCommandResult": false
       },
       "removedWidgets": [],
       "type": "html"
      }
     },
     "output_type": "display_data"
    }
   ],
   "source": [
    "%fs\n",
    "rm -r dbfs:/user/hive/warehouse/round_16_teams"
   ]
  },
  {
   "cell_type": "code",
   "execution_count": 0,
   "metadata": {
    "application/vnd.databricks.v1+cell": {
     "cellMetadata": {
      "byteLimit": 2048000,
      "rowLimit": 10000
     },
     "inputWidgets": {},
     "nuid": "d81d8aa5-7f5f-41f2-8e7a-499b367a7236",
     "showTitle": false,
     "title": ""
    }
   },
   "outputs": [
    {
     "output_type": "display_data",
     "data": {
      "text/html": [
       "<style scoped>\n",
       "  .ansiout {\n",
       "    display: block;\n",
       "    unicode-bidi: embed;\n",
       "    white-space: pre-wrap;\n",
       "    word-wrap: break-word;\n",
       "    word-break: break-all;\n",
       "    font-family: \"Menlo\", \"Monaco\", \"Consolas\", \"Ubuntu Mono\", \"Source Code Pro\", monospace;\n",
       "    font-size: 13px;\n",
       "    color: #555;\n",
       "    margin-left: 4px;\n",
       "    line-height: 19px;\n",
       "  }\n",
       "</style>\n",
       "<div class=\"ansiout\">res2: Boolean = true\n",
       "</div>"
      ]
     },
     "metadata": {
      "application/vnd.databricks.v1+output": {
       "addedWidgets": {},
       "arguments": {},
       "data": "<div class=\"ansiout\">res2: Boolean = true\n</div>",
       "datasetInfos": [],
       "metadata": {
        "isDbfsCommandResult": false
       },
       "removedWidgets": [],
       "type": "html"
      }
     },
     "output_type": "display_data"
    }
   ],
   "source": [
    "%fs\n",
    "rm -r dbfs:/user/hive/warehouse/round_16_matches"
   ]
  },
  {
   "cell_type": "code",
   "execution_count": 0,
   "metadata": {
    "application/vnd.databricks.v1+cell": {
     "cellMetadata": {
      "byteLimit": 2048000,
      "rowLimit": 10000
     },
     "inputWidgets": {},
     "nuid": "bd9171ed-f398-4ddb-9f73-4455be0754c6",
     "showTitle": false,
     "title": ""
    }
   },
   "outputs": [
    {
     "output_type": "display_data",
     "data": {
      "text/html": [
       "\n",
       "            <div>\n",
       "                <p><b>SparkSession - hive</b></p>\n",
       "                \n",
       "        <div>\n",
       "            <p><b>SparkContext</b></p>\n",
       "\n",
       "            <p><a href=\"/?o=2085830725623723#setting/sparkui/0304-044541-i4uw4c4o/driver-2740176382596134670\">Spark UI</a></p>\n",
       "\n",
       "            <dl>\n",
       "              <dt>Version</dt>\n",
       "                <dd><code>v3.3.2</code></dd>\n",
       "              <dt>Master</dt>\n",
       "                <dd><code>local[8]</code></dd>\n",
       "              <dt>AppName</dt>\n",
       "                <dd><code>Databricks Shell</code></dd>\n",
       "            </dl>\n",
       "        </div>\n",
       "        \n",
       "            </div>\n",
       "        "
      ]
     },
     "metadata": {
      "application/vnd.databricks.v1+output": {
       "addedWidgets": {},
       "arguments": {},
       "data": "\n            <div>\n                <p><b>SparkSession - hive</b></p>\n                \n        <div>\n            <p><b>SparkContext</b></p>\n\n            <p><a href=\"/?o=2085830725623723#setting/sparkui/0304-044541-i4uw4c4o/driver-2740176382596134670\">Spark UI</a></p>\n\n            <dl>\n              <dt>Version</dt>\n                <dd><code>v3.3.2</code></dd>\n              <dt>Master</dt>\n                <dd><code>local[8]</code></dd>\n              <dt>AppName</dt>\n                <dd><code>Databricks Shell</code></dd>\n            </dl>\n        </div>\n        \n            </div>\n        ",
       "datasetInfos": [],
       "metadata": {},
       "removedWidgets": [],
       "textData": null,
       "type": "htmlSandbox"
      }
     },
     "output_type": "display_data"
    }
   ],
   "source": [
    "from pyspark.sql.functions import rand,when,row_number\n",
    "from pyspark.sql import SparkSession\n",
    "from pyspark.sql.window import Window\n",
    "\n",
    "spark = SparkSession.builder \\\n",
    "    .appName(\"Euro_2024\") \\\n",
    "    .getOrCreate()\n",
    "spark"
   ]
  },
  {
   "cell_type": "code",
   "execution_count": 0,
   "metadata": {
    "application/vnd.databricks.v1+cell": {
     "cellMetadata": {
      "byteLimit": 2048000,
      "rowLimit": 10000
     },
     "inputWidgets": {},
     "nuid": "a5741cc4-e74a-4ad9-9c8e-74e5bf9c9d0d",
     "showTitle": false,
     "title": ""
    }
   },
   "outputs": [],
   "source": [
    "\n",
    "teams_all = [\n",
    "        # Group A\n",
    "    (1, \"Germany\", \"A\"),\n",
    "    (2, \"Hungary\", \"A\"),\n",
    "    (3, \"Scotland\", \"A\"),\n",
    "    (4, \"Switzerland\", \"A\"),\n",
    "\n",
    "    # Group B\n",
    "    (5, \"Albania\", \"B\"),\n",
    "    (6, \"Croatia\", \"B\"),\n",
    "    (7, \"Italy\", \"B\"),\n",
    "    (8, \"Spain\", \"B\"),\n",
    "\n",
    "    # Group C\n",
    "    (9, \"Denmark\", \"C\"),\n",
    "    (10, \"England\", \"C\"),\n",
    "    (11, \"Slovenia\", \"C\"),\n",
    "    (12, \"Serbia\", \"C\"),\n",
    "\n",
    "    # Group D\n",
    "    (13, \"Austria\", \"D\"),\n",
    "    (14, \"France\", \"D\"),\n",
    "    (15, \"Netherlands\", \"D\"),\n",
    "    (16, \"Playoff Winner 1\", \"D\"),\n",
    "\n",
    "    # Group E\n",
    "    (17, \"Belgium\", \"E\"),\n",
    "    (18, \"Romania\", \"E\"),\n",
    "    (19, \"Slovakia\", \"E\"),\n",
    "    (20, \"Playoff Winner 2\", \"E\"),\n",
    "\n",
    "    # Group F\n",
    "    (21, \"Czech Republic\", \"F\"),\n",
    "    (22, \"Portugal\", \"F\"),\n",
    "    (23, \"Turkey\", \"F\"),\n",
    "    (24, \"Playoff Winner 3\", \"F\")\n",
    "]\n",
    "\n",
    "    "
   ]
  },
  {
   "cell_type": "code",
   "execution_count": 0,
   "metadata": {
    "application/vnd.databricks.v1+cell": {
     "cellMetadata": {
      "byteLimit": 2048000,
      "rowLimit": 10000
     },
     "inputWidgets": {},
     "nuid": "260adaff-6243-43ae-b4c0-a0e46511b604",
     "showTitle": false,
     "title": ""
    }
   },
   "outputs": [],
   "source": [
    "teams_columns = [\"TeamID\", \"TeamName\", \"TeamGroup\"]\n",
    "teams_df = spark.createDataFrame(teams_all, teams_columns)\n",
    "teams_df.createOrReplaceTempView(\"teams\")"
   ]
  },
  {
   "cell_type": "code",
   "execution_count": 0,
   "metadata": {
    "application/vnd.databricks.v1+cell": {
     "cellMetadata": {
      "byteLimit": 2048000,
      "rowLimit": 10000
     },
     "inputWidgets": {},
     "nuid": "f11d2dff-4276-49d9-9f39-5b37ad6dd93c",
     "showTitle": false,
     "title": ""
    }
   },
   "outputs": [
    {
     "output_type": "display_data",
     "data": {
      "text/html": [
       "<style scoped>\n",
       "  .table-result-container {\n",
       "    max-height: 300px;\n",
       "    overflow: auto;\n",
       "  }\n",
       "  table, th, td {\n",
       "    border: 1px solid black;\n",
       "    border-collapse: collapse;\n",
       "  }\n",
       "  th, td {\n",
       "    padding: 5px;\n",
       "  }\n",
       "  th {\n",
       "    text-align: left;\n",
       "  }\n",
       "</style><div class='table-result-container'><table class='table-result'><thead style='background-color: white'><tr><th>TeamID</th><th>TeamName</th><th>TeamGroup</th></tr></thead><tbody><tr><td>1</td><td>Germany</td><td>A</td></tr><tr><td>2</td><td>Hungary</td><td>A</td></tr><tr><td>3</td><td>Scotland</td><td>A</td></tr><tr><td>4</td><td>Switzerland</td><td>A</td></tr><tr><td>5</td><td>Albania</td><td>B</td></tr><tr><td>6</td><td>Croatia</td><td>B</td></tr><tr><td>7</td><td>Italy</td><td>B</td></tr><tr><td>8</td><td>Spain</td><td>B</td></tr><tr><td>9</td><td>Denmark</td><td>C</td></tr><tr><td>10</td><td>England</td><td>C</td></tr><tr><td>11</td><td>Slovenia</td><td>C</td></tr><tr><td>12</td><td>Serbia</td><td>C</td></tr><tr><td>13</td><td>Austria</td><td>D</td></tr><tr><td>14</td><td>France</td><td>D</td></tr><tr><td>15</td><td>Netherlands</td><td>D</td></tr><tr><td>16</td><td>Playoff Winner 1</td><td>D</td></tr><tr><td>17</td><td>Belgium</td><td>E</td></tr><tr><td>18</td><td>Romania</td><td>E</td></tr><tr><td>19</td><td>Slovakia</td><td>E</td></tr><tr><td>20</td><td>Playoff Winner 2</td><td>E</td></tr><tr><td>21</td><td>Czech Republic</td><td>F</td></tr><tr><td>22</td><td>Portugal</td><td>F</td></tr><tr><td>23</td><td>Turkey</td><td>F</td></tr><tr><td>24</td><td>Playoff Winner 3</td><td>F</td></tr></tbody></table></div>"
      ]
     },
     "metadata": {
      "application/vnd.databricks.v1+output": {
       "addedWidgets": {},
       "aggData": [],
       "aggError": "",
       "aggOverflow": false,
       "aggSchema": [],
       "aggSeriesLimitReached": false,
       "aggType": "",
       "arguments": {},
       "columnCustomDisplayInfos": {},
       "data": [
        [
         1,
         "Germany",
         "A"
        ],
        [
         2,
         "Hungary",
         "A"
        ],
        [
         3,
         "Scotland",
         "A"
        ],
        [
         4,
         "Switzerland",
         "A"
        ],
        [
         5,
         "Albania",
         "B"
        ],
        [
         6,
         "Croatia",
         "B"
        ],
        [
         7,
         "Italy",
         "B"
        ],
        [
         8,
         "Spain",
         "B"
        ],
        [
         9,
         "Denmark",
         "C"
        ],
        [
         10,
         "England",
         "C"
        ],
        [
         11,
         "Slovenia",
         "C"
        ],
        [
         12,
         "Serbia",
         "C"
        ],
        [
         13,
         "Austria",
         "D"
        ],
        [
         14,
         "France",
         "D"
        ],
        [
         15,
         "Netherlands",
         "D"
        ],
        [
         16,
         "Playoff Winner 1",
         "D"
        ],
        [
         17,
         "Belgium",
         "E"
        ],
        [
         18,
         "Romania",
         "E"
        ],
        [
         19,
         "Slovakia",
         "E"
        ],
        [
         20,
         "Playoff Winner 2",
         "E"
        ],
        [
         21,
         "Czech Republic",
         "F"
        ],
        [
         22,
         "Portugal",
         "F"
        ],
        [
         23,
         "Turkey",
         "F"
        ],
        [
         24,
         "Playoff Winner 3",
         "F"
        ]
       ],
       "datasetInfos": [],
       "dbfsResultPath": null,
       "isJsonSchema": true,
       "metadata": {},
       "overflow": false,
       "plotOptions": {
        "customPlotOptions": {},
        "displayType": "table",
        "pivotAggregation": null,
        "pivotColumns": null,
        "xColumns": null,
        "yColumns": null
       },
       "removedWidgets": [],
       "schema": [
        {
         "metadata": "{}",
         "name": "TeamID",
         "type": "\"long\""
        },
        {
         "metadata": "{}",
         "name": "TeamName",
         "type": "\"string\""
        },
        {
         "metadata": "{}",
         "name": "TeamGroup",
         "type": "\"string\""
        }
       ],
       "type": "table"
      }
     },
     "output_type": "display_data"
    }
   ],
   "source": [
    "display(spark.sql(\"SELECT * FROM teams\"))"
   ]
  },
  {
   "cell_type": "code",
   "execution_count": 0,
   "metadata": {
    "application/vnd.databricks.v1+cell": {
     "cellMetadata": {
      "byteLimit": 2048000,
      "rowLimit": 10000
     },
     "inputWidgets": {},
     "nuid": "39e14c53-0950-4d0c-907d-172691032fb0",
     "showTitle": false,
     "title": ""
    }
   },
   "outputs": [
    {
     "output_type": "display_data",
     "data": {
      "text/html": [
       "<style scoped>\n",
       "  .table-result-container {\n",
       "    max-height: 300px;\n",
       "    overflow: auto;\n",
       "  }\n",
       "  table, th, td {\n",
       "    border: 1px solid black;\n",
       "    border-collapse: collapse;\n",
       "  }\n",
       "  th, td {\n",
       "    padding: 5px;\n",
       "  }\n",
       "  th {\n",
       "    text-align: left;\n",
       "  }\n",
       "</style><div class='table-result-container'><table class='table-result'><thead style='background-color: white'><tr><th>Team_X</th><th>Team_Y</th><th>Team_X_Group</th><th>Team_Y_Group</th></tr></thead><tbody><tr><td>Germany</td><td>Hungary</td><td>A</td><td>A</td></tr><tr><td>Germany</td><td>Scotland</td><td>A</td><td>A</td></tr><tr><td>Germany</td><td>Switzerland</td><td>A</td><td>A</td></tr><tr><td>Hungary</td><td>Scotland</td><td>A</td><td>A</td></tr><tr><td>Hungary</td><td>Switzerland</td><td>A</td><td>A</td></tr><tr><td>Scotland</td><td>Switzerland</td><td>A</td><td>A</td></tr><tr><td>Albania</td><td>Croatia</td><td>B</td><td>B</td></tr><tr><td>Albania</td><td>Italy</td><td>B</td><td>B</td></tr><tr><td>Albania</td><td>Spain</td><td>B</td><td>B</td></tr><tr><td>Croatia</td><td>Italy</td><td>B</td><td>B</td></tr><tr><td>Croatia</td><td>Spain</td><td>B</td><td>B</td></tr><tr><td>Italy</td><td>Spain</td><td>B</td><td>B</td></tr><tr><td>Denmark</td><td>England</td><td>C</td><td>C</td></tr><tr><td>Denmark</td><td>Slovenia</td><td>C</td><td>C</td></tr><tr><td>Denmark</td><td>Serbia</td><td>C</td><td>C</td></tr><tr><td>England</td><td>Slovenia</td><td>C</td><td>C</td></tr><tr><td>England</td><td>Serbia</td><td>C</td><td>C</td></tr><tr><td>Slovenia</td><td>Serbia</td><td>C</td><td>C</td></tr><tr><td>Austria</td><td>France</td><td>D</td><td>D</td></tr><tr><td>Austria</td><td>Netherlands</td><td>D</td><td>D</td></tr><tr><td>Austria</td><td>Playoff Winner 1</td><td>D</td><td>D</td></tr><tr><td>France</td><td>Netherlands</td><td>D</td><td>D</td></tr><tr><td>France</td><td>Playoff Winner 1</td><td>D</td><td>D</td></tr><tr><td>Netherlands</td><td>Playoff Winner 1</td><td>D</td><td>D</td></tr><tr><td>Belgium</td><td>Romania</td><td>E</td><td>E</td></tr><tr><td>Belgium</td><td>Slovakia</td><td>E</td><td>E</td></tr><tr><td>Belgium</td><td>Playoff Winner 2</td><td>E</td><td>E</td></tr><tr><td>Romania</td><td>Slovakia</td><td>E</td><td>E</td></tr><tr><td>Romania</td><td>Playoff Winner 2</td><td>E</td><td>E</td></tr><tr><td>Slovakia</td><td>Playoff Winner 2</td><td>E</td><td>E</td></tr><tr><td>Czech Republic</td><td>Portugal</td><td>F</td><td>F</td></tr><tr><td>Czech Republic</td><td>Turkey</td><td>F</td><td>F</td></tr><tr><td>Czech Republic</td><td>Playoff Winner 3</td><td>F</td><td>F</td></tr><tr><td>Portugal</td><td>Turkey</td><td>F</td><td>F</td></tr><tr><td>Portugal</td><td>Playoff Winner 3</td><td>F</td><td>F</td></tr><tr><td>Turkey</td><td>Playoff Winner 3</td><td>F</td><td>F</td></tr></tbody></table></div>"
      ]
     },
     "metadata": {
      "application/vnd.databricks.v1+output": {
       "addedWidgets": {},
       "aggData": [],
       "aggError": "",
       "aggOverflow": false,
       "aggSchema": [],
       "aggSeriesLimitReached": false,
       "aggType": "",
       "arguments": {},
       "columnCustomDisplayInfos": {},
       "data": [
        [
         "Germany",
         "Hungary",
         "A",
         "A"
        ],
        [
         "Germany",
         "Scotland",
         "A",
         "A"
        ],
        [
         "Germany",
         "Switzerland",
         "A",
         "A"
        ],
        [
         "Hungary",
         "Scotland",
         "A",
         "A"
        ],
        [
         "Hungary",
         "Switzerland",
         "A",
         "A"
        ],
        [
         "Scotland",
         "Switzerland",
         "A",
         "A"
        ],
        [
         "Albania",
         "Croatia",
         "B",
         "B"
        ],
        [
         "Albania",
         "Italy",
         "B",
         "B"
        ],
        [
         "Albania",
         "Spain",
         "B",
         "B"
        ],
        [
         "Croatia",
         "Italy",
         "B",
         "B"
        ],
        [
         "Croatia",
         "Spain",
         "B",
         "B"
        ],
        [
         "Italy",
         "Spain",
         "B",
         "B"
        ],
        [
         "Denmark",
         "England",
         "C",
         "C"
        ],
        [
         "Denmark",
         "Slovenia",
         "C",
         "C"
        ],
        [
         "Denmark",
         "Serbia",
         "C",
         "C"
        ],
        [
         "England",
         "Slovenia",
         "C",
         "C"
        ],
        [
         "England",
         "Serbia",
         "C",
         "C"
        ],
        [
         "Slovenia",
         "Serbia",
         "C",
         "C"
        ],
        [
         "Austria",
         "France",
         "D",
         "D"
        ],
        [
         "Austria",
         "Netherlands",
         "D",
         "D"
        ],
        [
         "Austria",
         "Playoff Winner 1",
         "D",
         "D"
        ],
        [
         "France",
         "Netherlands",
         "D",
         "D"
        ],
        [
         "France",
         "Playoff Winner 1",
         "D",
         "D"
        ],
        [
         "Netherlands",
         "Playoff Winner 1",
         "D",
         "D"
        ],
        [
         "Belgium",
         "Romania",
         "E",
         "E"
        ],
        [
         "Belgium",
         "Slovakia",
         "E",
         "E"
        ],
        [
         "Belgium",
         "Playoff Winner 2",
         "E",
         "E"
        ],
        [
         "Romania",
         "Slovakia",
         "E",
         "E"
        ],
        [
         "Romania",
         "Playoff Winner 2",
         "E",
         "E"
        ],
        [
         "Slovakia",
         "Playoff Winner 2",
         "E",
         "E"
        ],
        [
         "Czech Republic",
         "Portugal",
         "F",
         "F"
        ],
        [
         "Czech Republic",
         "Turkey",
         "F",
         "F"
        ],
        [
         "Czech Republic",
         "Playoff Winner 3",
         "F",
         "F"
        ],
        [
         "Portugal",
         "Turkey",
         "F",
         "F"
        ],
        [
         "Portugal",
         "Playoff Winner 3",
         "F",
         "F"
        ],
        [
         "Turkey",
         "Playoff Winner 3",
         "F",
         "F"
        ]
       ],
       "datasetInfos": [],
       "dbfsResultPath": null,
       "isJsonSchema": true,
       "metadata": {},
       "overflow": false,
       "plotOptions": {
        "customPlotOptions": {},
        "displayType": "table",
        "pivotAggregation": null,
        "pivotColumns": null,
        "xColumns": null,
        "yColumns": null
       },
       "removedWidgets": [],
       "schema": [
        {
         "metadata": "{}",
         "name": "Team_X",
         "type": "\"string\""
        },
        {
         "metadata": "{}",
         "name": "Team_Y",
         "type": "\"string\""
        },
        {
         "metadata": "{}",
         "name": "Team_X_Group",
         "type": "\"string\""
        },
        {
         "metadata": "{}",
         "name": "Team_Y_Group",
         "type": "\"string\""
        }
       ],
       "type": "table"
      }
     },
     "output_type": "display_data"
    }
   ],
   "source": [
    "gs_matches_df = spark.sql(\"\"\"\n",
    "    SELECT  t1.TeamName AS Team_X, t2.TeamName AS Team_Y, t1.TeamGroup AS Team_X_Group, t2.TeamGroup AS Team_Y_Group\n",
    "    FROM teams t1\n",
    "    JOIN teams t2 ON t1.TeamGroup = t2.TeamGroup AND t1.TeamID < t2.TeamID  /*(TeamA, TeamB) != (TeamB, TeamA)*/\n",
    "    \"\"\")\n",
    "display(gs_matches_df)"
   ]
  },
  {
   "cell_type": "code",
   "execution_count": 0,
   "metadata": {
    "application/vnd.databricks.v1+cell": {
     "cellMetadata": {
      "byteLimit": 2048000,
      "rowLimit": 10000
     },
     "inputWidgets": {},
     "nuid": "897ecb72-4c18-482c-bdc3-6cbc13a23055",
     "showTitle": false,
     "title": ""
    }
   },
   "outputs": [],
   "source": [
    "gs_matches_df = gs_matches_df.withColumn(\"X_TeamGoals\", (rand() * 6).cast(\"int\")) \n",
    "gs_matches_df = gs_matches_df.withColumn(\"Y_TeamGoals\", (rand() * 6).cast(\"int\")) \n",
    "\n",
    "\n",
    "gs_matches_df.createOrReplaceTempView(\"group_stage_goals\")"
   ]
  },
  {
   "cell_type": "code",
   "execution_count": 0,
   "metadata": {
    "application/vnd.databricks.v1+cell": {
     "cellMetadata": {
      "byteLimit": 2048000,
      "rowLimit": 10000
     },
     "inputWidgets": {},
     "nuid": "79fb6332-678e-4c19-af1a-5d5acca2fe3e",
     "showTitle": false,
     "title": ""
    }
   },
   "outputs": [
    {
     "output_type": "display_data",
     "data": {
      "text/html": [
       "<style scoped>\n",
       "  .table-result-container {\n",
       "    max-height: 300px;\n",
       "    overflow: auto;\n",
       "  }\n",
       "  table, th, td {\n",
       "    border: 1px solid black;\n",
       "    border-collapse: collapse;\n",
       "  }\n",
       "  th, td {\n",
       "    padding: 5px;\n",
       "  }\n",
       "  th {\n",
       "    text-align: left;\n",
       "  }\n",
       "</style><div class='table-result-container'><table class='table-result'><thead style='background-color: white'><tr><th>Team_X</th><th>Team_Y</th><th>Team_X_Group</th><th>Team_Y_Group</th><th>X_TeamGoals</th><th>Y_TeamGoals</th></tr></thead><tbody><tr><td>Germany</td><td>Hungary</td><td>A</td><td>A</td><td>5</td><td>3</td></tr><tr><td>Germany</td><td>Scotland</td><td>A</td><td>A</td><td>3</td><td>5</td></tr><tr><td>Germany</td><td>Switzerland</td><td>A</td><td>A</td><td>1</td><td>5</td></tr><tr><td>Hungary</td><td>Scotland</td><td>A</td><td>A</td><td>4</td><td>2</td></tr><tr><td>Hungary</td><td>Switzerland</td><td>A</td><td>A</td><td>2</td><td>4</td></tr><tr><td>Scotland</td><td>Switzerland</td><td>A</td><td>A</td><td>1</td><td>1</td></tr><tr><td>Albania</td><td>Croatia</td><td>B</td><td>B</td><td>4</td><td>1</td></tr><tr><td>Albania</td><td>Italy</td><td>B</td><td>B</td><td>0</td><td>2</td></tr><tr><td>Albania</td><td>Spain</td><td>B</td><td>B</td><td>5</td><td>1</td></tr><tr><td>Croatia</td><td>Italy</td><td>B</td><td>B</td><td>0</td><td>5</td></tr><tr><td>Croatia</td><td>Spain</td><td>B</td><td>B</td><td>0</td><td>3</td></tr><tr><td>Italy</td><td>Spain</td><td>B</td><td>B</td><td>5</td><td>5</td></tr><tr><td>Denmark</td><td>England</td><td>C</td><td>C</td><td>1</td><td>3</td></tr><tr><td>Denmark</td><td>Slovenia</td><td>C</td><td>C</td><td>5</td><td>5</td></tr><tr><td>Denmark</td><td>Serbia</td><td>C</td><td>C</td><td>3</td><td>5</td></tr><tr><td>England</td><td>Slovenia</td><td>C</td><td>C</td><td>5</td><td>3</td></tr><tr><td>England</td><td>Serbia</td><td>C</td><td>C</td><td>5</td><td>1</td></tr><tr><td>Slovenia</td><td>Serbia</td><td>C</td><td>C</td><td>3</td><td>3</td></tr><tr><td>Austria</td><td>France</td><td>D</td><td>D</td><td>4</td><td>4</td></tr><tr><td>Austria</td><td>Netherlands</td><td>D</td><td>D</td><td>2</td><td>3</td></tr><tr><td>Austria</td><td>Playoff Winner 1</td><td>D</td><td>D</td><td>0</td><td>2</td></tr><tr><td>France</td><td>Netherlands</td><td>D</td><td>D</td><td>1</td><td>2</td></tr><tr><td>France</td><td>Playoff Winner 1</td><td>D</td><td>D</td><td>2</td><td>5</td></tr><tr><td>Netherlands</td><td>Playoff Winner 1</td><td>D</td><td>D</td><td>2</td><td>5</td></tr><tr><td>Belgium</td><td>Romania</td><td>E</td><td>E</td><td>0</td><td>4</td></tr><tr><td>Belgium</td><td>Slovakia</td><td>E</td><td>E</td><td>5</td><td>3</td></tr><tr><td>Belgium</td><td>Playoff Winner 2</td><td>E</td><td>E</td><td>2</td><td>0</td></tr><tr><td>Romania</td><td>Slovakia</td><td>E</td><td>E</td><td>5</td><td>3</td></tr><tr><td>Romania</td><td>Playoff Winner 2</td><td>E</td><td>E</td><td>4</td><td>4</td></tr><tr><td>Slovakia</td><td>Playoff Winner 2</td><td>E</td><td>E</td><td>1</td><td>5</td></tr><tr><td>Czech Republic</td><td>Portugal</td><td>F</td><td>F</td><td>3</td><td>0</td></tr><tr><td>Czech Republic</td><td>Turkey</td><td>F</td><td>F</td><td>3</td><td>2</td></tr><tr><td>Czech Republic</td><td>Playoff Winner 3</td><td>F</td><td>F</td><td>3</td><td>5</td></tr><tr><td>Portugal</td><td>Turkey</td><td>F</td><td>F</td><td>1</td><td>1</td></tr><tr><td>Portugal</td><td>Playoff Winner 3</td><td>F</td><td>F</td><td>0</td><td>4</td></tr><tr><td>Turkey</td><td>Playoff Winner 3</td><td>F</td><td>F</td><td>1</td><td>1</td></tr></tbody></table></div>"
      ]
     },
     "metadata": {
      "application/vnd.databricks.v1+output": {
       "addedWidgets": {},
       "aggData": [],
       "aggError": "",
       "aggOverflow": false,
       "aggSchema": [],
       "aggSeriesLimitReached": false,
       "aggType": "",
       "arguments": {},
       "columnCustomDisplayInfos": {},
       "data": [
        [
         "Germany",
         "Hungary",
         "A",
         "A",
         5,
         3
        ],
        [
         "Germany",
         "Scotland",
         "A",
         "A",
         3,
         5
        ],
        [
         "Germany",
         "Switzerland",
         "A",
         "A",
         1,
         5
        ],
        [
         "Hungary",
         "Scotland",
         "A",
         "A",
         4,
         2
        ],
        [
         "Hungary",
         "Switzerland",
         "A",
         "A",
         2,
         4
        ],
        [
         "Scotland",
         "Switzerland",
         "A",
         "A",
         1,
         1
        ],
        [
         "Albania",
         "Croatia",
         "B",
         "B",
         4,
         1
        ],
        [
         "Albania",
         "Italy",
         "B",
         "B",
         0,
         2
        ],
        [
         "Albania",
         "Spain",
         "B",
         "B",
         5,
         1
        ],
        [
         "Croatia",
         "Italy",
         "B",
         "B",
         0,
         5
        ],
        [
         "Croatia",
         "Spain",
         "B",
         "B",
         0,
         3
        ],
        [
         "Italy",
         "Spain",
         "B",
         "B",
         5,
         5
        ],
        [
         "Denmark",
         "England",
         "C",
         "C",
         1,
         3
        ],
        [
         "Denmark",
         "Slovenia",
         "C",
         "C",
         5,
         5
        ],
        [
         "Denmark",
         "Serbia",
         "C",
         "C",
         3,
         5
        ],
        [
         "England",
         "Slovenia",
         "C",
         "C",
         5,
         3
        ],
        [
         "England",
         "Serbia",
         "C",
         "C",
         5,
         1
        ],
        [
         "Slovenia",
         "Serbia",
         "C",
         "C",
         3,
         3
        ],
        [
         "Austria",
         "France",
         "D",
         "D",
         4,
         4
        ],
        [
         "Austria",
         "Netherlands",
         "D",
         "D",
         2,
         3
        ],
        [
         "Austria",
         "Playoff Winner 1",
         "D",
         "D",
         0,
         2
        ],
        [
         "France",
         "Netherlands",
         "D",
         "D",
         1,
         2
        ],
        [
         "France",
         "Playoff Winner 1",
         "D",
         "D",
         2,
         5
        ],
        [
         "Netherlands",
         "Playoff Winner 1",
         "D",
         "D",
         2,
         5
        ],
        [
         "Belgium",
         "Romania",
         "E",
         "E",
         0,
         4
        ],
        [
         "Belgium",
         "Slovakia",
         "E",
         "E",
         5,
         3
        ],
        [
         "Belgium",
         "Playoff Winner 2",
         "E",
         "E",
         2,
         0
        ],
        [
         "Romania",
         "Slovakia",
         "E",
         "E",
         5,
         3
        ],
        [
         "Romania",
         "Playoff Winner 2",
         "E",
         "E",
         4,
         4
        ],
        [
         "Slovakia",
         "Playoff Winner 2",
         "E",
         "E",
         1,
         5
        ],
        [
         "Czech Republic",
         "Portugal",
         "F",
         "F",
         3,
         0
        ],
        [
         "Czech Republic",
         "Turkey",
         "F",
         "F",
         3,
         2
        ],
        [
         "Czech Republic",
         "Playoff Winner 3",
         "F",
         "F",
         3,
         5
        ],
        [
         "Portugal",
         "Turkey",
         "F",
         "F",
         1,
         1
        ],
        [
         "Portugal",
         "Playoff Winner 3",
         "F",
         "F",
         0,
         4
        ],
        [
         "Turkey",
         "Playoff Winner 3",
         "F",
         "F",
         1,
         1
        ]
       ],
       "datasetInfos": [],
       "dbfsResultPath": null,
       "isJsonSchema": true,
       "metadata": {},
       "overflow": false,
       "plotOptions": {
        "customPlotOptions": {},
        "displayType": "table",
        "pivotAggregation": null,
        "pivotColumns": null,
        "xColumns": null,
        "yColumns": null
       },
       "removedWidgets": [],
       "schema": [
        {
         "metadata": "{}",
         "name": "Team_X",
         "type": "\"string\""
        },
        {
         "metadata": "{}",
         "name": "Team_Y",
         "type": "\"string\""
        },
        {
         "metadata": "{}",
         "name": "Team_X_Group",
         "type": "\"string\""
        },
        {
         "metadata": "{}",
         "name": "Team_Y_Group",
         "type": "\"string\""
        },
        {
         "metadata": "{}",
         "name": "X_TeamGoals",
         "type": "\"integer\""
        },
        {
         "metadata": "{}",
         "name": "Y_TeamGoals",
         "type": "\"integer\""
        }
       ],
       "type": "table"
      }
     },
     "output_type": "display_data"
    }
   ],
   "source": [
    "display(gs_matches_df)"
   ]
  },
  {
   "cell_type": "code",
   "execution_count": 0,
   "metadata": {
    "application/vnd.databricks.v1+cell": {
     "cellMetadata": {
      "byteLimit": 2048000,
      "rowLimit": 10000
     },
     "inputWidgets": {},
     "nuid": "5a9ef06e-9a23-45aa-bfb5-9ce7896adaeb",
     "showTitle": false,
     "title": ""
    }
   },
   "outputs": [],
   "source": [
    "# Calculate additional match statistics\n",
    "gs_match_stats_df = spark.sql(\"\"\"\n",
    "    SELECT \n",
    "        TeamName AS Team,\n",
    "        TeamGroup,\n",
    "        COUNT(*) AS Pld,\n",
    "        SUM(CASE WHEN X_TeamGoals = Y_TeamGoals THEN 1 ELSE 0 END) AS D,\n",
    "        SUM(CASE WHEN X_TeamGoals > Y_TeamGoals THEN 1 ELSE 0 END) AS W,\n",
    "        SUM(CASE WHEN X_TeamGoals < Y_TeamGoals THEN 1 ELSE 0 END) AS L,\n",
    "        SUM(X_TeamGoals) AS GF,\n",
    "        SUM(Y_TeamGoals) AS GA,\n",
    "        SUM(X_TeamGoals) - SUM(Y_TeamGoals) AS GD,\n",
    "        SUM(\n",
    "            CASE \n",
    "                WHEN X_TeamGoals > Y_TeamGoals THEN 3\n",
    "                WHEN X_TeamGoals = Y_TeamGoals THEN 1\n",
    "                ELSE 0 \n",
    "            END\n",
    "        ) AS Pts\n",
    "      \n",
    "    FROM (\n",
    "        SELECT Team_X AS TeamName, X_TeamGoals, Y_TeamGoals, Team_X_Group AS TeamGroup FROM group_stage_goals\n",
    "        UNION ALL\n",
    "        SELECT Team_Y AS TeamName, Y_TeamGoals, X_TeamGoals, Team_Y_Group AS TeamGroup FROM group_stage_goals\n",
    "    )\n",
    "    GROUP BY TeamName, TeamGroup\n",
    "    ORDER BY Pts DESC, GD DESC\n",
    "    \"\"\")"
   ]
  },
  {
   "cell_type": "code",
   "execution_count": 0,
   "metadata": {
    "application/vnd.databricks.v1+cell": {
     "cellMetadata": {
      "byteLimit": 2048000,
      "rowLimit": 10000
     },
     "inputWidgets": {},
     "nuid": "086d3ee9-66eb-4a55-af1a-b22f8c049386",
     "showTitle": false,
     "title": ""
    }
   },
   "outputs": [
    {
     "output_type": "display_data",
     "data": {
      "text/html": [
       "<style scoped>\n",
       "  .table-result-container {\n",
       "    max-height: 300px;\n",
       "    overflow: auto;\n",
       "  }\n",
       "  table, th, td {\n",
       "    border: 1px solid black;\n",
       "    border-collapse: collapse;\n",
       "  }\n",
       "  th, td {\n",
       "    padding: 5px;\n",
       "  }\n",
       "  th {\n",
       "    text-align: left;\n",
       "  }\n",
       "</style><div class='table-result-container'><table class='table-result'><thead style='background-color: white'><tr><th>Team</th><th>TeamGroup</th><th>Pld</th><th>D</th><th>W</th><th>L</th><th>GF</th><th>GA</th><th>GD</th><th>Pts</th></tr></thead><tbody><tr><td>England</td><td>C</td><td>3</td><td>0</td><td>3</td><td>0</td><td>13</td><td>5</td><td>8</td><td>9</td></tr><tr><td>Playoff Winner 1</td><td>D</td><td>3</td><td>0</td><td>3</td><td>0</td><td>12</td><td>4</td><td>8</td><td>9</td></tr><tr><td>Italy</td><td>B</td><td>3</td><td>1</td><td>2</td><td>0</td><td>12</td><td>5</td><td>7</td><td>7</td></tr><tr><td>Romania</td><td>E</td><td>3</td><td>1</td><td>2</td><td>0</td><td>13</td><td>7</td><td>6</td><td>7</td></tr><tr><td>Switzerland</td><td>A</td><td>3</td><td>1</td><td>2</td><td>0</td><td>10</td><td>4</td><td>6</td><td>7</td></tr><tr><td>Playoff Winner 3</td><td>F</td><td>3</td><td>1</td><td>2</td><td>0</td><td>10</td><td>4</td><td>6</td><td>7</td></tr><tr><td>Albania</td><td>B</td><td>3</td><td>0</td><td>2</td><td>1</td><td>9</td><td>4</td><td>5</td><td>6</td></tr><tr><td>Czech Republic</td><td>F</td><td>3</td><td>0</td><td>2</td><td>1</td><td>9</td><td>7</td><td>2</td><td>6</td></tr><tr><td>Belgium</td><td>E</td><td>3</td><td>0</td><td>2</td><td>1</td><td>7</td><td>7</td><td>0</td><td>6</td></tr><tr><td>Netherlands</td><td>D</td><td>3</td><td>0</td><td>2</td><td>1</td><td>7</td><td>8</td><td>-1</td><td>6</td></tr><tr><td>Playoff Winner 2</td><td>E</td><td>3</td><td>1</td><td>1</td><td>1</td><td>9</td><td>7</td><td>2</td><td>4</td></tr><tr><td>Scotland</td><td>A</td><td>3</td><td>1</td><td>1</td><td>1</td><td>8</td><td>8</td><td>0</td><td>4</td></tr><tr><td>Spain</td><td>B</td><td>3</td><td>1</td><td>1</td><td>1</td><td>9</td><td>10</td><td>-1</td><td>4</td></tr><tr><td>Serbia</td><td>C</td><td>3</td><td>1</td><td>1</td><td>1</td><td>9</td><td>11</td><td>-2</td><td>4</td></tr><tr><td>Hungary</td><td>A</td><td>3</td><td>0</td><td>1</td><td>2</td><td>9</td><td>11</td><td>-2</td><td>3</td></tr><tr><td>Germany</td><td>A</td><td>3</td><td>0</td><td>1</td><td>2</td><td>9</td><td>13</td><td>-4</td><td>3</td></tr><tr><td>Turkey</td><td>F</td><td>3</td><td>2</td><td>0</td><td>1</td><td>4</td><td>5</td><td>-1</td><td>2</td></tr><tr><td>Slovenia</td><td>C</td><td>3</td><td>2</td><td>0</td><td>1</td><td>11</td><td>13</td><td>-2</td><td>2</td></tr><tr><td>Austria</td><td>D</td><td>3</td><td>1</td><td>0</td><td>2</td><td>6</td><td>9</td><td>-3</td><td>1</td></tr><tr><td>Denmark</td><td>C</td><td>3</td><td>1</td><td>0</td><td>2</td><td>9</td><td>13</td><td>-4</td><td>1</td></tr><tr><td>France</td><td>D</td><td>3</td><td>1</td><td>0</td><td>2</td><td>7</td><td>11</td><td>-4</td><td>1</td></tr><tr><td>Portugal</td><td>F</td><td>3</td><td>1</td><td>0</td><td>2</td><td>1</td><td>8</td><td>-7</td><td>1</td></tr><tr><td>Slovakia</td><td>E</td><td>3</td><td>0</td><td>0</td><td>3</td><td>7</td><td>15</td><td>-8</td><td>0</td></tr><tr><td>Croatia</td><td>B</td><td>3</td><td>0</td><td>0</td><td>3</td><td>1</td><td>12</td><td>-11</td><td>0</td></tr></tbody></table></div>"
      ]
     },
     "metadata": {
      "application/vnd.databricks.v1+output": {
       "addedWidgets": {},
       "aggData": [],
       "aggError": "",
       "aggOverflow": false,
       "aggSchema": [],
       "aggSeriesLimitReached": false,
       "aggType": "",
       "arguments": {},
       "columnCustomDisplayInfos": {},
       "data": [
        [
         "England",
         "C",
         3,
         0,
         3,
         0,
         13,
         5,
         8,
         9
        ],
        [
         "Playoff Winner 1",
         "D",
         3,
         0,
         3,
         0,
         12,
         4,
         8,
         9
        ],
        [
         "Italy",
         "B",
         3,
         1,
         2,
         0,
         12,
         5,
         7,
         7
        ],
        [
         "Romania",
         "E",
         3,
         1,
         2,
         0,
         13,
         7,
         6,
         7
        ],
        [
         "Switzerland",
         "A",
         3,
         1,
         2,
         0,
         10,
         4,
         6,
         7
        ],
        [
         "Playoff Winner 3",
         "F",
         3,
         1,
         2,
         0,
         10,
         4,
         6,
         7
        ],
        [
         "Albania",
         "B",
         3,
         0,
         2,
         1,
         9,
         4,
         5,
         6
        ],
        [
         "Czech Republic",
         "F",
         3,
         0,
         2,
         1,
         9,
         7,
         2,
         6
        ],
        [
         "Belgium",
         "E",
         3,
         0,
         2,
         1,
         7,
         7,
         0,
         6
        ],
        [
         "Netherlands",
         "D",
         3,
         0,
         2,
         1,
         7,
         8,
         -1,
         6
        ],
        [
         "Playoff Winner 2",
         "E",
         3,
         1,
         1,
         1,
         9,
         7,
         2,
         4
        ],
        [
         "Scotland",
         "A",
         3,
         1,
         1,
         1,
         8,
         8,
         0,
         4
        ],
        [
         "Spain",
         "B",
         3,
         1,
         1,
         1,
         9,
         10,
         -1,
         4
        ],
        [
         "Serbia",
         "C",
         3,
         1,
         1,
         1,
         9,
         11,
         -2,
         4
        ],
        [
         "Hungary",
         "A",
         3,
         0,
         1,
         2,
         9,
         11,
         -2,
         3
        ],
        [
         "Germany",
         "A",
         3,
         0,
         1,
         2,
         9,
         13,
         -4,
         3
        ],
        [
         "Turkey",
         "F",
         3,
         2,
         0,
         1,
         4,
         5,
         -1,
         2
        ],
        [
         "Slovenia",
         "C",
         3,
         2,
         0,
         1,
         11,
         13,
         -2,
         2
        ],
        [
         "Austria",
         "D",
         3,
         1,
         0,
         2,
         6,
         9,
         -3,
         1
        ],
        [
         "Denmark",
         "C",
         3,
         1,
         0,
         2,
         9,
         13,
         -4,
         1
        ],
        [
         "France",
         "D",
         3,
         1,
         0,
         2,
         7,
         11,
         -4,
         1
        ],
        [
         "Portugal",
         "F",
         3,
         1,
         0,
         2,
         1,
         8,
         -7,
         1
        ],
        [
         "Slovakia",
         "E",
         3,
         0,
         0,
         3,
         7,
         15,
         -8,
         0
        ],
        [
         "Croatia",
         "B",
         3,
         0,
         0,
         3,
         1,
         12,
         -11,
         0
        ]
       ],
       "datasetInfos": [],
       "dbfsResultPath": null,
       "isJsonSchema": true,
       "metadata": {},
       "overflow": false,
       "plotOptions": {
        "customPlotOptions": {},
        "displayType": "table",
        "pivotAggregation": null,
        "pivotColumns": null,
        "xColumns": null,
        "yColumns": null
       },
       "removedWidgets": [],
       "schema": [
        {
         "metadata": "{}",
         "name": "Team",
         "type": "\"string\""
        },
        {
         "metadata": "{}",
         "name": "TeamGroup",
         "type": "\"string\""
        },
        {
         "metadata": "{}",
         "name": "Pld",
         "type": "\"long\""
        },
        {
         "metadata": "{}",
         "name": "D",
         "type": "\"long\""
        },
        {
         "metadata": "{}",
         "name": "W",
         "type": "\"long\""
        },
        {
         "metadata": "{}",
         "name": "L",
         "type": "\"long\""
        },
        {
         "metadata": "{}",
         "name": "GF",
         "type": "\"long\""
        },
        {
         "metadata": "{}",
         "name": "GA",
         "type": "\"long\""
        },
        {
         "metadata": "{}",
         "name": "GD",
         "type": "\"long\""
        },
        {
         "metadata": "{}",
         "name": "Pts",
         "type": "\"long\""
        }
       ],
       "type": "table"
      }
     },
     "output_type": "display_data"
    }
   ],
   "source": [
    "display(gs_match_stats_df)"
   ]
  },
  {
   "cell_type": "code",
   "execution_count": 0,
   "metadata": {
    "application/vnd.databricks.v1+cell": {
     "cellMetadata": {
      "byteLimit": 2048000,
      "rowLimit": 10000
     },
     "inputWidgets": {},
     "nuid": "1dc49989-728a-4787-8a91-125825332b14",
     "showTitle": false,
     "title": ""
    }
   },
   "outputs": [
    {
     "output_type": "display_data",
     "data": {
      "text/html": [
       "<style scoped>\n",
       "  .table-result-container {\n",
       "    max-height: 300px;\n",
       "    overflow: auto;\n",
       "  }\n",
       "  table, th, td {\n",
       "    border: 1px solid black;\n",
       "    border-collapse: collapse;\n",
       "  }\n",
       "  th, td {\n",
       "    padding: 5px;\n",
       "  }\n",
       "  th {\n",
       "    text-align: left;\n",
       "  }\n",
       "</style><div class='table-result-container'><table class='table-result'><thead style='background-color: white'><tr><th>Team</th><th>TeamGroup</th><th>Pld</th><th>D</th><th>W</th><th>L</th><th>GF</th><th>GA</th><th>GD</th><th>Pts</th><th>Pos</th></tr></thead><tbody><tr><td>Switzerland</td><td>A</td><td>3</td><td>1</td><td>2</td><td>0</td><td>10</td><td>4</td><td>6</td><td>7</td><td>1</td></tr><tr><td>Scotland</td><td>A</td><td>3</td><td>1</td><td>1</td><td>1</td><td>8</td><td>8</td><td>0</td><td>4</td><td>2</td></tr><tr><td>Hungary</td><td>A</td><td>3</td><td>0</td><td>1</td><td>2</td><td>9</td><td>11</td><td>-2</td><td>3</td><td>3</td></tr><tr><td>Germany</td><td>A</td><td>3</td><td>0</td><td>1</td><td>2</td><td>9</td><td>13</td><td>-4</td><td>3</td><td>4</td></tr><tr><td>Italy</td><td>B</td><td>3</td><td>1</td><td>2</td><td>0</td><td>12</td><td>5</td><td>7</td><td>7</td><td>1</td></tr><tr><td>Albania</td><td>B</td><td>3</td><td>0</td><td>2</td><td>1</td><td>9</td><td>4</td><td>5</td><td>6</td><td>2</td></tr><tr><td>Spain</td><td>B</td><td>3</td><td>1</td><td>1</td><td>1</td><td>9</td><td>10</td><td>-1</td><td>4</td><td>3</td></tr><tr><td>Croatia</td><td>B</td><td>3</td><td>0</td><td>0</td><td>3</td><td>1</td><td>12</td><td>-11</td><td>0</td><td>4</td></tr><tr><td>England</td><td>C</td><td>3</td><td>0</td><td>3</td><td>0</td><td>13</td><td>5</td><td>8</td><td>9</td><td>1</td></tr><tr><td>Serbia</td><td>C</td><td>3</td><td>1</td><td>1</td><td>1</td><td>9</td><td>11</td><td>-2</td><td>4</td><td>2</td></tr><tr><td>Slovenia</td><td>C</td><td>3</td><td>2</td><td>0</td><td>1</td><td>11</td><td>13</td><td>-2</td><td>2</td><td>3</td></tr><tr><td>Denmark</td><td>C</td><td>3</td><td>1</td><td>0</td><td>2</td><td>9</td><td>13</td><td>-4</td><td>1</td><td>4</td></tr><tr><td>Playoff Winner 1</td><td>D</td><td>3</td><td>0</td><td>3</td><td>0</td><td>12</td><td>4</td><td>8</td><td>9</td><td>1</td></tr><tr><td>Netherlands</td><td>D</td><td>3</td><td>0</td><td>2</td><td>1</td><td>7</td><td>8</td><td>-1</td><td>6</td><td>2</td></tr><tr><td>Austria</td><td>D</td><td>3</td><td>1</td><td>0</td><td>2</td><td>6</td><td>9</td><td>-3</td><td>1</td><td>3</td></tr><tr><td>France</td><td>D</td><td>3</td><td>1</td><td>0</td><td>2</td><td>7</td><td>11</td><td>-4</td><td>1</td><td>4</td></tr><tr><td>Romania</td><td>E</td><td>3</td><td>1</td><td>2</td><td>0</td><td>13</td><td>7</td><td>6</td><td>7</td><td>1</td></tr><tr><td>Belgium</td><td>E</td><td>3</td><td>0</td><td>2</td><td>1</td><td>7</td><td>7</td><td>0</td><td>6</td><td>2</td></tr><tr><td>Playoff Winner 2</td><td>E</td><td>3</td><td>1</td><td>1</td><td>1</td><td>9</td><td>7</td><td>2</td><td>4</td><td>3</td></tr><tr><td>Slovakia</td><td>E</td><td>3</td><td>0</td><td>0</td><td>3</td><td>7</td><td>15</td><td>-8</td><td>0</td><td>4</td></tr><tr><td>Playoff Winner 3</td><td>F</td><td>3</td><td>1</td><td>2</td><td>0</td><td>10</td><td>4</td><td>6</td><td>7</td><td>1</td></tr><tr><td>Czech Republic</td><td>F</td><td>3</td><td>0</td><td>2</td><td>1</td><td>9</td><td>7</td><td>2</td><td>6</td><td>2</td></tr><tr><td>Turkey</td><td>F</td><td>3</td><td>2</td><td>0</td><td>1</td><td>4</td><td>5</td><td>-1</td><td>2</td><td>3</td></tr><tr><td>Portugal</td><td>F</td><td>3</td><td>1</td><td>0</td><td>2</td><td>1</td><td>8</td><td>-7</td><td>1</td><td>4</td></tr></tbody></table></div>"
      ]
     },
     "metadata": {
      "application/vnd.databricks.v1+output": {
       "addedWidgets": {},
       "aggData": [],
       "aggError": "",
       "aggOverflow": false,
       "aggSchema": [],
       "aggSeriesLimitReached": false,
       "aggType": "",
       "arguments": {},
       "columnCustomDisplayInfos": {},
       "data": [
        [
         "Switzerland",
         "A",
         3,
         1,
         2,
         0,
         10,
         4,
         6,
         7,
         1
        ],
        [
         "Scotland",
         "A",
         3,
         1,
         1,
         1,
         8,
         8,
         0,
         4,
         2
        ],
        [
         "Hungary",
         "A",
         3,
         0,
         1,
         2,
         9,
         11,
         -2,
         3,
         3
        ],
        [
         "Germany",
         "A",
         3,
         0,
         1,
         2,
         9,
         13,
         -4,
         3,
         4
        ],
        [
         "Italy",
         "B",
         3,
         1,
         2,
         0,
         12,
         5,
         7,
         7,
         1
        ],
        [
         "Albania",
         "B",
         3,
         0,
         2,
         1,
         9,
         4,
         5,
         6,
         2
        ],
        [
         "Spain",
         "B",
         3,
         1,
         1,
         1,
         9,
         10,
         -1,
         4,
         3
        ],
        [
         "Croatia",
         "B",
         3,
         0,
         0,
         3,
         1,
         12,
         -11,
         0,
         4
        ],
        [
         "England",
         "C",
         3,
         0,
         3,
         0,
         13,
         5,
         8,
         9,
         1
        ],
        [
         "Serbia",
         "C",
         3,
         1,
         1,
         1,
         9,
         11,
         -2,
         4,
         2
        ],
        [
         "Slovenia",
         "C",
         3,
         2,
         0,
         1,
         11,
         13,
         -2,
         2,
         3
        ],
        [
         "Denmark",
         "C",
         3,
         1,
         0,
         2,
         9,
         13,
         -4,
         1,
         4
        ],
        [
         "Playoff Winner 1",
         "D",
         3,
         0,
         3,
         0,
         12,
         4,
         8,
         9,
         1
        ],
        [
         "Netherlands",
         "D",
         3,
         0,
         2,
         1,
         7,
         8,
         -1,
         6,
         2
        ],
        [
         "Austria",
         "D",
         3,
         1,
         0,
         2,
         6,
         9,
         -3,
         1,
         3
        ],
        [
         "France",
         "D",
         3,
         1,
         0,
         2,
         7,
         11,
         -4,
         1,
         4
        ],
        [
         "Romania",
         "E",
         3,
         1,
         2,
         0,
         13,
         7,
         6,
         7,
         1
        ],
        [
         "Belgium",
         "E",
         3,
         0,
         2,
         1,
         7,
         7,
         0,
         6,
         2
        ],
        [
         "Playoff Winner 2",
         "E",
         3,
         1,
         1,
         1,
         9,
         7,
         2,
         4,
         3
        ],
        [
         "Slovakia",
         "E",
         3,
         0,
         0,
         3,
         7,
         15,
         -8,
         0,
         4
        ],
        [
         "Playoff Winner 3",
         "F",
         3,
         1,
         2,
         0,
         10,
         4,
         6,
         7,
         1
        ],
        [
         "Czech Republic",
         "F",
         3,
         0,
         2,
         1,
         9,
         7,
         2,
         6,
         2
        ],
        [
         "Turkey",
         "F",
         3,
         2,
         0,
         1,
         4,
         5,
         -1,
         2,
         3
        ],
        [
         "Portugal",
         "F",
         3,
         1,
         0,
         2,
         1,
         8,
         -7,
         1,
         4
        ]
       ],
       "datasetInfos": [],
       "dbfsResultPath": null,
       "isJsonSchema": true,
       "metadata": {},
       "overflow": false,
       "plotOptions": {
        "customPlotOptions": {},
        "displayType": "table",
        "pivotAggregation": null,
        "pivotColumns": null,
        "xColumns": null,
        "yColumns": null
       },
       "removedWidgets": [],
       "schema": [
        {
         "metadata": "{}",
         "name": "Team",
         "type": "\"string\""
        },
        {
         "metadata": "{}",
         "name": "TeamGroup",
         "type": "\"string\""
        },
        {
         "metadata": "{}",
         "name": "Pld",
         "type": "\"long\""
        },
        {
         "metadata": "{}",
         "name": "D",
         "type": "\"long\""
        },
        {
         "metadata": "{}",
         "name": "W",
         "type": "\"long\""
        },
        {
         "metadata": "{}",
         "name": "L",
         "type": "\"long\""
        },
        {
         "metadata": "{}",
         "name": "GF",
         "type": "\"long\""
        },
        {
         "metadata": "{}",
         "name": "GA",
         "type": "\"long\""
        },
        {
         "metadata": "{}",
         "name": "GD",
         "type": "\"long\""
        },
        {
         "metadata": "{}",
         "name": "Pts",
         "type": "\"long\""
        },
        {
         "metadata": "{}",
         "name": "Pos",
         "type": "\"integer\""
        }
       ],
       "type": "table"
      }
     },
     "output_type": "display_data"
    }
   ],
   "source": [
    "# Create a window specification to partition by Group and order by Points and Goal Difference\n",
    "windowSpec = Window.partitionBy(gs_match_stats_df[\"TeamGroup\"]).orderBy(gs_match_stats_df[\"Pts\"].desc(), gs_match_stats_df[\"GD\"].desc())\n",
    "\n",
    "# Assign positions within each group\n",
    "gs_match_stats_df = gs_match_stats_df.withColumn(\"Pos\", row_number().over(windowSpec))\n",
    "display(gs_match_stats_df)"
   ]
  },
  {
   "cell_type": "code",
   "execution_count": 0,
   "metadata": {
    "application/vnd.databricks.v1+cell": {
     "cellMetadata": {
      "byteLimit": 2048000,
      "rowLimit": 10000
     },
     "inputWidgets": {},
     "nuid": "7dc63277-17f4-475b-ba98-90e4e8dcbc40",
     "showTitle": false,
     "title": ""
    }
   },
   "outputs": [],
   "source": [
    "gs_match_stats_df.createOrReplaceTempView(\"gs_stats_table\");"
   ]
  },
  {
   "cell_type": "code",
   "execution_count": 0,
   "metadata": {
    "application/vnd.databricks.v1+cell": {
     "cellMetadata": {
      "byteLimit": 2048000,
      "implicitDf": true,
      "rowLimit": 10000
     },
     "inputWidgets": {},
     "nuid": "ca7bfe41-8bab-41a4-9802-4a8f88d6741e",
     "showTitle": false,
     "title": ""
    }
   },
   "outputs": [],
   "source": [
    "# %sql\n",
    "# DROP TABLE IF EXISTS 3rd_place_Combinations;"
   ]
  },
  {
   "cell_type": "code",
   "execution_count": 0,
   "metadata": {
    "application/vnd.databricks.v1+cell": {
     "cellMetadata": {
      "byteLimit": 2048000,
      "rowLimit": 10000
     },
     "inputWidgets": {},
     "nuid": "027b79bb-e5bb-4a73-a5ac-333fd91d070c",
     "showTitle": false,
     "title": ""
    }
   },
   "outputs": [],
   "source": [
    "# %fs\n",
    "# rm -r dbfs:/user/hive/warehouse/3rd_place_combinations/part-00000-46a51ba8-3585-4b5a-a2f7-16ffa6c7b13c-c000.snappy.parquet"
   ]
  },
  {
   "cell_type": "code",
   "execution_count": 0,
   "metadata": {
    "application/vnd.databricks.v1+cell": {
     "cellMetadata": {
      "byteLimit": 2048000,
      "implicitDf": true,
      "rowLimit": 10000
     },
     "inputWidgets": {},
     "nuid": "38f73eed-2abd-4bfb-b94c-1dd2ffb65bd0",
     "showTitle": false,
     "title": ""
    }
   },
   "outputs": [
    {
     "output_type": "display_data",
     "data": {
      "text/html": [
       "<style scoped>\n",
       "  .table-result-container {\n",
       "    max-height: 300px;\n",
       "    overflow: auto;\n",
       "  }\n",
       "  table, th, td {\n",
       "    border: 1px solid black;\n",
       "    border-collapse: collapse;\n",
       "  }\n",
       "  th, td {\n",
       "    padding: 5px;\n",
       "  }\n",
       "  th {\n",
       "    text-align: left;\n",
       "  }\n",
       "</style><div class='table-result-container'><table class='table-result'><thead style='background-color: white'><tr></tr></thead><tbody></tbody></table></div>"
      ]
     },
     "metadata": {
      "application/vnd.databricks.v1+output": {
       "addedWidgets": {},
       "aggData": [],
       "aggError": "",
       "aggOverflow": false,
       "aggSchema": [],
       "aggSeriesLimitReached": false,
       "aggType": "",
       "arguments": {},
       "columnCustomDisplayInfos": {},
       "data": [],
       "datasetInfos": [],
       "dbfsResultPath": null,
       "isJsonSchema": true,
       "metadata": {},
       "overflow": false,
       "plotOptions": {
        "customPlotOptions": {},
        "displayType": "table",
        "pivotAggregation": null,
        "pivotColumns": null,
        "xColumns": null,
        "yColumns": null
       },
       "removedWidgets": [],
       "schema": [],
       "type": "table"
      }
     },
     "output_type": "display_data"
    }
   ],
   "source": [
    "%sql\n",
    "CREATE TABLE IF NOT EXISTS 3rd_place_Combination (\n",
    "  ID INTEGER,\n",
    "  GroupId VARCHAR(4),\n",
    "  Team1B CHAR(1),\n",
    "  Team1C CHAR(1),\n",
    "  Team1E CHAR(1),\n",
    "  Team1F CHAR(1)\n",
    ")\n",
    "-- LOCATION 'dbfs:/user/hive/warehouse/3rdd_place_Combination';"
   ]
  },
  {
   "cell_type": "code",
   "execution_count": 0,
   "metadata": {
    "application/vnd.databricks.v1+cell": {
     "cellMetadata": {
      "byteLimit": 2048000,
      "implicitDf": true,
      "rowLimit": 10000
     },
     "inputWidgets": {},
     "nuid": "978ef799-b3ba-4f7b-bdda-7f6d8da6eddb",
     "showTitle": false,
     "title": ""
    }
   },
   "outputs": [
    {
     "output_type": "display_data",
     "data": {
      "text/html": [
       "<style scoped>\n",
       "  .table-result-container {\n",
       "    max-height: 300px;\n",
       "    overflow: auto;\n",
       "  }\n",
       "  table, th, td {\n",
       "    border: 1px solid black;\n",
       "    border-collapse: collapse;\n",
       "  }\n",
       "  th, td {\n",
       "    padding: 5px;\n",
       "  }\n",
       "  th {\n",
       "    text-align: left;\n",
       "  }\n",
       "</style><div class='table-result-container'><table class='table-result'><thead style='background-color: white'><tr><th>num_affected_rows</th><th>num_inserted_rows</th></tr></thead><tbody><tr><td>15</td><td>15</td></tr></tbody></table></div>"
      ]
     },
     "metadata": {
      "application/vnd.databricks.v1+output": {
       "addedWidgets": {},
       "aggData": [],
       "aggError": "",
       "aggOverflow": false,
       "aggSchema": [],
       "aggSeriesLimitReached": false,
       "aggType": "",
       "arguments": {},
       "columnCustomDisplayInfos": {},
       "data": [
        [
         15,
         15
        ]
       ],
       "datasetInfos": [],
       "dbfsResultPath": null,
       "isJsonSchema": true,
       "metadata": {},
       "overflow": false,
       "plotOptions": {
        "customPlotOptions": {},
        "displayType": "table",
        "pivotAggregation": null,
        "pivotColumns": null,
        "xColumns": null,
        "yColumns": null
       },
       "removedWidgets": [],
       "schema": [
        {
         "metadata": "{}",
         "name": "num_affected_rows",
         "type": "\"long\""
        },
        {
         "metadata": "{}",
         "name": "num_inserted_rows",
         "type": "\"long\""
        }
       ],
       "type": "table"
      }
     },
     "output_type": "display_data"
    }
   ],
   "source": [
    "%sql\n",
    "INSERT INTO 3rd_place_Combination (ID, GroupId, Team1B, Team1C, Team1E, Team1F) VALUES\n",
    "(1, 'ABCD', 'A', 'D', 'B', 'C'),\n",
    "(2, 'ABCE', 'A', 'E', 'B', 'C'),\n",
    "(3, 'ABCF', 'A', 'F', 'B', 'C'),\n",
    "(4, 'ABDE', 'D', 'E', 'A', 'B'),\n",
    "(5, 'ABDF', 'D', 'F', 'A', 'B'),\n",
    "(6, 'ABEF', 'E', 'F', 'B', 'A'),\n",
    "(7, 'ACDE', 'E', 'D', 'C', 'A'),\n",
    "(8, 'ACDF', 'F', 'D', 'C', 'A'),\n",
    "(9, 'ACEF', 'E', 'F', 'C', 'A'),\n",
    "(10, 'ADEF', 'E', 'F', 'D', 'A'),\n",
    "(11, 'BCDE', 'E', 'D', 'B', 'C'),\n",
    "(12, 'BCDF', 'F', 'D', 'C', 'B'),\n",
    "(13, 'BCEF', 'F', 'E', 'C', 'B'),\n",
    "(14, 'BDEF', 'F', 'E', 'D', 'B'),\n",
    "(15, 'CDEF', 'F', 'E', 'D', 'C');"
   ]
  },
  {
   "cell_type": "code",
   "execution_count": 0,
   "metadata": {
    "application/vnd.databricks.v1+cell": {
     "cellMetadata": {
      "byteLimit": 2048000,
      "implicitDf": true,
      "rowLimit": 10000
     },
     "inputWidgets": {},
     "nuid": "8f520b0c-9d6c-4018-8c73-91ae129b3dfd",
     "showTitle": false,
     "title": ""
    }
   },
   "outputs": [
    {
     "output_type": "display_data",
     "data": {
      "text/html": [
       "<style scoped>\n",
       "  .table-result-container {\n",
       "    max-height: 300px;\n",
       "    overflow: auto;\n",
       "  }\n",
       "  table, th, td {\n",
       "    border: 1px solid black;\n",
       "    border-collapse: collapse;\n",
       "  }\n",
       "  th, td {\n",
       "    padding: 5px;\n",
       "  }\n",
       "  th {\n",
       "    text-align: left;\n",
       "  }\n",
       "</style><div class='table-result-container'><table class='table-result'><thead style='background-color: white'><tr><th>ID</th><th>GroupId</th><th>Team1B</th><th>Team1C</th><th>Team1E</th><th>Team1F</th></tr></thead><tbody><tr><td>1</td><td>ABCD</td><td>A</td><td>D</td><td>B</td><td>C</td></tr><tr><td>2</td><td>ABCE</td><td>A</td><td>E</td><td>B</td><td>C</td></tr><tr><td>3</td><td>ABCF</td><td>A</td><td>F</td><td>B</td><td>C</td></tr><tr><td>4</td><td>ABDE</td><td>D</td><td>E</td><td>A</td><td>B</td></tr><tr><td>5</td><td>ABDF</td><td>D</td><td>F</td><td>A</td><td>B</td></tr><tr><td>6</td><td>ABEF</td><td>E</td><td>F</td><td>B</td><td>A</td></tr><tr><td>7</td><td>ACDE</td><td>E</td><td>D</td><td>C</td><td>A</td></tr><tr><td>8</td><td>ACDF</td><td>F</td><td>D</td><td>C</td><td>A</td></tr><tr><td>9</td><td>ACEF</td><td>E</td><td>F</td><td>C</td><td>A</td></tr><tr><td>10</td><td>ADEF</td><td>E</td><td>F</td><td>D</td><td>A</td></tr><tr><td>11</td><td>BCDE</td><td>E</td><td>D</td><td>B</td><td>C</td></tr><tr><td>12</td><td>BCDF</td><td>F</td><td>D</td><td>C</td><td>B</td></tr><tr><td>13</td><td>BCEF</td><td>F</td><td>E</td><td>C</td><td>B</td></tr><tr><td>14</td><td>BDEF</td><td>F</td><td>E</td><td>D</td><td>B</td></tr><tr><td>15</td><td>CDEF</td><td>F</td><td>E</td><td>D</td><td>C</td></tr></tbody></table></div>"
      ]
     },
     "metadata": {
      "application/vnd.databricks.v1+output": {
       "addedWidgets": {},
       "aggData": [],
       "aggError": "",
       "aggOverflow": false,
       "aggSchema": [],
       "aggSeriesLimitReached": false,
       "aggType": "",
       "arguments": {},
       "columnCustomDisplayInfos": {},
       "data": [
        [
         1,
         "ABCD",
         "A",
         "D",
         "B",
         "C"
        ],
        [
         2,
         "ABCE",
         "A",
         "E",
         "B",
         "C"
        ],
        [
         3,
         "ABCF",
         "A",
         "F",
         "B",
         "C"
        ],
        [
         4,
         "ABDE",
         "D",
         "E",
         "A",
         "B"
        ],
        [
         5,
         "ABDF",
         "D",
         "F",
         "A",
         "B"
        ],
        [
         6,
         "ABEF",
         "E",
         "F",
         "B",
         "A"
        ],
        [
         7,
         "ACDE",
         "E",
         "D",
         "C",
         "A"
        ],
        [
         8,
         "ACDF",
         "F",
         "D",
         "C",
         "A"
        ],
        [
         9,
         "ACEF",
         "E",
         "F",
         "C",
         "A"
        ],
        [
         10,
         "ADEF",
         "E",
         "F",
         "D",
         "A"
        ],
        [
         11,
         "BCDE",
         "E",
         "D",
         "B",
         "C"
        ],
        [
         12,
         "BCDF",
         "F",
         "D",
         "C",
         "B"
        ],
        [
         13,
         "BCEF",
         "F",
         "E",
         "C",
         "B"
        ],
        [
         14,
         "BDEF",
         "F",
         "E",
         "D",
         "B"
        ],
        [
         15,
         "CDEF",
         "F",
         "E",
         "D",
         "C"
        ]
       ],
       "datasetInfos": [],
       "dbfsResultPath": null,
       "isJsonSchema": true,
       "metadata": {},
       "overflow": false,
       "plotOptions": {
        "customPlotOptions": {},
        "displayType": "table",
        "pivotAggregation": null,
        "pivotColumns": null,
        "xColumns": null,
        "yColumns": null
       },
       "removedWidgets": [],
       "schema": [
        {
         "metadata": "{}",
         "name": "ID",
         "type": "\"integer\""
        },
        {
         "metadata": "{\"__CHAR_VARCHAR_TYPE_STRING\":\"varchar(4)\"}",
         "name": "GroupId",
         "type": "\"string\""
        },
        {
         "metadata": "{\"__CHAR_VARCHAR_TYPE_STRING\":\"char(1)\"}",
         "name": "Team1B",
         "type": "\"string\""
        },
        {
         "metadata": "{\"__CHAR_VARCHAR_TYPE_STRING\":\"char(1)\"}",
         "name": "Team1C",
         "type": "\"string\""
        },
        {
         "metadata": "{\"__CHAR_VARCHAR_TYPE_STRING\":\"char(1)\"}",
         "name": "Team1E",
         "type": "\"string\""
        },
        {
         "metadata": "{\"__CHAR_VARCHAR_TYPE_STRING\":\"char(1)\"}",
         "name": "Team1F",
         "type": "\"string\""
        }
       ],
       "type": "table"
      }
     },
     "output_type": "display_data"
    }
   ],
   "source": [
    "%sql\n",
    "select * from 3rd_place_Combination"
   ]
  },
  {
   "cell_type": "code",
   "execution_count": 0,
   "metadata": {
    "application/vnd.databricks.v1+cell": {
     "cellMetadata": {
      "byteLimit": 2048000,
      "implicitDf": true,
      "rowLimit": 10000
     },
     "inputWidgets": {},
     "nuid": "6899aa30-0cf6-4be3-8c93-240a99ebcf21",
     "showTitle": false,
     "title": ""
    }
   },
   "outputs": [
    {
     "output_type": "display_data",
     "data": {
      "text/html": [
       "<style scoped>\n",
       "  .table-result-container {\n",
       "    max-height: 300px;\n",
       "    overflow: auto;\n",
       "  }\n",
       "  table, th, td {\n",
       "    border: 1px solid black;\n",
       "    border-collapse: collapse;\n",
       "  }\n",
       "  th, td {\n",
       "    padding: 5px;\n",
       "  }\n",
       "  th {\n",
       "    text-align: left;\n",
       "  }\n",
       "</style><div class='table-result-container'><table class='table-result'><thead style='background-color: white'><tr><th>ID</th><th>GroupId</th><th>Team1B</th><th>Team1C</th><th>Team1E</th><th>Team1F</th></tr></thead><tbody><tr><td>8</td><td>ACDF</td><td>F</td><td>D</td><td>C</td><td>A</td></tr></tbody></table></div>"
      ]
     },
     "metadata": {
      "application/vnd.databricks.v1+output": {
       "addedWidgets": {},
       "aggData": [],
       "aggError": "",
       "aggOverflow": false,
       "aggSchema": [],
       "aggSeriesLimitReached": false,
       "aggType": "",
       "arguments": {},
       "columnCustomDisplayInfos": {},
       "data": [
        [
         8,
         "ACDF",
         "F",
         "D",
         "C",
         "A"
        ]
       ],
       "datasetInfos": [],
       "dbfsResultPath": null,
       "isJsonSchema": true,
       "metadata": {},
       "overflow": false,
       "plotOptions": {
        "customPlotOptions": {},
        "displayType": "table",
        "pivotAggregation": null,
        "pivotColumns": null,
        "xColumns": null,
        "yColumns": null
       },
       "removedWidgets": [],
       "schema": [
        {
         "metadata": "{}",
         "name": "ID",
         "type": "\"integer\""
        },
        {
         "metadata": "{\"__CHAR_VARCHAR_TYPE_STRING\":\"varchar(4)\"}",
         "name": "GroupId",
         "type": "\"string\""
        },
        {
         "metadata": "{\"__CHAR_VARCHAR_TYPE_STRING\":\"char(1)\"}",
         "name": "Team1B",
         "type": "\"string\""
        },
        {
         "metadata": "{\"__CHAR_VARCHAR_TYPE_STRING\":\"char(1)\"}",
         "name": "Team1C",
         "type": "\"string\""
        },
        {
         "metadata": "{\"__CHAR_VARCHAR_TYPE_STRING\":\"char(1)\"}",
         "name": "Team1E",
         "type": "\"string\""
        },
        {
         "metadata": "{\"__CHAR_VARCHAR_TYPE_STRING\":\"char(1)\"}",
         "name": "Team1F",
         "type": "\"string\""
        }
       ],
       "type": "table"
      }
     },
     "output_type": "display_data"
    }
   ],
   "source": [
    "%sql\n",
    "WITH thirds AS (\n",
    "    SELECT \n",
    "        TeamGroup,\n",
    "        ROW_NUMBER() OVER (ORDER BY Pts, GD) AS rank \n",
    "    FROM \n",
    "        gs_stats_table \n",
    "    WHERE \n",
    "        pos = 3 \n",
    "    LIMIT 4\n",
    "),\n",
    "-- select * from thirds;\n",
    "GrpConcat AS (\n",
    "    SELECT \n",
    "         CONCAT_WS('', sort_array(COLLECT_LIST(TeamGroup))) AS grp\n",
    "    FROM \n",
    "        thirds \n",
    "),\n",
    "-- select * from GrpConcat ;\n",
    "combo AS (\n",
    "    SELECT * \n",
    "    FROM 3rd_place_Combination \n",
    "    WHERE GroupId = (SELECT grp FROM GrpConcat)\n",
    ")\n",
    "select * from combo ;\n",
    "-- SELECT Team1B FROM combo;"
   ]
  },
  {
   "cell_type": "code",
   "execution_count": 0,
   "metadata": {
    "application/vnd.databricks.v1+cell": {
     "cellMetadata": {
      "byteLimit": 2048000,
      "implicitDf": true,
      "rowLimit": 10000
     },
     "inputWidgets": {},
     "nuid": "7cf1dd40-3dd6-4e93-8817-7a84bc62c688",
     "showTitle": false,
     "title": ""
    }
   },
   "outputs": [
    {
     "output_type": "display_data",
     "data": {
      "text/html": [
       "<style scoped>\n",
       "  .table-result-container {\n",
       "    max-height: 300px;\n",
       "    overflow: auto;\n",
       "  }\n",
       "  table, th, td {\n",
       "    border: 1px solid black;\n",
       "    border-collapse: collapse;\n",
       "  }\n",
       "  th, td {\n",
       "    padding: 5px;\n",
       "  }\n",
       "  th {\n",
       "    text-align: left;\n",
       "  }\n",
       "</style><div class='table-result-container'><table class='table-result'><thead style='background-color: white'><tr></tr></thead><tbody></tbody></table></div>"
      ]
     },
     "metadata": {
      "application/vnd.databricks.v1+output": {
       "addedWidgets": {},
       "aggData": [],
       "aggError": "",
       "aggOverflow": false,
       "aggSchema": [],
       "aggSeriesLimitReached": false,
       "aggType": "",
       "arguments": {},
       "columnCustomDisplayInfos": {},
       "data": [],
       "datasetInfos": [],
       "dbfsResultPath": null,
       "isJsonSchema": true,
       "metadata": {},
       "overflow": false,
       "plotOptions": {
        "customPlotOptions": {},
        "displayType": "table",
        "pivotAggregation": null,
        "pivotColumns": null,
        "xColumns": null,
        "yColumns": null
       },
       "removedWidgets": [],
       "schema": [],
       "type": "table"
      }
     },
     "output_type": "display_data"
    }
   ],
   "source": [
    "\n",
    "%sql\n",
    "CREATE or replace TABLE round_16_teams(\n",
    "  M_ID INT,\n",
    "  Team_1 VARCHAR(25),\n",
    "  Team_2 VARCHAR(25)\n",
    ");\n"
   ]
  },
  {
   "cell_type": "code",
   "execution_count": 0,
   "metadata": {
    "application/vnd.databricks.v1+cell": {
     "cellMetadata": {
      "byteLimit": 2048000,
      "implicitDf": true,
      "rowLimit": 10000
     },
     "inputWidgets": {},
     "nuid": "8a4a837b-63d8-40ba-8f6f-cc34400c6e8c",
     "showTitle": false,
     "title": ""
    }
   },
   "outputs": [
    {
     "output_type": "display_data",
     "data": {
      "text/html": [
       "<style scoped>\n",
       "  .table-result-container {\n",
       "    max-height: 300px;\n",
       "    overflow: auto;\n",
       "  }\n",
       "  table, th, td {\n",
       "    border: 1px solid black;\n",
       "    border-collapse: collapse;\n",
       "  }\n",
       "  th, td {\n",
       "    padding: 5px;\n",
       "  }\n",
       "  th {\n",
       "    text-align: left;\n",
       "  }\n",
       "</style><div class='table-result-container'><table class='table-result'><thead style='background-color: white'><tr><th>num_affected_rows</th><th>num_inserted_rows</th></tr></thead><tbody><tr><td>8</td><td>8</td></tr></tbody></table></div>"
      ]
     },
     "metadata": {
      "application/vnd.databricks.v1+output": {
       "addedWidgets": {},
       "aggData": [],
       "aggError": "",
       "aggOverflow": false,
       "aggSchema": [],
       "aggSeriesLimitReached": false,
       "aggType": "",
       "arguments": {},
       "columnCustomDisplayInfos": {},
       "data": [
        [
         8,
         8
        ]
       ],
       "datasetInfos": [],
       "dbfsResultPath": null,
       "isJsonSchema": true,
       "metadata": {},
       "overflow": false,
       "plotOptions": {
        "customPlotOptions": {},
        "displayType": "table",
        "pivotAggregation": null,
        "pivotColumns": null,
        "xColumns": null,
        "yColumns": null
       },
       "removedWidgets": [],
       "schema": [
        {
         "metadata": "{}",
         "name": "num_affected_rows",
         "type": "\"long\""
        },
        {
         "metadata": "{}",
         "name": "num_inserted_rows",
         "type": "\"long\""
        }
       ],
       "type": "table"
      }
     },
     "output_type": "display_data"
    }
   ],
   "source": [
    "%sql\n",
    "WITH thirds AS (\n",
    "    SELECT \n",
    "        TeamGroup,\n",
    "        ROW_NUMBER() OVER (ORDER BY Pts, GD) AS rank \n",
    "    FROM \n",
    "        gs_stats_table \n",
    "    WHERE \n",
    "        pos = 3 \n",
    "    LIMIT 4\n",
    "),\n",
    "-- select * from thirds;\n",
    "GrpConcat AS (\n",
    "    SELECT \n",
    "         CONCAT_WS('', sort_array(COLLECT_LIST(TeamGroup))) AS grp\n",
    "    FROM \n",
    "        thirds \n",
    "),\n",
    "-- select * from GrpConcat ;\n",
    "combo AS (\n",
    "    SELECT * \n",
    "    FROM 3rd_place_Combination \n",
    "    WHERE GroupId = (SELECT grp FROM GrpConcat)\n",
    ")\n",
    "-- select * from combo ;\n",
    "-- SELECT Team1B FROM combo;\n",
    "INSERT INTO round_16_teams(\n",
    "    SELECT 1 AS M_ID,\n",
    "        (SELECT Team FROM gs_stats_table WHERE Pos = 1 AND TeamGroup = 'B') as Team1B,\n",
    "        (SELECT Team FROM gs_stats_table WHERE Pos = 3 AND TeamGroup = (SELECT Team1B FROM combo)) as Team3rd_1\n",
    "    UNION ALL\n",
    "    SELECT 2 as M_ID,\n",
    "        (SELECT Team FROM gs_stats_table WHERE Pos = 1 AND TeamGroup = 'A') as Team1A,\n",
    "        (SELECT Team FROM gs_stats_table WHERE Pos = 2 AND TeamGroup = 'C') as Team2C\n",
    "    UNION ALL\n",
    "    SELECT 3 AS M_ID,\n",
    "        (SELECT Team FROM gs_stats_table WHERE Pos = 1 AND TeamGroup = 'F') as Team1F,\n",
    "        (SELECT Team FROM gs_stats_table WHERE Pos = 3 AND TeamGroup = (SELECT Team1F FROM combo)) as Team3rd_2\n",
    "    UNION ALL\n",
    "    SELECT 4 as M_ID,\n",
    "        (SELECT Team FROM gs_stats_table WHERE Pos = 2 AND TeamGroup = 'D') as Team1D,\n",
    "        (SELECT Team FROM gs_stats_table WHERE Pos = 2 AND TeamGroup = 'E') as Team2E\n",
    "    UNION ALL\n",
    "    SELECT 5 AS M_ID,\n",
    "        (SELECT Team FROM gs_stats_table WHERE Pos = 1 AND TeamGroup = 'E') as Team1E,\n",
    "        (SELECT Team FROM gs_stats_table WHERE Pos = 3 AND TeamGroup = (SELECT Team1E FROM combo)) as Team3rd_3\n",
    "    UNION ALL\n",
    "    SELECT 6 as M_ID,\n",
    "        (SELECT Team FROM gs_stats_table WHERE Pos = 1 AND TeamGroup = 'D') as Team1D,\n",
    "        (SELECT Team FROM gs_stats_table WHERE Pos = 2 AND TeamGroup = 'F') as Team2F\n",
    "    UNION ALL\n",
    "    SELECT 7 AS M_ID,\n",
    "        (SELECT Team FROM gs_stats_table WHERE Pos = 1 AND TeamGroup = 'C') as Team1C,\n",
    "        (SELECT Team FROM gs_stats_table WHERE Pos = 3 AND TeamGroup = (SELECT Team1C FROM combo)) as Team3rd_4\n",
    "    UNION ALL\n",
    "    SELECT 8 as M_ID,\n",
    "        (SELECT Team FROM gs_stats_table WHERE Pos = 2 AND TeamGroup = 'A') as Team2A,\n",
    "        (SELECT Team FROM gs_stats_table WHERE Pos = 2 AND TeamGroup = 'B') as Team2B\n",
    "    FROM combo\n",
    ");"
   ]
  },
  {
   "cell_type": "code",
   "execution_count": 0,
   "metadata": {
    "application/vnd.databricks.v1+cell": {
     "cellMetadata": {
      "byteLimit": 2048000,
      "implicitDf": true,
      "rowLimit": 10000
     },
     "inputWidgets": {},
     "nuid": "e5340d90-b1ac-4d4f-8ad0-3836c75dfe5f",
     "showTitle": false,
     "title": ""
    }
   },
   "outputs": [
    {
     "output_type": "display_data",
     "data": {
      "text/html": [
       "<style scoped>\n",
       "  .table-result-container {\n",
       "    max-height: 300px;\n",
       "    overflow: auto;\n",
       "  }\n",
       "  table, th, td {\n",
       "    border: 1px solid black;\n",
       "    border-collapse: collapse;\n",
       "  }\n",
       "  th, td {\n",
       "    padding: 5px;\n",
       "  }\n",
       "  th {\n",
       "    text-align: left;\n",
       "  }\n",
       "</style><div class='table-result-container'><table class='table-result'><thead style='background-color: white'><tr><th>M_ID</th><th>Team_1</th><th>Team_2</th></tr></thead><tbody><tr><td>1</td><td>Italy</td><td>Turkey</td></tr><tr><td>2</td><td>Switzerland</td><td>Serbia</td></tr><tr><td>3</td><td>Playoff Winner 3</td><td>Hungary</td></tr><tr><td>4</td><td>Netherlands</td><td>Belgium</td></tr><tr><td>5</td><td>Romania</td><td>Slovenia</td></tr><tr><td>6</td><td>Playoff Winner 1</td><td>Czech Republic</td></tr><tr><td>7</td><td>England</td><td>Austria</td></tr><tr><td>8</td><td>Scotland</td><td>Albania</td></tr></tbody></table></div>"
      ]
     },
     "metadata": {
      "application/vnd.databricks.v1+output": {
       "addedWidgets": {},
       "aggData": [],
       "aggError": "",
       "aggOverflow": false,
       "aggSchema": [],
       "aggSeriesLimitReached": false,
       "aggType": "",
       "arguments": {},
       "columnCustomDisplayInfos": {},
       "data": [
        [
         1,
         "Italy",
         "Turkey"
        ],
        [
         2,
         "Switzerland",
         "Serbia"
        ],
        [
         3,
         "Playoff Winner 3",
         "Hungary"
        ],
        [
         4,
         "Netherlands",
         "Belgium"
        ],
        [
         5,
         "Romania",
         "Slovenia"
        ],
        [
         6,
         "Playoff Winner 1",
         "Czech Republic"
        ],
        [
         7,
         "England",
         "Austria"
        ],
        [
         8,
         "Scotland",
         "Albania"
        ]
       ],
       "datasetInfos": [],
       "dbfsResultPath": null,
       "isJsonSchema": true,
       "metadata": {},
       "overflow": false,
       "plotOptions": {
        "customPlotOptions": {},
        "displayType": "table",
        "pivotAggregation": null,
        "pivotColumns": null,
        "xColumns": null,
        "yColumns": null
       },
       "removedWidgets": [],
       "schema": [
        {
         "metadata": "{}",
         "name": "M_ID",
         "type": "\"integer\""
        },
        {
         "metadata": "{\"__CHAR_VARCHAR_TYPE_STRING\":\"varchar(25)\"}",
         "name": "Team_1",
         "type": "\"string\""
        },
        {
         "metadata": "{\"__CHAR_VARCHAR_TYPE_STRING\":\"varchar(25)\"}",
         "name": "Team_2",
         "type": "\"string\""
        }
       ],
       "type": "table"
      }
     },
     "output_type": "display_data"
    }
   ],
   "source": [
    "%sql\n",
    "select * from round_16_teams order by M_ID;"
   ]
  },
  {
   "cell_type": "code",
   "execution_count": 0,
   "metadata": {
    "application/vnd.databricks.v1+cell": {
     "cellMetadata": {
      "byteLimit": 2048000,
      "implicitDf": true,
      "rowLimit": 10000
     },
     "inputWidgets": {},
     "nuid": "2fea1526-7a5c-421e-b60d-5125aad20427",
     "showTitle": false,
     "title": ""
    }
   },
   "outputs": [
    {
     "output_type": "display_data",
     "data": {
      "text/html": [
       "<style scoped>\n",
       "  .table-result-container {\n",
       "    max-height: 300px;\n",
       "    overflow: auto;\n",
       "  }\n",
       "  table, th, td {\n",
       "    border: 1px solid black;\n",
       "    border-collapse: collapse;\n",
       "  }\n",
       "  th, td {\n",
       "    padding: 5px;\n",
       "  }\n",
       "  th {\n",
       "    text-align: left;\n",
       "  }\n",
       "</style><div class='table-result-container'><table class='table-result'><thead style='background-color: white'><tr></tr></thead><tbody></tbody></table></div>"
      ]
     },
     "metadata": {
      "application/vnd.databricks.v1+output": {
       "addedWidgets": {},
       "aggData": [],
       "aggError": "",
       "aggOverflow": false,
       "aggSchema": [],
       "aggSeriesLimitReached": false,
       "aggType": "",
       "arguments": {},
       "columnCustomDisplayInfos": {},
       "data": [],
       "datasetInfos": [],
       "dbfsResultPath": null,
       "isJsonSchema": true,
       "metadata": {},
       "overflow": false,
       "plotOptions": {
        "customPlotOptions": {},
        "displayType": "table",
        "pivotAggregation": null,
        "pivotColumns": null,
        "xColumns": null,
        "yColumns": null
       },
       "removedWidgets": [],
       "schema": [],
       "type": "table"
      }
     },
     "output_type": "display_data"
    }
   ],
   "source": [
    "%sql\n",
    "CREATE TABLE round_16_matches (\n",
    "    Match STRING,\n",
    "    Team_1 VARCHAR(50),\n",
    "    Team_2 VARCHAR(50),\n",
    "    Team_1_Goals INT,\n",
    "    Team_2_Goals INT,\n",
    "    Winner VARCHAR(50)\n",
    ");"
   ]
  },
  {
   "cell_type": "code",
   "execution_count": 0,
   "metadata": {
    "application/vnd.databricks.v1+cell": {
     "cellMetadata": {
      "byteLimit": 2048000,
      "implicitDf": true,
      "rowLimit": 10000
     },
     "inputWidgets": {},
     "nuid": "0597c5c1-382f-44ee-928a-96a8c2d2fc05",
     "showTitle": false,
     "title": ""
    }
   },
   "outputs": [
    {
     "output_type": "display_data",
     "data": {
      "text/html": [
       "<style scoped>\n",
       "  .table-result-container {\n",
       "    max-height: 300px;\n",
       "    overflow: auto;\n",
       "  }\n",
       "  table, th, td {\n",
       "    border: 1px solid black;\n",
       "    border-collapse: collapse;\n",
       "  }\n",
       "  th, td {\n",
       "    padding: 5px;\n",
       "  }\n",
       "  th {\n",
       "    text-align: left;\n",
       "  }\n",
       "</style><div class='table-result-container'><table class='table-result'><thead style='background-color: white'><tr><th>Match</th><th>Team_1</th><th>Team_2</th><th>Team_1_Goals</th><th>Team_2_Goals</th><th>Winner</th></tr></thead><tbody><tr><td>RS 1</td><td>Italy</td><td>Turkey</td><td>0</td><td>1</td><td>Turkey</td></tr><tr><td>RS 2</td><td>Switzerland</td><td>Serbia</td><td>2</td><td>1</td><td>Switzerland</td></tr><tr><td>RS 3</td><td>Playoff Winner 3</td><td>Hungary</td><td>1</td><td>0</td><td>Playoff Winner 3</td></tr><tr><td>RS 4</td><td>Netherlands</td><td>Belgium</td><td>0</td><td>2</td><td>Belgium</td></tr><tr><td>RS 5</td><td>Romania</td><td>Slovenia</td><td>4</td><td>0</td><td>Romania</td></tr><tr><td>RS 6</td><td>Playoff Winner 1</td><td>Czech Republic</td><td>3</td><td>1</td><td>Playoff Winner 1</td></tr><tr><td>RS 7</td><td>England</td><td>Austria</td><td>2</td><td>3</td><td>Austria</td></tr><tr><td>RS 8</td><td>Scotland</td><td>Albania</td><td>2</td><td>0</td><td>Scotland</td></tr></tbody></table></div>"
      ]
     },
     "metadata": {
      "application/vnd.databricks.v1+output": {
       "addedWidgets": {},
       "aggData": [],
       "aggError": "",
       "aggOverflow": false,
       "aggSchema": [],
       "aggSeriesLimitReached": false,
       "aggType": "",
       "arguments": {},
       "columnCustomDisplayInfos": {},
       "data": [
        [
         "RS 1",
         "Italy",
         "Turkey",
         0,
         1,
         "Turkey"
        ],
        [
         "RS 2",
         "Switzerland",
         "Serbia",
         2,
         1,
         "Switzerland"
        ],
        [
         "RS 3",
         "Playoff Winner 3",
         "Hungary",
         1,
         0,
         "Playoff Winner 3"
        ],
        [
         "RS 4",
         "Netherlands",
         "Belgium",
         0,
         2,
         "Belgium"
        ],
        [
         "RS 5",
         "Romania",
         "Slovenia",
         4,
         0,
         "Romania"
        ],
        [
         "RS 6",
         "Playoff Winner 1",
         "Czech Republic",
         3,
         1,
         "Playoff Winner 1"
        ],
        [
         "RS 7",
         "England",
         "Austria",
         2,
         3,
         "Austria"
        ],
        [
         "RS 8",
         "Scotland",
         "Albania",
         2,
         0,
         "Scotland"
        ]
       ],
       "datasetInfos": [],
       "dbfsResultPath": null,
       "isJsonSchema": true,
       "metadata": {},
       "overflow": false,
       "plotOptions": {
        "customPlotOptions": {},
        "displayType": "table",
        "pivotAggregation": null,
        "pivotColumns": null,
        "xColumns": null,
        "yColumns": null
       },
       "removedWidgets": [],
       "schema": [
        {
         "metadata": "{}",
         "name": "Match",
         "type": "\"string\""
        },
        {
         "metadata": "{\"__CHAR_VARCHAR_TYPE_STRING\":\"varchar(50)\"}",
         "name": "Team_1",
         "type": "\"string\""
        },
        {
         "metadata": "{\"__CHAR_VARCHAR_TYPE_STRING\":\"varchar(50)\"}",
         "name": "Team_2",
         "type": "\"string\""
        },
        {
         "metadata": "{}",
         "name": "Team_1_Goals",
         "type": "\"integer\""
        },
        {
         "metadata": "{}",
         "name": "Team_2_Goals",
         "type": "\"integer\""
        },
        {
         "metadata": "{\"__CHAR_VARCHAR_TYPE_STRING\":\"varchar(50)\"}",
         "name": "Winner",
         "type": "\"string\""
        }
       ],
       "type": "table"
      }
     },
     "output_type": "display_data"
    }
   ],
   "source": [
    "%sql\n",
    "INSERT INTO round_16_matches (\n",
    "    SELECT\n",
    "        \"RS \" || ROW_NUMBER() OVER (ORDER BY M_ID) AS Match,\n",
    "        Team_1 AS Team_1,\n",
    "        Team_2 AS Team_2,\n",
    "        FLOOR(rand() * 5) AS Team_1_Goals,\n",
    "        FLOOR(rand() * 5) AS Team_2_Goals,\n",
    "        CASE\n",
    "            WHEN Team_1_Goals > Team_2_Goals THEN Team_1\n",
    "            WHEN Team_2_Goals > Team_1_Goals THEN Team_2\n",
    "            ELSE CASE WHEN rand() > 0.5 THEN Team_1 ELSE Team_2 END\n",
    "        END AS Winner\n",
    "    FROM round_16_teams\n",
    ");\n",
    "SELECT * FROM round_16_matches;"
   ]
  },
  {
   "cell_type": "code",
   "execution_count": 0,
   "metadata": {
    "application/vnd.databricks.v1+cell": {
     "cellMetadata": {
      "byteLimit": 2048000,
      "implicitDf": true,
      "rowLimit": 10000
     },
     "inputWidgets": {},
     "nuid": "044b83bf-d033-4567-825f-f0aaad059c11",
     "showTitle": false,
     "title": ""
    }
   },
   "outputs": [],
   "source": [
    "# %sql\n",
    "# CREATE or replace TABLE QF_teams(\n",
    "#   M_ID INT,\n",
    "#   Team_1 VARCHAR(25),\n",
    "#   Team_2 VARCHAR(25)\n",
    "# );"
   ]
  },
  {
   "cell_type": "code",
   "execution_count": 0,
   "metadata": {
    "application/vnd.databricks.v1+cell": {
     "cellMetadata": {
      "byteLimit": 2048000,
      "implicitDf": true,
      "rowLimit": 10000
     },
     "inputWidgets": {},
     "nuid": "4a6675c7-28d4-4ded-a7d0-aeeb46d8b5b3",
     "showTitle": false,
     "title": ""
    }
   },
   "outputs": [],
   "source": [
    "# %sql\n",
    "# INSERT INTO QF_teams (\n",
    "#         SELECT 1 AS M_ID, \n",
    "#                (SELECT Winner FROM round_16_matches WHERE Match = 'RS 1') AS Team_1,\n",
    "#                (SELECT Winner FROM round_16_matches WHERE Match = 'RS 2') AS Team_2\n",
    "#         UNION ALL\n",
    "#         SELECT 2 AS M_ID,  \n",
    "#                (SELECT Winner FROM round_16_matches WHERE Match = 'RS 3') AS Team_1,\n",
    "#                (SELECT Winner FROM round_16_matches WHERE Match = 'RS 4') AS Team_2\n",
    "#         UNION ALL\n",
    "#         SELECT 3 AS M_ID,  \n",
    "#                (SELECT Winner FROM round_16_matches WHERE Match = 'RS 5') AS Team_1,\n",
    "#                (SELECT Winner FROM round_16_matches WHERE Match = 'RS 6') AS Team_2\n",
    "#         UNION ALL\n",
    "#         SELECT 4 AS M_ID, \n",
    "#                (SELECT Winner FROM round_16_matches WHERE Match = 'RS 7') AS Team_1,\n",
    "#                (SELECT Winner FROM round_16_matches WHERE Match = 'RS 8') AS Team_2 \n",
    "#         FROM round_16_matches\n",
    "# );"
   ]
  },
  {
   "cell_type": "code",
   "execution_count": 0,
   "metadata": {
    "application/vnd.databricks.v1+cell": {
     "cellMetadata": {
      "byteLimit": 2048000,
      "implicitDf": true,
      "rowLimit": 10000
     },
     "inputWidgets": {},
     "nuid": "0b598635-07a2-4aee-8f0a-f91377560f7b",
     "showTitle": false,
     "title": ""
    }
   },
   "outputs": [],
   "source": [
    "# %sql\n",
    "# select * from QF_teams;"
   ]
  },
  {
   "cell_type": "code",
   "execution_count": 0,
   "metadata": {
    "application/vnd.databricks.v1+cell": {
     "cellMetadata": {
      "byteLimit": 2048000,
      "implicitDf": true,
      "rowLimit": 10000
     },
     "inputWidgets": {},
     "nuid": "f1c320d5-ef66-4e3b-887e-1732349ed25c",
     "showTitle": false,
     "title": ""
    }
   },
   "outputs": [
    {
     "output_type": "display_data",
     "data": {
      "text/html": [
       "<style scoped>\n",
       "  .table-result-container {\n",
       "    max-height: 300px;\n",
       "    overflow: auto;\n",
       "  }\n",
       "  table, th, td {\n",
       "    border: 1px solid black;\n",
       "    border-collapse: collapse;\n",
       "  }\n",
       "  th, td {\n",
       "    padding: 5px;\n",
       "  }\n",
       "  th {\n",
       "    text-align: left;\n",
       "  }\n",
       "</style><div class='table-result-container'><table class='table-result'><thead style='background-color: white'><tr><th>num_affected_rows</th><th>num_inserted_rows</th></tr></thead><tbody><tr><td>4</td><td>4</td></tr></tbody></table></div>"
      ]
     },
     "metadata": {
      "application/vnd.databricks.v1+output": {
       "addedWidgets": {},
       "aggData": [],
       "aggError": "",
       "aggOverflow": false,
       "aggSchema": [],
       "aggSeriesLimitReached": false,
       "aggType": "",
       "arguments": {},
       "columnCustomDisplayInfos": {},
       "data": [
        [
         4,
         4
        ]
       ],
       "datasetInfos": [],
       "dbfsResultPath": null,
       "isJsonSchema": true,
       "metadata": {},
       "overflow": false,
       "plotOptions": {
        "customPlotOptions": {},
        "displayType": "table",
        "pivotAggregation": null,
        "pivotColumns": null,
        "xColumns": null,
        "yColumns": null
       },
       "removedWidgets": [],
       "schema": [
        {
         "metadata": "{}",
         "name": "num_affected_rows",
         "type": "\"long\""
        },
        {
         "metadata": "{}",
         "name": "num_inserted_rows",
         "type": "\"long\""
        }
       ],
       "type": "table"
      }
     },
     "output_type": "display_data"
    }
   ],
   "source": [
    "%sql\n",
    "INSERT INTO round_16_matches (\n",
    "    WITH QuarterFinal AS (\n",
    "        SELECT 'QF 1' AS QFMatch, \n",
    "               (SELECT Winner FROM round_16_matches WHERE Match = 'RS 1') AS Team_1,\n",
    "               (SELECT Winner FROM round_16_matches WHERE Match = 'RS 2') AS Team_2\n",
    "        UNION ALL\n",
    "        SELECT 'QF 2' AS QFMatch, \n",
    "               (SELECT Winner FROM round_16_matches WHERE Match = 'RS 3') AS Team_1,\n",
    "               (SELECT Winner FROM round_16_matches WHERE Match = 'RS 4') AS Team_2\n",
    "        UNION ALL\n",
    "        SELECT 'QF 3' AS QFMatch, \n",
    "               (SELECT Winner FROM round_16_matches WHERE Match = 'RS 5') AS Team_1,\n",
    "               (SELECT Winner FROM round_16_matches WHERE Match = 'RS 6') AS Team_2\n",
    "        UNION ALL\n",
    "        SELECT 'QF 4' AS QFMatch, \n",
    "               (SELECT Winner FROM round_16_matches WHERE Match = 'RS 7') AS Team_1,\n",
    "               (SELECT Winner FROM round_16_matches WHERE Match = 'RS 8') AS Team_2\n",
    "    )\n",
    "    SELECT\n",
    "        QFMatch,\n",
    "        Team_1 AS Team_1_Name,\n",
    "        Team_2 AS Team_2_Name,\n",
    "        ROUND(RAND() * 5) AS Team_1_Goals,\n",
    "        ROUND(RAND() * 5) AS Team_2_Goals,\n",
    "        CASE\n",
    "            WHEN Team_1_Goals > Team_2_Goals THEN Team_1\n",
    "            WHEN Team_2_Goals > Team_1_Goals THEN Team_2\n",
    "            ELSE CASE WHEN rand() > 0.5 THEN Team_1 ELSE Team_2 END\n",
    "        END AS Winner\n",
    "    FROM QuarterFinal\n",
    ");\n"
   ]
  },
  {
   "cell_type": "code",
   "execution_count": 0,
   "metadata": {
    "application/vnd.databricks.v1+cell": {
     "cellMetadata": {
      "byteLimit": 2048000,
      "implicitDf": true,
      "rowLimit": 10000
     },
     "inputWidgets": {},
     "nuid": "530ad732-c894-487e-bd1f-ec3cf42d1d5f",
     "showTitle": false,
     "title": ""
    }
   },
   "outputs": [
    {
     "output_type": "display_data",
     "data": {
      "text/html": [
       "<style scoped>\n",
       "  .table-result-container {\n",
       "    max-height: 300px;\n",
       "    overflow: auto;\n",
       "  }\n",
       "  table, th, td {\n",
       "    border: 1px solid black;\n",
       "    border-collapse: collapse;\n",
       "  }\n",
       "  th, td {\n",
       "    padding: 5px;\n",
       "  }\n",
       "  th {\n",
       "    text-align: left;\n",
       "  }\n",
       "</style><div class='table-result-container'><table class='table-result'><thead style='background-color: white'><tr><th>Match</th><th>Team_1</th><th>Team_2</th><th>Team_1_Goals</th><th>Team_2_Goals</th><th>Winner</th></tr></thead><tbody><tr><td>RS 1</td><td>Italy</td><td>Turkey</td><td>0</td><td>1</td><td>Turkey</td></tr><tr><td>RS 2</td><td>Switzerland</td><td>Serbia</td><td>2</td><td>1</td><td>Switzerland</td></tr><tr><td>RS 3</td><td>Playoff Winner 3</td><td>Hungary</td><td>1</td><td>0</td><td>Playoff Winner 3</td></tr><tr><td>RS 4</td><td>Netherlands</td><td>Belgium</td><td>0</td><td>2</td><td>Belgium</td></tr><tr><td>RS 5</td><td>Romania</td><td>Slovenia</td><td>4</td><td>0</td><td>Romania</td></tr><tr><td>RS 6</td><td>Playoff Winner 1</td><td>Czech Republic</td><td>3</td><td>1</td><td>Playoff Winner 1</td></tr><tr><td>RS 7</td><td>England</td><td>Austria</td><td>2</td><td>3</td><td>Austria</td></tr><tr><td>RS 8</td><td>Scotland</td><td>Albania</td><td>2</td><td>0</td><td>Scotland</td></tr><tr><td>QF 3</td><td>Romania</td><td>Playoff Winner 1</td><td>0</td><td>0</td><td>Playoff Winner 1</td></tr><tr><td>QF 2</td><td>Playoff Winner 3</td><td>Belgium</td><td>2</td><td>2</td><td>Belgium</td></tr><tr><td>QF 1</td><td>Turkey</td><td>Switzerland</td><td>3</td><td>1</td><td>Turkey</td></tr><tr><td>QF 4</td><td>Austria</td><td>Scotland</td><td>4</td><td>5</td><td>Scotland</td></tr></tbody></table></div>"
      ]
     },
     "metadata": {
      "application/vnd.databricks.v1+output": {
       "addedWidgets": {},
       "aggData": [],
       "aggError": "",
       "aggOverflow": false,
       "aggSchema": [],
       "aggSeriesLimitReached": false,
       "aggType": "",
       "arguments": {},
       "columnCustomDisplayInfos": {},
       "data": [
        [
         "RS 1",
         "Italy",
         "Turkey",
         0,
         1,
         "Turkey"
        ],
        [
         "RS 2",
         "Switzerland",
         "Serbia",
         2,
         1,
         "Switzerland"
        ],
        [
         "RS 3",
         "Playoff Winner 3",
         "Hungary",
         1,
         0,
         "Playoff Winner 3"
        ],
        [
         "RS 4",
         "Netherlands",
         "Belgium",
         0,
         2,
         "Belgium"
        ],
        [
         "RS 5",
         "Romania",
         "Slovenia",
         4,
         0,
         "Romania"
        ],
        [
         "RS 6",
         "Playoff Winner 1",
         "Czech Republic",
         3,
         1,
         "Playoff Winner 1"
        ],
        [
         "RS 7",
         "England",
         "Austria",
         2,
         3,
         "Austria"
        ],
        [
         "RS 8",
         "Scotland",
         "Albania",
         2,
         0,
         "Scotland"
        ],
        [
         "QF 3",
         "Romania",
         "Playoff Winner 1",
         0,
         0,
         "Playoff Winner 1"
        ],
        [
         "QF 2",
         "Playoff Winner 3",
         "Belgium",
         2,
         2,
         "Belgium"
        ],
        [
         "QF 1",
         "Turkey",
         "Switzerland",
         3,
         1,
         "Turkey"
        ],
        [
         "QF 4",
         "Austria",
         "Scotland",
         4,
         5,
         "Scotland"
        ]
       ],
       "datasetInfos": [],
       "dbfsResultPath": null,
       "isJsonSchema": true,
       "metadata": {},
       "overflow": false,
       "plotOptions": {
        "customPlotOptions": {},
        "displayType": "table",
        "pivotAggregation": null,
        "pivotColumns": null,
        "xColumns": null,
        "yColumns": null
       },
       "removedWidgets": [],
       "schema": [
        {
         "metadata": "{}",
         "name": "Match",
         "type": "\"string\""
        },
        {
         "metadata": "{\"__CHAR_VARCHAR_TYPE_STRING\":\"varchar(50)\"}",
         "name": "Team_1",
         "type": "\"string\""
        },
        {
         "metadata": "{\"__CHAR_VARCHAR_TYPE_STRING\":\"varchar(50)\"}",
         "name": "Team_2",
         "type": "\"string\""
        },
        {
         "metadata": "{}",
         "name": "Team_1_Goals",
         "type": "\"integer\""
        },
        {
         "metadata": "{}",
         "name": "Team_2_Goals",
         "type": "\"integer\""
        },
        {
         "metadata": "{\"__CHAR_VARCHAR_TYPE_STRING\":\"varchar(50)\"}",
         "name": "Winner",
         "type": "\"string\""
        }
       ],
       "type": "table"
      }
     },
     "output_type": "display_data"
    }
   ],
   "source": [
    "%sql\n",
    "select * from round_16_matches;"
   ]
  },
  {
   "cell_type": "code",
   "execution_count": 0,
   "metadata": {
    "application/vnd.databricks.v1+cell": {
     "cellMetadata": {
      "byteLimit": 2048000,
      "implicitDf": true,
      "rowLimit": 10000
     },
     "inputWidgets": {},
     "nuid": "a5ca4184-308b-48fd-93cc-dd5b2b7c78a4",
     "showTitle": false,
     "title": ""
    }
   },
   "outputs": [
    {
     "output_type": "display_data",
     "data": {
      "text/html": [
       "<style scoped>\n",
       "  .table-result-container {\n",
       "    max-height: 300px;\n",
       "    overflow: auto;\n",
       "  }\n",
       "  table, th, td {\n",
       "    border: 1px solid black;\n",
       "    border-collapse: collapse;\n",
       "  }\n",
       "  th, td {\n",
       "    padding: 5px;\n",
       "  }\n",
       "  th {\n",
       "    text-align: left;\n",
       "  }\n",
       "</style><div class='table-result-container'><table class='table-result'><thead style='background-color: white'><tr><th>num_affected_rows</th><th>num_inserted_rows</th></tr></thead><tbody><tr><td>2</td><td>2</td></tr></tbody></table></div>"
      ]
     },
     "metadata": {
      "application/vnd.databricks.v1+output": {
       "addedWidgets": {},
       "aggData": [],
       "aggError": "",
       "aggOverflow": false,
       "aggSchema": [],
       "aggSeriesLimitReached": false,
       "aggType": "",
       "arguments": {},
       "columnCustomDisplayInfos": {},
       "data": [
        [
         2,
         2
        ]
       ],
       "datasetInfos": [],
       "dbfsResultPath": null,
       "isJsonSchema": true,
       "metadata": {},
       "overflow": false,
       "plotOptions": {
        "customPlotOptions": {},
        "displayType": "table",
        "pivotAggregation": null,
        "pivotColumns": null,
        "xColumns": null,
        "yColumns": null
       },
       "removedWidgets": [],
       "schema": [
        {
         "metadata": "{}",
         "name": "num_affected_rows",
         "type": "\"long\""
        },
        {
         "metadata": "{}",
         "name": "num_inserted_rows",
         "type": "\"long\""
        }
       ],
       "type": "table"
      }
     },
     "output_type": "display_data"
    }
   ],
   "source": [
    "%sql\n",
    "INSERT INTO round_16_matches (\n",
    "    WITH SemiFinal AS (\n",
    "        SELECT 'SF 1' AS SFMatch, \n",
    "               (SELECT Winner FROM round_16_matches WHERE Match = 'QF 1') AS Team_1,\n",
    "               (SELECT Winner FROM round_16_matches WHERE Match = 'QF 2') AS Team_2\n",
    "        UNION ALL\n",
    "        SELECT 'SF 2' AS SFMatch, \n",
    "               (SELECT Winner FROM round_16_matches WHERE Match = 'QF 3') AS Team_1,\n",
    "               (SELECT Winner FROM round_16_matches WHERE Match = 'QF 4') AS Team_2\n",
    "    )\n",
    "    SELECT\n",
    "        SFMatch,\n",
    "        Team_1 AS Team_1_Name,\n",
    "        Team_2 AS Team_2_Name,\n",
    "        ROUND(RAND() * 5) AS Team_1_Goals,\n",
    "        ROUND(RAND() * 5) AS Team_2_Goals,\n",
    "        CASE\n",
    "            WHEN Team_1_Goals > Team_2_Goals THEN Team_1\n",
    "            WHEN Team_2_Goals > Team_1_Goals THEN Team_2\n",
    "            ELSE CASE WHEN rand() > 0.5 THEN Team_1 ELSE Team_2 END\n",
    "        END AS Winner\n",
    "    FROM SemiFinal\n",
    ");"
   ]
  },
  {
   "cell_type": "code",
   "execution_count": 0,
   "metadata": {
    "application/vnd.databricks.v1+cell": {
     "cellMetadata": {
      "byteLimit": 2048000,
      "implicitDf": true,
      "rowLimit": 10000
     },
     "inputWidgets": {},
     "nuid": "c96fef45-53e9-4b96-a7ab-2e682fa99b1d",
     "showTitle": false,
     "title": ""
    }
   },
   "outputs": [
    {
     "output_type": "display_data",
     "data": {
      "text/html": [
       "<style scoped>\n",
       "  .table-result-container {\n",
       "    max-height: 300px;\n",
       "    overflow: auto;\n",
       "  }\n",
       "  table, th, td {\n",
       "    border: 1px solid black;\n",
       "    border-collapse: collapse;\n",
       "  }\n",
       "  th, td {\n",
       "    padding: 5px;\n",
       "  }\n",
       "  th {\n",
       "    text-align: left;\n",
       "  }\n",
       "</style><div class='table-result-container'><table class='table-result'><thead style='background-color: white'><tr><th>Match</th><th>Team_1</th><th>Team_2</th><th>Team_1_Goals</th><th>Team_2_Goals</th><th>Winner</th></tr></thead><tbody><tr><td>RS 1</td><td>Italy</td><td>Turkey</td><td>0</td><td>1</td><td>Turkey</td></tr><tr><td>RS 2</td><td>Switzerland</td><td>Serbia</td><td>2</td><td>1</td><td>Switzerland</td></tr><tr><td>RS 3</td><td>Playoff Winner 3</td><td>Hungary</td><td>1</td><td>0</td><td>Playoff Winner 3</td></tr><tr><td>RS 4</td><td>Netherlands</td><td>Belgium</td><td>0</td><td>2</td><td>Belgium</td></tr><tr><td>RS 5</td><td>Romania</td><td>Slovenia</td><td>4</td><td>0</td><td>Romania</td></tr><tr><td>RS 6</td><td>Playoff Winner 1</td><td>Czech Republic</td><td>3</td><td>1</td><td>Playoff Winner 1</td></tr><tr><td>RS 7</td><td>England</td><td>Austria</td><td>2</td><td>3</td><td>Austria</td></tr><tr><td>RS 8</td><td>Scotland</td><td>Albania</td><td>2</td><td>0</td><td>Scotland</td></tr><tr><td>SF 2</td><td>Playoff Winner 1</td><td>Scotland</td><td>3</td><td>2</td><td>Playoff Winner 1</td></tr><tr><td>QF 3</td><td>Romania</td><td>Playoff Winner 1</td><td>0</td><td>0</td><td>Playoff Winner 1</td></tr><tr><td>QF 2</td><td>Playoff Winner 3</td><td>Belgium</td><td>2</td><td>2</td><td>Belgium</td></tr><tr><td>QF 1</td><td>Turkey</td><td>Switzerland</td><td>3</td><td>1</td><td>Turkey</td></tr><tr><td>QF 4</td><td>Austria</td><td>Scotland</td><td>4</td><td>5</td><td>Scotland</td></tr><tr><td>SF 1</td><td>Turkey</td><td>Belgium</td><td>5</td><td>0</td><td>Turkey</td></tr></tbody></table></div>"
      ]
     },
     "metadata": {
      "application/vnd.databricks.v1+output": {
       "addedWidgets": {},
       "aggData": [],
       "aggError": "",
       "aggOverflow": false,
       "aggSchema": [],
       "aggSeriesLimitReached": false,
       "aggType": "",
       "arguments": {},
       "columnCustomDisplayInfos": {},
       "data": [
        [
         "RS 1",
         "Italy",
         "Turkey",
         0,
         1,
         "Turkey"
        ],
        [
         "RS 2",
         "Switzerland",
         "Serbia",
         2,
         1,
         "Switzerland"
        ],
        [
         "RS 3",
         "Playoff Winner 3",
         "Hungary",
         1,
         0,
         "Playoff Winner 3"
        ],
        [
         "RS 4",
         "Netherlands",
         "Belgium",
         0,
         2,
         "Belgium"
        ],
        [
         "RS 5",
         "Romania",
         "Slovenia",
         4,
         0,
         "Romania"
        ],
        [
         "RS 6",
         "Playoff Winner 1",
         "Czech Republic",
         3,
         1,
         "Playoff Winner 1"
        ],
        [
         "RS 7",
         "England",
         "Austria",
         2,
         3,
         "Austria"
        ],
        [
         "RS 8",
         "Scotland",
         "Albania",
         2,
         0,
         "Scotland"
        ],
        [
         "SF 2",
         "Playoff Winner 1",
         "Scotland",
         3,
         2,
         "Playoff Winner 1"
        ],
        [
         "QF 3",
         "Romania",
         "Playoff Winner 1",
         0,
         0,
         "Playoff Winner 1"
        ],
        [
         "QF 2",
         "Playoff Winner 3",
         "Belgium",
         2,
         2,
         "Belgium"
        ],
        [
         "QF 1",
         "Turkey",
         "Switzerland",
         3,
         1,
         "Turkey"
        ],
        [
         "QF 4",
         "Austria",
         "Scotland",
         4,
         5,
         "Scotland"
        ],
        [
         "SF 1",
         "Turkey",
         "Belgium",
         5,
         0,
         "Turkey"
        ]
       ],
       "datasetInfos": [],
       "dbfsResultPath": null,
       "isJsonSchema": true,
       "metadata": {},
       "overflow": false,
       "plotOptions": {
        "customPlotOptions": {},
        "displayType": "table",
        "pivotAggregation": null,
        "pivotColumns": null,
        "xColumns": null,
        "yColumns": null
       },
       "removedWidgets": [],
       "schema": [
        {
         "metadata": "{}",
         "name": "Match",
         "type": "\"string\""
        },
        {
         "metadata": "{\"__CHAR_VARCHAR_TYPE_STRING\":\"varchar(50)\"}",
         "name": "Team_1",
         "type": "\"string\""
        },
        {
         "metadata": "{\"__CHAR_VARCHAR_TYPE_STRING\":\"varchar(50)\"}",
         "name": "Team_2",
         "type": "\"string\""
        },
        {
         "metadata": "{}",
         "name": "Team_1_Goals",
         "type": "\"integer\""
        },
        {
         "metadata": "{}",
         "name": "Team_2_Goals",
         "type": "\"integer\""
        },
        {
         "metadata": "{\"__CHAR_VARCHAR_TYPE_STRING\":\"varchar(50)\"}",
         "name": "Winner",
         "type": "\"string\""
        }
       ],
       "type": "table"
      }
     },
     "output_type": "display_data"
    }
   ],
   "source": [
    "%sql\n",
    "select * from round_16_matches;"
   ]
  },
  {
   "cell_type": "code",
   "execution_count": 0,
   "metadata": {
    "application/vnd.databricks.v1+cell": {
     "cellMetadata": {
      "byteLimit": 2048000,
      "implicitDf": true,
      "rowLimit": 10000
     },
     "inputWidgets": {},
     "nuid": "1bf29d4e-9110-4991-a54e-bdb351150123",
     "showTitle": false,
     "title": ""
    }
   },
   "outputs": [
    {
     "output_type": "display_data",
     "data": {
      "text/html": [
       "<style scoped>\n",
       "  .table-result-container {\n",
       "    max-height: 300px;\n",
       "    overflow: auto;\n",
       "  }\n",
       "  table, th, td {\n",
       "    border: 1px solid black;\n",
       "    border-collapse: collapse;\n",
       "  }\n",
       "  th, td {\n",
       "    padding: 5px;\n",
       "  }\n",
       "  th {\n",
       "    text-align: left;\n",
       "  }\n",
       "</style><div class='table-result-container'><table class='table-result'><thead style='background-color: white'><tr><th>num_affected_rows</th><th>num_inserted_rows</th></tr></thead><tbody><tr><td>1</td><td>1</td></tr></tbody></table></div>"
      ]
     },
     "metadata": {
      "application/vnd.databricks.v1+output": {
       "addedWidgets": {},
       "aggData": [],
       "aggError": "",
       "aggOverflow": false,
       "aggSchema": [],
       "aggSeriesLimitReached": false,
       "aggType": "",
       "arguments": {},
       "columnCustomDisplayInfos": {},
       "data": [
        [
         1,
         1
        ]
       ],
       "datasetInfos": [],
       "dbfsResultPath": null,
       "isJsonSchema": true,
       "metadata": {},
       "overflow": false,
       "plotOptions": {
        "customPlotOptions": {},
        "displayType": "table",
        "pivotAggregation": null,
        "pivotColumns": null,
        "xColumns": null,
        "yColumns": null
       },
       "removedWidgets": [],
       "schema": [
        {
         "metadata": "{}",
         "name": "num_affected_rows",
         "type": "\"long\""
        },
        {
         "metadata": "{}",
         "name": "num_inserted_rows",
         "type": "\"long\""
        }
       ],
       "type": "table"
      }
     },
     "output_type": "display_data"
    }
   ],
   "source": [
    "%sql\n",
    "INSERT INTO round_16_matches (\n",
    "    WITH SemiFinalLoss AS (\n",
    "        SELECT 'SF 1' AS SFMatch, \n",
    "               (SELECT CASE WHEN Winner = Team_1 THEN Team_2 ELSE Team_1 END FROM round_16_matches WHERE Match = 'SF 1') AS Loss_1,\n",
    "               (SELECT CASE WHEN Winner = Team_1 THEN Team_2 ELSE Team_1 END FROM round_16_matches WHERE Match = 'SF 2') AS Loss_2\n",
    "    ),\n",
    "    ThirdPlace AS (\n",
    "        SELECT\n",
    "            '3rd Place' AS ThirdPlaceMatch,\n",
    "            Loss_1 AS Team_1_Name,\n",
    "            Loss_2 AS Team_2_Name,\n",
    "            ROUND(RAND() * 5) AS Team_1_Goals,\n",
    "            ROUND(RAND() * 5) AS Team_2_Goals,\n",
    "            CASE\n",
    "                WHEN ROUND(RAND()) = 1 THEN Loss_1\n",
    "            WHEN Team_1_Goals > Team_2_Goals THEN Loss_1\n",
    "            WHEN Team_2_Goals > Team_1_Goals THEN Loss_2\n",
    "            ELSE CASE WHEN rand() > 0.5 THEN Loss_1 ELSE Loss_2 END\n",
    "            END AS Winner\n",
    "        FROM SemiFinalLoss\n",
    "    )\n",
    "    SELECT * FROM ThirdPlace\n",
    ");\n"
   ]
  },
  {
   "cell_type": "code",
   "execution_count": 0,
   "metadata": {
    "application/vnd.databricks.v1+cell": {
     "cellMetadata": {
      "byteLimit": 2048000,
      "implicitDf": true,
      "rowLimit": 10000
     },
     "inputWidgets": {},
     "nuid": "8f536876-a46c-463d-88eb-f151da4da590",
     "showTitle": false,
     "title": ""
    }
   },
   "outputs": [
    {
     "output_type": "display_data",
     "data": {
      "text/html": [
       "<style scoped>\n",
       "  .table-result-container {\n",
       "    max-height: 300px;\n",
       "    overflow: auto;\n",
       "  }\n",
       "  table, th, td {\n",
       "    border: 1px solid black;\n",
       "    border-collapse: collapse;\n",
       "  }\n",
       "  th, td {\n",
       "    padding: 5px;\n",
       "  }\n",
       "  th {\n",
       "    text-align: left;\n",
       "  }\n",
       "</style><div class='table-result-container'><table class='table-result'><thead style='background-color: white'><tr><th>Match</th><th>Team_1</th><th>Team_2</th><th>Team_1_Goals</th><th>Team_2_Goals</th><th>Winner</th></tr></thead><tbody><tr><td>RS 1</td><td>Italy</td><td>Turkey</td><td>0</td><td>1</td><td>Turkey</td></tr><tr><td>RS 2</td><td>Switzerland</td><td>Serbia</td><td>2</td><td>1</td><td>Switzerland</td></tr><tr><td>RS 3</td><td>Playoff Winner 3</td><td>Hungary</td><td>1</td><td>0</td><td>Playoff Winner 3</td></tr><tr><td>RS 4</td><td>Netherlands</td><td>Belgium</td><td>0</td><td>2</td><td>Belgium</td></tr><tr><td>RS 5</td><td>Romania</td><td>Slovenia</td><td>4</td><td>0</td><td>Romania</td></tr><tr><td>RS 6</td><td>Playoff Winner 1</td><td>Czech Republic</td><td>3</td><td>1</td><td>Playoff Winner 1</td></tr><tr><td>RS 7</td><td>England</td><td>Austria</td><td>2</td><td>3</td><td>Austria</td></tr><tr><td>RS 8</td><td>Scotland</td><td>Albania</td><td>2</td><td>0</td><td>Scotland</td></tr><tr><td>SF 2</td><td>Playoff Winner 1</td><td>Scotland</td><td>3</td><td>2</td><td>Playoff Winner 1</td></tr><tr><td>QF 3</td><td>Romania</td><td>Playoff Winner 1</td><td>0</td><td>0</td><td>Playoff Winner 1</td></tr><tr><td>QF 2</td><td>Playoff Winner 3</td><td>Belgium</td><td>2</td><td>2</td><td>Belgium</td></tr><tr><td>3rd Place</td><td>Belgium</td><td>Scotland</td><td>1</td><td>5</td><td>Belgium</td></tr><tr><td>QF 1</td><td>Turkey</td><td>Switzerland</td><td>3</td><td>1</td><td>Turkey</td></tr><tr><td>QF 4</td><td>Austria</td><td>Scotland</td><td>4</td><td>5</td><td>Scotland</td></tr><tr><td>SF 1</td><td>Turkey</td><td>Belgium</td><td>5</td><td>0</td><td>Turkey</td></tr></tbody></table></div>"
      ]
     },
     "metadata": {
      "application/vnd.databricks.v1+output": {
       "addedWidgets": {},
       "aggData": [],
       "aggError": "",
       "aggOverflow": false,
       "aggSchema": [],
       "aggSeriesLimitReached": false,
       "aggType": "",
       "arguments": {},
       "columnCustomDisplayInfos": {},
       "data": [
        [
         "RS 1",
         "Italy",
         "Turkey",
         0,
         1,
         "Turkey"
        ],
        [
         "RS 2",
         "Switzerland",
         "Serbia",
         2,
         1,
         "Switzerland"
        ],
        [
         "RS 3",
         "Playoff Winner 3",
         "Hungary",
         1,
         0,
         "Playoff Winner 3"
        ],
        [
         "RS 4",
         "Netherlands",
         "Belgium",
         0,
         2,
         "Belgium"
        ],
        [
         "RS 5",
         "Romania",
         "Slovenia",
         4,
         0,
         "Romania"
        ],
        [
         "RS 6",
         "Playoff Winner 1",
         "Czech Republic",
         3,
         1,
         "Playoff Winner 1"
        ],
        [
         "RS 7",
         "England",
         "Austria",
         2,
         3,
         "Austria"
        ],
        [
         "RS 8",
         "Scotland",
         "Albania",
         2,
         0,
         "Scotland"
        ],
        [
         "SF 2",
         "Playoff Winner 1",
         "Scotland",
         3,
         2,
         "Playoff Winner 1"
        ],
        [
         "QF 3",
         "Romania",
         "Playoff Winner 1",
         0,
         0,
         "Playoff Winner 1"
        ],
        [
         "QF 2",
         "Playoff Winner 3",
         "Belgium",
         2,
         2,
         "Belgium"
        ],
        [
         "3rd Place",
         "Belgium",
         "Scotland",
         1,
         5,
         "Belgium"
        ],
        [
         "QF 1",
         "Turkey",
         "Switzerland",
         3,
         1,
         "Turkey"
        ],
        [
         "QF 4",
         "Austria",
         "Scotland",
         4,
         5,
         "Scotland"
        ],
        [
         "SF 1",
         "Turkey",
         "Belgium",
         5,
         0,
         "Turkey"
        ]
       ],
       "datasetInfos": [],
       "dbfsResultPath": null,
       "isJsonSchema": true,
       "metadata": {},
       "overflow": false,
       "plotOptions": {
        "customPlotOptions": {},
        "displayType": "table",
        "pivotAggregation": null,
        "pivotColumns": null,
        "xColumns": null,
        "yColumns": null
       },
       "removedWidgets": [],
       "schema": [
        {
         "metadata": "{}",
         "name": "Match",
         "type": "\"string\""
        },
        {
         "metadata": "{\"__CHAR_VARCHAR_TYPE_STRING\":\"varchar(50)\"}",
         "name": "Team_1",
         "type": "\"string\""
        },
        {
         "metadata": "{\"__CHAR_VARCHAR_TYPE_STRING\":\"varchar(50)\"}",
         "name": "Team_2",
         "type": "\"string\""
        },
        {
         "metadata": "{}",
         "name": "Team_1_Goals",
         "type": "\"integer\""
        },
        {
         "metadata": "{}",
         "name": "Team_2_Goals",
         "type": "\"integer\""
        },
        {
         "metadata": "{\"__CHAR_VARCHAR_TYPE_STRING\":\"varchar(50)\"}",
         "name": "Winner",
         "type": "\"string\""
        }
       ],
       "type": "table"
      }
     },
     "output_type": "display_data"
    }
   ],
   "source": [
    "%sql\n",
    "select * from round_16_matches;"
   ]
  },
  {
   "cell_type": "code",
   "execution_count": 0,
   "metadata": {
    "application/vnd.databricks.v1+cell": {
     "cellMetadata": {
      "byteLimit": 2048000,
      "implicitDf": true,
      "rowLimit": 10000
     },
     "inputWidgets": {},
     "nuid": "b81637ac-7bc6-425a-9bc1-cd436ab6d0b5",
     "showTitle": false,
     "title": ""
    }
   },
   "outputs": [
    {
     "output_type": "display_data",
     "data": {
      "text/html": [
       "<style scoped>\n",
       "  .table-result-container {\n",
       "    max-height: 300px;\n",
       "    overflow: auto;\n",
       "  }\n",
       "  table, th, td {\n",
       "    border: 1px solid black;\n",
       "    border-collapse: collapse;\n",
       "  }\n",
       "  th, td {\n",
       "    padding: 5px;\n",
       "  }\n",
       "  th {\n",
       "    text-align: left;\n",
       "  }\n",
       "</style><div class='table-result-container'><table class='table-result'><thead style='background-color: white'><tr><th>num_affected_rows</th><th>num_inserted_rows</th></tr></thead><tbody><tr><td>1</td><td>1</td></tr></tbody></table></div>"
      ]
     },
     "metadata": {
      "application/vnd.databricks.v1+output": {
       "addedWidgets": {},
       "aggData": [],
       "aggError": "",
       "aggOverflow": false,
       "aggSchema": [],
       "aggSeriesLimitReached": false,
       "aggType": "",
       "arguments": {},
       "columnCustomDisplayInfos": {},
       "data": [
        [
         1,
         1
        ]
       ],
       "datasetInfos": [],
       "dbfsResultPath": null,
       "isJsonSchema": true,
       "metadata": {},
       "overflow": false,
       "plotOptions": {
        "customPlotOptions": {},
        "displayType": "table",
        "pivotAggregation": null,
        "pivotColumns": null,
        "xColumns": null,
        "yColumns": null
       },
       "removedWidgets": [],
       "schema": [
        {
         "metadata": "{}",
         "name": "num_affected_rows",
         "type": "\"long\""
        },
        {
         "metadata": "{}",
         "name": "num_inserted_rows",
         "type": "\"long\""
        }
       ],
       "type": "table"
      }
     },
     "output_type": "display_data"
    }
   ],
   "source": [
    "%sql\n",
    "INSERT INTO round_16_matches (\n",
    "    WITH FinalMatch AS (\n",
    "        SELECT 'Final' AS FinalMatch,\n",
    "               (SELECT Winner FROM round_16_matches WHERE Match = 'SF 1') AS Team_1,\n",
    "               (SELECT Winner FROM round_16_matches WHERE Match = 'SF 2') AS Team_2\n",
    "    )\n",
    "    SELECT\n",
    "        FinalMatch,\n",
    "        Team_1 AS Team_1_Name,\n",
    "        Team_2 AS Team_2_Name,\n",
    "        ROUND(RAND() * 5) AS Team_1_Goals,\n",
    "        ROUND(RAND() * 5) AS Team_2_Goals,\n",
    "        CASE\n",
    "            WHEN Team_1_Goals > Team_2_Goals THEN Team_1\n",
    "            WHEN Team_2_Goals > Team_1_Goals THEN Team_2\n",
    "            ELSE CASE WHEN rand() > 0.5 THEN Team_1 ELSE Team_2 END\n",
    "        END AS Winner\n",
    "    FROM FinalMatch\n",
    ");"
   ]
  },
  {
   "cell_type": "code",
   "execution_count": 0,
   "metadata": {
    "application/vnd.databricks.v1+cell": {
     "cellMetadata": {
      "byteLimit": 2048000,
      "implicitDf": true,
      "rowLimit": 10000
     },
     "inputWidgets": {},
     "nuid": "94640dbc-917f-4ab0-988d-c4c2fd41695b",
     "showTitle": false,
     "title": ""
    }
   },
   "outputs": [
    {
     "output_type": "display_data",
     "data": {
      "text/html": [
       "<style scoped>\n",
       "  .table-result-container {\n",
       "    max-height: 300px;\n",
       "    overflow: auto;\n",
       "  }\n",
       "  table, th, td {\n",
       "    border: 1px solid black;\n",
       "    border-collapse: collapse;\n",
       "  }\n",
       "  th, td {\n",
       "    padding: 5px;\n",
       "  }\n",
       "  th {\n",
       "    text-align: left;\n",
       "  }\n",
       "</style><div class='table-result-container'><table class='table-result'><thead style='background-color: white'><tr><th>Match</th><th>Team_1</th><th>Team_2</th><th>Team_1_Goals</th><th>Team_2_Goals</th><th>Winner</th></tr></thead><tbody><tr><td>RS 1</td><td>Italy</td><td>Turkey</td><td>0</td><td>1</td><td>Turkey</td></tr><tr><td>RS 2</td><td>Switzerland</td><td>Serbia</td><td>2</td><td>1</td><td>Switzerland</td></tr><tr><td>RS 3</td><td>Playoff Winner 3</td><td>Hungary</td><td>1</td><td>0</td><td>Playoff Winner 3</td></tr><tr><td>RS 4</td><td>Netherlands</td><td>Belgium</td><td>0</td><td>2</td><td>Belgium</td></tr><tr><td>RS 5</td><td>Romania</td><td>Slovenia</td><td>4</td><td>0</td><td>Romania</td></tr><tr><td>RS 6</td><td>Playoff Winner 1</td><td>Czech Republic</td><td>3</td><td>1</td><td>Playoff Winner 1</td></tr><tr><td>RS 7</td><td>England</td><td>Austria</td><td>2</td><td>3</td><td>Austria</td></tr><tr><td>RS 8</td><td>Scotland</td><td>Albania</td><td>2</td><td>0</td><td>Scotland</td></tr><tr><td>SF 2</td><td>Playoff Winner 1</td><td>Scotland</td><td>3</td><td>2</td><td>Playoff Winner 1</td></tr><tr><td>QF 3</td><td>Romania</td><td>Playoff Winner 1</td><td>0</td><td>0</td><td>Playoff Winner 1</td></tr><tr><td>Final</td><td>Turkey</td><td>Playoff Winner 1</td><td>0</td><td>0</td><td>Playoff Winner 1</td></tr><tr><td>QF 2</td><td>Playoff Winner 3</td><td>Belgium</td><td>2</td><td>2</td><td>Belgium</td></tr><tr><td>3rd Place</td><td>Belgium</td><td>Scotland</td><td>1</td><td>5</td><td>Belgium</td></tr><tr><td>QF 1</td><td>Turkey</td><td>Switzerland</td><td>3</td><td>1</td><td>Turkey</td></tr><tr><td>QF 4</td><td>Austria</td><td>Scotland</td><td>4</td><td>5</td><td>Scotland</td></tr><tr><td>SF 1</td><td>Turkey</td><td>Belgium</td><td>5</td><td>0</td><td>Turkey</td></tr></tbody></table></div>"
      ]
     },
     "metadata": {
      "application/vnd.databricks.v1+output": {
       "addedWidgets": {},
       "aggData": [],
       "aggError": "",
       "aggOverflow": false,
       "aggSchema": [],
       "aggSeriesLimitReached": false,
       "aggType": "",
       "arguments": {},
       "columnCustomDisplayInfos": {},
       "data": [
        [
         "RS 1",
         "Italy",
         "Turkey",
         0,
         1,
         "Turkey"
        ],
        [
         "RS 2",
         "Switzerland",
         "Serbia",
         2,
         1,
         "Switzerland"
        ],
        [
         "RS 3",
         "Playoff Winner 3",
         "Hungary",
         1,
         0,
         "Playoff Winner 3"
        ],
        [
         "RS 4",
         "Netherlands",
         "Belgium",
         0,
         2,
         "Belgium"
        ],
        [
         "RS 5",
         "Romania",
         "Slovenia",
         4,
         0,
         "Romania"
        ],
        [
         "RS 6",
         "Playoff Winner 1",
         "Czech Republic",
         3,
         1,
         "Playoff Winner 1"
        ],
        [
         "RS 7",
         "England",
         "Austria",
         2,
         3,
         "Austria"
        ],
        [
         "RS 8",
         "Scotland",
         "Albania",
         2,
         0,
         "Scotland"
        ],
        [
         "SF 2",
         "Playoff Winner 1",
         "Scotland",
         3,
         2,
         "Playoff Winner 1"
        ],
        [
         "QF 3",
         "Romania",
         "Playoff Winner 1",
         0,
         0,
         "Playoff Winner 1"
        ],
        [
         "Final",
         "Turkey",
         "Playoff Winner 1",
         0,
         0,
         "Playoff Winner 1"
        ],
        [
         "QF 2",
         "Playoff Winner 3",
         "Belgium",
         2,
         2,
         "Belgium"
        ],
        [
         "3rd Place",
         "Belgium",
         "Scotland",
         1,
         5,
         "Belgium"
        ],
        [
         "QF 1",
         "Turkey",
         "Switzerland",
         3,
         1,
         "Turkey"
        ],
        [
         "QF 4",
         "Austria",
         "Scotland",
         4,
         5,
         "Scotland"
        ],
        [
         "SF 1",
         "Turkey",
         "Belgium",
         5,
         0,
         "Turkey"
        ]
       ],
       "datasetInfos": [],
       "dbfsResultPath": null,
       "isJsonSchema": true,
       "metadata": {},
       "overflow": false,
       "plotOptions": {
        "customPlotOptions": {},
        "displayType": "table",
        "pivotAggregation": null,
        "pivotColumns": null,
        "xColumns": null,
        "yColumns": null
       },
       "removedWidgets": [],
       "schema": [
        {
         "metadata": "{}",
         "name": "Match",
         "type": "\"string\""
        },
        {
         "metadata": "{\"__CHAR_VARCHAR_TYPE_STRING\":\"varchar(50)\"}",
         "name": "Team_1",
         "type": "\"string\""
        },
        {
         "metadata": "{\"__CHAR_VARCHAR_TYPE_STRING\":\"varchar(50)\"}",
         "name": "Team_2",
         "type": "\"string\""
        },
        {
         "metadata": "{}",
         "name": "Team_1_Goals",
         "type": "\"integer\""
        },
        {
         "metadata": "{}",
         "name": "Team_2_Goals",
         "type": "\"integer\""
        },
        {
         "metadata": "{\"__CHAR_VARCHAR_TYPE_STRING\":\"varchar(50)\"}",
         "name": "Winner",
         "type": "\"string\""
        }
       ],
       "type": "table"
      }
     },
     "output_type": "display_data"
    }
   ],
   "source": [
    "%sql\n",
    "select * from round_16_matches;"
   ]
  },
  {
   "cell_type": "code",
   "execution_count": 0,
   "metadata": {
    "application/vnd.databricks.v1+cell": {
     "cellMetadata": {
      "byteLimit": 2048000,
      "implicitDf": true,
      "rowLimit": 10000
     },
     "inputWidgets": {},
     "nuid": "bf4a649d-3eea-4fe2-8519-af68250d5e9e",
     "showTitle": false,
     "title": ""
    }
   },
   "outputs": [
    {
     "output_type": "display_data",
     "data": {
      "text/html": [
       "<style scoped>\n",
       "  .table-result-container {\n",
       "    max-height: 300px;\n",
       "    overflow: auto;\n",
       "  }\n",
       "  table, th, td {\n",
       "    border: 1px solid black;\n",
       "    border-collapse: collapse;\n",
       "  }\n",
       "  th, td {\n",
       "    padding: 5px;\n",
       "  }\n",
       "  th {\n",
       "    text-align: left;\n",
       "  }\n",
       "</style><div class='table-result-container'><table class='table-result'><thead style='background-color: white'><tr><th>R16_A</th><th>QF_A</th><th>Semi_Final_A</th><th>Final</th><th>Semi_Final_B</th><th>QF_B</th><th>R16_B</th></tr></thead><tbody><tr><td>RS 1: Italy vs Turkey, 0-1, Winner: Turkey</td><td></td><td></td><td></td><td></td><td></td><td></td></tr><tr><td></td><td></td><td></td><td></td><td></td><td></td><td>RS 5: Romania vs Slovenia, 4-0, Winner: Romania</td></tr><tr><td></td><td>QF 1: Turkey vs Switzerland, 3-1, Winner: Turkey</td><td></td><td></td><td></td><td></td><td></td></tr><tr><td></td><td></td><td></td><td></td><td></td><td>QF 3: Romania vs Playoff Winner 1, 0-0, Winner: Playoff Winner 1</td><td></td></tr><tr><td>RS 2: Switzerland vs Serbia, 2-1, Winner: Switzerland</td><td></td><td></td><td></td><td></td><td></td><td></td></tr><tr><td></td><td></td><td></td><td></td><td></td><td></td><td>RS 6: Playoff Winner 1 vs Czech Republic, 3-1, Winner: Playoff Winner 1</td></tr><tr><td>RS 3: Playoff Winner 3 vs Hungary, 1-0, Winner: Playoff Winner 3</td><td></td><td></td><td></td><td></td><td></td><td></td></tr><tr><td></td><td></td><td></td><td></td><td></td><td></td><td>RS 7: England vs Austria, 2-3, Winner: Austria</td></tr><tr><td></td><td>QF 2: Playoff Winner 3 vs Belgium, 2-2, Winner: Belgium</td><td></td><td></td><td></td><td></td><td></td></tr><tr><td></td><td></td><td></td><td></td><td></td><td>QF 4: Austria vs Scotland, 4-5, Winner: Scotland</td><td></td></tr><tr><td></td><td></td><td></td><td>Final: Turkey vs Playoff Winner 1, 0-0, Winner: Playoff Winner 1</td><td></td><td></td><td></td></tr><tr><td>RS 4: Netherlands vs Belgium, 0-2, Winner: Belgium</td><td></td><td></td><td></td><td></td><td></td><td></td></tr><tr><td></td><td></td><td></td><td></td><td></td><td></td><td>RS 8: Scotland vs Albania, 2-0, Winner: Scotland</td></tr><tr><td></td><td></td><td>SF 1: Turkey vs Belgium, 5-0, Winner: Turkey</td><td></td><td></td><td></td><td></td></tr><tr><td></td><td></td><td></td><td></td><td>SF 2: Playoff Winner 1 vs Scotland, 3-2, Winner: Playoff Winner 1</td><td></td><td></td></tr><tr><td></td><td></td><td></td><td>3rd Place: Belgium vs Scotland, 1-5, Winner: Belgium</td><td></td><td></td><td></td></tr></tbody></table></div>"
      ]
     },
     "metadata": {
      "application/vnd.databricks.v1+output": {
       "addedWidgets": {},
       "aggData": [],
       "aggError": "",
       "aggOverflow": false,
       "aggSchema": [],
       "aggSeriesLimitReached": false,
       "aggType": "",
       "arguments": {},
       "columnCustomDisplayInfos": {},
       "data": [
        [
         "RS 1: Italy vs Turkey, 0-1, Winner: Turkey",
         "",
         "",
         "",
         "",
         "",
         ""
        ],
        [
         "",
         "",
         "",
         "",
         "",
         "",
         "RS 5: Romania vs Slovenia, 4-0, Winner: Romania"
        ],
        [
         "",
         "QF 1: Turkey vs Switzerland, 3-1, Winner: Turkey",
         "",
         "",
         "",
         "",
         ""
        ],
        [
         "",
         "",
         "",
         "",
         "",
         "QF 3: Romania vs Playoff Winner 1, 0-0, Winner: Playoff Winner 1",
         ""
        ],
        [
         "RS 2: Switzerland vs Serbia, 2-1, Winner: Switzerland",
         "",
         "",
         "",
         "",
         "",
         ""
        ],
        [
         "",
         "",
         "",
         "",
         "",
         "",
         "RS 6: Playoff Winner 1 vs Czech Republic, 3-1, Winner: Playoff Winner 1"
        ],
        [
         "RS 3: Playoff Winner 3 vs Hungary, 1-0, Winner: Playoff Winner 3",
         "",
         "",
         "",
         "",
         "",
         ""
        ],
        [
         "",
         "",
         "",
         "",
         "",
         "",
         "RS 7: England vs Austria, 2-3, Winner: Austria"
        ],
        [
         "",
         "QF 2: Playoff Winner 3 vs Belgium, 2-2, Winner: Belgium",
         "",
         "",
         "",
         "",
         ""
        ],
        [
         "",
         "",
         "",
         "",
         "",
         "QF 4: Austria vs Scotland, 4-5, Winner: Scotland",
         ""
        ],
        [
         "",
         "",
         "",
         "Final: Turkey vs Playoff Winner 1, 0-0, Winner: Playoff Winner 1",
         "",
         "",
         ""
        ],
        [
         "RS 4: Netherlands vs Belgium, 0-2, Winner: Belgium",
         "",
         "",
         "",
         "",
         "",
         ""
        ],
        [
         "",
         "",
         "",
         "",
         "",
         "",
         "RS 8: Scotland vs Albania, 2-0, Winner: Scotland"
        ],
        [
         "",
         "",
         "SF 1: Turkey vs Belgium, 5-0, Winner: Turkey",
         "",
         "",
         "",
         ""
        ],
        [
         "",
         "",
         "",
         "",
         "SF 2: Playoff Winner 1 vs Scotland, 3-2, Winner: Playoff Winner 1",
         "",
         ""
        ],
        [
         "",
         "",
         "",
         "3rd Place: Belgium vs Scotland, 1-5, Winner: Belgium",
         "",
         "",
         ""
        ]
       ],
       "datasetInfos": [],
       "dbfsResultPath": null,
       "isJsonSchema": true,
       "metadata": {},
       "overflow": false,
       "plotOptions": {
        "customPlotOptions": {},
        "displayType": "table",
        "pivotAggregation": null,
        "pivotColumns": null,
        "xColumns": null,
        "yColumns": null
       },
       "removedWidgets": [],
       "schema": [
        {
         "metadata": "{}",
         "name": "R16_A",
         "type": "\"string\""
        },
        {
         "metadata": "{}",
         "name": "QF_A",
         "type": "\"string\""
        },
        {
         "metadata": "{}",
         "name": "Semi_Final_A",
         "type": "\"string\""
        },
        {
         "metadata": "{}",
         "name": "Final",
         "type": "\"string\""
        },
        {
         "metadata": "{}",
         "name": "Semi_Final_B",
         "type": "\"string\""
        },
        {
         "metadata": "{}",
         "name": "QF_B",
         "type": "\"string\""
        },
        {
         "metadata": "{}",
         "name": "R16_B",
         "type": "\"string\""
        }
       ],
       "type": "table"
      }
     },
     "output_type": "display_data"
    }
   ],
   "source": [
    "%sql\n",
    "WITH MatchDetails AS (\n",
    "    SELECT \n",
    "      ROW_NUMBER() OVER (ORDER BY Match) AS RowNum,\n",
    "    CASE \n",
    "        WHEN Match IN ('RS 1', 'RS 5') THEN 1\n",
    "        WHEN Match IN ('QF 1', 'QF 3') THEN 2\n",
    "        WHEN Match IN ('RS 2', 'RS 6') THEN 3\n",
    "        WHEN Match IN ('RS 3', 'RS 7') THEN 4\n",
    "        WHEN Match IN ('QF 2', 'QF 4') THEN 5\n",
    "        WHEN Match IN ('RS 4', 'RS 8') THEN 6\n",
    "        WHEN Match = 'SF 1' THEN 6\n",
    "        WHEN Match = 'SF 2' THEN 6\n",
    "        WHEN Match = 'Final' THEN 6\n",
    "        WHEN Match = '3rd Place' THEN 8\n",
    "    END AS ColumnNum,\n",
    "        \n",
    "\n",
    "        CASE \n",
    "            WHEN Match = 'RS 1' THEN CONCAT('RS 1: ', Team_1, ' vs ', Team_2, ', ', Team_1_Goals, '-', Team_2_Goals, ', Winner: ', Winner)\n",
    "            WHEN Match = 'RS 2' THEN CONCAT('RS 2: ', Team_1, ' vs ', Team_2, ', ', Team_1_Goals, '-', Team_2_Goals, ', Winner: ', Winner)\n",
    "            WHEN Match = 'RS 3' THEN CONCAT('RS 3: ', Team_1, ' vs ', Team_2, ', ', Team_1_Goals, '-', Team_2_Goals, ', Winner: ', Winner)\n",
    "            WHEN Match = 'RS 4' THEN CONCAT('RS 4: ', Team_1, ' vs ', Team_2, ', ', Team_1_Goals, '-', Team_2_Goals, ', Winner: ', Winner)\n",
    "            ELSE '' \n",
    "        END AS R16_A,\n",
    "        CASE \n",
    "            WHEN Match = 'QF 1' THEN CONCAT('QF 1: ', Team_1, ' vs ', Team_2, ', ', Team_1_Goals, '-', Team_2_Goals, ', Winner: ', Winner)\n",
    "            WHEN Match = 'QF 2' THEN CONCAT('QF 2: ', Team_1, ' vs ', Team_2, ', ', Team_1_Goals, '-', Team_2_Goals, ', Winner: ', Winner)\n",
    "            ELSE '' \n",
    "        END AS QF_A,\n",
    "        CASE \n",
    "            WHEN Match = 'SF 1' THEN CONCAT('SF 1: ', Team_1, ' vs ', Team_2, ', ', Team_1_Goals, '-', Team_2_Goals, ', Winner: ', Winner)\n",
    "            ELSE '' \n",
    "        END AS Semi_Final_A,\n",
    "        CASE \n",
    "            WHEN Match = 'Final' THEN CONCAT('Final: ', Team_1, ' vs ', Team_2, ', ', Team_1_Goals, '-', Team_2_Goals, ', Winner: ', Winner)\n",
    "            WHEN Match = '3rd Place' THEN CONCAT('3rd Place: ', Team_1, ' vs ', Team_2, ', ', Team_1_Goals, '-', Team_2_Goals, ', Winner: ', Winner)\n",
    "            ELSE '' \n",
    "        END AS Final,\n",
    "        CASE \n",
    "            WHEN Match = 'SF 2' THEN CONCAT('SF 2: ', Team_1, ' vs ', Team_2, ', ', Team_1_Goals, '-', Team_2_Goals, ', Winner: ', Winner)\n",
    "            ELSE '' \n",
    "        END AS Semi_Final_B,\n",
    "        CASE \n",
    "            WHEN Match = 'QF 3' THEN CONCAT('QF 3: ', Team_1, ' vs ', Team_2, ', ', Team_1_Goals, '-', Team_2_Goals, ', Winner: ', Winner)\n",
    "            WHEN Match = 'QF 4' THEN CONCAT('QF 4: ', Team_1, ' vs ', Team_2, ', ', Team_1_Goals, '-', Team_2_Goals, ', Winner: ', Winner)\n",
    "            ELSE '' \n",
    "        END AS QF_B,\n",
    "        CASE \n",
    "            WHEN Match = 'RS 5' THEN CONCAT('RS 5: ', Team_1, ' vs ', Team_2, ', ', Team_1_Goals, '-', Team_2_Goals, ', Winner: ', Winner)\n",
    "            WHEN Match = 'RS 6' THEN CONCAT('RS 6: ', Team_1, ' vs ', Team_2, ', ', Team_1_Goals, '-', Team_2_Goals, ', Winner: ', Winner)\n",
    "            WHEN Match = 'RS 7' THEN CONCAT('RS 7: ', Team_1, ' vs ', Team_2, ', ', Team_1_Goals, '-', Team_2_Goals, ', Winner: ', Winner)\n",
    "            WHEN Match = 'RS 8' THEN CONCAT('RS 8: ', Team_1, ' vs ', Team_2, ', ', Team_1_Goals, '-', Team_2_Goals, ', Winner: ', Winner)\n",
    "            ELSE '' \n",
    "        END AS R16_B\n",
    "\n",
    "\n",
    "    FROM round_16_matches\n",
    "      \n",
    ")\n",
    "\n",
    "SELECT \n",
    " \n",
    "\n",
    "    \n",
    "    R16_A,\n",
    "    QF_A,\n",
    "    Semi_Final_A,\n",
    "    Final,\n",
    "    Semi_Final_B,\n",
    "    QF_B,\n",
    "    R16_B\n",
    "FROM \n",
    "    MatchDetails\n",
    "WHERE\n",
    "    RowNum IS NOT NULL\n",
    "ORDER BY\n",
    "    ColumnNum, RowNum;"
   ]
  },
  {
   "cell_type": "code",
   "execution_count": 0,
   "metadata": {
    "application/vnd.databricks.v1+cell": {
     "cellMetadata": {
      "byteLimit": 2048000,
      "rowLimit": 10000
     },
     "inputWidgets": {},
     "nuid": "776e162f-cc96-43c4-9360-0c090f1ba5af",
     "showTitle": false,
     "title": ""
    }
   },
   "outputs": [],
   "source": []
  }
 ],
 "metadata": {
  "application/vnd.databricks.v1+notebook": {
   "dashboards": [],
   "language": "python",
   "notebookMetadata": {
    "mostRecentlyExecutedCommandWithImplicitDF": {
     "commandId": 3439850594924989,
     "dataframes": [
      "_sqldf"
     ]
    },
    "pythonIndentUnit": 4
   },
   "notebookName": "Euro_Cup_Projection",
   "widgets": {}
  }
 },
 "nbformat": 4,
 "nbformat_minor": 0
}
