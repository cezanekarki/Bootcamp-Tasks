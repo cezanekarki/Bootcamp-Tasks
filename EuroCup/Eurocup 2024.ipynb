{
 "cells": [
  {
   "cell_type": "code",
   "execution_count": 0,
   "metadata": {
    "application/vnd.databricks.v1+cell": {
     "cellMetadata": {
      "byteLimit": 2048000,
      "rowLimit": 10000
     },
     "inputWidgets": {},
     "nuid": "10f0ae52-87ca-4c14-89ad-d9099c90113e",
     "showTitle": false,
     "title": ""
    }
   },
   "outputs": [
    {
     "output_type": "stream",
     "name": "stdout",
     "output_type": "stream",
     "text": [
      "Out[121]: False"
     ]
    }
   ],
   "source": [
    "dbutils.fs.rm(\"dbfs:/user/hive/warehouse/allteamstable2\", True)\n",
    "dbutils.fs.rm(\"dbfs:/user/hive/warehouse/groupstagetable2\", True)\n",
    "dbutils.fs.rm(\"dbfs:/user/hive/warehouse/matchetable2\", True)\n",
    "dbutils.fs.rm(\"dbfs:/user/hive/warehouse/roundof_16\", True)\n",
    "dbutils.fs.rm(\"dbfs:/user/hive/warehouse/third_combo\", True)\n"
   ]
  },
  {
   "cell_type": "code",
   "execution_count": 0,
   "metadata": {
    "application/vnd.databricks.v1+cell": {
     "cellMetadata": {
      "byteLimit": 2048000,
      "implicitDf": true,
      "rowLimit": 10000
     },
     "inputWidgets": {},
     "nuid": "9361784c-413e-4904-8472-355262d7ea17",
     "showTitle": false,
     "title": ""
    }
   },
   "outputs": [
    {
     "output_type": "display_data",
     "data": {
      "text/html": [
       "<style scoped>\n",
       "  .table-result-container {\n",
       "    max-height: 300px;\n",
       "    overflow: auto;\n",
       "  }\n",
       "  table, th, td {\n",
       "    border: 1px solid black;\n",
       "    border-collapse: collapse;\n",
       "  }\n",
       "  th, td {\n",
       "    padding: 5px;\n",
       "  }\n",
       "  th {\n",
       "    text-align: left;\n",
       "  }\n",
       "</style><div class='table-result-container'><table class='table-result'><thead style='background-color: white'><tr></tr></thead><tbody></tbody></table></div>"
      ]
     },
     "metadata": {
      "application/vnd.databricks.v1+output": {
       "addedWidgets": {},
       "aggData": [],
       "aggError": "",
       "aggOverflow": false,
       "aggSchema": [],
       "aggSeriesLimitReached": false,
       "aggType": "",
       "arguments": {},
       "columnCustomDisplayInfos": {},
       "data": [],
       "datasetInfos": [],
       "dbfsResultPath": null,
       "isJsonSchema": true,
       "metadata": {},
       "overflow": false,
       "plotOptions": {
        "customPlotOptions": {},
        "displayType": "table",
        "pivotAggregation": null,
        "pivotColumns": null,
        "xColumns": null,
        "yColumns": null
       },
       "removedWidgets": [],
       "schema": [],
       "type": "table"
      }
     },
     "output_type": "display_data"
    }
   ],
   "source": [
    "%sql\n",
    "-- Create TeamTable\n",
    "CREATE TABLE AllTeamsTable2 (\n",
    "    TeamID INT,\n",
    "    TeamName STRING,\n",
    "    GroupName STRING\n",
    ");"
   ]
  },
  {
   "cell_type": "code",
   "execution_count": 0,
   "metadata": {
    "application/vnd.databricks.v1+cell": {
     "cellMetadata": {
      "byteLimit": 2048000,
      "implicitDf": true,
      "rowLimit": 10000
     },
     "inputWidgets": {},
     "nuid": "8e070289-3dc5-42e8-9ccf-b0d1e7880ffa",
     "showTitle": false,
     "title": ""
    }
   },
   "outputs": [
    {
     "output_type": "display_data",
     "data": {
      "text/html": [
       "<style scoped>\n",
       "  .table-result-container {\n",
       "    max-height: 300px;\n",
       "    overflow: auto;\n",
       "  }\n",
       "  table, th, td {\n",
       "    border: 1px solid black;\n",
       "    border-collapse: collapse;\n",
       "  }\n",
       "  th, td {\n",
       "    padding: 5px;\n",
       "  }\n",
       "  th {\n",
       "    text-align: left;\n",
       "  }\n",
       "</style><div class='table-result-container'><table class='table-result'><thead style='background-color: white'><tr><th>num_affected_rows</th><th>num_inserted_rows</th></tr></thead><tbody><tr><td>24</td><td>24</td></tr></tbody></table></div>"
      ]
     },
     "metadata": {
      "application/vnd.databricks.v1+output": {
       "addedWidgets": {},
       "aggData": [],
       "aggError": "",
       "aggOverflow": false,
       "aggSchema": [],
       "aggSeriesLimitReached": false,
       "aggType": "",
       "arguments": {},
       "columnCustomDisplayInfos": {},
       "data": [
        [
         24,
         24
        ]
       ],
       "datasetInfos": [],
       "dbfsResultPath": null,
       "isJsonSchema": true,
       "metadata": {},
       "overflow": false,
       "plotOptions": {
        "customPlotOptions": {},
        "displayType": "table",
        "pivotAggregation": null,
        "pivotColumns": null,
        "xColumns": null,
        "yColumns": null
       },
       "removedWidgets": [],
       "schema": [
        {
         "metadata": "{}",
         "name": "num_affected_rows",
         "type": "\"long\""
        },
        {
         "metadata": "{}",
         "name": "num_inserted_rows",
         "type": "\"long\""
        }
       ],
       "type": "table"
      }
     },
     "output_type": "display_data"
    }
   ],
   "source": [
    "%sql\n",
    "-- Insert data into TeamTable\n",
    "INSERT INTO AllTeamsTable2 VALUES\n",
    "(1, 'Germany', 'A'),\n",
    "  (2, 'Scotland', 'A'),\n",
    "  (3, 'Hungary', 'A'),\n",
    "  (4, 'Switzerland', 'A'),\n",
    "  (5, 'Spain', 'B'),\n",
    "  (6, 'Croatia', 'B'),\n",
    "  (7, 'Italy', 'B'),\n",
    "  (8, 'Albania', 'B'),\n",
    "  (9, 'Slovenia', 'C'),\n",
    "  (10, 'Denmark', 'C'),\n",
    "  (11, 'Serbia', 'C'),\n",
    "  (12, 'England', 'C'),\n",
    "  (13, 'Poland', 'D'),\n",
    "  (14, 'Netherlands', 'D'),\n",
    "  (15, 'Austria', 'D'),\n",
    "  (16, 'France', 'D'),\n",
    "  (17, 'Belgium', 'E'),\n",
    "  (18, 'Slovakia', 'E'),\n",
    "  (19, 'Romania', 'E'),\n",
    "  (20, 'Ukraine', 'E'),\n",
    "  (21, 'Türkiye', 'F'),\n",
    "  (22, 'Greece', 'F'),\n",
    "  (23, 'Portugal', 'F'),\n",
    "  (24, 'Czech', 'F');\n"
   ]
  },
  {
   "cell_type": "code",
   "execution_count": 0,
   "metadata": {
    "application/vnd.databricks.v1+cell": {
     "cellMetadata": {
      "byteLimit": 2048000,
      "implicitDf": true,
      "rowLimit": 10000
     },
     "inputWidgets": {},
     "nuid": "3f85ee18-6b2e-4876-aea3-23f2ede3f795",
     "showTitle": false,
     "title": ""
    }
   },
   "outputs": [
    {
     "output_type": "display_data",
     "data": {
      "text/html": [
       "<style scoped>\n",
       "  .table-result-container {\n",
       "    max-height: 300px;\n",
       "    overflow: auto;\n",
       "  }\n",
       "  table, th, td {\n",
       "    border: 1px solid black;\n",
       "    border-collapse: collapse;\n",
       "  }\n",
       "  th, td {\n",
       "    padding: 5px;\n",
       "  }\n",
       "  th {\n",
       "    text-align: left;\n",
       "  }\n",
       "</style><div class='table-result-container'><table class='table-result'><thead style='background-color: white'><tr><th>TeamID</th><th>TeamName</th><th>GroupName</th></tr></thead><tbody><tr><td>1</td><td>Germany</td><td>A</td></tr><tr><td>2</td><td>Scotland</td><td>A</td></tr><tr><td>3</td><td>Hungary</td><td>A</td></tr><tr><td>4</td><td>Switzerland</td><td>A</td></tr><tr><td>5</td><td>Spain</td><td>B</td></tr><tr><td>6</td><td>Croatia</td><td>B</td></tr><tr><td>7</td><td>Italy</td><td>B</td></tr><tr><td>8</td><td>Albania</td><td>B</td></tr><tr><td>9</td><td>Slovenia</td><td>C</td></tr><tr><td>10</td><td>Denmark</td><td>C</td></tr><tr><td>11</td><td>Serbia</td><td>C</td></tr><tr><td>12</td><td>England</td><td>C</td></tr><tr><td>13</td><td>Poland</td><td>D</td></tr><tr><td>14</td><td>Netherlands</td><td>D</td></tr><tr><td>15</td><td>Austria</td><td>D</td></tr><tr><td>16</td><td>France</td><td>D</td></tr><tr><td>17</td><td>Belgium</td><td>E</td></tr><tr><td>18</td><td>Slovakia</td><td>E</td></tr><tr><td>19</td><td>Romania</td><td>E</td></tr><tr><td>20</td><td>Ukraine</td><td>E</td></tr><tr><td>21</td><td>Türkiye</td><td>F</td></tr><tr><td>22</td><td>Greece</td><td>F</td></tr><tr><td>23</td><td>Portugal</td><td>F</td></tr><tr><td>24</td><td>Czech</td><td>F</td></tr></tbody></table></div>"
      ]
     },
     "metadata": {
      "application/vnd.databricks.v1+output": {
       "addedWidgets": {},
       "aggData": [],
       "aggError": "",
       "aggOverflow": false,
       "aggSchema": [],
       "aggSeriesLimitReached": false,
       "aggType": "",
       "arguments": {},
       "columnCustomDisplayInfos": {},
       "data": [
        [
         1,
         "Germany",
         "A"
        ],
        [
         2,
         "Scotland",
         "A"
        ],
        [
         3,
         "Hungary",
         "A"
        ],
        [
         4,
         "Switzerland",
         "A"
        ],
        [
         5,
         "Spain",
         "B"
        ],
        [
         6,
         "Croatia",
         "B"
        ],
        [
         7,
         "Italy",
         "B"
        ],
        [
         8,
         "Albania",
         "B"
        ],
        [
         9,
         "Slovenia",
         "C"
        ],
        [
         10,
         "Denmark",
         "C"
        ],
        [
         11,
         "Serbia",
         "C"
        ],
        [
         12,
         "England",
         "C"
        ],
        [
         13,
         "Poland",
         "D"
        ],
        [
         14,
         "Netherlands",
         "D"
        ],
        [
         15,
         "Austria",
         "D"
        ],
        [
         16,
         "France",
         "D"
        ],
        [
         17,
         "Belgium",
         "E"
        ],
        [
         18,
         "Slovakia",
         "E"
        ],
        [
         19,
         "Romania",
         "E"
        ],
        [
         20,
         "Ukraine",
         "E"
        ],
        [
         21,
         "Türkiye",
         "F"
        ],
        [
         22,
         "Greece",
         "F"
        ],
        [
         23,
         "Portugal",
         "F"
        ],
        [
         24,
         "Czech",
         "F"
        ]
       ],
       "datasetInfos": [],
       "dbfsResultPath": null,
       "isJsonSchema": true,
       "metadata": {},
       "overflow": false,
       "plotOptions": {
        "customPlotOptions": {},
        "displayType": "table",
        "pivotAggregation": null,
        "pivotColumns": null,
        "xColumns": null,
        "yColumns": null
       },
       "removedWidgets": [],
       "schema": [
        {
         "metadata": "{}",
         "name": "TeamID",
         "type": "\"integer\""
        },
        {
         "metadata": "{}",
         "name": "TeamName",
         "type": "\"string\""
        },
        {
         "metadata": "{}",
         "name": "GroupName",
         "type": "\"string\""
        }
       ],
       "type": "table"
      }
     },
     "output_type": "display_data"
    }
   ],
   "source": [
    "%sql\n",
    "select * from allteamstable2"
   ]
  },
  {
   "cell_type": "code",
   "execution_count": 0,
   "metadata": {
    "application/vnd.databricks.v1+cell": {
     "cellMetadata": {
      "byteLimit": 2048000,
      "implicitDf": true,
      "rowLimit": 10000
     },
     "inputWidgets": {},
     "nuid": "0b40f9c7-5bfe-48b7-838e-320b0349fb49",
     "showTitle": false,
     "title": ""
    }
   },
   "outputs": [
    {
     "output_type": "display_data",
     "data": {
      "text/html": [
       "<style scoped>\n",
       "  .table-result-container {\n",
       "    max-height: 300px;\n",
       "    overflow: auto;\n",
       "  }\n",
       "  table, th, td {\n",
       "    border: 1px solid black;\n",
       "    border-collapse: collapse;\n",
       "  }\n",
       "  th, td {\n",
       "    padding: 5px;\n",
       "  }\n",
       "  th {\n",
       "    text-align: left;\n",
       "  }\n",
       "</style><div class='table-result-container'><table class='table-result'><thead style='background-color: white'><tr></tr></thead><tbody></tbody></table></div>"
      ]
     },
     "metadata": {
      "application/vnd.databricks.v1+output": {
       "addedWidgets": {},
       "aggData": [],
       "aggError": "",
       "aggOverflow": false,
       "aggSchema": [],
       "aggSeriesLimitReached": false,
       "aggType": "",
       "arguments": {},
       "columnCustomDisplayInfos": {},
       "data": [],
       "datasetInfos": [],
       "dbfsResultPath": null,
       "isJsonSchema": true,
       "metadata": {},
       "overflow": false,
       "plotOptions": {
        "customPlotOptions": {},
        "displayType": "table",
        "pivotAggregation": null,
        "pivotColumns": null,
        "xColumns": null,
        "yColumns": null
       },
       "removedWidgets": [],
       "schema": [],
       "type": "table"
      }
     },
     "output_type": "display_data"
    }
   ],
   "source": [
    "%sql\n",
    "-- Create GroupStageTable\n",
    "CREATE TABLE GroupStageTable2 (\n",
    "    TeamName STRING,\n",
    "    GroupName STRING,\n",
    "    MatchesPlayed INT,\n",
    "    Wins INT,\n",
    "    Draws INT,\n",
    "    Losses INT,\n",
    "    GoalsFor INT,\n",
    "    GoalsAgainst INT,\n",
    "    GoalDifference INT,\n",
    "    Points INT\n",
    ");\n",
    "\n",
    "\n"
   ]
  },
  {
   "cell_type": "code",
   "execution_count": 0,
   "metadata": {
    "application/vnd.databricks.v1+cell": {
     "cellMetadata": {
      "byteLimit": 2048000,
      "implicitDf": true,
      "rowLimit": 10000
     },
     "inputWidgets": {},
     "nuid": "92c3d8cb-3aa5-4408-bcbc-f26d6b0fe522",
     "showTitle": false,
     "title": ""
    }
   },
   "outputs": [
    {
     "output_type": "display_data",
     "data": {
      "text/html": [
       "<style scoped>\n",
       "  .table-result-container {\n",
       "    max-height: 300px;\n",
       "    overflow: auto;\n",
       "  }\n",
       "  table, th, td {\n",
       "    border: 1px solid black;\n",
       "    border-collapse: collapse;\n",
       "  }\n",
       "  th, td {\n",
       "    padding: 5px;\n",
       "  }\n",
       "  th {\n",
       "    text-align: left;\n",
       "  }\n",
       "</style><div class='table-result-container'><table class='table-result'><thead style='background-color: white'><tr></tr></thead><tbody></tbody></table></div>"
      ]
     },
     "metadata": {
      "application/vnd.databricks.v1+output": {
       "addedWidgets": {},
       "aggData": [],
       "aggError": "",
       "aggOverflow": false,
       "aggSchema": [],
       "aggSeriesLimitReached": false,
       "aggType": "",
       "arguments": {},
       "columnCustomDisplayInfos": {},
       "data": [],
       "datasetInfos": [],
       "dbfsResultPath": null,
       "isJsonSchema": true,
       "metadata": {},
       "overflow": false,
       "plotOptions": {
        "customPlotOptions": {},
        "displayType": "table",
        "pivotAggregation": null,
        "pivotColumns": null,
        "xColumns": null,
        "yColumns": null
       },
       "removedWidgets": [],
       "schema": [],
       "type": "table"
      }
     },
     "output_type": "display_data"
    }
   ],
   "source": [
    "%sql\n",
    "CREATE TABLE matcheTable2 (\n",
    "  MatchId INTEGER,\n",
    "  Team1 VARCHAR(255),\n",
    "  Team2 VARCHAR(255),\n",
    "  Team1Score INTEGER,\n",
    "  Team2Score INTEGER,\n",
    "  Result VARCHAR(255),\n",
    "  Stage VARCHAR(255)\n",
    ");"
   ]
  },
  {
   "cell_type": "code",
   "execution_count": 0,
   "metadata": {
    "application/vnd.databricks.v1+cell": {
     "cellMetadata": {
      "byteLimit": 2048000,
      "implicitDf": true,
      "rowLimit": 10000
     },
     "inputWidgets": {},
     "nuid": "fa55cc75-39bf-4388-bdee-98c92131a204",
     "showTitle": false,
     "title": ""
    }
   },
   "outputs": [
    {
     "output_type": "display_data",
     "data": {
      "text/html": [
       "<style scoped>\n",
       "  .table-result-container {\n",
       "    max-height: 300px;\n",
       "    overflow: auto;\n",
       "  }\n",
       "  table, th, td {\n",
       "    border: 1px solid black;\n",
       "    border-collapse: collapse;\n",
       "  }\n",
       "  th, td {\n",
       "    padding: 5px;\n",
       "  }\n",
       "  th {\n",
       "    text-align: left;\n",
       "  }\n",
       "</style><div class='table-result-container'><table class='table-result'><thead style='background-color: white'><tr><th>num_affected_rows</th><th>num_inserted_rows</th></tr></thead><tbody><tr><td>36</td><td>36</td></tr></tbody></table></div>"
      ]
     },
     "metadata": {
      "application/vnd.databricks.v1+output": {
       "addedWidgets": {},
       "aggData": [],
       "aggError": "",
       "aggOverflow": false,
       "aggSchema": [],
       "aggSeriesLimitReached": false,
       "aggType": "",
       "arguments": {},
       "columnCustomDisplayInfos": {},
       "data": [
        [
         36,
         36
        ]
       ],
       "datasetInfos": [],
       "dbfsResultPath": null,
       "isJsonSchema": true,
       "metadata": {},
       "overflow": false,
       "plotOptions": {
        "customPlotOptions": {},
        "displayType": "table",
        "pivotAggregation": null,
        "pivotColumns": null,
        "xColumns": null,
        "yColumns": null
       },
       "removedWidgets": [],
       "schema": [
        {
         "metadata": "{}",
         "name": "num_affected_rows",
         "type": "\"long\""
        },
        {
         "metadata": "{}",
         "name": "num_inserted_rows",
         "type": "\"long\""
        }
       ],
       "type": "table"
      }
     },
     "output_type": "display_data"
    }
   ],
   "source": [
    "%sql\n",
    "INSERT INTO matcheTable2\n",
    "SELECT\n",
    "    ROW_NUMBER()OVER (ORDER BY t1.TeamId) AS MatchId,\n",
    "    t1.TeamName AS Team1,\n",
    "    t2.TeamName AS Team2,\n",
    "    CAST(RAND() * 6 AS INT) AS Team1Score,\n",
    "    CAST(RAND() * 6 AS INT) AS Team2Score,\n",
    "    'draw' AS Result,\n",
    "    'Group' AS Stage\n",
    "FROM\n",
    "    allteamstable2 t1\n",
    "JOIN\n",
    "    allteamstable2 t2\n",
    "ON\n",
    "    t1.TeamID > t2.TeamID\n",
    "    AND t1.GroupName = t2.GroupName\n",
    "    "
   ]
  },
  {
   "cell_type": "code",
   "execution_count": 0,
   "metadata": {
    "application/vnd.databricks.v1+cell": {
     "cellMetadata": {
      "byteLimit": 2048000,
      "implicitDf": true,
      "rowLimit": 10000
     },
     "inputWidgets": {},
     "nuid": "c31e4c24-7e99-4a8c-b7d6-215d1c10fed8",
     "showTitle": false,
     "title": ""
    }
   },
   "outputs": [
    {
     "output_type": "display_data",
     "data": {
      "text/html": [
       "<style scoped>\n",
       "  .table-result-container {\n",
       "    max-height: 300px;\n",
       "    overflow: auto;\n",
       "  }\n",
       "  table, th, td {\n",
       "    border: 1px solid black;\n",
       "    border-collapse: collapse;\n",
       "  }\n",
       "  th, td {\n",
       "    padding: 5px;\n",
       "  }\n",
       "  th {\n",
       "    text-align: left;\n",
       "  }\n",
       "</style><div class='table-result-container'><table class='table-result'><thead style='background-color: white'><tr><th>MatchId</th><th>Team1</th><th>Team2</th><th>Team1Score</th><th>Team2Score</th><th>Result</th><th>Stage</th></tr></thead><tbody><tr><td>1</td><td>Scotland</td><td>Germany</td><td>2</td><td>1</td><td>Scotland</td><td>Group</td></tr><tr><td>2</td><td>Hungary</td><td>Scotland</td><td>0</td><td>0</td><td>draw</td><td>Group</td></tr><tr><td>3</td><td>Hungary</td><td>Germany</td><td>3</td><td>0</td><td>Hungary</td><td>Group</td></tr><tr><td>4</td><td>Switzerland</td><td>Hungary</td><td>2</td><td>4</td><td>Hungary</td><td>Group</td></tr><tr><td>5</td><td>Switzerland</td><td>Scotland</td><td>3</td><td>0</td><td>Switzerland</td><td>Group</td></tr><tr><td>6</td><td>Switzerland</td><td>Germany</td><td>1</td><td>4</td><td>Germany</td><td>Group</td></tr><tr><td>7</td><td>Croatia</td><td>Spain</td><td>3</td><td>3</td><td>draw</td><td>Group</td></tr><tr><td>8</td><td>Italy</td><td>Croatia</td><td>1</td><td>0</td><td>Italy</td><td>Group</td></tr><tr><td>9</td><td>Italy</td><td>Spain</td><td>4</td><td>4</td><td>draw</td><td>Group</td></tr><tr><td>10</td><td>Albania</td><td>Italy</td><td>4</td><td>2</td><td>Albania</td><td>Group</td></tr><tr><td>11</td><td>Albania</td><td>Croatia</td><td>5</td><td>0</td><td>Albania</td><td>Group</td></tr><tr><td>12</td><td>Albania</td><td>Spain</td><td>4</td><td>5</td><td>Spain</td><td>Group</td></tr><tr><td>13</td><td>Denmark</td><td>Slovenia</td><td>4</td><td>4</td><td>draw</td><td>Group</td></tr><tr><td>14</td><td>Serbia</td><td>Denmark</td><td>0</td><td>5</td><td>Denmark</td><td>Group</td></tr><tr><td>15</td><td>Serbia</td><td>Slovenia</td><td>2</td><td>4</td><td>Slovenia</td><td>Group</td></tr><tr><td>16</td><td>England</td><td>Serbia</td><td>5</td><td>1</td><td>England</td><td>Group</td></tr><tr><td>17</td><td>England</td><td>Denmark</td><td>4</td><td>4</td><td>draw</td><td>Group</td></tr><tr><td>18</td><td>England</td><td>Slovenia</td><td>2</td><td>3</td><td>Slovenia</td><td>Group</td></tr><tr><td>19</td><td>Netherlands</td><td>Poland</td><td>0</td><td>0</td><td>draw</td><td>Group</td></tr><tr><td>20</td><td>Austria</td><td>Netherlands</td><td>5</td><td>1</td><td>Austria</td><td>Group</td></tr><tr><td>21</td><td>Austria</td><td>Poland</td><td>1</td><td>5</td><td>Poland</td><td>Group</td></tr><tr><td>22</td><td>France</td><td>Austria</td><td>4</td><td>3</td><td>France</td><td>Group</td></tr><tr><td>23</td><td>France</td><td>Netherlands</td><td>4</td><td>0</td><td>France</td><td>Group</td></tr><tr><td>24</td><td>France</td><td>Poland</td><td>1</td><td>1</td><td>draw</td><td>Group</td></tr><tr><td>25</td><td>Slovakia</td><td>Belgium</td><td>0</td><td>4</td><td>Belgium</td><td>Group</td></tr><tr><td>26</td><td>Romania</td><td>Slovakia</td><td>4</td><td>0</td><td>Romania</td><td>Group</td></tr><tr><td>27</td><td>Romania</td><td>Belgium</td><td>2</td><td>1</td><td>Romania</td><td>Group</td></tr><tr><td>28</td><td>Ukraine</td><td>Romania</td><td>5</td><td>3</td><td>Ukraine</td><td>Group</td></tr><tr><td>29</td><td>Ukraine</td><td>Slovakia</td><td>3</td><td>3</td><td>draw</td><td>Group</td></tr><tr><td>30</td><td>Ukraine</td><td>Belgium</td><td>2</td><td>2</td><td>draw</td><td>Group</td></tr><tr><td>31</td><td>Greece</td><td>Türkiye</td><td>4</td><td>5</td><td>Türkiye</td><td>Group</td></tr><tr><td>32</td><td>Portugal</td><td>Greece</td><td>2</td><td>1</td><td>Portugal</td><td>Group</td></tr><tr><td>33</td><td>Portugal</td><td>Türkiye</td><td>0</td><td>4</td><td>Türkiye</td><td>Group</td></tr><tr><td>34</td><td>Czech</td><td>Portugal</td><td>2</td><td>5</td><td>Portugal</td><td>Group</td></tr><tr><td>35</td><td>Czech</td><td>Greece</td><td>5</td><td>1</td><td>Czech</td><td>Group</td></tr><tr><td>36</td><td>Czech</td><td>Türkiye</td><td>5</td><td>0</td><td>Czech</td><td>Group</td></tr></tbody></table></div>"
      ]
     },
     "metadata": {
      "application/vnd.databricks.v1+output": {
       "addedWidgets": {},
       "aggData": [],
       "aggError": "",
       "aggOverflow": false,
       "aggSchema": [],
       "aggSeriesLimitReached": false,
       "aggType": "",
       "arguments": {},
       "columnCustomDisplayInfos": {},
       "data": [
        [
         1,
         "Scotland",
         "Germany",
         2,
         1,
         "Scotland",
         "Group"
        ],
        [
         2,
         "Hungary",
         "Scotland",
         0,
         0,
         "draw",
         "Group"
        ],
        [
         3,
         "Hungary",
         "Germany",
         3,
         0,
         "Hungary",
         "Group"
        ],
        [
         4,
         "Switzerland",
         "Hungary",
         2,
         4,
         "Hungary",
         "Group"
        ],
        [
         5,
         "Switzerland",
         "Scotland",
         3,
         0,
         "Switzerland",
         "Group"
        ],
        [
         6,
         "Switzerland",
         "Germany",
         1,
         4,
         "Germany",
         "Group"
        ],
        [
         7,
         "Croatia",
         "Spain",
         3,
         3,
         "draw",
         "Group"
        ],
        [
         8,
         "Italy",
         "Croatia",
         1,
         0,
         "Italy",
         "Group"
        ],
        [
         9,
         "Italy",
         "Spain",
         4,
         4,
         "draw",
         "Group"
        ],
        [
         10,
         "Albania",
         "Italy",
         4,
         2,
         "Albania",
         "Group"
        ],
        [
         11,
         "Albania",
         "Croatia",
         5,
         0,
         "Albania",
         "Group"
        ],
        [
         12,
         "Albania",
         "Spain",
         4,
         5,
         "Spain",
         "Group"
        ],
        [
         13,
         "Denmark",
         "Slovenia",
         4,
         4,
         "draw",
         "Group"
        ],
        [
         14,
         "Serbia",
         "Denmark",
         0,
         5,
         "Denmark",
         "Group"
        ],
        [
         15,
         "Serbia",
         "Slovenia",
         2,
         4,
         "Slovenia",
         "Group"
        ],
        [
         16,
         "England",
         "Serbia",
         5,
         1,
         "England",
         "Group"
        ],
        [
         17,
         "England",
         "Denmark",
         4,
         4,
         "draw",
         "Group"
        ],
        [
         18,
         "England",
         "Slovenia",
         2,
         3,
         "Slovenia",
         "Group"
        ],
        [
         19,
         "Netherlands",
         "Poland",
         0,
         0,
         "draw",
         "Group"
        ],
        [
         20,
         "Austria",
         "Netherlands",
         5,
         1,
         "Austria",
         "Group"
        ],
        [
         21,
         "Austria",
         "Poland",
         1,
         5,
         "Poland",
         "Group"
        ],
        [
         22,
         "France",
         "Austria",
         4,
         3,
         "France",
         "Group"
        ],
        [
         23,
         "France",
         "Netherlands",
         4,
         0,
         "France",
         "Group"
        ],
        [
         24,
         "France",
         "Poland",
         1,
         1,
         "draw",
         "Group"
        ],
        [
         25,
         "Slovakia",
         "Belgium",
         0,
         4,
         "Belgium",
         "Group"
        ],
        [
         26,
         "Romania",
         "Slovakia",
         4,
         0,
         "Romania",
         "Group"
        ],
        [
         27,
         "Romania",
         "Belgium",
         2,
         1,
         "Romania",
         "Group"
        ],
        [
         28,
         "Ukraine",
         "Romania",
         5,
         3,
         "Ukraine",
         "Group"
        ],
        [
         29,
         "Ukraine",
         "Slovakia",
         3,
         3,
         "draw",
         "Group"
        ],
        [
         30,
         "Ukraine",
         "Belgium",
         2,
         2,
         "draw",
         "Group"
        ],
        [
         31,
         "Greece",
         "Türkiye",
         4,
         5,
         "Türkiye",
         "Group"
        ],
        [
         32,
         "Portugal",
         "Greece",
         2,
         1,
         "Portugal",
         "Group"
        ],
        [
         33,
         "Portugal",
         "Türkiye",
         0,
         4,
         "Türkiye",
         "Group"
        ],
        [
         34,
         "Czech",
         "Portugal",
         2,
         5,
         "Portugal",
         "Group"
        ],
        [
         35,
         "Czech",
         "Greece",
         5,
         1,
         "Czech",
         "Group"
        ],
        [
         36,
         "Czech",
         "Türkiye",
         5,
         0,
         "Czech",
         "Group"
        ]
       ],
       "datasetInfos": [],
       "dbfsResultPath": null,
       "isJsonSchema": true,
       "metadata": {},
       "overflow": false,
       "plotOptions": {
        "customPlotOptions": {},
        "displayType": "table",
        "pivotAggregation": null,
        "pivotColumns": null,
        "xColumns": null,
        "yColumns": null
       },
       "removedWidgets": [],
       "schema": [
        {
         "metadata": "{}",
         "name": "MatchId",
         "type": "\"integer\""
        },
        {
         "metadata": "{\"__CHAR_VARCHAR_TYPE_STRING\":\"varchar(255)\"}",
         "name": "Team1",
         "type": "\"string\""
        },
        {
         "metadata": "{\"__CHAR_VARCHAR_TYPE_STRING\":\"varchar(255)\"}",
         "name": "Team2",
         "type": "\"string\""
        },
        {
         "metadata": "{}",
         "name": "Team1Score",
         "type": "\"integer\""
        },
        {
         "metadata": "{}",
         "name": "Team2Score",
         "type": "\"integer\""
        },
        {
         "metadata": "{\"__CHAR_VARCHAR_TYPE_STRING\":\"varchar(255)\"}",
         "name": "Result",
         "type": "\"string\""
        },
        {
         "metadata": "{\"__CHAR_VARCHAR_TYPE_STRING\":\"varchar(255)\"}",
         "name": "Stage",
         "type": "\"string\""
        }
       ],
       "type": "table"
      }
     },
     "output_type": "display_data"
    }
   ],
   "source": [
    "%sql\n",
    "UPDATE matcheTable2\n",
    "SET Result = \n",
    "    CASE\n",
    "        WHEN Team1Score > Team2Score THEN Team1\n",
    "        WHEN Team1Score < Team2Score THEN Team2\n",
    "        ELSE 'draw'\n",
    "    END;\n",
    "\n",
    "\n",
    "select * from matcheTable2"
   ]
  },
  {
   "cell_type": "code",
   "execution_count": 0,
   "metadata": {
    "application/vnd.databricks.v1+cell": {
     "cellMetadata": {
      "byteLimit": 2048000,
      "implicitDf": true,
      "rowLimit": 10000
     },
     "inputWidgets": {},
     "nuid": "49479676-aff7-4934-9b68-822fbc64736b",
     "showTitle": false,
     "title": ""
    }
   },
   "outputs": [
    {
     "output_type": "display_data",
     "data": {
      "text/html": [
       "<style scoped>\n",
       "  .table-result-container {\n",
       "    max-height: 300px;\n",
       "    overflow: auto;\n",
       "  }\n",
       "  table, th, td {\n",
       "    border: 1px solid black;\n",
       "    border-collapse: collapse;\n",
       "  }\n",
       "  th, td {\n",
       "    padding: 5px;\n",
       "  }\n",
       "  th {\n",
       "    text-align: left;\n",
       "  }\n",
       "</style><div class='table-result-container'><table class='table-result'><thead style='background-color: white'><tr><th>num_affected_rows</th><th>num_inserted_rows</th></tr></thead><tbody><tr><td>24</td><td>24</td></tr></tbody></table></div>"
      ]
     },
     "metadata": {
      "application/vnd.databricks.v1+output": {
       "addedWidgets": {},
       "aggData": [],
       "aggError": "",
       "aggOverflow": false,
       "aggSchema": [],
       "aggSeriesLimitReached": false,
       "aggType": "",
       "arguments": {},
       "columnCustomDisplayInfos": {},
       "data": [
        [
         24,
         24
        ]
       ],
       "datasetInfos": [],
       "dbfsResultPath": null,
       "isJsonSchema": true,
       "metadata": {},
       "overflow": false,
       "plotOptions": {
        "customPlotOptions": {},
        "displayType": "table",
        "pivotAggregation": null,
        "pivotColumns": null,
        "xColumns": null,
        "yColumns": null
       },
       "removedWidgets": [],
       "schema": [
        {
         "metadata": "{}",
         "name": "num_affected_rows",
         "type": "\"long\""
        },
        {
         "metadata": "{}",
         "name": "num_inserted_rows",
         "type": "\"long\""
        }
       ],
       "type": "table"
      }
     },
     "output_type": "display_data"
    }
   ],
   "source": [
    "%sql\n",
    "INSERT INTO GroupStageTable2\n",
    "SELECT\n",
    "  Team as TeamName,\n",
    "  GroupName as GroupName,\n",
    "  COALESCE(MatchesPlayed, 0) AS MatchesPlayed,\n",
    "  COALESCE(Wins, 0) AS Wins,\n",
    "  COALESCE(Draws, 0) AS Draws,\n",
    "  COALESCE(MatchesPlayed - COALESCE(Wins, 0) - COALESCE(Draws, 0), 0) AS Losses,\n",
    "  COALESCE(GoalsFor, 0) AS GoalsFor,\n",
    "  COALESCE(GoalsAgainst, 0) AS GoalsAgainst,\n",
    "  COALESCE(GoalsFor - GoalsAgainst, 0) AS GoalDifference,\n",
    "  COALESCE(Wins * 3 + Draws, 0) AS Points\n",
    "FROM\n",
    "  allteamstable2\n",
    "LEFT JOIN (\n",
    "  SELECT\n",
    "  Team,\n",
    "  sum(MatchesPlayed) as MatchesPlayed,\n",
    "  sum(Wins) as Wins,\n",
    "  sum(Draws) as Draws,\n",
    "  Sum(GoalsFor) as GoalsFor,\n",
    "  SUM(GoalsAgainst) AS GoalsAgainst\n",
    "  From\n",
    "  (SELECT\n",
    "    Team1 as Team,\n",
    "    COUNT(*) AS MatchesPlayed,\n",
    "    SUM(CASE WHEN Result = Team1 THEN 1 ELSE 0 END) AS Wins,\n",
    "    SUM(CASE WHEN Result = \"draw\" THEN 1 ELSE 0 END) AS Draws,\n",
    "    SUM(Team1Score) AS GoalsFor,\n",
    "    SUM(Team2Score) AS GoalsAgainst\n",
    "  FROM\n",
    "    matcheTable2\n",
    "  WHERE\n",
    "    Stage = 'Group'\n",
    "  GROUP BY\n",
    "    Team1\n",
    "\n",
    "  UNION ALL\n",
    "\n",
    "  SELECT\n",
    "    Team2 as Team,\n",
    "\n",
    "    COUNT(*) AS MatchesPlayed,\n",
    "    SUM(CASE WHEN Result = Team2 THEN 1 ELSE 0 END) AS Wins,\n",
    "    SUM(CASE WHEN Result = \"draw\" THEN 1 ELSE 0 END) AS Draws,\n",
    "    SUM(Team1Score) AS GoalsFor,\n",
    "    SUM(Team2Score) AS GoalsAgainst\n",
    "  FROM\n",
    "    matcheTable2\n",
    "  WHERE\n",
    "    Stage = 'Group'\n",
    "  GROUP BY\n",
    "    Team2\n",
    "  )\n",
    "  GROUP BY\n",
    "    Team\n",
    ") AS MatchStats\n",
    "ON\n",
    "  allteamstable2.TeamName = MatchStats.Team;\n"
   ]
  },
  {
   "cell_type": "code",
   "execution_count": 0,
   "metadata": {
    "application/vnd.databricks.v1+cell": {
     "cellMetadata": {
      "byteLimit": 2048000,
      "implicitDf": true,
      "rowLimit": 10000
     },
     "inputWidgets": {},
     "nuid": "ff4df23f-60ac-477f-83ad-f0eb583e5183",
     "showTitle": false,
     "title": ""
    }
   },
   "outputs": [
    {
     "output_type": "display_data",
     "data": {
      "text/html": [
       "<style scoped>\n",
       "  .table-result-container {\n",
       "    max-height: 300px;\n",
       "    overflow: auto;\n",
       "  }\n",
       "  table, th, td {\n",
       "    border: 1px solid black;\n",
       "    border-collapse: collapse;\n",
       "  }\n",
       "  th, td {\n",
       "    padding: 5px;\n",
       "  }\n",
       "  th {\n",
       "    text-align: left;\n",
       "  }\n",
       "</style><div class='table-result-container'><table class='table-result'><thead style='background-color: white'><tr><th>TeamName</th><th>GroupName</th><th>MatchesPlayed</th><th>Wins</th><th>Draws</th><th>Losses</th><th>GoalsFor</th><th>GoalsAgainst</th><th>GoalDifference</th><th>Points</th></tr></thead><tbody><tr><td>Germany</td><td>A</td><td>3</td><td>1</td><td>0</td><td>2</td><td>6</td><td>5</td><td>1</td><td>3</td></tr><tr><td>Scotland</td><td>A</td><td>3</td><td>1</td><td>1</td><td>1</td><td>5</td><td>1</td><td>4</td><td>4</td></tr><tr><td>Hungary</td><td>A</td><td>3</td><td>2</td><td>1</td><td>0</td><td>5</td><td>4</td><td>1</td><td>7</td></tr><tr><td>Switzerland</td><td>A</td><td>3</td><td>1</td><td>0</td><td>2</td><td>6</td><td>8</td><td>-2</td><td>3</td></tr><tr><td>Spain</td><td>B</td><td>3</td><td>1</td><td>2</td><td>0</td><td>11</td><td>12</td><td>-1</td><td>5</td></tr><tr><td>Croatia</td><td>B</td><td>3</td><td>0</td><td>1</td><td>2</td><td>9</td><td>3</td><td>6</td><td>1</td></tr><tr><td>Italy</td><td>B</td><td>3</td><td>1</td><td>1</td><td>1</td><td>9</td><td>6</td><td>3</td><td>4</td></tr><tr><td>Albania</td><td>B</td><td>3</td><td>2</td><td>0</td><td>1</td><td>13</td><td>7</td><td>6</td><td>6</td></tr><tr><td>Slovenia</td><td>C</td><td>3</td><td>2</td><td>1</td><td>0</td><td>8</td><td>11</td><td>-3</td><td>7</td></tr><tr><td>Denmark</td><td>C</td><td>3</td><td>1</td><td>2</td><td>0</td><td>8</td><td>13</td><td>-5</td><td>5</td></tr><tr><td>Serbia</td><td>C</td><td>3</td><td>0</td><td>0</td><td>3</td><td>7</td><td>10</td><td>-3</td><td>0</td></tr><tr><td>England</td><td>C</td><td>3</td><td>1</td><td>1</td><td>1</td><td>11</td><td>8</td><td>3</td><td>4</td></tr><tr><td>Poland</td><td>D</td><td>3</td><td>1</td><td>2</td><td>0</td><td>2</td><td>6</td><td>-4</td><td>5</td></tr><tr><td>Netherlands</td><td>D</td><td>3</td><td>0</td><td>1</td><td>2</td><td>9</td><td>1</td><td>8</td><td>1</td></tr><tr><td>Austria</td><td>D</td><td>3</td><td>1</td><td>0</td><td>2</td><td>10</td><td>9</td><td>1</td><td>3</td></tr><tr><td>France</td><td>D</td><td>3</td><td>2</td><td>1</td><td>0</td><td>9</td><td>4</td><td>5</td><td>7</td></tr><tr><td>Belgium</td><td>E</td><td>3</td><td>1</td><td>1</td><td>1</td><td>4</td><td>7</td><td>-3</td><td>4</td></tr><tr><td>Slovakia</td><td>E</td><td>3</td><td>0</td><td>1</td><td>2</td><td>7</td><td>7</td><td>0</td><td>1</td></tr><tr><td>Romania</td><td>E</td><td>3</td><td>2</td><td>0</td><td>1</td><td>11</td><td>4</td><td>7</td><td>6</td></tr><tr><td>Ukraine</td><td>E</td><td>3</td><td>1</td><td>2</td><td>0</td><td>10</td><td>8</td><td>2</td><td>5</td></tr><tr><td>Türkiye</td><td>F</td><td>3</td><td>2</td><td>0</td><td>1</td><td>9</td><td>9</td><td>0</td><td>6</td></tr><tr><td>Greece</td><td>F</td><td>3</td><td>0</td><td>0</td><td>3</td><td>11</td><td>7</td><td>4</td><td>0</td></tr><tr><td>Portugal</td><td>F</td><td>3</td><td>2</td><td>0</td><td>1</td><td>4</td><td>10</td><td>-6</td><td>6</td></tr><tr><td>Czech</td><td>F</td><td>3</td><td>2</td><td>0</td><td>1</td><td>12</td><td>6</td><td>6</td><td>6</td></tr></tbody></table></div>"
      ]
     },
     "metadata": {
      "application/vnd.databricks.v1+output": {
       "addedWidgets": {},
       "aggData": [],
       "aggError": "",
       "aggOverflow": false,
       "aggSchema": [],
       "aggSeriesLimitReached": false,
       "aggType": "",
       "arguments": {},
       "columnCustomDisplayInfos": {},
       "data": [
        [
         "Germany",
         "A",
         3,
         1,
         0,
         2,
         6,
         5,
         1,
         3
        ],
        [
         "Scotland",
         "A",
         3,
         1,
         1,
         1,
         5,
         1,
         4,
         4
        ],
        [
         "Hungary",
         "A",
         3,
         2,
         1,
         0,
         5,
         4,
         1,
         7
        ],
        [
         "Switzerland",
         "A",
         3,
         1,
         0,
         2,
         6,
         8,
         -2,
         3
        ],
        [
         "Spain",
         "B",
         3,
         1,
         2,
         0,
         11,
         12,
         -1,
         5
        ],
        [
         "Croatia",
         "B",
         3,
         0,
         1,
         2,
         9,
         3,
         6,
         1
        ],
        [
         "Italy",
         "B",
         3,
         1,
         1,
         1,
         9,
         6,
         3,
         4
        ],
        [
         "Albania",
         "B",
         3,
         2,
         0,
         1,
         13,
         7,
         6,
         6
        ],
        [
         "Slovenia",
         "C",
         3,
         2,
         1,
         0,
         8,
         11,
         -3,
         7
        ],
        [
         "Denmark",
         "C",
         3,
         1,
         2,
         0,
         8,
         13,
         -5,
         5
        ],
        [
         "Serbia",
         "C",
         3,
         0,
         0,
         3,
         7,
         10,
         -3,
         0
        ],
        [
         "England",
         "C",
         3,
         1,
         1,
         1,
         11,
         8,
         3,
         4
        ],
        [
         "Poland",
         "D",
         3,
         1,
         2,
         0,
         2,
         6,
         -4,
         5
        ],
        [
         "Netherlands",
         "D",
         3,
         0,
         1,
         2,
         9,
         1,
         8,
         1
        ],
        [
         "Austria",
         "D",
         3,
         1,
         0,
         2,
         10,
         9,
         1,
         3
        ],
        [
         "France",
         "D",
         3,
         2,
         1,
         0,
         9,
         4,
         5,
         7
        ],
        [
         "Belgium",
         "E",
         3,
         1,
         1,
         1,
         4,
         7,
         -3,
         4
        ],
        [
         "Slovakia",
         "E",
         3,
         0,
         1,
         2,
         7,
         7,
         0,
         1
        ],
        [
         "Romania",
         "E",
         3,
         2,
         0,
         1,
         11,
         4,
         7,
         6
        ],
        [
         "Ukraine",
         "E",
         3,
         1,
         2,
         0,
         10,
         8,
         2,
         5
        ],
        [
         "Türkiye",
         "F",
         3,
         2,
         0,
         1,
         9,
         9,
         0,
         6
        ],
        [
         "Greece",
         "F",
         3,
         0,
         0,
         3,
         11,
         7,
         4,
         0
        ],
        [
         "Portugal",
         "F",
         3,
         2,
         0,
         1,
         4,
         10,
         -6,
         6
        ],
        [
         "Czech",
         "F",
         3,
         2,
         0,
         1,
         12,
         6,
         6,
         6
        ]
       ],
       "datasetInfos": [],
       "dbfsResultPath": null,
       "isJsonSchema": true,
       "metadata": {},
       "overflow": false,
       "plotOptions": {
        "customPlotOptions": {},
        "displayType": "table",
        "pivotAggregation": null,
        "pivotColumns": null,
        "xColumns": null,
        "yColumns": null
       },
       "removedWidgets": [],
       "schema": [
        {
         "metadata": "{}",
         "name": "TeamName",
         "type": "\"string\""
        },
        {
         "metadata": "{}",
         "name": "GroupName",
         "type": "\"string\""
        },
        {
         "metadata": "{}",
         "name": "MatchesPlayed",
         "type": "\"integer\""
        },
        {
         "metadata": "{}",
         "name": "Wins",
         "type": "\"integer\""
        },
        {
         "metadata": "{}",
         "name": "Draws",
         "type": "\"integer\""
        },
        {
         "metadata": "{}",
         "name": "Losses",
         "type": "\"integer\""
        },
        {
         "metadata": "{}",
         "name": "GoalsFor",
         "type": "\"integer\""
        },
        {
         "metadata": "{}",
         "name": "GoalsAgainst",
         "type": "\"integer\""
        },
        {
         "metadata": "{}",
         "name": "GoalDifference",
         "type": "\"integer\""
        },
        {
         "metadata": "{}",
         "name": "Points",
         "type": "\"integer\""
        }
       ],
       "type": "table"
      }
     },
     "output_type": "display_data"
    }
   ],
   "source": [
    "%sql\n",
    "select * from groupstagetable2"
   ]
  },
  {
   "cell_type": "code",
   "execution_count": 0,
   "metadata": {
    "application/vnd.databricks.v1+cell": {
     "cellMetadata": {
      "byteLimit": 2048000,
      "implicitDf": true,
      "rowLimit": 10000
     },
     "inputWidgets": {},
     "nuid": "d3dd6942-3e77-42fa-8697-159473e53f5f",
     "showTitle": false,
     "title": ""
    }
   },
   "outputs": [
    {
     "output_type": "display_data",
     "data": {
      "text/html": [
       "<style scoped>\n",
       "  .table-result-container {\n",
       "    max-height: 300px;\n",
       "    overflow: auto;\n",
       "  }\n",
       "  table, th, td {\n",
       "    border: 1px solid black;\n",
       "    border-collapse: collapse;\n",
       "  }\n",
       "  th, td {\n",
       "    padding: 5px;\n",
       "  }\n",
       "  th {\n",
       "    text-align: left;\n",
       "  }\n",
       "</style><div class='table-result-container'><table class='table-result'><thead style='background-color: white'><tr></tr></thead><tbody></tbody></table></div>"
      ]
     },
     "metadata": {
      "application/vnd.databricks.v1+output": {
       "addedWidgets": {},
       "aggData": [],
       "aggError": "",
       "aggOverflow": false,
       "aggSchema": [],
       "aggSeriesLimitReached": false,
       "aggType": "",
       "arguments": {},
       "columnCustomDisplayInfos": {},
       "data": [],
       "datasetInfos": [],
       "dbfsResultPath": null,
       "isJsonSchema": true,
       "metadata": {},
       "overflow": false,
       "plotOptions": {
        "customPlotOptions": {},
        "displayType": "table",
        "pivotAggregation": null,
        "pivotColumns": null,
        "xColumns": null,
        "yColumns": null
       },
       "removedWidgets": [],
       "schema": [],
       "type": "table"
      }
     },
     "output_type": "display_data"
    }
   ],
   "source": [
    "%sql\n",
    "CREATE TABLE roundOf_16 (\n",
    "  TeamName VARCHAR(255),\n",
    "  Group VARCHAR(255),\n",
    "  Points INTEGER,\n",
    "  RankInGroup INTEGER\n",
    ");"
   ]
  },
  {
   "cell_type": "code",
   "execution_count": 0,
   "metadata": {
    "application/vnd.databricks.v1+cell": {
     "cellMetadata": {
      "byteLimit": 2048000,
      "implicitDf": true,
      "rowLimit": 10000
     },
     "inputWidgets": {},
     "nuid": "3c66e5da-53aa-409c-ab5a-e0507503aa0d",
     "showTitle": false,
     "title": ""
    }
   },
   "outputs": [
    {
     "output_type": "display_data",
     "data": {
      "text/html": [
       "<style scoped>\n",
       "  .table-result-container {\n",
       "    max-height: 300px;\n",
       "    overflow: auto;\n",
       "  }\n",
       "  table, th, td {\n",
       "    border: 1px solid black;\n",
       "    border-collapse: collapse;\n",
       "  }\n",
       "  th, td {\n",
       "    padding: 5px;\n",
       "  }\n",
       "  th {\n",
       "    text-align: left;\n",
       "  }\n",
       "</style><div class='table-result-container'><table class='table-result'><thead style='background-color: white'><tr><th>num_affected_rows</th><th>num_inserted_rows</th></tr></thead><tbody><tr><td>12</td><td>12</td></tr></tbody></table></div>"
      ]
     },
     "metadata": {
      "application/vnd.databricks.v1+output": {
       "addedWidgets": {},
       "aggData": [],
       "aggError": "",
       "aggOverflow": false,
       "aggSchema": [],
       "aggSeriesLimitReached": false,
       "aggType": "",
       "arguments": {},
       "columnCustomDisplayInfos": {},
       "data": [
        [
         12,
         12
        ]
       ],
       "datasetInfos": [],
       "dbfsResultPath": null,
       "isJsonSchema": true,
       "metadata": {},
       "overflow": false,
       "plotOptions": {
        "customPlotOptions": {},
        "displayType": "table",
        "pivotAggregation": null,
        "pivotColumns": null,
        "xColumns": null,
        "yColumns": null
       },
       "removedWidgets": [],
       "schema": [
        {
         "metadata": "{}",
         "name": "num_affected_rows",
         "type": "\"long\""
        },
        {
         "metadata": "{}",
         "name": "num_inserted_rows",
         "type": "\"long\""
        }
       ],
       "type": "table"
      }
     },
     "output_type": "display_data"
    }
   ],
   "source": [
    "%sql\n",
    "\n",
    "WITH RankedTeams AS (\n",
    "    SELECT\n",
    "        G.TeamName,\n",
    "        G.MatchesPlayed,\n",
    "        G.Wins,\n",
    "        G.Draws,\n",
    "        G.Losses,\n",
    "        G.GoalsFor,\n",
    "        G.GoalsAgainst,\n",
    "        G.GoalDifference,\n",
    "        G.Points,\n",
    "        Row_number() OVER (PARTITION BY T.GroupName ORDER BY G.Points DESC, G.GoalDifference DESC, G.GoalsFor DESC) AS RankInGroup\n",
    "    FROM\n",
    "        GroupStageTable2 G\n",
    "        JOIN AllTeamsTable2 T ON G.TeamName = T.TeamName\n",
    ")\n",
    "\n",
    "Insert into roundOf_16 \n",
    "    SELECT\n",
    "        T.TeamName,\n",
    "        T.GroupName,\n",
    "        R.Points,\n",
    "        R.RankInGroup\n",
    "    FROM\n",
    "        AllTeamsTable2 T\n",
    "        JOIN RankedTeams R ON T.TeamName = R.TeamName\n",
    "    WHERE\n",
    "        R.RankInGroup <= 2;\n"
   ]
  },
  {
   "cell_type": "code",
   "execution_count": 0,
   "metadata": {
    "application/vnd.databricks.v1+cell": {
     "cellMetadata": {
      "byteLimit": 2048000,
      "implicitDf": true,
      "rowLimit": 10000
     },
     "inputWidgets": {},
     "nuid": "9f8c7244-abae-4ac1-ad43-1d8de2c75256",
     "showTitle": false,
     "title": ""
    }
   },
   "outputs": [
    {
     "output_type": "display_data",
     "data": {
      "text/html": [
       "<style scoped>\n",
       "  .table-result-container {\n",
       "    max-height: 300px;\n",
       "    overflow: auto;\n",
       "  }\n",
       "  table, th, td {\n",
       "    border: 1px solid black;\n",
       "    border-collapse: collapse;\n",
       "  }\n",
       "  th, td {\n",
       "    padding: 5px;\n",
       "  }\n",
       "  th {\n",
       "    text-align: left;\n",
       "  }\n",
       "</style><div class='table-result-container'><table class='table-result'><thead style='background-color: white'><tr><th>num_affected_rows</th><th>num_inserted_rows</th></tr></thead><tbody><tr><td>4</td><td>4</td></tr></tbody></table></div>"
      ]
     },
     "metadata": {
      "application/vnd.databricks.v1+output": {
       "addedWidgets": {},
       "aggData": [],
       "aggError": "",
       "aggOverflow": false,
       "aggSchema": [],
       "aggSeriesLimitReached": false,
       "aggType": "",
       "arguments": {},
       "columnCustomDisplayInfos": {},
       "data": [
        [
         4,
         4
        ]
       ],
       "datasetInfos": [],
       "dbfsResultPath": null,
       "isJsonSchema": true,
       "metadata": {},
       "overflow": false,
       "plotOptions": {
        "customPlotOptions": {},
        "displayType": "table",
        "pivotAggregation": null,
        "pivotColumns": null,
        "xColumns": null,
        "yColumns": null
       },
       "removedWidgets": [],
       "schema": [
        {
         "metadata": "{}",
         "name": "num_affected_rows",
         "type": "\"long\""
        },
        {
         "metadata": "{}",
         "name": "num_inserted_rows",
         "type": "\"long\""
        }
       ],
       "type": "table"
      }
     },
     "output_type": "display_data"
    }
   ],
   "source": [
    "%sql\n",
    "WITH RankedTeams AS (\n",
    "    SELECT\n",
    "        G.TeamName,\n",
    "        G.MatchesPlayed,\n",
    "        G.Wins,\n",
    "        G.Draws,\n",
    "        G.Losses,\n",
    "        G.GoalsFor,\n",
    "        G.GoalsAgainst,\n",
    "        G.GoalDifference,\n",
    "        G.Points,\n",
    "        T.GroupName,\n",
    "        Row_number() OVER (PARTITION BY T.GroupName ORDER BY G.Points DESC, G.GoalDifference DESC, G.GoalsFor DESC) AS RankInGroup\n",
    "    FROM\n",
    "        GroupStageTable2 G\n",
    "        JOIN AllTeamsTable2 T ON G.TeamName = T.TeamName\n",
    "),\n",
    "RankedThirdPlacedTeams AS (\n",
    "    SELECT\n",
    "        TeamName,\n",
    "        GroupName,\n",
    "        Points,\n",
    "        Row_number() OVER (ORDER BY Points DESC, GoalDifference DESC, GoalsFor DESC) AS RankThirdPlaced\n",
    "    FROM\n",
    "        RankedTeams\n",
    "    WHERE\n",
    "        RankInGroup = 3\n",
    ")\n",
    "\n",
    "INSERT INTO roundOf_16 \n",
    "SELECT\n",
    "    TeamName,\n",
    "    GroupName,\n",
    "    Points,\n",
    "    3\n",
    "FROM\n",
    "    RankedThirdPlacedTeams\n",
    "WHERE\n",
    "    RankThirdPlaced <= 4;\n"
   ]
  },
  {
   "cell_type": "code",
   "execution_count": 0,
   "metadata": {
    "application/vnd.databricks.v1+cell": {
     "cellMetadata": {
      "byteLimit": 2048000,
      "implicitDf": true,
      "rowLimit": 10000
     },
     "inputWidgets": {},
     "nuid": "84131556-304f-44ad-b722-3706997109cb",
     "showTitle": false,
     "title": ""
    }
   },
   "outputs": [
    {
     "output_type": "display_data",
     "data": {
      "text/html": [
       "<style scoped>\n",
       "  .table-result-container {\n",
       "    max-height: 300px;\n",
       "    overflow: auto;\n",
       "  }\n",
       "  table, th, td {\n",
       "    border: 1px solid black;\n",
       "    border-collapse: collapse;\n",
       "  }\n",
       "  th, td {\n",
       "    padding: 5px;\n",
       "  }\n",
       "  th {\n",
       "    text-align: left;\n",
       "  }\n",
       "</style><div class='table-result-container'><table class='table-result'><thead style='background-color: white'><tr><th>TeamName</th><th>Group</th><th>Points</th><th>RankInGroup</th></tr></thead><tbody><tr><td>Hungary</td><td>A</td><td>7</td><td>1</td></tr><tr><td>Scotland</td><td>A</td><td>4</td><td>2</td></tr><tr><td>Albania</td><td>B</td><td>6</td><td>1</td></tr><tr><td>Spain</td><td>B</td><td>5</td><td>2</td></tr><tr><td>Slovenia</td><td>C</td><td>7</td><td>1</td></tr><tr><td>Denmark</td><td>C</td><td>5</td><td>2</td></tr><tr><td>France</td><td>D</td><td>7</td><td>1</td></tr><tr><td>Poland</td><td>D</td><td>5</td><td>2</td></tr><tr><td>Romania</td><td>E</td><td>6</td><td>1</td></tr><tr><td>Ukraine</td><td>E</td><td>5</td><td>2</td></tr><tr><td>Czech</td><td>F</td><td>6</td><td>1</td></tr><tr><td>Türkiye</td><td>F</td><td>6</td><td>2</td></tr><tr><td>Portugal</td><td>F</td><td>6</td><td>3</td></tr><tr><td>England</td><td>C</td><td>4</td><td>3</td></tr><tr><td>Italy</td><td>B</td><td>4</td><td>3</td></tr><tr><td>Belgium</td><td>E</td><td>4</td><td>3</td></tr></tbody></table></div>"
      ]
     },
     "metadata": {
      "application/vnd.databricks.v1+output": {
       "addedWidgets": {},
       "aggData": [],
       "aggError": "",
       "aggOverflow": false,
       "aggSchema": [],
       "aggSeriesLimitReached": false,
       "aggType": "",
       "arguments": {},
       "columnCustomDisplayInfos": {},
       "data": [
        [
         "Hungary",
         "A",
         7,
         1
        ],
        [
         "Scotland",
         "A",
         4,
         2
        ],
        [
         "Albania",
         "B",
         6,
         1
        ],
        [
         "Spain",
         "B",
         5,
         2
        ],
        [
         "Slovenia",
         "C",
         7,
         1
        ],
        [
         "Denmark",
         "C",
         5,
         2
        ],
        [
         "France",
         "D",
         7,
         1
        ],
        [
         "Poland",
         "D",
         5,
         2
        ],
        [
         "Romania",
         "E",
         6,
         1
        ],
        [
         "Ukraine",
         "E",
         5,
         2
        ],
        [
         "Czech",
         "F",
         6,
         1
        ],
        [
         "Türkiye",
         "F",
         6,
         2
        ],
        [
         "Portugal",
         "F",
         6,
         3
        ],
        [
         "England",
         "C",
         4,
         3
        ],
        [
         "Italy",
         "B",
         4,
         3
        ],
        [
         "Belgium",
         "E",
         4,
         3
        ]
       ],
       "datasetInfos": [],
       "dbfsResultPath": null,
       "isJsonSchema": true,
       "metadata": {},
       "overflow": false,
       "plotOptions": {
        "customPlotOptions": {},
        "displayType": "table",
        "pivotAggregation": null,
        "pivotColumns": null,
        "xColumns": null,
        "yColumns": null
       },
       "removedWidgets": [],
       "schema": [
        {
         "metadata": "{\"__CHAR_VARCHAR_TYPE_STRING\":\"varchar(255)\"}",
         "name": "TeamName",
         "type": "\"string\""
        },
        {
         "metadata": "{\"__CHAR_VARCHAR_TYPE_STRING\":\"varchar(255)\"}",
         "name": "Group",
         "type": "\"string\""
        },
        {
         "metadata": "{}",
         "name": "Points",
         "type": "\"integer\""
        },
        {
         "metadata": "{}",
         "name": "RankInGroup",
         "type": "\"integer\""
        }
       ],
       "type": "table"
      }
     },
     "output_type": "display_data"
    }
   ],
   "source": [
    "%sql\n",
    "select * from roundof_16"
   ]
  },
  {
   "cell_type": "markdown",
   "metadata": {
    "application/vnd.databricks.v1+cell": {
     "cellMetadata": {},
     "inputWidgets": {},
     "nuid": "1c4f71a5-a417-4590-9869-87b535d556d6",
     "showTitle": false,
     "title": ""
    }
   },
   "source": [
    "# Third Combination Table\n",
    "The matches for Round of 16 is decided according to the combination retrieved from the following 15 possible combinations."
   ]
  },
  {
   "cell_type": "code",
   "execution_count": 0,
   "metadata": {
    "application/vnd.databricks.v1+cell": {
     "cellMetadata": {
      "byteLimit": 2048000,
      "implicitDf": true,
      "rowLimit": 10000
     },
     "inputWidgets": {},
     "nuid": "d23ff82e-3e52-4dd0-bff6-c86160a07b7b",
     "showTitle": false,
     "title": ""
    }
   },
   "outputs": [
    {
     "output_type": "display_data",
     "data": {
      "text/html": [
       "<style scoped>\n",
       "  .table-result-container {\n",
       "    max-height: 300px;\n",
       "    overflow: auto;\n",
       "  }\n",
       "  table, th, td {\n",
       "    border: 1px solid black;\n",
       "    border-collapse: collapse;\n",
       "  }\n",
       "  th, td {\n",
       "    padding: 5px;\n",
       "  }\n",
       "  th {\n",
       "    text-align: left;\n",
       "  }\n",
       "</style><div class='table-result-container'><table class='table-result'><thead style='background-color: white'><tr><th>ID</th><th>SELECTEDGROUPS</th><th>Team1B</th><th>Team1C</th><th>Team1E</th><th>Team1F</th></tr></thead><tbody><tr><td>1</td><td>ABCD</td><td>A</td><td>D</td><td>B</td><td>C</td></tr><tr><td>2</td><td>ABCE</td><td>A</td><td>E</td><td>B</td><td>C</td></tr><tr><td>3</td><td>ABCF</td><td>A</td><td>F</td><td>B</td><td>C</td></tr><tr><td>4</td><td>ABDE</td><td>D</td><td>E</td><td>A</td><td>B</td></tr><tr><td>5</td><td>ABDF</td><td>D</td><td>F</td><td>A</td><td>B</td></tr><tr><td>6</td><td>ABEF</td><td>E</td><td>F</td><td>B</td><td>A</td></tr><tr><td>7</td><td>ACDE</td><td>E</td><td>D</td><td>C</td><td>A</td></tr><tr><td>8</td><td>ACDF</td><td>F</td><td>D</td><td>C</td><td>A</td></tr><tr><td>9</td><td>ACEF</td><td>E</td><td>F</td><td>C</td><td>A</td></tr><tr><td>10</td><td>ADEF</td><td>E</td><td>F</td><td>D</td><td>A</td></tr><tr><td>11</td><td>BCDE</td><td>E</td><td>D</td><td>B</td><td>C</td></tr><tr><td>12</td><td>BCDF</td><td>F</td><td>D</td><td>C</td><td>B</td></tr><tr><td>13</td><td>BCEF</td><td>F</td><td>E</td><td>C</td><td>B</td></tr><tr><td>14</td><td>BDEF</td><td>F</td><td>E</td><td>D</td><td>B</td></tr><tr><td>15</td><td>CDEF</td><td>F</td><td>E</td><td>D</td><td>C</td></tr></tbody></table></div>"
      ]
     },
     "metadata": {
      "application/vnd.databricks.v1+output": {
       "addedWidgets": {},
       "aggData": [],
       "aggError": "",
       "aggOverflow": false,
       "aggSchema": [],
       "aggSeriesLimitReached": false,
       "aggType": "",
       "arguments": {},
       "columnCustomDisplayInfos": {},
       "data": [
        [
         1,
         "ABCD",
         "A",
         "D",
         "B",
         "C"
        ],
        [
         2,
         "ABCE",
         "A",
         "E",
         "B",
         "C"
        ],
        [
         3,
         "ABCF",
         "A",
         "F",
         "B",
         "C"
        ],
        [
         4,
         "ABDE",
         "D",
         "E",
         "A",
         "B"
        ],
        [
         5,
         "ABDF",
         "D",
         "F",
         "A",
         "B"
        ],
        [
         6,
         "ABEF",
         "E",
         "F",
         "B",
         "A"
        ],
        [
         7,
         "ACDE",
         "E",
         "D",
         "C",
         "A"
        ],
        [
         8,
         "ACDF",
         "F",
         "D",
         "C",
         "A"
        ],
        [
         9,
         "ACEF",
         "E",
         "F",
         "C",
         "A"
        ],
        [
         10,
         "ADEF",
         "E",
         "F",
         "D",
         "A"
        ],
        [
         11,
         "BCDE",
         "E",
         "D",
         "B",
         "C"
        ],
        [
         12,
         "BCDF",
         "F",
         "D",
         "C",
         "B"
        ],
        [
         13,
         "BCEF",
         "F",
         "E",
         "C",
         "B"
        ],
        [
         14,
         "BDEF",
         "F",
         "E",
         "D",
         "B"
        ],
        [
         15,
         "CDEF",
         "F",
         "E",
         "D",
         "C"
        ]
       ],
       "datasetInfos": [],
       "dbfsResultPath": null,
       "isJsonSchema": true,
       "metadata": {},
       "overflow": false,
       "plotOptions": {
        "customPlotOptions": {},
        "displayType": "table",
        "pivotAggregation": null,
        "pivotColumns": null,
        "xColumns": null,
        "yColumns": null
       },
       "removedWidgets": [],
       "schema": [
        {
         "metadata": "{}",
         "name": "ID",
         "type": "\"integer\""
        },
        {
         "metadata": "{\"__CHAR_VARCHAR_TYPE_STRING\":\"varchar(4)\"}",
         "name": "SELECTEDGROUPS",
         "type": "\"string\""
        },
        {
         "metadata": "{\"__CHAR_VARCHAR_TYPE_STRING\":\"char(1)\"}",
         "name": "Team1B",
         "type": "\"string\""
        },
        {
         "metadata": "{\"__CHAR_VARCHAR_TYPE_STRING\":\"char(1)\"}",
         "name": "Team1C",
         "type": "\"string\""
        },
        {
         "metadata": "{\"__CHAR_VARCHAR_TYPE_STRING\":\"char(1)\"}",
         "name": "Team1E",
         "type": "\"string\""
        },
        {
         "metadata": "{\"__CHAR_VARCHAR_TYPE_STRING\":\"char(1)\"}",
         "name": "Team1F",
         "type": "\"string\""
        }
       ],
       "type": "table"
      }
     },
     "output_type": "display_data"
    }
   ],
   "source": [
    "%sql\n",
    "CREATE TABLE third_combo (\n",
    "  ID INTEGER,\n",
    "  SELECTEDGROUPS VARCHAR(4),\n",
    "  Team1B CHAR(1),\n",
    "  Team1C CHAR(1),\n",
    "  Team1E CHAR(1),\n",
    "  Team1F CHAR(1)\n",
    ");\n",
    "\n",
    "INSERT INTO THIRD_COMBO (ID, SELECTEDGROUPS, Team1B, Team1C, Team1E, Team1F) VALUES\n",
    "(1, 'ABCD', 'A', 'D', 'B', 'C'),\n",
    "(2, 'ABCE', 'A', 'E', 'B', 'C'),\n",
    "(3, 'ABCF', 'A', 'F', 'B', 'C'),\n",
    "(4, 'ABDE', 'D', 'E', 'A', 'B'),\n",
    "(5, 'ABDF', 'D', 'F', 'A', 'B'),\n",
    "(6, 'ABEF', 'E', 'F', 'B', 'A'),\n",
    "(7, 'ACDE', 'E', 'D', 'C', 'A'),\n",
    "(8, 'ACDF', 'F', 'D', 'C', 'A'),\n",
    "(9, 'ACEF', 'E', 'F', 'C', 'A'),\n",
    "(10, 'ADEF', 'E', 'F', 'D', 'A'),\n",
    "(11, 'BCDE', 'E', 'D', 'B', 'C'),\n",
    "(12, 'BCDF', 'F', 'D', 'C', 'B'),\n",
    "(13, 'BCEF', 'F', 'E', 'C', 'B'),\n",
    "(14, 'BDEF', 'F', 'E', 'D', 'B'),\n",
    "(15, 'CDEF', 'F', 'E', 'D', 'C');\n",
    "\n",
    "\n",
    "select * from THIRD_COMBO\n"
   ]
  },
  {
   "cell_type": "markdown",
   "metadata": {
    "application/vnd.databricks.v1+cell": {
     "cellMetadata": {
      "byteLimit": 2048000,
      "rowLimit": 10000
     },
     "inputWidgets": {},
     "nuid": "225a629d-466e-41d8-a671-5a9d40234c6f",
     "showTitle": false,
     "title": ""
    }
   },
   "source": [
    "# Round of 16 matches"
   ]
  },
  {
   "cell_type": "code",
   "execution_count": 0,
   "metadata": {
    "application/vnd.databricks.v1+cell": {
     "cellMetadata": {
      "byteLimit": 2048000,
      "implicitDf": true,
      "rowLimit": 10000
     },
     "inputWidgets": {},
     "nuid": "54a6532b-8416-4808-9dce-18df219ea3c9",
     "showTitle": false,
     "title": ""
    }
   },
   "outputs": [
    {
     "output_type": "display_data",
     "data": {
      "text/html": [
       "<style scoped>\n",
       "  .table-result-container {\n",
       "    max-height: 300px;\n",
       "    overflow: auto;\n",
       "  }\n",
       "  table, th, td {\n",
       "    border: 1px solid black;\n",
       "    border-collapse: collapse;\n",
       "  }\n",
       "  th, td {\n",
       "    padding: 5px;\n",
       "  }\n",
       "  th {\n",
       "    text-align: left;\n",
       "  }\n",
       "</style><div class='table-result-container'><table class='table-result'><thead style='background-color: white'><tr><th>num_affected_rows</th></tr></thead><tbody><tr><td>8</td></tr></tbody></table></div>"
      ]
     },
     "metadata": {
      "application/vnd.databricks.v1+output": {
       "addedWidgets": {},
       "aggData": [],
       "aggError": "",
       "aggOverflow": false,
       "aggSchema": [],
       "aggSeriesLimitReached": false,
       "aggType": "",
       "arguments": {},
       "columnCustomDisplayInfos": {},
       "data": [
        [
         8
        ]
       ],
       "datasetInfos": [],
       "dbfsResultPath": null,
       "isJsonSchema": true,
       "metadata": {},
       "overflow": false,
       "plotOptions": {
        "customPlotOptions": {},
        "displayType": "table",
        "pivotAggregation": null,
        "pivotColumns": null,
        "xColumns": null,
        "yColumns": null
       },
       "removedWidgets": [],
       "schema": [
        {
         "metadata": "{}",
         "name": "num_affected_rows",
         "type": "\"long\""
        }
       ],
       "type": "table"
      }
     },
     "output_type": "display_data"
    }
   ],
   "source": [
    "%sql\n",
    "\n",
    "insert into matchetable2(MatchId,\n",
    "  Team1,\n",
    "  Team2,\n",
    "  Team1Score,\n",
    "  Team2Score,\n",
    "  Result,\n",
    "  Stage)\n",
    "With selectedgroup as \n",
    "(\n",
    "    select\n",
    "    CONCAT_WS('', SORT_ARRAY(COLLECT_SET(SUBSTRING(Group, 1, 1)))) AS Result\n",
    "    from roundof_16\n",
    "    where RankInGroup = 3\n",
    "\n",
    "),\n",
    "\n",
    "Selectedgrouptable as\n",
    "(\n",
    "  select * \n",
    "  from third_combo\n",
    "  where third_combo.selectedgroups = (select result from selectedgroup)\n",
    ")\n",
    "\n",
    "SELECT\n",
    "    row_number() over(order by 1) + 36 as MatchId,\n",
    "    r1.TeamName as Team1,\n",
    "    r2.TeamName as Team2,\n",
    "    CAST(RAND() * 6 AS INT) AS Team1Score,\n",
    "    CAST(RAND() * 6 AS INT) AS Team2Score,\n",
    "    'draw' AS Result,\n",
    "    'Round of 16' AS Stage\n",
    "FROM\n",
    "    roundof_16 r1\n",
    "JOIN\n",
    "    roundof_16 r2\n",
    "ON \n",
    "    (r1.group = 'B' AND r1.rankingroup = 1 AND r2.group = (SELECT Team1B FROM selectedgrouptable LIMIT 1) AND r2.rankingroup = 3)\n",
    "UNION ALL\n",
    "\n",
    "SELECT\n",
    "    row_number() over(order by 1) + 37 as MatchId,\n",
    "    r1.TeamName as Team1,\n",
    "    r2.TeamName as Team2,\n",
    "    CAST(RAND() * 6 AS INT) AS Team1Score,\n",
    "    CAST(RAND() * 6 AS INT) AS Team2Score,\n",
    "    'draw' AS Result,\n",
    "    'Round of 16' AS Stage\n",
    "FROM\n",
    "    roundof_16 r1\n",
    "JOIN\n",
    "    roundof_16 r2\n",
    "ON \n",
    "    (r1.group = 'A' AND r1.rankingroup = 1 AND r2.group = 'C' AND r2.rankingroup = 2) \n",
    "UNION ALL\n",
    "\n",
    "SELECT\n",
    "    row_number() over(order by 1) + 38 as MatchId,\n",
    "    r1.TeamName as Team1,\n",
    "    r2.TeamName as Team2,\n",
    "    CAST(RAND() * 6 AS INT) AS Team1Score,\n",
    "    CAST(RAND() * 6 AS INT) AS Team2Score,\n",
    "    'draw' AS Result,\n",
    "    'Round of 16' AS Stage\n",
    "FROM\n",
    "    roundof_16 r1\n",
    "JOIN\n",
    "    roundof_16 r2\n",
    "ON \n",
    "    (r1.group = 'F' AND r1.rankingroup = 1 AND r2.group = (SELECT Team1F FROM selectedgrouptable LIMIT 1) AND r2.rankingroup = 3) \n",
    "\n",
    "UNION ALL\n",
    "\n",
    "SELECT\n",
    "    row_number() over(order by 1) + 39 as MatchId,\n",
    "    r1.TeamName as Team1,\n",
    "    r2.TeamName as Team2,\n",
    "    CAST(RAND() * 6 AS INT) AS Team1Score,\n",
    "    CAST(RAND() * 6 AS INT) AS Team2Score,\n",
    "    'draw' AS Result,\n",
    "    'Round of 16' AS Stage\n",
    "FROM\n",
    "    roundof_16 r1\n",
    "JOIN\n",
    "    roundof_16 r2\n",
    "ON \n",
    "    (r1.group = 'D' AND r1.rankingroup = 2 AND r2.group = 'E' AND r2.rankingroup = 2)     \n",
    "UNION ALL\n",
    "\n",
    "SELECT\n",
    "    row_number() over(order by 1) + 40 as MatchId,\n",
    "    r1.TeamName as Team1,\n",
    "    r2.TeamName as Team2,\n",
    "    CAST(RAND() * 6 AS INT) AS Team1Score,\n",
    "    CAST(RAND() * 6 AS INT) AS Team2Score,\n",
    "    'draw' AS Result,\n",
    "    'Round of 16' AS Stage\n",
    "FROM\n",
    "    roundof_16 r1\n",
    "JOIN\n",
    "    roundof_16 r2\n",
    "ON \n",
    "    (r1.group = 'E' AND r1.rankingroup = 1 AND r2.group = (SELECT Team1E FROM selectedgrouptable LIMIT 1) AND r2.rankingroup = 3)\n",
    "UNION ALL\n",
    "\n",
    "SELECT\n",
    "    row_number() over(order by 1) + 41 as MatchId,\n",
    "    r1.TeamName as Team1,\n",
    "    r2.TeamName as Team2,\n",
    "    CAST(RAND() * 6 AS INT) AS Team1Score,\n",
    "    CAST(RAND() * 6 AS INT) AS Team2Score,\n",
    "    'draw' AS Result,\n",
    "    'Round of 16' AS Stage\n",
    "FROM\n",
    "    roundof_16 r1\n",
    "JOIN\n",
    "    roundof_16 r2\n",
    "ON \n",
    "    (r1.group = 'D' AND r1.rankingroup = 1 AND r2.group = 'F' AND r2.rankingroup = 2)\n",
    "UNION ALL\n",
    "\n",
    "SELECT\n",
    "    row_number() over(order by 1) + 42 as MatchId,\n",
    "    r1.TeamName as Team1,\n",
    "    r2.TeamName as Team2,\n",
    "    CAST(RAND() * 6 AS INT) AS Team1Score,\n",
    "    CAST(RAND() * 6 AS INT) AS Team2Score,\n",
    "    'draw' AS Result,\n",
    "    'Round of 16' AS Stage\n",
    "FROM\n",
    "    roundof_16 r1\n",
    "JOIN\n",
    "    roundof_16 r2\n",
    "ON \n",
    "    (r1.group = 'C' AND r1.rankingroup = 1 AND r2.group = (SELECT Team1C FROM selectedgrouptable LIMIT 1) AND r2.rankingroup = 3)\n",
    "UNION ALL\n",
    "\n",
    "SELECT\n",
    "    row_number() over(order by 1) + 43 as MatchId,\n",
    "    r1.TeamName as Team1,\n",
    "    r2.TeamName as Team2,\n",
    "    CAST(RAND() * 6 AS INT) AS Team1Score,\n",
    "    CAST(RAND() * 6 AS INT) AS Team2Score,\n",
    "    'draw' AS Result,\n",
    "    'Round of 16' AS Stage\n",
    "FROM\n",
    "    roundof_16 r1\n",
    "JOIN\n",
    "    roundof_16 r2\n",
    "ON \n",
    "    (r1.group = 'A' AND r1.rankingroup = 2 AND r2.group = 'B' AND r2.rankingroup = 2);\n",
    "\n",
    "UPDATE matcheTable2\n",
    "SET Result = \n",
    "    CASE\n",
    "        WHEN Team1Score > Team2Score THEN Team1\n",
    "        WHEN Team1Score < Team2Score THEN Team2\n",
    "        ELSE \n",
    "            CASE\n",
    "                WHEN (Team1Score) % 2 = 1 THEN Team1\n",
    "                ELSE Team2\n",
    "            END  \n",
    "    END\n",
    "WHERE Stage = 'Round of 16';\n",
    "\n"
   ]
  },
  {
   "cell_type": "code",
   "execution_count": 0,
   "metadata": {
    "application/vnd.databricks.v1+cell": {
     "cellMetadata": {
      "byteLimit": 2048000,
      "implicitDf": true,
      "rowLimit": 10000
     },
     "inputWidgets": {},
     "nuid": "c1188f0f-4354-4120-bfe8-8aecbf462ae9",
     "showTitle": false,
     "title": ""
    }
   },
   "outputs": [
    {
     "output_type": "display_data",
     "data": {
      "text/html": [
       "<style scoped>\n",
       "  .table-result-container {\n",
       "    max-height: 300px;\n",
       "    overflow: auto;\n",
       "  }\n",
       "  table, th, td {\n",
       "    border: 1px solid black;\n",
       "    border-collapse: collapse;\n",
       "  }\n",
       "  th, td {\n",
       "    padding: 5px;\n",
       "  }\n",
       "  th {\n",
       "    text-align: left;\n",
       "  }\n",
       "</style><div class='table-result-container'><table class='table-result'><thead style='background-color: white'><tr><th>MatchId</th><th>Team1</th><th>Team2</th><th>Team1Score</th><th>Team2Score</th><th>Result</th><th>Stage</th></tr></thead><tbody><tr><td>1</td><td>Scotland</td><td>Germany</td><td>2</td><td>1</td><td>Scotland</td><td>Group</td></tr><tr><td>2</td><td>Hungary</td><td>Scotland</td><td>0</td><td>0</td><td>draw</td><td>Group</td></tr><tr><td>3</td><td>Hungary</td><td>Germany</td><td>3</td><td>0</td><td>Hungary</td><td>Group</td></tr><tr><td>4</td><td>Switzerland</td><td>Hungary</td><td>2</td><td>4</td><td>Hungary</td><td>Group</td></tr><tr><td>5</td><td>Switzerland</td><td>Scotland</td><td>3</td><td>0</td><td>Switzerland</td><td>Group</td></tr><tr><td>6</td><td>Switzerland</td><td>Germany</td><td>1</td><td>4</td><td>Germany</td><td>Group</td></tr><tr><td>7</td><td>Croatia</td><td>Spain</td><td>3</td><td>3</td><td>draw</td><td>Group</td></tr><tr><td>8</td><td>Italy</td><td>Croatia</td><td>1</td><td>0</td><td>Italy</td><td>Group</td></tr><tr><td>9</td><td>Italy</td><td>Spain</td><td>4</td><td>4</td><td>draw</td><td>Group</td></tr><tr><td>10</td><td>Albania</td><td>Italy</td><td>4</td><td>2</td><td>Albania</td><td>Group</td></tr><tr><td>11</td><td>Albania</td><td>Croatia</td><td>5</td><td>0</td><td>Albania</td><td>Group</td></tr><tr><td>12</td><td>Albania</td><td>Spain</td><td>4</td><td>5</td><td>Spain</td><td>Group</td></tr><tr><td>13</td><td>Denmark</td><td>Slovenia</td><td>4</td><td>4</td><td>draw</td><td>Group</td></tr><tr><td>14</td><td>Serbia</td><td>Denmark</td><td>0</td><td>5</td><td>Denmark</td><td>Group</td></tr><tr><td>15</td><td>Serbia</td><td>Slovenia</td><td>2</td><td>4</td><td>Slovenia</td><td>Group</td></tr><tr><td>16</td><td>England</td><td>Serbia</td><td>5</td><td>1</td><td>England</td><td>Group</td></tr><tr><td>17</td><td>England</td><td>Denmark</td><td>4</td><td>4</td><td>draw</td><td>Group</td></tr><tr><td>18</td><td>England</td><td>Slovenia</td><td>2</td><td>3</td><td>Slovenia</td><td>Group</td></tr><tr><td>19</td><td>Netherlands</td><td>Poland</td><td>0</td><td>0</td><td>draw</td><td>Group</td></tr><tr><td>20</td><td>Austria</td><td>Netherlands</td><td>5</td><td>1</td><td>Austria</td><td>Group</td></tr><tr><td>21</td><td>Austria</td><td>Poland</td><td>1</td><td>5</td><td>Poland</td><td>Group</td></tr><tr><td>22</td><td>France</td><td>Austria</td><td>4</td><td>3</td><td>France</td><td>Group</td></tr><tr><td>23</td><td>France</td><td>Netherlands</td><td>4</td><td>0</td><td>France</td><td>Group</td></tr><tr><td>24</td><td>France</td><td>Poland</td><td>1</td><td>1</td><td>draw</td><td>Group</td></tr><tr><td>25</td><td>Slovakia</td><td>Belgium</td><td>0</td><td>4</td><td>Belgium</td><td>Group</td></tr><tr><td>26</td><td>Romania</td><td>Slovakia</td><td>4</td><td>0</td><td>Romania</td><td>Group</td></tr><tr><td>27</td><td>Romania</td><td>Belgium</td><td>2</td><td>1</td><td>Romania</td><td>Group</td></tr><tr><td>28</td><td>Ukraine</td><td>Romania</td><td>5</td><td>3</td><td>Ukraine</td><td>Group</td></tr><tr><td>29</td><td>Ukraine</td><td>Slovakia</td><td>3</td><td>3</td><td>draw</td><td>Group</td></tr><tr><td>30</td><td>Ukraine</td><td>Belgium</td><td>2</td><td>2</td><td>draw</td><td>Group</td></tr><tr><td>31</td><td>Greece</td><td>Türkiye</td><td>4</td><td>5</td><td>Türkiye</td><td>Group</td></tr><tr><td>32</td><td>Portugal</td><td>Greece</td><td>2</td><td>1</td><td>Portugal</td><td>Group</td></tr><tr><td>33</td><td>Portugal</td><td>Türkiye</td><td>0</td><td>4</td><td>Türkiye</td><td>Group</td></tr><tr><td>34</td><td>Czech</td><td>Portugal</td><td>2</td><td>5</td><td>Portugal</td><td>Group</td></tr><tr><td>35</td><td>Czech</td><td>Greece</td><td>5</td><td>1</td><td>Czech</td><td>Group</td></tr><tr><td>36</td><td>Czech</td><td>Türkiye</td><td>5</td><td>0</td><td>Czech</td><td>Group</td></tr><tr><td>37</td><td>Albania</td><td>Portugal</td><td>1</td><td>0</td><td>Albania</td><td>Round of 16</td></tr><tr><td>38</td><td>Hungary</td><td>Denmark</td><td>0</td><td>3</td><td>Denmark</td><td>Round of 16</td></tr><tr><td>39</td><td>Czech</td><td>Italy</td><td>1</td><td>1</td><td>Czech</td><td>Round of 16</td></tr><tr><td>40</td><td>Poland</td><td>Ukraine</td><td>0</td><td>4</td><td>Ukraine</td><td>Round of 16</td></tr><tr><td>41</td><td>Romania</td><td>England</td><td>0</td><td>1</td><td>England</td><td>Round of 16</td></tr><tr><td>42</td><td>France</td><td>Türkiye</td><td>1</td><td>1</td><td>France</td><td>Round of 16</td></tr><tr><td>43</td><td>Slovenia</td><td>Belgium</td><td>1</td><td>3</td><td>Belgium</td><td>Round of 16</td></tr><tr><td>44</td><td>Scotland</td><td>Spain</td><td>5</td><td>4</td><td>Scotland</td><td>Round of 16</td></tr></tbody></table></div>"
      ]
     },
     "metadata": {
      "application/vnd.databricks.v1+output": {
       "addedWidgets": {},
       "aggData": [],
       "aggError": "",
       "aggOverflow": false,
       "aggSchema": [],
       "aggSeriesLimitReached": false,
       "aggType": "",
       "arguments": {},
       "columnCustomDisplayInfos": {},
       "data": [
        [
         1,
         "Scotland",
         "Germany",
         2,
         1,
         "Scotland",
         "Group"
        ],
        [
         2,
         "Hungary",
         "Scotland",
         0,
         0,
         "draw",
         "Group"
        ],
        [
         3,
         "Hungary",
         "Germany",
         3,
         0,
         "Hungary",
         "Group"
        ],
        [
         4,
         "Switzerland",
         "Hungary",
         2,
         4,
         "Hungary",
         "Group"
        ],
        [
         5,
         "Switzerland",
         "Scotland",
         3,
         0,
         "Switzerland",
         "Group"
        ],
        [
         6,
         "Switzerland",
         "Germany",
         1,
         4,
         "Germany",
         "Group"
        ],
        [
         7,
         "Croatia",
         "Spain",
         3,
         3,
         "draw",
         "Group"
        ],
        [
         8,
         "Italy",
         "Croatia",
         1,
         0,
         "Italy",
         "Group"
        ],
        [
         9,
         "Italy",
         "Spain",
         4,
         4,
         "draw",
         "Group"
        ],
        [
         10,
         "Albania",
         "Italy",
         4,
         2,
         "Albania",
         "Group"
        ],
        [
         11,
         "Albania",
         "Croatia",
         5,
         0,
         "Albania",
         "Group"
        ],
        [
         12,
         "Albania",
         "Spain",
         4,
         5,
         "Spain",
         "Group"
        ],
        [
         13,
         "Denmark",
         "Slovenia",
         4,
         4,
         "draw",
         "Group"
        ],
        [
         14,
         "Serbia",
         "Denmark",
         0,
         5,
         "Denmark",
         "Group"
        ],
        [
         15,
         "Serbia",
         "Slovenia",
         2,
         4,
         "Slovenia",
         "Group"
        ],
        [
         16,
         "England",
         "Serbia",
         5,
         1,
         "England",
         "Group"
        ],
        [
         17,
         "England",
         "Denmark",
         4,
         4,
         "draw",
         "Group"
        ],
        [
         18,
         "England",
         "Slovenia",
         2,
         3,
         "Slovenia",
         "Group"
        ],
        [
         19,
         "Netherlands",
         "Poland",
         0,
         0,
         "draw",
         "Group"
        ],
        [
         20,
         "Austria",
         "Netherlands",
         5,
         1,
         "Austria",
         "Group"
        ],
        [
         21,
         "Austria",
         "Poland",
         1,
         5,
         "Poland",
         "Group"
        ],
        [
         22,
         "France",
         "Austria",
         4,
         3,
         "France",
         "Group"
        ],
        [
         23,
         "France",
         "Netherlands",
         4,
         0,
         "France",
         "Group"
        ],
        [
         24,
         "France",
         "Poland",
         1,
         1,
         "draw",
         "Group"
        ],
        [
         25,
         "Slovakia",
         "Belgium",
         0,
         4,
         "Belgium",
         "Group"
        ],
        [
         26,
         "Romania",
         "Slovakia",
         4,
         0,
         "Romania",
         "Group"
        ],
        [
         27,
         "Romania",
         "Belgium",
         2,
         1,
         "Romania",
         "Group"
        ],
        [
         28,
         "Ukraine",
         "Romania",
         5,
         3,
         "Ukraine",
         "Group"
        ],
        [
         29,
         "Ukraine",
         "Slovakia",
         3,
         3,
         "draw",
         "Group"
        ],
        [
         30,
         "Ukraine",
         "Belgium",
         2,
         2,
         "draw",
         "Group"
        ],
        [
         31,
         "Greece",
         "Türkiye",
         4,
         5,
         "Türkiye",
         "Group"
        ],
        [
         32,
         "Portugal",
         "Greece",
         2,
         1,
         "Portugal",
         "Group"
        ],
        [
         33,
         "Portugal",
         "Türkiye",
         0,
         4,
         "Türkiye",
         "Group"
        ],
        [
         34,
         "Czech",
         "Portugal",
         2,
         5,
         "Portugal",
         "Group"
        ],
        [
         35,
         "Czech",
         "Greece",
         5,
         1,
         "Czech",
         "Group"
        ],
        [
         36,
         "Czech",
         "Türkiye",
         5,
         0,
         "Czech",
         "Group"
        ],
        [
         37,
         "Albania",
         "Portugal",
         1,
         0,
         "Albania",
         "Round of 16"
        ],
        [
         38,
         "Hungary",
         "Denmark",
         0,
         3,
         "Denmark",
         "Round of 16"
        ],
        [
         39,
         "Czech",
         "Italy",
         1,
         1,
         "Czech",
         "Round of 16"
        ],
        [
         40,
         "Poland",
         "Ukraine",
         0,
         4,
         "Ukraine",
         "Round of 16"
        ],
        [
         41,
         "Romania",
         "England",
         0,
         1,
         "England",
         "Round of 16"
        ],
        [
         42,
         "France",
         "Türkiye",
         1,
         1,
         "France",
         "Round of 16"
        ],
        [
         43,
         "Slovenia",
         "Belgium",
         1,
         3,
         "Belgium",
         "Round of 16"
        ],
        [
         44,
         "Scotland",
         "Spain",
         5,
         4,
         "Scotland",
         "Round of 16"
        ]
       ],
       "datasetInfos": [],
       "dbfsResultPath": null,
       "isJsonSchema": true,
       "metadata": {},
       "overflow": false,
       "plotOptions": {
        "customPlotOptions": {},
        "displayType": "table",
        "pivotAggregation": null,
        "pivotColumns": null,
        "xColumns": null,
        "yColumns": null
       },
       "removedWidgets": [],
       "schema": [
        {
         "metadata": "{}",
         "name": "MatchId",
         "type": "\"integer\""
        },
        {
         "metadata": "{\"__CHAR_VARCHAR_TYPE_STRING\":\"varchar(255)\"}",
         "name": "Team1",
         "type": "\"string\""
        },
        {
         "metadata": "{\"__CHAR_VARCHAR_TYPE_STRING\":\"varchar(255)\"}",
         "name": "Team2",
         "type": "\"string\""
        },
        {
         "metadata": "{}",
         "name": "Team1Score",
         "type": "\"integer\""
        },
        {
         "metadata": "{}",
         "name": "Team2Score",
         "type": "\"integer\""
        },
        {
         "metadata": "{\"__CHAR_VARCHAR_TYPE_STRING\":\"varchar(255)\"}",
         "name": "Result",
         "type": "\"string\""
        },
        {
         "metadata": "{\"__CHAR_VARCHAR_TYPE_STRING\":\"varchar(255)\"}",
         "name": "Stage",
         "type": "\"string\""
        }
       ],
       "type": "table"
      }
     },
     "output_type": "display_data"
    }
   ],
   "source": [
    "%sql\n",
    "select * from matchetable2\n",
    "ORDER BY MATCHID"
   ]
  },
  {
   "cell_type": "markdown",
   "metadata": {
    "application/vnd.databricks.v1+cell": {
     "cellMetadata": {
      "byteLimit": 2048000,
      "rowLimit": 10000
     },
     "inputWidgets": {},
     "nuid": "4b5aa3d2-70f8-43db-9d12-380bc96c3974",
     "showTitle": false,
     "title": ""
    }
   },
   "source": [
    "# Quarter Final Matches\n"
   ]
  },
  {
   "cell_type": "code",
   "execution_count": 0,
   "metadata": {
    "application/vnd.databricks.v1+cell": {
     "cellMetadata": {
      "byteLimit": 2048000,
      "implicitDf": true,
      "rowLimit": 10000
     },
     "inputWidgets": {},
     "nuid": "886f34c7-7022-462b-a207-a88f4be19c1f",
     "showTitle": false,
     "title": ""
    }
   },
   "outputs": [
    {
     "output_type": "display_data",
     "data": {
      "text/html": [
       "<style scoped>\n",
       "  .table-result-container {\n",
       "    max-height: 300px;\n",
       "    overflow: auto;\n",
       "  }\n",
       "  table, th, td {\n",
       "    border: 1px solid black;\n",
       "    border-collapse: collapse;\n",
       "  }\n",
       "  th, td {\n",
       "    padding: 5px;\n",
       "  }\n",
       "  th {\n",
       "    text-align: left;\n",
       "  }\n",
       "</style><div class='table-result-container'><table class='table-result'><thead style='background-color: white'><tr><th>MatchId</th><th>Team1</th><th>Team2</th><th>Team1Score</th><th>Team2Score</th><th>Result</th><th>Stage</th></tr></thead><tbody><tr><td>1</td><td>Scotland</td><td>Germany</td><td>2</td><td>1</td><td>Scotland</td><td>Group</td></tr><tr><td>2</td><td>Hungary</td><td>Scotland</td><td>0</td><td>0</td><td>draw</td><td>Group</td></tr><tr><td>3</td><td>Hungary</td><td>Germany</td><td>3</td><td>0</td><td>Hungary</td><td>Group</td></tr><tr><td>4</td><td>Switzerland</td><td>Hungary</td><td>2</td><td>4</td><td>Hungary</td><td>Group</td></tr><tr><td>5</td><td>Switzerland</td><td>Scotland</td><td>3</td><td>0</td><td>Switzerland</td><td>Group</td></tr><tr><td>6</td><td>Switzerland</td><td>Germany</td><td>1</td><td>4</td><td>Germany</td><td>Group</td></tr><tr><td>7</td><td>Croatia</td><td>Spain</td><td>3</td><td>3</td><td>draw</td><td>Group</td></tr><tr><td>8</td><td>Italy</td><td>Croatia</td><td>1</td><td>0</td><td>Italy</td><td>Group</td></tr><tr><td>9</td><td>Italy</td><td>Spain</td><td>4</td><td>4</td><td>draw</td><td>Group</td></tr><tr><td>10</td><td>Albania</td><td>Italy</td><td>4</td><td>2</td><td>Albania</td><td>Group</td></tr><tr><td>11</td><td>Albania</td><td>Croatia</td><td>5</td><td>0</td><td>Albania</td><td>Group</td></tr><tr><td>12</td><td>Albania</td><td>Spain</td><td>4</td><td>5</td><td>Spain</td><td>Group</td></tr><tr><td>13</td><td>Denmark</td><td>Slovenia</td><td>4</td><td>4</td><td>draw</td><td>Group</td></tr><tr><td>14</td><td>Serbia</td><td>Denmark</td><td>0</td><td>5</td><td>Denmark</td><td>Group</td></tr><tr><td>15</td><td>Serbia</td><td>Slovenia</td><td>2</td><td>4</td><td>Slovenia</td><td>Group</td></tr><tr><td>16</td><td>England</td><td>Serbia</td><td>5</td><td>1</td><td>England</td><td>Group</td></tr><tr><td>17</td><td>England</td><td>Denmark</td><td>4</td><td>4</td><td>draw</td><td>Group</td></tr><tr><td>18</td><td>England</td><td>Slovenia</td><td>2</td><td>3</td><td>Slovenia</td><td>Group</td></tr><tr><td>19</td><td>Netherlands</td><td>Poland</td><td>0</td><td>0</td><td>draw</td><td>Group</td></tr><tr><td>20</td><td>Austria</td><td>Netherlands</td><td>5</td><td>1</td><td>Austria</td><td>Group</td></tr><tr><td>21</td><td>Austria</td><td>Poland</td><td>1</td><td>5</td><td>Poland</td><td>Group</td></tr><tr><td>22</td><td>France</td><td>Austria</td><td>4</td><td>3</td><td>France</td><td>Group</td></tr><tr><td>23</td><td>France</td><td>Netherlands</td><td>4</td><td>0</td><td>France</td><td>Group</td></tr><tr><td>24</td><td>France</td><td>Poland</td><td>1</td><td>1</td><td>draw</td><td>Group</td></tr><tr><td>25</td><td>Slovakia</td><td>Belgium</td><td>0</td><td>4</td><td>Belgium</td><td>Group</td></tr><tr><td>26</td><td>Romania</td><td>Slovakia</td><td>4</td><td>0</td><td>Romania</td><td>Group</td></tr><tr><td>27</td><td>Romania</td><td>Belgium</td><td>2</td><td>1</td><td>Romania</td><td>Group</td></tr><tr><td>28</td><td>Ukraine</td><td>Romania</td><td>5</td><td>3</td><td>Ukraine</td><td>Group</td></tr><tr><td>29</td><td>Ukraine</td><td>Slovakia</td><td>3</td><td>3</td><td>draw</td><td>Group</td></tr><tr><td>30</td><td>Ukraine</td><td>Belgium</td><td>2</td><td>2</td><td>draw</td><td>Group</td></tr><tr><td>31</td><td>Greece</td><td>Türkiye</td><td>4</td><td>5</td><td>Türkiye</td><td>Group</td></tr><tr><td>32</td><td>Portugal</td><td>Greece</td><td>2</td><td>1</td><td>Portugal</td><td>Group</td></tr><tr><td>33</td><td>Portugal</td><td>Türkiye</td><td>0</td><td>4</td><td>Türkiye</td><td>Group</td></tr><tr><td>34</td><td>Czech</td><td>Portugal</td><td>2</td><td>5</td><td>Portugal</td><td>Group</td></tr><tr><td>35</td><td>Czech</td><td>Greece</td><td>5</td><td>1</td><td>Czech</td><td>Group</td></tr><tr><td>36</td><td>Czech</td><td>Türkiye</td><td>5</td><td>0</td><td>Czech</td><td>Group</td></tr><tr><td>37</td><td>Albania</td><td>Portugal</td><td>1</td><td>0</td><td>Albania</td><td>Round of 16</td></tr><tr><td>38</td><td>Hungary</td><td>Denmark</td><td>0</td><td>3</td><td>Denmark</td><td>Round of 16</td></tr><tr><td>39</td><td>Czech</td><td>Italy</td><td>1</td><td>1</td><td>Czech</td><td>Round of 16</td></tr><tr><td>40</td><td>Poland</td><td>Ukraine</td><td>0</td><td>4</td><td>Ukraine</td><td>Round of 16</td></tr><tr><td>41</td><td>Romania</td><td>England</td><td>0</td><td>1</td><td>England</td><td>Round of 16</td></tr><tr><td>42</td><td>France</td><td>Türkiye</td><td>1</td><td>1</td><td>France</td><td>Round of 16</td></tr><tr><td>43</td><td>Slovenia</td><td>Belgium</td><td>1</td><td>3</td><td>Belgium</td><td>Round of 16</td></tr><tr><td>44</td><td>Scotland</td><td>Spain</td><td>5</td><td>4</td><td>Scotland</td><td>Round of 16</td></tr><tr><td>45</td><td>Albania</td><td>Denmark</td><td>6</td><td>5</td><td>Albania</td><td>Quarter Final</td></tr><tr><td>46</td><td>Czech</td><td>Ukraine</td><td>2</td><td>6</td><td>Ukraine</td><td>Quarter Final</td></tr><tr><td>47</td><td>England</td><td>France</td><td>3</td><td>4</td><td>France</td><td>Quarter Final</td></tr><tr><td>48</td><td>Belgium</td><td>Scotland</td><td>3</td><td>1</td><td>Belgium</td><td>Quarter Final</td></tr></tbody></table></div>"
      ]
     },
     "metadata": {
      "application/vnd.databricks.v1+output": {
       "addedWidgets": {},
       "aggData": [],
       "aggError": "",
       "aggOverflow": false,
       "aggSchema": [],
       "aggSeriesLimitReached": false,
       "aggType": "",
       "arguments": {},
       "columnCustomDisplayInfos": {},
       "data": [
        [
         1,
         "Scotland",
         "Germany",
         2,
         1,
         "Scotland",
         "Group"
        ],
        [
         2,
         "Hungary",
         "Scotland",
         0,
         0,
         "draw",
         "Group"
        ],
        [
         3,
         "Hungary",
         "Germany",
         3,
         0,
         "Hungary",
         "Group"
        ],
        [
         4,
         "Switzerland",
         "Hungary",
         2,
         4,
         "Hungary",
         "Group"
        ],
        [
         5,
         "Switzerland",
         "Scotland",
         3,
         0,
         "Switzerland",
         "Group"
        ],
        [
         6,
         "Switzerland",
         "Germany",
         1,
         4,
         "Germany",
         "Group"
        ],
        [
         7,
         "Croatia",
         "Spain",
         3,
         3,
         "draw",
         "Group"
        ],
        [
         8,
         "Italy",
         "Croatia",
         1,
         0,
         "Italy",
         "Group"
        ],
        [
         9,
         "Italy",
         "Spain",
         4,
         4,
         "draw",
         "Group"
        ],
        [
         10,
         "Albania",
         "Italy",
         4,
         2,
         "Albania",
         "Group"
        ],
        [
         11,
         "Albania",
         "Croatia",
         5,
         0,
         "Albania",
         "Group"
        ],
        [
         12,
         "Albania",
         "Spain",
         4,
         5,
         "Spain",
         "Group"
        ],
        [
         13,
         "Denmark",
         "Slovenia",
         4,
         4,
         "draw",
         "Group"
        ],
        [
         14,
         "Serbia",
         "Denmark",
         0,
         5,
         "Denmark",
         "Group"
        ],
        [
         15,
         "Serbia",
         "Slovenia",
         2,
         4,
         "Slovenia",
         "Group"
        ],
        [
         16,
         "England",
         "Serbia",
         5,
         1,
         "England",
         "Group"
        ],
        [
         17,
         "England",
         "Denmark",
         4,
         4,
         "draw",
         "Group"
        ],
        [
         18,
         "England",
         "Slovenia",
         2,
         3,
         "Slovenia",
         "Group"
        ],
        [
         19,
         "Netherlands",
         "Poland",
         0,
         0,
         "draw",
         "Group"
        ],
        [
         20,
         "Austria",
         "Netherlands",
         5,
         1,
         "Austria",
         "Group"
        ],
        [
         21,
         "Austria",
         "Poland",
         1,
         5,
         "Poland",
         "Group"
        ],
        [
         22,
         "France",
         "Austria",
         4,
         3,
         "France",
         "Group"
        ],
        [
         23,
         "France",
         "Netherlands",
         4,
         0,
         "France",
         "Group"
        ],
        [
         24,
         "France",
         "Poland",
         1,
         1,
         "draw",
         "Group"
        ],
        [
         25,
         "Slovakia",
         "Belgium",
         0,
         4,
         "Belgium",
         "Group"
        ],
        [
         26,
         "Romania",
         "Slovakia",
         4,
         0,
         "Romania",
         "Group"
        ],
        [
         27,
         "Romania",
         "Belgium",
         2,
         1,
         "Romania",
         "Group"
        ],
        [
         28,
         "Ukraine",
         "Romania",
         5,
         3,
         "Ukraine",
         "Group"
        ],
        [
         29,
         "Ukraine",
         "Slovakia",
         3,
         3,
         "draw",
         "Group"
        ],
        [
         30,
         "Ukraine",
         "Belgium",
         2,
         2,
         "draw",
         "Group"
        ],
        [
         31,
         "Greece",
         "Türkiye",
         4,
         5,
         "Türkiye",
         "Group"
        ],
        [
         32,
         "Portugal",
         "Greece",
         2,
         1,
         "Portugal",
         "Group"
        ],
        [
         33,
         "Portugal",
         "Türkiye",
         0,
         4,
         "Türkiye",
         "Group"
        ],
        [
         34,
         "Czech",
         "Portugal",
         2,
         5,
         "Portugal",
         "Group"
        ],
        [
         35,
         "Czech",
         "Greece",
         5,
         1,
         "Czech",
         "Group"
        ],
        [
         36,
         "Czech",
         "Türkiye",
         5,
         0,
         "Czech",
         "Group"
        ],
        [
         37,
         "Albania",
         "Portugal",
         1,
         0,
         "Albania",
         "Round of 16"
        ],
        [
         38,
         "Hungary",
         "Denmark",
         0,
         3,
         "Denmark",
         "Round of 16"
        ],
        [
         39,
         "Czech",
         "Italy",
         1,
         1,
         "Czech",
         "Round of 16"
        ],
        [
         40,
         "Poland",
         "Ukraine",
         0,
         4,
         "Ukraine",
         "Round of 16"
        ],
        [
         41,
         "Romania",
         "England",
         0,
         1,
         "England",
         "Round of 16"
        ],
        [
         42,
         "France",
         "Türkiye",
         1,
         1,
         "France",
         "Round of 16"
        ],
        [
         43,
         "Slovenia",
         "Belgium",
         1,
         3,
         "Belgium",
         "Round of 16"
        ],
        [
         44,
         "Scotland",
         "Spain",
         5,
         4,
         "Scotland",
         "Round of 16"
        ],
        [
         45,
         "Albania",
         "Denmark",
         6,
         5,
         "Albania",
         "Quarter Final"
        ],
        [
         46,
         "Czech",
         "Ukraine",
         2,
         6,
         "Ukraine",
         "Quarter Final"
        ],
        [
         47,
         "England",
         "France",
         3,
         4,
         "France",
         "Quarter Final"
        ],
        [
         48,
         "Belgium",
         "Scotland",
         3,
         1,
         "Belgium",
         "Quarter Final"
        ]
       ],
       "datasetInfos": [],
       "dbfsResultPath": null,
       "isJsonSchema": true,
       "metadata": {},
       "overflow": false,
       "plotOptions": {
        "customPlotOptions": {},
        "displayType": "table",
        "pivotAggregation": null,
        "pivotColumns": null,
        "xColumns": null,
        "yColumns": null
       },
       "removedWidgets": [],
       "schema": [
        {
         "metadata": "{}",
         "name": "MatchId",
         "type": "\"integer\""
        },
        {
         "metadata": "{\"__CHAR_VARCHAR_TYPE_STRING\":\"varchar(255)\"}",
         "name": "Team1",
         "type": "\"string\""
        },
        {
         "metadata": "{\"__CHAR_VARCHAR_TYPE_STRING\":\"varchar(255)\"}",
         "name": "Team2",
         "type": "\"string\""
        },
        {
         "metadata": "{}",
         "name": "Team1Score",
         "type": "\"integer\""
        },
        {
         "metadata": "{}",
         "name": "Team2Score",
         "type": "\"integer\""
        },
        {
         "metadata": "{\"__CHAR_VARCHAR_TYPE_STRING\":\"varchar(255)\"}",
         "name": "Result",
         "type": "\"string\""
        },
        {
         "metadata": "{\"__CHAR_VARCHAR_TYPE_STRING\":\"varchar(255)\"}",
         "name": "Stage",
         "type": "\"string\""
        }
       ],
       "type": "table"
      }
     },
     "output_type": "display_data"
    }
   ],
   "source": [
    "%sql\n",
    "insert into matchetable2(MatchId,\n",
    "  Team1,\n",
    "  Team2,\n",
    "  Team1Score,\n",
    "  Team2Score,\n",
    "  Result,\n",
    "  Stage)\n",
    "SELECT \n",
    "    45 AS MatchId, \n",
    "    (SELECT Result FROM matchetable2 WHERE MatchId = 37) AS team1, \n",
    "    (SELECT Result FROM matchetable2 WHERE MatchId = 38) AS team2,\n",
    "    (SELECT FLOOR(RAND() * 6) + 1) AS Team1Score,\n",
    "    (SELECT FLOOR(RAND() * 6) + 1) AS Team2Score,\n",
    "    'draw' as Result,\n",
    "    'Quarter Final' as stage\n",
    "UNION ALL\n",
    "SELECT \n",
    "    46 AS MatchId, \n",
    "    (SELECT Result FROM matchetable2 WHERE MatchId = 39) AS team1, \n",
    "    (SELECT Result FROM matchetable2 WHERE MatchId = 40) AS team2,\n",
    "    (SELECT FLOOR(RAND() * 6) + 1) AS Team1Score,\n",
    "    (SELECT FLOOR(RAND() * 6) + 1) AS Team2Score,\n",
    "    'draw' as Result,\n",
    "    'Quarter Final' as stage\n",
    "UNION ALL\n",
    "SELECT \n",
    "    47 AS MatchId, \n",
    "    (SELECT Result FROM matchetable2 WHERE MatchId = 41) AS team1, \n",
    "    (SELECT Result FROM matchetable2 WHERE MatchId = 42) AS team2,\n",
    "    (SELECT FLOOR(RAND() * 6) + 1) AS Team1Score,\n",
    "    (SELECT FLOOR(RAND() * 6) + 1) AS Team2Score,\n",
    "    'draw' as Result,\n",
    "    'Quarter Final' as stage\n",
    "UNION ALL\n",
    "SELECT \n",
    "    48 AS MatchId, \n",
    "    (SELECT Result FROM matchetable2 WHERE MatchId = 43) AS team1, \n",
    "    (SELECT Result FROM matchetable2 WHERE MatchId = 44) AS team2,\n",
    "    (SELECT FLOOR(RAND() * 6) + 1) AS Team1Score,\n",
    "    (SELECT FLOOR(RAND() * 6) + 1) AS Team2Score,\n",
    "    'draw' as Result,\n",
    "    'Quarter Final' as stage;\n",
    "\n",
    "UPDATE matchetable2\n",
    "SET Result = \n",
    "    CASE \n",
    "        WHEN team1score > team2score THEN team1\n",
    "        WHEN team1score < team2score THEN team2\n",
    "        ELSE \n",
    "            CASE \n",
    "                WHEN (team1score) % 2 = 1 THEN team1\n",
    "                ELSE team2\n",
    "            END\n",
    "    END\n",
    "where stage = 'Quarter Final';\n",
    "\n",
    "select * from matchetable2\n",
    "order by MatchId"
   ]
  },
  {
   "cell_type": "markdown",
   "metadata": {
    "application/vnd.databricks.v1+cell": {
     "cellMetadata": {
      "byteLimit": 2048000,
      "rowLimit": 10000
     },
     "inputWidgets": {},
     "nuid": "b5eb6a41-f05d-4ed9-ba8d-54121b23cff1",
     "showTitle": false,
     "title": ""
    }
   },
   "source": [
    "# Semi Final Matches"
   ]
  },
  {
   "cell_type": "code",
   "execution_count": 0,
   "metadata": {
    "application/vnd.databricks.v1+cell": {
     "cellMetadata": {
      "byteLimit": 2048000,
      "implicitDf": true,
      "rowLimit": 10000
     },
     "inputWidgets": {},
     "nuid": "89333d47-7b14-496c-b44c-df3637fef3e2",
     "showTitle": false,
     "title": ""
    }
   },
   "outputs": [
    {
     "output_type": "display_data",
     "data": {
      "text/html": [
       "<style scoped>\n",
       "  .table-result-container {\n",
       "    max-height: 300px;\n",
       "    overflow: auto;\n",
       "  }\n",
       "  table, th, td {\n",
       "    border: 1px solid black;\n",
       "    border-collapse: collapse;\n",
       "  }\n",
       "  th, td {\n",
       "    padding: 5px;\n",
       "  }\n",
       "  th {\n",
       "    text-align: left;\n",
       "  }\n",
       "</style><div class='table-result-container'><table class='table-result'><thead style='background-color: white'><tr><th>MatchId</th><th>Team1</th><th>Team2</th><th>Team1Score</th><th>Team2Score</th><th>Result</th><th>Stage</th></tr></thead><tbody><tr><td>1</td><td>Scotland</td><td>Germany</td><td>2</td><td>1</td><td>Scotland</td><td>Group</td></tr><tr><td>2</td><td>Hungary</td><td>Scotland</td><td>0</td><td>0</td><td>draw</td><td>Group</td></tr><tr><td>3</td><td>Hungary</td><td>Germany</td><td>3</td><td>0</td><td>Hungary</td><td>Group</td></tr><tr><td>4</td><td>Switzerland</td><td>Hungary</td><td>2</td><td>4</td><td>Hungary</td><td>Group</td></tr><tr><td>5</td><td>Switzerland</td><td>Scotland</td><td>3</td><td>0</td><td>Switzerland</td><td>Group</td></tr><tr><td>6</td><td>Switzerland</td><td>Germany</td><td>1</td><td>4</td><td>Germany</td><td>Group</td></tr><tr><td>7</td><td>Croatia</td><td>Spain</td><td>3</td><td>3</td><td>draw</td><td>Group</td></tr><tr><td>8</td><td>Italy</td><td>Croatia</td><td>1</td><td>0</td><td>Italy</td><td>Group</td></tr><tr><td>9</td><td>Italy</td><td>Spain</td><td>4</td><td>4</td><td>draw</td><td>Group</td></tr><tr><td>10</td><td>Albania</td><td>Italy</td><td>4</td><td>2</td><td>Albania</td><td>Group</td></tr><tr><td>11</td><td>Albania</td><td>Croatia</td><td>5</td><td>0</td><td>Albania</td><td>Group</td></tr><tr><td>12</td><td>Albania</td><td>Spain</td><td>4</td><td>5</td><td>Spain</td><td>Group</td></tr><tr><td>13</td><td>Denmark</td><td>Slovenia</td><td>4</td><td>4</td><td>draw</td><td>Group</td></tr><tr><td>14</td><td>Serbia</td><td>Denmark</td><td>0</td><td>5</td><td>Denmark</td><td>Group</td></tr><tr><td>15</td><td>Serbia</td><td>Slovenia</td><td>2</td><td>4</td><td>Slovenia</td><td>Group</td></tr><tr><td>16</td><td>England</td><td>Serbia</td><td>5</td><td>1</td><td>England</td><td>Group</td></tr><tr><td>17</td><td>England</td><td>Denmark</td><td>4</td><td>4</td><td>draw</td><td>Group</td></tr><tr><td>18</td><td>England</td><td>Slovenia</td><td>2</td><td>3</td><td>Slovenia</td><td>Group</td></tr><tr><td>19</td><td>Netherlands</td><td>Poland</td><td>0</td><td>0</td><td>draw</td><td>Group</td></tr><tr><td>20</td><td>Austria</td><td>Netherlands</td><td>5</td><td>1</td><td>Austria</td><td>Group</td></tr><tr><td>21</td><td>Austria</td><td>Poland</td><td>1</td><td>5</td><td>Poland</td><td>Group</td></tr><tr><td>22</td><td>France</td><td>Austria</td><td>4</td><td>3</td><td>France</td><td>Group</td></tr><tr><td>23</td><td>France</td><td>Netherlands</td><td>4</td><td>0</td><td>France</td><td>Group</td></tr><tr><td>24</td><td>France</td><td>Poland</td><td>1</td><td>1</td><td>draw</td><td>Group</td></tr><tr><td>25</td><td>Slovakia</td><td>Belgium</td><td>0</td><td>4</td><td>Belgium</td><td>Group</td></tr><tr><td>26</td><td>Romania</td><td>Slovakia</td><td>4</td><td>0</td><td>Romania</td><td>Group</td></tr><tr><td>27</td><td>Romania</td><td>Belgium</td><td>2</td><td>1</td><td>Romania</td><td>Group</td></tr><tr><td>28</td><td>Ukraine</td><td>Romania</td><td>5</td><td>3</td><td>Ukraine</td><td>Group</td></tr><tr><td>29</td><td>Ukraine</td><td>Slovakia</td><td>3</td><td>3</td><td>draw</td><td>Group</td></tr><tr><td>30</td><td>Ukraine</td><td>Belgium</td><td>2</td><td>2</td><td>draw</td><td>Group</td></tr><tr><td>31</td><td>Greece</td><td>Türkiye</td><td>4</td><td>5</td><td>Türkiye</td><td>Group</td></tr><tr><td>32</td><td>Portugal</td><td>Greece</td><td>2</td><td>1</td><td>Portugal</td><td>Group</td></tr><tr><td>33</td><td>Portugal</td><td>Türkiye</td><td>0</td><td>4</td><td>Türkiye</td><td>Group</td></tr><tr><td>34</td><td>Czech</td><td>Portugal</td><td>2</td><td>5</td><td>Portugal</td><td>Group</td></tr><tr><td>35</td><td>Czech</td><td>Greece</td><td>5</td><td>1</td><td>Czech</td><td>Group</td></tr><tr><td>36</td><td>Czech</td><td>Türkiye</td><td>5</td><td>0</td><td>Czech</td><td>Group</td></tr><tr><td>37</td><td>Albania</td><td>Portugal</td><td>1</td><td>0</td><td>Albania</td><td>Round of 16</td></tr><tr><td>38</td><td>Hungary</td><td>Denmark</td><td>0</td><td>3</td><td>Denmark</td><td>Round of 16</td></tr><tr><td>39</td><td>Czech</td><td>Italy</td><td>1</td><td>1</td><td>Czech</td><td>Round of 16</td></tr><tr><td>40</td><td>Poland</td><td>Ukraine</td><td>0</td><td>4</td><td>Ukraine</td><td>Round of 16</td></tr><tr><td>41</td><td>Romania</td><td>England</td><td>0</td><td>1</td><td>England</td><td>Round of 16</td></tr><tr><td>42</td><td>France</td><td>Türkiye</td><td>1</td><td>1</td><td>France</td><td>Round of 16</td></tr><tr><td>43</td><td>Slovenia</td><td>Belgium</td><td>1</td><td>3</td><td>Belgium</td><td>Round of 16</td></tr><tr><td>44</td><td>Scotland</td><td>Spain</td><td>5</td><td>4</td><td>Scotland</td><td>Round of 16</td></tr><tr><td>45</td><td>Albania</td><td>Denmark</td><td>6</td><td>5</td><td>Albania</td><td>Quarter Final</td></tr><tr><td>46</td><td>Czech</td><td>Ukraine</td><td>2</td><td>6</td><td>Ukraine</td><td>Quarter Final</td></tr><tr><td>47</td><td>England</td><td>France</td><td>3</td><td>4</td><td>France</td><td>Quarter Final</td></tr><tr><td>48</td><td>Belgium</td><td>Scotland</td><td>3</td><td>1</td><td>Belgium</td><td>Quarter Final</td></tr><tr><td>49</td><td>Albania</td><td>Ukraine</td><td>2</td><td>2</td><td>Ukraine</td><td>Semi Final</td></tr><tr><td>50</td><td>France</td><td>Belgium</td><td>1</td><td>6</td><td>Belgium</td><td>Semi Final</td></tr></tbody></table></div>"
      ]
     },
     "metadata": {
      "application/vnd.databricks.v1+output": {
       "addedWidgets": {},
       "aggData": [],
       "aggError": "",
       "aggOverflow": false,
       "aggSchema": [],
       "aggSeriesLimitReached": false,
       "aggType": "",
       "arguments": {},
       "columnCustomDisplayInfos": {},
       "data": [
        [
         1,
         "Scotland",
         "Germany",
         2,
         1,
         "Scotland",
         "Group"
        ],
        [
         2,
         "Hungary",
         "Scotland",
         0,
         0,
         "draw",
         "Group"
        ],
        [
         3,
         "Hungary",
         "Germany",
         3,
         0,
         "Hungary",
         "Group"
        ],
        [
         4,
         "Switzerland",
         "Hungary",
         2,
         4,
         "Hungary",
         "Group"
        ],
        [
         5,
         "Switzerland",
         "Scotland",
         3,
         0,
         "Switzerland",
         "Group"
        ],
        [
         6,
         "Switzerland",
         "Germany",
         1,
         4,
         "Germany",
         "Group"
        ],
        [
         7,
         "Croatia",
         "Spain",
         3,
         3,
         "draw",
         "Group"
        ],
        [
         8,
         "Italy",
         "Croatia",
         1,
         0,
         "Italy",
         "Group"
        ],
        [
         9,
         "Italy",
         "Spain",
         4,
         4,
         "draw",
         "Group"
        ],
        [
         10,
         "Albania",
         "Italy",
         4,
         2,
         "Albania",
         "Group"
        ],
        [
         11,
         "Albania",
         "Croatia",
         5,
         0,
         "Albania",
         "Group"
        ],
        [
         12,
         "Albania",
         "Spain",
         4,
         5,
         "Spain",
         "Group"
        ],
        [
         13,
         "Denmark",
         "Slovenia",
         4,
         4,
         "draw",
         "Group"
        ],
        [
         14,
         "Serbia",
         "Denmark",
         0,
         5,
         "Denmark",
         "Group"
        ],
        [
         15,
         "Serbia",
         "Slovenia",
         2,
         4,
         "Slovenia",
         "Group"
        ],
        [
         16,
         "England",
         "Serbia",
         5,
         1,
         "England",
         "Group"
        ],
        [
         17,
         "England",
         "Denmark",
         4,
         4,
         "draw",
         "Group"
        ],
        [
         18,
         "England",
         "Slovenia",
         2,
         3,
         "Slovenia",
         "Group"
        ],
        [
         19,
         "Netherlands",
         "Poland",
         0,
         0,
         "draw",
         "Group"
        ],
        [
         20,
         "Austria",
         "Netherlands",
         5,
         1,
         "Austria",
         "Group"
        ],
        [
         21,
         "Austria",
         "Poland",
         1,
         5,
         "Poland",
         "Group"
        ],
        [
         22,
         "France",
         "Austria",
         4,
         3,
         "France",
         "Group"
        ],
        [
         23,
         "France",
         "Netherlands",
         4,
         0,
         "France",
         "Group"
        ],
        [
         24,
         "France",
         "Poland",
         1,
         1,
         "draw",
         "Group"
        ],
        [
         25,
         "Slovakia",
         "Belgium",
         0,
         4,
         "Belgium",
         "Group"
        ],
        [
         26,
         "Romania",
         "Slovakia",
         4,
         0,
         "Romania",
         "Group"
        ],
        [
         27,
         "Romania",
         "Belgium",
         2,
         1,
         "Romania",
         "Group"
        ],
        [
         28,
         "Ukraine",
         "Romania",
         5,
         3,
         "Ukraine",
         "Group"
        ],
        [
         29,
         "Ukraine",
         "Slovakia",
         3,
         3,
         "draw",
         "Group"
        ],
        [
         30,
         "Ukraine",
         "Belgium",
         2,
         2,
         "draw",
         "Group"
        ],
        [
         31,
         "Greece",
         "Türkiye",
         4,
         5,
         "Türkiye",
         "Group"
        ],
        [
         32,
         "Portugal",
         "Greece",
         2,
         1,
         "Portugal",
         "Group"
        ],
        [
         33,
         "Portugal",
         "Türkiye",
         0,
         4,
         "Türkiye",
         "Group"
        ],
        [
         34,
         "Czech",
         "Portugal",
         2,
         5,
         "Portugal",
         "Group"
        ],
        [
         35,
         "Czech",
         "Greece",
         5,
         1,
         "Czech",
         "Group"
        ],
        [
         36,
         "Czech",
         "Türkiye",
         5,
         0,
         "Czech",
         "Group"
        ],
        [
         37,
         "Albania",
         "Portugal",
         1,
         0,
         "Albania",
         "Round of 16"
        ],
        [
         38,
         "Hungary",
         "Denmark",
         0,
         3,
         "Denmark",
         "Round of 16"
        ],
        [
         39,
         "Czech",
         "Italy",
         1,
         1,
         "Czech",
         "Round of 16"
        ],
        [
         40,
         "Poland",
         "Ukraine",
         0,
         4,
         "Ukraine",
         "Round of 16"
        ],
        [
         41,
         "Romania",
         "England",
         0,
         1,
         "England",
         "Round of 16"
        ],
        [
         42,
         "France",
         "Türkiye",
         1,
         1,
         "France",
         "Round of 16"
        ],
        [
         43,
         "Slovenia",
         "Belgium",
         1,
         3,
         "Belgium",
         "Round of 16"
        ],
        [
         44,
         "Scotland",
         "Spain",
         5,
         4,
         "Scotland",
         "Round of 16"
        ],
        [
         45,
         "Albania",
         "Denmark",
         6,
         5,
         "Albania",
         "Quarter Final"
        ],
        [
         46,
         "Czech",
         "Ukraine",
         2,
         6,
         "Ukraine",
         "Quarter Final"
        ],
        [
         47,
         "England",
         "France",
         3,
         4,
         "France",
         "Quarter Final"
        ],
        [
         48,
         "Belgium",
         "Scotland",
         3,
         1,
         "Belgium",
         "Quarter Final"
        ],
        [
         49,
         "Albania",
         "Ukraine",
         2,
         2,
         "Ukraine",
         "Semi Final"
        ],
        [
         50,
         "France",
         "Belgium",
         1,
         6,
         "Belgium",
         "Semi Final"
        ]
       ],
       "datasetInfos": [],
       "dbfsResultPath": null,
       "isJsonSchema": true,
       "metadata": {},
       "overflow": false,
       "plotOptions": {
        "customPlotOptions": {},
        "displayType": "table",
        "pivotAggregation": null,
        "pivotColumns": null,
        "xColumns": null,
        "yColumns": null
       },
       "removedWidgets": [],
       "schema": [
        {
         "metadata": "{}",
         "name": "MatchId",
         "type": "\"integer\""
        },
        {
         "metadata": "{\"__CHAR_VARCHAR_TYPE_STRING\":\"varchar(255)\"}",
         "name": "Team1",
         "type": "\"string\""
        },
        {
         "metadata": "{\"__CHAR_VARCHAR_TYPE_STRING\":\"varchar(255)\"}",
         "name": "Team2",
         "type": "\"string\""
        },
        {
         "metadata": "{}",
         "name": "Team1Score",
         "type": "\"integer\""
        },
        {
         "metadata": "{}",
         "name": "Team2Score",
         "type": "\"integer\""
        },
        {
         "metadata": "{\"__CHAR_VARCHAR_TYPE_STRING\":\"varchar(255)\"}",
         "name": "Result",
         "type": "\"string\""
        },
        {
         "metadata": "{\"__CHAR_VARCHAR_TYPE_STRING\":\"varchar(255)\"}",
         "name": "Stage",
         "type": "\"string\""
        }
       ],
       "type": "table"
      }
     },
     "output_type": "display_data"
    }
   ],
   "source": [
    "%sql\n",
    "insert into matchetable2(MatchId,\n",
    "  Team1,\n",
    "  Team2,\n",
    "  Team1Score,\n",
    "  Team2Score,\n",
    "  Result,\n",
    "  Stage)\n",
    "SELECT \n",
    "    49 AS MatchId, \n",
    "    (SELECT Result FROM matchetable2 WHERE MatchId = 45) AS team1, \n",
    "    (SELECT Result FROM matchetable2 WHERE MatchId = 46) AS team2,\n",
    "    (SELECT FLOOR(RAND() * 6) + 1) AS Team1Score,\n",
    "    (SELECT FLOOR(RAND() * 6) + 1) AS Team2Score,\n",
    "    'draw' as Result,\n",
    "    'Semi Final' as stage\n",
    "UNION ALL\n",
    "SELECT \n",
    "    50 AS MatchId, \n",
    "    (SELECT Result FROM matchetable2 WHERE MatchId = 47) AS team1, \n",
    "    (SELECT Result FROM matchetable2 WHERE MatchId = 48) AS team2,\n",
    "    (SELECT FLOOR(RAND() * 6) + 1) AS Team1Score,\n",
    "    (SELECT FLOOR(RAND() * 6) + 1) AS Team2Score,\n",
    "    'draw' as Result,\n",
    "    'Semi Final' as stage;\n",
    "\n",
    "UPDATE matchetable2\n",
    "SET Result = \n",
    "    CASE \n",
    "        WHEN team1score > team2score THEN team1\n",
    "        WHEN team1score < team2score THEN team2\n",
    "        ELSE \n",
    "            CASE \n",
    "                WHEN (team1score) % 2 = 1 THEN team1\n",
    "                ELSE team2\n",
    "            END\n",
    "    END\n",
    "where stage = 'Semi Final';\n",
    "\n",
    "select * from matchetable2\n",
    "order by MatchId"
   ]
  },
  {
   "cell_type": "markdown",
   "metadata": {
    "application/vnd.databricks.v1+cell": {
     "cellMetadata": {
      "byteLimit": 2048000,
      "rowLimit": 10000
     },
     "inputWidgets": {},
     "nuid": "86bf68f1-c085-4c20-9b35-6f8e909a54f5",
     "showTitle": false,
     "title": ""
    }
   },
   "source": [
    "# Third Place Match"
   ]
  },
  {
   "cell_type": "code",
   "execution_count": 0,
   "metadata": {
    "application/vnd.databricks.v1+cell": {
     "cellMetadata": {
      "byteLimit": 2048000,
      "implicitDf": true,
      "rowLimit": 10000
     },
     "inputWidgets": {},
     "nuid": "9584445e-7dc8-4b93-9ba2-3726ca3977fd",
     "showTitle": false,
     "title": ""
    }
   },
   "outputs": [
    {
     "output_type": "display_data",
     "data": {
      "text/html": [
       "<style scoped>\n",
       "  .table-result-container {\n",
       "    max-height: 300px;\n",
       "    overflow: auto;\n",
       "  }\n",
       "  table, th, td {\n",
       "    border: 1px solid black;\n",
       "    border-collapse: collapse;\n",
       "  }\n",
       "  th, td {\n",
       "    padding: 5px;\n",
       "  }\n",
       "  th {\n",
       "    text-align: left;\n",
       "  }\n",
       "</style><div class='table-result-container'><table class='table-result'><thead style='background-color: white'><tr><th>MatchId</th><th>Team1</th><th>Team2</th><th>Team1Score</th><th>Team2Score</th><th>Result</th><th>Stage</th></tr></thead><tbody><tr><td>1</td><td>Scotland</td><td>Germany</td><td>2</td><td>1</td><td>Scotland</td><td>Group</td></tr><tr><td>2</td><td>Hungary</td><td>Scotland</td><td>0</td><td>0</td><td>draw</td><td>Group</td></tr><tr><td>3</td><td>Hungary</td><td>Germany</td><td>3</td><td>0</td><td>Hungary</td><td>Group</td></tr><tr><td>4</td><td>Switzerland</td><td>Hungary</td><td>2</td><td>4</td><td>Hungary</td><td>Group</td></tr><tr><td>5</td><td>Switzerland</td><td>Scotland</td><td>3</td><td>0</td><td>Switzerland</td><td>Group</td></tr><tr><td>6</td><td>Switzerland</td><td>Germany</td><td>1</td><td>4</td><td>Germany</td><td>Group</td></tr><tr><td>7</td><td>Croatia</td><td>Spain</td><td>3</td><td>3</td><td>draw</td><td>Group</td></tr><tr><td>8</td><td>Italy</td><td>Croatia</td><td>1</td><td>0</td><td>Italy</td><td>Group</td></tr><tr><td>9</td><td>Italy</td><td>Spain</td><td>4</td><td>4</td><td>draw</td><td>Group</td></tr><tr><td>10</td><td>Albania</td><td>Italy</td><td>4</td><td>2</td><td>Albania</td><td>Group</td></tr><tr><td>11</td><td>Albania</td><td>Croatia</td><td>5</td><td>0</td><td>Albania</td><td>Group</td></tr><tr><td>12</td><td>Albania</td><td>Spain</td><td>4</td><td>5</td><td>Spain</td><td>Group</td></tr><tr><td>13</td><td>Denmark</td><td>Slovenia</td><td>4</td><td>4</td><td>draw</td><td>Group</td></tr><tr><td>14</td><td>Serbia</td><td>Denmark</td><td>0</td><td>5</td><td>Denmark</td><td>Group</td></tr><tr><td>15</td><td>Serbia</td><td>Slovenia</td><td>2</td><td>4</td><td>Slovenia</td><td>Group</td></tr><tr><td>16</td><td>England</td><td>Serbia</td><td>5</td><td>1</td><td>England</td><td>Group</td></tr><tr><td>17</td><td>England</td><td>Denmark</td><td>4</td><td>4</td><td>draw</td><td>Group</td></tr><tr><td>18</td><td>England</td><td>Slovenia</td><td>2</td><td>3</td><td>Slovenia</td><td>Group</td></tr><tr><td>19</td><td>Netherlands</td><td>Poland</td><td>0</td><td>0</td><td>draw</td><td>Group</td></tr><tr><td>20</td><td>Austria</td><td>Netherlands</td><td>5</td><td>1</td><td>Austria</td><td>Group</td></tr><tr><td>21</td><td>Austria</td><td>Poland</td><td>1</td><td>5</td><td>Poland</td><td>Group</td></tr><tr><td>22</td><td>France</td><td>Austria</td><td>4</td><td>3</td><td>France</td><td>Group</td></tr><tr><td>23</td><td>France</td><td>Netherlands</td><td>4</td><td>0</td><td>France</td><td>Group</td></tr><tr><td>24</td><td>France</td><td>Poland</td><td>1</td><td>1</td><td>draw</td><td>Group</td></tr><tr><td>25</td><td>Slovakia</td><td>Belgium</td><td>0</td><td>4</td><td>Belgium</td><td>Group</td></tr><tr><td>26</td><td>Romania</td><td>Slovakia</td><td>4</td><td>0</td><td>Romania</td><td>Group</td></tr><tr><td>27</td><td>Romania</td><td>Belgium</td><td>2</td><td>1</td><td>Romania</td><td>Group</td></tr><tr><td>28</td><td>Ukraine</td><td>Romania</td><td>5</td><td>3</td><td>Ukraine</td><td>Group</td></tr><tr><td>29</td><td>Ukraine</td><td>Slovakia</td><td>3</td><td>3</td><td>draw</td><td>Group</td></tr><tr><td>30</td><td>Ukraine</td><td>Belgium</td><td>2</td><td>2</td><td>draw</td><td>Group</td></tr><tr><td>31</td><td>Greece</td><td>Türkiye</td><td>4</td><td>5</td><td>Türkiye</td><td>Group</td></tr><tr><td>32</td><td>Portugal</td><td>Greece</td><td>2</td><td>1</td><td>Portugal</td><td>Group</td></tr><tr><td>33</td><td>Portugal</td><td>Türkiye</td><td>0</td><td>4</td><td>Türkiye</td><td>Group</td></tr><tr><td>34</td><td>Czech</td><td>Portugal</td><td>2</td><td>5</td><td>Portugal</td><td>Group</td></tr><tr><td>35</td><td>Czech</td><td>Greece</td><td>5</td><td>1</td><td>Czech</td><td>Group</td></tr><tr><td>36</td><td>Czech</td><td>Türkiye</td><td>5</td><td>0</td><td>Czech</td><td>Group</td></tr><tr><td>37</td><td>Albania</td><td>Portugal</td><td>1</td><td>0</td><td>Albania</td><td>Round of 16</td></tr><tr><td>38</td><td>Hungary</td><td>Denmark</td><td>0</td><td>3</td><td>Denmark</td><td>Round of 16</td></tr><tr><td>39</td><td>Czech</td><td>Italy</td><td>1</td><td>1</td><td>Czech</td><td>Round of 16</td></tr><tr><td>40</td><td>Poland</td><td>Ukraine</td><td>0</td><td>4</td><td>Ukraine</td><td>Round of 16</td></tr><tr><td>41</td><td>Romania</td><td>England</td><td>0</td><td>1</td><td>England</td><td>Round of 16</td></tr><tr><td>42</td><td>France</td><td>Türkiye</td><td>1</td><td>1</td><td>France</td><td>Round of 16</td></tr><tr><td>43</td><td>Slovenia</td><td>Belgium</td><td>1</td><td>3</td><td>Belgium</td><td>Round of 16</td></tr><tr><td>44</td><td>Scotland</td><td>Spain</td><td>5</td><td>4</td><td>Scotland</td><td>Round of 16</td></tr><tr><td>45</td><td>Albania</td><td>Denmark</td><td>6</td><td>5</td><td>Albania</td><td>Quarter Final</td></tr><tr><td>46</td><td>Czech</td><td>Ukraine</td><td>2</td><td>6</td><td>Ukraine</td><td>Quarter Final</td></tr><tr><td>47</td><td>England</td><td>France</td><td>3</td><td>4</td><td>France</td><td>Quarter Final</td></tr><tr><td>48</td><td>Belgium</td><td>Scotland</td><td>3</td><td>1</td><td>Belgium</td><td>Quarter Final</td></tr><tr><td>49</td><td>Albania</td><td>Ukraine</td><td>2</td><td>2</td><td>Ukraine</td><td>Semi Final</td></tr><tr><td>50</td><td>France</td><td>Belgium</td><td>1</td><td>6</td><td>Belgium</td><td>Semi Final</td></tr><tr><td>51</td><td>Albania</td><td>France</td><td>2</td><td>5</td><td>France</td><td>Third Place</td></tr></tbody></table></div>"
      ]
     },
     "metadata": {
      "application/vnd.databricks.v1+output": {
       "addedWidgets": {},
       "aggData": [],
       "aggError": "",
       "aggOverflow": false,
       "aggSchema": [],
       "aggSeriesLimitReached": false,
       "aggType": "",
       "arguments": {},
       "columnCustomDisplayInfos": {},
       "data": [
        [
         1,
         "Scotland",
         "Germany",
         2,
         1,
         "Scotland",
         "Group"
        ],
        [
         2,
         "Hungary",
         "Scotland",
         0,
         0,
         "draw",
         "Group"
        ],
        [
         3,
         "Hungary",
         "Germany",
         3,
         0,
         "Hungary",
         "Group"
        ],
        [
         4,
         "Switzerland",
         "Hungary",
         2,
         4,
         "Hungary",
         "Group"
        ],
        [
         5,
         "Switzerland",
         "Scotland",
         3,
         0,
         "Switzerland",
         "Group"
        ],
        [
         6,
         "Switzerland",
         "Germany",
         1,
         4,
         "Germany",
         "Group"
        ],
        [
         7,
         "Croatia",
         "Spain",
         3,
         3,
         "draw",
         "Group"
        ],
        [
         8,
         "Italy",
         "Croatia",
         1,
         0,
         "Italy",
         "Group"
        ],
        [
         9,
         "Italy",
         "Spain",
         4,
         4,
         "draw",
         "Group"
        ],
        [
         10,
         "Albania",
         "Italy",
         4,
         2,
         "Albania",
         "Group"
        ],
        [
         11,
         "Albania",
         "Croatia",
         5,
         0,
         "Albania",
         "Group"
        ],
        [
         12,
         "Albania",
         "Spain",
         4,
         5,
         "Spain",
         "Group"
        ],
        [
         13,
         "Denmark",
         "Slovenia",
         4,
         4,
         "draw",
         "Group"
        ],
        [
         14,
         "Serbia",
         "Denmark",
         0,
         5,
         "Denmark",
         "Group"
        ],
        [
         15,
         "Serbia",
         "Slovenia",
         2,
         4,
         "Slovenia",
         "Group"
        ],
        [
         16,
         "England",
         "Serbia",
         5,
         1,
         "England",
         "Group"
        ],
        [
         17,
         "England",
         "Denmark",
         4,
         4,
         "draw",
         "Group"
        ],
        [
         18,
         "England",
         "Slovenia",
         2,
         3,
         "Slovenia",
         "Group"
        ],
        [
         19,
         "Netherlands",
         "Poland",
         0,
         0,
         "draw",
         "Group"
        ],
        [
         20,
         "Austria",
         "Netherlands",
         5,
         1,
         "Austria",
         "Group"
        ],
        [
         21,
         "Austria",
         "Poland",
         1,
         5,
         "Poland",
         "Group"
        ],
        [
         22,
         "France",
         "Austria",
         4,
         3,
         "France",
         "Group"
        ],
        [
         23,
         "France",
         "Netherlands",
         4,
         0,
         "France",
         "Group"
        ],
        [
         24,
         "France",
         "Poland",
         1,
         1,
         "draw",
         "Group"
        ],
        [
         25,
         "Slovakia",
         "Belgium",
         0,
         4,
         "Belgium",
         "Group"
        ],
        [
         26,
         "Romania",
         "Slovakia",
         4,
         0,
         "Romania",
         "Group"
        ],
        [
         27,
         "Romania",
         "Belgium",
         2,
         1,
         "Romania",
         "Group"
        ],
        [
         28,
         "Ukraine",
         "Romania",
         5,
         3,
         "Ukraine",
         "Group"
        ],
        [
         29,
         "Ukraine",
         "Slovakia",
         3,
         3,
         "draw",
         "Group"
        ],
        [
         30,
         "Ukraine",
         "Belgium",
         2,
         2,
         "draw",
         "Group"
        ],
        [
         31,
         "Greece",
         "Türkiye",
         4,
         5,
         "Türkiye",
         "Group"
        ],
        [
         32,
         "Portugal",
         "Greece",
         2,
         1,
         "Portugal",
         "Group"
        ],
        [
         33,
         "Portugal",
         "Türkiye",
         0,
         4,
         "Türkiye",
         "Group"
        ],
        [
         34,
         "Czech",
         "Portugal",
         2,
         5,
         "Portugal",
         "Group"
        ],
        [
         35,
         "Czech",
         "Greece",
         5,
         1,
         "Czech",
         "Group"
        ],
        [
         36,
         "Czech",
         "Türkiye",
         5,
         0,
         "Czech",
         "Group"
        ],
        [
         37,
         "Albania",
         "Portugal",
         1,
         0,
         "Albania",
         "Round of 16"
        ],
        [
         38,
         "Hungary",
         "Denmark",
         0,
         3,
         "Denmark",
         "Round of 16"
        ],
        [
         39,
         "Czech",
         "Italy",
         1,
         1,
         "Czech",
         "Round of 16"
        ],
        [
         40,
         "Poland",
         "Ukraine",
         0,
         4,
         "Ukraine",
         "Round of 16"
        ],
        [
         41,
         "Romania",
         "England",
         0,
         1,
         "England",
         "Round of 16"
        ],
        [
         42,
         "France",
         "Türkiye",
         1,
         1,
         "France",
         "Round of 16"
        ],
        [
         43,
         "Slovenia",
         "Belgium",
         1,
         3,
         "Belgium",
         "Round of 16"
        ],
        [
         44,
         "Scotland",
         "Spain",
         5,
         4,
         "Scotland",
         "Round of 16"
        ],
        [
         45,
         "Albania",
         "Denmark",
         6,
         5,
         "Albania",
         "Quarter Final"
        ],
        [
         46,
         "Czech",
         "Ukraine",
         2,
         6,
         "Ukraine",
         "Quarter Final"
        ],
        [
         47,
         "England",
         "France",
         3,
         4,
         "France",
         "Quarter Final"
        ],
        [
         48,
         "Belgium",
         "Scotland",
         3,
         1,
         "Belgium",
         "Quarter Final"
        ],
        [
         49,
         "Albania",
         "Ukraine",
         2,
         2,
         "Ukraine",
         "Semi Final"
        ],
        [
         50,
         "France",
         "Belgium",
         1,
         6,
         "Belgium",
         "Semi Final"
        ],
        [
         51,
         "Albania",
         "France",
         2,
         5,
         "France",
         "Third Place"
        ]
       ],
       "datasetInfos": [],
       "dbfsResultPath": null,
       "isJsonSchema": true,
       "metadata": {},
       "overflow": false,
       "plotOptions": {
        "customPlotOptions": {},
        "displayType": "table",
        "pivotAggregation": null,
        "pivotColumns": null,
        "xColumns": null,
        "yColumns": null
       },
       "removedWidgets": [],
       "schema": [
        {
         "metadata": "{}",
         "name": "MatchId",
         "type": "\"integer\""
        },
        {
         "metadata": "{\"__CHAR_VARCHAR_TYPE_STRING\":\"varchar(255)\"}",
         "name": "Team1",
         "type": "\"string\""
        },
        {
         "metadata": "{\"__CHAR_VARCHAR_TYPE_STRING\":\"varchar(255)\"}",
         "name": "Team2",
         "type": "\"string\""
        },
        {
         "metadata": "{}",
         "name": "Team1Score",
         "type": "\"integer\""
        },
        {
         "metadata": "{}",
         "name": "Team2Score",
         "type": "\"integer\""
        },
        {
         "metadata": "{\"__CHAR_VARCHAR_TYPE_STRING\":\"varchar(255)\"}",
         "name": "Result",
         "type": "\"string\""
        },
        {
         "metadata": "{\"__CHAR_VARCHAR_TYPE_STRING\":\"varchar(255)\"}",
         "name": "Stage",
         "type": "\"string\""
        }
       ],
       "type": "table"
      }
     },
     "output_type": "display_data"
    }
   ],
   "source": [
    "%sql\n",
    "INSERT INTO matchetable2 (MatchId, team1, team2, team1score, team2score, Result, stage)\n",
    "SELECT \n",
    "    51 AS MatchId, \n",
    "    (SELECT Result FROM matchetable2 WHERE stage='Quarter Final' and Result not in (select Result FROM matchetable2 WHERE stage='Semi Final') LIMIT 1 OFFSET 0) AS team1, \n",
    "    (SELECT Result FROM matchetable2 WHERE stage='Quarter Final' and Result not in (select Result FROM matchetable2 WHERE stage='Semi Final') LIMIT 1 OFFSET 1) AS team2,\n",
    "    (SELECT FLOOR(RAND() * 6) + 1) AS Team1Score,\n",
    "    (SELECT FLOOR(RAND() * 6) + 1) AS Team2Score,\n",
    "    'draw' as Result,\n",
    "    'Third Place' as stage;\n",
    "UPDATE matchetable2\n",
    "SET Result = \n",
    "    CASE \n",
    "        WHEN team1score > team2score THEN team1\n",
    "        WHEN team1score < team2score THEN team2\n",
    "        ELSE \n",
    "            CASE \n",
    "                WHEN (team1score) % 2 = 1 THEN team1\n",
    "                ELSE team2\n",
    "            END\n",
    "    END\n",
    "where stage = 'Third Place';\n",
    "\n",
    "select * from matchetable2\n",
    "order by MatchId"
   ]
  },
  {
   "cell_type": "markdown",
   "metadata": {
    "application/vnd.databricks.v1+cell": {
     "cellMetadata": {
      "byteLimit": 2048000,
      "rowLimit": 10000
     },
     "inputWidgets": {},
     "nuid": "c4ec788a-61eb-422a-911b-ca0b0b6dc263",
     "showTitle": false,
     "title": ""
    }
   },
   "source": [
    "# Final Match\n"
   ]
  },
  {
   "cell_type": "code",
   "execution_count": 0,
   "metadata": {
    "application/vnd.databricks.v1+cell": {
     "cellMetadata": {
      "byteLimit": 2048000,
      "implicitDf": true,
      "rowLimit": 10000
     },
     "inputWidgets": {},
     "nuid": "2dd8b440-bff6-48d5-935c-020ad656f89a",
     "showTitle": false,
     "title": ""
    }
   },
   "outputs": [
    {
     "output_type": "display_data",
     "data": {
      "text/html": [
       "<style scoped>\n",
       "  .table-result-container {\n",
       "    max-height: 300px;\n",
       "    overflow: auto;\n",
       "  }\n",
       "  table, th, td {\n",
       "    border: 1px solid black;\n",
       "    border-collapse: collapse;\n",
       "  }\n",
       "  th, td {\n",
       "    padding: 5px;\n",
       "  }\n",
       "  th {\n",
       "    text-align: left;\n",
       "  }\n",
       "</style><div class='table-result-container'><table class='table-result'><thead style='background-color: white'><tr><th>MatchId</th><th>Team1</th><th>Team2</th><th>Team1Score</th><th>Team2Score</th><th>Result</th><th>Stage</th></tr></thead><tbody><tr><td>1</td><td>Scotland</td><td>Germany</td><td>2</td><td>1</td><td>Scotland</td><td>Group</td></tr><tr><td>2</td><td>Hungary</td><td>Scotland</td><td>0</td><td>0</td><td>draw</td><td>Group</td></tr><tr><td>3</td><td>Hungary</td><td>Germany</td><td>3</td><td>0</td><td>Hungary</td><td>Group</td></tr><tr><td>4</td><td>Switzerland</td><td>Hungary</td><td>2</td><td>4</td><td>Hungary</td><td>Group</td></tr><tr><td>5</td><td>Switzerland</td><td>Scotland</td><td>3</td><td>0</td><td>Switzerland</td><td>Group</td></tr><tr><td>6</td><td>Switzerland</td><td>Germany</td><td>1</td><td>4</td><td>Germany</td><td>Group</td></tr><tr><td>7</td><td>Croatia</td><td>Spain</td><td>3</td><td>3</td><td>draw</td><td>Group</td></tr><tr><td>8</td><td>Italy</td><td>Croatia</td><td>1</td><td>0</td><td>Italy</td><td>Group</td></tr><tr><td>9</td><td>Italy</td><td>Spain</td><td>4</td><td>4</td><td>draw</td><td>Group</td></tr><tr><td>10</td><td>Albania</td><td>Italy</td><td>4</td><td>2</td><td>Albania</td><td>Group</td></tr><tr><td>11</td><td>Albania</td><td>Croatia</td><td>5</td><td>0</td><td>Albania</td><td>Group</td></tr><tr><td>12</td><td>Albania</td><td>Spain</td><td>4</td><td>5</td><td>Spain</td><td>Group</td></tr><tr><td>13</td><td>Denmark</td><td>Slovenia</td><td>4</td><td>4</td><td>draw</td><td>Group</td></tr><tr><td>14</td><td>Serbia</td><td>Denmark</td><td>0</td><td>5</td><td>Denmark</td><td>Group</td></tr><tr><td>15</td><td>Serbia</td><td>Slovenia</td><td>2</td><td>4</td><td>Slovenia</td><td>Group</td></tr><tr><td>16</td><td>England</td><td>Serbia</td><td>5</td><td>1</td><td>England</td><td>Group</td></tr><tr><td>17</td><td>England</td><td>Denmark</td><td>4</td><td>4</td><td>draw</td><td>Group</td></tr><tr><td>18</td><td>England</td><td>Slovenia</td><td>2</td><td>3</td><td>Slovenia</td><td>Group</td></tr><tr><td>19</td><td>Netherlands</td><td>Poland</td><td>0</td><td>0</td><td>draw</td><td>Group</td></tr><tr><td>20</td><td>Austria</td><td>Netherlands</td><td>5</td><td>1</td><td>Austria</td><td>Group</td></tr><tr><td>21</td><td>Austria</td><td>Poland</td><td>1</td><td>5</td><td>Poland</td><td>Group</td></tr><tr><td>22</td><td>France</td><td>Austria</td><td>4</td><td>3</td><td>France</td><td>Group</td></tr><tr><td>23</td><td>France</td><td>Netherlands</td><td>4</td><td>0</td><td>France</td><td>Group</td></tr><tr><td>24</td><td>France</td><td>Poland</td><td>1</td><td>1</td><td>draw</td><td>Group</td></tr><tr><td>25</td><td>Slovakia</td><td>Belgium</td><td>0</td><td>4</td><td>Belgium</td><td>Group</td></tr><tr><td>26</td><td>Romania</td><td>Slovakia</td><td>4</td><td>0</td><td>Romania</td><td>Group</td></tr><tr><td>27</td><td>Romania</td><td>Belgium</td><td>2</td><td>1</td><td>Romania</td><td>Group</td></tr><tr><td>28</td><td>Ukraine</td><td>Romania</td><td>5</td><td>3</td><td>Ukraine</td><td>Group</td></tr><tr><td>29</td><td>Ukraine</td><td>Slovakia</td><td>3</td><td>3</td><td>draw</td><td>Group</td></tr><tr><td>30</td><td>Ukraine</td><td>Belgium</td><td>2</td><td>2</td><td>draw</td><td>Group</td></tr><tr><td>31</td><td>Greece</td><td>Türkiye</td><td>4</td><td>5</td><td>Türkiye</td><td>Group</td></tr><tr><td>32</td><td>Portugal</td><td>Greece</td><td>2</td><td>1</td><td>Portugal</td><td>Group</td></tr><tr><td>33</td><td>Portugal</td><td>Türkiye</td><td>0</td><td>4</td><td>Türkiye</td><td>Group</td></tr><tr><td>34</td><td>Czech</td><td>Portugal</td><td>2</td><td>5</td><td>Portugal</td><td>Group</td></tr><tr><td>35</td><td>Czech</td><td>Greece</td><td>5</td><td>1</td><td>Czech</td><td>Group</td></tr><tr><td>36</td><td>Czech</td><td>Türkiye</td><td>5</td><td>0</td><td>Czech</td><td>Group</td></tr><tr><td>37</td><td>Albania</td><td>Portugal</td><td>1</td><td>0</td><td>Albania</td><td>Round of 16</td></tr><tr><td>38</td><td>Hungary</td><td>Denmark</td><td>0</td><td>3</td><td>Denmark</td><td>Round of 16</td></tr><tr><td>39</td><td>Czech</td><td>Italy</td><td>1</td><td>1</td><td>Czech</td><td>Round of 16</td></tr><tr><td>40</td><td>Poland</td><td>Ukraine</td><td>0</td><td>4</td><td>Ukraine</td><td>Round of 16</td></tr><tr><td>41</td><td>Romania</td><td>England</td><td>0</td><td>1</td><td>England</td><td>Round of 16</td></tr><tr><td>42</td><td>France</td><td>Türkiye</td><td>1</td><td>1</td><td>France</td><td>Round of 16</td></tr><tr><td>43</td><td>Slovenia</td><td>Belgium</td><td>1</td><td>3</td><td>Belgium</td><td>Round of 16</td></tr><tr><td>44</td><td>Scotland</td><td>Spain</td><td>5</td><td>4</td><td>Scotland</td><td>Round of 16</td></tr><tr><td>45</td><td>Albania</td><td>Denmark</td><td>6</td><td>5</td><td>Albania</td><td>Quarter Final</td></tr><tr><td>46</td><td>Czech</td><td>Ukraine</td><td>2</td><td>6</td><td>Ukraine</td><td>Quarter Final</td></tr><tr><td>47</td><td>England</td><td>France</td><td>3</td><td>4</td><td>France</td><td>Quarter Final</td></tr><tr><td>48</td><td>Belgium</td><td>Scotland</td><td>3</td><td>1</td><td>Belgium</td><td>Quarter Final</td></tr><tr><td>49</td><td>Albania</td><td>Ukraine</td><td>2</td><td>2</td><td>Ukraine</td><td>Semi Final</td></tr><tr><td>50</td><td>France</td><td>Belgium</td><td>1</td><td>6</td><td>Belgium</td><td>Semi Final</td></tr><tr><td>51</td><td>Albania</td><td>France</td><td>2</td><td>5</td><td>France</td><td>Third Place</td></tr><tr><td>52</td><td>Ukraine</td><td>Belgium</td><td>3</td><td>1</td><td>Ukraine</td><td>Final</td></tr></tbody></table></div>"
      ]
     },
     "metadata": {
      "application/vnd.databricks.v1+output": {
       "addedWidgets": {},
       "aggData": [],
       "aggError": "",
       "aggOverflow": false,
       "aggSchema": [],
       "aggSeriesLimitReached": false,
       "aggType": "",
       "arguments": {},
       "columnCustomDisplayInfos": {},
       "data": [
        [
         1,
         "Scotland",
         "Germany",
         2,
         1,
         "Scotland",
         "Group"
        ],
        [
         2,
         "Hungary",
         "Scotland",
         0,
         0,
         "draw",
         "Group"
        ],
        [
         3,
         "Hungary",
         "Germany",
         3,
         0,
         "Hungary",
         "Group"
        ],
        [
         4,
         "Switzerland",
         "Hungary",
         2,
         4,
         "Hungary",
         "Group"
        ],
        [
         5,
         "Switzerland",
         "Scotland",
         3,
         0,
         "Switzerland",
         "Group"
        ],
        [
         6,
         "Switzerland",
         "Germany",
         1,
         4,
         "Germany",
         "Group"
        ],
        [
         7,
         "Croatia",
         "Spain",
         3,
         3,
         "draw",
         "Group"
        ],
        [
         8,
         "Italy",
         "Croatia",
         1,
         0,
         "Italy",
         "Group"
        ],
        [
         9,
         "Italy",
         "Spain",
         4,
         4,
         "draw",
         "Group"
        ],
        [
         10,
         "Albania",
         "Italy",
         4,
         2,
         "Albania",
         "Group"
        ],
        [
         11,
         "Albania",
         "Croatia",
         5,
         0,
         "Albania",
         "Group"
        ],
        [
         12,
         "Albania",
         "Spain",
         4,
         5,
         "Spain",
         "Group"
        ],
        [
         13,
         "Denmark",
         "Slovenia",
         4,
         4,
         "draw",
         "Group"
        ],
        [
         14,
         "Serbia",
         "Denmark",
         0,
         5,
         "Denmark",
         "Group"
        ],
        [
         15,
         "Serbia",
         "Slovenia",
         2,
         4,
         "Slovenia",
         "Group"
        ],
        [
         16,
         "England",
         "Serbia",
         5,
         1,
         "England",
         "Group"
        ],
        [
         17,
         "England",
         "Denmark",
         4,
         4,
         "draw",
         "Group"
        ],
        [
         18,
         "England",
         "Slovenia",
         2,
         3,
         "Slovenia",
         "Group"
        ],
        [
         19,
         "Netherlands",
         "Poland",
         0,
         0,
         "draw",
         "Group"
        ],
        [
         20,
         "Austria",
         "Netherlands",
         5,
         1,
         "Austria",
         "Group"
        ],
        [
         21,
         "Austria",
         "Poland",
         1,
         5,
         "Poland",
         "Group"
        ],
        [
         22,
         "France",
         "Austria",
         4,
         3,
         "France",
         "Group"
        ],
        [
         23,
         "France",
         "Netherlands",
         4,
         0,
         "France",
         "Group"
        ],
        [
         24,
         "France",
         "Poland",
         1,
         1,
         "draw",
         "Group"
        ],
        [
         25,
         "Slovakia",
         "Belgium",
         0,
         4,
         "Belgium",
         "Group"
        ],
        [
         26,
         "Romania",
         "Slovakia",
         4,
         0,
         "Romania",
         "Group"
        ],
        [
         27,
         "Romania",
         "Belgium",
         2,
         1,
         "Romania",
         "Group"
        ],
        [
         28,
         "Ukraine",
         "Romania",
         5,
         3,
         "Ukraine",
         "Group"
        ],
        [
         29,
         "Ukraine",
         "Slovakia",
         3,
         3,
         "draw",
         "Group"
        ],
        [
         30,
         "Ukraine",
         "Belgium",
         2,
         2,
         "draw",
         "Group"
        ],
        [
         31,
         "Greece",
         "Türkiye",
         4,
         5,
         "Türkiye",
         "Group"
        ],
        [
         32,
         "Portugal",
         "Greece",
         2,
         1,
         "Portugal",
         "Group"
        ],
        [
         33,
         "Portugal",
         "Türkiye",
         0,
         4,
         "Türkiye",
         "Group"
        ],
        [
         34,
         "Czech",
         "Portugal",
         2,
         5,
         "Portugal",
         "Group"
        ],
        [
         35,
         "Czech",
         "Greece",
         5,
         1,
         "Czech",
         "Group"
        ],
        [
         36,
         "Czech",
         "Türkiye",
         5,
         0,
         "Czech",
         "Group"
        ],
        [
         37,
         "Albania",
         "Portugal",
         1,
         0,
         "Albania",
         "Round of 16"
        ],
        [
         38,
         "Hungary",
         "Denmark",
         0,
         3,
         "Denmark",
         "Round of 16"
        ],
        [
         39,
         "Czech",
         "Italy",
         1,
         1,
         "Czech",
         "Round of 16"
        ],
        [
         40,
         "Poland",
         "Ukraine",
         0,
         4,
         "Ukraine",
         "Round of 16"
        ],
        [
         41,
         "Romania",
         "England",
         0,
         1,
         "England",
         "Round of 16"
        ],
        [
         42,
         "France",
         "Türkiye",
         1,
         1,
         "France",
         "Round of 16"
        ],
        [
         43,
         "Slovenia",
         "Belgium",
         1,
         3,
         "Belgium",
         "Round of 16"
        ],
        [
         44,
         "Scotland",
         "Spain",
         5,
         4,
         "Scotland",
         "Round of 16"
        ],
        [
         45,
         "Albania",
         "Denmark",
         6,
         5,
         "Albania",
         "Quarter Final"
        ],
        [
         46,
         "Czech",
         "Ukraine",
         2,
         6,
         "Ukraine",
         "Quarter Final"
        ],
        [
         47,
         "England",
         "France",
         3,
         4,
         "France",
         "Quarter Final"
        ],
        [
         48,
         "Belgium",
         "Scotland",
         3,
         1,
         "Belgium",
         "Quarter Final"
        ],
        [
         49,
         "Albania",
         "Ukraine",
         2,
         2,
         "Ukraine",
         "Semi Final"
        ],
        [
         50,
         "France",
         "Belgium",
         1,
         6,
         "Belgium",
         "Semi Final"
        ],
        [
         51,
         "Albania",
         "France",
         2,
         5,
         "France",
         "Third Place"
        ],
        [
         52,
         "Ukraine",
         "Belgium",
         3,
         1,
         "Ukraine",
         "Final"
        ]
       ],
       "datasetInfos": [],
       "dbfsResultPath": null,
       "isJsonSchema": true,
       "metadata": {},
       "overflow": false,
       "plotOptions": {
        "customPlotOptions": {},
        "displayType": "table",
        "pivotAggregation": null,
        "pivotColumns": null,
        "xColumns": null,
        "yColumns": null
       },
       "removedWidgets": [],
       "schema": [
        {
         "metadata": "{}",
         "name": "MatchId",
         "type": "\"integer\""
        },
        {
         "metadata": "{\"__CHAR_VARCHAR_TYPE_STRING\":\"varchar(255)\"}",
         "name": "Team1",
         "type": "\"string\""
        },
        {
         "metadata": "{\"__CHAR_VARCHAR_TYPE_STRING\":\"varchar(255)\"}",
         "name": "Team2",
         "type": "\"string\""
        },
        {
         "metadata": "{}",
         "name": "Team1Score",
         "type": "\"integer\""
        },
        {
         "metadata": "{}",
         "name": "Team2Score",
         "type": "\"integer\""
        },
        {
         "metadata": "{\"__CHAR_VARCHAR_TYPE_STRING\":\"varchar(255)\"}",
         "name": "Result",
         "type": "\"string\""
        },
        {
         "metadata": "{\"__CHAR_VARCHAR_TYPE_STRING\":\"varchar(255)\"}",
         "name": "Stage",
         "type": "\"string\""
        }
       ],
       "type": "table"
      }
     },
     "output_type": "display_data"
    }
   ],
   "source": [
    "%sql\n",
    "insert into matchetable2(MatchId,\n",
    "  Team1,\n",
    "  Team2,\n",
    "  Team1Score,\n",
    "  Team2Score,\n",
    "  Result,\n",
    "  Stage)\n",
    "\n",
    "  SELECT \n",
    "    52 AS MatchId, \n",
    "    f1.Result AS team1, \n",
    "    f2.Result AS team2,\n",
    "    FLOOR(RAND() * 6) + 1 AS Team1Score,\n",
    "    FLOOR(RAND() * 6) + 1 AS Team2Score,\n",
    "    'draw' as Result,\n",
    "    'Final' as stage\n",
    "  from\n",
    "    matchetable2 f1\n",
    "  join\n",
    "    matchetable2 f2\n",
    "  on \n",
    "    f1.MatchID = 49 and f2.MatchID = 50;\n",
    "  \n",
    "UPDATE matchetable2\n",
    "SET Result = \n",
    "    CASE \n",
    "        WHEN team1score > team2score THEN team1\n",
    "        WHEN team1score < team2score THEN team2\n",
    "        ELSE \n",
    "            CASE \n",
    "                WHEN (team1score) % 2 = 1 THEN team1\n",
    "                ELSE team2\n",
    "            END\n",
    "    END\n",
    "where stage = 'Final';\n",
    "\n",
    "select * from matchetable2\n",
    "order by MatchId"
   ]
  },
  {
   "cell_type": "code",
   "execution_count": 0,
   "metadata": {
    "application/vnd.databricks.v1+cell": {
     "cellMetadata": {
      "byteLimit": 2048000,
      "implicitDf": true,
      "rowLimit": 10000
     },
     "inputWidgets": {},
     "nuid": "0a702ea7-3c0f-4065-b712-0b8adba9b09f",
     "showTitle": false,
     "title": ""
    }
   },
   "outputs": [
    {
     "output_type": "display_data",
     "data": {
      "text/html": [
       "<style scoped>\n",
       "  .table-result-container {\n",
       "    max-height: 300px;\n",
       "    overflow: auto;\n",
       "  }\n",
       "  table, th, td {\n",
       "    border: 1px solid black;\n",
       "    border-collapse: collapse;\n",
       "  }\n",
       "  th, td {\n",
       "    padding: 5px;\n",
       "  }\n",
       "  th {\n",
       "    text-align: left;\n",
       "  }\n",
       "</style><div class='table-result-container'><table class='table-result'><thead style='background-color: white'><tr><th>MatchId</th><th>Team1</th><th>Team2</th><th>Team1Score</th><th>Team2Score</th><th>Result</th><th>Stage</th></tr></thead><tbody><tr><td>1</td><td>Scotland</td><td>Germany</td><td>2</td><td>1</td><td>Scotland</td><td>Group</td></tr><tr><td>2</td><td>Hungary</td><td>Scotland</td><td>0</td><td>0</td><td>draw</td><td>Group</td></tr><tr><td>3</td><td>Hungary</td><td>Germany</td><td>3</td><td>0</td><td>Hungary</td><td>Group</td></tr><tr><td>4</td><td>Switzerland</td><td>Hungary</td><td>2</td><td>4</td><td>Hungary</td><td>Group</td></tr><tr><td>5</td><td>Switzerland</td><td>Scotland</td><td>3</td><td>0</td><td>Switzerland</td><td>Group</td></tr><tr><td>6</td><td>Switzerland</td><td>Germany</td><td>1</td><td>4</td><td>Germany</td><td>Group</td></tr><tr><td>7</td><td>Croatia</td><td>Spain</td><td>3</td><td>3</td><td>draw</td><td>Group</td></tr><tr><td>8</td><td>Italy</td><td>Croatia</td><td>1</td><td>0</td><td>Italy</td><td>Group</td></tr><tr><td>9</td><td>Italy</td><td>Spain</td><td>4</td><td>4</td><td>draw</td><td>Group</td></tr><tr><td>10</td><td>Albania</td><td>Italy</td><td>4</td><td>2</td><td>Albania</td><td>Group</td></tr><tr><td>11</td><td>Albania</td><td>Croatia</td><td>5</td><td>0</td><td>Albania</td><td>Group</td></tr><tr><td>12</td><td>Albania</td><td>Spain</td><td>4</td><td>5</td><td>Spain</td><td>Group</td></tr><tr><td>13</td><td>Denmark</td><td>Slovenia</td><td>4</td><td>4</td><td>draw</td><td>Group</td></tr><tr><td>14</td><td>Serbia</td><td>Denmark</td><td>0</td><td>5</td><td>Denmark</td><td>Group</td></tr><tr><td>15</td><td>Serbia</td><td>Slovenia</td><td>2</td><td>4</td><td>Slovenia</td><td>Group</td></tr><tr><td>16</td><td>England</td><td>Serbia</td><td>5</td><td>1</td><td>England</td><td>Group</td></tr><tr><td>17</td><td>England</td><td>Denmark</td><td>4</td><td>4</td><td>draw</td><td>Group</td></tr><tr><td>18</td><td>England</td><td>Slovenia</td><td>2</td><td>3</td><td>Slovenia</td><td>Group</td></tr><tr><td>19</td><td>Netherlands</td><td>Poland</td><td>0</td><td>0</td><td>draw</td><td>Group</td></tr><tr><td>20</td><td>Austria</td><td>Netherlands</td><td>5</td><td>1</td><td>Austria</td><td>Group</td></tr><tr><td>21</td><td>Austria</td><td>Poland</td><td>1</td><td>5</td><td>Poland</td><td>Group</td></tr><tr><td>22</td><td>France</td><td>Austria</td><td>4</td><td>3</td><td>France</td><td>Group</td></tr><tr><td>23</td><td>France</td><td>Netherlands</td><td>4</td><td>0</td><td>France</td><td>Group</td></tr><tr><td>24</td><td>France</td><td>Poland</td><td>1</td><td>1</td><td>draw</td><td>Group</td></tr><tr><td>25</td><td>Slovakia</td><td>Belgium</td><td>0</td><td>4</td><td>Belgium</td><td>Group</td></tr><tr><td>26</td><td>Romania</td><td>Slovakia</td><td>4</td><td>0</td><td>Romania</td><td>Group</td></tr><tr><td>27</td><td>Romania</td><td>Belgium</td><td>2</td><td>1</td><td>Romania</td><td>Group</td></tr><tr><td>28</td><td>Ukraine</td><td>Romania</td><td>5</td><td>3</td><td>Ukraine</td><td>Group</td></tr><tr><td>29</td><td>Ukraine</td><td>Slovakia</td><td>3</td><td>3</td><td>draw</td><td>Group</td></tr><tr><td>30</td><td>Ukraine</td><td>Belgium</td><td>2</td><td>2</td><td>draw</td><td>Group</td></tr><tr><td>31</td><td>Greece</td><td>Türkiye</td><td>4</td><td>5</td><td>Türkiye</td><td>Group</td></tr><tr><td>32</td><td>Portugal</td><td>Greece</td><td>2</td><td>1</td><td>Portugal</td><td>Group</td></tr><tr><td>33</td><td>Portugal</td><td>Türkiye</td><td>0</td><td>4</td><td>Türkiye</td><td>Group</td></tr><tr><td>34</td><td>Czech</td><td>Portugal</td><td>2</td><td>5</td><td>Portugal</td><td>Group</td></tr><tr><td>35</td><td>Czech</td><td>Greece</td><td>5</td><td>1</td><td>Czech</td><td>Group</td></tr><tr><td>36</td><td>Czech</td><td>Türkiye</td><td>5</td><td>0</td><td>Czech</td><td>Group</td></tr><tr><td>37</td><td>Albania</td><td>Portugal</td><td>1</td><td>0</td><td>Albania</td><td>Round of 16</td></tr><tr><td>38</td><td>Hungary</td><td>Denmark</td><td>0</td><td>3</td><td>Denmark</td><td>Round of 16</td></tr><tr><td>39</td><td>Czech</td><td>Italy</td><td>1</td><td>1</td><td>Czech</td><td>Round of 16</td></tr><tr><td>40</td><td>Poland</td><td>Ukraine</td><td>0</td><td>4</td><td>Ukraine</td><td>Round of 16</td></tr><tr><td>41</td><td>Romania</td><td>England</td><td>0</td><td>1</td><td>England</td><td>Round of 16</td></tr><tr><td>42</td><td>France</td><td>Türkiye</td><td>1</td><td>1</td><td>France</td><td>Round of 16</td></tr><tr><td>43</td><td>Slovenia</td><td>Belgium</td><td>1</td><td>3</td><td>Belgium</td><td>Round of 16</td></tr><tr><td>44</td><td>Scotland</td><td>Spain</td><td>5</td><td>4</td><td>Scotland</td><td>Round of 16</td></tr><tr><td>45</td><td>Albania</td><td>Denmark</td><td>6</td><td>5</td><td>Albania</td><td>Quarter Final</td></tr><tr><td>46</td><td>Czech</td><td>Ukraine</td><td>2</td><td>6</td><td>Ukraine</td><td>Quarter Final</td></tr><tr><td>47</td><td>England</td><td>France</td><td>3</td><td>4</td><td>France</td><td>Quarter Final</td></tr><tr><td>48</td><td>Belgium</td><td>Scotland</td><td>3</td><td>1</td><td>Belgium</td><td>Quarter Final</td></tr><tr><td>49</td><td>Albania</td><td>Ukraine</td><td>2</td><td>2</td><td>Ukraine</td><td>Semi Final</td></tr><tr><td>50</td><td>France</td><td>Belgium</td><td>1</td><td>6</td><td>Belgium</td><td>Semi Final</td></tr><tr><td>51</td><td>Albania</td><td>France</td><td>2</td><td>5</td><td>France</td><td>Third Place</td></tr><tr><td>52</td><td>Ukraine</td><td>Belgium</td><td>3</td><td>1</td><td>Ukraine</td><td>Final</td></tr></tbody></table></div>"
      ]
     },
     "metadata": {
      "application/vnd.databricks.v1+output": {
       "addedWidgets": {},
       "aggData": [],
       "aggError": "",
       "aggOverflow": false,
       "aggSchema": [],
       "aggSeriesLimitReached": false,
       "aggType": "",
       "arguments": {},
       "columnCustomDisplayInfos": {},
       "data": [
        [
         1,
         "Scotland",
         "Germany",
         2,
         1,
         "Scotland",
         "Group"
        ],
        [
         2,
         "Hungary",
         "Scotland",
         0,
         0,
         "draw",
         "Group"
        ],
        [
         3,
         "Hungary",
         "Germany",
         3,
         0,
         "Hungary",
         "Group"
        ],
        [
         4,
         "Switzerland",
         "Hungary",
         2,
         4,
         "Hungary",
         "Group"
        ],
        [
         5,
         "Switzerland",
         "Scotland",
         3,
         0,
         "Switzerland",
         "Group"
        ],
        [
         6,
         "Switzerland",
         "Germany",
         1,
         4,
         "Germany",
         "Group"
        ],
        [
         7,
         "Croatia",
         "Spain",
         3,
         3,
         "draw",
         "Group"
        ],
        [
         8,
         "Italy",
         "Croatia",
         1,
         0,
         "Italy",
         "Group"
        ],
        [
         9,
         "Italy",
         "Spain",
         4,
         4,
         "draw",
         "Group"
        ],
        [
         10,
         "Albania",
         "Italy",
         4,
         2,
         "Albania",
         "Group"
        ],
        [
         11,
         "Albania",
         "Croatia",
         5,
         0,
         "Albania",
         "Group"
        ],
        [
         12,
         "Albania",
         "Spain",
         4,
         5,
         "Spain",
         "Group"
        ],
        [
         13,
         "Denmark",
         "Slovenia",
         4,
         4,
         "draw",
         "Group"
        ],
        [
         14,
         "Serbia",
         "Denmark",
         0,
         5,
         "Denmark",
         "Group"
        ],
        [
         15,
         "Serbia",
         "Slovenia",
         2,
         4,
         "Slovenia",
         "Group"
        ],
        [
         16,
         "England",
         "Serbia",
         5,
         1,
         "England",
         "Group"
        ],
        [
         17,
         "England",
         "Denmark",
         4,
         4,
         "draw",
         "Group"
        ],
        [
         18,
         "England",
         "Slovenia",
         2,
         3,
         "Slovenia",
         "Group"
        ],
        [
         19,
         "Netherlands",
         "Poland",
         0,
         0,
         "draw",
         "Group"
        ],
        [
         20,
         "Austria",
         "Netherlands",
         5,
         1,
         "Austria",
         "Group"
        ],
        [
         21,
         "Austria",
         "Poland",
         1,
         5,
         "Poland",
         "Group"
        ],
        [
         22,
         "France",
         "Austria",
         4,
         3,
         "France",
         "Group"
        ],
        [
         23,
         "France",
         "Netherlands",
         4,
         0,
         "France",
         "Group"
        ],
        [
         24,
         "France",
         "Poland",
         1,
         1,
         "draw",
         "Group"
        ],
        [
         25,
         "Slovakia",
         "Belgium",
         0,
         4,
         "Belgium",
         "Group"
        ],
        [
         26,
         "Romania",
         "Slovakia",
         4,
         0,
         "Romania",
         "Group"
        ],
        [
         27,
         "Romania",
         "Belgium",
         2,
         1,
         "Romania",
         "Group"
        ],
        [
         28,
         "Ukraine",
         "Romania",
         5,
         3,
         "Ukraine",
         "Group"
        ],
        [
         29,
         "Ukraine",
         "Slovakia",
         3,
         3,
         "draw",
         "Group"
        ],
        [
         30,
         "Ukraine",
         "Belgium",
         2,
         2,
         "draw",
         "Group"
        ],
        [
         31,
         "Greece",
         "Türkiye",
         4,
         5,
         "Türkiye",
         "Group"
        ],
        [
         32,
         "Portugal",
         "Greece",
         2,
         1,
         "Portugal",
         "Group"
        ],
        [
         33,
         "Portugal",
         "Türkiye",
         0,
         4,
         "Türkiye",
         "Group"
        ],
        [
         34,
         "Czech",
         "Portugal",
         2,
         5,
         "Portugal",
         "Group"
        ],
        [
         35,
         "Czech",
         "Greece",
         5,
         1,
         "Czech",
         "Group"
        ],
        [
         36,
         "Czech",
         "Türkiye",
         5,
         0,
         "Czech",
         "Group"
        ],
        [
         37,
         "Albania",
         "Portugal",
         1,
         0,
         "Albania",
         "Round of 16"
        ],
        [
         38,
         "Hungary",
         "Denmark",
         0,
         3,
         "Denmark",
         "Round of 16"
        ],
        [
         39,
         "Czech",
         "Italy",
         1,
         1,
         "Czech",
         "Round of 16"
        ],
        [
         40,
         "Poland",
         "Ukraine",
         0,
         4,
         "Ukraine",
         "Round of 16"
        ],
        [
         41,
         "Romania",
         "England",
         0,
         1,
         "England",
         "Round of 16"
        ],
        [
         42,
         "France",
         "Türkiye",
         1,
         1,
         "France",
         "Round of 16"
        ],
        [
         43,
         "Slovenia",
         "Belgium",
         1,
         3,
         "Belgium",
         "Round of 16"
        ],
        [
         44,
         "Scotland",
         "Spain",
         5,
         4,
         "Scotland",
         "Round of 16"
        ],
        [
         45,
         "Albania",
         "Denmark",
         6,
         5,
         "Albania",
         "Quarter Final"
        ],
        [
         46,
         "Czech",
         "Ukraine",
         2,
         6,
         "Ukraine",
         "Quarter Final"
        ],
        [
         47,
         "England",
         "France",
         3,
         4,
         "France",
         "Quarter Final"
        ],
        [
         48,
         "Belgium",
         "Scotland",
         3,
         1,
         "Belgium",
         "Quarter Final"
        ],
        [
         49,
         "Albania",
         "Ukraine",
         2,
         2,
         "Ukraine",
         "Semi Final"
        ],
        [
         50,
         "France",
         "Belgium",
         1,
         6,
         "Belgium",
         "Semi Final"
        ],
        [
         51,
         "Albania",
         "France",
         2,
         5,
         "France",
         "Third Place"
        ],
        [
         52,
         "Ukraine",
         "Belgium",
         3,
         1,
         "Ukraine",
         "Final"
        ]
       ],
       "datasetInfos": [],
       "dbfsResultPath": null,
       "isJsonSchema": true,
       "metadata": {},
       "overflow": false,
       "plotOptions": {
        "customPlotOptions": {},
        "displayType": "table",
        "pivotAggregation": null,
        "pivotColumns": null,
        "xColumns": null,
        "yColumns": null
       },
       "removedWidgets": [],
       "schema": [
        {
         "metadata": "{}",
         "name": "MatchId",
         "type": "\"integer\""
        },
        {
         "metadata": "{\"__CHAR_VARCHAR_TYPE_STRING\":\"varchar(255)\"}",
         "name": "Team1",
         "type": "\"string\""
        },
        {
         "metadata": "{\"__CHAR_VARCHAR_TYPE_STRING\":\"varchar(255)\"}",
         "name": "Team2",
         "type": "\"string\""
        },
        {
         "metadata": "{}",
         "name": "Team1Score",
         "type": "\"integer\""
        },
        {
         "metadata": "{}",
         "name": "Team2Score",
         "type": "\"integer\""
        },
        {
         "metadata": "{\"__CHAR_VARCHAR_TYPE_STRING\":\"varchar(255)\"}",
         "name": "Result",
         "type": "\"string\""
        },
        {
         "metadata": "{\"__CHAR_VARCHAR_TYPE_STRING\":\"varchar(255)\"}",
         "name": "Stage",
         "type": "\"string\""
        }
       ],
       "type": "table"
      }
     },
     "output_type": "display_data"
    }
   ],
   "source": [
    "%sql\n",
    "select * from matchetable2\n",
    "order by matchid"
   ]
  },
  {
   "cell_type": "code",
   "execution_count": 0,
   "metadata": {
    "application/vnd.databricks.v1+cell": {
     "cellMetadata": {
      "byteLimit": 2048000,
      "implicitDf": true,
      "rowLimit": 10000
     },
     "inputWidgets": {},
     "nuid": "90b2cdce-8339-45d9-96d3-db865cb14618",
     "showTitle": false,
     "title": ""
    }
   },
   "outputs": [
    {
     "output_type": "display_data",
     "data": {
      "text/html": [
       "<style scoped>\n",
       "  .table-result-container {\n",
       "    max-height: 300px;\n",
       "    overflow: auto;\n",
       "  }\n",
       "  table, th, td {\n",
       "    border: 1px solid black;\n",
       "    border-collapse: collapse;\n",
       "  }\n",
       "  th, td {\n",
       "    padding: 5px;\n",
       "  }\n",
       "  th {\n",
       "    text-align: left;\n",
       "  }\n",
       "</style><div class='table-result-container'><table class='table-result'><thead style='background-color: white'><tr><th>MatchId</th><th>Team1</th><th>Team2</th><th>Team1Score</th><th>Team2Score</th><th>Result</th><th>Stage</th></tr></thead><tbody><tr><td>37</td><td>Albania</td><td>Portugal</td><td>1</td><td>0</td><td>Albania</td><td>Round of 16</td></tr><tr><td>38</td><td>Hungary</td><td>Denmark</td><td>0</td><td>3</td><td>Denmark</td><td>Round of 16</td></tr><tr><td>39</td><td>Czech</td><td>Italy</td><td>1</td><td>1</td><td>Czech</td><td>Round of 16</td></tr><tr><td>40</td><td>Poland</td><td>Ukraine</td><td>0</td><td>4</td><td>Ukraine</td><td>Round of 16</td></tr><tr><td>41</td><td>Romania</td><td>England</td><td>0</td><td>1</td><td>England</td><td>Round of 16</td></tr><tr><td>42</td><td>France</td><td>Türkiye</td><td>1</td><td>1</td><td>France</td><td>Round of 16</td></tr><tr><td>43</td><td>Slovenia</td><td>Belgium</td><td>1</td><td>3</td><td>Belgium</td><td>Round of 16</td></tr><tr><td>44</td><td>Scotland</td><td>Spain</td><td>5</td><td>4</td><td>Scotland</td><td>Round of 16</td></tr></tbody></table></div>"
      ]
     },
     "metadata": {
      "application/vnd.databricks.v1+output": {
       "addedWidgets": {},
       "aggData": [],
       "aggError": "",
       "aggOverflow": false,
       "aggSchema": [],
       "aggSeriesLimitReached": false,
       "aggType": "",
       "arguments": {},
       "columnCustomDisplayInfos": {},
       "data": [
        [
         37,
         "Albania",
         "Portugal",
         1,
         0,
         "Albania",
         "Round of 16"
        ],
        [
         38,
         "Hungary",
         "Denmark",
         0,
         3,
         "Denmark",
         "Round of 16"
        ],
        [
         39,
         "Czech",
         "Italy",
         1,
         1,
         "Czech",
         "Round of 16"
        ],
        [
         40,
         "Poland",
         "Ukraine",
         0,
         4,
         "Ukraine",
         "Round of 16"
        ],
        [
         41,
         "Romania",
         "England",
         0,
         1,
         "England",
         "Round of 16"
        ],
        [
         42,
         "France",
         "Türkiye",
         1,
         1,
         "France",
         "Round of 16"
        ],
        [
         43,
         "Slovenia",
         "Belgium",
         1,
         3,
         "Belgium",
         "Round of 16"
        ],
        [
         44,
         "Scotland",
         "Spain",
         5,
         4,
         "Scotland",
         "Round of 16"
        ]
       ],
       "datasetInfos": [],
       "dbfsResultPath": null,
       "isJsonSchema": true,
       "metadata": {},
       "overflow": false,
       "plotOptions": {
        "customPlotOptions": {},
        "displayType": "table",
        "pivotAggregation": null,
        "pivotColumns": null,
        "xColumns": null,
        "yColumns": null
       },
       "removedWidgets": [],
       "schema": [
        {
         "metadata": "{}",
         "name": "MatchId",
         "type": "\"integer\""
        },
        {
         "metadata": "{\"__CHAR_VARCHAR_TYPE_STRING\":\"varchar(255)\"}",
         "name": "Team1",
         "type": "\"string\""
        },
        {
         "metadata": "{\"__CHAR_VARCHAR_TYPE_STRING\":\"varchar(255)\"}",
         "name": "Team2",
         "type": "\"string\""
        },
        {
         "metadata": "{}",
         "name": "Team1Score",
         "type": "\"integer\""
        },
        {
         "metadata": "{}",
         "name": "Team2Score",
         "type": "\"integer\""
        },
        {
         "metadata": "{\"__CHAR_VARCHAR_TYPE_STRING\":\"varchar(255)\"}",
         "name": "Result",
         "type": "\"string\""
        },
        {
         "metadata": "{\"__CHAR_VARCHAR_TYPE_STRING\":\"varchar(255)\"}",
         "name": "Stage",
         "type": "\"string\""
        }
       ],
       "type": "table"
      }
     },
     "output_type": "display_data"
    }
   ],
   "source": [
    "%sql\n",
    "select * from matchetable2 where stage = \"Round of 16\"\n",
    "order by MatchId"
   ]
  },
  {
   "cell_type": "code",
   "execution_count": 0,
   "metadata": {
    "application/vnd.databricks.v1+cell": {
     "cellMetadata": {
      "byteLimit": 2048000,
      "implicitDf": true,
      "rowLimit": 10000
     },
     "inputWidgets": {},
     "nuid": "59e7b14d-73ab-449a-bd97-a3d0fb6d5dae",
     "showTitle": false,
     "title": ""
    }
   },
   "outputs": [
    {
     "output_type": "display_data",
     "data": {
      "text/html": [
       "<style scoped>\n",
       "  .table-result-container {\n",
       "    max-height: 300px;\n",
       "    overflow: auto;\n",
       "  }\n",
       "  table, th, td {\n",
       "    border: 1px solid black;\n",
       "    border-collapse: collapse;\n",
       "  }\n",
       "  th, td {\n",
       "    padding: 5px;\n",
       "  }\n",
       "  th {\n",
       "    text-align: left;\n",
       "  }\n",
       "</style><div class='table-result-container'><table class='table-result'><thead style='background-color: white'><tr><th>MatchId</th><th>Team1</th><th>Team2</th><th>Team1Score</th><th>Team2Score</th><th>Result</th><th>Stage</th></tr></thead><tbody></tbody></table></div>"
      ]
     },
     "metadata": {
      "application/vnd.databricks.v1+output": {
       "addedWidgets": {},
       "aggData": [],
       "aggError": "",
       "aggOverflow": false,
       "aggSchema": [],
       "aggSeriesLimitReached": false,
       "aggType": "",
       "arguments": {},
       "columnCustomDisplayInfos": {},
       "data": [],
       "datasetInfos": [],
       "dbfsResultPath": null,
       "isJsonSchema": true,
       "metadata": {},
       "overflow": false,
       "plotOptions": {
        "customPlotOptions": {},
        "displayType": "table",
        "pivotAggregation": null,
        "pivotColumns": null,
        "xColumns": null,
        "yColumns": null
       },
       "removedWidgets": [],
       "schema": [
        {
         "metadata": "{}",
         "name": "MatchId",
         "type": "\"integer\""
        },
        {
         "metadata": "{\"__CHAR_VARCHAR_TYPE_STRING\":\"varchar(255)\"}",
         "name": "Team1",
         "type": "\"string\""
        },
        {
         "metadata": "{\"__CHAR_VARCHAR_TYPE_STRING\":\"varchar(255)\"}",
         "name": "Team2",
         "type": "\"string\""
        },
        {
         "metadata": "{}",
         "name": "Team1Score",
         "type": "\"integer\""
        },
        {
         "metadata": "{}",
         "name": "Team2Score",
         "type": "\"integer\""
        },
        {
         "metadata": "{\"__CHAR_VARCHAR_TYPE_STRING\":\"varchar(255)\"}",
         "name": "Result",
         "type": "\"string\""
        },
        {
         "metadata": "{\"__CHAR_VARCHAR_TYPE_STRING\":\"varchar(255)\"}",
         "name": "Stage",
         "type": "\"string\""
        }
       ],
       "type": "table"
      }
     },
     "output_type": "display_data"
    }
   ],
   "source": [
    "%sql\n",
    "select * from matchetable2 where stage = \"Quater Final\" \n",
    "order by MatchId"
   ]
  },
  {
   "cell_type": "code",
   "execution_count": 0,
   "metadata": {
    "application/vnd.databricks.v1+cell": {
     "cellMetadata": {
      "byteLimit": 2048000,
      "implicitDf": true,
      "rowLimit": 10000
     },
     "inputWidgets": {},
     "nuid": "2549746d-6f34-4aed-b472-e980b3268621",
     "showTitle": false,
     "title": ""
    }
   },
   "outputs": [
    {
     "output_type": "display_data",
     "data": {
      "text/html": [
       "<style scoped>\n",
       "  .table-result-container {\n",
       "    max-height: 300px;\n",
       "    overflow: auto;\n",
       "  }\n",
       "  table, th, td {\n",
       "    border: 1px solid black;\n",
       "    border-collapse: collapse;\n",
       "  }\n",
       "  th, td {\n",
       "    padding: 5px;\n",
       "  }\n",
       "  th {\n",
       "    text-align: left;\n",
       "  }\n",
       "</style><div class='table-result-container'><table class='table-result'><thead style='background-color: white'><tr><th>MatchId</th><th>Team1</th><th>Team2</th><th>Team1Score</th><th>Team2Score</th><th>Result</th><th>Stage</th></tr></thead><tbody><tr><td>49</td><td>Albania</td><td>Ukraine</td><td>2</td><td>2</td><td>Ukraine</td><td>Semi Final</td></tr><tr><td>50</td><td>France</td><td>Belgium</td><td>1</td><td>6</td><td>Belgium</td><td>Semi Final</td></tr></tbody></table></div>"
      ]
     },
     "metadata": {
      "application/vnd.databricks.v1+output": {
       "addedWidgets": {},
       "aggData": [],
       "aggError": "",
       "aggOverflow": false,
       "aggSchema": [],
       "aggSeriesLimitReached": false,
       "aggType": "",
       "arguments": {},
       "columnCustomDisplayInfos": {},
       "data": [
        [
         49,
         "Albania",
         "Ukraine",
         2,
         2,
         "Ukraine",
         "Semi Final"
        ],
        [
         50,
         "France",
         "Belgium",
         1,
         6,
         "Belgium",
         "Semi Final"
        ]
       ],
       "datasetInfos": [],
       "dbfsResultPath": null,
       "isJsonSchema": true,
       "metadata": {},
       "overflow": false,
       "plotOptions": {
        "customPlotOptions": {},
        "displayType": "table",
        "pivotAggregation": null,
        "pivotColumns": null,
        "xColumns": null,
        "yColumns": null
       },
       "removedWidgets": [],
       "schema": [
        {
         "metadata": "{}",
         "name": "MatchId",
         "type": "\"integer\""
        },
        {
         "metadata": "{\"__CHAR_VARCHAR_TYPE_STRING\":\"varchar(255)\"}",
         "name": "Team1",
         "type": "\"string\""
        },
        {
         "metadata": "{\"__CHAR_VARCHAR_TYPE_STRING\":\"varchar(255)\"}",
         "name": "Team2",
         "type": "\"string\""
        },
        {
         "metadata": "{}",
         "name": "Team1Score",
         "type": "\"integer\""
        },
        {
         "metadata": "{}",
         "name": "Team2Score",
         "type": "\"integer\""
        },
        {
         "metadata": "{\"__CHAR_VARCHAR_TYPE_STRING\":\"varchar(255)\"}",
         "name": "Result",
         "type": "\"string\""
        },
        {
         "metadata": "{\"__CHAR_VARCHAR_TYPE_STRING\":\"varchar(255)\"}",
         "name": "Stage",
         "type": "\"string\""
        }
       ],
       "type": "table"
      }
     },
     "output_type": "display_data"
    }
   ],
   "source": [
    "%sql\n",
    "select * from matchetable2 where stage = \"Semi Final\"\n",
    "order by MatchId"
   ]
  },
  {
   "cell_type": "code",
   "execution_count": 0,
   "metadata": {
    "application/vnd.databricks.v1+cell": {
     "cellMetadata": {
      "byteLimit": 2048000,
      "implicitDf": true,
      "rowLimit": 10000
     },
     "inputWidgets": {},
     "nuid": "3aa29bfb-c8b1-4e7a-b616-e2eeca30644c",
     "showTitle": false,
     "title": ""
    }
   },
   "outputs": [
    {
     "output_type": "display_data",
     "data": {
      "text/html": [
       "<style scoped>\n",
       "  .table-result-container {\n",
       "    max-height: 300px;\n",
       "    overflow: auto;\n",
       "  }\n",
       "  table, th, td {\n",
       "    border: 1px solid black;\n",
       "    border-collapse: collapse;\n",
       "  }\n",
       "  th, td {\n",
       "    padding: 5px;\n",
       "  }\n",
       "  th {\n",
       "    text-align: left;\n",
       "  }\n",
       "</style><div class='table-result-container'><table class='table-result'><thead style='background-color: white'><tr><th>MatchId</th><th>Team1</th><th>Team2</th><th>Team1Score</th><th>Team2Score</th><th>Result</th><th>Stage</th></tr></thead><tbody><tr><td>51</td><td>Albania</td><td>France</td><td>2</td><td>5</td><td>France</td><td>Third Place</td></tr></tbody></table></div>"
      ]
     },
     "metadata": {
      "application/vnd.databricks.v1+output": {
       "addedWidgets": {},
       "aggData": [],
       "aggError": "",
       "aggOverflow": false,
       "aggSchema": [],
       "aggSeriesLimitReached": false,
       "aggType": "",
       "arguments": {},
       "columnCustomDisplayInfos": {},
       "data": [
        [
         51,
         "Albania",
         "France",
         2,
         5,
         "France",
         "Third Place"
        ]
       ],
       "datasetInfos": [],
       "dbfsResultPath": null,
       "isJsonSchema": true,
       "metadata": {},
       "overflow": false,
       "plotOptions": {
        "customPlotOptions": {},
        "displayType": "table",
        "pivotAggregation": null,
        "pivotColumns": null,
        "xColumns": null,
        "yColumns": null
       },
       "removedWidgets": [],
       "schema": [
        {
         "metadata": "{}",
         "name": "MatchId",
         "type": "\"integer\""
        },
        {
         "metadata": "{\"__CHAR_VARCHAR_TYPE_STRING\":\"varchar(255)\"}",
         "name": "Team1",
         "type": "\"string\""
        },
        {
         "metadata": "{\"__CHAR_VARCHAR_TYPE_STRING\":\"varchar(255)\"}",
         "name": "Team2",
         "type": "\"string\""
        },
        {
         "metadata": "{}",
         "name": "Team1Score",
         "type": "\"integer\""
        },
        {
         "metadata": "{}",
         "name": "Team2Score",
         "type": "\"integer\""
        },
        {
         "metadata": "{\"__CHAR_VARCHAR_TYPE_STRING\":\"varchar(255)\"}",
         "name": "Result",
         "type": "\"string\""
        },
        {
         "metadata": "{\"__CHAR_VARCHAR_TYPE_STRING\":\"varchar(255)\"}",
         "name": "Stage",
         "type": "\"string\""
        }
       ],
       "type": "table"
      }
     },
     "output_type": "display_data"
    }
   ],
   "source": [
    "%sql\n",
    "select * from matchetable2 where stage = \"Third Place\"\n",
    "order by MatchId"
   ]
  },
  {
   "cell_type": "code",
   "execution_count": 0,
   "metadata": {
    "application/vnd.databricks.v1+cell": {
     "cellMetadata": {
      "byteLimit": 2048000,
      "implicitDf": true,
      "rowLimit": 10000
     },
     "inputWidgets": {},
     "nuid": "6ea025e5-4f78-4f63-96f2-29acdf028ca0",
     "showTitle": false,
     "title": ""
    }
   },
   "outputs": [
    {
     "output_type": "display_data",
     "data": {
      "text/html": [
       "<style scoped>\n",
       "  .table-result-container {\n",
       "    max-height: 300px;\n",
       "    overflow: auto;\n",
       "  }\n",
       "  table, th, td {\n",
       "    border: 1px solid black;\n",
       "    border-collapse: collapse;\n",
       "  }\n",
       "  th, td {\n",
       "    padding: 5px;\n",
       "  }\n",
       "  th {\n",
       "    text-align: left;\n",
       "  }\n",
       "</style><div class='table-result-container'><table class='table-result'><thead style='background-color: white'><tr><th>MatchId</th><th>Team1</th><th>Team2</th><th>Team1Score</th><th>Team2Score</th><th>Result</th><th>Stage</th></tr></thead><tbody><tr><td>52</td><td>Ukraine</td><td>Belgium</td><td>3</td><td>1</td><td>Ukraine</td><td>Final</td></tr></tbody></table></div>"
      ]
     },
     "metadata": {
      "application/vnd.databricks.v1+output": {
       "addedWidgets": {},
       "aggData": [],
       "aggError": "",
       "aggOverflow": false,
       "aggSchema": [],
       "aggSeriesLimitReached": false,
       "aggType": "",
       "arguments": {},
       "columnCustomDisplayInfos": {},
       "data": [
        [
         52,
         "Ukraine",
         "Belgium",
         3,
         1,
         "Ukraine",
         "Final"
        ]
       ],
       "datasetInfos": [],
       "dbfsResultPath": null,
       "isJsonSchema": true,
       "metadata": {},
       "overflow": false,
       "plotOptions": {
        "customPlotOptions": {},
        "displayType": "table",
        "pivotAggregation": null,
        "pivotColumns": null,
        "xColumns": null,
        "yColumns": null
       },
       "removedWidgets": [],
       "schema": [
        {
         "metadata": "{}",
         "name": "MatchId",
         "type": "\"integer\""
        },
        {
         "metadata": "{\"__CHAR_VARCHAR_TYPE_STRING\":\"varchar(255)\"}",
         "name": "Team1",
         "type": "\"string\""
        },
        {
         "metadata": "{\"__CHAR_VARCHAR_TYPE_STRING\":\"varchar(255)\"}",
         "name": "Team2",
         "type": "\"string\""
        },
        {
         "metadata": "{}",
         "name": "Team1Score",
         "type": "\"integer\""
        },
        {
         "metadata": "{}",
         "name": "Team2Score",
         "type": "\"integer\""
        },
        {
         "metadata": "{\"__CHAR_VARCHAR_TYPE_STRING\":\"varchar(255)\"}",
         "name": "Result",
         "type": "\"string\""
        },
        {
         "metadata": "{\"__CHAR_VARCHAR_TYPE_STRING\":\"varchar(255)\"}",
         "name": "Stage",
         "type": "\"string\""
        }
       ],
       "type": "table"
      }
     },
     "output_type": "display_data"
    }
   ],
   "source": [
    "%sql\n",
    "select * from matchetable2 where stage = \"Final\"\n",
    "order by MatchId"
   ]
  },
  {
   "cell_type": "markdown",
   "metadata": {
    "application/vnd.databricks.v1+cell": {
     "cellMetadata": {
      "byteLimit": 2048000,
      "rowLimit": 10000
     },
     "inputWidgets": {},
     "nuid": "2033a820-d38c-42c0-afd1-accfecbbdd95",
     "showTitle": false,
     "title": ""
    }
   },
   "source": [
    "# Euro Cup 2024 Visualization"
   ]
  },
  {
   "cell_type": "code",
   "execution_count": 0,
   "metadata": {
    "application/vnd.databricks.v1+cell": {
     "cellMetadata": {
      "byteLimit": 2048000,
      "rowLimit": 10000
     },
     "inputWidgets": {},
     "nuid": "eae6a143-27ac-46b0-9005-d585f500771c",
     "showTitle": false,
     "title": ""
    }
   },
   "outputs": [],
   "source": [
    "#import libraries\n",
    "import pandas as pd\n",
    "from pyspark.sql import SparkSession"
   ]
  },
  {
   "cell_type": "code",
   "execution_count": 0,
   "metadata": {
    "application/vnd.databricks.v1+cell": {
     "cellMetadata": {
      "byteLimit": 2048000,
      "rowLimit": 10000
     },
     "inputWidgets": {},
     "nuid": "a8d514fd-5695-4c12-a873-99f70df4f7f2",
     "showTitle": false,
     "title": ""
    }
   },
   "outputs": [],
   "source": [
    "#Spark Session\n",
    "spark = SparkSession.builder \\\n",
    "    .appName(\"euro_cup_visulization\") \\\n",
    "    .getOrCreate()"
   ]
  },
  {
   "cell_type": "code",
   "execution_count": 0,
   "metadata": {
    "application/vnd.databricks.v1+cell": {
     "cellMetadata": {
      "byteLimit": 2048000,
      "rowLimit": 10000
     },
     "inputWidgets": {},
     "nuid": "9ca2a0b0-6b19-45ef-8bbf-770b7ad4fa6f",
     "showTitle": false,
     "title": ""
    }
   },
   "outputs": [],
   "source": [
    "groupstage = spark.sql(\"SELECT * from groupstagetable2\")\n",
    "round_of_16 = spark.sql(\"SELECT Team1,Team2,Team1score,Team2score FROM Matchetable2 WHERE Stage = 'Round of 16' ORDER BY MatchId\")\n",
    "quater_final = spark.sql(\"SELECT Team1,Team2,Team1score,Team2score FROM Matchetable2 WHERE Stage = 'Quarter Final' ORDER BY MatchId\")\n",
    "semi_final = spark.sql(\"SELECT Team1,Team2,Team1score,Team2score FROM Matchetable2 WHERE Stage = 'Semi Final' ORDER BY MatchId\")\n",
    "final = spark.sql(\"SELECT Team1,Team2,Team1score,Team2score FROM Matchetable2 WHERE Stage = 'Final' ORDER BY MatchId\")\n",
    "third_place = spark.sql(\"SELECT MatchId  FROM Matchetable2 WHERE Stage = 'Third Place' ORDER BY MatchId\")\n"
   ]
  },
  {
   "cell_type": "code",
   "execution_count": 0,
   "metadata": {
    "application/vnd.databricks.v1+cell": {
     "cellMetadata": {
      "byteLimit": 2048000,
      "rowLimit": 10000
     },
     "inputWidgets": {},
     "nuid": "036035bc-d8b7-4f3d-8e57-c8d40724c4c6",
     "showTitle": false,
     "title": ""
    }
   },
   "outputs": [],
   "source": [
    "groupstage_df = groupstage.toPandas()\n",
    "round_of_16_df = round_of_16.toPandas()\n",
    "quater_final_df = quater_final.toPandas()\n",
    "semi_final_df = semi_final.toPandas()\n",
    "final_df = final.toPandas()\n",
    "third_place_df = third_place.toPandas()"
   ]
  },
  {
   "cell_type": "code",
   "execution_count": 0,
   "metadata": {
    "application/vnd.databricks.v1+cell": {
     "cellMetadata": {
      "byteLimit": 2048000,
      "rowLimit": 10000
     },
     "inputWidgets": {},
     "nuid": "2b19f71f-2384-4b55-a9d0-07783e86aeee",
     "showTitle": false,
     "title": ""
    }
   },
   "outputs": [],
   "source": [
    "table_visualization = pd.DataFrame({\n",
    "    'Teams': groupstage_df['TeamName'],\n",
    "    'Group': groupstage_df['GroupName'],\n",
    "    'Pld': groupstage_df['MatchesPlayed'],\n",
    "    'W': groupstage_df['Wins'],\n",
    "    'D': groupstage_df['Draws'],\n",
    "    'L': groupstage_df['Losses'],\n",
    "    'GF': groupstage_df['GoalsFor'],\n",
    "    'GA': groupstage_df['GoalsAgainst'],\n",
    "    'GD': groupstage_df['GoalDifference'],\n",
    "    'Pts': groupstage_df['Points']\n",
    "})"
   ]
  },
  {
   "cell_type": "code",
   "execution_count": 0,
   "metadata": {
    "application/vnd.databricks.v1+cell": {
     "cellMetadata": {
      "byteLimit": 2048000,
      "rowLimit": 10000
     },
     "inputWidgets": {},
     "nuid": "634e6fcd-f342-46b5-8fbf-61a32a064ad9",
     "showTitle": false,
     "title": ""
    }
   },
   "outputs": [],
   "source": [
    "# Create blank row as a dictionary to add one blank row for each group\n",
    "blank_row = {\n",
    "    'Teams': '', \n",
    "    'Group': '', \n",
    "    'Pld': '', \n",
    "    'W': '',\n",
    "    'D': '',\n",
    "    'L': '',\n",
    "    'GF': '',\n",
    "    'GA': '',\n",
    "    'GD': '',\n",
    "    'Pts': ''\n",
    "}"
   ]
  },
  {
   "cell_type": "code",
   "execution_count": 0,
   "metadata": {
    "application/vnd.databricks.v1+cell": {
     "cellMetadata": {
      "byteLimit": 2048000,
      "rowLimit": 10000
     },
     "inputWidgets": {},
     "nuid": "015cca1d-39c8-4a53-84d8-e9cb0a02e4cf",
     "showTitle": false,
     "title": ""
    }
   },
   "outputs": [
    {
     "output_type": "display_data",
     "data": {
      "text/html": [
       "<style scoped>\n",
       "  .table-result-container {\n",
       "    max-height: 300px;\n",
       "    overflow: auto;\n",
       "  }\n",
       "  table, th, td {\n",
       "    border: 1px solid black;\n",
       "    border-collapse: collapse;\n",
       "  }\n",
       "  th, td {\n",
       "    padding: 5px;\n",
       "  }\n",
       "  th {\n",
       "    text-align: left;\n",
       "  }\n",
       "</style><div class='table-result-container'><table class='table-result'><thead style='background-color: white'><tr><th>Teams</th><th>Group</th><th>Pld</th><th>W</th><th>D</th><th>L</th><th>GF</th><th>GA</th><th>GD</th><th>Pts</th></tr></thead><tbody><tr><td>Germany</td><td>A</td><td>3</td><td>1</td><td>0</td><td>2</td><td>6</td><td>5</td><td>1</td><td>3</td></tr><tr><td>Scotland</td><td>A</td><td>3</td><td>1</td><td>1</td><td>1</td><td>5</td><td>1</td><td>4</td><td>4</td></tr><tr><td>Hungary</td><td>A</td><td>3</td><td>2</td><td>1</td><td>0</td><td>5</td><td>4</td><td>1</td><td>7</td></tr><tr><td>Switzerland</td><td>A</td><td>3</td><td>1</td><td>0</td><td>2</td><td>6</td><td>8</td><td>-2</td><td>3</td></tr><tr><td></td><td></td><td></td><td></td><td></td><td></td><td></td><td></td><td></td><td></td></tr><tr><td>Spain</td><td>B</td><td>3</td><td>1</td><td>2</td><td>0</td><td>11</td><td>12</td><td>-1</td><td>5</td></tr><tr><td>Croatia</td><td>B</td><td>3</td><td>0</td><td>1</td><td>2</td><td>9</td><td>3</td><td>6</td><td>1</td></tr><tr><td>Italy</td><td>B</td><td>3</td><td>1</td><td>1</td><td>1</td><td>9</td><td>6</td><td>3</td><td>4</td></tr><tr><td>Albania</td><td>B</td><td>3</td><td>2</td><td>0</td><td>1</td><td>13</td><td>7</td><td>6</td><td>6</td></tr><tr><td></td><td></td><td></td><td></td><td></td><td></td><td></td><td></td><td></td><td></td></tr><tr><td>Slovenia</td><td>C</td><td>3</td><td>2</td><td>1</td><td>0</td><td>8</td><td>11</td><td>-3</td><td>7</td></tr><tr><td>Denmark</td><td>C</td><td>3</td><td>1</td><td>2</td><td>0</td><td>8</td><td>13</td><td>-5</td><td>5</td></tr><tr><td>Serbia</td><td>C</td><td>3</td><td>0</td><td>0</td><td>3</td><td>7</td><td>10</td><td>-3</td><td>0</td></tr><tr><td>England</td><td>C</td><td>3</td><td>1</td><td>1</td><td>1</td><td>11</td><td>8</td><td>3</td><td>4</td></tr><tr><td></td><td></td><td></td><td></td><td></td><td></td><td></td><td></td><td></td><td></td></tr><tr><td>Poland</td><td>D</td><td>3</td><td>1</td><td>2</td><td>0</td><td>2</td><td>6</td><td>-4</td><td>5</td></tr><tr><td>Netherlands</td><td>D</td><td>3</td><td>0</td><td>1</td><td>2</td><td>9</td><td>1</td><td>8</td><td>1</td></tr><tr><td>Austria</td><td>D</td><td>3</td><td>1</td><td>0</td><td>2</td><td>10</td><td>9</td><td>1</td><td>3</td></tr><tr><td>France</td><td>D</td><td>3</td><td>2</td><td>1</td><td>0</td><td>9</td><td>4</td><td>5</td><td>7</td></tr><tr><td></td><td></td><td></td><td></td><td></td><td></td><td></td><td></td><td></td><td></td></tr><tr><td>Belgium</td><td>E</td><td>3</td><td>1</td><td>1</td><td>1</td><td>4</td><td>7</td><td>-3</td><td>4</td></tr><tr><td>Slovakia</td><td>E</td><td>3</td><td>0</td><td>1</td><td>2</td><td>7</td><td>7</td><td>0</td><td>1</td></tr><tr><td>Romania</td><td>E</td><td>3</td><td>2</td><td>0</td><td>1</td><td>11</td><td>4</td><td>7</td><td>6</td></tr><tr><td>Ukraine</td><td>E</td><td>3</td><td>1</td><td>2</td><td>0</td><td>10</td><td>8</td><td>2</td><td>5</td></tr><tr><td></td><td></td><td></td><td></td><td></td><td></td><td></td><td></td><td></td><td></td></tr><tr><td>Türkiye</td><td>F</td><td>3</td><td>2</td><td>0</td><td>1</td><td>9</td><td>9</td><td>0</td><td>6</td></tr><tr><td>Greece</td><td>F</td><td>3</td><td>0</td><td>0</td><td>3</td><td>11</td><td>7</td><td>4</td><td>0</td></tr><tr><td>Portugal</td><td>F</td><td>3</td><td>2</td><td>0</td><td>1</td><td>4</td><td>10</td><td>-6</td><td>6</td></tr><tr><td>Czech</td><td>F</td><td>3</td><td>2</td><td>0</td><td>1</td><td>12</td><td>6</td><td>6</td><td>6</td></tr></tbody></table></div>"
      ]
     },
     "metadata": {
      "application/vnd.databricks.v1+output": {
       "addedWidgets": {},
       "aggData": [],
       "aggError": "",
       "aggOverflow": false,
       "aggSchema": [],
       "aggSeriesLimitReached": false,
       "aggType": "",
       "arguments": {},
       "columnCustomDisplayInfos": {},
       "data": [
        [
         "Germany",
         "A",
         "3",
         "1",
         "0",
         "2",
         "6",
         "5",
         "1",
         "3"
        ],
        [
         "Scotland",
         "A",
         "3",
         "1",
         "1",
         "1",
         "5",
         "1",
         "4",
         "4"
        ],
        [
         "Hungary",
         "A",
         "3",
         "2",
         "1",
         "0",
         "5",
         "4",
         "1",
         "7"
        ],
        [
         "Switzerland",
         "A",
         "3",
         "1",
         "0",
         "2",
         "6",
         "8",
         "-2",
         "3"
        ],
        [
         "",
         "",
         "",
         "",
         "",
         "",
         "",
         "",
         "",
         ""
        ],
        [
         "Spain",
         "B",
         "3",
         "1",
         "2",
         "0",
         "11",
         "12",
         "-1",
         "5"
        ],
        [
         "Croatia",
         "B",
         "3",
         "0",
         "1",
         "2",
         "9",
         "3",
         "6",
         "1"
        ],
        [
         "Italy",
         "B",
         "3",
         "1",
         "1",
         "1",
         "9",
         "6",
         "3",
         "4"
        ],
        [
         "Albania",
         "B",
         "3",
         "2",
         "0",
         "1",
         "13",
         "7",
         "6",
         "6"
        ],
        [
         "",
         "",
         "",
         "",
         "",
         "",
         "",
         "",
         "",
         ""
        ],
        [
         "Slovenia",
         "C",
         "3",
         "2",
         "1",
         "0",
         "8",
         "11",
         "-3",
         "7"
        ],
        [
         "Denmark",
         "C",
         "3",
         "1",
         "2",
         "0",
         "8",
         "13",
         "-5",
         "5"
        ],
        [
         "Serbia",
         "C",
         "3",
         "0",
         "0",
         "3",
         "7",
         "10",
         "-3",
         "0"
        ],
        [
         "England",
         "C",
         "3",
         "1",
         "1",
         "1",
         "11",
         "8",
         "3",
         "4"
        ],
        [
         "",
         "",
         "",
         "",
         "",
         "",
         "",
         "",
         "",
         ""
        ],
        [
         "Poland",
         "D",
         "3",
         "1",
         "2",
         "0",
         "2",
         "6",
         "-4",
         "5"
        ],
        [
         "Netherlands",
         "D",
         "3",
         "0",
         "1",
         "2",
         "9",
         "1",
         "8",
         "1"
        ],
        [
         "Austria",
         "D",
         "3",
         "1",
         "0",
         "2",
         "10",
         "9",
         "1",
         "3"
        ],
        [
         "France",
         "D",
         "3",
         "2",
         "1",
         "0",
         "9",
         "4",
         "5",
         "7"
        ],
        [
         "",
         "",
         "",
         "",
         "",
         "",
         "",
         "",
         "",
         ""
        ],
        [
         "Belgium",
         "E",
         "3",
         "1",
         "1",
         "1",
         "4",
         "7",
         "-3",
         "4"
        ],
        [
         "Slovakia",
         "E",
         "3",
         "0",
         "1",
         "2",
         "7",
         "7",
         "0",
         "1"
        ],
        [
         "Romania",
         "E",
         "3",
         "2",
         "0",
         "1",
         "11",
         "4",
         "7",
         "6"
        ],
        [
         "Ukraine",
         "E",
         "3",
         "1",
         "2",
         "0",
         "10",
         "8",
         "2",
         "5"
        ],
        [
         "",
         "",
         "",
         "",
         "",
         "",
         "",
         "",
         "",
         ""
        ],
        [
         "Türkiye",
         "F",
         "3",
         "2",
         "0",
         "1",
         "9",
         "9",
         "0",
         "6"
        ],
        [
         "Greece",
         "F",
         "3",
         "0",
         "0",
         "3",
         "11",
         "7",
         "4",
         "0"
        ],
        [
         "Portugal",
         "F",
         "3",
         "2",
         "0",
         "1",
         "4",
         "10",
         "-6",
         "6"
        ],
        [
         "Czech",
         "F",
         "3",
         "2",
         "0",
         "1",
         "12",
         "6",
         "6",
         "6"
        ]
       ],
       "datasetInfos": [],
       "dbfsResultPath": null,
       "isJsonSchema": true,
       "metadata": {},
       "overflow": false,
       "plotOptions": {
        "customPlotOptions": {},
        "displayType": "table",
        "pivotAggregation": null,
        "pivotColumns": null,
        "xColumns": null,
        "yColumns": null
       },
       "removedWidgets": [],
       "schema": [
        {
         "metadata": "{}",
         "name": "Teams",
         "type": "\"string\""
        },
        {
         "metadata": "{}",
         "name": "Group",
         "type": "\"string\""
        },
        {
         "metadata": "{}",
         "name": "Pld",
         "type": "\"string\""
        },
        {
         "metadata": "{}",
         "name": "W",
         "type": "\"string\""
        },
        {
         "metadata": "{}",
         "name": "D",
         "type": "\"string\""
        },
        {
         "metadata": "{}",
         "name": "L",
         "type": "\"string\""
        },
        {
         "metadata": "{}",
         "name": "GF",
         "type": "\"string\""
        },
        {
         "metadata": "{}",
         "name": "GA",
         "type": "\"string\""
        },
        {
         "metadata": "{}",
         "name": "GD",
         "type": "\"string\""
        },
        {
         "metadata": "{}",
         "name": "Pts",
         "type": "\"string\""
        }
       ],
       "type": "table"
      }
     },
     "output_type": "display_data"
    },
    {
     "output_type": "stream",
     "name": "stdout",
     "output_type": "stream",
     "text": [
      "14\n"
     ]
    }
   ],
   "source": [
    "groups = []\n",
    "for i in range(0, len(table_visualization), 4):\n",
    "    group = table_visualization.iloc[i:i+4]  \n",
    "    groups.append(group) \n",
    "    if i < len(table_visualization) - 4:\n",
    "        groups.append(pd.DataFrame([blank_row])) \n",
    "\n",
    "visualization_with_space = pd.concat(groups).reset_index(drop=True)\n",
    "half_table_index = len(visualization_with_space) // 2\n",
    "spark.conf.set(\"spark.sql.execution.arrow.pyspark.enabled\", \"false\")\n",
    "display(visualization_with_space)\n",
    "print(half_table_index)"
   ]
  },
  {
   "cell_type": "code",
   "execution_count": 0,
   "metadata": {
    "application/vnd.databricks.v1+cell": {
     "cellMetadata": {
      "byteLimit": 2048000,
      "rowLimit": 10000
     },
     "inputWidgets": {},
     "nuid": "021ba3b3-cfe5-42ec-84fe-ae42f4e1c945",
     "showTitle": false,
     "title": ""
    }
   },
   "outputs": [
    {
     "output_type": "display_data",
     "data": {
      "text/html": [
       "<style scoped>\n",
       "  .table-result-container {\n",
       "    max-height: 300px;\n",
       "    overflow: auto;\n",
       "  }\n",
       "  table, th, td {\n",
       "    border: 1px solid black;\n",
       "    border-collapse: collapse;\n",
       "  }\n",
       "  th, td {\n",
       "    padding: 5px;\n",
       "  }\n",
       "  th {\n",
       "    text-align: left;\n",
       "  }\n",
       "</style><div class='table-result-container'><table class='table-result'><thead style='background-color: white'><tr><th>Teams</th><th>Group</th><th>Pld</th><th>W</th><th>D</th><th>L</th><th>GF</th><th>GA</th><th>GD</th><th>Pts</th></tr></thead><tbody><tr><td></td><td></td><td></td><td></td><td></td><td></td><td></td><td></td><td></td><td></td></tr><tr><td>Germany</td><td>A</td><td>3</td><td>1</td><td>0</td><td>2</td><td>6</td><td>5</td><td>1</td><td>3</td></tr><tr><td>Scotland</td><td>A</td><td>3</td><td>1</td><td>1</td><td>1</td><td>5</td><td>1</td><td>4</td><td>4</td></tr><tr><td>Hungary</td><td>A</td><td>3</td><td>2</td><td>1</td><td>0</td><td>5</td><td>4</td><td>1</td><td>7</td></tr><tr><td>Switzerland</td><td>A</td><td>3</td><td>1</td><td>0</td><td>2</td><td>6</td><td>8</td><td>-2</td><td>3</td></tr><tr><td></td><td></td><td></td><td></td><td></td><td></td><td></td><td></td><td></td><td></td></tr><tr><td>Spain</td><td>B</td><td>3</td><td>1</td><td>2</td><td>0</td><td>11</td><td>12</td><td>-1</td><td>5</td></tr><tr><td>Croatia</td><td>B</td><td>3</td><td>0</td><td>1</td><td>2</td><td>9</td><td>3</td><td>6</td><td>1</td></tr><tr><td>Italy</td><td>B</td><td>3</td><td>1</td><td>1</td><td>1</td><td>9</td><td>6</td><td>3</td><td>4</td></tr><tr><td>Albania</td><td>B</td><td>3</td><td>2</td><td>0</td><td>1</td><td>13</td><td>7</td><td>6</td><td>6</td></tr><tr><td></td><td></td><td></td><td></td><td></td><td></td><td></td><td></td><td></td><td></td></tr><tr><td>Slovenia</td><td>C</td><td>3</td><td>2</td><td>1</td><td>0</td><td>8</td><td>11</td><td>-3</td><td>7</td></tr><tr><td>Denmark</td><td>C</td><td>3</td><td>1</td><td>2</td><td>0</td><td>8</td><td>13</td><td>-5</td><td>5</td></tr><tr><td>Serbia</td><td>C</td><td>3</td><td>0</td><td>0</td><td>3</td><td>7</td><td>10</td><td>-3</td><td>0</td></tr><tr><td>England</td><td>C</td><td>3</td><td>1</td><td>1</td><td>1</td><td>11</td><td>8</td><td>3</td><td>4</td></tr></tbody></table></div>"
      ]
     },
     "metadata": {
      "application/vnd.databricks.v1+output": {
       "addedWidgets": {},
       "aggData": [],
       "aggError": "",
       "aggOverflow": false,
       "aggSchema": [],
       "aggSeriesLimitReached": false,
       "aggType": "",
       "arguments": {},
       "columnCustomDisplayInfos": {},
       "data": [
        [
         "",
         "",
         "",
         "",
         "",
         "",
         "",
         "",
         "",
         ""
        ],
        [
         "Germany",
         "A",
         "3",
         "1",
         "0",
         "2",
         "6",
         "5",
         "1",
         "3"
        ],
        [
         "Scotland",
         "A",
         "3",
         "1",
         "1",
         "1",
         "5",
         "1",
         "4",
         "4"
        ],
        [
         "Hungary",
         "A",
         "3",
         "2",
         "1",
         "0",
         "5",
         "4",
         "1",
         "7"
        ],
        [
         "Switzerland",
         "A",
         "3",
         "1",
         "0",
         "2",
         "6",
         "8",
         "-2",
         "3"
        ],
        [
         "",
         "",
         "",
         "",
         "",
         "",
         "",
         "",
         "",
         ""
        ],
        [
         "Spain",
         "B",
         "3",
         "1",
         "2",
         "0",
         "11",
         "12",
         "-1",
         "5"
        ],
        [
         "Croatia",
         "B",
         "3",
         "0",
         "1",
         "2",
         "9",
         "3",
         "6",
         "1"
        ],
        [
         "Italy",
         "B",
         "3",
         "1",
         "1",
         "1",
         "9",
         "6",
         "3",
         "4"
        ],
        [
         "Albania",
         "B",
         "3",
         "2",
         "0",
         "1",
         "13",
         "7",
         "6",
         "6"
        ],
        [
         "",
         "",
         "",
         "",
         "",
         "",
         "",
         "",
         "",
         ""
        ],
        [
         "Slovenia",
         "C",
         "3",
         "2",
         "1",
         "0",
         "8",
         "11",
         "-3",
         "7"
        ],
        [
         "Denmark",
         "C",
         "3",
         "1",
         "2",
         "0",
         "8",
         "13",
         "-5",
         "5"
        ],
        [
         "Serbia",
         "C",
         "3",
         "0",
         "0",
         "3",
         "7",
         "10",
         "-3",
         "0"
        ],
        [
         "England",
         "C",
         "3",
         "1",
         "1",
         "1",
         "11",
         "8",
         "3",
         "4"
        ]
       ],
       "datasetInfos": [],
       "dbfsResultPath": null,
       "isJsonSchema": true,
       "metadata": {},
       "overflow": false,
       "plotOptions": {
        "customPlotOptions": {},
        "displayType": "table",
        "pivotAggregation": null,
        "pivotColumns": null,
        "xColumns": null,
        "yColumns": null
       },
       "removedWidgets": [],
       "schema": [
        {
         "metadata": "{}",
         "name": "Teams",
         "type": "\"string\""
        },
        {
         "metadata": "{}",
         "name": "Group",
         "type": "\"string\""
        },
        {
         "metadata": "{}",
         "name": "Pld",
         "type": "\"string\""
        },
        {
         "metadata": "{}",
         "name": "W",
         "type": "\"string\""
        },
        {
         "metadata": "{}",
         "name": "D",
         "type": "\"string\""
        },
        {
         "metadata": "{}",
         "name": "L",
         "type": "\"string\""
        },
        {
         "metadata": "{}",
         "name": "GF",
         "type": "\"string\""
        },
        {
         "metadata": "{}",
         "name": "GA",
         "type": "\"string\""
        },
        {
         "metadata": "{}",
         "name": "GD",
         "type": "\"string\""
        },
        {
         "metadata": "{}",
         "name": "Pts",
         "type": "\"string\""
        }
       ],
       "type": "table"
      }
     },
     "output_type": "display_data"
    },
    {
     "output_type": "display_data",
     "data": {
      "text/html": [
       "<style scoped>\n",
       "  .table-result-container {\n",
       "    max-height: 300px;\n",
       "    overflow: auto;\n",
       "  }\n",
       "  table, th, td {\n",
       "    border: 1px solid black;\n",
       "    border-collapse: collapse;\n",
       "  }\n",
       "  th, td {\n",
       "    padding: 5px;\n",
       "  }\n",
       "  th {\n",
       "    text-align: left;\n",
       "  }\n",
       "</style><div class='table-result-container'><table class='table-result'><thead style='background-color: white'><tr><th>Teams</th><th>Group</th><th>Pld</th><th>W</th><th>D</th><th>L</th><th>GF</th><th>GA</th><th>GD</th><th>Pts</th></tr></thead><tbody><tr><td></td><td></td><td></td><td></td><td></td><td></td><td></td><td></td><td></td><td></td></tr><tr><td>Poland</td><td>D</td><td>3</td><td>1</td><td>2</td><td>0</td><td>2</td><td>6</td><td>-4</td><td>5</td></tr><tr><td>Netherlands</td><td>D</td><td>3</td><td>0</td><td>1</td><td>2</td><td>9</td><td>1</td><td>8</td><td>1</td></tr><tr><td>Austria</td><td>D</td><td>3</td><td>1</td><td>0</td><td>2</td><td>10</td><td>9</td><td>1</td><td>3</td></tr><tr><td>France</td><td>D</td><td>3</td><td>2</td><td>1</td><td>0</td><td>9</td><td>4</td><td>5</td><td>7</td></tr><tr><td></td><td></td><td></td><td></td><td></td><td></td><td></td><td></td><td></td><td></td></tr><tr><td>Belgium</td><td>E</td><td>3</td><td>1</td><td>1</td><td>1</td><td>4</td><td>7</td><td>-3</td><td>4</td></tr><tr><td>Slovakia</td><td>E</td><td>3</td><td>0</td><td>1</td><td>2</td><td>7</td><td>7</td><td>0</td><td>1</td></tr><tr><td>Romania</td><td>E</td><td>3</td><td>2</td><td>0</td><td>1</td><td>11</td><td>4</td><td>7</td><td>6</td></tr><tr><td>Ukraine</td><td>E</td><td>3</td><td>1</td><td>2</td><td>0</td><td>10</td><td>8</td><td>2</td><td>5</td></tr><tr><td></td><td></td><td></td><td></td><td></td><td></td><td></td><td></td><td></td><td></td></tr><tr><td>Türkiye</td><td>F</td><td>3</td><td>2</td><td>0</td><td>1</td><td>9</td><td>9</td><td>0</td><td>6</td></tr><tr><td>Greece</td><td>F</td><td>3</td><td>0</td><td>0</td><td>3</td><td>11</td><td>7</td><td>4</td><td>0</td></tr><tr><td>Portugal</td><td>F</td><td>3</td><td>2</td><td>0</td><td>1</td><td>4</td><td>10</td><td>-6</td><td>6</td></tr><tr><td>Czech</td><td>F</td><td>3</td><td>2</td><td>0</td><td>1</td><td>12</td><td>6</td><td>6</td><td>6</td></tr></tbody></table></div>"
      ]
     },
     "metadata": {
      "application/vnd.databricks.v1+output": {
       "addedWidgets": {},
       "aggData": [],
       "aggError": "",
       "aggOverflow": false,
       "aggSchema": [],
       "aggSeriesLimitReached": false,
       "aggType": "",
       "arguments": {},
       "columnCustomDisplayInfos": {},
       "data": [
        [
         "",
         "",
         "",
         "",
         "",
         "",
         "",
         "",
         "",
         ""
        ],
        [
         "Poland",
         "D",
         "3",
         "1",
         "2",
         "0",
         "2",
         "6",
         "-4",
         "5"
        ],
        [
         "Netherlands",
         "D",
         "3",
         "0",
         "1",
         "2",
         "9",
         "1",
         "8",
         "1"
        ],
        [
         "Austria",
         "D",
         "3",
         "1",
         "0",
         "2",
         "10",
         "9",
         "1",
         "3"
        ],
        [
         "France",
         "D",
         "3",
         "2",
         "1",
         "0",
         "9",
         "4",
         "5",
         "7"
        ],
        [
         "",
         "",
         "",
         "",
         "",
         "",
         "",
         "",
         "",
         ""
        ],
        [
         "Belgium",
         "E",
         "3",
         "1",
         "1",
         "1",
         "4",
         "7",
         "-3",
         "4"
        ],
        [
         "Slovakia",
         "E",
         "3",
         "0",
         "1",
         "2",
         "7",
         "7",
         "0",
         "1"
        ],
        [
         "Romania",
         "E",
         "3",
         "2",
         "0",
         "1",
         "11",
         "4",
         "7",
         "6"
        ],
        [
         "Ukraine",
         "E",
         "3",
         "1",
         "2",
         "0",
         "10",
         "8",
         "2",
         "5"
        ],
        [
         "",
         "",
         "",
         "",
         "",
         "",
         "",
         "",
         "",
         ""
        ],
        [
         "Türkiye",
         "F",
         "3",
         "2",
         "0",
         "1",
         "9",
         "9",
         "0",
         "6"
        ],
        [
         "Greece",
         "F",
         "3",
         "0",
         "0",
         "3",
         "11",
         "7",
         "4",
         "0"
        ],
        [
         "Portugal",
         "F",
         "3",
         "2",
         "0",
         "1",
         "4",
         "10",
         "-6",
         "6"
        ],
        [
         "Czech",
         "F",
         "3",
         "2",
         "0",
         "1",
         "12",
         "6",
         "6",
         "6"
        ]
       ],
       "datasetInfos": [],
       "dbfsResultPath": null,
       "isJsonSchema": true,
       "metadata": {},
       "overflow": false,
       "plotOptions": {
        "customPlotOptions": {},
        "displayType": "table",
        "pivotAggregation": null,
        "pivotColumns": null,
        "xColumns": null,
        "yColumns": null
       },
       "removedWidgets": [],
       "schema": [
        {
         "metadata": "{}",
         "name": "Teams",
         "type": "\"string\""
        },
        {
         "metadata": "{}",
         "name": "Group",
         "type": "\"string\""
        },
        {
         "metadata": "{}",
         "name": "Pld",
         "type": "\"string\""
        },
        {
         "metadata": "{}",
         "name": "W",
         "type": "\"string\""
        },
        {
         "metadata": "{}",
         "name": "D",
         "type": "\"string\""
        },
        {
         "metadata": "{}",
         "name": "L",
         "type": "\"string\""
        },
        {
         "metadata": "{}",
         "name": "GF",
         "type": "\"string\""
        },
        {
         "metadata": "{}",
         "name": "GA",
         "type": "\"string\""
        },
        {
         "metadata": "{}",
         "name": "GD",
         "type": "\"string\""
        },
        {
         "metadata": "{}",
         "name": "Pts",
         "type": "\"string\""
        }
       ],
       "type": "table"
      }
     },
     "output_type": "display_data"
    }
   ],
   "source": [
    "#Table information for the Group A,B,C\n",
    "left_table = pd.DataFrame(columns=['Teams','Group','Pld','W','D','L','GF','GA','GD','Pts'])\n",
    "left_table = pd.concat([left_table, pd.DataFrame([blank_row])], ignore_index=True)\n",
    "left_table = pd.concat([left_table, visualization_with_space.iloc[:half_table_index]]).reset_index(drop=True)\n",
    "\n",
    "#Table information for the group C,D,E\n",
    "right_table = pd.DataFrame(columns=['Teams','Group','Pld','W','D','L','GF','GA','GD','Pts'])\n",
    "right_table = pd.concat([right_table, visualization_with_space.iloc[half_table_index +1:]]).reset_index(drop=True)\n",
    "right_table = pd.concat([pd.DataFrame([blank_row]), right_table], ignore_index=True)\n",
    "\n",
    "display(left_table)\n",
    "display(right_table)"
   ]
  },
  {
   "cell_type": "code",
   "execution_count": 0,
   "metadata": {
    "application/vnd.databricks.v1+cell": {
     "cellMetadata": {
      "byteLimit": 2048000,
      "rowLimit": 10000
     },
     "inputWidgets": {},
     "nuid": "352b23d0-3494-4569-8c6f-fa8ebc3b3c91",
     "showTitle": false,
     "title": ""
    }
   },
   "outputs": [
    {
     "output_type": "stream",
     "name": "stdout",
     "output_type": "stream",
     "text": [
      "17\n"
     ]
    },
    {
     "output_type": "display_data",
     "data": {
      "text/html": [
       "<style scoped>\n",
       "  .table-result-container {\n",
       "    max-height: 300px;\n",
       "    overflow: auto;\n",
       "  }\n",
       "  table, th, td {\n",
       "    border: 1px solid black;\n",
       "    border-collapse: collapse;\n",
       "  }\n",
       "  th, td {\n",
       "    padding: 5px;\n",
       "  }\n",
       "  th {\n",
       "    text-align: left;\n",
       "  }\n",
       "</style><div class='table-result-container'><table class='table-result'><thead style='background-color: white'><tr><th>Round_of_16</th><th>rest</th></tr></thead><tbody><tr><td></td><td></td></tr><tr><td></td><td></td></tr><tr><td>Albania (1)</td><td></td></tr><tr><td>Portugal (0)</td><td></td></tr><tr><td></td><td></td></tr><tr><td></td><td></td></tr><tr><td>Hungary (0)</td><td></td></tr><tr><td>Denmark (3)</td><td></td></tr><tr><td></td><td></td></tr><tr><td></td><td></td></tr><tr><td>Czech (1)</td><td></td></tr><tr><td>Italy (1)</td><td></td></tr><tr><td></td><td></td></tr><tr><td></td><td></td></tr><tr><td>Poland (0)</td><td></td></tr><tr><td>Ukraine (4)</td><td></td></tr><tr><td></td><td></td></tr><tr><td></td><td></td></tr><tr><td>Romania (0)</td><td></td></tr><tr><td>England (1)</td><td></td></tr><tr><td></td><td></td></tr><tr><td></td><td></td></tr><tr><td>France (1)</td><td></td></tr><tr><td>Türkiye (1)</td><td></td></tr><tr><td></td><td></td></tr><tr><td></td><td></td></tr><tr><td>Slovenia (1)</td><td></td></tr><tr><td>Belgium (3)</td><td></td></tr><tr><td></td><td></td></tr><tr><td></td><td></td></tr><tr><td>Scotland (5)</td><td></td></tr><tr><td>Spain (4)</td><td></td></tr><tr><td></td><td></td></tr><tr><td></td><td></td></tr></tbody></table></div>"
      ]
     },
     "metadata": {
      "application/vnd.databricks.v1+output": {
       "addedWidgets": {},
       "aggData": [],
       "aggError": "",
       "aggOverflow": false,
       "aggSchema": [],
       "aggSeriesLimitReached": false,
       "aggType": "",
       "arguments": {},
       "columnCustomDisplayInfos": {},
       "data": [
        [
         "",
         ""
        ],
        [
         "",
         ""
        ],
        [
         "Albania (1)",
         ""
        ],
        [
         "Portugal (0)",
         ""
        ],
        [
         "",
         ""
        ],
        [
         "",
         ""
        ],
        [
         "Hungary (0)",
         ""
        ],
        [
         "Denmark (3)",
         ""
        ],
        [
         "",
         ""
        ],
        [
         "",
         ""
        ],
        [
         "Czech (1)",
         ""
        ],
        [
         "Italy (1)",
         ""
        ],
        [
         "",
         ""
        ],
        [
         "",
         ""
        ],
        [
         "Poland (0)",
         ""
        ],
        [
         "Ukraine (4)",
         ""
        ],
        [
         "",
         ""
        ],
        [
         "",
         ""
        ],
        [
         "Romania (0)",
         ""
        ],
        [
         "England (1)",
         ""
        ],
        [
         "",
         ""
        ],
        [
         "",
         ""
        ],
        [
         "France (1)",
         ""
        ],
        [
         "Türkiye (1)",
         ""
        ],
        [
         "",
         ""
        ],
        [
         "",
         ""
        ],
        [
         "Slovenia (1)",
         ""
        ],
        [
         "Belgium (3)",
         ""
        ],
        [
         "",
         ""
        ],
        [
         "",
         ""
        ],
        [
         "Scotland (5)",
         ""
        ],
        [
         "Spain (4)",
         ""
        ],
        [
         "",
         ""
        ],
        [
         "",
         ""
        ]
       ],
       "datasetInfos": [],
       "dbfsResultPath": null,
       "isJsonSchema": true,
       "metadata": {},
       "overflow": false,
       "plotOptions": {
        "customPlotOptions": {},
        "displayType": "table",
        "pivotAggregation": null,
        "pivotColumns": null,
        "xColumns": null,
        "yColumns": null
       },
       "removedWidgets": [],
       "schema": [
        {
         "metadata": "{}",
         "name": "Round_of_16",
         "type": "\"string\""
        },
        {
         "metadata": "{}",
         "name": "rest",
         "type": "\"string\""
        }
       ],
       "type": "table"
      }
     },
     "output_type": "display_data"
    }
   ],
   "source": [
    "visualize_r16 = pd.DataFrame(columns=['Round_of_16', 'rest'])\n",
    "\n",
    "for _ in range(2):\n",
    "    visualize_r16 = pd.concat([visualize_r16, pd.DataFrame({'Round_of_16': ['']})], ignore_index=True)\n",
    "\n",
    "for index, row in round_of_16_df.iterrows():\n",
    "    visualize_r16 = pd.concat([visualize_r16, pd.DataFrame({'Round_of_16': [f\"{row['Team1']} ({row['Team1score']})\"]})], ignore_index=True)\n",
    "    visualize_r16 = pd.concat([visualize_r16, pd.DataFrame({'Round_of_16': [f\"{row['Team2']} ({row['Team2score']})\"]})], ignore_index=True)\n",
    "\n",
    "    for _ in range(2):\n",
    "        visualize_r16 = pd.concat([visualize_r16, pd.DataFrame({'Round_of_16': ['']})], ignore_index=True)\n",
    "\n",
    "visualize_r16['rest'] = ''\n",
    "\n",
    "splited_r16_index = len(visualize_r16) // 2\n",
    "print(splited_r16_index)\n",
    "display(visualize_r16)"
   ]
  },
  {
   "cell_type": "code",
   "execution_count": 0,
   "metadata": {
    "application/vnd.databricks.v1+cell": {
     "cellMetadata": {
      "byteLimit": 2048000,
      "rowLimit": 10000
     },
     "inputWidgets": {},
     "nuid": "b7fa1f79-b152-4e08-9b60-ba0ac23bcb64",
     "showTitle": false,
     "title": ""
    }
   },
   "outputs": [
    {
     "output_type": "display_data",
     "data": {
      "text/html": [
       "<style scoped>\n",
       "  .table-result-container {\n",
       "    max-height: 300px;\n",
       "    overflow: auto;\n",
       "  }\n",
       "  table, th, td {\n",
       "    border: 1px solid black;\n",
       "    border-collapse: collapse;\n",
       "  }\n",
       "  th, td {\n",
       "    padding: 5px;\n",
       "  }\n",
       "  th {\n",
       "    text-align: left;\n",
       "  }\n",
       "</style><div class='table-result-container'><table class='table-result'><thead style='background-color: white'><tr><th>Round_of_16</th><th>rest</th></tr></thead><tbody><tr><td></td><td></td></tr><tr><td></td><td></td></tr><tr><td>Albania (1)</td><td></td></tr><tr><td>Portugal (0)</td><td></td></tr><tr><td></td><td></td></tr><tr><td></td><td></td></tr><tr><td>Hungary (0)</td><td></td></tr><tr><td>Denmark (3)</td><td></td></tr><tr><td></td><td></td></tr><tr><td></td><td></td></tr><tr><td>Czech (1)</td><td></td></tr><tr><td>Italy (1)</td><td></td></tr><tr><td></td><td></td></tr><tr><td></td><td></td></tr><tr><td>Poland (0)</td><td></td></tr><tr><td>Ukraine (4)</td><td></td></tr><tr><td></td><td></td></tr><tr><td></td><td></td></tr></tbody></table></div>"
      ]
     },
     "metadata": {
      "application/vnd.databricks.v1+output": {
       "addedWidgets": {},
       "aggData": [],
       "aggError": "",
       "aggOverflow": false,
       "aggSchema": [],
       "aggSeriesLimitReached": false,
       "aggType": "",
       "arguments": {},
       "columnCustomDisplayInfos": {},
       "data": [
        [
         "",
         ""
        ],
        [
         "",
         ""
        ],
        [
         "Albania (1)",
         ""
        ],
        [
         "Portugal (0)",
         ""
        ],
        [
         "",
         ""
        ],
        [
         "",
         ""
        ],
        [
         "Hungary (0)",
         ""
        ],
        [
         "Denmark (3)",
         ""
        ],
        [
         "",
         ""
        ],
        [
         "",
         ""
        ],
        [
         "Czech (1)",
         ""
        ],
        [
         "Italy (1)",
         ""
        ],
        [
         "",
         ""
        ],
        [
         "",
         ""
        ],
        [
         "Poland (0)",
         ""
        ],
        [
         "Ukraine (4)",
         ""
        ],
        [
         "",
         ""
        ],
        [
         "",
         ""
        ]
       ],
       "datasetInfos": [],
       "dbfsResultPath": null,
       "isJsonSchema": true,
       "metadata": {},
       "overflow": false,
       "plotOptions": {
        "customPlotOptions": {},
        "displayType": "table",
        "pivotAggregation": null,
        "pivotColumns": null,
        "xColumns": null,
        "yColumns": null
       },
       "removedWidgets": [],
       "schema": [
        {
         "metadata": "{}",
         "name": "Round_of_16",
         "type": "\"string\""
        },
        {
         "metadata": "{}",
         "name": "rest",
         "type": "\"string\""
        }
       ],
       "type": "table"
      }
     },
     "output_type": "display_data"
    },
    {
     "output_type": "display_data",
     "data": {
      "text/html": [
       "<style scoped>\n",
       "  .table-result-container {\n",
       "    max-height: 300px;\n",
       "    overflow: auto;\n",
       "  }\n",
       "  table, th, td {\n",
       "    border: 1px solid black;\n",
       "    border-collapse: collapse;\n",
       "  }\n",
       "  th, td {\n",
       "    padding: 5px;\n",
       "  }\n",
       "  th {\n",
       "    text-align: left;\n",
       "  }\n",
       "</style><div class='table-result-container'><table class='table-result'><thead style='background-color: white'><tr><th>Round_of_16</th><th>rest</th></tr></thead><tbody><tr><td></td><td></td></tr><tr><td></td><td></td></tr><tr><td>Romania (0)</td><td></td></tr><tr><td>England (1)</td><td></td></tr><tr><td></td><td></td></tr><tr><td></td><td></td></tr><tr><td>France (1)</td><td></td></tr><tr><td>Türkiye (1)</td><td></td></tr><tr><td></td><td></td></tr><tr><td></td><td></td></tr><tr><td>Slovenia (1)</td><td></td></tr><tr><td>Belgium (3)</td><td></td></tr><tr><td></td><td></td></tr><tr><td></td><td></td></tr><tr><td>Scotland (5)</td><td></td></tr><tr><td>Spain (4)</td><td></td></tr><tr><td></td><td></td></tr><tr><td></td><td></td></tr></tbody></table></div>"
      ]
     },
     "metadata": {
      "application/vnd.databricks.v1+output": {
       "addedWidgets": {},
       "aggData": [],
       "aggError": "",
       "aggOverflow": false,
       "aggSchema": [],
       "aggSeriesLimitReached": false,
       "aggType": "",
       "arguments": {},
       "columnCustomDisplayInfos": {},
       "data": [
        [
         "",
         ""
        ],
        [
         "",
         ""
        ],
        [
         "Romania (0)",
         ""
        ],
        [
         "England (1)",
         ""
        ],
        [
         "",
         ""
        ],
        [
         "",
         ""
        ],
        [
         "France (1)",
         ""
        ],
        [
         "Türkiye (1)",
         ""
        ],
        [
         "",
         ""
        ],
        [
         "",
         ""
        ],
        [
         "Slovenia (1)",
         ""
        ],
        [
         "Belgium (3)",
         ""
        ],
        [
         "",
         ""
        ],
        [
         "",
         ""
        ],
        [
         "Scotland (5)",
         ""
        ],
        [
         "Spain (4)",
         ""
        ],
        [
         "",
         ""
        ],
        [
         "",
         ""
        ]
       ],
       "datasetInfos": [],
       "dbfsResultPath": null,
       "isJsonSchema": true,
       "metadata": {},
       "overflow": false,
       "plotOptions": {
        "customPlotOptions": {},
        "displayType": "table",
        "pivotAggregation": null,
        "pivotColumns": null,
        "xColumns": null,
        "yColumns": null
       },
       "removedWidgets": [],
       "schema": [
        {
         "metadata": "{}",
         "name": "Round_of_16",
         "type": "\"string\""
        },
        {
         "metadata": "{}",
         "name": "rest",
         "type": "\"string\""
        }
       ],
       "type": "table"
      }
     },
     "output_type": "display_data"
    }
   ],
   "source": [
    "left_side_r16 = visualize_r16.iloc[:splited_r16_index + 1].reset_index(drop = True)\n",
    "right_side_r16 = visualize_r16.iloc[splited_r16_index - 1:].reset_index(drop = True)\n",
    "display(left_side_r16)\n",
    "display(right_side_r16)"
   ]
  },
  {
   "cell_type": "code",
   "execution_count": 0,
   "metadata": {
    "application/vnd.databricks.v1+cell": {
     "cellMetadata": {
      "byteLimit": 2048000,
      "rowLimit": 10000
     },
     "inputWidgets": {},
     "nuid": "c2cc6be6-8b08-4bed-96a3-c98fbbf202b7",
     "showTitle": false,
     "title": ""
    }
   },
   "outputs": [
    {
     "output_type": "display_data",
     "data": {
      "text/html": [
       "<style scoped>\n",
       "  .table-result-container {\n",
       "    max-height: 300px;\n",
       "    overflow: auto;\n",
       "  }\n",
       "  table, th, td {\n",
       "    border: 1px solid black;\n",
       "    border-collapse: collapse;\n",
       "  }\n",
       "  th, td {\n",
       "    padding: 5px;\n",
       "  }\n",
       "  th {\n",
       "    text-align: left;\n",
       "  }\n",
       "</style><div class='table-result-container'><table class='table-result'><thead style='background-color: white'><tr><th>Quater_Final</th><th>rest</th></tr></thead><tbody><tr><td></td><td></td></tr><tr><td></td><td></td></tr><tr><td></td><td></td></tr><tr><td></td><td></td></tr><tr><td>Albania (6)</td><td></td></tr><tr><td>Denmark (5)</td><td></td></tr><tr><td></td><td></td></tr><tr><td></td><td></td></tr><tr><td></td><td></td></tr><tr><td></td><td></td></tr><tr><td></td><td></td></tr><tr><td></td><td></td></tr><tr><td>Czech (2)</td><td></td></tr><tr><td>Ukraine (6)</td><td></td></tr><tr><td></td><td></td></tr><tr><td></td><td></td></tr><tr><td></td><td></td></tr><tr><td></td><td></td></tr><tr><td></td><td></td></tr><tr><td></td><td></td></tr><tr><td>England (3)</td><td></td></tr><tr><td>France (4)</td><td></td></tr><tr><td></td><td></td></tr><tr><td></td><td></td></tr><tr><td></td><td></td></tr><tr><td></td><td></td></tr><tr><td></td><td></td></tr><tr><td></td><td></td></tr><tr><td>Belgium (3)</td><td></td></tr><tr><td>Scotland (1)</td><td></td></tr><tr><td></td><td></td></tr><tr><td></td><td></td></tr><tr><td></td><td></td></tr><tr><td></td><td></td></tr><tr><td></td><td></td></tr><tr><td></td><td></td></tr></tbody></table></div>"
      ]
     },
     "metadata": {
      "application/vnd.databricks.v1+output": {
       "addedWidgets": {},
       "aggData": [],
       "aggError": "",
       "aggOverflow": false,
       "aggSchema": [],
       "aggSeriesLimitReached": false,
       "aggType": "",
       "arguments": {},
       "columnCustomDisplayInfos": {},
       "data": [
        [
         "",
         ""
        ],
        [
         "",
         ""
        ],
        [
         "",
         ""
        ],
        [
         "",
         ""
        ],
        [
         "Albania (6)",
         ""
        ],
        [
         "Denmark (5)",
         ""
        ],
        [
         "",
         ""
        ],
        [
         "",
         ""
        ],
        [
         "",
         ""
        ],
        [
         "",
         ""
        ],
        [
         "",
         ""
        ],
        [
         "",
         ""
        ],
        [
         "Czech (2)",
         ""
        ],
        [
         "Ukraine (6)",
         ""
        ],
        [
         "",
         ""
        ],
        [
         "",
         ""
        ],
        [
         "",
         ""
        ],
        [
         "",
         ""
        ],
        [
         "",
         ""
        ],
        [
         "",
         ""
        ],
        [
         "England (3)",
         ""
        ],
        [
         "France (4)",
         ""
        ],
        [
         "",
         ""
        ],
        [
         "",
         ""
        ],
        [
         "",
         ""
        ],
        [
         "",
         ""
        ],
        [
         "",
         ""
        ],
        [
         "",
         ""
        ],
        [
         "Belgium (3)",
         ""
        ],
        [
         "Scotland (1)",
         ""
        ],
        [
         "",
         ""
        ],
        [
         "",
         ""
        ],
        [
         "",
         ""
        ],
        [
         "",
         ""
        ],
        [
         "",
         ""
        ],
        [
         "",
         ""
        ]
       ],
       "datasetInfos": [],
       "dbfsResultPath": null,
       "isJsonSchema": true,
       "metadata": {},
       "overflow": false,
       "plotOptions": {
        "customPlotOptions": {},
        "displayType": "table",
        "pivotAggregation": null,
        "pivotColumns": null,
        "xColumns": null,
        "yColumns": null
       },
       "removedWidgets": [],
       "schema": [
        {
         "metadata": "{}",
         "name": "Quater_Final",
         "type": "\"string\""
        },
        {
         "metadata": "{}",
         "name": "rest",
         "type": "\"string\""
        }
       ],
       "type": "table"
      }
     },
     "output_type": "display_data"
    }
   ],
   "source": [
    "visualize_qf = pd.DataFrame(columns=['Quater_Final'])\n",
    "\n",
    "for _ in range(4):\n",
    "    visualize_qf = pd.concat([visualize_qf, pd.DataFrame({'Quater_Final': ['']})], ignore_index=True)\n",
    "\n",
    "for index, row in quater_final_df.iterrows():\n",
    "    visualize_qf = pd.concat([visualize_qf, pd.DataFrame({'Quater_Final': [f\"{row['Team1']} ({row['Team1score']})\"]})], ignore_index=True)\n",
    "    visualize_qf = pd.concat([visualize_qf, pd.DataFrame({'Quater_Final': [f\"{row['Team2']} ({row['Team2score']})\"]})], ignore_index=True)\n",
    "\n",
    "    for _ in range(6):\n",
    "        visualize_qf = pd.concat([visualize_qf, pd.DataFrame({'Quater_Final': ['']})], ignore_index=True)\n",
    "visualize_qf['rest'] = ''\n",
    "splited_qf_index = len(visualize_qf) // 2\n",
    "display(visualize_qf)"
   ]
  },
  {
   "cell_type": "code",
   "execution_count": 0,
   "metadata": {
    "application/vnd.databricks.v1+cell": {
     "cellMetadata": {
      "byteLimit": 2048000,
      "rowLimit": 10000
     },
     "inputWidgets": {},
     "nuid": "774fe408-d6f4-40c0-928c-e6556ade3bfb",
     "showTitle": false,
     "title": ""
    }
   },
   "outputs": [
    {
     "output_type": "display_data",
     "data": {
      "text/html": [
       "<style scoped>\n",
       "  .table-result-container {\n",
       "    max-height: 300px;\n",
       "    overflow: auto;\n",
       "  }\n",
       "  table, th, td {\n",
       "    border: 1px solid black;\n",
       "    border-collapse: collapse;\n",
       "  }\n",
       "  th, td {\n",
       "    padding: 5px;\n",
       "  }\n",
       "  th {\n",
       "    text-align: left;\n",
       "  }\n",
       "</style><div class='table-result-container'><table class='table-result'><thead style='background-color: white'><tr><th>Quater_Final</th><th>rest</th></tr></thead><tbody><tr><td></td><td></td></tr><tr><td></td><td></td></tr><tr><td></td><td></td></tr><tr><td></td><td></td></tr><tr><td>Albania (6)</td><td></td></tr><tr><td>Denmark (5)</td><td></td></tr><tr><td></td><td></td></tr><tr><td></td><td></td></tr><tr><td></td><td></td></tr><tr><td></td><td></td></tr><tr><td></td><td></td></tr><tr><td></td><td></td></tr><tr><td>Czech (2)</td><td></td></tr><tr><td>Ukraine (6)</td><td></td></tr><tr><td></td><td></td></tr><tr><td></td><td></td></tr><tr><td></td><td></td></tr><tr><td></td><td></td></tr></tbody></table></div>"
      ]
     },
     "metadata": {
      "application/vnd.databricks.v1+output": {
       "addedWidgets": {},
       "aggData": [],
       "aggError": "",
       "aggOverflow": false,
       "aggSchema": [],
       "aggSeriesLimitReached": false,
       "aggType": "",
       "arguments": {},
       "columnCustomDisplayInfos": {},
       "data": [
        [
         "",
         ""
        ],
        [
         "",
         ""
        ],
        [
         "",
         ""
        ],
        [
         "",
         ""
        ],
        [
         "Albania (6)",
         ""
        ],
        [
         "Denmark (5)",
         ""
        ],
        [
         "",
         ""
        ],
        [
         "",
         ""
        ],
        [
         "",
         ""
        ],
        [
         "",
         ""
        ],
        [
         "",
         ""
        ],
        [
         "",
         ""
        ],
        [
         "Czech (2)",
         ""
        ],
        [
         "Ukraine (6)",
         ""
        ],
        [
         "",
         ""
        ],
        [
         "",
         ""
        ],
        [
         "",
         ""
        ],
        [
         "",
         ""
        ]
       ],
       "datasetInfos": [],
       "dbfsResultPath": null,
       "isJsonSchema": true,
       "metadata": {},
       "overflow": false,
       "plotOptions": {
        "customPlotOptions": {},
        "displayType": "table",
        "pivotAggregation": null,
        "pivotColumns": null,
        "xColumns": null,
        "yColumns": null
       },
       "removedWidgets": [],
       "schema": [
        {
         "metadata": "{}",
         "name": "Quater_Final",
         "type": "\"string\""
        },
        {
         "metadata": "{}",
         "name": "rest",
         "type": "\"string\""
        }
       ],
       "type": "table"
      }
     },
     "output_type": "display_data"
    },
    {
     "output_type": "display_data",
     "data": {
      "text/html": [
       "<style scoped>\n",
       "  .table-result-container {\n",
       "    max-height: 300px;\n",
       "    overflow: auto;\n",
       "  }\n",
       "  table, th, td {\n",
       "    border: 1px solid black;\n",
       "    border-collapse: collapse;\n",
       "  }\n",
       "  th, td {\n",
       "    padding: 5px;\n",
       "  }\n",
       "  th {\n",
       "    text-align: left;\n",
       "  }\n",
       "</style><div class='table-result-container'><table class='table-result'><thead style='background-color: white'><tr><th>Quater_Final</th><th>rest</th></tr></thead><tbody><tr><td></td><td></td></tr><tr><td></td><td></td></tr><tr><td></td><td></td></tr><tr><td></td><td></td></tr><tr><td>England (3)</td><td></td></tr><tr><td>France (4)</td><td></td></tr><tr><td></td><td></td></tr><tr><td></td><td></td></tr><tr><td></td><td></td></tr><tr><td></td><td></td></tr><tr><td></td><td></td></tr><tr><td></td><td></td></tr><tr><td>Belgium (3)</td><td></td></tr><tr><td>Scotland (1)</td><td></td></tr><tr><td></td><td></td></tr><tr><td></td><td></td></tr><tr><td></td><td></td></tr><tr><td></td><td></td></tr><tr><td></td><td></td></tr><tr><td></td><td></td></tr></tbody></table></div>"
      ]
     },
     "metadata": {
      "application/vnd.databricks.v1+output": {
       "addedWidgets": {},
       "aggData": [],
       "aggError": "",
       "aggOverflow": false,
       "aggSchema": [],
       "aggSeriesLimitReached": false,
       "aggType": "",
       "arguments": {},
       "columnCustomDisplayInfos": {},
       "data": [
        [
         "",
         ""
        ],
        [
         "",
         ""
        ],
        [
         "",
         ""
        ],
        [
         "",
         ""
        ],
        [
         "England (3)",
         ""
        ],
        [
         "France (4)",
         ""
        ],
        [
         "",
         ""
        ],
        [
         "",
         ""
        ],
        [
         "",
         ""
        ],
        [
         "",
         ""
        ],
        [
         "",
         ""
        ],
        [
         "",
         ""
        ],
        [
         "Belgium (3)",
         ""
        ],
        [
         "Scotland (1)",
         ""
        ],
        [
         "",
         ""
        ],
        [
         "",
         ""
        ],
        [
         "",
         ""
        ],
        [
         "",
         ""
        ],
        [
         "",
         ""
        ],
        [
         "",
         ""
        ]
       ],
       "datasetInfos": [],
       "dbfsResultPath": null,
       "isJsonSchema": true,
       "metadata": {},
       "overflow": false,
       "plotOptions": {
        "customPlotOptions": {},
        "displayType": "table",
        "pivotAggregation": null,
        "pivotColumns": null,
        "xColumns": null,
        "yColumns": null
       },
       "removedWidgets": [],
       "schema": [
        {
         "metadata": "{}",
         "name": "Quater_Final",
         "type": "\"string\""
        },
        {
         "metadata": "{}",
         "name": "rest",
         "type": "\"string\""
        }
       ],
       "type": "table"
      }
     },
     "output_type": "display_data"
    }
   ],
   "source": [
    "left_side_qf = pd.DataFrame(columns=['Quater_Final'])\n",
    "left_side_qf = pd.concat([left_side_qf,visualize_qf.iloc[:splited_qf_index]]).reset_index(drop=True)\n",
    "right_side_qf = pd.DataFrame(columns=['Quater_Final'])\n",
    "right_side_qf = pd.concat([right_side_qf,visualize_qf.iloc[splited_qf_index-2:]]).reset_index(drop=True)\n",
    "\n",
    "\n",
    "display(left_side_qf)\n",
    "display(right_side_qf)"
   ]
  },
  {
   "cell_type": "code",
   "execution_count": 0,
   "metadata": {
    "application/vnd.databricks.v1+cell": {
     "cellMetadata": {
      "byteLimit": 2048000,
      "rowLimit": 10000
     },
     "inputWidgets": {},
     "nuid": "f72cd522-412b-4b62-b4a7-b426cc0313ed",
     "showTitle": false,
     "title": ""
    }
   },
   "outputs": [
    {
     "output_type": "stream",
     "name": "stdout",
     "output_type": "stream",
     "text": [
      "12\n"
     ]
    },
    {
     "output_type": "display_data",
     "data": {
      "text/html": [
       "<style scoped>\n",
       "  .table-result-container {\n",
       "    max-height: 300px;\n",
       "    overflow: auto;\n",
       "  }\n",
       "  table, th, td {\n",
       "    border: 1px solid black;\n",
       "    border-collapse: collapse;\n",
       "  }\n",
       "  th, td {\n",
       "    padding: 5px;\n",
       "  }\n",
       "  th {\n",
       "    text-align: left;\n",
       "  }\n",
       "</style><div class='table-result-container'><table class='table-result'><thead style='background-color: white'><tr><th>Semi_Final</th><th>rest</th></tr></thead><tbody><tr><td></td><td></td></tr><tr><td></td><td></td></tr><tr><td></td><td></td></tr><tr><td></td><td></td></tr><tr><td></td><td></td></tr><tr><td></td><td></td></tr><tr><td></td><td></td></tr><tr><td></td><td></td></tr><tr><td>Albania (2)</td><td></td></tr><tr><td>Ukraine (2)</td><td></td></tr><tr><td></td><td></td></tr><tr><td></td><td></td></tr><tr><td></td><td></td></tr><tr><td></td><td></td></tr><tr><td></td><td></td></tr><tr><td></td><td></td></tr><tr><td>France (1)</td><td></td></tr><tr><td>Belgium (6)</td><td></td></tr><tr><td></td><td></td></tr><tr><td></td><td></td></tr><tr><td></td><td></td></tr><tr><td></td><td></td></tr><tr><td></td><td></td></tr><tr><td></td><td></td></tr></tbody></table></div>"
      ]
     },
     "metadata": {
      "application/vnd.databricks.v1+output": {
       "addedWidgets": {},
       "aggData": [],
       "aggError": "",
       "aggOverflow": false,
       "aggSchema": [],
       "aggSeriesLimitReached": false,
       "aggType": "",
       "arguments": {},
       "columnCustomDisplayInfos": {},
       "data": [
        [
         "",
         ""
        ],
        [
         "",
         ""
        ],
        [
         "",
         ""
        ],
        [
         "",
         ""
        ],
        [
         "",
         ""
        ],
        [
         "",
         ""
        ],
        [
         "",
         ""
        ],
        [
         "",
         ""
        ],
        [
         "Albania (2)",
         ""
        ],
        [
         "Ukraine (2)",
         ""
        ],
        [
         "",
         ""
        ],
        [
         "",
         ""
        ],
        [
         "",
         ""
        ],
        [
         "",
         ""
        ],
        [
         "",
         ""
        ],
        [
         "",
         ""
        ],
        [
         "France (1)",
         ""
        ],
        [
         "Belgium (6)",
         ""
        ],
        [
         "",
         ""
        ],
        [
         "",
         ""
        ],
        [
         "",
         ""
        ],
        [
         "",
         ""
        ],
        [
         "",
         ""
        ],
        [
         "",
         ""
        ]
       ],
       "datasetInfos": [],
       "dbfsResultPath": null,
       "isJsonSchema": true,
       "metadata": {},
       "overflow": false,
       "plotOptions": {
        "customPlotOptions": {},
        "displayType": "table",
        "pivotAggregation": null,
        "pivotColumns": null,
        "xColumns": null,
        "yColumns": null
       },
       "removedWidgets": [],
       "schema": [
        {
         "metadata": "{}",
         "name": "Semi_Final",
         "type": "\"string\""
        },
        {
         "metadata": "{}",
         "name": "rest",
         "type": "\"string\""
        }
       ],
       "type": "table"
      }
     },
     "output_type": "display_data"
    }
   ],
   "source": [
    "visualize_sf = pd.DataFrame(columns=['Semi_Final'])\n",
    "\n",
    "for _ in range(8):\n",
    "    visualize_sf = pd.concat([visualize_sf, pd.DataFrame({'Semi_Final': ['']})], ignore_index=True)\n",
    "\n",
    "for index, row in semi_final_df.iterrows():\n",
    "    visualize_sf = pd.concat([visualize_sf, pd.DataFrame({'Semi_Final': [f\"{row['Team1']} ({row['Team1score']})\"]})], ignore_index=True)\n",
    "    visualize_sf = pd.concat([visualize_sf, pd.DataFrame({'Semi_Final': [f\"{row['Team2']} ({row['Team2score']})\"]})], ignore_index=True)\n",
    "    for _ in range(6):\n",
    "        visualize_sf = pd.concat([visualize_sf, pd.DataFrame({'Semi_Final': ['']})], ignore_index=True)\n",
    "visualize_sf['rest'] = ''\n",
    "splited_sf_index = len(visualize_sf) // 2\n",
    "print(splited_sf_index)\n",
    "display(visualize_sf)\n"
   ]
  },
  {
   "cell_type": "code",
   "execution_count": 0,
   "metadata": {
    "application/vnd.databricks.v1+cell": {
     "cellMetadata": {
      "byteLimit": 2048000,
      "rowLimit": 10000
     },
     "inputWidgets": {},
     "nuid": "edc56358-c236-4fcb-b4d5-f595c91d2323",
     "showTitle": false,
     "title": ""
    }
   },
   "outputs": [
    {
     "output_type": "display_data",
     "data": {
      "text/html": [
       "<style scoped>\n",
       "  .table-result-container {\n",
       "    max-height: 300px;\n",
       "    overflow: auto;\n",
       "  }\n",
       "  table, th, td {\n",
       "    border: 1px solid black;\n",
       "    border-collapse: collapse;\n",
       "  }\n",
       "  th, td {\n",
       "    padding: 5px;\n",
       "  }\n",
       "  th {\n",
       "    text-align: left;\n",
       "  }\n",
       "</style><div class='table-result-container'><table class='table-result'><thead style='background-color: white'><tr><th>Semi_Final</th><th>rest</th></tr></thead><tbody><tr><td></td><td></td></tr><tr><td></td><td></td></tr><tr><td></td><td></td></tr><tr><td></td><td></td></tr><tr><td></td><td></td></tr><tr><td></td><td></td></tr><tr><td></td><td></td></tr><tr><td></td><td></td></tr><tr><td>Albania (2)</td><td></td></tr><tr><td>Ukraine (2)</td><td></td></tr><tr><td></td><td></td></tr><tr><td></td><td></td></tr><tr><td></td><td></td></tr><tr><td></td><td></td></tr><tr><td></td><td></td></tr><tr><td></td><td></td></tr><tr><td></td><td></td></tr></tbody></table></div>"
      ]
     },
     "metadata": {
      "application/vnd.databricks.v1+output": {
       "addedWidgets": {},
       "aggData": [],
       "aggError": "",
       "aggOverflow": false,
       "aggSchema": [],
       "aggSeriesLimitReached": false,
       "aggType": "",
       "arguments": {},
       "columnCustomDisplayInfos": {},
       "data": [
        [
         "",
         ""
        ],
        [
         "",
         ""
        ],
        [
         "",
         ""
        ],
        [
         "",
         ""
        ],
        [
         "",
         ""
        ],
        [
         "",
         ""
        ],
        [
         "",
         ""
        ],
        [
         "",
         ""
        ],
        [
         "Albania (2)",
         ""
        ],
        [
         "Ukraine (2)",
         ""
        ],
        [
         "",
         ""
        ],
        [
         "",
         ""
        ],
        [
         "",
         ""
        ],
        [
         "",
         ""
        ],
        [
         "",
         ""
        ],
        [
         "",
         ""
        ],
        [
         "",
         ""
        ]
       ],
       "datasetInfos": [],
       "dbfsResultPath": null,
       "isJsonSchema": true,
       "metadata": {},
       "overflow": false,
       "plotOptions": {
        "customPlotOptions": {},
        "displayType": "table",
        "pivotAggregation": null,
        "pivotColumns": null,
        "xColumns": null,
        "yColumns": null
       },
       "removedWidgets": [],
       "schema": [
        {
         "metadata": "{}",
         "name": "Semi_Final",
         "type": "\"string\""
        },
        {
         "metadata": "{}",
         "name": "rest",
         "type": "\"string\""
        }
       ],
       "type": "table"
      }
     },
     "output_type": "display_data"
    },
    {
     "output_type": "display_data",
     "data": {
      "text/html": [
       "<style scoped>\n",
       "  .table-result-container {\n",
       "    max-height: 300px;\n",
       "    overflow: auto;\n",
       "  }\n",
       "  table, th, td {\n",
       "    border: 1px solid black;\n",
       "    border-collapse: collapse;\n",
       "  }\n",
       "  th, td {\n",
       "    padding: 5px;\n",
       "  }\n",
       "  th {\n",
       "    text-align: left;\n",
       "  }\n",
       "</style><div class='table-result-container'><table class='table-result'><thead style='background-color: white'><tr><th>Semi_Final</th><th>rest</th></tr></thead><tbody><tr><td></td><td></td></tr><tr><td></td><td></td></tr><tr><td></td><td></td></tr><tr><td></td><td></td></tr><tr><td></td><td></td></tr><tr><td></td><td></td></tr><tr><td></td><td></td></tr><tr><td></td><td></td></tr><tr><td>France (1)</td><td></td></tr><tr><td>Belgium (6)</td><td></td></tr><tr><td></td><td></td></tr><tr><td></td><td></td></tr><tr><td></td><td></td></tr><tr><td></td><td></td></tr><tr><td></td><td></td></tr><tr><td></td><td></td></tr></tbody></table></div>"
      ]
     },
     "metadata": {
      "application/vnd.databricks.v1+output": {
       "addedWidgets": {},
       "aggData": [],
       "aggError": "",
       "aggOverflow": false,
       "aggSchema": [],
       "aggSeriesLimitReached": false,
       "aggType": "",
       "arguments": {},
       "columnCustomDisplayInfos": {},
       "data": [
        [
         "",
         ""
        ],
        [
         "",
         ""
        ],
        [
         "",
         ""
        ],
        [
         "",
         ""
        ],
        [
         "",
         ""
        ],
        [
         "",
         ""
        ],
        [
         "",
         ""
        ],
        [
         "",
         ""
        ],
        [
         "France (1)",
         ""
        ],
        [
         "Belgium (6)",
         ""
        ],
        [
         "",
         ""
        ],
        [
         "",
         ""
        ],
        [
         "",
         ""
        ],
        [
         "",
         ""
        ],
        [
         "",
         ""
        ],
        [
         "",
         ""
        ]
       ],
       "datasetInfos": [],
       "dbfsResultPath": null,
       "isJsonSchema": true,
       "metadata": {},
       "overflow": false,
       "plotOptions": {
        "customPlotOptions": {},
        "displayType": "table",
        "pivotAggregation": null,
        "pivotColumns": null,
        "xColumns": null,
        "yColumns": null
       },
       "removedWidgets": [],
       "schema": [
        {
         "metadata": "{}",
         "name": "Semi_Final",
         "type": "\"string\""
        },
        {
         "metadata": "{}",
         "name": "rest",
         "type": "\"string\""
        }
       ],
       "type": "table"
      }
     },
     "output_type": "display_data"
    }
   ],
   "source": [
    "left_side_sf = pd.DataFrame(columns=['Semi_Final'])\n",
    "left_side_sf = pd.concat([left_side_sf, visualize_sf.iloc[:splited_sf_index]]).reset_index(drop=True)\n",
    "\n",
    "for _ in range(5):\n",
    "    left_side_sf = pd.concat([left_side_sf, pd.DataFrame({'Semi_Final': [''], 'rest': ['']})], ignore_index=True)\n",
    "\n",
    "right_side_sf = pd.DataFrame({'Semi_Final': [''] * 7, 'rest': [''] * 7})\n",
    "right_side_sf = pd.concat([right_side_sf, visualize_sf.iloc[splited_sf_index+3:]]).reset_index(drop=True)\n",
    "display(left_side_sf)\n",
    "display(right_side_sf)\n",
    "     "
   ]
  },
  {
   "cell_type": "code",
   "execution_count": 0,
   "metadata": {
    "application/vnd.databricks.v1+cell": {
     "cellMetadata": {
      "byteLimit": 2048000,
      "rowLimit": 10000
     },
     "inputWidgets": {},
     "nuid": "f0a0c3dc-fa9f-4df2-b290-636fb4a1f602",
     "showTitle": false,
     "title": ""
    }
   },
   "outputs": [
    {
     "output_type": "display_data",
     "data": {
      "text/html": [
       "<style scoped>\n",
       "  .table-result-container {\n",
       "    max-height: 300px;\n",
       "    overflow: auto;\n",
       "  }\n",
       "  table, th, td {\n",
       "    border: 1px solid black;\n",
       "    border-collapse: collapse;\n",
       "  }\n",
       "  th, td {\n",
       "    padding: 5px;\n",
       "  }\n",
       "  th {\n",
       "    text-align: left;\n",
       "  }\n",
       "</style><div class='table-result-container'><table class='table-result'><thead style='background-color: white'><tr><th>Final</th><th>rest</th></tr></thead><tbody><tr><td></td><td></td></tr><tr><td></td><td></td></tr><tr><td></td><td></td></tr><tr><td></td><td></td></tr><tr><td></td><td></td></tr><tr><td></td><td></td></tr><tr><td></td><td></td></tr><tr><td></td><td></td></tr><tr><td>Ukraine (3)</td><td></td></tr><tr><td>Belgium (1)</td><td></td></tr><tr><td>Winner: Ukraine</td><td></td></tr></tbody></table></div>"
      ]
     },
     "metadata": {
      "application/vnd.databricks.v1+output": {
       "addedWidgets": {},
       "aggData": [],
       "aggError": "",
       "aggOverflow": false,
       "aggSchema": [],
       "aggSeriesLimitReached": false,
       "aggType": "",
       "arguments": {},
       "columnCustomDisplayInfos": {},
       "data": [
        [
         "",
         ""
        ],
        [
         "",
         ""
        ],
        [
         "",
         ""
        ],
        [
         "",
         ""
        ],
        [
         "",
         ""
        ],
        [
         "",
         ""
        ],
        [
         "",
         ""
        ],
        [
         "",
         ""
        ],
        [
         "Ukraine (3)",
         ""
        ],
        [
         "Belgium (1)",
         ""
        ],
        [
         "Winner: Ukraine",
         ""
        ]
       ],
       "datasetInfos": [],
       "dbfsResultPath": null,
       "isJsonSchema": true,
       "metadata": {},
       "overflow": false,
       "plotOptions": {
        "customPlotOptions": {},
        "displayType": "table",
        "pivotAggregation": null,
        "pivotColumns": null,
        "xColumns": null,
        "yColumns": null
       },
       "removedWidgets": [],
       "schema": [
        {
         "metadata": "{}",
         "name": "Final",
         "type": "\"string\""
        },
        {
         "metadata": "{}",
         "name": "rest",
         "type": "\"string\""
        }
       ],
       "type": "table"
      }
     },
     "output_type": "display_data"
    }
   ],
   "source": [
    "\n",
    "visualize_final = pd.DataFrame(columns=['Final'])\n",
    "\n",
    "for _ in range(8):\n",
    "    visualize_final = pd.concat([visualize_final, pd.DataFrame({'Final': ['']})], ignore_index=True)\n",
    "\n",
    "for index, row in final_df.iterrows():\n",
    "    winner = ''\n",
    "    \n",
    "    if row['Team1score'] > row['Team2score']:\n",
    "        winner = row['Team1']\n",
    "    else:\n",
    "        winner = row['Team2']\n",
    "\n",
    "    visualize_final = pd.concat([visualize_final, pd.DataFrame({'Final': [f\"{row['Team1']} ({row['Team1score']})\"]})], ignore_index=True)\n",
    "    visualize_final = pd.concat([visualize_final, pd.DataFrame({'Final': [f\"{row['Team2']} ({row['Team2score']})\"]})], ignore_index=True)\n",
    "    visualize_final = pd.concat([visualize_final, pd.DataFrame({'Final': [f\"Winner: {winner}\"]})], ignore_index=True)\n",
    "\n",
    "visualize_final['rest']= ''\n",
    "display(visualize_final)\n"
   ]
  },
  {
   "cell_type": "code",
   "execution_count": 0,
   "metadata": {
    "application/vnd.databricks.v1+cell": {
     "cellMetadata": {
      "byteLimit": 2048000,
      "rowLimit": 10000
     },
     "inputWidgets": {},
     "nuid": "bf638cc1-f5c5-4d1c-b4d5-09ab3bdf80bc",
     "showTitle": false,
     "title": ""
    }
   },
   "outputs": [
    {
     "output_type": "display_data",
     "data": {
      "text/html": [
       "<style scoped>\n",
       "  .table-result-container {\n",
       "    max-height: 300px;\n",
       "    overflow: auto;\n",
       "  }\n",
       "  table, th, td {\n",
       "    border: 1px solid black;\n",
       "    border-collapse: collapse;\n",
       "  }\n",
       "  th, td {\n",
       "    padding: 5px;\n",
       "  }\n",
       "  th {\n",
       "    text-align: left;\n",
       "  }\n",
       "</style><div class='table-result-container'><table class='table-result'><thead style='background-color: white'><tr><th>Teamsg1</th><th>Groupg1</th><th>Pldg1</th><th>Wg1</th><th>Dg1</th><th>Lg1</th><th>GFg1</th><th>GAg1</th><th>GDg1</th><th>Ptsg1</th><th>Round_of_16</th><th>rest</th><th>Quater_Finalq2</th><th>restq2</th><th>Semi_Finals1</th><th>rests1</th><th>Finalf</th><th>restf</th><th>Semi_Finals2</th><th>rests2</th><th>Quater_Finalq1</th><th>restq1</th><th>Round_of_16r2</th><th>restr2</th><th>Teamsg2</th><th>Groupg2</th><th>Pldg2</th><th>Wg2</th><th>Dg2</th><th>Lg2</th><th>GFg2</th><th>GAg2</th><th>GDg2</th><th>Ptsg2</th></tr></thead><tbody><tr><td></td><td></td><td></td><td></td><td></td><td></td><td></td><td></td><td></td><td></td><td></td><td></td><td></td><td></td><td></td><td></td><td></td><td></td><td></td><td></td><td></td><td></td><td></td><td></td><td></td><td></td><td></td><td></td><td></td><td></td><td></td><td></td><td></td><td></td></tr><tr><td>Germany</td><td>A</td><td>3</td><td>1</td><td>0</td><td>2</td><td>6</td><td>5</td><td>1</td><td>3</td><td></td><td></td><td></td><td></td><td></td><td></td><td></td><td></td><td></td><td></td><td></td><td></td><td></td><td></td><td>Poland</td><td>D</td><td>3</td><td>1</td><td>2</td><td>0</td><td>2</td><td>6</td><td>-4</td><td>5</td></tr><tr><td>Scotland</td><td>A</td><td>3</td><td>1</td><td>1</td><td>1</td><td>5</td><td>1</td><td>4</td><td>4</td><td>Albania (1)</td><td></td><td></td><td></td><td></td><td></td><td></td><td></td><td></td><td></td><td></td><td></td><td>Romania (0)</td><td></td><td>Netherlands</td><td>D</td><td>3</td><td>0</td><td>1</td><td>2</td><td>9</td><td>1</td><td>8</td><td>1</td></tr><tr><td>Hungary</td><td>A</td><td>3</td><td>2</td><td>1</td><td>0</td><td>5</td><td>4</td><td>1</td><td>7</td><td>Portugal (0)</td><td></td><td></td><td></td><td></td><td></td><td></td><td></td><td></td><td></td><td></td><td></td><td>England (1)</td><td></td><td>Austria</td><td>D</td><td>3</td><td>1</td><td>0</td><td>2</td><td>10</td><td>9</td><td>1</td><td>3</td></tr><tr><td>Switzerland</td><td>A</td><td>3</td><td>1</td><td>0</td><td>2</td><td>6</td><td>8</td><td>-2</td><td>3</td><td></td><td></td><td>Albania (6)</td><td></td><td></td><td></td><td></td><td></td><td></td><td></td><td>England (3)</td><td></td><td></td><td></td><td>France</td><td>D</td><td>3</td><td>2</td><td>1</td><td>0</td><td>9</td><td>4</td><td>5</td><td>7</td></tr><tr><td></td><td></td><td></td><td></td><td></td><td></td><td></td><td></td><td></td><td></td><td></td><td></td><td>Denmark (5)</td><td></td><td></td><td></td><td></td><td></td><td></td><td></td><td>France (4)</td><td></td><td></td><td></td><td></td><td></td><td></td><td></td><td></td><td></td><td></td><td></td><td></td><td></td></tr><tr><td>Spain</td><td>B</td><td>3</td><td>1</td><td>2</td><td>0</td><td>11</td><td>12</td><td>-1</td><td>5</td><td>Hungary (0)</td><td></td><td></td><td></td><td></td><td></td><td></td><td></td><td></td><td></td><td></td><td></td><td>France (1)</td><td></td><td>Belgium</td><td>E</td><td>3</td><td>1</td><td>1</td><td>1</td><td>4</td><td>7</td><td>-3</td><td>4</td></tr><tr><td>Croatia</td><td>B</td><td>3</td><td>0</td><td>1</td><td>2</td><td>9</td><td>3</td><td>6</td><td>1</td><td>Denmark (3)</td><td></td><td></td><td></td><td></td><td></td><td></td><td></td><td></td><td></td><td></td><td></td><td>Türkiye (1)</td><td></td><td>Slovakia</td><td>E</td><td>3</td><td>0</td><td>1</td><td>2</td><td>7</td><td>7</td><td>0</td><td>1</td></tr><tr><td>Italy</td><td>B</td><td>3</td><td>1</td><td>1</td><td>1</td><td>9</td><td>6</td><td>3</td><td>4</td><td></td><td></td><td></td><td></td><td>Albania (2)</td><td></td><td>Ukraine (3)</td><td></td><td>France (1)</td><td></td><td></td><td></td><td></td><td></td><td>Romania</td><td>E</td><td>3</td><td>2</td><td>0</td><td>1</td><td>11</td><td>4</td><td>7</td><td>6</td></tr><tr><td>Albania</td><td>B</td><td>3</td><td>2</td><td>0</td><td>1</td><td>13</td><td>7</td><td>6</td><td>6</td><td></td><td></td><td></td><td></td><td>Ukraine (2)</td><td></td><td>Belgium (1)</td><td></td><td>Belgium (6)</td><td></td><td></td><td></td><td></td><td></td><td>Ukraine</td><td>E</td><td>3</td><td>1</td><td>2</td><td>0</td><td>10</td><td>8</td><td>2</td><td>5</td></tr><tr><td></td><td></td><td></td><td></td><td></td><td></td><td></td><td></td><td></td><td></td><td>Czech (1)</td><td></td><td></td><td></td><td></td><td></td><td>Winner: Ukraine</td><td></td><td></td><td></td><td></td><td></td><td>Slovenia (1)</td><td></td><td></td><td></td><td></td><td></td><td></td><td></td><td></td><td></td><td></td><td></td></tr><tr><td>Slovenia</td><td>C</td><td>3</td><td>2</td><td>1</td><td>0</td><td>8</td><td>11</td><td>-3</td><td>7</td><td>Italy (1)</td><td></td><td></td><td></td><td></td><td></td><td></td><td></td><td></td><td></td><td></td><td></td><td>Belgium (3)</td><td></td><td>Türkiye</td><td>F</td><td>3</td><td>2</td><td>0</td><td>1</td><td>9</td><td>9</td><td>0</td><td>6</td></tr><tr><td>Denmark</td><td>C</td><td>3</td><td>1</td><td>2</td><td>0</td><td>8</td><td>13</td><td>-5</td><td>5</td><td></td><td></td><td>Czech (2)</td><td></td><td></td><td></td><td></td><td></td><td></td><td></td><td>Belgium (3)</td><td></td><td></td><td></td><td>Greece</td><td>F</td><td>3</td><td>0</td><td>0</td><td>3</td><td>11</td><td>7</td><td>4</td><td>0</td></tr><tr><td>Serbia</td><td>C</td><td>3</td><td>0</td><td>0</td><td>3</td><td>7</td><td>10</td><td>-3</td><td>0</td><td></td><td></td><td>Ukraine (6)</td><td></td><td></td><td></td><td></td><td></td><td></td><td></td><td>Scotland (1)</td><td></td><td></td><td></td><td>Portugal</td><td>F</td><td>3</td><td>2</td><td>0</td><td>1</td><td>4</td><td>10</td><td>-6</td><td>6</td></tr><tr><td>England</td><td>C</td><td>3</td><td>1</td><td>1</td><td>1</td><td>11</td><td>8</td><td>3</td><td>4</td><td>Poland (0)</td><td></td><td></td><td></td><td></td><td></td><td></td><td></td><td></td><td></td><td></td><td></td><td>Scotland (5)</td><td></td><td>Czech</td><td>F</td><td>3</td><td>2</td><td>0</td><td>1</td><td>12</td><td>6</td><td>6</td><td>6</td></tr><tr><td></td><td></td><td></td><td></td><td></td><td></td><td></td><td></td><td></td><td></td><td>Ukraine (4)</td><td></td><td></td><td></td><td></td><td></td><td></td><td></td><td></td><td></td><td></td><td></td><td>Spain (4)</td><td></td><td></td><td></td><td></td><td></td><td></td><td></td><td></td><td></td><td></td><td></td></tr><tr><td></td><td></td><td></td><td></td><td></td><td></td><td></td><td></td><td></td><td></td><td></td><td></td><td></td><td></td><td></td><td></td><td></td><td></td><td></td><td></td><td></td><td></td><td></td><td></td><td></td><td></td><td></td><td></td><td></td><td></td><td></td><td></td><td></td><td></td></tr><tr><td></td><td></td><td></td><td></td><td></td><td></td><td></td><td></td><td></td><td></td><td></td><td></td><td></td><td></td><td></td><td></td><td></td><td></td><td></td><td></td><td></td><td></td><td></td><td></td><td></td><td></td><td></td><td></td><td></td><td></td><td></td><td></td><td></td><td></td></tr><tr><td></td><td></td><td></td><td></td><td></td><td></td><td></td><td></td><td></td><td></td><td></td><td></td><td></td><td></td><td></td><td></td><td></td><td></td><td></td><td></td><td></td><td></td><td></td><td></td><td></td><td></td><td></td><td></td><td></td><td></td><td></td><td></td><td></td><td></td></tr><tr><td></td><td></td><td></td><td></td><td></td><td></td><td></td><td></td><td></td><td></td><td></td><td></td><td></td><td></td><td></td><td></td><td></td><td></td><td></td><td></td><td></td><td></td><td></td><td></td><td></td><td></td><td></td><td></td><td></td><td></td><td></td><td></td><td></td><td></td></tr></tbody></table></div>"
      ]
     },
     "metadata": {
      "application/vnd.databricks.v1+output": {
       "addedWidgets": {},
       "aggData": [],
       "aggError": "",
       "aggOverflow": false,
       "aggSchema": [],
       "aggSeriesLimitReached": false,
       "aggType": "",
       "arguments": {},
       "columnCustomDisplayInfos": {},
       "data": [
        [
         "",
         "",
         "",
         "",
         "",
         "",
         "",
         "",
         "",
         "",
         "",
         "",
         "",
         "",
         "",
         "",
         "",
         "",
         "",
         "",
         "",
         "",
         "",
         "",
         "",
         "",
         "",
         "",
         "",
         "",
         "",
         "",
         "",
         ""
        ],
        [
         "Germany",
         "A",
         "3",
         "1",
         "0",
         "2",
         "6",
         "5",
         "1",
         "3",
         "",
         "",
         "",
         "",
         "",
         "",
         "",
         "",
         "",
         "",
         "",
         "",
         "",
         "",
         "Poland",
         "D",
         "3",
         "1",
         "2",
         "0",
         "2",
         "6",
         "-4",
         "5"
        ],
        [
         "Scotland",
         "A",
         "3",
         "1",
         "1",
         "1",
         "5",
         "1",
         "4",
         "4",
         "Albania (1)",
         "",
         "",
         "",
         "",
         "",
         "",
         "",
         "",
         "",
         "",
         "",
         "Romania (0)",
         "",
         "Netherlands",
         "D",
         "3",
         "0",
         "1",
         "2",
         "9",
         "1",
         "8",
         "1"
        ],
        [
         "Hungary",
         "A",
         "3",
         "2",
         "1",
         "0",
         "5",
         "4",
         "1",
         "7",
         "Portugal (0)",
         "",
         "",
         "",
         "",
         "",
         "",
         "",
         "",
         "",
         "",
         "",
         "England (1)",
         "",
         "Austria",
         "D",
         "3",
         "1",
         "0",
         "2",
         "10",
         "9",
         "1",
         "3"
        ],
        [
         "Switzerland",
         "A",
         "3",
         "1",
         "0",
         "2",
         "6",
         "8",
         "-2",
         "3",
         "",
         "",
         "Albania (6)",
         "",
         "",
         "",
         "",
         "",
         "",
         "",
         "England (3)",
         "",
         "",
         "",
         "France",
         "D",
         "3",
         "2",
         "1",
         "0",
         "9",
         "4",
         "5",
         "7"
        ],
        [
         "",
         "",
         "",
         "",
         "",
         "",
         "",
         "",
         "",
         "",
         "",
         "",
         "Denmark (5)",
         "",
         "",
         "",
         "",
         "",
         "",
         "",
         "France (4)",
         "",
         "",
         "",
         "",
         "",
         "",
         "",
         "",
         "",
         "",
         "",
         "",
         ""
        ],
        [
         "Spain",
         "B",
         "3",
         "1",
         "2",
         "0",
         "11",
         "12",
         "-1",
         "5",
         "Hungary (0)",
         "",
         "",
         "",
         "",
         "",
         "",
         "",
         "",
         "",
         "",
         "",
         "France (1)",
         "",
         "Belgium",
         "E",
         "3",
         "1",
         "1",
         "1",
         "4",
         "7",
         "-3",
         "4"
        ],
        [
         "Croatia",
         "B",
         "3",
         "0",
         "1",
         "2",
         "9",
         "3",
         "6",
         "1",
         "Denmark (3)",
         "",
         "",
         "",
         "",
         "",
         "",
         "",
         "",
         "",
         "",
         "",
         "Türkiye (1)",
         "",
         "Slovakia",
         "E",
         "3",
         "0",
         "1",
         "2",
         "7",
         "7",
         "0",
         "1"
        ],
        [
         "Italy",
         "B",
         "3",
         "1",
         "1",
         "1",
         "9",
         "6",
         "3",
         "4",
         "",
         "",
         "",
         "",
         "Albania (2)",
         "",
         "Ukraine (3)",
         "",
         "France (1)",
         "",
         "",
         "",
         "",
         "",
         "Romania",
         "E",
         "3",
         "2",
         "0",
         "1",
         "11",
         "4",
         "7",
         "6"
        ],
        [
         "Albania",
         "B",
         "3",
         "2",
         "0",
         "1",
         "13",
         "7",
         "6",
         "6",
         "",
         "",
         "",
         "",
         "Ukraine (2)",
         "",
         "Belgium (1)",
         "",
         "Belgium (6)",
         "",
         "",
         "",
         "",
         "",
         "Ukraine",
         "E",
         "3",
         "1",
         "2",
         "0",
         "10",
         "8",
         "2",
         "5"
        ],
        [
         "",
         "",
         "",
         "",
         "",
         "",
         "",
         "",
         "",
         "",
         "Czech (1)",
         "",
         "",
         "",
         "",
         "",
         "Winner: Ukraine",
         "",
         "",
         "",
         "",
         "",
         "Slovenia (1)",
         "",
         "",
         "",
         "",
         "",
         "",
         "",
         "",
         "",
         "",
         ""
        ],
        [
         "Slovenia",
         "C",
         "3",
         "2",
         "1",
         "0",
         "8",
         "11",
         "-3",
         "7",
         "Italy (1)",
         "",
         "",
         "",
         "",
         "",
         "",
         "",
         "",
         "",
         "",
         "",
         "Belgium (3)",
         "",
         "Türkiye",
         "F",
         "3",
         "2",
         "0",
         "1",
         "9",
         "9",
         "0",
         "6"
        ],
        [
         "Denmark",
         "C",
         "3",
         "1",
         "2",
         "0",
         "8",
         "13",
         "-5",
         "5",
         "",
         "",
         "Czech (2)",
         "",
         "",
         "",
         "",
         "",
         "",
         "",
         "Belgium (3)",
         "",
         "",
         "",
         "Greece",
         "F",
         "3",
         "0",
         "0",
         "3",
         "11",
         "7",
         "4",
         "0"
        ],
        [
         "Serbia",
         "C",
         "3",
         "0",
         "0",
         "3",
         "7",
         "10",
         "-3",
         "0",
         "",
         "",
         "Ukraine (6)",
         "",
         "",
         "",
         "",
         "",
         "",
         "",
         "Scotland (1)",
         "",
         "",
         "",
         "Portugal",
         "F",
         "3",
         "2",
         "0",
         "1",
         "4",
         "10",
         "-6",
         "6"
        ],
        [
         "England",
         "C",
         "3",
         "1",
         "1",
         "1",
         "11",
         "8",
         "3",
         "4",
         "Poland (0)",
         "",
         "",
         "",
         "",
         "",
         "",
         "",
         "",
         "",
         "",
         "",
         "Scotland (5)",
         "",
         "Czech",
         "F",
         "3",
         "2",
         "0",
         "1",
         "12",
         "6",
         "6",
         "6"
        ],
        [
         "",
         "",
         "",
         "",
         "",
         "",
         "",
         "",
         "",
         "",
         "Ukraine (4)",
         "",
         "",
         "",
         "",
         "",
         "",
         "",
         "",
         "",
         "",
         "",
         "Spain (4)",
         "",
         "",
         "",
         "",
         "",
         "",
         "",
         "",
         "",
         "",
         ""
        ],
        [
         "",
         "",
         "",
         "",
         "",
         "",
         "",
         "",
         "",
         "",
         "",
         "",
         "",
         "",
         "",
         "",
         "",
         "",
         "",
         "",
         "",
         "",
         "",
         "",
         "",
         "",
         "",
         "",
         "",
         "",
         "",
         "",
         "",
         ""
        ],
        [
         "",
         "",
         "",
         "",
         "",
         "",
         "",
         "",
         "",
         "",
         "",
         "",
         "",
         "",
         "",
         "",
         "",
         "",
         "",
         "",
         "",
         "",
         "",
         "",
         "",
         "",
         "",
         "",
         "",
         "",
         "",
         "",
         "",
         ""
        ],
        [
         "",
         "",
         "",
         "",
         "",
         "",
         "",
         "",
         "",
         "",
         "",
         "",
         "",
         "",
         "",
         "",
         "",
         "",
         "",
         "",
         "",
         "",
         "",
         "",
         "",
         "",
         "",
         "",
         "",
         "",
         "",
         "",
         "",
         ""
        ],
        [
         "",
         "",
         "",
         "",
         "",
         "",
         "",
         "",
         "",
         "",
         "",
         "",
         "",
         "",
         "",
         "",
         "",
         "",
         "",
         "",
         "",
         "",
         "",
         "",
         "",
         "",
         "",
         "",
         "",
         "",
         "",
         "",
         "",
         ""
        ]
       ],
       "datasetInfos": [],
       "dbfsResultPath": null,
       "isJsonSchema": true,
       "metadata": {},
       "overflow": false,
       "plotOptions": {
        "customPlotOptions": {},
        "displayType": "table",
        "pivotAggregation": null,
        "pivotColumns": null,
        "xColumns": null,
        "yColumns": null
       },
       "removedWidgets": [],
       "schema": [
        {
         "metadata": "{}",
         "name": "Teamsg1",
         "type": "\"string\""
        },
        {
         "metadata": "{}",
         "name": "Groupg1",
         "type": "\"string\""
        },
        {
         "metadata": "{}",
         "name": "Pldg1",
         "type": "\"string\""
        },
        {
         "metadata": "{}",
         "name": "Wg1",
         "type": "\"string\""
        },
        {
         "metadata": "{}",
         "name": "Dg1",
         "type": "\"string\""
        },
        {
         "metadata": "{}",
         "name": "Lg1",
         "type": "\"string\""
        },
        {
         "metadata": "{}",
         "name": "GFg1",
         "type": "\"string\""
        },
        {
         "metadata": "{}",
         "name": "GAg1",
         "type": "\"string\""
        },
        {
         "metadata": "{}",
         "name": "GDg1",
         "type": "\"string\""
        },
        {
         "metadata": "{}",
         "name": "Ptsg1",
         "type": "\"string\""
        },
        {
         "metadata": "{}",
         "name": "Round_of_16",
         "type": "\"string\""
        },
        {
         "metadata": "{}",
         "name": "rest",
         "type": "\"string\""
        },
        {
         "metadata": "{}",
         "name": "Quater_Finalq2",
         "type": "\"string\""
        },
        {
         "metadata": "{}",
         "name": "restq2",
         "type": "\"string\""
        },
        {
         "metadata": "{}",
         "name": "Semi_Finals1",
         "type": "\"string\""
        },
        {
         "metadata": "{}",
         "name": "rests1",
         "type": "\"string\""
        },
        {
         "metadata": "{}",
         "name": "Finalf",
         "type": "\"string\""
        },
        {
         "metadata": "{}",
         "name": "restf",
         "type": "\"string\""
        },
        {
         "metadata": "{}",
         "name": "Semi_Finals2",
         "type": "\"string\""
        },
        {
         "metadata": "{}",
         "name": "rests2",
         "type": "\"string\""
        },
        {
         "metadata": "{}",
         "name": "Quater_Finalq1",
         "type": "\"string\""
        },
        {
         "metadata": "{}",
         "name": "restq1",
         "type": "\"string\""
        },
        {
         "metadata": "{}",
         "name": "Round_of_16r2",
         "type": "\"string\""
        },
        {
         "metadata": "{}",
         "name": "restr2",
         "type": "\"string\""
        },
        {
         "metadata": "{}",
         "name": "Teamsg2",
         "type": "\"string\""
        },
        {
         "metadata": "{}",
         "name": "Groupg2",
         "type": "\"string\""
        },
        {
         "metadata": "{}",
         "name": "Pldg2",
         "type": "\"string\""
        },
        {
         "metadata": "{}",
         "name": "Wg2",
         "type": "\"string\""
        },
        {
         "metadata": "{}",
         "name": "Dg2",
         "type": "\"string\""
        },
        {
         "metadata": "{}",
         "name": "Lg2",
         "type": "\"string\""
        },
        {
         "metadata": "{}",
         "name": "GFg2",
         "type": "\"string\""
        },
        {
         "metadata": "{}",
         "name": "GAg2",
         "type": "\"string\""
        },
        {
         "metadata": "{}",
         "name": "GDg2",
         "type": "\"string\""
        },
        {
         "metadata": "{}",
         "name": "Ptsg2",
         "type": "\"string\""
        }
       ],
       "type": "table"
      }
     },
     "output_type": "display_data"
    }
   ],
   "source": [
    "left_side_qf.columns = [f\"{col}q2\" for col in left_side_qf.columns]\n",
    "\n",
    "merged_df = pd.concat([left_side_r16, left_side_qf], axis=1)\n",
    "\n",
    "left_side_sf.columns = [f\"{col}s1\" for col in left_side_sf.columns]\n",
    "merged_df = pd.concat([merged_df, left_side_sf], axis=1)\n",
    "\n",
    "visualize_final.columns = [f\"{col}f\" for col in visualize_final.columns]\n",
    "merged_df = pd.concat([merged_df, visualize_final], axis=1)\n",
    "\n",
    "right_side_sf.columns = [f\"{col}s2\" for col in right_side_sf.columns]\n",
    "\n",
    "merged_df = pd.concat([merged_df, right_side_sf], axis=1)\n",
    "\n",
    "\n",
    "\n",
    "right_side_qf.columns = [f\"{col}q1\" for col in right_side_qf.columns]\n",
    "# Concatenate the DataFrames\n",
    "merged_df = pd.concat([merged_df, right_side_qf], axis=1)\n",
    "\n",
    "right_side_r16.columns = [f\"{col}r2\" for col in right_side_r16.columns]\n",
    "\n",
    "# Concatenate the DataFrames\n",
    "merged_df = pd.concat([merged_df,right_side_r16], axis=1)\n",
    "\n",
    "left_table.columns = [f\"{col}g1\" for col in left_table.columns]\n",
    "right_table.columns = [f\"{col}g2\" for col in right_table.columns]\n",
    "\n",
    "# Concatenate the DataFrames\n",
    "merged_df = pd.concat([left_table,merged_df, right_table], axis=1)\n",
    "\n",
    "merged_df.fillna('', inplace=True)\n",
    "\n",
    "display(merged_df)"
   ]
  },
  {
   "cell_type": "code",
   "execution_count": 0,
   "metadata": {
    "application/vnd.databricks.v1+cell": {
     "cellMetadata": {
      "byteLimit": 2048000,
      "rowLimit": 10000
     },
     "inputWidgets": {},
     "nuid": "c350f1d8-6658-4faf-a167-7821eb04726a",
     "showTitle": false,
     "title": ""
    }
   },
   "outputs": [
    {
     "output_type": "display_data",
     "data": {
      "text/html": [
       "<style scoped>\n",
       "  .table-result-container {\n",
       "    max-height: 300px;\n",
       "    overflow: auto;\n",
       "  }\n",
       "  table, th, td {\n",
       "    border: 1px solid black;\n",
       "    border-collapse: collapse;\n",
       "  }\n",
       "  th, td {\n",
       "    padding: 5px;\n",
       "  }\n",
       "  th {\n",
       "    text-align: left;\n",
       "  }\n",
       "</style><div class='table-result-container'><table class='table-result'><thead style='background-color: white'><tr><th>Teamsg1</th><th>Groupg1</th><th>Pldg1</th><th>Wg1</th><th>Dg1</th><th>Lg1</th><th>GFg1</th><th>GAg1</th><th>GDg1</th><th>Ptsg1</th><th>Round_of_16</th><th>rest</th><th>Quater_Finalq2</th><th>restq2</th><th>Semi_Finals1</th><th>rests1</th><th>Finalf</th><th>restf</th><th>Semi_Finals2</th><th>rests2</th><th>Quater_Finalq1</th><th>restq1</th><th>Round_of_16r2</th><th>restr2</th><th>Teamsg2</th><th>Groupg2</th><th>Pldg2</th><th>Wg2</th><th>Dg2</th><th>Lg2</th><th>GFg2</th><th>GAg2</th><th>GDg2</th><th>Ptsg2</th></tr></thead><tbody><tr><td></td><td></td><td></td><td></td><td></td><td></td><td></td><td></td><td></td><td></td><td></td><td></td><td></td><td></td><td></td><td></td><td></td><td></td><td></td><td></td><td></td><td></td><td></td><td></td><td></td><td></td><td></td><td></td><td></td><td></td><td></td><td></td><td></td><td></td></tr><tr><td>Germany</td><td>A</td><td>3</td><td>1</td><td>0</td><td>2</td><td>6</td><td>5</td><td>1</td><td>3</td><td></td><td></td><td></td><td></td><td></td><td></td><td></td><td></td><td></td><td></td><td></td><td></td><td></td><td></td><td>Poland</td><td>D</td><td>3</td><td>1</td><td>2</td><td>0</td><td>2</td><td>6</td><td>-4</td><td>5</td></tr><tr><td>Scotland</td><td>A</td><td>3</td><td>1</td><td>1</td><td>1</td><td>5</td><td>1</td><td>4</td><td>4</td><td>Albania (1)</td><td></td><td></td><td></td><td></td><td></td><td></td><td></td><td></td><td></td><td></td><td></td><td>Romania (0)</td><td></td><td>Netherlands</td><td>D</td><td>3</td><td>0</td><td>1</td><td>2</td><td>9</td><td>1</td><td>8</td><td>1</td></tr><tr><td>Hungary</td><td>A</td><td>3</td><td>2</td><td>1</td><td>0</td><td>5</td><td>4</td><td>1</td><td>7</td><td>Portugal (0)</td><td></td><td></td><td></td><td></td><td></td><td></td><td></td><td></td><td></td><td></td><td></td><td>England (1)</td><td></td><td>Austria</td><td>D</td><td>3</td><td>1</td><td>0</td><td>2</td><td>10</td><td>9</td><td>1</td><td>3</td></tr><tr><td>Switzerland</td><td>A</td><td>3</td><td>1</td><td>0</td><td>2</td><td>6</td><td>8</td><td>-2</td><td>3</td><td></td><td></td><td>Albania (6)</td><td></td><td></td><td></td><td></td><td></td><td></td><td></td><td>England (3)</td><td></td><td></td><td></td><td>France</td><td>D</td><td>3</td><td>2</td><td>1</td><td>0</td><td>9</td><td>4</td><td>5</td><td>7</td></tr><tr><td></td><td></td><td></td><td></td><td></td><td></td><td></td><td></td><td></td><td></td><td></td><td></td><td>Denmark (5)</td><td></td><td></td><td></td><td></td><td></td><td></td><td></td><td>France (4)</td><td></td><td></td><td></td><td></td><td></td><td></td><td></td><td></td><td></td><td></td><td></td><td></td><td></td></tr><tr><td>Spain</td><td>B</td><td>3</td><td>1</td><td>2</td><td>0</td><td>11</td><td>12</td><td>-1</td><td>5</td><td>Hungary (0)</td><td></td><td></td><td></td><td></td><td></td><td></td><td></td><td></td><td></td><td></td><td></td><td>France (1)</td><td></td><td>Belgium</td><td>E</td><td>3</td><td>1</td><td>1</td><td>1</td><td>4</td><td>7</td><td>-3</td><td>4</td></tr><tr><td>Croatia</td><td>B</td><td>3</td><td>0</td><td>1</td><td>2</td><td>9</td><td>3</td><td>6</td><td>1</td><td>Denmark (3)</td><td></td><td></td><td></td><td></td><td></td><td></td><td></td><td></td><td></td><td></td><td></td><td>Türkiye (1)</td><td></td><td>Slovakia</td><td>E</td><td>3</td><td>0</td><td>1</td><td>2</td><td>7</td><td>7</td><td>0</td><td>1</td></tr><tr><td>Italy</td><td>B</td><td>3</td><td>1</td><td>1</td><td>1</td><td>9</td><td>6</td><td>3</td><td>4</td><td></td><td></td><td></td><td></td><td>Albania (2)</td><td></td><td>Ukraine (3)</td><td></td><td>France (1)</td><td></td><td></td><td></td><td></td><td></td><td>Romania</td><td>E</td><td>3</td><td>2</td><td>0</td><td>1</td><td>11</td><td>4</td><td>7</td><td>6</td></tr><tr><td>Albania</td><td>B</td><td>3</td><td>2</td><td>0</td><td>1</td><td>13</td><td>7</td><td>6</td><td>6</td><td></td><td></td><td></td><td></td><td>Ukraine (2)</td><td></td><td>Belgium (1)</td><td></td><td>Belgium (6)</td><td></td><td></td><td></td><td></td><td></td><td>Ukraine</td><td>E</td><td>3</td><td>1</td><td>2</td><td>0</td><td>10</td><td>8</td><td>2</td><td>5</td></tr><tr><td></td><td></td><td></td><td></td><td></td><td></td><td></td><td></td><td></td><td></td><td>Czech (1)</td><td></td><td></td><td></td><td></td><td></td><td>Winner: Ukraine</td><td></td><td></td><td></td><td></td><td></td><td>Slovenia (1)</td><td></td><td></td><td></td><td></td><td></td><td></td><td></td><td></td><td></td><td></td><td></td></tr><tr><td>Slovenia</td><td>C</td><td>3</td><td>2</td><td>1</td><td>0</td><td>8</td><td>11</td><td>-3</td><td>7</td><td>Italy (1)</td><td></td><td></td><td></td><td></td><td></td><td></td><td></td><td></td><td></td><td></td><td></td><td>Belgium (3)</td><td></td><td>Türkiye</td><td>F</td><td>3</td><td>2</td><td>0</td><td>1</td><td>9</td><td>9</td><td>0</td><td>6</td></tr><tr><td>Denmark</td><td>C</td><td>3</td><td>1</td><td>2</td><td>0</td><td>8</td><td>13</td><td>-5</td><td>5</td><td></td><td></td><td>Czech (2)</td><td></td><td></td><td></td><td></td><td></td><td></td><td></td><td>Belgium (3)</td><td></td><td></td><td></td><td>Greece</td><td>F</td><td>3</td><td>0</td><td>0</td><td>3</td><td>11</td><td>7</td><td>4</td><td>0</td></tr><tr><td>Serbia</td><td>C</td><td>3</td><td>0</td><td>0</td><td>3</td><td>7</td><td>10</td><td>-3</td><td>0</td><td></td><td></td><td>Ukraine (6)</td><td></td><td></td><td></td><td></td><td></td><td></td><td></td><td>Scotland (1)</td><td></td><td></td><td></td><td>Portugal</td><td>F</td><td>3</td><td>2</td><td>0</td><td>1</td><td>4</td><td>10</td><td>-6</td><td>6</td></tr><tr><td>England</td><td>C</td><td>3</td><td>1</td><td>1</td><td>1</td><td>11</td><td>8</td><td>3</td><td>4</td><td>Poland (0)</td><td></td><td></td><td></td><td></td><td></td><td></td><td></td><td></td><td></td><td></td><td></td><td>Scotland (5)</td><td></td><td>Czech</td><td>F</td><td>3</td><td>2</td><td>0</td><td>1</td><td>12</td><td>6</td><td>6</td><td>6</td></tr><tr><td></td><td></td><td></td><td></td><td></td><td></td><td></td><td></td><td></td><td></td><td>Ukraine (4)</td><td></td><td></td><td></td><td></td><td></td><td></td><td></td><td></td><td></td><td></td><td></td><td>Spain (4)</td><td></td><td></td><td></td><td></td><td></td><td></td><td></td><td></td><td></td><td></td><td></td></tr><tr><td></td><td></td><td></td><td></td><td></td><td></td><td></td><td></td><td></td><td></td><td></td><td></td><td></td><td></td><td></td><td></td><td></td><td></td><td></td><td></td><td></td><td></td><td></td><td></td><td></td><td></td><td></td><td></td><td></td><td></td><td></td><td></td><td></td><td></td></tr><tr><td></td><td></td><td></td><td></td><td></td><td></td><td></td><td></td><td></td><td></td><td></td><td></td><td></td><td></td><td></td><td></td><td></td><td></td><td></td><td></td><td></td><td></td><td></td><td></td><td></td><td></td><td></td><td></td><td></td><td></td><td></td><td></td><td></td><td></td></tr><tr><td></td><td></td><td></td><td></td><td></td><td></td><td></td><td></td><td></td><td></td><td></td><td></td><td></td><td></td><td></td><td></td><td></td><td></td><td></td><td></td><td></td><td></td><td></td><td></td><td></td><td></td><td></td><td></td><td></td><td></td><td></td><td></td><td></td><td></td></tr><tr><td></td><td></td><td></td><td></td><td></td><td></td><td></td><td></td><td></td><td></td><td></td><td></td><td></td><td></td><td></td><td></td><td></td><td></td><td></td><td></td><td></td><td></td><td></td><td></td><td></td><td></td><td></td><td></td><td></td><td></td><td></td><td></td><td></td><td></td></tr></tbody></table></div>"
      ]
     },
     "metadata": {
      "application/vnd.databricks.v1+output": {
       "addedWidgets": {},
       "aggData": [],
       "aggError": "",
       "aggOverflow": false,
       "aggSchema": [],
       "aggSeriesLimitReached": false,
       "aggType": "",
       "arguments": {},
       "columnCustomDisplayInfos": {},
       "data": [
        [
         "",
         "",
         "",
         "",
         "",
         "",
         "",
         "",
         "",
         "",
         "",
         "",
         "",
         "",
         "",
         "",
         "",
         "",
         "",
         "",
         "",
         "",
         "",
         "",
         "",
         "",
         "",
         "",
         "",
         "",
         "",
         "",
         "",
         ""
        ],
        [
         "Germany",
         "A",
         "3",
         "1",
         "0",
         "2",
         "6",
         "5",
         "1",
         "3",
         "",
         "",
         "",
         "",
         "",
         "",
         "",
         "",
         "",
         "",
         "",
         "",
         "",
         "",
         "Poland",
         "D",
         "3",
         "1",
         "2",
         "0",
         "2",
         "6",
         "-4",
         "5"
        ],
        [
         "Scotland",
         "A",
         "3",
         "1",
         "1",
         "1",
         "5",
         "1",
         "4",
         "4",
         "Albania (1)",
         "",
         "",
         "",
         "",
         "",
         "",
         "",
         "",
         "",
         "",
         "",
         "Romania (0)",
         "",
         "Netherlands",
         "D",
         "3",
         "0",
         "1",
         "2",
         "9",
         "1",
         "8",
         "1"
        ],
        [
         "Hungary",
         "A",
         "3",
         "2",
         "1",
         "0",
         "5",
         "4",
         "1",
         "7",
         "Portugal (0)",
         "",
         "",
         "",
         "",
         "",
         "",
         "",
         "",
         "",
         "",
         "",
         "England (1)",
         "",
         "Austria",
         "D",
         "3",
         "1",
         "0",
         "2",
         "10",
         "9",
         "1",
         "3"
        ],
        [
         "Switzerland",
         "A",
         "3",
         "1",
         "0",
         "2",
         "6",
         "8",
         "-2",
         "3",
         "",
         "",
         "Albania (6)",
         "",
         "",
         "",
         "",
         "",
         "",
         "",
         "England (3)",
         "",
         "",
         "",
         "France",
         "D",
         "3",
         "2",
         "1",
         "0",
         "9",
         "4",
         "5",
         "7"
        ],
        [
         "",
         "",
         "",
         "",
         "",
         "",
         "",
         "",
         "",
         "",
         "",
         "",
         "Denmark (5)",
         "",
         "",
         "",
         "",
         "",
         "",
         "",
         "France (4)",
         "",
         "",
         "",
         "",
         "",
         "",
         "",
         "",
         "",
         "",
         "",
         "",
         ""
        ],
        [
         "Spain",
         "B",
         "3",
         "1",
         "2",
         "0",
         "11",
         "12",
         "-1",
         "5",
         "Hungary (0)",
         "",
         "",
         "",
         "",
         "",
         "",
         "",
         "",
         "",
         "",
         "",
         "France (1)",
         "",
         "Belgium",
         "E",
         "3",
         "1",
         "1",
         "1",
         "4",
         "7",
         "-3",
         "4"
        ],
        [
         "Croatia",
         "B",
         "3",
         "0",
         "1",
         "2",
         "9",
         "3",
         "6",
         "1",
         "Denmark (3)",
         "",
         "",
         "",
         "",
         "",
         "",
         "",
         "",
         "",
         "",
         "",
         "Türkiye (1)",
         "",
         "Slovakia",
         "E",
         "3",
         "0",
         "1",
         "2",
         "7",
         "7",
         "0",
         "1"
        ],
        [
         "Italy",
         "B",
         "3",
         "1",
         "1",
         "1",
         "9",
         "6",
         "3",
         "4",
         "",
         "",
         "",
         "",
         "Albania (2)",
         "",
         "Ukraine (3)",
         "",
         "France (1)",
         "",
         "",
         "",
         "",
         "",
         "Romania",
         "E",
         "3",
         "2",
         "0",
         "1",
         "11",
         "4",
         "7",
         "6"
        ],
        [
         "Albania",
         "B",
         "3",
         "2",
         "0",
         "1",
         "13",
         "7",
         "6",
         "6",
         "",
         "",
         "",
         "",
         "Ukraine (2)",
         "",
         "Belgium (1)",
         "",
         "Belgium (6)",
         "",
         "",
         "",
         "",
         "",
         "Ukraine",
         "E",
         "3",
         "1",
         "2",
         "0",
         "10",
         "8",
         "2",
         "5"
        ],
        [
         "",
         "",
         "",
         "",
         "",
         "",
         "",
         "",
         "",
         "",
         "Czech (1)",
         "",
         "",
         "",
         "",
         "",
         "Winner: Ukraine",
         "",
         "",
         "",
         "",
         "",
         "Slovenia (1)",
         "",
         "",
         "",
         "",
         "",
         "",
         "",
         "",
         "",
         "",
         ""
        ],
        [
         "Slovenia",
         "C",
         "3",
         "2",
         "1",
         "0",
         "8",
         "11",
         "-3",
         "7",
         "Italy (1)",
         "",
         "",
         "",
         "",
         "",
         "",
         "",
         "",
         "",
         "",
         "",
         "Belgium (3)",
         "",
         "Türkiye",
         "F",
         "3",
         "2",
         "0",
         "1",
         "9",
         "9",
         "0",
         "6"
        ],
        [
         "Denmark",
         "C",
         "3",
         "1",
         "2",
         "0",
         "8",
         "13",
         "-5",
         "5",
         "",
         "",
         "Czech (2)",
         "",
         "",
         "",
         "",
         "",
         "",
         "",
         "Belgium (3)",
         "",
         "",
         "",
         "Greece",
         "F",
         "3",
         "0",
         "0",
         "3",
         "11",
         "7",
         "4",
         "0"
        ],
        [
         "Serbia",
         "C",
         "3",
         "0",
         "0",
         "3",
         "7",
         "10",
         "-3",
         "0",
         "",
         "",
         "Ukraine (6)",
         "",
         "",
         "",
         "",
         "",
         "",
         "",
         "Scotland (1)",
         "",
         "",
         "",
         "Portugal",
         "F",
         "3",
         "2",
         "0",
         "1",
         "4",
         "10",
         "-6",
         "6"
        ],
        [
         "England",
         "C",
         "3",
         "1",
         "1",
         "1",
         "11",
         "8",
         "3",
         "4",
         "Poland (0)",
         "",
         "",
         "",
         "",
         "",
         "",
         "",
         "",
         "",
         "",
         "",
         "Scotland (5)",
         "",
         "Czech",
         "F",
         "3",
         "2",
         "0",
         "1",
         "12",
         "6",
         "6",
         "6"
        ],
        [
         "",
         "",
         "",
         "",
         "",
         "",
         "",
         "",
         "",
         "",
         "Ukraine (4)",
         "",
         "",
         "",
         "",
         "",
         "",
         "",
         "",
         "",
         "",
         "",
         "Spain (4)",
         "",
         "",
         "",
         "",
         "",
         "",
         "",
         "",
         "",
         "",
         ""
        ],
        [
         "",
         "",
         "",
         "",
         "",
         "",
         "",
         "",
         "",
         "",
         "",
         "",
         "",
         "",
         "",
         "",
         "",
         "",
         "",
         "",
         "",
         "",
         "",
         "",
         "",
         "",
         "",
         "",
         "",
         "",
         "",
         "",
         "",
         ""
        ],
        [
         "",
         "",
         "",
         "",
         "",
         "",
         "",
         "",
         "",
         "",
         "",
         "",
         "",
         "",
         "",
         "",
         "",
         "",
         "",
         "",
         "",
         "",
         "",
         "",
         "",
         "",
         "",
         "",
         "",
         "",
         "",
         "",
         "",
         ""
        ],
        [
         "",
         "",
         "",
         "",
         "",
         "",
         "",
         "",
         "",
         "",
         "",
         "",
         "",
         "",
         "",
         "",
         "",
         "",
         "",
         "",
         "",
         "",
         "",
         "",
         "",
         "",
         "",
         "",
         "",
         "",
         "",
         "",
         "",
         ""
        ],
        [
         "",
         "",
         "",
         "",
         "",
         "",
         "",
         "",
         "",
         "",
         "",
         "",
         "",
         "",
         "",
         "",
         "",
         "",
         "",
         "",
         "",
         "",
         "",
         "",
         "",
         "",
         "",
         "",
         "",
         "",
         "",
         "",
         "",
         ""
        ]
       ],
       "datasetInfos": [],
       "dbfsResultPath": null,
       "isJsonSchema": true,
       "metadata": {},
       "overflow": false,
       "plotOptions": {
        "customPlotOptions": {},
        "displayType": "table",
        "pivotAggregation": null,
        "pivotColumns": null,
        "xColumns": null,
        "yColumns": null
       },
       "removedWidgets": [],
       "schema": [
        {
         "metadata": "{}",
         "name": "Teamsg1",
         "type": "\"string\""
        },
        {
         "metadata": "{}",
         "name": "Groupg1",
         "type": "\"string\""
        },
        {
         "metadata": "{}",
         "name": "Pldg1",
         "type": "\"string\""
        },
        {
         "metadata": "{}",
         "name": "Wg1",
         "type": "\"string\""
        },
        {
         "metadata": "{}",
         "name": "Dg1",
         "type": "\"string\""
        },
        {
         "metadata": "{}",
         "name": "Lg1",
         "type": "\"string\""
        },
        {
         "metadata": "{}",
         "name": "GFg1",
         "type": "\"string\""
        },
        {
         "metadata": "{}",
         "name": "GAg1",
         "type": "\"string\""
        },
        {
         "metadata": "{}",
         "name": "GDg1",
         "type": "\"string\""
        },
        {
         "metadata": "{}",
         "name": "Ptsg1",
         "type": "\"string\""
        },
        {
         "metadata": "{}",
         "name": "Round_of_16",
         "type": "\"string\""
        },
        {
         "metadata": "{}",
         "name": "rest",
         "type": "\"string\""
        },
        {
         "metadata": "{}",
         "name": "Quater_Finalq2",
         "type": "\"string\""
        },
        {
         "metadata": "{}",
         "name": "restq2",
         "type": "\"string\""
        },
        {
         "metadata": "{}",
         "name": "Semi_Finals1",
         "type": "\"string\""
        },
        {
         "metadata": "{}",
         "name": "rests1",
         "type": "\"string\""
        },
        {
         "metadata": "{}",
         "name": "Finalf",
         "type": "\"string\""
        },
        {
         "metadata": "{}",
         "name": "restf",
         "type": "\"string\""
        },
        {
         "metadata": "{}",
         "name": "Semi_Finals2",
         "type": "\"string\""
        },
        {
         "metadata": "{}",
         "name": "rests2",
         "type": "\"string\""
        },
        {
         "metadata": "{}",
         "name": "Quater_Finalq1",
         "type": "\"string\""
        },
        {
         "metadata": "{}",
         "name": "restq1",
         "type": "\"string\""
        },
        {
         "metadata": "{}",
         "name": "Round_of_16r2",
         "type": "\"string\""
        },
        {
         "metadata": "{}",
         "name": "restr2",
         "type": "\"string\""
        },
        {
         "metadata": "{}",
         "name": "Teamsg2",
         "type": "\"string\""
        },
        {
         "metadata": "{}",
         "name": "Groupg2",
         "type": "\"string\""
        },
        {
         "metadata": "{}",
         "name": "Pldg2",
         "type": "\"string\""
        },
        {
         "metadata": "{}",
         "name": "Wg2",
         "type": "\"string\""
        },
        {
         "metadata": "{}",
         "name": "Dg2",
         "type": "\"string\""
        },
        {
         "metadata": "{}",
         "name": "Lg2",
         "type": "\"string\""
        },
        {
         "metadata": "{}",
         "name": "GFg2",
         "type": "\"string\""
        },
        {
         "metadata": "{}",
         "name": "GAg2",
         "type": "\"string\""
        },
        {
         "metadata": "{}",
         "name": "GDg2",
         "type": "\"string\""
        },
        {
         "metadata": "{}",
         "name": "Ptsg2",
         "type": "\"string\""
        }
       ],
       "type": "table"
      }
     },
     "output_type": "display_data"
    }
   ],
   "source": [
    "# Concatenate the DataFrames\n",
    "merged_df = pd.concat([left_table, left_side_r16, left_side_qf, left_side_sf, visualize_final, right_side_sf, right_side_qf, right_side_r16, right_table], axis=1)\n",
    "merged_df.fillna('', inplace=True)\n",
    "# Display the DataFrame\n",
    "display(merged_df)\n"
   ]
  },
  {
   "cell_type": "code",
   "execution_count": 0,
   "metadata": {
    "application/vnd.databricks.v1+cell": {
     "cellMetadata": {},
     "inputWidgets": {},
     "nuid": "efe6fd78-a0b0-4cdc-8d26-ac95a24e86c3",
     "showTitle": false,
     "title": ""
    }
   },
   "outputs": [],
   "source": []
  }
 ],
 "metadata": {
  "application/vnd.databricks.v1+notebook": {
   "dashboards": [],
   "language": "python",
   "notebookMetadata": {
    "mostRecentlyExecutedCommandWithImplicitDF": {
     "commandId": 3571414073534037,
     "dataframes": [
      "_sqldf"
     ]
    },
    "pythonIndentUnit": 4
   },
   "notebookName": "Eurocup 2024",
   "widgets": {}
  }
 },
 "nbformat": 4,
 "nbformat_minor": 0
}
