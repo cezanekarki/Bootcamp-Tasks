{
 "cells": [
  {
   "cell_type": "markdown",
   "metadata": {
    "application/vnd.databricks.v1+cell": {
     "cellMetadata": {},
     "inputWidgets": {},
     "nuid": "e5a28bc2-28de-4274-b9f2-a80e11c51666",
     "showTitle": false,
     "title": ""
    }
   },
   "source": [
    "Prepare a Euro 2024 Group Stage and knockout stage with random goal values with less number of tables as possible."
   ]
  },
  {
   "cell_type": "code",
   "execution_count": 0,
   "metadata": {
    "application/vnd.databricks.v1+cell": {
     "cellMetadata": {
      "byteLimit": 2048000,
      "rowLimit": 10000
     },
     "inputWidgets": {},
     "nuid": "7cc143e8-535e-4f84-a9d0-cd36a313b9a9",
     "showTitle": false,
     "title": ""
    }
   },
   "outputs": [
    {
     "output_type": "display_data",
     "data": {
      "text/html": [
       "<style scoped>\n",
       "  .table-result-container {\n",
       "    max-height: 300px;\n",
       "    overflow: auto;\n",
       "  }\n",
       "  table, th, td {\n",
       "    border: 1px solid black;\n",
       "    border-collapse: collapse;\n",
       "  }\n",
       "  th, td {\n",
       "    padding: 5px;\n",
       "  }\n",
       "  th {\n",
       "    text-align: left;\n",
       "  }\n",
       "</style><div class='table-result-container'><table class='table-result'><thead style='background-color: white'><tr><th>num_affected_rows</th><th>num_inserted_rows</th></tr></thead><tbody><tr><td>24</td><td>24</td></tr></tbody></table></div>"
      ]
     },
     "metadata": {
      "application/vnd.databricks.v1+output": {
       "addedWidgets": {},
       "aggData": [],
       "aggError": "",
       "aggOverflow": false,
       "aggSchema": [],
       "aggSeriesLimitReached": false,
       "aggType": "",
       "arguments": {},
       "columnCustomDisplayInfos": {},
       "data": [
        [
         24,
         24
        ]
       ],
       "datasetInfos": [],
       "dbfsResultPath": null,
       "isJsonSchema": true,
       "metadata": {
        "isDbfsCommandResult": false
       },
       "overflow": false,
       "plotOptions": {
        "customPlotOptions": {},
        "displayType": "table",
        "pivotAggregation": null,
        "pivotColumns": null,
        "xColumns": null,
        "yColumns": null
       },
       "removedWidgets": [],
       "schema": [
        {
         "metadata": "{}",
         "name": "num_affected_rows",
         "type": "\"long\""
        },
        {
         "metadata": "{}",
         "name": "num_inserted_rows",
         "type": "\"long\""
        }
       ],
       "type": "table"
      }
     },
     "output_type": "display_data"
    }
   ],
   "source": [
    "%sql\n",
    "-- Create Teams table\n",
    "CREATE OR REPLACE TABLE TeamsEuro (\n",
    "    TeamID INT,\n",
    "    TeamName STRING,\n",
    "    GroupName STRING\n",
    ");\n",
    "\n",
    "-- Insert data into Teams table\n",
    "INSERT INTO TeamsEuro VALUES\n",
    "    (1, 'France', 'A'),\n",
    "    (2, 'Germany', 'A'),\n",
    "    (3, 'Spain', 'A'),\n",
    "    (4, 'Italy', 'A'),\n",
    "    (5, 'Portugal', 'B'),\n",
    "    (6, 'England', 'B'),\n",
    "    (7, 'Netherlands', 'B'),\n",
    "    (8, 'Belgium', 'B'),\n",
    "    (9, 'Croatia', 'C'),\n",
    "    (10, 'Poland', 'C'),\n",
    "    (11, 'Switzerland', 'C'),\n",
    "    (12, 'Turkey', 'C'),\n",
    "    (13, 'Sweden', 'D'),\n",
    "    (14, 'Denmark', 'D'),\n",
    "    (15, 'Russia', 'D'),\n",
    "    (16, 'Austria', 'D'),\n",
    "    (17, 'Ukraine', 'E'),\n",
    "    (18, 'Wales', 'E'),\n",
    "    (19, 'Scotland', 'E'),\n",
    "    (20, 'Czech Republic', 'E'),\n",
    "    (21, 'Slovakia', 'F'),\n",
    "    (22, 'Hungary', 'F'),\n",
    "    (23, 'Finland', 'F'),\n",
    "    (24, 'North Macedonia', 'F');\n"
   ]
  },
  {
   "cell_type": "code",
   "execution_count": 0,
   "metadata": {
    "application/vnd.databricks.v1+cell": {
     "cellMetadata": {
      "byteLimit": 2048000,
      "rowLimit": 10000
     },
     "inputWidgets": {},
     "nuid": "34919158-f1d0-459f-bfd1-191bcb7ad90a",
     "showTitle": false,
     "title": ""
    }
   },
   "outputs": [
    {
     "output_type": "display_data",
     "data": {
      "text/html": [
       "<style scoped>\n",
       "  .table-result-container {\n",
       "    max-height: 300px;\n",
       "    overflow: auto;\n",
       "  }\n",
       "  table, th, td {\n",
       "    border: 1px solid black;\n",
       "    border-collapse: collapse;\n",
       "  }\n",
       "  th, td {\n",
       "    padding: 5px;\n",
       "  }\n",
       "  th {\n",
       "    text-align: left;\n",
       "  }\n",
       "</style><div class='table-result-container'><table class='table-result'><thead style='background-color: white'><tr><th>TeamID</th><th>TeamName</th><th>GroupName</th></tr></thead><tbody><tr><td>1</td><td>France</td><td>A</td></tr><tr><td>2</td><td>Germany</td><td>A</td></tr><tr><td>3</td><td>Spain</td><td>A</td></tr><tr><td>4</td><td>Italy</td><td>A</td></tr><tr><td>5</td><td>Portugal</td><td>B</td></tr><tr><td>6</td><td>England</td><td>B</td></tr><tr><td>7</td><td>Netherlands</td><td>B</td></tr><tr><td>8</td><td>Belgium</td><td>B</td></tr><tr><td>9</td><td>Croatia</td><td>C</td></tr><tr><td>10</td><td>Poland</td><td>C</td></tr><tr><td>11</td><td>Switzerland</td><td>C</td></tr><tr><td>12</td><td>Turkey</td><td>C</td></tr><tr><td>13</td><td>Sweden</td><td>D</td></tr><tr><td>14</td><td>Denmark</td><td>D</td></tr><tr><td>15</td><td>Russia</td><td>D</td></tr><tr><td>16</td><td>Austria</td><td>D</td></tr><tr><td>17</td><td>Ukraine</td><td>E</td></tr><tr><td>18</td><td>Wales</td><td>E</td></tr><tr><td>19</td><td>Scotland</td><td>E</td></tr><tr><td>20</td><td>Czech Republic</td><td>E</td></tr><tr><td>21</td><td>Slovakia</td><td>F</td></tr><tr><td>22</td><td>Hungary</td><td>F</td></tr><tr><td>23</td><td>Finland</td><td>F</td></tr><tr><td>24</td><td>North Macedonia</td><td>F</td></tr></tbody></table></div>"
      ]
     },
     "metadata": {
      "application/vnd.databricks.v1+output": {
       "addedWidgets": {},
       "aggData": [],
       "aggError": "",
       "aggOverflow": false,
       "aggSchema": [],
       "aggSeriesLimitReached": false,
       "aggType": "",
       "arguments": {},
       "columnCustomDisplayInfos": {},
       "data": [
        [
         1,
         "France",
         "A"
        ],
        [
         2,
         "Germany",
         "A"
        ],
        [
         3,
         "Spain",
         "A"
        ],
        [
         4,
         "Italy",
         "A"
        ],
        [
         5,
         "Portugal",
         "B"
        ],
        [
         6,
         "England",
         "B"
        ],
        [
         7,
         "Netherlands",
         "B"
        ],
        [
         8,
         "Belgium",
         "B"
        ],
        [
         9,
         "Croatia",
         "C"
        ],
        [
         10,
         "Poland",
         "C"
        ],
        [
         11,
         "Switzerland",
         "C"
        ],
        [
         12,
         "Turkey",
         "C"
        ],
        [
         13,
         "Sweden",
         "D"
        ],
        [
         14,
         "Denmark",
         "D"
        ],
        [
         15,
         "Russia",
         "D"
        ],
        [
         16,
         "Austria",
         "D"
        ],
        [
         17,
         "Ukraine",
         "E"
        ],
        [
         18,
         "Wales",
         "E"
        ],
        [
         19,
         "Scotland",
         "E"
        ],
        [
         20,
         "Czech Republic",
         "E"
        ],
        [
         21,
         "Slovakia",
         "F"
        ],
        [
         22,
         "Hungary",
         "F"
        ],
        [
         23,
         "Finland",
         "F"
        ],
        [
         24,
         "North Macedonia",
         "F"
        ]
       ],
       "datasetInfos": [],
       "dbfsResultPath": null,
       "isJsonSchema": true,
       "metadata": {
        "isDbfsCommandResult": false
       },
       "overflow": false,
       "plotOptions": {
        "customPlotOptions": {},
        "displayType": "table",
        "pivotAggregation": null,
        "pivotColumns": null,
        "xColumns": null,
        "yColumns": null
       },
       "removedWidgets": [],
       "schema": [
        {
         "metadata": "{}",
         "name": "TeamID",
         "type": "\"integer\""
        },
        {
         "metadata": "{}",
         "name": "TeamName",
         "type": "\"string\""
        },
        {
         "metadata": "{}",
         "name": "GroupName",
         "type": "\"string\""
        }
       ],
       "type": "table"
      }
     },
     "output_type": "display_data"
    }
   ],
   "source": [
    "%sql\n",
    "select * from TeamsEuro "
   ]
  },
  {
   "cell_type": "markdown",
   "metadata": {
    "application/vnd.databricks.v1+cell": {
     "cellMetadata": {},
     "inputWidgets": {},
     "nuid": "c1ba6a1c-a6b3-4351-a6ca-2ce3f4c8458c",
     "showTitle": false,
     "title": ""
    }
   },
   "source": [
    "Creating a table for group stage matches with a random goals.and declaring a winner "
   ]
  },
  {
   "cell_type": "code",
   "execution_count": 0,
   "metadata": {
    "application/vnd.databricks.v1+cell": {
     "cellMetadata": {
      "byteLimit": 2048000,
      "rowLimit": 10000
     },
     "inputWidgets": {},
     "nuid": "447ebf88-4f33-47ec-901c-e2228a192d5d",
     "showTitle": false,
     "title": ""
    }
   },
   "outputs": [
    {
     "output_type": "display_data",
     "data": {
      "text/html": [
       "<style scoped>\n",
       "  .table-result-container {\n",
       "    max-height: 300px;\n",
       "    overflow: auto;\n",
       "  }\n",
       "  table, th, td {\n",
       "    border: 1px solid black;\n",
       "    border-collapse: collapse;\n",
       "  }\n",
       "  th, td {\n",
       "    padding: 5px;\n",
       "  }\n",
       "  th {\n",
       "    text-align: left;\n",
       "  }\n",
       "</style><div class='table-result-container'><table class='table-result'><thead style='background-color: white'><tr><th>num_affected_rows</th><th>num_inserted_rows</th></tr></thead><tbody></tbody></table></div>"
      ]
     },
     "metadata": {
      "application/vnd.databricks.v1+output": {
       "addedWidgets": {},
       "aggData": [],
       "aggError": "",
       "aggOverflow": false,
       "aggSchema": [],
       "aggSeriesLimitReached": false,
       "aggType": "",
       "arguments": {},
       "columnCustomDisplayInfos": {},
       "data": [],
       "datasetInfos": [],
       "dbfsResultPath": null,
       "isJsonSchema": true,
       "metadata": {
        "isDbfsCommandResult": false
       },
       "overflow": false,
       "plotOptions": {
        "customPlotOptions": {},
        "displayType": "table",
        "pivotAggregation": null,
        "pivotColumns": null,
        "xColumns": null,
        "yColumns": null
       },
       "removedWidgets": [],
       "schema": [
        {
         "metadata": "{}",
         "name": "num_affected_rows",
         "type": "\"long\""
        },
        {
         "metadata": "{}",
         "name": "num_inserted_rows",
         "type": "\"long\""
        }
       ],
       "type": "table"
      }
     },
     "output_type": "display_data"
    }
   ],
   "source": [
    "%sql\n",
    "-- Create GroupStageMatches table\n",
    "CREATE OR REPLACE TABLE GroupStageMatche AS\n",
    "SELECT\n",
    "    t1.TeamID AS Team1ID,\n",
    "    t1.TeamName AS Team1Name,\n",
    "    t1.GroupName AS Team1Group,\n",
    "    t2.TeamID AS Team2ID,\n",
    "    t2.TeamName AS Team2Name,\n",
    "    t2.GroupName AS Team2Group,\n",
    "    ROUND(RAND() * 5) AS Team1Goals,  -- Random goal value for Team1\n",
    "    ROUND(RAND() * 5) AS Team2Goals,   -- Random goal value for Team2\n",
    "    CASE\n",
    "        WHEN Team1Goals > Team2Goals THEN t1.TeamName\n",
    "        WHEN Team2Goals > Team1Goals THEN t2.TeamName\n",
    "        ELSE \"Draw\"\n",
    "    END AS Winner\n",
    "FROM\n",
    "    TeamsEuro t1\n",
    "CROSS JOIN\n",
    "    TeamsEuro t2\n",
    "WHERE\n",
    "    t1.GroupName = t2.GroupName\n",
    "    AND t1.TeamID < t2.TeamID;  -- Avoid duplicate matches and self-matches\n"
   ]
  },
  {
   "cell_type": "code",
   "execution_count": 0,
   "metadata": {
    "application/vnd.databricks.v1+cell": {
     "cellMetadata": {
      "byteLimit": 2048000,
      "rowLimit": 10000
     },
     "inputWidgets": {},
     "nuid": "f3f33a21-6474-409e-bfc3-2bc907232adb",
     "showTitle": false,
     "title": ""
    }
   },
   "outputs": [
    {
     "output_type": "display_data",
     "data": {
      "text/html": [
       "<style scoped>\n",
       "  .table-result-container {\n",
       "    max-height: 300px;\n",
       "    overflow: auto;\n",
       "  }\n",
       "  table, th, td {\n",
       "    border: 1px solid black;\n",
       "    border-collapse: collapse;\n",
       "  }\n",
       "  th, td {\n",
       "    padding: 5px;\n",
       "  }\n",
       "  th {\n",
       "    text-align: left;\n",
       "  }\n",
       "</style><div class='table-result-container'><table class='table-result'><thead style='background-color: white'><tr><th>Team1ID</th><th>Team1Name</th><th>Team1Group</th><th>Team2ID</th><th>Team2Name</th><th>Team2Group</th><th>Team1Goals</th><th>Team2Goals</th><th>Winner</th></tr></thead><tbody><tr><td>1</td><td>France</td><td>A</td><td>4</td><td>Italy</td><td>A</td><td>1.0</td><td>3.0</td><td>Italy</td></tr><tr><td>1</td><td>France</td><td>A</td><td>3</td><td>Spain</td><td>A</td><td>3.0</td><td>1.0</td><td>France</td></tr><tr><td>1</td><td>France</td><td>A</td><td>2</td><td>Germany</td><td>A</td><td>3.0</td><td>0.0</td><td>France</td></tr><tr><td>2</td><td>Germany</td><td>A</td><td>4</td><td>Italy</td><td>A</td><td>2.0</td><td>3.0</td><td>Italy</td></tr><tr><td>2</td><td>Germany</td><td>A</td><td>3</td><td>Spain</td><td>A</td><td>5.0</td><td>1.0</td><td>Germany</td></tr><tr><td>3</td><td>Spain</td><td>A</td><td>4</td><td>Italy</td><td>A</td><td>0.0</td><td>5.0</td><td>Italy</td></tr><tr><td>5</td><td>Portugal</td><td>B</td><td>8</td><td>Belgium</td><td>B</td><td>2.0</td><td>1.0</td><td>Portugal</td></tr><tr><td>5</td><td>Portugal</td><td>B</td><td>7</td><td>Netherlands</td><td>B</td><td>0.0</td><td>1.0</td><td>Netherlands</td></tr><tr><td>5</td><td>Portugal</td><td>B</td><td>6</td><td>England</td><td>B</td><td>0.0</td><td>1.0</td><td>England</td></tr><tr><td>6</td><td>England</td><td>B</td><td>8</td><td>Belgium</td><td>B</td><td>2.0</td><td>2.0</td><td>Draw</td></tr><tr><td>6</td><td>England</td><td>B</td><td>7</td><td>Netherlands</td><td>B</td><td>2.0</td><td>2.0</td><td>Draw</td></tr><tr><td>7</td><td>Netherlands</td><td>B</td><td>8</td><td>Belgium</td><td>B</td><td>3.0</td><td>2.0</td><td>Netherlands</td></tr><tr><td>9</td><td>Croatia</td><td>C</td><td>12</td><td>Turkey</td><td>C</td><td>0.0</td><td>4.0</td><td>Turkey</td></tr><tr><td>9</td><td>Croatia</td><td>C</td><td>11</td><td>Switzerland</td><td>C</td><td>3.0</td><td>1.0</td><td>Croatia</td></tr><tr><td>9</td><td>Croatia</td><td>C</td><td>10</td><td>Poland</td><td>C</td><td>3.0</td><td>2.0</td><td>Croatia</td></tr><tr><td>10</td><td>Poland</td><td>C</td><td>12</td><td>Turkey</td><td>C</td><td>4.0</td><td>5.0</td><td>Turkey</td></tr><tr><td>10</td><td>Poland</td><td>C</td><td>11</td><td>Switzerland</td><td>C</td><td>0.0</td><td>2.0</td><td>Switzerland</td></tr><tr><td>11</td><td>Switzerland</td><td>C</td><td>12</td><td>Turkey</td><td>C</td><td>3.0</td><td>4.0</td><td>Turkey</td></tr><tr><td>13</td><td>Sweden</td><td>D</td><td>16</td><td>Austria</td><td>D</td><td>4.0</td><td>1.0</td><td>Sweden</td></tr><tr><td>13</td><td>Sweden</td><td>D</td><td>15</td><td>Russia</td><td>D</td><td>4.0</td><td>5.0</td><td>Russia</td></tr><tr><td>13</td><td>Sweden</td><td>D</td><td>14</td><td>Denmark</td><td>D</td><td>2.0</td><td>2.0</td><td>Draw</td></tr><tr><td>14</td><td>Denmark</td><td>D</td><td>16</td><td>Austria</td><td>D</td><td>1.0</td><td>2.0</td><td>Austria</td></tr><tr><td>14</td><td>Denmark</td><td>D</td><td>15</td><td>Russia</td><td>D</td><td>2.0</td><td>4.0</td><td>Russia</td></tr><tr><td>15</td><td>Russia</td><td>D</td><td>16</td><td>Austria</td><td>D</td><td>2.0</td><td>0.0</td><td>Russia</td></tr><tr><td>17</td><td>Ukraine</td><td>E</td><td>20</td><td>Czech Republic</td><td>E</td><td>2.0</td><td>3.0</td><td>Czech Republic</td></tr><tr><td>17</td><td>Ukraine</td><td>E</td><td>19</td><td>Scotland</td><td>E</td><td>1.0</td><td>1.0</td><td>Draw</td></tr><tr><td>17</td><td>Ukraine</td><td>E</td><td>18</td><td>Wales</td><td>E</td><td>1.0</td><td>2.0</td><td>Wales</td></tr><tr><td>18</td><td>Wales</td><td>E</td><td>20</td><td>Czech Republic</td><td>E</td><td>2.0</td><td>4.0</td><td>Czech Republic</td></tr><tr><td>18</td><td>Wales</td><td>E</td><td>19</td><td>Scotland</td><td>E</td><td>3.0</td><td>1.0</td><td>Wales</td></tr><tr><td>19</td><td>Scotland</td><td>E</td><td>20</td><td>Czech Republic</td><td>E</td><td>0.0</td><td>3.0</td><td>Czech Republic</td></tr><tr><td>21</td><td>Slovakia</td><td>F</td><td>24</td><td>North Macedonia</td><td>F</td><td>5.0</td><td>0.0</td><td>Slovakia</td></tr><tr><td>21</td><td>Slovakia</td><td>F</td><td>23</td><td>Finland</td><td>F</td><td>3.0</td><td>1.0</td><td>Slovakia</td></tr><tr><td>21</td><td>Slovakia</td><td>F</td><td>22</td><td>Hungary</td><td>F</td><td>3.0</td><td>2.0</td><td>Slovakia</td></tr><tr><td>22</td><td>Hungary</td><td>F</td><td>24</td><td>North Macedonia</td><td>F</td><td>3.0</td><td>5.0</td><td>North Macedonia</td></tr><tr><td>22</td><td>Hungary</td><td>F</td><td>23</td><td>Finland</td><td>F</td><td>3.0</td><td>1.0</td><td>Hungary</td></tr><tr><td>23</td><td>Finland</td><td>F</td><td>24</td><td>North Macedonia</td><td>F</td><td>2.0</td><td>4.0</td><td>North Macedonia</td></tr></tbody></table></div>"
      ]
     },
     "metadata": {
      "application/vnd.databricks.v1+output": {
       "addedWidgets": {},
       "aggData": [],
       "aggError": "",
       "aggOverflow": false,
       "aggSchema": [],
       "aggSeriesLimitReached": false,
       "aggType": "",
       "arguments": {},
       "columnCustomDisplayInfos": {},
       "data": [
        [
         1,
         "France",
         "A",
         4,
         "Italy",
         "A",
         1.0,
         3.0,
         "Italy"
        ],
        [
         1,
         "France",
         "A",
         3,
         "Spain",
         "A",
         3.0,
         1.0,
         "France"
        ],
        [
         1,
         "France",
         "A",
         2,
         "Germany",
         "A",
         3.0,
         0.0,
         "France"
        ],
        [
         2,
         "Germany",
         "A",
         4,
         "Italy",
         "A",
         2.0,
         3.0,
         "Italy"
        ],
        [
         2,
         "Germany",
         "A",
         3,
         "Spain",
         "A",
         5.0,
         1.0,
         "Germany"
        ],
        [
         3,
         "Spain",
         "A",
         4,
         "Italy",
         "A",
         0.0,
         5.0,
         "Italy"
        ],
        [
         5,
         "Portugal",
         "B",
         8,
         "Belgium",
         "B",
         2.0,
         1.0,
         "Portugal"
        ],
        [
         5,
         "Portugal",
         "B",
         7,
         "Netherlands",
         "B",
         0.0,
         1.0,
         "Netherlands"
        ],
        [
         5,
         "Portugal",
         "B",
         6,
         "England",
         "B",
         0.0,
         1.0,
         "England"
        ],
        [
         6,
         "England",
         "B",
         8,
         "Belgium",
         "B",
         2.0,
         2.0,
         "Draw"
        ],
        [
         6,
         "England",
         "B",
         7,
         "Netherlands",
         "B",
         2.0,
         2.0,
         "Draw"
        ],
        [
         7,
         "Netherlands",
         "B",
         8,
         "Belgium",
         "B",
         3.0,
         2.0,
         "Netherlands"
        ],
        [
         9,
         "Croatia",
         "C",
         12,
         "Turkey",
         "C",
         0.0,
         4.0,
         "Turkey"
        ],
        [
         9,
         "Croatia",
         "C",
         11,
         "Switzerland",
         "C",
         3.0,
         1.0,
         "Croatia"
        ],
        [
         9,
         "Croatia",
         "C",
         10,
         "Poland",
         "C",
         3.0,
         2.0,
         "Croatia"
        ],
        [
         10,
         "Poland",
         "C",
         12,
         "Turkey",
         "C",
         4.0,
         5.0,
         "Turkey"
        ],
        [
         10,
         "Poland",
         "C",
         11,
         "Switzerland",
         "C",
         0.0,
         2.0,
         "Switzerland"
        ],
        [
         11,
         "Switzerland",
         "C",
         12,
         "Turkey",
         "C",
         3.0,
         4.0,
         "Turkey"
        ],
        [
         13,
         "Sweden",
         "D",
         16,
         "Austria",
         "D",
         4.0,
         1.0,
         "Sweden"
        ],
        [
         13,
         "Sweden",
         "D",
         15,
         "Russia",
         "D",
         4.0,
         5.0,
         "Russia"
        ],
        [
         13,
         "Sweden",
         "D",
         14,
         "Denmark",
         "D",
         2.0,
         2.0,
         "Draw"
        ],
        [
         14,
         "Denmark",
         "D",
         16,
         "Austria",
         "D",
         1.0,
         2.0,
         "Austria"
        ],
        [
         14,
         "Denmark",
         "D",
         15,
         "Russia",
         "D",
         2.0,
         4.0,
         "Russia"
        ],
        [
         15,
         "Russia",
         "D",
         16,
         "Austria",
         "D",
         2.0,
         0.0,
         "Russia"
        ],
        [
         17,
         "Ukraine",
         "E",
         20,
         "Czech Republic",
         "E",
         2.0,
         3.0,
         "Czech Republic"
        ],
        [
         17,
         "Ukraine",
         "E",
         19,
         "Scotland",
         "E",
         1.0,
         1.0,
         "Draw"
        ],
        [
         17,
         "Ukraine",
         "E",
         18,
         "Wales",
         "E",
         1.0,
         2.0,
         "Wales"
        ],
        [
         18,
         "Wales",
         "E",
         20,
         "Czech Republic",
         "E",
         2.0,
         4.0,
         "Czech Republic"
        ],
        [
         18,
         "Wales",
         "E",
         19,
         "Scotland",
         "E",
         3.0,
         1.0,
         "Wales"
        ],
        [
         19,
         "Scotland",
         "E",
         20,
         "Czech Republic",
         "E",
         0.0,
         3.0,
         "Czech Republic"
        ],
        [
         21,
         "Slovakia",
         "F",
         24,
         "North Macedonia",
         "F",
         5.0,
         0.0,
         "Slovakia"
        ],
        [
         21,
         "Slovakia",
         "F",
         23,
         "Finland",
         "F",
         3.0,
         1.0,
         "Slovakia"
        ],
        [
         21,
         "Slovakia",
         "F",
         22,
         "Hungary",
         "F",
         3.0,
         2.0,
         "Slovakia"
        ],
        [
         22,
         "Hungary",
         "F",
         24,
         "North Macedonia",
         "F",
         3.0,
         5.0,
         "North Macedonia"
        ],
        [
         22,
         "Hungary",
         "F",
         23,
         "Finland",
         "F",
         3.0,
         1.0,
         "Hungary"
        ],
        [
         23,
         "Finland",
         "F",
         24,
         "North Macedonia",
         "F",
         2.0,
         4.0,
         "North Macedonia"
        ]
       ],
       "datasetInfos": [],
       "dbfsResultPath": null,
       "isJsonSchema": true,
       "metadata": {
        "isDbfsCommandResult": false
       },
       "overflow": false,
       "plotOptions": {
        "customPlotOptions": {},
        "displayType": "table",
        "pivotAggregation": null,
        "pivotColumns": null,
        "xColumns": null,
        "yColumns": null
       },
       "removedWidgets": [],
       "schema": [
        {
         "metadata": "{}",
         "name": "Team1ID",
         "type": "\"integer\""
        },
        {
         "metadata": "{}",
         "name": "Team1Name",
         "type": "\"string\""
        },
        {
         "metadata": "{}",
         "name": "Team1Group",
         "type": "\"string\""
        },
        {
         "metadata": "{}",
         "name": "Team2ID",
         "type": "\"integer\""
        },
        {
         "metadata": "{}",
         "name": "Team2Name",
         "type": "\"string\""
        },
        {
         "metadata": "{}",
         "name": "Team2Group",
         "type": "\"string\""
        },
        {
         "metadata": "{}",
         "name": "Team1Goals",
         "type": "\"double\""
        },
        {
         "metadata": "{}",
         "name": "Team2Goals",
         "type": "\"double\""
        },
        {
         "metadata": "{}",
         "name": "Winner",
         "type": "\"string\""
        }
       ],
       "type": "table"
      }
     },
     "output_type": "display_data"
    }
   ],
   "source": [
    "%sql\n",
    "select * from GroupStageMatche"
   ]
  },
  {
   "cell_type": "markdown",
   "metadata": {
    "application/vnd.databricks.v1+cell": {
     "cellMetadata": {},
     "inputWidgets": {},
     "nuid": "b5b08895-a74e-42d8-a258-f6f4e055e45a",
     "showTitle": false,
     "title": ""
    }
   },
   "source": [
    "Create a group stage summary tie sheet , with team point , ranking and goal difference "
   ]
  },
  {
   "cell_type": "code",
   "execution_count": 0,
   "metadata": {
    "application/vnd.databricks.v1+cell": {
     "cellMetadata": {
      "byteLimit": 2048000,
      "rowLimit": 10000
     },
     "inputWidgets": {},
     "nuid": "7c3c1c09-6c12-4356-ad22-90b8d72576aa",
     "showTitle": false,
     "title": ""
    }
   },
   "outputs": [
    {
     "output_type": "display_data",
     "data": {
      "text/html": [
       "<style scoped>\n",
       "  .table-result-container {\n",
       "    max-height: 300px;\n",
       "    overflow: auto;\n",
       "  }\n",
       "  table, th, td {\n",
       "    border: 1px solid black;\n",
       "    border-collapse: collapse;\n",
       "  }\n",
       "  th, td {\n",
       "    padding: 5px;\n",
       "  }\n",
       "  th {\n",
       "    text-align: left;\n",
       "  }\n",
       "</style><div class='table-result-container'><table class='table-result'><thead style='background-color: white'><tr><th>num_affected_rows</th><th>num_inserted_rows</th></tr></thead><tbody></tbody></table></div>"
      ]
     },
     "metadata": {
      "application/vnd.databricks.v1+output": {
       "addedWidgets": {},
       "aggData": [],
       "aggError": "",
       "aggOverflow": false,
       "aggSchema": [],
       "aggSeriesLimitReached": false,
       "aggType": "",
       "arguments": {},
       "columnCustomDisplayInfos": {},
       "data": [],
       "datasetInfos": [],
       "dbfsResultPath": null,
       "isJsonSchema": true,
       "metadata": {
        "isDbfsCommandResult": false
       },
       "overflow": false,
       "plotOptions": {
        "customPlotOptions": {},
        "displayType": "table",
        "pivotAggregation": null,
        "pivotColumns": null,
        "xColumns": null,
        "yColumns": null
       },
       "removedWidgets": [],
       "schema": [
        {
         "metadata": "{}",
         "name": "num_affected_rows",
         "type": "\"long\""
        },
        {
         "metadata": "{}",
         "name": "num_inserted_rows",
         "type": "\"long\""
        }
       ],
       "type": "table"
      }
     },
     "output_type": "display_data"
    }
   ],
   "source": [
    "%sql\n",
    "-- Create GroupStageSummary table with Team Rank and Tie-breaking on Goal Difference\n",
    "CREATE OR REPLACE TABLE GroupStageSummary AS\n",
    "WITH MatchResults AS (\n",
    "    SELECT\n",
    "        Team1ID AS TeamID,\n",
    "        Team1Name AS TeamName,\n",
    "        Team1Group AS GroupName,\n",
    "        Team1Goals,\n",
    "        Team2ID,\n",
    "        Team2Name,\n",
    "        Team2Group,\n",
    "        Team2Goals,\n",
    "        Winner\n",
    "    FROM\n",
    "        GroupStageMatche\n",
    "\n",
    "    UNION ALL\n",
    "\n",
    "    SELECT\n",
    "        Team2ID AS TeamID,\n",
    "        Team2Name AS TeamName,\n",
    "        Team2Group AS GroupName,\n",
    "        Team2Goals,\n",
    "        Team1ID,\n",
    "        Team1Name,\n",
    "        Team1Group,\n",
    "        Team1Goals,\n",
    "        Winner\n",
    "    FROM\n",
    "        GroupStageMatche\n",
    ")\n",
    "SELECT\n",
    "    TeamID,\n",
    "    TeamName,\n",
    "    GroupName,\n",
    "\n",
    "    DENSE_RANK() OVER (PARTITION BY GroupName ORDER BY\n",
    "        SUM(CASE WHEN Winner = TeamName THEN 3 WHEN Winner = 'Draw' THEN 1 ELSE 0 END) DESC,\n",
    "        SUM(Team1Goals - Team2Goals) DESC,\n",
    "        SUM(Team1Goals) DESC,\n",
    "        SUM(Team2Goals) ASC,\n",
    "        COUNT(*) DESC\n",
    "    ) AS TeamRank,\n",
    "    COUNT(*) AS MatchesPlayed,\n",
    "    SUM(CASE WHEN Winner = TeamName THEN 1 ELSE 0 END) AS MatchesWon,\n",
    "    SUM(CASE WHEN Winner != TeamName AND Winner != 'Draw' THEN 1 ELSE 0 END) AS MatchesLost,\n",
    "    SUM(CASE WHEN Winner = 'Draw' THEN 1 ELSE 0 END) AS MatchesDrawn,\n",
    "    SUM(CASE WHEN Winner = TeamName THEN 3 WHEN Winner = 'Draw' THEN 1 ELSE 0 END) AS TotalPoints,\n",
    "    SUM(Team1Goals - Team2Goals) AS GoalDifference,\n",
    "    SUM(Team1Goals) AS GoalScored,\n",
    "    SUM(Team2Goals) AS GoalConceled\n",
    "   \n",
    "FROM MatchResults\n",
    "GROUP BY TeamID, TeamName, GroupName\n",
    "ORDER BY GroupName, TeamRank;\n"
   ]
  },
  {
   "cell_type": "code",
   "execution_count": 0,
   "metadata": {
    "application/vnd.databricks.v1+cell": {
     "cellMetadata": {
      "byteLimit": 2048000,
      "rowLimit": 10000
     },
     "inputWidgets": {},
     "nuid": "7cbc1932-bfa0-4506-88cc-1816c8eaaec2",
     "showTitle": false,
     "title": ""
    }
   },
   "outputs": [
    {
     "output_type": "display_data",
     "data": {
      "text/html": [
       "<style scoped>\n",
       "  .table-result-container {\n",
       "    max-height: 300px;\n",
       "    overflow: auto;\n",
       "  }\n",
       "  table, th, td {\n",
       "    border: 1px solid black;\n",
       "    border-collapse: collapse;\n",
       "  }\n",
       "  th, td {\n",
       "    padding: 5px;\n",
       "  }\n",
       "  th {\n",
       "    text-align: left;\n",
       "  }\n",
       "</style><div class='table-result-container'><table class='table-result'><thead style='background-color: white'><tr><th>TeamID</th><th>TeamName</th><th>GroupName</th><th>TeamRank</th><th>MatchesPlayed</th><th>MatchesWon</th><th>MatchesLost</th><th>MatchesDrawn</th><th>TotalPoints</th><th>GoalDifference</th><th>GoalScored</th><th>GoalConceled</th></tr></thead><tbody><tr><td>4</td><td>Italy</td><td>A</td><td>1</td><td>3</td><td>3</td><td>0</td><td>0</td><td>9</td><td>8.0</td><td>11.0</td><td>3.0</td></tr><tr><td>1</td><td>France</td><td>A</td><td>2</td><td>3</td><td>2</td><td>1</td><td>0</td><td>6</td><td>3.0</td><td>7.0</td><td>4.0</td></tr><tr><td>2</td><td>Germany</td><td>A</td><td>3</td><td>3</td><td>1</td><td>2</td><td>0</td><td>3</td><td>0.0</td><td>7.0</td><td>7.0</td></tr><tr><td>3</td><td>Spain</td><td>A</td><td>4</td><td>3</td><td>0</td><td>3</td><td>0</td><td>0</td><td>-11.0</td><td>2.0</td><td>13.0</td></tr><tr><td>7</td><td>Netherlands</td><td>B</td><td>1</td><td>3</td><td>2</td><td>0</td><td>1</td><td>7</td><td>2.0</td><td>6.0</td><td>4.0</td></tr><tr><td>6</td><td>England</td><td>B</td><td>2</td><td>3</td><td>1</td><td>0</td><td>2</td><td>5</td><td>1.0</td><td>5.0</td><td>4.0</td></tr><tr><td>5</td><td>Portugal</td><td>B</td><td>3</td><td>3</td><td>1</td><td>2</td><td>0</td><td>3</td><td>-1.0</td><td>2.0</td><td>3.0</td></tr><tr><td>8</td><td>Belgium</td><td>B</td><td>4</td><td>3</td><td>0</td><td>2</td><td>1</td><td>1</td><td>-2.0</td><td>5.0</td><td>7.0</td></tr><tr><td>12</td><td>Turkey</td><td>C</td><td>1</td><td>3</td><td>3</td><td>0</td><td>0</td><td>9</td><td>6.0</td><td>13.0</td><td>7.0</td></tr><tr><td>9</td><td>Croatia</td><td>C</td><td>2</td><td>3</td><td>2</td><td>1</td><td>0</td><td>6</td><td>-1.0</td><td>6.0</td><td>7.0</td></tr><tr><td>11</td><td>Switzerland</td><td>C</td><td>3</td><td>3</td><td>1</td><td>2</td><td>0</td><td>3</td><td>-1.0</td><td>6.0</td><td>7.0</td></tr><tr><td>10</td><td>Poland</td><td>C</td><td>4</td><td>3</td><td>0</td><td>3</td><td>0</td><td>0</td><td>-4.0</td><td>6.0</td><td>10.0</td></tr><tr><td>15</td><td>Russia</td><td>D</td><td>1</td><td>3</td><td>3</td><td>0</td><td>0</td><td>9</td><td>5.0</td><td>11.0</td><td>6.0</td></tr><tr><td>13</td><td>Sweden</td><td>D</td><td>2</td><td>3</td><td>1</td><td>1</td><td>1</td><td>4</td><td>2.0</td><td>10.0</td><td>8.0</td></tr><tr><td>16</td><td>Austria</td><td>D</td><td>3</td><td>3</td><td>1</td><td>2</td><td>0</td><td>3</td><td>-4.0</td><td>3.0</td><td>7.0</td></tr><tr><td>14</td><td>Denmark</td><td>D</td><td>4</td><td>3</td><td>0</td><td>2</td><td>1</td><td>1</td><td>-3.0</td><td>5.0</td><td>8.0</td></tr><tr><td>20</td><td>Czech Republic</td><td>E</td><td>1</td><td>3</td><td>3</td><td>0</td><td>0</td><td>9</td><td>6.0</td><td>10.0</td><td>4.0</td></tr><tr><td>18</td><td>Wales</td><td>E</td><td>2</td><td>3</td><td>2</td><td>1</td><td>0</td><td>6</td><td>1.0</td><td>7.0</td><td>6.0</td></tr><tr><td>17</td><td>Ukraine</td><td>E</td><td>3</td><td>3</td><td>0</td><td>2</td><td>1</td><td>1</td><td>-2.0</td><td>4.0</td><td>6.0</td></tr><tr><td>19</td><td>Scotland</td><td>E</td><td>4</td><td>3</td><td>0</td><td>2</td><td>1</td><td>1</td><td>-5.0</td><td>2.0</td><td>7.0</td></tr><tr><td>21</td><td>Slovakia</td><td>F</td><td>1</td><td>3</td><td>3</td><td>0</td><td>0</td><td>9</td><td>8.0</td><td>11.0</td><td>3.0</td></tr><tr><td>24</td><td>North Macedonia</td><td>F</td><td>2</td><td>3</td><td>2</td><td>1</td><td>0</td><td>6</td><td>-1.0</td><td>9.0</td><td>10.0</td></tr><tr><td>22</td><td>Hungary</td><td>F</td><td>3</td><td>3</td><td>1</td><td>2</td><td>0</td><td>3</td><td>-1.0</td><td>8.0</td><td>9.0</td></tr><tr><td>23</td><td>Finland</td><td>F</td><td>4</td><td>3</td><td>0</td><td>3</td><td>0</td><td>0</td><td>-6.0</td><td>4.0</td><td>10.0</td></tr></tbody></table></div>"
      ]
     },
     "metadata": {
      "application/vnd.databricks.v1+output": {
       "addedWidgets": {},
       "aggData": [],
       "aggError": "",
       "aggOverflow": false,
       "aggSchema": [],
       "aggSeriesLimitReached": false,
       "aggType": "",
       "arguments": {},
       "columnCustomDisplayInfos": {},
       "data": [
        [
         4,
         "Italy",
         "A",
         1,
         3,
         3,
         0,
         0,
         9,
         8.0,
         11.0,
         3.0
        ],
        [
         1,
         "France",
         "A",
         2,
         3,
         2,
         1,
         0,
         6,
         3.0,
         7.0,
         4.0
        ],
        [
         2,
         "Germany",
         "A",
         3,
         3,
         1,
         2,
         0,
         3,
         0.0,
         7.0,
         7.0
        ],
        [
         3,
         "Spain",
         "A",
         4,
         3,
         0,
         3,
         0,
         0,
         -11.0,
         2.0,
         13.0
        ],
        [
         7,
         "Netherlands",
         "B",
         1,
         3,
         2,
         0,
         1,
         7,
         2.0,
         6.0,
         4.0
        ],
        [
         6,
         "England",
         "B",
         2,
         3,
         1,
         0,
         2,
         5,
         1.0,
         5.0,
         4.0
        ],
        [
         5,
         "Portugal",
         "B",
         3,
         3,
         1,
         2,
         0,
         3,
         -1.0,
         2.0,
         3.0
        ],
        [
         8,
         "Belgium",
         "B",
         4,
         3,
         0,
         2,
         1,
         1,
         -2.0,
         5.0,
         7.0
        ],
        [
         12,
         "Turkey",
         "C",
         1,
         3,
         3,
         0,
         0,
         9,
         6.0,
         13.0,
         7.0
        ],
        [
         9,
         "Croatia",
         "C",
         2,
         3,
         2,
         1,
         0,
         6,
         -1.0,
         6.0,
         7.0
        ],
        [
         11,
         "Switzerland",
         "C",
         3,
         3,
         1,
         2,
         0,
         3,
         -1.0,
         6.0,
         7.0
        ],
        [
         10,
         "Poland",
         "C",
         4,
         3,
         0,
         3,
         0,
         0,
         -4.0,
         6.0,
         10.0
        ],
        [
         15,
         "Russia",
         "D",
         1,
         3,
         3,
         0,
         0,
         9,
         5.0,
         11.0,
         6.0
        ],
        [
         13,
         "Sweden",
         "D",
         2,
         3,
         1,
         1,
         1,
         4,
         2.0,
         10.0,
         8.0
        ],
        [
         16,
         "Austria",
         "D",
         3,
         3,
         1,
         2,
         0,
         3,
         -4.0,
         3.0,
         7.0
        ],
        [
         14,
         "Denmark",
         "D",
         4,
         3,
         0,
         2,
         1,
         1,
         -3.0,
         5.0,
         8.0
        ],
        [
         20,
         "Czech Republic",
         "E",
         1,
         3,
         3,
         0,
         0,
         9,
         6.0,
         10.0,
         4.0
        ],
        [
         18,
         "Wales",
         "E",
         2,
         3,
         2,
         1,
         0,
         6,
         1.0,
         7.0,
         6.0
        ],
        [
         17,
         "Ukraine",
         "E",
         3,
         3,
         0,
         2,
         1,
         1,
         -2.0,
         4.0,
         6.0
        ],
        [
         19,
         "Scotland",
         "E",
         4,
         3,
         0,
         2,
         1,
         1,
         -5.0,
         2.0,
         7.0
        ],
        [
         21,
         "Slovakia",
         "F",
         1,
         3,
         3,
         0,
         0,
         9,
         8.0,
         11.0,
         3.0
        ],
        [
         24,
         "North Macedonia",
         "F",
         2,
         3,
         2,
         1,
         0,
         6,
         -1.0,
         9.0,
         10.0
        ],
        [
         22,
         "Hungary",
         "F",
         3,
         3,
         1,
         2,
         0,
         3,
         -1.0,
         8.0,
         9.0
        ],
        [
         23,
         "Finland",
         "F",
         4,
         3,
         0,
         3,
         0,
         0,
         -6.0,
         4.0,
         10.0
        ]
       ],
       "datasetInfos": [],
       "dbfsResultPath": null,
       "isJsonSchema": true,
       "metadata": {
        "isDbfsCommandResult": false
       },
       "overflow": false,
       "plotOptions": {
        "customPlotOptions": {},
        "displayType": "table",
        "pivotAggregation": null,
        "pivotColumns": null,
        "xColumns": null,
        "yColumns": null
       },
       "removedWidgets": [],
       "schema": [
        {
         "metadata": "{}",
         "name": "TeamID",
         "type": "\"integer\""
        },
        {
         "metadata": "{}",
         "name": "TeamName",
         "type": "\"string\""
        },
        {
         "metadata": "{}",
         "name": "GroupName",
         "type": "\"string\""
        },
        {
         "metadata": "{}",
         "name": "TeamRank",
         "type": "\"integer\""
        },
        {
         "metadata": "{}",
         "name": "MatchesPlayed",
         "type": "\"long\""
        },
        {
         "metadata": "{}",
         "name": "MatchesWon",
         "type": "\"long\""
        },
        {
         "metadata": "{}",
         "name": "MatchesLost",
         "type": "\"long\""
        },
        {
         "metadata": "{}",
         "name": "MatchesDrawn",
         "type": "\"long\""
        },
        {
         "metadata": "{}",
         "name": "TotalPoints",
         "type": "\"long\""
        },
        {
         "metadata": "{}",
         "name": "GoalDifference",
         "type": "\"double\""
        },
        {
         "metadata": "{}",
         "name": "GoalScored",
         "type": "\"double\""
        },
        {
         "metadata": "{}",
         "name": "GoalConceled",
         "type": "\"double\""
        }
       ],
       "type": "table"
      }
     },
     "output_type": "display_data"
    }
   ],
   "source": [
    "%sql\n",
    "select * from groupstagesummary"
   ]
  },
  {
   "cell_type": "markdown",
   "metadata": {
    "application/vnd.databricks.v1+cell": {
     "cellMetadata": {},
     "inputWidgets": {},
     "nuid": "98d2f747-6816-4471-916d-466e0bb731ac",
     "showTitle": false,
     "title": ""
    }
   },
   "source": [
    "Selection of 12 winners i e top 2 team of every group stage , and query for remaining third rank teams"
   ]
  },
  {
   "cell_type": "code",
   "execution_count": 0,
   "metadata": {
    "application/vnd.databricks.v1+cell": {
     "cellMetadata": {
      "byteLimit": 2048000,
      "rowLimit": 10000
     },
     "inputWidgets": {},
     "nuid": "1866e513-fa7c-45ab-bbb8-ab66ee4a3f51",
     "showTitle": false,
     "title": ""
    }
   },
   "outputs": [
    {
     "output_type": "display_data",
     "data": {
      "text/html": [
       "<style scoped>\n",
       "  .table-result-container {\n",
       "    max-height: 300px;\n",
       "    overflow: auto;\n",
       "  }\n",
       "  table, th, td {\n",
       "    border: 1px solid black;\n",
       "    border-collapse: collapse;\n",
       "  }\n",
       "  th, td {\n",
       "    padding: 5px;\n",
       "  }\n",
       "  th {\n",
       "    text-align: left;\n",
       "  }\n",
       "</style><div class='table-result-container'><table class='table-result'><thead style='background-color: white'><tr><th>num_affected_rows</th><th>num_inserted_rows</th></tr></thead><tbody></tbody></table></div>"
      ]
     },
     "metadata": {
      "application/vnd.databricks.v1+output": {
       "addedWidgets": {},
       "aggData": [],
       "aggError": "",
       "aggOverflow": false,
       "aggSchema": [],
       "aggSeriesLimitReached": false,
       "aggType": "",
       "arguments": {},
       "columnCustomDisplayInfos": {},
       "data": [],
       "datasetInfos": [],
       "dbfsResultPath": null,
       "isJsonSchema": true,
       "metadata": {
        "isDbfsCommandResult": false
       },
       "overflow": false,
       "plotOptions": {
        "customPlotOptions": {},
        "displayType": "table",
        "pivotAggregation": null,
        "pivotColumns": null,
        "xColumns": null,
        "yColumns": null
       },
       "removedWidgets": [],
       "schema": [
        {
         "metadata": "{}",
         "name": "num_affected_rows",
         "type": "\"long\""
        },
        {
         "metadata": "{}",
         "name": "num_inserted_rows",
         "type": "\"long\""
        }
       ],
       "type": "table"
      }
     },
     "output_type": "display_data"
    }
   ],
   "source": [
    "%sql\n",
    "-- Create Round of 16 (Ro16) table\n",
    "CREATE OR REPLACE TABLE RoundOf16 AS\n",
    "WITH GroupStandings AS (\n",
    "    SELECT\n",
    "        TeamID,\n",
    "        TeamName,\n",
    "        GroupName,\n",
    "        TeamRank,\n",
    "        TotalPoints,\n",
    "        GoalDifference,\n",
    "        GoalScored,\n",
    "        GoalConceled,\n",
    "        ROW_NUMBER() OVER (PARTITION BY GroupName ORDER BY TeamRank) AS RowInGroup\n",
    "    FROM\n",
    "        GroupStageSummary\n",
    ")\n",
    "SELECT\n",
    "    TeamID,\n",
    "    TeamName,\n",
    "    TeamRank,   GroupName,\n",
    "    CONCAT(GroupName, TeamRank) AS GroupRank,\n",
    "    TotalPoints,\n",
    "    GoalDifference,\n",
    "    GoalScored,\n",
    "    GoalConceled\n",
    "FROM\n",
    "    GroupStandings\n",
    "WHERE\n",
    "    RowInGroup <= 2\n",
    "UNION ALL\n",
    "SELECT\n",
    "    TeamID,\n",
    "    TeamName,\n",
    "    TeamRank,   GroupName,\n",
    "    CONCAT(GroupName, TeamRank) AS GroupRank,\n",
    "    TotalPoints,\n",
    "    GoalDifference,\n",
    "    GoalScored,\n",
    "    GoalConceled\n",
    "FROM (\n",
    "    SELECT\n",
    "        gs.TeamID,\n",
    "        gs.TeamName,\n",
    "        gs.TeamRank,\n",
    "        gs.TotalPoints,\n",
    "        gs.GoalDifference,\n",
    "        gs.GoalScored,\n",
    "        gs.GoalConceled,\n",
    "        ROW_NUMBER() OVER (ORDER BY gs.TotalPoints DESC, gs.GoalDifference DESC, gs.GoalScored DESC, gs.GoalConceled DESC) AS RowOverall,\n",
    "        gs.GroupName  -- Include GroupName in the subquery\n",
    "    FROM\n",
    "        GroupStandings gs\n",
    "    WHERE\n",
    "        gs.RowInGroup = 3\n",
    ") AS ThirdPlaceTeams\n",
    "WHERE\n",
    "    RowOverall <= 4\n",
    "ORDER BY\n",
    "    TeamID;\n"
   ]
  },
  {
   "cell_type": "code",
   "execution_count": 0,
   "metadata": {
    "application/vnd.databricks.v1+cell": {
     "cellMetadata": {
      "byteLimit": 2048000,
      "rowLimit": 10000
     },
     "inputWidgets": {},
     "nuid": "ad36eba3-7593-42a9-835c-45e610b33766",
     "showTitle": false,
     "title": ""
    }
   },
   "outputs": [
    {
     "output_type": "display_data",
     "data": {
      "text/html": [
       "<style scoped>\n",
       "  .table-result-container {\n",
       "    max-height: 300px;\n",
       "    overflow: auto;\n",
       "  }\n",
       "  table, th, td {\n",
       "    border: 1px solid black;\n",
       "    border-collapse: collapse;\n",
       "  }\n",
       "  th, td {\n",
       "    padding: 5px;\n",
       "  }\n",
       "  th {\n",
       "    text-align: left;\n",
       "  }\n",
       "</style><div class='table-result-container'><table class='table-result'><thead style='background-color: white'><tr><th>TeamID</th><th>TeamName</th><th>TeamRank</th><th>GroupName</th><th>GroupRank</th><th>TotalPoints</th><th>GoalDifference</th><th>GoalScored</th><th>GoalConceled</th></tr></thead><tbody><tr><td>1</td><td>France</td><td>2</td><td>A</td><td>A2</td><td>6</td><td>3.0</td><td>7.0</td><td>4.0</td></tr><tr><td>2</td><td>Germany</td><td>3</td><td>A</td><td>A3</td><td>3</td><td>0.0</td><td>7.0</td><td>7.0</td></tr><tr><td>4</td><td>Italy</td><td>1</td><td>A</td><td>A1</td><td>9</td><td>8.0</td><td>11.0</td><td>3.0</td></tr><tr><td>5</td><td>Portugal</td><td>3</td><td>B</td><td>B3</td><td>3</td><td>-1.0</td><td>2.0</td><td>3.0</td></tr><tr><td>6</td><td>England</td><td>2</td><td>B</td><td>B2</td><td>5</td><td>1.0</td><td>5.0</td><td>4.0</td></tr><tr><td>7</td><td>Netherlands</td><td>1</td><td>B</td><td>B1</td><td>7</td><td>2.0</td><td>6.0</td><td>4.0</td></tr><tr><td>9</td><td>Croatia</td><td>2</td><td>C</td><td>C2</td><td>6</td><td>-1.0</td><td>6.0</td><td>7.0</td></tr><tr><td>11</td><td>Switzerland</td><td>3</td><td>C</td><td>C3</td><td>3</td><td>-1.0</td><td>6.0</td><td>7.0</td></tr><tr><td>12</td><td>Turkey</td><td>1</td><td>C</td><td>C1</td><td>9</td><td>6.0</td><td>13.0</td><td>7.0</td></tr><tr><td>13</td><td>Sweden</td><td>2</td><td>D</td><td>D2</td><td>4</td><td>2.0</td><td>10.0</td><td>8.0</td></tr><tr><td>15</td><td>Russia</td><td>1</td><td>D</td><td>D1</td><td>9</td><td>5.0</td><td>11.0</td><td>6.0</td></tr><tr><td>18</td><td>Wales</td><td>2</td><td>E</td><td>E2</td><td>6</td><td>1.0</td><td>7.0</td><td>6.0</td></tr><tr><td>20</td><td>Czech Republic</td><td>1</td><td>E</td><td>E1</td><td>9</td><td>6.0</td><td>10.0</td><td>4.0</td></tr><tr><td>21</td><td>Slovakia</td><td>1</td><td>F</td><td>F1</td><td>9</td><td>8.0</td><td>11.0</td><td>3.0</td></tr><tr><td>22</td><td>Hungary</td><td>3</td><td>F</td><td>F3</td><td>3</td><td>-1.0</td><td>8.0</td><td>9.0</td></tr><tr><td>24</td><td>North Macedonia</td><td>2</td><td>F</td><td>F2</td><td>6</td><td>-1.0</td><td>9.0</td><td>10.0</td></tr></tbody></table></div>"
      ]
     },
     "metadata": {
      "application/vnd.databricks.v1+output": {
       "addedWidgets": {},
       "aggData": [],
       "aggError": "",
       "aggOverflow": false,
       "aggSchema": [],
       "aggSeriesLimitReached": false,
       "aggType": "",
       "arguments": {},
       "columnCustomDisplayInfos": {},
       "data": [
        [
         1,
         "France",
         2,
         "A",
         "A2",
         6,
         3.0,
         7.0,
         4.0
        ],
        [
         2,
         "Germany",
         3,
         "A",
         "A3",
         3,
         0.0,
         7.0,
         7.0
        ],
        [
         4,
         "Italy",
         1,
         "A",
         "A1",
         9,
         8.0,
         11.0,
         3.0
        ],
        [
         5,
         "Portugal",
         3,
         "B",
         "B3",
         3,
         -1.0,
         2.0,
         3.0
        ],
        [
         6,
         "England",
         2,
         "B",
         "B2",
         5,
         1.0,
         5.0,
         4.0
        ],
        [
         7,
         "Netherlands",
         1,
         "B",
         "B1",
         7,
         2.0,
         6.0,
         4.0
        ],
        [
         9,
         "Croatia",
         2,
         "C",
         "C2",
         6,
         -1.0,
         6.0,
         7.0
        ],
        [
         11,
         "Switzerland",
         3,
         "C",
         "C3",
         3,
         -1.0,
         6.0,
         7.0
        ],
        [
         12,
         "Turkey",
         1,
         "C",
         "C1",
         9,
         6.0,
         13.0,
         7.0
        ],
        [
         13,
         "Sweden",
         2,
         "D",
         "D2",
         4,
         2.0,
         10.0,
         8.0
        ],
        [
         15,
         "Russia",
         1,
         "D",
         "D1",
         9,
         5.0,
         11.0,
         6.0
        ],
        [
         18,
         "Wales",
         2,
         "E",
         "E2",
         6,
         1.0,
         7.0,
         6.0
        ],
        [
         20,
         "Czech Republic",
         1,
         "E",
         "E1",
         9,
         6.0,
         10.0,
         4.0
        ],
        [
         21,
         "Slovakia",
         1,
         "F",
         "F1",
         9,
         8.0,
         11.0,
         3.0
        ],
        [
         22,
         "Hungary",
         3,
         "F",
         "F3",
         3,
         -1.0,
         8.0,
         9.0
        ],
        [
         24,
         "North Macedonia",
         2,
         "F",
         "F2",
         6,
         -1.0,
         9.0,
         10.0
        ]
       ],
       "datasetInfos": [],
       "dbfsResultPath": null,
       "isJsonSchema": true,
       "metadata": {
        "isDbfsCommandResult": false
       },
       "overflow": false,
       "plotOptions": {
        "customPlotOptions": {},
        "displayType": "table",
        "pivotAggregation": null,
        "pivotColumns": null,
        "xColumns": null,
        "yColumns": null
       },
       "removedWidgets": [],
       "schema": [
        {
         "metadata": "{}",
         "name": "TeamID",
         "type": "\"integer\""
        },
        {
         "metadata": "{}",
         "name": "TeamName",
         "type": "\"string\""
        },
        {
         "metadata": "{}",
         "name": "TeamRank",
         "type": "\"integer\""
        },
        {
         "metadata": "{}",
         "name": "GroupName",
         "type": "\"string\""
        },
        {
         "metadata": "{}",
         "name": "GroupRank",
         "type": "\"string\""
        },
        {
         "metadata": "{}",
         "name": "TotalPoints",
         "type": "\"long\""
        },
        {
         "metadata": "{}",
         "name": "GoalDifference",
         "type": "\"double\""
        },
        {
         "metadata": "{}",
         "name": "GoalScored",
         "type": "\"double\""
        },
        {
         "metadata": "{}",
         "name": "GoalConceled",
         "type": "\"double\""
        }
       ],
       "type": "table"
      }
     },
     "output_type": "display_data"
    }
   ],
   "source": [
    "%sql\n",
    "SELECT * FROM RoundOf16\n"
   ]
  },
  {
   "cell_type": "code",
   "execution_count": 0,
   "metadata": {
    "application/vnd.databricks.v1+cell": {
     "cellMetadata": {
      "byteLimit": 2048000,
      "rowLimit": 10000
     },
     "inputWidgets": {},
     "nuid": "8b0f7c92-1e80-4168-a5be-e31f729c725a",
     "showTitle": false,
     "title": ""
    }
   },
   "outputs": [
    {
     "output_type": "display_data",
     "data": {
      "text/html": [
       "<style scoped>\n",
       "  .table-result-container {\n",
       "    max-height: 300px;\n",
       "    overflow: auto;\n",
       "  }\n",
       "  table, th, td {\n",
       "    border: 1px solid black;\n",
       "    border-collapse: collapse;\n",
       "  }\n",
       "  th, td {\n",
       "    padding: 5px;\n",
       "  }\n",
       "  th {\n",
       "    text-align: left;\n",
       "  }\n",
       "</style><div class='table-result-container'><table class='table-result'><thead style='background-color: white'><tr><th>FinalCombination</th></tr></thead><tbody><tr><td>A3B3C3F3</td></tr></tbody></table></div>"
      ]
     },
     "metadata": {
      "application/vnd.databricks.v1+output": {
       "addedWidgets": {},
       "aggData": [],
       "aggError": "",
       "aggOverflow": false,
       "aggSchema": [],
       "aggSeriesLimitReached": false,
       "aggType": "",
       "arguments": {},
       "columnCustomDisplayInfos": {},
       "data": [
        [
         "A3B3C3F3"
        ]
       ],
       "datasetInfos": [],
       "dbfsResultPath": null,
       "isJsonSchema": true,
       "metadata": {
        "isDbfsCommandResult": false
       },
       "overflow": false,
       "plotOptions": {
        "customPlotOptions": {},
        "displayType": "table",
        "pivotAggregation": null,
        "pivotColumns": null,
        "xColumns": null,
        "yColumns": null
       },
       "removedWidgets": [],
       "schema": [
        {
         "metadata": "{}",
         "name": "FinalCombination",
         "type": "\"string\""
        }
       ],
       "type": "table"
      }
     },
     "output_type": "display_data"
    }
   ],
   "source": [
    "%sql\n",
    "SELECT\n",
    "    CONCAT_WS('', COLLECT_LIST(SUBSTRING(GroupName, 1) || TeamRank)) AS FinalCombination\n",
    "FROM\n",
    "    RoundOf16\n",
    "WHERE\n",
    "    TeamRank = 3;"
   ]
  },
  {
   "cell_type": "markdown",
   "metadata": {
    "application/vnd.databricks.v1+cell": {
     "cellMetadata": {},
     "inputWidgets": {},
     "nuid": "b911faee-058a-49be-961b-c28da09644ea",
     "showTitle": false,
     "title": ""
    }
   },
   "source": [
    "Combination sequence table for thirdplacement ."
   ]
  },
  {
   "cell_type": "code",
   "execution_count": 0,
   "metadata": {
    "application/vnd.databricks.v1+cell": {
     "cellMetadata": {
      "byteLimit": 2048000,
      "rowLimit": 10000
     },
     "inputWidgets": {},
     "nuid": "3a4c8bb3-0e19-40ca-8164-c3bb320bbc33",
     "showTitle": false,
     "title": ""
    }
   },
   "outputs": [
    {
     "output_type": "display_data",
     "data": {
      "text/html": [
       "<style scoped>\n",
       "  .table-result-container {\n",
       "    max-height: 300px;\n",
       "    overflow: auto;\n",
       "  }\n",
       "  table, th, td {\n",
       "    border: 1px solid black;\n",
       "    border-collapse: collapse;\n",
       "  }\n",
       "  th, td {\n",
       "    padding: 5px;\n",
       "  }\n",
       "  th {\n",
       "    text-align: left;\n",
       "  }\n",
       "</style><div class='table-result-container'><table class='table-result'><thead style='background-color: white'><tr><th>SId</th><th>QualificationSequence</th><th>B1</th><th>C1</th><th>E1</th><th>F1</th></tr></thead><tbody><tr><td>1</td><td>A3B3C3D3</td><td>A3</td><td>D3</td><td>B3</td><td>C3</td></tr><tr><td>2</td><td>A3B3C3E3</td><td>A3</td><td>E3</td><td>B3</td><td>C3</td></tr><tr><td>3</td><td>A3B3C3F3</td><td>A3</td><td>F3</td><td>B3</td><td>C3</td></tr><tr><td>4</td><td>A3B3D3E3</td><td>D3</td><td>E3</td><td>A3</td><td>B3</td></tr><tr><td>5</td><td>A3B3D3F3</td><td>D3</td><td>F3</td><td>A3</td><td>B3</td></tr><tr><td>6</td><td>A3B3E3F3</td><td>E3</td><td>F3</td><td>B3</td><td>A3</td></tr><tr><td>7</td><td>A3C3D3E3</td><td>E3</td><td>D3</td><td>C3</td><td>A3</td></tr><tr><td>8</td><td>A3C3D3F3</td><td>F3</td><td>D3</td><td>C3</td><td>A3</td></tr><tr><td>9</td><td>A3C3E3F3</td><td>E3</td><td>F3</td><td>C3</td><td>A3</td></tr><tr><td>10</td><td>A3D3E3F3</td><td>E3</td><td>F3</td><td>D3</td><td>A3</td></tr><tr><td>11</td><td>B3C3D3E3</td><td>E3</td><td>D3</td><td>B3</td><td>C3</td></tr><tr><td>12</td><td>B3C3D3F3</td><td>F3</td><td>D3</td><td>C3</td><td>B3</td></tr><tr><td>13</td><td>B3C3E3F3</td><td>F3</td><td>E3</td><td>C3</td><td>B3</td></tr><tr><td>14</td><td>B3D3E3F3</td><td>F3</td><td>E3</td><td>D3</td><td>B3</td></tr><tr><td>15</td><td>C3D3E3F3</td><td>F3</td><td>E3</td><td>D3</td><td>C3</td></tr></tbody></table></div>"
      ]
     },
     "metadata": {
      "application/vnd.databricks.v1+output": {
       "addedWidgets": {},
       "aggData": [],
       "aggError": "",
       "aggOverflow": false,
       "aggSchema": [],
       "aggSeriesLimitReached": false,
       "aggType": "",
       "arguments": {},
       "columnCustomDisplayInfos": {},
       "data": [
        [
         1,
         "A3B3C3D3",
         "A3",
         "D3",
         "B3",
         "C3"
        ],
        [
         2,
         "A3B3C3E3",
         "A3",
         "E3",
         "B3",
         "C3"
        ],
        [
         3,
         "A3B3C3F3",
         "A3",
         "F3",
         "B3",
         "C3"
        ],
        [
         4,
         "A3B3D3E3",
         "D3",
         "E3",
         "A3",
         "B3"
        ],
        [
         5,
         "A3B3D3F3",
         "D3",
         "F3",
         "A3",
         "B3"
        ],
        [
         6,
         "A3B3E3F3",
         "E3",
         "F3",
         "B3",
         "A3"
        ],
        [
         7,
         "A3C3D3E3",
         "E3",
         "D3",
         "C3",
         "A3"
        ],
        [
         8,
         "A3C3D3F3",
         "F3",
         "D3",
         "C3",
         "A3"
        ],
        [
         9,
         "A3C3E3F3",
         "E3",
         "F3",
         "C3",
         "A3"
        ],
        [
         10,
         "A3D3E3F3",
         "E3",
         "F3",
         "D3",
         "A3"
        ],
        [
         11,
         "B3C3D3E3",
         "E3",
         "D3",
         "B3",
         "C3"
        ],
        [
         12,
         "B3C3D3F3",
         "F3",
         "D3",
         "C3",
         "B3"
        ],
        [
         13,
         "B3C3E3F3",
         "F3",
         "E3",
         "C3",
         "B3"
        ],
        [
         14,
         "B3D3E3F3",
         "F3",
         "E3",
         "D3",
         "B3"
        ],
        [
         15,
         "C3D3E3F3",
         "F3",
         "E3",
         "D3",
         "C3"
        ]
       ],
       "datasetInfos": [],
       "dbfsResultPath": null,
       "isJsonSchema": true,
       "metadata": {
        "isDbfsCommandResult": false
       },
       "overflow": false,
       "plotOptions": {
        "customPlotOptions": {},
        "displayType": "table",
        "pivotAggregation": null,
        "pivotColumns": null,
        "xColumns": null,
        "yColumns": null
       },
       "removedWidgets": [],
       "schema": [
        {
         "metadata": "{}",
         "name": "SId",
         "type": "\"integer\""
        },
        {
         "metadata": "{\"__CHAR_VARCHAR_TYPE_STRING\":\"varchar(8)\"}",
         "name": "QualificationSequence",
         "type": "\"string\""
        },
        {
         "metadata": "{\"__CHAR_VARCHAR_TYPE_STRING\":\"char(2)\"}",
         "name": "B1",
         "type": "\"string\""
        },
        {
         "metadata": "{\"__CHAR_VARCHAR_TYPE_STRING\":\"char(2)\"}",
         "name": "C1",
         "type": "\"string\""
        },
        {
         "metadata": "{\"__CHAR_VARCHAR_TYPE_STRING\":\"char(2)\"}",
         "name": "E1",
         "type": "\"string\""
        },
        {
         "metadata": "{\"__CHAR_VARCHAR_TYPE_STRING\":\"char(2)\"}",
         "name": "F1",
         "type": "\"string\""
        }
       ],
       "type": "table"
      }
     },
     "output_type": "display_data"
    }
   ],
   "source": [
    "%sql\n",
    "CREATE or replace TABLE ThirdPlacementCombinations(\n",
    "  SId INT,\n",
    "  QualificationSequence VARCHAR(8),\n",
    "  B1 CHAR(2),\n",
    "  C1 CHAR(2),\n",
    "  E1 CHAR(2),\n",
    "  F1 CHAR(2)\n",
    ");\n",
    "\n",
    "INSERT INTO  ThirdPlacementCombinations (SId, QualificationSequence, B1, C1, E1, F1)\n",
    "VALUES\n",
    "    (1, 'A3B3C3D3', 'A3', 'D3', 'B3', 'C3'),\n",
    "    (2, 'A3B3C3E3', 'A3', 'E3', 'B3', 'C3'),\n",
    "    (3, 'A3B3C3F3', 'A3', 'F3', 'B3', 'C3'),\n",
    "    (4, 'A3B3D3E3', 'D3', 'E3', 'A3', 'B3'),\n",
    "    (5, 'A3B3D3F3', 'D3', 'F3', 'A3', 'B3'),\n",
    "    (6, 'A3B3E3F3', 'E3', 'F3', 'B3', 'A3'),\n",
    "    (7, 'A3C3D3E3', 'E3', 'D3', 'C3', 'A3'),\n",
    "    (8, 'A3C3D3F3', 'F3', 'D3', 'C3', 'A3'),\n",
    "    (9, 'A3C3E3F3', 'E3', 'F3', 'C3', 'A3'),\n",
    "    (10, 'A3D3E3F3', 'E3', 'F3', 'D3', 'A3'),\n",
    "    (11, 'B3C3D3E3', 'E3', 'D3', 'B3', 'C3'),\n",
    "    (12, 'B3C3D3F3', 'F3', 'D3', 'C3', 'B3'),\n",
    "    (13, 'B3C3E3F3', 'F3', 'E3', 'C3', 'B3'),\n",
    "    (14, 'B3D3E3F3', 'F3', 'E3', 'D3', 'B3'),\n",
    "    (15, 'C3D3E3F3', 'F3', 'E3', 'D3', 'C3');\n",
    "\n",
    "SELECT * FROM ThirdPlacementCombinations;"
   ]
  },
  {
   "cell_type": "code",
   "execution_count": 0,
   "metadata": {
    "application/vnd.databricks.v1+cell": {
     "cellMetadata": {
      "byteLimit": 2048000,
      "rowLimit": 10000
     },
     "inputWidgets": {},
     "nuid": "74c25df1-65bb-4114-b0c6-84d4bb05edf8",
     "showTitle": false,
     "title": ""
    }
   },
   "outputs": [],
   "source": []
  },
  {
   "cell_type": "code",
   "execution_count": 0,
   "metadata": {
    "application/vnd.databricks.v1+cell": {
     "cellMetadata": {
      "byteLimit": 2048000,
      "rowLimit": 10000
     },
     "inputWidgets": {},
     "nuid": "690eaf28-ffcd-4656-a3db-58bed390f3a5",
     "showTitle": false,
     "title": ""
    }
   },
   "outputs": [],
   "source": [
    "%sql\n",
    "-- %sql\n",
    "-- WITH FirstQuery AS (\n",
    "--     SELECT\n",
    "--         CONCAT_WS('', COLLECT_LIST(SUBSTRING(GroupName, 1) || TeamRank)) AS DynamicValue\n",
    "--     FROM\n",
    "--         RoundOf16\n",
    "--     WHERE\n",
    "--         TeamRank = 3\n",
    "-- )\n",
    "\n",
    "-- -- Compare with the provided table\n",
    "-- SELECT *\n",
    "-- FROM ThirdPlacementCombinations\n",
    "-- WHERE QualificationSequence = (SELECT DynamicValue FROM FirstQuery);"
   ]
  },
  {
   "cell_type": "markdown",
   "metadata": {
    "application/vnd.databricks.v1+cell": {
     "cellMetadata": {},
     "inputWidgets": {},
     "nuid": "34df5c90-ce5b-408c-a268-750f21370360",
     "showTitle": false,
     "title": ""
    }
   },
   "source": [
    "Combination pattern  for Top 4 teams ranking 3 , who have qualified "
   ]
  },
  {
   "cell_type": "code",
   "execution_count": 0,
   "metadata": {
    "application/vnd.databricks.v1+cell": {
     "cellMetadata": {
      "byteLimit": 2048000,
      "rowLimit": 10000
     },
     "inputWidgets": {},
     "nuid": "56913415-d289-4d62-95ee-98bec99bb55b",
     "showTitle": false,
     "title": ""
    }
   },
   "outputs": [
    {
     "output_type": "display_data",
     "data": {
      "text/html": [
       "<style scoped>\n",
       "  .table-result-container {\n",
       "    max-height: 300px;\n",
       "    overflow: auto;\n",
       "  }\n",
       "  table, th, td {\n",
       "    border: 1px solid black;\n",
       "    border-collapse: collapse;\n",
       "  }\n",
       "  th, td {\n",
       "    padding: 5px;\n",
       "  }\n",
       "  th {\n",
       "    text-align: left;\n",
       "  }\n",
       "</style><div class='table-result-container'><table class='table-result'><thead style='background-color: white'><tr><th>SId</th><th>B1</th><th>C1</th><th>E1</th><th>F1</th><th>PlacementCombination</th></tr></thead><tbody><tr><td>3</td><td>A3</td><td>F3</td><td>B3</td><td>C3</td><td>A3B3C3F3</td></tr></tbody></table></div>"
      ]
     },
     "metadata": {
      "application/vnd.databricks.v1+output": {
       "addedWidgets": {},
       "aggData": [],
       "aggError": "",
       "aggOverflow": false,
       "aggSchema": [],
       "aggSeriesLimitReached": false,
       "aggType": "",
       "arguments": {},
       "columnCustomDisplayInfos": {},
       "data": [
        [
         3,
         "A3",
         "F3",
         "B3",
         "C3",
         "A3B3C3F3"
        ]
       ],
       "datasetInfos": [],
       "dbfsResultPath": null,
       "isJsonSchema": true,
       "metadata": {
        "isDbfsCommandResult": false
       },
       "overflow": false,
       "plotOptions": {
        "customPlotOptions": {},
        "displayType": "table",
        "pivotAggregation": null,
        "pivotColumns": null,
        "xColumns": null,
        "yColumns": null
       },
       "removedWidgets": [],
       "schema": [
        {
         "metadata": "{}",
         "name": "SId",
         "type": "\"integer\""
        },
        {
         "metadata": "{\"__CHAR_VARCHAR_TYPE_STRING\":\"char(2)\"}",
         "name": "B1",
         "type": "\"string\""
        },
        {
         "metadata": "{\"__CHAR_VARCHAR_TYPE_STRING\":\"char(2)\"}",
         "name": "C1",
         "type": "\"string\""
        },
        {
         "metadata": "{\"__CHAR_VARCHAR_TYPE_STRING\":\"char(2)\"}",
         "name": "E1",
         "type": "\"string\""
        },
        {
         "metadata": "{\"__CHAR_VARCHAR_TYPE_STRING\":\"char(2)\"}",
         "name": "F1",
         "type": "\"string\""
        },
        {
         "metadata": "{}",
         "name": "PlacementCombination",
         "type": "\"string\""
        }
       ],
       "type": "table"
      }
     },
     "output_type": "display_data"
    }
   ],
   "source": [
    "%sql\n",
    "\n",
    "With QualificationCompare AS (\n",
    "  SELECT c.SId, c.B1, c.C1, c.E1, c.F1, pc.PlacementCombination \n",
    "  FROM ThirdPlacementCombinations c\n",
    "  JOIN (\n",
    "    SELECT\n",
    "        CONCAT_WS('', COLLECT_LIST(SUBSTRING(GroupName, 1) || TeamRank)) AS PlacementCombination\n",
    "    FROM\n",
    "        RoundOf16\n",
    "    WHERE\n",
    "        TeamRank = 3\n",
    "  ) pc\n",
    "  ON c.QualificationSequence = pc.PlacementCombination\n",
    ")\n",
    "  SELECT * FROM QualificationCompare;"
   ]
  },
  {
   "cell_type": "markdown",
   "metadata": {
    "application/vnd.databricks.v1+cell": {
     "cellMetadata": {},
     "inputWidgets": {},
     "nuid": "9fbf0c69-3b4a-4a26-81be-35418e668d93",
     "showTitle": false,
     "title": ""
    }
   },
   "source": [
    "Table creation for elimination matches"
   ]
  },
  {
   "cell_type": "code",
   "execution_count": 0,
   "metadata": {
    "application/vnd.databricks.v1+cell": {
     "cellMetadata": {
      "byteLimit": 2048000,
      "rowLimit": 10000
     },
     "inputWidgets": {},
     "nuid": "a3b09d6f-0d2e-4484-9cdd-23f6b6d14971",
     "showTitle": false,
     "title": ""
    }
   },
   "outputs": [
    {
     "output_type": "display_data",
     "data": {
      "text/html": [
       "<style scoped>\n",
       "  .table-result-container {\n",
       "    max-height: 300px;\n",
       "    overflow: auto;\n",
       "  }\n",
       "  table, th, td {\n",
       "    border: 1px solid black;\n",
       "    border-collapse: collapse;\n",
       "  }\n",
       "  th, td {\n",
       "    padding: 5px;\n",
       "  }\n",
       "  th {\n",
       "    text-align: left;\n",
       "  }\n",
       "</style><div class='table-result-container'><table class='table-result'><thead style='background-color: white'><tr></tr></thead><tbody></tbody></table></div>"
      ]
     },
     "metadata": {
      "application/vnd.databricks.v1+output": {
       "addedWidgets": {},
       "aggData": [],
       "aggError": "",
       "aggOverflow": false,
       "aggSchema": [],
       "aggSeriesLimitReached": false,
       "aggType": "",
       "arguments": {},
       "columnCustomDisplayInfos": {},
       "data": [],
       "datasetInfos": [],
       "dbfsResultPath": null,
       "isJsonSchema": true,
       "metadata": {
        "isDbfsCommandResult": false
       },
       "overflow": false,
       "plotOptions": {
        "customPlotOptions": {},
        "displayType": "table",
        "pivotAggregation": null,
        "pivotColumns": null,
        "xColumns": null,
        "yColumns": null
       },
       "removedWidgets": [],
       "schema": [],
       "type": "table"
      }
     },
     "output_type": "display_data"
    }
   ],
   "source": [
    "%sql\n",
    "CREATE OR REPLACE TABLE EliminationMatches (\n",
    "    MatchID INT,\n",
    "    Team1 VARCHAR(53),\n",
    "    Team1Goals INT,\n",
    "    Team2Goals INT,\n",
    "    Team2 VARCHAR(53),\n",
    "    MatchWinner VARCHAR(53),\n",
    "    MatchStage VARCHAR(20)\n",
    ");"
   ]
  },
  {
   "cell_type": "markdown",
   "metadata": {
    "application/vnd.databricks.v1+cell": {
     "cellMetadata": {},
     "inputWidgets": {},
     "nuid": "5285b2ea-0644-41c4-b9b2-d63bc0c726f1",
     "showTitle": false,
     "title": ""
    }
   },
   "source": [
    "ROund of 16 matches between those selected teams ."
   ]
  },
  {
   "cell_type": "code",
   "execution_count": 0,
   "metadata": {
    "application/vnd.databricks.v1+cell": {
     "cellMetadata": {
      "byteLimit": 2048000,
      "rowLimit": 10000
     },
     "inputWidgets": {},
     "nuid": "dc0e6d95-0ac2-4ae3-9438-731ddc76754c",
     "showTitle": false,
     "title": ""
    }
   },
   "outputs": [
    {
     "output_type": "display_data",
     "data": {
      "text/html": [
       "<style scoped>\n",
       "  .table-result-container {\n",
       "    max-height: 300px;\n",
       "    overflow: auto;\n",
       "  }\n",
       "  table, th, td {\n",
       "    border: 1px solid black;\n",
       "    border-collapse: collapse;\n",
       "  }\n",
       "  th, td {\n",
       "    padding: 5px;\n",
       "  }\n",
       "  th {\n",
       "    text-align: left;\n",
       "  }\n",
       "</style><div class='table-result-container'><table class='table-result'><thead style='background-color: white'><tr><th>num_affected_rows</th><th>num_inserted_rows</th></tr></thead><tbody><tr><td>8</td><td>8</td></tr></tbody></table></div>"
      ]
     },
     "metadata": {
      "application/vnd.databricks.v1+output": {
       "addedWidgets": {},
       "aggData": [],
       "aggError": "",
       "aggOverflow": false,
       "aggSchema": [],
       "aggSeriesLimitReached": false,
       "aggType": "",
       "arguments": {},
       "columnCustomDisplayInfos": {},
       "data": [
        [
         8,
         8
        ]
       ],
       "datasetInfos": [],
       "dbfsResultPath": null,
       "isJsonSchema": true,
       "metadata": {
        "isDbfsCommandResult": false
       },
       "overflow": false,
       "plotOptions": {
        "customPlotOptions": {},
        "displayType": "table",
        "pivotAggregation": null,
        "pivotColumns": null,
        "xColumns": null,
        "yColumns": null
       },
       "removedWidgets": [],
       "schema": [
        {
         "metadata": "{}",
         "name": "num_affected_rows",
         "type": "\"long\""
        },
        {
         "metadata": "{}",
         "name": "num_inserted_rows",
         "type": "\"long\""
        }
       ],
       "type": "table"
      }
     },
     "output_type": "display_data"
    }
   ],
   "source": [
    "%sql\n",
    "\n",
    "With QualificationCompare AS (\n",
    "  SELECT c.SId, c.B1, c.C1, c.E1, c.F1, pc.PlacementCombination \n",
    "  FROM ThirdPlacementCombinations c\n",
    "  JOIN (\n",
    "    SELECT\n",
    "        CONCAT_WS('', COLLECT_LIST(SUBSTRING(GroupName, 1) || TeamRank)) AS PlacementCombination\n",
    "    FROM\n",
    "        RoundOf16\n",
    "    WHERE\n",
    "        TeamRank = 3\n",
    "  ) pc\n",
    "  ON c.QualificationSequence = pc.PlacementCombination\n",
    ")\n",
    "  \n",
    "INSERT INTO EliminationMatches (MatchID, Team1, Team1Goals, Team2Goals, Team2, MatchWinner, MatchStage)\n",
    "SELECT\n",
    "    ROW_NUMBER() OVER (ORDER BY \n",
    "      CASE \n",
    "        WHEN t1.TeamRank = 1 AND t1.GroupName = 'B' THEN 1\n",
    "        WHEN t1.TeamRank = 1 AND t1.GroupName = 'A' THEN 2\n",
    "        WHEN t1.TeamRank = 1 AND t1.GroupName = 'F' THEN 3\n",
    "        WHEN t1.TeamRank = 2 AND t1.GroupName = 'D' THEN 4\n",
    "        WHEN t1.TeamRank = 1 AND t1.GroupName = 'E' THEN 5\n",
    "        WHEN t1.TeamRank = 1 AND t1.GroupName = 'D' THEN 6\n",
    "        WHEN t1.TeamRank = 1 AND t1.GroupName = 'C' THEN 7\n",
    "        WHEN t1.TeamRank = 2 AND t1.GroupName = 'A' THEN 8\n",
    " \n",
    "      END\n",
    "    ) AS MatchID,\n",
    "    t1.TeamName AS Team1,\n",
    "    ROUND(RAND() * 6) AS Team1Goals,\n",
    "    ROUND(RAND() * 6) AS Team2Goals,\n",
    "    t2.TeamName AS Team2,\n",
    "    CASE\n",
    "        WHEN Team1Goals > Team2Goals THEN t1.TeamName\n",
    "        WHEN Team2Goals > Team1Goals THEN t2.TeamName\n",
    "        ELSE\n",
    "          CASE\n",
    "            WHEN Team1 < Team2 THEN Team1\n",
    "            ELSE Team2\n",
    "          END\n",
    "    END AS MatchWinner,\n",
    "    'R16' AS MatchStage\n",
    "\n",
    "FROM RoundOf16 t1\n",
    "JOIN RoundOf16 t2\n",
    "ON (\n",
    "     (t1.GroupRank = 'B1' AND t2.GroupRank = (SELECT B1 FROM QualificationCompare)) OR\n",
    "    (t1.GroupRank = 'A1' AND t2.GroupRank = 'C2') OR\n",
    "    (t1.GroupRank = 'F1' AND t2.GroupRank = (SELECT F1 FROM QualificationCompare)) OR\n",
    "    (t1.GroupRank = 'D2' AND t2.GroupRank = 'E2') OR\n",
    "    (t1.GroupRank = 'E1' AND t2.GroupRank = (SELECT E1 FROM QualificationCompare)) OR\n",
    "    (t1.GroupRank = 'D1' AND t2.GroupRank = 'F2') OR\n",
    "    (t1.GroupRank = 'C1' AND t2.GroupRank = (SELECT C1 FROM QualificationCompare)) OR\n",
    "    (t1.GroupRank = 'A2' AND t2.GroupRank = 'B2')\n",
    ");\n"
   ]
  },
  {
   "cell_type": "code",
   "execution_count": 0,
   "metadata": {
    "application/vnd.databricks.v1+cell": {
     "cellMetadata": {
      "byteLimit": 2048000,
      "rowLimit": 10000
     },
     "inputWidgets": {},
     "nuid": "de048e57-a97f-4f1d-9c29-97d6be306370",
     "showTitle": false,
     "title": ""
    }
   },
   "outputs": [
    {
     "output_type": "display_data",
     "data": {
      "text/html": [
       "<style scoped>\n",
       "  .table-result-container {\n",
       "    max-height: 300px;\n",
       "    overflow: auto;\n",
       "  }\n",
       "  table, th, td {\n",
       "    border: 1px solid black;\n",
       "    border-collapse: collapse;\n",
       "  }\n",
       "  th, td {\n",
       "    padding: 5px;\n",
       "  }\n",
       "  th {\n",
       "    text-align: left;\n",
       "  }\n",
       "</style><div class='table-result-container'><table class='table-result'><thead style='background-color: white'><tr><th>MatchID</th><th>Team1</th><th>Team1Goals</th><th>Team2Goals</th><th>Team2</th><th>MatchWinner</th><th>MatchStage</th></tr></thead><tbody><tr><td>1</td><td>Netherlands</td><td>3</td><td>6</td><td>Germany</td><td>Germany</td><td>R16</td></tr><tr><td>2</td><td>Italy</td><td>1</td><td>1</td><td>Croatia</td><td>Croatia</td><td>R16</td></tr><tr><td>3</td><td>Slovakia</td><td>0</td><td>1</td><td>Switzerland</td><td>Switzerland</td><td>R16</td></tr><tr><td>4</td><td>Sweden</td><td>0</td><td>4</td><td>Wales</td><td>Wales</td><td>R16</td></tr><tr><td>5</td><td>Czech Republic</td><td>5</td><td>1</td><td>Portugal</td><td>Czech Republic</td><td>R16</td></tr><tr><td>6</td><td>Russia</td><td>0</td><td>1</td><td>North Macedonia</td><td>North Macedonia</td><td>R16</td></tr><tr><td>7</td><td>Turkey</td><td>3</td><td>6</td><td>Hungary</td><td>Hungary</td><td>R16</td></tr><tr><td>8</td><td>France</td><td>1</td><td>5</td><td>England</td><td>England</td><td>R16</td></tr></tbody></table></div>"
      ]
     },
     "metadata": {
      "application/vnd.databricks.v1+output": {
       "addedWidgets": {},
       "aggData": [],
       "aggError": "",
       "aggOverflow": false,
       "aggSchema": [],
       "aggSeriesLimitReached": false,
       "aggType": "",
       "arguments": {},
       "columnCustomDisplayInfos": {},
       "data": [
        [
         1,
         "Netherlands",
         3,
         6,
         "Germany",
         "Germany",
         "R16"
        ],
        [
         2,
         "Italy",
         1,
         1,
         "Croatia",
         "Croatia",
         "R16"
        ],
        [
         3,
         "Slovakia",
         0,
         1,
         "Switzerland",
         "Switzerland",
         "R16"
        ],
        [
         4,
         "Sweden",
         0,
         4,
         "Wales",
         "Wales",
         "R16"
        ],
        [
         5,
         "Czech Republic",
         5,
         1,
         "Portugal",
         "Czech Republic",
         "R16"
        ],
        [
         6,
         "Russia",
         0,
         1,
         "North Macedonia",
         "North Macedonia",
         "R16"
        ],
        [
         7,
         "Turkey",
         3,
         6,
         "Hungary",
         "Hungary",
         "R16"
        ],
        [
         8,
         "France",
         1,
         5,
         "England",
         "England",
         "R16"
        ]
       ],
       "datasetInfos": [],
       "dbfsResultPath": null,
       "isJsonSchema": true,
       "metadata": {
        "isDbfsCommandResult": false
       },
       "overflow": false,
       "plotOptions": {
        "customPlotOptions": {},
        "displayType": "table",
        "pivotAggregation": null,
        "pivotColumns": null,
        "xColumns": null,
        "yColumns": null
       },
       "removedWidgets": [],
       "schema": [
        {
         "metadata": "{}",
         "name": "MatchID",
         "type": "\"integer\""
        },
        {
         "metadata": "{\"__CHAR_VARCHAR_TYPE_STRING\":\"varchar(53)\"}",
         "name": "Team1",
         "type": "\"string\""
        },
        {
         "metadata": "{}",
         "name": "Team1Goals",
         "type": "\"integer\""
        },
        {
         "metadata": "{}",
         "name": "Team2Goals",
         "type": "\"integer\""
        },
        {
         "metadata": "{\"__CHAR_VARCHAR_TYPE_STRING\":\"varchar(53)\"}",
         "name": "Team2",
         "type": "\"string\""
        },
        {
         "metadata": "{\"__CHAR_VARCHAR_TYPE_STRING\":\"varchar(53)\"}",
         "name": "MatchWinner",
         "type": "\"string\""
        },
        {
         "metadata": "{\"__CHAR_VARCHAR_TYPE_STRING\":\"varchar(20)\"}",
         "name": "MatchStage",
         "type": "\"string\""
        }
       ],
       "type": "table"
      }
     },
     "output_type": "display_data"
    }
   ],
   "source": [
    "%sql\n",
    "select * from eliminationmatches"
   ]
  },
  {
   "cell_type": "markdown",
   "metadata": {
    "application/vnd.databricks.v1+cell": {
     "cellMetadata": {},
     "inputWidgets": {},
     "nuid": "ca07c03a-0daa-4e93-b45a-3cc802ec7a81",
     "showTitle": false,
     "title": ""
    }
   },
   "source": [
    "Quater Final Matches"
   ]
  },
  {
   "cell_type": "code",
   "execution_count": 0,
   "metadata": {
    "application/vnd.databricks.v1+cell": {
     "cellMetadata": {
      "byteLimit": 2048000,
      "rowLimit": 10000
     },
     "inputWidgets": {},
     "nuid": "2f8a8304-8809-4107-86d0-3bdbc31a6236",
     "showTitle": false,
     "title": ""
    }
   },
   "outputs": [
    {
     "output_type": "display_data",
     "data": {
      "text/html": [
       "<style scoped>\n",
       "  .table-result-container {\n",
       "    max-height: 300px;\n",
       "    overflow: auto;\n",
       "  }\n",
       "  table, th, td {\n",
       "    border: 1px solid black;\n",
       "    border-collapse: collapse;\n",
       "  }\n",
       "  th, td {\n",
       "    padding: 5px;\n",
       "  }\n",
       "  th {\n",
       "    text-align: left;\n",
       "  }\n",
       "</style><div class='table-result-container'><table class='table-result'><thead style='background-color: white'><tr><th>num_affected_rows</th></tr></thead><tbody><tr><td>4</td></tr></tbody></table></div>"
      ]
     },
     "metadata": {
      "application/vnd.databricks.v1+output": {
       "addedWidgets": {},
       "aggData": [],
       "aggError": "",
       "aggOverflow": false,
       "aggSchema": [],
       "aggSeriesLimitReached": false,
       "aggType": "",
       "arguments": {},
       "columnCustomDisplayInfos": {},
       "data": [
        [
         4
        ]
       ],
       "datasetInfos": [],
       "dbfsResultPath": null,
       "isJsonSchema": true,
       "metadata": {
        "isDbfsCommandResult": false
       },
       "overflow": false,
       "plotOptions": {
        "customPlotOptions": {},
        "displayType": "table",
        "pivotAggregation": null,
        "pivotColumns": null,
        "xColumns": null,
        "yColumns": null
       },
       "removedWidgets": [],
       "schema": [
        {
         "metadata": "{}",
         "name": "num_affected_rows",
         "type": "\"long\""
        }
       ],
       "type": "table"
      }
     },
     "output_type": "display_data"
    }
   ],
   "source": [
    "%sql\n",
    "\n",
    "\n",
    "INSERT INTO EliminationMatches (MatchID, Team1, Team1Goals, Team2Goals, Team2, MatchWinner, MatchStage)\n",
    "SELECT\n",
    "    ROW_NUMBER() OVER (ORDER BY 1) + 8 AS MatchID,\n",
    "    t1.MatchWinner AS Team1,\n",
    "    ROUND(RAND() * 6) AS Team1Goals,\n",
    "    ROUND(RAND() * 6) AS Team2Goals,\n",
    "    t2.MatchWinner AS Team2,\n",
    "    'TBD' AS MatchWinner,\n",
    "    'QF' AS MatchStage\n",
    "\n",
    "FROM EliminationMatches t1\n",
    "CROSS JOIN EliminationMatches t2\n",
    "ON\n",
    "  (t1.MatchID = 1 AND t2.MatchId = 2) OR\n",
    "  (t1.MatchID = 3 AND t2.MatchId = 4) OR\n",
    "  (t1.MatchID = 5 AND t2.MatchId = 6) OR\n",
    "  (t1.MatchID = 7 AND t2.MatchId = 8);\n",
    "\n",
    "UPDATE EliminationMatches\n",
    "SET MatchWinner = \n",
    "    CASE\n",
    "        WHEN Team1Goals > Team2Goals THEN Team1\n",
    "        WHEN Team1Goals < Team2Goals THEN Team2\n",
    "        ELSE\n",
    "            CASE\n",
    "                WHEN Team1 < Team2 THEN Team1\n",
    "                ELSE Team2\n",
    "            END\n",
    "    END\n",
    "WHERE MatchStage = 'QF';"
   ]
  },
  {
   "cell_type": "code",
   "execution_count": 0,
   "metadata": {
    "application/vnd.databricks.v1+cell": {
     "cellMetadata": {
      "byteLimit": 2048000,
      "rowLimit": 10000
     },
     "inputWidgets": {},
     "nuid": "17fc196e-fbaf-4caf-8ef0-812588940173",
     "showTitle": false,
     "title": ""
    }
   },
   "outputs": [
    {
     "output_type": "display_data",
     "data": {
      "text/html": [
       "<style scoped>\n",
       "  .table-result-container {\n",
       "    max-height: 300px;\n",
       "    overflow: auto;\n",
       "  }\n",
       "  table, th, td {\n",
       "    border: 1px solid black;\n",
       "    border-collapse: collapse;\n",
       "  }\n",
       "  th, td {\n",
       "    padding: 5px;\n",
       "  }\n",
       "  th {\n",
       "    text-align: left;\n",
       "  }\n",
       "</style><div class='table-result-container'><table class='table-result'><thead style='background-color: white'><tr><th>MatchID</th><th>Team1</th><th>Team1Goals</th><th>Team2Goals</th><th>Team2</th><th>MatchWinner</th><th>MatchStage</th></tr></thead><tbody><tr><td>1</td><td>Netherlands</td><td>3</td><td>6</td><td>Germany</td><td>Germany</td><td>R16</td></tr><tr><td>2</td><td>Italy</td><td>1</td><td>1</td><td>Croatia</td><td>Croatia</td><td>R16</td></tr><tr><td>3</td><td>Slovakia</td><td>0</td><td>1</td><td>Switzerland</td><td>Switzerland</td><td>R16</td></tr><tr><td>4</td><td>Sweden</td><td>0</td><td>4</td><td>Wales</td><td>Wales</td><td>R16</td></tr><tr><td>5</td><td>Czech Republic</td><td>5</td><td>1</td><td>Portugal</td><td>Czech Republic</td><td>R16</td></tr><tr><td>6</td><td>Russia</td><td>0</td><td>1</td><td>North Macedonia</td><td>North Macedonia</td><td>R16</td></tr><tr><td>7</td><td>Turkey</td><td>3</td><td>6</td><td>Hungary</td><td>Hungary</td><td>R16</td></tr><tr><td>8</td><td>France</td><td>1</td><td>5</td><td>England</td><td>England</td><td>R16</td></tr><tr><td>9</td><td>Germany</td><td>4</td><td>3</td><td>Croatia</td><td>Germany</td><td>QF</td></tr><tr><td>10</td><td>Switzerland</td><td>3</td><td>4</td><td>Wales</td><td>Wales</td><td>QF</td></tr><tr><td>11</td><td>Czech Republic</td><td>0</td><td>5</td><td>North Macedonia</td><td>North Macedonia</td><td>QF</td></tr><tr><td>12</td><td>Hungary</td><td>6</td><td>5</td><td>England</td><td>Hungary</td><td>QF</td></tr></tbody></table></div>"
      ]
     },
     "metadata": {
      "application/vnd.databricks.v1+output": {
       "addedWidgets": {},
       "aggData": [],
       "aggError": "",
       "aggOverflow": false,
       "aggSchema": [],
       "aggSeriesLimitReached": false,
       "aggType": "",
       "arguments": {},
       "columnCustomDisplayInfos": {},
       "data": [
        [
         1,
         "Netherlands",
         3,
         6,
         "Germany",
         "Germany",
         "R16"
        ],
        [
         2,
         "Italy",
         1,
         1,
         "Croatia",
         "Croatia",
         "R16"
        ],
        [
         3,
         "Slovakia",
         0,
         1,
         "Switzerland",
         "Switzerland",
         "R16"
        ],
        [
         4,
         "Sweden",
         0,
         4,
         "Wales",
         "Wales",
         "R16"
        ],
        [
         5,
         "Czech Republic",
         5,
         1,
         "Portugal",
         "Czech Republic",
         "R16"
        ],
        [
         6,
         "Russia",
         0,
         1,
         "North Macedonia",
         "North Macedonia",
         "R16"
        ],
        [
         7,
         "Turkey",
         3,
         6,
         "Hungary",
         "Hungary",
         "R16"
        ],
        [
         8,
         "France",
         1,
         5,
         "England",
         "England",
         "R16"
        ],
        [
         9,
         "Germany",
         4,
         3,
         "Croatia",
         "Germany",
         "QF"
        ],
        [
         10,
         "Switzerland",
         3,
         4,
         "Wales",
         "Wales",
         "QF"
        ],
        [
         11,
         "Czech Republic",
         0,
         5,
         "North Macedonia",
         "North Macedonia",
         "QF"
        ],
        [
         12,
         "Hungary",
         6,
         5,
         "England",
         "Hungary",
         "QF"
        ]
       ],
       "datasetInfos": [],
       "dbfsResultPath": null,
       "isJsonSchema": true,
       "metadata": {
        "isDbfsCommandResult": false
       },
       "overflow": false,
       "plotOptions": {
        "customPlotOptions": {},
        "displayType": "table",
        "pivotAggregation": null,
        "pivotColumns": null,
        "xColumns": null,
        "yColumns": null
       },
       "removedWidgets": [],
       "schema": [
        {
         "metadata": "{}",
         "name": "MatchID",
         "type": "\"integer\""
        },
        {
         "metadata": "{\"__CHAR_VARCHAR_TYPE_STRING\":\"varchar(53)\"}",
         "name": "Team1",
         "type": "\"string\""
        },
        {
         "metadata": "{}",
         "name": "Team1Goals",
         "type": "\"integer\""
        },
        {
         "metadata": "{}",
         "name": "Team2Goals",
         "type": "\"integer\""
        },
        {
         "metadata": "{\"__CHAR_VARCHAR_TYPE_STRING\":\"varchar(53)\"}",
         "name": "Team2",
         "type": "\"string\""
        },
        {
         "metadata": "{\"__CHAR_VARCHAR_TYPE_STRING\":\"varchar(53)\"}",
         "name": "MatchWinner",
         "type": "\"string\""
        },
        {
         "metadata": "{\"__CHAR_VARCHAR_TYPE_STRING\":\"varchar(20)\"}",
         "name": "MatchStage",
         "type": "\"string\""
        }
       ],
       "type": "table"
      }
     },
     "output_type": "display_data"
    }
   ],
   "source": [
    "%sql\n",
    "select * from eliminationmatches"
   ]
  },
  {
   "cell_type": "markdown",
   "metadata": {
    "application/vnd.databricks.v1+cell": {
     "cellMetadata": {},
     "inputWidgets": {},
     "nuid": "4ab2d090-bc02-4d93-8dfb-b89af1dc614f",
     "showTitle": false,
     "title": ""
    }
   },
   "source": [
    "Semi-Final Matches"
   ]
  },
  {
   "cell_type": "code",
   "execution_count": 0,
   "metadata": {
    "application/vnd.databricks.v1+cell": {
     "cellMetadata": {
      "byteLimit": 2048000,
      "rowLimit": 10000
     },
     "inputWidgets": {},
     "nuid": "525da65b-dd2e-4e33-918d-902e37c6a493",
     "showTitle": false,
     "title": ""
    }
   },
   "outputs": [
    {
     "output_type": "display_data",
     "data": {
      "text/html": [
       "<style scoped>\n",
       "  .table-result-container {\n",
       "    max-height: 300px;\n",
       "    overflow: auto;\n",
       "  }\n",
       "  table, th, td {\n",
       "    border: 1px solid black;\n",
       "    border-collapse: collapse;\n",
       "  }\n",
       "  th, td {\n",
       "    padding: 5px;\n",
       "  }\n",
       "  th {\n",
       "    text-align: left;\n",
       "  }\n",
       "</style><div class='table-result-container'><table class='table-result'><thead style='background-color: white'><tr><th>num_affected_rows</th></tr></thead><tbody><tr><td>2</td></tr></tbody></table></div>"
      ]
     },
     "metadata": {
      "application/vnd.databricks.v1+output": {
       "addedWidgets": {},
       "aggData": [],
       "aggError": "",
       "aggOverflow": false,
       "aggSchema": [],
       "aggSeriesLimitReached": false,
       "aggType": "",
       "arguments": {},
       "columnCustomDisplayInfos": {},
       "data": [
        [
         2
        ]
       ],
       "datasetInfos": [],
       "dbfsResultPath": null,
       "isJsonSchema": true,
       "metadata": {
        "isDbfsCommandResult": false
       },
       "overflow": false,
       "plotOptions": {
        "customPlotOptions": {},
        "displayType": "table",
        "pivotAggregation": null,
        "pivotColumns": null,
        "xColumns": null,
        "yColumns": null
       },
       "removedWidgets": [],
       "schema": [
        {
         "metadata": "{}",
         "name": "num_affected_rows",
         "type": "\"long\""
        }
       ],
       "type": "table"
      }
     },
     "output_type": "display_data"
    }
   ],
   "source": [
    "%sql\n",
    "INSERT INTO EliminationMatches (MatchID, Team1, Team1Goals, Team2Goals, Team2, MatchWinner, MatchStage)\n",
    "SELECT\n",
    "    ROW_NUMBER() OVER (ORDER BY 1) + 12 AS MatchID,\n",
    "    t1.MatchWinner AS Team1,\n",
    "    ROUND(RAND() * 6) AS Team1Goals,\n",
    "    ROUND(RAND() * 6) AS Team2Goals,\n",
    "    t2.MatchWinner AS Team2,\n",
    "    'TBD' AS MatchWinner,\n",
    "    'SF' AS MatchStage\n",
    "\n",
    "FROM EliminationMatches t1\n",
    "CROSS JOIN EliminationMatches t2\n",
    "ON\n",
    "  (t1.MatchID = 9 AND t2.MatchId = 10) OR\n",
    "  (t1.MatchID = 11 AND t2.MatchId = 12);\n",
    "\n",
    "UPDATE EliminationMatches\n",
    "SET MatchWinner = \n",
    "    CASE\n",
    "        WHEN Team1Goals > Team2Goals THEN Team1\n",
    "        WHEN Team1Goals < Team2Goals THEN Team2\n",
    "        ELSE\n",
    "            CASE\n",
    "                WHEN Team1 < Team2 THEN Team1\n",
    "                ELSE Team2\n",
    "            END\n",
    "    END\n",
    "WHERE MatchStage = 'SF';\n"
   ]
  },
  {
   "cell_type": "code",
   "execution_count": 0,
   "metadata": {
    "application/vnd.databricks.v1+cell": {
     "cellMetadata": {
      "byteLimit": 2048000,
      "rowLimit": 10000
     },
     "inputWidgets": {},
     "nuid": "a2405d13-a56f-4a60-9c8d-60f3ef288165",
     "showTitle": false,
     "title": ""
    }
   },
   "outputs": [
    {
     "output_type": "display_data",
     "data": {
      "text/html": [
       "<style scoped>\n",
       "  .table-result-container {\n",
       "    max-height: 300px;\n",
       "    overflow: auto;\n",
       "  }\n",
       "  table, th, td {\n",
       "    border: 1px solid black;\n",
       "    border-collapse: collapse;\n",
       "  }\n",
       "  th, td {\n",
       "    padding: 5px;\n",
       "  }\n",
       "  th {\n",
       "    text-align: left;\n",
       "  }\n",
       "</style><div class='table-result-container'><table class='table-result'><thead style='background-color: white'><tr><th>MatchID</th><th>Team1</th><th>Team1Goals</th><th>Team2Goals</th><th>Team2</th><th>MatchWinner</th><th>MatchStage</th></tr></thead><tbody><tr><td>1</td><td>Netherlands</td><td>3</td><td>6</td><td>Germany</td><td>Germany</td><td>R16</td></tr><tr><td>2</td><td>Italy</td><td>1</td><td>1</td><td>Croatia</td><td>Croatia</td><td>R16</td></tr><tr><td>3</td><td>Slovakia</td><td>0</td><td>1</td><td>Switzerland</td><td>Switzerland</td><td>R16</td></tr><tr><td>4</td><td>Sweden</td><td>0</td><td>4</td><td>Wales</td><td>Wales</td><td>R16</td></tr><tr><td>5</td><td>Czech Republic</td><td>5</td><td>1</td><td>Portugal</td><td>Czech Republic</td><td>R16</td></tr><tr><td>6</td><td>Russia</td><td>0</td><td>1</td><td>North Macedonia</td><td>North Macedonia</td><td>R16</td></tr><tr><td>7</td><td>Turkey</td><td>3</td><td>6</td><td>Hungary</td><td>Hungary</td><td>R16</td></tr><tr><td>8</td><td>France</td><td>1</td><td>5</td><td>England</td><td>England</td><td>R16</td></tr><tr><td>9</td><td>Germany</td><td>4</td><td>3</td><td>Croatia</td><td>Germany</td><td>QF</td></tr><tr><td>10</td><td>Switzerland</td><td>3</td><td>4</td><td>Wales</td><td>Wales</td><td>QF</td></tr><tr><td>11</td><td>Czech Republic</td><td>0</td><td>5</td><td>North Macedonia</td><td>North Macedonia</td><td>QF</td></tr><tr><td>12</td><td>Hungary</td><td>6</td><td>5</td><td>England</td><td>Hungary</td><td>QF</td></tr><tr><td>13</td><td>Germany</td><td>6</td><td>4</td><td>Wales</td><td>Germany</td><td>SF</td></tr><tr><td>14</td><td>North Macedonia</td><td>4</td><td>6</td><td>Hungary</td><td>Hungary</td><td>SF</td></tr></tbody></table></div>"
      ]
     },
     "metadata": {
      "application/vnd.databricks.v1+output": {
       "addedWidgets": {},
       "aggData": [],
       "aggError": "",
       "aggOverflow": false,
       "aggSchema": [],
       "aggSeriesLimitReached": false,
       "aggType": "",
       "arguments": {},
       "columnCustomDisplayInfos": {},
       "data": [
        [
         1,
         "Netherlands",
         3,
         6,
         "Germany",
         "Germany",
         "R16"
        ],
        [
         2,
         "Italy",
         1,
         1,
         "Croatia",
         "Croatia",
         "R16"
        ],
        [
         3,
         "Slovakia",
         0,
         1,
         "Switzerland",
         "Switzerland",
         "R16"
        ],
        [
         4,
         "Sweden",
         0,
         4,
         "Wales",
         "Wales",
         "R16"
        ],
        [
         5,
         "Czech Republic",
         5,
         1,
         "Portugal",
         "Czech Republic",
         "R16"
        ],
        [
         6,
         "Russia",
         0,
         1,
         "North Macedonia",
         "North Macedonia",
         "R16"
        ],
        [
         7,
         "Turkey",
         3,
         6,
         "Hungary",
         "Hungary",
         "R16"
        ],
        [
         8,
         "France",
         1,
         5,
         "England",
         "England",
         "R16"
        ],
        [
         9,
         "Germany",
         4,
         3,
         "Croatia",
         "Germany",
         "QF"
        ],
        [
         10,
         "Switzerland",
         3,
         4,
         "Wales",
         "Wales",
         "QF"
        ],
        [
         11,
         "Czech Republic",
         0,
         5,
         "North Macedonia",
         "North Macedonia",
         "QF"
        ],
        [
         12,
         "Hungary",
         6,
         5,
         "England",
         "Hungary",
         "QF"
        ],
        [
         13,
         "Germany",
         6,
         4,
         "Wales",
         "Germany",
         "SF"
        ],
        [
         14,
         "North Macedonia",
         4,
         6,
         "Hungary",
         "Hungary",
         "SF"
        ]
       ],
       "datasetInfos": [],
       "dbfsResultPath": null,
       "isJsonSchema": true,
       "metadata": {
        "isDbfsCommandResult": false
       },
       "overflow": false,
       "plotOptions": {
        "customPlotOptions": {},
        "displayType": "table",
        "pivotAggregation": null,
        "pivotColumns": null,
        "xColumns": null,
        "yColumns": null
       },
       "removedWidgets": [],
       "schema": [
        {
         "metadata": "{}",
         "name": "MatchID",
         "type": "\"integer\""
        },
        {
         "metadata": "{\"__CHAR_VARCHAR_TYPE_STRING\":\"varchar(53)\"}",
         "name": "Team1",
         "type": "\"string\""
        },
        {
         "metadata": "{}",
         "name": "Team1Goals",
         "type": "\"integer\""
        },
        {
         "metadata": "{}",
         "name": "Team2Goals",
         "type": "\"integer\""
        },
        {
         "metadata": "{\"__CHAR_VARCHAR_TYPE_STRING\":\"varchar(53)\"}",
         "name": "Team2",
         "type": "\"string\""
        },
        {
         "metadata": "{\"__CHAR_VARCHAR_TYPE_STRING\":\"varchar(53)\"}",
         "name": "MatchWinner",
         "type": "\"string\""
        },
        {
         "metadata": "{\"__CHAR_VARCHAR_TYPE_STRING\":\"varchar(20)\"}",
         "name": "MatchStage",
         "type": "\"string\""
        }
       ],
       "type": "table"
      }
     },
     "output_type": "display_data"
    }
   ],
   "source": [
    "%sql\n",
    "select * from EliminationMatches"
   ]
  },
  {
   "cell_type": "markdown",
   "metadata": {
    "application/vnd.databricks.v1+cell": {
     "cellMetadata": {},
     "inputWidgets": {},
     "nuid": "20403e42-f404-4d88-9e78-b2e918670b9c",
     "showTitle": false,
     "title": ""
    }
   },
   "source": [
    "Final Match, to declare winner of Euro cup "
   ]
  },
  {
   "cell_type": "code",
   "execution_count": 0,
   "metadata": {
    "application/vnd.databricks.v1+cell": {
     "cellMetadata": {
      "byteLimit": 2048000,
      "rowLimit": 10000
     },
     "inputWidgets": {},
     "nuid": "338ee14e-393c-4afc-93e1-3f9add68c398",
     "showTitle": false,
     "title": ""
    }
   },
   "outputs": [
    {
     "output_type": "display_data",
     "data": {
      "text/html": [
       "<style scoped>\n",
       "  .table-result-container {\n",
       "    max-height: 300px;\n",
       "    overflow: auto;\n",
       "  }\n",
       "  table, th, td {\n",
       "    border: 1px solid black;\n",
       "    border-collapse: collapse;\n",
       "  }\n",
       "  th, td {\n",
       "    padding: 5px;\n",
       "  }\n",
       "  th {\n",
       "    text-align: left;\n",
       "  }\n",
       "</style><div class='table-result-container'><table class='table-result'><thead style='background-color: white'><tr><th>num_affected_rows</th></tr></thead><tbody><tr><td>1</td></tr></tbody></table></div>"
      ]
     },
     "metadata": {
      "application/vnd.databricks.v1+output": {
       "addedWidgets": {},
       "aggData": [],
       "aggError": "",
       "aggOverflow": false,
       "aggSchema": [],
       "aggSeriesLimitReached": false,
       "aggType": "",
       "arguments": {},
       "columnCustomDisplayInfos": {},
       "data": [
        [
         1
        ]
       ],
       "datasetInfos": [],
       "dbfsResultPath": null,
       "isJsonSchema": true,
       "metadata": {
        "isDbfsCommandResult": false
       },
       "overflow": false,
       "plotOptions": {
        "customPlotOptions": {},
        "displayType": "table",
        "pivotAggregation": null,
        "pivotColumns": null,
        "xColumns": null,
        "yColumns": null
       },
       "removedWidgets": [],
       "schema": [
        {
         "metadata": "{}",
         "name": "num_affected_rows",
         "type": "\"long\""
        }
       ],
       "type": "table"
      }
     },
     "output_type": "display_data"
    }
   ],
   "source": [
    "%sql\n",
    "INSERT INTO EliminationMatches (MatchID, Team1, Team1Goals, Team2Goals, Team2, MatchWinner, MatchStage)\n",
    "SELECT\n",
    "    ROW_NUMBER() OVER (ORDER BY 1) + 14 AS MatchID,\n",
    "    t1.MatchWinner AS Team1,\n",
    "    ROUND(RAND() * 6) AS Team1Goals,\n",
    "    ROUND(RAND() * 6) AS Team2Goals,\n",
    "    t2.MatchWinner AS Team2,\n",
    "    'TBD' AS MatchWinner,\n",
    "    'Final' AS MatchStage\n",
    "\n",
    "FROM EliminationMatches t1\n",
    "CROSS JOIN EliminationMatches t2\n",
    "ON\n",
    "  (t1.MatchID = 13 AND t2.MatchId = 14);\n",
    "\n",
    "UPDATE EliminationMatches\n",
    "SET MatchWinner = \n",
    "    CASE\n",
    "        WHEN Team1Goals > Team2Goals THEN Team1\n",
    "        WHEN Team1Goals < Team2Goals THEN Team2\n",
    "        ELSE\n",
    "            CASE\n",
    "                WHEN Team1 < Team2 THEN Team1\n",
    "                ELSE Team2\n",
    "            END\n",
    "    END\n",
    "WHERE MatchStage = 'Final';\n"
   ]
  },
  {
   "cell_type": "code",
   "execution_count": 0,
   "metadata": {
    "application/vnd.databricks.v1+cell": {
     "cellMetadata": {
      "byteLimit": 2048000,
      "rowLimit": 10000
     },
     "inputWidgets": {},
     "nuid": "a7327611-b456-4fa4-ae73-2d1f61967fa5",
     "showTitle": false,
     "title": ""
    }
   },
   "outputs": [
    {
     "output_type": "display_data",
     "data": {
      "text/html": [
       "<style scoped>\n",
       "  .table-result-container {\n",
       "    max-height: 300px;\n",
       "    overflow: auto;\n",
       "  }\n",
       "  table, th, td {\n",
       "    border: 1px solid black;\n",
       "    border-collapse: collapse;\n",
       "  }\n",
       "  th, td {\n",
       "    padding: 5px;\n",
       "  }\n",
       "  th {\n",
       "    text-align: left;\n",
       "  }\n",
       "</style><div class='table-result-container'><table class='table-result'><thead style='background-color: white'><tr><th>MatchID</th><th>Team1</th><th>Team1Goals</th><th>Team2Goals</th><th>Team2</th><th>MatchWinner</th><th>MatchStage</th></tr></thead><tbody><tr><td>1</td><td>Netherlands</td><td>3</td><td>6</td><td>Germany</td><td>Germany</td><td>R16</td></tr><tr><td>2</td><td>Italy</td><td>1</td><td>1</td><td>Croatia</td><td>Croatia</td><td>R16</td></tr><tr><td>3</td><td>Slovakia</td><td>0</td><td>1</td><td>Switzerland</td><td>Switzerland</td><td>R16</td></tr><tr><td>4</td><td>Sweden</td><td>0</td><td>4</td><td>Wales</td><td>Wales</td><td>R16</td></tr><tr><td>5</td><td>Czech Republic</td><td>5</td><td>1</td><td>Portugal</td><td>Czech Republic</td><td>R16</td></tr><tr><td>6</td><td>Russia</td><td>0</td><td>1</td><td>North Macedonia</td><td>North Macedonia</td><td>R16</td></tr><tr><td>7</td><td>Turkey</td><td>3</td><td>6</td><td>Hungary</td><td>Hungary</td><td>R16</td></tr><tr><td>8</td><td>France</td><td>1</td><td>5</td><td>England</td><td>England</td><td>R16</td></tr><tr><td>9</td><td>Germany</td><td>4</td><td>3</td><td>Croatia</td><td>Germany</td><td>QF</td></tr><tr><td>10</td><td>Switzerland</td><td>3</td><td>4</td><td>Wales</td><td>Wales</td><td>QF</td></tr><tr><td>11</td><td>Czech Republic</td><td>0</td><td>5</td><td>North Macedonia</td><td>North Macedonia</td><td>QF</td></tr><tr><td>12</td><td>Hungary</td><td>6</td><td>5</td><td>England</td><td>Hungary</td><td>QF</td></tr><tr><td>13</td><td>Germany</td><td>6</td><td>4</td><td>Wales</td><td>Germany</td><td>SF</td></tr><tr><td>14</td><td>North Macedonia</td><td>4</td><td>6</td><td>Hungary</td><td>Hungary</td><td>SF</td></tr><tr><td>15</td><td>Germany</td><td>6</td><td>4</td><td>Hungary</td><td>Germany</td><td>Final</td></tr></tbody></table></div>"
      ]
     },
     "metadata": {
      "application/vnd.databricks.v1+output": {
       "addedWidgets": {},
       "aggData": [],
       "aggError": "",
       "aggOverflow": false,
       "aggSchema": [],
       "aggSeriesLimitReached": false,
       "aggType": "",
       "arguments": {},
       "columnCustomDisplayInfos": {},
       "data": [
        [
         1,
         "Netherlands",
         3,
         6,
         "Germany",
         "Germany",
         "R16"
        ],
        [
         2,
         "Italy",
         1,
         1,
         "Croatia",
         "Croatia",
         "R16"
        ],
        [
         3,
         "Slovakia",
         0,
         1,
         "Switzerland",
         "Switzerland",
         "R16"
        ],
        [
         4,
         "Sweden",
         0,
         4,
         "Wales",
         "Wales",
         "R16"
        ],
        [
         5,
         "Czech Republic",
         5,
         1,
         "Portugal",
         "Czech Republic",
         "R16"
        ],
        [
         6,
         "Russia",
         0,
         1,
         "North Macedonia",
         "North Macedonia",
         "R16"
        ],
        [
         7,
         "Turkey",
         3,
         6,
         "Hungary",
         "Hungary",
         "R16"
        ],
        [
         8,
         "France",
         1,
         5,
         "England",
         "England",
         "R16"
        ],
        [
         9,
         "Germany",
         4,
         3,
         "Croatia",
         "Germany",
         "QF"
        ],
        [
         10,
         "Switzerland",
         3,
         4,
         "Wales",
         "Wales",
         "QF"
        ],
        [
         11,
         "Czech Republic",
         0,
         5,
         "North Macedonia",
         "North Macedonia",
         "QF"
        ],
        [
         12,
         "Hungary",
         6,
         5,
         "England",
         "Hungary",
         "QF"
        ],
        [
         13,
         "Germany",
         6,
         4,
         "Wales",
         "Germany",
         "SF"
        ],
        [
         14,
         "North Macedonia",
         4,
         6,
         "Hungary",
         "Hungary",
         "SF"
        ],
        [
         15,
         "Germany",
         6,
         4,
         "Hungary",
         "Germany",
         "Final"
        ]
       ],
       "datasetInfos": [],
       "dbfsResultPath": null,
       "isJsonSchema": true,
       "metadata": {
        "isDbfsCommandResult": false
       },
       "overflow": false,
       "plotOptions": {
        "customPlotOptions": {},
        "displayType": "table",
        "pivotAggregation": null,
        "pivotColumns": null,
        "xColumns": null,
        "yColumns": null
       },
       "removedWidgets": [],
       "schema": [
        {
         "metadata": "{}",
         "name": "MatchID",
         "type": "\"integer\""
        },
        {
         "metadata": "{\"__CHAR_VARCHAR_TYPE_STRING\":\"varchar(53)\"}",
         "name": "Team1",
         "type": "\"string\""
        },
        {
         "metadata": "{}",
         "name": "Team1Goals",
         "type": "\"integer\""
        },
        {
         "metadata": "{}",
         "name": "Team2Goals",
         "type": "\"integer\""
        },
        {
         "metadata": "{\"__CHAR_VARCHAR_TYPE_STRING\":\"varchar(53)\"}",
         "name": "Team2",
         "type": "\"string\""
        },
        {
         "metadata": "{\"__CHAR_VARCHAR_TYPE_STRING\":\"varchar(53)\"}",
         "name": "MatchWinner",
         "type": "\"string\""
        },
        {
         "metadata": "{\"__CHAR_VARCHAR_TYPE_STRING\":\"varchar(20)\"}",
         "name": "MatchStage",
         "type": "\"string\""
        }
       ],
       "type": "table"
      }
     },
     "output_type": "display_data"
    }
   ],
   "source": [
    "%sql\n",
    "select * from EliminationMatches"
   ]
  },
  {
   "cell_type": "code",
   "execution_count": 0,
   "metadata": {
    "application/vnd.databricks.v1+cell": {
     "cellMetadata": {
      "byteLimit": 2048000,
      "rowLimit": 10000
     },
     "inputWidgets": {},
     "nuid": "aef6c922-4b6c-4f3f-8de2-f879c07dbc97",
     "showTitle": false,
     "title": ""
    }
   },
   "outputs": [
    {
     "output_type": "display_data",
     "data": {
      "text/html": [
       "<style scoped>\n",
       "  .table-result-container {\n",
       "    max-height: 300px;\n",
       "    overflow: auto;\n",
       "  }\n",
       "  table, th, td {\n",
       "    border: 1px solid black;\n",
       "    border-collapse: collapse;\n",
       "  }\n",
       "  th, td {\n",
       "    padding: 5px;\n",
       "  }\n",
       "  th {\n",
       "    text-align: left;\n",
       "  }\n",
       "</style><div class='table-result-container'><table class='table-result'><thead style='background-color: white'><tr><th>MatchID</th><th>Team1</th><th>Team1Goals</th><th>Team2Goals</th><th>Team2</th><th>MatchWinner</th><th>MatchStage</th></tr></thead><tbody><tr><td>1</td><td>Netherlands</td><td>3</td><td>6</td><td>Germany</td><td>Germany</td><td>R16</td></tr><tr><td>2</td><td>Italy</td><td>1</td><td>1</td><td>Croatia</td><td>Croatia</td><td>R16</td></tr><tr><td>3</td><td>Slovakia</td><td>0</td><td>1</td><td>Switzerland</td><td>Switzerland</td><td>R16</td></tr><tr><td>4</td><td>Sweden</td><td>0</td><td>4</td><td>Wales</td><td>Wales</td><td>R16</td></tr><tr><td>5</td><td>Czech Republic</td><td>5</td><td>1</td><td>Portugal</td><td>Czech Republic</td><td>R16</td></tr><tr><td>6</td><td>Russia</td><td>0</td><td>1</td><td>North Macedonia</td><td>North Macedonia</td><td>R16</td></tr><tr><td>7</td><td>Turkey</td><td>3</td><td>6</td><td>Hungary</td><td>Hungary</td><td>R16</td></tr><tr><td>8</td><td>France</td><td>1</td><td>5</td><td>England</td><td>England</td><td>R16</td></tr><tr><td>9</td><td>Germany</td><td>4</td><td>3</td><td>Croatia</td><td>Germany</td><td>QF</td></tr><tr><td>10</td><td>Switzerland</td><td>3</td><td>4</td><td>Wales</td><td>Wales</td><td>QF</td></tr><tr><td>11</td><td>Czech Republic</td><td>0</td><td>5</td><td>North Macedonia</td><td>North Macedonia</td><td>QF</td></tr><tr><td>12</td><td>Hungary</td><td>6</td><td>5</td><td>England</td><td>Hungary</td><td>QF</td></tr><tr><td>13</td><td>Germany</td><td>6</td><td>4</td><td>Wales</td><td>Germany</td><td>SF</td></tr><tr><td>14</td><td>North Macedonia</td><td>4</td><td>6</td><td>Hungary</td><td>Hungary</td><td>SF</td></tr><tr><td>15</td><td>Germany</td><td>6</td><td>4</td><td>Hungary</td><td>Germany</td><td>Final</td></tr></tbody></table></div>"
      ]
     },
     "metadata": {
      "application/vnd.databricks.v1+output": {
       "addedWidgets": {},
       "aggData": [],
       "aggError": "",
       "aggOverflow": false,
       "aggSchema": [],
       "aggSeriesLimitReached": false,
       "aggType": "",
       "arguments": {},
       "columnCustomDisplayInfos": {},
       "data": [
        [
         1,
         "Netherlands",
         3,
         6,
         "Germany",
         "Germany",
         "R16"
        ],
        [
         2,
         "Italy",
         1,
         1,
         "Croatia",
         "Croatia",
         "R16"
        ],
        [
         3,
         "Slovakia",
         0,
         1,
         "Switzerland",
         "Switzerland",
         "R16"
        ],
        [
         4,
         "Sweden",
         0,
         4,
         "Wales",
         "Wales",
         "R16"
        ],
        [
         5,
         "Czech Republic",
         5,
         1,
         "Portugal",
         "Czech Republic",
         "R16"
        ],
        [
         6,
         "Russia",
         0,
         1,
         "North Macedonia",
         "North Macedonia",
         "R16"
        ],
        [
         7,
         "Turkey",
         3,
         6,
         "Hungary",
         "Hungary",
         "R16"
        ],
        [
         8,
         "France",
         1,
         5,
         "England",
         "England",
         "R16"
        ],
        [
         9,
         "Germany",
         4,
         3,
         "Croatia",
         "Germany",
         "QF"
        ],
        [
         10,
         "Switzerland",
         3,
         4,
         "Wales",
         "Wales",
         "QF"
        ],
        [
         11,
         "Czech Republic",
         0,
         5,
         "North Macedonia",
         "North Macedonia",
         "QF"
        ],
        [
         12,
         "Hungary",
         6,
         5,
         "England",
         "Hungary",
         "QF"
        ],
        [
         13,
         "Germany",
         6,
         4,
         "Wales",
         "Germany",
         "SF"
        ],
        [
         14,
         "North Macedonia",
         4,
         6,
         "Hungary",
         "Hungary",
         "SF"
        ],
        [
         15,
         "Germany",
         6,
         4,
         "Hungary",
         "Germany",
         "Final"
        ]
       ],
       "datasetInfos": [],
       "dbfsResultPath": null,
       "isJsonSchema": true,
       "metadata": {
        "isDbfsCommandResult": false
       },
       "overflow": false,
       "plotOptions": {
        "customPlotOptions": {},
        "displayType": "table",
        "pivotAggregation": null,
        "pivotColumns": null,
        "xColumns": null,
        "yColumns": null
       },
       "removedWidgets": [],
       "schema": [
        {
         "metadata": "{}",
         "name": "MatchID",
         "type": "\"integer\""
        },
        {
         "metadata": "{\"__CHAR_VARCHAR_TYPE_STRING\":\"varchar(53)\"}",
         "name": "Team1",
         "type": "\"string\""
        },
        {
         "metadata": "{}",
         "name": "Team1Goals",
         "type": "\"integer\""
        },
        {
         "metadata": "{}",
         "name": "Team2Goals",
         "type": "\"integer\""
        },
        {
         "metadata": "{\"__CHAR_VARCHAR_TYPE_STRING\":\"varchar(53)\"}",
         "name": "Team2",
         "type": "\"string\""
        },
        {
         "metadata": "{\"__CHAR_VARCHAR_TYPE_STRING\":\"varchar(53)\"}",
         "name": "MatchWinner",
         "type": "\"string\""
        },
        {
         "metadata": "{\"__CHAR_VARCHAR_TYPE_STRING\":\"varchar(20)\"}",
         "name": "MatchStage",
         "type": "\"string\""
        }
       ],
       "type": "table"
      }
     },
     "output_type": "display_data"
    }
   ],
   "source": [
    "%sql\n",
    "select * from EliminationMatches"
   ]
  },
  {
   "cell_type": "markdown",
   "metadata": {
    "application/vnd.databricks.v1+cell": {
     "cellMetadata": {},
     "inputWidgets": {},
     "nuid": "acb97eab-1836-4385-ade7-aeaab0d24c7a",
     "showTitle": false,
     "title": ""
    }
   },
   "source": [
    "Matches for thirdplace  playoff"
   ]
  },
  {
   "cell_type": "code",
   "execution_count": 0,
   "metadata": {
    "application/vnd.databricks.v1+cell": {
     "cellMetadata": {
      "byteLimit": 2048000,
      "rowLimit": 10000
     },
     "inputWidgets": {},
     "nuid": "1b63d52c-c04a-4d93-bf7c-fc05533fdb92",
     "showTitle": false,
     "title": ""
    }
   },
   "outputs": [
    {
     "output_type": "display_data",
     "data": {
      "text/html": [
       "<style scoped>\n",
       "  .table-result-container {\n",
       "    max-height: 300px;\n",
       "    overflow: auto;\n",
       "  }\n",
       "  table, th, td {\n",
       "    border: 1px solid black;\n",
       "    border-collapse: collapse;\n",
       "  }\n",
       "  th, td {\n",
       "    padding: 5px;\n",
       "  }\n",
       "  th {\n",
       "    text-align: left;\n",
       "  }\n",
       "</style><div class='table-result-container'><table class='table-result'><thead style='background-color: white'><tr><th>num_affected_rows</th></tr></thead><tbody><tr><td>1</td></tr></tbody></table></div>"
      ]
     },
     "metadata": {
      "application/vnd.databricks.v1+output": {
       "addedWidgets": {},
       "aggData": [],
       "aggError": "",
       "aggOverflow": false,
       "aggSchema": [],
       "aggSeriesLimitReached": false,
       "aggType": "",
       "arguments": {},
       "columnCustomDisplayInfos": {},
       "data": [
        [
         1
        ]
       ],
       "datasetInfos": [],
       "dbfsResultPath": null,
       "isJsonSchema": true,
       "metadata": {
        "isDbfsCommandResult": false
       },
       "overflow": false,
       "plotOptions": {
        "customPlotOptions": {},
        "displayType": "table",
        "pivotAggregation": null,
        "pivotColumns": null,
        "xColumns": null,
        "yColumns": null
       },
       "removedWidgets": [],
       "schema": [
        {
         "metadata": "{}",
         "name": "num_affected_rows",
         "type": "\"long\""
        }
       ],
       "type": "table"
      }
     },
     "output_type": "display_data"
    }
   ],
   "source": [
    "%sql\n",
    "-- Inserting Third Place Playoff\n",
    "INSERT INTO EliminationMatches (MatchID, Team1, Team1Goals, Team2Goals, Team2, MatchWinner, MatchStage)\n",
    "SELECT\n",
    "    ROW_NUMBER() OVER (ORDER BY 1) + 16 AS MatchID,\n",
    "    CASE\n",
    "        WHEN t1.Team1Goals < t1.Team2Goals THEN t1.Team1\n",
    "        ELSE t1.Team2\n",
    "    END AS Team1,\n",
    "    ROUND(RAND() * 6) AS Team1Goals,\n",
    "    ROUND(RAND() * 6) AS Team2Goals,\n",
    "    CASE\n",
    "        WHEN t2.Team1Goals < t2.Team2Goals THEN t2.Team1\n",
    "        ELSE t2.Team2\n",
    "    END AS Team2,\n",
    "    'TBD' AS MatchWinner,\n",
    "    '3rd Place' AS MatchStage\n",
    "FROM EliminationMatches t1\n",
    "JOIN EliminationMatches t2 ON (t1.MatchID = 13 AND t2.MatchId = 14);\n",
    "\n",
    "-- Updating Third Place Playoff Winner\n",
    "UPDATE EliminationMatches\n",
    "SET MatchWinner = \n",
    "    CASE\n",
    "        WHEN Team1Goals > Team2Goals THEN Team1\n",
    "        WHEN Team1Goals < Team2Goals THEN Team2\n",
    "        ELSE\n",
    "            CASE\n",
    "                WHEN Team1 < Team2 THEN Team1\n",
    "                ELSE Team2\n",
    "            END\n",
    "    END\n",
    "WHERE MatchStage = '3rd Place';\n"
   ]
  },
  {
   "cell_type": "code",
   "execution_count": 0,
   "metadata": {
    "application/vnd.databricks.v1+cell": {
     "cellMetadata": {
      "byteLimit": 2048000,
      "rowLimit": 10000
     },
     "inputWidgets": {},
     "nuid": "4ebe82c1-94d5-4d93-9cf6-72319911c172",
     "showTitle": false,
     "title": ""
    }
   },
   "outputs": [
    {
     "output_type": "display_data",
     "data": {
      "text/html": [
       "<style scoped>\n",
       "  .table-result-container {\n",
       "    max-height: 300px;\n",
       "    overflow: auto;\n",
       "  }\n",
       "  table, th, td {\n",
       "    border: 1px solid black;\n",
       "    border-collapse: collapse;\n",
       "  }\n",
       "  th, td {\n",
       "    padding: 5px;\n",
       "  }\n",
       "  th {\n",
       "    text-align: left;\n",
       "  }\n",
       "</style><div class='table-result-container'><table class='table-result'><thead style='background-color: white'><tr><th>MatchID</th><th>Team1</th><th>Team1Goals</th><th>Team2Goals</th><th>Team2</th><th>MatchWinner</th><th>MatchStage</th></tr></thead><tbody><tr><td>1</td><td>Netherlands</td><td>3</td><td>6</td><td>Germany</td><td>Germany</td><td>R16</td></tr><tr><td>2</td><td>Italy</td><td>1</td><td>1</td><td>Croatia</td><td>Croatia</td><td>R16</td></tr><tr><td>3</td><td>Slovakia</td><td>0</td><td>1</td><td>Switzerland</td><td>Switzerland</td><td>R16</td></tr><tr><td>4</td><td>Sweden</td><td>0</td><td>4</td><td>Wales</td><td>Wales</td><td>R16</td></tr><tr><td>5</td><td>Czech Republic</td><td>5</td><td>1</td><td>Portugal</td><td>Czech Republic</td><td>R16</td></tr><tr><td>6</td><td>Russia</td><td>0</td><td>1</td><td>North Macedonia</td><td>North Macedonia</td><td>R16</td></tr><tr><td>7</td><td>Turkey</td><td>3</td><td>6</td><td>Hungary</td><td>Hungary</td><td>R16</td></tr><tr><td>8</td><td>France</td><td>1</td><td>5</td><td>England</td><td>England</td><td>R16</td></tr><tr><td>9</td><td>Germany</td><td>4</td><td>3</td><td>Croatia</td><td>Germany</td><td>QF</td></tr><tr><td>10</td><td>Switzerland</td><td>3</td><td>4</td><td>Wales</td><td>Wales</td><td>QF</td></tr><tr><td>11</td><td>Czech Republic</td><td>0</td><td>5</td><td>North Macedonia</td><td>North Macedonia</td><td>QF</td></tr><tr><td>12</td><td>Hungary</td><td>6</td><td>5</td><td>England</td><td>Hungary</td><td>QF</td></tr><tr><td>17</td><td>Wales</td><td>4</td><td>2</td><td>North Macedonia</td><td>Wales</td><td>3rd Place</td></tr><tr><td>13</td><td>Germany</td><td>6</td><td>4</td><td>Wales</td><td>Germany</td><td>SF</td></tr><tr><td>14</td><td>North Macedonia</td><td>4</td><td>6</td><td>Hungary</td><td>Hungary</td><td>SF</td></tr><tr><td>15</td><td>Germany</td><td>6</td><td>4</td><td>Hungary</td><td>Germany</td><td>Final</td></tr></tbody></table></div>"
      ]
     },
     "metadata": {
      "application/vnd.databricks.v1+output": {
       "addedWidgets": {},
       "aggData": [],
       "aggError": "",
       "aggOverflow": false,
       "aggSchema": [],
       "aggSeriesLimitReached": false,
       "aggType": "",
       "arguments": {},
       "columnCustomDisplayInfos": {},
       "data": [
        [
         1,
         "Netherlands",
         3,
         6,
         "Germany",
         "Germany",
         "R16"
        ],
        [
         2,
         "Italy",
         1,
         1,
         "Croatia",
         "Croatia",
         "R16"
        ],
        [
         3,
         "Slovakia",
         0,
         1,
         "Switzerland",
         "Switzerland",
         "R16"
        ],
        [
         4,
         "Sweden",
         0,
         4,
         "Wales",
         "Wales",
         "R16"
        ],
        [
         5,
         "Czech Republic",
         5,
         1,
         "Portugal",
         "Czech Republic",
         "R16"
        ],
        [
         6,
         "Russia",
         0,
         1,
         "North Macedonia",
         "North Macedonia",
         "R16"
        ],
        [
         7,
         "Turkey",
         3,
         6,
         "Hungary",
         "Hungary",
         "R16"
        ],
        [
         8,
         "France",
         1,
         5,
         "England",
         "England",
         "R16"
        ],
        [
         9,
         "Germany",
         4,
         3,
         "Croatia",
         "Germany",
         "QF"
        ],
        [
         10,
         "Switzerland",
         3,
         4,
         "Wales",
         "Wales",
         "QF"
        ],
        [
         11,
         "Czech Republic",
         0,
         5,
         "North Macedonia",
         "North Macedonia",
         "QF"
        ],
        [
         12,
         "Hungary",
         6,
         5,
         "England",
         "Hungary",
         "QF"
        ],
        [
         17,
         "Wales",
         4,
         2,
         "North Macedonia",
         "Wales",
         "3rd Place"
        ],
        [
         13,
         "Germany",
         6,
         4,
         "Wales",
         "Germany",
         "SF"
        ],
        [
         14,
         "North Macedonia",
         4,
         6,
         "Hungary",
         "Hungary",
         "SF"
        ],
        [
         15,
         "Germany",
         6,
         4,
         "Hungary",
         "Germany",
         "Final"
        ]
       ],
       "datasetInfos": [],
       "dbfsResultPath": null,
       "isJsonSchema": true,
       "metadata": {
        "isDbfsCommandResult": false
       },
       "overflow": false,
       "plotOptions": {
        "customPlotOptions": {},
        "displayType": "table",
        "pivotAggregation": null,
        "pivotColumns": null,
        "xColumns": null,
        "yColumns": null
       },
       "removedWidgets": [],
       "schema": [
        {
         "metadata": "{}",
         "name": "MatchID",
         "type": "\"integer\""
        },
        {
         "metadata": "{\"__CHAR_VARCHAR_TYPE_STRING\":\"varchar(53)\"}",
         "name": "Team1",
         "type": "\"string\""
        },
        {
         "metadata": "{}",
         "name": "Team1Goals",
         "type": "\"integer\""
        },
        {
         "metadata": "{}",
         "name": "Team2Goals",
         "type": "\"integer\""
        },
        {
         "metadata": "{\"__CHAR_VARCHAR_TYPE_STRING\":\"varchar(53)\"}",
         "name": "Team2",
         "type": "\"string\""
        },
        {
         "metadata": "{\"__CHAR_VARCHAR_TYPE_STRING\":\"varchar(53)\"}",
         "name": "MatchWinner",
         "type": "\"string\""
        },
        {
         "metadata": "{\"__CHAR_VARCHAR_TYPE_STRING\":\"varchar(20)\"}",
         "name": "MatchStage",
         "type": "\"string\""
        }
       ],
       "type": "table"
      }
     },
     "output_type": "display_data"
    }
   ],
   "source": [
    "%sql\n",
    "select * from EliminationMatches"
   ]
  },
  {
   "cell_type": "code",
   "execution_count": 0,
   "metadata": {
    "application/vnd.databricks.v1+cell": {
     "cellMetadata": {},
     "inputWidgets": {},
     "nuid": "47c191ab-67fb-4b24-9eae-d3583d54d3ee",
     "showTitle": false,
     "title": ""
    }
   },
   "outputs": [],
   "source": []
  }
 ],
 "metadata": {
  "application/vnd.databricks.v1+notebook": {
   "dashboards": [],
   "language": "python",
   "notebookMetadata": {
    "pythonIndentUnit": 4
   },
   "notebookName": "EuroCup 2",
   "widgets": {}
  }
 },
 "nbformat": 4,
 "nbformat_minor": 0
}
