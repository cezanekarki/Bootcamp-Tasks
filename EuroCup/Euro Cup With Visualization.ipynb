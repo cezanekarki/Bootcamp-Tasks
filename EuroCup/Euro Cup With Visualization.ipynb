{
 "cells": [
  {
   "cell_type": "markdown",
   "metadata": {
    "application/vnd.databricks.v1+cell": {
     "cellMetadata": {
      "byteLimit": 2048000,
      "rowLimit": 10000
     },
     "inputWidgets": {},
     "nuid": "e5a28bc2-28de-4274-b9f2-a80e11c51666",
     "showTitle": false,
     "title": ""
    }
   },
   "source": [
    "##Prepare a Euro 2024 Group Stage and knockout stage with random goal values with less number of tables as possible."
   ]
  },
  {
   "cell_type": "code",
   "execution_count": 0,
   "metadata": {
    "application/vnd.databricks.v1+cell": {
     "cellMetadata": {
      "byteLimit": 2048000,
      "rowLimit": 10000
     },
     "inputWidgets": {},
     "nuid": "ff9f536f-2c46-4705-8e20-e68788fc4c55",
     "showTitle": false,
     "title": ""
    }
   },
   "outputs": [
    {
     "output_type": "stream",
     "name": "stdout",
     "output_type": "stream",
     "text": [
      "Out[495]: True"
     ]
    }
   ],
   "source": [
    "%python\n",
    "dbutils.fs.rm(\"dbfs:/user/hive/warehouse/teamseuro\", recurse=True)\n",
    "\n"
   ]
  },
  {
   "cell_type": "code",
   "execution_count": 0,
   "metadata": {
    "application/vnd.databricks.v1+cell": {
     "cellMetadata": {
      "byteLimit": 2048000,
      "implicitDf": true,
      "rowLimit": 10000
     },
     "inputWidgets": {},
     "nuid": "8f3b64bc-549a-47b6-ba75-3f8dfa812bb8",
     "showTitle": false,
     "title": ""
    }
   },
   "outputs": [
    {
     "output_type": "display_data",
     "data": {
      "text/html": [
       "<style scoped>\n",
       "  .table-result-container {\n",
       "    max-height: 300px;\n",
       "    overflow: auto;\n",
       "  }\n",
       "  table, th, td {\n",
       "    border: 1px solid black;\n",
       "    border-collapse: collapse;\n",
       "  }\n",
       "  th, td {\n",
       "    padding: 5px;\n",
       "  }\n",
       "  th {\n",
       "    text-align: left;\n",
       "  }\n",
       "</style><div class='table-result-container'><table class='table-result'><thead style='background-color: white'><tr></tr></thead><tbody></tbody></table></div>"
      ]
     },
     "metadata": {
      "application/vnd.databricks.v1+output": {
       "addedWidgets": {},
       "aggData": [],
       "aggError": "",
       "aggOverflow": false,
       "aggSchema": [],
       "aggSeriesLimitReached": false,
       "aggType": "",
       "arguments": {},
       "columnCustomDisplayInfos": {},
       "data": [],
       "datasetInfos": [],
       "dbfsResultPath": null,
       "isJsonSchema": true,
       "metadata": {},
       "overflow": false,
       "plotOptions": {
        "customPlotOptions": {},
        "displayType": "table",
        "pivotAggregation": null,
        "pivotColumns": null,
        "xColumns": null,
        "yColumns": null
       },
       "removedWidgets": [],
       "schema": [],
       "type": "table"
      }
     },
     "output_type": "display_data"
    }
   ],
   "source": [
    "%sql\n",
    " DROP TABLE IF EXISTS TeamsEuro;\n",
    " Drop TABLE IF EXISTS ThirdPlacementCombinations;\n",
    " Drop TABLE IF EXISTS EliminationMatches;\n",
    "\n",
    " "
   ]
  },
  {
   "cell_type": "code",
   "execution_count": 0,
   "metadata": {
    "application/vnd.databricks.v1+cell": {
     "cellMetadata": {
      "byteLimit": 2048000,
      "implicitDf": true,
      "rowLimit": 10000
     },
     "inputWidgets": {},
     "nuid": "7cc143e8-535e-4f84-a9d0-cd36a313b9a9",
     "showTitle": false,
     "title": ""
    }
   },
   "outputs": [
    {
     "output_type": "display_data",
     "data": {
      "text/html": [
       "<style scoped>\n",
       "  .table-result-container {\n",
       "    max-height: 300px;\n",
       "    overflow: auto;\n",
       "  }\n",
       "  table, th, td {\n",
       "    border: 1px solid black;\n",
       "    border-collapse: collapse;\n",
       "  }\n",
       "  th, td {\n",
       "    padding: 5px;\n",
       "  }\n",
       "  th {\n",
       "    text-align: left;\n",
       "  }\n",
       "</style><div class='table-result-container'><table class='table-result'><thead style='background-color: white'><tr><th>num_affected_rows</th><th>num_inserted_rows</th></tr></thead><tbody><tr><td>24</td><td>24</td></tr></tbody></table></div>"
      ]
     },
     "metadata": {
      "application/vnd.databricks.v1+output": {
       "addedWidgets": {},
       "aggData": [],
       "aggError": "",
       "aggOverflow": false,
       "aggSchema": [],
       "aggSeriesLimitReached": false,
       "aggType": "",
       "arguments": {},
       "columnCustomDisplayInfos": {},
       "data": [
        [
         24,
         24
        ]
       ],
       "datasetInfos": [],
       "dbfsResultPath": null,
       "isJsonSchema": true,
       "metadata": {},
       "overflow": false,
       "plotOptions": {
        "customPlotOptions": {},
        "displayType": "table",
        "pivotAggregation": null,
        "pivotColumns": null,
        "xColumns": null,
        "yColumns": null
       },
       "removedWidgets": [],
       "schema": [
        {
         "metadata": "{}",
         "name": "num_affected_rows",
         "type": "\"long\""
        },
        {
         "metadata": "{}",
         "name": "num_inserted_rows",
         "type": "\"long\""
        }
       ],
       "type": "table"
      }
     },
     "output_type": "display_data"
    }
   ],
   "source": [
    "%sql\n",
    "-- Create Teams table\n",
    "CREATE OR REPLACE TABLE TeamsEuro (\n",
    "    TeamID INT,\n",
    "    TeamName STRING,\n",
    "    GroupName STRING\n",
    ");\n",
    "\n",
    "-- Insert data into Teams table\n",
    "INSERT INTO TeamsEuro VALUES\n",
    "    (1, 'France', 'A'),\n",
    "    (2, 'Germany', 'A'),\n",
    "    (3, 'Spain', 'A'),\n",
    "    (4, 'Italy', 'A'),\n",
    "    (5, 'Portugal', 'B'),\n",
    "    (6, 'England', 'B'),\n",
    "    (7, 'Netherlands', 'B'),\n",
    "    (8, 'Belgium', 'B'),\n",
    "    (9, 'Croatia', 'C'),\n",
    "    (10, 'Poland', 'C'),\n",
    "    (11, 'Switzerland', 'C'),\n",
    "    (12, 'Turkey', 'C'),\n",
    "    (13, 'Sweden', 'D'),\n",
    "    (14, 'Denmark', 'D'),\n",
    "    (15, 'Russia', 'D'),\n",
    "    (16, 'Austria', 'D'),\n",
    "    (17, 'Ukraine', 'E'),\n",
    "    (18, 'Wales', 'E'),\n",
    "    (19, 'Scotland', 'E'),\n",
    "    (20, 'Czech Republic', 'E'),\n",
    "    (21, 'Slovakia', 'F'),\n",
    "    (22, 'Hungary', 'F'),\n",
    "    (23, 'Finland', 'F'),\n",
    "    (24, 'North Macedonia', 'F');\n"
   ]
  },
  {
   "cell_type": "code",
   "execution_count": 0,
   "metadata": {
    "application/vnd.databricks.v1+cell": {
     "cellMetadata": {
      "byteLimit": 2048000,
      "implicitDf": true,
      "rowLimit": 10000
     },
     "inputWidgets": {},
     "nuid": "34919158-f1d0-459f-bfd1-191bcb7ad90a",
     "showTitle": false,
     "title": ""
    }
   },
   "outputs": [
    {
     "output_type": "display_data",
     "data": {
      "text/html": [
       "<style scoped>\n",
       "  .table-result-container {\n",
       "    max-height: 300px;\n",
       "    overflow: auto;\n",
       "  }\n",
       "  table, th, td {\n",
       "    border: 1px solid black;\n",
       "    border-collapse: collapse;\n",
       "  }\n",
       "  th, td {\n",
       "    padding: 5px;\n",
       "  }\n",
       "  th {\n",
       "    text-align: left;\n",
       "  }\n",
       "</style><div class='table-result-container'><table class='table-result'><thead style='background-color: white'><tr><th>TeamID</th><th>TeamName</th><th>GroupName</th></tr></thead><tbody><tr><td>1</td><td>France</td><td>A</td></tr><tr><td>2</td><td>Germany</td><td>A</td></tr><tr><td>3</td><td>Spain</td><td>A</td></tr><tr><td>4</td><td>Italy</td><td>A</td></tr><tr><td>5</td><td>Portugal</td><td>B</td></tr><tr><td>6</td><td>England</td><td>B</td></tr><tr><td>7</td><td>Netherlands</td><td>B</td></tr><tr><td>8</td><td>Belgium</td><td>B</td></tr><tr><td>9</td><td>Croatia</td><td>C</td></tr><tr><td>10</td><td>Poland</td><td>C</td></tr><tr><td>11</td><td>Switzerland</td><td>C</td></tr><tr><td>12</td><td>Turkey</td><td>C</td></tr><tr><td>13</td><td>Sweden</td><td>D</td></tr><tr><td>14</td><td>Denmark</td><td>D</td></tr><tr><td>15</td><td>Russia</td><td>D</td></tr><tr><td>16</td><td>Austria</td><td>D</td></tr><tr><td>17</td><td>Ukraine</td><td>E</td></tr><tr><td>18</td><td>Wales</td><td>E</td></tr><tr><td>19</td><td>Scotland</td><td>E</td></tr><tr><td>20</td><td>Czech Republic</td><td>E</td></tr><tr><td>21</td><td>Slovakia</td><td>F</td></tr><tr><td>22</td><td>Hungary</td><td>F</td></tr><tr><td>23</td><td>Finland</td><td>F</td></tr><tr><td>24</td><td>North Macedonia</td><td>F</td></tr></tbody></table></div>"
      ]
     },
     "metadata": {
      "application/vnd.databricks.v1+output": {
       "addedWidgets": {},
       "aggData": [],
       "aggError": "",
       "aggOverflow": false,
       "aggSchema": [],
       "aggSeriesLimitReached": false,
       "aggType": "",
       "arguments": {},
       "columnCustomDisplayInfos": {},
       "data": [
        [
         1,
         "France",
         "A"
        ],
        [
         2,
         "Germany",
         "A"
        ],
        [
         3,
         "Spain",
         "A"
        ],
        [
         4,
         "Italy",
         "A"
        ],
        [
         5,
         "Portugal",
         "B"
        ],
        [
         6,
         "England",
         "B"
        ],
        [
         7,
         "Netherlands",
         "B"
        ],
        [
         8,
         "Belgium",
         "B"
        ],
        [
         9,
         "Croatia",
         "C"
        ],
        [
         10,
         "Poland",
         "C"
        ],
        [
         11,
         "Switzerland",
         "C"
        ],
        [
         12,
         "Turkey",
         "C"
        ],
        [
         13,
         "Sweden",
         "D"
        ],
        [
         14,
         "Denmark",
         "D"
        ],
        [
         15,
         "Russia",
         "D"
        ],
        [
         16,
         "Austria",
         "D"
        ],
        [
         17,
         "Ukraine",
         "E"
        ],
        [
         18,
         "Wales",
         "E"
        ],
        [
         19,
         "Scotland",
         "E"
        ],
        [
         20,
         "Czech Republic",
         "E"
        ],
        [
         21,
         "Slovakia",
         "F"
        ],
        [
         22,
         "Hungary",
         "F"
        ],
        [
         23,
         "Finland",
         "F"
        ],
        [
         24,
         "North Macedonia",
         "F"
        ]
       ],
       "datasetInfos": [],
       "dbfsResultPath": null,
       "isJsonSchema": true,
       "metadata": {},
       "overflow": false,
       "plotOptions": {
        "customPlotOptions": {},
        "displayType": "table",
        "pivotAggregation": null,
        "pivotColumns": null,
        "xColumns": null,
        "yColumns": null
       },
       "removedWidgets": [],
       "schema": [
        {
         "metadata": "{}",
         "name": "TeamID",
         "type": "\"integer\""
        },
        {
         "metadata": "{}",
         "name": "TeamName",
         "type": "\"string\""
        },
        {
         "metadata": "{}",
         "name": "GroupName",
         "type": "\"string\""
        }
       ],
       "type": "table"
      }
     },
     "output_type": "display_data"
    }
   ],
   "source": [
    "%sql\n",
    "select * from TeamsEuro"
   ]
  },
  {
   "cell_type": "markdown",
   "metadata": {
    "application/vnd.databricks.v1+cell": {
     "cellMetadata": {
      "byteLimit": 2048000,
      "rowLimit": 10000
     },
     "inputWidgets": {},
     "nuid": "c1ba6a1c-a6b3-4351-a6ca-2ce3f4c8458c",
     "showTitle": false,
     "title": ""
    }
   },
   "source": [
    "##Creating a table for group stage matches with a random goals.and declaring a winner "
   ]
  },
  {
   "cell_type": "code",
   "execution_count": 0,
   "metadata": {
    "application/vnd.databricks.v1+cell": {
     "cellMetadata": {
      "byteLimit": 2048000,
      "implicitDf": true,
      "rowLimit": 10000
     },
     "inputWidgets": {},
     "nuid": "447ebf88-4f33-47ec-901c-e2228a192d5d",
     "showTitle": false,
     "title": ""
    }
   },
   "outputs": [
    {
     "output_type": "display_data",
     "data": {
      "text/html": [
       "<style scoped>\n",
       "  .table-result-container {\n",
       "    max-height: 300px;\n",
       "    overflow: auto;\n",
       "  }\n",
       "  table, th, td {\n",
       "    border: 1px solid black;\n",
       "    border-collapse: collapse;\n",
       "  }\n",
       "  th, td {\n",
       "    padding: 5px;\n",
       "  }\n",
       "  th {\n",
       "    text-align: left;\n",
       "  }\n",
       "</style><div class='table-result-container'><table class='table-result'><thead style='background-color: white'><tr><th>num_affected_rows</th><th>num_inserted_rows</th></tr></thead><tbody></tbody></table></div>"
      ]
     },
     "metadata": {
      "application/vnd.databricks.v1+output": {
       "addedWidgets": {},
       "aggData": [],
       "aggError": "",
       "aggOverflow": false,
       "aggSchema": [],
       "aggSeriesLimitReached": false,
       "aggType": "",
       "arguments": {},
       "columnCustomDisplayInfos": {},
       "data": [],
       "datasetInfos": [],
       "dbfsResultPath": null,
       "isJsonSchema": true,
       "metadata": {},
       "overflow": false,
       "plotOptions": {
        "customPlotOptions": {},
        "displayType": "table",
        "pivotAggregation": null,
        "pivotColumns": null,
        "xColumns": null,
        "yColumns": null
       },
       "removedWidgets": [],
       "schema": [
        {
         "metadata": "{}",
         "name": "num_affected_rows",
         "type": "\"long\""
        },
        {
         "metadata": "{}",
         "name": "num_inserted_rows",
         "type": "\"long\""
        }
       ],
       "type": "table"
      }
     },
     "output_type": "display_data"
    }
   ],
   "source": [
    "%sql\n",
    "-- Create GroupStageMatches table\n",
    "CREATE OR REPLACE TABLE GroupStageMatche AS\n",
    "SELECT\n",
    "    t1.TeamID AS Team1ID,\n",
    "    t1.TeamName AS Team1Name,\n",
    "    t1.GroupName AS Team1Group,\n",
    "    t2.TeamID AS Team2ID,\n",
    "    t2.TeamName AS Team2Name,\n",
    "    t2.GroupName AS Team2Group,\n",
    "    ROUND(RAND() * 5) AS Team1Goals,  -- Random goal value for Team1\n",
    "    ROUND(RAND() * 5) AS Team2Goals,   -- Random goal value for Team2\n",
    "    CASE\n",
    "        WHEN Team1Goals > Team2Goals THEN t1.TeamName\n",
    "        WHEN Team2Goals > Team1Goals THEN t2.TeamName\n",
    "        ELSE \"Draw\"\n",
    "    END AS Winner\n",
    "FROM\n",
    "    TeamsEuro t1\n",
    "CROSS JOIN\n",
    "    TeamsEuro t2\n",
    "WHERE\n",
    "    t1.GroupName = t2.GroupName\n",
    "    AND t1.TeamID < t2.TeamID;  -- Avoid duplicate matches and self-matches\n"
   ]
  },
  {
   "cell_type": "code",
   "execution_count": 0,
   "metadata": {
    "application/vnd.databricks.v1+cell": {
     "cellMetadata": {
      "byteLimit": 2048000,
      "implicitDf": true,
      "rowLimit": 10000
     },
     "inputWidgets": {},
     "nuid": "f3f33a21-6474-409e-bfc3-2bc907232adb",
     "showTitle": false,
     "title": ""
    }
   },
   "outputs": [
    {
     "output_type": "display_data",
     "data": {
      "text/html": [
       "<style scoped>\n",
       "  .table-result-container {\n",
       "    max-height: 300px;\n",
       "    overflow: auto;\n",
       "  }\n",
       "  table, th, td {\n",
       "    border: 1px solid black;\n",
       "    border-collapse: collapse;\n",
       "  }\n",
       "  th, td {\n",
       "    padding: 5px;\n",
       "  }\n",
       "  th {\n",
       "    text-align: left;\n",
       "  }\n",
       "</style><div class='table-result-container'><table class='table-result'><thead style='background-color: white'><tr><th>Team1ID</th><th>Team1Name</th><th>Team1Group</th><th>Team2ID</th><th>Team2Name</th><th>Team2Group</th><th>Team1Goals</th><th>Team2Goals</th><th>Winner</th></tr></thead><tbody><tr><td>1</td><td>France</td><td>A</td><td>4</td><td>Italy</td><td>A</td><td>4.0</td><td>2.0</td><td>France</td></tr><tr><td>1</td><td>France</td><td>A</td><td>3</td><td>Spain</td><td>A</td><td>4.0</td><td>2.0</td><td>France</td></tr><tr><td>1</td><td>France</td><td>A</td><td>2</td><td>Germany</td><td>A</td><td>4.0</td><td>4.0</td><td>Draw</td></tr><tr><td>2</td><td>Germany</td><td>A</td><td>4</td><td>Italy</td><td>A</td><td>2.0</td><td>0.0</td><td>Germany</td></tr><tr><td>2</td><td>Germany</td><td>A</td><td>3</td><td>Spain</td><td>A</td><td>2.0</td><td>3.0</td><td>Spain</td></tr><tr><td>3</td><td>Spain</td><td>A</td><td>4</td><td>Italy</td><td>A</td><td>5.0</td><td>4.0</td><td>Spain</td></tr><tr><td>5</td><td>Portugal</td><td>B</td><td>8</td><td>Belgium</td><td>B</td><td>4.0</td><td>3.0</td><td>Portugal</td></tr><tr><td>5</td><td>Portugal</td><td>B</td><td>7</td><td>Netherlands</td><td>B</td><td>4.0</td><td>0.0</td><td>Portugal</td></tr><tr><td>5</td><td>Portugal</td><td>B</td><td>6</td><td>England</td><td>B</td><td>4.0</td><td>4.0</td><td>Draw</td></tr><tr><td>6</td><td>England</td><td>B</td><td>8</td><td>Belgium</td><td>B</td><td>2.0</td><td>5.0</td><td>Belgium</td></tr><tr><td>6</td><td>England</td><td>B</td><td>7</td><td>Netherlands</td><td>B</td><td>4.0</td><td>2.0</td><td>England</td></tr><tr><td>7</td><td>Netherlands</td><td>B</td><td>8</td><td>Belgium</td><td>B</td><td>2.0</td><td>3.0</td><td>Belgium</td></tr><tr><td>9</td><td>Croatia</td><td>C</td><td>12</td><td>Turkey</td><td>C</td><td>2.0</td><td>2.0</td><td>Draw</td></tr><tr><td>9</td><td>Croatia</td><td>C</td><td>11</td><td>Switzerland</td><td>C</td><td>2.0</td><td>1.0</td><td>Croatia</td></tr><tr><td>9</td><td>Croatia</td><td>C</td><td>10</td><td>Poland</td><td>C</td><td>1.0</td><td>3.0</td><td>Poland</td></tr><tr><td>10</td><td>Poland</td><td>C</td><td>12</td><td>Turkey</td><td>C</td><td>2.0</td><td>3.0</td><td>Turkey</td></tr><tr><td>10</td><td>Poland</td><td>C</td><td>11</td><td>Switzerland</td><td>C</td><td>0.0</td><td>2.0</td><td>Switzerland</td></tr><tr><td>11</td><td>Switzerland</td><td>C</td><td>12</td><td>Turkey</td><td>C</td><td>5.0</td><td>3.0</td><td>Switzerland</td></tr><tr><td>13</td><td>Sweden</td><td>D</td><td>16</td><td>Austria</td><td>D</td><td>5.0</td><td>1.0</td><td>Sweden</td></tr><tr><td>13</td><td>Sweden</td><td>D</td><td>15</td><td>Russia</td><td>D</td><td>1.0</td><td>1.0</td><td>Draw</td></tr><tr><td>13</td><td>Sweden</td><td>D</td><td>14</td><td>Denmark</td><td>D</td><td>4.0</td><td>2.0</td><td>Sweden</td></tr><tr><td>14</td><td>Denmark</td><td>D</td><td>16</td><td>Austria</td><td>D</td><td>1.0</td><td>0.0</td><td>Denmark</td></tr><tr><td>14</td><td>Denmark</td><td>D</td><td>15</td><td>Russia</td><td>D</td><td>1.0</td><td>4.0</td><td>Russia</td></tr><tr><td>15</td><td>Russia</td><td>D</td><td>16</td><td>Austria</td><td>D</td><td>0.0</td><td>3.0</td><td>Austria</td></tr><tr><td>17</td><td>Ukraine</td><td>E</td><td>20</td><td>Czech Republic</td><td>E</td><td>1.0</td><td>2.0</td><td>Czech Republic</td></tr><tr><td>17</td><td>Ukraine</td><td>E</td><td>19</td><td>Scotland</td><td>E</td><td>3.0</td><td>2.0</td><td>Ukraine</td></tr><tr><td>17</td><td>Ukraine</td><td>E</td><td>18</td><td>Wales</td><td>E</td><td>3.0</td><td>4.0</td><td>Wales</td></tr><tr><td>18</td><td>Wales</td><td>E</td><td>20</td><td>Czech Republic</td><td>E</td><td>1.0</td><td>2.0</td><td>Czech Republic</td></tr><tr><td>18</td><td>Wales</td><td>E</td><td>19</td><td>Scotland</td><td>E</td><td>4.0</td><td>2.0</td><td>Wales</td></tr><tr><td>19</td><td>Scotland</td><td>E</td><td>20</td><td>Czech Republic</td><td>E</td><td>0.0</td><td>5.0</td><td>Czech Republic</td></tr><tr><td>21</td><td>Slovakia</td><td>F</td><td>24</td><td>North Macedonia</td><td>F</td><td>1.0</td><td>3.0</td><td>North Macedonia</td></tr><tr><td>21</td><td>Slovakia</td><td>F</td><td>23</td><td>Finland</td><td>F</td><td>4.0</td><td>5.0</td><td>Finland</td></tr><tr><td>21</td><td>Slovakia</td><td>F</td><td>22</td><td>Hungary</td><td>F</td><td>3.0</td><td>0.0</td><td>Slovakia</td></tr><tr><td>22</td><td>Hungary</td><td>F</td><td>24</td><td>North Macedonia</td><td>F</td><td>0.0</td><td>2.0</td><td>North Macedonia</td></tr><tr><td>22</td><td>Hungary</td><td>F</td><td>23</td><td>Finland</td><td>F</td><td>2.0</td><td>4.0</td><td>Finland</td></tr><tr><td>23</td><td>Finland</td><td>F</td><td>24</td><td>North Macedonia</td><td>F</td><td>1.0</td><td>1.0</td><td>Draw</td></tr></tbody></table></div>"
      ]
     },
     "metadata": {
      "application/vnd.databricks.v1+output": {
       "addedWidgets": {},
       "aggData": [],
       "aggError": "",
       "aggOverflow": false,
       "aggSchema": [],
       "aggSeriesLimitReached": false,
       "aggType": "",
       "arguments": {},
       "columnCustomDisplayInfos": {},
       "data": [
        [
         1,
         "France",
         "A",
         4,
         "Italy",
         "A",
         4.0,
         2.0,
         "France"
        ],
        [
         1,
         "France",
         "A",
         3,
         "Spain",
         "A",
         4.0,
         2.0,
         "France"
        ],
        [
         1,
         "France",
         "A",
         2,
         "Germany",
         "A",
         4.0,
         4.0,
         "Draw"
        ],
        [
         2,
         "Germany",
         "A",
         4,
         "Italy",
         "A",
         2.0,
         0.0,
         "Germany"
        ],
        [
         2,
         "Germany",
         "A",
         3,
         "Spain",
         "A",
         2.0,
         3.0,
         "Spain"
        ],
        [
         3,
         "Spain",
         "A",
         4,
         "Italy",
         "A",
         5.0,
         4.0,
         "Spain"
        ],
        [
         5,
         "Portugal",
         "B",
         8,
         "Belgium",
         "B",
         4.0,
         3.0,
         "Portugal"
        ],
        [
         5,
         "Portugal",
         "B",
         7,
         "Netherlands",
         "B",
         4.0,
         0.0,
         "Portugal"
        ],
        [
         5,
         "Portugal",
         "B",
         6,
         "England",
         "B",
         4.0,
         4.0,
         "Draw"
        ],
        [
         6,
         "England",
         "B",
         8,
         "Belgium",
         "B",
         2.0,
         5.0,
         "Belgium"
        ],
        [
         6,
         "England",
         "B",
         7,
         "Netherlands",
         "B",
         4.0,
         2.0,
         "England"
        ],
        [
         7,
         "Netherlands",
         "B",
         8,
         "Belgium",
         "B",
         2.0,
         3.0,
         "Belgium"
        ],
        [
         9,
         "Croatia",
         "C",
         12,
         "Turkey",
         "C",
         2.0,
         2.0,
         "Draw"
        ],
        [
         9,
         "Croatia",
         "C",
         11,
         "Switzerland",
         "C",
         2.0,
         1.0,
         "Croatia"
        ],
        [
         9,
         "Croatia",
         "C",
         10,
         "Poland",
         "C",
         1.0,
         3.0,
         "Poland"
        ],
        [
         10,
         "Poland",
         "C",
         12,
         "Turkey",
         "C",
         2.0,
         3.0,
         "Turkey"
        ],
        [
         10,
         "Poland",
         "C",
         11,
         "Switzerland",
         "C",
         0.0,
         2.0,
         "Switzerland"
        ],
        [
         11,
         "Switzerland",
         "C",
         12,
         "Turkey",
         "C",
         5.0,
         3.0,
         "Switzerland"
        ],
        [
         13,
         "Sweden",
         "D",
         16,
         "Austria",
         "D",
         5.0,
         1.0,
         "Sweden"
        ],
        [
         13,
         "Sweden",
         "D",
         15,
         "Russia",
         "D",
         1.0,
         1.0,
         "Draw"
        ],
        [
         13,
         "Sweden",
         "D",
         14,
         "Denmark",
         "D",
         4.0,
         2.0,
         "Sweden"
        ],
        [
         14,
         "Denmark",
         "D",
         16,
         "Austria",
         "D",
         1.0,
         0.0,
         "Denmark"
        ],
        [
         14,
         "Denmark",
         "D",
         15,
         "Russia",
         "D",
         1.0,
         4.0,
         "Russia"
        ],
        [
         15,
         "Russia",
         "D",
         16,
         "Austria",
         "D",
         0.0,
         3.0,
         "Austria"
        ],
        [
         17,
         "Ukraine",
         "E",
         20,
         "Czech Republic",
         "E",
         1.0,
         2.0,
         "Czech Republic"
        ],
        [
         17,
         "Ukraine",
         "E",
         19,
         "Scotland",
         "E",
         3.0,
         2.0,
         "Ukraine"
        ],
        [
         17,
         "Ukraine",
         "E",
         18,
         "Wales",
         "E",
         3.0,
         4.0,
         "Wales"
        ],
        [
         18,
         "Wales",
         "E",
         20,
         "Czech Republic",
         "E",
         1.0,
         2.0,
         "Czech Republic"
        ],
        [
         18,
         "Wales",
         "E",
         19,
         "Scotland",
         "E",
         4.0,
         2.0,
         "Wales"
        ],
        [
         19,
         "Scotland",
         "E",
         20,
         "Czech Republic",
         "E",
         0.0,
         5.0,
         "Czech Republic"
        ],
        [
         21,
         "Slovakia",
         "F",
         24,
         "North Macedonia",
         "F",
         1.0,
         3.0,
         "North Macedonia"
        ],
        [
         21,
         "Slovakia",
         "F",
         23,
         "Finland",
         "F",
         4.0,
         5.0,
         "Finland"
        ],
        [
         21,
         "Slovakia",
         "F",
         22,
         "Hungary",
         "F",
         3.0,
         0.0,
         "Slovakia"
        ],
        [
         22,
         "Hungary",
         "F",
         24,
         "North Macedonia",
         "F",
         0.0,
         2.0,
         "North Macedonia"
        ],
        [
         22,
         "Hungary",
         "F",
         23,
         "Finland",
         "F",
         2.0,
         4.0,
         "Finland"
        ],
        [
         23,
         "Finland",
         "F",
         24,
         "North Macedonia",
         "F",
         1.0,
         1.0,
         "Draw"
        ]
       ],
       "datasetInfos": [],
       "dbfsResultPath": null,
       "isJsonSchema": true,
       "metadata": {},
       "overflow": false,
       "plotOptions": {
        "customPlotOptions": {},
        "displayType": "table",
        "pivotAggregation": null,
        "pivotColumns": null,
        "xColumns": null,
        "yColumns": null
       },
       "removedWidgets": [],
       "schema": [
        {
         "metadata": "{}",
         "name": "Team1ID",
         "type": "\"integer\""
        },
        {
         "metadata": "{}",
         "name": "Team1Name",
         "type": "\"string\""
        },
        {
         "metadata": "{}",
         "name": "Team1Group",
         "type": "\"string\""
        },
        {
         "metadata": "{}",
         "name": "Team2ID",
         "type": "\"integer\""
        },
        {
         "metadata": "{}",
         "name": "Team2Name",
         "type": "\"string\""
        },
        {
         "metadata": "{}",
         "name": "Team2Group",
         "type": "\"string\""
        },
        {
         "metadata": "{}",
         "name": "Team1Goals",
         "type": "\"double\""
        },
        {
         "metadata": "{}",
         "name": "Team2Goals",
         "type": "\"double\""
        },
        {
         "metadata": "{}",
         "name": "Winner",
         "type": "\"string\""
        }
       ],
       "type": "table"
      }
     },
     "output_type": "display_data"
    }
   ],
   "source": [
    "%sql\n",
    "select * from GroupStageMatche"
   ]
  },
  {
   "cell_type": "markdown",
   "metadata": {
    "application/vnd.databricks.v1+cell": {
     "cellMetadata": {
      "byteLimit": 2048000,
      "rowLimit": 10000
     },
     "inputWidgets": {},
     "nuid": "b5b08895-a74e-42d8-a258-f6f4e055e45a",
     "showTitle": false,
     "title": ""
    }
   },
   "source": [
    "##Create a group stage summary tie sheet , with team point , ranking and goal difference "
   ]
  },
  {
   "cell_type": "code",
   "execution_count": 0,
   "metadata": {
    "application/vnd.databricks.v1+cell": {
     "cellMetadata": {
      "byteLimit": 2048000,
      "implicitDf": true,
      "rowLimit": 10000
     },
     "inputWidgets": {},
     "nuid": "7c3c1c09-6c12-4356-ad22-90b8d72576aa",
     "showTitle": false,
     "title": ""
    }
   },
   "outputs": [
    {
     "output_type": "display_data",
     "data": {
      "text/html": [
       "<style scoped>\n",
       "  .table-result-container {\n",
       "    max-height: 300px;\n",
       "    overflow: auto;\n",
       "  }\n",
       "  table, th, td {\n",
       "    border: 1px solid black;\n",
       "    border-collapse: collapse;\n",
       "  }\n",
       "  th, td {\n",
       "    padding: 5px;\n",
       "  }\n",
       "  th {\n",
       "    text-align: left;\n",
       "  }\n",
       "</style><div class='table-result-container'><table class='table-result'><thead style='background-color: white'><tr><th>num_affected_rows</th><th>num_inserted_rows</th></tr></thead><tbody></tbody></table></div>"
      ]
     },
     "metadata": {
      "application/vnd.databricks.v1+output": {
       "addedWidgets": {},
       "aggData": [],
       "aggError": "",
       "aggOverflow": false,
       "aggSchema": [],
       "aggSeriesLimitReached": false,
       "aggType": "",
       "arguments": {},
       "columnCustomDisplayInfos": {},
       "data": [],
       "datasetInfos": [],
       "dbfsResultPath": null,
       "isJsonSchema": true,
       "metadata": {},
       "overflow": false,
       "plotOptions": {
        "customPlotOptions": {},
        "displayType": "table",
        "pivotAggregation": null,
        "pivotColumns": null,
        "xColumns": null,
        "yColumns": null
       },
       "removedWidgets": [],
       "schema": [
        {
         "metadata": "{}",
         "name": "num_affected_rows",
         "type": "\"long\""
        },
        {
         "metadata": "{}",
         "name": "num_inserted_rows",
         "type": "\"long\""
        }
       ],
       "type": "table"
      }
     },
     "output_type": "display_data"
    }
   ],
   "source": [
    "%sql\n",
    "-- Create GroupStageSummary table with Team Rank and Tie-breaking on Goal Difference\n",
    "CREATE OR REPLACE TABLE GroupStageSummary AS\n",
    "WITH MatchResults AS (\n",
    "    SELECT\n",
    "        Team1ID AS TeamID,\n",
    "        Team1Name AS TeamName,\n",
    "        Team1Group AS GroupName,\n",
    "        Team1Goals,\n",
    "        Team2ID,\n",
    "        Team2Name,\n",
    "        Team2Group,\n",
    "        Team2Goals,\n",
    "        Winner\n",
    "    FROM\n",
    "        GroupStageMatche\n",
    "\n",
    "    UNION ALL\n",
    "\n",
    "    SELECT\n",
    "        Team2ID AS TeamID,\n",
    "        Team2Name AS TeamName,\n",
    "        Team2Group AS GroupName,\n",
    "        Team2Goals,\n",
    "        Team1ID,\n",
    "        Team1Name,\n",
    "        Team1Group,\n",
    "        Team1Goals,\n",
    "        Winner\n",
    "    FROM\n",
    "        GroupStageMatche\n",
    ")\n",
    "SELECT\n",
    "    TeamID,\n",
    "    TeamName,\n",
    "    GroupName,\n",
    "\n",
    "    DENSE_RANK() OVER (PARTITION BY GroupName ORDER BY\n",
    "        SUM(CASE WHEN Winner = TeamName THEN 3 WHEN Winner = 'Draw' THEN 1 ELSE 0 END) DESC,\n",
    "        SUM(Team1Goals - Team2Goals) DESC,\n",
    "        SUM(Team1Goals) DESC,\n",
    "        SUM(Team2Goals) ASC,\n",
    "        COUNT(*) DESC\n",
    "    ) AS TeamRank,\n",
    "    COUNT(*) AS MatchesPlayed,\n",
    "    SUM(CASE WHEN Winner = TeamName THEN 1 ELSE 0 END) AS MatchesWon,\n",
    "    SUM(CASE WHEN Winner != TeamName AND Winner != 'Draw' THEN 1 ELSE 0 END) AS MatchesLost,\n",
    "    SUM(CASE WHEN Winner = 'Draw' THEN 1 ELSE 0 END) AS MatchesDrawn,\n",
    "    SUM(CASE WHEN Winner = TeamName THEN 3 WHEN Winner = 'Draw' THEN 1 ELSE 0 END) AS TotalPoints,\n",
    "    SUM(Team1Goals - Team2Goals) AS GoalDifference,\n",
    "    SUM(Team1Goals) AS GoalScored,\n",
    "    SUM(Team2Goals) AS GoalConceled\n",
    "   \n",
    "FROM MatchResults\n",
    "GROUP BY TeamID, TeamName, GroupName\n",
    "ORDER BY GroupName, TeamRank;\n"
   ]
  },
  {
   "cell_type": "code",
   "execution_count": 0,
   "metadata": {
    "application/vnd.databricks.v1+cell": {
     "cellMetadata": {
      "byteLimit": 2048000,
      "implicitDf": true,
      "rowLimit": 10000
     },
     "inputWidgets": {},
     "nuid": "7cbc1932-bfa0-4506-88cc-1816c8eaaec2",
     "showTitle": false,
     "title": ""
    }
   },
   "outputs": [
    {
     "output_type": "display_data",
     "data": {
      "text/html": [
       "<style scoped>\n",
       "  .table-result-container {\n",
       "    max-height: 300px;\n",
       "    overflow: auto;\n",
       "  }\n",
       "  table, th, td {\n",
       "    border: 1px solid black;\n",
       "    border-collapse: collapse;\n",
       "  }\n",
       "  th, td {\n",
       "    padding: 5px;\n",
       "  }\n",
       "  th {\n",
       "    text-align: left;\n",
       "  }\n",
       "</style><div class='table-result-container'><table class='table-result'><thead style='background-color: white'><tr><th>TeamID</th><th>TeamName</th><th>GroupName</th><th>TeamRank</th><th>MatchesPlayed</th><th>MatchesWon</th><th>MatchesLost</th><th>MatchesDrawn</th><th>TotalPoints</th><th>GoalDifference</th><th>GoalScored</th><th>GoalConceled</th></tr></thead><tbody><tr><td>1</td><td>France</td><td>A</td><td>1</td><td>3</td><td>2</td><td>0</td><td>1</td><td>7</td><td>4.0</td><td>12.0</td><td>8.0</td></tr><tr><td>3</td><td>Spain</td><td>A</td><td>2</td><td>3</td><td>2</td><td>1</td><td>0</td><td>6</td><td>0.0</td><td>10.0</td><td>10.0</td></tr><tr><td>2</td><td>Germany</td><td>A</td><td>3</td><td>3</td><td>1</td><td>1</td><td>1</td><td>4</td><td>1.0</td><td>8.0</td><td>7.0</td></tr><tr><td>4</td><td>Italy</td><td>A</td><td>4</td><td>3</td><td>0</td><td>3</td><td>0</td><td>0</td><td>-5.0</td><td>6.0</td><td>11.0</td></tr><tr><td>5</td><td>Portugal</td><td>B</td><td>1</td><td>3</td><td>2</td><td>0</td><td>1</td><td>7</td><td>5.0</td><td>12.0</td><td>7.0</td></tr><tr><td>8</td><td>Belgium</td><td>B</td><td>2</td><td>3</td><td>2</td><td>1</td><td>0</td><td>6</td><td>3.0</td><td>11.0</td><td>8.0</td></tr><tr><td>6</td><td>England</td><td>B</td><td>3</td><td>3</td><td>1</td><td>1</td><td>1</td><td>4</td><td>-1.0</td><td>10.0</td><td>11.0</td></tr><tr><td>7</td><td>Netherlands</td><td>B</td><td>4</td><td>3</td><td>0</td><td>3</td><td>0</td><td>0</td><td>-7.0</td><td>4.0</td><td>11.0</td></tr><tr><td>11</td><td>Switzerland</td><td>C</td><td>1</td><td>3</td><td>2</td><td>1</td><td>0</td><td>6</td><td>3.0</td><td>8.0</td><td>5.0</td></tr><tr><td>12</td><td>Turkey</td><td>C</td><td>2</td><td>3</td><td>1</td><td>1</td><td>1</td><td>4</td><td>-1.0</td><td>8.0</td><td>9.0</td></tr><tr><td>9</td><td>Croatia</td><td>C</td><td>3</td><td>3</td><td>1</td><td>1</td><td>1</td><td>4</td><td>-1.0</td><td>5.0</td><td>6.0</td></tr><tr><td>10</td><td>Poland</td><td>C</td><td>4</td><td>3</td><td>1</td><td>2</td><td>0</td><td>3</td><td>-1.0</td><td>5.0</td><td>6.0</td></tr><tr><td>13</td><td>Sweden</td><td>D</td><td>1</td><td>3</td><td>2</td><td>0</td><td>1</td><td>7</td><td>6.0</td><td>10.0</td><td>4.0</td></tr><tr><td>15</td><td>Russia</td><td>D</td><td>2</td><td>3</td><td>1</td><td>1</td><td>1</td><td>4</td><td>0.0</td><td>5.0</td><td>5.0</td></tr><tr><td>16</td><td>Austria</td><td>D</td><td>3</td><td>3</td><td>1</td><td>2</td><td>0</td><td>3</td><td>-2.0</td><td>4.0</td><td>6.0</td></tr><tr><td>14</td><td>Denmark</td><td>D</td><td>4</td><td>3</td><td>1</td><td>2</td><td>0</td><td>3</td><td>-4.0</td><td>4.0</td><td>8.0</td></tr><tr><td>20</td><td>Czech Republic</td><td>E</td><td>1</td><td>3</td><td>3</td><td>0</td><td>0</td><td>9</td><td>7.0</td><td>9.0</td><td>2.0</td></tr><tr><td>18</td><td>Wales</td><td>E</td><td>2</td><td>3</td><td>2</td><td>1</td><td>0</td><td>6</td><td>2.0</td><td>9.0</td><td>7.0</td></tr><tr><td>17</td><td>Ukraine</td><td>E</td><td>3</td><td>3</td><td>1</td><td>2</td><td>0</td><td>3</td><td>-1.0</td><td>7.0</td><td>8.0</td></tr><tr><td>19</td><td>Scotland</td><td>E</td><td>4</td><td>3</td><td>0</td><td>3</td><td>0</td><td>0</td><td>-8.0</td><td>4.0</td><td>12.0</td></tr><tr><td>24</td><td>North Macedonia</td><td>F</td><td>1</td><td>3</td><td>2</td><td>0</td><td>1</td><td>7</td><td>4.0</td><td>6.0</td><td>2.0</td></tr><tr><td>23</td><td>Finland</td><td>F</td><td>2</td><td>3</td><td>2</td><td>0</td><td>1</td><td>7</td><td>3.0</td><td>10.0</td><td>7.0</td></tr><tr><td>21</td><td>Slovakia</td><td>F</td><td>3</td><td>3</td><td>1</td><td>2</td><td>0</td><td>3</td><td>0.0</td><td>8.0</td><td>8.0</td></tr><tr><td>22</td><td>Hungary</td><td>F</td><td>4</td><td>3</td><td>0</td><td>3</td><td>0</td><td>0</td><td>-7.0</td><td>2.0</td><td>9.0</td></tr></tbody></table></div>"
      ]
     },
     "metadata": {
      "application/vnd.databricks.v1+output": {
       "addedWidgets": {},
       "aggData": [],
       "aggError": "",
       "aggOverflow": false,
       "aggSchema": [],
       "aggSeriesLimitReached": false,
       "aggType": "",
       "arguments": {},
       "columnCustomDisplayInfos": {},
       "data": [
        [
         1,
         "France",
         "A",
         1,
         3,
         2,
         0,
         1,
         7,
         4.0,
         12.0,
         8.0
        ],
        [
         3,
         "Spain",
         "A",
         2,
         3,
         2,
         1,
         0,
         6,
         0.0,
         10.0,
         10.0
        ],
        [
         2,
         "Germany",
         "A",
         3,
         3,
         1,
         1,
         1,
         4,
         1.0,
         8.0,
         7.0
        ],
        [
         4,
         "Italy",
         "A",
         4,
         3,
         0,
         3,
         0,
         0,
         -5.0,
         6.0,
         11.0
        ],
        [
         5,
         "Portugal",
         "B",
         1,
         3,
         2,
         0,
         1,
         7,
         5.0,
         12.0,
         7.0
        ],
        [
         8,
         "Belgium",
         "B",
         2,
         3,
         2,
         1,
         0,
         6,
         3.0,
         11.0,
         8.0
        ],
        [
         6,
         "England",
         "B",
         3,
         3,
         1,
         1,
         1,
         4,
         -1.0,
         10.0,
         11.0
        ],
        [
         7,
         "Netherlands",
         "B",
         4,
         3,
         0,
         3,
         0,
         0,
         -7.0,
         4.0,
         11.0
        ],
        [
         11,
         "Switzerland",
         "C",
         1,
         3,
         2,
         1,
         0,
         6,
         3.0,
         8.0,
         5.0
        ],
        [
         12,
         "Turkey",
         "C",
         2,
         3,
         1,
         1,
         1,
         4,
         -1.0,
         8.0,
         9.0
        ],
        [
         9,
         "Croatia",
         "C",
         3,
         3,
         1,
         1,
         1,
         4,
         -1.0,
         5.0,
         6.0
        ],
        [
         10,
         "Poland",
         "C",
         4,
         3,
         1,
         2,
         0,
         3,
         -1.0,
         5.0,
         6.0
        ],
        [
         13,
         "Sweden",
         "D",
         1,
         3,
         2,
         0,
         1,
         7,
         6.0,
         10.0,
         4.0
        ],
        [
         15,
         "Russia",
         "D",
         2,
         3,
         1,
         1,
         1,
         4,
         0.0,
         5.0,
         5.0
        ],
        [
         16,
         "Austria",
         "D",
         3,
         3,
         1,
         2,
         0,
         3,
         -2.0,
         4.0,
         6.0
        ],
        [
         14,
         "Denmark",
         "D",
         4,
         3,
         1,
         2,
         0,
         3,
         -4.0,
         4.0,
         8.0
        ],
        [
         20,
         "Czech Republic",
         "E",
         1,
         3,
         3,
         0,
         0,
         9,
         7.0,
         9.0,
         2.0
        ],
        [
         18,
         "Wales",
         "E",
         2,
         3,
         2,
         1,
         0,
         6,
         2.0,
         9.0,
         7.0
        ],
        [
         17,
         "Ukraine",
         "E",
         3,
         3,
         1,
         2,
         0,
         3,
         -1.0,
         7.0,
         8.0
        ],
        [
         19,
         "Scotland",
         "E",
         4,
         3,
         0,
         3,
         0,
         0,
         -8.0,
         4.0,
         12.0
        ],
        [
         24,
         "North Macedonia",
         "F",
         1,
         3,
         2,
         0,
         1,
         7,
         4.0,
         6.0,
         2.0
        ],
        [
         23,
         "Finland",
         "F",
         2,
         3,
         2,
         0,
         1,
         7,
         3.0,
         10.0,
         7.0
        ],
        [
         21,
         "Slovakia",
         "F",
         3,
         3,
         1,
         2,
         0,
         3,
         0.0,
         8.0,
         8.0
        ],
        [
         22,
         "Hungary",
         "F",
         4,
         3,
         0,
         3,
         0,
         0,
         -7.0,
         2.0,
         9.0
        ]
       ],
       "datasetInfos": [],
       "dbfsResultPath": null,
       "isJsonSchema": true,
       "metadata": {},
       "overflow": false,
       "plotOptions": {
        "customPlotOptions": {},
        "displayType": "table",
        "pivotAggregation": null,
        "pivotColumns": null,
        "xColumns": null,
        "yColumns": null
       },
       "removedWidgets": [],
       "schema": [
        {
         "metadata": "{}",
         "name": "TeamID",
         "type": "\"integer\""
        },
        {
         "metadata": "{}",
         "name": "TeamName",
         "type": "\"string\""
        },
        {
         "metadata": "{}",
         "name": "GroupName",
         "type": "\"string\""
        },
        {
         "metadata": "{}",
         "name": "TeamRank",
         "type": "\"integer\""
        },
        {
         "metadata": "{}",
         "name": "MatchesPlayed",
         "type": "\"long\""
        },
        {
         "metadata": "{}",
         "name": "MatchesWon",
         "type": "\"long\""
        },
        {
         "metadata": "{}",
         "name": "MatchesLost",
         "type": "\"long\""
        },
        {
         "metadata": "{}",
         "name": "MatchesDrawn",
         "type": "\"long\""
        },
        {
         "metadata": "{}",
         "name": "TotalPoints",
         "type": "\"long\""
        },
        {
         "metadata": "{}",
         "name": "GoalDifference",
         "type": "\"double\""
        },
        {
         "metadata": "{}",
         "name": "GoalScored",
         "type": "\"double\""
        },
        {
         "metadata": "{}",
         "name": "GoalConceled",
         "type": "\"double\""
        }
       ],
       "type": "table"
      }
     },
     "output_type": "display_data"
    }
   ],
   "source": [
    "%sql\n",
    "select * from groupstagesummary"
   ]
  },
  {
   "cell_type": "markdown",
   "metadata": {
    "application/vnd.databricks.v1+cell": {
     "cellMetadata": {
      "byteLimit": 2048000,
      "rowLimit": 10000
     },
     "inputWidgets": {},
     "nuid": "98d2f747-6816-4471-916d-466e0bb731ac",
     "showTitle": false,
     "title": ""
    }
   },
   "source": [
    "##Selection of 12 winners i e top 2 team of every group stage , and query for remaining third rank teams"
   ]
  },
  {
   "cell_type": "code",
   "execution_count": 0,
   "metadata": {
    "application/vnd.databricks.v1+cell": {
     "cellMetadata": {
      "byteLimit": 2048000,
      "implicitDf": true,
      "rowLimit": 10000
     },
     "inputWidgets": {},
     "nuid": "1866e513-fa7c-45ab-bbb8-ab66ee4a3f51",
     "showTitle": false,
     "title": ""
    }
   },
   "outputs": [
    {
     "output_type": "display_data",
     "data": {
      "text/html": [
       "<style scoped>\n",
       "  .table-result-container {\n",
       "    max-height: 300px;\n",
       "    overflow: auto;\n",
       "  }\n",
       "  table, th, td {\n",
       "    border: 1px solid black;\n",
       "    border-collapse: collapse;\n",
       "  }\n",
       "  th, td {\n",
       "    padding: 5px;\n",
       "  }\n",
       "  th {\n",
       "    text-align: left;\n",
       "  }\n",
       "</style><div class='table-result-container'><table class='table-result'><thead style='background-color: white'><tr><th>num_affected_rows</th><th>num_inserted_rows</th></tr></thead><tbody></tbody></table></div>"
      ]
     },
     "metadata": {
      "application/vnd.databricks.v1+output": {
       "addedWidgets": {},
       "aggData": [],
       "aggError": "",
       "aggOverflow": false,
       "aggSchema": [],
       "aggSeriesLimitReached": false,
       "aggType": "",
       "arguments": {},
       "columnCustomDisplayInfos": {},
       "data": [],
       "datasetInfos": [],
       "dbfsResultPath": null,
       "isJsonSchema": true,
       "metadata": {},
       "overflow": false,
       "plotOptions": {
        "customPlotOptions": {},
        "displayType": "table",
        "pivotAggregation": null,
        "pivotColumns": null,
        "xColumns": null,
        "yColumns": null
       },
       "removedWidgets": [],
       "schema": [
        {
         "metadata": "{}",
         "name": "num_affected_rows",
         "type": "\"long\""
        },
        {
         "metadata": "{}",
         "name": "num_inserted_rows",
         "type": "\"long\""
        }
       ],
       "type": "table"
      }
     },
     "output_type": "display_data"
    }
   ],
   "source": [
    "%sql\n",
    "-- Create Round of 16 (Ro16) table\n",
    "CREATE OR REPLACE TABLE RoundOf16 AS\n",
    "WITH GroupStandings AS (\n",
    "    SELECT\n",
    "        TeamID,\n",
    "        TeamName,\n",
    "        GroupName,\n",
    "        TeamRank,\n",
    "        TotalPoints,\n",
    "        GoalDifference,\n",
    "        GoalScored,\n",
    "        GoalConceled,\n",
    "        ROW_NUMBER() OVER (PARTITION BY GroupName ORDER BY TeamRank) AS RowInGroup\n",
    "    FROM\n",
    "        GroupStageSummary\n",
    ")\n",
    "SELECT\n",
    "    TeamID,\n",
    "    TeamName,\n",
    "    TeamRank,   GroupName,\n",
    "    CONCAT(GroupName, TeamRank) AS GroupRank,\n",
    "    TotalPoints,\n",
    "    GoalDifference,\n",
    "    GoalScored,\n",
    "    GoalConceled\n",
    "FROM\n",
    "    GroupStandings\n",
    "WHERE\n",
    "    RowInGroup <= 2\n",
    "UNION ALL\n",
    "SELECT\n",
    "    TeamID,\n",
    "    TeamName,\n",
    "    TeamRank,   GroupName,\n",
    "    CONCAT(GroupName, TeamRank) AS GroupRank,\n",
    "    TotalPoints,\n",
    "    GoalDifference,\n",
    "    GoalScored,\n",
    "    GoalConceled\n",
    "FROM (\n",
    "    SELECT\n",
    "        gs.TeamID,\n",
    "        gs.TeamName,\n",
    "        gs.TeamRank,\n",
    "        gs.TotalPoints,\n",
    "        gs.GoalDifference,\n",
    "        gs.GoalScored,\n",
    "        gs.GoalConceled,\n",
    "        ROW_NUMBER() OVER (ORDER BY gs.TotalPoints DESC, gs.GoalDifference DESC, gs.GoalScored DESC, gs.GoalConceled DESC) AS RowOverall,\n",
    "        gs.GroupName  -- Include GroupName in the subquery\n",
    "    FROM\n",
    "        GroupStandings gs\n",
    "    WHERE\n",
    "        gs.RowInGroup = 3\n",
    ") AS ThirdPlaceTeams\n",
    "WHERE\n",
    "    RowOverall <= 4\n",
    "ORDER BY\n",
    "    TeamID;\n"
   ]
  },
  {
   "cell_type": "code",
   "execution_count": 0,
   "metadata": {
    "application/vnd.databricks.v1+cell": {
     "cellMetadata": {
      "byteLimit": 2048000,
      "implicitDf": true,
      "rowLimit": 10000
     },
     "inputWidgets": {},
     "nuid": "ad36eba3-7593-42a9-835c-45e610b33766",
     "showTitle": false,
     "title": ""
    }
   },
   "outputs": [
    {
     "output_type": "display_data",
     "data": {
      "text/html": [
       "<style scoped>\n",
       "  .table-result-container {\n",
       "    max-height: 300px;\n",
       "    overflow: auto;\n",
       "  }\n",
       "  table, th, td {\n",
       "    border: 1px solid black;\n",
       "    border-collapse: collapse;\n",
       "  }\n",
       "  th, td {\n",
       "    padding: 5px;\n",
       "  }\n",
       "  th {\n",
       "    text-align: left;\n",
       "  }\n",
       "</style><div class='table-result-container'><table class='table-result'><thead style='background-color: white'><tr><th>TeamID</th><th>TeamName</th><th>TeamRank</th><th>GroupName</th><th>GroupRank</th><th>TotalPoints</th><th>GoalDifference</th><th>GoalScored</th><th>GoalConceled</th></tr></thead><tbody><tr><td>1</td><td>France</td><td>1</td><td>A</td><td>A1</td><td>7</td><td>4.0</td><td>12.0</td><td>8.0</td></tr><tr><td>2</td><td>Germany</td><td>3</td><td>A</td><td>A3</td><td>4</td><td>1.0</td><td>8.0</td><td>7.0</td></tr><tr><td>3</td><td>Spain</td><td>2</td><td>A</td><td>A2</td><td>6</td><td>0.0</td><td>10.0</td><td>10.0</td></tr><tr><td>5</td><td>Portugal</td><td>1</td><td>B</td><td>B1</td><td>7</td><td>5.0</td><td>12.0</td><td>7.0</td></tr><tr><td>6</td><td>England</td><td>3</td><td>B</td><td>B3</td><td>4</td><td>-1.0</td><td>10.0</td><td>11.0</td></tr><tr><td>8</td><td>Belgium</td><td>2</td><td>B</td><td>B2</td><td>6</td><td>3.0</td><td>11.0</td><td>8.0</td></tr><tr><td>9</td><td>Croatia</td><td>3</td><td>C</td><td>C3</td><td>4</td><td>-1.0</td><td>5.0</td><td>6.0</td></tr><tr><td>11</td><td>Switzerland</td><td>1</td><td>C</td><td>C1</td><td>6</td><td>3.0</td><td>8.0</td><td>5.0</td></tr><tr><td>12</td><td>Turkey</td><td>2</td><td>C</td><td>C2</td><td>4</td><td>-1.0</td><td>8.0</td><td>9.0</td></tr><tr><td>13</td><td>Sweden</td><td>1</td><td>D</td><td>D1</td><td>7</td><td>6.0</td><td>10.0</td><td>4.0</td></tr><tr><td>15</td><td>Russia</td><td>2</td><td>D</td><td>D2</td><td>4</td><td>0.0</td><td>5.0</td><td>5.0</td></tr><tr><td>18</td><td>Wales</td><td>2</td><td>E</td><td>E2</td><td>6</td><td>2.0</td><td>9.0</td><td>7.0</td></tr><tr><td>20</td><td>Czech Republic</td><td>1</td><td>E</td><td>E1</td><td>9</td><td>7.0</td><td>9.0</td><td>2.0</td></tr><tr><td>21</td><td>Slovakia</td><td>3</td><td>F</td><td>F3</td><td>3</td><td>0.0</td><td>8.0</td><td>8.0</td></tr><tr><td>23</td><td>Finland</td><td>2</td><td>F</td><td>F2</td><td>7</td><td>3.0</td><td>10.0</td><td>7.0</td></tr><tr><td>24</td><td>North Macedonia</td><td>1</td><td>F</td><td>F1</td><td>7</td><td>4.0</td><td>6.0</td><td>2.0</td></tr></tbody></table></div>"
      ]
     },
     "metadata": {
      "application/vnd.databricks.v1+output": {
       "addedWidgets": {},
       "aggData": [],
       "aggError": "",
       "aggOverflow": false,
       "aggSchema": [],
       "aggSeriesLimitReached": false,
       "aggType": "",
       "arguments": {},
       "columnCustomDisplayInfos": {},
       "data": [
        [
         1,
         "France",
         1,
         "A",
         "A1",
         7,
         4.0,
         12.0,
         8.0
        ],
        [
         2,
         "Germany",
         3,
         "A",
         "A3",
         4,
         1.0,
         8.0,
         7.0
        ],
        [
         3,
         "Spain",
         2,
         "A",
         "A2",
         6,
         0.0,
         10.0,
         10.0
        ],
        [
         5,
         "Portugal",
         1,
         "B",
         "B1",
         7,
         5.0,
         12.0,
         7.0
        ],
        [
         6,
         "England",
         3,
         "B",
         "B3",
         4,
         -1.0,
         10.0,
         11.0
        ],
        [
         8,
         "Belgium",
         2,
         "B",
         "B2",
         6,
         3.0,
         11.0,
         8.0
        ],
        [
         9,
         "Croatia",
         3,
         "C",
         "C3",
         4,
         -1.0,
         5.0,
         6.0
        ],
        [
         11,
         "Switzerland",
         1,
         "C",
         "C1",
         6,
         3.0,
         8.0,
         5.0
        ],
        [
         12,
         "Turkey",
         2,
         "C",
         "C2",
         4,
         -1.0,
         8.0,
         9.0
        ],
        [
         13,
         "Sweden",
         1,
         "D",
         "D1",
         7,
         6.0,
         10.0,
         4.0
        ],
        [
         15,
         "Russia",
         2,
         "D",
         "D2",
         4,
         0.0,
         5.0,
         5.0
        ],
        [
         18,
         "Wales",
         2,
         "E",
         "E2",
         6,
         2.0,
         9.0,
         7.0
        ],
        [
         20,
         "Czech Republic",
         1,
         "E",
         "E1",
         9,
         7.0,
         9.0,
         2.0
        ],
        [
         21,
         "Slovakia",
         3,
         "F",
         "F3",
         3,
         0.0,
         8.0,
         8.0
        ],
        [
         23,
         "Finland",
         2,
         "F",
         "F2",
         7,
         3.0,
         10.0,
         7.0
        ],
        [
         24,
         "North Macedonia",
         1,
         "F",
         "F1",
         7,
         4.0,
         6.0,
         2.0
        ]
       ],
       "datasetInfos": [],
       "dbfsResultPath": null,
       "isJsonSchema": true,
       "metadata": {},
       "overflow": false,
       "plotOptions": {
        "customPlotOptions": {},
        "displayType": "table",
        "pivotAggregation": null,
        "pivotColumns": null,
        "xColumns": null,
        "yColumns": null
       },
       "removedWidgets": [],
       "schema": [
        {
         "metadata": "{}",
         "name": "TeamID",
         "type": "\"integer\""
        },
        {
         "metadata": "{}",
         "name": "TeamName",
         "type": "\"string\""
        },
        {
         "metadata": "{}",
         "name": "TeamRank",
         "type": "\"integer\""
        },
        {
         "metadata": "{}",
         "name": "GroupName",
         "type": "\"string\""
        },
        {
         "metadata": "{}",
         "name": "GroupRank",
         "type": "\"string\""
        },
        {
         "metadata": "{}",
         "name": "TotalPoints",
         "type": "\"long\""
        },
        {
         "metadata": "{}",
         "name": "GoalDifference",
         "type": "\"double\""
        },
        {
         "metadata": "{}",
         "name": "GoalScored",
         "type": "\"double\""
        },
        {
         "metadata": "{}",
         "name": "GoalConceled",
         "type": "\"double\""
        }
       ],
       "type": "table"
      }
     },
     "output_type": "display_data"
    }
   ],
   "source": [
    "%sql\n",
    "SELECT * FROM RoundOf16\n"
   ]
  },
  {
   "cell_type": "code",
   "execution_count": 0,
   "metadata": {
    "application/vnd.databricks.v1+cell": {
     "cellMetadata": {
      "byteLimit": 2048000,
      "implicitDf": true,
      "rowLimit": 10000
     },
     "inputWidgets": {},
     "nuid": "8b0f7c92-1e80-4168-a5be-e31f729c725a",
     "showTitle": false,
     "title": ""
    }
   },
   "outputs": [
    {
     "output_type": "display_data",
     "data": {
      "text/html": [
       "<style scoped>\n",
       "  .table-result-container {\n",
       "    max-height: 300px;\n",
       "    overflow: auto;\n",
       "  }\n",
       "  table, th, td {\n",
       "    border: 1px solid black;\n",
       "    border-collapse: collapse;\n",
       "  }\n",
       "  th, td {\n",
       "    padding: 5px;\n",
       "  }\n",
       "  th {\n",
       "    text-align: left;\n",
       "  }\n",
       "</style><div class='table-result-container'><table class='table-result'><thead style='background-color: white'><tr><th>FinalCombination</th></tr></thead><tbody><tr><td>A3B3C3F3</td></tr></tbody></table></div>"
      ]
     },
     "metadata": {
      "application/vnd.databricks.v1+output": {
       "addedWidgets": {},
       "aggData": [],
       "aggError": "",
       "aggOverflow": false,
       "aggSchema": [],
       "aggSeriesLimitReached": false,
       "aggType": "",
       "arguments": {},
       "columnCustomDisplayInfos": {},
       "data": [
        [
         "A3B3C3F3"
        ]
       ],
       "datasetInfos": [],
       "dbfsResultPath": null,
       "isJsonSchema": true,
       "metadata": {},
       "overflow": false,
       "plotOptions": {
        "customPlotOptions": {},
        "displayType": "table",
        "pivotAggregation": null,
        "pivotColumns": null,
        "xColumns": null,
        "yColumns": null
       },
       "removedWidgets": [],
       "schema": [
        {
         "metadata": "{}",
         "name": "FinalCombination",
         "type": "\"string\""
        }
       ],
       "type": "table"
      }
     },
     "output_type": "display_data"
    }
   ],
   "source": [
    "%sql\n",
    "SELECT\n",
    "    CONCAT_WS('', COLLECT_LIST(SUBSTRING(GroupName, 1) || TeamRank)) AS FinalCombination\n",
    "FROM\n",
    "    RoundOf16\n",
    "WHERE\n",
    "    TeamRank = 3;"
   ]
  },
  {
   "cell_type": "code",
   "execution_count": 0,
   "metadata": {
    "application/vnd.databricks.v1+cell": {
     "cellMetadata": {
      "byteLimit": 2048000,
      "rowLimit": 10000
     },
     "inputWidgets": {},
     "nuid": "ffc59f7b-ef22-4b28-aae0-eb63b680681f",
     "showTitle": false,
     "title": ""
    }
   },
   "outputs": [
    {
     "output_type": "stream",
     "name": "stdout",
     "output_type": "stream",
     "text": [
      "Out[506]: False"
     ]
    }
   ],
   "source": [
    "%python\n",
    "dbutils.fs.rm(\"dbfs:/user/hive/warehouse/thirdplacementcombinations\", recurse=True)"
   ]
  },
  {
   "cell_type": "markdown",
   "metadata": {
    "application/vnd.databricks.v1+cell": {
     "cellMetadata": {
      "byteLimit": 2048000,
      "rowLimit": 10000
     },
     "inputWidgets": {},
     "nuid": "b911faee-058a-49be-961b-c28da09644ea",
     "showTitle": false,
     "title": ""
    }
   },
   "source": [
    "##Combination sequence table for thirdplacement ."
   ]
  },
  {
   "cell_type": "code",
   "execution_count": 0,
   "metadata": {
    "application/vnd.databricks.v1+cell": {
     "cellMetadata": {
      "byteLimit": 2048000,
      "implicitDf": true,
      "rowLimit": 10000
     },
     "inputWidgets": {},
     "nuid": "3a4c8bb3-0e19-40ca-8164-c3bb320bbc33",
     "showTitle": false,
     "title": ""
    }
   },
   "outputs": [
    {
     "output_type": "display_data",
     "data": {
      "text/html": [
       "<style scoped>\n",
       "  .table-result-container {\n",
       "    max-height: 300px;\n",
       "    overflow: auto;\n",
       "  }\n",
       "  table, th, td {\n",
       "    border: 1px solid black;\n",
       "    border-collapse: collapse;\n",
       "  }\n",
       "  th, td {\n",
       "    padding: 5px;\n",
       "  }\n",
       "  th {\n",
       "    text-align: left;\n",
       "  }\n",
       "</style><div class='table-result-container'><table class='table-result'><thead style='background-color: white'><tr><th>SId</th><th>QualificationSequence</th><th>B1</th><th>C1</th><th>E1</th><th>F1</th></tr></thead><tbody><tr><td>1</td><td>A3B3C3D3</td><td>A3</td><td>D3</td><td>B3</td><td>C3</td></tr><tr><td>2</td><td>A3B3C3E3</td><td>A3</td><td>E3</td><td>B3</td><td>C3</td></tr><tr><td>3</td><td>A3B3C3F3</td><td>A3</td><td>F3</td><td>B3</td><td>C3</td></tr><tr><td>4</td><td>A3B3D3E3</td><td>D3</td><td>E3</td><td>A3</td><td>B3</td></tr><tr><td>5</td><td>A3B3D3F3</td><td>D3</td><td>F3</td><td>A3</td><td>B3</td></tr><tr><td>6</td><td>A3B3E3F3</td><td>E3</td><td>F3</td><td>B3</td><td>A3</td></tr><tr><td>7</td><td>A3C3D3E3</td><td>E3</td><td>D3</td><td>C3</td><td>A3</td></tr><tr><td>8</td><td>A3C3D3F3</td><td>F3</td><td>D3</td><td>C3</td><td>A3</td></tr><tr><td>9</td><td>A3C3E3F3</td><td>E3</td><td>F3</td><td>C3</td><td>A3</td></tr><tr><td>10</td><td>A3D3E3F3</td><td>E3</td><td>F3</td><td>D3</td><td>A3</td></tr><tr><td>11</td><td>B3C3D3E3</td><td>E3</td><td>D3</td><td>B3</td><td>C3</td></tr><tr><td>12</td><td>B3C3D3F3</td><td>F3</td><td>D3</td><td>C3</td><td>B3</td></tr><tr><td>13</td><td>B3C3E3F3</td><td>F3</td><td>E3</td><td>C3</td><td>B3</td></tr><tr><td>14</td><td>B3D3E3F3</td><td>F3</td><td>E3</td><td>D3</td><td>B3</td></tr><tr><td>15</td><td>C3D3E3F3</td><td>F3</td><td>E3</td><td>D3</td><td>C3</td></tr></tbody></table></div>"
      ]
     },
     "metadata": {
      "application/vnd.databricks.v1+output": {
       "addedWidgets": {},
       "aggData": [],
       "aggError": "",
       "aggOverflow": false,
       "aggSchema": [],
       "aggSeriesLimitReached": false,
       "aggType": "",
       "arguments": {},
       "columnCustomDisplayInfos": {},
       "data": [
        [
         1,
         "A3B3C3D3",
         "A3",
         "D3",
         "B3",
         "C3"
        ],
        [
         2,
         "A3B3C3E3",
         "A3",
         "E3",
         "B3",
         "C3"
        ],
        [
         3,
         "A3B3C3F3",
         "A3",
         "F3",
         "B3",
         "C3"
        ],
        [
         4,
         "A3B3D3E3",
         "D3",
         "E3",
         "A3",
         "B3"
        ],
        [
         5,
         "A3B3D3F3",
         "D3",
         "F3",
         "A3",
         "B3"
        ],
        [
         6,
         "A3B3E3F3",
         "E3",
         "F3",
         "B3",
         "A3"
        ],
        [
         7,
         "A3C3D3E3",
         "E3",
         "D3",
         "C3",
         "A3"
        ],
        [
         8,
         "A3C3D3F3",
         "F3",
         "D3",
         "C3",
         "A3"
        ],
        [
         9,
         "A3C3E3F3",
         "E3",
         "F3",
         "C3",
         "A3"
        ],
        [
         10,
         "A3D3E3F3",
         "E3",
         "F3",
         "D3",
         "A3"
        ],
        [
         11,
         "B3C3D3E3",
         "E3",
         "D3",
         "B3",
         "C3"
        ],
        [
         12,
         "B3C3D3F3",
         "F3",
         "D3",
         "C3",
         "B3"
        ],
        [
         13,
         "B3C3E3F3",
         "F3",
         "E3",
         "C3",
         "B3"
        ],
        [
         14,
         "B3D3E3F3",
         "F3",
         "E3",
         "D3",
         "B3"
        ],
        [
         15,
         "C3D3E3F3",
         "F3",
         "E3",
         "D3",
         "C3"
        ]
       ],
       "datasetInfos": [],
       "dbfsResultPath": null,
       "isJsonSchema": true,
       "metadata": {},
       "overflow": false,
       "plotOptions": {
        "customPlotOptions": {},
        "displayType": "table",
        "pivotAggregation": null,
        "pivotColumns": null,
        "xColumns": null,
        "yColumns": null
       },
       "removedWidgets": [],
       "schema": [
        {
         "metadata": "{}",
         "name": "SId",
         "type": "\"integer\""
        },
        {
         "metadata": "{\"__CHAR_VARCHAR_TYPE_STRING\":\"varchar(8)\"}",
         "name": "QualificationSequence",
         "type": "\"string\""
        },
        {
         "metadata": "{\"__CHAR_VARCHAR_TYPE_STRING\":\"char(2)\"}",
         "name": "B1",
         "type": "\"string\""
        },
        {
         "metadata": "{\"__CHAR_VARCHAR_TYPE_STRING\":\"char(2)\"}",
         "name": "C1",
         "type": "\"string\""
        },
        {
         "metadata": "{\"__CHAR_VARCHAR_TYPE_STRING\":\"char(2)\"}",
         "name": "E1",
         "type": "\"string\""
        },
        {
         "metadata": "{\"__CHAR_VARCHAR_TYPE_STRING\":\"char(2)\"}",
         "name": "F1",
         "type": "\"string\""
        }
       ],
       "type": "table"
      }
     },
     "output_type": "display_data"
    }
   ],
   "source": [
    "%sql\n",
    "CREATE or replace TABLE ThirdPlacementCombinations(\n",
    "  SId INT,\n",
    "  QualificationSequence VARCHAR(8),\n",
    "  B1 CHAR(2),\n",
    "  C1 CHAR(2),\n",
    "  E1 CHAR(2),\n",
    "  F1 CHAR(2)\n",
    ");\n",
    "\n",
    "INSERT INTO  ThirdPlacementCombinations (SId, QualificationSequence, B1, C1, E1, F1)\n",
    "VALUES\n",
    "    (1, 'A3B3C3D3', 'A3', 'D3', 'B3', 'C3'),\n",
    "    (2, 'A3B3C3E3', 'A3', 'E3', 'B3', 'C3'),\n",
    "    (3, 'A3B3C3F3', 'A3', 'F3', 'B3', 'C3'),\n",
    "    (4, 'A3B3D3E3', 'D3', 'E3', 'A3', 'B3'),\n",
    "    (5, 'A3B3D3F3', 'D3', 'F3', 'A3', 'B3'),\n",
    "    (6, 'A3B3E3F3', 'E3', 'F3', 'B3', 'A3'),\n",
    "    (7, 'A3C3D3E3', 'E3', 'D3', 'C3', 'A3'),\n",
    "    (8, 'A3C3D3F3', 'F3', 'D3', 'C3', 'A3'),\n",
    "    (9, 'A3C3E3F3', 'E3', 'F3', 'C3', 'A3'),\n",
    "    (10, 'A3D3E3F3', 'E3', 'F3', 'D3', 'A3'),\n",
    "    (11, 'B3C3D3E3', 'E3', 'D3', 'B3', 'C3'),\n",
    "    (12, 'B3C3D3F3', 'F3', 'D3', 'C3', 'B3'),\n",
    "    (13, 'B3C3E3F3', 'F3', 'E3', 'C3', 'B3'),\n",
    "    (14, 'B3D3E3F3', 'F3', 'E3', 'D3', 'B3'),\n",
    "    (15, 'C3D3E3F3', 'F3', 'E3', 'D3', 'C3');\n",
    "\n",
    "SELECT * FROM ThirdPlacementCombinations;"
   ]
  },
  {
   "cell_type": "code",
   "execution_count": 0,
   "metadata": {
    "application/vnd.databricks.v1+cell": {
     "cellMetadata": {
      "byteLimit": 2048000,
      "rowLimit": 10000
     },
     "inputWidgets": {},
     "nuid": "690eaf28-ffcd-4656-a3db-58bed390f3a5",
     "showTitle": false,
     "title": ""
    }
   },
   "outputs": [],
   "source": [
    "%sql\n",
    "-- %sql\n",
    "-- WITH FirstQuery AS (\n",
    "--     SELECT\n",
    "--         CONCAT_WS('', COLLECT_LIST(SUBSTRING(GroupName, 1) || TeamRank)) AS DynamicValue\n",
    "--     FROM\n",
    "--         RoundOf16\n",
    "--     WHERE\n",
    "--         TeamRank = 3\n",
    "-- )\n",
    "\n",
    "-- -- Compare with the provided table\n",
    "-- SELECT *\n",
    "-- FROM ThirdPlacementCombinations\n",
    "-- WHERE QualificationSequence = (SELECT DynamicValue FROM FirstQuery);"
   ]
  },
  {
   "cell_type": "markdown",
   "metadata": {
    "application/vnd.databricks.v1+cell": {
     "cellMetadata": {
      "byteLimit": 2048000,
      "rowLimit": 10000
     },
     "inputWidgets": {},
     "nuid": "34df5c90-ce5b-408c-a268-750f21370360",
     "showTitle": false,
     "title": ""
    }
   },
   "source": [
    "##Combination pattern  for Top 4 teams ranking 3 , who have qualified "
   ]
  },
  {
   "cell_type": "code",
   "execution_count": 0,
   "metadata": {
    "application/vnd.databricks.v1+cell": {
     "cellMetadata": {
      "byteLimit": 2048000,
      "implicitDf": true,
      "rowLimit": 10000
     },
     "inputWidgets": {},
     "nuid": "56913415-d289-4d62-95ee-98bec99bb55b",
     "showTitle": false,
     "title": ""
    }
   },
   "outputs": [
    {
     "output_type": "display_data",
     "data": {
      "text/html": [
       "<style scoped>\n",
       "  .table-result-container {\n",
       "    max-height: 300px;\n",
       "    overflow: auto;\n",
       "  }\n",
       "  table, th, td {\n",
       "    border: 1px solid black;\n",
       "    border-collapse: collapse;\n",
       "  }\n",
       "  th, td {\n",
       "    padding: 5px;\n",
       "  }\n",
       "  th {\n",
       "    text-align: left;\n",
       "  }\n",
       "</style><div class='table-result-container'><table class='table-result'><thead style='background-color: white'><tr><th>SId</th><th>B1</th><th>C1</th><th>E1</th><th>F1</th><th>PlacementCombination</th></tr></thead><tbody><tr><td>3</td><td>A3</td><td>F3</td><td>B3</td><td>C3</td><td>A3B3C3F3</td></tr></tbody></table></div>"
      ]
     },
     "metadata": {
      "application/vnd.databricks.v1+output": {
       "addedWidgets": {},
       "aggData": [],
       "aggError": "",
       "aggOverflow": false,
       "aggSchema": [],
       "aggSeriesLimitReached": false,
       "aggType": "",
       "arguments": {},
       "columnCustomDisplayInfos": {},
       "data": [
        [
         3,
         "A3",
         "F3",
         "B3",
         "C3",
         "A3B3C3F3"
        ]
       ],
       "datasetInfos": [],
       "dbfsResultPath": null,
       "isJsonSchema": true,
       "metadata": {},
       "overflow": false,
       "plotOptions": {
        "customPlotOptions": {},
        "displayType": "table",
        "pivotAggregation": null,
        "pivotColumns": null,
        "xColumns": null,
        "yColumns": null
       },
       "removedWidgets": [],
       "schema": [
        {
         "metadata": "{}",
         "name": "SId",
         "type": "\"integer\""
        },
        {
         "metadata": "{\"__CHAR_VARCHAR_TYPE_STRING\":\"char(2)\"}",
         "name": "B1",
         "type": "\"string\""
        },
        {
         "metadata": "{\"__CHAR_VARCHAR_TYPE_STRING\":\"char(2)\"}",
         "name": "C1",
         "type": "\"string\""
        },
        {
         "metadata": "{\"__CHAR_VARCHAR_TYPE_STRING\":\"char(2)\"}",
         "name": "E1",
         "type": "\"string\""
        },
        {
         "metadata": "{\"__CHAR_VARCHAR_TYPE_STRING\":\"char(2)\"}",
         "name": "F1",
         "type": "\"string\""
        },
        {
         "metadata": "{}",
         "name": "PlacementCombination",
         "type": "\"string\""
        }
       ],
       "type": "table"
      }
     },
     "output_type": "display_data"
    }
   ],
   "source": [
    "%sql\n",
    "\n",
    "With QualificationCompare AS (\n",
    "  SELECT c.SId, c.B1, c.C1, c.E1, c.F1, pc.PlacementCombination \n",
    "  FROM ThirdPlacementCombinations c\n",
    "  JOIN (\n",
    "    SELECT\n",
    "        CONCAT_WS('', COLLECT_LIST(SUBSTRING(GroupName, 1) || TeamRank)) AS PlacementCombination\n",
    "    FROM\n",
    "        RoundOf16\n",
    "    WHERE\n",
    "        TeamRank = 3\n",
    "  ) pc\n",
    "  ON c.QualificationSequence = pc.PlacementCombination\n",
    ")\n",
    "  SELECT * FROM QualificationCompare;"
   ]
  },
  {
   "cell_type": "code",
   "execution_count": 0,
   "metadata": {
    "application/vnd.databricks.v1+cell": {
     "cellMetadata": {
      "byteLimit": 2048000,
      "rowLimit": 10000
     },
     "inputWidgets": {},
     "nuid": "812b4ea6-078c-4f2a-b505-ae3e2368e2e1",
     "showTitle": false,
     "title": ""
    }
   },
   "outputs": [],
   "source": [
    "# %python\n",
    "# dbutils.fs.rm(\"dbfs:/user/hive/warehouse/eliminationmatches\", recurse=True)"
   ]
  },
  {
   "cell_type": "code",
   "execution_count": 0,
   "metadata": {
    "application/vnd.databricks.v1+cell": {
     "cellMetadata": {
      "byteLimit": 2048000,
      "rowLimit": 10000
     },
     "inputWidgets": {},
     "nuid": "febb14a4-08a6-46c6-baaa-58bf73b3c7d1",
     "showTitle": false,
     "title": ""
    }
   },
   "outputs": [
    {
     "output_type": "stream",
     "name": "stdout",
     "output_type": "stream",
     "text": [
      "Out[510]: False"
     ]
    }
   ],
   "source": [
    "%python\n",
    "dbutils.fs.rm(\"dbfs:/user/hive/warehouse/eliminationmatches\", recurse=True)"
   ]
  },
  {
   "cell_type": "markdown",
   "metadata": {
    "application/vnd.databricks.v1+cell": {
     "cellMetadata": {
      "byteLimit": 2048000,
      "rowLimit": 10000
     },
     "inputWidgets": {},
     "nuid": "9fbf0c69-3b4a-4a26-81be-35418e668d93",
     "showTitle": false,
     "title": ""
    }
   },
   "source": [
    "##Table creation for elimination matches"
   ]
  },
  {
   "cell_type": "code",
   "execution_count": 0,
   "metadata": {
    "application/vnd.databricks.v1+cell": {
     "cellMetadata": {
      "byteLimit": 2048000,
      "implicitDf": true,
      "rowLimit": 10000
     },
     "inputWidgets": {},
     "nuid": "a3b09d6f-0d2e-4484-9cdd-23f6b6d14971",
     "showTitle": false,
     "title": ""
    }
   },
   "outputs": [
    {
     "output_type": "display_data",
     "data": {
      "text/html": [
       "<style scoped>\n",
       "  .table-result-container {\n",
       "    max-height: 300px;\n",
       "    overflow: auto;\n",
       "  }\n",
       "  table, th, td {\n",
       "    border: 1px solid black;\n",
       "    border-collapse: collapse;\n",
       "  }\n",
       "  th, td {\n",
       "    padding: 5px;\n",
       "  }\n",
       "  th {\n",
       "    text-align: left;\n",
       "  }\n",
       "</style><div class='table-result-container'><table class='table-result'><thead style='background-color: white'><tr></tr></thead><tbody></tbody></table></div>"
      ]
     },
     "metadata": {
      "application/vnd.databricks.v1+output": {
       "addedWidgets": {},
       "aggData": [],
       "aggError": "",
       "aggOverflow": false,
       "aggSchema": [],
       "aggSeriesLimitReached": false,
       "aggType": "",
       "arguments": {},
       "columnCustomDisplayInfos": {},
       "data": [],
       "datasetInfos": [],
       "dbfsResultPath": null,
       "isJsonSchema": true,
       "metadata": {},
       "overflow": false,
       "plotOptions": {
        "customPlotOptions": {},
        "displayType": "table",
        "pivotAggregation": null,
        "pivotColumns": null,
        "xColumns": null,
        "yColumns": null
       },
       "removedWidgets": [],
       "schema": [],
       "type": "table"
      }
     },
     "output_type": "display_data"
    }
   ],
   "source": [
    "%sql\n",
    "CREATE OR REPLACE TABLE EliminationMatches (\n",
    "    MatchID INT,\n",
    "    Team1 VARCHAR(53),\n",
    "    Team1Goals INT,\n",
    "    Team2Goals INT,\n",
    "    Team2 VARCHAR(53),\n",
    "    MatchWinner VARCHAR(53),\n",
    "    MatchStage VARCHAR(20)\n",
    ");"
   ]
  },
  {
   "cell_type": "markdown",
   "metadata": {
    "application/vnd.databricks.v1+cell": {
     "cellMetadata": {
      "byteLimit": 2048000,
      "rowLimit": 10000
     },
     "inputWidgets": {},
     "nuid": "5285b2ea-0644-41c4-b9b2-d63bc0c726f1",
     "showTitle": false,
     "title": ""
    }
   },
   "source": [
    "##ROund of 16 matches between those selected teams ."
   ]
  },
  {
   "cell_type": "code",
   "execution_count": 0,
   "metadata": {
    "application/vnd.databricks.v1+cell": {
     "cellMetadata": {
      "byteLimit": 2048000,
      "implicitDf": true,
      "rowLimit": 10000
     },
     "inputWidgets": {},
     "nuid": "dc0e6d95-0ac2-4ae3-9438-731ddc76754c",
     "showTitle": false,
     "title": ""
    }
   },
   "outputs": [
    {
     "output_type": "display_data",
     "data": {
      "text/html": [
       "<style scoped>\n",
       "  .table-result-container {\n",
       "    max-height: 300px;\n",
       "    overflow: auto;\n",
       "  }\n",
       "  table, th, td {\n",
       "    border: 1px solid black;\n",
       "    border-collapse: collapse;\n",
       "  }\n",
       "  th, td {\n",
       "    padding: 5px;\n",
       "  }\n",
       "  th {\n",
       "    text-align: left;\n",
       "  }\n",
       "</style><div class='table-result-container'><table class='table-result'><thead style='background-color: white'><tr><th>num_affected_rows</th><th>num_inserted_rows</th></tr></thead><tbody><tr><td>8</td><td>8</td></tr></tbody></table></div>"
      ]
     },
     "metadata": {
      "application/vnd.databricks.v1+output": {
       "addedWidgets": {},
       "aggData": [],
       "aggError": "",
       "aggOverflow": false,
       "aggSchema": [],
       "aggSeriesLimitReached": false,
       "aggType": "",
       "arguments": {},
       "columnCustomDisplayInfos": {},
       "data": [
        [
         8,
         8
        ]
       ],
       "datasetInfos": [],
       "dbfsResultPath": null,
       "isJsonSchema": true,
       "metadata": {},
       "overflow": false,
       "plotOptions": {
        "customPlotOptions": {},
        "displayType": "table",
        "pivotAggregation": null,
        "pivotColumns": null,
        "xColumns": null,
        "yColumns": null
       },
       "removedWidgets": [],
       "schema": [
        {
         "metadata": "{}",
         "name": "num_affected_rows",
         "type": "\"long\""
        },
        {
         "metadata": "{}",
         "name": "num_inserted_rows",
         "type": "\"long\""
        }
       ],
       "type": "table"
      }
     },
     "output_type": "display_data"
    }
   ],
   "source": [
    "%sql\n",
    "\n",
    "With QualificationCompare AS (\n",
    "  SELECT c.SId, c.B1, c.C1, c.E1, c.F1, pc.PlacementCombination \n",
    "  FROM ThirdPlacementCombinations c\n",
    "  JOIN (\n",
    "    SELECT\n",
    "        CONCAT_WS('', COLLECT_LIST(SUBSTRING(GroupName, 1) || TeamRank)) AS PlacementCombination\n",
    "    FROM\n",
    "        RoundOf16\n",
    "    WHERE\n",
    "        TeamRank = 3\n",
    "  ) pc\n",
    "  ON c.QualificationSequence = pc.PlacementCombination\n",
    ")\n",
    "  \n",
    "INSERT INTO EliminationMatches (MatchID, Team1, Team1Goals, Team2Goals, Team2, MatchWinner, MatchStage)\n",
    "SELECT\n",
    "    ROW_NUMBER() OVER (ORDER BY \n",
    "      CASE \n",
    "        WHEN t1.TeamRank = 1 AND t1.GroupName = 'B' THEN 1\n",
    "        WHEN t1.TeamRank = 1 AND t1.GroupName = 'A' THEN 2\n",
    "        WHEN t1.TeamRank = 1 AND t1.GroupName = 'F' THEN 3\n",
    "        WHEN t1.TeamRank = 2 AND t1.GroupName = 'D' THEN 4\n",
    "        WHEN t1.TeamRank = 1 AND t1.GroupName = 'E' THEN 5\n",
    "        WHEN t1.TeamRank = 1 AND t1.GroupName = 'D' THEN 6\n",
    "        WHEN t1.TeamRank = 1 AND t1.GroupName = 'C' THEN 7\n",
    "        WHEN t1.TeamRank = 2 AND t1.GroupName = 'A' THEN 8\n",
    " \n",
    "      END\n",
    "    ) AS MatchID,\n",
    "    t1.TeamName AS Team1,\n",
    "    ROUND(RAND() * 6) AS Team1Goals,\n",
    "    ROUND(RAND() * 6) AS Team2Goals,\n",
    "    t2.TeamName AS Team2,\n",
    "    CASE\n",
    "        WHEN Team1Goals > Team2Goals THEN t1.TeamName\n",
    "        WHEN Team2Goals > Team1Goals THEN t2.TeamName\n",
    "        ELSE\n",
    "          CASE\n",
    "            WHEN Team1 < Team2 THEN Team1\n",
    "            ELSE Team2\n",
    "          END\n",
    "    END AS MatchWinner,\n",
    "    'Round of 16' AS MatchStage\n",
    "\n",
    "FROM RoundOf16 t1\n",
    "JOIN RoundOf16 t2\n",
    "ON (\n",
    "     (t1.GroupRank = 'B1' AND t2.GroupRank = (SELECT B1 FROM QualificationCompare)) OR\n",
    "    (t1.GroupRank = 'A1' AND t2.GroupRank = 'C2') OR\n",
    "    (t1.GroupRank = 'F1' AND t2.GroupRank = (SELECT F1 FROM QualificationCompare)) OR\n",
    "    (t1.GroupRank = 'D2' AND t2.GroupRank = 'E2') OR\n",
    "    (t1.GroupRank = 'E1' AND t2.GroupRank = (SELECT E1 FROM QualificationCompare)) OR\n",
    "    (t1.GroupRank = 'D1' AND t2.GroupRank = 'F2') OR\n",
    "    (t1.GroupRank = 'C1' AND t2.GroupRank = (SELECT C1 FROM QualificationCompare)) OR\n",
    "    (t1.GroupRank = 'A2' AND t2.GroupRank = 'B2')\n",
    ");\n"
   ]
  },
  {
   "cell_type": "code",
   "execution_count": 0,
   "metadata": {
    "application/vnd.databricks.v1+cell": {
     "cellMetadata": {
      "byteLimit": 2048000,
      "implicitDf": true,
      "rowLimit": 10000
     },
     "inputWidgets": {},
     "nuid": "de048e57-a97f-4f1d-9c29-97d6be306370",
     "showTitle": false,
     "title": ""
    }
   },
   "outputs": [
    {
     "output_type": "display_data",
     "data": {
      "text/html": [
       "<style scoped>\n",
       "  .table-result-container {\n",
       "    max-height: 300px;\n",
       "    overflow: auto;\n",
       "  }\n",
       "  table, th, td {\n",
       "    border: 1px solid black;\n",
       "    border-collapse: collapse;\n",
       "  }\n",
       "  th, td {\n",
       "    padding: 5px;\n",
       "  }\n",
       "  th {\n",
       "    text-align: left;\n",
       "  }\n",
       "</style><div class='table-result-container'><table class='table-result'><thead style='background-color: white'><tr><th>MatchID</th><th>Team1</th><th>Team1Goals</th><th>Team2Goals</th><th>Team2</th><th>MatchWinner</th><th>MatchStage</th></tr></thead><tbody><tr><td>1</td><td>Portugal</td><td>2</td><td>5</td><td>Germany</td><td>Germany</td><td>Round of 16</td></tr><tr><td>2</td><td>France</td><td>3</td><td>5</td><td>Turkey</td><td>Turkey</td><td>Round of 16</td></tr><tr><td>3</td><td>North Macedonia</td><td>2</td><td>1</td><td>Croatia</td><td>North Macedonia</td><td>Round of 16</td></tr><tr><td>4</td><td>Russia</td><td>2</td><td>1</td><td>Wales</td><td>Russia</td><td>Round of 16</td></tr><tr><td>5</td><td>Czech Republic</td><td>1</td><td>2</td><td>England</td><td>England</td><td>Round of 16</td></tr><tr><td>6</td><td>Sweden</td><td>5</td><td>5</td><td>Finland</td><td>Finland</td><td>Round of 16</td></tr><tr><td>7</td><td>Switzerland</td><td>0</td><td>3</td><td>Slovakia</td><td>Slovakia</td><td>Round of 16</td></tr><tr><td>8</td><td>Spain</td><td>1</td><td>4</td><td>Belgium</td><td>Belgium</td><td>Round of 16</td></tr></tbody></table></div>"
      ]
     },
     "metadata": {
      "application/vnd.databricks.v1+output": {
       "addedWidgets": {},
       "aggData": [],
       "aggError": "",
       "aggOverflow": false,
       "aggSchema": [],
       "aggSeriesLimitReached": false,
       "aggType": "",
       "arguments": {},
       "columnCustomDisplayInfos": {},
       "data": [
        [
         1,
         "Portugal",
         2,
         5,
         "Germany",
         "Germany",
         "Round of 16"
        ],
        [
         2,
         "France",
         3,
         5,
         "Turkey",
         "Turkey",
         "Round of 16"
        ],
        [
         3,
         "North Macedonia",
         2,
         1,
         "Croatia",
         "North Macedonia",
         "Round of 16"
        ],
        [
         4,
         "Russia",
         2,
         1,
         "Wales",
         "Russia",
         "Round of 16"
        ],
        [
         5,
         "Czech Republic",
         1,
         2,
         "England",
         "England",
         "Round of 16"
        ],
        [
         6,
         "Sweden",
         5,
         5,
         "Finland",
         "Finland",
         "Round of 16"
        ],
        [
         7,
         "Switzerland",
         0,
         3,
         "Slovakia",
         "Slovakia",
         "Round of 16"
        ],
        [
         8,
         "Spain",
         1,
         4,
         "Belgium",
         "Belgium",
         "Round of 16"
        ]
       ],
       "datasetInfos": [],
       "dbfsResultPath": null,
       "isJsonSchema": true,
       "metadata": {},
       "overflow": false,
       "plotOptions": {
        "customPlotOptions": {},
        "displayType": "table",
        "pivotAggregation": null,
        "pivotColumns": null,
        "xColumns": null,
        "yColumns": null
       },
       "removedWidgets": [],
       "schema": [
        {
         "metadata": "{}",
         "name": "MatchID",
         "type": "\"integer\""
        },
        {
         "metadata": "{\"__CHAR_VARCHAR_TYPE_STRING\":\"varchar(53)\"}",
         "name": "Team1",
         "type": "\"string\""
        },
        {
         "metadata": "{}",
         "name": "Team1Goals",
         "type": "\"integer\""
        },
        {
         "metadata": "{}",
         "name": "Team2Goals",
         "type": "\"integer\""
        },
        {
         "metadata": "{\"__CHAR_VARCHAR_TYPE_STRING\":\"varchar(53)\"}",
         "name": "Team2",
         "type": "\"string\""
        },
        {
         "metadata": "{\"__CHAR_VARCHAR_TYPE_STRING\":\"varchar(53)\"}",
         "name": "MatchWinner",
         "type": "\"string\""
        },
        {
         "metadata": "{\"__CHAR_VARCHAR_TYPE_STRING\":\"varchar(20)\"}",
         "name": "MatchStage",
         "type": "\"string\""
        }
       ],
       "type": "table"
      }
     },
     "output_type": "display_data"
    }
   ],
   "source": [
    "%sql\n",
    "select * from eliminationmatches"
   ]
  },
  {
   "cell_type": "markdown",
   "metadata": {
    "application/vnd.databricks.v1+cell": {
     "cellMetadata": {
      "byteLimit": 2048000,
      "rowLimit": 10000
     },
     "inputWidgets": {},
     "nuid": "ca07c03a-0daa-4e93-b45a-3cc802ec7a81",
     "showTitle": false,
     "title": ""
    }
   },
   "source": [
    "##Quater Final Matches"
   ]
  },
  {
   "cell_type": "code",
   "execution_count": 0,
   "metadata": {
    "application/vnd.databricks.v1+cell": {
     "cellMetadata": {
      "byteLimit": 2048000,
      "implicitDf": true,
      "rowLimit": 10000
     },
     "inputWidgets": {},
     "nuid": "2f8a8304-8809-4107-86d0-3bdbc31a6236",
     "showTitle": false,
     "title": ""
    }
   },
   "outputs": [
    {
     "output_type": "display_data",
     "data": {
      "text/html": [
       "<style scoped>\n",
       "  .table-result-container {\n",
       "    max-height: 300px;\n",
       "    overflow: auto;\n",
       "  }\n",
       "  table, th, td {\n",
       "    border: 1px solid black;\n",
       "    border-collapse: collapse;\n",
       "  }\n",
       "  th, td {\n",
       "    padding: 5px;\n",
       "  }\n",
       "  th {\n",
       "    text-align: left;\n",
       "  }\n",
       "</style><div class='table-result-container'><table class='table-result'><thead style='background-color: white'><tr><th>num_affected_rows</th></tr></thead><tbody><tr><td>4</td></tr></tbody></table></div>"
      ]
     },
     "metadata": {
      "application/vnd.databricks.v1+output": {
       "addedWidgets": {},
       "aggData": [],
       "aggError": "",
       "aggOverflow": false,
       "aggSchema": [],
       "aggSeriesLimitReached": false,
       "aggType": "",
       "arguments": {},
       "columnCustomDisplayInfos": {},
       "data": [
        [
         4
        ]
       ],
       "datasetInfos": [],
       "dbfsResultPath": null,
       "isJsonSchema": true,
       "metadata": {},
       "overflow": false,
       "plotOptions": {
        "customPlotOptions": {},
        "displayType": "table",
        "pivotAggregation": null,
        "pivotColumns": null,
        "xColumns": null,
        "yColumns": null
       },
       "removedWidgets": [],
       "schema": [
        {
         "metadata": "{}",
         "name": "num_affected_rows",
         "type": "\"long\""
        }
       ],
       "type": "table"
      }
     },
     "output_type": "display_data"
    }
   ],
   "source": [
    "%sql\n",
    "\n",
    "\n",
    "INSERT INTO EliminationMatches (MatchID, Team1, Team1Goals, Team2Goals, Team2, MatchWinner, MatchStage)\n",
    "SELECT\n",
    "    ROW_NUMBER() OVER (ORDER BY 1) + 8 AS MatchID,\n",
    "    t1.MatchWinner AS Team1,\n",
    "    ROUND(RAND() * 6) AS Team1Goals,\n",
    "    ROUND(RAND() * 6) AS Team2Goals,\n",
    "    t2.MatchWinner AS Team2,\n",
    "    'TBD' AS MatchWinner,\n",
    "    'Quater Finals' AS MatchStage\n",
    "\n",
    "FROM EliminationMatches t1\n",
    "CROSS JOIN EliminationMatches t2\n",
    "ON\n",
    "  (t1.MatchID = 1 AND t2.MatchId = 2) OR\n",
    "  (t1.MatchID = 3 AND t2.MatchId = 4) OR\n",
    "  (t1.MatchID = 5 AND t2.MatchId = 6) OR\n",
    "  (t1.MatchID = 7 AND t2.MatchId = 8);\n",
    "\n",
    "UPDATE EliminationMatches\n",
    "SET MatchWinner = \n",
    "    CASE\n",
    "        WHEN Team1Goals > Team2Goals THEN Team1\n",
    "        WHEN Team1Goals < Team2Goals THEN Team2\n",
    "        ELSE\n",
    "            CASE\n",
    "                WHEN Team1 < Team2 THEN Team1\n",
    "                ELSE Team2\n",
    "            END\n",
    "    END\n",
    "WHERE MatchStage = 'Quater Finals';"
   ]
  },
  {
   "cell_type": "code",
   "execution_count": 0,
   "metadata": {
    "application/vnd.databricks.v1+cell": {
     "cellMetadata": {
      "byteLimit": 2048000,
      "implicitDf": true,
      "rowLimit": 10000
     },
     "inputWidgets": {},
     "nuid": "17fc196e-fbaf-4caf-8ef0-812588940173",
     "showTitle": false,
     "title": ""
    }
   },
   "outputs": [
    {
     "output_type": "display_data",
     "data": {
      "text/html": [
       "<style scoped>\n",
       "  .table-result-container {\n",
       "    max-height: 300px;\n",
       "    overflow: auto;\n",
       "  }\n",
       "  table, th, td {\n",
       "    border: 1px solid black;\n",
       "    border-collapse: collapse;\n",
       "  }\n",
       "  th, td {\n",
       "    padding: 5px;\n",
       "  }\n",
       "  th {\n",
       "    text-align: left;\n",
       "  }\n",
       "</style><div class='table-result-container'><table class='table-result'><thead style='background-color: white'><tr><th>MatchID</th><th>Team1</th><th>Team1Goals</th><th>Team2Goals</th><th>Team2</th><th>MatchWinner</th><th>MatchStage</th></tr></thead><tbody><tr><td>1</td><td>Portugal</td><td>2</td><td>5</td><td>Germany</td><td>Germany</td><td>Round of 16</td></tr><tr><td>2</td><td>France</td><td>3</td><td>5</td><td>Turkey</td><td>Turkey</td><td>Round of 16</td></tr><tr><td>3</td><td>North Macedonia</td><td>2</td><td>1</td><td>Croatia</td><td>North Macedonia</td><td>Round of 16</td></tr><tr><td>4</td><td>Russia</td><td>2</td><td>1</td><td>Wales</td><td>Russia</td><td>Round of 16</td></tr><tr><td>5</td><td>Czech Republic</td><td>1</td><td>2</td><td>England</td><td>England</td><td>Round of 16</td></tr><tr><td>6</td><td>Sweden</td><td>5</td><td>5</td><td>Finland</td><td>Finland</td><td>Round of 16</td></tr><tr><td>7</td><td>Switzerland</td><td>0</td><td>3</td><td>Slovakia</td><td>Slovakia</td><td>Round of 16</td></tr><tr><td>8</td><td>Spain</td><td>1</td><td>4</td><td>Belgium</td><td>Belgium</td><td>Round of 16</td></tr><tr><td>9</td><td>Germany</td><td>6</td><td>6</td><td>Turkey</td><td>Germany</td><td>Quater Finals</td></tr><tr><td>10</td><td>North Macedonia</td><td>3</td><td>1</td><td>Russia</td><td>North Macedonia</td><td>Quater Finals</td></tr><tr><td>11</td><td>England</td><td>5</td><td>1</td><td>Finland</td><td>England</td><td>Quater Finals</td></tr><tr><td>12</td><td>Slovakia</td><td>2</td><td>3</td><td>Belgium</td><td>Belgium</td><td>Quater Finals</td></tr></tbody></table></div>"
      ]
     },
     "metadata": {
      "application/vnd.databricks.v1+output": {
       "addedWidgets": {},
       "aggData": [],
       "aggError": "",
       "aggOverflow": false,
       "aggSchema": [],
       "aggSeriesLimitReached": false,
       "aggType": "",
       "arguments": {},
       "columnCustomDisplayInfos": {},
       "data": [
        [
         1,
         "Portugal",
         2,
         5,
         "Germany",
         "Germany",
         "Round of 16"
        ],
        [
         2,
         "France",
         3,
         5,
         "Turkey",
         "Turkey",
         "Round of 16"
        ],
        [
         3,
         "North Macedonia",
         2,
         1,
         "Croatia",
         "North Macedonia",
         "Round of 16"
        ],
        [
         4,
         "Russia",
         2,
         1,
         "Wales",
         "Russia",
         "Round of 16"
        ],
        [
         5,
         "Czech Republic",
         1,
         2,
         "England",
         "England",
         "Round of 16"
        ],
        [
         6,
         "Sweden",
         5,
         5,
         "Finland",
         "Finland",
         "Round of 16"
        ],
        [
         7,
         "Switzerland",
         0,
         3,
         "Slovakia",
         "Slovakia",
         "Round of 16"
        ],
        [
         8,
         "Spain",
         1,
         4,
         "Belgium",
         "Belgium",
         "Round of 16"
        ],
        [
         9,
         "Germany",
         6,
         6,
         "Turkey",
         "Germany",
         "Quater Finals"
        ],
        [
         10,
         "North Macedonia",
         3,
         1,
         "Russia",
         "North Macedonia",
         "Quater Finals"
        ],
        [
         11,
         "England",
         5,
         1,
         "Finland",
         "England",
         "Quater Finals"
        ],
        [
         12,
         "Slovakia",
         2,
         3,
         "Belgium",
         "Belgium",
         "Quater Finals"
        ]
       ],
       "datasetInfos": [],
       "dbfsResultPath": null,
       "isJsonSchema": true,
       "metadata": {},
       "overflow": false,
       "plotOptions": {
        "customPlotOptions": {},
        "displayType": "table",
        "pivotAggregation": null,
        "pivotColumns": null,
        "xColumns": null,
        "yColumns": null
       },
       "removedWidgets": [],
       "schema": [
        {
         "metadata": "{}",
         "name": "MatchID",
         "type": "\"integer\""
        },
        {
         "metadata": "{\"__CHAR_VARCHAR_TYPE_STRING\":\"varchar(53)\"}",
         "name": "Team1",
         "type": "\"string\""
        },
        {
         "metadata": "{}",
         "name": "Team1Goals",
         "type": "\"integer\""
        },
        {
         "metadata": "{}",
         "name": "Team2Goals",
         "type": "\"integer\""
        },
        {
         "metadata": "{\"__CHAR_VARCHAR_TYPE_STRING\":\"varchar(53)\"}",
         "name": "Team2",
         "type": "\"string\""
        },
        {
         "metadata": "{\"__CHAR_VARCHAR_TYPE_STRING\":\"varchar(53)\"}",
         "name": "MatchWinner",
         "type": "\"string\""
        },
        {
         "metadata": "{\"__CHAR_VARCHAR_TYPE_STRING\":\"varchar(20)\"}",
         "name": "MatchStage",
         "type": "\"string\""
        }
       ],
       "type": "table"
      }
     },
     "output_type": "display_data"
    }
   ],
   "source": [
    "%sql\n",
    "select * from eliminationmatches"
   ]
  },
  {
   "cell_type": "markdown",
   "metadata": {
    "application/vnd.databricks.v1+cell": {
     "cellMetadata": {
      "byteLimit": 2048000,
      "rowLimit": 10000
     },
     "inputWidgets": {},
     "nuid": "4ab2d090-bc02-4d93-8dfb-b89af1dc614f",
     "showTitle": false,
     "title": ""
    }
   },
   "source": [
    "##Semi-Final Matches"
   ]
  },
  {
   "cell_type": "code",
   "execution_count": 0,
   "metadata": {
    "application/vnd.databricks.v1+cell": {
     "cellMetadata": {
      "byteLimit": 2048000,
      "implicitDf": true,
      "rowLimit": 10000
     },
     "inputWidgets": {},
     "nuid": "525da65b-dd2e-4e33-918d-902e37c6a493",
     "showTitle": false,
     "title": ""
    }
   },
   "outputs": [
    {
     "output_type": "display_data",
     "data": {
      "text/html": [
       "<style scoped>\n",
       "  .table-result-container {\n",
       "    max-height: 300px;\n",
       "    overflow: auto;\n",
       "  }\n",
       "  table, th, td {\n",
       "    border: 1px solid black;\n",
       "    border-collapse: collapse;\n",
       "  }\n",
       "  th, td {\n",
       "    padding: 5px;\n",
       "  }\n",
       "  th {\n",
       "    text-align: left;\n",
       "  }\n",
       "</style><div class='table-result-container'><table class='table-result'><thead style='background-color: white'><tr><th>num_affected_rows</th></tr></thead><tbody><tr><td>2</td></tr></tbody></table></div>"
      ]
     },
     "metadata": {
      "application/vnd.databricks.v1+output": {
       "addedWidgets": {},
       "aggData": [],
       "aggError": "",
       "aggOverflow": false,
       "aggSchema": [],
       "aggSeriesLimitReached": false,
       "aggType": "",
       "arguments": {},
       "columnCustomDisplayInfos": {},
       "data": [
        [
         2
        ]
       ],
       "datasetInfos": [],
       "dbfsResultPath": null,
       "isJsonSchema": true,
       "metadata": {},
       "overflow": false,
       "plotOptions": {
        "customPlotOptions": {},
        "displayType": "table",
        "pivotAggregation": null,
        "pivotColumns": null,
        "xColumns": null,
        "yColumns": null
       },
       "removedWidgets": [],
       "schema": [
        {
         "metadata": "{}",
         "name": "num_affected_rows",
         "type": "\"long\""
        }
       ],
       "type": "table"
      }
     },
     "output_type": "display_data"
    }
   ],
   "source": [
    "%sql\n",
    "INSERT INTO EliminationMatches (MatchID, Team1, Team1Goals, Team2Goals, Team2, MatchWinner, MatchStage)\n",
    "SELECT\n",
    "    ROW_NUMBER() OVER (ORDER BY 1) + 12 AS MatchID,\n",
    "    t1.MatchWinner AS Team1,\n",
    "    ROUND(RAND() * 6) AS Team1Goals,\n",
    "    ROUND(RAND() * 6) AS Team2Goals,\n",
    "    t2.MatchWinner AS Team2,\n",
    "    'TBD' AS MatchWinner,\n",
    "    'Semifinals' AS MatchStage\n",
    "\n",
    "FROM EliminationMatches t1\n",
    "CROSS JOIN EliminationMatches t2\n",
    "ON\n",
    "  (t1.MatchID = 9 AND t2.MatchId = 10) OR\n",
    "  (t1.MatchID = 11 AND t2.MatchId = 12);\n",
    "\n",
    "UPDATE EliminationMatches\n",
    "SET MatchWinner = \n",
    "    CASE\n",
    "        WHEN Team1Goals > Team2Goals THEN Team1\n",
    "        WHEN Team1Goals < Team2Goals THEN Team2\n",
    "        ELSE\n",
    "            CASE\n",
    "                WHEN Team1 < Team2 THEN Team1\n",
    "                ELSE Team2\n",
    "            END\n",
    "    END\n",
    "WHERE MatchStage = 'Semifinals';\n"
   ]
  },
  {
   "cell_type": "code",
   "execution_count": 0,
   "metadata": {
    "application/vnd.databricks.v1+cell": {
     "cellMetadata": {
      "byteLimit": 2048000,
      "implicitDf": true,
      "rowLimit": 10000
     },
     "inputWidgets": {},
     "nuid": "a2405d13-a56f-4a60-9c8d-60f3ef288165",
     "showTitle": false,
     "title": ""
    }
   },
   "outputs": [
    {
     "output_type": "display_data",
     "data": {
      "text/html": [
       "<style scoped>\n",
       "  .table-result-container {\n",
       "    max-height: 300px;\n",
       "    overflow: auto;\n",
       "  }\n",
       "  table, th, td {\n",
       "    border: 1px solid black;\n",
       "    border-collapse: collapse;\n",
       "  }\n",
       "  th, td {\n",
       "    padding: 5px;\n",
       "  }\n",
       "  th {\n",
       "    text-align: left;\n",
       "  }\n",
       "</style><div class='table-result-container'><table class='table-result'><thead style='background-color: white'><tr><th>MatchID</th><th>Team1</th><th>Team1Goals</th><th>Team2Goals</th><th>Team2</th><th>MatchWinner</th><th>MatchStage</th></tr></thead><tbody><tr><td>1</td><td>Portugal</td><td>2</td><td>5</td><td>Germany</td><td>Germany</td><td>Round of 16</td></tr><tr><td>2</td><td>France</td><td>3</td><td>5</td><td>Turkey</td><td>Turkey</td><td>Round of 16</td></tr><tr><td>3</td><td>North Macedonia</td><td>2</td><td>1</td><td>Croatia</td><td>North Macedonia</td><td>Round of 16</td></tr><tr><td>4</td><td>Russia</td><td>2</td><td>1</td><td>Wales</td><td>Russia</td><td>Round of 16</td></tr><tr><td>5</td><td>Czech Republic</td><td>1</td><td>2</td><td>England</td><td>England</td><td>Round of 16</td></tr><tr><td>6</td><td>Sweden</td><td>5</td><td>5</td><td>Finland</td><td>Finland</td><td>Round of 16</td></tr><tr><td>7</td><td>Switzerland</td><td>0</td><td>3</td><td>Slovakia</td><td>Slovakia</td><td>Round of 16</td></tr><tr><td>8</td><td>Spain</td><td>1</td><td>4</td><td>Belgium</td><td>Belgium</td><td>Round of 16</td></tr><tr><td>9</td><td>Germany</td><td>6</td><td>6</td><td>Turkey</td><td>Germany</td><td>Quater Finals</td></tr><tr><td>10</td><td>North Macedonia</td><td>3</td><td>1</td><td>Russia</td><td>North Macedonia</td><td>Quater Finals</td></tr><tr><td>11</td><td>England</td><td>5</td><td>1</td><td>Finland</td><td>England</td><td>Quater Finals</td></tr><tr><td>12</td><td>Slovakia</td><td>2</td><td>3</td><td>Belgium</td><td>Belgium</td><td>Quater Finals</td></tr><tr><td>13</td><td>Germany</td><td>3</td><td>1</td><td>North Macedonia</td><td>Germany</td><td>Semifinals</td></tr><tr><td>14</td><td>England</td><td>2</td><td>6</td><td>Belgium</td><td>Belgium</td><td>Semifinals</td></tr></tbody></table></div>"
      ]
     },
     "metadata": {
      "application/vnd.databricks.v1+output": {
       "addedWidgets": {},
       "aggData": [],
       "aggError": "",
       "aggOverflow": false,
       "aggSchema": [],
       "aggSeriesLimitReached": false,
       "aggType": "",
       "arguments": {},
       "columnCustomDisplayInfos": {},
       "data": [
        [
         1,
         "Portugal",
         2,
         5,
         "Germany",
         "Germany",
         "Round of 16"
        ],
        [
         2,
         "France",
         3,
         5,
         "Turkey",
         "Turkey",
         "Round of 16"
        ],
        [
         3,
         "North Macedonia",
         2,
         1,
         "Croatia",
         "North Macedonia",
         "Round of 16"
        ],
        [
         4,
         "Russia",
         2,
         1,
         "Wales",
         "Russia",
         "Round of 16"
        ],
        [
         5,
         "Czech Republic",
         1,
         2,
         "England",
         "England",
         "Round of 16"
        ],
        [
         6,
         "Sweden",
         5,
         5,
         "Finland",
         "Finland",
         "Round of 16"
        ],
        [
         7,
         "Switzerland",
         0,
         3,
         "Slovakia",
         "Slovakia",
         "Round of 16"
        ],
        [
         8,
         "Spain",
         1,
         4,
         "Belgium",
         "Belgium",
         "Round of 16"
        ],
        [
         9,
         "Germany",
         6,
         6,
         "Turkey",
         "Germany",
         "Quater Finals"
        ],
        [
         10,
         "North Macedonia",
         3,
         1,
         "Russia",
         "North Macedonia",
         "Quater Finals"
        ],
        [
         11,
         "England",
         5,
         1,
         "Finland",
         "England",
         "Quater Finals"
        ],
        [
         12,
         "Slovakia",
         2,
         3,
         "Belgium",
         "Belgium",
         "Quater Finals"
        ],
        [
         13,
         "Germany",
         3,
         1,
         "North Macedonia",
         "Germany",
         "Semifinals"
        ],
        [
         14,
         "England",
         2,
         6,
         "Belgium",
         "Belgium",
         "Semifinals"
        ]
       ],
       "datasetInfos": [],
       "dbfsResultPath": null,
       "isJsonSchema": true,
       "metadata": {},
       "overflow": false,
       "plotOptions": {
        "customPlotOptions": {},
        "displayType": "table",
        "pivotAggregation": null,
        "pivotColumns": null,
        "xColumns": null,
        "yColumns": null
       },
       "removedWidgets": [],
       "schema": [
        {
         "metadata": "{}",
         "name": "MatchID",
         "type": "\"integer\""
        },
        {
         "metadata": "{\"__CHAR_VARCHAR_TYPE_STRING\":\"varchar(53)\"}",
         "name": "Team1",
         "type": "\"string\""
        },
        {
         "metadata": "{}",
         "name": "Team1Goals",
         "type": "\"integer\""
        },
        {
         "metadata": "{}",
         "name": "Team2Goals",
         "type": "\"integer\""
        },
        {
         "metadata": "{\"__CHAR_VARCHAR_TYPE_STRING\":\"varchar(53)\"}",
         "name": "Team2",
         "type": "\"string\""
        },
        {
         "metadata": "{\"__CHAR_VARCHAR_TYPE_STRING\":\"varchar(53)\"}",
         "name": "MatchWinner",
         "type": "\"string\""
        },
        {
         "metadata": "{\"__CHAR_VARCHAR_TYPE_STRING\":\"varchar(20)\"}",
         "name": "MatchStage",
         "type": "\"string\""
        }
       ],
       "type": "table"
      }
     },
     "output_type": "display_data"
    }
   ],
   "source": [
    "%sql\n",
    "select * from EliminationMatches"
   ]
  },
  {
   "cell_type": "markdown",
   "metadata": {
    "application/vnd.databricks.v1+cell": {
     "cellMetadata": {
      "byteLimit": 2048000,
      "rowLimit": 10000
     },
     "inputWidgets": {},
     "nuid": "20403e42-f404-4d88-9e78-b2e918670b9c",
     "showTitle": false,
     "title": ""
    }
   },
   "source": [
    "##Final Match, to declare winner of Euro cup "
   ]
  },
  {
   "cell_type": "code",
   "execution_count": 0,
   "metadata": {
    "application/vnd.databricks.v1+cell": {
     "cellMetadata": {
      "byteLimit": 2048000,
      "implicitDf": true,
      "rowLimit": 10000
     },
     "inputWidgets": {},
     "nuid": "338ee14e-393c-4afc-93e1-3f9add68c398",
     "showTitle": false,
     "title": ""
    }
   },
   "outputs": [
    {
     "output_type": "display_data",
     "data": {
      "text/html": [
       "<style scoped>\n",
       "  .table-result-container {\n",
       "    max-height: 300px;\n",
       "    overflow: auto;\n",
       "  }\n",
       "  table, th, td {\n",
       "    border: 1px solid black;\n",
       "    border-collapse: collapse;\n",
       "  }\n",
       "  th, td {\n",
       "    padding: 5px;\n",
       "  }\n",
       "  th {\n",
       "    text-align: left;\n",
       "  }\n",
       "</style><div class='table-result-container'><table class='table-result'><thead style='background-color: white'><tr><th>num_affected_rows</th></tr></thead><tbody><tr><td>1</td></tr></tbody></table></div>"
      ]
     },
     "metadata": {
      "application/vnd.databricks.v1+output": {
       "addedWidgets": {},
       "aggData": [],
       "aggError": "",
       "aggOverflow": false,
       "aggSchema": [],
       "aggSeriesLimitReached": false,
       "aggType": "",
       "arguments": {},
       "columnCustomDisplayInfos": {},
       "data": [
        [
         1
        ]
       ],
       "datasetInfos": [],
       "dbfsResultPath": null,
       "isJsonSchema": true,
       "metadata": {},
       "overflow": false,
       "plotOptions": {
        "customPlotOptions": {},
        "displayType": "table",
        "pivotAggregation": null,
        "pivotColumns": null,
        "xColumns": null,
        "yColumns": null
       },
       "removedWidgets": [],
       "schema": [
        {
         "metadata": "{}",
         "name": "num_affected_rows",
         "type": "\"long\""
        }
       ],
       "type": "table"
      }
     },
     "output_type": "display_data"
    }
   ],
   "source": [
    "%sql\n",
    "INSERT INTO EliminationMatches (MatchID, Team1, Team1Goals, Team2Goals, Team2, MatchWinner, MatchStage)\n",
    "SELECT\n",
    "    ROW_NUMBER() OVER (ORDER BY 1) + 14 AS MatchID,\n",
    "    t1.MatchWinner AS Team1,\n",
    "    ROUND(RAND() * 6) AS Team1Goals,\n",
    "    ROUND(RAND() * 6) AS Team2Goals,\n",
    "    t2.MatchWinner AS Team2,\n",
    "    'TBD' AS MatchWinner,\n",
    "    'Final' AS MatchStage\n",
    "\n",
    "FROM EliminationMatches t1\n",
    "CROSS JOIN EliminationMatches t2\n",
    "ON\n",
    "  (t1.MatchID = 13 AND t2.MatchId = 14);\n",
    "\n",
    "UPDATE EliminationMatches\n",
    "SET MatchWinner = \n",
    "    CASE\n",
    "        WHEN Team1Goals > Team2Goals THEN Team1\n",
    "        WHEN Team1Goals < Team2Goals THEN Team2\n",
    "        ELSE\n",
    "            CASE\n",
    "                WHEN Team1 < Team2 THEN Team1\n",
    "                ELSE Team2\n",
    "            END\n",
    "    END\n",
    "WHERE MatchStage = 'Final';\n"
   ]
  },
  {
   "cell_type": "code",
   "execution_count": 0,
   "metadata": {
    "application/vnd.databricks.v1+cell": {
     "cellMetadata": {
      "byteLimit": 2048000,
      "implicitDf": true,
      "rowLimit": 10000
     },
     "inputWidgets": {},
     "nuid": "a7327611-b456-4fa4-ae73-2d1f61967fa5",
     "showTitle": false,
     "title": ""
    }
   },
   "outputs": [
    {
     "output_type": "display_data",
     "data": {
      "text/html": [
       "<style scoped>\n",
       "  .table-result-container {\n",
       "    max-height: 300px;\n",
       "    overflow: auto;\n",
       "  }\n",
       "  table, th, td {\n",
       "    border: 1px solid black;\n",
       "    border-collapse: collapse;\n",
       "  }\n",
       "  th, td {\n",
       "    padding: 5px;\n",
       "  }\n",
       "  th {\n",
       "    text-align: left;\n",
       "  }\n",
       "</style><div class='table-result-container'><table class='table-result'><thead style='background-color: white'><tr><th>MatchID</th><th>Team1</th><th>Team1Goals</th><th>Team2Goals</th><th>Team2</th><th>MatchWinner</th><th>MatchStage</th></tr></thead><tbody><tr><td>1</td><td>Portugal</td><td>2</td><td>5</td><td>Germany</td><td>Germany</td><td>Round of 16</td></tr><tr><td>2</td><td>France</td><td>3</td><td>5</td><td>Turkey</td><td>Turkey</td><td>Round of 16</td></tr><tr><td>3</td><td>North Macedonia</td><td>2</td><td>1</td><td>Croatia</td><td>North Macedonia</td><td>Round of 16</td></tr><tr><td>4</td><td>Russia</td><td>2</td><td>1</td><td>Wales</td><td>Russia</td><td>Round of 16</td></tr><tr><td>5</td><td>Czech Republic</td><td>1</td><td>2</td><td>England</td><td>England</td><td>Round of 16</td></tr><tr><td>6</td><td>Sweden</td><td>5</td><td>5</td><td>Finland</td><td>Finland</td><td>Round of 16</td></tr><tr><td>7</td><td>Switzerland</td><td>0</td><td>3</td><td>Slovakia</td><td>Slovakia</td><td>Round of 16</td></tr><tr><td>8</td><td>Spain</td><td>1</td><td>4</td><td>Belgium</td><td>Belgium</td><td>Round of 16</td></tr><tr><td>9</td><td>Germany</td><td>6</td><td>6</td><td>Turkey</td><td>Germany</td><td>Quater Finals</td></tr><tr><td>10</td><td>North Macedonia</td><td>3</td><td>1</td><td>Russia</td><td>North Macedonia</td><td>Quater Finals</td></tr><tr><td>11</td><td>England</td><td>5</td><td>1</td><td>Finland</td><td>England</td><td>Quater Finals</td></tr><tr><td>12</td><td>Slovakia</td><td>2</td><td>3</td><td>Belgium</td><td>Belgium</td><td>Quater Finals</td></tr><tr><td>13</td><td>Germany</td><td>3</td><td>1</td><td>North Macedonia</td><td>Germany</td><td>Semifinals</td></tr><tr><td>14</td><td>England</td><td>2</td><td>6</td><td>Belgium</td><td>Belgium</td><td>Semifinals</td></tr><tr><td>15</td><td>Germany</td><td>2</td><td>6</td><td>Belgium</td><td>Belgium</td><td>Final</td></tr></tbody></table></div>"
      ]
     },
     "metadata": {
      "application/vnd.databricks.v1+output": {
       "addedWidgets": {},
       "aggData": [],
       "aggError": "",
       "aggOverflow": false,
       "aggSchema": [],
       "aggSeriesLimitReached": false,
       "aggType": "",
       "arguments": {},
       "columnCustomDisplayInfos": {},
       "data": [
        [
         1,
         "Portugal",
         2,
         5,
         "Germany",
         "Germany",
         "Round of 16"
        ],
        [
         2,
         "France",
         3,
         5,
         "Turkey",
         "Turkey",
         "Round of 16"
        ],
        [
         3,
         "North Macedonia",
         2,
         1,
         "Croatia",
         "North Macedonia",
         "Round of 16"
        ],
        [
         4,
         "Russia",
         2,
         1,
         "Wales",
         "Russia",
         "Round of 16"
        ],
        [
         5,
         "Czech Republic",
         1,
         2,
         "England",
         "England",
         "Round of 16"
        ],
        [
         6,
         "Sweden",
         5,
         5,
         "Finland",
         "Finland",
         "Round of 16"
        ],
        [
         7,
         "Switzerland",
         0,
         3,
         "Slovakia",
         "Slovakia",
         "Round of 16"
        ],
        [
         8,
         "Spain",
         1,
         4,
         "Belgium",
         "Belgium",
         "Round of 16"
        ],
        [
         9,
         "Germany",
         6,
         6,
         "Turkey",
         "Germany",
         "Quater Finals"
        ],
        [
         10,
         "North Macedonia",
         3,
         1,
         "Russia",
         "North Macedonia",
         "Quater Finals"
        ],
        [
         11,
         "England",
         5,
         1,
         "Finland",
         "England",
         "Quater Finals"
        ],
        [
         12,
         "Slovakia",
         2,
         3,
         "Belgium",
         "Belgium",
         "Quater Finals"
        ],
        [
         13,
         "Germany",
         3,
         1,
         "North Macedonia",
         "Germany",
         "Semifinals"
        ],
        [
         14,
         "England",
         2,
         6,
         "Belgium",
         "Belgium",
         "Semifinals"
        ],
        [
         15,
         "Germany",
         2,
         6,
         "Belgium",
         "Belgium",
         "Final"
        ]
       ],
       "datasetInfos": [],
       "dbfsResultPath": null,
       "isJsonSchema": true,
       "metadata": {},
       "overflow": false,
       "plotOptions": {
        "customPlotOptions": {},
        "displayType": "table",
        "pivotAggregation": null,
        "pivotColumns": null,
        "xColumns": null,
        "yColumns": null
       },
       "removedWidgets": [],
       "schema": [
        {
         "metadata": "{}",
         "name": "MatchID",
         "type": "\"integer\""
        },
        {
         "metadata": "{\"__CHAR_VARCHAR_TYPE_STRING\":\"varchar(53)\"}",
         "name": "Team1",
         "type": "\"string\""
        },
        {
         "metadata": "{}",
         "name": "Team1Goals",
         "type": "\"integer\""
        },
        {
         "metadata": "{}",
         "name": "Team2Goals",
         "type": "\"integer\""
        },
        {
         "metadata": "{\"__CHAR_VARCHAR_TYPE_STRING\":\"varchar(53)\"}",
         "name": "Team2",
         "type": "\"string\""
        },
        {
         "metadata": "{\"__CHAR_VARCHAR_TYPE_STRING\":\"varchar(53)\"}",
         "name": "MatchWinner",
         "type": "\"string\""
        },
        {
         "metadata": "{\"__CHAR_VARCHAR_TYPE_STRING\":\"varchar(20)\"}",
         "name": "MatchStage",
         "type": "\"string\""
        }
       ],
       "type": "table"
      }
     },
     "output_type": "display_data"
    }
   ],
   "source": [
    "%sql\n",
    "select * from EliminationMatches"
   ]
  },
  {
   "cell_type": "code",
   "execution_count": 0,
   "metadata": {
    "application/vnd.databricks.v1+cell": {
     "cellMetadata": {
      "byteLimit": 2048000,
      "implicitDf": true,
      "rowLimit": 10000
     },
     "inputWidgets": {},
     "nuid": "aef6c922-4b6c-4f3f-8de2-f879c07dbc97",
     "showTitle": false,
     "title": ""
    }
   },
   "outputs": [
    {
     "output_type": "display_data",
     "data": {
      "text/html": [
       "<style scoped>\n",
       "  .table-result-container {\n",
       "    max-height: 300px;\n",
       "    overflow: auto;\n",
       "  }\n",
       "  table, th, td {\n",
       "    border: 1px solid black;\n",
       "    border-collapse: collapse;\n",
       "  }\n",
       "  th, td {\n",
       "    padding: 5px;\n",
       "  }\n",
       "  th {\n",
       "    text-align: left;\n",
       "  }\n",
       "</style><div class='table-result-container'><table class='table-result'><thead style='background-color: white'><tr><th>MatchID</th><th>Team1</th><th>Team1Goals</th><th>Team2Goals</th><th>Team2</th><th>MatchWinner</th><th>MatchStage</th></tr></thead><tbody><tr><td>1</td><td>Portugal</td><td>2</td><td>5</td><td>Germany</td><td>Germany</td><td>Round of 16</td></tr><tr><td>2</td><td>France</td><td>3</td><td>5</td><td>Turkey</td><td>Turkey</td><td>Round of 16</td></tr><tr><td>3</td><td>North Macedonia</td><td>2</td><td>1</td><td>Croatia</td><td>North Macedonia</td><td>Round of 16</td></tr><tr><td>4</td><td>Russia</td><td>2</td><td>1</td><td>Wales</td><td>Russia</td><td>Round of 16</td></tr><tr><td>5</td><td>Czech Republic</td><td>1</td><td>2</td><td>England</td><td>England</td><td>Round of 16</td></tr><tr><td>6</td><td>Sweden</td><td>5</td><td>5</td><td>Finland</td><td>Finland</td><td>Round of 16</td></tr><tr><td>7</td><td>Switzerland</td><td>0</td><td>3</td><td>Slovakia</td><td>Slovakia</td><td>Round of 16</td></tr><tr><td>8</td><td>Spain</td><td>1</td><td>4</td><td>Belgium</td><td>Belgium</td><td>Round of 16</td></tr><tr><td>9</td><td>Germany</td><td>6</td><td>6</td><td>Turkey</td><td>Germany</td><td>Quater Finals</td></tr><tr><td>10</td><td>North Macedonia</td><td>3</td><td>1</td><td>Russia</td><td>North Macedonia</td><td>Quater Finals</td></tr><tr><td>11</td><td>England</td><td>5</td><td>1</td><td>Finland</td><td>England</td><td>Quater Finals</td></tr><tr><td>12</td><td>Slovakia</td><td>2</td><td>3</td><td>Belgium</td><td>Belgium</td><td>Quater Finals</td></tr><tr><td>13</td><td>Germany</td><td>3</td><td>1</td><td>North Macedonia</td><td>Germany</td><td>Semifinals</td></tr><tr><td>14</td><td>England</td><td>2</td><td>6</td><td>Belgium</td><td>Belgium</td><td>Semifinals</td></tr><tr><td>15</td><td>Germany</td><td>2</td><td>6</td><td>Belgium</td><td>Belgium</td><td>Final</td></tr></tbody></table></div>"
      ]
     },
     "metadata": {
      "application/vnd.databricks.v1+output": {
       "addedWidgets": {},
       "aggData": [],
       "aggError": "",
       "aggOverflow": false,
       "aggSchema": [],
       "aggSeriesLimitReached": false,
       "aggType": "",
       "arguments": {},
       "columnCustomDisplayInfos": {},
       "data": [
        [
         1,
         "Portugal",
         2,
         5,
         "Germany",
         "Germany",
         "Round of 16"
        ],
        [
         2,
         "France",
         3,
         5,
         "Turkey",
         "Turkey",
         "Round of 16"
        ],
        [
         3,
         "North Macedonia",
         2,
         1,
         "Croatia",
         "North Macedonia",
         "Round of 16"
        ],
        [
         4,
         "Russia",
         2,
         1,
         "Wales",
         "Russia",
         "Round of 16"
        ],
        [
         5,
         "Czech Republic",
         1,
         2,
         "England",
         "England",
         "Round of 16"
        ],
        [
         6,
         "Sweden",
         5,
         5,
         "Finland",
         "Finland",
         "Round of 16"
        ],
        [
         7,
         "Switzerland",
         0,
         3,
         "Slovakia",
         "Slovakia",
         "Round of 16"
        ],
        [
         8,
         "Spain",
         1,
         4,
         "Belgium",
         "Belgium",
         "Round of 16"
        ],
        [
         9,
         "Germany",
         6,
         6,
         "Turkey",
         "Germany",
         "Quater Finals"
        ],
        [
         10,
         "North Macedonia",
         3,
         1,
         "Russia",
         "North Macedonia",
         "Quater Finals"
        ],
        [
         11,
         "England",
         5,
         1,
         "Finland",
         "England",
         "Quater Finals"
        ],
        [
         12,
         "Slovakia",
         2,
         3,
         "Belgium",
         "Belgium",
         "Quater Finals"
        ],
        [
         13,
         "Germany",
         3,
         1,
         "North Macedonia",
         "Germany",
         "Semifinals"
        ],
        [
         14,
         "England",
         2,
         6,
         "Belgium",
         "Belgium",
         "Semifinals"
        ],
        [
         15,
         "Germany",
         2,
         6,
         "Belgium",
         "Belgium",
         "Final"
        ]
       ],
       "datasetInfos": [],
       "dbfsResultPath": null,
       "isJsonSchema": true,
       "metadata": {},
       "overflow": false,
       "plotOptions": {
        "customPlotOptions": {},
        "displayType": "table",
        "pivotAggregation": null,
        "pivotColumns": null,
        "xColumns": null,
        "yColumns": null
       },
       "removedWidgets": [],
       "schema": [
        {
         "metadata": "{}",
         "name": "MatchID",
         "type": "\"integer\""
        },
        {
         "metadata": "{\"__CHAR_VARCHAR_TYPE_STRING\":\"varchar(53)\"}",
         "name": "Team1",
         "type": "\"string\""
        },
        {
         "metadata": "{}",
         "name": "Team1Goals",
         "type": "\"integer\""
        },
        {
         "metadata": "{}",
         "name": "Team2Goals",
         "type": "\"integer\""
        },
        {
         "metadata": "{\"__CHAR_VARCHAR_TYPE_STRING\":\"varchar(53)\"}",
         "name": "Team2",
         "type": "\"string\""
        },
        {
         "metadata": "{\"__CHAR_VARCHAR_TYPE_STRING\":\"varchar(53)\"}",
         "name": "MatchWinner",
         "type": "\"string\""
        },
        {
         "metadata": "{\"__CHAR_VARCHAR_TYPE_STRING\":\"varchar(20)\"}",
         "name": "MatchStage",
         "type": "\"string\""
        }
       ],
       "type": "table"
      }
     },
     "output_type": "display_data"
    }
   ],
   "source": [
    "%sql\n",
    "select * from EliminationMatches"
   ]
  },
  {
   "cell_type": "markdown",
   "metadata": {
    "application/vnd.databricks.v1+cell": {
     "cellMetadata": {
      "byteLimit": 2048000,
      "rowLimit": 10000
     },
     "inputWidgets": {},
     "nuid": "acb97eab-1836-4385-ade7-aeaab0d24c7a",
     "showTitle": false,
     "title": ""
    }
   },
   "source": [
    "##Matches for thirdplace  playoff"
   ]
  },
  {
   "cell_type": "code",
   "execution_count": 0,
   "metadata": {
    "application/vnd.databricks.v1+cell": {
     "cellMetadata": {
      "byteLimit": 2048000,
      "implicitDf": true,
      "rowLimit": 10000
     },
     "inputWidgets": {},
     "nuid": "1b63d52c-c04a-4d93-bf7c-fc05533fdb92",
     "showTitle": false,
     "title": ""
    }
   },
   "outputs": [
    {
     "output_type": "display_data",
     "data": {
      "text/html": [
       "<style scoped>\n",
       "  .table-result-container {\n",
       "    max-height: 300px;\n",
       "    overflow: auto;\n",
       "  }\n",
       "  table, th, td {\n",
       "    border: 1px solid black;\n",
       "    border-collapse: collapse;\n",
       "  }\n",
       "  th, td {\n",
       "    padding: 5px;\n",
       "  }\n",
       "  th {\n",
       "    text-align: left;\n",
       "  }\n",
       "</style><div class='table-result-container'><table class='table-result'><thead style='background-color: white'><tr><th>num_affected_rows</th></tr></thead><tbody><tr><td>1</td></tr></tbody></table></div>"
      ]
     },
     "metadata": {
      "application/vnd.databricks.v1+output": {
       "addedWidgets": {},
       "aggData": [],
       "aggError": "",
       "aggOverflow": false,
       "aggSchema": [],
       "aggSeriesLimitReached": false,
       "aggType": "",
       "arguments": {},
       "columnCustomDisplayInfos": {},
       "data": [
        [
         1
        ]
       ],
       "datasetInfos": [],
       "dbfsResultPath": null,
       "isJsonSchema": true,
       "metadata": {},
       "overflow": false,
       "plotOptions": {
        "customPlotOptions": {},
        "displayType": "table",
        "pivotAggregation": null,
        "pivotColumns": null,
        "xColumns": null,
        "yColumns": null
       },
       "removedWidgets": [],
       "schema": [
        {
         "metadata": "{}",
         "name": "num_affected_rows",
         "type": "\"long\""
        }
       ],
       "type": "table"
      }
     },
     "output_type": "display_data"
    }
   ],
   "source": [
    "%sql\n",
    "-- Inserting Third Place Playoff\n",
    "INSERT INTO EliminationMatches (MatchID, Team1, Team1Goals, Team2Goals, Team2, MatchWinner, MatchStage)\n",
    "SELECT\n",
    "    ROW_NUMBER() OVER (ORDER BY 1) + 16 AS MatchID,\n",
    "    CASE\n",
    "        WHEN t1.Team1Goals < t1.Team2Goals THEN t1.Team1\n",
    "        ELSE t1.Team2\n",
    "    END AS Team1,\n",
    "    ROUND(RAND() * 6) AS Team1Goals,\n",
    "    ROUND(RAND() * 6) AS Team2Goals,\n",
    "    CASE\n",
    "        WHEN t2.Team1Goals < t2.Team2Goals THEN t2.Team1\n",
    "        ELSE t2.Team2\n",
    "    END AS Team2,\n",
    "    'TBD' AS MatchWinner,\n",
    "    '3rd Place' AS MatchStage\n",
    "FROM EliminationMatches t1\n",
    "JOIN EliminationMatches t2 ON (t1.MatchID = 13 AND t2.MatchId = 14);\n",
    "\n",
    "-- Updating Third Place Playoff Winner\n",
    "UPDATE EliminationMatches\n",
    "SET MatchWinner = \n",
    "    CASE\n",
    "        WHEN Team1Goals > Team2Goals THEN Team1\n",
    "        WHEN Team1Goals < Team2Goals THEN Team2\n",
    "        ELSE\n",
    "            CASE\n",
    "                WHEN Team1 < Team2 THEN Team1\n",
    "                ELSE Team2\n",
    "            END\n",
    "    END\n",
    "WHERE MatchStage = '3rd Place';\n"
   ]
  },
  {
   "cell_type": "code",
   "execution_count": 0,
   "metadata": {
    "application/vnd.databricks.v1+cell": {
     "cellMetadata": {
      "byteLimit": 2048000,
      "implicitDf": true,
      "rowLimit": 10000
     },
     "inputWidgets": {},
     "nuid": "4ebe82c1-94d5-4d93-9cf6-72319911c172",
     "showTitle": false,
     "title": ""
    }
   },
   "outputs": [
    {
     "output_type": "display_data",
     "data": {
      "text/html": [
       "<style scoped>\n",
       "  .table-result-container {\n",
       "    max-height: 300px;\n",
       "    overflow: auto;\n",
       "  }\n",
       "  table, th, td {\n",
       "    border: 1px solid black;\n",
       "    border-collapse: collapse;\n",
       "  }\n",
       "  th, td {\n",
       "    padding: 5px;\n",
       "  }\n",
       "  th {\n",
       "    text-align: left;\n",
       "  }\n",
       "</style><div class='table-result-container'><table class='table-result'><thead style='background-color: white'><tr><th>MatchID</th><th>Team1</th><th>Team1Goals</th><th>Team2Goals</th><th>Team2</th><th>MatchWinner</th><th>MatchStage</th></tr></thead><tbody><tr><td>1</td><td>Portugal</td><td>2</td><td>5</td><td>Germany</td><td>Germany</td><td>Round of 16</td></tr><tr><td>2</td><td>France</td><td>3</td><td>5</td><td>Turkey</td><td>Turkey</td><td>Round of 16</td></tr><tr><td>3</td><td>North Macedonia</td><td>2</td><td>1</td><td>Croatia</td><td>North Macedonia</td><td>Round of 16</td></tr><tr><td>4</td><td>Russia</td><td>2</td><td>1</td><td>Wales</td><td>Russia</td><td>Round of 16</td></tr><tr><td>5</td><td>Czech Republic</td><td>1</td><td>2</td><td>England</td><td>England</td><td>Round of 16</td></tr><tr><td>6</td><td>Sweden</td><td>5</td><td>5</td><td>Finland</td><td>Finland</td><td>Round of 16</td></tr><tr><td>7</td><td>Switzerland</td><td>0</td><td>3</td><td>Slovakia</td><td>Slovakia</td><td>Round of 16</td></tr><tr><td>8</td><td>Spain</td><td>1</td><td>4</td><td>Belgium</td><td>Belgium</td><td>Round of 16</td></tr><tr><td>9</td><td>Germany</td><td>6</td><td>6</td><td>Turkey</td><td>Germany</td><td>Quater Finals</td></tr><tr><td>10</td><td>North Macedonia</td><td>3</td><td>1</td><td>Russia</td><td>North Macedonia</td><td>Quater Finals</td></tr><tr><td>11</td><td>England</td><td>5</td><td>1</td><td>Finland</td><td>England</td><td>Quater Finals</td></tr><tr><td>12</td><td>Slovakia</td><td>2</td><td>3</td><td>Belgium</td><td>Belgium</td><td>Quater Finals</td></tr><tr><td>17</td><td>North Macedonia</td><td>2</td><td>1</td><td>England</td><td>North Macedonia</td><td>3rd Place</td></tr><tr><td>13</td><td>Germany</td><td>3</td><td>1</td><td>North Macedonia</td><td>Germany</td><td>Semifinals</td></tr><tr><td>14</td><td>England</td><td>2</td><td>6</td><td>Belgium</td><td>Belgium</td><td>Semifinals</td></tr><tr><td>15</td><td>Germany</td><td>2</td><td>6</td><td>Belgium</td><td>Belgium</td><td>Final</td></tr></tbody></table></div>"
      ]
     },
     "metadata": {
      "application/vnd.databricks.v1+output": {
       "addedWidgets": {},
       "aggData": [],
       "aggError": "",
       "aggOverflow": false,
       "aggSchema": [],
       "aggSeriesLimitReached": false,
       "aggType": "",
       "arguments": {},
       "columnCustomDisplayInfos": {},
       "data": [
        [
         1,
         "Portugal",
         2,
         5,
         "Germany",
         "Germany",
         "Round of 16"
        ],
        [
         2,
         "France",
         3,
         5,
         "Turkey",
         "Turkey",
         "Round of 16"
        ],
        [
         3,
         "North Macedonia",
         2,
         1,
         "Croatia",
         "North Macedonia",
         "Round of 16"
        ],
        [
         4,
         "Russia",
         2,
         1,
         "Wales",
         "Russia",
         "Round of 16"
        ],
        [
         5,
         "Czech Republic",
         1,
         2,
         "England",
         "England",
         "Round of 16"
        ],
        [
         6,
         "Sweden",
         5,
         5,
         "Finland",
         "Finland",
         "Round of 16"
        ],
        [
         7,
         "Switzerland",
         0,
         3,
         "Slovakia",
         "Slovakia",
         "Round of 16"
        ],
        [
         8,
         "Spain",
         1,
         4,
         "Belgium",
         "Belgium",
         "Round of 16"
        ],
        [
         9,
         "Germany",
         6,
         6,
         "Turkey",
         "Germany",
         "Quater Finals"
        ],
        [
         10,
         "North Macedonia",
         3,
         1,
         "Russia",
         "North Macedonia",
         "Quater Finals"
        ],
        [
         11,
         "England",
         5,
         1,
         "Finland",
         "England",
         "Quater Finals"
        ],
        [
         12,
         "Slovakia",
         2,
         3,
         "Belgium",
         "Belgium",
         "Quater Finals"
        ],
        [
         17,
         "North Macedonia",
         2,
         1,
         "England",
         "North Macedonia",
         "3rd Place"
        ],
        [
         13,
         "Germany",
         3,
         1,
         "North Macedonia",
         "Germany",
         "Semifinals"
        ],
        [
         14,
         "England",
         2,
         6,
         "Belgium",
         "Belgium",
         "Semifinals"
        ],
        [
         15,
         "Germany",
         2,
         6,
         "Belgium",
         "Belgium",
         "Final"
        ]
       ],
       "datasetInfos": [],
       "dbfsResultPath": null,
       "isJsonSchema": true,
       "metadata": {},
       "overflow": false,
       "plotOptions": {
        "customPlotOptions": {},
        "displayType": "table",
        "pivotAggregation": null,
        "pivotColumns": null,
        "xColumns": null,
        "yColumns": null
       },
       "removedWidgets": [],
       "schema": [
        {
         "metadata": "{}",
         "name": "MatchID",
         "type": "\"integer\""
        },
        {
         "metadata": "{\"__CHAR_VARCHAR_TYPE_STRING\":\"varchar(53)\"}",
         "name": "Team1",
         "type": "\"string\""
        },
        {
         "metadata": "{}",
         "name": "Team1Goals",
         "type": "\"integer\""
        },
        {
         "metadata": "{}",
         "name": "Team2Goals",
         "type": "\"integer\""
        },
        {
         "metadata": "{\"__CHAR_VARCHAR_TYPE_STRING\":\"varchar(53)\"}",
         "name": "Team2",
         "type": "\"string\""
        },
        {
         "metadata": "{\"__CHAR_VARCHAR_TYPE_STRING\":\"varchar(53)\"}",
         "name": "MatchWinner",
         "type": "\"string\""
        },
        {
         "metadata": "{\"__CHAR_VARCHAR_TYPE_STRING\":\"varchar(20)\"}",
         "name": "MatchStage",
         "type": "\"string\""
        }
       ],
       "type": "table"
      }
     },
     "output_type": "display_data"
    }
   ],
   "source": [
    "%sql\n",
    "select * from EliminationMatches"
   ]
  },
  {
   "cell_type": "markdown",
   "metadata": {
    "application/vnd.databricks.v1+cell": {
     "cellMetadata": {
      "byteLimit": 2048000,
      "rowLimit": 10000
     },
     "inputWidgets": {},
     "nuid": "47c191ab-67fb-4b24-9eae-d3583d54d3ee",
     "showTitle": false,
     "title": ""
    }
   },
   "source": [
    "## Table Visualization"
   ]
  },
  {
   "cell_type": "code",
   "execution_count": 0,
   "metadata": {
    "application/vnd.databricks.v1+cell": {
     "cellMetadata": {
      "byteLimit": 2048000,
      "rowLimit": 10000
     },
     "inputWidgets": {},
     "nuid": "143800eb-5b94-4c6c-8fee-9c411f023792",
     "showTitle": false,
     "title": ""
    }
   },
   "outputs": [],
   "source": [
    "#import libraries\n",
    "import pandas as pd\n",
    "from pyspark.sql import SparkSession\n",
    "#Spark Session\n",
    "spark = SparkSession.builder \\\n",
    "    .appName(\"Visualization\") \\\n",
    "    .getOrCreate()"
   ]
  },
  {
   "cell_type": "code",
   "execution_count": 0,
   "metadata": {
    "application/vnd.databricks.v1+cell": {
     "cellMetadata": {
      "byteLimit": 2048000,
      "rowLimit": 10000
     },
     "inputWidgets": {},
     "nuid": "0e47ad12-ca04-4b2b-ae48-45d907220fb1",
     "showTitle": false,
     "title": ""
    }
   },
   "outputs": [
    {
     "output_type": "display_data",
     "data": {
      "text/html": [
       "<style scoped>\n",
       "  .table-result-container {\n",
       "    max-height: 300px;\n",
       "    overflow: auto;\n",
       "  }\n",
       "  table, th, td {\n",
       "    border: 1px solid black;\n",
       "    border-collapse: collapse;\n",
       "  }\n",
       "  th, td {\n",
       "    padding: 5px;\n",
       "  }\n",
       "  th {\n",
       "    text-align: left;\n",
       "  }\n",
       "</style><div class='table-result-container'><table class='table-result'><thead style='background-color: white'><tr><th>TeamID</th><th>TeamName</th><th>GroupName</th><th>TeamRank</th><th>MatchesPlayed</th><th>MatchesWon</th><th>MatchesLost</th><th>MatchesDrawn</th><th>TotalPoints</th><th>GoalDifference</th><th>GoalScored</th><th>GoalConceled</th></tr></thead><tbody><tr><td>1</td><td>France</td><td>A</td><td>1</td><td>3</td><td>2</td><td>0</td><td>1</td><td>7</td><td>4</td><td>12</td><td>8</td></tr><tr><td>3</td><td>Spain</td><td>A</td><td>2</td><td>3</td><td>2</td><td>1</td><td>0</td><td>6</td><td>0</td><td>10</td><td>10</td></tr><tr><td>2</td><td>Germany</td><td>A</td><td>3</td><td>3</td><td>1</td><td>1</td><td>1</td><td>4</td><td>1</td><td>8</td><td>7</td></tr><tr><td>4</td><td>Italy</td><td>A</td><td>4</td><td>3</td><td>0</td><td>3</td><td>0</td><td>0</td><td>-5</td><td>6</td><td>11</td></tr><tr><td>5</td><td>Portugal</td><td>B</td><td>1</td><td>3</td><td>2</td><td>0</td><td>1</td><td>7</td><td>5</td><td>12</td><td>7</td></tr><tr><td>8</td><td>Belgium</td><td>B</td><td>2</td><td>3</td><td>2</td><td>1</td><td>0</td><td>6</td><td>3</td><td>11</td><td>8</td></tr><tr><td>6</td><td>England</td><td>B</td><td>3</td><td>3</td><td>1</td><td>1</td><td>1</td><td>4</td><td>-1</td><td>10</td><td>11</td></tr><tr><td>7</td><td>Netherlands</td><td>B</td><td>4</td><td>3</td><td>0</td><td>3</td><td>0</td><td>0</td><td>-7</td><td>4</td><td>11</td></tr><tr><td>11</td><td>Switzerland</td><td>C</td><td>1</td><td>3</td><td>2</td><td>1</td><td>0</td><td>6</td><td>3</td><td>8</td><td>5</td></tr><tr><td>12</td><td>Turkey</td><td>C</td><td>2</td><td>3</td><td>1</td><td>1</td><td>1</td><td>4</td><td>-1</td><td>8</td><td>9</td></tr><tr><td>9</td><td>Croatia</td><td>C</td><td>3</td><td>3</td><td>1</td><td>1</td><td>1</td><td>4</td><td>-1</td><td>5</td><td>6</td></tr><tr><td>10</td><td>Poland</td><td>C</td><td>4</td><td>3</td><td>1</td><td>2</td><td>0</td><td>3</td><td>-1</td><td>5</td><td>6</td></tr><tr><td>13</td><td>Sweden</td><td>D</td><td>1</td><td>3</td><td>2</td><td>0</td><td>1</td><td>7</td><td>6</td><td>10</td><td>4</td></tr><tr><td>15</td><td>Russia</td><td>D</td><td>2</td><td>3</td><td>1</td><td>1</td><td>1</td><td>4</td><td>0</td><td>5</td><td>5</td></tr><tr><td>16</td><td>Austria</td><td>D</td><td>3</td><td>3</td><td>1</td><td>2</td><td>0</td><td>3</td><td>-2</td><td>4</td><td>6</td></tr><tr><td>14</td><td>Denmark</td><td>D</td><td>4</td><td>3</td><td>1</td><td>2</td><td>0</td><td>3</td><td>-4</td><td>4</td><td>8</td></tr><tr><td>20</td><td>Czech Republic</td><td>E</td><td>1</td><td>3</td><td>3</td><td>0</td><td>0</td><td>9</td><td>7</td><td>9</td><td>2</td></tr><tr><td>18</td><td>Wales</td><td>E</td><td>2</td><td>3</td><td>2</td><td>1</td><td>0</td><td>6</td><td>2</td><td>9</td><td>7</td></tr><tr><td>17</td><td>Ukraine</td><td>E</td><td>3</td><td>3</td><td>1</td><td>2</td><td>0</td><td>3</td><td>-1</td><td>7</td><td>8</td></tr><tr><td>19</td><td>Scotland</td><td>E</td><td>4</td><td>3</td><td>0</td><td>3</td><td>0</td><td>0</td><td>-8</td><td>4</td><td>12</td></tr><tr><td>24</td><td>North Macedonia</td><td>F</td><td>1</td><td>3</td><td>2</td><td>0</td><td>1</td><td>7</td><td>4</td><td>6</td><td>2</td></tr><tr><td>23</td><td>Finland</td><td>F</td><td>2</td><td>3</td><td>2</td><td>0</td><td>1</td><td>7</td><td>3</td><td>10</td><td>7</td></tr><tr><td>21</td><td>Slovakia</td><td>F</td><td>3</td><td>3</td><td>1</td><td>2</td><td>0</td><td>3</td><td>0</td><td>8</td><td>8</td></tr><tr><td>22</td><td>Hungary</td><td>F</td><td>4</td><td>3</td><td>0</td><td>3</td><td>0</td><td>0</td><td>-7</td><td>2</td><td>9</td></tr></tbody></table></div>"
      ]
     },
     "metadata": {
      "application/vnd.databricks.v1+output": {
       "addedWidgets": {},
       "aggData": [],
       "aggError": "",
       "aggOverflow": false,
       "aggSchema": [],
       "aggSeriesLimitReached": false,
       "aggType": "",
       "arguments": {},
       "columnCustomDisplayInfos": {},
       "data": [
        [
         "1",
         "France",
         "A",
         "1",
         "3",
         "2",
         "0",
         "1",
         "7",
         "4",
         "12",
         "8"
        ],
        [
         "3",
         "Spain",
         "A",
         "2",
         "3",
         "2",
         "1",
         "0",
         "6",
         "0",
         "10",
         "10"
        ],
        [
         "2",
         "Germany",
         "A",
         "3",
         "3",
         "1",
         "1",
         "1",
         "4",
         "1",
         "8",
         "7"
        ],
        [
         "4",
         "Italy",
         "A",
         "4",
         "3",
         "0",
         "3",
         "0",
         "0",
         "-5",
         "6",
         "11"
        ],
        [
         "5",
         "Portugal",
         "B",
         "1",
         "3",
         "2",
         "0",
         "1",
         "7",
         "5",
         "12",
         "7"
        ],
        [
         "8",
         "Belgium",
         "B",
         "2",
         "3",
         "2",
         "1",
         "0",
         "6",
         "3",
         "11",
         "8"
        ],
        [
         "6",
         "England",
         "B",
         "3",
         "3",
         "1",
         "1",
         "1",
         "4",
         "-1",
         "10",
         "11"
        ],
        [
         "7",
         "Netherlands",
         "B",
         "4",
         "3",
         "0",
         "3",
         "0",
         "0",
         "-7",
         "4",
         "11"
        ],
        [
         "11",
         "Switzerland",
         "C",
         "1",
         "3",
         "2",
         "1",
         "0",
         "6",
         "3",
         "8",
         "5"
        ],
        [
         "12",
         "Turkey",
         "C",
         "2",
         "3",
         "1",
         "1",
         "1",
         "4",
         "-1",
         "8",
         "9"
        ],
        [
         "9",
         "Croatia",
         "C",
         "3",
         "3",
         "1",
         "1",
         "1",
         "4",
         "-1",
         "5",
         "6"
        ],
        [
         "10",
         "Poland",
         "C",
         "4",
         "3",
         "1",
         "2",
         "0",
         "3",
         "-1",
         "5",
         "6"
        ],
        [
         "13",
         "Sweden",
         "D",
         "1",
         "3",
         "2",
         "0",
         "1",
         "7",
         "6",
         "10",
         "4"
        ],
        [
         "15",
         "Russia",
         "D",
         "2",
         "3",
         "1",
         "1",
         "1",
         "4",
         "0",
         "5",
         "5"
        ],
        [
         "16",
         "Austria",
         "D",
         "3",
         "3",
         "1",
         "2",
         "0",
         "3",
         "-2",
         "4",
         "6"
        ],
        [
         "14",
         "Denmark",
         "D",
         "4",
         "3",
         "1",
         "2",
         "0",
         "3",
         "-4",
         "4",
         "8"
        ],
        [
         "20",
         "Czech Republic",
         "E",
         "1",
         "3",
         "3",
         "0",
         "0",
         "9",
         "7",
         "9",
         "2"
        ],
        [
         "18",
         "Wales",
         "E",
         "2",
         "3",
         "2",
         "1",
         "0",
         "6",
         "2",
         "9",
         "7"
        ],
        [
         "17",
         "Ukraine",
         "E",
         "3",
         "3",
         "1",
         "2",
         "0",
         "3",
         "-1",
         "7",
         "8"
        ],
        [
         "19",
         "Scotland",
         "E",
         "4",
         "3",
         "0",
         "3",
         "0",
         "0",
         "-8",
         "4",
         "12"
        ],
        [
         "24",
         "North Macedonia",
         "F",
         "1",
         "3",
         "2",
         "0",
         "1",
         "7",
         "4",
         "6",
         "2"
        ],
        [
         "23",
         "Finland",
         "F",
         "2",
         "3",
         "2",
         "0",
         "1",
         "7",
         "3",
         "10",
         "7"
        ],
        [
         "21",
         "Slovakia",
         "F",
         "3",
         "3",
         "1",
         "2",
         "0",
         "3",
         "0",
         "8",
         "8"
        ],
        [
         "22",
         "Hungary",
         "F",
         "4",
         "3",
         "0",
         "3",
         "0",
         "0",
         "-7",
         "2",
         "9"
        ]
       ],
       "datasetInfos": [],
       "dbfsResultPath": null,
       "isJsonSchema": true,
       "metadata": {},
       "overflow": false,
       "plotOptions": {
        "customPlotOptions": {},
        "displayType": "table",
        "pivotAggregation": null,
        "pivotColumns": null,
        "xColumns": null,
        "yColumns": null
       },
       "removedWidgets": [],
       "schema": [
        {
         "metadata": "{}",
         "name": "TeamID",
         "type": "\"string\""
        },
        {
         "metadata": "{}",
         "name": "TeamName",
         "type": "\"string\""
        },
        {
         "metadata": "{}",
         "name": "GroupName",
         "type": "\"string\""
        },
        {
         "metadata": "{}",
         "name": "TeamRank",
         "type": "\"string\""
        },
        {
         "metadata": "{}",
         "name": "MatchesPlayed",
         "type": "\"string\""
        },
        {
         "metadata": "{}",
         "name": "MatchesWon",
         "type": "\"string\""
        },
        {
         "metadata": "{}",
         "name": "MatchesLost",
         "type": "\"string\""
        },
        {
         "metadata": "{}",
         "name": "MatchesDrawn",
         "type": "\"string\""
        },
        {
         "metadata": "{}",
         "name": "TotalPoints",
         "type": "\"string\""
        },
        {
         "metadata": "{}",
         "name": "GoalDifference",
         "type": "\"string\""
        },
        {
         "metadata": "{}",
         "name": "GoalScored",
         "type": "\"string\""
        },
        {
         "metadata": "{}",
         "name": "GoalConceled",
         "type": "\"string\""
        }
       ],
       "type": "table"
      }
     },
     "output_type": "display_data"
    }
   ],
   "source": [
    "groupstage = spark.sql(\"SELECT * FROM groupstagesummary\")\n",
    "gs_pd = groupstage.toPandas()\n",
    "gs_pd = gs_pd.applymap(lambda x: str(x).split(\".\")[0])\n",
    "\n",
    "display(gs_pd)"
   ]
  },
  {
   "cell_type": "code",
   "execution_count": 0,
   "metadata": {
    "application/vnd.databricks.v1+cell": {
     "cellMetadata": {
      "byteLimit": 2048000,
      "rowLimit": 10000
     },
     "inputWidgets": {},
     "nuid": "1628447b-1c43-4702-bbec-391e4c46ce32",
     "showTitle": false,
     "title": ""
    }
   },
   "outputs": [],
   "source": [
    "\n",
    "#GroupStage Visualization Table\n",
    "euro_vis = pd.DataFrame({\n",
    "    'Group': gs_pd['GroupName'],\n",
    "    'TeamRank':gs_pd['TeamRank'],\n",
    "    'Country': gs_pd['TeamName'],\n",
    "    'P': gs_pd['MatchesPlayed'],\n",
    "    'W': gs_pd['MatchesWon'],\n",
    "    'D': gs_pd['MatchesDrawn'],\n",
    "    'L': gs_pd['MatchesLost'],\n",
    "    'GS': gs_pd['GoalScored'],\n",
    "    'GC': gs_pd['GoalConceled'],\n",
    "    'GD': gs_pd['GoalDifference'],\n",
    "    'Pts': gs_pd['TotalPoints']\n",
    "})\n",
    "     "
   ]
  },
  {
   "cell_type": "code",
   "execution_count": 0,
   "metadata": {
    "application/vnd.databricks.v1+cell": {
     "cellMetadata": {
      "byteLimit": 2048000,
      "rowLimit": 10000
     },
     "inputWidgets": {},
     "nuid": "1c7e0c95-f39e-46ff-9933-f0b0d6c5e783",
     "showTitle": false,
     "title": ""
    }
   },
   "outputs": [],
   "source": [
    "mtgs_row_pd = pd.DataFrame({col: [''] for col in euro_vis.columns})\n",
    "     "
   ]
  },
  {
   "cell_type": "code",
   "execution_count": 0,
   "metadata": {
    "application/vnd.databricks.v1+cell": {
     "cellMetadata": {
      "byteLimit": 2048000,
      "rowLimit": 10000
     },
     "inputWidgets": {},
     "nuid": "be709643-a3b9-488c-9a47-47feeec085a7",
     "showTitle": false,
     "title": ""
    }
   },
   "outputs": [
    {
     "output_type": "display_data",
     "data": {
      "text/html": [
       "<style scoped>\n",
       "  .table-result-container {\n",
       "    max-height: 300px;\n",
       "    overflow: auto;\n",
       "  }\n",
       "  table, th, td {\n",
       "    border: 1px solid black;\n",
       "    border-collapse: collapse;\n",
       "  }\n",
       "  th, td {\n",
       "    padding: 5px;\n",
       "  }\n",
       "  th {\n",
       "    text-align: left;\n",
       "  }\n",
       "</style><div class='table-result-container'><table class='table-result'><thead style='background-color: white'><tr><th>Group</th><th>TeamRank</th><th>Country</th><th>P</th><th>W</th><th>D</th><th>L</th><th>GS</th><th>GC</th><th>GD</th><th>Pts</th></tr></thead><tbody><tr><td>A</td><td>1</td><td>France</td><td>3</td><td>2</td><td>1</td><td>0</td><td>12</td><td>8</td><td>4</td><td>7</td></tr><tr><td>A</td><td>2</td><td>Spain</td><td>3</td><td>2</td><td>0</td><td>1</td><td>10</td><td>10</td><td>0</td><td>6</td></tr><tr><td>A</td><td>3</td><td>Germany</td><td>3</td><td>1</td><td>1</td><td>1</td><td>8</td><td>7</td><td>1</td><td>4</td></tr><tr><td>A</td><td>4</td><td>Italy</td><td>3</td><td>0</td><td>0</td><td>3</td><td>6</td><td>11</td><td>-5</td><td>0</td></tr><tr><td>B</td><td>1</td><td>Portugal</td><td>3</td><td>2</td><td>1</td><td>0</td><td>12</td><td>7</td><td>5</td><td>7</td></tr><tr><td>B</td><td>2</td><td>Belgium</td><td>3</td><td>2</td><td>0</td><td>1</td><td>11</td><td>8</td><td>3</td><td>6</td></tr><tr><td>B</td><td>3</td><td>England</td><td>3</td><td>1</td><td>1</td><td>1</td><td>10</td><td>11</td><td>-1</td><td>4</td></tr><tr><td>B</td><td>4</td><td>Netherlands</td><td>3</td><td>0</td><td>0</td><td>3</td><td>4</td><td>11</td><td>-7</td><td>0</td></tr><tr><td>C</td><td>1</td><td>Switzerland</td><td>3</td><td>2</td><td>0</td><td>1</td><td>8</td><td>5</td><td>3</td><td>6</td></tr><tr><td>C</td><td>2</td><td>Turkey</td><td>3</td><td>1</td><td>1</td><td>1</td><td>8</td><td>9</td><td>-1</td><td>4</td></tr><tr><td>C</td><td>3</td><td>Croatia</td><td>3</td><td>1</td><td>1</td><td>1</td><td>5</td><td>6</td><td>-1</td><td>4</td></tr><tr><td>C</td><td>4</td><td>Poland</td><td>3</td><td>1</td><td>0</td><td>2</td><td>5</td><td>6</td><td>-1</td><td>3</td></tr></tbody></table></div>"
      ]
     },
     "metadata": {
      "application/vnd.databricks.v1+output": {
       "addedWidgets": {},
       "aggData": [],
       "aggError": "",
       "aggOverflow": false,
       "aggSchema": [],
       "aggSeriesLimitReached": false,
       "aggType": "",
       "arguments": {},
       "columnCustomDisplayInfos": {},
       "data": [
        [
         "A",
         "1",
         "France",
         "3",
         "2",
         "1",
         "0",
         "12",
         "8",
         "4",
         "7"
        ],
        [
         "A",
         "2",
         "Spain",
         "3",
         "2",
         "0",
         "1",
         "10",
         "10",
         "0",
         "6"
        ],
        [
         "A",
         "3",
         "Germany",
         "3",
         "1",
         "1",
         "1",
         "8",
         "7",
         "1",
         "4"
        ],
        [
         "A",
         "4",
         "Italy",
         "3",
         "0",
         "0",
         "3",
         "6",
         "11",
         "-5",
         "0"
        ],
        [
         "B",
         "1",
         "Portugal",
         "3",
         "2",
         "1",
         "0",
         "12",
         "7",
         "5",
         "7"
        ],
        [
         "B",
         "2",
         "Belgium",
         "3",
         "2",
         "0",
         "1",
         "11",
         "8",
         "3",
         "6"
        ],
        [
         "B",
         "3",
         "England",
         "3",
         "1",
         "1",
         "1",
         "10",
         "11",
         "-1",
         "4"
        ],
        [
         "B",
         "4",
         "Netherlands",
         "3",
         "0",
         "0",
         "3",
         "4",
         "11",
         "-7",
         "0"
        ],
        [
         "C",
         "1",
         "Switzerland",
         "3",
         "2",
         "0",
         "1",
         "8",
         "5",
         "3",
         "6"
        ],
        [
         "C",
         "2",
         "Turkey",
         "3",
         "1",
         "1",
         "1",
         "8",
         "9",
         "-1",
         "4"
        ],
        [
         "C",
         "3",
         "Croatia",
         "3",
         "1",
         "1",
         "1",
         "5",
         "6",
         "-1",
         "4"
        ],
        [
         "C",
         "4",
         "Poland",
         "3",
         "1",
         "0",
         "2",
         "5",
         "6",
         "-1",
         "3"
        ]
       ],
       "datasetInfos": [],
       "dbfsResultPath": null,
       "isJsonSchema": true,
       "metadata": {},
       "overflow": false,
       "plotOptions": {
        "customPlotOptions": {},
        "displayType": "table",
        "pivotAggregation": null,
        "pivotColumns": null,
        "xColumns": null,
        "yColumns": null
       },
       "removedWidgets": [],
       "schema": [
        {
         "metadata": "{}",
         "name": "Group",
         "type": "\"string\""
        },
        {
         "metadata": "{}",
         "name": "TeamRank",
         "type": "\"string\""
        },
        {
         "metadata": "{}",
         "name": "Country",
         "type": "\"string\""
        },
        {
         "metadata": "{}",
         "name": "P",
         "type": "\"string\""
        },
        {
         "metadata": "{}",
         "name": "W",
         "type": "\"string\""
        },
        {
         "metadata": "{}",
         "name": "D",
         "type": "\"string\""
        },
        {
         "metadata": "{}",
         "name": "L",
         "type": "\"string\""
        },
        {
         "metadata": "{}",
         "name": "GS",
         "type": "\"string\""
        },
        {
         "metadata": "{}",
         "name": "GC",
         "type": "\"string\""
        },
        {
         "metadata": "{}",
         "name": "GD",
         "type": "\"string\""
        },
        {
         "metadata": "{}",
         "name": "Pts",
         "type": "\"string\""
        }
       ],
       "type": "table"
      }
     },
     "output_type": "display_data"
    },
    {
     "output_type": "display_data",
     "data": {
      "text/html": [
       "<style scoped>\n",
       "  .table-result-container {\n",
       "    max-height: 300px;\n",
       "    overflow: auto;\n",
       "  }\n",
       "  table, th, td {\n",
       "    border: 1px solid black;\n",
       "    border-collapse: collapse;\n",
       "  }\n",
       "  th, td {\n",
       "    padding: 5px;\n",
       "  }\n",
       "  th {\n",
       "    text-align: left;\n",
       "  }\n",
       "</style><div class='table-result-container'><table class='table-result'><thead style='background-color: white'><tr><th>Group</th><th>TeamRank</th><th>Country</th><th>P</th><th>W</th><th>D</th><th>L</th><th>GS</th><th>GC</th><th>GD</th><th>Pts</th></tr></thead><tbody><tr><td>D</td><td>1</td><td>Sweden</td><td>3</td><td>2</td><td>1</td><td>0</td><td>10</td><td>4</td><td>6</td><td>7</td></tr><tr><td>D</td><td>2</td><td>Russia</td><td>3</td><td>1</td><td>1</td><td>1</td><td>5</td><td>5</td><td>0</td><td>4</td></tr><tr><td>D</td><td>3</td><td>Austria</td><td>3</td><td>1</td><td>0</td><td>2</td><td>4</td><td>6</td><td>-2</td><td>3</td></tr><tr><td>D</td><td>4</td><td>Denmark</td><td>3</td><td>1</td><td>0</td><td>2</td><td>4</td><td>8</td><td>-4</td><td>3</td></tr><tr><td>E</td><td>1</td><td>Czech Republic</td><td>3</td><td>3</td><td>0</td><td>0</td><td>9</td><td>2</td><td>7</td><td>9</td></tr><tr><td>E</td><td>2</td><td>Wales</td><td>3</td><td>2</td><td>0</td><td>1</td><td>9</td><td>7</td><td>2</td><td>6</td></tr><tr><td>E</td><td>3</td><td>Ukraine</td><td>3</td><td>1</td><td>0</td><td>2</td><td>7</td><td>8</td><td>-1</td><td>3</td></tr><tr><td>E</td><td>4</td><td>Scotland</td><td>3</td><td>0</td><td>0</td><td>3</td><td>4</td><td>12</td><td>-8</td><td>0</td></tr><tr><td>F</td><td>1</td><td>North Macedonia</td><td>3</td><td>2</td><td>1</td><td>0</td><td>6</td><td>2</td><td>4</td><td>7</td></tr><tr><td>F</td><td>2</td><td>Finland</td><td>3</td><td>2</td><td>1</td><td>0</td><td>10</td><td>7</td><td>3</td><td>7</td></tr><tr><td>F</td><td>3</td><td>Slovakia</td><td>3</td><td>1</td><td>0</td><td>2</td><td>8</td><td>8</td><td>0</td><td>3</td></tr><tr><td>F</td><td>4</td><td>Hungary</td><td>3</td><td>0</td><td>0</td><td>3</td><td>2</td><td>9</td><td>-7</td><td>0</td></tr></tbody></table></div>"
      ]
     },
     "metadata": {
      "application/vnd.databricks.v1+output": {
       "addedWidgets": {},
       "aggData": [],
       "aggError": "",
       "aggOverflow": false,
       "aggSchema": [],
       "aggSeriesLimitReached": false,
       "aggType": "",
       "arguments": {},
       "columnCustomDisplayInfos": {},
       "data": [
        [
         "D",
         "1",
         "Sweden",
         "3",
         "2",
         "1",
         "0",
         "10",
         "4",
         "6",
         "7"
        ],
        [
         "D",
         "2",
         "Russia",
         "3",
         "1",
         "1",
         "1",
         "5",
         "5",
         "0",
         "4"
        ],
        [
         "D",
         "3",
         "Austria",
         "3",
         "1",
         "0",
         "2",
         "4",
         "6",
         "-2",
         "3"
        ],
        [
         "D",
         "4",
         "Denmark",
         "3",
         "1",
         "0",
         "2",
         "4",
         "8",
         "-4",
         "3"
        ],
        [
         "E",
         "1",
         "Czech Republic",
         "3",
         "3",
         "0",
         "0",
         "9",
         "2",
         "7",
         "9"
        ],
        [
         "E",
         "2",
         "Wales",
         "3",
         "2",
         "0",
         "1",
         "9",
         "7",
         "2",
         "6"
        ],
        [
         "E",
         "3",
         "Ukraine",
         "3",
         "1",
         "0",
         "2",
         "7",
         "8",
         "-1",
         "3"
        ],
        [
         "E",
         "4",
         "Scotland",
         "3",
         "0",
         "0",
         "3",
         "4",
         "12",
         "-8",
         "0"
        ],
        [
         "F",
         "1",
         "North Macedonia",
         "3",
         "2",
         "1",
         "0",
         "6",
         "2",
         "4",
         "7"
        ],
        [
         "F",
         "2",
         "Finland",
         "3",
         "2",
         "1",
         "0",
         "10",
         "7",
         "3",
         "7"
        ],
        [
         "F",
         "3",
         "Slovakia",
         "3",
         "1",
         "0",
         "2",
         "8",
         "8",
         "0",
         "3"
        ],
        [
         "F",
         "4",
         "Hungary",
         "3",
         "0",
         "0",
         "3",
         "2",
         "9",
         "-7",
         "0"
        ]
       ],
       "datasetInfos": [],
       "dbfsResultPath": null,
       "isJsonSchema": true,
       "metadata": {},
       "overflow": false,
       "plotOptions": {
        "customPlotOptions": {},
        "displayType": "table",
        "pivotAggregation": null,
        "pivotColumns": null,
        "xColumns": null,
        "yColumns": null
       },
       "removedWidgets": [],
       "schema": [
        {
         "metadata": "{}",
         "name": "Group",
         "type": "\"string\""
        },
        {
         "metadata": "{}",
         "name": "TeamRank",
         "type": "\"string\""
        },
        {
         "metadata": "{}",
         "name": "Country",
         "type": "\"string\""
        },
        {
         "metadata": "{}",
         "name": "P",
         "type": "\"string\""
        },
        {
         "metadata": "{}",
         "name": "W",
         "type": "\"string\""
        },
        {
         "metadata": "{}",
         "name": "D",
         "type": "\"string\""
        },
        {
         "metadata": "{}",
         "name": "L",
         "type": "\"string\""
        },
        {
         "metadata": "{}",
         "name": "GS",
         "type": "\"string\""
        },
        {
         "metadata": "{}",
         "name": "GC",
         "type": "\"string\""
        },
        {
         "metadata": "{}",
         "name": "GD",
         "type": "\"string\""
        },
        {
         "metadata": "{}",
         "name": "Pts",
         "type": "\"string\""
        }
       ],
       "type": "table"
      }
     },
     "output_type": "display_data"
    }
   ],
   "source": [
    "left_gs = euro_vis[euro_vis['Group'].str.contains('^[ABC]')]\n",
    "\n",
    "right_gs = euro_vis[euro_vis['Group'].str.contains('^[DEF]')]\n",
    "\n",
    "#reseting index for both df\n",
    "left_gs.reset_index(drop=True, inplace=True)\n",
    "right_gs.reset_index(drop=True, inplace=True)\n",
    "\n",
    "display(left_gs)\n",
    "display(right_gs)"
   ]
  },
  {
   "cell_type": "code",
   "execution_count": 0,
   "metadata": {
    "application/vnd.databricks.v1+cell": {
     "cellMetadata": {
      "byteLimit": 2048000,
      "rowLimit": 10000
     },
     "inputWidgets": {},
     "nuid": "87f1a331-4b25-4fda-a553-eb52c6ba8a0a",
     "showTitle": false,
     "title": ""
    }
   },
   "outputs": [
    {
     "output_type": "display_data",
     "data": {
      "text/html": [
       "<style scoped>\n",
       "  .table-result-container {\n",
       "    max-height: 300px;\n",
       "    overflow: auto;\n",
       "  }\n",
       "  table, th, td {\n",
       "    border: 1px solid black;\n",
       "    border-collapse: collapse;\n",
       "  }\n",
       "  th, td {\n",
       "    padding: 5px;\n",
       "  }\n",
       "  th {\n",
       "    text-align: left;\n",
       "  }\n",
       "</style><div class='table-result-container'><table class='table-result'><thead style='background-color: white'><tr><th>L_Group</th><th>L_TeamRank</th><th>L_Country</th><th>L_P</th><th>L_W</th><th>L-D</th><th>L_L</th><th>L_GS</th><th>L_GC</th><th>L_GD</th><th>L_Pts</th></tr></thead><tbody><tr><td>A</td><td>1</td><td>France</td><td>3</td><td>2</td><td>1</td><td>0</td><td>12</td><td>8</td><td>4</td><td>7</td></tr><tr><td>A</td><td>2</td><td>Spain</td><td>3</td><td>2</td><td>0</td><td>1</td><td>10</td><td>10</td><td>0</td><td>6</td></tr><tr><td>A</td><td>3</td><td>Germany</td><td>3</td><td>1</td><td>1</td><td>1</td><td>8</td><td>7</td><td>1</td><td>4</td></tr><tr><td>A</td><td>4</td><td>Italy</td><td>3</td><td>0</td><td>0</td><td>3</td><td>6</td><td>11</td><td>-5</td><td>0</td></tr><tr><td></td><td></td><td></td><td></td><td></td><td></td><td></td><td></td><td></td><td></td><td></td></tr><tr><td></td><td></td><td></td><td></td><td></td><td></td><td></td><td></td><td></td><td></td><td></td></tr><tr><td>B</td><td>1</td><td>Portugal</td><td>3</td><td>2</td><td>1</td><td>0</td><td>12</td><td>7</td><td>5</td><td>7</td></tr><tr><td>B</td><td>2</td><td>Belgium</td><td>3</td><td>2</td><td>0</td><td>1</td><td>11</td><td>8</td><td>3</td><td>6</td></tr><tr><td>B</td><td>3</td><td>England</td><td>3</td><td>1</td><td>1</td><td>1</td><td>10</td><td>11</td><td>-1</td><td>4</td></tr><tr><td>B</td><td>4</td><td>Netherlands</td><td>3</td><td>0</td><td>0</td><td>3</td><td>4</td><td>11</td><td>-7</td><td>0</td></tr><tr><td></td><td></td><td></td><td></td><td></td><td></td><td></td><td></td><td></td><td></td><td></td></tr><tr><td></td><td></td><td></td><td></td><td></td><td></td><td></td><td></td><td></td><td></td><td></td></tr><tr><td>C</td><td>1</td><td>Switzerland</td><td>3</td><td>2</td><td>0</td><td>1</td><td>8</td><td>5</td><td>3</td><td>6</td></tr><tr><td>C</td><td>2</td><td>Turkey</td><td>3</td><td>1</td><td>1</td><td>1</td><td>8</td><td>9</td><td>-1</td><td>4</td></tr><tr><td>C</td><td>3</td><td>Croatia</td><td>3</td><td>1</td><td>1</td><td>1</td><td>5</td><td>6</td><td>-1</td><td>4</td></tr><tr><td>C</td><td>4</td><td>Poland</td><td>3</td><td>1</td><td>0</td><td>2</td><td>5</td><td>6</td><td>-1</td><td>3</td></tr></tbody></table></div>"
      ]
     },
     "metadata": {
      "application/vnd.databricks.v1+output": {
       "addedWidgets": {},
       "aggData": [],
       "aggError": "",
       "aggOverflow": false,
       "aggSchema": [],
       "aggSeriesLimitReached": false,
       "aggType": "",
       "arguments": {},
       "columnCustomDisplayInfos": {},
       "data": [
        [
         "A",
         "1",
         "France",
         "3",
         "2",
         "1",
         "0",
         "12",
         "8",
         "4",
         "7"
        ],
        [
         "A",
         "2",
         "Spain",
         "3",
         "2",
         "0",
         "1",
         "10",
         "10",
         "0",
         "6"
        ],
        [
         "A",
         "3",
         "Germany",
         "3",
         "1",
         "1",
         "1",
         "8",
         "7",
         "1",
         "4"
        ],
        [
         "A",
         "4",
         "Italy",
         "3",
         "0",
         "0",
         "3",
         "6",
         "11",
         "-5",
         "0"
        ],
        [
         "",
         "",
         "",
         "",
         "",
         "",
         "",
         "",
         "",
         "",
         ""
        ],
        [
         "",
         "",
         "",
         "",
         "",
         "",
         "",
         "",
         "",
         "",
         ""
        ],
        [
         "B",
         "1",
         "Portugal",
         "3",
         "2",
         "1",
         "0",
         "12",
         "7",
         "5",
         "7"
        ],
        [
         "B",
         "2",
         "Belgium",
         "3",
         "2",
         "0",
         "1",
         "11",
         "8",
         "3",
         "6"
        ],
        [
         "B",
         "3",
         "England",
         "3",
         "1",
         "1",
         "1",
         "10",
         "11",
         "-1",
         "4"
        ],
        [
         "B",
         "4",
         "Netherlands",
         "3",
         "0",
         "0",
         "3",
         "4",
         "11",
         "-7",
         "0"
        ],
        [
         "",
         "",
         "",
         "",
         "",
         "",
         "",
         "",
         "",
         "",
         ""
        ],
        [
         "",
         "",
         "",
         "",
         "",
         "",
         "",
         "",
         "",
         "",
         ""
        ],
        [
         "C",
         "1",
         "Switzerland",
         "3",
         "2",
         "0",
         "1",
         "8",
         "5",
         "3",
         "6"
        ],
        [
         "C",
         "2",
         "Turkey",
         "3",
         "1",
         "1",
         "1",
         "8",
         "9",
         "-1",
         "4"
        ],
        [
         "C",
         "3",
         "Croatia",
         "3",
         "1",
         "1",
         "1",
         "5",
         "6",
         "-1",
         "4"
        ],
        [
         "C",
         "4",
         "Poland",
         "3",
         "1",
         "0",
         "2",
         "5",
         "6",
         "-1",
         "3"
        ]
       ],
       "datasetInfos": [],
       "dbfsResultPath": null,
       "isJsonSchema": true,
       "metadata": {},
       "overflow": false,
       "plotOptions": {
        "customPlotOptions": {},
        "displayType": "table",
        "pivotAggregation": null,
        "pivotColumns": null,
        "xColumns": null,
        "yColumns": null
       },
       "removedWidgets": [],
       "schema": [
        {
         "metadata": "{}",
         "name": "L_Group",
         "type": "\"string\""
        },
        {
         "metadata": "{}",
         "name": "L_TeamRank",
         "type": "\"string\""
        },
        {
         "metadata": "{}",
         "name": "L_Country",
         "type": "\"string\""
        },
        {
         "metadata": "{}",
         "name": "L_P",
         "type": "\"string\""
        },
        {
         "metadata": "{}",
         "name": "L_W",
         "type": "\"string\""
        },
        {
         "metadata": "{}",
         "name": "L-D",
         "type": "\"string\""
        },
        {
         "metadata": "{}",
         "name": "L_L",
         "type": "\"string\""
        },
        {
         "metadata": "{}",
         "name": "L_GS",
         "type": "\"string\""
        },
        {
         "metadata": "{}",
         "name": "L_GC",
         "type": "\"string\""
        },
        {
         "metadata": "{}",
         "name": "L_GD",
         "type": "\"string\""
        },
        {
         "metadata": "{}",
         "name": "L_Pts",
         "type": "\"string\""
        }
       ],
       "type": "table"
      }
     },
     "output_type": "display_data"
    },
    {
     "output_type": "display_data",
     "data": {
      "text/html": [
       "<style scoped>\n",
       "  .table-result-container {\n",
       "    max-height: 300px;\n",
       "    overflow: auto;\n",
       "  }\n",
       "  table, th, td {\n",
       "    border: 1px solid black;\n",
       "    border-collapse: collapse;\n",
       "  }\n",
       "  th, td {\n",
       "    padding: 5px;\n",
       "  }\n",
       "  th {\n",
       "    text-align: left;\n",
       "  }\n",
       "</style><div class='table-result-container'><table class='table-result'><thead style='background-color: white'><tr><th>R_Group</th><th>R_TeamRank</th><th>R_Country</th><th>R_P</th><th>R_W</th><th>R-D</th><th>R_L</th><th>R_GS</th><th>R_GC</th><th>R_GD</th><th>R_Pts</th></tr></thead><tbody><tr><td>D</td><td>1</td><td>Sweden</td><td>3</td><td>2</td><td>1</td><td>0</td><td>10</td><td>4</td><td>6</td><td>7</td></tr><tr><td>D</td><td>2</td><td>Russia</td><td>3</td><td>1</td><td>1</td><td>1</td><td>5</td><td>5</td><td>0</td><td>4</td></tr><tr><td>D</td><td>3</td><td>Austria</td><td>3</td><td>1</td><td>0</td><td>2</td><td>4</td><td>6</td><td>-2</td><td>3</td></tr><tr><td>D</td><td>4</td><td>Denmark</td><td>3</td><td>1</td><td>0</td><td>2</td><td>4</td><td>8</td><td>-4</td><td>3</td></tr><tr><td></td><td></td><td></td><td></td><td></td><td></td><td></td><td></td><td></td><td></td><td></td></tr><tr><td></td><td></td><td></td><td></td><td></td><td></td><td></td><td></td><td></td><td></td><td></td></tr><tr><td>E</td><td>1</td><td>Czech Republic</td><td>3</td><td>3</td><td>0</td><td>0</td><td>9</td><td>2</td><td>7</td><td>9</td></tr><tr><td>E</td><td>2</td><td>Wales</td><td>3</td><td>2</td><td>0</td><td>1</td><td>9</td><td>7</td><td>2</td><td>6</td></tr><tr><td>E</td><td>3</td><td>Ukraine</td><td>3</td><td>1</td><td>0</td><td>2</td><td>7</td><td>8</td><td>-1</td><td>3</td></tr><tr><td>E</td><td>4</td><td>Scotland</td><td>3</td><td>0</td><td>0</td><td>3</td><td>4</td><td>12</td><td>-8</td><td>0</td></tr><tr><td></td><td></td><td></td><td></td><td></td><td></td><td></td><td></td><td></td><td></td><td></td></tr><tr><td></td><td></td><td></td><td></td><td></td><td></td><td></td><td></td><td></td><td></td><td></td></tr><tr><td>F</td><td>1</td><td>North Macedonia</td><td>3</td><td>2</td><td>1</td><td>0</td><td>6</td><td>2</td><td>4</td><td>7</td></tr><tr><td>F</td><td>2</td><td>Finland</td><td>3</td><td>2</td><td>1</td><td>0</td><td>10</td><td>7</td><td>3</td><td>7</td></tr><tr><td>F</td><td>3</td><td>Slovakia</td><td>3</td><td>1</td><td>0</td><td>2</td><td>8</td><td>8</td><td>0</td><td>3</td></tr><tr><td>F</td><td>4</td><td>Hungary</td><td>3</td><td>0</td><td>0</td><td>3</td><td>2</td><td>9</td><td>-7</td><td>0</td></tr></tbody></table></div>"
      ]
     },
     "metadata": {
      "application/vnd.databricks.v1+output": {
       "addedWidgets": {},
       "aggData": [],
       "aggError": "",
       "aggOverflow": false,
       "aggSchema": [],
       "aggSeriesLimitReached": false,
       "aggType": "",
       "arguments": {},
       "columnCustomDisplayInfos": {},
       "data": [
        [
         "D",
         "1",
         "Sweden",
         "3",
         "2",
         "1",
         "0",
         "10",
         "4",
         "6",
         "7"
        ],
        [
         "D",
         "2",
         "Russia",
         "3",
         "1",
         "1",
         "1",
         "5",
         "5",
         "0",
         "4"
        ],
        [
         "D",
         "3",
         "Austria",
         "3",
         "1",
         "0",
         "2",
         "4",
         "6",
         "-2",
         "3"
        ],
        [
         "D",
         "4",
         "Denmark",
         "3",
         "1",
         "0",
         "2",
         "4",
         "8",
         "-4",
         "3"
        ],
        [
         "",
         "",
         "",
         "",
         "",
         "",
         "",
         "",
         "",
         "",
         ""
        ],
        [
         "",
         "",
         "",
         "",
         "",
         "",
         "",
         "",
         "",
         "",
         ""
        ],
        [
         "E",
         "1",
         "Czech Republic",
         "3",
         "3",
         "0",
         "0",
         "9",
         "2",
         "7",
         "9"
        ],
        [
         "E",
         "2",
         "Wales",
         "3",
         "2",
         "0",
         "1",
         "9",
         "7",
         "2",
         "6"
        ],
        [
         "E",
         "3",
         "Ukraine",
         "3",
         "1",
         "0",
         "2",
         "7",
         "8",
         "-1",
         "3"
        ],
        [
         "E",
         "4",
         "Scotland",
         "3",
         "0",
         "0",
         "3",
         "4",
         "12",
         "-8",
         "0"
        ],
        [
         "",
         "",
         "",
         "",
         "",
         "",
         "",
         "",
         "",
         "",
         ""
        ],
        [
         "",
         "",
         "",
         "",
         "",
         "",
         "",
         "",
         "",
         "",
         ""
        ],
        [
         "F",
         "1",
         "North Macedonia",
         "3",
         "2",
         "1",
         "0",
         "6",
         "2",
         "4",
         "7"
        ],
        [
         "F",
         "2",
         "Finland",
         "3",
         "2",
         "1",
         "0",
         "10",
         "7",
         "3",
         "7"
        ],
        [
         "F",
         "3",
         "Slovakia",
         "3",
         "1",
         "0",
         "2",
         "8",
         "8",
         "0",
         "3"
        ],
        [
         "F",
         "4",
         "Hungary",
         "3",
         "0",
         "0",
         "3",
         "2",
         "9",
         "-7",
         "0"
        ]
       ],
       "datasetInfos": [],
       "dbfsResultPath": null,
       "isJsonSchema": true,
       "metadata": {},
       "overflow": false,
       "plotOptions": {
        "customPlotOptions": {},
        "displayType": "table",
        "pivotAggregation": null,
        "pivotColumns": null,
        "xColumns": null,
        "yColumns": null
       },
       "removedWidgets": [],
       "schema": [
        {
         "metadata": "{}",
         "name": "R_Group",
         "type": "\"string\""
        },
        {
         "metadata": "{}",
         "name": "R_TeamRank",
         "type": "\"string\""
        },
        {
         "metadata": "{}",
         "name": "R_Country",
         "type": "\"string\""
        },
        {
         "metadata": "{}",
         "name": "R_P",
         "type": "\"string\""
        },
        {
         "metadata": "{}",
         "name": "R_W",
         "type": "\"string\""
        },
        {
         "metadata": "{}",
         "name": "R-D",
         "type": "\"string\""
        },
        {
         "metadata": "{}",
         "name": "R_L",
         "type": "\"string\""
        },
        {
         "metadata": "{}",
         "name": "R_GS",
         "type": "\"string\""
        },
        {
         "metadata": "{}",
         "name": "R_GC",
         "type": "\"string\""
        },
        {
         "metadata": "{}",
         "name": "R_GD",
         "type": "\"string\""
        },
        {
         "metadata": "{}",
         "name": "R_Pts",
         "type": "\"string\""
        }
       ],
       "type": "table"
      }
     },
     "output_type": "display_data"
    }
   ],
   "source": [
    "#list of groupstage according to groupname\n",
    "left_gs_grouped = [left_gs.iloc[i:i+4] for i in range(0, len(left_gs), 4)]\n",
    "\n",
    "#iterating over above list and adding empty row except for last one\n",
    "for i in range(len(left_gs_grouped)):\n",
    "    if i < len(left_gs_grouped) - 1:\n",
    "        left_gs_grouped[i] = pd.concat([left_gs_grouped[i], mtgs_row_pd,mtgs_row_pd], ignore_index=True)\n",
    "\n",
    "#joining them back after adding empty rows\n",
    "left_gs_spaced = pd.concat(left_gs_grouped).reset_index(drop=True)\n",
    "\n",
    "lgs_new_column_name ={'Group': 'L_Group',\n",
    "                      'TeamRank': 'L_TeamRank',\n",
    "                       'Country': 'L_Country',\n",
    "                       'P': 'L_P',\n",
    "                       'W': 'L_W',\n",
    "                       'D': 'L-D',\n",
    "                       'L': 'L_L',\n",
    "                       'GS': 'L_GS',\n",
    "                       'GC': 'L_GC',\n",
    "                       'GD': 'L_GD',\n",
    "                       'Pts': 'L_Pts'\n",
    "                       }\n",
    "left_gs_spaced = left_gs_spaced.rename(columns=lgs_new_column_name)\n",
    "\n",
    "\n",
    "right_gs_grouped = [right_gs.iloc[i:i+4] for i in range(0, len(right_gs), 4)]\n",
    "\n",
    "#iterating over above list and adding empty row except for last one\n",
    "for i in range(len(right_gs_grouped)):\n",
    "    if i < len(right_gs_grouped) - 1:\n",
    "        right_gs_grouped[i] = pd.concat([right_gs_grouped[i], mtgs_row_pd,mtgs_row_pd], ignore_index=True)\n",
    "\n",
    "#joining them back after adding empty rows\n",
    "right_gs_spaced = pd.concat(right_gs_grouped).reset_index(drop=True)\n",
    "\n",
    "rgs_new_column_name ={'Group': 'R_Group',\n",
    "                      'TeamRank': 'R_TeamRank',\n",
    "                       'Country': 'R_Country',\n",
    "                       'P': 'R_P',\n",
    "                       'W': 'R_W',\n",
    "                       'D': 'R-D',\n",
    "                       'L': 'R_L',\n",
    "                       'GS': 'R_GS',\n",
    "                       'GC': 'R_GC',\n",
    "                       'GD': 'R_GD',\n",
    "                       'Pts': 'R_Pts'\n",
    "                       }\n",
    "right_gs_spaced = right_gs_spaced.rename(columns=rgs_new_column_name)\n",
    "\n",
    "\n",
    "display(left_gs_spaced)\n",
    "display(right_gs_spaced)\n",
    "     "
   ]
  },
  {
   "cell_type": "markdown",
   "metadata": {
    "application/vnd.databricks.v1+cell": {
     "cellMetadata": {
      "byteLimit": 2048000,
      "rowLimit": 10000
     },
     "inputWidgets": {},
     "nuid": "701ff541-aad6-44ed-8894-e9f38b54c9a6",
     "showTitle": false,
     "title": ""
    }
   },
   "source": [
    "## Creating Round of 16 table "
   ]
  },
  {
   "cell_type": "code",
   "execution_count": 0,
   "metadata": {
    "application/vnd.databricks.v1+cell": {
     "cellMetadata": {
      "byteLimit": 2048000,
      "rowLimit": 10000
     },
     "inputWidgets": {},
     "nuid": "6a5c97fd-c4eb-4ecd-8fe9-c0f3bba52ce9",
     "showTitle": false,
     "title": ""
    }
   },
   "outputs": [
    {
     "output_type": "display_data",
     "data": {
      "text/html": [
       "<style scoped>\n",
       "  .table-result-container {\n",
       "    max-height: 300px;\n",
       "    overflow: auto;\n",
       "  }\n",
       "  table, th, td {\n",
       "    border: 1px solid black;\n",
       "    border-collapse: collapse;\n",
       "  }\n",
       "  th, td {\n",
       "    padding: 5px;\n",
       "  }\n",
       "  th {\n",
       "    text-align: left;\n",
       "  }\n",
       "</style><div class='table-result-container'><table class='table-result'><thead style='background-color: white'><tr><th>MatchID</th><th>Team1</th><th>Team1Goals</th><th>Team2Goals</th><th>Team2</th><th>MatchWinner</th><th>MatchStage</th></tr></thead><tbody><tr><td>1</td><td>Portugal</td><td>2</td><td>5</td><td>Germany</td><td>Germany</td><td>Round of 16</td></tr><tr><td>2</td><td>France</td><td>3</td><td>5</td><td>Turkey</td><td>Turkey</td><td>Round of 16</td></tr><tr><td>3</td><td>North Macedonia</td><td>2</td><td>1</td><td>Croatia</td><td>North Macedonia</td><td>Round of 16</td></tr><tr><td>4</td><td>Russia</td><td>2</td><td>1</td><td>Wales</td><td>Russia</td><td>Round of 16</td></tr><tr><td>5</td><td>Czech Republic</td><td>1</td><td>2</td><td>England</td><td>England</td><td>Round of 16</td></tr><tr><td>6</td><td>Sweden</td><td>5</td><td>5</td><td>Finland</td><td>Finland</td><td>Round of 16</td></tr><tr><td>7</td><td>Switzerland</td><td>0</td><td>3</td><td>Slovakia</td><td>Slovakia</td><td>Round of 16</td></tr><tr><td>8</td><td>Spain</td><td>1</td><td>4</td><td>Belgium</td><td>Belgium</td><td>Round of 16</td></tr></tbody></table></div>"
      ]
     },
     "metadata": {
      "application/vnd.databricks.v1+output": {
       "addedWidgets": {},
       "aggData": [],
       "aggError": "",
       "aggOverflow": false,
       "aggSchema": [],
       "aggSeriesLimitReached": false,
       "aggType": "",
       "arguments": {},
       "columnCustomDisplayInfos": {},
       "data": [
        [
         1,
         "Portugal",
         2,
         5,
         "Germany",
         "Germany",
         "Round of 16"
        ],
        [
         2,
         "France",
         3,
         5,
         "Turkey",
         "Turkey",
         "Round of 16"
        ],
        [
         3,
         "North Macedonia",
         2,
         1,
         "Croatia",
         "North Macedonia",
         "Round of 16"
        ],
        [
         4,
         "Russia",
         2,
         1,
         "Wales",
         "Russia",
         "Round of 16"
        ],
        [
         5,
         "Czech Republic",
         1,
         2,
         "England",
         "England",
         "Round of 16"
        ],
        [
         6,
         "Sweden",
         5,
         5,
         "Finland",
         "Finland",
         "Round of 16"
        ],
        [
         7,
         "Switzerland",
         0,
         3,
         "Slovakia",
         "Slovakia",
         "Round of 16"
        ],
        [
         8,
         "Spain",
         1,
         4,
         "Belgium",
         "Belgium",
         "Round of 16"
        ]
       ],
       "datasetInfos": [],
       "dbfsResultPath": null,
       "isJsonSchema": true,
       "metadata": {},
       "overflow": false,
       "plotOptions": {
        "customPlotOptions": {},
        "displayType": "table",
        "pivotAggregation": null,
        "pivotColumns": null,
        "xColumns": null,
        "yColumns": null
       },
       "removedWidgets": [],
       "schema": [
        {
         "metadata": "{}",
         "name": "MatchID",
         "type": "\"integer\""
        },
        {
         "metadata": "{}",
         "name": "Team1",
         "type": "\"string\""
        },
        {
         "metadata": "{}",
         "name": "Team1Goals",
         "type": "\"integer\""
        },
        {
         "metadata": "{}",
         "name": "Team2Goals",
         "type": "\"integer\""
        },
        {
         "metadata": "{}",
         "name": "Team2",
         "type": "\"string\""
        },
        {
         "metadata": "{}",
         "name": "MatchWinner",
         "type": "\"string\""
        },
        {
         "metadata": "{}",
         "name": "MatchStage",
         "type": "\"string\""
        }
       ],
       "type": "table"
      }
     },
     "output_type": "display_data"
    }
   ],
   "source": [
    "\n",
    "#getting data from sql table and into pandas dataframe\n",
    "round_16 = spark.sql(\"SELECT * FROM EliminationMatches WHERE MatchStage = 'Round of 16'\")\n",
    "round_16_pd = round_16_pd.applymap(lambda x: str(x).split(\".\")[0])\n",
    "\n",
    "round_16_pd = round_16.toPandas()\n",
    "display(round_16_pd)\n",
    "     \n",
    "     "
   ]
  },
  {
   "cell_type": "code",
   "execution_count": 0,
   "metadata": {
    "application/vnd.databricks.v1+cell": {
     "cellMetadata": {
      "byteLimit": 2048000,
      "rowLimit": 10000
     },
     "inputWidgets": {},
     "nuid": "964b2a17-4b8d-4be5-85c0-4a6f918dc3ac",
     "showTitle": false,
     "title": ""
    }
   },
   "outputs": [
    {
     "output_type": "display_data",
     "data": {
      "text/html": [
       "<style scoped>\n",
       "  .table-result-container {\n",
       "    max-height: 300px;\n",
       "    overflow: auto;\n",
       "  }\n",
       "  table, th, td {\n",
       "    border: 1px solid black;\n",
       "    border-collapse: collapse;\n",
       "  }\n",
       "  th, td {\n",
       "    padding: 5px;\n",
       "  }\n",
       "  th {\n",
       "    text-align: left;\n",
       "  }\n",
       "</style><div class='table-result-container'><table class='table-result'><thead style='background-color: white'><tr><th>R16_Teams</th><th>R16_Score</th></tr></thead><tbody><tr><td>Portugal</td><td>2</td></tr><tr><td>Germany</td><td>5</td></tr><tr><td>France</td><td>3</td></tr><tr><td>Turkey</td><td>5</td></tr><tr><td>North Macedonia</td><td>2</td></tr><tr><td>Croatia</td><td>1</td></tr><tr><td>Russia</td><td>2</td></tr><tr><td>Wales</td><td>1</td></tr><tr><td>Czech Republic</td><td>1</td></tr><tr><td>England</td><td>2</td></tr><tr><td>Sweden</td><td>5</td></tr><tr><td>Finland</td><td>5</td></tr><tr><td>Switzerland</td><td>0</td></tr><tr><td>Slovakia</td><td>3</td></tr><tr><td>Spain</td><td>1</td></tr><tr><td>Belgium</td><td>4</td></tr></tbody></table></div>"
      ]
     },
     "metadata": {
      "application/vnd.databricks.v1+output": {
       "addedWidgets": {},
       "aggData": [],
       "aggError": "",
       "aggOverflow": false,
       "aggSchema": [],
       "aggSeriesLimitReached": false,
       "aggType": "",
       "arguments": {},
       "columnCustomDisplayInfos": {},
       "data": [
        [
         "Portugal",
         2
        ],
        [
         "Germany",
         5
        ],
        [
         "France",
         3
        ],
        [
         "Turkey",
         5
        ],
        [
         "North Macedonia",
         2
        ],
        [
         "Croatia",
         1
        ],
        [
         "Russia",
         2
        ],
        [
         "Wales",
         1
        ],
        [
         "Czech Republic",
         1
        ],
        [
         "England",
         2
        ],
        [
         "Sweden",
         5
        ],
        [
         "Finland",
         5
        ],
        [
         "Switzerland",
         0
        ],
        [
         "Slovakia",
         3
        ],
        [
         "Spain",
         1
        ],
        [
         "Belgium",
         4
        ]
       ],
       "datasetInfos": [],
       "dbfsResultPath": null,
       "isJsonSchema": true,
       "metadata": {},
       "overflow": false,
       "plotOptions": {
        "customPlotOptions": {},
        "displayType": "table",
        "pivotAggregation": null,
        "pivotColumns": null,
        "xColumns": null,
        "yColumns": null
       },
       "removedWidgets": [],
       "schema": [
        {
         "metadata": "{}",
         "name": "R16_Teams",
         "type": "\"string\""
        },
        {
         "metadata": "{}",
         "name": "R16_Score",
         "type": "\"long\""
        }
       ],
       "type": "table"
      }
     },
     "output_type": "display_data"
    }
   ],
   "source": [
    "\n",
    "#storing required data in df\n",
    "euro_r16_vis = pd.DataFrame(columns=['R16_Teams', 'R16_Score'])\n",
    "\n",
    "#displaying all teams and respective scores in columns\n",
    "for index, row in round_16_pd.iterrows():\n",
    "    team1 = row['Team1']\n",
    "    team1goals = row['Team1Goals']\n",
    "    team2 = row['Team2']\n",
    "    team2goals = row['Team2Goals']\n",
    "    euro_r16_vis = pd.concat([euro_r16_vis, pd.DataFrame({'R16_Score': [team1goals], 'R16_Teams': [team1]})], ignore_index=True)\n",
    "    euro_r16_vis = pd.concat([euro_r16_vis, pd.DataFrame({'R16_Score': [team2goals], 'R16_Teams': [team2]})], ignore_index=True)\n",
    "\n",
    "display(euro_r16_vis)\n"
   ]
  },
  {
   "cell_type": "code",
   "execution_count": 0,
   "metadata": {
    "application/vnd.databricks.v1+cell": {
     "cellMetadata": {
      "byteLimit": 2048000,
      "rowLimit": 10000
     },
     "inputWidgets": {},
     "nuid": "5eb0eb16-c7d1-4d4f-9f30-06c95120166f",
     "showTitle": false,
     "title": ""
    }
   },
   "outputs": [
    {
     "output_type": "display_data",
     "data": {
      "text/html": [
       "<style scoped>\n",
       "  .table-result-container {\n",
       "    max-height: 300px;\n",
       "    overflow: auto;\n",
       "  }\n",
       "  table, th, td {\n",
       "    border: 1px solid black;\n",
       "    border-collapse: collapse;\n",
       "  }\n",
       "  th, td {\n",
       "    padding: 5px;\n",
       "  }\n",
       "  th {\n",
       "    text-align: left;\n",
       "  }\n",
       "</style><div class='table-result-container'><table class='table-result'><thead style='background-color: white'><tr><th>R16_Teams</th><th>R16_Score</th></tr></thead><tbody><tr><td>Portugal</td><td>2</td></tr><tr><td>Germany</td><td>5</td></tr><tr><td>France</td><td>3</td></tr><tr><td>Turkey</td><td>5</td></tr><tr><td>North Macedonia</td><td>2</td></tr><tr><td>Croatia</td><td>1</td></tr><tr><td>Russia</td><td>2</td></tr><tr><td>Wales</td><td>1</td></tr></tbody></table></div>"
      ]
     },
     "metadata": {
      "application/vnd.databricks.v1+output": {
       "addedWidgets": {},
       "aggData": [],
       "aggError": "",
       "aggOverflow": false,
       "aggSchema": [],
       "aggSeriesLimitReached": false,
       "aggType": "",
       "arguments": {},
       "columnCustomDisplayInfos": {},
       "data": [
        [
         "Portugal",
         2
        ],
        [
         "Germany",
         5
        ],
        [
         "France",
         3
        ],
        [
         "Turkey",
         5
        ],
        [
         "North Macedonia",
         2
        ],
        [
         "Croatia",
         1
        ],
        [
         "Russia",
         2
        ],
        [
         "Wales",
         1
        ]
       ],
       "datasetInfos": [],
       "dbfsResultPath": null,
       "isJsonSchema": true,
       "metadata": {},
       "overflow": false,
       "plotOptions": {
        "customPlotOptions": {},
        "displayType": "table",
        "pivotAggregation": null,
        "pivotColumns": null,
        "xColumns": null,
        "yColumns": null
       },
       "removedWidgets": [],
       "schema": [
        {
         "metadata": "{}",
         "name": "R16_Teams",
         "type": "\"string\""
        },
        {
         "metadata": "{}",
         "name": "R16_Score",
         "type": "\"long\""
        }
       ],
       "type": "table"
      }
     },
     "output_type": "display_data"
    },
    {
     "output_type": "display_data",
     "data": {
      "text/html": [
       "<style scoped>\n",
       "  .table-result-container {\n",
       "    max-height: 300px;\n",
       "    overflow: auto;\n",
       "  }\n",
       "  table, th, td {\n",
       "    border: 1px solid black;\n",
       "    border-collapse: collapse;\n",
       "  }\n",
       "  th, td {\n",
       "    padding: 5px;\n",
       "  }\n",
       "  th {\n",
       "    text-align: left;\n",
       "  }\n",
       "</style><div class='table-result-container'><table class='table-result'><thead style='background-color: white'><tr><th>R16_Teams</th><th>R16_Score</th></tr></thead><tbody><tr><td>Czech Republic</td><td>1</td></tr><tr><td>England</td><td>2</td></tr><tr><td>Sweden</td><td>5</td></tr><tr><td>Finland</td><td>5</td></tr><tr><td>Switzerland</td><td>0</td></tr><tr><td>Slovakia</td><td>3</td></tr><tr><td>Spain</td><td>1</td></tr><tr><td>Belgium</td><td>4</td></tr></tbody></table></div>"
      ]
     },
     "metadata": {
      "application/vnd.databricks.v1+output": {
       "addedWidgets": {},
       "aggData": [],
       "aggError": "",
       "aggOverflow": false,
       "aggSchema": [],
       "aggSeriesLimitReached": false,
       "aggType": "",
       "arguments": {},
       "columnCustomDisplayInfos": {},
       "data": [
        [
         "Czech Republic",
         1
        ],
        [
         "England",
         2
        ],
        [
         "Sweden",
         5
        ],
        [
         "Finland",
         5
        ],
        [
         "Switzerland",
         0
        ],
        [
         "Slovakia",
         3
        ],
        [
         "Spain",
         1
        ],
        [
         "Belgium",
         4
        ]
       ],
       "datasetInfos": [],
       "dbfsResultPath": null,
       "isJsonSchema": true,
       "metadata": {},
       "overflow": false,
       "plotOptions": {
        "customPlotOptions": {},
        "displayType": "table",
        "pivotAggregation": null,
        "pivotColumns": null,
        "xColumns": null,
        "yColumns": null
       },
       "removedWidgets": [],
       "schema": [
        {
         "metadata": "{}",
         "name": "R16_Teams",
         "type": "\"string\""
        },
        {
         "metadata": "{}",
         "name": "R16_Score",
         "type": "\"long\""
        }
       ],
       "type": "table"
      }
     },
     "output_type": "display_data"
    }
   ],
   "source": [
    "# calculating midpoint of the dataFrame\n",
    "splitingteams = len(euro_r16_vis) // 2\n",
    "\n",
    "# splitting dataFrame into two equal halves\n",
    "left_r16 = euro_r16_vis.iloc[:splitingteams]\n",
    "right_r16 = euro_r16_vis.iloc[splitingteams:]\n",
    "\n",
    "# index reset\n",
    "left_r16.reset_index(drop=True, inplace=True)\n",
    "right_r16.reset_index(drop=True, inplace=True)\n",
    "\n",
    "# displaying the split DataFrames\n",
    "display(left_r16)\n",
    "display(right_r16)"
   ]
  },
  {
   "cell_type": "code",
   "execution_count": 0,
   "metadata": {
    "application/vnd.databricks.v1+cell": {
     "cellMetadata": {
      "byteLimit": 2048000,
      "rowLimit": 10000
     },
     "inputWidgets": {},
     "nuid": "a062e310-aec3-41fb-bf36-e368a171403f",
     "showTitle": false,
     "title": ""
    }
   },
   "outputs": [],
   "source": [
    "\n",
    "#empty row for round of 16\n",
    "r16_row_pd = pd.DataFrame({col: [''] for col in euro_r16_vis.columns})"
   ]
  },
  {
   "cell_type": "code",
   "execution_count": 0,
   "metadata": {
    "application/vnd.databricks.v1+cell": {
     "cellMetadata": {
      "byteLimit": 2048000,
      "rowLimit": 10000
     },
     "inputWidgets": {},
     "nuid": "ac7cf6df-6cb6-4ab5-9191-670c50aec6ca",
     "showTitle": false,
     "title": ""
    }
   },
   "outputs": [
    {
     "output_type": "stream",
     "name": "stderr",
     "output_type": "stream",
     "text": [
      "/databricks/spark/python/pyspark/sql/pandas/conversion.py:467: UserWarning: createDataFrame attempted Arrow optimization because 'spark.sql.execution.arrow.pyspark.enabled' is set to true; however, failed by the reason below:\n  Expected bytes, got a 'int' object\nAttempting non-optimization as 'spark.sql.execution.arrow.pyspark.fallback.enabled' is set to true.\n  warn(msg)\n"
     ]
    },
    {
     "output_type": "display_data",
     "data": {
      "text/html": [
       "<style scoped>\n",
       "  .table-result-container {\n",
       "    max-height: 300px;\n",
       "    overflow: auto;\n",
       "  }\n",
       "  table, th, td {\n",
       "    border: 1px solid black;\n",
       "    border-collapse: collapse;\n",
       "  }\n",
       "  th, td {\n",
       "    padding: 5px;\n",
       "  }\n",
       "  th {\n",
       "    text-align: left;\n",
       "  }\n",
       "</style><div class='table-result-container'><table class='table-result'><thead style='background-color: white'><tr><th>L_R16_Teams</th><th>L_R16_Score</th></tr></thead><tbody><tr><td></td><td></td></tr><tr><td>Portugal</td><td>2</td></tr><tr><td>Germany</td><td>5</td></tr><tr><td></td><td></td></tr><tr><td></td><td></td></tr><tr><td>France</td><td>3</td></tr><tr><td>Turkey</td><td>5</td></tr><tr><td></td><td></td></tr><tr><td></td><td></td></tr><tr><td>North Macedonia</td><td>2</td></tr><tr><td>Croatia</td><td>1</td></tr><tr><td></td><td></td></tr><tr><td></td><td></td></tr><tr><td>Russia</td><td>2</td></tr><tr><td>Wales</td><td>1</td></tr><tr><td></td><td></td></tr></tbody></table></div>"
      ]
     },
     "metadata": {
      "application/vnd.databricks.v1+output": {
       "addedWidgets": {},
       "aggData": [],
       "aggError": "",
       "aggOverflow": false,
       "aggSchema": [],
       "aggSeriesLimitReached": false,
       "aggType": "",
       "arguments": {},
       "columnCustomDisplayInfos": {},
       "data": [
        [
         "",
         ""
        ],
        [
         "Portugal",
         "2"
        ],
        [
         "Germany",
         "5"
        ],
        [
         "",
         ""
        ],
        [
         "",
         ""
        ],
        [
         "France",
         "3"
        ],
        [
         "Turkey",
         "5"
        ],
        [
         "",
         ""
        ],
        [
         "",
         ""
        ],
        [
         "North Macedonia",
         "2"
        ],
        [
         "Croatia",
         "1"
        ],
        [
         "",
         ""
        ],
        [
         "",
         ""
        ],
        [
         "Russia",
         "2"
        ],
        [
         "Wales",
         "1"
        ],
        [
         "",
         ""
        ]
       ],
       "datasetInfos": [],
       "dbfsResultPath": null,
       "isJsonSchema": true,
       "metadata": {},
       "overflow": false,
       "plotOptions": {
        "customPlotOptions": {},
        "displayType": "table",
        "pivotAggregation": null,
        "pivotColumns": null,
        "xColumns": null,
        "yColumns": null
       },
       "removedWidgets": [],
       "schema": [
        {
         "metadata": "{}",
         "name": "L_R16_Teams",
         "type": "\"string\""
        },
        {
         "metadata": "{}",
         "name": "L_R16_Score",
         "type": "\"string\""
        }
       ],
       "type": "table"
      }
     },
     "output_type": "display_data"
    }
   ],
   "source": [
    "left_r16_grouped = [left_r16.iloc[i:i+2] for i in range(0, len(left_r16), 2)]\n",
    "\n",
    "for i in range(len(left_r16_grouped)):\n",
    "    if i < len(left_r16_grouped):\n",
    "        left_r16_grouped[i] = pd.concat([r16_row_pd,left_r16_grouped[i], r16_row_pd], ignore_index=True)\n",
    "\n",
    "left_r16_spaced = pd.concat(left_r16_grouped).reset_index(drop=True)\n",
    "\n",
    "lr16_new_column_name ={'R16_Teams': 'L_R16_Teams',\n",
    "                       'R16_Score': 'L_R16_Score'\n",
    "                       }\n",
    "left_r16_spaced = left_r16_spaced.rename(columns=lr16_new_column_name)\n",
    "\n",
    "display(left_r16_spaced)"
   ]
  },
  {
   "cell_type": "code",
   "execution_count": 0,
   "metadata": {
    "application/vnd.databricks.v1+cell": {
     "cellMetadata": {
      "byteLimit": 2048000,
      "rowLimit": 10000
     },
     "inputWidgets": {},
     "nuid": "c7586446-7baa-44b8-b37e-0d60025dede4",
     "showTitle": false,
     "title": ""
    }
   },
   "outputs": [
    {
     "output_type": "stream",
     "name": "stderr",
     "output_type": "stream",
     "text": [
      "/databricks/spark/python/pyspark/sql/pandas/conversion.py:467: UserWarning: createDataFrame attempted Arrow optimization because 'spark.sql.execution.arrow.pyspark.enabled' is set to true; however, failed by the reason below:\n  Expected bytes, got a 'int' object\nAttempting non-optimization as 'spark.sql.execution.arrow.pyspark.fallback.enabled' is set to true.\n  warn(msg)\n"
     ]
    },
    {
     "output_type": "display_data",
     "data": {
      "text/html": [
       "<style scoped>\n",
       "  .table-result-container {\n",
       "    max-height: 300px;\n",
       "    overflow: auto;\n",
       "  }\n",
       "  table, th, td {\n",
       "    border: 1px solid black;\n",
       "    border-collapse: collapse;\n",
       "  }\n",
       "  th, td {\n",
       "    padding: 5px;\n",
       "  }\n",
       "  th {\n",
       "    text-align: left;\n",
       "  }\n",
       "</style><div class='table-result-container'><table class='table-result'><thead style='background-color: white'><tr><th>R_R16_Score</th><th>R_R16_Teams</th></tr></thead><tbody><tr><td></td><td></td></tr><tr><td>1</td><td>Czech Republic</td></tr><tr><td>2</td><td>England</td></tr><tr><td></td><td></td></tr><tr><td></td><td></td></tr><tr><td>5</td><td>Sweden</td></tr><tr><td>5</td><td>Finland</td></tr><tr><td></td><td></td></tr><tr><td></td><td></td></tr><tr><td>0</td><td>Switzerland</td></tr><tr><td>3</td><td>Slovakia</td></tr><tr><td></td><td></td></tr><tr><td></td><td></td></tr><tr><td>1</td><td>Spain</td></tr><tr><td>4</td><td>Belgium</td></tr><tr><td></td><td></td></tr></tbody></table></div>"
      ]
     },
     "metadata": {
      "application/vnd.databricks.v1+output": {
       "addedWidgets": {},
       "aggData": [],
       "aggError": "",
       "aggOverflow": false,
       "aggSchema": [],
       "aggSeriesLimitReached": false,
       "aggType": "",
       "arguments": {},
       "columnCustomDisplayInfos": {},
       "data": [
        [
         "",
         ""
        ],
        [
         "1",
         "Czech Republic"
        ],
        [
         "2",
         "England"
        ],
        [
         "",
         ""
        ],
        [
         "",
         ""
        ],
        [
         "5",
         "Sweden"
        ],
        [
         "5",
         "Finland"
        ],
        [
         "",
         ""
        ],
        [
         "",
         ""
        ],
        [
         "0",
         "Switzerland"
        ],
        [
         "3",
         "Slovakia"
        ],
        [
         "",
         ""
        ],
        [
         "",
         ""
        ],
        [
         "1",
         "Spain"
        ],
        [
         "4",
         "Belgium"
        ],
        [
         "",
         ""
        ]
       ],
       "datasetInfos": [],
       "dbfsResultPath": null,
       "isJsonSchema": true,
       "metadata": {},
       "overflow": false,
       "plotOptions": {
        "customPlotOptions": {},
        "displayType": "table",
        "pivotAggregation": null,
        "pivotColumns": null,
        "xColumns": null,
        "yColumns": null
       },
       "removedWidgets": [],
       "schema": [
        {
         "metadata": "{}",
         "name": "R_R16_Score",
         "type": "\"string\""
        },
        {
         "metadata": "{}",
         "name": "R_R16_Teams",
         "type": "\"string\""
        }
       ],
       "type": "table"
      }
     },
     "output_type": "display_data"
    }
   ],
   "source": [
    "right_r16_grouped = [right_r16.iloc[i:i+2] for i in range(0, len(right_r16), 2)]\n",
    "\n",
    "for i in range(len(right_r16_grouped)):\n",
    "    if i < len(right_r16_grouped):\n",
    "        right_r16_grouped[i] = pd.concat([r16_row_pd,right_r16_grouped[i], r16_row_pd], ignore_index=True)\n",
    "\n",
    "right_r16_spaced = pd.concat(right_r16_grouped).reset_index(drop=True)\n",
    "\n",
    "rr16_new_column_name ={'R16_Teams': 'R_R16_Teams',\n",
    "                       'R16_Score': 'R_R16_Score'\n",
    "                       }\n",
    "right_r16_spaced = right_r16_spaced.rename(columns=rr16_new_column_name)\n",
    "\n",
    "rr16_new_column_order = ['R_R16_Score', 'R_R16_Teams']\n",
    "right_r16_spaced = right_r16_spaced[rr16_new_column_order]\n",
    "\n",
    "display(right_r16_spaced)"
   ]
  },
  {
   "cell_type": "code",
   "execution_count": 0,
   "metadata": {
    "application/vnd.databricks.v1+cell": {
     "cellMetadata": {
      "byteLimit": 2048000,
      "rowLimit": 10000
     },
     "inputWidgets": {},
     "nuid": "cb40e60f-eaab-4e7e-b401-8967dca41e49",
     "showTitle": false,
     "title": ""
    }
   },
   "outputs": [
    {
     "output_type": "display_data",
     "data": {
      "text/html": [
       "<style scoped>\n",
       "  .table-result-container {\n",
       "    max-height: 300px;\n",
       "    overflow: auto;\n",
       "  }\n",
       "  table, th, td {\n",
       "    border: 1px solid black;\n",
       "    border-collapse: collapse;\n",
       "  }\n",
       "  th, td {\n",
       "    padding: 5px;\n",
       "  }\n",
       "  th {\n",
       "    text-align: left;\n",
       "  }\n",
       "</style><div class='table-result-container'><table class='table-result'><thead style='background-color: white'><tr><th>MatchID</th><th>Team1</th><th>Team1Goals</th><th>Team2Goals</th><th>Team2</th><th>MatchWinner</th><th>MatchStage</th></tr></thead><tbody><tr><td>9</td><td>Germany</td><td>6</td><td>6</td><td>Turkey</td><td>Germany</td><td>Quater Finals</td></tr><tr><td>10</td><td>North Macedonia</td><td>3</td><td>1</td><td>Russia</td><td>North Macedonia</td><td>Quater Finals</td></tr><tr><td>11</td><td>England</td><td>5</td><td>1</td><td>Finland</td><td>England</td><td>Quater Finals</td></tr><tr><td>12</td><td>Slovakia</td><td>2</td><td>3</td><td>Belgium</td><td>Belgium</td><td>Quater Finals</td></tr></tbody></table></div>"
      ]
     },
     "metadata": {
      "application/vnd.databricks.v1+output": {
       "addedWidgets": {},
       "aggData": [],
       "aggError": "",
       "aggOverflow": false,
       "aggSchema": [],
       "aggSeriesLimitReached": false,
       "aggType": "",
       "arguments": {},
       "columnCustomDisplayInfos": {},
       "data": [
        [
         "9",
         "Germany",
         "6",
         "6",
         "Turkey",
         "Germany",
         "Quater Finals"
        ],
        [
         "10",
         "North Macedonia",
         "3",
         "1",
         "Russia",
         "North Macedonia",
         "Quater Finals"
        ],
        [
         "11",
         "England",
         "5",
         "1",
         "Finland",
         "England",
         "Quater Finals"
        ],
        [
         "12",
         "Slovakia",
         "2",
         "3",
         "Belgium",
         "Belgium",
         "Quater Finals"
        ]
       ],
       "datasetInfos": [],
       "dbfsResultPath": null,
       "isJsonSchema": true,
       "metadata": {},
       "overflow": false,
       "plotOptions": {
        "customPlotOptions": {},
        "displayType": "table",
        "pivotAggregation": null,
        "pivotColumns": null,
        "xColumns": null,
        "yColumns": null
       },
       "removedWidgets": [],
       "schema": [
        {
         "metadata": "{}",
         "name": "MatchID",
         "type": "\"string\""
        },
        {
         "metadata": "{}",
         "name": "Team1",
         "type": "\"string\""
        },
        {
         "metadata": "{}",
         "name": "Team1Goals",
         "type": "\"string\""
        },
        {
         "metadata": "{}",
         "name": "Team2Goals",
         "type": "\"string\""
        },
        {
         "metadata": "{}",
         "name": "Team2",
         "type": "\"string\""
        },
        {
         "metadata": "{}",
         "name": "MatchWinner",
         "type": "\"string\""
        },
        {
         "metadata": "{}",
         "name": "MatchStage",
         "type": "\"string\""
        }
       ],
       "type": "table"
      }
     },
     "output_type": "display_data"
    }
   ],
   "source": [
    "\n",
    "#getting data from sql table and into pandas dataframe\n",
    "quaterFinals = spark.sql(\"SELECT * FROM EliminationMatches WHERE MatchStage = 'Quater Finals'\")\n",
    "pd_quaterfinals= quaterFinals.toPandas()\n",
    "pd_quaterfinals = pd_quaterfinals.applymap(lambda x: str(x).split(\".\")[0])\n",
    "display(pd_quaterfinals)\n",
    "     \n",
    "     "
   ]
  },
  {
   "cell_type": "code",
   "execution_count": 0,
   "metadata": {
    "application/vnd.databricks.v1+cell": {
     "cellMetadata": {
      "byteLimit": 2048000,
      "rowLimit": 10000
     },
     "inputWidgets": {},
     "nuid": "0b3be76c-9cd3-4600-b7ea-f89032fa1b78",
     "showTitle": false,
     "title": ""
    }
   },
   "outputs": [
    {
     "output_type": "display_data",
     "data": {
      "text/html": [
       "<style scoped>\n",
       "  .table-result-container {\n",
       "    max-height: 300px;\n",
       "    overflow: auto;\n",
       "  }\n",
       "  table, th, td {\n",
       "    border: 1px solid black;\n",
       "    border-collapse: collapse;\n",
       "  }\n",
       "  th, td {\n",
       "    padding: 5px;\n",
       "  }\n",
       "  th {\n",
       "    text-align: left;\n",
       "  }\n",
       "</style><div class='table-result-container'><table class='table-result'><thead style='background-color: white'><tr><th>QF_Teams</th><th>QF_Score</th></tr></thead><tbody><tr><td>Germany</td><td>6</td></tr><tr><td>Turkey</td><td>6</td></tr><tr><td>North Macedonia</td><td>3</td></tr><tr><td>Russia</td><td>1</td></tr><tr><td>England</td><td>5</td></tr><tr><td>Finland</td><td>1</td></tr><tr><td>Slovakia</td><td>2</td></tr><tr><td>Belgium</td><td>3</td></tr></tbody></table></div>"
      ]
     },
     "metadata": {
      "application/vnd.databricks.v1+output": {
       "addedWidgets": {},
       "aggData": [],
       "aggError": "",
       "aggOverflow": false,
       "aggSchema": [],
       "aggSeriesLimitReached": false,
       "aggType": "",
       "arguments": {},
       "columnCustomDisplayInfos": {},
       "data": [
        [
         "Germany",
         "6"
        ],
        [
         "Turkey",
         "6"
        ],
        [
         "North Macedonia",
         "3"
        ],
        [
         "Russia",
         "1"
        ],
        [
         "England",
         "5"
        ],
        [
         "Finland",
         "1"
        ],
        [
         "Slovakia",
         "2"
        ],
        [
         "Belgium",
         "3"
        ]
       ],
       "datasetInfos": [],
       "dbfsResultPath": null,
       "isJsonSchema": true,
       "metadata": {},
       "overflow": false,
       "plotOptions": {
        "customPlotOptions": {},
        "displayType": "table",
        "pivotAggregation": null,
        "pivotColumns": null,
        "xColumns": null,
        "yColumns": null
       },
       "removedWidgets": [],
       "schema": [
        {
         "metadata": "{}",
         "name": "QF_Teams",
         "type": "\"string\""
        },
        {
         "metadata": "{}",
         "name": "QF_Score",
         "type": "\"string\""
        }
       ],
       "type": "table"
      }
     },
     "output_type": "display_data"
    }
   ],
   "source": [
    "\n",
    "#storing required data in df\n",
    "qf_vis = pd.DataFrame(columns=['QF_Teams', 'QF_Score'])\n",
    "\n",
    "#displaying all teams and respective scores in columns\n",
    "for index, row in pd_quaterfinals.iterrows():\n",
    "    team1 = row['Team1']\n",
    "    team1goals = row['Team1Goals']\n",
    "    team2 = row['Team2']\n",
    "    team2goals = row['Team2Goals']\n",
    "    qf_vis = pd.concat([qf_vis, pd.DataFrame({'QF_Teams': [team1], 'QF_Score': [team1goals]})], ignore_index=True)\n",
    "    qf_vis = pd.concat([qf_vis, pd.DataFrame({'QF_Teams': [team2], 'QF_Score': [team2goals]})], ignore_index=True)\n",
    "\n",
    "display(qf_vis)"
   ]
  },
  {
   "cell_type": "code",
   "execution_count": 0,
   "metadata": {
    "application/vnd.databricks.v1+cell": {
     "cellMetadata": {
      "byteLimit": 2048000,
      "rowLimit": 10000
     },
     "inputWidgets": {},
     "nuid": "1bf0755c-b3b0-4f87-8545-78b734892e5b",
     "showTitle": false,
     "title": ""
    }
   },
   "outputs": [
    {
     "output_type": "display_data",
     "data": {
      "text/html": [
       "<style scoped>\n",
       "  .table-result-container {\n",
       "    max-height: 300px;\n",
       "    overflow: auto;\n",
       "  }\n",
       "  table, th, td {\n",
       "    border: 1px solid black;\n",
       "    border-collapse: collapse;\n",
       "  }\n",
       "  th, td {\n",
       "    padding: 5px;\n",
       "  }\n",
       "  th {\n",
       "    text-align: left;\n",
       "  }\n",
       "</style><div class='table-result-container'><table class='table-result'><thead style='background-color: white'><tr><th>QF_Teams</th><th>QF_Score</th></tr></thead><tbody><tr><td>Germany</td><td>6</td></tr><tr><td>Turkey</td><td>6</td></tr><tr><td>North Macedonia</td><td>3</td></tr><tr><td>Russia</td><td>1</td></tr></tbody></table></div>"
      ]
     },
     "metadata": {
      "application/vnd.databricks.v1+output": {
       "addedWidgets": {},
       "aggData": [],
       "aggError": "",
       "aggOverflow": false,
       "aggSchema": [],
       "aggSeriesLimitReached": false,
       "aggType": "",
       "arguments": {},
       "columnCustomDisplayInfos": {},
       "data": [
        [
         "Germany",
         "6"
        ],
        [
         "Turkey",
         "6"
        ],
        [
         "North Macedonia",
         "3"
        ],
        [
         "Russia",
         "1"
        ]
       ],
       "datasetInfos": [],
       "dbfsResultPath": null,
       "isJsonSchema": true,
       "metadata": {},
       "overflow": false,
       "plotOptions": {
        "customPlotOptions": {},
        "displayType": "table",
        "pivotAggregation": null,
        "pivotColumns": null,
        "xColumns": null,
        "yColumns": null
       },
       "removedWidgets": [],
       "schema": [
        {
         "metadata": "{}",
         "name": "QF_Teams",
         "type": "\"string\""
        },
        {
         "metadata": "{}",
         "name": "QF_Score",
         "type": "\"string\""
        }
       ],
       "type": "table"
      }
     },
     "output_type": "display_data"
    },
    {
     "output_type": "display_data",
     "data": {
      "text/html": [
       "<style scoped>\n",
       "  .table-result-container {\n",
       "    max-height: 300px;\n",
       "    overflow: auto;\n",
       "  }\n",
       "  table, th, td {\n",
       "    border: 1px solid black;\n",
       "    border-collapse: collapse;\n",
       "  }\n",
       "  th, td {\n",
       "    padding: 5px;\n",
       "  }\n",
       "  th {\n",
       "    text-align: left;\n",
       "  }\n",
       "</style><div class='table-result-container'><table class='table-result'><thead style='background-color: white'><tr><th>QF_Teams</th><th>QF_Score</th></tr></thead><tbody><tr><td>England</td><td>5</td></tr><tr><td>Finland</td><td>1</td></tr><tr><td>Slovakia</td><td>2</td></tr><tr><td>Belgium</td><td>3</td></tr></tbody></table></div>"
      ]
     },
     "metadata": {
      "application/vnd.databricks.v1+output": {
       "addedWidgets": {},
       "aggData": [],
       "aggError": "",
       "aggOverflow": false,
       "aggSchema": [],
       "aggSeriesLimitReached": false,
       "aggType": "",
       "arguments": {},
       "columnCustomDisplayInfos": {},
       "data": [
        [
         "England",
         "5"
        ],
        [
         "Finland",
         "1"
        ],
        [
         "Slovakia",
         "2"
        ],
        [
         "Belgium",
         "3"
        ]
       ],
       "datasetInfos": [],
       "dbfsResultPath": null,
       "isJsonSchema": true,
       "metadata": {},
       "overflow": false,
       "plotOptions": {
        "customPlotOptions": {},
        "displayType": "table",
        "pivotAggregation": null,
        "pivotColumns": null,
        "xColumns": null,
        "yColumns": null
       },
       "removedWidgets": [],
       "schema": [
        {
         "metadata": "{}",
         "name": "QF_Teams",
         "type": "\"string\""
        },
        {
         "metadata": "{}",
         "name": "QF_Score",
         "type": "\"string\""
        }
       ],
       "type": "table"
      }
     },
     "output_type": "display_data"
    }
   ],
   "source": [
    "\n",
    "# calculating midpoint of the dataFrame\n",
    "midpoint_index2 = len(qf_vis) // 2\n",
    "\n",
    "# splitting dataFrame into two equal halves\n",
    "left_qf = qf_vis.iloc[:midpoint_index2]\n",
    "right_qf = qf_vis.iloc[midpoint_index2:]\n",
    "\n",
    "# index reset\n",
    "left_qf.reset_index(drop=True, inplace=True)\n",
    "right_qf.reset_index(drop=True, inplace=True)\n",
    "\n",
    "# displaying the split DataFrames\n",
    "display(left_qf)\n",
    "display(right_qf)\n",
    "     "
   ]
  },
  {
   "cell_type": "code",
   "execution_count": 0,
   "metadata": {
    "application/vnd.databricks.v1+cell": {
     "cellMetadata": {
      "byteLimit": 2048000,
      "rowLimit": 10000
     },
     "inputWidgets": {},
     "nuid": "367adb87-f00b-4efd-926d-16600f26e3a2",
     "showTitle": false,
     "title": ""
    }
   },
   "outputs": [
    {
     "output_type": "display_data",
     "data": {
      "text/html": [
       "<style scoped>\n",
       "  .table-result-container {\n",
       "    max-height: 300px;\n",
       "    overflow: auto;\n",
       "  }\n",
       "  table, th, td {\n",
       "    border: 1px solid black;\n",
       "    border-collapse: collapse;\n",
       "  }\n",
       "  th, td {\n",
       "    padding: 5px;\n",
       "  }\n",
       "  th {\n",
       "    text-align: left;\n",
       "  }\n",
       "</style><div class='table-result-container'><table class='table-result'><thead style='background-color: white'><tr><th>L_QF_Teams</th><th>L_QF_Score</th></tr></thead><tbody><tr><td></td><td></td></tr><tr><td></td><td></td></tr><tr><td></td><td></td></tr><tr><td></td><td></td></tr><tr><td>Germany</td><td>6</td></tr><tr><td>Turkey</td><td>6</td></tr><tr><td></td><td></td></tr><tr><td></td><td></td></tr><tr><td></td><td></td></tr><tr><td></td><td></td></tr><tr><td>North Macedonia</td><td>3</td></tr><tr><td>Russia</td><td>1</td></tr><tr><td></td><td></td></tr><tr><td></td><td></td></tr><tr><td></td><td></td></tr><tr><td></td><td></td></tr></tbody></table></div>"
      ]
     },
     "metadata": {
      "application/vnd.databricks.v1+output": {
       "addedWidgets": {},
       "aggData": [],
       "aggError": "",
       "aggOverflow": false,
       "aggSchema": [],
       "aggSeriesLimitReached": false,
       "aggType": "",
       "arguments": {},
       "columnCustomDisplayInfos": {},
       "data": [
        [
         "",
         ""
        ],
        [
         "",
         ""
        ],
        [
         "",
         ""
        ],
        [
         "",
         ""
        ],
        [
         "Germany",
         "6"
        ],
        [
         "Turkey",
         "6"
        ],
        [
         "",
         ""
        ],
        [
         "",
         ""
        ],
        [
         "",
         ""
        ],
        [
         "",
         ""
        ],
        [
         "North Macedonia",
         "3"
        ],
        [
         "Russia",
         "1"
        ],
        [
         "",
         ""
        ],
        [
         "",
         ""
        ],
        [
         "",
         ""
        ],
        [
         "",
         ""
        ]
       ],
       "datasetInfos": [],
       "dbfsResultPath": null,
       "isJsonSchema": true,
       "metadata": {},
       "overflow": false,
       "plotOptions": {
        "customPlotOptions": {},
        "displayType": "table",
        "pivotAggregation": null,
        "pivotColumns": null,
        "xColumns": null,
        "yColumns": null
       },
       "removedWidgets": [],
       "schema": [
        {
         "metadata": "{}",
         "name": "L_QF_Teams",
         "type": "\"string\""
        },
        {
         "metadata": "{}",
         "name": "L_QF_Score",
         "type": "\"string\""
        }
       ],
       "type": "table"
      }
     },
     "output_type": "display_data"
    }
   ],
   "source": [
    "qf_row_pd = pd.DataFrame({col: [''] for col in qf_vis.columns})\n",
    "\n",
    "left_qf_grouped = [left_qf.iloc[i:i+2] for i in range(0, len(left_qf), 2)]\n",
    "\n",
    "for i in range(len(left_qf_grouped)):\n",
    "    if i < len(left_qf_grouped):\n",
    "        left_qf_grouped[i] = pd.concat([qf_row_pd, qf_row_pd, qf_row_pd,qf_row_pd, left_qf_grouped[i]], ignore_index=True)\n",
    "\n",
    "left_qf_spaced = pd.concat(left_qf_grouped).reset_index(drop=True)\n",
    "\n",
    "for _ in range(4):\n",
    "    left_qf_spaced = pd.concat([left_qf_spaced, qf_row_pd], ignore_index=True)\n",
    "\n",
    "lqf_new_column_name ={'QF_Teams': 'L_QF_Teams',\n",
    "                       'QF_Score': 'L_QF_Score'\n",
    "                       }\n",
    "left_qf_spaced = left_qf_spaced.rename(columns=lqf_new_column_name)\n",
    "\n",
    "display(left_qf_spaced)"
   ]
  },
  {
   "cell_type": "code",
   "execution_count": 0,
   "metadata": {
    "application/vnd.databricks.v1+cell": {
     "cellMetadata": {
      "byteLimit": 2048000,
      "rowLimit": 10000
     },
     "inputWidgets": {},
     "nuid": "48c32c3b-5e3f-4d46-8658-4cd799677ebe",
     "showTitle": false,
     "title": ""
    }
   },
   "outputs": [
    {
     "output_type": "display_data",
     "data": {
      "text/html": [
       "<style scoped>\n",
       "  .table-result-container {\n",
       "    max-height: 300px;\n",
       "    overflow: auto;\n",
       "  }\n",
       "  table, th, td {\n",
       "    border: 1px solid black;\n",
       "    border-collapse: collapse;\n",
       "  }\n",
       "  th, td {\n",
       "    padding: 5px;\n",
       "  }\n",
       "  th {\n",
       "    text-align: left;\n",
       "  }\n",
       "</style><div class='table-result-container'><table class='table-result'><thead style='background-color: white'><tr><th>R_QF_Score</th><th>R_QF_Teams</th></tr></thead><tbody><tr><td></td><td></td></tr><tr><td></td><td></td></tr><tr><td></td><td></td></tr><tr><td></td><td></td></tr><tr><td>5</td><td>England</td></tr><tr><td>1</td><td>Finland</td></tr><tr><td></td><td></td></tr><tr><td></td><td></td></tr><tr><td></td><td></td></tr><tr><td></td><td></td></tr><tr><td>2</td><td>Slovakia</td></tr><tr><td>3</td><td>Belgium</td></tr><tr><td></td><td></td></tr><tr><td></td><td></td></tr><tr><td></td><td></td></tr><tr><td></td><td></td></tr></tbody></table></div>"
      ]
     },
     "metadata": {
      "application/vnd.databricks.v1+output": {
       "addedWidgets": {},
       "aggData": [],
       "aggError": "",
       "aggOverflow": false,
       "aggSchema": [],
       "aggSeriesLimitReached": false,
       "aggType": "",
       "arguments": {},
       "columnCustomDisplayInfos": {},
       "data": [
        [
         "",
         ""
        ],
        [
         "",
         ""
        ],
        [
         "",
         ""
        ],
        [
         "",
         ""
        ],
        [
         "5",
         "England"
        ],
        [
         "1",
         "Finland"
        ],
        [
         "",
         ""
        ],
        [
         "",
         ""
        ],
        [
         "",
         ""
        ],
        [
         "",
         ""
        ],
        [
         "2",
         "Slovakia"
        ],
        [
         "3",
         "Belgium"
        ],
        [
         "",
         ""
        ],
        [
         "",
         ""
        ],
        [
         "",
         ""
        ],
        [
         "",
         ""
        ]
       ],
       "datasetInfos": [],
       "dbfsResultPath": null,
       "isJsonSchema": true,
       "metadata": {},
       "overflow": false,
       "plotOptions": {
        "customPlotOptions": {},
        "displayType": "table",
        "pivotAggregation": null,
        "pivotColumns": null,
        "xColumns": null,
        "yColumns": null
       },
       "removedWidgets": [],
       "schema": [
        {
         "metadata": "{}",
         "name": "R_QF_Score",
         "type": "\"string\""
        },
        {
         "metadata": "{}",
         "name": "R_QF_Teams",
         "type": "\"string\""
        }
       ],
       "type": "table"
      }
     },
     "output_type": "display_data"
    }
   ],
   "source": [
    "\n",
    "right_qf_grouped = [right_qf.iloc[i:i+2] for i in range(0, len(left_qf), 2)]\n",
    "\n",
    "for i in range(len(right_qf_grouped)):\n",
    "    if i < len(right_qf_grouped):\n",
    "        right_qf_grouped[i] = pd.concat([qf_row_pd, qf_row_pd, qf_row_pd,qf_row_pd, right_qf_grouped[i]], ignore_index=True)\n",
    "\n",
    "right_qf_spaced = pd.concat(right_qf_grouped).reset_index(drop=True)\n",
    "\n",
    "for _ in range(4):\n",
    "    right_qf_spaced = pd.concat([right_qf_spaced, qf_row_pd], ignore_index=True)\n",
    "\n",
    "rqf_new_column_name ={'QF_Teams': 'R_QF_Teams',\n",
    "                       'QF_Score': 'R_QF_Score'\n",
    "                       }\n",
    "right_qf_spaced = right_qf_spaced.rename(columns=rqf_new_column_name)\n",
    "\n",
    "rqf_new_column_order = ['R_QF_Score', 'R_QF_Teams']\n",
    "right_qf_spaced = right_qf_spaced[rqf_new_column_order]\n",
    "\n",
    "display(right_qf_spaced)"
   ]
  },
  {
   "cell_type": "code",
   "execution_count": 0,
   "metadata": {
    "application/vnd.databricks.v1+cell": {
     "cellMetadata": {
      "byteLimit": 2048000,
      "rowLimit": 10000
     },
     "inputWidgets": {},
     "nuid": "dc44d567-37fa-4d8e-808e-89d75c93fb47",
     "showTitle": false,
     "title": ""
    }
   },
   "outputs": [
    {
     "output_type": "display_data",
     "data": {
      "text/html": [
       "<style scoped>\n",
       "  .table-result-container {\n",
       "    max-height: 300px;\n",
       "    overflow: auto;\n",
       "  }\n",
       "  table, th, td {\n",
       "    border: 1px solid black;\n",
       "    border-collapse: collapse;\n",
       "  }\n",
       "  th, td {\n",
       "    padding: 5px;\n",
       "  }\n",
       "  th {\n",
       "    text-align: left;\n",
       "  }\n",
       "</style><div class='table-result-container'><table class='table-result'><thead style='background-color: white'><tr><th>MatchID</th><th>Team1</th><th>Team1Goals</th><th>Team2Goals</th><th>Team2</th><th>MatchWinner</th><th>MatchStage</th></tr></thead><tbody><tr><td>13</td><td>Germany</td><td>3</td><td>1</td><td>North Macedonia</td><td>Germany</td><td>Semifinals</td></tr><tr><td>14</td><td>England</td><td>2</td><td>6</td><td>Belgium</td><td>Belgium</td><td>Semifinals</td></tr></tbody></table></div>"
      ]
     },
     "metadata": {
      "application/vnd.databricks.v1+output": {
       "addedWidgets": {},
       "aggData": [],
       "aggError": "",
       "aggOverflow": false,
       "aggSchema": [],
       "aggSeriesLimitReached": false,
       "aggType": "",
       "arguments": {},
       "columnCustomDisplayInfos": {},
       "data": [
        [
         "13",
         "Germany",
         "3",
         "1",
         "North Macedonia",
         "Germany",
         "Semifinals"
        ],
        [
         "14",
         "England",
         "2",
         "6",
         "Belgium",
         "Belgium",
         "Semifinals"
        ]
       ],
       "datasetInfos": [],
       "dbfsResultPath": null,
       "isJsonSchema": true,
       "metadata": {},
       "overflow": false,
       "plotOptions": {
        "customPlotOptions": {},
        "displayType": "table",
        "pivotAggregation": null,
        "pivotColumns": null,
        "xColumns": null,
        "yColumns": null
       },
       "removedWidgets": [],
       "schema": [
        {
         "metadata": "{}",
         "name": "MatchID",
         "type": "\"string\""
        },
        {
         "metadata": "{}",
         "name": "Team1",
         "type": "\"string\""
        },
        {
         "metadata": "{}",
         "name": "Team1Goals",
         "type": "\"string\""
        },
        {
         "metadata": "{}",
         "name": "Team2Goals",
         "type": "\"string\""
        },
        {
         "metadata": "{}",
         "name": "Team2",
         "type": "\"string\""
        },
        {
         "metadata": "{}",
         "name": "MatchWinner",
         "type": "\"string\""
        },
        {
         "metadata": "{}",
         "name": "MatchStage",
         "type": "\"string\""
        }
       ],
       "type": "table"
      }
     },
     "output_type": "display_data"
    }
   ],
   "source": [
    "\n",
    "sf = spark.sql(\"SELECT * FROM EliminationMatches WHERE MatchStage = 'Semifinals'\")\n",
    "sf_pd = sf.toPandas()\n",
    "sf_pd = sf_pd.applymap(lambda x: str(x).split(\".\")[0])\n",
    "\n",
    "display(sf_pd)\n",
    "     "
   ]
  },
  {
   "cell_type": "code",
   "execution_count": 0,
   "metadata": {
    "application/vnd.databricks.v1+cell": {
     "cellMetadata": {
      "byteLimit": 2048000,
      "rowLimit": 10000
     },
     "inputWidgets": {},
     "nuid": "fc7c53b6-4ffc-40fe-bd63-57a25322a54c",
     "showTitle": false,
     "title": ""
    }
   },
   "outputs": [
    {
     "output_type": "display_data",
     "data": {
      "text/html": [
       "<style scoped>\n",
       "  .table-result-container {\n",
       "    max-height: 300px;\n",
       "    overflow: auto;\n",
       "  }\n",
       "  table, th, td {\n",
       "    border: 1px solid black;\n",
       "    border-collapse: collapse;\n",
       "  }\n",
       "  th, td {\n",
       "    padding: 5px;\n",
       "  }\n",
       "  th {\n",
       "    text-align: left;\n",
       "  }\n",
       "</style><div class='table-result-container'><table class='table-result'><thead style='background-color: white'><tr><th>SF_Teams</th><th>SF_Score</th></tr></thead><tbody><tr><td>Germany</td><td>3</td></tr><tr><td>North Macedonia</td><td>1</td></tr><tr><td>England</td><td>2</td></tr><tr><td>Belgium</td><td>6</td></tr></tbody></table></div>"
      ]
     },
     "metadata": {
      "application/vnd.databricks.v1+output": {
       "addedWidgets": {},
       "aggData": [],
       "aggError": "",
       "aggOverflow": false,
       "aggSchema": [],
       "aggSeriesLimitReached": false,
       "aggType": "",
       "arguments": {},
       "columnCustomDisplayInfos": {},
       "data": [
        [
         "Germany",
         "3"
        ],
        [
         "North Macedonia",
         "1"
        ],
        [
         "England",
         "2"
        ],
        [
         "Belgium",
         "6"
        ]
       ],
       "datasetInfos": [],
       "dbfsResultPath": null,
       "isJsonSchema": true,
       "metadata": {},
       "overflow": false,
       "plotOptions": {
        "customPlotOptions": {},
        "displayType": "table",
        "pivotAggregation": null,
        "pivotColumns": null,
        "xColumns": null,
        "yColumns": null
       },
       "removedWidgets": [],
       "schema": [
        {
         "metadata": "{}",
         "name": "SF_Teams",
         "type": "\"string\""
        },
        {
         "metadata": "{}",
         "name": "SF_Score",
         "type": "\"string\""
        }
       ],
       "type": "table"
      }
     },
     "output_type": "display_data"
    }
   ],
   "source": [
    "\n",
    "#storing required data in df\n",
    "sf_vis = pd.DataFrame(columns=['SF_Teams', 'SF_Score'])\n",
    "\n",
    "#displaying all teams and respective scores in columns\n",
    "for index, row in sf_pd.iterrows():\n",
    "    team1 = row['Team1']\n",
    "    team1goals = row['Team1Goals']\n",
    "    team2 = row['Team2']\n",
    "    team2goals = row['Team2Goals']\n",
    "    sf_vis = pd.concat([sf_vis, pd.DataFrame({'SF_Teams': [team1], 'SF_Score': [team1goals]})], ignore_index=True)\n",
    "    sf_vis = pd.concat([sf_vis, pd.DataFrame({'SF_Teams': [team2], 'SF_Score': [team2goals]})], ignore_index=True)\n",
    "\n",
    "display(sf_vis)"
   ]
  },
  {
   "cell_type": "code",
   "execution_count": 0,
   "metadata": {
    "application/vnd.databricks.v1+cell": {
     "cellMetadata": {
      "byteLimit": 2048000,
      "rowLimit": 10000
     },
     "inputWidgets": {},
     "nuid": "9f25dcb2-7cfb-4f25-aa37-ed74c3bd62c4",
     "showTitle": false,
     "title": ""
    }
   },
   "outputs": [
    {
     "output_type": "display_data",
     "data": {
      "text/html": [
       "<style scoped>\n",
       "  .table-result-container {\n",
       "    max-height: 300px;\n",
       "    overflow: auto;\n",
       "  }\n",
       "  table, th, td {\n",
       "    border: 1px solid black;\n",
       "    border-collapse: collapse;\n",
       "  }\n",
       "  th, td {\n",
       "    padding: 5px;\n",
       "  }\n",
       "  th {\n",
       "    text-align: left;\n",
       "  }\n",
       "</style><div class='table-result-container'><table class='table-result'><thead style='background-color: white'><tr><th>SF_Teams</th><th>SF_Score</th></tr></thead><tbody><tr><td>Germany</td><td>3</td></tr><tr><td>North Macedonia</td><td>1</td></tr></tbody></table></div>"
      ]
     },
     "metadata": {
      "application/vnd.databricks.v1+output": {
       "addedWidgets": {},
       "aggData": [],
       "aggError": "",
       "aggOverflow": false,
       "aggSchema": [],
       "aggSeriesLimitReached": false,
       "aggType": "",
       "arguments": {},
       "columnCustomDisplayInfos": {},
       "data": [
        [
         "Germany",
         "3"
        ],
        [
         "North Macedonia",
         "1"
        ]
       ],
       "datasetInfos": [],
       "dbfsResultPath": null,
       "isJsonSchema": true,
       "metadata": {},
       "overflow": false,
       "plotOptions": {
        "customPlotOptions": {},
        "displayType": "table",
        "pivotAggregation": null,
        "pivotColumns": null,
        "xColumns": null,
        "yColumns": null
       },
       "removedWidgets": [],
       "schema": [
        {
         "metadata": "{}",
         "name": "SF_Teams",
         "type": "\"string\""
        },
        {
         "metadata": "{}",
         "name": "SF_Score",
         "type": "\"string\""
        }
       ],
       "type": "table"
      }
     },
     "output_type": "display_data"
    },
    {
     "output_type": "display_data",
     "data": {
      "text/html": [
       "<style scoped>\n",
       "  .table-result-container {\n",
       "    max-height: 300px;\n",
       "    overflow: auto;\n",
       "  }\n",
       "  table, th, td {\n",
       "    border: 1px solid black;\n",
       "    border-collapse: collapse;\n",
       "  }\n",
       "  th, td {\n",
       "    padding: 5px;\n",
       "  }\n",
       "  th {\n",
       "    text-align: left;\n",
       "  }\n",
       "</style><div class='table-result-container'><table class='table-result'><thead style='background-color: white'><tr><th>SF_Teams</th><th>SF_Score</th></tr></thead><tbody><tr><td>England</td><td>2</td></tr><tr><td>Belgium</td><td>6</td></tr></tbody></table></div>"
      ]
     },
     "metadata": {
      "application/vnd.databricks.v1+output": {
       "addedWidgets": {},
       "aggData": [],
       "aggError": "",
       "aggOverflow": false,
       "aggSchema": [],
       "aggSeriesLimitReached": false,
       "aggType": "",
       "arguments": {},
       "columnCustomDisplayInfos": {},
       "data": [
        [
         "England",
         "2"
        ],
        [
         "Belgium",
         "6"
        ]
       ],
       "datasetInfos": [],
       "dbfsResultPath": null,
       "isJsonSchema": true,
       "metadata": {},
       "overflow": false,
       "plotOptions": {
        "customPlotOptions": {},
        "displayType": "table",
        "pivotAggregation": null,
        "pivotColumns": null,
        "xColumns": null,
        "yColumns": null
       },
       "removedWidgets": [],
       "schema": [
        {
         "metadata": "{}",
         "name": "SF_Teams",
         "type": "\"string\""
        },
        {
         "metadata": "{}",
         "name": "SF_Score",
         "type": "\"string\""
        }
       ],
       "type": "table"
      }
     },
     "output_type": "display_data"
    }
   ],
   "source": [
    "\n",
    "# calculating midpoint of the dataFrame\n",
    "midpoint_index2 = len(sf_vis) // 2\n",
    "\n",
    "# splitting dataFrame into two equal halves\n",
    "left_sf = sf_vis.iloc[:midpoint_index2]\n",
    "right_sf = sf_vis.iloc[midpoint_index2:]\n",
    "\n",
    "# index reset\n",
    "left_sf.reset_index(drop=True, inplace=True)\n",
    "right_sf.reset_index(drop=True, inplace=True)\n",
    "\n",
    "# displaying the split DataFrames\n",
    "display(left_sf)\n",
    "display(right_sf)"
   ]
  },
  {
   "cell_type": "code",
   "execution_count": 0,
   "metadata": {
    "application/vnd.databricks.v1+cell": {
     "cellMetadata": {
      "byteLimit": 2048000,
      "rowLimit": 10000
     },
     "inputWidgets": {},
     "nuid": "771cee2b-a42b-4b3b-9ded-c2151e49307e",
     "showTitle": false,
     "title": ""
    }
   },
   "outputs": [
    {
     "output_type": "display_data",
     "data": {
      "text/html": [
       "<style scoped>\n",
       "  .table-result-container {\n",
       "    max-height: 300px;\n",
       "    overflow: auto;\n",
       "  }\n",
       "  table, th, td {\n",
       "    border: 1px solid black;\n",
       "    border-collapse: collapse;\n",
       "  }\n",
       "  th, td {\n",
       "    padding: 5px;\n",
       "  }\n",
       "  th {\n",
       "    text-align: left;\n",
       "  }\n",
       "</style><div class='table-result-container'><table class='table-result'><thead style='background-color: white'><tr><th>L_SF_Teams</th><th>L_SF_Score</th></tr></thead><tbody><tr><td></td><td></td></tr><tr><td></td><td></td></tr><tr><td></td><td></td></tr><tr><td></td><td></td></tr><tr><td></td><td></td></tr><tr><td></td><td></td></tr><tr><td>Germany</td><td>3</td></tr><tr><td></td><td></td></tr><tr><td></td><td></td></tr><tr><td>North Macedonia</td><td>1</td></tr><tr><td></td><td></td></tr><tr><td></td><td></td></tr><tr><td></td><td></td></tr><tr><td></td><td></td></tr><tr><td></td><td></td></tr><tr><td></td><td></td></tr></tbody></table></div>"
      ]
     },
     "metadata": {
      "application/vnd.databricks.v1+output": {
       "addedWidgets": {},
       "aggData": [],
       "aggError": "",
       "aggOverflow": false,
       "aggSchema": [],
       "aggSeriesLimitReached": false,
       "aggType": "",
       "arguments": {},
       "columnCustomDisplayInfos": {},
       "data": [
        [
         "",
         ""
        ],
        [
         "",
         ""
        ],
        [
         "",
         ""
        ],
        [
         "",
         ""
        ],
        [
         "",
         ""
        ],
        [
         "",
         ""
        ],
        [
         "Germany",
         "3"
        ],
        [
         "",
         ""
        ],
        [
         "",
         ""
        ],
        [
         "North Macedonia",
         "1"
        ],
        [
         "",
         ""
        ],
        [
         "",
         ""
        ],
        [
         "",
         ""
        ],
        [
         "",
         ""
        ],
        [
         "",
         ""
        ],
        [
         "",
         ""
        ]
       ],
       "datasetInfos": [],
       "dbfsResultPath": null,
       "isJsonSchema": true,
       "metadata": {},
       "overflow": false,
       "plotOptions": {
        "customPlotOptions": {},
        "displayType": "table",
        "pivotAggregation": null,
        "pivotColumns": null,
        "xColumns": null,
        "yColumns": null
       },
       "removedWidgets": [],
       "schema": [
        {
         "metadata": "{}",
         "name": "L_SF_Teams",
         "type": "\"string\""
        },
        {
         "metadata": "{}",
         "name": "L_SF_Score",
         "type": "\"string\""
        }
       ],
       "type": "table"
      }
     },
     "output_type": "display_data"
    }
   ],
   "source": [
    "sf_row_pd = pd.DataFrame({col: [''] for col in sf_vis.columns})\n",
    "left_sf_grouped = [left_sf.iloc[i:i+1] for i in range(0, len(left_sf), 1)]\n",
    "\n",
    "for i in range(len(left_sf_grouped)):\n",
    "    if i < len(left_sf_grouped):\n",
    "        left_sf_grouped[i] = pd.concat([left_sf_grouped[i], sf_row_pd, sf_row_pd], ignore_index=True)\n",
    "\n",
    "left_sf_spaced = pd.concat(left_sf_grouped).reset_index(drop=True)\n",
    "\n",
    "for _ in range(6):\n",
    "    left_sf_spaced = pd.concat([sf_row_pd, left_sf_spaced], ignore_index=True)\n",
    "\n",
    "for _ in range(4):\n",
    "    left_sf_spaced = pd.concat([left_sf_spaced, sf_row_pd], ignore_index=True)\n",
    "\n",
    "lsf_new_column_name ={'SF_Teams': 'L_SF_Teams',\n",
    "                       'SF_Score': 'L_SF_Score'\n",
    "                       }\n",
    "\n",
    "left_sf_spaced = left_sf_spaced.rename(columns=lsf_new_column_name)\n",
    "\n",
    "display(left_sf_spaced)"
   ]
  },
  {
   "cell_type": "code",
   "execution_count": 0,
   "metadata": {
    "application/vnd.databricks.v1+cell": {
     "cellMetadata": {
      "byteLimit": 2048000,
      "rowLimit": 10000
     },
     "inputWidgets": {},
     "nuid": "3917767d-8202-4213-ad38-762dda0d41ab",
     "showTitle": false,
     "title": ""
    }
   },
   "outputs": [
    {
     "output_type": "display_data",
     "data": {
      "text/html": [
       "<style scoped>\n",
       "  .table-result-container {\n",
       "    max-height: 300px;\n",
       "    overflow: auto;\n",
       "  }\n",
       "  table, th, td {\n",
       "    border: 1px solid black;\n",
       "    border-collapse: collapse;\n",
       "  }\n",
       "  th, td {\n",
       "    padding: 5px;\n",
       "  }\n",
       "  th {\n",
       "    text-align: left;\n",
       "  }\n",
       "</style><div class='table-result-container'><table class='table-result'><thead style='background-color: white'><tr><th>R_SF_Score</th><th>R_SF_Teams</th></tr></thead><tbody><tr><td></td><td></td></tr><tr><td></td><td></td></tr><tr><td></td><td></td></tr><tr><td></td><td></td></tr><tr><td></td><td></td></tr><tr><td></td><td></td></tr><tr><td>2</td><td>England</td></tr><tr><td></td><td></td></tr><tr><td></td><td></td></tr><tr><td>6</td><td>Belgium</td></tr><tr><td></td><td></td></tr><tr><td></td><td></td></tr><tr><td></td><td></td></tr><tr><td></td><td></td></tr><tr><td></td><td></td></tr><tr><td></td><td></td></tr></tbody></table></div>"
      ]
     },
     "metadata": {
      "application/vnd.databricks.v1+output": {
       "addedWidgets": {},
       "aggData": [],
       "aggError": "",
       "aggOverflow": false,
       "aggSchema": [],
       "aggSeriesLimitReached": false,
       "aggType": "",
       "arguments": {},
       "columnCustomDisplayInfos": {},
       "data": [
        [
         "",
         ""
        ],
        [
         "",
         ""
        ],
        [
         "",
         ""
        ],
        [
         "",
         ""
        ],
        [
         "",
         ""
        ],
        [
         "",
         ""
        ],
        [
         "2",
         "England"
        ],
        [
         "",
         ""
        ],
        [
         "",
         ""
        ],
        [
         "6",
         "Belgium"
        ],
        [
         "",
         ""
        ],
        [
         "",
         ""
        ],
        [
         "",
         ""
        ],
        [
         "",
         ""
        ],
        [
         "",
         ""
        ],
        [
         "",
         ""
        ]
       ],
       "datasetInfos": [],
       "dbfsResultPath": null,
       "isJsonSchema": true,
       "metadata": {},
       "overflow": false,
       "plotOptions": {
        "customPlotOptions": {},
        "displayType": "table",
        "pivotAggregation": null,
        "pivotColumns": null,
        "xColumns": null,
        "yColumns": null
       },
       "removedWidgets": [],
       "schema": [
        {
         "metadata": "{}",
         "name": "R_SF_Score",
         "type": "\"string\""
        },
        {
         "metadata": "{}",
         "name": "R_SF_Teams",
         "type": "\"string\""
        }
       ],
       "type": "table"
      }
     },
     "output_type": "display_data"
    }
   ],
   "source": [
    "right_sf_grouped = [right_sf.iloc[i:i+1] for i in range(0, len(right_sf), 1)]\n",
    "\n",
    "for i in range(len(right_sf_grouped)):\n",
    "    if i < len(right_sf_grouped):\n",
    "        right_sf_grouped[i] = pd.concat([right_sf_grouped[i], sf_row_pd, sf_row_pd], ignore_index=True)\n",
    "\n",
    "right_sf_spaced = pd.concat(right_sf_grouped).reset_index(drop=True)\n",
    "\n",
    "for _ in range(6):\n",
    "    right_sf_spaced = pd.concat([sf_row_pd, right_sf_spaced], ignore_index=True)\n",
    "\n",
    "for _ in range(4):\n",
    "    right_sf_spaced = pd.concat([right_sf_spaced, sf_row_pd], ignore_index=True)\n",
    "\n",
    "rsf_new_column_name ={'SF_Teams': 'R_SF_Teams',\n",
    "                       'SF_Score': 'R_SF_Score'\n",
    "                       }\n",
    "\n",
    "right_sf_spaced = right_sf_spaced.rename(columns=rsf_new_column_name)\n",
    "\n",
    "rsf_new_column_order = ['R_SF_Score', 'R_SF_Teams']\n",
    "right_sf_spaced = right_sf_spaced[rsf_new_column_order]\n",
    "\n",
    "display(right_sf_spaced)"
   ]
  },
  {
   "cell_type": "code",
   "execution_count": 0,
   "metadata": {
    "application/vnd.databricks.v1+cell": {
     "cellMetadata": {
      "byteLimit": 2048000,
      "rowLimit": 10000
     },
     "inputWidgets": {},
     "nuid": "05b36396-9600-47ee-89c8-0ad47d9a9ad4",
     "showTitle": false,
     "title": ""
    }
   },
   "outputs": [
    {
     "output_type": "display_data",
     "data": {
      "text/html": [
       "<style scoped>\n",
       "  .table-result-container {\n",
       "    max-height: 300px;\n",
       "    overflow: auto;\n",
       "  }\n",
       "  table, th, td {\n",
       "    border: 1px solid black;\n",
       "    border-collapse: collapse;\n",
       "  }\n",
       "  th, td {\n",
       "    padding: 5px;\n",
       "  }\n",
       "  th {\n",
       "    text-align: left;\n",
       "  }\n",
       "</style><div class='table-result-container'><table class='table-result'><thead style='background-color: white'><tr><th>MatchID</th><th>Team1</th><th>Team1Goals</th><th>Team2Goals</th><th>Team2</th><th>MatchWinner</th><th>MatchStage</th></tr></thead><tbody><tr><td>15</td><td>Germany</td><td>2</td><td>6</td><td>Belgium</td><td>Belgium</td><td>Final</td></tr></tbody></table></div>"
      ]
     },
     "metadata": {
      "application/vnd.databricks.v1+output": {
       "addedWidgets": {},
       "aggData": [],
       "aggError": "",
       "aggOverflow": false,
       "aggSchema": [],
       "aggSeriesLimitReached": false,
       "aggType": "",
       "arguments": {},
       "columnCustomDisplayInfos": {},
       "data": [
        [
         "15",
         "Germany",
         "2",
         "6",
         "Belgium",
         "Belgium",
         "Final"
        ]
       ],
       "datasetInfos": [],
       "dbfsResultPath": null,
       "isJsonSchema": true,
       "metadata": {},
       "overflow": false,
       "plotOptions": {
        "customPlotOptions": {},
        "displayType": "table",
        "pivotAggregation": null,
        "pivotColumns": null,
        "xColumns": null,
        "yColumns": null
       },
       "removedWidgets": [],
       "schema": [
        {
         "metadata": "{}",
         "name": "MatchID",
         "type": "\"string\""
        },
        {
         "metadata": "{}",
         "name": "Team1",
         "type": "\"string\""
        },
        {
         "metadata": "{}",
         "name": "Team1Goals",
         "type": "\"string\""
        },
        {
         "metadata": "{}",
         "name": "Team2Goals",
         "type": "\"string\""
        },
        {
         "metadata": "{}",
         "name": "Team2",
         "type": "\"string\""
        },
        {
         "metadata": "{}",
         "name": "MatchWinner",
         "type": "\"string\""
        },
        {
         "metadata": "{}",
         "name": "MatchStage",
         "type": "\"string\""
        }
       ],
       "type": "table"
      }
     },
     "output_type": "display_data"
    }
   ],
   "source": [
    "\n",
    "fin = spark.sql(\"SELECT * FROM EliminationMatches WHERE MatchStage = 'Final'\")\n",
    "fin_pd = fin.toPandas()\n",
    "fin_pd = fin_pd.applymap(lambda x: str(x).split(\".\")[0])\n",
    "\n",
    "\n",
    "display(fin_pd)"
   ]
  },
  {
   "cell_type": "code",
   "execution_count": 0,
   "metadata": {
    "application/vnd.databricks.v1+cell": {
     "cellMetadata": {
      "byteLimit": 2048000,
      "rowLimit": 10000
     },
     "inputWidgets": {},
     "nuid": "547f6d73-419b-48a5-952e-4fc438b777c9",
     "showTitle": false,
     "title": ""
    }
   },
   "outputs": [
    {
     "output_type": "display_data",
     "data": {
      "text/html": [
       "<style scoped>\n",
       "  .table-result-container {\n",
       "    max-height: 300px;\n",
       "    overflow: auto;\n",
       "  }\n",
       "  table, th, td {\n",
       "    border: 1px solid black;\n",
       "    border-collapse: collapse;\n",
       "  }\n",
       "  th, td {\n",
       "    padding: 5px;\n",
       "  }\n",
       "  th {\n",
       "    text-align: left;\n",
       "  }\n",
       "</style><div class='table-result-container'><table class='table-result'><thead style='background-color: white'><tr><th>Fin_Teams</th><th>Fin_Score</th></tr></thead><tbody><tr><td>Germany</td><td>2</td></tr><tr><td>Belgium</td><td>6</td></tr></tbody></table></div>"
      ]
     },
     "metadata": {
      "application/vnd.databricks.v1+output": {
       "addedWidgets": {},
       "aggData": [],
       "aggError": "",
       "aggOverflow": false,
       "aggSchema": [],
       "aggSeriesLimitReached": false,
       "aggType": "",
       "arguments": {},
       "columnCustomDisplayInfos": {},
       "data": [
        [
         "Germany",
         "2"
        ],
        [
         "Belgium",
         "6"
        ]
       ],
       "datasetInfos": [],
       "dbfsResultPath": null,
       "isJsonSchema": true,
       "metadata": {},
       "overflow": false,
       "plotOptions": {
        "customPlotOptions": {},
        "displayType": "table",
        "pivotAggregation": null,
        "pivotColumns": null,
        "xColumns": null,
        "yColumns": null
       },
       "removedWidgets": [],
       "schema": [
        {
         "metadata": "{}",
         "name": "Fin_Teams",
         "type": "\"string\""
        },
        {
         "metadata": "{}",
         "name": "Fin_Score",
         "type": "\"string\""
        }
       ],
       "type": "table"
      }
     },
     "output_type": "display_data"
    }
   ],
   "source": [
    "#storing required data in df\n",
    "fin_vis = pd.DataFrame(columns=['Fin_Teams', 'Fin_Score'])\n",
    "\n",
    "#displaying all teams and respective scores in columns\n",
    "for index, row in fin_pd.iterrows():\n",
    "    team1 = row['Team1']\n",
    "    team1goals = row['Team1Goals']\n",
    "    team2 = row['Team2']\n",
    "    team2goals = row['Team2Goals']\n",
    "    fin_vis = pd.concat([fin_vis, pd.DataFrame({'Fin_Teams': [team1], 'Fin_Score': [team1goals]})], ignore_index=True)\n",
    "    fin_vis = pd.concat([fin_vis, pd.DataFrame({'Fin_Teams': [team2], 'Fin_Score': [team2goals]})], ignore_index=True)\n",
    "\n",
    "display(fin_vis)\n",
    "     "
   ]
  },
  {
   "cell_type": "code",
   "execution_count": 0,
   "metadata": {
    "application/vnd.databricks.v1+cell": {
     "cellMetadata": {
      "byteLimit": 2048000,
      "rowLimit": 10000
     },
     "inputWidgets": {},
     "nuid": "7d634892-2fb2-4f6e-98c5-83753a75d94f",
     "showTitle": false,
     "title": ""
    }
   },
   "outputs": [
    {
     "output_type": "display_data",
     "data": {
      "text/html": [
       "<style scoped>\n",
       "  .table-result-container {\n",
       "    max-height: 300px;\n",
       "    overflow: auto;\n",
       "  }\n",
       "  table, th, td {\n",
       "    border: 1px solid black;\n",
       "    border-collapse: collapse;\n",
       "  }\n",
       "  th, td {\n",
       "    padding: 5px;\n",
       "  }\n",
       "  th {\n",
       "    text-align: left;\n",
       "  }\n",
       "</style><div class='table-result-container'><table class='table-result'><thead style='background-color: white'><tr><th>L_Fin_Teams</th><th>L_Fin_Score</th></tr></thead><tbody><tr><td></td><td></td></tr><tr><td></td><td></td></tr><tr><td></td><td></td></tr><tr><td></td><td></td></tr><tr><td></td><td></td></tr><tr><td></td><td></td></tr><tr><td></td><td></td></tr><tr><td></td><td></td></tr><tr><td>Germany</td><td>2</td></tr><tr><td></td><td></td></tr><tr><td></td><td></td></tr><tr><td></td><td></td></tr><tr><td></td><td></td></tr><tr><td></td><td></td></tr><tr><td></td><td></td></tr><tr><td></td><td></td></tr></tbody></table></div>"
      ]
     },
     "metadata": {
      "application/vnd.databricks.v1+output": {
       "addedWidgets": {},
       "aggData": [],
       "aggError": "",
       "aggOverflow": false,
       "aggSchema": [],
       "aggSeriesLimitReached": false,
       "aggType": "",
       "arguments": {},
       "columnCustomDisplayInfos": {},
       "data": [
        [
         "",
         ""
        ],
        [
         "",
         ""
        ],
        [
         "",
         ""
        ],
        [
         "",
         ""
        ],
        [
         "",
         ""
        ],
        [
         "",
         ""
        ],
        [
         "",
         ""
        ],
        [
         "",
         ""
        ],
        [
         "Germany",
         "2"
        ],
        [
         "",
         ""
        ],
        [
         "",
         ""
        ],
        [
         "",
         ""
        ],
        [
         "",
         ""
        ],
        [
         "",
         ""
        ],
        [
         "",
         ""
        ],
        [
         "",
         ""
        ]
       ],
       "datasetInfos": [],
       "dbfsResultPath": null,
       "isJsonSchema": true,
       "metadata": {},
       "overflow": false,
       "plotOptions": {
        "customPlotOptions": {},
        "displayType": "table",
        "pivotAggregation": null,
        "pivotColumns": null,
        "xColumns": null,
        "yColumns": null
       },
       "removedWidgets": [],
       "schema": [
        {
         "metadata": "{}",
         "name": "L_Fin_Teams",
         "type": "\"string\""
        },
        {
         "metadata": "{}",
         "name": "L_Fin_Score",
         "type": "\"string\""
        }
       ],
       "type": "table"
      }
     },
     "output_type": "display_data"
    },
    {
     "output_type": "display_data",
     "data": {
      "text/html": [
       "<style scoped>\n",
       "  .table-result-container {\n",
       "    max-height: 300px;\n",
       "    overflow: auto;\n",
       "  }\n",
       "  table, th, td {\n",
       "    border: 1px solid black;\n",
       "    border-collapse: collapse;\n",
       "  }\n",
       "  th, td {\n",
       "    padding: 5px;\n",
       "  }\n",
       "  th {\n",
       "    text-align: left;\n",
       "  }\n",
       "</style><div class='table-result-container'><table class='table-result'><thead style='background-color: white'><tr><th>R_Fin_Score</th><th>R_Fin_Teams</th></tr></thead><tbody><tr><td></td><td></td></tr><tr><td></td><td></td></tr><tr><td></td><td></td></tr><tr><td></td><td></td></tr><tr><td></td><td></td></tr><tr><td></td><td></td></tr><tr><td></td><td></td></tr><tr><td></td><td></td></tr><tr><td>6</td><td>Belgium</td></tr><tr><td></td><td></td></tr><tr><td></td><td></td></tr><tr><td></td><td></td></tr><tr><td></td><td></td></tr><tr><td></td><td></td></tr><tr><td></td><td></td></tr><tr><td></td><td></td></tr></tbody></table></div>"
      ]
     },
     "metadata": {
      "application/vnd.databricks.v1+output": {
       "addedWidgets": {},
       "aggData": [],
       "aggError": "",
       "aggOverflow": false,
       "aggSchema": [],
       "aggSeriesLimitReached": false,
       "aggType": "",
       "arguments": {},
       "columnCustomDisplayInfos": {},
       "data": [
        [
         "",
         ""
        ],
        [
         "",
         ""
        ],
        [
         "",
         ""
        ],
        [
         "",
         ""
        ],
        [
         "",
         ""
        ],
        [
         "",
         ""
        ],
        [
         "",
         ""
        ],
        [
         "",
         ""
        ],
        [
         "6",
         "Belgium"
        ],
        [
         "",
         ""
        ],
        [
         "",
         ""
        ],
        [
         "",
         ""
        ],
        [
         "",
         ""
        ],
        [
         "",
         ""
        ],
        [
         "",
         ""
        ],
        [
         "",
         ""
        ]
       ],
       "datasetInfos": [],
       "dbfsResultPath": null,
       "isJsonSchema": true,
       "metadata": {},
       "overflow": false,
       "plotOptions": {
        "customPlotOptions": {},
        "displayType": "table",
        "pivotAggregation": null,
        "pivotColumns": null,
        "xColumns": null,
        "yColumns": null
       },
       "removedWidgets": [],
       "schema": [
        {
         "metadata": "{}",
         "name": "R_Fin_Score",
         "type": "\"string\""
        },
        {
         "metadata": "{}",
         "name": "R_Fin_Teams",
         "type": "\"string\""
        }
       ],
       "type": "table"
      }
     },
     "output_type": "display_data"
    }
   ],
   "source": [
    "fin_row_pd = pd.DataFrame({col: [''] for col in fin_vis.columns})\n",
    "fin1 = fin_vis.iloc[:1]  # First value\n",
    "fin2 = fin_vis.iloc[1:]  # Second value\n",
    "\n",
    "for _ in range(8):\n",
    "    fin1 = pd.concat([fin_row_pd, fin1], ignore_index=True)\n",
    "    fin2 = pd.concat([fin_row_pd, fin2], ignore_index=True)\n",
    "\n",
    "for _ in range(7):\n",
    "    fin1 = pd.concat([fin1, fin_row_pd], ignore_index=True)\n",
    "    fin2 = pd.concat([fin2, fin_row_pd], ignore_index=True)\n",
    "\n",
    "lfin_new_column_name ={'Fin_Teams': 'L_Fin_Teams',\n",
    "                       'Fin_Score': 'L_Fin_Score'\n",
    "                       }\n",
    "rfin_new_column_name ={'Fin_Teams': 'R_Fin_Teams',\n",
    "                       'Fin_Score': 'R_Fin_Score'\n",
    "                       }\n",
    "\n",
    "fin1 = fin1.rename(columns=lfin_new_column_name)\n",
    "fin2 = fin2.rename(columns=rfin_new_column_name)\n",
    "\n",
    "rfin_new_column_order = ['R_Fin_Score', 'R_Fin_Teams']\n",
    "fin2 = fin2[rfin_new_column_order]\n",
    "\n",
    "display(fin1)\n",
    "display(fin2)\n",
    "     "
   ]
  },
  {
   "cell_type": "code",
   "execution_count": 0,
   "metadata": {
    "application/vnd.databricks.v1+cell": {
     "cellMetadata": {
      "byteLimit": 2048000,
      "rowLimit": 10000
     },
     "inputWidgets": {},
     "nuid": "9bfefc2a-0d42-43b6-9fb3-6358007f3340",
     "showTitle": false,
     "title": ""
    }
   },
   "outputs": [
    {
     "output_type": "display_data",
     "data": {
      "text/html": [
       "<style scoped>\n",
       "  .table-result-container {\n",
       "    max-height: 300px;\n",
       "    overflow: auto;\n",
       "  }\n",
       "  table, th, td {\n",
       "    border: 1px solid black;\n",
       "    border-collapse: collapse;\n",
       "  }\n",
       "  th, td {\n",
       "    padding: 5px;\n",
       "  }\n",
       "  th {\n",
       "    text-align: left;\n",
       "  }\n",
       "</style><div class='table-result-container'><table class='table-result'><thead style='background-color: white'><tr><th>TournamentWinner</th></tr></thead><tbody><tr><td></td></tr><tr><td></td></tr><tr><td></td></tr><tr><td></td></tr><tr><td></td></tr><tr><td></td></tr><tr><td></td></tr><tr><td>Belgium</td></tr><tr><td></td></tr><tr><td></td></tr><tr><td></td></tr><tr><td></td></tr><tr><td></td></tr><tr><td></td></tr><tr><td></td></tr><tr><td></td></tr></tbody></table></div>"
      ]
     },
     "metadata": {
      "application/vnd.databricks.v1+output": {
       "addedWidgets": {},
       "aggData": [],
       "aggError": "",
       "aggOverflow": false,
       "aggSchema": [],
       "aggSeriesLimitReached": false,
       "aggType": "",
       "arguments": {},
       "columnCustomDisplayInfos": {},
       "data": [
        [
         ""
        ],
        [
         ""
        ],
        [
         ""
        ],
        [
         ""
        ],
        [
         ""
        ],
        [
         ""
        ],
        [
         ""
        ],
        [
         "Belgium"
        ],
        [
         ""
        ],
        [
         ""
        ],
        [
         ""
        ],
        [
         ""
        ],
        [
         ""
        ],
        [
         ""
        ],
        [
         ""
        ],
        [
         ""
        ]
       ],
       "datasetInfos": [],
       "dbfsResultPath": null,
       "isJsonSchema": true,
       "metadata": {},
       "overflow": false,
       "plotOptions": {
        "customPlotOptions": {},
        "displayType": "table",
        "pivotAggregation": null,
        "pivotColumns": null,
        "xColumns": null,
        "yColumns": null
       },
       "removedWidgets": [],
       "schema": [
        {
         "metadata": "{}",
         "name": "TournamentWinner",
         "type": "\"string\""
        }
       ],
       "type": "table"
      }
     },
     "output_type": "display_data"
    }
   ],
   "source": [
    "winner = spark.sql(\"SELECT MatchWinner FROM EliminationMatches WHERE MatchStage = 'Final'\")\n",
    "winner_pd = winner.toPandas()\n",
    "winner_pd = winner_pd.applymap(lambda x: str(x).split(\".\")[0])\n",
    "\n",
    "win_row_pd = pd.DataFrame({col: [''] for col in winner_pd.columns})\n",
    "\n",
    "for _ in range(7):\n",
    "    winner_pd = pd.concat([win_row_pd, winner_pd], ignore_index=True)\n",
    "\n",
    "for _ in range(8):\n",
    "    winner_pd = pd.concat([winner_pd, win_row_pd], ignore_index=True)\n",
    "\n",
    "fin_col = {\"MatchWinner\":\"TournamentWinner\"}\n",
    "winner_pd = winner_pd.rename(columns = fin_col)\n",
    "display(winner_pd)"
   ]
  },
  {
   "cell_type": "code",
   "execution_count": 0,
   "metadata": {
    "application/vnd.databricks.v1+cell": {
     "cellMetadata": {
      "byteLimit": 2048000,
      "rowLimit": 10000
     },
     "inputWidgets": {},
     "nuid": "9b196f8d-0df7-459c-8723-67a04c4cba37",
     "showTitle": false,
     "title": ""
    }
   },
   "outputs": [
    {
     "output_type": "stream",
     "name": "stderr",
     "output_type": "stream",
     "text": [
      "/databricks/spark/python/pyspark/sql/pandas/conversion.py:467: UserWarning: createDataFrame attempted Arrow optimization because 'spark.sql.execution.arrow.pyspark.enabled' is set to true; however, failed by the reason below:\n  Expected bytes, got a 'int' object\nAttempting non-optimization as 'spark.sql.execution.arrow.pyspark.fallback.enabled' is set to true.\n  warn(msg)\n"
     ]
    },
    {
     "output_type": "display_data",
     "data": {
      "text/html": [
       "<style scoped>\n",
       "  .table-result-container {\n",
       "    max-height: 300px;\n",
       "    overflow: auto;\n",
       "  }\n",
       "  table, th, td {\n",
       "    border: 1px solid black;\n",
       "    border-collapse: collapse;\n",
       "  }\n",
       "  th, td {\n",
       "    padding: 5px;\n",
       "  }\n",
       "  th {\n",
       "    text-align: left;\n",
       "  }\n",
       "</style><div class='table-result-container'><table class='table-result'><thead style='background-color: white'><tr><th>L_Group</th><th>L_TeamRank</th><th>L_Country</th><th>L_P</th><th>L_W</th><th>L-D</th><th>L_L</th><th>L_GS</th><th>L_GC</th><th>L_GD</th><th>L_Pts</th><th>L_R16_Teams</th><th>L_R16_Score</th><th>L_QF_Teams</th><th>L_QF_Score</th><th>L_SF_Teams</th><th>L_SF_Score</th><th>L_Fin_Teams</th><th>L_Fin_Score</th><th>TournamentWinner</th><th>R_Fin_Score</th><th>R_Fin_Teams</th><th>R_SF_Score</th><th>R_SF_Teams</th><th>R_QF_Score</th><th>R_QF_Teams</th><th>R_R16_Score</th><th>R_R16_Teams</th><th>R_Group</th><th>R_TeamRank</th><th>R_Country</th><th>R_P</th><th>R_W</th><th>R-D</th><th>R_L</th><th>R_GS</th><th>R_GC</th><th>R_GD</th><th>R_Pts</th></tr></thead><tbody><tr><td>A</td><td>1</td><td>France</td><td>3</td><td>2</td><td>1</td><td>0</td><td>12</td><td>8</td><td>4</td><td>7</td><td></td><td></td><td></td><td></td><td></td><td></td><td></td><td></td><td></td><td></td><td></td><td></td><td></td><td></td><td></td><td></td><td></td><td>D</td><td>1</td><td>Sweden</td><td>3</td><td>2</td><td>1</td><td>0</td><td>10</td><td>4</td><td>6</td><td>7</td></tr><tr><td>A</td><td>2</td><td>Spain</td><td>3</td><td>2</td><td>0</td><td>1</td><td>10</td><td>10</td><td>0</td><td>6</td><td>Portugal</td><td>2</td><td></td><td></td><td></td><td></td><td></td><td></td><td></td><td></td><td></td><td></td><td></td><td></td><td></td><td>1</td><td>Czech Republic</td><td>D</td><td>2</td><td>Russia</td><td>3</td><td>1</td><td>1</td><td>1</td><td>5</td><td>5</td><td>0</td><td>4</td></tr><tr><td>A</td><td>3</td><td>Germany</td><td>3</td><td>1</td><td>1</td><td>1</td><td>8</td><td>7</td><td>1</td><td>4</td><td>Germany</td><td>5</td><td></td><td></td><td></td><td></td><td></td><td></td><td></td><td></td><td></td><td></td><td></td><td></td><td></td><td>2</td><td>England</td><td>D</td><td>3</td><td>Austria</td><td>3</td><td>1</td><td>0</td><td>2</td><td>4</td><td>6</td><td>-2</td><td>3</td></tr><tr><td>A</td><td>4</td><td>Italy</td><td>3</td><td>0</td><td>0</td><td>3</td><td>6</td><td>11</td><td>-5</td><td>0</td><td></td><td></td><td></td><td></td><td></td><td></td><td></td><td></td><td></td><td></td><td></td><td></td><td></td><td></td><td></td><td></td><td></td><td>D</td><td>4</td><td>Denmark</td><td>3</td><td>1</td><td>0</td><td>2</td><td>4</td><td>8</td><td>-4</td><td>3</td></tr><tr><td></td><td></td><td></td><td></td><td></td><td></td><td></td><td></td><td></td><td></td><td></td><td></td><td></td><td>Germany</td><td>6</td><td></td><td></td><td></td><td></td><td></td><td></td><td></td><td></td><td></td><td>5</td><td>England</td><td></td><td></td><td></td><td></td><td></td><td></td><td></td><td></td><td></td><td></td><td></td><td></td><td></td></tr><tr><td></td><td></td><td></td><td></td><td></td><td></td><td></td><td></td><td></td><td></td><td></td><td>France</td><td>3</td><td>Turkey</td><td>6</td><td></td><td></td><td></td><td></td><td></td><td></td><td></td><td></td><td></td><td>1</td><td>Finland</td><td>5</td><td>Sweden</td><td></td><td></td><td></td><td></td><td></td><td></td><td></td><td></td><td></td><td></td><td></td></tr><tr><td>B</td><td>1</td><td>Portugal</td><td>3</td><td>2</td><td>1</td><td>0</td><td>12</td><td>7</td><td>5</td><td>7</td><td>Turkey</td><td>5</td><td></td><td></td><td>Germany</td><td>3</td><td></td><td></td><td></td><td></td><td></td><td>2</td><td>England</td><td></td><td></td><td>5</td><td>Finland</td><td>E</td><td>1</td><td>Czech Republic</td><td>3</td><td>3</td><td>0</td><td>0</td><td>9</td><td>2</td><td>7</td><td>9</td></tr><tr><td>B</td><td>2</td><td>Belgium</td><td>3</td><td>2</td><td>0</td><td>1</td><td>11</td><td>8</td><td>3</td><td>6</td><td></td><td></td><td></td><td></td><td></td><td></td><td></td><td></td><td>Belgium</td><td></td><td></td><td></td><td></td><td></td><td></td><td></td><td></td><td>E</td><td>2</td><td>Wales</td><td>3</td><td>2</td><td>0</td><td>1</td><td>9</td><td>7</td><td>2</td><td>6</td></tr><tr><td>B</td><td>3</td><td>England</td><td>3</td><td>1</td><td>1</td><td>1</td><td>10</td><td>11</td><td>-1</td><td>4</td><td></td><td></td><td></td><td></td><td></td><td></td><td>Germany</td><td>2</td><td></td><td>6</td><td>Belgium</td><td></td><td></td><td></td><td></td><td></td><td></td><td>E</td><td>3</td><td>Ukraine</td><td>3</td><td>1</td><td>0</td><td>2</td><td>7</td><td>8</td><td>-1</td><td>3</td></tr><tr><td>B</td><td>4</td><td>Netherlands</td><td>3</td><td>0</td><td>0</td><td>3</td><td>4</td><td>11</td><td>-7</td><td>0</td><td>North Macedonia</td><td>2</td><td></td><td></td><td>North Macedonia</td><td>1</td><td></td><td></td><td></td><td></td><td></td><td>6</td><td>Belgium</td><td></td><td></td><td>0</td><td>Switzerland</td><td>E</td><td>4</td><td>Scotland</td><td>3</td><td>0</td><td>0</td><td>3</td><td>4</td><td>12</td><td>-8</td><td>0</td></tr><tr><td></td><td></td><td></td><td></td><td></td><td></td><td></td><td></td><td></td><td></td><td></td><td>Croatia</td><td>1</td><td>North Macedonia</td><td>3</td><td></td><td></td><td></td><td></td><td></td><td></td><td></td><td></td><td></td><td>2</td><td>Slovakia</td><td>3</td><td>Slovakia</td><td></td><td></td><td></td><td></td><td></td><td></td><td></td><td></td><td></td><td></td><td></td></tr><tr><td></td><td></td><td></td><td></td><td></td><td></td><td></td><td></td><td></td><td></td><td></td><td></td><td></td><td>Russia</td><td>1</td><td></td><td></td><td></td><td></td><td></td><td></td><td></td><td></td><td></td><td>3</td><td>Belgium</td><td></td><td></td><td></td><td></td><td></td><td></td><td></td><td></td><td></td><td></td><td></td><td></td><td></td></tr><tr><td>C</td><td>1</td><td>Switzerland</td><td>3</td><td>2</td><td>0</td><td>1</td><td>8</td><td>5</td><td>3</td><td>6</td><td></td><td></td><td></td><td></td><td></td><td></td><td></td><td></td><td></td><td></td><td></td><td></td><td></td><td></td><td></td><td></td><td></td><td>F</td><td>1</td><td>North Macedonia</td><td>3</td><td>2</td><td>1</td><td>0</td><td>6</td><td>2</td><td>4</td><td>7</td></tr><tr><td>C</td><td>2</td><td>Turkey</td><td>3</td><td>1</td><td>1</td><td>1</td><td>8</td><td>9</td><td>-1</td><td>4</td><td>Russia</td><td>2</td><td></td><td></td><td></td><td></td><td></td><td></td><td></td><td></td><td></td><td></td><td></td><td></td><td></td><td>1</td><td>Spain</td><td>F</td><td>2</td><td>Finland</td><td>3</td><td>2</td><td>1</td><td>0</td><td>10</td><td>7</td><td>3</td><td>7</td></tr><tr><td>C</td><td>3</td><td>Croatia</td><td>3</td><td>1</td><td>1</td><td>1</td><td>5</td><td>6</td><td>-1</td><td>4</td><td>Wales</td><td>1</td><td></td><td></td><td></td><td></td><td></td><td></td><td></td><td></td><td></td><td></td><td></td><td></td><td></td><td>4</td><td>Belgium</td><td>F</td><td>3</td><td>Slovakia</td><td>3</td><td>1</td><td>0</td><td>2</td><td>8</td><td>8</td><td>0</td><td>3</td></tr><tr><td>C</td><td>4</td><td>Poland</td><td>3</td><td>1</td><td>0</td><td>2</td><td>5</td><td>6</td><td>-1</td><td>3</td><td></td><td></td><td></td><td></td><td></td><td></td><td></td><td></td><td></td><td></td><td></td><td></td><td></td><td></td><td></td><td></td><td></td><td>F</td><td>4</td><td>Hungary</td><td>3</td><td>0</td><td>0</td><td>3</td><td>2</td><td>9</td><td>-7</td><td>0</td></tr></tbody></table></div>"
      ]
     },
     "metadata": {
      "application/vnd.databricks.v1+output": {
       "addedWidgets": {},
       "aggData": [],
       "aggError": "",
       "aggOverflow": false,
       "aggSchema": [],
       "aggSeriesLimitReached": false,
       "aggType": "",
       "arguments": {},
       "columnCustomDisplayInfos": {},
       "data": [
        [
         "A",
         "1",
         "France",
         "3",
         "2",
         "1",
         "0",
         "12",
         "8",
         "4",
         "7",
         "",
         "",
         "",
         "",
         "",
         "",
         "",
         "",
         "",
         "",
         "",
         "",
         "",
         "",
         "",
         "",
         "",
         "D",
         "1",
         "Sweden",
         "3",
         "2",
         "1",
         "0",
         "10",
         "4",
         "6",
         "7"
        ],
        [
         "A",
         "2",
         "Spain",
         "3",
         "2",
         "0",
         "1",
         "10",
         "10",
         "0",
         "6",
         "Portugal",
         "2",
         "",
         "",
         "",
         "",
         "",
         "",
         "",
         "",
         "",
         "",
         "",
         "",
         "",
         "1",
         "Czech Republic",
         "D",
         "2",
         "Russia",
         "3",
         "1",
         "1",
         "1",
         "5",
         "5",
         "0",
         "4"
        ],
        [
         "A",
         "3",
         "Germany",
         "3",
         "1",
         "1",
         "1",
         "8",
         "7",
         "1",
         "4",
         "Germany",
         "5",
         "",
         "",
         "",
         "",
         "",
         "",
         "",
         "",
         "",
         "",
         "",
         "",
         "",
         "2",
         "England",
         "D",
         "3",
         "Austria",
         "3",
         "1",
         "0",
         "2",
         "4",
         "6",
         "-2",
         "3"
        ],
        [
         "A",
         "4",
         "Italy",
         "3",
         "0",
         "0",
         "3",
         "6",
         "11",
         "-5",
         "0",
         "",
         "",
         "",
         "",
         "",
         "",
         "",
         "",
         "",
         "",
         "",
         "",
         "",
         "",
         "",
         "",
         "",
         "D",
         "4",
         "Denmark",
         "3",
         "1",
         "0",
         "2",
         "4",
         "8",
         "-4",
         "3"
        ],
        [
         "",
         "",
         "",
         "",
         "",
         "",
         "",
         "",
         "",
         "",
         "",
         "",
         "",
         "Germany",
         "6",
         "",
         "",
         "",
         "",
         "",
         "",
         "",
         "",
         "",
         "5",
         "England",
         "",
         "",
         "",
         "",
         "",
         "",
         "",
         "",
         "",
         "",
         "",
         "",
         ""
        ],
        [
         "",
         "",
         "",
         "",
         "",
         "",
         "",
         "",
         "",
         "",
         "",
         "France",
         "3",
         "Turkey",
         "6",
         "",
         "",
         "",
         "",
         "",
         "",
         "",
         "",
         "",
         "1",
         "Finland",
         "5",
         "Sweden",
         "",
         "",
         "",
         "",
         "",
         "",
         "",
         "",
         "",
         "",
         ""
        ],
        [
         "B",
         "1",
         "Portugal",
         "3",
         "2",
         "1",
         "0",
         "12",
         "7",
         "5",
         "7",
         "Turkey",
         "5",
         "",
         "",
         "Germany",
         "3",
         "",
         "",
         "",
         "",
         "",
         "2",
         "England",
         "",
         "",
         "5",
         "Finland",
         "E",
         "1",
         "Czech Republic",
         "3",
         "3",
         "0",
         "0",
         "9",
         "2",
         "7",
         "9"
        ],
        [
         "B",
         "2",
         "Belgium",
         "3",
         "2",
         "0",
         "1",
         "11",
         "8",
         "3",
         "6",
         "",
         "",
         "",
         "",
         "",
         "",
         "",
         "",
         "Belgium",
         "",
         "",
         "",
         "",
         "",
         "",
         "",
         "",
         "E",
         "2",
         "Wales",
         "3",
         "2",
         "0",
         "1",
         "9",
         "7",
         "2",
         "6"
        ],
        [
         "B",
         "3",
         "England",
         "3",
         "1",
         "1",
         "1",
         "10",
         "11",
         "-1",
         "4",
         "",
         "",
         "",
         "",
         "",
         "",
         "Germany",
         "2",
         "",
         "6",
         "Belgium",
         "",
         "",
         "",
         "",
         "",
         "",
         "E",
         "3",
         "Ukraine",
         "3",
         "1",
         "0",
         "2",
         "7",
         "8",
         "-1",
         "3"
        ],
        [
         "B",
         "4",
         "Netherlands",
         "3",
         "0",
         "0",
         "3",
         "4",
         "11",
         "-7",
         "0",
         "North Macedonia",
         "2",
         "",
         "",
         "North Macedonia",
         "1",
         "",
         "",
         "",
         "",
         "",
         "6",
         "Belgium",
         "",
         "",
         "0",
         "Switzerland",
         "E",
         "4",
         "Scotland",
         "3",
         "0",
         "0",
         "3",
         "4",
         "12",
         "-8",
         "0"
        ],
        [
         "",
         "",
         "",
         "",
         "",
         "",
         "",
         "",
         "",
         "",
         "",
         "Croatia",
         "1",
         "North Macedonia",
         "3",
         "",
         "",
         "",
         "",
         "",
         "",
         "",
         "",
         "",
         "2",
         "Slovakia",
         "3",
         "Slovakia",
         "",
         "",
         "",
         "",
         "",
         "",
         "",
         "",
         "",
         "",
         ""
        ],
        [
         "",
         "",
         "",
         "",
         "",
         "",
         "",
         "",
         "",
         "",
         "",
         "",
         "",
         "Russia",
         "1",
         "",
         "",
         "",
         "",
         "",
         "",
         "",
         "",
         "",
         "3",
         "Belgium",
         "",
         "",
         "",
         "",
         "",
         "",
         "",
         "",
         "",
         "",
         "",
         "",
         ""
        ],
        [
         "C",
         "1",
         "Switzerland",
         "3",
         "2",
         "0",
         "1",
         "8",
         "5",
         "3",
         "6",
         "",
         "",
         "",
         "",
         "",
         "",
         "",
         "",
         "",
         "",
         "",
         "",
         "",
         "",
         "",
         "",
         "",
         "F",
         "1",
         "North Macedonia",
         "3",
         "2",
         "1",
         "0",
         "6",
         "2",
         "4",
         "7"
        ],
        [
         "C",
         "2",
         "Turkey",
         "3",
         "1",
         "1",
         "1",
         "8",
         "9",
         "-1",
         "4",
         "Russia",
         "2",
         "",
         "",
         "",
         "",
         "",
         "",
         "",
         "",
         "",
         "",
         "",
         "",
         "",
         "1",
         "Spain",
         "F",
         "2",
         "Finland",
         "3",
         "2",
         "1",
         "0",
         "10",
         "7",
         "3",
         "7"
        ],
        [
         "C",
         "3",
         "Croatia",
         "3",
         "1",
         "1",
         "1",
         "5",
         "6",
         "-1",
         "4",
         "Wales",
         "1",
         "",
         "",
         "",
         "",
         "",
         "",
         "",
         "",
         "",
         "",
         "",
         "",
         "",
         "4",
         "Belgium",
         "F",
         "3",
         "Slovakia",
         "3",
         "1",
         "0",
         "2",
         "8",
         "8",
         "0",
         "3"
        ],
        [
         "C",
         "4",
         "Poland",
         "3",
         "1",
         "0",
         "2",
         "5",
         "6",
         "-1",
         "3",
         "",
         "",
         "",
         "",
         "",
         "",
         "",
         "",
         "",
         "",
         "",
         "",
         "",
         "",
         "",
         "",
         "",
         "F",
         "4",
         "Hungary",
         "3",
         "0",
         "0",
         "3",
         "2",
         "9",
         "-7",
         "0"
        ]
       ],
       "datasetInfos": [],
       "dbfsResultPath": null,
       "isJsonSchema": true,
       "metadata": {},
       "overflow": false,
       "plotOptions": {
        "customPlotOptions": {},
        "displayType": "table",
        "pivotAggregation": null,
        "pivotColumns": null,
        "xColumns": null,
        "yColumns": null
       },
       "removedWidgets": [],
       "schema": [
        {
         "metadata": "{}",
         "name": "L_Group",
         "type": "\"string\""
        },
        {
         "metadata": "{}",
         "name": "L_TeamRank",
         "type": "\"string\""
        },
        {
         "metadata": "{}",
         "name": "L_Country",
         "type": "\"string\""
        },
        {
         "metadata": "{}",
         "name": "L_P",
         "type": "\"string\""
        },
        {
         "metadata": "{}",
         "name": "L_W",
         "type": "\"string\""
        },
        {
         "metadata": "{}",
         "name": "L-D",
         "type": "\"string\""
        },
        {
         "metadata": "{}",
         "name": "L_L",
         "type": "\"string\""
        },
        {
         "metadata": "{}",
         "name": "L_GS",
         "type": "\"string\""
        },
        {
         "metadata": "{}",
         "name": "L_GC",
         "type": "\"string\""
        },
        {
         "metadata": "{}",
         "name": "L_GD",
         "type": "\"string\""
        },
        {
         "metadata": "{}",
         "name": "L_Pts",
         "type": "\"string\""
        },
        {
         "metadata": "{}",
         "name": "L_R16_Teams",
         "type": "\"string\""
        },
        {
         "metadata": "{}",
         "name": "L_R16_Score",
         "type": "\"string\""
        },
        {
         "metadata": "{}",
         "name": "L_QF_Teams",
         "type": "\"string\""
        },
        {
         "metadata": "{}",
         "name": "L_QF_Score",
         "type": "\"string\""
        },
        {
         "metadata": "{}",
         "name": "L_SF_Teams",
         "type": "\"string\""
        },
        {
         "metadata": "{}",
         "name": "L_SF_Score",
         "type": "\"string\""
        },
        {
         "metadata": "{}",
         "name": "L_Fin_Teams",
         "type": "\"string\""
        },
        {
         "metadata": "{}",
         "name": "L_Fin_Score",
         "type": "\"string\""
        },
        {
         "metadata": "{}",
         "name": "TournamentWinner",
         "type": "\"string\""
        },
        {
         "metadata": "{}",
         "name": "R_Fin_Score",
         "type": "\"string\""
        },
        {
         "metadata": "{}",
         "name": "R_Fin_Teams",
         "type": "\"string\""
        },
        {
         "metadata": "{}",
         "name": "R_SF_Score",
         "type": "\"string\""
        },
        {
         "metadata": "{}",
         "name": "R_SF_Teams",
         "type": "\"string\""
        },
        {
         "metadata": "{}",
         "name": "R_QF_Score",
         "type": "\"string\""
        },
        {
         "metadata": "{}",
         "name": "R_QF_Teams",
         "type": "\"string\""
        },
        {
         "metadata": "{}",
         "name": "R_R16_Score",
         "type": "\"string\""
        },
        {
         "metadata": "{}",
         "name": "R_R16_Teams",
         "type": "\"string\""
        },
        {
         "metadata": "{}",
         "name": "R_Group",
         "type": "\"string\""
        },
        {
         "metadata": "{}",
         "name": "R_TeamRank",
         "type": "\"string\""
        },
        {
         "metadata": "{}",
         "name": "R_Country",
         "type": "\"string\""
        },
        {
         "metadata": "{}",
         "name": "R_P",
         "type": "\"string\""
        },
        {
         "metadata": "{}",
         "name": "R_W",
         "type": "\"string\""
        },
        {
         "metadata": "{}",
         "name": "R-D",
         "type": "\"string\""
        },
        {
         "metadata": "{}",
         "name": "R_L",
         "type": "\"string\""
        },
        {
         "metadata": "{}",
         "name": "R_GS",
         "type": "\"string\""
        },
        {
         "metadata": "{}",
         "name": "R_GC",
         "type": "\"string\""
        },
        {
         "metadata": "{}",
         "name": "R_GD",
         "type": "\"string\""
        },
        {
         "metadata": "{}",
         "name": "R_Pts",
         "type": "\"string\""
        }
       ],
       "type": "table"
      }
     },
     "output_type": "display_data"
    }
   ],
   "source": [
    "\n",
    "# Concatenating DataFrames with keys\n",
    "knockout_df = pd.concat([left_gs_spaced,\n",
    "                        left_r16_spaced, \n",
    "                        left_qf_spaced, \n",
    "                        left_sf_spaced,\n",
    "                        fin1,\n",
    "                        winner_pd,\n",
    "                        fin2,\n",
    "                        right_sf_spaced,\n",
    "                        right_qf_spaced,\n",
    "                        right_r16_spaced,\n",
    "                        right_gs_spaced\n",
    "                         ], \n",
    "                        axis=1,\n",
    "                        # keys=['left_gs', 'left_r16', 'left_qf', 'left_sf', 'fin1', 'winner', 'fin2', 'right_sf', 'right_qf', 'right_r16', 'right_gs']\n",
    "                        )\n",
    "\n",
    "# Displaying the concatenated DataFrame\n",
    "display(knockout_df)"
   ]
  },
  {
   "cell_type": "code",
   "execution_count": 0,
   "metadata": {
    "application/vnd.databricks.v1+cell": {
     "cellMetadata": {
      "byteLimit": 2048000,
      "rowLimit": 10000
     },
     "inputWidgets": {},
     "nuid": "f5b43f0f-3459-475c-ac5e-652578eda42c",
     "showTitle": false,
     "title": ""
    }
   },
   "outputs": [],
   "source": []
  }
 ],
 "metadata": {
  "application/vnd.databricks.v1+notebook": {
   "dashboards": [],
   "language": "python",
   "notebookMetadata": {
    "mostRecentlyExecutedCommandWithImplicitDF": {
     "commandId": 2749334450342191,
     "dataframes": [
      "_sqldf"
     ]
    },
    "pythonIndentUnit": 4
   },
   "notebookName": "EuroCup 2",
   "widgets": {}
  }
 },
 "nbformat": 4,
 "nbformat_minor": 0
}
