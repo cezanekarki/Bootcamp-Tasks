{
 "cells": [
  {
   "cell_type": "markdown",
   "metadata": {
    "application/vnd.databricks.v1+cell": {
     "cellMetadata": {},
     "inputWidgets": {},
     "nuid": "14b262e4-88ef-41a0-86dc-71712750634d",
     "showTitle": false,
     "title": ""
    }
   },
   "source": [
    "1. Create a new notebook.\n",
    "- load both the csv and json files. union them properly\n",
    "- Instead of dropping the duplicates, create a boolean column is_duplicate and set False to only one and True to the rest of them\n",
    "\n",
    "2. Calculate mean salary and check if it is greater or equal to the salary of employees in each department.\n",
    " \n",
    "- Calculate mean salary and check if it is greater or equal to the salary of all employees."
   ]
  },
  {
   "cell_type": "code",
   "execution_count": null,
   "metadata": {
    "application/vnd.databricks.v1+cell": {
     "cellMetadata": {
      "byteLimit": 2048000,
      "rowLimit": 10000
     },
     "inputWidgets": {},
     "nuid": "d3e7f93d-a882-4b0a-aa82-2b867cddec4c",
     "showTitle": false,
     "title": ""
    }
   },
   "outputs": [
    {
     "data": {
      "text/html": [
       "<style scoped>\n",
       "  .table-result-container {\n",
       "    max-height: 300px;\n",
       "    overflow: auto;\n",
       "  }\n",
       "  table, th, td {\n",
       "    border: 1px solid black;\n",
       "    border-collapse: collapse;\n",
       "  }\n",
       "  th, td {\n",
       "    padding: 5px;\n",
       "  }\n",
       "  th {\n",
       "    text-align: left;\n",
       "  }\n",
       "</style><div class='table-result-container'><table class='table-result'><thead style='background-color: white'><tr><th>path</th><th>name</th><th>size</th><th>modificationTime</th></tr></thead><tbody><tr><td>dbfs:/FileStore/tables/Address-1.csv</td><td>Address-1.csv</td><td>200998</td><td>1707132850000</td></tr><tr><td>dbfs:/FileStore/tables/Address-1.xlsx</td><td>Address-1.xlsx</td><td>151315</td><td>1706168249000</td></tr><tr><td>dbfs:/FileStore/tables/Address-2.xlsx</td><td>Address-2.xlsx</td><td>151315</td><td>1706624186000</td></tr><tr><td>dbfs:/FileStore/tables/Address-3.xlsx</td><td>Address-3.xlsx</td><td>151315</td><td>1706634070000</td></tr><tr><td>dbfs:/FileStore/tables/Address.csv</td><td>Address.csv</td><td>200998</td><td>1706675793000</td></tr><tr><td>dbfs:/FileStore/tables/Address.xlsx</td><td>Address.xlsx</td><td>151315</td><td>1706104067000</td></tr><tr><td>dbfs:/FileStore/tables/Detail-1.csv</td><td>Detail-1.csv</td><td>208476</td><td>1706519263000</td></tr><tr><td>dbfs:/FileStore/tables/Detail-1.parquet/</td><td>Detail-1.parquet/</td><td>0</td><td>0</td></tr><tr><td>dbfs:/FileStore/tables/Detail-2.csv</td><td>Detail-2.csv</td><td>208476</td><td>1706519435000</td></tr><tr><td>dbfs:/FileStore/tables/Detail-3.csv</td><td>Detail-3.csv</td><td>208476</td><td>1706624185000</td></tr><tr><td>dbfs:/FileStore/tables/Detail-4.csv</td><td>Detail-4.csv</td><td>208476</td><td>1706634069000</td></tr><tr><td>dbfs:/FileStore/tables/Detail-5.csv</td><td>Detail-5.csv</td><td>208476</td><td>1706675794000</td></tr><tr><td>dbfs:/FileStore/tables/Detail-6.csv</td><td>Detail-6.csv</td><td>208476</td><td>1707132850000</td></tr><tr><td>dbfs:/FileStore/tables/Detail.csv</td><td>Detail.csv</td><td>208476</td><td>1706104067000</td></tr><tr><td>dbfs:/FileStore/tables/Project_1-1.xlsx</td><td>Project_1-1.xlsx</td><td>422501</td><td>1706622218000</td></tr><tr><td>dbfs:/FileStore/tables/Project_1-2.xlsx</td><td>Project_1-2.xlsx</td><td>422501</td><td>1706624207000</td></tr><tr><td>dbfs:/FileStore/tables/Project_1-3.xlsx</td><td>Project_1-3.xlsx</td><td>422501</td><td>1706634071000</td></tr><tr><td>dbfs:/FileStore/tables/Project_1-4.xlsx</td><td>Project_1-4.xlsx</td><td>422501</td><td>1706675795000</td></tr><tr><td>dbfs:/FileStore/tables/Project_1.xlsx</td><td>Project_1.xlsx</td><td>422501</td><td>1706526271000</td></tr><tr><td>dbfs:/FileStore/tables/batch.csv</td><td>batch.csv</td><td>151</td><td>1707460802000</td></tr><tr><td>dbfs:/FileStore/tables/contact.csv/</td><td>contact.csv/</td><td>0</td><td>0</td></tr><tr><td>dbfs:/FileStore/tables/contactI.csv/</td><td>contactI.csv/</td><td>0</td><td>0</td></tr><tr><td>dbfs:/FileStore/tables/contactInf.csv/</td><td>contactInf.csv/</td><td>0</td><td>0</td></tr><tr><td>dbfs:/FileStore/tables/contactInformation.csv/</td><td>contactInformation.csv/</td><td>0</td><td>0</td></tr><tr><td>dbfs:/FileStore/tables/contactInfos.csv/</td><td>contactInfos.csv/</td><td>0</td><td>0</td></tr><tr><td>dbfs:/FileStore/tables/contactfile.csv/</td><td>contactfile.csv/</td><td>0</td><td>0</td></tr><tr><td>dbfs:/FileStore/tables/contactinfo-1.txt</td><td>contactinfo-1.txt</td><td>49969</td><td>1706624185000</td></tr><tr><td>dbfs:/FileStore/tables/contactinfo-2.txt</td><td>contactinfo-2.txt</td><td>49969</td><td>1706634070000</td></tr><tr><td>dbfs:/FileStore/tables/contactinfo-3.txt</td><td>contactinfo-3.txt</td><td>49969</td><td>1706675794000</td></tr><tr><td>dbfs:/FileStore/tables/contactinfo-4.txt</td><td>contactinfo-4.txt</td><td>49969</td><td>1707132850000</td></tr><tr><td>dbfs:/FileStore/tables/contactinfo.csv/</td><td>contactinfo.csv/</td><td>0</td><td>0</td></tr><tr><td>dbfs:/FileStore/tables/contactinfo.txt</td><td>contactinfo.txt</td><td>49969</td><td>1706104067000</td></tr><tr><td>dbfs:/FileStore/tables/csv/</td><td>csv/</td><td>0</td><td>0</td></tr><tr><td>dbfs:/FileStore/tables/detailfile.parquet/</td><td>detailfile.parquet/</td><td>0</td><td>0</td></tr><tr><td>dbfs:/FileStore/tables/googlestore-1.xlsx</td><td>googlestore-1.xlsx</td><td>778250</td><td>1706519265000</td></tr><tr><td>dbfs:/FileStore/tables/googlestore-2.xlsx</td><td>googlestore-2.xlsx</td><td>778250</td><td>1706519436000</td></tr><tr><td>dbfs:/FileStore/tables/googlestore.xlsx</td><td>googlestore.xlsx</td><td>778250</td><td>1706462877000</td></tr><tr><td>dbfs:/FileStore/tables/header-1.json</td><td>header-1.json</td><td>115560</td><td>1706160445000</td></tr><tr><td>dbfs:/FileStore/tables/header-2.json</td><td>header-2.json</td><td>115560</td><td>1706624184000</td></tr><tr><td>dbfs:/FileStore/tables/header-3.json</td><td>header-3.json</td><td>115560</td><td>1706634069000</td></tr><tr><td>dbfs:/FileStore/tables/header-4.json</td><td>header-4.json</td><td>115560</td><td>1706675793000</td></tr><tr><td>dbfs:/FileStore/tables/header-5.json</td><td>header-5.json</td><td>115560</td><td>1707132850000</td></tr><tr><td>dbfs:/FileStore/tables/header.json</td><td>header.json</td><td>115560</td><td>1706104067000</td></tr><tr><td>dbfs:/FileStore/tables/parquet/</td><td>parquet/</td><td>0</td><td>0</td></tr></tbody></table></div>"
      ]
     },
     "metadata": {
      "application/vnd.databricks.v1+output": {
       "addedWidgets": {},
       "aggData": [],
       "aggError": "",
       "aggOverflow": false,
       "aggSchema": [],
       "aggSeriesLimitReached": false,
       "aggType": "",
       "arguments": {},
       "columnCustomDisplayInfos": {},
       "data": [
        [
         "dbfs:/FileStore/tables/Address-1.csv",
         "Address-1.csv",
         200998,
         1707132850000
        ],
        [
         "dbfs:/FileStore/tables/Address-1.xlsx",
         "Address-1.xlsx",
         151315,
         1706168249000
        ],
        [
         "dbfs:/FileStore/tables/Address-2.xlsx",
         "Address-2.xlsx",
         151315,
         1706624186000
        ],
        [
         "dbfs:/FileStore/tables/Address-3.xlsx",
         "Address-3.xlsx",
         151315,
         1706634070000
        ],
        [
         "dbfs:/FileStore/tables/Address.csv",
         "Address.csv",
         200998,
         1706675793000
        ],
        [
         "dbfs:/FileStore/tables/Address.xlsx",
         "Address.xlsx",
         151315,
         1706104067000
        ],
        [
         "dbfs:/FileStore/tables/Detail-1.csv",
         "Detail-1.csv",
         208476,
         1706519263000
        ],
        [
         "dbfs:/FileStore/tables/Detail-1.parquet/",
         "Detail-1.parquet/",
         0,
         0
        ],
        [
         "dbfs:/FileStore/tables/Detail-2.csv",
         "Detail-2.csv",
         208476,
         1706519435000
        ],
        [
         "dbfs:/FileStore/tables/Detail-3.csv",
         "Detail-3.csv",
         208476,
         1706624185000
        ],
        [
         "dbfs:/FileStore/tables/Detail-4.csv",
         "Detail-4.csv",
         208476,
         1706634069000
        ],
        [
         "dbfs:/FileStore/tables/Detail-5.csv",
         "Detail-5.csv",
         208476,
         1706675794000
        ],
        [
         "dbfs:/FileStore/tables/Detail-6.csv",
         "Detail-6.csv",
         208476,
         1707132850000
        ],
        [
         "dbfs:/FileStore/tables/Detail.csv",
         "Detail.csv",
         208476,
         1706104067000
        ],
        [
         "dbfs:/FileStore/tables/Project_1-1.xlsx",
         "Project_1-1.xlsx",
         422501,
         1706622218000
        ],
        [
         "dbfs:/FileStore/tables/Project_1-2.xlsx",
         "Project_1-2.xlsx",
         422501,
         1706624207000
        ],
        [
         "dbfs:/FileStore/tables/Project_1-3.xlsx",
         "Project_1-3.xlsx",
         422501,
         1706634071000
        ],
        [
         "dbfs:/FileStore/tables/Project_1-4.xlsx",
         "Project_1-4.xlsx",
         422501,
         1706675795000
        ],
        [
         "dbfs:/FileStore/tables/Project_1.xlsx",
         "Project_1.xlsx",
         422501,
         1706526271000
        ],
        [
         "dbfs:/FileStore/tables/batch.csv",
         "batch.csv",
         151,
         1707460802000
        ],
        [
         "dbfs:/FileStore/tables/contact.csv/",
         "contact.csv/",
         0,
         0
        ],
        [
         "dbfs:/FileStore/tables/contactI.csv/",
         "contactI.csv/",
         0,
         0
        ],
        [
         "dbfs:/FileStore/tables/contactInf.csv/",
         "contactInf.csv/",
         0,
         0
        ],
        [
         "dbfs:/FileStore/tables/contactInformation.csv/",
         "contactInformation.csv/",
         0,
         0
        ],
        [
         "dbfs:/FileStore/tables/contactInfos.csv/",
         "contactInfos.csv/",
         0,
         0
        ],
        [
         "dbfs:/FileStore/tables/contactfile.csv/",
         "contactfile.csv/",
         0,
         0
        ],
        [
         "dbfs:/FileStore/tables/contactinfo-1.txt",
         "contactinfo-1.txt",
         49969,
         1706624185000
        ],
        [
         "dbfs:/FileStore/tables/contactinfo-2.txt",
         "contactinfo-2.txt",
         49969,
         1706634070000
        ],
        [
         "dbfs:/FileStore/tables/contactinfo-3.txt",
         "contactinfo-3.txt",
         49969,
         1706675794000
        ],
        [
         "dbfs:/FileStore/tables/contactinfo-4.txt",
         "contactinfo-4.txt",
         49969,
         1707132850000
        ],
        [
         "dbfs:/FileStore/tables/contactinfo.csv/",
         "contactinfo.csv/",
         0,
         0
        ],
        [
         "dbfs:/FileStore/tables/contactinfo.txt",
         "contactinfo.txt",
         49969,
         1706104067000
        ],
        [
         "dbfs:/FileStore/tables/csv/",
         "csv/",
         0,
         0
        ],
        [
         "dbfs:/FileStore/tables/detailfile.parquet/",
         "detailfile.parquet/",
         0,
         0
        ],
        [
         "dbfs:/FileStore/tables/googlestore-1.xlsx",
         "googlestore-1.xlsx",
         778250,
         1706519265000
        ],
        [
         "dbfs:/FileStore/tables/googlestore-2.xlsx",
         "googlestore-2.xlsx",
         778250,
         1706519436000
        ],
        [
         "dbfs:/FileStore/tables/googlestore.xlsx",
         "googlestore.xlsx",
         778250,
         1706462877000
        ],
        [
         "dbfs:/FileStore/tables/header-1.json",
         "header-1.json",
         115560,
         1706160445000
        ],
        [
         "dbfs:/FileStore/tables/header-2.json",
         "header-2.json",
         115560,
         1706624184000
        ],
        [
         "dbfs:/FileStore/tables/header-3.json",
         "header-3.json",
         115560,
         1706634069000
        ],
        [
         "dbfs:/FileStore/tables/header-4.json",
         "header-4.json",
         115560,
         1706675793000
        ],
        [
         "dbfs:/FileStore/tables/header-5.json",
         "header-5.json",
         115560,
         1707132850000
        ],
        [
         "dbfs:/FileStore/tables/header.json",
         "header.json",
         115560,
         1706104067000
        ],
        [
         "dbfs:/FileStore/tables/parquet/",
         "parquet/",
         0,
         0
        ]
       ],
       "datasetInfos": [],
       "dbfsResultPath": null,
       "isJsonSchema": true,
       "metadata": {
        "isDbfsCommandResult": false
       },
       "overflow": false,
       "plotOptions": {
        "customPlotOptions": {},
        "displayType": "table",
        "pivotAggregation": null,
        "pivotColumns": null,
        "xColumns": null,
        "yColumns": null
       },
       "removedWidgets": [],
       "schema": [
        {
         "metadata": "{}",
         "name": "path",
         "type": "\"string\""
        },
        {
         "metadata": "{}",
         "name": "name",
         "type": "\"string\""
        },
        {
         "metadata": "{}",
         "name": "size",
         "type": "\"long\""
        },
        {
         "metadata": "{}",
         "name": "modificationTime",
         "type": "\"long\""
        }
       ],
       "type": "table"
      }
     },
     "output_type": "display_data"
    }
   ],
   "source": [
    "%fs ls dbfs:/FileStore/tables\n"
   ]
  },
  {
   "cell_type": "code",
   "execution_count": null,
   "metadata": {
    "application/vnd.databricks.v1+cell": {
     "cellMetadata": {},
     "inputWidgets": {},
     "nuid": "6a4a0342-f0bd-41db-bb5d-30bb8c9ea403",
     "showTitle": false,
     "title": ""
    }
   },
   "outputs": [],
   "source": [
    "# %fs\n",
    "# rm -r dbfs:/FileStore/tables/Detail-1.parquet\n",
    "# rm -r dbfs:/FileStore/tables/json"
   ]
  },
  {
   "cell_type": "markdown",
   "metadata": {
    "application/vnd.databricks.v1+cell": {
     "cellMetadata": {},
     "inputWidgets": {},
     "nuid": "e88527e2-93ea-4418-87e7-c5c9ba1b8983",
     "showTitle": false,
     "title": ""
    }
   },
   "source": [
    "CSV File"
   ]
  },
  {
   "cell_type": "code",
   "execution_count": null,
   "metadata": {
    "application/vnd.databricks.v1+cell": {
     "cellMetadata": {
      "byteLimit": 2048000,
      "rowLimit": 10000
     },
     "inputWidgets": {},
     "nuid": "2e85c691-1be0-4dae-b7a0-6a5434b449ec",
     "showTitle": false,
     "title": ""
    }
   },
   "outputs": [
    {
     "name": "stdout",
     "output_type": "stream",
     "text": [
      "+---+-----+----------+----+------+----------+\n",
      "| id| name|       dob| age|salary|department|\n",
      "+---+-----+----------+----+------+----------+\n",
      "|  1| John|1992-05-12|  30| 70000|        IT|\n",
      "|  2|Alice|1997-02-28|  25| 60000|        HR|\n",
      "|  3|  Bob|      null|null| 80000|        IT|\n",
      "|  4|Emily|1994-11-22|  28| 65000|   Finance|\n",
      "+---+-----+----------+----+------+----------+\n",
      "\n",
      "root\n",
      " |-- id: string (nullable = true)\n",
      " |-- name: string (nullable = true)\n",
      " |-- dob: string (nullable = true)\n",
      " |-- age: string (nullable = true)\n",
      " |-- salary: string (nullable = true)\n",
      " |-- department: string (nullable = true)\n",
      "\n",
      "Out[1]: [('id', 'string'),\n",
      " ('name', 'string'),\n",
      " ('dob', 'string'),\n",
      " ('age', 'string'),\n",
      " ('salary', 'string'),\n",
      " ('department', 'string')]"
     ]
    }
   ],
   "source": [
    "df_csv = spark.read. format (\"csv\").options(header=True).load (\"dbfs:/FileStore/tables/csv/batch.csv\")\n",
    "df_csv.show()\n",
    "df_csv.printSchema()\n",
    "df_csv.dtypes"
   ]
  },
  {
   "cell_type": "code",
   "execution_count": null,
   "metadata": {
    "application/vnd.databricks.v1+cell": {
     "cellMetadata": {
      "byteLimit": 2048000,
      "rowLimit": 10000
     },
     "inputWidgets": {},
     "nuid": "4fcf2791-5da8-47a5-ae88-09bf063ea41a",
     "showTitle": false,
     "title": ""
    }
   },
   "outputs": [],
   "source": [
    "from pyspark.sql.types import StructType, StructField, IntegerType, StringType, DateType"
   ]
  },
  {
   "cell_type": "code",
   "execution_count": null,
   "metadata": {
    "application/vnd.databricks.v1+cell": {
     "cellMetadata": {
      "byteLimit": 2048000,
      "rowLimit": 10000
     },
     "inputWidgets": {},
     "nuid": "5b964203-8d8e-4c35-bf53-9cc27c356081",
     "showTitle": false,
     "title": ""
    }
   },
   "outputs": [],
   "source": [
    "sch = StructType([\n",
    "    StructField(\"id\", IntegerType()),\n",
    "    StructField(\"name\", StringType()),\n",
    "    StructField(\"dob\", DateType()),\n",
    "    StructField(\"age\", IntegerType()),\n",
    "    StructField(\"salary\", IntegerType()),\n",
    "    StructField(\"department\", StringType()),\n",
    "])"
   ]
  },
  {
   "cell_type": "markdown",
   "metadata": {
    "application/vnd.databricks.v1+cell": {
     "cellMetadata": {
      "byteLimit": 2048000,
      "rowLimit": 10000
     },
     "inputWidgets": {},
     "nuid": "436f71cd-fa56-46e7-b455-9adba8b3aa94",
     "showTitle": false,
     "title": ""
    }
   },
   "source": [
    "##### Now schema is changed and loading csv again"
   ]
  },
  {
   "cell_type": "code",
   "execution_count": null,
   "metadata": {
    "application/vnd.databricks.v1+cell": {
     "cellMetadata": {
      "byteLimit": 2048000,
      "rowLimit": 10000
     },
     "inputWidgets": {},
     "nuid": "3e74c6ff-10f2-40ed-a824-282e675b4fae",
     "showTitle": false,
     "title": ""
    }
   },
   "outputs": [
    {
     "name": "stdout",
     "output_type": "stream",
     "text": [
      "root\n",
      " |-- id: integer (nullable = true)\n",
      " |-- name: string (nullable = true)\n",
      " |-- dob: date (nullable = true)\n",
      " |-- age: integer (nullable = true)\n",
      " |-- salary: integer (nullable = true)\n",
      " |-- department: string (nullable = true)\n",
      "\n",
      "+---+-----+----------+----+------+----------+\n",
      "| id| name|       dob| age|salary|department|\n",
      "+---+-----+----------+----+------+----------+\n",
      "|  1| John|1992-05-12|  30| 70000|        IT|\n",
      "|  2|Alice|1997-02-28|  25| 60000|        HR|\n",
      "|  3|  Bob|      null|null| 80000|        IT|\n",
      "|  4|Emily|1994-11-22|  28| 65000|   Finance|\n",
      "+---+-----+----------+----+------+----------+\n",
      "\n"
     ]
    }
   ],
   "source": [
    "df_csv = spark.read. format (\"csv\").schema(sch).options(header=True).load (\"dbfs:/FileStore/tables/csv/batch.csv\")\n",
    "df_csv.printSchema()\n",
    "df_csv.show()"
   ]
  },
  {
   "cell_type": "markdown",
   "metadata": {
    "application/vnd.databricks.v1+cell": {
     "cellMetadata": {},
     "inputWidgets": {},
     "nuid": "a78219de-5b0a-48dc-baa9-b229d4026417",
     "showTitle": false,
     "title": ""
    }
   },
   "source": [
    "LOAD JSON "
   ]
  },
  {
   "cell_type": "code",
   "execution_count": null,
   "metadata": {
    "application/vnd.databricks.v1+cell": {
     "cellMetadata": {
      "byteLimit": 2048000,
      "rowLimit": 10000
     },
     "inputWidgets": {},
     "nuid": "ff653518-2047-44a6-8990-e709027181bc",
     "showTitle": false,
     "title": ""
    }
   },
   "outputs": [
    {
     "name": "stdout",
     "output_type": "stream",
     "text": [
      "+----+----------+----------+---+------+------+\n",
      "| age|department|       dob| id|  name|salary|\n",
      "+----+----------+----------+---+------+------+\n",
      "|  30|        IT|1992-05-12|  1|  John| 70000|\n",
      "|  25|        HR|1997-02-28|  2| Alice| 60000|\n",
      "|null|        IT|      null|  3|   Bob| 80000|\n",
      "|  28|   Finance|1994-11-22|  4| Emily| 65000|\n",
      "|  41|        HR|1981-12-18|  5| David| 90000|\n",
      "|  33|   Finance|1989-07-05|  6| Susan| 75000|\n",
      "|  46|        IT|1976-03-15|  7|  Mike| 95000|\n",
      "|  30|   Finance|1992-06-30| 10|Sophie| 62000|\n",
      "|  25|   Finance|1997-02-28|  2| Alice| 90000|\n",
      "|  28|   Finance|1994-11-22|  4| Emily| 70000|\n",
      "|  39|        IT|1983-10-14|  9| James| 87000|\n",
      "|  30|        IT|1992-05-12|  1|  John| 70000|\n",
      "|  27|        HR|1995-08-20|  8|  Lisa| 58000|\n",
      "+----+----------+----------+---+------+------+\n",
      "\n",
      "root\n",
      " |-- age: long (nullable = true)\n",
      " |-- department: string (nullable = true)\n",
      " |-- dob: string (nullable = true)\n",
      " |-- id: long (nullable = true)\n",
      " |-- name: string (nullable = true)\n",
      " |-- salary: long (nullable = true)\n",
      "\n"
     ]
    }
   ],
   "source": [
    "df_json = spark.read. format (\"json\").load (\"dbfs:/FileStore/tables/json\")\n",
    "df_json.show()\n",
    "df_json.printSchema()"
   ]
  },
  {
   "cell_type": "markdown",
   "metadata": {
    "application/vnd.databricks.v1+cell": {
     "cellMetadata": {},
     "inputWidgets": {},
     "nuid": "52607189-1a8f-4987-8459-0f45f407df88",
     "showTitle": false,
     "title": ""
    }
   },
   "source": [
    "#### loading json with changed schema"
   ]
  },
  {
   "cell_type": "code",
   "execution_count": null,
   "metadata": {
    "application/vnd.databricks.v1+cell": {
     "cellMetadata": {
      "byteLimit": 2048000,
      "rowLimit": 10000
     },
     "inputWidgets": {},
     "nuid": "427cb691-4c2f-4199-afa7-4f7b893d46ea",
     "showTitle": false,
     "title": ""
    }
   },
   "outputs": [
    {
     "name": "stdout",
     "output_type": "stream",
     "text": [
      "root\n",
      " |-- id: integer (nullable = true)\n",
      " |-- name: string (nullable = true)\n",
      " |-- dob: date (nullable = true)\n",
      " |-- age: integer (nullable = true)\n",
      " |-- salary: integer (nullable = true)\n",
      " |-- department: string (nullable = true)\n",
      "\n",
      "+---+------+----------+----+------+----------+\n",
      "| id|  name|       dob| age|salary|department|\n",
      "+---+------+----------+----+------+----------+\n",
      "|  1|  John|1992-05-12|  30| 70000|        IT|\n",
      "|  2| Alice|1997-02-28|  25| 60000|        HR|\n",
      "|  3|   Bob|      null|null| 80000|        IT|\n",
      "|  4| Emily|1994-11-22|  28| 65000|   Finance|\n",
      "|  5| David|1981-12-18|  41| 90000|        HR|\n",
      "|  6| Susan|1989-07-05|  33| 75000|   Finance|\n",
      "|  7|  Mike|1976-03-15|  46| 95000|        IT|\n",
      "| 10|Sophie|1992-06-30|  30| 62000|   Finance|\n",
      "|  2| Alice|1997-02-28|  25| 90000|   Finance|\n",
      "|  4| Emily|1994-11-22|  28| 70000|   Finance|\n",
      "|  9| James|1983-10-14|  39| 87000|        IT|\n",
      "|  1|  John|1992-05-12|  30| 70000|        IT|\n",
      "|  8|  Lisa|1995-08-20|  27| 58000|        HR|\n",
      "+---+------+----------+----+------+----------+\n",
      "\n"
     ]
    }
   ],
   "source": [
    "df_json = spark.read.format('json').schema(sch).load(\"dbfs:/FileStore/tables/json\")\n",
    "df_json.printSchema()\n",
    "df_json.show()"
   ]
  },
  {
   "cell_type": "markdown",
   "metadata": {
    "application/vnd.databricks.v1+cell": {
     "cellMetadata": {
      "byteLimit": 2048000,
      "rowLimit": 10000
     },
     "inputWidgets": {},
     "nuid": "e7392ba7-e9bb-4c91-8021-e3761fdda922",
     "showTitle": false,
     "title": ""
    }
   },
   "source": [
    "UNION - apply on csv and json data"
   ]
  },
  {
   "cell_type": "code",
   "execution_count": null,
   "metadata": {
    "application/vnd.databricks.v1+cell": {
     "cellMetadata": {
      "byteLimit": 2048000,
      "rowLimit": 10000
     },
     "inputWidgets": {},
     "nuid": "4435da0f-92c8-4f0e-a208-b1273282bafc",
     "showTitle": false,
     "title": ""
    }
   },
   "outputs": [
    {
     "name": "stdout",
     "output_type": "stream",
     "text": [
      "+---+------+----------+----+------+----------+\n",
      "| id|  name|       dob| age|salary|department|\n",
      "+---+------+----------+----+------+----------+\n",
      "|  1|  John|1992-05-12|  30| 70000|        IT|\n",
      "|  2| Alice|1997-02-28|  25| 60000|        HR|\n",
      "|  3|   Bob|      null|null| 80000|        IT|\n",
      "|  4| Emily|1994-11-22|  28| 65000|   Finance|\n",
      "|  1|  John|1992-05-12|  30| 70000|        IT|\n",
      "|  2| Alice|1997-02-28|  25| 60000|        HR|\n",
      "|  3|   Bob|      null|null| 80000|        IT|\n",
      "|  4| Emily|1994-11-22|  28| 65000|   Finance|\n",
      "|  5| David|1981-12-18|  41| 90000|        HR|\n",
      "|  6| Susan|1989-07-05|  33| 75000|   Finance|\n",
      "|  7|  Mike|1976-03-15|  46| 95000|        IT|\n",
      "| 10|Sophie|1992-06-30|  30| 62000|   Finance|\n",
      "|  2| Alice|1997-02-28|  25| 90000|   Finance|\n",
      "|  4| Emily|1994-11-22|  28| 70000|   Finance|\n",
      "|  9| James|1983-10-14|  39| 87000|        IT|\n",
      "|  1|  John|1992-05-12|  30| 70000|        IT|\n",
      "|  8|  Lisa|1995-08-20|  27| 58000|        HR|\n",
      "+---+------+----------+----+------+----------+\n",
      "\n",
      "root\n",
      " |-- id: integer (nullable = true)\n",
      " |-- name: string (nullable = true)\n",
      " |-- dob: date (nullable = true)\n",
      " |-- age: integer (nullable = true)\n",
      " |-- salary: integer (nullable = true)\n",
      " |-- department: string (nullable = true)\n",
      "\n"
     ]
    }
   ],
   "source": [
    "df = df_csv.union(df_json)\n",
    "df.show()\n",
    "df.printSchema()"
   ]
  },
  {
   "cell_type": "code",
   "execution_count": null,
   "metadata": {
    "application/vnd.databricks.v1+cell": {
     "cellMetadata": {
      "byteLimit": 2048000,
      "rowLimit": 10000
     },
     "inputWidgets": {},
     "nuid": "0f38992c-3b1d-4269-8c88-9c5051745f8d",
     "showTitle": false,
     "title": ""
    }
   },
   "outputs": [
    {
     "name": "stdout",
     "output_type": "stream",
     "text": [
      "['id', 'name', 'dob', 'age', 'salary', 'department'] ['id', 'name', 'dob', 'age', 'salary', 'department']\n",
      "Out[14]: 17"
     ]
    }
   ],
   "source": [
    "print(df_csv.columns, df_json.columns)\n",
    "df.count()"
   ]
  },
  {
   "cell_type": "code",
   "execution_count": null,
   "metadata": {
    "application/vnd.databricks.v1+cell": {
     "cellMetadata": {
      "byteLimit": 2048000,
      "rowLimit": 10000
     },
     "inputWidgets": {},
     "nuid": "c0a06eb4-f3ad-43ae-8e9a-df1f67ab4d8d",
     "showTitle": false,
     "title": ""
    }
   },
   "outputs": [],
   "source": [
    "# Mapping columns based on datapoints i.e. id from json to id from csv\n",
    "# df_json = df_json.select(df_csv.columns)\n"
   ]
  },
  {
   "cell_type": "markdown",
   "metadata": {
    "application/vnd.databricks.v1+cell": {
     "cellMetadata": {},
     "inputWidgets": {},
     "nuid": "0c33a476-bde3-44e1-a09b-36435c0d7cc2",
     "showTitle": false,
     "title": ""
    }
   },
   "source": [
    "TASK -1 : \n",
    "- load both the csv and json files. union them properly\n",
    "- Instead of dropping the duplicates, create a boolean column is_duplicate and set False to only one and True to the rest of them"
   ]
  },
  {
   "cell_type": "code",
   "execution_count": null,
   "metadata": {
    "application/vnd.databricks.v1+cell": {
     "cellMetadata": {
      "byteLimit": 2048000,
      "rowLimit": 10000
     },
     "inputWidgets": {},
     "nuid": "1dd13511-3044-4f04-8495-6146eda53a28",
     "showTitle": false,
     "title": ""
    }
   },
   "outputs": [
    {
     "name": "stdout",
     "output_type": "stream",
     "text": [
      "+---+------+----------+----+------+----------+------------+\n",
      "| id|  name|       dob| age|salary|department|is_duplicate|\n",
      "+---+------+----------+----+------+----------+------------+\n",
      "|  1|  John|1992-05-12|  30| 70000|        IT|       false|\n",
      "|  1|  John|1992-05-12|  30| 70000|        IT|        true|\n",
      "|  1|  John|1992-05-12|  30| 70000|        IT|        true|\n",
      "|  2| Alice|1997-02-28|  25| 60000|        HR|       false|\n",
      "|  2| Alice|1997-02-28|  25| 60000|        HR|        true|\n",
      "|  2| Alice|1997-02-28|  25| 90000|   Finance|       false|\n",
      "|  3|   Bob|      null|null| 80000|        IT|       false|\n",
      "|  3|   Bob|      null|null| 80000|        IT|        true|\n",
      "|  4| Emily|1994-11-22|  28| 65000|   Finance|       false|\n",
      "|  4| Emily|1994-11-22|  28| 65000|   Finance|        true|\n",
      "|  4| Emily|1994-11-22|  28| 70000|   Finance|       false|\n",
      "|  5| David|1981-12-18|  41| 90000|        HR|       false|\n",
      "|  6| Susan|1989-07-05|  33| 75000|   Finance|       false|\n",
      "|  7|  Mike|1976-03-15|  46| 95000|        IT|       false|\n",
      "|  8|  Lisa|1995-08-20|  27| 58000|        HR|       false|\n",
      "|  9| James|1983-10-14|  39| 87000|        IT|       false|\n",
      "| 10|Sophie|1992-06-30|  30| 62000|   Finance|       false|\n",
      "+---+------+----------+----+------+----------+------------+\n",
      "\n"
     ]
    }
   ],
   "source": [
    "from pyspark.sql import functions as F\n",
    "from pyspark.sql.window import Window\n",
    "\n",
    "duplicate_window = Window.partitionBy(df.columns).orderBy(\"id\")\n",
    "\n",
    "# boolean values for the column is_duplicate \n",
    "df = df.withColumn(\n",
    "    \"is_duplicate\",\n",
    "    # F.row_number().over(duplicate_window) > 1  # or\n",
    "    F.row_number().over(duplicate_window) != 1 \n",
    ")\n",
    "\n",
    "df.show()"
   ]
  },
  {
   "cell_type": "markdown",
   "metadata": {
    "application/vnd.databricks.v1+cell": {
     "cellMetadata": {
      "byteLimit": 2048000,
      "rowLimit": 10000
     },
     "inputWidgets": {},
     "nuid": "2b3aa316-e0e6-486c-8d10-9502915ea005",
     "showTitle": false,
     "title": ""
    }
   },
   "source": [
    "TASK -2 : \n",
    "- Calculate mean salary and check if it is greater or equal to the salary of employees in each department.\n",
    "- Calculate mean salary and check if it is greater or equal to the salary of all employees."
   ]
  },
  {
   "cell_type": "code",
   "execution_count": null,
   "metadata": {
    "application/vnd.databricks.v1+cell": {
     "cellMetadata": {
      "byteLimit": 2048000,
      "rowLimit": 10000
     },
     "inputWidgets": {},
     "nuid": "f88b864c-361a-4038-9bf0-d758317238f1",
     "showTitle": false,
     "title": ""
    }
   },
   "outputs": [
    {
     "name": "stdout",
     "output_type": "stream",
     "text": [
      "+---+------+----------+----+------+----------+------------+----------------------------------------+\n",
      "| id|  name|       dob| age|salary|department|is_duplicate|mean_salary_greater_or_equals_department|\n",
      "+---+------+----------+----+------+----------+------------+----------------------------------------+\n",
      "|  2| Alice|1997-02-28|  25| 90000|   Finance|       false|                                    true|\n",
      "|  4| Emily|1994-11-22|  28| 65000|   Finance|       false|                                   false|\n",
      "|  4| Emily|1994-11-22|  28| 65000|   Finance|        true|                                   false|\n",
      "|  4| Emily|1994-11-22|  28| 70000|   Finance|       false|                                   false|\n",
      "|  6| Susan|1989-07-05|  33| 75000|   Finance|       false|                                    true|\n",
      "| 10|Sophie|1992-06-30|  30| 62000|   Finance|       false|                                   false|\n",
      "|  2| Alice|1997-02-28|  25| 60000|        HR|       false|                                   false|\n",
      "|  2| Alice|1997-02-28|  25| 60000|        HR|        true|                                   false|\n",
      "|  5| David|1981-12-18|  41| 90000|        HR|       false|                                    true|\n",
      "|  8|  Lisa|1995-08-20|  27| 58000|        HR|       false|                                   false|\n",
      "|  1|  John|1992-05-12|  30| 70000|        IT|       false|                                   false|\n",
      "|  1|  John|1992-05-12|  30| 70000|        IT|        true|                                   false|\n",
      "|  1|  John|1992-05-12|  30| 70000|        IT|        true|                                   false|\n",
      "|  3|   Bob|      null|null| 80000|        IT|       false|                                    true|\n",
      "|  3|   Bob|      null|null| 80000|        IT|        true|                                    true|\n",
      "|  7|  Mike|1976-03-15|  46| 95000|        IT|       false|                                    true|\n",
      "|  9| James|1983-10-14|  39| 87000|        IT|       false|                                    true|\n",
      "+---+------+----------+----+------+----------+------------+----------------------------------------+\n",
      "\n"
     ]
    }
   ],
   "source": [
    "window_spec = Window.partitionBy(\"department\")\n",
    "\n",
    "df_department = df.withColumn(\n",
    "    \"mean_salary_greater_or_equals_department\",\n",
    "    F.col(\"salary\") >= F.mean(\"salary\").over(window_spec)\n",
    "    # F.col(\"salary\")>= F.avg(F.col(\"salary\")).over(window_spec) \n",
    ")\n",
    "df_department.show()"
   ]
  },
  {
   "cell_type": "code",
   "execution_count": null,
   "metadata": {
    "application/vnd.databricks.v1+cell": {
     "cellMetadata": {
      "byteLimit": 2048000,
      "rowLimit": 10000
     },
     "inputWidgets": {},
     "nuid": "ea103094-400f-467a-9aaf-761100f97995",
     "showTitle": false,
     "title": ""
    }
   },
   "outputs": [
    {
     "name": "stdout",
     "output_type": "stream",
     "text": [
      "+---+------+----------+----+------+----------+------------+------------------------------------+\n",
      "| id|  name|       dob| age|salary|department|is_duplicate|is_salary_greater_or_equals_employee|\n",
      "+---+------+----------+----+------+----------+------------+------------------------------------+\n",
      "|  1|  John|1992-05-12|  30| 70000|        IT|       false|                               false|\n",
      "|  1|  John|1992-05-12|  30| 70000|        IT|        true|                               false|\n",
      "|  1|  John|1992-05-12|  30| 70000|        IT|        true|                               false|\n",
      "|  2| Alice|1997-02-28|  25| 60000|        HR|       false|                               false|\n",
      "|  2| Alice|1997-02-28|  25| 60000|        HR|        true|                               false|\n",
      "|  2| Alice|1997-02-28|  25| 90000|   Finance|       false|                                true|\n",
      "|  3|   Bob|      null|null| 80000|        IT|       false|                                true|\n",
      "|  3|   Bob|      null|null| 80000|        IT|        true|                                true|\n",
      "|  4| Emily|1994-11-22|  28| 65000|   Finance|       false|                               false|\n",
      "|  4| Emily|1994-11-22|  28| 65000|   Finance|        true|                               false|\n",
      "|  4| Emily|1994-11-22|  28| 70000|   Finance|       false|                               false|\n",
      "|  5| David|1981-12-18|  41| 90000|        HR|       false|                                true|\n",
      "|  6| Susan|1989-07-05|  33| 75000|   Finance|       false|                                true|\n",
      "|  7|  Mike|1976-03-15|  46| 95000|        IT|       false|                                true|\n",
      "|  8|  Lisa|1995-08-20|  27| 58000|        HR|       false|                               false|\n",
      "|  9| James|1983-10-14|  39| 87000|        IT|       false|                                true|\n",
      "| 10|Sophie|1992-06-30|  30| 62000|   Finance|       false|                               false|\n",
      "+---+------+----------+----+------+----------+------------+------------------------------------+\n",
      "\n"
     ]
    }
   ],
   "source": [
    "window_spec = Window.partitionBy()\n",
    "\n",
    "df_employee = df.withColumn(\n",
    "    \"is_salary_greater_or_equals_employee\",\n",
    "    (\n",
    "        F.col(\"salary\") >= F.mean(\"salary\").over(window_spec)\n",
    "    )\n",
    ")\n",
    "df_employee.show()"
   ]
  },
  {
   "cell_type": "code",
   "execution_count": null,
   "metadata": {
    "application/vnd.databricks.v1+cell": {
     "cellMetadata": {},
     "inputWidgets": {},
     "nuid": "21929863-4261-4fd4-8420-7e8453de4f6f",
     "showTitle": false,
     "title": ""
    }
   },
   "outputs": [],
   "source": []
  }
 ],
 "metadata": {
  "application/vnd.databricks.v1+notebook": {
   "dashboards": [],
   "language": "python",
   "notebookMetadata": {
    "mostRecentlyExecutedCommandWithImplicitDF": {
     "commandId": 1210713749254930,
     "dataframes": [
      "_sqldf"
     ]
    },
    "pythonIndentUnit": 4
   },
   "notebookName": "spark-DAY2-TASK-1 and TASK-2- 2024-02-12 12:09:51",
   "widgets": {}
  },
  "language_info": {
   "name": "python"
  }
 },
 "nbformat": 4,
 "nbformat_minor": 0
}
