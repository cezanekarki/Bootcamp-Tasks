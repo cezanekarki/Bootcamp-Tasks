{
 "cells": [
  {
   "cell_type": "code",
   "execution_count": 0,
   "metadata": {
    "application/vnd.databricks.v1+cell": {
     "cellMetadata": {
      "byteLimit": 2048000,
      "rowLimit": 10000
     },
     "inputWidgets": {},
     "nuid": "c0d62de7-7808-4e8d-ad7b-adea14fffa44",
     "showTitle": false,
     "title": ""
    }
   },
   "outputs": [],
   "source": []
  },
  {
   "cell_type": "code",
   "execution_count": 0,
   "metadata": {
    "application/vnd.databricks.v1+cell": {
     "cellMetadata": {
      "byteLimit": 2048000,
      "rowLimit": 10000
     },
     "inputWidgets": {},
     "nuid": "5279757a-cdc5-429e-94ff-b99be3571a65",
     "showTitle": true,
     "title": "Python Task 2"
    }
   },
   "outputs": [],
   "source": [
    "\n",
    "    data_dictionary = {\n",
    "        \"company\": {\n",
    "            \"name\": \"TechGiant\",\n",
    "            \"industry\": \"Technology\",\n",
    "            \"locations\": {\n",
    "                \"headquarters\": \"New York\",\n",
    "                \"branches\": [\"San Francisco\", \"Berlin\", \"Tokyo\"]\n",
    "            },\n",
    "            \"departments\": {\n",
    "                \"development\": {\n",
    "                    \"employees\": 120,\n",
    "                    \"projects\": [\"App Development\", \"Software Maintenance\"]\n",
    "                },\n",
    "                \"marketing\": {\n",
    "                    \"employees\": 45,\n",
    "                    \"projects\": [\"Brand Campaign\", \"Social Media\"]\n",
    "                },\n",
    "                \"sales\": {\n",
    "                    \"employees\": 70,\n",
    "                    \"projects\": [\"Domestic Sales\", \"International Sales\"]\n",
    "                }\n",
    "            }\n",
    "        },\n",
    "        \"market_info\": {\n",
    "            \"competitors\": [\"DataCorp\", \"InnovaCon\", \"NextGenTech\"],\n",
    "            \"market_trends\": {\n",
    "                \"current\": \"AI and Machine Learning\",\n",
    "                \"emerging\": \"Quantum Computing\"\n",
    "            }\n",
    "        }\n",
    "    }\n",
    "\n",
    " "
   ]
  },
  {
   "cell_type": "code",
   "execution_count": 0,
   "metadata": {
    "application/vnd.databricks.v1+cell": {
     "cellMetadata": {
      "byteLimit": 2048000,
      "rowLimit": 10000
     },
     "inputWidgets": {},
     "nuid": "de393c23-e2b6-48e1-89c8-d61b06c4d585",
     "showTitle": false,
     "title": ""
    }
   },
   "outputs": [
    {
     "output_type": "stream",
     "name": "stdout",
     "output_type": "stream",
     "text": [
      "{'company': {'name': 'TechGiant', 'industry': 'Technology', 'locations': {'headquarters': 'New York', 'branches': ['San Francisco', 'Berlin', 'Tokyo']}, 'departments': {'development': {'employees': 120, 'projects': ['App Development', 'Software Maintenance']}, 'marketing': {'employees': 45, 'projects': ['Brand Campaign', 'Social Media']}, 'sales': {'employees': 70, 'projects': ['Domestic Sales', 'International Sales']}}}, 'market_info': {'competitors': ['DataCorp', 'InnovaCon', 'NextGenTech'], 'market_trends': {'current': 'AI and Machine Learning', 'emerging': 'Quantum Computing'}}}\n"
     ]
    }
   ],
   "source": [
    "print(data_dictionary)\n"
   ]
  },
  {
   "cell_type": "code",
   "execution_count": 0,
   "metadata": {
    "application/vnd.databricks.v1+cell": {
     "cellMetadata": {
      "byteLimit": 2048000,
      "rowLimit": 10000
     },
     "inputWidgets": {},
     "nuid": "e48955a9-a052-454d-9d4f-8b9f1de36b77",
     "showTitle": false,
     "title": ""
    }
   },
   "outputs": [
    {
     "output_type": "stream",
     "name": "stdout",
     "output_type": "stream",
     "text": [
      "company_name: TechGiant\n"
     ]
    }
   ],
   "source": [
    "#  to display company name\n",
    "\n",
    "company_name= data_dictionary[\"company\"][\"name\"]\n",
    "print(\"company_name:\", company_name)\n",
    " \n",
    "    "
   ]
  },
  {
   "cell_type": "code",
   "execution_count": 0,
   "metadata": {
    "application/vnd.databricks.v1+cell": {
     "cellMetadata": {
      "byteLimit": 2048000,
      "rowLimit": 10000
     },
     "inputWidgets": {},
     "nuid": "f8b07222-9137-4196-8a85-1a071703eb67",
     "showTitle": false,
     "title": ""
    }
   },
   "outputs": [
    {
     "output_type": "stream",
     "name": "stdout",
     "output_type": "stream",
     "text": [
      "development_employees: 120\n"
     ]
    }
   ],
   "source": [
    "    # how many emplotees are there in development department\n",
    "\n",
    "development_employees = data_dictionary[\"company\"][\"departments\"][\"development\"][\"employees\"]\n",
    "print(\"development_employees:\", development_employees)\n",
    " "
   ]
  },
  {
   "cell_type": "code",
   "execution_count": 0,
   "metadata": {
    "application/vnd.databricks.v1+cell": {
     "cellMetadata": {
      "byteLimit": 2048000,
      "rowLimit": 10000
     },
     "inputWidgets": {},
     "nuid": "12db6988-8fbc-4d0a-9c5a-b15e8a099aac",
     "showTitle": false,
     "title": ""
    }
   },
   "outputs": [
    {
     "output_type": "stream",
     "name": "stdout",
     "output_type": "stream",
     "text": [
      "emerging_market_trend: Quantum Computing\nbranch_list: ['San Francisco', 'Berlin', 'Tokyo']\nmarketing_projects: ['Brand Campaign', 'Social Media']\ncompetitors_list: ['DataCorp', 'InnovaCon', 'NextGenTech']\ncompetitors_name: DataCorp\ncompany_industry: Technology\ncompany_headquater: New York\n"
     ]
    }
   ],
   "source": [
    "\n",
    "    # market trends\n",
    "    emerging_market_trend = data_dictionary[\"market_info\"][\"market_trends\"][\"emerging\"]\n",
    "    print(\"emerging_market_trend:\", emerging_market_trend)\n",
    " \n",
    "\n",
    "#  list of all the branch\n",
    "    branch_list = data_dictionary[\"company\"][\"locations\"][\"branches\"]\n",
    "    print(\"branch_list:\", branch_list)\n",
    " \n",
    "#  marketing projects\n",
    "    marketing_projects = data_dictionary[\"company\"][\"departments\"][\"marketing\"][\"projects\"]\n",
    "    print(\"marketing_projects:\", marketing_projects)\n",
    " \n",
    "\n",
    "#  competitors of the compamny\n",
    "    competitors_list= data_dictionary[\"market_info\"][\"competitors\"]\n",
    "    print(\"competitors_list:\", competitors_list)\n",
    " \n",
    "    competitors_name = competitors_list[0]\n",
    "    print(\"competitors_name:\", competitors_name)\n",
    " \n",
    "\n",
    "#  what industry is the company in\n",
    "    company_industry= data_dictionary[\"company\"][\"industry\"]\n",
    "    print(\"company_industry:\", company_industry)\n",
    "\n",
    "# where is the company headquarter\n",
    "    company_headquater = data_dictionary[\"company\"][\"locations\"][\"headquarters\"]\n",
    "    print(\"company_headquater:\", company_headquater)"
   ]
  },
  {
   "cell_type": "code",
   "execution_count": 0,
   "metadata": {
    "application/vnd.databricks.v1+cell": {
     "cellMetadata": {
      "byteLimit": 2048000,
      "rowLimit": 10000
     },
     "inputWidgets": {},
     "nuid": "31ed491d-fca0-4537-938b-037acffba64f",
     "showTitle": false,
     "title": ""
    }
   },
   "outputs": [],
   "source": []
  }
 ],
 "metadata": {
  "application/vnd.databricks.v1+notebook": {
   "dashboards": [],
   "language": "python",
   "notebookMetadata": {
    "pythonIndentUnit": 4
   },
   "notebookName": "DataDictionary Task 2",
   "widgets": {}
  }
 },
 "nbformat": 4,
 "nbformat_minor": 0
}
